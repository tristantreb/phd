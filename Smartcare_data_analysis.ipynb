{
 "cells": [
  {
   "cell_type": "code",
   "execution_count": 79,
   "metadata": {
    "collapsed": true,
    "pycharm": {
     "name": "#%%\n"
    }
   },
   "outputs": [],
   "source": [
    "import numpy as np\n",
    "import pandas as pd\n",
    "from datetime import datetime\n",
    "\n",
    "# settings\n",
    "datadir = \"../../SmartCareData/\""
   ]
  },
  {
   "cell_type": "code",
   "execution_count": 224,
   "outputs": [
    {
     "name": "stderr",
     "output_type": "stream",
     "text": [
      "/var/folders/zq/v2r6yn111s3gpdf8lzf72xvw0000gn/T/ipykernel_46758/1619914002.py:4: DtypeWarning: Columns (14) have mixed types. Specify dtype option on import or set low_memory=False.\n",
      "  measurements = pd.read_csv(datadir + \"mydata.csv\").convert_dtypes()\n"
     ]
    },
    {
     "data": {
      "text/plain": "                       User ID     UserName          Recording Type  \\\n0       VtussNQdJTdwKO4LuYroh4  Papworth004       ActivityRecording   \n1       VtussNQdJTdwKO4LuYroh4  Papworth004       ActivityRecording   \n2       VtussNQdJTdwKO4LuYroh4  Papworth004       ActivityRecording   \n3       VtussNQdJTdwKO4LuYroh4  Papworth004       ActivityRecording   \n4       VtussNQdJTdwKO4LuYroh4  Papworth004       ActivityRecording   \n...                        ...          ...                     ...   \n123142  c8uT2-nIew-wE2huQZXcy4    010wessex      PulseRateRecording   \n123143  c8uT2-nIew-wE2huQZXcy4    010wessex  SleepActivityRecording   \n123144  c8uT2-nIew-wE2huQZXcy4    010wessex   SputumSampleRecording   \n123145  c8uT2-nIew-wE2huQZXcy4    010wessex         WeightRecording   \n123146  c8uT2-nIew-wE2huQZXcy4    010wessex       WellnessRecording   \n\n       Date/Time recorded  FEV 1  FEV 10  Predicted FEV  FEV 1 %  \\\n0              2015-08-05   <NA>    <NA>           <NA>     <NA>   \n1              2015-08-06   <NA>    <NA>           <NA>     <NA>   \n2              2015-08-07   <NA>    <NA>           <NA>     <NA>   \n3              2015-08-08   <NA>    <NA>           <NA>     <NA>   \n4              2015-08-09   <NA>    <NA>           <NA>     <NA>   \n...                   ...    ...     ...            ...      ...   \n123142         2016-09-30   <NA>    <NA>           <NA>     <NA>   \n123143         2016-09-30   <NA>    <NA>           <NA>     <NA>   \n123144         2016-09-30   <NA>    <NA>           <NA>     <NA>   \n123145         2016-09-30   <NA>    <NA>           <NA>     <NA>   \n123146         2016-09-30   <NA>    <NA>           <NA>     <NA>   \n\n        Weight in Kg  O2 Saturation  Pulse (BPM)  Calories  Rating  \\\n0               <NA>           <NA>         <NA>      <NA>    <NA>   \n1               <NA>           <NA>         <NA>      <NA>    <NA>   \n2               <NA>           <NA>         <NA>      <NA>    <NA>   \n3               <NA>           <NA>         <NA>      <NA>    <NA>   \n4               <NA>           <NA>         <NA>      <NA>    <NA>   \n...              ...            ...          ...       ...     ...   \n123142          <NA>           <NA>           76      <NA>    <NA>   \n123143          <NA>           <NA>         <NA>      <NA>      75   \n123144          <NA>           <NA>         <NA>      <NA>    <NA>   \n123145       45.8125           <NA>         <NA>      <NA>    <NA>   \n123146          <NA>           <NA>         <NA>      <NA>      80   \n\n        Temp (deg C)  Sputum sample taken?  Activity - Steps  \\\n0               <NA>                  <NA>               258   \n1               <NA>                  <NA>               610   \n2               <NA>                  <NA>              <NA>   \n3               <NA>                  <NA>              <NA>   \n4               <NA>                  <NA>                 4   \n...              ...                   ...               ...   \n123142          <NA>                  <NA>              <NA>   \n123143          <NA>                  <NA>              <NA>   \n123144          <NA>                  True              <NA>   \n123145          <NA>                  <NA>              <NA>   \n123146          <NA>                  <NA>              <NA>   \n\n        Activity - Points              Patient_ID SmartCareID  \n0                      65  VtussNQdJTdwKO4LuYroh4          79  \n1                     163  VtussNQdJTdwKO4LuYroh4          79  \n2                    <NA>  VtussNQdJTdwKO4LuYroh4          79  \n3                    <NA>  VtussNQdJTdwKO4LuYroh4          79  \n4                       1  VtussNQdJTdwKO4LuYroh4          79  \n...                   ...                     ...         ...  \n123142               <NA>  c8uT2-nIew-wE2huQZXcy4         199  \n123143               <NA>  c8uT2-nIew-wE2huQZXcy4         199  \n123144               <NA>  c8uT2-nIew-wE2huQZXcy4         199  \n123145               <NA>  c8uT2-nIew-wE2huQZXcy4         199  \n123146               <NA>  c8uT2-nIew-wE2huQZXcy4         199  \n\n[123147 rows x 19 columns]",
      "text/html": "<div>\n<style scoped>\n    .dataframe tbody tr th:only-of-type {\n        vertical-align: middle;\n    }\n\n    .dataframe tbody tr th {\n        vertical-align: top;\n    }\n\n    .dataframe thead th {\n        text-align: right;\n    }\n</style>\n<table border=\"1\" class=\"dataframe\">\n  <thead>\n    <tr style=\"text-align: right;\">\n      <th></th>\n      <th>User ID</th>\n      <th>UserName</th>\n      <th>Recording Type</th>\n      <th>Date/Time recorded</th>\n      <th>FEV 1</th>\n      <th>FEV 10</th>\n      <th>Predicted FEV</th>\n      <th>FEV 1 %</th>\n      <th>Weight in Kg</th>\n      <th>O2 Saturation</th>\n      <th>Pulse (BPM)</th>\n      <th>Calories</th>\n      <th>Rating</th>\n      <th>Temp (deg C)</th>\n      <th>Sputum sample taken?</th>\n      <th>Activity - Steps</th>\n      <th>Activity - Points</th>\n      <th>Patient_ID</th>\n      <th>SmartCareID</th>\n    </tr>\n  </thead>\n  <tbody>\n    <tr>\n      <th>0</th>\n      <td>VtussNQdJTdwKO4LuYroh4</td>\n      <td>Papworth004</td>\n      <td>ActivityRecording</td>\n      <td>2015-08-05</td>\n      <td>&lt;NA&gt;</td>\n      <td>&lt;NA&gt;</td>\n      <td>&lt;NA&gt;</td>\n      <td>&lt;NA&gt;</td>\n      <td>&lt;NA&gt;</td>\n      <td>&lt;NA&gt;</td>\n      <td>&lt;NA&gt;</td>\n      <td>&lt;NA&gt;</td>\n      <td>&lt;NA&gt;</td>\n      <td>&lt;NA&gt;</td>\n      <td>&lt;NA&gt;</td>\n      <td>258</td>\n      <td>65</td>\n      <td>VtussNQdJTdwKO4LuYroh4</td>\n      <td>79</td>\n    </tr>\n    <tr>\n      <th>1</th>\n      <td>VtussNQdJTdwKO4LuYroh4</td>\n      <td>Papworth004</td>\n      <td>ActivityRecording</td>\n      <td>2015-08-06</td>\n      <td>&lt;NA&gt;</td>\n      <td>&lt;NA&gt;</td>\n      <td>&lt;NA&gt;</td>\n      <td>&lt;NA&gt;</td>\n      <td>&lt;NA&gt;</td>\n      <td>&lt;NA&gt;</td>\n      <td>&lt;NA&gt;</td>\n      <td>&lt;NA&gt;</td>\n      <td>&lt;NA&gt;</td>\n      <td>&lt;NA&gt;</td>\n      <td>&lt;NA&gt;</td>\n      <td>610</td>\n      <td>163</td>\n      <td>VtussNQdJTdwKO4LuYroh4</td>\n      <td>79</td>\n    </tr>\n    <tr>\n      <th>2</th>\n      <td>VtussNQdJTdwKO4LuYroh4</td>\n      <td>Papworth004</td>\n      <td>ActivityRecording</td>\n      <td>2015-08-07</td>\n      <td>&lt;NA&gt;</td>\n      <td>&lt;NA&gt;</td>\n      <td>&lt;NA&gt;</td>\n      <td>&lt;NA&gt;</td>\n      <td>&lt;NA&gt;</td>\n      <td>&lt;NA&gt;</td>\n      <td>&lt;NA&gt;</td>\n      <td>&lt;NA&gt;</td>\n      <td>&lt;NA&gt;</td>\n      <td>&lt;NA&gt;</td>\n      <td>&lt;NA&gt;</td>\n      <td>&lt;NA&gt;</td>\n      <td>&lt;NA&gt;</td>\n      <td>VtussNQdJTdwKO4LuYroh4</td>\n      <td>79</td>\n    </tr>\n    <tr>\n      <th>3</th>\n      <td>VtussNQdJTdwKO4LuYroh4</td>\n      <td>Papworth004</td>\n      <td>ActivityRecording</td>\n      <td>2015-08-08</td>\n      <td>&lt;NA&gt;</td>\n      <td>&lt;NA&gt;</td>\n      <td>&lt;NA&gt;</td>\n      <td>&lt;NA&gt;</td>\n      <td>&lt;NA&gt;</td>\n      <td>&lt;NA&gt;</td>\n      <td>&lt;NA&gt;</td>\n      <td>&lt;NA&gt;</td>\n      <td>&lt;NA&gt;</td>\n      <td>&lt;NA&gt;</td>\n      <td>&lt;NA&gt;</td>\n      <td>&lt;NA&gt;</td>\n      <td>&lt;NA&gt;</td>\n      <td>VtussNQdJTdwKO4LuYroh4</td>\n      <td>79</td>\n    </tr>\n    <tr>\n      <th>4</th>\n      <td>VtussNQdJTdwKO4LuYroh4</td>\n      <td>Papworth004</td>\n      <td>ActivityRecording</td>\n      <td>2015-08-09</td>\n      <td>&lt;NA&gt;</td>\n      <td>&lt;NA&gt;</td>\n      <td>&lt;NA&gt;</td>\n      <td>&lt;NA&gt;</td>\n      <td>&lt;NA&gt;</td>\n      <td>&lt;NA&gt;</td>\n      <td>&lt;NA&gt;</td>\n      <td>&lt;NA&gt;</td>\n      <td>&lt;NA&gt;</td>\n      <td>&lt;NA&gt;</td>\n      <td>&lt;NA&gt;</td>\n      <td>4</td>\n      <td>1</td>\n      <td>VtussNQdJTdwKO4LuYroh4</td>\n      <td>79</td>\n    </tr>\n    <tr>\n      <th>...</th>\n      <td>...</td>\n      <td>...</td>\n      <td>...</td>\n      <td>...</td>\n      <td>...</td>\n      <td>...</td>\n      <td>...</td>\n      <td>...</td>\n      <td>...</td>\n      <td>...</td>\n      <td>...</td>\n      <td>...</td>\n      <td>...</td>\n      <td>...</td>\n      <td>...</td>\n      <td>...</td>\n      <td>...</td>\n      <td>...</td>\n      <td>...</td>\n    </tr>\n    <tr>\n      <th>123142</th>\n      <td>c8uT2-nIew-wE2huQZXcy4</td>\n      <td>010wessex</td>\n      <td>PulseRateRecording</td>\n      <td>2016-09-30</td>\n      <td>&lt;NA&gt;</td>\n      <td>&lt;NA&gt;</td>\n      <td>&lt;NA&gt;</td>\n      <td>&lt;NA&gt;</td>\n      <td>&lt;NA&gt;</td>\n      <td>&lt;NA&gt;</td>\n      <td>76</td>\n      <td>&lt;NA&gt;</td>\n      <td>&lt;NA&gt;</td>\n      <td>&lt;NA&gt;</td>\n      <td>&lt;NA&gt;</td>\n      <td>&lt;NA&gt;</td>\n      <td>&lt;NA&gt;</td>\n      <td>c8uT2-nIew-wE2huQZXcy4</td>\n      <td>199</td>\n    </tr>\n    <tr>\n      <th>123143</th>\n      <td>c8uT2-nIew-wE2huQZXcy4</td>\n      <td>010wessex</td>\n      <td>SleepActivityRecording</td>\n      <td>2016-09-30</td>\n      <td>&lt;NA&gt;</td>\n      <td>&lt;NA&gt;</td>\n      <td>&lt;NA&gt;</td>\n      <td>&lt;NA&gt;</td>\n      <td>&lt;NA&gt;</td>\n      <td>&lt;NA&gt;</td>\n      <td>&lt;NA&gt;</td>\n      <td>&lt;NA&gt;</td>\n      <td>75</td>\n      <td>&lt;NA&gt;</td>\n      <td>&lt;NA&gt;</td>\n      <td>&lt;NA&gt;</td>\n      <td>&lt;NA&gt;</td>\n      <td>c8uT2-nIew-wE2huQZXcy4</td>\n      <td>199</td>\n    </tr>\n    <tr>\n      <th>123144</th>\n      <td>c8uT2-nIew-wE2huQZXcy4</td>\n      <td>010wessex</td>\n      <td>SputumSampleRecording</td>\n      <td>2016-09-30</td>\n      <td>&lt;NA&gt;</td>\n      <td>&lt;NA&gt;</td>\n      <td>&lt;NA&gt;</td>\n      <td>&lt;NA&gt;</td>\n      <td>&lt;NA&gt;</td>\n      <td>&lt;NA&gt;</td>\n      <td>&lt;NA&gt;</td>\n      <td>&lt;NA&gt;</td>\n      <td>&lt;NA&gt;</td>\n      <td>&lt;NA&gt;</td>\n      <td>True</td>\n      <td>&lt;NA&gt;</td>\n      <td>&lt;NA&gt;</td>\n      <td>c8uT2-nIew-wE2huQZXcy4</td>\n      <td>199</td>\n    </tr>\n    <tr>\n      <th>123145</th>\n      <td>c8uT2-nIew-wE2huQZXcy4</td>\n      <td>010wessex</td>\n      <td>WeightRecording</td>\n      <td>2016-09-30</td>\n      <td>&lt;NA&gt;</td>\n      <td>&lt;NA&gt;</td>\n      <td>&lt;NA&gt;</td>\n      <td>&lt;NA&gt;</td>\n      <td>45.8125</td>\n      <td>&lt;NA&gt;</td>\n      <td>&lt;NA&gt;</td>\n      <td>&lt;NA&gt;</td>\n      <td>&lt;NA&gt;</td>\n      <td>&lt;NA&gt;</td>\n      <td>&lt;NA&gt;</td>\n      <td>&lt;NA&gt;</td>\n      <td>&lt;NA&gt;</td>\n      <td>c8uT2-nIew-wE2huQZXcy4</td>\n      <td>199</td>\n    </tr>\n    <tr>\n      <th>123146</th>\n      <td>c8uT2-nIew-wE2huQZXcy4</td>\n      <td>010wessex</td>\n      <td>WellnessRecording</td>\n      <td>2016-09-30</td>\n      <td>&lt;NA&gt;</td>\n      <td>&lt;NA&gt;</td>\n      <td>&lt;NA&gt;</td>\n      <td>&lt;NA&gt;</td>\n      <td>&lt;NA&gt;</td>\n      <td>&lt;NA&gt;</td>\n      <td>&lt;NA&gt;</td>\n      <td>&lt;NA&gt;</td>\n      <td>80</td>\n      <td>&lt;NA&gt;</td>\n      <td>&lt;NA&gt;</td>\n      <td>&lt;NA&gt;</td>\n      <td>&lt;NA&gt;</td>\n      <td>c8uT2-nIew-wE2huQZXcy4</td>\n      <td>199</td>\n    </tr>\n  </tbody>\n</table>\n<p>123147 rows × 19 columns</p>\n</div>"
     },
     "execution_count": 224,
     "metadata": {},
     "output_type": "execute_result"
    }
   ],
   "source": [
    "# Extract data and format datatypes\n",
    "# REFACTOR: if I don't format SmartCareID with convert_dtypes(), then it is an object rather than a string. The solution can be to manually enforce types instead of using convert_dtypes()\n",
    "id_map = pd.read_excel(datadir + \"patientidnew.xlsx\", dtype={'SmartCareID': str}).drop(\"Study_ID\", axis=1).convert_dtypes()\n",
    "measurements = pd.read_csv(datadir + \"mydata.csv\").convert_dtypes()\n",
    "measurements['Date/Time recorded'] = pd.to_datetime(measurements['Date/Time recorded']).dt.date\n",
    "\n",
    "# Map smartcare ids\n",
    "measurements = measurements.merge(id_map, left_on='User ID', right_on='Patient_ID', copy=True)\n",
    "measurements"
   ],
   "metadata": {
    "collapsed": false,
    "pycharm": {
     "name": "#%%\n"
    }
   }
  },
  {
   "cell_type": "code",
   "execution_count": 268,
   "outputs": [
    {
     "name": "stdout",
     "output_type": "stream",
     "text": [
      "14791 O2-FEV1 same day measurements. Lost 46% of rows with inner merge\n"
     ]
    }
   ],
   "source": [
    "# Get table with FEV1 and O2 values per day per user\n",
    "\n",
    "# Extract data for one column\n",
    "def extract_measure(label):\n",
    "    # Could also filter by Recording Type\n",
    "    data = measurements[measurements[ label ].notnull()][['SmartCareID', 'Date/Time recorded', label]]\n",
    "    return data\n",
    "\n",
    "O2 = extract_measure(\"O2 Saturation\")\n",
    "FEV1 = extract_measure(\"FEV 1\")\n",
    "length_outer_join = O2.merge(FEV1, on=['SmartCareID', 'Date/Time recorded'], how='outer').shape[0]\n",
    "length_left_join  = O2.merge(FEV1, on=['SmartCareID', 'Date/Time recorded'], how='left').shape[0]\n",
    "O2_FEV1 = O2.merge(FEV1, on=['SmartCareID', 'Date/Time recorded'], how='inner')\n",
    "print(\"{} O2-FEV1 same day measurements. Lost {:.0%} of rows with inner merge\".format( length_outer_join, (length_outer_join - O2_FEV1.shape[0])/O2_FEV1.shape[0]))"
   ],
   "metadata": {
    "collapsed": false,
    "pycharm": {
     "name": "#%%\n"
    }
   }
  },
  {
   "cell_type": "code",
   "execution_count": 269,
   "outputs": [
    {
     "data": {
      "text/plain": "      SmartCareID Date/Time recorded  O2 Saturation  FEV 1\n0              79         2015-09-10             95   1.53\n1              79         2015-09-11             97   1.68\n2              79         2015-09-12             97   1.48\n3              79         2015-08-13             95   1.63\n4              79         2015-11-07             94   1.52\n...           ...                ...            ...    ...\n10100          72         2016-06-23             94   1.14\n10101          72         2016-07-23             90    1.2\n10102          72         2016-06-21             95   1.02\n10103          72         2016-07-08             96   1.23\n10104         199         2016-09-30             97   2.38\n\n[10105 rows x 4 columns]",
      "text/html": "<div>\n<style scoped>\n    .dataframe tbody tr th:only-of-type {\n        vertical-align: middle;\n    }\n\n    .dataframe tbody tr th {\n        vertical-align: top;\n    }\n\n    .dataframe thead th {\n        text-align: right;\n    }\n</style>\n<table border=\"1\" class=\"dataframe\">\n  <thead>\n    <tr style=\"text-align: right;\">\n      <th></th>\n      <th>SmartCareID</th>\n      <th>Date/Time recorded</th>\n      <th>O2 Saturation</th>\n      <th>FEV 1</th>\n    </tr>\n  </thead>\n  <tbody>\n    <tr>\n      <th>0</th>\n      <td>79</td>\n      <td>2015-09-10</td>\n      <td>95</td>\n      <td>1.53</td>\n    </tr>\n    <tr>\n      <th>1</th>\n      <td>79</td>\n      <td>2015-09-11</td>\n      <td>97</td>\n      <td>1.68</td>\n    </tr>\n    <tr>\n      <th>2</th>\n      <td>79</td>\n      <td>2015-09-12</td>\n      <td>97</td>\n      <td>1.48</td>\n    </tr>\n    <tr>\n      <th>3</th>\n      <td>79</td>\n      <td>2015-08-13</td>\n      <td>95</td>\n      <td>1.63</td>\n    </tr>\n    <tr>\n      <th>4</th>\n      <td>79</td>\n      <td>2015-11-07</td>\n      <td>94</td>\n      <td>1.52</td>\n    </tr>\n    <tr>\n      <th>...</th>\n      <td>...</td>\n      <td>...</td>\n      <td>...</td>\n      <td>...</td>\n    </tr>\n    <tr>\n      <th>10100</th>\n      <td>72</td>\n      <td>2016-06-23</td>\n      <td>94</td>\n      <td>1.14</td>\n    </tr>\n    <tr>\n      <th>10101</th>\n      <td>72</td>\n      <td>2016-07-23</td>\n      <td>90</td>\n      <td>1.2</td>\n    </tr>\n    <tr>\n      <th>10102</th>\n      <td>72</td>\n      <td>2016-06-21</td>\n      <td>95</td>\n      <td>1.02</td>\n    </tr>\n    <tr>\n      <th>10103</th>\n      <td>72</td>\n      <td>2016-07-08</td>\n      <td>96</td>\n      <td>1.23</td>\n    </tr>\n    <tr>\n      <th>10104</th>\n      <td>199</td>\n      <td>2016-09-30</td>\n      <td>97</td>\n      <td>2.38</td>\n    </tr>\n  </tbody>\n</table>\n<p>10105 rows × 4 columns</p>\n</div>"
     },
     "execution_count": 269,
     "metadata": {},
     "output_type": "execute_result"
    }
   ],
   "source": [
    "O2_FEV1"
   ],
   "metadata": {
    "collapsed": false,
    "pycharm": {
     "name": "#%%\n"
    }
   }
  },
  {
   "cell_type": "code",
   "execution_count": null,
   "outputs": [],
   "source": [],
   "metadata": {
    "collapsed": false,
    "pycharm": {
     "name": "#%%\n"
    }
   }
  }
 ],
 "metadata": {
  "kernelspec": {
   "display_name": "Python 3",
   "language": "python",
   "name": "python3"
  },
  "language_info": {
   "codemirror_mode": {
    "name": "ipython",
    "version": 2
   },
   "file_extension": ".py",
   "mimetype": "text/x-python",
   "name": "python",
   "nbconvert_exporter": "python",
   "pygments_lexer": "ipython2",
   "version": "2.7.6"
  }
 },
 "nbformat": 4,
 "nbformat_minor": 0
}