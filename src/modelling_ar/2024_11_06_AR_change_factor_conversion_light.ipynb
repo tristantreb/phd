{
 "cells": [
  {
   "cell_type": "code",
   "execution_count": 1,
   "metadata": {},
   "outputs": [],
   "source": [
    "import src.data.breathe_data as br\n",
    "import src.data.helpers as dh\n",
    "import src.models.helpers as mh\n",
    "import src.inference.helpers as ih\n",
    "import src.modelling_fef2575.cpt_and_plots as cpt_and_plots\n",
    "import src.models.var_builders as var_builders\n",
    "import src.models.graph_builders as graph_builders\n",
    "from src.inference.inf_algs import apply_bayes_net_bp, apply_factor_graph_bp\n",
    "\n",
    "import numpy as np\n",
    "import pandas as pd\n",
    "import plotly.express as px\n",
    "import plotly.graph_objects as go\n",
    "from plotly.subplots import make_subplots\n",
    "import src.models.cpts.helpers as cpth"
   ]
  },
  {
   "cell_type": "code",
   "execution_count": 10,
   "metadata": {},
   "outputs": [],
   "source": [
    "AR = mh.VariableNode(\"Airway resistance (%)\", 0, 90, 2, prior=None)\n",
    "DE = mh.DiscreteVariableNode(\"Days elapsed\", 1, 3, 1)\n",
    "\n",
    "cpt = cpth.get_cpt([AR, AR, DE], \"_shift_span_[-20;20]_joint_sampling_3_days_model\")\n",
    "\n",
    "AR_light = mh.VariableNode(\"Airway resistance (%)\", 0, 90, 10, prior=None)"
   ]
  },
  {
   "cell_type": "code",
   "execution_count": 2,
   "metadata": {},
   "outputs": [],
   "source": [
    "AR = mh.VariableNode(\"Airway resistance (%)\", 0, 90, 2, prior=None)\n",
    "S = mh.DiscreteVariableNode(\"AR change factor shape\", 2, 10, 2)\n",
    "\n",
    "cpt = cpth.get_cpt([AR, AR, S], \"_shape_factor\")\n",
    "\n",
    "AR_light = mh.VariableNode(\"Airway resistance (%)\", 0, 90, 10, prior=None)"
   ]
  },
  {
   "cell_type": "code",
   "execution_count": 3,
   "metadata": {},
   "outputs": [
    {
     "name": "stdout",
     "output_type": "stream",
     "text": [
      "(45, 45, 5)\n",
      "(9, 9, 5)\n"
     ]
    }
   ],
   "source": [
    "AR1_light = mh.VariableNode(\n",
    "    \"Airway resistance day 1 (%)\", 0, 90, 10, prior={\"type\": \"uniform\"}\n",
    ")\n",
    "AR2_light = mh.VariableNode(\n",
    "    \"Airway resistance day 2 (%)\", 0, 90, 10, prior={\"type\": \"uniform\"}\n",
    ")\n",
    "\n",
    "print(cpt.shape)\n",
    "# light_cpt = np.zeros((AR1_light.card, AR2_light.card, DE.card))\n",
    "light_cpt = np.zeros((AR1_light.card, AR2_light.card, S.card))\n",
    "print(light_cpt.shape)\n",
    "\n",
    "# Marginalise the CPT over the light resolution\n",
    "for i in range(AR1_light.card):\n",
    "    for j in range(AR2_light.card):\n",
    "        # for k in range(DE.card):\n",
    "        for k in range(S.card):\n",
    "            light_cpt[i, j, k] = np.sum(\n",
    "                cpt[i * 5 : (i + 1) * 5, j * 5 : (j + 1) * 5, k]\n",
    "            )\n",
    "\n",
    "# Normalise the CPT\n",
    "light_cpt = light_cpt / np.sum(light_cpt, axis=(0))"
   ]
  },
  {
   "cell_type": "code",
   "execution_count": 4,
   "metadata": {},
   "outputs": [
    {
     "data": {
      "text/plain": [
       "array([[[8.98962806e-01, 7.90415173e-01, 6.92679549e-01, 6.13557153e-01,\n",
       "         5.51421665e-01],\n",
       "        [9.91730391e-02, 1.72605648e-01, 2.09441874e-01, 2.25079431e-01,\n",
       "         2.30410720e-01],\n",
       "        [6.67178200e-04, 1.38829068e-02, 3.77336321e-02, 6.00872753e-02,\n",
       "         7.75764975e-02],\n",
       "        [4.49536402e-06, 1.13770595e-03, 7.06590509e-03, 1.68882469e-02,\n",
       "         2.76829807e-02],\n",
       "        [3.02630336e-08, 9.20256749e-05, 1.28963228e-03, 4.59063289e-03,\n",
       "         9.50611701e-03],\n",
       "        [1.43476758e-10, 3.11687361e-06, 7.48187067e-05, 3.39615502e-04,\n",
       "         8.07472027e-04],\n",
       "        [0.00000000e+00, 0.00000000e+00, 0.00000000e+00, 0.00000000e+00,\n",
       "         0.00000000e+00],\n",
       "        [0.00000000e+00, 0.00000000e+00, 0.00000000e+00, 0.00000000e+00,\n",
       "         0.00000000e+00],\n",
       "        [0.00000000e+00, 0.00000000e+00, 0.00000000e+00, 0.00000000e+00,\n",
       "         0.00000000e+00]],\n",
       "\n",
       "       [[1.00356411e-01, 1.92388628e-01, 2.49580076e-01, 2.77572296e-01,\n",
       "         2.88832640e-01],\n",
       "        [8.01849821e-01, 6.42408723e-01, 5.38298580e-01, 4.68669327e-01,\n",
       "         4.19407166e-01],\n",
       "        [9.90180244e-02, 1.69128428e-01, 1.99780340e-01, 2.09725198e-01,\n",
       "         2.10874783e-01],\n",
       "        [6.67171176e-04, 1.38600959e-02, 3.74103642e-02, 5.89457738e-02,\n",
       "         7.52501434e-02],\n",
       "        [4.49536371e-06, 1.13755435e-03, 7.05493719e-03, 1.68029210e-02,\n",
       "         2.74078493e-02],\n",
       "        [3.02630337e-08, 9.20300621e-05, 1.29072125e-03, 4.60572532e-03,\n",
       "         9.57396106e-03],\n",
       "        [1.43476809e-10, 3.11808097e-06, 7.50906230e-05, 3.43188619e-04,\n",
       "         8.23044427e-04],\n",
       "        [0.00000000e+00, 0.00000000e+00, 0.00000000e+00, 0.00000000e+00,\n",
       "         0.00000000e+00],\n",
       "        [0.00000000e+00, 0.00000000e+00, 0.00000000e+00, 0.00000000e+00,\n",
       "         0.00000000e+00]],\n",
       "\n",
       "       [[6.76196178e-04, 1.57922203e-02, 4.71395873e-02, 7.95257942e-02,\n",
       "         1.06255590e-01],\n",
       "        [9.83102369e-02, 1.69807198e-01, 2.04849987e-01, 2.19916611e-01,\n",
       "         2.25365214e-01],\n",
       "        [8.01349911e-01, 6.33608032e-01, 5.17944971e-01, 4.40315985e-01,\n",
       "         3.86601321e-01],\n",
       "        [9.90169819e-02, 1.68850534e-01, 1.98068801e-01, 2.05740966e-01,\n",
       "         2.04551097e-01],\n",
       "        [6.67171129e-04, 1.38582490e-02, 3.73522948e-02, 5.86479568e-02,\n",
       "         7.45022586e-02],\n",
       "        [4.49536373e-06, 1.13761058e-03, 7.06117601e-03, 1.68609855e-02,\n",
       "         2.76137498e-02],\n",
       "        [3.02630585e-08, 9.20931482e-05, 1.29786117e-03, 4.67338341e-03,\n",
       "         9.81812461e-03],\n",
       "        [1.43484365e-10, 3.13286972e-06, 7.65647840e-05, 3.56281562e-04,\n",
       "         8.68613094e-04],\n",
       "        [0.00000000e+00, 0.00000000e+00, 0.00000000e+00, 0.00000000e+00,\n",
       "         0.00000000e+00]],\n",
       "\n",
       "       [[4.55617401e-06, 1.29630438e-03, 8.90351797e-03, 2.27845215e-02,\n",
       "         3.90892472e-02],\n",
       "        [6.62409166e-04, 1.39386236e-02, 3.86911648e-02, 6.30071639e-02,\n",
       "         8.29072291e-02],\n",
       "        [9.82980664e-02, 1.68333862e-01, 1.98580331e-01, 2.08144232e-01,\n",
       "         2.09099496e-01],\n",
       "        [8.01346548e-01, 6.32900787e-01, 5.14306100e-01, 4.32885792e-01,\n",
       "         3.75883970e-01],\n",
       "        [9.90169749e-02, 1.68828034e-01, 1.97761353e-01, 2.04701483e-01,\n",
       "         2.02518136e-01],\n",
       "        [6.67171132e-04, 1.38589340e-02, 3.73853261e-02, 5.88506222e-02,\n",
       "         7.50619544e-02],\n",
       "        [4.49536745e-06, 1.13841314e-03, 7.10151794e-03, 1.71165432e-02,\n",
       "         2.83389676e-02],\n",
       "        [3.02667405e-08, 9.28729578e-05, 1.33736533e-03, 4.92838167e-03,\n",
       "         1.05562183e-02],\n",
       "        [1.44617049e-10, 3.32582471e-06, 8.54836336e-05, 4.11210139e-04,\n",
       "         1.02296513e-03]],\n",
       "\n",
       "       [[3.06644378e-08, 1.04359845e-04, 1.61196652e-03, 6.14962240e-03,\n",
       "         1.33789900e-02],\n",
       "        [4.46327785e-06, 1.14415190e-03, 7.30781707e-03, 1.80518547e-02,\n",
       "         3.04998651e-02],\n",
       "        [6.62327161e-04, 1.38176848e-02, 3.75069796e-02, 5.96343209e-02,\n",
       "         7.69234057e-02],\n",
       "        [9.82979844e-02, 1.68214751e-01, 1.97449453e-01, 2.05030745e-01,\n",
       "         2.03740424e-01],\n",
       "        [8.01346525e-01, 6.32845465e-01, 5.13682975e-01, 4.31040496e-01,\n",
       "         3.72596025e-01],\n",
       "        [9.90169754e-02, 1.68836380e-01, 1.97936237e-01, 2.05408855e-01,\n",
       "         2.04039547e-01],\n",
       "        [6.67171684e-04, 1.38687113e-02, 3.75989161e-02, 5.97426059e-02,\n",
       "         7.70333008e-02],\n",
       "        [4.49591999e-06, 1.14833979e-03, 7.32514984e-03, 1.80826782e-02,\n",
       "         3.05397402e-02],\n",
       "        [3.08834877e-08, 1.04685692e-04, 1.61484652e-03, 6.15684044e-03,\n",
       "         1.33902207e-02]],\n",
       "\n",
       "       [[1.43575307e-10, 3.31440402e-06, 8.53034633e-05, 4.10613159e-04,\n",
       "         1.02186738e-03],\n",
       "        [3.00469918e-08, 9.25341632e-05, 1.33419647e-03, 4.91995616e-03,\n",
       "         1.05423725e-02],\n",
       "        [4.46272531e-06, 1.13422464e-03, 7.08415339e-03, 1.70855190e-02,\n",
       "         2.82985395e-02],\n",
       "        [6.62326609e-04, 1.38079076e-02, 3.72933845e-02, 5.87422920e-02,\n",
       "         7.49519134e-02],\n",
       "        [9.82979839e-02, 1.68206398e-01, 1.97274452e-01, 2.04322995e-01,\n",
       "         2.02218331e-01],\n",
       "        [8.01346548e-01, 6.32900626e-01, 5.14304784e-01, 4.32882696e-01,\n",
       "         3.75879370e-01],\n",
       "        [9.90170573e-02, 1.68955491e-01, 1.99067087e-01, 2.08522184e-01,\n",
       "         2.09398222e-01],\n",
       "        [6.67253688e-04, 1.39896426e-02, 3.87829330e-02, 6.31147484e-02,\n",
       "         8.30156209e-02],\n",
       "        [4.58870872e-06, 1.30031658e-03, 8.91909227e-03, 2.28104335e-02,\n",
       "         3.91207863e-02]],\n",
       "\n",
       "       [[0.00000000e+00, 0.00000000e+00, 0.00000000e+00, 0.00000000e+00,\n",
       "         0.00000000e+00],\n",
       "        [1.42442539e-10, 3.12139387e-06, 7.63808031e-05, 3.55656973e-04,\n",
       "         8.67432729e-04],\n",
       "        [3.00433098e-08, 9.17543074e-05, 1.29468694e-03, 4.66490709e-03,\n",
       "         9.80410062e-03],\n",
       "        [4.46272159e-06, 1.13342207e-03, 7.04381048e-03, 1.68299484e-02,\n",
       "         2.75732680e-02],\n",
       "        [6.62326606e-04, 1.38072219e-02, 3.72603310e-02, 5.85395182e-02,\n",
       "         7.43919665e-02],\n",
       "        [9.82979908e-02, 1.68228731e-01, 1.97580349e-01, 2.05358466e-01,\n",
       "         2.04244903e-01],\n",
       "        [8.01349893e-01, 6.33605896e-01, 5.17936340e-01, 4.40300969e-01,\n",
       "         3.86582235e-01],\n",
       "        [9.90292278e-02, 1.70428736e-01, 2.05335853e-01, 2.20292118e-01,\n",
       "         2.25659854e-01],\n",
       "        [6.81024757e-04, 1.58410989e-02, 4.72220453e-02, 7.96162359e-02,\n",
       "         1.06341323e-01]],\n",
       "\n",
       "       [[0.00000000e+00, 0.00000000e+00, 0.00000000e+00, 0.00000000e+00,\n",
       "         0.00000000e+00],\n",
       "        [0.00000000e+00, 0.00000000e+00, 0.00000000e+00, 0.00000000e+00,\n",
       "         0.00000000e+00],\n",
       "        [1.42434983e-10, 3.10660480e-06, 7.49065369e-05, 3.42562440e-04,\n",
       "         8.21856800e-04],\n",
       "        [3.00432850e-08, 9.16912210e-05, 1.28754685e-03, 4.59724574e-03,\n",
       "         9.55991975e-03],\n",
       "        [4.46272157e-06, 1.13336579e-03, 7.03756748e-03, 1.67718528e-02,\n",
       "         2.73672751e-02],\n",
       "        [6.62326652e-04, 1.38090551e-02, 3.73181075e-02, 5.88361855e-02,\n",
       "         7.51375009e-02],\n",
       "        [9.82990182e-02, 1.68504580e-01, 1.99283412e-01, 2.09327728e-01,\n",
       "         2.10549335e-01],\n",
       "        [8.01847204e-01, 6.42381412e-01, 5.38246612e-01, 4.68604515e-01,\n",
       "         4.19338203e-01],\n",
       "        [1.01073036e-01, 1.92984092e-01, 2.50016649e-01, 2.77887968e-01,\n",
       "         2.89065685e-01]],\n",
       "\n",
       "       [[0.00000000e+00, 0.00000000e+00, 0.00000000e+00, 0.00000000e+00,\n",
       "         0.00000000e+00],\n",
       "        [0.00000000e+00, 0.00000000e+00, 0.00000000e+00, 0.00000000e+00,\n",
       "         0.00000000e+00],\n",
       "        [0.00000000e+00, 0.00000000e+00, 0.00000000e+00, 0.00000000e+00,\n",
       "         0.00000000e+00],\n",
       "        [1.42434932e-10, 3.10539743e-06, 7.46346173e-05, 3.38989220e-04,\n",
       "         8.06283696e-04],\n",
       "        [3.00432849e-08, 9.16868297e-05, 1.28645709e-03, 4.58214441e-03,\n",
       "         9.49204193e-03],\n",
       "        [4.46272188e-06, 1.13351627e-03, 7.04848005e-03, 1.68568494e-02,\n",
       "         2.76415419e-02],\n",
       "        [6.62333575e-04, 1.38316982e-02, 3.76397746e-02, 5.99733982e-02,\n",
       "         7.74567716e-02],\n",
       "        [9.84517877e-02, 1.71955864e-01, 2.08895523e-01, 2.24621277e-01,\n",
       "         2.30021750e-01],\n",
       "        [8.98241320e-01, 7.89766481e-01, 6.92141883e-01, 6.13117312e-01,\n",
       "         5.51059021e-01]]])"
      ]
     },
     "execution_count": 4,
     "metadata": {},
     "output_type": "execute_result"
    }
   ],
   "source": [
    "light_cpt"
   ]
  },
  {
   "cell_type": "code",
   "execution_count": 18,
   "metadata": {},
   "outputs": [],
   "source": [
    "fig, title = cpth.plot_2d_cpt(\n",
    "    light_cpt[:, :, 0],\n",
    "    AR_light,\n",
    "    AR_light,\n",
    "    height=600,\n",
    "    vspace=0.003,\n",
    "    invert=False,\n",
    "    p_range=[0, 1],\n",
    "    y_label_two_lines=False,\n",
    ")"
   ]
  },
  {
   "cell_type": "code",
   "execution_count": 5,
   "metadata": {},
   "outputs": [],
   "source": [
    "cpth.save_cpt([AR_light, AR_light, S], light_cpt, suffix=\"_shape_factor\")\n",
    "# cpth.save_cpt([AR_light, AR_light, S], light_cpt)"
   ]
  },
  {
   "cell_type": "code",
   "execution_count": 19,
   "metadata": {},
   "outputs": [
    {
     "data": {
      "application/vnd.plotly.v1+json": {
       "config": {
        "plotlyServerURL": "https://plot.ly"
       },
       "data": [
        {
         "histfunc": "sum",
         "marker": {
          "color": "#0072b2"
         },
         "type": "histogram",
         "x": [
          0,
          10,
          20,
          30,
          40,
          50,
          60,
          70,
          80
         ],
         "xaxis": "x",
         "xbins": {
          "end": 90,
          "size": 10,
          "start": 0
         },
         "y": [
          0.8869377317211488,
          0.11097041762009836,
          0.0020918506587529876,
          0,
          0,
          0,
          0,
          0,
          0
         ],
         "yaxis": "y"
        },
        {
         "histfunc": "sum",
         "marker": {
          "color": "#0072b2"
         },
         "type": "histogram",
         "x": [
          0,
          10,
          20,
          30,
          40,
          50,
          60,
          70,
          80
         ],
         "xaxis": "x2",
         "xbins": {
          "end": 90,
          "size": 10,
          "start": 0
         },
         "y": [
          0.11756732263529693,
          0.7715539580816241,
          0.10883191116491997,
          0.0020468081181592547,
          0,
          0,
          0,
          0,
          0
         ],
         "yaxis": "y2"
        },
        {
         "histfunc": "sum",
         "marker": {
          "color": "#0072b2"
         },
         "type": "histogram",
         "x": [
          0,
          10,
          20,
          30,
          40,
          50,
          60,
          70,
          80
         ],
         "xaxis": "x3",
         "xbins": {
          "end": 90,
          "size": 10,
          "start": 0
         },
         "y": [
          0.002067181074712397,
          0.1166317054012878,
          0.7704588088527473,
          0.10879637758166254,
          0.002045927089590097,
          0,
          0,
          0,
          0
         ],
         "yaxis": "y3"
        },
        {
         "histfunc": "sum",
         "marker": {
          "color": "#0072b2"
         },
         "type": "histogram",
         "x": [
          0,
          10,
          20,
          30,
          40,
          50,
          60,
          70,
          80
         ],
         "xaxis": "x4",
         "xbins": {
          "end": 90,
          "size": 10,
          "start": 0
         },
         "y": [
          0,
          0.002067181074712397,
          0.11663170540128782,
          0.7704588088527473,
          0.10879637758166257,
          0.002045927089590097,
          0,
          0,
          0
         ],
         "yaxis": "y4"
        },
        {
         "histfunc": "sum",
         "marker": {
          "color": "#0072b2"
         },
         "type": "histogram",
         "x": [
          0,
          10,
          20,
          30,
          40,
          50,
          60,
          70,
          80
         ],
         "xaxis": "x5",
         "xbins": {
          "end": 90,
          "size": 10,
          "start": 0
         },
         "y": [
          0,
          0,
          0.002067181074712397,
          0.1166317054012878,
          0.7704588088527473,
          0.10879637758166257,
          0.002045927089590097,
          0,
          0
         ],
         "yaxis": "y5"
        },
        {
         "histfunc": "sum",
         "marker": {
          "color": "#0072b2"
         },
         "type": "histogram",
         "x": [
          0,
          10,
          20,
          30,
          40,
          50,
          60,
          70,
          80
         ],
         "xaxis": "x6",
         "xbins": {
          "end": 90,
          "size": 10,
          "start": 0
         },
         "y": [
          0,
          0,
          0,
          0.002067181074712397,
          0.1166317054012878,
          0.7704588088527473,
          0.10879637758166257,
          0.0020459270895900974,
          0
         ],
         "yaxis": "y6"
        },
        {
         "histfunc": "sum",
         "marker": {
          "color": "#0072b2"
         },
         "type": "histogram",
         "x": [
          0,
          10,
          20,
          30,
          40,
          50,
          60,
          70,
          80
         ],
         "xaxis": "x7",
         "xbins": {
          "end": 90,
          "size": 10,
          "start": 0
         },
         "y": [
          0,
          0,
          0,
          0,
          0.002067181074712397,
          0.1166317054012878,
          0.7704588088527473,
          0.10879637758166257,
          0.0020459270895900974
         ],
         "yaxis": "y7"
        },
        {
         "histfunc": "sum",
         "marker": {
          "color": "#0072b2"
         },
         "type": "histogram",
         "x": [
          0,
          10,
          20,
          30,
          40,
          50,
          60,
          70,
          80
         ],
         "xaxis": "x8",
         "xbins": {
          "end": 90,
          "size": 10,
          "start": 0
         },
         "y": [
          0,
          0,
          0,
          0,
          0,
          0.0020679915451980333,
          0.11666611520092059,
          0.771530276455189,
          0.10973561679869237
         ],
         "yaxis": "y8"
        },
        {
         "histfunc": "sum",
         "marker": {
          "color": "#0072b2"
         },
         "type": "histogram",
         "x": [
          0,
          10,
          20,
          30,
          40,
          50,
          60,
          70,
          80
         ],
         "xaxis": "x9",
         "xbins": {
          "end": 90,
          "size": 10,
          "start": 0
         },
         "y": [
          0,
          0,
          0,
          0,
          0,
          0,
          0.0021075694034081256,
          0.11860250280344709,
          0.8792899277931447
         ],
         "yaxis": "y9"
        }
       ],
       "layout": {
        "font": {
         "size": 8
        },
        "height": 600,
        "showlegend": false,
        "template": {
         "data": {
          "bar": [
           {
            "error_x": {
             "color": "#2a3f5f"
            },
            "error_y": {
             "color": "#2a3f5f"
            },
            "marker": {
             "line": {
              "color": "#E5ECF6",
              "width": 0.5
             },
             "pattern": {
              "fillmode": "overlay",
              "size": 10,
              "solidity": 0.2
             }
            },
            "type": "bar"
           }
          ],
          "barpolar": [
           {
            "marker": {
             "line": {
              "color": "#E5ECF6",
              "width": 0.5
             },
             "pattern": {
              "fillmode": "overlay",
              "size": 10,
              "solidity": 0.2
             }
            },
            "type": "barpolar"
           }
          ],
          "carpet": [
           {
            "aaxis": {
             "endlinecolor": "#2a3f5f",
             "gridcolor": "white",
             "linecolor": "white",
             "minorgridcolor": "white",
             "startlinecolor": "#2a3f5f"
            },
            "baxis": {
             "endlinecolor": "#2a3f5f",
             "gridcolor": "white",
             "linecolor": "white",
             "minorgridcolor": "white",
             "startlinecolor": "#2a3f5f"
            },
            "type": "carpet"
           }
          ],
          "choropleth": [
           {
            "colorbar": {
             "outlinewidth": 0,
             "ticks": ""
            },
            "type": "choropleth"
           }
          ],
          "contour": [
           {
            "colorbar": {
             "outlinewidth": 0,
             "ticks": ""
            },
            "colorscale": [
             [
              0,
              "#0d0887"
             ],
             [
              0.1111111111111111,
              "#46039f"
             ],
             [
              0.2222222222222222,
              "#7201a8"
             ],
             [
              0.3333333333333333,
              "#9c179e"
             ],
             [
              0.4444444444444444,
              "#bd3786"
             ],
             [
              0.5555555555555556,
              "#d8576b"
             ],
             [
              0.6666666666666666,
              "#ed7953"
             ],
             [
              0.7777777777777778,
              "#fb9f3a"
             ],
             [
              0.8888888888888888,
              "#fdca26"
             ],
             [
              1,
              "#f0f921"
             ]
            ],
            "type": "contour"
           }
          ],
          "contourcarpet": [
           {
            "colorbar": {
             "outlinewidth": 0,
             "ticks": ""
            },
            "type": "contourcarpet"
           }
          ],
          "heatmap": [
           {
            "colorbar": {
             "outlinewidth": 0,
             "ticks": ""
            },
            "colorscale": [
             [
              0,
              "#0d0887"
             ],
             [
              0.1111111111111111,
              "#46039f"
             ],
             [
              0.2222222222222222,
              "#7201a8"
             ],
             [
              0.3333333333333333,
              "#9c179e"
             ],
             [
              0.4444444444444444,
              "#bd3786"
             ],
             [
              0.5555555555555556,
              "#d8576b"
             ],
             [
              0.6666666666666666,
              "#ed7953"
             ],
             [
              0.7777777777777778,
              "#fb9f3a"
             ],
             [
              0.8888888888888888,
              "#fdca26"
             ],
             [
              1,
              "#f0f921"
             ]
            ],
            "type": "heatmap"
           }
          ],
          "heatmapgl": [
           {
            "colorbar": {
             "outlinewidth": 0,
             "ticks": ""
            },
            "colorscale": [
             [
              0,
              "#0d0887"
             ],
             [
              0.1111111111111111,
              "#46039f"
             ],
             [
              0.2222222222222222,
              "#7201a8"
             ],
             [
              0.3333333333333333,
              "#9c179e"
             ],
             [
              0.4444444444444444,
              "#bd3786"
             ],
             [
              0.5555555555555556,
              "#d8576b"
             ],
             [
              0.6666666666666666,
              "#ed7953"
             ],
             [
              0.7777777777777778,
              "#fb9f3a"
             ],
             [
              0.8888888888888888,
              "#fdca26"
             ],
             [
              1,
              "#f0f921"
             ]
            ],
            "type": "heatmapgl"
           }
          ],
          "histogram": [
           {
            "marker": {
             "pattern": {
              "fillmode": "overlay",
              "size": 10,
              "solidity": 0.2
             }
            },
            "type": "histogram"
           }
          ],
          "histogram2d": [
           {
            "colorbar": {
             "outlinewidth": 0,
             "ticks": ""
            },
            "colorscale": [
             [
              0,
              "#0d0887"
             ],
             [
              0.1111111111111111,
              "#46039f"
             ],
             [
              0.2222222222222222,
              "#7201a8"
             ],
             [
              0.3333333333333333,
              "#9c179e"
             ],
             [
              0.4444444444444444,
              "#bd3786"
             ],
             [
              0.5555555555555556,
              "#d8576b"
             ],
             [
              0.6666666666666666,
              "#ed7953"
             ],
             [
              0.7777777777777778,
              "#fb9f3a"
             ],
             [
              0.8888888888888888,
              "#fdca26"
             ],
             [
              1,
              "#f0f921"
             ]
            ],
            "type": "histogram2d"
           }
          ],
          "histogram2dcontour": [
           {
            "colorbar": {
             "outlinewidth": 0,
             "ticks": ""
            },
            "colorscale": [
             [
              0,
              "#0d0887"
             ],
             [
              0.1111111111111111,
              "#46039f"
             ],
             [
              0.2222222222222222,
              "#7201a8"
             ],
             [
              0.3333333333333333,
              "#9c179e"
             ],
             [
              0.4444444444444444,
              "#bd3786"
             ],
             [
              0.5555555555555556,
              "#d8576b"
             ],
             [
              0.6666666666666666,
              "#ed7953"
             ],
             [
              0.7777777777777778,
              "#fb9f3a"
             ],
             [
              0.8888888888888888,
              "#fdca26"
             ],
             [
              1,
              "#f0f921"
             ]
            ],
            "type": "histogram2dcontour"
           }
          ],
          "mesh3d": [
           {
            "colorbar": {
             "outlinewidth": 0,
             "ticks": ""
            },
            "type": "mesh3d"
           }
          ],
          "parcoords": [
           {
            "line": {
             "colorbar": {
              "outlinewidth": 0,
              "ticks": ""
             }
            },
            "type": "parcoords"
           }
          ],
          "pie": [
           {
            "automargin": true,
            "type": "pie"
           }
          ],
          "scatter": [
           {
            "fillpattern": {
             "fillmode": "overlay",
             "size": 10,
             "solidity": 0.2
            },
            "type": "scatter"
           }
          ],
          "scatter3d": [
           {
            "line": {
             "colorbar": {
              "outlinewidth": 0,
              "ticks": ""
             }
            },
            "marker": {
             "colorbar": {
              "outlinewidth": 0,
              "ticks": ""
             }
            },
            "type": "scatter3d"
           }
          ],
          "scattercarpet": [
           {
            "marker": {
             "colorbar": {
              "outlinewidth": 0,
              "ticks": ""
             }
            },
            "type": "scattercarpet"
           }
          ],
          "scattergeo": [
           {
            "marker": {
             "colorbar": {
              "outlinewidth": 0,
              "ticks": ""
             }
            },
            "type": "scattergeo"
           }
          ],
          "scattergl": [
           {
            "marker": {
             "colorbar": {
              "outlinewidth": 0,
              "ticks": ""
             }
            },
            "type": "scattergl"
           }
          ],
          "scattermapbox": [
           {
            "marker": {
             "colorbar": {
              "outlinewidth": 0,
              "ticks": ""
             }
            },
            "type": "scattermapbox"
           }
          ],
          "scatterpolar": [
           {
            "marker": {
             "colorbar": {
              "outlinewidth": 0,
              "ticks": ""
             }
            },
            "type": "scatterpolar"
           }
          ],
          "scatterpolargl": [
           {
            "marker": {
             "colorbar": {
              "outlinewidth": 0,
              "ticks": ""
             }
            },
            "type": "scatterpolargl"
           }
          ],
          "scatterternary": [
           {
            "marker": {
             "colorbar": {
              "outlinewidth": 0,
              "ticks": ""
             }
            },
            "type": "scatterternary"
           }
          ],
          "surface": [
           {
            "colorbar": {
             "outlinewidth": 0,
             "ticks": ""
            },
            "colorscale": [
             [
              0,
              "#0d0887"
             ],
             [
              0.1111111111111111,
              "#46039f"
             ],
             [
              0.2222222222222222,
              "#7201a8"
             ],
             [
              0.3333333333333333,
              "#9c179e"
             ],
             [
              0.4444444444444444,
              "#bd3786"
             ],
             [
              0.5555555555555556,
              "#d8576b"
             ],
             [
              0.6666666666666666,
              "#ed7953"
             ],
             [
              0.7777777777777778,
              "#fb9f3a"
             ],
             [
              0.8888888888888888,
              "#fdca26"
             ],
             [
              1,
              "#f0f921"
             ]
            ],
            "type": "surface"
           }
          ],
          "table": [
           {
            "cells": {
             "fill": {
              "color": "#EBF0F8"
             },
             "line": {
              "color": "white"
             }
            },
            "header": {
             "fill": {
              "color": "#C8D4E3"
             },
             "line": {
              "color": "white"
             }
            },
            "type": "table"
           }
          ]
         },
         "layout": {
          "annotationdefaults": {
           "arrowcolor": "#2a3f5f",
           "arrowhead": 0,
           "arrowwidth": 1
          },
          "autotypenumbers": "strict",
          "coloraxis": {
           "colorbar": {
            "outlinewidth": 0,
            "ticks": ""
           }
          },
          "colorscale": {
           "diverging": [
            [
             0,
             "#8e0152"
            ],
            [
             0.1,
             "#c51b7d"
            ],
            [
             0.2,
             "#de77ae"
            ],
            [
             0.3,
             "#f1b6da"
            ],
            [
             0.4,
             "#fde0ef"
            ],
            [
             0.5,
             "#f7f7f7"
            ],
            [
             0.6,
             "#e6f5d0"
            ],
            [
             0.7,
             "#b8e186"
            ],
            [
             0.8,
             "#7fbc41"
            ],
            [
             0.9,
             "#4d9221"
            ],
            [
             1,
             "#276419"
            ]
           ],
           "sequential": [
            [
             0,
             "#0d0887"
            ],
            [
             0.1111111111111111,
             "#46039f"
            ],
            [
             0.2222222222222222,
             "#7201a8"
            ],
            [
             0.3333333333333333,
             "#9c179e"
            ],
            [
             0.4444444444444444,
             "#bd3786"
            ],
            [
             0.5555555555555556,
             "#d8576b"
            ],
            [
             0.6666666666666666,
             "#ed7953"
            ],
            [
             0.7777777777777778,
             "#fb9f3a"
            ],
            [
             0.8888888888888888,
             "#fdca26"
            ],
            [
             1,
             "#f0f921"
            ]
           ],
           "sequentialminus": [
            [
             0,
             "#0d0887"
            ],
            [
             0.1111111111111111,
             "#46039f"
            ],
            [
             0.2222222222222222,
             "#7201a8"
            ],
            [
             0.3333333333333333,
             "#9c179e"
            ],
            [
             0.4444444444444444,
             "#bd3786"
            ],
            [
             0.5555555555555556,
             "#d8576b"
            ],
            [
             0.6666666666666666,
             "#ed7953"
            ],
            [
             0.7777777777777778,
             "#fb9f3a"
            ],
            [
             0.8888888888888888,
             "#fdca26"
            ],
            [
             1,
             "#f0f921"
            ]
           ]
          },
          "colorway": [
           "#636efa",
           "#EF553B",
           "#00cc96",
           "#ab63fa",
           "#FFA15A",
           "#19d3f3",
           "#FF6692",
           "#B6E880",
           "#FF97FF",
           "#FECB52"
          ],
          "font": {
           "color": "#2a3f5f"
          },
          "geo": {
           "bgcolor": "white",
           "lakecolor": "white",
           "landcolor": "#E5ECF6",
           "showlakes": true,
           "showland": true,
           "subunitcolor": "white"
          },
          "hoverlabel": {
           "align": "left"
          },
          "hovermode": "closest",
          "mapbox": {
           "style": "light"
          },
          "paper_bgcolor": "white",
          "plot_bgcolor": "#E5ECF6",
          "polar": {
           "angularaxis": {
            "gridcolor": "white",
            "linecolor": "white",
            "ticks": ""
           },
           "bgcolor": "#E5ECF6",
           "radialaxis": {
            "gridcolor": "white",
            "linecolor": "white",
            "ticks": ""
           }
          },
          "scene": {
           "xaxis": {
            "backgroundcolor": "#E5ECF6",
            "gridcolor": "white",
            "gridwidth": 2,
            "linecolor": "white",
            "showbackground": true,
            "ticks": "",
            "zerolinecolor": "white"
           },
           "yaxis": {
            "backgroundcolor": "#E5ECF6",
            "gridcolor": "white",
            "gridwidth": 2,
            "linecolor": "white",
            "showbackground": true,
            "ticks": "",
            "zerolinecolor": "white"
           },
           "zaxis": {
            "backgroundcolor": "#E5ECF6",
            "gridcolor": "white",
            "gridwidth": 2,
            "linecolor": "white",
            "showbackground": true,
            "ticks": "",
            "zerolinecolor": "white"
           }
          },
          "shapedefaults": {
           "line": {
            "color": "#2a3f5f"
           }
          },
          "ternary": {
           "aaxis": {
            "gridcolor": "white",
            "linecolor": "white",
            "ticks": ""
           },
           "baxis": {
            "gridcolor": "white",
            "linecolor": "white",
            "ticks": ""
           },
           "bgcolor": "#E5ECF6",
           "caxis": {
            "gridcolor": "white",
            "linecolor": "white",
            "ticks": ""
           }
          },
          "title": {
           "x": 0.05
          },
          "xaxis": {
           "automargin": true,
           "gridcolor": "white",
           "linecolor": "white",
           "ticks": "",
           "title": {
            "standoff": 15
           },
           "zerolinecolor": "white",
           "zerolinewidth": 2
          },
          "yaxis": {
           "automargin": true,
           "gridcolor": "white",
           "linecolor": "white",
           "ticks": "",
           "title": {
            "standoff": 15
           },
           "zerolinecolor": "white",
           "zerolinewidth": 2
          }
         }
        },
        "title": {
         "text": "CPT - P(AR|AR)"
        },
        "width": 500,
        "xaxis": {
         "anchor": "y",
         "domain": [
          0,
          1
         ],
         "matches": "x9",
         "nticks": 20,
         "range": [
          0,
          90
         ],
         "showticklabels": false,
         "title": {}
        },
        "xaxis2": {
         "anchor": "y2",
         "domain": [
          0,
          1
         ],
         "matches": "x9",
         "nticks": 20,
         "range": [
          0,
          90
         ],
         "showticklabels": false,
         "title": {}
        },
        "xaxis3": {
         "anchor": "y3",
         "domain": [
          0,
          1
         ],
         "matches": "x9",
         "nticks": 20,
         "range": [
          0,
          90
         ],
         "showticklabels": false,
         "title": {}
        },
        "xaxis4": {
         "anchor": "y4",
         "domain": [
          0,
          1
         ],
         "matches": "x9",
         "nticks": 20,
         "range": [
          0,
          90
         ],
         "showticklabels": false,
         "title": {}
        },
        "xaxis5": {
         "anchor": "y5",
         "domain": [
          0,
          1
         ],
         "matches": "x9",
         "nticks": 20,
         "range": [
          0,
          90
         ],
         "showticklabels": false,
         "title": {}
        },
        "xaxis6": {
         "anchor": "y6",
         "domain": [
          0,
          1
         ],
         "matches": "x9",
         "nticks": 20,
         "range": [
          0,
          90
         ],
         "showticklabels": false,
         "title": {}
        },
        "xaxis7": {
         "anchor": "y7",
         "domain": [
          0,
          1
         ],
         "matches": "x9",
         "nticks": 20,
         "range": [
          0,
          90
         ],
         "showticklabels": false,
         "title": {}
        },
        "xaxis8": {
         "anchor": "y8",
         "domain": [
          0,
          1
         ],
         "matches": "x9",
         "nticks": 20,
         "range": [
          0,
          90
         ],
         "showticklabels": false,
         "title": {}
        },
        "xaxis9": {
         "anchor": "y9",
         "domain": [
          0,
          1
         ],
         "nticks": 20,
         "range": [
          0,
          90
         ],
         "title": {
          "text": "Airway resistance (%)"
         }
        },
        "yaxis": {
         "anchor": "x",
         "domain": [
          0.8915555555555555,
          1
         ],
         "range": [
          0,
          1
         ],
         "title": {
          "text": "AR= 5"
         }
        },
        "yaxis2": {
         "anchor": "x2",
         "domain": [
          0.7801111111111111,
          0.8885555555555555
         ],
         "range": [
          0,
          1
         ],
         "title": {
          "text": "AR=15"
         }
        },
        "yaxis3": {
         "anchor": "x3",
         "domain": [
          0.6686666666666666,
          0.7771111111111111
         ],
         "range": [
          0,
          1
         ],
         "title": {
          "text": "AR=25"
         }
        },
        "yaxis4": {
         "anchor": "x4",
         "domain": [
          0.5572222222222222,
          0.6656666666666666
         ],
         "range": [
          0,
          1
         ],
         "title": {
          "text": "AR=35"
         }
        },
        "yaxis5": {
         "anchor": "x5",
         "domain": [
          0.4457777777777778,
          0.5542222222222222
         ],
         "range": [
          0,
          1
         ],
         "title": {
          "text": "AR=45"
         }
        },
        "yaxis6": {
         "anchor": "x6",
         "domain": [
          0.3343333333333333,
          0.44277777777777777
         ],
         "range": [
          0,
          1
         ],
         "title": {
          "text": "AR=55"
         }
        },
        "yaxis7": {
         "anchor": "x7",
         "domain": [
          0.2228888888888889,
          0.3313333333333333
         ],
         "range": [
          0,
          1
         ],
         "title": {
          "text": "AR=65"
         }
        },
        "yaxis8": {
         "anchor": "x8",
         "domain": [
          0.11144444444444444,
          0.21988888888888888
         ],
         "range": [
          0,
          1
         ],
         "title": {
          "text": "AR=75"
         }
        },
        "yaxis9": {
         "anchor": "x9",
         "domain": [
          0,
          0.10844444444444444
         ],
         "range": [
          0,
          1
         ],
         "title": {
          "text": "AR=85"
         }
        }
       }
      }
     },
     "metadata": {},
     "output_type": "display_data"
    }
   ],
   "source": [
    "fig.show()"
   ]
  },
  {
   "cell_type": "code",
   "execution_count": null,
   "metadata": {},
   "outputs": [],
   "source": []
  }
 ],
 "metadata": {
  "kernelspec": {
   "display_name": "phd",
   "language": "python",
   "name": "python3"
  },
  "language_info": {
   "codemirror_mode": {
    "name": "ipython",
    "version": 3
   },
   "file_extension": ".py",
   "mimetype": "text/x-python",
   "name": "python",
   "nbconvert_exporter": "python",
   "pygments_lexer": "ipython3",
   "version": "3.10.13"
  }
 },
 "nbformat": 4,
 "nbformat_minor": 2
}
