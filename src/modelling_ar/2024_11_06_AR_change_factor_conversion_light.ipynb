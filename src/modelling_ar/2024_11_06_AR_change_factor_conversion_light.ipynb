{
 "cells": [
  {
   "cell_type": "code",
   "execution_count": 1,
   "metadata": {},
   "outputs": [],
   "source": [
    "import src.data.breathe_data as br\n",
    "import src.data.helpers as dh\n",
    "import src.models.helpers as mh\n",
    "import src.inference.helpers as ih\n",
    "import src.modelling_fef2575.cpt_and_plots as cpt_and_plots\n",
    "import src.models.var_builders as var_builders\n",
    "import src.models.graph_builders as graph_builders\n",
    "from src.inference.inf_algs import apply_bayes_net_bp, apply_factor_graph_bp\n",
    "\n",
    "import numpy as np\n",
    "import pandas as pd\n",
    "import plotly.express as px\n",
    "import plotly.graph_objects as go\n",
    "from plotly.subplots import make_subplots\n",
    "import src.models.cpts.helpers as cpth"
   ]
  },
  {
   "cell_type": "code",
   "execution_count": null,
   "metadata": {},
   "outputs": [],
   "source": [
    "# With DE\n",
    "AR = mh.VariableNode(\"Airway resistance (%)\", 0, 90, 2, prior=None)\n",
    "DE = mh.DiscreteVariableNode(\"Days elapsed\", 1, 3, 1)\n",
    "\n",
    "cpt = cpth.get_cpt([AR, AR, DE], \"_shift_span_[-20;20]_joint_sampling_3_days_model\")\n",
    "\n",
    "AR_light = mh.VariableNode(\"Airway resistance (%)\", 0, 90, 10, prior=None)"
   ]
  },
  {
   "cell_type": "code",
   "execution_count": null,
   "metadata": {},
   "outputs": [],
   "source": [
    "# With S\n",
    "AR = mh.VariableNode(\"Airway resistance (%)\", 0, 90, 2, prior=None)\n",
    "# S = mh.DiscreteVariableNode(\"AR change factor shape\", 2, 10, 2)\n",
    "# S = mh.DiscreteVariableNode(\"AR change factor shape\", 1, 3, 1)\n",
    "S = mh.DiscreteVariableNode(\"AR change factor shape\", 1, 1, 1, prior=None)\n",
    "\n",
    "cpt = cpth.get_cpt([AR, AR, S], \"_shape_factor_Gmain0.2_Gtails10_w0.73\")\n",
    "\n",
    "AR_light = mh.VariableNode(\"Airway resistance (%)\", 0, 90, 10, prior=None)"
   ]
  },
  {
   "cell_type": "code",
   "execution_count": 4,
   "metadata": {},
   "outputs": [
    {
     "name": "stdout",
     "output_type": "stream",
     "text": [
      "(45, 45, 1)\n",
      "(9, 9, 1)\n"
     ]
    }
   ],
   "source": [
    "AR1_light = mh.VariableNode(\n",
    "    \"Airway resistance day 1 (%)\", 0, 90, 10, prior={\"type\": \"uniform\"}\n",
    ")\n",
    "AR2_light = mh.VariableNode(\n",
    "    \"Airway resistance day 2 (%)\", 0, 90, 10, prior={\"type\": \"uniform\"}\n",
    ")\n",
    "\n",
    "print(cpt.shape)\n",
    "# light_cpt = np.zeros((AR1_light.card, AR2_light.card, DE.card))\n",
    "light_cpt = np.zeros((AR1_light.card, AR2_light.card, S.card))\n",
    "print(light_cpt.shape)\n",
    "\n",
    "# Marginalise the CPT over the light resolution\n",
    "for i in range(AR1_light.card):\n",
    "    for j in range(AR2_light.card):\n",
    "        # for k in range(DE.card):\n",
    "        for k in range(S.card):\n",
    "            light_cpt[i, j, k] = np.sum(\n",
    "                cpt[i * 5 : (i + 1) * 5, j * 5 : (j + 1) * 5, k]\n",
    "            )\n",
    "\n",
    "# Normalise the CPT\n",
    "light_cpt = light_cpt / np.sum(light_cpt, axis=(0))"
   ]
  },
  {
   "cell_type": "code",
   "execution_count": 18,
   "metadata": {},
   "outputs": [],
   "source": [
    "fig, title = cpth.plot_2d_cpt(\n",
    "    light_cpt[:, :, 0],\n",
    "    AR_light,\n",
    "    AR_light,\n",
    "    height=600,\n",
    "    vspace=0.003,\n",
    "    invert=False,\n",
    "    p_range=[0, 1],\n",
    "    y_label_two_lines=False,\n",
    ")"
   ]
  },
  {
   "cell_type": "code",
   "execution_count": 5,
   "metadata": {},
   "outputs": [],
   "source": [
    "cpth.save_cpt([AR_light, AR_light, S], light_cpt, suffix=\"_shape_factor_Gmain0.2_Gtails10_w0.73\")\n",
    "# cpth.save_cpt([AR_light, AR_light, S], light_cpt)"
   ]
  },
  {
   "cell_type": "code",
   "execution_count": 19,
   "metadata": {},
   "outputs": [
    {
     "data": {
      "application/vnd.plotly.v1+json": {
       "config": {
        "plotlyServerURL": "https://plot.ly"
       },
       "data": [
        {
         "histfunc": "sum",
         "marker": {
          "color": "#0072b2"
         },
         "type": "histogram",
         "x": [
          0,
          10,
          20,
          30,
          40,
          50,
          60,
          70,
          80
         ],
         "xaxis": "x",
         "xbins": {
          "end": 90,
          "size": 10,
          "start": 0
         },
         "y": [
          0.8869377317211488,
          0.11097041762009836,
          0.0020918506587529876,
          0,
          0,
          0,
          0,
          0,
          0
         ],
         "yaxis": "y"
        },
        {
         "histfunc": "sum",
         "marker": {
          "color": "#0072b2"
         },
         "type": "histogram",
         "x": [
          0,
          10,
          20,
          30,
          40,
          50,
          60,
          70,
          80
         ],
         "xaxis": "x2",
         "xbins": {
          "end": 90,
          "size": 10,
          "start": 0
         },
         "y": [
          0.11756732263529693,
          0.7715539580816241,
          0.10883191116491997,
          0.0020468081181592547,
          0,
          0,
          0,
          0,
          0
         ],
         "yaxis": "y2"
        },
        {
         "histfunc": "sum",
         "marker": {
          "color": "#0072b2"
         },
         "type": "histogram",
         "x": [
          0,
          10,
          20,
          30,
          40,
          50,
          60,
          70,
          80
         ],
         "xaxis": "x3",
         "xbins": {
          "end": 90,
          "size": 10,
          "start": 0
         },
         "y": [
          0.002067181074712397,
          0.1166317054012878,
          0.7704588088527473,
          0.10879637758166254,
          0.002045927089590097,
          0,
          0,
          0,
          0
         ],
         "yaxis": "y3"
        },
        {
         "histfunc": "sum",
         "marker": {
          "color": "#0072b2"
         },
         "type": "histogram",
         "x": [
          0,
          10,
          20,
          30,
          40,
          50,
          60,
          70,
          80
         ],
         "xaxis": "x4",
         "xbins": {
          "end": 90,
          "size": 10,
          "start": 0
         },
         "y": [
          0,
          0.002067181074712397,
          0.11663170540128782,
          0.7704588088527473,
          0.10879637758166257,
          0.002045927089590097,
          0,
          0,
          0
         ],
         "yaxis": "y4"
        },
        {
         "histfunc": "sum",
         "marker": {
          "color": "#0072b2"
         },
         "type": "histogram",
         "x": [
          0,
          10,
          20,
          30,
          40,
          50,
          60,
          70,
          80
         ],
         "xaxis": "x5",
         "xbins": {
          "end": 90,
          "size": 10,
          "start": 0
         },
         "y": [
          0,
          0,
          0.002067181074712397,
          0.1166317054012878,
          0.7704588088527473,
          0.10879637758166257,
          0.002045927089590097,
          0,
          0
         ],
         "yaxis": "y5"
        },
        {
         "histfunc": "sum",
         "marker": {
          "color": "#0072b2"
         },
         "type": "histogram",
         "x": [
          0,
          10,
          20,
          30,
          40,
          50,
          60,
          70,
          80
         ],
         "xaxis": "x6",
         "xbins": {
          "end": 90,
          "size": 10,
          "start": 0
         },
         "y": [
          0,
          0,
          0,
          0.002067181074712397,
          0.1166317054012878,
          0.7704588088527473,
          0.10879637758166257,
          0.0020459270895900974,
          0
         ],
         "yaxis": "y6"
        },
        {
         "histfunc": "sum",
         "marker": {
          "color": "#0072b2"
         },
         "type": "histogram",
         "x": [
          0,
          10,
          20,
          30,
          40,
          50,
          60,
          70,
          80
         ],
         "xaxis": "x7",
         "xbins": {
          "end": 90,
          "size": 10,
          "start": 0
         },
         "y": [
          0,
          0,
          0,
          0,
          0.002067181074712397,
          0.1166317054012878,
          0.7704588088527473,
          0.10879637758166257,
          0.0020459270895900974
         ],
         "yaxis": "y7"
        },
        {
         "histfunc": "sum",
         "marker": {
          "color": "#0072b2"
         },
         "type": "histogram",
         "x": [
          0,
          10,
          20,
          30,
          40,
          50,
          60,
          70,
          80
         ],
         "xaxis": "x8",
         "xbins": {
          "end": 90,
          "size": 10,
          "start": 0
         },
         "y": [
          0,
          0,
          0,
          0,
          0,
          0.0020679915451980333,
          0.11666611520092059,
          0.771530276455189,
          0.10973561679869237
         ],
         "yaxis": "y8"
        },
        {
         "histfunc": "sum",
         "marker": {
          "color": "#0072b2"
         },
         "type": "histogram",
         "x": [
          0,
          10,
          20,
          30,
          40,
          50,
          60,
          70,
          80
         ],
         "xaxis": "x9",
         "xbins": {
          "end": 90,
          "size": 10,
          "start": 0
         },
         "y": [
          0,
          0,
          0,
          0,
          0,
          0,
          0.0021075694034081256,
          0.11860250280344709,
          0.8792899277931447
         ],
         "yaxis": "y9"
        }
       ],
       "layout": {
        "font": {
         "size": 8
        },
        "height": 600,
        "showlegend": false,
        "template": {
         "data": {
          "bar": [
           {
            "error_x": {
             "color": "#2a3f5f"
            },
            "error_y": {
             "color": "#2a3f5f"
            },
            "marker": {
             "line": {
              "color": "#E5ECF6",
              "width": 0.5
             },
             "pattern": {
              "fillmode": "overlay",
              "size": 10,
              "solidity": 0.2
             }
            },
            "type": "bar"
           }
          ],
          "barpolar": [
           {
            "marker": {
             "line": {
              "color": "#E5ECF6",
              "width": 0.5
             },
             "pattern": {
              "fillmode": "overlay",
              "size": 10,
              "solidity": 0.2
             }
            },
            "type": "barpolar"
           }
          ],
          "carpet": [
           {
            "aaxis": {
             "endlinecolor": "#2a3f5f",
             "gridcolor": "white",
             "linecolor": "white",
             "minorgridcolor": "white",
             "startlinecolor": "#2a3f5f"
            },
            "baxis": {
             "endlinecolor": "#2a3f5f",
             "gridcolor": "white",
             "linecolor": "white",
             "minorgridcolor": "white",
             "startlinecolor": "#2a3f5f"
            },
            "type": "carpet"
           }
          ],
          "choropleth": [
           {
            "colorbar": {
             "outlinewidth": 0,
             "ticks": ""
            },
            "type": "choropleth"
           }
          ],
          "contour": [
           {
            "colorbar": {
             "outlinewidth": 0,
             "ticks": ""
            },
            "colorscale": [
             [
              0,
              "#0d0887"
             ],
             [
              0.1111111111111111,
              "#46039f"
             ],
             [
              0.2222222222222222,
              "#7201a8"
             ],
             [
              0.3333333333333333,
              "#9c179e"
             ],
             [
              0.4444444444444444,
              "#bd3786"
             ],
             [
              0.5555555555555556,
              "#d8576b"
             ],
             [
              0.6666666666666666,
              "#ed7953"
             ],
             [
              0.7777777777777778,
              "#fb9f3a"
             ],
             [
              0.8888888888888888,
              "#fdca26"
             ],
             [
              1,
              "#f0f921"
             ]
            ],
            "type": "contour"
           }
          ],
          "contourcarpet": [
           {
            "colorbar": {
             "outlinewidth": 0,
             "ticks": ""
            },
            "type": "contourcarpet"
           }
          ],
          "heatmap": [
           {
            "colorbar": {
             "outlinewidth": 0,
             "ticks": ""
            },
            "colorscale": [
             [
              0,
              "#0d0887"
             ],
             [
              0.1111111111111111,
              "#46039f"
             ],
             [
              0.2222222222222222,
              "#7201a8"
             ],
             [
              0.3333333333333333,
              "#9c179e"
             ],
             [
              0.4444444444444444,
              "#bd3786"
             ],
             [
              0.5555555555555556,
              "#d8576b"
             ],
             [
              0.6666666666666666,
              "#ed7953"
             ],
             [
              0.7777777777777778,
              "#fb9f3a"
             ],
             [
              0.8888888888888888,
              "#fdca26"
             ],
             [
              1,
              "#f0f921"
             ]
            ],
            "type": "heatmap"
           }
          ],
          "heatmapgl": [
           {
            "colorbar": {
             "outlinewidth": 0,
             "ticks": ""
            },
            "colorscale": [
             [
              0,
              "#0d0887"
             ],
             [
              0.1111111111111111,
              "#46039f"
             ],
             [
              0.2222222222222222,
              "#7201a8"
             ],
             [
              0.3333333333333333,
              "#9c179e"
             ],
             [
              0.4444444444444444,
              "#bd3786"
             ],
             [
              0.5555555555555556,
              "#d8576b"
             ],
             [
              0.6666666666666666,
              "#ed7953"
             ],
             [
              0.7777777777777778,
              "#fb9f3a"
             ],
             [
              0.8888888888888888,
              "#fdca26"
             ],
             [
              1,
              "#f0f921"
             ]
            ],
            "type": "heatmapgl"
           }
          ],
          "histogram": [
           {
            "marker": {
             "pattern": {
              "fillmode": "overlay",
              "size": 10,
              "solidity": 0.2
             }
            },
            "type": "histogram"
           }
          ],
          "histogram2d": [
           {
            "colorbar": {
             "outlinewidth": 0,
             "ticks": ""
            },
            "colorscale": [
             [
              0,
              "#0d0887"
             ],
             [
              0.1111111111111111,
              "#46039f"
             ],
             [
              0.2222222222222222,
              "#7201a8"
             ],
             [
              0.3333333333333333,
              "#9c179e"
             ],
             [
              0.4444444444444444,
              "#bd3786"
             ],
             [
              0.5555555555555556,
              "#d8576b"
             ],
             [
              0.6666666666666666,
              "#ed7953"
             ],
             [
              0.7777777777777778,
              "#fb9f3a"
             ],
             [
              0.8888888888888888,
              "#fdca26"
             ],
             [
              1,
              "#f0f921"
             ]
            ],
            "type": "histogram2d"
           }
          ],
          "histogram2dcontour": [
           {
            "colorbar": {
             "outlinewidth": 0,
             "ticks": ""
            },
            "colorscale": [
             [
              0,
              "#0d0887"
             ],
             [
              0.1111111111111111,
              "#46039f"
             ],
             [
              0.2222222222222222,
              "#7201a8"
             ],
             [
              0.3333333333333333,
              "#9c179e"
             ],
             [
              0.4444444444444444,
              "#bd3786"
             ],
             [
              0.5555555555555556,
              "#d8576b"
             ],
             [
              0.6666666666666666,
              "#ed7953"
             ],
             [
              0.7777777777777778,
              "#fb9f3a"
             ],
             [
              0.8888888888888888,
              "#fdca26"
             ],
             [
              1,
              "#f0f921"
             ]
            ],
            "type": "histogram2dcontour"
           }
          ],
          "mesh3d": [
           {
            "colorbar": {
             "outlinewidth": 0,
             "ticks": ""
            },
            "type": "mesh3d"
           }
          ],
          "parcoords": [
           {
            "line": {
             "colorbar": {
              "outlinewidth": 0,
              "ticks": ""
             }
            },
            "type": "parcoords"
           }
          ],
          "pie": [
           {
            "automargin": true,
            "type": "pie"
           }
          ],
          "scatter": [
           {
            "fillpattern": {
             "fillmode": "overlay",
             "size": 10,
             "solidity": 0.2
            },
            "type": "scatter"
           }
          ],
          "scatter3d": [
           {
            "line": {
             "colorbar": {
              "outlinewidth": 0,
              "ticks": ""
             }
            },
            "marker": {
             "colorbar": {
              "outlinewidth": 0,
              "ticks": ""
             }
            },
            "type": "scatter3d"
           }
          ],
          "scattercarpet": [
           {
            "marker": {
             "colorbar": {
              "outlinewidth": 0,
              "ticks": ""
             }
            },
            "type": "scattercarpet"
           }
          ],
          "scattergeo": [
           {
            "marker": {
             "colorbar": {
              "outlinewidth": 0,
              "ticks": ""
             }
            },
            "type": "scattergeo"
           }
          ],
          "scattergl": [
           {
            "marker": {
             "colorbar": {
              "outlinewidth": 0,
              "ticks": ""
             }
            },
            "type": "scattergl"
           }
          ],
          "scattermapbox": [
           {
            "marker": {
             "colorbar": {
              "outlinewidth": 0,
              "ticks": ""
             }
            },
            "type": "scattermapbox"
           }
          ],
          "scatterpolar": [
           {
            "marker": {
             "colorbar": {
              "outlinewidth": 0,
              "ticks": ""
             }
            },
            "type": "scatterpolar"
           }
          ],
          "scatterpolargl": [
           {
            "marker": {
             "colorbar": {
              "outlinewidth": 0,
              "ticks": ""
             }
            },
            "type": "scatterpolargl"
           }
          ],
          "scatterternary": [
           {
            "marker": {
             "colorbar": {
              "outlinewidth": 0,
              "ticks": ""
             }
            },
            "type": "scatterternary"
           }
          ],
          "surface": [
           {
            "colorbar": {
             "outlinewidth": 0,
             "ticks": ""
            },
            "colorscale": [
             [
              0,
              "#0d0887"
             ],
             [
              0.1111111111111111,
              "#46039f"
             ],
             [
              0.2222222222222222,
              "#7201a8"
             ],
             [
              0.3333333333333333,
              "#9c179e"
             ],
             [
              0.4444444444444444,
              "#bd3786"
             ],
             [
              0.5555555555555556,
              "#d8576b"
             ],
             [
              0.6666666666666666,
              "#ed7953"
             ],
             [
              0.7777777777777778,
              "#fb9f3a"
             ],
             [
              0.8888888888888888,
              "#fdca26"
             ],
             [
              1,
              "#f0f921"
             ]
            ],
            "type": "surface"
           }
          ],
          "table": [
           {
            "cells": {
             "fill": {
              "color": "#EBF0F8"
             },
             "line": {
              "color": "white"
             }
            },
            "header": {
             "fill": {
              "color": "#C8D4E3"
             },
             "line": {
              "color": "white"
             }
            },
            "type": "table"
           }
          ]
         },
         "layout": {
          "annotationdefaults": {
           "arrowcolor": "#2a3f5f",
           "arrowhead": 0,
           "arrowwidth": 1
          },
          "autotypenumbers": "strict",
          "coloraxis": {
           "colorbar": {
            "outlinewidth": 0,
            "ticks": ""
           }
          },
          "colorscale": {
           "diverging": [
            [
             0,
             "#8e0152"
            ],
            [
             0.1,
             "#c51b7d"
            ],
            [
             0.2,
             "#de77ae"
            ],
            [
             0.3,
             "#f1b6da"
            ],
            [
             0.4,
             "#fde0ef"
            ],
            [
             0.5,
             "#f7f7f7"
            ],
            [
             0.6,
             "#e6f5d0"
            ],
            [
             0.7,
             "#b8e186"
            ],
            [
             0.8,
             "#7fbc41"
            ],
            [
             0.9,
             "#4d9221"
            ],
            [
             1,
             "#276419"
            ]
           ],
           "sequential": [
            [
             0,
             "#0d0887"
            ],
            [
             0.1111111111111111,
             "#46039f"
            ],
            [
             0.2222222222222222,
             "#7201a8"
            ],
            [
             0.3333333333333333,
             "#9c179e"
            ],
            [
             0.4444444444444444,
             "#bd3786"
            ],
            [
             0.5555555555555556,
             "#d8576b"
            ],
            [
             0.6666666666666666,
             "#ed7953"
            ],
            [
             0.7777777777777778,
             "#fb9f3a"
            ],
            [
             0.8888888888888888,
             "#fdca26"
            ],
            [
             1,
             "#f0f921"
            ]
           ],
           "sequentialminus": [
            [
             0,
             "#0d0887"
            ],
            [
             0.1111111111111111,
             "#46039f"
            ],
            [
             0.2222222222222222,
             "#7201a8"
            ],
            [
             0.3333333333333333,
             "#9c179e"
            ],
            [
             0.4444444444444444,
             "#bd3786"
            ],
            [
             0.5555555555555556,
             "#d8576b"
            ],
            [
             0.6666666666666666,
             "#ed7953"
            ],
            [
             0.7777777777777778,
             "#fb9f3a"
            ],
            [
             0.8888888888888888,
             "#fdca26"
            ],
            [
             1,
             "#f0f921"
            ]
           ]
          },
          "colorway": [
           "#636efa",
           "#EF553B",
           "#00cc96",
           "#ab63fa",
           "#FFA15A",
           "#19d3f3",
           "#FF6692",
           "#B6E880",
           "#FF97FF",
           "#FECB52"
          ],
          "font": {
           "color": "#2a3f5f"
          },
          "geo": {
           "bgcolor": "white",
           "lakecolor": "white",
           "landcolor": "#E5ECF6",
           "showlakes": true,
           "showland": true,
           "subunitcolor": "white"
          },
          "hoverlabel": {
           "align": "left"
          },
          "hovermode": "closest",
          "mapbox": {
           "style": "light"
          },
          "paper_bgcolor": "white",
          "plot_bgcolor": "#E5ECF6",
          "polar": {
           "angularaxis": {
            "gridcolor": "white",
            "linecolor": "white",
            "ticks": ""
           },
           "bgcolor": "#E5ECF6",
           "radialaxis": {
            "gridcolor": "white",
            "linecolor": "white",
            "ticks": ""
           }
          },
          "scene": {
           "xaxis": {
            "backgroundcolor": "#E5ECF6",
            "gridcolor": "white",
            "gridwidth": 2,
            "linecolor": "white",
            "showbackground": true,
            "ticks": "",
            "zerolinecolor": "white"
           },
           "yaxis": {
            "backgroundcolor": "#E5ECF6",
            "gridcolor": "white",
            "gridwidth": 2,
            "linecolor": "white",
            "showbackground": true,
            "ticks": "",
            "zerolinecolor": "white"
           },
           "zaxis": {
            "backgroundcolor": "#E5ECF6",
            "gridcolor": "white",
            "gridwidth": 2,
            "linecolor": "white",
            "showbackground": true,
            "ticks": "",
            "zerolinecolor": "white"
           }
          },
          "shapedefaults": {
           "line": {
            "color": "#2a3f5f"
           }
          },
          "ternary": {
           "aaxis": {
            "gridcolor": "white",
            "linecolor": "white",
            "ticks": ""
           },
           "baxis": {
            "gridcolor": "white",
            "linecolor": "white",
            "ticks": ""
           },
           "bgcolor": "#E5ECF6",
           "caxis": {
            "gridcolor": "white",
            "linecolor": "white",
            "ticks": ""
           }
          },
          "title": {
           "x": 0.05
          },
          "xaxis": {
           "automargin": true,
           "gridcolor": "white",
           "linecolor": "white",
           "ticks": "",
           "title": {
            "standoff": 15
           },
           "zerolinecolor": "white",
           "zerolinewidth": 2
          },
          "yaxis": {
           "automargin": true,
           "gridcolor": "white",
           "linecolor": "white",
           "ticks": "",
           "title": {
            "standoff": 15
           },
           "zerolinecolor": "white",
           "zerolinewidth": 2
          }
         }
        },
        "title": {
         "text": "CPT - P(AR|AR)"
        },
        "width": 500,
        "xaxis": {
         "anchor": "y",
         "domain": [
          0,
          1
         ],
         "matches": "x9",
         "nticks": 20,
         "range": [
          0,
          90
         ],
         "showticklabels": false,
         "title": {}
        },
        "xaxis2": {
         "anchor": "y2",
         "domain": [
          0,
          1
         ],
         "matches": "x9",
         "nticks": 20,
         "range": [
          0,
          90
         ],
         "showticklabels": false,
         "title": {}
        },
        "xaxis3": {
         "anchor": "y3",
         "domain": [
          0,
          1
         ],
         "matches": "x9",
         "nticks": 20,
         "range": [
          0,
          90
         ],
         "showticklabels": false,
         "title": {}
        },
        "xaxis4": {
         "anchor": "y4",
         "domain": [
          0,
          1
         ],
         "matches": "x9",
         "nticks": 20,
         "range": [
          0,
          90
         ],
         "showticklabels": false,
         "title": {}
        },
        "xaxis5": {
         "anchor": "y5",
         "domain": [
          0,
          1
         ],
         "matches": "x9",
         "nticks": 20,
         "range": [
          0,
          90
         ],
         "showticklabels": false,
         "title": {}
        },
        "xaxis6": {
         "anchor": "y6",
         "domain": [
          0,
          1
         ],
         "matches": "x9",
         "nticks": 20,
         "range": [
          0,
          90
         ],
         "showticklabels": false,
         "title": {}
        },
        "xaxis7": {
         "anchor": "y7",
         "domain": [
          0,
          1
         ],
         "matches": "x9",
         "nticks": 20,
         "range": [
          0,
          90
         ],
         "showticklabels": false,
         "title": {}
        },
        "xaxis8": {
         "anchor": "y8",
         "domain": [
          0,
          1
         ],
         "matches": "x9",
         "nticks": 20,
         "range": [
          0,
          90
         ],
         "showticklabels": false,
         "title": {}
        },
        "xaxis9": {
         "anchor": "y9",
         "domain": [
          0,
          1
         ],
         "nticks": 20,
         "range": [
          0,
          90
         ],
         "title": {
          "text": "Airway resistance (%)"
         }
        },
        "yaxis": {
         "anchor": "x",
         "domain": [
          0.8915555555555555,
          1
         ],
         "range": [
          0,
          1
         ],
         "title": {
          "text": "AR= 5"
         }
        },
        "yaxis2": {
         "anchor": "x2",
         "domain": [
          0.7801111111111111,
          0.8885555555555555
         ],
         "range": [
          0,
          1
         ],
         "title": {
          "text": "AR=15"
         }
        },
        "yaxis3": {
         "anchor": "x3",
         "domain": [
          0.6686666666666666,
          0.7771111111111111
         ],
         "range": [
          0,
          1
         ],
         "title": {
          "text": "AR=25"
         }
        },
        "yaxis4": {
         "anchor": "x4",
         "domain": [
          0.5572222222222222,
          0.6656666666666666
         ],
         "range": [
          0,
          1
         ],
         "title": {
          "text": "AR=35"
         }
        },
        "yaxis5": {
         "anchor": "x5",
         "domain": [
          0.4457777777777778,
          0.5542222222222222
         ],
         "range": [
          0,
          1
         ],
         "title": {
          "text": "AR=45"
         }
        },
        "yaxis6": {
         "anchor": "x6",
         "domain": [
          0.3343333333333333,
          0.44277777777777777
         ],
         "range": [
          0,
          1
         ],
         "title": {
          "text": "AR=55"
         }
        },
        "yaxis7": {
         "anchor": "x7",
         "domain": [
          0.2228888888888889,
          0.3313333333333333
         ],
         "range": [
          0,
          1
         ],
         "title": {
          "text": "AR=65"
         }
        },
        "yaxis8": {
         "anchor": "x8",
         "domain": [
          0.11144444444444444,
          0.21988888888888888
         ],
         "range": [
          0,
          1
         ],
         "title": {
          "text": "AR=75"
         }
        },
        "yaxis9": {
         "anchor": "x9",
         "domain": [
          0,
          0.10844444444444444
         ],
         "range": [
          0,
          1
         ],
         "title": {
          "text": "AR=85"
         }
        }
       }
      }
     },
     "metadata": {},
     "output_type": "display_data"
    }
   ],
   "source": [
    "fig.show()"
   ]
  },
  {
   "cell_type": "code",
   "execution_count": null,
   "metadata": {},
   "outputs": [],
   "source": []
  }
 ],
 "metadata": {
  "kernelspec": {
   "display_name": "phd",
   "language": "python",
   "name": "python3"
  },
  "language_info": {
   "codemirror_mode": {
    "name": "ipython",
    "version": 3
   },
   "file_extension": ".py",
   "mimetype": "text/x-python",
   "name": "python",
   "nbconvert_exporter": "python",
   "pygments_lexer": "ipython3",
   "version": "3.10.13"
  }
 },
 "nbformat": 4,
 "nbformat_minor": 2
}
