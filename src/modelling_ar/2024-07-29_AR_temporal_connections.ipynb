{
 "cells": [
  {
   "cell_type": "markdown",
   "metadata": {},
   "source": [
    "In this notebook, I will model the factor that interconnects the airway resistance between two consecutive days."
   ]
  },
  {
   "cell_type": "code",
   "execution_count": null,
   "metadata": {},
   "outputs": [],
   "source": [
    "import src.models.var_builders as var_builders\n",
    "import src.data.helpers as dh\n",
    "import pandas as pd\n",
    "from plotly.subplots import make_subplots\n",
    "import plotly.graph_objects as go\n",
    "import plotly.express as px\n",
    "import numpy as np\n",
    "import src.models.helpers as mh\n",
    "import src.models.cpts.helpers as cpth"
   ]
  },
  {
   "cell_type": "code",
   "execution_count": null,
   "metadata": {},
   "outputs": [],
   "source": [
    "(\n",
    "    HFEV1,\n",
    "    ecFEV1,\n",
    "    AR,\n",
    "    HO2Sat,\n",
    "    O2SatFFA,\n",
    "    IA,\n",
    "    UO2Sat,\n",
    "    O2Sat,\n",
    "    ecFEF2575prctecFEV1,\n",
    ") = var_builders.o2sat_fev1_fef2575_point_in_time_model_shared_healthy_vars(\n",
    "    180, 10, \"Male\"\n",
    ")"
   ]
  },
  {
   "cell_type": "code",
   "execution_count": null,
   "metadata": {},
   "outputs": [],
   "source": [
    "df = dh.load_excel(\n",
    "    # f\"{dh.get_path_to_main()}/ExcelFiles/BR/Refining_F3/infer_AR_with_two_days_model_O2Sat_ecFEV1_ecFEF2575.xlsx\",\n",
    "    # f\"{dh.get_path_to_main()}/ExcelFiles/BR/Refining_F3/infer_AR_with_two_days_model_O2Sat_FEV1.xlsx\",\n",
    "    f\"{dh.get_path_to_main()}/ExcelFiles/BR/Refining_F3/infer_AR_with_two_days_model_ecFEV1_ecFEF2575.xlsx\",\n",
    "    [AR.name],\n",
    "    [\"Day\"],\n",
    "    # ).drop(columns=[\"Unnamed: 0\", HO2Sat.name, IA.name, HFEV1.name])\n",
    ").drop(columns=[HO2Sat.name, IA.name, HFEV1.name])"
   ]
  },
  {
   "cell_type": "code",
   "execution_count": null,
   "metadata": {},
   "outputs": [],
   "source": [
    "def get_days_elapsed_for_offset(df_for_ID, idx_offset=1):\n",
    "    \"\"\"\n",
    "    Links each recording with a previous recording that is idx_offset indices before it\n",
    "    For idx_offset = 1, consecutive recordings are linked\n",
    "    \"\"\"\n",
    "    df_for_ID = df_for_ID.copy()\n",
    "\n",
    "    def calc_days_elapsed(curr, prev):\n",
    "        if prev == None:\n",
    "            return None\n",
    "        return (curr - prev).days\n",
    "        # return (curr - prev).total_seconds() / 3600 / 24\n",
    "\n",
    "    df_for_ID[\"Prev date\"] = df_for_ID.shift(idx_offset)[\"Day\"]\n",
    "    s_days_elapsed = df_for_ID.apply(\n",
    "        lambda x: calc_days_elapsed(x[\"Day\"], x[\"Prev date\"]), axis=1\n",
    "    )\n",
    "\n",
    "    return s_days_elapsed\n",
    "\n",
    "\n",
    "def get_days_elapsed_and_AR_mean_shift(df_for_ID, idx_offset=1):\n",
    "    df_for_ID = df_for_ID.copy()\n",
    "    df_for_ID[\"Days elapsed\"] = get_days_elapsed_for_offset(df_for_ID, idx_offset)\n",
    "\n",
    "    df_for_ID[\"AR mean\"] = df_for_ID.apply(lambda x: AR.get_mean(x[AR.name]), axis=1)\n",
    "    # df_for_ID['AR skewness'] = df_for_ID.apply(lambda x: AR.get_skewness(x[AR.name]), axis=1)\n",
    "\n",
    "    df_for_ID[\"Prev AR mean\"] = df_for_ID.shift(idx_offset)[\"AR mean\"]\n",
    "    # df_for_ID['Prev AR skewness'] = df_for_ID.shift(idx_offset)['AR skewness']\n",
    "\n",
    "    df_for_ID[\"AR mean shift\"] = df_for_ID[\"AR mean\"] - df_for_ID[\"Prev AR mean\"]\n",
    "    # df_for_ID['AR skewness shift'] = df_for_ID['AR skewness'] - df_for_ID['Prev AR skewness']\n",
    "\n",
    "    return df_for_ID[[\"ID\", \"Day\", \"Days elapsed\", \"AR mean shift\"]]\n",
    "    # return df_for_ID[['ID', 'Day', 'Days elapsed', 'AR mean shift', 'AR skewness shift']]\n",
    "\n",
    "\n",
    "def generate_AR_change_sample(df_samples_for_ID, idx_offset=1):\n",
    "    \"\"\"\n",
    "    1. Sample from AR1 and AR2\n",
    "    2. Compute the change in AR and save it\n",
    "    3. Repeat 500 times for this ID, then aggregate the results across IDs\n",
    "    500*300 ID = 150,000 samples, can do more if needed\n",
    "    \"\"\"\n",
    "    df_samples_for_ID = df_samples_for_ID.copy()\n",
    "\n",
    "    df_samples_for_ID[\"Days elapsed\"] = get_days_elapsed_for_offset(\n",
    "        df_samples_for_ID, idx_offset\n",
    "    )\n",
    "\n",
    "    df_samples_for_ID[\"Prev AR samples\"] = df_samples_for_ID.shift(idx_offset)[\n",
    "        \"AR samples\"\n",
    "    ]\n",
    "\n",
    "    # Remove entries at the boundaries that have no previous recordings after applying the offset\n",
    "    df_samples_for_ID = df_samples_for_ID.dropna(subset=[\"Prev AR samples\"])\n",
    "\n",
    "    df_samples_for_ID[\"AR samples shift\"] = df_samples_for_ID.apply(\n",
    "        lambda row: row[\"AR samples\"] - row[\"Prev AR samples\"], axis=1\n",
    "    )\n",
    "    df_samples_for_ID = df_samples_for_ID.explode(\"AR samples shift\")\n",
    "\n",
    "    return df_samples_for_ID[[\"ID\", \"Day\", \"Days elapsed\", \"AR samples shift\"]]\n",
    "\n",
    "\n",
    "# out = df.groupby('ID').apply(get_days_elapsed_and_AR_mean_shift).reset_index(drop=True)"
   ]
  },
  {
   "cell_type": "markdown",
   "metadata": {},
   "source": [
    "## Compute day elapsed between two consecutive entries"
   ]
  },
  {
   "cell_type": "code",
   "execution_count": null,
   "metadata": {},
   "outputs": [],
   "source": [
    "df1 = df.merge(\n",
    "    df.groupby(\"ID\").apply(get_days_elapsed_and_AR_mean_shift).reset_index(drop=True),\n",
    "    on=[\"ID\", \"Day\"],\n",
    "    how=\"inner\",\n",
    ")"
   ]
  },
  {
   "cell_type": "code",
   "execution_count": null,
   "metadata": {},
   "outputs": [],
   "source": [
    "df1.head()"
   ]
  },
  {
   "cell_type": "markdown",
   "metadata": {},
   "source": [
    "### Validate the output"
   ]
  },
  {
   "cell_type": "code",
   "execution_count": null,
   "metadata": {},
   "outputs": [],
   "source": [
    "df1.describe()"
   ]
  },
  {
   "cell_type": "code",
   "execution_count": null,
   "metadata": {},
   "outputs": [],
   "source": [
    "df1[df1[\"Days elapsed\"] > 100]"
   ]
  },
  {
   "cell_type": "code",
   "execution_count": null,
   "metadata": {},
   "outputs": [],
   "source": [
    "# Verify that the prev day is indeed correct)\n",
    "df1.iloc[2295:2297]\n",
    "# Count number of None\n",
    "print(df1[\"Days elapsed\"].isna().sum())\n",
    "# Count number if ids\n",
    "print(df1[\"ID\"].nunique())\n",
    "# They should be equal"
   ]
  },
  {
   "cell_type": "code",
   "execution_count": null,
   "metadata": {},
   "outputs": [],
   "source": [
    "df1[df1[\"AR mean shift\"] > 20]\n",
    "df1.iloc[2537:2539]"
   ]
  },
  {
   "cell_type": "markdown",
   "metadata": {},
   "source": [
    "### Analyse time between two consecutive entries"
   ]
  },
  {
   "cell_type": "code",
   "execution_count": null,
   "metadata": {},
   "outputs": [],
   "source": [
    "vc = df1[\"Days elapsed\"].value_counts()\n",
    "# 1/3 of the consecutive indices are more than 1 day apart (~10k entries)\n",
    "# 97% of the entries are less than 5 days apart from the previous entry\n",
    "# For the CPT, I'll take 1, 2, 3, 4, 5 days apart, then avg 6-50 -> this last up to the max days diff\n",
    "\n",
    "\n",
    "# Plot the histogram with vc index and vc values\n",
    "fig = px.bar(x=vc.index, y=vc.values / sum(vc.values) * 100)\n",
    "# Set x axis label to day to day difference\n",
    "fig.update_xaxes(\n",
    "    title_text=\"Number of days between two consecutive entries\",\n",
    "    range=[0, 30],\n",
    "    tickvals=list(range(0, 31, 1)),\n",
    ")\n",
    "# Set y axis label to percentage\n",
    "fig.update_yaxes(\n",
    "    title_text=\"Percentage of total entries (%)\", tickvals=[2] + list(range(0, 55, 5))\n",
    ")\n",
    "\n",
    "title = \"Distribution of the time between two measurements\"\n",
    "# Set title\n",
    "fig.update_layout(title=title, width=800, height=350, font=dict(size=10))\n",
    "\n",
    "fig.show()\n",
    "\n",
    "# # Save figure\n",
    "# fig.write_image(\n",
    "#     f\"{dh.get_path_to_main()}/PlotsBreathe/Interconnecting_ARs_entries/{title}.pdf\"\n",
    "# )"
   ]
  },
  {
   "cell_type": "code",
   "execution_count": null,
   "metadata": {},
   "outputs": [],
   "source": [
    "# Study per ID\n",
    "# Get idx at which the days elapsed is more than 3\n",
    "\n",
    "df1[df1[\"Days elapsed\"] > 3].index\n",
    "\n",
    "\n",
    "def get_idx_more_than_n_days_elapsed(df, n=3):\n",
    "    df = df.reset_index()\n",
    "    n_days_total = df.shape[0]\n",
    "    df_tmp = df[df[\"Days elapsed\"] > n]\n",
    "    if df_tmp.empty:\n",
    "        return n_days_total, n_days_total\n",
    "    n_days_consec = df_tmp.index[0]\n",
    "    return n_days_consec, n_days_total\n",
    "\n",
    "\n",
    "s_n_entries_to_break = (\n",
    "    df1.groupby(\"ID\")\n",
    "    .apply(lambda x: get_idx_more_than_n_days_elapsed(x, 3))\n",
    "    .sort_values(ascending=False)\n",
    ")\n",
    "\n",
    "s_n_entries_to_break"
   ]
  },
  {
   "cell_type": "code",
   "execution_count": null,
   "metadata": {},
   "outputs": [],
   "source": [
    "df1[df1.ID == \"101\"]"
   ]
  },
  {
   "cell_type": "markdown",
   "metadata": {},
   "source": [
    "## Compute shift in airway resistance"
   ]
  },
  {
   "cell_type": "code",
   "execution_count": null,
   "metadata": {},
   "outputs": [],
   "source": [
    "# Max offset between entries will be equal to the max number of days elapsed in the model, to maximise the contributing data\n",
    "max_offset = 3"
   ]
  },
  {
   "cell_type": "code",
   "execution_count": null,
   "metadata": {},
   "outputs": [],
   "source": [
    "df[\"AR norm\"] = df.apply(lambda row: row[AR.name] / sum(row[AR.name]), axis=1)\n",
    "df[\"AR samples\"] = df.apply(lambda row: AR.sample(n=50, p=row[\"AR norm\"]), axis=1)"
   ]
  },
  {
   "cell_type": "code",
   "execution_count": null,
   "metadata": {},
   "outputs": [],
   "source": [
    "# Build aggregate df of shift in AR for different offsets\n",
    "\n",
    "df_mixed_offset = pd.DataFrame()\n",
    "\n",
    "for n_idx_offset in range(1, max_offset + 1):\n",
    "    print(\"offset\", n_idx_offset)\n",
    "    df_offset = (\n",
    "        df.groupby(\"ID\")\n",
    "        .apply(lambda df_for_ID: generate_AR_change_sample(df_for_ID, n_idx_offset))\n",
    "        .reset_index(drop=True)\n",
    "    )\n",
    "    df_offset[\"Offset\"] = n_idx_offset\n",
    "    # Remove nan\n",
    "    df_offset = df_offset.dropna()\n",
    "\n",
    "    # Add to mix offset\n",
    "    df_mixed_offset = pd.concat([df_mixed_offset, df_offset])"
   ]
  },
  {
   "cell_type": "code",
   "execution_count": null,
   "metadata": {},
   "outputs": [],
   "source": [
    "df_mixed_offset"
   ]
  },
  {
   "cell_type": "markdown",
   "metadata": {},
   "source": [
    "### Study the shift"
   ]
  },
  {
   "cell_type": "code",
   "execution_count": null,
   "metadata": {},
   "outputs": [],
   "source": [
    "# Scatter plot with days elapsed on x axis and AR diff on y axis, using px\n",
    "y_col = \"AR mean shift\"\n",
    "y_col = \"AR samples shift\"\n",
    "# y_col = 'AR skewness shift'\n",
    "fig = px.scatter(df_mixed_offset, x=\"Days elapsed\", y=y_col, color=\"ID\")\n",
    "# Set x axis range to 0-100\n",
    "fig.update_xaxes(range=[0, 200])\n",
    "fig.update_xaxes(range=[0, 50], title=\"Number of days elapsed\")\n",
    "# Add more y axi tick vals\n",
    "fig.update_yaxes(title=\"Mean airway resistance shift (%)\")\n",
    "# Reduce marker size\n",
    "fig.update_traces(marker=dict(size=2))\n",
    "title = f\"How much does the airway resistance change in n days (1- {max_offset} idx offset)? - samples\"\n",
    "fig.update_layout(\n",
    "    title=title, width=800, height=400, font=dict(size=10), showlegend=False\n",
    ")\n",
    "fig.show()\n",
    "# fig.write_image(\n",
    "#     f\"{dh.get_path_to_main()}/PlotsBreathe/Interconnecting_ARs_entries/{title}.pdf\"\n",
    "# )"
   ]
  },
  {
   "cell_type": "code",
   "execution_count": null,
   "metadata": {},
   "outputs": [],
   "source": [
    "# I want to see the distribution of AR diffs for each day elapsed\n",
    "from scipy.stats import norm\n",
    "\n",
    "y_col = \"AR mean shift\"\n",
    "y_col = \"AR samples shift\"\n",
    "\n",
    "fig = make_subplots(rows=6, cols=1, shared_xaxes=True)\n",
    "xbin_size = 0.2\n",
    "# xbin_size = 1\n",
    "xbin_absolute_span = 50\n",
    "# xbin_absolute_span = 10\n",
    "xbins = dict(\n",
    "    start=-xbin_absolute_span - 0.5, end=xbin_absolute_span + 0.5, size=xbin_size\n",
    ")\n",
    "\n",
    "\n",
    "def add_plot_for_n_days_elapsed(n_days_elapsed, row):\n",
    "    df_tmp = df_mixed_offset[df_mixed_offset[\"Days elapsed\"] == n_days_elapsed]\n",
    "    print(n_days_elapsed, df_tmp.shape)\n",
    "    fig.add_trace(\n",
    "        go.Histogram(\n",
    "            x=df_tmp[y_col],\n",
    "            xbins=xbins,\n",
    "            histnorm=\"probability\",\n",
    "            name=(\n",
    "                f\"{n_days_elapsed} day elapsed\"\n",
    "                if n_days_elapsed == 1\n",
    "                else f\"{n_days_elapsed} days elapsed\"\n",
    "            ),\n",
    "        ),\n",
    "        row=row,\n",
    "        col=1,\n",
    "    )\n",
    "    return df_tmp\n",
    "    # Model the data by a normal distribution\n",
    "    # mean = df_tmp[y_col].mean()\n",
    "    # std = df_tmp[y_col].std()\n",
    "    # x = list(range(-10, 11))\n",
    "    # y = norm.pdf(x, loc=mean, scale=std)\n",
    "    # Add trace\n",
    "    # fig.add_trace(go.Scatter(x=x, y=y, mode='lines', name=f\"Normal distribution for {offset} days offset\"), row=row, col=1)\n",
    "\n",
    "\n",
    "# for offset in range(1, 51):\n",
    "#     add_plot_for_n_days_elapsed(offset, offset)\n",
    "\n",
    "df_1_DE = add_plot_for_n_days_elapsed(1, 1)\n",
    "add_plot_for_n_days_elapsed(2, 2)\n",
    "add_plot_for_n_days_elapsed(8, 3)\n",
    "add_plot_for_n_days_elapsed(14, 4)\n",
    "add_plot_for_n_days_elapsed(20, 5)\n",
    "add_plot_for_n_days_elapsed(50, 6)\n",
    "\n",
    "# Set y axis range to 0, 0.6\n",
    "# fig.update_yaxes(range=[0, 0.58])\n",
    "# Set x axis label\n",
    "fig.update_xaxes(title_text=\"Shift in mean airway resistance (%)\", row=6, col=1)\n",
    "# fig.update_xaxes(title_text='Change in skewness of airway resistance (%)', row=6, col=1)\n",
    "# Add x axis tick vals\n",
    "# fig.update_xaxes(tickvals=np.arange(-10, 11, 1), row=6, col=1)\n",
    "# fig.update_xaxes(tickvals=np.arange(-50, 55, 5), row=6, col=1)\n",
    "# Update layout\n",
    "# title = f\"Shift in airway resistance for different time periods elapsed (bin_width = {xbin_size}%, bin_span = {xbin_absolute_span})\"\n",
    "title = f\"Shift in airway resistance - O2sat, ecFEV1\"\n",
    "# fig.update_layout(height=2600, width=1000, title=title)\n",
    "fig.update_layout(height=600, width=1000, title=title)\n",
    "\n",
    "# Keep y axis lower\n",
    "fig.update_yaxes(range=[0, 0.01])\n",
    "#\n",
    "# Save image\n",
    "fig.write_image(\n",
    "    f\"{dh.get_path_to_main()}/PlotsBreathe/Interconnecting_ARs_entries/{title}.pdf\"\n",
    ")\n",
    "fig.show()"
   ]
  },
  {
   "cell_type": "code",
   "execution_count": null,
   "metadata": {},
   "outputs": [],
   "source": [
    "fig.write_image(\n",
    "    f\"{dh.get_path_to_main()}/PlotsBreathe/Interconnecting_ARs_entries/{title} - samples.pdf\"\n",
    ")"
   ]
  },
  {
   "cell_type": "markdown",
   "metadata": {},
   "source": [
    "### Build CPT\n"
   ]
  },
  {
   "cell_type": "code",
   "execution_count": null,
   "metadata": {},
   "outputs": [],
   "source": [
    "# Building P(AR_next | days_elapsed, AR_prev)\n",
    "# import src.models.helpers as mh\n",
    "import numpy as np\n",
    "import src.modelling_ar.ar as model_ar\n",
    "\n",
    "AR1 = mh.VariableNode(\n",
    "    \"Airway resistance day 1 (%)\", 0, 90, 2, prior={\"type\": \"uniform\"}\n",
    ")\n",
    "AR2 = mh.VariableNode(\n",
    "    \"Airway resistance day 2 (%)\", 0, 90, 2, prior={\"type\": \"uniform\"}\n",
    ")\n",
    "# Set the max number of days elapsed to max offset in order to have as much data as possible per number of days elapsed\n",
    "DE = mh.DiscreteVariableNode(\"Days elapsed\", 1, max_offset, 1)"
   ]
  },
  {
   "cell_type": "code",
   "execution_count": null,
   "metadata": {},
   "outputs": [],
   "source": [
    "def calc_cpt(\n",
    "    AR_next_day: mh.VariableNode,\n",
    "    AR_curr_day: mh.VariableNode,\n",
    "    DE: mh.DiscreteVariableNode,\n",
    "    shift_p,\n",
    "    shift_val,\n",
    "    tol=1e-6,\n",
    "    debug=False,\n",
    "):\n",
    "    cpt = np.zeros([AR_next_day.card, AR_curr_day.card, DE.card])\n",
    "\n",
    "    for i, de in enumerate(DE.values):\n",
    "        # For each shift value, get the mapping AR -> AR_next_day for each shifted bin in AR\n",
    "        # Weight the result by the probability of that shift\n",
    "        # Add it to the CPT for this day\n",
    "        for s in range(len(shift_val)):\n",
    "            if debug:\n",
    "                print(f\"Computing CPT for days elapsed={de}, shift={shift_val[s]}\")\n",
    "            # Summing over the columns of the cpt returned by calc_cpt_X_plus_k should give 1, except at the boundaries\n",
    "            # Since we weight the 1s by a probability of shift that also sums to one, the sum of the cpt should be 1 (except at the boundaries, see below)\n",
    "            cpt_contrib = calc_cpt_X_plus_k(\n",
    "                AR_curr_day,\n",
    "                AR_next_day,\n",
    "                shift_val[s],\n",
    "                tol=tol,\n",
    "                debug=debug,\n",
    "            )\n",
    "            # If has nan\n",
    "            if (np.isnan(cpt_contrib) == True).any():\n",
    "                print(\"issue with cpt contribution\")\n",
    "                print(cpt_contrib)\n",
    "            cpt[:, :, i] += shift_p[i, s] * cpt_contrib\n",
    "        # Normalise the CPT along axis 0 (AR_next_day)\n",
    "        total = np.sum(cpt[:, :, i], axis=0)\n",
    "        if (np.isnan(total) == False).all():\n",
    "            print(cpt[:, :, i])\n",
    "        print(\n",
    "            f\"Sum along axis 0 before normalisation: np.sum(cpt[:, :, {i}], axis=0) = {total}\"\n",
    "        )\n",
    "        cpt[:, :, i] /= total\n",
    "\n",
    "        # Check that the sum of probabilities is 1\n",
    "        total = np.sum(cpt[:, :, i], axis=0)\n",
    "        assert (\n",
    "            abs(total - 1) < tol\n",
    "        ).all(), f\"The sum of the probabilities should be 1, got sum(cpt)={total}])\"\n",
    "    return cpt\n",
    "\n",
    "\n",
    "def calc_cpt_X_plus_k(\n",
    "    Z: mh.VariableNode,\n",
    "    X: mh.VariableNode,\n",
    "    k,\n",
    "    tol=1e-6,\n",
    "    debug=False,\n",
    "):\n",
    "    \"\"\"\n",
    "    Computes the CPT for P(Z|X, Y), when Z is shifted from X by a constant value k\n",
    "    Z = X + k\n",
    "    X: parent variable\n",
    "    Z: child variable\n",
    "    k: constant, positive or negative\n",
    "\n",
    "    We compute the CPT with a shift and conquer method:\n",
    "    1) Start with a CPT zeroed out probabilities\n",
    "    2) Shift all X bin intervals by the drop amount\n",
    "    3) For each shifted X bin, spread the X bin evenly onto the overlapping Z bins\n",
    "    4) Normalise the CPT\n",
    "\n",
    "    This allows the function to be agnostic of how X and Z are binned.\n",
    "\n",
    "    - What happens when the function is shifted outside the boundary? -> Raise an error as it shouldn't happen by how the model is built\n",
    "    \"\"\"\n",
    "    nbinsX = len(X.bins)\n",
    "    nbinsZ = len(Z.bins)\n",
    "\n",
    "    cpt = np.zeros([nbinsZ, nbinsX])\n",
    "\n",
    "    for i in range(nbinsX):\n",
    "        shifted_X_bin_low = X.bins[i] + k\n",
    "        shifted_X_bin_up = (X.bins[i] + X.bin_width) + k\n",
    "        if debug:\n",
    "            print(\n",
    "                f\"Shifting X bin {i} from [{X.bins[i]};{X.bins[i]+X.bin_width}) to [{shifted_X_bin_low};{shifted_X_bin_up}), shift amount={k}%\"\n",
    "            )\n",
    "        # If the shifted bin is outside the boundaries of Z, continue:\n",
    "        if (\n",
    "            shifted_X_bin_low >= (Z.bins[-1] + Z.bin_width)\n",
    "            or shifted_X_bin_up <= Z.bins[0]\n",
    "        ):\n",
    "            if debug:\n",
    "                print(\n",
    "                    f\"Shift outside boundaries of Z.bins=[{Z.bins[0]};{Z.bins[-1] + Z.bin_width})\"\n",
    "                )\n",
    "            continue\n",
    "        # Handle the case where the shifted bin is partially outside the boundaries\n",
    "        # Adjust the boundaries of the shifted bin to be within the boundaries of Z\n",
    "        if shifted_X_bin_low < Z.bins[0]:\n",
    "            if debug:\n",
    "                print(\"Shift partially outside boundaries, adjusting lower boundary\")\n",
    "            shifted_X_bin_low = Z.bins[0]\n",
    "        if shifted_X_bin_up > Z.bins[-1] + Z.bin_width:\n",
    "            if debug:\n",
    "                print(\"Shift partially outside boundaries, adjusting upper boundary\")\n",
    "            shifted_X_bin_up = Z.bins[-1] + Z.bin_width\n",
    "\n",
    "        bin_contribution = mh.get_bin_contribution_to_cpt(\n",
    "            [shifted_X_bin_low, shifted_X_bin_up], Z.bins, debug=debug\n",
    "        )\n",
    "        if debug:\n",
    "            print(f\"i={i}/{nbinsX-1}, z={bin_contribution}\")\n",
    "        # There is just one bin contribution to the CPT\n",
    "        cpt[:, i] = bin_contribution\n",
    "\n",
    "    sum_over_x = np.sum(cpt, axis=0)\n",
    "    if debug:\n",
    "        print(f\"Results before normalisation sum(cpt)={sum_over_x}\")\n",
    "\n",
    "    # IMPORTANT: there is no boundary check in this function. This allows to have no conditional probability distribution for certain bins of AR2, which are not compatible with the amount of shift applied to AR1\n",
    "    # Therefore either the sum of probabilities is 0 or 1 for each bin of AR2, summed over AR1\n",
    "    for i in range(nbinsZ):\n",
    "        if sum_over_x[i] == 0:\n",
    "            if debug:\n",
    "                print(f\"Sum of probabilities is 0 for bin {i}, skipping normalisation\")\n",
    "            continue\n",
    "        cpt[i, :] /= sum_over_x[i]\n",
    "        assert (\n",
    "            abs(sum_over_x[i] - 1) < tol\n",
    "        ).all(), f\"The sum of the probabilities should be 1, got sum(cpt[i, :])={sum_over_x[i]}])\"\n",
    "\n",
    "    return cpt"
   ]
  },
  {
   "cell_type": "code",
   "execution_count": null,
   "metadata": {},
   "outputs": [],
   "source": [
    "# Build the shift distributions\n",
    "size = 0.2\n",
    "shift_min = -20\n",
    "shift_max = 20\n",
    "shift_val = np.arange(shift_min, shift_max + size / 2, 0.2)\n",
    "shift_p = np.empty((max_offset, len(shift_val)))\n",
    "\n",
    "# Check identity matrix if shift is 0\n",
    "# cpt_point_mass = np.zeros(len(shift_val))\n",
    "# cpt_point_mass[100] = 1\n",
    "\n",
    "for i, de in enumerate(DE.values):\n",
    "    print(\"days elapsed: \", de)\n",
    "    shift = df_mixed_offset[df_mixed_offset[\"Days elapsed\"] == de][\"AR samples shift\"]\n",
    "\n",
    "    # Bin up the mean shift series into bins starting at -5 and ending at 5, with bin size 1\n",
    "    shift_p[i, :] = np.histogram(\n",
    "        shift,\n",
    "        bins=np.arange(shift_min - size / 2, shift_max + size, size),\n",
    "        density=True,\n",
    "    )[0]\n",
    "    # shift_p[i, :] = cpt_point_mass\n",
    "\n",
    "print(\"shift probability shape: \", shift_p.shape)\n",
    "print(\"shift_val: \", shift_val)"
   ]
  },
  {
   "cell_type": "code",
   "execution_count": null,
   "metadata": {},
   "outputs": [],
   "source": [
    "cpt = calc_cpt(AR2, AR1, DE, shift_p, shift_val, debug=False)"
   ]
  },
  {
   "cell_type": "markdown",
   "metadata": {},
   "source": [
    "## Test uniform shift distribution"
   ]
  },
  {
   "cell_type": "code",
   "execution_count": null,
   "metadata": {},
   "outputs": [],
   "source": [
    "# Conclusion: With the completely uniform CPT, each AR1 bin contributes equally to all AR2 bins, hence the output is uniform over AR2\n",
    "\n",
    "p_ar2 = np.ones(AR2.card) / AR2.card\n",
    "# Repeat p_ar2 on each column AR1.card times\n",
    "cpt_uni = np.repeat(p_ar2[:, np.newaxis], AR1.card, axis=1)\n",
    "# Repeat this cpt DE.card times\n",
    "cpt_uni = np.repeat(cpt_uni[:, :, np.newaxis], DE.card, axis=2)"
   ]
  },
  {
   "cell_type": "code",
   "execution_count": null,
   "metadata": {},
   "outputs": [],
   "source": [
    "# P of AR2 is uniform over 5 bins centered on the bin of AR1\n",
    "cpt_ar2_ar1 = np.zeros([AR2.card, AR1.card])\n",
    "# Add padding left and right\n",
    "padding = 15\n",
    "for i in range(AR1.card):\n",
    "    if i <= padding:\n",
    "        low = 0\n",
    "    else:\n",
    "        low = i - padding\n",
    "    if AR2.card - 1 <= (i + padding):\n",
    "        up = AR2.card - 1\n",
    "    else:\n",
    "        up = i + padding\n",
    "\n",
    "    idx_range = list(range(low, up + 1))\n",
    "    cpt_ar2_ar1[idx_range, i] = 1 / len(idx_range)\n",
    "\n",
    "cpt_thick_uni = np.repeat(cpt_ar2_ar1[:, :, np.newaxis], DE.card, axis=2)\n",
    "cpt_thick_uni.shape"
   ]
  },
  {
   "cell_type": "markdown",
   "metadata": {},
   "source": [
    "## Plot CPT relationships"
   ]
  },
  {
   "cell_type": "code",
   "execution_count": null,
   "metadata": {},
   "outputs": [],
   "source": [
    "cpt.shape"
   ]
  },
  {
   "cell_type": "code",
   "execution_count": null,
   "metadata": {},
   "outputs": [],
   "source": [
    "import src.inference.helpers as ih\n",
    "\n",
    "# cpt = cpt_uni\n",
    "\n",
    "\n",
    "def compare_ARs_for_one_entry(idx):\n",
    "    title = f\"P(AR_next | AR_prev, days_elapsed) for diffent days elapsed (idx {idx}) - samples\"\n",
    "    fig = make_subplots(rows=1, cols=1, shared_xaxes=True)\n",
    "    ih.plot_histogram(\n",
    "        fig, AR1, df.loc[idx, AR.name], AR1.a, AR1.b, 1, 1, name=\"AR day 1\", annot=False\n",
    "    )\n",
    "    AR_next_day_p = np.matmul(cpt[:, :, 0], df.loc[idx, AR.name])\n",
    "    ih.plot_histogram(\n",
    "        fig,\n",
    "        AR2,\n",
    "        AR_next_day_p,\n",
    "        AR2.a,\n",
    "        AR2.b,\n",
    "        1,\n",
    "        1,\n",
    "        name=\"AR day 2, days elapsed=1\",\n",
    "        annot=False,\n",
    "    )\n",
    "    # AR_next_day_p = np.matmul(cpt[:, :, 2], df.loc[idx, AR.name])\n",
    "    # ih.plot_histogram(\n",
    "    #     fig,\n",
    "    #     AR2,\n",
    "    #     AR_next_day_p,\n",
    "    #     AR2.a,\n",
    "    #     AR2.b,\n",
    "    #     1,\n",
    "    #     1,\n",
    "    #     name=\"AR day 2, days elapsed=3\",\n",
    "    #     annot=False,\n",
    "    # )\n",
    "    # Add x axis title\n",
    "    fig.update_xaxes(title_text=\"Airway resistance (%)\", row=1, col=1)\n",
    "    # Reduce figure height\n",
    "    fig.update_layout(height=200, width=1000, title=title, font=dict(size=10))\n",
    "    # remove marings\n",
    "    fig.update_layout(margin=dict(l=2, r=2, t=30, b=2))\n",
    "    fig.show()\n",
    "    # Save figure\n",
    "    # fig.write_image(\n",
    "    #     f\"{dh.get_path_to_main()}/PlotsBreathe/Interconnecting_ARs_entries/{title}.pdf\"\n",
    "    # )\n",
    "\n",
    "\n",
    "compare_ARs_for_one_entry(20000)\n",
    "# compare_ARs_for_one_entry(21000)\n",
    "compare_ARs_for_one_entry(1000)\n",
    "compare_ARs_for_one_entry(4400)"
   ]
  },
  {
   "cell_type": "code",
   "execution_count": null,
   "metadata": {},
   "outputs": [],
   "source": [
    "de = 3\n",
    "fig, title = cpth.plot_2d_cpt(cpt_thick_uni[:, :, de - 1], AR2, AR1, 3000, invert=False)\n",
    "# Update font\n",
    "title = title + f\", {de} days elapsed, shift span [{shift_min};{shift_max}] - samples\"\n",
    "fig.update_layout(font=dict(size=7), title=title)\n",
    "fig.show()\n",
    "\n",
    "# Save figure\n",
    "# fig.write_image(\n",
    "#     f\"{dh.get_path_to_main()}/PlotsBreathe/Interconnecting_ARs_entries/{title}.pdf\"\n",
    "# )"
   ]
  },
  {
   "cell_type": "markdown",
   "metadata": {},
   "source": [
    "## Save CPT"
   ]
  },
  {
   "cell_type": "code",
   "execution_count": null,
   "metadata": {},
   "outputs": [],
   "source": [
    "# Save cpt\n",
    "cpth.save_cpt([AR2, AR1, DE], cpt, suffix=f\"_shift_span_[{shift_min};{shift_max}]\")"
   ]
  },
  {
   "cell_type": "markdown",
   "metadata": {},
   "source": [
    "## Study the shift per bin"
   ]
  },
  {
   "cell_type": "code",
   "execution_count": null,
   "metadata": {},
   "outputs": [],
   "source": [
    "df"
   ]
  },
  {
   "cell_type": "code",
   "execution_count": null,
   "metadata": {},
   "outputs": [],
   "source": [
    "AR.midbins"
   ]
  },
  {
   "cell_type": "code",
   "execution_count": null,
   "metadata": {},
   "outputs": [],
   "source": [
    "df_exploded = df1.copy()\n",
    "\n",
    "for i, row in df_exploded[0:10].iterrows():\n",
    "    row = pd.DataFrame(data=row[AR.name])\n",
    "    df_exploded = pd.concat([df_exploded, row], axis=1)\n",
    "\n",
    "df_exploded"
   ]
  },
  {
   "cell_type": "code",
   "execution_count": null,
   "metadata": {},
   "outputs": [],
   "source": []
  }
 ],
 "metadata": {
  "kernelspec": {
   "display_name": "phd",
   "language": "python",
   "name": "python3"
  },
  "language_info": {
   "codemirror_mode": {
    "name": "ipython",
    "version": 3
   },
   "file_extension": ".py",
   "mimetype": "text/x-python",
   "name": "python",
   "nbconvert_exporter": "python",
   "pygments_lexer": "ipython3",
   "version": "3.10.13"
  }
 },
 "nbformat": 4,
 "nbformat_minor": 2
}
