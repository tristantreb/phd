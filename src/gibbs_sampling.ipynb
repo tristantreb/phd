{
 "cells": [
  {
   "cell_type": "code",
   "execution_count": 1,
   "id": "3b340499",
   "metadata": {
    "pycharm": {
     "name": "#%%\n"
    }
   },
   "outputs": [
    {
     "name": "stdout",
     "output_type": "stream",
     "text": [
      "# conda environments:\r\n",
      "#\r\n",
      "base                     /Applications/anaconda3\r\n",
      "phd                   *  /Applications/anaconda3/envs/phd\r\n",
      "\r\n",
      "Python 3.10.0\r\n",
      "/Applications/anaconda3/envs/phd/bin/python\n"
     ]
    }
   ],
   "source": [
    "!conda env list\n",
    "!python -V\n",
    "import sys\n",
    "print(sys.executable)"
   ]
  },
  {
   "cell_type": "code",
   "execution_count": 2,
   "id": "75eeb988",
   "metadata": {
    "pycharm": {
     "name": "#%%\n"
    }
   },
   "outputs": [],
   "source": [
    "# LIBRARIES\n",
    "import numpy as np\n",
    "import pandas as pd\n",
    "\n",
    "# OUR OWN LIBRARIES\n",
    "import utils\n",
    "import models\n",
    "import inference_code"
   ]
  },
  {
   "cell_type": "markdown",
   "id": "c122d35f",
   "metadata": {
    "pycharm": {
     "name": "#%% md\n"
    }
   },
   "source": [
    "## Gibbs sampling <a class=\"anchor\" id=\"3.3\"></a>"
   ]
  },
  {
   "cell_type": "code",
   "execution_count": 6,
   "id": "329ee71e",
   "metadata": {
    "pycharm": {
     "name": "#%%\n"
    }
   },
   "outputs": [],
   "source": [
    "m = models.lungModel()\n",
    "bp = inference_code.beliefPropagation(print_output=0)\n",
    "\n",
    "# Gibbs inference code\n",
    "def gibbs_inference_code(observations, n=1000):\n",
    "\n",
    "    # Random initialisation\n",
    "    sample = m.sample()\n",
    "    inflammations = [sample['Inflammation']]\n",
    "    if 'Bacterial load' not in observations: bacterial_loads = [sample['Bacterial load']]\n",
    "    fev1s = [sample['FEV1']]\n",
    "    if 'Wellness' not in observations: wellnesses = [sample['Wellness']]\n",
    "\n",
    "    for j in np.arange(1,n):\n",
    "        # sample FEV1 knowing bacterial load\n",
    "        down_b = get_message_down_from_observation(observations['Bacterial load'] if 'Bacterial load' in observations else bacterial_loads[j-1],\n",
    "                                                   m.cpt_FEV1_bl)\n",
    "\n",
    "        sample_fev1 = utils.threeStatesSample(list(down_b.values()), list(down_b.keys()))\n",
    "        fev1s.append(sample_fev1)\n",
    "\n",
    "        # sample bl knowing its markov blanket (fev1 and inflammation)\n",
    "        if 'Bacterial load' not in observations:\n",
    "            down_i = get_message_down_from_observation(inflammations[j-1], m.cpt_bl_i)\n",
    "            up_fev1 = get_message_up_from_observation(fev1s[j], m.cpt_FEV1_bl)\n",
    "            belief_bl = bp.node_message([down_i, up_fev1])\n",
    "\n",
    "            sample_bl = utils.threeStatesSample(list(belief_bl.values()), list(belief_bl.keys()))\n",
    "            bacterial_loads.append(sample_bl)\n",
    "\n",
    "        # sample i knowing bl and wellness\n",
    "        up_bl = get_message_up_from_observation(observations['Bacterial load'] if 'Bacterial load' in observations else bacterial_loads[j],\n",
    "                                                m.cpt_bl_i)\n",
    "        up_w = get_message_up_from_observation(observations['Wellness'] if 'Wellness' in observations else wellnesses[j-1], m.cpt_w_i)\n",
    "        down_i = bp.message_down(m.marginal_i) # message down from prior\n",
    "        belief_i = bp.node_message([up_bl, up_w, down_i]) # compute node belief\n",
    "\n",
    "        sample_i = utils.threeStatesSample(list(belief_i.values()), list(belief_i.keys()))\n",
    "        inflammations.append(sample_i)\n",
    "\n",
    "        # sample w knowing i\n",
    "        if 'Wellness' not in observations:\n",
    "            down_i = get_message_down_from_observation(inflammations[j], m.cpt_w_i)\n",
    "\n",
    "            sample_w = utils.nStatesSample(list(down_i.values()), list(down_i.keys()))\n",
    "            wellnesses.append(sample_w)\n",
    "\n",
    "\n",
    "    samples = {}\n",
    "    if 'Inflammation' not in observations: samples['Inflammation'] = inflammations\n",
    "    if 'Wellness' not in observations: samples['Wellness'] = wellnesses\n",
    "    if 'Bacterial load' not in observations: samples['Bacterial load'] = bacterial_loads\n",
    "    if 'FEV1' not in observations: samples['FEV1'] = fev1s\n",
    "\n",
    "    return samples\n",
    "\n",
    "def get_message_up_from_observation(obs, cpt):\n",
    "    point_mass = bp.observe(obs, utils.get_first_level_keys(cpt))\n",
    "    message_up = bp.factor_message_up(point_mass, cpt)\n",
    "    return message_up\n",
    "\n",
    "def get_message_down_from_observation(obs, cpt):\n",
    "    point_mass = bp.observe(obs, utils.get_second_level_keys(cpt))\n",
    "    message_down = bp.factor_message_down(point_mass, cpt)\n",
    "    return message_down\n",
    "\n",
    "# Data processing\n",
    "def get_marginal(name, samples):\n",
    "    \"\"\"\n",
    "\n",
    "    :param name: identifier\n",
    "    :param samples: a list of values\n",
    "    :return: distinct values count in list, and related proportions (probability estimate)\n",
    "    \"\"\"\n",
    "\n",
    "    marginal = pd.DataFrame(data={name: samples})\n",
    "    marginal = pd.DataFrame(data={'count': marginal.value_counts()}).reset_index()\n",
    "    marginal['P(count)'] = marginal['count']/marginal['count'].sum()\n",
    "    \n",
    "    return marginal"
   ]
  },
  {
   "cell_type": "code",
   "execution_count": 10,
   "outputs": [],
   "source": [
    "# Change precision displayed\n",
    "pd.set_option(\"display.precision\", 8)"
   ],
   "metadata": {
    "collapsed": false,
    "pycharm": {
     "name": "#%%\n"
    }
   }
  },
  {
   "cell_type": "code",
   "execution_count": 12,
   "id": "e70a5e81",
   "metadata": {
    "pycharm": {
     "name": "#%%\n"
    }
   },
   "outputs": [
    {
     "data": {
      "text/plain": "  Inflammation   count  P(count)\n0        small  555304  0.555304\n1       absent  222387  0.222387\n2        heavy  222309  0.222309",
      "text/html": "<div>\n<style scoped>\n    .dataframe tbody tr th:only-of-type {\n        vertical-align: middle;\n    }\n\n    .dataframe tbody tr th {\n        vertical-align: top;\n    }\n\n    .dataframe thead th {\n        text-align: right;\n    }\n</style>\n<table border=\"1\" class=\"dataframe\">\n  <thead>\n    <tr style=\"text-align: right;\">\n      <th></th>\n      <th>Inflammation</th>\n      <th>count</th>\n      <th>P(count)</th>\n    </tr>\n  </thead>\n  <tbody>\n    <tr>\n      <th>0</th>\n      <td>small</td>\n      <td>555304</td>\n      <td>0.555304</td>\n    </tr>\n    <tr>\n      <th>1</th>\n      <td>absent</td>\n      <td>222387</td>\n      <td>0.222387</td>\n    </tr>\n    <tr>\n      <th>2</th>\n      <td>heavy</td>\n      <td>222309</td>\n      <td>0.222309</td>\n    </tr>\n  </tbody>\n</table>\n</div>"
     },
     "execution_count": 12,
     "metadata": {},
     "output_type": "execute_result"
    }
   ],
   "source": [
    "# CASE 1: observe medium bacterial load and infer inflammation\n",
    "observations = {\n",
    "    # 'Inflammation': 'absent',\n",
    "    # 'Wellness': 'small',\n",
    "    'Bacterial load': 'medium'\n",
    "    # 'FEV1': 'low'\n",
    "}\n",
    "samples = gibbs_inference_code(observations, n=1000000)\n",
    "\n",
    "# Marginal distribution of inflammation\n",
    "i_marginal = get_marginal('Inflammation', samples['Inflammation'])\n",
    "i_marginal"
   ]
  },
  {
   "cell_type": "code",
   "execution_count": 13,
   "outputs": [
    {
     "data": {
      "text/plain": "     FEV1   count  P(count)\n0  medium  378340  0.378340\n1    high  353173  0.353173\n2     low  268487  0.268487",
      "text/html": "<div>\n<style scoped>\n    .dataframe tbody tr th:only-of-type {\n        vertical-align: middle;\n    }\n\n    .dataframe tbody tr th {\n        vertical-align: top;\n    }\n\n    .dataframe thead th {\n        text-align: right;\n    }\n</style>\n<table border=\"1\" class=\"dataframe\">\n  <thead>\n    <tr style=\"text-align: right;\">\n      <th></th>\n      <th>FEV1</th>\n      <th>count</th>\n      <th>P(count)</th>\n    </tr>\n  </thead>\n  <tbody>\n    <tr>\n      <th>0</th>\n      <td>medium</td>\n      <td>378340</td>\n      <td>0.378340</td>\n    </tr>\n    <tr>\n      <th>1</th>\n      <td>high</td>\n      <td>353173</td>\n      <td>0.353173</td>\n    </tr>\n    <tr>\n      <th>2</th>\n      <td>low</td>\n      <td>268487</td>\n      <td>0.268487</td>\n    </tr>\n  </tbody>\n</table>\n</div>"
     },
     "execution_count": 13,
     "metadata": {},
     "output_type": "execute_result"
    }
   ],
   "source": [
    "# CASE 4: observe 1 for wellness and infer fev1\n",
    "observations = {\n",
    "    # 'Inflammation': 'absent',\n",
    "    'Wellness': 1,\n",
    "    # 'Bacterial load': 'medium'\n",
    "    # 'FEV1': 'low'\n",
    "}\n",
    "samples = gibbs_inference_code(observations, n=1000000)\n",
    "\n",
    "# Marginal distribution of inflammation\n",
    "marginal = get_marginal('FEV1', samples['FEV1'])\n",
    "marginal"
   ],
   "metadata": {
    "collapsed": false,
    "pycharm": {
     "name": "#%%\n"
    }
   }
  },
  {
   "cell_type": "code",
   "execution_count": null,
   "id": "f7762540",
   "metadata": {
    "pycharm": {
     "name": "#%%\n"
    }
   },
   "outputs": [],
   "source": [
    "# Marginal distribution of bacterial load\n",
    "b_marginal = get_marginal(B, b)\n",
    "b_marginal"
   ]
  },
  {
   "cell_type": "code",
   "execution_count": null,
   "id": "39d75bb7",
   "metadata": {
    "pycharm": {
     "name": "#%%\n"
    }
   },
   "outputs": [],
   "source": [
    "plotFigure(i_marginal, I, column=1, title=\"Marginal distribution for inflammation for \"+str(n_high)+\" iterations\")\n",
    "plotFigure(i_marginal_fuzzy, I, column=1, title=\"Marginal distribution for inflammation \"+str(n_low)+\" iterations\")\n",
    "plotFigure(b_marginal, B, column=1, title=\"Marginal distribution for inflammation for \"+str(n_high)+\" iterations\")"
   ]
  }
 ],
 "metadata": {
  "kernelspec": {
   "display_name": "Python 3 (ipykernel)",
   "language": "python",
   "name": "python3"
  },
  "language_info": {
   "codemirror_mode": {
    "name": "ipython",
    "version": 3
   },
   "file_extension": ".py",
   "mimetype": "text/x-python",
   "name": "python",
   "nbconvert_exporter": "python",
   "pygments_lexer": "ipython3",
   "version": "3.9.7"
  }
 },
 "nbformat": 4,
 "nbformat_minor": 5
}