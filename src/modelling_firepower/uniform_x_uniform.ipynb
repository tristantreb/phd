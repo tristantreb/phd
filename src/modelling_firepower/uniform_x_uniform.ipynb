{
 "cells": [
  {
   "attachments": {},
   "cell_type": "markdown",
   "metadata": {},
   "source": [
    "### Ex1. C = A x B with A and B are uniform. What’s the distribution of C?\n",
    "\n",
    "Define two sets A and B. Define C = f(A, B). C is uniform if\n",
    "- There's no two pairs A and B that gives the same outcome C. \n",
    "- (or in other words) Each pair A and B gives a unique outcome C.\n",
    "\n",
    "Generalisation. **C is uniform if the number of pairs A and B that give the same outcome C is the same for all possible outcomes C.**\n",
    "\n",
    "___\n",
    "Example.\n",
    "\n",
    "A is either 0 or 1\\\n",
    "B is either 2 or 3\n",
    "\n",
    "C is either 0, 2, or 3.\n",
    "- 0 is given twice, by pairs {0;2}, {0;3}\n",
    "- 2 and 3 are given once, respectively by pairs {1;2}, {1;3}\n",
    "\n",
    "P(C=0|A,B) = 1/2\\\n",
    "P(C=2|A,B) = 1/4\\\n",
    "P(C=3|A,B) = 1/4\n",
    "\n",
    "The distribution of C is not uniform.\n",
    "___\n",
    "Question - is it the same fo continuous variables? "
   ]
  },
  {
   "attachments": {},
   "cell_type": "markdown",
   "metadata": {},
   "source": [
    "Let A be a continuous variables between 0.5 and 1.5 \n",
    "B between 3.5 and 4.5\n",
    "Histogram up to 1000/10k samples of C = A x B.\n",
    "Discretise C by bins of width 1 starting at .5\n",
    "\n",
    "Closed form solution. If we had infinite samples, what proportion would go in each bin of C\n",
    "\n",
    "Do this for any function f(A,B)"
   ]
  }
 ],
 "metadata": {
  "kernelspec": {
   "display_name": "phd",
   "language": "python",
   "name": "python3"
  },
  "language_info": {
   "codemirror_mode": {
    "name": "ipython",
    "version": 3
   },
   "file_extension": ".py",
   "mimetype": "text/x-python",
   "name": "python",
   "nbconvert_exporter": "python",
   "pygments_lexer": "ipython3",
   "version": "3.10.0 (default, Mar  3 2022, 03:57:21) [Clang 12.0.0 ]"
  },
  "orig_nbformat": 4,
  "vscode": {
   "interpreter": {
    "hash": "ffc9e18892ee3b9cbe53b18b7d355cfce0a42ae1aa2d5f5ea7529610a7030618"
   }
  }
 },
 "nbformat": 4,
 "nbformat_minor": 2
}
