{
 "cells": [
  {
   "cell_type": "code",
   "execution_count": 1,
   "metadata": {},
   "outputs": [],
   "source": [
    "import numpy as np\n",
    "\n",
    "import data.breathe_data as bd\n",
    "import data.helpers as dh\n",
    "import datetime\n",
    "import pandas as pd\n",
    "import plotly.express as px\n",
    "from plotly.subplots import make_subplots\n",
    "import plotly.graph_objects as go"
   ]
  },
  {
   "cell_type": "code",
   "execution_count": 2,
   "metadata": {},
   "outputs": [],
   "source": [
    "df = bd.load_meas_from_excel(\"BR_O2_FEV1_FEF2575_conservative_smoothing_with_idx\")"
   ]
  },
  {
   "cell_type": "code",
   "execution_count": 3,
   "metadata": {},
   "outputs": [
    {
     "data": {
      "text/html": [
       "<div>\n",
       "<style scoped>\n",
       "    .dataframe tbody tr th:only-of-type {\n",
       "        vertical-align: middle;\n",
       "    }\n",
       "\n",
       "    .dataframe tbody tr th {\n",
       "        vertical-align: top;\n",
       "    }\n",
       "\n",
       "    .dataframe thead th {\n",
       "        text-align: right;\n",
       "    }\n",
       "</style>\n",
       "<table border=\"1\" class=\"dataframe\">\n",
       "  <thead>\n",
       "    <tr style=\"text-align: right;\">\n",
       "      <th></th>\n",
       "      <th>ID</th>\n",
       "      <th>Date Recorded</th>\n",
       "      <th>FEV1</th>\n",
       "      <th>O2 Saturation</th>\n",
       "      <th>FEF2575</th>\n",
       "      <th>ecFEV1</th>\n",
       "      <th>ecFEF2575</th>\n",
       "      <th>Sex</th>\n",
       "      <th>Height</th>\n",
       "      <th>Age</th>\n",
       "      <th>Predicted FEV1</th>\n",
       "      <th>Healthy O2 Saturation</th>\n",
       "      <th>ecFEV1 % Predicted</th>\n",
       "      <th>FEV1 % Predicted</th>\n",
       "      <th>O2 Saturation % Healthy</th>\n",
       "      <th>ecFEF2575%ecFEV1</th>\n",
       "      <th>idx ecFEV1 (L)</th>\n",
       "      <th>idx O2 saturation (%)</th>\n",
       "      <th>idx ecFEF2575%ecFEV1</th>\n",
       "      <th>idx ecFEF25-75 % ecFEV1 (%)</th>\n",
       "    </tr>\n",
       "  </thead>\n",
       "  <tbody>\n",
       "    <tr>\n",
       "      <th>0</th>\n",
       "      <td>101</td>\n",
       "      <td>2019-01-25</td>\n",
       "      <td>1.31</td>\n",
       "      <td>97</td>\n",
       "      <td>0.54</td>\n",
       "      <td>1.31</td>\n",
       "      <td>0.54</td>\n",
       "      <td>Male</td>\n",
       "      <td>173.0</td>\n",
       "      <td>53</td>\n",
       "      <td>3.610061</td>\n",
       "      <td>97.150104</td>\n",
       "      <td>36.287474</td>\n",
       "      <td>36.287474</td>\n",
       "      <td>99.845492</td>\n",
       "      <td>41.221374</td>\n",
       "      <td>26</td>\n",
       "      <td>47</td>\n",
       "      <td>20</td>\n",
       "      <td>20</td>\n",
       "    </tr>\n",
       "  </tbody>\n",
       "</table>\n",
       "</div>"
      ],
      "text/plain": [
       "    ID Date Recorded  FEV1  O2 Saturation  FEF2575  ecFEV1  ecFEF2575   Sex  \\\n",
       "0  101    2019-01-25  1.31             97     0.54    1.31       0.54  Male   \n",
       "\n",
       "   Height  Age  Predicted FEV1  Healthy O2 Saturation  ecFEV1 % Predicted  \\\n",
       "0   173.0   53        3.610061              97.150104           36.287474   \n",
       "\n",
       "   FEV1 % Predicted  O2 Saturation % Healthy  ecFEF2575%ecFEV1  \\\n",
       "0         36.287474                99.845492         41.221374   \n",
       "\n",
       "   idx ecFEV1 (L)  idx O2 saturation (%)  idx ecFEF2575%ecFEV1  \\\n",
       "0              26                     47                    20   \n",
       "\n",
       "   idx ecFEF25-75 % ecFEV1 (%)  \n",
       "0                           20  "
      ]
     },
     "execution_count": 3,
     "metadata": {},
     "output_type": "execute_result"
    }
   ],
   "source": [
    "df.head(1)"
   ]
  },
  {
   "cell_type": "code",
   "execution_count": 12,
   "metadata": {},
   "outputs": [
    {
     "name": "stderr",
     "output_type": "stream",
     "text": [
      "/var/folders/zq/v2r6yn111s3gpdf8lzf72xvw0000gn/T/ipykernel_4295/3803501879.py:13: SettingWithCopyWarning:\n",
      "\n",
      "\n",
      "A value is trying to be set on a copy of a slice from a DataFrame.\n",
      "Try using .loc[row_indexer,col_indexer] = value instead\n",
      "\n",
      "See the caveats in the documentation: https://pandas.pydata.org/pandas-docs/stable/user_guide/indexing.html#returning-a-view-versus-a-copy\n",
      "\n"
     ]
    },
    {
     "data": {
      "application/vnd.plotly.v1+json": {
       "config": {
        "plotlyServerURL": "https://plot.ly"
       },
       "data": [
        {
         "mode": "lines+markers",
         "name": "ecFEV1 104",
         "type": "scatter",
         "x": [
          0,
          1,
          2,
          3,
          4
         ],
         "xaxis": "x",
         "y": [
          1.45,
          1.37,
          1.49,
          1.79,
          1.82
         ],
         "yaxis": "y"
        },
        {
         "mode": "lines+markers",
         "name": "ecFEF2575%ecFEV1 104",
         "type": "scatter",
         "x": [
          0,
          1,
          2,
          3,
          4
         ],
         "xaxis": "x2",
         "y": [
          57.24137931034482,
          47.44525547445255,
          60.40268456375839,
          64.24581005586592,
          71.97802197802197
         ],
         "yaxis": "y2"
        },
        {
         "mode": "lines+markers",
         "name": "ecFEV1 101",
         "type": "scatter",
         "x": [
          0,
          1,
          2,
          3,
          4,
          5
         ],
         "xaxis": "x3",
         "y": [
          1.31,
          1.31,
          1.31,
          1.3,
          1.28,
          1.29
         ],
         "yaxis": "y3"
        },
        {
         "mode": "lines+markers",
         "name": "ecFEF2575%ecFEV1 101",
         "type": "scatter",
         "x": [
          0,
          1,
          2,
          3,
          4,
          5
         ],
         "xaxis": "x4",
         "y": [
          41.22137404580153,
          43.51145038167938,
          51.14503816793893,
          53.07692307692307,
          46.87499999999999,
          45.73643410852712
         ],
         "yaxis": "y4"
        }
       ],
       "layout": {
        "annotations": [
         {
          "font": {
           "size": 16
          },
          "showarrow": false,
          "text": "ecFEV1",
          "x": 0.22,
          "xanchor": "center",
          "xref": "paper",
          "y": 1,
          "yanchor": "bottom",
          "yref": "paper"
         },
         {
          "font": {
           "size": 16
          },
          "showarrow": false,
          "text": "ecFEF2575%ecFEV1",
          "x": 0.76,
          "xanchor": "center",
          "xref": "paper",
          "y": 1,
          "yanchor": "bottom",
          "yref": "paper"
         },
         {
          "font": {
           "size": 16
          },
          "showarrow": false,
          "text": "104",
          "textangle": 90,
          "x": 0.98,
          "xanchor": "left",
          "xref": "paper",
          "y": 0.7875,
          "yanchor": "middle",
          "yref": "paper"
         },
         {
          "font": {
           "size": 16
          },
          "showarrow": false,
          "text": "101",
          "textangle": 90,
          "x": 0.98,
          "xanchor": "left",
          "xref": "paper",
          "y": 0.2125,
          "yanchor": "middle",
          "yref": "paper"
         },
         {
          "font": {
           "size": 16
          },
          "showarrow": false,
          "text": "Time (days)",
          "x": 0.49,
          "xanchor": "center",
          "xref": "paper",
          "y": 0,
          "yanchor": "top",
          "yref": "paper",
          "yshift": -30
         }
        ],
        "height": 400,
        "showlegend": false,
        "template": {
         "data": {
          "bar": [
           {
            "error_x": {
             "color": "#2a3f5f"
            },
            "error_y": {
             "color": "#2a3f5f"
            },
            "marker": {
             "line": {
              "color": "#E5ECF6",
              "width": 0.5
             },
             "pattern": {
              "fillmode": "overlay",
              "size": 10,
              "solidity": 0.2
             }
            },
            "type": "bar"
           }
          ],
          "barpolar": [
           {
            "marker": {
             "line": {
              "color": "#E5ECF6",
              "width": 0.5
             },
             "pattern": {
              "fillmode": "overlay",
              "size": 10,
              "solidity": 0.2
             }
            },
            "type": "barpolar"
           }
          ],
          "carpet": [
           {
            "aaxis": {
             "endlinecolor": "#2a3f5f",
             "gridcolor": "white",
             "linecolor": "white",
             "minorgridcolor": "white",
             "startlinecolor": "#2a3f5f"
            },
            "baxis": {
             "endlinecolor": "#2a3f5f",
             "gridcolor": "white",
             "linecolor": "white",
             "minorgridcolor": "white",
             "startlinecolor": "#2a3f5f"
            },
            "type": "carpet"
           }
          ],
          "choropleth": [
           {
            "colorbar": {
             "outlinewidth": 0,
             "ticks": ""
            },
            "type": "choropleth"
           }
          ],
          "contour": [
           {
            "colorbar": {
             "outlinewidth": 0,
             "ticks": ""
            },
            "colorscale": [
             [
              0,
              "#0d0887"
             ],
             [
              0.1111111111111111,
              "#46039f"
             ],
             [
              0.2222222222222222,
              "#7201a8"
             ],
             [
              0.3333333333333333,
              "#9c179e"
             ],
             [
              0.4444444444444444,
              "#bd3786"
             ],
             [
              0.5555555555555556,
              "#d8576b"
             ],
             [
              0.6666666666666666,
              "#ed7953"
             ],
             [
              0.7777777777777778,
              "#fb9f3a"
             ],
             [
              0.8888888888888888,
              "#fdca26"
             ],
             [
              1,
              "#f0f921"
             ]
            ],
            "type": "contour"
           }
          ],
          "contourcarpet": [
           {
            "colorbar": {
             "outlinewidth": 0,
             "ticks": ""
            },
            "type": "contourcarpet"
           }
          ],
          "heatmap": [
           {
            "colorbar": {
             "outlinewidth": 0,
             "ticks": ""
            },
            "colorscale": [
             [
              0,
              "#0d0887"
             ],
             [
              0.1111111111111111,
              "#46039f"
             ],
             [
              0.2222222222222222,
              "#7201a8"
             ],
             [
              0.3333333333333333,
              "#9c179e"
             ],
             [
              0.4444444444444444,
              "#bd3786"
             ],
             [
              0.5555555555555556,
              "#d8576b"
             ],
             [
              0.6666666666666666,
              "#ed7953"
             ],
             [
              0.7777777777777778,
              "#fb9f3a"
             ],
             [
              0.8888888888888888,
              "#fdca26"
             ],
             [
              1,
              "#f0f921"
             ]
            ],
            "type": "heatmap"
           }
          ],
          "heatmapgl": [
           {
            "colorbar": {
             "outlinewidth": 0,
             "ticks": ""
            },
            "colorscale": [
             [
              0,
              "#0d0887"
             ],
             [
              0.1111111111111111,
              "#46039f"
             ],
             [
              0.2222222222222222,
              "#7201a8"
             ],
             [
              0.3333333333333333,
              "#9c179e"
             ],
             [
              0.4444444444444444,
              "#bd3786"
             ],
             [
              0.5555555555555556,
              "#d8576b"
             ],
             [
              0.6666666666666666,
              "#ed7953"
             ],
             [
              0.7777777777777778,
              "#fb9f3a"
             ],
             [
              0.8888888888888888,
              "#fdca26"
             ],
             [
              1,
              "#f0f921"
             ]
            ],
            "type": "heatmapgl"
           }
          ],
          "histogram": [
           {
            "marker": {
             "pattern": {
              "fillmode": "overlay",
              "size": 10,
              "solidity": 0.2
             }
            },
            "type": "histogram"
           }
          ],
          "histogram2d": [
           {
            "colorbar": {
             "outlinewidth": 0,
             "ticks": ""
            },
            "colorscale": [
             [
              0,
              "#0d0887"
             ],
             [
              0.1111111111111111,
              "#46039f"
             ],
             [
              0.2222222222222222,
              "#7201a8"
             ],
             [
              0.3333333333333333,
              "#9c179e"
             ],
             [
              0.4444444444444444,
              "#bd3786"
             ],
             [
              0.5555555555555556,
              "#d8576b"
             ],
             [
              0.6666666666666666,
              "#ed7953"
             ],
             [
              0.7777777777777778,
              "#fb9f3a"
             ],
             [
              0.8888888888888888,
              "#fdca26"
             ],
             [
              1,
              "#f0f921"
             ]
            ],
            "type": "histogram2d"
           }
          ],
          "histogram2dcontour": [
           {
            "colorbar": {
             "outlinewidth": 0,
             "ticks": ""
            },
            "colorscale": [
             [
              0,
              "#0d0887"
             ],
             [
              0.1111111111111111,
              "#46039f"
             ],
             [
              0.2222222222222222,
              "#7201a8"
             ],
             [
              0.3333333333333333,
              "#9c179e"
             ],
             [
              0.4444444444444444,
              "#bd3786"
             ],
             [
              0.5555555555555556,
              "#d8576b"
             ],
             [
              0.6666666666666666,
              "#ed7953"
             ],
             [
              0.7777777777777778,
              "#fb9f3a"
             ],
             [
              0.8888888888888888,
              "#fdca26"
             ],
             [
              1,
              "#f0f921"
             ]
            ],
            "type": "histogram2dcontour"
           }
          ],
          "mesh3d": [
           {
            "colorbar": {
             "outlinewidth": 0,
             "ticks": ""
            },
            "type": "mesh3d"
           }
          ],
          "parcoords": [
           {
            "line": {
             "colorbar": {
              "outlinewidth": 0,
              "ticks": ""
             }
            },
            "type": "parcoords"
           }
          ],
          "pie": [
           {
            "automargin": true,
            "type": "pie"
           }
          ],
          "scatter": [
           {
            "fillpattern": {
             "fillmode": "overlay",
             "size": 10,
             "solidity": 0.2
            },
            "type": "scatter"
           }
          ],
          "scatter3d": [
           {
            "line": {
             "colorbar": {
              "outlinewidth": 0,
              "ticks": ""
             }
            },
            "marker": {
             "colorbar": {
              "outlinewidth": 0,
              "ticks": ""
             }
            },
            "type": "scatter3d"
           }
          ],
          "scattercarpet": [
           {
            "marker": {
             "colorbar": {
              "outlinewidth": 0,
              "ticks": ""
             }
            },
            "type": "scattercarpet"
           }
          ],
          "scattergeo": [
           {
            "marker": {
             "colorbar": {
              "outlinewidth": 0,
              "ticks": ""
             }
            },
            "type": "scattergeo"
           }
          ],
          "scattergl": [
           {
            "marker": {
             "colorbar": {
              "outlinewidth": 0,
              "ticks": ""
             }
            },
            "type": "scattergl"
           }
          ],
          "scattermapbox": [
           {
            "marker": {
             "colorbar": {
              "outlinewidth": 0,
              "ticks": ""
             }
            },
            "type": "scattermapbox"
           }
          ],
          "scatterpolar": [
           {
            "marker": {
             "colorbar": {
              "outlinewidth": 0,
              "ticks": ""
             }
            },
            "type": "scatterpolar"
           }
          ],
          "scatterpolargl": [
           {
            "marker": {
             "colorbar": {
              "outlinewidth": 0,
              "ticks": ""
             }
            },
            "type": "scatterpolargl"
           }
          ],
          "scatterternary": [
           {
            "marker": {
             "colorbar": {
              "outlinewidth": 0,
              "ticks": ""
             }
            },
            "type": "scatterternary"
           }
          ],
          "surface": [
           {
            "colorbar": {
             "outlinewidth": 0,
             "ticks": ""
            },
            "colorscale": [
             [
              0,
              "#0d0887"
             ],
             [
              0.1111111111111111,
              "#46039f"
             ],
             [
              0.2222222222222222,
              "#7201a8"
             ],
             [
              0.3333333333333333,
              "#9c179e"
             ],
             [
              0.4444444444444444,
              "#bd3786"
             ],
             [
              0.5555555555555556,
              "#d8576b"
             ],
             [
              0.6666666666666666,
              "#ed7953"
             ],
             [
              0.7777777777777778,
              "#fb9f3a"
             ],
             [
              0.8888888888888888,
              "#fdca26"
             ],
             [
              1,
              "#f0f921"
             ]
            ],
            "type": "surface"
           }
          ],
          "table": [
           {
            "cells": {
             "fill": {
              "color": "#EBF0F8"
             },
             "line": {
              "color": "white"
             }
            },
            "header": {
             "fill": {
              "color": "#C8D4E3"
             },
             "line": {
              "color": "white"
             }
            },
            "type": "table"
           }
          ]
         },
         "layout": {
          "annotationdefaults": {
           "arrowcolor": "#2a3f5f",
           "arrowhead": 0,
           "arrowwidth": 1
          },
          "autotypenumbers": "strict",
          "coloraxis": {
           "colorbar": {
            "outlinewidth": 0,
            "ticks": ""
           }
          },
          "colorscale": {
           "diverging": [
            [
             0,
             "#8e0152"
            ],
            [
             0.1,
             "#c51b7d"
            ],
            [
             0.2,
             "#de77ae"
            ],
            [
             0.3,
             "#f1b6da"
            ],
            [
             0.4,
             "#fde0ef"
            ],
            [
             0.5,
             "#f7f7f7"
            ],
            [
             0.6,
             "#e6f5d0"
            ],
            [
             0.7,
             "#b8e186"
            ],
            [
             0.8,
             "#7fbc41"
            ],
            [
             0.9,
             "#4d9221"
            ],
            [
             1,
             "#276419"
            ]
           ],
           "sequential": [
            [
             0,
             "#0d0887"
            ],
            [
             0.1111111111111111,
             "#46039f"
            ],
            [
             0.2222222222222222,
             "#7201a8"
            ],
            [
             0.3333333333333333,
             "#9c179e"
            ],
            [
             0.4444444444444444,
             "#bd3786"
            ],
            [
             0.5555555555555556,
             "#d8576b"
            ],
            [
             0.6666666666666666,
             "#ed7953"
            ],
            [
             0.7777777777777778,
             "#fb9f3a"
            ],
            [
             0.8888888888888888,
             "#fdca26"
            ],
            [
             1,
             "#f0f921"
            ]
           ],
           "sequentialminus": [
            [
             0,
             "#0d0887"
            ],
            [
             0.1111111111111111,
             "#46039f"
            ],
            [
             0.2222222222222222,
             "#7201a8"
            ],
            [
             0.3333333333333333,
             "#9c179e"
            ],
            [
             0.4444444444444444,
             "#bd3786"
            ],
            [
             0.5555555555555556,
             "#d8576b"
            ],
            [
             0.6666666666666666,
             "#ed7953"
            ],
            [
             0.7777777777777778,
             "#fb9f3a"
            ],
            [
             0.8888888888888888,
             "#fdca26"
            ],
            [
             1,
             "#f0f921"
            ]
           ]
          },
          "colorway": [
           "#636efa",
           "#EF553B",
           "#00cc96",
           "#ab63fa",
           "#FFA15A",
           "#19d3f3",
           "#FF6692",
           "#B6E880",
           "#FF97FF",
           "#FECB52"
          ],
          "font": {
           "color": "#2a3f5f"
          },
          "geo": {
           "bgcolor": "white",
           "lakecolor": "white",
           "landcolor": "#E5ECF6",
           "showlakes": true,
           "showland": true,
           "subunitcolor": "white"
          },
          "hoverlabel": {
           "align": "left"
          },
          "hovermode": "closest",
          "mapbox": {
           "style": "light"
          },
          "paper_bgcolor": "white",
          "plot_bgcolor": "#E5ECF6",
          "polar": {
           "angularaxis": {
            "gridcolor": "white",
            "linecolor": "white",
            "ticks": ""
           },
           "bgcolor": "#E5ECF6",
           "radialaxis": {
            "gridcolor": "white",
            "linecolor": "white",
            "ticks": ""
           }
          },
          "scene": {
           "xaxis": {
            "backgroundcolor": "#E5ECF6",
            "gridcolor": "white",
            "gridwidth": 2,
            "linecolor": "white",
            "showbackground": true,
            "ticks": "",
            "zerolinecolor": "white"
           },
           "yaxis": {
            "backgroundcolor": "#E5ECF6",
            "gridcolor": "white",
            "gridwidth": 2,
            "linecolor": "white",
            "showbackground": true,
            "ticks": "",
            "zerolinecolor": "white"
           },
           "zaxis": {
            "backgroundcolor": "#E5ECF6",
            "gridcolor": "white",
            "gridwidth": 2,
            "linecolor": "white",
            "showbackground": true,
            "ticks": "",
            "zerolinecolor": "white"
           }
          },
          "shapedefaults": {
           "line": {
            "color": "#2a3f5f"
           }
          },
          "ternary": {
           "aaxis": {
            "gridcolor": "white",
            "linecolor": "white",
            "ticks": ""
           },
           "baxis": {
            "gridcolor": "white",
            "linecolor": "white",
            "ticks": ""
           },
           "bgcolor": "#E5ECF6",
           "caxis": {
            "gridcolor": "white",
            "linecolor": "white",
            "ticks": ""
           }
          },
          "title": {
           "x": 0.05
          },
          "xaxis": {
           "automargin": true,
           "gridcolor": "white",
           "linecolor": "white",
           "ticks": "",
           "title": {
            "standoff": 15
           },
           "zerolinecolor": "white",
           "zerolinewidth": 2
          },
          "yaxis": {
           "automargin": true,
           "gridcolor": "white",
           "linecolor": "white",
           "ticks": "",
           "title": {
            "standoff": 15
           },
           "zerolinecolor": "white",
           "zerolinewidth": 2
          }
         }
        },
        "title": {
         "text": "ecFEV1 Over Time"
        },
        "width": 600,
        "xaxis": {
         "anchor": "y",
         "domain": [
          0,
          0.44
         ],
         "matches": "x3",
         "showticklabels": false
        },
        "xaxis2": {
         "anchor": "y2",
         "domain": [
          0.54,
          0.98
         ],
         "matches": "x4",
         "showticklabels": false
        },
        "xaxis3": {
         "anchor": "y3",
         "domain": [
          0,
          0.44
         ]
        },
        "xaxis4": {
         "anchor": "y4",
         "domain": [
          0.54,
          0.98
         ]
        },
        "yaxis": {
         "anchor": "x",
         "domain": [
          0.575,
          1
         ],
         "range": [
          1.2,
          2.2
         ]
        },
        "yaxis2": {
         "anchor": "x2",
         "domain": [
          0.575,
          1
         ],
         "range": [
          40,
          90
         ]
        },
        "yaxis3": {
         "anchor": "x3",
         "domain": [
          0,
          0.425
         ],
         "range": [
          1,
          2
         ]
        },
        "yaxis4": {
         "anchor": "x4",
         "domain": [
          0,
          0.425
         ],
         "range": [
          25,
          65
         ]
        }
       }
      }
     },
     "metadata": {},
     "output_type": "display_data"
    }
   ],
   "source": [
    "df[\n",
    "    (df.ID == \"104\")\n",
    "    & (df[\"Date Recorded\"] > datetime.date(2020, 5, 1))\n",
    "    & (df[\"Date Recorded\"] < datetime.date(2020, 11, 1))\n",
    "]\n",
    "# df_step_change = df.loc[2445:2475]\n",
    "df_step_change = df.loc[2454:2458]\n",
    "\n",
    "# Create a new date range with consecutive dates\n",
    "start_date = df_step_change[\"Date Recorded\"].min()\n",
    "end_date = start_date + pd.Timedelta(days=len(df_step_change) - 1)\n",
    "date_range = pd.date_range(start=start_date, end=end_date, freq=\"D\")\n",
    "df_step_change[\"Date Recorded\"] = date_range\n",
    "# df_step_change = df_step_change[df_step_change['ecFEV1'].diff() <= 0][1:-1]\n",
    "\n",
    "df_constant = df.loc[0:5]\n",
    "\n",
    "\n",
    "fig = make_subplots(\n",
    "    rows=2,\n",
    "    cols=2,\n",
    "    column_titles=[\"ecFEV1\", \"ecFEF2575%ecFEV1\"],\n",
    "    row_titles=[df_step_change.ID.unique()[0], df_constant.ID.unique()[0]],\n",
    "    shared_xaxes=True,\n",
    "    x_title=\"Time (days)\",\n",
    ")\n",
    "\n",
    "\n",
    "def add_trace_for_df(df, fig, row):\n",
    "    fig.add_trace(\n",
    "        go.Scatter(\n",
    "            x=df.index - df.index[0],\n",
    "            y=df[\"ecFEV1\"],\n",
    "            mode=\"lines+markers\",\n",
    "            name=f\"ecFEV1 {df.ID.unique()[0]}\",\n",
    "        ),\n",
    "        row=row,\n",
    "        col=1,\n",
    "    )\n",
    "    fig.add_trace(\n",
    "        go.Scatter(\n",
    "            x=df.index - df.index[0],\n",
    "            y=df[\"ecFEF2575%ecFEV1\"],\n",
    "            mode=\"lines+markers\",\n",
    "            name=f\"ecFEF2575%ecFEV1 {df.ID.unique()[0]}\",\n",
    "        ),\n",
    "        row=row,\n",
    "        col=2,\n",
    "    )\n",
    "\n",
    "\n",
    "add_trace_for_df(df_step_change, fig, 1)\n",
    "add_trace_for_df(df_constant, fig, 2)\n",
    "\n",
    "fig.update_yaxes(range=[1.2, 2.2], row=1, col=1)\n",
    "fig.update_yaxes(range=[1, 2], row=2, col=1)\n",
    "fig.update_yaxes(range=[40, 90], row=1, col=2)\n",
    "fig.update_yaxes(range=[25, 65], row=2, col=2)\n",
    "\n",
    "fig.update_layout(title=\"ecFEV1 Over Time\", width=600, height=400, showlegend=False)\n",
    "\n",
    "fig.show()"
   ]
  },
  {
   "cell_type": "code",
   "execution_count": null,
   "metadata": {},
   "outputs": [],
   "source": []
  },
  {
   "cell_type": "code",
   "execution_count": 14,
   "metadata": {},
   "outputs": [
    {
     "data": {
      "text/html": [
       "<div>\n",
       "<style scoped>\n",
       "    .dataframe tbody tr th:only-of-type {\n",
       "        vertical-align: middle;\n",
       "    }\n",
       "\n",
       "    .dataframe tbody tr th {\n",
       "        vertical-align: top;\n",
       "    }\n",
       "\n",
       "    .dataframe thead th {\n",
       "        text-align: right;\n",
       "    }\n",
       "</style>\n",
       "<table border=\"1\" class=\"dataframe\">\n",
       "  <thead>\n",
       "    <tr style=\"text-align: right;\">\n",
       "      <th></th>\n",
       "      <th>ID</th>\n",
       "      <th>Date Recorded</th>\n",
       "      <th>FEV1</th>\n",
       "      <th>O2 Saturation</th>\n",
       "      <th>FEF2575</th>\n",
       "      <th>ecFEV1</th>\n",
       "      <th>ecFEF2575</th>\n",
       "      <th>Sex</th>\n",
       "      <th>Height</th>\n",
       "      <th>Age</th>\n",
       "      <th>Predicted FEV1</th>\n",
       "      <th>Healthy O2 Saturation</th>\n",
       "      <th>ecFEV1 % Predicted</th>\n",
       "      <th>FEV1 % Predicted</th>\n",
       "      <th>O2 Saturation % Healthy</th>\n",
       "      <th>ecFEF2575%ecFEV1</th>\n",
       "      <th>idx ecFEV1 (L)</th>\n",
       "      <th>idx O2 saturation (%)</th>\n",
       "      <th>idx ecFEF2575%ecFEV1</th>\n",
       "      <th>idx ecFEF25-75 % ecFEV1 (%)</th>\n",
       "    </tr>\n",
       "  </thead>\n",
       "  <tbody>\n",
       "    <tr>\n",
       "      <th>2318</th>\n",
       "      <td>104</td>\n",
       "      <td>2019-01-24</td>\n",
       "      <td>1.27</td>\n",
       "      <td>96</td>\n",
       "      <td>0.66</td>\n",
       "      <td>1.27</td>\n",
       "      <td>0.93</td>\n",
       "      <td>Female</td>\n",
       "      <td>143.0</td>\n",
       "      <td>25</td>\n",
       "      <td>2.50019</td>\n",
       "      <td>98.509166</td>\n",
       "      <td>50.796144</td>\n",
       "      <td>50.796144</td>\n",
       "      <td>97.452861</td>\n",
       "      <td>51.968504</td>\n",
       "      <td>25</td>\n",
       "      <td>46</td>\n",
       "      <td>25</td>\n",
       "      <td>25</td>\n",
       "    </tr>\n",
       "    <tr>\n",
       "      <th>2319</th>\n",
       "      <td>104</td>\n",
       "      <td>2019-02-08</td>\n",
       "      <td>1.32</td>\n",
       "      <td>96</td>\n",
       "      <td>0.80</td>\n",
       "      <td>1.32</td>\n",
       "      <td>0.80</td>\n",
       "      <td>Female</td>\n",
       "      <td>143.0</td>\n",
       "      <td>25</td>\n",
       "      <td>2.50019</td>\n",
       "      <td>98.509166</td>\n",
       "      <td>52.795992</td>\n",
       "      <td>52.795992</td>\n",
       "      <td>97.452861</td>\n",
       "      <td>60.606061</td>\n",
       "      <td>26</td>\n",
       "      <td>46</td>\n",
       "      <td>30</td>\n",
       "      <td>30</td>\n",
       "    </tr>\n",
       "    <tr>\n",
       "      <th>2320</th>\n",
       "      <td>104</td>\n",
       "      <td>2019-02-09</td>\n",
       "      <td>1.40</td>\n",
       "      <td>98</td>\n",
       "      <td>0.93</td>\n",
       "      <td>1.40</td>\n",
       "      <td>0.93</td>\n",
       "      <td>Female</td>\n",
       "      <td>143.0</td>\n",
       "      <td>25</td>\n",
       "      <td>2.50019</td>\n",
       "      <td>98.509166</td>\n",
       "      <td>55.995749</td>\n",
       "      <td>55.995749</td>\n",
       "      <td>99.483129</td>\n",
       "      <td>66.428571</td>\n",
       "      <td>28</td>\n",
       "      <td>48</td>\n",
       "      <td>33</td>\n",
       "      <td>33</td>\n",
       "    </tr>\n",
       "    <tr>\n",
       "      <th>2321</th>\n",
       "      <td>104</td>\n",
       "      <td>2019-02-11</td>\n",
       "      <td>1.47</td>\n",
       "      <td>95</td>\n",
       "      <td>1.05</td>\n",
       "      <td>1.47</td>\n",
       "      <td>1.05</td>\n",
       "      <td>Female</td>\n",
       "      <td>143.0</td>\n",
       "      <td>25</td>\n",
       "      <td>2.50019</td>\n",
       "      <td>98.509166</td>\n",
       "      <td>58.795537</td>\n",
       "      <td>58.795537</td>\n",
       "      <td>96.437727</td>\n",
       "      <td>71.428571</td>\n",
       "      <td>29</td>\n",
       "      <td>45</td>\n",
       "      <td>35</td>\n",
       "      <td>35</td>\n",
       "    </tr>\n",
       "    <tr>\n",
       "      <th>2322</th>\n",
       "      <td>104</td>\n",
       "      <td>2019-02-12</td>\n",
       "      <td>1.41</td>\n",
       "      <td>95</td>\n",
       "      <td>0.92</td>\n",
       "      <td>1.41</td>\n",
       "      <td>0.92</td>\n",
       "      <td>Female</td>\n",
       "      <td>143.0</td>\n",
       "      <td>25</td>\n",
       "      <td>2.50019</td>\n",
       "      <td>98.509166</td>\n",
       "      <td>56.395719</td>\n",
       "      <td>56.395719</td>\n",
       "      <td>96.437727</td>\n",
       "      <td>65.248227</td>\n",
       "      <td>28</td>\n",
       "      <td>45</td>\n",
       "      <td>32</td>\n",
       "      <td>32</td>\n",
       "    </tr>\n",
       "    <tr>\n",
       "      <th>...</th>\n",
       "      <td>...</td>\n",
       "      <td>...</td>\n",
       "      <td>...</td>\n",
       "      <td>...</td>\n",
       "      <td>...</td>\n",
       "      <td>...</td>\n",
       "      <td>...</td>\n",
       "      <td>...</td>\n",
       "      <td>...</td>\n",
       "      <td>...</td>\n",
       "      <td>...</td>\n",
       "      <td>...</td>\n",
       "      <td>...</td>\n",
       "      <td>...</td>\n",
       "      <td>...</td>\n",
       "      <td>...</td>\n",
       "      <td>...</td>\n",
       "      <td>...</td>\n",
       "      <td>...</td>\n",
       "      <td>...</td>\n",
       "    </tr>\n",
       "    <tr>\n",
       "      <th>2535</th>\n",
       "      <td>104</td>\n",
       "      <td>2023-10-21</td>\n",
       "      <td>1.88</td>\n",
       "      <td>98</td>\n",
       "      <td>1.17</td>\n",
       "      <td>1.88</td>\n",
       "      <td>1.76</td>\n",
       "      <td>Female</td>\n",
       "      <td>143.0</td>\n",
       "      <td>25</td>\n",
       "      <td>2.50019</td>\n",
       "      <td>98.509166</td>\n",
       "      <td>75.194292</td>\n",
       "      <td>75.194292</td>\n",
       "      <td>99.483129</td>\n",
       "      <td>62.234043</td>\n",
       "      <td>37</td>\n",
       "      <td>48</td>\n",
       "      <td>31</td>\n",
       "      <td>31</td>\n",
       "    </tr>\n",
       "    <tr>\n",
       "      <th>2536</th>\n",
       "      <td>104</td>\n",
       "      <td>2023-10-25</td>\n",
       "      <td>1.70</td>\n",
       "      <td>96</td>\n",
       "      <td>1.09</td>\n",
       "      <td>2.74</td>\n",
       "      <td>1.09</td>\n",
       "      <td>Female</td>\n",
       "      <td>143.0</td>\n",
       "      <td>25</td>\n",
       "      <td>2.50019</td>\n",
       "      <td>98.509166</td>\n",
       "      <td>109.591681</td>\n",
       "      <td>67.994839</td>\n",
       "      <td>97.452861</td>\n",
       "      <td>64.117647</td>\n",
       "      <td>54</td>\n",
       "      <td>46</td>\n",
       "      <td>32</td>\n",
       "      <td>32</td>\n",
       "    </tr>\n",
       "    <tr>\n",
       "      <th>2537</th>\n",
       "      <td>104</td>\n",
       "      <td>2023-10-31</td>\n",
       "      <td>1.84</td>\n",
       "      <td>98</td>\n",
       "      <td>1.25</td>\n",
       "      <td>2.74</td>\n",
       "      <td>1.25</td>\n",
       "      <td>Female</td>\n",
       "      <td>143.0</td>\n",
       "      <td>25</td>\n",
       "      <td>2.50019</td>\n",
       "      <td>98.509166</td>\n",
       "      <td>109.591681</td>\n",
       "      <td>73.594414</td>\n",
       "      <td>99.483129</td>\n",
       "      <td>67.934783</td>\n",
       "      <td>54</td>\n",
       "      <td>48</td>\n",
       "      <td>33</td>\n",
       "      <td>33</td>\n",
       "    </tr>\n",
       "    <tr>\n",
       "      <th>2538</th>\n",
       "      <td>104</td>\n",
       "      <td>2023-11-06</td>\n",
       "      <td>1.92</td>\n",
       "      <td>99</td>\n",
       "      <td>1.23</td>\n",
       "      <td>1.92</td>\n",
       "      <td>1.23</td>\n",
       "      <td>Female</td>\n",
       "      <td>143.0</td>\n",
       "      <td>25</td>\n",
       "      <td>2.50019</td>\n",
       "      <td>98.509166</td>\n",
       "      <td>76.794171</td>\n",
       "      <td>76.794171</td>\n",
       "      <td>100.498263</td>\n",
       "      <td>64.062500</td>\n",
       "      <td>38</td>\n",
       "      <td>49</td>\n",
       "      <td>32</td>\n",
       "      <td>32</td>\n",
       "    </tr>\n",
       "    <tr>\n",
       "      <th>2539</th>\n",
       "      <td>104</td>\n",
       "      <td>2023-11-12</td>\n",
       "      <td>1.87</td>\n",
       "      <td>97</td>\n",
       "      <td>1.27</td>\n",
       "      <td>1.87</td>\n",
       "      <td>1.27</td>\n",
       "      <td>Female</td>\n",
       "      <td>143.0</td>\n",
       "      <td>25</td>\n",
       "      <td>2.50019</td>\n",
       "      <td>98.509166</td>\n",
       "      <td>74.794322</td>\n",
       "      <td>74.794322</td>\n",
       "      <td>98.467995</td>\n",
       "      <td>67.914439</td>\n",
       "      <td>37</td>\n",
       "      <td>47</td>\n",
       "      <td>33</td>\n",
       "      <td>33</td>\n",
       "    </tr>\n",
       "  </tbody>\n",
       "</table>\n",
       "<p>222 rows × 20 columns</p>\n",
       "</div>"
      ],
      "text/plain": [
       "       ID Date Recorded  FEV1  O2 Saturation  FEF2575  ecFEV1  ecFEF2575  \\\n",
       "2318  104    2019-01-24  1.27             96     0.66    1.27       0.93   \n",
       "2319  104    2019-02-08  1.32             96     0.80    1.32       0.80   \n",
       "2320  104    2019-02-09  1.40             98     0.93    1.40       0.93   \n",
       "2321  104    2019-02-11  1.47             95     1.05    1.47       1.05   \n",
       "2322  104    2019-02-12  1.41             95     0.92    1.41       0.92   \n",
       "...   ...           ...   ...            ...      ...     ...        ...   \n",
       "2535  104    2023-10-21  1.88             98     1.17    1.88       1.76   \n",
       "2536  104    2023-10-25  1.70             96     1.09    2.74       1.09   \n",
       "2537  104    2023-10-31  1.84             98     1.25    2.74       1.25   \n",
       "2538  104    2023-11-06  1.92             99     1.23    1.92       1.23   \n",
       "2539  104    2023-11-12  1.87             97     1.27    1.87       1.27   \n",
       "\n",
       "         Sex  Height  Age  Predicted FEV1  Healthy O2 Saturation  \\\n",
       "2318  Female   143.0   25         2.50019              98.509166   \n",
       "2319  Female   143.0   25         2.50019              98.509166   \n",
       "2320  Female   143.0   25         2.50019              98.509166   \n",
       "2321  Female   143.0   25         2.50019              98.509166   \n",
       "2322  Female   143.0   25         2.50019              98.509166   \n",
       "...      ...     ...  ...             ...                    ...   \n",
       "2535  Female   143.0   25         2.50019              98.509166   \n",
       "2536  Female   143.0   25         2.50019              98.509166   \n",
       "2537  Female   143.0   25         2.50019              98.509166   \n",
       "2538  Female   143.0   25         2.50019              98.509166   \n",
       "2539  Female   143.0   25         2.50019              98.509166   \n",
       "\n",
       "      ecFEV1 % Predicted  FEV1 % Predicted  O2 Saturation % Healthy  \\\n",
       "2318           50.796144         50.796144                97.452861   \n",
       "2319           52.795992         52.795992                97.452861   \n",
       "2320           55.995749         55.995749                99.483129   \n",
       "2321           58.795537         58.795537                96.437727   \n",
       "2322           56.395719         56.395719                96.437727   \n",
       "...                  ...               ...                      ...   \n",
       "2535           75.194292         75.194292                99.483129   \n",
       "2536          109.591681         67.994839                97.452861   \n",
       "2537          109.591681         73.594414                99.483129   \n",
       "2538           76.794171         76.794171               100.498263   \n",
       "2539           74.794322         74.794322                98.467995   \n",
       "\n",
       "      ecFEF2575%ecFEV1  idx ecFEV1 (L)  idx O2 saturation (%)  \\\n",
       "2318         51.968504              25                     46   \n",
       "2319         60.606061              26                     46   \n",
       "2320         66.428571              28                     48   \n",
       "2321         71.428571              29                     45   \n",
       "2322         65.248227              28                     45   \n",
       "...                ...             ...                    ...   \n",
       "2535         62.234043              37                     48   \n",
       "2536         64.117647              54                     46   \n",
       "2537         67.934783              54                     48   \n",
       "2538         64.062500              38                     49   \n",
       "2539         67.914439              37                     47   \n",
       "\n",
       "      idx ecFEF2575%ecFEV1  idx ecFEF25-75 % ecFEV1 (%)  \n",
       "2318                    25                           25  \n",
       "2319                    30                           30  \n",
       "2320                    33                           33  \n",
       "2321                    35                           35  \n",
       "2322                    32                           32  \n",
       "...                    ...                          ...  \n",
       "2535                    31                           31  \n",
       "2536                    32                           32  \n",
       "2537                    33                           33  \n",
       "2538                    32                           32  \n",
       "2539                    33                           33  \n",
       "\n",
       "[222 rows x 20 columns]"
      ]
     },
     "execution_count": 14,
     "metadata": {},
     "output_type": "execute_result"
    }
   ],
   "source": [
    "df[df.ID == '104']"
   ]
  },
  {
   "cell_type": "code",
   "execution_count": 39,
   "metadata": {},
   "outputs": [
    {
     "data": {
      "application/vnd.plotly.v1+json": {
       "config": {
        "plotlyServerURL": "https://plot.ly"
       },
       "data": [
        {
         "marker": {
          "size": 4
         },
         "mode": "lines+markers",
         "name": "ecFEV1 132",
         "type": "scatter",
         "x": [
          0,
          1,
          2,
          3,
          4,
          5,
          6,
          7,
          8,
          9,
          10,
          11,
          12,
          13,
          14,
          15,
          16,
          17,
          18,
          19,
          20,
          21,
          22,
          23,
          24,
          25,
          26
         ],
         "xaxis": "x",
         "y": [
          1.64,
          1.78,
          1.72,
          1.79,
          1.62,
          1.7,
          1.68,
          1.72,
          1.71,
          1.7,
          1.67,
          1.67,
          1.71,
          1.66,
          1.76,
          1.66,
          1.63,
          1.72,
          1.86,
          1.72,
          1.58,
          1.79,
          1.67,
          1.73,
          1.57,
          1.61,
          1.93
         ],
         "yaxis": "y"
        },
        {
         "marker": {
          "size": 4
         },
         "mode": "lines+markers",
         "name": "ecFEF2575%ecFEV1 132",
         "type": "scatter",
         "x": [
          0,
          1,
          2,
          3,
          4,
          5,
          6,
          7,
          8,
          9,
          10,
          11,
          12,
          13,
          14,
          15,
          16,
          17,
          18,
          19,
          20,
          21,
          22,
          23,
          24,
          25,
          26
         ],
         "xaxis": "x2",
         "y": [
          36.58536585365853,
          34.26966292134831,
          38.37209302325581,
          34.07821229050278,
          33.95061728395062,
          35.88235294117646,
          38.0952380952381,
          33.13953488372093,
          37.42690058479533,
          43.52941176470588,
          35.32934131736526,
          34.73053892215568,
          37.42690058479533,
          37.95180722891566,
          36.93181818181818,
          37.34939759036145,
          36.80981595092024,
          36.04651162790698,
          33.33333333333333,
          34.30232558139534,
          33.54430379746836,
          43.5754189944134,
          36.52694610778443,
          33.52601156069363,
          38.85350318471337,
          31.05590062111801,
          30.05181347150259
         ],
         "yaxis": "y2"
        },
        {
         "marker": {
          "size": 4
         },
         "mode": "lines+markers",
         "name": "ecFEV1 146",
         "type": "scatter",
         "x": [
          0,
          1,
          2,
          3,
          4,
          5,
          6,
          7,
          8,
          9,
          10,
          11,
          12,
          13,
          14,
          15,
          16,
          17,
          18,
          19,
          20,
          21,
          22,
          23,
          24,
          25,
          26,
          27,
          28,
          29
         ],
         "xaxis": "x3",
         "y": [
          2.24,
          2.24,
          1.13,
          1,
          1.01,
          0.99,
          1.22,
          1.22,
          0.8299999999999998,
          0.82,
          0.9,
          0.8599999999999999,
          0.9,
          1.34,
          1.34,
          1.23,
          1.5,
          1.5,
          1.38,
          1.38,
          1.35,
          1.43,
          1.43,
          1.34,
          1.34,
          0.82,
          0.91,
          0.88,
          1.39,
          1.39
         ],
         "yaxis": "y3"
        },
        {
         "marker": {
          "size": 4
         },
         "mode": "lines+markers",
         "name": "ecFEF2575%ecFEV1 146",
         "type": "scatter",
         "x": [
          0,
          1,
          2,
          3,
          4,
          5,
          6,
          7,
          8,
          9,
          10,
          11,
          12,
          13,
          14,
          15,
          16,
          17,
          18,
          19,
          20,
          21,
          22,
          23,
          24,
          25,
          26,
          27,
          28,
          29
         ],
         "xaxis": "x4",
         "y": [
          63.46153846153846,
          50,
          47.78761061946904,
          55.00000000000001,
          54.45544554455446,
          54.54545454545455,
          49.99999999999999,
          52.80898876404493,
          59.03614457831326,
          60.97560975609756,
          53.33333333333332,
          55.81395348837209,
          58.88888888888889,
          52,
          37.31343283582089,
          48.78048780487804,
          42,
          50.96153846153846,
          41.30434782608695,
          51.08695652173913,
          43.70370370370369,
          49.48453608247422,
          34.96503496503497,
          40.29850746268657,
          49.99999999999999,
          51.21951219512194,
          50.54945054945055,
          52.27272727272727,
          54.45544554455446,
          51.79856115107913
         ],
         "yaxis": "y4"
        },
        {
         "marker": {
          "size": 4
         },
         "mode": "lines+markers",
         "name": "ecFEV1 177",
         "type": "scatter",
         "x": [
          0,
          1,
          2,
          3,
          4,
          5,
          6,
          7,
          8,
          9,
          10,
          11,
          12,
          13,
          14,
          15,
          16,
          17,
          18,
          19,
          20,
          21,
          22,
          23,
          24,
          25,
          26,
          27,
          28,
          29
         ],
         "xaxis": "x5",
         "y": [
          2.66,
          2.81,
          2.96,
          2.83,
          2.93,
          2.82,
          2.69,
          2.57,
          2.92,
          2.75,
          2.71,
          3.06,
          2.83,
          2.82,
          3.09,
          2.85,
          2.8,
          2.91,
          2.57,
          2.7,
          2.53,
          2.92,
          2.69,
          2.87,
          2.99,
          2.98,
          3.03,
          3.09,
          2.95,
          3.14
         ],
         "yaxis": "y5"
        },
        {
         "marker": {
          "size": 4
         },
         "mode": "lines+markers",
         "name": "ecFEF2575%ecFEV1 177",
         "type": "scatter",
         "x": [
          0,
          1,
          2,
          3,
          4,
          5,
          6,
          7,
          8,
          9,
          10,
          11,
          12,
          13,
          14,
          15,
          16,
          17,
          18,
          19,
          20,
          21,
          22,
          23,
          24,
          25,
          26,
          27,
          28,
          29
         ],
         "xaxis": "x6",
         "y": [
          77.44360902255639,
          112.8113879003559,
          117.2297297297297,
          110.2473498233216,
          93.85665529010238,
          100.354609929078,
          88.47583643122677,
          83.65758754863813,
          121.2328767123288,
          100.7272727272727,
          90.03690036900369,
          139.5424836601307,
          96.46643109540636,
          104.6099290780142,
          137.2168284789644,
          108.0701754385965,
          112.5,
          109.9656357388316,
          72.7626459143969,
          87.77777777777777,
          71.93675889328064,
          112.3287671232877,
          81.78438661710038,
          110.801393728223,
          117.7257525083612,
          121.1409395973154,
          134.983498349835,
          146.2783171521036,
          117.9661016949152,
          138.2165605095541
         ],
         "yaxis": "y6"
        },
        {
         "marker": {
          "size": 4
         },
         "mode": "lines+markers",
         "name": "ecFEV1 180",
         "type": "scatter",
         "x": [
          0,
          1,
          2,
          3,
          4,
          5,
          6,
          7,
          8,
          9,
          10,
          11,
          12,
          13,
          14,
          15,
          16,
          17,
          18,
          19,
          20,
          21,
          22,
          23,
          24,
          25,
          26,
          27,
          28,
          29
         ],
         "xaxis": "x7",
         "y": [
          1.78,
          1.84,
          1.73,
          1.9,
          1.7,
          1.72,
          1.7,
          1.7,
          1.79,
          1.71,
          1.81,
          1.83,
          1.79,
          1.77,
          1.76,
          1.78,
          1.8,
          1.81,
          1.83,
          1.79,
          1.76,
          1.8,
          1.81,
          1.79,
          1.72,
          1.74,
          1.74,
          1.77,
          1.65,
          1.65
         ],
         "yaxis": "y7"
        },
        {
         "marker": {
          "size": 4
         },
         "mode": "lines+markers",
         "name": "ecFEF2575%ecFEV1 180",
         "type": "scatter",
         "x": [
          0,
          1,
          2,
          3,
          4,
          5,
          6,
          7,
          8,
          9,
          10,
          11,
          12,
          13,
          14,
          15,
          16,
          17,
          18,
          19,
          20,
          21,
          22,
          23,
          24,
          25,
          26,
          27,
          28,
          29
         ],
         "xaxis": "x8",
         "y": [
          55.0561797752809,
          55.97826086956522,
          58.95953757225434,
          55.78947368421053,
          48.23529411764706,
          40.69767441860464,
          49.99999999999999,
          49.41176470588234,
          41.34078212290503,
          42.10526315789473,
          44.19889502762431,
          53.00546448087431,
          53.07262569832402,
          41.24293785310734,
          43.18181818181818,
          41.57303370786516,
          53.33333333333334,
          52.48618784530387,
          48.08743169398907,
          48.04469273743016,
          39.20454545454545,
          48.33333333333334,
          49.72375690607735,
          50.83798882681564,
          39.53488372093024,
          50,
          41.37931034482758,
          50.84745762711864,
          43.63636363636363,
          47.87878787878788
         ],
         "yaxis": "y8"
        },
        {
         "marker": {
          "size": 4
         },
         "mode": "lines+markers",
         "name": "ecFEV1 202",
         "type": "scatter",
         "x": [
          0,
          1,
          2,
          3,
          4,
          5,
          6,
          7,
          8,
          9,
          10,
          11,
          12,
          13,
          14,
          15,
          16,
          17,
          18,
          19,
          20,
          21,
          22,
          23,
          24,
          25,
          26,
          27,
          28,
          29
         ],
         "xaxis": "x9",
         "y": [
          3.31,
          2.16,
          2.12,
          1.96,
          2.11,
          2.11,
          2.14,
          2.07,
          2.18,
          2.18,
          2.03,
          2.05,
          2.11,
          2.15,
          2.13,
          2.14,
          2.12,
          2.14,
          2.01,
          2.12,
          2,
          2.14,
          1.85,
          2.1,
          2.04,
          1.98,
          2.8,
          2.8,
          2.02,
          2.01
         ],
         "yaxis": "y9"
        },
        {
         "marker": {
          "size": 4
         },
         "mode": "lines+markers",
         "name": "ecFEF2575%ecFEV1 202",
         "type": "scatter",
         "x": [
          0,
          1,
          2,
          3,
          4,
          5,
          6,
          7,
          8,
          9,
          10,
          11,
          12,
          13,
          14,
          15,
          16,
          17,
          18,
          19,
          20,
          21,
          22,
          23,
          24,
          25,
          26,
          27,
          28,
          29
         ],
         "xaxis": "x10",
         "y": [
          107.7294685990338,
          101.3888888888889,
          98.11320754716981,
          92.85714285714286,
          82.63473053892216,
          100.9478672985782,
          89.25233644859813,
          93.23671497584542,
          99.08256880733944,
          95.87155963302752,
          92.11822660098522,
          97.07317073170732,
          102.3696682464455,
          100,
          120.18779342723,
          115.4205607476636,
          105.6603773584906,
          107.9439252336449,
          96.51741293532339,
          96.22641509433963,
          110.5,
          106.0747663551402,
          107.5675675675676,
          117.6190476190476,
          84.31372549019608,
          92.42424242424244,
          261.5,
          160.655737704918,
          147.029702970297,
          134.3283582089553
         ],
         "yaxis": "y10"
        },
        {
         "marker": {
          "size": 4
         },
         "mode": "lines+markers",
         "name": "ecFEV1 117",
         "type": "scatter",
         "x": [
          0,
          1,
          2,
          3,
          4,
          5,
          6,
          7,
          8,
          9,
          10,
          11,
          12,
          13,
          14,
          15,
          16,
          17,
          18,
          19,
          20,
          21,
          22,
          23,
          24,
          25,
          26,
          27,
          28,
          29
         ],
         "xaxis": "x11",
         "y": [
          1.1,
          1.34,
          1.38,
          1.4,
          1.48,
          1.6,
          1.65,
          1.54,
          1.6,
          1.61,
          1.51,
          1.6,
          1.57,
          1.55,
          1.64,
          1.58,
          1.6,
          1.56,
          1.55,
          1.55,
          1.64,
          1.69,
          1.63,
          1.64,
          1.57,
          1.81,
          1.61,
          1.56,
          1.64,
          1.54
         ],
         "yaxis": "y11"
        },
        {
         "marker": {
          "size": 4
         },
         "mode": "lines+markers",
         "name": "ecFEF2575%ecFEV1 117",
         "type": "scatter",
         "x": [
          0,
          1,
          2,
          3,
          4,
          5,
          6,
          7,
          8,
          9,
          10,
          11,
          12,
          13,
          14,
          15,
          16,
          17,
          18,
          19,
          20,
          21,
          22,
          23,
          24,
          25,
          26,
          27,
          28,
          29
         ],
         "xaxis": "x12",
         "y": [
          46.36363636363636,
          49.01960784313725,
          40.57971014492755,
          39.28571428571429,
          52.02702702702703,
          35.62499999999999,
          41.21212121212122,
          48.7012987012987,
          29.99999999999999,
          59.00621118012421,
          34.43708609271523,
          29.99999999999999,
          36.30573248407643,
          31.61290322580644,
          34.14634146341464,
          37.97468354430379,
          33.125,
          40.38461538461539,
          35.48387096774194,
          34.19354838709678,
          26.21951219512195,
          37.8698224852071,
          28.22085889570553,
          40.85365853658537,
          25.47770700636943,
          37.01657458563536,
          43.4782608695652,
          40.38461538461539,
          38.41463414634146,
          27.27272727272727
         ],
         "yaxis": "y12"
        },
        {
         "marker": {
          "size": 4
         },
         "mode": "lines+markers",
         "name": "ecFEV1 131",
         "type": "scatter",
         "x": [
          0,
          1,
          2,
          3,
          4,
          5,
          6,
          7,
          8,
          9,
          10,
          11,
          12,
          13,
          14,
          15,
          16,
          17,
          18,
          19,
          20,
          21,
          22,
          23,
          24,
          25,
          26,
          27,
          28
         ],
         "xaxis": "x13",
         "y": [
          1.81,
          1.9,
          1.89,
          1.86,
          2.05,
          1.87,
          1.93,
          2.11,
          1.96,
          2.12,
          2.23,
          1.94,
          1.91,
          1.94,
          1.8,
          1.88,
          1.88,
          1.87,
          1.89,
          1.95,
          1.83,
          2.1,
          1.95,
          2.02,
          2.32,
          2.06,
          2.06,
          2.15,
          1.95
         ],
         "yaxis": "y13"
        },
        {
         "marker": {
          "size": 4
         },
         "mode": "lines+markers",
         "name": "ecFEF2575%ecFEV1 131",
         "type": "scatter",
         "x": [
          0,
          1,
          2,
          3,
          4,
          5,
          6,
          7,
          8,
          9,
          10,
          11,
          12,
          13,
          14,
          15,
          16,
          17,
          18,
          19,
          20,
          21,
          22,
          23,
          24,
          25,
          26,
          27,
          28
         ],
         "xaxis": "x14",
         "y": [
          70.1657458563536,
          77.89473684210526,
          89.94708994708995,
          91.39784946236558,
          89.26829268292684,
          81.28342245989305,
          89.11917098445596,
          83.88625592417063,
          85.20408163265306,
          72.16981132075472,
          86.09865470852017,
          77.31958762886599,
          74.3455497382199,
          79.38144329896907,
          71.11111111111111,
          80.85106382978724,
          76.59574468085107,
          79.14438502673796,
          67.72486772486774,
          69.74358974358975,
          67.21311475409836,
          80.47619047619047,
          68.71794871794872,
          89.10891089108911,
          78.44827586206897,
          84.46601941747572,
          91.26213592233009,
          79.06976744186046,
          74.35897435897436
         ],
         "yaxis": "y14"
        },
        {
         "marker": {
          "size": 4
         },
         "mode": "lines+markers",
         "name": "ecFEV1 134",
         "type": "scatter",
         "x": [
          0,
          1,
          2,
          3,
          4,
          5,
          6,
          7,
          8,
          9,
          10,
          11,
          12,
          13,
          14,
          15,
          16,
          17,
          18,
          19,
          20,
          21,
          22,
          23,
          24,
          25,
          26,
          27,
          28,
          29
         ],
         "xaxis": "x15",
         "y": [
          2.09,
          2.3,
          2.75,
          2.75,
          2.39,
          2.66,
          3,
          2.58,
          2.79,
          2.5,
          3.16,
          3.16,
          3.34,
          3.13,
          3.34,
          3.29,
          3.28,
          3.03,
          2.94,
          3.22,
          3.02,
          3.02,
          3.02,
          2.43,
          2.03,
          2.15,
          2.04,
          1.99,
          2.1,
          2.14
         ],
         "yaxis": "y15"
        },
        {
         "marker": {
          "size": 4
         },
         "mode": "lines+markers",
         "name": "ecFEF2575%ecFEV1 134",
         "type": "scatter",
         "x": [
          0,
          1,
          2,
          3,
          4,
          5,
          6,
          7,
          8,
          9,
          10,
          11,
          12,
          13,
          14,
          15,
          16,
          17,
          18,
          19,
          20,
          21,
          22,
          23,
          24,
          25,
          26,
          27,
          28,
          29
         ],
         "xaxis": "x16",
         "y": [
          46.88995215311004,
          59.13043478260871,
          60.86956521739131,
          56.36363636363636,
          49.79079497907949,
          56.76691729323308,
          59.33333333333334,
          56.2015503875969,
          55.55555555555556,
          52.8,
          55.77689243027889,
          61.0759493670886,
          56.2874251497006,
          61.98083067092652,
          61.37724550898204,
          58.96656534954408,
          53.35365853658537,
          53.79537953795379,
          69.38775510204081,
          68.32298136645963,
          56.62251655629139,
          67.21854304635761,
          56.9620253164557,
          49.38271604938272,
          52.70935960591135,
          50.23255813953489,
          48.52941176470588,
          52.76381909547739,
          48.57142857142857,
          50.46728971962617
         ],
         "yaxis": "y16"
        },
        {
         "marker": {
          "size": 4
         },
         "mode": "lines+markers",
         "name": "ecFEV1 191",
         "type": "scatter",
         "x": [
          0,
          1,
          2,
          3,
          4,
          5,
          6,
          7,
          8,
          9,
          10,
          11,
          12,
          13,
          14,
          15,
          16,
          17,
          18,
          19,
          20,
          21,
          22,
          23,
          24,
          25,
          26,
          27,
          28,
          29
         ],
         "xaxis": "x17",
         "y": [
          2.08,
          2.24,
          2.17,
          2.32,
          2.16,
          2.11,
          2.16,
          2.1,
          2.12,
          2.11,
          2.09,
          2.13,
          2.21,
          2.15,
          2.21,
          2.12,
          2.1,
          2.17,
          2.16,
          2.28,
          2.07,
          2.14,
          2.21,
          2.17,
          2.23,
          2.15,
          2.13,
          2.2,
          2.28,
          2.16
         ],
         "yaxis": "y17"
        },
        {
         "marker": {
          "size": 4
         },
         "mode": "lines+markers",
         "name": "ecFEF2575%ecFEV1 191",
         "type": "scatter",
         "x": [
          0,
          1,
          2,
          3,
          4,
          5,
          6,
          7,
          8,
          9,
          10,
          11,
          12,
          13,
          14,
          15,
          16,
          17,
          18,
          19,
          20,
          21,
          22,
          23,
          24,
          25,
          26,
          27,
          28,
          29
         ],
         "xaxis": "x18",
         "y": [
          44.23076923076923,
          62.05357142857142,
          42.3963133640553,
          48.70689655172414,
          61.11111111111111,
          70.14218009478674,
          60.18518518518518,
          66.66666666666666,
          67.9245283018868,
          64.92890995260665,
          60.28708133971292,
          65.72769953051643,
          69.68325791855204,
          70.23255813953489,
          75.56561085972851,
          66.0377358490566,
          79.04761904761905,
          93.54838709677419,
          83.33333333333333,
          92.98245614035089,
          71.4975845410628,
          72.42990654205607,
          78.73303167420815,
          78.3410138248848,
          84.30493273542601,
          75.81395348837209,
          78.87323943661973,
          93.18181818181816,
          84.21052631578948,
          58.79629629629629
         ],
         "yaxis": "y18"
        },
        {
         "marker": {
          "size": 4
         },
         "mode": "lines+markers",
         "name": "ecFEV1 139",
         "type": "scatter",
         "x": [
          0,
          1,
          2,
          3,
          4,
          5,
          6,
          7,
          8,
          9,
          10,
          11,
          12,
          13,
          14,
          15,
          16,
          17,
          18,
          19,
          20,
          21,
          22,
          23,
          24,
          25,
          26,
          27,
          28,
          29
         ],
         "xaxis": "x19",
         "y": [
          1.57,
          1.45,
          1.54,
          1.47,
          1.5,
          1.55,
          1.54,
          1.52,
          1.55,
          1.53,
          1.63,
          1.6,
          1.67,
          1.56,
          1.55,
          1.68,
          1.75,
          1.66,
          1.66,
          1.6,
          1.52,
          1.57,
          1.56,
          1.59,
          1.67,
          1.61,
          1.65,
          1.59,
          1.57,
          1.53
         ],
         "yaxis": "y19"
        },
        {
         "marker": {
          "size": 4
         },
         "mode": "lines+markers",
         "name": "ecFEF2575%ecFEV1 139",
         "type": "scatter",
         "x": [
          0,
          1,
          2,
          3,
          4,
          5,
          6,
          7,
          8,
          9,
          10,
          11,
          12,
          13,
          14,
          15,
          16,
          17,
          18,
          19,
          20,
          21,
          22,
          23,
          24,
          25,
          26,
          27,
          28,
          29
         ],
         "xaxis": "x20",
         "y": [
          100,
          118.6206896551724,
          124.025974025974,
          127.2108843537415,
          123.3333333333333,
          120.6451612903226,
          135.7142857142857,
          130.2631578947368,
          158.0645161290323,
          126.1437908496732,
          117.7914110429448,
          127.5,
          116.7664670658683,
          139.1025641025641,
          140,
          118.4523809523809,
          133.7142857142857,
          139.7590361445783,
          142.7710843373494,
          127.5,
          51.97368421052632,
          121.0191082802548,
          103.8461538461539,
          124.5283018867924,
          135.9281437125749,
          113.6645962732919,
          135.1515151515152,
          120.125786163522,
          100.6369426751592,
          111.1111111111111
         ],
         "yaxis": "y20"
        },
        {
         "marker": {
          "size": 4
         },
         "mode": "lines+markers",
         "name": "ecFEV1 253",
         "type": "scatter",
         "x": [
          0,
          1,
          2,
          3,
          4,
          5,
          6,
          7,
          8,
          9,
          10,
          11,
          12,
          13,
          14,
          15,
          16,
          17,
          18,
          19,
          20,
          21,
          22,
          23,
          24,
          25,
          26,
          27,
          28,
          29
         ],
         "xaxis": "x21",
         "y": [
          1.17,
          1.22,
          1.24,
          1.23,
          1.22,
          1.24,
          1.27,
          1.22,
          1.24,
          1.25,
          1.28,
          1.2,
          1.26,
          1.26,
          1.26,
          1.27,
          1.27,
          1.27,
          1.3,
          1.21,
          1.29,
          1.21,
          1.19,
          1.29,
          1.27,
          1.27,
          1.31,
          1.29,
          1.29,
          1.32
         ],
         "yaxis": "y21"
        },
        {
         "marker": {
          "size": 4
         },
         "mode": "lines+markers",
         "name": "ecFEF2575%ecFEV1 253",
         "type": "scatter",
         "x": [
          0,
          1,
          2,
          3,
          4,
          5,
          6,
          7,
          8,
          9,
          10,
          11,
          12,
          13,
          14,
          15,
          16,
          17,
          18,
          19,
          20,
          21,
          22,
          23,
          24,
          25,
          26,
          27,
          28,
          29
         ],
         "xaxis": "x22",
         "y": [
          94.01709401709402,
          84.42622950819673,
          74.19354838709677,
          81.30081300813008,
          77.8688524590164,
          113.7096774193548,
          83.46456692913387,
          89.34426229508198,
          87.0967741935484,
          85.60000000000001,
          88.28124999999999,
          85.00000000000001,
          82.53968253968254,
          96.03174603174602,
          85.71428571428572,
          88.18897637795277,
          92.78350515463917,
          96.06299212598425,
          106.1538461538461,
          83.47107438016529,
          81.3953488372093,
          85.12396694214877,
          87.3949579831933,
          89.92248062015503,
          79.52755905511812,
          77.95275590551181,
          85.49618320610688,
          76.74418604651162,
          79.84496124031007,
          82.57575757575758
         ],
         "yaxis": "y22"
        },
        {
         "marker": {
          "size": 4
         },
         "mode": "lines+markers",
         "name": "ecFEV1 101",
         "type": "scatter",
         "x": [
          0,
          1,
          2,
          3,
          4,
          5,
          6,
          7,
          8,
          9,
          10,
          11,
          12,
          13,
          14,
          15,
          16,
          17,
          18,
          19,
          20,
          21,
          22,
          23,
          24,
          25,
          26,
          27,
          28,
          29
         ],
         "xaxis": "x23",
         "y": [
          1.31,
          1.31,
          1.31,
          1.3,
          1.28,
          1.29,
          1.34,
          1.35,
          1.33,
          1.32,
          1.34,
          1.28,
          1.32,
          1.28,
          1.32,
          1.28,
          1.3,
          1.33,
          1.31,
          1.29,
          1.29,
          1.29,
          1.31,
          1.32,
          1.3,
          1.37,
          1.31,
          1.29,
          1.32,
          1.28
         ],
         "yaxis": "y23"
        },
        {
         "marker": {
          "size": 4
         },
         "mode": "lines+markers",
         "name": "ecFEF2575%ecFEV1 101",
         "type": "scatter",
         "x": [
          0,
          1,
          2,
          3,
          4,
          5,
          6,
          7,
          8,
          9,
          10,
          11,
          12,
          13,
          14,
          15,
          16,
          17,
          18,
          19,
          20,
          21,
          22,
          23,
          24,
          25,
          26,
          27,
          28,
          29
         ],
         "xaxis": "x24",
         "y": [
          41.22137404580153,
          43.51145038167938,
          51.14503816793893,
          53.07692307692307,
          46.87499999999999,
          45.73643410852712,
          55.97014925373134,
          39.25925925925926,
          42.10526315789474,
          50,
          41.79104477611941,
          42.96875,
          50,
          40.625,
          42.42424242424242,
          48.4375,
          46.92307692307691,
          44.36090225563908,
          44.27480916030533,
          42.63565891472869,
          55.03875968992246,
          39.53488372093023,
          48.09160305343511,
          43.18181818181818,
          52.30769230769231,
          43.06569343065692,
          40.45801526717558,
          43.4108527131783,
          47.72727272727273,
          40.625
         ],
         "yaxis": "y24"
        },
        {
         "marker": {
          "size": 4
         },
         "mode": "lines+markers",
         "name": "ecFEV1 405",
         "type": "scatter",
         "x": [
          0,
          1,
          2,
          3,
          4,
          5,
          6,
          7,
          8,
          9,
          10,
          11,
          12,
          13,
          14,
          15,
          16,
          17,
          18,
          19,
          20,
          21,
          22,
          23,
          24,
          25,
          26,
          27,
          28,
          29
         ],
         "xaxis": "x25",
         "y": [
          2.52,
          2.53,
          2.57,
          2.56,
          2.55,
          2.52,
          2.44,
          2.35,
          2.35,
          2.38,
          2.39,
          2.4,
          2.41,
          2.46,
          2.34,
          2.43,
          2.41,
          2.47,
          2.51,
          2.44,
          2.48,
          2.49,
          2.5,
          2.54,
          2.52,
          2.44,
          2.49,
          2.5,
          2.53,
          2.51
         ],
         "yaxis": "y25"
        },
        {
         "marker": {
          "size": 4
         },
         "mode": "lines+markers",
         "name": "ecFEF2575%ecFEV1 405",
         "type": "scatter",
         "x": [
          0,
          1,
          2,
          3,
          4,
          5,
          6,
          7,
          8,
          9,
          10,
          11,
          12,
          13,
          14,
          15,
          16,
          17,
          18,
          19,
          20,
          21,
          22,
          23,
          24,
          25,
          26,
          27,
          28,
          29
         ],
         "xaxis": "x26",
         "y": [
          45.63492063492063,
          49.40711462450593,
          45.13618677042802,
          51.953125,
          54.90196078431373,
          48.01587301587301,
          50.40983606557376,
          49.36170212765957,
          46.38297872340426,
          43.69747899159665,
          47.69874476987447,
          51.66666666666667,
          52.28215767634854,
          54.87804878048781,
          45.72649572649573,
          52.2633744855967,
          51.03734439834025,
          48.17813765182186,
          49.40239043824702,
          50.40983606557376,
          50.80645161290322,
          51.40562248995983,
          47.2,
          51.18110236220473,
          50.79365079365079,
          48.36065573770492,
          50.2008032128514,
          50,
          47.43083003952569,
          50.19920318725099
         ],
         "yaxis": "y26"
        },
        {
         "marker": {
          "size": 4
         },
         "mode": "lines+markers",
         "name": "ecFEV1 272",
         "type": "scatter",
         "x": [
          0,
          1,
          2,
          3,
          4,
          5,
          6,
          7,
          8,
          9,
          10,
          11,
          12,
          13,
          14,
          15,
          16,
          17,
          18,
          19,
          20,
          21,
          22,
          23,
          24,
          25,
          26,
          27,
          28,
          29
         ],
         "xaxis": "x27",
         "y": [
          1.46,
          1.55,
          1.44,
          1.55,
          1.52,
          1.5,
          1.52,
          1.48,
          1.48,
          1.45,
          1.56,
          1.58,
          1.52,
          1.53,
          1.54,
          1.52,
          1.5,
          1.48,
          1.4,
          1.47,
          1.49,
          1.48,
          1.49,
          1.45,
          1.47,
          1.52,
          1.4,
          1.53,
          1.47,
          1.51
         ],
         "yaxis": "y27"
        },
        {
         "marker": {
          "size": 4
         },
         "mode": "lines+markers",
         "name": "ecFEF2575%ecFEV1 272",
         "type": "scatter",
         "x": [
          0,
          1,
          2,
          3,
          4,
          5,
          6,
          7,
          8,
          9,
          10,
          11,
          12,
          13,
          14,
          15,
          16,
          17,
          18,
          19,
          20,
          21,
          22,
          23,
          24,
          25,
          26,
          27,
          28,
          29
         ],
         "xaxis": "x28",
         "y": [
          45.89041095890411,
          44.51612903225806,
          45.13888888888889,
          45.16129032258063,
          44.07894736842105,
          45.33333333333334,
          54.60526315789473,
          70.27027027027027,
          54.72972972972974,
          60,
          52.56410256410255,
          63.29113924050633,
          48.02631578947367,
          64.70588235294117,
          68.18181818181819,
          67.10526315789474,
          61.33333333333334,
          77.02702702702702,
          75.00000000000001,
          71.42857142857143,
          73.15436241610739,
          73.64864864864865,
          70.46979865771812,
          71.0344827586207,
          69.38775510204081,
          71.71052631578948,
          71.42857142857143,
          70.58823529411765,
          71.42857142857143,
          62.91390728476821
         ],
         "yaxis": "y28"
        },
        {
         "marker": {
          "size": 4
         },
         "mode": "lines+markers",
         "name": "ecFEV1 201",
         "type": "scatter",
         "x": [
          0,
          1,
          2,
          3,
          4,
          5,
          6,
          7,
          8,
          9,
          10,
          11,
          12,
          13,
          14,
          15,
          16,
          17,
          18,
          19,
          20,
          21,
          22,
          23,
          24,
          25,
          26,
          27,
          28,
          29
         ],
         "xaxis": "x29",
         "y": [
          2.24,
          1.4,
          1.73,
          1.73,
          2.51,
          2.51,
          2.36,
          2.36,
          1.6,
          1.36,
          1.42,
          1.36,
          1.28,
          1.85,
          1.85,
          2.24,
          2.24,
          2.12,
          2.12,
          1.55,
          2.2,
          2.2,
          2.2,
          2.13,
          2.13,
          2.15,
          2.15,
          2.3,
          2.16,
          2.16
         ],
         "yaxis": "y29"
        },
        {
         "marker": {
          "size": 4
         },
         "mode": "lines+markers",
         "name": "ecFEF2575%ecFEV1 201",
         "type": "scatter",
         "x": [
          0,
          1,
          2,
          3,
          4,
          5,
          6,
          7,
          8,
          9,
          10,
          11,
          12,
          13,
          14,
          15,
          16,
          17,
          18,
          19,
          20,
          21,
          22,
          23,
          24,
          25,
          26,
          27,
          28,
          29
         ],
         "xaxis": "x30",
         "y": [
          71.875,
          73.57142857142858,
          71.67630057803468,
          76.33587786259541,
          67.94871794871796,
          86.05577689243029,
          81.77966101694916,
          76.875,
          67.22689075630252,
          65.44117647058823,
          69.01408450704226,
          70.58823529411764,
          71.09375,
          72.1311475409836,
          75.67567567567566,
          82.58928571428571,
          68.14814814814815,
          74.05660377358491,
          70.06802721088435,
          69.03225806451613,
          72.72727272727273,
          87.27272727272725,
          73.109243697479,
          71.7557251908397,
          84.97652582159625,
          68.33333333333333,
          85.11627906976746,
          94.78260869565219,
          81.48148148148148,
          73.75
         ],
         "yaxis": "y30"
        },
        {
         "marker": {
          "size": 4
         },
         "mode": "lines+markers",
         "name": "ecFEV1 203",
         "type": "scatter",
         "x": [
          0,
          1,
          2,
          3,
          4,
          5,
          6,
          7,
          8,
          9,
          10,
          11,
          12,
          13,
          14,
          15,
          16,
          17,
          18,
          19,
          20,
          21,
          22,
          23,
          24,
          25,
          26,
          27,
          28,
          29
         ],
         "xaxis": "x31",
         "y": [
          1.84,
          1.83,
          1.88,
          1.88,
          1.92,
          1.87,
          1.88,
          1.84,
          1.86,
          1.86,
          1.85,
          1.89,
          1.87,
          1.84,
          1.92,
          1.89,
          1.9,
          1.85,
          1.9,
          1.91,
          1.88,
          1.89,
          1.87,
          1.92,
          1.85,
          1.89,
          1.85,
          1.91,
          1.89,
          1.9
         ],
         "yaxis": "y31"
        },
        {
         "marker": {
          "size": 4
         },
         "mode": "lines+markers",
         "name": "ecFEF2575%ecFEV1 203",
         "type": "scatter",
         "x": [
          0,
          1,
          2,
          3,
          4,
          5,
          6,
          7,
          8,
          9,
          10,
          11,
          12,
          13,
          14,
          15,
          16,
          17,
          18,
          19,
          20,
          21,
          22,
          23,
          24,
          25,
          26,
          27,
          28,
          29
         ],
         "xaxis": "x32",
         "y": [
          34.78260869565217,
          39.34426229508196,
          38.82978723404255,
          53.72340425531915,
          55.20833333333334,
          59.35828877005348,
          50.53191489361703,
          40.21739130434781,
          36.55913978494624,
          38.17204301075267,
          58.37837837837838,
          49.73544973544973,
          36.36363636363637,
          37.49999999999999,
          38.02083333333333,
          37.56613756613756,
          38.42105263157895,
          53.51351351351351,
          38.94736842105262,
          39.79057591623037,
          36.17021276595745,
          39.68253968253968,
          37.43315508021389,
          54.6875,
          55.13513513513514,
          37.03703703703703,
          49.18918918918919,
          37.69633507853403,
          49.20634920634921,
          59.47368421052632
         ],
         "yaxis": "y32"
        },
        {
         "marker": {
          "size": 4
         },
         "mode": "lines+markers",
         "name": "ecFEV1 527",
         "type": "scatter",
         "x": [
          0,
          1,
          2,
          3,
          4
         ],
         "xaxis": "x33",
         "y": [
          0.91,
          0.92,
          0.9,
          0.8399999999999999,
          0.92
         ],
         "yaxis": "y33"
        },
        {
         "marker": {
          "size": 4
         },
         "mode": "lines+markers",
         "name": "ecFEF2575%ecFEV1 527",
         "type": "scatter",
         "x": [
          0,
          1,
          2,
          3,
          4
         ],
         "xaxis": "x34",
         "y": [
          46.15384615384614,
          46.7391304347826,
          52.22222222222221,
          46.42857142857144,
          54.34782608695652
         ],
         "yaxis": "y34"
        },
        {
         "marker": {
          "size": 4
         },
         "mode": "lines+markers",
         "name": "ecFEV1 104",
         "type": "scatter",
         "x": [
          0,
          1,
          2,
          3,
          4,
          5,
          6,
          7,
          8,
          9,
          10,
          11,
          12,
          13,
          14,
          15,
          16,
          17,
          18,
          19,
          20,
          21,
          22,
          23,
          24,
          25,
          26,
          27,
          28,
          29
         ],
         "xaxis": "x35",
         "y": [
          1.27,
          1.32,
          1.4,
          1.47,
          1.41,
          1.42,
          1.31,
          1.33,
          1.39,
          1.34,
          1.35,
          1.47,
          1.32,
          1.28,
          1.28,
          1.43,
          1.36,
          1.42,
          1.35,
          1.47,
          1.41,
          1.27,
          1.23,
          1.18,
          1.2,
          1.26,
          1.23,
          1.2,
          1.26,
          1.29
         ],
         "yaxis": "y35"
        },
        {
         "marker": {
          "size": 4
         },
         "mode": "lines+markers",
         "name": "ecFEF2575%ecFEV1 104",
         "type": "scatter",
         "x": [
          0,
          1,
          2,
          3,
          4,
          5,
          6,
          7,
          8,
          9,
          10,
          11,
          12,
          13,
          14,
          15,
          16,
          17,
          18,
          19,
          20,
          21,
          22,
          23,
          24,
          25,
          26,
          27,
          28,
          29
         ],
         "xaxis": "x36",
         "y": [
          51.96850393700787,
          60.60606060606061,
          66.42857142857143,
          71.42857142857143,
          65.24822695035462,
          65.49295774647888,
          67.93893129770993,
          75.93984962406014,
          58.99280575539569,
          62.68656716417909,
          61.48148148148147,
          64.62585034013605,
          74.24242424242425,
          78.90625,
          64.0625,
          59.44055944055944,
          68.38235294117648,
          63.38028169014085,
          71.1111111111111,
          50.34013605442176,
          63.12056737588653,
          47.24409448818896,
          51.21951219512195,
          52.54237288135594,
          46.66666666666667,
          49.2063492063492,
          52.03252032520326,
          45.83333333333334,
          59.52380952380953,
          53.48837209302325
         ],
         "yaxis": "y36"
        }
       ],
       "layout": {
        "annotations": [
         {
          "font": {
           "size": 16
          },
          "showarrow": false,
          "text": "ecFEV1",
          "x": 0.22,
          "xanchor": "center",
          "xref": "paper",
          "y": 1,
          "yanchor": "bottom",
          "yref": "paper"
         },
         {
          "font": {
           "size": 16
          },
          "showarrow": false,
          "text": "ecFEF2575%ecFEV1",
          "x": 0.76,
          "xanchor": "center",
          "xref": "paper",
          "y": 1,
          "yanchor": "bottom",
          "yref": "paper"
         },
         {
          "font": {
           "size": 16
          },
          "showarrow": false,
          "text": "132",
          "textangle": 90,
          "x": 0.98,
          "xanchor": "left",
          "xref": "paper",
          "y": 0.9800925925925926,
          "yanchor": "middle",
          "yref": "paper"
         },
         {
          "font": {
           "size": 16
          },
          "showarrow": false,
          "text": "146",
          "textangle": 90,
          "x": 0.98,
          "xanchor": "left",
          "xref": "paper",
          "y": 0.9236111111111112,
          "yanchor": "middle",
          "yref": "paper"
         },
         {
          "font": {
           "size": 16
          },
          "showarrow": false,
          "text": "177",
          "textangle": 90,
          "x": 0.98,
          "xanchor": "left",
          "xref": "paper",
          "y": 0.8671296296296296,
          "yanchor": "middle",
          "yref": "paper"
         },
         {
          "font": {
           "size": 16
          },
          "showarrow": false,
          "text": "180",
          "textangle": 90,
          "x": 0.98,
          "xanchor": "left",
          "xref": "paper",
          "y": 0.8106481481481482,
          "yanchor": "middle",
          "yref": "paper"
         },
         {
          "font": {
           "size": 16
          },
          "showarrow": false,
          "text": "202",
          "textangle": 90,
          "x": 0.98,
          "xanchor": "left",
          "xref": "paper",
          "y": 0.7541666666666667,
          "yanchor": "middle",
          "yref": "paper"
         },
         {
          "font": {
           "size": 16
          },
          "showarrow": false,
          "text": "117",
          "textangle": 90,
          "x": 0.98,
          "xanchor": "left",
          "xref": "paper",
          "y": 0.6976851851851851,
          "yanchor": "middle",
          "yref": "paper"
         },
         {
          "font": {
           "size": 16
          },
          "showarrow": false,
          "text": "131",
          "textangle": 90,
          "x": 0.98,
          "xanchor": "left",
          "xref": "paper",
          "y": 0.6412037037037037,
          "yanchor": "middle",
          "yref": "paper"
         },
         {
          "font": {
           "size": 16
          },
          "showarrow": false,
          "text": "134",
          "textangle": 90,
          "x": 0.98,
          "xanchor": "left",
          "xref": "paper",
          "y": 0.5847222222222221,
          "yanchor": "middle",
          "yref": "paper"
         },
         {
          "font": {
           "size": 16
          },
          "showarrow": false,
          "text": "191",
          "textangle": 90,
          "x": 0.98,
          "xanchor": "left",
          "xref": "paper",
          "y": 0.5282407407407408,
          "yanchor": "middle",
          "yref": "paper"
         },
         {
          "font": {
           "size": 16
          },
          "showarrow": false,
          "text": "139",
          "textangle": 90,
          "x": 0.98,
          "xanchor": "left",
          "xref": "paper",
          "y": 0.4717592592592592,
          "yanchor": "middle",
          "yref": "paper"
         },
         {
          "font": {
           "size": 16
          },
          "showarrow": false,
          "text": "253",
          "textangle": 90,
          "x": 0.98,
          "xanchor": "left",
          "xref": "paper",
          "y": 0.41527777777777775,
          "yanchor": "middle",
          "yref": "paper"
         },
         {
          "font": {
           "size": 16
          },
          "showarrow": false,
          "text": "101",
          "textangle": 90,
          "x": 0.98,
          "xanchor": "left",
          "xref": "paper",
          "y": 0.3587962962962963,
          "yanchor": "middle",
          "yref": "paper"
         },
         {
          "font": {
           "size": 16
          },
          "showarrow": false,
          "text": "405",
          "textangle": 90,
          "x": 0.98,
          "xanchor": "left",
          "xref": "paper",
          "y": 0.3023148148148148,
          "yanchor": "middle",
          "yref": "paper"
         },
         {
          "font": {
           "size": 16
          },
          "showarrow": false,
          "text": "272",
          "textangle": 90,
          "x": 0.98,
          "xanchor": "left",
          "xref": "paper",
          "y": 0.24583333333333332,
          "yanchor": "middle",
          "yref": "paper"
         },
         {
          "font": {
           "size": 16
          },
          "showarrow": false,
          "text": "201",
          "textangle": 90,
          "x": 0.98,
          "xanchor": "left",
          "xref": "paper",
          "y": 0.18935185185185185,
          "yanchor": "middle",
          "yref": "paper"
         },
         {
          "font": {
           "size": 16
          },
          "showarrow": false,
          "text": "203",
          "textangle": 90,
          "x": 0.98,
          "xanchor": "left",
          "xref": "paper",
          "y": 0.13287037037037036,
          "yanchor": "middle",
          "yref": "paper"
         },
         {
          "font": {
           "size": 16
          },
          "showarrow": false,
          "text": "527",
          "textangle": 90,
          "x": 0.98,
          "xanchor": "left",
          "xref": "paper",
          "y": 0.0763888888888889,
          "yanchor": "middle",
          "yref": "paper"
         },
         {
          "font": {
           "size": 16
          },
          "showarrow": false,
          "text": "104",
          "textangle": 90,
          "x": 0.98,
          "xanchor": "left",
          "xref": "paper",
          "y": 0.01990740740740741,
          "yanchor": "middle",
          "yref": "paper"
         },
         {
          "font": {
           "size": 16
          },
          "showarrow": false,
          "text": "Time (days)",
          "x": 0.49,
          "xanchor": "center",
          "xref": "paper",
          "y": 0,
          "yanchor": "top",
          "yref": "paper",
          "yshift": -30
         }
        ],
        "height": 1600,
        "showlegend": false,
        "template": {
         "data": {
          "bar": [
           {
            "error_x": {
             "color": "#2a3f5f"
            },
            "error_y": {
             "color": "#2a3f5f"
            },
            "marker": {
             "line": {
              "color": "#E5ECF6",
              "width": 0.5
             },
             "pattern": {
              "fillmode": "overlay",
              "size": 10,
              "solidity": 0.2
             }
            },
            "type": "bar"
           }
          ],
          "barpolar": [
           {
            "marker": {
             "line": {
              "color": "#E5ECF6",
              "width": 0.5
             },
             "pattern": {
              "fillmode": "overlay",
              "size": 10,
              "solidity": 0.2
             }
            },
            "type": "barpolar"
           }
          ],
          "carpet": [
           {
            "aaxis": {
             "endlinecolor": "#2a3f5f",
             "gridcolor": "white",
             "linecolor": "white",
             "minorgridcolor": "white",
             "startlinecolor": "#2a3f5f"
            },
            "baxis": {
             "endlinecolor": "#2a3f5f",
             "gridcolor": "white",
             "linecolor": "white",
             "minorgridcolor": "white",
             "startlinecolor": "#2a3f5f"
            },
            "type": "carpet"
           }
          ],
          "choropleth": [
           {
            "colorbar": {
             "outlinewidth": 0,
             "ticks": ""
            },
            "type": "choropleth"
           }
          ],
          "contour": [
           {
            "colorbar": {
             "outlinewidth": 0,
             "ticks": ""
            },
            "colorscale": [
             [
              0,
              "#0d0887"
             ],
             [
              0.1111111111111111,
              "#46039f"
             ],
             [
              0.2222222222222222,
              "#7201a8"
             ],
             [
              0.3333333333333333,
              "#9c179e"
             ],
             [
              0.4444444444444444,
              "#bd3786"
             ],
             [
              0.5555555555555556,
              "#d8576b"
             ],
             [
              0.6666666666666666,
              "#ed7953"
             ],
             [
              0.7777777777777778,
              "#fb9f3a"
             ],
             [
              0.8888888888888888,
              "#fdca26"
             ],
             [
              1,
              "#f0f921"
             ]
            ],
            "type": "contour"
           }
          ],
          "contourcarpet": [
           {
            "colorbar": {
             "outlinewidth": 0,
             "ticks": ""
            },
            "type": "contourcarpet"
           }
          ],
          "heatmap": [
           {
            "colorbar": {
             "outlinewidth": 0,
             "ticks": ""
            },
            "colorscale": [
             [
              0,
              "#0d0887"
             ],
             [
              0.1111111111111111,
              "#46039f"
             ],
             [
              0.2222222222222222,
              "#7201a8"
             ],
             [
              0.3333333333333333,
              "#9c179e"
             ],
             [
              0.4444444444444444,
              "#bd3786"
             ],
             [
              0.5555555555555556,
              "#d8576b"
             ],
             [
              0.6666666666666666,
              "#ed7953"
             ],
             [
              0.7777777777777778,
              "#fb9f3a"
             ],
             [
              0.8888888888888888,
              "#fdca26"
             ],
             [
              1,
              "#f0f921"
             ]
            ],
            "type": "heatmap"
           }
          ],
          "heatmapgl": [
           {
            "colorbar": {
             "outlinewidth": 0,
             "ticks": ""
            },
            "colorscale": [
             [
              0,
              "#0d0887"
             ],
             [
              0.1111111111111111,
              "#46039f"
             ],
             [
              0.2222222222222222,
              "#7201a8"
             ],
             [
              0.3333333333333333,
              "#9c179e"
             ],
             [
              0.4444444444444444,
              "#bd3786"
             ],
             [
              0.5555555555555556,
              "#d8576b"
             ],
             [
              0.6666666666666666,
              "#ed7953"
             ],
             [
              0.7777777777777778,
              "#fb9f3a"
             ],
             [
              0.8888888888888888,
              "#fdca26"
             ],
             [
              1,
              "#f0f921"
             ]
            ],
            "type": "heatmapgl"
           }
          ],
          "histogram": [
           {
            "marker": {
             "pattern": {
              "fillmode": "overlay",
              "size": 10,
              "solidity": 0.2
             }
            },
            "type": "histogram"
           }
          ],
          "histogram2d": [
           {
            "colorbar": {
             "outlinewidth": 0,
             "ticks": ""
            },
            "colorscale": [
             [
              0,
              "#0d0887"
             ],
             [
              0.1111111111111111,
              "#46039f"
             ],
             [
              0.2222222222222222,
              "#7201a8"
             ],
             [
              0.3333333333333333,
              "#9c179e"
             ],
             [
              0.4444444444444444,
              "#bd3786"
             ],
             [
              0.5555555555555556,
              "#d8576b"
             ],
             [
              0.6666666666666666,
              "#ed7953"
             ],
             [
              0.7777777777777778,
              "#fb9f3a"
             ],
             [
              0.8888888888888888,
              "#fdca26"
             ],
             [
              1,
              "#f0f921"
             ]
            ],
            "type": "histogram2d"
           }
          ],
          "histogram2dcontour": [
           {
            "colorbar": {
             "outlinewidth": 0,
             "ticks": ""
            },
            "colorscale": [
             [
              0,
              "#0d0887"
             ],
             [
              0.1111111111111111,
              "#46039f"
             ],
             [
              0.2222222222222222,
              "#7201a8"
             ],
             [
              0.3333333333333333,
              "#9c179e"
             ],
             [
              0.4444444444444444,
              "#bd3786"
             ],
             [
              0.5555555555555556,
              "#d8576b"
             ],
             [
              0.6666666666666666,
              "#ed7953"
             ],
             [
              0.7777777777777778,
              "#fb9f3a"
             ],
             [
              0.8888888888888888,
              "#fdca26"
             ],
             [
              1,
              "#f0f921"
             ]
            ],
            "type": "histogram2dcontour"
           }
          ],
          "mesh3d": [
           {
            "colorbar": {
             "outlinewidth": 0,
             "ticks": ""
            },
            "type": "mesh3d"
           }
          ],
          "parcoords": [
           {
            "line": {
             "colorbar": {
              "outlinewidth": 0,
              "ticks": ""
             }
            },
            "type": "parcoords"
           }
          ],
          "pie": [
           {
            "automargin": true,
            "type": "pie"
           }
          ],
          "scatter": [
           {
            "fillpattern": {
             "fillmode": "overlay",
             "size": 10,
             "solidity": 0.2
            },
            "type": "scatter"
           }
          ],
          "scatter3d": [
           {
            "line": {
             "colorbar": {
              "outlinewidth": 0,
              "ticks": ""
             }
            },
            "marker": {
             "colorbar": {
              "outlinewidth": 0,
              "ticks": ""
             }
            },
            "type": "scatter3d"
           }
          ],
          "scattercarpet": [
           {
            "marker": {
             "colorbar": {
              "outlinewidth": 0,
              "ticks": ""
             }
            },
            "type": "scattercarpet"
           }
          ],
          "scattergeo": [
           {
            "marker": {
             "colorbar": {
              "outlinewidth": 0,
              "ticks": ""
             }
            },
            "type": "scattergeo"
           }
          ],
          "scattergl": [
           {
            "marker": {
             "colorbar": {
              "outlinewidth": 0,
              "ticks": ""
             }
            },
            "type": "scattergl"
           }
          ],
          "scattermapbox": [
           {
            "marker": {
             "colorbar": {
              "outlinewidth": 0,
              "ticks": ""
             }
            },
            "type": "scattermapbox"
           }
          ],
          "scatterpolar": [
           {
            "marker": {
             "colorbar": {
              "outlinewidth": 0,
              "ticks": ""
             }
            },
            "type": "scatterpolar"
           }
          ],
          "scatterpolargl": [
           {
            "marker": {
             "colorbar": {
              "outlinewidth": 0,
              "ticks": ""
             }
            },
            "type": "scatterpolargl"
           }
          ],
          "scatterternary": [
           {
            "marker": {
             "colorbar": {
              "outlinewidth": 0,
              "ticks": ""
             }
            },
            "type": "scatterternary"
           }
          ],
          "surface": [
           {
            "colorbar": {
             "outlinewidth": 0,
             "ticks": ""
            },
            "colorscale": [
             [
              0,
              "#0d0887"
             ],
             [
              0.1111111111111111,
              "#46039f"
             ],
             [
              0.2222222222222222,
              "#7201a8"
             ],
             [
              0.3333333333333333,
              "#9c179e"
             ],
             [
              0.4444444444444444,
              "#bd3786"
             ],
             [
              0.5555555555555556,
              "#d8576b"
             ],
             [
              0.6666666666666666,
              "#ed7953"
             ],
             [
              0.7777777777777778,
              "#fb9f3a"
             ],
             [
              0.8888888888888888,
              "#fdca26"
             ],
             [
              1,
              "#f0f921"
             ]
            ],
            "type": "surface"
           }
          ],
          "table": [
           {
            "cells": {
             "fill": {
              "color": "#EBF0F8"
             },
             "line": {
              "color": "white"
             }
            },
            "header": {
             "fill": {
              "color": "#C8D4E3"
             },
             "line": {
              "color": "white"
             }
            },
            "type": "table"
           }
          ]
         },
         "layout": {
          "annotationdefaults": {
           "arrowcolor": "#2a3f5f",
           "arrowhead": 0,
           "arrowwidth": 1
          },
          "autotypenumbers": "strict",
          "coloraxis": {
           "colorbar": {
            "outlinewidth": 0,
            "ticks": ""
           }
          },
          "colorscale": {
           "diverging": [
            [
             0,
             "#8e0152"
            ],
            [
             0.1,
             "#c51b7d"
            ],
            [
             0.2,
             "#de77ae"
            ],
            [
             0.3,
             "#f1b6da"
            ],
            [
             0.4,
             "#fde0ef"
            ],
            [
             0.5,
             "#f7f7f7"
            ],
            [
             0.6,
             "#e6f5d0"
            ],
            [
             0.7,
             "#b8e186"
            ],
            [
             0.8,
             "#7fbc41"
            ],
            [
             0.9,
             "#4d9221"
            ],
            [
             1,
             "#276419"
            ]
           ],
           "sequential": [
            [
             0,
             "#0d0887"
            ],
            [
             0.1111111111111111,
             "#46039f"
            ],
            [
             0.2222222222222222,
             "#7201a8"
            ],
            [
             0.3333333333333333,
             "#9c179e"
            ],
            [
             0.4444444444444444,
             "#bd3786"
            ],
            [
             0.5555555555555556,
             "#d8576b"
            ],
            [
             0.6666666666666666,
             "#ed7953"
            ],
            [
             0.7777777777777778,
             "#fb9f3a"
            ],
            [
             0.8888888888888888,
             "#fdca26"
            ],
            [
             1,
             "#f0f921"
            ]
           ],
           "sequentialminus": [
            [
             0,
             "#0d0887"
            ],
            [
             0.1111111111111111,
             "#46039f"
            ],
            [
             0.2222222222222222,
             "#7201a8"
            ],
            [
             0.3333333333333333,
             "#9c179e"
            ],
            [
             0.4444444444444444,
             "#bd3786"
            ],
            [
             0.5555555555555556,
             "#d8576b"
            ],
            [
             0.6666666666666666,
             "#ed7953"
            ],
            [
             0.7777777777777778,
             "#fb9f3a"
            ],
            [
             0.8888888888888888,
             "#fdca26"
            ],
            [
             1,
             "#f0f921"
            ]
           ]
          },
          "colorway": [
           "#636efa",
           "#EF553B",
           "#00cc96",
           "#ab63fa",
           "#FFA15A",
           "#19d3f3",
           "#FF6692",
           "#B6E880",
           "#FF97FF",
           "#FECB52"
          ],
          "font": {
           "color": "#2a3f5f"
          },
          "geo": {
           "bgcolor": "white",
           "lakecolor": "white",
           "landcolor": "#E5ECF6",
           "showlakes": true,
           "showland": true,
           "subunitcolor": "white"
          },
          "hoverlabel": {
           "align": "left"
          },
          "hovermode": "closest",
          "mapbox": {
           "style": "light"
          },
          "paper_bgcolor": "white",
          "plot_bgcolor": "#E5ECF6",
          "polar": {
           "angularaxis": {
            "gridcolor": "white",
            "linecolor": "white",
            "ticks": ""
           },
           "bgcolor": "#E5ECF6",
           "radialaxis": {
            "gridcolor": "white",
            "linecolor": "white",
            "ticks": ""
           }
          },
          "scene": {
           "xaxis": {
            "backgroundcolor": "#E5ECF6",
            "gridcolor": "white",
            "gridwidth": 2,
            "linecolor": "white",
            "showbackground": true,
            "ticks": "",
            "zerolinecolor": "white"
           },
           "yaxis": {
            "backgroundcolor": "#E5ECF6",
            "gridcolor": "white",
            "gridwidth": 2,
            "linecolor": "white",
            "showbackground": true,
            "ticks": "",
            "zerolinecolor": "white"
           },
           "zaxis": {
            "backgroundcolor": "#E5ECF6",
            "gridcolor": "white",
            "gridwidth": 2,
            "linecolor": "white",
            "showbackground": true,
            "ticks": "",
            "zerolinecolor": "white"
           }
          },
          "shapedefaults": {
           "line": {
            "color": "#2a3f5f"
           }
          },
          "ternary": {
           "aaxis": {
            "gridcolor": "white",
            "linecolor": "white",
            "ticks": ""
           },
           "baxis": {
            "gridcolor": "white",
            "linecolor": "white",
            "ticks": ""
           },
           "bgcolor": "#E5ECF6",
           "caxis": {
            "gridcolor": "white",
            "linecolor": "white",
            "ticks": ""
           }
          },
          "title": {
           "x": 0.05
          },
          "xaxis": {
           "automargin": true,
           "gridcolor": "white",
           "linecolor": "white",
           "ticks": "",
           "title": {
            "standoff": 15
           },
           "zerolinecolor": "white",
           "zerolinewidth": 2
          },
          "yaxis": {
           "automargin": true,
           "gridcolor": "white",
           "linecolor": "white",
           "ticks": "",
           "title": {
            "standoff": 15
           },
           "zerolinecolor": "white",
           "zerolinewidth": 2
          }
         }
        },
        "title": {
         "text": "ecFEV1 Over Time"
        },
        "width": 800,
        "xaxis": {
         "anchor": "y",
         "domain": [
          0,
          0.44
         ],
         "matches": "x35",
         "showticklabels": false
        },
        "xaxis10": {
         "anchor": "y10",
         "domain": [
          0.54,
          0.98
         ],
         "matches": "x36",
         "showticklabels": false
        },
        "xaxis11": {
         "anchor": "y11",
         "domain": [
          0,
          0.44
         ],
         "matches": "x35",
         "showticklabels": false
        },
        "xaxis12": {
         "anchor": "y12",
         "domain": [
          0.54,
          0.98
         ],
         "matches": "x36",
         "showticklabels": false
        },
        "xaxis13": {
         "anchor": "y13",
         "domain": [
          0,
          0.44
         ],
         "matches": "x35",
         "showticklabels": false
        },
        "xaxis14": {
         "anchor": "y14",
         "domain": [
          0.54,
          0.98
         ],
         "matches": "x36",
         "showticklabels": false
        },
        "xaxis15": {
         "anchor": "y15",
         "domain": [
          0,
          0.44
         ],
         "matches": "x35",
         "showticklabels": false
        },
        "xaxis16": {
         "anchor": "y16",
         "domain": [
          0.54,
          0.98
         ],
         "matches": "x36",
         "showticklabels": false
        },
        "xaxis17": {
         "anchor": "y17",
         "domain": [
          0,
          0.44
         ],
         "matches": "x35",
         "showticklabels": false
        },
        "xaxis18": {
         "anchor": "y18",
         "domain": [
          0.54,
          0.98
         ],
         "matches": "x36",
         "showticklabels": false
        },
        "xaxis19": {
         "anchor": "y19",
         "domain": [
          0,
          0.44
         ],
         "matches": "x35",
         "showticklabels": false
        },
        "xaxis2": {
         "anchor": "y2",
         "domain": [
          0.54,
          0.98
         ],
         "matches": "x36",
         "showticklabels": false
        },
        "xaxis20": {
         "anchor": "y20",
         "domain": [
          0.54,
          0.98
         ],
         "matches": "x36",
         "showticklabels": false
        },
        "xaxis21": {
         "anchor": "y21",
         "domain": [
          0,
          0.44
         ],
         "matches": "x35",
         "showticklabels": false
        },
        "xaxis22": {
         "anchor": "y22",
         "domain": [
          0.54,
          0.98
         ],
         "matches": "x36",
         "showticklabels": false
        },
        "xaxis23": {
         "anchor": "y23",
         "domain": [
          0,
          0.44
         ],
         "matches": "x35",
         "showticklabels": false
        },
        "xaxis24": {
         "anchor": "y24",
         "domain": [
          0.54,
          0.98
         ],
         "matches": "x36",
         "showticklabels": false
        },
        "xaxis25": {
         "anchor": "y25",
         "domain": [
          0,
          0.44
         ],
         "matches": "x35",
         "showticklabels": false
        },
        "xaxis26": {
         "anchor": "y26",
         "domain": [
          0.54,
          0.98
         ],
         "matches": "x36",
         "showticklabels": false
        },
        "xaxis27": {
         "anchor": "y27",
         "domain": [
          0,
          0.44
         ],
         "matches": "x35",
         "showticklabels": false
        },
        "xaxis28": {
         "anchor": "y28",
         "domain": [
          0.54,
          0.98
         ],
         "matches": "x36",
         "showticklabels": false
        },
        "xaxis29": {
         "anchor": "y29",
         "domain": [
          0,
          0.44
         ],
         "matches": "x35",
         "showticklabels": false
        },
        "xaxis3": {
         "anchor": "y3",
         "domain": [
          0,
          0.44
         ],
         "matches": "x35",
         "showticklabels": false
        },
        "xaxis30": {
         "anchor": "y30",
         "domain": [
          0.54,
          0.98
         ],
         "matches": "x36",
         "showticklabels": false
        },
        "xaxis31": {
         "anchor": "y31",
         "domain": [
          0,
          0.44
         ],
         "matches": "x35",
         "showticklabels": false
        },
        "xaxis32": {
         "anchor": "y32",
         "domain": [
          0.54,
          0.98
         ],
         "matches": "x36",
         "showticklabels": false
        },
        "xaxis33": {
         "anchor": "y33",
         "domain": [
          0,
          0.44
         ],
         "matches": "x35",
         "showticklabels": false
        },
        "xaxis34": {
         "anchor": "y34",
         "domain": [
          0.54,
          0.98
         ],
         "matches": "x36",
         "showticklabels": false
        },
        "xaxis35": {
         "anchor": "y35",
         "domain": [
          0,
          0.44
         ]
        },
        "xaxis36": {
         "anchor": "y36",
         "domain": [
          0.54,
          0.98
         ]
        },
        "xaxis4": {
         "anchor": "y4",
         "domain": [
          0.54,
          0.98
         ],
         "matches": "x36",
         "showticklabels": false
        },
        "xaxis5": {
         "anchor": "y5",
         "domain": [
          0,
          0.44
         ],
         "matches": "x35",
         "showticklabels": false
        },
        "xaxis6": {
         "anchor": "y6",
         "domain": [
          0.54,
          0.98
         ],
         "matches": "x36",
         "showticklabels": false
        },
        "xaxis7": {
         "anchor": "y7",
         "domain": [
          0,
          0.44
         ],
         "matches": "x35",
         "showticklabels": false
        },
        "xaxis8": {
         "anchor": "y8",
         "domain": [
          0.54,
          0.98
         ],
         "matches": "x36",
         "showticklabels": false
        },
        "xaxis9": {
         "anchor": "y9",
         "domain": [
          0,
          0.44
         ],
         "matches": "x35",
         "showticklabels": false
        },
        "yaxis": {
         "anchor": "x",
         "domain": [
          0.9601851851851853,
          1
         ],
         "range": [
          0.5,
          3.5
         ]
        },
        "yaxis10": {
         "anchor": "x10",
         "domain": [
          0.7342592592592592,
          0.774074074074074
         ],
         "range": [
          20,
          150
         ]
        },
        "yaxis11": {
         "anchor": "x11",
         "domain": [
          0.6777777777777777,
          0.7175925925925926
         ],
         "range": [
          0.5,
          3.5
         ]
        },
        "yaxis12": {
         "anchor": "x12",
         "domain": [
          0.6777777777777777,
          0.7175925925925926
         ],
         "range": [
          20,
          150
         ]
        },
        "yaxis13": {
         "anchor": "x13",
         "domain": [
          0.6212962962962962,
          0.6611111111111111
         ],
         "range": [
          0.5,
          3.5
         ]
        },
        "yaxis14": {
         "anchor": "x14",
         "domain": [
          0.6212962962962962,
          0.6611111111111111
         ],
         "range": [
          20,
          150
         ]
        },
        "yaxis15": {
         "anchor": "x15",
         "domain": [
          0.5648148148148148,
          0.6046296296296296
         ],
         "range": [
          0.5,
          3.5
         ]
        },
        "yaxis16": {
         "anchor": "x16",
         "domain": [
          0.5648148148148148,
          0.6046296296296296
         ],
         "range": [
          20,
          150
         ]
        },
        "yaxis17": {
         "anchor": "x17",
         "domain": [
          0.5083333333333333,
          0.5481481481481482
         ],
         "range": [
          0.5,
          3.5
         ]
        },
        "yaxis18": {
         "anchor": "x18",
         "domain": [
          0.5083333333333333,
          0.5481481481481482
         ],
         "range": [
          20,
          150
         ]
        },
        "yaxis19": {
         "anchor": "x19",
         "domain": [
          0.45185185185185184,
          0.49166666666666664
         ],
         "range": [
          0.5,
          3.5
         ]
        },
        "yaxis2": {
         "anchor": "x2",
         "domain": [
          0.9601851851851853,
          1
         ],
         "range": [
          20,
          150
         ]
        },
        "yaxis20": {
         "anchor": "x20",
         "domain": [
          0.45185185185185184,
          0.49166666666666664
         ],
         "range": [
          20,
          150
         ]
        },
        "yaxis21": {
         "anchor": "x21",
         "domain": [
          0.39537037037037037,
          0.4351851851851852
         ],
         "range": [
          0.5,
          3.5
         ]
        },
        "yaxis22": {
         "anchor": "x22",
         "domain": [
          0.39537037037037037,
          0.4351851851851852
         ],
         "range": [
          20,
          150
         ]
        },
        "yaxis23": {
         "anchor": "x23",
         "domain": [
          0.3388888888888889,
          0.3787037037037037
         ],
         "range": [
          0.5,
          3.5
         ]
        },
        "yaxis24": {
         "anchor": "x24",
         "domain": [
          0.3388888888888889,
          0.3787037037037037
         ],
         "range": [
          20,
          150
         ]
        },
        "yaxis25": {
         "anchor": "x25",
         "domain": [
          0.2824074074074074,
          0.3222222222222222
         ],
         "range": [
          0.5,
          3.5
         ]
        },
        "yaxis26": {
         "anchor": "x26",
         "domain": [
          0.2824074074074074,
          0.3222222222222222
         ],
         "range": [
          20,
          150
         ]
        },
        "yaxis27": {
         "anchor": "x27",
         "domain": [
          0.22592592592592592,
          0.2657407407407407
         ],
         "range": [
          0.5,
          3.5
         ]
        },
        "yaxis28": {
         "anchor": "x28",
         "domain": [
          0.22592592592592592,
          0.2657407407407407
         ],
         "range": [
          20,
          150
         ]
        },
        "yaxis29": {
         "anchor": "x29",
         "domain": [
          0.16944444444444445,
          0.20925925925925926
         ],
         "range": [
          0.5,
          3.5
         ]
        },
        "yaxis3": {
         "anchor": "x3",
         "domain": [
          0.9037037037037037,
          0.9435185185185185
         ],
         "range": [
          0.5,
          3.5
         ]
        },
        "yaxis30": {
         "anchor": "x30",
         "domain": [
          0.16944444444444445,
          0.20925925925925926
         ],
         "range": [
          20,
          150
         ]
        },
        "yaxis31": {
         "anchor": "x31",
         "domain": [
          0.11296296296296296,
          0.1527777777777778
         ],
         "range": [
          0.5,
          3.5
         ]
        },
        "yaxis32": {
         "anchor": "x32",
         "domain": [
          0.11296296296296296,
          0.1527777777777778
         ],
         "range": [
          20,
          150
         ]
        },
        "yaxis33": {
         "anchor": "x33",
         "domain": [
          0.05648148148148148,
          0.0962962962962963
         ],
         "range": [
          0.5,
          3.5
         ]
        },
        "yaxis34": {
         "anchor": "x34",
         "domain": [
          0.05648148148148148,
          0.0962962962962963
         ],
         "range": [
          20,
          150
         ]
        },
        "yaxis35": {
         "anchor": "x35",
         "domain": [
          0,
          0.03981481481481482
         ],
         "range": [
          0.5,
          3.5
         ]
        },
        "yaxis36": {
         "anchor": "x36",
         "domain": [
          0,
          0.03981481481481482
         ],
         "range": [
          20,
          150
         ]
        },
        "yaxis4": {
         "anchor": "x4",
         "domain": [
          0.9037037037037037,
          0.9435185185185185
         ],
         "range": [
          20,
          150
         ]
        },
        "yaxis5": {
         "anchor": "x5",
         "domain": [
          0.8472222222222222,
          0.8870370370370371
         ],
         "range": [
          0.5,
          3.5
         ]
        },
        "yaxis6": {
         "anchor": "x6",
         "domain": [
          0.8472222222222222,
          0.8870370370370371
         ],
         "range": [
          20,
          150
         ]
        },
        "yaxis7": {
         "anchor": "x7",
         "domain": [
          0.7907407407407407,
          0.8305555555555556
         ],
         "range": [
          0.5,
          3.5
         ]
        },
        "yaxis8": {
         "anchor": "x8",
         "domain": [
          0.7907407407407407,
          0.8305555555555556
         ],
         "range": [
          20,
          150
         ]
        },
        "yaxis9": {
         "anchor": "x9",
         "domain": [
          0.7342592592592592,
          0.774074074074074
         ],
         "range": [
          0.5,
          3.5
         ]
        }
       }
      }
     },
     "metadata": {},
     "output_type": "display_data"
    }
   ],
   "source": [
    "ids = [\n",
    "        \"132\",\n",
    "        \"146\",\n",
    "        \"177\",\n",
    "        \"180\",\n",
    "        \"202\",\n",
    "        \"117\",\n",
    "        \"131\",\n",
    "        \"134\",\n",
    "        \"191\",\n",
    "        \"139\",\n",
    "        \"253\",\n",
    "        \"101\",\n",
    "        # Also from consec values\n",
    "        \"405\",\n",
    "        \"272\",\n",
    "        \"201\",\n",
    "        \"203\",\n",
    "        \"527\",\n",
    "        # For step change\n",
    "        \"104\",\n",
    "    ]\n",
    "\n",
    "fig = make_subplots(\n",
    "    rows=len(ids),\n",
    "    cols=2,\n",
    "    column_titles=[\"ecFEV1\", \"ecFEF2575%ecFEV1\"],\n",
    "    row_titles=ids,\n",
    "    shared_xaxes=True,\n",
    "    x_title=\"Time (days)\",\n",
    ")\n",
    "\n",
    "for i, id in enumerate(ids):\n",
    "    add_trace_for_df(df[df.ID == id].head(30), fig, i+1)\n",
    "    fig.update_yaxes(range=[0.5, 3.5], row=i+1, col=1)\n",
    "    fig.update_yaxes(range=[20, 150], row=i+1, col=2)\n",
    "fig.update_traces(marker=dict(size=4))\n",
    "\n",
    "fig.update_layout(title=\"ecFEV1 Over Time\", width=800, height=1600, showlegend=False)\n",
    "\n",
    "fig.show()\n"
   ]
  },
  {
   "cell_type": "code",
   "execution_count": null,
   "metadata": {},
   "outputs": [],
   "source": []
  }
 ],
 "metadata": {
  "kernelspec": {
   "display_name": "phd",
   "language": "python",
   "name": "python3"
  },
  "language_info": {
   "codemirror_mode": {
    "name": "ipython",
    "version": 3
   },
   "file_extension": ".py",
   "mimetype": "text/x-python",
   "name": "python",
   "nbconvert_exporter": "python",
   "pygments_lexer": "ipython3",
   "version": "3.10.13"
  }
 },
 "nbformat": 4,
 "nbformat_minor": 2
}
