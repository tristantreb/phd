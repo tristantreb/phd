{
 "cells": [
  {
   "cell_type": "markdown",
   "metadata": {},
   "source": [
    "Validation of the cutset conditioning algorithm: using the light model, compare my won implementation for 3 days against the variable elimination algorithm from the library. Both are exact inference algorithms, they should give the exact same results.\n",
    "\n",
    "My won implementation: model with FEV1 noise, and temporal airway resistance"
   ]
  },
  {
   "cell_type": "code",
   "execution_count": 1,
   "metadata": {},
   "outputs": [],
   "source": [
    "import numpy as np\n",
    "import pandas as pd\n",
    "from plotly.subplots import make_subplots\n",
    "\n",
    "import src.data.breathe_data as bd\n",
    "import src.data.helpers as dh\n",
    "import src.inference.helpers as ih\n",
    "import src.modelling_ar.ar as ar\n",
    "import src.inf_cutset_conditioning.helpers as cutseth\n",
    "import src.inf_cutset_conditioning.cutset_cond_algs as cca\n",
    "import src.inf_cutset_conditioning.cutset_cond_algs_learn_ar_change as cca_ar_change\n",
    "\n",
    "import src.models.builders as mb\n",
    "import src.models.var_builders as var_builders\n",
    "from pgmpy.inference.ExactInference import VariableElimination\n",
    "from pgmpy.factors.discrete import TabularCPD\n",
    "\n",
    "import networkx as nx"
   ]
  },
  {
   "cell_type": "code",
   "execution_count": 2,
   "metadata": {},
   "outputs": [
    {
     "data": {
      "text/html": [
       "<div>\n",
       "<style scoped>\n",
       "    .dataframe tbody tr th:only-of-type {\n",
       "        vertical-align: middle;\n",
       "    }\n",
       "\n",
       "    .dataframe tbody tr th {\n",
       "        vertical-align: top;\n",
       "    }\n",
       "\n",
       "    .dataframe thead th {\n",
       "        text-align: right;\n",
       "    }\n",
       "</style>\n",
       "<table border=\"1\" class=\"dataframe\">\n",
       "  <thead>\n",
       "    <tr style=\"text-align: right;\">\n",
       "      <th></th>\n",
       "      <th>ID</th>\n",
       "      <th>Date Recorded</th>\n",
       "      <th>Height</th>\n",
       "      <th>Age</th>\n",
       "      <th>Sex</th>\n",
       "      <th>ecFEV1</th>\n",
       "      <th>ecFEF2575%ecFEV1</th>\n",
       "      <th>idx ecFEV1 (L)</th>\n",
       "      <th>idx ecFEF2575%ecFEV1</th>\n",
       "      <th>idx ecFEF25-75 % ecFEV1 (%)</th>\n",
       "    </tr>\n",
       "  </thead>\n",
       "  <tbody>\n",
       "    <tr>\n",
       "      <th>0</th>\n",
       "      <td>1</td>\n",
       "      <td>2020-01-02</td>\n",
       "      <td>180</td>\n",
       "      <td>35</td>\n",
       "      <td>Male</td>\n",
       "      <td>1.8</td>\n",
       "      <td>12</td>\n",
       "      <td>1</td>\n",
       "      <td>0</td>\n",
       "      <td>0</td>\n",
       "    </tr>\n",
       "    <tr>\n",
       "      <th>1</th>\n",
       "      <td>1</td>\n",
       "      <td>2020-01-03</td>\n",
       "      <td>180</td>\n",
       "      <td>35</td>\n",
       "      <td>Male</td>\n",
       "      <td>2.2</td>\n",
       "      <td>120</td>\n",
       "      <td>2</td>\n",
       "      <td>6</td>\n",
       "      <td>6</td>\n",
       "    </tr>\n",
       "    <tr>\n",
       "      <th>2</th>\n",
       "      <td>1</td>\n",
       "      <td>2020-01-04</td>\n",
       "      <td>180</td>\n",
       "      <td>35</td>\n",
       "      <td>Male</td>\n",
       "      <td>2.2</td>\n",
       "      <td>150</td>\n",
       "      <td>2</td>\n",
       "      <td>7</td>\n",
       "      <td>7</td>\n",
       "    </tr>\n",
       "  </tbody>\n",
       "</table>\n",
       "</div>"
      ],
      "text/plain": [
       "  ID Date Recorded  Height  Age   Sex  ecFEV1  ecFEF2575%ecFEV1  \\\n",
       "0  1    2020-01-02     180   35  Male     1.8                12   \n",
       "1  1    2020-01-03     180   35  Male     2.2               120   \n",
       "2  1    2020-01-04     180   35  Male     2.2               150   \n",
       "\n",
       "   idx ecFEV1 (L)  idx ecFEF2575%ecFEV1  idx ecFEF25-75 % ecFEV1 (%)  \n",
       "0               1                     0                            0  \n",
       "1               2                     6                            6  \n",
       "2               2                     7                            7  "
      ]
     },
     "execution_count": 2,
     "metadata": {},
     "output_type": "execute_result"
    }
   ],
   "source": [
    "# Made up data\n",
    "df_mock = pd.DataFrame(\n",
    "    {\n",
    "        \"ID\": [\"1\", \"1\", \"1\"],\n",
    "        \"Date Recorded\": [1, 2, 3],\n",
    "        \"Height\": 180,\n",
    "        \"Age\": 35,\n",
    "        \"Sex\": \"Male\",\n",
    "        \"ecFEV1\": [1.8, 2.2, 2.2],\n",
    "        \"ecFEF2575%ecFEV1\": [12, 120, 150],\n",
    "        \"idx ecFEV1 (L)\": [1, 2, 2],\n",
    "        \"idx ecFEF2575%ecFEV1\": [0, 6, 7],\n",
    "        \"idx ecFEF25-75 % ecFEV1 (%)\": [0, 6, 7],\n",
    "    }\n",
    ")\n",
    "\n",
    "# df_mock = pd.DataFrame(\n",
    "#     {\n",
    "#         \"ID\": [\"1\", \"1\"],\n",
    "#         \"Date Recorded\": [1, 2],\n",
    "#         \"Height\": 180,\n",
    "#         \"Age\": 35,\n",
    "#         \"Sex\": \"Male\",\n",
    "#         \"ecFEV1\": [1.8, 3.2],\n",
    "#         \"ecFEF2575%ecFEV1\": [12, 120],\n",
    "#         \"idx ecFEV1 (L)\": [1, 3],\n",
    "#         \"idx ecFEF2575%ecFEV1\": [0, 6],\n",
    "#     }\n",
    "# )\n",
    "\n",
    "# df_mock = pd.DataFrame(\n",
    "#     {\n",
    "#         \"ID\": [\"1\"],\n",
    "#         \"Date Recorded\": [1],\n",
    "#         \"Height\": 180,\n",
    "#         \"Age\": 35,\n",
    "#         \"Sex\": \"Male\",\n",
    "#         \"ecFEV1\": [1.8],\n",
    "#         \"ecFEF2575%ecFEV1\": [12],\n",
    "#         \"idx ecFEV1 (L)\": [1],\n",
    "#         \"idx ecFEF2575%ecFEV1\": [0],\n",
    "#     }\n",
    "# )\n",
    "df_mock[\"Date Recorded\"] = pd.to_datetime(\n",
    "    df_mock[\"Date Recorded\"], unit=\"D\", origin=\"2020-01-01\"\n",
    ")\n",
    "df_mock"
   ]
  },
  {
   "cell_type": "markdown",
   "metadata": {},
   "source": [
    "# Without temporal connections"
   ]
  },
  {
   "cell_type": "code",
   "execution_count": 15,
   "metadata": {},
   "outputs": [
    {
     "ename": "FileNotFoundError",
     "evalue": "[Errno 2] No such file or directory: '/Users/tristan.trebaol/Desktop/PhD/Code/phd//src/models/cpts/ecFEV1_0_6_1_uecFEV1_0_6_1_std_add_mult.npy'",
     "output_type": "error",
     "traceback": [
      "\u001b[0;31m---------------------------------------------------------------------------\u001b[0m",
      "\u001b[0;31mFileNotFoundError\u001b[0m                         Traceback (most recent call last)",
      "Cell \u001b[0;32mIn[15], line 15\u001b[0m\n\u001b[1;32m      2\u001b[0m age \u001b[38;5;241m=\u001b[39m \u001b[38;5;241m35\u001b[39m\n\u001b[1;32m      3\u001b[0m sex \u001b[38;5;241m=\u001b[39m \u001b[38;5;124m\"\u001b[39m\u001b[38;5;124mMale\u001b[39m\u001b[38;5;124m\"\u001b[39m\n\u001b[1;32m      4\u001b[0m (\n\u001b[1;32m      5\u001b[0m     HFEV1,\n\u001b[1;32m      6\u001b[0m     uecFEV1,\n\u001b[1;32m      7\u001b[0m     ecFEV1,\n\u001b[1;32m      8\u001b[0m     AR,\n\u001b[1;32m      9\u001b[0m     HO2Sat,\n\u001b[1;32m     10\u001b[0m     O2SatFFA,\n\u001b[1;32m     11\u001b[0m     IA,\n\u001b[1;32m     12\u001b[0m     UO2Sat,\n\u001b[1;32m     13\u001b[0m     O2Sat,\n\u001b[1;32m     14\u001b[0m     ecFEF2575prctecFEV1,\n\u001b[0;32m---> 15\u001b[0m ) \u001b[38;5;241m=\u001b[39m \u001b[43mvar_builders\u001b[49m\u001b[38;5;241;43m.\u001b[39;49m\u001b[43mo2sat_fev1_fef2575_point_in_time_model_noise_shared_healthy_vars_light\u001b[49m\u001b[43m(\u001b[49m\n\u001b[1;32m     16\u001b[0m \u001b[43m    \u001b[49m\u001b[43mheight\u001b[49m\u001b[43m,\u001b[49m\n\u001b[1;32m     17\u001b[0m \u001b[43m    \u001b[49m\u001b[43mage\u001b[49m\u001b[43m,\u001b[49m\n\u001b[1;32m     18\u001b[0m \u001b[43m    \u001b[49m\u001b[43msex\u001b[49m\u001b[43m,\u001b[49m\n\u001b[1;32m     19\u001b[0m \u001b[43m)\u001b[49m\n",
      "File \u001b[0;32m~/Desktop/PhD/Code/phd/src/models/var_builders.py:787\u001b[0m, in \u001b[0;36mo2sat_fev1_fef2575_point_in_time_model_noise_shared_healthy_vars_light\u001b[0;34m(height, age, sex, ia_prior, ar_prior, ecfev1_noise_model_cpt_suffix)\u001b[0m\n\u001b[1;32m    785\u001b[0m \u001b[38;5;66;03m# Calculate CPTs\u001b[39;00m\n\u001b[1;32m    786\u001b[0m uecFEV1\u001b[38;5;241m.\u001b[39mset_cpt(get_cpt([uecFEV1, HFEV1, AR]))\n\u001b[0;32m--> 787\u001b[0m ecFEV1\u001b[38;5;241m.\u001b[39mset_cpt(\u001b[43mget_cpt\u001b[49m\u001b[43m(\u001b[49m\u001b[43m[\u001b[49m\u001b[43mecFEV1\u001b[49m\u001b[43m,\u001b[49m\u001b[43m \u001b[49m\u001b[43muecFEV1\u001b[49m\u001b[43m]\u001b[49m\u001b[43m,\u001b[49m\u001b[43m \u001b[49m\u001b[43msuffix\u001b[49m\u001b[38;5;241;43m=\u001b[39;49m\u001b[43mecfev1_noise_model_cpt_suffix\u001b[49m\u001b[43m)\u001b[49m)\n\u001b[1;32m    788\u001b[0m ecFEF2575prctecFEV1\u001b[38;5;241m.\u001b[39mset_cpt(get_cpt([ecFEF2575prctecFEV1, AR]))\n\u001b[1;32m    789\u001b[0m O2SatFFA\u001b[38;5;241m.\u001b[39mset_cpt(get_cpt([O2SatFFA, HO2Sat, AR]))\n",
      "File \u001b[0;32m~/Desktop/PhD/Code/phd/src/models/cpts/helpers.py:21\u001b[0m, in \u001b[0;36mget_cpt\u001b[0;34m(vars, suffix)\u001b[0m\n\u001b[1;32m     18\u001b[0m \u001b[38;5;28;01mif\u001b[39;00m suffix \u001b[38;5;129;01mis\u001b[39;00m \u001b[38;5;129;01mnot\u001b[39;00m \u001b[38;5;28;01mNone\u001b[39;00m:\n\u001b[1;32m     19\u001b[0m     filename \u001b[38;5;241m=\u001b[39m filename \u001b[38;5;241m+\u001b[39m suffix\n\u001b[0;32m---> 21\u001b[0m cpt \u001b[38;5;241m=\u001b[39m \u001b[43mnp\u001b[49m\u001b[38;5;241;43m.\u001b[39;49m\u001b[43mload\u001b[49m\u001b[43m(\u001b[49m\u001b[38;5;124;43mf\u001b[39;49m\u001b[38;5;124;43m\"\u001b[39;49m\u001b[38;5;132;43;01m{\u001b[39;49;00m\u001b[43mpath_to_folder\u001b[49m\u001b[38;5;132;43;01m}\u001b[39;49;00m\u001b[38;5;132;43;01m{\u001b[39;49;00m\u001b[43mfilename\u001b[49m\u001b[38;5;132;43;01m}\u001b[39;49;00m\u001b[38;5;124;43m.npy\u001b[39;49m\u001b[38;5;124;43m\"\u001b[39;49m\u001b[43m)\u001b[49m\n\u001b[1;32m     23\u001b[0m \u001b[38;5;28;01massert\u001b[39;00m \u001b[38;5;28mlen\u001b[39m(\u001b[38;5;28mvars\u001b[39m) \u001b[38;5;241m==\u001b[39m \u001b[38;5;28mlen\u001b[39m(cpt\u001b[38;5;241m.\u001b[39mshape)\n\u001b[1;32m     24\u001b[0m \u001b[38;5;28;01mreturn\u001b[39;00m cpt\n",
      "File \u001b[0;32m/Applications/anaconda3/envs/phd/lib/python3.10/site-packages/numpy/lib/npyio.py:427\u001b[0m, in \u001b[0;36mload\u001b[0;34m(file, mmap_mode, allow_pickle, fix_imports, encoding, max_header_size)\u001b[0m\n\u001b[1;32m    425\u001b[0m     own_fid \u001b[38;5;241m=\u001b[39m \u001b[38;5;28;01mFalse\u001b[39;00m\n\u001b[1;32m    426\u001b[0m \u001b[38;5;28;01melse\u001b[39;00m:\n\u001b[0;32m--> 427\u001b[0m     fid \u001b[38;5;241m=\u001b[39m stack\u001b[38;5;241m.\u001b[39menter_context(\u001b[38;5;28;43mopen\u001b[39;49m\u001b[43m(\u001b[49m\u001b[43mos_fspath\u001b[49m\u001b[43m(\u001b[49m\u001b[43mfile\u001b[49m\u001b[43m)\u001b[49m\u001b[43m,\u001b[49m\u001b[43m \u001b[49m\u001b[38;5;124;43m\"\u001b[39;49m\u001b[38;5;124;43mrb\u001b[39;49m\u001b[38;5;124;43m\"\u001b[39;49m\u001b[43m)\u001b[49m)\n\u001b[1;32m    428\u001b[0m     own_fid \u001b[38;5;241m=\u001b[39m \u001b[38;5;28;01mTrue\u001b[39;00m\n\u001b[1;32m    430\u001b[0m \u001b[38;5;66;03m# Code to distinguish from NumPy binary files and pickles.\u001b[39;00m\n",
      "\u001b[0;31mFileNotFoundError\u001b[0m: [Errno 2] No such file or directory: '/Users/tristan.trebaol/Desktop/PhD/Code/phd//src/models/cpts/ecFEV1_0_6_1_uecFEV1_0_6_1_std_add_mult.npy'"
     ]
    }
   ],
   "source": [
    "height = 180\n",
    "age = 35\n",
    "sex = \"Male\"\n",
    "(\n",
    "    HFEV1,\n",
    "    uecFEV1,\n",
    "    ecFEV1,\n",
    "    AR,\n",
    "    HO2Sat,\n",
    "    O2SatFFA,\n",
    "    IA,\n",
    "    UO2Sat,\n",
    "    O2Sat,\n",
    "    ecFEF2575prctecFEV1,\n",
    ") = var_builders.o2sat_fev1_fef2575_point_in_time_model_noise_shared_healthy_vars_light(\n",
    "    height,\n",
    "    age,\n",
    "    sex,\n",
    ")"
   ]
  },
  {
   "cell_type": "markdown",
   "metadata": {},
   "source": [
    "## Variable elimination"
   ]
  },
  {
   "cell_type": "code",
   "execution_count": 4,
   "metadata": {},
   "outputs": [
    {
     "ename": "KeyError",
     "evalue": "2",
     "output_type": "error",
     "traceback": [
      "\u001b[0;31m---------------------------------------------------------------------------\u001b[0m",
      "\u001b[0;31mValueError\u001b[0m                                Traceback (most recent call last)",
      "File \u001b[0;32m/Applications/anaconda3/envs/phd/lib/python3.10/site-packages/pandas/core/indexes/range.py:414\u001b[0m, in \u001b[0;36mRangeIndex.get_loc\u001b[0;34m(self, key)\u001b[0m\n\u001b[1;32m    413\u001b[0m \u001b[38;5;28;01mtry\u001b[39;00m:\n\u001b[0;32m--> 414\u001b[0m     \u001b[38;5;28;01mreturn\u001b[39;00m \u001b[38;5;28;43mself\u001b[39;49m\u001b[38;5;241;43m.\u001b[39;49m\u001b[43m_range\u001b[49m\u001b[38;5;241;43m.\u001b[39;49m\u001b[43mindex\u001b[49m\u001b[43m(\u001b[49m\u001b[43mnew_key\u001b[49m\u001b[43m)\u001b[49m\n\u001b[1;32m    415\u001b[0m \u001b[38;5;28;01mexcept\u001b[39;00m \u001b[38;5;167;01mValueError\u001b[39;00m \u001b[38;5;28;01mas\u001b[39;00m err:\n",
      "\u001b[0;31mValueError\u001b[0m: 2 is not in range",
      "\nThe above exception was the direct cause of the following exception:\n",
      "\u001b[0;31mKeyError\u001b[0m                                  Traceback (most recent call last)",
      "Cell \u001b[0;32mIn[4], line 27\u001b[0m\n\u001b[1;32m     25\u001b[0m evidence_dict \u001b[38;5;241m=\u001b[39m {}\n\u001b[1;32m     26\u001b[0m \u001b[38;5;28;01mfor\u001b[39;00m i \u001b[38;5;129;01min\u001b[39;00m \u001b[38;5;28mrange\u001b[39m(\u001b[38;5;241m3\u001b[39m):\n\u001b[0;32m---> 27\u001b[0m     evidence_dict[ecFEV1_vars[i]\u001b[38;5;241m.\u001b[39mname] \u001b[38;5;241m=\u001b[39m \u001b[43mdf_mock\u001b[49m\u001b[38;5;241;43m.\u001b[39;49m\u001b[43mloc\u001b[49m\u001b[43m[\u001b[49m\u001b[43mi\u001b[49m\u001b[43m,\u001b[49m\u001b[43m \u001b[49m\u001b[38;5;124;43m\"\u001b[39;49m\u001b[38;5;124;43midx ecFEV1 (L)\u001b[39;49m\u001b[38;5;124;43m\"\u001b[39;49m\u001b[43m]\u001b[49m\n\u001b[1;32m     28\u001b[0m     evidence_dict[ecFEF2575prctecFEV1_vars[i]\u001b[38;5;241m.\u001b[39mname] \u001b[38;5;241m=\u001b[39m df_mock\u001b[38;5;241m.\u001b[39mloc[\n\u001b[1;32m     29\u001b[0m         i, \u001b[38;5;124m\"\u001b[39m\u001b[38;5;124midx ecFEF2575\u001b[39m\u001b[38;5;132;01m%e\u001b[39;00m\u001b[38;5;124mcFEV1\u001b[39m\u001b[38;5;124m\"\u001b[39m\n\u001b[1;32m     30\u001b[0m     ]\n\u001b[1;32m     31\u001b[0m \u001b[38;5;28mprint\u001b[39m(evidence_dict)\n",
      "File \u001b[0;32m/Applications/anaconda3/envs/phd/lib/python3.10/site-packages/pandas/core/indexing.py:1146\u001b[0m, in \u001b[0;36m_LocationIndexer.__getitem__\u001b[0;34m(self, key)\u001b[0m\n\u001b[1;32m   1144\u001b[0m     key \u001b[38;5;241m=\u001b[39m \u001b[38;5;28mtuple\u001b[39m(com\u001b[38;5;241m.\u001b[39mapply_if_callable(x, \u001b[38;5;28mself\u001b[39m\u001b[38;5;241m.\u001b[39mobj) \u001b[38;5;28;01mfor\u001b[39;00m x \u001b[38;5;129;01min\u001b[39;00m key)\n\u001b[1;32m   1145\u001b[0m     \u001b[38;5;28;01mif\u001b[39;00m \u001b[38;5;28mself\u001b[39m\u001b[38;5;241m.\u001b[39m_is_scalar_access(key):\n\u001b[0;32m-> 1146\u001b[0m         \u001b[38;5;28;01mreturn\u001b[39;00m \u001b[38;5;28;43mself\u001b[39;49m\u001b[38;5;241;43m.\u001b[39;49m\u001b[43mobj\u001b[49m\u001b[38;5;241;43m.\u001b[39;49m\u001b[43m_get_value\u001b[49m\u001b[43m(\u001b[49m\u001b[38;5;241;43m*\u001b[39;49m\u001b[43mkey\u001b[49m\u001b[43m,\u001b[49m\u001b[43m \u001b[49m\u001b[43mtakeable\u001b[49m\u001b[38;5;241;43m=\u001b[39;49m\u001b[38;5;28;43mself\u001b[39;49m\u001b[38;5;241;43m.\u001b[39;49m\u001b[43m_takeable\u001b[49m\u001b[43m)\u001b[49m\n\u001b[1;32m   1147\u001b[0m     \u001b[38;5;28;01mreturn\u001b[39;00m \u001b[38;5;28mself\u001b[39m\u001b[38;5;241m.\u001b[39m_getitem_tuple(key)\n\u001b[1;32m   1148\u001b[0m \u001b[38;5;28;01melse\u001b[39;00m:\n\u001b[1;32m   1149\u001b[0m     \u001b[38;5;66;03m# we by definition only have the 0th axis\u001b[39;00m\n",
      "File \u001b[0;32m/Applications/anaconda3/envs/phd/lib/python3.10/site-packages/pandas/core/frame.py:4012\u001b[0m, in \u001b[0;36mDataFrame._get_value\u001b[0;34m(self, index, col, takeable)\u001b[0m\n\u001b[1;32m   4006\u001b[0m engine \u001b[38;5;241m=\u001b[39m \u001b[38;5;28mself\u001b[39m\u001b[38;5;241m.\u001b[39mindex\u001b[38;5;241m.\u001b[39m_engine\n\u001b[1;32m   4008\u001b[0m \u001b[38;5;28;01mif\u001b[39;00m \u001b[38;5;129;01mnot\u001b[39;00m \u001b[38;5;28misinstance\u001b[39m(\u001b[38;5;28mself\u001b[39m\u001b[38;5;241m.\u001b[39mindex, MultiIndex):\n\u001b[1;32m   4009\u001b[0m     \u001b[38;5;66;03m# CategoricalIndex: Trying to use the engine fastpath may give incorrect\u001b[39;00m\n\u001b[1;32m   4010\u001b[0m     \u001b[38;5;66;03m#  results if our categories are integers that dont match our codes\u001b[39;00m\n\u001b[1;32m   4011\u001b[0m     \u001b[38;5;66;03m# IntervalIndex: IntervalTree has no get_loc\u001b[39;00m\n\u001b[0;32m-> 4012\u001b[0m     row \u001b[38;5;241m=\u001b[39m \u001b[38;5;28;43mself\u001b[39;49m\u001b[38;5;241;43m.\u001b[39;49m\u001b[43mindex\u001b[49m\u001b[38;5;241;43m.\u001b[39;49m\u001b[43mget_loc\u001b[49m\u001b[43m(\u001b[49m\u001b[43mindex\u001b[49m\u001b[43m)\u001b[49m\n\u001b[1;32m   4013\u001b[0m     \u001b[38;5;28;01mreturn\u001b[39;00m series\u001b[38;5;241m.\u001b[39m_values[row]\n\u001b[1;32m   4015\u001b[0m \u001b[38;5;66;03m# For MultiIndex going through engine effectively restricts us to\u001b[39;00m\n\u001b[1;32m   4016\u001b[0m \u001b[38;5;66;03m#  same-length tuples; see test_get_set_value_no_partial_indexing\u001b[39;00m\n",
      "File \u001b[0;32m/Applications/anaconda3/envs/phd/lib/python3.10/site-packages/pandas/core/indexes/range.py:416\u001b[0m, in \u001b[0;36mRangeIndex.get_loc\u001b[0;34m(self, key)\u001b[0m\n\u001b[1;32m    414\u001b[0m         \u001b[38;5;28;01mreturn\u001b[39;00m \u001b[38;5;28mself\u001b[39m\u001b[38;5;241m.\u001b[39m_range\u001b[38;5;241m.\u001b[39mindex(new_key)\n\u001b[1;32m    415\u001b[0m     \u001b[38;5;28;01mexcept\u001b[39;00m \u001b[38;5;167;01mValueError\u001b[39;00m \u001b[38;5;28;01mas\u001b[39;00m err:\n\u001b[0;32m--> 416\u001b[0m         \u001b[38;5;28;01mraise\u001b[39;00m \u001b[38;5;167;01mKeyError\u001b[39;00m(key) \u001b[38;5;28;01mfrom\u001b[39;00m \u001b[38;5;21;01merr\u001b[39;00m\n\u001b[1;32m    417\u001b[0m \u001b[38;5;28;01mif\u001b[39;00m \u001b[38;5;28misinstance\u001b[39m(key, Hashable):\n\u001b[1;32m    418\u001b[0m     \u001b[38;5;28;01mraise\u001b[39;00m \u001b[38;5;167;01mKeyError\u001b[39;00m(key)\n",
      "\u001b[0;31mKeyError\u001b[0m: 2"
     ]
    }
   ],
   "source": [
    "height = 180\n",
    "age = 35\n",
    "sex = \"Male\"\n",
    "(\n",
    "    model,\n",
    "    # inf_alg,\n",
    "    HFEV1,\n",
    "    HO2Sat,\n",
    "    AR_vars,\n",
    "    uecFEV1_vars,\n",
    "    ecFEV1_vars,\n",
    "    O2SatFFA_vars,\n",
    "    IA_vars,\n",
    "    UO2Sat_vars,\n",
    "    O2Sat_vars,\n",
    "    ecFEF2575prctecFEV1_vars,\n",
    ") = mb.o2sat_fev1_fef2575_n_days_model_noise_shared_healthy_vars_light(\n",
    "    3,\n",
    "    height,\n",
    "    age,\n",
    "    sex,\n",
    ")\n",
    "var_elim = VariableElimination(model)\n",
    "\n",
    "evidence_dict = {}\n",
    "for i in range(3):\n",
    "    evidence_dict[ecFEV1_vars[i].name] = df_mock.loc[i, \"idx ecFEV1 (L)\"]\n",
    "    evidence_dict[ecFEF2575prctecFEV1_vars[i].name] = df_mock.loc[\n",
    "        i, \"idx ecFEF2575%ecFEV1\"\n",
    "    ]\n",
    "print(evidence_dict)\n",
    "\n",
    "res_ve = var_elim.query(\n",
    "    variables=[AR_vars[0].name, AR_vars[1].name, AR_vars[2].name, HFEV1.name],\n",
    "    evidence=evidence_dict,\n",
    "    joint=False,\n",
    ")\n",
    "res_ve[AR_vars[1].name].values"
   ]
  },
  {
   "cell_type": "code",
   "execution_count": 21,
   "metadata": {},
   "outputs": [
    {
     "data": {
      "image/png": "[encoded data removed]",
      "text/plain": [
       "<Figure size 640x480 with 1 Axes>"
      ]
     },
     "metadata": {},
     "output_type": "display_data"
    }
   ],
   "source": [
    "# Create a directed graph from the model edges\n",
    "nx_graph = nx.DiGraph(model.edges())\n",
    "\n",
    "# Use spring layout for better spacing between nodes\n",
    "pos = nx.spring_layout(nx_graph, k=10)  # Adjust k for more/less space between nodes\n",
    "\n",
    "# Draw the graph with specified layout and font size\n",
    "nx.draw(\n",
    "    nx_graph,\n",
    "    pos,\n",
    "    with_labels=True,\n",
    "    node_size=200,\n",
    "    node_color=\"skyblue\",\n",
    "    # node_shape=\"o\",\n",
    "    alpha=0.7,\n",
    "    linewidths=5,\n",
    "    font_size=6,  # Reduce font size for node labels\n",
    ")"
   ]
  },
  {
   "cell_type": "markdown",
   "metadata": {},
   "source": [
    "#### VE for 1 day"
   ]
  },
  {
   "cell_type": "code",
   "execution_count": 4,
   "metadata": {},
   "outputs": [
    {
     "name": "stdout",
     "output_type": "stream",
     "text": [
      "{'ecFEV1 (L) day 1': 1, 'ecFEF25-75 % ecFEV1 (%) day 1': 0}\n"
     ]
    },
    {
     "data": {
      "text/plain": [
       "array([0.00041647, 0.00409604, 0.02342945, 0.13116375, 0.22127429,\n",
       "       0.13424208, 0.15825992, 0.20114615, 0.12597185])"
      ]
     },
     "execution_count": 4,
     "metadata": {},
     "output_type": "execute_result"
    }
   ],
   "source": [
    "height = 180\n",
    "age = 35\n",
    "sex = \"Male\"\n",
    "(\n",
    "    model,\n",
    "    # inf_alg,\n",
    "    HFEV1,\n",
    "    HO2Sat,\n",
    "    AR_vars,\n",
    "    uecFEV1_vars,\n",
    "    ecFEV1_vars,\n",
    "    O2SatFFA_vars,\n",
    "    IA_vars,\n",
    "    UO2Sat_vars,\n",
    "    O2Sat_vars,\n",
    "    ecFEF2575prctecFEV1_vars,\n",
    ") = mb.o2sat_fev1_fef2575_n_days_model_noise_shared_healthy_vars_light(\n",
    "    2,\n",
    "    height,\n",
    "    age,\n",
    "    sex,\n",
    ")\n",
    "var_elim = VariableElimination(model)\n",
    "\n",
    "evidence_dict = {}\n",
    "for i in range(2):\n",
    "    evidence_dict[ecFEV1_vars[i].name] = df_mock.loc[i, \"idx ecFEV1 (L)\"]\n",
    "    evidence_dict[ecFEF2575prctecFEV1_vars[i].name] = df_mock.loc[\n",
    "        i, \"idx ecFEF2575%ecFEV1\"\n",
    "    ]\n",
    "print(evidence_dict)\n",
    "\n",
    "res_ve = var_elim.query(\n",
    "    variables=[AR_vars[0].name, HFEV1.name],\n",
    "    evidence=evidence_dict,\n",
    "    joint=False,\n",
    ")\n",
    "res_ve[AR_vars[0].name].values"
   ]
  },
  {
   "cell_type": "markdown",
   "metadata": {},
   "source": [
    "## Cutset conditioning"
   ]
  },
  {
   "cell_type": "code",
   "execution_count": 18,
   "metadata": {},
   "outputs": [
    {
     "name": "stdout",
     "output_type": "stream",
     "text": [
      "Processing ID 1\n",
      "ID 1\n"
     ]
    },
    {
     "data": {
      "application/vnd.plotly.v1+json": {
       "config": {
        "plotlyServerURL": "https://plot.ly"
       },
       "data": [
        {
         "histfunc": "sum",
         "type": "histogram",
         "x": [
          1,
          2,
          3,
          4,
          5
         ],
         "xaxis": "x",
         "xbins": {
          "end": 6,
          "size": 1,
          "start": 0
         },
         "y": [
          1.289783166139817e-7,
          0.0014263046304778622,
          0.230436116758835,
          0.7281157786785031,
          0.04002167095386738
         ],
         "yaxis": "y"
        },
        {
         "coloraxis": "coloraxis",
         "type": "heatmap",
         "x": [
          "2020-01-02",
          "2020-01-03"
         ],
         "xaxis": "x2",
         "y": [
          "[0.0, 10.0)",
          "[10.0, 20.0)",
          "[20.0, 30.0)",
          "[30.0, 40.0)",
          "[40.0, 50.0)",
          "[50.0, 60.0)",
          "[60.0, 70.0)",
          "[70.0, 80.0)",
          "[80.0, 90.0)"
         ],
         "yaxis": "y2",
         "z": [
          [
           0.0004417322913998229,
           0.4645515719101369
          ],
          [
           0.004393982490345272,
           0.34167747559308037
          ],
          [
           0.024902990548393327,
           0.1587792849989715
          ],
          [
           0.13689224218810936,
           0.0324969750028265
          ],
          [
           0.22574501417367812,
           0.0024840175607123496
          ],
          [
           0.13536494000940774,
           0.000010560572675258672
          ],
          [
           0.1566290166978318,
           5.809340634318844e-8
          ],
          [
           0.19372455021923585,
           5.501581144526361e-8
          ],
          [
           0.12190553138159861,
           1.2523793001924719e-9
          ]
         ]
        }
       ],
       "layout": {
        "annotations": [
         {
          "font": {
           "size": 8
          },
          "showarrow": false,
          "text": "4.31",
          "x": 4.306732557999126,
          "xref": "x",
          "y": 0.8009273565463535,
          "yref": "y"
         }
        ],
        "coloraxis": {
         "colorbar": {
          "len": 0.77,
          "x": 1,
          "y": 0.36
         },
         "colorscale": [
          [
           0,
           "white"
          ],
          [
           0.01,
           "red"
          ],
          [
           0.05,
           "yellow"
          ],
          [
           0.1,
           "cyan"
          ],
          [
           0.6,
           "blue"
          ],
          [
           1,
           "black"
          ]
         ]
        },
        "font": {
         "size": 12
        },
        "height": 700,
        "template": {
         "data": {
          "bar": [
           {
            "error_x": {
             "color": "#2a3f5f"
            },
            "error_y": {
             "color": "#2a3f5f"
            },
            "marker": {
             "line": {
              "color": "#E5ECF6",
              "width": 0.5
             },
             "pattern": {
              "fillmode": "overlay",
              "size": 10,
              "solidity": 0.2
             }
            },
            "type": "bar"
           }
          ],
          "barpolar": [
           {
            "marker": {
             "line": {
              "color": "#E5ECF6",
              "width": 0.5
             },
             "pattern": {
              "fillmode": "overlay",
              "size": 10,
              "solidity": 0.2
             }
            },
            "type": "barpolar"
           }
          ],
          "carpet": [
           {
            "aaxis": {
             "endlinecolor": "#2a3f5f",
             "gridcolor": "white",
             "linecolor": "white",
             "minorgridcolor": "white",
             "startlinecolor": "#2a3f5f"
            },
            "baxis": {
             "endlinecolor": "#2a3f5f",
             "gridcolor": "white",
             "linecolor": "white",
             "minorgridcolor": "white",
             "startlinecolor": "#2a3f5f"
            },
            "type": "carpet"
           }
          ],
          "choropleth": [
           {
            "colorbar": {
             "outlinewidth": 0,
             "ticks": ""
            },
            "type": "choropleth"
           }
          ],
          "contour": [
           {
            "colorbar": {
             "outlinewidth": 0,
             "ticks": ""
            },
            "colorscale": [
             [
              0,
              "#0d0887"
             ],
             [
              0.1111111111111111,
              "#46039f"
             ],
             [
              0.2222222222222222,
              "#7201a8"
             ],
             [
              0.3333333333333333,
              "#9c179e"
             ],
             [
              0.4444444444444444,
              "#bd3786"
             ],
             [
              0.5555555555555556,
              "#d8576b"
             ],
             [
              0.6666666666666666,
              "#ed7953"
             ],
             [
              0.7777777777777778,
              "#fb9f3a"
             ],
             [
              0.8888888888888888,
              "#fdca26"
             ],
             [
              1,
              "#f0f921"
             ]
            ],
            "type": "contour"
           }
          ],
          "contourcarpet": [
           {
            "colorbar": {
             "outlinewidth": 0,
             "ticks": ""
            },
            "type": "contourcarpet"
           }
          ],
          "heatmap": [
           {
            "colorbar": {
             "outlinewidth": 0,
             "ticks": ""
            },
            "colorscale": [
             [
              0,
              "#0d0887"
             ],
             [
              0.1111111111111111,
              "#46039f"
             ],
             [
              0.2222222222222222,
              "#7201a8"
             ],
             [
              0.3333333333333333,
              "#9c179e"
             ],
             [
              0.4444444444444444,
              "#bd3786"
             ],
             [
              0.5555555555555556,
              "#d8576b"
             ],
             [
              0.6666666666666666,
              "#ed7953"
             ],
             [
              0.7777777777777778,
              "#fb9f3a"
             ],
             [
              0.8888888888888888,
              "#fdca26"
             ],
             [
              1,
              "#f0f921"
             ]
            ],
            "type": "heatmap"
           }
          ],
          "heatmapgl": [
           {
            "colorbar": {
             "outlinewidth": 0,
             "ticks": ""
            },
            "colorscale": [
             [
              0,
              "#0d0887"
             ],
             [
              0.1111111111111111,
              "#46039f"
             ],
             [
              0.2222222222222222,
              "#7201a8"
             ],
             [
              0.3333333333333333,
              "#9c179e"
             ],
             [
              0.4444444444444444,
              "#bd3786"
             ],
             [
              0.5555555555555556,
              "#d8576b"
             ],
             [
              0.6666666666666666,
              "#ed7953"
             ],
             [
              0.7777777777777778,
              "#fb9f3a"
             ],
             [
              0.8888888888888888,
              "#fdca26"
             ],
             [
              1,
              "#f0f921"
             ]
            ],
            "type": "heatmapgl"
           }
          ],
          "histogram": [
           {
            "marker": {
             "pattern": {
              "fillmode": "overlay",
              "size": 10,
              "solidity": 0.2
             }
            },
            "type": "histogram"
           }
          ],
          "histogram2d": [
           {
            "colorbar": {
             "outlinewidth": 0,
             "ticks": ""
            },
            "colorscale": [
             [
              0,
              "#0d0887"
             ],
             [
              0.1111111111111111,
              "#46039f"
             ],
             [
              0.2222222222222222,
              "#7201a8"
             ],
             [
              0.3333333333333333,
              "#9c179e"
             ],
             [
              0.4444444444444444,
              "#bd3786"
             ],
             [
              0.5555555555555556,
              "#d8576b"
             ],
             [
              0.6666666666666666,
              "#ed7953"
             ],
             [
              0.7777777777777778,
              "#fb9f3a"
             ],
             [
              0.8888888888888888,
              "#fdca26"
             ],
             [
              1,
              "#f0f921"
             ]
            ],
            "type": "histogram2d"
           }
          ],
          "histogram2dcontour": [
           {
            "colorbar": {
             "outlinewidth": 0,
             "ticks": ""
            },
            "colorscale": [
             [
              0,
              "#0d0887"
             ],
             [
              0.1111111111111111,
              "#46039f"
             ],
             [
              0.2222222222222222,
              "#7201a8"
             ],
             [
              0.3333333333333333,
              "#9c179e"
             ],
             [
              0.4444444444444444,
              "#bd3786"
             ],
             [
              0.5555555555555556,
              "#d8576b"
             ],
             [
              0.6666666666666666,
              "#ed7953"
             ],
             [
              0.7777777777777778,
              "#fb9f3a"
             ],
             [
              0.8888888888888888,
              "#fdca26"
             ],
             [
              1,
              "#f0f921"
             ]
            ],
            "type": "histogram2dcontour"
           }
          ],
          "mesh3d": [
           {
            "colorbar": {
             "outlinewidth": 0,
             "ticks": ""
            },
            "type": "mesh3d"
           }
          ],
          "parcoords": [
           {
            "line": {
             "colorbar": {
              "outlinewidth": 0,
              "ticks": ""
             }
            },
            "type": "parcoords"
           }
          ],
          "pie": [
           {
            "automargin": true,
            "type": "pie"
           }
          ],
          "scatter": [
           {
            "fillpattern": {
             "fillmode": "overlay",
             "size": 10,
             "solidity": 0.2
            },
            "type": "scatter"
           }
          ],
          "scatter3d": [
           {
            "line": {
             "colorbar": {
              "outlinewidth": 0,
              "ticks": ""
             }
            },
            "marker": {
             "colorbar": {
              "outlinewidth": 0,
              "ticks": ""
             }
            },
            "type": "scatter3d"
           }
          ],
          "scattercarpet": [
           {
            "marker": {
             "colorbar": {
              "outlinewidth": 0,
              "ticks": ""
             }
            },
            "type": "scattercarpet"
           }
          ],
          "scattergeo": [
           {
            "marker": {
             "colorbar": {
              "outlinewidth": 0,
              "ticks": ""
             }
            },
            "type": "scattergeo"
           }
          ],
          "scattergl": [
           {
            "marker": {
             "colorbar": {
              "outlinewidth": 0,
              "ticks": ""
             }
            },
            "type": "scattergl"
           }
          ],
          "scattermapbox": [
           {
            "marker": {
             "colorbar": {
              "outlinewidth": 0,
              "ticks": ""
             }
            },
            "type": "scattermapbox"
           }
          ],
          "scatterpolar": [
           {
            "marker": {
             "colorbar": {
              "outlinewidth": 0,
              "ticks": ""
             }
            },
            "type": "scatterpolar"
           }
          ],
          "scatterpolargl": [
           {
            "marker": {
             "colorbar": {
              "outlinewidth": 0,
              "ticks": ""
             }
            },
            "type": "scatterpolargl"
           }
          ],
          "scatterternary": [
           {
            "marker": {
             "colorbar": {
              "outlinewidth": 0,
              "ticks": ""
             }
            },
            "type": "scatterternary"
           }
          ],
          "surface": [
           {
            "colorbar": {
             "outlinewidth": 0,
             "ticks": ""
            },
            "colorscale": [
             [
              0,
              "#0d0887"
             ],
             [
              0.1111111111111111,
              "#46039f"
             ],
             [
              0.2222222222222222,
              "#7201a8"
             ],
             [
              0.3333333333333333,
              "#9c179e"
             ],
             [
              0.4444444444444444,
              "#bd3786"
             ],
             [
              0.5555555555555556,
              "#d8576b"
             ],
             [
              0.6666666666666666,
              "#ed7953"
             ],
             [
              0.7777777777777778,
              "#fb9f3a"
             ],
             [
              0.8888888888888888,
              "#fdca26"
             ],
             [
              1,
              "#f0f921"
             ]
            ],
            "type": "surface"
           }
          ],
          "table": [
           {
            "cells": {
             "fill": {
              "color": "#EBF0F8"
             },
             "line": {
              "color": "white"
             }
            },
            "header": {
             "fill": {
              "color": "#C8D4E3"
             },
             "line": {
              "color": "white"
             }
            },
            "type": "table"
           }
          ]
         },
         "layout": {
          "annotationdefaults": {
           "arrowcolor": "#2a3f5f",
           "arrowhead": 0,
           "arrowwidth": 1
          },
          "autotypenumbers": "strict",
          "coloraxis": {
           "colorbar": {
            "outlinewidth": 0,
            "ticks": ""
           }
          },
          "colorscale": {
           "diverging": [
            [
             0,
             "#8e0152"
            ],
            [
             0.1,
             "#c51b7d"
            ],
            [
             0.2,
             "#de77ae"
            ],
            [
             0.3,
             "#f1b6da"
            ],
            [
             0.4,
             "#fde0ef"
            ],
            [
             0.5,
             "#f7f7f7"
            ],
            [
             0.6,
             "#e6f5d0"
            ],
            [
             0.7,
             "#b8e186"
            ],
            [
             0.8,
             "#7fbc41"
            ],
            [
             0.9,
             "#4d9221"
            ],
            [
             1,
             "#276419"
            ]
           ],
           "sequential": [
            [
             0,
             "#0d0887"
            ],
            [
             0.1111111111111111,
             "#46039f"
            ],
            [
             0.2222222222222222,
             "#7201a8"
            ],
            [
             0.3333333333333333,
             "#9c179e"
            ],
            [
             0.4444444444444444,
             "#bd3786"
            ],
            [
             0.5555555555555556,
             "#d8576b"
            ],
            [
             0.6666666666666666,
             "#ed7953"
            ],
            [
             0.7777777777777778,
             "#fb9f3a"
            ],
            [
             0.8888888888888888,
             "#fdca26"
            ],
            [
             1,
             "#f0f921"
            ]
           ],
           "sequentialminus": [
            [
             0,
             "#0d0887"
            ],
            [
             0.1111111111111111,
             "#46039f"
            ],
            [
             0.2222222222222222,
             "#7201a8"
            ],
            [
             0.3333333333333333,
             "#9c179e"
            ],
            [
             0.4444444444444444,
             "#bd3786"
            ],
            [
             0.5555555555555556,
             "#d8576b"
            ],
            [
             0.6666666666666666,
             "#ed7953"
            ],
            [
             0.7777777777777778,
             "#fb9f3a"
            ],
            [
             0.8888888888888888,
             "#fdca26"
            ],
            [
             1,
             "#f0f921"
            ]
           ]
          },
          "colorway": [
           "#636efa",
           "#EF553B",
           "#00cc96",
           "#ab63fa",
           "#FFA15A",
           "#19d3f3",
           "#FF6692",
           "#B6E880",
           "#FF97FF",
           "#FECB52"
          ],
          "font": {
           "color": "#2a3f5f"
          },
          "geo": {
           "bgcolor": "white",
           "lakecolor": "white",
           "landcolor": "#E5ECF6",
           "showlakes": true,
           "showland": true,
           "subunitcolor": "white"
          },
          "hoverlabel": {
           "align": "left"
          },
          "hovermode": "closest",
          "mapbox": {
           "style": "light"
          },
          "paper_bgcolor": "white",
          "plot_bgcolor": "#E5ECF6",
          "polar": {
           "angularaxis": {
            "gridcolor": "white",
            "linecolor": "white",
            "ticks": ""
           },
           "bgcolor": "#E5ECF6",
           "radialaxis": {
            "gridcolor": "white",
            "linecolor": "white",
            "ticks": ""
           }
          },
          "scene": {
           "xaxis": {
            "backgroundcolor": "#E5ECF6",
            "gridcolor": "white",
            "gridwidth": 2,
            "linecolor": "white",
            "showbackground": true,
            "ticks": "",
            "zerolinecolor": "white"
           },
           "yaxis": {
            "backgroundcolor": "#E5ECF6",
            "gridcolor": "white",
            "gridwidth": 2,
            "linecolor": "white",
            "showbackground": true,
            "ticks": "",
            "zerolinecolor": "white"
           },
           "zaxis": {
            "backgroundcolor": "#E5ECF6",
            "gridcolor": "white",
            "gridwidth": 2,
            "linecolor": "white",
            "showbackground": true,
            "ticks": "",
            "zerolinecolor": "white"
           }
          },
          "shapedefaults": {
           "line": {
            "color": "#2a3f5f"
           }
          },
          "ternary": {
           "aaxis": {
            "gridcolor": "white",
            "linecolor": "white",
            "ticks": ""
           },
           "baxis": {
            "gridcolor": "white",
            "linecolor": "white",
            "ticks": ""
           },
           "bgcolor": "#E5ECF6",
           "caxis": {
            "gridcolor": "white",
            "linecolor": "white",
            "ticks": ""
           }
          },
          "title": {
           "x": 0.05
          },
          "xaxis": {
           "automargin": true,
           "gridcolor": "white",
           "linecolor": "white",
           "ticks": "",
           "title": {
            "standoff": 15
           },
           "zerolinecolor": "white",
           "zerolinewidth": 2
          },
          "yaxis": {
           "automargin": true,
           "gridcolor": "white",
           "linecolor": "white",
           "ticks": "",
           "title": {
            "standoff": 15
           },
           "zerolinecolor": "white",
           "zerolinewidth": 2
          }
         }
        },
        "title": {
         "text": "1 - Posterior HFEV1 after fusing all P(M_h|D)<br>AR prior: uniform"
        },
        "width": 1200,
        "xaxis": {
         "anchor": "y",
         "domain": [
          0,
          0.2888888888888889
         ],
         "nticks": 20,
         "range": [
          0,
          6
         ],
         "title": {
          "text": "Healthy FEV1 (L)"
         }
        },
        "xaxis2": {
         "anchor": "y2",
         "domain": [
          0,
          1
         ],
         "nticks": 50,
         "title": {
          "text": "Date"
         },
         "type": "category"
        },
        "yaxis": {
         "anchor": "x",
         "domain": [
          0.825,
          1
         ],
         "title": {
          "text": "p"
         }
        },
        "yaxis2": {
         "anchor": "x2",
         "domain": [
          0,
          0.7250000000000001
         ],
         "title": {
          "text": "Airway resistance (%)"
         }
        }
       }
      }
     },
     "metadata": {},
     "output_type": "display_data"
    }
   ],
   "source": [
    "fig, p_M_given_D, AR_dist_given_M_matrix = (\n",
    "    cca.compute_log_p_D_given_M_for_noise_model_light(df_mock, ar_prior=\"uniform\")\n",
    ")"
   ]
  },
  {
   "cell_type": "code",
   "execution_count": 20,
   "metadata": {},
   "outputs": [
    {
     "data": {
      "application/vnd.plotly.v1+json": {
       "config": {
        "plotlyServerURL": "https://plot.ly"
       },
       "data": [
        {
         "histfunc": "sum",
         "marker": {
          "color": "#636EFA"
         },
         "type": "histogram",
         "x": [
          1,
          2,
          3,
          4,
          5
         ],
         "xaxis": "x",
         "xbins": {
          "end": 6,
          "size": 1,
          "start": 1
         },
         "y": [
          1.572413285430448e-7,
          0.004086936454312153,
          0.4786358929028301,
          0.5129944732430978,
          0.004282540158431324
         ],
         "yaxis": "y"
        },
        {
         "histfunc": "sum",
         "marker": {
          "color": "#636EFA"
         },
         "type": "histogram",
         "x": [
          0,
          10,
          20,
          30,
          40,
          50,
          60,
          70,
          80
         ],
         "xaxis": "x2",
         "xbins": {
          "end": 90,
          "size": 10,
          "start": 0
         },
         "y": [
          0.0007800289359517135,
          0.007447845378421897,
          0.03847823674148331,
          0.15069118173106943,
          0.2469557986683328,
          0.13789413180005972,
          0.14401914906003108,
          0.1629629233389998,
          0.11077070434565031
         ],
         "yaxis": "y2"
        },
        {
         "histfunc": "sum",
         "marker": {
          "color": "#636EFA"
         },
         "type": "histogram",
         "x": [
          0,
          10,
          20,
          30,
          40,
          50,
          60,
          70,
          80
         ],
         "xaxis": "x3",
         "xbins": {
          "end": 90,
          "size": 10,
          "start": 0
         },
         "y": [
          0.5228097419056774,
          0.31938306054847476,
          0.13015775875758165,
          0.02583079080891383,
          0.0018117708455161318,
          0.000006798091118869253,
          4.020257360087461e-8,
          3.870613231462473e-8,
          1.3401151221838207e-10
         ],
         "yaxis": "y3"
        },
        {
         "histfunc": "sum",
         "marker": {
          "color": "#636EFA"
         },
         "type": "histogram",
         "x": [
          0,
          10,
          20,
          30,
          40,
          50,
          60,
          70,
          80
         ],
         "xaxis": "x4",
         "xbins": {
          "end": 90,
          "size": 10,
          "start": 0
         },
         "y": [
          0.44442557023299506,
          0.37320404053371703,
          0.14969270096886245,
          0.031168457924349975,
          0.0015087458765900654,
          4.819971664078634e-7,
          7.753671128872167e-10,
          1.477387062192567e-9,
          2.13564872408719e-10
         ],
         "yaxis": "y4"
        },
        {
         "histfunc": "sum",
         "marker": {
          "color": "#EF553B"
         },
         "type": "histogram",
         "x": [
          1,
          2,
          3,
          4,
          5
         ],
         "xaxis": "x",
         "xbins": {
          "end": 6,
          "size": 1,
          "start": 1
         },
         "y": [
          1.5724132854709744e-7,
          0.004086936454448497,
          0.4786358929015573,
          0.5129944732439999,
          0.004282540158665702
         ],
         "yaxis": "y"
        },
        {
         "histfunc": "sum",
         "marker": {
          "color": "#EF553B"
         },
         "type": "histogram",
         "x": [
          0,
          10,
          20,
          30,
          40,
          50,
          60,
          70,
          80
         ],
         "xaxis": "x2",
         "xbins": {
          "end": 90,
          "size": 10,
          "start": 0
         },
         "y": [
          0.0007800289359166437,
          0.007447845378081171,
          0.038478236739707065,
          0.15069118172558293,
          0.2469557986645204,
          0.13789413180040194,
          0.14401914906526633,
          0.16296292333704082,
          0.1107707043534827
         ],
         "yaxis": "y2"
        },
        {
         "histfunc": "sum",
         "marker": {
          "color": "#EF553B"
         },
         "type": "histogram",
         "x": [
          0,
          10,
          20,
          30,
          40,
          50,
          60,
          70,
          80
         ],
         "xaxis": "x3",
         "xbins": {
          "end": 90,
          "size": 10,
          "start": 0
         },
         "y": [
          0.5228097419052364,
          0.3193830605484616,
          0.1301577587576649,
          0.02583079080922351,
          0.0018117708455769098,
          0.000006798091119227362,
          4.02025736043669e-8,
          3.8706132316093874e-8,
          1.3401151224141068e-10
         ],
         "yaxis": "y3"
        },
        {
         "histfunc": "sum",
         "marker": {
          "color": "#EF553B"
         },
         "type": "histogram",
         "x": [
          0,
          10,
          20,
          30,
          40,
          50,
          60,
          70,
          80
         ],
         "xaxis": "x4",
         "xbins": {
          "end": 90,
          "size": 10,
          "start": 0
         },
         "y": [
          0.444425570232615,
          0.3732040405336178,
          0.14969270096890752,
          0.03116845792473269,
          0.001508745876641688,
          4.819971664338858e-7,
          7.753671129553747e-10,
          1.4773870622520124e-9,
          2.1356487243528224e-10
         ],
         "yaxis": "y4"
        }
       ],
       "layout": {
        "annotations": [
         {
          "font": {
           "size": 8
          },
          "showarrow": false,
          "text": "4.02",
          "x": 4.017472302624225,
          "xref": "x",
          "y": 0.5642939205684,
          "yref": "y"
         }
        ],
        "height": 550,
        "showlegend": false,
        "template": {
         "data": {
          "bar": [
           {
            "error_x": {
             "color": "#2a3f5f"
            },
            "error_y": {
             "color": "#2a3f5f"
            },
            "marker": {
             "line": {
              "color": "#E5ECF6",
              "width": 0.5
             },
             "pattern": {
              "fillmode": "overlay",
              "size": 10,
              "solidity": 0.2
             }
            },
            "type": "bar"
           }
          ],
          "barpolar": [
           {
            "marker": {
             "line": {
              "color": "#E5ECF6",
              "width": 0.5
             },
             "pattern": {
              "fillmode": "overlay",
              "size": 10,
              "solidity": 0.2
             }
            },
            "type": "barpolar"
           }
          ],
          "carpet": [
           {
            "aaxis": {
             "endlinecolor": "#2a3f5f",
             "gridcolor": "white",
             "linecolor": "white",
             "minorgridcolor": "white",
             "startlinecolor": "#2a3f5f"
            },
            "baxis": {
             "endlinecolor": "#2a3f5f",
             "gridcolor": "white",
             "linecolor": "white",
             "minorgridcolor": "white",
             "startlinecolor": "#2a3f5f"
            },
            "type": "carpet"
           }
          ],
          "choropleth": [
           {
            "colorbar": {
             "outlinewidth": 0,
             "ticks": ""
            },
            "type": "choropleth"
           }
          ],
          "contour": [
           {
            "colorbar": {
             "outlinewidth": 0,
             "ticks": ""
            },
            "colorscale": [
             [
              0,
              "#0d0887"
             ],
             [
              0.1111111111111111,
              "#46039f"
             ],
             [
              0.2222222222222222,
              "#7201a8"
             ],
             [
              0.3333333333333333,
              "#9c179e"
             ],
             [
              0.4444444444444444,
              "#bd3786"
             ],
             [
              0.5555555555555556,
              "#d8576b"
             ],
             [
              0.6666666666666666,
              "#ed7953"
             ],
             [
              0.7777777777777778,
              "#fb9f3a"
             ],
             [
              0.8888888888888888,
              "#fdca26"
             ],
             [
              1,
              "#f0f921"
             ]
            ],
            "type": "contour"
           }
          ],
          "contourcarpet": [
           {
            "colorbar": {
             "outlinewidth": 0,
             "ticks": ""
            },
            "type": "contourcarpet"
           }
          ],
          "heatmap": [
           {
            "colorbar": {
             "outlinewidth": 0,
             "ticks": ""
            },
            "colorscale": [
             [
              0,
              "#0d0887"
             ],
             [
              0.1111111111111111,
              "#46039f"
             ],
             [
              0.2222222222222222,
              "#7201a8"
             ],
             [
              0.3333333333333333,
              "#9c179e"
             ],
             [
              0.4444444444444444,
              "#bd3786"
             ],
             [
              0.5555555555555556,
              "#d8576b"
             ],
             [
              0.6666666666666666,
              "#ed7953"
             ],
             [
              0.7777777777777778,
              "#fb9f3a"
             ],
             [
              0.8888888888888888,
              "#fdca26"
             ],
             [
              1,
              "#f0f921"
             ]
            ],
            "type": "heatmap"
           }
          ],
          "heatmapgl": [
           {
            "colorbar": {
             "outlinewidth": 0,
             "ticks": ""
            },
            "colorscale": [
             [
              0,
              "#0d0887"
             ],
             [
              0.1111111111111111,
              "#46039f"
             ],
             [
              0.2222222222222222,
              "#7201a8"
             ],
             [
              0.3333333333333333,
              "#9c179e"
             ],
             [
              0.4444444444444444,
              "#bd3786"
             ],
             [
              0.5555555555555556,
              "#d8576b"
             ],
             [
              0.6666666666666666,
              "#ed7953"
             ],
             [
              0.7777777777777778,
              "#fb9f3a"
             ],
             [
              0.8888888888888888,
              "#fdca26"
             ],
             [
              1,
              "#f0f921"
             ]
            ],
            "type": "heatmapgl"
           }
          ],
          "histogram": [
           {
            "marker": {
             "pattern": {
              "fillmode": "overlay",
              "size": 10,
              "solidity": 0.2
             }
            },
            "type": "histogram"
           }
          ],
          "histogram2d": [
           {
            "colorbar": {
             "outlinewidth": 0,
             "ticks": ""
            },
            "colorscale": [
             [
              0,
              "#0d0887"
             ],
             [
              0.1111111111111111,
              "#46039f"
             ],
             [
              0.2222222222222222,
              "#7201a8"
             ],
             [
              0.3333333333333333,
              "#9c179e"
             ],
             [
              0.4444444444444444,
              "#bd3786"
             ],
             [
              0.5555555555555556,
              "#d8576b"
             ],
             [
              0.6666666666666666,
              "#ed7953"
             ],
             [
              0.7777777777777778,
              "#fb9f3a"
             ],
             [
              0.8888888888888888,
              "#fdca26"
             ],
             [
              1,
              "#f0f921"
             ]
            ],
            "type": "histogram2d"
           }
          ],
          "histogram2dcontour": [
           {
            "colorbar": {
             "outlinewidth": 0,
             "ticks": ""
            },
            "colorscale": [
             [
              0,
              "#0d0887"
             ],
             [
              0.1111111111111111,
              "#46039f"
             ],
             [
              0.2222222222222222,
              "#7201a8"
             ],
             [
              0.3333333333333333,
              "#9c179e"
             ],
             [
              0.4444444444444444,
              "#bd3786"
             ],
             [
              0.5555555555555556,
              "#d8576b"
             ],
             [
              0.6666666666666666,
              "#ed7953"
             ],
             [
              0.7777777777777778,
              "#fb9f3a"
             ],
             [
              0.8888888888888888,
              "#fdca26"
             ],
             [
              1,
              "#f0f921"
             ]
            ],
            "type": "histogram2dcontour"
           }
          ],
          "mesh3d": [
           {
            "colorbar": {
             "outlinewidth": 0,
             "ticks": ""
            },
            "type": "mesh3d"
           }
          ],
          "parcoords": [
           {
            "line": {
             "colorbar": {
              "outlinewidth": 0,
              "ticks": ""
             }
            },
            "type": "parcoords"
           }
          ],
          "pie": [
           {
            "automargin": true,
            "type": "pie"
           }
          ],
          "scatter": [
           {
            "fillpattern": {
             "fillmode": "overlay",
             "size": 10,
             "solidity": 0.2
            },
            "type": "scatter"
           }
          ],
          "scatter3d": [
           {
            "line": {
             "colorbar": {
              "outlinewidth": 0,
              "ticks": ""
             }
            },
            "marker": {
             "colorbar": {
              "outlinewidth": 0,
              "ticks": ""
             }
            },
            "type": "scatter3d"
           }
          ],
          "scattercarpet": [
           {
            "marker": {
             "colorbar": {
              "outlinewidth": 0,
              "ticks": ""
             }
            },
            "type": "scattercarpet"
           }
          ],
          "scattergeo": [
           {
            "marker": {
             "colorbar": {
              "outlinewidth": 0,
              "ticks": ""
             }
            },
            "type": "scattergeo"
           }
          ],
          "scattergl": [
           {
            "marker": {
             "colorbar": {
              "outlinewidth": 0,
              "ticks": ""
             }
            },
            "type": "scattergl"
           }
          ],
          "scattermapbox": [
           {
            "marker": {
             "colorbar": {
              "outlinewidth": 0,
              "ticks": ""
             }
            },
            "type": "scattermapbox"
           }
          ],
          "scatterpolar": [
           {
            "marker": {
             "colorbar": {
              "outlinewidth": 0,
              "ticks": ""
             }
            },
            "type": "scatterpolar"
           }
          ],
          "scatterpolargl": [
           {
            "marker": {
             "colorbar": {
              "outlinewidth": 0,
              "ticks": ""
             }
            },
            "type": "scatterpolargl"
           }
          ],
          "scatterternary": [
           {
            "marker": {
             "colorbar": {
              "outlinewidth": 0,
              "ticks": ""
             }
            },
            "type": "scatterternary"
           }
          ],
          "surface": [
           {
            "colorbar": {
             "outlinewidth": 0,
             "ticks": ""
            },
            "colorscale": [
             [
              0,
              "#0d0887"
             ],
             [
              0.1111111111111111,
              "#46039f"
             ],
             [
              0.2222222222222222,
              "#7201a8"
             ],
             [
              0.3333333333333333,
              "#9c179e"
             ],
             [
              0.4444444444444444,
              "#bd3786"
             ],
             [
              0.5555555555555556,
              "#d8576b"
             ],
             [
              0.6666666666666666,
              "#ed7953"
             ],
             [
              0.7777777777777778,
              "#fb9f3a"
             ],
             [
              0.8888888888888888,
              "#fdca26"
             ],
             [
              1,
              "#f0f921"
             ]
            ],
            "type": "surface"
           }
          ],
          "table": [
           {
            "cells": {
             "fill": {
              "color": "#EBF0F8"
             },
             "line": {
              "color": "white"
             }
            },
            "header": {
             "fill": {
              "color": "#C8D4E3"
             },
             "line": {
              "color": "white"
             }
            },
            "type": "table"
           }
          ]
         },
         "layout": {
          "annotationdefaults": {
           "arrowcolor": "#2a3f5f",
           "arrowhead": 0,
           "arrowwidth": 1
          },
          "autotypenumbers": "strict",
          "coloraxis": {
           "colorbar": {
            "outlinewidth": 0,
            "ticks": ""
           }
          },
          "colorscale": {
           "diverging": [
            [
             0,
             "#8e0152"
            ],
            [
             0.1,
             "#c51b7d"
            ],
            [
             0.2,
             "#de77ae"
            ],
            [
             0.3,
             "#f1b6da"
            ],
            [
             0.4,
             "#fde0ef"
            ],
            [
             0.5,
             "#f7f7f7"
            ],
            [
             0.6,
             "#e6f5d0"
            ],
            [
             0.7,
             "#b8e186"
            ],
            [
             0.8,
             "#7fbc41"
            ],
            [
             0.9,
             "#4d9221"
            ],
            [
             1,
             "#276419"
            ]
           ],
           "sequential": [
            [
             0,
             "#0d0887"
            ],
            [
             0.1111111111111111,
             "#46039f"
            ],
            [
             0.2222222222222222,
             "#7201a8"
            ],
            [
             0.3333333333333333,
             "#9c179e"
            ],
            [
             0.4444444444444444,
             "#bd3786"
            ],
            [
             0.5555555555555556,
             "#d8576b"
            ],
            [
             0.6666666666666666,
             "#ed7953"
            ],
            [
             0.7777777777777778,
             "#fb9f3a"
            ],
            [
             0.8888888888888888,
             "#fdca26"
            ],
            [
             1,
             "#f0f921"
            ]
           ],
           "sequentialminus": [
            [
             0,
             "#0d0887"
            ],
            [
             0.1111111111111111,
             "#46039f"
            ],
            [
             0.2222222222222222,
             "#7201a8"
            ],
            [
             0.3333333333333333,
             "#9c179e"
            ],
            [
             0.4444444444444444,
             "#bd3786"
            ],
            [
             0.5555555555555556,
             "#d8576b"
            ],
            [
             0.6666666666666666,
             "#ed7953"
            ],
            [
             0.7777777777777778,
             "#fb9f3a"
            ],
            [
             0.8888888888888888,
             "#fdca26"
            ],
            [
             1,
             "#f0f921"
            ]
           ]
          },
          "colorway": [
           "#636efa",
           "#EF553B",
           "#00cc96",
           "#ab63fa",
           "#FFA15A",
           "#19d3f3",
           "#FF6692",
           "#B6E880",
           "#FF97FF",
           "#FECB52"
          ],
          "font": {
           "color": "#2a3f5f"
          },
          "geo": {
           "bgcolor": "white",
           "lakecolor": "white",
           "landcolor": "#E5ECF6",
           "showlakes": true,
           "showland": true,
           "subunitcolor": "white"
          },
          "hoverlabel": {
           "align": "left"
          },
          "hovermode": "closest",
          "mapbox": {
           "style": "light"
          },
          "paper_bgcolor": "white",
          "plot_bgcolor": "#E5ECF6",
          "polar": {
           "angularaxis": {
            "gridcolor": "white",
            "linecolor": "white",
            "ticks": ""
           },
           "bgcolor": "#E5ECF6",
           "radialaxis": {
            "gridcolor": "white",
            "linecolor": "white",
            "ticks": ""
           }
          },
          "scene": {
           "xaxis": {
            "backgroundcolor": "#E5ECF6",
            "gridcolor": "white",
            "gridwidth": 2,
            "linecolor": "white",
            "showbackground": true,
            "ticks": "",
            "zerolinecolor": "white"
           },
           "yaxis": {
            "backgroundcolor": "#E5ECF6",
            "gridcolor": "white",
            "gridwidth": 2,
            "linecolor": "white",
            "showbackground": true,
            "ticks": "",
            "zerolinecolor": "white"
           },
           "zaxis": {
            "backgroundcolor": "#E5ECF6",
            "gridcolor": "white",
            "gridwidth": 2,
            "linecolor": "white",
            "showbackground": true,
            "ticks": "",
            "zerolinecolor": "white"
           }
          },
          "shapedefaults": {
           "line": {
            "color": "#2a3f5f"
           }
          },
          "ternary": {
           "aaxis": {
            "gridcolor": "white",
            "linecolor": "white",
            "ticks": ""
           },
           "baxis": {
            "gridcolor": "white",
            "linecolor": "white",
            "ticks": ""
           },
           "bgcolor": "#E5ECF6",
           "caxis": {
            "gridcolor": "white",
            "linecolor": "white",
            "ticks": ""
           }
          },
          "title": {
           "x": 0.05
          },
          "xaxis": {
           "automargin": true,
           "gridcolor": "white",
           "linecolor": "white",
           "ticks": "",
           "title": {
            "standoff": 15
           },
           "zerolinecolor": "white",
           "zerolinewidth": 2
          },
          "yaxis": {
           "automargin": true,
           "gridcolor": "white",
           "linecolor": "white",
           "ticks": "",
           "title": {
            "standoff": 15
           },
           "zerolinecolor": "white",
           "zerolinewidth": 2
          }
         }
        },
        "title": {
         "text": "Cutset conditioning (red) vs variable elimination (blue)"
        },
        "width": 800,
        "xaxis": {
         "anchor": "y",
         "domain": [
          0,
          1
         ],
         "nticks": 20,
         "range": [
          1,
          6
         ],
         "title": {
          "font": {
           "size": 12
          },
          "standoff": 7,
          "text": "Healthy FEV1 (L)"
         }
        },
        "xaxis2": {
         "anchor": "y2",
         "domain": [
          0,
          1
         ],
         "nticks": 20,
         "range": [
          0,
          90
         ],
         "title": {
          "font": {
           "size": 12
          },
          "standoff": 7,
          "text": "Airway resistance (%) day 1"
         }
        },
        "xaxis3": {
         "anchor": "y3",
         "domain": [
          0,
          1
         ],
         "nticks": 20,
         "range": [
          0,
          90
         ],
         "title": {
          "font": {
           "size": 12
          },
          "standoff": 7,
          "text": "Airway resistance (%) day 2"
         }
        },
        "xaxis4": {
         "anchor": "y4",
         "domain": [
          0,
          1
         ],
         "nticks": 20,
         "range": [
          0,
          90
         ],
         "title": {
          "font": {
           "size": 12
          },
          "standoff": 7,
          "text": "Airway resistance (%) day 3"
         }
        },
        "yaxis": {
         "anchor": "x",
         "domain": [
          0.8475,
          1
         ]
        },
        "yaxis2": {
         "anchor": "x2",
         "domain": [
          0.565,
          0.7174999999999999
         ]
        },
        "yaxis3": {
         "anchor": "x3",
         "domain": [
          0.2825,
          0.43499999999999994
         ]
        },
        "yaxis4": {
         "anchor": "x4",
         "domain": [
          0,
          0.1525
         ]
        }
       }
      }
     },
     "metadata": {},
     "output_type": "display_data"
    }
   ],
   "source": [
    "fig = make_subplots(rows=4, cols=1, vertical_spacing=0.13)\n",
    "# Add HFEV1\n",
    "ih.plot_histogram(\n",
    "    fig, HFEV1, res_ve[HFEV1.name].values, HFEV1.a, HFEV1.b, 1, 1, annot=False\n",
    ")\n",
    "ih.plot_histogram(\n",
    "    fig, AR, res_ve[AR_vars[0].name].values, AR.a, AR.b, 2, 1, annot=False\n",
    ")\n",
    "ih.plot_histogram(\n",
    "    fig, AR, res_ve[AR_vars[1].name].values, AR.a, AR.b, 3, 1, annot=False\n",
    ")\n",
    "ih.plot_histogram(\n",
    "    fig, AR, res_ve[AR_vars[2].name].values, AR.a, AR.b, 4, 1, annot=False\n",
    ")\n",
    "\n",
    "# Add HFEV1\n",
    "ih.plot_histogram(fig, HFEV1, p_M_given_D, HFEV1.a, HFEV1.b, 1, 1, title=HFEV1.name)\n",
    "ih.plot_histogram(\n",
    "    fig,\n",
    "    AR,\n",
    "    AR_dist_given_M_matrix[0, :],\n",
    "    AR.a,\n",
    "    AR.b,\n",
    "    2,\n",
    "    1,\n",
    "    title=f\"{AR.name} day 1\",\n",
    "    annot=False,\n",
    ")\n",
    "ih.plot_histogram(\n",
    "    fig,\n",
    "    AR,\n",
    "    AR_dist_given_M_matrix[1, :],\n",
    "    AR.a,\n",
    "    AR.b,\n",
    "    3,\n",
    "    1,\n",
    "    title=f\"{AR.name} day 2\",\n",
    "    annot=False,\n",
    ")\n",
    "ih.plot_histogram(\n",
    "    fig,\n",
    "    AR,\n",
    "    AR_dist_given_M_matrix[2, :],\n",
    "    AR.a,\n",
    "    AR.b,\n",
    "    4,\n",
    "    1,\n",
    "    title=f\"{AR.name} day 3\",\n",
    "    annot=False,\n",
    ")\n",
    "\n",
    "for i in range(4):\n",
    "    fig.data[i].marker.color = \"#636EFA\"\n",
    "    fig.data[i + 4].marker.color = \"#EF553B\"\n",
    "# Reduce x axis title font size\n",
    "fig.update_xaxes(title_font=dict(size=12), title_standoff=7)\n",
    "\n",
    "# Hide legend\n",
    "title = \"Cutset conditioning (red) vs variable elimination (blue)\"\n",
    "fig.update_layout(showlegend=False, height=550, width=800, title=title)\n",
    "fig.show()"
   ]
  },
  {
   "cell_type": "markdown",
   "metadata": {},
   "source": [
    "#### Validate the custet cond works for one day input"
   ]
  },
  {
   "cell_type": "code",
   "execution_count": 18,
   "metadata": {},
   "outputs": [
    {
     "data": {
      "application/vnd.plotly.v1+json": {
       "config": {
        "plotlyServerURL": "https://plot.ly"
       },
       "data": [
        {
         "histfunc": "sum",
         "marker": {
          "color": "#636EFA"
         },
         "type": "histogram",
         "x": [
          1,
          2,
          3,
          4,
          5
         ],
         "xaxis": "x",
         "xbins": {
          "end": 6,
          "size": 1,
          "start": 1
         },
         "y": [
          1.572413285430448e-7,
          0.004086936454312153,
          0.4786358929028301,
          0.5129944732430978,
          0.004282540158431324
         ],
         "yaxis": "y"
        },
        {
         "histfunc": "sum",
         "marker": {
          "color": "#636EFA"
         },
         "type": "histogram",
         "x": [
          0,
          10,
          20,
          30,
          40,
          50,
          60,
          70,
          80
         ],
         "xaxis": "x2",
         "xbins": {
          "end": 90,
          "size": 10,
          "start": 0
         },
         "y": [
          0.0007800289359517135,
          0.007447845378421897,
          0.03847823674148331,
          0.15069118173106943,
          0.2469557986683328,
          0.13789413180005972,
          0.14401914906003108,
          0.1629629233389998,
          0.11077070434565031
         ],
         "yaxis": "y2"
        },
        {
         "histfunc": "sum",
         "marker": {
          "color": "#EF553B"
         },
         "type": "histogram",
         "x": [
          1,
          2,
          3,
          4,
          5
         ],
         "xaxis": "x",
         "xbins": {
          "end": 6,
          "size": 1,
          "start": 1
         },
         "y": [
          1.5724132854709744e-7,
          0.004086936454448497,
          0.4786358929015573,
          0.5129944732439999,
          0.004282540158665702
         ],
         "yaxis": "y"
        },
        {
         "histfunc": "sum",
         "marker": {
          "color": "#EF553B"
         },
         "type": "histogram",
         "x": [
          0,
          10,
          20,
          30,
          40,
          50,
          60,
          70,
          80
         ],
         "xaxis": "x2",
         "xbins": {
          "end": 90,
          "size": 10,
          "start": 0
         },
         "y": [
          0.0007800289359166437,
          0.007447845378081171,
          0.038478236739707065,
          0.15069118172558293,
          0.2469557986645204,
          0.13789413180040194,
          0.14401914906526633,
          0.16296292333704082,
          0.1107707043534827
         ],
         "yaxis": "y2"
        }
       ],
       "layout": {
        "annotations": [
         {
          "font": {
           "size": 8
          },
          "showarrow": false,
          "text": "4.02",
          "x": 4.017472302624225,
          "xref": "x",
          "y": 0.5642939205684,
          "yref": "y"
         }
        ],
        "height": 550,
        "showlegend": false,
        "template": {
         "data": {
          "bar": [
           {
            "error_x": {
             "color": "#2a3f5f"
            },
            "error_y": {
             "color": "#2a3f5f"
            },
            "marker": {
             "line": {
              "color": "#E5ECF6",
              "width": 0.5
             },
             "pattern": {
              "fillmode": "overlay",
              "size": 10,
              "solidity": 0.2
             }
            },
            "type": "bar"
           }
          ],
          "barpolar": [
           {
            "marker": {
             "line": {
              "color": "#E5ECF6",
              "width": 0.5
             },
             "pattern": {
              "fillmode": "overlay",
              "size": 10,
              "solidity": 0.2
             }
            },
            "type": "barpolar"
           }
          ],
          "carpet": [
           {
            "aaxis": {
             "endlinecolor": "#2a3f5f",
             "gridcolor": "white",
             "linecolor": "white",
             "minorgridcolor": "white",
             "startlinecolor": "#2a3f5f"
            },
            "baxis": {
             "endlinecolor": "#2a3f5f",
             "gridcolor": "white",
             "linecolor": "white",
             "minorgridcolor": "white",
             "startlinecolor": "#2a3f5f"
            },
            "type": "carpet"
           }
          ],
          "choropleth": [
           {
            "colorbar": {
             "outlinewidth": 0,
             "ticks": ""
            },
            "type": "choropleth"
           }
          ],
          "contour": [
           {
            "colorbar": {
             "outlinewidth": 0,
             "ticks": ""
            },
            "colorscale": [
             [
              0,
              "#0d0887"
             ],
             [
              0.1111111111111111,
              "#46039f"
             ],
             [
              0.2222222222222222,
              "#7201a8"
             ],
             [
              0.3333333333333333,
              "#9c179e"
             ],
             [
              0.4444444444444444,
              "#bd3786"
             ],
             [
              0.5555555555555556,
              "#d8576b"
             ],
             [
              0.6666666666666666,
              "#ed7953"
             ],
             [
              0.7777777777777778,
              "#fb9f3a"
             ],
             [
              0.8888888888888888,
              "#fdca26"
             ],
             [
              1,
              "#f0f921"
             ]
            ],
            "type": "contour"
           }
          ],
          "contourcarpet": [
           {
            "colorbar": {
             "outlinewidth": 0,
             "ticks": ""
            },
            "type": "contourcarpet"
           }
          ],
          "heatmap": [
           {
            "colorbar": {
             "outlinewidth": 0,
             "ticks": ""
            },
            "colorscale": [
             [
              0,
              "#0d0887"
             ],
             [
              0.1111111111111111,
              "#46039f"
             ],
             [
              0.2222222222222222,
              "#7201a8"
             ],
             [
              0.3333333333333333,
              "#9c179e"
             ],
             [
              0.4444444444444444,
              "#bd3786"
             ],
             [
              0.5555555555555556,
              "#d8576b"
             ],
             [
              0.6666666666666666,
              "#ed7953"
             ],
             [
              0.7777777777777778,
              "#fb9f3a"
             ],
             [
              0.8888888888888888,
              "#fdca26"
             ],
             [
              1,
              "#f0f921"
             ]
            ],
            "type": "heatmap"
           }
          ],
          "heatmapgl": [
           {
            "colorbar": {
             "outlinewidth": 0,
             "ticks": ""
            },
            "colorscale": [
             [
              0,
              "#0d0887"
             ],
             [
              0.1111111111111111,
              "#46039f"
             ],
             [
              0.2222222222222222,
              "#7201a8"
             ],
             [
              0.3333333333333333,
              "#9c179e"
             ],
             [
              0.4444444444444444,
              "#bd3786"
             ],
             [
              0.5555555555555556,
              "#d8576b"
             ],
             [
              0.6666666666666666,
              "#ed7953"
             ],
             [
              0.7777777777777778,
              "#fb9f3a"
             ],
             [
              0.8888888888888888,
              "#fdca26"
             ],
             [
              1,
              "#f0f921"
             ]
            ],
            "type": "heatmapgl"
           }
          ],
          "histogram": [
           {
            "marker": {
             "pattern": {
              "fillmode": "overlay",
              "size": 10,
              "solidity": 0.2
             }
            },
            "type": "histogram"
           }
          ],
          "histogram2d": [
           {
            "colorbar": {
             "outlinewidth": 0,
             "ticks": ""
            },
            "colorscale": [
             [
              0,
              "#0d0887"
             ],
             [
              0.1111111111111111,
              "#46039f"
             ],
             [
              0.2222222222222222,
              "#7201a8"
             ],
             [
              0.3333333333333333,
              "#9c179e"
             ],
             [
              0.4444444444444444,
              "#bd3786"
             ],
             [
              0.5555555555555556,
              "#d8576b"
             ],
             [
              0.6666666666666666,
              "#ed7953"
             ],
             [
              0.7777777777777778,
              "#fb9f3a"
             ],
             [
              0.8888888888888888,
              "#fdca26"
             ],
             [
              1,
              "#f0f921"
             ]
            ],
            "type": "histogram2d"
           }
          ],
          "histogram2dcontour": [
           {
            "colorbar": {
             "outlinewidth": 0,
             "ticks": ""
            },
            "colorscale": [
             [
              0,
              "#0d0887"
             ],
             [
              0.1111111111111111,
              "#46039f"
             ],
             [
              0.2222222222222222,
              "#7201a8"
             ],
             [
              0.3333333333333333,
              "#9c179e"
             ],
             [
              0.4444444444444444,
              "#bd3786"
             ],
             [
              0.5555555555555556,
              "#d8576b"
             ],
             [
              0.6666666666666666,
              "#ed7953"
             ],
             [
              0.7777777777777778,
              "#fb9f3a"
             ],
             [
              0.8888888888888888,
              "#fdca26"
             ],
             [
              1,
              "#f0f921"
             ]
            ],
            "type": "histogram2dcontour"
           }
          ],
          "mesh3d": [
           {
            "colorbar": {
             "outlinewidth": 0,
             "ticks": ""
            },
            "type": "mesh3d"
           }
          ],
          "parcoords": [
           {
            "line": {
             "colorbar": {
              "outlinewidth": 0,
              "ticks": ""
             }
            },
            "type": "parcoords"
           }
          ],
          "pie": [
           {
            "automargin": true,
            "type": "pie"
           }
          ],
          "scatter": [
           {
            "fillpattern": {
             "fillmode": "overlay",
             "size": 10,
             "solidity": 0.2
            },
            "type": "scatter"
           }
          ],
          "scatter3d": [
           {
            "line": {
             "colorbar": {
              "outlinewidth": 0,
              "ticks": ""
             }
            },
            "marker": {
             "colorbar": {
              "outlinewidth": 0,
              "ticks": ""
             }
            },
            "type": "scatter3d"
           }
          ],
          "scattercarpet": [
           {
            "marker": {
             "colorbar": {
              "outlinewidth": 0,
              "ticks": ""
             }
            },
            "type": "scattercarpet"
           }
          ],
          "scattergeo": [
           {
            "marker": {
             "colorbar": {
              "outlinewidth": 0,
              "ticks": ""
             }
            },
            "type": "scattergeo"
           }
          ],
          "scattergl": [
           {
            "marker": {
             "colorbar": {
              "outlinewidth": 0,
              "ticks": ""
             }
            },
            "type": "scattergl"
           }
          ],
          "scattermapbox": [
           {
            "marker": {
             "colorbar": {
              "outlinewidth": 0,
              "ticks": ""
             }
            },
            "type": "scattermapbox"
           }
          ],
          "scatterpolar": [
           {
            "marker": {
             "colorbar": {
              "outlinewidth": 0,
              "ticks": ""
             }
            },
            "type": "scatterpolar"
           }
          ],
          "scatterpolargl": [
           {
            "marker": {
             "colorbar": {
              "outlinewidth": 0,
              "ticks": ""
             }
            },
            "type": "scatterpolargl"
           }
          ],
          "scatterternary": [
           {
            "marker": {
             "colorbar": {
              "outlinewidth": 0,
              "ticks": ""
             }
            },
            "type": "scatterternary"
           }
          ],
          "surface": [
           {
            "colorbar": {
             "outlinewidth": 0,
             "ticks": ""
            },
            "colorscale": [
             [
              0,
              "#0d0887"
             ],
             [
              0.1111111111111111,
              "#46039f"
             ],
             [
              0.2222222222222222,
              "#7201a8"
             ],
             [
              0.3333333333333333,
              "#9c179e"
             ],
             [
              0.4444444444444444,
              "#bd3786"
             ],
             [
              0.5555555555555556,
              "#d8576b"
             ],
             [
              0.6666666666666666,
              "#ed7953"
             ],
             [
              0.7777777777777778,
              "#fb9f3a"
             ],
             [
              0.8888888888888888,
              "#fdca26"
             ],
             [
              1,
              "#f0f921"
             ]
            ],
            "type": "surface"
           }
          ],
          "table": [
           {
            "cells": {
             "fill": {
              "color": "#EBF0F8"
             },
             "line": {
              "color": "white"
             }
            },
            "header": {
             "fill": {
              "color": "#C8D4E3"
             },
             "line": {
              "color": "white"
             }
            },
            "type": "table"
           }
          ]
         },
         "layout": {
          "annotationdefaults": {
           "arrowcolor": "#2a3f5f",
           "arrowhead": 0,
           "arrowwidth": 1
          },
          "autotypenumbers": "strict",
          "coloraxis": {
           "colorbar": {
            "outlinewidth": 0,
            "ticks": ""
           }
          },
          "colorscale": {
           "diverging": [
            [
             0,
             "#8e0152"
            ],
            [
             0.1,
             "#c51b7d"
            ],
            [
             0.2,
             "#de77ae"
            ],
            [
             0.3,
             "#f1b6da"
            ],
            [
             0.4,
             "#fde0ef"
            ],
            [
             0.5,
             "#f7f7f7"
            ],
            [
             0.6,
             "#e6f5d0"
            ],
            [
             0.7,
             "#b8e186"
            ],
            [
             0.8,
             "#7fbc41"
            ],
            [
             0.9,
             "#4d9221"
            ],
            [
             1,
             "#276419"
            ]
           ],
           "sequential": [
            [
             0,
             "#0d0887"
            ],
            [
             0.1111111111111111,
             "#46039f"
            ],
            [
             0.2222222222222222,
             "#7201a8"
            ],
            [
             0.3333333333333333,
             "#9c179e"
            ],
            [
             0.4444444444444444,
             "#bd3786"
            ],
            [
             0.5555555555555556,
             "#d8576b"
            ],
            [
             0.6666666666666666,
             "#ed7953"
            ],
            [
             0.7777777777777778,
             "#fb9f3a"
            ],
            [
             0.8888888888888888,
             "#fdca26"
            ],
            [
             1,
             "#f0f921"
            ]
           ],
           "sequentialminus": [
            [
             0,
             "#0d0887"
            ],
            [
             0.1111111111111111,
             "#46039f"
            ],
            [
             0.2222222222222222,
             "#7201a8"
            ],
            [
             0.3333333333333333,
             "#9c179e"
            ],
            [
             0.4444444444444444,
             "#bd3786"
            ],
            [
             0.5555555555555556,
             "#d8576b"
            ],
            [
             0.6666666666666666,
             "#ed7953"
            ],
            [
             0.7777777777777778,
             "#fb9f3a"
            ],
            [
             0.8888888888888888,
             "#fdca26"
            ],
            [
             1,
             "#f0f921"
            ]
           ]
          },
          "colorway": [
           "#636efa",
           "#EF553B",
           "#00cc96",
           "#ab63fa",
           "#FFA15A",
           "#19d3f3",
           "#FF6692",
           "#B6E880",
           "#FF97FF",
           "#FECB52"
          ],
          "font": {
           "color": "#2a3f5f"
          },
          "geo": {
           "bgcolor": "white",
           "lakecolor": "white",
           "landcolor": "#E5ECF6",
           "showlakes": true,
           "showland": true,
           "subunitcolor": "white"
          },
          "hoverlabel": {
           "align": "left"
          },
          "hovermode": "closest",
          "mapbox": {
           "style": "light"
          },
          "paper_bgcolor": "white",
          "plot_bgcolor": "#E5ECF6",
          "polar": {
           "angularaxis": {
            "gridcolor": "white",
            "linecolor": "white",
            "ticks": ""
           },
           "bgcolor": "#E5ECF6",
           "radialaxis": {
            "gridcolor": "white",
            "linecolor": "white",
            "ticks": ""
           }
          },
          "scene": {
           "xaxis": {
            "backgroundcolor": "#E5ECF6",
            "gridcolor": "white",
            "gridwidth": 2,
            "linecolor": "white",
            "showbackground": true,
            "ticks": "",
            "zerolinecolor": "white"
           },
           "yaxis": {
            "backgroundcolor": "#E5ECF6",
            "gridcolor": "white",
            "gridwidth": 2,
            "linecolor": "white",
            "showbackground": true,
            "ticks": "",
            "zerolinecolor": "white"
           },
           "zaxis": {
            "backgroundcolor": "#E5ECF6",
            "gridcolor": "white",
            "gridwidth": 2,
            "linecolor": "white",
            "showbackground": true,
            "ticks": "",
            "zerolinecolor": "white"
           }
          },
          "shapedefaults": {
           "line": {
            "color": "#2a3f5f"
           }
          },
          "ternary": {
           "aaxis": {
            "gridcolor": "white",
            "linecolor": "white",
            "ticks": ""
           },
           "baxis": {
            "gridcolor": "white",
            "linecolor": "white",
            "ticks": ""
           },
           "bgcolor": "#E5ECF6",
           "caxis": {
            "gridcolor": "white",
            "linecolor": "white",
            "ticks": ""
           }
          },
          "title": {
           "x": 0.05
          },
          "xaxis": {
           "automargin": true,
           "gridcolor": "white",
           "linecolor": "white",
           "ticks": "",
           "title": {
            "standoff": 15
           },
           "zerolinecolor": "white",
           "zerolinewidth": 2
          },
          "yaxis": {
           "automargin": true,
           "gridcolor": "white",
           "linecolor": "white",
           "ticks": "",
           "title": {
            "standoff": 15
           },
           "zerolinecolor": "white",
           "zerolinewidth": 2
          }
         }
        },
        "title": {
         "text": "Cutset conditioning (red) vs variable elimination (blue)"
        },
        "width": 800,
        "xaxis": {
         "anchor": "y",
         "domain": [
          0,
          1
         ],
         "nticks": 20,
         "range": [
          1,
          6
         ],
         "title": {
          "font": {
           "size": 12
          },
          "standoff": 7,
          "text": "Healthy FEV1 (L)"
         }
        },
        "xaxis2": {
         "anchor": "y2",
         "domain": [
          0,
          1
         ],
         "nticks": 20,
         "range": [
          0,
          90
         ],
         "title": {
          "font": {
           "size": 12
          },
          "standoff": 7,
          "text": "Airway resistance (%) day 1"
         }
        },
        "yaxis": {
         "anchor": "x",
         "domain": [
          0.565,
          1
         ]
        },
        "yaxis2": {
         "anchor": "x2",
         "domain": [
          0,
          0.435
         ]
        }
       }
      }
     },
     "metadata": {},
     "output_type": "display_data"
    }
   ],
   "source": [
    "# ONE DAY\n",
    "fig = make_subplots(rows=2, cols=1, vertical_spacing=0.13)\n",
    "# Add HFEV1\n",
    "ih.plot_histogram(\n",
    "    fig, HFEV1, res_ve[HFEV1.name].values, HFEV1.a, HFEV1.b, 1, 1, annot=False\n",
    ")\n",
    "ih.plot_histogram(\n",
    "    fig, AR, res_ve[AR_vars[0].name].values, AR.a, AR.b, 2, 1, annot=False\n",
    ")\n",
    "\n",
    "# Add HFEV1\n",
    "ih.plot_histogram(fig, HFEV1, p_M_given_D, HFEV1.a, HFEV1.b, 1, 1, title=HFEV1.name)\n",
    "ih.plot_histogram(\n",
    "    fig,\n",
    "    AR,\n",
    "    AR_dist_given_M_matrix[0, :],\n",
    "    AR.a,\n",
    "    AR.b,\n",
    "    2,\n",
    "    1,\n",
    "    title=f\"{AR.name} day 1\",\n",
    "    annot=False,\n",
    ")\n",
    "\n",
    "for i in range(2):\n",
    "    fig.data[i].marker.color = \"#636EFA\"\n",
    "    fig.data[i + 2].marker.color = \"#EF553B\"\n",
    "# Reduce x axis title font size\n",
    "fig.update_xaxes(title_font=dict(size=12), title_standoff=7)\n",
    "\n",
    "# Hide legend\n",
    "title = \"Cutset conditioning (red) vs variable elimination (blue)\"\n",
    "fig.update_layout(showlegend=False, height=550, width=800, title=title)\n",
    "fig.show()"
   ]
  },
  {
   "cell_type": "markdown",
   "metadata": {},
   "source": [
    "#### Validate the point mass HFEV1 prior works"
   ]
  },
  {
   "cell_type": "code",
   "execution_count": null,
   "metadata": {},
   "outputs": [],
   "source": [
    "# Updated var_builders with point mass HFEV1\n",
    "\n",
    "# HFEV1 = SharedVariableNode(\"Healthy FEV1 (L)\", 1, 6, 1, prior=hfev1_prior)\n",
    "# HFEV1_point_mass_prior = np.zeros(HFEV1.card)\n",
    "# idx_three_point_five = HFEV1.get_bin_for_value(3.5)[1]\n",
    "# HFEV1_point_mass_prior[idx_three_point_five] = 1\n",
    "# HFEV1.cpt = HFEV1.set_prior({\"type\": \"custom\", \"p\": HFEV1_point_mass_prior})"
   ]
  },
  {
   "cell_type": "code",
   "execution_count": 14,
   "metadata": {},
   "outputs": [
    {
     "data": {
      "application/vnd.plotly.v1+json": {
       "config": {
        "plotlyServerURL": "https://plot.ly"
       },
       "data": [
        {
         "histfunc": "sum",
         "marker": {
          "color": "#636EFA"
         },
         "type": "histogram",
         "x": [
          1,
          2,
          3,
          4,
          5
         ],
         "xaxis": "x",
         "xbins": {
          "end": 6,
          "size": 1,
          "start": 1
         },
         "y": [
          0,
          0,
          1,
          0,
          0
         ],
         "yaxis": "y"
        },
        {
         "histfunc": "sum",
         "marker": {
          "color": "#636EFA"
         },
         "type": "histogram",
         "x": [
          0,
          10,
          20,
          30,
          40,
          50,
          60,
          70,
          80
         ],
         "xaxis": "x2",
         "xbins": {
          "end": 90,
          "size": 10,
          "start": 0
         },
         "y": [
          0.001425999158042748,
          0.013493043347262293,
          0.06542684719476098,
          0.1703577078835432,
          0.2863114553337746,
          0.1421579091662986,
          0.11973463849747498,
          0.10790092399183174,
          0.0931914754270108
         ],
         "yaxis": "y2"
        },
        {
         "histfunc": "sum",
         "marker": {
          "color": "#EF553B"
         },
         "type": "histogram",
         "x": [
          1,
          2,
          3,
          4,
          5
         ],
         "xaxis": "x",
         "xbins": {
          "end": 6,
          "size": 1,
          "start": 1
         },
         "y": [
          0,
          0,
          1,
          0,
          0
         ],
         "yaxis": "y"
        },
        {
         "histfunc": "sum",
         "marker": {
          "color": "#EF553B"
         },
         "type": "histogram",
         "x": [
          0,
          10,
          20,
          30,
          40,
          50,
          60,
          70,
          80
         ],
         "xaxis": "x2",
         "xbins": {
          "end": 90,
          "size": 10,
          "start": 0
         },
         "y": [
          0.0014259991579810135,
          0.013493043346678153,
          0.06542684719192852,
          0.1703577078780533,
          0.28631145533054886,
          0.14215790916728677,
          0.11973463850240836,
          0.10790092399107887,
          0.09319147543403629
         ],
         "yaxis": "y2"
        }
       ],
       "layout": {
        "annotations": [
         {
          "font": {
           "size": 8
          },
          "showarrow": false,
          "text": "3.50",
          "x": 3.5,
          "xref": "x",
          "y": 1.1,
          "yref": "y"
         }
        ],
        "height": 550,
        "showlegend": false,
        "template": {
         "data": {
          "bar": [
           {
            "error_x": {
             "color": "#2a3f5f"
            },
            "error_y": {
             "color": "#2a3f5f"
            },
            "marker": {
             "line": {
              "color": "#E5ECF6",
              "width": 0.5
             },
             "pattern": {
              "fillmode": "overlay",
              "size": 10,
              "solidity": 0.2
             }
            },
            "type": "bar"
           }
          ],
          "barpolar": [
           {
            "marker": {
             "line": {
              "color": "#E5ECF6",
              "width": 0.5
             },
             "pattern": {
              "fillmode": "overlay",
              "size": 10,
              "solidity": 0.2
             }
            },
            "type": "barpolar"
           }
          ],
          "carpet": [
           {
            "aaxis": {
             "endlinecolor": "#2a3f5f",
             "gridcolor": "white",
             "linecolor": "white",
             "minorgridcolor": "white",
             "startlinecolor": "#2a3f5f"
            },
            "baxis": {
             "endlinecolor": "#2a3f5f",
             "gridcolor": "white",
             "linecolor": "white",
             "minorgridcolor": "white",
             "startlinecolor": "#2a3f5f"
            },
            "type": "carpet"
           }
          ],
          "choropleth": [
           {
            "colorbar": {
             "outlinewidth": 0,
             "ticks": ""
            },
            "type": "choropleth"
           }
          ],
          "contour": [
           {
            "colorbar": {
             "outlinewidth": 0,
             "ticks": ""
            },
            "colorscale": [
             [
              0,
              "#0d0887"
             ],
             [
              0.1111111111111111,
              "#46039f"
             ],
             [
              0.2222222222222222,
              "#7201a8"
             ],
             [
              0.3333333333333333,
              "#9c179e"
             ],
             [
              0.4444444444444444,
              "#bd3786"
             ],
             [
              0.5555555555555556,
              "#d8576b"
             ],
             [
              0.6666666666666666,
              "#ed7953"
             ],
             [
              0.7777777777777778,
              "#fb9f3a"
             ],
             [
              0.8888888888888888,
              "#fdca26"
             ],
             [
              1,
              "#f0f921"
             ]
            ],
            "type": "contour"
           }
          ],
          "contourcarpet": [
           {
            "colorbar": {
             "outlinewidth": 0,
             "ticks": ""
            },
            "type": "contourcarpet"
           }
          ],
          "heatmap": [
           {
            "colorbar": {
             "outlinewidth": 0,
             "ticks": ""
            },
            "colorscale": [
             [
              0,
              "#0d0887"
             ],
             [
              0.1111111111111111,
              "#46039f"
             ],
             [
              0.2222222222222222,
              "#7201a8"
             ],
             [
              0.3333333333333333,
              "#9c179e"
             ],
             [
              0.4444444444444444,
              "#bd3786"
             ],
             [
              0.5555555555555556,
              "#d8576b"
             ],
             [
              0.6666666666666666,
              "#ed7953"
             ],
             [
              0.7777777777777778,
              "#fb9f3a"
             ],
             [
              0.8888888888888888,
              "#fdca26"
             ],
             [
              1,
              "#f0f921"
             ]
            ],
            "type": "heatmap"
           }
          ],
          "heatmapgl": [
           {
            "colorbar": {
             "outlinewidth": 0,
             "ticks": ""
            },
            "colorscale": [
             [
              0,
              "#0d0887"
             ],
             [
              0.1111111111111111,
              "#46039f"
             ],
             [
              0.2222222222222222,
              "#7201a8"
             ],
             [
              0.3333333333333333,
              "#9c179e"
             ],
             [
              0.4444444444444444,
              "#bd3786"
             ],
             [
              0.5555555555555556,
              "#d8576b"
             ],
             [
              0.6666666666666666,
              "#ed7953"
             ],
             [
              0.7777777777777778,
              "#fb9f3a"
             ],
             [
              0.8888888888888888,
              "#fdca26"
             ],
             [
              1,
              "#f0f921"
             ]
            ],
            "type": "heatmapgl"
           }
          ],
          "histogram": [
           {
            "marker": {
             "pattern": {
              "fillmode": "overlay",
              "size": 10,
              "solidity": 0.2
             }
            },
            "type": "histogram"
           }
          ],
          "histogram2d": [
           {
            "colorbar": {
             "outlinewidth": 0,
             "ticks": ""
            },
            "colorscale": [
             [
              0,
              "#0d0887"
             ],
             [
              0.1111111111111111,
              "#46039f"
             ],
             [
              0.2222222222222222,
              "#7201a8"
             ],
             [
              0.3333333333333333,
              "#9c179e"
             ],
             [
              0.4444444444444444,
              "#bd3786"
             ],
             [
              0.5555555555555556,
              "#d8576b"
             ],
             [
              0.6666666666666666,
              "#ed7953"
             ],
             [
              0.7777777777777778,
              "#fb9f3a"
             ],
             [
              0.8888888888888888,
              "#fdca26"
             ],
             [
              1,
              "#f0f921"
             ]
            ],
            "type": "histogram2d"
           }
          ],
          "histogram2dcontour": [
           {
            "colorbar": {
             "outlinewidth": 0,
             "ticks": ""
            },
            "colorscale": [
             [
              0,
              "#0d0887"
             ],
             [
              0.1111111111111111,
              "#46039f"
             ],
             [
              0.2222222222222222,
              "#7201a8"
             ],
             [
              0.3333333333333333,
              "#9c179e"
             ],
             [
              0.4444444444444444,
              "#bd3786"
             ],
             [
              0.5555555555555556,
              "#d8576b"
             ],
             [
              0.6666666666666666,
              "#ed7953"
             ],
             [
              0.7777777777777778,
              "#fb9f3a"
             ],
             [
              0.8888888888888888,
              "#fdca26"
             ],
             [
              1,
              "#f0f921"
             ]
            ],
            "type": "histogram2dcontour"
           }
          ],
          "mesh3d": [
           {
            "colorbar": {
             "outlinewidth": 0,
             "ticks": ""
            },
            "type": "mesh3d"
           }
          ],
          "parcoords": [
           {
            "line": {
             "colorbar": {
              "outlinewidth": 0,
              "ticks": ""
             }
            },
            "type": "parcoords"
           }
          ],
          "pie": [
           {
            "automargin": true,
            "type": "pie"
           }
          ],
          "scatter": [
           {
            "fillpattern": {
             "fillmode": "overlay",
             "size": 10,
             "solidity": 0.2
            },
            "type": "scatter"
           }
          ],
          "scatter3d": [
           {
            "line": {
             "colorbar": {
              "outlinewidth": 0,
              "ticks": ""
             }
            },
            "marker": {
             "colorbar": {
              "outlinewidth": 0,
              "ticks": ""
             }
            },
            "type": "scatter3d"
           }
          ],
          "scattercarpet": [
           {
            "marker": {
             "colorbar": {
              "outlinewidth": 0,
              "ticks": ""
             }
            },
            "type": "scattercarpet"
           }
          ],
          "scattergeo": [
           {
            "marker": {
             "colorbar": {
              "outlinewidth": 0,
              "ticks": ""
             }
            },
            "type": "scattergeo"
           }
          ],
          "scattergl": [
           {
            "marker": {
             "colorbar": {
              "outlinewidth": 0,
              "ticks": ""
             }
            },
            "type": "scattergl"
           }
          ],
          "scattermapbox": [
           {
            "marker": {
             "colorbar": {
              "outlinewidth": 0,
              "ticks": ""
             }
            },
            "type": "scattermapbox"
           }
          ],
          "scatterpolar": [
           {
            "marker": {
             "colorbar": {
              "outlinewidth": 0,
              "ticks": ""
             }
            },
            "type": "scatterpolar"
           }
          ],
          "scatterpolargl": [
           {
            "marker": {
             "colorbar": {
              "outlinewidth": 0,
              "ticks": ""
             }
            },
            "type": "scatterpolargl"
           }
          ],
          "scatterternary": [
           {
            "marker": {
             "colorbar": {
              "outlinewidth": 0,
              "ticks": ""
             }
            },
            "type": "scatterternary"
           }
          ],
          "surface": [
           {
            "colorbar": {
             "outlinewidth": 0,
             "ticks": ""
            },
            "colorscale": [
             [
              0,
              "#0d0887"
             ],
             [
              0.1111111111111111,
              "#46039f"
             ],
             [
              0.2222222222222222,
              "#7201a8"
             ],
             [
              0.3333333333333333,
              "#9c179e"
             ],
             [
              0.4444444444444444,
              "#bd3786"
             ],
             [
              0.5555555555555556,
              "#d8576b"
             ],
             [
              0.6666666666666666,
              "#ed7953"
             ],
             [
              0.7777777777777778,
              "#fb9f3a"
             ],
             [
              0.8888888888888888,
              "#fdca26"
             ],
             [
              1,
              "#f0f921"
             ]
            ],
            "type": "surface"
           }
          ],
          "table": [
           {
            "cells": {
             "fill": {
              "color": "#EBF0F8"
             },
             "line": {
              "color": "white"
             }
            },
            "header": {
             "fill": {
              "color": "#C8D4E3"
             },
             "line": {
              "color": "white"
             }
            },
            "type": "table"
           }
          ]
         },
         "layout": {
          "annotationdefaults": {
           "arrowcolor": "#2a3f5f",
           "arrowhead": 0,
           "arrowwidth": 1
          },
          "autotypenumbers": "strict",
          "coloraxis": {
           "colorbar": {
            "outlinewidth": 0,
            "ticks": ""
           }
          },
          "colorscale": {
           "diverging": [
            [
             0,
             "#8e0152"
            ],
            [
             0.1,
             "#c51b7d"
            ],
            [
             0.2,
             "#de77ae"
            ],
            [
             0.3,
             "#f1b6da"
            ],
            [
             0.4,
             "#fde0ef"
            ],
            [
             0.5,
             "#f7f7f7"
            ],
            [
             0.6,
             "#e6f5d0"
            ],
            [
             0.7,
             "#b8e186"
            ],
            [
             0.8,
             "#7fbc41"
            ],
            [
             0.9,
             "#4d9221"
            ],
            [
             1,
             "#276419"
            ]
           ],
           "sequential": [
            [
             0,
             "#0d0887"
            ],
            [
             0.1111111111111111,
             "#46039f"
            ],
            [
             0.2222222222222222,
             "#7201a8"
            ],
            [
             0.3333333333333333,
             "#9c179e"
            ],
            [
             0.4444444444444444,
             "#bd3786"
            ],
            [
             0.5555555555555556,
             "#d8576b"
            ],
            [
             0.6666666666666666,
             "#ed7953"
            ],
            [
             0.7777777777777778,
             "#fb9f3a"
            ],
            [
             0.8888888888888888,
             "#fdca26"
            ],
            [
             1,
             "#f0f921"
            ]
           ],
           "sequentialminus": [
            [
             0,
             "#0d0887"
            ],
            [
             0.1111111111111111,
             "#46039f"
            ],
            [
             0.2222222222222222,
             "#7201a8"
            ],
            [
             0.3333333333333333,
             "#9c179e"
            ],
            [
             0.4444444444444444,
             "#bd3786"
            ],
            [
             0.5555555555555556,
             "#d8576b"
            ],
            [
             0.6666666666666666,
             "#ed7953"
            ],
            [
             0.7777777777777778,
             "#fb9f3a"
            ],
            [
             0.8888888888888888,
             "#fdca26"
            ],
            [
             1,
             "#f0f921"
            ]
           ]
          },
          "colorway": [
           "#636efa",
           "#EF553B",
           "#00cc96",
           "#ab63fa",
           "#FFA15A",
           "#19d3f3",
           "#FF6692",
           "#B6E880",
           "#FF97FF",
           "#FECB52"
          ],
          "font": {
           "color": "#2a3f5f"
          },
          "geo": {
           "bgcolor": "white",
           "lakecolor": "white",
           "landcolor": "#E5ECF6",
           "showlakes": true,
           "showland": true,
           "subunitcolor": "white"
          },
          "hoverlabel": {
           "align": "left"
          },
          "hovermode": "closest",
          "mapbox": {
           "style": "light"
          },
          "paper_bgcolor": "white",
          "plot_bgcolor": "#E5ECF6",
          "polar": {
           "angularaxis": {
            "gridcolor": "white",
            "linecolor": "white",
            "ticks": ""
           },
           "bgcolor": "#E5ECF6",
           "radialaxis": {
            "gridcolor": "white",
            "linecolor": "white",
            "ticks": ""
           }
          },
          "scene": {
           "xaxis": {
            "backgroundcolor": "#E5ECF6",
            "gridcolor": "white",
            "gridwidth": 2,
            "linecolor": "white",
            "showbackground": true,
            "ticks": "",
            "zerolinecolor": "white"
           },
           "yaxis": {
            "backgroundcolor": "#E5ECF6",
            "gridcolor": "white",
            "gridwidth": 2,
            "linecolor": "white",
            "showbackground": true,
            "ticks": "",
            "zerolinecolor": "white"
           },
           "zaxis": {
            "backgroundcolor": "#E5ECF6",
            "gridcolor": "white",
            "gridwidth": 2,
            "linecolor": "white",
            "showbackground": true,
            "ticks": "",
            "zerolinecolor": "white"
           }
          },
          "shapedefaults": {
           "line": {
            "color": "#2a3f5f"
           }
          },
          "ternary": {
           "aaxis": {
            "gridcolor": "white",
            "linecolor": "white",
            "ticks": ""
           },
           "baxis": {
            "gridcolor": "white",
            "linecolor": "white",
            "ticks": ""
           },
           "bgcolor": "#E5ECF6",
           "caxis": {
            "gridcolor": "white",
            "linecolor": "white",
            "ticks": ""
           }
          },
          "title": {
           "x": 0.05
          },
          "xaxis": {
           "automargin": true,
           "gridcolor": "white",
           "linecolor": "white",
           "ticks": "",
           "title": {
            "standoff": 15
           },
           "zerolinecolor": "white",
           "zerolinewidth": 2
          },
          "yaxis": {
           "automargin": true,
           "gridcolor": "white",
           "linecolor": "white",
           "ticks": "",
           "title": {
            "standoff": 15
           },
           "zerolinecolor": "white",
           "zerolinewidth": 2
          }
         }
        },
        "title": {
         "text": "Cutset conditioning (red) vs variable elimination (blue)"
        },
        "width": 800,
        "xaxis": {
         "anchor": "y",
         "domain": [
          0,
          1
         ],
         "nticks": 20,
         "range": [
          1,
          6
         ],
         "title": {
          "font": {
           "size": 12
          },
          "standoff": 7,
          "text": "Healthy FEV1 (L)"
         }
        },
        "xaxis2": {
         "anchor": "y2",
         "domain": [
          0,
          1
         ],
         "nticks": 20,
         "range": [
          0,
          90
         ],
         "title": {
          "font": {
           "size": 12
          },
          "standoff": 7,
          "text": "Airway resistance (%) day 1"
         }
        },
        "yaxis": {
         "anchor": "x",
         "domain": [
          0.565,
          1
         ]
        },
        "yaxis2": {
         "anchor": "x2",
         "domain": [
          0,
          0.435
         ]
        }
       }
      }
     },
     "metadata": {},
     "output_type": "display_data"
    }
   ],
   "source": [
    "# POINT MASS HFEV1 FOR ONE DAY\n",
    "fig = make_subplots(rows=2, cols=1, vertical_spacing=0.13)\n",
    "# Add HFEV1\n",
    "ih.plot_histogram(\n",
    "    fig, HFEV1, res_ve[HFEV1.name].values, HFEV1.a, HFEV1.b, 1, 1, annot=False\n",
    ")\n",
    "ih.plot_histogram(\n",
    "    fig, AR, res_ve[AR_vars[0].name].values, AR.a, AR.b, 2, 1, annot=False\n",
    ")\n",
    "\n",
    "# Add HFEV1\n",
    "ih.plot_histogram(fig, HFEV1, p_M_given_D, HFEV1.a, HFEV1.b, 1, 1, title=HFEV1.name)\n",
    "ih.plot_histogram(\n",
    "    fig,\n",
    "    AR,\n",
    "    AR_dist_given_M_matrix[0, :],\n",
    "    AR.a,\n",
    "    AR.b,\n",
    "    2,\n",
    "    1,\n",
    "    title=f\"{AR.name} day 1\",\n",
    "    annot=False,\n",
    ")\n",
    "\n",
    "for i in range(2):\n",
    "    fig.data[i].marker.color = \"#636EFA\"\n",
    "    fig.data[i + 2].marker.color = \"#EF553B\"\n",
    "# Reduce x axis title font size\n",
    "fig.update_xaxes(title_font=dict(size=12), title_standoff=7)\n",
    "\n",
    "# Hide legend\n",
    "title = \"Cutset conditioning (red) vs variable elimination (blue)\"\n",
    "fig.update_layout(showlegend=False, height=550, width=800, title=title)\n",
    "fig.show()"
   ]
  },
  {
   "cell_type": "markdown",
   "metadata": {},
   "source": [
    "#### Validate that custom BP implementation works"
   ]
  },
  {
   "cell_type": "code",
   "execution_count": 9,
   "metadata": {},
   "outputs": [],
   "source": [
    "# COMPARING CUSTOM BP ON POINT IN TIME MODEL AGAINST VE\n",
    "\n",
    "(\n",
    "    model,\n",
    "    inf_alg,\n",
    "    HFEV1,\n",
    "    uecFEV1,\n",
    "    ecFEV1,\n",
    "    AR,\n",
    "    HO2Sat,\n",
    "    O2SatFFA,\n",
    "    IA,\n",
    "    uO2Sat,\n",
    "    O2Sat,\n",
    "    ecFEF2575prctecFEV1,\n",
    ") = mb.o2sat_fev1_fef2575_point_in_time_model_noise_shared_healthy_vars_light(\n",
    "    height, age, sex\n",
    ")\n",
    "\n",
    "res_bp = ih.infer_on_factor_graph(\n",
    "    inf_alg,\n",
    "    [HFEV1, AR],\n",
    "    [\n",
    "        [ecFEV1, df_mock.loc[0, \"idx ecFEV1 (L)\"]],\n",
    "        [ecFEF2575prctecFEV1, df_mock.loc[0, \"idx ecFEF2575%ecFEV1\"]],\n",
    "    ],\n",
    ")"
   ]
  },
  {
   "cell_type": "code",
   "execution_count": 10,
   "metadata": {},
   "outputs": [
    {
     "data": {
      "application/vnd.plotly.v1+json": {
       "config": {
        "plotlyServerURL": "https://plot.ly"
       },
       "data": [
        {
         "histfunc": "sum",
         "marker": {
          "color": "#636EFA"
         },
         "type": "histogram",
         "x": [
          1,
          2,
          3,
          4,
          5
         ],
         "xaxis": "x",
         "xbins": {
          "end": 6,
          "size": 1,
          "start": 1
         },
         "y": [
          0,
          0,
          1,
          0,
          0
         ],
         "yaxis": "y"
        },
        {
         "histfunc": "sum",
         "marker": {
          "color": "#636EFA"
         },
         "type": "histogram",
         "x": [
          0,
          10,
          20,
          30,
          40,
          50,
          60,
          70,
          80
         ],
         "xaxis": "x2",
         "xbins": {
          "end": 90,
          "size": 10,
          "start": 0
         },
         "y": [
          0.001425999158042748,
          0.013493043347262293,
          0.06542684719476098,
          0.1703577078835432,
          0.2863114553337746,
          0.1421579091662986,
          0.11973463849747498,
          0.10790092399183174,
          0.0931914754270108
         ],
         "yaxis": "y2"
        },
        {
         "histfunc": "sum",
         "marker": {
          "color": "#EF553B"
         },
         "type": "histogram",
         "x": [
          1,
          2,
          3,
          4,
          5
         ],
         "xaxis": "x",
         "xbins": {
          "end": 6,
          "size": 1,
          "start": 1
         },
         "y": [
          0,
          0,
          1,
          0,
          0
         ],
         "yaxis": "y"
        },
        {
         "histfunc": "sum",
         "marker": {
          "color": "#EF553B"
         },
         "type": "histogram",
         "x": [
          0,
          10,
          20,
          30,
          40,
          50,
          60,
          70,
          80
         ],
         "xaxis": "x2",
         "xbins": {
          "end": 90,
          "size": 10,
          "start": 0
         },
         "y": [
          0.0014259991579810135,
          0.013493043346678153,
          0.06542684719192852,
          0.1703577078780533,
          0.28631145533054886,
          0.14215790916728677,
          0.11973463850240836,
          0.10790092399107887,
          0.09319147543403629
         ],
         "yaxis": "y2"
        }
       ],
       "layout": {
        "annotations": [
         {
          "font": {
           "size": 8
          },
          "showarrow": false,
          "text": "3.50",
          "x": 3.5,
          "xref": "x",
          "y": 1.1,
          "yref": "y"
         }
        ],
        "height": 550,
        "showlegend": false,
        "template": {
         "data": {
          "bar": [
           {
            "error_x": {
             "color": "#2a3f5f"
            },
            "error_y": {
             "color": "#2a3f5f"
            },
            "marker": {
             "line": {
              "color": "#E5ECF6",
              "width": 0.5
             },
             "pattern": {
              "fillmode": "overlay",
              "size": 10,
              "solidity": 0.2
             }
            },
            "type": "bar"
           }
          ],
          "barpolar": [
           {
            "marker": {
             "line": {
              "color": "#E5ECF6",
              "width": 0.5
             },
             "pattern": {
              "fillmode": "overlay",
              "size": 10,
              "solidity": 0.2
             }
            },
            "type": "barpolar"
           }
          ],
          "carpet": [
           {
            "aaxis": {
             "endlinecolor": "#2a3f5f",
             "gridcolor": "white",
             "linecolor": "white",
             "minorgridcolor": "white",
             "startlinecolor": "#2a3f5f"
            },
            "baxis": {
             "endlinecolor": "#2a3f5f",
             "gridcolor": "white",
             "linecolor": "white",
             "minorgridcolor": "white",
             "startlinecolor": "#2a3f5f"
            },
            "type": "carpet"
           }
          ],
          "choropleth": [
           {
            "colorbar": {
             "outlinewidth": 0,
             "ticks": ""
            },
            "type": "choropleth"
           }
          ],
          "contour": [
           {
            "colorbar": {
             "outlinewidth": 0,
             "ticks": ""
            },
            "colorscale": [
             [
              0,
              "#0d0887"
             ],
             [
              0.1111111111111111,
              "#46039f"
             ],
             [
              0.2222222222222222,
              "#7201a8"
             ],
             [
              0.3333333333333333,
              "#9c179e"
             ],
             [
              0.4444444444444444,
              "#bd3786"
             ],
             [
              0.5555555555555556,
              "#d8576b"
             ],
             [
              0.6666666666666666,
              "#ed7953"
             ],
             [
              0.7777777777777778,
              "#fb9f3a"
             ],
             [
              0.8888888888888888,
              "#fdca26"
             ],
             [
              1,
              "#f0f921"
             ]
            ],
            "type": "contour"
           }
          ],
          "contourcarpet": [
           {
            "colorbar": {
             "outlinewidth": 0,
             "ticks": ""
            },
            "type": "contourcarpet"
           }
          ],
          "heatmap": [
           {
            "colorbar": {
             "outlinewidth": 0,
             "ticks": ""
            },
            "colorscale": [
             [
              0,
              "#0d0887"
             ],
             [
              0.1111111111111111,
              "#46039f"
             ],
             [
              0.2222222222222222,
              "#7201a8"
             ],
             [
              0.3333333333333333,
              "#9c179e"
             ],
             [
              0.4444444444444444,
              "#bd3786"
             ],
             [
              0.5555555555555556,
              "#d8576b"
             ],
             [
              0.6666666666666666,
              "#ed7953"
             ],
             [
              0.7777777777777778,
              "#fb9f3a"
             ],
             [
              0.8888888888888888,
              "#fdca26"
             ],
             [
              1,
              "#f0f921"
             ]
            ],
            "type": "heatmap"
           }
          ],
          "heatmapgl": [
           {
            "colorbar": {
             "outlinewidth": 0,
             "ticks": ""
            },
            "colorscale": [
             [
              0,
              "#0d0887"
             ],
             [
              0.1111111111111111,
              "#46039f"
             ],
             [
              0.2222222222222222,
              "#7201a8"
             ],
             [
              0.3333333333333333,
              "#9c179e"
             ],
             [
              0.4444444444444444,
              "#bd3786"
             ],
             [
              0.5555555555555556,
              "#d8576b"
             ],
             [
              0.6666666666666666,
              "#ed7953"
             ],
             [
              0.7777777777777778,
              "#fb9f3a"
             ],
             [
              0.8888888888888888,
              "#fdca26"
             ],
             [
              1,
              "#f0f921"
             ]
            ],
            "type": "heatmapgl"
           }
          ],
          "histogram": [
           {
            "marker": {
             "pattern": {
              "fillmode": "overlay",
              "size": 10,
              "solidity": 0.2
             }
            },
            "type": "histogram"
           }
          ],
          "histogram2d": [
           {
            "colorbar": {
             "outlinewidth": 0,
             "ticks": ""
            },
            "colorscale": [
             [
              0,
              "#0d0887"
             ],
             [
              0.1111111111111111,
              "#46039f"
             ],
             [
              0.2222222222222222,
              "#7201a8"
             ],
             [
              0.3333333333333333,
              "#9c179e"
             ],
             [
              0.4444444444444444,
              "#bd3786"
             ],
             [
              0.5555555555555556,
              "#d8576b"
             ],
             [
              0.6666666666666666,
              "#ed7953"
             ],
             [
              0.7777777777777778,
              "#fb9f3a"
             ],
             [
              0.8888888888888888,
              "#fdca26"
             ],
             [
              1,
              "#f0f921"
             ]
            ],
            "type": "histogram2d"
           }
          ],
          "histogram2dcontour": [
           {
            "colorbar": {
             "outlinewidth": 0,
             "ticks": ""
            },
            "colorscale": [
             [
              0,
              "#0d0887"
             ],
             [
              0.1111111111111111,
              "#46039f"
             ],
             [
              0.2222222222222222,
              "#7201a8"
             ],
             [
              0.3333333333333333,
              "#9c179e"
             ],
             [
              0.4444444444444444,
              "#bd3786"
             ],
             [
              0.5555555555555556,
              "#d8576b"
             ],
             [
              0.6666666666666666,
              "#ed7953"
             ],
             [
              0.7777777777777778,
              "#fb9f3a"
             ],
             [
              0.8888888888888888,
              "#fdca26"
             ],
             [
              1,
              "#f0f921"
             ]
            ],
            "type": "histogram2dcontour"
           }
          ],
          "mesh3d": [
           {
            "colorbar": {
             "outlinewidth": 0,
             "ticks": ""
            },
            "type": "mesh3d"
           }
          ],
          "parcoords": [
           {
            "line": {
             "colorbar": {
              "outlinewidth": 0,
              "ticks": ""
             }
            },
            "type": "parcoords"
           }
          ],
          "pie": [
           {
            "automargin": true,
            "type": "pie"
           }
          ],
          "scatter": [
           {
            "fillpattern": {
             "fillmode": "overlay",
             "size": 10,
             "solidity": 0.2
            },
            "type": "scatter"
           }
          ],
          "scatter3d": [
           {
            "line": {
             "colorbar": {
              "outlinewidth": 0,
              "ticks": ""
             }
            },
            "marker": {
             "colorbar": {
              "outlinewidth": 0,
              "ticks": ""
             }
            },
            "type": "scatter3d"
           }
          ],
          "scattercarpet": [
           {
            "marker": {
             "colorbar": {
              "outlinewidth": 0,
              "ticks": ""
             }
            },
            "type": "scattercarpet"
           }
          ],
          "scattergeo": [
           {
            "marker": {
             "colorbar": {
              "outlinewidth": 0,
              "ticks": ""
             }
            },
            "type": "scattergeo"
           }
          ],
          "scattergl": [
           {
            "marker": {
             "colorbar": {
              "outlinewidth": 0,
              "ticks": ""
             }
            },
            "type": "scattergl"
           }
          ],
          "scattermapbox": [
           {
            "marker": {
             "colorbar": {
              "outlinewidth": 0,
              "ticks": ""
             }
            },
            "type": "scattermapbox"
           }
          ],
          "scatterpolar": [
           {
            "marker": {
             "colorbar": {
              "outlinewidth": 0,
              "ticks": ""
             }
            },
            "type": "scatterpolar"
           }
          ],
          "scatterpolargl": [
           {
            "marker": {
             "colorbar": {
              "outlinewidth": 0,
              "ticks": ""
             }
            },
            "type": "scatterpolargl"
           }
          ],
          "scatterternary": [
           {
            "marker": {
             "colorbar": {
              "outlinewidth": 0,
              "ticks": ""
             }
            },
            "type": "scatterternary"
           }
          ],
          "surface": [
           {
            "colorbar": {
             "outlinewidth": 0,
             "ticks": ""
            },
            "colorscale": [
             [
              0,
              "#0d0887"
             ],
             [
              0.1111111111111111,
              "#46039f"
             ],
             [
              0.2222222222222222,
              "#7201a8"
             ],
             [
              0.3333333333333333,
              "#9c179e"
             ],
             [
              0.4444444444444444,
              "#bd3786"
             ],
             [
              0.5555555555555556,
              "#d8576b"
             ],
             [
              0.6666666666666666,
              "#ed7953"
             ],
             [
              0.7777777777777778,
              "#fb9f3a"
             ],
             [
              0.8888888888888888,
              "#fdca26"
             ],
             [
              1,
              "#f0f921"
             ]
            ],
            "type": "surface"
           }
          ],
          "table": [
           {
            "cells": {
             "fill": {
              "color": "#EBF0F8"
             },
             "line": {
              "color": "white"
             }
            },
            "header": {
             "fill": {
              "color": "#C8D4E3"
             },
             "line": {
              "color": "white"
             }
            },
            "type": "table"
           }
          ]
         },
         "layout": {
          "annotationdefaults": {
           "arrowcolor": "#2a3f5f",
           "arrowhead": 0,
           "arrowwidth": 1
          },
          "autotypenumbers": "strict",
          "coloraxis": {
           "colorbar": {
            "outlinewidth": 0,
            "ticks": ""
           }
          },
          "colorscale": {
           "diverging": [
            [
             0,
             "#8e0152"
            ],
            [
             0.1,
             "#c51b7d"
            ],
            [
             0.2,
             "#de77ae"
            ],
            [
             0.3,
             "#f1b6da"
            ],
            [
             0.4,
             "#fde0ef"
            ],
            [
             0.5,
             "#f7f7f7"
            ],
            [
             0.6,
             "#e6f5d0"
            ],
            [
             0.7,
             "#b8e186"
            ],
            [
             0.8,
             "#7fbc41"
            ],
            [
             0.9,
             "#4d9221"
            ],
            [
             1,
             "#276419"
            ]
           ],
           "sequential": [
            [
             0,
             "#0d0887"
            ],
            [
             0.1111111111111111,
             "#46039f"
            ],
            [
             0.2222222222222222,
             "#7201a8"
            ],
            [
             0.3333333333333333,
             "#9c179e"
            ],
            [
             0.4444444444444444,
             "#bd3786"
            ],
            [
             0.5555555555555556,
             "#d8576b"
            ],
            [
             0.6666666666666666,
             "#ed7953"
            ],
            [
             0.7777777777777778,
             "#fb9f3a"
            ],
            [
             0.8888888888888888,
             "#fdca26"
            ],
            [
             1,
             "#f0f921"
            ]
           ],
           "sequentialminus": [
            [
             0,
             "#0d0887"
            ],
            [
             0.1111111111111111,
             "#46039f"
            ],
            [
             0.2222222222222222,
             "#7201a8"
            ],
            [
             0.3333333333333333,
             "#9c179e"
            ],
            [
             0.4444444444444444,
             "#bd3786"
            ],
            [
             0.5555555555555556,
             "#d8576b"
            ],
            [
             0.6666666666666666,
             "#ed7953"
            ],
            [
             0.7777777777777778,
             "#fb9f3a"
            ],
            [
             0.8888888888888888,
             "#fdca26"
            ],
            [
             1,
             "#f0f921"
            ]
           ]
          },
          "colorway": [
           "#636efa",
           "#EF553B",
           "#00cc96",
           "#ab63fa",
           "#FFA15A",
           "#19d3f3",
           "#FF6692",
           "#B6E880",
           "#FF97FF",
           "#FECB52"
          ],
          "font": {
           "color": "#2a3f5f"
          },
          "geo": {
           "bgcolor": "white",
           "lakecolor": "white",
           "landcolor": "#E5ECF6",
           "showlakes": true,
           "showland": true,
           "subunitcolor": "white"
          },
          "hoverlabel": {
           "align": "left"
          },
          "hovermode": "closest",
          "mapbox": {
           "style": "light"
          },
          "paper_bgcolor": "white",
          "plot_bgcolor": "#E5ECF6",
          "polar": {
           "angularaxis": {
            "gridcolor": "white",
            "linecolor": "white",
            "ticks": ""
           },
           "bgcolor": "#E5ECF6",
           "radialaxis": {
            "gridcolor": "white",
            "linecolor": "white",
            "ticks": ""
           }
          },
          "scene": {
           "xaxis": {
            "backgroundcolor": "#E5ECF6",
            "gridcolor": "white",
            "gridwidth": 2,
            "linecolor": "white",
            "showbackground": true,
            "ticks": "",
            "zerolinecolor": "white"
           },
           "yaxis": {
            "backgroundcolor": "#E5ECF6",
            "gridcolor": "white",
            "gridwidth": 2,
            "linecolor": "white",
            "showbackground": true,
            "ticks": "",
            "zerolinecolor": "white"
           },
           "zaxis": {
            "backgroundcolor": "#E5ECF6",
            "gridcolor": "white",
            "gridwidth": 2,
            "linecolor": "white",
            "showbackground": true,
            "ticks": "",
            "zerolinecolor": "white"
           }
          },
          "shapedefaults": {
           "line": {
            "color": "#2a3f5f"
           }
          },
          "ternary": {
           "aaxis": {
            "gridcolor": "white",
            "linecolor": "white",
            "ticks": ""
           },
           "baxis": {
            "gridcolor": "white",
            "linecolor": "white",
            "ticks": ""
           },
           "bgcolor": "#E5ECF6",
           "caxis": {
            "gridcolor": "white",
            "linecolor": "white",
            "ticks": ""
           }
          },
          "title": {
           "x": 0.05
          },
          "xaxis": {
           "automargin": true,
           "gridcolor": "white",
           "linecolor": "white",
           "ticks": "",
           "title": {
            "standoff": 15
           },
           "zerolinecolor": "white",
           "zerolinewidth": 2
          },
          "yaxis": {
           "automargin": true,
           "gridcolor": "white",
           "linecolor": "white",
           "ticks": "",
           "title": {
            "standoff": 15
           },
           "zerolinecolor": "white",
           "zerolinewidth": 2
          }
         }
        },
        "title": {
         "text": "Cutset conditioning (red) vs variable elimination (blue)"
        },
        "width": 800,
        "xaxis": {
         "anchor": "y",
         "domain": [
          0,
          1
         ],
         "nticks": 20,
         "range": [
          1,
          6
         ],
         "title": {
          "font": {
           "size": 12
          },
          "standoff": 7,
          "text": "Healthy FEV1 (L)"
         }
        },
        "xaxis2": {
         "anchor": "y2",
         "domain": [
          0,
          1
         ],
         "nticks": 20,
         "range": [
          0,
          90
         ],
         "title": {
          "font": {
           "size": 12
          },
          "standoff": 7,
          "text": "Airway resistance (%) day 1"
         }
        },
        "yaxis": {
         "anchor": "x",
         "domain": [
          0.565,
          1
         ]
        },
        "yaxis2": {
         "anchor": "x2",
         "domain": [
          0,
          0.435
         ]
        }
       }
      }
     },
     "metadata": {},
     "output_type": "display_data"
    }
   ],
   "source": [
    "# POINT MASS HFEV1\n",
    "fig = make_subplots(rows=2, cols=1, vertical_spacing=0.13)\n",
    "# Add HFEV1\n",
    "ih.plot_histogram(\n",
    "    fig, HFEV1, res_ve[HFEV1.name].values, HFEV1.a, HFEV1.b, 1, 1, annot=False\n",
    ")\n",
    "ih.plot_histogram(\n",
    "    fig, AR, res_ve[AR_vars[0].name].values, AR.a, AR.b, 2, 1, annot=False\n",
    ")\n",
    "\n",
    "# Add HFEV1\n",
    "ih.plot_histogram(\n",
    "    fig, HFEV1, res_bp[HFEV1.name].values, HFEV1.a, HFEV1.b, 1, 1, title=HFEV1.name\n",
    ")\n",
    "ih.plot_histogram(\n",
    "    fig,\n",
    "    AR,\n",
    "    res_bp[AR.name].values,\n",
    "    AR.a,\n",
    "    AR.b,\n",
    "    2,\n",
    "    1,\n",
    "    title=f\"{AR.name} day 1\",\n",
    "    annot=False,\n",
    ")\n",
    "\n",
    "for i in range(2):\n",
    "    fig.data[i].marker.color = \"#636EFA\"\n",
    "    fig.data[i + 2].marker.color = \"#EF553B\"\n",
    "# Reduce x axis title font size\n",
    "fig.update_xaxes(title_font=dict(size=12), title_standoff=7)\n",
    "\n",
    "# Hide legend\n",
    "title = \"Cutset conditioning (red) vs variable elimination (blue)\"\n",
    "fig.update_layout(showlegend=False, height=550, width=800, title=title)\n",
    "fig.show()"
   ]
  },
  {
   "cell_type": "markdown",
   "metadata": {},
   "source": [
    "# With temporal connections"
   ]
  },
  {
   "cell_type": "code",
   "execution_count": 3,
   "metadata": {},
   "outputs": [
    {
     "data": {
      "text/html": [
       "<div>\n",
       "<style scoped>\n",
       "    .dataframe tbody tr th:only-of-type {\n",
       "        vertical-align: middle;\n",
       "    }\n",
       "\n",
       "    .dataframe tbody tr th {\n",
       "        vertical-align: top;\n",
       "    }\n",
       "\n",
       "    .dataframe thead th {\n",
       "        text-align: right;\n",
       "    }\n",
       "</style>\n",
       "<table border=\"1\" class=\"dataframe\">\n",
       "  <thead>\n",
       "    <tr style=\"text-align: right;\">\n",
       "      <th></th>\n",
       "      <th>ID</th>\n",
       "      <th>Date Recorded</th>\n",
       "      <th>Height</th>\n",
       "      <th>Age</th>\n",
       "      <th>Sex</th>\n",
       "      <th>ecFEV1</th>\n",
       "      <th>ecFEF2575%ecFEV1</th>\n",
       "      <th>idx ecFEV1 (L)</th>\n",
       "      <th>idx ecFEF2575%ecFEV1</th>\n",
       "    </tr>\n",
       "  </thead>\n",
       "  <tbody>\n",
       "    <tr>\n",
       "      <th>0</th>\n",
       "      <td>1</td>\n",
       "      <td>2020-01-02</td>\n",
       "      <td>180</td>\n",
       "      <td>35</td>\n",
       "      <td>Male</td>\n",
       "      <td>1.8</td>\n",
       "      <td>12</td>\n",
       "      <td>1</td>\n",
       "      <td>0</td>\n",
       "    </tr>\n",
       "    <tr>\n",
       "      <th>1</th>\n",
       "      <td>1</td>\n",
       "      <td>2020-01-03</td>\n",
       "      <td>180</td>\n",
       "      <td>35</td>\n",
       "      <td>Male</td>\n",
       "      <td>2.2</td>\n",
       "      <td>120</td>\n",
       "      <td>2</td>\n",
       "      <td>6</td>\n",
       "    </tr>\n",
       "    <tr>\n",
       "      <th>2</th>\n",
       "      <td>1</td>\n",
       "      <td>2020-01-04</td>\n",
       "      <td>180</td>\n",
       "      <td>35</td>\n",
       "      <td>Male</td>\n",
       "      <td>2.2</td>\n",
       "      <td>150</td>\n",
       "      <td>2</td>\n",
       "      <td>7</td>\n",
       "    </tr>\n",
       "  </tbody>\n",
       "</table>\n",
       "</div>"
      ],
      "text/plain": [
       "  ID Date Recorded  Height  Age   Sex  ecFEV1  ecFEF2575%ecFEV1  \\\n",
       "0  1    2020-01-02     180   35  Male     1.8                12   \n",
       "1  1    2020-01-03     180   35  Male     2.2               120   \n",
       "2  1    2020-01-04     180   35  Male     2.2               150   \n",
       "\n",
       "   idx ecFEV1 (L)  idx ecFEF2575%ecFEV1  \n",
       "0               1                     0  \n",
       "1               2                     6  \n",
       "2               2                     7  "
      ]
     },
     "execution_count": 3,
     "metadata": {},
     "output_type": "execute_result"
    }
   ],
   "source": [
    "height = 180\n",
    "age = 35\n",
    "sex = \"Male\"\n",
    "(\n",
    "    HFEV1,\n",
    "    uecFEV1,\n",
    "    ecFEV1,\n",
    "    AR,\n",
    "    HO2Sat,\n",
    "    O2SatFFA,\n",
    "    IA,\n",
    "    UO2Sat,\n",
    "    O2Sat,\n",
    "    ecFEF2575prctecFEV1,\n",
    ") = var_builders.o2sat_fev1_fef2575_long_model_noise_shared_healthy_vars_and_temporal_ar_light(\n",
    "    height,\n",
    "    age,\n",
    "    sex,\n",
    ")\n",
    "\n",
    "df_mock"
   ]
  },
  {
   "cell_type": "markdown",
   "metadata": {},
   "source": [
    "## Run Variable Elimination"
   ]
  },
  {
   "cell_type": "code",
   "execution_count": 7,
   "metadata": {},
   "outputs": [
    {
     "name": "stdout",
     "output_type": "stream",
     "text": [
      "Airway resistance (%) day 2, cpt: (9, 9)\n",
      "Airway resistance (%) day 3, cpt: (9, 9)\n",
      "{'ecFEV1 (L) day 1': 1, 'ecFEF25-75 % ecFEV1 (%) day 1': 0, 'ecFEV1 (L) day 2': 2, 'ecFEF25-75 % ecFEV1 (%) day 2': 6, 'ecFEV1 (L) day 3': 2, 'ecFEF25-75 % ecFEV1 (%) day 3': 7}\n"
     ]
    },
    {
     "data": {
      "text/plain": [
       "array([1.24595369e-01, 3.81198670e-01, 3.92404447e-01, 9.94358690e-02,\n",
       "       2.36508481e-03, 5.59508668e-07, 1.81217508e-10, 2.01191596e-13,\n",
       "       3.35771749e-15])"
      ]
     },
     "execution_count": 7,
     "metadata": {},
     "output_type": "execute_result"
    }
   ],
   "source": [
    "height = 180\n",
    "age = 35\n",
    "sex = \"Male\"\n",
    "n_days = 3\n",
    "(\n",
    "    model,\n",
    "    # inf_alg,\n",
    "    HFEV1,\n",
    "    HO2Sat,\n",
    "    AR_vars,\n",
    "    uecFEV1_vars,\n",
    "    ecFEV1_vars,\n",
    "    O2SatFFA_vars,\n",
    "    IA_vars,\n",
    "    UO2Sat_vars,\n",
    "    O2Sat_vars,\n",
    "    ecFEF2575prctecFEV1_vars,\n",
    ") = mb.o2sat_fev1_fef2575_n_days_model_noise_shared_healthy_vars_and_temporal_ar_light(\n",
    "    n_days,\n",
    "    height,\n",
    "    age,\n",
    "    sex,\n",
    "    ar_change_cpt_state=-1\n",
    ")\n",
    "var_elim = VariableElimination(model)\n",
    "\n",
    "evidence_dict = {}\n",
    "for i in range(n_days):\n",
    "    evidence_dict[ecFEV1_vars[i].name] = df_mock.loc[i, \"idx ecFEV1 (L)\"]\n",
    "    evidence_dict[ecFEF2575prctecFEV1_vars[i].name] = df_mock.loc[\n",
    "        i, \"idx ecFEF2575%ecFEV1\"\n",
    "    ]\n",
    "\n",
    "# evidence_dict[ecFEV1_vars[1].name] = df_mock.loc[1, \"idx ecFEV1 (L)\"]\n",
    "print(evidence_dict)\n",
    "\n",
    "# ar_ve_from_day_1_CPD = TabularCPD(\n",
    "#     AR_vars[1].name, AR_vars[1].card, ar_ve_from_day_1.reshape(-1, 1)\n",
    "# )\n",
    "\n",
    "res_ve = var_elim.query(\n",
    "    # variables=[AR_vars[0].name, AR_vars[1].name, HFEV1.name],\n",
    "    variables=[AR_vars[0].name, AR_vars[1].name, AR_vars[2].name, HFEV1.name],\n",
    "    evidence=evidence_dict,\n",
    "    joint=False,\n",
    "    # virtual_evidence=[ar_ve_from_day_1_CPD]\n",
    ")\n",
    "res_ve[AR_vars[1].name].values"
   ]
  },
  {
   "cell_type": "code",
   "execution_count": null,
   "metadata": {},
   "outputs": [],
   "source": [
    "ar_day_2_VE = np.array(\n",
    "    [\n",
    "        0.12656231,\n",
    "        0.2060752,\n",
    "        0.21464146,\n",
    "        0.22984097,\n",
    "        0.15453915,\n",
    "        0.03375353,\n",
    "        0.03064757,\n",
    "        0.00393981,\n",
    "        0.0,\n",
    "    ]\n",
    ")\n",
    "ar_day_1_VE = np.array(\n",
    "    [\n",
    "        0.10289117,\n",
    "        0.20334571,\n",
    "        0.22836516,\n",
    "        0.21025736,\n",
    "        0.1657572,\n",
    "        0.05405213,\n",
    "        0.02963171,\n",
    "        0.00527891,\n",
    "        0.00042065,\n",
    "    ]\n",
    ")"
   ]
  },
  {
   "cell_type": "code",
   "execution_count": 42,
   "metadata": {},
   "outputs": [
    {
     "data": {
      "image/png": "[encoded data removed]",
      "text/plain": [
       "<Figure size 640x480 with 1 Axes>"
      ]
     },
     "metadata": {},
     "output_type": "display_data"
    }
   ],
   "source": [
    "import networkx as nx\n",
    "\n",
    "# Create a directed graph from the model edges\n",
    "nx_graph = nx.DiGraph(model.edges())\n",
    "\n",
    "# Use spring layout for better spacing between nodes\n",
    "pos = nx.spring_layout(nx_graph, k=1)  # Adjust k for more/less space between nodes\n",
    "\n",
    "# Draw the graph with specified layout and font size\n",
    "nx.draw(\n",
    "    nx_graph,\n",
    "    pos,\n",
    "    with_labels=True,\n",
    "    node_size=200,\n",
    "    node_color=\"skyblue\",\n",
    "    # node_shape=\"o\",\n",
    "    alpha=0.7,\n",
    "    linewidths=5,\n",
    "    font_size=6,  # Reduce font size for node labels\n",
    ")"
   ]
  },
  {
   "cell_type": "code",
   "execution_count": 43,
   "metadata": {},
   "outputs": [],
   "source": [
    "# model.to_daft(\"shell\", pgm_params={\"grid_unit\": 20, \"observed_style\": \"inner\"}).render()"
   ]
  },
  {
   "cell_type": "markdown",
   "metadata": {},
   "source": [
    "Validation\n",
    "\n",
    "Results of cutset cond without temporal AR\n",
    "\n",
    "With temporal AR\n",
    "- AR first day prior is uniform\n",
    "- On the VE implementation the AR change factor is for 1 days elapsed, and in the input data df all days are consecutive"
   ]
  },
  {
   "cell_type": "markdown",
   "metadata": {},
   "source": [
    "## Run Cutset Cond BP"
   ]
  },
  {
   "cell_type": "code",
   "execution_count": 5,
   "metadata": {},
   "outputs": [
    {
     "name": "stdout",
     "output_type": "stream",
     "text": [
      "Time for 3 entries: 0.01 s\n"
     ]
    },
    {
     "data": {
      "application/vnd.plotly.v1+json": {
       "config": {
        "plotlyServerURL": "https://plot.ly"
       },
       "data": [
        {
         "histfunc": "sum",
         "type": "histogram",
         "x": [
          1,
          2,
          3,
          4,
          5
         ],
         "xaxis": "x",
         "xbins": {
          "end": 6,
          "size": 1,
          "start": 0
         },
         "y": [
          0.000011458810263338547,
          0.03101040337016599,
          0.783714589510454,
          0.18453270611364261,
          0.0007308421954739085
         ],
         "yaxis": "y"
        },
        {
         "coloraxis": "coloraxis",
         "type": "heatmap",
         "x": [
          "2020-01-02",
          "2020-01-03",
          "2020-01-04"
         ],
         "xaxis": "x2",
         "y": [
          "[0.0, 10.0)",
          "[10.0, 20.0)",
          "[20.0, 30.0)",
          "[30.0, 40.0)",
          "[40.0, 50.0)",
          "[50.0, 60.0)",
          "[60.0, 70.0)",
          "[70.0, 80.0)",
          "[80.0, 90.0)"
         ],
         "yaxis": "y2",
         "z": [
          [
           0.05739616495375924,
           0.12216561183442178,
           0.1884731932649595
          ],
          [
           0.27952365737776064,
           0.38127995935022774,
           0.41464623165391135
          ],
          [
           0.41339750915093904,
           0.39436793812696974,
           0.3325997565165944
          ],
          [
           0.2240180546803476,
           0.0999016262058546,
           0.06338678522765612
          ],
          [
           0.025281848143127485,
           0.0022843797022727417,
           0.0008940063246897814
          ],
          [
           0.00037893045552486835,
           4.846544694577727e-7,
           2.7011156214105504e-8
          ],
          [
           0.000003833753785139313,
           1.2560748825180662e-10,
           9.24042077582672e-13
          ],
          [
           1.4845313884433315e-9,
           1.7298062321775555e-13,
           1.0466576793648593e-13
          ],
          [
           2.2433636974964793e-13,
           3.331844769098348e-15,
           3.798583134826055e-15
          ]
         ]
        }
       ],
       "layout": {
        "annotations": [
         {
          "font": {
           "size": 8
          },
          "showarrow": false,
          "text": "3.65",
          "x": 3.654961069513897,
          "xref": "x",
          "y": 0.8620860484614995,
          "yref": "y"
         }
        ],
        "coloraxis": {
         "colorbar": {
          "len": 0.77,
          "x": 1,
          "y": 0.36
         },
         "colorscale": [
          [
           0,
           "white"
          ],
          [
           0.01,
           "red"
          ],
          [
           0.05,
           "yellow"
          ],
          [
           0.1,
           "cyan"
          ],
          [
           0.6,
           "blue"
          ],
          [
           1,
           "black"
          ]
         ]
        },
        "font": {
         "size": 12
        },
        "height": 700,
        "template": {
         "data": {
          "bar": [
           {
            "error_x": {
             "color": "#2a3f5f"
            },
            "error_y": {
             "color": "#2a3f5f"
            },
            "marker": {
             "line": {
              "color": "#E5ECF6",
              "width": 0.5
             },
             "pattern": {
              "fillmode": "overlay",
              "size": 10,
              "solidity": 0.2
             }
            },
            "type": "bar"
           }
          ],
          "barpolar": [
           {
            "marker": {
             "line": {
              "color": "#E5ECF6",
              "width": 0.5
             },
             "pattern": {
              "fillmode": "overlay",
              "size": 10,
              "solidity": 0.2
             }
            },
            "type": "barpolar"
           }
          ],
          "carpet": [
           {
            "aaxis": {
             "endlinecolor": "#2a3f5f",
             "gridcolor": "white",
             "linecolor": "white",
             "minorgridcolor": "white",
             "startlinecolor": "#2a3f5f"
            },
            "baxis": {
             "endlinecolor": "#2a3f5f",
             "gridcolor": "white",
             "linecolor": "white",
             "minorgridcolor": "white",
             "startlinecolor": "#2a3f5f"
            },
            "type": "carpet"
           }
          ],
          "choropleth": [
           {
            "colorbar": {
             "outlinewidth": 0,
             "ticks": ""
            },
            "type": "choropleth"
           }
          ],
          "contour": [
           {
            "colorbar": {
             "outlinewidth": 0,
             "ticks": ""
            },
            "colorscale": [
             [
              0,
              "#0d0887"
             ],
             [
              0.1111111111111111,
              "#46039f"
             ],
             [
              0.2222222222222222,
              "#7201a8"
             ],
             [
              0.3333333333333333,
              "#9c179e"
             ],
             [
              0.4444444444444444,
              "#bd3786"
             ],
             [
              0.5555555555555556,
              "#d8576b"
             ],
             [
              0.6666666666666666,
              "#ed7953"
             ],
             [
              0.7777777777777778,
              "#fb9f3a"
             ],
             [
              0.8888888888888888,
              "#fdca26"
             ],
             [
              1,
              "#f0f921"
             ]
            ],
            "type": "contour"
           }
          ],
          "contourcarpet": [
           {
            "colorbar": {
             "outlinewidth": 0,
             "ticks": ""
            },
            "type": "contourcarpet"
           }
          ],
          "heatmap": [
           {
            "colorbar": {
             "outlinewidth": 0,
             "ticks": ""
            },
            "colorscale": [
             [
              0,
              "#0d0887"
             ],
             [
              0.1111111111111111,
              "#46039f"
             ],
             [
              0.2222222222222222,
              "#7201a8"
             ],
             [
              0.3333333333333333,
              "#9c179e"
             ],
             [
              0.4444444444444444,
              "#bd3786"
             ],
             [
              0.5555555555555556,
              "#d8576b"
             ],
             [
              0.6666666666666666,
              "#ed7953"
             ],
             [
              0.7777777777777778,
              "#fb9f3a"
             ],
             [
              0.8888888888888888,
              "#fdca26"
             ],
             [
              1,
              "#f0f921"
             ]
            ],
            "type": "heatmap"
           }
          ],
          "heatmapgl": [
           {
            "colorbar": {
             "outlinewidth": 0,
             "ticks": ""
            },
            "colorscale": [
             [
              0,
              "#0d0887"
             ],
             [
              0.1111111111111111,
              "#46039f"
             ],
             [
              0.2222222222222222,
              "#7201a8"
             ],
             [
              0.3333333333333333,
              "#9c179e"
             ],
             [
              0.4444444444444444,
              "#bd3786"
             ],
             [
              0.5555555555555556,
              "#d8576b"
             ],
             [
              0.6666666666666666,
              "#ed7953"
             ],
             [
              0.7777777777777778,
              "#fb9f3a"
             ],
             [
              0.8888888888888888,
              "#fdca26"
             ],
             [
              1,
              "#f0f921"
             ]
            ],
            "type": "heatmapgl"
           }
          ],
          "histogram": [
           {
            "marker": {
             "pattern": {
              "fillmode": "overlay",
              "size": 10,
              "solidity": 0.2
             }
            },
            "type": "histogram"
           }
          ],
          "histogram2d": [
           {
            "colorbar": {
             "outlinewidth": 0,
             "ticks": ""
            },
            "colorscale": [
             [
              0,
              "#0d0887"
             ],
             [
              0.1111111111111111,
              "#46039f"
             ],
             [
              0.2222222222222222,
              "#7201a8"
             ],
             [
              0.3333333333333333,
              "#9c179e"
             ],
             [
              0.4444444444444444,
              "#bd3786"
             ],
             [
              0.5555555555555556,
              "#d8576b"
             ],
             [
              0.6666666666666666,
              "#ed7953"
             ],
             [
              0.7777777777777778,
              "#fb9f3a"
             ],
             [
              0.8888888888888888,
              "#fdca26"
             ],
             [
              1,
              "#f0f921"
             ]
            ],
            "type": "histogram2d"
           }
          ],
          "histogram2dcontour": [
           {
            "colorbar": {
             "outlinewidth": 0,
             "ticks": ""
            },
            "colorscale": [
             [
              0,
              "#0d0887"
             ],
             [
              0.1111111111111111,
              "#46039f"
             ],
             [
              0.2222222222222222,
              "#7201a8"
             ],
             [
              0.3333333333333333,
              "#9c179e"
             ],
             [
              0.4444444444444444,
              "#bd3786"
             ],
             [
              0.5555555555555556,
              "#d8576b"
             ],
             [
              0.6666666666666666,
              "#ed7953"
             ],
             [
              0.7777777777777778,
              "#fb9f3a"
             ],
             [
              0.8888888888888888,
              "#fdca26"
             ],
             [
              1,
              "#f0f921"
             ]
            ],
            "type": "histogram2dcontour"
           }
          ],
          "mesh3d": [
           {
            "colorbar": {
             "outlinewidth": 0,
             "ticks": ""
            },
            "type": "mesh3d"
           }
          ],
          "parcoords": [
           {
            "line": {
             "colorbar": {
              "outlinewidth": 0,
              "ticks": ""
             }
            },
            "type": "parcoords"
           }
          ],
          "pie": [
           {
            "automargin": true,
            "type": "pie"
           }
          ],
          "scatter": [
           {
            "fillpattern": {
             "fillmode": "overlay",
             "size": 10,
             "solidity": 0.2
            },
            "type": "scatter"
           }
          ],
          "scatter3d": [
           {
            "line": {
             "colorbar": {
              "outlinewidth": 0,
              "ticks": ""
             }
            },
            "marker": {
             "colorbar": {
              "outlinewidth": 0,
              "ticks": ""
             }
            },
            "type": "scatter3d"
           }
          ],
          "scattercarpet": [
           {
            "marker": {
             "colorbar": {
              "outlinewidth": 0,
              "ticks": ""
             }
            },
            "type": "scattercarpet"
           }
          ],
          "scattergeo": [
           {
            "marker": {
             "colorbar": {
              "outlinewidth": 0,
              "ticks": ""
             }
            },
            "type": "scattergeo"
           }
          ],
          "scattergl": [
           {
            "marker": {
             "colorbar": {
              "outlinewidth": 0,
              "ticks": ""
             }
            },
            "type": "scattergl"
           }
          ],
          "scattermapbox": [
           {
            "marker": {
             "colorbar": {
              "outlinewidth": 0,
              "ticks": ""
             }
            },
            "type": "scattermapbox"
           }
          ],
          "scatterpolar": [
           {
            "marker": {
             "colorbar": {
              "outlinewidth": 0,
              "ticks": ""
             }
            },
            "type": "scatterpolar"
           }
          ],
          "scatterpolargl": [
           {
            "marker": {
             "colorbar": {
              "outlinewidth": 0,
              "ticks": ""
             }
            },
            "type": "scatterpolargl"
           }
          ],
          "scatterternary": [
           {
            "marker": {
             "colorbar": {
              "outlinewidth": 0,
              "ticks": ""
             }
            },
            "type": "scatterternary"
           }
          ],
          "surface": [
           {
            "colorbar": {
             "outlinewidth": 0,
             "ticks": ""
            },
            "colorscale": [
             [
              0,
              "#0d0887"
             ],
             [
              0.1111111111111111,
              "#46039f"
             ],
             [
              0.2222222222222222,
              "#7201a8"
             ],
             [
              0.3333333333333333,
              "#9c179e"
             ],
             [
              0.4444444444444444,
              "#bd3786"
             ],
             [
              0.5555555555555556,
              "#d8576b"
             ],
             [
              0.6666666666666666,
              "#ed7953"
             ],
             [
              0.7777777777777778,
              "#fb9f3a"
             ],
             [
              0.8888888888888888,
              "#fdca26"
             ],
             [
              1,
              "#f0f921"
             ]
            ],
            "type": "surface"
           }
          ],
          "table": [
           {
            "cells": {
             "fill": {
              "color": "#EBF0F8"
             },
             "line": {
              "color": "white"
             }
            },
            "header": {
             "fill": {
              "color": "#C8D4E3"
             },
             "line": {
              "color": "white"
             }
            },
            "type": "table"
           }
          ]
         },
         "layout": {
          "annotationdefaults": {
           "arrowcolor": "#2a3f5f",
           "arrowhead": 0,
           "arrowwidth": 1
          },
          "autotypenumbers": "strict",
          "coloraxis": {
           "colorbar": {
            "outlinewidth": 0,
            "ticks": ""
           }
          },
          "colorscale": {
           "diverging": [
            [
             0,
             "#8e0152"
            ],
            [
             0.1,
             "#c51b7d"
            ],
            [
             0.2,
             "#de77ae"
            ],
            [
             0.3,
             "#f1b6da"
            ],
            [
             0.4,
             "#fde0ef"
            ],
            [
             0.5,
             "#f7f7f7"
            ],
            [
             0.6,
             "#e6f5d0"
            ],
            [
             0.7,
             "#b8e186"
            ],
            [
             0.8,
             "#7fbc41"
            ],
            [
             0.9,
             "#4d9221"
            ],
            [
             1,
             "#276419"
            ]
           ],
           "sequential": [
            [
             0,
             "#0d0887"
            ],
            [
             0.1111111111111111,
             "#46039f"
            ],
            [
             0.2222222222222222,
             "#7201a8"
            ],
            [
             0.3333333333333333,
             "#9c179e"
            ],
            [
             0.4444444444444444,
             "#bd3786"
            ],
            [
             0.5555555555555556,
             "#d8576b"
            ],
            [
             0.6666666666666666,
             "#ed7953"
            ],
            [
             0.7777777777777778,
             "#fb9f3a"
            ],
            [
             0.8888888888888888,
             "#fdca26"
            ],
            [
             1,
             "#f0f921"
            ]
           ],
           "sequentialminus": [
            [
             0,
             "#0d0887"
            ],
            [
             0.1111111111111111,
             "#46039f"
            ],
            [
             0.2222222222222222,
             "#7201a8"
            ],
            [
             0.3333333333333333,
             "#9c179e"
            ],
            [
             0.4444444444444444,
             "#bd3786"
            ],
            [
             0.5555555555555556,
             "#d8576b"
            ],
            [
             0.6666666666666666,
             "#ed7953"
            ],
            [
             0.7777777777777778,
             "#fb9f3a"
            ],
            [
             0.8888888888888888,
             "#fdca26"
            ],
            [
             1,
             "#f0f921"
            ]
           ]
          },
          "colorway": [
           "#636efa",
           "#EF553B",
           "#00cc96",
           "#ab63fa",
           "#FFA15A",
           "#19d3f3",
           "#FF6692",
           "#B6E880",
           "#FF97FF",
           "#FECB52"
          ],
          "font": {
           "color": "#2a3f5f"
          },
          "geo": {
           "bgcolor": "white",
           "lakecolor": "white",
           "landcolor": "#E5ECF6",
           "showlakes": true,
           "showland": true,
           "subunitcolor": "white"
          },
          "hoverlabel": {
           "align": "left"
          },
          "hovermode": "closest",
          "mapbox": {
           "style": "light"
          },
          "paper_bgcolor": "white",
          "plot_bgcolor": "#E5ECF6",
          "polar": {
           "angularaxis": {
            "gridcolor": "white",
            "linecolor": "white",
            "ticks": ""
           },
           "bgcolor": "#E5ECF6",
           "radialaxis": {
            "gridcolor": "white",
            "linecolor": "white",
            "ticks": ""
           }
          },
          "scene": {
           "xaxis": {
            "backgroundcolor": "#E5ECF6",
            "gridcolor": "white",
            "gridwidth": 2,
            "linecolor": "white",
            "showbackground": true,
            "ticks": "",
            "zerolinecolor": "white"
           },
           "yaxis": {
            "backgroundcolor": "#E5ECF6",
            "gridcolor": "white",
            "gridwidth": 2,
            "linecolor": "white",
            "showbackground": true,
            "ticks": "",
            "zerolinecolor": "white"
           },
           "zaxis": {
            "backgroundcolor": "#E5ECF6",
            "gridcolor": "white",
            "gridwidth": 2,
            "linecolor": "white",
            "showbackground": true,
            "ticks": "",
            "zerolinecolor": "white"
           }
          },
          "shapedefaults": {
           "line": {
            "color": "#2a3f5f"
           }
          },
          "ternary": {
           "aaxis": {
            "gridcolor": "white",
            "linecolor": "white",
            "ticks": ""
           },
           "baxis": {
            "gridcolor": "white",
            "linecolor": "white",
            "ticks": ""
           },
           "bgcolor": "#E5ECF6",
           "caxis": {
            "gridcolor": "white",
            "linecolor": "white",
            "ticks": ""
           }
          },
          "title": {
           "x": 0.05
          },
          "xaxis": {
           "automargin": true,
           "gridcolor": "white",
           "linecolor": "white",
           "ticks": "",
           "title": {
            "standoff": 15
           },
           "zerolinecolor": "white",
           "zerolinewidth": 2
          },
          "yaxis": {
           "automargin": true,
           "gridcolor": "white",
           "linecolor": "white",
           "ticks": "",
           "title": {
            "standoff": 15
           },
           "zerolinecolor": "white",
           "zerolinewidth": 2
          }
         }
        },
        "title": {
         "font": {
          "size": 14
         },
         "text": "1 - Posterior HFEV1 after fusing all P(M_h|D), noise<br>AR prior: uniform<br>AR change CPT: "
        },
        "width": 1200,
        "xaxis": {
         "anchor": "y",
         "domain": [
          0,
          0.2888888888888889
         ],
         "nticks": 20,
         "range": [
          0,
          6
         ],
         "title": {
          "text": "Healthy FEV1 (L)"
         }
        },
        "xaxis2": {
         "anchor": "y2",
         "domain": [
          0,
          1
         ],
         "nticks": 50,
         "title": {
          "text": "Date (categorical)"
         },
         "type": "category"
        },
        "yaxis": {
         "anchor": "x",
         "domain": [
          0.825,
          1
         ],
         "title": {
          "text": "p"
         }
        },
        "yaxis2": {
         "anchor": "x2",
         "domain": [
          0,
          0.7250000000000001
         ],
         "title": {
          "text": "Airway resistance (%)"
         }
        }
       }
      }
     },
     "metadata": {},
     "output_type": "display_data"
    }
   ],
   "source": [
    "(\n",
    "    fig,\n",
    "    p_M_given_D,\n",
    "    AR_given_M_and_D,\n",
    ") = cca.run_long_noise_model_through_time_light(df_mock)"
   ]
  },
  {
   "cell_type": "code",
   "execution_count": 6,
   "metadata": {},
   "outputs": [
    {
     "data": {
      "application/vnd.plotly.v1+json": {
       "config": {
        "plotlyServerURL": "https://plot.ly"
       },
       "data": [
        {
         "histfunc": "sum",
         "marker": {
          "color": "#636EFA"
         },
         "type": "histogram",
         "x": [
          1,
          2,
          3,
          4,
          5
         ],
         "xaxis": "x",
         "xbins": {
          "end": 6,
          "size": 1,
          "start": 1
         },
         "y": [
          0.00001145881026295886,
          0.031010403368475596,
          0.783714589510698,
          0.18453270611511266,
          0.0007308421954508606
         ],
         "yaxis": "y"
        },
        {
         "histfunc": "sum",
         "marker": {
          "color": "#636EFA"
         },
         "type": "histogram",
         "x": [
          0,
          10,
          20,
          30,
          40,
          50,
          60,
          70,
          80
         ],
         "xaxis": "x2",
         "xbins": {
          "end": 90,
          "size": 10,
          "start": 0
         },
         "y": [
          0.05739616495329507,
          0.2795236573772386,
          0.413397509151058,
          0.2240180546811098,
          0.025281848143230947,
          0.000378930455526739,
          0.000003833753785159449,
          1.4845313884464355e-9,
          2.2433636974981734e-13
         ],
         "yaxis": "y2"
        },
        {
         "histfunc": "sum",
         "marker": {
          "color": "#636EFA"
         },
         "type": "histogram",
         "x": [
          0,
          10,
          20,
          30,
          40,
          50,
          60,
          70,
          80
         ],
         "xaxis": "x3",
         "xbins": {
          "end": 90,
          "size": 10,
          "start": 0
         },
         "y": [
          0.12216561183367904,
          0.3812799593499128,
          0.3943679381275667,
          0.09990162620630315,
          0.002284379702284981,
          4.846544694597265e-7,
          1.2560748825213066e-10,
          1.7298062321752766e-13,
          3.3318447690602297e-15
         ],
         "yaxis": "y3"
        },
        {
         "histfunc": "sum",
         "marker": {
          "color": "#636EFA"
         },
         "type": "histogram",
         "x": [
          0,
          10,
          20,
          30,
          40,
          50,
          60,
          70,
          80
         ],
         "xaxis": "x4",
         "xbins": {
          "end": 90,
          "size": 10,
          "start": 0
         },
         "y": [
          0.1884731932640996,
          0.41464623165384684,
          0.3325997565172165,
          0.06338678522795334,
          0.00089400632469486,
          2.7011156214226527e-8,
          9.240420775856452e-13,
          1.0466576793639892e-13,
          3.798583134785185e-15
         ],
         "yaxis": "y4"
        },
        {
         "histfunc": "sum",
         "marker": {
          "color": "#EF553B"
         },
         "type": "histogram",
         "x": [
          1,
          2,
          3,
          4,
          5
         ],
         "xaxis": "x",
         "xbins": {
          "end": 6,
          "size": 1,
          "start": 1
         },
         "y": [
          0.000011458810263338547,
          0.03101040337016599,
          0.783714589510454,
          0.18453270611364261,
          0.0007308421954739085
         ],
         "yaxis": "y"
        },
        {
         "histfunc": "sum",
         "marker": {
          "color": "#EF553B"
         },
         "type": "histogram",
         "x": [
          0,
          10,
          20,
          30,
          40,
          50,
          60,
          70,
          80
         ],
         "xaxis": "x2",
         "xbins": {
          "end": 90,
          "size": 10,
          "start": 0
         },
         "y": [
          0.05739616495375924,
          0.27952365737776064,
          0.41339750915093904,
          0.2240180546803476,
          0.025281848143127485,
          0.00037893045552486835,
          0.000003833753785139313,
          1.4845313884433315e-9,
          2.2433636974964793e-13
         ],
         "yaxis": "y2"
        },
        {
         "histfunc": "sum",
         "marker": {
          "color": "#EF553B"
         },
         "type": "histogram",
         "x": [
          0,
          10,
          20,
          30,
          40,
          50,
          60,
          70,
          80
         ],
         "xaxis": "x3",
         "xbins": {
          "end": 90,
          "size": 10,
          "start": 0
         },
         "y": [
          0.12216561183442178,
          0.38127995935022774,
          0.39436793812696974,
          0.0999016262058546,
          0.0022843797022727417,
          4.846544694577727e-7,
          1.2560748825180662e-10,
          1.7298062321775555e-13,
          3.331844769098348e-15
         ],
         "yaxis": "y3"
        },
        {
         "histfunc": "sum",
         "marker": {
          "color": "#EF553B"
         },
         "type": "histogram",
         "x": [
          0,
          10,
          20,
          30,
          40,
          50,
          60,
          70,
          80
         ],
         "xaxis": "x4",
         "xbins": {
          "end": 90,
          "size": 10,
          "start": 0
         },
         "y": [
          0.1884731932649595,
          0.41464623165391135,
          0.3325997565165944,
          0.06338678522765612,
          0.0008940063246897814,
          2.7011156214105504e-8,
          9.24042077582672e-13,
          1.0466576793648593e-13,
          3.798583134826055e-15
         ],
         "yaxis": "y4"
        }
       ],
       "layout": {
        "annotations": [
         {
          "font": {
           "size": 8
          },
          "showarrow": false,
          "text": "3.65",
          "x": 3.654961069513897,
          "xref": "x",
          "y": 0.8620860484614995,
          "yref": "y"
         }
        ],
        "height": 550,
        "showlegend": false,
        "template": {
         "data": {
          "bar": [
           {
            "error_x": {
             "color": "#2a3f5f"
            },
            "error_y": {
             "color": "#2a3f5f"
            },
            "marker": {
             "line": {
              "color": "#E5ECF6",
              "width": 0.5
             },
             "pattern": {
              "fillmode": "overlay",
              "size": 10,
              "solidity": 0.2
             }
            },
            "type": "bar"
           }
          ],
          "barpolar": [
           {
            "marker": {
             "line": {
              "color": "#E5ECF6",
              "width": 0.5
             },
             "pattern": {
              "fillmode": "overlay",
              "size": 10,
              "solidity": 0.2
             }
            },
            "type": "barpolar"
           }
          ],
          "carpet": [
           {
            "aaxis": {
             "endlinecolor": "#2a3f5f",
             "gridcolor": "white",
             "linecolor": "white",
             "minorgridcolor": "white",
             "startlinecolor": "#2a3f5f"
            },
            "baxis": {
             "endlinecolor": "#2a3f5f",
             "gridcolor": "white",
             "linecolor": "white",
             "minorgridcolor": "white",
             "startlinecolor": "#2a3f5f"
            },
            "type": "carpet"
           }
          ],
          "choropleth": [
           {
            "colorbar": {
             "outlinewidth": 0,
             "ticks": ""
            },
            "type": "choropleth"
           }
          ],
          "contour": [
           {
            "colorbar": {
             "outlinewidth": 0,
             "ticks": ""
            },
            "colorscale": [
             [
              0,
              "#0d0887"
             ],
             [
              0.1111111111111111,
              "#46039f"
             ],
             [
              0.2222222222222222,
              "#7201a8"
             ],
             [
              0.3333333333333333,
              "#9c179e"
             ],
             [
              0.4444444444444444,
              "#bd3786"
             ],
             [
              0.5555555555555556,
              "#d8576b"
             ],
             [
              0.6666666666666666,
              "#ed7953"
             ],
             [
              0.7777777777777778,
              "#fb9f3a"
             ],
             [
              0.8888888888888888,
              "#fdca26"
             ],
             [
              1,
              "#f0f921"
             ]
            ],
            "type": "contour"
           }
          ],
          "contourcarpet": [
           {
            "colorbar": {
             "outlinewidth": 0,
             "ticks": ""
            },
            "type": "contourcarpet"
           }
          ],
          "heatmap": [
           {
            "colorbar": {
             "outlinewidth": 0,
             "ticks": ""
            },
            "colorscale": [
             [
              0,
              "#0d0887"
             ],
             [
              0.1111111111111111,
              "#46039f"
             ],
             [
              0.2222222222222222,
              "#7201a8"
             ],
             [
              0.3333333333333333,
              "#9c179e"
             ],
             [
              0.4444444444444444,
              "#bd3786"
             ],
             [
              0.5555555555555556,
              "#d8576b"
             ],
             [
              0.6666666666666666,
              "#ed7953"
             ],
             [
              0.7777777777777778,
              "#fb9f3a"
             ],
             [
              0.8888888888888888,
              "#fdca26"
             ],
             [
              1,
              "#f0f921"
             ]
            ],
            "type": "heatmap"
           }
          ],
          "heatmapgl": [
           {
            "colorbar": {
             "outlinewidth": 0,
             "ticks": ""
            },
            "colorscale": [
             [
              0,
              "#0d0887"
             ],
             [
              0.1111111111111111,
              "#46039f"
             ],
             [
              0.2222222222222222,
              "#7201a8"
             ],
             [
              0.3333333333333333,
              "#9c179e"
             ],
             [
              0.4444444444444444,
              "#bd3786"
             ],
             [
              0.5555555555555556,
              "#d8576b"
             ],
             [
              0.6666666666666666,
              "#ed7953"
             ],
             [
              0.7777777777777778,
              "#fb9f3a"
             ],
             [
              0.8888888888888888,
              "#fdca26"
             ],
             [
              1,
              "#f0f921"
             ]
            ],
            "type": "heatmapgl"
           }
          ],
          "histogram": [
           {
            "marker": {
             "pattern": {
              "fillmode": "overlay",
              "size": 10,
              "solidity": 0.2
             }
            },
            "type": "histogram"
           }
          ],
          "histogram2d": [
           {
            "colorbar": {
             "outlinewidth": 0,
             "ticks": ""
            },
            "colorscale": [
             [
              0,
              "#0d0887"
             ],
             [
              0.1111111111111111,
              "#46039f"
             ],
             [
              0.2222222222222222,
              "#7201a8"
             ],
             [
              0.3333333333333333,
              "#9c179e"
             ],
             [
              0.4444444444444444,
              "#bd3786"
             ],
             [
              0.5555555555555556,
              "#d8576b"
             ],
             [
              0.6666666666666666,
              "#ed7953"
             ],
             [
              0.7777777777777778,
              "#fb9f3a"
             ],
             [
              0.8888888888888888,
              "#fdca26"
             ],
             [
              1,
              "#f0f921"
             ]
            ],
            "type": "histogram2d"
           }
          ],
          "histogram2dcontour": [
           {
            "colorbar": {
             "outlinewidth": 0,
             "ticks": ""
            },
            "colorscale": [
             [
              0,
              "#0d0887"
             ],
             [
              0.1111111111111111,
              "#46039f"
             ],
             [
              0.2222222222222222,
              "#7201a8"
             ],
             [
              0.3333333333333333,
              "#9c179e"
             ],
             [
              0.4444444444444444,
              "#bd3786"
             ],
             [
              0.5555555555555556,
              "#d8576b"
             ],
             [
              0.6666666666666666,
              "#ed7953"
             ],
             [
              0.7777777777777778,
              "#fb9f3a"
             ],
             [
              0.8888888888888888,
              "#fdca26"
             ],
             [
              1,
              "#f0f921"
             ]
            ],
            "type": "histogram2dcontour"
           }
          ],
          "mesh3d": [
           {
            "colorbar": {
             "outlinewidth": 0,
             "ticks": ""
            },
            "type": "mesh3d"
           }
          ],
          "parcoords": [
           {
            "line": {
             "colorbar": {
              "outlinewidth": 0,
              "ticks": ""
             }
            },
            "type": "parcoords"
           }
          ],
          "pie": [
           {
            "automargin": true,
            "type": "pie"
           }
          ],
          "scatter": [
           {
            "fillpattern": {
             "fillmode": "overlay",
             "size": 10,
             "solidity": 0.2
            },
            "type": "scatter"
           }
          ],
          "scatter3d": [
           {
            "line": {
             "colorbar": {
              "outlinewidth": 0,
              "ticks": ""
             }
            },
            "marker": {
             "colorbar": {
              "outlinewidth": 0,
              "ticks": ""
             }
            },
            "type": "scatter3d"
           }
          ],
          "scattercarpet": [
           {
            "marker": {
             "colorbar": {
              "outlinewidth": 0,
              "ticks": ""
             }
            },
            "type": "scattercarpet"
           }
          ],
          "scattergeo": [
           {
            "marker": {
             "colorbar": {
              "outlinewidth": 0,
              "ticks": ""
             }
            },
            "type": "scattergeo"
           }
          ],
          "scattergl": [
           {
            "marker": {
             "colorbar": {
              "outlinewidth": 0,
              "ticks": ""
             }
            },
            "type": "scattergl"
           }
          ],
          "scattermapbox": [
           {
            "marker": {
             "colorbar": {
              "outlinewidth": 0,
              "ticks": ""
             }
            },
            "type": "scattermapbox"
           }
          ],
          "scatterpolar": [
           {
            "marker": {
             "colorbar": {
              "outlinewidth": 0,
              "ticks": ""
             }
            },
            "type": "scatterpolar"
           }
          ],
          "scatterpolargl": [
           {
            "marker": {
             "colorbar": {
              "outlinewidth": 0,
              "ticks": ""
             }
            },
            "type": "scatterpolargl"
           }
          ],
          "scatterternary": [
           {
            "marker": {
             "colorbar": {
              "outlinewidth": 0,
              "ticks": ""
             }
            },
            "type": "scatterternary"
           }
          ],
          "surface": [
           {
            "colorbar": {
             "outlinewidth": 0,
             "ticks": ""
            },
            "colorscale": [
             [
              0,
              "#0d0887"
             ],
             [
              0.1111111111111111,
              "#46039f"
             ],
             [
              0.2222222222222222,
              "#7201a8"
             ],
             [
              0.3333333333333333,
              "#9c179e"
             ],
             [
              0.4444444444444444,
              "#bd3786"
             ],
             [
              0.5555555555555556,
              "#d8576b"
             ],
             [
              0.6666666666666666,
              "#ed7953"
             ],
             [
              0.7777777777777778,
              "#fb9f3a"
             ],
             [
              0.8888888888888888,
              "#fdca26"
             ],
             [
              1,
              "#f0f921"
             ]
            ],
            "type": "surface"
           }
          ],
          "table": [
           {
            "cells": {
             "fill": {
              "color": "#EBF0F8"
             },
             "line": {
              "color": "white"
             }
            },
            "header": {
             "fill": {
              "color": "#C8D4E3"
             },
             "line": {
              "color": "white"
             }
            },
            "type": "table"
           }
          ]
         },
         "layout": {
          "annotationdefaults": {
           "arrowcolor": "#2a3f5f",
           "arrowhead": 0,
           "arrowwidth": 1
          },
          "autotypenumbers": "strict",
          "coloraxis": {
           "colorbar": {
            "outlinewidth": 0,
            "ticks": ""
           }
          },
          "colorscale": {
           "diverging": [
            [
             0,
             "#8e0152"
            ],
            [
             0.1,
             "#c51b7d"
            ],
            [
             0.2,
             "#de77ae"
            ],
            [
             0.3,
             "#f1b6da"
            ],
            [
             0.4,
             "#fde0ef"
            ],
            [
             0.5,
             "#f7f7f7"
            ],
            [
             0.6,
             "#e6f5d0"
            ],
            [
             0.7,
             "#b8e186"
            ],
            [
             0.8,
             "#7fbc41"
            ],
            [
             0.9,
             "#4d9221"
            ],
            [
             1,
             "#276419"
            ]
           ],
           "sequential": [
            [
             0,
             "#0d0887"
            ],
            [
             0.1111111111111111,
             "#46039f"
            ],
            [
             0.2222222222222222,
             "#7201a8"
            ],
            [
             0.3333333333333333,
             "#9c179e"
            ],
            [
             0.4444444444444444,
             "#bd3786"
            ],
            [
             0.5555555555555556,
             "#d8576b"
            ],
            [
             0.6666666666666666,
             "#ed7953"
            ],
            [
             0.7777777777777778,
             "#fb9f3a"
            ],
            [
             0.8888888888888888,
             "#fdca26"
            ],
            [
             1,
             "#f0f921"
            ]
           ],
           "sequentialminus": [
            [
             0,
             "#0d0887"
            ],
            [
             0.1111111111111111,
             "#46039f"
            ],
            [
             0.2222222222222222,
             "#7201a8"
            ],
            [
             0.3333333333333333,
             "#9c179e"
            ],
            [
             0.4444444444444444,
             "#bd3786"
            ],
            [
             0.5555555555555556,
             "#d8576b"
            ],
            [
             0.6666666666666666,
             "#ed7953"
            ],
            [
             0.7777777777777778,
             "#fb9f3a"
            ],
            [
             0.8888888888888888,
             "#fdca26"
            ],
            [
             1,
             "#f0f921"
            ]
           ]
          },
          "colorway": [
           "#636efa",
           "#EF553B",
           "#00cc96",
           "#ab63fa",
           "#FFA15A",
           "#19d3f3",
           "#FF6692",
           "#B6E880",
           "#FF97FF",
           "#FECB52"
          ],
          "font": {
           "color": "#2a3f5f"
          },
          "geo": {
           "bgcolor": "white",
           "lakecolor": "white",
           "landcolor": "#E5ECF6",
           "showlakes": true,
           "showland": true,
           "subunitcolor": "white"
          },
          "hoverlabel": {
           "align": "left"
          },
          "hovermode": "closest",
          "mapbox": {
           "style": "light"
          },
          "paper_bgcolor": "white",
          "plot_bgcolor": "#E5ECF6",
          "polar": {
           "angularaxis": {
            "gridcolor": "white",
            "linecolor": "white",
            "ticks": ""
           },
           "bgcolor": "#E5ECF6",
           "radialaxis": {
            "gridcolor": "white",
            "linecolor": "white",
            "ticks": ""
           }
          },
          "scene": {
           "xaxis": {
            "backgroundcolor": "#E5ECF6",
            "gridcolor": "white",
            "gridwidth": 2,
            "linecolor": "white",
            "showbackground": true,
            "ticks": "",
            "zerolinecolor": "white"
           },
           "yaxis": {
            "backgroundcolor": "#E5ECF6",
            "gridcolor": "white",
            "gridwidth": 2,
            "linecolor": "white",
            "showbackground": true,
            "ticks": "",
            "zerolinecolor": "white"
           },
           "zaxis": {
            "backgroundcolor": "#E5ECF6",
            "gridcolor": "white",
            "gridwidth": 2,
            "linecolor": "white",
            "showbackground": true,
            "ticks": "",
            "zerolinecolor": "white"
           }
          },
          "shapedefaults": {
           "line": {
            "color": "#2a3f5f"
           }
          },
          "ternary": {
           "aaxis": {
            "gridcolor": "white",
            "linecolor": "white",
            "ticks": ""
           },
           "baxis": {
            "gridcolor": "white",
            "linecolor": "white",
            "ticks": ""
           },
           "bgcolor": "#E5ECF6",
           "caxis": {
            "gridcolor": "white",
            "linecolor": "white",
            "ticks": ""
           }
          },
          "title": {
           "x": 0.05
          },
          "xaxis": {
           "automargin": true,
           "gridcolor": "white",
           "linecolor": "white",
           "ticks": "",
           "title": {
            "standoff": 15
           },
           "zerolinecolor": "white",
           "zerolinewidth": 2
          },
          "yaxis": {
           "automargin": true,
           "gridcolor": "white",
           "linecolor": "white",
           "ticks": "",
           "title": {
            "standoff": 15
           },
           "zerolinecolor": "white",
           "zerolinewidth": 2
          }
         }
        },
        "title": {
         "text": "Cutset conditioning (red) vs variable elimination (blue)"
        },
        "width": 800,
        "xaxis": {
         "anchor": "y",
         "domain": [
          0,
          1
         ],
         "nticks": 20,
         "range": [
          1,
          6
         ],
         "title": {
          "font": {
           "size": 12
          },
          "standoff": 7,
          "text": "Healthy FEV1 (L)"
         }
        },
        "xaxis2": {
         "anchor": "y2",
         "domain": [
          0,
          1
         ],
         "nticks": 20,
         "range": [
          0,
          90
         ],
         "title": {
          "font": {
           "size": 12
          },
          "standoff": 7,
          "text": "Airway resistance (%) day 1"
         }
        },
        "xaxis3": {
         "anchor": "y3",
         "domain": [
          0,
          1
         ],
         "nticks": 20,
         "range": [
          0,
          90
         ],
         "title": {
          "font": {
           "size": 12
          },
          "standoff": 7,
          "text": "Airway resistance (%) day 2"
         }
        },
        "xaxis4": {
         "anchor": "y4",
         "domain": [
          0,
          1
         ],
         "nticks": 20,
         "range": [
          0,
          90
         ],
         "title": {
          "font": {
           "size": 12
          },
          "standoff": 7,
          "text": "Airway resistance (%) day 3"
         }
        },
        "yaxis": {
         "anchor": "x",
         "domain": [
          0.8475,
          1
         ]
        },
        "yaxis2": {
         "anchor": "x2",
         "domain": [
          0.565,
          0.7174999999999999
         ]
        },
        "yaxis3": {
         "anchor": "x3",
         "domain": [
          0.2825,
          0.43499999999999994
         ]
        },
        "yaxis4": {
         "anchor": "x4",
         "domain": [
          0,
          0.1525
         ]
        }
       }
      }
     },
     "metadata": {},
     "output_type": "display_data"
    }
   ],
   "source": [
    "fig = make_subplots(rows=4, cols=1, vertical_spacing=0.13)\n",
    "# Add HFEV1\n",
    "ih.plot_histogram(\n",
    "    fig, HFEV1, res_ve[HFEV1.name].values, HFEV1.a, HFEV1.b, 1, 1, annot=False\n",
    ")\n",
    "ih.plot_histogram(\n",
    "    fig, AR, res_ve[AR_vars[0].name].values, AR.a, AR.b, 2, 1, annot=False\n",
    ")\n",
    "ih.plot_histogram(\n",
    "    fig, AR, res_ve[AR_vars[1].name].values, AR.a, AR.b, 3, 1, annot=False\n",
    ")\n",
    "ih.plot_histogram(\n",
    "    fig, AR, res_ve[AR_vars[2].name].values, AR.a, AR.b, 4, 1, annot=False\n",
    ")\n",
    "\n",
    "# Add HFEV1\n",
    "ih.plot_histogram(fig, HFEV1, p_M_given_D, HFEV1.a, HFEV1.b, 1, 1, title=HFEV1.name)\n",
    "ih.plot_histogram(\n",
    "    fig,\n",
    "    AR,\n",
    "    AR_given_M_and_D[0, :],\n",
    "    AR.a,\n",
    "    AR.b,\n",
    "    2,\n",
    "    1,\n",
    "    title=f\"{AR.name} day 1\",\n",
    "    annot=False,\n",
    ")\n",
    "ih.plot_histogram(\n",
    "    fig,\n",
    "    AR,\n",
    "    AR_given_M_and_D[1, :],\n",
    "    AR.a,\n",
    "    AR.b,\n",
    "    3,\n",
    "    1,\n",
    "    title=f\"{AR.name} day 2\",\n",
    "    annot=False,\n",
    ")\n",
    "ih.plot_histogram(\n",
    "    fig,\n",
    "    AR,\n",
    "    AR_given_M_and_D[2, :],\n",
    "    AR.a,\n",
    "    AR.b,\n",
    "    4,\n",
    "    1,\n",
    "    title=f\"{AR.name} day 3\",\n",
    "    annot=False,\n",
    ")\n",
    "# ih.plot_histogram(\n",
    "#     fig,\n",
    "#     AR,\n",
    "#     AR_dist_given_M_matrix_forward_swipe[0, :],\n",
    "#     AR.a,\n",
    "#     AR.b,\n",
    "#     2,\n",
    "#     1,\n",
    "#     title=f\"{AR.name} day 1\",\n",
    "#     annot=False,\n",
    "# )\n",
    "# ih.plot_histogram(\n",
    "#     fig,\n",
    "#     AR,\n",
    "#     AR_dist_given_M_matrix_forward_swipe[1, :],\n",
    "#     AR.a,\n",
    "#     AR.b,\n",
    "#     3,\n",
    "#     1,\n",
    "#     title=f\"{AR.name} day 2\",\n",
    "#     annot=False,\n",
    "# )\n",
    "# ih.plot_histogram(\n",
    "#     fig,\n",
    "#     AR,\n",
    "#     AR_dist_given_M_matrix_forward_swipe[2, :],\n",
    "#     AR.a,\n",
    "#     AR.b,\n",
    "#     4,\n",
    "#     1,\n",
    "#     title=f\"{AR.name} day 3\",\n",
    "#     annot=False,\n",
    "# )\n",
    "\n",
    "# Set colour for first 3 traces to blue, and last 3 to red\n",
    "for i in range(4):\n",
    "    fig.data[i].marker.color = \"#636EFA\"\n",
    "    fig.data[i + 4].marker.color = \"#EF553B\"\n",
    "    # fig.data[i + 7].marker.color = \"green\"\n",
    "# Reduce x axis title font size\n",
    "fig.update_xaxes(title_font=dict(size=12), title_standoff=7)\n",
    "\n",
    "# Hide legend\n",
    "title = \"Cutset conditioning (red) vs variable elimination (blue)\"\n",
    "fig.update_layout(showlegend=False, height=550, width=800, title=title)\n",
    "fig.show()"
   ]
  },
  {
   "cell_type": "code",
   "execution_count": 12,
   "metadata": {},
   "outputs": [
    {
     "name": "stdout",
     "output_type": "stream",
     "text": [
      "0.9999999999999999\n",
      "1.0\n"
     ]
    },
    {
     "data": {
      "text/plain": [
       "array([0.12725314, 0.20609899, 0.21442141, 0.22958686, 0.15436816,\n",
       "       0.03371621, 0.03061595, 0.00393929, 0.        ])"
      ]
     },
     "execution_count": 12,
     "metadata": {},
     "output_type": "execute_result"
    }
   ],
   "source": [
    "# Multiply ar ve from day 1,\n",
    "# with ar m from ecFEV1/HFEV1 from day 2\n",
    "# to obtain the posterior for AR on day 2.\n",
    "\n",
    "# Checked that AR virtual evidence from day 1 is the same as\n",
    "# the AR posterior using VE and only observe day 1 ecFEV1.\n",
    "ar_ve_from_day_1 = np.array(\n",
    "    [\n",
    "        0.02236287,\n",
    "        0.04826665,\n",
    "        0.07755237,\n",
    "        0.10091573,\n",
    "        0.15301083,\n",
    "        0.18873422,\n",
    "        0.18107358,\n",
    "        0.12461266,\n",
    "        0.10347111,\n",
    "    ]\n",
    ")\n",
    "\n",
    "ar_ve_from_day_1 = ar_ve_from_day_1 / np.sum(ar_ve_from_day_1)\n",
    "print(ar_ve_from_day_1.sum())\n",
    "# Compute using VE and obs only ecFEV1 on day 2.\n",
    "ar_m_day_2 = np.array(\n",
    "    [\n",
    "        0.34721792,\n",
    "        0.26054927,\n",
    "        0.16870744,\n",
    "        0.13881913,\n",
    "        0.06155973,\n",
    "        0.01090057,\n",
    "        0.01031701,\n",
    "        0.00192893,\n",
    "        0.0,\n",
    "    ]\n",
    ")\n",
    "ar_m_day_2 = ar_m_day_2 / np.sum(ar_m_day_2)\n",
    "print(ar_m_day_2.sum())\n",
    "ar_posterior = ar_ve_from_day_1 * ar_m_day_2\n",
    "ar_posterior = ar_posterior / np.sum(ar_posterior)\n",
    "ar_posterior"
   ]
  },
  {
   "cell_type": "code",
   "execution_count": 6,
   "metadata": {},
   "outputs": [
    {
     "data": {
      "application/vnd.plotly.v1+json": {
       "config": {
        "plotlyServerURL": "https://plot.ly"
       },
       "data": [
        {
         "histfunc": "sum",
         "marker": {
          "color": "#636EFA"
         },
         "type": "histogram",
         "x": [
          1,
          2,
          3,
          4,
          5
         ],
         "xaxis": "x",
         "xbins": {
          "end": 6,
          "size": 1,
          "start": 1
         },
         "y": [
          0,
          0,
          1,
          0,
          0
         ],
         "yaxis": "y"
        },
        {
         "histfunc": "sum",
         "marker": {
          "color": "#636EFA"
         },
         "type": "histogram",
         "x": [
          0,
          10,
          20,
          30,
          40,
          50,
          60,
          70,
          80
         ],
         "xaxis": "x2",
         "xbins": {
          "end": 90,
          "size": 10,
          "start": 0
         },
         "y": [
          0.10289116618927435,
          0.20334570943985275,
          0.22836516382572766,
          0.2102573599006964,
          0.16575720338815356,
          0.05405213259923659,
          0.029631710263645698,
          0.0052789074857055,
          0.00042064690770759566
         ],
         "yaxis": "y2"
        },
        {
         "histfunc": "sum",
         "marker": {
          "color": "#636EFA"
         },
         "type": "histogram",
         "x": [
          0,
          10,
          20,
          30,
          40,
          50,
          60,
          70,
          80
         ],
         "xaxis": "x3",
         "xbins": {
          "end": 90,
          "size": 10,
          "start": 0
         },
         "y": [
          0.126562314329556,
          0.2060751998417244,
          0.2146414598564273,
          0.2298409746518006,
          0.15453914589910775,
          0.033753531730290616,
          0.03064756857441597,
          0.003939805116677394,
          0
         ],
         "yaxis": "y3"
        },
        {
         "histfunc": "sum",
         "marker": {
          "color": "#EF553B"
         },
         "type": "histogram",
         "x": [
          1,
          2,
          3,
          4,
          5
         ],
         "xaxis": "x",
         "xbins": {
          "end": 6,
          "size": 1,
          "start": 1
         },
         "y": [
          0,
          0,
          1,
          0,
          0
         ],
         "yaxis": "y"
        },
        {
         "histfunc": "sum",
         "marker": {
          "color": "#EF553B"
         },
         "type": "histogram",
         "x": [
          0,
          10,
          20,
          30,
          40,
          50,
          60,
          70,
          80
         ],
         "xaxis": "x2",
         "xbins": {
          "end": 90,
          "size": 10,
          "start": 0
         },
         "y": [
          0.02860521151511346,
          0.10629197409910637,
          0.19145497611926193,
          0.23685437115090976,
          0.26230646816402214,
          0.10462147586859427,
          0.06030986990066737,
          0.008941259298258284,
          0.0006143938840662769
         ],
         "yaxis": "y2"
        },
        {
         "histfunc": "sum",
         "marker": {
          "color": "#EF553B"
         },
         "type": "histogram",
         "x": [
          0,
          10,
          20,
          30,
          40,
          50,
          60,
          70,
          80
         ],
         "xaxis": "x3",
         "xbins": {
          "end": 90,
          "size": 10,
          "start": 0
         },
         "y": [
          0.12656231432638979,
          0.20607519983657827,
          0.2146414598514279,
          0.22984097465181724,
          0.15453914590535106,
          0.033753531732916044,
          0.030647568578591643,
          0.003939805116928107,
          0
         ],
         "yaxis": "y3"
        },
        {
         "histfunc": "sum",
         "marker": {
          "color": "green"
         },
         "type": "histogram",
         "x": [
          0,
          10,
          20,
          30,
          40,
          50,
          60,
          70,
          80
         ],
         "xaxis": "x2",
         "xbins": {
          "end": 90,
          "size": 10,
          "start": 0
         },
         "y": [
          0.018710241043582012,
          0.04767321888538704,
          0.07896682881750666,
          0.09571783392933612,
          0.15501261583010661,
          0.19389239904249062,
          0.1889897767751766,
          0.11860272118172177,
          0.10243436449469244
         ],
         "yaxis": "y2"
        },
        {
         "histfunc": "sum",
         "marker": {
          "color": "green"
         },
         "type": "histogram",
         "x": [
          0,
          10,
          20,
          30,
          40,
          50,
          60,
          70,
          80
         ],
         "xaxis": "x3",
         "xbins": {
          "end": 90,
          "size": 10,
          "start": 0
         },
         "y": [
          0.12656231432638979,
          0.20607519983657827,
          0.2146414598514279,
          0.22984097465181724,
          0.15453914590535106,
          0.033753531732916044,
          0.030647568578591643,
          0.003939805116928107,
          0
         ],
         "yaxis": "y3"
        }
       ],
       "layout": {
        "annotations": [
         {
          "font": {
           "size": 8
          },
          "showarrow": false,
          "text": "3.50",
          "x": 3.5,
          "xref": "x",
          "y": 1.1,
          "yref": "y"
         }
        ],
        "height": 550,
        "showlegend": false,
        "template": {
         "data": {
          "bar": [
           {
            "error_x": {
             "color": "#2a3f5f"
            },
            "error_y": {
             "color": "#2a3f5f"
            },
            "marker": {
             "line": {
              "color": "#E5ECF6",
              "width": 0.5
             },
             "pattern": {
              "fillmode": "overlay",
              "size": 10,
              "solidity": 0.2
             }
            },
            "type": "bar"
           }
          ],
          "barpolar": [
           {
            "marker": {
             "line": {
              "color": "#E5ECF6",
              "width": 0.5
             },
             "pattern": {
              "fillmode": "overlay",
              "size": 10,
              "solidity": 0.2
             }
            },
            "type": "barpolar"
           }
          ],
          "carpet": [
           {
            "aaxis": {
             "endlinecolor": "#2a3f5f",
             "gridcolor": "white",
             "linecolor": "white",
             "minorgridcolor": "white",
             "startlinecolor": "#2a3f5f"
            },
            "baxis": {
             "endlinecolor": "#2a3f5f",
             "gridcolor": "white",
             "linecolor": "white",
             "minorgridcolor": "white",
             "startlinecolor": "#2a3f5f"
            },
            "type": "carpet"
           }
          ],
          "choropleth": [
           {
            "colorbar": {
             "outlinewidth": 0,
             "ticks": ""
            },
            "type": "choropleth"
           }
          ],
          "contour": [
           {
            "colorbar": {
             "outlinewidth": 0,
             "ticks": ""
            },
            "colorscale": [
             [
              0,
              "#0d0887"
             ],
             [
              0.1111111111111111,
              "#46039f"
             ],
             [
              0.2222222222222222,
              "#7201a8"
             ],
             [
              0.3333333333333333,
              "#9c179e"
             ],
             [
              0.4444444444444444,
              "#bd3786"
             ],
             [
              0.5555555555555556,
              "#d8576b"
             ],
             [
              0.6666666666666666,
              "#ed7953"
             ],
             [
              0.7777777777777778,
              "#fb9f3a"
             ],
             [
              0.8888888888888888,
              "#fdca26"
             ],
             [
              1,
              "#f0f921"
             ]
            ],
            "type": "contour"
           }
          ],
          "contourcarpet": [
           {
            "colorbar": {
             "outlinewidth": 0,
             "ticks": ""
            },
            "type": "contourcarpet"
           }
          ],
          "heatmap": [
           {
            "colorbar": {
             "outlinewidth": 0,
             "ticks": ""
            },
            "colorscale": [
             [
              0,
              "#0d0887"
             ],
             [
              0.1111111111111111,
              "#46039f"
             ],
             [
              0.2222222222222222,
              "#7201a8"
             ],
             [
              0.3333333333333333,
              "#9c179e"
             ],
             [
              0.4444444444444444,
              "#bd3786"
             ],
             [
              0.5555555555555556,
              "#d8576b"
             ],
             [
              0.6666666666666666,
              "#ed7953"
             ],
             [
              0.7777777777777778,
              "#fb9f3a"
             ],
             [
              0.8888888888888888,
              "#fdca26"
             ],
             [
              1,
              "#f0f921"
             ]
            ],
            "type": "heatmap"
           }
          ],
          "heatmapgl": [
           {
            "colorbar": {
             "outlinewidth": 0,
             "ticks": ""
            },
            "colorscale": [
             [
              0,
              "#0d0887"
             ],
             [
              0.1111111111111111,
              "#46039f"
             ],
             [
              0.2222222222222222,
              "#7201a8"
             ],
             [
              0.3333333333333333,
              "#9c179e"
             ],
             [
              0.4444444444444444,
              "#bd3786"
             ],
             [
              0.5555555555555556,
              "#d8576b"
             ],
             [
              0.6666666666666666,
              "#ed7953"
             ],
             [
              0.7777777777777778,
              "#fb9f3a"
             ],
             [
              0.8888888888888888,
              "#fdca26"
             ],
             [
              1,
              "#f0f921"
             ]
            ],
            "type": "heatmapgl"
           }
          ],
          "histogram": [
           {
            "marker": {
             "pattern": {
              "fillmode": "overlay",
              "size": 10,
              "solidity": 0.2
             }
            },
            "type": "histogram"
           }
          ],
          "histogram2d": [
           {
            "colorbar": {
             "outlinewidth": 0,
             "ticks": ""
            },
            "colorscale": [
             [
              0,
              "#0d0887"
             ],
             [
              0.1111111111111111,
              "#46039f"
             ],
             [
              0.2222222222222222,
              "#7201a8"
             ],
             [
              0.3333333333333333,
              "#9c179e"
             ],
             [
              0.4444444444444444,
              "#bd3786"
             ],
             [
              0.5555555555555556,
              "#d8576b"
             ],
             [
              0.6666666666666666,
              "#ed7953"
             ],
             [
              0.7777777777777778,
              "#fb9f3a"
             ],
             [
              0.8888888888888888,
              "#fdca26"
             ],
             [
              1,
              "#f0f921"
             ]
            ],
            "type": "histogram2d"
           }
          ],
          "histogram2dcontour": [
           {
            "colorbar": {
             "outlinewidth": 0,
             "ticks": ""
            },
            "colorscale": [
             [
              0,
              "#0d0887"
             ],
             [
              0.1111111111111111,
              "#46039f"
             ],
             [
              0.2222222222222222,
              "#7201a8"
             ],
             [
              0.3333333333333333,
              "#9c179e"
             ],
             [
              0.4444444444444444,
              "#bd3786"
             ],
             [
              0.5555555555555556,
              "#d8576b"
             ],
             [
              0.6666666666666666,
              "#ed7953"
             ],
             [
              0.7777777777777778,
              "#fb9f3a"
             ],
             [
              0.8888888888888888,
              "#fdca26"
             ],
             [
              1,
              "#f0f921"
             ]
            ],
            "type": "histogram2dcontour"
           }
          ],
          "mesh3d": [
           {
            "colorbar": {
             "outlinewidth": 0,
             "ticks": ""
            },
            "type": "mesh3d"
           }
          ],
          "parcoords": [
           {
            "line": {
             "colorbar": {
              "outlinewidth": 0,
              "ticks": ""
             }
            },
            "type": "parcoords"
           }
          ],
          "pie": [
           {
            "automargin": true,
            "type": "pie"
           }
          ],
          "scatter": [
           {
            "fillpattern": {
             "fillmode": "overlay",
             "size": 10,
             "solidity": 0.2
            },
            "type": "scatter"
           }
          ],
          "scatter3d": [
           {
            "line": {
             "colorbar": {
              "outlinewidth": 0,
              "ticks": ""
             }
            },
            "marker": {
             "colorbar": {
              "outlinewidth": 0,
              "ticks": ""
             }
            },
            "type": "scatter3d"
           }
          ],
          "scattercarpet": [
           {
            "marker": {
             "colorbar": {
              "outlinewidth": 0,
              "ticks": ""
             }
            },
            "type": "scattercarpet"
           }
          ],
          "scattergeo": [
           {
            "marker": {
             "colorbar": {
              "outlinewidth": 0,
              "ticks": ""
             }
            },
            "type": "scattergeo"
           }
          ],
          "scattergl": [
           {
            "marker": {
             "colorbar": {
              "outlinewidth": 0,
              "ticks": ""
             }
            },
            "type": "scattergl"
           }
          ],
          "scattermapbox": [
           {
            "marker": {
             "colorbar": {
              "outlinewidth": 0,
              "ticks": ""
             }
            },
            "type": "scattermapbox"
           }
          ],
          "scatterpolar": [
           {
            "marker": {
             "colorbar": {
              "outlinewidth": 0,
              "ticks": ""
             }
            },
            "type": "scatterpolar"
           }
          ],
          "scatterpolargl": [
           {
            "marker": {
             "colorbar": {
              "outlinewidth": 0,
              "ticks": ""
             }
            },
            "type": "scatterpolargl"
           }
          ],
          "scatterternary": [
           {
            "marker": {
             "colorbar": {
              "outlinewidth": 0,
              "ticks": ""
             }
            },
            "type": "scatterternary"
           }
          ],
          "surface": [
           {
            "colorbar": {
             "outlinewidth": 0,
             "ticks": ""
            },
            "colorscale": [
             [
              0,
              "#0d0887"
             ],
             [
              0.1111111111111111,
              "#46039f"
             ],
             [
              0.2222222222222222,
              "#7201a8"
             ],
             [
              0.3333333333333333,
              "#9c179e"
             ],
             [
              0.4444444444444444,
              "#bd3786"
             ],
             [
              0.5555555555555556,
              "#d8576b"
             ],
             [
              0.6666666666666666,
              "#ed7953"
             ],
             [
              0.7777777777777778,
              "#fb9f3a"
             ],
             [
              0.8888888888888888,
              "#fdca26"
             ],
             [
              1,
              "#f0f921"
             ]
            ],
            "type": "surface"
           }
          ],
          "table": [
           {
            "cells": {
             "fill": {
              "color": "#EBF0F8"
             },
             "line": {
              "color": "white"
             }
            },
            "header": {
             "fill": {
              "color": "#C8D4E3"
             },
             "line": {
              "color": "white"
             }
            },
            "type": "table"
           }
          ]
         },
         "layout": {
          "annotationdefaults": {
           "arrowcolor": "#2a3f5f",
           "arrowhead": 0,
           "arrowwidth": 1
          },
          "autotypenumbers": "strict",
          "coloraxis": {
           "colorbar": {
            "outlinewidth": 0,
            "ticks": ""
           }
          },
          "colorscale": {
           "diverging": [
            [
             0,
             "#8e0152"
            ],
            [
             0.1,
             "#c51b7d"
            ],
            [
             0.2,
             "#de77ae"
            ],
            [
             0.3,
             "#f1b6da"
            ],
            [
             0.4,
             "#fde0ef"
            ],
            [
             0.5,
             "#f7f7f7"
            ],
            [
             0.6,
             "#e6f5d0"
            ],
            [
             0.7,
             "#b8e186"
            ],
            [
             0.8,
             "#7fbc41"
            ],
            [
             0.9,
             "#4d9221"
            ],
            [
             1,
             "#276419"
            ]
           ],
           "sequential": [
            [
             0,
             "#0d0887"
            ],
            [
             0.1111111111111111,
             "#46039f"
            ],
            [
             0.2222222222222222,
             "#7201a8"
            ],
            [
             0.3333333333333333,
             "#9c179e"
            ],
            [
             0.4444444444444444,
             "#bd3786"
            ],
            [
             0.5555555555555556,
             "#d8576b"
            ],
            [
             0.6666666666666666,
             "#ed7953"
            ],
            [
             0.7777777777777778,
             "#fb9f3a"
            ],
            [
             0.8888888888888888,
             "#fdca26"
            ],
            [
             1,
             "#f0f921"
            ]
           ],
           "sequentialminus": [
            [
             0,
             "#0d0887"
            ],
            [
             0.1111111111111111,
             "#46039f"
            ],
            [
             0.2222222222222222,
             "#7201a8"
            ],
            [
             0.3333333333333333,
             "#9c179e"
            ],
            [
             0.4444444444444444,
             "#bd3786"
            ],
            [
             0.5555555555555556,
             "#d8576b"
            ],
            [
             0.6666666666666666,
             "#ed7953"
            ],
            [
             0.7777777777777778,
             "#fb9f3a"
            ],
            [
             0.8888888888888888,
             "#fdca26"
            ],
            [
             1,
             "#f0f921"
            ]
           ]
          },
          "colorway": [
           "#636efa",
           "#EF553B",
           "#00cc96",
           "#ab63fa",
           "#FFA15A",
           "#19d3f3",
           "#FF6692",
           "#B6E880",
           "#FF97FF",
           "#FECB52"
          ],
          "font": {
           "color": "#2a3f5f"
          },
          "geo": {
           "bgcolor": "white",
           "lakecolor": "white",
           "landcolor": "#E5ECF6",
           "showlakes": true,
           "showland": true,
           "subunitcolor": "white"
          },
          "hoverlabel": {
           "align": "left"
          },
          "hovermode": "closest",
          "mapbox": {
           "style": "light"
          },
          "paper_bgcolor": "white",
          "plot_bgcolor": "#E5ECF6",
          "polar": {
           "angularaxis": {
            "gridcolor": "white",
            "linecolor": "white",
            "ticks": ""
           },
           "bgcolor": "#E5ECF6",
           "radialaxis": {
            "gridcolor": "white",
            "linecolor": "white",
            "ticks": ""
           }
          },
          "scene": {
           "xaxis": {
            "backgroundcolor": "#E5ECF6",
            "gridcolor": "white",
            "gridwidth": 2,
            "linecolor": "white",
            "showbackground": true,
            "ticks": "",
            "zerolinecolor": "white"
           },
           "yaxis": {
            "backgroundcolor": "#E5ECF6",
            "gridcolor": "white",
            "gridwidth": 2,
            "linecolor": "white",
            "showbackground": true,
            "ticks": "",
            "zerolinecolor": "white"
           },
           "zaxis": {
            "backgroundcolor": "#E5ECF6",
            "gridcolor": "white",
            "gridwidth": 2,
            "linecolor": "white",
            "showbackground": true,
            "ticks": "",
            "zerolinecolor": "white"
           }
          },
          "shapedefaults": {
           "line": {
            "color": "#2a3f5f"
           }
          },
          "ternary": {
           "aaxis": {
            "gridcolor": "white",
            "linecolor": "white",
            "ticks": ""
           },
           "baxis": {
            "gridcolor": "white",
            "linecolor": "white",
            "ticks": ""
           },
           "bgcolor": "#E5ECF6",
           "caxis": {
            "gridcolor": "white",
            "linecolor": "white",
            "ticks": ""
           }
          },
          "title": {
           "x": 0.05
          },
          "xaxis": {
           "automargin": true,
           "gridcolor": "white",
           "linecolor": "white",
           "ticks": "",
           "title": {
            "standoff": 15
           },
           "zerolinecolor": "white",
           "zerolinewidth": 2
          },
          "yaxis": {
           "automargin": true,
           "gridcolor": "white",
           "linecolor": "white",
           "ticks": "",
           "title": {
            "standoff": 15
           },
           "zerolinecolor": "white",
           "zerolinewidth": 2
          }
         }
        },
        "title": {
         "text": "Cutset conditioning (red) vs variable elimination (blue)"
        },
        "width": 800,
        "xaxis": {
         "anchor": "y",
         "domain": [
          0,
          1
         ],
         "nticks": 20,
         "range": [
          1,
          6
         ],
         "title": {
          "font": {
           "size": 12
          },
          "standoff": 7,
          "text": "Healthy FEV1 (L)"
         }
        },
        "xaxis2": {
         "anchor": "y2",
         "domain": [
          0,
          1
         ],
         "nticks": 20,
         "range": [
          0,
          90
         ],
         "title": {
          "font": {
           "size": 12
          },
          "standoff": 7,
          "text": "Airway resistance (%) day 1"
         }
        },
        "xaxis3": {
         "anchor": "y3",
         "domain": [
          0,
          1
         ],
         "nticks": 20,
         "range": [
          0,
          90
         ],
         "title": {
          "font": {
           "size": 12
          },
          "standoff": 7,
          "text": "Airway resistance (%) day 2"
         }
        },
        "yaxis": {
         "anchor": "x",
         "domain": [
          0.7533333333333334,
          1
         ],
         "range": [
          0,
          0.3
         ]
        },
        "yaxis2": {
         "anchor": "x2",
         "domain": [
          0.3766666666666667,
          0.6233333333333334
         ],
         "range": [
          0,
          0.3
         ]
        },
        "yaxis3": {
         "anchor": "x3",
         "domain": [
          0,
          0.24666666666666667
         ],
         "range": [
          0,
          0.3
         ]
        }
       }
      }
     },
     "metadata": {},
     "output_type": "display_data"
    }
   ],
   "source": [
    "fig = make_subplots(rows=3, cols=1, vertical_spacing=0.13)\n",
    "# Add HFEV1\n",
    "ih.plot_histogram(\n",
    "    fig, HFEV1, res_ve[HFEV1.name].values, HFEV1.a, HFEV1.b, 1, 1, annot=False\n",
    ")\n",
    "ih.plot_histogram(\n",
    "    fig, AR, res_ve[AR_vars[0].name].values, AR.a, AR.b, 2, 1, annot=False\n",
    ")\n",
    "ih.plot_histogram(\n",
    "    fig, AR, res_ve[AR_vars[1].name].values, AR.a, AR.b, 3, 1, annot=False\n",
    ")\n",
    "\n",
    "# Add HFEV1\n",
    "ih.plot_histogram(fig, HFEV1, p_M_given_D, HFEV1.a, HFEV1.b, 1, 1, title=HFEV1.name)\n",
    "ih.plot_histogram(\n",
    "    fig,\n",
    "    AR,\n",
    "    AR_dist_given_M_matrix[0, :],\n",
    "    AR.a,\n",
    "    AR.b,\n",
    "    2,\n",
    "    1,\n",
    "    title=f\"{AR.name} day 1\",\n",
    "    annot=False,\n",
    ")\n",
    "ih.plot_histogram(\n",
    "    fig,\n",
    "    AR,\n",
    "    AR_dist_given_M_matrix[1, :],\n",
    "    AR.a,\n",
    "    AR.b,\n",
    "    3,\n",
    "    1,\n",
    "    title=f\"{AR.name} day 2\",\n",
    "    annot=False,\n",
    ")\n",
    "ih.plot_histogram(\n",
    "    fig,\n",
    "    AR,\n",
    "    AR_dist_given_M_matrix_forward_swipe[0, :],\n",
    "    AR.a,\n",
    "    AR.b,\n",
    "    2,\n",
    "    1,\n",
    "    title=f\"{AR.name} day 1\",\n",
    "    annot=False,\n",
    ")\n",
    "ih.plot_histogram(\n",
    "    fig,\n",
    "    AR,\n",
    "    AR_dist_given_M_matrix_forward_swipe[1, :],\n",
    "    AR.a,\n",
    "    AR.b,\n",
    "    3,\n",
    "    1,\n",
    "    title=f\"{AR.name} day 2\",\n",
    "    annot=False,\n",
    ")\n",
    "\n",
    "# Set colour for first 3 traces to blue, and last 3 to red\n",
    "for i in range(3):\n",
    "    fig.data[i].marker.color = \"#636EFA\"\n",
    "    fig.data[i + 3].marker.color = \"#EF553B\"\n",
    "    fig.data[i + 5].marker.color = \"green\"\n",
    "# Reduce x axis title font size\n",
    "fig.update_xaxes(title_font=dict(size=12), title_standoff=7)\n",
    "# Set y axis range\n",
    "fig.update_yaxes(range=[0, 0.3])\n",
    "\n",
    "# Hide legend\n",
    "title = \"Cutset conditioning (red) vs variable elimination (blue)\"\n",
    "fig.update_layout(showlegend=False, height=550, width=800, title=title)\n",
    "fig.show()"
   ]
  },
  {
   "cell_type": "code",
   "execution_count": 14,
   "metadata": {},
   "outputs": [
    {
     "data": {
      "text/plain": [
       "array([0.0115453 , 0.04978605, 0.10132519, 0.28276477, 0.30906564,\n",
       "       0.10316933, 0.12780223, 0.01454149, 0.        ])"
      ]
     },
     "execution_count": 14,
     "metadata": {},
     "output_type": "execute_result"
    }
   ],
   "source": [
    "# Infer AR on day 2 given AR on day 1 as virtual evidence\n",
    "\n",
    "(\n",
    "    model,\n",
    "    inf_alg,\n",
    "    HFEV1,\n",
    "    uecFEV1,\n",
    "    ecFEV1,\n",
    "    AR,\n",
    "    HO2Sat,\n",
    "    O2SatFFA,\n",
    "    IA,\n",
    "    uO2Sat,\n",
    "    O2Sat,\n",
    "    ecFEF2575prctecFEV1,\n",
    ") = mb.o2sat_fev1_fef2575_point_in_time_model_noise_shared_healthy_vars_light(\n",
    "    height, age, sex\n",
    ")\n",
    "\n",
    "vev_ar_from_day_0 = TabularCPD(\n",
    "    AR.name, AR.card, res[AR_vars[0].name].values.reshape(-1, 1)\n",
    ")\n",
    "res1 = ih.infer_on_factor_graph(\n",
    "    inf_alg,\n",
    "    [HFEV1, AR],\n",
    "    [\n",
    "        [ecFEV1, df_mock.loc[1, \"idx ecFEV1 (L)\"]],\n",
    "    ],\n",
    "    virtual_evidence=[vev_ar_from_day_0],\n",
    ")\n",
    "res1[AR.name].values\n",
    "\n",
    "# Check that results using pgmpy BP implementation are the same\n",
    "res1_pgmpy = inf_alg.query(\n",
    "    [AR.name, HFEV1.name],\n",
    "    evidence={ecFEV1.name: df_mock.loc[1, \"idx ecFEV1 (L)\"]},\n",
    "    virtual_evidence=[vev_ar_from_day_0],\n",
    ")\n",
    "assert np.allclose(res1[AR.name].values, res1_pgmpy[AR.name].values)\n",
    "\n",
    "res0 = ih.infer_on_factor_graph(\n",
    "    inf_alg,\n",
    "    [HFEV1, AR],\n",
    "    [\n",
    "        [ecFEV1, df_mock.loc[0, \"idx ecFEV1 (L)\"]],\n",
    "    ],\n",
    "    virtual_evidence=[\n",
    "        TabularCPD(AR.name, AR.card, res[AR_vars[1].name].values.reshape(-1, 1))\n",
    "    ],\n",
    ")\n",
    "res0[AR.name].values"
   ]
  },
  {
   "cell_type": "code",
   "execution_count": 13,
   "metadata": {},
   "outputs": [
    {
     "data": {
      "application/vnd.plotly.v1+json": {
       "config": {
        "plotlyServerURL": "https://plot.ly"
       },
       "data": [
        {
         "histfunc": "sum",
         "marker": {
          "color": "#636EFA"
         },
         "type": "histogram",
         "x": [
          1,
          2,
          3,
          4,
          5
         ],
         "xaxis": "x",
         "xbins": {
          "end": 6,
          "size": 1,
          "start": 1
         },
         "y": [
          0,
          0,
          1,
          0,
          0
         ],
         "yaxis": "y"
        },
        {
         "histfunc": "sum",
         "marker": {
          "color": "#636EFA"
         },
         "type": "histogram",
         "x": [
          0,
          10,
          20,
          30,
          40,
          50,
          60,
          70,
          80
         ],
         "xaxis": "x2",
         "xbins": {
          "end": 90,
          "size": 10,
          "start": 0
         },
         "y": [
          0.10289116618927434,
          0.20334570943985275,
          0.22836516382572766,
          0.2102573599006964,
          0.16575720338815356,
          0.05405213259923658,
          0.0296317102636457,
          0.005278907485705501,
          0.00042064690770759566
         ],
         "yaxis": "y2"
        },
        {
         "histfunc": "sum",
         "marker": {
          "color": "#636EFA"
         },
         "type": "histogram",
         "x": [
          0,
          10,
          20,
          30,
          40,
          50,
          60,
          70,
          80
         ],
         "xaxis": "x3",
         "xbins": {
          "end": 90,
          "size": 10,
          "start": 0
         },
         "y": [
          0.126562314329556,
          0.2060751998417244,
          0.21464145985642735,
          0.22984097465180056,
          0.15453914589910778,
          0.033753531730290616,
          0.030647568574415973,
          0.003939805116677394,
          0
         ],
         "yaxis": "y3"
        },
        {
         "histfunc": "sum",
         "marker": {
          "color": "#EF553B"
         },
         "type": "histogram",
         "x": [
          1,
          2,
          3,
          4,
          5
         ],
         "xaxis": "x",
         "xbins": {
          "end": 6,
          "size": 1,
          "start": 1
         },
         "y": [
          0,
          0,
          1,
          0,
          0
         ],
         "yaxis": "y"
        },
        {
         "histfunc": "sum",
         "marker": {
          "color": "#EF553B"
         },
         "type": "histogram",
         "x": [
          0,
          10,
          20,
          30,
          40,
          50,
          60,
          70,
          80
         ],
         "xaxis": "x2",
         "xbins": {
          "end": 90,
          "size": 10,
          "start": 0
         },
         "y": [
          0.1028911661867003,
          0.20334570943476798,
          0.22836516382023633,
          0.21025735989996028,
          0.1657572033937899,
          0.05405213260298608,
          0.029631710267724765,
          0.005278907486070284,
          0.0004206469077640303
         ],
         "yaxis": "y2"
        },
        {
         "histfunc": "sum",
         "marker": {
          "color": "#EF553B"
         },
         "type": "histogram",
         "x": [
          0,
          10,
          20,
          30,
          40,
          50,
          60,
          70,
          80
         ],
         "xaxis": "x3",
         "xbins": {
          "end": 90,
          "size": 10,
          "start": 0
         },
         "y": [
          0.34585071355060715,
          0.2609098166752481,
          0.16913378076799326,
          0.1391811465847035,
          0.06172031836648004,
          0.010928998941948358,
          0.010343148242153589,
          0.0019320768708660024,
          0
         ],
         "yaxis": "y3"
        },
        {
         "histfunc": "sum",
         "marker": {
          "color": "green"
         },
         "type": "histogram",
         "x": [
          0,
          10,
          20,
          30,
          40,
          50,
          60,
          70,
          80
         ],
         "xaxis": "x2",
         "xbins": {
          "end": 90,
          "size": 10,
          "start": 0
         },
         "y": [
          0.011545304439773585,
          0.04978604517958347,
          0.10132519419832145,
          0.2827647683260397,
          0.30906564329717406,
          0.10316932896127333,
          0.12780222597484528,
          0.01454148962298915,
          0
         ],
         "yaxis": "y2"
        },
        {
         "histfunc": "sum",
         "marker": {
          "color": "green"
         },
         "type": "histogram",
         "x": [
          0,
          10,
          20,
          30,
          40,
          50,
          60,
          70,
          80
         ],
         "xaxis": "x3",
         "xbins": {
          "end": 90,
          "size": 10,
          "start": 0
         },
         "y": [
          0.09489509156826897,
          0.25076005360354336,
          0.31033470870426394,
          0.21394576689179515,
          0.10853074788444374,
          0.019233094841556327,
          0.002128193237808261,
          0.00017192865123863765,
          4.1461708160148523e-7
         ],
         "yaxis": "y3"
        }
       ],
       "layout": {
        "annotations": [
         {
          "font": {
           "size": 8
          },
          "showarrow": false,
          "text": "3.50",
          "x": 3.5,
          "xref": "x",
          "y": 1.1,
          "yref": "y"
         }
        ],
        "height": 550,
        "showlegend": false,
        "template": {
         "data": {
          "bar": [
           {
            "error_x": {
             "color": "#2a3f5f"
            },
            "error_y": {
             "color": "#2a3f5f"
            },
            "marker": {
             "line": {
              "color": "#E5ECF6",
              "width": 0.5
             },
             "pattern": {
              "fillmode": "overlay",
              "size": 10,
              "solidity": 0.2
             }
            },
            "type": "bar"
           }
          ],
          "barpolar": [
           {
            "marker": {
             "line": {
              "color": "#E5ECF6",
              "width": 0.5
             },
             "pattern": {
              "fillmode": "overlay",
              "size": 10,
              "solidity": 0.2
             }
            },
            "type": "barpolar"
           }
          ],
          "carpet": [
           {
            "aaxis": {
             "endlinecolor": "#2a3f5f",
             "gridcolor": "white",
             "linecolor": "white",
             "minorgridcolor": "white",
             "startlinecolor": "#2a3f5f"
            },
            "baxis": {
             "endlinecolor": "#2a3f5f",
             "gridcolor": "white",
             "linecolor": "white",
             "minorgridcolor": "white",
             "startlinecolor": "#2a3f5f"
            },
            "type": "carpet"
           }
          ],
          "choropleth": [
           {
            "colorbar": {
             "outlinewidth": 0,
             "ticks": ""
            },
            "type": "choropleth"
           }
          ],
          "contour": [
           {
            "colorbar": {
             "outlinewidth": 0,
             "ticks": ""
            },
            "colorscale": [
             [
              0,
              "#0d0887"
             ],
             [
              0.1111111111111111,
              "#46039f"
             ],
             [
              0.2222222222222222,
              "#7201a8"
             ],
             [
              0.3333333333333333,
              "#9c179e"
             ],
             [
              0.4444444444444444,
              "#bd3786"
             ],
             [
              0.5555555555555556,
              "#d8576b"
             ],
             [
              0.6666666666666666,
              "#ed7953"
             ],
             [
              0.7777777777777778,
              "#fb9f3a"
             ],
             [
              0.8888888888888888,
              "#fdca26"
             ],
             [
              1,
              "#f0f921"
             ]
            ],
            "type": "contour"
           }
          ],
          "contourcarpet": [
           {
            "colorbar": {
             "outlinewidth": 0,
             "ticks": ""
            },
            "type": "contourcarpet"
           }
          ],
          "heatmap": [
           {
            "colorbar": {
             "outlinewidth": 0,
             "ticks": ""
            },
            "colorscale": [
             [
              0,
              "#0d0887"
             ],
             [
              0.1111111111111111,
              "#46039f"
             ],
             [
              0.2222222222222222,
              "#7201a8"
             ],
             [
              0.3333333333333333,
              "#9c179e"
             ],
             [
              0.4444444444444444,
              "#bd3786"
             ],
             [
              0.5555555555555556,
              "#d8576b"
             ],
             [
              0.6666666666666666,
              "#ed7953"
             ],
             [
              0.7777777777777778,
              "#fb9f3a"
             ],
             [
              0.8888888888888888,
              "#fdca26"
             ],
             [
              1,
              "#f0f921"
             ]
            ],
            "type": "heatmap"
           }
          ],
          "heatmapgl": [
           {
            "colorbar": {
             "outlinewidth": 0,
             "ticks": ""
            },
            "colorscale": [
             [
              0,
              "#0d0887"
             ],
             [
              0.1111111111111111,
              "#46039f"
             ],
             [
              0.2222222222222222,
              "#7201a8"
             ],
             [
              0.3333333333333333,
              "#9c179e"
             ],
             [
              0.4444444444444444,
              "#bd3786"
             ],
             [
              0.5555555555555556,
              "#d8576b"
             ],
             [
              0.6666666666666666,
              "#ed7953"
             ],
             [
              0.7777777777777778,
              "#fb9f3a"
             ],
             [
              0.8888888888888888,
              "#fdca26"
             ],
             [
              1,
              "#f0f921"
             ]
            ],
            "type": "heatmapgl"
           }
          ],
          "histogram": [
           {
            "marker": {
             "pattern": {
              "fillmode": "overlay",
              "size": 10,
              "solidity": 0.2
             }
            },
            "type": "histogram"
           }
          ],
          "histogram2d": [
           {
            "colorbar": {
             "outlinewidth": 0,
             "ticks": ""
            },
            "colorscale": [
             [
              0,
              "#0d0887"
             ],
             [
              0.1111111111111111,
              "#46039f"
             ],
             [
              0.2222222222222222,
              "#7201a8"
             ],
             [
              0.3333333333333333,
              "#9c179e"
             ],
             [
              0.4444444444444444,
              "#bd3786"
             ],
             [
              0.5555555555555556,
              "#d8576b"
             ],
             [
              0.6666666666666666,
              "#ed7953"
             ],
             [
              0.7777777777777778,
              "#fb9f3a"
             ],
             [
              0.8888888888888888,
              "#fdca26"
             ],
             [
              1,
              "#f0f921"
             ]
            ],
            "type": "histogram2d"
           }
          ],
          "histogram2dcontour": [
           {
            "colorbar": {
             "outlinewidth": 0,
             "ticks": ""
            },
            "colorscale": [
             [
              0,
              "#0d0887"
             ],
             [
              0.1111111111111111,
              "#46039f"
             ],
             [
              0.2222222222222222,
              "#7201a8"
             ],
             [
              0.3333333333333333,
              "#9c179e"
             ],
             [
              0.4444444444444444,
              "#bd3786"
             ],
             [
              0.5555555555555556,
              "#d8576b"
             ],
             [
              0.6666666666666666,
              "#ed7953"
             ],
             [
              0.7777777777777778,
              "#fb9f3a"
             ],
             [
              0.8888888888888888,
              "#fdca26"
             ],
             [
              1,
              "#f0f921"
             ]
            ],
            "type": "histogram2dcontour"
           }
          ],
          "mesh3d": [
           {
            "colorbar": {
             "outlinewidth": 0,
             "ticks": ""
            },
            "type": "mesh3d"
           }
          ],
          "parcoords": [
           {
            "line": {
             "colorbar": {
              "outlinewidth": 0,
              "ticks": ""
             }
            },
            "type": "parcoords"
           }
          ],
          "pie": [
           {
            "automargin": true,
            "type": "pie"
           }
          ],
          "scatter": [
           {
            "fillpattern": {
             "fillmode": "overlay",
             "size": 10,
             "solidity": 0.2
            },
            "type": "scatter"
           }
          ],
          "scatter3d": [
           {
            "line": {
             "colorbar": {
              "outlinewidth": 0,
              "ticks": ""
             }
            },
            "marker": {
             "colorbar": {
              "outlinewidth": 0,
              "ticks": ""
             }
            },
            "type": "scatter3d"
           }
          ],
          "scattercarpet": [
           {
            "marker": {
             "colorbar": {
              "outlinewidth": 0,
              "ticks": ""
             }
            },
            "type": "scattercarpet"
           }
          ],
          "scattergeo": [
           {
            "marker": {
             "colorbar": {
              "outlinewidth": 0,
              "ticks": ""
             }
            },
            "type": "scattergeo"
           }
          ],
          "scattergl": [
           {
            "marker": {
             "colorbar": {
              "outlinewidth": 0,
              "ticks": ""
             }
            },
            "type": "scattergl"
           }
          ],
          "scattermapbox": [
           {
            "marker": {
             "colorbar": {
              "outlinewidth": 0,
              "ticks": ""
             }
            },
            "type": "scattermapbox"
           }
          ],
          "scatterpolar": [
           {
            "marker": {
             "colorbar": {
              "outlinewidth": 0,
              "ticks": ""
             }
            },
            "type": "scatterpolar"
           }
          ],
          "scatterpolargl": [
           {
            "marker": {
             "colorbar": {
              "outlinewidth": 0,
              "ticks": ""
             }
            },
            "type": "scatterpolargl"
           }
          ],
          "scatterternary": [
           {
            "marker": {
             "colorbar": {
              "outlinewidth": 0,
              "ticks": ""
             }
            },
            "type": "scatterternary"
           }
          ],
          "surface": [
           {
            "colorbar": {
             "outlinewidth": 0,
             "ticks": ""
            },
            "colorscale": [
             [
              0,
              "#0d0887"
             ],
             [
              0.1111111111111111,
              "#46039f"
             ],
             [
              0.2222222222222222,
              "#7201a8"
             ],
             [
              0.3333333333333333,
              "#9c179e"
             ],
             [
              0.4444444444444444,
              "#bd3786"
             ],
             [
              0.5555555555555556,
              "#d8576b"
             ],
             [
              0.6666666666666666,
              "#ed7953"
             ],
             [
              0.7777777777777778,
              "#fb9f3a"
             ],
             [
              0.8888888888888888,
              "#fdca26"
             ],
             [
              1,
              "#f0f921"
             ]
            ],
            "type": "surface"
           }
          ],
          "table": [
           {
            "cells": {
             "fill": {
              "color": "#EBF0F8"
             },
             "line": {
              "color": "white"
             }
            },
            "header": {
             "fill": {
              "color": "#C8D4E3"
             },
             "line": {
              "color": "white"
             }
            },
            "type": "table"
           }
          ]
         },
         "layout": {
          "annotationdefaults": {
           "arrowcolor": "#2a3f5f",
           "arrowhead": 0,
           "arrowwidth": 1
          },
          "autotypenumbers": "strict",
          "coloraxis": {
           "colorbar": {
            "outlinewidth": 0,
            "ticks": ""
           }
          },
          "colorscale": {
           "diverging": [
            [
             0,
             "#8e0152"
            ],
            [
             0.1,
             "#c51b7d"
            ],
            [
             0.2,
             "#de77ae"
            ],
            [
             0.3,
             "#f1b6da"
            ],
            [
             0.4,
             "#fde0ef"
            ],
            [
             0.5,
             "#f7f7f7"
            ],
            [
             0.6,
             "#e6f5d0"
            ],
            [
             0.7,
             "#b8e186"
            ],
            [
             0.8,
             "#7fbc41"
            ],
            [
             0.9,
             "#4d9221"
            ],
            [
             1,
             "#276419"
            ]
           ],
           "sequential": [
            [
             0,
             "#0d0887"
            ],
            [
             0.1111111111111111,
             "#46039f"
            ],
            [
             0.2222222222222222,
             "#7201a8"
            ],
            [
             0.3333333333333333,
             "#9c179e"
            ],
            [
             0.4444444444444444,
             "#bd3786"
            ],
            [
             0.5555555555555556,
             "#d8576b"
            ],
            [
             0.6666666666666666,
             "#ed7953"
            ],
            [
             0.7777777777777778,
             "#fb9f3a"
            ],
            [
             0.8888888888888888,
             "#fdca26"
            ],
            [
             1,
             "#f0f921"
            ]
           ],
           "sequentialminus": [
            [
             0,
             "#0d0887"
            ],
            [
             0.1111111111111111,
             "#46039f"
            ],
            [
             0.2222222222222222,
             "#7201a8"
            ],
            [
             0.3333333333333333,
             "#9c179e"
            ],
            [
             0.4444444444444444,
             "#bd3786"
            ],
            [
             0.5555555555555556,
             "#d8576b"
            ],
            [
             0.6666666666666666,
             "#ed7953"
            ],
            [
             0.7777777777777778,
             "#fb9f3a"
            ],
            [
             0.8888888888888888,
             "#fdca26"
            ],
            [
             1,
             "#f0f921"
            ]
           ]
          },
          "colorway": [
           "#636efa",
           "#EF553B",
           "#00cc96",
           "#ab63fa",
           "#FFA15A",
           "#19d3f3",
           "#FF6692",
           "#B6E880",
           "#FF97FF",
           "#FECB52"
          ],
          "font": {
           "color": "#2a3f5f"
          },
          "geo": {
           "bgcolor": "white",
           "lakecolor": "white",
           "landcolor": "#E5ECF6",
           "showlakes": true,
           "showland": true,
           "subunitcolor": "white"
          },
          "hoverlabel": {
           "align": "left"
          },
          "hovermode": "closest",
          "mapbox": {
           "style": "light"
          },
          "paper_bgcolor": "white",
          "plot_bgcolor": "#E5ECF6",
          "polar": {
           "angularaxis": {
            "gridcolor": "white",
            "linecolor": "white",
            "ticks": ""
           },
           "bgcolor": "#E5ECF6",
           "radialaxis": {
            "gridcolor": "white",
            "linecolor": "white",
            "ticks": ""
           }
          },
          "scene": {
           "xaxis": {
            "backgroundcolor": "#E5ECF6",
            "gridcolor": "white",
            "gridwidth": 2,
            "linecolor": "white",
            "showbackground": true,
            "ticks": "",
            "zerolinecolor": "white"
           },
           "yaxis": {
            "backgroundcolor": "#E5ECF6",
            "gridcolor": "white",
            "gridwidth": 2,
            "linecolor": "white",
            "showbackground": true,
            "ticks": "",
            "zerolinecolor": "white"
           },
           "zaxis": {
            "backgroundcolor": "#E5ECF6",
            "gridcolor": "white",
            "gridwidth": 2,
            "linecolor": "white",
            "showbackground": true,
            "ticks": "",
            "zerolinecolor": "white"
           }
          },
          "shapedefaults": {
           "line": {
            "color": "#2a3f5f"
           }
          },
          "ternary": {
           "aaxis": {
            "gridcolor": "white",
            "linecolor": "white",
            "ticks": ""
           },
           "baxis": {
            "gridcolor": "white",
            "linecolor": "white",
            "ticks": ""
           },
           "bgcolor": "#E5ECF6",
           "caxis": {
            "gridcolor": "white",
            "linecolor": "white",
            "ticks": ""
           }
          },
          "title": {
           "x": 0.05
          },
          "xaxis": {
           "automargin": true,
           "gridcolor": "white",
           "linecolor": "white",
           "ticks": "",
           "title": {
            "standoff": 15
           },
           "zerolinecolor": "white",
           "zerolinewidth": 2
          },
          "yaxis": {
           "automargin": true,
           "gridcolor": "white",
           "linecolor": "white",
           "ticks": "",
           "title": {
            "standoff": 15
           },
           "zerolinecolor": "white",
           "zerolinewidth": 2
          }
         }
        },
        "title": {
         "text": "Cutset conditioning (red) vs variable elimination (blue)"
        },
        "width": 800,
        "xaxis": {
         "anchor": "y",
         "domain": [
          0,
          1
         ],
         "nticks": 20,
         "range": [
          1,
          6
         ],
         "title": {
          "font": {
           "size": 12
          },
          "standoff": 7,
          "text": "Healthy FEV1 (L)"
         }
        },
        "xaxis2": {
         "anchor": "y2",
         "domain": [
          0,
          1
         ],
         "nticks": 20,
         "range": [
          0,
          90
         ],
         "title": {
          "font": {
           "size": 12
          },
          "standoff": 7,
          "text": "Airway resistance (%) day 1"
         }
        },
        "xaxis3": {
         "anchor": "y3",
         "domain": [
          0,
          1
         ],
         "nticks": 20,
         "range": [
          0,
          90
         ],
         "title": {
          "font": {
           "size": 12
          },
          "standoff": 7,
          "text": "Airway resistance (%) day 2"
         }
        },
        "yaxis": {
         "anchor": "x",
         "domain": [
          0.7533333333333334,
          1
         ]
        },
        "yaxis2": {
         "anchor": "x2",
         "domain": [
          0.3766666666666667,
          0.6233333333333334
         ]
        },
        "yaxis3": {
         "anchor": "x3",
         "domain": [
          0,
          0.24666666666666667
         ]
        }
       }
      }
     },
     "metadata": {},
     "output_type": "display_data"
    }
   ],
   "source": [
    "fig = make_subplots(rows=3, cols=1, vertical_spacing=0.13)\n",
    "# Add HFEV1\n",
    "ih.plot_histogram(\n",
    "    fig, HFEV1, res[HFEV1.name].values, HFEV1.a, HFEV1.b, 1, 1, annot=False\n",
    ")\n",
    "ih.plot_histogram(fig, AR, res[AR_vars[0].name].values, AR.a, AR.b, 2, 1, annot=False)\n",
    "ih.plot_histogram(fig, AR, res[AR_vars[1].name].values, AR.a, AR.b, 3, 1, annot=False)\n",
    "\n",
    "# Add HFEV1\n",
    "ih.plot_histogram(fig, HFEV1, p_M_given_D, HFEV1.a, HFEV1.b, 1, 1, title=HFEV1.name)\n",
    "ih.plot_histogram(\n",
    "    fig,\n",
    "    AR,\n",
    "    AR_dist_given_M_matrix[0, :],\n",
    "    AR.a,\n",
    "    AR.b,\n",
    "    2,\n",
    "    1,\n",
    "    title=f\"{AR.name} day 1\",\n",
    "    annot=False,\n",
    ")\n",
    "ih.plot_histogram(\n",
    "    fig,\n",
    "    AR,\n",
    "    AR_dist_given_M_matrix[1, :],\n",
    "    AR.a,\n",
    "    AR.b,\n",
    "    3,\n",
    "    1,\n",
    "    title=f\"{AR.name} day 2\",\n",
    "    annot=False,\n",
    ")\n",
    "ih.plot_histogram(\n",
    "    fig,\n",
    "    AR,\n",
    "    res0[AR.name].values,\n",
    "    AR.a,\n",
    "    AR.b,\n",
    "    2,\n",
    "    1,\n",
    "    title=f\"{AR.name} day 1\",\n",
    "    annot=False,\n",
    ")\n",
    "ih.plot_histogram(\n",
    "    fig,\n",
    "    AR,\n",
    "    res1[AR.name].values,\n",
    "    AR.a,\n",
    "    AR.b,\n",
    "    3,\n",
    "    1,\n",
    "    title=f\"{AR.name} day 2\",\n",
    "    annot=False,\n",
    ")\n",
    "\n",
    "# Set colour for first 3 traces to blue, and last 3 to red\n",
    "for i in range(3):\n",
    "    fig.data[i].marker.color = \"#636EFA\"\n",
    "    fig.data[i + 3].marker.color = \"#EF553B\"\n",
    "    fig.data[i + 5].marker.color = \"green\"\n",
    "# Reduce x axis title font size\n",
    "fig.update_xaxes(title_font=dict(size=12), title_standoff=7)\n",
    "\n",
    "# Hide legend\n",
    "title = \"Cutset conditioning (red) vs variable elimination (blue)\"\n",
    "fig.update_layout(showlegend=False, height=550, width=800, title=title)\n",
    "fig.show()"
   ]
  },
  {
   "cell_type": "code",
   "execution_count": 37,
   "metadata": {},
   "outputs": [
    {
     "data": {
      "application/vnd.plotly.v1+json": {
       "config": {
        "plotlyServerURL": "https://plot.ly"
       },
       "data": [
        {
         "histfunc": "sum",
         "marker": {
          "color": "#636EFA"
         },
         "type": "histogram",
         "x": [
          1,
          2,
          3,
          4,
          5
         ],
         "xaxis": "x",
         "xbins": {
          "end": 6,
          "size": 1,
          "start": 1
         },
         "y": [
          0,
          0,
          1,
          0,
          0
         ],
         "yaxis": "y"
        },
        {
         "histfunc": "sum",
         "marker": {
          "color": "#636EFA"
         },
         "type": "histogram",
         "x": [
          0,
          10,
          20,
          30,
          40,
          50,
          60,
          70,
          80
         ],
         "xaxis": "x2",
         "xbins": {
          "end": 90,
          "size": 10,
          "start": 0
         },
         "y": [
          0.05315466739007027,
          0.2504393563476867,
          0.3906006609234612,
          0.250907434543449,
          0.05354654275608208,
          0.0013349335341947134,
          0.000016277958306578406,
          1.16876526082861e-7,
          9.670223409482784e-9
         ],
         "yaxis": "y2"
        },
        {
         "histfunc": "sum",
         "marker": {
          "color": "#636EFA"
         },
         "type": "histogram",
         "x": [
          0,
          10,
          20,
          30,
          40,
          50,
          60,
          70,
          80
         ],
         "xaxis": "x3",
         "xbins": {
          "end": 90,
          "size": 10,
          "start": 0
         },
         "y": [
          0.11901184278847292,
          0.32084319424822183,
          0.35196773523324537,
          0.19277353278322665,
          0.015390177293091188,
          0.00001315390366512018,
          2.73918502629614e-7,
          8.983157433610819e-8,
          0
         ],
         "yaxis": "y3"
        },
        {
         "histfunc": "sum",
         "marker": {
          "color": "#EF553B"
         },
         "type": "histogram",
         "x": [
          1,
          2,
          3,
          4,
          5
         ],
         "xaxis": "x",
         "xbins": {
          "end": 6,
          "size": 1,
          "start": 1
         },
         "y": [
          0,
          0,
          1,
          0,
          0
         ],
         "yaxis": "y"
        },
        {
         "histfunc": "sum",
         "marker": {
          "color": "#EF553B"
         },
         "type": "histogram",
         "x": [
          0,
          10,
          20,
          30,
          40,
          50,
          60,
          70,
          80
         ],
         "xaxis": "x2",
         "xbins": {
          "end": 90,
          "size": 10,
          "start": 0
         },
         "y": [
          0.053154667389688263,
          0.2504393563458872,
          0.3906006609207426,
          0.250907434546085,
          0.053546542758250715,
          0.0013349335342882128,
          0.00001627795830839067,
          1.1687652609214503e-7,
          9.670223410933521e-9
         ],
         "yaxis": "y2"
        },
        {
         "histfunc": "sum",
         "marker": {
          "color": "#EF553B"
         },
         "type": "histogram",
         "x": [
          0,
          10,
          20,
          30,
          40,
          50,
          60,
          70,
          80
         ],
         "xaxis": "x3",
         "xbins": {
          "end": 90,
          "size": 10,
          "start": 0
         },
         "y": [
          0.6306462752237324,
          0.27368032056040265,
          0.07699381606824865,
          0.017727167798535576,
          0.0009510302305690718,
          0.0000013411111309537996,
          3.5798141723929244e-8,
          1.3209239012026335e-8,
          0
         ],
         "yaxis": "y3"
        },
        {
         "histfunc": "sum",
         "marker": {
          "color": "green"
         },
         "type": "histogram",
         "x": [
          0,
          10,
          20,
          30,
          40,
          50,
          60,
          70,
          80
         ],
         "xaxis": "x2",
         "xbins": {
          "end": 90,
          "size": 10,
          "start": 0
         },
         "y": [
          0.0014259991579810133,
          0.01349304334667815,
          0.06542684719192851,
          0.17035770787805327,
          0.2863114553305488,
          0.14215790916728674,
          0.11973463850240833,
          0.10790092399107884,
          0.09319147543403627
         ],
         "yaxis": "y2"
        },
        {
         "histfunc": "sum",
         "marker": {
          "color": "green"
         },
         "type": "histogram",
         "x": [
          0,
          10,
          20,
          30,
          40,
          50,
          60,
          70,
          80
         ],
         "xaxis": "x3",
         "xbins": {
          "end": 90,
          "size": 10,
          "start": 0
         },
         "y": [
          0.6306462752237324,
          0.27368032056040265,
          0.07699381606824865,
          0.017727167798535576,
          0.0009510302305690718,
          0.0000013411111309537996,
          3.5798141723929244e-8,
          1.3209239012026335e-8,
          0
         ],
         "yaxis": "y3"
        }
       ],
       "layout": {
        "annotations": [
         {
          "font": {
           "size": 8
          },
          "showarrow": false,
          "text": "3.50",
          "x": 3.5,
          "xref": "x",
          "y": 1.1,
          "yref": "y"
         }
        ],
        "height": 550,
        "showlegend": false,
        "template": {
         "data": {
          "bar": [
           {
            "error_x": {
             "color": "#2a3f5f"
            },
            "error_y": {
             "color": "#2a3f5f"
            },
            "marker": {
             "line": {
              "color": "#E5ECF6",
              "width": 0.5
             },
             "pattern": {
              "fillmode": "overlay",
              "size": 10,
              "solidity": 0.2
             }
            },
            "type": "bar"
           }
          ],
          "barpolar": [
           {
            "marker": {
             "line": {
              "color": "#E5ECF6",
              "width": 0.5
             },
             "pattern": {
              "fillmode": "overlay",
              "size": 10,
              "solidity": 0.2
             }
            },
            "type": "barpolar"
           }
          ],
          "carpet": [
           {
            "aaxis": {
             "endlinecolor": "#2a3f5f",
             "gridcolor": "white",
             "linecolor": "white",
             "minorgridcolor": "white",
             "startlinecolor": "#2a3f5f"
            },
            "baxis": {
             "endlinecolor": "#2a3f5f",
             "gridcolor": "white",
             "linecolor": "white",
             "minorgridcolor": "white",
             "startlinecolor": "#2a3f5f"
            },
            "type": "carpet"
           }
          ],
          "choropleth": [
           {
            "colorbar": {
             "outlinewidth": 0,
             "ticks": ""
            },
            "type": "choropleth"
           }
          ],
          "contour": [
           {
            "colorbar": {
             "outlinewidth": 0,
             "ticks": ""
            },
            "colorscale": [
             [
              0,
              "#0d0887"
             ],
             [
              0.1111111111111111,
              "#46039f"
             ],
             [
              0.2222222222222222,
              "#7201a8"
             ],
             [
              0.3333333333333333,
              "#9c179e"
             ],
             [
              0.4444444444444444,
              "#bd3786"
             ],
             [
              0.5555555555555556,
              "#d8576b"
             ],
             [
              0.6666666666666666,
              "#ed7953"
             ],
             [
              0.7777777777777778,
              "#fb9f3a"
             ],
             [
              0.8888888888888888,
              "#fdca26"
             ],
             [
              1,
              "#f0f921"
             ]
            ],
            "type": "contour"
           }
          ],
          "contourcarpet": [
           {
            "colorbar": {
             "outlinewidth": 0,
             "ticks": ""
            },
            "type": "contourcarpet"
           }
          ],
          "heatmap": [
           {
            "colorbar": {
             "outlinewidth": 0,
             "ticks": ""
            },
            "colorscale": [
             [
              0,
              "#0d0887"
             ],
             [
              0.1111111111111111,
              "#46039f"
             ],
             [
              0.2222222222222222,
              "#7201a8"
             ],
             [
              0.3333333333333333,
              "#9c179e"
             ],
             [
              0.4444444444444444,
              "#bd3786"
             ],
             [
              0.5555555555555556,
              "#d8576b"
             ],
             [
              0.6666666666666666,
              "#ed7953"
             ],
             [
              0.7777777777777778,
              "#fb9f3a"
             ],
             [
              0.8888888888888888,
              "#fdca26"
             ],
             [
              1,
              "#f0f921"
             ]
            ],
            "type": "heatmap"
           }
          ],
          "heatmapgl": [
           {
            "colorbar": {
             "outlinewidth": 0,
             "ticks": ""
            },
            "colorscale": [
             [
              0,
              "#0d0887"
             ],
             [
              0.1111111111111111,
              "#46039f"
             ],
             [
              0.2222222222222222,
              "#7201a8"
             ],
             [
              0.3333333333333333,
              "#9c179e"
             ],
             [
              0.4444444444444444,
              "#bd3786"
             ],
             [
              0.5555555555555556,
              "#d8576b"
             ],
             [
              0.6666666666666666,
              "#ed7953"
             ],
             [
              0.7777777777777778,
              "#fb9f3a"
             ],
             [
              0.8888888888888888,
              "#fdca26"
             ],
             [
              1,
              "#f0f921"
             ]
            ],
            "type": "heatmapgl"
           }
          ],
          "histogram": [
           {
            "marker": {
             "pattern": {
              "fillmode": "overlay",
              "size": 10,
              "solidity": 0.2
             }
            },
            "type": "histogram"
           }
          ],
          "histogram2d": [
           {
            "colorbar": {
             "outlinewidth": 0,
             "ticks": ""
            },
            "colorscale": [
             [
              0,
              "#0d0887"
             ],
             [
              0.1111111111111111,
              "#46039f"
             ],
             [
              0.2222222222222222,
              "#7201a8"
             ],
             [
              0.3333333333333333,
              "#9c179e"
             ],
             [
              0.4444444444444444,
              "#bd3786"
             ],
             [
              0.5555555555555556,
              "#d8576b"
             ],
             [
              0.6666666666666666,
              "#ed7953"
             ],
             [
              0.7777777777777778,
              "#fb9f3a"
             ],
             [
              0.8888888888888888,
              "#fdca26"
             ],
             [
              1,
              "#f0f921"
             ]
            ],
            "type": "histogram2d"
           }
          ],
          "histogram2dcontour": [
           {
            "colorbar": {
             "outlinewidth": 0,
             "ticks": ""
            },
            "colorscale": [
             [
              0,
              "#0d0887"
             ],
             [
              0.1111111111111111,
              "#46039f"
             ],
             [
              0.2222222222222222,
              "#7201a8"
             ],
             [
              0.3333333333333333,
              "#9c179e"
             ],
             [
              0.4444444444444444,
              "#bd3786"
             ],
             [
              0.5555555555555556,
              "#d8576b"
             ],
             [
              0.6666666666666666,
              "#ed7953"
             ],
             [
              0.7777777777777778,
              "#fb9f3a"
             ],
             [
              0.8888888888888888,
              "#fdca26"
             ],
             [
              1,
              "#f0f921"
             ]
            ],
            "type": "histogram2dcontour"
           }
          ],
          "mesh3d": [
           {
            "colorbar": {
             "outlinewidth": 0,
             "ticks": ""
            },
            "type": "mesh3d"
           }
          ],
          "parcoords": [
           {
            "line": {
             "colorbar": {
              "outlinewidth": 0,
              "ticks": ""
             }
            },
            "type": "parcoords"
           }
          ],
          "pie": [
           {
            "automargin": true,
            "type": "pie"
           }
          ],
          "scatter": [
           {
            "fillpattern": {
             "fillmode": "overlay",
             "size": 10,
             "solidity": 0.2
            },
            "type": "scatter"
           }
          ],
          "scatter3d": [
           {
            "line": {
             "colorbar": {
              "outlinewidth": 0,
              "ticks": ""
             }
            },
            "marker": {
             "colorbar": {
              "outlinewidth": 0,
              "ticks": ""
             }
            },
            "type": "scatter3d"
           }
          ],
          "scattercarpet": [
           {
            "marker": {
             "colorbar": {
              "outlinewidth": 0,
              "ticks": ""
             }
            },
            "type": "scattercarpet"
           }
          ],
          "scattergeo": [
           {
            "marker": {
             "colorbar": {
              "outlinewidth": 0,
              "ticks": ""
             }
            },
            "type": "scattergeo"
           }
          ],
          "scattergl": [
           {
            "marker": {
             "colorbar": {
              "outlinewidth": 0,
              "ticks": ""
             }
            },
            "type": "scattergl"
           }
          ],
          "scattermapbox": [
           {
            "marker": {
             "colorbar": {
              "outlinewidth": 0,
              "ticks": ""
             }
            },
            "type": "scattermapbox"
           }
          ],
          "scatterpolar": [
           {
            "marker": {
             "colorbar": {
              "outlinewidth": 0,
              "ticks": ""
             }
            },
            "type": "scatterpolar"
           }
          ],
          "scatterpolargl": [
           {
            "marker": {
             "colorbar": {
              "outlinewidth": 0,
              "ticks": ""
             }
            },
            "type": "scatterpolargl"
           }
          ],
          "scatterternary": [
           {
            "marker": {
             "colorbar": {
              "outlinewidth": 0,
              "ticks": ""
             }
            },
            "type": "scatterternary"
           }
          ],
          "surface": [
           {
            "colorbar": {
             "outlinewidth": 0,
             "ticks": ""
            },
            "colorscale": [
             [
              0,
              "#0d0887"
             ],
             [
              0.1111111111111111,
              "#46039f"
             ],
             [
              0.2222222222222222,
              "#7201a8"
             ],
             [
              0.3333333333333333,
              "#9c179e"
             ],
             [
              0.4444444444444444,
              "#bd3786"
             ],
             [
              0.5555555555555556,
              "#d8576b"
             ],
             [
              0.6666666666666666,
              "#ed7953"
             ],
             [
              0.7777777777777778,
              "#fb9f3a"
             ],
             [
              0.8888888888888888,
              "#fdca26"
             ],
             [
              1,
              "#f0f921"
             ]
            ],
            "type": "surface"
           }
          ],
          "table": [
           {
            "cells": {
             "fill": {
              "color": "#EBF0F8"
             },
             "line": {
              "color": "white"
             }
            },
            "header": {
             "fill": {
              "color": "#C8D4E3"
             },
             "line": {
              "color": "white"
             }
            },
            "type": "table"
           }
          ]
         },
         "layout": {
          "annotationdefaults": {
           "arrowcolor": "#2a3f5f",
           "arrowhead": 0,
           "arrowwidth": 1
          },
          "autotypenumbers": "strict",
          "coloraxis": {
           "colorbar": {
            "outlinewidth": 0,
            "ticks": ""
           }
          },
          "colorscale": {
           "diverging": [
            [
             0,
             "#8e0152"
            ],
            [
             0.1,
             "#c51b7d"
            ],
            [
             0.2,
             "#de77ae"
            ],
            [
             0.3,
             "#f1b6da"
            ],
            [
             0.4,
             "#fde0ef"
            ],
            [
             0.5,
             "#f7f7f7"
            ],
            [
             0.6,
             "#e6f5d0"
            ],
            [
             0.7,
             "#b8e186"
            ],
            [
             0.8,
             "#7fbc41"
            ],
            [
             0.9,
             "#4d9221"
            ],
            [
             1,
             "#276419"
            ]
           ],
           "sequential": [
            [
             0,
             "#0d0887"
            ],
            [
             0.1111111111111111,
             "#46039f"
            ],
            [
             0.2222222222222222,
             "#7201a8"
            ],
            [
             0.3333333333333333,
             "#9c179e"
            ],
            [
             0.4444444444444444,
             "#bd3786"
            ],
            [
             0.5555555555555556,
             "#d8576b"
            ],
            [
             0.6666666666666666,
             "#ed7953"
            ],
            [
             0.7777777777777778,
             "#fb9f3a"
            ],
            [
             0.8888888888888888,
             "#fdca26"
            ],
            [
             1,
             "#f0f921"
            ]
           ],
           "sequentialminus": [
            [
             0,
             "#0d0887"
            ],
            [
             0.1111111111111111,
             "#46039f"
            ],
            [
             0.2222222222222222,
             "#7201a8"
            ],
            [
             0.3333333333333333,
             "#9c179e"
            ],
            [
             0.4444444444444444,
             "#bd3786"
            ],
            [
             0.5555555555555556,
             "#d8576b"
            ],
            [
             0.6666666666666666,
             "#ed7953"
            ],
            [
             0.7777777777777778,
             "#fb9f3a"
            ],
            [
             0.8888888888888888,
             "#fdca26"
            ],
            [
             1,
             "#f0f921"
            ]
           ]
          },
          "colorway": [
           "#636efa",
           "#EF553B",
           "#00cc96",
           "#ab63fa",
           "#FFA15A",
           "#19d3f3",
           "#FF6692",
           "#B6E880",
           "#FF97FF",
           "#FECB52"
          ],
          "font": {
           "color": "#2a3f5f"
          },
          "geo": {
           "bgcolor": "white",
           "lakecolor": "white",
           "landcolor": "#E5ECF6",
           "showlakes": true,
           "showland": true,
           "subunitcolor": "white"
          },
          "hoverlabel": {
           "align": "left"
          },
          "hovermode": "closest",
          "mapbox": {
           "style": "light"
          },
          "paper_bgcolor": "white",
          "plot_bgcolor": "#E5ECF6",
          "polar": {
           "angularaxis": {
            "gridcolor": "white",
            "linecolor": "white",
            "ticks": ""
           },
           "bgcolor": "#E5ECF6",
           "radialaxis": {
            "gridcolor": "white",
            "linecolor": "white",
            "ticks": ""
           }
          },
          "scene": {
           "xaxis": {
            "backgroundcolor": "#E5ECF6",
            "gridcolor": "white",
            "gridwidth": 2,
            "linecolor": "white",
            "showbackground": true,
            "ticks": "",
            "zerolinecolor": "white"
           },
           "yaxis": {
            "backgroundcolor": "#E5ECF6",
            "gridcolor": "white",
            "gridwidth": 2,
            "linecolor": "white",
            "showbackground": true,
            "ticks": "",
            "zerolinecolor": "white"
           },
           "zaxis": {
            "backgroundcolor": "#E5ECF6",
            "gridcolor": "white",
            "gridwidth": 2,
            "linecolor": "white",
            "showbackground": true,
            "ticks": "",
            "zerolinecolor": "white"
           }
          },
          "shapedefaults": {
           "line": {
            "color": "#2a3f5f"
           }
          },
          "ternary": {
           "aaxis": {
            "gridcolor": "white",
            "linecolor": "white",
            "ticks": ""
           },
           "baxis": {
            "gridcolor": "white",
            "linecolor": "white",
            "ticks": ""
           },
           "bgcolor": "#E5ECF6",
           "caxis": {
            "gridcolor": "white",
            "linecolor": "white",
            "ticks": ""
           }
          },
          "title": {
           "x": 0.05
          },
          "xaxis": {
           "automargin": true,
           "gridcolor": "white",
           "linecolor": "white",
           "ticks": "",
           "title": {
            "standoff": 15
           },
           "zerolinecolor": "white",
           "zerolinewidth": 2
          },
          "yaxis": {
           "automargin": true,
           "gridcolor": "white",
           "linecolor": "white",
           "ticks": "",
           "title": {
            "standoff": 15
           },
           "zerolinecolor": "white",
           "zerolinewidth": 2
          }
         }
        },
        "title": {
         "text": "Cutset conditioning (red) vs variable elimination (blue)"
        },
        "width": 800,
        "xaxis": {
         "anchor": "y",
         "domain": [
          0,
          1
         ],
         "nticks": 20,
         "range": [
          1,
          6
         ],
         "title": {
          "font": {
           "size": 12
          },
          "standoff": 7,
          "text": "Healthy FEV1 (L)"
         }
        },
        "xaxis2": {
         "anchor": "y2",
         "domain": [
          0,
          1
         ],
         "nticks": 20,
         "range": [
          0,
          90
         ],
         "title": {
          "font": {
           "size": 12
          },
          "standoff": 7,
          "text": "Airway resistance (%) day 1"
         }
        },
        "xaxis3": {
         "anchor": "y3",
         "domain": [
          0,
          1
         ],
         "nticks": 20,
         "range": [
          0,
          90
         ],
         "title": {
          "font": {
           "size": 12
          },
          "standoff": 7,
          "text": "Airway resistance (%) day 2"
         }
        },
        "yaxis": {
         "anchor": "x",
         "domain": [
          0.7533333333333334,
          1
         ]
        },
        "yaxis2": {
         "anchor": "x2",
         "domain": [
          0.3766666666666667,
          0.6233333333333334
         ]
        },
        "yaxis3": {
         "anchor": "x3",
         "domain": [
          0,
          0.24666666666666667
         ]
        }
       }
      }
     },
     "metadata": {},
     "output_type": "display_data"
    }
   ],
   "source": [
    "fig = make_subplots(rows=3, cols=1, vertical_spacing=0.13)\n",
    "# Add HFEV1\n",
    "ih.plot_histogram(\n",
    "    fig, HFEV1, res[HFEV1.name].values, HFEV1.a, HFEV1.b, 1, 1, annot=False\n",
    ")\n",
    "ih.plot_histogram(fig, AR, res[AR_vars[0].name].values, AR.a, AR.b, 2, 1, annot=False)\n",
    "ih.plot_histogram(fig, AR, res[AR_vars[1].name].values, AR.a, AR.b, 3, 1, annot=False)\n",
    "\n",
    "# Add HFEV1\n",
    "ih.plot_histogram(fig, HFEV1, p_M_given_D, HFEV1.a, HFEV1.b, 1, 1, title=HFEV1.name)\n",
    "ih.plot_histogram(\n",
    "    fig,\n",
    "    AR,\n",
    "    AR_dist_given_M_matrix[0, :],\n",
    "    AR.a,\n",
    "    AR.b,\n",
    "    2,\n",
    "    1,\n",
    "    title=f\"{AR.name} day 1\",\n",
    "    annot=False,\n",
    ")\n",
    "ih.plot_histogram(\n",
    "    fig,\n",
    "    AR,\n",
    "    AR_dist_given_M_matrix[1, :],\n",
    "    AR.a,\n",
    "    AR.b,\n",
    "    3,\n",
    "    1,\n",
    "    title=f\"{AR.name} day 2\",\n",
    "    annot=False,\n",
    ")\n",
    "ih.plot_histogram(\n",
    "    fig,\n",
    "    AR,\n",
    "    AR_dist_given_M_matrix_forward_swipe[0, :],\n",
    "    AR.a,\n",
    "    AR.b,\n",
    "    2,\n",
    "    1,\n",
    "    title=f\"{AR.name} day 1\",\n",
    "    annot=False,\n",
    ")\n",
    "ih.plot_histogram(\n",
    "    fig,\n",
    "    AR,\n",
    "    AR_dist_given_M_matrix_forward_swipe[1, :],\n",
    "    AR.a,\n",
    "    AR.b,\n",
    "    3,\n",
    "    1,\n",
    "    title=f\"{AR.name} day 2\",\n",
    "    annot=False,\n",
    ")\n",
    "\n",
    "# Set colour for first 3 traces to blue, and last 3 to red\n",
    "for i in range(3):\n",
    "    fig.data[i].marker.color = \"#636EFA\"\n",
    "    fig.data[i + 3].marker.color = \"#EF553B\"\n",
    "    fig.data[i + 5].marker.color = \"green\"\n",
    "# Reduce x axis title font size\n",
    "fig.update_xaxes(title_font=dict(size=12), title_standoff=7)\n",
    "\n",
    "# Hide legend\n",
    "title = \"Cutset conditioning (red) vs variable elimination (blue)\"\n",
    "fig.update_layout(showlegend=False, height=550, width=800, title=title)\n",
    "fig.show()"
   ]
  },
  {
   "cell_type": "markdown",
   "metadata": {},
   "source": [
    "# Validate learning the shape factor"
   ]
  },
  {
   "cell_type": "markdown",
   "metadata": {},
   "source": [
    "## Run Variable Elimination"
   ]
  },
  {
   "cell_type": "code",
   "execution_count": 29,
   "metadata": {},
   "outputs": [
    {
     "name": "stdout",
     "output_type": "stream",
     "text": [
      "Airway resistance (%) day 2, cpt: (9, 9)\n",
      "Airway resistance (%) day 3, cpt: (9, 9)\n",
      "AR var cpt shape (9, 9, 5)\n",
      "{'ecFEV1 (L) day 1': 1, 'ecFEF25-75 % ecFEV1 (%) day 1': 0, 'ecFEV1 (L) day 2': 2, 'ecFEF25-75 % ecFEV1 (%) day 2': 6, 'ecFEV1 (L) day 3': 2, 'ecFEF25-75 % ecFEV1 (%) day 3': 7}\n"
     ]
    },
    {
     "data": {
      "text/plain": [
       "array([7.53796411e-06, 2.89327795e-02, 7.47509485e-01, 2.22818351e-01,\n",
       "       7.31846148e-04])"
      ]
     },
     "execution_count": 29,
     "metadata": {},
     "output_type": "execute_result"
    }
   ],
   "source": [
    "height = 180\n",
    "age = 35\n",
    "sex = \"Male\"\n",
    "n_days = 3\n",
    "ar_prior = \"uniform\"\n",
    "ar_change_cpt_suffix = \"_shape_factor\"\n",
    "ar_change_cpt_state=-1\n",
    "\n",
    "(\n",
    "    model,\n",
    "    # inf_alg,\n",
    "    HFEV1,\n",
    "    HO2Sat,\n",
    "    AR_vars,\n",
    "    uecFEV1_vars,\n",
    "    ecFEV1_vars,\n",
    "    O2SatFFA_vars,\n",
    "    IA_vars,\n",
    "    UO2Sat_vars,\n",
    "    O2Sat_vars,\n",
    "    ecFEF2575prctecFEV1_vars,\n",
    ") = mb.o2sat_fev1_fef2575_n_days_model_noise_shared_healthy_vars_and_temporal_ar_light(\n",
    "    n_days,\n",
    "    height,\n",
    "    age,\n",
    "    sex,\n",
    "    ar_prior=ar_prior,\n",
    "    ar_change_cpt_suffix=ar_change_cpt_suffix,\n",
    "    ar_change_cpt_state=ar_change_cpt_state,\n",
    ")\n",
    "var_elim = VariableElimination(model)\n",
    "\n",
    "print(f\"AR var cpt shape {AR_vars[0].change_cpt.shape}\")\n",
    "\n",
    "evidence_dict = {}\n",
    "for i in range(n_days):\n",
    "    evidence_dict[ecFEV1_vars[i].name] = df_mock.loc[i, \"idx ecFEV1 (L)\"]\n",
    "    evidence_dict[ecFEF2575prctecFEV1_vars[i].name] = df_mock.loc[\n",
    "        i, \"idx ecFEF2575%ecFEV1\"\n",
    "    ]\n",
    "\n",
    "# evidence_dict[ecFEV1_vars[1].name] = df_mock.loc[1, \"idx ecFEV1 (L)\"]\n",
    "print(evidence_dict)\n",
    "\n",
    "# ar_ve_from_day_1_CPD = TabularCPD(\n",
    "#     AR_vars[1].name, AR_vars[1].card, ar_ve_from_day_1.reshape(-1, 1)\n",
    "# )\n",
    "\n",
    "res_ve_S = var_elim.query(\n",
    "    # variables=[AR_vars[0].name, AR_vars[1].name, HFEV1.name],\n",
    "    variables=[AR_vars[0].name, AR_vars[1].name, AR_vars[2].name, HFEV1.name],\n",
    "    evidence=evidence_dict,\n",
    "    joint=False,\n",
    "    # virtual_evidence=[ar_ve_from_day_1_CPD]\n",
    ")\n",
    "res_ve_S[HFEV1.name].values"
   ]
  },
  {
   "cell_type": "code",
   "execution_count": 30,
   "metadata": {},
   "outputs": [
    {
     "data": {
      "application/vnd.plotly.v1+json": {
       "config": {
        "plotlyServerURL": "https://plot.ly"
       },
       "data": [
        {
         "histfunc": "sum",
         "marker": {
          "color": "#636EFA"
         },
         "type": "histogram",
         "x": [
          1,
          2,
          3,
          4,
          5
         ],
         "xaxis": "x",
         "xbins": {
          "end": 6,
          "size": 1,
          "start": 1
         },
         "y": [
          0.000011320334872077716,
          0.030950213166616766,
          0.7817642462068386,
          0.18653735869640845,
          0.0007368615952642508
         ],
         "yaxis": "y"
        },
        {
         "histfunc": "sum",
         "marker": {
          "color": "#636EFA"
         },
         "type": "histogram",
         "x": [
          0,
          10,
          20,
          30,
          40,
          50,
          60,
          70,
          80
         ],
         "xaxis": "x2",
         "xbins": {
          "end": 90,
          "size": 10,
          "start": 0
         },
         "y": [
          0.055165666038190266,
          0.2714567126012201,
          0.41143146522297197,
          0.23294331808885138,
          0.028499889200227804,
          0.0004970163313879381,
          0.000005929994033779282,
          2.5226468247668633e-9,
          4.699876773341832e-13
         ],
         "yaxis": "y2"
        },
        {
         "histfunc": "sum",
         "marker": {
          "color": "#636EFA"
         },
         "type": "histogram",
         "x": [
          0,
          10,
          20,
          30,
          40,
          50,
          60,
          70,
          80
         ],
         "xaxis": "x3",
         "xbins": {
          "end": 90,
          "size": 10,
          "start": 0
         },
         "y": [
          0.12459536949221393,
          0.3811986704288748,
          0.39240444653791295,
          0.09943586904565213,
          0.0023650848052558346,
          5.595086682862211e-7,
          1.8121750760523907e-10,
          2.011915957798413e-13,
          3.3577174895811493e-15
         ],
         "yaxis": "y3"
        },
        {
         "histfunc": "sum",
         "marker": {
          "color": "#636EFA"
         },
         "type": "histogram",
         "x": [
          0,
          10,
          20,
          30,
          40,
          50,
          60,
          70,
          80
         ],
         "xaxis": "x4",
         "xbins": {
          "end": 90,
          "size": 10,
          "start": 0
         },
         "y": [
          0.19657184828029,
          0.41613754105615075,
          0.32548534504681087,
          0.06092248071939699,
          0.0008827558921190366,
          2.9003885732114382e-8,
          1.2396885004493573e-12,
          1.0297910141156134e-13,
          3.843645431718091e-15
         ],
         "yaxis": "y4"
        },
        {
         "histfunc": "sum",
         "marker": {
          "color": "#EF553B"
         },
         "type": "histogram",
         "x": [
          1,
          2,
          3,
          4,
          5
         ],
         "xaxis": "x",
         "xbins": {
          "end": 6,
          "size": 1,
          "start": 1
         },
         "y": [
          0.000007537964112985824,
          0.028932779487895927,
          0.7475094849371822,
          0.22281835146254012,
          0.0007318461482687141
         ],
         "yaxis": "y"
        },
        {
         "histfunc": "sum",
         "marker": {
          "color": "#EF553B"
         },
         "type": "histogram",
         "x": [
          0,
          10,
          20,
          30,
          40,
          50,
          60,
          70,
          80
         ],
         "xaxis": "x2",
         "xbins": {
          "end": 90,
          "size": 10,
          "start": 0
         },
         "y": [
          0.01545930097759823,
          0.09584726507871938,
          0.2523988872544763,
          0.36130255332389943,
          0.22538243950860826,
          0.038329953301446194,
          0.009375394171072596,
          0.001784339664403337,
          0.00011986671977634632
         ],
         "yaxis": "y2"
        },
        {
         "histfunc": "sum",
         "marker": {
          "color": "#EF553B"
         },
         "type": "histogram",
         "x": [
          0,
          10,
          20,
          30,
          40,
          50,
          60,
          70,
          80
         ],
         "xaxis": "x3",
         "xbins": {
          "end": 90,
          "size": 10,
          "start": 0
         },
         "y": [
          0.2399923943362843,
          0.3866956087687066,
          0.2878699707194787,
          0.08052694548744291,
          0.004905702623759431,
          0.000009320380047721887,
          4.5766412974851e-8,
          1.1771700283780535e-8,
          1.461670388853829e-10
         ],
         "yaxis": "y3"
        },
        {
         "histfunc": "sum",
         "marker": {
          "color": "#EF553B"
         },
         "type": "histogram",
         "x": [
          0,
          10,
          20,
          30,
          40,
          50,
          60,
          70,
          80
         ],
         "xaxis": "x4",
         "xbins": {
          "end": 90,
          "size": 10,
          "start": 0
         },
         "y": [
          0.408407517506903,
          0.4024190989474085,
          0.16561475113507804,
          0.023033279148427635,
          0.0005252882236929115,
          6.498054101780878e-8,
          3.777673183857318e-11,
          1.968781903838531e-11,
          4.844226454520444e-13
         ],
         "yaxis": "y4"
        }
       ],
       "layout": {
        "height": 550,
        "showlegend": false,
        "template": {
         "data": {
          "bar": [
           {
            "error_x": {
             "color": "#2a3f5f"
            },
            "error_y": {
             "color": "#2a3f5f"
            },
            "marker": {
             "line": {
              "color": "#E5ECF6",
              "width": 0.5
             },
             "pattern": {
              "fillmode": "overlay",
              "size": 10,
              "solidity": 0.2
             }
            },
            "type": "bar"
           }
          ],
          "barpolar": [
           {
            "marker": {
             "line": {
              "color": "#E5ECF6",
              "width": 0.5
             },
             "pattern": {
              "fillmode": "overlay",
              "size": 10,
              "solidity": 0.2
             }
            },
            "type": "barpolar"
           }
          ],
          "carpet": [
           {
            "aaxis": {
             "endlinecolor": "#2a3f5f",
             "gridcolor": "white",
             "linecolor": "white",
             "minorgridcolor": "white",
             "startlinecolor": "#2a3f5f"
            },
            "baxis": {
             "endlinecolor": "#2a3f5f",
             "gridcolor": "white",
             "linecolor": "white",
             "minorgridcolor": "white",
             "startlinecolor": "#2a3f5f"
            },
            "type": "carpet"
           }
          ],
          "choropleth": [
           {
            "colorbar": {
             "outlinewidth": 0,
             "ticks": ""
            },
            "type": "choropleth"
           }
          ],
          "contour": [
           {
            "colorbar": {
             "outlinewidth": 0,
             "ticks": ""
            },
            "colorscale": [
             [
              0,
              "#0d0887"
             ],
             [
              0.1111111111111111,
              "#46039f"
             ],
             [
              0.2222222222222222,
              "#7201a8"
             ],
             [
              0.3333333333333333,
              "#9c179e"
             ],
             [
              0.4444444444444444,
              "#bd3786"
             ],
             [
              0.5555555555555556,
              "#d8576b"
             ],
             [
              0.6666666666666666,
              "#ed7953"
             ],
             [
              0.7777777777777778,
              "#fb9f3a"
             ],
             [
              0.8888888888888888,
              "#fdca26"
             ],
             [
              1,
              "#f0f921"
             ]
            ],
            "type": "contour"
           }
          ],
          "contourcarpet": [
           {
            "colorbar": {
             "outlinewidth": 0,
             "ticks": ""
            },
            "type": "contourcarpet"
           }
          ],
          "heatmap": [
           {
            "colorbar": {
             "outlinewidth": 0,
             "ticks": ""
            },
            "colorscale": [
             [
              0,
              "#0d0887"
             ],
             [
              0.1111111111111111,
              "#46039f"
             ],
             [
              0.2222222222222222,
              "#7201a8"
             ],
             [
              0.3333333333333333,
              "#9c179e"
             ],
             [
              0.4444444444444444,
              "#bd3786"
             ],
             [
              0.5555555555555556,
              "#d8576b"
             ],
             [
              0.6666666666666666,
              "#ed7953"
             ],
             [
              0.7777777777777778,
              "#fb9f3a"
             ],
             [
              0.8888888888888888,
              "#fdca26"
             ],
             [
              1,
              "#f0f921"
             ]
            ],
            "type": "heatmap"
           }
          ],
          "heatmapgl": [
           {
            "colorbar": {
             "outlinewidth": 0,
             "ticks": ""
            },
            "colorscale": [
             [
              0,
              "#0d0887"
             ],
             [
              0.1111111111111111,
              "#46039f"
             ],
             [
              0.2222222222222222,
              "#7201a8"
             ],
             [
              0.3333333333333333,
              "#9c179e"
             ],
             [
              0.4444444444444444,
              "#bd3786"
             ],
             [
              0.5555555555555556,
              "#d8576b"
             ],
             [
              0.6666666666666666,
              "#ed7953"
             ],
             [
              0.7777777777777778,
              "#fb9f3a"
             ],
             [
              0.8888888888888888,
              "#fdca26"
             ],
             [
              1,
              "#f0f921"
             ]
            ],
            "type": "heatmapgl"
           }
          ],
          "histogram": [
           {
            "marker": {
             "pattern": {
              "fillmode": "overlay",
              "size": 10,
              "solidity": 0.2
             }
            },
            "type": "histogram"
           }
          ],
          "histogram2d": [
           {
            "colorbar": {
             "outlinewidth": 0,
             "ticks": ""
            },
            "colorscale": [
             [
              0,
              "#0d0887"
             ],
             [
              0.1111111111111111,
              "#46039f"
             ],
             [
              0.2222222222222222,
              "#7201a8"
             ],
             [
              0.3333333333333333,
              "#9c179e"
             ],
             [
              0.4444444444444444,
              "#bd3786"
             ],
             [
              0.5555555555555556,
              "#d8576b"
             ],
             [
              0.6666666666666666,
              "#ed7953"
             ],
             [
              0.7777777777777778,
              "#fb9f3a"
             ],
             [
              0.8888888888888888,
              "#fdca26"
             ],
             [
              1,
              "#f0f921"
             ]
            ],
            "type": "histogram2d"
           }
          ],
          "histogram2dcontour": [
           {
            "colorbar": {
             "outlinewidth": 0,
             "ticks": ""
            },
            "colorscale": [
             [
              0,
              "#0d0887"
             ],
             [
              0.1111111111111111,
              "#46039f"
             ],
             [
              0.2222222222222222,
              "#7201a8"
             ],
             [
              0.3333333333333333,
              "#9c179e"
             ],
             [
              0.4444444444444444,
              "#bd3786"
             ],
             [
              0.5555555555555556,
              "#d8576b"
             ],
             [
              0.6666666666666666,
              "#ed7953"
             ],
             [
              0.7777777777777778,
              "#fb9f3a"
             ],
             [
              0.8888888888888888,
              "#fdca26"
             ],
             [
              1,
              "#f0f921"
             ]
            ],
            "type": "histogram2dcontour"
           }
          ],
          "mesh3d": [
           {
            "colorbar": {
             "outlinewidth": 0,
             "ticks": ""
            },
            "type": "mesh3d"
           }
          ],
          "parcoords": [
           {
            "line": {
             "colorbar": {
              "outlinewidth": 0,
              "ticks": ""
             }
            },
            "type": "parcoords"
           }
          ],
          "pie": [
           {
            "automargin": true,
            "type": "pie"
           }
          ],
          "scatter": [
           {
            "fillpattern": {
             "fillmode": "overlay",
             "size": 10,
             "solidity": 0.2
            },
            "type": "scatter"
           }
          ],
          "scatter3d": [
           {
            "line": {
             "colorbar": {
              "outlinewidth": 0,
              "ticks": ""
             }
            },
            "marker": {
             "colorbar": {
              "outlinewidth": 0,
              "ticks": ""
             }
            },
            "type": "scatter3d"
           }
          ],
          "scattercarpet": [
           {
            "marker": {
             "colorbar": {
              "outlinewidth": 0,
              "ticks": ""
             }
            },
            "type": "scattercarpet"
           }
          ],
          "scattergeo": [
           {
            "marker": {
             "colorbar": {
              "outlinewidth": 0,
              "ticks": ""
             }
            },
            "type": "scattergeo"
           }
          ],
          "scattergl": [
           {
            "marker": {
             "colorbar": {
              "outlinewidth": 0,
              "ticks": ""
             }
            },
            "type": "scattergl"
           }
          ],
          "scattermapbox": [
           {
            "marker": {
             "colorbar": {
              "outlinewidth": 0,
              "ticks": ""
             }
            },
            "type": "scattermapbox"
           }
          ],
          "scatterpolar": [
           {
            "marker": {
             "colorbar": {
              "outlinewidth": 0,
              "ticks": ""
             }
            },
            "type": "scatterpolar"
           }
          ],
          "scatterpolargl": [
           {
            "marker": {
             "colorbar": {
              "outlinewidth": 0,
              "ticks": ""
             }
            },
            "type": "scatterpolargl"
           }
          ],
          "scatterternary": [
           {
            "marker": {
             "colorbar": {
              "outlinewidth": 0,
              "ticks": ""
             }
            },
            "type": "scatterternary"
           }
          ],
          "surface": [
           {
            "colorbar": {
             "outlinewidth": 0,
             "ticks": ""
            },
            "colorscale": [
             [
              0,
              "#0d0887"
             ],
             [
              0.1111111111111111,
              "#46039f"
             ],
             [
              0.2222222222222222,
              "#7201a8"
             ],
             [
              0.3333333333333333,
              "#9c179e"
             ],
             [
              0.4444444444444444,
              "#bd3786"
             ],
             [
              0.5555555555555556,
              "#d8576b"
             ],
             [
              0.6666666666666666,
              "#ed7953"
             ],
             [
              0.7777777777777778,
              "#fb9f3a"
             ],
             [
              0.8888888888888888,
              "#fdca26"
             ],
             [
              1,
              "#f0f921"
             ]
            ],
            "type": "surface"
           }
          ],
          "table": [
           {
            "cells": {
             "fill": {
              "color": "#EBF0F8"
             },
             "line": {
              "color": "white"
             }
            },
            "header": {
             "fill": {
              "color": "#C8D4E3"
             },
             "line": {
              "color": "white"
             }
            },
            "type": "table"
           }
          ]
         },
         "layout": {
          "annotationdefaults": {
           "arrowcolor": "#2a3f5f",
           "arrowhead": 0,
           "arrowwidth": 1
          },
          "autotypenumbers": "strict",
          "coloraxis": {
           "colorbar": {
            "outlinewidth": 0,
            "ticks": ""
           }
          },
          "colorscale": {
           "diverging": [
            [
             0,
             "#8e0152"
            ],
            [
             0.1,
             "#c51b7d"
            ],
            [
             0.2,
             "#de77ae"
            ],
            [
             0.3,
             "#f1b6da"
            ],
            [
             0.4,
             "#fde0ef"
            ],
            [
             0.5,
             "#f7f7f7"
            ],
            [
             0.6,
             "#e6f5d0"
            ],
            [
             0.7,
             "#b8e186"
            ],
            [
             0.8,
             "#7fbc41"
            ],
            [
             0.9,
             "#4d9221"
            ],
            [
             1,
             "#276419"
            ]
           ],
           "sequential": [
            [
             0,
             "#0d0887"
            ],
            [
             0.1111111111111111,
             "#46039f"
            ],
            [
             0.2222222222222222,
             "#7201a8"
            ],
            [
             0.3333333333333333,
             "#9c179e"
            ],
            [
             0.4444444444444444,
             "#bd3786"
            ],
            [
             0.5555555555555556,
             "#d8576b"
            ],
            [
             0.6666666666666666,
             "#ed7953"
            ],
            [
             0.7777777777777778,
             "#fb9f3a"
            ],
            [
             0.8888888888888888,
             "#fdca26"
            ],
            [
             1,
             "#f0f921"
            ]
           ],
           "sequentialminus": [
            [
             0,
             "#0d0887"
            ],
            [
             0.1111111111111111,
             "#46039f"
            ],
            [
             0.2222222222222222,
             "#7201a8"
            ],
            [
             0.3333333333333333,
             "#9c179e"
            ],
            [
             0.4444444444444444,
             "#bd3786"
            ],
            [
             0.5555555555555556,
             "#d8576b"
            ],
            [
             0.6666666666666666,
             "#ed7953"
            ],
            [
             0.7777777777777778,
             "#fb9f3a"
            ],
            [
             0.8888888888888888,
             "#fdca26"
            ],
            [
             1,
             "#f0f921"
            ]
           ]
          },
          "colorway": [
           "#636efa",
           "#EF553B",
           "#00cc96",
           "#ab63fa",
           "#FFA15A",
           "#19d3f3",
           "#FF6692",
           "#B6E880",
           "#FF97FF",
           "#FECB52"
          ],
          "font": {
           "color": "#2a3f5f"
          },
          "geo": {
           "bgcolor": "white",
           "lakecolor": "white",
           "landcolor": "#E5ECF6",
           "showlakes": true,
           "showland": true,
           "subunitcolor": "white"
          },
          "hoverlabel": {
           "align": "left"
          },
          "hovermode": "closest",
          "mapbox": {
           "style": "light"
          },
          "paper_bgcolor": "white",
          "plot_bgcolor": "#E5ECF6",
          "polar": {
           "angularaxis": {
            "gridcolor": "white",
            "linecolor": "white",
            "ticks": ""
           },
           "bgcolor": "#E5ECF6",
           "radialaxis": {
            "gridcolor": "white",
            "linecolor": "white",
            "ticks": ""
           }
          },
          "scene": {
           "xaxis": {
            "backgroundcolor": "#E5ECF6",
            "gridcolor": "white",
            "gridwidth": 2,
            "linecolor": "white",
            "showbackground": true,
            "ticks": "",
            "zerolinecolor": "white"
           },
           "yaxis": {
            "backgroundcolor": "#E5ECF6",
            "gridcolor": "white",
            "gridwidth": 2,
            "linecolor": "white",
            "showbackground": true,
            "ticks": "",
            "zerolinecolor": "white"
           },
           "zaxis": {
            "backgroundcolor": "#E5ECF6",
            "gridcolor": "white",
            "gridwidth": 2,
            "linecolor": "white",
            "showbackground": true,
            "ticks": "",
            "zerolinecolor": "white"
           }
          },
          "shapedefaults": {
           "line": {
            "color": "#2a3f5f"
           }
          },
          "ternary": {
           "aaxis": {
            "gridcolor": "white",
            "linecolor": "white",
            "ticks": ""
           },
           "baxis": {
            "gridcolor": "white",
            "linecolor": "white",
            "ticks": ""
           },
           "bgcolor": "#E5ECF6",
           "caxis": {
            "gridcolor": "white",
            "linecolor": "white",
            "ticks": ""
           }
          },
          "title": {
           "x": 0.05
          },
          "xaxis": {
           "automargin": true,
           "gridcolor": "white",
           "linecolor": "white",
           "ticks": "",
           "title": {
            "standoff": 15
           },
           "zerolinecolor": "white",
           "zerolinewidth": 2
          },
          "yaxis": {
           "automargin": true,
           "gridcolor": "white",
           "linecolor": "white",
           "ticks": "",
           "title": {
            "standoff": 15
           },
           "zerolinecolor": "white",
           "zerolinewidth": 2
          }
         }
        },
        "title": {
         "text": "Var Elim with S variable (red) against the 'with temporal connections' (blue)"
        },
        "width": 800,
        "xaxis": {
         "anchor": "y",
         "domain": [
          0,
          1
         ],
         "nticks": 20,
         "range": [
          1,
          6
         ],
         "title": {
          "font": {
           "size": 12
          },
          "standoff": 7,
          "text": "Healthy FEV1 (L)"
         }
        },
        "xaxis2": {
         "anchor": "y2",
         "domain": [
          0,
          1
         ],
         "nticks": 20,
         "range": [
          0,
          90
         ],
         "title": {
          "font": {
           "size": 12
          },
          "standoff": 7,
          "text": "Airway resistance (%) day 1"
         }
        },
        "xaxis3": {
         "anchor": "y3",
         "domain": [
          0,
          1
         ],
         "nticks": 20,
         "range": [
          0,
          90
         ],
         "title": {
          "font": {
           "size": 12
          },
          "standoff": 7,
          "text": "Airway resistance (%) day 2"
         }
        },
        "xaxis4": {
         "anchor": "y4",
         "domain": [
          0,
          1
         ],
         "nticks": 20,
         "range": [
          0,
          90
         ],
         "title": {
          "font": {
           "size": 12
          },
          "standoff": 7,
          "text": "Airway resistance (%) day 3"
         }
        },
        "yaxis": {
         "anchor": "x",
         "domain": [
          0.8475,
          1
         ]
        },
        "yaxis2": {
         "anchor": "x2",
         "domain": [
          0.565,
          0.7174999999999999
         ]
        },
        "yaxis3": {
         "anchor": "x3",
         "domain": [
          0.2825,
          0.43499999999999994
         ]
        },
        "yaxis4": {
         "anchor": "x4",
         "domain": [
          0,
          0.1525
         ]
        }
       }
      }
     },
     "metadata": {},
     "output_type": "display_data"
    }
   ],
   "source": [
    "# Compare difference of variable elimination with temporal connections with and without the S variable\n",
    "# \n",
    "\n",
    "AR = AR_vars[0]\n",
    "\n",
    "fig = make_subplots(rows=4, cols=1, vertical_spacing=0.13)\n",
    "# Add HFEV1\n",
    "ih.plot_histogram(\n",
    "    fig, HFEV1, res_ve[HFEV1.name].values, HFEV1.a, HFEV1.b, 1, 1, annot=False\n",
    ")\n",
    "ih.plot_histogram(fig, AR, res_ve[AR_vars[0].name].values, AR.a, AR.b, 2, 1, annot=False)\n",
    "ih.plot_histogram(fig, AR, res_ve[AR_vars[1].name].values, AR.a, AR.b, 3, 1, annot=False)\n",
    "ih.plot_histogram(fig, AR, res_ve[AR_vars[2].name].values, AR.a, AR.b, 4, 1, annot=False)\n",
    "\n",
    "ih.plot_histogram(\n",
    "    fig, HFEV1, res_ve_S[HFEV1.name].values, HFEV1.a, HFEV1.b, 1, 1, annot=False, title=f\"{HFEV1.name}\",\n",
    ")\n",
    "ih.plot_histogram(fig, AR, res_ve_S[AR_vars[0].name].values, AR.a, AR.b, 2, 1, annot=False, title=f\"{AR_vars[0].name}\",)\n",
    "ih.plot_histogram(fig, AR, res_ve_S[AR_vars[1].name].values, AR.a, AR.b, 3, 1, annot=False, title=f\"{AR_vars[1].name}\",)\n",
    "ih.plot_histogram(fig, AR, res_ve_S[AR_vars[2].name].values, AR.a, AR.b, 4, 1, annot=False, title=f\"{AR_vars[2].name}\",)\n",
    "\n",
    "# Set colour for first 3 traces to blue, and last 3 to red\n",
    "for i in range(4):\n",
    "    fig.data[i].marker.color = \"#636EFA\"\n",
    "    fig.data[i + 4].marker.color = \"#EF553B\"\n",
    "# Reduce x axis title font size\n",
    "fig.update_xaxes(title_font=dict(size=12), title_standoff=7)\n",
    "\n",
    "# Hide legend\n",
    "title = \"Var Elim with S variable (red) against the 'with temporal connections' (blue)\"\n",
    "fig.update_layout(showlegend=False, height=550, width=800, title=title)\n",
    "fig.show()"
   ]
  },
  {
   "cell_type": "markdown",
   "metadata": {},
   "source": [
    "## Run Cutset Cond BP"
   ]
  },
  {
   "cell_type": "code",
   "execution_count": 5,
   "metadata": {},
   "outputs": [
    {
     "data": {
      "text/html": [
       "<div>\n",
       "<style scoped>\n",
       "    .dataframe tbody tr th:only-of-type {\n",
       "        vertical-align: middle;\n",
       "    }\n",
       "\n",
       "    .dataframe tbody tr th {\n",
       "        vertical-align: top;\n",
       "    }\n",
       "\n",
       "    .dataframe thead th {\n",
       "        text-align: right;\n",
       "    }\n",
       "</style>\n",
       "<table border=\"1\" class=\"dataframe\">\n",
       "  <thead>\n",
       "    <tr style=\"text-align: right;\">\n",
       "      <th></th>\n",
       "      <th>ID</th>\n",
       "      <th>Date Recorded</th>\n",
       "      <th>Height</th>\n",
       "      <th>Age</th>\n",
       "      <th>Sex</th>\n",
       "      <th>ecFEV1</th>\n",
       "      <th>ecFEF2575%ecFEV1</th>\n",
       "      <th>idx ecFEV1 (L)</th>\n",
       "      <th>idx ecFEF2575%ecFEV1</th>\n",
       "      <th>idx ecFEF25-75 % ecFEV1 (%)</th>\n",
       "    </tr>\n",
       "  </thead>\n",
       "  <tbody>\n",
       "    <tr>\n",
       "      <th>0</th>\n",
       "      <td>1</td>\n",
       "      <td>2020-01-02</td>\n",
       "      <td>180</td>\n",
       "      <td>35</td>\n",
       "      <td>Male</td>\n",
       "      <td>1.8</td>\n",
       "      <td>12</td>\n",
       "      <td>1</td>\n",
       "      <td>0</td>\n",
       "      <td>0</td>\n",
       "    </tr>\n",
       "    <tr>\n",
       "      <th>1</th>\n",
       "      <td>1</td>\n",
       "      <td>2020-01-03</td>\n",
       "      <td>180</td>\n",
       "      <td>35</td>\n",
       "      <td>Male</td>\n",
       "      <td>2.2</td>\n",
       "      <td>120</td>\n",
       "      <td>2</td>\n",
       "      <td>6</td>\n",
       "      <td>6</td>\n",
       "    </tr>\n",
       "    <tr>\n",
       "      <th>2</th>\n",
       "      <td>1</td>\n",
       "      <td>2020-01-04</td>\n",
       "      <td>180</td>\n",
       "      <td>35</td>\n",
       "      <td>Male</td>\n",
       "      <td>2.2</td>\n",
       "      <td>150</td>\n",
       "      <td>2</td>\n",
       "      <td>7</td>\n",
       "      <td>7</td>\n",
       "    </tr>\n",
       "  </tbody>\n",
       "</table>\n",
       "</div>"
      ],
      "text/plain": [
       "  ID Date Recorded  Height  Age   Sex  ecFEV1  ecFEF2575%ecFEV1  \\\n",
       "0  1    2020-01-02     180   35  Male     1.8                12   \n",
       "1  1    2020-01-03     180   35  Male     2.2               120   \n",
       "2  1    2020-01-04     180   35  Male     2.2               150   \n",
       "\n",
       "   idx ecFEV1 (L)  idx ecFEF2575%ecFEV1  idx ecFEF25-75 % ecFEV1 (%)  \n",
       "0               1                     0                            0  \n",
       "1               2                     6                            6  \n",
       "2               2                     7                            7  "
      ]
     },
     "execution_count": 5,
     "metadata": {},
     "output_type": "execute_result"
    }
   ],
   "source": [
    "df_mock"
   ]
  },
  {
   "cell_type": "code",
   "execution_count": 24,
   "metadata": {},
   "outputs": [
    {
     "name": "stdout",
     "output_type": "stream",
     "text": [
      "1 - Time for 3 entries: 0.04 s\n"
     ]
    }
   ],
   "source": [
    "# id = \"527\"\n",
    "# dftmp, start_idx, end_idx = dh.find_longest_consec_series(df[df.ID == id], n_days=1)\n",
    "\n",
    "# ar_prior = \"breathe (2 days model, ecFEV1 addmultnoise, ecFEF25-75)\"\n",
    "ar_prior = \"uniform\"\n",
    "ar_change_cpt_suffix = \"_shape_factor\"\n",
    "\n",
    "(\n",
    "    p_M_given_D,\n",
    "    log_p_D_given_M,\n",
    "    res_dict,\n",
    ") = cca_ar_change.run_long_noise_model_through_time_light(\n",
    "    df_mock,\n",
    "    ar_prior=ar_prior,\n",
    "    ar_change_cpt_suffix=ar_change_cpt_suffix,\n",
    "    debug=False,\n",
    ")"
   ]
  },
  {
   "cell_type": "code",
   "execution_count": 25,
   "metadata": {},
   "outputs": [],
   "source": [
    "import src.models.helpers as mh\n",
    "\n",
    "S = mh.DiscreteVariableNode(\"AR change factor shape\", 2, 10, 2)\n",
    "HFEV1 = mh.SharedVariableNode(\"Healthy FEV1 (L)\", 1, 6, 1, prior=None)"
   ]
  },
  {
   "cell_type": "code",
   "execution_count": 26,
   "metadata": {},
   "outputs": [],
   "source": [
    "res_hfev1_cutset = p_M_given_D.reshape((HFEV1.card, S.card))\n",
    "res_hfev1_cutset = res_hfev1_cutset[:, ar_change_cpt_state]\n",
    "res_hfev1_cutset = res_hfev1_cutset / np.sum(res_hfev1_cutset)"
   ]
  },
  {
   "cell_type": "code",
   "execution_count": 35,
   "metadata": {},
   "outputs": [
    {
     "data": {
      "application/vnd.plotly.v1+json": {
       "config": {
        "plotlyServerURL": "https://plot.ly"
       },
       "data": [
        {
         "histfunc": "sum",
         "type": "histogram",
         "x": [
          1,
          2,
          3,
          4,
          5
         ],
         "xaxis": "x",
         "xbins": {
          "end": 6,
          "size": 1,
          "start": 1
         },
         "y": [
          0.000007537964112985824,
          0.028932779487895927,
          0.7475094849371822,
          0.22281835146254012,
          0.0007318461482687141
         ],
         "yaxis": "y"
        },
        {
         "histfunc": "sum",
         "type": "histogram",
         "x": [
          1,
          2,
          3,
          4,
          5
         ],
         "xaxis": "x",
         "xbins": {
          "end": 6,
          "size": 1,
          "start": 1
         },
         "y": [
          0.000007537964113238609,
          0.028932779489541795,
          0.7475094849367429,
          0.22281835146130866,
          0.0007318461482933782
         ],
         "yaxis": "y"
        }
       ],
       "layout": {
        "annotations": [
         {
          "font": {
           "size": 8
          },
          "showarrow": false,
          "text": "3.70",
          "x": 3.6953341883401265,
          "xref": "x",
          "y": 0.8222604334304172,
          "yref": "y"
         }
        ],
        "height": 300,
        "showlegend": false,
        "template": {
         "data": {
          "bar": [
           {
            "error_x": {
             "color": "#2a3f5f"
            },
            "error_y": {
             "color": "#2a3f5f"
            },
            "marker": {
             "line": {
              "color": "#E5ECF6",
              "width": 0.5
             },
             "pattern": {
              "fillmode": "overlay",
              "size": 10,
              "solidity": 0.2
             }
            },
            "type": "bar"
           }
          ],
          "barpolar": [
           {
            "marker": {
             "line": {
              "color": "#E5ECF6",
              "width": 0.5
             },
             "pattern": {
              "fillmode": "overlay",
              "size": 10,
              "solidity": 0.2
             }
            },
            "type": "barpolar"
           }
          ],
          "carpet": [
           {
            "aaxis": {
             "endlinecolor": "#2a3f5f",
             "gridcolor": "white",
             "linecolor": "white",
             "minorgridcolor": "white",
             "startlinecolor": "#2a3f5f"
            },
            "baxis": {
             "endlinecolor": "#2a3f5f",
             "gridcolor": "white",
             "linecolor": "white",
             "minorgridcolor": "white",
             "startlinecolor": "#2a3f5f"
            },
            "type": "carpet"
           }
          ],
          "choropleth": [
           {
            "colorbar": {
             "outlinewidth": 0,
             "ticks": ""
            },
            "type": "choropleth"
           }
          ],
          "contour": [
           {
            "colorbar": {
             "outlinewidth": 0,
             "ticks": ""
            },
            "colorscale": [
             [
              0,
              "#0d0887"
             ],
             [
              0.1111111111111111,
              "#46039f"
             ],
             [
              0.2222222222222222,
              "#7201a8"
             ],
             [
              0.3333333333333333,
              "#9c179e"
             ],
             [
              0.4444444444444444,
              "#bd3786"
             ],
             [
              0.5555555555555556,
              "#d8576b"
             ],
             [
              0.6666666666666666,
              "#ed7953"
             ],
             [
              0.7777777777777778,
              "#fb9f3a"
             ],
             [
              0.8888888888888888,
              "#fdca26"
             ],
             [
              1,
              "#f0f921"
             ]
            ],
            "type": "contour"
           }
          ],
          "contourcarpet": [
           {
            "colorbar": {
             "outlinewidth": 0,
             "ticks": ""
            },
            "type": "contourcarpet"
           }
          ],
          "heatmap": [
           {
            "colorbar": {
             "outlinewidth": 0,
             "ticks": ""
            },
            "colorscale": [
             [
              0,
              "#0d0887"
             ],
             [
              0.1111111111111111,
              "#46039f"
             ],
             [
              0.2222222222222222,
              "#7201a8"
             ],
             [
              0.3333333333333333,
              "#9c179e"
             ],
             [
              0.4444444444444444,
              "#bd3786"
             ],
             [
              0.5555555555555556,
              "#d8576b"
             ],
             [
              0.6666666666666666,
              "#ed7953"
             ],
             [
              0.7777777777777778,
              "#fb9f3a"
             ],
             [
              0.8888888888888888,
              "#fdca26"
             ],
             [
              1,
              "#f0f921"
             ]
            ],
            "type": "heatmap"
           }
          ],
          "heatmapgl": [
           {
            "colorbar": {
             "outlinewidth": 0,
             "ticks": ""
            },
            "colorscale": [
             [
              0,
              "#0d0887"
             ],
             [
              0.1111111111111111,
              "#46039f"
             ],
             [
              0.2222222222222222,
              "#7201a8"
             ],
             [
              0.3333333333333333,
              "#9c179e"
             ],
             [
              0.4444444444444444,
              "#bd3786"
             ],
             [
              0.5555555555555556,
              "#d8576b"
             ],
             [
              0.6666666666666666,
              "#ed7953"
             ],
             [
              0.7777777777777778,
              "#fb9f3a"
             ],
             [
              0.8888888888888888,
              "#fdca26"
             ],
             [
              1,
              "#f0f921"
             ]
            ],
            "type": "heatmapgl"
           }
          ],
          "histogram": [
           {
            "marker": {
             "pattern": {
              "fillmode": "overlay",
              "size": 10,
              "solidity": 0.2
             }
            },
            "type": "histogram"
           }
          ],
          "histogram2d": [
           {
            "colorbar": {
             "outlinewidth": 0,
             "ticks": ""
            },
            "colorscale": [
             [
              0,
              "#0d0887"
             ],
             [
              0.1111111111111111,
              "#46039f"
             ],
             [
              0.2222222222222222,
              "#7201a8"
             ],
             [
              0.3333333333333333,
              "#9c179e"
             ],
             [
              0.4444444444444444,
              "#bd3786"
             ],
             [
              0.5555555555555556,
              "#d8576b"
             ],
             [
              0.6666666666666666,
              "#ed7953"
             ],
             [
              0.7777777777777778,
              "#fb9f3a"
             ],
             [
              0.8888888888888888,
              "#fdca26"
             ],
             [
              1,
              "#f0f921"
             ]
            ],
            "type": "histogram2d"
           }
          ],
          "histogram2dcontour": [
           {
            "colorbar": {
             "outlinewidth": 0,
             "ticks": ""
            },
            "colorscale": [
             [
              0,
              "#0d0887"
             ],
             [
              0.1111111111111111,
              "#46039f"
             ],
             [
              0.2222222222222222,
              "#7201a8"
             ],
             [
              0.3333333333333333,
              "#9c179e"
             ],
             [
              0.4444444444444444,
              "#bd3786"
             ],
             [
              0.5555555555555556,
              "#d8576b"
             ],
             [
              0.6666666666666666,
              "#ed7953"
             ],
             [
              0.7777777777777778,
              "#fb9f3a"
             ],
             [
              0.8888888888888888,
              "#fdca26"
             ],
             [
              1,
              "#f0f921"
             ]
            ],
            "type": "histogram2dcontour"
           }
          ],
          "mesh3d": [
           {
            "colorbar": {
             "outlinewidth": 0,
             "ticks": ""
            },
            "type": "mesh3d"
           }
          ],
          "parcoords": [
           {
            "line": {
             "colorbar": {
              "outlinewidth": 0,
              "ticks": ""
             }
            },
            "type": "parcoords"
           }
          ],
          "pie": [
           {
            "automargin": true,
            "type": "pie"
           }
          ],
          "scatter": [
           {
            "fillpattern": {
             "fillmode": "overlay",
             "size": 10,
             "solidity": 0.2
            },
            "type": "scatter"
           }
          ],
          "scatter3d": [
           {
            "line": {
             "colorbar": {
              "outlinewidth": 0,
              "ticks": ""
             }
            },
            "marker": {
             "colorbar": {
              "outlinewidth": 0,
              "ticks": ""
             }
            },
            "type": "scatter3d"
           }
          ],
          "scattercarpet": [
           {
            "marker": {
             "colorbar": {
              "outlinewidth": 0,
              "ticks": ""
             }
            },
            "type": "scattercarpet"
           }
          ],
          "scattergeo": [
           {
            "marker": {
             "colorbar": {
              "outlinewidth": 0,
              "ticks": ""
             }
            },
            "type": "scattergeo"
           }
          ],
          "scattergl": [
           {
            "marker": {
             "colorbar": {
              "outlinewidth": 0,
              "ticks": ""
             }
            },
            "type": "scattergl"
           }
          ],
          "scattermapbox": [
           {
            "marker": {
             "colorbar": {
              "outlinewidth": 0,
              "ticks": ""
             }
            },
            "type": "scattermapbox"
           }
          ],
          "scatterpolar": [
           {
            "marker": {
             "colorbar": {
              "outlinewidth": 0,
              "ticks": ""
             }
            },
            "type": "scatterpolar"
           }
          ],
          "scatterpolargl": [
           {
            "marker": {
             "colorbar": {
              "outlinewidth": 0,
              "ticks": ""
             }
            },
            "type": "scatterpolargl"
           }
          ],
          "scatterternary": [
           {
            "marker": {
             "colorbar": {
              "outlinewidth": 0,
              "ticks": ""
             }
            },
            "type": "scatterternary"
           }
          ],
          "surface": [
           {
            "colorbar": {
             "outlinewidth": 0,
             "ticks": ""
            },
            "colorscale": [
             [
              0,
              "#0d0887"
             ],
             [
              0.1111111111111111,
              "#46039f"
             ],
             [
              0.2222222222222222,
              "#7201a8"
             ],
             [
              0.3333333333333333,
              "#9c179e"
             ],
             [
              0.4444444444444444,
              "#bd3786"
             ],
             [
              0.5555555555555556,
              "#d8576b"
             ],
             [
              0.6666666666666666,
              "#ed7953"
             ],
             [
              0.7777777777777778,
              "#fb9f3a"
             ],
             [
              0.8888888888888888,
              "#fdca26"
             ],
             [
              1,
              "#f0f921"
             ]
            ],
            "type": "surface"
           }
          ],
          "table": [
           {
            "cells": {
             "fill": {
              "color": "#EBF0F8"
             },
             "line": {
              "color": "white"
             }
            },
            "header": {
             "fill": {
              "color": "#C8D4E3"
             },
             "line": {
              "color": "white"
             }
            },
            "type": "table"
           }
          ]
         },
         "layout": {
          "annotationdefaults": {
           "arrowcolor": "#2a3f5f",
           "arrowhead": 0,
           "arrowwidth": 1
          },
          "autotypenumbers": "strict",
          "coloraxis": {
           "colorbar": {
            "outlinewidth": 0,
            "ticks": ""
           }
          },
          "colorscale": {
           "diverging": [
            [
             0,
             "#8e0152"
            ],
            [
             0.1,
             "#c51b7d"
            ],
            [
             0.2,
             "#de77ae"
            ],
            [
             0.3,
             "#f1b6da"
            ],
            [
             0.4,
             "#fde0ef"
            ],
            [
             0.5,
             "#f7f7f7"
            ],
            [
             0.6,
             "#e6f5d0"
            ],
            [
             0.7,
             "#b8e186"
            ],
            [
             0.8,
             "#7fbc41"
            ],
            [
             0.9,
             "#4d9221"
            ],
            [
             1,
             "#276419"
            ]
           ],
           "sequential": [
            [
             0,
             "#0d0887"
            ],
            [
             0.1111111111111111,
             "#46039f"
            ],
            [
             0.2222222222222222,
             "#7201a8"
            ],
            [
             0.3333333333333333,
             "#9c179e"
            ],
            [
             0.4444444444444444,
             "#bd3786"
            ],
            [
             0.5555555555555556,
             "#d8576b"
            ],
            [
             0.6666666666666666,
             "#ed7953"
            ],
            [
             0.7777777777777778,
             "#fb9f3a"
            ],
            [
             0.8888888888888888,
             "#fdca26"
            ],
            [
             1,
             "#f0f921"
            ]
           ],
           "sequentialminus": [
            [
             0,
             "#0d0887"
            ],
            [
             0.1111111111111111,
             "#46039f"
            ],
            [
             0.2222222222222222,
             "#7201a8"
            ],
            [
             0.3333333333333333,
             "#9c179e"
            ],
            [
             0.4444444444444444,
             "#bd3786"
            ],
            [
             0.5555555555555556,
             "#d8576b"
            ],
            [
             0.6666666666666666,
             "#ed7953"
            ],
            [
             0.7777777777777778,
             "#fb9f3a"
            ],
            [
             0.8888888888888888,
             "#fdca26"
            ],
            [
             1,
             "#f0f921"
            ]
           ]
          },
          "colorway": [
           "#636efa",
           "#EF553B",
           "#00cc96",
           "#ab63fa",
           "#FFA15A",
           "#19d3f3",
           "#FF6692",
           "#B6E880",
           "#FF97FF",
           "#FECB52"
          ],
          "font": {
           "color": "#2a3f5f"
          },
          "geo": {
           "bgcolor": "white",
           "lakecolor": "white",
           "landcolor": "#E5ECF6",
           "showlakes": true,
           "showland": true,
           "subunitcolor": "white"
          },
          "hoverlabel": {
           "align": "left"
          },
          "hovermode": "closest",
          "mapbox": {
           "style": "light"
          },
          "paper_bgcolor": "white",
          "plot_bgcolor": "#E5ECF6",
          "polar": {
           "angularaxis": {
            "gridcolor": "white",
            "linecolor": "white",
            "ticks": ""
           },
           "bgcolor": "#E5ECF6",
           "radialaxis": {
            "gridcolor": "white",
            "linecolor": "white",
            "ticks": ""
           }
          },
          "scene": {
           "xaxis": {
            "backgroundcolor": "#E5ECF6",
            "gridcolor": "white",
            "gridwidth": 2,
            "linecolor": "white",
            "showbackground": true,
            "ticks": "",
            "zerolinecolor": "white"
           },
           "yaxis": {
            "backgroundcolor": "#E5ECF6",
            "gridcolor": "white",
            "gridwidth": 2,
            "linecolor": "white",
            "showbackground": true,
            "ticks": "",
            "zerolinecolor": "white"
           },
           "zaxis": {
            "backgroundcolor": "#E5ECF6",
            "gridcolor": "white",
            "gridwidth": 2,
            "linecolor": "white",
            "showbackground": true,
            "ticks": "",
            "zerolinecolor": "white"
           }
          },
          "shapedefaults": {
           "line": {
            "color": "#2a3f5f"
           }
          },
          "ternary": {
           "aaxis": {
            "gridcolor": "white",
            "linecolor": "white",
            "ticks": ""
           },
           "baxis": {
            "gridcolor": "white",
            "linecolor": "white",
            "ticks": ""
           },
           "bgcolor": "#E5ECF6",
           "caxis": {
            "gridcolor": "white",
            "linecolor": "white",
            "ticks": ""
           }
          },
          "title": {
           "x": 0.05
          },
          "xaxis": {
           "automargin": true,
           "gridcolor": "white",
           "linecolor": "white",
           "ticks": "",
           "title": {
            "standoff": 15
           },
           "zerolinecolor": "white",
           "zerolinewidth": 2
          },
          "yaxis": {
           "automargin": true,
           "gridcolor": "white",
           "linecolor": "white",
           "ticks": "",
           "title": {
            "standoff": 15
           },
           "zerolinecolor": "white",
           "zerolinewidth": 2
          }
         }
        },
        "title": {
         "text": "Cutset conditioning with S (red) vs variable elimination with S (blue)"
        },
        "width": 800,
        "xaxis": {
         "anchor": "y",
         "domain": [
          0,
          1
         ],
         "nticks": 20,
         "range": [
          1,
          6
         ],
         "title": {
          "font": {
           "size": 12
          },
          "standoff": 7,
          "text": "Healthy FEV1 (L)"
         }
        },
        "yaxis": {
         "anchor": "x",
         "domain": [
          0,
          1
         ]
        }
       }
      }
     },
     "metadata": {},
     "output_type": "display_data"
    }
   ],
   "source": [
    "fig = make_subplots(rows=1, cols=1, vertical_spacing=0.13)\n",
    "\n",
    "ih.plot_histogram(\n",
    "    fig, HFEV1, res_ve_S[HFEV1.name].values, HFEV1.a, HFEV1.b, 1, 1, annot=False\n",
    ")\n",
    "ih.plot_histogram(\n",
    "    fig, HFEV1, res_hfev1_cutset, HFEV1.a, HFEV1.b, 1, 1, title=HFEV1.name\n",
    ")\n",
    "\n",
    "# Reduce x axis title font size\n",
    "fig.update_xaxes(title_font=dict(size=12), title_standoff=7)\n",
    "\n",
    "# Hide legend\n",
    "title = \"Cutset conditioning with S (red) vs variable elimination with S (blue)\"\n",
    "fig.update_layout(showlegend=False, height=300, width=800, title=title)\n",
    "fig.show()"
   ]
  },
  {
   "cell_type": "code",
   "execution_count": null,
   "metadata": {},
   "outputs": [],
   "source": []
  }
 ],
 "metadata": {
  "kernelspec": {
   "display_name": "phd",
   "language": "python",
   "name": "python3"
  },
  "language_info": {
   "codemirror_mode": {
    "name": "ipython",
    "version": 3
   },
   "file_extension": ".py",
   "mimetype": "text/x-python",
   "name": "python",
   "nbconvert_exporter": "python",
   "pygments_lexer": "ipython3",
   "version": "3.10.13"
  }
 },
 "nbformat": 4,
 "nbformat_minor": 2
}
