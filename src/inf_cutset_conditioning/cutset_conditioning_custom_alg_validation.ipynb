{
 "cells": [
  {
   "cell_type": "markdown",
   "metadata": {},
   "source": [
    "Validation of the cutset conditioning algorithm: using the light model, compare my won implementation for 3 days against the variable elimination algorithm from the library. Both are exact inference algorithms, they should give the exact same results.\n",
    "\n",
    "My won implementation: model with FEV1 noise, and temporal airway resistance"
   ]
  },
  {
   "cell_type": "code",
   "execution_count": 6,
   "metadata": {},
   "outputs": [],
   "source": [
    "import itertools\n",
    "import time\n",
    "\n",
    "import numpy as np\n",
    "import pandas as pd\n",
    "import plotly.express as px\n",
    "import plotly.graph_objects as go\n",
    "from plotly.subplots import make_subplots\n",
    "\n",
    "import src.data.breathe_data as bd\n",
    "import src.data.helpers as dh\n",
    "import src.inference.helpers as ih\n",
    "import src.modelling_ar.ar as ar\n",
    "import src.inf_cutset_conditioning.helpers as cutseth\n",
    "import src.models.builders as mb\n",
    "from pgmpy.inference.ExactInference import VariableElimination"
   ]
  },
  {
   "cell_type": "code",
   "execution_count": null,
   "metadata": {},
   "outputs": [],
   "source": []
  },
  {
   "cell_type": "code",
   "execution_count": 17,
   "metadata": {},
   "outputs": [
    {
     "data": {
      "text/plain": [
       "array([0.01178899, 0.03711222, 0.08648782, 0.25856762, 0.36499814,\n",
       "       0.22242216, 0.01862306, 0.        , 0.        ])"
      ]
     },
     "execution_count": 17,
     "metadata": {},
     "output_type": "execute_result"
    }
   ],
   "source": [
    "height = 180\n",
    "age = 35\n",
    "sex = \"Male\"\n",
    "(\n",
    "    model,\n",
    "    inf_alg,\n",
    "    HFEV1,\n",
    "    HO2Sat,\n",
    "    ecFEV1,\n",
    "    AR,\n",
    "    O2SatFFA,\n",
    "    IA,\n",
    "    UO2Sat,\n",
    "    O2Sat,\n",
    "    ecFEV1_2,\n",
    "    AR_2,\n",
    "    O2SatFFA_2,\n",
    "    IA_2,\n",
    "    UO2Sat_2,\n",
    "    O2Sat_2,\n",
    ") = mb.o2_sat_fev1_two_days_model_light(\n",
    "    height,\n",
    "    age,\n",
    "    sex,\n",
    ")\n",
    "\n",
    "var_elim = VariableElimination(model)\n",
    "res = var_elim.query(variables=[AR.name], evidence={ecFEV1.name: 2, HO2Sat.name: 1})\n",
    "res.values"
   ]
  },
  {
   "cell_type": "code",
   "execution_count": 18,
   "metadata": {},
   "outputs": [
    {
     "ename": "FileNotFoundError",
     "evalue": "[Errno 2] No such file or directory: '/Users/tristan.trebaol/Desktop/PhD/Code/phd//src/models/cpts/AR_0_90_10_AR_0_90_10_DE_1_3_1.npy'",
     "output_type": "error",
     "traceback": [
      "\u001b[0;31m---------------------------------------------------------------------------\u001b[0m",
      "\u001b[0;31mFileNotFoundError\u001b[0m                         Traceback (most recent call last)",
      "Cell \u001b[0;32mIn[18], line 4\u001b[0m\n\u001b[1;32m      2\u001b[0m age \u001b[38;5;241m=\u001b[39m \u001b[38;5;241m35\u001b[39m\n\u001b[1;32m      3\u001b[0m sex \u001b[38;5;241m=\u001b[39m \u001b[38;5;124m\"\u001b[39m\u001b[38;5;124mMale\u001b[39m\u001b[38;5;124m\"\u001b[39m\n\u001b[0;32m----> 4\u001b[0m \u001b[43mmb\u001b[49m\u001b[38;5;241;43m.\u001b[39;49m\u001b[43mo2sat_fev1_fef2575_long_model_noise_shared_healthy_vars_and_temporal_ar_light\u001b[49m\u001b[43m(\u001b[49m\n\u001b[1;32m      5\u001b[0m \u001b[43m    \u001b[49m\u001b[43mheight\u001b[49m\u001b[43m,\u001b[49m\n\u001b[1;32m      6\u001b[0m \u001b[43m    \u001b[49m\u001b[43mage\u001b[49m\u001b[43m,\u001b[49m\n\u001b[1;32m      7\u001b[0m \u001b[43m    \u001b[49m\u001b[43msex\u001b[49m\u001b[43m,\u001b[49m\n\u001b[1;32m      8\u001b[0m \u001b[43m)\u001b[49m\n",
      "File \u001b[0;32m~/Desktop/PhD/Code/phd/src/models/builders.py:989\u001b[0m, in \u001b[0;36mo2sat_fev1_fef2575_long_model_noise_shared_healthy_vars_and_temporal_ar_light\u001b[0;34m(height, age, sex, ia_prior, ar_prior, ar_change_cpt_suffix, n_cutset_conditioned_states, check_model)\u001b[0m\n\u001b[1;32m    960\u001b[0m \u001b[38;5;28;01mdef\u001b[39;00m \u001b[38;5;21mo2sat_fev1_fef2575_long_model_noise_shared_healthy_vars_and_temporal_ar_light\u001b[39m(\n\u001b[1;32m    961\u001b[0m     height,\n\u001b[1;32m    962\u001b[0m     age,\n\u001b[0;32m   (...)\u001b[0m\n\u001b[1;32m    968\u001b[0m     check_model\u001b[38;5;241m=\u001b[39m\u001b[38;5;28;01mFalse\u001b[39;00m,\n\u001b[1;32m    969\u001b[0m ):\n\u001b[1;32m    970\u001b[0m \u001b[38;5;250m    \u001b[39m\u001b[38;5;124;03m\"\"\"\u001b[39;00m\n\u001b[1;32m    971\u001b[0m \u001b[38;5;124;03m    Longitudinal model with full FEV1, FEF25-75 and O2Sat sides.\u001b[39;00m\n\u001b[1;32m    972\u001b[0m \u001b[38;5;124;03m    HFEV1 and HO2Sat are shared across time points.\u001b[39;00m\n\u001b[0;32m   (...)\u001b[0m\n\u001b[1;32m    975\u001b[0m \u001b[38;5;124;03m    Musn't necessarily use the cutset conditioning\u001b[39;00m\n\u001b[1;32m    976\u001b[0m \u001b[38;5;124;03m    \"\"\"\u001b[39;00m\n\u001b[1;32m    978\u001b[0m     (\n\u001b[1;32m    979\u001b[0m         HFEV1,\n\u001b[1;32m    980\u001b[0m         uecFEV1,\n\u001b[1;32m    981\u001b[0m         ecFEV1,\n\u001b[1;32m    982\u001b[0m         AR,\n\u001b[1;32m    983\u001b[0m         HO2Sat,\n\u001b[1;32m    984\u001b[0m         O2SatFFA,\n\u001b[1;32m    985\u001b[0m         IA,\n\u001b[1;32m    986\u001b[0m         UO2Sat,\n\u001b[1;32m    987\u001b[0m         O2Sat,\n\u001b[1;32m    988\u001b[0m         ecFEF2575prctecFEV1,\n\u001b[0;32m--> 989\u001b[0m     ) \u001b[38;5;241m=\u001b[39m \u001b[43mvar_builders\u001b[49m\u001b[38;5;241;43m.\u001b[39;49m\u001b[43mo2sat_fev1_fef2575_long_model_noise_shared_healthy_vars_and_temporal_ar_light\u001b[49m\u001b[43m(\u001b[49m\n\u001b[1;32m    990\u001b[0m \u001b[43m        \u001b[49m\u001b[43mheight\u001b[49m\u001b[43m,\u001b[49m\n\u001b[1;32m    991\u001b[0m \u001b[43m        \u001b[49m\u001b[43mage\u001b[49m\u001b[43m,\u001b[49m\n\u001b[1;32m    992\u001b[0m \u001b[43m        \u001b[49m\u001b[43msex\u001b[49m\u001b[43m,\u001b[49m\n\u001b[1;32m    993\u001b[0m \u001b[43m        \u001b[49m\u001b[43mia_prior\u001b[49m\u001b[43m,\u001b[49m\n\u001b[1;32m    994\u001b[0m \u001b[43m        \u001b[49m\u001b[43mar_prior\u001b[49m\u001b[43m,\u001b[49m\n\u001b[1;32m    995\u001b[0m \u001b[43m        \u001b[49m\u001b[43mar_change_cpt_suffix\u001b[49m\u001b[43m,\u001b[49m\n\u001b[1;32m    996\u001b[0m \u001b[43m        \u001b[49m\u001b[43mn_cutset_conditioned_states\u001b[49m\u001b[43m,\u001b[49m\n\u001b[1;32m    997\u001b[0m \u001b[43m    \u001b[49m\u001b[43m)\u001b[49m\n\u001b[1;32m    998\u001b[0m     model \u001b[38;5;241m=\u001b[39m graph_builders\u001b[38;5;241m.\u001b[39mfev1_fef2575_o2sat_point_in_time_noise_factor_graph(\n\u001b[1;32m    999\u001b[0m         HFEV1,\n\u001b[1;32m   1000\u001b[0m         uecFEV1,\n\u001b[0;32m   (...)\u001b[0m\n\u001b[1;32m   1009\u001b[0m         check_model,\n\u001b[1;32m   1010\u001b[0m     )\n\u001b[1;32m   1011\u001b[0m     inf_alg \u001b[38;5;241m=\u001b[39m apply_factor_graph_bp(model)\n",
      "File \u001b[0;32m~/Desktop/PhD/Code/phd/src/models/var_builders.py:721\u001b[0m, in \u001b[0;36mo2sat_fev1_fef2575_long_model_noise_shared_healthy_vars_and_temporal_ar_light\u001b[0;34m(height, age, sex, ia_prior, ar_prior, ar_change_cpt_suffix, n_cutset_conditioned_states)\u001b[0m\n\u001b[1;32m    718\u001b[0m \u001b[38;5;28;01melse\u001b[39;00m:\n\u001b[1;32m    719\u001b[0m     AR \u001b[38;5;241m=\u001b[39m TemporalVariableNode(\u001b[38;5;124m\"\u001b[39m\u001b[38;5;124mAirway resistance (\u001b[39m\u001b[38;5;124m%\u001b[39m\u001b[38;5;124m)\u001b[39m\u001b[38;5;124m\"\u001b[39m, \u001b[38;5;241m0\u001b[39m, \u001b[38;5;241m90\u001b[39m, \u001b[38;5;241m10\u001b[39m)\n\u001b[0;32m--> 721\u001b[0m AR\u001b[38;5;241m.\u001b[39mset_change_cpt(\u001b[43mget_cpt\u001b[49m\u001b[43m(\u001b[49m\u001b[43m[\u001b[49m\u001b[43mAR\u001b[49m\u001b[43m,\u001b[49m\u001b[43m \u001b[49m\u001b[43mAR\u001b[49m\u001b[43m,\u001b[49m\u001b[43m \u001b[49m\u001b[43mDE\u001b[49m\u001b[43m]\u001b[49m\u001b[43m,\u001b[49m\u001b[43m \u001b[49m\u001b[43msuffix\u001b[49m\u001b[38;5;241;43m=\u001b[39;49m\u001b[43mar_change_cpt_suffix\u001b[49m\u001b[43m)\u001b[49m)\n\u001b[1;32m    723\u001b[0m \u001b[38;5;28;01mif\u001b[39;00m ar_prior \u001b[38;5;241m==\u001b[39m \u001b[38;5;124m\"\u001b[39m\u001b[38;5;124muniform\u001b[39m\u001b[38;5;124m\"\u001b[39m:\n\u001b[1;32m    724\u001b[0m     AR\u001b[38;5;241m.\u001b[39mset_first_day_prior({\u001b[38;5;124m\"\u001b[39m\u001b[38;5;124mtype\u001b[39m\u001b[38;5;124m\"\u001b[39m: \u001b[38;5;124m\"\u001b[39m\u001b[38;5;124muniform\u001b[39m\u001b[38;5;124m\"\u001b[39m})\n",
      "File \u001b[0;32m~/Desktop/PhD/Code/phd/src/models/cpts/helpers.py:21\u001b[0m, in \u001b[0;36mget_cpt\u001b[0;34m(vars, suffix)\u001b[0m\n\u001b[1;32m     18\u001b[0m \u001b[38;5;28;01mif\u001b[39;00m suffix \u001b[38;5;129;01mis\u001b[39;00m \u001b[38;5;129;01mnot\u001b[39;00m \u001b[38;5;28;01mNone\u001b[39;00m:\n\u001b[1;32m     19\u001b[0m     filename \u001b[38;5;241m=\u001b[39m filename \u001b[38;5;241m+\u001b[39m suffix\n\u001b[0;32m---> 21\u001b[0m cpt \u001b[38;5;241m=\u001b[39m \u001b[43mnp\u001b[49m\u001b[38;5;241;43m.\u001b[39;49m\u001b[43mload\u001b[49m\u001b[43m(\u001b[49m\u001b[38;5;124;43mf\u001b[39;49m\u001b[38;5;124;43m\"\u001b[39;49m\u001b[38;5;132;43;01m{\u001b[39;49;00m\u001b[43mpath_to_folder\u001b[49m\u001b[38;5;132;43;01m}\u001b[39;49;00m\u001b[38;5;132;43;01m{\u001b[39;49;00m\u001b[43mfilename\u001b[49m\u001b[38;5;132;43;01m}\u001b[39;49;00m\u001b[38;5;124;43m.npy\u001b[39;49m\u001b[38;5;124;43m\"\u001b[39;49m\u001b[43m)\u001b[49m\n\u001b[1;32m     23\u001b[0m \u001b[38;5;28;01massert\u001b[39;00m \u001b[38;5;28mlen\u001b[39m(\u001b[38;5;28mvars\u001b[39m) \u001b[38;5;241m==\u001b[39m \u001b[38;5;28mlen\u001b[39m(cpt\u001b[38;5;241m.\u001b[39mshape)\n\u001b[1;32m     24\u001b[0m \u001b[38;5;28;01mreturn\u001b[39;00m cpt\n",
      "File \u001b[0;32m/Applications/anaconda3/envs/phd/lib/python3.10/site-packages/numpy/lib/npyio.py:427\u001b[0m, in \u001b[0;36mload\u001b[0;34m(file, mmap_mode, allow_pickle, fix_imports, encoding, max_header_size)\u001b[0m\n\u001b[1;32m    425\u001b[0m     own_fid \u001b[38;5;241m=\u001b[39m \u001b[38;5;28;01mFalse\u001b[39;00m\n\u001b[1;32m    426\u001b[0m \u001b[38;5;28;01melse\u001b[39;00m:\n\u001b[0;32m--> 427\u001b[0m     fid \u001b[38;5;241m=\u001b[39m stack\u001b[38;5;241m.\u001b[39menter_context(\u001b[38;5;28;43mopen\u001b[39;49m\u001b[43m(\u001b[49m\u001b[43mos_fspath\u001b[49m\u001b[43m(\u001b[49m\u001b[43mfile\u001b[49m\u001b[43m)\u001b[49m\u001b[43m,\u001b[49m\u001b[43m \u001b[49m\u001b[38;5;124;43m\"\u001b[39;49m\u001b[38;5;124;43mrb\u001b[39;49m\u001b[38;5;124;43m\"\u001b[39;49m\u001b[43m)\u001b[49m)\n\u001b[1;32m    428\u001b[0m     own_fid \u001b[38;5;241m=\u001b[39m \u001b[38;5;28;01mTrue\u001b[39;00m\n\u001b[1;32m    430\u001b[0m \u001b[38;5;66;03m# Code to distinguish from NumPy binary files and pickles.\u001b[39;00m\n",
      "\u001b[0;31mFileNotFoundError\u001b[0m: [Errno 2] No such file or directory: '/Users/tristan.trebaol/Desktop/PhD/Code/phd//src/models/cpts/AR_0_90_10_AR_0_90_10_DE_1_3_1.npy'"
     ]
    }
   ],
   "source": [
    "height = 180\n",
    "age = 35\n",
    "sex = \"Male\"\n",
    "mb.o2sat_fev1_fef2575_long_model_noise_shared_healthy_vars_and_temporal_ar_light(\n",
    "    height,\n",
    "    age,\n",
    "    sex,\n",
    ")"
   ]
  },
  {
   "cell_type": "code",
   "execution_count": null,
   "metadata": {},
   "outputs": [],
   "source": []
  }
 ],
 "metadata": {
  "kernelspec": {
   "display_name": "phd",
   "language": "python",
   "name": "python3"
  },
  "language_info": {
   "codemirror_mode": {
    "name": "ipython",
    "version": 3
   },
   "file_extension": ".py",
   "mimetype": "text/x-python",
   "name": "python",
   "nbconvert_exporter": "python",
   "pygments_lexer": "ipython3",
   "version": "3.10.13"
  }
 },
 "nbformat": 4,
 "nbformat_minor": 2
}
