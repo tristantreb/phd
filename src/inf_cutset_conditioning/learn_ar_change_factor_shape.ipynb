{
 "cells": [
  {
   "cell_type": "code",
   "execution_count": 1,
   "metadata": {},
   "outputs": [],
   "source": [
    "import numpy as np\n",
    "import pandas as pd\n",
    "from plotly.subplots import make_subplots\n",
    "import plotly.graph_objects as go\n",
    "\n",
    "import src.data.breathe_data as bd\n",
    "import src.data.helpers as dh\n",
    "import src.inference.helpers as ih\n",
    "import src.modelling_ar.ar as ar\n",
    "import src.inf_cutset_conditioning.helpers as cutseth\n",
    "import src.inf_cutset_conditioning.cutset_cond_algs_learn_ar_change as cca_ar_change\n",
    "import src.models.helpers as mh\n",
    "\n",
    "import json\n",
    "import numpy as np"
   ]
  },
  {
   "cell_type": "code",
   "execution_count": 42,
   "metadata": {},
   "outputs": [
    {
     "name": "stderr",
     "output_type": "stream",
     "text": [
      "INFO:root:* Checking for same day measurements *\n"
     ]
    }
   ],
   "source": [
    "# Load data\n",
    "df = bd.load_meas_from_excel(\"BR_O2_FEV1_FEF2575_conservative_smoothing_with_idx\")"
   ]
  },
  {
   "cell_type": "code",
   "execution_count": null,
   "metadata": {},
   "outputs": [],
   "source": [
    "id = \"134\"\n",
    "dftmp, start_idx, end_idx = dh.find_longest_consec_series(df[df.ID == id], n_days=3)\n",
    "\n",
    "\n",
    "ecfev1_noise_model_suffix = \"_std_add_mult_fev1\"\n",
    "ar_prior = \"breathe (2 days model, ecFEV1 addmultnoise, ecFEF25-75)\"\n",
    "ar_change_cpt_suffix = \"_shape_factor1\"\n",
    "\n",
    "(\n",
    "    # p_M_given_D,\n",
    "    # log_p_D_given_M,\n",
    "    # AR_given_M_and_D,\n",
    "    # AR_given_M_and_all_D,\n",
    "    log_p_S_given_D,\n",
    "    res_dict,\n",
    ") = cca_ar_change.run_long_noise_model_through_time(\n",
    "    dftmp,\n",
    "    ar_prior=ar_prior,\n",
    "    ar_change_cpt_suffix=ar_change_cpt_suffix,\n",
    "    ecfev1_noise_model_suffix=ecfev1_noise_model_suffix,\n",
    ")"
   ]
  },
  {
   "cell_type": "markdown",
   "metadata": {},
   "source": [
    "## Process results"
   ]
  },
  {
   "cell_type": "code",
   "execution_count": 18,
   "metadata": {},
   "outputs": [],
   "source": [
    "def load_and_process_json(card_suffix, params, labels):\n",
    "    path = f\"{dh.get_path_to_src()}inf_cutset_conditioning/p_s_given_d_card{card_suffix}.json\"\n",
    "\n",
    "    # Load the JSON file\n",
    "    with open(path, \"r\") as file:\n",
    "        data = json.load(file)\n",
    "\n",
    "    # Convert lists to NumPy arrays\n",
    "    for key in data:\n",
    "        data[key] = np.array(data[key])\n",
    "\n",
    "    # Replace 'nan' with np.nan and \"-inf\" with -np.inf\n",
    "    for key in data:\n",
    "        data[key][np.where(data[key] == \"-inf\")] = -np.inf\n",
    "\n",
    "    # REmove dtypes from data\n",
    "    data = {key: data[key].astype(float) for key in data}\n",
    "\n",
    "    # Remove entries with only nan values\n",
    "    data = {key: data[key] for key in data if not np.all(np.isnan(data[key]))}\n",
    "\n",
    "    log_p_s_given_D = np.sum(list(data.values()), axis=0)\n",
    "\n",
    "    df_heatmap = pd.DataFrame(\n",
    "        columns=[\"log_p_S_given_D\", \"params\"], data=zip(log_p_s_given_D, params)\n",
    "    )\n",
    "    # Split params into three columns \"main width\", \"tail width\", \"main weight\"\n",
    "    df_heatmap[labels] = pd.DataFrame(\n",
    "        df_heatmap[\"params\"].tolist(), index=df_heatmap.index\n",
    "    )\n",
    "    return df_heatmap, data"
   ]
  },
  {
   "cell_type": "code",
   "execution_count": 23,
   "metadata": {},
   "outputs": [],
   "source": [
    "params = [\n",
    "    (1, 10, 0.5),\n",
    "    (1, 10, 0.7),\n",
    "    (1, 10, 0.9),\n",
    "    (1, 30, 0.5),\n",
    "    (1, 30, 0.7),\n",
    "    (1, 30, 0.9),\n",
    "    (1, 50, 0.5),\n",
    "    (1, 50, 0.7),\n",
    "    (1, 50, 0.9),\n",
    "    (3, 10, 0.5),\n",
    "    (3, 10, 0.7),\n",
    "    (3, 10, 0.9),\n",
    "    (3, 30, 0.5),\n",
    "    (3, 30, 0.7),\n",
    "    (3, 30, 0.9),\n",
    "    (3, 50, 0.5),\n",
    "    (3, 50, 0.7),\n",
    "    (3, 50, 0.9),\n",
    "    (5, 10, 0.5),\n",
    "    (5, 10, 0.7),\n",
    "    (5, 10, 0.9),\n",
    "    (5, 30, 0.5),\n",
    "    (5, 30, 0.7),\n",
    "    (5, 30, 0.9),\n",
    "    (5, 50, 0.5),\n",
    "    (5, 50, 0.7),\n",
    "    (5, 50, 0.9),\n",
    "]\n",
    "labels = [\"main width\", \"tail width\", \"main weight\"]\n",
    "df_heatmap, IDs = load_and_process_json(27, params, labels)"
   ]
  },
  {
   "cell_type": "code",
   "execution_count": null,
   "metadata": {},
   "outputs": [],
   "source": [
    "# Plot heatmap with main width on x axis, tail width on y axis and log_p_S_given_D as the color, just use the first 3 main weights\n",
    "\n",
    "\n",
    "def add_heatmap_for_weight(fig, df, weight, col):\n",
    "    df = df[df[\"main weight\"] == weight]\n",
    "    fig.add_trace(\n",
    "        go.Heatmap(z=df[\"log_p_S_given_D\"], x=df[\"main width\"], y=df[\"tail width\"]),\n",
    "        row=1,\n",
    "        col=col,\n",
    "    )\n",
    "    fig.update_xaxes(\n",
    "        type=\"category\",\n",
    "        row=1,\n",
    "        col=col,\n",
    "        title=\"Main width<br><br>Main weight=\" + str(weight),\n",
    "    )\n",
    "    return fig\n",
    "\n",
    "\n",
    "def plot_3_3_heatmaps(df_heatmap, IDs, w1, w2, w3):\n",
    "    fig = make_subplots(1, 3)\n",
    "\n",
    "    fig = add_heatmap_for_weight(fig, df_heatmap, w1, 1)\n",
    "    fig = add_heatmap_for_weight(fig, df_heatmap, w2, 2)\n",
    "    fig = add_heatmap_for_weight(fig, df_heatmap, w3, 3)\n",
    "\n",
    "    fig.update_layout(\n",
    "        title=f\"Log probability of S given D for different AR change parameters ({len(IDs)} IDs)\",\n",
    "        yaxis_title=\"Tail width\",\n",
    "        # yaxis_type='log',\n",
    "        width=650,\n",
    "        height=300,\n",
    "        font_size=10,\n",
    "    )\n",
    "    # Recude font size of the subplot titles\n",
    "    for annotation in fig[\"layout\"][\"annotations\"]:\n",
    "        annotation[\"font\"] = dict(size=14)\n",
    "    # use the same color scale for all subplots\n",
    "    fig.update_traces(\n",
    "        zmin=min(df_heatmap.log_p_S_given_D[df_heatmap.log_p_S_given_D != -np.inf]),\n",
    "        zmax=max(df_heatmap.log_p_S_given_D),\n",
    "        colorbar=dict(title=\"log_p_S_given_D\"),\n",
    "    )\n",
    "    # X axis and y axis are categorical\n",
    "    fig.update_yaxes(type=\"category\")\n",
    "\n",
    "    fig.show()"
   ]
  },
  {
   "cell_type": "code",
   "execution_count": null,
   "metadata": {},
   "outputs": [],
   "source": [
    "plot_3_3_heatmaps(df_heatmap, IDs, 0.5, 0.7, 0.9)"
   ]
  },
  {
   "cell_type": "code",
   "execution_count": null,
   "metadata": {},
   "outputs": [
    {
     "data": {
      "text/html": [
       "<div>\n",
       "<style scoped>\n",
       "    .dataframe tbody tr th:only-of-type {\n",
       "        vertical-align: middle;\n",
       "    }\n",
       "\n",
       "    .dataframe tbody tr th {\n",
       "        vertical-align: top;\n",
       "    }\n",
       "\n",
       "    .dataframe thead th {\n",
       "        text-align: right;\n",
       "    }\n",
       "</style>\n",
       "<table border=\"1\" class=\"dataframe\">\n",
       "  <thead>\n",
       "    <tr style=\"text-align: right;\">\n",
       "      <th></th>\n",
       "      <th>log_p_S_given_D</th>\n",
       "      <th>params</th>\n",
       "      <th>main width</th>\n",
       "      <th>tail width</th>\n",
       "      <th>main weight</th>\n",
       "    </tr>\n",
       "  </thead>\n",
       "  <tbody>\n",
       "    <tr>\n",
       "      <th>0</th>\n",
       "      <td>-3.990078e+06</td>\n",
       "      <td>(1, 10, 0.7)</td>\n",
       "      <td>1</td>\n",
       "      <td>10</td>\n",
       "      <td>0.70</td>\n",
       "    </tr>\n",
       "    <tr>\n",
       "      <th>1</th>\n",
       "      <td>-3.989833e+06</td>\n",
       "      <td>(1, 10, 0.73)</td>\n",
       "      <td>1</td>\n",
       "      <td>10</td>\n",
       "      <td>0.73</td>\n",
       "    </tr>\n",
       "    <tr>\n",
       "      <th>2</th>\n",
       "      <td>-3.989596e+06</td>\n",
       "      <td>(1, 10, 0.76)</td>\n",
       "      <td>1</td>\n",
       "      <td>10</td>\n",
       "      <td>0.76</td>\n",
       "    </tr>\n",
       "    <tr>\n",
       "      <th>3</th>\n",
       "      <td>-3.989375e+06</td>\n",
       "      <td>(1, 10, 0.79)</td>\n",
       "      <td>1</td>\n",
       "      <td>10</td>\n",
       "      <td>0.79</td>\n",
       "    </tr>\n",
       "    <tr>\n",
       "      <th>4</th>\n",
       "      <td>-3.989233e+06</td>\n",
       "      <td>(1, 10, 0.81)</td>\n",
       "      <td>1</td>\n",
       "      <td>10</td>\n",
       "      <td>0.81</td>\n",
       "    </tr>\n",
       "    <tr>\n",
       "      <th>5</th>\n",
       "      <td>-3.989029e+06</td>\n",
       "      <td>(1, 10, 0.84)</td>\n",
       "      <td>1</td>\n",
       "      <td>10</td>\n",
       "      <td>0.84</td>\n",
       "    </tr>\n",
       "    <tr>\n",
       "      <th>6</th>\n",
       "      <td>-3.988834e+06</td>\n",
       "      <td>(1, 10, 0.87)</td>\n",
       "      <td>1</td>\n",
       "      <td>10</td>\n",
       "      <td>0.87</td>\n",
       "    </tr>\n",
       "    <tr>\n",
       "      <th>7</th>\n",
       "      <td>-3.988648e+06</td>\n",
       "      <td>(1, 10, 0.9)</td>\n",
       "      <td>1</td>\n",
       "      <td>10</td>\n",
       "      <td>0.90</td>\n",
       "    </tr>\n",
       "    <tr>\n",
       "      <th>8</th>\n",
       "      <td>-3.988472e+06</td>\n",
       "      <td>(1, 10, 0.93)</td>\n",
       "      <td>1</td>\n",
       "      <td>10</td>\n",
       "      <td>0.93</td>\n",
       "    </tr>\n",
       "    <tr>\n",
       "      <th>9</th>\n",
       "      <td>-3.988306e+06</td>\n",
       "      <td>(1, 10, 0.96)</td>\n",
       "      <td>1</td>\n",
       "      <td>10</td>\n",
       "      <td>0.96</td>\n",
       "    </tr>\n",
       "    <tr>\n",
       "      <th>10</th>\n",
       "      <td>-3.988159e+06</td>\n",
       "      <td>(1, 10, 0.99)</td>\n",
       "      <td>1</td>\n",
       "      <td>10</td>\n",
       "      <td>0.99</td>\n",
       "    </tr>\n",
       "  </tbody>\n",
       "</table>\n",
       "</div>"
      ],
      "text/plain": [
       "    log_p_S_given_D         params  main width  tail width  main weight\n",
       "0     -3.990078e+06   (1, 10, 0.7)           1          10         0.70\n",
       "1     -3.989833e+06  (1, 10, 0.73)           1          10         0.73\n",
       "2     -3.989596e+06  (1, 10, 0.76)           1          10         0.76\n",
       "3     -3.989375e+06  (1, 10, 0.79)           1          10         0.79\n",
       "4     -3.989233e+06  (1, 10, 0.81)           1          10         0.81\n",
       "5     -3.989029e+06  (1, 10, 0.84)           1          10         0.84\n",
       "6     -3.988834e+06  (1, 10, 0.87)           1          10         0.87\n",
       "7     -3.988648e+06   (1, 10, 0.9)           1          10         0.90\n",
       "8     -3.988472e+06  (1, 10, 0.93)           1          10         0.93\n",
       "9     -3.988306e+06  (1, 10, 0.96)           1          10         0.96\n",
       "10    -3.988159e+06  (1, 10, 0.99)           1          10         0.99"
      ]
     },
     "execution_count": 37,
     "metadata": {},
     "output_type": "execute_result"
    }
   ],
   "source": [
    "params = [\n",
    "    (1, 10, 0.7),\n",
    "    (1, 10, 0.73),\n",
    "    (1, 10, 0.76),\n",
    "    (1, 10, 0.79),\n",
    "    (1, 10, 0.81),\n",
    "    (1, 10, 0.84),\n",
    "    (1, 10, 0.87),\n",
    "    (1, 10, 0.9),\n",
    "    (1, 10, 0.93),\n",
    "    (1, 10, 0.96),\n",
    "    (1, 10, 0.99),\n",
    "]\n",
    "\n",
    "df_heatmap, IDs = load_and_process_json(11, params, labels)\n",
    "df_heatmap"
   ]
  },
  {
   "cell_type": "code",
   "execution_count": 6,
   "metadata": {},
   "outputs": [
    {
     "data": {
      "application/vnd.plotly.v1+json": {
       "config": {
        "plotlyServerURL": "https://plot.ly"
       },
       "data": [
        {
         "colorbar": {
          "title": {
           "text": "log_p_S_given_D"
          }
         },
         "type": "heatmap",
         "x": [
          0.2,
          0.2,
          0.2,
          0.4,
          0.4,
          0.4,
          1,
          1,
          1
         ],
         "xaxis": "x",
         "y": [
          1,
          4,
          10,
          1,
          4,
          10,
          1,
          4,
          10
         ],
         "yaxis": "y",
         "z": [
          -4123669.25548836,
          -4123899.5774279283,
          -4123949.9076312,
          -4124058.1413408164,
          -4124324.553155371,
          -4124396.0912070903,
          null,
          null,
          null
         ],
         "zmax": -4123506.359467919,
         "zmin": -4124396.0912070903
        },
        {
         "colorbar": {
          "title": {
           "text": "log_p_S_given_D"
          }
         },
         "type": "heatmap",
         "x": [
          0.2,
          0.2,
          0.2,
          0.4,
          0.4,
          0.4,
          1,
          1,
          1
         ],
         "xaxis": "x2",
         "y": [
          1,
          4,
          10,
          1,
          4,
          10,
          1,
          4,
          10
         ],
         "yaxis": "y2",
         "z": [
          -4123587.3294044416,
          -4123682.5184137733,
          -4123681.998368149,
          -4123994.1300493516,
          -4124110.0772948693,
          -4124121.2755078506,
          null,
          null,
          null
         ],
         "zmax": -4123506.359467919,
         "zmin": -4124396.0912070903
        },
        {
         "colorbar": {
          "title": {
           "text": "log_p_S_given_D"
          }
         },
         "type": "heatmap",
         "x": [
          0.2,
          0.2,
          0.2,
          0.4,
          0.4,
          0.4,
          1,
          1,
          1
         ],
         "xaxis": "x3",
         "y": [
          1,
          4,
          10,
          1,
          4,
          10,
          1,
          4,
          10
         ],
         "yaxis": "y3",
         "z": [
          -4123506.359467919,
          -4123506.359467919,
          -4123506.359467919,
          -4123930.7227471406,
          -4123930.7227471406,
          -4123930.7227471406,
          null,
          null,
          null
         ],
         "zmax": -4123506.359467919,
         "zmin": -4124396.0912070903
        }
       ],
       "layout": {
        "font": {
         "size": 10
        },
        "height": 300,
        "template": {
         "data": {
          "bar": [
           {
            "error_x": {
             "color": "#2a3f5f"
            },
            "error_y": {
             "color": "#2a3f5f"
            },
            "marker": {
             "line": {
              "color": "#E5ECF6",
              "width": 0.5
             },
             "pattern": {
              "fillmode": "overlay",
              "size": 10,
              "solidity": 0.2
             }
            },
            "type": "bar"
           }
          ],
          "barpolar": [
           {
            "marker": {
             "line": {
              "color": "#E5ECF6",
              "width": 0.5
             },
             "pattern": {
              "fillmode": "overlay",
              "size": 10,
              "solidity": 0.2
             }
            },
            "type": "barpolar"
           }
          ],
          "carpet": [
           {
            "aaxis": {
             "endlinecolor": "#2a3f5f",
             "gridcolor": "white",
             "linecolor": "white",
             "minorgridcolor": "white",
             "startlinecolor": "#2a3f5f"
            },
            "baxis": {
             "endlinecolor": "#2a3f5f",
             "gridcolor": "white",
             "linecolor": "white",
             "minorgridcolor": "white",
             "startlinecolor": "#2a3f5f"
            },
            "type": "carpet"
           }
          ],
          "choropleth": [
           {
            "colorbar": {
             "outlinewidth": 0,
             "ticks": ""
            },
            "type": "choropleth"
           }
          ],
          "contour": [
           {
            "colorbar": {
             "outlinewidth": 0,
             "ticks": ""
            },
            "colorscale": [
             [
              0,
              "#0d0887"
             ],
             [
              0.1111111111111111,
              "#46039f"
             ],
             [
              0.2222222222222222,
              "#7201a8"
             ],
             [
              0.3333333333333333,
              "#9c179e"
             ],
             [
              0.4444444444444444,
              "#bd3786"
             ],
             [
              0.5555555555555556,
              "#d8576b"
             ],
             [
              0.6666666666666666,
              "#ed7953"
             ],
             [
              0.7777777777777778,
              "#fb9f3a"
             ],
             [
              0.8888888888888888,
              "#fdca26"
             ],
             [
              1,
              "#f0f921"
             ]
            ],
            "type": "contour"
           }
          ],
          "contourcarpet": [
           {
            "colorbar": {
             "outlinewidth": 0,
             "ticks": ""
            },
            "type": "contourcarpet"
           }
          ],
          "heatmap": [
           {
            "colorbar": {
             "outlinewidth": 0,
             "ticks": ""
            },
            "colorscale": [
             [
              0,
              "#0d0887"
             ],
             [
              0.1111111111111111,
              "#46039f"
             ],
             [
              0.2222222222222222,
              "#7201a8"
             ],
             [
              0.3333333333333333,
              "#9c179e"
             ],
             [
              0.4444444444444444,
              "#bd3786"
             ],
             [
              0.5555555555555556,
              "#d8576b"
             ],
             [
              0.6666666666666666,
              "#ed7953"
             ],
             [
              0.7777777777777778,
              "#fb9f3a"
             ],
             [
              0.8888888888888888,
              "#fdca26"
             ],
             [
              1,
              "#f0f921"
             ]
            ],
            "type": "heatmap"
           }
          ],
          "heatmapgl": [
           {
            "colorbar": {
             "outlinewidth": 0,
             "ticks": ""
            },
            "colorscale": [
             [
              0,
              "#0d0887"
             ],
             [
              0.1111111111111111,
              "#46039f"
             ],
             [
              0.2222222222222222,
              "#7201a8"
             ],
             [
              0.3333333333333333,
              "#9c179e"
             ],
             [
              0.4444444444444444,
              "#bd3786"
             ],
             [
              0.5555555555555556,
              "#d8576b"
             ],
             [
              0.6666666666666666,
              "#ed7953"
             ],
             [
              0.7777777777777778,
              "#fb9f3a"
             ],
             [
              0.8888888888888888,
              "#fdca26"
             ],
             [
              1,
              "#f0f921"
             ]
            ],
            "type": "heatmapgl"
           }
          ],
          "histogram": [
           {
            "marker": {
             "pattern": {
              "fillmode": "overlay",
              "size": 10,
              "solidity": 0.2
             }
            },
            "type": "histogram"
           }
          ],
          "histogram2d": [
           {
            "colorbar": {
             "outlinewidth": 0,
             "ticks": ""
            },
            "colorscale": [
             [
              0,
              "#0d0887"
             ],
             [
              0.1111111111111111,
              "#46039f"
             ],
             [
              0.2222222222222222,
              "#7201a8"
             ],
             [
              0.3333333333333333,
              "#9c179e"
             ],
             [
              0.4444444444444444,
              "#bd3786"
             ],
             [
              0.5555555555555556,
              "#d8576b"
             ],
             [
              0.6666666666666666,
              "#ed7953"
             ],
             [
              0.7777777777777778,
              "#fb9f3a"
             ],
             [
              0.8888888888888888,
              "#fdca26"
             ],
             [
              1,
              "#f0f921"
             ]
            ],
            "type": "histogram2d"
           }
          ],
          "histogram2dcontour": [
           {
            "colorbar": {
             "outlinewidth": 0,
             "ticks": ""
            },
            "colorscale": [
             [
              0,
              "#0d0887"
             ],
             [
              0.1111111111111111,
              "#46039f"
             ],
             [
              0.2222222222222222,
              "#7201a8"
             ],
             [
              0.3333333333333333,
              "#9c179e"
             ],
             [
              0.4444444444444444,
              "#bd3786"
             ],
             [
              0.5555555555555556,
              "#d8576b"
             ],
             [
              0.6666666666666666,
              "#ed7953"
             ],
             [
              0.7777777777777778,
              "#fb9f3a"
             ],
             [
              0.8888888888888888,
              "#fdca26"
             ],
             [
              1,
              "#f0f921"
             ]
            ],
            "type": "histogram2dcontour"
           }
          ],
          "mesh3d": [
           {
            "colorbar": {
             "outlinewidth": 0,
             "ticks": ""
            },
            "type": "mesh3d"
           }
          ],
          "parcoords": [
           {
            "line": {
             "colorbar": {
              "outlinewidth": 0,
              "ticks": ""
             }
            },
            "type": "parcoords"
           }
          ],
          "pie": [
           {
            "automargin": true,
            "type": "pie"
           }
          ],
          "scatter": [
           {
            "fillpattern": {
             "fillmode": "overlay",
             "size": 10,
             "solidity": 0.2
            },
            "type": "scatter"
           }
          ],
          "scatter3d": [
           {
            "line": {
             "colorbar": {
              "outlinewidth": 0,
              "ticks": ""
             }
            },
            "marker": {
             "colorbar": {
              "outlinewidth": 0,
              "ticks": ""
             }
            },
            "type": "scatter3d"
           }
          ],
          "scattercarpet": [
           {
            "marker": {
             "colorbar": {
              "outlinewidth": 0,
              "ticks": ""
             }
            },
            "type": "scattercarpet"
           }
          ],
          "scattergeo": [
           {
            "marker": {
             "colorbar": {
              "outlinewidth": 0,
              "ticks": ""
             }
            },
            "type": "scattergeo"
           }
          ],
          "scattergl": [
           {
            "marker": {
             "colorbar": {
              "outlinewidth": 0,
              "ticks": ""
             }
            },
            "type": "scattergl"
           }
          ],
          "scattermapbox": [
           {
            "marker": {
             "colorbar": {
              "outlinewidth": 0,
              "ticks": ""
             }
            },
            "type": "scattermapbox"
           }
          ],
          "scatterpolar": [
           {
            "marker": {
             "colorbar": {
              "outlinewidth": 0,
              "ticks": ""
             }
            },
            "type": "scatterpolar"
           }
          ],
          "scatterpolargl": [
           {
            "marker": {
             "colorbar": {
              "outlinewidth": 0,
              "ticks": ""
             }
            },
            "type": "scatterpolargl"
           }
          ],
          "scatterternary": [
           {
            "marker": {
             "colorbar": {
              "outlinewidth": 0,
              "ticks": ""
             }
            },
            "type": "scatterternary"
           }
          ],
          "surface": [
           {
            "colorbar": {
             "outlinewidth": 0,
             "ticks": ""
            },
            "colorscale": [
             [
              0,
              "#0d0887"
             ],
             [
              0.1111111111111111,
              "#46039f"
             ],
             [
              0.2222222222222222,
              "#7201a8"
             ],
             [
              0.3333333333333333,
              "#9c179e"
             ],
             [
              0.4444444444444444,
              "#bd3786"
             ],
             [
              0.5555555555555556,
              "#d8576b"
             ],
             [
              0.6666666666666666,
              "#ed7953"
             ],
             [
              0.7777777777777778,
              "#fb9f3a"
             ],
             [
              0.8888888888888888,
              "#fdca26"
             ],
             [
              1,
              "#f0f921"
             ]
            ],
            "type": "surface"
           }
          ],
          "table": [
           {
            "cells": {
             "fill": {
              "color": "#EBF0F8"
             },
             "line": {
              "color": "white"
             }
            },
            "header": {
             "fill": {
              "color": "#C8D4E3"
             },
             "line": {
              "color": "white"
             }
            },
            "type": "table"
           }
          ]
         },
         "layout": {
          "annotationdefaults": {
           "arrowcolor": "#2a3f5f",
           "arrowhead": 0,
           "arrowwidth": 1
          },
          "autotypenumbers": "strict",
          "coloraxis": {
           "colorbar": {
            "outlinewidth": 0,
            "ticks": ""
           }
          },
          "colorscale": {
           "diverging": [
            [
             0,
             "#8e0152"
            ],
            [
             0.1,
             "#c51b7d"
            ],
            [
             0.2,
             "#de77ae"
            ],
            [
             0.3,
             "#f1b6da"
            ],
            [
             0.4,
             "#fde0ef"
            ],
            [
             0.5,
             "#f7f7f7"
            ],
            [
             0.6,
             "#e6f5d0"
            ],
            [
             0.7,
             "#b8e186"
            ],
            [
             0.8,
             "#7fbc41"
            ],
            [
             0.9,
             "#4d9221"
            ],
            [
             1,
             "#276419"
            ]
           ],
           "sequential": [
            [
             0,
             "#0d0887"
            ],
            [
             0.1111111111111111,
             "#46039f"
            ],
            [
             0.2222222222222222,
             "#7201a8"
            ],
            [
             0.3333333333333333,
             "#9c179e"
            ],
            [
             0.4444444444444444,
             "#bd3786"
            ],
            [
             0.5555555555555556,
             "#d8576b"
            ],
            [
             0.6666666666666666,
             "#ed7953"
            ],
            [
             0.7777777777777778,
             "#fb9f3a"
            ],
            [
             0.8888888888888888,
             "#fdca26"
            ],
            [
             1,
             "#f0f921"
            ]
           ],
           "sequentialminus": [
            [
             0,
             "#0d0887"
            ],
            [
             0.1111111111111111,
             "#46039f"
            ],
            [
             0.2222222222222222,
             "#7201a8"
            ],
            [
             0.3333333333333333,
             "#9c179e"
            ],
            [
             0.4444444444444444,
             "#bd3786"
            ],
            [
             0.5555555555555556,
             "#d8576b"
            ],
            [
             0.6666666666666666,
             "#ed7953"
            ],
            [
             0.7777777777777778,
             "#fb9f3a"
            ],
            [
             0.8888888888888888,
             "#fdca26"
            ],
            [
             1,
             "#f0f921"
            ]
           ]
          },
          "colorway": [
           "#636efa",
           "#EF553B",
           "#00cc96",
           "#ab63fa",
           "#FFA15A",
           "#19d3f3",
           "#FF6692",
           "#B6E880",
           "#FF97FF",
           "#FECB52"
          ],
          "font": {
           "color": "#2a3f5f"
          },
          "geo": {
           "bgcolor": "white",
           "lakecolor": "white",
           "landcolor": "#E5ECF6",
           "showlakes": true,
           "showland": true,
           "subunitcolor": "white"
          },
          "hoverlabel": {
           "align": "left"
          },
          "hovermode": "closest",
          "mapbox": {
           "style": "light"
          },
          "paper_bgcolor": "white",
          "plot_bgcolor": "#E5ECF6",
          "polar": {
           "angularaxis": {
            "gridcolor": "white",
            "linecolor": "white",
            "ticks": ""
           },
           "bgcolor": "#E5ECF6",
           "radialaxis": {
            "gridcolor": "white",
            "linecolor": "white",
            "ticks": ""
           }
          },
          "scene": {
           "xaxis": {
            "backgroundcolor": "#E5ECF6",
            "gridcolor": "white",
            "gridwidth": 2,
            "linecolor": "white",
            "showbackground": true,
            "ticks": "",
            "zerolinecolor": "white"
           },
           "yaxis": {
            "backgroundcolor": "#E5ECF6",
            "gridcolor": "white",
            "gridwidth": 2,
            "linecolor": "white",
            "showbackground": true,
            "ticks": "",
            "zerolinecolor": "white"
           },
           "zaxis": {
            "backgroundcolor": "#E5ECF6",
            "gridcolor": "white",
            "gridwidth": 2,
            "linecolor": "white",
            "showbackground": true,
            "ticks": "",
            "zerolinecolor": "white"
           }
          },
          "shapedefaults": {
           "line": {
            "color": "#2a3f5f"
           }
          },
          "ternary": {
           "aaxis": {
            "gridcolor": "white",
            "linecolor": "white",
            "ticks": ""
           },
           "baxis": {
            "gridcolor": "white",
            "linecolor": "white",
            "ticks": ""
           },
           "bgcolor": "#E5ECF6",
           "caxis": {
            "gridcolor": "white",
            "linecolor": "white",
            "ticks": ""
           }
          },
          "title": {
           "x": 0.05
          },
          "xaxis": {
           "automargin": true,
           "gridcolor": "white",
           "linecolor": "white",
           "ticks": "",
           "title": {
            "standoff": 15
           },
           "zerolinecolor": "white",
           "zerolinewidth": 2
          },
          "yaxis": {
           "automargin": true,
           "gridcolor": "white",
           "linecolor": "white",
           "ticks": "",
           "title": {
            "standoff": 15
           },
           "zerolinecolor": "white",
           "zerolinewidth": 2
          }
         }
        },
        "title": {
         "text": "Log probability of S given D for different AR change parameters (350 IDs)"
        },
        "width": 650,
        "xaxis": {
         "anchor": "y",
         "domain": [
          0,
          0.2888888888888889
         ],
         "title": {
          "text": "Main width<br><br>Main weight=0.9"
         },
         "type": "category"
        },
        "xaxis2": {
         "anchor": "y2",
         "domain": [
          0.35555555555555557,
          0.6444444444444445
         ],
         "title": {
          "text": "Main width<br><br>Main weight=0.95"
         },
         "type": "category"
        },
        "xaxis3": {
         "anchor": "y3",
         "domain": [
          0.7111111111111111,
          1
         ],
         "title": {
          "text": "Main width<br><br>Main weight=1"
         },
         "type": "category"
        },
        "yaxis": {
         "anchor": "x",
         "domain": [
          0,
          1
         ],
         "title": {
          "text": "Tail width"
         },
         "type": "category"
        },
        "yaxis2": {
         "anchor": "x2",
         "domain": [
          0,
          1
         ],
         "type": "category"
        },
        "yaxis3": {
         "anchor": "x3",
         "domain": [
          0,
          1
         ],
         "type": "category"
        }
       }
      }
     },
     "metadata": {},
     "output_type": "display_data"
    }
   ],
   "source": [
    "params = [\n",
    "    (0.2, 1, 0.9),\n",
    "    (0.2, 1, 0.95),\n",
    "    (0.2, 1, 1),\n",
    "    (0.2, 4, 0.9),\n",
    "    (0.2, 4, 0.95),\n",
    "    (0.2, 4, 1),\n",
    "    (0.2, 10, 0.9),\n",
    "    (0.2, 10, 0.95),\n",
    "    (0.2, 10, 1),\n",
    "    (0.4, 1, 0.9),\n",
    "    (0.4, 1, 0.95),\n",
    "    (0.4, 1, 1),\n",
    "    (0.4, 4, 0.9),\n",
    "    (0.4, 4, 0.95),\n",
    "    (0.4, 4, 1),\n",
    "    (0.4, 10, 0.9),\n",
    "    (0.4, 10, 0.95),\n",
    "    (0.4, 10, 1),\n",
    "    (1, 1, 0.9),\n",
    "    (1, 1, 0.95),\n",
    "    (1, 1, 1),\n",
    "    (1, 4, 0.9),\n",
    "    (1, 4, 0.95),\n",
    "    (1, 4, 1),\n",
    "    (1, 10, 0.9),\n",
    "    (1, 10, 0.95),\n",
    "    (1, 10, 1),\n",
    "]\n",
    "labels = [\"main width\", \"tail width\", \"main weight\"]\n",
    "df_heatmap, IDs = load_and_process_json(272, params, labels)\n",
    "plot_3_3_heatmaps(df_heatmap, IDs, 0.9, 0.95, 1)"
   ]
  },
  {
   "cell_type": "code",
   "execution_count": 16,
   "metadata": {},
   "outputs": [
    {
     "data": {
      "application/vnd.plotly.v1+json": {
       "config": {
        "plotlyServerURL": "https://plot.ly"
       },
       "data": [
        {
         "type": "heatmap",
         "x": [
          0.01,
          0.01,
          0.01,
          0.01,
          0.01,
          0.01,
          0.03,
          0.03,
          0.03,
          0.03,
          0.03,
          0.03,
          0.05,
          0.05,
          0.05,
          0.05,
          0.05,
          0.05,
          0.1,
          0.1,
          0.1,
          0.1,
          0.1,
          0.15,
          0.15,
          0.15,
          0.15,
          0.15
         ],
         "xaxis": "x",
         "y": [
          0.1,
          0.2,
          0.5,
          0.8,
          1.1,
          1.4,
          0.1,
          0.2,
          0.5,
          0.8,
          1.1,
          1.4,
          0.1,
          0.2,
          0.5,
          0.8,
          1.1,
          1.4,
          0.2,
          0.5,
          0.8,
          1.1,
          1.4,
          0.2,
          0.5,
          0.8,
          1.1,
          1.4
         ],
         "yaxis": "y",
         "z": [
          -4123169.4871437484,
          -4123252.7527303807,
          -4123461.4458788466,
          -4123671.88793384,
          -4123868.483424929,
          -4124041.092800981,
          -4123199.8618376814,
          -4123258.7459046775,
          -4123437.9181542383,
          -4123618.0061229807,
          -4123785.196100729,
          -4123930.3874374204,
          -4123230.424582108,
          -4123292.0591928475,
          -4123477.4682052303,
          -4123663.886902711,
          -4123837.3400393003,
          -4123988.5949064814,
          -4123362.22075452,
          -4123547.8826411697,
          -4123734.866659148,
          -4123909.1462221197,
          -4124061.5530244983,
          -4123433.99941046,
          -4123621.0513855913,
          -4123809.6171314917,
          -4123985.8299563006,
          -4124140.642868879
         ]
        }
       ],
       "layout": {
        "font": {
         "size": 10
        },
        "height": 400,
        "template": {
         "data": {
          "bar": [
           {
            "error_x": {
             "color": "#2a3f5f"
            },
            "error_y": {
             "color": "#2a3f5f"
            },
            "marker": {
             "line": {
              "color": "#E5ECF6",
              "width": 0.5
             },
             "pattern": {
              "fillmode": "overlay",
              "size": 10,
              "solidity": 0.2
             }
            },
            "type": "bar"
           }
          ],
          "barpolar": [
           {
            "marker": {
             "line": {
              "color": "#E5ECF6",
              "width": 0.5
             },
             "pattern": {
              "fillmode": "overlay",
              "size": 10,
              "solidity": 0.2
             }
            },
            "type": "barpolar"
           }
          ],
          "carpet": [
           {
            "aaxis": {
             "endlinecolor": "#2a3f5f",
             "gridcolor": "white",
             "linecolor": "white",
             "minorgridcolor": "white",
             "startlinecolor": "#2a3f5f"
            },
            "baxis": {
             "endlinecolor": "#2a3f5f",
             "gridcolor": "white",
             "linecolor": "white",
             "minorgridcolor": "white",
             "startlinecolor": "#2a3f5f"
            },
            "type": "carpet"
           }
          ],
          "choropleth": [
           {
            "colorbar": {
             "outlinewidth": 0,
             "ticks": ""
            },
            "type": "choropleth"
           }
          ],
          "contour": [
           {
            "colorbar": {
             "outlinewidth": 0,
             "ticks": ""
            },
            "colorscale": [
             [
              0,
              "#0d0887"
             ],
             [
              0.1111111111111111,
              "#46039f"
             ],
             [
              0.2222222222222222,
              "#7201a8"
             ],
             [
              0.3333333333333333,
              "#9c179e"
             ],
             [
              0.4444444444444444,
              "#bd3786"
             ],
             [
              0.5555555555555556,
              "#d8576b"
             ],
             [
              0.6666666666666666,
              "#ed7953"
             ],
             [
              0.7777777777777778,
              "#fb9f3a"
             ],
             [
              0.8888888888888888,
              "#fdca26"
             ],
             [
              1,
              "#f0f921"
             ]
            ],
            "type": "contour"
           }
          ],
          "contourcarpet": [
           {
            "colorbar": {
             "outlinewidth": 0,
             "ticks": ""
            },
            "type": "contourcarpet"
           }
          ],
          "heatmap": [
           {
            "colorbar": {
             "outlinewidth": 0,
             "ticks": ""
            },
            "colorscale": [
             [
              0,
              "#0d0887"
             ],
             [
              0.1111111111111111,
              "#46039f"
             ],
             [
              0.2222222222222222,
              "#7201a8"
             ],
             [
              0.3333333333333333,
              "#9c179e"
             ],
             [
              0.4444444444444444,
              "#bd3786"
             ],
             [
              0.5555555555555556,
              "#d8576b"
             ],
             [
              0.6666666666666666,
              "#ed7953"
             ],
             [
              0.7777777777777778,
              "#fb9f3a"
             ],
             [
              0.8888888888888888,
              "#fdca26"
             ],
             [
              1,
              "#f0f921"
             ]
            ],
            "type": "heatmap"
           }
          ],
          "heatmapgl": [
           {
            "colorbar": {
             "outlinewidth": 0,
             "ticks": ""
            },
            "colorscale": [
             [
              0,
              "#0d0887"
             ],
             [
              0.1111111111111111,
              "#46039f"
             ],
             [
              0.2222222222222222,
              "#7201a8"
             ],
             [
              0.3333333333333333,
              "#9c179e"
             ],
             [
              0.4444444444444444,
              "#bd3786"
             ],
             [
              0.5555555555555556,
              "#d8576b"
             ],
             [
              0.6666666666666666,
              "#ed7953"
             ],
             [
              0.7777777777777778,
              "#fb9f3a"
             ],
             [
              0.8888888888888888,
              "#fdca26"
             ],
             [
              1,
              "#f0f921"
             ]
            ],
            "type": "heatmapgl"
           }
          ],
          "histogram": [
           {
            "marker": {
             "pattern": {
              "fillmode": "overlay",
              "size": 10,
              "solidity": 0.2
             }
            },
            "type": "histogram"
           }
          ],
          "histogram2d": [
           {
            "colorbar": {
             "outlinewidth": 0,
             "ticks": ""
            },
            "colorscale": [
             [
              0,
              "#0d0887"
             ],
             [
              0.1111111111111111,
              "#46039f"
             ],
             [
              0.2222222222222222,
              "#7201a8"
             ],
             [
              0.3333333333333333,
              "#9c179e"
             ],
             [
              0.4444444444444444,
              "#bd3786"
             ],
             [
              0.5555555555555556,
              "#d8576b"
             ],
             [
              0.6666666666666666,
              "#ed7953"
             ],
             [
              0.7777777777777778,
              "#fb9f3a"
             ],
             [
              0.8888888888888888,
              "#fdca26"
             ],
             [
              1,
              "#f0f921"
             ]
            ],
            "type": "histogram2d"
           }
          ],
          "histogram2dcontour": [
           {
            "colorbar": {
             "outlinewidth": 0,
             "ticks": ""
            },
            "colorscale": [
             [
              0,
              "#0d0887"
             ],
             [
              0.1111111111111111,
              "#46039f"
             ],
             [
              0.2222222222222222,
              "#7201a8"
             ],
             [
              0.3333333333333333,
              "#9c179e"
             ],
             [
              0.4444444444444444,
              "#bd3786"
             ],
             [
              0.5555555555555556,
              "#d8576b"
             ],
             [
              0.6666666666666666,
              "#ed7953"
             ],
             [
              0.7777777777777778,
              "#fb9f3a"
             ],
             [
              0.8888888888888888,
              "#fdca26"
             ],
             [
              1,
              "#f0f921"
             ]
            ],
            "type": "histogram2dcontour"
           }
          ],
          "mesh3d": [
           {
            "colorbar": {
             "outlinewidth": 0,
             "ticks": ""
            },
            "type": "mesh3d"
           }
          ],
          "parcoords": [
           {
            "line": {
             "colorbar": {
              "outlinewidth": 0,
              "ticks": ""
             }
            },
            "type": "parcoords"
           }
          ],
          "pie": [
           {
            "automargin": true,
            "type": "pie"
           }
          ],
          "scatter": [
           {
            "fillpattern": {
             "fillmode": "overlay",
             "size": 10,
             "solidity": 0.2
            },
            "type": "scatter"
           }
          ],
          "scatter3d": [
           {
            "line": {
             "colorbar": {
              "outlinewidth": 0,
              "ticks": ""
             }
            },
            "marker": {
             "colorbar": {
              "outlinewidth": 0,
              "ticks": ""
             }
            },
            "type": "scatter3d"
           }
          ],
          "scattercarpet": [
           {
            "marker": {
             "colorbar": {
              "outlinewidth": 0,
              "ticks": ""
             }
            },
            "type": "scattercarpet"
           }
          ],
          "scattergeo": [
           {
            "marker": {
             "colorbar": {
              "outlinewidth": 0,
              "ticks": ""
             }
            },
            "type": "scattergeo"
           }
          ],
          "scattergl": [
           {
            "marker": {
             "colorbar": {
              "outlinewidth": 0,
              "ticks": ""
             }
            },
            "type": "scattergl"
           }
          ],
          "scattermapbox": [
           {
            "marker": {
             "colorbar": {
              "outlinewidth": 0,
              "ticks": ""
             }
            },
            "type": "scattermapbox"
           }
          ],
          "scatterpolar": [
           {
            "marker": {
             "colorbar": {
              "outlinewidth": 0,
              "ticks": ""
             }
            },
            "type": "scatterpolar"
           }
          ],
          "scatterpolargl": [
           {
            "marker": {
             "colorbar": {
              "outlinewidth": 0,
              "ticks": ""
             }
            },
            "type": "scatterpolargl"
           }
          ],
          "scatterternary": [
           {
            "marker": {
             "colorbar": {
              "outlinewidth": 0,
              "ticks": ""
             }
            },
            "type": "scatterternary"
           }
          ],
          "surface": [
           {
            "colorbar": {
             "outlinewidth": 0,
             "ticks": ""
            },
            "colorscale": [
             [
              0,
              "#0d0887"
             ],
             [
              0.1111111111111111,
              "#46039f"
             ],
             [
              0.2222222222222222,
              "#7201a8"
             ],
             [
              0.3333333333333333,
              "#9c179e"
             ],
             [
              0.4444444444444444,
              "#bd3786"
             ],
             [
              0.5555555555555556,
              "#d8576b"
             ],
             [
              0.6666666666666666,
              "#ed7953"
             ],
             [
              0.7777777777777778,
              "#fb9f3a"
             ],
             [
              0.8888888888888888,
              "#fdca26"
             ],
             [
              1,
              "#f0f921"
             ]
            ],
            "type": "surface"
           }
          ],
          "table": [
           {
            "cells": {
             "fill": {
              "color": "#EBF0F8"
             },
             "line": {
              "color": "white"
             }
            },
            "header": {
             "fill": {
              "color": "#C8D4E3"
             },
             "line": {
              "color": "white"
             }
            },
            "type": "table"
           }
          ]
         },
         "layout": {
          "annotationdefaults": {
           "arrowcolor": "#2a3f5f",
           "arrowhead": 0,
           "arrowwidth": 1
          },
          "autotypenumbers": "strict",
          "coloraxis": {
           "colorbar": {
            "outlinewidth": 0,
            "ticks": ""
           }
          },
          "colorscale": {
           "diverging": [
            [
             0,
             "#8e0152"
            ],
            [
             0.1,
             "#c51b7d"
            ],
            [
             0.2,
             "#de77ae"
            ],
            [
             0.3,
             "#f1b6da"
            ],
            [
             0.4,
             "#fde0ef"
            ],
            [
             0.5,
             "#f7f7f7"
            ],
            [
             0.6,
             "#e6f5d0"
            ],
            [
             0.7,
             "#b8e186"
            ],
            [
             0.8,
             "#7fbc41"
            ],
            [
             0.9,
             "#4d9221"
            ],
            [
             1,
             "#276419"
            ]
           ],
           "sequential": [
            [
             0,
             "#0d0887"
            ],
            [
             0.1111111111111111,
             "#46039f"
            ],
            [
             0.2222222222222222,
             "#7201a8"
            ],
            [
             0.3333333333333333,
             "#9c179e"
            ],
            [
             0.4444444444444444,
             "#bd3786"
            ],
            [
             0.5555555555555556,
             "#d8576b"
            ],
            [
             0.6666666666666666,
             "#ed7953"
            ],
            [
             0.7777777777777778,
             "#fb9f3a"
            ],
            [
             0.8888888888888888,
             "#fdca26"
            ],
            [
             1,
             "#f0f921"
            ]
           ],
           "sequentialminus": [
            [
             0,
             "#0d0887"
            ],
            [
             0.1111111111111111,
             "#46039f"
            ],
            [
             0.2222222222222222,
             "#7201a8"
            ],
            [
             0.3333333333333333,
             "#9c179e"
            ],
            [
             0.4444444444444444,
             "#bd3786"
            ],
            [
             0.5555555555555556,
             "#d8576b"
            ],
            [
             0.6666666666666666,
             "#ed7953"
            ],
            [
             0.7777777777777778,
             "#fb9f3a"
            ],
            [
             0.8888888888888888,
             "#fdca26"
            ],
            [
             1,
             "#f0f921"
            ]
           ]
          },
          "colorway": [
           "#636efa",
           "#EF553B",
           "#00cc96",
           "#ab63fa",
           "#FFA15A",
           "#19d3f3",
           "#FF6692",
           "#B6E880",
           "#FF97FF",
           "#FECB52"
          ],
          "font": {
           "color": "#2a3f5f"
          },
          "geo": {
           "bgcolor": "white",
           "lakecolor": "white",
           "landcolor": "#E5ECF6",
           "showlakes": true,
           "showland": true,
           "subunitcolor": "white"
          },
          "hoverlabel": {
           "align": "left"
          },
          "hovermode": "closest",
          "mapbox": {
           "style": "light"
          },
          "paper_bgcolor": "white",
          "plot_bgcolor": "#E5ECF6",
          "polar": {
           "angularaxis": {
            "gridcolor": "white",
            "linecolor": "white",
            "ticks": ""
           },
           "bgcolor": "#E5ECF6",
           "radialaxis": {
            "gridcolor": "white",
            "linecolor": "white",
            "ticks": ""
           }
          },
          "scene": {
           "xaxis": {
            "backgroundcolor": "#E5ECF6",
            "gridcolor": "white",
            "gridwidth": 2,
            "linecolor": "white",
            "showbackground": true,
            "ticks": "",
            "zerolinecolor": "white"
           },
           "yaxis": {
            "backgroundcolor": "#E5ECF6",
            "gridcolor": "white",
            "gridwidth": 2,
            "linecolor": "white",
            "showbackground": true,
            "ticks": "",
            "zerolinecolor": "white"
           },
           "zaxis": {
            "backgroundcolor": "#E5ECF6",
            "gridcolor": "white",
            "gridwidth": 2,
            "linecolor": "white",
            "showbackground": true,
            "ticks": "",
            "zerolinecolor": "white"
           }
          },
          "shapedefaults": {
           "line": {
            "color": "#2a3f5f"
           }
          },
          "ternary": {
           "aaxis": {
            "gridcolor": "white",
            "linecolor": "white",
            "ticks": ""
           },
           "baxis": {
            "gridcolor": "white",
            "linecolor": "white",
            "ticks": ""
           },
           "bgcolor": "#E5ECF6",
           "caxis": {
            "gridcolor": "white",
            "linecolor": "white",
            "ticks": ""
           }
          },
          "title": {
           "x": 0.05
          },
          "xaxis": {
           "automargin": true,
           "gridcolor": "white",
           "linecolor": "white",
           "ticks": "",
           "title": {
            "standoff": 15
           },
           "zerolinecolor": "white",
           "zerolinewidth": 2
          },
          "yaxis": {
           "automargin": true,
           "gridcolor": "white",
           "linecolor": "white",
           "ticks": "",
           "title": {
            "standoff": 15
           },
           "zerolinecolor": "white",
           "zerolinewidth": 2
          }
         }
        },
        "title": {
         "text": "Log probability of S given D for different AR change parameters (350 IDs)"
        },
        "width": 450,
        "xaxis": {
         "anchor": "y",
         "domain": [
          0,
          1
         ],
         "title": {
          "text": "Main width<br><br>Main weight=0.7"
         },
         "type": "category"
        },
        "yaxis": {
         "anchor": "x",
         "domain": [
          0,
          1
         ],
         "title": {
          "text": "Tail width"
         }
        }
       }
      }
     },
     "metadata": {},
     "output_type": "display_data"
    }
   ],
   "source": [
    "params = [\n",
    "    (0.01, 0.1, 0.7),\n",
    "    (0.01, 0.2, 0.7),\n",
    "    (0.01, 0.5, 0.7),\n",
    "    (0.01, 0.8, 0.7),\n",
    "    (0.01, 1.1, 0.7),\n",
    "    (0.01, 1.4, 0.7),\n",
    "    (0.03, 0.1, 0.7),\n",
    "    (0.03, 0.2, 0.7),\n",
    "    (0.03, 0.5, 0.7),\n",
    "    (0.03, 0.8, 0.7),\n",
    "    (0.03, 1.1, 0.7),\n",
    "    (0.03, 1.4, 0.7),\n",
    "    (0.05, 0.1, 0.7),\n",
    "    (0.05, 0.2, 0.7),\n",
    "    (0.05, 0.5, 0.7),\n",
    "    (0.05, 0.8, 0.7),\n",
    "    (0.05, 1.1, 0.7),\n",
    "    (0.05, 1.4, 0.7),\n",
    "    (0.1, 0.2, 0.7),\n",
    "    (0.1, 0.5, 0.7),\n",
    "    (0.1, 0.8, 0.7),\n",
    "    (0.1, 1.1, 0.7),\n",
    "    (0.1, 1.4, 0.7),\n",
    "    (0.15, 0.2, 0.7),\n",
    "    (0.15, 0.5, 0.7),\n",
    "    (0.15, 0.8, 0.7),\n",
    "    (0.15, 1.1, 0.7),\n",
    "    (0.15, 1.4, 0.7),\n",
    "]\n",
    "labels = [\"main width\", \"tail width\", \"main weight\"]\n",
    "df_heatmap, IDs = load_and_process_json(28, params, labels)\n",
    "\n",
    "fig = make_subplots()\n",
    "fig = add_heatmap_for_weight(fig, df_heatmap, 0.7, 1)\n",
    "fig.update_layout(\n",
    "    title=f\"Log probability of S given D for different AR change parameters ({len(IDs)} IDs)\",\n",
    "    yaxis_title=\"Tail width\",\n",
    "    # yaxis_type='log',\n",
    "    width=450,\n",
    "    height=400,\n",
    "    font_size=10,\n",
    ")\n",
    "fig.show()"
   ]
  },
  {
   "cell_type": "code",
   "execution_count": 31,
   "metadata": {},
   "outputs": [
    {
     "data": {
      "application/vnd.plotly.v1+json": {
       "config": {
        "plotlyServerURL": "https://plot.ly"
       },
       "data": [
        {
         "type": "heatmap",
         "x": [
          0.001,
          0.001,
          0.001,
          0.001,
          0.001,
          0.003,
          0.003,
          0.003,
          0.003,
          0.003,
          0.007,
          0.007,
          0.007,
          0.007,
          0.007,
          0.01,
          0.01,
          0.01,
          0.01,
          0.025,
          0.025,
          0.025,
          0.025
         ],
         "xaxis": "x",
         "y": [
          0.01,
          0.03,
          0.07,
          0.1,
          0.15,
          0.01,
          0.03,
          0.07,
          0.1,
          0.15,
          0.01,
          0.03,
          0.07,
          0.1,
          0.15,
          0.03,
          0.07,
          0.1,
          0.15,
          0.03,
          0.07,
          0.1,
          0.15
         ],
         "yaxis": "y",
         "z": [
          -4123117.1966971885,
          -4123149.190822902,
          -4123211.864707201,
          -4123260.6081240093,
          -4123341.9676698097,
          -4123117.979284369,
          -4123133.4281003424,
          -4123165.9617033494,
          -4123203.1286914814,
          -4123254.62008164,
          -4123118.158995322,
          -4123129.866290541,
          -4123152.774113389,
          -4123173.6389465714,
          -4123211.89882076,
          -4123131.90919656,
          -4123152.7540615285,
          -4123169.4871437484,
          -4123199.763797089,
          -4123152.1216394296,
          -4123172.0078127896,
          -4123188.963807789,
          -4123216.916576973
         ]
        }
       ],
       "layout": {
        "font": {
         "size": 10
        },
        "height": 400,
        "template": {
         "data": {
          "bar": [
           {
            "error_x": {
             "color": "#2a3f5f"
            },
            "error_y": {
             "color": "#2a3f5f"
            },
            "marker": {
             "line": {
              "color": "#E5ECF6",
              "width": 0.5
             },
             "pattern": {
              "fillmode": "overlay",
              "size": 10,
              "solidity": 0.2
             }
            },
            "type": "bar"
           }
          ],
          "barpolar": [
           {
            "marker": {
             "line": {
              "color": "#E5ECF6",
              "width": 0.5
             },
             "pattern": {
              "fillmode": "overlay",
              "size": 10,
              "solidity": 0.2
             }
            },
            "type": "barpolar"
           }
          ],
          "carpet": [
           {
            "aaxis": {
             "endlinecolor": "#2a3f5f",
             "gridcolor": "white",
             "linecolor": "white",
             "minorgridcolor": "white",
             "startlinecolor": "#2a3f5f"
            },
            "baxis": {
             "endlinecolor": "#2a3f5f",
             "gridcolor": "white",
             "linecolor": "white",
             "minorgridcolor": "white",
             "startlinecolor": "#2a3f5f"
            },
            "type": "carpet"
           }
          ],
          "choropleth": [
           {
            "colorbar": {
             "outlinewidth": 0,
             "ticks": ""
            },
            "type": "choropleth"
           }
          ],
          "contour": [
           {
            "colorbar": {
             "outlinewidth": 0,
             "ticks": ""
            },
            "colorscale": [
             [
              0,
              "#0d0887"
             ],
             [
              0.1111111111111111,
              "#46039f"
             ],
             [
              0.2222222222222222,
              "#7201a8"
             ],
             [
              0.3333333333333333,
              "#9c179e"
             ],
             [
              0.4444444444444444,
              "#bd3786"
             ],
             [
              0.5555555555555556,
              "#d8576b"
             ],
             [
              0.6666666666666666,
              "#ed7953"
             ],
             [
              0.7777777777777778,
              "#fb9f3a"
             ],
             [
              0.8888888888888888,
              "#fdca26"
             ],
             [
              1,
              "#f0f921"
             ]
            ],
            "type": "contour"
           }
          ],
          "contourcarpet": [
           {
            "colorbar": {
             "outlinewidth": 0,
             "ticks": ""
            },
            "type": "contourcarpet"
           }
          ],
          "heatmap": [
           {
            "colorbar": {
             "outlinewidth": 0,
             "ticks": ""
            },
            "colorscale": [
             [
              0,
              "#0d0887"
             ],
             [
              0.1111111111111111,
              "#46039f"
             ],
             [
              0.2222222222222222,
              "#7201a8"
             ],
             [
              0.3333333333333333,
              "#9c179e"
             ],
             [
              0.4444444444444444,
              "#bd3786"
             ],
             [
              0.5555555555555556,
              "#d8576b"
             ],
             [
              0.6666666666666666,
              "#ed7953"
             ],
             [
              0.7777777777777778,
              "#fb9f3a"
             ],
             [
              0.8888888888888888,
              "#fdca26"
             ],
             [
              1,
              "#f0f921"
             ]
            ],
            "type": "heatmap"
           }
          ],
          "heatmapgl": [
           {
            "colorbar": {
             "outlinewidth": 0,
             "ticks": ""
            },
            "colorscale": [
             [
              0,
              "#0d0887"
             ],
             [
              0.1111111111111111,
              "#46039f"
             ],
             [
              0.2222222222222222,
              "#7201a8"
             ],
             [
              0.3333333333333333,
              "#9c179e"
             ],
             [
              0.4444444444444444,
              "#bd3786"
             ],
             [
              0.5555555555555556,
              "#d8576b"
             ],
             [
              0.6666666666666666,
              "#ed7953"
             ],
             [
              0.7777777777777778,
              "#fb9f3a"
             ],
             [
              0.8888888888888888,
              "#fdca26"
             ],
             [
              1,
              "#f0f921"
             ]
            ],
            "type": "heatmapgl"
           }
          ],
          "histogram": [
           {
            "marker": {
             "pattern": {
              "fillmode": "overlay",
              "size": 10,
              "solidity": 0.2
             }
            },
            "type": "histogram"
           }
          ],
          "histogram2d": [
           {
            "colorbar": {
             "outlinewidth": 0,
             "ticks": ""
            },
            "colorscale": [
             [
              0,
              "#0d0887"
             ],
             [
              0.1111111111111111,
              "#46039f"
             ],
             [
              0.2222222222222222,
              "#7201a8"
             ],
             [
              0.3333333333333333,
              "#9c179e"
             ],
             [
              0.4444444444444444,
              "#bd3786"
             ],
             [
              0.5555555555555556,
              "#d8576b"
             ],
             [
              0.6666666666666666,
              "#ed7953"
             ],
             [
              0.7777777777777778,
              "#fb9f3a"
             ],
             [
              0.8888888888888888,
              "#fdca26"
             ],
             [
              1,
              "#f0f921"
             ]
            ],
            "type": "histogram2d"
           }
          ],
          "histogram2dcontour": [
           {
            "colorbar": {
             "outlinewidth": 0,
             "ticks": ""
            },
            "colorscale": [
             [
              0,
              "#0d0887"
             ],
             [
              0.1111111111111111,
              "#46039f"
             ],
             [
              0.2222222222222222,
              "#7201a8"
             ],
             [
              0.3333333333333333,
              "#9c179e"
             ],
             [
              0.4444444444444444,
              "#bd3786"
             ],
             [
              0.5555555555555556,
              "#d8576b"
             ],
             [
              0.6666666666666666,
              "#ed7953"
             ],
             [
              0.7777777777777778,
              "#fb9f3a"
             ],
             [
              0.8888888888888888,
              "#fdca26"
             ],
             [
              1,
              "#f0f921"
             ]
            ],
            "type": "histogram2dcontour"
           }
          ],
          "mesh3d": [
           {
            "colorbar": {
             "outlinewidth": 0,
             "ticks": ""
            },
            "type": "mesh3d"
           }
          ],
          "parcoords": [
           {
            "line": {
             "colorbar": {
              "outlinewidth": 0,
              "ticks": ""
             }
            },
            "type": "parcoords"
           }
          ],
          "pie": [
           {
            "automargin": true,
            "type": "pie"
           }
          ],
          "scatter": [
           {
            "fillpattern": {
             "fillmode": "overlay",
             "size": 10,
             "solidity": 0.2
            },
            "type": "scatter"
           }
          ],
          "scatter3d": [
           {
            "line": {
             "colorbar": {
              "outlinewidth": 0,
              "ticks": ""
             }
            },
            "marker": {
             "colorbar": {
              "outlinewidth": 0,
              "ticks": ""
             }
            },
            "type": "scatter3d"
           }
          ],
          "scattercarpet": [
           {
            "marker": {
             "colorbar": {
              "outlinewidth": 0,
              "ticks": ""
             }
            },
            "type": "scattercarpet"
           }
          ],
          "scattergeo": [
           {
            "marker": {
             "colorbar": {
              "outlinewidth": 0,
              "ticks": ""
             }
            },
            "type": "scattergeo"
           }
          ],
          "scattergl": [
           {
            "marker": {
             "colorbar": {
              "outlinewidth": 0,
              "ticks": ""
             }
            },
            "type": "scattergl"
           }
          ],
          "scattermapbox": [
           {
            "marker": {
             "colorbar": {
              "outlinewidth": 0,
              "ticks": ""
             }
            },
            "type": "scattermapbox"
           }
          ],
          "scatterpolar": [
           {
            "marker": {
             "colorbar": {
              "outlinewidth": 0,
              "ticks": ""
             }
            },
            "type": "scatterpolar"
           }
          ],
          "scatterpolargl": [
           {
            "marker": {
             "colorbar": {
              "outlinewidth": 0,
              "ticks": ""
             }
            },
            "type": "scatterpolargl"
           }
          ],
          "scatterternary": [
           {
            "marker": {
             "colorbar": {
              "outlinewidth": 0,
              "ticks": ""
             }
            },
            "type": "scatterternary"
           }
          ],
          "surface": [
           {
            "colorbar": {
             "outlinewidth": 0,
             "ticks": ""
            },
            "colorscale": [
             [
              0,
              "#0d0887"
             ],
             [
              0.1111111111111111,
              "#46039f"
             ],
             [
              0.2222222222222222,
              "#7201a8"
             ],
             [
              0.3333333333333333,
              "#9c179e"
             ],
             [
              0.4444444444444444,
              "#bd3786"
             ],
             [
              0.5555555555555556,
              "#d8576b"
             ],
             [
              0.6666666666666666,
              "#ed7953"
             ],
             [
              0.7777777777777778,
              "#fb9f3a"
             ],
             [
              0.8888888888888888,
              "#fdca26"
             ],
             [
              1,
              "#f0f921"
             ]
            ],
            "type": "surface"
           }
          ],
          "table": [
           {
            "cells": {
             "fill": {
              "color": "#EBF0F8"
             },
             "line": {
              "color": "white"
             }
            },
            "header": {
             "fill": {
              "color": "#C8D4E3"
             },
             "line": {
              "color": "white"
             }
            },
            "type": "table"
           }
          ]
         },
         "layout": {
          "annotationdefaults": {
           "arrowcolor": "#2a3f5f",
           "arrowhead": 0,
           "arrowwidth": 1
          },
          "autotypenumbers": "strict",
          "coloraxis": {
           "colorbar": {
            "outlinewidth": 0,
            "ticks": ""
           }
          },
          "colorscale": {
           "diverging": [
            [
             0,
             "#8e0152"
            ],
            [
             0.1,
             "#c51b7d"
            ],
            [
             0.2,
             "#de77ae"
            ],
            [
             0.3,
             "#f1b6da"
            ],
            [
             0.4,
             "#fde0ef"
            ],
            [
             0.5,
             "#f7f7f7"
            ],
            [
             0.6,
             "#e6f5d0"
            ],
            [
             0.7,
             "#b8e186"
            ],
            [
             0.8,
             "#7fbc41"
            ],
            [
             0.9,
             "#4d9221"
            ],
            [
             1,
             "#276419"
            ]
           ],
           "sequential": [
            [
             0,
             "#0d0887"
            ],
            [
             0.1111111111111111,
             "#46039f"
            ],
            [
             0.2222222222222222,
             "#7201a8"
            ],
            [
             0.3333333333333333,
             "#9c179e"
            ],
            [
             0.4444444444444444,
             "#bd3786"
            ],
            [
             0.5555555555555556,
             "#d8576b"
            ],
            [
             0.6666666666666666,
             "#ed7953"
            ],
            [
             0.7777777777777778,
             "#fb9f3a"
            ],
            [
             0.8888888888888888,
             "#fdca26"
            ],
            [
             1,
             "#f0f921"
            ]
           ],
           "sequentialminus": [
            [
             0,
             "#0d0887"
            ],
            [
             0.1111111111111111,
             "#46039f"
            ],
            [
             0.2222222222222222,
             "#7201a8"
            ],
            [
             0.3333333333333333,
             "#9c179e"
            ],
            [
             0.4444444444444444,
             "#bd3786"
            ],
            [
             0.5555555555555556,
             "#d8576b"
            ],
            [
             0.6666666666666666,
             "#ed7953"
            ],
            [
             0.7777777777777778,
             "#fb9f3a"
            ],
            [
             0.8888888888888888,
             "#fdca26"
            ],
            [
             1,
             "#f0f921"
            ]
           ]
          },
          "colorway": [
           "#636efa",
           "#EF553B",
           "#00cc96",
           "#ab63fa",
           "#FFA15A",
           "#19d3f3",
           "#FF6692",
           "#B6E880",
           "#FF97FF",
           "#FECB52"
          ],
          "font": {
           "color": "#2a3f5f"
          },
          "geo": {
           "bgcolor": "white",
           "lakecolor": "white",
           "landcolor": "#E5ECF6",
           "showlakes": true,
           "showland": true,
           "subunitcolor": "white"
          },
          "hoverlabel": {
           "align": "left"
          },
          "hovermode": "closest",
          "mapbox": {
           "style": "light"
          },
          "paper_bgcolor": "white",
          "plot_bgcolor": "#E5ECF6",
          "polar": {
           "angularaxis": {
            "gridcolor": "white",
            "linecolor": "white",
            "ticks": ""
           },
           "bgcolor": "#E5ECF6",
           "radialaxis": {
            "gridcolor": "white",
            "linecolor": "white",
            "ticks": ""
           }
          },
          "scene": {
           "xaxis": {
            "backgroundcolor": "#E5ECF6",
            "gridcolor": "white",
            "gridwidth": 2,
            "linecolor": "white",
            "showbackground": true,
            "ticks": "",
            "zerolinecolor": "white"
           },
           "yaxis": {
            "backgroundcolor": "#E5ECF6",
            "gridcolor": "white",
            "gridwidth": 2,
            "linecolor": "white",
            "showbackground": true,
            "ticks": "",
            "zerolinecolor": "white"
           },
           "zaxis": {
            "backgroundcolor": "#E5ECF6",
            "gridcolor": "white",
            "gridwidth": 2,
            "linecolor": "white",
            "showbackground": true,
            "ticks": "",
            "zerolinecolor": "white"
           }
          },
          "shapedefaults": {
           "line": {
            "color": "#2a3f5f"
           }
          },
          "ternary": {
           "aaxis": {
            "gridcolor": "white",
            "linecolor": "white",
            "ticks": ""
           },
           "baxis": {
            "gridcolor": "white",
            "linecolor": "white",
            "ticks": ""
           },
           "bgcolor": "#E5ECF6",
           "caxis": {
            "gridcolor": "white",
            "linecolor": "white",
            "ticks": ""
           }
          },
          "title": {
           "x": 0.05
          },
          "xaxis": {
           "automargin": true,
           "gridcolor": "white",
           "linecolor": "white",
           "ticks": "",
           "title": {
            "standoff": 15
           },
           "zerolinecolor": "white",
           "zerolinewidth": 2
          },
          "yaxis": {
           "automargin": true,
           "gridcolor": "white",
           "linecolor": "white",
           "ticks": "",
           "title": {
            "standoff": 15
           },
           "zerolinecolor": "white",
           "zerolinewidth": 2
          }
         }
        },
        "title": {
         "text": "Log probability of S given D for different shape parameters<br>(350 IDs)"
        },
        "width": 450,
        "xaxis": {
         "anchor": "y",
         "domain": [
          0,
          1
         ],
         "title": {
          "text": "Main width<br><br>Main weight=0.7"
         },
         "type": "category"
        },
        "yaxis": {
         "anchor": "x",
         "domain": [
          0,
          1
         ],
         "title": {
          "text": "Tail width"
         }
        }
       }
      }
     },
     "metadata": {},
     "output_type": "display_data"
    }
   ],
   "source": [
    "params = [\n",
    "    (0.001, 0.01, 0.7),\n",
    "    (0.001, 0.03, 0.7),\n",
    "    (0.001, 0.07, 0.7),\n",
    "    (0.001, 0.1, 0.7),\n",
    "    (0.001, 0.15, 0.7),\n",
    "    (0.003, 0.01, 0.7),\n",
    "    (0.003, 0.03, 0.7),\n",
    "    (0.003, 0.07, 0.7),\n",
    "    (0.003, 0.1, 0.7),\n",
    "    (0.003, 0.15, 0.7),\n",
    "    (0.007, 0.01, 0.7),\n",
    "    (0.007, 0.03, 0.7),\n",
    "    (0.007, 0.07, 0.7),\n",
    "    (0.007, 0.1, 0.7),\n",
    "    (0.007, 0.15, 0.7),\n",
    "    (0.01, 0.03, 0.7),\n",
    "    (0.01, 0.07, 0.7),\n",
    "    (0.01, 0.1, 0.7),\n",
    "    (0.01, 0.15, 0.7),\n",
    "    (0.025, 0.03, 0.7),\n",
    "    (0.025, 0.07, 0.7),\n",
    "    (0.025, 0.1, 0.7),\n",
    "    (0.025, 0.15, 0.7),\n",
    "]\n",
    "labels = [\"main width\", \"tail width\", \"main weight\"]\n",
    "df_heatmap, data = load_and_process_json(23, params, labels)\n",
    "\n",
    "fig = make_subplots()\n",
    "fig = add_heatmap_for_weight(fig, df_heatmap, 0.7, 1)\n",
    "fig.update_layout(\n",
    "    title=f\"Log probability of S given D for different shape parameters<br>({len(IDs)} IDs)\",\n",
    "    yaxis_title=\"Tail width\",\n",
    "    # yaxis_type='log',\n",
    "    width=450,\n",
    "    height=400,\n",
    "    font_size=10,\n",
    ")\n",
    "fig.show()"
   ]
  },
  {
   "cell_type": "code",
   "execution_count": 41,
   "metadata": {},
   "outputs": [],
   "source": [
    "for id in data.keys():\n",
    "\n",
    "    df_heatmap_for_ID = df_heatmap\n",
    "    df_heatmap_for_ID['log_p_S_given_D'] = data[id]\n",
    "\n",
    "    # Plot for ID\n",
    "    fig = make_subplots()\n",
    "    fig = add_heatmap_for_weight(fig, df_heatmap_for_ID, 0.7, 1)\n",
    "    fig.update_layout(\n",
    "        title=f\"Log probability of S given D for different shape parameters\",\n",
    "        yaxis_title=\"Tail width\",\n",
    "        # yaxis_type='log',\n",
    "        width=800,\n",
    "        height=600,\n",
    "        font_size=12,\n",
    "    )\n",
    "    fig.write_image(\n",
    "        f\"{dh.get_path_to_main()}PlotsBreathe/Interconnecting_ARs_entries/heatmaps_optimal_ar_change_factor_shape/ID {id}.pdf\"\n",
    "    )"
   ]
  },
  {
   "cell_type": "code",
   "execution_count": 44,
   "metadata": {},
   "outputs": [
    {
     "data": {
      "text/html": [
       "<div>\n",
       "<style scoped>\n",
       "    .dataframe tbody tr th:only-of-type {\n",
       "        vertical-align: middle;\n",
       "    }\n",
       "\n",
       "    .dataframe tbody tr th {\n",
       "        vertical-align: top;\n",
       "    }\n",
       "\n",
       "    .dataframe thead th {\n",
       "        text-align: right;\n",
       "    }\n",
       "</style>\n",
       "<table border=\"1\" class=\"dataframe\">\n",
       "  <thead>\n",
       "    <tr style=\"text-align: right;\">\n",
       "      <th></th>\n",
       "      <th>ID</th>\n",
       "      <th>Date Recorded</th>\n",
       "      <th>FEV1</th>\n",
       "      <th>O2 Saturation</th>\n",
       "      <th>FEF2575</th>\n",
       "      <th>ecFEV1</th>\n",
       "      <th>ecFEF2575</th>\n",
       "      <th>Sex</th>\n",
       "      <th>Height</th>\n",
       "      <th>Age</th>\n",
       "      <th>Predicted FEV1</th>\n",
       "      <th>Healthy O2 Saturation</th>\n",
       "      <th>ecFEV1 % Predicted</th>\n",
       "      <th>FEV1 % Predicted</th>\n",
       "      <th>O2 Saturation % Healthy</th>\n",
       "      <th>ecFEF2575%ecFEV1</th>\n",
       "      <th>idx ecFEV1 (L)</th>\n",
       "      <th>idx O2 saturation (%)</th>\n",
       "      <th>idx ecFEF2575%ecFEV1</th>\n",
       "      <th>idx ecFEF25-75 % ecFEV1 (%)</th>\n",
       "    </tr>\n",
       "  </thead>\n",
       "  <tbody>\n",
       "    <tr>\n",
       "      <th>23944</th>\n",
       "      <td>248</td>\n",
       "      <td>2020-05-22</td>\n",
       "      <td>1.20</td>\n",
       "      <td>94</td>\n",
       "      <td>0.88</td>\n",
       "      <td>1.20</td>\n",
       "      <td>1.13</td>\n",
       "      <td>Female</td>\n",
       "      <td>154.0</td>\n",
       "      <td>44</td>\n",
       "      <td>2.601447</td>\n",
       "      <td>98.311859</td>\n",
       "      <td>46.128180</td>\n",
       "      <td>46.128180</td>\n",
       "      <td>95.614101</td>\n",
       "      <td>73.333333</td>\n",
       "      <td>24</td>\n",
       "      <td>44</td>\n",
       "      <td>36</td>\n",
       "      <td>36</td>\n",
       "    </tr>\n",
       "    <tr>\n",
       "      <th>23945</th>\n",
       "      <td>248</td>\n",
       "      <td>2020-09-14</td>\n",
       "      <td>1.13</td>\n",
       "      <td>96</td>\n",
       "      <td>0.91</td>\n",
       "      <td>1.13</td>\n",
       "      <td>0.91</td>\n",
       "      <td>Female</td>\n",
       "      <td>154.0</td>\n",
       "      <td>44</td>\n",
       "      <td>2.601447</td>\n",
       "      <td>98.311859</td>\n",
       "      <td>43.437370</td>\n",
       "      <td>43.437370</td>\n",
       "      <td>97.648444</td>\n",
       "      <td>80.530973</td>\n",
       "      <td>22</td>\n",
       "      <td>46</td>\n",
       "      <td>40</td>\n",
       "      <td>40</td>\n",
       "    </tr>\n",
       "    <tr>\n",
       "      <th>23946</th>\n",
       "      <td>248</td>\n",
       "      <td>2020-12-16</td>\n",
       "      <td>1.33</td>\n",
       "      <td>97</td>\n",
       "      <td>1.05</td>\n",
       "      <td>1.33</td>\n",
       "      <td>1.05</td>\n",
       "      <td>Female</td>\n",
       "      <td>154.0</td>\n",
       "      <td>44</td>\n",
       "      <td>2.601447</td>\n",
       "      <td>98.311859</td>\n",
       "      <td>51.125400</td>\n",
       "      <td>51.125400</td>\n",
       "      <td>98.665615</td>\n",
       "      <td>78.947368</td>\n",
       "      <td>26</td>\n",
       "      <td>47</td>\n",
       "      <td>39</td>\n",
       "      <td>39</td>\n",
       "    </tr>\n",
       "    <tr>\n",
       "      <th>23947</th>\n",
       "      <td>248</td>\n",
       "      <td>2021-04-07</td>\n",
       "      <td>1.16</td>\n",
       "      <td>99</td>\n",
       "      <td>0.84</td>\n",
       "      <td>1.16</td>\n",
       "      <td>1.05</td>\n",
       "      <td>Female</td>\n",
       "      <td>154.0</td>\n",
       "      <td>44</td>\n",
       "      <td>2.601447</td>\n",
       "      <td>98.311859</td>\n",
       "      <td>44.590574</td>\n",
       "      <td>44.590574</td>\n",
       "      <td>100.699957</td>\n",
       "      <td>72.413793</td>\n",
       "      <td>23</td>\n",
       "      <td>49</td>\n",
       "      <td>36</td>\n",
       "      <td>36</td>\n",
       "    </tr>\n",
       "    <tr>\n",
       "      <th>23948</th>\n",
       "      <td>248</td>\n",
       "      <td>2022-05-14</td>\n",
       "      <td>0.95</td>\n",
       "      <td>98</td>\n",
       "      <td>0.74</td>\n",
       "      <td>0.95</td>\n",
       "      <td>0.74</td>\n",
       "      <td>Female</td>\n",
       "      <td>154.0</td>\n",
       "      <td>44</td>\n",
       "      <td>2.601447</td>\n",
       "      <td>98.311859</td>\n",
       "      <td>36.518143</td>\n",
       "      <td>36.518143</td>\n",
       "      <td>99.682786</td>\n",
       "      <td>77.894737</td>\n",
       "      <td>19</td>\n",
       "      <td>48</td>\n",
       "      <td>38</td>\n",
       "      <td>38</td>\n",
       "    </tr>\n",
       "    <tr>\n",
       "      <th>23949</th>\n",
       "      <td>248</td>\n",
       "      <td>2022-05-16</td>\n",
       "      <td>1.06</td>\n",
       "      <td>98</td>\n",
       "      <td>0.76</td>\n",
       "      <td>1.06</td>\n",
       "      <td>0.76</td>\n",
       "      <td>Female</td>\n",
       "      <td>154.0</td>\n",
       "      <td>44</td>\n",
       "      <td>2.601447</td>\n",
       "      <td>98.311859</td>\n",
       "      <td>40.746559</td>\n",
       "      <td>40.746559</td>\n",
       "      <td>99.682786</td>\n",
       "      <td>71.698113</td>\n",
       "      <td>21</td>\n",
       "      <td>48</td>\n",
       "      <td>35</td>\n",
       "      <td>35</td>\n",
       "    </tr>\n",
       "    <tr>\n",
       "      <th>23950</th>\n",
       "      <td>248</td>\n",
       "      <td>2022-05-17</td>\n",
       "      <td>1.13</td>\n",
       "      <td>99</td>\n",
       "      <td>0.80</td>\n",
       "      <td>1.13</td>\n",
       "      <td>0.80</td>\n",
       "      <td>Female</td>\n",
       "      <td>154.0</td>\n",
       "      <td>44</td>\n",
       "      <td>2.601447</td>\n",
       "      <td>98.311859</td>\n",
       "      <td>43.437370</td>\n",
       "      <td>43.437370</td>\n",
       "      <td>100.699957</td>\n",
       "      <td>70.796460</td>\n",
       "      <td>22</td>\n",
       "      <td>49</td>\n",
       "      <td>35</td>\n",
       "      <td>35</td>\n",
       "    </tr>\n",
       "    <tr>\n",
       "      <th>23951</th>\n",
       "      <td>248</td>\n",
       "      <td>2022-05-19</td>\n",
       "      <td>1.12</td>\n",
       "      <td>98</td>\n",
       "      <td>0.80</td>\n",
       "      <td>1.12</td>\n",
       "      <td>0.80</td>\n",
       "      <td>Female</td>\n",
       "      <td>154.0</td>\n",
       "      <td>44</td>\n",
       "      <td>2.601447</td>\n",
       "      <td>98.311859</td>\n",
       "      <td>43.052968</td>\n",
       "      <td>43.052968</td>\n",
       "      <td>99.682786</td>\n",
       "      <td>71.428571</td>\n",
       "      <td>22</td>\n",
       "      <td>48</td>\n",
       "      <td>35</td>\n",
       "      <td>35</td>\n",
       "    </tr>\n",
       "    <tr>\n",
       "      <th>23952</th>\n",
       "      <td>248</td>\n",
       "      <td>2022-05-21</td>\n",
       "      <td>1.09</td>\n",
       "      <td>99</td>\n",
       "      <td>0.75</td>\n",
       "      <td>1.09</td>\n",
       "      <td>0.75</td>\n",
       "      <td>Female</td>\n",
       "      <td>154.0</td>\n",
       "      <td>44</td>\n",
       "      <td>2.601447</td>\n",
       "      <td>98.311859</td>\n",
       "      <td>41.899764</td>\n",
       "      <td>41.899764</td>\n",
       "      <td>100.699957</td>\n",
       "      <td>68.807339</td>\n",
       "      <td>21</td>\n",
       "      <td>49</td>\n",
       "      <td>34</td>\n",
       "      <td>34</td>\n",
       "    </tr>\n",
       "    <tr>\n",
       "      <th>23953</th>\n",
       "      <td>248</td>\n",
       "      <td>2022-05-22</td>\n",
       "      <td>0.90</td>\n",
       "      <td>99</td>\n",
       "      <td>0.65</td>\n",
       "      <td>0.90</td>\n",
       "      <td>0.65</td>\n",
       "      <td>Female</td>\n",
       "      <td>154.0</td>\n",
       "      <td>44</td>\n",
       "      <td>2.601447</td>\n",
       "      <td>98.311859</td>\n",
       "      <td>34.596135</td>\n",
       "      <td>34.596135</td>\n",
       "      <td>100.699957</td>\n",
       "      <td>72.222222</td>\n",
       "      <td>18</td>\n",
       "      <td>49</td>\n",
       "      <td>36</td>\n",
       "      <td>36</td>\n",
       "    </tr>\n",
       "    <tr>\n",
       "      <th>23954</th>\n",
       "      <td>248</td>\n",
       "      <td>2022-05-23</td>\n",
       "      <td>0.95</td>\n",
       "      <td>96</td>\n",
       "      <td>0.67</td>\n",
       "      <td>0.95</td>\n",
       "      <td>0.67</td>\n",
       "      <td>Female</td>\n",
       "      <td>154.0</td>\n",
       "      <td>44</td>\n",
       "      <td>2.601447</td>\n",
       "      <td>98.311859</td>\n",
       "      <td>36.518143</td>\n",
       "      <td>36.518143</td>\n",
       "      <td>97.648444</td>\n",
       "      <td>70.526316</td>\n",
       "      <td>19</td>\n",
       "      <td>46</td>\n",
       "      <td>35</td>\n",
       "      <td>35</td>\n",
       "    </tr>\n",
       "    <tr>\n",
       "      <th>23955</th>\n",
       "      <td>248</td>\n",
       "      <td>2022-05-24</td>\n",
       "      <td>1.05</td>\n",
       "      <td>98</td>\n",
       "      <td>0.70</td>\n",
       "      <td>1.05</td>\n",
       "      <td>0.70</td>\n",
       "      <td>Female</td>\n",
       "      <td>154.0</td>\n",
       "      <td>44</td>\n",
       "      <td>2.601447</td>\n",
       "      <td>98.311859</td>\n",
       "      <td>40.362158</td>\n",
       "      <td>40.362158</td>\n",
       "      <td>99.682786</td>\n",
       "      <td>66.666667</td>\n",
       "      <td>21</td>\n",
       "      <td>48</td>\n",
       "      <td>33</td>\n",
       "      <td>33</td>\n",
       "    </tr>\n",
       "    <tr>\n",
       "      <th>23956</th>\n",
       "      <td>248</td>\n",
       "      <td>2022-05-25</td>\n",
       "      <td>1.04</td>\n",
       "      <td>98</td>\n",
       "      <td>0.80</td>\n",
       "      <td>1.04</td>\n",
       "      <td>0.80</td>\n",
       "      <td>Female</td>\n",
       "      <td>154.0</td>\n",
       "      <td>44</td>\n",
       "      <td>2.601447</td>\n",
       "      <td>98.311859</td>\n",
       "      <td>39.977756</td>\n",
       "      <td>39.977756</td>\n",
       "      <td>99.682786</td>\n",
       "      <td>76.923077</td>\n",
       "      <td>20</td>\n",
       "      <td>48</td>\n",
       "      <td>38</td>\n",
       "      <td>38</td>\n",
       "    </tr>\n",
       "    <tr>\n",
       "      <th>23957</th>\n",
       "      <td>248</td>\n",
       "      <td>2022-05-28</td>\n",
       "      <td>0.94</td>\n",
       "      <td>99</td>\n",
       "      <td>0.70</td>\n",
       "      <td>0.94</td>\n",
       "      <td>0.70</td>\n",
       "      <td>Female</td>\n",
       "      <td>154.0</td>\n",
       "      <td>44</td>\n",
       "      <td>2.601447</td>\n",
       "      <td>98.311859</td>\n",
       "      <td>36.133741</td>\n",
       "      <td>36.133741</td>\n",
       "      <td>100.699957</td>\n",
       "      <td>74.468085</td>\n",
       "      <td>18</td>\n",
       "      <td>49</td>\n",
       "      <td>37</td>\n",
       "      <td>37</td>\n",
       "    </tr>\n",
       "    <tr>\n",
       "      <th>23958</th>\n",
       "      <td>248</td>\n",
       "      <td>2022-05-29</td>\n",
       "      <td>0.95</td>\n",
       "      <td>100</td>\n",
       "      <td>0.70</td>\n",
       "      <td>0.95</td>\n",
       "      <td>0.70</td>\n",
       "      <td>Female</td>\n",
       "      <td>154.0</td>\n",
       "      <td>44</td>\n",
       "      <td>2.601447</td>\n",
       "      <td>98.311859</td>\n",
       "      <td>36.518143</td>\n",
       "      <td>36.518143</td>\n",
       "      <td>101.717129</td>\n",
       "      <td>73.684211</td>\n",
       "      <td>19</td>\n",
       "      <td>50</td>\n",
       "      <td>36</td>\n",
       "      <td>36</td>\n",
       "    </tr>\n",
       "    <tr>\n",
       "      <th>23959</th>\n",
       "      <td>248</td>\n",
       "      <td>2022-05-30</td>\n",
       "      <td>0.84</td>\n",
       "      <td>99</td>\n",
       "      <td>0.62</td>\n",
       "      <td>0.84</td>\n",
       "      <td>0.62</td>\n",
       "      <td>Female</td>\n",
       "      <td>154.0</td>\n",
       "      <td>44</td>\n",
       "      <td>2.601447</td>\n",
       "      <td>98.311859</td>\n",
       "      <td>32.289726</td>\n",
       "      <td>32.289726</td>\n",
       "      <td>100.699957</td>\n",
       "      <td>73.809524</td>\n",
       "      <td>16</td>\n",
       "      <td>49</td>\n",
       "      <td>36</td>\n",
       "      <td>36</td>\n",
       "    </tr>\n",
       "    <tr>\n",
       "      <th>23960</th>\n",
       "      <td>248</td>\n",
       "      <td>2022-05-31</td>\n",
       "      <td>0.89</td>\n",
       "      <td>97</td>\n",
       "      <td>0.66</td>\n",
       "      <td>0.89</td>\n",
       "      <td>0.66</td>\n",
       "      <td>Female</td>\n",
       "      <td>154.0</td>\n",
       "      <td>44</td>\n",
       "      <td>2.601447</td>\n",
       "      <td>98.311859</td>\n",
       "      <td>34.211734</td>\n",
       "      <td>34.211734</td>\n",
       "      <td>98.665615</td>\n",
       "      <td>74.157303</td>\n",
       "      <td>17</td>\n",
       "      <td>47</td>\n",
       "      <td>37</td>\n",
       "      <td>37</td>\n",
       "    </tr>\n",
       "    <tr>\n",
       "      <th>23961</th>\n",
       "      <td>248</td>\n",
       "      <td>2022-06-02</td>\n",
       "      <td>0.66</td>\n",
       "      <td>98</td>\n",
       "      <td>0.45</td>\n",
       "      <td>0.95</td>\n",
       "      <td>0.67</td>\n",
       "      <td>Female</td>\n",
       "      <td>154.0</td>\n",
       "      <td>44</td>\n",
       "      <td>2.601447</td>\n",
       "      <td>98.311859</td>\n",
       "      <td>36.518143</td>\n",
       "      <td>25.370499</td>\n",
       "      <td>99.682786</td>\n",
       "      <td>68.181818</td>\n",
       "      <td>19</td>\n",
       "      <td>48</td>\n",
       "      <td>34</td>\n",
       "      <td>34</td>\n",
       "    </tr>\n",
       "    <tr>\n",
       "      <th>23962</th>\n",
       "      <td>248</td>\n",
       "      <td>2022-06-05</td>\n",
       "      <td>0.95</td>\n",
       "      <td>99</td>\n",
       "      <td>0.67</td>\n",
       "      <td>0.95</td>\n",
       "      <td>0.67</td>\n",
       "      <td>Female</td>\n",
       "      <td>154.0</td>\n",
       "      <td>44</td>\n",
       "      <td>2.601447</td>\n",
       "      <td>98.311859</td>\n",
       "      <td>36.518143</td>\n",
       "      <td>36.518143</td>\n",
       "      <td>100.699957</td>\n",
       "      <td>70.526316</td>\n",
       "      <td>19</td>\n",
       "      <td>49</td>\n",
       "      <td>35</td>\n",
       "      <td>35</td>\n",
       "    </tr>\n",
       "    <tr>\n",
       "      <th>23963</th>\n",
       "      <td>248</td>\n",
       "      <td>2022-06-06</td>\n",
       "      <td>1.10</td>\n",
       "      <td>98</td>\n",
       "      <td>0.75</td>\n",
       "      <td>1.10</td>\n",
       "      <td>0.75</td>\n",
       "      <td>Female</td>\n",
       "      <td>154.0</td>\n",
       "      <td>44</td>\n",
       "      <td>2.601447</td>\n",
       "      <td>98.311859</td>\n",
       "      <td>42.284165</td>\n",
       "      <td>42.284165</td>\n",
       "      <td>99.682786</td>\n",
       "      <td>68.181818</td>\n",
       "      <td>22</td>\n",
       "      <td>48</td>\n",
       "      <td>34</td>\n",
       "      <td>34</td>\n",
       "    </tr>\n",
       "    <tr>\n",
       "      <th>23964</th>\n",
       "      <td>248</td>\n",
       "      <td>2022-06-07</td>\n",
       "      <td>0.88</td>\n",
       "      <td>98</td>\n",
       "      <td>0.60</td>\n",
       "      <td>1.10</td>\n",
       "      <td>0.75</td>\n",
       "      <td>Female</td>\n",
       "      <td>154.0</td>\n",
       "      <td>44</td>\n",
       "      <td>2.601447</td>\n",
       "      <td>98.311859</td>\n",
       "      <td>42.284165</td>\n",
       "      <td>33.827332</td>\n",
       "      <td>99.682786</td>\n",
       "      <td>68.181818</td>\n",
       "      <td>22</td>\n",
       "      <td>48</td>\n",
       "      <td>34</td>\n",
       "      <td>34</td>\n",
       "    </tr>\n",
       "    <tr>\n",
       "      <th>23965</th>\n",
       "      <td>248</td>\n",
       "      <td>2022-06-08</td>\n",
       "      <td>0.99</td>\n",
       "      <td>98</td>\n",
       "      <td>0.69</td>\n",
       "      <td>0.99</td>\n",
       "      <td>0.69</td>\n",
       "      <td>Female</td>\n",
       "      <td>154.0</td>\n",
       "      <td>44</td>\n",
       "      <td>2.601447</td>\n",
       "      <td>98.311859</td>\n",
       "      <td>38.055749</td>\n",
       "      <td>38.055749</td>\n",
       "      <td>99.682786</td>\n",
       "      <td>69.696970</td>\n",
       "      <td>19</td>\n",
       "      <td>48</td>\n",
       "      <td>34</td>\n",
       "      <td>34</td>\n",
       "    </tr>\n",
       "    <tr>\n",
       "      <th>23966</th>\n",
       "      <td>248</td>\n",
       "      <td>2022-06-09</td>\n",
       "      <td>0.69</td>\n",
       "      <td>99</td>\n",
       "      <td>0.43</td>\n",
       "      <td>0.99</td>\n",
       "      <td>0.69</td>\n",
       "      <td>Female</td>\n",
       "      <td>154.0</td>\n",
       "      <td>44</td>\n",
       "      <td>2.601447</td>\n",
       "      <td>98.311859</td>\n",
       "      <td>38.055749</td>\n",
       "      <td>26.523704</td>\n",
       "      <td>100.699957</td>\n",
       "      <td>62.318841</td>\n",
       "      <td>19</td>\n",
       "      <td>49</td>\n",
       "      <td>31</td>\n",
       "      <td>31</td>\n",
       "    </tr>\n",
       "    <tr>\n",
       "      <th>23967</th>\n",
       "      <td>248</td>\n",
       "      <td>2022-06-14</td>\n",
       "      <td>0.91</td>\n",
       "      <td>98</td>\n",
       "      <td>0.62</td>\n",
       "      <td>0.91</td>\n",
       "      <td>0.62</td>\n",
       "      <td>Female</td>\n",
       "      <td>154.0</td>\n",
       "      <td>44</td>\n",
       "      <td>2.601447</td>\n",
       "      <td>98.311859</td>\n",
       "      <td>34.980537</td>\n",
       "      <td>34.980537</td>\n",
       "      <td>99.682786</td>\n",
       "      <td>68.131868</td>\n",
       "      <td>18</td>\n",
       "      <td>48</td>\n",
       "      <td>34</td>\n",
       "      <td>34</td>\n",
       "    </tr>\n",
       "    <tr>\n",
       "      <th>23968</th>\n",
       "      <td>248</td>\n",
       "      <td>2022-06-18</td>\n",
       "      <td>0.98</td>\n",
       "      <td>98</td>\n",
       "      <td>0.70</td>\n",
       "      <td>0.98</td>\n",
       "      <td>0.70</td>\n",
       "      <td>Female</td>\n",
       "      <td>154.0</td>\n",
       "      <td>44</td>\n",
       "      <td>2.601447</td>\n",
       "      <td>98.311859</td>\n",
       "      <td>37.671347</td>\n",
       "      <td>37.671347</td>\n",
       "      <td>99.682786</td>\n",
       "      <td>71.428571</td>\n",
       "      <td>19</td>\n",
       "      <td>48</td>\n",
       "      <td>35</td>\n",
       "      <td>35</td>\n",
       "    </tr>\n",
       "    <tr>\n",
       "      <th>23969</th>\n",
       "      <td>248</td>\n",
       "      <td>2022-06-20</td>\n",
       "      <td>1.13</td>\n",
       "      <td>98</td>\n",
       "      <td>0.72</td>\n",
       "      <td>1.13</td>\n",
       "      <td>0.72</td>\n",
       "      <td>Female</td>\n",
       "      <td>154.0</td>\n",
       "      <td>44</td>\n",
       "      <td>2.601447</td>\n",
       "      <td>98.311859</td>\n",
       "      <td>43.437370</td>\n",
       "      <td>43.437370</td>\n",
       "      <td>99.682786</td>\n",
       "      <td>63.716814</td>\n",
       "      <td>22</td>\n",
       "      <td>48</td>\n",
       "      <td>31</td>\n",
       "      <td>31</td>\n",
       "    </tr>\n",
       "    <tr>\n",
       "      <th>23970</th>\n",
       "      <td>248</td>\n",
       "      <td>2022-06-21</td>\n",
       "      <td>1.05</td>\n",
       "      <td>97</td>\n",
       "      <td>0.73</td>\n",
       "      <td>1.05</td>\n",
       "      <td>0.73</td>\n",
       "      <td>Female</td>\n",
       "      <td>154.0</td>\n",
       "      <td>44</td>\n",
       "      <td>2.601447</td>\n",
       "      <td>98.311859</td>\n",
       "      <td>40.362158</td>\n",
       "      <td>40.362158</td>\n",
       "      <td>98.665615</td>\n",
       "      <td>69.523810</td>\n",
       "      <td>21</td>\n",
       "      <td>47</td>\n",
       "      <td>34</td>\n",
       "      <td>34</td>\n",
       "    </tr>\n",
       "    <tr>\n",
       "      <th>23971</th>\n",
       "      <td>248</td>\n",
       "      <td>2022-06-22</td>\n",
       "      <td>0.73</td>\n",
       "      <td>98</td>\n",
       "      <td>0.45</td>\n",
       "      <td>1.10</td>\n",
       "      <td>0.79</td>\n",
       "      <td>Female</td>\n",
       "      <td>154.0</td>\n",
       "      <td>44</td>\n",
       "      <td>2.601447</td>\n",
       "      <td>98.311859</td>\n",
       "      <td>42.284165</td>\n",
       "      <td>28.061310</td>\n",
       "      <td>99.682786</td>\n",
       "      <td>61.643836</td>\n",
       "      <td>22</td>\n",
       "      <td>48</td>\n",
       "      <td>30</td>\n",
       "      <td>30</td>\n",
       "    </tr>\n",
       "    <tr>\n",
       "      <th>23972</th>\n",
       "      <td>248</td>\n",
       "      <td>2022-06-23</td>\n",
       "      <td>1.10</td>\n",
       "      <td>98</td>\n",
       "      <td>0.79</td>\n",
       "      <td>1.10</td>\n",
       "      <td>0.79</td>\n",
       "      <td>Female</td>\n",
       "      <td>154.0</td>\n",
       "      <td>44</td>\n",
       "      <td>2.601447</td>\n",
       "      <td>98.311859</td>\n",
       "      <td>42.284165</td>\n",
       "      <td>42.284165</td>\n",
       "      <td>99.682786</td>\n",
       "      <td>71.818182</td>\n",
       "      <td>22</td>\n",
       "      <td>48</td>\n",
       "      <td>35</td>\n",
       "      <td>35</td>\n",
       "    </tr>\n",
       "    <tr>\n",
       "      <th>23973</th>\n",
       "      <td>248</td>\n",
       "      <td>2022-06-26</td>\n",
       "      <td>1.02</td>\n",
       "      <td>97</td>\n",
       "      <td>0.77</td>\n",
       "      <td>1.02</td>\n",
       "      <td>0.77</td>\n",
       "      <td>Female</td>\n",
       "      <td>154.0</td>\n",
       "      <td>44</td>\n",
       "      <td>2.601447</td>\n",
       "      <td>98.311859</td>\n",
       "      <td>39.208953</td>\n",
       "      <td>39.208953</td>\n",
       "      <td>98.665615</td>\n",
       "      <td>75.490196</td>\n",
       "      <td>20</td>\n",
       "      <td>47</td>\n",
       "      <td>37</td>\n",
       "      <td>37</td>\n",
       "    </tr>\n",
       "    <tr>\n",
       "      <th>23974</th>\n",
       "      <td>248</td>\n",
       "      <td>2022-06-27</td>\n",
       "      <td>1.03</td>\n",
       "      <td>97</td>\n",
       "      <td>0.72</td>\n",
       "      <td>1.03</td>\n",
       "      <td>0.72</td>\n",
       "      <td>Female</td>\n",
       "      <td>154.0</td>\n",
       "      <td>44</td>\n",
       "      <td>2.601447</td>\n",
       "      <td>98.311859</td>\n",
       "      <td>39.593355</td>\n",
       "      <td>39.593355</td>\n",
       "      <td>98.665615</td>\n",
       "      <td>69.902913</td>\n",
       "      <td>20</td>\n",
       "      <td>47</td>\n",
       "      <td>34</td>\n",
       "      <td>34</td>\n",
       "    </tr>\n",
       "    <tr>\n",
       "      <th>23975</th>\n",
       "      <td>248</td>\n",
       "      <td>2022-07-18</td>\n",
       "      <td>1.07</td>\n",
       "      <td>98</td>\n",
       "      <td>0.78</td>\n",
       "      <td>1.07</td>\n",
       "      <td>0.78</td>\n",
       "      <td>Female</td>\n",
       "      <td>154.0</td>\n",
       "      <td>44</td>\n",
       "      <td>2.601447</td>\n",
       "      <td>98.311859</td>\n",
       "      <td>41.130961</td>\n",
       "      <td>41.130961</td>\n",
       "      <td>99.682786</td>\n",
       "      <td>72.897196</td>\n",
       "      <td>21</td>\n",
       "      <td>48</td>\n",
       "      <td>36</td>\n",
       "      <td>36</td>\n",
       "    </tr>\n",
       "    <tr>\n",
       "      <th>23976</th>\n",
       "      <td>248</td>\n",
       "      <td>2022-07-19</td>\n",
       "      <td>1.06</td>\n",
       "      <td>96</td>\n",
       "      <td>0.78</td>\n",
       "      <td>1.06</td>\n",
       "      <td>0.78</td>\n",
       "      <td>Female</td>\n",
       "      <td>154.0</td>\n",
       "      <td>44</td>\n",
       "      <td>2.601447</td>\n",
       "      <td>98.311859</td>\n",
       "      <td>40.746559</td>\n",
       "      <td>40.746559</td>\n",
       "      <td>97.648444</td>\n",
       "      <td>73.584906</td>\n",
       "      <td>21</td>\n",
       "      <td>46</td>\n",
       "      <td>36</td>\n",
       "      <td>36</td>\n",
       "    </tr>\n",
       "    <tr>\n",
       "      <th>23977</th>\n",
       "      <td>248</td>\n",
       "      <td>2022-07-21</td>\n",
       "      <td>0.74</td>\n",
       "      <td>99</td>\n",
       "      <td>0.41</td>\n",
       "      <td>1.16</td>\n",
       "      <td>0.99</td>\n",
       "      <td>Female</td>\n",
       "      <td>154.0</td>\n",
       "      <td>44</td>\n",
       "      <td>2.601447</td>\n",
       "      <td>98.311859</td>\n",
       "      <td>44.590574</td>\n",
       "      <td>28.445711</td>\n",
       "      <td>100.699957</td>\n",
       "      <td>55.405405</td>\n",
       "      <td>23</td>\n",
       "      <td>49</td>\n",
       "      <td>27</td>\n",
       "      <td>27</td>\n",
       "    </tr>\n",
       "    <tr>\n",
       "      <th>23978</th>\n",
       "      <td>248</td>\n",
       "      <td>2022-07-25</td>\n",
       "      <td>1.16</td>\n",
       "      <td>99</td>\n",
       "      <td>0.99</td>\n",
       "      <td>1.16</td>\n",
       "      <td>0.99</td>\n",
       "      <td>Female</td>\n",
       "      <td>154.0</td>\n",
       "      <td>44</td>\n",
       "      <td>2.601447</td>\n",
       "      <td>98.311859</td>\n",
       "      <td>44.590574</td>\n",
       "      <td>44.590574</td>\n",
       "      <td>100.699957</td>\n",
       "      <td>85.344828</td>\n",
       "      <td>23</td>\n",
       "      <td>49</td>\n",
       "      <td>42</td>\n",
       "      <td>42</td>\n",
       "    </tr>\n",
       "    <tr>\n",
       "      <th>23979</th>\n",
       "      <td>248</td>\n",
       "      <td>2022-09-26</td>\n",
       "      <td>1.00</td>\n",
       "      <td>97</td>\n",
       "      <td>0.69</td>\n",
       "      <td>1.00</td>\n",
       "      <td>0.93</td>\n",
       "      <td>Female</td>\n",
       "      <td>154.0</td>\n",
       "      <td>44</td>\n",
       "      <td>2.601447</td>\n",
       "      <td>98.311859</td>\n",
       "      <td>38.440150</td>\n",
       "      <td>38.440150</td>\n",
       "      <td>98.665615</td>\n",
       "      <td>69.000000</td>\n",
       "      <td>20</td>\n",
       "      <td>47</td>\n",
       "      <td>34</td>\n",
       "      <td>34</td>\n",
       "    </tr>\n",
       "    <tr>\n",
       "      <th>23980</th>\n",
       "      <td>248</td>\n",
       "      <td>2022-10-11</td>\n",
       "      <td>0.78</td>\n",
       "      <td>98</td>\n",
       "      <td>0.93</td>\n",
       "      <td>1.06</td>\n",
       "      <td>0.93</td>\n",
       "      <td>Female</td>\n",
       "      <td>154.0</td>\n",
       "      <td>44</td>\n",
       "      <td>2.601447</td>\n",
       "      <td>98.311859</td>\n",
       "      <td>40.746559</td>\n",
       "      <td>29.983317</td>\n",
       "      <td>99.682786</td>\n",
       "      <td>119.230769</td>\n",
       "      <td>21</td>\n",
       "      <td>48</td>\n",
       "      <td>59</td>\n",
       "      <td>59</td>\n",
       "    </tr>\n",
       "    <tr>\n",
       "      <th>23981</th>\n",
       "      <td>248</td>\n",
       "      <td>2023-08-01</td>\n",
       "      <td>1.06</td>\n",
       "      <td>98</td>\n",
       "      <td>1.07</td>\n",
       "      <td>1.06</td>\n",
       "      <td>1.07</td>\n",
       "      <td>Female</td>\n",
       "      <td>154.0</td>\n",
       "      <td>44</td>\n",
       "      <td>2.601447</td>\n",
       "      <td>98.311859</td>\n",
       "      <td>40.746559</td>\n",
       "      <td>40.746559</td>\n",
       "      <td>99.682786</td>\n",
       "      <td>100.943396</td>\n",
       "      <td>21</td>\n",
       "      <td>48</td>\n",
       "      <td>50</td>\n",
       "      <td>50</td>\n",
       "    </tr>\n",
       "    <tr>\n",
       "      <th>23982</th>\n",
       "      <td>248</td>\n",
       "      <td>2023-08-03</td>\n",
       "      <td>0.92</td>\n",
       "      <td>98</td>\n",
       "      <td>0.65</td>\n",
       "      <td>0.92</td>\n",
       "      <td>1.07</td>\n",
       "      <td>Female</td>\n",
       "      <td>154.0</td>\n",
       "      <td>44</td>\n",
       "      <td>2.601447</td>\n",
       "      <td>98.311859</td>\n",
       "      <td>35.364938</td>\n",
       "      <td>35.364938</td>\n",
       "      <td>99.682786</td>\n",
       "      <td>70.652174</td>\n",
       "      <td>18</td>\n",
       "      <td>48</td>\n",
       "      <td>35</td>\n",
       "      <td>35</td>\n",
       "    </tr>\n",
       "    <tr>\n",
       "      <th>23983</th>\n",
       "      <td>248</td>\n",
       "      <td>2023-08-15</td>\n",
       "      <td>0.98</td>\n",
       "      <td>97</td>\n",
       "      <td>0.70</td>\n",
       "      <td>0.98</td>\n",
       "      <td>0.70</td>\n",
       "      <td>Female</td>\n",
       "      <td>154.0</td>\n",
       "      <td>44</td>\n",
       "      <td>2.601447</td>\n",
       "      <td>98.311859</td>\n",
       "      <td>37.671347</td>\n",
       "      <td>37.671347</td>\n",
       "      <td>98.665615</td>\n",
       "      <td>71.428571</td>\n",
       "      <td>19</td>\n",
       "      <td>47</td>\n",
       "      <td>35</td>\n",
       "      <td>35</td>\n",
       "    </tr>\n",
       "    <tr>\n",
       "      <th>23984</th>\n",
       "      <td>248</td>\n",
       "      <td>2023-08-23</td>\n",
       "      <td>1.01</td>\n",
       "      <td>98</td>\n",
       "      <td>0.74</td>\n",
       "      <td>1.01</td>\n",
       "      <td>0.74</td>\n",
       "      <td>Female</td>\n",
       "      <td>154.0</td>\n",
       "      <td>44</td>\n",
       "      <td>2.601447</td>\n",
       "      <td>98.311859</td>\n",
       "      <td>38.824552</td>\n",
       "      <td>38.824552</td>\n",
       "      <td>99.682786</td>\n",
       "      <td>73.267327</td>\n",
       "      <td>20</td>\n",
       "      <td>48</td>\n",
       "      <td>36</td>\n",
       "      <td>36</td>\n",
       "    </tr>\n",
       "    <tr>\n",
       "      <th>23985</th>\n",
       "      <td>248</td>\n",
       "      <td>2023-08-30</td>\n",
       "      <td>1.01</td>\n",
       "      <td>100</td>\n",
       "      <td>0.71</td>\n",
       "      <td>1.01</td>\n",
       "      <td>0.71</td>\n",
       "      <td>Female</td>\n",
       "      <td>154.0</td>\n",
       "      <td>44</td>\n",
       "      <td>2.601447</td>\n",
       "      <td>98.311859</td>\n",
       "      <td>38.824552</td>\n",
       "      <td>38.824552</td>\n",
       "      <td>101.717129</td>\n",
       "      <td>70.297030</td>\n",
       "      <td>20</td>\n",
       "      <td>50</td>\n",
       "      <td>35</td>\n",
       "      <td>35</td>\n",
       "    </tr>\n",
       "    <tr>\n",
       "      <th>23986</th>\n",
       "      <td>248</td>\n",
       "      <td>2023-09-11</td>\n",
       "      <td>1.01</td>\n",
       "      <td>98</td>\n",
       "      <td>0.74</td>\n",
       "      <td>1.01</td>\n",
       "      <td>0.74</td>\n",
       "      <td>Female</td>\n",
       "      <td>154.0</td>\n",
       "      <td>44</td>\n",
       "      <td>2.601447</td>\n",
       "      <td>98.311859</td>\n",
       "      <td>38.824552</td>\n",
       "      <td>38.824552</td>\n",
       "      <td>99.682786</td>\n",
       "      <td>73.267327</td>\n",
       "      <td>20</td>\n",
       "      <td>48</td>\n",
       "      <td>36</td>\n",
       "      <td>36</td>\n",
       "    </tr>\n",
       "    <tr>\n",
       "      <th>23987</th>\n",
       "      <td>248</td>\n",
       "      <td>2023-10-22</td>\n",
       "      <td>1.00</td>\n",
       "      <td>98</td>\n",
       "      <td>0.69</td>\n",
       "      <td>1.00</td>\n",
       "      <td>0.69</td>\n",
       "      <td>Female</td>\n",
       "      <td>154.0</td>\n",
       "      <td>44</td>\n",
       "      <td>2.601447</td>\n",
       "      <td>98.311859</td>\n",
       "      <td>38.440150</td>\n",
       "      <td>38.440150</td>\n",
       "      <td>99.682786</td>\n",
       "      <td>69.000000</td>\n",
       "      <td>20</td>\n",
       "      <td>48</td>\n",
       "      <td>34</td>\n",
       "      <td>34</td>\n",
       "    </tr>\n",
       "    <tr>\n",
       "      <th>23988</th>\n",
       "      <td>248</td>\n",
       "      <td>2023-11-04</td>\n",
       "      <td>1.02</td>\n",
       "      <td>96</td>\n",
       "      <td>0.64</td>\n",
       "      <td>1.02</td>\n",
       "      <td>0.64</td>\n",
       "      <td>Female</td>\n",
       "      <td>154.0</td>\n",
       "      <td>44</td>\n",
       "      <td>2.601447</td>\n",
       "      <td>98.311859</td>\n",
       "      <td>39.208953</td>\n",
       "      <td>39.208953</td>\n",
       "      <td>97.648444</td>\n",
       "      <td>62.745098</td>\n",
       "      <td>20</td>\n",
       "      <td>46</td>\n",
       "      <td>31</td>\n",
       "      <td>31</td>\n",
       "    </tr>\n",
       "  </tbody>\n",
       "</table>\n",
       "</div>"
      ],
      "text/plain": [
       "        ID Date Recorded  FEV1  O2 Saturation  FEF2575  ecFEV1  ecFEF2575  \\\n",
       "23944  248    2020-05-22  1.20             94     0.88    1.20       1.13   \n",
       "23945  248    2020-09-14  1.13             96     0.91    1.13       0.91   \n",
       "23946  248    2020-12-16  1.33             97     1.05    1.33       1.05   \n",
       "23947  248    2021-04-07  1.16             99     0.84    1.16       1.05   \n",
       "23948  248    2022-05-14  0.95             98     0.74    0.95       0.74   \n",
       "23949  248    2022-05-16  1.06             98     0.76    1.06       0.76   \n",
       "23950  248    2022-05-17  1.13             99     0.80    1.13       0.80   \n",
       "23951  248    2022-05-19  1.12             98     0.80    1.12       0.80   \n",
       "23952  248    2022-05-21  1.09             99     0.75    1.09       0.75   \n",
       "23953  248    2022-05-22  0.90             99     0.65    0.90       0.65   \n",
       "23954  248    2022-05-23  0.95             96     0.67    0.95       0.67   \n",
       "23955  248    2022-05-24  1.05             98     0.70    1.05       0.70   \n",
       "23956  248    2022-05-25  1.04             98     0.80    1.04       0.80   \n",
       "23957  248    2022-05-28  0.94             99     0.70    0.94       0.70   \n",
       "23958  248    2022-05-29  0.95            100     0.70    0.95       0.70   \n",
       "23959  248    2022-05-30  0.84             99     0.62    0.84       0.62   \n",
       "23960  248    2022-05-31  0.89             97     0.66    0.89       0.66   \n",
       "23961  248    2022-06-02  0.66             98     0.45    0.95       0.67   \n",
       "23962  248    2022-06-05  0.95             99     0.67    0.95       0.67   \n",
       "23963  248    2022-06-06  1.10             98     0.75    1.10       0.75   \n",
       "23964  248    2022-06-07  0.88             98     0.60    1.10       0.75   \n",
       "23965  248    2022-06-08  0.99             98     0.69    0.99       0.69   \n",
       "23966  248    2022-06-09  0.69             99     0.43    0.99       0.69   \n",
       "23967  248    2022-06-14  0.91             98     0.62    0.91       0.62   \n",
       "23968  248    2022-06-18  0.98             98     0.70    0.98       0.70   \n",
       "23969  248    2022-06-20  1.13             98     0.72    1.13       0.72   \n",
       "23970  248    2022-06-21  1.05             97     0.73    1.05       0.73   \n",
       "23971  248    2022-06-22  0.73             98     0.45    1.10       0.79   \n",
       "23972  248    2022-06-23  1.10             98     0.79    1.10       0.79   \n",
       "23973  248    2022-06-26  1.02             97     0.77    1.02       0.77   \n",
       "23974  248    2022-06-27  1.03             97     0.72    1.03       0.72   \n",
       "23975  248    2022-07-18  1.07             98     0.78    1.07       0.78   \n",
       "23976  248    2022-07-19  1.06             96     0.78    1.06       0.78   \n",
       "23977  248    2022-07-21  0.74             99     0.41    1.16       0.99   \n",
       "23978  248    2022-07-25  1.16             99     0.99    1.16       0.99   \n",
       "23979  248    2022-09-26  1.00             97     0.69    1.00       0.93   \n",
       "23980  248    2022-10-11  0.78             98     0.93    1.06       0.93   \n",
       "23981  248    2023-08-01  1.06             98     1.07    1.06       1.07   \n",
       "23982  248    2023-08-03  0.92             98     0.65    0.92       1.07   \n",
       "23983  248    2023-08-15  0.98             97     0.70    0.98       0.70   \n",
       "23984  248    2023-08-23  1.01             98     0.74    1.01       0.74   \n",
       "23985  248    2023-08-30  1.01            100     0.71    1.01       0.71   \n",
       "23986  248    2023-09-11  1.01             98     0.74    1.01       0.74   \n",
       "23987  248    2023-10-22  1.00             98     0.69    1.00       0.69   \n",
       "23988  248    2023-11-04  1.02             96     0.64    1.02       0.64   \n",
       "\n",
       "          Sex  Height  Age  Predicted FEV1  Healthy O2 Saturation  \\\n",
       "23944  Female   154.0   44        2.601447              98.311859   \n",
       "23945  Female   154.0   44        2.601447              98.311859   \n",
       "23946  Female   154.0   44        2.601447              98.311859   \n",
       "23947  Female   154.0   44        2.601447              98.311859   \n",
       "23948  Female   154.0   44        2.601447              98.311859   \n",
       "23949  Female   154.0   44        2.601447              98.311859   \n",
       "23950  Female   154.0   44        2.601447              98.311859   \n",
       "23951  Female   154.0   44        2.601447              98.311859   \n",
       "23952  Female   154.0   44        2.601447              98.311859   \n",
       "23953  Female   154.0   44        2.601447              98.311859   \n",
       "23954  Female   154.0   44        2.601447              98.311859   \n",
       "23955  Female   154.0   44        2.601447              98.311859   \n",
       "23956  Female   154.0   44        2.601447              98.311859   \n",
       "23957  Female   154.0   44        2.601447              98.311859   \n",
       "23958  Female   154.0   44        2.601447              98.311859   \n",
       "23959  Female   154.0   44        2.601447              98.311859   \n",
       "23960  Female   154.0   44        2.601447              98.311859   \n",
       "23961  Female   154.0   44        2.601447              98.311859   \n",
       "23962  Female   154.0   44        2.601447              98.311859   \n",
       "23963  Female   154.0   44        2.601447              98.311859   \n",
       "23964  Female   154.0   44        2.601447              98.311859   \n",
       "23965  Female   154.0   44        2.601447              98.311859   \n",
       "23966  Female   154.0   44        2.601447              98.311859   \n",
       "23967  Female   154.0   44        2.601447              98.311859   \n",
       "23968  Female   154.0   44        2.601447              98.311859   \n",
       "23969  Female   154.0   44        2.601447              98.311859   \n",
       "23970  Female   154.0   44        2.601447              98.311859   \n",
       "23971  Female   154.0   44        2.601447              98.311859   \n",
       "23972  Female   154.0   44        2.601447              98.311859   \n",
       "23973  Female   154.0   44        2.601447              98.311859   \n",
       "23974  Female   154.0   44        2.601447              98.311859   \n",
       "23975  Female   154.0   44        2.601447              98.311859   \n",
       "23976  Female   154.0   44        2.601447              98.311859   \n",
       "23977  Female   154.0   44        2.601447              98.311859   \n",
       "23978  Female   154.0   44        2.601447              98.311859   \n",
       "23979  Female   154.0   44        2.601447              98.311859   \n",
       "23980  Female   154.0   44        2.601447              98.311859   \n",
       "23981  Female   154.0   44        2.601447              98.311859   \n",
       "23982  Female   154.0   44        2.601447              98.311859   \n",
       "23983  Female   154.0   44        2.601447              98.311859   \n",
       "23984  Female   154.0   44        2.601447              98.311859   \n",
       "23985  Female   154.0   44        2.601447              98.311859   \n",
       "23986  Female   154.0   44        2.601447              98.311859   \n",
       "23987  Female   154.0   44        2.601447              98.311859   \n",
       "23988  Female   154.0   44        2.601447              98.311859   \n",
       "\n",
       "       ecFEV1 % Predicted  FEV1 % Predicted  O2 Saturation % Healthy  \\\n",
       "23944           46.128180         46.128180                95.614101   \n",
       "23945           43.437370         43.437370                97.648444   \n",
       "23946           51.125400         51.125400                98.665615   \n",
       "23947           44.590574         44.590574               100.699957   \n",
       "23948           36.518143         36.518143                99.682786   \n",
       "23949           40.746559         40.746559                99.682786   \n",
       "23950           43.437370         43.437370               100.699957   \n",
       "23951           43.052968         43.052968                99.682786   \n",
       "23952           41.899764         41.899764               100.699957   \n",
       "23953           34.596135         34.596135               100.699957   \n",
       "23954           36.518143         36.518143                97.648444   \n",
       "23955           40.362158         40.362158                99.682786   \n",
       "23956           39.977756         39.977756                99.682786   \n",
       "23957           36.133741         36.133741               100.699957   \n",
       "23958           36.518143         36.518143               101.717129   \n",
       "23959           32.289726         32.289726               100.699957   \n",
       "23960           34.211734         34.211734                98.665615   \n",
       "23961           36.518143         25.370499                99.682786   \n",
       "23962           36.518143         36.518143               100.699957   \n",
       "23963           42.284165         42.284165                99.682786   \n",
       "23964           42.284165         33.827332                99.682786   \n",
       "23965           38.055749         38.055749                99.682786   \n",
       "23966           38.055749         26.523704               100.699957   \n",
       "23967           34.980537         34.980537                99.682786   \n",
       "23968           37.671347         37.671347                99.682786   \n",
       "23969           43.437370         43.437370                99.682786   \n",
       "23970           40.362158         40.362158                98.665615   \n",
       "23971           42.284165         28.061310                99.682786   \n",
       "23972           42.284165         42.284165                99.682786   \n",
       "23973           39.208953         39.208953                98.665615   \n",
       "23974           39.593355         39.593355                98.665615   \n",
       "23975           41.130961         41.130961                99.682786   \n",
       "23976           40.746559         40.746559                97.648444   \n",
       "23977           44.590574         28.445711               100.699957   \n",
       "23978           44.590574         44.590574               100.699957   \n",
       "23979           38.440150         38.440150                98.665615   \n",
       "23980           40.746559         29.983317                99.682786   \n",
       "23981           40.746559         40.746559                99.682786   \n",
       "23982           35.364938         35.364938                99.682786   \n",
       "23983           37.671347         37.671347                98.665615   \n",
       "23984           38.824552         38.824552                99.682786   \n",
       "23985           38.824552         38.824552               101.717129   \n",
       "23986           38.824552         38.824552                99.682786   \n",
       "23987           38.440150         38.440150                99.682786   \n",
       "23988           39.208953         39.208953                97.648444   \n",
       "\n",
       "       ecFEF2575%ecFEV1  idx ecFEV1 (L)  idx O2 saturation (%)  \\\n",
       "23944         73.333333              24                     44   \n",
       "23945         80.530973              22                     46   \n",
       "23946         78.947368              26                     47   \n",
       "23947         72.413793              23                     49   \n",
       "23948         77.894737              19                     48   \n",
       "23949         71.698113              21                     48   \n",
       "23950         70.796460              22                     49   \n",
       "23951         71.428571              22                     48   \n",
       "23952         68.807339              21                     49   \n",
       "23953         72.222222              18                     49   \n",
       "23954         70.526316              19                     46   \n",
       "23955         66.666667              21                     48   \n",
       "23956         76.923077              20                     48   \n",
       "23957         74.468085              18                     49   \n",
       "23958         73.684211              19                     50   \n",
       "23959         73.809524              16                     49   \n",
       "23960         74.157303              17                     47   \n",
       "23961         68.181818              19                     48   \n",
       "23962         70.526316              19                     49   \n",
       "23963         68.181818              22                     48   \n",
       "23964         68.181818              22                     48   \n",
       "23965         69.696970              19                     48   \n",
       "23966         62.318841              19                     49   \n",
       "23967         68.131868              18                     48   \n",
       "23968         71.428571              19                     48   \n",
       "23969         63.716814              22                     48   \n",
       "23970         69.523810              21                     47   \n",
       "23971         61.643836              22                     48   \n",
       "23972         71.818182              22                     48   \n",
       "23973         75.490196              20                     47   \n",
       "23974         69.902913              20                     47   \n",
       "23975         72.897196              21                     48   \n",
       "23976         73.584906              21                     46   \n",
       "23977         55.405405              23                     49   \n",
       "23978         85.344828              23                     49   \n",
       "23979         69.000000              20                     47   \n",
       "23980        119.230769              21                     48   \n",
       "23981        100.943396              21                     48   \n",
       "23982         70.652174              18                     48   \n",
       "23983         71.428571              19                     47   \n",
       "23984         73.267327              20                     48   \n",
       "23985         70.297030              20                     50   \n",
       "23986         73.267327              20                     48   \n",
       "23987         69.000000              20                     48   \n",
       "23988         62.745098              20                     46   \n",
       "\n",
       "       idx ecFEF2575%ecFEV1  idx ecFEF25-75 % ecFEV1 (%)  \n",
       "23944                    36                           36  \n",
       "23945                    40                           40  \n",
       "23946                    39                           39  \n",
       "23947                    36                           36  \n",
       "23948                    38                           38  \n",
       "23949                    35                           35  \n",
       "23950                    35                           35  \n",
       "23951                    35                           35  \n",
       "23952                    34                           34  \n",
       "23953                    36                           36  \n",
       "23954                    35                           35  \n",
       "23955                    33                           33  \n",
       "23956                    38                           38  \n",
       "23957                    37                           37  \n",
       "23958                    36                           36  \n",
       "23959                    36                           36  \n",
       "23960                    37                           37  \n",
       "23961                    34                           34  \n",
       "23962                    35                           35  \n",
       "23963                    34                           34  \n",
       "23964                    34                           34  \n",
       "23965                    34                           34  \n",
       "23966                    31                           31  \n",
       "23967                    34                           34  \n",
       "23968                    35                           35  \n",
       "23969                    31                           31  \n",
       "23970                    34                           34  \n",
       "23971                    30                           30  \n",
       "23972                    35                           35  \n",
       "23973                    37                           37  \n",
       "23974                    34                           34  \n",
       "23975                    36                           36  \n",
       "23976                    36                           36  \n",
       "23977                    27                           27  \n",
       "23978                    42                           42  \n",
       "23979                    34                           34  \n",
       "23980                    59                           59  \n",
       "23981                    50                           50  \n",
       "23982                    35                           35  \n",
       "23983                    35                           35  \n",
       "23984                    36                           36  \n",
       "23985                    35                           35  \n",
       "23986                    36                           36  \n",
       "23987                    34                           34  \n",
       "23988                    31                           31  "
      ]
     },
     "execution_count": 44,
     "metadata": {},
     "output_type": "execute_result"
    }
   ],
   "source": [
    "df[df.ID == '248']"
   ]
  },
  {
   "cell_type": "markdown",
   "metadata": {},
   "source": [
    "## Process results (archive)"
   ]
  },
  {
   "cell_type": "code",
   "execution_count": 148,
   "metadata": {},
   "outputs": [
    {
     "data": {
      "text/html": [
       "<div>\n",
       "<style scoped>\n",
       "    .dataframe tbody tr th:only-of-type {\n",
       "        vertical-align: middle;\n",
       "    }\n",
       "\n",
       "    .dataframe tbody tr th {\n",
       "        vertical-align: top;\n",
       "    }\n",
       "\n",
       "    .dataframe thead th {\n",
       "        text-align: right;\n",
       "    }\n",
       "</style>\n",
       "<table border=\"1\" class=\"dataframe\">\n",
       "  <thead>\n",
       "    <tr style=\"text-align: right;\">\n",
       "      <th></th>\n",
       "      <th>log_p_S_given_D</th>\n",
       "      <th>params</th>\n",
       "      <th>main width</th>\n",
       "      <th>tail width</th>\n",
       "      <th>main weight</th>\n",
       "    </tr>\n",
       "  </thead>\n",
       "  <tbody>\n",
       "    <tr>\n",
       "      <th>0</th>\n",
       "      <td>-5.094301e+04</td>\n",
       "      <td>(2, 15, 0.3)</td>\n",
       "      <td>2</td>\n",
       "      <td>15</td>\n",
       "      <td>0.3</td>\n",
       "    </tr>\n",
       "    <tr>\n",
       "      <th>1</th>\n",
       "      <td>-4.910879e+04</td>\n",
       "      <td>(2, 15, 0.5)</td>\n",
       "      <td>2</td>\n",
       "      <td>15</td>\n",
       "      <td>0.5</td>\n",
       "    </tr>\n",
       "    <tr>\n",
       "      <th>2</th>\n",
       "      <td>-4.775033e+04</td>\n",
       "      <td>(2, 15, 0.7)</td>\n",
       "      <td>2</td>\n",
       "      <td>15</td>\n",
       "      <td>0.7</td>\n",
       "    </tr>\n",
       "    <tr>\n",
       "      <th>3</th>\n",
       "      <td>-5.177770e+04</td>\n",
       "      <td>(2, 30, 0.3)</td>\n",
       "      <td>2</td>\n",
       "      <td>30</td>\n",
       "      <td>0.3</td>\n",
       "    </tr>\n",
       "    <tr>\n",
       "      <th>4</th>\n",
       "      <td>-4.944245e+04</td>\n",
       "      <td>(2, 30, 0.5)</td>\n",
       "      <td>2</td>\n",
       "      <td>30</td>\n",
       "      <td>0.5</td>\n",
       "    </tr>\n",
       "    <tr>\n",
       "      <th>5</th>\n",
       "      <td>-4.788089e+04</td>\n",
       "      <td>(2, 30, 0.7)</td>\n",
       "      <td>2</td>\n",
       "      <td>30</td>\n",
       "      <td>0.7</td>\n",
       "    </tr>\n",
       "    <tr>\n",
       "      <th>6</th>\n",
       "      <td>-5.141493e+04</td>\n",
       "      <td>(2, 50, 0.3)</td>\n",
       "      <td>2</td>\n",
       "      <td>50</td>\n",
       "      <td>0.3</td>\n",
       "    </tr>\n",
       "    <tr>\n",
       "      <th>7</th>\n",
       "      <td>-4.909168e+04</td>\n",
       "      <td>(2, 50, 0.5)</td>\n",
       "      <td>2</td>\n",
       "      <td>50</td>\n",
       "      <td>0.5</td>\n",
       "    </tr>\n",
       "    <tr>\n",
       "      <th>8</th>\n",
       "      <td>-4.767621e+04</td>\n",
       "      <td>(2, 50, 0.7)</td>\n",
       "      <td>2</td>\n",
       "      <td>50</td>\n",
       "      <td>0.7</td>\n",
       "    </tr>\n",
       "    <tr>\n",
       "      <th>9</th>\n",
       "      <td>-5.278688e+04</td>\n",
       "      <td>(5, 15, 0.3)</td>\n",
       "      <td>5</td>\n",
       "      <td>15</td>\n",
       "      <td>0.3</td>\n",
       "    </tr>\n",
       "    <tr>\n",
       "      <th>10</th>\n",
       "      <td>-5.148199e+04</td>\n",
       "      <td>(5, 15, 0.5)</td>\n",
       "      <td>5</td>\n",
       "      <td>15</td>\n",
       "      <td>0.5</td>\n",
       "    </tr>\n",
       "    <tr>\n",
       "      <th>11</th>\n",
       "      <td>-5.041678e+04</td>\n",
       "      <td>(5, 15, 0.7)</td>\n",
       "      <td>5</td>\n",
       "      <td>15</td>\n",
       "      <td>0.7</td>\n",
       "    </tr>\n",
       "    <tr>\n",
       "      <th>12</th>\n",
       "      <td>-5.412482e+04</td>\n",
       "      <td>(5, 30, 0.3)</td>\n",
       "      <td>5</td>\n",
       "      <td>30</td>\n",
       "      <td>0.3</td>\n",
       "    </tr>\n",
       "    <tr>\n",
       "      <th>13</th>\n",
       "      <td>-5.212654e+04</td>\n",
       "      <td>(5, 30, 0.5)</td>\n",
       "      <td>5</td>\n",
       "      <td>30</td>\n",
       "      <td>0.5</td>\n",
       "    </tr>\n",
       "    <tr>\n",
       "      <th>14</th>\n",
       "      <td>-5.068574e+04</td>\n",
       "      <td>(5, 30, 0.7)</td>\n",
       "      <td>5</td>\n",
       "      <td>30</td>\n",
       "      <td>0.7</td>\n",
       "    </tr>\n",
       "    <tr>\n",
       "      <th>15</th>\n",
       "      <td>-5.402105e+04</td>\n",
       "      <td>(5, 50, 0.3)</td>\n",
       "      <td>5</td>\n",
       "      <td>50</td>\n",
       "      <td>0.3</td>\n",
       "    </tr>\n",
       "    <tr>\n",
       "      <th>16</th>\n",
       "      <td>-5.189363e+04</td>\n",
       "      <td>(5, 50, 0.5)</td>\n",
       "      <td>5</td>\n",
       "      <td>50</td>\n",
       "      <td>0.5</td>\n",
       "    </tr>\n",
       "    <tr>\n",
       "      <th>17</th>\n",
       "      <td>-5.051049e+04</td>\n",
       "      <td>(5, 50, 0.7)</td>\n",
       "      <td>5</td>\n",
       "      <td>50</td>\n",
       "      <td>0.7</td>\n",
       "    </tr>\n",
       "    <tr>\n",
       "      <th>18</th>\n",
       "      <td>-5.400704e+04</td>\n",
       "      <td>(8, 15, 0.3)</td>\n",
       "      <td>8</td>\n",
       "      <td>15</td>\n",
       "      <td>0.3</td>\n",
       "    </tr>\n",
       "    <tr>\n",
       "      <th>19</th>\n",
       "      <td>-5.320272e+04</td>\n",
       "      <td>(8, 15, 0.5)</td>\n",
       "      <td>8</td>\n",
       "      <td>15</td>\n",
       "      <td>0.5</td>\n",
       "    </tr>\n",
       "    <tr>\n",
       "      <th>20</th>\n",
       "      <td>-5.249486e+04</td>\n",
       "      <td>(8, 15, 0.7)</td>\n",
       "      <td>8</td>\n",
       "      <td>15</td>\n",
       "      <td>0.7</td>\n",
       "    </tr>\n",
       "    <tr>\n",
       "      <th>21</th>\n",
       "      <td>-inf</td>\n",
       "      <td>(8, 30, 0.3)</td>\n",
       "      <td>8</td>\n",
       "      <td>30</td>\n",
       "      <td>0.3</td>\n",
       "    </tr>\n",
       "    <tr>\n",
       "      <th>22</th>\n",
       "      <td>-5.418962e+04</td>\n",
       "      <td>(8, 30, 0.5)</td>\n",
       "      <td>8</td>\n",
       "      <td>30</td>\n",
       "      <td>0.5</td>\n",
       "    </tr>\n",
       "    <tr>\n",
       "      <th>23</th>\n",
       "      <td>-5.296286e+04</td>\n",
       "      <td>(8, 30, 0.7)</td>\n",
       "      <td>8</td>\n",
       "      <td>30</td>\n",
       "      <td>0.7</td>\n",
       "    </tr>\n",
       "    <tr>\n",
       "      <th>24</th>\n",
       "      <td>-inf</td>\n",
       "      <td>(8, 50, 0.3)</td>\n",
       "      <td>8</td>\n",
       "      <td>50</td>\n",
       "      <td>0.3</td>\n",
       "    </tr>\n",
       "    <tr>\n",
       "      <th>25</th>\n",
       "      <td>-5.413164e+04</td>\n",
       "      <td>(8, 50, 0.5)</td>\n",
       "      <td>8</td>\n",
       "      <td>50</td>\n",
       "      <td>0.5</td>\n",
       "    </tr>\n",
       "    <tr>\n",
       "      <th>26</th>\n",
       "      <td>-5.287134e+04</td>\n",
       "      <td>(8, 50, 0.7)</td>\n",
       "      <td>8</td>\n",
       "      <td>50</td>\n",
       "      <td>0.7</td>\n",
       "    </tr>\n",
       "  </tbody>\n",
       "</table>\n",
       "</div>"
      ],
      "text/plain": [
       "    log_p_S_given_D        params  main width  tail width  main weight\n",
       "0     -5.094301e+04  (2, 15, 0.3)           2          15          0.3\n",
       "1     -4.910879e+04  (2, 15, 0.5)           2          15          0.5\n",
       "2     -4.775033e+04  (2, 15, 0.7)           2          15          0.7\n",
       "3     -5.177770e+04  (2, 30, 0.3)           2          30          0.3\n",
       "4     -4.944245e+04  (2, 30, 0.5)           2          30          0.5\n",
       "5     -4.788089e+04  (2, 30, 0.7)           2          30          0.7\n",
       "6     -5.141493e+04  (2, 50, 0.3)           2          50          0.3\n",
       "7     -4.909168e+04  (2, 50, 0.5)           2          50          0.5\n",
       "8     -4.767621e+04  (2, 50, 0.7)           2          50          0.7\n",
       "9     -5.278688e+04  (5, 15, 0.3)           5          15          0.3\n",
       "10    -5.148199e+04  (5, 15, 0.5)           5          15          0.5\n",
       "11    -5.041678e+04  (5, 15, 0.7)           5          15          0.7\n",
       "12    -5.412482e+04  (5, 30, 0.3)           5          30          0.3\n",
       "13    -5.212654e+04  (5, 30, 0.5)           5          30          0.5\n",
       "14    -5.068574e+04  (5, 30, 0.7)           5          30          0.7\n",
       "15    -5.402105e+04  (5, 50, 0.3)           5          50          0.3\n",
       "16    -5.189363e+04  (5, 50, 0.5)           5          50          0.5\n",
       "17    -5.051049e+04  (5, 50, 0.7)           5          50          0.7\n",
       "18    -5.400704e+04  (8, 15, 0.3)           8          15          0.3\n",
       "19    -5.320272e+04  (8, 15, 0.5)           8          15          0.5\n",
       "20    -5.249486e+04  (8, 15, 0.7)           8          15          0.7\n",
       "21             -inf  (8, 30, 0.3)           8          30          0.3\n",
       "22    -5.418962e+04  (8, 30, 0.5)           8          30          0.5\n",
       "23    -5.296286e+04  (8, 30, 0.7)           8          30          0.7\n",
       "24             -inf  (8, 50, 0.3)           8          50          0.3\n",
       "25    -5.413164e+04  (8, 50, 0.5)           8          50          0.5\n",
       "26    -5.287134e+04  (8, 50, 0.7)           8          50          0.7"
      ]
     },
     "execution_count": 148,
     "metadata": {},
     "output_type": "execute_result"
    }
   ],
   "source": [
    "# Element wise addition of the values in data\n",
    "params = [\n",
    "    (2, 15, 0.3),\n",
    "    (2, 15, 0.5),\n",
    "    (2, 15, 0.7),\n",
    "    (2, 30, 0.3),\n",
    "    (2, 30, 0.5),\n",
    "    (2, 30, 0.7),\n",
    "    (2, 50, 0.3),\n",
    "    (2, 50, 0.5),\n",
    "    (2, 50, 0.7),\n",
    "    (5, 15, 0.3),\n",
    "    (5, 15, 0.5),\n",
    "    (5, 15, 0.7),\n",
    "    (5, 30, 0.3),\n",
    "    (5, 30, 0.5),\n",
    "    (5, 30, 0.7),\n",
    "    (5, 50, 0.3),\n",
    "    (5, 50, 0.5),\n",
    "    (5, 50, 0.7),\n",
    "    (8, 15, 0.3),\n",
    "    (8, 15, 0.5),\n",
    "    (8, 15, 0.7),\n",
    "    (8, 30, 0.3),\n",
    "    (8, 30, 0.5),\n",
    "    (8, 30, 0.7),\n",
    "    (8, 50, 0.3),\n",
    "    (8, 50, 0.5),\n",
    "    (8, 50, 0.7),\n",
    "]\n",
    "labels = [\"main width\", \"tail width\", \"main weight\"]\n",
    "\n",
    "df_heatmap, IDs = load_and_process_json(27, params, labels)\n",
    "df_heatmap"
   ]
  },
  {
   "cell_type": "code",
   "execution_count": 135,
   "metadata": {},
   "outputs": [
    {
     "data": {
      "application/vnd.plotly.v1+json": {
       "config": {
        "plotlyServerURL": "https://plot.ly"
       },
       "data": [
        {
         "colorbar": {
          "title": {
           "text": "log_p_S_given_D"
          }
         },
         "type": "heatmap",
         "x": [
          2,
          2,
          2,
          5,
          5,
          5,
          8,
          8,
          8
         ],
         "xaxis": "x",
         "y": [
          15,
          30,
          50,
          15,
          30,
          50,
          15,
          30,
          50
         ],
         "yaxis": "y",
         "z": [
          -50943.01299052004,
          -51777.70402756,
          -51414.92757171001,
          -52786.87936913,
          -54124.82379924001,
          -54021.05213030999,
          -54007.04416969002,
          null,
          null
         ],
         "zmax": -47676.20919852996,
         "zmin": -54189.61899217001
        },
        {
         "colorbar": {
          "title": {
           "text": "log_p_S_given_D"
          }
         },
         "type": "heatmap",
         "x": [
          2,
          2,
          2,
          5,
          5,
          5,
          8,
          8,
          8
         ],
         "xaxis": "x2",
         "y": [
          15,
          30,
          50,
          15,
          30,
          50,
          15,
          30,
          50
         ],
         "yaxis": "y2",
         "z": [
          -49108.78589336999,
          -49442.45358519999,
          -49091.67592481005,
          -51481.98509334001,
          -52126.54212261003,
          -51893.629034009995,
          -53202.71752594003,
          -54189.61899217001,
          -54131.63650929005
         ],
         "zmax": -47676.20919852996,
         "zmin": -54189.61899217001
        },
        {
         "colorbar": {
          "title": {
           "text": "log_p_S_given_D"
          }
         },
         "type": "heatmap",
         "x": [
          2,
          2,
          2,
          5,
          5,
          5,
          8,
          8,
          8
         ],
         "xaxis": "x3",
         "y": [
          15,
          30,
          50,
          15,
          30,
          50,
          15,
          30,
          50
         ],
         "yaxis": "y3",
         "z": [
          -47750.32865484005,
          -47880.89090232003,
          -47676.20919852996,
          -50416.77941401002,
          -50685.739293520004,
          -50510.48631315007,
          -52494.857486070054,
          -52962.856711070024,
          -52871.337538730004
         ],
         "zmax": -47676.20919852996,
         "zmin": -54189.61899217001
        }
       ],
       "layout": {
        "font": {
         "size": 10
        },
        "height": 300,
        "template": {
         "data": {
          "bar": [
           {
            "error_x": {
             "color": "#2a3f5f"
            },
            "error_y": {
             "color": "#2a3f5f"
            },
            "marker": {
             "line": {
              "color": "#E5ECF6",
              "width": 0.5
             },
             "pattern": {
              "fillmode": "overlay",
              "size": 10,
              "solidity": 0.2
             }
            },
            "type": "bar"
           }
          ],
          "barpolar": [
           {
            "marker": {
             "line": {
              "color": "#E5ECF6",
              "width": 0.5
             },
             "pattern": {
              "fillmode": "overlay",
              "size": 10,
              "solidity": 0.2
             }
            },
            "type": "barpolar"
           }
          ],
          "carpet": [
           {
            "aaxis": {
             "endlinecolor": "#2a3f5f",
             "gridcolor": "white",
             "linecolor": "white",
             "minorgridcolor": "white",
             "startlinecolor": "#2a3f5f"
            },
            "baxis": {
             "endlinecolor": "#2a3f5f",
             "gridcolor": "white",
             "linecolor": "white",
             "minorgridcolor": "white",
             "startlinecolor": "#2a3f5f"
            },
            "type": "carpet"
           }
          ],
          "choropleth": [
           {
            "colorbar": {
             "outlinewidth": 0,
             "ticks": ""
            },
            "type": "choropleth"
           }
          ],
          "contour": [
           {
            "colorbar": {
             "outlinewidth": 0,
             "ticks": ""
            },
            "colorscale": [
             [
              0,
              "#0d0887"
             ],
             [
              0.1111111111111111,
              "#46039f"
             ],
             [
              0.2222222222222222,
              "#7201a8"
             ],
             [
              0.3333333333333333,
              "#9c179e"
             ],
             [
              0.4444444444444444,
              "#bd3786"
             ],
             [
              0.5555555555555556,
              "#d8576b"
             ],
             [
              0.6666666666666666,
              "#ed7953"
             ],
             [
              0.7777777777777778,
              "#fb9f3a"
             ],
             [
              0.8888888888888888,
              "#fdca26"
             ],
             [
              1,
              "#f0f921"
             ]
            ],
            "type": "contour"
           }
          ],
          "contourcarpet": [
           {
            "colorbar": {
             "outlinewidth": 0,
             "ticks": ""
            },
            "type": "contourcarpet"
           }
          ],
          "heatmap": [
           {
            "colorbar": {
             "outlinewidth": 0,
             "ticks": ""
            },
            "colorscale": [
             [
              0,
              "#0d0887"
             ],
             [
              0.1111111111111111,
              "#46039f"
             ],
             [
              0.2222222222222222,
              "#7201a8"
             ],
             [
              0.3333333333333333,
              "#9c179e"
             ],
             [
              0.4444444444444444,
              "#bd3786"
             ],
             [
              0.5555555555555556,
              "#d8576b"
             ],
             [
              0.6666666666666666,
              "#ed7953"
             ],
             [
              0.7777777777777778,
              "#fb9f3a"
             ],
             [
              0.8888888888888888,
              "#fdca26"
             ],
             [
              1,
              "#f0f921"
             ]
            ],
            "type": "heatmap"
           }
          ],
          "heatmapgl": [
           {
            "colorbar": {
             "outlinewidth": 0,
             "ticks": ""
            },
            "colorscale": [
             [
              0,
              "#0d0887"
             ],
             [
              0.1111111111111111,
              "#46039f"
             ],
             [
              0.2222222222222222,
              "#7201a8"
             ],
             [
              0.3333333333333333,
              "#9c179e"
             ],
             [
              0.4444444444444444,
              "#bd3786"
             ],
             [
              0.5555555555555556,
              "#d8576b"
             ],
             [
              0.6666666666666666,
              "#ed7953"
             ],
             [
              0.7777777777777778,
              "#fb9f3a"
             ],
             [
              0.8888888888888888,
              "#fdca26"
             ],
             [
              1,
              "#f0f921"
             ]
            ],
            "type": "heatmapgl"
           }
          ],
          "histogram": [
           {
            "marker": {
             "pattern": {
              "fillmode": "overlay",
              "size": 10,
              "solidity": 0.2
             }
            },
            "type": "histogram"
           }
          ],
          "histogram2d": [
           {
            "colorbar": {
             "outlinewidth": 0,
             "ticks": ""
            },
            "colorscale": [
             [
              0,
              "#0d0887"
             ],
             [
              0.1111111111111111,
              "#46039f"
             ],
             [
              0.2222222222222222,
              "#7201a8"
             ],
             [
              0.3333333333333333,
              "#9c179e"
             ],
             [
              0.4444444444444444,
              "#bd3786"
             ],
             [
              0.5555555555555556,
              "#d8576b"
             ],
             [
              0.6666666666666666,
              "#ed7953"
             ],
             [
              0.7777777777777778,
              "#fb9f3a"
             ],
             [
              0.8888888888888888,
              "#fdca26"
             ],
             [
              1,
              "#f0f921"
             ]
            ],
            "type": "histogram2d"
           }
          ],
          "histogram2dcontour": [
           {
            "colorbar": {
             "outlinewidth": 0,
             "ticks": ""
            },
            "colorscale": [
             [
              0,
              "#0d0887"
             ],
             [
              0.1111111111111111,
              "#46039f"
             ],
             [
              0.2222222222222222,
              "#7201a8"
             ],
             [
              0.3333333333333333,
              "#9c179e"
             ],
             [
              0.4444444444444444,
              "#bd3786"
             ],
             [
              0.5555555555555556,
              "#d8576b"
             ],
             [
              0.6666666666666666,
              "#ed7953"
             ],
             [
              0.7777777777777778,
              "#fb9f3a"
             ],
             [
              0.8888888888888888,
              "#fdca26"
             ],
             [
              1,
              "#f0f921"
             ]
            ],
            "type": "histogram2dcontour"
           }
          ],
          "mesh3d": [
           {
            "colorbar": {
             "outlinewidth": 0,
             "ticks": ""
            },
            "type": "mesh3d"
           }
          ],
          "parcoords": [
           {
            "line": {
             "colorbar": {
              "outlinewidth": 0,
              "ticks": ""
             }
            },
            "type": "parcoords"
           }
          ],
          "pie": [
           {
            "automargin": true,
            "type": "pie"
           }
          ],
          "scatter": [
           {
            "fillpattern": {
             "fillmode": "overlay",
             "size": 10,
             "solidity": 0.2
            },
            "type": "scatter"
           }
          ],
          "scatter3d": [
           {
            "line": {
             "colorbar": {
              "outlinewidth": 0,
              "ticks": ""
             }
            },
            "marker": {
             "colorbar": {
              "outlinewidth": 0,
              "ticks": ""
             }
            },
            "type": "scatter3d"
           }
          ],
          "scattercarpet": [
           {
            "marker": {
             "colorbar": {
              "outlinewidth": 0,
              "ticks": ""
             }
            },
            "type": "scattercarpet"
           }
          ],
          "scattergeo": [
           {
            "marker": {
             "colorbar": {
              "outlinewidth": 0,
              "ticks": ""
             }
            },
            "type": "scattergeo"
           }
          ],
          "scattergl": [
           {
            "marker": {
             "colorbar": {
              "outlinewidth": 0,
              "ticks": ""
             }
            },
            "type": "scattergl"
           }
          ],
          "scattermapbox": [
           {
            "marker": {
             "colorbar": {
              "outlinewidth": 0,
              "ticks": ""
             }
            },
            "type": "scattermapbox"
           }
          ],
          "scatterpolar": [
           {
            "marker": {
             "colorbar": {
              "outlinewidth": 0,
              "ticks": ""
             }
            },
            "type": "scatterpolar"
           }
          ],
          "scatterpolargl": [
           {
            "marker": {
             "colorbar": {
              "outlinewidth": 0,
              "ticks": ""
             }
            },
            "type": "scatterpolargl"
           }
          ],
          "scatterternary": [
           {
            "marker": {
             "colorbar": {
              "outlinewidth": 0,
              "ticks": ""
             }
            },
            "type": "scatterternary"
           }
          ],
          "surface": [
           {
            "colorbar": {
             "outlinewidth": 0,
             "ticks": ""
            },
            "colorscale": [
             [
              0,
              "#0d0887"
             ],
             [
              0.1111111111111111,
              "#46039f"
             ],
             [
              0.2222222222222222,
              "#7201a8"
             ],
             [
              0.3333333333333333,
              "#9c179e"
             ],
             [
              0.4444444444444444,
              "#bd3786"
             ],
             [
              0.5555555555555556,
              "#d8576b"
             ],
             [
              0.6666666666666666,
              "#ed7953"
             ],
             [
              0.7777777777777778,
              "#fb9f3a"
             ],
             [
              0.8888888888888888,
              "#fdca26"
             ],
             [
              1,
              "#f0f921"
             ]
            ],
            "type": "surface"
           }
          ],
          "table": [
           {
            "cells": {
             "fill": {
              "color": "#EBF0F8"
             },
             "line": {
              "color": "white"
             }
            },
            "header": {
             "fill": {
              "color": "#C8D4E3"
             },
             "line": {
              "color": "white"
             }
            },
            "type": "table"
           }
          ]
         },
         "layout": {
          "annotationdefaults": {
           "arrowcolor": "#2a3f5f",
           "arrowhead": 0,
           "arrowwidth": 1
          },
          "autotypenumbers": "strict",
          "coloraxis": {
           "colorbar": {
            "outlinewidth": 0,
            "ticks": ""
           }
          },
          "colorscale": {
           "diverging": [
            [
             0,
             "#8e0152"
            ],
            [
             0.1,
             "#c51b7d"
            ],
            [
             0.2,
             "#de77ae"
            ],
            [
             0.3,
             "#f1b6da"
            ],
            [
             0.4,
             "#fde0ef"
            ],
            [
             0.5,
             "#f7f7f7"
            ],
            [
             0.6,
             "#e6f5d0"
            ],
            [
             0.7,
             "#b8e186"
            ],
            [
             0.8,
             "#7fbc41"
            ],
            [
             0.9,
             "#4d9221"
            ],
            [
             1,
             "#276419"
            ]
           ],
           "sequential": [
            [
             0,
             "#0d0887"
            ],
            [
             0.1111111111111111,
             "#46039f"
            ],
            [
             0.2222222222222222,
             "#7201a8"
            ],
            [
             0.3333333333333333,
             "#9c179e"
            ],
            [
             0.4444444444444444,
             "#bd3786"
            ],
            [
             0.5555555555555556,
             "#d8576b"
            ],
            [
             0.6666666666666666,
             "#ed7953"
            ],
            [
             0.7777777777777778,
             "#fb9f3a"
            ],
            [
             0.8888888888888888,
             "#fdca26"
            ],
            [
             1,
             "#f0f921"
            ]
           ],
           "sequentialminus": [
            [
             0,
             "#0d0887"
            ],
            [
             0.1111111111111111,
             "#46039f"
            ],
            [
             0.2222222222222222,
             "#7201a8"
            ],
            [
             0.3333333333333333,
             "#9c179e"
            ],
            [
             0.4444444444444444,
             "#bd3786"
            ],
            [
             0.5555555555555556,
             "#d8576b"
            ],
            [
             0.6666666666666666,
             "#ed7953"
            ],
            [
             0.7777777777777778,
             "#fb9f3a"
            ],
            [
             0.8888888888888888,
             "#fdca26"
            ],
            [
             1,
             "#f0f921"
            ]
           ]
          },
          "colorway": [
           "#636efa",
           "#EF553B",
           "#00cc96",
           "#ab63fa",
           "#FFA15A",
           "#19d3f3",
           "#FF6692",
           "#B6E880",
           "#FF97FF",
           "#FECB52"
          ],
          "font": {
           "color": "#2a3f5f"
          },
          "geo": {
           "bgcolor": "white",
           "lakecolor": "white",
           "landcolor": "#E5ECF6",
           "showlakes": true,
           "showland": true,
           "subunitcolor": "white"
          },
          "hoverlabel": {
           "align": "left"
          },
          "hovermode": "closest",
          "mapbox": {
           "style": "light"
          },
          "paper_bgcolor": "white",
          "plot_bgcolor": "#E5ECF6",
          "polar": {
           "angularaxis": {
            "gridcolor": "white",
            "linecolor": "white",
            "ticks": ""
           },
           "bgcolor": "#E5ECF6",
           "radialaxis": {
            "gridcolor": "white",
            "linecolor": "white",
            "ticks": ""
           }
          },
          "scene": {
           "xaxis": {
            "backgroundcolor": "#E5ECF6",
            "gridcolor": "white",
            "gridwidth": 2,
            "linecolor": "white",
            "showbackground": true,
            "ticks": "",
            "zerolinecolor": "white"
           },
           "yaxis": {
            "backgroundcolor": "#E5ECF6",
            "gridcolor": "white",
            "gridwidth": 2,
            "linecolor": "white",
            "showbackground": true,
            "ticks": "",
            "zerolinecolor": "white"
           },
           "zaxis": {
            "backgroundcolor": "#E5ECF6",
            "gridcolor": "white",
            "gridwidth": 2,
            "linecolor": "white",
            "showbackground": true,
            "ticks": "",
            "zerolinecolor": "white"
           }
          },
          "shapedefaults": {
           "line": {
            "color": "#2a3f5f"
           }
          },
          "ternary": {
           "aaxis": {
            "gridcolor": "white",
            "linecolor": "white",
            "ticks": ""
           },
           "baxis": {
            "gridcolor": "white",
            "linecolor": "white",
            "ticks": ""
           },
           "bgcolor": "#E5ECF6",
           "caxis": {
            "gridcolor": "white",
            "linecolor": "white",
            "ticks": ""
           }
          },
          "title": {
           "x": 0.05
          },
          "xaxis": {
           "automargin": true,
           "gridcolor": "white",
           "linecolor": "white",
           "ticks": "",
           "title": {
            "standoff": 15
           },
           "zerolinecolor": "white",
           "zerolinewidth": 2
          },
          "yaxis": {
           "automargin": true,
           "gridcolor": "white",
           "linecolor": "white",
           "ticks": "",
           "title": {
            "standoff": 15
           },
           "zerolinecolor": "white",
           "zerolinewidth": 2
          }
         }
        },
        "title": {
         "text": "Log probability of S given D for different AR change parameters (316 IDs)"
        },
        "width": 650,
        "xaxis": {
         "anchor": "y",
         "domain": [
          0,
          0.2888888888888889
         ],
         "title": {
          "text": "Main width<br><br>Main weight=0.3"
         },
         "type": "category"
        },
        "xaxis2": {
         "anchor": "y2",
         "domain": [
          0.35555555555555557,
          0.6444444444444445
         ],
         "title": {
          "text": "Main width<br><br>Main weight=0.5"
         },
         "type": "category"
        },
        "xaxis3": {
         "anchor": "y3",
         "domain": [
          0.7111111111111111,
          1
         ],
         "title": {
          "text": "Main width<br><br>Main weight=0.7"
         },
         "type": "category"
        },
        "yaxis": {
         "anchor": "x",
         "domain": [
          0,
          1
         ],
         "title": {
          "text": "Tail width"
         },
         "type": "category"
        },
        "yaxis2": {
         "anchor": "x2",
         "domain": [
          0,
          1
         ],
         "type": "category"
        },
        "yaxis3": {
         "anchor": "x3",
         "domain": [
          0,
          1
         ],
         "type": "category"
        }
       }
      }
     },
     "metadata": {},
     "output_type": "display_data"
    }
   ],
   "source": [
    "# Plot heatmap with main width on x axis, tail width on y axis and log_p_S_given_D as the color, just use the first 3 main weights\n",
    "\n",
    "fig = make_subplots(1, 3)\n",
    "\n",
    "\n",
    "def add_heatmap_for_weight(df, weight, col):\n",
    "    df = df[df[\"main weight\"] == weight]\n",
    "    fig.add_trace(\n",
    "        go.Heatmap(z=df[\"log_p_S_given_D\"], x=df[\"main width\"], y=df[\"tail width\"]),\n",
    "        row=1,\n",
    "        col=col,\n",
    "    )\n",
    "    fig.update_xaxes(\n",
    "        type=\"category\",\n",
    "        row=1,\n",
    "        col=col,\n",
    "        title=\"Main width<br><br>Main weight=\" + str(weight),\n",
    "    )\n",
    "\n",
    "\n",
    "add_heatmap_for_weight(df_heatmap, 0.3, 1)\n",
    "add_heatmap_for_weight(df_heatmap, 0.5, 2)\n",
    "add_heatmap_for_weight(df_heatmap, 0.7, 3)\n",
    "\n",
    "fig.update_layout(\n",
    "    title=f\"Log probability of S given D for different AR change parameters ({len(IDs.keys())} IDs)\",\n",
    "    yaxis_title=\"Tail width\",\n",
    "    # yaxis_type='log',\n",
    "    width=650,\n",
    "    height=300,\n",
    "    font_size=10,\n",
    ")\n",
    "# Recude font size of the subplot titles\n",
    "for annotation in fig[\"layout\"][\"annotations\"]:\n",
    "    annotation[\"font\"] = dict(size=14)\n",
    "# use the same color scale for all subplots\n",
    "fig.update_traces(\n",
    "    zmin=min(df_heatmap.log_p_S_given_D[df_heatmap.log_p_S_given_D != -np.inf]),\n",
    "    zmax=max(df_heatmap.log_p_S_given_D),\n",
    "    colorbar=dict(title=\"log_p_S_given_D\"),\n",
    ")\n",
    "# X axis and y axis are categorical\n",
    "fig.update_yaxes(type=\"category\")\n",
    "\n",
    "fig.show()"
   ]
  },
  {
   "cell_type": "code",
   "execution_count": null,
   "metadata": {},
   "outputs": [],
   "source": [
    "# The weights is the most differentiating parameter, then main width. Tail width is a smaller effect, althought very important, and remains hidden\n",
    "# 0.7 weight\n",
    "# std 2 -> laplace would be better\n",
    "# tail width doesn't change. Go wider?\n",
    "\n",
    "# Since the tails is a secondary effet, let's find the rest first\n",
    "\n",
    "# 3 laplace\n",
    "# 3 gaussians"
   ]
  },
  {
   "cell_type": "code",
   "execution_count": 149,
   "metadata": {},
   "outputs": [
    {
     "data": {
      "text/html": [
       "<div>\n",
       "<style scoped>\n",
       "    .dataframe tbody tr th:only-of-type {\n",
       "        vertical-align: middle;\n",
       "    }\n",
       "\n",
       "    .dataframe tbody tr th {\n",
       "        vertical-align: top;\n",
       "    }\n",
       "\n",
       "    .dataframe thead th {\n",
       "        text-align: right;\n",
       "    }\n",
       "</style>\n",
       "<table border=\"1\" class=\"dataframe\">\n",
       "  <thead>\n",
       "    <tr style=\"text-align: right;\">\n",
       "      <th></th>\n",
       "      <th>log_p_S_given_D</th>\n",
       "      <th>params</th>\n",
       "      <th>main width</th>\n",
       "      <th>laplace</th>\n",
       "    </tr>\n",
       "  </thead>\n",
       "  <tbody>\n",
       "    <tr>\n",
       "      <th>0</th>\n",
       "      <td>-6.655665e+04</td>\n",
       "      <td>(0.5, False)</td>\n",
       "      <td>0.5</td>\n",
       "      <td>False</td>\n",
       "    </tr>\n",
       "    <tr>\n",
       "      <th>1</th>\n",
       "      <td>-6.628876e+04</td>\n",
       "      <td>(0.5, True)</td>\n",
       "      <td>0.5</td>\n",
       "      <td>True</td>\n",
       "    </tr>\n",
       "    <tr>\n",
       "      <th>2</th>\n",
       "      <td>-6.761041e+04</td>\n",
       "      <td>(1, False)</td>\n",
       "      <td>1.0</td>\n",
       "      <td>False</td>\n",
       "    </tr>\n",
       "    <tr>\n",
       "      <th>3</th>\n",
       "      <td>-6.730061e+04</td>\n",
       "      <td>(1, True)</td>\n",
       "      <td>1.0</td>\n",
       "      <td>True</td>\n",
       "    </tr>\n",
       "    <tr>\n",
       "      <th>4</th>\n",
       "      <td>-6.848776e+04</td>\n",
       "      <td>(1.5, False)</td>\n",
       "      <td>1.5</td>\n",
       "      <td>False</td>\n",
       "    </tr>\n",
       "    <tr>\n",
       "      <th>5</th>\n",
       "      <td>-6.834117e+04</td>\n",
       "      <td>(1.5, True)</td>\n",
       "      <td>1.5</td>\n",
       "      <td>True</td>\n",
       "    </tr>\n",
       "    <tr>\n",
       "      <th>6</th>\n",
       "      <td>-6.921651e+04</td>\n",
       "      <td>(2, False)</td>\n",
       "      <td>2.0</td>\n",
       "      <td>False</td>\n",
       "    </tr>\n",
       "    <tr>\n",
       "      <th>7</th>\n",
       "      <td>-6.927346e+04</td>\n",
       "      <td>(2, True)</td>\n",
       "      <td>2.0</td>\n",
       "      <td>True</td>\n",
       "    </tr>\n",
       "    <tr>\n",
       "      <th>8</th>\n",
       "      <td>-inf</td>\n",
       "      <td>(2.5, False)</td>\n",
       "      <td>2.5</td>\n",
       "      <td>False</td>\n",
       "    </tr>\n",
       "    <tr>\n",
       "      <th>9</th>\n",
       "      <td>-inf</td>\n",
       "      <td>(2.5, True)</td>\n",
       "      <td>2.5</td>\n",
       "      <td>True</td>\n",
       "    </tr>\n",
       "  </tbody>\n",
       "</table>\n",
       "</div>"
      ],
      "text/plain": [
       "   log_p_S_given_D        params  main width  laplace\n",
       "0    -6.655665e+04  (0.5, False)         0.5    False\n",
       "1    -6.628876e+04   (0.5, True)         0.5     True\n",
       "2    -6.761041e+04    (1, False)         1.0    False\n",
       "3    -6.730061e+04     (1, True)         1.0     True\n",
       "4    -6.848776e+04  (1.5, False)         1.5    False\n",
       "5    -6.834117e+04   (1.5, True)         1.5     True\n",
       "6    -6.921651e+04    (2, False)         2.0    False\n",
       "7    -6.927346e+04     (2, True)         2.0     True\n",
       "8             -inf  (2.5, False)         2.5    False\n",
       "9             -inf   (2.5, True)         2.5     True"
      ]
     },
     "execution_count": 149,
     "metadata": {},
     "output_type": "execute_result"
    }
   ],
   "source": [
    "params = [\n",
    "    (0.5, False),\n",
    "    (0.5, True),\n",
    "    (1, False),\n",
    "    (1, True),\n",
    "    (1.5, False),\n",
    "    (1.5, True),\n",
    "    (2, False),\n",
    "    (2, True),\n",
    "    (2.5, False),\n",
    "    (2.5, True),\n",
    "]\n",
    "labels = [\"main width\", \"laplace\"]\n",
    "\n",
    "df_10, IDs_10 = load_and_process_json(10, params, labels)\n",
    "df_10"
   ]
  },
  {
   "cell_type": "code",
   "execution_count": 164,
   "metadata": {},
   "outputs": [
    {
     "data": {
      "application/vnd.plotly.v1+json": {
       "config": {
        "plotlyServerURL": "https://plot.ly"
       },
       "data": [
        {
         "colorbar": {
          "title": {
           "text": "log_p_S_given_D"
          }
         },
         "type": "heatmap",
         "x": [
          0.5,
          0.5,
          1,
          1,
          1.5,
          1.5,
          2,
          2,
          2.5,
          2.5
         ],
         "xaxis": "x",
         "y": [
          false,
          true,
          false,
          true,
          false,
          true,
          false,
          true,
          false,
          true
         ],
         "yaxis": "y",
         "z": [
          -66556.64939798,
          -66288.75989375003,
          -67610.41153004,
          -67300.61421237995,
          -68487.75729400999,
          -68341.17404556002,
          -69216.51285941998,
          -69273.45789501,
          null,
          null
         ],
         "zmax": -66288.75989375003,
         "zmin": -69273.45789501
        }
       ],
       "layout": {
        "font": {
         "size": 10
        },
        "height": 250,
        "template": {
         "data": {
          "bar": [
           {
            "error_x": {
             "color": "#2a3f5f"
            },
            "error_y": {
             "color": "#2a3f5f"
            },
            "marker": {
             "line": {
              "color": "#E5ECF6",
              "width": 0.5
             },
             "pattern": {
              "fillmode": "overlay",
              "size": 10,
              "solidity": 0.2
             }
            },
            "type": "bar"
           }
          ],
          "barpolar": [
           {
            "marker": {
             "line": {
              "color": "#E5ECF6",
              "width": 0.5
             },
             "pattern": {
              "fillmode": "overlay",
              "size": 10,
              "solidity": 0.2
             }
            },
            "type": "barpolar"
           }
          ],
          "carpet": [
           {
            "aaxis": {
             "endlinecolor": "#2a3f5f",
             "gridcolor": "white",
             "linecolor": "white",
             "minorgridcolor": "white",
             "startlinecolor": "#2a3f5f"
            },
            "baxis": {
             "endlinecolor": "#2a3f5f",
             "gridcolor": "white",
             "linecolor": "white",
             "minorgridcolor": "white",
             "startlinecolor": "#2a3f5f"
            },
            "type": "carpet"
           }
          ],
          "choropleth": [
           {
            "colorbar": {
             "outlinewidth": 0,
             "ticks": ""
            },
            "type": "choropleth"
           }
          ],
          "contour": [
           {
            "colorbar": {
             "outlinewidth": 0,
             "ticks": ""
            },
            "colorscale": [
             [
              0,
              "#0d0887"
             ],
             [
              0.1111111111111111,
              "#46039f"
             ],
             [
              0.2222222222222222,
              "#7201a8"
             ],
             [
              0.3333333333333333,
              "#9c179e"
             ],
             [
              0.4444444444444444,
              "#bd3786"
             ],
             [
              0.5555555555555556,
              "#d8576b"
             ],
             [
              0.6666666666666666,
              "#ed7953"
             ],
             [
              0.7777777777777778,
              "#fb9f3a"
             ],
             [
              0.8888888888888888,
              "#fdca26"
             ],
             [
              1,
              "#f0f921"
             ]
            ],
            "type": "contour"
           }
          ],
          "contourcarpet": [
           {
            "colorbar": {
             "outlinewidth": 0,
             "ticks": ""
            },
            "type": "contourcarpet"
           }
          ],
          "heatmap": [
           {
            "colorbar": {
             "outlinewidth": 0,
             "ticks": ""
            },
            "colorscale": [
             [
              0,
              "#0d0887"
             ],
             [
              0.1111111111111111,
              "#46039f"
             ],
             [
              0.2222222222222222,
              "#7201a8"
             ],
             [
              0.3333333333333333,
              "#9c179e"
             ],
             [
              0.4444444444444444,
              "#bd3786"
             ],
             [
              0.5555555555555556,
              "#d8576b"
             ],
             [
              0.6666666666666666,
              "#ed7953"
             ],
             [
              0.7777777777777778,
              "#fb9f3a"
             ],
             [
              0.8888888888888888,
              "#fdca26"
             ],
             [
              1,
              "#f0f921"
             ]
            ],
            "type": "heatmap"
           }
          ],
          "heatmapgl": [
           {
            "colorbar": {
             "outlinewidth": 0,
             "ticks": ""
            },
            "colorscale": [
             [
              0,
              "#0d0887"
             ],
             [
              0.1111111111111111,
              "#46039f"
             ],
             [
              0.2222222222222222,
              "#7201a8"
             ],
             [
              0.3333333333333333,
              "#9c179e"
             ],
             [
              0.4444444444444444,
              "#bd3786"
             ],
             [
              0.5555555555555556,
              "#d8576b"
             ],
             [
              0.6666666666666666,
              "#ed7953"
             ],
             [
              0.7777777777777778,
              "#fb9f3a"
             ],
             [
              0.8888888888888888,
              "#fdca26"
             ],
             [
              1,
              "#f0f921"
             ]
            ],
            "type": "heatmapgl"
           }
          ],
          "histogram": [
           {
            "marker": {
             "pattern": {
              "fillmode": "overlay",
              "size": 10,
              "solidity": 0.2
             }
            },
            "type": "histogram"
           }
          ],
          "histogram2d": [
           {
            "colorbar": {
             "outlinewidth": 0,
             "ticks": ""
            },
            "colorscale": [
             [
              0,
              "#0d0887"
             ],
             [
              0.1111111111111111,
              "#46039f"
             ],
             [
              0.2222222222222222,
              "#7201a8"
             ],
             [
              0.3333333333333333,
              "#9c179e"
             ],
             [
              0.4444444444444444,
              "#bd3786"
             ],
             [
              0.5555555555555556,
              "#d8576b"
             ],
             [
              0.6666666666666666,
              "#ed7953"
             ],
             [
              0.7777777777777778,
              "#fb9f3a"
             ],
             [
              0.8888888888888888,
              "#fdca26"
             ],
             [
              1,
              "#f0f921"
             ]
            ],
            "type": "histogram2d"
           }
          ],
          "histogram2dcontour": [
           {
            "colorbar": {
             "outlinewidth": 0,
             "ticks": ""
            },
            "colorscale": [
             [
              0,
              "#0d0887"
             ],
             [
              0.1111111111111111,
              "#46039f"
             ],
             [
              0.2222222222222222,
              "#7201a8"
             ],
             [
              0.3333333333333333,
              "#9c179e"
             ],
             [
              0.4444444444444444,
              "#bd3786"
             ],
             [
              0.5555555555555556,
              "#d8576b"
             ],
             [
              0.6666666666666666,
              "#ed7953"
             ],
             [
              0.7777777777777778,
              "#fb9f3a"
             ],
             [
              0.8888888888888888,
              "#fdca26"
             ],
             [
              1,
              "#f0f921"
             ]
            ],
            "type": "histogram2dcontour"
           }
          ],
          "mesh3d": [
           {
            "colorbar": {
             "outlinewidth": 0,
             "ticks": ""
            },
            "type": "mesh3d"
           }
          ],
          "parcoords": [
           {
            "line": {
             "colorbar": {
              "outlinewidth": 0,
              "ticks": ""
             }
            },
            "type": "parcoords"
           }
          ],
          "pie": [
           {
            "automargin": true,
            "type": "pie"
           }
          ],
          "scatter": [
           {
            "fillpattern": {
             "fillmode": "overlay",
             "size": 10,
             "solidity": 0.2
            },
            "type": "scatter"
           }
          ],
          "scatter3d": [
           {
            "line": {
             "colorbar": {
              "outlinewidth": 0,
              "ticks": ""
             }
            },
            "marker": {
             "colorbar": {
              "outlinewidth": 0,
              "ticks": ""
             }
            },
            "type": "scatter3d"
           }
          ],
          "scattercarpet": [
           {
            "marker": {
             "colorbar": {
              "outlinewidth": 0,
              "ticks": ""
             }
            },
            "type": "scattercarpet"
           }
          ],
          "scattergeo": [
           {
            "marker": {
             "colorbar": {
              "outlinewidth": 0,
              "ticks": ""
             }
            },
            "type": "scattergeo"
           }
          ],
          "scattergl": [
           {
            "marker": {
             "colorbar": {
              "outlinewidth": 0,
              "ticks": ""
             }
            },
            "type": "scattergl"
           }
          ],
          "scattermapbox": [
           {
            "marker": {
             "colorbar": {
              "outlinewidth": 0,
              "ticks": ""
             }
            },
            "type": "scattermapbox"
           }
          ],
          "scatterpolar": [
           {
            "marker": {
             "colorbar": {
              "outlinewidth": 0,
              "ticks": ""
             }
            },
            "type": "scatterpolar"
           }
          ],
          "scatterpolargl": [
           {
            "marker": {
             "colorbar": {
              "outlinewidth": 0,
              "ticks": ""
             }
            },
            "type": "scatterpolargl"
           }
          ],
          "scatterternary": [
           {
            "marker": {
             "colorbar": {
              "outlinewidth": 0,
              "ticks": ""
             }
            },
            "type": "scatterternary"
           }
          ],
          "surface": [
           {
            "colorbar": {
             "outlinewidth": 0,
             "ticks": ""
            },
            "colorscale": [
             [
              0,
              "#0d0887"
             ],
             [
              0.1111111111111111,
              "#46039f"
             ],
             [
              0.2222222222222222,
              "#7201a8"
             ],
             [
              0.3333333333333333,
              "#9c179e"
             ],
             [
              0.4444444444444444,
              "#bd3786"
             ],
             [
              0.5555555555555556,
              "#d8576b"
             ],
             [
              0.6666666666666666,
              "#ed7953"
             ],
             [
              0.7777777777777778,
              "#fb9f3a"
             ],
             [
              0.8888888888888888,
              "#fdca26"
             ],
             [
              1,
              "#f0f921"
             ]
            ],
            "type": "surface"
           }
          ],
          "table": [
           {
            "cells": {
             "fill": {
              "color": "#EBF0F8"
             },
             "line": {
              "color": "white"
             }
            },
            "header": {
             "fill": {
              "color": "#C8D4E3"
             },
             "line": {
              "color": "white"
             }
            },
            "type": "table"
           }
          ]
         },
         "layout": {
          "annotationdefaults": {
           "arrowcolor": "#2a3f5f",
           "arrowhead": 0,
           "arrowwidth": 1
          },
          "autotypenumbers": "strict",
          "coloraxis": {
           "colorbar": {
            "outlinewidth": 0,
            "ticks": ""
           }
          },
          "colorscale": {
           "diverging": [
            [
             0,
             "#8e0152"
            ],
            [
             0.1,
             "#c51b7d"
            ],
            [
             0.2,
             "#de77ae"
            ],
            [
             0.3,
             "#f1b6da"
            ],
            [
             0.4,
             "#fde0ef"
            ],
            [
             0.5,
             "#f7f7f7"
            ],
            [
             0.6,
             "#e6f5d0"
            ],
            [
             0.7,
             "#b8e186"
            ],
            [
             0.8,
             "#7fbc41"
            ],
            [
             0.9,
             "#4d9221"
            ],
            [
             1,
             "#276419"
            ]
           ],
           "sequential": [
            [
             0,
             "#0d0887"
            ],
            [
             0.1111111111111111,
             "#46039f"
            ],
            [
             0.2222222222222222,
             "#7201a8"
            ],
            [
             0.3333333333333333,
             "#9c179e"
            ],
            [
             0.4444444444444444,
             "#bd3786"
            ],
            [
             0.5555555555555556,
             "#d8576b"
            ],
            [
             0.6666666666666666,
             "#ed7953"
            ],
            [
             0.7777777777777778,
             "#fb9f3a"
            ],
            [
             0.8888888888888888,
             "#fdca26"
            ],
            [
             1,
             "#f0f921"
            ]
           ],
           "sequentialminus": [
            [
             0,
             "#0d0887"
            ],
            [
             0.1111111111111111,
             "#46039f"
            ],
            [
             0.2222222222222222,
             "#7201a8"
            ],
            [
             0.3333333333333333,
             "#9c179e"
            ],
            [
             0.4444444444444444,
             "#bd3786"
            ],
            [
             0.5555555555555556,
             "#d8576b"
            ],
            [
             0.6666666666666666,
             "#ed7953"
            ],
            [
             0.7777777777777778,
             "#fb9f3a"
            ],
            [
             0.8888888888888888,
             "#fdca26"
            ],
            [
             1,
             "#f0f921"
            ]
           ]
          },
          "colorway": [
           "#636efa",
           "#EF553B",
           "#00cc96",
           "#ab63fa",
           "#FFA15A",
           "#19d3f3",
           "#FF6692",
           "#B6E880",
           "#FF97FF",
           "#FECB52"
          ],
          "font": {
           "color": "#2a3f5f"
          },
          "geo": {
           "bgcolor": "white",
           "lakecolor": "white",
           "landcolor": "#E5ECF6",
           "showlakes": true,
           "showland": true,
           "subunitcolor": "white"
          },
          "hoverlabel": {
           "align": "left"
          },
          "hovermode": "closest",
          "mapbox": {
           "style": "light"
          },
          "paper_bgcolor": "white",
          "plot_bgcolor": "#E5ECF6",
          "polar": {
           "angularaxis": {
            "gridcolor": "white",
            "linecolor": "white",
            "ticks": ""
           },
           "bgcolor": "#E5ECF6",
           "radialaxis": {
            "gridcolor": "white",
            "linecolor": "white",
            "ticks": ""
           }
          },
          "scene": {
           "xaxis": {
            "backgroundcolor": "#E5ECF6",
            "gridcolor": "white",
            "gridwidth": 2,
            "linecolor": "white",
            "showbackground": true,
            "ticks": "",
            "zerolinecolor": "white"
           },
           "yaxis": {
            "backgroundcolor": "#E5ECF6",
            "gridcolor": "white",
            "gridwidth": 2,
            "linecolor": "white",
            "showbackground": true,
            "ticks": "",
            "zerolinecolor": "white"
           },
           "zaxis": {
            "backgroundcolor": "#E5ECF6",
            "gridcolor": "white",
            "gridwidth": 2,
            "linecolor": "white",
            "showbackground": true,
            "ticks": "",
            "zerolinecolor": "white"
           }
          },
          "shapedefaults": {
           "line": {
            "color": "#2a3f5f"
           }
          },
          "ternary": {
           "aaxis": {
            "gridcolor": "white",
            "linecolor": "white",
            "ticks": ""
           },
           "baxis": {
            "gridcolor": "white",
            "linecolor": "white",
            "ticks": ""
           },
           "bgcolor": "#E5ECF6",
           "caxis": {
            "gridcolor": "white",
            "linecolor": "white",
            "ticks": ""
           }
          },
          "title": {
           "x": 0.05
          },
          "xaxis": {
           "automargin": true,
           "gridcolor": "white",
           "linecolor": "white",
           "ticks": "",
           "title": {
            "standoff": 15
           },
           "zerolinecolor": "white",
           "zerolinewidth": 2
          },
          "yaxis": {
           "automargin": true,
           "gridcolor": "white",
           "linecolor": "white",
           "ticks": "",
           "title": {
            "standoff": 15
           },
           "zerolinecolor": "white",
           "zerolinewidth": 2
          }
         }
        },
        "title": {
         "text": "Log P(S|D) (352 IDs)<br>tail width=30, main weight=0.7"
        },
        "width": 400,
        "xaxis": {
         "anchor": "y",
         "domain": [
          0,
          1
         ],
         "title": {
          "text": "Main width"
         },
         "type": "category"
        },
        "yaxis": {
         "anchor": "x",
         "domain": [
          0,
          1
         ],
         "title": {
          "text": "Laplace"
         },
         "type": "category"
        }
       }
      }
     },
     "metadata": {},
     "output_type": "display_data"
    }
   ],
   "source": [
    "# Plot heatmap with main width on x axis, tail width on y axis and log_p_S_given_D as the color, just use the first 3 main weights\n",
    "\n",
    "tail_width = 30\n",
    "main_weight = 0.7\n",
    "\n",
    "fig = make_subplots(1, 1)\n",
    "\n",
    "fig.add_trace(\n",
    "    go.Heatmap(z=df_10[\"log_p_S_given_D\"], x=df_10[\"main width\"], y=df_10[\"laplace\"]),\n",
    "    row=1,\n",
    "    col=1,\n",
    ")\n",
    "fig.update_xaxes(\n",
    "    type=\"category\",\n",
    "    row=1,\n",
    "    col=1,\n",
    "    title=\"Main width\",\n",
    ")\n",
    "\n",
    "fig.update_layout(\n",
    "    title=f\"Log P(S|D) ({len(IDs_10)} IDs)<br>tail width={tail_width}, main weight={main_weight}\",\n",
    "    yaxis_title=\"Laplace\",\n",
    "    # yaxis_type='log',\n",
    "    width=400,\n",
    "    height=250,\n",
    "    font_size=10,\n",
    ")\n",
    "# Recude font size of the subplot titles\n",
    "for annotation in fig[\"layout\"][\"annotations\"]:\n",
    "    annotation[\"font\"] = dict(size=14)\n",
    "# use the same color scale for all subplots\n",
    "fig.update_traces(\n",
    "    zmin=min(df_10.log_p_S_given_D[df_10.log_p_S_given_D != -np.inf]),\n",
    "    zmax=max(df_10.log_p_S_given_D),\n",
    "    colorbar=dict(title=\"log_p_S_given_D\"),\n",
    ")\n",
    "# X axis and y axis are categorical\n",
    "fig.update_yaxes(type=\"category\")\n",
    "\n",
    "fig.show()"
   ]
  },
  {
   "cell_type": "code",
   "execution_count": 165,
   "metadata": {},
   "outputs": [
    {
     "data": {
      "text/html": [
       "<div>\n",
       "<style scoped>\n",
       "    .dataframe tbody tr th:only-of-type {\n",
       "        vertical-align: middle;\n",
       "    }\n",
       "\n",
       "    .dataframe tbody tr th {\n",
       "        vertical-align: top;\n",
       "    }\n",
       "\n",
       "    .dataframe thead th {\n",
       "        text-align: right;\n",
       "    }\n",
       "</style>\n",
       "<table border=\"1\" class=\"dataframe\">\n",
       "  <thead>\n",
       "    <tr style=\"text-align: right;\">\n",
       "      <th></th>\n",
       "      <th>log_p_S_given_D</th>\n",
       "      <th>params</th>\n",
       "      <th>tail width</th>\n",
       "    </tr>\n",
       "  </thead>\n",
       "  <tbody>\n",
       "    <tr>\n",
       "      <th>0</th>\n",
       "      <td>-36042.082673</td>\n",
       "      <td>5</td>\n",
       "      <td>5</td>\n",
       "    </tr>\n",
       "    <tr>\n",
       "      <th>1</th>\n",
       "      <td>-36209.401707</td>\n",
       "      <td>15</td>\n",
       "      <td>15</td>\n",
       "    </tr>\n",
       "    <tr>\n",
       "      <th>2</th>\n",
       "      <td>-36285.573322</td>\n",
       "      <td>30</td>\n",
       "      <td>30</td>\n",
       "    </tr>\n",
       "  </tbody>\n",
       "</table>\n",
       "</div>"
      ],
      "text/plain": [
       "   log_p_S_given_D  params  tail width\n",
       "0    -36042.082673       5           5\n",
       "1    -36209.401707      15          15\n",
       "2    -36285.573322      30          30"
      ]
     },
     "execution_count": 165,
     "metadata": {},
     "output_type": "execute_result"
    }
   ],
   "source": [
    "mean = 1\n",
    "sigma_spike = 0.5\n",
    "weight_spike = 0.7\n",
    "sigma_tails = [5, 15, 30]\n",
    "laplace_main = True\n",
    "laplace_tail = True\n",
    "\n",
    "params = [5, 15, 30]\n",
    "labels = [\"tail width\"]\n",
    "\n",
    "df_3, IDs_3 = load_and_process_json(3, params, labels)\n",
    "df_3"
   ]
  },
  {
   "cell_type": "markdown",
   "metadata": {},
   "source": [
    "## Refine weights with best matching std_m, std_t"
   ]
  },
  {
   "cell_type": "code",
   "execution_count": 170,
   "metadata": {},
   "outputs": [],
   "source": [
    "mean = 1\n",
    "sigma_spike = 0.2\n",
    "weight_spike = [\n",
    "    0.59,\n",
    "    0.61,\n",
    "    0.64,\n",
    "    0.67,\n",
    "    0.7,\n",
    "    0.73,\n",
    "    0.76,\n",
    "    0.79,\n",
    "    0.81,\n",
    "    0.84,\n",
    "    0.87,\n",
    "    0.9,\n",
    "    0.93,\n",
    "    0.96,\n",
    "    0.99,\n",
    "]\n",
    "sigma_tail = 30\n",
    "laplace_main = False\n",
    "laplace_tail = False\n",
    "params = weight_spike\n",
    "labels = [\"main weight\"]\n",
    "\n",
    "df_15, IDs_15 = load_and_process_json(\"15_weights\", params, labels)"
   ]
  },
  {
   "cell_type": "code",
   "execution_count": 171,
   "metadata": {},
   "outputs": [
    {
     "data": {
      "text/html": [
       "<div>\n",
       "<style scoped>\n",
       "    .dataframe tbody tr th:only-of-type {\n",
       "        vertical-align: middle;\n",
       "    }\n",
       "\n",
       "    .dataframe tbody tr th {\n",
       "        vertical-align: top;\n",
       "    }\n",
       "\n",
       "    .dataframe thead th {\n",
       "        text-align: right;\n",
       "    }\n",
       "</style>\n",
       "<table border=\"1\" class=\"dataframe\">\n",
       "  <thead>\n",
       "    <tr style=\"text-align: right;\">\n",
       "      <th></th>\n",
       "      <th>log_p_S_given_D</th>\n",
       "      <th>params</th>\n",
       "      <th>main weight</th>\n",
       "    </tr>\n",
       "  </thead>\n",
       "  <tbody>\n",
       "    <tr>\n",
       "      <th>0</th>\n",
       "      <td>-60990.264178</td>\n",
       "      <td>0.59</td>\n",
       "      <td>0.59</td>\n",
       "    </tr>\n",
       "    <tr>\n",
       "      <th>1</th>\n",
       "      <td>-60959.335463</td>\n",
       "      <td>0.61</td>\n",
       "      <td>0.61</td>\n",
       "    </tr>\n",
       "    <tr>\n",
       "      <th>2</th>\n",
       "      <td>-60923.118143</td>\n",
       "      <td>0.64</td>\n",
       "      <td>0.64</td>\n",
       "    </tr>\n",
       "    <tr>\n",
       "      <th>3</th>\n",
       "      <td>-60898.706412</td>\n",
       "      <td>0.67</td>\n",
       "      <td>0.67</td>\n",
       "    </tr>\n",
       "    <tr>\n",
       "      <th>4</th>\n",
       "      <td>-60885.942021</td>\n",
       "      <td>0.70</td>\n",
       "      <td>0.70</td>\n",
       "    </tr>\n",
       "    <tr>\n",
       "      <th>5</th>\n",
       "      <td>-60885.020931</td>\n",
       "      <td>0.73</td>\n",
       "      <td>0.73</td>\n",
       "    </tr>\n",
       "    <tr>\n",
       "      <th>6</th>\n",
       "      <td>-60896.567399</td>\n",
       "      <td>0.76</td>\n",
       "      <td>0.76</td>\n",
       "    </tr>\n",
       "    <tr>\n",
       "      <th>7</th>\n",
       "      <td>-60921.781768</td>\n",
       "      <td>0.79</td>\n",
       "      <td>0.79</td>\n",
       "    </tr>\n",
       "    <tr>\n",
       "      <th>8</th>\n",
       "      <td>-60947.152258</td>\n",
       "      <td>0.81</td>\n",
       "      <td>0.81</td>\n",
       "    </tr>\n",
       "    <tr>\n",
       "      <th>9</th>\n",
       "      <td>-61000.380502</td>\n",
       "      <td>0.84</td>\n",
       "      <td>0.84</td>\n",
       "    </tr>\n",
       "    <tr>\n",
       "      <th>10</th>\n",
       "      <td>-61076.419950</td>\n",
       "      <td>0.87</td>\n",
       "      <td>0.87</td>\n",
       "    </tr>\n",
       "    <tr>\n",
       "      <th>11</th>\n",
       "      <td>-61184.372120</td>\n",
       "      <td>0.90</td>\n",
       "      <td>0.90</td>\n",
       "    </tr>\n",
       "    <tr>\n",
       "      <th>12</th>\n",
       "      <td>-61343.156288</td>\n",
       "      <td>0.93</td>\n",
       "      <td>0.93</td>\n",
       "    </tr>\n",
       "    <tr>\n",
       "      <th>13</th>\n",
       "      <td>-61603.254648</td>\n",
       "      <td>0.96</td>\n",
       "      <td>0.96</td>\n",
       "    </tr>\n",
       "    <tr>\n",
       "      <th>14</th>\n",
       "      <td>-62235.149358</td>\n",
       "      <td>0.99</td>\n",
       "      <td>0.99</td>\n",
       "    </tr>\n",
       "  </tbody>\n",
       "</table>\n",
       "</div>"
      ],
      "text/plain": [
       "    log_p_S_given_D  params  main weight\n",
       "0     -60990.264178    0.59         0.59\n",
       "1     -60959.335463    0.61         0.61\n",
       "2     -60923.118143    0.64         0.64\n",
       "3     -60898.706412    0.67         0.67\n",
       "4     -60885.942021    0.70         0.70\n",
       "5     -60885.020931    0.73         0.73\n",
       "6     -60896.567399    0.76         0.76\n",
       "7     -60921.781768    0.79         0.79\n",
       "8     -60947.152258    0.81         0.81\n",
       "9     -61000.380502    0.84         0.84\n",
       "10    -61076.419950    0.87         0.87\n",
       "11    -61184.372120    0.90         0.90\n",
       "12    -61343.156288    0.93         0.93\n",
       "13    -61603.254648    0.96         0.96\n",
       "14    -62235.149358    0.99         0.99"
      ]
     },
     "execution_count": 171,
     "metadata": {},
     "output_type": "execute_result"
    }
   ],
   "source": [
    "df_15"
   ]
  },
  {
   "cell_type": "code",
   "execution_count": null,
   "metadata": {},
   "outputs": [],
   "source": [
    "# Plot heatmap with main width on x axis, tail width on y axis and log_p_S_given_D as the color, just use the first 3 main weights\n",
    "\n",
    "main_width = 5\n",
    "main_weight = 0.7\n",
    "\n",
    "fig = make_subplots(1, 1)\n",
    "\n",
    "fig.add_trace(\n",
    "    go.Heatmap(z=df_3[\"log_p_S_given_D\"], x=df_3[\"tail width\"], y=df_3[\"laplace\"]),\n",
    "    row=1,\n",
    "    col=1,\n",
    ")\n",
    "fig.update_xaxes(\n",
    "    type=\"category\",\n",
    "    row=1,\n",
    "    col=1,\n",
    "    title=\"Tails width\",\n",
    ")\n",
    "\n",
    "fig.update_layout(\n",
    "    title=f\"Log P(S|D) ({len(IDs_10)} IDs)<br>main width={main_width}, main weight={main_weight}, all laplace\",\n",
    "    # yaxis_title=\"Laplace\",\n",
    "    # yaxis_type='log',\n",
    "    width=400,\n",
    "    height=200,\n",
    "    font_size=10,\n",
    ")\n",
    "# Recude font size of the subplot titles\n",
    "for annotation in fig[\"layout\"][\"annotations\"]:\n",
    "    annotation[\"font\"] = dict(size=14)\n",
    "# use the same color scale for all subplots\n",
    "fig.update_traces(\n",
    "    zmin=min(df_3.log_p_S_given_D[df_3.log_p_S_given_D != -np.inf]),\n",
    "    zmax=max(df_3.log_p_S_given_D),\n",
    "    colorbar=dict(title=\"log_p_S_given_D\"),\n",
    ")\n",
    "# X axis and y axis are categorical\n",
    "fig.update_yaxes(type=\"category\")\n",
    "\n",
    "fig.show()"
   ]
  },
  {
   "cell_type": "markdown",
   "metadata": {},
   "source": [
    "## Weight 0.73"
   ]
  },
  {
   "cell_type": "code",
   "execution_count": 172,
   "metadata": {},
   "outputs": [],
   "source": [
    "# Refine main width\n",
    "\n",
    "mean = 1\n",
    "sigma_spike = [0.1, 0.2, 0.3, 0.4, 0.5, 0.6, 0.7, 0.8, 0.9]\n",
    "weight_spike = 0.73\n",
    "sigma_tail = 30\n",
    "laplace_main = False\n",
    "laplace_tail = False\n",
    "params = sigma_spike\n",
    "labels = [\"main std\"]\n",
    "\n",
    "df_9, IDs_9 = load_and_process_json(\"9_stdmain\", params, labels)"
   ]
  },
  {
   "cell_type": "code",
   "execution_count": 173,
   "metadata": {},
   "outputs": [
    {
     "data": {
      "text/html": [
       "<div>\n",
       "<style scoped>\n",
       "    .dataframe tbody tr th:only-of-type {\n",
       "        vertical-align: middle;\n",
       "    }\n",
       "\n",
       "    .dataframe tbody tr th {\n",
       "        vertical-align: top;\n",
       "    }\n",
       "\n",
       "    .dataframe thead th {\n",
       "        text-align: right;\n",
       "    }\n",
       "</style>\n",
       "<table border=\"1\" class=\"dataframe\">\n",
       "  <thead>\n",
       "    <tr style=\"text-align: right;\">\n",
       "      <th></th>\n",
       "      <th>log_p_S_given_D</th>\n",
       "      <th>params</th>\n",
       "      <th>main std</th>\n",
       "    </tr>\n",
       "  </thead>\n",
       "  <tbody>\n",
       "    <tr>\n",
       "      <th>0</th>\n",
       "      <td>-61008.903745</td>\n",
       "      <td>0.1</td>\n",
       "      <td>0.1</td>\n",
       "    </tr>\n",
       "    <tr>\n",
       "      <th>1</th>\n",
       "      <td>-60885.020931</td>\n",
       "      <td>0.2</td>\n",
       "      <td>0.2</td>\n",
       "    </tr>\n",
       "    <tr>\n",
       "      <th>2</th>\n",
       "      <td>-60919.984541</td>\n",
       "      <td>0.3</td>\n",
       "      <td>0.3</td>\n",
       "    </tr>\n",
       "    <tr>\n",
       "      <th>3</th>\n",
       "      <td>-61017.486311</td>\n",
       "      <td>0.4</td>\n",
       "      <td>0.4</td>\n",
       "    </tr>\n",
       "    <tr>\n",
       "      <th>4</th>\n",
       "      <td>-61142.310770</td>\n",
       "      <td>0.5</td>\n",
       "      <td>0.5</td>\n",
       "    </tr>\n",
       "    <tr>\n",
       "      <th>5</th>\n",
       "      <td>-61260.143180</td>\n",
       "      <td>0.6</td>\n",
       "      <td>0.6</td>\n",
       "    </tr>\n",
       "    <tr>\n",
       "      <th>6</th>\n",
       "      <td>-61372.719100</td>\n",
       "      <td>0.7</td>\n",
       "      <td>0.7</td>\n",
       "    </tr>\n",
       "    <tr>\n",
       "      <th>7</th>\n",
       "      <td>-61521.470012</td>\n",
       "      <td>0.8</td>\n",
       "      <td>0.8</td>\n",
       "    </tr>\n",
       "    <tr>\n",
       "      <th>8</th>\n",
       "      <td>-61708.376343</td>\n",
       "      <td>0.9</td>\n",
       "      <td>0.9</td>\n",
       "    </tr>\n",
       "  </tbody>\n",
       "</table>\n",
       "</div>"
      ],
      "text/plain": [
       "   log_p_S_given_D  params  main std\n",
       "0    -61008.903745     0.1       0.1\n",
       "1    -60885.020931     0.2       0.2\n",
       "2    -60919.984541     0.3       0.3\n",
       "3    -61017.486311     0.4       0.4\n",
       "4    -61142.310770     0.5       0.5\n",
       "5    -61260.143180     0.6       0.6\n",
       "6    -61372.719100     0.7       0.7\n",
       "7    -61521.470012     0.8       0.8\n",
       "8    -61708.376343     0.9       0.9"
      ]
     },
     "execution_count": 173,
     "metadata": {},
     "output_type": "execute_result"
    }
   ],
   "source": [
    "df_9"
   ]
  },
  {
   "cell_type": "markdown",
   "metadata": {},
   "source": [
    "## Weight 0.73, main std 0.2"
   ]
  },
  {
   "cell_type": "code",
   "execution_count": 178,
   "metadata": {},
   "outputs": [
    {
     "name": "stdout",
     "output_type": "stream",
     "text": [
      "15\n"
     ]
    }
   ],
   "source": [
    "mean = 1\n",
    "sigma_spike = 0.2\n",
    "weight_spike = 0.73\n",
    "sigma_tail = [1, 5, 10, 15, 20, 25, 30, 35, 40, 45, 50, 55, 60, 65, 70]\n",
    "laplace_main = False\n",
    "laplace_tail = False\n",
    "params = sigma_tail\n",
    "print(len(params))\n",
    "\n",
    "df_tail, IDs_tail = load_and_process_json(\"15_stdtail\", params, labels)"
   ]
  },
  {
   "cell_type": "code",
   "execution_count": null,
   "metadata": {},
   "outputs": [],
   "source": []
  }
 ],
 "metadata": {
  "kernelspec": {
   "display_name": "phd",
   "language": "python",
   "name": "python3"
  },
  "language_info": {
   "codemirror_mode": {
    "name": "ipython",
    "version": 3
   },
   "file_extension": ".py",
   "mimetype": "text/x-python",
   "name": "python",
   "nbconvert_exporter": "python",
   "pygments_lexer": "ipython3",
   "version": "3.10.13"
  }
 },
 "nbformat": 4,
 "nbformat_minor": 2
}
