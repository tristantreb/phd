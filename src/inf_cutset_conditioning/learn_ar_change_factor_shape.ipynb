{
 "cells": [
  {
   "cell_type": "code",
   "execution_count": 1,
   "metadata": {},
   "outputs": [],
   "source": [
    "import numpy as np\n",
    "import pandas as pd\n",
    "from plotly.subplots import make_subplots\n",
    "import plotly.graph_objects as go\n",
    "\n",
    "import src.data.breathe_data as bd\n",
    "import src.data.helpers as dh\n",
    "import src.inference.helpers as ih\n",
    "import src.modelling_ar.ar as ar\n",
    "import src.inf_cutset_conditioning.helpers as cutseth\n",
    "import src.inf_cutset_conditioning.cutset_cond_algs_learn_ar_change as cca_ar_change\n",
    "import src.models.helpers as mh\n",
    "\n",
    "import json\n",
    "import numpy as np"
   ]
  },
  {
   "cell_type": "code",
   "execution_count": 31,
   "metadata": {},
   "outputs": [
    {
     "name": "stderr",
     "output_type": "stream",
     "text": [
      "INFO:root:* Checking for same day measurements *\n"
     ]
    }
   ],
   "source": [
    "# Load data\n",
    "df = bd.load_meas_from_excel(\"BR_O2_FEV1_FEF2575_conservative_smoothing_with_idx\")"
   ]
  },
  {
   "cell_type": "code",
   "execution_count": 3,
   "metadata": {},
   "outputs": [
    {
     "name": "stdout",
     "output_type": "stream",
     "text": [
      "Warning - min_possible_hfev1_under_model: 6\n",
      "134 - Time for 18 entries: 728.41 s\n"
     ]
    }
   ],
   "source": [
    "id = \"134\"\n",
    "dftmp, start_idx, end_idx = dh.find_longest_consec_series(df[df.ID == id], n_days=3)\n",
    "\n",
    "\n",
    "ecfev1_noise_model_suffix = \"_std_add_mult_fev1\"\n",
    "ar_prior = \"breathe (2 days model, ecFEV1 addmultnoise, ecFEF25-75)\"\n",
    "ar_change_cpt_suffix = \"_shape_factor1\"\n",
    "\n",
    "(\n",
    "    # p_M_given_D,\n",
    "    # log_p_D_given_M,\n",
    "    # AR_given_M_and_D,\n",
    "    # AR_given_M_and_all_D,\n",
    "    log_p_S_given_D,\n",
    "    res_dict,\n",
    ") = cca_ar_change.run_long_noise_model_through_time(\n",
    "    dftmp,\n",
    "    ar_prior=ar_prior,\n",
    "    ar_change_cpt_suffix=ar_change_cpt_suffix,\n",
    "    ecfev1_noise_model_suffix=ecfev1_noise_model_suffix,\n",
    ")"
   ]
  },
  {
   "cell_type": "markdown",
   "metadata": {},
   "source": [
    "## Process results"
   ]
  },
  {
   "cell_type": "code",
   "execution_count": 61,
   "metadata": {},
   "outputs": [],
   "source": [
    "path = f\"{dh.get_path_to_src()}inf_cutset_conditioning/p_s_given_d_1.json\"\n",
    "\n",
    "# Load the JSON file\n",
    "with open(path, \"r\") as file:\n",
    "    data = json.load(file)\n",
    "\n",
    "# Convert lists to NumPy arrays\n",
    "for key in data:\n",
    "    data[key] = np.array(data[key])\n",
    "\n",
    "# Replace 'nan' with np.nan and \"-inf\" with -np.inf\n",
    "for key in data:\n",
    "    data[key][np.where(data[key] == \"-inf\")] = -np.inf\n",
    "\n",
    "# REmove dtypes from data\n",
    "data = {key: data[key].astype(float) for key in data}\n",
    "\n",
    "# Remove entries with only nan values\n",
    "data = {key: data[key] for key in data if not np.all(np.isnan(data[key]))}"
   ]
  },
  {
   "cell_type": "code",
   "execution_count": 70,
   "metadata": {},
   "outputs": [
    {
     "data": {
      "text/plain": [
       "array([-48962.13867207, -47189.60388391, -45881.19938921, -49764.57708978,\n",
       "       -47511.76244048, -46008.50020359, -49409.69140965, -47172.9437243 ,\n",
       "       -45812.26959697, -50750.66263521, -49485.21408381, -48454.56480863,\n",
       "       -52036.6780729 , -50105.14001467, -48713.58027852, -51927.4812987 ,\n",
       "       -49875.91232378, -48542.7686145 , -51936.06988512, -51156.01391021,\n",
       "       -50469.61634538,            -inf, -52103.42447276, -50918.05915286,\n",
       "                  -inf, -52039.12813598, -50824.6713664 ])"
      ]
     },
     "execution_count": 70,
     "metadata": {},
     "output_type": "execute_result"
    }
   ],
   "source": [
    "# Element wise addition of the values in data\n",
    "log_p_s_given_D = np.sum(list(data.values()), axis=0)\n",
    "log_p_s_given_D"
   ]
  },
  {
   "cell_type": "code",
   "execution_count": 128,
   "metadata": {},
   "outputs": [
    {
     "data": {
      "application/vnd.plotly.v1+json": {
       "config": {
        "plotlyServerURL": "https://plot.ly"
       },
       "data": [
        {
         "colorbar": {
          "title": {
           "text": "log_p_S_given_D"
          }
         },
         "type": "heatmap",
         "x": [
          2,
          2,
          2,
          5,
          5,
          5,
          8,
          8,
          8
         ],
         "xaxis": "x",
         "y": [
          15,
          30,
          50,
          15,
          30,
          50,
          15,
          30,
          50
         ],
         "yaxis": "y",
         "z": [
          -48962.13867207004,
          -49764.57708978,
          -49409.691409650004,
          -50750.66263521,
          -52036.67807290001,
          -51927.48129869999,
          -51936.06988512001,
          null,
          null
         ],
         "zmax": -45812.26959696996,
         "zmin": -52103.424472760016
        },
        {
         "colorbar": {
          "title": {
           "text": "log_p_S_given_D"
          }
         },
         "type": "heatmap",
         "x": [
          2,
          2,
          2,
          5,
          5,
          5,
          8,
          8,
          8
         ],
         "xaxis": "x2",
         "y": [
          15,
          30,
          50,
          15,
          30,
          50,
          15,
          30,
          50
         ],
         "yaxis": "y2",
         "z": [
          -47189.603883909986,
          -47511.76244047999,
          -47172.94372430004,
          -49485.21408381,
          -50105.14001467004,
          -49875.91232377999,
          -51156.01391021004,
          -52103.424472760016,
          -52039.12813598004
         ],
         "zmax": -45812.26959696996,
         "zmin": -52103.424472760016
        },
        {
         "colorbar": {
          "title": {
           "text": "log_p_S_given_D"
          }
         },
         "type": "heatmap",
         "x": [
          2,
          2,
          2,
          5,
          5,
          5,
          8,
          8,
          8
         ],
         "xaxis": "x3",
         "y": [
          15,
          30,
          50,
          15,
          30,
          50,
          15,
          30,
          50
         ],
         "yaxis": "y3",
         "z": [
          -45881.19938921005,
          -46008.50020359003,
          -45812.26959696996,
          -48454.56480863002,
          -48713.58027852001,
          -48542.76861450006,
          -50469.61634538005,
          -50918.05915286003,
          -50824.67136640001
         ],
         "zmax": -45812.26959696996,
         "zmin": -52103.424472760016
        }
       ],
       "layout": {
        "font": {
         "size": 10
        },
        "height": 300,
        "template": {
         "data": {
          "bar": [
           {
            "error_x": {
             "color": "#2a3f5f"
            },
            "error_y": {
             "color": "#2a3f5f"
            },
            "marker": {
             "line": {
              "color": "#E5ECF6",
              "width": 0.5
             },
             "pattern": {
              "fillmode": "overlay",
              "size": 10,
              "solidity": 0.2
             }
            },
            "type": "bar"
           }
          ],
          "barpolar": [
           {
            "marker": {
             "line": {
              "color": "#E5ECF6",
              "width": 0.5
             },
             "pattern": {
              "fillmode": "overlay",
              "size": 10,
              "solidity": 0.2
             }
            },
            "type": "barpolar"
           }
          ],
          "carpet": [
           {
            "aaxis": {
             "endlinecolor": "#2a3f5f",
             "gridcolor": "white",
             "linecolor": "white",
             "minorgridcolor": "white",
             "startlinecolor": "#2a3f5f"
            },
            "baxis": {
             "endlinecolor": "#2a3f5f",
             "gridcolor": "white",
             "linecolor": "white",
             "minorgridcolor": "white",
             "startlinecolor": "#2a3f5f"
            },
            "type": "carpet"
           }
          ],
          "choropleth": [
           {
            "colorbar": {
             "outlinewidth": 0,
             "ticks": ""
            },
            "type": "choropleth"
           }
          ],
          "contour": [
           {
            "colorbar": {
             "outlinewidth": 0,
             "ticks": ""
            },
            "colorscale": [
             [
              0,
              "#0d0887"
             ],
             [
              0.1111111111111111,
              "#46039f"
             ],
             [
              0.2222222222222222,
              "#7201a8"
             ],
             [
              0.3333333333333333,
              "#9c179e"
             ],
             [
              0.4444444444444444,
              "#bd3786"
             ],
             [
              0.5555555555555556,
              "#d8576b"
             ],
             [
              0.6666666666666666,
              "#ed7953"
             ],
             [
              0.7777777777777778,
              "#fb9f3a"
             ],
             [
              0.8888888888888888,
              "#fdca26"
             ],
             [
              1,
              "#f0f921"
             ]
            ],
            "type": "contour"
           }
          ],
          "contourcarpet": [
           {
            "colorbar": {
             "outlinewidth": 0,
             "ticks": ""
            },
            "type": "contourcarpet"
           }
          ],
          "heatmap": [
           {
            "colorbar": {
             "outlinewidth": 0,
             "ticks": ""
            },
            "colorscale": [
             [
              0,
              "#0d0887"
             ],
             [
              0.1111111111111111,
              "#46039f"
             ],
             [
              0.2222222222222222,
              "#7201a8"
             ],
             [
              0.3333333333333333,
              "#9c179e"
             ],
             [
              0.4444444444444444,
              "#bd3786"
             ],
             [
              0.5555555555555556,
              "#d8576b"
             ],
             [
              0.6666666666666666,
              "#ed7953"
             ],
             [
              0.7777777777777778,
              "#fb9f3a"
             ],
             [
              0.8888888888888888,
              "#fdca26"
             ],
             [
              1,
              "#f0f921"
             ]
            ],
            "type": "heatmap"
           }
          ],
          "heatmapgl": [
           {
            "colorbar": {
             "outlinewidth": 0,
             "ticks": ""
            },
            "colorscale": [
             [
              0,
              "#0d0887"
             ],
             [
              0.1111111111111111,
              "#46039f"
             ],
             [
              0.2222222222222222,
              "#7201a8"
             ],
             [
              0.3333333333333333,
              "#9c179e"
             ],
             [
              0.4444444444444444,
              "#bd3786"
             ],
             [
              0.5555555555555556,
              "#d8576b"
             ],
             [
              0.6666666666666666,
              "#ed7953"
             ],
             [
              0.7777777777777778,
              "#fb9f3a"
             ],
             [
              0.8888888888888888,
              "#fdca26"
             ],
             [
              1,
              "#f0f921"
             ]
            ],
            "type": "heatmapgl"
           }
          ],
          "histogram": [
           {
            "marker": {
             "pattern": {
              "fillmode": "overlay",
              "size": 10,
              "solidity": 0.2
             }
            },
            "type": "histogram"
           }
          ],
          "histogram2d": [
           {
            "colorbar": {
             "outlinewidth": 0,
             "ticks": ""
            },
            "colorscale": [
             [
              0,
              "#0d0887"
             ],
             [
              0.1111111111111111,
              "#46039f"
             ],
             [
              0.2222222222222222,
              "#7201a8"
             ],
             [
              0.3333333333333333,
              "#9c179e"
             ],
             [
              0.4444444444444444,
              "#bd3786"
             ],
             [
              0.5555555555555556,
              "#d8576b"
             ],
             [
              0.6666666666666666,
              "#ed7953"
             ],
             [
              0.7777777777777778,
              "#fb9f3a"
             ],
             [
              0.8888888888888888,
              "#fdca26"
             ],
             [
              1,
              "#f0f921"
             ]
            ],
            "type": "histogram2d"
           }
          ],
          "histogram2dcontour": [
           {
            "colorbar": {
             "outlinewidth": 0,
             "ticks": ""
            },
            "colorscale": [
             [
              0,
              "#0d0887"
             ],
             [
              0.1111111111111111,
              "#46039f"
             ],
             [
              0.2222222222222222,
              "#7201a8"
             ],
             [
              0.3333333333333333,
              "#9c179e"
             ],
             [
              0.4444444444444444,
              "#bd3786"
             ],
             [
              0.5555555555555556,
              "#d8576b"
             ],
             [
              0.6666666666666666,
              "#ed7953"
             ],
             [
              0.7777777777777778,
              "#fb9f3a"
             ],
             [
              0.8888888888888888,
              "#fdca26"
             ],
             [
              1,
              "#f0f921"
             ]
            ],
            "type": "histogram2dcontour"
           }
          ],
          "mesh3d": [
           {
            "colorbar": {
             "outlinewidth": 0,
             "ticks": ""
            },
            "type": "mesh3d"
           }
          ],
          "parcoords": [
           {
            "line": {
             "colorbar": {
              "outlinewidth": 0,
              "ticks": ""
             }
            },
            "type": "parcoords"
           }
          ],
          "pie": [
           {
            "automargin": true,
            "type": "pie"
           }
          ],
          "scatter": [
           {
            "fillpattern": {
             "fillmode": "overlay",
             "size": 10,
             "solidity": 0.2
            },
            "type": "scatter"
           }
          ],
          "scatter3d": [
           {
            "line": {
             "colorbar": {
              "outlinewidth": 0,
              "ticks": ""
             }
            },
            "marker": {
             "colorbar": {
              "outlinewidth": 0,
              "ticks": ""
             }
            },
            "type": "scatter3d"
           }
          ],
          "scattercarpet": [
           {
            "marker": {
             "colorbar": {
              "outlinewidth": 0,
              "ticks": ""
             }
            },
            "type": "scattercarpet"
           }
          ],
          "scattergeo": [
           {
            "marker": {
             "colorbar": {
              "outlinewidth": 0,
              "ticks": ""
             }
            },
            "type": "scattergeo"
           }
          ],
          "scattergl": [
           {
            "marker": {
             "colorbar": {
              "outlinewidth": 0,
              "ticks": ""
             }
            },
            "type": "scattergl"
           }
          ],
          "scattermapbox": [
           {
            "marker": {
             "colorbar": {
              "outlinewidth": 0,
              "ticks": ""
             }
            },
            "type": "scattermapbox"
           }
          ],
          "scatterpolar": [
           {
            "marker": {
             "colorbar": {
              "outlinewidth": 0,
              "ticks": ""
             }
            },
            "type": "scatterpolar"
           }
          ],
          "scatterpolargl": [
           {
            "marker": {
             "colorbar": {
              "outlinewidth": 0,
              "ticks": ""
             }
            },
            "type": "scatterpolargl"
           }
          ],
          "scatterternary": [
           {
            "marker": {
             "colorbar": {
              "outlinewidth": 0,
              "ticks": ""
             }
            },
            "type": "scatterternary"
           }
          ],
          "surface": [
           {
            "colorbar": {
             "outlinewidth": 0,
             "ticks": ""
            },
            "colorscale": [
             [
              0,
              "#0d0887"
             ],
             [
              0.1111111111111111,
              "#46039f"
             ],
             [
              0.2222222222222222,
              "#7201a8"
             ],
             [
              0.3333333333333333,
              "#9c179e"
             ],
             [
              0.4444444444444444,
              "#bd3786"
             ],
             [
              0.5555555555555556,
              "#d8576b"
             ],
             [
              0.6666666666666666,
              "#ed7953"
             ],
             [
              0.7777777777777778,
              "#fb9f3a"
             ],
             [
              0.8888888888888888,
              "#fdca26"
             ],
             [
              1,
              "#f0f921"
             ]
            ],
            "type": "surface"
           }
          ],
          "table": [
           {
            "cells": {
             "fill": {
              "color": "#EBF0F8"
             },
             "line": {
              "color": "white"
             }
            },
            "header": {
             "fill": {
              "color": "#C8D4E3"
             },
             "line": {
              "color": "white"
             }
            },
            "type": "table"
           }
          ]
         },
         "layout": {
          "annotationdefaults": {
           "arrowcolor": "#2a3f5f",
           "arrowhead": 0,
           "arrowwidth": 1
          },
          "autotypenumbers": "strict",
          "coloraxis": {
           "colorbar": {
            "outlinewidth": 0,
            "ticks": ""
           }
          },
          "colorscale": {
           "diverging": [
            [
             0,
             "#8e0152"
            ],
            [
             0.1,
             "#c51b7d"
            ],
            [
             0.2,
             "#de77ae"
            ],
            [
             0.3,
             "#f1b6da"
            ],
            [
             0.4,
             "#fde0ef"
            ],
            [
             0.5,
             "#f7f7f7"
            ],
            [
             0.6,
             "#e6f5d0"
            ],
            [
             0.7,
             "#b8e186"
            ],
            [
             0.8,
             "#7fbc41"
            ],
            [
             0.9,
             "#4d9221"
            ],
            [
             1,
             "#276419"
            ]
           ],
           "sequential": [
            [
             0,
             "#0d0887"
            ],
            [
             0.1111111111111111,
             "#46039f"
            ],
            [
             0.2222222222222222,
             "#7201a8"
            ],
            [
             0.3333333333333333,
             "#9c179e"
            ],
            [
             0.4444444444444444,
             "#bd3786"
            ],
            [
             0.5555555555555556,
             "#d8576b"
            ],
            [
             0.6666666666666666,
             "#ed7953"
            ],
            [
             0.7777777777777778,
             "#fb9f3a"
            ],
            [
             0.8888888888888888,
             "#fdca26"
            ],
            [
             1,
             "#f0f921"
            ]
           ],
           "sequentialminus": [
            [
             0,
             "#0d0887"
            ],
            [
             0.1111111111111111,
             "#46039f"
            ],
            [
             0.2222222222222222,
             "#7201a8"
            ],
            [
             0.3333333333333333,
             "#9c179e"
            ],
            [
             0.4444444444444444,
             "#bd3786"
            ],
            [
             0.5555555555555556,
             "#d8576b"
            ],
            [
             0.6666666666666666,
             "#ed7953"
            ],
            [
             0.7777777777777778,
             "#fb9f3a"
            ],
            [
             0.8888888888888888,
             "#fdca26"
            ],
            [
             1,
             "#f0f921"
            ]
           ]
          },
          "colorway": [
           "#636efa",
           "#EF553B",
           "#00cc96",
           "#ab63fa",
           "#FFA15A",
           "#19d3f3",
           "#FF6692",
           "#B6E880",
           "#FF97FF",
           "#FECB52"
          ],
          "font": {
           "color": "#2a3f5f"
          },
          "geo": {
           "bgcolor": "white",
           "lakecolor": "white",
           "landcolor": "#E5ECF6",
           "showlakes": true,
           "showland": true,
           "subunitcolor": "white"
          },
          "hoverlabel": {
           "align": "left"
          },
          "hovermode": "closest",
          "mapbox": {
           "style": "light"
          },
          "paper_bgcolor": "white",
          "plot_bgcolor": "#E5ECF6",
          "polar": {
           "angularaxis": {
            "gridcolor": "white",
            "linecolor": "white",
            "ticks": ""
           },
           "bgcolor": "#E5ECF6",
           "radialaxis": {
            "gridcolor": "white",
            "linecolor": "white",
            "ticks": ""
           }
          },
          "scene": {
           "xaxis": {
            "backgroundcolor": "#E5ECF6",
            "gridcolor": "white",
            "gridwidth": 2,
            "linecolor": "white",
            "showbackground": true,
            "ticks": "",
            "zerolinecolor": "white"
           },
           "yaxis": {
            "backgroundcolor": "#E5ECF6",
            "gridcolor": "white",
            "gridwidth": 2,
            "linecolor": "white",
            "showbackground": true,
            "ticks": "",
            "zerolinecolor": "white"
           },
           "zaxis": {
            "backgroundcolor": "#E5ECF6",
            "gridcolor": "white",
            "gridwidth": 2,
            "linecolor": "white",
            "showbackground": true,
            "ticks": "",
            "zerolinecolor": "white"
           }
          },
          "shapedefaults": {
           "line": {
            "color": "#2a3f5f"
           }
          },
          "ternary": {
           "aaxis": {
            "gridcolor": "white",
            "linecolor": "white",
            "ticks": ""
           },
           "baxis": {
            "gridcolor": "white",
            "linecolor": "white",
            "ticks": ""
           },
           "bgcolor": "#E5ECF6",
           "caxis": {
            "gridcolor": "white",
            "linecolor": "white",
            "ticks": ""
           }
          },
          "title": {
           "x": 0.05
          },
          "xaxis": {
           "automargin": true,
           "gridcolor": "white",
           "linecolor": "white",
           "ticks": "",
           "title": {
            "standoff": 15
           },
           "zerolinecolor": "white",
           "zerolinewidth": 2
          },
          "yaxis": {
           "automargin": true,
           "gridcolor": "white",
           "linecolor": "white",
           "ticks": "",
           "title": {
            "standoff": 15
           },
           "zerolinecolor": "white",
           "zerolinewidth": 2
          }
         }
        },
        "title": {
         "text": "Log probability of S given D for different AR change parameters (306 IDs)"
        },
        "width": 650,
        "xaxis": {
         "anchor": "y",
         "domain": [
          0,
          0.2888888888888889
         ],
         "title": {
          "text": "Main width<br><br>Main weight=0.3"
         },
         "type": "category"
        },
        "xaxis2": {
         "anchor": "y2",
         "domain": [
          0.35555555555555557,
          0.6444444444444445
         ],
         "title": {
          "text": "Main width<br><br>Main weight=0.5"
         },
         "type": "category"
        },
        "xaxis3": {
         "anchor": "y3",
         "domain": [
          0.7111111111111111,
          1
         ],
         "title": {
          "text": "Main width<br><br>Main weight=0.7"
         },
         "type": "category"
        },
        "yaxis": {
         "anchor": "x",
         "domain": [
          0,
          1
         ],
         "title": {
          "text": "Tail width"
         },
         "type": "category"
        },
        "yaxis2": {
         "anchor": "x2",
         "domain": [
          0,
          1
         ],
         "type": "category"
        },
        "yaxis3": {
         "anchor": "x3",
         "domain": [
          0,
          1
         ],
         "type": "category"
        }
       }
      }
     },
     "metadata": {},
     "output_type": "display_data"
    }
   ],
   "source": [
    "params = [\n",
    "    (2, 15, 0.3),\n",
    "    (2, 15, 0.5),\n",
    "    (2, 15, 0.7),\n",
    "    (2, 30, 0.3),\n",
    "    (2, 30, 0.5),\n",
    "    (2, 30, 0.7),\n",
    "    (2, 50, 0.3),\n",
    "    (2, 50, 0.5),\n",
    "    (2, 50, 0.7),\n",
    "    (5, 15, 0.3),\n",
    "    (5, 15, 0.5),\n",
    "    (5, 15, 0.7),\n",
    "    (5, 30, 0.3),\n",
    "    (5, 30, 0.5),\n",
    "    (5, 30, 0.7),\n",
    "    (5, 50, 0.3),\n",
    "    (5, 50, 0.5),\n",
    "    (5, 50, 0.7),\n",
    "    (8, 15, 0.3),\n",
    "    (8, 15, 0.5),\n",
    "    (8, 15, 0.7),\n",
    "    (8, 30, 0.3),\n",
    "    (8, 30, 0.5),\n",
    "    (8, 30, 0.7),\n",
    "    (8, 50, 0.3),\n",
    "    (8, 50, 0.5),\n",
    "    (8, 50, 0.7),\n",
    "]\n",
    "\n",
    "df_heatmap = pd.DataFrame(\n",
    "    columns=[\"log_p_S_given_D\", \"params\"], data=zip(log_p_s_given_D, params)\n",
    ")\n",
    "# Split params into three columns \"main width\", \"tail width\", \"main weight\"\n",
    "df_heatmap[[\"main width\", \"tail width\", \"main weight\"]] = pd.DataFrame(\n",
    "    df_heatmap[\"params\"].tolist(), index=df_heatmap.index\n",
    ")\n",
    "\n",
    "# Plot heatmap with main width on x axis, tail width on y axis and log_p_S_given_D as the color, just use the first 3 main weights\n",
    "\n",
    "fig = make_subplots(1, 3)\n",
    "\n",
    "\n",
    "def add_heatmap_for_weight(df, weight, col):\n",
    "    df = df[df[\"main weight\"] == weight]\n",
    "    fig.add_trace(\n",
    "        go.Heatmap(z=df[\"log_p_S_given_D\"], x=df[\"main width\"], y=df[\"tail width\"]),\n",
    "        row=1,\n",
    "        col=col,\n",
    "    )\n",
    "    fig.update_xaxes(type=\"category\", row=1, col=col, title=\"Main width<br><br>Main weight=\" + str(weight))\n",
    "\n",
    "\n",
    "add_heatmap_for_weight(df_heatmap, 0.3, 1)\n",
    "add_heatmap_for_weight(df_heatmap, 0.5, 2)\n",
    "add_heatmap_for_weight(df_heatmap, 0.7, 3)\n",
    "\n",
    "fig.update_layout(\n",
    "    title=f\"Log probability of S given D for different AR change parameters ({len(data.keys())} IDs)\",\n",
    "    yaxis_title=\"Tail width\",\n",
    "    # yaxis_type='log',\n",
    "    width=650,\n",
    "    height=300,\n",
    "    font_size=10,\n",
    ")\n",
    "# Recude font size of the subplot titles\n",
    "for annotation in fig[\"layout\"][\"annotations\"]:\n",
    "    annotation[\"font\"] = dict(size=14)\n",
    "# use the same color scale for all subplots\n",
    "fig.update_traces(zmin=min(df_heatmap.log_p_S_given_D[df_heatmap.log_p_S_given_D != -np.inf]), zmax=max(df_heatmap.log_p_S_given_D), colorbar=dict(title=\"log_p_S_given_D\"))\n",
    "# X axis and y axis are categorical\n",
    "fig.update_yaxes(type=\"category\")\n",
    "\n",
    "fig.show()"
   ]
  },
  {
   "cell_type": "code",
   "execution_count": null,
   "metadata": {},
   "outputs": [],
   "source": [
    "# The weights is the most differentiating parameter, then main width. Tail width is a smaller effect, althought very important, and remains hidden\n",
    "# 0.7 weight\n",
    "# std 2 -> laplace would be better\n",
    "# tail width doesn't change. Go wider?\n",
    "\n",
    "# Since the tails is a secondary effet, let's find the rest first\n",
    "\n",
    "# 3 laplace\n",
    "# 3 gaussians"
   ]
  }
 ],
 "metadata": {
  "kernelspec": {
   "display_name": "phd",
   "language": "python",
   "name": "python3"
  },
  "language_info": {
   "codemirror_mode": {
    "name": "ipython",
    "version": 3
   },
   "file_extension": ".py",
   "mimetype": "text/x-python",
   "name": "python",
   "nbconvert_exporter": "python",
   "pygments_lexer": "ipython3",
   "version": "3.10.13"
  }
 },
 "nbformat": 4,
 "nbformat_minor": 2
}
