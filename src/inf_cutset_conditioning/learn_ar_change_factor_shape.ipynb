{
 "cells": [
  {
   "cell_type": "code",
   "execution_count": 1,
   "metadata": {},
   "outputs": [],
   "source": [
    "import numpy as np\n",
    "import pandas as pd\n",
    "from plotly.subplots import make_subplots\n",
    "import plotly.graph_objects as go\n",
    "\n",
    "import src.data.breathe_data as bd\n",
    "import src.data.helpers as dh\n",
    "import src.inference.helpers as ih\n",
    "import src.modelling_ar.ar as ar\n",
    "import src.inf_cutset_conditioning.helpers as cutseth\n",
    "import src.inf_cutset_conditioning.cutset_cond_algs_learn_ar_change as cca_ar_change\n",
    "import src.models.helpers as mh\n",
    "\n",
    "import json\n",
    "import numpy as np"
   ]
  },
  {
   "cell_type": "code",
   "execution_count": 31,
   "metadata": {},
   "outputs": [
    {
     "name": "stderr",
     "output_type": "stream",
     "text": [
      "INFO:root:* Checking for same day measurements *\n"
     ]
    }
   ],
   "source": [
    "# Load data\n",
    "df = bd.load_meas_from_excel(\"BR_O2_FEV1_FEF2575_conservative_smoothing_with_idx\")"
   ]
  },
  {
   "cell_type": "code",
   "execution_count": 3,
   "metadata": {},
   "outputs": [
    {
     "name": "stdout",
     "output_type": "stream",
     "text": [
      "Warning - min_possible_hfev1_under_model: 6\n",
      "134 - Time for 18 entries: 728.41 s\n"
     ]
    }
   ],
   "source": [
    "id = \"134\"\n",
    "dftmp, start_idx, end_idx = dh.find_longest_consec_series(df[df.ID == id], n_days=3)\n",
    "\n",
    "\n",
    "ecfev1_noise_model_suffix = \"_std_add_mult_fev1\"\n",
    "ar_prior = \"breathe (2 days model, ecFEV1 addmultnoise, ecFEF25-75)\"\n",
    "ar_change_cpt_suffix = \"_shape_factor1\"\n",
    "\n",
    "(\n",
    "    # p_M_given_D,\n",
    "    # log_p_D_given_M,\n",
    "    # AR_given_M_and_D,\n",
    "    # AR_given_M_and_all_D,\n",
    "    log_p_S_given_D,\n",
    "    res_dict,\n",
    ") = cca_ar_change.run_long_noise_model_through_time(\n",
    "    dftmp,\n",
    "    ar_prior=ar_prior,\n",
    "    ar_change_cpt_suffix=ar_change_cpt_suffix,\n",
    "    ecfev1_noise_model_suffix=ecfev1_noise_model_suffix,\n",
    ")"
   ]
  },
  {
   "cell_type": "markdown",
   "metadata": {},
   "source": [
    "## Process results"
   ]
  },
  {
   "cell_type": "code",
   "execution_count": 147,
   "metadata": {},
   "outputs": [],
   "source": [
    "def load_and_process_json(card, params, labels):\n",
    "    path = f\"{dh.get_path_to_src()}inf_cutset_conditioning/p_s_given_d_card{card}.json\"\n",
    "\n",
    "    # Load the JSON file\n",
    "    with open(path, \"r\") as file:\n",
    "        data = json.load(file)\n",
    "\n",
    "    # Convert lists to NumPy arrays\n",
    "    for key in data:\n",
    "        data[key] = np.array(data[key])\n",
    "\n",
    "    # Replace 'nan' with np.nan and \"-inf\" with -np.inf\n",
    "    for key in data:\n",
    "        data[key][np.where(data[key] == \"-inf\")] = -np.inf\n",
    "\n",
    "    # REmove dtypes from data\n",
    "    data = {key: data[key].astype(float) for key in data}\n",
    "\n",
    "    # Remove entries with only nan values\n",
    "    data = {key: data[key] for key in data if not np.all(np.isnan(data[key]))}\n",
    "\n",
    "    log_p_s_given_D = np.sum(list(data.values()), axis=0)\n",
    "\n",
    "    df_heatmap = pd.DataFrame(\n",
    "        columns=[\"log_p_S_given_D\", \"params\"], data=zip(log_p_s_given_D, params)\n",
    "    )\n",
    "    # Split params into three columns \"main width\", \"tail width\", \"main weight\"\n",
    "    df_heatmap[labels] = pd.DataFrame(\n",
    "        df_heatmap[\"params\"].tolist(), index=df_heatmap.index\n",
    "    )\n",
    "\n",
    "    IDs = data.keys()\n",
    "    return df_heatmap, IDs"
   ]
  },
  {
   "cell_type": "code",
   "execution_count": 148,
   "metadata": {},
   "outputs": [
    {
     "data": {
      "text/html": [
       "<div>\n",
       "<style scoped>\n",
       "    .dataframe tbody tr th:only-of-type {\n",
       "        vertical-align: middle;\n",
       "    }\n",
       "\n",
       "    .dataframe tbody tr th {\n",
       "        vertical-align: top;\n",
       "    }\n",
       "\n",
       "    .dataframe thead th {\n",
       "        text-align: right;\n",
       "    }\n",
       "</style>\n",
       "<table border=\"1\" class=\"dataframe\">\n",
       "  <thead>\n",
       "    <tr style=\"text-align: right;\">\n",
       "      <th></th>\n",
       "      <th>log_p_S_given_D</th>\n",
       "      <th>params</th>\n",
       "      <th>main width</th>\n",
       "      <th>tail width</th>\n",
       "      <th>main weight</th>\n",
       "    </tr>\n",
       "  </thead>\n",
       "  <tbody>\n",
       "    <tr>\n",
       "      <th>0</th>\n",
       "      <td>-5.094301e+04</td>\n",
       "      <td>(2, 15, 0.3)</td>\n",
       "      <td>2</td>\n",
       "      <td>15</td>\n",
       "      <td>0.3</td>\n",
       "    </tr>\n",
       "    <tr>\n",
       "      <th>1</th>\n",
       "      <td>-4.910879e+04</td>\n",
       "      <td>(2, 15, 0.5)</td>\n",
       "      <td>2</td>\n",
       "      <td>15</td>\n",
       "      <td>0.5</td>\n",
       "    </tr>\n",
       "    <tr>\n",
       "      <th>2</th>\n",
       "      <td>-4.775033e+04</td>\n",
       "      <td>(2, 15, 0.7)</td>\n",
       "      <td>2</td>\n",
       "      <td>15</td>\n",
       "      <td>0.7</td>\n",
       "    </tr>\n",
       "    <tr>\n",
       "      <th>3</th>\n",
       "      <td>-5.177770e+04</td>\n",
       "      <td>(2, 30, 0.3)</td>\n",
       "      <td>2</td>\n",
       "      <td>30</td>\n",
       "      <td>0.3</td>\n",
       "    </tr>\n",
       "    <tr>\n",
       "      <th>4</th>\n",
       "      <td>-4.944245e+04</td>\n",
       "      <td>(2, 30, 0.5)</td>\n",
       "      <td>2</td>\n",
       "      <td>30</td>\n",
       "      <td>0.5</td>\n",
       "    </tr>\n",
       "    <tr>\n",
       "      <th>5</th>\n",
       "      <td>-4.788089e+04</td>\n",
       "      <td>(2, 30, 0.7)</td>\n",
       "      <td>2</td>\n",
       "      <td>30</td>\n",
       "      <td>0.7</td>\n",
       "    </tr>\n",
       "    <tr>\n",
       "      <th>6</th>\n",
       "      <td>-5.141493e+04</td>\n",
       "      <td>(2, 50, 0.3)</td>\n",
       "      <td>2</td>\n",
       "      <td>50</td>\n",
       "      <td>0.3</td>\n",
       "    </tr>\n",
       "    <tr>\n",
       "      <th>7</th>\n",
       "      <td>-4.909168e+04</td>\n",
       "      <td>(2, 50, 0.5)</td>\n",
       "      <td>2</td>\n",
       "      <td>50</td>\n",
       "      <td>0.5</td>\n",
       "    </tr>\n",
       "    <tr>\n",
       "      <th>8</th>\n",
       "      <td>-4.767621e+04</td>\n",
       "      <td>(2, 50, 0.7)</td>\n",
       "      <td>2</td>\n",
       "      <td>50</td>\n",
       "      <td>0.7</td>\n",
       "    </tr>\n",
       "    <tr>\n",
       "      <th>9</th>\n",
       "      <td>-5.278688e+04</td>\n",
       "      <td>(5, 15, 0.3)</td>\n",
       "      <td>5</td>\n",
       "      <td>15</td>\n",
       "      <td>0.3</td>\n",
       "    </tr>\n",
       "    <tr>\n",
       "      <th>10</th>\n",
       "      <td>-5.148199e+04</td>\n",
       "      <td>(5, 15, 0.5)</td>\n",
       "      <td>5</td>\n",
       "      <td>15</td>\n",
       "      <td>0.5</td>\n",
       "    </tr>\n",
       "    <tr>\n",
       "      <th>11</th>\n",
       "      <td>-5.041678e+04</td>\n",
       "      <td>(5, 15, 0.7)</td>\n",
       "      <td>5</td>\n",
       "      <td>15</td>\n",
       "      <td>0.7</td>\n",
       "    </tr>\n",
       "    <tr>\n",
       "      <th>12</th>\n",
       "      <td>-5.412482e+04</td>\n",
       "      <td>(5, 30, 0.3)</td>\n",
       "      <td>5</td>\n",
       "      <td>30</td>\n",
       "      <td>0.3</td>\n",
       "    </tr>\n",
       "    <tr>\n",
       "      <th>13</th>\n",
       "      <td>-5.212654e+04</td>\n",
       "      <td>(5, 30, 0.5)</td>\n",
       "      <td>5</td>\n",
       "      <td>30</td>\n",
       "      <td>0.5</td>\n",
       "    </tr>\n",
       "    <tr>\n",
       "      <th>14</th>\n",
       "      <td>-5.068574e+04</td>\n",
       "      <td>(5, 30, 0.7)</td>\n",
       "      <td>5</td>\n",
       "      <td>30</td>\n",
       "      <td>0.7</td>\n",
       "    </tr>\n",
       "    <tr>\n",
       "      <th>15</th>\n",
       "      <td>-5.402105e+04</td>\n",
       "      <td>(5, 50, 0.3)</td>\n",
       "      <td>5</td>\n",
       "      <td>50</td>\n",
       "      <td>0.3</td>\n",
       "    </tr>\n",
       "    <tr>\n",
       "      <th>16</th>\n",
       "      <td>-5.189363e+04</td>\n",
       "      <td>(5, 50, 0.5)</td>\n",
       "      <td>5</td>\n",
       "      <td>50</td>\n",
       "      <td>0.5</td>\n",
       "    </tr>\n",
       "    <tr>\n",
       "      <th>17</th>\n",
       "      <td>-5.051049e+04</td>\n",
       "      <td>(5, 50, 0.7)</td>\n",
       "      <td>5</td>\n",
       "      <td>50</td>\n",
       "      <td>0.7</td>\n",
       "    </tr>\n",
       "    <tr>\n",
       "      <th>18</th>\n",
       "      <td>-5.400704e+04</td>\n",
       "      <td>(8, 15, 0.3)</td>\n",
       "      <td>8</td>\n",
       "      <td>15</td>\n",
       "      <td>0.3</td>\n",
       "    </tr>\n",
       "    <tr>\n",
       "      <th>19</th>\n",
       "      <td>-5.320272e+04</td>\n",
       "      <td>(8, 15, 0.5)</td>\n",
       "      <td>8</td>\n",
       "      <td>15</td>\n",
       "      <td>0.5</td>\n",
       "    </tr>\n",
       "    <tr>\n",
       "      <th>20</th>\n",
       "      <td>-5.249486e+04</td>\n",
       "      <td>(8, 15, 0.7)</td>\n",
       "      <td>8</td>\n",
       "      <td>15</td>\n",
       "      <td>0.7</td>\n",
       "    </tr>\n",
       "    <tr>\n",
       "      <th>21</th>\n",
       "      <td>-inf</td>\n",
       "      <td>(8, 30, 0.3)</td>\n",
       "      <td>8</td>\n",
       "      <td>30</td>\n",
       "      <td>0.3</td>\n",
       "    </tr>\n",
       "    <tr>\n",
       "      <th>22</th>\n",
       "      <td>-5.418962e+04</td>\n",
       "      <td>(8, 30, 0.5)</td>\n",
       "      <td>8</td>\n",
       "      <td>30</td>\n",
       "      <td>0.5</td>\n",
       "    </tr>\n",
       "    <tr>\n",
       "      <th>23</th>\n",
       "      <td>-5.296286e+04</td>\n",
       "      <td>(8, 30, 0.7)</td>\n",
       "      <td>8</td>\n",
       "      <td>30</td>\n",
       "      <td>0.7</td>\n",
       "    </tr>\n",
       "    <tr>\n",
       "      <th>24</th>\n",
       "      <td>-inf</td>\n",
       "      <td>(8, 50, 0.3)</td>\n",
       "      <td>8</td>\n",
       "      <td>50</td>\n",
       "      <td>0.3</td>\n",
       "    </tr>\n",
       "    <tr>\n",
       "      <th>25</th>\n",
       "      <td>-5.413164e+04</td>\n",
       "      <td>(8, 50, 0.5)</td>\n",
       "      <td>8</td>\n",
       "      <td>50</td>\n",
       "      <td>0.5</td>\n",
       "    </tr>\n",
       "    <tr>\n",
       "      <th>26</th>\n",
       "      <td>-5.287134e+04</td>\n",
       "      <td>(8, 50, 0.7)</td>\n",
       "      <td>8</td>\n",
       "      <td>50</td>\n",
       "      <td>0.7</td>\n",
       "    </tr>\n",
       "  </tbody>\n",
       "</table>\n",
       "</div>"
      ],
      "text/plain": [
       "    log_p_S_given_D        params  main width  tail width  main weight\n",
       "0     -5.094301e+04  (2, 15, 0.3)           2          15          0.3\n",
       "1     -4.910879e+04  (2, 15, 0.5)           2          15          0.5\n",
       "2     -4.775033e+04  (2, 15, 0.7)           2          15          0.7\n",
       "3     -5.177770e+04  (2, 30, 0.3)           2          30          0.3\n",
       "4     -4.944245e+04  (2, 30, 0.5)           2          30          0.5\n",
       "5     -4.788089e+04  (2, 30, 0.7)           2          30          0.7\n",
       "6     -5.141493e+04  (2, 50, 0.3)           2          50          0.3\n",
       "7     -4.909168e+04  (2, 50, 0.5)           2          50          0.5\n",
       "8     -4.767621e+04  (2, 50, 0.7)           2          50          0.7\n",
       "9     -5.278688e+04  (5, 15, 0.3)           5          15          0.3\n",
       "10    -5.148199e+04  (5, 15, 0.5)           5          15          0.5\n",
       "11    -5.041678e+04  (5, 15, 0.7)           5          15          0.7\n",
       "12    -5.412482e+04  (5, 30, 0.3)           5          30          0.3\n",
       "13    -5.212654e+04  (5, 30, 0.5)           5          30          0.5\n",
       "14    -5.068574e+04  (5, 30, 0.7)           5          30          0.7\n",
       "15    -5.402105e+04  (5, 50, 0.3)           5          50          0.3\n",
       "16    -5.189363e+04  (5, 50, 0.5)           5          50          0.5\n",
       "17    -5.051049e+04  (5, 50, 0.7)           5          50          0.7\n",
       "18    -5.400704e+04  (8, 15, 0.3)           8          15          0.3\n",
       "19    -5.320272e+04  (8, 15, 0.5)           8          15          0.5\n",
       "20    -5.249486e+04  (8, 15, 0.7)           8          15          0.7\n",
       "21             -inf  (8, 30, 0.3)           8          30          0.3\n",
       "22    -5.418962e+04  (8, 30, 0.5)           8          30          0.5\n",
       "23    -5.296286e+04  (8, 30, 0.7)           8          30          0.7\n",
       "24             -inf  (8, 50, 0.3)           8          50          0.3\n",
       "25    -5.413164e+04  (8, 50, 0.5)           8          50          0.5\n",
       "26    -5.287134e+04  (8, 50, 0.7)           8          50          0.7"
      ]
     },
     "execution_count": 148,
     "metadata": {},
     "output_type": "execute_result"
    }
   ],
   "source": [
    "# Element wise addition of the values in data\n",
    "params = [\n",
    "    (2, 15, 0.3),\n",
    "    (2, 15, 0.5),\n",
    "    (2, 15, 0.7),\n",
    "    (2, 30, 0.3),\n",
    "    (2, 30, 0.5),\n",
    "    (2, 30, 0.7),\n",
    "    (2, 50, 0.3),\n",
    "    (2, 50, 0.5),\n",
    "    (2, 50, 0.7),\n",
    "    (5, 15, 0.3),\n",
    "    (5, 15, 0.5),\n",
    "    (5, 15, 0.7),\n",
    "    (5, 30, 0.3),\n",
    "    (5, 30, 0.5),\n",
    "    (5, 30, 0.7),\n",
    "    (5, 50, 0.3),\n",
    "    (5, 50, 0.5),\n",
    "    (5, 50, 0.7),\n",
    "    (8, 15, 0.3),\n",
    "    (8, 15, 0.5),\n",
    "    (8, 15, 0.7),\n",
    "    (8, 30, 0.3),\n",
    "    (8, 30, 0.5),\n",
    "    (8, 30, 0.7),\n",
    "    (8, 50, 0.3),\n",
    "    (8, 50, 0.5),\n",
    "    (8, 50, 0.7),\n",
    "]\n",
    "labels = [\"main width\", \"tail width\", \"main weight\"]\n",
    "\n",
    "df_heatmap, IDs = load_and_process_json(27, params, labels)\n",
    "df_heatmap"
   ]
  },
  {
   "cell_type": "code",
   "execution_count": 135,
   "metadata": {},
   "outputs": [
    {
     "data": {
      "application/vnd.plotly.v1+json": {
       "config": {
        "plotlyServerURL": "https://plot.ly"
       },
       "data": [
        {
         "colorbar": {
          "title": {
           "text": "log_p_S_given_D"
          }
         },
         "type": "heatmap",
         "x": [
          2,
          2,
          2,
          5,
          5,
          5,
          8,
          8,
          8
         ],
         "xaxis": "x",
         "y": [
          15,
          30,
          50,
          15,
          30,
          50,
          15,
          30,
          50
         ],
         "yaxis": "y",
         "z": [
          -50943.01299052004,
          -51777.70402756,
          -51414.92757171001,
          -52786.87936913,
          -54124.82379924001,
          -54021.05213030999,
          -54007.04416969002,
          null,
          null
         ],
         "zmax": -47676.20919852996,
         "zmin": -54189.61899217001
        },
        {
         "colorbar": {
          "title": {
           "text": "log_p_S_given_D"
          }
         },
         "type": "heatmap",
         "x": [
          2,
          2,
          2,
          5,
          5,
          5,
          8,
          8,
          8
         ],
         "xaxis": "x2",
         "y": [
          15,
          30,
          50,
          15,
          30,
          50,
          15,
          30,
          50
         ],
         "yaxis": "y2",
         "z": [
          -49108.78589336999,
          -49442.45358519999,
          -49091.67592481005,
          -51481.98509334001,
          -52126.54212261003,
          -51893.629034009995,
          -53202.71752594003,
          -54189.61899217001,
          -54131.63650929005
         ],
         "zmax": -47676.20919852996,
         "zmin": -54189.61899217001
        },
        {
         "colorbar": {
          "title": {
           "text": "log_p_S_given_D"
          }
         },
         "type": "heatmap",
         "x": [
          2,
          2,
          2,
          5,
          5,
          5,
          8,
          8,
          8
         ],
         "xaxis": "x3",
         "y": [
          15,
          30,
          50,
          15,
          30,
          50,
          15,
          30,
          50
         ],
         "yaxis": "y3",
         "z": [
          -47750.32865484005,
          -47880.89090232003,
          -47676.20919852996,
          -50416.77941401002,
          -50685.739293520004,
          -50510.48631315007,
          -52494.857486070054,
          -52962.856711070024,
          -52871.337538730004
         ],
         "zmax": -47676.20919852996,
         "zmin": -54189.61899217001
        }
       ],
       "layout": {
        "font": {
         "size": 10
        },
        "height": 300,
        "template": {
         "data": {
          "bar": [
           {
            "error_x": {
             "color": "#2a3f5f"
            },
            "error_y": {
             "color": "#2a3f5f"
            },
            "marker": {
             "line": {
              "color": "#E5ECF6",
              "width": 0.5
             },
             "pattern": {
              "fillmode": "overlay",
              "size": 10,
              "solidity": 0.2
             }
            },
            "type": "bar"
           }
          ],
          "barpolar": [
           {
            "marker": {
             "line": {
              "color": "#E5ECF6",
              "width": 0.5
             },
             "pattern": {
              "fillmode": "overlay",
              "size": 10,
              "solidity": 0.2
             }
            },
            "type": "barpolar"
           }
          ],
          "carpet": [
           {
            "aaxis": {
             "endlinecolor": "#2a3f5f",
             "gridcolor": "white",
             "linecolor": "white",
             "minorgridcolor": "white",
             "startlinecolor": "#2a3f5f"
            },
            "baxis": {
             "endlinecolor": "#2a3f5f",
             "gridcolor": "white",
             "linecolor": "white",
             "minorgridcolor": "white",
             "startlinecolor": "#2a3f5f"
            },
            "type": "carpet"
           }
          ],
          "choropleth": [
           {
            "colorbar": {
             "outlinewidth": 0,
             "ticks": ""
            },
            "type": "choropleth"
           }
          ],
          "contour": [
           {
            "colorbar": {
             "outlinewidth": 0,
             "ticks": ""
            },
            "colorscale": [
             [
              0,
              "#0d0887"
             ],
             [
              0.1111111111111111,
              "#46039f"
             ],
             [
              0.2222222222222222,
              "#7201a8"
             ],
             [
              0.3333333333333333,
              "#9c179e"
             ],
             [
              0.4444444444444444,
              "#bd3786"
             ],
             [
              0.5555555555555556,
              "#d8576b"
             ],
             [
              0.6666666666666666,
              "#ed7953"
             ],
             [
              0.7777777777777778,
              "#fb9f3a"
             ],
             [
              0.8888888888888888,
              "#fdca26"
             ],
             [
              1,
              "#f0f921"
             ]
            ],
            "type": "contour"
           }
          ],
          "contourcarpet": [
           {
            "colorbar": {
             "outlinewidth": 0,
             "ticks": ""
            },
            "type": "contourcarpet"
           }
          ],
          "heatmap": [
           {
            "colorbar": {
             "outlinewidth": 0,
             "ticks": ""
            },
            "colorscale": [
             [
              0,
              "#0d0887"
             ],
             [
              0.1111111111111111,
              "#46039f"
             ],
             [
              0.2222222222222222,
              "#7201a8"
             ],
             [
              0.3333333333333333,
              "#9c179e"
             ],
             [
              0.4444444444444444,
              "#bd3786"
             ],
             [
              0.5555555555555556,
              "#d8576b"
             ],
             [
              0.6666666666666666,
              "#ed7953"
             ],
             [
              0.7777777777777778,
              "#fb9f3a"
             ],
             [
              0.8888888888888888,
              "#fdca26"
             ],
             [
              1,
              "#f0f921"
             ]
            ],
            "type": "heatmap"
           }
          ],
          "heatmapgl": [
           {
            "colorbar": {
             "outlinewidth": 0,
             "ticks": ""
            },
            "colorscale": [
             [
              0,
              "#0d0887"
             ],
             [
              0.1111111111111111,
              "#46039f"
             ],
             [
              0.2222222222222222,
              "#7201a8"
             ],
             [
              0.3333333333333333,
              "#9c179e"
             ],
             [
              0.4444444444444444,
              "#bd3786"
             ],
             [
              0.5555555555555556,
              "#d8576b"
             ],
             [
              0.6666666666666666,
              "#ed7953"
             ],
             [
              0.7777777777777778,
              "#fb9f3a"
             ],
             [
              0.8888888888888888,
              "#fdca26"
             ],
             [
              1,
              "#f0f921"
             ]
            ],
            "type": "heatmapgl"
           }
          ],
          "histogram": [
           {
            "marker": {
             "pattern": {
              "fillmode": "overlay",
              "size": 10,
              "solidity": 0.2
             }
            },
            "type": "histogram"
           }
          ],
          "histogram2d": [
           {
            "colorbar": {
             "outlinewidth": 0,
             "ticks": ""
            },
            "colorscale": [
             [
              0,
              "#0d0887"
             ],
             [
              0.1111111111111111,
              "#46039f"
             ],
             [
              0.2222222222222222,
              "#7201a8"
             ],
             [
              0.3333333333333333,
              "#9c179e"
             ],
             [
              0.4444444444444444,
              "#bd3786"
             ],
             [
              0.5555555555555556,
              "#d8576b"
             ],
             [
              0.6666666666666666,
              "#ed7953"
             ],
             [
              0.7777777777777778,
              "#fb9f3a"
             ],
             [
              0.8888888888888888,
              "#fdca26"
             ],
             [
              1,
              "#f0f921"
             ]
            ],
            "type": "histogram2d"
           }
          ],
          "histogram2dcontour": [
           {
            "colorbar": {
             "outlinewidth": 0,
             "ticks": ""
            },
            "colorscale": [
             [
              0,
              "#0d0887"
             ],
             [
              0.1111111111111111,
              "#46039f"
             ],
             [
              0.2222222222222222,
              "#7201a8"
             ],
             [
              0.3333333333333333,
              "#9c179e"
             ],
             [
              0.4444444444444444,
              "#bd3786"
             ],
             [
              0.5555555555555556,
              "#d8576b"
             ],
             [
              0.6666666666666666,
              "#ed7953"
             ],
             [
              0.7777777777777778,
              "#fb9f3a"
             ],
             [
              0.8888888888888888,
              "#fdca26"
             ],
             [
              1,
              "#f0f921"
             ]
            ],
            "type": "histogram2dcontour"
           }
          ],
          "mesh3d": [
           {
            "colorbar": {
             "outlinewidth": 0,
             "ticks": ""
            },
            "type": "mesh3d"
           }
          ],
          "parcoords": [
           {
            "line": {
             "colorbar": {
              "outlinewidth": 0,
              "ticks": ""
             }
            },
            "type": "parcoords"
           }
          ],
          "pie": [
           {
            "automargin": true,
            "type": "pie"
           }
          ],
          "scatter": [
           {
            "fillpattern": {
             "fillmode": "overlay",
             "size": 10,
             "solidity": 0.2
            },
            "type": "scatter"
           }
          ],
          "scatter3d": [
           {
            "line": {
             "colorbar": {
              "outlinewidth": 0,
              "ticks": ""
             }
            },
            "marker": {
             "colorbar": {
              "outlinewidth": 0,
              "ticks": ""
             }
            },
            "type": "scatter3d"
           }
          ],
          "scattercarpet": [
           {
            "marker": {
             "colorbar": {
              "outlinewidth": 0,
              "ticks": ""
             }
            },
            "type": "scattercarpet"
           }
          ],
          "scattergeo": [
           {
            "marker": {
             "colorbar": {
              "outlinewidth": 0,
              "ticks": ""
             }
            },
            "type": "scattergeo"
           }
          ],
          "scattergl": [
           {
            "marker": {
             "colorbar": {
              "outlinewidth": 0,
              "ticks": ""
             }
            },
            "type": "scattergl"
           }
          ],
          "scattermapbox": [
           {
            "marker": {
             "colorbar": {
              "outlinewidth": 0,
              "ticks": ""
             }
            },
            "type": "scattermapbox"
           }
          ],
          "scatterpolar": [
           {
            "marker": {
             "colorbar": {
              "outlinewidth": 0,
              "ticks": ""
             }
            },
            "type": "scatterpolar"
           }
          ],
          "scatterpolargl": [
           {
            "marker": {
             "colorbar": {
              "outlinewidth": 0,
              "ticks": ""
             }
            },
            "type": "scatterpolargl"
           }
          ],
          "scatterternary": [
           {
            "marker": {
             "colorbar": {
              "outlinewidth": 0,
              "ticks": ""
             }
            },
            "type": "scatterternary"
           }
          ],
          "surface": [
           {
            "colorbar": {
             "outlinewidth": 0,
             "ticks": ""
            },
            "colorscale": [
             [
              0,
              "#0d0887"
             ],
             [
              0.1111111111111111,
              "#46039f"
             ],
             [
              0.2222222222222222,
              "#7201a8"
             ],
             [
              0.3333333333333333,
              "#9c179e"
             ],
             [
              0.4444444444444444,
              "#bd3786"
             ],
             [
              0.5555555555555556,
              "#d8576b"
             ],
             [
              0.6666666666666666,
              "#ed7953"
             ],
             [
              0.7777777777777778,
              "#fb9f3a"
             ],
             [
              0.8888888888888888,
              "#fdca26"
             ],
             [
              1,
              "#f0f921"
             ]
            ],
            "type": "surface"
           }
          ],
          "table": [
           {
            "cells": {
             "fill": {
              "color": "#EBF0F8"
             },
             "line": {
              "color": "white"
             }
            },
            "header": {
             "fill": {
              "color": "#C8D4E3"
             },
             "line": {
              "color": "white"
             }
            },
            "type": "table"
           }
          ]
         },
         "layout": {
          "annotationdefaults": {
           "arrowcolor": "#2a3f5f",
           "arrowhead": 0,
           "arrowwidth": 1
          },
          "autotypenumbers": "strict",
          "coloraxis": {
           "colorbar": {
            "outlinewidth": 0,
            "ticks": ""
           }
          },
          "colorscale": {
           "diverging": [
            [
             0,
             "#8e0152"
            ],
            [
             0.1,
             "#c51b7d"
            ],
            [
             0.2,
             "#de77ae"
            ],
            [
             0.3,
             "#f1b6da"
            ],
            [
             0.4,
             "#fde0ef"
            ],
            [
             0.5,
             "#f7f7f7"
            ],
            [
             0.6,
             "#e6f5d0"
            ],
            [
             0.7,
             "#b8e186"
            ],
            [
             0.8,
             "#7fbc41"
            ],
            [
             0.9,
             "#4d9221"
            ],
            [
             1,
             "#276419"
            ]
           ],
           "sequential": [
            [
             0,
             "#0d0887"
            ],
            [
             0.1111111111111111,
             "#46039f"
            ],
            [
             0.2222222222222222,
             "#7201a8"
            ],
            [
             0.3333333333333333,
             "#9c179e"
            ],
            [
             0.4444444444444444,
             "#bd3786"
            ],
            [
             0.5555555555555556,
             "#d8576b"
            ],
            [
             0.6666666666666666,
             "#ed7953"
            ],
            [
             0.7777777777777778,
             "#fb9f3a"
            ],
            [
             0.8888888888888888,
             "#fdca26"
            ],
            [
             1,
             "#f0f921"
            ]
           ],
           "sequentialminus": [
            [
             0,
             "#0d0887"
            ],
            [
             0.1111111111111111,
             "#46039f"
            ],
            [
             0.2222222222222222,
             "#7201a8"
            ],
            [
             0.3333333333333333,
             "#9c179e"
            ],
            [
             0.4444444444444444,
             "#bd3786"
            ],
            [
             0.5555555555555556,
             "#d8576b"
            ],
            [
             0.6666666666666666,
             "#ed7953"
            ],
            [
             0.7777777777777778,
             "#fb9f3a"
            ],
            [
             0.8888888888888888,
             "#fdca26"
            ],
            [
             1,
             "#f0f921"
            ]
           ]
          },
          "colorway": [
           "#636efa",
           "#EF553B",
           "#00cc96",
           "#ab63fa",
           "#FFA15A",
           "#19d3f3",
           "#FF6692",
           "#B6E880",
           "#FF97FF",
           "#FECB52"
          ],
          "font": {
           "color": "#2a3f5f"
          },
          "geo": {
           "bgcolor": "white",
           "lakecolor": "white",
           "landcolor": "#E5ECF6",
           "showlakes": true,
           "showland": true,
           "subunitcolor": "white"
          },
          "hoverlabel": {
           "align": "left"
          },
          "hovermode": "closest",
          "mapbox": {
           "style": "light"
          },
          "paper_bgcolor": "white",
          "plot_bgcolor": "#E5ECF6",
          "polar": {
           "angularaxis": {
            "gridcolor": "white",
            "linecolor": "white",
            "ticks": ""
           },
           "bgcolor": "#E5ECF6",
           "radialaxis": {
            "gridcolor": "white",
            "linecolor": "white",
            "ticks": ""
           }
          },
          "scene": {
           "xaxis": {
            "backgroundcolor": "#E5ECF6",
            "gridcolor": "white",
            "gridwidth": 2,
            "linecolor": "white",
            "showbackground": true,
            "ticks": "",
            "zerolinecolor": "white"
           },
           "yaxis": {
            "backgroundcolor": "#E5ECF6",
            "gridcolor": "white",
            "gridwidth": 2,
            "linecolor": "white",
            "showbackground": true,
            "ticks": "",
            "zerolinecolor": "white"
           },
           "zaxis": {
            "backgroundcolor": "#E5ECF6",
            "gridcolor": "white",
            "gridwidth": 2,
            "linecolor": "white",
            "showbackground": true,
            "ticks": "",
            "zerolinecolor": "white"
           }
          },
          "shapedefaults": {
           "line": {
            "color": "#2a3f5f"
           }
          },
          "ternary": {
           "aaxis": {
            "gridcolor": "white",
            "linecolor": "white",
            "ticks": ""
           },
           "baxis": {
            "gridcolor": "white",
            "linecolor": "white",
            "ticks": ""
           },
           "bgcolor": "#E5ECF6",
           "caxis": {
            "gridcolor": "white",
            "linecolor": "white",
            "ticks": ""
           }
          },
          "title": {
           "x": 0.05
          },
          "xaxis": {
           "automargin": true,
           "gridcolor": "white",
           "linecolor": "white",
           "ticks": "",
           "title": {
            "standoff": 15
           },
           "zerolinecolor": "white",
           "zerolinewidth": 2
          },
          "yaxis": {
           "automargin": true,
           "gridcolor": "white",
           "linecolor": "white",
           "ticks": "",
           "title": {
            "standoff": 15
           },
           "zerolinecolor": "white",
           "zerolinewidth": 2
          }
         }
        },
        "title": {
         "text": "Log probability of S given D for different AR change parameters (316 IDs)"
        },
        "width": 650,
        "xaxis": {
         "anchor": "y",
         "domain": [
          0,
          0.2888888888888889
         ],
         "title": {
          "text": "Main width<br><br>Main weight=0.3"
         },
         "type": "category"
        },
        "xaxis2": {
         "anchor": "y2",
         "domain": [
          0.35555555555555557,
          0.6444444444444445
         ],
         "title": {
          "text": "Main width<br><br>Main weight=0.5"
         },
         "type": "category"
        },
        "xaxis3": {
         "anchor": "y3",
         "domain": [
          0.7111111111111111,
          1
         ],
         "title": {
          "text": "Main width<br><br>Main weight=0.7"
         },
         "type": "category"
        },
        "yaxis": {
         "anchor": "x",
         "domain": [
          0,
          1
         ],
         "title": {
          "text": "Tail width"
         },
         "type": "category"
        },
        "yaxis2": {
         "anchor": "x2",
         "domain": [
          0,
          1
         ],
         "type": "category"
        },
        "yaxis3": {
         "anchor": "x3",
         "domain": [
          0,
          1
         ],
         "type": "category"
        }
       }
      }
     },
     "metadata": {},
     "output_type": "display_data"
    }
   ],
   "source": [
    "# Plot heatmap with main width on x axis, tail width on y axis and log_p_S_given_D as the color, just use the first 3 main weights\n",
    "\n",
    "fig = make_subplots(1, 3)\n",
    "\n",
    "\n",
    "def add_heatmap_for_weight(df, weight, col):\n",
    "    df = df[df[\"main weight\"] == weight]\n",
    "    fig.add_trace(\n",
    "        go.Heatmap(z=df[\"log_p_S_given_D\"], x=df[\"main width\"], y=df[\"tail width\"]),\n",
    "        row=1,\n",
    "        col=col,\n",
    "    )\n",
    "    fig.update_xaxes(\n",
    "        type=\"category\",\n",
    "        row=1,\n",
    "        col=col,\n",
    "        title=\"Main width<br><br>Main weight=\" + str(weight),\n",
    "    )\n",
    "\n",
    "\n",
    "add_heatmap_for_weight(df_heatmap, 0.3, 1)\n",
    "add_heatmap_for_weight(df_heatmap, 0.5, 2)\n",
    "add_heatmap_for_weight(df_heatmap, 0.7, 3)\n",
    "\n",
    "fig.update_layout(\n",
    "    title=f\"Log probability of S given D for different AR change parameters ({len(IDs.keys())} IDs)\",\n",
    "    yaxis_title=\"Tail width\",\n",
    "    # yaxis_type='log',\n",
    "    width=650,\n",
    "    height=300,\n",
    "    font_size=10,\n",
    ")\n",
    "# Recude font size of the subplot titles\n",
    "for annotation in fig[\"layout\"][\"annotations\"]:\n",
    "    annotation[\"font\"] = dict(size=14)\n",
    "# use the same color scale for all subplots\n",
    "fig.update_traces(\n",
    "    zmin=min(df_heatmap.log_p_S_given_D[df_heatmap.log_p_S_given_D != -np.inf]),\n",
    "    zmax=max(df_heatmap.log_p_S_given_D),\n",
    "    colorbar=dict(title=\"log_p_S_given_D\"),\n",
    ")\n",
    "# X axis and y axis are categorical\n",
    "fig.update_yaxes(type=\"category\")\n",
    "\n",
    "fig.show()"
   ]
  },
  {
   "cell_type": "code",
   "execution_count": null,
   "metadata": {},
   "outputs": [],
   "source": [
    "# The weights is the most differentiating parameter, then main width. Tail width is a smaller effect, althought very important, and remains hidden\n",
    "# 0.7 weight\n",
    "# std 2 -> laplace would be better\n",
    "# tail width doesn't change. Go wider?\n",
    "\n",
    "# Since the tails is a secondary effet, let's find the rest first\n",
    "\n",
    "# 3 laplace\n",
    "# 3 gaussians"
   ]
  },
  {
   "cell_type": "code",
   "execution_count": 149,
   "metadata": {},
   "outputs": [
    {
     "data": {
      "text/html": [
       "<div>\n",
       "<style scoped>\n",
       "    .dataframe tbody tr th:only-of-type {\n",
       "        vertical-align: middle;\n",
       "    }\n",
       "\n",
       "    .dataframe tbody tr th {\n",
       "        vertical-align: top;\n",
       "    }\n",
       "\n",
       "    .dataframe thead th {\n",
       "        text-align: right;\n",
       "    }\n",
       "</style>\n",
       "<table border=\"1\" class=\"dataframe\">\n",
       "  <thead>\n",
       "    <tr style=\"text-align: right;\">\n",
       "      <th></th>\n",
       "      <th>log_p_S_given_D</th>\n",
       "      <th>params</th>\n",
       "      <th>main width</th>\n",
       "      <th>laplace</th>\n",
       "    </tr>\n",
       "  </thead>\n",
       "  <tbody>\n",
       "    <tr>\n",
       "      <th>0</th>\n",
       "      <td>-6.655665e+04</td>\n",
       "      <td>(0.5, False)</td>\n",
       "      <td>0.5</td>\n",
       "      <td>False</td>\n",
       "    </tr>\n",
       "    <tr>\n",
       "      <th>1</th>\n",
       "      <td>-6.628876e+04</td>\n",
       "      <td>(0.5, True)</td>\n",
       "      <td>0.5</td>\n",
       "      <td>True</td>\n",
       "    </tr>\n",
       "    <tr>\n",
       "      <th>2</th>\n",
       "      <td>-6.761041e+04</td>\n",
       "      <td>(1, False)</td>\n",
       "      <td>1.0</td>\n",
       "      <td>False</td>\n",
       "    </tr>\n",
       "    <tr>\n",
       "      <th>3</th>\n",
       "      <td>-6.730061e+04</td>\n",
       "      <td>(1, True)</td>\n",
       "      <td>1.0</td>\n",
       "      <td>True</td>\n",
       "    </tr>\n",
       "    <tr>\n",
       "      <th>4</th>\n",
       "      <td>-6.848776e+04</td>\n",
       "      <td>(1.5, False)</td>\n",
       "      <td>1.5</td>\n",
       "      <td>False</td>\n",
       "    </tr>\n",
       "    <tr>\n",
       "      <th>5</th>\n",
       "      <td>-6.834117e+04</td>\n",
       "      <td>(1.5, True)</td>\n",
       "      <td>1.5</td>\n",
       "      <td>True</td>\n",
       "    </tr>\n",
       "    <tr>\n",
       "      <th>6</th>\n",
       "      <td>-6.921651e+04</td>\n",
       "      <td>(2, False)</td>\n",
       "      <td>2.0</td>\n",
       "      <td>False</td>\n",
       "    </tr>\n",
       "    <tr>\n",
       "      <th>7</th>\n",
       "      <td>-6.927346e+04</td>\n",
       "      <td>(2, True)</td>\n",
       "      <td>2.0</td>\n",
       "      <td>True</td>\n",
       "    </tr>\n",
       "    <tr>\n",
       "      <th>8</th>\n",
       "      <td>-inf</td>\n",
       "      <td>(2.5, False)</td>\n",
       "      <td>2.5</td>\n",
       "      <td>False</td>\n",
       "    </tr>\n",
       "    <tr>\n",
       "      <th>9</th>\n",
       "      <td>-inf</td>\n",
       "      <td>(2.5, True)</td>\n",
       "      <td>2.5</td>\n",
       "      <td>True</td>\n",
       "    </tr>\n",
       "  </tbody>\n",
       "</table>\n",
       "</div>"
      ],
      "text/plain": [
       "   log_p_S_given_D        params  main width  laplace\n",
       "0    -6.655665e+04  (0.5, False)         0.5    False\n",
       "1    -6.628876e+04   (0.5, True)         0.5     True\n",
       "2    -6.761041e+04    (1, False)         1.0    False\n",
       "3    -6.730061e+04     (1, True)         1.0     True\n",
       "4    -6.848776e+04  (1.5, False)         1.5    False\n",
       "5    -6.834117e+04   (1.5, True)         1.5     True\n",
       "6    -6.921651e+04    (2, False)         2.0    False\n",
       "7    -6.927346e+04     (2, True)         2.0     True\n",
       "8             -inf  (2.5, False)         2.5    False\n",
       "9             -inf   (2.5, True)         2.5     True"
      ]
     },
     "execution_count": 149,
     "metadata": {},
     "output_type": "execute_result"
    }
   ],
   "source": [
    "params = [\n",
    "    (0.5, False),\n",
    "    (0.5, True),\n",
    "    (1, False),\n",
    "    (1, True),\n",
    "    (1.5, False),\n",
    "    (1.5, True),\n",
    "    (2, False),\n",
    "    (2, True),\n",
    "    (2.5, False),\n",
    "    (2.5, True),\n",
    "]\n",
    "labels = [\"main width\", \"laplace\"]\n",
    "\n",
    "df_10, IDs_10 = load_and_process_json(10, params, labels)\n",
    "df_10"
   ]
  },
  {
   "cell_type": "code",
   "execution_count": 164,
   "metadata": {},
   "outputs": [
    {
     "data": {
      "application/vnd.plotly.v1+json": {
       "config": {
        "plotlyServerURL": "https://plot.ly"
       },
       "data": [
        {
         "colorbar": {
          "title": {
           "text": "log_p_S_given_D"
          }
         },
         "type": "heatmap",
         "x": [
          0.5,
          0.5,
          1,
          1,
          1.5,
          1.5,
          2,
          2,
          2.5,
          2.5
         ],
         "xaxis": "x",
         "y": [
          false,
          true,
          false,
          true,
          false,
          true,
          false,
          true,
          false,
          true
         ],
         "yaxis": "y",
         "z": [
          -66556.64939798,
          -66288.75989375003,
          -67610.41153004,
          -67300.61421237995,
          -68487.75729400999,
          -68341.17404556002,
          -69216.51285941998,
          -69273.45789501,
          null,
          null
         ],
         "zmax": -66288.75989375003,
         "zmin": -69273.45789501
        }
       ],
       "layout": {
        "font": {
         "size": 10
        },
        "height": 250,
        "template": {
         "data": {
          "bar": [
           {
            "error_x": {
             "color": "#2a3f5f"
            },
            "error_y": {
             "color": "#2a3f5f"
            },
            "marker": {
             "line": {
              "color": "#E5ECF6",
              "width": 0.5
             },
             "pattern": {
              "fillmode": "overlay",
              "size": 10,
              "solidity": 0.2
             }
            },
            "type": "bar"
           }
          ],
          "barpolar": [
           {
            "marker": {
             "line": {
              "color": "#E5ECF6",
              "width": 0.5
             },
             "pattern": {
              "fillmode": "overlay",
              "size": 10,
              "solidity": 0.2
             }
            },
            "type": "barpolar"
           }
          ],
          "carpet": [
           {
            "aaxis": {
             "endlinecolor": "#2a3f5f",
             "gridcolor": "white",
             "linecolor": "white",
             "minorgridcolor": "white",
             "startlinecolor": "#2a3f5f"
            },
            "baxis": {
             "endlinecolor": "#2a3f5f",
             "gridcolor": "white",
             "linecolor": "white",
             "minorgridcolor": "white",
             "startlinecolor": "#2a3f5f"
            },
            "type": "carpet"
           }
          ],
          "choropleth": [
           {
            "colorbar": {
             "outlinewidth": 0,
             "ticks": ""
            },
            "type": "choropleth"
           }
          ],
          "contour": [
           {
            "colorbar": {
             "outlinewidth": 0,
             "ticks": ""
            },
            "colorscale": [
             [
              0,
              "#0d0887"
             ],
             [
              0.1111111111111111,
              "#46039f"
             ],
             [
              0.2222222222222222,
              "#7201a8"
             ],
             [
              0.3333333333333333,
              "#9c179e"
             ],
             [
              0.4444444444444444,
              "#bd3786"
             ],
             [
              0.5555555555555556,
              "#d8576b"
             ],
             [
              0.6666666666666666,
              "#ed7953"
             ],
             [
              0.7777777777777778,
              "#fb9f3a"
             ],
             [
              0.8888888888888888,
              "#fdca26"
             ],
             [
              1,
              "#f0f921"
             ]
            ],
            "type": "contour"
           }
          ],
          "contourcarpet": [
           {
            "colorbar": {
             "outlinewidth": 0,
             "ticks": ""
            },
            "type": "contourcarpet"
           }
          ],
          "heatmap": [
           {
            "colorbar": {
             "outlinewidth": 0,
             "ticks": ""
            },
            "colorscale": [
             [
              0,
              "#0d0887"
             ],
             [
              0.1111111111111111,
              "#46039f"
             ],
             [
              0.2222222222222222,
              "#7201a8"
             ],
             [
              0.3333333333333333,
              "#9c179e"
             ],
             [
              0.4444444444444444,
              "#bd3786"
             ],
             [
              0.5555555555555556,
              "#d8576b"
             ],
             [
              0.6666666666666666,
              "#ed7953"
             ],
             [
              0.7777777777777778,
              "#fb9f3a"
             ],
             [
              0.8888888888888888,
              "#fdca26"
             ],
             [
              1,
              "#f0f921"
             ]
            ],
            "type": "heatmap"
           }
          ],
          "heatmapgl": [
           {
            "colorbar": {
             "outlinewidth": 0,
             "ticks": ""
            },
            "colorscale": [
             [
              0,
              "#0d0887"
             ],
             [
              0.1111111111111111,
              "#46039f"
             ],
             [
              0.2222222222222222,
              "#7201a8"
             ],
             [
              0.3333333333333333,
              "#9c179e"
             ],
             [
              0.4444444444444444,
              "#bd3786"
             ],
             [
              0.5555555555555556,
              "#d8576b"
             ],
             [
              0.6666666666666666,
              "#ed7953"
             ],
             [
              0.7777777777777778,
              "#fb9f3a"
             ],
             [
              0.8888888888888888,
              "#fdca26"
             ],
             [
              1,
              "#f0f921"
             ]
            ],
            "type": "heatmapgl"
           }
          ],
          "histogram": [
           {
            "marker": {
             "pattern": {
              "fillmode": "overlay",
              "size": 10,
              "solidity": 0.2
             }
            },
            "type": "histogram"
           }
          ],
          "histogram2d": [
           {
            "colorbar": {
             "outlinewidth": 0,
             "ticks": ""
            },
            "colorscale": [
             [
              0,
              "#0d0887"
             ],
             [
              0.1111111111111111,
              "#46039f"
             ],
             [
              0.2222222222222222,
              "#7201a8"
             ],
             [
              0.3333333333333333,
              "#9c179e"
             ],
             [
              0.4444444444444444,
              "#bd3786"
             ],
             [
              0.5555555555555556,
              "#d8576b"
             ],
             [
              0.6666666666666666,
              "#ed7953"
             ],
             [
              0.7777777777777778,
              "#fb9f3a"
             ],
             [
              0.8888888888888888,
              "#fdca26"
             ],
             [
              1,
              "#f0f921"
             ]
            ],
            "type": "histogram2d"
           }
          ],
          "histogram2dcontour": [
           {
            "colorbar": {
             "outlinewidth": 0,
             "ticks": ""
            },
            "colorscale": [
             [
              0,
              "#0d0887"
             ],
             [
              0.1111111111111111,
              "#46039f"
             ],
             [
              0.2222222222222222,
              "#7201a8"
             ],
             [
              0.3333333333333333,
              "#9c179e"
             ],
             [
              0.4444444444444444,
              "#bd3786"
             ],
             [
              0.5555555555555556,
              "#d8576b"
             ],
             [
              0.6666666666666666,
              "#ed7953"
             ],
             [
              0.7777777777777778,
              "#fb9f3a"
             ],
             [
              0.8888888888888888,
              "#fdca26"
             ],
             [
              1,
              "#f0f921"
             ]
            ],
            "type": "histogram2dcontour"
           }
          ],
          "mesh3d": [
           {
            "colorbar": {
             "outlinewidth": 0,
             "ticks": ""
            },
            "type": "mesh3d"
           }
          ],
          "parcoords": [
           {
            "line": {
             "colorbar": {
              "outlinewidth": 0,
              "ticks": ""
             }
            },
            "type": "parcoords"
           }
          ],
          "pie": [
           {
            "automargin": true,
            "type": "pie"
           }
          ],
          "scatter": [
           {
            "fillpattern": {
             "fillmode": "overlay",
             "size": 10,
             "solidity": 0.2
            },
            "type": "scatter"
           }
          ],
          "scatter3d": [
           {
            "line": {
             "colorbar": {
              "outlinewidth": 0,
              "ticks": ""
             }
            },
            "marker": {
             "colorbar": {
              "outlinewidth": 0,
              "ticks": ""
             }
            },
            "type": "scatter3d"
           }
          ],
          "scattercarpet": [
           {
            "marker": {
             "colorbar": {
              "outlinewidth": 0,
              "ticks": ""
             }
            },
            "type": "scattercarpet"
           }
          ],
          "scattergeo": [
           {
            "marker": {
             "colorbar": {
              "outlinewidth": 0,
              "ticks": ""
             }
            },
            "type": "scattergeo"
           }
          ],
          "scattergl": [
           {
            "marker": {
             "colorbar": {
              "outlinewidth": 0,
              "ticks": ""
             }
            },
            "type": "scattergl"
           }
          ],
          "scattermapbox": [
           {
            "marker": {
             "colorbar": {
              "outlinewidth": 0,
              "ticks": ""
             }
            },
            "type": "scattermapbox"
           }
          ],
          "scatterpolar": [
           {
            "marker": {
             "colorbar": {
              "outlinewidth": 0,
              "ticks": ""
             }
            },
            "type": "scatterpolar"
           }
          ],
          "scatterpolargl": [
           {
            "marker": {
             "colorbar": {
              "outlinewidth": 0,
              "ticks": ""
             }
            },
            "type": "scatterpolargl"
           }
          ],
          "scatterternary": [
           {
            "marker": {
             "colorbar": {
              "outlinewidth": 0,
              "ticks": ""
             }
            },
            "type": "scatterternary"
           }
          ],
          "surface": [
           {
            "colorbar": {
             "outlinewidth": 0,
             "ticks": ""
            },
            "colorscale": [
             [
              0,
              "#0d0887"
             ],
             [
              0.1111111111111111,
              "#46039f"
             ],
             [
              0.2222222222222222,
              "#7201a8"
             ],
             [
              0.3333333333333333,
              "#9c179e"
             ],
             [
              0.4444444444444444,
              "#bd3786"
             ],
             [
              0.5555555555555556,
              "#d8576b"
             ],
             [
              0.6666666666666666,
              "#ed7953"
             ],
             [
              0.7777777777777778,
              "#fb9f3a"
             ],
             [
              0.8888888888888888,
              "#fdca26"
             ],
             [
              1,
              "#f0f921"
             ]
            ],
            "type": "surface"
           }
          ],
          "table": [
           {
            "cells": {
             "fill": {
              "color": "#EBF0F8"
             },
             "line": {
              "color": "white"
             }
            },
            "header": {
             "fill": {
              "color": "#C8D4E3"
             },
             "line": {
              "color": "white"
             }
            },
            "type": "table"
           }
          ]
         },
         "layout": {
          "annotationdefaults": {
           "arrowcolor": "#2a3f5f",
           "arrowhead": 0,
           "arrowwidth": 1
          },
          "autotypenumbers": "strict",
          "coloraxis": {
           "colorbar": {
            "outlinewidth": 0,
            "ticks": ""
           }
          },
          "colorscale": {
           "diverging": [
            [
             0,
             "#8e0152"
            ],
            [
             0.1,
             "#c51b7d"
            ],
            [
             0.2,
             "#de77ae"
            ],
            [
             0.3,
             "#f1b6da"
            ],
            [
             0.4,
             "#fde0ef"
            ],
            [
             0.5,
             "#f7f7f7"
            ],
            [
             0.6,
             "#e6f5d0"
            ],
            [
             0.7,
             "#b8e186"
            ],
            [
             0.8,
             "#7fbc41"
            ],
            [
             0.9,
             "#4d9221"
            ],
            [
             1,
             "#276419"
            ]
           ],
           "sequential": [
            [
             0,
             "#0d0887"
            ],
            [
             0.1111111111111111,
             "#46039f"
            ],
            [
             0.2222222222222222,
             "#7201a8"
            ],
            [
             0.3333333333333333,
             "#9c179e"
            ],
            [
             0.4444444444444444,
             "#bd3786"
            ],
            [
             0.5555555555555556,
             "#d8576b"
            ],
            [
             0.6666666666666666,
             "#ed7953"
            ],
            [
             0.7777777777777778,
             "#fb9f3a"
            ],
            [
             0.8888888888888888,
             "#fdca26"
            ],
            [
             1,
             "#f0f921"
            ]
           ],
           "sequentialminus": [
            [
             0,
             "#0d0887"
            ],
            [
             0.1111111111111111,
             "#46039f"
            ],
            [
             0.2222222222222222,
             "#7201a8"
            ],
            [
             0.3333333333333333,
             "#9c179e"
            ],
            [
             0.4444444444444444,
             "#bd3786"
            ],
            [
             0.5555555555555556,
             "#d8576b"
            ],
            [
             0.6666666666666666,
             "#ed7953"
            ],
            [
             0.7777777777777778,
             "#fb9f3a"
            ],
            [
             0.8888888888888888,
             "#fdca26"
            ],
            [
             1,
             "#f0f921"
            ]
           ]
          },
          "colorway": [
           "#636efa",
           "#EF553B",
           "#00cc96",
           "#ab63fa",
           "#FFA15A",
           "#19d3f3",
           "#FF6692",
           "#B6E880",
           "#FF97FF",
           "#FECB52"
          ],
          "font": {
           "color": "#2a3f5f"
          },
          "geo": {
           "bgcolor": "white",
           "lakecolor": "white",
           "landcolor": "#E5ECF6",
           "showlakes": true,
           "showland": true,
           "subunitcolor": "white"
          },
          "hoverlabel": {
           "align": "left"
          },
          "hovermode": "closest",
          "mapbox": {
           "style": "light"
          },
          "paper_bgcolor": "white",
          "plot_bgcolor": "#E5ECF6",
          "polar": {
           "angularaxis": {
            "gridcolor": "white",
            "linecolor": "white",
            "ticks": ""
           },
           "bgcolor": "#E5ECF6",
           "radialaxis": {
            "gridcolor": "white",
            "linecolor": "white",
            "ticks": ""
           }
          },
          "scene": {
           "xaxis": {
            "backgroundcolor": "#E5ECF6",
            "gridcolor": "white",
            "gridwidth": 2,
            "linecolor": "white",
            "showbackground": true,
            "ticks": "",
            "zerolinecolor": "white"
           },
           "yaxis": {
            "backgroundcolor": "#E5ECF6",
            "gridcolor": "white",
            "gridwidth": 2,
            "linecolor": "white",
            "showbackground": true,
            "ticks": "",
            "zerolinecolor": "white"
           },
           "zaxis": {
            "backgroundcolor": "#E5ECF6",
            "gridcolor": "white",
            "gridwidth": 2,
            "linecolor": "white",
            "showbackground": true,
            "ticks": "",
            "zerolinecolor": "white"
           }
          },
          "shapedefaults": {
           "line": {
            "color": "#2a3f5f"
           }
          },
          "ternary": {
           "aaxis": {
            "gridcolor": "white",
            "linecolor": "white",
            "ticks": ""
           },
           "baxis": {
            "gridcolor": "white",
            "linecolor": "white",
            "ticks": ""
           },
           "bgcolor": "#E5ECF6",
           "caxis": {
            "gridcolor": "white",
            "linecolor": "white",
            "ticks": ""
           }
          },
          "title": {
           "x": 0.05
          },
          "xaxis": {
           "automargin": true,
           "gridcolor": "white",
           "linecolor": "white",
           "ticks": "",
           "title": {
            "standoff": 15
           },
           "zerolinecolor": "white",
           "zerolinewidth": 2
          },
          "yaxis": {
           "automargin": true,
           "gridcolor": "white",
           "linecolor": "white",
           "ticks": "",
           "title": {
            "standoff": 15
           },
           "zerolinecolor": "white",
           "zerolinewidth": 2
          }
         }
        },
        "title": {
         "text": "Log P(S|D) (352 IDs)<br>tail width=30, main weight=0.7"
        },
        "width": 400,
        "xaxis": {
         "anchor": "y",
         "domain": [
          0,
          1
         ],
         "title": {
          "text": "Main width"
         },
         "type": "category"
        },
        "yaxis": {
         "anchor": "x",
         "domain": [
          0,
          1
         ],
         "title": {
          "text": "Laplace"
         },
         "type": "category"
        }
       }
      }
     },
     "metadata": {},
     "output_type": "display_data"
    }
   ],
   "source": [
    "# Plot heatmap with main width on x axis, tail width on y axis and log_p_S_given_D as the color, just use the first 3 main weights\n",
    "\n",
    "tail_width = 30\n",
    "main_weight = 0.7\n",
    "\n",
    "fig = make_subplots(1, 1)\n",
    "\n",
    "fig.add_trace(\n",
    "    go.Heatmap(z=df_10[\"log_p_S_given_D\"], x=df_10[\"main width\"], y=df_10[\"laplace\"]),\n",
    "    row=1,\n",
    "    col=1,\n",
    ")\n",
    "fig.update_xaxes(\n",
    "    type=\"category\",\n",
    "    row=1,\n",
    "    col=1,\n",
    "    title=\"Main width\",\n",
    ")\n",
    "\n",
    "fig.update_layout(\n",
    "    title=f\"Log P(S|D) ({len(IDs_10)} IDs)<br>tail width={tail_width}, main weight={main_weight}\",\n",
    "    yaxis_title=\"Laplace\",\n",
    "    # yaxis_type='log',\n",
    "    width=400,\n",
    "    height=250,\n",
    "    font_size=10,\n",
    ")\n",
    "# Recude font size of the subplot titles\n",
    "for annotation in fig[\"layout\"][\"annotations\"]:\n",
    "    annotation[\"font\"] = dict(size=14)\n",
    "# use the same color scale for all subplots\n",
    "fig.update_traces(\n",
    "    zmin=min(df_10.log_p_S_given_D[df_10.log_p_S_given_D != -np.inf]),\n",
    "    zmax=max(df_10.log_p_S_given_D),\n",
    "    colorbar=dict(title=\"log_p_S_given_D\"),\n",
    ")\n",
    "# X axis and y axis are categorical\n",
    "fig.update_yaxes(type=\"category\")\n",
    "\n",
    "fig.show()"
   ]
  },
  {
   "cell_type": "code",
   "execution_count": null,
   "metadata": {},
   "outputs": [],
   "source": []
  }
 ],
 "metadata": {
  "kernelspec": {
   "display_name": "phd",
   "language": "python",
   "name": "python3"
  },
  "language_info": {
   "codemirror_mode": {
    "name": "ipython",
    "version": 3
   },
   "file_extension": ".py",
   "mimetype": "text/x-python",
   "name": "python",
   "nbconvert_exporter": "python",
   "pygments_lexer": "ipython3",
   "version": "3.10.13"
  }
 },
 "nbformat": 4,
 "nbformat_minor": 2
}
