{
 "cells": [
  {
   "cell_type": "code",
   "execution_count": 1,
   "metadata": {},
   "outputs": [],
   "source": [
    "import numpy as np\n",
    "import pandas as pd\n",
    "from plotly.subplots import make_subplots\n",
    "\n",
    "import src.data.breathe_data as bd\n",
    "import src.data.helpers as dh\n",
    "import src.inference.helpers as ih\n",
    "import src.modelling_ar.ar as ar\n",
    "import src.inf_cutset_conditioning.helpers as cutseth\n",
    "import src.inf_cutset_conditioning.cutset_cond_algs_learn_ar_change as cca\n",
    "\n",
    "import src.models.builders as mb\n",
    "import src.models.var_builders as var_builders\n",
    "from pgmpy.inference.ExactInference import VariableElimination\n",
    "from pgmpy.factors.discrete import TabularCPD\n",
    "\n",
    "import networkx as nx"
   ]
  },
  {
   "cell_type": "code",
   "execution_count": 2,
   "metadata": {},
   "outputs": [
    {
     "name": "stderr",
     "output_type": "stream",
     "text": [
      "INFO:root:* Checking for same day measurements *\n"
     ]
    }
   ],
   "source": [
    "# Load data\n",
    "df = bd.load_meas_from_excel(\"BR_O2_FEV1_FEF2575_conservative_smoothing_with_idx\")"
   ]
  },
  {
   "cell_type": "code",
   "execution_count": 3,
   "metadata": {},
   "outputs": [
    {
     "ename": "FileNotFoundError",
     "evalue": "[Errno 2] No such file or directory: '/Users/tristan.trebaol/Desktop/PhD/Code/phd//src/models/cpts/ecFEV1_0_6_0.05_uecFEV1_0_6_0.05.npy'",
     "output_type": "error",
     "traceback": [
      "\u001b[0;31m---------------------------------------------------------------------------\u001b[0m",
      "\u001b[0;31mFileNotFoundError\u001b[0m                         Traceback (most recent call last)",
      "Cell \u001b[0;32mIn[3], line 9\u001b[0m\n\u001b[1;32m      2\u001b[0m ar_prior \u001b[38;5;241m=\u001b[39m \u001b[38;5;124m\"\u001b[39m\u001b[38;5;124mbreathe (2 days model, ecFEV1 addmultnoise, ecFEF25-75)\u001b[39m\u001b[38;5;124m\"\u001b[39m\n\u001b[1;32m      3\u001b[0m ar_change_cpt_suffix \u001b[38;5;241m=\u001b[39m \u001b[38;5;124m\"\u001b[39m\u001b[38;5;124m_shape_factor\u001b[39m\u001b[38;5;124m\"\u001b[39m\n\u001b[1;32m      5\u001b[0m (\n\u001b[1;32m      6\u001b[0m     p_M_given_D,\n\u001b[1;32m      7\u001b[0m     log_p_D_given_M,\n\u001b[1;32m      8\u001b[0m     res_dict,\n\u001b[0;32m----> 9\u001b[0m ) \u001b[38;5;241m=\u001b[39m \u001b[43mcca\u001b[49m\u001b[38;5;241;43m.\u001b[39;49m\u001b[43mrun_long_noise_model_through_time\u001b[49m\u001b[43m(\u001b[49m\u001b[43mdf\u001b[49m\u001b[43m,\u001b[49m\u001b[43m \u001b[49m\u001b[43mar_change_cpt_suffix\u001b[49m\u001b[38;5;241;43m=\u001b[39;49m\u001b[43mar_change_cpt_suffix\u001b[49m\u001b[43m,\u001b[49m\u001b[43m \u001b[49m\u001b[43msave\u001b[49m\u001b[38;5;241;43m=\u001b[39;49m\u001b[38;5;28;43;01mFalse\u001b[39;49;00m\u001b[43m)\u001b[49m\n",
      "File \u001b[0;32m~/Desktop/PhD/Code/phd/src/inf_cutset_conditioning/cutset_cond_algs_learn_ar_change.py:23\u001b[0m, in \u001b[0;36mrun_long_noise_model_through_time\u001b[0;34m(df, ar_prior, ia_prior, ar_change_cpt_suffix, ecfev1_noise_model_suffix, fef2575_cpt_suffix, debug, save)\u001b[0m\n\u001b[1;32m     12\u001b[0m \u001b[38;5;28;01mdef\u001b[39;00m \u001b[38;5;21mrun_long_noise_model_through_time\u001b[39m(\n\u001b[1;32m     13\u001b[0m     df,\n\u001b[1;32m     14\u001b[0m     ar_prior\u001b[38;5;241m=\u001b[39m\u001b[38;5;124m\"\u001b[39m\u001b[38;5;124muniform\u001b[39m\u001b[38;5;124m\"\u001b[39m,\n\u001b[0;32m   (...)\u001b[0m\n\u001b[1;32m     20\u001b[0m     save\u001b[38;5;241m=\u001b[39m\u001b[38;5;28;01mFalse\u001b[39;00m,\n\u001b[1;32m     21\u001b[0m ):\n\u001b[1;32m     22\u001b[0m     inf_alg, HFEV1, h_s_obs_states, AR, ecFEV1, ecFEF2575prctecFEV1, model_spec_txt \u001b[38;5;241m=\u001b[39m (\n\u001b[0;32m---> 23\u001b[0m         \u001b[43mload_long_noise_model_through_time\u001b[49m\u001b[43m(\u001b[49m\n\u001b[1;32m     24\u001b[0m \u001b[43m            \u001b[49m\u001b[43mdf\u001b[49m\u001b[43m,\u001b[49m\n\u001b[1;32m     25\u001b[0m \u001b[43m            \u001b[49m\u001b[43mar_prior\u001b[49m\u001b[43m,\u001b[49m\n\u001b[1;32m     26\u001b[0m \u001b[43m            \u001b[49m\u001b[43mia_prior\u001b[49m\u001b[43m,\u001b[49m\n\u001b[1;32m     27\u001b[0m \u001b[43m            \u001b[49m\u001b[43mar_change_cpt_suffix\u001b[49m\u001b[43m,\u001b[49m\n\u001b[1;32m     28\u001b[0m \u001b[43m            \u001b[49m\u001b[43mecfev1_noise_model_suffix\u001b[49m\u001b[43m,\u001b[49m\n\u001b[1;32m     29\u001b[0m \u001b[43m            \u001b[49m\u001b[43mfef2575_cpt_suffix\u001b[49m\u001b[43m,\u001b[49m\n\u001b[1;32m     30\u001b[0m \u001b[43m        \u001b[49m\u001b[43m)\u001b[49m\n\u001b[1;32m     31\u001b[0m     )\n\u001b[1;32m     33\u001b[0m     \u001b[38;5;66;03m# if type == \"fev1, fef2575\":\u001b[39;00m\n\u001b[1;32m     34\u001b[0m     (\n\u001b[1;32m     35\u001b[0m         p_M_given_D,\n\u001b[1;32m     36\u001b[0m         log_p_D_given_M,\n\u001b[0;32m   (...)\u001b[0m\n\u001b[1;32m     48\u001b[0m         save\u001b[38;5;241m=\u001b[39msave,\n\u001b[1;32m     49\u001b[0m     )\n",
      "File \u001b[0;32m~/Desktop/PhD/Code/phd/src/inf_cutset_conditioning/cutset_cond_algs_learn_ar_change.py:87\u001b[0m, in \u001b[0;36mload_long_noise_model_through_time\u001b[0;34m(df, ar_prior, ia_prior, ar_change_cpt_suffix, ecfev1_noise_model_suffix, fef2575_cpt_suffix)\u001b[0m\n\u001b[1;32m     83\u001b[0m height, age, sex \u001b[38;5;241m=\u001b[39m df\u001b[38;5;241m.\u001b[39miloc[\u001b[38;5;241m0\u001b[39m][[\u001b[38;5;124m\"\u001b[39m\u001b[38;5;124mHeight\u001b[39m\u001b[38;5;124m\"\u001b[39m, \u001b[38;5;124m\"\u001b[39m\u001b[38;5;124mAge\u001b[39m\u001b[38;5;124m\"\u001b[39m, \u001b[38;5;124m\"\u001b[39m\u001b[38;5;124mSex\u001b[39m\u001b[38;5;124m\"\u001b[39m]]\n\u001b[1;32m     85\u001b[0m \u001b[38;5;66;03m# Initialize the noise model and its variables\u001b[39;00m\n\u001b[1;32m     86\u001b[0m _, _, HFEV1, _, _, _, HO2Sat, \u001b[38;5;241m*\u001b[39m_ \u001b[38;5;241m=\u001b[39m (\n\u001b[0;32m---> 87\u001b[0m     \u001b[43mmb\u001b[49m\u001b[38;5;241;43m.\u001b[39;49m\u001b[43mo2sat_fev1_fef2575_long_model_noise_shared_healthy_vars_and_temporal_ar\u001b[49m\u001b[43m(\u001b[49m\n\u001b[1;32m     88\u001b[0m \u001b[43m        \u001b[49m\u001b[43mheight\u001b[49m\u001b[43m,\u001b[49m\n\u001b[1;32m     89\u001b[0m \u001b[43m        \u001b[49m\u001b[43mage\u001b[49m\u001b[43m,\u001b[49m\n\u001b[1;32m     90\u001b[0m \u001b[43m        \u001b[49m\u001b[43msex\u001b[49m\u001b[43m,\u001b[49m\n\u001b[1;32m     91\u001b[0m \u001b[43m        \u001b[49m\u001b[43mar_change_cpt_suffix\u001b[49m\u001b[38;5;241;43m=\u001b[39;49m\u001b[43mar_change_cpt_suffix\u001b[49m\u001b[43m,\u001b[49m\n\u001b[1;32m     92\u001b[0m \u001b[43m        \u001b[49m\u001b[43mecfev1_noise_model_suffix\u001b[49m\u001b[38;5;241;43m=\u001b[39;49m\u001b[43mecfev1_noise_model_suffix\u001b[49m\u001b[43m,\u001b[49m\n\u001b[1;32m     93\u001b[0m \u001b[43m        \u001b[49m\u001b[43mfef2575_cpt_suffix\u001b[49m\u001b[38;5;241;43m=\u001b[39;49m\u001b[43mfef2575_cpt_suffix\u001b[49m\u001b[43m,\u001b[49m\n\u001b[1;32m     94\u001b[0m \u001b[43m    \u001b[49m\u001b[43m)\u001b[49m\n\u001b[1;32m     95\u001b[0m )\n\u001b[1;32m     97\u001b[0m B \u001b[38;5;241m=\u001b[39m mh\u001b[38;5;241m.\u001b[39mDiscreteVariableNode(\u001b[38;5;124m\"\u001b[39m\u001b[38;5;124mAR change factor\u001b[39m\u001b[38;5;124m\"\u001b[39m, \u001b[38;5;241m2\u001b[39m, \u001b[38;5;241m10\u001b[39m, \u001b[38;5;241m2\u001b[39m)\n\u001b[1;32m     98\u001b[0m S_obs_idx_list \u001b[38;5;241m=\u001b[39m \u001b[38;5;28mrange\u001b[39m(B\u001b[38;5;241m.\u001b[39mcard)\n",
      "File \u001b[0;32m~/Desktop/PhD/Code/phd/src/models/builders.py:876\u001b[0m, in \u001b[0;36mo2sat_fev1_fef2575_long_model_noise_shared_healthy_vars_and_temporal_ar\u001b[0;34m(height, age, sex, ia_prior, ar_prior, ar_change_cpt_suffix, n_cutset_conditioned_states, ecfev1_noise_model_suffix, fef2575_cpt_suffix, check_model)\u001b[0m\n\u001b[1;32m    845\u001b[0m \u001b[38;5;28;01mdef\u001b[39;00m \u001b[38;5;21mo2sat_fev1_fef2575_long_model_noise_shared_healthy_vars_and_temporal_ar\u001b[39m(\n\u001b[1;32m    846\u001b[0m     height,\n\u001b[1;32m    847\u001b[0m     age,\n\u001b[0;32m   (...)\u001b[0m\n\u001b[1;32m    855\u001b[0m     check_model\u001b[38;5;241m=\u001b[39m\u001b[38;5;28;01mFalse\u001b[39;00m,\n\u001b[1;32m    856\u001b[0m ):\n\u001b[1;32m    857\u001b[0m \u001b[38;5;250m    \u001b[39m\u001b[38;5;124;03m\"\"\"\u001b[39;00m\n\u001b[1;32m    858\u001b[0m \u001b[38;5;124;03m    Longitudinal model with full FEV1, FEF25-75 and O2Sat sides.\u001b[39;00m\n\u001b[1;32m    859\u001b[0m \u001b[38;5;124;03m    HFEV1 and HO2Sat are shared across time points.\u001b[39;00m\n\u001b[0;32m   (...)\u001b[0m\n\u001b[1;32m    862\u001b[0m \u001b[38;5;124;03m    Musn't necessarily use the cutset conditioning\u001b[39;00m\n\u001b[1;32m    863\u001b[0m \u001b[38;5;124;03m    \"\"\"\u001b[39;00m\n\u001b[1;32m    865\u001b[0m     (\n\u001b[1;32m    866\u001b[0m         HFEV1,\n\u001b[1;32m    867\u001b[0m         uecFEV1,\n\u001b[1;32m    868\u001b[0m         ecFEV1,\n\u001b[1;32m    869\u001b[0m         AR,\n\u001b[1;32m    870\u001b[0m         HO2Sat,\n\u001b[1;32m    871\u001b[0m         O2SatFFA,\n\u001b[1;32m    872\u001b[0m         IA,\n\u001b[1;32m    873\u001b[0m         UO2Sat,\n\u001b[1;32m    874\u001b[0m         O2Sat,\n\u001b[1;32m    875\u001b[0m         ecFEF2575prctecFEV1,\n\u001b[0;32m--> 876\u001b[0m     ) \u001b[38;5;241m=\u001b[39m \u001b[43mvar_builders\u001b[49m\u001b[38;5;241;43m.\u001b[39;49m\u001b[43mo2sat_fev1_fef2575_long_model_noise_shared_healthy_vars_and_temporal_ar\u001b[49m\u001b[43m(\u001b[49m\n\u001b[1;32m    877\u001b[0m \u001b[43m        \u001b[49m\u001b[43mheight\u001b[49m\u001b[43m,\u001b[49m\n\u001b[1;32m    878\u001b[0m \u001b[43m        \u001b[49m\u001b[43mage\u001b[49m\u001b[43m,\u001b[49m\n\u001b[1;32m    879\u001b[0m \u001b[43m        \u001b[49m\u001b[43msex\u001b[49m\u001b[43m,\u001b[49m\n\u001b[1;32m    880\u001b[0m \u001b[43m        \u001b[49m\u001b[43mia_prior\u001b[49m\u001b[43m,\u001b[49m\n\u001b[1;32m    881\u001b[0m \u001b[43m        \u001b[49m\u001b[43mar_prior\u001b[49m\u001b[43m,\u001b[49m\n\u001b[1;32m    882\u001b[0m \u001b[43m        \u001b[49m\u001b[43mar_change_cpt_suffix\u001b[49m\u001b[43m,\u001b[49m\n\u001b[1;32m    883\u001b[0m \u001b[43m        \u001b[49m\u001b[43mn_cutset_conditioned_states\u001b[49m\u001b[43m,\u001b[49m\n\u001b[1;32m    884\u001b[0m \u001b[43m        \u001b[49m\u001b[43mecfev1_noise_model_suffix\u001b[49m\u001b[43m,\u001b[49m\n\u001b[1;32m    885\u001b[0m \u001b[43m        \u001b[49m\u001b[43mfef2575_cpt_suffix\u001b[49m\n\u001b[1;32m    886\u001b[0m \u001b[43m    \u001b[49m\u001b[43m)\u001b[49m\n\u001b[1;32m    887\u001b[0m     model \u001b[38;5;241m=\u001b[39m graph_builders\u001b[38;5;241m.\u001b[39mfev1_fef2575_o2sat_point_in_time_noise_factor_graph(\n\u001b[1;32m    888\u001b[0m         HFEV1,\n\u001b[1;32m    889\u001b[0m         uecFEV1,\n\u001b[0;32m   (...)\u001b[0m\n\u001b[1;32m    898\u001b[0m         check_model,\n\u001b[1;32m    899\u001b[0m     )\n\u001b[1;32m    900\u001b[0m     inf_alg \u001b[38;5;241m=\u001b[39m apply_factor_graph_bp(model)\n",
      "File \u001b[0;32m~/Desktop/PhD/Code/phd/src/models/var_builders.py:1112\u001b[0m, in \u001b[0;36mo2sat_fev1_fef2575_long_model_noise_shared_healthy_vars_and_temporal_ar\u001b[0;34m(height, age, sex, ia_prior, ar_prior, ar_change_cpt_suffix, n_cutset_conditioned_states, ecfev1_noise_model_suffix, fef2575_cpt_suffix)\u001b[0m\n\u001b[1;32m   1110\u001b[0m \u001b[38;5;66;03m# Calculate CPTs\u001b[39;00m\n\u001b[1;32m   1111\u001b[0m uecFEV1\u001b[38;5;241m.\u001b[39mset_cpt(get_cpt([uecFEV1, HFEV1, AR]))\n\u001b[0;32m-> 1112\u001b[0m ecFEV1\u001b[38;5;241m.\u001b[39mset_cpt(\u001b[43mget_cpt\u001b[49m\u001b[43m(\u001b[49m\u001b[43m[\u001b[49m\u001b[43mecFEV1\u001b[49m\u001b[43m,\u001b[49m\u001b[43m \u001b[49m\u001b[43muecFEV1\u001b[49m\u001b[43m]\u001b[49m\u001b[43m,\u001b[49m\u001b[43m \u001b[49m\u001b[43msuffix\u001b[49m\u001b[38;5;241;43m=\u001b[39;49m\u001b[43mecfev1_noise_model_suffix\u001b[49m\u001b[43m)\u001b[49m)\n\u001b[1;32m   1113\u001b[0m O2SatFFA\u001b[38;5;241m.\u001b[39mset_cpt(get_cpt([O2SatFFA, HO2Sat, AR]))\n\u001b[1;32m   1114\u001b[0m UO2Sat\u001b[38;5;241m.\u001b[39mset_cpt(get_cpt([UO2Sat, O2SatFFA, IA]))\n",
      "File \u001b[0;32m~/Desktop/PhD/Code/phd/src/models/cpts/helpers.py:21\u001b[0m, in \u001b[0;36mget_cpt\u001b[0;34m(vars, suffix)\u001b[0m\n\u001b[1;32m     18\u001b[0m \u001b[38;5;28;01mif\u001b[39;00m suffix \u001b[38;5;129;01mis\u001b[39;00m \u001b[38;5;129;01mnot\u001b[39;00m \u001b[38;5;28;01mNone\u001b[39;00m:\n\u001b[1;32m     19\u001b[0m     filename \u001b[38;5;241m=\u001b[39m filename \u001b[38;5;241m+\u001b[39m suffix\n\u001b[0;32m---> 21\u001b[0m cpt \u001b[38;5;241m=\u001b[39m \u001b[43mnp\u001b[49m\u001b[38;5;241;43m.\u001b[39;49m\u001b[43mload\u001b[49m\u001b[43m(\u001b[49m\u001b[38;5;124;43mf\u001b[39;49m\u001b[38;5;124;43m\"\u001b[39;49m\u001b[38;5;132;43;01m{\u001b[39;49;00m\u001b[43mpath_to_folder\u001b[49m\u001b[38;5;132;43;01m}\u001b[39;49;00m\u001b[38;5;132;43;01m{\u001b[39;49;00m\u001b[43mfilename\u001b[49m\u001b[38;5;132;43;01m}\u001b[39;49;00m\u001b[38;5;124;43m.npy\u001b[39;49m\u001b[38;5;124;43m\"\u001b[39;49m\u001b[43m)\u001b[49m\n\u001b[1;32m     23\u001b[0m \u001b[38;5;28;01massert\u001b[39;00m \u001b[38;5;28mlen\u001b[39m(\u001b[38;5;28mvars\u001b[39m) \u001b[38;5;241m==\u001b[39m \u001b[38;5;28mlen\u001b[39m(cpt\u001b[38;5;241m.\u001b[39mshape)\n\u001b[1;32m     24\u001b[0m \u001b[38;5;28;01mreturn\u001b[39;00m cpt\n",
      "File \u001b[0;32m/Applications/anaconda3/envs/phd/lib/python3.10/site-packages/numpy/lib/npyio.py:427\u001b[0m, in \u001b[0;36mload\u001b[0;34m(file, mmap_mode, allow_pickle, fix_imports, encoding, max_header_size)\u001b[0m\n\u001b[1;32m    425\u001b[0m     own_fid \u001b[38;5;241m=\u001b[39m \u001b[38;5;28;01mFalse\u001b[39;00m\n\u001b[1;32m    426\u001b[0m \u001b[38;5;28;01melse\u001b[39;00m:\n\u001b[0;32m--> 427\u001b[0m     fid \u001b[38;5;241m=\u001b[39m stack\u001b[38;5;241m.\u001b[39menter_context(\u001b[38;5;28;43mopen\u001b[39;49m\u001b[43m(\u001b[49m\u001b[43mos_fspath\u001b[49m\u001b[43m(\u001b[49m\u001b[43mfile\u001b[49m\u001b[43m)\u001b[49m\u001b[43m,\u001b[49m\u001b[43m \u001b[49m\u001b[38;5;124;43m\"\u001b[39;49m\u001b[38;5;124;43mrb\u001b[39;49m\u001b[38;5;124;43m\"\u001b[39;49m\u001b[43m)\u001b[49m)\n\u001b[1;32m    428\u001b[0m     own_fid \u001b[38;5;241m=\u001b[39m \u001b[38;5;28;01mTrue\u001b[39;00m\n\u001b[1;32m    430\u001b[0m \u001b[38;5;66;03m# Code to distinguish from NumPy binary files and pickles.\u001b[39;00m\n",
      "\u001b[0;31mFileNotFoundError\u001b[0m: [Errno 2] No such file or directory: '/Users/tristan.trebaol/Desktop/PhD/Code/phd//src/models/cpts/ecFEV1_0_6_0.05_uecFEV1_0_6_0.05.npy'"
     ]
    }
   ],
   "source": [
    "ecfev1_noise_model_suffix = \"_std_0.068\"\n",
    "ar_prior = \"breathe (2 days model, ecFEV1 addmultnoise, ecFEF25-75)\"\n",
    "ar_change_cpt_suffix = \"_shape_factor\"\n",
    "\n",
    "(\n",
    "    p_M_given_D,\n",
    "    log_p_D_given_M,\n",
    "    res_dict,\n",
    ") = cca.run_long_noise_model_through_time(df, ar_change_cpt_suffix=ar_change_cpt_suffix, save=False)"
   ]
  },
  {
   "cell_type": "code",
   "execution_count": null,
   "metadata": {},
   "outputs": [],
   "source": []
  }
 ],
 "metadata": {
  "kernelspec": {
   "display_name": "phd",
   "language": "python",
   "name": "python3"
  },
  "language_info": {
   "codemirror_mode": {
    "name": "ipython",
    "version": 3
   },
   "file_extension": ".py",
   "mimetype": "text/x-python",
   "name": "python",
   "nbconvert_exporter": "python",
   "pygments_lexer": "ipython3",
   "version": "3.10.13"
  }
 },
 "nbformat": 4,
 "nbformat_minor": 2
}
