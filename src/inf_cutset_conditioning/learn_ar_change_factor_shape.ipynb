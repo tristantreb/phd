{
    "cells": [
        {
            "cell_type": "code",
            "execution_count": 32,
            "metadata": {},
            "outputs": [],
            "source": [
                "import numpy as np\n",
                "import pandas as pd\n",
                "from plotly.subplots import make_subplots\n",
                "import plotly.graph_objects as go\n",
                "\n",
                "import data.breathe_data as bd\n",
                "import data.helpers as dh\n",
                "import inference.helpers as ih\n",
                "import modelling_ar.ar as ar\n",
                "import inf_cutset_conditioning.helpers as cutseth\n",
                "import inf_cutset_conditioning.cutset_cond_algs_learn_ar_change as cca_ar_change\n",
                "import models.helpers as mh\n",
                "\n",
                "import json\n",
                "import numpy as np"
            ]
        },
        {
            "cell_type": "code",
            "execution_count": null,
            "metadata": {},
            "outputs": [],
            "source": [
                "# Load data\n",
                "df = bd.load_meas_from_excel(\"BR_O2_FEV1_FEF2575_conservative_smoothing_with_idx\")"
            ]
        },
        {
            "cell_type": "code",
            "execution_count": null,
            "metadata": {},
            "outputs": [],
            "source": [
                "id = \"134\"\n",
                "dftmp, start_idx, end_idx = dh.find_longest_conseq_sequence(df[df.ID == id], n_missing_days_allowed=2)\n",
                "\n",
                "\n",
                "ecfev1_noise_model_suffix = \"_std_add_mult_ecfev1\"\n",
                "ar_prior = \"breathe (2 days model, ecFEV1 addmultnoise, ecFEF25-75)\"\n",
                "ar_change_cpt_suffix = \"_shape_factor_single_laplace_card9\"\n",
                "\n",
                "(\n",
                "    # p_M_given_D,\n",
                "    # log_p_D_given_M,\n",
                "    # AR_given_M_and_D,\n",
                "    # AR_given_M_and_all_D,\n",
                "    log_p_S_given_D,\n",
                "    res_dict,\n",
                ") = cca_ar_change.run_long_noise_model_through_time(\n",
                "    dftmp,\n",
                "    ar_prior=ar_prior,\n",
                "    ar_change_cpt_suffix=ar_change_cpt_suffix,\n",
                "    ecfev1_noise_model_suffix=ecfev1_noise_model_suffix,\n",
                ")"
            ]
        },
        {
            "cell_type": "markdown",
            "metadata": {},
            "source": [
                "## Process results"
            ]
        },
        {
            "cell_type": "code",
            "execution_count": 143,
            "metadata": {},
            "outputs": [],
            "source": [
                "def load_and_process_json(card_suffix, params, labels):\n",
                "    path = f\"{dh.get_path_to_src()}inf_cutset_conditioning/p_s_given_d_card{card_suffix}.json\"\n",
                "\n",
                "    # Load the JSON file\n",
                "    with open(path, \"r\") as file:\n",
                "        data = json.load(file)\n",
                "\n",
                "    # Convert lists to NumPy arrays\n",
                "    for key in data:\n",
                "        data[key] = np.array(data[key])\n",
                "\n",
                "    # Replace 'nan' with np.nan and \"-inf\" with -np.inf\n",
                "    for key in data:\n",
                "        data[key][np.where(data[key] == \"-inf\")] = -np.inf\n",
                "\n",
                "    # REmove dtypes from data\n",
                "    data = {key: data[key].astype(float) for key in data}\n",
                "\n",
                "    # Remove entries with only nan values\n",
                "    data = {key: data[key] for key in data if not np.all(np.isnan(data[key]))}\n",
                "\n",
                "    log_p_s_given_D = np.sum(list(data.values()), axis=0)\n",
                "\n",
                "    df_heatmap = pd.DataFrame(\n",
                "        columns=[\"log_p_S_given_D\", \"params\"], data=zip(log_p_s_given_D, params)\n",
                "    )\n",
                "\n",
                "    # Split params into three columns \"main width\", \"tail width\", \"main weight\"\n",
                "    df_heatmap[labels] = pd.DataFrame(\n",
                "        df_heatmap[\"params\"].tolist(), index=df_heatmap.index\n",
                "    )\n",
                "    return df_heatmap, data\n",
                "\n",
                "\n",
                "# Plot heatmap with main width on x axis, tail width on y axis and log_p_S_given_D as the color, just use the first 3 main weights\n",
                "\n",
                "\n",
                "def add_heatmap_for_weight(fig, df, weight, col):\n",
                "    df = df[df[\"main weight\"] == weight]\n",
                "    fig.add_trace(\n",
                "        go.Heatmap(z=df[\"log_p_S_given_D\"], x=df[\"main width\"], y=df[\"tail width\"]),\n",
                "        row=1,\n",
                "        col=col,\n",
                "    )\n",
                "    fig.update_xaxes(\n",
                "        type=\"category\",\n",
                "        row=1,\n",
                "        col=col,\n",
                "        title=\"Main width<br><br>Main weight=\" + str(weight),\n",
                "    )\n",
                "    return fig\n",
                "\n",
                "\n",
                "def add_heatmap_for_laplace_old(fig, df, col, row=1):\n",
                "    fig.add_trace(\n",
                "        go.Heatmap(\n",
                "            z=df[\"log_p_S_given_D\"],\n",
                "            x=df[\"main width\"],\n",
                "            y=df[\"tail width\"],\n",
                "            colorbar=dict(\n",
                "                len=4,  # Make colorbar 1.5x the height of the plot\n",
                "                y=0.5,  # Center it vertically\n",
                "                yanchor=\"middle\",\n",
                "            ),\n",
                "        ),\n",
                "        row=row,\n",
                "        col=col,\n",
                "    )\n",
                "    fig.update_yaxes(\n",
                "        type=\"category\",\n",
                "        row=row,\n",
                "        col=col,\n",
                "        title=\"\",\n",
                "        showticklabels=False,\n",
                "    )\n",
                "    fig.update_xaxes(\n",
                "        type=\"category\",\n",
                "        row=row,\n",
                "        col=col,\n",
                "        title=\"Laplace width\",\n",
                "    )\n",
                "    return fig\n",
                "\n",
                "\n",
                "def plot_3_3_heatmaps(df_heatmap, IDs, w1, w2, w3):\n",
                "    fig = make_subplots(1, 3)\n",
                "\n",
                "    fig = add_heatmap_for_weight(fig, df_heatmap, w1, 1)\n",
                "    fig = add_heatmap_for_weight(fig, df_heatmap, w2, 2)\n",
                "    fig = add_heatmap_for_weight(fig, df_heatmap, w3, 3)\n",
                "\n",
                "    fig.update_layout(\n",
                "        title=f\"Log probability of S given D for different AR change parameters ({len(IDs)} IDs)\",\n",
                "        yaxis_title=\"Tail width\",\n",
                "        # yaxis_type='log',\n",
                "        width=650,\n",
                "        height=300,\n",
                "        font_size=10,\n",
                "    )\n",
                "    # Recude font size of the subplot titles\n",
                "    for annotation in fig[\"layout\"][\"annotations\"]:\n",
                "        annotation[\"font\"] = dict(size=14)\n",
                "    # use the same color scale for all subplots\n",
                "    fig.update_traces(\n",
                "        zmin=min(df_heatmap.log_p_S_given_D[df_heatmap.log_p_S_given_D != -np.inf]),\n",
                "        zmax=max(df_heatmap.log_p_S_given_D),\n",
                "        colorbar=dict(title=\"log_p_S_given_D\"),\n",
                "    )\n",
                "    # X axis and y axis are categorical\n",
                "    fig.update_yaxes(type=\"category\")\n",
                "\n",
                "    fig.show()"
            ]
        },
        {
            "cell_type": "code",
            "execution_count": 23,
            "metadata": {},
            "outputs": [],
            "source": [
                "params = [\n",
                "    (1, 10, 0.5),\n",
                "    (1, 10, 0.7),\n",
                "    (1, 10, 0.9),\n",
                "    (1, 30, 0.5),\n",
                "    (1, 30, 0.7),\n",
                "    (1, 30, 0.9),\n",
                "    (1, 50, 0.5),\n",
                "    (1, 50, 0.7),\n",
                "    (1, 50, 0.9),\n",
                "    (3, 10, 0.5),\n",
                "    (3, 10, 0.7),\n",
                "    (3, 10, 0.9),\n",
                "    (3, 30, 0.5),\n",
                "    (3, 30, 0.7),\n",
                "    (3, 30, 0.9),\n",
                "    (3, 50, 0.5),\n",
                "    (3, 50, 0.7),\n",
                "    (3, 50, 0.9),\n",
                "    (5, 10, 0.5),\n",
                "    (5, 10, 0.7),\n",
                "    (5, 10, 0.9),\n",
                "    (5, 30, 0.5),\n",
                "    (5, 30, 0.7),\n",
                "    (5, 30, 0.9),\n",
                "    (5, 50, 0.5),\n",
                "    (5, 50, 0.7),\n",
                "    (5, 50, 0.9),\n",
                "]\n",
                "labels = [\"main width\", \"tail width\", \"main weight\"]\n",
                "df_heatmap, IDs = load_and_process_json(27, params, labels)"
            ]
        },
        {
            "cell_type": "code",
            "execution_count": null,
            "metadata": {},
            "outputs": [],
            "source": [
                "plot_3_3_heatmaps(df_heatmap, IDs, 0.5, 0.7, 0.9)"
            ]
        },
        {
            "cell_type": "code",
            "execution_count": null,
            "metadata": {},
            "outputs": [],
            "source": [
                "params = [\n",
                "    (1, 10, 0.7),\n",
                "    (1, 10, 0.73),\n",
                "    (1, 10, 0.76),\n",
                "    (1, 10, 0.79),\n",
                "    (1, 10, 0.81),\n",
                "    (1, 10, 0.84),\n",
                "    (1, 10, 0.87),\n",
                "    (1, 10, 0.9),\n",
                "    (1, 10, 0.93),\n",
                "    (1, 10, 0.96),\n",
                "    (1, 10, 0.99),\n",
                "]\n",
                "\n",
                "df_heatmap, IDs = load_and_process_json(11, params, labels)\n",
                "df_heatmap"
            ]
        },
        {
            "cell_type": "code",
            "execution_count": null,
            "metadata": {},
            "outputs": [],
            "source": [
                "params = [\n",
                "    (0.2, 1, 0.9),\n",
                "    (0.2, 1, 0.95),\n",
                "    (0.2, 1, 1),\n",
                "    (0.2, 4, 0.9),\n",
                "    (0.2, 4, 0.95),\n",
                "    (0.2, 4, 1),\n",
                "    (0.2, 10, 0.9),\n",
                "    (0.2, 10, 0.95),\n",
                "    (0.2, 10, 1),\n",
                "    (0.4, 1, 0.9),\n",
                "    (0.4, 1, 0.95),\n",
                "    (0.4, 1, 1),\n",
                "    (0.4, 4, 0.9),\n",
                "    (0.4, 4, 0.95),\n",
                "    (0.4, 4, 1),\n",
                "    (0.4, 10, 0.9),\n",
                "    (0.4, 10, 0.95),\n",
                "    (0.4, 10, 1),\n",
                "    (1, 1, 0.9),\n",
                "    (1, 1, 0.95),\n",
                "    (1, 1, 1),\n",
                "    (1, 4, 0.9),\n",
                "    (1, 4, 0.95),\n",
                "    (1, 4, 1),\n",
                "    (1, 10, 0.9),\n",
                "    (1, 10, 0.95),\n",
                "    (1, 10, 1),\n",
                "]\n",
                "labels = [\"main width\", \"tail width\", \"main weight\"]\n",
                "df_heatmap, IDs = load_and_process_json(272, params, labels)\n",
                "plot_3_3_heatmaps(df_heatmap, IDs, 0.9, 0.95, 1)"
            ]
        },
        {
            "cell_type": "code",
            "execution_count": null,
            "metadata": {},
            "outputs": [],
            "source": [
                "params = [\n",
                "    (0.01, 0.1, 0.7),\n",
                "    (0.01, 0.2, 0.7),\n",
                "    (0.01, 0.5, 0.7),\n",
                "    (0.01, 0.8, 0.7),\n",
                "    (0.01, 1.1, 0.7),\n",
                "    (0.01, 1.4, 0.7),\n",
                "    (0.03, 0.1, 0.7),\n",
                "    (0.03, 0.2, 0.7),\n",
                "    (0.03, 0.5, 0.7),\n",
                "    (0.03, 0.8, 0.7),\n",
                "    (0.03, 1.1, 0.7),\n",
                "    (0.03, 1.4, 0.7),\n",
                "    (0.05, 0.1, 0.7),\n",
                "    (0.05, 0.2, 0.7),\n",
                "    (0.05, 0.5, 0.7),\n",
                "    (0.05, 0.8, 0.7),\n",
                "    (0.05, 1.1, 0.7),\n",
                "    (0.05, 1.4, 0.7),\n",
                "    (0.1, 0.2, 0.7),\n",
                "    (0.1, 0.5, 0.7),\n",
                "    (0.1, 0.8, 0.7),\n",
                "    (0.1, 1.1, 0.7),\n",
                "    (0.1, 1.4, 0.7),\n",
                "    (0.15, 0.2, 0.7),\n",
                "    (0.15, 0.5, 0.7),\n",
                "    (0.15, 0.8, 0.7),\n",
                "    (0.15, 1.1, 0.7),\n",
                "    (0.15, 1.4, 0.7),\n",
                "]\n",
                "labels = [\"main width\", \"tail width\", \"main weight\"]\n",
                "df_heatmap, IDs = load_and_process_json(28, params, labels)\n",
                "\n",
                "fig = make_subplots()\n",
                "fig = add_heatmap_for_weight(fig, df_heatmap, 0.7, 1)\n",
                "fig.update_layout(\n",
                "    title=f\"Log probability of S given D for different AR change parameters ({len(IDs)} IDs)\",\n",
                "    yaxis_title=\"Tail width\",\n",
                "    # yaxis_type='log',\n",
                "    width=450,\n",
                "    height=400,\n",
                "    font_size=10,\n",
                ")\n",
                "fig.show()"
            ]
        },
        {
            "cell_type": "code",
            "execution_count": 16,
            "metadata": {},
            "outputs": [
                {
                    "data": {
                        "application/vnd.plotly.v1+json": {
                            "config": {
                                "plotlyServerURL": "https://plot.ly"
                            },
                            "data": [
                                {
                                    "type": "heatmap",
                                    "x": [
                                        0.001,
                                        0.001,
                                        0.001,
                                        0.001,
                                        0.001,
                                        0.003,
                                        0.003,
                                        0.003,
                                        0.003,
                                        0.003,
                                        0.007,
                                        0.007,
                                        0.007,
                                        0.007,
                                        0.007,
                                        0.01,
                                        0.01,
                                        0.01,
                                        0.01,
                                        0.025,
                                        0.025,
                                        0.025,
                                        0.025
                                    ],
                                    "xaxis": "x",
                                    "y": [
                                        0.01,
                                        0.03,
                                        0.07,
                                        0.1,
                                        0.15,
                                        0.01,
                                        0.03,
                                        0.07,
                                        0.1,
                                        0.15,
                                        0.01,
                                        0.03,
                                        0.07,
                                        0.1,
                                        0.15,
                                        0.03,
                                        0.07,
                                        0.1,
                                        0.15,
                                        0.03,
                                        0.07,
                                        0.1,
                                        0.15
                                    ],
                                    "yaxis": "y",
                                    "z": [
                                        -4123117.1966971885,
                                        -4123149.190822902,
                                        -4123211.864707201,
                                        -4123260.6081240093,
                                        -4123341.9676698097,
                                        -4123117.979284369,
                                        -4123133.4281003424,
                                        -4123165.9617033494,
                                        -4123203.1286914814,
                                        -4123254.62008164,
                                        -4123118.158995322,
                                        -4123129.866290541,
                                        -4123152.774113389,
                                        -4123173.6389465714,
                                        -4123211.89882076,
                                        -4123131.90919656,
                                        -4123152.7540615285,
                                        -4123169.4871437484,
                                        -4123199.763797089,
                                        -4123152.1216394296,
                                        -4123172.0078127896,
                                        -4123188.963807789,
                                        -4123216.916576973
                                    ]
                                }
                            ],
                            "layout": {
                                "font": {
                                    "size": 10
                                },
                                "height": 400,
                                "template": {
                                    "data": {
                                        "bar": [
                                            {
                                                "error_x": {
                                                    "color": "#2a3f5f"
                                                },
                                                "error_y": {
                                                    "color": "#2a3f5f"
                                                },
                                                "marker": {
                                                    "line": {
                                                        "color": "#E5ECF6",
                                                        "width": 0.5
                                                    },
                                                    "pattern": {
                                                        "fillmode": "overlay",
                                                        "size": 10,
                                                        "solidity": 0.2
                                                    }
                                                },
                                                "type": "bar"
                                            }
                                        ],
                                        "barpolar": [
                                            {
                                                "marker": {
                                                    "line": {
                                                        "color": "#E5ECF6",
                                                        "width": 0.5
                                                    },
                                                    "pattern": {
                                                        "fillmode": "overlay",
                                                        "size": 10,
                                                        "solidity": 0.2
                                                    }
                                                },
                                                "type": "barpolar"
                                            }
                                        ],
                                        "carpet": [
                                            {
                                                "aaxis": {
                                                    "endlinecolor": "#2a3f5f",
                                                    "gridcolor": "white",
                                                    "linecolor": "white",
                                                    "minorgridcolor": "white",
                                                    "startlinecolor": "#2a3f5f"
                                                },
                                                "baxis": {
                                                    "endlinecolor": "#2a3f5f",
                                                    "gridcolor": "white",
                                                    "linecolor": "white",
                                                    "minorgridcolor": "white",
                                                    "startlinecolor": "#2a3f5f"
                                                },
                                                "type": "carpet"
                                            }
                                        ],
                                        "choropleth": [
                                            {
                                                "colorbar": {
                                                    "outlinewidth": 0,
                                                    "ticks": ""
                                                },
                                                "type": "choropleth"
                                            }
                                        ],
                                        "contour": [
                                            {
                                                "colorbar": {
                                                    "outlinewidth": 0,
                                                    "ticks": ""
                                                },
                                                "colorscale": [
                                                    [
                                                        0,
                                                        "#0d0887"
                                                    ],
                                                    [
                                                        0.1111111111111111,
                                                        "#46039f"
                                                    ],
                                                    [
                                                        0.2222222222222222,
                                                        "#7201a8"
                                                    ],
                                                    [
                                                        0.3333333333333333,
                                                        "#9c179e"
                                                    ],
                                                    [
                                                        0.4444444444444444,
                                                        "#bd3786"
                                                    ],
                                                    [
                                                        0.5555555555555556,
                                                        "#d8576b"
                                                    ],
                                                    [
                                                        0.6666666666666666,
                                                        "#ed7953"
                                                    ],
                                                    [
                                                        0.7777777777777778,
                                                        "#fb9f3a"
                                                    ],
                                                    [
                                                        0.8888888888888888,
                                                        "#fdca26"
                                                    ],
                                                    [
                                                        1,
                                                        "#f0f921"
                                                    ]
                                                ],
                                                "type": "contour"
                                            }
                                        ],
                                        "contourcarpet": [
                                            {
                                                "colorbar": {
                                                    "outlinewidth": 0,
                                                    "ticks": ""
                                                },
                                                "type": "contourcarpet"
                                            }
                                        ],
                                        "heatmap": [
                                            {
                                                "colorbar": {
                                                    "outlinewidth": 0,
                                                    "ticks": ""
                                                },
                                                "colorscale": [
                                                    [
                                                        0,
                                                        "#0d0887"
                                                    ],
                                                    [
                                                        0.1111111111111111,
                                                        "#46039f"
                                                    ],
                                                    [
                                                        0.2222222222222222,
                                                        "#7201a8"
                                                    ],
                                                    [
                                                        0.3333333333333333,
                                                        "#9c179e"
                                                    ],
                                                    [
                                                        0.4444444444444444,
                                                        "#bd3786"
                                                    ],
                                                    [
                                                        0.5555555555555556,
                                                        "#d8576b"
                                                    ],
                                                    [
                                                        0.6666666666666666,
                                                        "#ed7953"
                                                    ],
                                                    [
                                                        0.7777777777777778,
                                                        "#fb9f3a"
                                                    ],
                                                    [
                                                        0.8888888888888888,
                                                        "#fdca26"
                                                    ],
                                                    [
                                                        1,
                                                        "#f0f921"
                                                    ]
                                                ],
                                                "type": "heatmap"
                                            }
                                        ],
                                        "heatmapgl": [
                                            {
                                                "colorbar": {
                                                    "outlinewidth": 0,
                                                    "ticks": ""
                                                },
                                                "colorscale": [
                                                    [
                                                        0,
                                                        "#0d0887"
                                                    ],
                                                    [
                                                        0.1111111111111111,
                                                        "#46039f"
                                                    ],
                                                    [
                                                        0.2222222222222222,
                                                        "#7201a8"
                                                    ],
                                                    [
                                                        0.3333333333333333,
                                                        "#9c179e"
                                                    ],
                                                    [
                                                        0.4444444444444444,
                                                        "#bd3786"
                                                    ],
                                                    [
                                                        0.5555555555555556,
                                                        "#d8576b"
                                                    ],
                                                    [
                                                        0.6666666666666666,
                                                        "#ed7953"
                                                    ],
                                                    [
                                                        0.7777777777777778,
                                                        "#fb9f3a"
                                                    ],
                                                    [
                                                        0.8888888888888888,
                                                        "#fdca26"
                                                    ],
                                                    [
                                                        1,
                                                        "#f0f921"
                                                    ]
                                                ],
                                                "type": "heatmapgl"
                                            }
                                        ],
                                        "histogram": [
                                            {
                                                "marker": {
                                                    "pattern": {
                                                        "fillmode": "overlay",
                                                        "size": 10,
                                                        "solidity": 0.2
                                                    }
                                                },
                                                "type": "histogram"
                                            }
                                        ],
                                        "histogram2d": [
                                            {
                                                "colorbar": {
                                                    "outlinewidth": 0,
                                                    "ticks": ""
                                                },
                                                "colorscale": [
                                                    [
                                                        0,
                                                        "#0d0887"
                                                    ],
                                                    [
                                                        0.1111111111111111,
                                                        "#46039f"
                                                    ],
                                                    [
                                                        0.2222222222222222,
                                                        "#7201a8"
                                                    ],
                                                    [
                                                        0.3333333333333333,
                                                        "#9c179e"
                                                    ],
                                                    [
                                                        0.4444444444444444,
                                                        "#bd3786"
                                                    ],
                                                    [
                                                        0.5555555555555556,
                                                        "#d8576b"
                                                    ],
                                                    [
                                                        0.6666666666666666,
                                                        "#ed7953"
                                                    ],
                                                    [
                                                        0.7777777777777778,
                                                        "#fb9f3a"
                                                    ],
                                                    [
                                                        0.8888888888888888,
                                                        "#fdca26"
                                                    ],
                                                    [
                                                        1,
                                                        "#f0f921"
                                                    ]
                                                ],
                                                "type": "histogram2d"
                                            }
                                        ],
                                        "histogram2dcontour": [
                                            {
                                                "colorbar": {
                                                    "outlinewidth": 0,
                                                    "ticks": ""
                                                },
                                                "colorscale": [
                                                    [
                                                        0,
                                                        "#0d0887"
                                                    ],
                                                    [
                                                        0.1111111111111111,
                                                        "#46039f"
                                                    ],
                                                    [
                                                        0.2222222222222222,
                                                        "#7201a8"
                                                    ],
                                                    [
                                                        0.3333333333333333,
                                                        "#9c179e"
                                                    ],
                                                    [
                                                        0.4444444444444444,
                                                        "#bd3786"
                                                    ],
                                                    [
                                                        0.5555555555555556,
                                                        "#d8576b"
                                                    ],
                                                    [
                                                        0.6666666666666666,
                                                        "#ed7953"
                                                    ],
                                                    [
                                                        0.7777777777777778,
                                                        "#fb9f3a"
                                                    ],
                                                    [
                                                        0.8888888888888888,
                                                        "#fdca26"
                                                    ],
                                                    [
                                                        1,
                                                        "#f0f921"
                                                    ]
                                                ],
                                                "type": "histogram2dcontour"
                                            }
                                        ],
                                        "mesh3d": [
                                            {
                                                "colorbar": {
                                                    "outlinewidth": 0,
                                                    "ticks": ""
                                                },
                                                "type": "mesh3d"
                                            }
                                        ],
                                        "parcoords": [
                                            {
                                                "line": {
                                                    "colorbar": {
                                                        "outlinewidth": 0,
                                                        "ticks": ""
                                                    }
                                                },
                                                "type": "parcoords"
                                            }
                                        ],
                                        "pie": [
                                            {
                                                "automargin": true,
                                                "type": "pie"
                                            }
                                        ],
                                        "scatter": [
                                            {
                                                "fillpattern": {
                                                    "fillmode": "overlay",
                                                    "size": 10,
                                                    "solidity": 0.2
                                                },
                                                "type": "scatter"
                                            }
                                        ],
                                        "scatter3d": [
                                            {
                                                "line": {
                                                    "colorbar": {
                                                        "outlinewidth": 0,
                                                        "ticks": ""
                                                    }
                                                },
                                                "marker": {
                                                    "colorbar": {
                                                        "outlinewidth": 0,
                                                        "ticks": ""
                                                    }
                                                },
                                                "type": "scatter3d"
                                            }
                                        ],
                                        "scattercarpet": [
                                            {
                                                "marker": {
                                                    "colorbar": {
                                                        "outlinewidth": 0,
                                                        "ticks": ""
                                                    }
                                                },
                                                "type": "scattercarpet"
                                            }
                                        ],
                                        "scattergeo": [
                                            {
                                                "marker": {
                                                    "colorbar": {
                                                        "outlinewidth": 0,
                                                        "ticks": ""
                                                    }
                                                },
                                                "type": "scattergeo"
                                            }
                                        ],
                                        "scattergl": [
                                            {
                                                "marker": {
                                                    "colorbar": {
                                                        "outlinewidth": 0,
                                                        "ticks": ""
                                                    }
                                                },
                                                "type": "scattergl"
                                            }
                                        ],
                                        "scattermapbox": [
                                            {
                                                "marker": {
                                                    "colorbar": {
                                                        "outlinewidth": 0,
                                                        "ticks": ""
                                                    }
                                                },
                                                "type": "scattermapbox"
                                            }
                                        ],
                                        "scatterpolar": [
                                            {
                                                "marker": {
                                                    "colorbar": {
                                                        "outlinewidth": 0,
                                                        "ticks": ""
                                                    }
                                                },
                                                "type": "scatterpolar"
                                            }
                                        ],
                                        "scatterpolargl": [
                                            {
                                                "marker": {
                                                    "colorbar": {
                                                        "outlinewidth": 0,
                                                        "ticks": ""
                                                    }
                                                },
                                                "type": "scatterpolargl"
                                            }
                                        ],
                                        "scatterternary": [
                                            {
                                                "marker": {
                                                    "colorbar": {
                                                        "outlinewidth": 0,
                                                        "ticks": ""
                                                    }
                                                },
                                                "type": "scatterternary"
                                            }
                                        ],
                                        "surface": [
                                            {
                                                "colorbar": {
                                                    "outlinewidth": 0,
                                                    "ticks": ""
                                                },
                                                "colorscale": [
                                                    [
                                                        0,
                                                        "#0d0887"
                                                    ],
                                                    [
                                                        0.1111111111111111,
                                                        "#46039f"
                                                    ],
                                                    [
                                                        0.2222222222222222,
                                                        "#7201a8"
                                                    ],
                                                    [
                                                        0.3333333333333333,
                                                        "#9c179e"
                                                    ],
                                                    [
                                                        0.4444444444444444,
                                                        "#bd3786"
                                                    ],
                                                    [
                                                        0.5555555555555556,
                                                        "#d8576b"
                                                    ],
                                                    [
                                                        0.6666666666666666,
                                                        "#ed7953"
                                                    ],
                                                    [
                                                        0.7777777777777778,
                                                        "#fb9f3a"
                                                    ],
                                                    [
                                                        0.8888888888888888,
                                                        "#fdca26"
                                                    ],
                                                    [
                                                        1,
                                                        "#f0f921"
                                                    ]
                                                ],
                                                "type": "surface"
                                            }
                                        ],
                                        "table": [
                                            {
                                                "cells": {
                                                    "fill": {
                                                        "color": "#EBF0F8"
                                                    },
                                                    "line": {
                                                        "color": "white"
                                                    }
                                                },
                                                "header": {
                                                    "fill": {
                                                        "color": "#C8D4E3"
                                                    },
                                                    "line": {
                                                        "color": "white"
                                                    }
                                                },
                                                "type": "table"
                                            }
                                        ]
                                    },
                                    "layout": {
                                        "annotationdefaults": {
                                            "arrowcolor": "#2a3f5f",
                                            "arrowhead": 0,
                                            "arrowwidth": 1
                                        },
                                        "autotypenumbers": "strict",
                                        "coloraxis": {
                                            "colorbar": {
                                                "outlinewidth": 0,
                                                "ticks": ""
                                            }
                                        },
                                        "colorscale": {
                                            "diverging": [
                                                [
                                                    0,
                                                    "#8e0152"
                                                ],
                                                [
                                                    0.1,
                                                    "#c51b7d"
                                                ],
                                                [
                                                    0.2,
                                                    "#de77ae"
                                                ],
                                                [
                                                    0.3,
                                                    "#f1b6da"
                                                ],
                                                [
                                                    0.4,
                                                    "#fde0ef"
                                                ],
                                                [
                                                    0.5,
                                                    "#f7f7f7"
                                                ],
                                                [
                                                    0.6,
                                                    "#e6f5d0"
                                                ],
                                                [
                                                    0.7,
                                                    "#b8e186"
                                                ],
                                                [
                                                    0.8,
                                                    "#7fbc41"
                                                ],
                                                [
                                                    0.9,
                                                    "#4d9221"
                                                ],
                                                [
                                                    1,
                                                    "#276419"
                                                ]
                                            ],
                                            "sequential": [
                                                [
                                                    0,
                                                    "#0d0887"
                                                ],
                                                [
                                                    0.1111111111111111,
                                                    "#46039f"
                                                ],
                                                [
                                                    0.2222222222222222,
                                                    "#7201a8"
                                                ],
                                                [
                                                    0.3333333333333333,
                                                    "#9c179e"
                                                ],
                                                [
                                                    0.4444444444444444,
                                                    "#bd3786"
                                                ],
                                                [
                                                    0.5555555555555556,
                                                    "#d8576b"
                                                ],
                                                [
                                                    0.6666666666666666,
                                                    "#ed7953"
                                                ],
                                                [
                                                    0.7777777777777778,
                                                    "#fb9f3a"
                                                ],
                                                [
                                                    0.8888888888888888,
                                                    "#fdca26"
                                                ],
                                                [
                                                    1,
                                                    "#f0f921"
                                                ]
                                            ],
                                            "sequentialminus": [
                                                [
                                                    0,
                                                    "#0d0887"
                                                ],
                                                [
                                                    0.1111111111111111,
                                                    "#46039f"
                                                ],
                                                [
                                                    0.2222222222222222,
                                                    "#7201a8"
                                                ],
                                                [
                                                    0.3333333333333333,
                                                    "#9c179e"
                                                ],
                                                [
                                                    0.4444444444444444,
                                                    "#bd3786"
                                                ],
                                                [
                                                    0.5555555555555556,
                                                    "#d8576b"
                                                ],
                                                [
                                                    0.6666666666666666,
                                                    "#ed7953"
                                                ],
                                                [
                                                    0.7777777777777778,
                                                    "#fb9f3a"
                                                ],
                                                [
                                                    0.8888888888888888,
                                                    "#fdca26"
                                                ],
                                                [
                                                    1,
                                                    "#f0f921"
                                                ]
                                            ]
                                        },
                                        "colorway": [
                                            "#636efa",
                                            "#EF553B",
                                            "#00cc96",
                                            "#ab63fa",
                                            "#FFA15A",
                                            "#19d3f3",
                                            "#FF6692",
                                            "#B6E880",
                                            "#FF97FF",
                                            "#FECB52"
                                        ],
                                        "font": {
                                            "color": "#2a3f5f"
                                        },
                                        "geo": {
                                            "bgcolor": "white",
                                            "lakecolor": "white",
                                            "landcolor": "#E5ECF6",
                                            "showlakes": true,
                                            "showland": true,
                                            "subunitcolor": "white"
                                        },
                                        "hoverlabel": {
                                            "align": "left"
                                        },
                                        "hovermode": "closest",
                                        "mapbox": {
                                            "style": "light"
                                        },
                                        "paper_bgcolor": "white",
                                        "plot_bgcolor": "#E5ECF6",
                                        "polar": {
                                            "angularaxis": {
                                                "gridcolor": "white",
                                                "linecolor": "white",
                                                "ticks": ""
                                            },
                                            "bgcolor": "#E5ECF6",
                                            "radialaxis": {
                                                "gridcolor": "white",
                                                "linecolor": "white",
                                                "ticks": ""
                                            }
                                        },
                                        "scene": {
                                            "xaxis": {
                                                "backgroundcolor": "#E5ECF6",
                                                "gridcolor": "white",
                                                "gridwidth": 2,
                                                "linecolor": "white",
                                                "showbackground": true,
                                                "ticks": "",
                                                "zerolinecolor": "white"
                                            },
                                            "yaxis": {
                                                "backgroundcolor": "#E5ECF6",
                                                "gridcolor": "white",
                                                "gridwidth": 2,
                                                "linecolor": "white",
                                                "showbackground": true,
                                                "ticks": "",
                                                "zerolinecolor": "white"
                                            },
                                            "zaxis": {
                                                "backgroundcolor": "#E5ECF6",
                                                "gridcolor": "white",
                                                "gridwidth": 2,
                                                "linecolor": "white",
                                                "showbackground": true,
                                                "ticks": "",
                                                "zerolinecolor": "white"
                                            }
                                        },
                                        "shapedefaults": {
                                            "line": {
                                                "color": "#2a3f5f"
                                            }
                                        },
                                        "ternary": {
                                            "aaxis": {
                                                "gridcolor": "white",
                                                "linecolor": "white",
                                                "ticks": ""
                                            },
                                            "baxis": {
                                                "gridcolor": "white",
                                                "linecolor": "white",
                                                "ticks": ""
                                            },
                                            "bgcolor": "#E5ECF6",
                                            "caxis": {
                                                "gridcolor": "white",
                                                "linecolor": "white",
                                                "ticks": ""
                                            }
                                        },
                                        "title": {
                                            "x": 0.05
                                        },
                                        "xaxis": {
                                            "automargin": true,
                                            "gridcolor": "white",
                                            "linecolor": "white",
                                            "ticks": "",
                                            "title": {
                                                "standoff": 15
                                            },
                                            "zerolinecolor": "white",
                                            "zerolinewidth": 2
                                        },
                                        "yaxis": {
                                            "automargin": true,
                                            "gridcolor": "white",
                                            "linecolor": "white",
                                            "ticks": "",
                                            "title": {
                                                "standoff": 15
                                            },
                                            "zerolinecolor": "white",
                                            "zerolinewidth": 2
                                        }
                                    }
                                },
                                "title": {
                                    "text": "Log probability of S given D for different shape parameters<br>(18 IDs)"
                                },
                                "width": 450,
                                "xaxis": {
                                    "anchor": "y",
                                    "domain": [
                                        0,
                                        1
                                    ],
                                    "title": {
                                        "text": "Main width<br><br>Main weight=0.7"
                                    },
                                    "type": "category"
                                },
                                "yaxis": {
                                    "anchor": "x",
                                    "domain": [
                                        0,
                                        1
                                    ],
                                    "title": {
                                        "text": "Tail width"
                                    }
                                }
                            }
                        }
                    },
                    "metadata": {},
                    "output_type": "display_data"
                }
            ],
            "source": [
                "params = [\n",
                "    (0.001, 0.01, 0.7),\n",
                "    (0.001, 0.03, 0.7),\n",
                "    (0.001, 0.07, 0.7),\n",
                "    (0.001, 0.1, 0.7),\n",
                "    (0.001, 0.15, 0.7),\n",
                "    (0.003, 0.01, 0.7),\n",
                "    (0.003, 0.03, 0.7),\n",
                "    (0.003, 0.07, 0.7),\n",
                "    (0.003, 0.1, 0.7),\n",
                "    (0.003, 0.15, 0.7),\n",
                "    (0.007, 0.01, 0.7),\n",
                "    (0.007, 0.03, 0.7),\n",
                "    (0.007, 0.07, 0.7),\n",
                "    (0.007, 0.1, 0.7),\n",
                "    (0.007, 0.15, 0.7),\n",
                "    (0.01, 0.03, 0.7),\n",
                "    (0.01, 0.07, 0.7),\n",
                "    (0.01, 0.1, 0.7),\n",
                "    (0.01, 0.15, 0.7),\n",
                "    (0.025, 0.03, 0.7),\n",
                "    (0.025, 0.07, 0.7),\n",
                "    (0.025, 0.1, 0.7),\n",
                "    (0.025, 0.15, 0.7),\n",
                "]\n",
                "labels = [\"main width\", \"tail width\", \"main weight\"]\n",
                "df_heatmap, data = load_and_process_json(23, params, labels)\n",
                "\n",
                "fig = make_subplots()\n",
                "fig = add_heatmap_for_weight(fig, df_heatmap, 0.7, 1)\n",
                "fig.update_layout(\n",
                "    title=f\"Log probability of S given D for different shape parameters<br>({len(IDs)} IDs)\",\n",
                "    yaxis_title=\"Tail width\",\n",
                "    # yaxis_type='log',\n",
                "    width=450,\n",
                "    height=400,\n",
                "    font_size=10,\n",
                ")\n",
                "fig.show()"
            ]
        },
        {
            "cell_type": "code",
            "execution_count": null,
            "metadata": {},
            "outputs": [],
            "source": [
                "for id in data.keys():\n",
                "\n",
                "    df_heatmap_for_ID = df_heatmap\n",
                "    df_heatmap_for_ID[\"log_p_S_given_D\"] = data[id]\n",
                "\n",
                "    # Plot for ID\n",
                "    fig = make_subplots()\n",
                "    fig = add_heatmap_for_weight(fig, df_heatmap_for_ID, 0.7, 1)\n",
                "    fig.update_layout(\n",
                "        title=f\"Log probability of S given D for different shape parameters\",\n",
                "        yaxis_title=\"Tail width\",\n",
                "        # yaxis_type='log',\n",
                "        width=800,\n",
                "        height=600,\n",
                "        font_size=12,\n",
                "    )\n",
                "    fig.write_image(\n",
                "        f\"{dh.get_path_to_main()}PlotsBreathe/Interconnecting_ARs_entries/heatmaps_optimal_ar_change_factor_shape/ID {id}.pdf\"\n",
                "    )"
            ]
        },
        {
            "cell_type": "code",
            "execution_count": 26,
            "metadata": {},
            "outputs": [
                {
                    "data": {
                        "application/vnd.plotly.v1+json": {
                            "config": {
                                "plotlyServerURL": "https://plot.ly"
                            },
                            "data": [
                                {
                                    "colorbar": {
                                        "len": 4,
                                        "y": 0.5,
                                        "yanchor": "middle"
                                    },
                                    "type": "heatmap",
                                    "x": [
                                        0.001,
                                        0.005,
                                        0.01,
                                        0.05,
                                        0.1,
                                        0.5,
                                        1,
                                        1.5,
                                        2
                                    ],
                                    "xaxis": "x",
                                    "y": [
                                        0.1,
                                        0.1,
                                        0.1,
                                        0.1,
                                        0.1,
                                        0.1,
                                        0.1,
                                        0.1,
                                        0.1
                                    ],
                                    "yaxis": "y",
                                    "z": [
                                        -2661.0366726000007,
                                        -2573.24139049,
                                        -2556.89856166,
                                        -2505.5049501999997,
                                        -2483.35738074,
                                        -2380.71006817,
                                        -2294.1041945700003,
                                        -2255.17957834,
                                        -2242.54910965
                                    ]
                                }
                            ],
                            "layout": {
                                "font": {
                                    "size": 10
                                },
                                "height": 200,
                                "template": {
                                    "data": {
                                        "bar": [
                                            {
                                                "error_x": {
                                                    "color": "#2a3f5f"
                                                },
                                                "error_y": {
                                                    "color": "#2a3f5f"
                                                },
                                                "marker": {
                                                    "line": {
                                                        "color": "#E5ECF6",
                                                        "width": 0.5
                                                    },
                                                    "pattern": {
                                                        "fillmode": "overlay",
                                                        "size": 10,
                                                        "solidity": 0.2
                                                    }
                                                },
                                                "type": "bar"
                                            }
                                        ],
                                        "barpolar": [
                                            {
                                                "marker": {
                                                    "line": {
                                                        "color": "#E5ECF6",
                                                        "width": 0.5
                                                    },
                                                    "pattern": {
                                                        "fillmode": "overlay",
                                                        "size": 10,
                                                        "solidity": 0.2
                                                    }
                                                },
                                                "type": "barpolar"
                                            }
                                        ],
                                        "carpet": [
                                            {
                                                "aaxis": {
                                                    "endlinecolor": "#2a3f5f",
                                                    "gridcolor": "white",
                                                    "linecolor": "white",
                                                    "minorgridcolor": "white",
                                                    "startlinecolor": "#2a3f5f"
                                                },
                                                "baxis": {
                                                    "endlinecolor": "#2a3f5f",
                                                    "gridcolor": "white",
                                                    "linecolor": "white",
                                                    "minorgridcolor": "white",
                                                    "startlinecolor": "#2a3f5f"
                                                },
                                                "type": "carpet"
                                            }
                                        ],
                                        "choropleth": [
                                            {
                                                "colorbar": {
                                                    "outlinewidth": 0,
                                                    "ticks": ""
                                                },
                                                "type": "choropleth"
                                            }
                                        ],
                                        "contour": [
                                            {
                                                "colorbar": {
                                                    "outlinewidth": 0,
                                                    "ticks": ""
                                                },
                                                "colorscale": [
                                                    [
                                                        0,
                                                        "#0d0887"
                                                    ],
                                                    [
                                                        0.1111111111111111,
                                                        "#46039f"
                                                    ],
                                                    [
                                                        0.2222222222222222,
                                                        "#7201a8"
                                                    ],
                                                    [
                                                        0.3333333333333333,
                                                        "#9c179e"
                                                    ],
                                                    [
                                                        0.4444444444444444,
                                                        "#bd3786"
                                                    ],
                                                    [
                                                        0.5555555555555556,
                                                        "#d8576b"
                                                    ],
                                                    [
                                                        0.6666666666666666,
                                                        "#ed7953"
                                                    ],
                                                    [
                                                        0.7777777777777778,
                                                        "#fb9f3a"
                                                    ],
                                                    [
                                                        0.8888888888888888,
                                                        "#fdca26"
                                                    ],
                                                    [
                                                        1,
                                                        "#f0f921"
                                                    ]
                                                ],
                                                "type": "contour"
                                            }
                                        ],
                                        "contourcarpet": [
                                            {
                                                "colorbar": {
                                                    "outlinewidth": 0,
                                                    "ticks": ""
                                                },
                                                "type": "contourcarpet"
                                            }
                                        ],
                                        "heatmap": [
                                            {
                                                "colorbar": {
                                                    "outlinewidth": 0,
                                                    "ticks": ""
                                                },
                                                "colorscale": [
                                                    [
                                                        0,
                                                        "#0d0887"
                                                    ],
                                                    [
                                                        0.1111111111111111,
                                                        "#46039f"
                                                    ],
                                                    [
                                                        0.2222222222222222,
                                                        "#7201a8"
                                                    ],
                                                    [
                                                        0.3333333333333333,
                                                        "#9c179e"
                                                    ],
                                                    [
                                                        0.4444444444444444,
                                                        "#bd3786"
                                                    ],
                                                    [
                                                        0.5555555555555556,
                                                        "#d8576b"
                                                    ],
                                                    [
                                                        0.6666666666666666,
                                                        "#ed7953"
                                                    ],
                                                    [
                                                        0.7777777777777778,
                                                        "#fb9f3a"
                                                    ],
                                                    [
                                                        0.8888888888888888,
                                                        "#fdca26"
                                                    ],
                                                    [
                                                        1,
                                                        "#f0f921"
                                                    ]
                                                ],
                                                "type": "heatmap"
                                            }
                                        ],
                                        "heatmapgl": [
                                            {
                                                "colorbar": {
                                                    "outlinewidth": 0,
                                                    "ticks": ""
                                                },
                                                "colorscale": [
                                                    [
                                                        0,
                                                        "#0d0887"
                                                    ],
                                                    [
                                                        0.1111111111111111,
                                                        "#46039f"
                                                    ],
                                                    [
                                                        0.2222222222222222,
                                                        "#7201a8"
                                                    ],
                                                    [
                                                        0.3333333333333333,
                                                        "#9c179e"
                                                    ],
                                                    [
                                                        0.4444444444444444,
                                                        "#bd3786"
                                                    ],
                                                    [
                                                        0.5555555555555556,
                                                        "#d8576b"
                                                    ],
                                                    [
                                                        0.6666666666666666,
                                                        "#ed7953"
                                                    ],
                                                    [
                                                        0.7777777777777778,
                                                        "#fb9f3a"
                                                    ],
                                                    [
                                                        0.8888888888888888,
                                                        "#fdca26"
                                                    ],
                                                    [
                                                        1,
                                                        "#f0f921"
                                                    ]
                                                ],
                                                "type": "heatmapgl"
                                            }
                                        ],
                                        "histogram": [
                                            {
                                                "marker": {
                                                    "pattern": {
                                                        "fillmode": "overlay",
                                                        "size": 10,
                                                        "solidity": 0.2
                                                    }
                                                },
                                                "type": "histogram"
                                            }
                                        ],
                                        "histogram2d": [
                                            {
                                                "colorbar": {
                                                    "outlinewidth": 0,
                                                    "ticks": ""
                                                },
                                                "colorscale": [
                                                    [
                                                        0,
                                                        "#0d0887"
                                                    ],
                                                    [
                                                        0.1111111111111111,
                                                        "#46039f"
                                                    ],
                                                    [
                                                        0.2222222222222222,
                                                        "#7201a8"
                                                    ],
                                                    [
                                                        0.3333333333333333,
                                                        "#9c179e"
                                                    ],
                                                    [
                                                        0.4444444444444444,
                                                        "#bd3786"
                                                    ],
                                                    [
                                                        0.5555555555555556,
                                                        "#d8576b"
                                                    ],
                                                    [
                                                        0.6666666666666666,
                                                        "#ed7953"
                                                    ],
                                                    [
                                                        0.7777777777777778,
                                                        "#fb9f3a"
                                                    ],
                                                    [
                                                        0.8888888888888888,
                                                        "#fdca26"
                                                    ],
                                                    [
                                                        1,
                                                        "#f0f921"
                                                    ]
                                                ],
                                                "type": "histogram2d"
                                            }
                                        ],
                                        "histogram2dcontour": [
                                            {
                                                "colorbar": {
                                                    "outlinewidth": 0,
                                                    "ticks": ""
                                                },
                                                "colorscale": [
                                                    [
                                                        0,
                                                        "#0d0887"
                                                    ],
                                                    [
                                                        0.1111111111111111,
                                                        "#46039f"
                                                    ],
                                                    [
                                                        0.2222222222222222,
                                                        "#7201a8"
                                                    ],
                                                    [
                                                        0.3333333333333333,
                                                        "#9c179e"
                                                    ],
                                                    [
                                                        0.4444444444444444,
                                                        "#bd3786"
                                                    ],
                                                    [
                                                        0.5555555555555556,
                                                        "#d8576b"
                                                    ],
                                                    [
                                                        0.6666666666666666,
                                                        "#ed7953"
                                                    ],
                                                    [
                                                        0.7777777777777778,
                                                        "#fb9f3a"
                                                    ],
                                                    [
                                                        0.8888888888888888,
                                                        "#fdca26"
                                                    ],
                                                    [
                                                        1,
                                                        "#f0f921"
                                                    ]
                                                ],
                                                "type": "histogram2dcontour"
                                            }
                                        ],
                                        "mesh3d": [
                                            {
                                                "colorbar": {
                                                    "outlinewidth": 0,
                                                    "ticks": ""
                                                },
                                                "type": "mesh3d"
                                            }
                                        ],
                                        "parcoords": [
                                            {
                                                "line": {
                                                    "colorbar": {
                                                        "outlinewidth": 0,
                                                        "ticks": ""
                                                    }
                                                },
                                                "type": "parcoords"
                                            }
                                        ],
                                        "pie": [
                                            {
                                                "automargin": true,
                                                "type": "pie"
                                            }
                                        ],
                                        "scatter": [
                                            {
                                                "fillpattern": {
                                                    "fillmode": "overlay",
                                                    "size": 10,
                                                    "solidity": 0.2
                                                },
                                                "type": "scatter"
                                            }
                                        ],
                                        "scatter3d": [
                                            {
                                                "line": {
                                                    "colorbar": {
                                                        "outlinewidth": 0,
                                                        "ticks": ""
                                                    }
                                                },
                                                "marker": {
                                                    "colorbar": {
                                                        "outlinewidth": 0,
                                                        "ticks": ""
                                                    }
                                                },
                                                "type": "scatter3d"
                                            }
                                        ],
                                        "scattercarpet": [
                                            {
                                                "marker": {
                                                    "colorbar": {
                                                        "outlinewidth": 0,
                                                        "ticks": ""
                                                    }
                                                },
                                                "type": "scattercarpet"
                                            }
                                        ],
                                        "scattergeo": [
                                            {
                                                "marker": {
                                                    "colorbar": {
                                                        "outlinewidth": 0,
                                                        "ticks": ""
                                                    }
                                                },
                                                "type": "scattergeo"
                                            }
                                        ],
                                        "scattergl": [
                                            {
                                                "marker": {
                                                    "colorbar": {
                                                        "outlinewidth": 0,
                                                        "ticks": ""
                                                    }
                                                },
                                                "type": "scattergl"
                                            }
                                        ],
                                        "scattermapbox": [
                                            {
                                                "marker": {
                                                    "colorbar": {
                                                        "outlinewidth": 0,
                                                        "ticks": ""
                                                    }
                                                },
                                                "type": "scattermapbox"
                                            }
                                        ],
                                        "scatterpolar": [
                                            {
                                                "marker": {
                                                    "colorbar": {
                                                        "outlinewidth": 0,
                                                        "ticks": ""
                                                    }
                                                },
                                                "type": "scatterpolar"
                                            }
                                        ],
                                        "scatterpolargl": [
                                            {
                                                "marker": {
                                                    "colorbar": {
                                                        "outlinewidth": 0,
                                                        "ticks": ""
                                                    }
                                                },
                                                "type": "scatterpolargl"
                                            }
                                        ],
                                        "scatterternary": [
                                            {
                                                "marker": {
                                                    "colorbar": {
                                                        "outlinewidth": 0,
                                                        "ticks": ""
                                                    }
                                                },
                                                "type": "scatterternary"
                                            }
                                        ],
                                        "surface": [
                                            {
                                                "colorbar": {
                                                    "outlinewidth": 0,
                                                    "ticks": ""
                                                },
                                                "colorscale": [
                                                    [
                                                        0,
                                                        "#0d0887"
                                                    ],
                                                    [
                                                        0.1111111111111111,
                                                        "#46039f"
                                                    ],
                                                    [
                                                        0.2222222222222222,
                                                        "#7201a8"
                                                    ],
                                                    [
                                                        0.3333333333333333,
                                                        "#9c179e"
                                                    ],
                                                    [
                                                        0.4444444444444444,
                                                        "#bd3786"
                                                    ],
                                                    [
                                                        0.5555555555555556,
                                                        "#d8576b"
                                                    ],
                                                    [
                                                        0.6666666666666666,
                                                        "#ed7953"
                                                    ],
                                                    [
                                                        0.7777777777777778,
                                                        "#fb9f3a"
                                                    ],
                                                    [
                                                        0.8888888888888888,
                                                        "#fdca26"
                                                    ],
                                                    [
                                                        1,
                                                        "#f0f921"
                                                    ]
                                                ],
                                                "type": "surface"
                                            }
                                        ],
                                        "table": [
                                            {
                                                "cells": {
                                                    "fill": {
                                                        "color": "#EBF0F8"
                                                    },
                                                    "line": {
                                                        "color": "white"
                                                    }
                                                },
                                                "header": {
                                                    "fill": {
                                                        "color": "#C8D4E3"
                                                    },
                                                    "line": {
                                                        "color": "white"
                                                    }
                                                },
                                                "type": "table"
                                            }
                                        ]
                                    },
                                    "layout": {
                                        "annotationdefaults": {
                                            "arrowcolor": "#2a3f5f",
                                            "arrowhead": 0,
                                            "arrowwidth": 1
                                        },
                                        "autotypenumbers": "strict",
                                        "coloraxis": {
                                            "colorbar": {
                                                "outlinewidth": 0,
                                                "ticks": ""
                                            }
                                        },
                                        "colorscale": {
                                            "diverging": [
                                                [
                                                    0,
                                                    "#8e0152"
                                                ],
                                                [
                                                    0.1,
                                                    "#c51b7d"
                                                ],
                                                [
                                                    0.2,
                                                    "#de77ae"
                                                ],
                                                [
                                                    0.3,
                                                    "#f1b6da"
                                                ],
                                                [
                                                    0.4,
                                                    "#fde0ef"
                                                ],
                                                [
                                                    0.5,
                                                    "#f7f7f7"
                                                ],
                                                [
                                                    0.6,
                                                    "#e6f5d0"
                                                ],
                                                [
                                                    0.7,
                                                    "#b8e186"
                                                ],
                                                [
                                                    0.8,
                                                    "#7fbc41"
                                                ],
                                                [
                                                    0.9,
                                                    "#4d9221"
                                                ],
                                                [
                                                    1,
                                                    "#276419"
                                                ]
                                            ],
                                            "sequential": [
                                                [
                                                    0,
                                                    "#0d0887"
                                                ],
                                                [
                                                    0.1111111111111111,
                                                    "#46039f"
                                                ],
                                                [
                                                    0.2222222222222222,
                                                    "#7201a8"
                                                ],
                                                [
                                                    0.3333333333333333,
                                                    "#9c179e"
                                                ],
                                                [
                                                    0.4444444444444444,
                                                    "#bd3786"
                                                ],
                                                [
                                                    0.5555555555555556,
                                                    "#d8576b"
                                                ],
                                                [
                                                    0.6666666666666666,
                                                    "#ed7953"
                                                ],
                                                [
                                                    0.7777777777777778,
                                                    "#fb9f3a"
                                                ],
                                                [
                                                    0.8888888888888888,
                                                    "#fdca26"
                                                ],
                                                [
                                                    1,
                                                    "#f0f921"
                                                ]
                                            ],
                                            "sequentialminus": [
                                                [
                                                    0,
                                                    "#0d0887"
                                                ],
                                                [
                                                    0.1111111111111111,
                                                    "#46039f"
                                                ],
                                                [
                                                    0.2222222222222222,
                                                    "#7201a8"
                                                ],
                                                [
                                                    0.3333333333333333,
                                                    "#9c179e"
                                                ],
                                                [
                                                    0.4444444444444444,
                                                    "#bd3786"
                                                ],
                                                [
                                                    0.5555555555555556,
                                                    "#d8576b"
                                                ],
                                                [
                                                    0.6666666666666666,
                                                    "#ed7953"
                                                ],
                                                [
                                                    0.7777777777777778,
                                                    "#fb9f3a"
                                                ],
                                                [
                                                    0.8888888888888888,
                                                    "#fdca26"
                                                ],
                                                [
                                                    1,
                                                    "#f0f921"
                                                ]
                                            ]
                                        },
                                        "colorway": [
                                            "#636efa",
                                            "#EF553B",
                                            "#00cc96",
                                            "#ab63fa",
                                            "#FFA15A",
                                            "#19d3f3",
                                            "#FF6692",
                                            "#B6E880",
                                            "#FF97FF",
                                            "#FECB52"
                                        ],
                                        "font": {
                                            "color": "#2a3f5f"
                                        },
                                        "geo": {
                                            "bgcolor": "white",
                                            "lakecolor": "white",
                                            "landcolor": "#E5ECF6",
                                            "showlakes": true,
                                            "showland": true,
                                            "subunitcolor": "white"
                                        },
                                        "hoverlabel": {
                                            "align": "left"
                                        },
                                        "hovermode": "closest",
                                        "mapbox": {
                                            "style": "light"
                                        },
                                        "paper_bgcolor": "white",
                                        "plot_bgcolor": "#E5ECF6",
                                        "polar": {
                                            "angularaxis": {
                                                "gridcolor": "white",
                                                "linecolor": "white",
                                                "ticks": ""
                                            },
                                            "bgcolor": "#E5ECF6",
                                            "radialaxis": {
                                                "gridcolor": "white",
                                                "linecolor": "white",
                                                "ticks": ""
                                            }
                                        },
                                        "scene": {
                                            "xaxis": {
                                                "backgroundcolor": "#E5ECF6",
                                                "gridcolor": "white",
                                                "gridwidth": 2,
                                                "linecolor": "white",
                                                "showbackground": true,
                                                "ticks": "",
                                                "zerolinecolor": "white"
                                            },
                                            "yaxis": {
                                                "backgroundcolor": "#E5ECF6",
                                                "gridcolor": "white",
                                                "gridwidth": 2,
                                                "linecolor": "white",
                                                "showbackground": true,
                                                "ticks": "",
                                                "zerolinecolor": "white"
                                            },
                                            "zaxis": {
                                                "backgroundcolor": "#E5ECF6",
                                                "gridcolor": "white",
                                                "gridwidth": 2,
                                                "linecolor": "white",
                                                "showbackground": true,
                                                "ticks": "",
                                                "zerolinecolor": "white"
                                            }
                                        },
                                        "shapedefaults": {
                                            "line": {
                                                "color": "#2a3f5f"
                                            }
                                        },
                                        "ternary": {
                                            "aaxis": {
                                                "gridcolor": "white",
                                                "linecolor": "white",
                                                "ticks": ""
                                            },
                                            "baxis": {
                                                "gridcolor": "white",
                                                "linecolor": "white",
                                                "ticks": ""
                                            },
                                            "bgcolor": "#E5ECF6",
                                            "caxis": {
                                                "gridcolor": "white",
                                                "linecolor": "white",
                                                "ticks": ""
                                            }
                                        },
                                        "title": {
                                            "x": 0.05
                                        },
                                        "xaxis": {
                                            "automargin": true,
                                            "gridcolor": "white",
                                            "linecolor": "white",
                                            "ticks": "",
                                            "title": {
                                                "standoff": 15
                                            },
                                            "zerolinecolor": "white",
                                            "zerolinewidth": 2
                                        },
                                        "yaxis": {
                                            "automargin": true,
                                            "gridcolor": "white",
                                            "linecolor": "white",
                                            "ticks": "",
                                            "title": {
                                                "standoff": 15
                                            },
                                            "zerolinecolor": "white",
                                            "zerolinewidth": 2
                                        }
                                    }
                                },
                                "title": {
                                    "text": "Log probability of S given D for different shape parameters<br>(18 IDs)"
                                },
                                "width": 450,
                                "xaxis": {
                                    "anchor": "y",
                                    "domain": [
                                        0,
                                        1
                                    ],
                                    "title": {
                                        "text": "Laplace width"
                                    },
                                    "type": "category"
                                },
                                "yaxis": {
                                    "anchor": "x",
                                    "domain": [
                                        0,
                                        1
                                    ],
                                    "showticklabels": false,
                                    "title": {
                                        "text": ""
                                    },
                                    "type": "category"
                                }
                            }
                        }
                    },
                    "metadata": {},
                    "output_type": "display_data"
                }
            ],
            "source": [
                "params = [\n",
                "    (0.001, 0.1, 1),\n",
                "    (0.005, 0.1, 1),\n",
                "    (0.01, 0.1, 1),\n",
                "    (0.05, 0.1, 1),\n",
                "    (0.1, 0.1, 1),\n",
                "    (0.5, 0.1, 1),\n",
                "    (1, 0.1, 1),\n",
                "    (1.5, 0.1, 1),\n",
                "    (2, 0.1, 1),\n",
                "]\n",
                "labels = [\"main width\", \"tail width\", \"main weight\"]\n",
                "df_heatmap, data = load_and_process_json(\"9_18IDs_30d\", params, labels)\n",
                "IDs = list(data.keys())\n",
                "\n",
                "fig = make_subplots()\n",
                "fig = add_heatmap_for_laplace_old(fig, df_heatmap, 1)\n",
                "fig.update_layout(\n",
                "    title=f\"Log probability of S given D for different shape parameters<br>({len(IDs)} IDs)\",\n",
                "    # yaxis_type='log',\n",
                "    width=450,\n",
                "    height=200,\n",
                "    font_size=10,\n",
                ")\n",
                "fig.show()"
            ]
        },
        {
            "cell_type": "code",
            "execution_count": 31,
            "metadata": {},
            "outputs": [
                {
                    "data": {
                        "application/vnd.plotly.v1+json": {
                            "config": {
                                "plotlyServerURL": "https://plot.ly"
                            },
                            "data": [
                                {
                                    "colorbar": {
                                        "len": 4,
                                        "y": 0.5,
                                        "yanchor": "middle"
                                    },
                                    "type": "heatmap",
                                    "x": [
                                        0.1,
                                        0.5,
                                        1,
                                        1.5,
                                        2,
                                        4,
                                        6,
                                        8,
                                        10,
                                        15
                                    ],
                                    "xaxis": "x",
                                    "y": [
                                        0.1,
                                        0.1,
                                        0.1,
                                        0.1,
                                        0.1,
                                        0.1,
                                        0.1,
                                        0.1,
                                        0.1,
                                        0.1
                                    ],
                                    "yaxis": "y",
                                    "z": [
                                        -14907.614473390006,
                                        -14233.927396709996,
                                        -13908.040704490004,
                                        -13816.696461499998,
                                        -13823.029270079998,
                                        -14107.303121550003,
                                        -14432.290755380001,
                                        -14715.954173149994,
                                        -14957.087749379994,
                                        -15418.767483279998
                                    ]
                                }
                            ],
                            "layout": {
                                "font": {
                                    "size": 10
                                },
                                "height": 200,
                                "template": {
                                    "data": {
                                        "bar": [
                                            {
                                                "error_x": {
                                                    "color": "#2a3f5f"
                                                },
                                                "error_y": {
                                                    "color": "#2a3f5f"
                                                },
                                                "marker": {
                                                    "line": {
                                                        "color": "#E5ECF6",
                                                        "width": 0.5
                                                    },
                                                    "pattern": {
                                                        "fillmode": "overlay",
                                                        "size": 10,
                                                        "solidity": 0.2
                                                    }
                                                },
                                                "type": "bar"
                                            }
                                        ],
                                        "barpolar": [
                                            {
                                                "marker": {
                                                    "line": {
                                                        "color": "#E5ECF6",
                                                        "width": 0.5
                                                    },
                                                    "pattern": {
                                                        "fillmode": "overlay",
                                                        "size": 10,
                                                        "solidity": 0.2
                                                    }
                                                },
                                                "type": "barpolar"
                                            }
                                        ],
                                        "carpet": [
                                            {
                                                "aaxis": {
                                                    "endlinecolor": "#2a3f5f",
                                                    "gridcolor": "white",
                                                    "linecolor": "white",
                                                    "minorgridcolor": "white",
                                                    "startlinecolor": "#2a3f5f"
                                                },
                                                "baxis": {
                                                    "endlinecolor": "#2a3f5f",
                                                    "gridcolor": "white",
                                                    "linecolor": "white",
                                                    "minorgridcolor": "white",
                                                    "startlinecolor": "#2a3f5f"
                                                },
                                                "type": "carpet"
                                            }
                                        ],
                                        "choropleth": [
                                            {
                                                "colorbar": {
                                                    "outlinewidth": 0,
                                                    "ticks": ""
                                                },
                                                "type": "choropleth"
                                            }
                                        ],
                                        "contour": [
                                            {
                                                "colorbar": {
                                                    "outlinewidth": 0,
                                                    "ticks": ""
                                                },
                                                "colorscale": [
                                                    [
                                                        0,
                                                        "#0d0887"
                                                    ],
                                                    [
                                                        0.1111111111111111,
                                                        "#46039f"
                                                    ],
                                                    [
                                                        0.2222222222222222,
                                                        "#7201a8"
                                                    ],
                                                    [
                                                        0.3333333333333333,
                                                        "#9c179e"
                                                    ],
                                                    [
                                                        0.4444444444444444,
                                                        "#bd3786"
                                                    ],
                                                    [
                                                        0.5555555555555556,
                                                        "#d8576b"
                                                    ],
                                                    [
                                                        0.6666666666666666,
                                                        "#ed7953"
                                                    ],
                                                    [
                                                        0.7777777777777778,
                                                        "#fb9f3a"
                                                    ],
                                                    [
                                                        0.8888888888888888,
                                                        "#fdca26"
                                                    ],
                                                    [
                                                        1,
                                                        "#f0f921"
                                                    ]
                                                ],
                                                "type": "contour"
                                            }
                                        ],
                                        "contourcarpet": [
                                            {
                                                "colorbar": {
                                                    "outlinewidth": 0,
                                                    "ticks": ""
                                                },
                                                "type": "contourcarpet"
                                            }
                                        ],
                                        "heatmap": [
                                            {
                                                "colorbar": {
                                                    "outlinewidth": 0,
                                                    "ticks": ""
                                                },
                                                "colorscale": [
                                                    [
                                                        0,
                                                        "#0d0887"
                                                    ],
                                                    [
                                                        0.1111111111111111,
                                                        "#46039f"
                                                    ],
                                                    [
                                                        0.2222222222222222,
                                                        "#7201a8"
                                                    ],
                                                    [
                                                        0.3333333333333333,
                                                        "#9c179e"
                                                    ],
                                                    [
                                                        0.4444444444444444,
                                                        "#bd3786"
                                                    ],
                                                    [
                                                        0.5555555555555556,
                                                        "#d8576b"
                                                    ],
                                                    [
                                                        0.6666666666666666,
                                                        "#ed7953"
                                                    ],
                                                    [
                                                        0.7777777777777778,
                                                        "#fb9f3a"
                                                    ],
                                                    [
                                                        0.8888888888888888,
                                                        "#fdca26"
                                                    ],
                                                    [
                                                        1,
                                                        "#f0f921"
                                                    ]
                                                ],
                                                "type": "heatmap"
                                            }
                                        ],
                                        "heatmapgl": [
                                            {
                                                "colorbar": {
                                                    "outlinewidth": 0,
                                                    "ticks": ""
                                                },
                                                "colorscale": [
                                                    [
                                                        0,
                                                        "#0d0887"
                                                    ],
                                                    [
                                                        0.1111111111111111,
                                                        "#46039f"
                                                    ],
                                                    [
                                                        0.2222222222222222,
                                                        "#7201a8"
                                                    ],
                                                    [
                                                        0.3333333333333333,
                                                        "#9c179e"
                                                    ],
                                                    [
                                                        0.4444444444444444,
                                                        "#bd3786"
                                                    ],
                                                    [
                                                        0.5555555555555556,
                                                        "#d8576b"
                                                    ],
                                                    [
                                                        0.6666666666666666,
                                                        "#ed7953"
                                                    ],
                                                    [
                                                        0.7777777777777778,
                                                        "#fb9f3a"
                                                    ],
                                                    [
                                                        0.8888888888888888,
                                                        "#fdca26"
                                                    ],
                                                    [
                                                        1,
                                                        "#f0f921"
                                                    ]
                                                ],
                                                "type": "heatmapgl"
                                            }
                                        ],
                                        "histogram": [
                                            {
                                                "marker": {
                                                    "pattern": {
                                                        "fillmode": "overlay",
                                                        "size": 10,
                                                        "solidity": 0.2
                                                    }
                                                },
                                                "type": "histogram"
                                            }
                                        ],
                                        "histogram2d": [
                                            {
                                                "colorbar": {
                                                    "outlinewidth": 0,
                                                    "ticks": ""
                                                },
                                                "colorscale": [
                                                    [
                                                        0,
                                                        "#0d0887"
                                                    ],
                                                    [
                                                        0.1111111111111111,
                                                        "#46039f"
                                                    ],
                                                    [
                                                        0.2222222222222222,
                                                        "#7201a8"
                                                    ],
                                                    [
                                                        0.3333333333333333,
                                                        "#9c179e"
                                                    ],
                                                    [
                                                        0.4444444444444444,
                                                        "#bd3786"
                                                    ],
                                                    [
                                                        0.5555555555555556,
                                                        "#d8576b"
                                                    ],
                                                    [
                                                        0.6666666666666666,
                                                        "#ed7953"
                                                    ],
                                                    [
                                                        0.7777777777777778,
                                                        "#fb9f3a"
                                                    ],
                                                    [
                                                        0.8888888888888888,
                                                        "#fdca26"
                                                    ],
                                                    [
                                                        1,
                                                        "#f0f921"
                                                    ]
                                                ],
                                                "type": "histogram2d"
                                            }
                                        ],
                                        "histogram2dcontour": [
                                            {
                                                "colorbar": {
                                                    "outlinewidth": 0,
                                                    "ticks": ""
                                                },
                                                "colorscale": [
                                                    [
                                                        0,
                                                        "#0d0887"
                                                    ],
                                                    [
                                                        0.1111111111111111,
                                                        "#46039f"
                                                    ],
                                                    [
                                                        0.2222222222222222,
                                                        "#7201a8"
                                                    ],
                                                    [
                                                        0.3333333333333333,
                                                        "#9c179e"
                                                    ],
                                                    [
                                                        0.4444444444444444,
                                                        "#bd3786"
                                                    ],
                                                    [
                                                        0.5555555555555556,
                                                        "#d8576b"
                                                    ],
                                                    [
                                                        0.6666666666666666,
                                                        "#ed7953"
                                                    ],
                                                    [
                                                        0.7777777777777778,
                                                        "#fb9f3a"
                                                    ],
                                                    [
                                                        0.8888888888888888,
                                                        "#fdca26"
                                                    ],
                                                    [
                                                        1,
                                                        "#f0f921"
                                                    ]
                                                ],
                                                "type": "histogram2dcontour"
                                            }
                                        ],
                                        "mesh3d": [
                                            {
                                                "colorbar": {
                                                    "outlinewidth": 0,
                                                    "ticks": ""
                                                },
                                                "type": "mesh3d"
                                            }
                                        ],
                                        "parcoords": [
                                            {
                                                "line": {
                                                    "colorbar": {
                                                        "outlinewidth": 0,
                                                        "ticks": ""
                                                    }
                                                },
                                                "type": "parcoords"
                                            }
                                        ],
                                        "pie": [
                                            {
                                                "automargin": true,
                                                "type": "pie"
                                            }
                                        ],
                                        "scatter": [
                                            {
                                                "fillpattern": {
                                                    "fillmode": "overlay",
                                                    "size": 10,
                                                    "solidity": 0.2
                                                },
                                                "type": "scatter"
                                            }
                                        ],
                                        "scatter3d": [
                                            {
                                                "line": {
                                                    "colorbar": {
                                                        "outlinewidth": 0,
                                                        "ticks": ""
                                                    }
                                                },
                                                "marker": {
                                                    "colorbar": {
                                                        "outlinewidth": 0,
                                                        "ticks": ""
                                                    }
                                                },
                                                "type": "scatter3d"
                                            }
                                        ],
                                        "scattercarpet": [
                                            {
                                                "marker": {
                                                    "colorbar": {
                                                        "outlinewidth": 0,
                                                        "ticks": ""
                                                    }
                                                },
                                                "type": "scattercarpet"
                                            }
                                        ],
                                        "scattergeo": [
                                            {
                                                "marker": {
                                                    "colorbar": {
                                                        "outlinewidth": 0,
                                                        "ticks": ""
                                                    }
                                                },
                                                "type": "scattergeo"
                                            }
                                        ],
                                        "scattergl": [
                                            {
                                                "marker": {
                                                    "colorbar": {
                                                        "outlinewidth": 0,
                                                        "ticks": ""
                                                    }
                                                },
                                                "type": "scattergl"
                                            }
                                        ],
                                        "scattermapbox": [
                                            {
                                                "marker": {
                                                    "colorbar": {
                                                        "outlinewidth": 0,
                                                        "ticks": ""
                                                    }
                                                },
                                                "type": "scattermapbox"
                                            }
                                        ],
                                        "scatterpolar": [
                                            {
                                                "marker": {
                                                    "colorbar": {
                                                        "outlinewidth": 0,
                                                        "ticks": ""
                                                    }
                                                },
                                                "type": "scatterpolar"
                                            }
                                        ],
                                        "scatterpolargl": [
                                            {
                                                "marker": {
                                                    "colorbar": {
                                                        "outlinewidth": 0,
                                                        "ticks": ""
                                                    }
                                                },
                                                "type": "scatterpolargl"
                                            }
                                        ],
                                        "scatterternary": [
                                            {
                                                "marker": {
                                                    "colorbar": {
                                                        "outlinewidth": 0,
                                                        "ticks": ""
                                                    }
                                                },
                                                "type": "scatterternary"
                                            }
                                        ],
                                        "surface": [
                                            {
                                                "colorbar": {
                                                    "outlinewidth": 0,
                                                    "ticks": ""
                                                },
                                                "colorscale": [
                                                    [
                                                        0,
                                                        "#0d0887"
                                                    ],
                                                    [
                                                        0.1111111111111111,
                                                        "#46039f"
                                                    ],
                                                    [
                                                        0.2222222222222222,
                                                        "#7201a8"
                                                    ],
                                                    [
                                                        0.3333333333333333,
                                                        "#9c179e"
                                                    ],
                                                    [
                                                        0.4444444444444444,
                                                        "#bd3786"
                                                    ],
                                                    [
                                                        0.5555555555555556,
                                                        "#d8576b"
                                                    ],
                                                    [
                                                        0.6666666666666666,
                                                        "#ed7953"
                                                    ],
                                                    [
                                                        0.7777777777777778,
                                                        "#fb9f3a"
                                                    ],
                                                    [
                                                        0.8888888888888888,
                                                        "#fdca26"
                                                    ],
                                                    [
                                                        1,
                                                        "#f0f921"
                                                    ]
                                                ],
                                                "type": "surface"
                                            }
                                        ],
                                        "table": [
                                            {
                                                "cells": {
                                                    "fill": {
                                                        "color": "#EBF0F8"
                                                    },
                                                    "line": {
                                                        "color": "white"
                                                    }
                                                },
                                                "header": {
                                                    "fill": {
                                                        "color": "#C8D4E3"
                                                    },
                                                    "line": {
                                                        "color": "white"
                                                    }
                                                },
                                                "type": "table"
                                            }
                                        ]
                                    },
                                    "layout": {
                                        "annotationdefaults": {
                                            "arrowcolor": "#2a3f5f",
                                            "arrowhead": 0,
                                            "arrowwidth": 1
                                        },
                                        "autotypenumbers": "strict",
                                        "coloraxis": {
                                            "colorbar": {
                                                "outlinewidth": 0,
                                                "ticks": ""
                                            }
                                        },
                                        "colorscale": {
                                            "diverging": [
                                                [
                                                    0,
                                                    "#8e0152"
                                                ],
                                                [
                                                    0.1,
                                                    "#c51b7d"
                                                ],
                                                [
                                                    0.2,
                                                    "#de77ae"
                                                ],
                                                [
                                                    0.3,
                                                    "#f1b6da"
                                                ],
                                                [
                                                    0.4,
                                                    "#fde0ef"
                                                ],
                                                [
                                                    0.5,
                                                    "#f7f7f7"
                                                ],
                                                [
                                                    0.6,
                                                    "#e6f5d0"
                                                ],
                                                [
                                                    0.7,
                                                    "#b8e186"
                                                ],
                                                [
                                                    0.8,
                                                    "#7fbc41"
                                                ],
                                                [
                                                    0.9,
                                                    "#4d9221"
                                                ],
                                                [
                                                    1,
                                                    "#276419"
                                                ]
                                            ],
                                            "sequential": [
                                                [
                                                    0,
                                                    "#0d0887"
                                                ],
                                                [
                                                    0.1111111111111111,
                                                    "#46039f"
                                                ],
                                                [
                                                    0.2222222222222222,
                                                    "#7201a8"
                                                ],
                                                [
                                                    0.3333333333333333,
                                                    "#9c179e"
                                                ],
                                                [
                                                    0.4444444444444444,
                                                    "#bd3786"
                                                ],
                                                [
                                                    0.5555555555555556,
                                                    "#d8576b"
                                                ],
                                                [
                                                    0.6666666666666666,
                                                    "#ed7953"
                                                ],
                                                [
                                                    0.7777777777777778,
                                                    "#fb9f3a"
                                                ],
                                                [
                                                    0.8888888888888888,
                                                    "#fdca26"
                                                ],
                                                [
                                                    1,
                                                    "#f0f921"
                                                ]
                                            ],
                                            "sequentialminus": [
                                                [
                                                    0,
                                                    "#0d0887"
                                                ],
                                                [
                                                    0.1111111111111111,
                                                    "#46039f"
                                                ],
                                                [
                                                    0.2222222222222222,
                                                    "#7201a8"
                                                ],
                                                [
                                                    0.3333333333333333,
                                                    "#9c179e"
                                                ],
                                                [
                                                    0.4444444444444444,
                                                    "#bd3786"
                                                ],
                                                [
                                                    0.5555555555555556,
                                                    "#d8576b"
                                                ],
                                                [
                                                    0.6666666666666666,
                                                    "#ed7953"
                                                ],
                                                [
                                                    0.7777777777777778,
                                                    "#fb9f3a"
                                                ],
                                                [
                                                    0.8888888888888888,
                                                    "#fdca26"
                                                ],
                                                [
                                                    1,
                                                    "#f0f921"
                                                ]
                                            ]
                                        },
                                        "colorway": [
                                            "#636efa",
                                            "#EF553B",
                                            "#00cc96",
                                            "#ab63fa",
                                            "#FFA15A",
                                            "#19d3f3",
                                            "#FF6692",
                                            "#B6E880",
                                            "#FF97FF",
                                            "#FECB52"
                                        ],
                                        "font": {
                                            "color": "#2a3f5f"
                                        },
                                        "geo": {
                                            "bgcolor": "white",
                                            "lakecolor": "white",
                                            "landcolor": "#E5ECF6",
                                            "showlakes": true,
                                            "showland": true,
                                            "subunitcolor": "white"
                                        },
                                        "hoverlabel": {
                                            "align": "left"
                                        },
                                        "hovermode": "closest",
                                        "mapbox": {
                                            "style": "light"
                                        },
                                        "paper_bgcolor": "white",
                                        "plot_bgcolor": "#E5ECF6",
                                        "polar": {
                                            "angularaxis": {
                                                "gridcolor": "white",
                                                "linecolor": "white",
                                                "ticks": ""
                                            },
                                            "bgcolor": "#E5ECF6",
                                            "radialaxis": {
                                                "gridcolor": "white",
                                                "linecolor": "white",
                                                "ticks": ""
                                            }
                                        },
                                        "scene": {
                                            "xaxis": {
                                                "backgroundcolor": "#E5ECF6",
                                                "gridcolor": "white",
                                                "gridwidth": 2,
                                                "linecolor": "white",
                                                "showbackground": true,
                                                "ticks": "",
                                                "zerolinecolor": "white"
                                            },
                                            "yaxis": {
                                                "backgroundcolor": "#E5ECF6",
                                                "gridcolor": "white",
                                                "gridwidth": 2,
                                                "linecolor": "white",
                                                "showbackground": true,
                                                "ticks": "",
                                                "zerolinecolor": "white"
                                            },
                                            "zaxis": {
                                                "backgroundcolor": "#E5ECF6",
                                                "gridcolor": "white",
                                                "gridwidth": 2,
                                                "linecolor": "white",
                                                "showbackground": true,
                                                "ticks": "",
                                                "zerolinecolor": "white"
                                            }
                                        },
                                        "shapedefaults": {
                                            "line": {
                                                "color": "#2a3f5f"
                                            }
                                        },
                                        "ternary": {
                                            "aaxis": {
                                                "gridcolor": "white",
                                                "linecolor": "white",
                                                "ticks": ""
                                            },
                                            "baxis": {
                                                "gridcolor": "white",
                                                "linecolor": "white",
                                                "ticks": ""
                                            },
                                            "bgcolor": "#E5ECF6",
                                            "caxis": {
                                                "gridcolor": "white",
                                                "linecolor": "white",
                                                "ticks": ""
                                            }
                                        },
                                        "title": {
                                            "x": 0.05
                                        },
                                        "xaxis": {
                                            "automargin": true,
                                            "gridcolor": "white",
                                            "linecolor": "white",
                                            "ticks": "",
                                            "title": {
                                                "standoff": 15
                                            },
                                            "zerolinecolor": "white",
                                            "zerolinewidth": 2
                                        },
                                        "yaxis": {
                                            "automargin": true,
                                            "gridcolor": "white",
                                            "linecolor": "white",
                                            "ticks": "",
                                            "title": {
                                                "standoff": 15
                                            },
                                            "zerolinecolor": "white",
                                            "zerolinewidth": 2
                                        }
                                    }
                                },
                                "title": {
                                    "text": "Log probability of S given D for different shape parameters<br>(352 IDs)"
                                },
                                "width": 450,
                                "xaxis": {
                                    "anchor": "y",
                                    "domain": [
                                        0,
                                        1
                                    ],
                                    "title": {
                                        "text": "Laplace width"
                                    },
                                    "type": "category"
                                },
                                "yaxis": {
                                    "anchor": "x",
                                    "domain": [
                                        0,
                                        1
                                    ],
                                    "showticklabels": false,
                                    "title": {
                                        "text": ""
                                    },
                                    "type": "category"
                                }
                            }
                        }
                    },
                    "metadata": {},
                    "output_type": "display_data"
                }
            ],
            "source": [
                "params = [\n",
                "    (0.1, 0.1, 1),\n",
                "    (0.5, 0.1, 1),\n",
                "    (1, 0.1, 1),\n",
                "    (1.5, 0.1, 1),\n",
                "    (2, 0.1, 1),\n",
                "    (4, 0.1, 1),\n",
                "    (6, 0.1, 1),\n",
                "    (8, 0.1, 1),\n",
                "    (10, 0.1, 1),\n",
                "    (15, 0.1, 1),\n",
                "]\n",
                "\n",
                "labels = [\"main width\", \"tail width\", \"main weight\"]\n",
                "# df_heatmap, data = load_and_process_json(\"10_18IDs_30d\", params, labels)\n",
                "df_heatmap, data = load_and_process_json(\"10_allIDs_10d\", params, labels)\n",
                "IDs = list(data.keys())\n",
                "\n",
                "fig = make_subplots()\n",
                "fig = add_heatmap_for_laplace_old(fig, df_heatmap, 1)\n",
                "fig.update_layout(\n",
                "    title=f\"Log probability of S given D for different shape parameters<br>({len(IDs)} IDs)\",\n",
                "    # yaxis_type='log',\n",
                "    width=450,\n",
                "    height=200,\n",
                "    font_size=10,\n",
                ")\n",
                "fig.show()\n",
                "\n",
                "# Min: 0.01 to mimic identity (no change)\n",
                "# Expected: Most of the data (90%) shifts little or not at all (<10% change), some data (10%) has a surprising shift (>10% change)\n",
                "# Max: double the allowed shift for the same proportion of data. 90% data below 20% shift\n",
                "[0.01, 0.1, 0.5, 1, 1.2, 1.4, 1.6, 1.8, 2, 5]"
            ]
        },
        {
            "cell_type": "code",
            "execution_count": null,
            "metadata": {},
            "outputs": [
                {
                    "name": "stdout",
                    "output_type": "stream",
                    "text": [
                        "-6907.46026151\n",
                        "-9598.024251059996\n",
                        "-11462.303832819996\n",
                        "-12955.684571239992\n",
                        "-14772.762306290002\n",
                        "-13631.226746740002\n"
                    ]
                },
                {
                    "name": "stderr",
                    "output_type": "stream",
                    "text": [
                        "/var/folders/zq/v2r6yn111s3gpdf8lzf72xvw0000gn/T/ipykernel_71336/1544507384.py:36: FutureWarning:\n",
                        "\n",
                        "DataFrame.applymap has been deprecated. Use DataFrame.map instead.\n",
                        "\n",
                        "/var/folders/zq/v2r6yn111s3gpdf8lzf72xvw0000gn/T/ipykernel_71336/1544507384.py:36: FutureWarning:\n",
                        "\n",
                        "DataFrame.applymap has been deprecated. Use DataFrame.map instead.\n",
                        "\n",
                        "/var/folders/zq/v2r6yn111s3gpdf8lzf72xvw0000gn/T/ipykernel_71336/1544507384.py:36: FutureWarning:\n",
                        "\n",
                        "DataFrame.applymap has been deprecated. Use DataFrame.map instead.\n",
                        "\n",
                        "/var/folders/zq/v2r6yn111s3gpdf8lzf72xvw0000gn/T/ipykernel_71336/1544507384.py:36: FutureWarning:\n",
                        "\n",
                        "DataFrame.applymap has been deprecated. Use DataFrame.map instead.\n",
                        "\n",
                        "/var/folders/zq/v2r6yn111s3gpdf8lzf72xvw0000gn/T/ipykernel_71336/1544507384.py:36: FutureWarning:\n",
                        "\n",
                        "DataFrame.applymap has been deprecated. Use DataFrame.map instead.\n",
                        "\n",
                        "/var/folders/zq/v2r6yn111s3gpdf8lzf72xvw0000gn/T/ipykernel_71336/1544507384.py:36: FutureWarning:\n",
                        "\n",
                        "DataFrame.applymap has been deprecated. Use DataFrame.map instead.\n",
                        "\n"
                    ]
                },
                {
                    "data": {
                        "application/vnd.plotly.v1+json": {
                            "config": {
                                "plotlyServerURL": "https://plot.ly"
                            },
                            "data": [
                                {
                                    "colorbar": {
                                        "len": 4,
                                        "y": 0.5,
                                        "yanchor": "middle"
                                    },
                                    "text": [
                                        [
                                            "0",
                                            "1e-284",
                                            "2e-77",
                                            "5e-05",
                                            "0.918",
                                            "0.082",
                                            "2e-04",
                                            "1e-08",
                                            "6e-14",
                                            "3e-20",
                                            "2e-27",
                                            "4e-35",
                                            "1e-43",
                                            "0"
                                        ],
                                        [
                                            "50.000",
                                            "50.000",
                                            "50.000",
                                            "50.000",
                                            "50.000",
                                            "50.000",
                                            "50.000",
                                            "50.000",
                                            "50.000",
                                            "50.000",
                                            "50.000",
                                            "50.000",
                                            "50.000",
                                            "50.000"
                                        ]
                                    ],
                                    "textfont": {
                                        "size": 10
                                    },
                                    "texttemplate": "%{text}",
                                    "type": "heatmap",
                                    "x": [
                                        0.01,
                                        0.1,
                                        0.5,
                                        1,
                                        1.2,
                                        1.3,
                                        1.4,
                                        1.5,
                                        1.6,
                                        1.7,
                                        1.8,
                                        1.9,
                                        2,
                                        5
                                    ],
                                    "xaxis": "x",
                                    "y": [
                                        50,
                                        50,
                                        50,
                                        50,
                                        50,
                                        50,
                                        50,
                                        50,
                                        50,
                                        50,
                                        50,
                                        50,
                                        50,
                                        50
                                    ],
                                    "yaxis": "y",
                                    "z": [
                                        0,
                                        1.4889376007801598e-284,
                                        1.6569238589739665e-77,
                                        0.000046691615721201513,
                                        0.9182681080636557,
                                        0.0815314580974592,
                                        0.0001537307112730087,
                                        1.151183322771049e-8,
                                        5.763138343478777e-14,
                                        2.980395964237835e-20,
                                        2.2937194101271716e-27,
                                        3.572370533807552e-35,
                                        1.4595343032424814e-43,
                                        0
                                    ]
                                },
                                {
                                    "colorbar": {
                                        "len": 4,
                                        "y": 0.5,
                                        "yanchor": "middle"
                                    },
                                    "text": [
                                        [
                                            "0",
                                            "0",
                                            "2e-141",
                                            "1e-17",
                                            "6e-04",
                                            "0.260",
                                            "0.711",
                                            "0.029",
                                            "3e-05",
                                            "2e-09",
                                            "1e-14",
                                            "6e-21",
                                            "7e-28",
                                            "0"
                                        ],
                                        [
                                            "25.000",
                                            "25.000",
                                            "25.000",
                                            "25.000",
                                            "25.000",
                                            "25.000",
                                            "25.000",
                                            "25.000",
                                            "25.000",
                                            "25.000",
                                            "25.000",
                                            "25.000",
                                            "25.000",
                                            "25.000"
                                        ]
                                    ],
                                    "textfont": {
                                        "size": 10
                                    },
                                    "texttemplate": "%{text}",
                                    "type": "heatmap",
                                    "x": [
                                        0.01,
                                        0.1,
                                        0.5,
                                        1,
                                        1.2,
                                        1.3,
                                        1.4,
                                        1.5,
                                        1.6,
                                        1.7,
                                        1.8,
                                        1.9,
                                        2,
                                        5
                                    ],
                                    "xaxis": "x2",
                                    "y": [
                                        25,
                                        25,
                                        25,
                                        25,
                                        25,
                                        25,
                                        25,
                                        25,
                                        25,
                                        25,
                                        25,
                                        25,
                                        25,
                                        25
                                    ],
                                    "yaxis": "y2",
                                    "z": [
                                        0,
                                        0,
                                        1.6206064113271043e-141,
                                        9.584372322033554e-18,
                                        0.0005973386186324592,
                                        0.2598473943790182,
                                        0.7110040628042084,
                                        0.028517689929415904,
                                        0.00003351222786005697,
                                        2.0408546005357594e-9,
                                        1.0329677159459974e-14,
                                        6.4400170517408425e-21,
                                        6.874889899825159e-28,
                                        0
                                    ]
                                },
                                {
                                    "colorbar": {
                                        "len": 4,
                                        "y": 0.5,
                                        "yanchor": "middle"
                                    },
                                    "text": [
                                        [
                                            "0",
                                            "0",
                                            "5e-140",
                                            "9e-21",
                                            "5e-06",
                                            "0.018",
                                            "0.577",
                                            "0.394",
                                            "0.011",
                                            "2e-05",
                                            "3e-09",
                                            "9e-14",
                                            "4e-19",
                                            "2e-267"
                                        ],
                                        [
                                            "20.000",
                                            "20.000",
                                            "20.000",
                                            "20.000",
                                            "20.000",
                                            "20.000",
                                            "20.000",
                                            "20.000",
                                            "20.000",
                                            "20.000",
                                            "20.000",
                                            "20.000",
                                            "20.000",
                                            "20.000"
                                        ]
                                    ],
                                    "textfont": {
                                        "size": 10
                                    },
                                    "texttemplate": "%{text}",
                                    "type": "heatmap",
                                    "x": [
                                        0.01,
                                        0.1,
                                        0.5,
                                        1,
                                        1.2,
                                        1.3,
                                        1.4,
                                        1.5,
                                        1.6,
                                        1.7,
                                        1.8,
                                        1.9,
                                        2,
                                        5
                                    ],
                                    "xaxis": "x3",
                                    "y": [
                                        20,
                                        20,
                                        20,
                                        20,
                                        20,
                                        20,
                                        20,
                                        20,
                                        20,
                                        20,
                                        20,
                                        20,
                                        20,
                                        20
                                    ],
                                    "yaxis": "y3",
                                    "z": [
                                        0,
                                        0,
                                        4.861599332884877e-140,
                                        8.597352081350932e-21,
                                        0.000005406217571914055,
                                        0.01782241428152809,
                                        0.5771448901572797,
                                        0.39439016445965674,
                                        0.010618300284157344,
                                        0.00001882124026504576,
                                        3.359455248472021e-9,
                                        8.602670405857858e-14,
                                        4.2512895580862815e-19,
                                        2.3797684781634697e-267
                                    ]
                                },
                                {
                                    "colorbar": {
                                        "len": 4,
                                        "y": 0.5,
                                        "yanchor": "middle"
                                    },
                                    "text": [
                                        [
                                            "0",
                                            "0",
                                            "1e-134",
                                            "2e-23",
                                            "4e-08",
                                            "6e-04",
                                            "0.114",
                                            "0.674",
                                            "0.206",
                                            "0.005",
                                            "2e-05",
                                            "8e-09",
                                            "8e-13",
                                            "1e-217"
                                        ],
                                        [
                                            "15.000",
                                            "15.000",
                                            "15.000",
                                            "15.000",
                                            "15.000",
                                            "15.000",
                                            "15.000",
                                            "15.000",
                                            "15.000",
                                            "15.000",
                                            "15.000",
                                            "15.000",
                                            "15.000",
                                            "15.000"
                                        ]
                                    ],
                                    "textfont": {
                                        "size": 10
                                    },
                                    "texttemplate": "%{text}",
                                    "type": "heatmap",
                                    "x": [
                                        0.01,
                                        0.1,
                                        0.5,
                                        1,
                                        1.2,
                                        1.3,
                                        1.4,
                                        1.5,
                                        1.6,
                                        1.7,
                                        1.8,
                                        1.9,
                                        2,
                                        5
                                    ],
                                    "xaxis": "x4",
                                    "y": [
                                        15,
                                        15,
                                        15,
                                        15,
                                        15,
                                        15,
                                        15,
                                        15,
                                        15,
                                        15,
                                        15,
                                        15,
                                        15,
                                        15
                                    ],
                                    "yaxis": "y4",
                                    "z": [
                                        0,
                                        0,
                                        9.791201933939557e-135,
                                        1.9948219241148875e-23,
                                        4.119431755197014e-8,
                                        0.000563120757433969,
                                        0.11374734255326853,
                                        0.6744790434349854,
                                        0.2060386505829506,
                                        0.005156258736159087,
                                        0.000015534969730414,
                                        7.770309321816077e-9,
                                        8.450228355449662e-13,
                                        1.2226782091512495e-217
                                    ]
                                },
                                {
                                    "colorbar": {
                                        "len": 4,
                                        "y": 0.5,
                                        "yanchor": "middle"
                                    },
                                    "text": [
                                        [
                                            "0",
                                            "4e-308",
                                            "3e-99",
                                            "2e-16",
                                            "2e-05",
                                            "0.014",
                                            "0.350",
                                            "0.548",
                                            "0.086",
                                            "0.002",
                                            "8e-06",
                                            "9e-09",
                                            "3e-12",
                                            "5e-182"
                                        ],
                                        [
                                            "10.000",
                                            "10.000",
                                            "10.000",
                                            "10.000",
                                            "10.000",
                                            "10.000",
                                            "10.000",
                                            "10.000",
                                            "10.000",
                                            "10.000",
                                            "10.000",
                                            "10.000",
                                            "10.000",
                                            "10.000"
                                        ]
                                    ],
                                    "textfont": {
                                        "size": 10
                                    },
                                    "texttemplate": "%{text}",
                                    "type": "heatmap",
                                    "x": [
                                        0.01,
                                        0.1,
                                        0.5,
                                        1,
                                        1.2,
                                        1.3,
                                        1.4,
                                        1.5,
                                        1.6,
                                        1.7,
                                        1.8,
                                        1.9,
                                        2,
                                        5
                                    ],
                                    "xaxis": "x5",
                                    "y": [
                                        10,
                                        10,
                                        10,
                                        10,
                                        10,
                                        10,
                                        10,
                                        10,
                                        10,
                                        10,
                                        10,
                                        10,
                                        10,
                                        10
                                    ],
                                    "yaxis": "y5",
                                    "z": [
                                        0,
                                        3.571300578552393e-308,
                                        2.6615625134537853e-99,
                                        2.0187852979824913e-16,
                                        0.00002262536524667414,
                                        0.014403500163854882,
                                        0.34958506897230585,
                                        0.5482821156082597,
                                        0.08578058200999328,
                                        0.0019178340762415738,
                                        0.000008264981004487434,
                                        8.820215580391862e-9,
                                        2.877775646959425e-12,
                                        5.244466338263807e-182
                                    ]
                                },
                                {
                                    "colorbar": {
                                        "len": 4,
                                        "y": 0.5,
                                        "yanchor": "middle"
                                    },
                                    "text": [
                                        [
                                            "2e-288",
                                            "5e-226",
                                            "5e-105",
                                            "4e-29",
                                            "4e-15",
                                            "2e-10",
                                            "8e-07",
                                            "3e-04",
                                            "0.017",
                                            "0.173",
                                            "0.426",
                                            "0.307",
                                            "0.077",
                                            "4e-87"
                                        ],
                                        [
                                            "5.000",
                                            "5.000",
                                            "5.000",
                                            "5.000",
                                            "5.000",
                                            "5.000",
                                            "5.000",
                                            "5.000",
                                            "5.000",
                                            "5.000",
                                            "5.000",
                                            "5.000",
                                            "5.000",
                                            "5.000"
                                        ]
                                    ],
                                    "textfont": {
                                        "size": 10
                                    },
                                    "texttemplate": "%{text}",
                                    "type": "heatmap",
                                    "x": [
                                        0.01,
                                        0.1,
                                        0.5,
                                        1,
                                        1.2,
                                        1.3,
                                        1.4,
                                        1.5,
                                        1.6,
                                        1.7,
                                        1.8,
                                        1.9,
                                        2,
                                        5
                                    ],
                                    "xaxis": "x6",
                                    "y": [
                                        5,
                                        5,
                                        5,
                                        5,
                                        5,
                                        5,
                                        5,
                                        5,
                                        5,
                                        5,
                                        5,
                                        5,
                                        5,
                                        5
                                    ],
                                    "yaxis": "y6",
                                    "z": [
                                        2.474680920493291e-288,
                                        4.753456468787195e-226,
                                        5.059237543184124e-105,
                                        4.0614827294535184e-29,
                                        3.621790798786872e-15,
                                        2.092237911887886e-10,
                                        8.045358371879665e-7,
                                        0.0003103487801750936,
                                        0.0169133080967255,
                                        0.1734453082364422,
                                        0.42581637272048656,
                                        0.3066133916461066,
                                        0.0769004657749995,
                                        3.963490771371153e-87
                                    ]
                                }
                            ],
                            "layout": {
                                "font": {
                                    "size": 11
                                },
                                "height": 400,
                                "template": {
                                    "data": {
                                        "bar": [
                                            {
                                                "error_x": {
                                                    "color": "#2a3f5f"
                                                },
                                                "error_y": {
                                                    "color": "#2a3f5f"
                                                },
                                                "marker": {
                                                    "line": {
                                                        "color": "#E5ECF6",
                                                        "width": 0.5
                                                    },
                                                    "pattern": {
                                                        "fillmode": "overlay",
                                                        "size": 10,
                                                        "solidity": 0.2
                                                    }
                                                },
                                                "type": "bar"
                                            }
                                        ],
                                        "barpolar": [
                                            {
                                                "marker": {
                                                    "line": {
                                                        "color": "#E5ECF6",
                                                        "width": 0.5
                                                    },
                                                    "pattern": {
                                                        "fillmode": "overlay",
                                                        "size": 10,
                                                        "solidity": 0.2
                                                    }
                                                },
                                                "type": "barpolar"
                                            }
                                        ],
                                        "carpet": [
                                            {
                                                "aaxis": {
                                                    "endlinecolor": "#2a3f5f",
                                                    "gridcolor": "white",
                                                    "linecolor": "white",
                                                    "minorgridcolor": "white",
                                                    "startlinecolor": "#2a3f5f"
                                                },
                                                "baxis": {
                                                    "endlinecolor": "#2a3f5f",
                                                    "gridcolor": "white",
                                                    "linecolor": "white",
                                                    "minorgridcolor": "white",
                                                    "startlinecolor": "#2a3f5f"
                                                },
                                                "type": "carpet"
                                            }
                                        ],
                                        "choropleth": [
                                            {
                                                "colorbar": {
                                                    "outlinewidth": 0,
                                                    "ticks": ""
                                                },
                                                "type": "choropleth"
                                            }
                                        ],
                                        "contour": [
                                            {
                                                "colorbar": {
                                                    "outlinewidth": 0,
                                                    "ticks": ""
                                                },
                                                "colorscale": [
                                                    [
                                                        0,
                                                        "#0d0887"
                                                    ],
                                                    [
                                                        0.1111111111111111,
                                                        "#46039f"
                                                    ],
                                                    [
                                                        0.2222222222222222,
                                                        "#7201a8"
                                                    ],
                                                    [
                                                        0.3333333333333333,
                                                        "#9c179e"
                                                    ],
                                                    [
                                                        0.4444444444444444,
                                                        "#bd3786"
                                                    ],
                                                    [
                                                        0.5555555555555556,
                                                        "#d8576b"
                                                    ],
                                                    [
                                                        0.6666666666666666,
                                                        "#ed7953"
                                                    ],
                                                    [
                                                        0.7777777777777778,
                                                        "#fb9f3a"
                                                    ],
                                                    [
                                                        0.8888888888888888,
                                                        "#fdca26"
                                                    ],
                                                    [
                                                        1,
                                                        "#f0f921"
                                                    ]
                                                ],
                                                "type": "contour"
                                            }
                                        ],
                                        "contourcarpet": [
                                            {
                                                "colorbar": {
                                                    "outlinewidth": 0,
                                                    "ticks": ""
                                                },
                                                "type": "contourcarpet"
                                            }
                                        ],
                                        "heatmap": [
                                            {
                                                "colorbar": {
                                                    "outlinewidth": 0,
                                                    "ticks": ""
                                                },
                                                "colorscale": [
                                                    [
                                                        0,
                                                        "#0d0887"
                                                    ],
                                                    [
                                                        0.1111111111111111,
                                                        "#46039f"
                                                    ],
                                                    [
                                                        0.2222222222222222,
                                                        "#7201a8"
                                                    ],
                                                    [
                                                        0.3333333333333333,
                                                        "#9c179e"
                                                    ],
                                                    [
                                                        0.4444444444444444,
                                                        "#bd3786"
                                                    ],
                                                    [
                                                        0.5555555555555556,
                                                        "#d8576b"
                                                    ],
                                                    [
                                                        0.6666666666666666,
                                                        "#ed7953"
                                                    ],
                                                    [
                                                        0.7777777777777778,
                                                        "#fb9f3a"
                                                    ],
                                                    [
                                                        0.8888888888888888,
                                                        "#fdca26"
                                                    ],
                                                    [
                                                        1,
                                                        "#f0f921"
                                                    ]
                                                ],
                                                "type": "heatmap"
                                            }
                                        ],
                                        "heatmapgl": [
                                            {
                                                "colorbar": {
                                                    "outlinewidth": 0,
                                                    "ticks": ""
                                                },
                                                "colorscale": [
                                                    [
                                                        0,
                                                        "#0d0887"
                                                    ],
                                                    [
                                                        0.1111111111111111,
                                                        "#46039f"
                                                    ],
                                                    [
                                                        0.2222222222222222,
                                                        "#7201a8"
                                                    ],
                                                    [
                                                        0.3333333333333333,
                                                        "#9c179e"
                                                    ],
                                                    [
                                                        0.4444444444444444,
                                                        "#bd3786"
                                                    ],
                                                    [
                                                        0.5555555555555556,
                                                        "#d8576b"
                                                    ],
                                                    [
                                                        0.6666666666666666,
                                                        "#ed7953"
                                                    ],
                                                    [
                                                        0.7777777777777778,
                                                        "#fb9f3a"
                                                    ],
                                                    [
                                                        0.8888888888888888,
                                                        "#fdca26"
                                                    ],
                                                    [
                                                        1,
                                                        "#f0f921"
                                                    ]
                                                ],
                                                "type": "heatmapgl"
                                            }
                                        ],
                                        "histogram": [
                                            {
                                                "marker": {
                                                    "pattern": {
                                                        "fillmode": "overlay",
                                                        "size": 10,
                                                        "solidity": 0.2
                                                    }
                                                },
                                                "type": "histogram"
                                            }
                                        ],
                                        "histogram2d": [
                                            {
                                                "colorbar": {
                                                    "outlinewidth": 0,
                                                    "ticks": ""
                                                },
                                                "colorscale": [
                                                    [
                                                        0,
                                                        "#0d0887"
                                                    ],
                                                    [
                                                        0.1111111111111111,
                                                        "#46039f"
                                                    ],
                                                    [
                                                        0.2222222222222222,
                                                        "#7201a8"
                                                    ],
                                                    [
                                                        0.3333333333333333,
                                                        "#9c179e"
                                                    ],
                                                    [
                                                        0.4444444444444444,
                                                        "#bd3786"
                                                    ],
                                                    [
                                                        0.5555555555555556,
                                                        "#d8576b"
                                                    ],
                                                    [
                                                        0.6666666666666666,
                                                        "#ed7953"
                                                    ],
                                                    [
                                                        0.7777777777777778,
                                                        "#fb9f3a"
                                                    ],
                                                    [
                                                        0.8888888888888888,
                                                        "#fdca26"
                                                    ],
                                                    [
                                                        1,
                                                        "#f0f921"
                                                    ]
                                                ],
                                                "type": "histogram2d"
                                            }
                                        ],
                                        "histogram2dcontour": [
                                            {
                                                "colorbar": {
                                                    "outlinewidth": 0,
                                                    "ticks": ""
                                                },
                                                "colorscale": [
                                                    [
                                                        0,
                                                        "#0d0887"
                                                    ],
                                                    [
                                                        0.1111111111111111,
                                                        "#46039f"
                                                    ],
                                                    [
                                                        0.2222222222222222,
                                                        "#7201a8"
                                                    ],
                                                    [
                                                        0.3333333333333333,
                                                        "#9c179e"
                                                    ],
                                                    [
                                                        0.4444444444444444,
                                                        "#bd3786"
                                                    ],
                                                    [
                                                        0.5555555555555556,
                                                        "#d8576b"
                                                    ],
                                                    [
                                                        0.6666666666666666,
                                                        "#ed7953"
                                                    ],
                                                    [
                                                        0.7777777777777778,
                                                        "#fb9f3a"
                                                    ],
                                                    [
                                                        0.8888888888888888,
                                                        "#fdca26"
                                                    ],
                                                    [
                                                        1,
                                                        "#f0f921"
                                                    ]
                                                ],
                                                "type": "histogram2dcontour"
                                            }
                                        ],
                                        "mesh3d": [
                                            {
                                                "colorbar": {
                                                    "outlinewidth": 0,
                                                    "ticks": ""
                                                },
                                                "type": "mesh3d"
                                            }
                                        ],
                                        "parcoords": [
                                            {
                                                "line": {
                                                    "colorbar": {
                                                        "outlinewidth": 0,
                                                        "ticks": ""
                                                    }
                                                },
                                                "type": "parcoords"
                                            }
                                        ],
                                        "pie": [
                                            {
                                                "automargin": true,
                                                "type": "pie"
                                            }
                                        ],
                                        "scatter": [
                                            {
                                                "fillpattern": {
                                                    "fillmode": "overlay",
                                                    "size": 10,
                                                    "solidity": 0.2
                                                },
                                                "type": "scatter"
                                            }
                                        ],
                                        "scatter3d": [
                                            {
                                                "line": {
                                                    "colorbar": {
                                                        "outlinewidth": 0,
                                                        "ticks": ""
                                                    }
                                                },
                                                "marker": {
                                                    "colorbar": {
                                                        "outlinewidth": 0,
                                                        "ticks": ""
                                                    }
                                                },
                                                "type": "scatter3d"
                                            }
                                        ],
                                        "scattercarpet": [
                                            {
                                                "marker": {
                                                    "colorbar": {
                                                        "outlinewidth": 0,
                                                        "ticks": ""
                                                    }
                                                },
                                                "type": "scattercarpet"
                                            }
                                        ],
                                        "scattergeo": [
                                            {
                                                "marker": {
                                                    "colorbar": {
                                                        "outlinewidth": 0,
                                                        "ticks": ""
                                                    }
                                                },
                                                "type": "scattergeo"
                                            }
                                        ],
                                        "scattergl": [
                                            {
                                                "marker": {
                                                    "colorbar": {
                                                        "outlinewidth": 0,
                                                        "ticks": ""
                                                    }
                                                },
                                                "type": "scattergl"
                                            }
                                        ],
                                        "scattermapbox": [
                                            {
                                                "marker": {
                                                    "colorbar": {
                                                        "outlinewidth": 0,
                                                        "ticks": ""
                                                    }
                                                },
                                                "type": "scattermapbox"
                                            }
                                        ],
                                        "scatterpolar": [
                                            {
                                                "marker": {
                                                    "colorbar": {
                                                        "outlinewidth": 0,
                                                        "ticks": ""
                                                    }
                                                },
                                                "type": "scatterpolar"
                                            }
                                        ],
                                        "scatterpolargl": [
                                            {
                                                "marker": {
                                                    "colorbar": {
                                                        "outlinewidth": 0,
                                                        "ticks": ""
                                                    }
                                                },
                                                "type": "scatterpolargl"
                                            }
                                        ],
                                        "scatterternary": [
                                            {
                                                "marker": {
                                                    "colorbar": {
                                                        "outlinewidth": 0,
                                                        "ticks": ""
                                                    }
                                                },
                                                "type": "scatterternary"
                                            }
                                        ],
                                        "surface": [
                                            {
                                                "colorbar": {
                                                    "outlinewidth": 0,
                                                    "ticks": ""
                                                },
                                                "colorscale": [
                                                    [
                                                        0,
                                                        "#0d0887"
                                                    ],
                                                    [
                                                        0.1111111111111111,
                                                        "#46039f"
                                                    ],
                                                    [
                                                        0.2222222222222222,
                                                        "#7201a8"
                                                    ],
                                                    [
                                                        0.3333333333333333,
                                                        "#9c179e"
                                                    ],
                                                    [
                                                        0.4444444444444444,
                                                        "#bd3786"
                                                    ],
                                                    [
                                                        0.5555555555555556,
                                                        "#d8576b"
                                                    ],
                                                    [
                                                        0.6666666666666666,
                                                        "#ed7953"
                                                    ],
                                                    [
                                                        0.7777777777777778,
                                                        "#fb9f3a"
                                                    ],
                                                    [
                                                        0.8888888888888888,
                                                        "#fdca26"
                                                    ],
                                                    [
                                                        1,
                                                        "#f0f921"
                                                    ]
                                                ],
                                                "type": "surface"
                                            }
                                        ],
                                        "table": [
                                            {
                                                "cells": {
                                                    "fill": {
                                                        "color": "#EBF0F8"
                                                    },
                                                    "line": {
                                                        "color": "white"
                                                    }
                                                },
                                                "header": {
                                                    "fill": {
                                                        "color": "#C8D4E3"
                                                    },
                                                    "line": {
                                                        "color": "white"
                                                    }
                                                },
                                                "type": "table"
                                            }
                                        ]
                                    },
                                    "layout": {
                                        "annotationdefaults": {
                                            "arrowcolor": "#2a3f5f",
                                            "arrowhead": 0,
                                            "arrowwidth": 1
                                        },
                                        "autotypenumbers": "strict",
                                        "coloraxis": {
                                            "colorbar": {
                                                "outlinewidth": 0,
                                                "ticks": ""
                                            }
                                        },
                                        "colorscale": {
                                            "diverging": [
                                                [
                                                    0,
                                                    "#8e0152"
                                                ],
                                                [
                                                    0.1,
                                                    "#c51b7d"
                                                ],
                                                [
                                                    0.2,
                                                    "#de77ae"
                                                ],
                                                [
                                                    0.3,
                                                    "#f1b6da"
                                                ],
                                                [
                                                    0.4,
                                                    "#fde0ef"
                                                ],
                                                [
                                                    0.5,
                                                    "#f7f7f7"
                                                ],
                                                [
                                                    0.6,
                                                    "#e6f5d0"
                                                ],
                                                [
                                                    0.7,
                                                    "#b8e186"
                                                ],
                                                [
                                                    0.8,
                                                    "#7fbc41"
                                                ],
                                                [
                                                    0.9,
                                                    "#4d9221"
                                                ],
                                                [
                                                    1,
                                                    "#276419"
                                                ]
                                            ],
                                            "sequential": [
                                                [
                                                    0,
                                                    "#0d0887"
                                                ],
                                                [
                                                    0.1111111111111111,
                                                    "#46039f"
                                                ],
                                                [
                                                    0.2222222222222222,
                                                    "#7201a8"
                                                ],
                                                [
                                                    0.3333333333333333,
                                                    "#9c179e"
                                                ],
                                                [
                                                    0.4444444444444444,
                                                    "#bd3786"
                                                ],
                                                [
                                                    0.5555555555555556,
                                                    "#d8576b"
                                                ],
                                                [
                                                    0.6666666666666666,
                                                    "#ed7953"
                                                ],
                                                [
                                                    0.7777777777777778,
                                                    "#fb9f3a"
                                                ],
                                                [
                                                    0.8888888888888888,
                                                    "#fdca26"
                                                ],
                                                [
                                                    1,
                                                    "#f0f921"
                                                ]
                                            ],
                                            "sequentialminus": [
                                                [
                                                    0,
                                                    "#0d0887"
                                                ],
                                                [
                                                    0.1111111111111111,
                                                    "#46039f"
                                                ],
                                                [
                                                    0.2222222222222222,
                                                    "#7201a8"
                                                ],
                                                [
                                                    0.3333333333333333,
                                                    "#9c179e"
                                                ],
                                                [
                                                    0.4444444444444444,
                                                    "#bd3786"
                                                ],
                                                [
                                                    0.5555555555555556,
                                                    "#d8576b"
                                                ],
                                                [
                                                    0.6666666666666666,
                                                    "#ed7953"
                                                ],
                                                [
                                                    0.7777777777777778,
                                                    "#fb9f3a"
                                                ],
                                                [
                                                    0.8888888888888888,
                                                    "#fdca26"
                                                ],
                                                [
                                                    1,
                                                    "#f0f921"
                                                ]
                                            ]
                                        },
                                        "colorway": [
                                            "#636efa",
                                            "#EF553B",
                                            "#00cc96",
                                            "#ab63fa",
                                            "#FFA15A",
                                            "#19d3f3",
                                            "#FF6692",
                                            "#B6E880",
                                            "#FF97FF",
                                            "#FECB52"
                                        ],
                                        "font": {
                                            "color": "#2a3f5f"
                                        },
                                        "geo": {
                                            "bgcolor": "white",
                                            "lakecolor": "white",
                                            "landcolor": "#E5ECF6",
                                            "showlakes": true,
                                            "showland": true,
                                            "subunitcolor": "white"
                                        },
                                        "hoverlabel": {
                                            "align": "left"
                                        },
                                        "hovermode": "closest",
                                        "mapbox": {
                                            "style": "light"
                                        },
                                        "paper_bgcolor": "white",
                                        "plot_bgcolor": "#E5ECF6",
                                        "polar": {
                                            "angularaxis": {
                                                "gridcolor": "white",
                                                "linecolor": "white",
                                                "ticks": ""
                                            },
                                            "bgcolor": "#E5ECF6",
                                            "radialaxis": {
                                                "gridcolor": "white",
                                                "linecolor": "white",
                                                "ticks": ""
                                            }
                                        },
                                        "scene": {
                                            "xaxis": {
                                                "backgroundcolor": "#E5ECF6",
                                                "gridcolor": "white",
                                                "gridwidth": 2,
                                                "linecolor": "white",
                                                "showbackground": true,
                                                "ticks": "",
                                                "zerolinecolor": "white"
                                            },
                                            "yaxis": {
                                                "backgroundcolor": "#E5ECF6",
                                                "gridcolor": "white",
                                                "gridwidth": 2,
                                                "linecolor": "white",
                                                "showbackground": true,
                                                "ticks": "",
                                                "zerolinecolor": "white"
                                            },
                                            "zaxis": {
                                                "backgroundcolor": "#E5ECF6",
                                                "gridcolor": "white",
                                                "gridwidth": 2,
                                                "linecolor": "white",
                                                "showbackground": true,
                                                "ticks": "",
                                                "zerolinecolor": "white"
                                            }
                                        },
                                        "shapedefaults": {
                                            "line": {
                                                "color": "#2a3f5f"
                                            }
                                        },
                                        "ternary": {
                                            "aaxis": {
                                                "gridcolor": "white",
                                                "linecolor": "white",
                                                "ticks": ""
                                            },
                                            "baxis": {
                                                "gridcolor": "white",
                                                "linecolor": "white",
                                                "ticks": ""
                                            },
                                            "bgcolor": "#E5ECF6",
                                            "caxis": {
                                                "gridcolor": "white",
                                                "linecolor": "white",
                                                "ticks": ""
                                            }
                                        },
                                        "title": {
                                            "x": 0.05
                                        },
                                        "xaxis": {
                                            "automargin": true,
                                            "gridcolor": "white",
                                            "linecolor": "white",
                                            "ticks": "",
                                            "title": {
                                                "standoff": 15
                                            },
                                            "zerolinecolor": "white",
                                            "zerolinewidth": 2
                                        },
                                        "yaxis": {
                                            "automargin": true,
                                            "gridcolor": "white",
                                            "linecolor": "white",
                                            "ticks": "",
                                            "title": {
                                                "standoff": 15
                                            },
                                            "zerolinecolor": "white",
                                            "zerolinewidth": 2
                                        }
                                    }
                                },
                                "title": {
                                    "text": "Log probability of S given D for different shape parameters<br>(113 IDs)"
                                },
                                "width": 800,
                                "xaxis": {
                                    "anchor": "y",
                                    "domain": [
                                        0,
                                        1
                                    ],
                                    "matches": "x6",
                                    "showticklabels": false,
                                    "type": "category"
                                },
                                "xaxis2": {
                                    "anchor": "y2",
                                    "domain": [
                                        0,
                                        1
                                    ],
                                    "matches": "x6",
                                    "showticklabels": false,
                                    "type": "category"
                                },
                                "xaxis3": {
                                    "anchor": "y3",
                                    "domain": [
                                        0,
                                        1
                                    ],
                                    "matches": "x6",
                                    "showticklabels": false,
                                    "type": "category"
                                },
                                "xaxis4": {
                                    "anchor": "y4",
                                    "domain": [
                                        0,
                                        1
                                    ],
                                    "matches": "x6",
                                    "showticklabels": false,
                                    "type": "category"
                                },
                                "xaxis5": {
                                    "anchor": "y5",
                                    "domain": [
                                        0,
                                        1
                                    ],
                                    "matches": "x6",
                                    "showticklabels": false,
                                    "type": "category"
                                },
                                "xaxis6": {
                                    "anchor": "y6",
                                    "domain": [
                                        0,
                                        1
                                    ],
                                    "title": {
                                        "text": "Laplace scale parameter (b)"
                                    },
                                    "type": "category"
                                },
                                "yaxis": {
                                    "anchor": "x",
                                    "domain": [
                                        0.875,
                                        1
                                    ],
                                    "tickvals": [
                                        5,
                                        10,
                                        15,
                                        20,
                                        25,
                                        50
                                    ],
                                    "type": "category"
                                },
                                "yaxis2": {
                                    "anchor": "x2",
                                    "domain": [
                                        0.7,
                                        0.825
                                    ],
                                    "tickvals": [
                                        5,
                                        10,
                                        15,
                                        20,
                                        25,
                                        50
                                    ],
                                    "type": "category"
                                },
                                "yaxis3": {
                                    "anchor": "x3",
                                    "domain": [
                                        0.525,
                                        0.65
                                    ],
                                    "tickvals": [
                                        5,
                                        10,
                                        15,
                                        20,
                                        25,
                                        50
                                    ],
                                    "title": {
                                        "text": "Maximum sequence<br>length (days)"
                                    },
                                    "type": "category"
                                },
                                "yaxis4": {
                                    "anchor": "x4",
                                    "domain": [
                                        0.35,
                                        0.475
                                    ],
                                    "tickvals": [
                                        5,
                                        10,
                                        15,
                                        20,
                                        25,
                                        50
                                    ],
                                    "type": "category"
                                },
                                "yaxis5": {
                                    "anchor": "x5",
                                    "domain": [
                                        0.175,
                                        0.3
                                    ],
                                    "tickvals": [
                                        5,
                                        10,
                                        15,
                                        20,
                                        25,
                                        50
                                    ],
                                    "type": "category"
                                },
                                "yaxis6": {
                                    "anchor": "x6",
                                    "domain": [
                                        0,
                                        0.125
                                    ],
                                    "tickvals": [
                                        5,
                                        10,
                                        15,
                                        20,
                                        25,
                                        50
                                    ],
                                    "type": "category"
                                }
                            }
                        }
                    },
                    "metadata": {},
                    "output_type": "display_data"
                },
                {
                    "data": {
                        "text/html": [
                            "<div>\n",
                            "<style scoped>\n",
                            "    .dataframe tbody tr th:only-of-type {\n",
                            "        vertical-align: middle;\n",
                            "    }\n",
                            "\n",
                            "    .dataframe tbody tr th {\n",
                            "        vertical-align: top;\n",
                            "    }\n",
                            "\n",
                            "    .dataframe thead th {\n",
                            "        text-align: right;\n",
                            "    }\n",
                            "</style>\n",
                            "<table border=\"1\" class=\"dataframe\">\n",
                            "  <thead>\n",
                            "    <tr style=\"text-align: right;\">\n",
                            "      <th></th>\n",
                            "      <th>log_p_S_given_D</th>\n",
                            "      <th>days</th>\n",
                            "    </tr>\n",
                            "    <tr>\n",
                            "      <th>scale</th>\n",
                            "      <th></th>\n",
                            "      <th></th>\n",
                            "    </tr>\n",
                            "  </thead>\n",
                            "  <tbody>\n",
                            "    <tr>\n",
                            "      <th>0.01</th>\n",
                            "      <td>2.474681e-288</td>\n",
                            "      <td>5</td>\n",
                            "    </tr>\n",
                            "    <tr>\n",
                            "      <th>0.10</th>\n",
                            "      <td>4.753456e-226</td>\n",
                            "      <td>5</td>\n",
                            "    </tr>\n",
                            "  </tbody>\n",
                            "</table>\n",
                            "</div>"
                        ],
                        "text/plain": [
                            "       log_p_S_given_D  days\n",
                            "scale                       \n",
                            "0.01     2.474681e-288     5\n",
                            "0.10     4.753456e-226     5"
                        ]
                    },
                    "execution_count": 180,
                    "metadata": {},
                    "output_type": "execute_result"
                }
            ],
            "source": [
                "params = [0.01, 0.1, 0.5, 1, 1.2, 1.3, 1.4, 1.5, 1.6, 1.7, 1.8, 1.9, 2, 5]\n",
                "\n",
                "\n",
                "def transform_df_hm(df_hm, days):\n",
                "    df_hm = df_hm.set_index(\"scale\")\n",
                "    df_hm = df_hm.drop(columns=[\"params\"])\n",
                "    df_hm[\"days\"] = days\n",
                "\n",
                "    print(np.max(df_hm[\"log_p_S_given_D\"]))\n",
                "    df_hm[\"log_p_S_given_D\"] = df_hm[\"log_p_S_given_D\"] - np.max(\n",
                "        df_hm[\"log_p_S_given_D\"]\n",
                "    )\n",
                "    df_hm[\"log_p_S_given_D\"] = np.exp(df_hm[\"log_p_S_given_D\"])\n",
                "    df_hm[\"log_p_S_given_D\"] = df_hm[\"log_p_S_given_D\"] / np.sum(\n",
                "        df_hm[\"log_p_S_given_D\"]\n",
                "    )\n",
                "    return df_hm\n",
                "\n",
                "\n",
                "def add_one_heatmap_for_laplace(fig, df, col, row=1):\n",
                "    fig.add_trace(\n",
                "        go.Heatmap(\n",
                "            z=df[\"log_p_S_given_D\"],\n",
                "            x=df.index,\n",
                "            y=df[\"days\"],\n",
                "            colorbar=dict(\n",
                "                len=4,  # Make colorbar 1.5x the height of the plot\n",
                "                y=0.5,  # Center it vertically\n",
                "                yanchor=\"middle\",\n",
                "            ),\n",
                "        ),\n",
                "        row=row,\n",
                "        col=col,\n",
                "    )\n",
                "    fig.update_traces(\n",
                "        text=df.T.applymap(\n",
                "            lambda x: \"0\" if x == 0 else f\"{x:.3f}\" if x >= 0.001 else f\"{x:.0e}\"\n",
                "        ),\n",
                "        texttemplate=\"%{text}\",\n",
                "        textfont={\"size\": 10},\n",
                "        row=row,\n",
                "        col=col,\n",
                "    )\n",
                "    return fig\n",
                "\n",
                "\n",
                "labels = [\"scale\"]\n",
                "# df_hm, data = load_and_process_json(\"10_18IDs_30d\", params, labels)\n",
                "df_hm_5, data_5 = load_and_process_json(\"14_5days\", params, labels)\n",
                "df_hm_10, data_10 = load_and_process_json(\"14_10days\", params, labels)\n",
                "df_hm_15, data_15 = load_and_process_json(\"14_15days\", params, labels)\n",
                "df_hm_20, data_20 = load_and_process_json(\"14_20days\", params, labels)\n",
                "df_hm_25, data_25 = load_and_process_json(\"14_25days\", params, labels)\n",
                "df_hm_50, data_50 = load_and_process_json(\"14_50days\", params, labels)\n",
                "\n",
                "df_hm_5 = transform_df_hm(df_hm_5, 5)\n",
                "df_hm_10 = transform_df_hm(df_hm_10, 10)\n",
                "df_hm_15 = transform_df_hm(df_hm_15, 15)\n",
                "df_hm_20 = transform_df_hm(df_hm_20, 20)\n",
                "df_hm_25 = transform_df_hm(df_hm_25, 25)\n",
                "df_hm_50 = transform_df_hm(df_hm_50, 50)\n",
                "\n",
                "\n",
                "IDs = list(data.keys())\n",
                "\n",
                "fig = make_subplots(rows=6, shared_xaxes=True)\n",
                "fig = add_one_heatmap_for_laplace(fig, df_hm_50, col=1, row=1)\n",
                "fig = add_one_heatmap_for_laplace(fig, df_hm_25, col=1, row=2)\n",
                "fig = add_one_heatmap_for_laplace(fig, df_hm_20, col=1, row=3)\n",
                "fig = add_one_heatmap_for_laplace(fig, df_hm_15, col=1, row=4)\n",
                "fig = add_one_heatmap_for_laplace(fig, df_hm_10, col=1, row=5)\n",
                "fig = add_one_heatmap_for_laplace(fig, df_hm_5, col=1, row=6)\n",
                "fig.update_yaxes(\n",
                "    type=\"category\", title=\"Maximum sequence<br>length (days)\", row=3, col=1\n",
                ")\n",
                "fig.update_yaxes(\n",
                "    type=\"category\",\n",
                "    tickvals=[5, 10, 15, 20, 25, 50],\n",
                ")\n",
                "fig.update_xaxes(type=\"category\")\n",
                "fig.update_xaxes(type=\"category\", title=\"Laplace scale parameter (b)\", row=6, col=1)\n",
                "\n",
                "fig.update_layout(\n",
                "    title=f\"Log probability of S given D for different shape parameters<br>({len(IDs)} IDs)\",\n",
                "    # yaxis_type='log',\n",
                "    width=800,\n",
                "    height=400,\n",
                "    font_size=11,\n",
                ")\n",
                "fig.show()\n",
                "\n",
                "df_hm_5.head(2)\n",
                "\n",
                "# Why selecting 3 consecutive days? Tradeoff between more data and still day to day changes\n",
                "# For different range of consec days allowed, compute the total amount of data used for a max sequence 5-100 days and the number of IDs involved\n",
                "# If I do 10 days, there's prob no need to use 3 consec days, just 1 day is enough\n",
                "\n",
                "# Rerun by not excluding individual sequences that are smaller than the max sequence length\n",
                "\n",
                "# Randomly select different sequences for each ID and then get the avg probability, compute error bars."
            ]
        },
        {
            "cell_type": "code",
            "execution_count": null,
            "metadata": {},
            "outputs": [
                {
                    "name": "stdout",
                    "output_type": "stream",
                    "text": [
                        "-6907.46026151\n",
                        "-9598.024251059996\n",
                        "-11462.303832819996\n",
                        "-12955.684571239992\n",
                        "-14772.762306290002\n",
                        "-13631.226746740002\n"
                    ]
                },
                {
                    "name": "stderr",
                    "output_type": "stream",
                    "text": [
                        "/var/folders/zq/v2r6yn111s3gpdf8lzf72xvw0000gn/T/ipykernel_71336/3473087891.py:25: FutureWarning:\n",
                        "\n",
                        "DataFrame.applymap has been deprecated. Use DataFrame.map instead.\n",
                        "\n"
                    ]
                },
                {
                    "data": {
                        "application/vnd.plotly.v1+json": {
                            "config": {
                                "plotlyServerURL": "https://plot.ly"
                            },
                            "data": [
                                {
                                    "colorbar": {
                                        "len": 4,
                                        "y": 0.5,
                                        "yanchor": "middle"
                                    },
                                    "showscale": true,
                                    "text": [
                                        [
                                            "2e-288",
                                            "5e-226",
                                            "5e-105",
                                            "4e-29",
                                            "4e-15",
                                            "2e-10",
                                            "8e-07",
                                            "3e-04",
                                            "0.017",
                                            "0.173",
                                            "0.426",
                                            "0.307",
                                            "0.077",
                                            "4e-87"
                                        ],
                                        [
                                            "0",
                                            "4e-308",
                                            "3e-99",
                                            "2e-16",
                                            "2e-05",
                                            "0.014",
                                            "0.350",
                                            "0.548",
                                            "0.086",
                                            "0.002",
                                            "8e-06",
                                            "9e-09",
                                            "3e-12",
                                            "5e-182"
                                        ],
                                        [
                                            "0",
                                            "0",
                                            "1e-134",
                                            "2e-23",
                                            "4e-08",
                                            "6e-04",
                                            "0.114",
                                            "0.674",
                                            "0.206",
                                            "0.005",
                                            "2e-05",
                                            "8e-09",
                                            "8e-13",
                                            "1e-217"
                                        ],
                                        [
                                            "0",
                                            "0",
                                            "5e-140",
                                            "9e-21",
                                            "5e-06",
                                            "0.018",
                                            "0.577",
                                            "0.394",
                                            "0.011",
                                            "2e-05",
                                            "3e-09",
                                            "9e-14",
                                            "4e-19",
                                            "2e-267"
                                        ],
                                        [
                                            "0",
                                            "0",
                                            "2e-141",
                                            "1e-17",
                                            "6e-04",
                                            "0.260",
                                            "0.711",
                                            "0.029",
                                            "3e-05",
                                            "2e-09",
                                            "1e-14",
                                            "6e-21",
                                            "7e-28",
                                            "0"
                                        ],
                                        [
                                            "0",
                                            "1e-284",
                                            "2e-77",
                                            "5e-05",
                                            "0.918",
                                            "0.082",
                                            "2e-04",
                                            "1e-08",
                                            "6e-14",
                                            "3e-20",
                                            "2e-27",
                                            "4e-35",
                                            "1e-43",
                                            "0"
                                        ]
                                    ],
                                    "textfont": {
                                        "size": 10
                                    },
                                    "texttemplate": "%{text}",
                                    "type": "heatmap",
                                    "x": [
                                        0.01,
                                        0.1,
                                        0.5,
                                        1,
                                        1.2,
                                        1.3,
                                        1.4,
                                        1.5,
                                        1.6,
                                        1.7,
                                        1.8,
                                        1.9,
                                        2,
                                        5
                                    ],
                                    "xaxis": "x",
                                    "y": [
                                        5,
                                        10,
                                        15,
                                        20,
                                        25,
                                        50
                                    ],
                                    "yaxis": "y",
                                    "z": [
                                        [
                                            2.474680920493291e-288,
                                            4.753456468787195e-226,
                                            5.059237543184124e-105,
                                            4.0614827294535184e-29,
                                            3.621790798786872e-15,
                                            2.092237911887886e-10,
                                            8.045358371879665e-7,
                                            0.0003103487801750936,
                                            0.0169133080967255,
                                            0.1734453082364422,
                                            0.42581637272048656,
                                            0.3066133916461066,
                                            0.0769004657749995,
                                            3.963490771371153e-87
                                        ],
                                        [
                                            0,
                                            3.571300578552393e-308,
                                            2.6615625134537853e-99,
                                            2.0187852979824913e-16,
                                            0.00002262536524667414,
                                            0.014403500163854882,
                                            0.34958506897230585,
                                            0.5482821156082597,
                                            0.08578058200999328,
                                            0.0019178340762415738,
                                            0.000008264981004487434,
                                            8.820215580391862e-9,
                                            2.877775646959425e-12,
                                            5.244466338263807e-182
                                        ],
                                        [
                                            0,
                                            0,
                                            9.791201933939557e-135,
                                            1.9948219241148875e-23,
                                            4.119431755197014e-8,
                                            0.000563120757433969,
                                            0.11374734255326853,
                                            0.6744790434349854,
                                            0.2060386505829506,
                                            0.005156258736159087,
                                            0.000015534969730414,
                                            7.770309321816077e-9,
                                            8.450228355449662e-13,
                                            1.2226782091512495e-217
                                        ],
                                        [
                                            0,
                                            0,
                                            4.861599332884877e-140,
                                            8.597352081350932e-21,
                                            0.000005406217571914055,
                                            0.01782241428152809,
                                            0.5771448901572797,
                                            0.39439016445965674,
                                            0.010618300284157344,
                                            0.00001882124026504576,
                                            3.359455248472021e-9,
                                            8.602670405857858e-14,
                                            4.2512895580862815e-19,
                                            2.3797684781634697e-267
                                        ],
                                        [
                                            0,
                                            0,
                                            1.6206064113271043e-141,
                                            9.584372322033554e-18,
                                            0.0005973386186324592,
                                            0.2598473943790182,
                                            0.7110040628042084,
                                            0.028517689929415904,
                                            0.00003351222786005697,
                                            2.0408546005357594e-9,
                                            1.0329677159459974e-14,
                                            6.4400170517408425e-21,
                                            6.874889899825159e-28,
                                            0
                                        ],
                                        [
                                            0,
                                            1.4889376007801598e-284,
                                            1.6569238589739665e-77,
                                            0.000046691615721201513,
                                            0.9182681080636557,
                                            0.0815314580974592,
                                            0.0001537307112730087,
                                            1.151183322771049e-8,
                                            5.763138343478777e-14,
                                            2.980395964237835e-20,
                                            2.2937194101271716e-27,
                                            3.572370533807552e-35,
                                            1.4595343032424814e-43,
                                            0
                                        ]
                                    ]
                                }
                            ],
                            "layout": {
                                "font": {
                                    "size": 10
                                },
                                "template": {
                                    "data": {
                                        "bar": [
                                            {
                                                "error_x": {
                                                    "color": "#2a3f5f"
                                                },
                                                "error_y": {
                                                    "color": "#2a3f5f"
                                                },
                                                "marker": {
                                                    "line": {
                                                        "color": "#E5ECF6",
                                                        "width": 0.5
                                                    },
                                                    "pattern": {
                                                        "fillmode": "overlay",
                                                        "size": 10,
                                                        "solidity": 0.2
                                                    }
                                                },
                                                "type": "bar"
                                            }
                                        ],
                                        "barpolar": [
                                            {
                                                "marker": {
                                                    "line": {
                                                        "color": "#E5ECF6",
                                                        "width": 0.5
                                                    },
                                                    "pattern": {
                                                        "fillmode": "overlay",
                                                        "size": 10,
                                                        "solidity": 0.2
                                                    }
                                                },
                                                "type": "barpolar"
                                            }
                                        ],
                                        "carpet": [
                                            {
                                                "aaxis": {
                                                    "endlinecolor": "#2a3f5f",
                                                    "gridcolor": "white",
                                                    "linecolor": "white",
                                                    "minorgridcolor": "white",
                                                    "startlinecolor": "#2a3f5f"
                                                },
                                                "baxis": {
                                                    "endlinecolor": "#2a3f5f",
                                                    "gridcolor": "white",
                                                    "linecolor": "white",
                                                    "minorgridcolor": "white",
                                                    "startlinecolor": "#2a3f5f"
                                                },
                                                "type": "carpet"
                                            }
                                        ],
                                        "choropleth": [
                                            {
                                                "colorbar": {
                                                    "outlinewidth": 0,
                                                    "ticks": ""
                                                },
                                                "type": "choropleth"
                                            }
                                        ],
                                        "contour": [
                                            {
                                                "colorbar": {
                                                    "outlinewidth": 0,
                                                    "ticks": ""
                                                },
                                                "colorscale": [
                                                    [
                                                        0,
                                                        "#0d0887"
                                                    ],
                                                    [
                                                        0.1111111111111111,
                                                        "#46039f"
                                                    ],
                                                    [
                                                        0.2222222222222222,
                                                        "#7201a8"
                                                    ],
                                                    [
                                                        0.3333333333333333,
                                                        "#9c179e"
                                                    ],
                                                    [
                                                        0.4444444444444444,
                                                        "#bd3786"
                                                    ],
                                                    [
                                                        0.5555555555555556,
                                                        "#d8576b"
                                                    ],
                                                    [
                                                        0.6666666666666666,
                                                        "#ed7953"
                                                    ],
                                                    [
                                                        0.7777777777777778,
                                                        "#fb9f3a"
                                                    ],
                                                    [
                                                        0.8888888888888888,
                                                        "#fdca26"
                                                    ],
                                                    [
                                                        1,
                                                        "#f0f921"
                                                    ]
                                                ],
                                                "type": "contour"
                                            }
                                        ],
                                        "contourcarpet": [
                                            {
                                                "colorbar": {
                                                    "outlinewidth": 0,
                                                    "ticks": ""
                                                },
                                                "type": "contourcarpet"
                                            }
                                        ],
                                        "heatmap": [
                                            {
                                                "colorbar": {
                                                    "outlinewidth": 0,
                                                    "ticks": ""
                                                },
                                                "colorscale": [
                                                    [
                                                        0,
                                                        "#0d0887"
                                                    ],
                                                    [
                                                        0.1111111111111111,
                                                        "#46039f"
                                                    ],
                                                    [
                                                        0.2222222222222222,
                                                        "#7201a8"
                                                    ],
                                                    [
                                                        0.3333333333333333,
                                                        "#9c179e"
                                                    ],
                                                    [
                                                        0.4444444444444444,
                                                        "#bd3786"
                                                    ],
                                                    [
                                                        0.5555555555555556,
                                                        "#d8576b"
                                                    ],
                                                    [
                                                        0.6666666666666666,
                                                        "#ed7953"
                                                    ],
                                                    [
                                                        0.7777777777777778,
                                                        "#fb9f3a"
                                                    ],
                                                    [
                                                        0.8888888888888888,
                                                        "#fdca26"
                                                    ],
                                                    [
                                                        1,
                                                        "#f0f921"
                                                    ]
                                                ],
                                                "type": "heatmap"
                                            }
                                        ],
                                        "heatmapgl": [
                                            {
                                                "colorbar": {
                                                    "outlinewidth": 0,
                                                    "ticks": ""
                                                },
                                                "colorscale": [
                                                    [
                                                        0,
                                                        "#0d0887"
                                                    ],
                                                    [
                                                        0.1111111111111111,
                                                        "#46039f"
                                                    ],
                                                    [
                                                        0.2222222222222222,
                                                        "#7201a8"
                                                    ],
                                                    [
                                                        0.3333333333333333,
                                                        "#9c179e"
                                                    ],
                                                    [
                                                        0.4444444444444444,
                                                        "#bd3786"
                                                    ],
                                                    [
                                                        0.5555555555555556,
                                                        "#d8576b"
                                                    ],
                                                    [
                                                        0.6666666666666666,
                                                        "#ed7953"
                                                    ],
                                                    [
                                                        0.7777777777777778,
                                                        "#fb9f3a"
                                                    ],
                                                    [
                                                        0.8888888888888888,
                                                        "#fdca26"
                                                    ],
                                                    [
                                                        1,
                                                        "#f0f921"
                                                    ]
                                                ],
                                                "type": "heatmapgl"
                                            }
                                        ],
                                        "histogram": [
                                            {
                                                "marker": {
                                                    "pattern": {
                                                        "fillmode": "overlay",
                                                        "size": 10,
                                                        "solidity": 0.2
                                                    }
                                                },
                                                "type": "histogram"
                                            }
                                        ],
                                        "histogram2d": [
                                            {
                                                "colorbar": {
                                                    "outlinewidth": 0,
                                                    "ticks": ""
                                                },
                                                "colorscale": [
                                                    [
                                                        0,
                                                        "#0d0887"
                                                    ],
                                                    [
                                                        0.1111111111111111,
                                                        "#46039f"
                                                    ],
                                                    [
                                                        0.2222222222222222,
                                                        "#7201a8"
                                                    ],
                                                    [
                                                        0.3333333333333333,
                                                        "#9c179e"
                                                    ],
                                                    [
                                                        0.4444444444444444,
                                                        "#bd3786"
                                                    ],
                                                    [
                                                        0.5555555555555556,
                                                        "#d8576b"
                                                    ],
                                                    [
                                                        0.6666666666666666,
                                                        "#ed7953"
                                                    ],
                                                    [
                                                        0.7777777777777778,
                                                        "#fb9f3a"
                                                    ],
                                                    [
                                                        0.8888888888888888,
                                                        "#fdca26"
                                                    ],
                                                    [
                                                        1,
                                                        "#f0f921"
                                                    ]
                                                ],
                                                "type": "histogram2d"
                                            }
                                        ],
                                        "histogram2dcontour": [
                                            {
                                                "colorbar": {
                                                    "outlinewidth": 0,
                                                    "ticks": ""
                                                },
                                                "colorscale": [
                                                    [
                                                        0,
                                                        "#0d0887"
                                                    ],
                                                    [
                                                        0.1111111111111111,
                                                        "#46039f"
                                                    ],
                                                    [
                                                        0.2222222222222222,
                                                        "#7201a8"
                                                    ],
                                                    [
                                                        0.3333333333333333,
                                                        "#9c179e"
                                                    ],
                                                    [
                                                        0.4444444444444444,
                                                        "#bd3786"
                                                    ],
                                                    [
                                                        0.5555555555555556,
                                                        "#d8576b"
                                                    ],
                                                    [
                                                        0.6666666666666666,
                                                        "#ed7953"
                                                    ],
                                                    [
                                                        0.7777777777777778,
                                                        "#fb9f3a"
                                                    ],
                                                    [
                                                        0.8888888888888888,
                                                        "#fdca26"
                                                    ],
                                                    [
                                                        1,
                                                        "#f0f921"
                                                    ]
                                                ],
                                                "type": "histogram2dcontour"
                                            }
                                        ],
                                        "mesh3d": [
                                            {
                                                "colorbar": {
                                                    "outlinewidth": 0,
                                                    "ticks": ""
                                                },
                                                "type": "mesh3d"
                                            }
                                        ],
                                        "parcoords": [
                                            {
                                                "line": {
                                                    "colorbar": {
                                                        "outlinewidth": 0,
                                                        "ticks": ""
                                                    }
                                                },
                                                "type": "parcoords"
                                            }
                                        ],
                                        "pie": [
                                            {
                                                "automargin": true,
                                                "type": "pie"
                                            }
                                        ],
                                        "scatter": [
                                            {
                                                "fillpattern": {
                                                    "fillmode": "overlay",
                                                    "size": 10,
                                                    "solidity": 0.2
                                                },
                                                "type": "scatter"
                                            }
                                        ],
                                        "scatter3d": [
                                            {
                                                "line": {
                                                    "colorbar": {
                                                        "outlinewidth": 0,
                                                        "ticks": ""
                                                    }
                                                },
                                                "marker": {
                                                    "colorbar": {
                                                        "outlinewidth": 0,
                                                        "ticks": ""
                                                    }
                                                },
                                                "type": "scatter3d"
                                            }
                                        ],
                                        "scattercarpet": [
                                            {
                                                "marker": {
                                                    "colorbar": {
                                                        "outlinewidth": 0,
                                                        "ticks": ""
                                                    }
                                                },
                                                "type": "scattercarpet"
                                            }
                                        ],
                                        "scattergeo": [
                                            {
                                                "marker": {
                                                    "colorbar": {
                                                        "outlinewidth": 0,
                                                        "ticks": ""
                                                    }
                                                },
                                                "type": "scattergeo"
                                            }
                                        ],
                                        "scattergl": [
                                            {
                                                "marker": {
                                                    "colorbar": {
                                                        "outlinewidth": 0,
                                                        "ticks": ""
                                                    }
                                                },
                                                "type": "scattergl"
                                            }
                                        ],
                                        "scattermapbox": [
                                            {
                                                "marker": {
                                                    "colorbar": {
                                                        "outlinewidth": 0,
                                                        "ticks": ""
                                                    }
                                                },
                                                "type": "scattermapbox"
                                            }
                                        ],
                                        "scatterpolar": [
                                            {
                                                "marker": {
                                                    "colorbar": {
                                                        "outlinewidth": 0,
                                                        "ticks": ""
                                                    }
                                                },
                                                "type": "scatterpolar"
                                            }
                                        ],
                                        "scatterpolargl": [
                                            {
                                                "marker": {
                                                    "colorbar": {
                                                        "outlinewidth": 0,
                                                        "ticks": ""
                                                    }
                                                },
                                                "type": "scatterpolargl"
                                            }
                                        ],
                                        "scatterternary": [
                                            {
                                                "marker": {
                                                    "colorbar": {
                                                        "outlinewidth": 0,
                                                        "ticks": ""
                                                    }
                                                },
                                                "type": "scatterternary"
                                            }
                                        ],
                                        "surface": [
                                            {
                                                "colorbar": {
                                                    "outlinewidth": 0,
                                                    "ticks": ""
                                                },
                                                "colorscale": [
                                                    [
                                                        0,
                                                        "#0d0887"
                                                    ],
                                                    [
                                                        0.1111111111111111,
                                                        "#46039f"
                                                    ],
                                                    [
                                                        0.2222222222222222,
                                                        "#7201a8"
                                                    ],
                                                    [
                                                        0.3333333333333333,
                                                        "#9c179e"
                                                    ],
                                                    [
                                                        0.4444444444444444,
                                                        "#bd3786"
                                                    ],
                                                    [
                                                        0.5555555555555556,
                                                        "#d8576b"
                                                    ],
                                                    [
                                                        0.6666666666666666,
                                                        "#ed7953"
                                                    ],
                                                    [
                                                        0.7777777777777778,
                                                        "#fb9f3a"
                                                    ],
                                                    [
                                                        0.8888888888888888,
                                                        "#fdca26"
                                                    ],
                                                    [
                                                        1,
                                                        "#f0f921"
                                                    ]
                                                ],
                                                "type": "surface"
                                            }
                                        ],
                                        "table": [
                                            {
                                                "cells": {
                                                    "fill": {
                                                        "color": "#EBF0F8"
                                                    },
                                                    "line": {
                                                        "color": "white"
                                                    }
                                                },
                                                "header": {
                                                    "fill": {
                                                        "color": "#C8D4E3"
                                                    },
                                                    "line": {
                                                        "color": "white"
                                                    }
                                                },
                                                "type": "table"
                                            }
                                        ]
                                    },
                                    "layout": {
                                        "annotationdefaults": {
                                            "arrowcolor": "#2a3f5f",
                                            "arrowhead": 0,
                                            "arrowwidth": 1
                                        },
                                        "autotypenumbers": "strict",
                                        "coloraxis": {
                                            "colorbar": {
                                                "outlinewidth": 0,
                                                "ticks": ""
                                            }
                                        },
                                        "colorscale": {
                                            "diverging": [
                                                [
                                                    0,
                                                    "#8e0152"
                                                ],
                                                [
                                                    0.1,
                                                    "#c51b7d"
                                                ],
                                                [
                                                    0.2,
                                                    "#de77ae"
                                                ],
                                                [
                                                    0.3,
                                                    "#f1b6da"
                                                ],
                                                [
                                                    0.4,
                                                    "#fde0ef"
                                                ],
                                                [
                                                    0.5,
                                                    "#f7f7f7"
                                                ],
                                                [
                                                    0.6,
                                                    "#e6f5d0"
                                                ],
                                                [
                                                    0.7,
                                                    "#b8e186"
                                                ],
                                                [
                                                    0.8,
                                                    "#7fbc41"
                                                ],
                                                [
                                                    0.9,
                                                    "#4d9221"
                                                ],
                                                [
                                                    1,
                                                    "#276419"
                                                ]
                                            ],
                                            "sequential": [
                                                [
                                                    0,
                                                    "#0d0887"
                                                ],
                                                [
                                                    0.1111111111111111,
                                                    "#46039f"
                                                ],
                                                [
                                                    0.2222222222222222,
                                                    "#7201a8"
                                                ],
                                                [
                                                    0.3333333333333333,
                                                    "#9c179e"
                                                ],
                                                [
                                                    0.4444444444444444,
                                                    "#bd3786"
                                                ],
                                                [
                                                    0.5555555555555556,
                                                    "#d8576b"
                                                ],
                                                [
                                                    0.6666666666666666,
                                                    "#ed7953"
                                                ],
                                                [
                                                    0.7777777777777778,
                                                    "#fb9f3a"
                                                ],
                                                [
                                                    0.8888888888888888,
                                                    "#fdca26"
                                                ],
                                                [
                                                    1,
                                                    "#f0f921"
                                                ]
                                            ],
                                            "sequentialminus": [
                                                [
                                                    0,
                                                    "#0d0887"
                                                ],
                                                [
                                                    0.1111111111111111,
                                                    "#46039f"
                                                ],
                                                [
                                                    0.2222222222222222,
                                                    "#7201a8"
                                                ],
                                                [
                                                    0.3333333333333333,
                                                    "#9c179e"
                                                ],
                                                [
                                                    0.4444444444444444,
                                                    "#bd3786"
                                                ],
                                                [
                                                    0.5555555555555556,
                                                    "#d8576b"
                                                ],
                                                [
                                                    0.6666666666666666,
                                                    "#ed7953"
                                                ],
                                                [
                                                    0.7777777777777778,
                                                    "#fb9f3a"
                                                ],
                                                [
                                                    0.8888888888888888,
                                                    "#fdca26"
                                                ],
                                                [
                                                    1,
                                                    "#f0f921"
                                                ]
                                            ]
                                        },
                                        "colorway": [
                                            "#636efa",
                                            "#EF553B",
                                            "#00cc96",
                                            "#ab63fa",
                                            "#FFA15A",
                                            "#19d3f3",
                                            "#FF6692",
                                            "#B6E880",
                                            "#FF97FF",
                                            "#FECB52"
                                        ],
                                        "font": {
                                            "color": "#2a3f5f"
                                        },
                                        "geo": {
                                            "bgcolor": "white",
                                            "lakecolor": "white",
                                            "landcolor": "#E5ECF6",
                                            "showlakes": true,
                                            "showland": true,
                                            "subunitcolor": "white"
                                        },
                                        "hoverlabel": {
                                            "align": "left"
                                        },
                                        "hovermode": "closest",
                                        "mapbox": {
                                            "style": "light"
                                        },
                                        "paper_bgcolor": "white",
                                        "plot_bgcolor": "#E5ECF6",
                                        "polar": {
                                            "angularaxis": {
                                                "gridcolor": "white",
                                                "linecolor": "white",
                                                "ticks": ""
                                            },
                                            "bgcolor": "#E5ECF6",
                                            "radialaxis": {
                                                "gridcolor": "white",
                                                "linecolor": "white",
                                                "ticks": ""
                                            }
                                        },
                                        "scene": {
                                            "xaxis": {
                                                "backgroundcolor": "#E5ECF6",
                                                "gridcolor": "white",
                                                "gridwidth": 2,
                                                "linecolor": "white",
                                                "showbackground": true,
                                                "ticks": "",
                                                "zerolinecolor": "white"
                                            },
                                            "yaxis": {
                                                "backgroundcolor": "#E5ECF6",
                                                "gridcolor": "white",
                                                "gridwidth": 2,
                                                "linecolor": "white",
                                                "showbackground": true,
                                                "ticks": "",
                                                "zerolinecolor": "white"
                                            },
                                            "zaxis": {
                                                "backgroundcolor": "#E5ECF6",
                                                "gridcolor": "white",
                                                "gridwidth": 2,
                                                "linecolor": "white",
                                                "showbackground": true,
                                                "ticks": "",
                                                "zerolinecolor": "white"
                                            }
                                        },
                                        "shapedefaults": {
                                            "line": {
                                                "color": "#2a3f5f"
                                            }
                                        },
                                        "ternary": {
                                            "aaxis": {
                                                "gridcolor": "white",
                                                "linecolor": "white",
                                                "ticks": ""
                                            },
                                            "baxis": {
                                                "gridcolor": "white",
                                                "linecolor": "white",
                                                "ticks": ""
                                            },
                                            "bgcolor": "#E5ECF6",
                                            "caxis": {
                                                "gridcolor": "white",
                                                "linecolor": "white",
                                                "ticks": ""
                                            }
                                        },
                                        "title": {
                                            "x": 0.05
                                        },
                                        "xaxis": {
                                            "automargin": true,
                                            "gridcolor": "white",
                                            "linecolor": "white",
                                            "ticks": "",
                                            "title": {
                                                "standoff": 15
                                            },
                                            "zerolinecolor": "white",
                                            "zerolinewidth": 2
                                        },
                                        "yaxis": {
                                            "automargin": true,
                                            "gridcolor": "white",
                                            "linecolor": "white",
                                            "ticks": "",
                                            "title": {
                                                "standoff": 15
                                            },
                                            "zerolinecolor": "white",
                                            "zerolinewidth": 2
                                        }
                                    }
                                },
                                "title": {
                                    "text": "Log probability of S given D for different shape parameters<br>(113 IDs)"
                                },
                                "xaxis": {
                                    "anchor": "y",
                                    "domain": [
                                        0,
                                        1
                                    ],
                                    "title": {
                                        "text": "scale parameter (b)"
                                    },
                                    "type": "category"
                                },
                                "yaxis": {
                                    "anchor": "x",
                                    "domain": [
                                        0,
                                        1
                                    ],
                                    "showticklabels": true,
                                    "title": {
                                        "text": "days"
                                    },
                                    "type": "category"
                                }
                            }
                        }
                    },
                    "metadata": {},
                    "output_type": "display_data"
                },
                {
                    "data": {
                        "text/html": [
                            "<div>\n",
                            "<style scoped>\n",
                            "    .dataframe tbody tr th:only-of-type {\n",
                            "        vertical-align: middle;\n",
                            "    }\n",
                            "\n",
                            "    .dataframe tbody tr th {\n",
                            "        vertical-align: top;\n",
                            "    }\n",
                            "\n",
                            "    .dataframe thead th {\n",
                            "        text-align: right;\n",
                            "    }\n",
                            "</style>\n",
                            "<table border=\"1\" class=\"dataframe\">\n",
                            "  <thead>\n",
                            "    <tr style=\"text-align: right;\">\n",
                            "      <th></th>\n",
                            "      <th>5</th>\n",
                            "      <th>10</th>\n",
                            "      <th>15</th>\n",
                            "      <th>20</th>\n",
                            "      <th>25</th>\n",
                            "      <th>50</th>\n",
                            "    </tr>\n",
                            "    <tr>\n",
                            "      <th>scale</th>\n",
                            "      <th></th>\n",
                            "      <th></th>\n",
                            "      <th></th>\n",
                            "      <th></th>\n",
                            "      <th></th>\n",
                            "      <th></th>\n",
                            "    </tr>\n",
                            "  </thead>\n",
                            "  <tbody>\n",
                            "    <tr>\n",
                            "      <th>0.01</th>\n",
                            "      <td>2.474681e-288</td>\n",
                            "      <td>0.000000e+00</td>\n",
                            "      <td>0.0</td>\n",
                            "      <td>0.0</td>\n",
                            "      <td>0.0</td>\n",
                            "      <td>0.000000e+00</td>\n",
                            "    </tr>\n",
                            "    <tr>\n",
                            "      <th>0.10</th>\n",
                            "      <td>4.753456e-226</td>\n",
                            "      <td>3.571301e-308</td>\n",
                            "      <td>0.0</td>\n",
                            "      <td>0.0</td>\n",
                            "      <td>0.0</td>\n",
                            "      <td>1.488938e-284</td>\n",
                            "    </tr>\n",
                            "  </tbody>\n",
                            "</table>\n",
                            "</div>"
                        ],
                        "text/plain": [
                            "                  5              10   15   20   25             50\n",
                            "scale                                                            \n",
                            "0.01   2.474681e-288   0.000000e+00  0.0  0.0  0.0   0.000000e+00\n",
                            "0.10   4.753456e-226  3.571301e-308  0.0  0.0  0.0  1.488938e-284"
                        ]
                    },
                    "execution_count": 135,
                    "metadata": {},
                    "output_type": "execute_result"
                }
            ],
            "source": [
                "params = [0.01, 0.1, 0.5, 1, 1.2, 1.3, 1.4, 1.5, 1.6, 1.7, 1.8, 1.9, 2, 5]\n",
                "\n",
                "\n",
                "def add_heatmap_for_laplace(fig, df):\n",
                "    # Create separate heatmap for each row (day)\n",
                "    # for i, day in enumerate(df.columns):\n",
                "    fig.add_trace(\n",
                "        go.Heatmap(\n",
                "            z=df.T,\n",
                "            x=df.index,\n",
                "            y=df.columns,\n",
                "            colorbar=dict(\n",
                "                len=4,\n",
                "                y=0.5,\n",
                "                yanchor=\"middle\",\n",
                "            ),\n",
                "            showscale=True,\n",
                "        ),\n",
                "        row=1,\n",
                "        col=1,\n",
                "    )\n",
                "\n",
                "    # Update text and axes for all traces\n",
                "    fig.update_traces(\n",
                "        text=df.T.applymap(\n",
                "            lambda x: \"0\" if x == 0 else f\"{x:.3f}\" if x >= 0.001 else f\"{x:.0e}\"\n",
                "        ),\n",
                "        texttemplate=\"%{text}\",\n",
                "        textfont={\"size\": 10},\n",
                "    )\n",
                "\n",
                "    fig.update_yaxes(\n",
                "        type=\"category\",\n",
                "        title=\"days\",\n",
                "        showticklabels=True,\n",
                "    )\n",
                "    fig.update_xaxes(\n",
                "        type=\"category\",\n",
                "        title=\"scale parameter (b)\",\n",
                "    )\n",
                "    return fig\n",
                "\n",
                "\n",
                "def transform_df_hm(df_hm, days):\n",
                "    df_hm = df_hm.set_index(\"scale\")\n",
                "    df_hm = df_hm.drop(columns=[\"params\"])\n",
                "    df_hm = df_hm.rename(columns={\"log_p_S_given_D\": days})\n",
                "\n",
                "    print(np.max(df_hm[days]))\n",
                "    df_hm[days] = df_hm[days] - np.max(df_hm[days])\n",
                "    df_hm[days] = np.exp(df_hm[days])\n",
                "    df_hm[days] = df_hm[days] / np.sum(df_hm[days])\n",
                "    return df_hm\n",
                "\n",
                "\n",
                "labels = [\"scale\"]\n",
                "# df_hm, data = load_and_process_json(\"10_18IDs_30d\", params, labels)\n",
                "df_hm_5, data_5 = load_and_process_json(\"14_5days\", params, labels)\n",
                "df_hm_10, data_10 = load_and_process_json(\"14_10days\", params, labels)\n",
                "df_hm_15, data_15 = load_and_process_json(\"14_15days\", params, labels)\n",
                "df_hm_20, data_20 = load_and_process_json(\"14_20days\", params, labels)\n",
                "df_hm_25, data_25 = load_and_process_json(\"14_25days\", params, labels)\n",
                "df_hm_50, data_50 = load_and_process_json(\"14_50days\", params, labels)\n",
                "\n",
                "df_hm_5 = transform_df_hm(df_hm_5, 5)\n",
                "df_hm_10 = transform_df_hm(df_hm_10, 10)\n",
                "df_hm_15 = transform_df_hm(df_hm_15, 15)\n",
                "df_hm_20 = transform_df_hm(df_hm_20, 20)\n",
                "df_hm_25 = transform_df_hm(df_hm_25, 25)\n",
                "df_hm_50 = transform_df_hm(df_hm_50, 50)\n",
                "\n",
                "\n",
                "df_hm = pd.merge(df_hm_5, df_hm_10, right_index=True, left_index=True)\n",
                "df_hm = pd.merge(df_hm, df_hm_15, right_index=True, left_index=True)\n",
                "df_hm = pd.merge(df_hm, df_hm_20, right_index=True, left_index=True)\n",
                "df_hm = pd.merge(df_hm, df_hm_25, right_index=True, left_index=True)\n",
                "df_hm = pd.merge(df_hm, df_hm_50, right_index=True, left_index=True)\n",
                "\n",
                "\n",
                "IDs = list(data.keys())\n",
                "\n",
                "fig = make_subplots()\n",
                "fig = add_heatmap_for_laplace(fig, df_hm)\n",
                "fig.update_layout(\n",
                "    title=f\"Log probability of S given D for different shape parameters<br>({len(IDs)} IDs)\",\n",
                "    # yaxis_type='log',\n",
                "    # width=450,\n",
                "    # height=200,\n",
                "    font_size=10,\n",
                ")\n",
                "fig.show()\n",
                "\n",
                "df_hm.head(2)"
            ]
        },
        {
            "cell_type": "code",
            "execution_count": null,
            "metadata": {},
            "outputs": [
                {
                    "name": "stdout",
                    "output_type": "stream",
                    "text": [
                        "-6907.46026151\n",
                        "-9598.024251059996\n",
                        "-11462.303832819996\n",
                        "-12955.684571239992\n",
                        "-14772.762306290002\n",
                        "-13631.226746740002\n"
                    ]
                },
                {
                    "name": "stderr",
                    "output_type": "stream",
                    "text": [
                        "/var/folders/zq/v2r6yn111s3gpdf8lzf72xvw0000gn/T/ipykernel_71336/270007359.py:20: FutureWarning:\n",
                        "\n",
                        "DataFrame.applymap has been deprecated. Use DataFrame.map instead.\n",
                        "\n"
                    ]
                },
                {
                    "data": {
                        "application/vnd.plotly.v1+json": {
                            "config": {
                                "plotlyServerURL": "https://plot.ly"
                            },
                            "data": [
                                {
                                    "colorbar": {
                                        "len": 4,
                                        "y": 0.5,
                                        "yanchor": "middle"
                                    },
                                    "showscale": true,
                                    "text": [
                                        [
                                            "-7.57e+03",
                                            "-7.43e+03",
                                            "-7.15e+03",
                                            "-6.97e+03",
                                            "-6.94e+03",
                                            "-6.93e+03",
                                            "-6.92e+03",
                                            "-6.91e+03",
                                            "-6.91e+03",
                                            "-6.91e+03",
                                            "-6.91e+03",
                                            "-6.91e+03",
                                            "-6.91e+03",
                                            "-7.11e+03"
                                        ],
                                        [
                                            "-1.06e+04",
                                            "-1.03e+04",
                                            "-9.82e+03",
                                            "-9.63e+03",
                                            "-9.61e+03",
                                            "-9.60e+03",
                                            "-9.60e+03",
                                            "-9.60e+03",
                                            "-9.60e+03",
                                            "-9.60e+03",
                                            "-9.61e+03",
                                            "-9.62e+03",
                                            "-9.62e+03",
                                            "-1.00e+04"
                                        ],
                                        [
                                            "-1.28e+04",
                                            "-1.24e+04",
                                            "-1.18e+04",
                                            "-1.15e+04",
                                            "-1.15e+04",
                                            "-1.15e+04",
                                            "-1.15e+04",
                                            "-1.15e+04",
                                            "-1.15e+04",
                                            "-1.15e+04",
                                            "-1.15e+04",
                                            "-1.15e+04",
                                            "-1.15e+04",
                                            "-1.20e+04"
                                        ],
                                        [
                                            "-1.45e+04",
                                            "-1.41e+04",
                                            "-1.33e+04",
                                            "-1.30e+04",
                                            "-1.30e+04",
                                            "-1.30e+04",
                                            "-1.30e+04",
                                            "-1.30e+04",
                                            "-1.30e+04",
                                            "-1.30e+04",
                                            "-1.30e+04",
                                            "-1.30e+04",
                                            "-1.30e+04",
                                            "-1.36e+04"
                                        ],
                                        [
                                            "-1.64e+04",
                                            "-1.59e+04",
                                            "-1.51e+04",
                                            "-1.48e+04",
                                            "-1.48e+04",
                                            "-1.48e+04",
                                            "-1.48e+04",
                                            "-1.48e+04",
                                            "-1.48e+04",
                                            "-1.48e+04",
                                            "-1.48e+04",
                                            "-1.48e+04",
                                            "-1.48e+04",
                                            "-1.55e+04"
                                        ],
                                        [
                                            "-1.47e+04",
                                            "-1.43e+04",
                                            "-1.38e+04",
                                            "-1.36e+04",
                                            "-1.36e+04",
                                            "-1.36e+04",
                                            "-1.36e+04",
                                            "-1.36e+04",
                                            "-1.37e+04",
                                            "-1.37e+04",
                                            "-1.37e+04",
                                            "-1.37e+04",
                                            "-1.37e+04",
                                            "-1.44e+04"
                                        ]
                                    ],
                                    "textfont": {
                                        "size": 10
                                    },
                                    "texttemplate": "%{text}",
                                    "type": "heatmap",
                                    "x": [
                                        0.01,
                                        0.1,
                                        0.5,
                                        1,
                                        1.2,
                                        1.3,
                                        1.4,
                                        1.5,
                                        1.6,
                                        1.7,
                                        1.8,
                                        1.9,
                                        2,
                                        5
                                    ],
                                    "xaxis": "x",
                                    "y": [
                                        5,
                                        10,
                                        15,
                                        20,
                                        25,
                                        50
                                    ],
                                    "yaxis": "y",
                                    "z": [
                                        [
                                            -7568.844909749995,
                                            -7425.431873420004,
                                            -7146.756733410001,
                                            -6971.9799340199925,
                                            -6939.858322230004,
                                            -6928.894131099999,
                                            -6920.639514759999,
                                            -6914.684328230001,
                                            -6910.68616894,
                                            -6908.358407389999,
                                            -6907.46026151,
                                            -6907.788682069999,
                                            -6909.171757780004,
                                            -7105.55429238
                                        ],
                                        [
                                            -10565.053217849994,
                                            -10305.346564549998,
                                            -9824.40029659,
                                            -9633.562151239998,
                                            -9608.119724670007,
                                            -9601.66356978,
                                            -9598.47429409,
                                            -9598.024251059996,
                                            -9599.87924836,
                                            -9603.679844559998,
                                            -9609.126768869999,
                                            -9615.969505270003,
                                            -9623.997289209996,
                                            -10014.836599179998
                                        ],
                                        [
                                            -12839.930215960003,
                                            -12448.937647879995,
                                            -11770.477521479994,
                                            -11514.178920500002,
                                            -11478.91498366,
                                            -11469.39203461,
                                            -11464.083793729995,
                                            -11462.303832819996,
                                            -11463.489709650004,
                                            -11467.177562159999,
                                            -11472.98243511,
                                            -11480.582974010003,
                                            -11489.709430890007,
                                            -11961.36993962001
                                        ],
                                        [
                                            -14482.29323008,
                                            -14055.00046362,
                                            -13275.915454860002,
                                            -13001.337741999996,
                                            -12967.262870169996,
                                            -12959.162207690002,
                                            -12955.684571239992,
                                            -12956.0653239,
                                            -12959.680085630003,
                                            -12966.015433829994,
                                            -12974.64639631,
                                            -12985.21902794,
                                            -12997.436803709996,
                                            -13569.058125929994
                                        ],
                                        [
                                            -16406.931523599997,
                                            -15937.512827170001,
                                            -15096.602926859998,
                                            -14811.60762694,
                                            -14779.844255559998,
                                            -14773.76888992,
                                            -14772.762306290002,
                                            -14775.978459840002,
                                            -14782.724829330004,
                                            -14792.43112635,
                                            -14804.62498452,
                                            -14818.912984919994,
                                            -14834.965736129998,
                                            -15522.427921710003
                                        ],
                                        [
                                            -14673.04238829,
                                            -14284.677584429995,
                                            -13807.935570239999,
                                            -13641.11342681,
                                            -13631.226746740002,
                                            -13633.648247209998,
                                            -13639.921788979997,
                                            -13649.421371220002,
                                            -13661.626189990002,
                                            -13676.10112656,
                                            -13692.481103680006,
                                            -13710.458729730002,
                                            -13729.774522450001,
                                            -14443.08312043
                                        ]
                                    ]
                                }
                            ],
                            "layout": {
                                "font": {
                                    "size": 10
                                },
                                "template": {
                                    "data": {
                                        "bar": [
                                            {
                                                "error_x": {
                                                    "color": "#2a3f5f"
                                                },
                                                "error_y": {
                                                    "color": "#2a3f5f"
                                                },
                                                "marker": {
                                                    "line": {
                                                        "color": "#E5ECF6",
                                                        "width": 0.5
                                                    },
                                                    "pattern": {
                                                        "fillmode": "overlay",
                                                        "size": 10,
                                                        "solidity": 0.2
                                                    }
                                                },
                                                "type": "bar"
                                            }
                                        ],
                                        "barpolar": [
                                            {
                                                "marker": {
                                                    "line": {
                                                        "color": "#E5ECF6",
                                                        "width": 0.5
                                                    },
                                                    "pattern": {
                                                        "fillmode": "overlay",
                                                        "size": 10,
                                                        "solidity": 0.2
                                                    }
                                                },
                                                "type": "barpolar"
                                            }
                                        ],
                                        "carpet": [
                                            {
                                                "aaxis": {
                                                    "endlinecolor": "#2a3f5f",
                                                    "gridcolor": "white",
                                                    "linecolor": "white",
                                                    "minorgridcolor": "white",
                                                    "startlinecolor": "#2a3f5f"
                                                },
                                                "baxis": {
                                                    "endlinecolor": "#2a3f5f",
                                                    "gridcolor": "white",
                                                    "linecolor": "white",
                                                    "minorgridcolor": "white",
                                                    "startlinecolor": "#2a3f5f"
                                                },
                                                "type": "carpet"
                                            }
                                        ],
                                        "choropleth": [
                                            {
                                                "colorbar": {
                                                    "outlinewidth": 0,
                                                    "ticks": ""
                                                },
                                                "type": "choropleth"
                                            }
                                        ],
                                        "contour": [
                                            {
                                                "colorbar": {
                                                    "outlinewidth": 0,
                                                    "ticks": ""
                                                },
                                                "colorscale": [
                                                    [
                                                        0,
                                                        "#0d0887"
                                                    ],
                                                    [
                                                        0.1111111111111111,
                                                        "#46039f"
                                                    ],
                                                    [
                                                        0.2222222222222222,
                                                        "#7201a8"
                                                    ],
                                                    [
                                                        0.3333333333333333,
                                                        "#9c179e"
                                                    ],
                                                    [
                                                        0.4444444444444444,
                                                        "#bd3786"
                                                    ],
                                                    [
                                                        0.5555555555555556,
                                                        "#d8576b"
                                                    ],
                                                    [
                                                        0.6666666666666666,
                                                        "#ed7953"
                                                    ],
                                                    [
                                                        0.7777777777777778,
                                                        "#fb9f3a"
                                                    ],
                                                    [
                                                        0.8888888888888888,
                                                        "#fdca26"
                                                    ],
                                                    [
                                                        1,
                                                        "#f0f921"
                                                    ]
                                                ],
                                                "type": "contour"
                                            }
                                        ],
                                        "contourcarpet": [
                                            {
                                                "colorbar": {
                                                    "outlinewidth": 0,
                                                    "ticks": ""
                                                },
                                                "type": "contourcarpet"
                                            }
                                        ],
                                        "heatmap": [
                                            {
                                                "colorbar": {
                                                    "outlinewidth": 0,
                                                    "ticks": ""
                                                },
                                                "colorscale": [
                                                    [
                                                        0,
                                                        "#0d0887"
                                                    ],
                                                    [
                                                        0.1111111111111111,
                                                        "#46039f"
                                                    ],
                                                    [
                                                        0.2222222222222222,
                                                        "#7201a8"
                                                    ],
                                                    [
                                                        0.3333333333333333,
                                                        "#9c179e"
                                                    ],
                                                    [
                                                        0.4444444444444444,
                                                        "#bd3786"
                                                    ],
                                                    [
                                                        0.5555555555555556,
                                                        "#d8576b"
                                                    ],
                                                    [
                                                        0.6666666666666666,
                                                        "#ed7953"
                                                    ],
                                                    [
                                                        0.7777777777777778,
                                                        "#fb9f3a"
                                                    ],
                                                    [
                                                        0.8888888888888888,
                                                        "#fdca26"
                                                    ],
                                                    [
                                                        1,
                                                        "#f0f921"
                                                    ]
                                                ],
                                                "type": "heatmap"
                                            }
                                        ],
                                        "heatmapgl": [
                                            {
                                                "colorbar": {
                                                    "outlinewidth": 0,
                                                    "ticks": ""
                                                },
                                                "colorscale": [
                                                    [
                                                        0,
                                                        "#0d0887"
                                                    ],
                                                    [
                                                        0.1111111111111111,
                                                        "#46039f"
                                                    ],
                                                    [
                                                        0.2222222222222222,
                                                        "#7201a8"
                                                    ],
                                                    [
                                                        0.3333333333333333,
                                                        "#9c179e"
                                                    ],
                                                    [
                                                        0.4444444444444444,
                                                        "#bd3786"
                                                    ],
                                                    [
                                                        0.5555555555555556,
                                                        "#d8576b"
                                                    ],
                                                    [
                                                        0.6666666666666666,
                                                        "#ed7953"
                                                    ],
                                                    [
                                                        0.7777777777777778,
                                                        "#fb9f3a"
                                                    ],
                                                    [
                                                        0.8888888888888888,
                                                        "#fdca26"
                                                    ],
                                                    [
                                                        1,
                                                        "#f0f921"
                                                    ]
                                                ],
                                                "type": "heatmapgl"
                                            }
                                        ],
                                        "histogram": [
                                            {
                                                "marker": {
                                                    "pattern": {
                                                        "fillmode": "overlay",
                                                        "size": 10,
                                                        "solidity": 0.2
                                                    }
                                                },
                                                "type": "histogram"
                                            }
                                        ],
                                        "histogram2d": [
                                            {
                                                "colorbar": {
                                                    "outlinewidth": 0,
                                                    "ticks": ""
                                                },
                                                "colorscale": [
                                                    [
                                                        0,
                                                        "#0d0887"
                                                    ],
                                                    [
                                                        0.1111111111111111,
                                                        "#46039f"
                                                    ],
                                                    [
                                                        0.2222222222222222,
                                                        "#7201a8"
                                                    ],
                                                    [
                                                        0.3333333333333333,
                                                        "#9c179e"
                                                    ],
                                                    [
                                                        0.4444444444444444,
                                                        "#bd3786"
                                                    ],
                                                    [
                                                        0.5555555555555556,
                                                        "#d8576b"
                                                    ],
                                                    [
                                                        0.6666666666666666,
                                                        "#ed7953"
                                                    ],
                                                    [
                                                        0.7777777777777778,
                                                        "#fb9f3a"
                                                    ],
                                                    [
                                                        0.8888888888888888,
                                                        "#fdca26"
                                                    ],
                                                    [
                                                        1,
                                                        "#f0f921"
                                                    ]
                                                ],
                                                "type": "histogram2d"
                                            }
                                        ],
                                        "histogram2dcontour": [
                                            {
                                                "colorbar": {
                                                    "outlinewidth": 0,
                                                    "ticks": ""
                                                },
                                                "colorscale": [
                                                    [
                                                        0,
                                                        "#0d0887"
                                                    ],
                                                    [
                                                        0.1111111111111111,
                                                        "#46039f"
                                                    ],
                                                    [
                                                        0.2222222222222222,
                                                        "#7201a8"
                                                    ],
                                                    [
                                                        0.3333333333333333,
                                                        "#9c179e"
                                                    ],
                                                    [
                                                        0.4444444444444444,
                                                        "#bd3786"
                                                    ],
                                                    [
                                                        0.5555555555555556,
                                                        "#d8576b"
                                                    ],
                                                    [
                                                        0.6666666666666666,
                                                        "#ed7953"
                                                    ],
                                                    [
                                                        0.7777777777777778,
                                                        "#fb9f3a"
                                                    ],
                                                    [
                                                        0.8888888888888888,
                                                        "#fdca26"
                                                    ],
                                                    [
                                                        1,
                                                        "#f0f921"
                                                    ]
                                                ],
                                                "type": "histogram2dcontour"
                                            }
                                        ],
                                        "mesh3d": [
                                            {
                                                "colorbar": {
                                                    "outlinewidth": 0,
                                                    "ticks": ""
                                                },
                                                "type": "mesh3d"
                                            }
                                        ],
                                        "parcoords": [
                                            {
                                                "line": {
                                                    "colorbar": {
                                                        "outlinewidth": 0,
                                                        "ticks": ""
                                                    }
                                                },
                                                "type": "parcoords"
                                            }
                                        ],
                                        "pie": [
                                            {
                                                "automargin": true,
                                                "type": "pie"
                                            }
                                        ],
                                        "scatter": [
                                            {
                                                "fillpattern": {
                                                    "fillmode": "overlay",
                                                    "size": 10,
                                                    "solidity": 0.2
                                                },
                                                "type": "scatter"
                                            }
                                        ],
                                        "scatter3d": [
                                            {
                                                "line": {
                                                    "colorbar": {
                                                        "outlinewidth": 0,
                                                        "ticks": ""
                                                    }
                                                },
                                                "marker": {
                                                    "colorbar": {
                                                        "outlinewidth": 0,
                                                        "ticks": ""
                                                    }
                                                },
                                                "type": "scatter3d"
                                            }
                                        ],
                                        "scattercarpet": [
                                            {
                                                "marker": {
                                                    "colorbar": {
                                                        "outlinewidth": 0,
                                                        "ticks": ""
                                                    }
                                                },
                                                "type": "scattercarpet"
                                            }
                                        ],
                                        "scattergeo": [
                                            {
                                                "marker": {
                                                    "colorbar": {
                                                        "outlinewidth": 0,
                                                        "ticks": ""
                                                    }
                                                },
                                                "type": "scattergeo"
                                            }
                                        ],
                                        "scattergl": [
                                            {
                                                "marker": {
                                                    "colorbar": {
                                                        "outlinewidth": 0,
                                                        "ticks": ""
                                                    }
                                                },
                                                "type": "scattergl"
                                            }
                                        ],
                                        "scattermapbox": [
                                            {
                                                "marker": {
                                                    "colorbar": {
                                                        "outlinewidth": 0,
                                                        "ticks": ""
                                                    }
                                                },
                                                "type": "scattermapbox"
                                            }
                                        ],
                                        "scatterpolar": [
                                            {
                                                "marker": {
                                                    "colorbar": {
                                                        "outlinewidth": 0,
                                                        "ticks": ""
                                                    }
                                                },
                                                "type": "scatterpolar"
                                            }
                                        ],
                                        "scatterpolargl": [
                                            {
                                                "marker": {
                                                    "colorbar": {
                                                        "outlinewidth": 0,
                                                        "ticks": ""
                                                    }
                                                },
                                                "type": "scatterpolargl"
                                            }
                                        ],
                                        "scatterternary": [
                                            {
                                                "marker": {
                                                    "colorbar": {
                                                        "outlinewidth": 0,
                                                        "ticks": ""
                                                    }
                                                },
                                                "type": "scatterternary"
                                            }
                                        ],
                                        "surface": [
                                            {
                                                "colorbar": {
                                                    "outlinewidth": 0,
                                                    "ticks": ""
                                                },
                                                "colorscale": [
                                                    [
                                                        0,
                                                        "#0d0887"
                                                    ],
                                                    [
                                                        0.1111111111111111,
                                                        "#46039f"
                                                    ],
                                                    [
                                                        0.2222222222222222,
                                                        "#7201a8"
                                                    ],
                                                    [
                                                        0.3333333333333333,
                                                        "#9c179e"
                                                    ],
                                                    [
                                                        0.4444444444444444,
                                                        "#bd3786"
                                                    ],
                                                    [
                                                        0.5555555555555556,
                                                        "#d8576b"
                                                    ],
                                                    [
                                                        0.6666666666666666,
                                                        "#ed7953"
                                                    ],
                                                    [
                                                        0.7777777777777778,
                                                        "#fb9f3a"
                                                    ],
                                                    [
                                                        0.8888888888888888,
                                                        "#fdca26"
                                                    ],
                                                    [
                                                        1,
                                                        "#f0f921"
                                                    ]
                                                ],
                                                "type": "surface"
                                            }
                                        ],
                                        "table": [
                                            {
                                                "cells": {
                                                    "fill": {
                                                        "color": "#EBF0F8"
                                                    },
                                                    "line": {
                                                        "color": "white"
                                                    }
                                                },
                                                "header": {
                                                    "fill": {
                                                        "color": "#C8D4E3"
                                                    },
                                                    "line": {
                                                        "color": "white"
                                                    }
                                                },
                                                "type": "table"
                                            }
                                        ]
                                    },
                                    "layout": {
                                        "annotationdefaults": {
                                            "arrowcolor": "#2a3f5f",
                                            "arrowhead": 0,
                                            "arrowwidth": 1
                                        },
                                        "autotypenumbers": "strict",
                                        "coloraxis": {
                                            "colorbar": {
                                                "outlinewidth": 0,
                                                "ticks": ""
                                            }
                                        },
                                        "colorscale": {
                                            "diverging": [
                                                [
                                                    0,
                                                    "#8e0152"
                                                ],
                                                [
                                                    0.1,
                                                    "#c51b7d"
                                                ],
                                                [
                                                    0.2,
                                                    "#de77ae"
                                                ],
                                                [
                                                    0.3,
                                                    "#f1b6da"
                                                ],
                                                [
                                                    0.4,
                                                    "#fde0ef"
                                                ],
                                                [
                                                    0.5,
                                                    "#f7f7f7"
                                                ],
                                                [
                                                    0.6,
                                                    "#e6f5d0"
                                                ],
                                                [
                                                    0.7,
                                                    "#b8e186"
                                                ],
                                                [
                                                    0.8,
                                                    "#7fbc41"
                                                ],
                                                [
                                                    0.9,
                                                    "#4d9221"
                                                ],
                                                [
                                                    1,
                                                    "#276419"
                                                ]
                                            ],
                                            "sequential": [
                                                [
                                                    0,
                                                    "#0d0887"
                                                ],
                                                [
                                                    0.1111111111111111,
                                                    "#46039f"
                                                ],
                                                [
                                                    0.2222222222222222,
                                                    "#7201a8"
                                                ],
                                                [
                                                    0.3333333333333333,
                                                    "#9c179e"
                                                ],
                                                [
                                                    0.4444444444444444,
                                                    "#bd3786"
                                                ],
                                                [
                                                    0.5555555555555556,
                                                    "#d8576b"
                                                ],
                                                [
                                                    0.6666666666666666,
                                                    "#ed7953"
                                                ],
                                                [
                                                    0.7777777777777778,
                                                    "#fb9f3a"
                                                ],
                                                [
                                                    0.8888888888888888,
                                                    "#fdca26"
                                                ],
                                                [
                                                    1,
                                                    "#f0f921"
                                                ]
                                            ],
                                            "sequentialminus": [
                                                [
                                                    0,
                                                    "#0d0887"
                                                ],
                                                [
                                                    0.1111111111111111,
                                                    "#46039f"
                                                ],
                                                [
                                                    0.2222222222222222,
                                                    "#7201a8"
                                                ],
                                                [
                                                    0.3333333333333333,
                                                    "#9c179e"
                                                ],
                                                [
                                                    0.4444444444444444,
                                                    "#bd3786"
                                                ],
                                                [
                                                    0.5555555555555556,
                                                    "#d8576b"
                                                ],
                                                [
                                                    0.6666666666666666,
                                                    "#ed7953"
                                                ],
                                                [
                                                    0.7777777777777778,
                                                    "#fb9f3a"
                                                ],
                                                [
                                                    0.8888888888888888,
                                                    "#fdca26"
                                                ],
                                                [
                                                    1,
                                                    "#f0f921"
                                                ]
                                            ]
                                        },
                                        "colorway": [
                                            "#636efa",
                                            "#EF553B",
                                            "#00cc96",
                                            "#ab63fa",
                                            "#FFA15A",
                                            "#19d3f3",
                                            "#FF6692",
                                            "#B6E880",
                                            "#FF97FF",
                                            "#FECB52"
                                        ],
                                        "font": {
                                            "color": "#2a3f5f"
                                        },
                                        "geo": {
                                            "bgcolor": "white",
                                            "lakecolor": "white",
                                            "landcolor": "#E5ECF6",
                                            "showlakes": true,
                                            "showland": true,
                                            "subunitcolor": "white"
                                        },
                                        "hoverlabel": {
                                            "align": "left"
                                        },
                                        "hovermode": "closest",
                                        "mapbox": {
                                            "style": "light"
                                        },
                                        "paper_bgcolor": "white",
                                        "plot_bgcolor": "#E5ECF6",
                                        "polar": {
                                            "angularaxis": {
                                                "gridcolor": "white",
                                                "linecolor": "white",
                                                "ticks": ""
                                            },
                                            "bgcolor": "#E5ECF6",
                                            "radialaxis": {
                                                "gridcolor": "white",
                                                "linecolor": "white",
                                                "ticks": ""
                                            }
                                        },
                                        "scene": {
                                            "xaxis": {
                                                "backgroundcolor": "#E5ECF6",
                                                "gridcolor": "white",
                                                "gridwidth": 2,
                                                "linecolor": "white",
                                                "showbackground": true,
                                                "ticks": "",
                                                "zerolinecolor": "white"
                                            },
                                            "yaxis": {
                                                "backgroundcolor": "#E5ECF6",
                                                "gridcolor": "white",
                                                "gridwidth": 2,
                                                "linecolor": "white",
                                                "showbackground": true,
                                                "ticks": "",
                                                "zerolinecolor": "white"
                                            },
                                            "zaxis": {
                                                "backgroundcolor": "#E5ECF6",
                                                "gridcolor": "white",
                                                "gridwidth": 2,
                                                "linecolor": "white",
                                                "showbackground": true,
                                                "ticks": "",
                                                "zerolinecolor": "white"
                                            }
                                        },
                                        "shapedefaults": {
                                            "line": {
                                                "color": "#2a3f5f"
                                            }
                                        },
                                        "ternary": {
                                            "aaxis": {
                                                "gridcolor": "white",
                                                "linecolor": "white",
                                                "ticks": ""
                                            },
                                            "baxis": {
                                                "gridcolor": "white",
                                                "linecolor": "white",
                                                "ticks": ""
                                            },
                                            "bgcolor": "#E5ECF6",
                                            "caxis": {
                                                "gridcolor": "white",
                                                "linecolor": "white",
                                                "ticks": ""
                                            }
                                        },
                                        "title": {
                                            "x": 0.05
                                        },
                                        "xaxis": {
                                            "automargin": true,
                                            "gridcolor": "white",
                                            "linecolor": "white",
                                            "ticks": "",
                                            "title": {
                                                "standoff": 15
                                            },
                                            "zerolinecolor": "white",
                                            "zerolinewidth": 2
                                        },
                                        "yaxis": {
                                            "automargin": true,
                                            "gridcolor": "white",
                                            "linecolor": "white",
                                            "ticks": "",
                                            "title": {
                                                "standoff": 15
                                            },
                                            "zerolinecolor": "white",
                                            "zerolinewidth": 2
                                        }
                                    }
                                },
                                "title": {
                                    "text": "Log probability of S given D for different shape parameters<br>(113 IDs)"
                                },
                                "xaxis": {
                                    "anchor": "y",
                                    "domain": [
                                        0,
                                        1
                                    ],
                                    "title": {
                                        "text": "scale parameter (b)"
                                    },
                                    "type": "category"
                                },
                                "yaxis": {
                                    "anchor": "x",
                                    "domain": [
                                        0,
                                        1
                                    ],
                                    "showticklabels": true,
                                    "title": {
                                        "text": "days"
                                    },
                                    "type": "category"
                                }
                            }
                        }
                    },
                    "metadata": {},
                    "output_type": "display_data"
                },
                {
                    "data": {
                        "text/html": [
                            "<div>\n",
                            "<style scoped>\n",
                            "    .dataframe tbody tr th:only-of-type {\n",
                            "        vertical-align: middle;\n",
                            "    }\n",
                            "\n",
                            "    .dataframe tbody tr th {\n",
                            "        vertical-align: top;\n",
                            "    }\n",
                            "\n",
                            "    .dataframe thead th {\n",
                            "        text-align: right;\n",
                            "    }\n",
                            "</style>\n",
                            "<table border=\"1\" class=\"dataframe\">\n",
                            "  <thead>\n",
                            "    <tr style=\"text-align: right;\">\n",
                            "      <th></th>\n",
                            "      <th>5</th>\n",
                            "      <th>10</th>\n",
                            "      <th>15</th>\n",
                            "      <th>20</th>\n",
                            "      <th>25</th>\n",
                            "      <th>50</th>\n",
                            "    </tr>\n",
                            "    <tr>\n",
                            "      <th>scale</th>\n",
                            "      <th></th>\n",
                            "      <th></th>\n",
                            "      <th></th>\n",
                            "      <th></th>\n",
                            "      <th></th>\n",
                            "      <th></th>\n",
                            "    </tr>\n",
                            "  </thead>\n",
                            "  <tbody>\n",
                            "    <tr>\n",
                            "      <th>0.01</th>\n",
                            "      <td>-7568.844910</td>\n",
                            "      <td>-10565.053218</td>\n",
                            "      <td>-12839.930216</td>\n",
                            "      <td>-14482.293230</td>\n",
                            "      <td>-16406.931524</td>\n",
                            "      <td>-14673.042388</td>\n",
                            "    </tr>\n",
                            "    <tr>\n",
                            "      <th>0.10</th>\n",
                            "      <td>-7425.431873</td>\n",
                            "      <td>-10305.346565</td>\n",
                            "      <td>-12448.937648</td>\n",
                            "      <td>-14055.000464</td>\n",
                            "      <td>-15937.512827</td>\n",
                            "      <td>-14284.677584</td>\n",
                            "    </tr>\n",
                            "  </tbody>\n",
                            "</table>\n",
                            "</div>"
                        ],
                        "text/plain": [
                            "                5             10            15            20            25  \\\n",
                            "scale                                                                        \n",
                            "0.01  -7568.844910 -10565.053218 -12839.930216 -14482.293230 -16406.931524   \n",
                            "0.10  -7425.431873 -10305.346565 -12448.937648 -14055.000464 -15937.512827   \n",
                            "\n",
                            "                 50  \n",
                            "scale                \n",
                            "0.01  -14673.042388  \n",
                            "0.10  -14284.677584  "
                        ]
                    },
                    "execution_count": 105,
                    "metadata": {},
                    "output_type": "execute_result"
                }
            ],
            "source": [
                "params = [0.01, 0.1, 0.5, 1, 1.2, 1.3, 1.4, 1.5, 1.6, 1.7, 1.8, 1.9, 2, 5]\n",
                "\n",
                "\n",
                "def add_heatmap_for_laplace(fig, df, col):\n",
                "    fig.add_trace(\n",
                "        go.Heatmap(\n",
                "            z=df.T,\n",
                "            x=df.index,\n",
                "            y=df.columns,\n",
                "            colorbar=dict(\n",
                "                len=4,  # Make colorbar 1.5x the height of the plot\n",
                "                y=0.5,  # Center it vertically\n",
                "                yanchor=\"middle\",\n",
                "            ),\n",
                "        ),\n",
                "        row=1,\n",
                "        col=col,\n",
                "    )\n",
                "    fig.update_traces(\n",
                "        text=df.T.applymap(lambda x: f\"{x:.2e}\"),\n",
                "        texttemplate=\"%{text}\",\n",
                "        textfont={\"size\": 10},\n",
                "        showscale=True,\n",
                "    )\n",
                "    fig.update_yaxes(\n",
                "        type=\"category\",\n",
                "        row=1,\n",
                "        col=col,\n",
                "        title=\"days\",\n",
                "        showticklabels=True,\n",
                "    )\n",
                "    fig.update_xaxes(\n",
                "        type=\"category\",\n",
                "        row=1,\n",
                "        col=col,\n",
                "        title=\"scale parameter (b)\",\n",
                "    )\n",
                "    return fig\n",
                "\n",
                "\n",
                "def transform_df_hm(df_hm, days):\n",
                "    df_hm = df_hm.set_index(\"scale\")\n",
                "    df_hm = df_hm.drop(columns=[\"params\"])\n",
                "    df_hm = df_hm.rename(columns={\"log_p_S_given_D\": days})\n",
                "\n",
                "    print(np.max(df_hm[days]))\n",
                "    max = np.max(df_hm[days])\n",
                "    overall_max = -14772\n",
                "    df_hm[days] = df_hm[days] - np.max(df_hm[days])\n",
                "    # df_hm[days] = np.exp(df_hm[days])\n",
                "    # df_hm[days] = df_hm[days] / np.sum(df_hm[days])\n",
                "    return df_hm\n",
                "\n",
                "\n",
                "labels = [\"scale\"]\n",
                "# df_hm, data = load_and_process_json(\"10_18IDs_30d\", params, labels)\n",
                "df_hm_5, data_5 = load_and_process_json(\"14_5days\", params, labels)\n",
                "df_hm_10, data_10 = load_and_process_json(\"14_10days\", params, labels)\n",
                "df_hm_15, data_15 = load_and_process_json(\"14_15days\", params, labels)\n",
                "df_hm_20, data_20 = load_and_process_json(\"14_20days\", params, labels)\n",
                "df_hm_25, data_25 = load_and_process_json(\"14_25days\", params, labels)\n",
                "df_hm_50, data_50 = load_and_process_json(\"14_50days\", params, labels)\n",
                "\n",
                "df_hm_5 = transform_df_hm(df_hm_5, 5)\n",
                "df_hm_10 = transform_df_hm(df_hm_10, 10)\n",
                "df_hm_15 = transform_df_hm(df_hm_15, 15)\n",
                "df_hm_20 = transform_df_hm(df_hm_20, 20)\n",
                "df_hm_25 = transform_df_hm(df_hm_25, 25)\n",
                "df_hm_50 = transform_df_hm(df_hm_50, 50)\n",
                "\n",
                "\n",
                "df_hm = pd.merge(df_hm_5, df_hm_10, right_index=True, left_index=True)\n",
                "df_hm = pd.merge(df_hm, df_hm_15, right_index=True, left_index=True)\n",
                "df_hm = pd.merge(df_hm, df_hm_20, right_index=True, left_index=True)\n",
                "df_hm = pd.merge(df_hm, df_hm_25, right_index=True, left_index=True)\n",
                "df_hm = pd.merge(df_hm, df_hm_50, right_index=True, left_index=True)\n",
                "\n",
                "\n",
                "IDs = list(data.keys())\n",
                "\n",
                "fig = make_subplots()\n",
                "fig = add_heatmap_for_laplace(fig, df_hm, 1)\n",
                "fig.update_layout(\n",
                "    title=f\"Log probability of S given D for different shape parameters<br>({len(IDs)} IDs)\",\n",
                "    # yaxis_type='log',\n",
                "    # width=450,\n",
                "    # height=200,\n",
                "    font_size=10,\n",
                ")\n",
                "fig.show()\n",
                "\n",
                "df_hm.head(2)"
            ]
        },
        {
            "cell_type": "code",
            "execution_count": 96,
            "metadata": {},
            "outputs": [
                {
                    "data": {
                        "text/plain": [
                            "array([2.47468092e-288, 4.75345647e-226, 5.05923754e-105, 4.06148273e-029,\n",
                            "       3.62179080e-015, 2.09223791e-010, 8.04535837e-007, 3.10348780e-004,\n",
                            "       1.69133081e-002, 1.73445308e-001, 4.25816373e-001, 3.06613392e-001,\n",
                            "       7.69004658e-002, 3.96349077e-087])"
                        ]
                    },
                    "execution_count": 96,
                    "metadata": {},
                    "output_type": "execute_result"
                }
            ],
            "source": [
                "x = df_hm_5[5].values\n",
                "max = np.max(x)\n",
                "x = x - max\n",
                "x = np.exp(x)\n",
                "x = x / np.sum(x)\n",
                "x"
            ]
        },
        {
            "cell_type": "markdown",
            "metadata": {},
            "source": [
                "## Process results (archive)"
            ]
        },
        {
            "cell_type": "code",
            "execution_count": null,
            "metadata": {},
            "outputs": [],
            "source": [
                "# Element wise addition of the values in data\n",
                "params = [\n",
                "    (2, 15, 0.3),\n",
                "    (2, 15, 0.5),\n",
                "    (2, 15, 0.7),\n",
                "    (2, 30, 0.3),\n",
                "    (2, 30, 0.5),\n",
                "    (2, 30, 0.7),\n",
                "    (2, 50, 0.3),\n",
                "    (2, 50, 0.5),\n",
                "    (2, 50, 0.7),\n",
                "    (5, 15, 0.3),\n",
                "    (5, 15, 0.5),\n",
                "    (5, 15, 0.7),\n",
                "    (5, 30, 0.3),\n",
                "    (5, 30, 0.5),\n",
                "    (5, 30, 0.7),\n",
                "    (5, 50, 0.3),\n",
                "    (5, 50, 0.5),\n",
                "    (5, 50, 0.7),\n",
                "    (8, 15, 0.3),\n",
                "    (8, 15, 0.5),\n",
                "    (8, 15, 0.7),\n",
                "    (8, 30, 0.3),\n",
                "    (8, 30, 0.5),\n",
                "    (8, 30, 0.7),\n",
                "    (8, 50, 0.3),\n",
                "    (8, 50, 0.5),\n",
                "    (8, 50, 0.7),\n",
                "]\n",
                "labels = [\"main width\", \"tail width\", \"main weight\"]\n",
                "\n",
                "df_heatmap, IDs = load_and_process_json(27, params, labels)\n",
                "df_heatmap"
            ]
        },
        {
            "cell_type": "code",
            "execution_count": null,
            "metadata": {},
            "outputs": [],
            "source": [
                "# Plot heatmap with main width on x axis, tail width on y axis and log_p_S_given_D as the color, just use the first 3 main weights\n",
                "\n",
                "fig = make_subplots(1, 3)\n",
                "\n",
                "\n",
                "def add_heatmap_for_weight(df, weight, col):\n",
                "    df = df[df[\"main weight\"] == weight]\n",
                "    fig.add_trace(\n",
                "        go.Heatmap(z=df[\"log_p_S_given_D\"], x=df[\"main width\"], y=df[\"tail width\"]),\n",
                "        row=1,\n",
                "        col=col,\n",
                "    )\n",
                "    fig.update_xaxes(\n",
                "        type=\"category\",\n",
                "        row=1,\n",
                "        col=col,\n",
                "        title=\"Main width<br><br>Main weight=\" + str(weight),\n",
                "    )\n",
                "\n",
                "\n",
                "add_heatmap_for_weight(df_heatmap, 0.3, 1)\n",
                "add_heatmap_for_weight(df_heatmap, 0.5, 2)\n",
                "add_heatmap_for_weight(df_heatmap, 0.7, 3)\n",
                "\n",
                "fig.update_layout(\n",
                "    title=f\"Log probability of S given D for different AR change parameters ({len(IDs.keys())} IDs)\",\n",
                "    yaxis_title=\"Tail width\",\n",
                "    # yaxis_type='log',\n",
                "    width=650,\n",
                "    height=300,\n",
                "    font_size=10,\n",
                ")\n",
                "# Recude font size of the subplot titles\n",
                "for annotation in fig[\"layout\"][\"annotations\"]:\n",
                "    annotation[\"font\"] = dict(size=14)\n",
                "# use the same color scale for all subplots\n",
                "fig.update_traces(\n",
                "    zmin=min(df_heatmap.log_p_S_given_D[df_heatmap.log_p_S_given_D != -np.inf]),\n",
                "    zmax=max(df_heatmap.log_p_S_given_D),\n",
                "    colorbar=dict(title=\"log_p_S_given_D\"),\n",
                ")\n",
                "# X axis and y axis are categorical\n",
                "fig.update_yaxes(type=\"category\")\n",
                "\n",
                "fig.show()"
            ]
        },
        {
            "cell_type": "code",
            "execution_count": null,
            "metadata": {},
            "outputs": [],
            "source": [
                "# The weights is the most differentiating parameter, then main width. Tail width is a smaller effect, althought very important, and remains hidden\n",
                "# 0.7 weight\n",
                "# std 2 -> laplace would be better\n",
                "# tail width doesn't change. Go wider?\n",
                "\n",
                "# Since the tails is a secondary effet, let's find the rest first\n",
                "\n",
                "# 3 laplace\n",
                "# 3 gaussians"
            ]
        },
        {
            "cell_type": "code",
            "execution_count": null,
            "metadata": {},
            "outputs": [],
            "source": [
                "params = [\n",
                "    (0.5, False),\n",
                "    (0.5, True),\n",
                "    (1, False),\n",
                "    (1, True),\n",
                "    (1.5, False),\n",
                "    (1.5, True),\n",
                "    (2, False),\n",
                "    (2, True),\n",
                "    (2.5, False),\n",
                "    (2.5, True),\n",
                "]\n",
                "labels = [\"main width\", \"laplace\"]\n",
                "\n",
                "df_10, IDs_10 = load_and_process_json(10, params, labels)\n",
                "df_10"
            ]
        },
        {
            "cell_type": "code",
            "execution_count": null,
            "metadata": {},
            "outputs": [],
            "source": [
                "# Plot heatmap with main width on x axis, tail width on y axis and log_p_S_given_D as the color, just use the first 3 main weights\n",
                "\n",
                "tail_width = 30\n",
                "main_weight = 0.7\n",
                "\n",
                "fig = make_subplots(1, 1)\n",
                "\n",
                "fig.add_trace(\n",
                "    go.Heatmap(z=df_10[\"log_p_S_given_D\"], x=df_10[\"main width\"], y=df_10[\"laplace\"]),\n",
                "    row=1,\n",
                "    col=1,\n",
                ")\n",
                "fig.update_xaxes(\n",
                "    type=\"category\",\n",
                "    row=1,\n",
                "    col=1,\n",
                "    title=\"Main width\",\n",
                ")\n",
                "\n",
                "fig.update_layout(\n",
                "    title=f\"Log P(S|D) ({len(IDs_10)} IDs)<br>tail width={tail_width}, main weight={main_weight}\",\n",
                "    yaxis_title=\"Laplace\",\n",
                "    # yaxis_type='log',\n",
                "    width=400,\n",
                "    height=250,\n",
                "    font_size=10,\n",
                ")\n",
                "# Recude font size of the subplot titles\n",
                "for annotation in fig[\"layout\"][\"annotations\"]:\n",
                "    annotation[\"font\"] = dict(size=14)\n",
                "# use the same color scale for all subplots\n",
                "fig.update_traces(\n",
                "    zmin=min(df_10.log_p_S_given_D[df_10.log_p_S_given_D != -np.inf]),\n",
                "    zmax=max(df_10.log_p_S_given_D),\n",
                "    colorbar=dict(title=\"log_p_S_given_D\"),\n",
                ")\n",
                "# X axis and y axis are categorical\n",
                "fig.update_yaxes(type=\"category\")\n",
                "\n",
                "fig.show()"
            ]
        },
        {
            "cell_type": "code",
            "execution_count": null,
            "metadata": {},
            "outputs": [],
            "source": [
                "mean = 1\n",
                "sigma_spike = 0.5\n",
                "weight_spike = 0.7\n",
                "sigma_tails = [5, 15, 30]\n",
                "laplace_main = True\n",
                "laplace_tail = True\n",
                "\n",
                "params = [5, 15, 30]\n",
                "labels = [\"tail width\"]\n",
                "\n",
                "df_3, IDs_3 = load_and_process_json(3, params, labels)\n",
                "df_3"
            ]
        },
        {
            "cell_type": "markdown",
            "metadata": {},
            "source": [
                "## Refine weights with best matching std_m, std_t"
            ]
        },
        {
            "cell_type": "code",
            "execution_count": 170,
            "metadata": {},
            "outputs": [],
            "source": [
                "mean = 1\n",
                "sigma_spike = 0.2\n",
                "weight_spike = [\n",
                "    0.59,\n",
                "    0.61,\n",
                "    0.64,\n",
                "    0.67,\n",
                "    0.7,\n",
                "    0.73,\n",
                "    0.76,\n",
                "    0.79,\n",
                "    0.81,\n",
                "    0.84,\n",
                "    0.87,\n",
                "    0.9,\n",
                "    0.93,\n",
                "    0.96,\n",
                "    0.99,\n",
                "]\n",
                "sigma_tail = 30\n",
                "laplace_main = False\n",
                "laplace_tail = False\n",
                "params = weight_spike\n",
                "labels = [\"main weight\"]\n",
                "\n",
                "df_15, IDs_15 = load_and_process_json(\"15_weights\", params, labels)"
            ]
        },
        {
            "cell_type": "code",
            "execution_count": null,
            "metadata": {},
            "outputs": [],
            "source": [
                "df_15"
            ]
        },
        {
            "cell_type": "code",
            "execution_count": null,
            "metadata": {},
            "outputs": [],
            "source": [
                "# Plot heatmap with main width on x axis, tail width on y axis and log_p_S_given_D as the color, just use the first 3 main weights\n",
                "\n",
                "main_width = 5\n",
                "main_weight = 0.7\n",
                "\n",
                "fig = make_subplots(1, 1)\n",
                "\n",
                "fig.add_trace(\n",
                "    go.Heatmap(z=df_3[\"log_p_S_given_D\"], x=df_3[\"tail width\"], y=df_3[\"laplace\"]),\n",
                "    row=1,\n",
                "    col=1,\n",
                ")\n",
                "fig.update_xaxes(\n",
                "    type=\"category\",\n",
                "    row=1,\n",
                "    col=1,\n",
                "    title=\"Tails width\",\n",
                ")\n",
                "\n",
                "fig.update_layout(\n",
                "    title=f\"Log P(S|D) ({len(IDs_10)} IDs)<br>main width={main_width}, main weight={main_weight}, all laplace\",\n",
                "    # yaxis_title=\"Laplace\",\n",
                "    # yaxis_type='log',\n",
                "    width=400,\n",
                "    height=200,\n",
                "    font_size=10,\n",
                ")\n",
                "# Recude font size of the subplot titles\n",
                "for annotation in fig[\"layout\"][\"annotations\"]:\n",
                "    annotation[\"font\"] = dict(size=14)\n",
                "# use the same color scale for all subplots\n",
                "fig.update_traces(\n",
                "    zmin=min(df_3.log_p_S_given_D[df_3.log_p_S_given_D != -np.inf]),\n",
                "    zmax=max(df_3.log_p_S_given_D),\n",
                "    colorbar=dict(title=\"log_p_S_given_D\"),\n",
                ")\n",
                "# X axis and y axis are categorical\n",
                "fig.update_yaxes(type=\"category\")\n",
                "\n",
                "fig.show()"
            ]
        },
        {
            "cell_type": "markdown",
            "metadata": {},
            "source": [
                "## Weight 0.73"
            ]
        },
        {
            "cell_type": "code",
            "execution_count": 172,
            "metadata": {},
            "outputs": [],
            "source": [
                "# Refine main width\n",
                "\n",
                "mean = 1\n",
                "sigma_spike = [0.1, 0.2, 0.3, 0.4, 0.5, 0.6, 0.7, 0.8, 0.9]\n",
                "weight_spike = 0.73\n",
                "sigma_tail = 30\n",
                "laplace_main = False\n",
                "laplace_tail = False\n",
                "params = sigma_spike\n",
                "labels = [\"main std\"]\n",
                "\n",
                "df_9, IDs_9 = load_and_process_json(\"9_stdmain\", params, labels)"
            ]
        },
        {
            "cell_type": "code",
            "execution_count": null,
            "metadata": {},
            "outputs": [],
            "source": [
                "df_9"
            ]
        },
        {
            "cell_type": "markdown",
            "metadata": {},
            "source": [
                "## Weight 0.73, main std 0.2"
            ]
        },
        {
            "cell_type": "code",
            "execution_count": null,
            "metadata": {},
            "outputs": [],
            "source": [
                "mean = 1\n",
                "sigma_spike = 0.2\n",
                "weight_spike = 0.73\n",
                "sigma_tail = [1, 5, 10, 15, 20, 25, 30, 35, 40, 45, 50, 55, 60, 65, 70]\n",
                "laplace_main = False\n",
                "laplace_tail = False\n",
                "params = sigma_tail\n",
                "print(len(params))\n",
                "\n",
                "df_tail, IDs_tail = load_and_process_json(\"15_stdtail\", params, labels)"
            ]
        },
        {
            "cell_type": "code",
            "execution_count": null,
            "metadata": {},
            "outputs": [],
            "source": []
        }
    ],
    "metadata": {
        "kernelspec": {
            "display_name": "phd",
            "language": "python",
            "name": "python3"
        },
        "language_info": {
            "codemirror_mode": {
                "name": "ipython",
                "version": 3
            },
            "file_extension": ".py",
            "mimetype": "text/x-python",
            "name": "python",
            "nbconvert_exporter": "python",
            "pygments_lexer": "ipython3",
            "version": "3.10.13"
        }
    },
    "nbformat": 4,
    "nbformat_minor": 2
}
