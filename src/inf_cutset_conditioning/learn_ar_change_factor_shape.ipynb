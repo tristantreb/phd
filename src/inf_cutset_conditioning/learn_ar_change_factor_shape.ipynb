{
 "cells": [
  {
   "cell_type": "code",
   "execution_count": 35,
   "metadata": {},
   "outputs": [],
   "source": [
    "import numpy as np\n",
    "import pandas as pd\n",
    "from plotly.subplots import make_subplots\n",
    "import plotly.graph_objects as go\n",
    "\n",
    "import src.data.breathe_data as bd\n",
    "import src.data.helpers as dh\n",
    "import src.inference.helpers as ih\n",
    "import src.modelling_ar.ar as ar\n",
    "import src.inf_cutset_conditioning.helpers as cutseth\n",
    "import src.inf_cutset_conditioning.cutset_cond_algs_learn_ar_change as cca_ar_change\n",
    "import src.models.helpers as mh"
   ]
  },
  {
   "cell_type": "code",
   "execution_count": 2,
   "metadata": {},
   "outputs": [
    {
     "name": "stderr",
     "output_type": "stream",
     "text": [
      "INFO:root:* Checking for same day measurements *\n"
     ]
    }
   ],
   "source": [
    "# Load data\n",
    "df = bd.load_meas_from_excel(\"BR_O2_FEV1_FEF2575_conservative_smoothing_with_idx\")"
   ]
  },
  {
   "cell_type": "code",
   "execution_count": 30,
   "metadata": {},
   "outputs": [
    {
     "ename": "KeyboardInterrupt",
     "evalue": "",
     "output_type": "error",
     "traceback": [
      "\u001b[0;31m---------------------------------------------------------------------------\u001b[0m",
      "\u001b[0;31mKeyboardInterrupt\u001b[0m                         Traceback (most recent call last)",
      "Cell \u001b[0;32mIn[30], line 15\u001b[0m\n\u001b[1;32m      6\u001b[0m ar_prior \u001b[38;5;241m=\u001b[39m \u001b[38;5;124m\"\u001b[39m\u001b[38;5;124mbreathe (2 days model, ecFEV1 addmultnoise, ecFEF25-75)\u001b[39m\u001b[38;5;124m\"\u001b[39m\n\u001b[1;32m      7\u001b[0m ar_change_cpt_suffix \u001b[38;5;241m=\u001b[39m \u001b[38;5;124m\"\u001b[39m\u001b[38;5;124m_shape_factor\u001b[39m\u001b[38;5;124m\"\u001b[39m\n\u001b[1;32m      9\u001b[0m (\n\u001b[1;32m     10\u001b[0m     p_M_given_D,\n\u001b[1;32m     11\u001b[0m     log_p_D_given_M,\n\u001b[1;32m     12\u001b[0m     AR_given_M_and_D,\n\u001b[1;32m     13\u001b[0m     AR_given_M_and_all_D,\n\u001b[1;32m     14\u001b[0m     res_dict,\n\u001b[0;32m---> 15\u001b[0m ) \u001b[38;5;241m=\u001b[39m \u001b[43mcca_ar_change\u001b[49m\u001b[38;5;241;43m.\u001b[39;49m\u001b[43mrun_long_noise_model_through_time\u001b[49m\u001b[43m(\u001b[49m\n\u001b[1;32m     16\u001b[0m \u001b[43m    \u001b[49m\u001b[43mdftmp\u001b[49m\u001b[43m,\u001b[49m\n\u001b[1;32m     17\u001b[0m \u001b[43m    \u001b[49m\u001b[43mar_prior\u001b[49m\u001b[38;5;241;43m=\u001b[39;49m\u001b[43mar_prior\u001b[49m\u001b[43m,\u001b[49m\n\u001b[1;32m     18\u001b[0m \u001b[43m    \u001b[49m\u001b[43mar_change_cpt_suffix\u001b[49m\u001b[38;5;241;43m=\u001b[39;49m\u001b[43mar_change_cpt_suffix\u001b[49m\u001b[43m,\u001b[49m\n\u001b[1;32m     19\u001b[0m \u001b[43m    \u001b[49m\u001b[43mecfev1_noise_model_suffix\u001b[49m\u001b[38;5;241;43m=\u001b[39;49m\u001b[43mecfev1_noise_model_suffix\u001b[49m\u001b[43m,\u001b[49m\n\u001b[1;32m     20\u001b[0m \u001b[43m)\u001b[49m\n",
      "File \u001b[0;32m~/Desktop/PhD/Code/phd/src/inf_cutset_conditioning/cutset_cond_algs_learn_ar_change.py:43\u001b[0m, in \u001b[0;36mrun_long_noise_model_through_time\u001b[0;34m(df, ar_prior, ia_prior, ar_change_cpt_suffix, ecfev1_noise_model_suffix, fef2575_cpt_suffix, debug)\u001b[0m\n\u001b[1;32m     22\u001b[0m (\n\u001b[1;32m     23\u001b[0m     inf_alg,\n\u001b[1;32m     24\u001b[0m     HFEV1,\n\u001b[0;32m   (...)\u001b[0m\n\u001b[1;32m     37\u001b[0m     fef2575_cpt_suffix,\n\u001b[1;32m     38\u001b[0m )\n\u001b[1;32m     40\u001b[0m \u001b[38;5;66;03m# Must have both ecfev1 and fef2575 observations\u001b[39;00m\n\u001b[1;32m     41\u001b[0m (p_M_given_D, log_p_D_given_M, AR_given_M_and_D, AR_given_M_and_all_D, res_dict) \u001b[38;5;241m=\u001b[39m (\n\u001b[1;32m     42\u001b[0m     calc_log_p_D_given_M_and_AR_for_ID_ecfev1_fef2575(\n\u001b[0;32m---> 43\u001b[0m         df,\n\u001b[1;32m     44\u001b[0m         inf_alg,\n\u001b[1;32m     45\u001b[0m         HFEV1,\n\u001b[1;32m     46\u001b[0m         h_s_obs_states,\n\u001b[1;32m     47\u001b[0m         AR,\n\u001b[1;32m     48\u001b[0m         ecFEV1,\n\u001b[1;32m     49\u001b[0m         ecFEF2575prctecFEV1,\n\u001b[1;32m     50\u001b[0m         model_spec_txt,\n\u001b[1;32m     51\u001b[0m         S,\n\u001b[1;32m     52\u001b[0m         debug\u001b[38;5;241m=\u001b[39mdebug,\n\u001b[1;32m     53\u001b[0m         save\u001b[38;5;241m=\u001b[39msave,\n\u001b[1;32m     54\u001b[0m     )\n\u001b[1;32m     55\u001b[0m )\n\u001b[1;32m     56\u001b[0m \u001b[38;5;28;01mreturn\u001b[39;00m (\n\u001b[1;32m     57\u001b[0m     p_M_given_D,\n\u001b[1;32m     58\u001b[0m     log_p_D_given_M,\n\u001b[0;32m   (...)\u001b[0m\n\u001b[1;32m     61\u001b[0m     res_dict,\n\u001b[1;32m     62\u001b[0m )\n",
      "File \u001b[0;32m~/Desktop/PhD/Code/phd/src/inf_cutset_conditioning/cutset_cond_algs_learn_ar_change.py:309\u001b[0m, in \u001b[0;36mcalc_log_p_D_given_M_and_AR_for_ID_ecfev1_fef2575\u001b[0;34m(df, inf_alg, HFEV1, h_s_obs_states, AR, ecFEV1, ecFEF2575prctecFEV1, model_spec_txt, S, debug)\u001b[0m\n\u001b[1;32m    301\u001b[0m     \u001b[38;5;28;01mif\u001b[39;00m debug:\n\u001b[1;32m    302\u001b[0m         \u001b[38;5;28mprint\u001b[39m(\u001b[38;5;124m\"\u001b[39m\u001b[38;5;124mBoth ecFEV1 and ecFEF25-75 observed\u001b[39m\u001b[38;5;124m\"\u001b[39m)\n\u001b[1;32m    303\u001b[0m     (\n\u001b[1;32m    304\u001b[0m         log_p_D_given_M_for_row,\n\u001b[1;32m    305\u001b[0m         dist_AR,\n\u001b[1;32m    306\u001b[0m         dist_ecFEV1,\n\u001b[1;32m    307\u001b[0m         dist_ecFEF2575prctecFEV1,\n\u001b[1;32m    308\u001b[0m     ) \u001b[38;5;241m=\u001b[39m cca\u001b[38;5;241m.\u001b[39mget_AR_and_p_log_D_given_M_obs_fev1_and_fef2575(\n\u001b[0;32m--> 309\u001b[0m         row,\n\u001b[1;32m    310\u001b[0m         inf_alg,\n\u001b[1;32m    311\u001b[0m         HFEV1,\n\u001b[1;32m    312\u001b[0m         HFEV1_bin_idx,\n\u001b[1;32m    313\u001b[0m         ecFEV1,\n\u001b[1;32m    314\u001b[0m         ecFEF2575prctecFEV1,\n\u001b[1;32m    315\u001b[0m         AR,\n\u001b[1;32m    316\u001b[0m         vevidence_ar,\n\u001b[1;32m    317\u001b[0m         uniform_from_o2_side \u001b[38;5;241m|\u001b[39m uniform_from_fef2575,\n\u001b[1;32m    318\u001b[0m         m_from_hfev1_dict,\n\u001b[1;32m    319\u001b[0m         m_from_hfev1_key,\n\u001b[1;32m    320\u001b[0m         m_from_fev_factor_dict,\n\u001b[1;32m    321\u001b[0m         m_from_fev_factor_key,\n\u001b[1;32m    322\u001b[0m     )\n\u001b[1;32m    323\u001b[0m \u001b[38;5;28;01melse\u001b[39;00m:\n\u001b[1;32m    324\u001b[0m     \u001b[38;5;28;01mraise\u001b[39;00m \u001b[38;5;167;01mValueError\u001b[39;00m(\u001b[38;5;124m\"\u001b[39m\u001b[38;5;124mBoth ecFEV1 and ecFEF25-75 must be observed\u001b[39m\u001b[38;5;124m\"\u001b[39m)\n",
      "File \u001b[0;32m~/Desktop/PhD/Code/phd/src/inf_cutset_conditioning/cutset_cond_algs.py:863\u001b[0m, in \u001b[0;36mget_AR_and_p_log_D_given_M_obs_fev1_and_fef2575\u001b[0;34m(data, bp, HFEV1, HFEV1_bin_idx, ecFEV1, ecFEF2575prctecFEV1, AR, vevidence_ar, precomp_messages, m_from_hfev1_dict, m_from_hfev1_key, m_from_fev_factor_dict, m_from_fev_factor_key)\u001b[0m\n\u001b[1;32m    861\u001b[0m     precomp_messages1\u001b[38;5;241m.\u001b[39mupdate(m_from_hfev1_dict[ref])\n\u001b[1;32m    862\u001b[0m     add_ref \u001b[38;5;241m=\u001b[39m \u001b[38;5;28;01mFalse\u001b[39;00m\n\u001b[0;32m--> 863\u001b[0m res1, messages \u001b[38;5;241m=\u001b[39m \u001b[43mbp\u001b[49m\u001b[38;5;241;43m.\u001b[39;49m\u001b[43mquery\u001b[49m\u001b[43m(\u001b[49m\n\u001b[1;32m    864\u001b[0m \u001b[43m    \u001b[49m\u001b[43mvariables\u001b[49m\u001b[38;5;241;43m=\u001b[39;49m\u001b[43m[\u001b[49m\u001b[43mecFEV1\u001b[49m\u001b[38;5;241;43m.\u001b[39;49m\u001b[43mname\u001b[49m\u001b[43m]\u001b[49m\u001b[43m,\u001b[49m\n\u001b[1;32m    865\u001b[0m \u001b[43m    \u001b[49m\u001b[43mevidence\u001b[49m\u001b[38;5;241;43m=\u001b[39;49m\u001b[43m{\u001b[49m\u001b[43mHFEV1\u001b[49m\u001b[38;5;241;43m.\u001b[39;49m\u001b[43mname\u001b[49m\u001b[43m:\u001b[49m\u001b[43m \u001b[49m\u001b[43mHFEV1_bin_idx\u001b[49m\u001b[43m}\u001b[49m\u001b[43m,\u001b[49m\n\u001b[1;32m    866\u001b[0m \u001b[43m    \u001b[49m\u001b[43mvirtual_evidence\u001b[49m\u001b[38;5;241;43m=\u001b[39;49m\u001b[43m[\u001b[49m\u001b[43mvevidence_ar\u001b[49m\u001b[43m]\u001b[49m\u001b[43m,\u001b[49m\n\u001b[1;32m    867\u001b[0m \u001b[43m    \u001b[49m\u001b[43mprecomp_messages\u001b[49m\u001b[38;5;241;43m=\u001b[39;49m\u001b[43mprecomp_messages1\u001b[49m\u001b[43m,\u001b[49m\n\u001b[1;32m    868\u001b[0m \u001b[43m    \u001b[49m\u001b[43mget_messages\u001b[49m\u001b[38;5;241;43m=\u001b[39;49m\u001b[38;5;28;43;01mTrue\u001b[39;49;00m\u001b[43m,\u001b[49m\n\u001b[1;32m    869\u001b[0m \u001b[43m\u001b[49m\u001b[43m)\u001b[49m\n\u001b[1;32m    870\u001b[0m \u001b[38;5;28;01mif\u001b[39;00m add_ref:\n\u001b[1;32m    871\u001b[0m     m_from_hfev1_dict\u001b[38;5;241m.\u001b[39mupdate({ref: {m_from_hfev1_key: messages[m_from_hfev1_key]}})\n",
      "File \u001b[0;32m~/Desktop/PhD/Code/pgmpy/pgmpy/inference/ExactInference.py:1534\u001b[0m, in \u001b[0;36mBeliefPropagationWithMessageParsing.query\u001b[0;34m(self, variables, evidence, virtual_evidence, get_messages, precomp_messages)\u001b[0m\n\u001b[1;32m   1522\u001b[0m         \u001b[38;5;28;01mraise\u001b[39;00m \u001b[38;5;167;01mValueError\u001b[39;00m(\n\u001b[1;32m   1523\u001b[0m             \u001b[38;5;124mf\u001b[39m\u001b[38;5;124m\"\u001b[39m\u001b[38;5;124mCan\u001b[39m\u001b[38;5;124m'\u001b[39m\u001b[38;5;124mt have the same variables in both `evidence` and `virtual_evidence`. Found in both: \u001b[39m\u001b[38;5;132;01m{\u001b[39;00mcommon_vars\u001b[38;5;132;01m}\u001b[39;00m\u001b[38;5;124m\"\u001b[39m\n\u001b[1;32m   1524\u001b[0m         )\n\u001b[1;32m   1526\u001b[0m query \u001b[38;5;241m=\u001b[39m \u001b[38;5;28mself\u001b[39m\u001b[38;5;241m.\u001b[39m_RecursiveMessageSchedulingQuery(\n\u001b[1;32m   1527\u001b[0m     \u001b[38;5;28mself\u001b[39m,\n\u001b[1;32m   1528\u001b[0m     variables,\n\u001b[0;32m   (...)\u001b[0m\n\u001b[1;32m   1532\u001b[0m     precomp_messages,\n\u001b[1;32m   1533\u001b[0m )\n\u001b[0;32m-> 1534\u001b[0m \u001b[38;5;28;01mreturn\u001b[39;00m \u001b[43mquery\u001b[49m\u001b[38;5;241;43m.\u001b[39;49m\u001b[43mrun\u001b[49m\u001b[43m(\u001b[49m\u001b[43m)\u001b[49m\n",
      "File \u001b[0;32m~/Desktop/PhD/Code/pgmpy/pgmpy/inference/ExactInference.py:1305\u001b[0m, in \u001b[0;36mBeliefPropagationWithMessageParsing._RecursiveMessageSchedulingQuery.run\u001b[0;34m(self)\u001b[0m\n\u001b[1;32m   1303\u001b[0m agg_res \u001b[38;5;241m=\u001b[39m {}\n\u001b[1;32m   1304\u001b[0m \u001b[38;5;28;01mfor\u001b[39;00m variable \u001b[38;5;129;01min\u001b[39;00m \u001b[38;5;28mself\u001b[39m\u001b[38;5;241m.\u001b[39mvariables:\n\u001b[0;32m-> 1305\u001b[0m     res \u001b[38;5;241m=\u001b[39m \u001b[38;5;28;43mself\u001b[39;49m\u001b[38;5;241;43m.\u001b[39;49m\u001b[43mschedule_variable_node_messages\u001b[49m\u001b[43m(\u001b[49m\n\u001b[1;32m   1306\u001b[0m \u001b[43m        \u001b[49m\u001b[43mvariable\u001b[49m\u001b[43m,\u001b[49m\n\u001b[1;32m   1307\u001b[0m \u001b[43m        \u001b[49m\u001b[43mfrom_factor\u001b[49m\u001b[38;5;241;43m=\u001b[39;49m\u001b[38;5;28;43;01mNone\u001b[39;49;00m\u001b[43m,\u001b[49m\n\u001b[1;32m   1308\u001b[0m \u001b[43m    \u001b[49m\u001b[43m)\u001b[49m\n\u001b[1;32m   1309\u001b[0m     agg_res[variable] \u001b[38;5;241m=\u001b[39m DiscreteFactor([variable], [\u001b[38;5;28mlen\u001b[39m(res)], res)\n\u001b[1;32m   1310\u001b[0m \u001b[38;5;28;01mif\u001b[39;00m \u001b[38;5;28mself\u001b[39m\u001b[38;5;241m.\u001b[39mget_messages:\n",
      "File \u001b[0;32m~/Desktop/PhD/Code/pgmpy/pgmpy/inference/ExactInference.py:1375\u001b[0m, in \u001b[0;36mBeliefPropagationWithMessageParsing._RecursiveMessageSchedulingQuery.schedule_variable_node_messages\u001b[0;34m(self, variable, from_factor)\u001b[0m\n\u001b[1;32m   1372\u001b[0m         incoming_message \u001b[38;5;241m=\u001b[39m \u001b[38;5;28mself\u001b[39m\u001b[38;5;241m.\u001b[39mall_messages[factor_node_key]\n\u001b[1;32m   1373\u001b[0m     \u001b[38;5;28;01melse\u001b[39;00m:\n\u001b[1;32m   1374\u001b[0m         \u001b[38;5;66;03m# If not compute it and store it\u001b[39;00m\n\u001b[0;32m-> 1375\u001b[0m         incoming_message \u001b[38;5;241m=\u001b[39m \u001b[38;5;28;43mself\u001b[39;49m\u001b[38;5;241;43m.\u001b[39;49m\u001b[43mschedule_factor_node_messages\u001b[49m\u001b[43m(\u001b[49m\n\u001b[1;32m   1376\u001b[0m \u001b[43m            \u001b[49m\u001b[43mfactor\u001b[49m\u001b[43m,\u001b[49m\u001b[43m \u001b[49m\u001b[43mvariable\u001b[49m\n\u001b[1;32m   1377\u001b[0m \u001b[43m        \u001b[49m\u001b[43m)\u001b[49m\n\u001b[1;32m   1378\u001b[0m         \u001b[38;5;28mself\u001b[39m\u001b[38;5;241m.\u001b[39mall_messages[factor_node_key] \u001b[38;5;241m=\u001b[39m incoming_message\n\u001b[1;32m   1379\u001b[0m \u001b[38;5;28;01melse\u001b[39;00m:\n",
      "File \u001b[0;32m~/Desktop/PhD/Code/pgmpy/pgmpy/inference/ExactInference.py:1417\u001b[0m, in \u001b[0;36mBeliefPropagationWithMessageParsing._RecursiveMessageSchedulingQuery.schedule_factor_node_messages\u001b[0;34m(self, factor, from_variable)\u001b[0m\n\u001b[1;32m   1414\u001b[0m         incoming_message \u001b[38;5;241m=\u001b[39m \u001b[38;5;28mself\u001b[39m\u001b[38;5;241m.\u001b[39mall_messages[node_factor_key]\n\u001b[1;32m   1415\u001b[0m     \u001b[38;5;28;01melse\u001b[39;00m:\n\u001b[1;32m   1416\u001b[0m         \u001b[38;5;66;03m# If not compute it and store it\u001b[39;00m\n\u001b[0;32m-> 1417\u001b[0m         incoming_message \u001b[38;5;241m=\u001b[39m \u001b[38;5;28;43mself\u001b[39;49m\u001b[38;5;241;43m.\u001b[39;49m\u001b[43mschedule_variable_node_messages\u001b[49m\u001b[43m(\u001b[49m\n\u001b[1;32m   1418\u001b[0m \u001b[43m            \u001b[49m\u001b[43mvar\u001b[49m\u001b[43m,\u001b[49m\u001b[43m \u001b[49m\u001b[43mfactor\u001b[49m\n\u001b[1;32m   1419\u001b[0m \u001b[43m        \u001b[49m\u001b[43m)\u001b[49m\n\u001b[1;32m   1420\u001b[0m         \u001b[38;5;28mself\u001b[39m\u001b[38;5;241m.\u001b[39mall_messages[node_factor_key] \u001b[38;5;241m=\u001b[39m incoming_message\n\u001b[1;32m   1421\u001b[0m \u001b[38;5;28;01melse\u001b[39;00m:\n",
      "File \u001b[0;32m~/Desktop/PhD/Code/pgmpy/pgmpy/inference/ExactInference.py:1375\u001b[0m, in \u001b[0;36mBeliefPropagationWithMessageParsing._RecursiveMessageSchedulingQuery.schedule_variable_node_messages\u001b[0;34m(self, variable, from_factor)\u001b[0m\n\u001b[1;32m   1372\u001b[0m         incoming_message \u001b[38;5;241m=\u001b[39m \u001b[38;5;28mself\u001b[39m\u001b[38;5;241m.\u001b[39mall_messages[factor_node_key]\n\u001b[1;32m   1373\u001b[0m     \u001b[38;5;28;01melse\u001b[39;00m:\n\u001b[1;32m   1374\u001b[0m         \u001b[38;5;66;03m# If not compute it and store it\u001b[39;00m\n\u001b[0;32m-> 1375\u001b[0m         incoming_message \u001b[38;5;241m=\u001b[39m \u001b[38;5;28;43mself\u001b[39;49m\u001b[38;5;241;43m.\u001b[39;49m\u001b[43mschedule_factor_node_messages\u001b[49m\u001b[43m(\u001b[49m\n\u001b[1;32m   1376\u001b[0m \u001b[43m            \u001b[49m\u001b[43mfactor\u001b[49m\u001b[43m,\u001b[49m\u001b[43m \u001b[49m\u001b[43mvariable\u001b[49m\n\u001b[1;32m   1377\u001b[0m \u001b[43m        \u001b[49m\u001b[43m)\u001b[49m\n\u001b[1;32m   1378\u001b[0m         \u001b[38;5;28mself\u001b[39m\u001b[38;5;241m.\u001b[39mall_messages[factor_node_key] \u001b[38;5;241m=\u001b[39m incoming_message\n\u001b[1;32m   1379\u001b[0m \u001b[38;5;28;01melse\u001b[39;00m:\n",
      "File \u001b[0;32m~/Desktop/PhD/Code/pgmpy/pgmpy/inference/ExactInference.py:1417\u001b[0m, in \u001b[0;36mBeliefPropagationWithMessageParsing._RecursiveMessageSchedulingQuery.schedule_factor_node_messages\u001b[0;34m(self, factor, from_variable)\u001b[0m\n\u001b[1;32m   1414\u001b[0m         incoming_message \u001b[38;5;241m=\u001b[39m \u001b[38;5;28mself\u001b[39m\u001b[38;5;241m.\u001b[39mall_messages[node_factor_key]\n\u001b[1;32m   1415\u001b[0m     \u001b[38;5;28;01melse\u001b[39;00m:\n\u001b[1;32m   1416\u001b[0m         \u001b[38;5;66;03m# If not compute it and store it\u001b[39;00m\n\u001b[0;32m-> 1417\u001b[0m         incoming_message \u001b[38;5;241m=\u001b[39m \u001b[38;5;28;43mself\u001b[39;49m\u001b[38;5;241;43m.\u001b[39;49m\u001b[43mschedule_variable_node_messages\u001b[49m\u001b[43m(\u001b[49m\n\u001b[1;32m   1418\u001b[0m \u001b[43m            \u001b[49m\u001b[43mvar\u001b[49m\u001b[43m,\u001b[49m\u001b[43m \u001b[49m\u001b[43mfactor\u001b[49m\n\u001b[1;32m   1419\u001b[0m \u001b[43m        \u001b[49m\u001b[43m)\u001b[49m\n\u001b[1;32m   1420\u001b[0m         \u001b[38;5;28mself\u001b[39m\u001b[38;5;241m.\u001b[39mall_messages[node_factor_key] \u001b[38;5;241m=\u001b[39m incoming_message\n\u001b[1;32m   1421\u001b[0m \u001b[38;5;28;01melse\u001b[39;00m:\n",
      "File \u001b[0;32m~/Desktop/PhD/Code/pgmpy/pgmpy/inference/ExactInference.py:1351\u001b[0m, in \u001b[0;36mBeliefPropagationWithMessageParsing._RecursiveMessageSchedulingQuery.schedule_variable_node_messages\u001b[0;34m(self, variable, from_factor)\u001b[0m\n\u001b[1;32m   1340\u001b[0m \u001b[38;5;28;01mif\u001b[39;00m (\n\u001b[1;32m   1341\u001b[0m     \u001b[38;5;28mself\u001b[39m\u001b[38;5;241m.\u001b[39mvirtual_evidence \u001b[38;5;129;01mis\u001b[39;00m \u001b[38;5;129;01mnot\u001b[39;00m \u001b[38;5;28;01mNone\u001b[39;00m\n\u001b[1;32m   1342\u001b[0m     \u001b[38;5;129;01mand\u001b[39;00m variable\n\u001b[1;32m   1343\u001b[0m     \u001b[38;5;129;01min\u001b[39;00m \u001b[38;5;28mself\u001b[39m\u001b[38;5;241m.\u001b[39mbp\u001b[38;5;241m.\u001b[39m_get_virtual_evidence_var_list(\u001b[38;5;28mself\u001b[39m\u001b[38;5;241m.\u001b[39mvirtual_evidence)\n\u001b[1;32m   1344\u001b[0m ):\n\u001b[1;32m   1345\u001b[0m     virtual_messages \u001b[38;5;241m=\u001b[39m [\n\u001b[1;32m   1346\u001b[0m         cpd\u001b[38;5;241m.\u001b[39mvalues\n\u001b[1;32m   1347\u001b[0m         \u001b[38;5;28;01mfor\u001b[39;00m cpd \u001b[38;5;129;01min\u001b[39;00m \u001b[38;5;28mself\u001b[39m\u001b[38;5;241m.\u001b[39mvirtual_evidence\n\u001b[1;32m   1348\u001b[0m         \u001b[38;5;28;01mif\u001b[39;00m cpd\u001b[38;5;241m.\u001b[39mvariables[\u001b[38;5;241m0\u001b[39m] \u001b[38;5;241m==\u001b[39m variable\n\u001b[1;32m   1349\u001b[0m     ]\n\u001b[0;32m-> 1351\u001b[0m incoming_factors \u001b[38;5;241m=\u001b[39m [\n\u001b[1;32m   1352\u001b[0m     factor\n\u001b[1;32m   1353\u001b[0m     \u001b[38;5;28;01mfor\u001b[39;00m factor \u001b[38;5;129;01min\u001b[39;00m \u001b[38;5;28mlist\u001b[39m(\u001b[38;5;28mself\u001b[39m\u001b[38;5;241m.\u001b[39mbp\u001b[38;5;241m.\u001b[39mmodel\u001b[38;5;241m.\u001b[39mneighbors(variable))\n\u001b[1;32m   1354\u001b[0m     \u001b[38;5;28;01mif\u001b[39;00m factor \u001b[38;5;241m!=\u001b[39m from_factor\n\u001b[1;32m   1355\u001b[0m ]\n\u001b[1;32m   1357\u001b[0m \u001b[38;5;28;01mif\u001b[39;00m \u001b[38;5;28mlen\u001b[39m(incoming_factors) \u001b[38;5;241m==\u001b[39m \u001b[38;5;241m0\u001b[39m:\n\u001b[1;32m   1358\u001b[0m     \u001b[38;5;66;03m# Is an unobserved leaf variable\u001b[39;00m\n\u001b[1;32m   1359\u001b[0m     message \u001b[38;5;241m=\u001b[39m \u001b[38;5;28mself\u001b[39m\u001b[38;5;241m.\u001b[39mbp\u001b[38;5;241m.\u001b[39mmodel\u001b[38;5;241m.\u001b[39mget_uniform_message(variable)\n",
      "File \u001b[0;32m~/Desktop/PhD/Code/pgmpy/pgmpy/inference/ExactInference.py:1354\u001b[0m, in \u001b[0;36m<listcomp>\u001b[0;34m(.0)\u001b[0m\n\u001b[1;32m   1340\u001b[0m \u001b[38;5;28;01mif\u001b[39;00m (\n\u001b[1;32m   1341\u001b[0m     \u001b[38;5;28mself\u001b[39m\u001b[38;5;241m.\u001b[39mvirtual_evidence \u001b[38;5;129;01mis\u001b[39;00m \u001b[38;5;129;01mnot\u001b[39;00m \u001b[38;5;28;01mNone\u001b[39;00m\n\u001b[1;32m   1342\u001b[0m     \u001b[38;5;129;01mand\u001b[39;00m variable\n\u001b[1;32m   1343\u001b[0m     \u001b[38;5;129;01min\u001b[39;00m \u001b[38;5;28mself\u001b[39m\u001b[38;5;241m.\u001b[39mbp\u001b[38;5;241m.\u001b[39m_get_virtual_evidence_var_list(\u001b[38;5;28mself\u001b[39m\u001b[38;5;241m.\u001b[39mvirtual_evidence)\n\u001b[1;32m   1344\u001b[0m ):\n\u001b[1;32m   1345\u001b[0m     virtual_messages \u001b[38;5;241m=\u001b[39m [\n\u001b[1;32m   1346\u001b[0m         cpd\u001b[38;5;241m.\u001b[39mvalues\n\u001b[1;32m   1347\u001b[0m         \u001b[38;5;28;01mfor\u001b[39;00m cpd \u001b[38;5;129;01min\u001b[39;00m \u001b[38;5;28mself\u001b[39m\u001b[38;5;241m.\u001b[39mvirtual_evidence\n\u001b[1;32m   1348\u001b[0m         \u001b[38;5;28;01mif\u001b[39;00m cpd\u001b[38;5;241m.\u001b[39mvariables[\u001b[38;5;241m0\u001b[39m] \u001b[38;5;241m==\u001b[39m variable\n\u001b[1;32m   1349\u001b[0m     ]\n\u001b[1;32m   1351\u001b[0m incoming_factors \u001b[38;5;241m=\u001b[39m [\n\u001b[1;32m   1352\u001b[0m     factor\n\u001b[1;32m   1353\u001b[0m     \u001b[38;5;28;01mfor\u001b[39;00m factor \u001b[38;5;129;01min\u001b[39;00m \u001b[38;5;28mlist\u001b[39m(\u001b[38;5;28mself\u001b[39m\u001b[38;5;241m.\u001b[39mbp\u001b[38;5;241m.\u001b[39mmodel\u001b[38;5;241m.\u001b[39mneighbors(variable))\n\u001b[0;32m-> 1354\u001b[0m     \u001b[38;5;28;01mif\u001b[39;00m \u001b[43mfactor\u001b[49m\u001b[43m \u001b[49m\u001b[38;5;241;43m!=\u001b[39;49m\u001b[43m \u001b[49m\u001b[43mfrom_factor\u001b[49m\n\u001b[1;32m   1355\u001b[0m ]\n\u001b[1;32m   1357\u001b[0m \u001b[38;5;28;01mif\u001b[39;00m \u001b[38;5;28mlen\u001b[39m(incoming_factors) \u001b[38;5;241m==\u001b[39m \u001b[38;5;241m0\u001b[39m:\n\u001b[1;32m   1358\u001b[0m     \u001b[38;5;66;03m# Is an unobserved leaf variable\u001b[39;00m\n\u001b[1;32m   1359\u001b[0m     message \u001b[38;5;241m=\u001b[39m \u001b[38;5;28mself\u001b[39m\u001b[38;5;241m.\u001b[39mbp\u001b[38;5;241m.\u001b[39mmodel\u001b[38;5;241m.\u001b[39mget_uniform_message(variable)\n",
      "File \u001b[0;32m~/Desktop/PhD/Code/pgmpy/pgmpy/factors/discrete/DiscreteFactor.py:1015\u001b[0m, in \u001b[0;36mDiscreteFactor.__ne__\u001b[0;34m(self, other)\u001b[0m\n\u001b[1;32m   1014\u001b[0m \u001b[38;5;28;01mdef\u001b[39;00m \u001b[38;5;21m__ne__\u001b[39m(\u001b[38;5;28mself\u001b[39m, other):\n\u001b[0;32m-> 1015\u001b[0m     \u001b[38;5;28;01mreturn\u001b[39;00m \u001b[38;5;129;01mnot\u001b[39;00m \u001b[38;5;28;43mself\u001b[39;49m\u001b[38;5;241;43m.\u001b[39;49m\u001b[38;5;21;43m__eq__\u001b[39;49m\u001b[43m(\u001b[49m\u001b[43mother\u001b[49m\u001b[43m)\u001b[49m\n",
      "File \u001b[0;32m~/Desktop/PhD/Code/pgmpy/pgmpy/factors/discrete/DiscreteFactor.py:1005\u001b[0m, in \u001b[0;36mDiscreteFactor.__eq__\u001b[0;34m(self, other, atol)\u001b[0m\n\u001b[1;32m   1003\u001b[0m \u001b[38;5;28;01mif\u001b[39;00m phi\u001b[38;5;241m.\u001b[39mvalues\u001b[38;5;241m.\u001b[39mshape \u001b[38;5;241m!=\u001b[39m \u001b[38;5;28mself\u001b[39m\u001b[38;5;241m.\u001b[39mvalues\u001b[38;5;241m.\u001b[39mshape:\n\u001b[1;32m   1004\u001b[0m     \u001b[38;5;28;01mreturn\u001b[39;00m \u001b[38;5;28;01mFalse\u001b[39;00m\n\u001b[0;32m-> 1005\u001b[0m \u001b[38;5;28;01melif\u001b[39;00m \u001b[38;5;129;01mnot\u001b[39;00m \u001b[43mconfig\u001b[49m\u001b[38;5;241;43m.\u001b[39;49m\u001b[43mget_compute_backend\u001b[49m\u001b[43m(\u001b[49m\u001b[43m)\u001b[49m\u001b[38;5;241;43m.\u001b[39;49m\u001b[43mallclose\u001b[49m\u001b[43m(\u001b[49m\n\u001b[1;32m   1006\u001b[0m \u001b[43m    \u001b[49m\u001b[43mphi\u001b[49m\u001b[38;5;241;43m.\u001b[39;49m\u001b[43mvalues\u001b[49m\u001b[43m,\u001b[49m\u001b[43m \u001b[49m\u001b[38;5;28;43mself\u001b[39;49m\u001b[38;5;241;43m.\u001b[39;49m\u001b[43mvalues\u001b[49m\u001b[43m,\u001b[49m\u001b[43m \u001b[49m\u001b[43matol\u001b[49m\u001b[38;5;241;43m=\u001b[39;49m\u001b[43matol\u001b[49m\n\u001b[1;32m   1007\u001b[0m \u001b[43m\u001b[49m\u001b[43m)\u001b[49m:\n\u001b[1;32m   1008\u001b[0m     \u001b[38;5;28;01mreturn\u001b[39;00m \u001b[38;5;28;01mFalse\u001b[39;00m\n\u001b[1;32m   1009\u001b[0m \u001b[38;5;28;01melif\u001b[39;00m \u001b[38;5;129;01mnot\u001b[39;00m \u001b[38;5;28mall\u001b[39m(\u001b[38;5;28mself\u001b[39m\u001b[38;5;241m.\u001b[39mcardinality \u001b[38;5;241m==\u001b[39m phi\u001b[38;5;241m.\u001b[39mcardinality):\n",
      "File \u001b[0;32m/Applications/anaconda3/envs/phd/lib/python3.10/site-packages/numpy/core/numeric.py:2241\u001b[0m, in \u001b[0;36mallclose\u001b[0;34m(a, b, rtol, atol, equal_nan)\u001b[0m\n\u001b[1;32m   2170\u001b[0m \u001b[38;5;129m@array_function_dispatch\u001b[39m(_allclose_dispatcher)\n\u001b[1;32m   2171\u001b[0m \u001b[38;5;28;01mdef\u001b[39;00m \u001b[38;5;21mallclose\u001b[39m(a, b, rtol\u001b[38;5;241m=\u001b[39m\u001b[38;5;241m1.e-5\u001b[39m, atol\u001b[38;5;241m=\u001b[39m\u001b[38;5;241m1.e-8\u001b[39m, equal_nan\u001b[38;5;241m=\u001b[39m\u001b[38;5;28;01mFalse\u001b[39;00m):\n\u001b[1;32m   2172\u001b[0m \u001b[38;5;250m    \u001b[39m\u001b[38;5;124;03m\"\"\"\u001b[39;00m\n\u001b[1;32m   2173\u001b[0m \u001b[38;5;124;03m    Returns True if two arrays are element-wise equal within a tolerance.\u001b[39;00m\n\u001b[1;32m   2174\u001b[0m \n\u001b[0;32m   (...)\u001b[0m\n\u001b[1;32m   2239\u001b[0m \n\u001b[1;32m   2240\u001b[0m \u001b[38;5;124;03m    \"\"\"\u001b[39;00m\n\u001b[0;32m-> 2241\u001b[0m     res \u001b[38;5;241m=\u001b[39m \u001b[38;5;28mall\u001b[39m(\u001b[43misclose\u001b[49m\u001b[43m(\u001b[49m\u001b[43ma\u001b[49m\u001b[43m,\u001b[49m\u001b[43m \u001b[49m\u001b[43mb\u001b[49m\u001b[43m,\u001b[49m\u001b[43m \u001b[49m\u001b[43mrtol\u001b[49m\u001b[38;5;241;43m=\u001b[39;49m\u001b[43mrtol\u001b[49m\u001b[43m,\u001b[49m\u001b[43m \u001b[49m\u001b[43matol\u001b[49m\u001b[38;5;241;43m=\u001b[39;49m\u001b[43matol\u001b[49m\u001b[43m,\u001b[49m\u001b[43m \u001b[49m\u001b[43mequal_nan\u001b[49m\u001b[38;5;241;43m=\u001b[39;49m\u001b[43mequal_nan\u001b[49m\u001b[43m)\u001b[49m)\n\u001b[1;32m   2242\u001b[0m     \u001b[38;5;28;01mreturn\u001b[39;00m \u001b[38;5;28mbool\u001b[39m(res)\n",
      "File \u001b[0;32m/Applications/anaconda3/envs/phd/lib/python3.10/site-packages/numpy/core/numeric.py:2351\u001b[0m, in \u001b[0;36misclose\u001b[0;34m(a, b, rtol, atol, equal_nan)\u001b[0m\n\u001b[1;32m   2349\u001b[0m yfin \u001b[38;5;241m=\u001b[39m isfinite(y)\n\u001b[1;32m   2350\u001b[0m \u001b[38;5;28;01mif\u001b[39;00m \u001b[38;5;28mall\u001b[39m(xfin) \u001b[38;5;129;01mand\u001b[39;00m \u001b[38;5;28mall\u001b[39m(yfin):\n\u001b[0;32m-> 2351\u001b[0m     \u001b[38;5;28;01mreturn\u001b[39;00m \u001b[43mwithin_tol\u001b[49m\u001b[43m(\u001b[49m\u001b[43mx\u001b[49m\u001b[43m,\u001b[49m\u001b[43m \u001b[49m\u001b[43my\u001b[49m\u001b[43m,\u001b[49m\u001b[43m \u001b[49m\u001b[43matol\u001b[49m\u001b[43m,\u001b[49m\u001b[43m \u001b[49m\u001b[43mrtol\u001b[49m\u001b[43m)\u001b[49m\n\u001b[1;32m   2352\u001b[0m \u001b[38;5;28;01melse\u001b[39;00m:\n\u001b[1;32m   2353\u001b[0m     finite \u001b[38;5;241m=\u001b[39m xfin \u001b[38;5;241m&\u001b[39m yfin\n",
      "File \u001b[0;32m/Applications/anaconda3/envs/phd/lib/python3.10/site-packages/numpy/core/numeric.py:2332\u001b[0m, in \u001b[0;36misclose.<locals>.within_tol\u001b[0;34m(x, y, atol, rtol)\u001b[0m\n\u001b[1;32m   2330\u001b[0m \u001b[38;5;28;01mdef\u001b[39;00m \u001b[38;5;21mwithin_tol\u001b[39m(x, y, atol, rtol):\n\u001b[1;32m   2331\u001b[0m     \u001b[38;5;28;01mwith\u001b[39;00m errstate(invalid\u001b[38;5;241m=\u001b[39m\u001b[38;5;124m'\u001b[39m\u001b[38;5;124mignore\u001b[39m\u001b[38;5;124m'\u001b[39m), _no_nep50_warning():\n\u001b[0;32m-> 2332\u001b[0m         \u001b[38;5;28;01mreturn\u001b[39;00m less_equal(\u001b[38;5;28;43mabs\u001b[39;49m\u001b[43m(\u001b[49m\u001b[43mx\u001b[49m\u001b[38;5;241;43m-\u001b[39;49m\u001b[43my\u001b[49m\u001b[43m)\u001b[49m, atol \u001b[38;5;241m+\u001b[39m rtol \u001b[38;5;241m*\u001b[39m \u001b[38;5;28mabs\u001b[39m(y))\n",
      "\u001b[0;31mKeyboardInterrupt\u001b[0m: "
     ]
    }
   ],
   "source": [
    "id = \"527\"\n",
    "dftmp, start_idx, end_idx = dh.find_longest_consec_series(df[df.ID == id], n_days=1)\n",
    "\n",
    "\n",
    "ecfev1_noise_model_suffix = \"_std_0.068\"\n",
    "ar_prior = \"breathe (2 days model, ecFEV1 addmultnoise, ecFEF25-75)\"\n",
    "ar_change_cpt_suffix = \"_shape_factor\"\n",
    "\n",
    "(\n",
    "    p_M_given_D,\n",
    "    log_p_D_given_M,\n",
    "    AR_given_M_and_D,\n",
    "    AR_given_M_and_all_D,\n",
    "    res_dict,\n",
    ") = cca_ar_change.run_long_noise_model_through_time(\n",
    "    dftmp,\n",
    "    ar_prior=ar_prior,\n",
    "    ar_change_cpt_suffix=ar_change_cpt_suffix,\n",
    "    ecfev1_noise_model_suffix=ecfev1_noise_model_suffix,\n",
    ")\n",
    "\n",
    "# 5.61 for 4 entries without\n",
    "# 5.40 when removing AR calculations"
   ]
  },
  {
   "cell_type": "code",
   "execution_count": 31,
   "metadata": {},
   "outputs": [],
   "source": [
    "p_S_given_M = [\n",
    "    [\n",
    "        177,\n",
    "        np.array(\n",
    "            [\n",
    "                9.30909107e-01,\n",
    "                6.11579723e-02,\n",
    "                6.64331139e-03,\n",
    "                1.05999387e-03,\n",
    "                2.29614946e-04,\n",
    "            ]\n",
    "        ),\n",
    "    ],\n",
    "    [\n",
    "        180,\n",
    "        np.array(\n",
    "            [\n",
    "                9.89090023e-01,\n",
    "                1.05663301e-02,\n",
    "                3.21210807e-04,\n",
    "                2.02459169e-05,\n",
    "                2.18995184e-06,\n",
    "            ]\n",
    "        ),\n",
    "    ],\n",
    "    [\n",
    "        139,\n",
    "        np.array(\n",
    "            [\n",
    "                9.79577461e-01,\n",
    "                1.95862871e-02,\n",
    "                7.73523038e-04,\n",
    "                5.60533868e-05,\n",
    "                6.67542188e-06,\n",
    "            ]\n",
    "        ),\n",
    "    ],\n",
    "    [\n",
    "        272,\n",
    "        np.array(\n",
    "            [\n",
    "                9.39907334e-01,\n",
    "                5.34324886e-02,\n",
    "                5.65438269e-03,\n",
    "                8.41964226e-04,\n",
    "                1.63830104e-04,\n",
    "            ]\n",
    "        ),\n",
    "    ],\n",
    "    [\n",
    "        146,\n",
    "        np.array(\n",
    "            [\n",
    "                9.99891829e-01,\n",
    "                1.08103981e-04,\n",
    "                6.68738524e-08,\n",
    "                1.79743333e-10,\n",
    "                1.51356715e-12,\n",
    "            ]\n",
    "        ),\n",
    "    ],\n",
    "    [\n",
    "        117,\n",
    "        np.array(\n",
    "            [\n",
    "                9.99988755e-01,\n",
    "                1.12438485e-05,\n",
    "                1.54107847e-09,\n",
    "                1.27624351e-12,\n",
    "                4.11774785e-15,\n",
    "            ]\n",
    "        ),\n",
    "    ],\n",
    "    [\n",
    "        201,\n",
    "        np.array(\n",
    "            [\n",
    "                9.87612956e-25,\n",
    "                7.92815358e-06,\n",
    "                7.37819775e-02,\n",
    "                4.96378968e-01,\n",
    "                4.29831127e-01,\n",
    "            ]\n",
    "        ),\n",
    "    ],\n",
    "]"
   ]
  },
  {
   "cell_type": "code",
   "execution_count": 22,
   "metadata": {},
   "outputs": [
    {
     "data": {
      "text/plain": [
       "7"
      ]
     },
     "execution_count": 22,
     "metadata": {},
     "output_type": "execute_result"
    }
   ],
   "source": [
    "len(p_S_given_M)"
   ]
  },
  {
   "cell_type": "code",
   "execution_count": 45,
   "metadata": {},
   "outputs": [
    {
     "data": {
      "application/vnd.plotly.v1+json": {
       "config": {
        "plotlyServerURL": "https://plot.ly"
       },
       "data": [
        {
         "name": "177 - p(S|D)",
         "type": "histogram",
         "x": [
          0.930909107,
          0.0611579723,
          0.00664331139,
          0.00105999387,
          0.000229614946
         ],
         "xaxis": "x",
         "yaxis": "y"
        },
        {
         "name": "180 - p(S|D)",
         "type": "histogram",
         "x": [
          0.989090023,
          0.0105663301,
          0.000321210807,
          0.0000202459169,
          0.00000218995184
         ],
         "xaxis": "x2",
         "yaxis": "y2"
        },
        {
         "name": "139 - p(S|D)",
         "type": "histogram",
         "x": [
          0.979577461,
          0.0195862871,
          0.000773523038,
          0.0000560533868,
          0.00000667542188
         ],
         "xaxis": "x3",
         "yaxis": "y3"
        },
        {
         "name": "272 - p(S|D)",
         "type": "histogram",
         "x": [
          0.939907334,
          0.0534324886,
          0.00565438269,
          0.000841964226,
          0.000163830104
         ],
         "xaxis": "x4",
         "yaxis": "y4"
        },
        {
         "name": "146 - p(S|D)",
         "type": "histogram",
         "x": [
          0.999891829,
          0.000108103981,
          6.68738524e-8,
          1.79743333e-10,
          1.51356715e-12
         ],
         "xaxis": "x5",
         "yaxis": "y5"
        },
        {
         "name": "117 - p(S|D)",
         "type": "histogram",
         "x": [
          0.999988755,
          0.0000112438485,
          1.54107847e-9,
          1.27624351e-12,
          4.11774785e-15
         ],
         "xaxis": "x6",
         "yaxis": "y6"
        },
        {
         "name": "201 - p(S|D)",
         "type": "histogram",
         "x": [
          9.87612956e-25,
          0.00000792815358,
          0.0737819775,
          0.496378968,
          0.429831127
         ],
         "xaxis": "x7",
         "yaxis": "y7"
        },
        {
         "name": "p(S|all M)",
         "type": "bar",
         "x": [
          2,
          4,
          6,
          8,
          10
         ],
         "xaxis": "x",
         "y": [
          0.00012843475234534983,
          0.9998715543597247,
          1.0887929784096634e-8,
          1.769362123042572e-17,
          2.2602015243520033e-25
         ],
         "yaxis": "y"
        }
       ],
       "layout": {
        "template": {
         "data": {
          "bar": [
           {
            "error_x": {
             "color": "#2a3f5f"
            },
            "error_y": {
             "color": "#2a3f5f"
            },
            "marker": {
             "line": {
              "color": "#E5ECF6",
              "width": 0.5
             },
             "pattern": {
              "fillmode": "overlay",
              "size": 10,
              "solidity": 0.2
             }
            },
            "type": "bar"
           }
          ],
          "barpolar": [
           {
            "marker": {
             "line": {
              "color": "#E5ECF6",
              "width": 0.5
             },
             "pattern": {
              "fillmode": "overlay",
              "size": 10,
              "solidity": 0.2
             }
            },
            "type": "barpolar"
           }
          ],
          "carpet": [
           {
            "aaxis": {
             "endlinecolor": "#2a3f5f",
             "gridcolor": "white",
             "linecolor": "white",
             "minorgridcolor": "white",
             "startlinecolor": "#2a3f5f"
            },
            "baxis": {
             "endlinecolor": "#2a3f5f",
             "gridcolor": "white",
             "linecolor": "white",
             "minorgridcolor": "white",
             "startlinecolor": "#2a3f5f"
            },
            "type": "carpet"
           }
          ],
          "choropleth": [
           {
            "colorbar": {
             "outlinewidth": 0,
             "ticks": ""
            },
            "type": "choropleth"
           }
          ],
          "contour": [
           {
            "colorbar": {
             "outlinewidth": 0,
             "ticks": ""
            },
            "colorscale": [
             [
              0,
              "#0d0887"
             ],
             [
              0.1111111111111111,
              "#46039f"
             ],
             [
              0.2222222222222222,
              "#7201a8"
             ],
             [
              0.3333333333333333,
              "#9c179e"
             ],
             [
              0.4444444444444444,
              "#bd3786"
             ],
             [
              0.5555555555555556,
              "#d8576b"
             ],
             [
              0.6666666666666666,
              "#ed7953"
             ],
             [
              0.7777777777777778,
              "#fb9f3a"
             ],
             [
              0.8888888888888888,
              "#fdca26"
             ],
             [
              1,
              "#f0f921"
             ]
            ],
            "type": "contour"
           }
          ],
          "contourcarpet": [
           {
            "colorbar": {
             "outlinewidth": 0,
             "ticks": ""
            },
            "type": "contourcarpet"
           }
          ],
          "heatmap": [
           {
            "colorbar": {
             "outlinewidth": 0,
             "ticks": ""
            },
            "colorscale": [
             [
              0,
              "#0d0887"
             ],
             [
              0.1111111111111111,
              "#46039f"
             ],
             [
              0.2222222222222222,
              "#7201a8"
             ],
             [
              0.3333333333333333,
              "#9c179e"
             ],
             [
              0.4444444444444444,
              "#bd3786"
             ],
             [
              0.5555555555555556,
              "#d8576b"
             ],
             [
              0.6666666666666666,
              "#ed7953"
             ],
             [
              0.7777777777777778,
              "#fb9f3a"
             ],
             [
              0.8888888888888888,
              "#fdca26"
             ],
             [
              1,
              "#f0f921"
             ]
            ],
            "type": "heatmap"
           }
          ],
          "heatmapgl": [
           {
            "colorbar": {
             "outlinewidth": 0,
             "ticks": ""
            },
            "colorscale": [
             [
              0,
              "#0d0887"
             ],
             [
              0.1111111111111111,
              "#46039f"
             ],
             [
              0.2222222222222222,
              "#7201a8"
             ],
             [
              0.3333333333333333,
              "#9c179e"
             ],
             [
              0.4444444444444444,
              "#bd3786"
             ],
             [
              0.5555555555555556,
              "#d8576b"
             ],
             [
              0.6666666666666666,
              "#ed7953"
             ],
             [
              0.7777777777777778,
              "#fb9f3a"
             ],
             [
              0.8888888888888888,
              "#fdca26"
             ],
             [
              1,
              "#f0f921"
             ]
            ],
            "type": "heatmapgl"
           }
          ],
          "histogram": [
           {
            "marker": {
             "pattern": {
              "fillmode": "overlay",
              "size": 10,
              "solidity": 0.2
             }
            },
            "type": "histogram"
           }
          ],
          "histogram2d": [
           {
            "colorbar": {
             "outlinewidth": 0,
             "ticks": ""
            },
            "colorscale": [
             [
              0,
              "#0d0887"
             ],
             [
              0.1111111111111111,
              "#46039f"
             ],
             [
              0.2222222222222222,
              "#7201a8"
             ],
             [
              0.3333333333333333,
              "#9c179e"
             ],
             [
              0.4444444444444444,
              "#bd3786"
             ],
             [
              0.5555555555555556,
              "#d8576b"
             ],
             [
              0.6666666666666666,
              "#ed7953"
             ],
             [
              0.7777777777777778,
              "#fb9f3a"
             ],
             [
              0.8888888888888888,
              "#fdca26"
             ],
             [
              1,
              "#f0f921"
             ]
            ],
            "type": "histogram2d"
           }
          ],
          "histogram2dcontour": [
           {
            "colorbar": {
             "outlinewidth": 0,
             "ticks": ""
            },
            "colorscale": [
             [
              0,
              "#0d0887"
             ],
             [
              0.1111111111111111,
              "#46039f"
             ],
             [
              0.2222222222222222,
              "#7201a8"
             ],
             [
              0.3333333333333333,
              "#9c179e"
             ],
             [
              0.4444444444444444,
              "#bd3786"
             ],
             [
              0.5555555555555556,
              "#d8576b"
             ],
             [
              0.6666666666666666,
              "#ed7953"
             ],
             [
              0.7777777777777778,
              "#fb9f3a"
             ],
             [
              0.8888888888888888,
              "#fdca26"
             ],
             [
              1,
              "#f0f921"
             ]
            ],
            "type": "histogram2dcontour"
           }
          ],
          "mesh3d": [
           {
            "colorbar": {
             "outlinewidth": 0,
             "ticks": ""
            },
            "type": "mesh3d"
           }
          ],
          "parcoords": [
           {
            "line": {
             "colorbar": {
              "outlinewidth": 0,
              "ticks": ""
             }
            },
            "type": "parcoords"
           }
          ],
          "pie": [
           {
            "automargin": true,
            "type": "pie"
           }
          ],
          "scatter": [
           {
            "fillpattern": {
             "fillmode": "overlay",
             "size": 10,
             "solidity": 0.2
            },
            "type": "scatter"
           }
          ],
          "scatter3d": [
           {
            "line": {
             "colorbar": {
              "outlinewidth": 0,
              "ticks": ""
             }
            },
            "marker": {
             "colorbar": {
              "outlinewidth": 0,
              "ticks": ""
             }
            },
            "type": "scatter3d"
           }
          ],
          "scattercarpet": [
           {
            "marker": {
             "colorbar": {
              "outlinewidth": 0,
              "ticks": ""
             }
            },
            "type": "scattercarpet"
           }
          ],
          "scattergeo": [
           {
            "marker": {
             "colorbar": {
              "outlinewidth": 0,
              "ticks": ""
             }
            },
            "type": "scattergeo"
           }
          ],
          "scattergl": [
           {
            "marker": {
             "colorbar": {
              "outlinewidth": 0,
              "ticks": ""
             }
            },
            "type": "scattergl"
           }
          ],
          "scattermapbox": [
           {
            "marker": {
             "colorbar": {
              "outlinewidth": 0,
              "ticks": ""
             }
            },
            "type": "scattermapbox"
           }
          ],
          "scatterpolar": [
           {
            "marker": {
             "colorbar": {
              "outlinewidth": 0,
              "ticks": ""
             }
            },
            "type": "scatterpolar"
           }
          ],
          "scatterpolargl": [
           {
            "marker": {
             "colorbar": {
              "outlinewidth": 0,
              "ticks": ""
             }
            },
            "type": "scatterpolargl"
           }
          ],
          "scatterternary": [
           {
            "marker": {
             "colorbar": {
              "outlinewidth": 0,
              "ticks": ""
             }
            },
            "type": "scatterternary"
           }
          ],
          "surface": [
           {
            "colorbar": {
             "outlinewidth": 0,
             "ticks": ""
            },
            "colorscale": [
             [
              0,
              "#0d0887"
             ],
             [
              0.1111111111111111,
              "#46039f"
             ],
             [
              0.2222222222222222,
              "#7201a8"
             ],
             [
              0.3333333333333333,
              "#9c179e"
             ],
             [
              0.4444444444444444,
              "#bd3786"
             ],
             [
              0.5555555555555556,
              "#d8576b"
             ],
             [
              0.6666666666666666,
              "#ed7953"
             ],
             [
              0.7777777777777778,
              "#fb9f3a"
             ],
             [
              0.8888888888888888,
              "#fdca26"
             ],
             [
              1,
              "#f0f921"
             ]
            ],
            "type": "surface"
           }
          ],
          "table": [
           {
            "cells": {
             "fill": {
              "color": "#EBF0F8"
             },
             "line": {
              "color": "white"
             }
            },
            "header": {
             "fill": {
              "color": "#C8D4E3"
             },
             "line": {
              "color": "white"
             }
            },
            "type": "table"
           }
          ]
         },
         "layout": {
          "annotationdefaults": {
           "arrowcolor": "#2a3f5f",
           "arrowhead": 0,
           "arrowwidth": 1
          },
          "autotypenumbers": "strict",
          "coloraxis": {
           "colorbar": {
            "outlinewidth": 0,
            "ticks": ""
           }
          },
          "colorscale": {
           "diverging": [
            [
             0,
             "#8e0152"
            ],
            [
             0.1,
             "#c51b7d"
            ],
            [
             0.2,
             "#de77ae"
            ],
            [
             0.3,
             "#f1b6da"
            ],
            [
             0.4,
             "#fde0ef"
            ],
            [
             0.5,
             "#f7f7f7"
            ],
            [
             0.6,
             "#e6f5d0"
            ],
            [
             0.7,
             "#b8e186"
            ],
            [
             0.8,
             "#7fbc41"
            ],
            [
             0.9,
             "#4d9221"
            ],
            [
             1,
             "#276419"
            ]
           ],
           "sequential": [
            [
             0,
             "#0d0887"
            ],
            [
             0.1111111111111111,
             "#46039f"
            ],
            [
             0.2222222222222222,
             "#7201a8"
            ],
            [
             0.3333333333333333,
             "#9c179e"
            ],
            [
             0.4444444444444444,
             "#bd3786"
            ],
            [
             0.5555555555555556,
             "#d8576b"
            ],
            [
             0.6666666666666666,
             "#ed7953"
            ],
            [
             0.7777777777777778,
             "#fb9f3a"
            ],
            [
             0.8888888888888888,
             "#fdca26"
            ],
            [
             1,
             "#f0f921"
            ]
           ],
           "sequentialminus": [
            [
             0,
             "#0d0887"
            ],
            [
             0.1111111111111111,
             "#46039f"
            ],
            [
             0.2222222222222222,
             "#7201a8"
            ],
            [
             0.3333333333333333,
             "#9c179e"
            ],
            [
             0.4444444444444444,
             "#bd3786"
            ],
            [
             0.5555555555555556,
             "#d8576b"
            ],
            [
             0.6666666666666666,
             "#ed7953"
            ],
            [
             0.7777777777777778,
             "#fb9f3a"
            ],
            [
             0.8888888888888888,
             "#fdca26"
            ],
            [
             1,
             "#f0f921"
            ]
           ]
          },
          "colorway": [
           "#636efa",
           "#EF553B",
           "#00cc96",
           "#ab63fa",
           "#FFA15A",
           "#19d3f3",
           "#FF6692",
           "#B6E880",
           "#FF97FF",
           "#FECB52"
          ],
          "font": {
           "color": "#2a3f5f"
          },
          "geo": {
           "bgcolor": "white",
           "lakecolor": "white",
           "landcolor": "#E5ECF6",
           "showlakes": true,
           "showland": true,
           "subunitcolor": "white"
          },
          "hoverlabel": {
           "align": "left"
          },
          "hovermode": "closest",
          "mapbox": {
           "style": "light"
          },
          "paper_bgcolor": "white",
          "plot_bgcolor": "#E5ECF6",
          "polar": {
           "angularaxis": {
            "gridcolor": "white",
            "linecolor": "white",
            "ticks": ""
           },
           "bgcolor": "#E5ECF6",
           "radialaxis": {
            "gridcolor": "white",
            "linecolor": "white",
            "ticks": ""
           }
          },
          "scene": {
           "xaxis": {
            "backgroundcolor": "#E5ECF6",
            "gridcolor": "white",
            "gridwidth": 2,
            "linecolor": "white",
            "showbackground": true,
            "ticks": "",
            "zerolinecolor": "white"
           },
           "yaxis": {
            "backgroundcolor": "#E5ECF6",
            "gridcolor": "white",
            "gridwidth": 2,
            "linecolor": "white",
            "showbackground": true,
            "ticks": "",
            "zerolinecolor": "white"
           },
           "zaxis": {
            "backgroundcolor": "#E5ECF6",
            "gridcolor": "white",
            "gridwidth": 2,
            "linecolor": "white",
            "showbackground": true,
            "ticks": "",
            "zerolinecolor": "white"
           }
          },
          "shapedefaults": {
           "line": {
            "color": "#2a3f5f"
           }
          },
          "ternary": {
           "aaxis": {
            "gridcolor": "white",
            "linecolor": "white",
            "ticks": ""
           },
           "baxis": {
            "gridcolor": "white",
            "linecolor": "white",
            "ticks": ""
           },
           "bgcolor": "#E5ECF6",
           "caxis": {
            "gridcolor": "white",
            "linecolor": "white",
            "ticks": ""
           }
          },
          "title": {
           "x": 0.05
          },
          "xaxis": {
           "automargin": true,
           "gridcolor": "white",
           "linecolor": "white",
           "ticks": "",
           "title": {
            "standoff": 15
           },
           "zerolinecolor": "white",
           "zerolinewidth": 2
          },
          "yaxis": {
           "automargin": true,
           "gridcolor": "white",
           "linecolor": "white",
           "ticks": "",
           "title": {
            "standoff": 15
           },
           "zerolinecolor": "white",
           "zerolinewidth": 2
          }
         }
        },
        "xaxis": {
         "anchor": "y",
         "domain": [
          0,
          1
         ],
         "matches": "x8",
         "showticklabels": false
        },
        "xaxis2": {
         "anchor": "y2",
         "domain": [
          0,
          1
         ],
         "matches": "x8",
         "showticklabels": false
        },
        "xaxis3": {
         "anchor": "y3",
         "domain": [
          0,
          1
         ],
         "matches": "x8",
         "showticklabels": false
        },
        "xaxis4": {
         "anchor": "y4",
         "domain": [
          0,
          1
         ],
         "matches": "x8",
         "showticklabels": false
        },
        "xaxis5": {
         "anchor": "y5",
         "domain": [
          0,
          1
         ],
         "matches": "x8",
         "showticklabels": false
        },
        "xaxis6": {
         "anchor": "y6",
         "domain": [
          0,
          1
         ],
         "matches": "x8",
         "showticklabels": false
        },
        "xaxis7": {
         "anchor": "y7",
         "domain": [
          0,
          1
         ],
         "matches": "x8",
         "showticklabels": false
        },
        "xaxis8": {
         "anchor": "y8",
         "domain": [
          0,
          1
         ]
        },
        "yaxis": {
         "anchor": "x",
         "domain": [
          0.9078124999999999,
          0.9999999999999999
         ]
        },
        "yaxis2": {
         "anchor": "x2",
         "domain": [
          0.778125,
          0.8703124999999999
         ]
        },
        "yaxis3": {
         "anchor": "x3",
         "domain": [
          0.6484375,
          0.740625
         ]
        },
        "yaxis4": {
         "anchor": "x4",
         "domain": [
          0.51875,
          0.6109375
         ]
        },
        "yaxis5": {
         "anchor": "x5",
         "domain": [
          0.38906250000000003,
          0.48125000000000007
         ]
        },
        "yaxis6": {
         "anchor": "x6",
         "domain": [
          0.259375,
          0.3515625
         ]
        },
        "yaxis7": {
         "anchor": "x7",
         "domain": [
          0.1296875,
          0.22187500000000002
         ]
        },
        "yaxis8": {
         "anchor": "x8",
         "domain": [
          0,
          0.0921875
         ]
        }
       }
      }
     },
     "metadata": {},
     "output_type": "display_data"
    }
   ],
   "source": [
    "p_S_given_M\n",
    "S = mh.DiscreteVariableNode(\"AR change factor shape\", 2, 10, 2)\n",
    "\n",
    "fig = make_subplots(rows=len(p_S_given_M) + 1, cols=1, shared_xaxes=True)\n",
    "# fig = make_subplots(1, cols=1, shared_xaxes=True)\n",
    "\n",
    "p_S_given_all_M = np.ones(5)\n",
    "\n",
    "for i, (idx, p_S) in enumerate(p_S_given_M):\n",
    "    p_S_given_all_M *= p_S\n",
    "    p_S_given_all_M = p_S_given_all_M / np.sum(p_S_given_all_M)\n",
    "    fig.add_trace(\n",
    "        # Add histogram\n",
    "        go.Histogram(\n",
    "            x=p_S,\n",
    "            name=f\"{idx} - p(S|D)\",\n",
    "            xbins=dict(\n",
    "                \n",
    "            )\n",
    "        ),\n",
    "        row=i + 1,\n",
    "        col=1\n",
    "    )\n",
    "\n",
    "fig.add_trace(\n",
    "    go.Bar(x=S.values, y=p_S_given_all_M, name=\"p(S|all M)\"),\n",
    "    row=1,\n",
    "    col=1,\n",
    ")\n",
    "fig.show()"
   ]
  },
  {
   "cell_type": "code",
   "execution_count": null,
   "metadata": {},
   "outputs": [],
   "source": []
  }
 ],
 "metadata": {
  "kernelspec": {
   "display_name": "phd",
   "language": "python",
   "name": "python3"
  },
  "language_info": {
   "codemirror_mode": {
    "name": "ipython",
    "version": 3
   },
   "file_extension": ".py",
   "mimetype": "text/x-python",
   "name": "python",
   "nbconvert_exporter": "python",
   "pygments_lexer": "ipython3",
   "version": "3.10.13"
  }
 },
 "nbformat": 4,
 "nbformat_minor": 2
}
