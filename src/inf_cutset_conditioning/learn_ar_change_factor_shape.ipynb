{
    "cells": [
        {
            "cell_type": "code",
            "execution_count": 2,
            "metadata": {},
            "outputs": [],
            "source": [
                "import numpy as np\n",
                "import pandas as pd\n",
                "from plotly.subplots import make_subplots\n",
                "import plotly.graph_objects as go\n",
                "\n",
                "import data.breathe_data as bd\n",
                "import data.helpers as dh\n",
                "import inference.helpers as ih\n",
                "import modelling_ar.ar as ar\n",
                "import inf_cutset_conditioning.helpers as cutseth\n",
                "import inf_cutset_conditioning.cutset_cond_algs_learn_ar_change as cca_ar_change\n",
                "import models.helpers as mh\n",
                "\n",
                "import json\n",
                "import numpy as np"
            ]
        },
        {
            "cell_type": "code",
            "execution_count": 2,
            "metadata": {},
            "outputs": [
                {
                    "name": "stderr",
                    "output_type": "stream",
                    "text": [
                        "INFO:root:* Checking for same day measurements *\n"
                    ]
                }
            ],
            "source": [
                "# Load data\n",
                "df = bd.load_meas_from_excel(\"BR_O2_FEV1_FEF2575_conservative_smoothing_with_idx\")"
            ]
        },
        {
            "cell_type": "code",
            "execution_count": 5,
            "metadata": {},
            "outputs": [
                {
                    "name": "stdout",
                    "output_type": "stream",
                    "text": [
                        "Warning - min_possible_hfev1_under_model: 9\n"
                    ]
                },
                {
                    "ename": "KeyboardInterrupt",
                    "evalue": "",
                    "output_type": "error",
                    "traceback": [
                        "\u001b[0;31m---------------------------------------------------------------------------\u001b[0m",
                        "\u001b[0;31mKeyboardInterrupt\u001b[0m                         Traceback (most recent call last)",
                        "Cell \u001b[0;32mIn[5], line 16\u001b[0m\n\u001b[1;32m      6\u001b[0m ar_prior \u001b[38;5;241m=\u001b[39m \u001b[38;5;124m\"\u001b[39m\u001b[38;5;124mbreathe (2 days model, ecFEV1 addmultnoise, ecFEF25-75)\u001b[39m\u001b[38;5;124m\"\u001b[39m\n\u001b[1;32m      7\u001b[0m ar_change_cpt_suffix \u001b[38;5;241m=\u001b[39m \u001b[38;5;124m\"\u001b[39m\u001b[38;5;124m_shape_factor_single_laplace_card9\u001b[39m\u001b[38;5;124m\"\u001b[39m\n\u001b[1;32m      9\u001b[0m (\n\u001b[1;32m     10\u001b[0m     \u001b[38;5;66;03m# p_M_given_D,\u001b[39;00m\n\u001b[1;32m     11\u001b[0m     \u001b[38;5;66;03m# log_p_D_given_M,\u001b[39;00m\n\u001b[1;32m     12\u001b[0m     \u001b[38;5;66;03m# AR_given_M_and_D,\u001b[39;00m\n\u001b[1;32m     13\u001b[0m     \u001b[38;5;66;03m# AR_given_M_and_all_D,\u001b[39;00m\n\u001b[1;32m     14\u001b[0m     log_p_S_given_D,\n\u001b[1;32m     15\u001b[0m     res_dict,\n\u001b[0;32m---> 16\u001b[0m ) \u001b[38;5;241m=\u001b[39m \u001b[43mcca_ar_change\u001b[49m\u001b[38;5;241;43m.\u001b[39;49m\u001b[43mrun_long_noise_model_through_time\u001b[49m\u001b[43m(\u001b[49m\n\u001b[1;32m     17\u001b[0m \u001b[43m    \u001b[49m\u001b[43mdftmp\u001b[49m\u001b[43m,\u001b[49m\n\u001b[1;32m     18\u001b[0m \u001b[43m    \u001b[49m\u001b[43mar_prior\u001b[49m\u001b[38;5;241;43m=\u001b[39;49m\u001b[43mar_prior\u001b[49m\u001b[43m,\u001b[49m\n\u001b[1;32m     19\u001b[0m \u001b[43m    \u001b[49m\u001b[43mar_change_cpt_suffix\u001b[49m\u001b[38;5;241;43m=\u001b[39;49m\u001b[43mar_change_cpt_suffix\u001b[49m\u001b[43m,\u001b[49m\n\u001b[1;32m     20\u001b[0m \u001b[43m    \u001b[49m\u001b[43mecfev1_noise_model_suffix\u001b[49m\u001b[38;5;241;43m=\u001b[39;49m\u001b[43mecfev1_noise_model_suffix\u001b[49m\u001b[43m,\u001b[49m\n\u001b[1;32m     21\u001b[0m \u001b[43m)\u001b[49m\n",
                        "File \u001b[0;32m~/Desktop/DesktopMacTristan/PhD/Code/phd/src/inf_cutset_conditioning/cutset_cond_algs_learn_ar_change.py:43\u001b[0m, in \u001b[0;36mrun_long_noise_model_through_time\u001b[0;34m(df, ar_prior, ia_prior, ar_change_cpt_suffix, ecfev1_noise_model_suffix, fef2575_cpt_suffix, n_days_consec, debug, save)\u001b[0m\n\u001b[1;32m     23\u001b[0m (\n\u001b[1;32m     24\u001b[0m     inf_alg,\n\u001b[1;32m     25\u001b[0m     HFEV1,\n\u001b[0;32m   (...)\u001b[0m\n\u001b[1;32m     38\u001b[0m     fef2575_cpt_suffix,\n\u001b[1;32m     39\u001b[0m )\n\u001b[1;32m     41\u001b[0m \u001b[38;5;66;03m# Must have both ecfev1 and fef2575 observations\u001b[39;00m\n\u001b[1;32m     42\u001b[0m (p_M_given_D, log_p_D_given_M, AR_given_M_and_D, AR_given_M_and_all_D, res_dict) \u001b[38;5;241m=\u001b[39m (\n\u001b[0;32m---> 43\u001b[0m     \u001b[43mcalc_log_p_D_given_M_and_AR_for_ID_ecfev1_fef2575\u001b[49m\u001b[43m(\u001b[49m\n\u001b[1;32m     44\u001b[0m \u001b[43m        \u001b[49m\u001b[43mdf\u001b[49m\u001b[43m,\u001b[49m\n\u001b[1;32m     45\u001b[0m \u001b[43m        \u001b[49m\u001b[43minf_alg\u001b[49m\u001b[43m,\u001b[49m\n\u001b[1;32m     46\u001b[0m \u001b[43m        \u001b[49m\u001b[43mHFEV1\u001b[49m\u001b[43m,\u001b[49m\n\u001b[1;32m     47\u001b[0m \u001b[43m        \u001b[49m\u001b[43mh_s_obs_states\u001b[49m\u001b[43m,\u001b[49m\n\u001b[1;32m     48\u001b[0m \u001b[43m        \u001b[49m\u001b[43mAR\u001b[49m\u001b[43m,\u001b[49m\n\u001b[1;32m     49\u001b[0m \u001b[43m        \u001b[49m\u001b[43mecFEV1\u001b[49m\u001b[43m,\u001b[49m\n\u001b[1;32m     50\u001b[0m \u001b[43m        \u001b[49m\u001b[43mecFEF2575prctecFEV1\u001b[49m\u001b[43m,\u001b[49m\n\u001b[1;32m     51\u001b[0m \u001b[43m        \u001b[49m\u001b[43mmodel_spec_txt\u001b[49m\u001b[43m,\u001b[49m\n\u001b[1;32m     52\u001b[0m \u001b[43m        \u001b[49m\u001b[43mS\u001b[49m\u001b[43m,\u001b[49m\n\u001b[1;32m     53\u001b[0m \u001b[43m        \u001b[49m\u001b[43mn_days_consec\u001b[49m\u001b[43m,\u001b[49m\n\u001b[1;32m     54\u001b[0m \u001b[43m        \u001b[49m\u001b[43mdebug\u001b[49m\u001b[38;5;241;43m=\u001b[39;49m\u001b[43mdebug\u001b[49m\u001b[43m,\u001b[49m\n\u001b[1;32m     55\u001b[0m \u001b[43m        \u001b[49m\u001b[43msave\u001b[49m\u001b[38;5;241;43m=\u001b[39;49m\u001b[43msave\u001b[49m\u001b[43m,\u001b[49m\n\u001b[1;32m     56\u001b[0m \u001b[43m    \u001b[49m\u001b[43m)\u001b[49m\n\u001b[1;32m     57\u001b[0m )\n\u001b[1;32m     59\u001b[0m \u001b[38;5;66;03m# (log_p_S_given_D, res_dict) = calc_log_p_S_given_D_for_ID_ecfev1_fef2575(\u001b[39;00m\n\u001b[1;32m     60\u001b[0m \u001b[38;5;66;03m#     df,\u001b[39;00m\n\u001b[1;32m     61\u001b[0m \u001b[38;5;66;03m#     inf_alg,\u001b[39;00m\n\u001b[0;32m   (...)\u001b[0m\n\u001b[1;32m     69\u001b[0m \u001b[38;5;66;03m#     debug=debug,\u001b[39;00m\n\u001b[1;32m     70\u001b[0m \u001b[38;5;66;03m# )\u001b[39;00m\n\u001b[1;32m     72\u001b[0m \u001b[38;5;28;01mreturn\u001b[39;00m (\n\u001b[1;32m     73\u001b[0m     p_M_given_D,\n\u001b[1;32m     74\u001b[0m     log_p_D_given_M,\n\u001b[0;32m   (...)\u001b[0m\n\u001b[1;32m     77\u001b[0m     res_dict,\n\u001b[1;32m     78\u001b[0m )\n",
                        "File \u001b[0;32m~/Desktop/DesktopMacTristan/PhD/Code/phd/src/inf_cutset_conditioning/cutset_cond_algs_learn_ar_change.py:399\u001b[0m, in \u001b[0;36mcalc_log_p_D_given_M_and_AR_for_ID_ecfev1_fef2575\u001b[0;34m(df, inf_alg, HFEV1, h_s_obs_states, AR, ecFEV1, ecFEF2575prctecFEV1, model_spec_txt, S, n_days_consec, debug, save)\u001b[0m\n\u001b[1;32m    392\u001b[0m     \u001b[38;5;28;01mif\u001b[39;00m debug:\n\u001b[1;32m    393\u001b[0m         \u001b[38;5;28mprint\u001b[39m(\u001b[38;5;124m\"\u001b[39m\u001b[38;5;124mBoth ecFEV1 and ecFEF25-75 observed\u001b[39m\u001b[38;5;124m\"\u001b[39m)\n\u001b[1;32m    394\u001b[0m     (\n\u001b[1;32m    395\u001b[0m         log_p_D_given_M_for_row,\n\u001b[1;32m    396\u001b[0m         dist_AR,\n\u001b[1;32m    397\u001b[0m         dist_ecFEV1,\n\u001b[1;32m    398\u001b[0m         dist_ecFEF2575prctecFEV1,\n\u001b[0;32m--> 399\u001b[0m     ) \u001b[38;5;241m=\u001b[39m \u001b[43mcca\u001b[49m\u001b[38;5;241;43m.\u001b[39;49m\u001b[43mget_AR_and_p_log_D_given_M_obs_fev1_and_fef2575\u001b[49m\u001b[43m(\u001b[49m\n\u001b[1;32m    400\u001b[0m \u001b[43m        \u001b[49m\u001b[43mrow\u001b[49m\u001b[43m,\u001b[49m\n\u001b[1;32m    401\u001b[0m \u001b[43m        \u001b[49m\u001b[43minf_alg\u001b[49m\u001b[43m,\u001b[49m\n\u001b[1;32m    402\u001b[0m \u001b[43m        \u001b[49m\u001b[43mHFEV1\u001b[49m\u001b[43m,\u001b[49m\n\u001b[1;32m    403\u001b[0m \u001b[43m        \u001b[49m\u001b[43mHFEV1_bin_idx\u001b[49m\u001b[43m,\u001b[49m\n\u001b[1;32m    404\u001b[0m \u001b[43m        \u001b[49m\u001b[43mecFEV1\u001b[49m\u001b[43m,\u001b[49m\n\u001b[1;32m    405\u001b[0m \u001b[43m        \u001b[49m\u001b[43mecFEF2575prctecFEV1\u001b[49m\u001b[43m,\u001b[49m\n\u001b[1;32m    406\u001b[0m \u001b[43m        \u001b[49m\u001b[43mAR\u001b[49m\u001b[43m,\u001b[49m\n\u001b[1;32m    407\u001b[0m \u001b[43m        \u001b[49m\u001b[43mvevidence_ar\u001b[49m\u001b[43m,\u001b[49m\n\u001b[1;32m    408\u001b[0m \u001b[43m        \u001b[49m\u001b[43muniform_from_fef2575\u001b[49m\u001b[43m \u001b[49m\u001b[38;5;241;43m|\u001b[39;49m\u001b[43m \u001b[49m\u001b[43muniform_from_o2_side\u001b[49m\u001b[43m,\u001b[49m\n\u001b[1;32m    409\u001b[0m \u001b[43m        \u001b[49m\u001b[43mm_from_hfev1_dict\u001b[49m\u001b[43m,\u001b[49m\n\u001b[1;32m    410\u001b[0m \u001b[43m        \u001b[49m\u001b[43mm_from_hfev1_key\u001b[49m\u001b[43m,\u001b[49m\n\u001b[1;32m    411\u001b[0m \u001b[43m        \u001b[49m\u001b[43mm_from_fev_factor_dict\u001b[49m\u001b[43m,\u001b[49m\n\u001b[1;32m    412\u001b[0m \u001b[43m        \u001b[49m\u001b[43mm_from_fev_factor_key\u001b[49m\u001b[43m,\u001b[49m\n\u001b[1;32m    413\u001b[0m \u001b[43m    \u001b[49m\u001b[43m)\u001b[49m\n\u001b[1;32m    414\u001b[0m \u001b[38;5;28;01melif\u001b[39;00m \u001b[38;5;129;01mnot\u001b[39;00m np\u001b[38;5;241m.\u001b[39misnan(row[\u001b[38;5;124m\"\u001b[39m\u001b[38;5;124midx ecFEV1 (L)\u001b[39m\u001b[38;5;124m\"\u001b[39m]) \u001b[38;5;129;01mand\u001b[39;00m np\u001b[38;5;241m.\u001b[39misnan(\n\u001b[1;32m    415\u001b[0m     row[\u001b[38;5;124m\"\u001b[39m\u001b[38;5;124midx ecFEF25-75 \u001b[39m\u001b[38;5;132;01m% e\u001b[39;00m\u001b[38;5;124mcFEV1 (\u001b[39m\u001b[38;5;124m%\u001b[39m\u001b[38;5;124m)\u001b[39m\u001b[38;5;124m\"\u001b[39m]\n\u001b[1;32m    416\u001b[0m ):\n\u001b[1;32m    417\u001b[0m     \u001b[38;5;28;01mif\u001b[39;00m debug:\n",
                        "File \u001b[0;32m~/Desktop/DesktopMacTristan/PhD/Code/phd/src/inf_cutset_conditioning/cutset_cond_algs.py:863\u001b[0m, in \u001b[0;36mget_AR_and_p_log_D_given_M_obs_fev1_and_fef2575\u001b[0;34m(data, bp, HFEV1, HFEV1_bin_idx, ecFEV1, ecFEF2575prctecFEV1, AR, vevidence_ar, precomp_messages, m_from_hfev1_dict, m_from_hfev1_key, m_from_fev_factor_dict, m_from_fev_factor_key)\u001b[0m\n\u001b[1;32m    861\u001b[0m     precomp_messages1\u001b[38;5;241m.\u001b[39mupdate(m_from_hfev1_dict[ref])\n\u001b[1;32m    862\u001b[0m     add_ref \u001b[38;5;241m=\u001b[39m \u001b[38;5;28;01mFalse\u001b[39;00m\n\u001b[0;32m--> 863\u001b[0m res1, messages \u001b[38;5;241m=\u001b[39m \u001b[43mbp\u001b[49m\u001b[38;5;241;43m.\u001b[39;49m\u001b[43mquery\u001b[49m\u001b[43m(\u001b[49m\n\u001b[1;32m    864\u001b[0m \u001b[43m    \u001b[49m\u001b[43mvariables\u001b[49m\u001b[38;5;241;43m=\u001b[39;49m\u001b[43m[\u001b[49m\u001b[43mecFEV1\u001b[49m\u001b[38;5;241;43m.\u001b[39;49m\u001b[43mname\u001b[49m\u001b[43m]\u001b[49m\u001b[43m,\u001b[49m\n\u001b[1;32m    865\u001b[0m \u001b[43m    \u001b[49m\u001b[43mevidence\u001b[49m\u001b[38;5;241;43m=\u001b[39;49m\u001b[43m{\u001b[49m\u001b[43mHFEV1\u001b[49m\u001b[38;5;241;43m.\u001b[39;49m\u001b[43mname\u001b[49m\u001b[43m:\u001b[49m\u001b[43m \u001b[49m\u001b[43mHFEV1_bin_idx\u001b[49m\u001b[43m}\u001b[49m\u001b[43m,\u001b[49m\n\u001b[1;32m    866\u001b[0m \u001b[43m    \u001b[49m\u001b[43mvirtual_evidence\u001b[49m\u001b[38;5;241;43m=\u001b[39;49m\u001b[43m[\u001b[49m\u001b[43mvevidence_ar\u001b[49m\u001b[43m]\u001b[49m\u001b[43m,\u001b[49m\n\u001b[1;32m    867\u001b[0m \u001b[43m    \u001b[49m\u001b[43mprecomp_messages\u001b[49m\u001b[38;5;241;43m=\u001b[39;49m\u001b[43mprecomp_messages1\u001b[49m\u001b[43m,\u001b[49m\n\u001b[1;32m    868\u001b[0m \u001b[43m    \u001b[49m\u001b[43mget_messages\u001b[49m\u001b[38;5;241;43m=\u001b[39;49m\u001b[38;5;28;43;01mTrue\u001b[39;49;00m\u001b[43m,\u001b[49m\n\u001b[1;32m    869\u001b[0m \u001b[43m\u001b[49m\u001b[43m)\u001b[49m\n\u001b[1;32m    870\u001b[0m \u001b[38;5;28;01mif\u001b[39;00m add_ref:\n\u001b[1;32m    871\u001b[0m     m_from_hfev1_dict\u001b[38;5;241m.\u001b[39mupdate({ref: {m_from_hfev1_key: messages[m_from_hfev1_key]}})\n",
                        "File \u001b[0;32m~/Desktop/DesktopMacTristan/PhD/Code/pgmpy/pgmpy/inference/ExactInference.py:1533\u001b[0m, in \u001b[0;36mBeliefPropagationWithMessageParsing.query\u001b[0;34m(self, variables, evidence, virtual_evidence, get_messages, precomp_messages)\u001b[0m\n\u001b[1;32m   1521\u001b[0m         \u001b[38;5;28;01mraise\u001b[39;00m \u001b[38;5;167;01mValueError\u001b[39;00m(\n\u001b[1;32m   1522\u001b[0m             \u001b[38;5;124mf\u001b[39m\u001b[38;5;124m\"\u001b[39m\u001b[38;5;124mCan\u001b[39m\u001b[38;5;124m'\u001b[39m\u001b[38;5;124mt have the same variables in both `evidence` and `virtual_evidence`. Found in both: \u001b[39m\u001b[38;5;132;01m{\u001b[39;00mcommon_vars\u001b[38;5;132;01m}\u001b[39;00m\u001b[38;5;124m\"\u001b[39m\n\u001b[1;32m   1523\u001b[0m         )\n\u001b[1;32m   1525\u001b[0m query \u001b[38;5;241m=\u001b[39m \u001b[38;5;28mself\u001b[39m\u001b[38;5;241m.\u001b[39m_RecursiveMessageSchedulingQuery(\n\u001b[1;32m   1526\u001b[0m     \u001b[38;5;28mself\u001b[39m,\n\u001b[1;32m   1527\u001b[0m     variables,\n\u001b[0;32m   (...)\u001b[0m\n\u001b[1;32m   1531\u001b[0m     precomp_messages,\n\u001b[1;32m   1532\u001b[0m )\n\u001b[0;32m-> 1533\u001b[0m \u001b[38;5;28;01mreturn\u001b[39;00m \u001b[43mquery\u001b[49m\u001b[38;5;241;43m.\u001b[39;49m\u001b[43mrun\u001b[49m\u001b[43m(\u001b[49m\u001b[43m)\u001b[49m\n",
                        "File \u001b[0;32m~/Desktop/DesktopMacTristan/PhD/Code/pgmpy/pgmpy/inference/ExactInference.py:1304\u001b[0m, in \u001b[0;36mBeliefPropagationWithMessageParsing._RecursiveMessageSchedulingQuery.run\u001b[0;34m(self)\u001b[0m\n\u001b[1;32m   1302\u001b[0m agg_res \u001b[38;5;241m=\u001b[39m {}\n\u001b[1;32m   1303\u001b[0m \u001b[38;5;28;01mfor\u001b[39;00m variable \u001b[38;5;129;01min\u001b[39;00m \u001b[38;5;28mself\u001b[39m\u001b[38;5;241m.\u001b[39mvariables:\n\u001b[0;32m-> 1304\u001b[0m     res \u001b[38;5;241m=\u001b[39m \u001b[38;5;28;43mself\u001b[39;49m\u001b[38;5;241;43m.\u001b[39;49m\u001b[43mschedule_variable_node_messages\u001b[49m\u001b[43m(\u001b[49m\n\u001b[1;32m   1305\u001b[0m \u001b[43m        \u001b[49m\u001b[43mvariable\u001b[49m\u001b[43m,\u001b[49m\n\u001b[1;32m   1306\u001b[0m \u001b[43m        \u001b[49m\u001b[43mfrom_factor\u001b[49m\u001b[38;5;241;43m=\u001b[39;49m\u001b[38;5;28;43;01mNone\u001b[39;49;00m\u001b[43m,\u001b[49m\n\u001b[1;32m   1307\u001b[0m \u001b[43m    \u001b[49m\u001b[43m)\u001b[49m\n\u001b[1;32m   1308\u001b[0m     agg_res[variable] \u001b[38;5;241m=\u001b[39m DiscreteFactor([variable], [\u001b[38;5;28mlen\u001b[39m(res)], res)\n\u001b[1;32m   1309\u001b[0m \u001b[38;5;28;01mif\u001b[39;00m \u001b[38;5;28mself\u001b[39m\u001b[38;5;241m.\u001b[39mget_messages:\n",
                        "File \u001b[0;32m~/Desktop/DesktopMacTristan/PhD/Code/pgmpy/pgmpy/inference/ExactInference.py:1374\u001b[0m, in \u001b[0;36mBeliefPropagationWithMessageParsing._RecursiveMessageSchedulingQuery.schedule_variable_node_messages\u001b[0;34m(self, variable, from_factor)\u001b[0m\n\u001b[1;32m   1371\u001b[0m         incoming_message \u001b[38;5;241m=\u001b[39m \u001b[38;5;28mself\u001b[39m\u001b[38;5;241m.\u001b[39mall_messages[factor_node_key]\n\u001b[1;32m   1372\u001b[0m     \u001b[38;5;28;01melse\u001b[39;00m:\n\u001b[1;32m   1373\u001b[0m         \u001b[38;5;66;03m# If not compute it and store it\u001b[39;00m\n\u001b[0;32m-> 1374\u001b[0m         incoming_message \u001b[38;5;241m=\u001b[39m \u001b[38;5;28;43mself\u001b[39;49m\u001b[38;5;241;43m.\u001b[39;49m\u001b[43mschedule_factor_node_messages\u001b[49m\u001b[43m(\u001b[49m\n\u001b[1;32m   1375\u001b[0m \u001b[43m            \u001b[49m\u001b[43mfactor\u001b[49m\u001b[43m,\u001b[49m\u001b[43m \u001b[49m\u001b[43mvariable\u001b[49m\n\u001b[1;32m   1376\u001b[0m \u001b[43m        \u001b[49m\u001b[43m)\u001b[49m\n\u001b[1;32m   1377\u001b[0m         \u001b[38;5;28mself\u001b[39m\u001b[38;5;241m.\u001b[39mall_messages[factor_node_key] \u001b[38;5;241m=\u001b[39m incoming_message\n\u001b[1;32m   1378\u001b[0m \u001b[38;5;28;01melse\u001b[39;00m:\n",
                        "File \u001b[0;32m~/Desktop/DesktopMacTristan/PhD/Code/pgmpy/pgmpy/inference/ExactInference.py:1416\u001b[0m, in \u001b[0;36mBeliefPropagationWithMessageParsing._RecursiveMessageSchedulingQuery.schedule_factor_node_messages\u001b[0;34m(self, factor, from_variable)\u001b[0m\n\u001b[1;32m   1413\u001b[0m         incoming_message \u001b[38;5;241m=\u001b[39m \u001b[38;5;28mself\u001b[39m\u001b[38;5;241m.\u001b[39mall_messages[node_factor_key]\n\u001b[1;32m   1414\u001b[0m     \u001b[38;5;28;01melse\u001b[39;00m:\n\u001b[1;32m   1415\u001b[0m         \u001b[38;5;66;03m# If not compute it and store it\u001b[39;00m\n\u001b[0;32m-> 1416\u001b[0m         incoming_message \u001b[38;5;241m=\u001b[39m \u001b[38;5;28;43mself\u001b[39;49m\u001b[38;5;241;43m.\u001b[39;49m\u001b[43mschedule_variable_node_messages\u001b[49m\u001b[43m(\u001b[49m\n\u001b[1;32m   1417\u001b[0m \u001b[43m            \u001b[49m\u001b[43mvar\u001b[49m\u001b[43m,\u001b[49m\u001b[43m \u001b[49m\u001b[43mfactor\u001b[49m\n\u001b[1;32m   1418\u001b[0m \u001b[43m        \u001b[49m\u001b[43m)\u001b[49m\n\u001b[1;32m   1419\u001b[0m         \u001b[38;5;28mself\u001b[39m\u001b[38;5;241m.\u001b[39mall_messages[node_factor_key] \u001b[38;5;241m=\u001b[39m incoming_message\n\u001b[1;32m   1420\u001b[0m \u001b[38;5;28;01melse\u001b[39;00m:\n",
                        "File \u001b[0;32m~/Desktop/DesktopMacTristan/PhD/Code/pgmpy/pgmpy/inference/ExactInference.py:1374\u001b[0m, in \u001b[0;36mBeliefPropagationWithMessageParsing._RecursiveMessageSchedulingQuery.schedule_variable_node_messages\u001b[0;34m(self, variable, from_factor)\u001b[0m\n\u001b[1;32m   1371\u001b[0m         incoming_message \u001b[38;5;241m=\u001b[39m \u001b[38;5;28mself\u001b[39m\u001b[38;5;241m.\u001b[39mall_messages[factor_node_key]\n\u001b[1;32m   1372\u001b[0m     \u001b[38;5;28;01melse\u001b[39;00m:\n\u001b[1;32m   1373\u001b[0m         \u001b[38;5;66;03m# If not compute it and store it\u001b[39;00m\n\u001b[0;32m-> 1374\u001b[0m         incoming_message \u001b[38;5;241m=\u001b[39m \u001b[38;5;28;43mself\u001b[39;49m\u001b[38;5;241;43m.\u001b[39;49m\u001b[43mschedule_factor_node_messages\u001b[49m\u001b[43m(\u001b[49m\n\u001b[1;32m   1375\u001b[0m \u001b[43m            \u001b[49m\u001b[43mfactor\u001b[49m\u001b[43m,\u001b[49m\u001b[43m \u001b[49m\u001b[43mvariable\u001b[49m\n\u001b[1;32m   1376\u001b[0m \u001b[43m        \u001b[49m\u001b[43m)\u001b[49m\n\u001b[1;32m   1377\u001b[0m         \u001b[38;5;28mself\u001b[39m\u001b[38;5;241m.\u001b[39mall_messages[factor_node_key] \u001b[38;5;241m=\u001b[39m incoming_message\n\u001b[1;32m   1378\u001b[0m \u001b[38;5;28;01melse\u001b[39;00m:\n",
                        "File \u001b[0;32m~/Desktop/DesktopMacTristan/PhD/Code/pgmpy/pgmpy/inference/ExactInference.py:1416\u001b[0m, in \u001b[0;36mBeliefPropagationWithMessageParsing._RecursiveMessageSchedulingQuery.schedule_factor_node_messages\u001b[0;34m(self, factor, from_variable)\u001b[0m\n\u001b[1;32m   1413\u001b[0m         incoming_message \u001b[38;5;241m=\u001b[39m \u001b[38;5;28mself\u001b[39m\u001b[38;5;241m.\u001b[39mall_messages[node_factor_key]\n\u001b[1;32m   1414\u001b[0m     \u001b[38;5;28;01melse\u001b[39;00m:\n\u001b[1;32m   1415\u001b[0m         \u001b[38;5;66;03m# If not compute it and store it\u001b[39;00m\n\u001b[0;32m-> 1416\u001b[0m         incoming_message \u001b[38;5;241m=\u001b[39m \u001b[38;5;28;43mself\u001b[39;49m\u001b[38;5;241;43m.\u001b[39;49m\u001b[43mschedule_variable_node_messages\u001b[49m\u001b[43m(\u001b[49m\n\u001b[1;32m   1417\u001b[0m \u001b[43m            \u001b[49m\u001b[43mvar\u001b[49m\u001b[43m,\u001b[49m\u001b[43m \u001b[49m\u001b[43mfactor\u001b[49m\n\u001b[1;32m   1418\u001b[0m \u001b[43m        \u001b[49m\u001b[43m)\u001b[49m\n\u001b[1;32m   1419\u001b[0m         \u001b[38;5;28mself\u001b[39m\u001b[38;5;241m.\u001b[39mall_messages[node_factor_key] \u001b[38;5;241m=\u001b[39m incoming_message\n\u001b[1;32m   1420\u001b[0m \u001b[38;5;28;01melse\u001b[39;00m:\n",
                        "File \u001b[0;32m~/Desktop/DesktopMacTristan/PhD/Code/pgmpy/pgmpy/inference/ExactInference.py:1350\u001b[0m, in \u001b[0;36mBeliefPropagationWithMessageParsing._RecursiveMessageSchedulingQuery.schedule_variable_node_messages\u001b[0;34m(self, variable, from_factor)\u001b[0m\n\u001b[1;32m   1339\u001b[0m \u001b[38;5;28;01mif\u001b[39;00m (\n\u001b[1;32m   1340\u001b[0m     \u001b[38;5;28mself\u001b[39m\u001b[38;5;241m.\u001b[39mvirtual_evidence \u001b[38;5;129;01mis\u001b[39;00m \u001b[38;5;129;01mnot\u001b[39;00m \u001b[38;5;28;01mNone\u001b[39;00m\n\u001b[1;32m   1341\u001b[0m     \u001b[38;5;129;01mand\u001b[39;00m variable\n\u001b[1;32m   1342\u001b[0m     \u001b[38;5;129;01min\u001b[39;00m \u001b[38;5;28mself\u001b[39m\u001b[38;5;241m.\u001b[39mbp\u001b[38;5;241m.\u001b[39m_get_virtual_evidence_var_list(\u001b[38;5;28mself\u001b[39m\u001b[38;5;241m.\u001b[39mvirtual_evidence)\n\u001b[1;32m   1343\u001b[0m ):\n\u001b[1;32m   1344\u001b[0m     virtual_messages \u001b[38;5;241m=\u001b[39m [\n\u001b[1;32m   1345\u001b[0m         cpd\u001b[38;5;241m.\u001b[39mvalues\n\u001b[1;32m   1346\u001b[0m         \u001b[38;5;28;01mfor\u001b[39;00m cpd \u001b[38;5;129;01min\u001b[39;00m \u001b[38;5;28mself\u001b[39m\u001b[38;5;241m.\u001b[39mvirtual_evidence\n\u001b[1;32m   1347\u001b[0m         \u001b[38;5;28;01mif\u001b[39;00m cpd\u001b[38;5;241m.\u001b[39mvariables[\u001b[38;5;241m0\u001b[39m] \u001b[38;5;241m==\u001b[39m variable\n\u001b[1;32m   1348\u001b[0m     ]\n\u001b[0;32m-> 1350\u001b[0m incoming_factors \u001b[38;5;241m=\u001b[39m [\n\u001b[1;32m   1351\u001b[0m     factor\n\u001b[1;32m   1352\u001b[0m     \u001b[38;5;28;01mfor\u001b[39;00m factor \u001b[38;5;129;01min\u001b[39;00m \u001b[38;5;28mlist\u001b[39m(\u001b[38;5;28mself\u001b[39m\u001b[38;5;241m.\u001b[39mbp\u001b[38;5;241m.\u001b[39mmodel\u001b[38;5;241m.\u001b[39mneighbors(variable))\n\u001b[1;32m   1353\u001b[0m     \u001b[38;5;28;01mif\u001b[39;00m factor \u001b[38;5;241m!=\u001b[39m from_factor\n\u001b[1;32m   1354\u001b[0m ]\n\u001b[1;32m   1356\u001b[0m \u001b[38;5;28;01mif\u001b[39;00m \u001b[38;5;28mlen\u001b[39m(incoming_factors) \u001b[38;5;241m==\u001b[39m \u001b[38;5;241m0\u001b[39m:\n\u001b[1;32m   1357\u001b[0m     \u001b[38;5;66;03m# Is an unobserved leaf variable\u001b[39;00m\n\u001b[1;32m   1358\u001b[0m     message \u001b[38;5;241m=\u001b[39m \u001b[38;5;28mself\u001b[39m\u001b[38;5;241m.\u001b[39mbp\u001b[38;5;241m.\u001b[39mmodel\u001b[38;5;241m.\u001b[39mget_uniform_message(variable)\n",
                        "File \u001b[0;32m~/Desktop/DesktopMacTristan/PhD/Code/pgmpy/pgmpy/inference/ExactInference.py:1353\u001b[0m, in \u001b[0;36m<listcomp>\u001b[0;34m(.0)\u001b[0m\n\u001b[1;32m   1339\u001b[0m \u001b[38;5;28;01mif\u001b[39;00m (\n\u001b[1;32m   1340\u001b[0m     \u001b[38;5;28mself\u001b[39m\u001b[38;5;241m.\u001b[39mvirtual_evidence \u001b[38;5;129;01mis\u001b[39;00m \u001b[38;5;129;01mnot\u001b[39;00m \u001b[38;5;28;01mNone\u001b[39;00m\n\u001b[1;32m   1341\u001b[0m     \u001b[38;5;129;01mand\u001b[39;00m variable\n\u001b[1;32m   1342\u001b[0m     \u001b[38;5;129;01min\u001b[39;00m \u001b[38;5;28mself\u001b[39m\u001b[38;5;241m.\u001b[39mbp\u001b[38;5;241m.\u001b[39m_get_virtual_evidence_var_list(\u001b[38;5;28mself\u001b[39m\u001b[38;5;241m.\u001b[39mvirtual_evidence)\n\u001b[1;32m   1343\u001b[0m ):\n\u001b[1;32m   1344\u001b[0m     virtual_messages \u001b[38;5;241m=\u001b[39m [\n\u001b[1;32m   1345\u001b[0m         cpd\u001b[38;5;241m.\u001b[39mvalues\n\u001b[1;32m   1346\u001b[0m         \u001b[38;5;28;01mfor\u001b[39;00m cpd \u001b[38;5;129;01min\u001b[39;00m \u001b[38;5;28mself\u001b[39m\u001b[38;5;241m.\u001b[39mvirtual_evidence\n\u001b[1;32m   1347\u001b[0m         \u001b[38;5;28;01mif\u001b[39;00m cpd\u001b[38;5;241m.\u001b[39mvariables[\u001b[38;5;241m0\u001b[39m] \u001b[38;5;241m==\u001b[39m variable\n\u001b[1;32m   1348\u001b[0m     ]\n\u001b[1;32m   1350\u001b[0m incoming_factors \u001b[38;5;241m=\u001b[39m [\n\u001b[1;32m   1351\u001b[0m     factor\n\u001b[1;32m   1352\u001b[0m     \u001b[38;5;28;01mfor\u001b[39;00m factor \u001b[38;5;129;01min\u001b[39;00m \u001b[38;5;28mlist\u001b[39m(\u001b[38;5;28mself\u001b[39m\u001b[38;5;241m.\u001b[39mbp\u001b[38;5;241m.\u001b[39mmodel\u001b[38;5;241m.\u001b[39mneighbors(variable))\n\u001b[0;32m-> 1353\u001b[0m     \u001b[38;5;28;01mif\u001b[39;00m \u001b[43mfactor\u001b[49m\u001b[43m \u001b[49m\u001b[38;5;241;43m!=\u001b[39;49m\u001b[43m \u001b[49m\u001b[43mfrom_factor\u001b[49m\n\u001b[1;32m   1354\u001b[0m ]\n\u001b[1;32m   1356\u001b[0m \u001b[38;5;28;01mif\u001b[39;00m \u001b[38;5;28mlen\u001b[39m(incoming_factors) \u001b[38;5;241m==\u001b[39m \u001b[38;5;241m0\u001b[39m:\n\u001b[1;32m   1357\u001b[0m     \u001b[38;5;66;03m# Is an unobserved leaf variable\u001b[39;00m\n\u001b[1;32m   1358\u001b[0m     message \u001b[38;5;241m=\u001b[39m \u001b[38;5;28mself\u001b[39m\u001b[38;5;241m.\u001b[39mbp\u001b[38;5;241m.\u001b[39mmodel\u001b[38;5;241m.\u001b[39mget_uniform_message(variable)\n",
                        "File \u001b[0;32m~/Desktop/DesktopMacTristan/PhD/Code/pgmpy/pgmpy/factors/discrete/DiscreteFactor.py:1015\u001b[0m, in \u001b[0;36mDiscreteFactor.__ne__\u001b[0;34m(self, other)\u001b[0m\n\u001b[1;32m   1014\u001b[0m \u001b[38;5;28;01mdef\u001b[39;00m \u001b[38;5;21m__ne__\u001b[39m(\u001b[38;5;28mself\u001b[39m, other):\n\u001b[0;32m-> 1015\u001b[0m     \u001b[38;5;28;01mreturn\u001b[39;00m \u001b[38;5;129;01mnot\u001b[39;00m \u001b[38;5;28;43mself\u001b[39;49m\u001b[38;5;241;43m.\u001b[39;49m\u001b[38;5;21;43m__eq__\u001b[39;49m\u001b[43m(\u001b[49m\u001b[43mother\u001b[49m\u001b[43m)\u001b[49m\n",
                        "File \u001b[0;32m~/Desktop/DesktopMacTristan/PhD/Code/pgmpy/pgmpy/factors/discrete/DiscreteFactor.py:1005\u001b[0m, in \u001b[0;36mDiscreteFactor.__eq__\u001b[0;34m(self, other, atol)\u001b[0m\n\u001b[1;32m   1003\u001b[0m \u001b[38;5;28;01mif\u001b[39;00m phi\u001b[38;5;241m.\u001b[39mvalues\u001b[38;5;241m.\u001b[39mshape \u001b[38;5;241m!=\u001b[39m \u001b[38;5;28mself\u001b[39m\u001b[38;5;241m.\u001b[39mvalues\u001b[38;5;241m.\u001b[39mshape:\n\u001b[1;32m   1004\u001b[0m     \u001b[38;5;28;01mreturn\u001b[39;00m \u001b[38;5;28;01mFalse\u001b[39;00m\n\u001b[0;32m-> 1005\u001b[0m \u001b[38;5;28;01melif\u001b[39;00m \u001b[38;5;129;01mnot\u001b[39;00m \u001b[43mconfig\u001b[49m\u001b[38;5;241;43m.\u001b[39;49m\u001b[43mget_compute_backend\u001b[49m\u001b[43m(\u001b[49m\u001b[43m)\u001b[49m\u001b[38;5;241;43m.\u001b[39;49m\u001b[43mallclose\u001b[49m\u001b[43m(\u001b[49m\n\u001b[1;32m   1006\u001b[0m \u001b[43m    \u001b[49m\u001b[43mphi\u001b[49m\u001b[38;5;241;43m.\u001b[39;49m\u001b[43mvalues\u001b[49m\u001b[43m,\u001b[49m\u001b[43m \u001b[49m\u001b[38;5;28;43mself\u001b[39;49m\u001b[38;5;241;43m.\u001b[39;49m\u001b[43mvalues\u001b[49m\u001b[43m,\u001b[49m\u001b[43m \u001b[49m\u001b[43matol\u001b[49m\u001b[38;5;241;43m=\u001b[39;49m\u001b[43matol\u001b[49m\n\u001b[1;32m   1007\u001b[0m \u001b[43m\u001b[49m\u001b[43m)\u001b[49m:\n\u001b[1;32m   1008\u001b[0m     \u001b[38;5;28;01mreturn\u001b[39;00m \u001b[38;5;28;01mFalse\u001b[39;00m\n\u001b[1;32m   1009\u001b[0m \u001b[38;5;28;01melif\u001b[39;00m \u001b[38;5;129;01mnot\u001b[39;00m \u001b[38;5;28mall\u001b[39m(\u001b[38;5;28mself\u001b[39m\u001b[38;5;241m.\u001b[39mcardinality \u001b[38;5;241m==\u001b[39m phi\u001b[38;5;241m.\u001b[39mcardinality):\n",
                        "File \u001b[0;32m/Applications/anaconda3/envs/phd/lib/python3.10/site-packages/numpy/core/numeric.py:2241\u001b[0m, in \u001b[0;36mallclose\u001b[0;34m(a, b, rtol, atol, equal_nan)\u001b[0m\n\u001b[1;32m   2170\u001b[0m \u001b[38;5;129m@array_function_dispatch\u001b[39m(_allclose_dispatcher)\n\u001b[1;32m   2171\u001b[0m \u001b[38;5;28;01mdef\u001b[39;00m \u001b[38;5;21mallclose\u001b[39m(a, b, rtol\u001b[38;5;241m=\u001b[39m\u001b[38;5;241m1.e-5\u001b[39m, atol\u001b[38;5;241m=\u001b[39m\u001b[38;5;241m1.e-8\u001b[39m, equal_nan\u001b[38;5;241m=\u001b[39m\u001b[38;5;28;01mFalse\u001b[39;00m):\n\u001b[1;32m   2172\u001b[0m \u001b[38;5;250m    \u001b[39m\u001b[38;5;124;03m\"\"\"\u001b[39;00m\n\u001b[1;32m   2173\u001b[0m \u001b[38;5;124;03m    Returns True if two arrays are element-wise equal within a tolerance.\u001b[39;00m\n\u001b[1;32m   2174\u001b[0m \n\u001b[0;32m   (...)\u001b[0m\n\u001b[1;32m   2239\u001b[0m \n\u001b[1;32m   2240\u001b[0m \u001b[38;5;124;03m    \"\"\"\u001b[39;00m\n\u001b[0;32m-> 2241\u001b[0m     res \u001b[38;5;241m=\u001b[39m \u001b[38;5;28mall\u001b[39m(\u001b[43misclose\u001b[49m\u001b[43m(\u001b[49m\u001b[43ma\u001b[49m\u001b[43m,\u001b[49m\u001b[43m \u001b[49m\u001b[43mb\u001b[49m\u001b[43m,\u001b[49m\u001b[43m \u001b[49m\u001b[43mrtol\u001b[49m\u001b[38;5;241;43m=\u001b[39;49m\u001b[43mrtol\u001b[49m\u001b[43m,\u001b[49m\u001b[43m \u001b[49m\u001b[43matol\u001b[49m\u001b[38;5;241;43m=\u001b[39;49m\u001b[43matol\u001b[49m\u001b[43m,\u001b[49m\u001b[43m \u001b[49m\u001b[43mequal_nan\u001b[49m\u001b[38;5;241;43m=\u001b[39;49m\u001b[43mequal_nan\u001b[49m\u001b[43m)\u001b[49m)\n\u001b[1;32m   2242\u001b[0m     \u001b[38;5;28;01mreturn\u001b[39;00m \u001b[38;5;28mbool\u001b[39m(res)\n",
                        "File \u001b[0;32m/Applications/anaconda3/envs/phd/lib/python3.10/site-packages/numpy/core/numeric.py:2351\u001b[0m, in \u001b[0;36misclose\u001b[0;34m(a, b, rtol, atol, equal_nan)\u001b[0m\n\u001b[1;32m   2349\u001b[0m yfin \u001b[38;5;241m=\u001b[39m isfinite(y)\n\u001b[1;32m   2350\u001b[0m \u001b[38;5;28;01mif\u001b[39;00m \u001b[38;5;28mall\u001b[39m(xfin) \u001b[38;5;129;01mand\u001b[39;00m \u001b[38;5;28mall\u001b[39m(yfin):\n\u001b[0;32m-> 2351\u001b[0m     \u001b[38;5;28;01mreturn\u001b[39;00m \u001b[43mwithin_tol\u001b[49m\u001b[43m(\u001b[49m\u001b[43mx\u001b[49m\u001b[43m,\u001b[49m\u001b[43m \u001b[49m\u001b[43my\u001b[49m\u001b[43m,\u001b[49m\u001b[43m \u001b[49m\u001b[43matol\u001b[49m\u001b[43m,\u001b[49m\u001b[43m \u001b[49m\u001b[43mrtol\u001b[49m\u001b[43m)\u001b[49m\n\u001b[1;32m   2352\u001b[0m \u001b[38;5;28;01melse\u001b[39;00m:\n\u001b[1;32m   2353\u001b[0m     finite \u001b[38;5;241m=\u001b[39m xfin \u001b[38;5;241m&\u001b[39m yfin\n",
                        "File \u001b[0;32m/Applications/anaconda3/envs/phd/lib/python3.10/site-packages/numpy/core/numeric.py:2332\u001b[0m, in \u001b[0;36misclose.<locals>.within_tol\u001b[0;34m(x, y, atol, rtol)\u001b[0m\n\u001b[1;32m   2330\u001b[0m \u001b[38;5;28;01mdef\u001b[39;00m \u001b[38;5;21mwithin_tol\u001b[39m(x, y, atol, rtol):\n\u001b[1;32m   2331\u001b[0m     \u001b[38;5;28;01mwith\u001b[39;00m errstate(invalid\u001b[38;5;241m=\u001b[39m\u001b[38;5;124m'\u001b[39m\u001b[38;5;124mignore\u001b[39m\u001b[38;5;124m'\u001b[39m), _no_nep50_warning():\n\u001b[0;32m-> 2332\u001b[0m         \u001b[38;5;28;01mreturn\u001b[39;00m \u001b[43mless_equal\u001b[49m\u001b[43m(\u001b[49m\u001b[38;5;28;43mabs\u001b[39;49m\u001b[43m(\u001b[49m\u001b[43mx\u001b[49m\u001b[38;5;241;43m-\u001b[39;49m\u001b[43my\u001b[49m\u001b[43m)\u001b[49m\u001b[43m,\u001b[49m\u001b[43m \u001b[49m\u001b[43matol\u001b[49m\u001b[43m \u001b[49m\u001b[38;5;241;43m+\u001b[39;49m\u001b[43m \u001b[49m\u001b[43mrtol\u001b[49m\u001b[43m \u001b[49m\u001b[38;5;241;43m*\u001b[39;49m\u001b[43m \u001b[49m\u001b[38;5;28;43mabs\u001b[39;49m\u001b[43m(\u001b[49m\u001b[43my\u001b[49m\u001b[43m)\u001b[49m\u001b[43m)\u001b[49m\n",
                        "\u001b[0;31mKeyboardInterrupt\u001b[0m: "
                    ]
                }
            ],
            "source": [
                "id = \"134\"\n",
                "dftmp, start_idx, end_idx = dh.find_longest_consec_series(df[df.ID == id], n_days=3)\n",
                "\n",
                "\n",
                "ecfev1_noise_model_suffix = \"_std_add_mult_ecfev1\"\n",
                "ar_prior = \"breathe (2 days model, ecFEV1 addmultnoise, ecFEF25-75)\"\n",
                "ar_change_cpt_suffix = \"_shape_factor_single_laplace_card9\"\n",
                "\n",
                "(\n",
                "    # p_M_given_D,\n",
                "    # log_p_D_given_M,\n",
                "    # AR_given_M_and_D,\n",
                "    # AR_given_M_and_all_D,\n",
                "    log_p_S_given_D,\n",
                "    res_dict,\n",
                ") = cca_ar_change.run_long_noise_model_through_time(\n",
                "    dftmp,\n",
                "    ar_prior=ar_prior,\n",
                "    ar_change_cpt_suffix=ar_change_cpt_suffix,\n",
                "    ecfev1_noise_model_suffix=ecfev1_noise_model_suffix,\n",
                ")"
            ]
        },
        {
            "cell_type": "markdown",
            "metadata": {},
            "source": [
                "## Process results"
            ]
        },
        {
            "cell_type": "code",
            "execution_count": 3,
            "metadata": {},
            "outputs": [],
            "source": [
                "def load_and_process_json(card_suffix, params, labels):\n",
                "    path = f\"{dh.get_path_to_src()}inf_cutset_conditioning/p_s_given_d_card{card_suffix}.json\"\n",
                "\n",
                "    # Load the JSON file\n",
                "    with open(path, \"r\") as file:\n",
                "        data = json.load(file)\n",
                "\n",
                "    # Convert lists to NumPy arrays\n",
                "    for key in data:\n",
                "        data[key] = np.array(data[key])\n",
                "\n",
                "    # Replace 'nan' with np.nan and \"-inf\" with -np.inf\n",
                "    for key in data:\n",
                "        data[key][np.where(data[key] == \"-inf\")] = -np.inf\n",
                "\n",
                "    # REmove dtypes from data\n",
                "    data = {key: data[key].astype(float) for key in data}\n",
                "\n",
                "    # Remove entries with only nan values\n",
                "    data = {key: data[key] for key in data if not np.all(np.isnan(data[key]))}\n",
                "\n",
                "    log_p_s_given_D = np.sum(list(data.values()), axis=0)\n",
                "\n",
                "    df_heatmap = pd.DataFrame(\n",
                "        columns=[\"log_p_S_given_D\", \"params\"], data=zip(log_p_s_given_D, params)\n",
                "    )\n",
                "\n",
                "    # Split params into three columns \"main width\", \"tail width\", \"main weight\"\n",
                "    df_heatmap[labels] = pd.DataFrame(\n",
                "        df_heatmap[\"params\"].tolist(), index=df_heatmap.index\n",
                "    )\n",
                "    return df_heatmap, data"
            ]
        },
        {
            "cell_type": "code",
            "execution_count": 23,
            "metadata": {},
            "outputs": [],
            "source": [
                "params = [\n",
                "    (1, 10, 0.5),\n",
                "    (1, 10, 0.7),\n",
                "    (1, 10, 0.9),\n",
                "    (1, 30, 0.5),\n",
                "    (1, 30, 0.7),\n",
                "    (1, 30, 0.9),\n",
                "    (1, 50, 0.5),\n",
                "    (1, 50, 0.7),\n",
                "    (1, 50, 0.9),\n",
                "    (3, 10, 0.5),\n",
                "    (3, 10, 0.7),\n",
                "    (3, 10, 0.9),\n",
                "    (3, 30, 0.5),\n",
                "    (3, 30, 0.7),\n",
                "    (3, 30, 0.9),\n",
                "    (3, 50, 0.5),\n",
                "    (3, 50, 0.7),\n",
                "    (3, 50, 0.9),\n",
                "    (5, 10, 0.5),\n",
                "    (5, 10, 0.7),\n",
                "    (5, 10, 0.9),\n",
                "    (5, 30, 0.5),\n",
                "    (5, 30, 0.7),\n",
                "    (5, 30, 0.9),\n",
                "    (5, 50, 0.5),\n",
                "    (5, 50, 0.7),\n",
                "    (5, 50, 0.9),\n",
                "]\n",
                "labels = [\"main width\", \"tail width\", \"main weight\"]\n",
                "df_heatmap, IDs = load_and_process_json(27, params, labels)"
            ]
        },
        {
            "cell_type": "code",
            "execution_count": 6,
            "metadata": {},
            "outputs": [],
            "source": [
                "# Plot heatmap with main width on x axis, tail width on y axis and log_p_S_given_D as the color, just use the first 3 main weights\n",
                "\n",
                "\n",
                "def add_heatmap_for_weight(fig, df, weight, col):\n",
                "    df = df[df[\"main weight\"] == weight]\n",
                "    fig.add_trace(\n",
                "        go.Heatmap(z=df[\"log_p_S_given_D\"], x=df[\"main width\"], y=df[\"tail width\"]),\n",
                "        row=1,\n",
                "        col=col,\n",
                "    )\n",
                "    fig.update_xaxes(\n",
                "        type=\"category\",\n",
                "        row=1,\n",
                "        col=col,\n",
                "        title=\"Main width<br><br>Main weight=\" + str(weight),\n",
                "    )\n",
                "    return fig\n",
                "\n",
                "\n",
                "def plot_3_3_heatmaps(df_heatmap, IDs, w1, w2, w3):\n",
                "    fig = make_subplots(1, 3)\n",
                "\n",
                "    fig = add_heatmap_for_weight(fig, df_heatmap, w1, 1)\n",
                "    fig = add_heatmap_for_weight(fig, df_heatmap, w2, 2)\n",
                "    fig = add_heatmap_for_weight(fig, df_heatmap, w3, 3)\n",
                "\n",
                "    fig.update_layout(\n",
                "        title=f\"Log probability of S given D for different AR change parameters ({len(IDs)} IDs)\",\n",
                "        yaxis_title=\"Tail width\",\n",
                "        # yaxis_type='log',\n",
                "        width=650,\n",
                "        height=300,\n",
                "        font_size=10,\n",
                "    )\n",
                "    # Recude font size of the subplot titles\n",
                "    for annotation in fig[\"layout\"][\"annotations\"]:\n",
                "        annotation[\"font\"] = dict(size=14)\n",
                "    # use the same color scale for all subplots\n",
                "    fig.update_traces(\n",
                "        zmin=min(df_heatmap.log_p_S_given_D[df_heatmap.log_p_S_given_D != -np.inf]),\n",
                "        zmax=max(df_heatmap.log_p_S_given_D),\n",
                "        colorbar=dict(title=\"log_p_S_given_D\"),\n",
                "    )\n",
                "    # X axis and y axis are categorical\n",
                "    fig.update_yaxes(type=\"category\")\n",
                "\n",
                "    fig.show()"
            ]
        },
        {
            "cell_type": "code",
            "execution_count": null,
            "metadata": {},
            "outputs": [],
            "source": [
                "plot_3_3_heatmaps(df_heatmap, IDs, 0.5, 0.7, 0.9)"
            ]
        },
        {
            "cell_type": "code",
            "execution_count": null,
            "metadata": {},
            "outputs": [
                {
                    "data": {
                        "text/html": [
                            "<div>\n",
                            "<style scoped>\n",
                            "    .dataframe tbody tr th:only-of-type {\n",
                            "        vertical-align: middle;\n",
                            "    }\n",
                            "\n",
                            "    .dataframe tbody tr th {\n",
                            "        vertical-align: top;\n",
                            "    }\n",
                            "\n",
                            "    .dataframe thead th {\n",
                            "        text-align: right;\n",
                            "    }\n",
                            "</style>\n",
                            "<table border=\"1\" class=\"dataframe\">\n",
                            "  <thead>\n",
                            "    <tr style=\"text-align: right;\">\n",
                            "      <th></th>\n",
                            "      <th>log_p_S_given_D</th>\n",
                            "      <th>params</th>\n",
                            "      <th>main width</th>\n",
                            "      <th>tail width</th>\n",
                            "      <th>main weight</th>\n",
                            "    </tr>\n",
                            "  </thead>\n",
                            "  <tbody>\n",
                            "    <tr>\n",
                            "      <th>0</th>\n",
                            "      <td>-3.990078e+06</td>\n",
                            "      <td>(1, 10, 0.7)</td>\n",
                            "      <td>1</td>\n",
                            "      <td>10</td>\n",
                            "      <td>0.70</td>\n",
                            "    </tr>\n",
                            "    <tr>\n",
                            "      <th>1</th>\n",
                            "      <td>-3.989833e+06</td>\n",
                            "      <td>(1, 10, 0.73)</td>\n",
                            "      <td>1</td>\n",
                            "      <td>10</td>\n",
                            "      <td>0.73</td>\n",
                            "    </tr>\n",
                            "    <tr>\n",
                            "      <th>2</th>\n",
                            "      <td>-3.989596e+06</td>\n",
                            "      <td>(1, 10, 0.76)</td>\n",
                            "      <td>1</td>\n",
                            "      <td>10</td>\n",
                            "      <td>0.76</td>\n",
                            "    </tr>\n",
                            "    <tr>\n",
                            "      <th>3</th>\n",
                            "      <td>-3.989375e+06</td>\n",
                            "      <td>(1, 10, 0.79)</td>\n",
                            "      <td>1</td>\n",
                            "      <td>10</td>\n",
                            "      <td>0.79</td>\n",
                            "    </tr>\n",
                            "    <tr>\n",
                            "      <th>4</th>\n",
                            "      <td>-3.989233e+06</td>\n",
                            "      <td>(1, 10, 0.81)</td>\n",
                            "      <td>1</td>\n",
                            "      <td>10</td>\n",
                            "      <td>0.81</td>\n",
                            "    </tr>\n",
                            "    <tr>\n",
                            "      <th>5</th>\n",
                            "      <td>-3.989029e+06</td>\n",
                            "      <td>(1, 10, 0.84)</td>\n",
                            "      <td>1</td>\n",
                            "      <td>10</td>\n",
                            "      <td>0.84</td>\n",
                            "    </tr>\n",
                            "    <tr>\n",
                            "      <th>6</th>\n",
                            "      <td>-3.988834e+06</td>\n",
                            "      <td>(1, 10, 0.87)</td>\n",
                            "      <td>1</td>\n",
                            "      <td>10</td>\n",
                            "      <td>0.87</td>\n",
                            "    </tr>\n",
                            "    <tr>\n",
                            "      <th>7</th>\n",
                            "      <td>-3.988648e+06</td>\n",
                            "      <td>(1, 10, 0.9)</td>\n",
                            "      <td>1</td>\n",
                            "      <td>10</td>\n",
                            "      <td>0.90</td>\n",
                            "    </tr>\n",
                            "    <tr>\n",
                            "      <th>8</th>\n",
                            "      <td>-3.988472e+06</td>\n",
                            "      <td>(1, 10, 0.93)</td>\n",
                            "      <td>1</td>\n",
                            "      <td>10</td>\n",
                            "      <td>0.93</td>\n",
                            "    </tr>\n",
                            "    <tr>\n",
                            "      <th>9</th>\n",
                            "      <td>-3.988306e+06</td>\n",
                            "      <td>(1, 10, 0.96)</td>\n",
                            "      <td>1</td>\n",
                            "      <td>10</td>\n",
                            "      <td>0.96</td>\n",
                            "    </tr>\n",
                            "    <tr>\n",
                            "      <th>10</th>\n",
                            "      <td>-3.988159e+06</td>\n",
                            "      <td>(1, 10, 0.99)</td>\n",
                            "      <td>1</td>\n",
                            "      <td>10</td>\n",
                            "      <td>0.99</td>\n",
                            "    </tr>\n",
                            "  </tbody>\n",
                            "</table>\n",
                            "</div>"
                        ],
                        "text/plain": [
                            "    log_p_S_given_D         params  main width  tail width  main weight\n",
                            "0     -3.990078e+06   (1, 10, 0.7)           1          10         0.70\n",
                            "1     -3.989833e+06  (1, 10, 0.73)           1          10         0.73\n",
                            "2     -3.989596e+06  (1, 10, 0.76)           1          10         0.76\n",
                            "3     -3.989375e+06  (1, 10, 0.79)           1          10         0.79\n",
                            "4     -3.989233e+06  (1, 10, 0.81)           1          10         0.81\n",
                            "5     -3.989029e+06  (1, 10, 0.84)           1          10         0.84\n",
                            "6     -3.988834e+06  (1, 10, 0.87)           1          10         0.87\n",
                            "7     -3.988648e+06   (1, 10, 0.9)           1          10         0.90\n",
                            "8     -3.988472e+06  (1, 10, 0.93)           1          10         0.93\n",
                            "9     -3.988306e+06  (1, 10, 0.96)           1          10         0.96\n",
                            "10    -3.988159e+06  (1, 10, 0.99)           1          10         0.99"
                        ]
                    },
                    "execution_count": 37,
                    "metadata": {},
                    "output_type": "execute_result"
                }
            ],
            "source": [
                "params = [\n",
                "    (1, 10, 0.7),\n",
                "    (1, 10, 0.73),\n",
                "    (1, 10, 0.76),\n",
                "    (1, 10, 0.79),\n",
                "    (1, 10, 0.81),\n",
                "    (1, 10, 0.84),\n",
                "    (1, 10, 0.87),\n",
                "    (1, 10, 0.9),\n",
                "    (1, 10, 0.93),\n",
                "    (1, 10, 0.96),\n",
                "    (1, 10, 0.99),\n",
                "]\n",
                "\n",
                "df_heatmap, IDs = load_and_process_json(11, params, labels)\n",
                "df_heatmap"
            ]
        },
        {
            "cell_type": "code",
            "execution_count": 11,
            "metadata": {},
            "outputs": [
                {
                    "data": {
                        "application/vnd.plotly.v1+json": {
                            "config": {
                                "plotlyServerURL": "https://plot.ly"
                            },
                            "data": [
                                {
                                    "colorbar": {
                                        "title": {
                                            "text": "log_p_S_given_D"
                                        }
                                    },
                                    "type": "heatmap",
                                    "x": [
                                        0.2,
                                        0.2,
                                        0.2,
                                        0.4,
                                        0.4,
                                        0.4,
                                        1,
                                        1,
                                        1
                                    ],
                                    "xaxis": "x",
                                    "y": [
                                        1,
                                        4,
                                        10,
                                        1,
                                        4,
                                        10,
                                        1,
                                        4,
                                        10
                                    ],
                                    "yaxis": "y",
                                    "z": [
                                        -4123669.25548836,
                                        -4123899.5774279283,
                                        -4123949.9076312,
                                        -4124058.1413408164,
                                        -4124324.553155371,
                                        -4124396.0912070903,
                                        null,
                                        null,
                                        null
                                    ],
                                    "zmax": -4123506.359467919,
                                    "zmin": -4124396.0912070903
                                },
                                {
                                    "colorbar": {
                                        "title": {
                                            "text": "log_p_S_given_D"
                                        }
                                    },
                                    "type": "heatmap",
                                    "x": [
                                        0.2,
                                        0.2,
                                        0.2,
                                        0.4,
                                        0.4,
                                        0.4,
                                        1,
                                        1,
                                        1
                                    ],
                                    "xaxis": "x2",
                                    "y": [
                                        1,
                                        4,
                                        10,
                                        1,
                                        4,
                                        10,
                                        1,
                                        4,
                                        10
                                    ],
                                    "yaxis": "y2",
                                    "z": [
                                        -4123587.3294044416,
                                        -4123682.5184137733,
                                        -4123681.998368149,
                                        -4123994.1300493516,
                                        -4124110.0772948693,
                                        -4124121.2755078506,
                                        null,
                                        null,
                                        null
                                    ],
                                    "zmax": -4123506.359467919,
                                    "zmin": -4124396.0912070903
                                },
                                {
                                    "colorbar": {
                                        "title": {
                                            "text": "log_p_S_given_D"
                                        }
                                    },
                                    "type": "heatmap",
                                    "x": [
                                        0.2,
                                        0.2,
                                        0.2,
                                        0.4,
                                        0.4,
                                        0.4,
                                        1,
                                        1,
                                        1
                                    ],
                                    "xaxis": "x3",
                                    "y": [
                                        1,
                                        4,
                                        10,
                                        1,
                                        4,
                                        10,
                                        1,
                                        4,
                                        10
                                    ],
                                    "yaxis": "y3",
                                    "z": [
                                        -4123506.359467919,
                                        -4123506.359467919,
                                        -4123506.359467919,
                                        -4123930.7227471406,
                                        -4123930.7227471406,
                                        -4123930.7227471406,
                                        null,
                                        null,
                                        null
                                    ],
                                    "zmax": -4123506.359467919,
                                    "zmin": -4124396.0912070903
                                }
                            ],
                            "layout": {
                                "font": {
                                    "size": 10
                                },
                                "height": 300,
                                "template": {
                                    "data": {
                                        "bar": [
                                            {
                                                "error_x": {
                                                    "color": "#2a3f5f"
                                                },
                                                "error_y": {
                                                    "color": "#2a3f5f"
                                                },
                                                "marker": {
                                                    "line": {
                                                        "color": "#E5ECF6",
                                                        "width": 0.5
                                                    },
                                                    "pattern": {
                                                        "fillmode": "overlay",
                                                        "size": 10,
                                                        "solidity": 0.2
                                                    }
                                                },
                                                "type": "bar"
                                            }
                                        ],
                                        "barpolar": [
                                            {
                                                "marker": {
                                                    "line": {
                                                        "color": "#E5ECF6",
                                                        "width": 0.5
                                                    },
                                                    "pattern": {
                                                        "fillmode": "overlay",
                                                        "size": 10,
                                                        "solidity": 0.2
                                                    }
                                                },
                                                "type": "barpolar"
                                            }
                                        ],
                                        "carpet": [
                                            {
                                                "aaxis": {
                                                    "endlinecolor": "#2a3f5f",
                                                    "gridcolor": "white",
                                                    "linecolor": "white",
                                                    "minorgridcolor": "white",
                                                    "startlinecolor": "#2a3f5f"
                                                },
                                                "baxis": {
                                                    "endlinecolor": "#2a3f5f",
                                                    "gridcolor": "white",
                                                    "linecolor": "white",
                                                    "minorgridcolor": "white",
                                                    "startlinecolor": "#2a3f5f"
                                                },
                                                "type": "carpet"
                                            }
                                        ],
                                        "choropleth": [
                                            {
                                                "colorbar": {
                                                    "outlinewidth": 0,
                                                    "ticks": ""
                                                },
                                                "type": "choropleth"
                                            }
                                        ],
                                        "contour": [
                                            {
                                                "colorbar": {
                                                    "outlinewidth": 0,
                                                    "ticks": ""
                                                },
                                                "colorscale": [
                                                    [
                                                        0,
                                                        "#0d0887"
                                                    ],
                                                    [
                                                        0.1111111111111111,
                                                        "#46039f"
                                                    ],
                                                    [
                                                        0.2222222222222222,
                                                        "#7201a8"
                                                    ],
                                                    [
                                                        0.3333333333333333,
                                                        "#9c179e"
                                                    ],
                                                    [
                                                        0.4444444444444444,
                                                        "#bd3786"
                                                    ],
                                                    [
                                                        0.5555555555555556,
                                                        "#d8576b"
                                                    ],
                                                    [
                                                        0.6666666666666666,
                                                        "#ed7953"
                                                    ],
                                                    [
                                                        0.7777777777777778,
                                                        "#fb9f3a"
                                                    ],
                                                    [
                                                        0.8888888888888888,
                                                        "#fdca26"
                                                    ],
                                                    [
                                                        1,
                                                        "#f0f921"
                                                    ]
                                                ],
                                                "type": "contour"
                                            }
                                        ],
                                        "contourcarpet": [
                                            {
                                                "colorbar": {
                                                    "outlinewidth": 0,
                                                    "ticks": ""
                                                },
                                                "type": "contourcarpet"
                                            }
                                        ],
                                        "heatmap": [
                                            {
                                                "colorbar": {
                                                    "outlinewidth": 0,
                                                    "ticks": ""
                                                },
                                                "colorscale": [
                                                    [
                                                        0,
                                                        "#0d0887"
                                                    ],
                                                    [
                                                        0.1111111111111111,
                                                        "#46039f"
                                                    ],
                                                    [
                                                        0.2222222222222222,
                                                        "#7201a8"
                                                    ],
                                                    [
                                                        0.3333333333333333,
                                                        "#9c179e"
                                                    ],
                                                    [
                                                        0.4444444444444444,
                                                        "#bd3786"
                                                    ],
                                                    [
                                                        0.5555555555555556,
                                                        "#d8576b"
                                                    ],
                                                    [
                                                        0.6666666666666666,
                                                        "#ed7953"
                                                    ],
                                                    [
                                                        0.7777777777777778,
                                                        "#fb9f3a"
                                                    ],
                                                    [
                                                        0.8888888888888888,
                                                        "#fdca26"
                                                    ],
                                                    [
                                                        1,
                                                        "#f0f921"
                                                    ]
                                                ],
                                                "type": "heatmap"
                                            }
                                        ],
                                        "heatmapgl": [
                                            {
                                                "colorbar": {
                                                    "outlinewidth": 0,
                                                    "ticks": ""
                                                },
                                                "colorscale": [
                                                    [
                                                        0,
                                                        "#0d0887"
                                                    ],
                                                    [
                                                        0.1111111111111111,
                                                        "#46039f"
                                                    ],
                                                    [
                                                        0.2222222222222222,
                                                        "#7201a8"
                                                    ],
                                                    [
                                                        0.3333333333333333,
                                                        "#9c179e"
                                                    ],
                                                    [
                                                        0.4444444444444444,
                                                        "#bd3786"
                                                    ],
                                                    [
                                                        0.5555555555555556,
                                                        "#d8576b"
                                                    ],
                                                    [
                                                        0.6666666666666666,
                                                        "#ed7953"
                                                    ],
                                                    [
                                                        0.7777777777777778,
                                                        "#fb9f3a"
                                                    ],
                                                    [
                                                        0.8888888888888888,
                                                        "#fdca26"
                                                    ],
                                                    [
                                                        1,
                                                        "#f0f921"
                                                    ]
                                                ],
                                                "type": "heatmapgl"
                                            }
                                        ],
                                        "histogram": [
                                            {
                                                "marker": {
                                                    "pattern": {
                                                        "fillmode": "overlay",
                                                        "size": 10,
                                                        "solidity": 0.2
                                                    }
                                                },
                                                "type": "histogram"
                                            }
                                        ],
                                        "histogram2d": [
                                            {
                                                "colorbar": {
                                                    "outlinewidth": 0,
                                                    "ticks": ""
                                                },
                                                "colorscale": [
                                                    [
                                                        0,
                                                        "#0d0887"
                                                    ],
                                                    [
                                                        0.1111111111111111,
                                                        "#46039f"
                                                    ],
                                                    [
                                                        0.2222222222222222,
                                                        "#7201a8"
                                                    ],
                                                    [
                                                        0.3333333333333333,
                                                        "#9c179e"
                                                    ],
                                                    [
                                                        0.4444444444444444,
                                                        "#bd3786"
                                                    ],
                                                    [
                                                        0.5555555555555556,
                                                        "#d8576b"
                                                    ],
                                                    [
                                                        0.6666666666666666,
                                                        "#ed7953"
                                                    ],
                                                    [
                                                        0.7777777777777778,
                                                        "#fb9f3a"
                                                    ],
                                                    [
                                                        0.8888888888888888,
                                                        "#fdca26"
                                                    ],
                                                    [
                                                        1,
                                                        "#f0f921"
                                                    ]
                                                ],
                                                "type": "histogram2d"
                                            }
                                        ],
                                        "histogram2dcontour": [
                                            {
                                                "colorbar": {
                                                    "outlinewidth": 0,
                                                    "ticks": ""
                                                },
                                                "colorscale": [
                                                    [
                                                        0,
                                                        "#0d0887"
                                                    ],
                                                    [
                                                        0.1111111111111111,
                                                        "#46039f"
                                                    ],
                                                    [
                                                        0.2222222222222222,
                                                        "#7201a8"
                                                    ],
                                                    [
                                                        0.3333333333333333,
                                                        "#9c179e"
                                                    ],
                                                    [
                                                        0.4444444444444444,
                                                        "#bd3786"
                                                    ],
                                                    [
                                                        0.5555555555555556,
                                                        "#d8576b"
                                                    ],
                                                    [
                                                        0.6666666666666666,
                                                        "#ed7953"
                                                    ],
                                                    [
                                                        0.7777777777777778,
                                                        "#fb9f3a"
                                                    ],
                                                    [
                                                        0.8888888888888888,
                                                        "#fdca26"
                                                    ],
                                                    [
                                                        1,
                                                        "#f0f921"
                                                    ]
                                                ],
                                                "type": "histogram2dcontour"
                                            }
                                        ],
                                        "mesh3d": [
                                            {
                                                "colorbar": {
                                                    "outlinewidth": 0,
                                                    "ticks": ""
                                                },
                                                "type": "mesh3d"
                                            }
                                        ],
                                        "parcoords": [
                                            {
                                                "line": {
                                                    "colorbar": {
                                                        "outlinewidth": 0,
                                                        "ticks": ""
                                                    }
                                                },
                                                "type": "parcoords"
                                            }
                                        ],
                                        "pie": [
                                            {
                                                "automargin": true,
                                                "type": "pie"
                                            }
                                        ],
                                        "scatter": [
                                            {
                                                "fillpattern": {
                                                    "fillmode": "overlay",
                                                    "size": 10,
                                                    "solidity": 0.2
                                                },
                                                "type": "scatter"
                                            }
                                        ],
                                        "scatter3d": [
                                            {
                                                "line": {
                                                    "colorbar": {
                                                        "outlinewidth": 0,
                                                        "ticks": ""
                                                    }
                                                },
                                                "marker": {
                                                    "colorbar": {
                                                        "outlinewidth": 0,
                                                        "ticks": ""
                                                    }
                                                },
                                                "type": "scatter3d"
                                            }
                                        ],
                                        "scattercarpet": [
                                            {
                                                "marker": {
                                                    "colorbar": {
                                                        "outlinewidth": 0,
                                                        "ticks": ""
                                                    }
                                                },
                                                "type": "scattercarpet"
                                            }
                                        ],
                                        "scattergeo": [
                                            {
                                                "marker": {
                                                    "colorbar": {
                                                        "outlinewidth": 0,
                                                        "ticks": ""
                                                    }
                                                },
                                                "type": "scattergeo"
                                            }
                                        ],
                                        "scattergl": [
                                            {
                                                "marker": {
                                                    "colorbar": {
                                                        "outlinewidth": 0,
                                                        "ticks": ""
                                                    }
                                                },
                                                "type": "scattergl"
                                            }
                                        ],
                                        "scattermapbox": [
                                            {
                                                "marker": {
                                                    "colorbar": {
                                                        "outlinewidth": 0,
                                                        "ticks": ""
                                                    }
                                                },
                                                "type": "scattermapbox"
                                            }
                                        ],
                                        "scatterpolar": [
                                            {
                                                "marker": {
                                                    "colorbar": {
                                                        "outlinewidth": 0,
                                                        "ticks": ""
                                                    }
                                                },
                                                "type": "scatterpolar"
                                            }
                                        ],
                                        "scatterpolargl": [
                                            {
                                                "marker": {
                                                    "colorbar": {
                                                        "outlinewidth": 0,
                                                        "ticks": ""
                                                    }
                                                },
                                                "type": "scatterpolargl"
                                            }
                                        ],
                                        "scatterternary": [
                                            {
                                                "marker": {
                                                    "colorbar": {
                                                        "outlinewidth": 0,
                                                        "ticks": ""
                                                    }
                                                },
                                                "type": "scatterternary"
                                            }
                                        ],
                                        "surface": [
                                            {
                                                "colorbar": {
                                                    "outlinewidth": 0,
                                                    "ticks": ""
                                                },
                                                "colorscale": [
                                                    [
                                                        0,
                                                        "#0d0887"
                                                    ],
                                                    [
                                                        0.1111111111111111,
                                                        "#46039f"
                                                    ],
                                                    [
                                                        0.2222222222222222,
                                                        "#7201a8"
                                                    ],
                                                    [
                                                        0.3333333333333333,
                                                        "#9c179e"
                                                    ],
                                                    [
                                                        0.4444444444444444,
                                                        "#bd3786"
                                                    ],
                                                    [
                                                        0.5555555555555556,
                                                        "#d8576b"
                                                    ],
                                                    [
                                                        0.6666666666666666,
                                                        "#ed7953"
                                                    ],
                                                    [
                                                        0.7777777777777778,
                                                        "#fb9f3a"
                                                    ],
                                                    [
                                                        0.8888888888888888,
                                                        "#fdca26"
                                                    ],
                                                    [
                                                        1,
                                                        "#f0f921"
                                                    ]
                                                ],
                                                "type": "surface"
                                            }
                                        ],
                                        "table": [
                                            {
                                                "cells": {
                                                    "fill": {
                                                        "color": "#EBF0F8"
                                                    },
                                                    "line": {
                                                        "color": "white"
                                                    }
                                                },
                                                "header": {
                                                    "fill": {
                                                        "color": "#C8D4E3"
                                                    },
                                                    "line": {
                                                        "color": "white"
                                                    }
                                                },
                                                "type": "table"
                                            }
                                        ]
                                    },
                                    "layout": {
                                        "annotationdefaults": {
                                            "arrowcolor": "#2a3f5f",
                                            "arrowhead": 0,
                                            "arrowwidth": 1
                                        },
                                        "autotypenumbers": "strict",
                                        "coloraxis": {
                                            "colorbar": {
                                                "outlinewidth": 0,
                                                "ticks": ""
                                            }
                                        },
                                        "colorscale": {
                                            "diverging": [
                                                [
                                                    0,
                                                    "#8e0152"
                                                ],
                                                [
                                                    0.1,
                                                    "#c51b7d"
                                                ],
                                                [
                                                    0.2,
                                                    "#de77ae"
                                                ],
                                                [
                                                    0.3,
                                                    "#f1b6da"
                                                ],
                                                [
                                                    0.4,
                                                    "#fde0ef"
                                                ],
                                                [
                                                    0.5,
                                                    "#f7f7f7"
                                                ],
                                                [
                                                    0.6,
                                                    "#e6f5d0"
                                                ],
                                                [
                                                    0.7,
                                                    "#b8e186"
                                                ],
                                                [
                                                    0.8,
                                                    "#7fbc41"
                                                ],
                                                [
                                                    0.9,
                                                    "#4d9221"
                                                ],
                                                [
                                                    1,
                                                    "#276419"
                                                ]
                                            ],
                                            "sequential": [
                                                [
                                                    0,
                                                    "#0d0887"
                                                ],
                                                [
                                                    0.1111111111111111,
                                                    "#46039f"
                                                ],
                                                [
                                                    0.2222222222222222,
                                                    "#7201a8"
                                                ],
                                                [
                                                    0.3333333333333333,
                                                    "#9c179e"
                                                ],
                                                [
                                                    0.4444444444444444,
                                                    "#bd3786"
                                                ],
                                                [
                                                    0.5555555555555556,
                                                    "#d8576b"
                                                ],
                                                [
                                                    0.6666666666666666,
                                                    "#ed7953"
                                                ],
                                                [
                                                    0.7777777777777778,
                                                    "#fb9f3a"
                                                ],
                                                [
                                                    0.8888888888888888,
                                                    "#fdca26"
                                                ],
                                                [
                                                    1,
                                                    "#f0f921"
                                                ]
                                            ],
                                            "sequentialminus": [
                                                [
                                                    0,
                                                    "#0d0887"
                                                ],
                                                [
                                                    0.1111111111111111,
                                                    "#46039f"
                                                ],
                                                [
                                                    0.2222222222222222,
                                                    "#7201a8"
                                                ],
                                                [
                                                    0.3333333333333333,
                                                    "#9c179e"
                                                ],
                                                [
                                                    0.4444444444444444,
                                                    "#bd3786"
                                                ],
                                                [
                                                    0.5555555555555556,
                                                    "#d8576b"
                                                ],
                                                [
                                                    0.6666666666666666,
                                                    "#ed7953"
                                                ],
                                                [
                                                    0.7777777777777778,
                                                    "#fb9f3a"
                                                ],
                                                [
                                                    0.8888888888888888,
                                                    "#fdca26"
                                                ],
                                                [
                                                    1,
                                                    "#f0f921"
                                                ]
                                            ]
                                        },
                                        "colorway": [
                                            "#636efa",
                                            "#EF553B",
                                            "#00cc96",
                                            "#ab63fa",
                                            "#FFA15A",
                                            "#19d3f3",
                                            "#FF6692",
                                            "#B6E880",
                                            "#FF97FF",
                                            "#FECB52"
                                        ],
                                        "font": {
                                            "color": "#2a3f5f"
                                        },
                                        "geo": {
                                            "bgcolor": "white",
                                            "lakecolor": "white",
                                            "landcolor": "#E5ECF6",
                                            "showlakes": true,
                                            "showland": true,
                                            "subunitcolor": "white"
                                        },
                                        "hoverlabel": {
                                            "align": "left"
                                        },
                                        "hovermode": "closest",
                                        "mapbox": {
                                            "style": "light"
                                        },
                                        "paper_bgcolor": "white",
                                        "plot_bgcolor": "#E5ECF6",
                                        "polar": {
                                            "angularaxis": {
                                                "gridcolor": "white",
                                                "linecolor": "white",
                                                "ticks": ""
                                            },
                                            "bgcolor": "#E5ECF6",
                                            "radialaxis": {
                                                "gridcolor": "white",
                                                "linecolor": "white",
                                                "ticks": ""
                                            }
                                        },
                                        "scene": {
                                            "xaxis": {
                                                "backgroundcolor": "#E5ECF6",
                                                "gridcolor": "white",
                                                "gridwidth": 2,
                                                "linecolor": "white",
                                                "showbackground": true,
                                                "ticks": "",
                                                "zerolinecolor": "white"
                                            },
                                            "yaxis": {
                                                "backgroundcolor": "#E5ECF6",
                                                "gridcolor": "white",
                                                "gridwidth": 2,
                                                "linecolor": "white",
                                                "showbackground": true,
                                                "ticks": "",
                                                "zerolinecolor": "white"
                                            },
                                            "zaxis": {
                                                "backgroundcolor": "#E5ECF6",
                                                "gridcolor": "white",
                                                "gridwidth": 2,
                                                "linecolor": "white",
                                                "showbackground": true,
                                                "ticks": "",
                                                "zerolinecolor": "white"
                                            }
                                        },
                                        "shapedefaults": {
                                            "line": {
                                                "color": "#2a3f5f"
                                            }
                                        },
                                        "ternary": {
                                            "aaxis": {
                                                "gridcolor": "white",
                                                "linecolor": "white",
                                                "ticks": ""
                                            },
                                            "baxis": {
                                                "gridcolor": "white",
                                                "linecolor": "white",
                                                "ticks": ""
                                            },
                                            "bgcolor": "#E5ECF6",
                                            "caxis": {
                                                "gridcolor": "white",
                                                "linecolor": "white",
                                                "ticks": ""
                                            }
                                        },
                                        "title": {
                                            "x": 0.05
                                        },
                                        "xaxis": {
                                            "automargin": true,
                                            "gridcolor": "white",
                                            "linecolor": "white",
                                            "ticks": "",
                                            "title": {
                                                "standoff": 15
                                            },
                                            "zerolinecolor": "white",
                                            "zerolinewidth": 2
                                        },
                                        "yaxis": {
                                            "automargin": true,
                                            "gridcolor": "white",
                                            "linecolor": "white",
                                            "ticks": "",
                                            "title": {
                                                "standoff": 15
                                            },
                                            "zerolinecolor": "white",
                                            "zerolinewidth": 2
                                        }
                                    }
                                },
                                "title": {
                                    "text": "Log probability of S given D for different AR change parameters (350 IDs)"
                                },
                                "width": 650,
                                "xaxis": {
                                    "anchor": "y",
                                    "domain": [
                                        0,
                                        0.2888888888888889
                                    ],
                                    "title": {
                                        "text": "Main width<br><br>Main weight=0.9"
                                    },
                                    "type": "category"
                                },
                                "xaxis2": {
                                    "anchor": "y2",
                                    "domain": [
                                        0.35555555555555557,
                                        0.6444444444444445
                                    ],
                                    "title": {
                                        "text": "Main width<br><br>Main weight=0.95"
                                    },
                                    "type": "category"
                                },
                                "xaxis3": {
                                    "anchor": "y3",
                                    "domain": [
                                        0.7111111111111111,
                                        1
                                    ],
                                    "title": {
                                        "text": "Main width<br><br>Main weight=1"
                                    },
                                    "type": "category"
                                },
                                "yaxis": {
                                    "anchor": "x",
                                    "domain": [
                                        0,
                                        1
                                    ],
                                    "title": {
                                        "text": "Tail width"
                                    },
                                    "type": "category"
                                },
                                "yaxis2": {
                                    "anchor": "x2",
                                    "domain": [
                                        0,
                                        1
                                    ],
                                    "type": "category"
                                },
                                "yaxis3": {
                                    "anchor": "x3",
                                    "domain": [
                                        0,
                                        1
                                    ],
                                    "type": "category"
                                }
                            }
                        }
                    },
                    "metadata": {},
                    "output_type": "display_data"
                }
            ],
            "source": [
                "params = [\n",
                "    (0.2, 1, 0.9),\n",
                "    (0.2, 1, 0.95),\n",
                "    (0.2, 1, 1),\n",
                "    (0.2, 4, 0.9),\n",
                "    (0.2, 4, 0.95),\n",
                "    (0.2, 4, 1),\n",
                "    (0.2, 10, 0.9),\n",
                "    (0.2, 10, 0.95),\n",
                "    (0.2, 10, 1),\n",
                "    (0.4, 1, 0.9),\n",
                "    (0.4, 1, 0.95),\n",
                "    (0.4, 1, 1),\n",
                "    (0.4, 4, 0.9),\n",
                "    (0.4, 4, 0.95),\n",
                "    (0.4, 4, 1),\n",
                "    (0.4, 10, 0.9),\n",
                "    (0.4, 10, 0.95),\n",
                "    (0.4, 10, 1),\n",
                "    (1, 1, 0.9),\n",
                "    (1, 1, 0.95),\n",
                "    (1, 1, 1),\n",
                "    (1, 4, 0.9),\n",
                "    (1, 4, 0.95),\n",
                "    (1, 4, 1),\n",
                "    (1, 10, 0.9),\n",
                "    (1, 10, 0.95),\n",
                "    (1, 10, 1),\n",
                "]\n",
                "labels = [\"main width\", \"tail width\", \"main weight\"]\n",
                "df_heatmap, IDs = load_and_process_json(272, params, labels)\n",
                "plot_3_3_heatmaps(df_heatmap, IDs, 0.9, 0.95, 1)"
            ]
        },
        {
            "cell_type": "code",
            "execution_count": 10,
            "metadata": {},
            "outputs": [
                {
                    "data": {
                        "application/vnd.plotly.v1+json": {
                            "config": {
                                "plotlyServerURL": "https://plot.ly"
                            },
                            "data": [
                                {
                                    "type": "heatmap",
                                    "x": [
                                        0.01,
                                        0.01,
                                        0.01,
                                        0.01,
                                        0.01,
                                        0.01,
                                        0.03,
                                        0.03,
                                        0.03,
                                        0.03,
                                        0.03,
                                        0.03,
                                        0.05,
                                        0.05,
                                        0.05,
                                        0.05,
                                        0.05,
                                        0.05,
                                        0.1,
                                        0.1,
                                        0.1,
                                        0.1,
                                        0.1,
                                        0.15,
                                        0.15,
                                        0.15,
                                        0.15,
                                        0.15
                                    ],
                                    "xaxis": "x",
                                    "y": [
                                        0.1,
                                        0.2,
                                        0.5,
                                        0.8,
                                        1.1,
                                        1.4,
                                        0.1,
                                        0.2,
                                        0.5,
                                        0.8,
                                        1.1,
                                        1.4,
                                        0.1,
                                        0.2,
                                        0.5,
                                        0.8,
                                        1.1,
                                        1.4,
                                        0.2,
                                        0.5,
                                        0.8,
                                        1.1,
                                        1.4,
                                        0.2,
                                        0.5,
                                        0.8,
                                        1.1,
                                        1.4
                                    ],
                                    "yaxis": "y",
                                    "z": [
                                        -115.19663785,
                                        -113.92150237,
                                        -112.62492853,
                                        -112.05133375,
                                        -111.70043876,
                                        -111.50653209000001,
                                        -114.61049376,
                                        -113.85966995999999,
                                        -112.71625897999999,
                                        -112.15394243,
                                        -111.77332394,
                                        -111.53084913000001,
                                        -114.17680347999999,
                                        -113.55716952,
                                        -112.56732615,
                                        -112.0680887,
                                        -111.73256755,
                                        -111.52384997,
                                        -113.080292,
                                        -112.35093057,
                                        -111.95956887,
                                        -111.69249638,
                                        -111.52763001,
                                        -112.73253445,
                                        -112.17694958,
                                        -111.86964201,
                                        -111.66049656999999,
                                        -111.53579632
                                    ]
                                }
                            ],
                            "layout": {
                                "font": {
                                    "size": 10
                                },
                                "height": 400,
                                "template": {
                                    "data": {
                                        "bar": [
                                            {
                                                "error_x": {
                                                    "color": "#2a3f5f"
                                                },
                                                "error_y": {
                                                    "color": "#2a3f5f"
                                                },
                                                "marker": {
                                                    "line": {
                                                        "color": "#E5ECF6",
                                                        "width": 0.5
                                                    },
                                                    "pattern": {
                                                        "fillmode": "overlay",
                                                        "size": 10,
                                                        "solidity": 0.2
                                                    }
                                                },
                                                "type": "bar"
                                            }
                                        ],
                                        "barpolar": [
                                            {
                                                "marker": {
                                                    "line": {
                                                        "color": "#E5ECF6",
                                                        "width": 0.5
                                                    },
                                                    "pattern": {
                                                        "fillmode": "overlay",
                                                        "size": 10,
                                                        "solidity": 0.2
                                                    }
                                                },
                                                "type": "barpolar"
                                            }
                                        ],
                                        "carpet": [
                                            {
                                                "aaxis": {
                                                    "endlinecolor": "#2a3f5f",
                                                    "gridcolor": "white",
                                                    "linecolor": "white",
                                                    "minorgridcolor": "white",
                                                    "startlinecolor": "#2a3f5f"
                                                },
                                                "baxis": {
                                                    "endlinecolor": "#2a3f5f",
                                                    "gridcolor": "white",
                                                    "linecolor": "white",
                                                    "minorgridcolor": "white",
                                                    "startlinecolor": "#2a3f5f"
                                                },
                                                "type": "carpet"
                                            }
                                        ],
                                        "choropleth": [
                                            {
                                                "colorbar": {
                                                    "outlinewidth": 0,
                                                    "ticks": ""
                                                },
                                                "type": "choropleth"
                                            }
                                        ],
                                        "contour": [
                                            {
                                                "colorbar": {
                                                    "outlinewidth": 0,
                                                    "ticks": ""
                                                },
                                                "colorscale": [
                                                    [
                                                        0,
                                                        "#0d0887"
                                                    ],
                                                    [
                                                        0.1111111111111111,
                                                        "#46039f"
                                                    ],
                                                    [
                                                        0.2222222222222222,
                                                        "#7201a8"
                                                    ],
                                                    [
                                                        0.3333333333333333,
                                                        "#9c179e"
                                                    ],
                                                    [
                                                        0.4444444444444444,
                                                        "#bd3786"
                                                    ],
                                                    [
                                                        0.5555555555555556,
                                                        "#d8576b"
                                                    ],
                                                    [
                                                        0.6666666666666666,
                                                        "#ed7953"
                                                    ],
                                                    [
                                                        0.7777777777777778,
                                                        "#fb9f3a"
                                                    ],
                                                    [
                                                        0.8888888888888888,
                                                        "#fdca26"
                                                    ],
                                                    [
                                                        1,
                                                        "#f0f921"
                                                    ]
                                                ],
                                                "type": "contour"
                                            }
                                        ],
                                        "contourcarpet": [
                                            {
                                                "colorbar": {
                                                    "outlinewidth": 0,
                                                    "ticks": ""
                                                },
                                                "type": "contourcarpet"
                                            }
                                        ],
                                        "heatmap": [
                                            {
                                                "colorbar": {
                                                    "outlinewidth": 0,
                                                    "ticks": ""
                                                },
                                                "colorscale": [
                                                    [
                                                        0,
                                                        "#0d0887"
                                                    ],
                                                    [
                                                        0.1111111111111111,
                                                        "#46039f"
                                                    ],
                                                    [
                                                        0.2222222222222222,
                                                        "#7201a8"
                                                    ],
                                                    [
                                                        0.3333333333333333,
                                                        "#9c179e"
                                                    ],
                                                    [
                                                        0.4444444444444444,
                                                        "#bd3786"
                                                    ],
                                                    [
                                                        0.5555555555555556,
                                                        "#d8576b"
                                                    ],
                                                    [
                                                        0.6666666666666666,
                                                        "#ed7953"
                                                    ],
                                                    [
                                                        0.7777777777777778,
                                                        "#fb9f3a"
                                                    ],
                                                    [
                                                        0.8888888888888888,
                                                        "#fdca26"
                                                    ],
                                                    [
                                                        1,
                                                        "#f0f921"
                                                    ]
                                                ],
                                                "type": "heatmap"
                                            }
                                        ],
                                        "heatmapgl": [
                                            {
                                                "colorbar": {
                                                    "outlinewidth": 0,
                                                    "ticks": ""
                                                },
                                                "colorscale": [
                                                    [
                                                        0,
                                                        "#0d0887"
                                                    ],
                                                    [
                                                        0.1111111111111111,
                                                        "#46039f"
                                                    ],
                                                    [
                                                        0.2222222222222222,
                                                        "#7201a8"
                                                    ],
                                                    [
                                                        0.3333333333333333,
                                                        "#9c179e"
                                                    ],
                                                    [
                                                        0.4444444444444444,
                                                        "#bd3786"
                                                    ],
                                                    [
                                                        0.5555555555555556,
                                                        "#d8576b"
                                                    ],
                                                    [
                                                        0.6666666666666666,
                                                        "#ed7953"
                                                    ],
                                                    [
                                                        0.7777777777777778,
                                                        "#fb9f3a"
                                                    ],
                                                    [
                                                        0.8888888888888888,
                                                        "#fdca26"
                                                    ],
                                                    [
                                                        1,
                                                        "#f0f921"
                                                    ]
                                                ],
                                                "type": "heatmapgl"
                                            }
                                        ],
                                        "histogram": [
                                            {
                                                "marker": {
                                                    "pattern": {
                                                        "fillmode": "overlay",
                                                        "size": 10,
                                                        "solidity": 0.2
                                                    }
                                                },
                                                "type": "histogram"
                                            }
                                        ],
                                        "histogram2d": [
                                            {
                                                "colorbar": {
                                                    "outlinewidth": 0,
                                                    "ticks": ""
                                                },
                                                "colorscale": [
                                                    [
                                                        0,
                                                        "#0d0887"
                                                    ],
                                                    [
                                                        0.1111111111111111,
                                                        "#46039f"
                                                    ],
                                                    [
                                                        0.2222222222222222,
                                                        "#7201a8"
                                                    ],
                                                    [
                                                        0.3333333333333333,
                                                        "#9c179e"
                                                    ],
                                                    [
                                                        0.4444444444444444,
                                                        "#bd3786"
                                                    ],
                                                    [
                                                        0.5555555555555556,
                                                        "#d8576b"
                                                    ],
                                                    [
                                                        0.6666666666666666,
                                                        "#ed7953"
                                                    ],
                                                    [
                                                        0.7777777777777778,
                                                        "#fb9f3a"
                                                    ],
                                                    [
                                                        0.8888888888888888,
                                                        "#fdca26"
                                                    ],
                                                    [
                                                        1,
                                                        "#f0f921"
                                                    ]
                                                ],
                                                "type": "histogram2d"
                                            }
                                        ],
                                        "histogram2dcontour": [
                                            {
                                                "colorbar": {
                                                    "outlinewidth": 0,
                                                    "ticks": ""
                                                },
                                                "colorscale": [
                                                    [
                                                        0,
                                                        "#0d0887"
                                                    ],
                                                    [
                                                        0.1111111111111111,
                                                        "#46039f"
                                                    ],
                                                    [
                                                        0.2222222222222222,
                                                        "#7201a8"
                                                    ],
                                                    [
                                                        0.3333333333333333,
                                                        "#9c179e"
                                                    ],
                                                    [
                                                        0.4444444444444444,
                                                        "#bd3786"
                                                    ],
                                                    [
                                                        0.5555555555555556,
                                                        "#d8576b"
                                                    ],
                                                    [
                                                        0.6666666666666666,
                                                        "#ed7953"
                                                    ],
                                                    [
                                                        0.7777777777777778,
                                                        "#fb9f3a"
                                                    ],
                                                    [
                                                        0.8888888888888888,
                                                        "#fdca26"
                                                    ],
                                                    [
                                                        1,
                                                        "#f0f921"
                                                    ]
                                                ],
                                                "type": "histogram2dcontour"
                                            }
                                        ],
                                        "mesh3d": [
                                            {
                                                "colorbar": {
                                                    "outlinewidth": 0,
                                                    "ticks": ""
                                                },
                                                "type": "mesh3d"
                                            }
                                        ],
                                        "parcoords": [
                                            {
                                                "line": {
                                                    "colorbar": {
                                                        "outlinewidth": 0,
                                                        "ticks": ""
                                                    }
                                                },
                                                "type": "parcoords"
                                            }
                                        ],
                                        "pie": [
                                            {
                                                "automargin": true,
                                                "type": "pie"
                                            }
                                        ],
                                        "scatter": [
                                            {
                                                "fillpattern": {
                                                    "fillmode": "overlay",
                                                    "size": 10,
                                                    "solidity": 0.2
                                                },
                                                "type": "scatter"
                                            }
                                        ],
                                        "scatter3d": [
                                            {
                                                "line": {
                                                    "colorbar": {
                                                        "outlinewidth": 0,
                                                        "ticks": ""
                                                    }
                                                },
                                                "marker": {
                                                    "colorbar": {
                                                        "outlinewidth": 0,
                                                        "ticks": ""
                                                    }
                                                },
                                                "type": "scatter3d"
                                            }
                                        ],
                                        "scattercarpet": [
                                            {
                                                "marker": {
                                                    "colorbar": {
                                                        "outlinewidth": 0,
                                                        "ticks": ""
                                                    }
                                                },
                                                "type": "scattercarpet"
                                            }
                                        ],
                                        "scattergeo": [
                                            {
                                                "marker": {
                                                    "colorbar": {
                                                        "outlinewidth": 0,
                                                        "ticks": ""
                                                    }
                                                },
                                                "type": "scattergeo"
                                            }
                                        ],
                                        "scattergl": [
                                            {
                                                "marker": {
                                                    "colorbar": {
                                                        "outlinewidth": 0,
                                                        "ticks": ""
                                                    }
                                                },
                                                "type": "scattergl"
                                            }
                                        ],
                                        "scattermapbox": [
                                            {
                                                "marker": {
                                                    "colorbar": {
                                                        "outlinewidth": 0,
                                                        "ticks": ""
                                                    }
                                                },
                                                "type": "scattermapbox"
                                            }
                                        ],
                                        "scatterpolar": [
                                            {
                                                "marker": {
                                                    "colorbar": {
                                                        "outlinewidth": 0,
                                                        "ticks": ""
                                                    }
                                                },
                                                "type": "scatterpolar"
                                            }
                                        ],
                                        "scatterpolargl": [
                                            {
                                                "marker": {
                                                    "colorbar": {
                                                        "outlinewidth": 0,
                                                        "ticks": ""
                                                    }
                                                },
                                                "type": "scatterpolargl"
                                            }
                                        ],
                                        "scatterternary": [
                                            {
                                                "marker": {
                                                    "colorbar": {
                                                        "outlinewidth": 0,
                                                        "ticks": ""
                                                    }
                                                },
                                                "type": "scatterternary"
                                            }
                                        ],
                                        "surface": [
                                            {
                                                "colorbar": {
                                                    "outlinewidth": 0,
                                                    "ticks": ""
                                                },
                                                "colorscale": [
                                                    [
                                                        0,
                                                        "#0d0887"
                                                    ],
                                                    [
                                                        0.1111111111111111,
                                                        "#46039f"
                                                    ],
                                                    [
                                                        0.2222222222222222,
                                                        "#7201a8"
                                                    ],
                                                    [
                                                        0.3333333333333333,
                                                        "#9c179e"
                                                    ],
                                                    [
                                                        0.4444444444444444,
                                                        "#bd3786"
                                                    ],
                                                    [
                                                        0.5555555555555556,
                                                        "#d8576b"
                                                    ],
                                                    [
                                                        0.6666666666666666,
                                                        "#ed7953"
                                                    ],
                                                    [
                                                        0.7777777777777778,
                                                        "#fb9f3a"
                                                    ],
                                                    [
                                                        0.8888888888888888,
                                                        "#fdca26"
                                                    ],
                                                    [
                                                        1,
                                                        "#f0f921"
                                                    ]
                                                ],
                                                "type": "surface"
                                            }
                                        ],
                                        "table": [
                                            {
                                                "cells": {
                                                    "fill": {
                                                        "color": "#EBF0F8"
                                                    },
                                                    "line": {
                                                        "color": "white"
                                                    }
                                                },
                                                "header": {
                                                    "fill": {
                                                        "color": "#C8D4E3"
                                                    },
                                                    "line": {
                                                        "color": "white"
                                                    }
                                                },
                                                "type": "table"
                                            }
                                        ]
                                    },
                                    "layout": {
                                        "annotationdefaults": {
                                            "arrowcolor": "#2a3f5f",
                                            "arrowhead": 0,
                                            "arrowwidth": 1
                                        },
                                        "autotypenumbers": "strict",
                                        "coloraxis": {
                                            "colorbar": {
                                                "outlinewidth": 0,
                                                "ticks": ""
                                            }
                                        },
                                        "colorscale": {
                                            "diverging": [
                                                [
                                                    0,
                                                    "#8e0152"
                                                ],
                                                [
                                                    0.1,
                                                    "#c51b7d"
                                                ],
                                                [
                                                    0.2,
                                                    "#de77ae"
                                                ],
                                                [
                                                    0.3,
                                                    "#f1b6da"
                                                ],
                                                [
                                                    0.4,
                                                    "#fde0ef"
                                                ],
                                                [
                                                    0.5,
                                                    "#f7f7f7"
                                                ],
                                                [
                                                    0.6,
                                                    "#e6f5d0"
                                                ],
                                                [
                                                    0.7,
                                                    "#b8e186"
                                                ],
                                                [
                                                    0.8,
                                                    "#7fbc41"
                                                ],
                                                [
                                                    0.9,
                                                    "#4d9221"
                                                ],
                                                [
                                                    1,
                                                    "#276419"
                                                ]
                                            ],
                                            "sequential": [
                                                [
                                                    0,
                                                    "#0d0887"
                                                ],
                                                [
                                                    0.1111111111111111,
                                                    "#46039f"
                                                ],
                                                [
                                                    0.2222222222222222,
                                                    "#7201a8"
                                                ],
                                                [
                                                    0.3333333333333333,
                                                    "#9c179e"
                                                ],
                                                [
                                                    0.4444444444444444,
                                                    "#bd3786"
                                                ],
                                                [
                                                    0.5555555555555556,
                                                    "#d8576b"
                                                ],
                                                [
                                                    0.6666666666666666,
                                                    "#ed7953"
                                                ],
                                                [
                                                    0.7777777777777778,
                                                    "#fb9f3a"
                                                ],
                                                [
                                                    0.8888888888888888,
                                                    "#fdca26"
                                                ],
                                                [
                                                    1,
                                                    "#f0f921"
                                                ]
                                            ],
                                            "sequentialminus": [
                                                [
                                                    0,
                                                    "#0d0887"
                                                ],
                                                [
                                                    0.1111111111111111,
                                                    "#46039f"
                                                ],
                                                [
                                                    0.2222222222222222,
                                                    "#7201a8"
                                                ],
                                                [
                                                    0.3333333333333333,
                                                    "#9c179e"
                                                ],
                                                [
                                                    0.4444444444444444,
                                                    "#bd3786"
                                                ],
                                                [
                                                    0.5555555555555556,
                                                    "#d8576b"
                                                ],
                                                [
                                                    0.6666666666666666,
                                                    "#ed7953"
                                                ],
                                                [
                                                    0.7777777777777778,
                                                    "#fb9f3a"
                                                ],
                                                [
                                                    0.8888888888888888,
                                                    "#fdca26"
                                                ],
                                                [
                                                    1,
                                                    "#f0f921"
                                                ]
                                            ]
                                        },
                                        "colorway": [
                                            "#636efa",
                                            "#EF553B",
                                            "#00cc96",
                                            "#ab63fa",
                                            "#FFA15A",
                                            "#19d3f3",
                                            "#FF6692",
                                            "#B6E880",
                                            "#FF97FF",
                                            "#FECB52"
                                        ],
                                        "font": {
                                            "color": "#2a3f5f"
                                        },
                                        "geo": {
                                            "bgcolor": "white",
                                            "lakecolor": "white",
                                            "landcolor": "#E5ECF6",
                                            "showlakes": true,
                                            "showland": true,
                                            "subunitcolor": "white"
                                        },
                                        "hoverlabel": {
                                            "align": "left"
                                        },
                                        "hovermode": "closest",
                                        "mapbox": {
                                            "style": "light"
                                        },
                                        "paper_bgcolor": "white",
                                        "plot_bgcolor": "#E5ECF6",
                                        "polar": {
                                            "angularaxis": {
                                                "gridcolor": "white",
                                                "linecolor": "white",
                                                "ticks": ""
                                            },
                                            "bgcolor": "#E5ECF6",
                                            "radialaxis": {
                                                "gridcolor": "white",
                                                "linecolor": "white",
                                                "ticks": ""
                                            }
                                        },
                                        "scene": {
                                            "xaxis": {
                                                "backgroundcolor": "#E5ECF6",
                                                "gridcolor": "white",
                                                "gridwidth": 2,
                                                "linecolor": "white",
                                                "showbackground": true,
                                                "ticks": "",
                                                "zerolinecolor": "white"
                                            },
                                            "yaxis": {
                                                "backgroundcolor": "#E5ECF6",
                                                "gridcolor": "white",
                                                "gridwidth": 2,
                                                "linecolor": "white",
                                                "showbackground": true,
                                                "ticks": "",
                                                "zerolinecolor": "white"
                                            },
                                            "zaxis": {
                                                "backgroundcolor": "#E5ECF6",
                                                "gridcolor": "white",
                                                "gridwidth": 2,
                                                "linecolor": "white",
                                                "showbackground": true,
                                                "ticks": "",
                                                "zerolinecolor": "white"
                                            }
                                        },
                                        "shapedefaults": {
                                            "line": {
                                                "color": "#2a3f5f"
                                            }
                                        },
                                        "ternary": {
                                            "aaxis": {
                                                "gridcolor": "white",
                                                "linecolor": "white",
                                                "ticks": ""
                                            },
                                            "baxis": {
                                                "gridcolor": "white",
                                                "linecolor": "white",
                                                "ticks": ""
                                            },
                                            "bgcolor": "#E5ECF6",
                                            "caxis": {
                                                "gridcolor": "white",
                                                "linecolor": "white",
                                                "ticks": ""
                                            }
                                        },
                                        "title": {
                                            "x": 0.05
                                        },
                                        "xaxis": {
                                            "automargin": true,
                                            "gridcolor": "white",
                                            "linecolor": "white",
                                            "ticks": "",
                                            "title": {
                                                "standoff": 15
                                            },
                                            "zerolinecolor": "white",
                                            "zerolinewidth": 2
                                        },
                                        "yaxis": {
                                            "automargin": true,
                                            "gridcolor": "white",
                                            "linecolor": "white",
                                            "ticks": "",
                                            "title": {
                                                "standoff": 15
                                            },
                                            "zerolinecolor": "white",
                                            "zerolinewidth": 2
                                        }
                                    }
                                },
                                "title": {
                                    "text": "Log probability of S given D for different AR change parameters (2 IDs)"
                                },
                                "width": 450,
                                "xaxis": {
                                    "anchor": "y",
                                    "domain": [
                                        0,
                                        1
                                    ],
                                    "title": {
                                        "text": "Main width<br><br>Main weight=0.7"
                                    },
                                    "type": "category"
                                },
                                "yaxis": {
                                    "anchor": "x",
                                    "domain": [
                                        0,
                                        1
                                    ],
                                    "title": {
                                        "text": "Tail width"
                                    }
                                }
                            }
                        }
                    },
                    "metadata": {},
                    "output_type": "display_data"
                }
            ],
            "source": [
                "params = [\n",
                "    (0.01, 0.1, 0.7),\n",
                "    (0.01, 0.2, 0.7),\n",
                "    (0.01, 0.5, 0.7),\n",
                "    (0.01, 0.8, 0.7),\n",
                "    (0.01, 1.1, 0.7),\n",
                "    (0.01, 1.4, 0.7),\n",
                "    (0.03, 0.1, 0.7),\n",
                "    (0.03, 0.2, 0.7),\n",
                "    (0.03, 0.5, 0.7),\n",
                "    (0.03, 0.8, 0.7),\n",
                "    (0.03, 1.1, 0.7),\n",
                "    (0.03, 1.4, 0.7),\n",
                "    (0.05, 0.1, 0.7),\n",
                "    (0.05, 0.2, 0.7),\n",
                "    (0.05, 0.5, 0.7),\n",
                "    (0.05, 0.8, 0.7),\n",
                "    (0.05, 1.1, 0.7),\n",
                "    (0.05, 1.4, 0.7),\n",
                "    (0.1, 0.2, 0.7),\n",
                "    (0.1, 0.5, 0.7),\n",
                "    (0.1, 0.8, 0.7),\n",
                "    (0.1, 1.1, 0.7),\n",
                "    (0.1, 1.4, 0.7),\n",
                "    (0.15, 0.2, 0.7),\n",
                "    (0.15, 0.5, 0.7),\n",
                "    (0.15, 0.8, 0.7),\n",
                "    (0.15, 1.1, 0.7),\n",
                "    (0.15, 1.4, 0.7),\n",
                "]\n",
                "labels = [\"main width\", \"tail width\", \"main weight\"]\n",
                "df_heatmap, IDs = load_and_process_json(28, params, labels)\n",
                "\n",
                "fig = make_subplots()\n",
                "fig = add_heatmap_for_weight(fig, df_heatmap, 0.7, 1)\n",
                "fig.update_layout(\n",
                "    title=f\"Log probability of S given D for different AR change parameters ({len(IDs)} IDs)\",\n",
                "    yaxis_title=\"Tail width\",\n",
                "    # yaxis_type='log',\n",
                "    width=450,\n",
                "    height=400,\n",
                "    font_size=10,\n",
                ")\n",
                "fig.show()"
            ]
        },
        {
            "cell_type": "code",
            "execution_count": 31,
            "metadata": {},
            "outputs": [
                {
                    "data": {
                        "application/vnd.plotly.v1+json": {
                            "config": {
                                "plotlyServerURL": "https://plot.ly"
                            },
                            "data": [
                                {
                                    "type": "heatmap",
                                    "x": [
                                        0.001,
                                        0.001,
                                        0.001,
                                        0.001,
                                        0.001,
                                        0.003,
                                        0.003,
                                        0.003,
                                        0.003,
                                        0.003,
                                        0.007,
                                        0.007,
                                        0.007,
                                        0.007,
                                        0.007,
                                        0.01,
                                        0.01,
                                        0.01,
                                        0.01,
                                        0.025,
                                        0.025,
                                        0.025,
                                        0.025
                                    ],
                                    "xaxis": "x",
                                    "y": [
                                        0.01,
                                        0.03,
                                        0.07,
                                        0.1,
                                        0.15,
                                        0.01,
                                        0.03,
                                        0.07,
                                        0.1,
                                        0.15,
                                        0.01,
                                        0.03,
                                        0.07,
                                        0.1,
                                        0.15,
                                        0.03,
                                        0.07,
                                        0.1,
                                        0.15,
                                        0.03,
                                        0.07,
                                        0.1,
                                        0.15
                                    ],
                                    "yaxis": "y",
                                    "z": [
                                        -4123117.1966971885,
                                        -4123149.190822902,
                                        -4123211.864707201,
                                        -4123260.6081240093,
                                        -4123341.9676698097,
                                        -4123117.979284369,
                                        -4123133.4281003424,
                                        -4123165.9617033494,
                                        -4123203.1286914814,
                                        -4123254.62008164,
                                        -4123118.158995322,
                                        -4123129.866290541,
                                        -4123152.774113389,
                                        -4123173.6389465714,
                                        -4123211.89882076,
                                        -4123131.90919656,
                                        -4123152.7540615285,
                                        -4123169.4871437484,
                                        -4123199.763797089,
                                        -4123152.1216394296,
                                        -4123172.0078127896,
                                        -4123188.963807789,
                                        -4123216.916576973
                                    ]
                                }
                            ],
                            "layout": {
                                "font": {
                                    "size": 10
                                },
                                "height": 400,
                                "template": {
                                    "data": {
                                        "bar": [
                                            {
                                                "error_x": {
                                                    "color": "#2a3f5f"
                                                },
                                                "error_y": {
                                                    "color": "#2a3f5f"
                                                },
                                                "marker": {
                                                    "line": {
                                                        "color": "#E5ECF6",
                                                        "width": 0.5
                                                    },
                                                    "pattern": {
                                                        "fillmode": "overlay",
                                                        "size": 10,
                                                        "solidity": 0.2
                                                    }
                                                },
                                                "type": "bar"
                                            }
                                        ],
                                        "barpolar": [
                                            {
                                                "marker": {
                                                    "line": {
                                                        "color": "#E5ECF6",
                                                        "width": 0.5
                                                    },
                                                    "pattern": {
                                                        "fillmode": "overlay",
                                                        "size": 10,
                                                        "solidity": 0.2
                                                    }
                                                },
                                                "type": "barpolar"
                                            }
                                        ],
                                        "carpet": [
                                            {
                                                "aaxis": {
                                                    "endlinecolor": "#2a3f5f",
                                                    "gridcolor": "white",
                                                    "linecolor": "white",
                                                    "minorgridcolor": "white",
                                                    "startlinecolor": "#2a3f5f"
                                                },
                                                "baxis": {
                                                    "endlinecolor": "#2a3f5f",
                                                    "gridcolor": "white",
                                                    "linecolor": "white",
                                                    "minorgridcolor": "white",
                                                    "startlinecolor": "#2a3f5f"
                                                },
                                                "type": "carpet"
                                            }
                                        ],
                                        "choropleth": [
                                            {
                                                "colorbar": {
                                                    "outlinewidth": 0,
                                                    "ticks": ""
                                                },
                                                "type": "choropleth"
                                            }
                                        ],
                                        "contour": [
                                            {
                                                "colorbar": {
                                                    "outlinewidth": 0,
                                                    "ticks": ""
                                                },
                                                "colorscale": [
                                                    [
                                                        0,
                                                        "#0d0887"
                                                    ],
                                                    [
                                                        0.1111111111111111,
                                                        "#46039f"
                                                    ],
                                                    [
                                                        0.2222222222222222,
                                                        "#7201a8"
                                                    ],
                                                    [
                                                        0.3333333333333333,
                                                        "#9c179e"
                                                    ],
                                                    [
                                                        0.4444444444444444,
                                                        "#bd3786"
                                                    ],
                                                    [
                                                        0.5555555555555556,
                                                        "#d8576b"
                                                    ],
                                                    [
                                                        0.6666666666666666,
                                                        "#ed7953"
                                                    ],
                                                    [
                                                        0.7777777777777778,
                                                        "#fb9f3a"
                                                    ],
                                                    [
                                                        0.8888888888888888,
                                                        "#fdca26"
                                                    ],
                                                    [
                                                        1,
                                                        "#f0f921"
                                                    ]
                                                ],
                                                "type": "contour"
                                            }
                                        ],
                                        "contourcarpet": [
                                            {
                                                "colorbar": {
                                                    "outlinewidth": 0,
                                                    "ticks": ""
                                                },
                                                "type": "contourcarpet"
                                            }
                                        ],
                                        "heatmap": [
                                            {
                                                "colorbar": {
                                                    "outlinewidth": 0,
                                                    "ticks": ""
                                                },
                                                "colorscale": [
                                                    [
                                                        0,
                                                        "#0d0887"
                                                    ],
                                                    [
                                                        0.1111111111111111,
                                                        "#46039f"
                                                    ],
                                                    [
                                                        0.2222222222222222,
                                                        "#7201a8"
                                                    ],
                                                    [
                                                        0.3333333333333333,
                                                        "#9c179e"
                                                    ],
                                                    [
                                                        0.4444444444444444,
                                                        "#bd3786"
                                                    ],
                                                    [
                                                        0.5555555555555556,
                                                        "#d8576b"
                                                    ],
                                                    [
                                                        0.6666666666666666,
                                                        "#ed7953"
                                                    ],
                                                    [
                                                        0.7777777777777778,
                                                        "#fb9f3a"
                                                    ],
                                                    [
                                                        0.8888888888888888,
                                                        "#fdca26"
                                                    ],
                                                    [
                                                        1,
                                                        "#f0f921"
                                                    ]
                                                ],
                                                "type": "heatmap"
                                            }
                                        ],
                                        "heatmapgl": [
                                            {
                                                "colorbar": {
                                                    "outlinewidth": 0,
                                                    "ticks": ""
                                                },
                                                "colorscale": [
                                                    [
                                                        0,
                                                        "#0d0887"
                                                    ],
                                                    [
                                                        0.1111111111111111,
                                                        "#46039f"
                                                    ],
                                                    [
                                                        0.2222222222222222,
                                                        "#7201a8"
                                                    ],
                                                    [
                                                        0.3333333333333333,
                                                        "#9c179e"
                                                    ],
                                                    [
                                                        0.4444444444444444,
                                                        "#bd3786"
                                                    ],
                                                    [
                                                        0.5555555555555556,
                                                        "#d8576b"
                                                    ],
                                                    [
                                                        0.6666666666666666,
                                                        "#ed7953"
                                                    ],
                                                    [
                                                        0.7777777777777778,
                                                        "#fb9f3a"
                                                    ],
                                                    [
                                                        0.8888888888888888,
                                                        "#fdca26"
                                                    ],
                                                    [
                                                        1,
                                                        "#f0f921"
                                                    ]
                                                ],
                                                "type": "heatmapgl"
                                            }
                                        ],
                                        "histogram": [
                                            {
                                                "marker": {
                                                    "pattern": {
                                                        "fillmode": "overlay",
                                                        "size": 10,
                                                        "solidity": 0.2
                                                    }
                                                },
                                                "type": "histogram"
                                            }
                                        ],
                                        "histogram2d": [
                                            {
                                                "colorbar": {
                                                    "outlinewidth": 0,
                                                    "ticks": ""
                                                },
                                                "colorscale": [
                                                    [
                                                        0,
                                                        "#0d0887"
                                                    ],
                                                    [
                                                        0.1111111111111111,
                                                        "#46039f"
                                                    ],
                                                    [
                                                        0.2222222222222222,
                                                        "#7201a8"
                                                    ],
                                                    [
                                                        0.3333333333333333,
                                                        "#9c179e"
                                                    ],
                                                    [
                                                        0.4444444444444444,
                                                        "#bd3786"
                                                    ],
                                                    [
                                                        0.5555555555555556,
                                                        "#d8576b"
                                                    ],
                                                    [
                                                        0.6666666666666666,
                                                        "#ed7953"
                                                    ],
                                                    [
                                                        0.7777777777777778,
                                                        "#fb9f3a"
                                                    ],
                                                    [
                                                        0.8888888888888888,
                                                        "#fdca26"
                                                    ],
                                                    [
                                                        1,
                                                        "#f0f921"
                                                    ]
                                                ],
                                                "type": "histogram2d"
                                            }
                                        ],
                                        "histogram2dcontour": [
                                            {
                                                "colorbar": {
                                                    "outlinewidth": 0,
                                                    "ticks": ""
                                                },
                                                "colorscale": [
                                                    [
                                                        0,
                                                        "#0d0887"
                                                    ],
                                                    [
                                                        0.1111111111111111,
                                                        "#46039f"
                                                    ],
                                                    [
                                                        0.2222222222222222,
                                                        "#7201a8"
                                                    ],
                                                    [
                                                        0.3333333333333333,
                                                        "#9c179e"
                                                    ],
                                                    [
                                                        0.4444444444444444,
                                                        "#bd3786"
                                                    ],
                                                    [
                                                        0.5555555555555556,
                                                        "#d8576b"
                                                    ],
                                                    [
                                                        0.6666666666666666,
                                                        "#ed7953"
                                                    ],
                                                    [
                                                        0.7777777777777778,
                                                        "#fb9f3a"
                                                    ],
                                                    [
                                                        0.8888888888888888,
                                                        "#fdca26"
                                                    ],
                                                    [
                                                        1,
                                                        "#f0f921"
                                                    ]
                                                ],
                                                "type": "histogram2dcontour"
                                            }
                                        ],
                                        "mesh3d": [
                                            {
                                                "colorbar": {
                                                    "outlinewidth": 0,
                                                    "ticks": ""
                                                },
                                                "type": "mesh3d"
                                            }
                                        ],
                                        "parcoords": [
                                            {
                                                "line": {
                                                    "colorbar": {
                                                        "outlinewidth": 0,
                                                        "ticks": ""
                                                    }
                                                },
                                                "type": "parcoords"
                                            }
                                        ],
                                        "pie": [
                                            {
                                                "automargin": true,
                                                "type": "pie"
                                            }
                                        ],
                                        "scatter": [
                                            {
                                                "fillpattern": {
                                                    "fillmode": "overlay",
                                                    "size": 10,
                                                    "solidity": 0.2
                                                },
                                                "type": "scatter"
                                            }
                                        ],
                                        "scatter3d": [
                                            {
                                                "line": {
                                                    "colorbar": {
                                                        "outlinewidth": 0,
                                                        "ticks": ""
                                                    }
                                                },
                                                "marker": {
                                                    "colorbar": {
                                                        "outlinewidth": 0,
                                                        "ticks": ""
                                                    }
                                                },
                                                "type": "scatter3d"
                                            }
                                        ],
                                        "scattercarpet": [
                                            {
                                                "marker": {
                                                    "colorbar": {
                                                        "outlinewidth": 0,
                                                        "ticks": ""
                                                    }
                                                },
                                                "type": "scattercarpet"
                                            }
                                        ],
                                        "scattergeo": [
                                            {
                                                "marker": {
                                                    "colorbar": {
                                                        "outlinewidth": 0,
                                                        "ticks": ""
                                                    }
                                                },
                                                "type": "scattergeo"
                                            }
                                        ],
                                        "scattergl": [
                                            {
                                                "marker": {
                                                    "colorbar": {
                                                        "outlinewidth": 0,
                                                        "ticks": ""
                                                    }
                                                },
                                                "type": "scattergl"
                                            }
                                        ],
                                        "scattermapbox": [
                                            {
                                                "marker": {
                                                    "colorbar": {
                                                        "outlinewidth": 0,
                                                        "ticks": ""
                                                    }
                                                },
                                                "type": "scattermapbox"
                                            }
                                        ],
                                        "scatterpolar": [
                                            {
                                                "marker": {
                                                    "colorbar": {
                                                        "outlinewidth": 0,
                                                        "ticks": ""
                                                    }
                                                },
                                                "type": "scatterpolar"
                                            }
                                        ],
                                        "scatterpolargl": [
                                            {
                                                "marker": {
                                                    "colorbar": {
                                                        "outlinewidth": 0,
                                                        "ticks": ""
                                                    }
                                                },
                                                "type": "scatterpolargl"
                                            }
                                        ],
                                        "scatterternary": [
                                            {
                                                "marker": {
                                                    "colorbar": {
                                                        "outlinewidth": 0,
                                                        "ticks": ""
                                                    }
                                                },
                                                "type": "scatterternary"
                                            }
                                        ],
                                        "surface": [
                                            {
                                                "colorbar": {
                                                    "outlinewidth": 0,
                                                    "ticks": ""
                                                },
                                                "colorscale": [
                                                    [
                                                        0,
                                                        "#0d0887"
                                                    ],
                                                    [
                                                        0.1111111111111111,
                                                        "#46039f"
                                                    ],
                                                    [
                                                        0.2222222222222222,
                                                        "#7201a8"
                                                    ],
                                                    [
                                                        0.3333333333333333,
                                                        "#9c179e"
                                                    ],
                                                    [
                                                        0.4444444444444444,
                                                        "#bd3786"
                                                    ],
                                                    [
                                                        0.5555555555555556,
                                                        "#d8576b"
                                                    ],
                                                    [
                                                        0.6666666666666666,
                                                        "#ed7953"
                                                    ],
                                                    [
                                                        0.7777777777777778,
                                                        "#fb9f3a"
                                                    ],
                                                    [
                                                        0.8888888888888888,
                                                        "#fdca26"
                                                    ],
                                                    [
                                                        1,
                                                        "#f0f921"
                                                    ]
                                                ],
                                                "type": "surface"
                                            }
                                        ],
                                        "table": [
                                            {
                                                "cells": {
                                                    "fill": {
                                                        "color": "#EBF0F8"
                                                    },
                                                    "line": {
                                                        "color": "white"
                                                    }
                                                },
                                                "header": {
                                                    "fill": {
                                                        "color": "#C8D4E3"
                                                    },
                                                    "line": {
                                                        "color": "white"
                                                    }
                                                },
                                                "type": "table"
                                            }
                                        ]
                                    },
                                    "layout": {
                                        "annotationdefaults": {
                                            "arrowcolor": "#2a3f5f",
                                            "arrowhead": 0,
                                            "arrowwidth": 1
                                        },
                                        "autotypenumbers": "strict",
                                        "coloraxis": {
                                            "colorbar": {
                                                "outlinewidth": 0,
                                                "ticks": ""
                                            }
                                        },
                                        "colorscale": {
                                            "diverging": [
                                                [
                                                    0,
                                                    "#8e0152"
                                                ],
                                                [
                                                    0.1,
                                                    "#c51b7d"
                                                ],
                                                [
                                                    0.2,
                                                    "#de77ae"
                                                ],
                                                [
                                                    0.3,
                                                    "#f1b6da"
                                                ],
                                                [
                                                    0.4,
                                                    "#fde0ef"
                                                ],
                                                [
                                                    0.5,
                                                    "#f7f7f7"
                                                ],
                                                [
                                                    0.6,
                                                    "#e6f5d0"
                                                ],
                                                [
                                                    0.7,
                                                    "#b8e186"
                                                ],
                                                [
                                                    0.8,
                                                    "#7fbc41"
                                                ],
                                                [
                                                    0.9,
                                                    "#4d9221"
                                                ],
                                                [
                                                    1,
                                                    "#276419"
                                                ]
                                            ],
                                            "sequential": [
                                                [
                                                    0,
                                                    "#0d0887"
                                                ],
                                                [
                                                    0.1111111111111111,
                                                    "#46039f"
                                                ],
                                                [
                                                    0.2222222222222222,
                                                    "#7201a8"
                                                ],
                                                [
                                                    0.3333333333333333,
                                                    "#9c179e"
                                                ],
                                                [
                                                    0.4444444444444444,
                                                    "#bd3786"
                                                ],
                                                [
                                                    0.5555555555555556,
                                                    "#d8576b"
                                                ],
                                                [
                                                    0.6666666666666666,
                                                    "#ed7953"
                                                ],
                                                [
                                                    0.7777777777777778,
                                                    "#fb9f3a"
                                                ],
                                                [
                                                    0.8888888888888888,
                                                    "#fdca26"
                                                ],
                                                [
                                                    1,
                                                    "#f0f921"
                                                ]
                                            ],
                                            "sequentialminus": [
                                                [
                                                    0,
                                                    "#0d0887"
                                                ],
                                                [
                                                    0.1111111111111111,
                                                    "#46039f"
                                                ],
                                                [
                                                    0.2222222222222222,
                                                    "#7201a8"
                                                ],
                                                [
                                                    0.3333333333333333,
                                                    "#9c179e"
                                                ],
                                                [
                                                    0.4444444444444444,
                                                    "#bd3786"
                                                ],
                                                [
                                                    0.5555555555555556,
                                                    "#d8576b"
                                                ],
                                                [
                                                    0.6666666666666666,
                                                    "#ed7953"
                                                ],
                                                [
                                                    0.7777777777777778,
                                                    "#fb9f3a"
                                                ],
                                                [
                                                    0.8888888888888888,
                                                    "#fdca26"
                                                ],
                                                [
                                                    1,
                                                    "#f0f921"
                                                ]
                                            ]
                                        },
                                        "colorway": [
                                            "#636efa",
                                            "#EF553B",
                                            "#00cc96",
                                            "#ab63fa",
                                            "#FFA15A",
                                            "#19d3f3",
                                            "#FF6692",
                                            "#B6E880",
                                            "#FF97FF",
                                            "#FECB52"
                                        ],
                                        "font": {
                                            "color": "#2a3f5f"
                                        },
                                        "geo": {
                                            "bgcolor": "white",
                                            "lakecolor": "white",
                                            "landcolor": "#E5ECF6",
                                            "showlakes": true,
                                            "showland": true,
                                            "subunitcolor": "white"
                                        },
                                        "hoverlabel": {
                                            "align": "left"
                                        },
                                        "hovermode": "closest",
                                        "mapbox": {
                                            "style": "light"
                                        },
                                        "paper_bgcolor": "white",
                                        "plot_bgcolor": "#E5ECF6",
                                        "polar": {
                                            "angularaxis": {
                                                "gridcolor": "white",
                                                "linecolor": "white",
                                                "ticks": ""
                                            },
                                            "bgcolor": "#E5ECF6",
                                            "radialaxis": {
                                                "gridcolor": "white",
                                                "linecolor": "white",
                                                "ticks": ""
                                            }
                                        },
                                        "scene": {
                                            "xaxis": {
                                                "backgroundcolor": "#E5ECF6",
                                                "gridcolor": "white",
                                                "gridwidth": 2,
                                                "linecolor": "white",
                                                "showbackground": true,
                                                "ticks": "",
                                                "zerolinecolor": "white"
                                            },
                                            "yaxis": {
                                                "backgroundcolor": "#E5ECF6",
                                                "gridcolor": "white",
                                                "gridwidth": 2,
                                                "linecolor": "white",
                                                "showbackground": true,
                                                "ticks": "",
                                                "zerolinecolor": "white"
                                            },
                                            "zaxis": {
                                                "backgroundcolor": "#E5ECF6",
                                                "gridcolor": "white",
                                                "gridwidth": 2,
                                                "linecolor": "white",
                                                "showbackground": true,
                                                "ticks": "",
                                                "zerolinecolor": "white"
                                            }
                                        },
                                        "shapedefaults": {
                                            "line": {
                                                "color": "#2a3f5f"
                                            }
                                        },
                                        "ternary": {
                                            "aaxis": {
                                                "gridcolor": "white",
                                                "linecolor": "white",
                                                "ticks": ""
                                            },
                                            "baxis": {
                                                "gridcolor": "white",
                                                "linecolor": "white",
                                                "ticks": ""
                                            },
                                            "bgcolor": "#E5ECF6",
                                            "caxis": {
                                                "gridcolor": "white",
                                                "linecolor": "white",
                                                "ticks": ""
                                            }
                                        },
                                        "title": {
                                            "x": 0.05
                                        },
                                        "xaxis": {
                                            "automargin": true,
                                            "gridcolor": "white",
                                            "linecolor": "white",
                                            "ticks": "",
                                            "title": {
                                                "standoff": 15
                                            },
                                            "zerolinecolor": "white",
                                            "zerolinewidth": 2
                                        },
                                        "yaxis": {
                                            "automargin": true,
                                            "gridcolor": "white",
                                            "linecolor": "white",
                                            "ticks": "",
                                            "title": {
                                                "standoff": 15
                                            },
                                            "zerolinecolor": "white",
                                            "zerolinewidth": 2
                                        }
                                    }
                                },
                                "title": {
                                    "text": "Log probability of S given D for different shape parameters<br>(350 IDs)"
                                },
                                "width": 450,
                                "xaxis": {
                                    "anchor": "y",
                                    "domain": [
                                        0,
                                        1
                                    ],
                                    "title": {
                                        "text": "Main width<br><br>Main weight=0.7"
                                    },
                                    "type": "category"
                                },
                                "yaxis": {
                                    "anchor": "x",
                                    "domain": [
                                        0,
                                        1
                                    ],
                                    "title": {
                                        "text": "Tail width"
                                    }
                                }
                            }
                        }
                    },
                    "metadata": {},
                    "output_type": "display_data"
                }
            ],
            "source": [
                "params = [\n",
                "    (0.001, 0.01, 0.7),\n",
                "    (0.001, 0.03, 0.7),\n",
                "    (0.001, 0.07, 0.7),\n",
                "    (0.001, 0.1, 0.7),\n",
                "    (0.001, 0.15, 0.7),\n",
                "    (0.003, 0.01, 0.7),\n",
                "    (0.003, 0.03, 0.7),\n",
                "    (0.003, 0.07, 0.7),\n",
                "    (0.003, 0.1, 0.7),\n",
                "    (0.003, 0.15, 0.7),\n",
                "    (0.007, 0.01, 0.7),\n",
                "    (0.007, 0.03, 0.7),\n",
                "    (0.007, 0.07, 0.7),\n",
                "    (0.007, 0.1, 0.7),\n",
                "    (0.007, 0.15, 0.7),\n",
                "    (0.01, 0.03, 0.7),\n",
                "    (0.01, 0.07, 0.7),\n",
                "    (0.01, 0.1, 0.7),\n",
                "    (0.01, 0.15, 0.7),\n",
                "    (0.025, 0.03, 0.7),\n",
                "    (0.025, 0.07, 0.7),\n",
                "    (0.025, 0.1, 0.7),\n",
                "    (0.025, 0.15, 0.7),\n",
                "]\n",
                "labels = [\"main width\", \"tail width\", \"main weight\"]\n",
                "df_heatmap, data = load_and_process_json(23, params, labels)\n",
                "\n",
                "fig = make_subplots()\n",
                "fig = add_heatmap_for_weight(fig, df_heatmap, 0.7, 1)\n",
                "fig.update_layout(\n",
                "    title=f\"Log probability of S given D for different shape parameters<br>({len(IDs)} IDs)\",\n",
                "    yaxis_title=\"Tail width\",\n",
                "    # yaxis_type='log',\n",
                "    width=450,\n",
                "    height=400,\n",
                "    font_size=10,\n",
                ")\n",
                "fig.show()"
            ]
        },
        {
            "cell_type": "code",
            "execution_count": null,
            "metadata": {},
            "outputs": [],
            "source": [
                "for id in data.keys():\n",
                "\n",
                "    df_heatmap_for_ID = df_heatmap\n",
                "    df_heatmap_for_ID[\"log_p_S_given_D\"] = data[id]\n",
                "\n",
                "    # Plot for ID\n",
                "    fig = make_subplots()\n",
                "    fig = add_heatmap_for_weight(fig, df_heatmap_for_ID, 0.7, 1)\n",
                "    fig.update_layout(\n",
                "        title=f\"Log probability of S given D for different shape parameters\",\n",
                "        yaxis_title=\"Tail width\",\n",
                "        # yaxis_type='log',\n",
                "        width=800,\n",
                "        height=600,\n",
                "        font_size=12,\n",
                "    )\n",
                "    fig.write_image(\n",
                "        f\"{dh.get_path_to_main()}PlotsBreathe/Interconnecting_ARs_entries/heatmaps_optimal_ar_change_factor_shape/ID {id}.pdf\"\n",
                "    )"
            ]
        },
        {
            "cell_type": "code",
            "execution_count": 9,
            "metadata": {},
            "outputs": [
                {
                    "data": {
                        "application/vnd.plotly.v1+json": {
                            "config": {
                                "plotlyServerURL": "https://plot.ly"
                            },
                            "data": [
                                {
                                    "type": "heatmap",
                                    "x": [
                                        0.001,
                                        0.005,
                                        0.01,
                                        0.05,
                                        0.1,
                                        0.5,
                                        1,
                                        1.5,
                                        2
                                    ],
                                    "xaxis": "x",
                                    "y": [
                                        0.1,
                                        0.1,
                                        0.1,
                                        0.1,
                                        0.1,
                                        0.1,
                                        0.1,
                                        0.1,
                                        0.1
                                    ],
                                    "yaxis": "y",
                                    "z": [
                                        -120.44801288000001,
                                        -117.64684242,
                                        -116.97923943,
                                        -114.59028863,
                                        -113.48502044,
                                        -111.67509907,
                                        -112.01190534,
                                        -113.05652723,
                                        -114.49605682999999
                                    ]
                                }
                            ],
                            "layout": {
                                "font": {
                                    "size": 10
                                },
                                "height": 250,
                                "template": {
                                    "data": {
                                        "bar": [
                                            {
                                                "error_x": {
                                                    "color": "#2a3f5f"
                                                },
                                                "error_y": {
                                                    "color": "#2a3f5f"
                                                },
                                                "marker": {
                                                    "line": {
                                                        "color": "#E5ECF6",
                                                        "width": 0.5
                                                    },
                                                    "pattern": {
                                                        "fillmode": "overlay",
                                                        "size": 10,
                                                        "solidity": 0.2
                                                    }
                                                },
                                                "type": "bar"
                                            }
                                        ],
                                        "barpolar": [
                                            {
                                                "marker": {
                                                    "line": {
                                                        "color": "#E5ECF6",
                                                        "width": 0.5
                                                    },
                                                    "pattern": {
                                                        "fillmode": "overlay",
                                                        "size": 10,
                                                        "solidity": 0.2
                                                    }
                                                },
                                                "type": "barpolar"
                                            }
                                        ],
                                        "carpet": [
                                            {
                                                "aaxis": {
                                                    "endlinecolor": "#2a3f5f",
                                                    "gridcolor": "white",
                                                    "linecolor": "white",
                                                    "minorgridcolor": "white",
                                                    "startlinecolor": "#2a3f5f"
                                                },
                                                "baxis": {
                                                    "endlinecolor": "#2a3f5f",
                                                    "gridcolor": "white",
                                                    "linecolor": "white",
                                                    "minorgridcolor": "white",
                                                    "startlinecolor": "#2a3f5f"
                                                },
                                                "type": "carpet"
                                            }
                                        ],
                                        "choropleth": [
                                            {
                                                "colorbar": {
                                                    "outlinewidth": 0,
                                                    "ticks": ""
                                                },
                                                "type": "choropleth"
                                            }
                                        ],
                                        "contour": [
                                            {
                                                "colorbar": {
                                                    "outlinewidth": 0,
                                                    "ticks": ""
                                                },
                                                "colorscale": [
                                                    [
                                                        0,
                                                        "#0d0887"
                                                    ],
                                                    [
                                                        0.1111111111111111,
                                                        "#46039f"
                                                    ],
                                                    [
                                                        0.2222222222222222,
                                                        "#7201a8"
                                                    ],
                                                    [
                                                        0.3333333333333333,
                                                        "#9c179e"
                                                    ],
                                                    [
                                                        0.4444444444444444,
                                                        "#bd3786"
                                                    ],
                                                    [
                                                        0.5555555555555556,
                                                        "#d8576b"
                                                    ],
                                                    [
                                                        0.6666666666666666,
                                                        "#ed7953"
                                                    ],
                                                    [
                                                        0.7777777777777778,
                                                        "#fb9f3a"
                                                    ],
                                                    [
                                                        0.8888888888888888,
                                                        "#fdca26"
                                                    ],
                                                    [
                                                        1,
                                                        "#f0f921"
                                                    ]
                                                ],
                                                "type": "contour"
                                            }
                                        ],
                                        "contourcarpet": [
                                            {
                                                "colorbar": {
                                                    "outlinewidth": 0,
                                                    "ticks": ""
                                                },
                                                "type": "contourcarpet"
                                            }
                                        ],
                                        "heatmap": [
                                            {
                                                "colorbar": {
                                                    "outlinewidth": 0,
                                                    "ticks": ""
                                                },
                                                "colorscale": [
                                                    [
                                                        0,
                                                        "#0d0887"
                                                    ],
                                                    [
                                                        0.1111111111111111,
                                                        "#46039f"
                                                    ],
                                                    [
                                                        0.2222222222222222,
                                                        "#7201a8"
                                                    ],
                                                    [
                                                        0.3333333333333333,
                                                        "#9c179e"
                                                    ],
                                                    [
                                                        0.4444444444444444,
                                                        "#bd3786"
                                                    ],
                                                    [
                                                        0.5555555555555556,
                                                        "#d8576b"
                                                    ],
                                                    [
                                                        0.6666666666666666,
                                                        "#ed7953"
                                                    ],
                                                    [
                                                        0.7777777777777778,
                                                        "#fb9f3a"
                                                    ],
                                                    [
                                                        0.8888888888888888,
                                                        "#fdca26"
                                                    ],
                                                    [
                                                        1,
                                                        "#f0f921"
                                                    ]
                                                ],
                                                "type": "heatmap"
                                            }
                                        ],
                                        "heatmapgl": [
                                            {
                                                "colorbar": {
                                                    "outlinewidth": 0,
                                                    "ticks": ""
                                                },
                                                "colorscale": [
                                                    [
                                                        0,
                                                        "#0d0887"
                                                    ],
                                                    [
                                                        0.1111111111111111,
                                                        "#46039f"
                                                    ],
                                                    [
                                                        0.2222222222222222,
                                                        "#7201a8"
                                                    ],
                                                    [
                                                        0.3333333333333333,
                                                        "#9c179e"
                                                    ],
                                                    [
                                                        0.4444444444444444,
                                                        "#bd3786"
                                                    ],
                                                    [
                                                        0.5555555555555556,
                                                        "#d8576b"
                                                    ],
                                                    [
                                                        0.6666666666666666,
                                                        "#ed7953"
                                                    ],
                                                    [
                                                        0.7777777777777778,
                                                        "#fb9f3a"
                                                    ],
                                                    [
                                                        0.8888888888888888,
                                                        "#fdca26"
                                                    ],
                                                    [
                                                        1,
                                                        "#f0f921"
                                                    ]
                                                ],
                                                "type": "heatmapgl"
                                            }
                                        ],
                                        "histogram": [
                                            {
                                                "marker": {
                                                    "pattern": {
                                                        "fillmode": "overlay",
                                                        "size": 10,
                                                        "solidity": 0.2
                                                    }
                                                },
                                                "type": "histogram"
                                            }
                                        ],
                                        "histogram2d": [
                                            {
                                                "colorbar": {
                                                    "outlinewidth": 0,
                                                    "ticks": ""
                                                },
                                                "colorscale": [
                                                    [
                                                        0,
                                                        "#0d0887"
                                                    ],
                                                    [
                                                        0.1111111111111111,
                                                        "#46039f"
                                                    ],
                                                    [
                                                        0.2222222222222222,
                                                        "#7201a8"
                                                    ],
                                                    [
                                                        0.3333333333333333,
                                                        "#9c179e"
                                                    ],
                                                    [
                                                        0.4444444444444444,
                                                        "#bd3786"
                                                    ],
                                                    [
                                                        0.5555555555555556,
                                                        "#d8576b"
                                                    ],
                                                    [
                                                        0.6666666666666666,
                                                        "#ed7953"
                                                    ],
                                                    [
                                                        0.7777777777777778,
                                                        "#fb9f3a"
                                                    ],
                                                    [
                                                        0.8888888888888888,
                                                        "#fdca26"
                                                    ],
                                                    [
                                                        1,
                                                        "#f0f921"
                                                    ]
                                                ],
                                                "type": "histogram2d"
                                            }
                                        ],
                                        "histogram2dcontour": [
                                            {
                                                "colorbar": {
                                                    "outlinewidth": 0,
                                                    "ticks": ""
                                                },
                                                "colorscale": [
                                                    [
                                                        0,
                                                        "#0d0887"
                                                    ],
                                                    [
                                                        0.1111111111111111,
                                                        "#46039f"
                                                    ],
                                                    [
                                                        0.2222222222222222,
                                                        "#7201a8"
                                                    ],
                                                    [
                                                        0.3333333333333333,
                                                        "#9c179e"
                                                    ],
                                                    [
                                                        0.4444444444444444,
                                                        "#bd3786"
                                                    ],
                                                    [
                                                        0.5555555555555556,
                                                        "#d8576b"
                                                    ],
                                                    [
                                                        0.6666666666666666,
                                                        "#ed7953"
                                                    ],
                                                    [
                                                        0.7777777777777778,
                                                        "#fb9f3a"
                                                    ],
                                                    [
                                                        0.8888888888888888,
                                                        "#fdca26"
                                                    ],
                                                    [
                                                        1,
                                                        "#f0f921"
                                                    ]
                                                ],
                                                "type": "histogram2dcontour"
                                            }
                                        ],
                                        "mesh3d": [
                                            {
                                                "colorbar": {
                                                    "outlinewidth": 0,
                                                    "ticks": ""
                                                },
                                                "type": "mesh3d"
                                            }
                                        ],
                                        "parcoords": [
                                            {
                                                "line": {
                                                    "colorbar": {
                                                        "outlinewidth": 0,
                                                        "ticks": ""
                                                    }
                                                },
                                                "type": "parcoords"
                                            }
                                        ],
                                        "pie": [
                                            {
                                                "automargin": true,
                                                "type": "pie"
                                            }
                                        ],
                                        "scatter": [
                                            {
                                                "fillpattern": {
                                                    "fillmode": "overlay",
                                                    "size": 10,
                                                    "solidity": 0.2
                                                },
                                                "type": "scatter"
                                            }
                                        ],
                                        "scatter3d": [
                                            {
                                                "line": {
                                                    "colorbar": {
                                                        "outlinewidth": 0,
                                                        "ticks": ""
                                                    }
                                                },
                                                "marker": {
                                                    "colorbar": {
                                                        "outlinewidth": 0,
                                                        "ticks": ""
                                                    }
                                                },
                                                "type": "scatter3d"
                                            }
                                        ],
                                        "scattercarpet": [
                                            {
                                                "marker": {
                                                    "colorbar": {
                                                        "outlinewidth": 0,
                                                        "ticks": ""
                                                    }
                                                },
                                                "type": "scattercarpet"
                                            }
                                        ],
                                        "scattergeo": [
                                            {
                                                "marker": {
                                                    "colorbar": {
                                                        "outlinewidth": 0,
                                                        "ticks": ""
                                                    }
                                                },
                                                "type": "scattergeo"
                                            }
                                        ],
                                        "scattergl": [
                                            {
                                                "marker": {
                                                    "colorbar": {
                                                        "outlinewidth": 0,
                                                        "ticks": ""
                                                    }
                                                },
                                                "type": "scattergl"
                                            }
                                        ],
                                        "scattermapbox": [
                                            {
                                                "marker": {
                                                    "colorbar": {
                                                        "outlinewidth": 0,
                                                        "ticks": ""
                                                    }
                                                },
                                                "type": "scattermapbox"
                                            }
                                        ],
                                        "scatterpolar": [
                                            {
                                                "marker": {
                                                    "colorbar": {
                                                        "outlinewidth": 0,
                                                        "ticks": ""
                                                    }
                                                },
                                                "type": "scatterpolar"
                                            }
                                        ],
                                        "scatterpolargl": [
                                            {
                                                "marker": {
                                                    "colorbar": {
                                                        "outlinewidth": 0,
                                                        "ticks": ""
                                                    }
                                                },
                                                "type": "scatterpolargl"
                                            }
                                        ],
                                        "scatterternary": [
                                            {
                                                "marker": {
                                                    "colorbar": {
                                                        "outlinewidth": 0,
                                                        "ticks": ""
                                                    }
                                                },
                                                "type": "scatterternary"
                                            }
                                        ],
                                        "surface": [
                                            {
                                                "colorbar": {
                                                    "outlinewidth": 0,
                                                    "ticks": ""
                                                },
                                                "colorscale": [
                                                    [
                                                        0,
                                                        "#0d0887"
                                                    ],
                                                    [
                                                        0.1111111111111111,
                                                        "#46039f"
                                                    ],
                                                    [
                                                        0.2222222222222222,
                                                        "#7201a8"
                                                    ],
                                                    [
                                                        0.3333333333333333,
                                                        "#9c179e"
                                                    ],
                                                    [
                                                        0.4444444444444444,
                                                        "#bd3786"
                                                    ],
                                                    [
                                                        0.5555555555555556,
                                                        "#d8576b"
                                                    ],
                                                    [
                                                        0.6666666666666666,
                                                        "#ed7953"
                                                    ],
                                                    [
                                                        0.7777777777777778,
                                                        "#fb9f3a"
                                                    ],
                                                    [
                                                        0.8888888888888888,
                                                        "#fdca26"
                                                    ],
                                                    [
                                                        1,
                                                        "#f0f921"
                                                    ]
                                                ],
                                                "type": "surface"
                                            }
                                        ],
                                        "table": [
                                            {
                                                "cells": {
                                                    "fill": {
                                                        "color": "#EBF0F8"
                                                    },
                                                    "line": {
                                                        "color": "white"
                                                    }
                                                },
                                                "header": {
                                                    "fill": {
                                                        "color": "#C8D4E3"
                                                    },
                                                    "line": {
                                                        "color": "white"
                                                    }
                                                },
                                                "type": "table"
                                            }
                                        ]
                                    },
                                    "layout": {
                                        "annotationdefaults": {
                                            "arrowcolor": "#2a3f5f",
                                            "arrowhead": 0,
                                            "arrowwidth": 1
                                        },
                                        "autotypenumbers": "strict",
                                        "coloraxis": {
                                            "colorbar": {
                                                "outlinewidth": 0,
                                                "ticks": ""
                                            }
                                        },
                                        "colorscale": {
                                            "diverging": [
                                                [
                                                    0,
                                                    "#8e0152"
                                                ],
                                                [
                                                    0.1,
                                                    "#c51b7d"
                                                ],
                                                [
                                                    0.2,
                                                    "#de77ae"
                                                ],
                                                [
                                                    0.3,
                                                    "#f1b6da"
                                                ],
                                                [
                                                    0.4,
                                                    "#fde0ef"
                                                ],
                                                [
                                                    0.5,
                                                    "#f7f7f7"
                                                ],
                                                [
                                                    0.6,
                                                    "#e6f5d0"
                                                ],
                                                [
                                                    0.7,
                                                    "#b8e186"
                                                ],
                                                [
                                                    0.8,
                                                    "#7fbc41"
                                                ],
                                                [
                                                    0.9,
                                                    "#4d9221"
                                                ],
                                                [
                                                    1,
                                                    "#276419"
                                                ]
                                            ],
                                            "sequential": [
                                                [
                                                    0,
                                                    "#0d0887"
                                                ],
                                                [
                                                    0.1111111111111111,
                                                    "#46039f"
                                                ],
                                                [
                                                    0.2222222222222222,
                                                    "#7201a8"
                                                ],
                                                [
                                                    0.3333333333333333,
                                                    "#9c179e"
                                                ],
                                                [
                                                    0.4444444444444444,
                                                    "#bd3786"
                                                ],
                                                [
                                                    0.5555555555555556,
                                                    "#d8576b"
                                                ],
                                                [
                                                    0.6666666666666666,
                                                    "#ed7953"
                                                ],
                                                [
                                                    0.7777777777777778,
                                                    "#fb9f3a"
                                                ],
                                                [
                                                    0.8888888888888888,
                                                    "#fdca26"
                                                ],
                                                [
                                                    1,
                                                    "#f0f921"
                                                ]
                                            ],
                                            "sequentialminus": [
                                                [
                                                    0,
                                                    "#0d0887"
                                                ],
                                                [
                                                    0.1111111111111111,
                                                    "#46039f"
                                                ],
                                                [
                                                    0.2222222222222222,
                                                    "#7201a8"
                                                ],
                                                [
                                                    0.3333333333333333,
                                                    "#9c179e"
                                                ],
                                                [
                                                    0.4444444444444444,
                                                    "#bd3786"
                                                ],
                                                [
                                                    0.5555555555555556,
                                                    "#d8576b"
                                                ],
                                                [
                                                    0.6666666666666666,
                                                    "#ed7953"
                                                ],
                                                [
                                                    0.7777777777777778,
                                                    "#fb9f3a"
                                                ],
                                                [
                                                    0.8888888888888888,
                                                    "#fdca26"
                                                ],
                                                [
                                                    1,
                                                    "#f0f921"
                                                ]
                                            ]
                                        },
                                        "colorway": [
                                            "#636efa",
                                            "#EF553B",
                                            "#00cc96",
                                            "#ab63fa",
                                            "#FFA15A",
                                            "#19d3f3",
                                            "#FF6692",
                                            "#B6E880",
                                            "#FF97FF",
                                            "#FECB52"
                                        ],
                                        "font": {
                                            "color": "#2a3f5f"
                                        },
                                        "geo": {
                                            "bgcolor": "white",
                                            "lakecolor": "white",
                                            "landcolor": "#E5ECF6",
                                            "showlakes": true,
                                            "showland": true,
                                            "subunitcolor": "white"
                                        },
                                        "hoverlabel": {
                                            "align": "left"
                                        },
                                        "hovermode": "closest",
                                        "mapbox": {
                                            "style": "light"
                                        },
                                        "paper_bgcolor": "white",
                                        "plot_bgcolor": "#E5ECF6",
                                        "polar": {
                                            "angularaxis": {
                                                "gridcolor": "white",
                                                "linecolor": "white",
                                                "ticks": ""
                                            },
                                            "bgcolor": "#E5ECF6",
                                            "radialaxis": {
                                                "gridcolor": "white",
                                                "linecolor": "white",
                                                "ticks": ""
                                            }
                                        },
                                        "scene": {
                                            "xaxis": {
                                                "backgroundcolor": "#E5ECF6",
                                                "gridcolor": "white",
                                                "gridwidth": 2,
                                                "linecolor": "white",
                                                "showbackground": true,
                                                "ticks": "",
                                                "zerolinecolor": "white"
                                            },
                                            "yaxis": {
                                                "backgroundcolor": "#E5ECF6",
                                                "gridcolor": "white",
                                                "gridwidth": 2,
                                                "linecolor": "white",
                                                "showbackground": true,
                                                "ticks": "",
                                                "zerolinecolor": "white"
                                            },
                                            "zaxis": {
                                                "backgroundcolor": "#E5ECF6",
                                                "gridcolor": "white",
                                                "gridwidth": 2,
                                                "linecolor": "white",
                                                "showbackground": true,
                                                "ticks": "",
                                                "zerolinecolor": "white"
                                            }
                                        },
                                        "shapedefaults": {
                                            "line": {
                                                "color": "#2a3f5f"
                                            }
                                        },
                                        "ternary": {
                                            "aaxis": {
                                                "gridcolor": "white",
                                                "linecolor": "white",
                                                "ticks": ""
                                            },
                                            "baxis": {
                                                "gridcolor": "white",
                                                "linecolor": "white",
                                                "ticks": ""
                                            },
                                            "bgcolor": "#E5ECF6",
                                            "caxis": {
                                                "gridcolor": "white",
                                                "linecolor": "white",
                                                "ticks": ""
                                            }
                                        },
                                        "title": {
                                            "x": 0.05
                                        },
                                        "xaxis": {
                                            "automargin": true,
                                            "gridcolor": "white",
                                            "linecolor": "white",
                                            "ticks": "",
                                            "title": {
                                                "standoff": 15
                                            },
                                            "zerolinecolor": "white",
                                            "zerolinewidth": 2
                                        },
                                        "yaxis": {
                                            "automargin": true,
                                            "gridcolor": "white",
                                            "linecolor": "white",
                                            "ticks": "",
                                            "title": {
                                                "standoff": 15
                                            },
                                            "zerolinecolor": "white",
                                            "zerolinewidth": 2
                                        }
                                    }
                                },
                                "title": {
                                    "text": "Log probability of S given D for different shape parameters<br>(2 IDs)"
                                },
                                "width": 450,
                                "xaxis": {
                                    "anchor": "y",
                                    "domain": [
                                        0,
                                        1
                                    ],
                                    "title": {
                                        "text": "Main width<br><br>Main weight=1"
                                    },
                                    "type": "category"
                                },
                                "yaxis": {
                                    "anchor": "x",
                                    "domain": [
                                        0,
                                        1
                                    ],
                                    "title": {
                                        "text": "Tail width"
                                    }
                                }
                            }
                        }
                    },
                    "metadata": {},
                    "output_type": "display_data"
                }
            ],
            "source": [
                "params = [\n",
                "    (0.001, 0.1, 1),\n",
                "    (0.005, 0.1, 1),\n",
                "    (0.01, 0.1, 1),\n",
                "    (0.05, 0.1, 1),\n",
                "    (0.1, 0.1, 1),\n",
                "    (0.5, 0.1, 1),\n",
                "    (1, 0.1, 1),\n",
                "    (1.5, 0.1, 1),\n",
                "    (2, 0.1, 1),\n",
                "]\n",
                "labels = [\"main width\", \"tail width\", \"main weight\"]\n",
                "df_heatmap, data = load_and_process_json(9, params, labels)\n",
                "IDs = list(data.keys())\n",
                "\n",
                "fig = make_subplots()\n",
                "fig = add_heatmap_for_weight(fig, df_heatmap, 1, 1)\n",
                "fig.update_layout(\n",
                "    title=f\"Log probability of S given D for different shape parameters<br>({len(IDs)} IDs)\",\n",
                "    yaxis_title=\"Tail width\",\n",
                "    # yaxis_type='log',\n",
                "    width=450,\n",
                "    height=250,\n",
                "    font_size=10,\n",
                ")\n",
                "fig.show()"
            ]
        },
        {
            "cell_type": "markdown",
            "metadata": {},
            "source": [
                "## Process results (archive)"
            ]
        },
        {
            "cell_type": "code",
            "execution_count": 148,
            "metadata": {},
            "outputs": [
                {
                    "data": {
                        "text/html": [
                            "<div>\n",
                            "<style scoped>\n",
                            "    .dataframe tbody tr th:only-of-type {\n",
                            "        vertical-align: middle;\n",
                            "    }\n",
                            "\n",
                            "    .dataframe tbody tr th {\n",
                            "        vertical-align: top;\n",
                            "    }\n",
                            "\n",
                            "    .dataframe thead th {\n",
                            "        text-align: right;\n",
                            "    }\n",
                            "</style>\n",
                            "<table border=\"1\" class=\"dataframe\">\n",
                            "  <thead>\n",
                            "    <tr style=\"text-align: right;\">\n",
                            "      <th></th>\n",
                            "      <th>log_p_S_given_D</th>\n",
                            "      <th>params</th>\n",
                            "      <th>main width</th>\n",
                            "      <th>tail width</th>\n",
                            "      <th>main weight</th>\n",
                            "    </tr>\n",
                            "  </thead>\n",
                            "  <tbody>\n",
                            "    <tr>\n",
                            "      <th>0</th>\n",
                            "      <td>-5.094301e+04</td>\n",
                            "      <td>(2, 15, 0.3)</td>\n",
                            "      <td>2</td>\n",
                            "      <td>15</td>\n",
                            "      <td>0.3</td>\n",
                            "    </tr>\n",
                            "    <tr>\n",
                            "      <th>1</th>\n",
                            "      <td>-4.910879e+04</td>\n",
                            "      <td>(2, 15, 0.5)</td>\n",
                            "      <td>2</td>\n",
                            "      <td>15</td>\n",
                            "      <td>0.5</td>\n",
                            "    </tr>\n",
                            "    <tr>\n",
                            "      <th>2</th>\n",
                            "      <td>-4.775033e+04</td>\n",
                            "      <td>(2, 15, 0.7)</td>\n",
                            "      <td>2</td>\n",
                            "      <td>15</td>\n",
                            "      <td>0.7</td>\n",
                            "    </tr>\n",
                            "    <tr>\n",
                            "      <th>3</th>\n",
                            "      <td>-5.177770e+04</td>\n",
                            "      <td>(2, 30, 0.3)</td>\n",
                            "      <td>2</td>\n",
                            "      <td>30</td>\n",
                            "      <td>0.3</td>\n",
                            "    </tr>\n",
                            "    <tr>\n",
                            "      <th>4</th>\n",
                            "      <td>-4.944245e+04</td>\n",
                            "      <td>(2, 30, 0.5)</td>\n",
                            "      <td>2</td>\n",
                            "      <td>30</td>\n",
                            "      <td>0.5</td>\n",
                            "    </tr>\n",
                            "    <tr>\n",
                            "      <th>5</th>\n",
                            "      <td>-4.788089e+04</td>\n",
                            "      <td>(2, 30, 0.7)</td>\n",
                            "      <td>2</td>\n",
                            "      <td>30</td>\n",
                            "      <td>0.7</td>\n",
                            "    </tr>\n",
                            "    <tr>\n",
                            "      <th>6</th>\n",
                            "      <td>-5.141493e+04</td>\n",
                            "      <td>(2, 50, 0.3)</td>\n",
                            "      <td>2</td>\n",
                            "      <td>50</td>\n",
                            "      <td>0.3</td>\n",
                            "    </tr>\n",
                            "    <tr>\n",
                            "      <th>7</th>\n",
                            "      <td>-4.909168e+04</td>\n",
                            "      <td>(2, 50, 0.5)</td>\n",
                            "      <td>2</td>\n",
                            "      <td>50</td>\n",
                            "      <td>0.5</td>\n",
                            "    </tr>\n",
                            "    <tr>\n",
                            "      <th>8</th>\n",
                            "      <td>-4.767621e+04</td>\n",
                            "      <td>(2, 50, 0.7)</td>\n",
                            "      <td>2</td>\n",
                            "      <td>50</td>\n",
                            "      <td>0.7</td>\n",
                            "    </tr>\n",
                            "    <tr>\n",
                            "      <th>9</th>\n",
                            "      <td>-5.278688e+04</td>\n",
                            "      <td>(5, 15, 0.3)</td>\n",
                            "      <td>5</td>\n",
                            "      <td>15</td>\n",
                            "      <td>0.3</td>\n",
                            "    </tr>\n",
                            "    <tr>\n",
                            "      <th>10</th>\n",
                            "      <td>-5.148199e+04</td>\n",
                            "      <td>(5, 15, 0.5)</td>\n",
                            "      <td>5</td>\n",
                            "      <td>15</td>\n",
                            "      <td>0.5</td>\n",
                            "    </tr>\n",
                            "    <tr>\n",
                            "      <th>11</th>\n",
                            "      <td>-5.041678e+04</td>\n",
                            "      <td>(5, 15, 0.7)</td>\n",
                            "      <td>5</td>\n",
                            "      <td>15</td>\n",
                            "      <td>0.7</td>\n",
                            "    </tr>\n",
                            "    <tr>\n",
                            "      <th>12</th>\n",
                            "      <td>-5.412482e+04</td>\n",
                            "      <td>(5, 30, 0.3)</td>\n",
                            "      <td>5</td>\n",
                            "      <td>30</td>\n",
                            "      <td>0.3</td>\n",
                            "    </tr>\n",
                            "    <tr>\n",
                            "      <th>13</th>\n",
                            "      <td>-5.212654e+04</td>\n",
                            "      <td>(5, 30, 0.5)</td>\n",
                            "      <td>5</td>\n",
                            "      <td>30</td>\n",
                            "      <td>0.5</td>\n",
                            "    </tr>\n",
                            "    <tr>\n",
                            "      <th>14</th>\n",
                            "      <td>-5.068574e+04</td>\n",
                            "      <td>(5, 30, 0.7)</td>\n",
                            "      <td>5</td>\n",
                            "      <td>30</td>\n",
                            "      <td>0.7</td>\n",
                            "    </tr>\n",
                            "    <tr>\n",
                            "      <th>15</th>\n",
                            "      <td>-5.402105e+04</td>\n",
                            "      <td>(5, 50, 0.3)</td>\n",
                            "      <td>5</td>\n",
                            "      <td>50</td>\n",
                            "      <td>0.3</td>\n",
                            "    </tr>\n",
                            "    <tr>\n",
                            "      <th>16</th>\n",
                            "      <td>-5.189363e+04</td>\n",
                            "      <td>(5, 50, 0.5)</td>\n",
                            "      <td>5</td>\n",
                            "      <td>50</td>\n",
                            "      <td>0.5</td>\n",
                            "    </tr>\n",
                            "    <tr>\n",
                            "      <th>17</th>\n",
                            "      <td>-5.051049e+04</td>\n",
                            "      <td>(5, 50, 0.7)</td>\n",
                            "      <td>5</td>\n",
                            "      <td>50</td>\n",
                            "      <td>0.7</td>\n",
                            "    </tr>\n",
                            "    <tr>\n",
                            "      <th>18</th>\n",
                            "      <td>-5.400704e+04</td>\n",
                            "      <td>(8, 15, 0.3)</td>\n",
                            "      <td>8</td>\n",
                            "      <td>15</td>\n",
                            "      <td>0.3</td>\n",
                            "    </tr>\n",
                            "    <tr>\n",
                            "      <th>19</th>\n",
                            "      <td>-5.320272e+04</td>\n",
                            "      <td>(8, 15, 0.5)</td>\n",
                            "      <td>8</td>\n",
                            "      <td>15</td>\n",
                            "      <td>0.5</td>\n",
                            "    </tr>\n",
                            "    <tr>\n",
                            "      <th>20</th>\n",
                            "      <td>-5.249486e+04</td>\n",
                            "      <td>(8, 15, 0.7)</td>\n",
                            "      <td>8</td>\n",
                            "      <td>15</td>\n",
                            "      <td>0.7</td>\n",
                            "    </tr>\n",
                            "    <tr>\n",
                            "      <th>21</th>\n",
                            "      <td>-inf</td>\n",
                            "      <td>(8, 30, 0.3)</td>\n",
                            "      <td>8</td>\n",
                            "      <td>30</td>\n",
                            "      <td>0.3</td>\n",
                            "    </tr>\n",
                            "    <tr>\n",
                            "      <th>22</th>\n",
                            "      <td>-5.418962e+04</td>\n",
                            "      <td>(8, 30, 0.5)</td>\n",
                            "      <td>8</td>\n",
                            "      <td>30</td>\n",
                            "      <td>0.5</td>\n",
                            "    </tr>\n",
                            "    <tr>\n",
                            "      <th>23</th>\n",
                            "      <td>-5.296286e+04</td>\n",
                            "      <td>(8, 30, 0.7)</td>\n",
                            "      <td>8</td>\n",
                            "      <td>30</td>\n",
                            "      <td>0.7</td>\n",
                            "    </tr>\n",
                            "    <tr>\n",
                            "      <th>24</th>\n",
                            "      <td>-inf</td>\n",
                            "      <td>(8, 50, 0.3)</td>\n",
                            "      <td>8</td>\n",
                            "      <td>50</td>\n",
                            "      <td>0.3</td>\n",
                            "    </tr>\n",
                            "    <tr>\n",
                            "      <th>25</th>\n",
                            "      <td>-5.413164e+04</td>\n",
                            "      <td>(8, 50, 0.5)</td>\n",
                            "      <td>8</td>\n",
                            "      <td>50</td>\n",
                            "      <td>0.5</td>\n",
                            "    </tr>\n",
                            "    <tr>\n",
                            "      <th>26</th>\n",
                            "      <td>-5.287134e+04</td>\n",
                            "      <td>(8, 50, 0.7)</td>\n",
                            "      <td>8</td>\n",
                            "      <td>50</td>\n",
                            "      <td>0.7</td>\n",
                            "    </tr>\n",
                            "  </tbody>\n",
                            "</table>\n",
                            "</div>"
                        ],
                        "text/plain": [
                            "    log_p_S_given_D        params  main width  tail width  main weight\n",
                            "0     -5.094301e+04  (2, 15, 0.3)           2          15          0.3\n",
                            "1     -4.910879e+04  (2, 15, 0.5)           2          15          0.5\n",
                            "2     -4.775033e+04  (2, 15, 0.7)           2          15          0.7\n",
                            "3     -5.177770e+04  (2, 30, 0.3)           2          30          0.3\n",
                            "4     -4.944245e+04  (2, 30, 0.5)           2          30          0.5\n",
                            "5     -4.788089e+04  (2, 30, 0.7)           2          30          0.7\n",
                            "6     -5.141493e+04  (2, 50, 0.3)           2          50          0.3\n",
                            "7     -4.909168e+04  (2, 50, 0.5)           2          50          0.5\n",
                            "8     -4.767621e+04  (2, 50, 0.7)           2          50          0.7\n",
                            "9     -5.278688e+04  (5, 15, 0.3)           5          15          0.3\n",
                            "10    -5.148199e+04  (5, 15, 0.5)           5          15          0.5\n",
                            "11    -5.041678e+04  (5, 15, 0.7)           5          15          0.7\n",
                            "12    -5.412482e+04  (5, 30, 0.3)           5          30          0.3\n",
                            "13    -5.212654e+04  (5, 30, 0.5)           5          30          0.5\n",
                            "14    -5.068574e+04  (5, 30, 0.7)           5          30          0.7\n",
                            "15    -5.402105e+04  (5, 50, 0.3)           5          50          0.3\n",
                            "16    -5.189363e+04  (5, 50, 0.5)           5          50          0.5\n",
                            "17    -5.051049e+04  (5, 50, 0.7)           5          50          0.7\n",
                            "18    -5.400704e+04  (8, 15, 0.3)           8          15          0.3\n",
                            "19    -5.320272e+04  (8, 15, 0.5)           8          15          0.5\n",
                            "20    -5.249486e+04  (8, 15, 0.7)           8          15          0.7\n",
                            "21             -inf  (8, 30, 0.3)           8          30          0.3\n",
                            "22    -5.418962e+04  (8, 30, 0.5)           8          30          0.5\n",
                            "23    -5.296286e+04  (8, 30, 0.7)           8          30          0.7\n",
                            "24             -inf  (8, 50, 0.3)           8          50          0.3\n",
                            "25    -5.413164e+04  (8, 50, 0.5)           8          50          0.5\n",
                            "26    -5.287134e+04  (8, 50, 0.7)           8          50          0.7"
                        ]
                    },
                    "execution_count": 148,
                    "metadata": {},
                    "output_type": "execute_result"
                }
            ],
            "source": [
                "# Element wise addition of the values in data\n",
                "params = [\n",
                "    (2, 15, 0.3),\n",
                "    (2, 15, 0.5),\n",
                "    (2, 15, 0.7),\n",
                "    (2, 30, 0.3),\n",
                "    (2, 30, 0.5),\n",
                "    (2, 30, 0.7),\n",
                "    (2, 50, 0.3),\n",
                "    (2, 50, 0.5),\n",
                "    (2, 50, 0.7),\n",
                "    (5, 15, 0.3),\n",
                "    (5, 15, 0.5),\n",
                "    (5, 15, 0.7),\n",
                "    (5, 30, 0.3),\n",
                "    (5, 30, 0.5),\n",
                "    (5, 30, 0.7),\n",
                "    (5, 50, 0.3),\n",
                "    (5, 50, 0.5),\n",
                "    (5, 50, 0.7),\n",
                "    (8, 15, 0.3),\n",
                "    (8, 15, 0.5),\n",
                "    (8, 15, 0.7),\n",
                "    (8, 30, 0.3),\n",
                "    (8, 30, 0.5),\n",
                "    (8, 30, 0.7),\n",
                "    (8, 50, 0.3),\n",
                "    (8, 50, 0.5),\n",
                "    (8, 50, 0.7),\n",
                "]\n",
                "labels = [\"main width\", \"tail width\", \"main weight\"]\n",
                "\n",
                "df_heatmap, IDs = load_and_process_json(27, params, labels)\n",
                "df_heatmap"
            ]
        },
        {
            "cell_type": "code",
            "execution_count": 135,
            "metadata": {},
            "outputs": [
                {
                    "data": {
                        "application/vnd.plotly.v1+json": {
                            "config": {
                                "plotlyServerURL": "https://plot.ly"
                            },
                            "data": [
                                {
                                    "colorbar": {
                                        "title": {
                                            "text": "log_p_S_given_D"
                                        }
                                    },
                                    "type": "heatmap",
                                    "x": [
                                        2,
                                        2,
                                        2,
                                        5,
                                        5,
                                        5,
                                        8,
                                        8,
                                        8
                                    ],
                                    "xaxis": "x",
                                    "y": [
                                        15,
                                        30,
                                        50,
                                        15,
                                        30,
                                        50,
                                        15,
                                        30,
                                        50
                                    ],
                                    "yaxis": "y",
                                    "z": [
                                        -50943.01299052004,
                                        -51777.70402756,
                                        -51414.92757171001,
                                        -52786.87936913,
                                        -54124.82379924001,
                                        -54021.05213030999,
                                        -54007.04416969002,
                                        null,
                                        null
                                    ],
                                    "zmax": -47676.20919852996,
                                    "zmin": -54189.61899217001
                                },
                                {
                                    "colorbar": {
                                        "title": {
                                            "text": "log_p_S_given_D"
                                        }
                                    },
                                    "type": "heatmap",
                                    "x": [
                                        2,
                                        2,
                                        2,
                                        5,
                                        5,
                                        5,
                                        8,
                                        8,
                                        8
                                    ],
                                    "xaxis": "x2",
                                    "y": [
                                        15,
                                        30,
                                        50,
                                        15,
                                        30,
                                        50,
                                        15,
                                        30,
                                        50
                                    ],
                                    "yaxis": "y2",
                                    "z": [
                                        -49108.78589336999,
                                        -49442.45358519999,
                                        -49091.67592481005,
                                        -51481.98509334001,
                                        -52126.54212261003,
                                        -51893.629034009995,
                                        -53202.71752594003,
                                        -54189.61899217001,
                                        -54131.63650929005
                                    ],
                                    "zmax": -47676.20919852996,
                                    "zmin": -54189.61899217001
                                },
                                {
                                    "colorbar": {
                                        "title": {
                                            "text": "log_p_S_given_D"
                                        }
                                    },
                                    "type": "heatmap",
                                    "x": [
                                        2,
                                        2,
                                        2,
                                        5,
                                        5,
                                        5,
                                        8,
                                        8,
                                        8
                                    ],
                                    "xaxis": "x3",
                                    "y": [
                                        15,
                                        30,
                                        50,
                                        15,
                                        30,
                                        50,
                                        15,
                                        30,
                                        50
                                    ],
                                    "yaxis": "y3",
                                    "z": [
                                        -47750.32865484005,
                                        -47880.89090232003,
                                        -47676.20919852996,
                                        -50416.77941401002,
                                        -50685.739293520004,
                                        -50510.48631315007,
                                        -52494.857486070054,
                                        -52962.856711070024,
                                        -52871.337538730004
                                    ],
                                    "zmax": -47676.20919852996,
                                    "zmin": -54189.61899217001
                                }
                            ],
                            "layout": {
                                "font": {
                                    "size": 10
                                },
                                "height": 300,
                                "template": {
                                    "data": {
                                        "bar": [
                                            {
                                                "error_x": {
                                                    "color": "#2a3f5f"
                                                },
                                                "error_y": {
                                                    "color": "#2a3f5f"
                                                },
                                                "marker": {
                                                    "line": {
                                                        "color": "#E5ECF6",
                                                        "width": 0.5
                                                    },
                                                    "pattern": {
                                                        "fillmode": "overlay",
                                                        "size": 10,
                                                        "solidity": 0.2
                                                    }
                                                },
                                                "type": "bar"
                                            }
                                        ],
                                        "barpolar": [
                                            {
                                                "marker": {
                                                    "line": {
                                                        "color": "#E5ECF6",
                                                        "width": 0.5
                                                    },
                                                    "pattern": {
                                                        "fillmode": "overlay",
                                                        "size": 10,
                                                        "solidity": 0.2
                                                    }
                                                },
                                                "type": "barpolar"
                                            }
                                        ],
                                        "carpet": [
                                            {
                                                "aaxis": {
                                                    "endlinecolor": "#2a3f5f",
                                                    "gridcolor": "white",
                                                    "linecolor": "white",
                                                    "minorgridcolor": "white",
                                                    "startlinecolor": "#2a3f5f"
                                                },
                                                "baxis": {
                                                    "endlinecolor": "#2a3f5f",
                                                    "gridcolor": "white",
                                                    "linecolor": "white",
                                                    "minorgridcolor": "white",
                                                    "startlinecolor": "#2a3f5f"
                                                },
                                                "type": "carpet"
                                            }
                                        ],
                                        "choropleth": [
                                            {
                                                "colorbar": {
                                                    "outlinewidth": 0,
                                                    "ticks": ""
                                                },
                                                "type": "choropleth"
                                            }
                                        ],
                                        "contour": [
                                            {
                                                "colorbar": {
                                                    "outlinewidth": 0,
                                                    "ticks": ""
                                                },
                                                "colorscale": [
                                                    [
                                                        0,
                                                        "#0d0887"
                                                    ],
                                                    [
                                                        0.1111111111111111,
                                                        "#46039f"
                                                    ],
                                                    [
                                                        0.2222222222222222,
                                                        "#7201a8"
                                                    ],
                                                    [
                                                        0.3333333333333333,
                                                        "#9c179e"
                                                    ],
                                                    [
                                                        0.4444444444444444,
                                                        "#bd3786"
                                                    ],
                                                    [
                                                        0.5555555555555556,
                                                        "#d8576b"
                                                    ],
                                                    [
                                                        0.6666666666666666,
                                                        "#ed7953"
                                                    ],
                                                    [
                                                        0.7777777777777778,
                                                        "#fb9f3a"
                                                    ],
                                                    [
                                                        0.8888888888888888,
                                                        "#fdca26"
                                                    ],
                                                    [
                                                        1,
                                                        "#f0f921"
                                                    ]
                                                ],
                                                "type": "contour"
                                            }
                                        ],
                                        "contourcarpet": [
                                            {
                                                "colorbar": {
                                                    "outlinewidth": 0,
                                                    "ticks": ""
                                                },
                                                "type": "contourcarpet"
                                            }
                                        ],
                                        "heatmap": [
                                            {
                                                "colorbar": {
                                                    "outlinewidth": 0,
                                                    "ticks": ""
                                                },
                                                "colorscale": [
                                                    [
                                                        0,
                                                        "#0d0887"
                                                    ],
                                                    [
                                                        0.1111111111111111,
                                                        "#46039f"
                                                    ],
                                                    [
                                                        0.2222222222222222,
                                                        "#7201a8"
                                                    ],
                                                    [
                                                        0.3333333333333333,
                                                        "#9c179e"
                                                    ],
                                                    [
                                                        0.4444444444444444,
                                                        "#bd3786"
                                                    ],
                                                    [
                                                        0.5555555555555556,
                                                        "#d8576b"
                                                    ],
                                                    [
                                                        0.6666666666666666,
                                                        "#ed7953"
                                                    ],
                                                    [
                                                        0.7777777777777778,
                                                        "#fb9f3a"
                                                    ],
                                                    [
                                                        0.8888888888888888,
                                                        "#fdca26"
                                                    ],
                                                    [
                                                        1,
                                                        "#f0f921"
                                                    ]
                                                ],
                                                "type": "heatmap"
                                            }
                                        ],
                                        "heatmapgl": [
                                            {
                                                "colorbar": {
                                                    "outlinewidth": 0,
                                                    "ticks": ""
                                                },
                                                "colorscale": [
                                                    [
                                                        0,
                                                        "#0d0887"
                                                    ],
                                                    [
                                                        0.1111111111111111,
                                                        "#46039f"
                                                    ],
                                                    [
                                                        0.2222222222222222,
                                                        "#7201a8"
                                                    ],
                                                    [
                                                        0.3333333333333333,
                                                        "#9c179e"
                                                    ],
                                                    [
                                                        0.4444444444444444,
                                                        "#bd3786"
                                                    ],
                                                    [
                                                        0.5555555555555556,
                                                        "#d8576b"
                                                    ],
                                                    [
                                                        0.6666666666666666,
                                                        "#ed7953"
                                                    ],
                                                    [
                                                        0.7777777777777778,
                                                        "#fb9f3a"
                                                    ],
                                                    [
                                                        0.8888888888888888,
                                                        "#fdca26"
                                                    ],
                                                    [
                                                        1,
                                                        "#f0f921"
                                                    ]
                                                ],
                                                "type": "heatmapgl"
                                            }
                                        ],
                                        "histogram": [
                                            {
                                                "marker": {
                                                    "pattern": {
                                                        "fillmode": "overlay",
                                                        "size": 10,
                                                        "solidity": 0.2
                                                    }
                                                },
                                                "type": "histogram"
                                            }
                                        ],
                                        "histogram2d": [
                                            {
                                                "colorbar": {
                                                    "outlinewidth": 0,
                                                    "ticks": ""
                                                },
                                                "colorscale": [
                                                    [
                                                        0,
                                                        "#0d0887"
                                                    ],
                                                    [
                                                        0.1111111111111111,
                                                        "#46039f"
                                                    ],
                                                    [
                                                        0.2222222222222222,
                                                        "#7201a8"
                                                    ],
                                                    [
                                                        0.3333333333333333,
                                                        "#9c179e"
                                                    ],
                                                    [
                                                        0.4444444444444444,
                                                        "#bd3786"
                                                    ],
                                                    [
                                                        0.5555555555555556,
                                                        "#d8576b"
                                                    ],
                                                    [
                                                        0.6666666666666666,
                                                        "#ed7953"
                                                    ],
                                                    [
                                                        0.7777777777777778,
                                                        "#fb9f3a"
                                                    ],
                                                    [
                                                        0.8888888888888888,
                                                        "#fdca26"
                                                    ],
                                                    [
                                                        1,
                                                        "#f0f921"
                                                    ]
                                                ],
                                                "type": "histogram2d"
                                            }
                                        ],
                                        "histogram2dcontour": [
                                            {
                                                "colorbar": {
                                                    "outlinewidth": 0,
                                                    "ticks": ""
                                                },
                                                "colorscale": [
                                                    [
                                                        0,
                                                        "#0d0887"
                                                    ],
                                                    [
                                                        0.1111111111111111,
                                                        "#46039f"
                                                    ],
                                                    [
                                                        0.2222222222222222,
                                                        "#7201a8"
                                                    ],
                                                    [
                                                        0.3333333333333333,
                                                        "#9c179e"
                                                    ],
                                                    [
                                                        0.4444444444444444,
                                                        "#bd3786"
                                                    ],
                                                    [
                                                        0.5555555555555556,
                                                        "#d8576b"
                                                    ],
                                                    [
                                                        0.6666666666666666,
                                                        "#ed7953"
                                                    ],
                                                    [
                                                        0.7777777777777778,
                                                        "#fb9f3a"
                                                    ],
                                                    [
                                                        0.8888888888888888,
                                                        "#fdca26"
                                                    ],
                                                    [
                                                        1,
                                                        "#f0f921"
                                                    ]
                                                ],
                                                "type": "histogram2dcontour"
                                            }
                                        ],
                                        "mesh3d": [
                                            {
                                                "colorbar": {
                                                    "outlinewidth": 0,
                                                    "ticks": ""
                                                },
                                                "type": "mesh3d"
                                            }
                                        ],
                                        "parcoords": [
                                            {
                                                "line": {
                                                    "colorbar": {
                                                        "outlinewidth": 0,
                                                        "ticks": ""
                                                    }
                                                },
                                                "type": "parcoords"
                                            }
                                        ],
                                        "pie": [
                                            {
                                                "automargin": true,
                                                "type": "pie"
                                            }
                                        ],
                                        "scatter": [
                                            {
                                                "fillpattern": {
                                                    "fillmode": "overlay",
                                                    "size": 10,
                                                    "solidity": 0.2
                                                },
                                                "type": "scatter"
                                            }
                                        ],
                                        "scatter3d": [
                                            {
                                                "line": {
                                                    "colorbar": {
                                                        "outlinewidth": 0,
                                                        "ticks": ""
                                                    }
                                                },
                                                "marker": {
                                                    "colorbar": {
                                                        "outlinewidth": 0,
                                                        "ticks": ""
                                                    }
                                                },
                                                "type": "scatter3d"
                                            }
                                        ],
                                        "scattercarpet": [
                                            {
                                                "marker": {
                                                    "colorbar": {
                                                        "outlinewidth": 0,
                                                        "ticks": ""
                                                    }
                                                },
                                                "type": "scattercarpet"
                                            }
                                        ],
                                        "scattergeo": [
                                            {
                                                "marker": {
                                                    "colorbar": {
                                                        "outlinewidth": 0,
                                                        "ticks": ""
                                                    }
                                                },
                                                "type": "scattergeo"
                                            }
                                        ],
                                        "scattergl": [
                                            {
                                                "marker": {
                                                    "colorbar": {
                                                        "outlinewidth": 0,
                                                        "ticks": ""
                                                    }
                                                },
                                                "type": "scattergl"
                                            }
                                        ],
                                        "scattermapbox": [
                                            {
                                                "marker": {
                                                    "colorbar": {
                                                        "outlinewidth": 0,
                                                        "ticks": ""
                                                    }
                                                },
                                                "type": "scattermapbox"
                                            }
                                        ],
                                        "scatterpolar": [
                                            {
                                                "marker": {
                                                    "colorbar": {
                                                        "outlinewidth": 0,
                                                        "ticks": ""
                                                    }
                                                },
                                                "type": "scatterpolar"
                                            }
                                        ],
                                        "scatterpolargl": [
                                            {
                                                "marker": {
                                                    "colorbar": {
                                                        "outlinewidth": 0,
                                                        "ticks": ""
                                                    }
                                                },
                                                "type": "scatterpolargl"
                                            }
                                        ],
                                        "scatterternary": [
                                            {
                                                "marker": {
                                                    "colorbar": {
                                                        "outlinewidth": 0,
                                                        "ticks": ""
                                                    }
                                                },
                                                "type": "scatterternary"
                                            }
                                        ],
                                        "surface": [
                                            {
                                                "colorbar": {
                                                    "outlinewidth": 0,
                                                    "ticks": ""
                                                },
                                                "colorscale": [
                                                    [
                                                        0,
                                                        "#0d0887"
                                                    ],
                                                    [
                                                        0.1111111111111111,
                                                        "#46039f"
                                                    ],
                                                    [
                                                        0.2222222222222222,
                                                        "#7201a8"
                                                    ],
                                                    [
                                                        0.3333333333333333,
                                                        "#9c179e"
                                                    ],
                                                    [
                                                        0.4444444444444444,
                                                        "#bd3786"
                                                    ],
                                                    [
                                                        0.5555555555555556,
                                                        "#d8576b"
                                                    ],
                                                    [
                                                        0.6666666666666666,
                                                        "#ed7953"
                                                    ],
                                                    [
                                                        0.7777777777777778,
                                                        "#fb9f3a"
                                                    ],
                                                    [
                                                        0.8888888888888888,
                                                        "#fdca26"
                                                    ],
                                                    [
                                                        1,
                                                        "#f0f921"
                                                    ]
                                                ],
                                                "type": "surface"
                                            }
                                        ],
                                        "table": [
                                            {
                                                "cells": {
                                                    "fill": {
                                                        "color": "#EBF0F8"
                                                    },
                                                    "line": {
                                                        "color": "white"
                                                    }
                                                },
                                                "header": {
                                                    "fill": {
                                                        "color": "#C8D4E3"
                                                    },
                                                    "line": {
                                                        "color": "white"
                                                    }
                                                },
                                                "type": "table"
                                            }
                                        ]
                                    },
                                    "layout": {
                                        "annotationdefaults": {
                                            "arrowcolor": "#2a3f5f",
                                            "arrowhead": 0,
                                            "arrowwidth": 1
                                        },
                                        "autotypenumbers": "strict",
                                        "coloraxis": {
                                            "colorbar": {
                                                "outlinewidth": 0,
                                                "ticks": ""
                                            }
                                        },
                                        "colorscale": {
                                            "diverging": [
                                                [
                                                    0,
                                                    "#8e0152"
                                                ],
                                                [
                                                    0.1,
                                                    "#c51b7d"
                                                ],
                                                [
                                                    0.2,
                                                    "#de77ae"
                                                ],
                                                [
                                                    0.3,
                                                    "#f1b6da"
                                                ],
                                                [
                                                    0.4,
                                                    "#fde0ef"
                                                ],
                                                [
                                                    0.5,
                                                    "#f7f7f7"
                                                ],
                                                [
                                                    0.6,
                                                    "#e6f5d0"
                                                ],
                                                [
                                                    0.7,
                                                    "#b8e186"
                                                ],
                                                [
                                                    0.8,
                                                    "#7fbc41"
                                                ],
                                                [
                                                    0.9,
                                                    "#4d9221"
                                                ],
                                                [
                                                    1,
                                                    "#276419"
                                                ]
                                            ],
                                            "sequential": [
                                                [
                                                    0,
                                                    "#0d0887"
                                                ],
                                                [
                                                    0.1111111111111111,
                                                    "#46039f"
                                                ],
                                                [
                                                    0.2222222222222222,
                                                    "#7201a8"
                                                ],
                                                [
                                                    0.3333333333333333,
                                                    "#9c179e"
                                                ],
                                                [
                                                    0.4444444444444444,
                                                    "#bd3786"
                                                ],
                                                [
                                                    0.5555555555555556,
                                                    "#d8576b"
                                                ],
                                                [
                                                    0.6666666666666666,
                                                    "#ed7953"
                                                ],
                                                [
                                                    0.7777777777777778,
                                                    "#fb9f3a"
                                                ],
                                                [
                                                    0.8888888888888888,
                                                    "#fdca26"
                                                ],
                                                [
                                                    1,
                                                    "#f0f921"
                                                ]
                                            ],
                                            "sequentialminus": [
                                                [
                                                    0,
                                                    "#0d0887"
                                                ],
                                                [
                                                    0.1111111111111111,
                                                    "#46039f"
                                                ],
                                                [
                                                    0.2222222222222222,
                                                    "#7201a8"
                                                ],
                                                [
                                                    0.3333333333333333,
                                                    "#9c179e"
                                                ],
                                                [
                                                    0.4444444444444444,
                                                    "#bd3786"
                                                ],
                                                [
                                                    0.5555555555555556,
                                                    "#d8576b"
                                                ],
                                                [
                                                    0.6666666666666666,
                                                    "#ed7953"
                                                ],
                                                [
                                                    0.7777777777777778,
                                                    "#fb9f3a"
                                                ],
                                                [
                                                    0.8888888888888888,
                                                    "#fdca26"
                                                ],
                                                [
                                                    1,
                                                    "#f0f921"
                                                ]
                                            ]
                                        },
                                        "colorway": [
                                            "#636efa",
                                            "#EF553B",
                                            "#00cc96",
                                            "#ab63fa",
                                            "#FFA15A",
                                            "#19d3f3",
                                            "#FF6692",
                                            "#B6E880",
                                            "#FF97FF",
                                            "#FECB52"
                                        ],
                                        "font": {
                                            "color": "#2a3f5f"
                                        },
                                        "geo": {
                                            "bgcolor": "white",
                                            "lakecolor": "white",
                                            "landcolor": "#E5ECF6",
                                            "showlakes": true,
                                            "showland": true,
                                            "subunitcolor": "white"
                                        },
                                        "hoverlabel": {
                                            "align": "left"
                                        },
                                        "hovermode": "closest",
                                        "mapbox": {
                                            "style": "light"
                                        },
                                        "paper_bgcolor": "white",
                                        "plot_bgcolor": "#E5ECF6",
                                        "polar": {
                                            "angularaxis": {
                                                "gridcolor": "white",
                                                "linecolor": "white",
                                                "ticks": ""
                                            },
                                            "bgcolor": "#E5ECF6",
                                            "radialaxis": {
                                                "gridcolor": "white",
                                                "linecolor": "white",
                                                "ticks": ""
                                            }
                                        },
                                        "scene": {
                                            "xaxis": {
                                                "backgroundcolor": "#E5ECF6",
                                                "gridcolor": "white",
                                                "gridwidth": 2,
                                                "linecolor": "white",
                                                "showbackground": true,
                                                "ticks": "",
                                                "zerolinecolor": "white"
                                            },
                                            "yaxis": {
                                                "backgroundcolor": "#E5ECF6",
                                                "gridcolor": "white",
                                                "gridwidth": 2,
                                                "linecolor": "white",
                                                "showbackground": true,
                                                "ticks": "",
                                                "zerolinecolor": "white"
                                            },
                                            "zaxis": {
                                                "backgroundcolor": "#E5ECF6",
                                                "gridcolor": "white",
                                                "gridwidth": 2,
                                                "linecolor": "white",
                                                "showbackground": true,
                                                "ticks": "",
                                                "zerolinecolor": "white"
                                            }
                                        },
                                        "shapedefaults": {
                                            "line": {
                                                "color": "#2a3f5f"
                                            }
                                        },
                                        "ternary": {
                                            "aaxis": {
                                                "gridcolor": "white",
                                                "linecolor": "white",
                                                "ticks": ""
                                            },
                                            "baxis": {
                                                "gridcolor": "white",
                                                "linecolor": "white",
                                                "ticks": ""
                                            },
                                            "bgcolor": "#E5ECF6",
                                            "caxis": {
                                                "gridcolor": "white",
                                                "linecolor": "white",
                                                "ticks": ""
                                            }
                                        },
                                        "title": {
                                            "x": 0.05
                                        },
                                        "xaxis": {
                                            "automargin": true,
                                            "gridcolor": "white",
                                            "linecolor": "white",
                                            "ticks": "",
                                            "title": {
                                                "standoff": 15
                                            },
                                            "zerolinecolor": "white",
                                            "zerolinewidth": 2
                                        },
                                        "yaxis": {
                                            "automargin": true,
                                            "gridcolor": "white",
                                            "linecolor": "white",
                                            "ticks": "",
                                            "title": {
                                                "standoff": 15
                                            },
                                            "zerolinecolor": "white",
                                            "zerolinewidth": 2
                                        }
                                    }
                                },
                                "title": {
                                    "text": "Log probability of S given D for different AR change parameters (316 IDs)"
                                },
                                "width": 650,
                                "xaxis": {
                                    "anchor": "y",
                                    "domain": [
                                        0,
                                        0.2888888888888889
                                    ],
                                    "title": {
                                        "text": "Main width<br><br>Main weight=0.3"
                                    },
                                    "type": "category"
                                },
                                "xaxis2": {
                                    "anchor": "y2",
                                    "domain": [
                                        0.35555555555555557,
                                        0.6444444444444445
                                    ],
                                    "title": {
                                        "text": "Main width<br><br>Main weight=0.5"
                                    },
                                    "type": "category"
                                },
                                "xaxis3": {
                                    "anchor": "y3",
                                    "domain": [
                                        0.7111111111111111,
                                        1
                                    ],
                                    "title": {
                                        "text": "Main width<br><br>Main weight=0.7"
                                    },
                                    "type": "category"
                                },
                                "yaxis": {
                                    "anchor": "x",
                                    "domain": [
                                        0,
                                        1
                                    ],
                                    "title": {
                                        "text": "Tail width"
                                    },
                                    "type": "category"
                                },
                                "yaxis2": {
                                    "anchor": "x2",
                                    "domain": [
                                        0,
                                        1
                                    ],
                                    "type": "category"
                                },
                                "yaxis3": {
                                    "anchor": "x3",
                                    "domain": [
                                        0,
                                        1
                                    ],
                                    "type": "category"
                                }
                            }
                        }
                    },
                    "metadata": {},
                    "output_type": "display_data"
                }
            ],
            "source": [
                "# Plot heatmap with main width on x axis, tail width on y axis and log_p_S_given_D as the color, just use the first 3 main weights\n",
                "\n",
                "fig = make_subplots(1, 3)\n",
                "\n",
                "\n",
                "def add_heatmap_for_weight(df, weight, col):\n",
                "    df = df[df[\"main weight\"] == weight]\n",
                "    fig.add_trace(\n",
                "        go.Heatmap(z=df[\"log_p_S_given_D\"], x=df[\"main width\"], y=df[\"tail width\"]),\n",
                "        row=1,\n",
                "        col=col,\n",
                "    )\n",
                "    fig.update_xaxes(\n",
                "        type=\"category\",\n",
                "        row=1,\n",
                "        col=col,\n",
                "        title=\"Main width<br><br>Main weight=\" + str(weight),\n",
                "    )\n",
                "\n",
                "\n",
                "add_heatmap_for_weight(df_heatmap, 0.3, 1)\n",
                "add_heatmap_for_weight(df_heatmap, 0.5, 2)\n",
                "add_heatmap_for_weight(df_heatmap, 0.7, 3)\n",
                "\n",
                "fig.update_layout(\n",
                "    title=f\"Log probability of S given D for different AR change parameters ({len(IDs.keys())} IDs)\",\n",
                "    yaxis_title=\"Tail width\",\n",
                "    # yaxis_type='log',\n",
                "    width=650,\n",
                "    height=300,\n",
                "    font_size=10,\n",
                ")\n",
                "# Recude font size of the subplot titles\n",
                "for annotation in fig[\"layout\"][\"annotations\"]:\n",
                "    annotation[\"font\"] = dict(size=14)\n",
                "# use the same color scale for all subplots\n",
                "fig.update_traces(\n",
                "    zmin=min(df_heatmap.log_p_S_given_D[df_heatmap.log_p_S_given_D != -np.inf]),\n",
                "    zmax=max(df_heatmap.log_p_S_given_D),\n",
                "    colorbar=dict(title=\"log_p_S_given_D\"),\n",
                ")\n",
                "# X axis and y axis are categorical\n",
                "fig.update_yaxes(type=\"category\")\n",
                "\n",
                "fig.show()"
            ]
        },
        {
            "cell_type": "code",
            "execution_count": null,
            "metadata": {},
            "outputs": [],
            "source": [
                "# The weights is the most differentiating parameter, then main width. Tail width is a smaller effect, althought very important, and remains hidden\n",
                "# 0.7 weight\n",
                "# std 2 -> laplace would be better\n",
                "# tail width doesn't change. Go wider?\n",
                "\n",
                "# Since the tails is a secondary effet, let's find the rest first\n",
                "\n",
                "# 3 laplace\n",
                "# 3 gaussians"
            ]
        },
        {
            "cell_type": "code",
            "execution_count": 149,
            "metadata": {},
            "outputs": [
                {
                    "data": {
                        "text/html": [
                            "<div>\n",
                            "<style scoped>\n",
                            "    .dataframe tbody tr th:only-of-type {\n",
                            "        vertical-align: middle;\n",
                            "    }\n",
                            "\n",
                            "    .dataframe tbody tr th {\n",
                            "        vertical-align: top;\n",
                            "    }\n",
                            "\n",
                            "    .dataframe thead th {\n",
                            "        text-align: right;\n",
                            "    }\n",
                            "</style>\n",
                            "<table border=\"1\" class=\"dataframe\">\n",
                            "  <thead>\n",
                            "    <tr style=\"text-align: right;\">\n",
                            "      <th></th>\n",
                            "      <th>log_p_S_given_D</th>\n",
                            "      <th>params</th>\n",
                            "      <th>main width</th>\n",
                            "      <th>laplace</th>\n",
                            "    </tr>\n",
                            "  </thead>\n",
                            "  <tbody>\n",
                            "    <tr>\n",
                            "      <th>0</th>\n",
                            "      <td>-6.655665e+04</td>\n",
                            "      <td>(0.5, False)</td>\n",
                            "      <td>0.5</td>\n",
                            "      <td>False</td>\n",
                            "    </tr>\n",
                            "    <tr>\n",
                            "      <th>1</th>\n",
                            "      <td>-6.628876e+04</td>\n",
                            "      <td>(0.5, True)</td>\n",
                            "      <td>0.5</td>\n",
                            "      <td>True</td>\n",
                            "    </tr>\n",
                            "    <tr>\n",
                            "      <th>2</th>\n",
                            "      <td>-6.761041e+04</td>\n",
                            "      <td>(1, False)</td>\n",
                            "      <td>1.0</td>\n",
                            "      <td>False</td>\n",
                            "    </tr>\n",
                            "    <tr>\n",
                            "      <th>3</th>\n",
                            "      <td>-6.730061e+04</td>\n",
                            "      <td>(1, True)</td>\n",
                            "      <td>1.0</td>\n",
                            "      <td>True</td>\n",
                            "    </tr>\n",
                            "    <tr>\n",
                            "      <th>4</th>\n",
                            "      <td>-6.848776e+04</td>\n",
                            "      <td>(1.5, False)</td>\n",
                            "      <td>1.5</td>\n",
                            "      <td>False</td>\n",
                            "    </tr>\n",
                            "    <tr>\n",
                            "      <th>5</th>\n",
                            "      <td>-6.834117e+04</td>\n",
                            "      <td>(1.5, True)</td>\n",
                            "      <td>1.5</td>\n",
                            "      <td>True</td>\n",
                            "    </tr>\n",
                            "    <tr>\n",
                            "      <th>6</th>\n",
                            "      <td>-6.921651e+04</td>\n",
                            "      <td>(2, False)</td>\n",
                            "      <td>2.0</td>\n",
                            "      <td>False</td>\n",
                            "    </tr>\n",
                            "    <tr>\n",
                            "      <th>7</th>\n",
                            "      <td>-6.927346e+04</td>\n",
                            "      <td>(2, True)</td>\n",
                            "      <td>2.0</td>\n",
                            "      <td>True</td>\n",
                            "    </tr>\n",
                            "    <tr>\n",
                            "      <th>8</th>\n",
                            "      <td>-inf</td>\n",
                            "      <td>(2.5, False)</td>\n",
                            "      <td>2.5</td>\n",
                            "      <td>False</td>\n",
                            "    </tr>\n",
                            "    <tr>\n",
                            "      <th>9</th>\n",
                            "      <td>-inf</td>\n",
                            "      <td>(2.5, True)</td>\n",
                            "      <td>2.5</td>\n",
                            "      <td>True</td>\n",
                            "    </tr>\n",
                            "  </tbody>\n",
                            "</table>\n",
                            "</div>"
                        ],
                        "text/plain": [
                            "   log_p_S_given_D        params  main width  laplace\n",
                            "0    -6.655665e+04  (0.5, False)         0.5    False\n",
                            "1    -6.628876e+04   (0.5, True)         0.5     True\n",
                            "2    -6.761041e+04    (1, False)         1.0    False\n",
                            "3    -6.730061e+04     (1, True)         1.0     True\n",
                            "4    -6.848776e+04  (1.5, False)         1.5    False\n",
                            "5    -6.834117e+04   (1.5, True)         1.5     True\n",
                            "6    -6.921651e+04    (2, False)         2.0    False\n",
                            "7    -6.927346e+04     (2, True)         2.0     True\n",
                            "8             -inf  (2.5, False)         2.5    False\n",
                            "9             -inf   (2.5, True)         2.5     True"
                        ]
                    },
                    "execution_count": 149,
                    "metadata": {},
                    "output_type": "execute_result"
                }
            ],
            "source": [
                "params = [\n",
                "    (0.5, False),\n",
                "    (0.5, True),\n",
                "    (1, False),\n",
                "    (1, True),\n",
                "    (1.5, False),\n",
                "    (1.5, True),\n",
                "    (2, False),\n",
                "    (2, True),\n",
                "    (2.5, False),\n",
                "    (2.5, True),\n",
                "]\n",
                "labels = [\"main width\", \"laplace\"]\n",
                "\n",
                "df_10, IDs_10 = load_and_process_json(10, params, labels)\n",
                "df_10"
            ]
        },
        {
            "cell_type": "code",
            "execution_count": 164,
            "metadata": {},
            "outputs": [
                {
                    "data": {
                        "application/vnd.plotly.v1+json": {
                            "config": {
                                "plotlyServerURL": "https://plot.ly"
                            },
                            "data": [
                                {
                                    "colorbar": {
                                        "title": {
                                            "text": "log_p_S_given_D"
                                        }
                                    },
                                    "type": "heatmap",
                                    "x": [
                                        0.5,
                                        0.5,
                                        1,
                                        1,
                                        1.5,
                                        1.5,
                                        2,
                                        2,
                                        2.5,
                                        2.5
                                    ],
                                    "xaxis": "x",
                                    "y": [
                                        false,
                                        true,
                                        false,
                                        true,
                                        false,
                                        true,
                                        false,
                                        true,
                                        false,
                                        true
                                    ],
                                    "yaxis": "y",
                                    "z": [
                                        -66556.64939798,
                                        -66288.75989375003,
                                        -67610.41153004,
                                        -67300.61421237995,
                                        -68487.75729400999,
                                        -68341.17404556002,
                                        -69216.51285941998,
                                        -69273.45789501,
                                        null,
                                        null
                                    ],
                                    "zmax": -66288.75989375003,
                                    "zmin": -69273.45789501
                                }
                            ],
                            "layout": {
                                "font": {
                                    "size": 10
                                },
                                "height": 250,
                                "template": {
                                    "data": {
                                        "bar": [
                                            {
                                                "error_x": {
                                                    "color": "#2a3f5f"
                                                },
                                                "error_y": {
                                                    "color": "#2a3f5f"
                                                },
                                                "marker": {
                                                    "line": {
                                                        "color": "#E5ECF6",
                                                        "width": 0.5
                                                    },
                                                    "pattern": {
                                                        "fillmode": "overlay",
                                                        "size": 10,
                                                        "solidity": 0.2
                                                    }
                                                },
                                                "type": "bar"
                                            }
                                        ],
                                        "barpolar": [
                                            {
                                                "marker": {
                                                    "line": {
                                                        "color": "#E5ECF6",
                                                        "width": 0.5
                                                    },
                                                    "pattern": {
                                                        "fillmode": "overlay",
                                                        "size": 10,
                                                        "solidity": 0.2
                                                    }
                                                },
                                                "type": "barpolar"
                                            }
                                        ],
                                        "carpet": [
                                            {
                                                "aaxis": {
                                                    "endlinecolor": "#2a3f5f",
                                                    "gridcolor": "white",
                                                    "linecolor": "white",
                                                    "minorgridcolor": "white",
                                                    "startlinecolor": "#2a3f5f"
                                                },
                                                "baxis": {
                                                    "endlinecolor": "#2a3f5f",
                                                    "gridcolor": "white",
                                                    "linecolor": "white",
                                                    "minorgridcolor": "white",
                                                    "startlinecolor": "#2a3f5f"
                                                },
                                                "type": "carpet"
                                            }
                                        ],
                                        "choropleth": [
                                            {
                                                "colorbar": {
                                                    "outlinewidth": 0,
                                                    "ticks": ""
                                                },
                                                "type": "choropleth"
                                            }
                                        ],
                                        "contour": [
                                            {
                                                "colorbar": {
                                                    "outlinewidth": 0,
                                                    "ticks": ""
                                                },
                                                "colorscale": [
                                                    [
                                                        0,
                                                        "#0d0887"
                                                    ],
                                                    [
                                                        0.1111111111111111,
                                                        "#46039f"
                                                    ],
                                                    [
                                                        0.2222222222222222,
                                                        "#7201a8"
                                                    ],
                                                    [
                                                        0.3333333333333333,
                                                        "#9c179e"
                                                    ],
                                                    [
                                                        0.4444444444444444,
                                                        "#bd3786"
                                                    ],
                                                    [
                                                        0.5555555555555556,
                                                        "#d8576b"
                                                    ],
                                                    [
                                                        0.6666666666666666,
                                                        "#ed7953"
                                                    ],
                                                    [
                                                        0.7777777777777778,
                                                        "#fb9f3a"
                                                    ],
                                                    [
                                                        0.8888888888888888,
                                                        "#fdca26"
                                                    ],
                                                    [
                                                        1,
                                                        "#f0f921"
                                                    ]
                                                ],
                                                "type": "contour"
                                            }
                                        ],
                                        "contourcarpet": [
                                            {
                                                "colorbar": {
                                                    "outlinewidth": 0,
                                                    "ticks": ""
                                                },
                                                "type": "contourcarpet"
                                            }
                                        ],
                                        "heatmap": [
                                            {
                                                "colorbar": {
                                                    "outlinewidth": 0,
                                                    "ticks": ""
                                                },
                                                "colorscale": [
                                                    [
                                                        0,
                                                        "#0d0887"
                                                    ],
                                                    [
                                                        0.1111111111111111,
                                                        "#46039f"
                                                    ],
                                                    [
                                                        0.2222222222222222,
                                                        "#7201a8"
                                                    ],
                                                    [
                                                        0.3333333333333333,
                                                        "#9c179e"
                                                    ],
                                                    [
                                                        0.4444444444444444,
                                                        "#bd3786"
                                                    ],
                                                    [
                                                        0.5555555555555556,
                                                        "#d8576b"
                                                    ],
                                                    [
                                                        0.6666666666666666,
                                                        "#ed7953"
                                                    ],
                                                    [
                                                        0.7777777777777778,
                                                        "#fb9f3a"
                                                    ],
                                                    [
                                                        0.8888888888888888,
                                                        "#fdca26"
                                                    ],
                                                    [
                                                        1,
                                                        "#f0f921"
                                                    ]
                                                ],
                                                "type": "heatmap"
                                            }
                                        ],
                                        "heatmapgl": [
                                            {
                                                "colorbar": {
                                                    "outlinewidth": 0,
                                                    "ticks": ""
                                                },
                                                "colorscale": [
                                                    [
                                                        0,
                                                        "#0d0887"
                                                    ],
                                                    [
                                                        0.1111111111111111,
                                                        "#46039f"
                                                    ],
                                                    [
                                                        0.2222222222222222,
                                                        "#7201a8"
                                                    ],
                                                    [
                                                        0.3333333333333333,
                                                        "#9c179e"
                                                    ],
                                                    [
                                                        0.4444444444444444,
                                                        "#bd3786"
                                                    ],
                                                    [
                                                        0.5555555555555556,
                                                        "#d8576b"
                                                    ],
                                                    [
                                                        0.6666666666666666,
                                                        "#ed7953"
                                                    ],
                                                    [
                                                        0.7777777777777778,
                                                        "#fb9f3a"
                                                    ],
                                                    [
                                                        0.8888888888888888,
                                                        "#fdca26"
                                                    ],
                                                    [
                                                        1,
                                                        "#f0f921"
                                                    ]
                                                ],
                                                "type": "heatmapgl"
                                            }
                                        ],
                                        "histogram": [
                                            {
                                                "marker": {
                                                    "pattern": {
                                                        "fillmode": "overlay",
                                                        "size": 10,
                                                        "solidity": 0.2
                                                    }
                                                },
                                                "type": "histogram"
                                            }
                                        ],
                                        "histogram2d": [
                                            {
                                                "colorbar": {
                                                    "outlinewidth": 0,
                                                    "ticks": ""
                                                },
                                                "colorscale": [
                                                    [
                                                        0,
                                                        "#0d0887"
                                                    ],
                                                    [
                                                        0.1111111111111111,
                                                        "#46039f"
                                                    ],
                                                    [
                                                        0.2222222222222222,
                                                        "#7201a8"
                                                    ],
                                                    [
                                                        0.3333333333333333,
                                                        "#9c179e"
                                                    ],
                                                    [
                                                        0.4444444444444444,
                                                        "#bd3786"
                                                    ],
                                                    [
                                                        0.5555555555555556,
                                                        "#d8576b"
                                                    ],
                                                    [
                                                        0.6666666666666666,
                                                        "#ed7953"
                                                    ],
                                                    [
                                                        0.7777777777777778,
                                                        "#fb9f3a"
                                                    ],
                                                    [
                                                        0.8888888888888888,
                                                        "#fdca26"
                                                    ],
                                                    [
                                                        1,
                                                        "#f0f921"
                                                    ]
                                                ],
                                                "type": "histogram2d"
                                            }
                                        ],
                                        "histogram2dcontour": [
                                            {
                                                "colorbar": {
                                                    "outlinewidth": 0,
                                                    "ticks": ""
                                                },
                                                "colorscale": [
                                                    [
                                                        0,
                                                        "#0d0887"
                                                    ],
                                                    [
                                                        0.1111111111111111,
                                                        "#46039f"
                                                    ],
                                                    [
                                                        0.2222222222222222,
                                                        "#7201a8"
                                                    ],
                                                    [
                                                        0.3333333333333333,
                                                        "#9c179e"
                                                    ],
                                                    [
                                                        0.4444444444444444,
                                                        "#bd3786"
                                                    ],
                                                    [
                                                        0.5555555555555556,
                                                        "#d8576b"
                                                    ],
                                                    [
                                                        0.6666666666666666,
                                                        "#ed7953"
                                                    ],
                                                    [
                                                        0.7777777777777778,
                                                        "#fb9f3a"
                                                    ],
                                                    [
                                                        0.8888888888888888,
                                                        "#fdca26"
                                                    ],
                                                    [
                                                        1,
                                                        "#f0f921"
                                                    ]
                                                ],
                                                "type": "histogram2dcontour"
                                            }
                                        ],
                                        "mesh3d": [
                                            {
                                                "colorbar": {
                                                    "outlinewidth": 0,
                                                    "ticks": ""
                                                },
                                                "type": "mesh3d"
                                            }
                                        ],
                                        "parcoords": [
                                            {
                                                "line": {
                                                    "colorbar": {
                                                        "outlinewidth": 0,
                                                        "ticks": ""
                                                    }
                                                },
                                                "type": "parcoords"
                                            }
                                        ],
                                        "pie": [
                                            {
                                                "automargin": true,
                                                "type": "pie"
                                            }
                                        ],
                                        "scatter": [
                                            {
                                                "fillpattern": {
                                                    "fillmode": "overlay",
                                                    "size": 10,
                                                    "solidity": 0.2
                                                },
                                                "type": "scatter"
                                            }
                                        ],
                                        "scatter3d": [
                                            {
                                                "line": {
                                                    "colorbar": {
                                                        "outlinewidth": 0,
                                                        "ticks": ""
                                                    }
                                                },
                                                "marker": {
                                                    "colorbar": {
                                                        "outlinewidth": 0,
                                                        "ticks": ""
                                                    }
                                                },
                                                "type": "scatter3d"
                                            }
                                        ],
                                        "scattercarpet": [
                                            {
                                                "marker": {
                                                    "colorbar": {
                                                        "outlinewidth": 0,
                                                        "ticks": ""
                                                    }
                                                },
                                                "type": "scattercarpet"
                                            }
                                        ],
                                        "scattergeo": [
                                            {
                                                "marker": {
                                                    "colorbar": {
                                                        "outlinewidth": 0,
                                                        "ticks": ""
                                                    }
                                                },
                                                "type": "scattergeo"
                                            }
                                        ],
                                        "scattergl": [
                                            {
                                                "marker": {
                                                    "colorbar": {
                                                        "outlinewidth": 0,
                                                        "ticks": ""
                                                    }
                                                },
                                                "type": "scattergl"
                                            }
                                        ],
                                        "scattermapbox": [
                                            {
                                                "marker": {
                                                    "colorbar": {
                                                        "outlinewidth": 0,
                                                        "ticks": ""
                                                    }
                                                },
                                                "type": "scattermapbox"
                                            }
                                        ],
                                        "scatterpolar": [
                                            {
                                                "marker": {
                                                    "colorbar": {
                                                        "outlinewidth": 0,
                                                        "ticks": ""
                                                    }
                                                },
                                                "type": "scatterpolar"
                                            }
                                        ],
                                        "scatterpolargl": [
                                            {
                                                "marker": {
                                                    "colorbar": {
                                                        "outlinewidth": 0,
                                                        "ticks": ""
                                                    }
                                                },
                                                "type": "scatterpolargl"
                                            }
                                        ],
                                        "scatterternary": [
                                            {
                                                "marker": {
                                                    "colorbar": {
                                                        "outlinewidth": 0,
                                                        "ticks": ""
                                                    }
                                                },
                                                "type": "scatterternary"
                                            }
                                        ],
                                        "surface": [
                                            {
                                                "colorbar": {
                                                    "outlinewidth": 0,
                                                    "ticks": ""
                                                },
                                                "colorscale": [
                                                    [
                                                        0,
                                                        "#0d0887"
                                                    ],
                                                    [
                                                        0.1111111111111111,
                                                        "#46039f"
                                                    ],
                                                    [
                                                        0.2222222222222222,
                                                        "#7201a8"
                                                    ],
                                                    [
                                                        0.3333333333333333,
                                                        "#9c179e"
                                                    ],
                                                    [
                                                        0.4444444444444444,
                                                        "#bd3786"
                                                    ],
                                                    [
                                                        0.5555555555555556,
                                                        "#d8576b"
                                                    ],
                                                    [
                                                        0.6666666666666666,
                                                        "#ed7953"
                                                    ],
                                                    [
                                                        0.7777777777777778,
                                                        "#fb9f3a"
                                                    ],
                                                    [
                                                        0.8888888888888888,
                                                        "#fdca26"
                                                    ],
                                                    [
                                                        1,
                                                        "#f0f921"
                                                    ]
                                                ],
                                                "type": "surface"
                                            }
                                        ],
                                        "table": [
                                            {
                                                "cells": {
                                                    "fill": {
                                                        "color": "#EBF0F8"
                                                    },
                                                    "line": {
                                                        "color": "white"
                                                    }
                                                },
                                                "header": {
                                                    "fill": {
                                                        "color": "#C8D4E3"
                                                    },
                                                    "line": {
                                                        "color": "white"
                                                    }
                                                },
                                                "type": "table"
                                            }
                                        ]
                                    },
                                    "layout": {
                                        "annotationdefaults": {
                                            "arrowcolor": "#2a3f5f",
                                            "arrowhead": 0,
                                            "arrowwidth": 1
                                        },
                                        "autotypenumbers": "strict",
                                        "coloraxis": {
                                            "colorbar": {
                                                "outlinewidth": 0,
                                                "ticks": ""
                                            }
                                        },
                                        "colorscale": {
                                            "diverging": [
                                                [
                                                    0,
                                                    "#8e0152"
                                                ],
                                                [
                                                    0.1,
                                                    "#c51b7d"
                                                ],
                                                [
                                                    0.2,
                                                    "#de77ae"
                                                ],
                                                [
                                                    0.3,
                                                    "#f1b6da"
                                                ],
                                                [
                                                    0.4,
                                                    "#fde0ef"
                                                ],
                                                [
                                                    0.5,
                                                    "#f7f7f7"
                                                ],
                                                [
                                                    0.6,
                                                    "#e6f5d0"
                                                ],
                                                [
                                                    0.7,
                                                    "#b8e186"
                                                ],
                                                [
                                                    0.8,
                                                    "#7fbc41"
                                                ],
                                                [
                                                    0.9,
                                                    "#4d9221"
                                                ],
                                                [
                                                    1,
                                                    "#276419"
                                                ]
                                            ],
                                            "sequential": [
                                                [
                                                    0,
                                                    "#0d0887"
                                                ],
                                                [
                                                    0.1111111111111111,
                                                    "#46039f"
                                                ],
                                                [
                                                    0.2222222222222222,
                                                    "#7201a8"
                                                ],
                                                [
                                                    0.3333333333333333,
                                                    "#9c179e"
                                                ],
                                                [
                                                    0.4444444444444444,
                                                    "#bd3786"
                                                ],
                                                [
                                                    0.5555555555555556,
                                                    "#d8576b"
                                                ],
                                                [
                                                    0.6666666666666666,
                                                    "#ed7953"
                                                ],
                                                [
                                                    0.7777777777777778,
                                                    "#fb9f3a"
                                                ],
                                                [
                                                    0.8888888888888888,
                                                    "#fdca26"
                                                ],
                                                [
                                                    1,
                                                    "#f0f921"
                                                ]
                                            ],
                                            "sequentialminus": [
                                                [
                                                    0,
                                                    "#0d0887"
                                                ],
                                                [
                                                    0.1111111111111111,
                                                    "#46039f"
                                                ],
                                                [
                                                    0.2222222222222222,
                                                    "#7201a8"
                                                ],
                                                [
                                                    0.3333333333333333,
                                                    "#9c179e"
                                                ],
                                                [
                                                    0.4444444444444444,
                                                    "#bd3786"
                                                ],
                                                [
                                                    0.5555555555555556,
                                                    "#d8576b"
                                                ],
                                                [
                                                    0.6666666666666666,
                                                    "#ed7953"
                                                ],
                                                [
                                                    0.7777777777777778,
                                                    "#fb9f3a"
                                                ],
                                                [
                                                    0.8888888888888888,
                                                    "#fdca26"
                                                ],
                                                [
                                                    1,
                                                    "#f0f921"
                                                ]
                                            ]
                                        },
                                        "colorway": [
                                            "#636efa",
                                            "#EF553B",
                                            "#00cc96",
                                            "#ab63fa",
                                            "#FFA15A",
                                            "#19d3f3",
                                            "#FF6692",
                                            "#B6E880",
                                            "#FF97FF",
                                            "#FECB52"
                                        ],
                                        "font": {
                                            "color": "#2a3f5f"
                                        },
                                        "geo": {
                                            "bgcolor": "white",
                                            "lakecolor": "white",
                                            "landcolor": "#E5ECF6",
                                            "showlakes": true,
                                            "showland": true,
                                            "subunitcolor": "white"
                                        },
                                        "hoverlabel": {
                                            "align": "left"
                                        },
                                        "hovermode": "closest",
                                        "mapbox": {
                                            "style": "light"
                                        },
                                        "paper_bgcolor": "white",
                                        "plot_bgcolor": "#E5ECF6",
                                        "polar": {
                                            "angularaxis": {
                                                "gridcolor": "white",
                                                "linecolor": "white",
                                                "ticks": ""
                                            },
                                            "bgcolor": "#E5ECF6",
                                            "radialaxis": {
                                                "gridcolor": "white",
                                                "linecolor": "white",
                                                "ticks": ""
                                            }
                                        },
                                        "scene": {
                                            "xaxis": {
                                                "backgroundcolor": "#E5ECF6",
                                                "gridcolor": "white",
                                                "gridwidth": 2,
                                                "linecolor": "white",
                                                "showbackground": true,
                                                "ticks": "",
                                                "zerolinecolor": "white"
                                            },
                                            "yaxis": {
                                                "backgroundcolor": "#E5ECF6",
                                                "gridcolor": "white",
                                                "gridwidth": 2,
                                                "linecolor": "white",
                                                "showbackground": true,
                                                "ticks": "",
                                                "zerolinecolor": "white"
                                            },
                                            "zaxis": {
                                                "backgroundcolor": "#E5ECF6",
                                                "gridcolor": "white",
                                                "gridwidth": 2,
                                                "linecolor": "white",
                                                "showbackground": true,
                                                "ticks": "",
                                                "zerolinecolor": "white"
                                            }
                                        },
                                        "shapedefaults": {
                                            "line": {
                                                "color": "#2a3f5f"
                                            }
                                        },
                                        "ternary": {
                                            "aaxis": {
                                                "gridcolor": "white",
                                                "linecolor": "white",
                                                "ticks": ""
                                            },
                                            "baxis": {
                                                "gridcolor": "white",
                                                "linecolor": "white",
                                                "ticks": ""
                                            },
                                            "bgcolor": "#E5ECF6",
                                            "caxis": {
                                                "gridcolor": "white",
                                                "linecolor": "white",
                                                "ticks": ""
                                            }
                                        },
                                        "title": {
                                            "x": 0.05
                                        },
                                        "xaxis": {
                                            "automargin": true,
                                            "gridcolor": "white",
                                            "linecolor": "white",
                                            "ticks": "",
                                            "title": {
                                                "standoff": 15
                                            },
                                            "zerolinecolor": "white",
                                            "zerolinewidth": 2
                                        },
                                        "yaxis": {
                                            "automargin": true,
                                            "gridcolor": "white",
                                            "linecolor": "white",
                                            "ticks": "",
                                            "title": {
                                                "standoff": 15
                                            },
                                            "zerolinecolor": "white",
                                            "zerolinewidth": 2
                                        }
                                    }
                                },
                                "title": {
                                    "text": "Log P(S|D) (352 IDs)<br>tail width=30, main weight=0.7"
                                },
                                "width": 400,
                                "xaxis": {
                                    "anchor": "y",
                                    "domain": [
                                        0,
                                        1
                                    ],
                                    "title": {
                                        "text": "Main width"
                                    },
                                    "type": "category"
                                },
                                "yaxis": {
                                    "anchor": "x",
                                    "domain": [
                                        0,
                                        1
                                    ],
                                    "title": {
                                        "text": "Laplace"
                                    },
                                    "type": "category"
                                }
                            }
                        }
                    },
                    "metadata": {},
                    "output_type": "display_data"
                }
            ],
            "source": [
                "# Plot heatmap with main width on x axis, tail width on y axis and log_p_S_given_D as the color, just use the first 3 main weights\n",
                "\n",
                "tail_width = 30\n",
                "main_weight = 0.7\n",
                "\n",
                "fig = make_subplots(1, 1)\n",
                "\n",
                "fig.add_trace(\n",
                "    go.Heatmap(z=df_10[\"log_p_S_given_D\"], x=df_10[\"main width\"], y=df_10[\"laplace\"]),\n",
                "    row=1,\n",
                "    col=1,\n",
                ")\n",
                "fig.update_xaxes(\n",
                "    type=\"category\",\n",
                "    row=1,\n",
                "    col=1,\n",
                "    title=\"Main width\",\n",
                ")\n",
                "\n",
                "fig.update_layout(\n",
                "    title=f\"Log P(S|D) ({len(IDs_10)} IDs)<br>tail width={tail_width}, main weight={main_weight}\",\n",
                "    yaxis_title=\"Laplace\",\n",
                "    # yaxis_type='log',\n",
                "    width=400,\n",
                "    height=250,\n",
                "    font_size=10,\n",
                ")\n",
                "# Recude font size of the subplot titles\n",
                "for annotation in fig[\"layout\"][\"annotations\"]:\n",
                "    annotation[\"font\"] = dict(size=14)\n",
                "# use the same color scale for all subplots\n",
                "fig.update_traces(\n",
                "    zmin=min(df_10.log_p_S_given_D[df_10.log_p_S_given_D != -np.inf]),\n",
                "    zmax=max(df_10.log_p_S_given_D),\n",
                "    colorbar=dict(title=\"log_p_S_given_D\"),\n",
                ")\n",
                "# X axis and y axis are categorical\n",
                "fig.update_yaxes(type=\"category\")\n",
                "\n",
                "fig.show()"
            ]
        },
        {
            "cell_type": "code",
            "execution_count": 165,
            "metadata": {},
            "outputs": [
                {
                    "data": {
                        "text/html": [
                            "<div>\n",
                            "<style scoped>\n",
                            "    .dataframe tbody tr th:only-of-type {\n",
                            "        vertical-align: middle;\n",
                            "    }\n",
                            "\n",
                            "    .dataframe tbody tr th {\n",
                            "        vertical-align: top;\n",
                            "    }\n",
                            "\n",
                            "    .dataframe thead th {\n",
                            "        text-align: right;\n",
                            "    }\n",
                            "</style>\n",
                            "<table border=\"1\" class=\"dataframe\">\n",
                            "  <thead>\n",
                            "    <tr style=\"text-align: right;\">\n",
                            "      <th></th>\n",
                            "      <th>log_p_S_given_D</th>\n",
                            "      <th>params</th>\n",
                            "      <th>tail width</th>\n",
                            "    </tr>\n",
                            "  </thead>\n",
                            "  <tbody>\n",
                            "    <tr>\n",
                            "      <th>0</th>\n",
                            "      <td>-36042.082673</td>\n",
                            "      <td>5</td>\n",
                            "      <td>5</td>\n",
                            "    </tr>\n",
                            "    <tr>\n",
                            "      <th>1</th>\n",
                            "      <td>-36209.401707</td>\n",
                            "      <td>15</td>\n",
                            "      <td>15</td>\n",
                            "    </tr>\n",
                            "    <tr>\n",
                            "      <th>2</th>\n",
                            "      <td>-36285.573322</td>\n",
                            "      <td>30</td>\n",
                            "      <td>30</td>\n",
                            "    </tr>\n",
                            "  </tbody>\n",
                            "</table>\n",
                            "</div>"
                        ],
                        "text/plain": [
                            "   log_p_S_given_D  params  tail width\n",
                            "0    -36042.082673       5           5\n",
                            "1    -36209.401707      15          15\n",
                            "2    -36285.573322      30          30"
                        ]
                    },
                    "execution_count": 165,
                    "metadata": {},
                    "output_type": "execute_result"
                }
            ],
            "source": [
                "mean = 1\n",
                "sigma_spike = 0.5\n",
                "weight_spike = 0.7\n",
                "sigma_tails = [5, 15, 30]\n",
                "laplace_main = True\n",
                "laplace_tail = True\n",
                "\n",
                "params = [5, 15, 30]\n",
                "labels = [\"tail width\"]\n",
                "\n",
                "df_3, IDs_3 = load_and_process_json(3, params, labels)\n",
                "df_3"
            ]
        },
        {
            "cell_type": "markdown",
            "metadata": {},
            "source": [
                "## Refine weights with best matching std_m, std_t"
            ]
        },
        {
            "cell_type": "code",
            "execution_count": 170,
            "metadata": {},
            "outputs": [],
            "source": [
                "mean = 1\n",
                "sigma_spike = 0.2\n",
                "weight_spike = [\n",
                "    0.59,\n",
                "    0.61,\n",
                "    0.64,\n",
                "    0.67,\n",
                "    0.7,\n",
                "    0.73,\n",
                "    0.76,\n",
                "    0.79,\n",
                "    0.81,\n",
                "    0.84,\n",
                "    0.87,\n",
                "    0.9,\n",
                "    0.93,\n",
                "    0.96,\n",
                "    0.99,\n",
                "]\n",
                "sigma_tail = 30\n",
                "laplace_main = False\n",
                "laplace_tail = False\n",
                "params = weight_spike\n",
                "labels = [\"main weight\"]\n",
                "\n",
                "df_15, IDs_15 = load_and_process_json(\"15_weights\", params, labels)"
            ]
        },
        {
            "cell_type": "code",
            "execution_count": 171,
            "metadata": {},
            "outputs": [
                {
                    "data": {
                        "text/html": [
                            "<div>\n",
                            "<style scoped>\n",
                            "    .dataframe tbody tr th:only-of-type {\n",
                            "        vertical-align: middle;\n",
                            "    }\n",
                            "\n",
                            "    .dataframe tbody tr th {\n",
                            "        vertical-align: top;\n",
                            "    }\n",
                            "\n",
                            "    .dataframe thead th {\n",
                            "        text-align: right;\n",
                            "    }\n",
                            "</style>\n",
                            "<table border=\"1\" class=\"dataframe\">\n",
                            "  <thead>\n",
                            "    <tr style=\"text-align: right;\">\n",
                            "      <th></th>\n",
                            "      <th>log_p_S_given_D</th>\n",
                            "      <th>params</th>\n",
                            "      <th>main weight</th>\n",
                            "    </tr>\n",
                            "  </thead>\n",
                            "  <tbody>\n",
                            "    <tr>\n",
                            "      <th>0</th>\n",
                            "      <td>-60990.264178</td>\n",
                            "      <td>0.59</td>\n",
                            "      <td>0.59</td>\n",
                            "    </tr>\n",
                            "    <tr>\n",
                            "      <th>1</th>\n",
                            "      <td>-60959.335463</td>\n",
                            "      <td>0.61</td>\n",
                            "      <td>0.61</td>\n",
                            "    </tr>\n",
                            "    <tr>\n",
                            "      <th>2</th>\n",
                            "      <td>-60923.118143</td>\n",
                            "      <td>0.64</td>\n",
                            "      <td>0.64</td>\n",
                            "    </tr>\n",
                            "    <tr>\n",
                            "      <th>3</th>\n",
                            "      <td>-60898.706412</td>\n",
                            "      <td>0.67</td>\n",
                            "      <td>0.67</td>\n",
                            "    </tr>\n",
                            "    <tr>\n",
                            "      <th>4</th>\n",
                            "      <td>-60885.942021</td>\n",
                            "      <td>0.70</td>\n",
                            "      <td>0.70</td>\n",
                            "    </tr>\n",
                            "    <tr>\n",
                            "      <th>5</th>\n",
                            "      <td>-60885.020931</td>\n",
                            "      <td>0.73</td>\n",
                            "      <td>0.73</td>\n",
                            "    </tr>\n",
                            "    <tr>\n",
                            "      <th>6</th>\n",
                            "      <td>-60896.567399</td>\n",
                            "      <td>0.76</td>\n",
                            "      <td>0.76</td>\n",
                            "    </tr>\n",
                            "    <tr>\n",
                            "      <th>7</th>\n",
                            "      <td>-60921.781768</td>\n",
                            "      <td>0.79</td>\n",
                            "      <td>0.79</td>\n",
                            "    </tr>\n",
                            "    <tr>\n",
                            "      <th>8</th>\n",
                            "      <td>-60947.152258</td>\n",
                            "      <td>0.81</td>\n",
                            "      <td>0.81</td>\n",
                            "    </tr>\n",
                            "    <tr>\n",
                            "      <th>9</th>\n",
                            "      <td>-61000.380502</td>\n",
                            "      <td>0.84</td>\n",
                            "      <td>0.84</td>\n",
                            "    </tr>\n",
                            "    <tr>\n",
                            "      <th>10</th>\n",
                            "      <td>-61076.419950</td>\n",
                            "      <td>0.87</td>\n",
                            "      <td>0.87</td>\n",
                            "    </tr>\n",
                            "    <tr>\n",
                            "      <th>11</th>\n",
                            "      <td>-61184.372120</td>\n",
                            "      <td>0.90</td>\n",
                            "      <td>0.90</td>\n",
                            "    </tr>\n",
                            "    <tr>\n",
                            "      <th>12</th>\n",
                            "      <td>-61343.156288</td>\n",
                            "      <td>0.93</td>\n",
                            "      <td>0.93</td>\n",
                            "    </tr>\n",
                            "    <tr>\n",
                            "      <th>13</th>\n",
                            "      <td>-61603.254648</td>\n",
                            "      <td>0.96</td>\n",
                            "      <td>0.96</td>\n",
                            "    </tr>\n",
                            "    <tr>\n",
                            "      <th>14</th>\n",
                            "      <td>-62235.149358</td>\n",
                            "      <td>0.99</td>\n",
                            "      <td>0.99</td>\n",
                            "    </tr>\n",
                            "  </tbody>\n",
                            "</table>\n",
                            "</div>"
                        ],
                        "text/plain": [
                            "    log_p_S_given_D  params  main weight\n",
                            "0     -60990.264178    0.59         0.59\n",
                            "1     -60959.335463    0.61         0.61\n",
                            "2     -60923.118143    0.64         0.64\n",
                            "3     -60898.706412    0.67         0.67\n",
                            "4     -60885.942021    0.70         0.70\n",
                            "5     -60885.020931    0.73         0.73\n",
                            "6     -60896.567399    0.76         0.76\n",
                            "7     -60921.781768    0.79         0.79\n",
                            "8     -60947.152258    0.81         0.81\n",
                            "9     -61000.380502    0.84         0.84\n",
                            "10    -61076.419950    0.87         0.87\n",
                            "11    -61184.372120    0.90         0.90\n",
                            "12    -61343.156288    0.93         0.93\n",
                            "13    -61603.254648    0.96         0.96\n",
                            "14    -62235.149358    0.99         0.99"
                        ]
                    },
                    "execution_count": 171,
                    "metadata": {},
                    "output_type": "execute_result"
                }
            ],
            "source": [
                "df_15"
            ]
        },
        {
            "cell_type": "code",
            "execution_count": null,
            "metadata": {},
            "outputs": [],
            "source": [
                "# Plot heatmap with main width on x axis, tail width on y axis and log_p_S_given_D as the color, just use the first 3 main weights\n",
                "\n",
                "main_width = 5\n",
                "main_weight = 0.7\n",
                "\n",
                "fig = make_subplots(1, 1)\n",
                "\n",
                "fig.add_trace(\n",
                "    go.Heatmap(z=df_3[\"log_p_S_given_D\"], x=df_3[\"tail width\"], y=df_3[\"laplace\"]),\n",
                "    row=1,\n",
                "    col=1,\n",
                ")\n",
                "fig.update_xaxes(\n",
                "    type=\"category\",\n",
                "    row=1,\n",
                "    col=1,\n",
                "    title=\"Tails width\",\n",
                ")\n",
                "\n",
                "fig.update_layout(\n",
                "    title=f\"Log P(S|D) ({len(IDs_10)} IDs)<br>main width={main_width}, main weight={main_weight}, all laplace\",\n",
                "    # yaxis_title=\"Laplace\",\n",
                "    # yaxis_type='log',\n",
                "    width=400,\n",
                "    height=200,\n",
                "    font_size=10,\n",
                ")\n",
                "# Recude font size of the subplot titles\n",
                "for annotation in fig[\"layout\"][\"annotations\"]:\n",
                "    annotation[\"font\"] = dict(size=14)\n",
                "# use the same color scale for all subplots\n",
                "fig.update_traces(\n",
                "    zmin=min(df_3.log_p_S_given_D[df_3.log_p_S_given_D != -np.inf]),\n",
                "    zmax=max(df_3.log_p_S_given_D),\n",
                "    colorbar=dict(title=\"log_p_S_given_D\"),\n",
                ")\n",
                "# X axis and y axis are categorical\n",
                "fig.update_yaxes(type=\"category\")\n",
                "\n",
                "fig.show()"
            ]
        },
        {
            "cell_type": "markdown",
            "metadata": {},
            "source": [
                "## Weight 0.73"
            ]
        },
        {
            "cell_type": "code",
            "execution_count": 172,
            "metadata": {},
            "outputs": [],
            "source": [
                "# Refine main width\n",
                "\n",
                "mean = 1\n",
                "sigma_spike = [0.1, 0.2, 0.3, 0.4, 0.5, 0.6, 0.7, 0.8, 0.9]\n",
                "weight_spike = 0.73\n",
                "sigma_tail = 30\n",
                "laplace_main = False\n",
                "laplace_tail = False\n",
                "params = sigma_spike\n",
                "labels = [\"main std\"]\n",
                "\n",
                "df_9, IDs_9 = load_and_process_json(\"9_stdmain\", params, labels)"
            ]
        },
        {
            "cell_type": "code",
            "execution_count": 173,
            "metadata": {},
            "outputs": [
                {
                    "data": {
                        "text/html": [
                            "<div>\n",
                            "<style scoped>\n",
                            "    .dataframe tbody tr th:only-of-type {\n",
                            "        vertical-align: middle;\n",
                            "    }\n",
                            "\n",
                            "    .dataframe tbody tr th {\n",
                            "        vertical-align: top;\n",
                            "    }\n",
                            "\n",
                            "    .dataframe thead th {\n",
                            "        text-align: right;\n",
                            "    }\n",
                            "</style>\n",
                            "<table border=\"1\" class=\"dataframe\">\n",
                            "  <thead>\n",
                            "    <tr style=\"text-align: right;\">\n",
                            "      <th></th>\n",
                            "      <th>log_p_S_given_D</th>\n",
                            "      <th>params</th>\n",
                            "      <th>main std</th>\n",
                            "    </tr>\n",
                            "  </thead>\n",
                            "  <tbody>\n",
                            "    <tr>\n",
                            "      <th>0</th>\n",
                            "      <td>-61008.903745</td>\n",
                            "      <td>0.1</td>\n",
                            "      <td>0.1</td>\n",
                            "    </tr>\n",
                            "    <tr>\n",
                            "      <th>1</th>\n",
                            "      <td>-60885.020931</td>\n",
                            "      <td>0.2</td>\n",
                            "      <td>0.2</td>\n",
                            "    </tr>\n",
                            "    <tr>\n",
                            "      <th>2</th>\n",
                            "      <td>-60919.984541</td>\n",
                            "      <td>0.3</td>\n",
                            "      <td>0.3</td>\n",
                            "    </tr>\n",
                            "    <tr>\n",
                            "      <th>3</th>\n",
                            "      <td>-61017.486311</td>\n",
                            "      <td>0.4</td>\n",
                            "      <td>0.4</td>\n",
                            "    </tr>\n",
                            "    <tr>\n",
                            "      <th>4</th>\n",
                            "      <td>-61142.310770</td>\n",
                            "      <td>0.5</td>\n",
                            "      <td>0.5</td>\n",
                            "    </tr>\n",
                            "    <tr>\n",
                            "      <th>5</th>\n",
                            "      <td>-61260.143180</td>\n",
                            "      <td>0.6</td>\n",
                            "      <td>0.6</td>\n",
                            "    </tr>\n",
                            "    <tr>\n",
                            "      <th>6</th>\n",
                            "      <td>-61372.719100</td>\n",
                            "      <td>0.7</td>\n",
                            "      <td>0.7</td>\n",
                            "    </tr>\n",
                            "    <tr>\n",
                            "      <th>7</th>\n",
                            "      <td>-61521.470012</td>\n",
                            "      <td>0.8</td>\n",
                            "      <td>0.8</td>\n",
                            "    </tr>\n",
                            "    <tr>\n",
                            "      <th>8</th>\n",
                            "      <td>-61708.376343</td>\n",
                            "      <td>0.9</td>\n",
                            "      <td>0.9</td>\n",
                            "    </tr>\n",
                            "  </tbody>\n",
                            "</table>\n",
                            "</div>"
                        ],
                        "text/plain": [
                            "   log_p_S_given_D  params  main std\n",
                            "0    -61008.903745     0.1       0.1\n",
                            "1    -60885.020931     0.2       0.2\n",
                            "2    -60919.984541     0.3       0.3\n",
                            "3    -61017.486311     0.4       0.4\n",
                            "4    -61142.310770     0.5       0.5\n",
                            "5    -61260.143180     0.6       0.6\n",
                            "6    -61372.719100     0.7       0.7\n",
                            "7    -61521.470012     0.8       0.8\n",
                            "8    -61708.376343     0.9       0.9"
                        ]
                    },
                    "execution_count": 173,
                    "metadata": {},
                    "output_type": "execute_result"
                }
            ],
            "source": [
                "df_9"
            ]
        },
        {
            "cell_type": "markdown",
            "metadata": {},
            "source": [
                "## Weight 0.73, main std 0.2"
            ]
        },
        {
            "cell_type": "code",
            "execution_count": 178,
            "metadata": {},
            "outputs": [
                {
                    "name": "stdout",
                    "output_type": "stream",
                    "text": [
                        "15\n"
                    ]
                }
            ],
            "source": [
                "mean = 1\n",
                "sigma_spike = 0.2\n",
                "weight_spike = 0.73\n",
                "sigma_tail = [1, 5, 10, 15, 20, 25, 30, 35, 40, 45, 50, 55, 60, 65, 70]\n",
                "laplace_main = False\n",
                "laplace_tail = False\n",
                "params = sigma_tail\n",
                "print(len(params))\n",
                "\n",
                "df_tail, IDs_tail = load_and_process_json(\"15_stdtail\", params, labels)"
            ]
        },
        {
            "cell_type": "code",
            "execution_count": null,
            "metadata": {},
            "outputs": [],
            "source": []
        }
    ],
    "metadata": {
        "kernelspec": {
            "display_name": "phd",
            "language": "python",
            "name": "python3"
        },
        "language_info": {
            "codemirror_mode": {
                "name": "ipython",
                "version": 3
            },
            "file_extension": ".py",
            "mimetype": "text/x-python",
            "name": "python",
            "nbconvert_exporter": "python",
            "pygments_lexer": "ipython3",
            "version": "3.10.13"
        }
    },
    "nbformat": 4,
    "nbformat_minor": 2
}
