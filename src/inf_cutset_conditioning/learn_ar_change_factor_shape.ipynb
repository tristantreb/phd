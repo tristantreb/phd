{
    "cells": [
        {
            "cell_type": "code",
            "execution_count": 1,
            "metadata": {},
            "outputs": [],
            "source": [
                "import numpy as np\n",
                "import pandas as pd\n",
                "from plotly.subplots import make_subplots\n",
                "import plotly.graph_objects as go\n",
                "\n",
                "import data.breathe_data as bd\n",
                "import data.helpers as dh\n",
                "import inference.helpers as ih\n",
                "import modelling_ar.ar as ar\n",
                "import inf_cutset_conditioning.helpers as cutseth\n",
                "import inf_cutset_conditioning.cutset_cond_algs_learn_ar_change as cca_ar_change\n",
                "import models.helpers as mh\n",
                "\n",
                "import json\n",
                "import numpy as np"
            ]
        },
        {
            "cell_type": "code",
            "execution_count": null,
            "metadata": {},
            "outputs": [],
            "source": [
                "# Load data\n",
                "df = bd.load_meas_from_excel(\"BR_O2_FEV1_FEF2575_conservative_smoothing_with_idx\")"
            ]
        },
        {
            "cell_type": "code",
            "execution_count": null,
            "metadata": {},
            "outputs": [],
            "source": [
                "id = \"134\"\n",
                "dftmp, start_idx, end_idx = dh.find_longest_consec_series(df[df.ID == id], n_days=3)\n",
                "\n",
                "\n",
                "ecfev1_noise_model_suffix = \"_std_add_mult_ecfev1\"\n",
                "ar_prior = \"breathe (2 days model, ecFEV1 addmultnoise, ecFEF25-75)\"\n",
                "ar_change_cpt_suffix = \"_shape_factor_single_laplace_card9\"\n",
                "\n",
                "(\n",
                "    # p_M_given_D,\n",
                "    # log_p_D_given_M,\n",
                "    # AR_given_M_and_D,\n",
                "    # AR_given_M_and_all_D,\n",
                "    log_p_S_given_D,\n",
                "    res_dict,\n",
                ") = cca_ar_change.run_long_noise_model_through_time(\n",
                "    dftmp,\n",
                "    ar_prior=ar_prior,\n",
                "    ar_change_cpt_suffix=ar_change_cpt_suffix,\n",
                "    ecfev1_noise_model_suffix=ecfev1_noise_model_suffix,\n",
                ")"
            ]
        },
        {
            "cell_type": "markdown",
            "metadata": {},
            "source": [
                "## Process results"
            ]
        },
        {
            "cell_type": "code",
            "execution_count": 14,
            "metadata": {},
            "outputs": [],
            "source": [
                "def load_and_process_json(card_suffix, params, labels):\n",
                "    path = f\"{dh.get_path_to_src()}inf_cutset_conditioning/p_s_given_d_card{card_suffix}.json\"\n",
                "\n",
                "    # Load the JSON file\n",
                "    with open(path, \"r\") as file:\n",
                "        data = json.load(file)\n",
                "\n",
                "    # Convert lists to NumPy arrays\n",
                "    for key in data:\n",
                "        data[key] = np.array(data[key])\n",
                "\n",
                "    # Replace 'nan' with np.nan and \"-inf\" with -np.inf\n",
                "    for key in data:\n",
                "        data[key][np.where(data[key] == \"-inf\")] = -np.inf\n",
                "\n",
                "    # REmove dtypes from data\n",
                "    data = {key: data[key].astype(float) for key in data}\n",
                "\n",
                "    # Remove entries with only nan values\n",
                "    data = {key: data[key] for key in data if not np.all(np.isnan(data[key]))}\n",
                "\n",
                "    log_p_s_given_D = np.sum(list(data.values()), axis=0)\n",
                "\n",
                "    df_heatmap = pd.DataFrame(\n",
                "        columns=[\"log_p_S_given_D\", \"params\"], data=zip(log_p_s_given_D, params)\n",
                "    )\n",
                "\n",
                "    # Split params into three columns \"main width\", \"tail width\", \"main weight\"\n",
                "    df_heatmap[labels] = pd.DataFrame(\n",
                "        df_heatmap[\"params\"].tolist(), index=df_heatmap.index\n",
                "    )\n",
                "    return df_heatmap, data\n",
                "\n",
                "\n",
                "# Plot heatmap with main width on x axis, tail width on y axis and log_p_S_given_D as the color, just use the first 3 main weights\n",
                "\n",
                "\n",
                "def add_heatmap_for_weight(fig, df, weight, col):\n",
                "    df = df[df[\"main weight\"] == weight]\n",
                "    fig.add_trace(\n",
                "        go.Heatmap(z=df[\"log_p_S_given_D\"], x=df[\"main width\"], y=df[\"tail width\"]),\n",
                "        row=1,\n",
                "        col=col,\n",
                "    )\n",
                "    fig.update_xaxes(\n",
                "        type=\"category\",\n",
                "        row=1,\n",
                "        col=col,\n",
                "        title=\"Main width<br><br>Main weight=\" + str(weight),\n",
                "    )\n",
                "    return fig\n",
                "\n",
                "\n",
                "def add_heatmap_for_laplace(fig, df, col):\n",
                "    fig.add_trace(\n",
                "        go.Heatmap(\n",
                "            z=df[\"log_p_S_given_D\"],\n",
                "            x=df[\"main width\"],\n",
                "            y=df[\"tail width\"],\n",
                "            colorbar=dict(\n",
                "                len=4,  # Make colorbar 1.5x the height of the plot\n",
                "                y=0.5,  # Center it vertically\n",
                "                yanchor=\"middle\",\n",
                "            ),\n",
                "        ),\n",
                "        row=1,\n",
                "        col=col,\n",
                "    )\n",
                "    fig.update_yaxes(\n",
                "        type=\"category\",\n",
                "        row=1,\n",
                "        col=col,\n",
                "        title=\"\",\n",
                "        showticklabels=False,\n",
                "    )\n",
                "    fig.update_xaxes(\n",
                "        type=\"category\",\n",
                "        row=1,\n",
                "        col=col,\n",
                "        title=\"Laplace width\",\n",
                "    )\n",
                "    return fig\n",
                "\n",
                "\n",
                "def plot_3_3_heatmaps(df_heatmap, IDs, w1, w2, w3):\n",
                "    fig = make_subplots(1, 3)\n",
                "\n",
                "    fig = add_heatmap_for_weight(fig, df_heatmap, w1, 1)\n",
                "    fig = add_heatmap_for_weight(fig, df_heatmap, w2, 2)\n",
                "    fig = add_heatmap_for_weight(fig, df_heatmap, w3, 3)\n",
                "\n",
                "    fig.update_layout(\n",
                "        title=f\"Log probability of S given D for different AR change parameters ({len(IDs)} IDs)\",\n",
                "        yaxis_title=\"Tail width\",\n",
                "        # yaxis_type='log',\n",
                "        width=650,\n",
                "        height=300,\n",
                "        font_size=10,\n",
                "    )\n",
                "    # Recude font size of the subplot titles\n",
                "    for annotation in fig[\"layout\"][\"annotations\"]:\n",
                "        annotation[\"font\"] = dict(size=14)\n",
                "    # use the same color scale for all subplots\n",
                "    fig.update_traces(\n",
                "        zmin=min(df_heatmap.log_p_S_given_D[df_heatmap.log_p_S_given_D != -np.inf]),\n",
                "        zmax=max(df_heatmap.log_p_S_given_D),\n",
                "        colorbar=dict(title=\"log_p_S_given_D\"),\n",
                "    )\n",
                "    # X axis and y axis are categorical\n",
                "    fig.update_yaxes(type=\"category\")\n",
                "\n",
                "    fig.show()"
            ]
        },
        {
            "cell_type": "code",
            "execution_count": 23,
            "metadata": {},
            "outputs": [],
            "source": [
                "params = [\n",
                "    (1, 10, 0.5),\n",
                "    (1, 10, 0.7),\n",
                "    (1, 10, 0.9),\n",
                "    (1, 30, 0.5),\n",
                "    (1, 30, 0.7),\n",
                "    (1, 30, 0.9),\n",
                "    (1, 50, 0.5),\n",
                "    (1, 50, 0.7),\n",
                "    (1, 50, 0.9),\n",
                "    (3, 10, 0.5),\n",
                "    (3, 10, 0.7),\n",
                "    (3, 10, 0.9),\n",
                "    (3, 30, 0.5),\n",
                "    (3, 30, 0.7),\n",
                "    (3, 30, 0.9),\n",
                "    (3, 50, 0.5),\n",
                "    (3, 50, 0.7),\n",
                "    (3, 50, 0.9),\n",
                "    (5, 10, 0.5),\n",
                "    (5, 10, 0.7),\n",
                "    (5, 10, 0.9),\n",
                "    (5, 30, 0.5),\n",
                "    (5, 30, 0.7),\n",
                "    (5, 30, 0.9),\n",
                "    (5, 50, 0.5),\n",
                "    (5, 50, 0.7),\n",
                "    (5, 50, 0.9),\n",
                "]\n",
                "labels = [\"main width\", \"tail width\", \"main weight\"]\n",
                "df_heatmap, IDs = load_and_process_json(27, params, labels)"
            ]
        },
        {
            "cell_type": "code",
            "execution_count": null,
            "metadata": {},
            "outputs": [],
            "source": [
                "plot_3_3_heatmaps(df_heatmap, IDs, 0.5, 0.7, 0.9)"
            ]
        },
        {
            "cell_type": "code",
            "execution_count": null,
            "metadata": {},
            "outputs": [],
            "source": [
                "params = [\n",
                "    (1, 10, 0.7),\n",
                "    (1, 10, 0.73),\n",
                "    (1, 10, 0.76),\n",
                "    (1, 10, 0.79),\n",
                "    (1, 10, 0.81),\n",
                "    (1, 10, 0.84),\n",
                "    (1, 10, 0.87),\n",
                "    (1, 10, 0.9),\n",
                "    (1, 10, 0.93),\n",
                "    (1, 10, 0.96),\n",
                "    (1, 10, 0.99),\n",
                "]\n",
                "\n",
                "df_heatmap, IDs = load_and_process_json(11, params, labels)\n",
                "df_heatmap"
            ]
        },
        {
            "cell_type": "code",
            "execution_count": null,
            "metadata": {},
            "outputs": [],
            "source": [
                "params = [\n",
                "    (0.2, 1, 0.9),\n",
                "    (0.2, 1, 0.95),\n",
                "    (0.2, 1, 1),\n",
                "    (0.2, 4, 0.9),\n",
                "    (0.2, 4, 0.95),\n",
                "    (0.2, 4, 1),\n",
                "    (0.2, 10, 0.9),\n",
                "    (0.2, 10, 0.95),\n",
                "    (0.2, 10, 1),\n",
                "    (0.4, 1, 0.9),\n",
                "    (0.4, 1, 0.95),\n",
                "    (0.4, 1, 1),\n",
                "    (0.4, 4, 0.9),\n",
                "    (0.4, 4, 0.95),\n",
                "    (0.4, 4, 1),\n",
                "    (0.4, 10, 0.9),\n",
                "    (0.4, 10, 0.95),\n",
                "    (0.4, 10, 1),\n",
                "    (1, 1, 0.9),\n",
                "    (1, 1, 0.95),\n",
                "    (1, 1, 1),\n",
                "    (1, 4, 0.9),\n",
                "    (1, 4, 0.95),\n",
                "    (1, 4, 1),\n",
                "    (1, 10, 0.9),\n",
                "    (1, 10, 0.95),\n",
                "    (1, 10, 1),\n",
                "]\n",
                "labels = [\"main width\", \"tail width\", \"main weight\"]\n",
                "df_heatmap, IDs = load_and_process_json(272, params, labels)\n",
                "plot_3_3_heatmaps(df_heatmap, IDs, 0.9, 0.95, 1)"
            ]
        },
        {
            "cell_type": "code",
            "execution_count": null,
            "metadata": {},
            "outputs": [],
            "source": [
                "params = [\n",
                "    (0.01, 0.1, 0.7),\n",
                "    (0.01, 0.2, 0.7),\n",
                "    (0.01, 0.5, 0.7),\n",
                "    (0.01, 0.8, 0.7),\n",
                "    (0.01, 1.1, 0.7),\n",
                "    (0.01, 1.4, 0.7),\n",
                "    (0.03, 0.1, 0.7),\n",
                "    (0.03, 0.2, 0.7),\n",
                "    (0.03, 0.5, 0.7),\n",
                "    (0.03, 0.8, 0.7),\n",
                "    (0.03, 1.1, 0.7),\n",
                "    (0.03, 1.4, 0.7),\n",
                "    (0.05, 0.1, 0.7),\n",
                "    (0.05, 0.2, 0.7),\n",
                "    (0.05, 0.5, 0.7),\n",
                "    (0.05, 0.8, 0.7),\n",
                "    (0.05, 1.1, 0.7),\n",
                "    (0.05, 1.4, 0.7),\n",
                "    (0.1, 0.2, 0.7),\n",
                "    (0.1, 0.5, 0.7),\n",
                "    (0.1, 0.8, 0.7),\n",
                "    (0.1, 1.1, 0.7),\n",
                "    (0.1, 1.4, 0.7),\n",
                "    (0.15, 0.2, 0.7),\n",
                "    (0.15, 0.5, 0.7),\n",
                "    (0.15, 0.8, 0.7),\n",
                "    (0.15, 1.1, 0.7),\n",
                "    (0.15, 1.4, 0.7),\n",
                "]\n",
                "labels = [\"main width\", \"tail width\", \"main weight\"]\n",
                "df_heatmap, IDs = load_and_process_json(28, params, labels)\n",
                "\n",
                "fig = make_subplots()\n",
                "fig = add_heatmap_for_weight(fig, df_heatmap, 0.7, 1)\n",
                "fig.update_layout(\n",
                "    title=f\"Log probability of S given D for different AR change parameters ({len(IDs)} IDs)\",\n",
                "    yaxis_title=\"Tail width\",\n",
                "    # yaxis_type='log',\n",
                "    width=450,\n",
                "    height=400,\n",
                "    font_size=10,\n",
                ")\n",
                "fig.show()"
            ]
        },
        {
            "cell_type": "code",
            "execution_count": 16,
            "metadata": {},
            "outputs": [
                {
                    "data": {
                        "application/vnd.plotly.v1+json": {
                            "config": {
                                "plotlyServerURL": "https://plot.ly"
                            },
                            "data": [
                                {
                                    "type": "heatmap",
                                    "x": [
                                        0.001,
                                        0.001,
                                        0.001,
                                        0.001,
                                        0.001,
                                        0.003,
                                        0.003,
                                        0.003,
                                        0.003,
                                        0.003,
                                        0.007,
                                        0.007,
                                        0.007,
                                        0.007,
                                        0.007,
                                        0.01,
                                        0.01,
                                        0.01,
                                        0.01,
                                        0.025,
                                        0.025,
                                        0.025,
                                        0.025
                                    ],
                                    "xaxis": "x",
                                    "y": [
                                        0.01,
                                        0.03,
                                        0.07,
                                        0.1,
                                        0.15,
                                        0.01,
                                        0.03,
                                        0.07,
                                        0.1,
                                        0.15,
                                        0.01,
                                        0.03,
                                        0.07,
                                        0.1,
                                        0.15,
                                        0.03,
                                        0.07,
                                        0.1,
                                        0.15,
                                        0.03,
                                        0.07,
                                        0.1,
                                        0.15
                                    ],
                                    "yaxis": "y",
                                    "z": [
                                        -4123117.1966971885,
                                        -4123149.190822902,
                                        -4123211.864707201,
                                        -4123260.6081240093,
                                        -4123341.9676698097,
                                        -4123117.979284369,
                                        -4123133.4281003424,
                                        -4123165.9617033494,
                                        -4123203.1286914814,
                                        -4123254.62008164,
                                        -4123118.158995322,
                                        -4123129.866290541,
                                        -4123152.774113389,
                                        -4123173.6389465714,
                                        -4123211.89882076,
                                        -4123131.90919656,
                                        -4123152.7540615285,
                                        -4123169.4871437484,
                                        -4123199.763797089,
                                        -4123152.1216394296,
                                        -4123172.0078127896,
                                        -4123188.963807789,
                                        -4123216.916576973
                                    ]
                                }
                            ],
                            "layout": {
                                "font": {
                                    "size": 10
                                },
                                "height": 400,
                                "template": {
                                    "data": {
                                        "bar": [
                                            {
                                                "error_x": {
                                                    "color": "#2a3f5f"
                                                },
                                                "error_y": {
                                                    "color": "#2a3f5f"
                                                },
                                                "marker": {
                                                    "line": {
                                                        "color": "#E5ECF6",
                                                        "width": 0.5
                                                    },
                                                    "pattern": {
                                                        "fillmode": "overlay",
                                                        "size": 10,
                                                        "solidity": 0.2
                                                    }
                                                },
                                                "type": "bar"
                                            }
                                        ],
                                        "barpolar": [
                                            {
                                                "marker": {
                                                    "line": {
                                                        "color": "#E5ECF6",
                                                        "width": 0.5
                                                    },
                                                    "pattern": {
                                                        "fillmode": "overlay",
                                                        "size": 10,
                                                        "solidity": 0.2
                                                    }
                                                },
                                                "type": "barpolar"
                                            }
                                        ],
                                        "carpet": [
                                            {
                                                "aaxis": {
                                                    "endlinecolor": "#2a3f5f",
                                                    "gridcolor": "white",
                                                    "linecolor": "white",
                                                    "minorgridcolor": "white",
                                                    "startlinecolor": "#2a3f5f"
                                                },
                                                "baxis": {
                                                    "endlinecolor": "#2a3f5f",
                                                    "gridcolor": "white",
                                                    "linecolor": "white",
                                                    "minorgridcolor": "white",
                                                    "startlinecolor": "#2a3f5f"
                                                },
                                                "type": "carpet"
                                            }
                                        ],
                                        "choropleth": [
                                            {
                                                "colorbar": {
                                                    "outlinewidth": 0,
                                                    "ticks": ""
                                                },
                                                "type": "choropleth"
                                            }
                                        ],
                                        "contour": [
                                            {
                                                "colorbar": {
                                                    "outlinewidth": 0,
                                                    "ticks": ""
                                                },
                                                "colorscale": [
                                                    [
                                                        0,
                                                        "#0d0887"
                                                    ],
                                                    [
                                                        0.1111111111111111,
                                                        "#46039f"
                                                    ],
                                                    [
                                                        0.2222222222222222,
                                                        "#7201a8"
                                                    ],
                                                    [
                                                        0.3333333333333333,
                                                        "#9c179e"
                                                    ],
                                                    [
                                                        0.4444444444444444,
                                                        "#bd3786"
                                                    ],
                                                    [
                                                        0.5555555555555556,
                                                        "#d8576b"
                                                    ],
                                                    [
                                                        0.6666666666666666,
                                                        "#ed7953"
                                                    ],
                                                    [
                                                        0.7777777777777778,
                                                        "#fb9f3a"
                                                    ],
                                                    [
                                                        0.8888888888888888,
                                                        "#fdca26"
                                                    ],
                                                    [
                                                        1,
                                                        "#f0f921"
                                                    ]
                                                ],
                                                "type": "contour"
                                            }
                                        ],
                                        "contourcarpet": [
                                            {
                                                "colorbar": {
                                                    "outlinewidth": 0,
                                                    "ticks": ""
                                                },
                                                "type": "contourcarpet"
                                            }
                                        ],
                                        "heatmap": [
                                            {
                                                "colorbar": {
                                                    "outlinewidth": 0,
                                                    "ticks": ""
                                                },
                                                "colorscale": [
                                                    [
                                                        0,
                                                        "#0d0887"
                                                    ],
                                                    [
                                                        0.1111111111111111,
                                                        "#46039f"
                                                    ],
                                                    [
                                                        0.2222222222222222,
                                                        "#7201a8"
                                                    ],
                                                    [
                                                        0.3333333333333333,
                                                        "#9c179e"
                                                    ],
                                                    [
                                                        0.4444444444444444,
                                                        "#bd3786"
                                                    ],
                                                    [
                                                        0.5555555555555556,
                                                        "#d8576b"
                                                    ],
                                                    [
                                                        0.6666666666666666,
                                                        "#ed7953"
                                                    ],
                                                    [
                                                        0.7777777777777778,
                                                        "#fb9f3a"
                                                    ],
                                                    [
                                                        0.8888888888888888,
                                                        "#fdca26"
                                                    ],
                                                    [
                                                        1,
                                                        "#f0f921"
                                                    ]
                                                ],
                                                "type": "heatmap"
                                            }
                                        ],
                                        "heatmapgl": [
                                            {
                                                "colorbar": {
                                                    "outlinewidth": 0,
                                                    "ticks": ""
                                                },
                                                "colorscale": [
                                                    [
                                                        0,
                                                        "#0d0887"
                                                    ],
                                                    [
                                                        0.1111111111111111,
                                                        "#46039f"
                                                    ],
                                                    [
                                                        0.2222222222222222,
                                                        "#7201a8"
                                                    ],
                                                    [
                                                        0.3333333333333333,
                                                        "#9c179e"
                                                    ],
                                                    [
                                                        0.4444444444444444,
                                                        "#bd3786"
                                                    ],
                                                    [
                                                        0.5555555555555556,
                                                        "#d8576b"
                                                    ],
                                                    [
                                                        0.6666666666666666,
                                                        "#ed7953"
                                                    ],
                                                    [
                                                        0.7777777777777778,
                                                        "#fb9f3a"
                                                    ],
                                                    [
                                                        0.8888888888888888,
                                                        "#fdca26"
                                                    ],
                                                    [
                                                        1,
                                                        "#f0f921"
                                                    ]
                                                ],
                                                "type": "heatmapgl"
                                            }
                                        ],
                                        "histogram": [
                                            {
                                                "marker": {
                                                    "pattern": {
                                                        "fillmode": "overlay",
                                                        "size": 10,
                                                        "solidity": 0.2
                                                    }
                                                },
                                                "type": "histogram"
                                            }
                                        ],
                                        "histogram2d": [
                                            {
                                                "colorbar": {
                                                    "outlinewidth": 0,
                                                    "ticks": ""
                                                },
                                                "colorscale": [
                                                    [
                                                        0,
                                                        "#0d0887"
                                                    ],
                                                    [
                                                        0.1111111111111111,
                                                        "#46039f"
                                                    ],
                                                    [
                                                        0.2222222222222222,
                                                        "#7201a8"
                                                    ],
                                                    [
                                                        0.3333333333333333,
                                                        "#9c179e"
                                                    ],
                                                    [
                                                        0.4444444444444444,
                                                        "#bd3786"
                                                    ],
                                                    [
                                                        0.5555555555555556,
                                                        "#d8576b"
                                                    ],
                                                    [
                                                        0.6666666666666666,
                                                        "#ed7953"
                                                    ],
                                                    [
                                                        0.7777777777777778,
                                                        "#fb9f3a"
                                                    ],
                                                    [
                                                        0.8888888888888888,
                                                        "#fdca26"
                                                    ],
                                                    [
                                                        1,
                                                        "#f0f921"
                                                    ]
                                                ],
                                                "type": "histogram2d"
                                            }
                                        ],
                                        "histogram2dcontour": [
                                            {
                                                "colorbar": {
                                                    "outlinewidth": 0,
                                                    "ticks": ""
                                                },
                                                "colorscale": [
                                                    [
                                                        0,
                                                        "#0d0887"
                                                    ],
                                                    [
                                                        0.1111111111111111,
                                                        "#46039f"
                                                    ],
                                                    [
                                                        0.2222222222222222,
                                                        "#7201a8"
                                                    ],
                                                    [
                                                        0.3333333333333333,
                                                        "#9c179e"
                                                    ],
                                                    [
                                                        0.4444444444444444,
                                                        "#bd3786"
                                                    ],
                                                    [
                                                        0.5555555555555556,
                                                        "#d8576b"
                                                    ],
                                                    [
                                                        0.6666666666666666,
                                                        "#ed7953"
                                                    ],
                                                    [
                                                        0.7777777777777778,
                                                        "#fb9f3a"
                                                    ],
                                                    [
                                                        0.8888888888888888,
                                                        "#fdca26"
                                                    ],
                                                    [
                                                        1,
                                                        "#f0f921"
                                                    ]
                                                ],
                                                "type": "histogram2dcontour"
                                            }
                                        ],
                                        "mesh3d": [
                                            {
                                                "colorbar": {
                                                    "outlinewidth": 0,
                                                    "ticks": ""
                                                },
                                                "type": "mesh3d"
                                            }
                                        ],
                                        "parcoords": [
                                            {
                                                "line": {
                                                    "colorbar": {
                                                        "outlinewidth": 0,
                                                        "ticks": ""
                                                    }
                                                },
                                                "type": "parcoords"
                                            }
                                        ],
                                        "pie": [
                                            {
                                                "automargin": true,
                                                "type": "pie"
                                            }
                                        ],
                                        "scatter": [
                                            {
                                                "fillpattern": {
                                                    "fillmode": "overlay",
                                                    "size": 10,
                                                    "solidity": 0.2
                                                },
                                                "type": "scatter"
                                            }
                                        ],
                                        "scatter3d": [
                                            {
                                                "line": {
                                                    "colorbar": {
                                                        "outlinewidth": 0,
                                                        "ticks": ""
                                                    }
                                                },
                                                "marker": {
                                                    "colorbar": {
                                                        "outlinewidth": 0,
                                                        "ticks": ""
                                                    }
                                                },
                                                "type": "scatter3d"
                                            }
                                        ],
                                        "scattercarpet": [
                                            {
                                                "marker": {
                                                    "colorbar": {
                                                        "outlinewidth": 0,
                                                        "ticks": ""
                                                    }
                                                },
                                                "type": "scattercarpet"
                                            }
                                        ],
                                        "scattergeo": [
                                            {
                                                "marker": {
                                                    "colorbar": {
                                                        "outlinewidth": 0,
                                                        "ticks": ""
                                                    }
                                                },
                                                "type": "scattergeo"
                                            }
                                        ],
                                        "scattergl": [
                                            {
                                                "marker": {
                                                    "colorbar": {
                                                        "outlinewidth": 0,
                                                        "ticks": ""
                                                    }
                                                },
                                                "type": "scattergl"
                                            }
                                        ],
                                        "scattermapbox": [
                                            {
                                                "marker": {
                                                    "colorbar": {
                                                        "outlinewidth": 0,
                                                        "ticks": ""
                                                    }
                                                },
                                                "type": "scattermapbox"
                                            }
                                        ],
                                        "scatterpolar": [
                                            {
                                                "marker": {
                                                    "colorbar": {
                                                        "outlinewidth": 0,
                                                        "ticks": ""
                                                    }
                                                },
                                                "type": "scatterpolar"
                                            }
                                        ],
                                        "scatterpolargl": [
                                            {
                                                "marker": {
                                                    "colorbar": {
                                                        "outlinewidth": 0,
                                                        "ticks": ""
                                                    }
                                                },
                                                "type": "scatterpolargl"
                                            }
                                        ],
                                        "scatterternary": [
                                            {
                                                "marker": {
                                                    "colorbar": {
                                                        "outlinewidth": 0,
                                                        "ticks": ""
                                                    }
                                                },
                                                "type": "scatterternary"
                                            }
                                        ],
                                        "surface": [
                                            {
                                                "colorbar": {
                                                    "outlinewidth": 0,
                                                    "ticks": ""
                                                },
                                                "colorscale": [
                                                    [
                                                        0,
                                                        "#0d0887"
                                                    ],
                                                    [
                                                        0.1111111111111111,
                                                        "#46039f"
                                                    ],
                                                    [
                                                        0.2222222222222222,
                                                        "#7201a8"
                                                    ],
                                                    [
                                                        0.3333333333333333,
                                                        "#9c179e"
                                                    ],
                                                    [
                                                        0.4444444444444444,
                                                        "#bd3786"
                                                    ],
                                                    [
                                                        0.5555555555555556,
                                                        "#d8576b"
                                                    ],
                                                    [
                                                        0.6666666666666666,
                                                        "#ed7953"
                                                    ],
                                                    [
                                                        0.7777777777777778,
                                                        "#fb9f3a"
                                                    ],
                                                    [
                                                        0.8888888888888888,
                                                        "#fdca26"
                                                    ],
                                                    [
                                                        1,
                                                        "#f0f921"
                                                    ]
                                                ],
                                                "type": "surface"
                                            }
                                        ],
                                        "table": [
                                            {
                                                "cells": {
                                                    "fill": {
                                                        "color": "#EBF0F8"
                                                    },
                                                    "line": {
                                                        "color": "white"
                                                    }
                                                },
                                                "header": {
                                                    "fill": {
                                                        "color": "#C8D4E3"
                                                    },
                                                    "line": {
                                                        "color": "white"
                                                    }
                                                },
                                                "type": "table"
                                            }
                                        ]
                                    },
                                    "layout": {
                                        "annotationdefaults": {
                                            "arrowcolor": "#2a3f5f",
                                            "arrowhead": 0,
                                            "arrowwidth": 1
                                        },
                                        "autotypenumbers": "strict",
                                        "coloraxis": {
                                            "colorbar": {
                                                "outlinewidth": 0,
                                                "ticks": ""
                                            }
                                        },
                                        "colorscale": {
                                            "diverging": [
                                                [
                                                    0,
                                                    "#8e0152"
                                                ],
                                                [
                                                    0.1,
                                                    "#c51b7d"
                                                ],
                                                [
                                                    0.2,
                                                    "#de77ae"
                                                ],
                                                [
                                                    0.3,
                                                    "#f1b6da"
                                                ],
                                                [
                                                    0.4,
                                                    "#fde0ef"
                                                ],
                                                [
                                                    0.5,
                                                    "#f7f7f7"
                                                ],
                                                [
                                                    0.6,
                                                    "#e6f5d0"
                                                ],
                                                [
                                                    0.7,
                                                    "#b8e186"
                                                ],
                                                [
                                                    0.8,
                                                    "#7fbc41"
                                                ],
                                                [
                                                    0.9,
                                                    "#4d9221"
                                                ],
                                                [
                                                    1,
                                                    "#276419"
                                                ]
                                            ],
                                            "sequential": [
                                                [
                                                    0,
                                                    "#0d0887"
                                                ],
                                                [
                                                    0.1111111111111111,
                                                    "#46039f"
                                                ],
                                                [
                                                    0.2222222222222222,
                                                    "#7201a8"
                                                ],
                                                [
                                                    0.3333333333333333,
                                                    "#9c179e"
                                                ],
                                                [
                                                    0.4444444444444444,
                                                    "#bd3786"
                                                ],
                                                [
                                                    0.5555555555555556,
                                                    "#d8576b"
                                                ],
                                                [
                                                    0.6666666666666666,
                                                    "#ed7953"
                                                ],
                                                [
                                                    0.7777777777777778,
                                                    "#fb9f3a"
                                                ],
                                                [
                                                    0.8888888888888888,
                                                    "#fdca26"
                                                ],
                                                [
                                                    1,
                                                    "#f0f921"
                                                ]
                                            ],
                                            "sequentialminus": [
                                                [
                                                    0,
                                                    "#0d0887"
                                                ],
                                                [
                                                    0.1111111111111111,
                                                    "#46039f"
                                                ],
                                                [
                                                    0.2222222222222222,
                                                    "#7201a8"
                                                ],
                                                [
                                                    0.3333333333333333,
                                                    "#9c179e"
                                                ],
                                                [
                                                    0.4444444444444444,
                                                    "#bd3786"
                                                ],
                                                [
                                                    0.5555555555555556,
                                                    "#d8576b"
                                                ],
                                                [
                                                    0.6666666666666666,
                                                    "#ed7953"
                                                ],
                                                [
                                                    0.7777777777777778,
                                                    "#fb9f3a"
                                                ],
                                                [
                                                    0.8888888888888888,
                                                    "#fdca26"
                                                ],
                                                [
                                                    1,
                                                    "#f0f921"
                                                ]
                                            ]
                                        },
                                        "colorway": [
                                            "#636efa",
                                            "#EF553B",
                                            "#00cc96",
                                            "#ab63fa",
                                            "#FFA15A",
                                            "#19d3f3",
                                            "#FF6692",
                                            "#B6E880",
                                            "#FF97FF",
                                            "#FECB52"
                                        ],
                                        "font": {
                                            "color": "#2a3f5f"
                                        },
                                        "geo": {
                                            "bgcolor": "white",
                                            "lakecolor": "white",
                                            "landcolor": "#E5ECF6",
                                            "showlakes": true,
                                            "showland": true,
                                            "subunitcolor": "white"
                                        },
                                        "hoverlabel": {
                                            "align": "left"
                                        },
                                        "hovermode": "closest",
                                        "mapbox": {
                                            "style": "light"
                                        },
                                        "paper_bgcolor": "white",
                                        "plot_bgcolor": "#E5ECF6",
                                        "polar": {
                                            "angularaxis": {
                                                "gridcolor": "white",
                                                "linecolor": "white",
                                                "ticks": ""
                                            },
                                            "bgcolor": "#E5ECF6",
                                            "radialaxis": {
                                                "gridcolor": "white",
                                                "linecolor": "white",
                                                "ticks": ""
                                            }
                                        },
                                        "scene": {
                                            "xaxis": {
                                                "backgroundcolor": "#E5ECF6",
                                                "gridcolor": "white",
                                                "gridwidth": 2,
                                                "linecolor": "white",
                                                "showbackground": true,
                                                "ticks": "",
                                                "zerolinecolor": "white"
                                            },
                                            "yaxis": {
                                                "backgroundcolor": "#E5ECF6",
                                                "gridcolor": "white",
                                                "gridwidth": 2,
                                                "linecolor": "white",
                                                "showbackground": true,
                                                "ticks": "",
                                                "zerolinecolor": "white"
                                            },
                                            "zaxis": {
                                                "backgroundcolor": "#E5ECF6",
                                                "gridcolor": "white",
                                                "gridwidth": 2,
                                                "linecolor": "white",
                                                "showbackground": true,
                                                "ticks": "",
                                                "zerolinecolor": "white"
                                            }
                                        },
                                        "shapedefaults": {
                                            "line": {
                                                "color": "#2a3f5f"
                                            }
                                        },
                                        "ternary": {
                                            "aaxis": {
                                                "gridcolor": "white",
                                                "linecolor": "white",
                                                "ticks": ""
                                            },
                                            "baxis": {
                                                "gridcolor": "white",
                                                "linecolor": "white",
                                                "ticks": ""
                                            },
                                            "bgcolor": "#E5ECF6",
                                            "caxis": {
                                                "gridcolor": "white",
                                                "linecolor": "white",
                                                "ticks": ""
                                            }
                                        },
                                        "title": {
                                            "x": 0.05
                                        },
                                        "xaxis": {
                                            "automargin": true,
                                            "gridcolor": "white",
                                            "linecolor": "white",
                                            "ticks": "",
                                            "title": {
                                                "standoff": 15
                                            },
                                            "zerolinecolor": "white",
                                            "zerolinewidth": 2
                                        },
                                        "yaxis": {
                                            "automargin": true,
                                            "gridcolor": "white",
                                            "linecolor": "white",
                                            "ticks": "",
                                            "title": {
                                                "standoff": 15
                                            },
                                            "zerolinecolor": "white",
                                            "zerolinewidth": 2
                                        }
                                    }
                                },
                                "title": {
                                    "text": "Log probability of S given D for different shape parameters<br>(18 IDs)"
                                },
                                "width": 450,
                                "xaxis": {
                                    "anchor": "y",
                                    "domain": [
                                        0,
                                        1
                                    ],
                                    "title": {
                                        "text": "Main width<br><br>Main weight=0.7"
                                    },
                                    "type": "category"
                                },
                                "yaxis": {
                                    "anchor": "x",
                                    "domain": [
                                        0,
                                        1
                                    ],
                                    "title": {
                                        "text": "Tail width"
                                    }
                                }
                            }
                        }
                    },
                    "metadata": {},
                    "output_type": "display_data"
                }
            ],
            "source": [
                "params = [\n",
                "    (0.001, 0.01, 0.7),\n",
                "    (0.001, 0.03, 0.7),\n",
                "    (0.001, 0.07, 0.7),\n",
                "    (0.001, 0.1, 0.7),\n",
                "    (0.001, 0.15, 0.7),\n",
                "    (0.003, 0.01, 0.7),\n",
                "    (0.003, 0.03, 0.7),\n",
                "    (0.003, 0.07, 0.7),\n",
                "    (0.003, 0.1, 0.7),\n",
                "    (0.003, 0.15, 0.7),\n",
                "    (0.007, 0.01, 0.7),\n",
                "    (0.007, 0.03, 0.7),\n",
                "    (0.007, 0.07, 0.7),\n",
                "    (0.007, 0.1, 0.7),\n",
                "    (0.007, 0.15, 0.7),\n",
                "    (0.01, 0.03, 0.7),\n",
                "    (0.01, 0.07, 0.7),\n",
                "    (0.01, 0.1, 0.7),\n",
                "    (0.01, 0.15, 0.7),\n",
                "    (0.025, 0.03, 0.7),\n",
                "    (0.025, 0.07, 0.7),\n",
                "    (0.025, 0.1, 0.7),\n",
                "    (0.025, 0.15, 0.7),\n",
                "]\n",
                "labels = [\"main width\", \"tail width\", \"main weight\"]\n",
                "df_heatmap, data = load_and_process_json(23, params, labels)\n",
                "\n",
                "fig = make_subplots()\n",
                "fig = add_heatmap_for_weight(fig, df_heatmap, 0.7, 1)\n",
                "fig.update_layout(\n",
                "    title=f\"Log probability of S given D for different shape parameters<br>({len(IDs)} IDs)\",\n",
                "    yaxis_title=\"Tail width\",\n",
                "    # yaxis_type='log',\n",
                "    width=450,\n",
                "    height=400,\n",
                "    font_size=10,\n",
                ")\n",
                "fig.show()"
            ]
        },
        {
            "cell_type": "code",
            "execution_count": null,
            "metadata": {},
            "outputs": [],
            "source": [
                "for id in data.keys():\n",
                "\n",
                "    df_heatmap_for_ID = df_heatmap\n",
                "    df_heatmap_for_ID[\"log_p_S_given_D\"] = data[id]\n",
                "\n",
                "    # Plot for ID\n",
                "    fig = make_subplots()\n",
                "    fig = add_heatmap_for_weight(fig, df_heatmap_for_ID, 0.7, 1)\n",
                "    fig.update_layout(\n",
                "        title=f\"Log probability of S given D for different shape parameters\",\n",
                "        yaxis_title=\"Tail width\",\n",
                "        # yaxis_type='log',\n",
                "        width=800,\n",
                "        height=600,\n",
                "        font_size=12,\n",
                "    )\n",
                "    fig.write_image(\n",
                "        f\"{dh.get_path_to_main()}PlotsBreathe/Interconnecting_ARs_entries/heatmaps_optimal_ar_change_factor_shape/ID {id}.pdf\"\n",
                "    )"
            ]
        },
        {
            "cell_type": "code",
            "execution_count": 26,
            "metadata": {},
            "outputs": [
                {
                    "data": {
                        "application/vnd.plotly.v1+json": {
                            "config": {
                                "plotlyServerURL": "https://plot.ly"
                            },
                            "data": [
                                {
                                    "colorbar": {
                                        "len": 4,
                                        "y": 0.5,
                                        "yanchor": "middle"
                                    },
                                    "type": "heatmap",
                                    "x": [
                                        0.001,
                                        0.005,
                                        0.01,
                                        0.05,
                                        0.1,
                                        0.5,
                                        1,
                                        1.5,
                                        2
                                    ],
                                    "xaxis": "x",
                                    "y": [
                                        0.1,
                                        0.1,
                                        0.1,
                                        0.1,
                                        0.1,
                                        0.1,
                                        0.1,
                                        0.1,
                                        0.1
                                    ],
                                    "yaxis": "y",
                                    "z": [
                                        -2661.0366726000007,
                                        -2573.24139049,
                                        -2556.89856166,
                                        -2505.5049501999997,
                                        -2483.35738074,
                                        -2380.71006817,
                                        -2294.1041945700003,
                                        -2255.17957834,
                                        -2242.54910965
                                    ]
                                }
                            ],
                            "layout": {
                                "font": {
                                    "size": 10
                                },
                                "height": 200,
                                "template": {
                                    "data": {
                                        "bar": [
                                            {
                                                "error_x": {
                                                    "color": "#2a3f5f"
                                                },
                                                "error_y": {
                                                    "color": "#2a3f5f"
                                                },
                                                "marker": {
                                                    "line": {
                                                        "color": "#E5ECF6",
                                                        "width": 0.5
                                                    },
                                                    "pattern": {
                                                        "fillmode": "overlay",
                                                        "size": 10,
                                                        "solidity": 0.2
                                                    }
                                                },
                                                "type": "bar"
                                            }
                                        ],
                                        "barpolar": [
                                            {
                                                "marker": {
                                                    "line": {
                                                        "color": "#E5ECF6",
                                                        "width": 0.5
                                                    },
                                                    "pattern": {
                                                        "fillmode": "overlay",
                                                        "size": 10,
                                                        "solidity": 0.2
                                                    }
                                                },
                                                "type": "barpolar"
                                            }
                                        ],
                                        "carpet": [
                                            {
                                                "aaxis": {
                                                    "endlinecolor": "#2a3f5f",
                                                    "gridcolor": "white",
                                                    "linecolor": "white",
                                                    "minorgridcolor": "white",
                                                    "startlinecolor": "#2a3f5f"
                                                },
                                                "baxis": {
                                                    "endlinecolor": "#2a3f5f",
                                                    "gridcolor": "white",
                                                    "linecolor": "white",
                                                    "minorgridcolor": "white",
                                                    "startlinecolor": "#2a3f5f"
                                                },
                                                "type": "carpet"
                                            }
                                        ],
                                        "choropleth": [
                                            {
                                                "colorbar": {
                                                    "outlinewidth": 0,
                                                    "ticks": ""
                                                },
                                                "type": "choropleth"
                                            }
                                        ],
                                        "contour": [
                                            {
                                                "colorbar": {
                                                    "outlinewidth": 0,
                                                    "ticks": ""
                                                },
                                                "colorscale": [
                                                    [
                                                        0,
                                                        "#0d0887"
                                                    ],
                                                    [
                                                        0.1111111111111111,
                                                        "#46039f"
                                                    ],
                                                    [
                                                        0.2222222222222222,
                                                        "#7201a8"
                                                    ],
                                                    [
                                                        0.3333333333333333,
                                                        "#9c179e"
                                                    ],
                                                    [
                                                        0.4444444444444444,
                                                        "#bd3786"
                                                    ],
                                                    [
                                                        0.5555555555555556,
                                                        "#d8576b"
                                                    ],
                                                    [
                                                        0.6666666666666666,
                                                        "#ed7953"
                                                    ],
                                                    [
                                                        0.7777777777777778,
                                                        "#fb9f3a"
                                                    ],
                                                    [
                                                        0.8888888888888888,
                                                        "#fdca26"
                                                    ],
                                                    [
                                                        1,
                                                        "#f0f921"
                                                    ]
                                                ],
                                                "type": "contour"
                                            }
                                        ],
                                        "contourcarpet": [
                                            {
                                                "colorbar": {
                                                    "outlinewidth": 0,
                                                    "ticks": ""
                                                },
                                                "type": "contourcarpet"
                                            }
                                        ],
                                        "heatmap": [
                                            {
                                                "colorbar": {
                                                    "outlinewidth": 0,
                                                    "ticks": ""
                                                },
                                                "colorscale": [
                                                    [
                                                        0,
                                                        "#0d0887"
                                                    ],
                                                    [
                                                        0.1111111111111111,
                                                        "#46039f"
                                                    ],
                                                    [
                                                        0.2222222222222222,
                                                        "#7201a8"
                                                    ],
                                                    [
                                                        0.3333333333333333,
                                                        "#9c179e"
                                                    ],
                                                    [
                                                        0.4444444444444444,
                                                        "#bd3786"
                                                    ],
                                                    [
                                                        0.5555555555555556,
                                                        "#d8576b"
                                                    ],
                                                    [
                                                        0.6666666666666666,
                                                        "#ed7953"
                                                    ],
                                                    [
                                                        0.7777777777777778,
                                                        "#fb9f3a"
                                                    ],
                                                    [
                                                        0.8888888888888888,
                                                        "#fdca26"
                                                    ],
                                                    [
                                                        1,
                                                        "#f0f921"
                                                    ]
                                                ],
                                                "type": "heatmap"
                                            }
                                        ],
                                        "heatmapgl": [
                                            {
                                                "colorbar": {
                                                    "outlinewidth": 0,
                                                    "ticks": ""
                                                },
                                                "colorscale": [
                                                    [
                                                        0,
                                                        "#0d0887"
                                                    ],
                                                    [
                                                        0.1111111111111111,
                                                        "#46039f"
                                                    ],
                                                    [
                                                        0.2222222222222222,
                                                        "#7201a8"
                                                    ],
                                                    [
                                                        0.3333333333333333,
                                                        "#9c179e"
                                                    ],
                                                    [
                                                        0.4444444444444444,
                                                        "#bd3786"
                                                    ],
                                                    [
                                                        0.5555555555555556,
                                                        "#d8576b"
                                                    ],
                                                    [
                                                        0.6666666666666666,
                                                        "#ed7953"
                                                    ],
                                                    [
                                                        0.7777777777777778,
                                                        "#fb9f3a"
                                                    ],
                                                    [
                                                        0.8888888888888888,
                                                        "#fdca26"
                                                    ],
                                                    [
                                                        1,
                                                        "#f0f921"
                                                    ]
                                                ],
                                                "type": "heatmapgl"
                                            }
                                        ],
                                        "histogram": [
                                            {
                                                "marker": {
                                                    "pattern": {
                                                        "fillmode": "overlay",
                                                        "size": 10,
                                                        "solidity": 0.2
                                                    }
                                                },
                                                "type": "histogram"
                                            }
                                        ],
                                        "histogram2d": [
                                            {
                                                "colorbar": {
                                                    "outlinewidth": 0,
                                                    "ticks": ""
                                                },
                                                "colorscale": [
                                                    [
                                                        0,
                                                        "#0d0887"
                                                    ],
                                                    [
                                                        0.1111111111111111,
                                                        "#46039f"
                                                    ],
                                                    [
                                                        0.2222222222222222,
                                                        "#7201a8"
                                                    ],
                                                    [
                                                        0.3333333333333333,
                                                        "#9c179e"
                                                    ],
                                                    [
                                                        0.4444444444444444,
                                                        "#bd3786"
                                                    ],
                                                    [
                                                        0.5555555555555556,
                                                        "#d8576b"
                                                    ],
                                                    [
                                                        0.6666666666666666,
                                                        "#ed7953"
                                                    ],
                                                    [
                                                        0.7777777777777778,
                                                        "#fb9f3a"
                                                    ],
                                                    [
                                                        0.8888888888888888,
                                                        "#fdca26"
                                                    ],
                                                    [
                                                        1,
                                                        "#f0f921"
                                                    ]
                                                ],
                                                "type": "histogram2d"
                                            }
                                        ],
                                        "histogram2dcontour": [
                                            {
                                                "colorbar": {
                                                    "outlinewidth": 0,
                                                    "ticks": ""
                                                },
                                                "colorscale": [
                                                    [
                                                        0,
                                                        "#0d0887"
                                                    ],
                                                    [
                                                        0.1111111111111111,
                                                        "#46039f"
                                                    ],
                                                    [
                                                        0.2222222222222222,
                                                        "#7201a8"
                                                    ],
                                                    [
                                                        0.3333333333333333,
                                                        "#9c179e"
                                                    ],
                                                    [
                                                        0.4444444444444444,
                                                        "#bd3786"
                                                    ],
                                                    [
                                                        0.5555555555555556,
                                                        "#d8576b"
                                                    ],
                                                    [
                                                        0.6666666666666666,
                                                        "#ed7953"
                                                    ],
                                                    [
                                                        0.7777777777777778,
                                                        "#fb9f3a"
                                                    ],
                                                    [
                                                        0.8888888888888888,
                                                        "#fdca26"
                                                    ],
                                                    [
                                                        1,
                                                        "#f0f921"
                                                    ]
                                                ],
                                                "type": "histogram2dcontour"
                                            }
                                        ],
                                        "mesh3d": [
                                            {
                                                "colorbar": {
                                                    "outlinewidth": 0,
                                                    "ticks": ""
                                                },
                                                "type": "mesh3d"
                                            }
                                        ],
                                        "parcoords": [
                                            {
                                                "line": {
                                                    "colorbar": {
                                                        "outlinewidth": 0,
                                                        "ticks": ""
                                                    }
                                                },
                                                "type": "parcoords"
                                            }
                                        ],
                                        "pie": [
                                            {
                                                "automargin": true,
                                                "type": "pie"
                                            }
                                        ],
                                        "scatter": [
                                            {
                                                "fillpattern": {
                                                    "fillmode": "overlay",
                                                    "size": 10,
                                                    "solidity": 0.2
                                                },
                                                "type": "scatter"
                                            }
                                        ],
                                        "scatter3d": [
                                            {
                                                "line": {
                                                    "colorbar": {
                                                        "outlinewidth": 0,
                                                        "ticks": ""
                                                    }
                                                },
                                                "marker": {
                                                    "colorbar": {
                                                        "outlinewidth": 0,
                                                        "ticks": ""
                                                    }
                                                },
                                                "type": "scatter3d"
                                            }
                                        ],
                                        "scattercarpet": [
                                            {
                                                "marker": {
                                                    "colorbar": {
                                                        "outlinewidth": 0,
                                                        "ticks": ""
                                                    }
                                                },
                                                "type": "scattercarpet"
                                            }
                                        ],
                                        "scattergeo": [
                                            {
                                                "marker": {
                                                    "colorbar": {
                                                        "outlinewidth": 0,
                                                        "ticks": ""
                                                    }
                                                },
                                                "type": "scattergeo"
                                            }
                                        ],
                                        "scattergl": [
                                            {
                                                "marker": {
                                                    "colorbar": {
                                                        "outlinewidth": 0,
                                                        "ticks": ""
                                                    }
                                                },
                                                "type": "scattergl"
                                            }
                                        ],
                                        "scattermapbox": [
                                            {
                                                "marker": {
                                                    "colorbar": {
                                                        "outlinewidth": 0,
                                                        "ticks": ""
                                                    }
                                                },
                                                "type": "scattermapbox"
                                            }
                                        ],
                                        "scatterpolar": [
                                            {
                                                "marker": {
                                                    "colorbar": {
                                                        "outlinewidth": 0,
                                                        "ticks": ""
                                                    }
                                                },
                                                "type": "scatterpolar"
                                            }
                                        ],
                                        "scatterpolargl": [
                                            {
                                                "marker": {
                                                    "colorbar": {
                                                        "outlinewidth": 0,
                                                        "ticks": ""
                                                    }
                                                },
                                                "type": "scatterpolargl"
                                            }
                                        ],
                                        "scatterternary": [
                                            {
                                                "marker": {
                                                    "colorbar": {
                                                        "outlinewidth": 0,
                                                        "ticks": ""
                                                    }
                                                },
                                                "type": "scatterternary"
                                            }
                                        ],
                                        "surface": [
                                            {
                                                "colorbar": {
                                                    "outlinewidth": 0,
                                                    "ticks": ""
                                                },
                                                "colorscale": [
                                                    [
                                                        0,
                                                        "#0d0887"
                                                    ],
                                                    [
                                                        0.1111111111111111,
                                                        "#46039f"
                                                    ],
                                                    [
                                                        0.2222222222222222,
                                                        "#7201a8"
                                                    ],
                                                    [
                                                        0.3333333333333333,
                                                        "#9c179e"
                                                    ],
                                                    [
                                                        0.4444444444444444,
                                                        "#bd3786"
                                                    ],
                                                    [
                                                        0.5555555555555556,
                                                        "#d8576b"
                                                    ],
                                                    [
                                                        0.6666666666666666,
                                                        "#ed7953"
                                                    ],
                                                    [
                                                        0.7777777777777778,
                                                        "#fb9f3a"
                                                    ],
                                                    [
                                                        0.8888888888888888,
                                                        "#fdca26"
                                                    ],
                                                    [
                                                        1,
                                                        "#f0f921"
                                                    ]
                                                ],
                                                "type": "surface"
                                            }
                                        ],
                                        "table": [
                                            {
                                                "cells": {
                                                    "fill": {
                                                        "color": "#EBF0F8"
                                                    },
                                                    "line": {
                                                        "color": "white"
                                                    }
                                                },
                                                "header": {
                                                    "fill": {
                                                        "color": "#C8D4E3"
                                                    },
                                                    "line": {
                                                        "color": "white"
                                                    }
                                                },
                                                "type": "table"
                                            }
                                        ]
                                    },
                                    "layout": {
                                        "annotationdefaults": {
                                            "arrowcolor": "#2a3f5f",
                                            "arrowhead": 0,
                                            "arrowwidth": 1
                                        },
                                        "autotypenumbers": "strict",
                                        "coloraxis": {
                                            "colorbar": {
                                                "outlinewidth": 0,
                                                "ticks": ""
                                            }
                                        },
                                        "colorscale": {
                                            "diverging": [
                                                [
                                                    0,
                                                    "#8e0152"
                                                ],
                                                [
                                                    0.1,
                                                    "#c51b7d"
                                                ],
                                                [
                                                    0.2,
                                                    "#de77ae"
                                                ],
                                                [
                                                    0.3,
                                                    "#f1b6da"
                                                ],
                                                [
                                                    0.4,
                                                    "#fde0ef"
                                                ],
                                                [
                                                    0.5,
                                                    "#f7f7f7"
                                                ],
                                                [
                                                    0.6,
                                                    "#e6f5d0"
                                                ],
                                                [
                                                    0.7,
                                                    "#b8e186"
                                                ],
                                                [
                                                    0.8,
                                                    "#7fbc41"
                                                ],
                                                [
                                                    0.9,
                                                    "#4d9221"
                                                ],
                                                [
                                                    1,
                                                    "#276419"
                                                ]
                                            ],
                                            "sequential": [
                                                [
                                                    0,
                                                    "#0d0887"
                                                ],
                                                [
                                                    0.1111111111111111,
                                                    "#46039f"
                                                ],
                                                [
                                                    0.2222222222222222,
                                                    "#7201a8"
                                                ],
                                                [
                                                    0.3333333333333333,
                                                    "#9c179e"
                                                ],
                                                [
                                                    0.4444444444444444,
                                                    "#bd3786"
                                                ],
                                                [
                                                    0.5555555555555556,
                                                    "#d8576b"
                                                ],
                                                [
                                                    0.6666666666666666,
                                                    "#ed7953"
                                                ],
                                                [
                                                    0.7777777777777778,
                                                    "#fb9f3a"
                                                ],
                                                [
                                                    0.8888888888888888,
                                                    "#fdca26"
                                                ],
                                                [
                                                    1,
                                                    "#f0f921"
                                                ]
                                            ],
                                            "sequentialminus": [
                                                [
                                                    0,
                                                    "#0d0887"
                                                ],
                                                [
                                                    0.1111111111111111,
                                                    "#46039f"
                                                ],
                                                [
                                                    0.2222222222222222,
                                                    "#7201a8"
                                                ],
                                                [
                                                    0.3333333333333333,
                                                    "#9c179e"
                                                ],
                                                [
                                                    0.4444444444444444,
                                                    "#bd3786"
                                                ],
                                                [
                                                    0.5555555555555556,
                                                    "#d8576b"
                                                ],
                                                [
                                                    0.6666666666666666,
                                                    "#ed7953"
                                                ],
                                                [
                                                    0.7777777777777778,
                                                    "#fb9f3a"
                                                ],
                                                [
                                                    0.8888888888888888,
                                                    "#fdca26"
                                                ],
                                                [
                                                    1,
                                                    "#f0f921"
                                                ]
                                            ]
                                        },
                                        "colorway": [
                                            "#636efa",
                                            "#EF553B",
                                            "#00cc96",
                                            "#ab63fa",
                                            "#FFA15A",
                                            "#19d3f3",
                                            "#FF6692",
                                            "#B6E880",
                                            "#FF97FF",
                                            "#FECB52"
                                        ],
                                        "font": {
                                            "color": "#2a3f5f"
                                        },
                                        "geo": {
                                            "bgcolor": "white",
                                            "lakecolor": "white",
                                            "landcolor": "#E5ECF6",
                                            "showlakes": true,
                                            "showland": true,
                                            "subunitcolor": "white"
                                        },
                                        "hoverlabel": {
                                            "align": "left"
                                        },
                                        "hovermode": "closest",
                                        "mapbox": {
                                            "style": "light"
                                        },
                                        "paper_bgcolor": "white",
                                        "plot_bgcolor": "#E5ECF6",
                                        "polar": {
                                            "angularaxis": {
                                                "gridcolor": "white",
                                                "linecolor": "white",
                                                "ticks": ""
                                            },
                                            "bgcolor": "#E5ECF6",
                                            "radialaxis": {
                                                "gridcolor": "white",
                                                "linecolor": "white",
                                                "ticks": ""
                                            }
                                        },
                                        "scene": {
                                            "xaxis": {
                                                "backgroundcolor": "#E5ECF6",
                                                "gridcolor": "white",
                                                "gridwidth": 2,
                                                "linecolor": "white",
                                                "showbackground": true,
                                                "ticks": "",
                                                "zerolinecolor": "white"
                                            },
                                            "yaxis": {
                                                "backgroundcolor": "#E5ECF6",
                                                "gridcolor": "white",
                                                "gridwidth": 2,
                                                "linecolor": "white",
                                                "showbackground": true,
                                                "ticks": "",
                                                "zerolinecolor": "white"
                                            },
                                            "zaxis": {
                                                "backgroundcolor": "#E5ECF6",
                                                "gridcolor": "white",
                                                "gridwidth": 2,
                                                "linecolor": "white",
                                                "showbackground": true,
                                                "ticks": "",
                                                "zerolinecolor": "white"
                                            }
                                        },
                                        "shapedefaults": {
                                            "line": {
                                                "color": "#2a3f5f"
                                            }
                                        },
                                        "ternary": {
                                            "aaxis": {
                                                "gridcolor": "white",
                                                "linecolor": "white",
                                                "ticks": ""
                                            },
                                            "baxis": {
                                                "gridcolor": "white",
                                                "linecolor": "white",
                                                "ticks": ""
                                            },
                                            "bgcolor": "#E5ECF6",
                                            "caxis": {
                                                "gridcolor": "white",
                                                "linecolor": "white",
                                                "ticks": ""
                                            }
                                        },
                                        "title": {
                                            "x": 0.05
                                        },
                                        "xaxis": {
                                            "automargin": true,
                                            "gridcolor": "white",
                                            "linecolor": "white",
                                            "ticks": "",
                                            "title": {
                                                "standoff": 15
                                            },
                                            "zerolinecolor": "white",
                                            "zerolinewidth": 2
                                        },
                                        "yaxis": {
                                            "automargin": true,
                                            "gridcolor": "white",
                                            "linecolor": "white",
                                            "ticks": "",
                                            "title": {
                                                "standoff": 15
                                            },
                                            "zerolinecolor": "white",
                                            "zerolinewidth": 2
                                        }
                                    }
                                },
                                "title": {
                                    "text": "Log probability of S given D for different shape parameters<br>(18 IDs)"
                                },
                                "width": 450,
                                "xaxis": {
                                    "anchor": "y",
                                    "domain": [
                                        0,
                                        1
                                    ],
                                    "title": {
                                        "text": "Laplace width"
                                    },
                                    "type": "category"
                                },
                                "yaxis": {
                                    "anchor": "x",
                                    "domain": [
                                        0,
                                        1
                                    ],
                                    "showticklabels": false,
                                    "title": {
                                        "text": ""
                                    },
                                    "type": "category"
                                }
                            }
                        }
                    },
                    "metadata": {},
                    "output_type": "display_data"
                }
            ],
            "source": [
                "params = [\n",
                "    (0.001, 0.1, 1),\n",
                "    (0.005, 0.1, 1),\n",
                "    (0.01, 0.1, 1),\n",
                "    (0.05, 0.1, 1),\n",
                "    (0.1, 0.1, 1),\n",
                "    (0.5, 0.1, 1),\n",
                "    (1, 0.1, 1),\n",
                "    (1.5, 0.1, 1),\n",
                "    (2, 0.1, 1),\n",
                "]\n",
                "labels = [\"main width\", \"tail width\", \"main weight\"]\n",
                "df_heatmap, data = load_and_process_json(\"9_18IDs_30d\", params, labels)\n",
                "IDs = list(data.keys())\n",
                "\n",
                "fig = make_subplots()\n",
                "fig = add_heatmap_for_laplace(fig, df_heatmap, 1)\n",
                "fig.update_layout(\n",
                "    title=f\"Log probability of S given D for different shape parameters<br>({len(IDs)} IDs)\",\n",
                "    # yaxis_type='log',\n",
                "    width=450,\n",
                "    height=200,\n",
                "    font_size=10,\n",
                ")\n",
                "fig.show()"
            ]
        },
        {
            "cell_type": "code",
            "execution_count": 31,
            "metadata": {},
            "outputs": [
                {
                    "data": {
                        "application/vnd.plotly.v1+json": {
                            "config": {
                                "plotlyServerURL": "https://plot.ly"
                            },
                            "data": [
                                {
                                    "colorbar": {
                                        "len": 4,
                                        "y": 0.5,
                                        "yanchor": "middle"
                                    },
                                    "type": "heatmap",
                                    "x": [
                                        0.1,
                                        0.5,
                                        1,
                                        1.5,
                                        2,
                                        4,
                                        6,
                                        8,
                                        10,
                                        15
                                    ],
                                    "xaxis": "x",
                                    "y": [
                                        0.1,
                                        0.1,
                                        0.1,
                                        0.1,
                                        0.1,
                                        0.1,
                                        0.1,
                                        0.1,
                                        0.1,
                                        0.1
                                    ],
                                    "yaxis": "y",
                                    "z": [
                                        -14907.614473390006,
                                        -14233.927396709996,
                                        -13908.040704490004,
                                        -13816.696461499998,
                                        -13823.029270079998,
                                        -14107.303121550003,
                                        -14432.290755380001,
                                        -14715.954173149994,
                                        -14957.087749379994,
                                        -15418.767483279998
                                    ]
                                }
                            ],
                            "layout": {
                                "font": {
                                    "size": 10
                                },
                                "height": 200,
                                "template": {
                                    "data": {
                                        "bar": [
                                            {
                                                "error_x": {
                                                    "color": "#2a3f5f"
                                                },
                                                "error_y": {
                                                    "color": "#2a3f5f"
                                                },
                                                "marker": {
                                                    "line": {
                                                        "color": "#E5ECF6",
                                                        "width": 0.5
                                                    },
                                                    "pattern": {
                                                        "fillmode": "overlay",
                                                        "size": 10,
                                                        "solidity": 0.2
                                                    }
                                                },
                                                "type": "bar"
                                            }
                                        ],
                                        "barpolar": [
                                            {
                                                "marker": {
                                                    "line": {
                                                        "color": "#E5ECF6",
                                                        "width": 0.5
                                                    },
                                                    "pattern": {
                                                        "fillmode": "overlay",
                                                        "size": 10,
                                                        "solidity": 0.2
                                                    }
                                                },
                                                "type": "barpolar"
                                            }
                                        ],
                                        "carpet": [
                                            {
                                                "aaxis": {
                                                    "endlinecolor": "#2a3f5f",
                                                    "gridcolor": "white",
                                                    "linecolor": "white",
                                                    "minorgridcolor": "white",
                                                    "startlinecolor": "#2a3f5f"
                                                },
                                                "baxis": {
                                                    "endlinecolor": "#2a3f5f",
                                                    "gridcolor": "white",
                                                    "linecolor": "white",
                                                    "minorgridcolor": "white",
                                                    "startlinecolor": "#2a3f5f"
                                                },
                                                "type": "carpet"
                                            }
                                        ],
                                        "choropleth": [
                                            {
                                                "colorbar": {
                                                    "outlinewidth": 0,
                                                    "ticks": ""
                                                },
                                                "type": "choropleth"
                                            }
                                        ],
                                        "contour": [
                                            {
                                                "colorbar": {
                                                    "outlinewidth": 0,
                                                    "ticks": ""
                                                },
                                                "colorscale": [
                                                    [
                                                        0,
                                                        "#0d0887"
                                                    ],
                                                    [
                                                        0.1111111111111111,
                                                        "#46039f"
                                                    ],
                                                    [
                                                        0.2222222222222222,
                                                        "#7201a8"
                                                    ],
                                                    [
                                                        0.3333333333333333,
                                                        "#9c179e"
                                                    ],
                                                    [
                                                        0.4444444444444444,
                                                        "#bd3786"
                                                    ],
                                                    [
                                                        0.5555555555555556,
                                                        "#d8576b"
                                                    ],
                                                    [
                                                        0.6666666666666666,
                                                        "#ed7953"
                                                    ],
                                                    [
                                                        0.7777777777777778,
                                                        "#fb9f3a"
                                                    ],
                                                    [
                                                        0.8888888888888888,
                                                        "#fdca26"
                                                    ],
                                                    [
                                                        1,
                                                        "#f0f921"
                                                    ]
                                                ],
                                                "type": "contour"
                                            }
                                        ],
                                        "contourcarpet": [
                                            {
                                                "colorbar": {
                                                    "outlinewidth": 0,
                                                    "ticks": ""
                                                },
                                                "type": "contourcarpet"
                                            }
                                        ],
                                        "heatmap": [
                                            {
                                                "colorbar": {
                                                    "outlinewidth": 0,
                                                    "ticks": ""
                                                },
                                                "colorscale": [
                                                    [
                                                        0,
                                                        "#0d0887"
                                                    ],
                                                    [
                                                        0.1111111111111111,
                                                        "#46039f"
                                                    ],
                                                    [
                                                        0.2222222222222222,
                                                        "#7201a8"
                                                    ],
                                                    [
                                                        0.3333333333333333,
                                                        "#9c179e"
                                                    ],
                                                    [
                                                        0.4444444444444444,
                                                        "#bd3786"
                                                    ],
                                                    [
                                                        0.5555555555555556,
                                                        "#d8576b"
                                                    ],
                                                    [
                                                        0.6666666666666666,
                                                        "#ed7953"
                                                    ],
                                                    [
                                                        0.7777777777777778,
                                                        "#fb9f3a"
                                                    ],
                                                    [
                                                        0.8888888888888888,
                                                        "#fdca26"
                                                    ],
                                                    [
                                                        1,
                                                        "#f0f921"
                                                    ]
                                                ],
                                                "type": "heatmap"
                                            }
                                        ],
                                        "heatmapgl": [
                                            {
                                                "colorbar": {
                                                    "outlinewidth": 0,
                                                    "ticks": ""
                                                },
                                                "colorscale": [
                                                    [
                                                        0,
                                                        "#0d0887"
                                                    ],
                                                    [
                                                        0.1111111111111111,
                                                        "#46039f"
                                                    ],
                                                    [
                                                        0.2222222222222222,
                                                        "#7201a8"
                                                    ],
                                                    [
                                                        0.3333333333333333,
                                                        "#9c179e"
                                                    ],
                                                    [
                                                        0.4444444444444444,
                                                        "#bd3786"
                                                    ],
                                                    [
                                                        0.5555555555555556,
                                                        "#d8576b"
                                                    ],
                                                    [
                                                        0.6666666666666666,
                                                        "#ed7953"
                                                    ],
                                                    [
                                                        0.7777777777777778,
                                                        "#fb9f3a"
                                                    ],
                                                    [
                                                        0.8888888888888888,
                                                        "#fdca26"
                                                    ],
                                                    [
                                                        1,
                                                        "#f0f921"
                                                    ]
                                                ],
                                                "type": "heatmapgl"
                                            }
                                        ],
                                        "histogram": [
                                            {
                                                "marker": {
                                                    "pattern": {
                                                        "fillmode": "overlay",
                                                        "size": 10,
                                                        "solidity": 0.2
                                                    }
                                                },
                                                "type": "histogram"
                                            }
                                        ],
                                        "histogram2d": [
                                            {
                                                "colorbar": {
                                                    "outlinewidth": 0,
                                                    "ticks": ""
                                                },
                                                "colorscale": [
                                                    [
                                                        0,
                                                        "#0d0887"
                                                    ],
                                                    [
                                                        0.1111111111111111,
                                                        "#46039f"
                                                    ],
                                                    [
                                                        0.2222222222222222,
                                                        "#7201a8"
                                                    ],
                                                    [
                                                        0.3333333333333333,
                                                        "#9c179e"
                                                    ],
                                                    [
                                                        0.4444444444444444,
                                                        "#bd3786"
                                                    ],
                                                    [
                                                        0.5555555555555556,
                                                        "#d8576b"
                                                    ],
                                                    [
                                                        0.6666666666666666,
                                                        "#ed7953"
                                                    ],
                                                    [
                                                        0.7777777777777778,
                                                        "#fb9f3a"
                                                    ],
                                                    [
                                                        0.8888888888888888,
                                                        "#fdca26"
                                                    ],
                                                    [
                                                        1,
                                                        "#f0f921"
                                                    ]
                                                ],
                                                "type": "histogram2d"
                                            }
                                        ],
                                        "histogram2dcontour": [
                                            {
                                                "colorbar": {
                                                    "outlinewidth": 0,
                                                    "ticks": ""
                                                },
                                                "colorscale": [
                                                    [
                                                        0,
                                                        "#0d0887"
                                                    ],
                                                    [
                                                        0.1111111111111111,
                                                        "#46039f"
                                                    ],
                                                    [
                                                        0.2222222222222222,
                                                        "#7201a8"
                                                    ],
                                                    [
                                                        0.3333333333333333,
                                                        "#9c179e"
                                                    ],
                                                    [
                                                        0.4444444444444444,
                                                        "#bd3786"
                                                    ],
                                                    [
                                                        0.5555555555555556,
                                                        "#d8576b"
                                                    ],
                                                    [
                                                        0.6666666666666666,
                                                        "#ed7953"
                                                    ],
                                                    [
                                                        0.7777777777777778,
                                                        "#fb9f3a"
                                                    ],
                                                    [
                                                        0.8888888888888888,
                                                        "#fdca26"
                                                    ],
                                                    [
                                                        1,
                                                        "#f0f921"
                                                    ]
                                                ],
                                                "type": "histogram2dcontour"
                                            }
                                        ],
                                        "mesh3d": [
                                            {
                                                "colorbar": {
                                                    "outlinewidth": 0,
                                                    "ticks": ""
                                                },
                                                "type": "mesh3d"
                                            }
                                        ],
                                        "parcoords": [
                                            {
                                                "line": {
                                                    "colorbar": {
                                                        "outlinewidth": 0,
                                                        "ticks": ""
                                                    }
                                                },
                                                "type": "parcoords"
                                            }
                                        ],
                                        "pie": [
                                            {
                                                "automargin": true,
                                                "type": "pie"
                                            }
                                        ],
                                        "scatter": [
                                            {
                                                "fillpattern": {
                                                    "fillmode": "overlay",
                                                    "size": 10,
                                                    "solidity": 0.2
                                                },
                                                "type": "scatter"
                                            }
                                        ],
                                        "scatter3d": [
                                            {
                                                "line": {
                                                    "colorbar": {
                                                        "outlinewidth": 0,
                                                        "ticks": ""
                                                    }
                                                },
                                                "marker": {
                                                    "colorbar": {
                                                        "outlinewidth": 0,
                                                        "ticks": ""
                                                    }
                                                },
                                                "type": "scatter3d"
                                            }
                                        ],
                                        "scattercarpet": [
                                            {
                                                "marker": {
                                                    "colorbar": {
                                                        "outlinewidth": 0,
                                                        "ticks": ""
                                                    }
                                                },
                                                "type": "scattercarpet"
                                            }
                                        ],
                                        "scattergeo": [
                                            {
                                                "marker": {
                                                    "colorbar": {
                                                        "outlinewidth": 0,
                                                        "ticks": ""
                                                    }
                                                },
                                                "type": "scattergeo"
                                            }
                                        ],
                                        "scattergl": [
                                            {
                                                "marker": {
                                                    "colorbar": {
                                                        "outlinewidth": 0,
                                                        "ticks": ""
                                                    }
                                                },
                                                "type": "scattergl"
                                            }
                                        ],
                                        "scattermapbox": [
                                            {
                                                "marker": {
                                                    "colorbar": {
                                                        "outlinewidth": 0,
                                                        "ticks": ""
                                                    }
                                                },
                                                "type": "scattermapbox"
                                            }
                                        ],
                                        "scatterpolar": [
                                            {
                                                "marker": {
                                                    "colorbar": {
                                                        "outlinewidth": 0,
                                                        "ticks": ""
                                                    }
                                                },
                                                "type": "scatterpolar"
                                            }
                                        ],
                                        "scatterpolargl": [
                                            {
                                                "marker": {
                                                    "colorbar": {
                                                        "outlinewidth": 0,
                                                        "ticks": ""
                                                    }
                                                },
                                                "type": "scatterpolargl"
                                            }
                                        ],
                                        "scatterternary": [
                                            {
                                                "marker": {
                                                    "colorbar": {
                                                        "outlinewidth": 0,
                                                        "ticks": ""
                                                    }
                                                },
                                                "type": "scatterternary"
                                            }
                                        ],
                                        "surface": [
                                            {
                                                "colorbar": {
                                                    "outlinewidth": 0,
                                                    "ticks": ""
                                                },
                                                "colorscale": [
                                                    [
                                                        0,
                                                        "#0d0887"
                                                    ],
                                                    [
                                                        0.1111111111111111,
                                                        "#46039f"
                                                    ],
                                                    [
                                                        0.2222222222222222,
                                                        "#7201a8"
                                                    ],
                                                    [
                                                        0.3333333333333333,
                                                        "#9c179e"
                                                    ],
                                                    [
                                                        0.4444444444444444,
                                                        "#bd3786"
                                                    ],
                                                    [
                                                        0.5555555555555556,
                                                        "#d8576b"
                                                    ],
                                                    [
                                                        0.6666666666666666,
                                                        "#ed7953"
                                                    ],
                                                    [
                                                        0.7777777777777778,
                                                        "#fb9f3a"
                                                    ],
                                                    [
                                                        0.8888888888888888,
                                                        "#fdca26"
                                                    ],
                                                    [
                                                        1,
                                                        "#f0f921"
                                                    ]
                                                ],
                                                "type": "surface"
                                            }
                                        ],
                                        "table": [
                                            {
                                                "cells": {
                                                    "fill": {
                                                        "color": "#EBF0F8"
                                                    },
                                                    "line": {
                                                        "color": "white"
                                                    }
                                                },
                                                "header": {
                                                    "fill": {
                                                        "color": "#C8D4E3"
                                                    },
                                                    "line": {
                                                        "color": "white"
                                                    }
                                                },
                                                "type": "table"
                                            }
                                        ]
                                    },
                                    "layout": {
                                        "annotationdefaults": {
                                            "arrowcolor": "#2a3f5f",
                                            "arrowhead": 0,
                                            "arrowwidth": 1
                                        },
                                        "autotypenumbers": "strict",
                                        "coloraxis": {
                                            "colorbar": {
                                                "outlinewidth": 0,
                                                "ticks": ""
                                            }
                                        },
                                        "colorscale": {
                                            "diverging": [
                                                [
                                                    0,
                                                    "#8e0152"
                                                ],
                                                [
                                                    0.1,
                                                    "#c51b7d"
                                                ],
                                                [
                                                    0.2,
                                                    "#de77ae"
                                                ],
                                                [
                                                    0.3,
                                                    "#f1b6da"
                                                ],
                                                [
                                                    0.4,
                                                    "#fde0ef"
                                                ],
                                                [
                                                    0.5,
                                                    "#f7f7f7"
                                                ],
                                                [
                                                    0.6,
                                                    "#e6f5d0"
                                                ],
                                                [
                                                    0.7,
                                                    "#b8e186"
                                                ],
                                                [
                                                    0.8,
                                                    "#7fbc41"
                                                ],
                                                [
                                                    0.9,
                                                    "#4d9221"
                                                ],
                                                [
                                                    1,
                                                    "#276419"
                                                ]
                                            ],
                                            "sequential": [
                                                [
                                                    0,
                                                    "#0d0887"
                                                ],
                                                [
                                                    0.1111111111111111,
                                                    "#46039f"
                                                ],
                                                [
                                                    0.2222222222222222,
                                                    "#7201a8"
                                                ],
                                                [
                                                    0.3333333333333333,
                                                    "#9c179e"
                                                ],
                                                [
                                                    0.4444444444444444,
                                                    "#bd3786"
                                                ],
                                                [
                                                    0.5555555555555556,
                                                    "#d8576b"
                                                ],
                                                [
                                                    0.6666666666666666,
                                                    "#ed7953"
                                                ],
                                                [
                                                    0.7777777777777778,
                                                    "#fb9f3a"
                                                ],
                                                [
                                                    0.8888888888888888,
                                                    "#fdca26"
                                                ],
                                                [
                                                    1,
                                                    "#f0f921"
                                                ]
                                            ],
                                            "sequentialminus": [
                                                [
                                                    0,
                                                    "#0d0887"
                                                ],
                                                [
                                                    0.1111111111111111,
                                                    "#46039f"
                                                ],
                                                [
                                                    0.2222222222222222,
                                                    "#7201a8"
                                                ],
                                                [
                                                    0.3333333333333333,
                                                    "#9c179e"
                                                ],
                                                [
                                                    0.4444444444444444,
                                                    "#bd3786"
                                                ],
                                                [
                                                    0.5555555555555556,
                                                    "#d8576b"
                                                ],
                                                [
                                                    0.6666666666666666,
                                                    "#ed7953"
                                                ],
                                                [
                                                    0.7777777777777778,
                                                    "#fb9f3a"
                                                ],
                                                [
                                                    0.8888888888888888,
                                                    "#fdca26"
                                                ],
                                                [
                                                    1,
                                                    "#f0f921"
                                                ]
                                            ]
                                        },
                                        "colorway": [
                                            "#636efa",
                                            "#EF553B",
                                            "#00cc96",
                                            "#ab63fa",
                                            "#FFA15A",
                                            "#19d3f3",
                                            "#FF6692",
                                            "#B6E880",
                                            "#FF97FF",
                                            "#FECB52"
                                        ],
                                        "font": {
                                            "color": "#2a3f5f"
                                        },
                                        "geo": {
                                            "bgcolor": "white",
                                            "lakecolor": "white",
                                            "landcolor": "#E5ECF6",
                                            "showlakes": true,
                                            "showland": true,
                                            "subunitcolor": "white"
                                        },
                                        "hoverlabel": {
                                            "align": "left"
                                        },
                                        "hovermode": "closest",
                                        "mapbox": {
                                            "style": "light"
                                        },
                                        "paper_bgcolor": "white",
                                        "plot_bgcolor": "#E5ECF6",
                                        "polar": {
                                            "angularaxis": {
                                                "gridcolor": "white",
                                                "linecolor": "white",
                                                "ticks": ""
                                            },
                                            "bgcolor": "#E5ECF6",
                                            "radialaxis": {
                                                "gridcolor": "white",
                                                "linecolor": "white",
                                                "ticks": ""
                                            }
                                        },
                                        "scene": {
                                            "xaxis": {
                                                "backgroundcolor": "#E5ECF6",
                                                "gridcolor": "white",
                                                "gridwidth": 2,
                                                "linecolor": "white",
                                                "showbackground": true,
                                                "ticks": "",
                                                "zerolinecolor": "white"
                                            },
                                            "yaxis": {
                                                "backgroundcolor": "#E5ECF6",
                                                "gridcolor": "white",
                                                "gridwidth": 2,
                                                "linecolor": "white",
                                                "showbackground": true,
                                                "ticks": "",
                                                "zerolinecolor": "white"
                                            },
                                            "zaxis": {
                                                "backgroundcolor": "#E5ECF6",
                                                "gridcolor": "white",
                                                "gridwidth": 2,
                                                "linecolor": "white",
                                                "showbackground": true,
                                                "ticks": "",
                                                "zerolinecolor": "white"
                                            }
                                        },
                                        "shapedefaults": {
                                            "line": {
                                                "color": "#2a3f5f"
                                            }
                                        },
                                        "ternary": {
                                            "aaxis": {
                                                "gridcolor": "white",
                                                "linecolor": "white",
                                                "ticks": ""
                                            },
                                            "baxis": {
                                                "gridcolor": "white",
                                                "linecolor": "white",
                                                "ticks": ""
                                            },
                                            "bgcolor": "#E5ECF6",
                                            "caxis": {
                                                "gridcolor": "white",
                                                "linecolor": "white",
                                                "ticks": ""
                                            }
                                        },
                                        "title": {
                                            "x": 0.05
                                        },
                                        "xaxis": {
                                            "automargin": true,
                                            "gridcolor": "white",
                                            "linecolor": "white",
                                            "ticks": "",
                                            "title": {
                                                "standoff": 15
                                            },
                                            "zerolinecolor": "white",
                                            "zerolinewidth": 2
                                        },
                                        "yaxis": {
                                            "automargin": true,
                                            "gridcolor": "white",
                                            "linecolor": "white",
                                            "ticks": "",
                                            "title": {
                                                "standoff": 15
                                            },
                                            "zerolinecolor": "white",
                                            "zerolinewidth": 2
                                        }
                                    }
                                },
                                "title": {
                                    "text": "Log probability of S given D for different shape parameters<br>(352 IDs)"
                                },
                                "width": 450,
                                "xaxis": {
                                    "anchor": "y",
                                    "domain": [
                                        0,
                                        1
                                    ],
                                    "title": {
                                        "text": "Laplace width"
                                    },
                                    "type": "category"
                                },
                                "yaxis": {
                                    "anchor": "x",
                                    "domain": [
                                        0,
                                        1
                                    ],
                                    "showticklabels": false,
                                    "title": {
                                        "text": ""
                                    },
                                    "type": "category"
                                }
                            }
                        }
                    },
                    "metadata": {},
                    "output_type": "display_data"
                }
            ],
            "source": [
                "params = [\n",
                "    (0.1, 0.1, 1),\n",
                "    (0.5, 0.1, 1),\n",
                "    (1, 0.1, 1),\n",
                "    (1.5, 0.1, 1),\n",
                "    (2, 0.1, 1),\n",
                "    (4, 0.1, 1),\n",
                "    (6, 0.1, 1),\n",
                "    (8, 0.1, 1),\n",
                "    (10, 0.1, 1),\n",
                "    (15, 0.1, 1),\n",
                "]\n",
                "\n",
                "labels = [\"main width\", \"tail width\", \"main weight\"]\n",
                "# df_heatmap, data = load_and_process_json(\"10_18IDs_30d\", params, labels)\n",
                "df_heatmap, data = load_and_process_json(\"10_allIDs_10d\", params, labels)\n",
                "IDs = list(data.keys())\n",
                "\n",
                "fig = make_subplots()\n",
                "fig = add_heatmap_for_laplace(fig, df_heatmap, 1)\n",
                "fig.update_layout(\n",
                "    title=f\"Log probability of S given D for different shape parameters<br>({len(IDs)} IDs)\",\n",
                "    # yaxis_type='log',\n",
                "    width=450,\n",
                "    height=200,\n",
                "    font_size=10,\n",
                ")\n",
                "fig.show()"
            ]
        },
        {
            "cell_type": "markdown",
            "metadata": {},
            "source": [
                "## Process results (archive)"
            ]
        },
        {
            "cell_type": "code",
            "execution_count": null,
            "metadata": {},
            "outputs": [],
            "source": [
                "# Element wise addition of the values in data\n",
                "params = [\n",
                "    (2, 15, 0.3),\n",
                "    (2, 15, 0.5),\n",
                "    (2, 15, 0.7),\n",
                "    (2, 30, 0.3),\n",
                "    (2, 30, 0.5),\n",
                "    (2, 30, 0.7),\n",
                "    (2, 50, 0.3),\n",
                "    (2, 50, 0.5),\n",
                "    (2, 50, 0.7),\n",
                "    (5, 15, 0.3),\n",
                "    (5, 15, 0.5),\n",
                "    (5, 15, 0.7),\n",
                "    (5, 30, 0.3),\n",
                "    (5, 30, 0.5),\n",
                "    (5, 30, 0.7),\n",
                "    (5, 50, 0.3),\n",
                "    (5, 50, 0.5),\n",
                "    (5, 50, 0.7),\n",
                "    (8, 15, 0.3),\n",
                "    (8, 15, 0.5),\n",
                "    (8, 15, 0.7),\n",
                "    (8, 30, 0.3),\n",
                "    (8, 30, 0.5),\n",
                "    (8, 30, 0.7),\n",
                "    (8, 50, 0.3),\n",
                "    (8, 50, 0.5),\n",
                "    (8, 50, 0.7),\n",
                "]\n",
                "labels = [\"main width\", \"tail width\", \"main weight\"]\n",
                "\n",
                "df_heatmap, IDs = load_and_process_json(27, params, labels)\n",
                "df_heatmap"
            ]
        },
        {
            "cell_type": "code",
            "execution_count": null,
            "metadata": {},
            "outputs": [],
            "source": [
                "# Plot heatmap with main width on x axis, tail width on y axis and log_p_S_given_D as the color, just use the first 3 main weights\n",
                "\n",
                "fig = make_subplots(1, 3)\n",
                "\n",
                "\n",
                "def add_heatmap_for_weight(df, weight, col):\n",
                "    df = df[df[\"main weight\"] == weight]\n",
                "    fig.add_trace(\n",
                "        go.Heatmap(z=df[\"log_p_S_given_D\"], x=df[\"main width\"], y=df[\"tail width\"]),\n",
                "        row=1,\n",
                "        col=col,\n",
                "    )\n",
                "    fig.update_xaxes(\n",
                "        type=\"category\",\n",
                "        row=1,\n",
                "        col=col,\n",
                "        title=\"Main width<br><br>Main weight=\" + str(weight),\n",
                "    )\n",
                "\n",
                "\n",
                "add_heatmap_for_weight(df_heatmap, 0.3, 1)\n",
                "add_heatmap_for_weight(df_heatmap, 0.5, 2)\n",
                "add_heatmap_for_weight(df_heatmap, 0.7, 3)\n",
                "\n",
                "fig.update_layout(\n",
                "    title=f\"Log probability of S given D for different AR change parameters ({len(IDs.keys())} IDs)\",\n",
                "    yaxis_title=\"Tail width\",\n",
                "    # yaxis_type='log',\n",
                "    width=650,\n",
                "    height=300,\n",
                "    font_size=10,\n",
                ")\n",
                "# Recude font size of the subplot titles\n",
                "for annotation in fig[\"layout\"][\"annotations\"]:\n",
                "    annotation[\"font\"] = dict(size=14)\n",
                "# use the same color scale for all subplots\n",
                "fig.update_traces(\n",
                "    zmin=min(df_heatmap.log_p_S_given_D[df_heatmap.log_p_S_given_D != -np.inf]),\n",
                "    zmax=max(df_heatmap.log_p_S_given_D),\n",
                "    colorbar=dict(title=\"log_p_S_given_D\"),\n",
                ")\n",
                "# X axis and y axis are categorical\n",
                "fig.update_yaxes(type=\"category\")\n",
                "\n",
                "fig.show()"
            ]
        },
        {
            "cell_type": "code",
            "execution_count": null,
            "metadata": {},
            "outputs": [],
            "source": [
                "# The weights is the most differentiating parameter, then main width. Tail width is a smaller effect, althought very important, and remains hidden\n",
                "# 0.7 weight\n",
                "# std 2 -> laplace would be better\n",
                "# tail width doesn't change. Go wider?\n",
                "\n",
                "# Since the tails is a secondary effet, let's find the rest first\n",
                "\n",
                "# 3 laplace\n",
                "# 3 gaussians"
            ]
        },
        {
            "cell_type": "code",
            "execution_count": null,
            "metadata": {},
            "outputs": [],
            "source": [
                "params = [\n",
                "    (0.5, False),\n",
                "    (0.5, True),\n",
                "    (1, False),\n",
                "    (1, True),\n",
                "    (1.5, False),\n",
                "    (1.5, True),\n",
                "    (2, False),\n",
                "    (2, True),\n",
                "    (2.5, False),\n",
                "    (2.5, True),\n",
                "]\n",
                "labels = [\"main width\", \"laplace\"]\n",
                "\n",
                "df_10, IDs_10 = load_and_process_json(10, params, labels)\n",
                "df_10"
            ]
        },
        {
            "cell_type": "code",
            "execution_count": null,
            "metadata": {},
            "outputs": [],
            "source": [
                "# Plot heatmap with main width on x axis, tail width on y axis and log_p_S_given_D as the color, just use the first 3 main weights\n",
                "\n",
                "tail_width = 30\n",
                "main_weight = 0.7\n",
                "\n",
                "fig = make_subplots(1, 1)\n",
                "\n",
                "fig.add_trace(\n",
                "    go.Heatmap(z=df_10[\"log_p_S_given_D\"], x=df_10[\"main width\"], y=df_10[\"laplace\"]),\n",
                "    row=1,\n",
                "    col=1,\n",
                ")\n",
                "fig.update_xaxes(\n",
                "    type=\"category\",\n",
                "    row=1,\n",
                "    col=1,\n",
                "    title=\"Main width\",\n",
                ")\n",
                "\n",
                "fig.update_layout(\n",
                "    title=f\"Log P(S|D) ({len(IDs_10)} IDs)<br>tail width={tail_width}, main weight={main_weight}\",\n",
                "    yaxis_title=\"Laplace\",\n",
                "    # yaxis_type='log',\n",
                "    width=400,\n",
                "    height=250,\n",
                "    font_size=10,\n",
                ")\n",
                "# Recude font size of the subplot titles\n",
                "for annotation in fig[\"layout\"][\"annotations\"]:\n",
                "    annotation[\"font\"] = dict(size=14)\n",
                "# use the same color scale for all subplots\n",
                "fig.update_traces(\n",
                "    zmin=min(df_10.log_p_S_given_D[df_10.log_p_S_given_D != -np.inf]),\n",
                "    zmax=max(df_10.log_p_S_given_D),\n",
                "    colorbar=dict(title=\"log_p_S_given_D\"),\n",
                ")\n",
                "# X axis and y axis are categorical\n",
                "fig.update_yaxes(type=\"category\")\n",
                "\n",
                "fig.show()"
            ]
        },
        {
            "cell_type": "code",
            "execution_count": null,
            "metadata": {},
            "outputs": [],
            "source": [
                "mean = 1\n",
                "sigma_spike = 0.5\n",
                "weight_spike = 0.7\n",
                "sigma_tails = [5, 15, 30]\n",
                "laplace_main = True\n",
                "laplace_tail = True\n",
                "\n",
                "params = [5, 15, 30]\n",
                "labels = [\"tail width\"]\n",
                "\n",
                "df_3, IDs_3 = load_and_process_json(3, params, labels)\n",
                "df_3"
            ]
        },
        {
            "cell_type": "markdown",
            "metadata": {},
            "source": [
                "## Refine weights with best matching std_m, std_t"
            ]
        },
        {
            "cell_type": "code",
            "execution_count": 170,
            "metadata": {},
            "outputs": [],
            "source": [
                "mean = 1\n",
                "sigma_spike = 0.2\n",
                "weight_spike = [\n",
                "    0.59,\n",
                "    0.61,\n",
                "    0.64,\n",
                "    0.67,\n",
                "    0.7,\n",
                "    0.73,\n",
                "    0.76,\n",
                "    0.79,\n",
                "    0.81,\n",
                "    0.84,\n",
                "    0.87,\n",
                "    0.9,\n",
                "    0.93,\n",
                "    0.96,\n",
                "    0.99,\n",
                "]\n",
                "sigma_tail = 30\n",
                "laplace_main = False\n",
                "laplace_tail = False\n",
                "params = weight_spike\n",
                "labels = [\"main weight\"]\n",
                "\n",
                "df_15, IDs_15 = load_and_process_json(\"15_weights\", params, labels)"
            ]
        },
        {
            "cell_type": "code",
            "execution_count": null,
            "metadata": {},
            "outputs": [],
            "source": [
                "df_15"
            ]
        },
        {
            "cell_type": "code",
            "execution_count": null,
            "metadata": {},
            "outputs": [],
            "source": [
                "# Plot heatmap with main width on x axis, tail width on y axis and log_p_S_given_D as the color, just use the first 3 main weights\n",
                "\n",
                "main_width = 5\n",
                "main_weight = 0.7\n",
                "\n",
                "fig = make_subplots(1, 1)\n",
                "\n",
                "fig.add_trace(\n",
                "    go.Heatmap(z=df_3[\"log_p_S_given_D\"], x=df_3[\"tail width\"], y=df_3[\"laplace\"]),\n",
                "    row=1,\n",
                "    col=1,\n",
                ")\n",
                "fig.update_xaxes(\n",
                "    type=\"category\",\n",
                "    row=1,\n",
                "    col=1,\n",
                "    title=\"Tails width\",\n",
                ")\n",
                "\n",
                "fig.update_layout(\n",
                "    title=f\"Log P(S|D) ({len(IDs_10)} IDs)<br>main width={main_width}, main weight={main_weight}, all laplace\",\n",
                "    # yaxis_title=\"Laplace\",\n",
                "    # yaxis_type='log',\n",
                "    width=400,\n",
                "    height=200,\n",
                "    font_size=10,\n",
                ")\n",
                "# Recude font size of the subplot titles\n",
                "for annotation in fig[\"layout\"][\"annotations\"]:\n",
                "    annotation[\"font\"] = dict(size=14)\n",
                "# use the same color scale for all subplots\n",
                "fig.update_traces(\n",
                "    zmin=min(df_3.log_p_S_given_D[df_3.log_p_S_given_D != -np.inf]),\n",
                "    zmax=max(df_3.log_p_S_given_D),\n",
                "    colorbar=dict(title=\"log_p_S_given_D\"),\n",
                ")\n",
                "# X axis and y axis are categorical\n",
                "fig.update_yaxes(type=\"category\")\n",
                "\n",
                "fig.show()"
            ]
        },
        {
            "cell_type": "markdown",
            "metadata": {},
            "source": [
                "## Weight 0.73"
            ]
        },
        {
            "cell_type": "code",
            "execution_count": 172,
            "metadata": {},
            "outputs": [],
            "source": [
                "# Refine main width\n",
                "\n",
                "mean = 1\n",
                "sigma_spike = [0.1, 0.2, 0.3, 0.4, 0.5, 0.6, 0.7, 0.8, 0.9]\n",
                "weight_spike = 0.73\n",
                "sigma_tail = 30\n",
                "laplace_main = False\n",
                "laplace_tail = False\n",
                "params = sigma_spike\n",
                "labels = [\"main std\"]\n",
                "\n",
                "df_9, IDs_9 = load_and_process_json(\"9_stdmain\", params, labels)"
            ]
        },
        {
            "cell_type": "code",
            "execution_count": null,
            "metadata": {},
            "outputs": [],
            "source": [
                "df_9"
            ]
        },
        {
            "cell_type": "markdown",
            "metadata": {},
            "source": [
                "## Weight 0.73, main std 0.2"
            ]
        },
        {
            "cell_type": "code",
            "execution_count": null,
            "metadata": {},
            "outputs": [],
            "source": [
                "mean = 1\n",
                "sigma_spike = 0.2\n",
                "weight_spike = 0.73\n",
                "sigma_tail = [1, 5, 10, 15, 20, 25, 30, 35, 40, 45, 50, 55, 60, 65, 70]\n",
                "laplace_main = False\n",
                "laplace_tail = False\n",
                "params = sigma_tail\n",
                "print(len(params))\n",
                "\n",
                "df_tail, IDs_tail = load_and_process_json(\"15_stdtail\", params, labels)"
            ]
        },
        {
            "cell_type": "code",
            "execution_count": null,
            "metadata": {},
            "outputs": [],
            "source": []
        }
    ],
    "metadata": {
        "kernelspec": {
            "display_name": "phd",
            "language": "python",
            "name": "python3"
        },
        "language_info": {
            "codemirror_mode": {
                "name": "ipython",
                "version": 3
            },
            "file_extension": ".py",
            "mimetype": "text/x-python",
            "name": "python",
            "nbconvert_exporter": "python",
            "pygments_lexer": "ipython3",
            "version": "3.10.13"
        }
    },
    "nbformat": 4,
    "nbformat_minor": 2
}
