{
 "cells": [
  {
   "cell_type": "code",
   "execution_count": 2,
   "metadata": {},
   "outputs": [],
   "source": [
    "from src.modelling_fev1.ecfev1 import calc_cpt as calc_ecfev1_cpt\n",
    "from src.modelling_o2.o2satffa import calc_cpt as calc_o2satffa_cpt\n",
    "from src.modelling_o2.uo2sat import calc_cpt as calc_uo2sat_cpt\n",
    "from src.modelling_o2.o2sat import calc_cpt as calc_o2sat_cpt\n",
    "from src.models.var_builders import o2sat_fev1_point_in_time_model_shared_healthy_vars_light\n",
    "from src.models.cpts.load_cpt import save_cpt"
   ]
  },
  {
   "cell_type": "code",
   "execution_count": 3,
   "metadata": {},
   "outputs": [],
   "source": [
    "HFEV1, ecFEV1, AR, HO2Sat, O2SatFFA, IA, UO2Sat, O2Sat = o2sat_fev1_point_in_time_model_shared_healthy_vars_light(160, 30, \"Male\")"
   ]
  },
  {
   "cell_type": "code",
   "execution_count": 4,
   "metadata": {},
   "outputs": [],
   "source": [
    "ecfev1_cpt = calc_ecfev1_cpt(ecFEV1, HFEV1, AR)\n",
    "save_cpt([ecFEV1, HFEV1, AR], ecfev1_cpt)"
   ]
  },
  {
   "cell_type": "code",
   "execution_count": 5,
   "metadata": {},
   "outputs": [],
   "source": [
    "o2satffa_cpt = calc_o2satffa_cpt(O2SatFFA, HO2Sat, AR)\n",
    "save_cpt([O2SatFFA, HO2Sat, AR], o2satffa_cpt)"
   ]
  },
  {
   "cell_type": "code",
   "execution_count": 6,
   "metadata": {},
   "outputs": [],
   "source": [
    "uo2sat_cpt = calc_uo2sat_cpt(UO2Sat, O2SatFFA, IA)\n",
    "save_cpt([UO2Sat, O2SatFFA, IA], uo2sat_cpt)"
   ]
  },
  {
   "cell_type": "code",
   "execution_count": 3,
   "metadata": {},
   "outputs": [
    {
     "name": "stdout",
     "output_type": "stream",
     "text": [
      "o2sat_obs 50.0\n",
      "o2sat_obs 52.0\n",
      "o2sat_obs 54.0\n",
      "o2sat_obs 56.0\n",
      "o2sat_obs 58.0\n",
      "o2sat_obs 60.0\n",
      "o2sat_obs 62.0\n",
      "o2sat_obs 64.0\n",
      "o2sat_obs 66.0\n",
      "o2sat_obs 68.0\n",
      "o2sat_obs 70.0\n",
      "o2sat_obs 72.0\n",
      "o2sat_obs 74.0\n",
      "o2sat_obs 76.0\n",
      "o2sat_obs 78.0\n",
      "o2sat_obs 80.0\n",
      "o2sat_obs 82.0\n",
      "o2sat_obs 84.0\n",
      "o2sat_obs 86.0\n",
      "o2sat_obs 88.0\n",
      "o2sat_obs 90.0\n",
      "o2sat_obs 92.0\n",
      "o2sat_obs 94.0\n",
      "o2sat_obs 96.0\n",
      "o2sat_obs 98.0\n",
      "o2sat_obs 100.0\n"
     ]
    }
   ],
   "source": [
    "o2sat_cpt = calc_o2sat_cpt(O2Sat, UO2Sat)"
   ]
  },
  {
   "cell_type": "code",
   "execution_count": 7,
   "metadata": {},
   "outputs": [],
   "source": [
    "save_cpt([O2Sat, UO2Sat], o2sat_cpt)"
   ]
  },
  {
   "cell_type": "code",
   "execution_count": null,
   "metadata": {},
   "outputs": [],
   "source": []
  }
 ],
 "metadata": {
  "kernelspec": {
   "display_name": "phd",
   "language": "python",
   "name": "python3"
  },
  "language_info": {
   "codemirror_mode": {
    "name": "ipython",
    "version": 3
   },
   "file_extension": ".py",
   "mimetype": "text/x-python",
   "name": "python",
   "nbconvert_exporter": "python",
   "pygments_lexer": "ipython3",
   "version": "3.10.13"
  }
 },
 "nbformat": 4,
 "nbformat_minor": 2
}
