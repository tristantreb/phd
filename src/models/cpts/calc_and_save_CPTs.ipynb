{
 "cells": [
  {
   "cell_type": "code",
   "execution_count": 24,
   "metadata": {},
   "outputs": [],
   "source": [
    "from src.modelling_fev1.ecfev1 import calc_cpt as calc_ecfev1_cpt\n",
    "from src.modelling_o2.o2satffa import calc_cpt as calc_o2satffa_cpt\n",
    "from src.modelling_o2.uo2sat import calc_cpt as calc_uo2sat_cpt\n",
    "from src.modelling_o2.o2sat import calc_cpt as calc_o2sat_cpt\n",
    "from src.models.var_builders import (\n",
    "    o2sat_fev1_point_in_time_model_shared_healthy_vars_light,\n",
    "    o2sat_fev1_point_in_time_model_shared_healthy_vars,\n",
    ")\n",
    "from src.models.cpts.helpers import save_cpt, get_cpt, plot_2d_cpt\n",
    "import src.models.helpers as mh\n",
    "import numpy as np"
   ]
  },
  {
   "cell_type": "code",
   "execution_count": 13,
   "metadata": {},
   "outputs": [],
   "source": [
    "HFEV1, ecFEV1, AR, HO2Sat, O2SatFFA, IA, UO2Sat, O2Sat = (\n",
    "    o2sat_fev1_point_in_time_model_shared_healthy_vars_light(160, 30, \"Male\")\n",
    ")\n",
    "HFEV1, ecFEV1, AR, HO2Sat, O2SatFFA, IA, UO2Sat, O2Sat = (\n",
    "    o2sat_fev1_point_in_time_model_shared_healthy_vars(160, 30, \"Male\")\n",
    ")"
   ]
  },
  {
   "cell_type": "code",
   "execution_count": 3,
   "metadata": {},
   "outputs": [],
   "source": [
    "ecfev1_cpt = calc_ecfev1_cpt(ecFEV1, HFEV1, AR)\n",
    "save_cpt([ecFEV1, HFEV1, AR], ecfev1_cpt)"
   ]
  },
  {
   "cell_type": "code",
   "execution_count": 5,
   "metadata": {},
   "outputs": [],
   "source": [
    "o2satffa_cpt = calc_o2satffa_cpt(O2SatFFA, HO2Sat, AR)\n",
    "save_cpt([O2SatFFA, HO2Sat, AR], o2satffa_cpt)"
   ]
  },
  {
   "cell_type": "code",
   "execution_count": 4,
   "metadata": {},
   "outputs": [
    {
     "ename": "AssertionError",
     "evalue": "The sum of the probabilities should be 1, got 0.8654695020128138\nDistributions: O2 saturation if fully functional alveoli (%) ~ U(80.0, 82.0), Inactive alveoli (%) ~ U(0.24, 0.26)\nRange over the child bins = [59.2; 62.32)\nP(Underlying O2 saturation (%)|O2 saturation if fully functional alveoli (%), Inactive alveoli (%)) = [0.8448951 0.0205744 0.        0.        0.        0.        0.\n 0.        0.        0.        0.        0.        0.        0.\n 0.        0.        0.        0.        0.        0.       ]\n Underlying O2 saturation (%) bins: [60. 62. 64. 66. 68. 70. 72. 74. 76. 78. 80. 82. 84. 86. 88. 90. 92. 94.\n 96. 98.]\n Integral abserr = 3.980253282159914e-09",
     "output_type": "error",
     "traceback": [
      "\u001b[0;31m---------------------------------------------------------------------------\u001b[0m",
      "\u001b[0;31mAssertionError\u001b[0m                            Traceback (most recent call last)",
      "Cell \u001b[0;32mIn[4], line 1\u001b[0m\n\u001b[0;32m----> 1\u001b[0m uo2sat_cpt \u001b[38;5;241m=\u001b[39m \u001b[43mcalc_uo2sat_cpt\u001b[49m\u001b[43m(\u001b[49m\u001b[43mUO2Sat\u001b[49m\u001b[43m,\u001b[49m\u001b[43m \u001b[49m\u001b[43mO2SatFFA\u001b[49m\u001b[43m,\u001b[49m\u001b[43m \u001b[49m\u001b[43mIA\u001b[49m\u001b[43m)\u001b[49m\n",
      "File \u001b[0;32m~/Desktop/PhD/Code/phd/src/modelling_o2/uo2sat.py:11\u001b[0m, in \u001b[0;36mcalc_cpt\u001b[0;34m(UO2Sat, O2SatFFA, IA)\u001b[0m\n\u001b[1;32m      4\u001b[0m \u001b[38;5;28;01mdef\u001b[39;00m \u001b[38;5;21mcalc_cpt\u001b[39m(UO2Sat: mh\u001b[38;5;241m.\u001b[39mVariableNode, O2SatFFA: mh\u001b[38;5;241m.\u001b[39mVariableNode, IA: mh\u001b[38;5;241m.\u001b[39mVariableNode):\n\u001b[1;32m      5\u001b[0m \u001b[38;5;250m    \u001b[39m\u001b[38;5;124;03m\"\"\"\u001b[39;00m\n\u001b[1;32m      6\u001b[0m \u001b[38;5;124;03m    UO2Sat = O2SatFFA * (1-IA)\u001b[39;00m\n\u001b[1;32m      7\u001b[0m \u001b[38;5;124;03m    UO2Sat: Underling O2 saturation\u001b[39;00m\n\u001b[1;32m      8\u001b[0m \u001b[38;5;124;03m    O2SatFFA: O2 saturation if fully functional alveoli\u001b[39;00m\n\u001b[1;32m      9\u001b[0m \u001b[38;5;124;03m    IA: Inactive alveoli\u001b[39;00m\n\u001b[1;32m     10\u001b[0m \u001b[38;5;124;03m    \"\"\"\u001b[39;00m\n\u001b[0;32m---> 11\u001b[0m     cpt \u001b[38;5;241m=\u001b[39m \u001b[43mmh\u001b[49m\u001b[38;5;241;43m.\u001b[39;49m\u001b[43mcalc_pgmpy_cpt_X_x_1_minus_Y\u001b[49m\u001b[43m(\u001b[49m\u001b[43mO2SatFFA\u001b[49m\u001b[43m,\u001b[49m\u001b[43m \u001b[49m\u001b[43mIA\u001b[49m\u001b[43m,\u001b[49m\u001b[43m \u001b[49m\u001b[43mUO2Sat\u001b[49m\u001b[43m)\u001b[49m\n\u001b[1;32m     12\u001b[0m     \u001b[38;5;28;01mreturn\u001b[39;00m cpt\u001b[38;5;241m.\u001b[39mreshape(UO2Sat\u001b[38;5;241m.\u001b[39mcard, O2SatFFA\u001b[38;5;241m.\u001b[39mcard, IA\u001b[38;5;241m.\u001b[39mcard)\n",
      "File \u001b[0;32m~/Desktop/PhD/Code/phd/src/models/helpers.py:525\u001b[0m, in \u001b[0;36mcalc_pgmpy_cpt_X_x_1_minus_Y\u001b[0;34m(X, Y, Z, tol, debug)\u001b[0m\n\u001b[1;32m    522\u001b[0m         \u001b[38;5;28;01mif\u001b[39;00m debug:\n\u001b[1;32m    523\u001b[0m             \u001b[38;5;28mprint\u001b[39m(\u001b[38;5;124mf\u001b[39m\u001b[38;5;124m\"\u001b[39m\u001b[38;5;124mP(Z|U,B) = \u001b[39m\u001b[38;5;132;01m{\u001b[39;00mcpt[:,\u001b[38;5;250m \u001b[39mcpt_index\u001b[38;5;250m \u001b[39m\u001b[38;5;241m+\u001b[39m\u001b[38;5;250m \u001b[39mi\u001b[38;5;250m \u001b[39m\u001b[38;5;241m+\u001b[39m\u001b[38;5;250m \u001b[39mj]\u001b[38;5;132;01m}\u001b[39;00m\u001b[38;5;124m\"\u001b[39m)\n\u001b[1;32m    524\u001b[0m         \u001b[38;5;28;01massert\u001b[39;00m (\n\u001b[0;32m--> 525\u001b[0m             \u001b[38;5;28mabs\u001b[39m(total \u001b[38;5;241m-\u001b[39m \u001b[38;5;241m1\u001b[39m) \u001b[38;5;241m<\u001b[39m tol\n\u001b[1;32m    526\u001b[0m         ), \u001b[38;5;124mf\u001b[39m\u001b[38;5;124m\"\u001b[39m\u001b[38;5;124mThe sum of the probabilities should be 1, got \u001b[39m\u001b[38;5;132;01m{\u001b[39;00mtotal\u001b[38;5;132;01m}\u001b[39;00m\u001b[38;5;130;01m\\n\u001b[39;00m\u001b[38;5;124mDistributions: \u001b[39m\u001b[38;5;132;01m{\u001b[39;00mX\u001b[38;5;241m.\u001b[39mname\u001b[38;5;132;01m}\u001b[39;00m\u001b[38;5;124m ~ U(\u001b[39m\u001b[38;5;132;01m{\u001b[39;00ma_low\u001b[38;5;132;01m}\u001b[39;00m\u001b[38;5;124m, \u001b[39m\u001b[38;5;132;01m{\u001b[39;00ma_up\u001b[38;5;132;01m}\u001b[39;00m\u001b[38;5;124m), \u001b[39m\u001b[38;5;132;01m{\u001b[39;00mY\u001b[38;5;241m.\u001b[39mname\u001b[38;5;132;01m}\u001b[39;00m\u001b[38;5;124m ~ U(\u001b[39m\u001b[38;5;132;01m{\u001b[39;00mb_low\u001b[38;5;132;01m}\u001b[39;00m\u001b[38;5;124m, \u001b[39m\u001b[38;5;132;01m{\u001b[39;00mb_up\u001b[38;5;132;01m}\u001b[39;00m\u001b[38;5;124m)\u001b[39m\u001b[38;5;130;01m\\n\u001b[39;00m\u001b[38;5;124mRange over the child bins = [\u001b[39m\u001b[38;5;132;01m{\u001b[39;00mZ_min\u001b[38;5;132;01m}\u001b[39;00m\u001b[38;5;124m; \u001b[39m\u001b[38;5;132;01m{\u001b[39;00mZ_max\u001b[38;5;132;01m}\u001b[39;00m\u001b[38;5;124m)\u001b[39m\u001b[38;5;130;01m\\n\u001b[39;00m\u001b[38;5;124mP(\u001b[39m\u001b[38;5;132;01m{\u001b[39;00mZ\u001b[38;5;241m.\u001b[39mname\u001b[38;5;132;01m}\u001b[39;00m\u001b[38;5;124m|\u001b[39m\u001b[38;5;132;01m{\u001b[39;00mX\u001b[38;5;241m.\u001b[39mname\u001b[38;5;132;01m}\u001b[39;00m\u001b[38;5;124m, \u001b[39m\u001b[38;5;132;01m{\u001b[39;00mY\u001b[38;5;241m.\u001b[39mname\u001b[38;5;132;01m}\u001b[39;00m\u001b[38;5;124m) = \u001b[39m\u001b[38;5;132;01m{\u001b[39;00mcpt[:,\u001b[38;5;250m \u001b[39mcpt_index\u001b[38;5;250m \u001b[39m\u001b[38;5;241m+\u001b[39m\u001b[38;5;250m \u001b[39mi\u001b[38;5;250m \u001b[39m\u001b[38;5;241m+\u001b[39m\u001b[38;5;250m \u001b[39mj]\u001b[38;5;132;01m}\u001b[39;00m\u001b[38;5;130;01m\\n\u001b[39;00m\u001b[38;5;124m \u001b[39m\u001b[38;5;132;01m{\u001b[39;00mZ\u001b[38;5;241m.\u001b[39mname\u001b[38;5;132;01m}\u001b[39;00m\u001b[38;5;124m bins: \u001b[39m\u001b[38;5;132;01m{\u001b[39;00mZ\u001b[38;5;241m.\u001b[39mbins\u001b[38;5;132;01m}\u001b[39;00m\u001b[38;5;130;01m\\n\u001b[39;00m\u001b[38;5;124m Integral abserr = \u001b[39m\u001b[38;5;132;01m{\u001b[39;00mabserr\u001b[38;5;132;01m}\u001b[39;00m\u001b[38;5;124m\"\u001b[39m\n\u001b[1;32m    527\u001b[0m \u001b[38;5;28;01mreturn\u001b[39;00m cpt\n",
      "\u001b[0;31mAssertionError\u001b[0m: The sum of the probabilities should be 1, got 0.8654695020128138\nDistributions: O2 saturation if fully functional alveoli (%) ~ U(80.0, 82.0), Inactive alveoli (%) ~ U(0.24, 0.26)\nRange over the child bins = [59.2; 62.32)\nP(Underlying O2 saturation (%)|O2 saturation if fully functional alveoli (%), Inactive alveoli (%)) = [0.8448951 0.0205744 0.        0.        0.        0.        0.\n 0.        0.        0.        0.        0.        0.        0.\n 0.        0.        0.        0.        0.        0.       ]\n Underlying O2 saturation (%) bins: [60. 62. 64. 66. 68. 70. 72. 74. 76. 78. 80. 82. 84. 86. 88. 90. 92. 94.\n 96. 98.]\n Integral abserr = 3.980253282159914e-09"
     ]
    }
   ],
   "source": [
    "uo2sat_cpt = calc_uo2sat_cpt(UO2Sat, O2SatFFA, IA)\n",
    "save_cpt([UO2Sat, O2SatFFA, IA], uo2sat_cpt)"
   ]
  },
  {
   "cell_type": "code",
   "execution_count": 3,
   "metadata": {},
   "outputs": [
    {
     "name": "stdout",
     "output_type": "stream",
     "text": [
      "o2sat_obs 50.0\n",
      "o2sat_obs 52.0\n",
      "o2sat_obs 54.0\n",
      "o2sat_obs 56.0\n",
      "o2sat_obs 58.0\n",
      "o2sat_obs 60.0\n",
      "o2sat_obs 62.0\n",
      "o2sat_obs 64.0\n",
      "o2sat_obs 66.0\n",
      "o2sat_obs 68.0\n",
      "o2sat_obs 70.0\n",
      "o2sat_obs 72.0\n",
      "o2sat_obs 74.0\n",
      "o2sat_obs 76.0\n",
      "o2sat_obs 78.0\n",
      "o2sat_obs 80.0\n",
      "o2sat_obs 82.0\n",
      "o2sat_obs 84.0\n",
      "o2sat_obs 86.0\n",
      "o2sat_obs 88.0\n",
      "o2sat_obs 90.0\n",
      "o2sat_obs 92.0\n",
      "o2sat_obs 94.0\n",
      "o2sat_obs 96.0\n",
      "o2sat_obs 98.0\n",
      "o2sat_obs 100.0\n"
     ]
    }
   ],
   "source": [
    "o2sat_cpt = calc_o2sat_cpt(O2Sat, UO2Sat)"
   ]
  },
  {
   "cell_type": "code",
   "execution_count": 7,
   "metadata": {},
   "outputs": [],
   "source": [
    "save_cpt([O2Sat, UO2Sat], o2sat_cpt)"
   ]
  },
  {
   "cell_type": "code",
   "execution_count": 19,
   "metadata": {},
   "outputs": [],
   "source": [
    "import src.models.helpers as mh\n",
    "import src.data.helpers as dh\n",
    "\n",
    "AR1 = mh.VariableNode(\n",
    "    \"Airway resistance day 1 (%)\", 0, 90, 2, prior={\"type\": \"uniform\"}\n",
    ")\n",
    "AR2 = mh.VariableNode(\n",
    "    \"Airway resistance day 2 (%)\", 0, 90, 2, prior={\"type\": \"uniform\"}\n",
    ")\n",
    "# Set the max number of days elapsed to max offset in order to have as much data as possible per number of days elapsed\n",
    "DE = mh.DiscreteVariableNode(\"Days elapsed\", 1, 3, 1)\n",
    "\n",
    "cpt = get_cpt(\n",
    "    [AR1, AR2, DE], suffix=f\"_shift_span_[{-20};{20}]_joint_sampling_3_days_model\"\n",
    ")"
   ]
  },
  {
   "cell_type": "code",
   "execution_count": null,
   "metadata": {},
   "outputs": [],
   "source": [
    "fig, title = plot_2d_cpt(cpt[:, :, 0], AR2, AR1, invert=False)\n",
    "title = \"CPT - P(AR day 1|AR day 2, DE = 1)\"\n",
    "fig.update_layout(title=title)\n",
    "# Set x axis title for last row\n",
    "fig.update_xaxes(title_text=\"Airway resistance day 2 (%)\", row=45, col=1)\n",
    "# Show xaxis label for each row\n",
    "fig.update_xaxes(showticklabels=True)\n",
    "# fig.write_image(f\"{dh.get_path_to_main()}PlotsBreathe/Interconnecting_ARs_entries/{title}.pdf\")\n",
    "fig.show()"
   ]
  },
  {
   "cell_type": "code",
   "execution_count": 26,
   "metadata": {},
   "outputs": [],
   "source": [
    "DE = mh.VariableNode(\"Days elapsed\", 1, 3, 1, prior=None)\n",
    "cpt = get_cpt([AR, AR, DE], \"_identity\")\n",
    "S = mh.DiscreteVariableNode(\"AR change factor shape\", 1, 1, 1, {\"type\": \"uniform\"})\n",
    "save_cpt([AR, AR, S], cpt[:, :, 0][:, :, np.newaxis])"
   ]
  },
  {
   "cell_type": "code",
   "execution_count": null,
   "metadata": {},
   "outputs": [],
   "source": []
  }
 ],
 "metadata": {
  "kernelspec": {
   "display_name": "phd",
   "language": "python",
   "name": "python3"
  },
  "language_info": {
   "codemirror_mode": {
    "name": "ipython",
    "version": 3
   },
   "file_extension": ".py",
   "mimetype": "text/x-python",
   "name": "python",
   "nbconvert_exporter": "python",
   "pygments_lexer": "ipython3",
   "version": "3.10.13"
  }
 },
 "nbformat": 4,
 "nbformat_minor": 2
}
