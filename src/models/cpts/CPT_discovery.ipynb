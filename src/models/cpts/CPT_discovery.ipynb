{
 "cells": [
  {
   "cell_type": "code",
   "execution_count": 8,
   "metadata": {},
   "outputs": [],
   "source": [
    "import src.models.helpers as mh\n",
    "from src.models.cpts.load_cpt import get_cpt\n",
    "import numpy as np"
   ]
  },
  {
   "cell_type": "code",
   "execution_count": 6,
   "metadata": {},
   "outputs": [],
   "source": [
    "height=175\n",
    "age=30\n",
    "sex=\"Male\"\n",
    "hfev1_prior = {\"type\": \"default\", \"height\": height, \"age\": age, \"sex\": sex}\n",
    "ho2sat_prior = {\n",
    "    \"type\": \"default\",\n",
    "    \"height\": height,\n",
    "    \"sex\": sex,\n",
    "}\n",
    "HFEV1 = mh.variableNode(\"Healthy FEV1 (L)\", 1, 6, 0.05, prior=hfev1_prior)\n",
    "ecFEV1 = mh.variableNode(\"ecFEV1 (L)\", 0, 6, 0.05, prior=None)\n",
    "# Lowest predicted FEV1 is 15% (AR = 1-predictedFEV1)\n",
    "AR = mh.variableNode(\"Airway resistance (%)\", 0, 90, 2, prior={\"type\": \"uniform\"})\n",
    "\n",
    "\n",
    "cpt = get_cpt([ecFEV1, HFEV1, AR])"
   ]
  },
  {
   "cell_type": "code",
   "execution_count": 13,
   "metadata": {},
   "outputs": [
    {
     "name": "stdout",
     "output_type": "stream",
     "text": [
      "(120, 100, 45)\n"
     ]
    },
    {
     "data": {
      "text/plain": [
       "array([[1., 1., 1., ..., 1., 1., 1.],\n",
       "       [1., 1., 1., ..., 1., 1., 1.],\n",
       "       [1., 1., 1., ..., 1., 1., 1.],\n",
       "       ...,\n",
       "       [1., 1., 1., ..., 1., 1., 1.],\n",
       "       [1., 1., 1., ..., 1., 1., 1.],\n",
       "       [1., 1., 1., ..., 1., 1., 1.]])"
      ]
     },
     "execution_count": 13,
     "metadata": {},
     "output_type": "execute_result"
    }
   ],
   "source": [
    "print(cpt.shape)\n",
    "np.sum(cpt, axis=0)"
   ]
  },
  {
   "cell_type": "code",
   "execution_count": null,
   "metadata": {},
   "outputs": [],
   "source": []
  }
 ],
 "metadata": {
  "kernelspec": {
   "display_name": "phd",
   "language": "python",
   "name": "python3"
  },
  "language_info": {
   "codemirror_mode": {
    "name": "ipython",
    "version": 3
   },
   "file_extension": ".py",
   "mimetype": "text/x-python",
   "name": "python",
   "nbconvert_exporter": "python",
   "pygments_lexer": "ipython3",
   "version": "3.10.13"
  }
 },
 "nbformat": 4,
 "nbformat_minor": 2
}
