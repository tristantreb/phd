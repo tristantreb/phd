{
 "cells": [
  {
   "cell_type": "markdown",
   "metadata": {},
   "source": [
    "Currently I define the prior in the nodeVariable class, but then I use the output of TabularCPD().values to actually use the prior.\n",
    "\n",
    "I want to use only one or the other\n",
    "\n",
    "It turns out that in PGMPY, a prior is essentially a CPT with only one parent state. Hence it should be a 2D array of shape (len(bins), 1)"
   ]
  },
  {
   "cell_type": "code",
   "execution_count": null,
   "metadata": {},
   "outputs": [],
   "source": [
    "import numpy as np\n",
    "from pgmpy.factors.discrete import TabularCPD\n",
    "from pgmpy.inference import BeliefPropagation\n",
    "from pgmpy.models import BayesianNetwork\n",
    "\n",
    "import src.modelling_fev1.pred_fev1 as pred_fev1\n",
    "import src.models.helpers as mh"
   ]
  },
  {
   "cell_type": "code",
   "execution_count": 2,
   "metadata": {},
   "outputs": [
    {
     "data": {
      "text/plain": [
       "[[array(0.2)], [array(0.2)], [array(0.2)], [array(0.2)], [array(0.2)]]"
      ]
     },
     "execution_count": 2,
     "metadata": {},
     "output_type": "execute_result"
    }
   ],
   "source": [
    "HFEV1 = mh.variableNode(\n",
    "        \"Healthy FEV1 (L)\", 1, 6, 1, prior={\"type\": \"uniform\"}\n",
    "    )\n",
    "HFEV1.prior"
   ]
  },
  {
   "cell_type": "code",
   "execution_count": 26,
   "metadata": {},
   "outputs": [
    {
     "name": "stderr",
     "output_type": "stream",
     "text": [
      "/var/folders/zq/v2r6yn111s3gpdf8lzf72xvw0000gn/T/ipykernel_97221/941348849.py:1: DeprecationWarning: `product` is deprecated as of NumPy 1.25.0, and will be removed in NumPy 2.0. Please use `prod` instead.\n",
      "  cpd = TabularCPD(\n"
     ]
    },
    {
     "data": {
      "text/plain": [
       "array([[0.2],\n",
       "       [0.2],\n",
       "       [0.2],\n",
       "       [0.2],\n",
       "       [0.2]])"
      ]
     },
     "execution_count": 26,
     "metadata": {},
     "output_type": "execute_result"
    }
   ],
   "source": [
    "cpd = TabularCPD(\n",
    "        variable=HFEV1.name,\n",
    "        variable_card=len(HFEV1.bins) - 1,\n",
    "        values=prior,\n",
    "        evidence=[],\n",
    "        evidence_card=[],\n",
    ")\n",
    "cpd.get_values()"
   ]
  },
  {
   "cell_type": "code",
   "execution_count": 10,
   "metadata": {},
   "outputs": [
    {
     "data": {
      "text/plain": [
       "array([1., 2., 3., 4., 5., 6.])"
      ]
     },
     "execution_count": 10,
     "metadata": {},
     "output_type": "execute_result"
    }
   ],
   "source": [
    "HFEV1.bins"
   ]
  },
  {
   "cell_type": "code",
   "execution_count": 25,
   "metadata": {},
   "outputs": [],
   "source": [
    "# P(FEV1) = \n",
    "bins = HFEV1.bins[:-1]\n",
    "1/len(bins)\n",
    "prior = np.array([1/len(bins)]*len(bins)).reshape(len(bins), 1)"
   ]
  },
  {
   "cell_type": "code",
   "execution_count": null,
   "metadata": {},
   "outputs": [],
   "source": []
  }
 ],
 "metadata": {
  "kernelspec": {
   "display_name": "phd",
   "language": "python",
   "name": "python3"
  },
  "language_info": {
   "codemirror_mode": {
    "name": "ipython",
    "version": 3
   },
   "file_extension": ".py",
   "mimetype": "text/x-python",
   "name": "python",
   "nbconvert_exporter": "python",
   "pygments_lexer": "ipython3",
   "version": "3.10.13"
  },
  "orig_nbformat": 4
 },
 "nbformat": 4,
 "nbformat_minor": 2
}
