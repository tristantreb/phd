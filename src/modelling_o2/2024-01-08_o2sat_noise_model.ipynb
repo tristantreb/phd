{
 "cells": [
  {
   "cell_type": "markdown",
   "metadata": {},
   "source": [
    "# Model the uncertainty in o2sat measurements\n",
    "\n",
    "Create a lookup table that links the possible true O2Sat values for the measured and rounded values that we put into the model. For that generate a number in a range 90-100, 1) add gaussian noise, 2) round it, 3) keep that number if the result is 98. Do this many times to get the input distribution values that map to 98. Take the std of that distribution.\n",
    "\n",
    "o2 saturation measurements are subject to technical and biological noise. From clinical practice, the o2 saturation varies by at most by 1 point over 2 minutes of consecutive measurement (technical noise), and varies by to 2-3 points over the a day (biological noise). Hence, where an oximeter displays 98%, the individual's true o2 saturation can be a value in the range [96-100].\n",
    "\n",
    "Since o2 saturation is has a high SNR, it is important to add an o2 saturation measurement noise model to the lung model. Otherwise the model will propagate strong belief in o2 saturation (point-mass distribution) where in reality the belief would be weaker (wider than point-mass distribution).\n",
    "\n",
    "The o2 saturation noise model adresses this issue by generating the underlying true distribution of o2 saturation values corresponding to a single observation.\n",
    "\n",
    "I modelled the noise with two sequential components:\n",
    "1) gaussian noise: the true value is shuffled according to a gaussian distribution centered on that true value and with an  standard deviation that has to be determined.\n",
    "2) rounding: the shuffled value is rounded to the nearest integer. \n",
    "\n",
    "Using this generative model, I can draw the underlying distribution by rejection sampling.\n",
    "0) Pick an o2 saturation observation. This is the measured value.\n",
    "1) Sample a value from a uniform distribution in the range [90-100]. This is the true value.\n",
    "2) Add gaussian noise to the true value with N(true value, std).\n",
    "3) Round the noisy true value to the nearest integer\n",
    "4) If the obtained value is equal to the measured value, keep the true value, otherwise discard it.\n",
    "5) Repeat this algorithm one million times to get the distribution of true values that lead to the observed measured value.\n",
    "\n",
    "Show figure XX of two distributions, with and without the 100 edge effect. Explain that the std is the same for all generated distributions, except the 100 edge effect.\n",
    "\n",
    "#### Computing the gaussian noise's std parameter\n",
    "Note that the obtained underlying distribution can be used in both ways: 1) to sample measurements from a single true value, 2) to sample true values from a single measurement. Hence, all measurements of an individual are sampled from the underlying distribution corresponding to that individual, provided that the individual is healthy enough to have a constant true o2 saturation. Hence, avg_std_ID = std_dist = sqrt(std_gauss + std_rounding)\n",
    "\n",
    "avg_std_ID: an individual's average standard deviation of its o2 saturation measurements. The average is computed over a subset of healthy enough (>80% FEV1 % predicted) individuals\n",
    "std_dist: standard deviation of the underlying distribution of the measurements. Ignoring the 100% boundary effect, the std_dist is the same across all individuals (see figure XX).\n",
    "sqrt(): mathetmatical relation to surface the relationships between the three types of uncertainties: uncertainty due to gaussian noise, uncertainty due to rounding and total uncertainty. This can be derived using the sum of two independent randome variables. In fact, whilst the gaussian noise and the rounding effects aggregate, the two phenomenons are independent.\n",
    "\n",
    "Using this equation, I empirically derived std_gauss with the following steps:\n",
    "1) For each individual, compute the measurement's standard deviation and take the average. This is std_ID\n",
    "2) Pick an std_gauss 0.5 below std_ID. This is a good starting point because the std_rounding shoud be around 0.5\n",
    "3) Run the generative model and save the std_dist\n",
    "4) Update std_gauss and run and go back to 3) until the obtained std_dist equals std_ID computed in 1)\n",
    "\n",
    "I obtained std_gauss 0.86.\n",
    "\n",
    "### How to build the cpt\n",
    "For each possible value of O2 saturation, bin up the output distribution in bins of unbiased O2 saturation, and fill its cpt.\n",
    "\n",
    "I computed the gaussian noise's std parameter using the sum of two random variables. Whilst the gaussian noise and the rounding effects aggregate, the two phenomenons are independent.\n",
    "https://www.milefoot.com/math/stat/rv-sums.htm#:~:text=For%20any%20two%20random%20variables,sum%20of%20their%20expected%20values.&text=The%20proof%2C%20for%20both%20the,continuous%20cases%2C%20is%20rather%20straightforward."
   ]
  },
  {
   "cell_type": "code",
   "execution_count": 1,
   "metadata": {},
   "outputs": [],
   "source": [
    "import numpy as np\n",
    "import src.data.breathe_data as breathe_data\n",
    "import src.data.helpers as datah\n",
    "import plotly.express as px\n",
    "import plotly.figure_factory as ff\n",
    "import plotly.graph_objects as go\n",
    "from plotly.subplots import make_subplots\n",
    "import src.models.helpers as mh\n",
    "import src.modelling_o2.o2sat as o2sat"
   ]
  },
  {
   "cell_type": "code",
   "execution_count": 2,
   "metadata": {},
   "outputs": [],
   "source": [
    "# df = breathe_data.build_O2_FEV1_df()\n",
    "df = breathe_data.fetch_from_excel()"
   ]
  },
  {
   "cell_type": "code",
   "execution_count": 8,
   "metadata": {},
   "outputs": [
    {
     "name": "stdout",
     "output_type": "stream",
     "text": [
      "213 IDs\n",
      "96 healthy IDs\n",
      "54/96 IDs with > 10 measurements\n",
      "Average std: 0.907397942237467\n",
      "Median std: 0.8717543896524964\n"
     ]
    },
    {
     "data": {
      "application/vnd.plotly.v1+json": {
       "config": {
        "plotlyServerURL": "https://plot.ly"
       },
       "data": [
        {
         "alignmentgroup": "True",
         "bingroup": "x",
         "hovertemplate": "variable=O2 Saturation<br>value=%{x}<br>count=%{y}<extra></extra>",
         "legendgroup": "O2 Saturation",
         "marker": {
          "color": "#636efa",
          "pattern": {
           "shape": ""
          }
         },
         "name": "O2 Saturation",
         "nbinsx": 20,
         "offsetgroup": "O2 Saturation",
         "orientation": "v",
         "showlegend": true,
         "type": "histogram",
         "x": [
          0.568409800229269,
          1.2282918067063084,
          0.9003366373785199,
          0.8829841544156685,
          0.7035064009472135,
          0.7513751157474972,
          0.8605246248893242,
          0.9497712589980055,
          0.8899161001849477,
          0.7389025723965599,
          0.5512908203729234,
          0.9607689228305224,
          1.4142135623730951,
          0.8857114542917398,
          0.6400851541568058,
          0.37463432463267754,
          0.8047478161629565,
          0.808911953846271,
          1.1597067672891521,
          1.245657664614221,
          0.8837151016885368,
          0.7223676409737676,
          1.2633523314184736,
          0.9950859653474026,
          0.7560652845435095,
          0.5910804632890485,
          0.7250943523979951,
          0.4914315444597565,
          0.8256813083303347,
          0.9972489631508743,
          0.5560384374855325,
          0.6565650723542865,
          0.9140017361383219,
          1.6012815380508714,
          1.5897788605327543,
          0.9768498542662228,
          1.261233989241027,
          0.9349597102891364,
          0.9251247785330666,
          1.3284223283101426,
          0.6174185563771668,
          0.7124435118490149,
          0.9791476695218949,
          0.9579921282290988,
          0.6868028197434453,
          0.5527487382988376,
          1.1943352886058403,
          0.8338093878327919,
          0.2732763127330939,
          0.8053780974060699,
          0.5072996561958923,
          0.8387421368293256,
          2.781088596487463,
          0.9438798074485389
         ],
         "xaxis": "x",
         "yaxis": "y"
        },
        {
         "alignmentgroup": "True",
         "hovertemplate": "variable=O2 Saturation<br>value=%{x}<extra></extra>",
         "legendgroup": "O2 Saturation",
         "marker": {
          "color": "#636efa"
         },
         "name": "O2 Saturation",
         "notched": true,
         "offsetgroup": "O2 Saturation",
         "showlegend": false,
         "type": "box",
         "x": [
          0.568409800229269,
          1.2282918067063084,
          0.9003366373785199,
          0.8829841544156685,
          0.7035064009472135,
          0.7513751157474972,
          0.8605246248893242,
          0.9497712589980055,
          0.8899161001849477,
          0.7389025723965599,
          0.5512908203729234,
          0.9607689228305224,
          1.4142135623730951,
          0.8857114542917398,
          0.6400851541568058,
          0.37463432463267754,
          0.8047478161629565,
          0.808911953846271,
          1.1597067672891521,
          1.245657664614221,
          0.8837151016885368,
          0.7223676409737676,
          1.2633523314184736,
          0.9950859653474026,
          0.7560652845435095,
          0.5910804632890485,
          0.7250943523979951,
          0.4914315444597565,
          0.8256813083303347,
          0.9972489631508743,
          0.5560384374855325,
          0.6565650723542865,
          0.9140017361383219,
          1.6012815380508714,
          1.5897788605327543,
          0.9768498542662228,
          1.261233989241027,
          0.9349597102891364,
          0.9251247785330666,
          1.3284223283101426,
          0.6174185563771668,
          0.7124435118490149,
          0.9791476695218949,
          0.9579921282290988,
          0.6868028197434453,
          0.5527487382988376,
          1.1943352886058403,
          0.8338093878327919,
          0.2732763127330939,
          0.8053780974060699,
          0.5072996561958923,
          0.8387421368293256,
          2.781088596487463,
          0.9438798074485389
         ],
         "xaxis": "x2",
         "yaxis": "y2"
        }
       ],
       "layout": {
        "barmode": "relative",
        "legend": {
         "title": {
          "text": "variable"
         },
         "tracegroupgap": 0
        },
        "margin": {
         "t": 60
        },
        "template": {
         "data": {
          "bar": [
           {
            "error_x": {
             "color": "#2a3f5f"
            },
            "error_y": {
             "color": "#2a3f5f"
            },
            "marker": {
             "line": {
              "color": "#E5ECF6",
              "width": 0.5
             },
             "pattern": {
              "fillmode": "overlay",
              "size": 10,
              "solidity": 0.2
             }
            },
            "type": "bar"
           }
          ],
          "barpolar": [
           {
            "marker": {
             "line": {
              "color": "#E5ECF6",
              "width": 0.5
             },
             "pattern": {
              "fillmode": "overlay",
              "size": 10,
              "solidity": 0.2
             }
            },
            "type": "barpolar"
           }
          ],
          "carpet": [
           {
            "aaxis": {
             "endlinecolor": "#2a3f5f",
             "gridcolor": "white",
             "linecolor": "white",
             "minorgridcolor": "white",
             "startlinecolor": "#2a3f5f"
            },
            "baxis": {
             "endlinecolor": "#2a3f5f",
             "gridcolor": "white",
             "linecolor": "white",
             "minorgridcolor": "white",
             "startlinecolor": "#2a3f5f"
            },
            "type": "carpet"
           }
          ],
          "choropleth": [
           {
            "colorbar": {
             "outlinewidth": 0,
             "ticks": ""
            },
            "type": "choropleth"
           }
          ],
          "contour": [
           {
            "colorbar": {
             "outlinewidth": 0,
             "ticks": ""
            },
            "colorscale": [
             [
              0,
              "#0d0887"
             ],
             [
              0.1111111111111111,
              "#46039f"
             ],
             [
              0.2222222222222222,
              "#7201a8"
             ],
             [
              0.3333333333333333,
              "#9c179e"
             ],
             [
              0.4444444444444444,
              "#bd3786"
             ],
             [
              0.5555555555555556,
              "#d8576b"
             ],
             [
              0.6666666666666666,
              "#ed7953"
             ],
             [
              0.7777777777777778,
              "#fb9f3a"
             ],
             [
              0.8888888888888888,
              "#fdca26"
             ],
             [
              1,
              "#f0f921"
             ]
            ],
            "type": "contour"
           }
          ],
          "contourcarpet": [
           {
            "colorbar": {
             "outlinewidth": 0,
             "ticks": ""
            },
            "type": "contourcarpet"
           }
          ],
          "heatmap": [
           {
            "colorbar": {
             "outlinewidth": 0,
             "ticks": ""
            },
            "colorscale": [
             [
              0,
              "#0d0887"
             ],
             [
              0.1111111111111111,
              "#46039f"
             ],
             [
              0.2222222222222222,
              "#7201a8"
             ],
             [
              0.3333333333333333,
              "#9c179e"
             ],
             [
              0.4444444444444444,
              "#bd3786"
             ],
             [
              0.5555555555555556,
              "#d8576b"
             ],
             [
              0.6666666666666666,
              "#ed7953"
             ],
             [
              0.7777777777777778,
              "#fb9f3a"
             ],
             [
              0.8888888888888888,
              "#fdca26"
             ],
             [
              1,
              "#f0f921"
             ]
            ],
            "type": "heatmap"
           }
          ],
          "heatmapgl": [
           {
            "colorbar": {
             "outlinewidth": 0,
             "ticks": ""
            },
            "colorscale": [
             [
              0,
              "#0d0887"
             ],
             [
              0.1111111111111111,
              "#46039f"
             ],
             [
              0.2222222222222222,
              "#7201a8"
             ],
             [
              0.3333333333333333,
              "#9c179e"
             ],
             [
              0.4444444444444444,
              "#bd3786"
             ],
             [
              0.5555555555555556,
              "#d8576b"
             ],
             [
              0.6666666666666666,
              "#ed7953"
             ],
             [
              0.7777777777777778,
              "#fb9f3a"
             ],
             [
              0.8888888888888888,
              "#fdca26"
             ],
             [
              1,
              "#f0f921"
             ]
            ],
            "type": "heatmapgl"
           }
          ],
          "histogram": [
           {
            "marker": {
             "pattern": {
              "fillmode": "overlay",
              "size": 10,
              "solidity": 0.2
             }
            },
            "type": "histogram"
           }
          ],
          "histogram2d": [
           {
            "colorbar": {
             "outlinewidth": 0,
             "ticks": ""
            },
            "colorscale": [
             [
              0,
              "#0d0887"
             ],
             [
              0.1111111111111111,
              "#46039f"
             ],
             [
              0.2222222222222222,
              "#7201a8"
             ],
             [
              0.3333333333333333,
              "#9c179e"
             ],
             [
              0.4444444444444444,
              "#bd3786"
             ],
             [
              0.5555555555555556,
              "#d8576b"
             ],
             [
              0.6666666666666666,
              "#ed7953"
             ],
             [
              0.7777777777777778,
              "#fb9f3a"
             ],
             [
              0.8888888888888888,
              "#fdca26"
             ],
             [
              1,
              "#f0f921"
             ]
            ],
            "type": "histogram2d"
           }
          ],
          "histogram2dcontour": [
           {
            "colorbar": {
             "outlinewidth": 0,
             "ticks": ""
            },
            "colorscale": [
             [
              0,
              "#0d0887"
             ],
             [
              0.1111111111111111,
              "#46039f"
             ],
             [
              0.2222222222222222,
              "#7201a8"
             ],
             [
              0.3333333333333333,
              "#9c179e"
             ],
             [
              0.4444444444444444,
              "#bd3786"
             ],
             [
              0.5555555555555556,
              "#d8576b"
             ],
             [
              0.6666666666666666,
              "#ed7953"
             ],
             [
              0.7777777777777778,
              "#fb9f3a"
             ],
             [
              0.8888888888888888,
              "#fdca26"
             ],
             [
              1,
              "#f0f921"
             ]
            ],
            "type": "histogram2dcontour"
           }
          ],
          "mesh3d": [
           {
            "colorbar": {
             "outlinewidth": 0,
             "ticks": ""
            },
            "type": "mesh3d"
           }
          ],
          "parcoords": [
           {
            "line": {
             "colorbar": {
              "outlinewidth": 0,
              "ticks": ""
             }
            },
            "type": "parcoords"
           }
          ],
          "pie": [
           {
            "automargin": true,
            "type": "pie"
           }
          ],
          "scatter": [
           {
            "fillpattern": {
             "fillmode": "overlay",
             "size": 10,
             "solidity": 0.2
            },
            "type": "scatter"
           }
          ],
          "scatter3d": [
           {
            "line": {
             "colorbar": {
              "outlinewidth": 0,
              "ticks": ""
             }
            },
            "marker": {
             "colorbar": {
              "outlinewidth": 0,
              "ticks": ""
             }
            },
            "type": "scatter3d"
           }
          ],
          "scattercarpet": [
           {
            "marker": {
             "colorbar": {
              "outlinewidth": 0,
              "ticks": ""
             }
            },
            "type": "scattercarpet"
           }
          ],
          "scattergeo": [
           {
            "marker": {
             "colorbar": {
              "outlinewidth": 0,
              "ticks": ""
             }
            },
            "type": "scattergeo"
           }
          ],
          "scattergl": [
           {
            "marker": {
             "colorbar": {
              "outlinewidth": 0,
              "ticks": ""
             }
            },
            "type": "scattergl"
           }
          ],
          "scattermapbox": [
           {
            "marker": {
             "colorbar": {
              "outlinewidth": 0,
              "ticks": ""
             }
            },
            "type": "scattermapbox"
           }
          ],
          "scatterpolar": [
           {
            "marker": {
             "colorbar": {
              "outlinewidth": 0,
              "ticks": ""
             }
            },
            "type": "scatterpolar"
           }
          ],
          "scatterpolargl": [
           {
            "marker": {
             "colorbar": {
              "outlinewidth": 0,
              "ticks": ""
             }
            },
            "type": "scatterpolargl"
           }
          ],
          "scatterternary": [
           {
            "marker": {
             "colorbar": {
              "outlinewidth": 0,
              "ticks": ""
             }
            },
            "type": "scatterternary"
           }
          ],
          "surface": [
           {
            "colorbar": {
             "outlinewidth": 0,
             "ticks": ""
            },
            "colorscale": [
             [
              0,
              "#0d0887"
             ],
             [
              0.1111111111111111,
              "#46039f"
             ],
             [
              0.2222222222222222,
              "#7201a8"
             ],
             [
              0.3333333333333333,
              "#9c179e"
             ],
             [
              0.4444444444444444,
              "#bd3786"
             ],
             [
              0.5555555555555556,
              "#d8576b"
             ],
             [
              0.6666666666666666,
              "#ed7953"
             ],
             [
              0.7777777777777778,
              "#fb9f3a"
             ],
             [
              0.8888888888888888,
              "#fdca26"
             ],
             [
              1,
              "#f0f921"
             ]
            ],
            "type": "surface"
           }
          ],
          "table": [
           {
            "cells": {
             "fill": {
              "color": "#EBF0F8"
             },
             "line": {
              "color": "white"
             }
            },
            "header": {
             "fill": {
              "color": "#C8D4E3"
             },
             "line": {
              "color": "white"
             }
            },
            "type": "table"
           }
          ]
         },
         "layout": {
          "annotationdefaults": {
           "arrowcolor": "#2a3f5f",
           "arrowhead": 0,
           "arrowwidth": 1
          },
          "autotypenumbers": "strict",
          "coloraxis": {
           "colorbar": {
            "outlinewidth": 0,
            "ticks": ""
           }
          },
          "colorscale": {
           "diverging": [
            [
             0,
             "#8e0152"
            ],
            [
             0.1,
             "#c51b7d"
            ],
            [
             0.2,
             "#de77ae"
            ],
            [
             0.3,
             "#f1b6da"
            ],
            [
             0.4,
             "#fde0ef"
            ],
            [
             0.5,
             "#f7f7f7"
            ],
            [
             0.6,
             "#e6f5d0"
            ],
            [
             0.7,
             "#b8e186"
            ],
            [
             0.8,
             "#7fbc41"
            ],
            [
             0.9,
             "#4d9221"
            ],
            [
             1,
             "#276419"
            ]
           ],
           "sequential": [
            [
             0,
             "#0d0887"
            ],
            [
             0.1111111111111111,
             "#46039f"
            ],
            [
             0.2222222222222222,
             "#7201a8"
            ],
            [
             0.3333333333333333,
             "#9c179e"
            ],
            [
             0.4444444444444444,
             "#bd3786"
            ],
            [
             0.5555555555555556,
             "#d8576b"
            ],
            [
             0.6666666666666666,
             "#ed7953"
            ],
            [
             0.7777777777777778,
             "#fb9f3a"
            ],
            [
             0.8888888888888888,
             "#fdca26"
            ],
            [
             1,
             "#f0f921"
            ]
           ],
           "sequentialminus": [
            [
             0,
             "#0d0887"
            ],
            [
             0.1111111111111111,
             "#46039f"
            ],
            [
             0.2222222222222222,
             "#7201a8"
            ],
            [
             0.3333333333333333,
             "#9c179e"
            ],
            [
             0.4444444444444444,
             "#bd3786"
            ],
            [
             0.5555555555555556,
             "#d8576b"
            ],
            [
             0.6666666666666666,
             "#ed7953"
            ],
            [
             0.7777777777777778,
             "#fb9f3a"
            ],
            [
             0.8888888888888888,
             "#fdca26"
            ],
            [
             1,
             "#f0f921"
            ]
           ]
          },
          "colorway": [
           "#636efa",
           "#EF553B",
           "#00cc96",
           "#ab63fa",
           "#FFA15A",
           "#19d3f3",
           "#FF6692",
           "#B6E880",
           "#FF97FF",
           "#FECB52"
          ],
          "font": {
           "color": "#2a3f5f"
          },
          "geo": {
           "bgcolor": "white",
           "lakecolor": "white",
           "landcolor": "#E5ECF6",
           "showlakes": true,
           "showland": true,
           "subunitcolor": "white"
          },
          "hoverlabel": {
           "align": "left"
          },
          "hovermode": "closest",
          "mapbox": {
           "style": "light"
          },
          "paper_bgcolor": "white",
          "plot_bgcolor": "#E5ECF6",
          "polar": {
           "angularaxis": {
            "gridcolor": "white",
            "linecolor": "white",
            "ticks": ""
           },
           "bgcolor": "#E5ECF6",
           "radialaxis": {
            "gridcolor": "white",
            "linecolor": "white",
            "ticks": ""
           }
          },
          "scene": {
           "xaxis": {
            "backgroundcolor": "#E5ECF6",
            "gridcolor": "white",
            "gridwidth": 2,
            "linecolor": "white",
            "showbackground": true,
            "ticks": "",
            "zerolinecolor": "white"
           },
           "yaxis": {
            "backgroundcolor": "#E5ECF6",
            "gridcolor": "white",
            "gridwidth": 2,
            "linecolor": "white",
            "showbackground": true,
            "ticks": "",
            "zerolinecolor": "white"
           },
           "zaxis": {
            "backgroundcolor": "#E5ECF6",
            "gridcolor": "white",
            "gridwidth": 2,
            "linecolor": "white",
            "showbackground": true,
            "ticks": "",
            "zerolinecolor": "white"
           }
          },
          "shapedefaults": {
           "line": {
            "color": "#2a3f5f"
           }
          },
          "ternary": {
           "aaxis": {
            "gridcolor": "white",
            "linecolor": "white",
            "ticks": ""
           },
           "baxis": {
            "gridcolor": "white",
            "linecolor": "white",
            "ticks": ""
           },
           "bgcolor": "#E5ECF6",
           "caxis": {
            "gridcolor": "white",
            "linecolor": "white",
            "ticks": ""
           }
          },
          "title": {
           "x": 0.05
          },
          "xaxis": {
           "automargin": true,
           "gridcolor": "white",
           "linecolor": "white",
           "ticks": "",
           "title": {
            "standoff": 15
           },
           "zerolinecolor": "white",
           "zerolinewidth": 2
          },
          "yaxis": {
           "automargin": true,
           "gridcolor": "white",
           "linecolor": "white",
           "ticks": "",
           "title": {
            "standoff": 15
           },
           "zerolinecolor": "white",
           "zerolinewidth": 2
          }
         }
        },
        "title": {
         "text": "Distribution of standard deviations of O2 Saturation measurements"
        },
        "xaxis": {
         "anchor": "y",
         "domain": [
          0,
          1
         ],
         "title": {
          "text": "value"
         }
        },
        "xaxis2": {
         "anchor": "y2",
         "domain": [
          0,
          1
         ],
         "matches": "x",
         "showgrid": true,
         "showticklabels": false
        },
        "yaxis": {
         "anchor": "x",
         "domain": [
          0,
          0.7326
         ],
         "title": {
          "text": "count"
         }
        },
        "yaxis2": {
         "anchor": "x2",
         "domain": [
          0.7426,
          1
         ],
         "matches": "y2",
         "showgrid": false,
         "showline": false,
         "showticklabels": false,
         "ticks": ""
        }
       }
      }
     },
     "metadata": {},
     "output_type": "display_data"
    }
   ],
   "source": [
    "# Estimate the uncertainty of an o2 sat measurement\n",
    "# Take the healthiest individuals and compute the standard deviation of their measurements\n",
    "# Plot a histogram of the standard deviations\n",
    "# Take the mean as the std of an o2 sat measurement\n",
    "\n",
    "\n",
    "def get_std(df):\n",
    "    \"\"\"\n",
    "    If there are more than 10 values, compute the standard deviation\n",
    "    Else, return NaN\n",
    "    \"\"\"\n",
    "    if len(df) > 10:\n",
    "        return df.std()\n",
    "    else:\n",
    "        return np.nan\n",
    "\n",
    "\n",
    "df_std = datah.compute_avg(df, \"FEV1 % Predicted\", \"%\")\n",
    "print(f\"{df.ID.nunique()} IDs\")\n",
    "# Filter healthy individuals\n",
    "df_std = df_std[df_std[\"FEV1 % Predicted\"] > 80]\n",
    "print(f\"{df_std.ID.nunique()} healthy IDs\")\n",
    "\n",
    "stds = df_std.groupby(\"ID\")[\"O2 Saturation\"].agg(get_std)\n",
    "stds = stds.dropna()\n",
    "print(f\"{len(stds)}/{df_std.ID.nunique()} IDs with > 10 measurements\")\n",
    "\n",
    "# Print avg std\n",
    "print(f\"Average std: {stds.mean()}\")\n",
    "print(f\"Median std: {stds.median()}\")\n",
    "\n",
    "# Plost histogram of stds\n",
    "fig = px.histogram(stds, nbins=20, marginal=\"box\")\n",
    "fig.update_layout(\n",
    "    title_text=\"Distribution of standard deviations of O2 Saturation measurements\"\n",
    ")\n",
    "fig.show()"
   ]
  },
  {
   "cell_type": "code",
   "execution_count": 121,
   "metadata": {},
   "outputs": [
    {
     "name": "stdout",
     "output_type": "stream",
     "text": [
      "93.473881565419\n",
      "93.34408539888815\n",
      "93\n"
     ]
    }
   ],
   "source": [
    "# Randomly generate a number in the range 90.0-100.0\n",
    "x = np.random.uniform(90.0, 100.0)\n",
    "print(x)\n",
    "# Add gaussian noise to the number with a standard deviation of 0.9\n",
    "x = np.random.normal(x, 0.9)\n",
    "print(x)\n",
    "# Round x to the nearest 1\n",
    "x = round(x)\n",
    "print(x)"
   ]
  },
  {
   "cell_type": "code",
   "execution_count": 2,
   "metadata": {},
   "outputs": [
    {
     "name": "stdout",
     "output_type": "stream",
     "text": [
      "Std of values giving 95: 0.9102\n"
     ]
    },
    {
     "data": {
      "application/vnd.plotly.v1+json": {
       "config": {
        "plotlyServerURL": "https://plot.ly"
       },
       "data": [
        {
         "autobinx": false,
         "histnorm": "probability",
         "type": "histogram",
         "x": [
          94.26346365598215,
          93.98410542524249,
          94.6513719149388,
          93.59095713522632,
          94.56089029236031,
          94.35029715908595,
          96.20337002277586,
          94.24440249656473,
          96.53328620847668,
          94.78027014673695,
          96.29077912206506,
          94.44433300841438,
          93.76570752167677,
          94.71031978965037,
          94.43024378365368,
          95.34533792388292,
          94.23168945233587,
          94.98826608610179,
          93.33612777931747,
          95.14551538440776,
          95.14633510305114,
          95.13775364791499,
          95.9746925906034,
          96.98271620861973,
          95.59588123298022,
          94.60759902739906,
          94.70656665280215,
          95.673999983995,
          93.20370221547115,
          96.00071193451475,
          93.88178428351938,
          94.25368728092536,
          94.31907668776446,
          95.40405091805928,
          94.32068530673862,
          96.23301885683686,
          94.18026954484512,
          95.0696065426926,
          93.25805955269541,
          97.67316830733576,
          96.28484299988475,
          95.79186517477056,
          93.55410553001093,
          95.09267142036084,
          95.66810167869096,
          95.01047551128836,
          94.34722343673022,
          94.20469017687736,
          94.76379662508151,
          93.92681431109993,
          93.35697662346222,
          93.90242848863491,
          96.39887341499139,
          97.85773412996807,
          93.28747959544683,
          93.55893972206617,
          94.28452418251459,
          96.22091070742148,
          93.79809550572804,
          95.01139074987341,
          95.65471356726329,
          94.86905668598902,
          94.66179379728251,
          93.60408976239684,
          94.29219670541876,
          96.01272496483875,
          95.4902350632194,
          96.19161156073967,
          96.96987837397558,
          94.44565325726171,
          94.3580560377699,
          93.49342671665721,
          95.62173039323778,
          94.93937770554726,
          94.13514270247458,
          93.81802895083842,
          97.33381192650762,
          93.67814885709673,
          95.30339458277015,
          95.44026135371105,
          94.04716460608012,
          93.51520867335057,
          93.99274242170665,
          93.01056577618039,
          94.33283256868305,
          95.79703380344748,
          96.17978066496124,
          94.81179088309563,
          95.26856194304608,
          97.04440928443265,
          94.04249072943057,
          95.76988783795557,
          94.40964725731722,
          96.30981430675664,
          94.12402073770073,
          95.17425415945783,
          96.57527115776193,
          94.46392132518525,
          95.49022768866843,
          95.36469511609587,
          94.73553517740714,
          96.59850062004628,
          95.87840685334663,
          94.695472385154,
          94.87813316248221,
          95.5686573775946,
          94.74405735071181,
          95.38447995689046,
          96.65176037054314,
          94.18703866585874,
          95.1450498117189,
          95.20115572622132,
          95.84166933254154,
          95.5074565638085,
          94.30250279878845,
          95.55424184275542,
          94.29923126600335,
          94.93827216808128,
          95.42476320360632,
          95.36808360722493,
          96.0364880116658,
          95.27768823594724,
          93.63597757323024,
          93.86530056186672,
          94.47763788749344,
          94.5016332948586,
          96.10057298405675,
          96.07614003002982,
          95.33874868658853,
          94.53648867497995,
          95.07665733643073,
          94.6838188671631,
          95.04615249458767,
          93.92502101411924,
          96.00978013723832,
          94.64339073522727,
          95.42067049916702,
          95.59680403444483,
          95.49277465030244,
          94.80744122742666,
          95.33062413180761,
          94.53298101439185,
          96.25402349766453,
          94.83308629177137,
          94.76578296195461,
          93.33554700809452,
          95.00388490365496,
          96.3377952945603,
          95.18168579405807,
          95.37665571232901,
          94.6557945686504,
          95.45855735166865,
          94.42552937394777,
          93.9331157344975,
          95.83984965083744,
          95.8276237235975,
          95.62093927246227,
          94.78885006683171,
          94.83741734546044,
          94.15996737988911,
          91.39821798217315,
          94.47981499100517,
          96.63347296890292,
          95.60658744167952,
          96.9371501853204,
          95.48853449303793,
          96.04289727445646,
          95.99862220234226,
          94.19618235202141,
          95.06961864571775,
          95.80593759883197,
          97.11408089683059,
          96.43291214319,
          94.56598776768573,
          95.88341003394315,
          94.82645061900817,
          95.619342235513,
          95.80522219221136,
          92.7903524868532,
          95.48576432350828,
          93.92838184252659,
          94.16866637125949,
          93.82774920461725,
          94.29249371006159,
          95.07824408755786,
          95.54565758762787,
          96.3121982728616,
          94.93005174827252,
          96.36062332351148,
          94.61437622692316,
          95.5630568263218,
          95.87842573840965,
          95.50608030395423,
          94.78008994160258,
          92.94197069656315,
          93.26593149705678,
          95.41845005642685,
          95.33376548191131,
          95.29589814803089,
          95.73404244549158,
          95.07089379854776,
          96.03642340126895,
          95.64394015471562,
          94.43825480568063,
          94.58968155369823,
          94.76786199534178,
          93.73557381382457,
          96.03758681012235,
          96.38068836419612,
          97.04165421483043,
          96.13371981488893,
          95.48712464048808,
          94.29200850545311,
          94.9436502217088,
          95.21517765699504,
          95.77832036089403,
          96.10226695102929,
          94.44542249489056,
          95.27718737436376,
          96.0157396895347,
          96.92147474431567,
          95.45042097478031,
          93.74882334527365,
          96.86719813476567,
          95.62842840763071,
          94.45849668307436,
          93.63171731289879,
          94.78941147787856,
          95.25451106165927,
          95.57091461336864,
          95.47195785182993,
          95.61373376870516,
          93.95164750472208,
          96.79056301754594,
          94.40071473465518,
          95.7840730398908,
          94.57102718282682,
          95.33258225253755,
          94.2025003829059,
          94.12954999801892,
          96.51414958468793,
          94.09031191977496,
          94.77356860468677,
          96.19044712642149,
          96.242527542518,
          94.37807204623053,
          95.74749087008928,
          94.81721811183232,
          93.05346078335609,
          95.62247007391677,
          94.40698483036623,
          95.56554663500849,
          93.37038381096028,
          94.85467453303947,
          93.90186665226847,
          94.61262295205508,
          96.19187143101715,
          93.8496029425649,
          93.45712889898329,
          94.35392572731288,
          95.8505823173983,
          94.8559972300327,
          95.48788317871193,
          96.35865968276423,
          93.79969843429967,
          94.0023534809554,
          96.05385381942139,
          96.26107879821225,
          94.63207765433191,
          94.8009924903314,
          95.08120134829704,
          94.53743570291454,
          93.8224282729576,
          95.15248049424994,
          95.16178231134839,
          94.42329503364329,
          95.0529027462764,
          94.27825775667677,
          94.32428774039602,
          93.83784465768761,
          94.08011212758177,
          94.37493708331803,
          93.84694973853769,
          94.69976671117969,
          93.54259567099633,
          94.33418827394974,
          95.51382095928594,
          93.50611702443084,
          95.34742479208393,
          95.26129718566963,
          93.97050286167087,
          94.94562087393327,
          94.81921093683255,
          95.07265455858081,
          94.82636586535392,
          96.21169020951739,
          95.01065827358521,
          93.98561184497305,
          94.66851730040923,
          94.9776536186022,
          94.24018021552482,
          95.68833722393387,
          95.02927315423813,
          95.72075862982157,
          95.5769939447544,
          94.67028142712819,
          93.69886202331756,
          94.21903807121322,
          94.56707560623045,
          95.3114013242785,
          94.36504721832173,
          95.10728110157658,
          97.1912785226337,
          95.47652507181658,
          94.75911901860691,
          95.14682866091215,
          94.79444344587658,
          97.13922692928293,
          93.79832935516731,
          95.24994402407893,
          95.0538033026992,
          95.02470995855485,
          96.45322595974687,
          95.60360717745365,
          96.27449069837007,
          93.60902641109254,
          93.36472556728238,
          95.6498324335745,
          95.42977742712878,
          95.00841603519834,
          94.1672570413509,
          95.42076332849459,
          95.23623299970257,
          95.46337340983928,
          94.47726599325742,
          96.91871648799072,
          95.7076483553635,
          94.46772587133262,
          94.94344222198097,
          95.50954638566543,
          95.74376667492832,
          95.06830598356932,
          94.060247092488,
          95.00704853763315,
          96.36066753543648,
          94.82600130856842,
          94.1752618810071,
          94.37835703278029,
          95.1935512342795,
          95.43850629511469,
          95.78980410449151,
          94.69050223464724,
          95.70257438821832,
          94.85324007425277,
          95.34832217887802,
          95.4535887122864,
          95.21113433750259,
          94.74924991999477,
          96.03906718155847,
          94.33689065347392,
          94.34979974689776,
          95.28486770903794,
          94.70836177282084,
          94.52662063309492,
          96.20275401099924,
          95.00203884169275,
          95.52705441726935,
          95.13432318658352,
          95.02566462079182,
          94.61429689435741,
          94.37045935985358,
          95.39036281178096,
          95.73406846025739,
          94.60791934999214,
          94.90467322457118,
          93.72893271397707,
          95.8086131394485,
          96.64244306773713,
          95.34047808198005,
          95.83277034210981,
          95.23347000789056,
          94.71815585164954,
          95.19880553345826,
          94.30087706539751,
          97.35340207920726,
          95.09186112206291,
          95.94442671253671,
          95.41510314686667,
          94.03922585935962,
          95.51246592416194,
          94.72913622245633,
          96.13852324232992,
          93.81520087889444,
          93.59203688570605,
          95.32675666925587,
          95.58619258616085,
          95.41496585699775,
          94.84682720365626,
          94.73225901587006,
          94.15163021333478,
          96.44671187364551,
          94.16004437571854,
          95.92957035400909,
          95.28752526638145,
          96.36495527376303,
          94.4138572112285,
          93.83629047735216,
          95.58911281419273,
          95.99734459425719,
          93.58678221561425,
          95.06854051837125,
          96.14409004204335,
          94.36997117695357,
          93.20125526605644,
          95.11758778172371,
          94.02561630867748,
          95.42799131410219,
          93.92995100558343,
          94.86768390231194,
          93.60295883158688,
          95.70581242954988,
          96.39254107160022,
          95.196539065412,
          96.07911700103561,
          93.5988919575102,
          97.79035413488859,
          94.96405891222366,
          96.36657535703341,
          94.43714693730925,
          95.51487638609659,
          94.9781918560041,
          94.65456245333385,
          94.51331675650252,
          94.62283573203123,
          94.62605275067548,
          95.18584271451303,
          93.6494765769418,
          94.42850551074258,
          94.83854998961797,
          94.3606587098017,
          95.05051814017627,
          95.98967647043634,
          95.42395721693268,
          94.56252538481388,
          93.28172691820471,
          93.29556548612175,
          94.23946448391968,
          94.84338342913122,
          94.81578464784633,
          95.71388237229046,
          93.31870540928509,
          95.59564931560732,
          94.29968230533913,
          95.12129746172121,
          95.43120932175218,
          94.66838411808678,
          94.95847024346804,
          97.05806460816933,
          96.36108532986567,
          94.08381434899744,
          95.10643022394684,
          95.49998097425635,
          95.24185497114075,
          95.09116123859347,
          94.45216594944743,
          94.5107785111363,
          94.9713760021208,
          95.56855017975455,
          94.97605207686186,
          93.48914618439038,
          95.61820919399634,
          93.53089266134064,
          95.35376412793914,
          95.72474712705517,
          94.3663716318784,
          96.52383293253727,
          93.27804576244196,
          94.19708245407898,
          94.91050250614953,
          95.72118217258613,
          95.11685890735018,
          94.51442426195214,
          95.11208177789595,
          94.91086085210534,
          96.25289936821233,
          92.78834475733112,
          94.67354007965014,
          94.22341012163135,
          94.80039039843321,
          94.63468244661797,
          92.21948943026831,
          96.20202920996871,
          96.84992088420016,
          95.35010486297797,
          96.67416469361805,
          95.68445317204842,
          95.12931193391898,
          95.5965678950187,
          95.17917791249687,
          94.48439361104289,
          96.1526592062385,
          95.51657158562807,
          93.9454133445617,
          94.43511009666544,
          95.23595786530854,
          96.66216325749213,
          93.66076241442698,
          94.0274920255959,
          95.60773558315984,
          94.72486481835494,
          93.95778055062567,
          95.500231227508,
          93.41747418158931,
          93.79685425760485,
          94.91090954986453,
          94.791915915023,
          95.4689179965363,
          94.40118292731685,
          92.69946092310781,
          96.40109637157566,
          95.9269246087438,
          95.81801067173144,
          95.45616342132365,
          95.20735280672915,
          93.30395230201177,
          94.27318033794762,
          95.40458952454682,
          93.63877346239111,
          97.39290974079388,
          95.33868173918694,
          94.54550799864558,
          93.0201781135751,
          94.4211262584181,
          96.84555713290185,
          94.92732823021728,
          94.34057633687098,
          93.84083143170601,
          95.54542800399511,
          95.34803662618103,
          96.19987243280346,
          94.94920669951419,
          94.65136017988235,
          96.31278304649305,
          95.40822928119537,
          93.28059867832107,
          94.61883497560689,
          95.44470489983318,
          94.25690485512425,
          95.31421254574704,
          94.76394917079425,
          96.02444569757256,
          94.34964288100757,
          94.35736918315253,
          94.1446574917558,
          94.46743785951818,
          96.45497867404744,
          95.13888964873266,
          96.55765724900704,
          94.66092125646709,
          94.48272665449745,
          96.45311990776443,
          93.59318894586477,
          95.26693139733487,
          95.55250661338127,
          95.11107844700396,
          96.23812525575674,
          94.3009568076566,
          93.46754675187302,
          94.65355433584668,
          94.6129108096291,
          94.46243721379888,
          94.26825041123205,
          95.8383763856901,
          95.52626095802312,
          94.02557428105558,
          95.08115813452065,
          94.51066961236832,
          95.17530273065807,
          92.97359089513128,
          94.23422060536988,
          94.86220569001141,
          95.83666800181584,
          93.2591073673501,
          95.77537135063208,
          94.17562424552167,
          96.04707964598163,
          94.67923094883324,
          94.510310614183,
          95.118453744383,
          96.34870388004234,
          96.39902998381172,
          94.55459491374762,
          96.06039429954828,
          94.9190967384942,
          94.53281511678642,
          95.10133346110683,
          94.39051210897695,
          93.6172678788399,
          94.37379287438227,
          93.8714084522941,
          93.74667339934024,
          95.4131158913041,
          94.9986765702707,
          95.18472919417657,
          93.08111101927338,
          94.41974351566485,
          93.61816535007591,
          96.02316176448043,
          95.36696594548934,
          94.2713965120067,
          94.990302519948,
          94.73952080804393,
          95.50099473883978,
          95.5886586635093,
          94.54254236437652,
          96.00936245000372,
          94.36903648670784,
          95.73010587029174,
          94.78660275536157,
          95.91756691420402,
          95.11729630489285,
          93.97123431259774,
          96.13951665321213,
          94.51432337538064,
          93.38156394410979,
          95.56083035794492,
          96.71349663384942,
          94.22563126045344,
          94.03102461253195,
          95.85066914419744,
          94.71273923694689,
          95.08936333245776,
          94.7906089884616,
          94.82777258309594,
          95.32047268412958,
          93.45617492088593,
          94.68731703604635,
          95.83442845916628,
          94.30276178395681,
          93.65189565029819,
          94.89184707017121,
          94.22499283395788,
          94.24922081429415,
          96.44653208973978,
          95.01377268278328,
          94.38580892155206,
          97.50030851092124,
          94.7436536207085,
          95.5761858014221,
          95.63350858438137,
          96.28567927562187,
          93.47414293639943,
          95.65420085866903,
          94.48546349249375,
          95.98199200733866,
          95.36696890807139,
          94.97277152727398,
          95.92493607111608,
          94.9555335639329,
          93.98618332201497,
          93.97590358207151,
          94.79794746442613,
          93.87398406026284,
          96.73145200543257,
          93.81376332204233,
          95.18403702162001,
          94.16026537303689,
          94.72729190473862,
          95.84385897701259,
          96.23425709371088,
          94.92972749941441,
          97.14262491951067,
          94.57249249728679,
          94.03065673501231,
          94.29444028172435,
          94.96688600220116,
          94.99624130014075,
          94.64881298490491,
          95.55150132029064,
          94.63471370826218,
          93.84408568039919,
          94.89627411818239,
          95.81840452902726,
          95.09291253398602,
          94.97713446938866,
          93.54260929972662,
          95.33896989023548,
          94.42435912511135,
          93.6886511733911,
          95.58831389121585,
          95.70992543550412,
          94.82082426673614,
          95.27839579988421,
          95.06573905065068,
          95.09897795478093,
          93.45126735742663,
          95.24319739927043,
          95.0452302161588,
          95.57455685950548,
          94.0370572766007,
          94.76806475624866,
          95.0294019180042,
          94.04631076241165,
          95.96291811278323,
          93.81566386135863,
          96.56642063838042,
          94.08753258204095,
          94.11542420455095,
          94.12626512061246,
          94.48086286238342,
          95.49747153817356,
          93.66119259115078,
          94.45262411146135,
          95.08417296332416,
          94.55041731206595,
          95.32018992228971,
          96.84171351636243,
          94.06020554137955,
          94.34210079744079,
          93.4588720860091,
          93.04520914383599,
          93.24895732699213,
          95.2476470951309,
          96.2817124023862,
          95.31200653091334,
          94.72337661906045,
          94.37429083148011,
          96.01278848795634,
          95.18229873828427,
          96.18856134945162,
          95.15371002379376,
          94.23880129965252,
          95.21039429083521,
          94.61513651003423,
          94.81141387079623,
          95.62254738693275,
          93.86680742860386,
          94.30463808553189,
          93.99506873913873,
          95.5951009766452,
          95.28821586050992,
          93.96703668354861,
          95.23784652633275,
          95.51055326957146,
          92.98316031096749,
          95.73970796868707,
          96.03372421516046,
          95.03239650490187,
          94.90004488274971,
          96.2540771418399,
          94.3302840958252,
          94.50111580502264,
          94.94887452142072,
          95.43365461384698,
          95.30570011622027,
          93.96541509159366,
          94.27779817242782,
          93.45879771401513,
          95.13008327823322,
          95.56051929314715,
          95.7626055961939,
          95.2052222607706,
          95.38714374144107,
          94.26732105269973,
          95.42544965589153,
          93.84610618045724,
          95.40198569967626,
          93.58984216050754,
          94.91922371759831,
          95.45520768672709,
          94.75251649329883,
          94.02395457558731,
          95.15638250305402,
          93.54818424571549,
          95.20094289213361,
          93.91886154440516,
          94.58041760134768,
          93.73889192204294,
          95.48252605578264,
          93.79163638542772,
          95.79829361550657,
          94.74350815025724,
          95.75797743846601,
          94.4748989403382,
          95.13703867733621,
          97.19348186377631,
          94.32130810273989,
          95.35908346679535,
          93.2617870912967,
          94.22486963986361,
          94.78480745941312,
          94.38608017282333,
          96.15451944742891,
          94.70596519348092,
          95.22866099816812,
          94.52924536804089,
          95.99516205753817,
          96.24089412530319,
          94.85079043056014,
          94.77544146846387,
          95.27247937810597,
          95.5831893676154,
          93.55547393005804,
          95.48940183764068,
          95.21808203250174,
          94.05747396292459,
          94.77659225770407,
          95.29037533157168,
          95.1261177683374,
          94.92363843916291,
          95.202878866838,
          94.22567511989882,
          94.50996166188095,
          93.6747155832335,
          94.41875841255884,
          94.45701520876167,
          95.3077195682187,
          95.25036825010466,
          96.02085717566729,
          94.67325294010442,
          95.14468845792125,
          93.84548506885751,
          94.92697340158739,
          94.91006209958007,
          95.70445486123124,
          94.85236416562861,
          95.41285822409094,
          95.54782031989626,
          94.15395501278192,
          95.6005574766295,
          94.5276662280921,
          94.71520707591216,
          94.28468026940095,
          96.30718751307305,
          94.9290832632717,
          95.5155858828727,
          95.05371882965729,
          95.75427412428863,
          95.23023490083597,
          94.28879159447371,
          96.19182375896807,
          94.50314222919079,
          94.31727560970653,
          94.51291396966812,
          94.85774337566336,
          95.55818554277042,
          95.63152485592285,
          95.15655695211476,
          94.30201989190604,
          95.27812447133216,
          94.35236155615515,
          96.49452248298289,
          97.43964344993287,
          94.49754811256301,
          95.22689929861278,
          94.87907346548792,
          93.12919537810492,
          95.21033541257962,
          96.07869067820779,
          96.19783174171063,
          93.39687572109241,
          94.88486674713991,
          94.56989021066609,
          95.08703997942166,
          94.33646965380208,
          94.30846695688382,
          93.5749236856262,
          96.51482708820137,
          93.97620140422782,
          94.92052955667266,
          94.76327328240683,
          95.1490429600766,
          92.82865408731985,
          96.27074193296012,
          94.37323748264001,
          94.61376360283239,
          94.35032355390211,
          93.47861940994252,
          95.41331746023056,
          95.46241766643868,
          93.58511282019268,
          93.5534978685537,
          95.13022285479471,
          95.75941130989324,
          94.91107292172052,
          94.45776959033583,
          96.021118428613,
          93.14786714666836,
          97.79653806012863,
          96.03596986822322,
          95.12623150581817,
          94.27909335350837,
          97.2566760772001,
          93.92086929615468,
          95.61652307603111,
          92.92357104899898,
          95.35666147677856,
          95.03552838091095,
          95.4203909539766,
          95.11638031729166,
          95.00733938435609,
          94.90493382397747,
          94.53617093123412,
          94.02651934978762,
          95.03359336491914,
          95.11026408491595,
          94.78239141918816,
          94.49895058920605,
          94.62474920903946,
          96.06002762026066,
          95.4026958246059,
          96.27656222248477,
          96.12315128728727,
          95.15558101728521,
          95.21258365257657,
          95.36373855598208,
          94.07470209752039,
          96.3878479389154,
          95.7934014193604,
          94.3667058769723,
          93.7914631999918,
          94.82675085804232,
          94.34538119022584,
          93.28584048975962,
          92.54649776788045,
          95.43015292866275,
          96.45986427350503,
          95.29622292946553,
          93.26745354339165,
          95.6710407944183,
          95.42739156056265,
          94.6675823890915,
          95.7175923752656,
          95.71109360389184,
          94.90340784061816,
          93.46376391674814,
          95.71882024068415,
          94.6664372844647,
          96.15480978039848,
          95.02244284994595,
          95.67887738086533,
          94.74340258819876,
          94.9180452266601,
          95.52222865159357,
          95.66674249423338,
          95.50588928871113,
          95.35871332493151,
          95.83403082954908,
          95.80112469823112,
          95.35546533531213,
          95.50252038373608,
          95.39416207635051,
          94.49764412744219,
          94.8252870728753,
          94.97038550604964,
          94.82348730754441,
          94.51766132036377,
          94.73783659412274,
          94.91025709550078,
          95.32446297252744,
          95.06723667632889,
          96.61072840838328,
          95.16561757572416,
          96.11411577173472,
          94.94761170935654,
          94.80252395002175,
          94.87784123159662,
          95.0761793823038,
          95.27706346877085,
          94.84432308159617,
          94.52193301574239,
          94.34009871921234,
          94.87832233985739,
          94.78614917294625,
          94.94456959015716,
          94.47036454554343,
          95.35489943863939,
          94.27700467673294,
          95.1315135105622,
          95.22921526507389,
          95.18960832415186,
          94.55245344947677,
          95.56629455501995,
          95.18826713359451,
          94.92693200566782,
          95.4039441928445,
          95.22674208663037,
          94.5750554043836,
          93.53056703836673,
          93.82526649236628,
          94.73179495604118,
          96.74853784942326,
          95.62658787379843,
          95.67583561331716,
          94.00879737764762,
          93.92976898212511,
          95.66145469899043,
          94.25479299461173,
          95.62059537077653,
          93.6082478527622,
          93.55704232948797,
          94.82945114397974,
          96.68710277408694,
          92.99908986411162,
          94.29673252492533,
          93.54757177985776,
          94.84956278263238,
          94.9526480936081,
          93.53670361953948,
          95.59723244046135,
          93.31003830706919,
          94.55483498039456,
          93.8270061432451,
          95.2962868177003,
          95.71888589731267,
          94.94277200030517,
          93.94847427377685,
          95.31718542138381,
          94.80069617530572,
          94.38602601504012,
          95.25822403950474,
          95.05142607969819,
          95.42660925589794,
          93.29246558806548,
          95.67854990610823,
          92.43538067019028,
          92.72756245845738,
          94.02230693894683,
          95.382886941618,
          94.84735263187567,
          93.75328554121293,
          93.98550420955301,
          96.01955966863892,
          95.37801122281405,
          95.59735256409323,
          95.49480322272254,
          95.35712029928564,
          94.5861622693653,
          95.90662406733867,
          96.3258038679767,
          93.47983517811215,
          96.0365942566128,
          95.13752791492956,
          93.4854615154782,
          95.12118723815226,
          95.21359719774121,
          95.04503406133537,
          93.92216564049676,
          95.44853819076184,
          94.27577018868976,
          95.07913698622235,
          94.89937598357315,
          95.09215687648259,
          95.4852173363145,
          94.29170903480892,
          94.88297376021296,
          96.19956898491584,
          95.77370018108115,
          95.24458711545023,
          94.23413906745691,
          95.16917654087362,
          96.47433863657987,
          94.2992512942458,
          95.35079872289693,
          94.87898712874838,
          96.39281989335367,
          93.62476235210663,
          95.13229528702729,
          95.23319464340327,
          96.00574417162557,
          95.37300870213838,
          95.1940471700329,
          94.64252767783773,
          94.62707854967769,
          94.940938765003,
          92.80283469569152,
          93.6865874870789,
          95.33016977636655,
          96.63720995387348,
          92.9292896177153,
          94.09471374527988,
          94.21721711852119,
          95.56813526566633,
          93.89015738245904,
          95.17579373834661,
          94.33752353625971,
          95.0631521286274,
          94.46223270738193,
          95.5436383285518,
          96.27721932387854,
          94.7718247771057,
          93.94716787580319,
          95.264703854991,
          95.97870035523877,
          95.59183031588574,
          95.0602977724899,
          95.80926061598072,
          96.72222684502593,
          95.61537933772956,
          94.28431080183366,
          94.56129393575267,
          94.09632917468538,
          94.52872827538886,
          94.89451186273783,
          94.75272076210837,
          93.60211151430343,
          95.71987784046263,
          93.88998521686946,
          93.2030139051679,
          94.17388162575736,
          95.53068573402192,
          94.63140854130067,
          94.87094337042987,
          94.84667880297934,
          94.06244318786449,
          96.64699589412072,
          95.37289790748318,
          96.22411383072031,
          94.26874431754327,
          94.4958197544785,
          95.27914359138236,
          94.27626079834047,
          96.60444361742125,
          94.79311493631954,
          95.9433934409902,
          95.71848298353376,
          95.68090633306574,
          94.90331896803244,
          95.04540238965082,
          94.70524038134087,
          92.93969820623508,
          94.20358624305274,
          95.10350864798228,
          94.44529028021219,
          95.92070116517274,
          96.95077288808722,
          95.47542233060952,
          93.85087839477757,
          94.90499681633804,
          94.6644396336386,
          94.94261671655187,
          94.14501549803232,
          96.61017485257607,
          95.17225947792889,
          95.5002812216027,
          94.47732059490093,
          95.06058690910245,
          94.68989280167456,
          94.79184861128452,
          96.8324921213225,
          96.11194850241033,
          93.97711568802785,
          95.22342039220652,
          93.87633067469284,
          94.48231111395498,
          96.0967985930379,
          94.78637958539639,
          94.25942630855272,
          95.90733284074913,
          94.16731437694227,
          95.25692235019908,
          95.98713593079779,
          95.34062017838855,
          94.8572244638106,
          95.18068927077854,
          94.52893366014567,
          95.20199804610684,
          96.3193964862704,
          93.46499178426322,
          94.56077019985486,
          97.33122043901278,
          95.0150677260369,
          94.48716914794758,
          95.96527750764515,
          95.20236090543293,
          96.38751509153114,
          94.63916137277207,
          94.59439750681025,
          94.45234922652823,
          95.76218453818488,
          95.13384294813842,
          94.72104300131778,
          94.78496437460475,
          94.88630966927708,
          94.20160202200582,
          95.59106416088676,
          96.6665788209288,
          94.70123532657945,
          97.05724701943346,
          95.71160869865308,
          94.89554702914494,
          95.70994655995915,
          94.8960487793797,
          96.02868158444399,
          95.82524557530121,
          95.13648123646561,
          95.18653848616947,
          95.69849485448526,
          95.38505091873947,
          94.76363961069177,
          94.04880826572744,
          96.2986410837093,
          96.59312070429506,
          94.45895954242305,
          94.70622459943068,
          94.72994370103015,
          95.07064802094646,
          93.89384587404555,
          93.25763634733912,
          94.50896803331378,
          94.0853075509946,
          95.2930940844063,
          94.99302472872623,
          94.29104321460528,
          93.82550119240628,
          95.0541666154588,
          94.5282060454849,
          93.72133683260526,
          93.4858634396119,
          95.95230859535108,
          94.19020391086005,
          94.92064048373435,
          93.99916160192281,
          96.35772951311912,
          93.75358861324094,
          95.7358020053841,
          94.33414188358434,
          94.82991168616161,
          93.47464962678842,
          95.52087650604648,
          94.71195512192057,
          94.62831199922907,
          95.36347174516561,
          94.55327110818115,
          94.69014605455408,
          95.62618465140359,
          94.77456018518507,
          94.83395287441326,
          95.59864607853825,
          95.01465445538717,
          97.13679330989896,
          93.70595194107989,
          94.94691100369376,
          93.89051318363215,
          95.30072932211172,
          96.55849036329737,
          94.36439785179883,
          94.47503201556788,
          95.21537485879219,
          94.96375330811571,
          94.650529431789,
          94.81403960823633,
          95.65382768328068,
          95.82370421207938,
          95.8506497659824,
          94.05723096050201,
          95.21705711710715,
          93.90608016539565,
          94.87365015828928,
          96.12599890064313,
          95.38447614007556,
          94.65163372896083,
          96.08460658771833,
          93.54633431756154,
          94.80036419566753,
          94.82021092714079,
          93.33241065990788,
          94.07433133943346,
          95.45635208902976,
          94.24721025851667,
          95.19803986065138,
          97.35876287362842,
          94.9547376192061,
          94.88163685739684,
          95.02034685977074,
          93.20627172617817,
          96.04112809981163,
          93.88894162346293,
          94.14420620480448,
          97.26608276598036,
          95.55823283339564,
          95.14205442392196,
          95.58804899887463,
          95.13158789611207,
          94.97351635941098,
          95.42976919888065,
          94.63087003750067,
          94.71913333021936,
          95.07594431300116,
          97.30937695120338,
          94.40195720822204,
          95.0525163018637,
          97.20029434574705,
          94.62401214571966,
          94.37735750300081,
          94.6879586097986,
          93.96754262947438,
          96.37182603186028,
          94.86582254722018,
          95.33452013075582,
          94.26399561674296,
          94.95918180631017,
          93.73297255408283,
          94.7997777123766,
          94.23952888847484,
          94.34616197902162,
          94.98477788492065,
          94.90213204814873,
          91.75332733197155,
          95.21534968421707,
          93.82044316939975,
          96.11631290167034,
          93.98147910586796,
          94.94363198318436,
          94.05508064302656,
          95.55968602128193,
          94.36953681109947,
          95.01631636030768,
          95.89770303114918,
          93.43683533126438,
          96.2072657740982,
          95.03698812597275,
          93.22741300474877,
          96.46918165863498,
          95.71709250499859,
          93.94719259179449,
          95.56496058646985,
          95.51480271850423,
          93.95334881554687,
          95.84695771919064,
          94.08607106582852,
          95.95636142612577,
          94.63915985523337,
          94.87558059414846,
          94.08091949011326,
          95.21393948890363,
          96.20928401426683,
          94.69694963448683,
          95.29205179972558,
          95.03937177056532,
          94.69247513944634,
          96.30147305319946,
          96.12954147968284,
          92.97947129591323,
          94.89369689080851,
          94.78005127980197,
          94.93432328927983,
          95.01220677691558,
          94.54441082261562,
          94.44606550477701,
          95.67169955480763,
          95.28560539796146,
          92.2511248320307,
          94.05308599588648,
          95.18545287204662,
          95.76538101200012,
          94.29076703544993,
          96.75045976686125,
          95.51470497500307,
          94.92487994348986,
          96.37957708386205,
          94.77606234737922,
          94.69029247907281,
          96.5349722118821,
          93.73618204051866,
          94.57093265141684,
          94.96319090107175,
          94.69776438565106,
          95.70130928124252,
          94.82709824017786,
          95.37824458869494,
          95.23420838281686,
          94.59401067042249,
          94.57047742094883,
          95.06173268078174,
          95.25474216205689,
          96.3944444442614,
          97.08137385605723,
          95.79476830714731,
          93.09050528486446,
          96.15352454781947,
          94.99841253687018,
          94.74585050923548,
          95.17834941007078,
          95.09713651166251,
          93.74808377501412,
          95.59232508602159,
          94.7849565662116,
          95.94540650538138,
          94.48156384426626,
          94.57857435220683,
          93.51465209489314,
          94.15943782544096,
          94.44165667183466,
          95.21873893504346,
          96.42989680033074,
          95.04917043743802,
          94.34637414460381,
          96.85684109179014,
          97.28277637739896,
          95.02952500976082,
          97.2544179198927,
          95.69135094113142,
          95.76316112492715,
          97.22991807433539,
          95.2546717777055,
          94.12606519343667,
          94.37097809064073,
          95.05506336104432,
          93.98226093064312,
          94.48791620677689,
          95.06989721764822,
          95.90651266487555,
          94.99529608521286,
          94.19548969382174,
          96.00173166505238,
          95.16582377538077,
          95.01786086622234,
          94.8052556804464,
          93.73277670092696,
          96.03926321577164,
          94.21961737910895,
          95.13193069594115,
          95.23861634459662,
          95.68825715768233,
          95.54254069406298,
          95.55617282921384,
          96.16300708313469,
          95.70378749607708,
          94.25297559809286,
          95.94217372607366,
          94.33248521941513,
          93.38918500989416,
          95.17812960349102,
          94.8013821340498,
          96.0733774602327,
          95.1811524323687,
          94.96273557335618,
          95.26942979738236,
          95.8137982450832,
          96.00336254011626,
          95.95927162784321,
          94.73231368783692,
          95.34663408419792,
          94.23922783643091,
          95.66270667736825,
          94.71866075369492,
          95.89364240774705,
          94.380413692697,
          93.73166152682336,
          95.7545604082209,
          95.15536599869688,
          95.14359841377086,
          95.27400874502463,
          95.90203749515568,
          95.59870157497713,
          95.83317687615263,
          95.31940756637287,
          95.41937001006602,
          94.69325771787743,
          95.23807840147866,
          95.39316518296758,
          94.39943566564548,
          95.37236884617383,
          95.90025292857766,
          93.68858572529138,
          94.28419113817984,
          96.84560204233365,
          95.79905978242743,
          94.85981020829544,
          96.34075180422207,
          97.16286821156848,
          94.94106117267222,
          94.96677535048713,
          95.05033147868244,
          93.13841747297465,
          96.58703986784883,
          95.41862670009469,
          94.41004447912871,
          93.01727399337614,
          94.38803337734268,
          93.93550257983756,
          95.86604671844984,
          95.78978429727711,
          96.89997245125298,
          94.22056253227993,
          94.68010846532775,
          92.89157500291138,
          95.21560087567701,
          94.16794317979742,
          94.67218790657824,
          94.02817464809722,
          96.23738670222085,
          94.55936148039939,
          95.20389303865147,
          95.86711346101217,
          96.23508517825125,
          94.65004777066514,
          94.61218120766446,
          94.2934186416629,
          95.10571421590392,
          95.97271382644172,
          95.82604665244091,
          94.41916690552617,
          95.93774574091071,
          94.99095406875095,
          95.46778621172612,
          94.63729639044692,
          96.0712317300904,
          93.0150522506514,
          94.9611825217876,
          95.38447774664621,
          96.36643387915299,
          95.02186612041245,
          96.25880801337757,
          93.92070984543105,
          93.5336321762133,
          94.89240836150542,
          94.77907720576718,
          95.79884447850552,
          94.26936710738387,
          95.6554079081952,
          93.86237229014998,
          95.26481415398864,
          96.57567938917495,
          93.51637723206709,
          96.53689079685515,
          95.10213992528364,
          94.12290272882969,
          95.41569260955944,
          94.15201547502954,
          94.43011878061543,
          95.25938267510126,
          95.89224360452201,
          92.93203973134652,
          97.35597874857247,
          95.25950056672198,
          94.96545737789316,
          94.46793166158105,
          95.23414366149284,
          95.09816497063744,
          95.00227843439767,
          94.91282178535056,
          95.64442184332941,
          95.3053227153398,
          94.91603740011945,
          94.22608084757947,
          94.9337751867772,
          93.92296382886127,
          94.42933742953844,
          95.71578520864804,
          95.74931286016316,
          95.75640893380935,
          94.91956371138271,
          94.09810641750452,
          96.24619412089544,
          94.53111919379211,
          95.20204773997781,
          98.10110525039177,
          95.02011276532775,
          95.16148220353585,
          94.92016479828135,
          94.78580293131812,
          95.39649223781447,
          95.34623973173373,
          93.98251372331573,
          94.94759106593608,
          95.4023284869742,
          95.29394091183123,
          93.74108866271285,
          95.15034889933597,
          95.17377403210281,
          95.59280919914062,
          94.68922636653326,
          93.75847503396058,
          93.89027244323242,
          96.44304302552442,
          96.3443166929766,
          95.388681627441,
          95.78057711171984,
          95.23497272849893,
          94.96432929994685,
          96.333761745706,
          94.72679371953146,
          95.92178687183998,
          94.50377153046908,
          94.92175070551046,
          94.03042627842333,
          94.33675692741373,
          96.05561120300297,
          94.91900162298509,
          94.10780767821277,
          95.09629860012953,
          93.92093735638781,
          94.19548047070879,
          94.84021024898905,
          95.09021783120417,
          95.83911417631367,
          93.98474446493218,
          95.96347351631896,
          95.00817187337483,
          94.17615551579959,
          93.93590756682593,
          96.0016323214607,
          96.18645215184884,
          96.20352311890018,
          95.49897828795017,
          95.03414186326768,
          94.15229829703901,
          93.95288637734033,
          94.83230859421307,
          93.68110521763319,
          94.24427034232033,
          93.56086551424607,
          95.44558954395873,
          96.15573194674951,
          94.22915288915658,
          96.11479461174196,
          94.1694660182019,
          94.56601804564137,
          96.18174858126459,
          96.07997885335733,
          95.60176534147207,
          96.44167024442996,
          96.08823312614692,
          95.1525383246458,
          93.94019720462475,
          96.17452196579357,
          95.45463418569848,
          95.30929474084961,
          95.70210805054259,
          96.85501236412118,
          94.53692965330573,
          95.40443130541175,
          94.289031764886,
          97.36898773890934,
          93.96325654095679,
          94.67731097433854,
          95.41410466862416,
          95.37185278587256,
          95.49580828328138,
          94.22590282020849,
          96.38645570794833,
          94.88667492616818,
          95.02180577795698,
          93.90107736563724,
          94.97983625386581,
          94.86845846989061,
          94.74890053067404,
          95.12147849815366,
          94.50568966236219,
          93.8982597447744,
          95.22494472229324,
          94.88968291258482,
          94.25764888356383,
          95.08844297694142,
          94.37150918628197,
          92.90100221156933,
          94.26945786079796,
          96.14328184370555,
          95.25025496230725,
          93.97683020205372,
          94.27037706012464,
          95.07824677089127,
          94.78431500617612,
          95.65024716012091,
          95.48474097462025,
          95.44053453682878,
          94.4603667275961,
          95.4573595611403,
          95.51624137522127,
          93.81264827264897,
          94.68075845828011,
          94.84602497993643,
          94.04209724909396,
          94.62220368339072,
          94.93952776919205,
          93.82974500233505,
          95.08247996966547,
          95.38315901103917,
          95.82867965553075,
          94.46261517221515,
          95.36747819072413,
          94.71112064475511,
          94.82821058381269,
          94.64742537135092,
          94.08831476388141,
          95.44022964606191,
          95.49979266851618,
          94.79205668989403,
          95.37959128488444,
          94.65596661465386,
          95.62329874157328,
          95.18840950166063,
          96.17333549929914,
          94.70904231567002,
          95.7751423495136,
          95.31425371804572,
          96.4329080060938,
          95.72724976780137,
          94.89161519157862,
          94.61644989037214,
          95.6331616293495,
          94.38375982090004,
          93.3238183584165,
          96.15764555763309,
          94.7864291458482,
          93.95327299101785,
          94.80090881366141,
          94.55858001309478,
          95.92976389666944,
          95.03558381397566,
          95.37350799306552,
          95.72935969020195,
          95.35144082284032,
          97.5378315013288,
          93.63140907318095,
          95.44373751108722,
          95.69027096205284,
          94.21383116119495,
          94.87183136573204,
          95.19781531718296,
          94.34861726698978,
          93.91515838163704,
          94.23982800239322,
          95.44922102980118,
          94.37504930360649,
          94.67259716613003,
          94.67816352492352,
          95.01937771767443,
          96.7849893125834,
          96.82146925466571,
          94.57633644615393,
          95.96793644318649,
          93.95495793204807,
          94.77788912637762,
          94.2829339434077,
          95.90191429174143,
          94.69622687672148,
          94.50960097324142,
          96.68489025098344,
          94.10574123950138,
          93.4148844027836,
          94.18069427029914,
          96.29698321153731,
          95.22442842512916,
          94.41103090173985,
          94.73143779387757,
          94.34434722367263,
          95.51522621128679,
          94.43713333845761,
          94.62522103161982,
          94.87620830287591,
          93.94061006051291,
          95.08957609708176,
          95.30129360914555,
          94.72171860072488,
          97.06569132580104,
          94.97576755379166,
          96.04140046890723,
          95.48016968821625,
          94.95079758592401,
          94.603417823673,
          95.24750736429831,
          94.78500417927918,
          97.09002392342691,
          96.05507520157083,
          94.09800673097584,
          95.54364239185796,
          95.20821195853966,
          96.99515245360169,
          94.1842578181253,
          95.05328419124999,
          95.42722199143765,
          95.93386911899721,
          93.53302541419538,
          93.8158476300277,
          96.5940793023051,
          95.36828464525263,
          93.60882210454163,
          94.06010204108092,
          94.46204238083519,
          95.79070730854322,
          95.3070259754671,
          95.82749783082461,
          95.8437749119833,
          95.20345141118781,
          95.15906731004756,
          96.32087586684759,
          93.90750247627363,
          94.41657247525234,
          95.3234719873235,
          94.64638726516444,
          94.32288052405238,
          95.96540896333883,
          93.95017533477237,
          95.42070301244121,
          96.6160643659606,
          93.16758358879892,
          93.02712493928878,
          93.92175781000734,
          93.05866435053039,
          94.60632147449417,
          94.09354359950544,
          95.841338059744,
          93.67229611054135,
          95.62028570530964,
          93.81589722727087,
          94.34343290309585,
          94.12140378986027,
          94.3659467824952,
          94.37632865817635,
          94.25844055049728,
          93.43266995114203,
          95.22832043354387,
          94.44052314301527,
          93.1156679642059,
          94.77559655990771,
          95.6675138606296,
          94.5866974683841,
          94.77253335033487,
          96.5178003739802,
          96.66812549987316,
          95.84781179381561,
          94.28036626739998,
          95.6854929535892,
          95.37945542460011,
          93.94123177301816,
          94.77779859347804,
          94.28794218009907,
          95.57113891390188,
          94.85005268090518,
          94.90718557892232,
          95.78910204862815,
          95.11961245070496,
          95.78670242507481,
          94.47006667553217,
          93.9952738240128,
          95.49469375006514,
          95.5823977532482,
          94.14300864551988,
          96.38835830164474,
          94.02079533991949,
          94.21653798307148,
          94.89488097494373,
          93.89630796978852,
          94.25725669626057,
          94.51846332303492,
          96.07411028548614,
          94.96402974059781,
          94.38403746256333,
          95.6740526991999,
          94.33736917657302,
          94.89025406239489,
          93.87747016359498,
          94.4633722889109,
          93.2454458544021,
          93.67069007203268,
          95.71351960196648,
          96.24979543462777,
          94.27663383545769,
          94.63929217571518,
          94.99812925812381,
          95.96965116936246,
          94.89549716362588,
          95.74818293117136,
          93.92878812472534,
          93.91723604134052,
          93.52671700423733,
          95.09566399592327,
          94.98315854707332,
          94.19957550181478,
          96.01383150023129,
          94.44036426689621,
          95.0464039296034,
          96.49406499282446,
          94.27941784824364,
          94.87978764620962,
          94.58075831774617,
          94.23664357957699,
          95.85493330961826,
          95.45372738971443,
          95.89020980980808,
          97.57746701231648,
          95.32024983978724,
          96.15478890380675,
          95.22136903082175,
          93.23843514670475,
          95.28385408697874,
          95.57977483548571,
          96.73903969767736,
          94.443503558998,
          94.07059271862812,
          95.95142478361822,
          94.86281624031604,
          94.76745844393804,
          96.21168951369958,
          93.88140369106019,
          95.61787806923013,
          93.08944012872274,
          96.36245689767881,
          96.27639046681963,
          96.75364647667817,
          94.00172436925848,
          95.76394367758269,
          94.99140652329942,
          95.79020967356155,
          95.88010006734383,
          95.48925048228742,
          94.17370004145675,
          94.92880632437064,
          95.47659006310252,
          94.9984193492682,
          94.18754258097121,
          96.19791853165319,
          96.06592713559361,
          95.18244654462819,
          94.18896751538279,
          95.00505240557811,
          93.97755245792433,
          95.77672341796807,
          93.89423246172804,
          93.31812585814023,
          94.98847643127385,
          94.3033865233258,
          93.57736212649554,
          94.47533302862618,
          95.12759832858988,
          95.39834249722281,
          94.82214688166883,
          93.54125324951237,
          95.0554726077994,
          96.49496106537434,
          95.1937873369607,
          93.45974001474306,
          94.9129381283128,
          93.35760758769564,
          96.53555946584532,
          93.66765145730088,
          94.74208984013035,
          95.28114743511799,
          95.84736901199516,
          94.8207679308628,
          95.69309448195543,
          94.97104105153804,
          93.53886851947323,
          94.45645836186,
          96.54138394496073,
          94.67572874997163,
          96.16025843072029,
          94.56653749107623,
          96.31019085378477,
          95.12794404944098,
          95.17868961345096,
          94.75365903896976,
          96.84301924354483,
          96.05011232263709,
          94.39420102252981,
          95.10843375868657
         ],
         "xbins": {
          "end": 100,
          "size": 1,
          "start": 50
         }
        }
       ],
       "layout": {
        "template": {
         "data": {
          "bar": [
           {
            "error_x": {
             "color": "#2a3f5f"
            },
            "error_y": {
             "color": "#2a3f5f"
            },
            "marker": {
             "line": {
              "color": "#E5ECF6",
              "width": 0.5
             },
             "pattern": {
              "fillmode": "overlay",
              "size": 10,
              "solidity": 0.2
             }
            },
            "type": "bar"
           }
          ],
          "barpolar": [
           {
            "marker": {
             "line": {
              "color": "#E5ECF6",
              "width": 0.5
             },
             "pattern": {
              "fillmode": "overlay",
              "size": 10,
              "solidity": 0.2
             }
            },
            "type": "barpolar"
           }
          ],
          "carpet": [
           {
            "aaxis": {
             "endlinecolor": "#2a3f5f",
             "gridcolor": "white",
             "linecolor": "white",
             "minorgridcolor": "white",
             "startlinecolor": "#2a3f5f"
            },
            "baxis": {
             "endlinecolor": "#2a3f5f",
             "gridcolor": "white",
             "linecolor": "white",
             "minorgridcolor": "white",
             "startlinecolor": "#2a3f5f"
            },
            "type": "carpet"
           }
          ],
          "choropleth": [
           {
            "colorbar": {
             "outlinewidth": 0,
             "ticks": ""
            },
            "type": "choropleth"
           }
          ],
          "contour": [
           {
            "colorbar": {
             "outlinewidth": 0,
             "ticks": ""
            },
            "colorscale": [
             [
              0,
              "#0d0887"
             ],
             [
              0.1111111111111111,
              "#46039f"
             ],
             [
              0.2222222222222222,
              "#7201a8"
             ],
             [
              0.3333333333333333,
              "#9c179e"
             ],
             [
              0.4444444444444444,
              "#bd3786"
             ],
             [
              0.5555555555555556,
              "#d8576b"
             ],
             [
              0.6666666666666666,
              "#ed7953"
             ],
             [
              0.7777777777777778,
              "#fb9f3a"
             ],
             [
              0.8888888888888888,
              "#fdca26"
             ],
             [
              1,
              "#f0f921"
             ]
            ],
            "type": "contour"
           }
          ],
          "contourcarpet": [
           {
            "colorbar": {
             "outlinewidth": 0,
             "ticks": ""
            },
            "type": "contourcarpet"
           }
          ],
          "heatmap": [
           {
            "colorbar": {
             "outlinewidth": 0,
             "ticks": ""
            },
            "colorscale": [
             [
              0,
              "#0d0887"
             ],
             [
              0.1111111111111111,
              "#46039f"
             ],
             [
              0.2222222222222222,
              "#7201a8"
             ],
             [
              0.3333333333333333,
              "#9c179e"
             ],
             [
              0.4444444444444444,
              "#bd3786"
             ],
             [
              0.5555555555555556,
              "#d8576b"
             ],
             [
              0.6666666666666666,
              "#ed7953"
             ],
             [
              0.7777777777777778,
              "#fb9f3a"
             ],
             [
              0.8888888888888888,
              "#fdca26"
             ],
             [
              1,
              "#f0f921"
             ]
            ],
            "type": "heatmap"
           }
          ],
          "heatmapgl": [
           {
            "colorbar": {
             "outlinewidth": 0,
             "ticks": ""
            },
            "colorscale": [
             [
              0,
              "#0d0887"
             ],
             [
              0.1111111111111111,
              "#46039f"
             ],
             [
              0.2222222222222222,
              "#7201a8"
             ],
             [
              0.3333333333333333,
              "#9c179e"
             ],
             [
              0.4444444444444444,
              "#bd3786"
             ],
             [
              0.5555555555555556,
              "#d8576b"
             ],
             [
              0.6666666666666666,
              "#ed7953"
             ],
             [
              0.7777777777777778,
              "#fb9f3a"
             ],
             [
              0.8888888888888888,
              "#fdca26"
             ],
             [
              1,
              "#f0f921"
             ]
            ],
            "type": "heatmapgl"
           }
          ],
          "histogram": [
           {
            "marker": {
             "pattern": {
              "fillmode": "overlay",
              "size": 10,
              "solidity": 0.2
             }
            },
            "type": "histogram"
           }
          ],
          "histogram2d": [
           {
            "colorbar": {
             "outlinewidth": 0,
             "ticks": ""
            },
            "colorscale": [
             [
              0,
              "#0d0887"
             ],
             [
              0.1111111111111111,
              "#46039f"
             ],
             [
              0.2222222222222222,
              "#7201a8"
             ],
             [
              0.3333333333333333,
              "#9c179e"
             ],
             [
              0.4444444444444444,
              "#bd3786"
             ],
             [
              0.5555555555555556,
              "#d8576b"
             ],
             [
              0.6666666666666666,
              "#ed7953"
             ],
             [
              0.7777777777777778,
              "#fb9f3a"
             ],
             [
              0.8888888888888888,
              "#fdca26"
             ],
             [
              1,
              "#f0f921"
             ]
            ],
            "type": "histogram2d"
           }
          ],
          "histogram2dcontour": [
           {
            "colorbar": {
             "outlinewidth": 0,
             "ticks": ""
            },
            "colorscale": [
             [
              0,
              "#0d0887"
             ],
             [
              0.1111111111111111,
              "#46039f"
             ],
             [
              0.2222222222222222,
              "#7201a8"
             ],
             [
              0.3333333333333333,
              "#9c179e"
             ],
             [
              0.4444444444444444,
              "#bd3786"
             ],
             [
              0.5555555555555556,
              "#d8576b"
             ],
             [
              0.6666666666666666,
              "#ed7953"
             ],
             [
              0.7777777777777778,
              "#fb9f3a"
             ],
             [
              0.8888888888888888,
              "#fdca26"
             ],
             [
              1,
              "#f0f921"
             ]
            ],
            "type": "histogram2dcontour"
           }
          ],
          "mesh3d": [
           {
            "colorbar": {
             "outlinewidth": 0,
             "ticks": ""
            },
            "type": "mesh3d"
           }
          ],
          "parcoords": [
           {
            "line": {
             "colorbar": {
              "outlinewidth": 0,
              "ticks": ""
             }
            },
            "type": "parcoords"
           }
          ],
          "pie": [
           {
            "automargin": true,
            "type": "pie"
           }
          ],
          "scatter": [
           {
            "fillpattern": {
             "fillmode": "overlay",
             "size": 10,
             "solidity": 0.2
            },
            "type": "scatter"
           }
          ],
          "scatter3d": [
           {
            "line": {
             "colorbar": {
              "outlinewidth": 0,
              "ticks": ""
             }
            },
            "marker": {
             "colorbar": {
              "outlinewidth": 0,
              "ticks": ""
             }
            },
            "type": "scatter3d"
           }
          ],
          "scattercarpet": [
           {
            "marker": {
             "colorbar": {
              "outlinewidth": 0,
              "ticks": ""
             }
            },
            "type": "scattercarpet"
           }
          ],
          "scattergeo": [
           {
            "marker": {
             "colorbar": {
              "outlinewidth": 0,
              "ticks": ""
             }
            },
            "type": "scattergeo"
           }
          ],
          "scattergl": [
           {
            "marker": {
             "colorbar": {
              "outlinewidth": 0,
              "ticks": ""
             }
            },
            "type": "scattergl"
           }
          ],
          "scattermapbox": [
           {
            "marker": {
             "colorbar": {
              "outlinewidth": 0,
              "ticks": ""
             }
            },
            "type": "scattermapbox"
           }
          ],
          "scatterpolar": [
           {
            "marker": {
             "colorbar": {
              "outlinewidth": 0,
              "ticks": ""
             }
            },
            "type": "scatterpolar"
           }
          ],
          "scatterpolargl": [
           {
            "marker": {
             "colorbar": {
              "outlinewidth": 0,
              "ticks": ""
             }
            },
            "type": "scatterpolargl"
           }
          ],
          "scatterternary": [
           {
            "marker": {
             "colorbar": {
              "outlinewidth": 0,
              "ticks": ""
             }
            },
            "type": "scatterternary"
           }
          ],
          "surface": [
           {
            "colorbar": {
             "outlinewidth": 0,
             "ticks": ""
            },
            "colorscale": [
             [
              0,
              "#0d0887"
             ],
             [
              0.1111111111111111,
              "#46039f"
             ],
             [
              0.2222222222222222,
              "#7201a8"
             ],
             [
              0.3333333333333333,
              "#9c179e"
             ],
             [
              0.4444444444444444,
              "#bd3786"
             ],
             [
              0.5555555555555556,
              "#d8576b"
             ],
             [
              0.6666666666666666,
              "#ed7953"
             ],
             [
              0.7777777777777778,
              "#fb9f3a"
             ],
             [
              0.8888888888888888,
              "#fdca26"
             ],
             [
              1,
              "#f0f921"
             ]
            ],
            "type": "surface"
           }
          ],
          "table": [
           {
            "cells": {
             "fill": {
              "color": "#EBF0F8"
             },
             "line": {
              "color": "white"
             }
            },
            "header": {
             "fill": {
              "color": "#C8D4E3"
             },
             "line": {
              "color": "white"
             }
            },
            "type": "table"
           }
          ]
         },
         "layout": {
          "annotationdefaults": {
           "arrowcolor": "#2a3f5f",
           "arrowhead": 0,
           "arrowwidth": 1
          },
          "autotypenumbers": "strict",
          "coloraxis": {
           "colorbar": {
            "outlinewidth": 0,
            "ticks": ""
           }
          },
          "colorscale": {
           "diverging": [
            [
             0,
             "#8e0152"
            ],
            [
             0.1,
             "#c51b7d"
            ],
            [
             0.2,
             "#de77ae"
            ],
            [
             0.3,
             "#f1b6da"
            ],
            [
             0.4,
             "#fde0ef"
            ],
            [
             0.5,
             "#f7f7f7"
            ],
            [
             0.6,
             "#e6f5d0"
            ],
            [
             0.7,
             "#b8e186"
            ],
            [
             0.8,
             "#7fbc41"
            ],
            [
             0.9,
             "#4d9221"
            ],
            [
             1,
             "#276419"
            ]
           ],
           "sequential": [
            [
             0,
             "#0d0887"
            ],
            [
             0.1111111111111111,
             "#46039f"
            ],
            [
             0.2222222222222222,
             "#7201a8"
            ],
            [
             0.3333333333333333,
             "#9c179e"
            ],
            [
             0.4444444444444444,
             "#bd3786"
            ],
            [
             0.5555555555555556,
             "#d8576b"
            ],
            [
             0.6666666666666666,
             "#ed7953"
            ],
            [
             0.7777777777777778,
             "#fb9f3a"
            ],
            [
             0.8888888888888888,
             "#fdca26"
            ],
            [
             1,
             "#f0f921"
            ]
           ],
           "sequentialminus": [
            [
             0,
             "#0d0887"
            ],
            [
             0.1111111111111111,
             "#46039f"
            ],
            [
             0.2222222222222222,
             "#7201a8"
            ],
            [
             0.3333333333333333,
             "#9c179e"
            ],
            [
             0.4444444444444444,
             "#bd3786"
            ],
            [
             0.5555555555555556,
             "#d8576b"
            ],
            [
             0.6666666666666666,
             "#ed7953"
            ],
            [
             0.7777777777777778,
             "#fb9f3a"
            ],
            [
             0.8888888888888888,
             "#fdca26"
            ],
            [
             1,
             "#f0f921"
            ]
           ]
          },
          "colorway": [
           "#636efa",
           "#EF553B",
           "#00cc96",
           "#ab63fa",
           "#FFA15A",
           "#19d3f3",
           "#FF6692",
           "#B6E880",
           "#FF97FF",
           "#FECB52"
          ],
          "font": {
           "color": "#2a3f5f"
          },
          "geo": {
           "bgcolor": "white",
           "lakecolor": "white",
           "landcolor": "#E5ECF6",
           "showlakes": true,
           "showland": true,
           "subunitcolor": "white"
          },
          "hoverlabel": {
           "align": "left"
          },
          "hovermode": "closest",
          "mapbox": {
           "style": "light"
          },
          "paper_bgcolor": "white",
          "plot_bgcolor": "#E5ECF6",
          "polar": {
           "angularaxis": {
            "gridcolor": "white",
            "linecolor": "white",
            "ticks": ""
           },
           "bgcolor": "#E5ECF6",
           "radialaxis": {
            "gridcolor": "white",
            "linecolor": "white",
            "ticks": ""
           }
          },
          "scene": {
           "xaxis": {
            "backgroundcolor": "#E5ECF6",
            "gridcolor": "white",
            "gridwidth": 2,
            "linecolor": "white",
            "showbackground": true,
            "ticks": "",
            "zerolinecolor": "white"
           },
           "yaxis": {
            "backgroundcolor": "#E5ECF6",
            "gridcolor": "white",
            "gridwidth": 2,
            "linecolor": "white",
            "showbackground": true,
            "ticks": "",
            "zerolinecolor": "white"
           },
           "zaxis": {
            "backgroundcolor": "#E5ECF6",
            "gridcolor": "white",
            "gridwidth": 2,
            "linecolor": "white",
            "showbackground": true,
            "ticks": "",
            "zerolinecolor": "white"
           }
          },
          "shapedefaults": {
           "line": {
            "color": "#2a3f5f"
           }
          },
          "ternary": {
           "aaxis": {
            "gridcolor": "white",
            "linecolor": "white",
            "ticks": ""
           },
           "baxis": {
            "gridcolor": "white",
            "linecolor": "white",
            "ticks": ""
           },
           "bgcolor": "#E5ECF6",
           "caxis": {
            "gridcolor": "white",
            "linecolor": "white",
            "ticks": ""
           }
          },
          "title": {
           "x": 0.05
          },
          "xaxis": {
           "automargin": true,
           "gridcolor": "white",
           "linecolor": "white",
           "ticks": "",
           "title": {
            "standoff": 15
           },
           "zerolinecolor": "white",
           "zerolinewidth": 2
          },
          "yaxis": {
           "automargin": true,
           "gridcolor": "white",
           "linecolor": "white",
           "ticks": "",
           "title": {
            "standoff": 15
           },
           "zerolinecolor": "white",
           "zerolinewidth": 2
          }
         }
        },
        "width": 800,
        "xaxis": {
         "range": [
          50,
          100
         ],
         "title": {
          "text": "Unbiased O2 saturation"
         }
        },
        "yaxis": {
         "title": {
          "text": "Probability"
         }
        }
       }
      }
     },
     "metadata": {},
     "output_type": "display_data"
    }
   ],
   "source": [
    "O2Sat_vals = np.arange(50, 101, 1)\n",
    "\n",
    "# Parameters\n",
    "UO2Sat = mh.variableNode(\"Unbiased O2 saturation (%)\", 50, 100, 1, prior=None)\n",
    "o2sat_obs = 95\n",
    "std_gauss = 0.86\n",
    "repetitions = 100000\n",
    "\n",
    "hist, bin_edges, true_o2sat_arr = o2sat.generate_underlying_uo2sat_distribution(\n",
    "    UO2Sat, o2sat_obs, repetitions, std_gauss, show_std=True\n",
    ")\n",
    "\n",
    "\n",
    "fig = go.Figure()\n",
    "fig.add_trace(\n",
    "    go.Histogram(\n",
    "        x=true_o2sat_arr,\n",
    "        xbins=dict(start=UO2Sat.a, end=UO2Sat.b, size=UO2Sat.bin_width),\n",
    "        autobinx=False,\n",
    "        histnorm=\"probability\",\n",
    "    )\n",
    ")\n",
    "\n",
    "fig.update_layout(width=800)\n",
    "fig.update_xaxes(range=[UO2Sat.a, UO2Sat.b], title=\"Unbiased O2 saturation\")\n",
    "fig.update_yaxes(title=\"Probability\")\n",
    "fig.show()"
   ]
  },
  {
   "cell_type": "markdown",
   "metadata": {},
   "source": [
    "## Build the CPT of O2Sat-UnbiasedO2Sat\n",
    "It uses the same algorithm as above but saves all the data into a table"
   ]
  },
  {
   "cell_type": "code",
   "execution_count": 5,
   "metadata": {},
   "outputs": [
    {
     "name": "stdout",
     "output_type": "stream",
     "text": [
      "Std of values giving 50: 0.545\n",
      "Std of values giving 51: 0.7403\n",
      "Std of values giving 52: 0.8768\n",
      "Std of values giving 53: 0.9028\n",
      "Std of values giving 54: 0.909\n",
      "Std of values giving 55: 0.9103\n",
      "Std of values giving 56: 0.9088\n",
      "Std of values giving 57: 0.9067\n",
      "Std of values giving 58: 0.9036\n",
      "Std of values giving 59: 0.8997\n",
      "Std of values giving 60: 0.914\n",
      "Std of values giving 61: 0.9056\n",
      "Std of values giving 62: 0.9059\n",
      "Std of values giving 63: 0.9058\n",
      "Std of values giving 64: 0.9119\n",
      "Std of values giving 65: 0.9084\n",
      "Std of values giving 66: 0.9093\n",
      "Std of values giving 67: 0.902\n",
      "Std of values giving 68: 0.9008\n",
      "Std of values giving 69: 0.9085\n",
      "Std of values giving 70: 0.9088\n",
      "Std of values giving 71: 0.9137\n",
      "Std of values giving 72: 0.9169\n",
      "Std of values giving 73: 0.9054\n",
      "Std of values giving 74: 0.9022\n",
      "Std of values giving 75: 0.9068\n",
      "Std of values giving 76: 0.9027\n",
      "Std of values giving 77: 0.9137\n",
      "Std of values giving 78: 0.9123\n",
      "Std of values giving 79: 0.9125\n",
      "Std of values giving 80: 0.9089\n",
      "Std of values giving 81: 0.9104\n",
      "Std of values giving 82: 0.9063\n",
      "Std of values giving 83: 0.904\n",
      "Std of values giving 84: 0.9052\n",
      "Std of values giving 85: 0.9072\n",
      "Std of values giving 86: 0.9164\n",
      "Std of values giving 87: 0.9058\n",
      "Std of values giving 88: 0.9135\n",
      "Std of values giving 89: 0.9099\n",
      "Std of values giving 90: 0.9056\n",
      "Std of values giving 91: 0.907\n",
      "Std of values giving 92: 0.908\n",
      "Std of values giving 93: 0.9103\n",
      "Std of values giving 94: 0.9129\n",
      "Std of values giving 95: 0.9047\n",
      "Std of values giving 96: 0.9097\n",
      "Std of values giving 97: 0.9022\n",
      "Std of values giving 98: 0.8644\n",
      "Std of values giving 99: 0.733\n",
      "Std of values giving 100: 0.5447\n"
     ]
    }
   ],
   "source": [
    "# Parameters\n",
    "UO2Sat = mh.variableNode(\"Unbiased O2 saturation (%)\", 50, 100, 1, prior=None)\n",
    "std_gauss = 0.86\n",
    "repetitions = 1000000\n",
    "cpt = np.zeros((len(O2Sat_vals), len(UO2Sat.bins)))\n",
    "\n",
    "for i, o2sat_obs in enumerate(O2Sat_vals):\n",
    "    hist, _, _ = o2sat.generate_underlying_uo2sat_distribution(\n",
    "        UO2Sat, o2sat_obs, repetitions, std_gauss, show_std=True\n",
    "    )\n",
    "\n",
    "    cpt[i, :] = hist\n",
    "\n",
    "# Normalise cpt\n",
    "normaliser = cpt.sum(axis=0)\n",
    "for i, norm in enumerate(normaliser):\n",
    "    if norm != 0:\n",
    "        cpt[:, i] = cpt[:, i] / norm"
   ]
  },
  {
   "cell_type": "code",
   "execution_count": 4,
   "metadata": {},
   "outputs": [
    {
     "data": {
      "text/plain": [
       "array([0., 0., 0., 0., 0., 0., 0., 0., 0., 0., 0., 0., 0., 0., 0., 0., 0.,\n",
       "       0., 0., 0., 0., 0., 0., 0., 0., 0., 0., 0., 0., 0., 0., 0., 0., 0.,\n",
       "       0., 0., 0., 0., 0., 0., 0., 0., 0., 0., 0., 0., 0., 0., 0., 0., 0.])"
      ]
     },
     "execution_count": 4,
     "metadata": {},
     "output_type": "execute_result"
    }
   ],
   "source": [
    "cpt[:, 40]"
   ]
  },
  {
   "cell_type": "code",
   "execution_count": 46,
   "metadata": {},
   "outputs": [
    {
     "data": {
      "text/plain": [
       "67.0"
      ]
     },
     "execution_count": 46,
     "metadata": {},
     "output_type": "execute_result"
    }
   ],
   "source": [
    "UO2Sat.bins[34]"
   ]
  },
  {
   "cell_type": "code",
   "execution_count": 6,
   "metadata": {},
   "outputs": [
    {
     "data": {
      "application/vnd.plotly.v1+json": {
       "config": {
        "plotlyServerURL": "https://plot.ly"
       },
       "data": [
        {
         "type": "scatter",
         "x": [
          50,
          51,
          52,
          53,
          54,
          55,
          56,
          57,
          58,
          59,
          60,
          61,
          62,
          63,
          64,
          65,
          66,
          67,
          68,
          69,
          70,
          71,
          72,
          73,
          74,
          75,
          76,
          77,
          78,
          79,
          80,
          81,
          82,
          83,
          84,
          85,
          86,
          87,
          88,
          89,
          90,
          91,
          92,
          93,
          94,
          95,
          96,
          97,
          98,
          99,
          100
         ],
         "y": [
          0,
          0,
          0,
          0,
          0,
          0,
          0,
          0,
          0,
          0,
          0,
          0,
          0,
          0,
          0,
          0,
          0,
          0,
          0,
          0,
          0,
          0,
          0,
          0,
          0,
          0,
          0,
          0,
          0,
          0,
          0,
          0,
          0,
          0,
          0,
          0,
          0,
          0.0004992432176309215,
          0.01377662866620781,
          0.12375784233472914,
          0.36693942491664494,
          0.3627321086449,
          0.11801199867419682,
          0.013634873141090213,
          0.0006478804046000877,
          0,
          0,
          0,
          0,
          0,
          0
         ]
        }
       ],
       "layout": {
        "template": {
         "data": {
          "bar": [
           {
            "error_x": {
             "color": "#2a3f5f"
            },
            "error_y": {
             "color": "#2a3f5f"
            },
            "marker": {
             "line": {
              "color": "#E5ECF6",
              "width": 0.5
             },
             "pattern": {
              "fillmode": "overlay",
              "size": 10,
              "solidity": 0.2
             }
            },
            "type": "bar"
           }
          ],
          "barpolar": [
           {
            "marker": {
             "line": {
              "color": "#E5ECF6",
              "width": 0.5
             },
             "pattern": {
              "fillmode": "overlay",
              "size": 10,
              "solidity": 0.2
             }
            },
            "type": "barpolar"
           }
          ],
          "carpet": [
           {
            "aaxis": {
             "endlinecolor": "#2a3f5f",
             "gridcolor": "white",
             "linecolor": "white",
             "minorgridcolor": "white",
             "startlinecolor": "#2a3f5f"
            },
            "baxis": {
             "endlinecolor": "#2a3f5f",
             "gridcolor": "white",
             "linecolor": "white",
             "minorgridcolor": "white",
             "startlinecolor": "#2a3f5f"
            },
            "type": "carpet"
           }
          ],
          "choropleth": [
           {
            "colorbar": {
             "outlinewidth": 0,
             "ticks": ""
            },
            "type": "choropleth"
           }
          ],
          "contour": [
           {
            "colorbar": {
             "outlinewidth": 0,
             "ticks": ""
            },
            "colorscale": [
             [
              0,
              "#0d0887"
             ],
             [
              0.1111111111111111,
              "#46039f"
             ],
             [
              0.2222222222222222,
              "#7201a8"
             ],
             [
              0.3333333333333333,
              "#9c179e"
             ],
             [
              0.4444444444444444,
              "#bd3786"
             ],
             [
              0.5555555555555556,
              "#d8576b"
             ],
             [
              0.6666666666666666,
              "#ed7953"
             ],
             [
              0.7777777777777778,
              "#fb9f3a"
             ],
             [
              0.8888888888888888,
              "#fdca26"
             ],
             [
              1,
              "#f0f921"
             ]
            ],
            "type": "contour"
           }
          ],
          "contourcarpet": [
           {
            "colorbar": {
             "outlinewidth": 0,
             "ticks": ""
            },
            "type": "contourcarpet"
           }
          ],
          "heatmap": [
           {
            "colorbar": {
             "outlinewidth": 0,
             "ticks": ""
            },
            "colorscale": [
             [
              0,
              "#0d0887"
             ],
             [
              0.1111111111111111,
              "#46039f"
             ],
             [
              0.2222222222222222,
              "#7201a8"
             ],
             [
              0.3333333333333333,
              "#9c179e"
             ],
             [
              0.4444444444444444,
              "#bd3786"
             ],
             [
              0.5555555555555556,
              "#d8576b"
             ],
             [
              0.6666666666666666,
              "#ed7953"
             ],
             [
              0.7777777777777778,
              "#fb9f3a"
             ],
             [
              0.8888888888888888,
              "#fdca26"
             ],
             [
              1,
              "#f0f921"
             ]
            ],
            "type": "heatmap"
           }
          ],
          "heatmapgl": [
           {
            "colorbar": {
             "outlinewidth": 0,
             "ticks": ""
            },
            "colorscale": [
             [
              0,
              "#0d0887"
             ],
             [
              0.1111111111111111,
              "#46039f"
             ],
             [
              0.2222222222222222,
              "#7201a8"
             ],
             [
              0.3333333333333333,
              "#9c179e"
             ],
             [
              0.4444444444444444,
              "#bd3786"
             ],
             [
              0.5555555555555556,
              "#d8576b"
             ],
             [
              0.6666666666666666,
              "#ed7953"
             ],
             [
              0.7777777777777778,
              "#fb9f3a"
             ],
             [
              0.8888888888888888,
              "#fdca26"
             ],
             [
              1,
              "#f0f921"
             ]
            ],
            "type": "heatmapgl"
           }
          ],
          "histogram": [
           {
            "marker": {
             "pattern": {
              "fillmode": "overlay",
              "size": 10,
              "solidity": 0.2
             }
            },
            "type": "histogram"
           }
          ],
          "histogram2d": [
           {
            "colorbar": {
             "outlinewidth": 0,
             "ticks": ""
            },
            "colorscale": [
             [
              0,
              "#0d0887"
             ],
             [
              0.1111111111111111,
              "#46039f"
             ],
             [
              0.2222222222222222,
              "#7201a8"
             ],
             [
              0.3333333333333333,
              "#9c179e"
             ],
             [
              0.4444444444444444,
              "#bd3786"
             ],
             [
              0.5555555555555556,
              "#d8576b"
             ],
             [
              0.6666666666666666,
              "#ed7953"
             ],
             [
              0.7777777777777778,
              "#fb9f3a"
             ],
             [
              0.8888888888888888,
              "#fdca26"
             ],
             [
              1,
              "#f0f921"
             ]
            ],
            "type": "histogram2d"
           }
          ],
          "histogram2dcontour": [
           {
            "colorbar": {
             "outlinewidth": 0,
             "ticks": ""
            },
            "colorscale": [
             [
              0,
              "#0d0887"
             ],
             [
              0.1111111111111111,
              "#46039f"
             ],
             [
              0.2222222222222222,
              "#7201a8"
             ],
             [
              0.3333333333333333,
              "#9c179e"
             ],
             [
              0.4444444444444444,
              "#bd3786"
             ],
             [
              0.5555555555555556,
              "#d8576b"
             ],
             [
              0.6666666666666666,
              "#ed7953"
             ],
             [
              0.7777777777777778,
              "#fb9f3a"
             ],
             [
              0.8888888888888888,
              "#fdca26"
             ],
             [
              1,
              "#f0f921"
             ]
            ],
            "type": "histogram2dcontour"
           }
          ],
          "mesh3d": [
           {
            "colorbar": {
             "outlinewidth": 0,
             "ticks": ""
            },
            "type": "mesh3d"
           }
          ],
          "parcoords": [
           {
            "line": {
             "colorbar": {
              "outlinewidth": 0,
              "ticks": ""
             }
            },
            "type": "parcoords"
           }
          ],
          "pie": [
           {
            "automargin": true,
            "type": "pie"
           }
          ],
          "scatter": [
           {
            "fillpattern": {
             "fillmode": "overlay",
             "size": 10,
             "solidity": 0.2
            },
            "type": "scatter"
           }
          ],
          "scatter3d": [
           {
            "line": {
             "colorbar": {
              "outlinewidth": 0,
              "ticks": ""
             }
            },
            "marker": {
             "colorbar": {
              "outlinewidth": 0,
              "ticks": ""
             }
            },
            "type": "scatter3d"
           }
          ],
          "scattercarpet": [
           {
            "marker": {
             "colorbar": {
              "outlinewidth": 0,
              "ticks": ""
             }
            },
            "type": "scattercarpet"
           }
          ],
          "scattergeo": [
           {
            "marker": {
             "colorbar": {
              "outlinewidth": 0,
              "ticks": ""
             }
            },
            "type": "scattergeo"
           }
          ],
          "scattergl": [
           {
            "marker": {
             "colorbar": {
              "outlinewidth": 0,
              "ticks": ""
             }
            },
            "type": "scattergl"
           }
          ],
          "scattermapbox": [
           {
            "marker": {
             "colorbar": {
              "outlinewidth": 0,
              "ticks": ""
             }
            },
            "type": "scattermapbox"
           }
          ],
          "scatterpolar": [
           {
            "marker": {
             "colorbar": {
              "outlinewidth": 0,
              "ticks": ""
             }
            },
            "type": "scatterpolar"
           }
          ],
          "scatterpolargl": [
           {
            "marker": {
             "colorbar": {
              "outlinewidth": 0,
              "ticks": ""
             }
            },
            "type": "scatterpolargl"
           }
          ],
          "scatterternary": [
           {
            "marker": {
             "colorbar": {
              "outlinewidth": 0,
              "ticks": ""
             }
            },
            "type": "scatterternary"
           }
          ],
          "surface": [
           {
            "colorbar": {
             "outlinewidth": 0,
             "ticks": ""
            },
            "colorscale": [
             [
              0,
              "#0d0887"
             ],
             [
              0.1111111111111111,
              "#46039f"
             ],
             [
              0.2222222222222222,
              "#7201a8"
             ],
             [
              0.3333333333333333,
              "#9c179e"
             ],
             [
              0.4444444444444444,
              "#bd3786"
             ],
             [
              0.5555555555555556,
              "#d8576b"
             ],
             [
              0.6666666666666666,
              "#ed7953"
             ],
             [
              0.7777777777777778,
              "#fb9f3a"
             ],
             [
              0.8888888888888888,
              "#fdca26"
             ],
             [
              1,
              "#f0f921"
             ]
            ],
            "type": "surface"
           }
          ],
          "table": [
           {
            "cells": {
             "fill": {
              "color": "#EBF0F8"
             },
             "line": {
              "color": "white"
             }
            },
            "header": {
             "fill": {
              "color": "#C8D4E3"
             },
             "line": {
              "color": "white"
             }
            },
            "type": "table"
           }
          ]
         },
         "layout": {
          "annotationdefaults": {
           "arrowcolor": "#2a3f5f",
           "arrowhead": 0,
           "arrowwidth": 1
          },
          "autotypenumbers": "strict",
          "coloraxis": {
           "colorbar": {
            "outlinewidth": 0,
            "ticks": ""
           }
          },
          "colorscale": {
           "diverging": [
            [
             0,
             "#8e0152"
            ],
            [
             0.1,
             "#c51b7d"
            ],
            [
             0.2,
             "#de77ae"
            ],
            [
             0.3,
             "#f1b6da"
            ],
            [
             0.4,
             "#fde0ef"
            ],
            [
             0.5,
             "#f7f7f7"
            ],
            [
             0.6,
             "#e6f5d0"
            ],
            [
             0.7,
             "#b8e186"
            ],
            [
             0.8,
             "#7fbc41"
            ],
            [
             0.9,
             "#4d9221"
            ],
            [
             1,
             "#276419"
            ]
           ],
           "sequential": [
            [
             0,
             "#0d0887"
            ],
            [
             0.1111111111111111,
             "#46039f"
            ],
            [
             0.2222222222222222,
             "#7201a8"
            ],
            [
             0.3333333333333333,
             "#9c179e"
            ],
            [
             0.4444444444444444,
             "#bd3786"
            ],
            [
             0.5555555555555556,
             "#d8576b"
            ],
            [
             0.6666666666666666,
             "#ed7953"
            ],
            [
             0.7777777777777778,
             "#fb9f3a"
            ],
            [
             0.8888888888888888,
             "#fdca26"
            ],
            [
             1,
             "#f0f921"
            ]
           ],
           "sequentialminus": [
            [
             0,
             "#0d0887"
            ],
            [
             0.1111111111111111,
             "#46039f"
            ],
            [
             0.2222222222222222,
             "#7201a8"
            ],
            [
             0.3333333333333333,
             "#9c179e"
            ],
            [
             0.4444444444444444,
             "#bd3786"
            ],
            [
             0.5555555555555556,
             "#d8576b"
            ],
            [
             0.6666666666666666,
             "#ed7953"
            ],
            [
             0.7777777777777778,
             "#fb9f3a"
            ],
            [
             0.8888888888888888,
             "#fdca26"
            ],
            [
             1,
             "#f0f921"
            ]
           ]
          },
          "colorway": [
           "#636efa",
           "#EF553B",
           "#00cc96",
           "#ab63fa",
           "#FFA15A",
           "#19d3f3",
           "#FF6692",
           "#B6E880",
           "#FF97FF",
           "#FECB52"
          ],
          "font": {
           "color": "#2a3f5f"
          },
          "geo": {
           "bgcolor": "white",
           "lakecolor": "white",
           "landcolor": "#E5ECF6",
           "showlakes": true,
           "showland": true,
           "subunitcolor": "white"
          },
          "hoverlabel": {
           "align": "left"
          },
          "hovermode": "closest",
          "mapbox": {
           "style": "light"
          },
          "paper_bgcolor": "white",
          "plot_bgcolor": "#E5ECF6",
          "polar": {
           "angularaxis": {
            "gridcolor": "white",
            "linecolor": "white",
            "ticks": ""
           },
           "bgcolor": "#E5ECF6",
           "radialaxis": {
            "gridcolor": "white",
            "linecolor": "white",
            "ticks": ""
           }
          },
          "scene": {
           "xaxis": {
            "backgroundcolor": "#E5ECF6",
            "gridcolor": "white",
            "gridwidth": 2,
            "linecolor": "white",
            "showbackground": true,
            "ticks": "",
            "zerolinecolor": "white"
           },
           "yaxis": {
            "backgroundcolor": "#E5ECF6",
            "gridcolor": "white",
            "gridwidth": 2,
            "linecolor": "white",
            "showbackground": true,
            "ticks": "",
            "zerolinecolor": "white"
           },
           "zaxis": {
            "backgroundcolor": "#E5ECF6",
            "gridcolor": "white",
            "gridwidth": 2,
            "linecolor": "white",
            "showbackground": true,
            "ticks": "",
            "zerolinecolor": "white"
           }
          },
          "shapedefaults": {
           "line": {
            "color": "#2a3f5f"
           }
          },
          "ternary": {
           "aaxis": {
            "gridcolor": "white",
            "linecolor": "white",
            "ticks": ""
           },
           "baxis": {
            "gridcolor": "white",
            "linecolor": "white",
            "ticks": ""
           },
           "bgcolor": "#E5ECF6",
           "caxis": {
            "gridcolor": "white",
            "linecolor": "white",
            "ticks": ""
           }
          },
          "title": {
           "x": 0.05
          },
          "xaxis": {
           "automargin": true,
           "gridcolor": "white",
           "linecolor": "white",
           "ticks": "",
           "title": {
            "standoff": 15
           },
           "zerolinecolor": "white",
           "zerolinewidth": 2
          },
          "yaxis": {
           "automargin": true,
           "gridcolor": "white",
           "linecolor": "white",
           "ticks": "",
           "title": {
            "standoff": 15
           },
           "zerolinecolor": "white",
           "zerolinewidth": 2
          }
         }
        },
        "title": {
         "text": "P(O2Sat | UO2Sat = [90. 91.])"
        },
        "xaxis": {
         "title": {
          "text": "O2 saturation (%)"
         }
        },
        "yaxis": {
         "title": {
          "text": "Probability"
         }
        }
       }
      }
     },
     "metadata": {},
     "output_type": "display_data"
    }
   ],
   "source": [
    "uo2sat_bin_idx = 40\n",
    "fig = go.Figure()\n",
    "fig.add_trace(go.Scatter(x=O2Sat_vals, y=cpt[:, uo2sat_bin_idx]))\n",
    "fig.update_layout(\n",
    "    title_text=f\"P(O2Sat | UO2Sat = {UO2Sat.bins_arr[uo2sat_bin_idx]})\",\n",
    "    xaxis_title=\"O2 saturation (%)\",\n",
    "    yaxis_title=\"Probability\",\n",
    ")\n",
    "fig.show()"
   ]
  },
  {
   "cell_type": "markdown",
   "metadata": {},
   "source": [
    "Values below 70% are not realistic, but mathematically they can be obtained with the model.\n",
    "\n",
    "We create the CPT for O2Sat going from 50 to 100 and for UO2Sat going for 50 to 100. The 100 boundary for UO2Sat is meaningful, but not the 50. It's not a problem, because it has an effect for O2Sat = [50-53] and UO2Sat [50-57] which should never be obtained"
   ]
  },
  {
   "cell_type": "code",
   "execution_count": 9,
   "metadata": {},
   "outputs": [],
   "source": [
    "# Save cpt in text file\n",
    "np.savetxt(\"cpt_o2sat_uo2sat.txt\", cpt, delimiter=\",\")"
   ]
  },
  {
   "cell_type": "code",
   "execution_count": null,
   "metadata": {},
   "outputs": [],
   "source": []
  }
 ],
 "metadata": {
  "kernelspec": {
   "display_name": "phd",
   "language": "python",
   "name": "python3"
  },
  "language_info": {
   "codemirror_mode": {
    "name": "ipython",
    "version": 3
   },
   "file_extension": ".py",
   "mimetype": "text/x-python",
   "name": "python",
   "nbconvert_exporter": "python",
   "pygments_lexer": "ipython3",
   "version": "3.10.13"
  }
 },
 "nbformat": 4,
 "nbformat_minor": 2
}
