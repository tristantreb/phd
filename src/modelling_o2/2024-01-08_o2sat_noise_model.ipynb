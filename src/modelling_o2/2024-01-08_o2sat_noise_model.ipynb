{
    "cells": [
        {
            "cell_type": "markdown",
            "metadata": {},
            "source": [
                "# Model the uncertainty in o2sat measurements\n",
                "\n",
                "Create a lookup table that links the possible true O2Sat values for the measured and rounded values that we put into the model. For that generate a number in a range 90-100, 1) add gaussian noise, 2) round it, 3) keep that number if the result is 98. Do this many times to get the input distribution values that map to 98. Take the std of that distribution.\n",
                "\n",
                "o2 saturation measurements are subject to technical noise and daily biological variation. From clinical practice, the o2 saturation varies by at most by 1 point over 2 minutes of consecutive measurement (technical noise), and varies by to 2-3 points over the a day (biological noise). Hence, where an oximeter displays 98%, the individual's true o2 saturation can be a value in the range [96-100].\n",
                "\n",
                "Since o2 saturation is has a low SNR, it is important to add an o2 saturation measurement noise model to the lung model. Otherwise the model will propagate strong belief in o2 saturation (point-mass distribution) where in reality the belief would be weaker (wider than point-mass distribution).\n",
                "\n",
                "The o2 saturation noise model adresses this issue by generating the underlying true distribution of o2 saturation values corresponding to a single observation.\n",
                "\n",
                "I modelled the noise with two sequential components:\n",
                "1) gaussian noise: the true value is shuffled according to a gaussian distribution centered on that true value and with an  standard deviation that has to be determined.\n",
                "2) rounding: the shuffled value is rounded to the nearest integer. \n",
                "\n",
                "Using this generative model, I can draw the underlying distribution by rejection sampling.\n",
                "0) Pick an o2 saturation observation. This is the measured value.\n",
                "1) Sample a value from a uniform distribution in the range [90-100]. This is the true value.\n",
                "2) Add gaussian noise to the true value with N(true value, std).\n",
                "3) Round the noisy true value to the nearest integer\n",
                "4) If the obtained value is equal to the measured value, keep the true value, otherwise discard it.\n",
                "5) Repeat this algorithm one million times to get the distribution of true values that lead to the observed measured value.\n",
                "\n",
                "Show figure XX of two distributions, with and without the 100 edge effect. Explain that the std is the same for all generated distributions, except the 100 edge effect.\n",
                "\n",
                "#### Computing the gaussian noise's std parameter\n",
                "Note that the obtained underlying distribution can be used in both ways: 1) to sample measurements from a single true value, 2) to sample true values from a single measurement. Hence, all measurements of an individual are sampled from the underlying distribution corresponding to that individual, provided that the individual is healthy enough to have a constant true o2 saturation. Hence, avg_std_ID = std_dist = sqrt(std_gauss^2 + std_rounding^2)\n",
                "\n",
                "avg_std_ID: an individual's average standard deviation of its o2 saturation measurements. The average is computed over a subset of healthy enough (>80% FEV1 % predicted) individuals\n",
                "std_dist: standard deviation of the underlying distribution of the measurements. Ignoring the 100% boundary effect, the std_dist is the same across all individuals (see figure XX).\n",
                "sqrt(): mathetmatical relation to surface the relationships between the three types of uncertainties: uncertainty due to gaussian noise, uncertainty due to rounding and total uncertainty. This can be derived using the sum of two independent randome variables. In fact, whilst the gaussian noise and the rounding effects aggregate, the two phenomenons are independent.\n",
                "\n",
                "Using this equation, I empirically derived std_gauss with the following steps:\n",
                "1) For each individual, compute the measurement's standard deviation and take the average. This is std_ID\n",
                "2) Pick an std_gauss 0.5 below std_ID. This is a good starting point because the std_rounding should be around 0.5\n",
                "3) Run the generative model and save the std_dist\n",
                "4) Update std_gauss and run and go back to 3) until the obtained std_dist equals std_ID computed in 1)\n",
                "\n",
                "I obtained std_gauss 0.86.\n",
                "\n",
                "### How to build the cpt\n",
                "For each possible value of O2 saturation, bin up the output distribution in bins of unbiased O2 saturation, and fill its cpt.\n",
                "\n",
                "Note that sampling downwards or samping upwards produces the same results. Sapmling downwards is however less expensive\n",
                "\n",
                "I computed the gaussian noise's std parameter using the sum of two random variables. Whilst the gaussian noise and the rounding effects aggregate, the two phenomenons are independent.\n",
                "https://www.milefoot.com/math/stat/rv-sums.htm#:~:text=For%20any%20two%20random%20variables,sum%20of%20their%20expected%20values.&text=The%20proof%2C%20for%20both%20the,continuous%20cases%2C%20is%20rather%20straightforward."
            ]
        },
        {
            "cell_type": "code",
            "execution_count": null,
            "metadata": {},
            "outputs": [],
            "source": [
                "import numpy as np\n",
                "import src.data.breathe_data as breathe_data\n",
                "import src.data.helpers as datah\n",
                "import plotly.express as px\n",
                "import plotly.graph_objects as go\n",
                "import src.models.helpers as mh\n",
                "import src.modelling_o2.o2sat as o2sat\n",
                "import src.models.cpts.load_cpt as load_cpt"
            ]
        },
        {
            "cell_type": "code",
            "execution_count": null,
            "metadata": {},
            "outputs": [],
            "source": [
                "# df = breathe_data.build_O2_FEV1_df()\n",
                "df = breathe_data.load_o2_fev1_df_from_excel()"
            ]
        },
        {
            "cell_type": "markdown",
            "metadata": {},
            "source": [
                "# Find the uncertainy of an o2 sat measurement"
            ]
        },
        {
            "cell_type": "code",
            "execution_count": null,
            "metadata": {},
            "outputs": [],
            "source": [
                "# Estimate the uncertainty of an o2 sat measurement\n",
                "# Take the healthiest individuals and compute the standard deviation of their measurements\n",
                "# Plot a histogram of the standard deviations\n",
                "# Take the mean as the std of an o2 sat measurement\n",
                "\n",
                "\n",
                "def get_std(df):\n",
                "    \"\"\"\n",
                "    If there are more than 10 values, compute the standard deviation\n",
                "    Else, return NaN\n",
                "    \"\"\"\n",
                "    if len(df) > 10:\n",
                "        return df.std()\n",
                "    else:\n",
                "        return np.nan\n",
                "\n",
                "\n",
                "df_std = datah.compute_avg(df, \"FEV1 % Predicted\", \"%\")\n",
                "print(f\"{df.ID.nunique()} IDs\")\n",
                "# Filter healthy individuals\n",
                "df_std = df_std[df_std[\"FEV1 % Predicted\"] > 80]\n",
                "print(f\"{df_std.ID.nunique()} healthy IDs\")\n",
                "\n",
                "stds = df_std.groupby(\"ID\")[\"O2 Saturation\"].agg(get_std)\n",
                "stds = stds.dropna()\n",
                "print(f\"{len(stds)}/{df_std.ID.nunique()} IDs with > 10 measurements\")\n",
                "\n",
                "# Print avg std\n",
                "print(f\"Average std: {stds.mean()}\")\n",
                "print(f\"Median std: {stds.median()}\")\n",
                "\n",
                "# Plost histogram of stds\n",
                "fig = px.histogram(stds, nbins=20)  # , marginal=\"box\")\n",
                "# Update x axis\n",
                "fig.update_xaxes(\n",
                "    title_text=f\"Standard deviation of the individual's<br> O2 saturation measurements\"\n",
                ")\n",
                "fig.update_yaxes(title_text=\"Individuals count\")\n",
                "fig.update_layout(\n",
                "    title_text=\"Distribution of standard deviations of O2 Saturation measurements\",\n",
                "    height=300,\n",
                "    width=500,\n",
                "    showlegend=False,\n",
                "    font=dict(size=9),\n",
                ")\n",
                "fig.show()"
            ]
        },
        {
            "cell_type": "markdown",
            "metadata": {},
            "source": [
                "# Define the generative noise model and tailor it to our data"
            ]
        },
        {
            "cell_type": "code",
            "execution_count": null,
            "metadata": {},
            "outputs": [],
            "source": [
                "# Randomly generate a number in the range 90.0-100.0\n",
                "x = np.random.uniform(90.0, 100.0)\n",
                "print(x)\n",
                "# Add gaussian noise to the number with a standard deviation of 0.9\n",
                "x = np.random.normal(x, 0.86)\n",
                "print(x)\n",
                "# Round x to the nearest 1\n",
                "x = round(x)\n",
                "print(x)"
            ]
        },
        {
            "cell_type": "code",
            "execution_count": null,
            "metadata": {},
            "outputs": [],
            "source": [
                "O2Sat_vals = np.arange(50, 101, 1)\n",
                "\n",
                "# Parameters\n",
                "UO2Sat = mh.VariableNode(\"Underlying O2 saturation (%)\", 50, 100, 0.5, prior=None)\n",
                "o2sat_obs = 95\n",
                "std_gauss = 0.86\n",
                "repetitions = 1000000\n",
                "\n",
                "hist, bin_edges, true_o2sat_arr = o2sat.generate_underlying_uo2sat_distribution(\n",
                "    UO2Sat, o2sat_obs, repetitions, std_gauss, show_std=True\n",
                ")\n",
                "\n",
                "fig = go.Figure()\n",
                "fig.add_trace(\n",
                "    go.Histogram(\n",
                "        x=true_o2sat_arr,\n",
                "        xbins=dict(start=UO2Sat.a, end=UO2Sat.b, size=1),\n",
                "        autobinx=False,\n",
                "        histnorm=\"probability\",\n",
                "    )\n",
                ")\n",
                "\n",
                "fig.update_layout(\n",
                "    width=300, height=300, font=dict(size=7), title=f\"P(UO2Sat | O2Sat={o2sat_obs}%)\"\n",
                ")\n",
                "fig.update_xaxes(range=[80, UO2Sat.b], title=UO2Sat.name)\n",
                "fig.update_yaxes(title=\"Probability\", range=[0, 0.45])\n",
                "# Add annotation top left\n",
                "fig.add_annotation(\n",
                "    x=0.0,\n",
                "    y=1.15,\n",
                "    xref=\"paper\",\n",
                "    yref=\"paper\",\n",
                "    showarrow=False,\n",
                "    text=f\"P(UO2Sat | O2Sat={o2sat_obs}%)\",\n",
                "    font=dict(size=10),\n",
                ")\n",
                "fig.show()"
            ]
        },
        {
            "cell_type": "code",
            "execution_count": null,
            "metadata": {},
            "outputs": [],
            "source": [
                "o2sat_idx = 46\n",
                "print(O2SatVar.get_bins_str()[o2sat_idx])\n",
                "cpt[o2sat_idx, :]"
            ]
        },
        {
            "cell_type": "code",
            "execution_count": null,
            "metadata": {},
            "outputs": [],
            "source": [
                "# Sample from cpt using to create a histogram\n",
                "# Used for the thesis report images\n",
                "O2SatVar = mh.VariableNode(\"O2 saturation (%)\", 49.5, 100.5, 1, prior=None)\n",
                "UO2Sat = mh.VariableNode(\"Underlying O2 saturation (%)\", 50, 100, 0.5, prior=None)\n",
                "\n",
                "o2sat_bin_idx = 49\n",
                "print(f\"O2Sat bin: {O2SatVar.get_bins_str()[o2sat_bin_idx]}\")\n",
                "p = cpt[o2sat_bin_idx, :]\n",
                "p = p / p.sum()\n",
                "o2sat_arr = UO2Sat.sample(n=1000000, p=p)\n",
                "fig = go.Figure()\n",
                "fig.add_trace(\n",
                "    go.Histogram(\n",
                "        x=o2sat_arr,\n",
                "        xbins=dict(start=UO2Sat.a, end=UO2Sat.b, size=UO2Sat.bin_width),\n",
                "        autobinx=False,\n",
                "        histnorm=\"probability\",\n",
                "    )\n",
                ")\n",
                "\n",
                "fig.update_layout(\n",
                "    width=300,\n",
                "    height=300,\n",
                "    font=dict(size=7),\n",
                "    title=f\"P(UO2Sat | O2Sat = {O2SatVar.get_bins_str()[o2sat_bin_idx]}\",\n",
                ")\n",
                "fig.update_xaxes(range=[90, UO2Sat.b], title=UO2Sat.name)\n",
                "fig.update_yaxes(title=\"Probability\", range=[0, 0.45])\n",
                "# Add annotation top left\n",
                "fig.add_annotation(\n",
                "    x=0.0,\n",
                "    y=1.15,\n",
                "    xref=\"paper\",\n",
                "    yref=\"paper\",\n",
                "    showarrow=False,\n",
                "    text=f\"P(UO2Sat | O2Sat={round(O2SatVar.midbins[o2sat_bin_idx])}%)\",\n",
                "    font=dict(size=10),\n",
                ")\n",
                "fig.show()"
            ]
        },
        {
            "cell_type": "markdown",
            "metadata": {},
            "source": [
                "# Build the CPT of O2Sat-UnbiasedO2Sat"
            ]
        },
        {
            "cell_type": "markdown",
            "metadata": {},
            "source": [
                "## By sampling upwards and inverting the CPT (more expensive)\n",
                "It uses the same algorithm as above but saves all the data into a table"
            ]
        },
        {
            "cell_type": "code",
            "execution_count": null,
            "metadata": {},
            "outputs": [],
            "source": [
                "# Parameters\n",
                "O2Sat_vals = np.arange(50, 101, 1)\n",
                "UO2Sat = mh.VariableNode(\"Unbiased O2 saturation (%)\", 50, 100, 0.5, prior=None)\n",
                "std_gauss = 0.86\n",
                "repetitions = 10000\n",
                "cpt = np.zeros((len(O2Sat_vals), UO2Sat.card))\n",
                "\n",
                "for i, o2sat_obs in enumerate(O2Sat_vals):\n",
                "    hist, _, _ = o2sat.generate_underlying_uo2sat_distribution(\n",
                "        UO2Sat, o2sat_obs, repetitions, std_gauss, show_std=True\n",
                "    )\n",
                "\n",
                "    cpt[i, :] = hist\n",
                "\n",
                "# Normalise cpt\n",
                "normaliser = cpt.sum(axis=0)\n",
                "for i, norm in enumerate(normaliser):\n",
                "    if norm != 0:\n",
                "        cpt[:, i] = cpt[:, i] / norm"
            ]
        },
        {
            "cell_type": "code",
            "execution_count": null,
            "metadata": {},
            "outputs": [],
            "source": [
                "O2SatVar = mh.VariableNode(\"O2 saturation (%)\", 49.5, 100.5, 1, prior=None)\n",
                "UO2Sat = mh.VariableNode(\"Underlying O2 saturation (%)\", 50, 100, 0.5, prior=None)\n",
                "\n",
                "cpt = load_cpt.get_cpt([O2SatVar, UO2Sat])"
            ]
        },
        {
            "cell_type": "code",
            "execution_count": null,
            "metadata": {},
            "outputs": [],
            "source": [
                "uo2sat_bin_idx = 90\n",
                "fig = go.Figure()\n",
                "fig.add_trace(go.Bar(x=O2Sat_vals, y=cpt[:, uo2sat_bin_idx]))\n",
                "fig.update_layout(bargap=0)\n",
                "fig.update_layout(\n",
                "    title_text=f\"P(O2Sat | UO2Sat = {UO2Sat.get_bins_str()[uo2sat_bin_idx]})\",\n",
                "    xaxis_title=\"O2 saturation (%)\",\n",
                "    yaxis_title=\"Probability\",\n",
                "    width=600,\n",
                "    height=300,\n",
                "    font=dict(size=8),\n",
                ")\n",
                "fig.show()"
            ]
        },
        {
            "cell_type": "markdown",
            "metadata": {},
            "source": [
                "Values below 70% are not realistic, but mathematically they can be obtained with the model.\n",
                "\n",
                "We create the CPT for O2Sat going from 50 to 100 and for UO2Sat going for 50 to 100. The 100 boundary for UO2Sat is meaningful, but not the 50. It's not a problem, because it has an effect for O2Sat = [50-53] and UO2Sat [50-57] which should never be obtained"
            ]
        },
        {
            "cell_type": "code",
            "execution_count": null,
            "metadata": {},
            "outputs": [],
            "source": [
                "# Save cpt in text file\n",
                "np.savetxt(\n",
                "    f\"cpt_o2sat_50_100_uo2sat_{UO2Sat.a}_{UO2Sat.b}_{UO2Sat.bin_width}.txt\",\n",
                "    cpt,\n",
                "    delimiter=\",\",\n",
                ")"
            ]
        },
        {
            "cell_type": "code",
            "execution_count": null,
            "metadata": {},
            "outputs": [],
            "source": [
                "# Sample from cpt using to create a histogram\n",
                "# Used for the thesis report images\n",
                "O2SatVar = mh.VariableNode(\"O2 saturation (%)\", 49.5, 100.5, 1, prior=None)\n",
                "UO2Sat = mh.VariableNode(\"Underlying O2 saturation (%)\", 50, 100, 0.5, prior=None)\n",
                "\n",
                "uo2sat_bin_idx = 90\n",
                "print(f\"UO2Sat bin: {UO2Sat.get_bins_str()[uo2sat_bin_idx]}\")\n",
                "o2sat_arr = O2SatVar.sample(\n",
                "    n=1000000, p=(cpt[:, 97] + cpt[:, 98]) / sum(cpt[:, 97] + cpt[:, 98])\n",
                ")\n",
                "# len(cpt[:, uo2sat_bin_idx])\n",
                "# UO2Sat.card\n",
                "fig = go.Figure()\n",
                "fig.add_trace(\n",
                "    go.Histogram(\n",
                "        x=o2sat_arr,\n",
                "        xbins=dict(start=O2SatVar.a, end=O2SatVar.b, size=O2SatVar.bin_width),\n",
                "        autobinx=False,\n",
                "        histnorm=\"probability\",\n",
                "    )\n",
                ")\n",
                "\n",
                "fig.update_layout(\n",
                "    width=300,\n",
                "    height=300,\n",
                "    font=dict(size=7),\n",
                "    title=f\"P(O2Sat | UO2Sat = {UO2Sat.get_bins_str()[uo2sat_bin_idx]}\",\n",
                ")\n",
                "fig.update_xaxes(range=[90, O2SatVar.b], title=O2SatVar.name)\n",
                "fig.update_yaxes(title=\"Probability\", range=[0, 0.7])\n",
                "# Add annotation top left\n",
                "fig.add_annotation(\n",
                "    x=0.0,\n",
                "    y=1.15,\n",
                "    xref=\"paper\",\n",
                "    yref=\"paper\",\n",
                "    showarrow=False,\n",
                "    text=f\"P(O2Sat | UO2Sat = {UO2Sat.get_bins_str()[uo2sat_bin_idx]})\",\n",
                "    font=dict(size=10),\n",
                ")\n",
                "fig.show()"
            ]
        },
        {
            "cell_type": "markdown",
            "metadata": {},
            "source": [
                "## By using sampling downwards from the noise model"
            ]
        },
        {
            "cell_type": "code",
            "execution_count": null,
            "metadata": {},
            "outputs": [],
            "source": [
                "# Parameters\n",
                "O2Sat_vals = np.arange(50, 101, 1)\n",
                "UO2Sat = mh.VariableNode(\"Unbiased O2 saturation (%)\", 50, 100, 1, prior=None)\n",
                "std_gauss = 0.86\n",
                "repetitions = 100000\n",
                "cpt2 = np.zeros((len(O2Sat_vals), UO2Sat.card))\n",
                "\n",
                "for i in range(UO2Sat.card):\n",
                "    hist, _, _ = o2sat.generate_o2sat_distribution(\n",
                "        [50, 100], UO2Sat.get_bins_arr()[i], repetitions, std_gauss, show_std=True\n",
                "    )\n",
                "\n",
                "    cpt2[:, i] = hist\n",
                "\n",
                "# Normalise cpt\n",
                "normaliser = cpt2.sum(axis=0)\n",
                "for i, norm in enumerate(normaliser):\n",
                "    if norm != 0:\n",
                "        cpt2[:, i] = cpt2[:, i] / norm"
            ]
        },
        {
            "cell_type": "code",
            "execution_count": null,
            "metadata": {},
            "outputs": [],
            "source": [
                "uo2sat_bin_idx = 45\n",
                "fig = go.Figure()\n",
                "fig.add_trace(go.Bar(x=O2Sat_vals, y=cpt2[:, uo2sat_bin_idx]))\n",
                "fig.update_layout(\n",
                "    title_text=f\"P(O2Sat | UO2Sat = {UO2Sat.get_bins_arr()[uo2sat_bin_idx]})\",\n",
                "    xaxis_title=\"O2 saturation (%)\",\n",
                "    yaxis_title=\"Probability\",\n",
                "    bargap=0,\n",
                "    height=300,\n",
                "    width=600,\n",
                "    font=dict(size=9),\n",
                ")\n",
                "fig.show()"
            ]
        },
        {
            "cell_type": "code",
            "execution_count": null,
            "metadata": {},
            "outputs": [],
            "source": [
                "uo2sat_bin_idx = 46\n",
                "fig = go.Figure()\n",
                "fig.add_trace(\n",
                "    go.Bar(x=O2Sat_vals, y=cpt2[uo2sat_bin_idx, :] / sum(cpt2[uo2sat_bin_idx, :]))\n",
                ")\n",
                "fig.update_layout(\n",
                "    title_text=f\"P(O2Sat | UO2Sat = {UO2Sat.get_bins_arr()[uo2sat_bin_idx]})\",\n",
                "    xaxis_title=\"O2 saturation (%)\",\n",
                "    yaxis_title=\"Probability\",\n",
                "    bargap=0,\n",
                "    height=300,\n",
                "    width=600,\n",
                "    font=dict(size=9),\n",
                ")\n",
                "fig.show()"
            ]
        },
        {
            "cell_type": "code",
            "execution_count": null,
            "metadata": {},
            "outputs": [],
            "source": [
                "cpt2[uo2sat_bin_idx, :] / sum(cpt2[uo2sat_bin_idx, :])"
            ]
        },
        {
            "cell_type": "code",
            "execution_count": null,
            "metadata": {},
            "outputs": [],
            "source": [
                "cpt2[:, uo2sat_bin_idx] / sum(cpt2[:, uo2sat_bin_idx])"
            ]
        },
        {
            "cell_type": "code",
            "execution_count": null,
            "metadata": {},
            "outputs": [],
            "source": []
        }
    ],
    "metadata": {
        "kernelspec": {
            "display_name": "phd",
            "language": "python",
            "name": "python3"
        },
        "language_info": {
            "codemirror_mode": {
                "name": "ipython",
                "version": 3
            },
            "file_extension": ".py",
            "mimetype": "text/x-python",
            "name": "python",
            "nbconvert_exporter": "python",
            "pygments_lexer": "ipython3",
            "version": "3.10.13"
        }
    },
    "nbformat": 4,
    "nbformat_minor": 2
}