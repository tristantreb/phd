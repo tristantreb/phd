{
    "cells": [
        {
            "cell_type": "markdown",
            "metadata": {},
            "source": [
                "# Model the uncertainty in o2sat measurements\n",
                "\n",
                "Create a lookup table that links the possible true O2Sat values for the measured and rounded values that we put into the model. For that generate a number in a range 90-100, 1) add gaussian noise, 2) round it, 3) keep that number if the result is 98. Do this many times to get the input distribution values that map to 98. Take the std of that distribution.\n",
                "\n",
                "o2 saturation measurements are subject to technical and biological noise. From clinical practice, the o2 saturation varies by at most by 1 point over 2 minutes of consecutive measurement (technical noise), and varies by to 2-3 points over the a day (biological noise). Hence, where an oximeter displays 98%, the individual's true o2 saturation can be a value in the range [96-100].\n",
                "\n",
                "Since o2 saturation is has a high SNR, it is important to add an o2 saturation measurement noise model to the lung model. Otherwise the model will propagate strong belief in o2 saturation (point-mass distribution) where in reality the belief would be weaker (wider than point-mass distribution).\n",
                "\n",
                "The o2 saturation noise model adresses this issue by generating the underlying true distribution of o2 saturation values corresponding to a single observation.\n",
                "\n",
                "I modelled the noise with two sequential components:\n",
                "1) gaussian noise: the true value is shuffled according to a gaussian distribution centered on that true value and with an  standard deviation that has to be determined.\n",
                "2) rounding: the shuffled value is rounded to the nearest integer. \n",
                "\n",
                "Using this generative model, I can draw the underlying distribution by rejection sampling.\n",
                "0) Pick an o2 saturation observation. This is the measured value.\n",
                "1) Sample a value from a uniform distribution in the range [90-100]. This is the true value.\n",
                "2) Add gaussian noise to the true value with N(true value, std).\n",
                "3) Round the noisy true value to the nearest integer\n",
                "4) If the obtained value is equal to the measured value, keep the true value, otherwise discard it.\n",
                "5) Repeat this algorithm one million times to get the distribution of true values that lead to the observed measured value.\n",
                "\n",
                "Show figure XX of two distributions, with and without the 100 edge effect. Explain that the std is the same for all generated distributions, except the 100 edge effect.\n",
                "\n",
                "#### Computing the gaussian noise's std parameter\n",
                "Note that the obtained underlying distribution can be used in both ways: 1) to sample measurements from a single true value, 2) to sample true values from a single measurement. Hence, all measurements of an individual are sampled from the underlying distribution corresponding to that individual, provided that the individual is healthy enough to have a constant true o2 saturation. Hence, avg_std_ID = std_dist = sqrt(std_gauss + std_rounding)\n",
                "\n",
                "avg_std_ID: an individual's average standard deviation of its o2 saturation measurements. The average is computed over a subset of healthy enough (>80% FEV1 % predicted) individuals\n",
                "std_dist: standard deviation of the underlying distribution of the measurements. Ignoring the 100% boundary effect, the std_dist is the same across all individuals (see figure XX).\n",
                "sqrt(): mathetmatical relation to surface the relationships between the three types of uncertainties: uncertainty due to gaussian noise, uncertainty due to rounding and total uncertainty. This can be derived using the sum of two independent randome variables. In fact, whilst the gaussian noise and the rounding effects aggregate, the two phenomenons are independent.\n",
                "\n",
                "Using this equation, I empirically derived std_gauss with the following steps:\n",
                "1) For each individual, compute the measurement's standard deviation and take the average. This is std_ID\n",
                "2) Pick an std_gauss 0.5 below std_ID. This is a good starting point because the std_rounding shoud be around 0.5\n",
                "3) Run the generative model and save the std_dist\n",
                "4) Update std_gauss and run and go back to 3) until the obtained std_dist equals std_ID computed in 1)\n",
                "\n",
                "I obtained std_gauss 0.86.\n",
                "\n",
                "### How to build the cpt\n",
                "For each possible value of O2 saturation, bin up the output distribution in bins of unbiased O2 saturation, and fill its cpt.\n",
                "\n",
                "I computed the gaussian noise's std parameter using the sum of two random variables. Whilst the gaussian noise and the rounding effects aggregate, the two phenomenons are independent.\n",
                "https://www.milefoot.com/math/stat/rv-sums.htm#:~:text=For%20any%20two%20random%20variables,sum%20of%20their%20expected%20values.&text=The%20proof%2C%20for%20both%20the,continuous%20cases%2C%20is%20rather%20straightforward."
            ]
        },
        {
            "cell_type": "code",
            "execution_count": 1,
            "metadata": {},
            "outputs": [],
            "source": [
                "import numpy as np\n",
                "import src.data.breathe_data as breathe_data\n",
                "import src.data.helpers as datah\n",
                "import plotly.express as px\n",
                "import plotly.figure_factory as ff\n",
                "import plotly.graph_objects as go\n",
                "from plotly.subplots import make_subplots\n",
                "import src.models.helpers as mh\n",
                "import src.modelling_o2.o2sat as o2sat"
            ]
        },
        {
            "cell_type": "code",
            "execution_count": 2,
            "metadata": {},
            "outputs": [],
            "source": [
                "# df = breathe_data.build_O2_FEV1_df()\n",
                "df = breathe_data.load_from_excel()()"
            ]
        },
        {
            "cell_type": "markdown",
            "metadata": {},
            "source": [
                "# Find the uncertainy of an o2 sat measurement"
            ]
        },
        {
            "cell_type": "code",
            "execution_count": 8,
            "metadata": {},
            "outputs": [
                {
                    "name": "stdout",
                    "output_type": "stream",
                    "text": [
                        "213 IDs\n",
                        "96 healthy IDs\n",
                        "54/96 IDs with > 10 measurements\n",
                        "Average std: 0.907397942237467\n",
                        "Median std: 0.8717543896524964\n"
                    ]
                },
                {
                    "data": {
                        "application/vnd.plotly.v1+json": {
                            "config": {
                                "plotlyServerURL": "https://plot.ly"
                            },
                            "data": [
                                {
                                    "alignmentgroup": "True",
                                    "bingroup": "x",
                                    "hovertemplate": "variable=O2 Saturation<br>value=%{x}<br>count=%{y}<extra></extra>",
                                    "legendgroup": "O2 Saturation",
                                    "marker": {
                                        "color": "#636efa",
                                        "pattern": {
                                            "shape": ""
                                        }
                                    },
                                    "name": "O2 Saturation",
                                    "nbinsx": 20,
                                    "offsetgroup": "O2 Saturation",
                                    "orientation": "v",
                                    "showlegend": true,
                                    "type": "histogram",
                                    "x": [
                                        0.568409800229269,
                                        1.2282918067063084,
                                        0.9003366373785199,
                                        0.8829841544156685,
                                        0.7035064009472135,
                                        0.7513751157474972,
                                        0.8605246248893242,
                                        0.9497712589980055,
                                        0.8899161001849477,
                                        0.7389025723965599,
                                        0.5512908203729234,
                                        0.9607689228305224,
                                        1.4142135623730951,
                                        0.8857114542917398,
                                        0.6400851541568058,
                                        0.37463432463267754,
                                        0.8047478161629565,
                                        0.808911953846271,
                                        1.1597067672891521,
                                        1.245657664614221,
                                        0.8837151016885368,
                                        0.7223676409737676,
                                        1.2633523314184736,
                                        0.9950859653474026,
                                        0.7560652845435095,
                                        0.5910804632890485,
                                        0.7250943523979951,
                                        0.4914315444597565,
                                        0.8256813083303347,
                                        0.9972489631508743,
                                        0.5560384374855325,
                                        0.6565650723542865,
                                        0.9140017361383219,
                                        1.6012815380508714,
                                        1.5897788605327543,
                                        0.9768498542662228,
                                        1.261233989241027,
                                        0.9349597102891364,
                                        0.9251247785330666,
                                        1.3284223283101426,
                                        0.6174185563771668,
                                        0.7124435118490149,
                                        0.9791476695218949,
                                        0.9579921282290988,
                                        0.6868028197434453,
                                        0.5527487382988376,
                                        1.1943352886058403,
                                        0.8338093878327919,
                                        0.2732763127330939,
                                        0.8053780974060699,
                                        0.5072996561958923,
                                        0.8387421368293256,
                                        2.781088596487463,
                                        0.9438798074485389
                                    ],
                                    "xaxis": "x",
                                    "yaxis": "y"
                                },
                                {
                                    "alignmentgroup": "True",
                                    "hovertemplate": "variable=O2 Saturation<br>value=%{x}<extra></extra>",
                                    "legendgroup": "O2 Saturation",
                                    "marker": {
                                        "color": "#636efa"
                                    },
                                    "name": "O2 Saturation",
                                    "notched": true,
                                    "offsetgroup": "O2 Saturation",
                                    "showlegend": false,
                                    "type": "box",
                                    "x": [
                                        0.568409800229269,
                                        1.2282918067063084,
                                        0.9003366373785199,
                                        0.8829841544156685,
                                        0.7035064009472135,
                                        0.7513751157474972,
                                        0.8605246248893242,
                                        0.9497712589980055,
                                        0.8899161001849477,
                                        0.7389025723965599,
                                        0.5512908203729234,
                                        0.9607689228305224,
                                        1.4142135623730951,
                                        0.8857114542917398,
                                        0.6400851541568058,
                                        0.37463432463267754,
                                        0.8047478161629565,
                                        0.808911953846271,
                                        1.1597067672891521,
                                        1.245657664614221,
                                        0.8837151016885368,
                                        0.7223676409737676,
                                        1.2633523314184736,
                                        0.9950859653474026,
                                        0.7560652845435095,
                                        0.5910804632890485,
                                        0.7250943523979951,
                                        0.4914315444597565,
                                        0.8256813083303347,
                                        0.9972489631508743,
                                        0.5560384374855325,
                                        0.6565650723542865,
                                        0.9140017361383219,
                                        1.6012815380508714,
                                        1.5897788605327543,
                                        0.9768498542662228,
                                        1.261233989241027,
                                        0.9349597102891364,
                                        0.9251247785330666,
                                        1.3284223283101426,
                                        0.6174185563771668,
                                        0.7124435118490149,
                                        0.9791476695218949,
                                        0.9579921282290988,
                                        0.6868028197434453,
                                        0.5527487382988376,
                                        1.1943352886058403,
                                        0.8338093878327919,
                                        0.2732763127330939,
                                        0.8053780974060699,
                                        0.5072996561958923,
                                        0.8387421368293256,
                                        2.781088596487463,
                                        0.9438798074485389
                                    ],
                                    "xaxis": "x2",
                                    "yaxis": "y2"
                                }
                            ],
                            "layout": {
                                "barmode": "relative",
                                "legend": {
                                    "title": {
                                        "text": "variable"
                                    },
                                    "tracegroupgap": 0
                                },
                                "margin": {
                                    "t": 60
                                },
                                "template": {
                                    "data": {
                                        "bar": [
                                            {
                                                "error_x": {
                                                    "color": "#2a3f5f"
                                                },
                                                "error_y": {
                                                    "color": "#2a3f5f"
                                                },
                                                "marker": {
                                                    "line": {
                                                        "color": "#E5ECF6",
                                                        "width": 0.5
                                                    },
                                                    "pattern": {
                                                        "fillmode": "overlay",
                                                        "size": 10,
                                                        "solidity": 0.2
                                                    }
                                                },
                                                "type": "bar"
                                            }
                                        ],
                                        "barpolar": [
                                            {
                                                "marker": {
                                                    "line": {
                                                        "color": "#E5ECF6",
                                                        "width": 0.5
                                                    },
                                                    "pattern": {
                                                        "fillmode": "overlay",
                                                        "size": 10,
                                                        "solidity": 0.2
                                                    }
                                                },
                                                "type": "barpolar"
                                            }
                                        ],
                                        "carpet": [
                                            {
                                                "aaxis": {
                                                    "endlinecolor": "#2a3f5f",
                                                    "gridcolor": "white",
                                                    "linecolor": "white",
                                                    "minorgridcolor": "white",
                                                    "startlinecolor": "#2a3f5f"
                                                },
                                                "baxis": {
                                                    "endlinecolor": "#2a3f5f",
                                                    "gridcolor": "white",
                                                    "linecolor": "white",
                                                    "minorgridcolor": "white",
                                                    "startlinecolor": "#2a3f5f"
                                                },
                                                "type": "carpet"
                                            }
                                        ],
                                        "choropleth": [
                                            {
                                                "colorbar": {
                                                    "outlinewidth": 0,
                                                    "ticks": ""
                                                },
                                                "type": "choropleth"
                                            }
                                        ],
                                        "contour": [
                                            {
                                                "colorbar": {
                                                    "outlinewidth": 0,
                                                    "ticks": ""
                                                },
                                                "colorscale": [
                                                    [
                                                        0,
                                                        "#0d0887"
                                                    ],
                                                    [
                                                        0.1111111111111111,
                                                        "#46039f"
                                                    ],
                                                    [
                                                        0.2222222222222222,
                                                        "#7201a8"
                                                    ],
                                                    [
                                                        0.3333333333333333,
                                                        "#9c179e"
                                                    ],
                                                    [
                                                        0.4444444444444444,
                                                        "#bd3786"
                                                    ],
                                                    [
                                                        0.5555555555555556,
                                                        "#d8576b"
                                                    ],
                                                    [
                                                        0.6666666666666666,
                                                        "#ed7953"
                                                    ],
                                                    [
                                                        0.7777777777777778,
                                                        "#fb9f3a"
                                                    ],
                                                    [
                                                        0.8888888888888888,
                                                        "#fdca26"
                                                    ],
                                                    [
                                                        1,
                                                        "#f0f921"
                                                    ]
                                                ],
                                                "type": "contour"
                                            }
                                        ],
                                        "contourcarpet": [
                                            {
                                                "colorbar": {
                                                    "outlinewidth": 0,
                                                    "ticks": ""
                                                },
                                                "type": "contourcarpet"
                                            }
                                        ],
                                        "heatmap": [
                                            {
                                                "colorbar": {
                                                    "outlinewidth": 0,
                                                    "ticks": ""
                                                },
                                                "colorscale": [
                                                    [
                                                        0,
                                                        "#0d0887"
                                                    ],
                                                    [
                                                        0.1111111111111111,
                                                        "#46039f"
                                                    ],
                                                    [
                                                        0.2222222222222222,
                                                        "#7201a8"
                                                    ],
                                                    [
                                                        0.3333333333333333,
                                                        "#9c179e"
                                                    ],
                                                    [
                                                        0.4444444444444444,
                                                        "#bd3786"
                                                    ],
                                                    [
                                                        0.5555555555555556,
                                                        "#d8576b"
                                                    ],
                                                    [
                                                        0.6666666666666666,
                                                        "#ed7953"
                                                    ],
                                                    [
                                                        0.7777777777777778,
                                                        "#fb9f3a"
                                                    ],
                                                    [
                                                        0.8888888888888888,
                                                        "#fdca26"
                                                    ],
                                                    [
                                                        1,
                                                        "#f0f921"
                                                    ]
                                                ],
                                                "type": "heatmap"
                                            }
                                        ],
                                        "heatmapgl": [
                                            {
                                                "colorbar": {
                                                    "outlinewidth": 0,
                                                    "ticks": ""
                                                },
                                                "colorscale": [
                                                    [
                                                        0,
                                                        "#0d0887"
                                                    ],
                                                    [
                                                        0.1111111111111111,
                                                        "#46039f"
                                                    ],
                                                    [
                                                        0.2222222222222222,
                                                        "#7201a8"
                                                    ],
                                                    [
                                                        0.3333333333333333,
                                                        "#9c179e"
                                                    ],
                                                    [
                                                        0.4444444444444444,
                                                        "#bd3786"
                                                    ],
                                                    [
                                                        0.5555555555555556,
                                                        "#d8576b"
                                                    ],
                                                    [
                                                        0.6666666666666666,
                                                        "#ed7953"
                                                    ],
                                                    [
                                                        0.7777777777777778,
                                                        "#fb9f3a"
                                                    ],
                                                    [
                                                        0.8888888888888888,
                                                        "#fdca26"
                                                    ],
                                                    [
                                                        1,
                                                        "#f0f921"
                                                    ]
                                                ],
                                                "type": "heatmapgl"
                                            }
                                        ],
                                        "histogram": [
                                            {
                                                "marker": {
                                                    "pattern": {
                                                        "fillmode": "overlay",
                                                        "size": 10,
                                                        "solidity": 0.2
                                                    }
                                                },
                                                "type": "histogram"
                                            }
                                        ],
                                        "histogram2d": [
                                            {
                                                "colorbar": {
                                                    "outlinewidth": 0,
                                                    "ticks": ""
                                                },
                                                "colorscale": [
                                                    [
                                                        0,
                                                        "#0d0887"
                                                    ],
                                                    [
                                                        0.1111111111111111,
                                                        "#46039f"
                                                    ],
                                                    [
                                                        0.2222222222222222,
                                                        "#7201a8"
                                                    ],
                                                    [
                                                        0.3333333333333333,
                                                        "#9c179e"
                                                    ],
                                                    [
                                                        0.4444444444444444,
                                                        "#bd3786"
                                                    ],
                                                    [
                                                        0.5555555555555556,
                                                        "#d8576b"
                                                    ],
                                                    [
                                                        0.6666666666666666,
                                                        "#ed7953"
                                                    ],
                                                    [
                                                        0.7777777777777778,
                                                        "#fb9f3a"
                                                    ],
                                                    [
                                                        0.8888888888888888,
                                                        "#fdca26"
                                                    ],
                                                    [
                                                        1,
                                                        "#f0f921"
                                                    ]
                                                ],
                                                "type": "histogram2d"
                                            }
                                        ],
                                        "histogram2dcontour": [
                                            {
                                                "colorbar": {
                                                    "outlinewidth": 0,
                                                    "ticks": ""
                                                },
                                                "colorscale": [
                                                    [
                                                        0,
                                                        "#0d0887"
                                                    ],
                                                    [
                                                        0.1111111111111111,
                                                        "#46039f"
                                                    ],
                                                    [
                                                        0.2222222222222222,
                                                        "#7201a8"
                                                    ],
                                                    [
                                                        0.3333333333333333,
                                                        "#9c179e"
                                                    ],
                                                    [
                                                        0.4444444444444444,
                                                        "#bd3786"
                                                    ],
                                                    [
                                                        0.5555555555555556,
                                                        "#d8576b"
                                                    ],
                                                    [
                                                        0.6666666666666666,
                                                        "#ed7953"
                                                    ],
                                                    [
                                                        0.7777777777777778,
                                                        "#fb9f3a"
                                                    ],
                                                    [
                                                        0.8888888888888888,
                                                        "#fdca26"
                                                    ],
                                                    [
                                                        1,
                                                        "#f0f921"
                                                    ]
                                                ],
                                                "type": "histogram2dcontour"
                                            }
                                        ],
                                        "mesh3d": [
                                            {
                                                "colorbar": {
                                                    "outlinewidth": 0,
                                                    "ticks": ""
                                                },
                                                "type": "mesh3d"
                                            }
                                        ],
                                        "parcoords": [
                                            {
                                                "line": {
                                                    "colorbar": {
                                                        "outlinewidth": 0,
                                                        "ticks": ""
                                                    }
                                                },
                                                "type": "parcoords"
                                            }
                                        ],
                                        "pie": [
                                            {
                                                "automargin": true,
                                                "type": "pie"
                                            }
                                        ],
                                        "scatter": [
                                            {
                                                "fillpattern": {
                                                    "fillmode": "overlay",
                                                    "size": 10,
                                                    "solidity": 0.2
                                                },
                                                "type": "scatter"
                                            }
                                        ],
                                        "scatter3d": [
                                            {
                                                "line": {
                                                    "colorbar": {
                                                        "outlinewidth": 0,
                                                        "ticks": ""
                                                    }
                                                },
                                                "marker": {
                                                    "colorbar": {
                                                        "outlinewidth": 0,
                                                        "ticks": ""
                                                    }
                                                },
                                                "type": "scatter3d"
                                            }
                                        ],
                                        "scattercarpet": [
                                            {
                                                "marker": {
                                                    "colorbar": {
                                                        "outlinewidth": 0,
                                                        "ticks": ""
                                                    }
                                                },
                                                "type": "scattercarpet"
                                            }
                                        ],
                                        "scattergeo": [
                                            {
                                                "marker": {
                                                    "colorbar": {
                                                        "outlinewidth": 0,
                                                        "ticks": ""
                                                    }
                                                },
                                                "type": "scattergeo"
                                            }
                                        ],
                                        "scattergl": [
                                            {
                                                "marker": {
                                                    "colorbar": {
                                                        "outlinewidth": 0,
                                                        "ticks": ""
                                                    }
                                                },
                                                "type": "scattergl"
                                            }
                                        ],
                                        "scattermapbox": [
                                            {
                                                "marker": {
                                                    "colorbar": {
                                                        "outlinewidth": 0,
                                                        "ticks": ""
                                                    }
                                                },
                                                "type": "scattermapbox"
                                            }
                                        ],
                                        "scatterpolar": [
                                            {
                                                "marker": {
                                                    "colorbar": {
                                                        "outlinewidth": 0,
                                                        "ticks": ""
                                                    }
                                                },
                                                "type": "scatterpolar"
                                            }
                                        ],
                                        "scatterpolargl": [
                                            {
                                                "marker": {
                                                    "colorbar": {
                                                        "outlinewidth": 0,
                                                        "ticks": ""
                                                    }
                                                },
                                                "type": "scatterpolargl"
                                            }
                                        ],
                                        "scatterternary": [
                                            {
                                                "marker": {
                                                    "colorbar": {
                                                        "outlinewidth": 0,
                                                        "ticks": ""
                                                    }
                                                },
                                                "type": "scatterternary"
                                            }
                                        ],
                                        "surface": [
                                            {
                                                "colorbar": {
                                                    "outlinewidth": 0,
                                                    "ticks": ""
                                                },
                                                "colorscale": [
                                                    [
                                                        0,
                                                        "#0d0887"
                                                    ],
                                                    [
                                                        0.1111111111111111,
                                                        "#46039f"
                                                    ],
                                                    [
                                                        0.2222222222222222,
                                                        "#7201a8"
                                                    ],
                                                    [
                                                        0.3333333333333333,
                                                        "#9c179e"
                                                    ],
                                                    [
                                                        0.4444444444444444,
                                                        "#bd3786"
                                                    ],
                                                    [
                                                        0.5555555555555556,
                                                        "#d8576b"
                                                    ],
                                                    [
                                                        0.6666666666666666,
                                                        "#ed7953"
                                                    ],
                                                    [
                                                        0.7777777777777778,
                                                        "#fb9f3a"
                                                    ],
                                                    [
                                                        0.8888888888888888,
                                                        "#fdca26"
                                                    ],
                                                    [
                                                        1,
                                                        "#f0f921"
                                                    ]
                                                ],
                                                "type": "surface"
                                            }
                                        ],
                                        "table": [
                                            {
                                                "cells": {
                                                    "fill": {
                                                        "color": "#EBF0F8"
                                                    },
                                                    "line": {
                                                        "color": "white"
                                                    }
                                                },
                                                "header": {
                                                    "fill": {
                                                        "color": "#C8D4E3"
                                                    },
                                                    "line": {
                                                        "color": "white"
                                                    }
                                                },
                                                "type": "table"
                                            }
                                        ]
                                    },
                                    "layout": {
                                        "annotationdefaults": {
                                            "arrowcolor": "#2a3f5f",
                                            "arrowhead": 0,
                                            "arrowwidth": 1
                                        },
                                        "autotypenumbers": "strict",
                                        "coloraxis": {
                                            "colorbar": {
                                                "outlinewidth": 0,
                                                "ticks": ""
                                            }
                                        },
                                        "colorscale": {
                                            "diverging": [
                                                [
                                                    0,
                                                    "#8e0152"
                                                ],
                                                [
                                                    0.1,
                                                    "#c51b7d"
                                                ],
                                                [
                                                    0.2,
                                                    "#de77ae"
                                                ],
                                                [
                                                    0.3,
                                                    "#f1b6da"
                                                ],
                                                [
                                                    0.4,
                                                    "#fde0ef"
                                                ],
                                                [
                                                    0.5,
                                                    "#f7f7f7"
                                                ],
                                                [
                                                    0.6,
                                                    "#e6f5d0"
                                                ],
                                                [
                                                    0.7,
                                                    "#b8e186"
                                                ],
                                                [
                                                    0.8,
                                                    "#7fbc41"
                                                ],
                                                [
                                                    0.9,
                                                    "#4d9221"
                                                ],
                                                [
                                                    1,
                                                    "#276419"
                                                ]
                                            ],
                                            "sequential": [
                                                [
                                                    0,
                                                    "#0d0887"
                                                ],
                                                [
                                                    0.1111111111111111,
                                                    "#46039f"
                                                ],
                                                [
                                                    0.2222222222222222,
                                                    "#7201a8"
                                                ],
                                                [
                                                    0.3333333333333333,
                                                    "#9c179e"
                                                ],
                                                [
                                                    0.4444444444444444,
                                                    "#bd3786"
                                                ],
                                                [
                                                    0.5555555555555556,
                                                    "#d8576b"
                                                ],
                                                [
                                                    0.6666666666666666,
                                                    "#ed7953"
                                                ],
                                                [
                                                    0.7777777777777778,
                                                    "#fb9f3a"
                                                ],
                                                [
                                                    0.8888888888888888,
                                                    "#fdca26"
                                                ],
                                                [
                                                    1,
                                                    "#f0f921"
                                                ]
                                            ],
                                            "sequentialminus": [
                                                [
                                                    0,
                                                    "#0d0887"
                                                ],
                                                [
                                                    0.1111111111111111,
                                                    "#46039f"
                                                ],
                                                [
                                                    0.2222222222222222,
                                                    "#7201a8"
                                                ],
                                                [
                                                    0.3333333333333333,
                                                    "#9c179e"
                                                ],
                                                [
                                                    0.4444444444444444,
                                                    "#bd3786"
                                                ],
                                                [
                                                    0.5555555555555556,
                                                    "#d8576b"
                                                ],
                                                [
                                                    0.6666666666666666,
                                                    "#ed7953"
                                                ],
                                                [
                                                    0.7777777777777778,
                                                    "#fb9f3a"
                                                ],
                                                [
                                                    0.8888888888888888,
                                                    "#fdca26"
                                                ],
                                                [
                                                    1,
                                                    "#f0f921"
                                                ]
                                            ]
                                        },
                                        "colorway": [
                                            "#636efa",
                                            "#EF553B",
                                            "#00cc96",
                                            "#ab63fa",
                                            "#FFA15A",
                                            "#19d3f3",
                                            "#FF6692",
                                            "#B6E880",
                                            "#FF97FF",
                                            "#FECB52"
                                        ],
                                        "font": {
                                            "color": "#2a3f5f"
                                        },
                                        "geo": {
                                            "bgcolor": "white",
                                            "lakecolor": "white",
                                            "landcolor": "#E5ECF6",
                                            "showlakes": true,
                                            "showland": true,
                                            "subunitcolor": "white"
                                        },
                                        "hoverlabel": {
                                            "align": "left"
                                        },
                                        "hovermode": "closest",
                                        "mapbox": {
                                            "style": "light"
                                        },
                                        "paper_bgcolor": "white",
                                        "plot_bgcolor": "#E5ECF6",
                                        "polar": {
                                            "angularaxis": {
                                                "gridcolor": "white",
                                                "linecolor": "white",
                                                "ticks": ""
                                            },
                                            "bgcolor": "#E5ECF6",
                                            "radialaxis": {
                                                "gridcolor": "white",
                                                "linecolor": "white",
                                                "ticks": ""
                                            }
                                        },
                                        "scene": {
                                            "xaxis": {
                                                "backgroundcolor": "#E5ECF6",
                                                "gridcolor": "white",
                                                "gridwidth": 2,
                                                "linecolor": "white",
                                                "showbackground": true,
                                                "ticks": "",
                                                "zerolinecolor": "white"
                                            },
                                            "yaxis": {
                                                "backgroundcolor": "#E5ECF6",
                                                "gridcolor": "white",
                                                "gridwidth": 2,
                                                "linecolor": "white",
                                                "showbackground": true,
                                                "ticks": "",
                                                "zerolinecolor": "white"
                                            },
                                            "zaxis": {
                                                "backgroundcolor": "#E5ECF6",
                                                "gridcolor": "white",
                                                "gridwidth": 2,
                                                "linecolor": "white",
                                                "showbackground": true,
                                                "ticks": "",
                                                "zerolinecolor": "white"
                                            }
                                        },
                                        "shapedefaults": {
                                            "line": {
                                                "color": "#2a3f5f"
                                            }
                                        },
                                        "ternary": {
                                            "aaxis": {
                                                "gridcolor": "white",
                                                "linecolor": "white",
                                                "ticks": ""
                                            },
                                            "baxis": {
                                                "gridcolor": "white",
                                                "linecolor": "white",
                                                "ticks": ""
                                            },
                                            "bgcolor": "#E5ECF6",
                                            "caxis": {
                                                "gridcolor": "white",
                                                "linecolor": "white",
                                                "ticks": ""
                                            }
                                        },
                                        "title": {
                                            "x": 0.05
                                        },
                                        "xaxis": {
                                            "automargin": true,
                                            "gridcolor": "white",
                                            "linecolor": "white",
                                            "ticks": "",
                                            "title": {
                                                "standoff": 15
                                            },
                                            "zerolinecolor": "white",
                                            "zerolinewidth": 2
                                        },
                                        "yaxis": {
                                            "automargin": true,
                                            "gridcolor": "white",
                                            "linecolor": "white",
                                            "ticks": "",
                                            "title": {
                                                "standoff": 15
                                            },
                                            "zerolinecolor": "white",
                                            "zerolinewidth": 2
                                        }
                                    }
                                },
                                "title": {
                                    "text": "Distribution of standard deviations of O2 Saturation measurements"
                                },
                                "xaxis": {
                                    "anchor": "y",
                                    "domain": [
                                        0,
                                        1
                                    ],
                                    "title": {
                                        "text": "value"
                                    }
                                },
                                "xaxis2": {
                                    "anchor": "y2",
                                    "domain": [
                                        0,
                                        1
                                    ],
                                    "matches": "x",
                                    "showgrid": true,
                                    "showticklabels": false
                                },
                                "yaxis": {
                                    "anchor": "x",
                                    "domain": [
                                        0,
                                        0.7326
                                    ],
                                    "title": {
                                        "text": "count"
                                    }
                                },
                                "yaxis2": {
                                    "anchor": "x2",
                                    "domain": [
                                        0.7426,
                                        1
                                    ],
                                    "matches": "y2",
                                    "showgrid": false,
                                    "showline": false,
                                    "showticklabels": false,
                                    "ticks": ""
                                }
                            }
                        }
                    },
                    "metadata": {},
                    "output_type": "display_data"
                }
            ],
            "source": [
                "# Estimate the uncertainty of an o2 sat measurement\n",
                "# Take the healthiest individuals and compute the standard deviation of their measurements\n",
                "# Plot a histogram of the standard deviations\n",
                "# Take the mean as the std of an o2 sat measurement\n",
                "\n",
                "\n",
                "def get_std(df):\n",
                "    \"\"\"\n",
                "    If there are more than 10 values, compute the standard deviation\n",
                "    Else, return NaN\n",
                "    \"\"\"\n",
                "    if len(df) > 10:\n",
                "        return df.std()\n",
                "    else:\n",
                "        return np.nan\n",
                "\n",
                "\n",
                "df_std = datah.compute_avg(df, \"FEV1 % Predicted\", \"%\")\n",
                "print(f\"{df.ID.nunique()} IDs\")\n",
                "# Filter healthy individuals\n",
                "df_std = df_std[df_std[\"FEV1 % Predicted\"] > 80]\n",
                "print(f\"{df_std.ID.nunique()} healthy IDs\")\n",
                "\n",
                "stds = df_std.groupby(\"ID\")[\"O2 Saturation\"].agg(get_std)\n",
                "stds = stds.dropna()\n",
                "print(f\"{len(stds)}/{df_std.ID.nunique()} IDs with > 10 measurements\")\n",
                "\n",
                "# Print avg std\n",
                "print(f\"Average std: {stds.mean()}\")\n",
                "print(f\"Median std: {stds.median()}\")\n",
                "\n",
                "# Plost histogram of stds\n",
                "fig = px.histogram(stds, nbins=20, marginal=\"box\")\n",
                "fig.update_layout(\n",
                "    title_text=\"Distribution of standard deviations of O2 Saturation measurements\"\n",
                ")\n",
                "fig.show()"
            ]
        },
        {
            "cell_type": "markdown",
            "metadata": {},
            "source": [
                "# Define the generative noise model and tailor it to our data"
            ]
        },
        {
            "cell_type": "code",
            "execution_count": 121,
            "metadata": {},
            "outputs": [
                {
                    "name": "stdout",
                    "output_type": "stream",
                    "text": [
                        "93.473881565419\n",
                        "93.34408539888815\n",
                        "93\n"
                    ]
                }
            ],
            "source": [
                "# Randomly generate a number in the range 90.0-100.0\n",
                "x = np.random.uniform(90.0, 100.0)\n",
                "print(x)\n",
                "# Add gaussian noise to the number with a standard deviation of 0.9\n",
                "x = np.random.normal(x, 0.9)\n",
                "print(x)\n",
                "# Round x to the nearest 1\n",
                "x = round(x)\n",
                "print(x)"
            ]
        },
        {
            "cell_type": "code",
            "execution_count": 10,
            "metadata": {},
            "outputs": [
                {
                    "name": "stdout",
                    "output_type": "stream",
                    "text": [
                        "Std of values giving 95: 0.913\n"
                    ]
                },
                {
                    "data": {
                        "application/vnd.plotly.v1+json": {
                            "config": {
                                "plotlyServerURL": "https://plot.ly"
                            },
                            "data": [
                                {
                                    "autobinx": false,
                                    "histnorm": "probability",
                                    "type": "histogram",
                                    "x": [
                                        94.54773592408486,
                                        93.75110222587985,
                                        96.07254798353893,
                                        96.33321317888853,
                                        94.39020297109708,
                                        94.80517607519147,
                                        95.17582549998798,
                                        95.38620163495135,
                                        96.4331522982674,
                                        94.83516375115042,
                                        93.84322017943087,
                                        95.37730904515544,
                                        95.30953666660875,
                                        94.38363990264804,
                                        96.12339493538713,
                                        93.98279959261117,
                                        95.3248683873758,
                                        95.9888132478419,
                                        93.62471480996062,
                                        94.86697814758095,
                                        94.86552545331355,
                                        95.84078460212758,
                                        96.41225379180999,
                                        96.09745071957974,
                                        96.39612247948816,
                                        94.87212347277458,
                                        94.88944804355125,
                                        96.16484267519635,
                                        94.26529001414718,
                                        95.52449304396086,
                                        96.84773342320076,
                                        93.05895560399904,
                                        94.83456797789938,
                                        94.66646973019203,
                                        94.70031237764739,
                                        95.11376146430479,
                                        92.83721011779649,
                                        93.72936723068355,
                                        96.2348283677724,
                                        94.19087959933826,
                                        95.37987144728658,
                                        94.41061966577993,
                                        95.90528969338499,
                                        94.95288559844377,
                                        94.58532490357842,
                                        95.68596319583827,
                                        96.3228689933769,
                                        94.68310397165557,
                                        96.17351590781449,
                                        94.47000539061762,
                                        96.93228197910642,
                                        96.11933480113677,
                                        94.93633173819768,
                                        94.0343081150261,
                                        94.71601551589954,
                                        95.13485634506898,
                                        95.82937006488137,
                                        95.30374567495818,
                                        95.83920781893107,
                                        91.70065569463708,
                                        93.9442915683496,
                                        92.70074373603171,
                                        95.45998404062888,
                                        95.98471402569223,
                                        95.09117967515232,
                                        95.43798655718258,
                                        93.90898508926426,
                                        94.79709548315824,
                                        94.94450386329137,
                                        96.2160956470645,
                                        93.76963495458548,
                                        94.32879392258631,
                                        94.55849408313499,
                                        94.559289610624,
                                        93.98317805071791,
                                        95.9155326901894,
                                        94.29683640641161,
                                        95.6024464681845,
                                        94.65641246582192,
                                        92.88834242548832,
                                        94.73633248496913,
                                        96.07372336705077,
                                        94.29059334184396,
                                        94.44401141190806,
                                        94.57054515771043,
                                        93.82443989047792,
                                        92.49687818212314,
                                        95.42072105048908,
                                        95.38667083673849,
                                        95.73770245112246,
                                        92.5706686895773,
                                        94.74356393744364,
                                        94.47711056888073,
                                        95.93119837205687,
                                        95.76699331869207,
                                        93.64885691410751,
                                        93.9821054228886,
                                        93.34852502788779,
                                        94.68043479601309,
                                        95.17296956082714,
                                        93.67851521045745,
                                        94.24839687072114,
                                        95.59325722559933,
                                        93.38995802073231,
                                        95.09718524714783,
                                        96.08397949577389,
                                        94.55808002585184,
                                        96.27886449026602,
                                        94.79230396362217,
                                        94.51492285307725,
                                        96.5251139475029,
                                        95.3912619645051,
                                        95.51726272344783,
                                        96.27714311382101,
                                        92.50252416134474,
                                        96.52555874931056,
                                        94.50131585418815,
                                        94.44901454869208,
                                        96.0011277299572,
                                        94.98641000502803,
                                        95.13146458306953,
                                        95.6807655482277,
                                        94.64359152104288,
                                        96.10338916001663,
                                        95.82116694742726,
                                        94.40409936338263,
                                        94.75928247656424,
                                        94.5824951827693,
                                        95.69432084349353,
                                        94.09619210334267,
                                        94.83237669538329,
                                        93.99102155739843,
                                        94.59836464904626,
                                        94.1333397787584,
                                        96.6011656241709,
                                        95.0436761693896,
                                        96.14260278556361,
                                        94.41590812442682,
                                        93.83460485209028,
                                        95.7842616243235,
                                        94.81098945432801,
                                        95.88729404649982,
                                        93.61217065821151,
                                        95.44304144662098,
                                        92.91499960868607,
                                        96.14365092654737,
                                        94.92971040633273,
                                        93.84431457599408,
                                        94.7101951302734,
                                        96.00466013932385,
                                        95.6197604129538,
                                        96.37311135730602,
                                        95.3930306532861,
                                        96.06330750722182,
                                        94.0882573622612,
                                        95.3175744203485,
                                        96.18120019054545,
                                        94.89909543938595,
                                        93.4596951472088,
                                        94.45067310312464,
                                        94.98540681093958,
                                        96.14098893138896,
                                        94.67299625991284,
                                        94.4747643703025,
                                        95.0804200513914,
                                        95.70451665964146,
                                        94.25417193417539,
                                        96.05185707763256,
                                        94.8574506946832,
                                        94.87364874186417,
                                        95.80992109319644,
                                        95.79090813888527,
                                        93.25105095549273,
                                        94.47646897814982,
                                        95.76980262943647,
                                        93.95707333570049,
                                        95.83040121624917,
                                        95.81022321221829,
                                        94.76762537119458,
                                        94.73393817220146,
                                        93.5461837247837,
                                        95.73857119393733,
                                        93.95866821459599,
                                        96.93233105569914,
                                        95.10806603503259,
                                        93.52989236450975,
                                        93.58140317725682,
                                        95.83504631585433,
                                        95.42138446579557,
                                        94.75679446632546,
                                        95.06156907178223,
                                        94.56886872789707,
                                        94.73886429712104,
                                        95.63873223949307,
                                        96.31084140849183,
                                        94.65337664284233,
                                        95.89114444031674,
                                        94.45375471239086,
                                        94.48247924131013,
                                        95.22544156069722,
                                        95.80270597051475,
                                        92.99355454683777,
                                        97.21882973298665,
                                        94.88577350444062,
                                        94.90671584960683,
                                        94.62634587829906,
                                        95.97869350329037,
                                        95.58098808802436,
                                        96.38848478662206,
                                        95.04735218760744,
                                        95.94395456306545,
                                        94.24456990154857,
                                        94.97118642737829,
                                        94.51681257099325,
                                        94.86260326686754,
                                        95.0991941701278,
                                        94.24291510541289,
                                        94.4830158681033,
                                        93.8370443132512,
                                        95.54194074161094,
                                        93.78638603298748,
                                        95.1306724642089,
                                        95.78264258984251,
                                        95.79485678822456,
                                        93.84232820571656,
                                        94.03802762435262,
                                        96.73440980687116,
                                        96.24224399267324,
                                        96.12231912636943,
                                        93.89432678619342,
                                        92.55733795260599,
                                        95.53076212894835,
                                        95.03074114964424,
                                        93.82482196859115,
                                        94.33138431944681,
                                        94.02553952910665,
                                        94.40682302332732,
                                        95.87365819504663,
                                        95.37111109943923,
                                        96.49274991864381,
                                        95.90308252189013,
                                        91.58101222318012,
                                        95.44157260592146,
                                        95.53057584830125,
                                        94.918543481657,
                                        94.85779194271714,
                                        94.65086126014437,
                                        96.60541611894114,
                                        95.2641630132361,
                                        96.02376901351671,
                                        94.97134331607916,
                                        94.0366818713021,
                                        94.88085142806847,
                                        95.4835940850983,
                                        94.7100757378823,
                                        95.75117360528434,
                                        94.0851930211553,
                                        96.55979810857549,
                                        95.30252440015678,
                                        95.0005211703133,
                                        94.54471057218063,
                                        95.64762820252389,
                                        95.71197024932998,
                                        94.6961273702714,
                                        93.96118995101787,
                                        94.15457941071953,
                                        95.30405298106987,
                                        93.15173866265454,
                                        93.7321508980626,
                                        95.40284234872347,
                                        94.59758593130856,
                                        93.55037858327151,
                                        93.42154561207383,
                                        93.18284742256238,
                                        96.53370848042728,
                                        94.56996038186011,
                                        95.3248476646462,
                                        95.06362009393825,
                                        96.26314858815132,
                                        95.76350176779854,
                                        94.47414499174474,
                                        95.77860935003967,
                                        94.15291636303017,
                                        94.65367005959166,
                                        96.37214129839973,
                                        96.17409571933709,
                                        93.9344979293454,
                                        95.02034227973888,
                                        94.93570452956644,
                                        95.45980523892744,
                                        95.21540202728913,
                                        94.42402759711194,
                                        96.25683239231083,
                                        94.45476437138818,
                                        95.98060686059338,
                                        94.78571218282099,
                                        95.53613591737627,
                                        94.16887198801393,
                                        94.13079476098108,
                                        96.14617579172298,
                                        96.75833473335004,
                                        94.79947169155804,
                                        95.0269328085617,
                                        95.01645698492123,
                                        95.0691794088099,
                                        92.77583621616625,
                                        94.32108088901623,
                                        93.51786245909068,
                                        94.39477102431756,
                                        95.31888558837102,
                                        95.600891622511,
                                        92.6727372241044,
                                        93.23695592309932,
                                        96.80588683538375,
                                        95.77079909330696,
                                        95.92885831352123,
                                        94.39505633228441,
                                        97.07028368039134,
                                        95.39836453496034,
                                        95.0586750345447,
                                        95.18426314084454,
                                        95.96130894032505,
                                        94.95002621831499,
                                        94.0489466275134,
                                        93.9697805031664,
                                        95.99563797756521,
                                        92.80775298806407,
                                        95.8667113916593,
                                        95.84138481157824,
                                        94.07976981579051,
                                        94.62975259034422,
                                        94.24090198062788,
                                        94.9551278874481,
                                        95.00472897722217,
                                        96.36101954692955,
                                        94.52838701699676,
                                        96.85990115292788,
                                        95.66323092317938,
                                        95.59656206302509,
                                        95.57058106168874,
                                        94.1578570965078,
                                        96.15271706087916,
                                        94.15226955322667,
                                        96.20616834722631,
                                        95.67126457962891,
                                        95.23988502722972,
                                        95.51847390651245,
                                        94.03340355246272,
                                        96.70570320417218,
                                        94.95395672700548,
                                        95.12608921280656,
                                        93.80019197120623,
                                        95.61074797557518,
                                        95.78345050208756,
                                        95.73948836751694,
                                        94.39288435806304,
                                        96.16573180602049,
                                        96.40627848634203,
                                        96.02115332030502,
                                        94.04734140653802,
                                        93.58367977872084,
                                        94.28404102403226,
                                        96.95807103088312,
                                        93.16039859458957,
                                        95.78319129217715,
                                        95.52500600462868,
                                        95.18240365091953,
                                        95.42890925904015,
                                        95.13171976714372,
                                        94.54354603346911,
                                        96.1207958668517,
                                        92.76267396382306,
                                        94.73134356692847,
                                        94.68053765118185,
                                        95.90283664813751,
                                        95.44493718448098,
                                        95.06963795668267,
                                        93.07645419112049,
                                        95.36421259917134,
                                        95.75890493312518,
                                        94.92535640657573,
                                        96.3549790162021,
                                        95.2178846438442,
                                        94.14122929128051,
                                        96.00777067959208,
                                        95.78563097236426,
                                        96.04537675888815,
                                        93.61381281930838,
                                        95.37806595551051,
                                        95.19315068349229,
                                        93.87687438478082,
                                        94.18362701692666,
                                        93.68370296901324,
                                        93.87900498102537,
                                        94.49448246495874,
                                        95.39647440329551,
                                        93.37436494072443,
                                        96.44285662628494,
                                        96.55591286157396,
                                        95.0922244344761,
                                        95.70232797915773,
                                        94.23286651006632,
                                        94.72399862257333,
                                        94.36998799003378,
                                        95.73282018460361,
                                        94.43667181986655,
                                        94.27481922726875,
                                        94.1550703940851,
                                        93.40823314147022,
                                        96.62121946193587,
                                        96.13495981525764,
                                        94.75150208779321,
                                        94.47446657345179,
                                        95.17214555335778,
                                        92.1428879084601,
                                        93.7663894451369,
                                        93.39422305547328,
                                        93.86143692270971,
                                        95.91299446185741,
                                        96.70014867865476,
                                        95.48562545020856,
                                        95.12348554486853,
                                        93.99105078522753,
                                        95.3112074445259,
                                        96.74132883229483,
                                        93.80309429917656,
                                        94.003884023677,
                                        96.01669377681574,
                                        94.6374642139885,
                                        95.157183445911,
                                        95.8320394559608,
                                        96.0977759761499,
                                        94.60781683722766,
                                        94.42322162104762,
                                        95.00361927130116,
                                        94.93068939900715,
                                        94.92729379000069,
                                        97.28267456581713,
                                        94.81239714901642,
                                        93.3323870826371,
                                        95.26781023034385,
                                        94.49590156518084,
                                        95.9053417795603,
                                        93.28225645718072,
                                        94.5605030904257,
                                        94.3172100739797,
                                        95.43895942426164,
                                        96.31649642487892,
                                        95.00999430426458,
                                        95.13261357573094,
                                        92.74053482066076,
                                        94.0546254649963,
                                        94.26827889126471,
                                        94.04676192353773,
                                        94.78413060804102,
                                        95.15308505500943,
                                        95.47850929693317,
                                        95.13403163462473,
                                        92.72905142489313,
                                        95.73210603227575,
                                        93.08649169814109,
                                        95.72855220105524,
                                        95.57096597847294,
                                        93.46833403427787,
                                        94.02603678639514,
                                        96.83121679553793,
                                        94.93933200866215,
                                        94.95463285404385,
                                        95.66138298435888,
                                        94.47840308266655,
                                        97.0722969332289,
                                        95.23509400043002,
                                        94.89896636132806,
                                        93.91582124566807,
                                        94.40205020156063,
                                        94.10507839668844,
                                        95.85500517359878,
                                        94.2347871358547,
                                        95.876327070716,
                                        95.42348613623344,
                                        94.22488838832444,
                                        95.15040267082435,
                                        96.27686974957935,
                                        95.02319779605764,
                                        95.17116208397694,
                                        95.88501560980782,
                                        94.94540833916841,
                                        96.17027186650878,
                                        97.77172751977213,
                                        95.65267805695274,
                                        94.3865369344568,
                                        94.12145380453802,
                                        97.09181188773886,
                                        95.71568449426186,
                                        95.82830884546371,
                                        95.64155801656213,
                                        94.09139345239488,
                                        95.26952664473515,
                                        94.9183552949619,
                                        95.4779093059177,
                                        94.31487537668609,
                                        94.88894521263565,
                                        95.50066957565963,
                                        95.97058997560843,
                                        95.61160100553931,
                                        93.34479003234944,
                                        94.42417914143915,
                                        94.95583585142981,
                                        95.67459068660969,
                                        95.77271987977957,
                                        96.61288202496564,
                                        95.38203470750662,
                                        96.07425271271904,
                                        94.29477362385404,
                                        93.74883486589007,
                                        95.86342187900208,
                                        95.36436213161059,
                                        96.3271271247776,
                                        93.14223746931135,
                                        94.90726647677755,
                                        95.13091640391879,
                                        95.71022428535258,
                                        95.58064401867058,
                                        93.92444226440341,
                                        94.71869261030244,
                                        94.78250986311777,
                                        95.40791774152402,
                                        93.65102893720766,
                                        95.65333430405602,
                                        93.0395849984585,
                                        92.94676689970626,
                                        96.45908037722256,
                                        93.88149215621345,
                                        94.86989262956732,
                                        94.81230503011804,
                                        96.33616149478237,
                                        95.03571641468727,
                                        96.12262220010243,
                                        96.00989429704,
                                        94.49596455215175,
                                        94.58003110683467,
                                        94.26067517861966,
                                        94.3063335015728,
                                        96.1106740682713,
                                        93.71495238881968,
                                        94.64887081484277,
                                        93.24002213745304,
                                        94.57601989704861,
                                        95.08355261445078,
                                        95.19677836069945,
                                        94.24660993343335,
                                        95.62542257360826,
                                        94.08478880730993,
                                        95.29084871719633,
                                        95.12803255767673,
                                        94.16317802858931,
                                        95.27809737096965,
                                        95.45109759124799,
                                        94.41821701334406,
                                        94.74107129195363,
                                        97.0818514293596,
                                        94.42080724529697,
                                        95.85678719588435,
                                        95.43794648991167,
                                        95.22670106239347,
                                        96.03980209706094,
                                        94.26742435176226,
                                        94.5785697934101,
                                        94.84860223794223,
                                        95.7198187368862,
                                        96.04327027177044,
                                        95.66266648915823,
                                        97.75218690298868,
                                        94.76081295469548,
                                        95.58594411574035,
                                        95.29253531058151,
                                        95.32026309261173,
                                        95.52829379475094,
                                        95.14825823283977,
                                        95.55718468374587,
                                        95.47883508149249,
                                        95.28579902920417,
                                        95.81730669972778,
                                        96.55922870501676,
                                        94.25379306167379,
                                        97.37776798157955,
                                        95.58678756091331,
                                        96.52008917354146,
                                        95.08125061841724,
                                        94.11652287236922,
                                        95.15133343593342,
                                        93.91634845082174,
                                        94.55679579424182,
                                        95.26541586487389,
                                        94.55250706870184,
                                        94.66430162324419,
                                        95.63607656488628,
                                        95.58940931251412,
                                        96.77344496137958,
                                        93.91441877333277,
                                        95.04485135880857,
                                        95.62386497262703,
                                        94.47868728165,
                                        94.45974605746768,
                                        94.38596443491596,
                                        96.24796760952351,
                                        95.1931147695838,
                                        95.58527162755807,
                                        94.47470916912827,
                                        93.78194473124897,
                                        94.56027847537528,
                                        94.74302135087515,
                                        95.39324077156283,
                                        93.81039536976392,
                                        93.2523216231746,
                                        93.8071366350022,
                                        95.56436419998562,
                                        94.60836413914728,
                                        94.37080567011904,
                                        94.95290058111337,
                                        95.39140879981949,
                                        94.73196954186389,
                                        94.90562719175044,
                                        96.13943236605525,
                                        94.31153084196109,
                                        94.5533248347825,
                                        96.35189529273286,
                                        93.79849249508325,
                                        97.40628187677447,
                                        94.68096191988636,
                                        94.92146740136006,
                                        95.30939590038122,
                                        95.49381716404304,
                                        94.92089445533087,
                                        96.1081874121731,
                                        95.194037463988,
                                        94.22379593081217,
                                        96.26282814966004,
                                        96.15639523805834,
                                        94.74081873611925,
                                        95.61113121046921,
                                        94.85771252411024,
                                        94.9616263957573,
                                        95.04359313477437,
                                        94.29141525454472,
                                        94.23445875923014,
                                        95.49665353972209,
                                        94.92955788057702,
                                        93.28241718789283,
                                        95.86180369839214,
                                        95.30670330501988,
                                        94.35146380199994,
                                        95.48854637700511,
                                        94.12953715653755,
                                        94.52666617248615,
                                        94.62542095883353,
                                        94.77514950799491,
                                        95.04777818145027,
                                        95.382754337068,
                                        94.67013798269585,
                                        95.55523355028615,
                                        96.04454704573934,
                                        96.23929294532606,
                                        94.88377715489241,
                                        96.05399664555472,
                                        96.0089722772411,
                                        95.67781549096262,
                                        96.06915714412705,
                                        94.38041025560763,
                                        95.57084408535107,
                                        95.80527711851313,
                                        94.30464983962321,
                                        96.45011366093789,
                                        93.10731804939616,
                                        95.23561941027894,
                                        93.74609900899227,
                                        94.63484945291361,
                                        96.03207233204144,
                                        94.38246604535061,
                                        94.92773469378415,
                                        94.01459977708379,
                                        93.91729289678594,
                                        94.81632452402411,
                                        94.24722457157927,
                                        94.74587465614823,
                                        94.57640469854783,
                                        95.29104623717075,
                                        93.6199545513969,
                                        94.61581576508226,
                                        96.08371715675017,
                                        96.66480876364926,
                                        93.9413353787561,
                                        96.63972434886122,
                                        93.15475826144232,
                                        94.62374305703284,
                                        93.57048860618806,
                                        96.58983069409655,
                                        93.89872741516066,
                                        95.2874333733391,
                                        95.26960450251188,
                                        94.37136137520417,
                                        95.97852733000758,
                                        94.43892405248712,
                                        94.26417024586922,
                                        94.79239286221882,
                                        95.62841031700441,
                                        94.56726945102491,
                                        95.35959734028958,
                                        93.69425757656116,
                                        95.473820133788,
                                        94.83136435075279,
                                        95.5014321309242,
                                        95.24843287045815,
                                        96.0842161276993,
                                        93.93984288031994,
                                        94.69030644481057,
                                        94.97066457694841,
                                        95.29127605039383,
                                        95.24039880930201,
                                        95.24144397095517,
                                        95.79870081574498,
                                        94.56605287354972,
                                        94.701281703248,
                                        95.18946050955996,
                                        95.36340450299772,
                                        94.08025620408719,
                                        95.04992133620115,
                                        95.54699909506701,
                                        93.95338030402291,
                                        93.72011631803689,
                                        93.77746061866327,
                                        95.20210770135517,
                                        94.77226658109862,
                                        95.12959142750286,
                                        94.33176064638863,
                                        93.7297506501026,
                                        94.71740899024027,
                                        95.28378617787908,
                                        94.3688425988243,
                                        93.46711999738889,
                                        94.65153457248391,
                                        94.08866160497898,
                                        95.64781273192104,
                                        95.53703409683291,
                                        95.46839593231525,
                                        94.27454912582272,
                                        94.31939666860877,
                                        94.00826758149492,
                                        95.9389235891136,
                                        96.36073557204983,
                                        95.16667574801986,
                                        95.61866715736424,
                                        93.42438950318541,
                                        94.8052351011236,
                                        96.54515370736283,
                                        94.94031821521432,
                                        94.88501684997047,
                                        93.63716189152957,
                                        95.16426110970494,
                                        93.92635926638651,
                                        95.95583847970835,
                                        94.98665354574506,
                                        94.12730491919604,
                                        93.6987298708896,
                                        95.44568276496469,
                                        93.80276978435755,
                                        94.44957237097469,
                                        95.0947169598089,
                                        95.08118042077477,
                                        96.34786962196966,
                                        94.56276362917035,
                                        94.86155471397477,
                                        95.08354480990107,
                                        94.15275280743023,
                                        94.3002899303729,
                                        95.31298184900596,
                                        94.6789597192273,
                                        94.44641086705744,
                                        95.96574727247479,
                                        94.82598560603492,
                                        93.19940701464397,
                                        95.63437021587325,
                                        95.21434468035704,
                                        95.69941863967352,
                                        94.76621552786753,
                                        95.2299918970945,
                                        94.97586808987722,
                                        95.60649414877227,
                                        95.05774659464151,
                                        93.38122452308815,
                                        96.614760154413,
                                        93.9629841527339,
                                        95.30844338351923,
                                        95.576250334477,
                                        95.15892699644492,
                                        94.98202955999557,
                                        93.55656531166004,
                                        97.20297788121374,
                                        94.66542426984452,
                                        93.87966557906257,
                                        94.5963465918199,
                                        95.9045124916133,
                                        94.95190562967356,
                                        93.80267651721235,
                                        95.5965040703714,
                                        94.36914764904532,
                                        96.5053155784313,
                                        94.39143998280844,
                                        95.3506462864464,
                                        95.3705656346855,
                                        94.17378825090202,
                                        94.98247948112359,
                                        94.69519789831682,
                                        96.30420314570772,
                                        95.59896004940967,
                                        94.556979915304,
                                        94.09885298562762,
                                        94.94473947080711,
                                        96.28469550049688,
                                        96.45855183935467,
                                        95.0879420930271,
                                        96.65810624472007,
                                        95.21224488825237,
                                        94.48518912012543,
                                        95.79972259932464,
                                        94.07496321867843,
                                        94.83483142561988,
                                        94.8792307244181,
                                        95.75701525545054,
                                        95.1940425574899,
                                        95.07613791554257,
                                        94.41889408811744,
                                        96.26660472361692,
                                        95.38408158476,
                                        95.25014953054864,
                                        95.0549544174637,
                                        93.7464036178468,
                                        95.6734084126056,
                                        96.17339803469376,
                                        96.08383991634082,
                                        94.94425638843322,
                                        95.53992239889692,
                                        94.76387148252722,
                                        95.05670669062155,
                                        93.85764099541001,
                                        94.75258393535731,
                                        95.92598886029324,
                                        95.56878406214317,
                                        95.00598354028796,
                                        95.70561410363024,
                                        95.98482432626633,
                                        95.34739777746555,
                                        93.348296411232,
                                        96.53032643586093,
                                        93.88172696743732,
                                        94.44409145748133,
                                        95.35998894966154,
                                        96.05706687597431,
                                        93.02394619016272,
                                        95.04512152438832,
                                        95.88675931067655,
                                        93.95950072562538,
                                        95.81064654500395,
                                        94.52316919595685,
                                        94.59985135579197,
                                        93.68449413046477,
                                        95.0156405326167,
                                        93.53380267277183,
                                        95.50910421072109,
                                        95.45181627941724,
                                        94.87064641491413,
                                        94.82325155235873,
                                        93.59554376173081,
                                        96.56419211266598,
                                        95.31121043310918,
                                        95.8838631844226,
                                        94.64533508060563,
                                        94.47473779904553,
                                        96.5492398737642,
                                        93.56250651126533,
                                        94.52337754471526,
                                        94.55065343878002,
                                        96.46031961947801,
                                        94.2015696209878,
                                        94.20044501729276,
                                        96.34615263013089,
                                        95.80081439975734,
                                        95.13617773101109,
                                        94.63021563278468,
                                        96.48108899090012,
                                        94.17786956354816,
                                        95.56552033384614,
                                        94.83761124378805,
                                        95.40285317883863,
                                        94.38334844284381,
                                        96.24901345791835,
                                        94.48042017678668,
                                        96.66843316633782,
                                        95.79812534715549,
                                        94.44305424414279,
                                        94.71821008548929,
                                        95.23491425390486,
                                        94.61190227501051,
                                        94.21724720946719,
                                        94.39680026187384,
                                        95.42492511672863,
                                        92.83157136168705,
                                        95.02705986072503,
                                        96.39958166910594,
                                        93.96714281500117,
                                        93.37755176692325,
                                        94.81388843511,
                                        94.67644775909216,
                                        96.47700296205426,
                                        95.49115986129175,
                                        95.2972084262737,
                                        94.91196219363607,
                                        93.8842194963821,
                                        95.62590766050772,
                                        95.78374461159657,
                                        95.30590133088371,
                                        94.86144542506213,
                                        95.98175974630692,
                                        94.4094324552857,
                                        93.49139900781316,
                                        96.22510892752211,
                                        94.98240232703867,
                                        94.64335095632393,
                                        96.83454638374687,
                                        95.90153768377988,
                                        95.46818365836333,
                                        94.85467208279653,
                                        94.40427990324372,
                                        94.14003646507331,
                                        94.571122548352,
                                        94.00764019119515,
                                        95.1459301851421,
                                        95.23453228460231,
                                        95.1629460318149,
                                        94.15566858931588,
                                        94.2619438577701,
                                        94.56200664310859,
                                        94.9008191859435,
                                        95.66390303390502,
                                        94.23923954666225,
                                        94.73974915513777,
                                        94.71599569298706,
                                        96.22899200053519,
                                        95.5340714540952,
                                        95.57464197472322,
                                        94.07599452749102,
                                        95.61662149423148,
                                        94.25211913641701,
                                        93.14550982235433,
                                        94.908081369266,
                                        95.51659662283706,
                                        95.71347417907823,
                                        95.27973784052868,
                                        95.70974715679,
                                        95.933545021914,
                                        96.36510333992038,
                                        95.41355511568348,
                                        94.7497537045621,
                                        96.12129573684746,
                                        95.53796499724382,
                                        95.02381437235479,
                                        96.0719768927733,
                                        93.65223183580613,
                                        95.10816193872077,
                                        95.69739151288053,
                                        94.75846891145758,
                                        95.12359424519678,
                                        94.65893740067773,
                                        93.31253516860541,
                                        95.98131771867881,
                                        94.00113040541862,
                                        95.0558962544903,
                                        94.94359198599552,
                                        93.5059750379567,
                                        94.54157522975243,
                                        95.97479816666834,
                                        94.61865240136794,
                                        94.76839376237567,
                                        95.38549895968492,
                                        95.08071679217353,
                                        95.42786418846804,
                                        96.81481529653476,
                                        95.41953529596256,
                                        95.06400134990264,
                                        94.90985686839134,
                                        95.48747899481714,
                                        94.52929836130417,
                                        95.18269556716572,
                                        94.58224564654554,
                                        94.19447907669687,
                                        95.14146667254116,
                                        94.40350540051514,
                                        93.85819464267394,
                                        95.52697391262149,
                                        94.6409807873352,
                                        95.58940784493713,
                                        95.5548797056368,
                                        95.71168041054301,
                                        93.68831816969791,
                                        95.43429872950587,
                                        95.65212848722905,
                                        95.51708554297089,
                                        94.77006796643022,
                                        93.23514970228332,
                                        93.44424420412712,
                                        95.99028676739538,
                                        94.78593378066121,
                                        95.88282870096506,
                                        93.46368608447266,
                                        95.3113541014479,
                                        95.35259071190625,
                                        95.25880732070868,
                                        96.25609483513892,
                                        95.05520769065228,
                                        94.85232756558722,
                                        93.6995757037058,
                                        95.1439009778739,
                                        93.45142922103241,
                                        95.48383016467656,
                                        95.42753103661101,
                                        94.02100658695997,
                                        95.04018682785266,
                                        94.99153460767212,
                                        94.7814372580455,
                                        94.37705207125178,
                                        94.7350980191423,
                                        93.98100674325079,
                                        94.66412123757262,
                                        95.15820796525362,
                                        95.35655396937881,
                                        97.37734565434097,
                                        95.75238765062667,
                                        94.66588725121906,
                                        94.72544474100721,
                                        96.61177581210802,
                                        95.48780955447452,
                                        94.06718405017361,
                                        96.31913675137704,
                                        95.78220257957128,
                                        95.10283474520983,
                                        96.23716651780691,
                                        95.72174665153094,
                                        92.04806156793559,
                                        95.24715080010822,
                                        94.78987184045451,
                                        94.54784453242883,
                                        94.93291483183708,
                                        94.10679251773087,
                                        96.09623482022101,
                                        93.80638250585564,
                                        96.75125558381788,
                                        96.08985931163176,
                                        94.00741317646276,
                                        96.66141020692467,
                                        95.75505014913044,
                                        95.44382981098579,
                                        96.2941962034281,
                                        95.57722294594839,
                                        94.42645817833926,
                                        95.05072258986338,
                                        94.76822959720305,
                                        94.95471363643507,
                                        95.89336822856089,
                                        93.86690203109048,
                                        96.15262225860666,
                                        95.0787633139563,
                                        94.15420780305925,
                                        95.27719732748447,
                                        95.9272186037195,
                                        94.11214528187855,
                                        94.07674383219057,
                                        94.4739628631775,
                                        95.56437051551387,
                                        95.64765820255369,
                                        94.24016420638176,
                                        95.32303526251727,
                                        95.46927177647044,
                                        95.40864326629418,
                                        95.52163364574582,
                                        94.41821553190613,
                                        95.46625735512859,
                                        93.90111947977861,
                                        94.38813935125617,
                                        94.96427191376611,
                                        94.93958000026835,
                                        95.22104708073213,
                                        94.88811023817665,
                                        95.94831530832472,
                                        95.2545526879932,
                                        95.30108230176496,
                                        95.87430104663304,
                                        94.83605907639398,
                                        94.41552326120735,
                                        94.34186572600143,
                                        95.91430040733945,
                                        96.3108168570721,
                                        94.83532133172972,
                                        95.76448379536143,
                                        95.50676872372108,
                                        94.16493909369474,
                                        94.94253980331207,
                                        95.01663140524137,
                                        95.71933200522162,
                                        94.67848118166751,
                                        94.4144969375179,
                                        94.5952732417988,
                                        94.34570205259412,
                                        95.36872930520707,
                                        93.92477603336367,
                                        95.0094237907162,
                                        92.52192840224728,
                                        95.87900507317391,
                                        95.47576337845467,
                                        94.89698105729397,
                                        94.06135078091353,
                                        93.98189119347803,
                                        94.7168303786141,
                                        94.61016268357486,
                                        94.77983533914306,
                                        95.70597127209484,
                                        94.24281124824338,
                                        95.32861176104234,
                                        92.74718879720245,
                                        95.09642318366019,
                                        95.82486491731001,
                                        94.59739778528427,
                                        94.14976393994559,
                                        95.21860256537343,
                                        96.09435209789385,
                                        95.42454742816794,
                                        96.36122130463525,
                                        94.35373155766237,
                                        95.28199783173336,
                                        94.25318866692166,
                                        94.58154189271316,
                                        95.02953736163494,
                                        93.74421751714168,
                                        96.48201254377979,
                                        93.80999783243493,
                                        93.74421283835693,
                                        94.16167413363266,
                                        94.67953951587322,
                                        93.83149485344194,
                                        94.6176036488872,
                                        95.63146336882103,
                                        95.79356107406052,
                                        97.28276572638657,
                                        95.47733638999654,
                                        96.35503122574778,
                                        93.26941273053822,
                                        96.31548159162375,
                                        95.17447535296128,
                                        93.39988384310305,
                                        95.68835398095707,
                                        94.64505356167334,
                                        95.11462502404666,
                                        94.17723495098431,
                                        95.35873951269915,
                                        96.19905429302563,
                                        96.09053313239895,
                                        95.0247025997734,
                                        94.25540943709177,
                                        95.36893176434697,
                                        95.54441822368133,
                                        95.19231069317534,
                                        95.36069324628144,
                                        96.82443519011193,
                                        94.69752087651514,
                                        96.02098441097786,
                                        93.56480400646618,
                                        94.44904129380689,
                                        94.89470974492531,
                                        95.26888523043408,
                                        96.14763395583793,
                                        96.6487079005426,
                                        95.54126818420838,
                                        95.1278249363375,
                                        93.94334349298381,
                                        96.3322255143429,
                                        94.71487450853144,
                                        94.23543512076817,
                                        95.50279150972676,
                                        95.21457863927611,
                                        96.16076151062782,
                                        94.10904779157605,
                                        94.71178011879019,
                                        96.14073646559862,
                                        95.57289419558614,
                                        95.38457750924191,
                                        94.04315119182189,
                                        95.94974029931288,
                                        94.45457588135136,
                                        93.62331638083145,
                                        94.58213367850004,
                                        95.78832698736011,
                                        94.86212806912195,
                                        94.22490381538897,
                                        96.75973704089603,
                                        95.61041970686874,
                                        94.56046584406394,
                                        93.4040277670943,
                                        94.3124341406097,
                                        97.12104644722615,
                                        93.87116781274932,
                                        95.2207679927391,
                                        96.40785258233566,
                                        94.97873800892447,
                                        95.29458757994077,
                                        95.20635252749041,
                                        94.61424446397648,
                                        94.50156894846224,
                                        93.95671352944187,
                                        95.98923373485007,
                                        95.94172726495127,
                                        95.84515291689561,
                                        94.2625258987725,
                                        94.00771501396159,
                                        97.4051714596184,
                                        96.67541811184437,
                                        94.61091916716649,
                                        96.11903868694725,
                                        93.61184234049108,
                                        95.98961120587906,
                                        94.85951982733809,
                                        95.22403536489072,
                                        93.83092373902412,
                                        93.05090055194044,
                                        96.29966138388411,
                                        94.37239173718768,
                                        94.82370428403209,
                                        93.77374641468325,
                                        96.24755587380761,
                                        95.88646201647339,
                                        96.24004630277895,
                                        95.96151416894102,
                                        94.43886850543282,
                                        95.15257739732428,
                                        94.77532455812067,
                                        95.95099669305384,
                                        93.94076575655919,
                                        95.41776438421864,
                                        94.65325629968677,
                                        94.29552413056052,
                                        94.06797658124802,
                                        95.21674067081875,
                                        95.18636051815307,
                                        95.4132888704683,
                                        95.98386406381735,
                                        95.32613575735911,
                                        94.3135295327975,
                                        94.31230399347923,
                                        94.48271418159675,
                                        95.05025956002814,
                                        96.12661311094276,
                                        94.65493785369884,
                                        94.43681504430093,
                                        93.44272201962218,
                                        94.76736901065671,
                                        94.52674939561345,
                                        95.26970403309129,
                                        94.4200893401839,
                                        96.13509768334714,
                                        94.4925568383452,
                                        95.48840175109919,
                                        94.38679863918965,
                                        96.26843333949984,
                                        93.44231409409889,
                                        95.11433070422223,
                                        94.59394815448874,
                                        96.84887860456371,
                                        96.21536596766822,
                                        94.9328674503005,
                                        96.4881783033965,
                                        96.15780192274681,
                                        95.66773878022721,
                                        95.91314878939053,
                                        95.1879037778088,
                                        93.4509114708385,
                                        94.34173512150946,
                                        93.67735424079265,
                                        93.51901236821939,
                                        95.87873462065286,
                                        96.23246936980719,
                                        97.20370284175326,
                                        95.21901902795368,
                                        95.99290479474601,
                                        94.07532817066303,
                                        96.81451627939701,
                                        93.7835576964215,
                                        95.42455862379789,
                                        95.05456284254313,
                                        95.76310369082067,
                                        96.02815923147853,
                                        95.44948604594268,
                                        95.45895743852313,
                                        95.37201014859949,
                                        96.37468483084945,
                                        96.42006275157449,
                                        94.90824784177116,
                                        93.51995501025692,
                                        94.46343697254787,
                                        94.81224929033415,
                                        95.28415172610653,
                                        95.83145278471368,
                                        93.41832666476876,
                                        93.14504506472514,
                                        95.68099626784837,
                                        93.43146523630926,
                                        94.80697381873657,
                                        94.83888093380557,
                                        95.28281428850516,
                                        95.61511596392819,
                                        95.3967275310518,
                                        95.33820554784012,
                                        95.35178228471631,
                                        93.72889395125526,
                                        94.86135181924251,
                                        94.88881793607842,
                                        95.48243844971564,
                                        95.62007538724608,
                                        94.68515862762214,
                                        94.86828437905722,
                                        93.36660660369932,
                                        95.31455851541517,
                                        93.71168725935176,
                                        95.48001353163912,
                                        94.40542323582217,
                                        97.46491010807948,
                                        97.27442340805099,
                                        95.12256400083209,
                                        95.84815553214202,
                                        94.93411719798587,
                                        93.47753935416853,
                                        95.08706922165152,
                                        93.72431766758353,
                                        94.30714482911685,
                                        93.7543364583568,
                                        94.556329999882,
                                        96.86494281762349,
                                        94.40017091137824,
                                        96.59529385465407,
                                        95.64286412712354,
                                        95.27430976686261,
                                        95.2863191692735,
                                        94.88435028583467,
                                        94.13239094023639,
                                        95.11493834249555,
                                        94.37761908297864,
                                        96.08785464592556,
                                        95.06319417997312,
                                        93.49336733476889,
                                        94.75848010455275,
                                        93.34557081474637,
                                        95.63987759908858,
                                        94.66882710127209,
                                        94.42843980109873,
                                        94.9346837485885,
                                        94.54375400956509,
                                        95.87130167524853,
                                        95.60463949542219,
                                        94.8905312552365,
                                        95.68717493381723,
                                        95.40645533810326,
                                        94.14062992278633,
                                        95.54449835841743,
                                        95.54792732221634,
                                        94.08312641055417,
                                        95.21536888109836,
                                        94.69672898939821,
                                        95.62809517687069,
                                        94.31872785741393,
                                        95.47842182623029,
                                        93.51508645629656,
                                        95.76769274672714,
                                        95.44665441007392,
                                        94.5387366372957,
                                        93.90255001648072,
                                        95.77993545509835,
                                        93.63384013871342,
                                        94.86607022884988,
                                        95.2214401286202,
                                        95.75496739713336,
                                        96.02446085825989,
                                        95.38669906577522,
                                        96.61499838524321,
                                        94.65137648039934,
                                        94.14996295745986,
                                        95.93848731552492,
                                        94.96765602443625,
                                        96.43502591778048,
                                        94.54837875642964,
                                        95.15102656710513,
                                        97.009247228494,
                                        95.25491419141252,
                                        95.10375262723534,
                                        94.46999134645299,
                                        94.33909950047706,
                                        93.6309022527395,
                                        94.22297935460716,
                                        95.19375965108179,
                                        95.1034244575095,
                                        94.13475116079803,
                                        95.59337197804888,
                                        95.57269443876669,
                                        95.00563992107678,
                                        96.06736321105032,
                                        95.5522649067147,
                                        94.99376814489257,
                                        94.75587934376401,
                                        94.76799877645627,
                                        96.47341291786461,
                                        96.47357136812829,
                                        96.36248678295274,
                                        94.96636220025812,
                                        94.77054215911235,
                                        94.49099982291116,
                                        94.92069906233183,
                                        94.52397775392217,
                                        96.69823363174635,
                                        94.87366135829737,
                                        94.5434417422343,
                                        95.50759476511271,
                                        94.50097646829258,
                                        95.72246121009546,
                                        95.17253432887857,
                                        94.68920211876738,
                                        93.89751757754766,
                                        95.73850289149024,
                                        95.08575020381593,
                                        96.0734931380115,
                                        95.11976869259863,
                                        95.35548502068612,
                                        94.94987644903335,
                                        94.65647302870084,
                                        96.0059665220507,
                                        95.42734152150348,
                                        94.58731297442858,
                                        94.58618301258065,
                                        95.70310720135261,
                                        94.12768000288399,
                                        95.1217417135918,
                                        94.20770150897586,
                                        95.43225231804594,
                                        96.87093211111986,
                                        93.82796662421529,
                                        94.96381797697342,
                                        96.52228339538665,
                                        96.23235666321644,
                                        95.04731385773341,
                                        96.49614402212035,
                                        97.17443163489088,
                                        96.57568799166242,
                                        94.16717995248507,
                                        95.00324808681312,
                                        95.71134975577465,
                                        95.20923931385006,
                                        95.121353840289,
                                        95.37158144619087,
                                        94.69823028728402,
                                        93.34056416661824,
                                        95.19652983299406,
                                        95.47041209965158,
                                        93.76016709725445,
                                        93.7244305166744,
                                        93.38561594729677,
                                        95.36805669571272,
                                        96.53882877115939,
                                        96.14451004596279,
                                        95.34918167451828,
                                        94.653408989208,
                                        94.83168424835696,
                                        93.30095796848953,
                                        95.28495825520463,
                                        95.07207614366907,
                                        95.34057164859446,
                                        95.15934352078952,
                                        94.97775529740886,
                                        94.28337894346085,
                                        95.00608854054305,
                                        95.1586157754799,
                                        94.26444837732822,
                                        96.87689149911853,
                                        94.33701366358352,
                                        95.35895702606969,
                                        96.15275987429041,
                                        95.68862931872637,
                                        93.90648622866621,
                                        95.73998485278877,
                                        96.39367813559977,
                                        95.67073245504935,
                                        95.53826968435314,
                                        94.15247836608796,
                                        92.7991973444001,
                                        96.1060557419496,
                                        95.00227268056513,
                                        94.96913426354595,
                                        95.2324780556618,
                                        96.15321020547131,
                                        95.49195517937717,
                                        95.42333613484271,
                                        94.01503331328067,
                                        95.4522207694521,
                                        94.41709031756213,
                                        95.80965402990059,
                                        94.0323744967792,
                                        95.04660072558036,
                                        94.69636455889338,
                                        94.81050910312945,
                                        95.13845993784172,
                                        94.78087274274439,
                                        94.26174580344059,
                                        93.87039347237092,
                                        95.67808335929101,
                                        95.62431129916456,
                                        96.3737019171362,
                                        93.9796231999135,
                                        96.67029736499845,
                                        97.06911116100267,
                                        93.7909264677917,
                                        95.93615613043983,
                                        95.85236053616472,
                                        94.26444305549597,
                                        94.11245857118995,
                                        95.03432892753099,
                                        95.51706476791827,
                                        93.12468421522229,
                                        95.81929917419448,
                                        95.5180645768584,
                                        93.97800761057472,
                                        93.26869617097107,
                                        95.00167078062287,
                                        95.11894110373672,
                                        95.53341730512057,
                                        95.18458075321203,
                                        96.21607751207287,
                                        93.9732788356899,
                                        93.98494607534455,
                                        93.8694879575366,
                                        93.51877885885085,
                                        94.16735849290109,
                                        94.24343733188519,
                                        95.41044587666434,
                                        96.06794264762323,
                                        94.54677134280973,
                                        96.16092293599593,
                                        96.81174563991975,
                                        94.02487034342434,
                                        94.47800432458357,
                                        95.7978355719228,
                                        93.9331751615326,
                                        94.90261445042955,
                                        98.43763765654683,
                                        95.22876208762295,
                                        95.88365078482317,
                                        95.85790622424923,
                                        93.31128215717504,
                                        94.46348108676071,
                                        95.29785444919828,
                                        95.04262124909692,
                                        96.22997916108174,
                                        96.93924047560486,
                                        94.45751564539299,
                                        95.37110678937043,
                                        95.07715733440088,
                                        93.47541671062274,
                                        94.07370874476831,
                                        96.32707742246656,
                                        93.53319205583158,
                                        93.86489836182074,
                                        94.68033307061302,
                                        96.35464726157866,
                                        95.38004415763373,
                                        95.22776164931565,
                                        95.11336907869119,
                                        93.66439216160941,
                                        95.2289596702385,
                                        95.80058387277893,
                                        93.18234660398204,
                                        95.2728847068834,
                                        94.4803779161293,
                                        95.60105796552119,
                                        94.45983571907631,
                                        95.47813659330095,
                                        95.32605882534466,
                                        95.39573530140717,
                                        95.90363349591254,
                                        94.59048877385803,
                                        94.16538346188288,
                                        95.59896034771864,
                                        94.86418909598962,
                                        95.24989944076961,
                                        95.33787407928833,
                                        94.92404498596869,
                                        94.85555901735515,
                                        95.4899639694981,
                                        95.88952280580533,
                                        96.10892555546687,
                                        94.65372620866259,
                                        94.9946076484515,
                                        94.88808688450119,
                                        96.42172681100783,
                                        94.83811960418564,
                                        93.67141834235642,
                                        94.14751756137228,
                                        94.46577536602254,
                                        95.41889723444729,
                                        95.76886823357631,
                                        94.55951185813575,
                                        94.99680159562925,
                                        96.45753908013528,
                                        94.4350371871023,
                                        95.32783416019095,
                                        93.1009485831971,
                                        94.85981351316467,
                                        95.82566693281463,
                                        95.2299590126801,
                                        94.65716204211745,
                                        94.63212882220037,
                                        97.40719855146503,
                                        96.14015691381684,
                                        94.8221222192502,
                                        93.49011393976149,
                                        97.42815799762158,
                                        96.33170766151721,
                                        92.38207918961007,
                                        94.56577160062125,
                                        96.20650741085525,
                                        94.28287888484238,
                                        94.59067948832922,
                                        95.89372103686294,
                                        95.50233072901777,
                                        93.5608143947192,
                                        93.56296415763057,
                                        94.9642456595269,
                                        94.94728339164044,
                                        97.37067027034524,
                                        95.00966165656027,
                                        96.61091283805933,
                                        95.67115085743367,
                                        93.39122071726274,
                                        94.64105081433274,
                                        95.60656972652889,
                                        94.81257568448538,
                                        96.15124398641456,
                                        95.50730032483541,
                                        96.19463563842365,
                                        94.54649407397955,
                                        94.68922370149886,
                                        95.40213986573741,
                                        95.56114760591723,
                                        95.92716833287827,
                                        93.78722768389146,
                                        97.22088149535907,
                                        94.38202642003249,
                                        95.63889867984656,
                                        94.27497441186748,
                                        95.16859226667806,
                                        95.08543755107429,
                                        95.28432198341062,
                                        94.24575117703026,
                                        96.32985073428847,
                                        95.51437669109606,
                                        94.53844311321035,
                                        94.16256943011686,
                                        95.43278958501992,
                                        94.61120592104078,
                                        94.77260681452572,
                                        94.71367796085948,
                                        95.69688498261388,
                                        95.37814388424977,
                                        95.45855987701987,
                                        92.68435567623746,
                                        94.69916564284945,
                                        95.1564052620011,
                                        94.20735166319187,
                                        95.86422336107071,
                                        94.0517718029248,
                                        94.84888105777105,
                                        94.85857246903605,
                                        94.69627931510647,
                                        95.63979543362564,
                                        96.33822452934908,
                                        95.13790459760855,
                                        96.31627184691033,
                                        93.25104708466054,
                                        94.17979500250235,
                                        94.48037216796902,
                                        95.4627777728623,
                                        95.6479668972364,
                                        96.39782254784974,
                                        94.16439637561572,
                                        95.42622310501206,
                                        95.51613484645304,
                                        94.81857495796318,
                                        93.855322817265,
                                        94.80601258389785,
                                        94.79597193088281,
                                        95.2030463484304,
                                        95.21517587028872,
                                        96.44526316089241,
                                        96.46898038360453,
                                        95.21958556423445,
                                        95.37861534314732,
                                        95.32138729940532,
                                        94.43516616938584,
                                        95.11890339481383,
                                        94.92582480186189,
                                        96.3543597997504,
                                        95.71521323173364,
                                        95.46222074186866,
                                        94.76008367888178,
                                        95.47085287736915,
                                        92.4261932139157,
                                        93.25745168095094,
                                        96.00055749998496,
                                        95.96469517177253,
                                        93.434698109695,
                                        95.49512451860332,
                                        94.21080588459361,
                                        95.39776571226986,
                                        94.70284934399136,
                                        95.09045376499617,
                                        95.57265235003243,
                                        94.07156689334828,
                                        94.413168712307,
                                        95.10176686951007,
                                        95.86520999629687,
                                        95.93763254771683,
                                        95.40748515215763,
                                        95.97920323833085,
                                        93.91381674331441,
                                        95.17682476918715,
                                        93.65769096593966,
                                        95.41544311337611,
                                        95.50207063571064,
                                        94.32963190419272,
                                        96.33379944817841,
                                        94.11146041246747,
                                        95.97763560388398,
                                        94.58378823671949,
                                        94.52472516757368,
                                        94.05901225858486,
                                        95.73318463164867,
                                        95.5424015847706,
                                        94.25998261855872,
                                        95.26284258638721,
                                        95.16268608599475,
                                        95.18953907857153,
                                        93.94019329360256,
                                        93.6580129156078,
                                        94.647236481627,
                                        95.32517451709796,
                                        95.67264287152017,
                                        95.06781281782227,
                                        95.91478431769909,
                                        94.41498150480365,
                                        94.99461525230751,
                                        93.43777957261261,
                                        95.2117076117988,
                                        96.32935246827024,
                                        96.39520147610813,
                                        95.05532996115265,
                                        93.87509667451539,
                                        96.20995244546835,
                                        94.98924782304718,
                                        92.80633283599168,
                                        95.36572281315398,
                                        93.26820571539488,
                                        94.76994638388587,
                                        94.92912830240911,
                                        94.67313606650826,
                                        93.92890272245643,
                                        94.48520397301672,
                                        95.01688710253299,
                                        93.74105365248134,
                                        93.77901700630461,
                                        94.45883689760203,
                                        95.1055642557892,
                                        96.41618452394667,
                                        93.96578174791472,
                                        95.04966956678446,
                                        94.70752419546179,
                                        94.49306971513548,
                                        94.20792905939928,
                                        95.19835071313975,
                                        96.45369462440316,
                                        95.48421031583527,
                                        94.92277118345483,
                                        94.83596343750995,
                                        94.92654031182656,
                                        95.5864674810206,
                                        95.57116169115903,
                                        95.42060063669474,
                                        95.56582544023664,
                                        94.99891743031023,
                                        97.1182480857292,
                                        93.28762672055461,
                                        94.13125426306203,
                                        94.14512302718896,
                                        94.37875673438313,
                                        93.966603173902,
                                        94.67890170939214,
                                        94.97651676735947,
                                        94.09329953782178,
                                        93.78957226083658,
                                        94.79881108375017,
                                        95.59824116975625,
                                        93.26388357435317,
                                        96.02610034149961,
                                        93.58903102302256,
                                        94.74052277319085,
                                        95.81093661739195,
                                        94.43703094907468,
                                        95.52477273056755,
                                        95.33853722343471,
                                        95.5035444509428,
                                        94.90610527087188,
                                        94.77342736043536,
                                        96.2210046676871,
                                        93.7824315004303,
                                        95.7269571366663,
                                        94.43664455040235,
                                        94.27940644446329,
                                        94.23286481343254,
                                        95.96087719259427,
                                        95.75382627054171,
                                        96.04689898352308,
                                        94.77720368560259,
                                        93.7091780916843,
                                        94.47472385124397,
                                        95.71963227562316,
                                        93.74195803777347,
                                        95.39749813141124,
                                        95.10389135865714,
                                        94.36455716126983,
                                        93.88387197795696,
                                        93.94679365413545,
                                        95.02084221479129,
                                        96.17871708284461,
                                        94.48837846969212,
                                        95.07453191309384,
                                        94.36549534653454,
                                        94.64069618291762,
                                        95.16026164763717,
                                        95.42763138294843,
                                        96.23936499158827,
                                        95.46718670585403,
                                        94.23237369566652,
                                        94.63798506583294,
                                        93.83447394862097,
                                        95.06787707834361,
                                        95.81131768691944,
                                        94.92153824884471,
                                        94.25421484500495,
                                        94.96204269962473,
                                        94.47905116481665,
                                        94.52042294502263,
                                        95.2047886101032,
                                        95.78207427181484,
                                        97.16731166673867,
                                        95.34450417108648,
                                        95.60652660477817,
                                        94.6930913833131,
                                        95.03266509902897,
                                        95.54791848439439,
                                        93.82943941833338,
                                        95.06092839307112,
                                        95.68750368042372,
                                        95.14669198340957,
                                        95.71805379795356,
                                        93.81317893756794,
                                        95.65119199713604,
                                        95.05641794380573,
                                        94.28708252946808,
                                        93.40039123422471,
                                        94.494121156074,
                                        95.10396281426159,
                                        95.75779689340992,
                                        94.98951207237127,
                                        96.2015110174114,
                                        95.74616025260934,
                                        95.15903168736233,
                                        94.89608654982229,
                                        94.76248734874196,
                                        94.50524816104789,
                                        95.18257088278318,
                                        95.59057289342724,
                                        94.25926612826635,
                                        96.59324002866063,
                                        95.13350993860399,
                                        94.55536207679711,
                                        94.77240686705453,
                                        95.02566643854554,
                                        95.64878309666227,
                                        95.62309484734544,
                                        94.75531049645292,
                                        93.89827596201062,
                                        95.07560926742386,
                                        95.53142979335927,
                                        94.99381626741945,
                                        96.85421892415297,
                                        95.35258850706757,
                                        96.08605382204831,
                                        95.31079113745645,
                                        96.09981194128346,
                                        95.41796524783683,
                                        94.60182654884942,
                                        94.50218091248513,
                                        95.29787856973007,
                                        94.29232035731292,
                                        94.28570241064469,
                                        95.7780652316529,
                                        97.24608253434928,
                                        94.76027377749513,
                                        94.82568436188944,
                                        94.16739026433584,
                                        95.76927720449974,
                                        94.1210592024561,
                                        95.283171048295,
                                        94.69234341378812,
                                        94.43436556656295,
                                        94.398635297587,
                                        93.9633208185534,
                                        95.89247424942303,
                                        96.20928636590327,
                                        94.18228932417995,
                                        95.03624985895239,
                                        95.47837914875035,
                                        95.98503865989463,
                                        93.93697065551245,
                                        94.69234737201754,
                                        95.16966132766882,
                                        95.80570024734754,
                                        94.58322843087312,
                                        95.2783329819768,
                                        96.7490956338512,
                                        95.31435587301186,
                                        93.2172994308948,
                                        95.46458867563929,
                                        94.10118248644038,
                                        93.83388024241538,
                                        95.5416130036732,
                                        94.21706323340416,
                                        94.76841009147495,
                                        95.74872389020118,
                                        95.77533719051314,
                                        94.4894471365139,
                                        94.26577370264403,
                                        95.53769729223687,
                                        94.80654721456827,
                                        94.17092451072659,
                                        95.48241205301204,
                                        94.93932603610227,
                                        95.09575467029715,
                                        95.66459382200304,
                                        96.0821787008297,
                                        94.16754670854525,
                                        94.48620322350142,
                                        95.10508062251017,
                                        95.25699915853522,
                                        93.86556494003023,
                                        95.28423137574138,
                                        95.51006683589455,
                                        95.1471490845725,
                                        94.92295705932649,
                                        94.91592705705266,
                                        94.47178700334459,
                                        94.14468520692733,
                                        93.98630578314157,
                                        95.60842472797053,
                                        94.0878210052295,
                                        94.35126811433483,
                                        95.1072972115056,
                                        95.74024171173986,
                                        95.23036221591153,
                                        93.70495742965028,
                                        93.97903526960205,
                                        93.62697684951983,
                                        95.02855308753479,
                                        95.67990451351301,
                                        95.58560087893184,
                                        93.74144961736138,
                                        95.63829026674838,
                                        94.69739072180602,
                                        95.25356465872281,
                                        94.91768272907024,
                                        94.84820678821058,
                                        95.722969634107,
                                        94.84015970924939,
                                        95.59215920906612,
                                        95.24722905752238,
                                        95.12650240791231,
                                        95.58867323896641,
                                        96.4447384155256,
                                        94.31785336295434,
                                        95.32600596031872,
                                        96.54913030563597,
                                        93.7922376049496,
                                        93.96878387261454,
                                        95.57899133555776,
                                        94.92688698425057,
                                        95.14099156593116,
                                        93.55457936030678,
                                        96.64283841451464,
                                        95.3326439318077,
                                        95.02909614692916,
                                        95.5038362028875,
                                        95.23723267487561,
                                        94.89220953400513,
                                        96.33250937417131,
                                        97.01404164503866,
                                        94.49397526478802,
                                        95.3719807973734,
                                        93.94952556205037,
                                        95.78743851058202,
                                        95.28931223919652,
                                        94.90539226676108,
                                        95.48996182822697,
                                        93.48172616717568,
                                        95.41542884479884,
                                        96.04556951324128,
                                        96.01155509185668,
                                        95.59788323157576,
                                        96.96594204971177,
                                        95.28457276143733,
                                        94.80066307537322,
                                        94.66566487420296,
                                        95.29569894749571,
                                        95.25612070262618,
                                        94.82589261891934,
                                        95.51901411031027,
                                        94.47583180195582,
                                        94.84980663672778,
                                        95.26398877500961,
                                        95.26315683515327,
                                        95.41075102982876,
                                        92.5534026395342,
                                        96.72817577668084,
                                        96.38996285096945,
                                        94.65573672140958,
                                        94.55075683709384,
                                        95.0109939040405,
                                        95.40988695656031,
                                        95.44688609575319,
                                        94.24678924251111,
                                        95.48068832207602
                                    ],
                                    "xbins": {
                                        "end": 100,
                                        "size": 0.5,
                                        "start": 50
                                    }
                                }
                            ],
                            "layout": {
                                "template": {
                                    "data": {
                                        "bar": [
                                            {
                                                "error_x": {
                                                    "color": "#2a3f5f"
                                                },
                                                "error_y": {
                                                    "color": "#2a3f5f"
                                                },
                                                "marker": {
                                                    "line": {
                                                        "color": "#E5ECF6",
                                                        "width": 0.5
                                                    },
                                                    "pattern": {
                                                        "fillmode": "overlay",
                                                        "size": 10,
                                                        "solidity": 0.2
                                                    }
                                                },
                                                "type": "bar"
                                            }
                                        ],
                                        "barpolar": [
                                            {
                                                "marker": {
                                                    "line": {
                                                        "color": "#E5ECF6",
                                                        "width": 0.5
                                                    },
                                                    "pattern": {
                                                        "fillmode": "overlay",
                                                        "size": 10,
                                                        "solidity": 0.2
                                                    }
                                                },
                                                "type": "barpolar"
                                            }
                                        ],
                                        "carpet": [
                                            {
                                                "aaxis": {
                                                    "endlinecolor": "#2a3f5f",
                                                    "gridcolor": "white",
                                                    "linecolor": "white",
                                                    "minorgridcolor": "white",
                                                    "startlinecolor": "#2a3f5f"
                                                },
                                                "baxis": {
                                                    "endlinecolor": "#2a3f5f",
                                                    "gridcolor": "white",
                                                    "linecolor": "white",
                                                    "minorgridcolor": "white",
                                                    "startlinecolor": "#2a3f5f"
                                                },
                                                "type": "carpet"
                                            }
                                        ],
                                        "choropleth": [
                                            {
                                                "colorbar": {
                                                    "outlinewidth": 0,
                                                    "ticks": ""
                                                },
                                                "type": "choropleth"
                                            }
                                        ],
                                        "contour": [
                                            {
                                                "colorbar": {
                                                    "outlinewidth": 0,
                                                    "ticks": ""
                                                },
                                                "colorscale": [
                                                    [
                                                        0,
                                                        "#0d0887"
                                                    ],
                                                    [
                                                        0.1111111111111111,
                                                        "#46039f"
                                                    ],
                                                    [
                                                        0.2222222222222222,
                                                        "#7201a8"
                                                    ],
                                                    [
                                                        0.3333333333333333,
                                                        "#9c179e"
                                                    ],
                                                    [
                                                        0.4444444444444444,
                                                        "#bd3786"
                                                    ],
                                                    [
                                                        0.5555555555555556,
                                                        "#d8576b"
                                                    ],
                                                    [
                                                        0.6666666666666666,
                                                        "#ed7953"
                                                    ],
                                                    [
                                                        0.7777777777777778,
                                                        "#fb9f3a"
                                                    ],
                                                    [
                                                        0.8888888888888888,
                                                        "#fdca26"
                                                    ],
                                                    [
                                                        1,
                                                        "#f0f921"
                                                    ]
                                                ],
                                                "type": "contour"
                                            }
                                        ],
                                        "contourcarpet": [
                                            {
                                                "colorbar": {
                                                    "outlinewidth": 0,
                                                    "ticks": ""
                                                },
                                                "type": "contourcarpet"
                                            }
                                        ],
                                        "heatmap": [
                                            {
                                                "colorbar": {
                                                    "outlinewidth": 0,
                                                    "ticks": ""
                                                },
                                                "colorscale": [
                                                    [
                                                        0,
                                                        "#0d0887"
                                                    ],
                                                    [
                                                        0.1111111111111111,
                                                        "#46039f"
                                                    ],
                                                    [
                                                        0.2222222222222222,
                                                        "#7201a8"
                                                    ],
                                                    [
                                                        0.3333333333333333,
                                                        "#9c179e"
                                                    ],
                                                    [
                                                        0.4444444444444444,
                                                        "#bd3786"
                                                    ],
                                                    [
                                                        0.5555555555555556,
                                                        "#d8576b"
                                                    ],
                                                    [
                                                        0.6666666666666666,
                                                        "#ed7953"
                                                    ],
                                                    [
                                                        0.7777777777777778,
                                                        "#fb9f3a"
                                                    ],
                                                    [
                                                        0.8888888888888888,
                                                        "#fdca26"
                                                    ],
                                                    [
                                                        1,
                                                        "#f0f921"
                                                    ]
                                                ],
                                                "type": "heatmap"
                                            }
                                        ],
                                        "heatmapgl": [
                                            {
                                                "colorbar": {
                                                    "outlinewidth": 0,
                                                    "ticks": ""
                                                },
                                                "colorscale": [
                                                    [
                                                        0,
                                                        "#0d0887"
                                                    ],
                                                    [
                                                        0.1111111111111111,
                                                        "#46039f"
                                                    ],
                                                    [
                                                        0.2222222222222222,
                                                        "#7201a8"
                                                    ],
                                                    [
                                                        0.3333333333333333,
                                                        "#9c179e"
                                                    ],
                                                    [
                                                        0.4444444444444444,
                                                        "#bd3786"
                                                    ],
                                                    [
                                                        0.5555555555555556,
                                                        "#d8576b"
                                                    ],
                                                    [
                                                        0.6666666666666666,
                                                        "#ed7953"
                                                    ],
                                                    [
                                                        0.7777777777777778,
                                                        "#fb9f3a"
                                                    ],
                                                    [
                                                        0.8888888888888888,
                                                        "#fdca26"
                                                    ],
                                                    [
                                                        1,
                                                        "#f0f921"
                                                    ]
                                                ],
                                                "type": "heatmapgl"
                                            }
                                        ],
                                        "histogram": [
                                            {
                                                "marker": {
                                                    "pattern": {
                                                        "fillmode": "overlay",
                                                        "size": 10,
                                                        "solidity": 0.2
                                                    }
                                                },
                                                "type": "histogram"
                                            }
                                        ],
                                        "histogram2d": [
                                            {
                                                "colorbar": {
                                                    "outlinewidth": 0,
                                                    "ticks": ""
                                                },
                                                "colorscale": [
                                                    [
                                                        0,
                                                        "#0d0887"
                                                    ],
                                                    [
                                                        0.1111111111111111,
                                                        "#46039f"
                                                    ],
                                                    [
                                                        0.2222222222222222,
                                                        "#7201a8"
                                                    ],
                                                    [
                                                        0.3333333333333333,
                                                        "#9c179e"
                                                    ],
                                                    [
                                                        0.4444444444444444,
                                                        "#bd3786"
                                                    ],
                                                    [
                                                        0.5555555555555556,
                                                        "#d8576b"
                                                    ],
                                                    [
                                                        0.6666666666666666,
                                                        "#ed7953"
                                                    ],
                                                    [
                                                        0.7777777777777778,
                                                        "#fb9f3a"
                                                    ],
                                                    [
                                                        0.8888888888888888,
                                                        "#fdca26"
                                                    ],
                                                    [
                                                        1,
                                                        "#f0f921"
                                                    ]
                                                ],
                                                "type": "histogram2d"
                                            }
                                        ],
                                        "histogram2dcontour": [
                                            {
                                                "colorbar": {
                                                    "outlinewidth": 0,
                                                    "ticks": ""
                                                },
                                                "colorscale": [
                                                    [
                                                        0,
                                                        "#0d0887"
                                                    ],
                                                    [
                                                        0.1111111111111111,
                                                        "#46039f"
                                                    ],
                                                    [
                                                        0.2222222222222222,
                                                        "#7201a8"
                                                    ],
                                                    [
                                                        0.3333333333333333,
                                                        "#9c179e"
                                                    ],
                                                    [
                                                        0.4444444444444444,
                                                        "#bd3786"
                                                    ],
                                                    [
                                                        0.5555555555555556,
                                                        "#d8576b"
                                                    ],
                                                    [
                                                        0.6666666666666666,
                                                        "#ed7953"
                                                    ],
                                                    [
                                                        0.7777777777777778,
                                                        "#fb9f3a"
                                                    ],
                                                    [
                                                        0.8888888888888888,
                                                        "#fdca26"
                                                    ],
                                                    [
                                                        1,
                                                        "#f0f921"
                                                    ]
                                                ],
                                                "type": "histogram2dcontour"
                                            }
                                        ],
                                        "mesh3d": [
                                            {
                                                "colorbar": {
                                                    "outlinewidth": 0,
                                                    "ticks": ""
                                                },
                                                "type": "mesh3d"
                                            }
                                        ],
                                        "parcoords": [
                                            {
                                                "line": {
                                                    "colorbar": {
                                                        "outlinewidth": 0,
                                                        "ticks": ""
                                                    }
                                                },
                                                "type": "parcoords"
                                            }
                                        ],
                                        "pie": [
                                            {
                                                "automargin": true,
                                                "type": "pie"
                                            }
                                        ],
                                        "scatter": [
                                            {
                                                "fillpattern": {
                                                    "fillmode": "overlay",
                                                    "size": 10,
                                                    "solidity": 0.2
                                                },
                                                "type": "scatter"
                                            }
                                        ],
                                        "scatter3d": [
                                            {
                                                "line": {
                                                    "colorbar": {
                                                        "outlinewidth": 0,
                                                        "ticks": ""
                                                    }
                                                },
                                                "marker": {
                                                    "colorbar": {
                                                        "outlinewidth": 0,
                                                        "ticks": ""
                                                    }
                                                },
                                                "type": "scatter3d"
                                            }
                                        ],
                                        "scattercarpet": [
                                            {
                                                "marker": {
                                                    "colorbar": {
                                                        "outlinewidth": 0,
                                                        "ticks": ""
                                                    }
                                                },
                                                "type": "scattercarpet"
                                            }
                                        ],
                                        "scattergeo": [
                                            {
                                                "marker": {
                                                    "colorbar": {
                                                        "outlinewidth": 0,
                                                        "ticks": ""
                                                    }
                                                },
                                                "type": "scattergeo"
                                            }
                                        ],
                                        "scattergl": [
                                            {
                                                "marker": {
                                                    "colorbar": {
                                                        "outlinewidth": 0,
                                                        "ticks": ""
                                                    }
                                                },
                                                "type": "scattergl"
                                            }
                                        ],
                                        "scattermapbox": [
                                            {
                                                "marker": {
                                                    "colorbar": {
                                                        "outlinewidth": 0,
                                                        "ticks": ""
                                                    }
                                                },
                                                "type": "scattermapbox"
                                            }
                                        ],
                                        "scatterpolar": [
                                            {
                                                "marker": {
                                                    "colorbar": {
                                                        "outlinewidth": 0,
                                                        "ticks": ""
                                                    }
                                                },
                                                "type": "scatterpolar"
                                            }
                                        ],
                                        "scatterpolargl": [
                                            {
                                                "marker": {
                                                    "colorbar": {
                                                        "outlinewidth": 0,
                                                        "ticks": ""
                                                    }
                                                },
                                                "type": "scatterpolargl"
                                            }
                                        ],
                                        "scatterternary": [
                                            {
                                                "marker": {
                                                    "colorbar": {
                                                        "outlinewidth": 0,
                                                        "ticks": ""
                                                    }
                                                },
                                                "type": "scatterternary"
                                            }
                                        ],
                                        "surface": [
                                            {
                                                "colorbar": {
                                                    "outlinewidth": 0,
                                                    "ticks": ""
                                                },
                                                "colorscale": [
                                                    [
                                                        0,
                                                        "#0d0887"
                                                    ],
                                                    [
                                                        0.1111111111111111,
                                                        "#46039f"
                                                    ],
                                                    [
                                                        0.2222222222222222,
                                                        "#7201a8"
                                                    ],
                                                    [
                                                        0.3333333333333333,
                                                        "#9c179e"
                                                    ],
                                                    [
                                                        0.4444444444444444,
                                                        "#bd3786"
                                                    ],
                                                    [
                                                        0.5555555555555556,
                                                        "#d8576b"
                                                    ],
                                                    [
                                                        0.6666666666666666,
                                                        "#ed7953"
                                                    ],
                                                    [
                                                        0.7777777777777778,
                                                        "#fb9f3a"
                                                    ],
                                                    [
                                                        0.8888888888888888,
                                                        "#fdca26"
                                                    ],
                                                    [
                                                        1,
                                                        "#f0f921"
                                                    ]
                                                ],
                                                "type": "surface"
                                            }
                                        ],
                                        "table": [
                                            {
                                                "cells": {
                                                    "fill": {
                                                        "color": "#EBF0F8"
                                                    },
                                                    "line": {
                                                        "color": "white"
                                                    }
                                                },
                                                "header": {
                                                    "fill": {
                                                        "color": "#C8D4E3"
                                                    },
                                                    "line": {
                                                        "color": "white"
                                                    }
                                                },
                                                "type": "table"
                                            }
                                        ]
                                    },
                                    "layout": {
                                        "annotationdefaults": {
                                            "arrowcolor": "#2a3f5f",
                                            "arrowhead": 0,
                                            "arrowwidth": 1
                                        },
                                        "autotypenumbers": "strict",
                                        "coloraxis": {
                                            "colorbar": {
                                                "outlinewidth": 0,
                                                "ticks": ""
                                            }
                                        },
                                        "colorscale": {
                                            "diverging": [
                                                [
                                                    0,
                                                    "#8e0152"
                                                ],
                                                [
                                                    0.1,
                                                    "#c51b7d"
                                                ],
                                                [
                                                    0.2,
                                                    "#de77ae"
                                                ],
                                                [
                                                    0.3,
                                                    "#f1b6da"
                                                ],
                                                [
                                                    0.4,
                                                    "#fde0ef"
                                                ],
                                                [
                                                    0.5,
                                                    "#f7f7f7"
                                                ],
                                                [
                                                    0.6,
                                                    "#e6f5d0"
                                                ],
                                                [
                                                    0.7,
                                                    "#b8e186"
                                                ],
                                                [
                                                    0.8,
                                                    "#7fbc41"
                                                ],
                                                [
                                                    0.9,
                                                    "#4d9221"
                                                ],
                                                [
                                                    1,
                                                    "#276419"
                                                ]
                                            ],
                                            "sequential": [
                                                [
                                                    0,
                                                    "#0d0887"
                                                ],
                                                [
                                                    0.1111111111111111,
                                                    "#46039f"
                                                ],
                                                [
                                                    0.2222222222222222,
                                                    "#7201a8"
                                                ],
                                                [
                                                    0.3333333333333333,
                                                    "#9c179e"
                                                ],
                                                [
                                                    0.4444444444444444,
                                                    "#bd3786"
                                                ],
                                                [
                                                    0.5555555555555556,
                                                    "#d8576b"
                                                ],
                                                [
                                                    0.6666666666666666,
                                                    "#ed7953"
                                                ],
                                                [
                                                    0.7777777777777778,
                                                    "#fb9f3a"
                                                ],
                                                [
                                                    0.8888888888888888,
                                                    "#fdca26"
                                                ],
                                                [
                                                    1,
                                                    "#f0f921"
                                                ]
                                            ],
                                            "sequentialminus": [
                                                [
                                                    0,
                                                    "#0d0887"
                                                ],
                                                [
                                                    0.1111111111111111,
                                                    "#46039f"
                                                ],
                                                [
                                                    0.2222222222222222,
                                                    "#7201a8"
                                                ],
                                                [
                                                    0.3333333333333333,
                                                    "#9c179e"
                                                ],
                                                [
                                                    0.4444444444444444,
                                                    "#bd3786"
                                                ],
                                                [
                                                    0.5555555555555556,
                                                    "#d8576b"
                                                ],
                                                [
                                                    0.6666666666666666,
                                                    "#ed7953"
                                                ],
                                                [
                                                    0.7777777777777778,
                                                    "#fb9f3a"
                                                ],
                                                [
                                                    0.8888888888888888,
                                                    "#fdca26"
                                                ],
                                                [
                                                    1,
                                                    "#f0f921"
                                                ]
                                            ]
                                        },
                                        "colorway": [
                                            "#636efa",
                                            "#EF553B",
                                            "#00cc96",
                                            "#ab63fa",
                                            "#FFA15A",
                                            "#19d3f3",
                                            "#FF6692",
                                            "#B6E880",
                                            "#FF97FF",
                                            "#FECB52"
                                        ],
                                        "font": {
                                            "color": "#2a3f5f"
                                        },
                                        "geo": {
                                            "bgcolor": "white",
                                            "lakecolor": "white",
                                            "landcolor": "#E5ECF6",
                                            "showlakes": true,
                                            "showland": true,
                                            "subunitcolor": "white"
                                        },
                                        "hoverlabel": {
                                            "align": "left"
                                        },
                                        "hovermode": "closest",
                                        "mapbox": {
                                            "style": "light"
                                        },
                                        "paper_bgcolor": "white",
                                        "plot_bgcolor": "#E5ECF6",
                                        "polar": {
                                            "angularaxis": {
                                                "gridcolor": "white",
                                                "linecolor": "white",
                                                "ticks": ""
                                            },
                                            "bgcolor": "#E5ECF6",
                                            "radialaxis": {
                                                "gridcolor": "white",
                                                "linecolor": "white",
                                                "ticks": ""
                                            }
                                        },
                                        "scene": {
                                            "xaxis": {
                                                "backgroundcolor": "#E5ECF6",
                                                "gridcolor": "white",
                                                "gridwidth": 2,
                                                "linecolor": "white",
                                                "showbackground": true,
                                                "ticks": "",
                                                "zerolinecolor": "white"
                                            },
                                            "yaxis": {
                                                "backgroundcolor": "#E5ECF6",
                                                "gridcolor": "white",
                                                "gridwidth": 2,
                                                "linecolor": "white",
                                                "showbackground": true,
                                                "ticks": "",
                                                "zerolinecolor": "white"
                                            },
                                            "zaxis": {
                                                "backgroundcolor": "#E5ECF6",
                                                "gridcolor": "white",
                                                "gridwidth": 2,
                                                "linecolor": "white",
                                                "showbackground": true,
                                                "ticks": "",
                                                "zerolinecolor": "white"
                                            }
                                        },
                                        "shapedefaults": {
                                            "line": {
                                                "color": "#2a3f5f"
                                            }
                                        },
                                        "ternary": {
                                            "aaxis": {
                                                "gridcolor": "white",
                                                "linecolor": "white",
                                                "ticks": ""
                                            },
                                            "baxis": {
                                                "gridcolor": "white",
                                                "linecolor": "white",
                                                "ticks": ""
                                            },
                                            "bgcolor": "#E5ECF6",
                                            "caxis": {
                                                "gridcolor": "white",
                                                "linecolor": "white",
                                                "ticks": ""
                                            }
                                        },
                                        "title": {
                                            "x": 0.05
                                        },
                                        "xaxis": {
                                            "automargin": true,
                                            "gridcolor": "white",
                                            "linecolor": "white",
                                            "ticks": "",
                                            "title": {
                                                "standoff": 15
                                            },
                                            "zerolinecolor": "white",
                                            "zerolinewidth": 2
                                        },
                                        "yaxis": {
                                            "automargin": true,
                                            "gridcolor": "white",
                                            "linecolor": "white",
                                            "ticks": "",
                                            "title": {
                                                "standoff": 15
                                            },
                                            "zerolinecolor": "white",
                                            "zerolinewidth": 2
                                        }
                                    }
                                },
                                "width": 800,
                                "xaxis": {
                                    "range": [
                                        50,
                                        100
                                    ],
                                    "title": {
                                        "text": "Unbiased O2 saturation"
                                    }
                                },
                                "yaxis": {
                                    "title": {
                                        "text": "Probability"
                                    }
                                }
                            }
                        }
                    },
                    "metadata": {},
                    "output_type": "display_data"
                }
            ],
            "source": [
                "O2Sat_vals = np.arange(50, 101, 1)\n",
                "\n",
                "# Parameters\n",
                "UO2Sat = mh.variableNode(\"Unbiased O2 saturation (%)\", 50, 100, 0.5, prior=None)\n",
                "o2sat_obs = 95\n",
                "std_gauss = 0.86\n",
                "repetitions = 100000\n",
                "\n",
                "hist, bin_edges, true_o2sat_arr = o2sat.generate_underlying_uo2sat_distribution(\n",
                "    UO2Sat, o2sat_obs, repetitions, std_gauss, show_std=True\n",
                ")\n",
                "\n",
                "\n",
                "fig = go.Figure()\n",
                "fig.add_trace(\n",
                "    go.Histogram(\n",
                "        x=true_o2sat_arr,\n",
                "        xbins=dict(start=UO2Sat.a, end=UO2Sat.b, size=UO2Sat.bin_width),\n",
                "        autobinx=False,\n",
                "        histnorm=\"probability\",\n",
                "    )\n",
                ")\n",
                "\n",
                "fig.update_layout(width=800)\n",
                "fig.update_xaxes(range=[UO2Sat.a, UO2Sat.b], title=\"Unbiased O2 saturation\")\n",
                "fig.update_yaxes(title=\"Probability\")\n",
                "fig.show()"
            ]
        },
        {
            "cell_type": "markdown",
            "metadata": {},
            "source": [
                "# Build the CPT of O2Sat-UnbiasedO2Sat\n",
                "It uses the same algorithm as above but saves all the data into a table"
            ]
        },
        {
            "cell_type": "code",
            "execution_count": 11,
            "metadata": {},
            "outputs": [
                {
                    "name": "stdout",
                    "output_type": "stream",
                    "text": [
                        "Std of values giving 50: 0.5502\n",
                        "Std of values giving 51: 0.7412\n",
                        "Std of values giving 52: 0.8729\n",
                        "Std of values giving 53: 0.9072\n",
                        "Std of values giving 54: 0.9078\n",
                        "Std of values giving 55: 0.9121\n",
                        "Std of values giving 56: 0.9045\n",
                        "Std of values giving 57: 0.9025\n",
                        "Std of values giving 58: 0.9059\n",
                        "Std of values giving 59: 0.9049\n",
                        "Std of values giving 60: 0.9105\n",
                        "Std of values giving 61: 0.9121\n",
                        "Std of values giving 62: 0.9217\n",
                        "Std of values giving 63: 0.9124\n",
                        "Std of values giving 64: 0.9104\n",
                        "Std of values giving 65: 0.8995\n",
                        "Std of values giving 66: 0.9035\n",
                        "Std of values giving 67: 0.9131\n",
                        "Std of values giving 68: 0.9094\n",
                        "Std of values giving 69: 0.9025\n",
                        "Std of values giving 70: 0.9171\n",
                        "Std of values giving 71: 0.9072\n",
                        "Std of values giving 72: 0.9135\n",
                        "Std of values giving 73: 0.9026\n",
                        "Std of values giving 74: 0.9177\n",
                        "Std of values giving 75: 0.9048\n",
                        "Std of values giving 76: 0.9141\n",
                        "Std of values giving 77: 0.9073\n",
                        "Std of values giving 78: 0.9052\n",
                        "Std of values giving 79: 0.9092\n",
                        "Std of values giving 80: 0.9093\n",
                        "Std of values giving 81: 0.905\n",
                        "Std of values giving 82: 0.9106\n",
                        "Std of values giving 83: 0.9055\n",
                        "Std of values giving 84: 0.8999\n",
                        "Std of values giving 85: 0.9047\n",
                        "Std of values giving 86: 0.9104\n",
                        "Std of values giving 87: 0.8993\n",
                        "Std of values giving 88: 0.9109\n",
                        "Std of values giving 89: 0.9076\n",
                        "Std of values giving 90: 0.9074\n",
                        "Std of values giving 91: 0.9043\n",
                        "Std of values giving 92: 0.9058\n",
                        "Std of values giving 93: 0.9094\n",
                        "Std of values giving 94: 0.9085\n",
                        "Std of values giving 95: 0.9029\n",
                        "Std of values giving 96: 0.9069\n",
                        "Std of values giving 97: 0.9061\n",
                        "Std of values giving 98: 0.8679\n",
                        "Std of values giving 99: 0.7384\n",
                        "Std of values giving 100: 0.5489\n"
                    ]
                }
            ],
            "source": [
                "# Parameters\n",
                "UO2Sat = mh.variableNode(\"Unbiased O2 saturation (%)\", 50, 100, 0.5, prior=None)\n",
                "std_gauss = 0.86\n",
                "repetitions = 1000000\n",
                "cpt = np.zeros((len(O2Sat_vals), len(UO2Sat.bins)))\n",
                "\n",
                "for i, o2sat_obs in enumerate(O2Sat_vals):\n",
                "    hist, _, _ = o2sat.generate_underlying_uo2sat_distribution(\n",
                "        UO2Sat, o2sat_obs, repetitions, std_gauss, show_std=True\n",
                "    )\n",
                "\n",
                "    cpt[i, :] = hist\n",
                "\n",
                "# Normalise cpt\n",
                "normaliser = cpt.sum(axis=0)\n",
                "for i, norm in enumerate(normaliser):\n",
                "    if norm != 0:\n",
                "        cpt[:, i] = cpt[:, i] / norm"
            ]
        },
        {
            "cell_type": "code",
            "execution_count": 12,
            "metadata": {},
            "outputs": [
                {
                    "data": {
                        "text/plain": [
                            "array([0.        , 0.        , 0.        , 0.        , 0.        ,\n",
                            "       0.        , 0.        , 0.        , 0.        , 0.        ,\n",
                            "       0.        , 0.        , 0.        , 0.        , 0.        ,\n",
                            "       0.        , 0.        , 0.00059365, 0.02234474, 0.17519066,\n",
                            "       0.41088857, 0.31513737, 0.07110914, 0.00473586, 0.        ,\n",
                            "       0.        , 0.        , 0.        , 0.        , 0.        ,\n",
                            "       0.        , 0.        , 0.        , 0.        , 0.        ,\n",
                            "       0.        , 0.        , 0.        , 0.        , 0.        ,\n",
                            "       0.        , 0.        , 0.        , 0.        , 0.        ,\n",
                            "       0.        , 0.        , 0.        , 0.        , 0.        ,\n",
                            "       0.        ])"
                        ]
                    },
                    "execution_count": 12,
                    "metadata": {},
                    "output_type": "execute_result"
                }
            ],
            "source": [
                "cpt[:, 40]"
            ]
        },
        {
            "cell_type": "code",
            "execution_count": 46,
            "metadata": {},
            "outputs": [
                {
                    "data": {
                        "text/plain": [
                            "67.0"
                        ]
                    },
                    "execution_count": 46,
                    "metadata": {},
                    "output_type": "execute_result"
                }
            ],
            "source": [
                "UO2Sat.bins[34]"
            ]
        },
        {
            "cell_type": "code",
            "execution_count": 13,
            "metadata": {},
            "outputs": [
                {
                    "data": {
                        "application/vnd.plotly.v1+json": {
                            "config": {
                                "plotlyServerURL": "https://plot.ly"
                            },
                            "data": [
                                {
                                    "type": "scatter",
                                    "x": [
                                        50,
                                        51,
                                        52,
                                        53,
                                        54,
                                        55,
                                        56,
                                        57,
                                        58,
                                        59,
                                        60,
                                        61,
                                        62,
                                        63,
                                        64,
                                        65,
                                        66,
                                        67,
                                        68,
                                        69,
                                        70,
                                        71,
                                        72,
                                        73,
                                        74,
                                        75,
                                        76,
                                        77,
                                        78,
                                        79,
                                        80,
                                        81,
                                        82,
                                        83,
                                        84,
                                        85,
                                        86,
                                        87,
                                        88,
                                        89,
                                        90,
                                        91,
                                        92,
                                        93,
                                        94,
                                        95,
                                        96,
                                        97,
                                        98,
                                        99,
                                        100
                                    ],
                                    "y": [
                                        0,
                                        0,
                                        0,
                                        0,
                                        0,
                                        0,
                                        0,
                                        0,
                                        0,
                                        0,
                                        0,
                                        0,
                                        0,
                                        0,
                                        0,
                                        0,
                                        0,
                                        0.000593653364906104,
                                        0.022344743147842246,
                                        0.17519066026562163,
                                        0.4108885693503771,
                                        0.3151373652605756,
                                        0.07110914446410652,
                                        0.004735864146570686,
                                        0,
                                        0,
                                        0,
                                        0,
                                        0,
                                        0,
                                        0,
                                        0,
                                        0,
                                        0,
                                        0,
                                        0,
                                        0,
                                        0,
                                        0,
                                        0,
                                        0,
                                        0,
                                        0,
                                        0,
                                        0,
                                        0,
                                        0,
                                        0,
                                        0,
                                        0,
                                        0
                                    ]
                                }
                            ],
                            "layout": {
                                "template": {
                                    "data": {
                                        "bar": [
                                            {
                                                "error_x": {
                                                    "color": "#2a3f5f"
                                                },
                                                "error_y": {
                                                    "color": "#2a3f5f"
                                                },
                                                "marker": {
                                                    "line": {
                                                        "color": "#E5ECF6",
                                                        "width": 0.5
                                                    },
                                                    "pattern": {
                                                        "fillmode": "overlay",
                                                        "size": 10,
                                                        "solidity": 0.2
                                                    }
                                                },
                                                "type": "bar"
                                            }
                                        ],
                                        "barpolar": [
                                            {
                                                "marker": {
                                                    "line": {
                                                        "color": "#E5ECF6",
                                                        "width": 0.5
                                                    },
                                                    "pattern": {
                                                        "fillmode": "overlay",
                                                        "size": 10,
                                                        "solidity": 0.2
                                                    }
                                                },
                                                "type": "barpolar"
                                            }
                                        ],
                                        "carpet": [
                                            {
                                                "aaxis": {
                                                    "endlinecolor": "#2a3f5f",
                                                    "gridcolor": "white",
                                                    "linecolor": "white",
                                                    "minorgridcolor": "white",
                                                    "startlinecolor": "#2a3f5f"
                                                },
                                                "baxis": {
                                                    "endlinecolor": "#2a3f5f",
                                                    "gridcolor": "white",
                                                    "linecolor": "white",
                                                    "minorgridcolor": "white",
                                                    "startlinecolor": "#2a3f5f"
                                                },
                                                "type": "carpet"
                                            }
                                        ],
                                        "choropleth": [
                                            {
                                                "colorbar": {
                                                    "outlinewidth": 0,
                                                    "ticks": ""
                                                },
                                                "type": "choropleth"
                                            }
                                        ],
                                        "contour": [
                                            {
                                                "colorbar": {
                                                    "outlinewidth": 0,
                                                    "ticks": ""
                                                },
                                                "colorscale": [
                                                    [
                                                        0,
                                                        "#0d0887"
                                                    ],
                                                    [
                                                        0.1111111111111111,
                                                        "#46039f"
                                                    ],
                                                    [
                                                        0.2222222222222222,
                                                        "#7201a8"
                                                    ],
                                                    [
                                                        0.3333333333333333,
                                                        "#9c179e"
                                                    ],
                                                    [
                                                        0.4444444444444444,
                                                        "#bd3786"
                                                    ],
                                                    [
                                                        0.5555555555555556,
                                                        "#d8576b"
                                                    ],
                                                    [
                                                        0.6666666666666666,
                                                        "#ed7953"
                                                    ],
                                                    [
                                                        0.7777777777777778,
                                                        "#fb9f3a"
                                                    ],
                                                    [
                                                        0.8888888888888888,
                                                        "#fdca26"
                                                    ],
                                                    [
                                                        1,
                                                        "#f0f921"
                                                    ]
                                                ],
                                                "type": "contour"
                                            }
                                        ],
                                        "contourcarpet": [
                                            {
                                                "colorbar": {
                                                    "outlinewidth": 0,
                                                    "ticks": ""
                                                },
                                                "type": "contourcarpet"
                                            }
                                        ],
                                        "heatmap": [
                                            {
                                                "colorbar": {
                                                    "outlinewidth": 0,
                                                    "ticks": ""
                                                },
                                                "colorscale": [
                                                    [
                                                        0,
                                                        "#0d0887"
                                                    ],
                                                    [
                                                        0.1111111111111111,
                                                        "#46039f"
                                                    ],
                                                    [
                                                        0.2222222222222222,
                                                        "#7201a8"
                                                    ],
                                                    [
                                                        0.3333333333333333,
                                                        "#9c179e"
                                                    ],
                                                    [
                                                        0.4444444444444444,
                                                        "#bd3786"
                                                    ],
                                                    [
                                                        0.5555555555555556,
                                                        "#d8576b"
                                                    ],
                                                    [
                                                        0.6666666666666666,
                                                        "#ed7953"
                                                    ],
                                                    [
                                                        0.7777777777777778,
                                                        "#fb9f3a"
                                                    ],
                                                    [
                                                        0.8888888888888888,
                                                        "#fdca26"
                                                    ],
                                                    [
                                                        1,
                                                        "#f0f921"
                                                    ]
                                                ],
                                                "type": "heatmap"
                                            }
                                        ],
                                        "heatmapgl": [
                                            {
                                                "colorbar": {
                                                    "outlinewidth": 0,
                                                    "ticks": ""
                                                },
                                                "colorscale": [
                                                    [
                                                        0,
                                                        "#0d0887"
                                                    ],
                                                    [
                                                        0.1111111111111111,
                                                        "#46039f"
                                                    ],
                                                    [
                                                        0.2222222222222222,
                                                        "#7201a8"
                                                    ],
                                                    [
                                                        0.3333333333333333,
                                                        "#9c179e"
                                                    ],
                                                    [
                                                        0.4444444444444444,
                                                        "#bd3786"
                                                    ],
                                                    [
                                                        0.5555555555555556,
                                                        "#d8576b"
                                                    ],
                                                    [
                                                        0.6666666666666666,
                                                        "#ed7953"
                                                    ],
                                                    [
                                                        0.7777777777777778,
                                                        "#fb9f3a"
                                                    ],
                                                    [
                                                        0.8888888888888888,
                                                        "#fdca26"
                                                    ],
                                                    [
                                                        1,
                                                        "#f0f921"
                                                    ]
                                                ],
                                                "type": "heatmapgl"
                                            }
                                        ],
                                        "histogram": [
                                            {
                                                "marker": {
                                                    "pattern": {
                                                        "fillmode": "overlay",
                                                        "size": 10,
                                                        "solidity": 0.2
                                                    }
                                                },
                                                "type": "histogram"
                                            }
                                        ],
                                        "histogram2d": [
                                            {
                                                "colorbar": {
                                                    "outlinewidth": 0,
                                                    "ticks": ""
                                                },
                                                "colorscale": [
                                                    [
                                                        0,
                                                        "#0d0887"
                                                    ],
                                                    [
                                                        0.1111111111111111,
                                                        "#46039f"
                                                    ],
                                                    [
                                                        0.2222222222222222,
                                                        "#7201a8"
                                                    ],
                                                    [
                                                        0.3333333333333333,
                                                        "#9c179e"
                                                    ],
                                                    [
                                                        0.4444444444444444,
                                                        "#bd3786"
                                                    ],
                                                    [
                                                        0.5555555555555556,
                                                        "#d8576b"
                                                    ],
                                                    [
                                                        0.6666666666666666,
                                                        "#ed7953"
                                                    ],
                                                    [
                                                        0.7777777777777778,
                                                        "#fb9f3a"
                                                    ],
                                                    [
                                                        0.8888888888888888,
                                                        "#fdca26"
                                                    ],
                                                    [
                                                        1,
                                                        "#f0f921"
                                                    ]
                                                ],
                                                "type": "histogram2d"
                                            }
                                        ],
                                        "histogram2dcontour": [
                                            {
                                                "colorbar": {
                                                    "outlinewidth": 0,
                                                    "ticks": ""
                                                },
                                                "colorscale": [
                                                    [
                                                        0,
                                                        "#0d0887"
                                                    ],
                                                    [
                                                        0.1111111111111111,
                                                        "#46039f"
                                                    ],
                                                    [
                                                        0.2222222222222222,
                                                        "#7201a8"
                                                    ],
                                                    [
                                                        0.3333333333333333,
                                                        "#9c179e"
                                                    ],
                                                    [
                                                        0.4444444444444444,
                                                        "#bd3786"
                                                    ],
                                                    [
                                                        0.5555555555555556,
                                                        "#d8576b"
                                                    ],
                                                    [
                                                        0.6666666666666666,
                                                        "#ed7953"
                                                    ],
                                                    [
                                                        0.7777777777777778,
                                                        "#fb9f3a"
                                                    ],
                                                    [
                                                        0.8888888888888888,
                                                        "#fdca26"
                                                    ],
                                                    [
                                                        1,
                                                        "#f0f921"
                                                    ]
                                                ],
                                                "type": "histogram2dcontour"
                                            }
                                        ],
                                        "mesh3d": [
                                            {
                                                "colorbar": {
                                                    "outlinewidth": 0,
                                                    "ticks": ""
                                                },
                                                "type": "mesh3d"
                                            }
                                        ],
                                        "parcoords": [
                                            {
                                                "line": {
                                                    "colorbar": {
                                                        "outlinewidth": 0,
                                                        "ticks": ""
                                                    }
                                                },
                                                "type": "parcoords"
                                            }
                                        ],
                                        "pie": [
                                            {
                                                "automargin": true,
                                                "type": "pie"
                                            }
                                        ],
                                        "scatter": [
                                            {
                                                "fillpattern": {
                                                    "fillmode": "overlay",
                                                    "size": 10,
                                                    "solidity": 0.2
                                                },
                                                "type": "scatter"
                                            }
                                        ],
                                        "scatter3d": [
                                            {
                                                "line": {
                                                    "colorbar": {
                                                        "outlinewidth": 0,
                                                        "ticks": ""
                                                    }
                                                },
                                                "marker": {
                                                    "colorbar": {
                                                        "outlinewidth": 0,
                                                        "ticks": ""
                                                    }
                                                },
                                                "type": "scatter3d"
                                            }
                                        ],
                                        "scattercarpet": [
                                            {
                                                "marker": {
                                                    "colorbar": {
                                                        "outlinewidth": 0,
                                                        "ticks": ""
                                                    }
                                                },
                                                "type": "scattercarpet"
                                            }
                                        ],
                                        "scattergeo": [
                                            {
                                                "marker": {
                                                    "colorbar": {
                                                        "outlinewidth": 0,
                                                        "ticks": ""
                                                    }
                                                },
                                                "type": "scattergeo"
                                            }
                                        ],
                                        "scattergl": [
                                            {
                                                "marker": {
                                                    "colorbar": {
                                                        "outlinewidth": 0,
                                                        "ticks": ""
                                                    }
                                                },
                                                "type": "scattergl"
                                            }
                                        ],
                                        "scattermapbox": [
                                            {
                                                "marker": {
                                                    "colorbar": {
                                                        "outlinewidth": 0,
                                                        "ticks": ""
                                                    }
                                                },
                                                "type": "scattermapbox"
                                            }
                                        ],
                                        "scatterpolar": [
                                            {
                                                "marker": {
                                                    "colorbar": {
                                                        "outlinewidth": 0,
                                                        "ticks": ""
                                                    }
                                                },
                                                "type": "scatterpolar"
                                            }
                                        ],
                                        "scatterpolargl": [
                                            {
                                                "marker": {
                                                    "colorbar": {
                                                        "outlinewidth": 0,
                                                        "ticks": ""
                                                    }
                                                },
                                                "type": "scatterpolargl"
                                            }
                                        ],
                                        "scatterternary": [
                                            {
                                                "marker": {
                                                    "colorbar": {
                                                        "outlinewidth": 0,
                                                        "ticks": ""
                                                    }
                                                },
                                                "type": "scatterternary"
                                            }
                                        ],
                                        "surface": [
                                            {
                                                "colorbar": {
                                                    "outlinewidth": 0,
                                                    "ticks": ""
                                                },
                                                "colorscale": [
                                                    [
                                                        0,
                                                        "#0d0887"
                                                    ],
                                                    [
                                                        0.1111111111111111,
                                                        "#46039f"
                                                    ],
                                                    [
                                                        0.2222222222222222,
                                                        "#7201a8"
                                                    ],
                                                    [
                                                        0.3333333333333333,
                                                        "#9c179e"
                                                    ],
                                                    [
                                                        0.4444444444444444,
                                                        "#bd3786"
                                                    ],
                                                    [
                                                        0.5555555555555556,
                                                        "#d8576b"
                                                    ],
                                                    [
                                                        0.6666666666666666,
                                                        "#ed7953"
                                                    ],
                                                    [
                                                        0.7777777777777778,
                                                        "#fb9f3a"
                                                    ],
                                                    [
                                                        0.8888888888888888,
                                                        "#fdca26"
                                                    ],
                                                    [
                                                        1,
                                                        "#f0f921"
                                                    ]
                                                ],
                                                "type": "surface"
                                            }
                                        ],
                                        "table": [
                                            {
                                                "cells": {
                                                    "fill": {
                                                        "color": "#EBF0F8"
                                                    },
                                                    "line": {
                                                        "color": "white"
                                                    }
                                                },
                                                "header": {
                                                    "fill": {
                                                        "color": "#C8D4E3"
                                                    },
                                                    "line": {
                                                        "color": "white"
                                                    }
                                                },
                                                "type": "table"
                                            }
                                        ]
                                    },
                                    "layout": {
                                        "annotationdefaults": {
                                            "arrowcolor": "#2a3f5f",
                                            "arrowhead": 0,
                                            "arrowwidth": 1
                                        },
                                        "autotypenumbers": "strict",
                                        "coloraxis": {
                                            "colorbar": {
                                                "outlinewidth": 0,
                                                "ticks": ""
                                            }
                                        },
                                        "colorscale": {
                                            "diverging": [
                                                [
                                                    0,
                                                    "#8e0152"
                                                ],
                                                [
                                                    0.1,
                                                    "#c51b7d"
                                                ],
                                                [
                                                    0.2,
                                                    "#de77ae"
                                                ],
                                                [
                                                    0.3,
                                                    "#f1b6da"
                                                ],
                                                [
                                                    0.4,
                                                    "#fde0ef"
                                                ],
                                                [
                                                    0.5,
                                                    "#f7f7f7"
                                                ],
                                                [
                                                    0.6,
                                                    "#e6f5d0"
                                                ],
                                                [
                                                    0.7,
                                                    "#b8e186"
                                                ],
                                                [
                                                    0.8,
                                                    "#7fbc41"
                                                ],
                                                [
                                                    0.9,
                                                    "#4d9221"
                                                ],
                                                [
                                                    1,
                                                    "#276419"
                                                ]
                                            ],
                                            "sequential": [
                                                [
                                                    0,
                                                    "#0d0887"
                                                ],
                                                [
                                                    0.1111111111111111,
                                                    "#46039f"
                                                ],
                                                [
                                                    0.2222222222222222,
                                                    "#7201a8"
                                                ],
                                                [
                                                    0.3333333333333333,
                                                    "#9c179e"
                                                ],
                                                [
                                                    0.4444444444444444,
                                                    "#bd3786"
                                                ],
                                                [
                                                    0.5555555555555556,
                                                    "#d8576b"
                                                ],
                                                [
                                                    0.6666666666666666,
                                                    "#ed7953"
                                                ],
                                                [
                                                    0.7777777777777778,
                                                    "#fb9f3a"
                                                ],
                                                [
                                                    0.8888888888888888,
                                                    "#fdca26"
                                                ],
                                                [
                                                    1,
                                                    "#f0f921"
                                                ]
                                            ],
                                            "sequentialminus": [
                                                [
                                                    0,
                                                    "#0d0887"
                                                ],
                                                [
                                                    0.1111111111111111,
                                                    "#46039f"
                                                ],
                                                [
                                                    0.2222222222222222,
                                                    "#7201a8"
                                                ],
                                                [
                                                    0.3333333333333333,
                                                    "#9c179e"
                                                ],
                                                [
                                                    0.4444444444444444,
                                                    "#bd3786"
                                                ],
                                                [
                                                    0.5555555555555556,
                                                    "#d8576b"
                                                ],
                                                [
                                                    0.6666666666666666,
                                                    "#ed7953"
                                                ],
                                                [
                                                    0.7777777777777778,
                                                    "#fb9f3a"
                                                ],
                                                [
                                                    0.8888888888888888,
                                                    "#fdca26"
                                                ],
                                                [
                                                    1,
                                                    "#f0f921"
                                                ]
                                            ]
                                        },
                                        "colorway": [
                                            "#636efa",
                                            "#EF553B",
                                            "#00cc96",
                                            "#ab63fa",
                                            "#FFA15A",
                                            "#19d3f3",
                                            "#FF6692",
                                            "#B6E880",
                                            "#FF97FF",
                                            "#FECB52"
                                        ],
                                        "font": {
                                            "color": "#2a3f5f"
                                        },
                                        "geo": {
                                            "bgcolor": "white",
                                            "lakecolor": "white",
                                            "landcolor": "#E5ECF6",
                                            "showlakes": true,
                                            "showland": true,
                                            "subunitcolor": "white"
                                        },
                                        "hoverlabel": {
                                            "align": "left"
                                        },
                                        "hovermode": "closest",
                                        "mapbox": {
                                            "style": "light"
                                        },
                                        "paper_bgcolor": "white",
                                        "plot_bgcolor": "#E5ECF6",
                                        "polar": {
                                            "angularaxis": {
                                                "gridcolor": "white",
                                                "linecolor": "white",
                                                "ticks": ""
                                            },
                                            "bgcolor": "#E5ECF6",
                                            "radialaxis": {
                                                "gridcolor": "white",
                                                "linecolor": "white",
                                                "ticks": ""
                                            }
                                        },
                                        "scene": {
                                            "xaxis": {
                                                "backgroundcolor": "#E5ECF6",
                                                "gridcolor": "white",
                                                "gridwidth": 2,
                                                "linecolor": "white",
                                                "showbackground": true,
                                                "ticks": "",
                                                "zerolinecolor": "white"
                                            },
                                            "yaxis": {
                                                "backgroundcolor": "#E5ECF6",
                                                "gridcolor": "white",
                                                "gridwidth": 2,
                                                "linecolor": "white",
                                                "showbackground": true,
                                                "ticks": "",
                                                "zerolinecolor": "white"
                                            },
                                            "zaxis": {
                                                "backgroundcolor": "#E5ECF6",
                                                "gridcolor": "white",
                                                "gridwidth": 2,
                                                "linecolor": "white",
                                                "showbackground": true,
                                                "ticks": "",
                                                "zerolinecolor": "white"
                                            }
                                        },
                                        "shapedefaults": {
                                            "line": {
                                                "color": "#2a3f5f"
                                            }
                                        },
                                        "ternary": {
                                            "aaxis": {
                                                "gridcolor": "white",
                                                "linecolor": "white",
                                                "ticks": ""
                                            },
                                            "baxis": {
                                                "gridcolor": "white",
                                                "linecolor": "white",
                                                "ticks": ""
                                            },
                                            "bgcolor": "#E5ECF6",
                                            "caxis": {
                                                "gridcolor": "white",
                                                "linecolor": "white",
                                                "ticks": ""
                                            }
                                        },
                                        "title": {
                                            "x": 0.05
                                        },
                                        "xaxis": {
                                            "automargin": true,
                                            "gridcolor": "white",
                                            "linecolor": "white",
                                            "ticks": "",
                                            "title": {
                                                "standoff": 15
                                            },
                                            "zerolinecolor": "white",
                                            "zerolinewidth": 2
                                        },
                                        "yaxis": {
                                            "automargin": true,
                                            "gridcolor": "white",
                                            "linecolor": "white",
                                            "ticks": "",
                                            "title": {
                                                "standoff": 15
                                            },
                                            "zerolinecolor": "white",
                                            "zerolinewidth": 2
                                        }
                                    }
                                },
                                "title": {
                                    "text": "P(O2Sat | UO2Sat = [70.  70.5])"
                                },
                                "xaxis": {
                                    "title": {
                                        "text": "O2 saturation (%)"
                                    }
                                },
                                "yaxis": {
                                    "title": {
                                        "text": "Probability"
                                    }
                                }
                            }
                        }
                    },
                    "metadata": {},
                    "output_type": "display_data"
                }
            ],
            "source": [
                "uo2sat_bin_idx = 40\n",
                "fig = go.Figure()\n",
                "fig.add_trace(go.Scatter(x=O2Sat_vals, y=cpt[:, uo2sat_bin_idx]))\n",
                "fig.update_layout(\n",
                "    title_text=f\"P(O2Sat | UO2Sat = {UO2Sat.bins_arr[uo2sat_bin_idx]})\",\n",
                "    xaxis_title=\"O2 saturation (%)\",\n",
                "    yaxis_title=\"Probability\",\n",
                ")\n",
                "fig.show()"
            ]
        },
        {
            "cell_type": "markdown",
            "metadata": {},
            "source": [
                "Values below 70% are not realistic, but mathematically they can be obtained with the model.\n",
                "\n",
                "We create the CPT for O2Sat going from 50 to 100 and for UO2Sat going for 50 to 100. The 100 boundary for UO2Sat is meaningful, but not the 50. It's not a problem, because it has an effect for O2Sat = [50-53] and UO2Sat [50-57] which should never be obtained"
            ]
        },
        {
            "cell_type": "code",
            "execution_count": 14,
            "metadata": {},
            "outputs": [],
            "source": [
                "# Save cpt in text file\n",
                "np.savetxt(f\"cpt_o2sat_50_100_uo2sat_{UO2Sat.a}_{UO2Sat.b}_{UO2Sat.bin_width}.txt\", cpt, delimiter=\",\")"
            ]
        },
        {
            "cell_type": "code",
            "execution_count": null,
            "metadata": {},
            "outputs": [],
            "source": [
                "O2SatVar = mh.variableNode(\"O2 saturation (%)\", 49.5, 100.5, 1, prior=None)\n",
                "UO2Sat = mh.variableNode(\"Unbiased O2 saturation (%)\", 50, 100, 1, prior=None)\n",
                "\n",
                "o2sat.load_cpt(O2SatVar, UO2Sat)"
            ]
        },
        {
            "cell_type": "code",
            "execution_count": 8,
            "metadata": {},
            "outputs": [
                {
                    "data": {
                        "text/plain": [
                            "array([[0.56572725, 0.20357705, 0.02374338, ..., 0.        , 0.        ,\n",
                            "        0.        ],\n",
                            "       [0.32333015, 0.36028837, 0.13968624, ..., 0.        , 0.        ,\n",
                            "        0.        ],\n",
                            "       [0.10038918, 0.31963256, 0.34985606, ..., 0.        , 0.        ,\n",
                            "        0.        ],\n",
                            "       ...,\n",
                            "       [0.        , 0.        , 0.        , ..., 0.35486752, 0.31581025,\n",
                            "        0.0965846 ],\n",
                            "       [0.        , 0.        , 0.        , ..., 0.13779415, 0.35926979,\n",
                            "        0.32615087],\n",
                            "       [0.        , 0.        , 0.        , ..., 0.02384281, 0.21004499,\n",
                            "        0.56679325]])"
                        ]
                    },
                    "execution_count": 8,
                    "metadata": {},
                    "output_type": "execute_result"
                }
            ],
            "source": [
                "np.loadtxt(\"cpt_o2sat_50_100_uo2sat_50_100_1.txt\", delimiter=\",\")"
            ]
        }
    ],
    "metadata": {
        "kernelspec": {
            "display_name": "phd",
            "language": "python",
            "name": "python3"
        },
        "language_info": {
            "codemirror_mode": {
                "name": "ipython",
                "version": 3
            },
            "file_extension": ".py",
            "mimetype": "text/x-python",
            "name": "python",
            "nbconvert_exporter": "python",
            "pygments_lexer": "ipython3",
            "version": "3.10.13"
        }
    },
    "nbformat": 4,
    "nbformat_minor": 2
}