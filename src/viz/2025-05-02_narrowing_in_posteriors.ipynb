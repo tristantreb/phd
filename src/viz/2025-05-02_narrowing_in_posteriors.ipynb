{
    "cells": [
        {
            "cell_type": "code",
            "execution_count": 1,
            "metadata": {},
            "outputs": [],
            "source": [
                "import pandas as pd\n",
                "import numpy as np\n",
                "\n",
                "import data.breathe_data as bd\n",
                "import data.helpers as dh\n",
                "import models.builders as mb\n",
                "from plotly.subplots import make_subplots\n",
                "from plotly import graph_objects as go\n",
                "import inference.helpers as ih"
            ]
        },
        {
            "cell_type": "code",
            "execution_count": 19,
            "metadata": {},
            "outputs": [],
            "source": [
                "# Load smartcare data\n",
                "df_sc = dh.load_excel(\n",
                "    f\"{dh.get_path_to_main()}/ExcelFiles/SC/infer_AR_using_two_days_model_o2_fev1_06052025.xlsx\",\n",
                "    date_cols=[\"Day\"],\n",
                "    str_cols_to_arrays=[\"Healthy FEV1 (L)\", \"Airway resistance (%)\"]\n",
                ")\n",
                "df_sc.rename(\n",
                "    {\n",
                "        \"Healthy FEV1 (L)\": \"HFEV1_fev1_o2_2d\",\n",
                "        \"Airway resistance (%)\": \"AR_fev1_o2_2d\",\n",
                "        \"Day\": \"Date Recorded\",\n",
                "    },\n",
                "    axis=1,\n",
                "    inplace=True,\n",
                ")\n",
                "\n",
                "df_sc_meas = dh.load_excel(\n",
                "    f\"{dh.get_path_to_main()}/ExcelFiles/SC/O2_FEV1_df_conservative_smoothing_with_idx.xlsx\",\n",
                "    date_cols=[\"Date Recorded\"],\n",
                ")\n",
                "\n",
                "cols = [\n",
                "    \"ID\",\n",
                "    \"Date Recorded\",\n",
                "    \"ecFEV1 % Predicted\",\n",
                "    \"O2 Saturation\",\n",
                "    \"Height\",\n",
                "    \"Age\",\n",
                "    \"Sex\",\n",
                "]\n",
                "\n",
                "df_sc = pd.merge(df_sc, df_sc_meas[cols], on=[\"ID\", \"Date Recorded\"], how=\"inner\")"
            ]
        },
        {
            "cell_type": "code",
            "execution_count": null,
            "metadata": {},
            "outputs": [],
            "source": [
                "# Load BR data"
            ]
        },
        {
            "cell_type": "code",
            "execution_count": 2,
            "metadata": {},
            "outputs": [
                {
                    "name": "stderr",
                    "output_type": "stream",
                    "text": [
                        "INFO:root:* Checking for same day measurements *\n"
                    ]
                }
            ],
            "source": [
                "# Checked that obs indices are correct, see ipynb mentioned above(01.05.2025)\n",
                "df = bd.load_meas_from_excel(\"BR_O2_FEV1_FEF2575_conservative_smoothing_with_idx\")"
            ]
        },
        {
            "cell_type": "code",
            "execution_count": 3,
            "metadata": {},
            "outputs": [],
            "source": [
                "df_fev1 = bd.load_meas_from_excel(\n",
                "    \"infer_AR_using_fev1_01052025\", [\"AR\", \"HFEV1\", \"HO2Sat\"], bypass_sanity_checks=True\n",
                ").drop(columns=[\"HO2Sat\"])\n",
                "df_fev1.rename(\n",
                "    {\n",
                "        \"AR\": \"AR_fev1\",\n",
                "        \"HFEV1\": \"HFEV1_fev1\",\n",
                "    },\n",
                "    axis=1,\n",
                "    inplace=True,\n",
                ")"
            ]
        },
        {
            "cell_type": "code",
            "execution_count": 4,
            "metadata": {},
            "outputs": [],
            "source": [
                "df_fev1_o2 = bd.load_meas_from_excel(\n",
                "    \"infer_AR_using_o2sat_fev1_01052025\", [\"AR\", \"HFEV1\"], bypass_sanity_checks=True\n",
                ").drop(columns=[\"IA\", \"HO2Sat\"])\n",
                "df_fev1_o2.rename(\n",
                "    {\n",
                "        \"AR\": \"AR_fev1_o2\",\n",
                "        \"HFEV1\": \"HFEV1_fev1_o2\",\n",
                "    },\n",
                "    axis=1,\n",
                "    inplace=True,\n",
                ")"
            ]
        },
        {
            "cell_type": "code",
            "execution_count": 5,
            "metadata": {},
            "outputs": [],
            "source": [
                "df_fev1_o2_2d = bd.load_meas_from_excel(\n",
                "    \"infer_AR_using_two_days_model_o2_fev1_01052025\",\n",
                "    [\"Airway resistance (%)\", \"Healthy FEV1 (L)\"],\n",
                "    date_cols=[\"Day\"],\n",
                "    bypass_sanity_checks=True,\n",
                ").drop(columns=[\"Healthy O2 saturation (%)\"])\n",
                "df_fev1_o2_2d.rename(\n",
                "    {\n",
                "        \"Airway resistance (%)\": \"AR_fev1_o2_2d\",\n",
                "        \"Healthy FEV1 (L)\": \"HFEV1_fev1_o2_2d\",\n",
                "        \"Day\": \"Date Recorded\",\n",
                "    },\n",
                "    axis=1,\n",
                "    inplace=True,\n",
                ")"
            ]
        },
        {
            "cell_type": "code",
            "execution_count": 150,
            "metadata": {},
            "outputs": [],
            "source": [
                "df_fev1_o2_fef2575_2d = bd.load_meas_from_excel(\n",
                "    \"infer_AR_using_two_days_model_o2_fev1_fef2575_01052025\",\n",
                "    [\"Airway resistance (%)\", \"Healthy FEV1 (L)\"],\n",
                "    date_cols=[\"Day\"],\n",
                "    bypass_sanity_checks=True,\n",
                ").drop(columns=[\"Healthy O2 saturation (%)\"])\n",
                "df_fev1_o2_fef2575_2d.rename(\n",
                "    {\n",
                "        \"Airway resistance (%)\": \"AR_fev1_o2_fef2575_2d\",\n",
                "        \"Healthy FEV1 (L)\": \"HFEV1_fev1_o2_fef2575_2d\",\n",
                "        \"Day\": \"Date Recorded\",\n",
                "    },\n",
                "    axis=1,\n",
                "    inplace=True,\n",
                ")"
            ]
        },
        {
            "cell_type": "code",
            "execution_count": 152,
            "metadata": {},
            "outputs": [],
            "source": [
                "# join df to df_fev1 on ID and Date Recorded\n",
                "cols = [\n",
                "    \"ID\",\n",
                "    \"Date Recorded\",\n",
                "    \"ecFEV1 % Predicted\",\n",
                "    \"O2 Saturation\",\n",
                "    \"Height\",\n",
                "    \"Age\",\n",
                "    \"Sex\",\n",
                "]\n",
                "df_res = pd.merge(df[cols], df_fev1, on=[\"ID\", \"Date Recorded\"], how=\"inner\")\n",
                "df_res = pd.merge(df_res, df_fev1_o2, on=[\"ID\", \"Date Recorded\"], how=\"inner\")\n",
                "df_res = pd.merge(df_res, df_fev1_o2_2d, on=[\"ID\", \"Date Recorded\"], how=\"inner\")\n",
                "df_res = pd.merge(\n",
                "    df_res, df_fev1_o2_fef2575_2d, on=[\"ID\", \"Date Recorded\"], how=\"inner\"\n",
                ")"
            ]
        },
        {
            "cell_type": "code",
            "execution_count": 153,
            "metadata": {},
            "outputs": [],
            "source": [
                "# Add records count per ID\n",
                "df_count = (\n",
                "    df_res.groupby(\"ID\")\n",
                "    .apply(lambda df: len(df))\n",
                "    .reset_index()\n",
                "    .rename(columns={0: \"count\"})\n",
                ")\n",
                "df_res = pd.merge(df_res, df_count, on=[\"ID\"])"
            ]
        },
        {
            "cell_type": "code",
            "execution_count": 154,
            "metadata": {},
            "outputs": [],
            "source": [
                "# Add max ecFEV1 % pred\n",
                "df_max_fev = (\n",
                "    df_res.groupby(\"ID\")\n",
                "    .apply(lambda df: df[\"ecFEV1 % Predicted\"].max())\n",
                "    .reset_index()\n",
                "    .rename(columns={0: \"max ecFEV1 % Predicted\"})\n",
                ")\n",
                "df_res = pd.merge(df_res, df_max_fev, on=[\"ID\"])\n",
                "df_res[\"FEV delta\"] = df_res[\"max ecFEV1 % Predicted\"] - df_res[\"ecFEV1 % Predicted\"]"
            ]
        },
        {
            "cell_type": "code",
            "execution_count": 155,
            "metadata": {},
            "outputs": [],
            "source": [
                "# Add avg o2 sat\n",
                "df_avg_o2 = (\n",
                "    df_res.groupby(\"ID\")\n",
                "    .apply(lambda df: df[\"O2 Saturation\"].mean())\n",
                "    .reset_index()\n",
                "    .rename(columns={0: \"Avg O2 saturation\"})\n",
                ")\n",
                "df_res = pd.merge(df_res, df_avg_o2, on=[\"ID\"])"
            ]
        },
        {
            "cell_type": "code",
            "execution_count": 156,
            "metadata": {},
            "outputs": [
                {
                    "data": {
                        "text/plain": [
                            "Index([3448, 33235, 36519, 35294, 12396], dtype='int64')"
                        ]
                    },
                    "execution_count": 156,
                    "metadata": {},
                    "output_type": "execute_result"
                }
            ],
            "source": [
                "# df_res.sort_values(by=\"FEV delta\", ascending=False)[0:5]\n",
                "# df_res.sort_values(by=[\"ecFEV1 % Predicted\", \"O2 Saturation\"], ascending=True)[0:5]\n",
                "indices_max_avg_o2_min_ecfev1 = (\n",
                "    df_res.groupby(\"ID\")\n",
                "    .apply(\n",
                "        lambda df: df.reset_index()\n",
                "        .sort_values(by=[\"ecFEV1 % Predicted\"], ascending=True)\n",
                "        .iloc[0]\n",
                "    )[\"index\"]\n",
                "    .values\n",
                ")\n",
                "indices_over_30_datapoints = df_res[df_res[\"count\"] > 30].index\n",
                "indices_max_avg_o2_below_94 = df_res[df_res[\"Avg O2 saturation\"] < 94].index\n",
                "mask = list(\n",
                "    set(indices_max_avg_o2_min_ecfev1)\n",
                "    .intersection(indices_max_avg_o2_below_94)\n",
                "    .intersection(indices_over_30_datapoints)\n",
                ")\n",
                "df_res.iloc[mask].sort_values(\n",
                "    by=[\"Avg O2 saturation\", \"ecFEV1 % Predicted\"], ascending=[True, True]\n",
                ").index"
            ]
        },
        {
            "cell_type": "markdown",
            "metadata": {},
            "source": [
                "# Plot examples of narrowed in posteriors"
            ]
        },
        {
            "cell_type": "code",
            "execution_count": 54,
            "metadata": {},
            "outputs": [
                {
                    "data": {
                        "text/plain": [
                            "Index([1650, 1651, 1652, 1653, 1654], dtype='int64')"
                        ]
                    },
                    "execution_count": 54,
                    "metadata": {},
                    "output_type": "execute_result"
                }
            ],
            "source": [
                "df_res_last_30[df_res_last_30[\"ID\"] == \"101\"][0:5].index"
            ]
        },
        {
            "cell_type": "code",
            "execution_count": 55,
            "metadata": {},
            "outputs": [
                {
                    "name": "stdout",
                    "output_type": "stream",
                    "text": [
                        "1650\n",
                        "101, 2023-10-13, i=1650, o2 avg=97.46%, ecFEV1%=47.09\n",
                        "1651\n",
                        "101, 2023-10-14, i=1651, o2 avg=97.46%, ecFEV1%=46.81\n",
                        "1652\n",
                        "101, 2023-10-15, i=1652, o2 avg=97.46%, ecFEV1%=44.87\n",
                        "1653\n",
                        "101, 2023-10-16, i=1653, o2 avg=97.46%, ecFEV1%=45.71\n",
                        "1654\n",
                        "101, 2023-10-17, i=1654, o2 avg=97.46%, ecFEV1%=47.09\n"
                    ]
                }
            ],
            "source": [
                "# i = 2955\n",
                "# fev1 and o2: see impact of very low o2\n",
                "# Impact of min o2 shouldn't get propagated back to hfev1 because it's more due to sudden infection rather than permanent lung damage\n",
                "# indices = [6311, 35304]\n",
                "# However, avg o2 is low (or max o2) is relevant. -  Avg o2 sat < 94, min ecfev1, > 30 datapoints\n",
                "# indices = [35294]\n",
                "# Unexpectedly small lungs. Below 30% of ecFE1%Predicted (life threatening), expects lower max o2, hence healthy oxygenation must be due to smaller lungs. Ex: o2 = 100, min and max ecfev1.\n",
                "# → use app\n",
                "# Exclude o2 from longitudinal model due to calibration issues\n",
                "\n",
                "# Shared hfev1/ar uncertainty: small healthy lungs or big lungs with disease\n",
                "# Unexpectedly big lungs with disease: high fev1 % pred delta (benefit of 2nd day)\n",
                "# indices = [18452, 33198, 2330, 2975, 18430]\n",
                "# Unexpectedly small lungs: low fev1 % pred but no permanent lung damage (high fef2575%fev1) → show without fef2575 then with\n",
                "\n",
                "# Super high fev1\n",
                "# indices = [37113]\n",
                "\n",
                "indices = [1650, 1651, 1652, 1653, 1654]\n",
                "\n",
                "for i in indices:\n",
                "    print(i)\n",
                "    id = df.loc[i, \"ID\"]\n",
                "    (\n",
                "        _,\n",
                "        inf_alg,\n",
                "        HFEV1,\n",
                "        uFEV1,\n",
                "        ecFEV1,\n",
                "        AR,\n",
                "        HO2Sat,\n",
                "        O2SatFFA,\n",
                "        IA,\n",
                "        UO2Sat,\n",
                "        O2Sat,\n",
                "        ecFEF2575prctecFEV1,\n",
                "    ) = mb.o2sat_fev1_fef2575_point_in_time_model_noise_shared_healthy_vars(\n",
                "        df_res.iloc[i].Height,\n",
                "        df_res.iloc[i].Age,\n",
                "        df_res.iloc[i].Sex,\n",
                "        ia_prior=\"uniform\",\n",
                "        ar_prior=\"uniform\",\n",
                "        ecfev1_noise_model_cpt_suffix=\"_std_add_mult_ecfev1\",\n",
                "        ar_fef2575_cpt_suffix=\"_ecfev1_2_days_model_add_mult_noise\",\n",
                "    )\n",
                "\n",
                "    fig = make_subplots(\n",
                "        rows=4,\n",
                "        cols=3,\n",
                "        shared_xaxes=True,\n",
                "    )\n",
                "    first_data_col = 2\n",
                "\n",
                "    def add_fev1_prct_pred_line(fig, val, y_max, row, col):\n",
                "        fig.add_shape(\n",
                "            type=\"line\",\n",
                "            # opacity=0.1,\n",
                "            x0=val,\n",
                "            y0=0,\n",
                "            x1=val,\n",
                "            y1=y_max * 1.1,\n",
                "            line=dict(color=\"black\", width=2, dash=\"dash\"),\n",
                "            # fillcolor=\"red\",\n",
                "            # line_width=0,\n",
                "            row=row,\n",
                "            col=col,\n",
                "        )\n",
                "        return -1\n",
                "\n",
                "    def add_hists(fig, hfev1_col, ar_col, i, row):\n",
                "        ih.plot_histogram(\n",
                "            fig,\n",
                "            HFEV1,\n",
                "            df_res.loc[i, hfev1_col],\n",
                "            HFEV1.a,\n",
                "            HFEV1.b,\n",
                "            row,\n",
                "            first_data_col,\n",
                "            f\" {hfev1_col}\",\n",
                "            \"#009e73\",\n",
                "        )\n",
                "        ih.plot_histogram(\n",
                "            fig,\n",
                "            AR,\n",
                "            df_res.loc[i, ar_col],\n",
                "            AR.a,\n",
                "            AR.b,\n",
                "            row,\n",
                "            first_data_col + 1,\n",
                "            f\" {ar_col}\",\n",
                "            \"#d55e00\",\n",
                "            clean_ticks=True,\n",
                "        )\n",
                "        add_fev1_prct_pred_line(\n",
                "            fig,\n",
                "            max(100 - df_res.loc[i, \"ecFEV1 % Predicted\"], 0),\n",
                "            max(df_res.loc[i, ar_col]),\n",
                "            row,\n",
                "            first_data_col + 1,\n",
                "        )\n",
                "\n",
                "    ih.plot_histogram(\n",
                "        fig,\n",
                "        HFEV1,\n",
                "        HFEV1.cpt,\n",
                "        HFEV1.a,\n",
                "        HFEV1.b,\n",
                "        1,\n",
                "        first_data_col,\n",
                "        HFEV1.name + \" prior\",\n",
                "        \"#009e73\",\n",
                "    )\n",
                "    ih.plot_histogram(\n",
                "        fig,\n",
                "        AR,\n",
                "        AR.cpt,\n",
                "        AR.a,\n",
                "        AR.b,\n",
                "        1,\n",
                "        first_data_col + 1,\n",
                "        AR.name + \" prior\",\n",
                "        \"#d55e00\",\n",
                "        clean_ticks=True,\n",
                "    )\n",
                "    add_fev1_prct_pred_line(\n",
                "        fig,\n",
                "        max(100 - df_res.loc[i, \"ecFEV1 % Predicted\"], 0),\n",
                "        max(AR.cpt),\n",
                "        1,\n",
                "        first_data_col + 1,\n",
                "    )\n",
                "\n",
                "    add_hists(fig, \"HFEV1_fev1\", \"AR_fev1\", i, 2)\n",
                "    add_hists(fig, \"HFEV1_fev1_o2\", \"AR_fev1_o2\", i, 3)\n",
                "    add_hists(fig, \"HFEV1_fev1_o2_2d\", \"AR_fev1_o2_2d\", i, 4)\n",
                "\n",
                "    # Add \"prior knowledge\" on col 1, row 1\n",
                "    fig.add_annotation(\n",
                "        x=0.2,\n",
                "        y=3.5 / 4,\n",
                "        text=\"Prior knowledge\",\n",
                "        xref=\"paper\",\n",
                "        yref=\"paper\",\n",
                "        xanchor=\"center\",\n",
                "        yanchor=\"middle\",\n",
                "        showarrow=False,\n",
                "    )\n",
                "    add_text_box(fig, text=\"Your text here<br>Second line<br>Third line\", row=2, col=1)\n",
                "\n",
                "    title = f\"{id}, {df_res.loc[i, 'Date Recorded']}, i={i}, o2 avg={df_res.loc[i, 'Avg O2 saturation']:.2f}%, ecFEV1%={df_res.loc[i, 'ecFEV1 % Predicted']:.2f}\"\n",
                "    print(title)\n",
                "\n",
                "    fig.update_layout(\n",
                "        showlegend=False,\n",
                "        height=500,\n",
                "        width=800,\n",
                "        font=dict(size=11),\n",
                "        bargap=0.01,\n",
                "        title=title,\n",
                "        # margin=dict(l=20, r=20, b=20, t=20),\n",
                "    )\n",
                "\n",
                "    # fig.show()\n",
                "    fig.write_image(f\"{dh.get_path_to_main()}PlotsBreathe/Narrowing_in/{title}.pdf\")"
            ]
        },
        {
            "cell_type": "code",
            "execution_count": 11,
            "metadata": {},
            "outputs": [],
            "source": [
                "def add_text_box(fig, text, row, col):\n",
                "    # Get the subplot's domain coordinates\n",
                "    x_domain = fig.get_subplot(row, col).xaxis.domain\n",
                "    y_domain = fig.get_subplot(row, col).yaxis.domain\n",
                "    # print(x_domain, y_domain)\n",
                "\n",
                "    # Add rectangle\n",
                "    fig.add_shape(\n",
                "        type=\"rect\",\n",
                "        x0=x_domain[0] - 1,\n",
                "        x1=x_domain[1] * 25,\n",
                "        y0=y_domain[0],\n",
                "        y1=y_domain[1],\n",
                "        line=dict(color=\"black\", width=0),\n",
                "        fillcolor=\"white\",\n",
                "        xref=\"paper\",\n",
                "        yref=\"paper\",\n",
                "        row=row,\n",
                "        col=col,\n",
                "    )\n",
                "\n",
                "    # Add text\n",
                "    fig.add_annotation(\n",
                "        x=(x_domain[0] + x_domain[1]) / 2,  # center x\n",
                "        y=(y_domain[0] + y_domain[1]) / 2,  # center y\n",
                "        text=text,\n",
                "        showarrow=False,\n",
                "        font=dict(size=12),\n",
                "        xref=\"paper\",\n",
                "        yref=\"paper\",\n",
                "        xanchor=\"center\",\n",
                "        yanchor=\"middle\",\n",
                "        row=row,\n",
                "        col=col,\n",
                "    )"
            ]
        },
        {
            "cell_type": "markdown",
            "metadata": {},
            "source": [
                "# Who can the model help?"
            ]
        },
        {
            "cell_type": "code",
            "execution_count": 22,
            "metadata": {},
            "outputs": [
                {
                    "data": {
                        "text/html": [
                            "<div>\n",
                            "<style scoped>\n",
                            "    .dataframe tbody tr th:only-of-type {\n",
                            "        vertical-align: middle;\n",
                            "    }\n",
                            "\n",
                            "    .dataframe tbody tr th {\n",
                            "        vertical-align: top;\n",
                            "    }\n",
                            "\n",
                            "    .dataframe thead th {\n",
                            "        text-align: right;\n",
                            "    }\n",
                            "</style>\n",
                            "<table border=\"1\" class=\"dataframe\">\n",
                            "  <thead>\n",
                            "    <tr style=\"text-align: right;\">\n",
                            "      <th></th>\n",
                            "      <th>ID</th>\n",
                            "      <th>Date Recorded</th>\n",
                            "      <th>HFEV1_fev1_o2_2d</th>\n",
                            "      <th>Healthy O2 saturation (%)</th>\n",
                            "      <th>AR_fev1_o2_2d</th>\n",
                            "      <th>ecFEV1 % Predicted</th>\n",
                            "      <th>O2 Saturation</th>\n",
                            "      <th>Height</th>\n",
                            "      <th>Age</th>\n",
                            "      <th>Sex</th>\n",
                            "    </tr>\n",
                            "  </thead>\n",
                            "  <tbody>\n",
                            "    <tr>\n",
                            "      <th>0</th>\n",
                            "      <td>100</td>\n",
                            "      <td>2015-12-14</td>\n",
                            "      <td>[0.0, 0.0, 0.0, 0.0, 0.0, 0.0, 0.0, 0.0, 0.0, ...</td>\n",
                            "      <td>[0.00000000e+00 0.00000000e+00 0.00000000e+00 ...</td>\n",
                            "      <td>[0.0029223039, 0.00832862816, 0.0164548791, 0....</td>\n",
                            "      <td>75.040726</td>\n",
                            "      <td>97</td>\n",
                            "      <td>173.0</td>\n",
                            "      <td>25</td>\n",
                            "      <td>Female</td>\n",
                            "    </tr>\n",
                            "    <tr>\n",
                            "      <th>1</th>\n",
                            "      <td>100</td>\n",
                            "      <td>2015-12-15</td>\n",
                            "      <td>[0.0, 0.0, 0.0, 0.0, 0.0, 0.0, 0.0, 0.0, 2.939...</td>\n",
                            "      <td>[0.00000000e+00 0.00000000e+00 0.00000000e+00 ...</td>\n",
                            "      <td>[2.51593431e-21, 5.37374699e-18, 4.04095963e-1...</td>\n",
                            "      <td>60.085990</td>\n",
                            "      <td>96</td>\n",
                            "      <td>173.0</td>\n",
                            "      <td>25</td>\n",
                            "      <td>Female</td>\n",
                            "    </tr>\n",
                            "    <tr>\n",
                            "      <th>2</th>\n",
                            "      <td>100</td>\n",
                            "      <td>2015-12-16</td>\n",
                            "      <td>[0.0, 0.0, 0.0, 0.0, 0.0, 0.0, 0.0, 0.0, 0.0, ...</td>\n",
                            "      <td>[0.00000000e+00 0.00000000e+00 0.00000000e+00 ...</td>\n",
                            "      <td>[2.04735552e-05, 0.000218750977, 0.00135599854...</td>\n",
                            "      <td>71.836140</td>\n",
                            "      <td>98</td>\n",
                            "      <td>173.0</td>\n",
                            "      <td>25</td>\n",
                            "      <td>Female</td>\n",
                            "    </tr>\n",
                            "    <tr>\n",
                            "      <th>3</th>\n",
                            "      <td>100</td>\n",
                            "      <td>2015-12-17</td>\n",
                            "      <td>[0.0, 0.0, 0.0, 0.0, 0.0, 0.0, 0.0, 0.0, 0.0, ...</td>\n",
                            "      <td>[0.00000000e+00 0.00000000e+00 0.00000000e+00 ...</td>\n",
                            "      <td>[1.94322067e-09, 1.19029494e-07, 3.57960446e-0...</td>\n",
                            "      <td>67.830407</td>\n",
                            "      <td>98</td>\n",
                            "      <td>173.0</td>\n",
                            "      <td>25</td>\n",
                            "      <td>Female</td>\n",
                            "    </tr>\n",
                            "    <tr>\n",
                            "      <th>4</th>\n",
                            "      <td>100</td>\n",
                            "      <td>2015-12-19</td>\n",
                            "      <td>[0.0, 0.0, 0.0, 0.0, 0.0, 0.0, 0.0, 0.0, 0.0, ...</td>\n",
                            "      <td>[0.00000000e+00 0.00000000e+00 0.00000000e+00 ...</td>\n",
                            "      <td>[2.00582271e-05, 0.000214313377, 0.00132849065...</td>\n",
                            "      <td>71.836140</td>\n",
                            "      <td>96</td>\n",
                            "      <td>173.0</td>\n",
                            "      <td>25</td>\n",
                            "      <td>Female</td>\n",
                            "    </tr>\n",
                            "  </tbody>\n",
                            "</table>\n",
                            "</div>"
                        ],
                        "text/plain": [
                            "    ID Date Recorded                                   HFEV1_fev1_o2_2d  \\\n",
                            "0  100    2015-12-14  [0.0, 0.0, 0.0, 0.0, 0.0, 0.0, 0.0, 0.0, 0.0, ...   \n",
                            "1  100    2015-12-15  [0.0, 0.0, 0.0, 0.0, 0.0, 0.0, 0.0, 0.0, 2.939...   \n",
                            "2  100    2015-12-16  [0.0, 0.0, 0.0, 0.0, 0.0, 0.0, 0.0, 0.0, 0.0, ...   \n",
                            "3  100    2015-12-17  [0.0, 0.0, 0.0, 0.0, 0.0, 0.0, 0.0, 0.0, 0.0, ...   \n",
                            "4  100    2015-12-19  [0.0, 0.0, 0.0, 0.0, 0.0, 0.0, 0.0, 0.0, 0.0, ...   \n",
                            "\n",
                            "                           Healthy O2 saturation (%)  \\\n",
                            "0  [0.00000000e+00 0.00000000e+00 0.00000000e+00 ...   \n",
                            "1  [0.00000000e+00 0.00000000e+00 0.00000000e+00 ...   \n",
                            "2  [0.00000000e+00 0.00000000e+00 0.00000000e+00 ...   \n",
                            "3  [0.00000000e+00 0.00000000e+00 0.00000000e+00 ...   \n",
                            "4  [0.00000000e+00 0.00000000e+00 0.00000000e+00 ...   \n",
                            "\n",
                            "                                       AR_fev1_o2_2d  ecFEV1 % Predicted  \\\n",
                            "0  [0.0029223039, 0.00832862816, 0.0164548791, 0....           75.040726   \n",
                            "1  [2.51593431e-21, 5.37374699e-18, 4.04095963e-1...           60.085990   \n",
                            "2  [2.04735552e-05, 0.000218750977, 0.00135599854...           71.836140   \n",
                            "3  [1.94322067e-09, 1.19029494e-07, 3.57960446e-0...           67.830407   \n",
                            "4  [2.00582271e-05, 0.000214313377, 0.00132849065...           71.836140   \n",
                            "\n",
                            "   O2 Saturation  Height  Age     Sex  \n",
                            "0             97   173.0   25  Female  \n",
                            "1             96   173.0   25  Female  \n",
                            "2             98   173.0   25  Female  \n",
                            "3             98   173.0   25  Female  \n",
                            "4             96   173.0   25  Female  "
                        ]
                    },
                    "execution_count": 22,
                    "metadata": {},
                    "output_type": "execute_result"
                }
            ],
            "source": [
                "df_sc.head()"
            ]
        },
        {
            "cell_type": "code",
            "execution_count": 28,
            "metadata": {},
            "outputs": [
                {
                    "ename": "KeyError",
                    "evalue": "'count'",
                    "output_type": "error",
                    "traceback": [
                        "\u001b[0;31m---------------------------------------------------------------------------\u001b[0m",
                        "\u001b[0;31mKeyError\u001b[0m                                  Traceback (most recent call last)",
                        "File \u001b[0;32m/Applications/anaconda3/envs/phd/lib/python3.10/site-packages/pandas/core/indexes/base.py:3791\u001b[0m, in \u001b[0;36mIndex.get_loc\u001b[0;34m(self, key)\u001b[0m\n\u001b[1;32m   3790\u001b[0m \u001b[38;5;28;01mtry\u001b[39;00m:\n\u001b[0;32m-> 3791\u001b[0m     \u001b[38;5;28;01mreturn\u001b[39;00m \u001b[38;5;28;43mself\u001b[39;49m\u001b[38;5;241;43m.\u001b[39;49m\u001b[43m_engine\u001b[49m\u001b[38;5;241;43m.\u001b[39;49m\u001b[43mget_loc\u001b[49m\u001b[43m(\u001b[49m\u001b[43mcasted_key\u001b[49m\u001b[43m)\u001b[49m\n\u001b[1;32m   3792\u001b[0m \u001b[38;5;28;01mexcept\u001b[39;00m \u001b[38;5;167;01mKeyError\u001b[39;00m \u001b[38;5;28;01mas\u001b[39;00m err:\n",
                        "File \u001b[0;32mindex.pyx:152\u001b[0m, in \u001b[0;36mpandas._libs.index.IndexEngine.get_loc\u001b[0;34m()\u001b[0m\n",
                        "File \u001b[0;32mindex.pyx:181\u001b[0m, in \u001b[0;36mpandas._libs.index.IndexEngine.get_loc\u001b[0;34m()\u001b[0m\n",
                        "File \u001b[0;32mpandas/_libs/hashtable_class_helper.pxi:7080\u001b[0m, in \u001b[0;36mpandas._libs.hashtable.PyObjectHashTable.get_item\u001b[0;34m()\u001b[0m\n",
                        "File \u001b[0;32mpandas/_libs/hashtable_class_helper.pxi:7088\u001b[0m, in \u001b[0;36mpandas._libs.hashtable.PyObjectHashTable.get_item\u001b[0;34m()\u001b[0m\n",
                        "\u001b[0;31mKeyError\u001b[0m: 'count'",
                        "\nThe above exception was the direct cause of the following exception:\n",
                        "\u001b[0;31mKeyError\u001b[0m                                  Traceback (most recent call last)",
                        "Cell \u001b[0;32mIn[28], line 6\u001b[0m\n\u001b[1;32m      2\u001b[0m min_datapoints \u001b[38;5;241m=\u001b[39m \u001b[38;5;241m10\u001b[39m\n\u001b[1;32m      3\u001b[0m \u001b[38;5;66;03m# min_datapoints = 100\u001b[39;00m\n\u001b[1;32m      4\u001b[0m \n\u001b[1;32m      5\u001b[0m \u001b[38;5;66;03m# df_res_enough_data = df_res[df_res[\"count\"] >= min_datapoints]\u001b[39;00m\n\u001b[0;32m----> 6\u001b[0m df_res_enough_data \u001b[38;5;241m=\u001b[39m df_sc[\u001b[43mdf_sc\u001b[49m\u001b[43m[\u001b[49m\u001b[38;5;124;43m\"\u001b[39;49m\u001b[38;5;124;43mcount\u001b[39;49m\u001b[38;5;124;43m\"\u001b[39;49m\u001b[43m]\u001b[49m \u001b[38;5;241m>\u001b[39m\u001b[38;5;241m=\u001b[39m min_datapoints]\n\u001b[1;32m      7\u001b[0m \u001b[38;5;28mprint\u001b[39m(df_res_enough_data\u001b[38;5;241m.\u001b[39mID\u001b[38;5;241m.\u001b[39mnunique())\n",
                        "File \u001b[0;32m/Applications/anaconda3/envs/phd/lib/python3.10/site-packages/pandas/core/frame.py:3893\u001b[0m, in \u001b[0;36mDataFrame.__getitem__\u001b[0;34m(self, key)\u001b[0m\n\u001b[1;32m   3891\u001b[0m \u001b[38;5;28;01mif\u001b[39;00m \u001b[38;5;28mself\u001b[39m\u001b[38;5;241m.\u001b[39mcolumns\u001b[38;5;241m.\u001b[39mnlevels \u001b[38;5;241m>\u001b[39m \u001b[38;5;241m1\u001b[39m:\n\u001b[1;32m   3892\u001b[0m     \u001b[38;5;28;01mreturn\u001b[39;00m \u001b[38;5;28mself\u001b[39m\u001b[38;5;241m.\u001b[39m_getitem_multilevel(key)\n\u001b[0;32m-> 3893\u001b[0m indexer \u001b[38;5;241m=\u001b[39m \u001b[38;5;28;43mself\u001b[39;49m\u001b[38;5;241;43m.\u001b[39;49m\u001b[43mcolumns\u001b[49m\u001b[38;5;241;43m.\u001b[39;49m\u001b[43mget_loc\u001b[49m\u001b[43m(\u001b[49m\u001b[43mkey\u001b[49m\u001b[43m)\u001b[49m\n\u001b[1;32m   3894\u001b[0m \u001b[38;5;28;01mif\u001b[39;00m is_integer(indexer):\n\u001b[1;32m   3895\u001b[0m     indexer \u001b[38;5;241m=\u001b[39m [indexer]\n",
                        "File \u001b[0;32m/Applications/anaconda3/envs/phd/lib/python3.10/site-packages/pandas/core/indexes/base.py:3798\u001b[0m, in \u001b[0;36mIndex.get_loc\u001b[0;34m(self, key)\u001b[0m\n\u001b[1;32m   3793\u001b[0m     \u001b[38;5;28;01mif\u001b[39;00m \u001b[38;5;28misinstance\u001b[39m(casted_key, \u001b[38;5;28mslice\u001b[39m) \u001b[38;5;129;01mor\u001b[39;00m (\n\u001b[1;32m   3794\u001b[0m         \u001b[38;5;28misinstance\u001b[39m(casted_key, abc\u001b[38;5;241m.\u001b[39mIterable)\n\u001b[1;32m   3795\u001b[0m         \u001b[38;5;129;01mand\u001b[39;00m \u001b[38;5;28many\u001b[39m(\u001b[38;5;28misinstance\u001b[39m(x, \u001b[38;5;28mslice\u001b[39m) \u001b[38;5;28;01mfor\u001b[39;00m x \u001b[38;5;129;01min\u001b[39;00m casted_key)\n\u001b[1;32m   3796\u001b[0m     ):\n\u001b[1;32m   3797\u001b[0m         \u001b[38;5;28;01mraise\u001b[39;00m InvalidIndexError(key)\n\u001b[0;32m-> 3798\u001b[0m     \u001b[38;5;28;01mraise\u001b[39;00m \u001b[38;5;167;01mKeyError\u001b[39;00m(key) \u001b[38;5;28;01mfrom\u001b[39;00m \u001b[38;5;21;01merr\u001b[39;00m\n\u001b[1;32m   3799\u001b[0m \u001b[38;5;28;01mexcept\u001b[39;00m \u001b[38;5;167;01mTypeError\u001b[39;00m:\n\u001b[1;32m   3800\u001b[0m     \u001b[38;5;66;03m# If we have a listlike key, _check_indexing_error will raise\u001b[39;00m\n\u001b[1;32m   3801\u001b[0m     \u001b[38;5;66;03m#  InvalidIndexError. Otherwise we fall through and re-raise\u001b[39;00m\n\u001b[1;32m   3802\u001b[0m     \u001b[38;5;66;03m#  the TypeError.\u001b[39;00m\n\u001b[1;32m   3803\u001b[0m     \u001b[38;5;28mself\u001b[39m\u001b[38;5;241m.\u001b[39m_check_indexing_error(key)\n",
                        "\u001b[0;31mKeyError\u001b[0m: 'count'"
                    ]
                }
            ],
            "source": [
                "# Filter out IDs with less than 30 datapoints\n",
                "min_datapoints = 10\n",
                "# min_datapoints = 100\n",
                "\n",
                "# df_res_enough_data = df_res[df_res[\"count\"] >= min_datapoints]\n",
                "df_res_enough_data = df_sc[df_sc[\"count\"] >= min_datapoints]\n",
                "print(df_res_enough_data.ID.nunique())"
            ]
        },
        {
            "cell_type": "code",
            "execution_count": 29,
            "metadata": {},
            "outputs": [],
            "source": [
                "# Get the last 30 days of data for each ID\n",
                "\n",
                "df_res_min_30_ecfev1 = df_res_enough_data.sort_values([\"ID\", \"ecFEV1 % Predicted\"])\n",
                "df_res_min_30_ecfev1 = df_res_min_30_ecfev1.groupby(\"ID\").head(30)\n",
                "\n",
                "df_res_last_30 = df_res_enough_data.sort_values([\"ID\", \"Date Recorded\"])\n",
                "df_res_last_30 = df_res_last_30.groupby(\"ID\").tail(30)\n",
                "\n",
                "df_res_first_30 = df_res_enough_data.sort_values([\"ID\", \"Date Recorded\"])\n",
                "df_res_first_30 = df_res_first_30.groupby(\"ID\").head(30)"
            ]
        },
        {
            "cell_type": "code",
            "execution_count": 30,
            "metadata": {},
            "outputs": [],
            "source": [
                "# Where AR is underestimated\n",
                "import models.helpers as mh\n",
                "\n",
                "AR = mh.VariableNode(\"Airway resistance (%)\", 0, 90, 2, prior={\"type\": \"uniform\"})\n",
                "\n",
                "\n",
                "def get_dumbell_plot_data(df_res, ar_row):\n",
                "\n",
                "    df_res[f\"{ar_row} mean\"] = df_res[ar_row].apply(lambda row: AR.get_mean(row))\n",
                "    df_res[f\"{ar_row} std\"] = df_res[ar_row].apply(lambda row: AR.get_std(row))\n",
                "    df_res[\"AR_ecFEV1%\"] = 100 - df_res[\"ecFEV1 % Predicted\"]\n",
                "    df_res[f\"{ar_row} - AR_ecFEV1%\"] = df_res[f\"{ar_row} mean\"] - df_res[\"AR_ecFEV1%\"]\n",
                "    # Add value low and high\n",
                "    df_res[f\"{ar_row} low\"] = df_res[f\"{ar_row} mean\"] - df_res[f\"{ar_row} std\"]\n",
                "    df_res[f\"{ar_row} high\"] = df_res[f\"{ar_row} mean\"] + df_res[f\"{ar_row} std\"]\n",
                "\n",
                "    # Create DataFrame with means in separate columns\n",
                "    df_means = (\n",
                "        df_res.groupby(\"ID\")\n",
                "        .agg(\n",
                "            {\n",
                "                f\"{ar_row} std\": \"mean\",\n",
                "                f\"{ar_row} mean\": \"mean\",\n",
                "                \"AR_ecFEV1%\": \"mean\",\n",
                "                f\"{ar_row} - AR_ecFEV1%\": \"mean\",\n",
                "                f\"{ar_row} low\": \"mean\",\n",
                "                f\"{ar_row} high\": \"mean\",\n",
                "            }\n",
                "        )\n",
                "        .rename(\n",
                "            columns={\n",
                "                f\"{ar_row} - AR_ecFEV1%\": f\"Mean {ar_row} - AR_ecFEV1%\",\n",
                "                f\"{ar_row} mean\": f\"Mean {ar_row} prediction\",\n",
                "                f\"{ar_row} std\": f\"Mean {ar_row} std\",\n",
                "                \"AR_ecFEV1%\": \"Mean AR_ecFEV1%\",\n",
                "                f\"{ar_row} low\": f\"Mean {ar_row} low\",\n",
                "                f\"{ar_row} high\": f\"Mean {ar_row} high\",\n",
                "            }\n",
                "        )\n",
                "    ).reset_index()\n",
                "\n",
                "    ids_sorted = df_means.sort_values(\n",
                "        by=f\"Mean {ar_row} - AR_ecFEV1%\", ascending=False\n",
                "    )[\"ID\"].values\n",
                "\n",
                "    # Rename Mean ar row low and high to ar row dist\n",
                "    df_means_2 = df_means.rename(\n",
                "        columns={\n",
                "            f\"Mean {ar_row} low\": f\"Mean {ar_row} dist\",\n",
                "            f\"Mean {ar_row} high\": f\"Mean {ar_row} dist\",\n",
                "        },\n",
                "    )\n",
                "\n",
                "    # Melt the dataframe to get four rows per ID for three measures\n",
                "    df_means_melted = pd.melt(\n",
                "        df_means_2,\n",
                "        id_vars=[\"ID\"],\n",
                "        value_vars=[\n",
                "            \"Mean AR_ecFEV1%\",\n",
                "            f\"Mean {ar_row} dist\",\n",
                "            f\"Mean {ar_row} prediction\",\n",
                "        ],\n",
                "        var_name=\"measure\",\n",
                "        value_name=\"value\",\n",
                "    )\n",
                "\n",
                "    return df_means_melted.set_index(\"ID\").loc[ids_sorted].reset_index(), ids_sorted\n",
                "\n",
                "\n",
                "# Dumbell plot"
            ]
        },
        {
            "cell_type": "code",
            "execution_count": 33,
            "metadata": {},
            "outputs": [],
            "source": [
                "df_for_dumbell = df_res_last_30\n",
                "# df_for_dumbell = df_res_first_30\n",
                "\n",
                "# df_ar_fev1_o2, ids_sorted = get_dumbell_plot_data(df_for_dumbell, \"AR_fev1_o2\")\n",
                "df_ar_fev1_o2_2d, ids_sorted_2d = get_dumbell_plot_data(df_for_dumbell, \"AR_fev1_o2_2d\")\n",
                "# df_ar_fev1_o2_fef2575_2d, ids_sorted_fef2575 = get_dumbell_plot_data(\n",
                "#     df_for_dumbell, \"AR_fev1_o2_fef2575_2d\"\n",
                "# )\n",
                "# df_ar_fev1_o2_2d = get_dumbell_plot_data('AR_fev1_o2_2d')"
            ]
        },
        {
            "cell_type": "code",
            "execution_count": 356,
            "metadata": {},
            "outputs": [],
            "source": [
                "df_ar_fev1_o2 = df_ar_fev1_o2.set_index(\"ID\").loc[ids_sorted_fef2575].reset_index()\n",
                "df_ar_fev1_o2_2d = (\n",
                "    df_ar_fev1_o2_2d.set_index(\"ID\").loc[ids_sorted_fef2575].reset_index()\n",
                ")\n",
                "df_ar_fev1_o2_fef2575_2d = (\n",
                "    df_ar_fev1_o2_fef2575_2d.set_index(\"ID\").loc[ids_sorted_fef2575].reset_index()\n",
                ")"
            ]
        },
        {
            "cell_type": "code",
            "execution_count": 49,
            "metadata": {},
            "outputs": [
                {
                    "name": "stdout",
                    "output_type": "stream",
                    "text": [
                        "Mild size: 120\n",
                        "Moderate size: 316\n",
                        "Severe size: 148\n",
                        "3.8521600453891893\n"
                    ]
                },
                {
                    "data": {
                        "application/vnd.plotly.v1+json": {
                            "config": {
                                "plotlyServerURL": "https://plot.ly"
                            },
                            "data": [
                                {
                                    "line": {
                                        "width": 2
                                    },
                                    "marker": {
                                        "color": "red",
                                        "size": 2
                                    },
                                    "mode": "lines",
                                    "name": "Airway resistance inferred",
                                    "showlegend": true,
                                    "type": "scatter",
                                    "x": [
                                        15.518643059911415,
                                        22.106280973288772
                                    ],
                                    "xaxis": "x",
                                    "y": [
                                        "128",
                                        "128"
                                    ],
                                    "yaxis": "y"
                                },
                                {
                                    "line": {
                                        "width": 2
                                    },
                                    "marker": {
                                        "color": "red",
                                        "size": 2
                                    },
                                    "mode": "lines",
                                    "name": "Airway resistance inferred",
                                    "showlegend": false,
                                    "type": "scatter",
                                    "x": [
                                        13.206962382380715,
                                        21.853661922154046
                                    ],
                                    "xaxis": "x",
                                    "y": [
                                        "53",
                                        "53"
                                    ],
                                    "yaxis": "y"
                                },
                                {
                                    "line": {
                                        "width": 2
                                    },
                                    "marker": {
                                        "color": "red",
                                        "size": 2
                                    },
                                    "mode": "lines",
                                    "name": "Airway resistance inferred",
                                    "showlegend": false,
                                    "type": "scatter",
                                    "x": [
                                        6.537952464474476,
                                        16.86474617214413
                                    ],
                                    "xaxis": "x",
                                    "y": [
                                        "136",
                                        "136"
                                    ],
                                    "yaxis": "y"
                                },
                                {
                                    "line": {
                                        "width": 2
                                    },
                                    "marker": {
                                        "color": "red",
                                        "size": 2
                                    },
                                    "mode": "lines",
                                    "name": "Airway resistance inferred",
                                    "showlegend": false,
                                    "type": "scatter",
                                    "x": [
                                        11.898443462563899,
                                        21.844926274918297
                                    ],
                                    "xaxis": "x",
                                    "y": [
                                        "169",
                                        "169"
                                    ],
                                    "yaxis": "y"
                                },
                                {
                                    "line": {
                                        "width": 2
                                    },
                                    "marker": {
                                        "color": "red",
                                        "size": 2
                                    },
                                    "mode": "lines",
                                    "name": "Airway resistance inferred",
                                    "showlegend": false,
                                    "type": "scatter",
                                    "x": [
                                        22.31659871272408,
                                        30.539549948170052
                                    ],
                                    "xaxis": "x",
                                    "y": [
                                        "132",
                                        "132"
                                    ],
                                    "yaxis": "y"
                                },
                                {
                                    "line": {
                                        "width": 2
                                    },
                                    "marker": {
                                        "color": "red",
                                        "size": 2
                                    },
                                    "mode": "lines",
                                    "name": "Airway resistance inferred",
                                    "showlegend": false,
                                    "type": "scatter",
                                    "x": [
                                        7.613982312978222,
                                        18.57834626129551
                                    ],
                                    "xaxis": "x",
                                    "y": [
                                        "182",
                                        "182"
                                    ],
                                    "yaxis": "y"
                                },
                                {
                                    "line": {
                                        "width": 2
                                    },
                                    "marker": {
                                        "color": "red",
                                        "size": 2
                                    },
                                    "mode": "lines",
                                    "name": "Airway resistance inferred",
                                    "showlegend": false,
                                    "type": "scatter",
                                    "x": [
                                        13.994921366437733,
                                        23.797717646807833
                                    ],
                                    "xaxis": "x",
                                    "y": [
                                        "46",
                                        "46"
                                    ],
                                    "yaxis": "y"
                                },
                                {
                                    "line": {
                                        "width": 2
                                    },
                                    "marker": {
                                        "color": "red",
                                        "size": 2
                                    },
                                    "mode": "lines",
                                    "name": "Airway resistance inferred",
                                    "showlegend": false,
                                    "type": "scatter",
                                    "x": [
                                        14.313419973702995,
                                        27.033340724974405
                                    ],
                                    "xaxis": "x",
                                    "y": [
                                        "130",
                                        "130"
                                    ],
                                    "yaxis": "y"
                                },
                                {
                                    "line": {
                                        "width": 2
                                    },
                                    "marker": {
                                        "color": "red",
                                        "size": 2
                                    },
                                    "mode": "lines",
                                    "name": "Airway resistance inferred",
                                    "showlegend": false,
                                    "type": "scatter",
                                    "x": [
                                        13.382989002741597,
                                        25.962632703877244
                                    ],
                                    "xaxis": "x",
                                    "y": [
                                        "171",
                                        "171"
                                    ],
                                    "yaxis": "y"
                                },
                                {
                                    "line": {
                                        "width": 2
                                    },
                                    "marker": {
                                        "color": "red",
                                        "size": 2
                                    },
                                    "mode": "lines",
                                    "name": "Airway resistance inferred",
                                    "showlegend": false,
                                    "type": "scatter",
                                    "x": [
                                        22.979017033781734,
                                        34.1442034834733
                                    ],
                                    "xaxis": "x",
                                    "y": [
                                        "78",
                                        "78"
                                    ],
                                    "yaxis": "y"
                                },
                                {
                                    "line": {
                                        "width": 2
                                    },
                                    "marker": {
                                        "color": "red",
                                        "size": 2
                                    },
                                    "mode": "lines",
                                    "name": "Airway resistance inferred",
                                    "showlegend": false,
                                    "type": "scatter",
                                    "x": [
                                        9.988092918854374,
                                        23.564315871510342
                                    ],
                                    "xaxis": "x",
                                    "y": [
                                        "187",
                                        "187"
                                    ],
                                    "yaxis": "y"
                                },
                                {
                                    "line": {
                                        "width": 2
                                    },
                                    "marker": {
                                        "color": "red",
                                        "size": 2
                                    },
                                    "mode": "lines",
                                    "name": "Airway resistance inferred",
                                    "showlegend": false,
                                    "type": "scatter",
                                    "x": [
                                        13.274201762746323,
                                        26.628678839082408
                                    ],
                                    "xaxis": "x",
                                    "y": [
                                        "99",
                                        "99"
                                    ],
                                    "yaxis": "y"
                                },
                                {
                                    "line": {
                                        "width": 2
                                    },
                                    "marker": {
                                        "color": "red",
                                        "size": 2
                                    },
                                    "mode": "lines",
                                    "name": "Airway resistance inferred",
                                    "showlegend": false,
                                    "type": "scatter",
                                    "x": [
                                        12.917583904493247,
                                        27.305561065262136
                                    ],
                                    "xaxis": "x",
                                    "y": [
                                        "179",
                                        "179"
                                    ],
                                    "yaxis": "y"
                                },
                                {
                                    "line": {
                                        "width": 2
                                    },
                                    "marker": {
                                        "color": "red",
                                        "size": 2
                                    },
                                    "mode": "lines",
                                    "name": "Airway resistance inferred",
                                    "showlegend": false,
                                    "type": "scatter",
                                    "x": [
                                        13.841493704691016,
                                        27.586753453426418
                                    ],
                                    "xaxis": "x",
                                    "y": [
                                        "124",
                                        "124"
                                    ],
                                    "yaxis": "y"
                                },
                                {
                                    "line": {
                                        "width": 2
                                    },
                                    "marker": {
                                        "color": "red",
                                        "size": 2
                                    },
                                    "mode": "lines",
                                    "name": "Airway resistance inferred",
                                    "showlegend": false,
                                    "type": "scatter",
                                    "x": [
                                        9.607551746226886,
                                        24.980624025169792
                                    ],
                                    "xaxis": "x",
                                    "y": [
                                        "173",
                                        "173"
                                    ],
                                    "yaxis": "y"
                                },
                                {
                                    "line": {
                                        "width": 2
                                    },
                                    "marker": {
                                        "color": "red",
                                        "size": 2
                                    },
                                    "mode": "lines",
                                    "name": "Airway resistance inferred",
                                    "showlegend": false,
                                    "type": "scatter",
                                    "x": [
                                        20.25908043381084,
                                        34.16713408009245
                                    ],
                                    "xaxis": "x",
                                    "y": [
                                        "135",
                                        "135"
                                    ],
                                    "yaxis": "y"
                                },
                                {
                                    "line": {
                                        "width": 2
                                    },
                                    "marker": {
                                        "color": "red",
                                        "size": 2
                                    },
                                    "mode": "lines",
                                    "name": "Airway resistance inferred",
                                    "showlegend": false,
                                    "type": "scatter",
                                    "x": [
                                        11.282539685761217,
                                        28.256445907415547
                                    ],
                                    "xaxis": "x",
                                    "y": [
                                        "199",
                                        "199"
                                    ],
                                    "yaxis": "y"
                                },
                                {
                                    "line": {
                                        "width": 2
                                    },
                                    "marker": {
                                        "color": "red",
                                        "size": 2
                                    },
                                    "mode": "lines",
                                    "name": "Airway resistance inferred",
                                    "showlegend": false,
                                    "type": "scatter",
                                    "x": [
                                        22.775548650944206,
                                        36.14005221020871
                                    ],
                                    "xaxis": "x",
                                    "y": [
                                        "24",
                                        "24"
                                    ],
                                    "yaxis": "y"
                                },
                                {
                                    "line": {
                                        "width": 2
                                    },
                                    "marker": {
                                        "color": "red",
                                        "size": 2
                                    },
                                    "mode": "lines",
                                    "name": "Airway resistance inferred",
                                    "showlegend": false,
                                    "type": "scatter",
                                    "x": [
                                        15.593939971065112,
                                        30.753027083823756
                                    ],
                                    "xaxis": "x",
                                    "y": [
                                        "208",
                                        "208"
                                    ],
                                    "yaxis": "y"
                                },
                                {
                                    "line": {
                                        "width": 2
                                    },
                                    "marker": {
                                        "color": "red",
                                        "size": 2
                                    },
                                    "mode": "lines",
                                    "name": "Airway resistance inferred",
                                    "showlegend": false,
                                    "type": "scatter",
                                    "x": [
                                        18.693640734931922,
                                        33.68527988711828
                                    ],
                                    "xaxis": "x",
                                    "y": [
                                        "142",
                                        "142"
                                    ],
                                    "yaxis": "y"
                                },
                                {
                                    "line": {
                                        "width": 2
                                    },
                                    "marker": {
                                        "color": "red",
                                        "size": 2
                                    },
                                    "mode": "lines",
                                    "name": "Airway resistance inferred",
                                    "showlegend": false,
                                    "type": "scatter",
                                    "x": [
                                        14.61350588223311,
                                        30.646642439465147
                                    ],
                                    "xaxis": "x",
                                    "y": [
                                        "60",
                                        "60"
                                    ],
                                    "yaxis": "y"
                                },
                                {
                                    "line": {
                                        "width": 2
                                    },
                                    "marker": {
                                        "color": "red",
                                        "size": 2
                                    },
                                    "mode": "lines",
                                    "name": "Airway resistance inferred",
                                    "showlegend": false,
                                    "type": "scatter",
                                    "x": [
                                        16.383601488328722,
                                        31.56412342001524
                                    ],
                                    "xaxis": "x",
                                    "y": [
                                        "177",
                                        "177"
                                    ],
                                    "yaxis": "y"
                                },
                                {
                                    "line": {
                                        "width": 2
                                    },
                                    "marker": {
                                        "color": "red",
                                        "size": 2
                                    },
                                    "mode": "lines",
                                    "name": "Airway resistance inferred",
                                    "showlegend": false,
                                    "type": "scatter",
                                    "x": [
                                        21.95107065169939,
                                        36.74121698294893
                                    ],
                                    "xaxis": "x",
                                    "y": [
                                        "69",
                                        "69"
                                    ],
                                    "yaxis": "y"
                                },
                                {
                                    "line": {
                                        "width": 2
                                    },
                                    "marker": {
                                        "color": "red",
                                        "size": 2
                                    },
                                    "mode": "lines",
                                    "name": "Airway resistance inferred",
                                    "showlegend": false,
                                    "type": "scatter",
                                    "x": [
                                        17.02264526435506,
                                        33.44010193316962
                                    ],
                                    "xaxis": "x",
                                    "y": [
                                        "88",
                                        "88"
                                    ],
                                    "yaxis": "y"
                                },
                                {
                                    "line": {
                                        "width": 2
                                    },
                                    "marker": {
                                        "color": "red",
                                        "size": 2
                                    },
                                    "mode": "lines",
                                    "name": "Airway resistance inferred",
                                    "showlegend": false,
                                    "type": "scatter",
                                    "x": [
                                        16.40363997195094,
                                        32.52338363834914
                                    ],
                                    "xaxis": "x",
                                    "y": [
                                        "170",
                                        "170"
                                    ],
                                    "yaxis": "y"
                                },
                                {
                                    "line": {
                                        "width": 2
                                    },
                                    "marker": {
                                        "color": "red",
                                        "size": 2
                                    },
                                    "mode": "lines",
                                    "name": "Airway resistance inferred",
                                    "showlegend": false,
                                    "type": "scatter",
                                    "x": [
                                        19.80512478966153,
                                        35.427934577985475
                                    ],
                                    "xaxis": "x",
                                    "y": [
                                        "197",
                                        "197"
                                    ],
                                    "yaxis": "y"
                                },
                                {
                                    "line": {
                                        "width": 2
                                    },
                                    "marker": {
                                        "color": "red",
                                        "size": 2
                                    },
                                    "mode": "lines",
                                    "name": "Airway resistance inferred",
                                    "showlegend": false,
                                    "type": "scatter",
                                    "x": [
                                        20.45943226973072,
                                        35.15858790912763
                                    ],
                                    "xaxis": "x",
                                    "y": [
                                        "80",
                                        "80"
                                    ],
                                    "yaxis": "y"
                                },
                                {
                                    "line": {
                                        "width": 2
                                    },
                                    "marker": {
                                        "color": "red",
                                        "size": 2
                                    },
                                    "mode": "lines",
                                    "name": "Airway resistance inferred",
                                    "showlegend": false,
                                    "type": "scatter",
                                    "x": [
                                        18.851992133555985,
                                        35.73523262185558
                                    ],
                                    "xaxis": "x",
                                    "y": [
                                        "228",
                                        "228"
                                    ],
                                    "yaxis": "y"
                                },
                                {
                                    "line": {
                                        "width": 2
                                    },
                                    "marker": {
                                        "color": "red",
                                        "size": 2
                                    },
                                    "mode": "lines",
                                    "name": "Airway resistance inferred",
                                    "showlegend": false,
                                    "type": "scatter",
                                    "x": [
                                        19.716633418373338,
                                        35.514062908682355
                                    ],
                                    "xaxis": "x",
                                    "y": [
                                        "209",
                                        "209"
                                    ],
                                    "yaxis": "y"
                                },
                                {
                                    "line": {
                                        "width": 2
                                    },
                                    "marker": {
                                        "color": "red",
                                        "size": 2
                                    },
                                    "mode": "lines",
                                    "name": "Airway resistance inferred",
                                    "showlegend": false,
                                    "type": "scatter",
                                    "x": [
                                        19.529815373102217,
                                        35.59926807737903
                                    ],
                                    "xaxis": "x",
                                    "y": [
                                        "153",
                                        "153"
                                    ],
                                    "yaxis": "y"
                                },
                                {
                                    "marker": {
                                        "color": "blue",
                                        "size": 3
                                    },
                                    "mode": "markers",
                                    "name": "1 - ecFEV1%Predicted",
                                    "type": "scatter",
                                    "x": [
                                        5.3454144951195435,
                                        7.564281920536073,
                                        3.8521600453891893,
                                        10.057276291396107,
                                        20.101256310167795,
                                        6.885013192574753,
                                        13.164995749762367,
                                        15.223139126166519,
                                        17.74677153819765,
                                        26.954739077440422,
                                        15.180669611364229,
                                        18.641580347744075,
                                        19.701857901655153,
                                        20.715048391121297,
                                        17.509750241320887,
                                        28.082666111711525,
                                        20.725919512301388,
                                        30.57434145233985,
                                        24.848900878615712,
                                        28.048822444210032,
                                        24.5839010224748,
                                        26.085635002402253,
                                        31.554732794612498,
                                        27.61946169548989,
                                        27.111014906204797,
                                        30.306880079823664,
                                        30.499468209206395,
                                        30.69189044212648,
                                        31.245951711811763,
                                        31.209495933982797
                                    ],
                                    "xaxis": "x",
                                    "y": [
                                        "128",
                                        "53",
                                        "136",
                                        "169",
                                        "132",
                                        "182",
                                        "46",
                                        "130",
                                        "171",
                                        "78",
                                        "187",
                                        "99",
                                        "179",
                                        "124",
                                        "173",
                                        "135",
                                        "199",
                                        "24",
                                        "208",
                                        "142",
                                        "60",
                                        "177",
                                        "69",
                                        "88",
                                        "170",
                                        "197",
                                        "80",
                                        "228",
                                        "209",
                                        "153"
                                    ],
                                    "yaxis": "y"
                                },
                                {
                                    "line": {
                                        "width": 2
                                    },
                                    "marker": {
                                        "color": "red",
                                        "size": 2
                                    },
                                    "mode": "lines",
                                    "name": "Airway resistance inferred",
                                    "showlegend": true,
                                    "type": "scatter",
                                    "x": [
                                        37.582025109728924,
                                        43.238069269952994
                                    ],
                                    "xaxis": "x2",
                                    "y": [
                                        "82",
                                        "82"
                                    ],
                                    "yaxis": "y2"
                                },
                                {
                                    "line": {
                                        "width": 2
                                    },
                                    "marker": {
                                        "color": "red",
                                        "size": 2
                                    },
                                    "mode": "lines",
                                    "name": "Airway resistance inferred",
                                    "showlegend": false,
                                    "type": "scatter",
                                    "x": [
                                        26.341439087548892,
                                        38.362390714736435
                                    ],
                                    "xaxis": "x2",
                                    "y": [
                                        "114",
                                        "114"
                                    ],
                                    "yaxis": "y2"
                                },
                                {
                                    "line": {
                                        "width": 2
                                    },
                                    "marker": {
                                        "color": "red",
                                        "size": 2
                                    },
                                    "mode": "lines",
                                    "name": "Airway resistance inferred",
                                    "showlegend": false,
                                    "type": "scatter",
                                    "x": [
                                        43.69169201368359,
                                        56.93256705858789
                                    ],
                                    "xaxis": "x2",
                                    "y": [
                                        "64",
                                        "64"
                                    ],
                                    "yaxis": "y2"
                                },
                                {
                                    "line": {
                                        "width": 2
                                    },
                                    "marker": {
                                        "color": "red",
                                        "size": 2
                                    },
                                    "mode": "lines",
                                    "name": "Airway resistance inferred",
                                    "showlegend": false,
                                    "type": "scatter",
                                    "x": [
                                        52.530287202371134,
                                        64.08974508230772
                                    ],
                                    "xaxis": "x2",
                                    "y": [
                                        "129",
                                        "129"
                                    ],
                                    "yaxis": "y2"
                                },
                                {
                                    "line": {
                                        "width": 2
                                    },
                                    "marker": {
                                        "color": "red",
                                        "size": 2
                                    },
                                    "mode": "lines",
                                    "name": "Airway resistance inferred",
                                    "showlegend": false,
                                    "type": "scatter",
                                    "x": [
                                        48.77416563456206,
                                        61.15660535086388
                                    ],
                                    "xaxis": "x2",
                                    "y": [
                                        "76",
                                        "76"
                                    ],
                                    "yaxis": "y2"
                                },
                                {
                                    "line": {
                                        "width": 2
                                    },
                                    "marker": {
                                        "color": "red",
                                        "size": 2
                                    },
                                    "mode": "lines",
                                    "name": "Airway resistance inferred",
                                    "showlegend": false,
                                    "type": "scatter",
                                    "x": [
                                        49.51917954928213,
                                        61.666075912475755
                                    ],
                                    "xaxis": "x2",
                                    "y": [
                                        "241",
                                        "241"
                                    ],
                                    "yaxis": "y2"
                                },
                                {
                                    "line": {
                                        "width": 2
                                    },
                                    "marker": {
                                        "color": "red",
                                        "size": 2
                                    },
                                    "mode": "lines",
                                    "name": "Airway resistance inferred",
                                    "showlegend": false,
                                    "type": "scatter",
                                    "x": [
                                        43.091310690451664,
                                        56.186655929875265
                                    ],
                                    "xaxis": "x2",
                                    "y": [
                                        "107",
                                        "107"
                                    ],
                                    "yaxis": "y2"
                                },
                                {
                                    "line": {
                                        "width": 2
                                    },
                                    "marker": {
                                        "color": "red",
                                        "size": 2
                                    },
                                    "mode": "lines",
                                    "name": "Airway resistance inferred",
                                    "showlegend": false,
                                    "type": "scatter",
                                    "x": [
                                        38.12134785064223,
                                        52.67975599329409
                                    ],
                                    "xaxis": "x2",
                                    "y": [
                                        "206",
                                        "206"
                                    ],
                                    "yaxis": "y2"
                                },
                                {
                                    "line": {
                                        "width": 2
                                    },
                                    "marker": {
                                        "color": "red",
                                        "size": 2
                                    },
                                    "mode": "lines",
                                    "name": "Airway resistance inferred",
                                    "showlegend": false,
                                    "type": "scatter",
                                    "x": [
                                        29.791533047768922,
                                        46.06451100059545
                                    ],
                                    "xaxis": "x2",
                                    "y": [
                                        "93",
                                        "93"
                                    ],
                                    "yaxis": "y2"
                                },
                                {
                                    "line": {
                                        "width": 2
                                    },
                                    "marker": {
                                        "color": "red",
                                        "size": 2
                                    },
                                    "mode": "lines",
                                    "name": "Airway resistance inferred",
                                    "showlegend": false,
                                    "type": "scatter",
                                    "x": [
                                        44.32434603552543,
                                        57.675096402274086
                                    ],
                                    "xaxis": "x2",
                                    "y": [
                                        "52",
                                        "52"
                                    ],
                                    "yaxis": "y2"
                                },
                                {
                                    "line": {
                                        "width": 2
                                    },
                                    "marker": {
                                        "color": "red",
                                        "size": 2
                                    },
                                    "mode": "lines",
                                    "name": "Airway resistance inferred",
                                    "showlegend": false,
                                    "type": "scatter",
                                    "x": [
                                        50.01653474665627,
                                        62.32236155902111
                                    ],
                                    "xaxis": "x2",
                                    "y": [
                                        "191",
                                        "191"
                                    ],
                                    "yaxis": "y2"
                                },
                                {
                                    "line": {
                                        "width": 2
                                    },
                                    "marker": {
                                        "color": "red",
                                        "size": 2
                                    },
                                    "mode": "lines",
                                    "name": "Airway resistance inferred",
                                    "showlegend": false,
                                    "type": "scatter",
                                    "x": [
                                        23.910008516660923,
                                        38.4520504783383
                                    ],
                                    "xaxis": "x2",
                                    "y": [
                                        "100",
                                        "100"
                                    ],
                                    "yaxis": "y2"
                                },
                                {
                                    "line": {
                                        "width": 2
                                    },
                                    "marker": {
                                        "color": "red",
                                        "size": 2
                                    },
                                    "mode": "lines",
                                    "name": "Airway resistance inferred",
                                    "showlegend": false,
                                    "type": "scatter",
                                    "x": [
                                        50.353401239034156,
                                        62.37097476131573
                                    ],
                                    "xaxis": "x2",
                                    "y": [
                                        "205",
                                        "205"
                                    ],
                                    "yaxis": "y2"
                                },
                                {
                                    "line": {
                                        "width": 2
                                    },
                                    "marker": {
                                        "color": "red",
                                        "size": 2
                                    },
                                    "mode": "lines",
                                    "name": "Airway resistance inferred",
                                    "showlegend": false,
                                    "type": "scatter",
                                    "x": [
                                        45.76616457136356,
                                        58.76653803132901
                                    ],
                                    "xaxis": "x2",
                                    "y": [
                                        "192",
                                        "192"
                                    ],
                                    "yaxis": "y2"
                                },
                                {
                                    "line": {
                                        "width": 2
                                    },
                                    "marker": {
                                        "color": "red",
                                        "size": 2
                                    },
                                    "mode": "lines",
                                    "name": "Airway resistance inferred",
                                    "showlegend": false,
                                    "type": "scatter",
                                    "x": [
                                        47.76202399371529,
                                        60.27147308642604
                                    ],
                                    "xaxis": "x2",
                                    "y": [
                                        "75",
                                        "75"
                                    ],
                                    "yaxis": "y2"
                                },
                                {
                                    "line": {
                                        "width": 2
                                    },
                                    "marker": {
                                        "color": "red",
                                        "size": 2
                                    },
                                    "mode": "lines",
                                    "name": "Airway resistance inferred",
                                    "showlegend": false,
                                    "type": "scatter",
                                    "x": [
                                        53.896914848561636,
                                        65.15123747270218
                                    ],
                                    "xaxis": "x2",
                                    "y": [
                                        "195",
                                        "195"
                                    ],
                                    "yaxis": "y2"
                                },
                                {
                                    "line": {
                                        "width": 2
                                    },
                                    "marker": {
                                        "color": "red",
                                        "size": 2
                                    },
                                    "mode": "lines",
                                    "name": "Airway resistance inferred",
                                    "showlegend": false,
                                    "type": "scatter",
                                    "x": [
                                        47.264577153301836,
                                        60.08426911439016
                                    ],
                                    "xaxis": "x2",
                                    "y": [
                                        "181",
                                        "181"
                                    ],
                                    "yaxis": "y2"
                                },
                                {
                                    "line": {
                                        "width": 2
                                    },
                                    "marker": {
                                        "color": "red",
                                        "size": 2
                                    },
                                    "mode": "lines",
                                    "name": "Airway resistance inferred",
                                    "showlegend": false,
                                    "type": "scatter",
                                    "x": [
                                        51.64926303702201,
                                        63.21226861755667
                                    ],
                                    "xaxis": "x2",
                                    "y": [
                                        "196",
                                        "196"
                                    ],
                                    "yaxis": "y2"
                                },
                                {
                                    "line": {
                                        "width": 2
                                    },
                                    "marker": {
                                        "color": "red",
                                        "size": 2
                                    },
                                    "mode": "lines",
                                    "name": "Airway resistance inferred",
                                    "showlegend": false,
                                    "type": "scatter",
                                    "x": [
                                        24.915505090887105,
                                        40.07988295418559
                                    ],
                                    "xaxis": "x2",
                                    "y": [
                                        "40",
                                        "40"
                                    ],
                                    "yaxis": "y2"
                                },
                                {
                                    "line": {
                                        "width": 2
                                    },
                                    "marker": {
                                        "color": "red",
                                        "size": 2
                                    },
                                    "mode": "lines",
                                    "name": "Airway resistance inferred",
                                    "showlegend": false,
                                    "type": "scatter",
                                    "x": [
                                        46.884067101732185,
                                        59.80142105121952
                                    ],
                                    "xaxis": "x2",
                                    "y": [
                                        "189",
                                        "189"
                                    ],
                                    "yaxis": "y2"
                                },
                                {
                                    "line": {
                                        "width": 2
                                    },
                                    "marker": {
                                        "color": "red",
                                        "size": 2
                                    },
                                    "mode": "lines",
                                    "name": "Airway resistance inferred",
                                    "showlegend": false,
                                    "type": "scatter",
                                    "x": [
                                        45.85591360716513,
                                        59.880325728454594
                                    ],
                                    "xaxis": "x2",
                                    "y": [
                                        "198",
                                        "198"
                                    ],
                                    "yaxis": "y2"
                                },
                                {
                                    "line": {
                                        "width": 2
                                    },
                                    "marker": {
                                        "color": "red",
                                        "size": 2
                                    },
                                    "mode": "lines",
                                    "name": "Airway resistance inferred",
                                    "showlegend": false,
                                    "type": "scatter",
                                    "x": [
                                        51.00133565424592,
                                        63.289547273964715
                                    ],
                                    "xaxis": "x2",
                                    "y": [
                                        "92",
                                        "92"
                                    ],
                                    "yaxis": "y2"
                                },
                                {
                                    "line": {
                                        "width": 2
                                    },
                                    "marker": {
                                        "color": "red",
                                        "size": 2
                                    },
                                    "mode": "lines",
                                    "name": "Airway resistance inferred",
                                    "showlegend": false,
                                    "type": "scatter",
                                    "x": [
                                        40.30359941376885,
                                        54.43709126438957
                                    ],
                                    "xaxis": "x2",
                                    "y": [
                                        "57",
                                        "57"
                                    ],
                                    "yaxis": "y2"
                                },
                                {
                                    "line": {
                                        "width": 2
                                    },
                                    "marker": {
                                        "color": "red",
                                        "size": 2
                                    },
                                    "mode": "lines",
                                    "name": "Airway resistance inferred",
                                    "showlegend": false,
                                    "type": "scatter",
                                    "x": [
                                        30.37460927256546,
                                        46.14436244757675
                                    ],
                                    "xaxis": "x2",
                                    "y": [
                                        "56",
                                        "56"
                                    ],
                                    "yaxis": "y2"
                                },
                                {
                                    "line": {
                                        "width": 2
                                    },
                                    "marker": {
                                        "color": "red",
                                        "size": 2
                                    },
                                    "mode": "lines",
                                    "name": "Airway resistance inferred",
                                    "showlegend": false,
                                    "type": "scatter",
                                    "x": [
                                        47.903072602664444,
                                        60.705626973857434
                                    ],
                                    "xaxis": "x2",
                                    "y": [
                                        "113",
                                        "113"
                                    ],
                                    "yaxis": "y2"
                                },
                                {
                                    "line": {
                                        "width": 2
                                    },
                                    "marker": {
                                        "color": "red",
                                        "size": 2
                                    },
                                    "mode": "lines",
                                    "name": "Airway resistance inferred",
                                    "showlegend": false,
                                    "type": "scatter",
                                    "x": [
                                        52.10054883917617,
                                        63.992927954300946
                                    ],
                                    "xaxis": "x2",
                                    "y": [
                                        "176",
                                        "176"
                                    ],
                                    "yaxis": "y2"
                                },
                                {
                                    "line": {
                                        "width": 2
                                    },
                                    "marker": {
                                        "color": "red",
                                        "size": 2
                                    },
                                    "mode": "lines",
                                    "name": "Airway resistance inferred",
                                    "showlegend": false,
                                    "type": "scatter",
                                    "x": [
                                        27.24055512140586,
                                        43.31794530794837
                                    ],
                                    "xaxis": "x2",
                                    "y": [
                                        "180",
                                        "180"
                                    ],
                                    "yaxis": "y2"
                                },
                                {
                                    "line": {
                                        "width": 2
                                    },
                                    "marker": {
                                        "color": "red",
                                        "size": 2
                                    },
                                    "mode": "lines",
                                    "name": "Airway resistance inferred",
                                    "showlegend": false,
                                    "type": "scatter",
                                    "x": [
                                        33.33844352252547,
                                        48.06274203123433
                                    ],
                                    "xaxis": "x2",
                                    "y": [
                                        "34",
                                        "34"
                                    ],
                                    "yaxis": "y2"
                                },
                                {
                                    "line": {
                                        "width": 2
                                    },
                                    "marker": {
                                        "color": "red",
                                        "size": 2
                                    },
                                    "mode": "lines",
                                    "name": "Airway resistance inferred",
                                    "showlegend": false,
                                    "type": "scatter",
                                    "x": [
                                        38.65521542900892,
                                        52.349315256514
                                    ],
                                    "xaxis": "x2",
                                    "y": [
                                        "134",
                                        "134"
                                    ],
                                    "yaxis": "y2"
                                },
                                {
                                    "line": {
                                        "width": 2
                                    },
                                    "marker": {
                                        "color": "red",
                                        "size": 2
                                    },
                                    "mode": "lines",
                                    "name": "Airway resistance inferred",
                                    "showlegend": false,
                                    "type": "scatter",
                                    "x": [
                                        37.183163940682995,
                                        52.51868364596439
                                    ],
                                    "xaxis": "x2",
                                    "y": [
                                        "23",
                                        "23"
                                    ],
                                    "yaxis": "y2"
                                },
                                {
                                    "line": {
                                        "width": 2
                                    },
                                    "marker": {
                                        "color": "red",
                                        "size": 2
                                    },
                                    "mode": "lines",
                                    "name": "Airway resistance inferred",
                                    "showlegend": false,
                                    "type": "scatter",
                                    "x": [
                                        21.944002393634044,
                                        38.535445253690874
                                    ],
                                    "xaxis": "x2",
                                    "y": [
                                        "200",
                                        "200"
                                    ],
                                    "yaxis": "y2"
                                },
                                {
                                    "line": {
                                        "width": 2
                                    },
                                    "marker": {
                                        "color": "red",
                                        "size": 2
                                    },
                                    "mode": "lines",
                                    "name": "Airway resistance inferred",
                                    "showlegend": false,
                                    "type": "scatter",
                                    "x": [
                                        33.40110334413012,
                                        47.77043776625483
                                    ],
                                    "xaxis": "x2",
                                    "y": [
                                        "227",
                                        "227"
                                    ],
                                    "yaxis": "y2"
                                },
                                {
                                    "line": {
                                        "width": 2
                                    },
                                    "marker": {
                                        "color": "red",
                                        "size": 2
                                    },
                                    "mode": "lines",
                                    "name": "Airway resistance inferred",
                                    "showlegend": false,
                                    "type": "scatter",
                                    "x": [
                                        53.27486517295267,
                                        64.74278036966987
                                    ],
                                    "xaxis": "x2",
                                    "y": [
                                        "58",
                                        "58"
                                    ],
                                    "yaxis": "y2"
                                },
                                {
                                    "line": {
                                        "width": 2
                                    },
                                    "marker": {
                                        "color": "red",
                                        "size": 2
                                    },
                                    "mode": "lines",
                                    "name": "Airway resistance inferred",
                                    "showlegend": false,
                                    "type": "scatter",
                                    "x": [
                                        22.328887441409393,
                                        38.19073613992179
                                    ],
                                    "xaxis": "x2",
                                    "y": [
                                        "234",
                                        "234"
                                    ],
                                    "yaxis": "y2"
                                },
                                {
                                    "line": {
                                        "width": 2
                                    },
                                    "marker": {
                                        "color": "red",
                                        "size": 2
                                    },
                                    "mode": "lines",
                                    "name": "Airway resistance inferred",
                                    "showlegend": false,
                                    "type": "scatter",
                                    "x": [
                                        53.6666620977899,
                                        65.51273968378956
                                    ],
                                    "xaxis": "x2",
                                    "y": [
                                        "133",
                                        "133"
                                    ],
                                    "yaxis": "y2"
                                },
                                {
                                    "line": {
                                        "width": 2
                                    },
                                    "marker": {
                                        "color": "red",
                                        "size": 2
                                    },
                                    "mode": "lines",
                                    "name": "Airway resistance inferred",
                                    "showlegend": false,
                                    "type": "scatter",
                                    "x": [
                                        27.204400412215726,
                                        42.22679004907274
                                    ],
                                    "xaxis": "x2",
                                    "y": [
                                        "188",
                                        "188"
                                    ],
                                    "yaxis": "y2"
                                },
                                {
                                    "line": {
                                        "width": 2
                                    },
                                    "marker": {
                                        "color": "red",
                                        "size": 2
                                    },
                                    "mode": "lines",
                                    "name": "Airway resistance inferred",
                                    "showlegend": false,
                                    "type": "scatter",
                                    "x": [
                                        45.71201978953964,
                                        58.05977336138814
                                    ],
                                    "xaxis": "x2",
                                    "y": [
                                        "126",
                                        "126"
                                    ],
                                    "yaxis": "y2"
                                },
                                {
                                    "line": {
                                        "width": 2
                                    },
                                    "marker": {
                                        "color": "red",
                                        "size": 2
                                    },
                                    "mode": "lines",
                                    "name": "Airway resistance inferred",
                                    "showlegend": false,
                                    "type": "scatter",
                                    "x": [
                                        30.512924216930653,
                                        46.028855336116976
                                    ],
                                    "xaxis": "x2",
                                    "y": [
                                        "102",
                                        "102"
                                    ],
                                    "yaxis": "y2"
                                },
                                {
                                    "line": {
                                        "width": 2
                                    },
                                    "marker": {
                                        "color": "red",
                                        "size": 2
                                    },
                                    "mode": "lines",
                                    "name": "Airway resistance inferred",
                                    "showlegend": false,
                                    "type": "scatter",
                                    "x": [
                                        32.172059214894745,
                                        48.23493371354878
                                    ],
                                    "xaxis": "x2",
                                    "y": [
                                        "123",
                                        "123"
                                    ],
                                    "yaxis": "y2"
                                },
                                {
                                    "line": {
                                        "width": 2
                                    },
                                    "marker": {
                                        "color": "red",
                                        "size": 2
                                    },
                                    "mode": "lines",
                                    "name": "Airway resistance inferred",
                                    "showlegend": false,
                                    "type": "scatter",
                                    "x": [
                                        35.84229571573896,
                                        49.79277027145586
                                    ],
                                    "xaxis": "x2",
                                    "y": [
                                        "139",
                                        "139"
                                    ],
                                    "yaxis": "y2"
                                },
                                {
                                    "line": {
                                        "width": 2
                                    },
                                    "marker": {
                                        "color": "red",
                                        "size": 2
                                    },
                                    "mode": "lines",
                                    "name": "Airway resistance inferred",
                                    "showlegend": false,
                                    "type": "scatter",
                                    "x": [
                                        41.86252644114616,
                                        56.57175878553178
                                    ],
                                    "xaxis": "x2",
                                    "y": [
                                        "67",
                                        "67"
                                    ],
                                    "yaxis": "y2"
                                },
                                {
                                    "line": {
                                        "width": 2
                                    },
                                    "marker": {
                                        "color": "red",
                                        "size": 2
                                    },
                                    "mode": "lines",
                                    "name": "Airway resistance inferred",
                                    "showlegend": false,
                                    "type": "scatter",
                                    "x": [
                                        30.2055143281419,
                                        45.145147160595904
                                    ],
                                    "xaxis": "x2",
                                    "y": [
                                        "36",
                                        "36"
                                    ],
                                    "yaxis": "y2"
                                },
                                {
                                    "line": {
                                        "width": 2
                                    },
                                    "marker": {
                                        "color": "red",
                                        "size": 2
                                    },
                                    "mode": "lines",
                                    "name": "Airway resistance inferred",
                                    "showlegend": false,
                                    "type": "scatter",
                                    "x": [
                                        40.28743135980806,
                                        54.98301365237218
                                    ],
                                    "xaxis": "x2",
                                    "y": [
                                        "140",
                                        "140"
                                    ],
                                    "yaxis": "y2"
                                },
                                {
                                    "line": {
                                        "width": 2
                                    },
                                    "marker": {
                                        "color": "red",
                                        "size": 2
                                    },
                                    "mode": "lines",
                                    "name": "Airway resistance inferred",
                                    "showlegend": false,
                                    "type": "scatter",
                                    "x": [
                                        33.00117528388037,
                                        47.76862996532961
                                    ],
                                    "xaxis": "x2",
                                    "y": [
                                        "186",
                                        "186"
                                    ],
                                    "yaxis": "y2"
                                },
                                {
                                    "line": {
                                        "width": 2
                                    },
                                    "marker": {
                                        "color": "red",
                                        "size": 2
                                    },
                                    "mode": "lines",
                                    "name": "Airway resistance inferred",
                                    "showlegend": false,
                                    "type": "scatter",
                                    "x": [
                                        49.592740079386964,
                                        62.322267804984904
                                    ],
                                    "xaxis": "x2",
                                    "y": [
                                        "137",
                                        "137"
                                    ],
                                    "yaxis": "y2"
                                },
                                {
                                    "line": {
                                        "width": 2
                                    },
                                    "marker": {
                                        "color": "red",
                                        "size": 2
                                    },
                                    "mode": "lines",
                                    "name": "Airway resistance inferred",
                                    "showlegend": false,
                                    "type": "scatter",
                                    "x": [
                                        48.08795404739874,
                                        61.16736952580166
                                    ],
                                    "xaxis": "x2",
                                    "y": [
                                        "79",
                                        "79"
                                    ],
                                    "yaxis": "y2"
                                },
                                {
                                    "line": {
                                        "width": 2
                                    },
                                    "marker": {
                                        "color": "red",
                                        "size": 2
                                    },
                                    "mode": "lines",
                                    "name": "Airway resistance inferred",
                                    "showlegend": false,
                                    "type": "scatter",
                                    "x": [
                                        25.516499701687692,
                                        41.34713095135407
                                    ],
                                    "xaxis": "x2",
                                    "y": [
                                        "207",
                                        "207"
                                    ],
                                    "yaxis": "y2"
                                },
                                {
                                    "line": {
                                        "width": 2
                                    },
                                    "marker": {
                                        "color": "red",
                                        "size": 2
                                    },
                                    "mode": "lines",
                                    "name": "Airway resistance inferred",
                                    "showlegend": false,
                                    "type": "scatter",
                                    "x": [
                                        28.244552495201834,
                                        44.31541036502884
                                    ],
                                    "xaxis": "x2",
                                    "y": [
                                        "55",
                                        "55"
                                    ],
                                    "yaxis": "y2"
                                },
                                {
                                    "line": {
                                        "width": 2
                                    },
                                    "marker": {
                                        "color": "red",
                                        "size": 2
                                    },
                                    "mode": "lines",
                                    "name": "Airway resistance inferred",
                                    "showlegend": false,
                                    "type": "scatter",
                                    "x": [
                                        41.47776207773403,
                                        55.46737882504321
                                    ],
                                    "xaxis": "x2",
                                    "y": [
                                        "115",
                                        "115"
                                    ],
                                    "yaxis": "y2"
                                },
                                {
                                    "line": {
                                        "width": 2
                                    },
                                    "marker": {
                                        "color": "red",
                                        "size": 2
                                    },
                                    "mode": "lines",
                                    "name": "Airway resistance inferred",
                                    "showlegend": false,
                                    "type": "scatter",
                                    "x": [
                                        48.07723780311048,
                                        61.641857991777485
                                    ],
                                    "xaxis": "x2",
                                    "y": [
                                        "213",
                                        "213"
                                    ],
                                    "yaxis": "y2"
                                },
                                {
                                    "line": {
                                        "width": 2
                                    },
                                    "marker": {
                                        "color": "red",
                                        "size": 2
                                    },
                                    "mode": "lines",
                                    "name": "Airway resistance inferred",
                                    "showlegend": false,
                                    "type": "scatter",
                                    "x": [
                                        35.96301414264217,
                                        50.91106215721449
                                    ],
                                    "xaxis": "x2",
                                    "y": [
                                        "231",
                                        "231"
                                    ],
                                    "yaxis": "y2"
                                },
                                {
                                    "line": {
                                        "width": 2
                                    },
                                    "marker": {
                                        "color": "red",
                                        "size": 2
                                    },
                                    "mode": "lines",
                                    "name": "Airway resistance inferred",
                                    "showlegend": false,
                                    "type": "scatter",
                                    "x": [
                                        40.83330984094419,
                                        55.76562717188242
                                    ],
                                    "xaxis": "x2",
                                    "y": [
                                        "215",
                                        "215"
                                    ],
                                    "yaxis": "y2"
                                },
                                {
                                    "line": {
                                        "width": 2
                                    },
                                    "marker": {
                                        "color": "red",
                                        "size": 2
                                    },
                                    "mode": "lines",
                                    "name": "Airway resistance inferred",
                                    "showlegend": false,
                                    "type": "scatter",
                                    "x": [
                                        36.57648384822039,
                                        51.891963030701206
                                    ],
                                    "xaxis": "x2",
                                    "y": [
                                        "212",
                                        "212"
                                    ],
                                    "yaxis": "y2"
                                },
                                {
                                    "line": {
                                        "width": 2
                                    },
                                    "marker": {
                                        "color": "red",
                                        "size": 2
                                    },
                                    "mode": "lines",
                                    "name": "Airway resistance inferred",
                                    "showlegend": false,
                                    "type": "scatter",
                                    "x": [
                                        45.2195592402434,
                                        59.20559338416787
                                    ],
                                    "xaxis": "x2",
                                    "y": [
                                        "232",
                                        "232"
                                    ],
                                    "yaxis": "y2"
                                },
                                {
                                    "line": {
                                        "width": 2
                                    },
                                    "marker": {
                                        "color": "red",
                                        "size": 2
                                    },
                                    "mode": "lines",
                                    "name": "Airway resistance inferred",
                                    "showlegend": false,
                                    "type": "scatter",
                                    "x": [
                                        44.80847952839892,
                                        58.281338599280204
                                    ],
                                    "xaxis": "x2",
                                    "y": [
                                        "203",
                                        "203"
                                    ],
                                    "yaxis": "y2"
                                },
                                {
                                    "line": {
                                        "width": 2
                                    },
                                    "marker": {
                                        "color": "red",
                                        "size": 2
                                    },
                                    "mode": "lines",
                                    "name": "Airway resistance inferred",
                                    "showlegend": false,
                                    "type": "scatter",
                                    "x": [
                                        25.880955214469594,
                                        41.576783508371186
                                    ],
                                    "xaxis": "x2",
                                    "y": [
                                        "210",
                                        "210"
                                    ],
                                    "yaxis": "y2"
                                },
                                {
                                    "line": {
                                        "width": 2
                                    },
                                    "marker": {
                                        "color": "red",
                                        "size": 2
                                    },
                                    "mode": "lines",
                                    "name": "Airway resistance inferred",
                                    "showlegend": false,
                                    "type": "scatter",
                                    "x": [
                                        47.24249935189565,
                                        60.3843728911589
                                    ],
                                    "xaxis": "x2",
                                    "y": [
                                        "43",
                                        "43"
                                    ],
                                    "yaxis": "y2"
                                },
                                {
                                    "line": {
                                        "width": 2
                                    },
                                    "marker": {
                                        "color": "red",
                                        "size": 2
                                    },
                                    "mode": "lines",
                                    "name": "Airway resistance inferred",
                                    "showlegend": false,
                                    "type": "scatter",
                                    "x": [
                                        42.11490925444919,
                                        56.231715952347166
                                    ],
                                    "xaxis": "x2",
                                    "y": [
                                        "42",
                                        "42"
                                    ],
                                    "yaxis": "y2"
                                },
                                {
                                    "line": {
                                        "width": 2
                                    },
                                    "marker": {
                                        "color": "red",
                                        "size": 2
                                    },
                                    "mode": "lines",
                                    "name": "Airway resistance inferred",
                                    "showlegend": false,
                                    "type": "scatter",
                                    "x": [
                                        30.51924810199255,
                                        45.213866370630825
                                    ],
                                    "xaxis": "x2",
                                    "y": [
                                        "143",
                                        "143"
                                    ],
                                    "yaxis": "y2"
                                },
                                {
                                    "line": {
                                        "width": 2
                                    },
                                    "marker": {
                                        "color": "red",
                                        "size": 2
                                    },
                                    "mode": "lines",
                                    "name": "Airway resistance inferred",
                                    "showlegend": false,
                                    "type": "scatter",
                                    "x": [
                                        38.093498591973166,
                                        53.32935501230699
                                    ],
                                    "xaxis": "x2",
                                    "y": [
                                        "68",
                                        "68"
                                    ],
                                    "yaxis": "y2"
                                },
                                {
                                    "line": {
                                        "width": 2
                                    },
                                    "marker": {
                                        "color": "red",
                                        "size": 2
                                    },
                                    "mode": "lines",
                                    "name": "Airway resistance inferred",
                                    "showlegend": false,
                                    "type": "scatter",
                                    "x": [
                                        39.41801535149903,
                                        54.155473069527346
                                    ],
                                    "xaxis": "x2",
                                    "y": [
                                        "101",
                                        "101"
                                    ],
                                    "yaxis": "y2"
                                },
                                {
                                    "line": {
                                        "width": 2
                                    },
                                    "marker": {
                                        "color": "red",
                                        "size": 2
                                    },
                                    "mode": "lines",
                                    "name": "Airway resistance inferred",
                                    "showlegend": false,
                                    "type": "scatter",
                                    "x": [
                                        25.921391227085838,
                                        42.48106242498333
                                    ],
                                    "xaxis": "x2",
                                    "y": [
                                        "125",
                                        "125"
                                    ],
                                    "yaxis": "y2"
                                },
                                {
                                    "line": {
                                        "width": 2
                                    },
                                    "marker": {
                                        "color": "red",
                                        "size": 2
                                    },
                                    "mode": "lines",
                                    "name": "Airway resistance inferred",
                                    "showlegend": false,
                                    "type": "scatter",
                                    "x": [
                                        31.24576585837315,
                                        46.56930366568959
                                    ],
                                    "xaxis": "x2",
                                    "y": [
                                        "62",
                                        "62"
                                    ],
                                    "yaxis": "y2"
                                },
                                {
                                    "line": {
                                        "width": 2
                                    },
                                    "marker": {
                                        "color": "red",
                                        "size": 2
                                    },
                                    "mode": "lines",
                                    "name": "Airway resistance inferred",
                                    "showlegend": false,
                                    "type": "scatter",
                                    "x": [
                                        38.88517259946416,
                                        57.61968123433034
                                    ],
                                    "xaxis": "x2",
                                    "y": [
                                        "70",
                                        "70"
                                    ],
                                    "yaxis": "y2"
                                },
                                {
                                    "line": {
                                        "width": 2
                                    },
                                    "marker": {
                                        "color": "red",
                                        "size": 2
                                    },
                                    "mode": "lines",
                                    "name": "Airway resistance inferred",
                                    "showlegend": false,
                                    "type": "scatter",
                                    "x": [
                                        49.51477513576828,
                                        63.14509075185164
                                    ],
                                    "xaxis": "x2",
                                    "y": [
                                        "236",
                                        "236"
                                    ],
                                    "yaxis": "y2"
                                },
                                {
                                    "line": {
                                        "width": 2
                                    },
                                    "marker": {
                                        "color": "red",
                                        "size": 2
                                    },
                                    "mode": "lines",
                                    "name": "Airway resistance inferred",
                                    "showlegend": false,
                                    "type": "scatter",
                                    "x": [
                                        35.201552606645514,
                                        50.55214612214233
                                    ],
                                    "xaxis": "x2",
                                    "y": [
                                        "127",
                                        "127"
                                    ],
                                    "yaxis": "y2"
                                },
                                {
                                    "line": {
                                        "width": 2
                                    },
                                    "marker": {
                                        "color": "red",
                                        "size": 2
                                    },
                                    "mode": "lines",
                                    "name": "Airway resistance inferred",
                                    "showlegend": false,
                                    "type": "scatter",
                                    "x": [
                                        25.64924764167349,
                                        41.16508326184261
                                    ],
                                    "xaxis": "x2",
                                    "y": [
                                        "175",
                                        "175"
                                    ],
                                    "yaxis": "y2"
                                },
                                {
                                    "line": {
                                        "width": 2
                                    },
                                    "marker": {
                                        "color": "red",
                                        "size": 2
                                    },
                                    "mode": "lines",
                                    "name": "Airway resistance inferred",
                                    "showlegend": false,
                                    "type": "scatter",
                                    "x": [
                                        24.465638905785557,
                                        40.5715630744699
                                    ],
                                    "xaxis": "x2",
                                    "y": [
                                        "73",
                                        "73"
                                    ],
                                    "yaxis": "y2"
                                },
                                {
                                    "line": {
                                        "width": 2
                                    },
                                    "marker": {
                                        "color": "red",
                                        "size": 2
                                    },
                                    "mode": "lines",
                                    "name": "Airway resistance inferred",
                                    "showlegend": false,
                                    "type": "scatter",
                                    "x": [
                                        43.33045930903038,
                                        57.81157915447833
                                    ],
                                    "xaxis": "x2",
                                    "y": [
                                        "33",
                                        "33"
                                    ],
                                    "yaxis": "y2"
                                },
                                {
                                    "line": {
                                        "width": 2
                                    },
                                    "marker": {
                                        "color": "red",
                                        "size": 2
                                    },
                                    "mode": "lines",
                                    "name": "Airway resistance inferred",
                                    "showlegend": false,
                                    "type": "scatter",
                                    "x": [
                                        44.896175987835136,
                                        58.0111437220846
                                    ],
                                    "xaxis": "x2",
                                    "y": [
                                        "31",
                                        "31"
                                    ],
                                    "yaxis": "y2"
                                },
                                {
                                    "line": {
                                        "width": 2
                                    },
                                    "marker": {
                                        "color": "red",
                                        "size": 2
                                    },
                                    "mode": "lines",
                                    "name": "Airway resistance inferred",
                                    "showlegend": false,
                                    "type": "scatter",
                                    "x": [
                                        40.436033224682056,
                                        56.119339547049165
                                    ],
                                    "xaxis": "x2",
                                    "y": [
                                        "44",
                                        "44"
                                    ],
                                    "yaxis": "y2"
                                },
                                {
                                    "line": {
                                        "width": 2
                                    },
                                    "marker": {
                                        "color": "red",
                                        "size": 2
                                    },
                                    "mode": "lines",
                                    "name": "Airway resistance inferred",
                                    "showlegend": false,
                                    "type": "scatter",
                                    "x": [
                                        43.97256359408204,
                                        59.95243729440608
                                    ],
                                    "xaxis": "x2",
                                    "y": [
                                        "54",
                                        "54"
                                    ],
                                    "yaxis": "y2"
                                },
                                {
                                    "line": {
                                        "width": 2
                                    },
                                    "marker": {
                                        "color": "red",
                                        "size": 2
                                    },
                                    "mode": "lines",
                                    "name": "Airway resistance inferred",
                                    "showlegend": false,
                                    "type": "scatter",
                                    "x": [
                                        43.597884523349585,
                                        58.34956467246549
                                    ],
                                    "xaxis": "x2",
                                    "y": [
                                        "61",
                                        "61"
                                    ],
                                    "yaxis": "y2"
                                },
                                {
                                    "line": {
                                        "width": 2
                                    },
                                    "marker": {
                                        "color": "red",
                                        "size": 2
                                    },
                                    "mode": "lines",
                                    "name": "Airway resistance inferred",
                                    "showlegend": false,
                                    "type": "scatter",
                                    "x": [
                                        26.111624476747192,
                                        42.61001112978826
                                    ],
                                    "xaxis": "x2",
                                    "y": [
                                        "223",
                                        "223"
                                    ],
                                    "yaxis": "y2"
                                },
                                {
                                    "line": {
                                        "width": 2
                                    },
                                    "marker": {
                                        "color": "red",
                                        "size": 2
                                    },
                                    "mode": "lines",
                                    "name": "Airway resistance inferred",
                                    "showlegend": false,
                                    "type": "scatter",
                                    "x": [
                                        32.85574302613823,
                                        48.06614382050502
                                    ],
                                    "xaxis": "x2",
                                    "y": [
                                        "230",
                                        "230"
                                    ],
                                    "yaxis": "y2"
                                },
                                {
                                    "line": {
                                        "width": 2
                                    },
                                    "marker": {
                                        "color": "red",
                                        "size": 2
                                    },
                                    "mode": "lines",
                                    "name": "Airway resistance inferred",
                                    "showlegend": false,
                                    "type": "scatter",
                                    "x": [
                                        42.716006393538116,
                                        60.11872108304775
                                    ],
                                    "xaxis": "x2",
                                    "y": [
                                        "193",
                                        "193"
                                    ],
                                    "yaxis": "y2"
                                },
                                {
                                    "line": {
                                        "width": 2
                                    },
                                    "marker": {
                                        "color": "red",
                                        "size": 2
                                    },
                                    "mode": "lines",
                                    "name": "Airway resistance inferred",
                                    "showlegend": false,
                                    "type": "scatter",
                                    "x": [
                                        41.535147153181676,
                                        57.056131878334654
                                    ],
                                    "xaxis": "x2",
                                    "y": [
                                        "35",
                                        "35"
                                    ],
                                    "yaxis": "y2"
                                },
                                {
                                    "line": {
                                        "width": 2
                                    },
                                    "marker": {
                                        "color": "red",
                                        "size": 2
                                    },
                                    "mode": "lines",
                                    "name": "Airway resistance inferred",
                                    "showlegend": false,
                                    "type": "scatter",
                                    "x": [
                                        45.10890877296902,
                                        61.32410767924864
                                    ],
                                    "xaxis": "x2",
                                    "y": [
                                        "81",
                                        "81"
                                    ],
                                    "yaxis": "y2"
                                },
                                {
                                    "line": {
                                        "width": 2
                                    },
                                    "marker": {
                                        "color": "red",
                                        "size": 2
                                    },
                                    "mode": "lines",
                                    "name": "Airway resistance inferred",
                                    "showlegend": false,
                                    "type": "scatter",
                                    "x": [
                                        50.84442517999925,
                                        65.07205685672352
                                    ],
                                    "xaxis": "x2",
                                    "y": [
                                        "121",
                                        "121"
                                    ],
                                    "yaxis": "y2"
                                },
                                {
                                    "marker": {
                                        "color": "blue",
                                        "size": 3
                                    },
                                    "mode": "markers",
                                    "name": "1 - ecFEV1%Predicted",
                                    "type": "scatter",
                                    "x": [
                                        31.526993556817338,
                                        33.07036811932108,
                                        51.67776761765994,
                                        60.34007724507133,
                                        57.04805145218477,
                                        57.835576350297394,
                                        51.937890560867864,
                                        47.72332934532083,
                                        40.27722260066497,
                                        53.39127898136873,
                                        58.604133049618596,
                                        33.65944454105054,
                                        58.878391750907035,
                                        54.82983258505315,
                                        56.611289471455635,
                                        62.12706376511441,
                                        56.29295528788983,
                                        60.08382816717492,
                                        35.25960047986005,
                                        56.10679498990976,
                                        55.663421190504266,
                                        59.94696112719667,
                                        50.17496938476318,
                                        41.18128656277307,
                                        57.24387931065963,
                                        61.02890937476055,
                                        38.278560877630326,
                                        43.80106308787634,
                                        48.66430754479475,
                                        48.07470756743123,
                                        33.472209502311074,
                                        43.821244437131874,
                                        62.26299087748762,
                                        33.548047824833546,
                                        62.88143307008411,
                                        38.03302706093633,
                                        55.221105893409685,
                                        41.669956135198625,
                                        43.678129495713314,
                                        46.3072018886569,
                                        52.71080657049308,
                                        41.169830265352545,
                                        51.20690586664686,
                                        43.959565296557685,
                                        59.556248910696,
                                        58.27213243636988,
                                        37.09423227204587,
                                        39.94241277369,
                                        52.16396207037976,
                                        58.597272783330496,
                                        47.30029924868809,
                                        52.18301566261005,
                                        48.175544922582965,
                                        56.167033494925114,
                                        55.61786446868902,
                                        37.91479586252714,
                                        58.035409006125846,
                                        53.42960493075141,
                                        42.15659058413324,
                                        50.060145622830696,
                                        51.23854830724098,
                                        38.776574159880575,
                                        43.625613111785825,
                                        53.06086964509267,
                                        61.14604096883408,
                                        47.69830722395492,
                                        38.6293522036941,
                                        37.76348749839041,
                                        55.853280767557244,
                                        56.742026871508905,
                                        53.736148263181526,
                                        58.620198255137666,
                                        57.781153551298345,
                                        41.220423410727754,
                                        47.46747625360269,
                                        58.648138173355164,
                                        56.59981002483768,
                                        60.52109548495578,
                                        65.3559794033164
                                    ],
                                    "xaxis": "x2",
                                    "y": [
                                        "82",
                                        "114",
                                        "64",
                                        "129",
                                        "76",
                                        "241",
                                        "107",
                                        "206",
                                        "93",
                                        "52",
                                        "191",
                                        "100",
                                        "205",
                                        "192",
                                        "75",
                                        "195",
                                        "181",
                                        "196",
                                        "40",
                                        "189",
                                        "198",
                                        "92",
                                        "57",
                                        "56",
                                        "113",
                                        "176",
                                        "180",
                                        "34",
                                        "134",
                                        "23",
                                        "200",
                                        "227",
                                        "58",
                                        "234",
                                        "133",
                                        "188",
                                        "126",
                                        "102",
                                        "123",
                                        "139",
                                        "67",
                                        "36",
                                        "140",
                                        "186",
                                        "137",
                                        "79",
                                        "207",
                                        "55",
                                        "115",
                                        "213",
                                        "231",
                                        "215",
                                        "212",
                                        "232",
                                        "203",
                                        "210",
                                        "43",
                                        "42",
                                        "143",
                                        "68",
                                        "101",
                                        "125",
                                        "62",
                                        "70",
                                        "236",
                                        "127",
                                        "175",
                                        "73",
                                        "33",
                                        "31",
                                        "44",
                                        "54",
                                        "61",
                                        "223",
                                        "230",
                                        "193",
                                        "35",
                                        "81",
                                        "121"
                                    ],
                                    "yaxis": "y2"
                                },
                                {
                                    "line": {
                                        "width": 2
                                    },
                                    "marker": {
                                        "color": "red",
                                        "size": 2
                                    },
                                    "mode": "lines",
                                    "name": "Airway resistance inferred",
                                    "showlegend": true,
                                    "type": "scatter",
                                    "x": [
                                        55.41407203466949,
                                        67.42646920497988
                                    ],
                                    "xaxis": "x3",
                                    "y": [
                                        "65",
                                        "65"
                                    ],
                                    "yaxis": "y3"
                                },
                                {
                                    "line": {
                                        "width": 2
                                    },
                                    "marker": {
                                        "color": "red",
                                        "size": 2
                                    },
                                    "mode": "lines",
                                    "name": "Airway resistance inferred",
                                    "showlegend": false,
                                    "type": "scatter",
                                    "x": [
                                        67.01557663786414,
                                        75.2654077290166
                                    ],
                                    "xaxis": "x3",
                                    "y": [
                                        "201",
                                        "201"
                                    ],
                                    "yaxis": "y3"
                                },
                                {
                                    "line": {
                                        "width": 2
                                    },
                                    "marker": {
                                        "color": "red",
                                        "size": 2
                                    },
                                    "mode": "lines",
                                    "name": "Airway resistance inferred",
                                    "showlegend": false,
                                    "type": "scatter",
                                    "x": [
                                        77.22311325350898,
                                        82.92319218975643
                                    ],
                                    "xaxis": "x3",
                                    "y": [
                                        "59",
                                        "59"
                                    ],
                                    "yaxis": "y3"
                                },
                                {
                                    "line": {
                                        "width": 2
                                    },
                                    "marker": {
                                        "color": "red",
                                        "size": 2
                                    },
                                    "mode": "lines",
                                    "name": "Airway resistance inferred",
                                    "showlegend": false,
                                    "type": "scatter",
                                    "x": [
                                        62.85903113891915,
                                        71.02550844641432
                                    ],
                                    "xaxis": "x3",
                                    "y": [
                                        "235",
                                        "235"
                                    ],
                                    "yaxis": "y3"
                                },
                                {
                                    "line": {
                                        "width": 2
                                    },
                                    "marker": {
                                        "color": "red",
                                        "size": 2
                                    },
                                    "mode": "lines",
                                    "name": "Airway resistance inferred",
                                    "showlegend": false,
                                    "type": "scatter",
                                    "x": [
                                        69.9541650905244,
                                        77.51818657662227
                                    ],
                                    "xaxis": "x3",
                                    "y": [
                                        "174",
                                        "174"
                                    ],
                                    "yaxis": "y3"
                                },
                                {
                                    "line": {
                                        "width": 2
                                    },
                                    "marker": {
                                        "color": "red",
                                        "size": 2
                                    },
                                    "mode": "lines",
                                    "name": "Airway resistance inferred",
                                    "showlegend": false,
                                    "type": "scatter",
                                    "x": [
                                        65.28992110792805,
                                        73.95728047171059
                                    ],
                                    "xaxis": "x3",
                                    "y": [
                                        "141",
                                        "141"
                                    ],
                                    "yaxis": "y3"
                                },
                                {
                                    "line": {
                                        "width": 2
                                    },
                                    "marker": {
                                        "color": "red",
                                        "size": 2
                                    },
                                    "mode": "lines",
                                    "name": "Airway resistance inferred",
                                    "showlegend": false,
                                    "type": "scatter",
                                    "x": [
                                        66.43103387161757,
                                        74.8944992653768
                                    ],
                                    "xaxis": "x3",
                                    "y": [
                                        "41",
                                        "41"
                                    ],
                                    "yaxis": "y3"
                                },
                                {
                                    "line": {
                                        "width": 2
                                    },
                                    "marker": {
                                        "color": "red",
                                        "size": 2
                                    },
                                    "mode": "lines",
                                    "name": "Airway resistance inferred",
                                    "showlegend": false,
                                    "type": "scatter",
                                    "x": [
                                        62.05979944222335,
                                        71.29821921675592
                                    ],
                                    "xaxis": "x3",
                                    "y": [
                                        "45",
                                        "45"
                                    ],
                                    "yaxis": "y3"
                                },
                                {
                                    "line": {
                                        "width": 2
                                    },
                                    "marker": {
                                        "color": "red",
                                        "size": 2
                                    },
                                    "mode": "lines",
                                    "name": "Airway resistance inferred",
                                    "showlegend": false,
                                    "type": "scatter",
                                    "x": [
                                        68.43074572736198,
                                        76.88308119961357
                                    ],
                                    "xaxis": "x3",
                                    "y": [
                                        "216",
                                        "216"
                                    ],
                                    "yaxis": "y3"
                                },
                                {
                                    "line": {
                                        "width": 2
                                    },
                                    "marker": {
                                        "color": "red",
                                        "size": 2
                                    },
                                    "mode": "lines",
                                    "name": "Airway resistance inferred",
                                    "showlegend": false,
                                    "type": "scatter",
                                    "x": [
                                        60.800437075221566,
                                        70.01543582884686
                                    ],
                                    "xaxis": "x3",
                                    "y": [
                                        "27",
                                        "27"
                                    ],
                                    "yaxis": "y3"
                                },
                                {
                                    "line": {
                                        "width": 2
                                    },
                                    "marker": {
                                        "color": "red",
                                        "size": 2
                                    },
                                    "mode": "lines",
                                    "name": "Airway resistance inferred",
                                    "showlegend": false,
                                    "type": "scatter",
                                    "x": [
                                        65.14666116933195,
                                        74.01107947469966
                                    ],
                                    "xaxis": "x3",
                                    "y": [
                                        "38",
                                        "38"
                                    ],
                                    "yaxis": "y3"
                                },
                                {
                                    "line": {
                                        "width": 2
                                    },
                                    "marker": {
                                        "color": "red",
                                        "size": 2
                                    },
                                    "mode": "lines",
                                    "name": "Airway resistance inferred",
                                    "showlegend": false,
                                    "type": "scatter",
                                    "x": [
                                        57.06045534052203,
                                        67.40393055370278
                                    ],
                                    "xaxis": "x3",
                                    "y": [
                                        "72",
                                        "72"
                                    ],
                                    "yaxis": "y3"
                                },
                                {
                                    "line": {
                                        "width": 2
                                    },
                                    "marker": {
                                        "color": "red",
                                        "size": 2
                                    },
                                    "mode": "lines",
                                    "name": "Airway resistance inferred",
                                    "showlegend": false,
                                    "type": "scatter",
                                    "x": [
                                        61.14174683869364,
                                        71.49301451890538
                                    ],
                                    "xaxis": "x3",
                                    "y": [
                                        "229",
                                        "229"
                                    ],
                                    "yaxis": "y3"
                                },
                                {
                                    "line": {
                                        "width": 2
                                    },
                                    "marker": {
                                        "color": "red",
                                        "size": 2
                                    },
                                    "mode": "lines",
                                    "name": "Airway resistance inferred",
                                    "showlegend": false,
                                    "type": "scatter",
                                    "x": [
                                        65.68096079990146,
                                        74.61970403282224
                                    ],
                                    "xaxis": "x3",
                                    "y": [
                                        "39",
                                        "39"
                                    ],
                                    "yaxis": "y3"
                                },
                                {
                                    "line": {
                                        "width": 2
                                    },
                                    "marker": {
                                        "color": "red",
                                        "size": 2
                                    },
                                    "mode": "lines",
                                    "name": "Airway resistance inferred",
                                    "showlegend": false,
                                    "type": "scatter",
                                    "x": [
                                        58.000467568425364,
                                        68.32935778113773
                                    ],
                                    "xaxis": "x3",
                                    "y": [
                                        "30",
                                        "30"
                                    ],
                                    "yaxis": "y3"
                                },
                                {
                                    "line": {
                                        "width": 2
                                    },
                                    "marker": {
                                        "color": "red",
                                        "size": 2
                                    },
                                    "mode": "lines",
                                    "name": "Airway resistance inferred",
                                    "showlegend": false,
                                    "type": "scatter",
                                    "x": [
                                        56.95196627379275,
                                        67.45451610457692
                                    ],
                                    "xaxis": "x3",
                                    "y": [
                                        "214",
                                        "214"
                                    ],
                                    "yaxis": "y3"
                                },
                                {
                                    "line": {
                                        "width": 2
                                    },
                                    "marker": {
                                        "color": "red",
                                        "size": 2
                                    },
                                    "mode": "lines",
                                    "name": "Airway resistance inferred",
                                    "showlegend": false,
                                    "type": "scatter",
                                    "x": [
                                        60.37954498536492,
                                        70.43246781850189
                                    ],
                                    "xaxis": "x3",
                                    "y": [
                                        "66",
                                        "66"
                                    ],
                                    "yaxis": "y3"
                                },
                                {
                                    "line": {
                                        "width": 2
                                    },
                                    "marker": {
                                        "color": "red",
                                        "size": 2
                                    },
                                    "mode": "lines",
                                    "name": "Airway resistance inferred",
                                    "showlegend": false,
                                    "type": "scatter",
                                    "x": [
                                        56.10740450821849,
                                        66.67264239199832
                                    ],
                                    "xaxis": "x3",
                                    "y": [
                                        "122",
                                        "122"
                                    ],
                                    "yaxis": "y3"
                                },
                                {
                                    "line": {
                                        "width": 2
                                    },
                                    "marker": {
                                        "color": "red",
                                        "size": 2
                                    },
                                    "mode": "lines",
                                    "name": "Airway resistance inferred",
                                    "showlegend": false,
                                    "type": "scatter",
                                    "x": [
                                        56.18654228781666,
                                        66.94510666426272
                                    ],
                                    "xaxis": "x3",
                                    "y": [
                                        "233",
                                        "233"
                                    ],
                                    "yaxis": "y3"
                                },
                                {
                                    "line": {
                                        "width": 2
                                    },
                                    "marker": {
                                        "color": "red",
                                        "size": 2
                                    },
                                    "mode": "lines",
                                    "name": "Airway resistance inferred",
                                    "showlegend": false,
                                    "type": "scatter",
                                    "x": [
                                        76.8764975956437,
                                        82.81049146985941
                                    ],
                                    "xaxis": "x3",
                                    "y": [
                                        "194",
                                        "194"
                                    ],
                                    "yaxis": "y3"
                                },
                                {
                                    "line": {
                                        "width": 2
                                    },
                                    "marker": {
                                        "color": "red",
                                        "size": 2
                                    },
                                    "mode": "lines",
                                    "name": "Airway resistance inferred",
                                    "showlegend": false,
                                    "type": "scatter",
                                    "x": [
                                        68.29804036189651,
                                        75.91972948017748
                                    ],
                                    "xaxis": "x3",
                                    "y": [
                                        "144",
                                        "144"
                                    ],
                                    "yaxis": "y3"
                                },
                                {
                                    "line": {
                                        "width": 2
                                    },
                                    "marker": {
                                        "color": "red",
                                        "size": 2
                                    },
                                    "mode": "lines",
                                    "name": "Airway resistance inferred",
                                    "showlegend": false,
                                    "type": "scatter",
                                    "x": [
                                        63.45039274242346,
                                        72.40470070823498
                                    ],
                                    "xaxis": "x3",
                                    "y": [
                                        "138",
                                        "138"
                                    ],
                                    "yaxis": "y3"
                                },
                                {
                                    "line": {
                                        "width": 2
                                    },
                                    "marker": {
                                        "color": "red",
                                        "size": 2
                                    },
                                    "mode": "lines",
                                    "name": "Airway resistance inferred",
                                    "showlegend": false,
                                    "type": "scatter",
                                    "x": [
                                        64.49231114466765,
                                        74.08954493031317
                                    ],
                                    "xaxis": "x3",
                                    "y": [
                                        "28",
                                        "28"
                                    ],
                                    "yaxis": "y3"
                                },
                                {
                                    "line": {
                                        "width": 2
                                    },
                                    "marker": {
                                        "color": "red",
                                        "size": 2
                                    },
                                    "mode": "lines",
                                    "name": "Airway resistance inferred",
                                    "showlegend": false,
                                    "type": "scatter",
                                    "x": [
                                        70.33268474377051,
                                        78.04074029649914
                                    ],
                                    "xaxis": "x3",
                                    "y": [
                                        "29",
                                        "29"
                                    ],
                                    "yaxis": "y3"
                                },
                                {
                                    "line": {
                                        "width": 2
                                    },
                                    "marker": {
                                        "color": "red",
                                        "size": 2
                                    },
                                    "mode": "lines",
                                    "name": "Airway resistance inferred",
                                    "showlegend": false,
                                    "type": "scatter",
                                    "x": [
                                        64.55991999544094,
                                        73.05215648081212
                                    ],
                                    "xaxis": "x3",
                                    "y": [
                                        "172",
                                        "172"
                                    ],
                                    "yaxis": "y3"
                                },
                                {
                                    "line": {
                                        "width": 2
                                    },
                                    "marker": {
                                        "color": "red",
                                        "size": 2
                                    },
                                    "mode": "lines",
                                    "name": "Airway resistance inferred",
                                    "showlegend": false,
                                    "type": "scatter",
                                    "x": [
                                        69.76918817013105,
                                        78.23582408970438
                                    ],
                                    "xaxis": "x3",
                                    "y": [
                                        "71",
                                        "71"
                                    ],
                                    "yaxis": "y3"
                                },
                                {
                                    "line": {
                                        "width": 2
                                    },
                                    "marker": {
                                        "color": "red",
                                        "size": 2
                                    },
                                    "mode": "lines",
                                    "name": "Airway resistance inferred",
                                    "showlegend": false,
                                    "type": "scatter",
                                    "x": [
                                        55.557356374856724,
                                        66.24572246455674
                                    ],
                                    "xaxis": "x3",
                                    "y": [
                                        "178",
                                        "178"
                                    ],
                                    "yaxis": "y3"
                                },
                                {
                                    "line": {
                                        "width": 2
                                    },
                                    "marker": {
                                        "color": "red",
                                        "size": 2
                                    },
                                    "mode": "lines",
                                    "name": "Airway resistance inferred",
                                    "showlegend": false,
                                    "type": "scatter",
                                    "x": [
                                        54.22515693489364,
                                        65.83275456559618
                                    ],
                                    "xaxis": "x3",
                                    "y": [
                                        "151",
                                        "151"
                                    ],
                                    "yaxis": "y3"
                                },
                                {
                                    "line": {
                                        "width": 2
                                    },
                                    "marker": {
                                        "color": "red",
                                        "size": 2
                                    },
                                    "mode": "lines",
                                    "name": "Airway resistance inferred",
                                    "showlegend": false,
                                    "type": "scatter",
                                    "x": [
                                        68.49210568155105,
                                        76.25077693048961
                                    ],
                                    "xaxis": "x3",
                                    "y": [
                                        "32",
                                        "32"
                                    ],
                                    "yaxis": "y3"
                                },
                                {
                                    "line": {
                                        "width": 2
                                    },
                                    "marker": {
                                        "color": "red",
                                        "size": 2
                                    },
                                    "mode": "lines",
                                    "name": "Airway resistance inferred",
                                    "showlegend": false,
                                    "type": "scatter",
                                    "x": [
                                        54.3138344623588,
                                        67.0101502677036
                                    ],
                                    "xaxis": "x3",
                                    "y": [
                                        "63",
                                        "63"
                                    ],
                                    "yaxis": "y3"
                                },
                                {
                                    "line": {
                                        "width": 2
                                    },
                                    "marker": {
                                        "color": "red",
                                        "size": 2
                                    },
                                    "mode": "lines",
                                    "name": "Airway resistance inferred",
                                    "showlegend": false,
                                    "type": "scatter",
                                    "x": [
                                        64.07389659426818,
                                        73.09366603638107
                                    ],
                                    "xaxis": "x3",
                                    "y": [
                                        "37",
                                        "37"
                                    ],
                                    "yaxis": "y3"
                                },
                                {
                                    "line": {
                                        "width": 2
                                    },
                                    "marker": {
                                        "color": "red",
                                        "size": 2
                                    },
                                    "mode": "lines",
                                    "name": "Airway resistance inferred",
                                    "showlegend": false,
                                    "type": "scatter",
                                    "x": [
                                        71.92778282197494,
                                        78.97085727123046
                                    ],
                                    "xaxis": "x3",
                                    "y": [
                                        "202",
                                        "202"
                                    ],
                                    "yaxis": "y3"
                                },
                                {
                                    "line": {
                                        "width": 2
                                    },
                                    "marker": {
                                        "color": "red",
                                        "size": 2
                                    },
                                    "mode": "lines",
                                    "name": "Airway resistance inferred",
                                    "showlegend": false,
                                    "type": "scatter",
                                    "x": [
                                        57.97274754052642,
                                        68.59906015803232
                                    ],
                                    "xaxis": "x3",
                                    "y": [
                                        "74",
                                        "74"
                                    ],
                                    "yaxis": "y3"
                                },
                                {
                                    "line": {
                                        "width": 2
                                    },
                                    "marker": {
                                        "color": "red",
                                        "size": 2
                                    },
                                    "mode": "lines",
                                    "name": "Airway resistance inferred",
                                    "showlegend": false,
                                    "type": "scatter",
                                    "x": [
                                        71.88811747171479,
                                        78.2972887810819
                                    ],
                                    "xaxis": "x3",
                                    "y": [
                                        "190",
                                        "190"
                                    ],
                                    "yaxis": "y3"
                                },
                                {
                                    "line": {
                                        "width": 2
                                    },
                                    "marker": {
                                        "color": "red",
                                        "size": 2
                                    },
                                    "mode": "lines",
                                    "name": "Airway resistance inferred",
                                    "showlegend": false,
                                    "type": "scatter",
                                    "x": [
                                        65.91690403445212,
                                        74.57496537659668
                                    ],
                                    "xaxis": "x3",
                                    "y": [
                                        "152",
                                        "152"
                                    ],
                                    "yaxis": "y3"
                                },
                                {
                                    "line": {
                                        "width": 2
                                    },
                                    "marker": {
                                        "color": "red",
                                        "size": 2
                                    },
                                    "mode": "lines",
                                    "name": "Airway resistance inferred",
                                    "showlegend": false,
                                    "type": "scatter",
                                    "x": [
                                        60.07400897770048,
                                        70.62339000594282
                                    ],
                                    "xaxis": "x3",
                                    "y": [
                                        "47",
                                        "47"
                                    ],
                                    "yaxis": "y3"
                                },
                                {
                                    "line": {
                                        "width": 2
                                    },
                                    "marker": {
                                        "color": "red",
                                        "size": 2
                                    },
                                    "mode": "lines",
                                    "name": "Airway resistance inferred",
                                    "showlegend": false,
                                    "type": "scatter",
                                    "x": [
                                        59.32736911307595,
                                        70.75074623032455
                                    ],
                                    "xaxis": "x3",
                                    "y": [
                                        "131",
                                        "131"
                                    ],
                                    "yaxis": "y3"
                                },
                                {
                                    "marker": {
                                        "color": "blue",
                                        "size": 3
                                    },
                                    "mode": "markers",
                                    "name": "1 - ecFEV1%Predicted",
                                    "type": "scatter",
                                    "x": [
                                        62.4071545381938,
                                        72.20287939174752,
                                        81.569154635602,
                                        68.49767311160934,
                                        75.37655291837945,
                                        71.31779879813469,
                                        72.40957416041309,
                                        68.63139254355356,
                                        74.64231417173276,
                                        67.39952238800335,
                                        71.6051990882126,
                                        64.28090559063921,
                                        68.49860246043532,
                                        72.37526627324918,
                                        65.50706024499087,
                                        64.61105414323207,
                                        67.90150465250436,
                                        63.993051826447186,
                                        64.20316737485571,
                                        82.4910345877308,
                                        74.95129691096821,
                                        70.77081324373819,
                                        72.20111881446267,
                                        77.13967348942978,
                                        71.97849319473772,
                                        77.41762383940389,
                                        64.44064310860962,
                                        63.66387024714571,
                                        76.567069899188,
                                        64.99102854512591,
                                        73.02642771295716,
                                        80.19563219660085,
                                        68.06101962076907,
                                        80.58903016883207,
                                        76.65019741257363,
                                        72.63598107366107,
                                        73.61954627006071
                                    ],
                                    "xaxis": "x3",
                                    "y": [
                                        "65",
                                        "201",
                                        "59",
                                        "235",
                                        "174",
                                        "141",
                                        "41",
                                        "45",
                                        "216",
                                        "27",
                                        "38",
                                        "72",
                                        "229",
                                        "39",
                                        "30",
                                        "214",
                                        "66",
                                        "122",
                                        "233",
                                        "194",
                                        "144",
                                        "138",
                                        "28",
                                        "29",
                                        "172",
                                        "71",
                                        "178",
                                        "151",
                                        "32",
                                        "63",
                                        "37",
                                        "202",
                                        "74",
                                        "190",
                                        "152",
                                        "47",
                                        "131"
                                    ],
                                    "yaxis": "y3"
                                }
                            ],
                            "layout": {
                                "annotations": [
                                    {
                                        "font": {
                                            "size": 16
                                        },
                                        "showarrow": false,
                                        "text": "Mild CF",
                                        "x": 0.13333333333333333,
                                        "xanchor": "center",
                                        "xref": "paper",
                                        "y": 1,
                                        "yanchor": "bottom",
                                        "yref": "paper"
                                    },
                                    {
                                        "font": {
                                            "size": 16
                                        },
                                        "showarrow": false,
                                        "text": "Moderate CF",
                                        "x": 0.5,
                                        "xanchor": "center",
                                        "xref": "paper",
                                        "y": 1,
                                        "yanchor": "bottom",
                                        "yref": "paper"
                                    },
                                    {
                                        "font": {
                                            "size": 16
                                        },
                                        "showarrow": false,
                                        "text": "Severe CF",
                                        "x": 0.8666666666666667,
                                        "xanchor": "center",
                                        "xref": "paper",
                                        "y": 1,
                                        "yanchor": "bottom",
                                        "yref": "paper"
                                    }
                                ],
                                "font": {
                                    "size": 10
                                },
                                "height": 800,
                                "paper_bgcolor": "white",
                                "plot_bgcolor": "white",
                                "showlegend": true,
                                "template": {
                                    "data": {
                                        "bar": [
                                            {
                                                "error_x": {
                                                    "color": "#2a3f5f"
                                                },
                                                "error_y": {
                                                    "color": "#2a3f5f"
                                                },
                                                "marker": {
                                                    "line": {
                                                        "color": "#E5ECF6",
                                                        "width": 0.5
                                                    },
                                                    "pattern": {
                                                        "fillmode": "overlay",
                                                        "size": 10,
                                                        "solidity": 0.2
                                                    }
                                                },
                                                "type": "bar"
                                            }
                                        ],
                                        "barpolar": [
                                            {
                                                "marker": {
                                                    "line": {
                                                        "color": "#E5ECF6",
                                                        "width": 0.5
                                                    },
                                                    "pattern": {
                                                        "fillmode": "overlay",
                                                        "size": 10,
                                                        "solidity": 0.2
                                                    }
                                                },
                                                "type": "barpolar"
                                            }
                                        ],
                                        "carpet": [
                                            {
                                                "aaxis": {
                                                    "endlinecolor": "#2a3f5f",
                                                    "gridcolor": "white",
                                                    "linecolor": "white",
                                                    "minorgridcolor": "white",
                                                    "startlinecolor": "#2a3f5f"
                                                },
                                                "baxis": {
                                                    "endlinecolor": "#2a3f5f",
                                                    "gridcolor": "white",
                                                    "linecolor": "white",
                                                    "minorgridcolor": "white",
                                                    "startlinecolor": "#2a3f5f"
                                                },
                                                "type": "carpet"
                                            }
                                        ],
                                        "choropleth": [
                                            {
                                                "colorbar": {
                                                    "outlinewidth": 0,
                                                    "ticks": ""
                                                },
                                                "type": "choropleth"
                                            }
                                        ],
                                        "contour": [
                                            {
                                                "colorbar": {
                                                    "outlinewidth": 0,
                                                    "ticks": ""
                                                },
                                                "colorscale": [
                                                    [
                                                        0,
                                                        "#0d0887"
                                                    ],
                                                    [
                                                        0.1111111111111111,
                                                        "#46039f"
                                                    ],
                                                    [
                                                        0.2222222222222222,
                                                        "#7201a8"
                                                    ],
                                                    [
                                                        0.3333333333333333,
                                                        "#9c179e"
                                                    ],
                                                    [
                                                        0.4444444444444444,
                                                        "#bd3786"
                                                    ],
                                                    [
                                                        0.5555555555555556,
                                                        "#d8576b"
                                                    ],
                                                    [
                                                        0.6666666666666666,
                                                        "#ed7953"
                                                    ],
                                                    [
                                                        0.7777777777777778,
                                                        "#fb9f3a"
                                                    ],
                                                    [
                                                        0.8888888888888888,
                                                        "#fdca26"
                                                    ],
                                                    [
                                                        1,
                                                        "#f0f921"
                                                    ]
                                                ],
                                                "type": "contour"
                                            }
                                        ],
                                        "contourcarpet": [
                                            {
                                                "colorbar": {
                                                    "outlinewidth": 0,
                                                    "ticks": ""
                                                },
                                                "type": "contourcarpet"
                                            }
                                        ],
                                        "heatmap": [
                                            {
                                                "colorbar": {
                                                    "outlinewidth": 0,
                                                    "ticks": ""
                                                },
                                                "colorscale": [
                                                    [
                                                        0,
                                                        "#0d0887"
                                                    ],
                                                    [
                                                        0.1111111111111111,
                                                        "#46039f"
                                                    ],
                                                    [
                                                        0.2222222222222222,
                                                        "#7201a8"
                                                    ],
                                                    [
                                                        0.3333333333333333,
                                                        "#9c179e"
                                                    ],
                                                    [
                                                        0.4444444444444444,
                                                        "#bd3786"
                                                    ],
                                                    [
                                                        0.5555555555555556,
                                                        "#d8576b"
                                                    ],
                                                    [
                                                        0.6666666666666666,
                                                        "#ed7953"
                                                    ],
                                                    [
                                                        0.7777777777777778,
                                                        "#fb9f3a"
                                                    ],
                                                    [
                                                        0.8888888888888888,
                                                        "#fdca26"
                                                    ],
                                                    [
                                                        1,
                                                        "#f0f921"
                                                    ]
                                                ],
                                                "type": "heatmap"
                                            }
                                        ],
                                        "heatmapgl": [
                                            {
                                                "colorbar": {
                                                    "outlinewidth": 0,
                                                    "ticks": ""
                                                },
                                                "colorscale": [
                                                    [
                                                        0,
                                                        "#0d0887"
                                                    ],
                                                    [
                                                        0.1111111111111111,
                                                        "#46039f"
                                                    ],
                                                    [
                                                        0.2222222222222222,
                                                        "#7201a8"
                                                    ],
                                                    [
                                                        0.3333333333333333,
                                                        "#9c179e"
                                                    ],
                                                    [
                                                        0.4444444444444444,
                                                        "#bd3786"
                                                    ],
                                                    [
                                                        0.5555555555555556,
                                                        "#d8576b"
                                                    ],
                                                    [
                                                        0.6666666666666666,
                                                        "#ed7953"
                                                    ],
                                                    [
                                                        0.7777777777777778,
                                                        "#fb9f3a"
                                                    ],
                                                    [
                                                        0.8888888888888888,
                                                        "#fdca26"
                                                    ],
                                                    [
                                                        1,
                                                        "#f0f921"
                                                    ]
                                                ],
                                                "type": "heatmapgl"
                                            }
                                        ],
                                        "histogram": [
                                            {
                                                "marker": {
                                                    "pattern": {
                                                        "fillmode": "overlay",
                                                        "size": 10,
                                                        "solidity": 0.2
                                                    }
                                                },
                                                "type": "histogram"
                                            }
                                        ],
                                        "histogram2d": [
                                            {
                                                "colorbar": {
                                                    "outlinewidth": 0,
                                                    "ticks": ""
                                                },
                                                "colorscale": [
                                                    [
                                                        0,
                                                        "#0d0887"
                                                    ],
                                                    [
                                                        0.1111111111111111,
                                                        "#46039f"
                                                    ],
                                                    [
                                                        0.2222222222222222,
                                                        "#7201a8"
                                                    ],
                                                    [
                                                        0.3333333333333333,
                                                        "#9c179e"
                                                    ],
                                                    [
                                                        0.4444444444444444,
                                                        "#bd3786"
                                                    ],
                                                    [
                                                        0.5555555555555556,
                                                        "#d8576b"
                                                    ],
                                                    [
                                                        0.6666666666666666,
                                                        "#ed7953"
                                                    ],
                                                    [
                                                        0.7777777777777778,
                                                        "#fb9f3a"
                                                    ],
                                                    [
                                                        0.8888888888888888,
                                                        "#fdca26"
                                                    ],
                                                    [
                                                        1,
                                                        "#f0f921"
                                                    ]
                                                ],
                                                "type": "histogram2d"
                                            }
                                        ],
                                        "histogram2dcontour": [
                                            {
                                                "colorbar": {
                                                    "outlinewidth": 0,
                                                    "ticks": ""
                                                },
                                                "colorscale": [
                                                    [
                                                        0,
                                                        "#0d0887"
                                                    ],
                                                    [
                                                        0.1111111111111111,
                                                        "#46039f"
                                                    ],
                                                    [
                                                        0.2222222222222222,
                                                        "#7201a8"
                                                    ],
                                                    [
                                                        0.3333333333333333,
                                                        "#9c179e"
                                                    ],
                                                    [
                                                        0.4444444444444444,
                                                        "#bd3786"
                                                    ],
                                                    [
                                                        0.5555555555555556,
                                                        "#d8576b"
                                                    ],
                                                    [
                                                        0.6666666666666666,
                                                        "#ed7953"
                                                    ],
                                                    [
                                                        0.7777777777777778,
                                                        "#fb9f3a"
                                                    ],
                                                    [
                                                        0.8888888888888888,
                                                        "#fdca26"
                                                    ],
                                                    [
                                                        1,
                                                        "#f0f921"
                                                    ]
                                                ],
                                                "type": "histogram2dcontour"
                                            }
                                        ],
                                        "mesh3d": [
                                            {
                                                "colorbar": {
                                                    "outlinewidth": 0,
                                                    "ticks": ""
                                                },
                                                "type": "mesh3d"
                                            }
                                        ],
                                        "parcoords": [
                                            {
                                                "line": {
                                                    "colorbar": {
                                                        "outlinewidth": 0,
                                                        "ticks": ""
                                                    }
                                                },
                                                "type": "parcoords"
                                            }
                                        ],
                                        "pie": [
                                            {
                                                "automargin": true,
                                                "type": "pie"
                                            }
                                        ],
                                        "scatter": [
                                            {
                                                "fillpattern": {
                                                    "fillmode": "overlay",
                                                    "size": 10,
                                                    "solidity": 0.2
                                                },
                                                "type": "scatter"
                                            }
                                        ],
                                        "scatter3d": [
                                            {
                                                "line": {
                                                    "colorbar": {
                                                        "outlinewidth": 0,
                                                        "ticks": ""
                                                    }
                                                },
                                                "marker": {
                                                    "colorbar": {
                                                        "outlinewidth": 0,
                                                        "ticks": ""
                                                    }
                                                },
                                                "type": "scatter3d"
                                            }
                                        ],
                                        "scattercarpet": [
                                            {
                                                "marker": {
                                                    "colorbar": {
                                                        "outlinewidth": 0,
                                                        "ticks": ""
                                                    }
                                                },
                                                "type": "scattercarpet"
                                            }
                                        ],
                                        "scattergeo": [
                                            {
                                                "marker": {
                                                    "colorbar": {
                                                        "outlinewidth": 0,
                                                        "ticks": ""
                                                    }
                                                },
                                                "type": "scattergeo"
                                            }
                                        ],
                                        "scattergl": [
                                            {
                                                "marker": {
                                                    "colorbar": {
                                                        "outlinewidth": 0,
                                                        "ticks": ""
                                                    }
                                                },
                                                "type": "scattergl"
                                            }
                                        ],
                                        "scattermapbox": [
                                            {
                                                "marker": {
                                                    "colorbar": {
                                                        "outlinewidth": 0,
                                                        "ticks": ""
                                                    }
                                                },
                                                "type": "scattermapbox"
                                            }
                                        ],
                                        "scatterpolar": [
                                            {
                                                "marker": {
                                                    "colorbar": {
                                                        "outlinewidth": 0,
                                                        "ticks": ""
                                                    }
                                                },
                                                "type": "scatterpolar"
                                            }
                                        ],
                                        "scatterpolargl": [
                                            {
                                                "marker": {
                                                    "colorbar": {
                                                        "outlinewidth": 0,
                                                        "ticks": ""
                                                    }
                                                },
                                                "type": "scatterpolargl"
                                            }
                                        ],
                                        "scatterternary": [
                                            {
                                                "marker": {
                                                    "colorbar": {
                                                        "outlinewidth": 0,
                                                        "ticks": ""
                                                    }
                                                },
                                                "type": "scatterternary"
                                            }
                                        ],
                                        "surface": [
                                            {
                                                "colorbar": {
                                                    "outlinewidth": 0,
                                                    "ticks": ""
                                                },
                                                "colorscale": [
                                                    [
                                                        0,
                                                        "#0d0887"
                                                    ],
                                                    [
                                                        0.1111111111111111,
                                                        "#46039f"
                                                    ],
                                                    [
                                                        0.2222222222222222,
                                                        "#7201a8"
                                                    ],
                                                    [
                                                        0.3333333333333333,
                                                        "#9c179e"
                                                    ],
                                                    [
                                                        0.4444444444444444,
                                                        "#bd3786"
                                                    ],
                                                    [
                                                        0.5555555555555556,
                                                        "#d8576b"
                                                    ],
                                                    [
                                                        0.6666666666666666,
                                                        "#ed7953"
                                                    ],
                                                    [
                                                        0.7777777777777778,
                                                        "#fb9f3a"
                                                    ],
                                                    [
                                                        0.8888888888888888,
                                                        "#fdca26"
                                                    ],
                                                    [
                                                        1,
                                                        "#f0f921"
                                                    ]
                                                ],
                                                "type": "surface"
                                            }
                                        ],
                                        "table": [
                                            {
                                                "cells": {
                                                    "fill": {
                                                        "color": "#EBF0F8"
                                                    },
                                                    "line": {
                                                        "color": "white"
                                                    }
                                                },
                                                "header": {
                                                    "fill": {
                                                        "color": "#C8D4E3"
                                                    },
                                                    "line": {
                                                        "color": "white"
                                                    }
                                                },
                                                "type": "table"
                                            }
                                        ]
                                    },
                                    "layout": {
                                        "annotationdefaults": {
                                            "arrowcolor": "#2a3f5f",
                                            "arrowhead": 0,
                                            "arrowwidth": 1
                                        },
                                        "autotypenumbers": "strict",
                                        "coloraxis": {
                                            "colorbar": {
                                                "outlinewidth": 0,
                                                "ticks": ""
                                            }
                                        },
                                        "colorscale": {
                                            "diverging": [
                                                [
                                                    0,
                                                    "#8e0152"
                                                ],
                                                [
                                                    0.1,
                                                    "#c51b7d"
                                                ],
                                                [
                                                    0.2,
                                                    "#de77ae"
                                                ],
                                                [
                                                    0.3,
                                                    "#f1b6da"
                                                ],
                                                [
                                                    0.4,
                                                    "#fde0ef"
                                                ],
                                                [
                                                    0.5,
                                                    "#f7f7f7"
                                                ],
                                                [
                                                    0.6,
                                                    "#e6f5d0"
                                                ],
                                                [
                                                    0.7,
                                                    "#b8e186"
                                                ],
                                                [
                                                    0.8,
                                                    "#7fbc41"
                                                ],
                                                [
                                                    0.9,
                                                    "#4d9221"
                                                ],
                                                [
                                                    1,
                                                    "#276419"
                                                ]
                                            ],
                                            "sequential": [
                                                [
                                                    0,
                                                    "#0d0887"
                                                ],
                                                [
                                                    0.1111111111111111,
                                                    "#46039f"
                                                ],
                                                [
                                                    0.2222222222222222,
                                                    "#7201a8"
                                                ],
                                                [
                                                    0.3333333333333333,
                                                    "#9c179e"
                                                ],
                                                [
                                                    0.4444444444444444,
                                                    "#bd3786"
                                                ],
                                                [
                                                    0.5555555555555556,
                                                    "#d8576b"
                                                ],
                                                [
                                                    0.6666666666666666,
                                                    "#ed7953"
                                                ],
                                                [
                                                    0.7777777777777778,
                                                    "#fb9f3a"
                                                ],
                                                [
                                                    0.8888888888888888,
                                                    "#fdca26"
                                                ],
                                                [
                                                    1,
                                                    "#f0f921"
                                                ]
                                            ],
                                            "sequentialminus": [
                                                [
                                                    0,
                                                    "#0d0887"
                                                ],
                                                [
                                                    0.1111111111111111,
                                                    "#46039f"
                                                ],
                                                [
                                                    0.2222222222222222,
                                                    "#7201a8"
                                                ],
                                                [
                                                    0.3333333333333333,
                                                    "#9c179e"
                                                ],
                                                [
                                                    0.4444444444444444,
                                                    "#bd3786"
                                                ],
                                                [
                                                    0.5555555555555556,
                                                    "#d8576b"
                                                ],
                                                [
                                                    0.6666666666666666,
                                                    "#ed7953"
                                                ],
                                                [
                                                    0.7777777777777778,
                                                    "#fb9f3a"
                                                ],
                                                [
                                                    0.8888888888888888,
                                                    "#fdca26"
                                                ],
                                                [
                                                    1,
                                                    "#f0f921"
                                                ]
                                            ]
                                        },
                                        "colorway": [
                                            "#636efa",
                                            "#EF553B",
                                            "#00cc96",
                                            "#ab63fa",
                                            "#FFA15A",
                                            "#19d3f3",
                                            "#FF6692",
                                            "#B6E880",
                                            "#FF97FF",
                                            "#FECB52"
                                        ],
                                        "font": {
                                            "color": "#2a3f5f"
                                        },
                                        "geo": {
                                            "bgcolor": "white",
                                            "lakecolor": "white",
                                            "landcolor": "#E5ECF6",
                                            "showlakes": true,
                                            "showland": true,
                                            "subunitcolor": "white"
                                        },
                                        "hoverlabel": {
                                            "align": "left"
                                        },
                                        "hovermode": "closest",
                                        "mapbox": {
                                            "style": "light"
                                        },
                                        "paper_bgcolor": "white",
                                        "plot_bgcolor": "#E5ECF6",
                                        "polar": {
                                            "angularaxis": {
                                                "gridcolor": "white",
                                                "linecolor": "white",
                                                "ticks": ""
                                            },
                                            "bgcolor": "#E5ECF6",
                                            "radialaxis": {
                                                "gridcolor": "white",
                                                "linecolor": "white",
                                                "ticks": ""
                                            }
                                        },
                                        "scene": {
                                            "xaxis": {
                                                "backgroundcolor": "#E5ECF6",
                                                "gridcolor": "white",
                                                "gridwidth": 2,
                                                "linecolor": "white",
                                                "showbackground": true,
                                                "ticks": "",
                                                "zerolinecolor": "white"
                                            },
                                            "yaxis": {
                                                "backgroundcolor": "#E5ECF6",
                                                "gridcolor": "white",
                                                "gridwidth": 2,
                                                "linecolor": "white",
                                                "showbackground": true,
                                                "ticks": "",
                                                "zerolinecolor": "white"
                                            },
                                            "zaxis": {
                                                "backgroundcolor": "#E5ECF6",
                                                "gridcolor": "white",
                                                "gridwidth": 2,
                                                "linecolor": "white",
                                                "showbackground": true,
                                                "ticks": "",
                                                "zerolinecolor": "white"
                                            }
                                        },
                                        "shapedefaults": {
                                            "line": {
                                                "color": "#2a3f5f"
                                            }
                                        },
                                        "ternary": {
                                            "aaxis": {
                                                "gridcolor": "white",
                                                "linecolor": "white",
                                                "ticks": ""
                                            },
                                            "baxis": {
                                                "gridcolor": "white",
                                                "linecolor": "white",
                                                "ticks": ""
                                            },
                                            "bgcolor": "#E5ECF6",
                                            "caxis": {
                                                "gridcolor": "white",
                                                "linecolor": "white",
                                                "ticks": ""
                                            }
                                        },
                                        "title": {
                                            "x": 0.05
                                        },
                                        "xaxis": {
                                            "automargin": true,
                                            "gridcolor": "white",
                                            "linecolor": "white",
                                            "ticks": "",
                                            "title": {
                                                "standoff": 15
                                            },
                                            "zerolinecolor": "white",
                                            "zerolinewidth": 2
                                        },
                                        "yaxis": {
                                            "automargin": true,
                                            "gridcolor": "white",
                                            "linecolor": "white",
                                            "ticks": "",
                                            "title": {
                                                "standoff": 15
                                            },
                                            "zerolinecolor": "white",
                                            "zerolinewidth": 2
                                        }
                                    }
                                },
                                "title": {
                                    "text": "SC - Dumbell plot of inferred AR vs ecFEV1%(>=10 points, last 30 days avg, with id)"
                                },
                                "width": 1200,
                                "xaxis": {
                                    "anchor": "y",
                                    "domain": [
                                        0,
                                        0.26666666666666666
                                    ],
                                    "gridcolor": "#2a3f5f",
                                    "range": [
                                        -25,
                                        91
                                    ],
                                    "tickvals": [
                                        0,
                                        30,
                                        60,
                                        90
                                    ],
                                    "title": {
                                        "text": "Airway resistance (%)"
                                    },
                                    "zeroline": true,
                                    "zerolinecolor": "#2a3f5f",
                                    "zerolinewidth": 2
                                },
                                "xaxis2": {
                                    "anchor": "y2",
                                    "domain": [
                                        0.3666666666666667,
                                        0.6333333333333333
                                    ],
                                    "gridcolor": "#2a3f5f",
                                    "range": [
                                        -25,
                                        91
                                    ],
                                    "tickvals": [
                                        0,
                                        30,
                                        60,
                                        90
                                    ],
                                    "title": {
                                        "text": "Airway resistance (%)"
                                    },
                                    "zeroline": true,
                                    "zerolinecolor": "#2a3f5f",
                                    "zerolinewidth": 2
                                },
                                "xaxis3": {
                                    "anchor": "y3",
                                    "domain": [
                                        0.7333333333333334,
                                        1
                                    ],
                                    "gridcolor": "#2a3f5f",
                                    "range": [
                                        -25,
                                        91
                                    ],
                                    "tickvals": [
                                        0,
                                        30,
                                        60,
                                        90
                                    ],
                                    "title": {
                                        "text": "Airway resistance (%)"
                                    },
                                    "zeroline": true,
                                    "zerolinecolor": "#2a3f5f",
                                    "zerolinewidth": 2
                                },
                                "yaxis": {
                                    "anchor": "x",
                                    "domain": [
                                        0,
                                        1
                                    ],
                                    "gridcolor": "#2a3f5f",
                                    "showgrid": false,
                                    "showticklabels": false,
                                    "zeroline": true,
                                    "zerolinecolor": "#2a3f5f",
                                    "zerolinewidth": 2
                                },
                                "yaxis2": {
                                    "anchor": "x2",
                                    "domain": [
                                        0,
                                        1
                                    ],
                                    "gridcolor": "#2a3f5f",
                                    "showgrid": false,
                                    "showticklabels": false,
                                    "zeroline": true,
                                    "zerolinecolor": "#2a3f5f",
                                    "zerolinewidth": 2
                                },
                                "yaxis3": {
                                    "anchor": "x3",
                                    "domain": [
                                        0,
                                        1
                                    ],
                                    "gridcolor": "#2a3f5f",
                                    "showgrid": false,
                                    "showticklabels": false,
                                    "zeroline": true,
                                    "zerolinecolor": "#2a3f5f",
                                    "zerolinewidth": 2
                                }
                            }
                        }
                    },
                    "metadata": {},
                    "output_type": "display_data"
                }
            ],
            "source": [
                "# Adding 2nd day massively reduces the AR compared to examples with low ecFEV1\n",
                "\n",
                "import plotly.graph_objects as go\n",
                "\n",
                "title = f\"SC - Dumbell plot of inferred AR vs ecFEV1%(>={min_datapoints} points, last 30 days avg, with id)\"\n",
                "\n",
                "\n",
                "fig = make_subplots(1, 3, horizontal_spacing=0.1, \n",
                "                    column_titles=[\"Mild CF\", \"Moderate CF\", \"Severe CF\"])\n",
                "\n",
                "\n",
                "def plot_dumbell_for_df(fig, df, measures, col):\n",
                "    # For measure[0]\n",
                "    mask = df[\"measure\"] == measures[0]\n",
                "    for id in df[mask][\"ID\"].unique():\n",
                "        mask_id = df[\"ID\"] == id\n",
                "        # Add mask\n",
                "        mask_final = mask_id & mask\n",
                "        fig.add_trace(\n",
                "            go.Scatter(\n",
                "                x=df[mask_final][\"value\"],\n",
                "                y=df[mask_final][\"ID\"],\n",
                "                mode=\"lines\",\n",
                "                name=\"Airway resistance inferred\",\n",
                "                marker=dict(size=2, color=\"red\"),\n",
                "                line=dict(width=2),\n",
                "                # legendgroup=\"Airway resistance predicted\",  # Add legend group\n",
                "                showlegend=True if id == df[mask][\"ID\"].unique()[0] else False,  # Only show legend for first trace\n",
                "            ),\n",
                "            row=1,\n",
                "            col=col,\n",
                "        )\n",
                "    # For measure[1]\n",
                "    mask = df[\"measure\"] == measures[1]\n",
                "    fig.add_trace(\n",
                "        go.Scatter(\n",
                "            x=df[mask][\"value\"],\n",
                "            y=df[mask][\"ID\"],\n",
                "            mode=\"markers\",\n",
                "            name=\"1 - ecFEV1%Predicted\",\n",
                "            marker=dict(size=3, color=\"blue\"),\n",
                "            # legendgroup=\"1 - ecFEV1%Predicted\",  # Add legend group\n",
                "        ),\n",
                "        row=1,\n",
                "        col=col,\n",
                "    )\n",
                "\n",
                "df_to_plot = df_ar_fev1_o2_2d\n",
                "ar_col = \"AR_fev1_o2_2d\"\n",
                "\n",
                "# df_to_plot = df_ar_fev1_o2_fef2575_2d\n",
                "# ar_col = \"Mean AR_fev1_o2_fef2575_2d prediction\"\n",
                "\n",
                "\n",
                "# Split dataframe between mild, moderate and severe CF lung disease\n",
                "# Equivalent to Mean AR_ecFEV1% < 30%, 30 to 60 and > 60%\n",
                "# Get unique IDs and their corresponding Mean AR_ecFEV1% values\n",
                "mask_ecfev1 = df_to_plot[\"measure\"] == f\"Mean {ar_col} prediction\"\n",
                "\n",
                "id_ecfev1_values = df_to_plot[mask_ecfev1].groupby(\"ID\")[\"value\"].mean()\n",
                "\n",
                "# Split IDs into three groups based on ecFEV1% values\n",
                "mild_ids = id_ecfev1_values[id_ecfev1_values < 30].index\n",
                "moderate_ids = id_ecfev1_values[(id_ecfev1_values >= 30) & (id_ecfev1_values <= 60)].index\n",
                "severe_ids = id_ecfev1_values[id_ecfev1_values > 60].index\n",
                "\n",
                "# Create the three dataframes\n",
                "df_mild = df_to_plot[df_to_plot[\"ID\"].isin(mild_ids)]\n",
                "df_moderate = df_to_plot[df_to_plot[\"ID\"].isin(moderate_ids)]\n",
                "df_severe = df_to_plot[df_to_plot[\"ID\"].isin(severe_ids)]\n",
                "\n",
                "# Print the sizes to verify\n",
                "print(f\"Mild size: {len(df_mild)}\")\n",
                "print(f\"Moderate size: {len(df_moderate)}\")\n",
                "print(f\"Severe size: {len(df_severe)}\")\n",
                "\n",
                "# Plot the three groups\n",
                "plot_dumbell_for_df(fig, df_mild, [f\"Mean {ar_col} dist\", \"Mean AR_ecFEV1%\"], 1)\n",
                "plot_dumbell_for_df(fig, df_moderate, [f\"Mean {ar_col} dist\", \"Mean AR_ecFEV1%\"], 2)\n",
                "plot_dumbell_for_df(fig, df_severe, [f\"Mean {ar_col} dist\", \"Mean AR_ecFEV1%\"], 3)\n",
                "\n",
                "\n",
                "\n",
                "# Split the dataframe into 3 roughly equal parts\n",
                "#\n",
                "#\n",
                "# ids = df_ar_fev1_o2_fef2575_2d.ID.unique()\n",
                "# chunk_size = int(np.ceil(len(ids) // 3))\n",
                "#\n",
                "# # Get first chunk\n",
                "# chunk1_ids = ids[0:chunk_size]\n",
                "#\n",
                "# # Get second chunk\n",
                "# chunk2_ids = ids[chunk_size:2*chunk_size]\n",
                "#\n",
                "# # Get third chunk\n",
                "# chunk3_ids = ids[2*chunk_size:len(ids)]\n",
                "#\n",
                "# # Create the three dataframes\n",
                "# df_ar_fev1_o2_fef2575_2d_chunk1 = df_ar_fev1_o2_fef2575_2d.set_index(\"ID\").loc[chunk1_ids].reset_index()\n",
                "# df_ar_fev1_o2_fef2575_2d_chunk2 = df_ar_fev1_o2_fef2575_2d.set_index(\"ID\").loc[chunk2_ids].reset_index()\n",
                "# df_ar_fev1_o2_fef2575_2d_chunk3 = df_ar_fev1_o2_fef2575_2d.set_index(\"ID\").loc[chunk3_ids].reset_index()\n",
                "#\n",
                "# Print the sizes to verify\n",
                "# print(f\"Chunk 1 size: {len(df_ar_fev1_o2_fef2575_2d_chunk1)}\")\n",
                "# print(f\"Chunk 2 size: {len(df_ar_fev1_o2_fef2575_2d_chunk2)}\")\n",
                "# print(f\"Chunk 3 size: {len(df_ar_fev1_o2_fef2575_2d_chunk3)}\")\n",
                "#\n",
                "# plot_dumbell_for_df(fig, df_ar_fev1_o2_fef2575_2d_chunk1, [\"Mean AR_fev1_o2_fef2575_2d dist\", \"Mean AR_ecFEV1%\"], 3)\n",
                "# plot_dumbell_for_df(fig, df_ar_fev1_o2_fef2575_2d_chunk2, [\"Mean AR_fev1_o2_fef2575_2d dist\", \"Mean AR_ecFEV1%\"], 2)\n",
                "# plot_dumbell_for_df(fig, df_ar_fev1_o2_fef2575_2d_chunk3, [\"Mean AR_fev1_o2_fef2575_2d dist\", \"Mean AR_ecFEV1%\"], 1)\n",
                "\n",
                "\n",
                "# Compare different models\n",
                "#\n",
                "#\n",
                "# plot_dumbell_for_df(fig, df_ar_fev1_o2, [\"Mean AR_fev1_o2 dist\", \"Mean AR_ecFEV1%\"], 1)\n",
                "# plot_dumbell_for_df(fig, df_ar_fev1_o2_2d, [\"Mean AR_fev1_o2_2d dist\", \"Mean AR_ecFEV1%\"], 2)\n",
                "\n",
                "\n",
                "fig.update_layout(\n",
                "    height=800,\n",
                "    # height=1800,\n",
                "    width=1200,\n",
                "    font=dict(size=10),\n",
                "    showlegend=True,\n",
                "    title=title,\n",
                "    plot_bgcolor=\"white\",\n",
                "    paper_bgcolor=\"white\",\n",
                ")\n",
                "print(min(df_to_plot[\"value\"]))\n",
                "fig.update_xaxes(\n",
                "    range=[-25, 91],\n",
                "    tickvals=[0, 30, 60, 90],\n",
                "    title=AR.name,\n",
                "    gridcolor=\"#2a3f5f\",\n",
                "    zeroline=True,\n",
                "    zerolinecolor=\"#2a3f5f\",\n",
                "    zerolinewidth=2,\n",
                ")\n",
                "fig.update_yaxes(\n",
                "    showticklabels=False,\n",
                "    showgrid=False,\n",
                "    gridcolor=\"#2a3f5f\",\n",
                "    zeroline=True,\n",
                "    zerolinecolor=\"#2a3f5f\",\n",
                "    zerolinewidth=2,\n",
                ")\n",
                "fig.write_image(f\"{dh.get_path_to_main()}PlotsBreathe/Dumbell_plot_AR_ecFEV1_by_severity/{title}.pdf\")\n",
                "fig.show()\n",
                "\n",
                "# On this plot, if a person is very sick, it's best fev1 measurement will contain a lot of inflammatory markers (sputum, airway wall inflammation).\n",
                "# The sicker the person,the more underestimated the AR pred is because the maximum FEV1 blown is not healthy.\n",
                "# Let's add the FEF25-75.\n",
                "\n",
                "# 60% of data falls within red band\n",
                "\n",
                "# TODO: add vertical lines corresponding to key AR values\n",
                "\n",
                "# Longitudinal AR profile on the web app"
            ]
        },
        {
            "cell_type": "code",
            "execution_count": 48,
            "metadata": {},
            "outputs": [
                {
                    "data": {
                        "text/plain": [
                            "'Mean Mean AR_fev1_o2_2d prediction prediction'"
                        ]
                    },
                    "execution_count": 48,
                    "metadata": {},
                    "output_type": "execute_result"
                }
            ],
            "source": [
                "df_to_plot[\"measure\"] == f\"Mean {mean_ar_col} prediction\""
            ]
        },
        {
            "cell_type": "code",
            "execution_count": 45,
            "metadata": {},
            "outputs": [
                {
                    "data": {
                        "text/plain": [
                            "'Mean Mean AR_fev1_o2_2d prediction prediction'"
                        ]
                    },
                    "execution_count": 45,
                    "metadata": {},
                    "output_type": "execute_result"
                }
            ],
            "source": [
                "f\"Mean {mean_ar_col} prediction\""
            ]
        },
        {
            "cell_type": "code",
            "execution_count": 44,
            "metadata": {},
            "outputs": [
                {
                    "data": {
                        "text/html": [
                            "<div>\n",
                            "<style scoped>\n",
                            "    .dataframe tbody tr th:only-of-type {\n",
                            "        vertical-align: middle;\n",
                            "    }\n",
                            "\n",
                            "    .dataframe tbody tr th {\n",
                            "        vertical-align: top;\n",
                            "    }\n",
                            "\n",
                            "    .dataframe thead th {\n",
                            "        text-align: right;\n",
                            "    }\n",
                            "</style>\n",
                            "<table border=\"1\" class=\"dataframe\">\n",
                            "  <thead>\n",
                            "    <tr style=\"text-align: right;\">\n",
                            "      <th></th>\n",
                            "      <th>ID</th>\n",
                            "      <th>measure</th>\n",
                            "      <th>value</th>\n",
                            "    </tr>\n",
                            "  </thead>\n",
                            "  <tbody>\n",
                            "    <tr>\n",
                            "      <th>0</th>\n",
                            "      <td>128</td>\n",
                            "      <td>Mean AR_ecFEV1%</td>\n",
                            "      <td>5.345414</td>\n",
                            "    </tr>\n",
                            "    <tr>\n",
                            "      <th>1</th>\n",
                            "      <td>128</td>\n",
                            "      <td>Mean AR_fev1_o2_2d dist</td>\n",
                            "      <td>15.518643</td>\n",
                            "    </tr>\n",
                            "    <tr>\n",
                            "      <th>2</th>\n",
                            "      <td>128</td>\n",
                            "      <td>Mean AR_fev1_o2_2d dist</td>\n",
                            "      <td>22.106281</td>\n",
                            "    </tr>\n",
                            "    <tr>\n",
                            "      <th>3</th>\n",
                            "      <td>128</td>\n",
                            "      <td>Mean AR_fev1_o2_2d prediction</td>\n",
                            "      <td>18.812462</td>\n",
                            "    </tr>\n",
                            "    <tr>\n",
                            "      <th>4</th>\n",
                            "      <td>53</td>\n",
                            "      <td>Mean AR_ecFEV1%</td>\n",
                            "      <td>7.564282</td>\n",
                            "    </tr>\n",
                            "    <tr>\n",
                            "      <th>...</th>\n",
                            "      <td>...</td>\n",
                            "      <td>...</td>\n",
                            "      <td>...</td>\n",
                            "    </tr>\n",
                            "    <tr>\n",
                            "      <th>579</th>\n",
                            "      <td>121</td>\n",
                            "      <td>Mean AR_fev1_o2_2d prediction</td>\n",
                            "      <td>57.958241</td>\n",
                            "    </tr>\n",
                            "    <tr>\n",
                            "      <th>580</th>\n",
                            "      <td>131</td>\n",
                            "      <td>Mean AR_ecFEV1%</td>\n",
                            "      <td>73.619546</td>\n",
                            "    </tr>\n",
                            "    <tr>\n",
                            "      <th>581</th>\n",
                            "      <td>131</td>\n",
                            "      <td>Mean AR_fev1_o2_2d dist</td>\n",
                            "      <td>59.327369</td>\n",
                            "    </tr>\n",
                            "    <tr>\n",
                            "      <th>582</th>\n",
                            "      <td>131</td>\n",
                            "      <td>Mean AR_fev1_o2_2d dist</td>\n",
                            "      <td>70.750746</td>\n",
                            "    </tr>\n",
                            "    <tr>\n",
                            "      <th>583</th>\n",
                            "      <td>131</td>\n",
                            "      <td>Mean AR_fev1_o2_2d prediction</td>\n",
                            "      <td>65.039058</td>\n",
                            "    </tr>\n",
                            "  </tbody>\n",
                            "</table>\n",
                            "<p>584 rows × 3 columns</p>\n",
                            "</div>"
                        ],
                        "text/plain": [
                            "      ID                        measure      value\n",
                            "0    128                Mean AR_ecFEV1%   5.345414\n",
                            "1    128        Mean AR_fev1_o2_2d dist  15.518643\n",
                            "2    128        Mean AR_fev1_o2_2d dist  22.106281\n",
                            "3    128  Mean AR_fev1_o2_2d prediction  18.812462\n",
                            "4     53                Mean AR_ecFEV1%   7.564282\n",
                            "..   ...                            ...        ...\n",
                            "579  121  Mean AR_fev1_o2_2d prediction  57.958241\n",
                            "580  131                Mean AR_ecFEV1%  73.619546\n",
                            "581  131        Mean AR_fev1_o2_2d dist  59.327369\n",
                            "582  131        Mean AR_fev1_o2_2d dist  70.750746\n",
                            "583  131  Mean AR_fev1_o2_2d prediction  65.039058\n",
                            "\n",
                            "[584 rows x 3 columns]"
                        ]
                    },
                    "execution_count": 44,
                    "metadata": {},
                    "output_type": "execute_result"
                }
            ],
            "source": [
                "df_to_plot"
            ]
        },
        {
            "cell_type": "code",
            "execution_count": 250,
            "metadata": {},
            "outputs": [
                {
                    "data": {
                        "text/html": [
                            "<div>\n",
                            "<style scoped>\n",
                            "    .dataframe tbody tr th:only-of-type {\n",
                            "        vertical-align: middle;\n",
                            "    }\n",
                            "\n",
                            "    .dataframe tbody tr th {\n",
                            "        vertical-align: top;\n",
                            "    }\n",
                            "\n",
                            "    .dataframe thead th {\n",
                            "        text-align: right;\n",
                            "    }\n",
                            "</style>\n",
                            "<table border=\"1\" class=\"dataframe\">\n",
                            "  <thead>\n",
                            "    <tr style=\"text-align: right;\">\n",
                            "      <th></th>\n",
                            "      <th>count</th>\n",
                            "    </tr>\n",
                            "    <tr>\n",
                            "      <th>ID</th>\n",
                            "      <th></th>\n",
                            "    </tr>\n",
                            "  </thead>\n",
                            "  <tbody>\n",
                            "    <tr>\n",
                            "      <th>372</th>\n",
                            "      <td>41</td>\n",
                            "    </tr>\n",
                            "    <tr>\n",
                            "      <th>202</th>\n",
                            "      <td>130</td>\n",
                            "    </tr>\n",
                            "    <tr>\n",
                            "      <th>530</th>\n",
                            "      <td>205</td>\n",
                            "    </tr>\n",
                            "    <tr>\n",
                            "      <th>104</th>\n",
                            "      <td>222</td>\n",
                            "    </tr>\n",
                            "    <tr>\n",
                            "      <th>433</th>\n",
                            "      <td>60</td>\n",
                            "    </tr>\n",
                            "    <tr>\n",
                            "      <th>417</th>\n",
                            "      <td>20</td>\n",
                            "    </tr>\n",
                            "  </tbody>\n",
                            "</table>\n",
                            "</div>"
                        ],
                        "text/plain": [
                            "     count\n",
                            "ID        \n",
                            "372     41\n",
                            "202    130\n",
                            "530    205\n",
                            "104    222\n",
                            "433     60\n",
                            "417     20"
                        ]
                    },
                    "execution_count": 250,
                    "metadata": {},
                    "output_type": "execute_result"
                }
            ],
            "source": [
                "df_count.set_index(\"ID\").loc[[\"372\", \"202\", \"530\", \"104\", \"433\", \"417\"]]"
            ]
        },
        {
            "cell_type": "markdown",
            "metadata": {},
            "source": [
                "# Compute breathe avg "
            ]
        },
        {
            "cell_type": "code",
            "execution_count": 462,
            "metadata": {},
            "outputs": [],
            "source": [
                "ar_dist_BR = df_res.groupby(\"ID\").apply(lambda df: df['AR_fev1_o2_fef2575_2d'].mean()).mean()"
            ]
        },
        {
            "cell_type": "code",
            "execution_count": 463,
            "metadata": {},
            "outputs": [
                {
                    "data": {
                        "application/vnd.plotly.v1+json": {
                            "config": {
                                "plotlyServerURL": "https://plot.ly"
                            },
                            "data": [
                                {
                                    "histfunc": "sum",
                                    "name": "Breathe data",
                                    "type": "histogram",
                                    "x": [
                                        0,
                                        2,
                                        4,
                                        6,
                                        8,
                                        10,
                                        12,
                                        14,
                                        16,
                                        18,
                                        20,
                                        22,
                                        24,
                                        26,
                                        28,
                                        30,
                                        32,
                                        34,
                                        36,
                                        38,
                                        40,
                                        42,
                                        44,
                                        46,
                                        48,
                                        50,
                                        52,
                                        54,
                                        56,
                                        58,
                                        60,
                                        62,
                                        64,
                                        66,
                                        68,
                                        70,
                                        72,
                                        74,
                                        76,
                                        78,
                                        80,
                                        82,
                                        84,
                                        86,
                                        88
                                    ],
                                    "xaxis": "x",
                                    "xbins": {
                                        "end": 90,
                                        "size": 2,
                                        "start": 0
                                    },
                                    "y": [
                                        0.01406050748811835,
                                        0.019958004063130478,
                                        0.026027846884024982,
                                        0.031284554708755685,
                                        0.034947781680677505,
                                        0.03715946109518858,
                                        0.03844368145855096,
                                        0.03901018035068489,
                                        0.038988598900305,
                                        0.0385040069430574,
                                        0.037491783637700976,
                                        0.036462355282824405,
                                        0.03583077814459701,
                                        0.03566543861431764,
                                        0.035780368794249735,
                                        0.03639845059011048,
                                        0.037491015981418935,
                                        0.03763123723127523,
                                        0.035343878932524574,
                                        0.03170747066752841,
                                        0.028100243483010226,
                                        0.02536717364332691,
                                        0.02346512997990835,
                                        0.0221125192168335,
                                        0.021797751667525542,
                                        0.021717149441569654,
                                        0.021961425712624636,
                                        0.022075561986614308,
                                        0.021529939932811416,
                                        0.020596087096753476,
                                        0.018911071949705507,
                                        0.016748446025989686,
                                        0.014310742565791394,
                                        0.012480550007897422,
                                        0.010167632836443273,
                                        0.007859183609662064,
                                        0.005247983225834768,
                                        0.003001574081190303,
                                        0.0016996660971941204,
                                        0.0012336512802054863,
                                        0.000901670574581093,
                                        0.00042453175685844285,
                                        0.00009405422387570719,
                                        0.000008639600575696493,
                                        2.1854130476127561e-7
                                    ],
                                    "yaxis": "y"
                                }
                            ],
                            "layout": {
                                "annotations": [
                                    {
                                        "font": {
                                            "size": 8
                                        },
                                        "showarrow": false,
                                        "text": "31.90",
                                        "x": 31.89749629490096,
                                        "xref": "x",
                                        "y": 0.04291119838575338,
                                        "yref": "y"
                                    }
                                ],
                                "font": {
                                    "size": 10
                                },
                                "showlegend": true,
                                "template": {
                                    "data": {
                                        "bar": [
                                            {
                                                "error_x": {
                                                    "color": "#2a3f5f"
                                                },
                                                "error_y": {
                                                    "color": "#2a3f5f"
                                                },
                                                "marker": {
                                                    "line": {
                                                        "color": "#E5ECF6",
                                                        "width": 0.5
                                                    },
                                                    "pattern": {
                                                        "fillmode": "overlay",
                                                        "size": 10,
                                                        "solidity": 0.2
                                                    }
                                                },
                                                "type": "bar"
                                            }
                                        ],
                                        "barpolar": [
                                            {
                                                "marker": {
                                                    "line": {
                                                        "color": "#E5ECF6",
                                                        "width": 0.5
                                                    },
                                                    "pattern": {
                                                        "fillmode": "overlay",
                                                        "size": 10,
                                                        "solidity": 0.2
                                                    }
                                                },
                                                "type": "barpolar"
                                            }
                                        ],
                                        "carpet": [
                                            {
                                                "aaxis": {
                                                    "endlinecolor": "#2a3f5f",
                                                    "gridcolor": "white",
                                                    "linecolor": "white",
                                                    "minorgridcolor": "white",
                                                    "startlinecolor": "#2a3f5f"
                                                },
                                                "baxis": {
                                                    "endlinecolor": "#2a3f5f",
                                                    "gridcolor": "white",
                                                    "linecolor": "white",
                                                    "minorgridcolor": "white",
                                                    "startlinecolor": "#2a3f5f"
                                                },
                                                "type": "carpet"
                                            }
                                        ],
                                        "choropleth": [
                                            {
                                                "colorbar": {
                                                    "outlinewidth": 0,
                                                    "ticks": ""
                                                },
                                                "type": "choropleth"
                                            }
                                        ],
                                        "contour": [
                                            {
                                                "colorbar": {
                                                    "outlinewidth": 0,
                                                    "ticks": ""
                                                },
                                                "colorscale": [
                                                    [
                                                        0,
                                                        "#0d0887"
                                                    ],
                                                    [
                                                        0.1111111111111111,
                                                        "#46039f"
                                                    ],
                                                    [
                                                        0.2222222222222222,
                                                        "#7201a8"
                                                    ],
                                                    [
                                                        0.3333333333333333,
                                                        "#9c179e"
                                                    ],
                                                    [
                                                        0.4444444444444444,
                                                        "#bd3786"
                                                    ],
                                                    [
                                                        0.5555555555555556,
                                                        "#d8576b"
                                                    ],
                                                    [
                                                        0.6666666666666666,
                                                        "#ed7953"
                                                    ],
                                                    [
                                                        0.7777777777777778,
                                                        "#fb9f3a"
                                                    ],
                                                    [
                                                        0.8888888888888888,
                                                        "#fdca26"
                                                    ],
                                                    [
                                                        1,
                                                        "#f0f921"
                                                    ]
                                                ],
                                                "type": "contour"
                                            }
                                        ],
                                        "contourcarpet": [
                                            {
                                                "colorbar": {
                                                    "outlinewidth": 0,
                                                    "ticks": ""
                                                },
                                                "type": "contourcarpet"
                                            }
                                        ],
                                        "heatmap": [
                                            {
                                                "colorbar": {
                                                    "outlinewidth": 0,
                                                    "ticks": ""
                                                },
                                                "colorscale": [
                                                    [
                                                        0,
                                                        "#0d0887"
                                                    ],
                                                    [
                                                        0.1111111111111111,
                                                        "#46039f"
                                                    ],
                                                    [
                                                        0.2222222222222222,
                                                        "#7201a8"
                                                    ],
                                                    [
                                                        0.3333333333333333,
                                                        "#9c179e"
                                                    ],
                                                    [
                                                        0.4444444444444444,
                                                        "#bd3786"
                                                    ],
                                                    [
                                                        0.5555555555555556,
                                                        "#d8576b"
                                                    ],
                                                    [
                                                        0.6666666666666666,
                                                        "#ed7953"
                                                    ],
                                                    [
                                                        0.7777777777777778,
                                                        "#fb9f3a"
                                                    ],
                                                    [
                                                        0.8888888888888888,
                                                        "#fdca26"
                                                    ],
                                                    [
                                                        1,
                                                        "#f0f921"
                                                    ]
                                                ],
                                                "type": "heatmap"
                                            }
                                        ],
                                        "heatmapgl": [
                                            {
                                                "colorbar": {
                                                    "outlinewidth": 0,
                                                    "ticks": ""
                                                },
                                                "colorscale": [
                                                    [
                                                        0,
                                                        "#0d0887"
                                                    ],
                                                    [
                                                        0.1111111111111111,
                                                        "#46039f"
                                                    ],
                                                    [
                                                        0.2222222222222222,
                                                        "#7201a8"
                                                    ],
                                                    [
                                                        0.3333333333333333,
                                                        "#9c179e"
                                                    ],
                                                    [
                                                        0.4444444444444444,
                                                        "#bd3786"
                                                    ],
                                                    [
                                                        0.5555555555555556,
                                                        "#d8576b"
                                                    ],
                                                    [
                                                        0.6666666666666666,
                                                        "#ed7953"
                                                    ],
                                                    [
                                                        0.7777777777777778,
                                                        "#fb9f3a"
                                                    ],
                                                    [
                                                        0.8888888888888888,
                                                        "#fdca26"
                                                    ],
                                                    [
                                                        1,
                                                        "#f0f921"
                                                    ]
                                                ],
                                                "type": "heatmapgl"
                                            }
                                        ],
                                        "histogram": [
                                            {
                                                "marker": {
                                                    "pattern": {
                                                        "fillmode": "overlay",
                                                        "size": 10,
                                                        "solidity": 0.2
                                                    }
                                                },
                                                "type": "histogram"
                                            }
                                        ],
                                        "histogram2d": [
                                            {
                                                "colorbar": {
                                                    "outlinewidth": 0,
                                                    "ticks": ""
                                                },
                                                "colorscale": [
                                                    [
                                                        0,
                                                        "#0d0887"
                                                    ],
                                                    [
                                                        0.1111111111111111,
                                                        "#46039f"
                                                    ],
                                                    [
                                                        0.2222222222222222,
                                                        "#7201a8"
                                                    ],
                                                    [
                                                        0.3333333333333333,
                                                        "#9c179e"
                                                    ],
                                                    [
                                                        0.4444444444444444,
                                                        "#bd3786"
                                                    ],
                                                    [
                                                        0.5555555555555556,
                                                        "#d8576b"
                                                    ],
                                                    [
                                                        0.6666666666666666,
                                                        "#ed7953"
                                                    ],
                                                    [
                                                        0.7777777777777778,
                                                        "#fb9f3a"
                                                    ],
                                                    [
                                                        0.8888888888888888,
                                                        "#fdca26"
                                                    ],
                                                    [
                                                        1,
                                                        "#f0f921"
                                                    ]
                                                ],
                                                "type": "histogram2d"
                                            }
                                        ],
                                        "histogram2dcontour": [
                                            {
                                                "colorbar": {
                                                    "outlinewidth": 0,
                                                    "ticks": ""
                                                },
                                                "colorscale": [
                                                    [
                                                        0,
                                                        "#0d0887"
                                                    ],
                                                    [
                                                        0.1111111111111111,
                                                        "#46039f"
                                                    ],
                                                    [
                                                        0.2222222222222222,
                                                        "#7201a8"
                                                    ],
                                                    [
                                                        0.3333333333333333,
                                                        "#9c179e"
                                                    ],
                                                    [
                                                        0.4444444444444444,
                                                        "#bd3786"
                                                    ],
                                                    [
                                                        0.5555555555555556,
                                                        "#d8576b"
                                                    ],
                                                    [
                                                        0.6666666666666666,
                                                        "#ed7953"
                                                    ],
                                                    [
                                                        0.7777777777777778,
                                                        "#fb9f3a"
                                                    ],
                                                    [
                                                        0.8888888888888888,
                                                        "#fdca26"
                                                    ],
                                                    [
                                                        1,
                                                        "#f0f921"
                                                    ]
                                                ],
                                                "type": "histogram2dcontour"
                                            }
                                        ],
                                        "mesh3d": [
                                            {
                                                "colorbar": {
                                                    "outlinewidth": 0,
                                                    "ticks": ""
                                                },
                                                "type": "mesh3d"
                                            }
                                        ],
                                        "parcoords": [
                                            {
                                                "line": {
                                                    "colorbar": {
                                                        "outlinewidth": 0,
                                                        "ticks": ""
                                                    }
                                                },
                                                "type": "parcoords"
                                            }
                                        ],
                                        "pie": [
                                            {
                                                "automargin": true,
                                                "type": "pie"
                                            }
                                        ],
                                        "scatter": [
                                            {
                                                "fillpattern": {
                                                    "fillmode": "overlay",
                                                    "size": 10,
                                                    "solidity": 0.2
                                                },
                                                "type": "scatter"
                                            }
                                        ],
                                        "scatter3d": [
                                            {
                                                "line": {
                                                    "colorbar": {
                                                        "outlinewidth": 0,
                                                        "ticks": ""
                                                    }
                                                },
                                                "marker": {
                                                    "colorbar": {
                                                        "outlinewidth": 0,
                                                        "ticks": ""
                                                    }
                                                },
                                                "type": "scatter3d"
                                            }
                                        ],
                                        "scattercarpet": [
                                            {
                                                "marker": {
                                                    "colorbar": {
                                                        "outlinewidth": 0,
                                                        "ticks": ""
                                                    }
                                                },
                                                "type": "scattercarpet"
                                            }
                                        ],
                                        "scattergeo": [
                                            {
                                                "marker": {
                                                    "colorbar": {
                                                        "outlinewidth": 0,
                                                        "ticks": ""
                                                    }
                                                },
                                                "type": "scattergeo"
                                            }
                                        ],
                                        "scattergl": [
                                            {
                                                "marker": {
                                                    "colorbar": {
                                                        "outlinewidth": 0,
                                                        "ticks": ""
                                                    }
                                                },
                                                "type": "scattergl"
                                            }
                                        ],
                                        "scattermapbox": [
                                            {
                                                "marker": {
                                                    "colorbar": {
                                                        "outlinewidth": 0,
                                                        "ticks": ""
                                                    }
                                                },
                                                "type": "scattermapbox"
                                            }
                                        ],
                                        "scatterpolar": [
                                            {
                                                "marker": {
                                                    "colorbar": {
                                                        "outlinewidth": 0,
                                                        "ticks": ""
                                                    }
                                                },
                                                "type": "scatterpolar"
                                            }
                                        ],
                                        "scatterpolargl": [
                                            {
                                                "marker": {
                                                    "colorbar": {
                                                        "outlinewidth": 0,
                                                        "ticks": ""
                                                    }
                                                },
                                                "type": "scatterpolargl"
                                            }
                                        ],
                                        "scatterternary": [
                                            {
                                                "marker": {
                                                    "colorbar": {
                                                        "outlinewidth": 0,
                                                        "ticks": ""
                                                    }
                                                },
                                                "type": "scatterternary"
                                            }
                                        ],
                                        "surface": [
                                            {
                                                "colorbar": {
                                                    "outlinewidth": 0,
                                                    "ticks": ""
                                                },
                                                "colorscale": [
                                                    [
                                                        0,
                                                        "#0d0887"
                                                    ],
                                                    [
                                                        0.1111111111111111,
                                                        "#46039f"
                                                    ],
                                                    [
                                                        0.2222222222222222,
                                                        "#7201a8"
                                                    ],
                                                    [
                                                        0.3333333333333333,
                                                        "#9c179e"
                                                    ],
                                                    [
                                                        0.4444444444444444,
                                                        "#bd3786"
                                                    ],
                                                    [
                                                        0.5555555555555556,
                                                        "#d8576b"
                                                    ],
                                                    [
                                                        0.6666666666666666,
                                                        "#ed7953"
                                                    ],
                                                    [
                                                        0.7777777777777778,
                                                        "#fb9f3a"
                                                    ],
                                                    [
                                                        0.8888888888888888,
                                                        "#fdca26"
                                                    ],
                                                    [
                                                        1,
                                                        "#f0f921"
                                                    ]
                                                ],
                                                "type": "surface"
                                            }
                                        ],
                                        "table": [
                                            {
                                                "cells": {
                                                    "fill": {
                                                        "color": "#EBF0F8"
                                                    },
                                                    "line": {
                                                        "color": "white"
                                                    }
                                                },
                                                "header": {
                                                    "fill": {
                                                        "color": "#C8D4E3"
                                                    },
                                                    "line": {
                                                        "color": "white"
                                                    }
                                                },
                                                "type": "table"
                                            }
                                        ]
                                    },
                                    "layout": {
                                        "annotationdefaults": {
                                            "arrowcolor": "#2a3f5f",
                                            "arrowhead": 0,
                                            "arrowwidth": 1
                                        },
                                        "autotypenumbers": "strict",
                                        "coloraxis": {
                                            "colorbar": {
                                                "outlinewidth": 0,
                                                "ticks": ""
                                            }
                                        },
                                        "colorscale": {
                                            "diverging": [
                                                [
                                                    0,
                                                    "#8e0152"
                                                ],
                                                [
                                                    0.1,
                                                    "#c51b7d"
                                                ],
                                                [
                                                    0.2,
                                                    "#de77ae"
                                                ],
                                                [
                                                    0.3,
                                                    "#f1b6da"
                                                ],
                                                [
                                                    0.4,
                                                    "#fde0ef"
                                                ],
                                                [
                                                    0.5,
                                                    "#f7f7f7"
                                                ],
                                                [
                                                    0.6,
                                                    "#e6f5d0"
                                                ],
                                                [
                                                    0.7,
                                                    "#b8e186"
                                                ],
                                                [
                                                    0.8,
                                                    "#7fbc41"
                                                ],
                                                [
                                                    0.9,
                                                    "#4d9221"
                                                ],
                                                [
                                                    1,
                                                    "#276419"
                                                ]
                                            ],
                                            "sequential": [
                                                [
                                                    0,
                                                    "#0d0887"
                                                ],
                                                [
                                                    0.1111111111111111,
                                                    "#46039f"
                                                ],
                                                [
                                                    0.2222222222222222,
                                                    "#7201a8"
                                                ],
                                                [
                                                    0.3333333333333333,
                                                    "#9c179e"
                                                ],
                                                [
                                                    0.4444444444444444,
                                                    "#bd3786"
                                                ],
                                                [
                                                    0.5555555555555556,
                                                    "#d8576b"
                                                ],
                                                [
                                                    0.6666666666666666,
                                                    "#ed7953"
                                                ],
                                                [
                                                    0.7777777777777778,
                                                    "#fb9f3a"
                                                ],
                                                [
                                                    0.8888888888888888,
                                                    "#fdca26"
                                                ],
                                                [
                                                    1,
                                                    "#f0f921"
                                                ]
                                            ],
                                            "sequentialminus": [
                                                [
                                                    0,
                                                    "#0d0887"
                                                ],
                                                [
                                                    0.1111111111111111,
                                                    "#46039f"
                                                ],
                                                [
                                                    0.2222222222222222,
                                                    "#7201a8"
                                                ],
                                                [
                                                    0.3333333333333333,
                                                    "#9c179e"
                                                ],
                                                [
                                                    0.4444444444444444,
                                                    "#bd3786"
                                                ],
                                                [
                                                    0.5555555555555556,
                                                    "#d8576b"
                                                ],
                                                [
                                                    0.6666666666666666,
                                                    "#ed7953"
                                                ],
                                                [
                                                    0.7777777777777778,
                                                    "#fb9f3a"
                                                ],
                                                [
                                                    0.8888888888888888,
                                                    "#fdca26"
                                                ],
                                                [
                                                    1,
                                                    "#f0f921"
                                                ]
                                            ]
                                        },
                                        "colorway": [
                                            "#636efa",
                                            "#EF553B",
                                            "#00cc96",
                                            "#ab63fa",
                                            "#FFA15A",
                                            "#19d3f3",
                                            "#FF6692",
                                            "#B6E880",
                                            "#FF97FF",
                                            "#FECB52"
                                        ],
                                        "font": {
                                            "color": "#2a3f5f"
                                        },
                                        "geo": {
                                            "bgcolor": "white",
                                            "lakecolor": "white",
                                            "landcolor": "#E5ECF6",
                                            "showlakes": true,
                                            "showland": true,
                                            "subunitcolor": "white"
                                        },
                                        "hoverlabel": {
                                            "align": "left"
                                        },
                                        "hovermode": "closest",
                                        "mapbox": {
                                            "style": "light"
                                        },
                                        "paper_bgcolor": "white",
                                        "plot_bgcolor": "#E5ECF6",
                                        "polar": {
                                            "angularaxis": {
                                                "gridcolor": "white",
                                                "linecolor": "white",
                                                "ticks": ""
                                            },
                                            "bgcolor": "#E5ECF6",
                                            "radialaxis": {
                                                "gridcolor": "white",
                                                "linecolor": "white",
                                                "ticks": ""
                                            }
                                        },
                                        "scene": {
                                            "xaxis": {
                                                "backgroundcolor": "#E5ECF6",
                                                "gridcolor": "white",
                                                "gridwidth": 2,
                                                "linecolor": "white",
                                                "showbackground": true,
                                                "ticks": "",
                                                "zerolinecolor": "white"
                                            },
                                            "yaxis": {
                                                "backgroundcolor": "#E5ECF6",
                                                "gridcolor": "white",
                                                "gridwidth": 2,
                                                "linecolor": "white",
                                                "showbackground": true,
                                                "ticks": "",
                                                "zerolinecolor": "white"
                                            },
                                            "zaxis": {
                                                "backgroundcolor": "#E5ECF6",
                                                "gridcolor": "white",
                                                "gridwidth": 2,
                                                "linecolor": "white",
                                                "showbackground": true,
                                                "ticks": "",
                                                "zerolinecolor": "white"
                                            }
                                        },
                                        "shapedefaults": {
                                            "line": {
                                                "color": "#2a3f5f"
                                            }
                                        },
                                        "ternary": {
                                            "aaxis": {
                                                "gridcolor": "white",
                                                "linecolor": "white",
                                                "ticks": ""
                                            },
                                            "baxis": {
                                                "gridcolor": "white",
                                                "linecolor": "white",
                                                "ticks": ""
                                            },
                                            "bgcolor": "#E5ECF6",
                                            "caxis": {
                                                "gridcolor": "white",
                                                "linecolor": "white",
                                                "ticks": ""
                                            }
                                        },
                                        "title": {
                                            "x": 0.05
                                        },
                                        "xaxis": {
                                            "automargin": true,
                                            "gridcolor": "white",
                                            "linecolor": "white",
                                            "ticks": "",
                                            "title": {
                                                "standoff": 15
                                            },
                                            "zerolinecolor": "white",
                                            "zerolinewidth": 2
                                        },
                                        "yaxis": {
                                            "automargin": true,
                                            "gridcolor": "white",
                                            "linecolor": "white",
                                            "ticks": "",
                                            "title": {
                                                "standoff": 15
                                            },
                                            "zerolinecolor": "white",
                                            "zerolinewidth": 2
                                        }
                                    }
                                },
                                "title": {
                                    "text": "Comparison of the AR priors learnt on Breathe and Smartcare"
                                },
                                "xaxis": {
                                    "anchor": "y",
                                    "domain": [
                                        0,
                                        1
                                    ],
                                    "matches": "x2",
                                    "nticks": 20,
                                    "range": [
                                        0,
                                        90
                                    ],
                                    "showticklabels": false,
                                    "title": {}
                                },
                                "xaxis2": {
                                    "anchor": "y2",
                                    "domain": [
                                        0,
                                        1
                                    ]
                                },
                                "yaxis": {
                                    "anchor": "x",
                                    "domain": [
                                        0.575,
                                        1
                                    ]
                                },
                                "yaxis2": {
                                    "anchor": "x2",
                                    "domain": [
                                        0,
                                        0.425
                                    ]
                                }
                            }
                        }
                    },
                    "metadata": {},
                    "output_type": "display_data"
                }
            ],
            "source": [
                "title = f\"Comparison of the AR priors learnt on Breathe and Smartcare\"\n",
                "\n",
                "fig = make_subplots(rows=2, cols=1, shared_xaxes=True)\n",
                "ih.plot_histogram(fig, AR, ar_dist_BR, AR.a, AR.b, 1, 1, None)\n",
                "# name trace to breathe data\n",
                "fig.data[0].name = \"Breathe data\"\n",
                "# ih.plot_histogram(fig, AR, ar_dist_SC, AR.a, AR.b, 2, 1, AR.name)\n",
                "# fig.data[1].name = \"Smartcare data\"\n",
                "fig.update_layout(showlegend=True, font=dict(size=10), title=title)\n",
                "fig.write_image(dh.get_path_to_main() + f\"PlotsCrossStudies/{title}.pdf\")\n",
                "fig.show()"
            ]
        },
        {
            "cell_type": "code",
            "execution_count": null,
            "metadata": {},
            "outputs": [],
            "source": []
        }
    ],
    "metadata": {
        "kernelspec": {
            "display_name": "phd",
            "language": "python",
            "name": "python3"
        },
        "language_info": {
            "codemirror_mode": {
                "name": "ipython",
                "version": 3
            },
            "file_extension": ".py",
            "mimetype": "text/x-python",
            "name": "python",
            "nbconvert_exporter": "python",
            "pygments_lexer": "ipython3",
            "version": "3.10.13"
        }
    },
    "nbformat": 4,
    "nbformat_minor": 2
}
