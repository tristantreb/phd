{
 "cells": [
  {
   "cell_type": "code",
   "execution_count": 1,
   "metadata": {},
   "outputs": [],
   "source": [
    "import pandas as pd\n",
    "import numpy as np\n",
    "\n",
    "import data.breathe_data as bd\n",
    "import data.helpers as dh\n",
    "import models.builders as mb\n",
    "from plotly.subplots import make_subplots\n",
    "from plotly import graph_objects as go\n",
    "import inference.helpers as ih"
   ]
  },
  {
   "cell_type": "code",
   "execution_count": 2,
   "metadata": {},
   "outputs": [
    {
     "name": "stderr",
     "output_type": "stream",
     "text": [
      "INFO:root:* Checking for same day measurements *\n"
     ]
    }
   ],
   "source": [
    "# Checked that obs indices are correct, see ipynb mentioned above(01.05.2025)\n",
    "df = bd.load_meas_from_excel(\"BR_O2_FEV1_FEF2575_conservative_smoothing_with_idx\")"
   ]
  },
  {
   "cell_type": "code",
   "execution_count": 3,
   "metadata": {},
   "outputs": [],
   "source": [
    "df_fev1 = bd.load_meas_from_excel(\n",
    "    \"infer_AR_using_fev1_01052025\", [\"AR\", \"HFEV1\", \"HO2Sat\"], bypass_sanity_checks=True\n",
    ").drop(columns=[\"HO2Sat\"])\n",
    "df_fev1.rename(\n",
    "    {\n",
    "        \"AR\": \"AR_fev1\",\n",
    "        \"HFEV1\": \"HFEV1_fev1\",\n",
    "    },\n",
    "    axis=1,\n",
    "    inplace=True,\n",
    ")"
   ]
  },
  {
   "cell_type": "code",
   "execution_count": 4,
   "metadata": {},
   "outputs": [],
   "source": [
    "df_fev1_o2 = bd.load_meas_from_excel(\n",
    "    \"infer_AR_using_o2sat_fev1_01052025\", [\"AR\", \"HFEV1\"], bypass_sanity_checks=True\n",
    ").drop(columns=[\"IA\", \"HO2Sat\"])\n",
    "df_fev1_o2.rename(\n",
    "    {\n",
    "        \"AR\": \"AR_fev1_o2\",\n",
    "        \"HFEV1\": \"HFEV1_fev1_o2\",\n",
    "    },\n",
    "    axis=1,\n",
    "    inplace=True,\n",
    ")"
   ]
  },
  {
   "cell_type": "code",
   "execution_count": 5,
   "metadata": {},
   "outputs": [],
   "source": [
    "df_fev1_o2_2d = bd.load_meas_from_excel(\n",
    "    \"infer_AR_using_two_days_model_o2_fev1_01052025\",\n",
    "    [\"Airway resistance (%)\", \"Healthy FEV1 (L)\"],\n",
    "    date_cols=[\"Day\"],\n",
    "    bypass_sanity_checks=True,\n",
    ").drop(columns=[\"Healthy O2 saturation (%)\"])\n",
    "df_fev1_o2_2d.rename(\n",
    "    {\n",
    "        \"Airway resistance (%)\": \"AR_fev1_o2_2d\",\n",
    "        \"Healthy FEV1 (L)\": \"HFEV1_fev1_o2_2d\",\n",
    "        \"Day\": \"Date Recorded\",\n",
    "    },\n",
    "    axis=1,\n",
    "    inplace=True,\n",
    ")"
   ]
  },
  {
   "cell_type": "code",
   "execution_count": 6,
   "metadata": {},
   "outputs": [],
   "source": [
    "# join df to df_fev1 on ID and Date Recorded\n",
    "cols = [\n",
    "    \"ID\",\n",
    "    \"Date Recorded\",\n",
    "    \"ecFEV1 % Predicted\",\n",
    "    \"O2 Saturation\",\n",
    "    \"Height\",\n",
    "    \"Age\",\n",
    "    \"Sex\",\n",
    "]\n",
    "df_res = pd.merge(df[cols], df_fev1, on=[\"ID\", \"Date Recorded\"], how=\"inner\")\n",
    "df_res = pd.merge(df_res, df_fev1_o2, on=[\"ID\", \"Date Recorded\"], how=\"inner\")\n",
    "df_res = pd.merge(df_res, df_fev1_o2_2d, on=[\"ID\", \"Date Recorded\"], how=\"inner\")"
   ]
  },
  {
   "cell_type": "code",
   "execution_count": 7,
   "metadata": {},
   "outputs": [],
   "source": [
    "# Add records count per ID\n",
    "df_count = (\n",
    "    df_res.groupby(\"ID\")\n",
    "    .apply(lambda df: len(df))\n",
    "    .reset_index()\n",
    "    .rename(columns={0: \"count\"})\n",
    ")\n",
    "df_res = pd.merge(df_res, df_count, on=[\"ID\"])"
   ]
  },
  {
   "cell_type": "code",
   "execution_count": 8,
   "metadata": {},
   "outputs": [],
   "source": [
    "# Add max ecFEV1 % pred\n",
    "df_max_fev = (\n",
    "    df_res.groupby(\"ID\")\n",
    "    .apply(lambda df: df[\"ecFEV1 % Predicted\"].max())\n",
    "    .reset_index()\n",
    "    .rename(columns={0: \"max ecFEV1 % Predicted\"})\n",
    ")\n",
    "df_res = pd.merge(df_res, df_max_fev, on=[\"ID\"])\n",
    "df_res[\"FEV delta\"] = df_res[\"max ecFEV1 % Predicted\"] - df_res[\"ecFEV1 % Predicted\"]"
   ]
  },
  {
   "cell_type": "code",
   "execution_count": 9,
   "metadata": {},
   "outputs": [],
   "source": [
    "# Add avg o2 sat\n",
    "df_avg_o2 = (\n",
    "    df_res.groupby(\"ID\")\n",
    "    .apply(lambda df: df[\"O2 Saturation\"].mean())\n",
    "    .reset_index()\n",
    "    .rename(columns={0: \"Avg O2 saturation\"})\n",
    ")\n",
    "df_res = pd.merge(df_res, df_avg_o2, on=[\"ID\"])"
   ]
  },
  {
   "cell_type": "code",
   "execution_count": 10,
   "metadata": {},
   "outputs": [
    {
     "data": {
      "text/plain": [
       "Index([3448, 33235, 36519, 35294, 12396], dtype='int64')"
      ]
     },
     "execution_count": 10,
     "metadata": {},
     "output_type": "execute_result"
    }
   ],
   "source": [
    "# df_res.sort_values(by=\"FEV delta\", ascending=False)[0:5]\n",
    "# df_res.sort_values(by=[\"ecFEV1 % Predicted\", \"O2 Saturation\"], ascending=True)[0:5]\n",
    "indices_max_avg_o2_min_ecfev1 = (\n",
    "    df_res.groupby(\"ID\")\n",
    "    .apply(\n",
    "        lambda df: df.reset_index()\n",
    "        .sort_values(by=[\"ecFEV1 % Predicted\"], ascending=True)\n",
    "        .iloc[0]\n",
    "    )[\"index\"]\n",
    "    .values\n",
    ")\n",
    "indices_over_30_datapoints = df_res[df_res[\"count\"] > 30].index\n",
    "indices_max_avg_o2_below_94 = df_res[df_res[\"Avg O2 saturation\"] < 94].index\n",
    "mask = list(\n",
    "    set(indices_max_avg_o2_min_ecfev1)\n",
    "    .intersection(indices_max_avg_o2_below_94)\n",
    "    .intersection(indices_over_30_datapoints)\n",
    ")\n",
    "df_res.iloc[mask].sort_values(\n",
    "    by=[\"Avg O2 saturation\", \"ecFEV1 % Predicted\"], ascending=[True, True]\n",
    ").index"
   ]
  },
  {
   "cell_type": "markdown",
   "metadata": {},
   "source": [
    "# Plot examples of narrowed in posteriors"
   ]
  },
  {
   "cell_type": "code",
   "execution_count": 54,
   "metadata": {},
   "outputs": [
    {
     "data": {
      "text/plain": [
       "Index([1650, 1651, 1652, 1653, 1654], dtype='int64')"
      ]
     },
     "execution_count": 54,
     "metadata": {},
     "output_type": "execute_result"
    }
   ],
   "source": [
    "df_res_last_30[df_res_last_30[\"ID\"] == \"101\"][0:5].index"
   ]
  },
  {
   "cell_type": "code",
   "execution_count": 55,
   "metadata": {},
   "outputs": [
    {
     "name": "stdout",
     "output_type": "stream",
     "text": [
      "1650\n",
      "101, 2023-10-13, i=1650, o2 avg=97.46%, ecFEV1%=47.09\n",
      "1651\n",
      "101, 2023-10-14, i=1651, o2 avg=97.46%, ecFEV1%=46.81\n",
      "1652\n",
      "101, 2023-10-15, i=1652, o2 avg=97.46%, ecFEV1%=44.87\n",
      "1653\n",
      "101, 2023-10-16, i=1653, o2 avg=97.46%, ecFEV1%=45.71\n",
      "1654\n",
      "101, 2023-10-17, i=1654, o2 avg=97.46%, ecFEV1%=47.09\n"
     ]
    }
   ],
   "source": [
    "# i = 2955\n",
    "# fev1 and o2: see impact of very low o2\n",
    "# Impact of min o2 shouldn't get propagated back to hfev1 because it's more due to sudden infection rather than permanent lung damage\n",
    "# indices = [6311, 35304]\n",
    "# However, avg o2 is low (or max o2) is relevant. -  Avg o2 sat < 94, min ecfev1, > 30 datapoints\n",
    "# indices = [35294]\n",
    "# Unexpectedly small lungs. Below 30% of ecFE1%Predicted (life threatening), expects lower max o2, hence healthy oxygenation must be due to smaller lungs. Ex: o2 = 100, min and max ecfev1.\n",
    "# → use app\n",
    "# Exclude o2 from longitudinal model due to calibration issues\n",
    "\n",
    "# Shared hfev1/ar uncertainty: small healthy lungs or big lungs with disease\n",
    "# Unexpectedly big lungs with disease: high fev1 % pred delta (benefit of 2nd day)\n",
    "# indices = [18452, 33198, 2330, 2975, 18430]\n",
    "# Unexpectedly small lungs: low fev1 % pred but no permanent lung damage (high fef2575%fev1) → show without fef2575 then with\n",
    "\n",
    "# Super high fev1\n",
    "# indices = [37113]\n",
    "\n",
    "indices = [1650, 1651, 1652, 1653, 1654]\n",
    "\n",
    "for i in indices:\n",
    "    print(i)\n",
    "    id = df.loc[i, \"ID\"]\n",
    "    (\n",
    "        _,\n",
    "        inf_alg,\n",
    "        HFEV1,\n",
    "        uecFEV1,\n",
    "        ecFEV1,\n",
    "        AR,\n",
    "        HO2Sat,\n",
    "        O2SatFFA,\n",
    "        IA,\n",
    "        UO2Sat,\n",
    "        O2Sat,\n",
    "        ecFEF2575prctecFEV1,\n",
    "    ) = mb.o2sat_fev1_fef2575_point_in_time_model_noise_shared_healthy_vars(\n",
    "        df_res.iloc[i].Height,\n",
    "        df_res.iloc[i].Age,\n",
    "        df_res.iloc[i].Sex,\n",
    "        ia_prior=\"uniform\",\n",
    "        ar_prior=\"uniform\",\n",
    "        ecfev1_noise_model_cpt_suffix=\"_std_add_mult_ecfev1\",\n",
    "        ar_fef2575_cpt_suffix=\"_ecfev1_2_days_model_add_mult_noise\",\n",
    "    )\n",
    "\n",
    "    fig = make_subplots(\n",
    "        rows=4,\n",
    "        cols=3,\n",
    "        shared_xaxes=True,\n",
    "    )\n",
    "    first_data_col = 2\n",
    "\n",
    "    def add_fev1_prct_pred_line(fig, val, y_max, row, col):\n",
    "        fig.add_shape(\n",
    "            type=\"line\",\n",
    "            # opacity=0.1,\n",
    "            x0=val,\n",
    "            y0=0,\n",
    "            x1=val,\n",
    "            y1=y_max * 1.1,\n",
    "            line=dict(color=\"black\", width=2, dash=\"dash\"),\n",
    "            # fillcolor=\"red\",\n",
    "            # line_width=0,\n",
    "            row=row,\n",
    "            col=col,\n",
    "        )\n",
    "        return -1\n",
    "\n",
    "    def add_hists(fig, hfev1_col, ar_col, i, row):\n",
    "        ih.plot_histogram(\n",
    "            fig,\n",
    "            HFEV1,\n",
    "            df_res.loc[i, hfev1_col],\n",
    "            HFEV1.a,\n",
    "            HFEV1.b,\n",
    "            row,\n",
    "            first_data_col,\n",
    "            f\" {hfev1_col}\",\n",
    "            \"#009e73\",\n",
    "        )\n",
    "        ih.plot_histogram(\n",
    "            fig,\n",
    "            AR,\n",
    "            df_res.loc[i, ar_col],\n",
    "            AR.a,\n",
    "            AR.b,\n",
    "            row,\n",
    "            first_data_col + 1,\n",
    "            f\" {ar_col}\",\n",
    "            \"#d55e00\",\n",
    "            clean_ticks=True,\n",
    "        )\n",
    "        add_fev1_prct_pred_line(\n",
    "            fig,\n",
    "            max(100 - df_res.loc[i, \"ecFEV1 % Predicted\"], 0),\n",
    "            max(df_res.loc[i, ar_col]),\n",
    "            row,\n",
    "            first_data_col + 1,\n",
    "        )\n",
    "\n",
    "    ih.plot_histogram(\n",
    "        fig,\n",
    "        HFEV1,\n",
    "        HFEV1.cpt,\n",
    "        HFEV1.a,\n",
    "        HFEV1.b,\n",
    "        1,\n",
    "        first_data_col,\n",
    "        HFEV1.name + \" prior\",\n",
    "        \"#009e73\",\n",
    "    )\n",
    "    ih.plot_histogram(\n",
    "        fig,\n",
    "        AR,\n",
    "        AR.cpt,\n",
    "        AR.a,\n",
    "        AR.b,\n",
    "        1,\n",
    "        first_data_col + 1,\n",
    "        AR.name + \" prior\",\n",
    "        \"#d55e00\",\n",
    "        clean_ticks=True,\n",
    "    )\n",
    "    add_fev1_prct_pred_line(\n",
    "        fig,\n",
    "        max(100 - df_res.loc[i, \"ecFEV1 % Predicted\"], 0),\n",
    "        max(AR.cpt),\n",
    "        1,\n",
    "        first_data_col + 1,\n",
    "    )\n",
    "\n",
    "    add_hists(fig, \"HFEV1_fev1\", \"AR_fev1\", i, 2)\n",
    "    add_hists(fig, \"HFEV1_fev1_o2\", \"AR_fev1_o2\", i, 3)\n",
    "    add_hists(fig, \"HFEV1_fev1_o2_2d\", \"AR_fev1_o2_2d\", i, 4)\n",
    "\n",
    "    # Add \"prior knowledge\" on col 1, row 1\n",
    "    fig.add_annotation(\n",
    "        x=0.2,\n",
    "        y=3.5 / 4,\n",
    "        text=\"Prior knowledge\",\n",
    "        xref=\"paper\",\n",
    "        yref=\"paper\",\n",
    "        xanchor=\"center\",\n",
    "        yanchor=\"middle\",\n",
    "        showarrow=False,\n",
    "    )\n",
    "    add_text_box(fig, text=\"Your text here<br>Second line<br>Third line\", row=2, col=1)\n",
    "\n",
    "    title = f\"{id}, {df_res.loc[i, 'Date Recorded']}, i={i}, o2 avg={df_res.loc[i, 'Avg O2 saturation']:.2f}%, ecFEV1%={df_res.loc[i, 'ecFEV1 % Predicted']:.2f}\"\n",
    "    print(title)\n",
    "\n",
    "    fig.update_layout(\n",
    "        showlegend=False,\n",
    "        height=500,\n",
    "        width=800,\n",
    "        font=dict(size=11),\n",
    "        bargap=0.01,\n",
    "        title=title,\n",
    "        # margin=dict(l=20, r=20, b=20, t=20),\n",
    "    )\n",
    "\n",
    "    # fig.show()\n",
    "    fig.write_image(f\"{dh.get_path_to_main()}PlotsBreathe/Narrowing_in/{title}.pdf\")"
   ]
  },
  {
   "cell_type": "code",
   "execution_count": 11,
   "metadata": {},
   "outputs": [],
   "source": [
    "def add_text_box(fig, text, row, col):\n",
    "    # Get the subplot's domain coordinates\n",
    "    x_domain = fig.get_subplot(row, col).xaxis.domain\n",
    "    y_domain = fig.get_subplot(row, col).yaxis.domain\n",
    "    # print(x_domain, y_domain)\n",
    "\n",
    "    # Add rectangle\n",
    "    fig.add_shape(\n",
    "        type=\"rect\",\n",
    "        x0=x_domain[0] - 1,\n",
    "        x1=x_domain[1] * 25,\n",
    "        y0=y_domain[0],\n",
    "        y1=y_domain[1],\n",
    "        line=dict(color=\"black\", width=0),\n",
    "        fillcolor=\"white\",\n",
    "        xref=\"paper\",\n",
    "        yref=\"paper\",\n",
    "        row=row,\n",
    "        col=col,\n",
    "    )\n",
    "\n",
    "    # Add text\n",
    "    fig.add_annotation(\n",
    "        x=(x_domain[0] + x_domain[1]) / 2,  # center x\n",
    "        y=(y_domain[0] + y_domain[1]) / 2,  # center y\n",
    "        text=text,\n",
    "        showarrow=False,\n",
    "        font=dict(size=12),\n",
    "        xref=\"paper\",\n",
    "        yref=\"paper\",\n",
    "        xanchor=\"center\",\n",
    "        yanchor=\"middle\",\n",
    "        row=row,\n",
    "        col=col,\n",
    "    )"
   ]
  },
  {
   "cell_type": "markdown",
   "metadata": {},
   "source": [
    "# Who can the model help?"
   ]
  },
  {
   "cell_type": "code",
   "execution_count": 44,
   "metadata": {},
   "outputs": [],
   "source": [
    "# Filter out IDs with less than 30 datapoints\n",
    "df_res_enough_data = df_res[df_res[\"count\"] >= 100]\n",
    "df_res_enough_data = df_res[df_res[\"count\"] >= 10]"
   ]
  },
  {
   "cell_type": "code",
   "execution_count": 45,
   "metadata": {},
   "outputs": [],
   "source": [
    "# Get the last 30 days of data for each ID\n",
    "df_res_min_30_ecfev1 = df_res_enough_data.sort_values([\"ID\", \"ecFEV1 % Predicted\"])\n",
    "df_res_min_30_ecfev1 = df_res_min_30_ecfev1.groupby(\"ID\").head(30)\n",
    "\n",
    "df_res_last_30 = df_res_enough_data.sort_values([\"ID\", \"Date Recorded\"])\n",
    "df_res_last_30 = df_res_last_30.groupby(\"ID\").tail(30)"
   ]
  },
  {
   "cell_type": "code",
   "execution_count": 107,
   "metadata": {},
   "outputs": [],
   "source": [
    "# Where AR is underestimated\n",
    "import models.helpers as mh\n",
    "\n",
    "AR = mh.VariableNode(\"Airway resistance (%)\", 0, 90, 2, prior={\"type\": \"uniform\"})\n",
    "\n",
    "\n",
    "def get_dumbell_plot_data(df_res, ar_row):\n",
    "\n",
    "    df_res[f\"{ar_row} mean\"] = df_res[ar_row].apply(lambda row: AR.get_mean(row))\n",
    "    df_res[f\"{ar_row} std\"] = df_res[ar_row].apply(lambda row: AR.get_std(row))\n",
    "    df_res[\"AR_ecFEV1%\"] = 100 - df_res[\"ecFEV1 % Predicted\"]\n",
    "    df_res[f\"{ar_row} - AR_ecFEV1%\"] = df_res[f\"{ar_row} mean\"] - df_res[\"AR_ecFEV1%\"]\n",
    "    # Add value low and high\n",
    "    df_res[f\"{ar_row} low\"] = df_res[f\"{ar_row} mean\"] - df_res[f\"{ar_row} std\"]\n",
    "    df_res[f\"{ar_row} high\"] = df_res[f\"{ar_row} mean\"] + df_res[f\"{ar_row} std\"]\n",
    "\n",
    "    # Create DataFrame with means in separate columns\n",
    "    df_means = (\n",
    "        df_res.groupby(\"ID\")\n",
    "        .agg(\n",
    "            {\n",
    "                f\"{ar_row} std\": \"mean\",\n",
    "                f\"{ar_row} mean\": \"mean\",\n",
    "                \"AR_ecFEV1%\": \"mean\",\n",
    "                f\"{ar_row} - AR_ecFEV1%\": \"mean\",\n",
    "                f\"{ar_row} low\": \"mean\",\n",
    "                f\"{ar_row} high\": \"mean\",\n",
    "            }\n",
    "        )\n",
    "        .rename(\n",
    "            columns={\n",
    "                f\"{ar_row} - AR_ecFEV1%\": f\"Mean {ar_row} - AR_ecFEV1%\",\n",
    "                f\"{ar_row} mean\": f\"Mean {ar_row} prediction\",\n",
    "                f\"{ar_row} std\": f\"Mean {ar_row} std\",\n",
    "                \"AR_ecFEV1%\": \"Mean AR_ecFEV1%\",\n",
    "                f\"{ar_row} low\": f\"Mean {ar_row} low\",\n",
    "                f\"{ar_row} high\": f\"Mean {ar_row} high\",\n",
    "            }\n",
    "        )\n",
    "    ).reset_index()\n",
    "\n",
    "    ids_sorted = df_means.sort_values(\n",
    "        by=f\"Mean {ar_row} - AR_ecFEV1%\", ascending=False\n",
    "    )[\"ID\"].values\n",
    "\n",
    "    # Rename Mean ar row low and high to ar row dist\n",
    "    df_means_2 = df_means.rename(\n",
    "        columns={\n",
    "            f\"Mean {ar_row} low\": f\"Mean {ar_row} dist\",\n",
    "            f\"Mean {ar_row} high\": f\"Mean {ar_row} dist\",\n",
    "        },\n",
    "    )\n",
    "\n",
    "    # Melt the dataframe to get four rows per ID for three measures\n",
    "    df_means_melted = pd.melt(\n",
    "        df_means_2,\n",
    "        id_vars=[\"ID\"],\n",
    "        value_vars=[\n",
    "            \"Mean AR_ecFEV1%\",\n",
    "            f\"Mean {ar_row} dist\",\n",
    "            f\"Mean {ar_row} prediction\",\n",
    "        ],\n",
    "        var_name=\"measure\",\n",
    "        value_name=\"value\",\n",
    "    )\n",
    "\n",
    "    return df_means_melted.set_index(\"ID\").loc[ids_sorted].reset_index()\n",
    "\n",
    "\n",
    "# Dumbell plot"
   ]
  },
  {
   "cell_type": "code",
   "execution_count": 112,
   "metadata": {},
   "outputs": [
    {
     "data": {
      "text/html": [
       "<div>\n",
       "<style scoped>\n",
       "    .dataframe tbody tr th:only-of-type {\n",
       "        vertical-align: middle;\n",
       "    }\n",
       "\n",
       "    .dataframe tbody tr th {\n",
       "        vertical-align: top;\n",
       "    }\n",
       "\n",
       "    .dataframe thead th {\n",
       "        text-align: right;\n",
       "    }\n",
       "</style>\n",
       "<table border=\"1\" class=\"dataframe\">\n",
       "  <thead>\n",
       "    <tr style=\"text-align: right;\">\n",
       "      <th></th>\n",
       "      <th>ID</th>\n",
       "      <th>measure</th>\n",
       "      <th>value</th>\n",
       "    </tr>\n",
       "  </thead>\n",
       "  <tbody>\n",
       "    <tr>\n",
       "      <th>0</th>\n",
       "      <td>469</td>\n",
       "      <td>Mean AR_ecFEV1%</td>\n",
       "      <td>-23.449175</td>\n",
       "    </tr>\n",
       "    <tr>\n",
       "      <th>1</th>\n",
       "      <td>469</td>\n",
       "      <td>Mean AR_fev1_o2 dist</td>\n",
       "      <td>0.649089</td>\n",
       "    </tr>\n",
       "    <tr>\n",
       "      <th>2</th>\n",
       "      <td>469</td>\n",
       "      <td>Mean AR_fev1_o2 dist</td>\n",
       "      <td>2.868431</td>\n",
       "    </tr>\n",
       "    <tr>\n",
       "      <th>3</th>\n",
       "      <td>469</td>\n",
       "      <td>Mean AR_fev1_o2 prediction</td>\n",
       "      <td>1.758760</td>\n",
       "    </tr>\n",
       "    <tr>\n",
       "      <th>4</th>\n",
       "      <td>370</td>\n",
       "      <td>Mean AR_ecFEV1%</td>\n",
       "      <td>-18.105205</td>\n",
       "    </tr>\n",
       "  </tbody>\n",
       "</table>\n",
       "</div>"
      ],
      "text/plain": [
       "    ID                     measure      value\n",
       "0  469             Mean AR_ecFEV1% -23.449175\n",
       "1  469        Mean AR_fev1_o2 dist   0.649089\n",
       "2  469        Mean AR_fev1_o2 dist   2.868431\n",
       "3  469  Mean AR_fev1_o2 prediction   1.758760\n",
       "4  370             Mean AR_ecFEV1% -18.105205"
      ]
     },
     "execution_count": 112,
     "metadata": {},
     "output_type": "execute_result"
    }
   ],
   "source": [
    "df_ar_fev1_o2.head()"
   ]
  },
  {
   "cell_type": "code",
   "execution_count": 111,
   "metadata": {},
   "outputs": [],
   "source": [
    "df_ar_fev1_o2 = get_dumbell_plot_data(df_res_last_30, \"AR_fev1_o2\")\n",
    "df_ar_fev1_o2_2d = get_dumbell_plot_data(df_res_last_30, \"AR_fev1_o2_2d\")\n",
    "# df_ar_fev1_o2_2d = get_dumbell_plot_data('AR_fev1_o2_2d')"
   ]
  },
  {
   "cell_type": "code",
   "execution_count": 149,
   "metadata": {},
   "outputs": [
    {
     "data": {
      "application/vnd.plotly.v1+json": {
       "config": {
        "plotlyServerURL": "https://plot.ly"
       },
       "data": [
        {
         "marker": {
          "color": "red",
          "size": 3
         },
         "mode": "lines",
         "name": "Mean AR_fev1_o2 dist",
         "type": "scatter",
         "x": [
          0.6490893778091867,
          2.8684310873373717
         ],
         "xaxis": "x",
         "y": [
          "469",
          "469"
         ],
         "yaxis": "y"
        },
        {
         "marker": {
          "color": "red",
          "size": 3
         },
         "mode": "lines",
         "name": "Mean AR_fev1_o2 dist",
         "type": "scatter",
         "x": [
          0.892235335004206,
          5.9681945641239835
         ],
         "xaxis": "x",
         "y": [
          "370",
          "370"
         ],
         "yaxis": "y"
        },
        {
         "marker": {
          "color": "red",
          "size": 3
         },
         "mode": "lines",
         "name": "Mean AR_fev1_o2 dist",
         "type": "scatter",
         "x": [
          0.8188827172138525,
          7.675958926213711
         ],
         "xaxis": "x",
         "y": [
          "281",
          "281"
         ],
         "yaxis": "y"
        },
        {
         "marker": {
          "color": "red",
          "size": 3
         },
         "mode": "lines",
         "name": "Mean AR_fev1_o2 dist",
         "type": "scatter",
         "x": [
          1.0541845879228893,
          8.746660437256223
         ],
         "xaxis": "x",
         "y": [
          "492",
          "492"
         ],
         "yaxis": "y"
        },
        {
         "marker": {
          "color": "red",
          "size": 3
         },
         "mode": "lines",
         "name": "Mean AR_fev1_o2 dist",
         "type": "scatter",
         "x": [
          1.3110761669099642,
          9.230909885272366
         ],
         "xaxis": "x",
         "y": [
          "126",
          "126"
         ],
         "yaxis": "y"
        },
        {
         "marker": {
          "color": "red",
          "size": 3
         },
         "mode": "lines",
         "name": "Mean AR_fev1_o2 dist",
         "type": "scatter",
         "x": [
          1.1852886634192796,
          9.257981728175768
         ],
         "xaxis": "x",
         "y": [
          "113",
          "113"
         ],
         "yaxis": "y"
        },
        {
         "marker": {
          "color": "red",
          "size": 3
         },
         "mode": "lines",
         "name": "Mean AR_fev1_o2 dist",
         "type": "scatter",
         "x": [
          1.3253011151098506,
          9.996319540284155
         ],
         "xaxis": "x",
         "y": [
          "250",
          "250"
         ],
         "yaxis": "y"
        },
        {
         "marker": {
          "color": "red",
          "size": 3
         },
         "mode": "lines",
         "name": "Mean AR_fev1_o2 dist",
         "type": "scatter",
         "x": [
          1.386925088339027,
          10.121650703921587
         ],
         "xaxis": "x",
         "y": [
          "177",
          "177"
         ],
         "yaxis": "y"
        },
        {
         "marker": {
          "color": "red",
          "size": 3
         },
         "mode": "lines",
         "name": "Mean AR_fev1_o2 dist",
         "type": "scatter",
         "x": [
          1.424234200196635,
          10.283672453289087
         ],
         "xaxis": "x",
         "y": [
          "444",
          "444"
         ],
         "yaxis": "y"
        },
        {
         "marker": {
          "color": "red",
          "size": 3
         },
         "mode": "lines",
         "name": "Mean AR_fev1_o2 dist",
         "type": "scatter",
         "x": [
          1.6444990363641132,
          10.967668087805352
         ],
         "xaxis": "x",
         "y": [
          "513",
          "513"
         ],
         "yaxis": "y"
        },
        {
         "marker": {
          "color": "red",
          "size": 3
         },
         "mode": "lines",
         "name": "Mean AR_fev1_o2 dist",
         "type": "scatter",
         "x": [
          1.5666170153308585,
          10.793718907286143
         ],
         "xaxis": "x",
         "y": [
          "512",
          "512"
         ],
         "yaxis": "y"
        },
        {
         "marker": {
          "color": "red",
          "size": 3
         },
         "mode": "lines",
         "name": "Mean AR_fev1_o2 dist",
         "type": "scatter",
         "x": [
          1.7348435703378455,
          11.371222107158422
         ],
         "xaxis": "x",
         "y": [
          "121",
          "121"
         ],
         "yaxis": "y"
        },
        {
         "marker": {
          "color": "red",
          "size": 3
         },
         "mode": "lines",
         "name": "Mean AR_fev1_o2 dist",
         "type": "scatter",
         "x": [
          2.3293034556011083,
          13.805344239444072
         ],
         "xaxis": "x",
         "y": [
          "331",
          "331"
         ],
         "yaxis": "y"
        },
        {
         "marker": {
          "color": "red",
          "size": 3
         },
         "mode": "lines",
         "name": "Mean AR_fev1_o2 dist",
         "type": "scatter",
         "x": [
          4.006792086621738,
          15.892799616717756
         ],
         "xaxis": "x",
         "y": [
          "372",
          "372"
         ],
         "yaxis": "y"
        },
        {
         "marker": {
          "color": "red",
          "size": 3
         },
         "mode": "lines",
         "name": "Mean AR_fev1_o2 dist",
         "type": "scatter",
         "x": [
          2.326824376543718,
          13.17161685607613
         ],
         "xaxis": "x",
         "y": [
          "244",
          "244"
         ],
         "yaxis": "y"
        },
        {
         "marker": {
          "color": "red",
          "size": 3
         },
         "mode": "lines",
         "name": "Mean AR_fev1_o2 dist",
         "type": "scatter",
         "x": [
          2.254988326201757,
          12.934483671491266
         ],
         "xaxis": "x",
         "y": [
          "230",
          "230"
         ],
         "yaxis": "y"
        },
        {
         "marker": {
          "color": "red",
          "size": 3
         },
         "mode": "lines",
         "name": "Mean AR_fev1_o2 dist",
         "type": "scatter",
         "x": [
          2.316630053632818,
          13.128042455076855
         ],
         "xaxis": "x",
         "y": [
          "130",
          "130"
         ],
         "yaxis": "y"
        },
        {
         "marker": {
          "color": "red",
          "size": 3
         },
         "mode": "lines",
         "name": "Mean AR_fev1_o2 dist",
         "type": "scatter",
         "x": [
          3.395797193959652,
          15.89869278589265
         ],
         "xaxis": "x",
         "y": [
          "455",
          "455"
         ],
         "yaxis": "y"
        },
        {
         "marker": {
          "color": "red",
          "size": 3
         },
         "mode": "lines",
         "name": "Mean AR_fev1_o2 dist",
         "type": "scatter",
         "x": [
          2.882125492733136,
          14.521901335333661
         ],
         "xaxis": "x",
         "y": [
          "144",
          "144"
         ],
         "yaxis": "y"
        },
        {
         "marker": {
          "color": "red",
          "size": 3
         },
         "mode": "lines",
         "name": "Mean AR_fev1_o2 dist",
         "type": "scatter",
         "x": [
          4.36768753457788,
          15.905278497242557
         ],
         "xaxis": "x",
         "y": [
          "178",
          "178"
         ],
         "yaxis": "y"
        },
        {
         "marker": {
          "color": "red",
          "size": 3
         },
         "mode": "lines",
         "name": "Mean AR_fev1_o2 dist",
         "type": "scatter",
         "x": [
          3.2897318393031845,
          14.813156041515725
         ],
         "xaxis": "x",
         "y": [
          "302",
          "302"
         ],
         "yaxis": "y"
        },
        {
         "marker": {
          "color": "red",
          "size": 3
         },
         "mode": "lines",
         "name": "Mean AR_fev1_o2 dist",
         "type": "scatter",
         "x": [
          3.3728675949578157,
          15.616573591322801
         ],
         "xaxis": "x",
         "y": [
          "297",
          "297"
         ],
         "yaxis": "y"
        },
        {
         "marker": {
          "color": "red",
          "size": 3
         },
         "mode": "lines",
         "name": "Mean AR_fev1_o2 dist",
         "type": "scatter",
         "x": [
          4.159821692342008,
          16.868282345011778
         ],
         "xaxis": "x",
         "y": [
          "262",
          "262"
         ],
         "yaxis": "y"
        },
        {
         "marker": {
          "color": "red",
          "size": 3
         },
         "mode": "lines",
         "name": "Mean AR_fev1_o2 dist",
         "type": "scatter",
         "x": [
          3.605185768038043,
          16.6075084403054
         ],
         "xaxis": "x",
         "y": [
          "182",
          "182"
         ],
         "yaxis": "y"
        },
        {
         "marker": {
          "color": "red",
          "size": 3
         },
         "mode": "lines",
         "name": "Mean AR_fev1_o2 dist",
         "type": "scatter",
         "x": [
          3.374909283996165,
          15.133574779286127
         ],
         "xaxis": "x",
         "y": [
          "482",
          "482"
         ],
         "yaxis": "y"
        },
        {
         "marker": {
          "color": "red",
          "size": 3
         },
         "mode": "lines",
         "name": "Mean AR_fev1_o2 dist",
         "type": "scatter",
         "x": [
          4.05529999294568,
          16.9228490644779
         ],
         "xaxis": "x",
         "y": [
          "273",
          "273"
         ],
         "yaxis": "y"
        },
        {
         "marker": {
          "color": "red",
          "size": 3
         },
         "mode": "lines",
         "name": "Mean AR_fev1_o2 dist",
         "type": "scatter",
         "x": [
          4.455810324936956,
          18.523480962466568
         ],
         "xaxis": "x",
         "y": [
          "443",
          "443"
         ],
         "yaxis": "y"
        },
        {
         "marker": {
          "color": "red",
          "size": 3
         },
         "mode": "lines",
         "name": "Mean AR_fev1_o2 dist",
         "type": "scatter",
         "x": [
          3.8202253477841492,
          16.61153653608256
         ],
         "xaxis": "x",
         "y": [
          "255",
          "255"
         ],
         "yaxis": "y"
        },
        {
         "marker": {
          "color": "red",
          "size": 3
         },
         "mode": "lines",
         "name": "Mean AR_fev1_o2 dist",
         "type": "scatter",
         "x": [
          3.722849780525082,
          16.568956009973064
         ],
         "xaxis": "x",
         "y": [
          "407",
          "407"
         ],
         "yaxis": "y"
        },
        {
         "marker": {
          "color": "red",
          "size": 3
         },
         "mode": "lines",
         "name": "Mean AR_fev1_o2 dist",
         "type": "scatter",
         "x": [
          3.6660346979388008,
          15.508908704172365
         ],
         "xaxis": "x",
         "y": [
          "190",
          "190"
         ],
         "yaxis": "y"
        },
        {
         "marker": {
          "color": "red",
          "size": 3
         },
         "mode": "lines",
         "name": "Mean AR_fev1_o2 dist",
         "type": "scatter",
         "x": [
          4.21802581347353,
          17.16279528563555
         ],
         "xaxis": "x",
         "y": [
          "401",
          "401"
         ],
         "yaxis": "y"
        },
        {
         "marker": {
          "color": "red",
          "size": 3
         },
         "mode": "lines",
         "name": "Mean AR_fev1_o2 dist",
         "type": "scatter",
         "x": [
          4.286778894043207,
          17.731439336430984
         ],
         "xaxis": "x",
         "y": [
          "239",
          "239"
         ],
         "yaxis": "y"
        },
        {
         "marker": {
          "color": "red",
          "size": 3
         },
         "mode": "lines",
         "name": "Mean AR_fev1_o2 dist",
         "type": "scatter",
         "x": [
          4.184913421048704,
          17.27170066275118
         ],
         "xaxis": "x",
         "y": [
          "123",
          "123"
         ],
         "yaxis": "y"
        },
        {
         "marker": {
          "color": "red",
          "size": 3
         },
         "mode": "lines",
         "name": "Mean AR_fev1_o2 dist",
         "type": "scatter",
         "x": [
          4.727178936912201,
          18.47984190414073
         ],
         "xaxis": "x",
         "y": [
          "506",
          "506"
         ],
         "yaxis": "y"
        },
        {
         "marker": {
          "color": "red",
          "size": 3
         },
         "mode": "lines",
         "name": "Mean AR_fev1_o2 dist",
         "type": "scatter",
         "x": [
          4.6598445699585405,
          18.140268281602765
         ],
         "xaxis": "x",
         "y": [
          "170",
          "170"
         ],
         "yaxis": "y"
        },
        {
         "marker": {
          "color": "red",
          "size": 3
         },
         "mode": "lines",
         "name": "Mean AR_fev1_o2 dist",
         "type": "scatter",
         "x": [
          6.622863186323698,
          23.75079399436338
         ],
         "xaxis": "x",
         "y": [
          "202",
          "202"
         ],
         "yaxis": "y"
        },
        {
         "marker": {
          "color": "red",
          "size": 3
         },
         "mode": "lines",
         "name": "Mean AR_fev1_o2 dist",
         "type": "scatter",
         "x": [
          5.114903663490171,
          19.070915795585666
         ],
         "xaxis": "x",
         "y": [
          "530",
          "530"
         ],
         "yaxis": "y"
        },
        {
         "marker": {
          "color": "red",
          "size": 3
         },
         "mode": "lines",
         "name": "Mean AR_fev1_o2 dist",
         "type": "scatter",
         "x": [
          5.637504918949076,
          19.556518253554422
         ],
         "xaxis": "x",
         "y": [
          "490",
          "490"
         ],
         "yaxis": "y"
        },
        {
         "marker": {
          "color": "red",
          "size": 3
         },
         "mode": "lines",
         "name": "Mean AR_fev1_o2 dist",
         "type": "scatter",
         "x": [
          5.213506024818105,
          19.335604915762364
         ],
         "xaxis": "x",
         "y": [
          "343",
          "343"
         ],
         "yaxis": "y"
        },
        {
         "marker": {
          "color": "red",
          "size": 3
         },
         "mode": "lines",
         "name": "Mean AR_fev1_o2 dist",
         "type": "scatter",
         "x": [
          5.3287797971475515,
          19.739306642527538
         ],
         "xaxis": "x",
         "y": [
          "296",
          "296"
         ],
         "yaxis": "y"
        },
        {
         "marker": {
          "color": "red",
          "size": 3
         },
         "mode": "lines",
         "name": "Mean AR_fev1_o2 dist",
         "type": "scatter",
         "x": [
          5.1730540250369215,
          19.06556092981596
         ],
         "xaxis": "x",
         "y": [
          "553",
          "553"
         ],
         "yaxis": "y"
        },
        {
         "marker": {
          "color": "red",
          "size": 3
         },
         "mode": "lines",
         "name": "Mean AR_fev1_o2 dist",
         "type": "scatter",
         "x": [
          5.5823277107837175,
          19.888237176271506
         ],
         "xaxis": "x",
         "y": [
          "381",
          "381"
         ],
         "yaxis": "y"
        },
        {
         "marker": {
          "color": "red",
          "size": 3
         },
         "mode": "lines",
         "name": "Mean AR_fev1_o2 dist",
         "type": "scatter",
         "x": [
          5.643803899184471,
          20.260700588592854
         ],
         "xaxis": "x",
         "y": [
          "427",
          "427"
         ],
         "yaxis": "y"
        },
        {
         "marker": {
          "color": "red",
          "size": 3
         },
         "mode": "lines",
         "name": "Mean AR_fev1_o2 dist",
         "type": "scatter",
         "x": [
          5.71109944914031,
          20.317799910833674
         ],
         "xaxis": "x",
         "y": [
          "299",
          "299"
         ],
         "yaxis": "y"
        },
        {
         "marker": {
          "color": "red",
          "size": 3
         },
         "mode": "lines",
         "name": "Mean AR_fev1_o2 dist",
         "type": "scatter",
         "x": [
          6.000307130549009,
          20.722170178084212
         ],
         "xaxis": "x",
         "y": [
          "192",
          "192"
         ],
         "yaxis": "y"
        },
        {
         "marker": {
          "color": "red",
          "size": 3
         },
         "mode": "lines",
         "name": "Mean AR_fev1_o2 dist",
         "type": "scatter",
         "x": [
          5.560779365118715,
          18.59295107082479
         ],
         "xaxis": "x",
         "y": [
          "467",
          "467"
         ],
         "yaxis": "y"
        },
        {
         "marker": {
          "color": "red",
          "size": 3
         },
         "mode": "lines",
         "name": "Mean AR_fev1_o2 dist",
         "type": "scatter",
         "x": [
          5.787341386327055,
          20.475966224278082
         ],
         "xaxis": "x",
         "y": [
          "300",
          "300"
         ],
         "yaxis": "y"
        },
        {
         "marker": {
          "color": "red",
          "size": 3
         },
         "mode": "lines",
         "name": "Mean AR_fev1_o2 dist",
         "type": "scatter",
         "x": [
          4.865353887700513,
          16.802863347480795
         ],
         "xaxis": "x",
         "y": [
          "209",
          "209"
         ],
         "yaxis": "y"
        },
        {
         "marker": {
          "color": "red",
          "size": 3
         },
         "mode": "lines",
         "name": "Mean AR_fev1_o2 dist",
         "type": "scatter",
         "x": [
          5.984014337040862,
          20.85705894846343
         ],
         "xaxis": "x",
         "y": [
          "292",
          "292"
         ],
         "yaxis": "y"
        },
        {
         "marker": {
          "color": "red",
          "size": 3
         },
         "mode": "lines",
         "name": "Mean AR_fev1_o2 dist",
         "type": "scatter",
         "x": [
          6.438880058291052,
          21.44681704730468
         ],
         "xaxis": "x",
         "y": [
          "152",
          "152"
         ],
         "yaxis": "y"
        },
        {
         "marker": {
          "color": "red",
          "size": 3
         },
         "mode": "lines",
         "name": "Mean AR_fev1_o2 dist",
         "type": "scatter",
         "x": [
          6.974598913236416,
          22.244382349748157
         ],
         "xaxis": "x",
         "y": [
          "233",
          "233"
         ],
         "yaxis": "y"
        },
        {
         "marker": {
          "color": "red",
          "size": 3
         },
         "mode": "lines",
         "name": "Mean AR_fev1_o2 dist",
         "type": "scatter",
         "x": [
          6.699658619803011,
          21.85638331818046
         ],
         "xaxis": "x",
         "y": [
          "535",
          "535"
         ],
         "yaxis": "y"
        },
        {
         "marker": {
          "color": "red",
          "size": 3
         },
         "mode": "lines",
         "name": "Mean AR_fev1_o2 dist",
         "type": "scatter",
         "x": [
          6.7368709134141165,
          22.271478474666253
         ],
         "xaxis": "x",
         "y": [
          "312",
          "312"
         ],
         "yaxis": "y"
        },
        {
         "marker": {
          "color": "red",
          "size": 3
         },
         "mode": "lines",
         "name": "Mean AR_fev1_o2 dist",
         "type": "scatter",
         "x": [
          6.882854708805984,
          22.088089631762465
         ],
         "xaxis": "x",
         "y": [
          "125",
          "125"
         ],
         "yaxis": "y"
        },
        {
         "marker": {
          "color": "red",
          "size": 3
         },
         "mode": "lines",
         "name": "Mean AR_fev1_o2 dist",
         "type": "scatter",
         "x": [
          6.492456007761313,
          21.704465487800558
         ],
         "xaxis": "x",
         "y": [
          "307",
          "307"
         ],
         "yaxis": "y"
        },
        {
         "marker": {
          "color": "red",
          "size": 3
         },
         "mode": "lines",
         "name": "Mean AR_fev1_o2 dist",
         "type": "scatter",
         "x": [
          7.802346741229826,
          23.54322098716646
         ],
         "xaxis": "x",
         "y": [
          "242",
          "242"
         ],
         "yaxis": "y"
        },
        {
         "marker": {
          "color": "red",
          "size": 3
         },
         "mode": "lines",
         "name": "Mean AR_fev1_o2 dist",
         "type": "scatter",
         "x": [
          6.5239023976312405,
          21.412927809090174
         ],
         "xaxis": "x",
         "y": [
          "351",
          "351"
         ],
         "yaxis": "y"
        },
        {
         "marker": {
          "color": "red",
          "size": 3
         },
         "mode": "lines",
         "name": "Mean AR_fev1_o2 dist",
         "type": "scatter",
         "x": [
          7.142790017213463,
          22.417603685294008
         ],
         "xaxis": "x",
         "y": [
          "141",
          "141"
         ],
         "yaxis": "y"
        },
        {
         "marker": {
          "color": "red",
          "size": 3
         },
         "mode": "lines",
         "name": "Mean AR_fev1_o2 dist",
         "type": "scatter",
         "x": [
          6.728034019378045,
          21.92127298510703
         ],
         "xaxis": "x",
         "y": [
          "237",
          "237"
         ],
         "yaxis": "y"
        },
        {
         "marker": {
          "color": "red",
          "size": 3
         },
         "mode": "lines",
         "name": "Mean AR_fev1_o2 dist",
         "type": "scatter",
         "x": [
          7.754593747823787,
          24.307110947559195
         ],
         "xaxis": "x",
         "y": [
          "420",
          "420"
         ],
         "yaxis": "y"
        },
        {
         "marker": {
          "color": "red",
          "size": 3
         },
         "mode": "lines",
         "name": "Mean AR_fev1_o2 dist",
         "type": "scatter",
         "x": [
          7.000456656745728,
          22.448232653327867
         ],
         "xaxis": "x",
         "y": [
          "425",
          "425"
         ],
         "yaxis": "y"
        },
        {
         "marker": {
          "color": "red",
          "size": 3
         },
         "mode": "lines",
         "name": "Mean AR_fev1_o2 dist",
         "type": "scatter",
         "x": [
          6.869974013795843,
          21.403039763106328
         ],
         "xaxis": "x",
         "y": [
          "156",
          "156"
         ],
         "yaxis": "y"
        },
        {
         "marker": {
          "color": "red",
          "size": 3
         },
         "mode": "lines",
         "name": "Mean AR_fev1_o2 dist",
         "type": "scatter",
         "x": [
          7.61520136207834,
          23.399117225730777
         ],
         "xaxis": "x",
         "y": [
          "223",
          "223"
         ],
         "yaxis": "y"
        },
        {
         "marker": {
          "color": "red",
          "size": 3
         },
         "mode": "lines",
         "name": "Mean AR_fev1_o2 dist",
         "type": "scatter",
         "x": [
          7.322190454620819,
          23.022456201561575
         ],
         "xaxis": "x",
         "y": [
          "263",
          "263"
         ],
         "yaxis": "y"
        },
        {
         "marker": {
          "color": "red",
          "size": 3
         },
         "mode": "lines",
         "name": "Mean AR_fev1_o2 dist",
         "type": "scatter",
         "x": [
          7.21096260148185,
          22.821139886973473
         ],
         "xaxis": "x",
         "y": [
          "163",
          "163"
         ],
         "yaxis": "y"
        },
        {
         "marker": {
          "color": "red",
          "size": 3
         },
         "mode": "lines",
         "name": "Mean AR_fev1_o2 dist",
         "type": "scatter",
         "x": [
          8.092800330975606,
          24.396192180926977
         ],
         "xaxis": "x",
         "y": [
          "511",
          "511"
         ],
         "yaxis": "y"
        },
        {
         "marker": {
          "color": "red",
          "size": 3
         },
         "mode": "lines",
         "name": "Mean AR_fev1_o2 dist",
         "type": "scatter",
         "x": [
          7.763898323926294,
          23.88059145818353
         ],
         "xaxis": "x",
         "y": [
          "290",
          "290"
         ],
         "yaxis": "y"
        },
        {
         "marker": {
          "color": "red",
          "size": 3
         },
         "mode": "lines",
         "name": "Mean AR_fev1_o2 dist",
         "type": "scatter",
         "x": [
          8.015255261234156,
          24.232895955685944
         ],
         "xaxis": "x",
         "y": [
          "480",
          "480"
         ],
         "yaxis": "y"
        },
        {
         "marker": {
          "color": "red",
          "size": 3
         },
         "mode": "lines",
         "name": "Mean AR_fev1_o2 dist",
         "type": "scatter",
         "x": [
          7.800363040144585,
          23.474949752425292
         ],
         "xaxis": "x",
         "y": [
          "276",
          "276"
         ],
         "yaxis": "y"
        },
        {
         "marker": {
          "color": "red",
          "size": 3
         },
         "mode": "lines",
         "name": "Mean AR_fev1_o2 dist",
         "type": "scatter",
         "x": [
          9.005969030277988,
          24.968858668141873
         ],
         "xaxis": "x",
         "y": [
          "532",
          "532"
         ],
         "yaxis": "y"
        },
        {
         "marker": {
          "color": "red",
          "size": 3
         },
         "mode": "lines",
         "name": "Mean AR_fev1_o2 dist",
         "type": "scatter",
         "x": [
          8.885176668746597,
          25.03328523497582
         ],
         "xaxis": "x",
         "y": [
          "134",
          "134"
         ],
         "yaxis": "y"
        },
        {
         "marker": {
          "color": "red",
          "size": 3
         },
         "mode": "lines",
         "name": "Mean AR_fev1_o2 dist",
         "type": "scatter",
         "x": [
          8.946817412043686,
          25.425484655640464
         ],
         "xaxis": "x",
         "y": [
          "303",
          "303"
         ],
         "yaxis": "y"
        },
        {
         "marker": {
          "color": "red",
          "size": 3
         },
         "mode": "lines",
         "name": "Mean AR_fev1_o2 dist",
         "type": "scatter",
         "x": [
          9.063137629853289,
          25.801864113111762
         ],
         "xaxis": "x",
         "y": [
          "412",
          "412"
         ],
         "yaxis": "y"
        },
        {
         "marker": {
          "color": "red",
          "size": 3
         },
         "mode": "lines",
         "name": "Mean AR_fev1_o2 dist",
         "type": "scatter",
         "x": [
          9.156108884480833,
          26.681177832097134
         ],
         "xaxis": "x",
         "y": [
          "319",
          "319"
         ],
         "yaxis": "y"
        },
        {
         "marker": {
          "color": "red",
          "size": 3
         },
         "mode": "lines",
         "name": "Mean AR_fev1_o2 dist",
         "type": "scatter",
         "x": [
          9.479718954768288,
          25.8583292377184
         ],
         "xaxis": "x",
         "y": [
          "551",
          "551"
         ],
         "yaxis": "y"
        },
        {
         "marker": {
          "color": "red",
          "size": 3
         },
         "mode": "lines",
         "name": "Mean AR_fev1_o2 dist",
         "type": "scatter",
         "x": [
          8.902827970876075,
          25.31698424467414
         ],
         "xaxis": "x",
         "y": [
          "301",
          "301"
         ],
         "yaxis": "y"
        },
        {
         "marker": {
          "color": "red",
          "size": 3
         },
         "mode": "lines",
         "name": "Mean AR_fev1_o2 dist",
         "type": "scatter",
         "x": [
          9.316088281346385,
          26.192576975953877
         ],
         "xaxis": "x",
         "y": [
          "215",
          "215"
         ],
         "yaxis": "y"
        },
        {
         "marker": {
          "color": "red",
          "size": 3
         },
         "mode": "lines",
         "name": "Mean AR_fev1_o2 dist",
         "type": "scatter",
         "x": [
          8.621770803449628,
          24.326131688067576
         ],
         "xaxis": "x",
         "y": [
          "544",
          "544"
         ],
         "yaxis": "y"
        },
        {
         "marker": {
          "color": "red",
          "size": 3
         },
         "mode": "lines",
         "name": "Mean AR_fev1_o2 dist",
         "type": "scatter",
         "x": [
          9.717834955015645,
          27.766916644318176
         ],
         "xaxis": "x",
         "y": [
          "352",
          "352"
         ],
         "yaxis": "y"
        },
        {
         "marker": {
          "color": "red",
          "size": 3
         },
         "mode": "lines",
         "name": "Mean AR_fev1_o2 dist",
         "type": "scatter",
         "x": [
          14.930776439638619,
          30.50743935711538
         ],
         "xaxis": "x",
         "y": [
          "221",
          "221"
         ],
         "yaxis": "y"
        },
        {
         "marker": {
          "color": "red",
          "size": 3
         },
         "mode": "lines",
         "name": "Mean AR_fev1_o2 dist",
         "type": "scatter",
         "x": [
          9.609532602127981,
          26.136318479090715
         ],
         "xaxis": "x",
         "y": [
          "314",
          "314"
         ],
         "yaxis": "y"
        },
        {
         "marker": {
          "color": "red",
          "size": 3
         },
         "mode": "lines",
         "name": "Mean AR_fev1_o2 dist",
         "type": "scatter",
         "x": [
          9.9843881429745,
          26.62213339343344
         ],
         "xaxis": "x",
         "y": [
          "186",
          "186"
         ],
         "yaxis": "y"
        },
        {
         "marker": {
          "color": "red",
          "size": 3
         },
         "mode": "lines",
         "name": "Mean AR_fev1_o2 dist",
         "type": "scatter",
         "x": [
          10.330863957428665,
          27.18242806616566
         ],
         "xaxis": "x",
         "y": [
          "197",
          "197"
         ],
         "yaxis": "y"
        },
        {
         "marker": {
          "color": "red",
          "size": 3
         },
         "mode": "lines",
         "name": "Mean AR_fev1_o2 dist",
         "type": "scatter",
         "x": [
          14.597497838956489,
          31.431221775424923
         ],
         "xaxis": "x",
         "y": [
          "104",
          "104"
         ],
         "yaxis": "y"
        },
        {
         "marker": {
          "color": "red",
          "size": 3
         },
         "mode": "lines",
         "name": "Mean AR_fev1_o2 dist",
         "type": "scatter",
         "x": [
          10.670382713995343,
          28.7813607636292
         ],
         "xaxis": "x",
         "y": [
          "231",
          "231"
         ],
         "yaxis": "y"
        },
        {
         "marker": {
          "color": "red",
          "size": 3
         },
         "mode": "lines",
         "name": "Mean AR_fev1_o2 dist",
         "type": "scatter",
         "x": [
          11.246780605303769,
          27.89750093912355
         ],
         "xaxis": "x",
         "y": [
          "117",
          "117"
         ],
         "yaxis": "y"
        },
        {
         "marker": {
          "color": "red",
          "size": 3
         },
         "mode": "lines",
         "name": "Mean AR_fev1_o2 dist",
         "type": "scatter",
         "x": [
          10.997996799392245,
          27.815133381389654
         ],
         "xaxis": "x",
         "y": [
          "543",
          "543"
         ],
         "yaxis": "y"
        },
        {
         "marker": {
          "color": "red",
          "size": 3
         },
         "mode": "lines",
         "name": "Mean AR_fev1_o2 dist",
         "type": "scatter",
         "x": [
          11.259277090811818,
          28.07460854223273
         ],
         "xaxis": "x",
         "y": [
          "310",
          "310"
         ],
         "yaxis": "y"
        },
        {
         "marker": {
          "color": "red",
          "size": 3
         },
         "mode": "lines",
         "name": "Mean AR_fev1_o2 dist",
         "type": "scatter",
         "x": [
          11.434832195190241,
          29.223370403947662
         ],
         "xaxis": "x",
         "y": [
          "257",
          "257"
         ],
         "yaxis": "y"
        },
        {
         "marker": {
          "color": "red",
          "size": 3
         },
         "mode": "lines",
         "name": "Mean AR_fev1_o2 dist",
         "type": "scatter",
         "x": [
          14.545042365972966,
          31.316537256573294
         ],
         "xaxis": "x",
         "y": [
          "193",
          "193"
         ],
         "yaxis": "y"
        },
        {
         "marker": {
          "color": "red",
          "size": 3
         },
         "mode": "lines",
         "name": "Mean AR_fev1_o2 dist",
         "type": "scatter",
         "x": [
          16.129075749166375,
          32.20815702426415
         ],
         "xaxis": "x",
         "y": [
          "107",
          "107"
         ],
         "yaxis": "y"
        },
        {
         "marker": {
          "color": "red",
          "size": 3
         },
         "mode": "lines",
         "name": "Mean AR_fev1_o2 dist",
         "type": "scatter",
         "x": [
          11.894522088339647,
          28.87388626866454
         ],
         "xaxis": "x",
         "y": [
          "109",
          "109"
         ],
         "yaxis": "y"
        },
        {
         "marker": {
          "color": "red",
          "size": 3
         },
         "mode": "lines",
         "name": "Mean AR_fev1_o2 dist",
         "type": "scatter",
         "x": [
          55.621706506725495,
          66.36064226449714
         ],
         "xaxis": "x",
         "y": [
          "111",
          "111"
         ],
         "yaxis": "y"
        },
        {
         "marker": {
          "color": "red",
          "size": 3
         },
         "mode": "lines",
         "name": "Mean AR_fev1_o2 dist",
         "type": "scatter",
         "x": [
          61.542210200020506,
          70.97150475512373
         ],
         "xaxis": "x",
         "y": [
          "520",
          "520"
         ],
         "yaxis": "y"
        },
        {
         "marker": {
          "color": "red",
          "size": 3
         },
         "mode": "lines",
         "name": "Mean AR_fev1_o2 dist",
         "type": "scatter",
         "x": [
          12.981515427908787,
          30.163103523673172
         ],
         "xaxis": "x",
         "y": [
          "176",
          "176"
         ],
         "yaxis": "y"
        },
        {
         "marker": {
          "color": "red",
          "size": 3
         },
         "mode": "lines",
         "name": "Mean AR_fev1_o2 dist",
         "type": "scatter",
         "x": [
          14.391477435527673,
          31.90805889572959
         ],
         "xaxis": "x",
         "y": [
          "504",
          "504"
         ],
         "yaxis": "y"
        },
        {
         "marker": {
          "color": "red",
          "size": 3
         },
         "mode": "lines",
         "name": "Mean AR_fev1_o2 dist",
         "type": "scatter",
         "x": [
          13.690728109777474,
          30.574923283024173
         ],
         "xaxis": "x",
         "y": [
          "124",
          "124"
         ],
         "yaxis": "y"
        },
        {
         "marker": {
          "color": "red",
          "size": 3
         },
         "mode": "lines",
         "name": "Mean AR_fev1_o2 dist",
         "type": "scatter",
         "x": [
          12.243798893988892,
          29.75310289007199
         ],
         "xaxis": "x",
         "y": [
          "447",
          "447"
         ],
         "yaxis": "y"
        },
        {
         "marker": {
          "color": "red",
          "size": 3
         },
         "mode": "lines",
         "name": "Mean AR_fev1_o2 dist",
         "type": "scatter",
         "x": [
          46.96954593957103,
          59.74060101274873
         ],
         "xaxis": "x",
         "y": [
          "198",
          "198"
         ],
         "yaxis": "y"
        },
        {
         "marker": {
          "color": "red",
          "size": 3
         },
         "mode": "lines",
         "name": "Mean AR_fev1_o2 dist",
         "type": "scatter",
         "x": [
          13.827111611442938,
          30.79545118267694
         ],
         "xaxis": "x",
         "y": [
          "294",
          "294"
         ],
         "yaxis": "y"
        },
        {
         "marker": {
          "color": "red",
          "size": 3
         },
         "mode": "lines",
         "name": "Mean AR_fev1_o2 dist",
         "type": "scatter",
         "x": [
          22.313521085254617,
          38.0160018668892
         ],
         "xaxis": "x",
         "y": [
          "196",
          "196"
         ],
         "yaxis": "y"
        },
        {
         "marker": {
          "color": "red",
          "size": 3
         },
         "mode": "lines",
         "name": "Mean AR_fev1_o2 dist",
         "type": "scatter",
         "x": [
          13.265478436888662,
          30.110349633080638
         ],
         "xaxis": "x",
         "y": [
          "151",
          "151"
         ],
         "yaxis": "y"
        },
        {
         "marker": {
          "color": "red",
          "size": 3
         },
         "mode": "lines",
         "name": "Mean AR_fev1_o2 dist",
         "type": "scatter",
         "x": [
          65.81418881976965,
          73.94874694283968
         ],
         "xaxis": "x",
         "y": [
          "404",
          "404"
         ],
         "yaxis": "y"
        },
        {
         "marker": {
          "color": "red",
          "size": 3
         },
         "mode": "lines",
         "name": "Mean AR_fev1_o2 dist",
         "type": "scatter",
         "x": [
          14.709911127530834,
          31.652524663693693
         ],
         "xaxis": "x",
         "y": [
          "280",
          "280"
         ],
         "yaxis": "y"
        },
        {
         "marker": {
          "color": "red",
          "size": 3
         },
         "mode": "lines",
         "name": "Mean AR_fev1_o2 dist",
         "type": "scatter",
         "x": [
          59.71370840750814,
          69.53713208642917
         ],
         "xaxis": "x",
         "y": [
          "155",
          "155"
         ],
         "yaxis": "y"
        },
        {
         "marker": {
          "color": "red",
          "size": 3
         },
         "mode": "lines",
         "name": "Mean AR_fev1_o2 dist",
         "type": "scatter",
         "x": [
          14.462240475033973,
          31.483367730331373
         ],
         "xaxis": "x",
         "y": [
          "495",
          "495"
         ],
         "yaxis": "y"
        },
        {
         "marker": {
          "color": "red",
          "size": 3
         },
         "mode": "lines",
         "name": "Mean AR_fev1_o2 dist",
         "type": "scatter",
         "x": [
          61.325359668221594,
          70.67338224607572
         ],
         "xaxis": "x",
         "y": [
          "282",
          "282"
         ],
         "yaxis": "y"
        },
        {
         "marker": {
          "color": "red",
          "size": 3
         },
         "mode": "lines",
         "name": "Mean AR_fev1_o2 dist",
         "type": "scatter",
         "x": [
          13.65687676142806,
          33.15044627045259
         ],
         "xaxis": "x",
         "y": [
          "464",
          "464"
         ],
         "yaxis": "y"
        },
        {
         "marker": {
          "color": "red",
          "size": 3
         },
         "mode": "lines",
         "name": "Mean AR_fev1_o2 dist",
         "type": "scatter",
         "x": [
          13.467477509635124,
          31.595555220713283
         ],
         "xaxis": "x",
         "y": [
          "371",
          "371"
         ],
         "yaxis": "y"
        },
        {
         "marker": {
          "color": "red",
          "size": 3
         },
         "mode": "lines",
         "name": "Mean AR_fev1_o2 dist",
         "type": "scatter",
         "x": [
          13.21290130331434,
          31.007159711001965
         ],
         "xaxis": "x",
         "y": [
          "315",
          "315"
         ],
         "yaxis": "y"
        },
        {
         "marker": {
          "color": "red",
          "size": 3
         },
         "mode": "lines",
         "name": "Mean AR_fev1_o2 dist",
         "type": "scatter",
         "x": [
          52.46166842755828,
          63.63202428586232
         ],
         "xaxis": "x",
         "y": [
          "253",
          "253"
         ],
         "yaxis": "y"
        },
        {
         "marker": {
          "color": "red",
          "size": 3
         },
         "mode": "lines",
         "name": "Mean AR_fev1_o2 dist",
         "type": "scatter",
         "x": [
          46.78035680683557,
          58.82184144762507
         ],
         "xaxis": "x",
         "y": [
          "128",
          "128"
         ],
         "yaxis": "y"
        },
        {
         "marker": {
          "color": "red",
          "size": 3
         },
         "mode": "lines",
         "name": "Mean AR_fev1_o2 dist",
         "type": "scatter",
         "x": [
          15.64075315281442,
          32.54273323475412
         ],
         "xaxis": "x",
         "y": [
          "115",
          "115"
         ],
         "yaxis": "y"
        },
        {
         "marker": {
          "color": "red",
          "size": 3
         },
         "mode": "lines",
         "name": "Mean AR_fev1_o2 dist",
         "type": "scatter",
         "x": [
          58.78749316117223,
          68.56308693841143
         ],
         "xaxis": "x",
         "y": [
          "486",
          "486"
         ],
         "yaxis": "y"
        },
        {
         "marker": {
          "color": "red",
          "size": 3
         },
         "mode": "lines",
         "name": "Mean AR_fev1_o2 dist",
         "type": "scatter",
         "x": [
          13.831352244718031,
          31.22931064857478
         ],
         "xaxis": "x",
         "y": [
          "199",
          "199"
         ],
         "yaxis": "y"
        },
        {
         "marker": {
          "color": "red",
          "size": 3
         },
         "mode": "lines",
         "name": "Mean AR_fev1_o2 dist",
         "type": "scatter",
         "x": [
          14.245076719643363,
          31.691705388901912
         ],
         "xaxis": "x",
         "y": [
          "171",
          "171"
         ],
         "yaxis": "y"
        },
        {
         "marker": {
          "color": "red",
          "size": 3
         },
         "mode": "lines",
         "name": "Mean AR_fev1_o2 dist",
         "type": "scatter",
         "x": [
          31.582017044388447,
          46.45105074293463
         ],
         "xaxis": "x",
         "y": [
          "169",
          "169"
         ],
         "yaxis": "y"
        },
        {
         "marker": {
          "color": "red",
          "size": 3
         },
         "mode": "lines",
         "name": "Mean AR_fev1_o2 dist",
         "type": "scatter",
         "x": [
          13.739216429027932,
          31.129398884984344
         ],
         "xaxis": "x",
         "y": [
          "537",
          "537"
         ],
         "yaxis": "y"
        },
        {
         "marker": {
          "color": "red",
          "size": 3
         },
         "mode": "lines",
         "name": "Mean AR_fev1_o2 dist",
         "type": "scatter",
         "x": [
          15.382058374925833,
          33.57088305047086
         ],
         "xaxis": "x",
         "y": [
          "204",
          "204"
         ],
         "yaxis": "y"
        },
        {
         "marker": {
          "color": "red",
          "size": 3
         },
         "mode": "lines",
         "name": "Mean AR_fev1_o2 dist",
         "type": "scatter",
         "x": [
          47.113494604119786,
          59.78066214495177
         ],
         "xaxis": "x",
         "y": [
          "142",
          "142"
         ],
         "yaxis": "y"
        },
        {
         "marker": {
          "color": "red",
          "size": 3
         },
         "mode": "lines",
         "name": "Mean AR_fev1_o2 dist",
         "type": "scatter",
         "x": [
          44.73857051983095,
          58.004568002901735
         ],
         "xaxis": "x",
         "y": [
          "440",
          "440"
         ],
         "yaxis": "y"
        },
        {
         "marker": {
          "color": "red",
          "size": 3
         },
         "mode": "lines",
         "name": "Mean AR_fev1_o2 dist",
         "type": "scatter",
         "x": [
          52.43375691752297,
          63.20323882731144
         ],
         "xaxis": "x",
         "y": [
          "232",
          "232"
         ],
         "yaxis": "y"
        },
        {
         "marker": {
          "color": "red",
          "size": 3
         },
         "mode": "lines",
         "name": "Mean AR_fev1_o2 dist",
         "type": "scatter",
         "x": [
          42.78175134911858,
          56.51688527762949
         ],
         "xaxis": "x",
         "y": [
          "309",
          "309"
         ],
         "yaxis": "y"
        },
        {
         "marker": {
          "color": "red",
          "size": 3
         },
         "mode": "lines",
         "name": "Mean AR_fev1_o2 dist",
         "type": "scatter",
         "x": [
          39.98589080547397,
          54.44897077897196
         ],
         "xaxis": "x",
         "y": [
          "365",
          "365"
         ],
         "yaxis": "y"
        },
        {
         "marker": {
          "color": "red",
          "size": 3
         },
         "mode": "lines",
         "name": "Mean AR_fev1_o2 dist",
         "type": "scatter",
         "x": [
          16.744902848192247,
          34.39606088415676
         ],
         "xaxis": "x",
         "y": [
          "353",
          "353"
         ],
         "yaxis": "y"
        },
        {
         "marker": {
          "color": "red",
          "size": 3
         },
         "mode": "lines",
         "name": "Mean AR_fev1_o2 dist",
         "type": "scatter",
         "x": [
          15.70782940522908,
          33.26139821290052
         ],
         "xaxis": "x",
         "y": [
          "191",
          "191"
         ],
         "yaxis": "y"
        },
        {
         "marker": {
          "color": "red",
          "size": 3
         },
         "mode": "lines",
         "name": "Mean AR_fev1_o2 dist",
         "type": "scatter",
         "x": [
          65.53523996805605,
          73.65124049104926
         ],
         "xaxis": "x",
         "y": [
          "411",
          "411"
         ],
         "yaxis": "y"
        },
        {
         "marker": {
          "color": "red",
          "size": 3
         },
         "mode": "lines",
         "name": "Mean AR_fev1_o2 dist",
         "type": "scatter",
         "x": [
          15.591071905659863,
          33.094811740614496
         ],
         "xaxis": "x",
         "y": [
          "172",
          "172"
         ],
         "yaxis": "y"
        },
        {
         "marker": {
          "color": "red",
          "size": 3
         },
         "mode": "lines",
         "name": "Mean AR_fev1_o2 dist",
         "type": "scatter",
         "x": [
          35.24490780591041,
          49.97431722327942
         ],
         "xaxis": "x",
         "y": [
          "159",
          "159"
         ],
         "yaxis": "y"
        },
        {
         "marker": {
          "color": "red",
          "size": 3
         },
         "mode": "lines",
         "name": "Mean AR_fev1_o2 dist",
         "type": "scatter",
         "x": [
          15.57125974849529,
          33.102459127222275
         ],
         "xaxis": "x",
         "y": [
          "164",
          "164"
         ],
         "yaxis": "y"
        },
        {
         "marker": {
          "color": "red",
          "size": 3
         },
         "mode": "lines",
         "name": "Mean AR_fev1_o2 dist",
         "type": "scatter",
         "x": [
          15.535870785388797,
          32.81310233196893
         ],
         "xaxis": "x",
         "y": [
          "261",
          "261"
         ],
         "yaxis": "y"
        },
        {
         "marker": {
          "color": "red",
          "size": 3
         },
         "mode": "lines",
         "name": "Mean AR_fev1_o2 dist",
         "type": "scatter",
         "x": [
          49.88182925462479,
          61.89927458306697
         ],
         "xaxis": "x",
         "y": [
          "298",
          "298"
         ],
         "yaxis": "y"
        },
        {
         "marker": {
          "color": "red",
          "size": 3
         },
         "mode": "lines",
         "name": "Mean AR_fev1_o2 dist",
         "type": "scatter",
         "x": [
          15.241937004565555,
          32.43899789550557
         ],
         "xaxis": "x",
         "y": [
          "133",
          "133"
         ],
         "yaxis": "y"
        },
        {
         "marker": {
          "color": "red",
          "size": 3
         },
         "mode": "lines",
         "name": "Mean AR_fev1_o2 dist",
         "type": "scatter",
         "x": [
          48.467365662026715,
          61.284472174218905
         ],
         "xaxis": "x",
         "y": [
          "264",
          "264"
         ],
         "yaxis": "y"
        },
        {
         "marker": {
          "color": "red",
          "size": 3
         },
         "mode": "lines",
         "name": "Mean AR_fev1_o2 dist",
         "type": "scatter",
         "x": [
          39.933080506279545,
          53.44957348386969
         ],
         "xaxis": "x",
         "y": [
          "150",
          "150"
         ],
         "yaxis": "y"
        },
        {
         "marker": {
          "color": "red",
          "size": 3
         },
         "mode": "lines",
         "name": "Mean AR_fev1_o2 dist",
         "type": "scatter",
         "x": [
          62.11234202591513,
          70.99794635528377
         ],
         "xaxis": "x",
         "y": [
          "187",
          "187"
         ],
         "yaxis": "y"
        },
        {
         "marker": {
          "color": "red",
          "size": 3
         },
         "mode": "lines",
         "name": "Mean AR_fev1_o2 dist",
         "type": "scatter",
         "x": [
          61.14994345416299,
          73.01012316651692
         ],
         "xaxis": "x",
         "y": [
          "377",
          "377"
         ],
         "yaxis": "y"
        },
        {
         "marker": {
          "color": "red",
          "size": 3
         },
         "mode": "lines",
         "name": "Mean AR_fev1_o2 dist",
         "type": "scatter",
         "x": [
          42.1177856600754,
          55.79733203651277
         ],
         "xaxis": "x",
         "y": [
          "143",
          "143"
         ],
         "yaxis": "y"
        },
        {
         "marker": {
          "color": "red",
          "size": 3
         },
         "mode": "lines",
         "name": "Mean AR_fev1_o2 dist",
         "type": "scatter",
         "x": [
          20.26787793213881,
          36.92542260783352
         ],
         "xaxis": "x",
         "y": [
          "174",
          "174"
         ],
         "yaxis": "y"
        },
        {
         "marker": {
          "color": "red",
          "size": 3
         },
         "mode": "lines",
         "name": "Mean AR_fev1_o2 dist",
         "type": "scatter",
         "x": [
          28.113466206056884,
          44.43348222786223
         ],
         "xaxis": "x",
         "y": [
          "293",
          "293"
         ],
         "yaxis": "y"
        },
        {
         "marker": {
          "color": "red",
          "size": 3
         },
         "mode": "lines",
         "name": "Mean AR_fev1_o2 dist",
         "type": "scatter",
         "x": [
          49.244372134749696,
          61.56038469557881
         ],
         "xaxis": "x",
         "y": [
          "140",
          "140"
         ],
         "yaxis": "y"
        },
        {
         "marker": {
          "color": "red",
          "size": 3
         },
         "mode": "lines",
         "name": "Mean AR_fev1_o2 dist",
         "type": "scatter",
         "x": [
          24.923778074639984,
          41.13797021589447
         ],
         "xaxis": "x",
         "y": [
          "147",
          "147"
         ],
         "yaxis": "y"
        },
        {
         "marker": {
          "color": "red",
          "size": 3
         },
         "mode": "lines",
         "name": "Mean AR_fev1_o2 dist",
         "type": "scatter",
         "x": [
          15.260837278785253,
          35.27489575820178
         ],
         "xaxis": "x",
         "y": [
          "339",
          "339"
         ],
         "yaxis": "y"
        },
        {
         "marker": {
          "color": "red",
          "size": 3
         },
         "mode": "lines",
         "name": "Mean AR_fev1_o2 dist",
         "type": "scatter",
         "x": [
          50.639041561088426,
          62.91778970696352
         ],
         "xaxis": "x",
         "y": [
          "132",
          "132"
         ],
         "yaxis": "y"
        },
        {
         "marker": {
          "color": "red",
          "size": 3
         },
         "mode": "lines",
         "name": "Mean AR_fev1_o2 dist",
         "type": "scatter",
         "x": [
          46.63482353455147,
          59.638342653402695
         ],
         "xaxis": "x",
         "y": [
          "158",
          "158"
         ],
         "yaxis": "y"
        },
        {
         "marker": {
          "color": "red",
          "size": 3
         },
         "mode": "lines",
         "name": "Mean AR_fev1_o2 dist",
         "type": "scatter",
         "x": [
          14.569019634447134,
          32.63003301794125
         ],
         "xaxis": "x",
         "y": [
          "240",
          "240"
         ],
         "yaxis": "y"
        },
        {
         "marker": {
          "color": "red",
          "size": 3
         },
         "mode": "lines",
         "name": "Mean AR_fev1_o2 dist",
         "type": "scatter",
         "x": [
          20.504479574673567,
          37.24385888616053
         ],
         "xaxis": "x",
         "y": [
          "205",
          "205"
         ],
         "yaxis": "y"
        },
        {
         "marker": {
          "color": "red",
          "size": 3
         },
         "mode": "lines",
         "name": "Mean AR_fev1_o2 dist",
         "type": "scatter",
         "x": [
          23.19881709969337,
          40.254764110401545
         ],
         "xaxis": "x",
         "y": [
          "525",
          "525"
         ],
         "yaxis": "y"
        },
        {
         "marker": {
          "color": "red",
          "size": 3
         },
         "mode": "lines",
         "name": "Mean AR_fev1_o2 dist",
         "type": "scatter",
         "x": [
          40.52348414317461,
          54.601873951578746
         ],
         "xaxis": "x",
         "y": [
          "179",
          "179"
         ],
         "yaxis": "y"
        },
        {
         "marker": {
          "color": "red",
          "size": 3
         },
         "mode": "lines",
         "name": "Mean AR_fev1_o2 dist",
         "type": "scatter",
         "x": [
          19.466260541419054,
          35.29169925582856
         ],
         "xaxis": "x",
         "y": [
          "185",
          "185"
         ],
         "yaxis": "y"
        },
        {
         "marker": {
          "color": "red",
          "size": 3
         },
         "mode": "lines",
         "name": "Mean AR_fev1_o2 dist",
         "type": "scatter",
         "x": [
          45.564464176643064,
          58.97240726983691
         ],
         "xaxis": "x",
         "y": [
          "387",
          "387"
         ],
         "yaxis": "y"
        },
        {
         "marker": {
          "color": "red",
          "size": 3
         },
         "mode": "lines",
         "name": "Mean AR_fev1_o2 dist",
         "type": "scatter",
         "x": [
          37.13569298595535,
          52.26502663870697
         ],
         "xaxis": "x",
         "y": [
          "103",
          "103"
         ],
         "yaxis": "y"
        },
        {
         "marker": {
          "color": "red",
          "size": 3
         },
         "mode": "lines",
         "name": "Mean AR_fev1_o2 dist",
         "type": "scatter",
         "x": [
          18.240787598504234,
          34.73226679341182
         ],
         "xaxis": "x",
         "y": [
          "251",
          "251"
         ],
         "yaxis": "y"
        },
        {
         "marker": {
          "color": "red",
          "size": 3
         },
         "mode": "lines",
         "name": "Mean AR_fev1_o2 dist",
         "type": "scatter",
         "x": [
          19.65588779449948,
          37.20179317634772
         ],
         "xaxis": "x",
         "y": [
          "271",
          "271"
         ],
         "yaxis": "y"
        },
        {
         "marker": {
          "color": "red",
          "size": 3
         },
         "mode": "lines",
         "name": "Mean AR_fev1_o2 dist",
         "type": "scatter",
         "x": [
          38.008583150158714,
          52.70895336980418
         ],
         "xaxis": "x",
         "y": [
          "106",
          "106"
         ],
         "yaxis": "y"
        },
        {
         "marker": {
          "color": "red",
          "size": 3
         },
         "mode": "lines",
         "name": "Mean AR_fev1_o2 dist",
         "type": "scatter",
         "x": [
          15.495258637533647,
          33.20326653371611
         ],
         "xaxis": "x",
         "y": [
          "406",
          "406"
         ],
         "yaxis": "y"
        },
        {
         "marker": {
          "color": "red",
          "size": 3
         },
         "mode": "lines",
         "name": "Mean AR_fev1_o2 dist",
         "type": "scatter",
         "x": [
          17.565380949321185,
          35.28183766457169
         ],
         "xaxis": "x",
         "y": [
          "278",
          "278"
         ],
         "yaxis": "y"
        },
        {
         "marker": {
          "color": "red",
          "size": 3
         },
         "mode": "lines",
         "name": "Mean AR_fev1_o2 dist",
         "type": "scatter",
         "x": [
          18.52256221403921,
          35.65249551366644
         ],
         "xaxis": "x",
         "y": [
          "287",
          "287"
         ],
         "yaxis": "y"
        },
        {
         "marker": {
          "color": "red",
          "size": 3
         },
         "mode": "lines",
         "name": "Mean AR_fev1_o2 dist",
         "type": "scatter",
         "x": [
          16.88029969102735,
          34.48938373538889
         ],
         "xaxis": "x",
         "y": [
          "481",
          "481"
         ],
         "yaxis": "y"
        },
        {
         "marker": {
          "color": "red",
          "size": 3
         },
         "mode": "lines",
         "name": "Mean AR_fev1_o2 dist",
         "type": "scatter",
         "x": [
          33.987586674459436,
          48.89115469890602
         ],
         "xaxis": "x",
         "y": [
          "523",
          "523"
         ],
         "yaxis": "y"
        },
        {
         "marker": {
          "color": "red",
          "size": 3
         },
         "mode": "lines",
         "name": "Mean AR_fev1_o2 dist",
         "type": "scatter",
         "x": [
          17.60910311546223,
          35.026564360326866
         ],
         "xaxis": "x",
         "y": [
          "212",
          "212"
         ],
         "yaxis": "y"
        },
        {
         "marker": {
          "color": "red",
          "size": 3
         },
         "mode": "lines",
         "name": "Mean AR_fev1_o2 dist",
         "type": "scatter",
         "x": [
          20.27926997677498,
          37.302854019075205
         ],
         "xaxis": "x",
         "y": [
          "265",
          "265"
         ],
         "yaxis": "y"
        },
        {
         "marker": {
          "color": "red",
          "size": 3
         },
         "mode": "lines",
         "name": "Mean AR_fev1_o2 dist",
         "type": "scatter",
         "x": [
          17.11693838904346,
          34.4075157666965
         ],
         "xaxis": "x",
         "y": [
          "180",
          "180"
         ],
         "yaxis": "y"
        },
        {
         "marker": {
          "color": "red",
          "size": 3
         },
         "mode": "lines",
         "name": "Mean AR_fev1_o2 dist",
         "type": "scatter",
         "x": [
          45.41927155799841,
          59.25146620352814
         ],
         "xaxis": "x",
         "y": [
          "184",
          "184"
         ],
         "yaxis": "y"
        },
        {
         "marker": {
          "color": "red",
          "size": 3
         },
         "mode": "lines",
         "name": "Mean AR_fev1_o2 dist",
         "type": "scatter",
         "x": [
          46.11355642489186,
          59.246752647027044
         ],
         "xaxis": "x",
         "y": [
          "334",
          "334"
         ],
         "yaxis": "y"
        },
        {
         "marker": {
          "color": "red",
          "size": 3
         },
         "mode": "lines",
         "name": "Mean AR_fev1_o2 dist",
         "type": "scatter",
         "x": [
          18.69597687481943,
          36.026256284798315
         ],
         "xaxis": "x",
         "y": [
          "275",
          "275"
         ],
         "yaxis": "y"
        },
        {
         "marker": {
          "color": "red",
          "size": 3
         },
         "mode": "lines",
         "name": "Mean AR_fev1_o2 dist",
         "type": "scatter",
         "x": [
          17.760543821596876,
          35.64099293839692
         ],
         "xaxis": "x",
         "y": [
          "317",
          "317"
         ],
         "yaxis": "y"
        },
        {
         "marker": {
          "color": "red",
          "size": 3
         },
         "mode": "lines",
         "name": "Mean AR_fev1_o2 dist",
         "type": "scatter",
         "x": [
          48.75410142421483,
          64.73975084270394
         ],
         "xaxis": "x",
         "y": [
          "433",
          "433"
         ],
         "yaxis": "y"
        },
        {
         "marker": {
          "color": "red",
          "size": 3
         },
         "mode": "lines",
         "name": "Mean AR_fev1_o2 dist",
         "type": "scatter",
         "x": [
          15.919958062551562,
          35.028498381764784
         ],
         "xaxis": "x",
         "y": [
          "515",
          "515"
         ],
         "yaxis": "y"
        },
        {
         "marker": {
          "color": "red",
          "size": 3
         },
         "mode": "lines",
         "name": "Mean AR_fev1_o2 dist",
         "type": "scatter",
         "x": [
          22.735091133031677,
          41.78088383686053
         ],
         "xaxis": "x",
         "y": [
          "430",
          "430"
         ],
         "yaxis": "y"
        },
        {
         "marker": {
          "color": "red",
          "size": 3
         },
         "mode": "lines",
         "name": "Mean AR_fev1_o2 dist",
         "type": "scatter",
         "x": [
          21.718695004422248,
          38.63135074730609
         ],
         "xaxis": "x",
         "y": [
          "139",
          "139"
         ],
         "yaxis": "y"
        },
        {
         "marker": {
          "color": "red",
          "size": 3
         },
         "mode": "lines",
         "name": "Mean AR_fev1_o2 dist",
         "type": "scatter",
         "x": [
          52.95443171350568,
          64.15821392508202
         ],
         "xaxis": "x",
         "y": [
          "194",
          "194"
         ],
         "yaxis": "y"
        },
        {
         "marker": {
          "color": "red",
          "size": 3
         },
         "mode": "lines",
         "name": "Mean AR_fev1_o2 dist",
         "type": "scatter",
         "x": [
          25.064981598130196,
          41.535461427597426
         ],
         "xaxis": "x",
         "y": [
          "165",
          "165"
         ],
         "yaxis": "y"
        },
        {
         "marker": {
          "color": "red",
          "size": 3
         },
         "mode": "lines",
         "name": "Mean AR_fev1_o2 dist",
         "type": "scatter",
         "x": [
          28.67979437516031,
          44.70717328878494
         ],
         "xaxis": "x",
         "y": [
          "118",
          "118"
         ],
         "yaxis": "y"
        },
        {
         "marker": {
          "color": "red",
          "size": 3
         },
         "mode": "lines",
         "name": "Mean AR_fev1_o2 dist",
         "type": "scatter",
         "x": [
          19.49169454247698,
          35.37910541313279
         ],
         "xaxis": "x",
         "y": [
          "485",
          "485"
         ],
         "yaxis": "y"
        },
        {
         "marker": {
          "color": "red",
          "size": 3
         },
         "mode": "lines",
         "name": "Mean AR_fev1_o2 dist",
         "type": "scatter",
         "x": [
          22.682695026018916,
          39.3464278515484
         ],
         "xaxis": "x",
         "y": [
          "389",
          "389"
         ],
         "yaxis": "y"
        },
        {
         "marker": {
          "color": "red",
          "size": 3
         },
         "mode": "lines",
         "name": "Mean AR_fev1_o2 dist",
         "type": "scatter",
         "x": [
          32.211461295033615,
          47.698026963097135
         ],
         "xaxis": "x",
         "y": [
          "181",
          "181"
         ],
         "yaxis": "y"
        },
        {
         "marker": {
          "color": "red",
          "size": 3
         },
         "mode": "lines",
         "name": "Mean AR_fev1_o2 dist",
         "type": "scatter",
         "x": [
          20.427641153309374,
          37.340079110836335
         ],
         "xaxis": "x",
         "y": [
          "188",
          "188"
         ],
         "yaxis": "y"
        },
        {
         "marker": {
          "color": "red",
          "size": 3
         },
         "mode": "lines",
         "name": "Mean AR_fev1_o2 dist",
         "type": "scatter",
         "x": [
          37.73290884083012,
          53.38598423450655
         ],
         "xaxis": "x",
         "y": [
          "342",
          "342"
         ],
         "yaxis": "y"
        },
        {
         "marker": {
          "color": "red",
          "size": 3
         },
         "mode": "lines",
         "name": "Mean AR_fev1_o2 dist",
         "type": "scatter",
         "x": [
          15.84770047515384,
          34.5290332804572
         ],
         "xaxis": "x",
         "y": [
          "201",
          "201"
         ],
         "yaxis": "y"
        },
        {
         "marker": {
          "color": "red",
          "size": 3
         },
         "mode": "lines",
         "name": "Mean AR_fev1_o2 dist",
         "type": "scatter",
         "x": [
          27.70131272236608,
          44.409812350911146
         ],
         "xaxis": "x",
         "y": [
          "426",
          "426"
         ],
         "yaxis": "y"
        },
        {
         "marker": {
          "color": "red",
          "size": 3
         },
         "mode": "lines",
         "name": "Mean AR_fev1_o2 dist",
         "type": "scatter",
         "x": [
          29.890239992534813,
          46.579872964488764
         ],
         "xaxis": "x",
         "y": [
          "405",
          "405"
         ],
         "yaxis": "y"
        },
        {
         "marker": {
          "color": "red",
          "size": 3
         },
         "mode": "lines",
         "name": "Mean AR_fev1_o2 dist",
         "type": "scatter",
         "x": [
          19.88557827008335,
          36.76994834144477
         ],
         "xaxis": "x",
         "y": [
          "383",
          "383"
         ],
         "yaxis": "y"
        },
        {
         "marker": {
          "color": "red",
          "size": 3
         },
         "mode": "lines",
         "name": "Mean AR_fev1_o2 dist",
         "type": "scatter",
         "x": [
          21.64816464339722,
          37.81438908568533
         ],
         "xaxis": "x",
         "y": [
          "284",
          "284"
         ],
         "yaxis": "y"
        },
        {
         "marker": {
          "color": "red",
          "size": 3
         },
         "mode": "lines",
         "name": "Mean AR_fev1_o2 dist",
         "type": "scatter",
         "x": [
          57.5681530133523,
          68.66127639756215
         ],
         "xaxis": "x",
         "y": [
          "362",
          "362"
         ],
         "yaxis": "y"
        },
        {
         "marker": {
          "color": "red",
          "size": 3
         },
         "mode": "lines",
         "name": "Mean AR_fev1_o2 dist",
         "type": "scatter",
         "x": [
          46.764824668079335,
          60.436573483794525
         ],
         "xaxis": "x",
         "y": [
          "419",
          "419"
         ],
         "yaxis": "y"
        },
        {
         "marker": {
          "color": "red",
          "size": 3
         },
         "mode": "lines",
         "name": "Mean AR_fev1_o2 dist",
         "type": "scatter",
         "x": [
          30.67753228564365,
          46.484596310254936
         ],
         "xaxis": "x",
         "y": [
          "210",
          "210"
         ],
         "yaxis": "y"
        },
        {
         "marker": {
          "color": "red",
          "size": 3
         },
         "mode": "lines",
         "name": "Mean AR_fev1_o2 dist",
         "type": "scatter",
         "x": [
          23.181077179430826,
          39.76933169576001
         ],
         "xaxis": "x",
         "y": [
          "432",
          "432"
         ],
         "yaxis": "y"
        },
        {
         "marker": {
          "color": "red",
          "size": 3
         },
         "mode": "lines",
         "name": "Mean AR_fev1_o2 dist",
         "type": "scatter",
         "x": [
          51.82091218049814,
          64.05182289579533
         ],
         "xaxis": "x",
         "y": [
          "127",
          "127"
         ],
         "yaxis": "y"
        },
        {
         "marker": {
          "color": "red",
          "size": 3
         },
         "mode": "lines",
         "name": "Mean AR_fev1_o2 dist",
         "type": "scatter",
         "x": [
          18.621185389347133,
          35.27998527446021
         ],
         "xaxis": "x",
         "y": [
          "254",
          "254"
         ],
         "yaxis": "y"
        },
        {
         "marker": {
          "color": "red",
          "size": 3
         },
         "mode": "lines",
         "name": "Mean AR_fev1_o2 dist",
         "type": "scatter",
         "x": [
          22.60763040102867,
          42.377603836559395
         ],
         "xaxis": "x",
         "y": [
          "509",
          "509"
         ],
         "yaxis": "y"
        },
        {
         "marker": {
          "color": "red",
          "size": 3
         },
         "mode": "lines",
         "name": "Mean AR_fev1_o2 dist",
         "type": "scatter",
         "x": [
          22.904500795032437,
          39.391723519259735
         ],
         "xaxis": "x",
         "y": [
          "243",
          "243"
         ],
         "yaxis": "y"
        },
        {
         "marker": {
          "color": "red",
          "size": 3
         },
         "mode": "lines",
         "name": "Mean AR_fev1_o2 dist",
         "type": "scatter",
         "x": [
          21.484262992666537,
          37.69012409557171
         ],
         "xaxis": "x",
         "y": [
          "266",
          "266"
         ],
         "yaxis": "y"
        },
        {
         "marker": {
          "color": "red",
          "size": 3
         },
         "mode": "lines",
         "name": "Mean AR_fev1_o2 dist",
         "type": "scatter",
         "x": [
          58.0001900167647,
          68.01599914886773
         ],
         "xaxis": "x",
         "y": [
          "283",
          "283"
         ],
         "yaxis": "y"
        },
        {
         "marker": {
          "color": "red",
          "size": 3
         },
         "mode": "lines",
         "name": "Mean AR_fev1_o2 dist",
         "type": "scatter",
         "x": [
          23.21677230869323,
          39.81976169784793
         ],
         "xaxis": "x",
         "y": [
          "131",
          "131"
         ],
         "yaxis": "y"
        },
        {
         "marker": {
          "color": "red",
          "size": 3
         },
         "mode": "lines",
         "name": "Mean AR_fev1_o2 dist",
         "type": "scatter",
         "x": [
          50.89117460946714,
          62.74642753568439
         ],
         "xaxis": "x",
         "y": [
          "162",
          "162"
         ],
         "yaxis": "y"
        },
        {
         "marker": {
          "color": "red",
          "size": 3
         },
         "mode": "lines",
         "name": "Mean AR_fev1_o2 dist",
         "type": "scatter",
         "x": [
          19.683932563198603,
          35.652017369756265
         ],
         "xaxis": "x",
         "y": [
          "245",
          "245"
         ],
         "yaxis": "y"
        },
        {
         "marker": {
          "color": "red",
          "size": 3
         },
         "mode": "lines",
         "name": "Mean AR_fev1_o2 dist",
         "type": "scatter",
         "x": [
          23.32380575536779,
          41.432041559757074
         ],
         "xaxis": "x",
         "y": [
          "493",
          "493"
         ],
         "yaxis": "y"
        },
        {
         "marker": {
          "color": "red",
          "size": 3
         },
         "mode": "lines",
         "name": "Mean AR_fev1_o2 dist",
         "type": "scatter",
         "x": [
          21.894354063847736,
          41.715684678806106
         ],
         "xaxis": "x",
         "y": [
          "295",
          "295"
         ],
         "yaxis": "y"
        },
        {
         "marker": {
          "color": "red",
          "size": 3
         },
         "mode": "lines",
         "name": "Mean AR_fev1_o2 dist",
         "type": "scatter",
         "x": [
          20.5083859665924,
          37.536191142728164
         ],
         "xaxis": "x",
         "y": [
          "453",
          "453"
         ],
         "yaxis": "y"
        },
        {
         "marker": {
          "color": "red",
          "size": 3
         },
         "mode": "lines",
         "name": "Mean AR_fev1_o2 dist",
         "type": "scatter",
         "x": [
          30.920457536524953,
          46.761185253186476
         ],
         "xaxis": "x",
         "y": [
          "138",
          "138"
         ],
         "yaxis": "y"
        },
        {
         "marker": {
          "color": "red",
          "size": 3
         },
         "mode": "lines",
         "name": "Mean AR_fev1_o2 dist",
         "type": "scatter",
         "x": [
          21.030076212118196,
          37.7931155957142
         ],
         "xaxis": "x",
         "y": [
          "491",
          "491"
         ],
         "yaxis": "y"
        },
        {
         "marker": {
          "color": "red",
          "size": 3
         },
         "mode": "lines",
         "name": "Mean AR_fev1_o2 dist",
         "type": "scatter",
         "x": [
          24.96758948120674,
          44.57945201723434
         ],
         "xaxis": "x",
         "y": [
          "272",
          "272"
         ],
         "yaxis": "y"
        },
        {
         "marker": {
          "color": "red",
          "size": 3
         },
         "mode": "lines",
         "name": "Mean AR_fev1_o2 dist",
         "type": "scatter",
         "x": [
          24.78240089122372,
          41.19755598291883
         ],
         "xaxis": "x",
         "y": [
          "173",
          "173"
         ],
         "yaxis": "y"
        },
        {
         "marker": {
          "color": "red",
          "size": 3
         },
         "mode": "lines",
         "name": "Mean AR_fev1_o2 dist",
         "type": "scatter",
         "x": [
          21.558202424729515,
          38.94132462314255
         ],
         "xaxis": "x",
         "y": [
          "146",
          "146"
         ],
         "yaxis": "y"
        },
        {
         "marker": {
          "color": "red",
          "size": 3
         },
         "mode": "lines",
         "name": "Mean AR_fev1_o2 dist",
         "type": "scatter",
         "x": [
          33.62756219958725,
          49.06559353861777
         ],
         "xaxis": "x",
         "y": [
          "148",
          "148"
         ],
         "yaxis": "y"
        },
        {
         "marker": {
          "color": "red",
          "size": 3
         },
         "mode": "lines",
         "name": "Mean AR_fev1_o2 dist",
         "type": "scatter",
         "x": [
          26.48253551172698,
          41.94594988626281
         ],
         "xaxis": "x",
         "y": [
          "306",
          "306"
         ],
         "yaxis": "y"
        },
        {
         "marker": {
          "color": "red",
          "size": 3
         },
         "mode": "lines",
         "name": "Mean AR_fev1_o2 dist",
         "type": "scatter",
         "x": [
          46.61268523610019,
          60.233025192704126
         ],
         "xaxis": "x",
         "y": [
          "149",
          "149"
         ],
         "yaxis": "y"
        },
        {
         "marker": {
          "color": "red",
          "size": 3
         },
         "mode": "lines",
         "name": "Mean AR_fev1_o2 dist",
         "type": "scatter",
         "x": [
          40.82934011306609,
          55.4925626188254
         ],
         "xaxis": "x",
         "y": [
          "403",
          "403"
         ],
         "yaxis": "y"
        },
        {
         "marker": {
          "color": "red",
          "size": 3
         },
         "mode": "lines",
         "name": "Mean AR_fev1_o2 dist",
         "type": "scatter",
         "x": [
          24.116670646919907,
          40.65576720603969
         ],
         "xaxis": "x",
         "y": [
          "114",
          "114"
         ],
         "yaxis": "y"
        },
        {
         "marker": {
          "color": "red",
          "size": 3
         },
         "mode": "lines",
         "name": "Mean AR_fev1_o2 dist",
         "type": "scatter",
         "x": [
          49.2493692210829,
          62.46218617394103
         ],
         "xaxis": "x",
         "y": [
          "258",
          "258"
         ],
         "yaxis": "y"
        },
        {
         "marker": {
          "color": "red",
          "size": 3
         },
         "mode": "lines",
         "name": "Mean AR_fev1_o2 dist",
         "type": "scatter",
         "x": [
          57.36322555488878,
          69.86256012976312
         ],
         "xaxis": "x",
         "y": [
          "422",
          "422"
         ],
         "yaxis": "y"
        },
        {
         "marker": {
          "color": "red",
          "size": 3
         },
         "mode": "lines",
         "name": "Mean AR_fev1_o2 dist",
         "type": "scatter",
         "x": [
          19.2273521296279,
          37.82251216892208
         ],
         "xaxis": "x",
         "y": [
          "116",
          "116"
         ],
         "yaxis": "y"
        },
        {
         "marker": {
          "color": "red",
          "size": 3
         },
         "mode": "lines",
         "name": "Mean AR_fev1_o2 dist",
         "type": "scatter",
         "x": [
          33.029667901787796,
          48.80707147619747
         ],
         "xaxis": "x",
         "y": [
          "517",
          "517"
         ],
         "yaxis": "y"
        },
        {
         "marker": {
          "color": "red",
          "size": 3
         },
         "mode": "lines",
         "name": "Mean AR_fev1_o2 dist",
         "type": "scatter",
         "x": [
          25.77406182559367,
          42.270890743978846
         ],
         "xaxis": "x",
         "y": [
          "291",
          "291"
         ],
         "yaxis": "y"
        },
        {
         "marker": {
          "color": "red",
          "size": 3
         },
         "mode": "lines",
         "name": "Mean AR_fev1_o2 dist",
         "type": "scatter",
         "x": [
          39.052557690938706,
          55.987956627552805
         ],
         "xaxis": "x",
         "y": [
          "431",
          "431"
         ],
         "yaxis": "y"
        },
        {
         "marker": {
          "color": "red",
          "size": 3
         },
         "mode": "lines",
         "name": "Mean AR_fev1_o2 dist",
         "type": "scatter",
         "x": [
          33.09296208135391,
          49.07231608712572
         ],
         "xaxis": "x",
         "y": [
          "483",
          "483"
         ],
         "yaxis": "y"
        },
        {
         "marker": {
          "color": "red",
          "size": 3
         },
         "mode": "lines",
         "name": "Mean AR_fev1_o2 dist",
         "type": "scatter",
         "x": [
          40.86262080794807,
          53.73940303896278
         ],
         "xaxis": "x",
         "y": [
          "135",
          "135"
         ],
         "yaxis": "y"
        },
        {
         "marker": {
          "color": "red",
          "size": 3
         },
         "mode": "lines",
         "name": "Mean AR_fev1_o2 dist",
         "type": "scatter",
         "x": [
          50.49388510246372,
          61.99629423312421
         ],
         "xaxis": "x",
         "y": [
          "112",
          "112"
         ],
         "yaxis": "y"
        },
        {
         "marker": {
          "color": "red",
          "size": 3
         },
         "mode": "lines",
         "name": "Mean AR_fev1_o2 dist",
         "type": "scatter",
         "x": [
          19.640532675568036,
          36.566459423216365
         ],
         "xaxis": "x",
         "y": [
          "380",
          "380"
         ],
         "yaxis": "y"
        },
        {
         "marker": {
          "color": "red",
          "size": 3
         },
         "mode": "lines",
         "name": "Mean AR_fev1_o2 dist",
         "type": "scatter",
         "x": [
          29.325054383714164,
          45.49296403695969
         ],
         "xaxis": "x",
         "y": [
          "119",
          "119"
         ],
         "yaxis": "y"
        },
        {
         "marker": {
          "color": "red",
          "size": 3
         },
         "mode": "lines",
         "name": "Mean AR_fev1_o2 dist",
         "type": "scatter",
         "x": [
          28.396551443127112,
          44.62482260009175
         ],
         "xaxis": "x",
         "y": [
          "108",
          "108"
         ],
         "yaxis": "y"
        },
        {
         "marker": {
          "color": "red",
          "size": 3
         },
         "mode": "lines",
         "name": "Mean AR_fev1_o2 dist",
         "type": "scatter",
         "x": [
          28.181456865952168,
          44.34426515989044
         ],
         "xaxis": "x",
         "y": [
          "252",
          "252"
         ],
         "yaxis": "y"
        },
        {
         "marker": {
          "color": "red",
          "size": 3
         },
         "mode": "lines",
         "name": "Mean AR_fev1_o2 dist",
         "type": "scatter",
         "x": [
          50.35486199782156,
          63.19544907629559
         ],
         "xaxis": "x",
         "y": [
          "248",
          "248"
         ],
         "yaxis": "y"
        },
        {
         "marker": {
          "color": "red",
          "size": 3
         },
         "mode": "lines",
         "name": "Mean AR_fev1_o2 dist",
         "type": "scatter",
         "x": [
          25.664557366573657,
          41.711345148382165
         ],
         "xaxis": "x",
         "y": [
          "521",
          "521"
         ],
         "yaxis": "y"
        },
        {
         "marker": {
          "color": "red",
          "size": 3
         },
         "mode": "lines",
         "name": "Mean AR_fev1_o2 dist",
         "type": "scatter",
         "x": [
          26.136746203350754,
          42.6614013961828
         ],
         "xaxis": "x",
         "y": [
          "203",
          "203"
         ],
         "yaxis": "y"
        },
        {
         "marker": {
          "color": "red",
          "size": 3
         },
         "mode": "lines",
         "name": "Mean AR_fev1_o2 dist",
         "type": "scatter",
         "x": [
          22.40411814143135,
          41.09092905735171
         ],
         "xaxis": "x",
         "y": [
          "229",
          "229"
         ],
         "yaxis": "y"
        },
        {
         "marker": {
          "color": "red",
          "size": 3
         },
         "mode": "lines",
         "name": "Mean AR_fev1_o2 dist",
         "type": "scatter",
         "x": [
          30.00639051420799,
          46.1532462186882
         ],
         "xaxis": "x",
         "y": [
          "207",
          "207"
         ],
         "yaxis": "y"
        },
        {
         "marker": {
          "color": "red",
          "size": 3
         },
         "mode": "lines",
         "name": "Mean AR_fev1_o2 dist",
         "type": "scatter",
         "x": [
          24.071075479829677,
          42.08089891273592
         ],
         "xaxis": "x",
         "y": [
          "500",
          "500"
         ],
         "yaxis": "y"
        },
        {
         "marker": {
          "color": "red",
          "size": 3
         },
         "mode": "lines",
         "name": "Mean AR_fev1_o2 dist",
         "type": "scatter",
         "x": [
          43.28823235264477,
          58.39036620057648
         ],
         "xaxis": "x",
         "y": [
          "494",
          "494"
         ],
         "yaxis": "y"
        },
        {
         "marker": {
          "color": "red",
          "size": 3
         },
         "mode": "lines",
         "name": "Mean AR_fev1_o2 dist",
         "type": "scatter",
         "x": [
          26.598967401780204,
          42.173708101127865
         ],
         "xaxis": "x",
         "y": [
          "505",
          "505"
         ],
         "yaxis": "y"
        },
        {
         "marker": {
          "color": "red",
          "size": 3
         },
         "mode": "lines",
         "name": "Mean AR_fev1_o2 dist",
         "type": "scatter",
         "x": [
          53.46037267588104,
          65.17345358260539
         ],
         "xaxis": "x",
         "y": [
          "484",
          "484"
         ],
         "yaxis": "y"
        },
        {
         "marker": {
          "color": "red",
          "size": 3
         },
         "mode": "lines",
         "name": "Mean AR_fev1_o2 dist",
         "type": "scatter",
         "x": [
          26.71200698114723,
          43.36005661630884
         ],
         "xaxis": "x",
         "y": [
          "220",
          "220"
         ],
         "yaxis": "y"
        },
        {
         "marker": {
          "color": "red",
          "size": 3
         },
         "mode": "lines",
         "name": "Mean AR_fev1_o2 dist",
         "type": "scatter",
         "x": [
          75.96104902170887,
          82.6571740905515
         ],
         "xaxis": "x",
         "y": [
          "413",
          "413"
         ],
         "yaxis": "y"
        },
        {
         "marker": {
          "color": "red",
          "size": 3
         },
         "mode": "lines",
         "name": "Mean AR_fev1_o2 dist",
         "type": "scatter",
         "x": [
          34.98152394530792,
          51.07418555999413
         ],
         "xaxis": "x",
         "y": [
          "270",
          "270"
         ],
         "yaxis": "y"
        },
        {
         "marker": {
          "color": "red",
          "size": 3
         },
         "mode": "lines",
         "name": "Mean AR_fev1_o2 dist",
         "type": "scatter",
         "x": [
          56.1852209785903,
          67.35502890824422
         ],
         "xaxis": "x",
         "y": [
          "102",
          "102"
         ],
         "yaxis": "y"
        },
        {
         "marker": {
          "color": "red",
          "size": 3
         },
         "mode": "lines",
         "name": "Mean AR_fev1_o2 dist",
         "type": "scatter",
         "x": [
          40.097778143369766,
          57.17702227007105
         ],
         "xaxis": "x",
         "y": [
          "336",
          "336"
         ],
         "yaxis": "y"
        },
        {
         "marker": {
          "color": "red",
          "size": 3
         },
         "mode": "lines",
         "name": "Mean AR_fev1_o2 dist",
         "type": "scatter",
         "x": [
          27.995562354532677,
          43.83110039069968
         ],
         "xaxis": "x",
         "y": [
          "256",
          "256"
         ],
         "yaxis": "y"
        },
        {
         "marker": {
          "color": "red",
          "size": 3
         },
         "mode": "lines",
         "name": "Mean AR_fev1_o2 dist",
         "type": "scatter",
         "x": [
          27.65054676132759,
          44.26259417812755
         ],
         "xaxis": "x",
         "y": [
          "249",
          "249"
         ],
         "yaxis": "y"
        },
        {
         "marker": {
          "color": "red",
          "size": 3
         },
         "mode": "lines",
         "name": "Mean AR_fev1_o2 dist",
         "type": "scatter",
         "x": [
          26.95373530018316,
          45.36489470668382
         ],
         "xaxis": "x",
         "y": [
          "514",
          "514"
         ],
         "yaxis": "y"
        },
        {
         "marker": {
          "color": "red",
          "size": 3
         },
         "mode": "lines",
         "name": "Mean AR_fev1_o2 dist",
         "type": "scatter",
         "x": [
          27.65933475128162,
          44.91372792516683
         ],
         "xaxis": "x",
         "y": [
          "224",
          "224"
         ],
         "yaxis": "y"
        },
        {
         "marker": {
          "color": "red",
          "size": 3
         },
         "mode": "lines",
         "name": "Mean AR_fev1_o2 dist",
         "type": "scatter",
         "x": [
          24.164021221379496,
          41.019683251395925
         ],
         "xaxis": "x",
         "y": [
          "289",
          "289"
         ],
         "yaxis": "y"
        },
        {
         "marker": {
          "color": "red",
          "size": 3
         },
         "mode": "lines",
         "name": "Mean AR_fev1_o2 dist",
         "type": "scatter",
         "x": [
          39.102161336536945,
          56.85264386861562
         ],
         "xaxis": "x",
         "y": [
          "502",
          "502"
         ],
         "yaxis": "y"
        },
        {
         "marker": {
          "color": "red",
          "size": 3
         },
         "mode": "lines",
         "name": "Mean AR_fev1_o2 dist",
         "type": "scatter",
         "x": [
          30.1492576263674,
          46.02845076639314
         ],
         "xaxis": "x",
         "y": [
          "416",
          "416"
         ],
         "yaxis": "y"
        },
        {
         "marker": {
          "color": "red",
          "size": 3
         },
         "mode": "lines",
         "name": "Mean AR_fev1_o2 dist",
         "type": "scatter",
         "x": [
          29.335774862287355,
          45.38323816386109
         ],
         "xaxis": "x",
         "y": [
          "325",
          "325"
         ],
         "yaxis": "y"
        },
        {
         "marker": {
          "color": "red",
          "size": 3
         },
         "mode": "lines",
         "name": "Mean AR_fev1_o2 dist",
         "type": "scatter",
         "x": [
          23.498431317363877,
          40.13916205135842
         ],
         "xaxis": "x",
         "y": [
          "279",
          "279"
         ],
         "yaxis": "y"
        },
        {
         "marker": {
          "color": "red",
          "size": 3
         },
         "mode": "lines",
         "name": "Mean AR_fev1_o2 dist",
         "type": "scatter",
         "x": [
          25.334413412204054,
          42.25087278198598
         ],
         "xaxis": "x",
         "y": [
          "145",
          "145"
         ],
         "yaxis": "y"
        },
        {
         "marker": {
          "color": "red",
          "size": 3
         },
         "mode": "lines",
         "name": "Mean AR_fev1_o2 dist",
         "type": "scatter",
         "x": [
          39.59332854673458,
          57.48586822264072
         ],
         "xaxis": "x",
         "y": [
          "238",
          "238"
         ],
         "yaxis": "y"
        },
        {
         "marker": {
          "color": "red",
          "size": 3
         },
         "mode": "lines",
         "name": "Mean AR_fev1_o2 dist",
         "type": "scatter",
         "x": [
          36.39753002413517,
          52.787285913793625
         ],
         "xaxis": "x",
         "y": [
          "434",
          "434"
         ],
         "yaxis": "y"
        },
        {
         "marker": {
          "color": "red",
          "size": 3
         },
         "mode": "lines",
         "name": "Mean AR_fev1_o2 dist",
         "type": "scatter",
         "x": [
          26.3196414515555,
          41.40702462352556
         ],
         "xaxis": "x",
         "y": [
          "395",
          "395"
         ],
         "yaxis": "y"
        },
        {
         "marker": {
          "color": "red",
          "size": 3
         },
         "mode": "lines",
         "name": "Mean AR_fev1_o2 dist",
         "type": "scatter",
         "x": [
          31.991812802308846,
          48.56478331036105
         ],
         "xaxis": "x",
         "y": [
          "439",
          "439"
         ],
         "yaxis": "y"
        },
        {
         "marker": {
          "color": "red",
          "size": 3
         },
         "mode": "lines",
         "name": "Mean AR_fev1_o2 dist",
         "type": "scatter",
         "x": [
          30.478736627569788,
          47.43425836854996
         ],
         "xaxis": "x",
         "y": [
          "508",
          "508"
         ],
         "yaxis": "y"
        },
        {
         "marker": {
          "color": "red",
          "size": 3
         },
         "mode": "lines",
         "name": "Mean AR_fev1_o2 dist",
         "type": "scatter",
         "x": [
          46.70001158464722,
          62.55933125667563
         ],
         "xaxis": "x",
         "y": [
          "488",
          "488"
         ],
         "yaxis": "y"
        },
        {
         "marker": {
          "color": "red",
          "size": 3
         },
         "mode": "lines",
         "name": "Mean AR_fev1_o2 dist",
         "type": "scatter",
         "x": [
          58.9253282210354,
          68.83907423687023
         ],
         "xaxis": "x",
         "y": [
          "421",
          "421"
         ],
         "yaxis": "y"
        },
        {
         "marker": {
          "color": "red",
          "size": 3
         },
         "mode": "lines",
         "name": "Mean AR_fev1_o2 dist",
         "type": "scatter",
         "x": [
          61.70803097191102,
          71.48778032429618
         ],
         "xaxis": "x",
         "y": [
          "417",
          "417"
         ],
         "yaxis": "y"
        },
        {
         "marker": {
          "color": "red",
          "size": 3
         },
         "mode": "lines",
         "name": "Mean AR_fev1_o2 dist",
         "type": "scatter",
         "x": [
          58.55451360446774,
          68.2663423535838
         ],
         "xaxis": "x",
         "y": [
          "452",
          "452"
         ],
         "yaxis": "y"
        },
        {
         "marker": {
          "color": "red",
          "size": 3
         },
         "mode": "lines",
         "name": "Mean AR_fev1_o2 dist",
         "type": "scatter",
         "x": [
          29.434814202802038,
          47.460567314893154
         ],
         "xaxis": "x",
         "y": [
          "408",
          "408"
         ],
         "yaxis": "y"
        },
        {
         "marker": {
          "color": "red",
          "size": 3
         },
         "mode": "lines",
         "name": "Mean AR_fev1_o2 dist",
         "type": "scatter",
         "x": [
          28.299328544229756,
          45.14388830075367
         ],
         "xaxis": "x",
         "y": [
          "311",
          "311"
         ],
         "yaxis": "y"
        },
        {
         "marker": {
          "color": "red",
          "size": 3
         },
         "mode": "lines",
         "name": "Mean AR_fev1_o2 dist",
         "type": "scatter",
         "x": [
          25.27001037139979,
          43.635277442053344
         ],
         "xaxis": "x",
         "y": [
          "424",
          "424"
         ],
         "yaxis": "y"
        },
        {
         "marker": {
          "color": "red",
          "size": 3
         },
         "mode": "lines",
         "name": "Mean AR_fev1_o2 dist",
         "type": "scatter",
         "x": [
          56.40155153119095,
          67.9061757463498
         ],
         "xaxis": "x",
         "y": [
          "361",
          "361"
         ],
         "yaxis": "y"
        },
        {
         "marker": {
          "color": "red",
          "size": 3
         },
         "mode": "lines",
         "name": "Mean AR_fev1_o2 dist",
         "type": "scatter",
         "x": [
          37.59952605278095,
          55.89443367467984
         ],
         "xaxis": "x",
         "y": [
          "101",
          "101"
         ],
         "yaxis": "y"
        },
        {
         "marker": {
          "color": "red",
          "size": 3
         },
         "mode": "lines",
         "name": "Mean AR_fev1_o2 dist",
         "type": "scatter",
         "x": [
          32.48579395925938,
          47.81178468274768
         ],
         "xaxis": "x",
         "y": [
          "153",
          "153"
         ],
         "yaxis": "y"
        },
        {
         "marker": {
          "color": "red",
          "size": 3
         },
         "mode": "lines",
         "name": "Mean AR_fev1_o2 dist",
         "type": "scatter",
         "x": [
          61.326458271331,
          71.03331124203049
         ],
         "xaxis": "x",
         "y": [
          "122",
          "122"
         ],
         "yaxis": "y"
        },
        {
         "marker": {
          "color": "red",
          "size": 3
         },
         "mode": "lines",
         "name": "Mean AR_fev1_o2 dist",
         "type": "scatter",
         "x": [
          47.478115469340956,
          61.94617509007368
         ],
         "xaxis": "x",
         "y": [
          "120",
          "120"
         ],
         "yaxis": "y"
        },
        {
         "marker": {
          "color": "red",
          "size": 3
         },
         "mode": "lines",
         "name": "Mean AR_fev1_o2 dist",
         "type": "scatter",
         "x": [
          57.55699656716345,
          68.35927459390253
         ],
         "xaxis": "x",
         "y": [
          "409",
          "409"
         ],
         "yaxis": "y"
        },
        {
         "marker": {
          "color": "blue",
          "size": 3
         },
         "mode": "markers",
         "name": "Mean AR_ecFEV1%",
         "type": "scatter",
         "x": [
          -23.449175221381445,
          -18.1052047227924,
          -16.851374041065817,
          -11.305197014152755,
          -9.737344173087315,
          -9.669360636205855,
          -8.935443264975708,
          -7.509451960840655,
          -7.2042063991356375,
          -5.31784221069707,
          -5.218593288089259,
          -4.281063012312842,
          -2.5242745957514843,
          0.7190064928335331,
          -0.8301756843284493,
          -0.7907656717979786,
          -0.35978173286786347,
          3.544437229343287,
          2.6584723601640334,
          4.495168099859542,
          3.487533715346662,
          4.3402428895377065,
          5.371366878866663,
          5.2227994070485275,
          4.401123225203017,
          5.906841773345589,
          6.976507186440455,
          5.915662741997916,
          5.8679015877324705,
          5.440335269474268,
          7.25657285979757,
          7.677534615603317,
          7.612082153860518,
          8.633422132941046,
          8.80452541370235,
          12.600346913093324,
          9.611531394794147,
          10.206186854954444,
          9.949730836136132,
          10.369012443679601,
          10.112677511845032,
          10.738476105435746,
          11.170658244054335,
          11.260947735980638,
          11.8368764262999,
          10.57865014388284,
          11.656748862321884,
          9.43431973305513,
          12.091208697461605,
          12.681806291053208,
          13.409971350849643,
          13.289834736989857,
          13.572766032695887,
          13.636353423291716,
          13.290542530961883,
          14.920792688717345,
          13.279869267257746,
          14.138815273473295,
          13.68776077077552,
          15.503997918393777,
          14.203738503883013,
          13.671613054322972,
          15.099412087846352,
          14.804326863623322,
          14.680518736915248,
          15.983894971494003,
          15.644918171129241,
          16.005661749184576,
          15.637122200291588,
          17.199206844678635,
          17.193794287092548,
          17.489659329518553,
          17.868963786635312,
          18.369715419289275,
          18.146661991280084,
          17.728927877056414,
          18.383939684701794,
          17.173024818991617,
          19.471028940908848,
          23.477254716444584,
          18.691638965312276,
          19.143723286204487,
          19.702083347597107,
          23.96577161986161,
          20.73810425086052,
          20.670114886379483,
          20.51900766493346,
          20.939616515419043,
          21.675643408458622,
          24.288710020281027,
          25.589977215108433,
          21.890374504686502,
          62.56584356845362,
          67.86974665870704,
          23.238566084191785,
          24.836543572520757,
          23.828985894981315,
          22.71498066772354,
          55.07332252942479,
          24.03939805080445,
          31.91225094063721,
          23.453200128734295,
          71.65858315802718,
          24.986522260102607,
          66.47322359636227,
          24.880770268169712,
          67.91394814929694,
          25.32457974578226,
          24.457672218338065,
          24.04349087354758,
          59.98767177084292,
          54.7430861384684,
          26.040138770362844,
          65.64905230710738,
          24.544539160894985,
          25.032469537917947,
          41.087647656134116,
          24.515679962458602,
          26.579819241932075,
          55.58272181585099,
          53.510756220711826,
          59.99447665614532,
          51.83773563736387,
          49.4362495135027,
          27.79714473213103,
          26.713903455875375,
          71.82677653344597,
          26.616065716880165,
          44.89968783836566,
          26.637982874848316,
          26.489215482185266,
          58.22809290990336,
          26.193060819986048,
          57.2313581011729,
          49.057307110471314,
          68.93310571120011,
          69.48801495129693,
          51.37931399019353,
          31.026211253176367,
          38.7194208281884,
          57.85273232281536,
          35.495358400644896,
          27.739810757781687,
          59.2911758993869,
          55.65182254866171,
          26.115956915181936,
          31.39696544924056,
          34.25082097935568,
          50.09801566824494,
          29.928771233937628,
          54.82018774413714,
          47.27203973643263,
          29.05998719323274,
          31.019150917380294,
          48.011091155770835,
          27.01578017696185,
          29.0933575893427,
          29.760201688236226,
          28.360150068384566,
          44.13487812205032,
          29.02561678195536,
          31.50111247182238,
          28.49140310574071,
          55.07129755715894,
          55.42597513741118,
          30.11840939887178,
          29.463635619942373,
          59.540534035454336,
          28.323088945598293,
          35.13467390028593,
          33.05252927392813,
          61.458396915427926,
          36.20427813161068,
          39.59852544074549,
          30.351087693533145,
          33.953684544493,
          42.921694359861256,
          31.850834419212923,
          48.54806274206383,
          28.181865768705837,
          39.05605854272837,
          41.2359107460301,
          31.35647983007059,
          32.77584106164391,
          66.16854165112906,
          56.658424963323974,
          41.63944111826611,
          34.55509875733721,
          61.025700018486155,
          30.05246561379469,
          35.62713203355523,
          34.31356281381099,
          32.76038067876057,
          66.19273880795794,
          34.70700805755387,
          60.01248575743648,
          30.87404585818991,
          35.58899257253485,
          35.038307190092986,
          32.27594527324617,
          42.106465943602785,
          32.68364284820714,
          38.09683659295833,
          36.32850405574679,
          33.6140565242861,
          44.767355242699,
          37.63657022788402,
          56.87496968894096,
          51.620990664837564,
          35.84730954837891,
          59.36162716756871,
          67.15118344169161,
          32.1146025916219,
          44.51674830496976,
          37.62378946374352,
          51.203519413928646,
          44.77787296405627,
          50.99990862061445,
          59.976854311637915,
          31.87536144127601,
          41.233886275754486,
          40.34929626980264,
          40.14747455152493,
          60.7269797556144,
          37.65759320692539,
          38.372061876528086,
          35.78167039863287,
          42.152888538600926,
          37.15400698695806,
          54.94366774558618,
          38.50398257504108,
          63.46404099131713,
          39.21035370840765,
          83.48572863419052,
          47.21123427994417,
          65.998821353678,
          52.872278815168926,
          40.19471578353193,
          40.24282158877313,
          40.453010951568224,
          40.58912041640572,
          36.95051299729794,
          52.34997319204974,
          42.473820335446106,
          41.75266790089593,
          36.237651409617726,
          38.23870137165499,
          52.99243115460483,
          49.04934114031779,
          38.442408530889594,
          44.89739714982587,
          43.65753786435754,
          59.53146963989018,
          68.90270858023884,
          71.62049283473216,
          68.47795508502585,
          43.774754465769156,
          42.129149486472876,
          39.9437288973817,
          68.22929236527409,
          53.084821018727084,
          46.509434273359176,
          72.75729072699328,
          61.55544904894449,
          69.97823279459163
         ],
         "xaxis": "x",
         "y": [
          "469",
          "370",
          "281",
          "492",
          "126",
          "113",
          "250",
          "177",
          "444",
          "513",
          "512",
          "121",
          "331",
          "372",
          "244",
          "230",
          "130",
          "455",
          "144",
          "178",
          "302",
          "297",
          "262",
          "182",
          "482",
          "273",
          "443",
          "255",
          "407",
          "190",
          "401",
          "239",
          "123",
          "506",
          "170",
          "202",
          "530",
          "490",
          "343",
          "296",
          "553",
          "381",
          "427",
          "299",
          "192",
          "467",
          "300",
          "209",
          "292",
          "152",
          "233",
          "535",
          "312",
          "125",
          "307",
          "242",
          "351",
          "141",
          "237",
          "420",
          "425",
          "156",
          "223",
          "263",
          "163",
          "511",
          "290",
          "480",
          "276",
          "532",
          "134",
          "303",
          "412",
          "319",
          "551",
          "301",
          "215",
          "544",
          "352",
          "221",
          "314",
          "186",
          "197",
          "104",
          "231",
          "117",
          "543",
          "310",
          "257",
          "193",
          "107",
          "109",
          "111",
          "520",
          "176",
          "504",
          "124",
          "447",
          "198",
          "294",
          "196",
          "151",
          "404",
          "280",
          "155",
          "495",
          "282",
          "464",
          "371",
          "315",
          "253",
          "128",
          "115",
          "486",
          "199",
          "171",
          "169",
          "537",
          "204",
          "142",
          "440",
          "232",
          "309",
          "365",
          "353",
          "191",
          "411",
          "172",
          "159",
          "164",
          "261",
          "298",
          "133",
          "264",
          "150",
          "187",
          "377",
          "143",
          "174",
          "293",
          "140",
          "147",
          "339",
          "132",
          "158",
          "240",
          "205",
          "525",
          "179",
          "185",
          "387",
          "103",
          "251",
          "271",
          "106",
          "406",
          "278",
          "287",
          "481",
          "523",
          "212",
          "265",
          "180",
          "184",
          "334",
          "275",
          "317",
          "433",
          "515",
          "430",
          "139",
          "194",
          "165",
          "118",
          "485",
          "389",
          "181",
          "188",
          "342",
          "201",
          "426",
          "405",
          "383",
          "284",
          "362",
          "419",
          "210",
          "432",
          "127",
          "254",
          "509",
          "243",
          "266",
          "283",
          "131",
          "162",
          "245",
          "493",
          "295",
          "453",
          "138",
          "491",
          "272",
          "173",
          "146",
          "148",
          "306",
          "149",
          "403",
          "114",
          "258",
          "422",
          "116",
          "517",
          "291",
          "431",
          "483",
          "135",
          "112",
          "380",
          "119",
          "108",
          "252",
          "248",
          "521",
          "203",
          "229",
          "207",
          "500",
          "494",
          "505",
          "484",
          "220",
          "413",
          "270",
          "102",
          "336",
          "256",
          "249",
          "514",
          "224",
          "289",
          "502",
          "416",
          "325",
          "279",
          "145",
          "238",
          "434",
          "395",
          "439",
          "508",
          "488",
          "421",
          "417",
          "452",
          "408",
          "311",
          "424",
          "361",
          "101",
          "153",
          "122",
          "120",
          "409"
         ],
         "yaxis": "y"
        },
        {
         "marker": {
          "color": "red",
          "size": 3
         },
         "mode": "lines",
         "name": "Mean AR_fev1_o2_2d dist",
         "type": "scatter",
         "x": [
          32.21994598235273,
          35.48230364844688
         ],
         "xaxis": "x2",
         "y": [
          "372",
          "372"
         ],
         "yaxis": "y2"
        },
        {
         "marker": {
          "color": "red",
          "size": 3
         },
         "mode": "lines",
         "name": "Mean AR_fev1_o2_2d dist",
         "type": "scatter",
         "x": [
          40.0671476466326,
          44.38174299058426
         ],
         "xaxis": "x2",
         "y": [
          "202",
          "202"
         ],
         "yaxis": "y2"
        },
        {
         "marker": {
          "color": "red",
          "size": 3
         },
         "mode": "lines",
         "name": "Mean AR_fev1_o2_2d dist",
         "type": "scatter",
         "x": [
          17.69875415768936,
          22.060884349618753
         ],
         "xaxis": "x2",
         "y": [
          "113",
          "113"
         ],
         "yaxis": "y2"
        },
        {
         "marker": {
          "color": "red",
          "size": 3
         },
         "mode": "lines",
         "name": "Mean AR_fev1_o2_2d dist",
         "type": "scatter",
         "x": [
          1.500737520290855,
          3.8629144037105614
         ],
         "xaxis": "x2",
         "y": [
          "469",
          "469"
         ],
         "yaxis": "y2"
        },
        {
         "marker": {
          "color": "red",
          "size": 3
         },
         "mode": "lines",
         "name": "Mean AR_fev1_o2_2d dist",
         "type": "scatter",
         "x": [
          4.023973947725885,
          8.308175044749678
         ],
         "xaxis": "x2",
         "y": [
          "370",
          "370"
         ],
         "yaxis": "y2"
        },
        {
         "marker": {
          "color": "red",
          "size": 3
         },
         "mode": "lines",
         "name": "Mean AR_fev1_o2_2d dist",
         "type": "scatter",
         "x": [
          11.260781531125625,
          16.308335971471266
         ],
         "xaxis": "x2",
         "y": [
          "126",
          "126"
         ],
         "yaxis": "y2"
        },
        {
         "marker": {
          "color": "red",
          "size": 3
         },
         "mode": "lines",
         "name": "Mean AR_fev1_o2_2d dist",
         "type": "scatter",
         "x": [
          2.534098823190182,
          9.194852538476788
         ],
         "xaxis": "x2",
         "y": [
          "281",
          "281"
         ],
         "yaxis": "y2"
        },
        {
         "marker": {
          "color": "red",
          "size": 3
         },
         "mode": "lines",
         "name": "Mean AR_fev1_o2_2d dist",
         "type": "scatter",
         "x": [
          15.15968866553649,
          22.280700528986678
         ],
         "xaxis": "x2",
         "y": [
          "331",
          "331"
         ],
         "yaxis": "y2"
        },
        {
         "marker": {
          "color": "red",
          "size": 3
         },
         "mode": "lines",
         "name": "Mean AR_fev1_o2_2d dist",
         "type": "scatter",
         "x": [
          8.00519705691638,
          14.793041226760012
         ],
         "xaxis": "x2",
         "y": [
          "250",
          "250"
         ],
         "yaxis": "y2"
        },
        {
         "marker": {
          "color": "red",
          "size": 3
         },
         "mode": "lines",
         "name": "Mean AR_fev1_o2_2d dist",
         "type": "scatter",
         "x": [
          3.585900970807903,
          10.784894348156483
         ],
         "xaxis": "x2",
         "y": [
          "492",
          "492"
         ],
         "yaxis": "y2"
        },
        {
         "marker": {
          "color": "red",
          "size": 3
         },
         "mode": "lines",
         "name": "Mean AR_fev1_o2_2d dist",
         "type": "scatter",
         "x": [
          4.7811558300016594,
          12.682548311518676
         ],
         "xaxis": "x2",
         "y": [
          "177",
          "177"
         ],
         "yaxis": "y2"
        },
        {
         "marker": {
          "color": "red",
          "size": 3
         },
         "mode": "lines",
         "name": "Mean AR_fev1_o2_2d dist",
         "type": "scatter",
         "x": [
          5.902339535873826,
          13.82935050352911
         ],
         "xaxis": "x2",
         "y": [
          "513",
          "513"
         ],
         "yaxis": "y2"
        },
        {
         "marker": {
          "color": "red",
          "size": 3
         },
         "mode": "lines",
         "name": "Mean AR_fev1_o2_2d dist",
         "type": "scatter",
         "x": [
          3.4129243963193496,
          11.675048269756033
         ],
         "xaxis": "x2",
         "y": [
          "444",
          "444"
         ],
         "yaxis": "y2"
        },
        {
         "marker": {
          "color": "red",
          "size": 3
         },
         "mode": "lines",
         "name": "Mean AR_fev1_o2_2d dist",
         "type": "scatter",
         "x": [
          8.271993142100397,
          16.65664738642478
         ],
         "xaxis": "x2",
         "y": [
          "230",
          "230"
         ],
         "yaxis": "y2"
        },
        {
         "marker": {
          "color": "red",
          "size": 3
         },
         "mode": "lines",
         "name": "Mean AR_fev1_o2_2d dist",
         "type": "scatter",
         "x": [
          4.567775988426642,
          13.242458745108538
         ],
         "xaxis": "x2",
         "y": [
          "121",
          "121"
         ],
         "yaxis": "y2"
        },
        {
         "marker": {
          "color": "red",
          "size": 3
         },
         "mode": "lines",
         "name": "Mean AR_fev1_o2_2d dist",
         "type": "scatter",
         "x": [
          3.0264141961679814,
          11.770591771651004
         ],
         "xaxis": "x2",
         "y": [
          "512",
          "512"
         ],
         "yaxis": "y2"
        },
        {
         "marker": {
          "color": "red",
          "size": 3
         },
         "mode": "lines",
         "name": "Mean AR_fev1_o2_2d dist",
         "type": "scatter",
         "x": [
          7.150857320902031,
          16.00536351516289
         ],
         "xaxis": "x2",
         "y": [
          "244",
          "244"
         ],
         "yaxis": "y2"
        },
        {
         "marker": {
          "color": "red",
          "size": 3
         },
         "mode": "lines",
         "name": "Mean AR_fev1_o2_2d dist",
         "type": "scatter",
         "x": [
          11.82406610982682,
          20.372916331246934
         ],
         "xaxis": "x2",
         "y": [
          "262",
          "262"
         ],
         "yaxis": "y2"
        },
        {
         "marker": {
          "color": "red",
          "size": 3
         },
         "mode": "lines",
         "name": "Mean AR_fev1_o2_2d dist",
         "type": "scatter",
         "x": [
          9.617725833939561,
          17.701447025822254
         ],
         "xaxis": "x2",
         "y": [
          "302",
          "302"
         ],
         "yaxis": "y2"
        },
        {
         "marker": {
          "color": "red",
          "size": 3
         },
         "mode": "lines",
         "name": "Mean AR_fev1_o2_2d dist",
         "type": "scatter",
         "x": [
          10.200513415726148,
          18.354222793064427
         ],
         "xaxis": "x2",
         "y": [
          "178",
          "178"
         ],
         "yaxis": "y2"
        },
        {
         "marker": {
          "color": "red",
          "size": 3
         },
         "mode": "lines",
         "name": "Mean AR_fev1_o2_2d dist",
         "type": "scatter",
         "x": [
          10.154171703140813,
          19.81928281570849
         ],
         "xaxis": "x2",
         "y": [
          "182",
          "182"
         ],
         "yaxis": "y2"
        },
        {
         "marker": {
          "color": "red",
          "size": 3
         },
         "mode": "lines",
         "name": "Mean AR_fev1_o2_2d dist",
         "type": "scatter",
         "x": [
          14.915904472544812,
          23.251328776472032
         ],
         "xaxis": "x2",
         "y": [
          "530",
          "530"
         ],
         "yaxis": "y2"
        },
        {
         "marker": {
          "color": "red",
          "size": 3
         },
         "mode": "lines",
         "name": "Mean AR_fev1_o2_2d dist",
         "type": "scatter",
         "x": [
          10.75275696883257,
          19.933238165899535
         ],
         "xaxis": "x2",
         "y": [
          "273",
          "273"
         ],
         "yaxis": "y2"
        },
        {
         "marker": {
          "color": "red",
          "size": 3
         },
         "mode": "lines",
         "name": "Mean AR_fev1_o2_2d dist",
         "type": "scatter",
         "x": [
          29.85858694182049,
          36.728346724484
         ],
         "xaxis": "x2",
         "y": [
          "104",
          "104"
         ],
         "yaxis": "y2"
        },
        {
         "marker": {
          "color": "red",
          "size": 3
         },
         "mode": "lines",
         "name": "Mean AR_fev1_o2_2d dist",
         "type": "scatter",
         "x": [
          3.634512189388095,
          13.710156575953166
         ],
         "xaxis": "x2",
         "y": [
          "130",
          "130"
         ],
         "yaxis": "y2"
        },
        {
         "marker": {
          "color": "red",
          "size": 3
         },
         "mode": "lines",
         "name": "Mean AR_fev1_o2_2d dist",
         "type": "scatter",
         "x": [
          6.951894553062526,
          17.336146448208275
         ],
         "xaxis": "x2",
         "y": [
          "455",
          "455"
         ],
         "yaxis": "y2"
        },
        {
         "marker": {
          "color": "red",
          "size": 3
         },
         "mode": "lines",
         "name": "Mean AR_fev1_o2_2d dist",
         "type": "scatter",
         "x": [
          19.034484365928353,
          27.67247358805627
         ],
         "xaxis": "x2",
         "y": [
          "242",
          "242"
         ],
         "yaxis": "y2"
        },
        {
         "marker": {
          "color": "red",
          "size": 3
         },
         "mode": "lines",
         "name": "Mean AR_fev1_o2_2d dist",
         "type": "scatter",
         "x": [
          7.589590396031056,
          17.40280710143871
         ],
         "xaxis": "x2",
         "y": [
          "297",
          "297"
         ],
         "yaxis": "y2"
        },
        {
         "marker": {
          "color": "red",
          "size": 3
         },
         "mode": "lines",
         "name": "Mean AR_fev1_o2_2d dist",
         "type": "scatter",
         "x": [
          5.5964427813443685,
          15.749755189019716
         ],
         "xaxis": "x2",
         "y": [
          "144",
          "144"
         ],
         "yaxis": "y2"
        },
        {
         "marker": {
          "color": "red",
          "size": 3
         },
         "mode": "lines",
         "name": "Mean AR_fev1_o2_2d dist",
         "type": "scatter",
         "x": [
          6.787515454814898,
          16.475510461868776
         ],
         "xaxis": "x2",
         "y": [
          "482",
          "482"
         ],
         "yaxis": "y2"
        },
        {
         "marker": {
          "color": "red",
          "size": 3
         },
         "mode": "lines",
         "name": "Mean AR_fev1_o2_2d dist",
         "type": "scatter",
         "x": [
          9.641135569112965,
          20.215226932231978
         ],
         "xaxis": "x2",
         "y": [
          "506",
          "506"
         ],
         "yaxis": "y2"
        },
        {
         "marker": {
          "color": "red",
          "size": 3
         },
         "mode": "lines",
         "name": "Mean AR_fev1_o2_2d dist",
         "type": "scatter",
         "x": [
          6.774555582482961,
          17.64379563644822
         ],
         "xaxis": "x2",
         "y": [
          "255",
          "255"
         ],
         "yaxis": "y2"
        },
        {
         "marker": {
          "color": "red",
          "size": 3
         },
         "mode": "lines",
         "name": "Mean AR_fev1_o2_2d dist",
         "type": "scatter",
         "x": [
          11.30190612737259,
          21.35186489104426
         ],
         "xaxis": "x2",
         "y": [
          "490",
          "490"
         ],
         "yaxis": "y2"
        },
        {
         "marker": {
          "color": "red",
          "size": 3
         },
         "mode": "lines",
         "name": "Mean AR_fev1_o2_2d dist",
         "type": "scatter",
         "x": [
          6.325136790281045,
          18.888248893267644
         ],
         "xaxis": "x2",
         "y": [
          "443",
          "443"
         ],
         "yaxis": "y2"
        },
        {
         "marker": {
          "color": "red",
          "size": 3
         },
         "mode": "lines",
         "name": "Mean AR_fev1_o2_2d dist",
         "type": "scatter",
         "x": [
          14.304711970023513,
          24.54719403820331
         ],
         "xaxis": "x2",
         "y": [
          "141",
          "141"
         ],
         "yaxis": "y2"
        },
        {
         "marker": {
          "color": "red",
          "size": 3
         },
         "mode": "lines",
         "name": "Mean AR_fev1_o2_2d dist",
         "type": "scatter",
         "x": [
          5.123550285460682,
          15.876339961320985
         ],
         "xaxis": "x2",
         "y": [
          "190",
          "190"
         ],
         "yaxis": "y2"
        },
        {
         "marker": {
          "color": "red",
          "size": 3
         },
         "mode": "lines",
         "name": "Mean AR_fev1_o2_2d dist",
         "type": "scatter",
         "x": [
          4.949559407458367,
          16.80895663779708
         ],
         "xaxis": "x2",
         "y": [
          "407",
          "407"
         ],
         "yaxis": "y2"
        },
        {
         "marker": {
          "color": "red",
          "size": 3
         },
         "mode": "lines",
         "name": "Mean AR_fev1_o2_2d dist",
         "type": "scatter",
         "x": [
          12.930961007970188,
          23.887704136064528
         ],
         "xaxis": "x2",
         "y": [
          "233",
          "233"
         ],
         "yaxis": "y2"
        },
        {
         "marker": {
          "color": "red",
          "size": 3
         },
         "mode": "lines",
         "name": "Mean AR_fev1_o2_2d dist",
         "type": "scatter",
         "x": [
          9.14323096132989,
          20.49724450522258
         ],
         "xaxis": "x2",
         "y": [
          "343",
          "343"
         ],
         "yaxis": "y2"
        },
        {
         "marker": {
          "color": "red",
          "size": 3
         },
         "mode": "lines",
         "name": "Mean AR_fev1_o2_2d dist",
         "type": "scatter",
         "x": [
          10.312893073067555,
          21.688360953094577
         ],
         "xaxis": "x2",
         "y": [
          "427",
          "427"
         ],
         "yaxis": "y2"
        },
        {
         "marker": {
          "color": "red",
          "size": 3
         },
         "mode": "lines",
         "name": "Mean AR_fev1_o2_2d dist",
         "type": "scatter",
         "x": [
          6.423263750175647,
          17.72765094778849
         ],
         "xaxis": "x2",
         "y": [
          "401",
          "401"
         ],
         "yaxis": "y2"
        },
        {
         "marker": {
          "color": "red",
          "size": 3
         },
         "mode": "lines",
         "name": "Mean AR_fev1_o2_2d dist",
         "type": "scatter",
         "x": [
          6.365048441516016,
          18.28448610581741
         ],
         "xaxis": "x2",
         "y": [
          "239",
          "239"
         ],
         "yaxis": "y2"
        },
        {
         "marker": {
          "color": "red",
          "size": 3
         },
         "mode": "lines",
         "name": "Mean AR_fev1_o2_2d dist",
         "type": "scatter",
         "x": [
          25.840605531376653,
          34.59066897641644
         ],
         "xaxis": "x2",
         "y": [
          "107",
          "107"
         ],
         "yaxis": "y2"
        },
        {
         "marker": {
          "color": "red",
          "size": 3
         },
         "mode": "lines",
         "name": "Mean AR_fev1_o2_2d dist",
         "type": "scatter",
         "x": [
          9.282473934551614,
          20.832047391579156
         ],
         "xaxis": "x2",
         "y": [
          "381",
          "381"
         ],
         "yaxis": "y2"
        },
        {
         "marker": {
          "color": "red",
          "size": 3
         },
         "mode": "lines",
         "name": "Mean AR_fev1_o2_2d dist",
         "type": "scatter",
         "x": [
          6.086024035842471,
          17.719420146093356
         ],
         "xaxis": "x2",
         "y": [
          "123",
          "123"
         ],
         "yaxis": "y2"
        },
        {
         "marker": {
          "color": "red",
          "size": 3
         },
         "mode": "lines",
         "name": "Mean AR_fev1_o2_2d dist",
         "type": "scatter",
         "x": [
          10.904102908693984,
          22.550345695225694
         ],
         "xaxis": "x2",
         "y": [
          "152",
          "152"
         ],
         "yaxis": "y2"
        },
        {
         "marker": {
          "color": "red",
          "size": 3
         },
         "mode": "lines",
         "name": "Mean AR_fev1_o2_2d dist",
         "type": "scatter",
         "x": [
          9.390231955289368,
          19.515882982146167
         ],
         "xaxis": "x2",
         "y": [
          "467",
          "467"
         ],
         "yaxis": "y2"
        },
        {
         "marker": {
          "color": "red",
          "size": 3
         },
         "mode": "lines",
         "name": "Mean AR_fev1_o2_2d dist",
         "type": "scatter",
         "x": [
          15.6048600030319,
          26.43164220044379
         ],
         "xaxis": "x2",
         "y": [
          "532",
          "532"
         ],
         "yaxis": "y2"
        },
        {
         "marker": {
          "color": "red",
          "size": 3
         },
         "mode": "lines",
         "name": "Mean AR_fev1_o2_2d dist",
         "type": "scatter",
         "x": [
          6.682176925412296,
          18.547977437101665
         ],
         "xaxis": "x2",
         "y": [
          "170",
          "170"
         ],
         "yaxis": "y2"
        },
        {
         "marker": {
          "color": "red",
          "size": 3
         },
         "mode": "lines",
         "name": "Mean AR_fev1_o2_2d dist",
         "type": "scatter",
         "x": [
          8.627550060098237,
          17.783649629262126
         ],
         "xaxis": "x2",
         "y": [
          "209",
          "209"
         ],
         "yaxis": "y2"
        },
        {
         "marker": {
          "color": "red",
          "size": 3
         },
         "mode": "lines",
         "name": "Mean AR_fev1_o2_2d dist",
         "type": "scatter",
         "x": [
          11.558197100945831,
          23.16414883042482
         ],
         "xaxis": "x2",
         "y": [
          "125",
          "125"
         ],
         "yaxis": "y2"
        },
        {
         "marker": {
          "color": "red",
          "size": 3
         },
         "mode": "lines",
         "name": "Mean AR_fev1_o2_2d dist",
         "type": "scatter",
         "x": [
          9.55057699638276,
          21.568324362662015
         ],
         "xaxis": "x2",
         "y": [
          "192",
          "192"
         ],
         "yaxis": "y2"
        },
        {
         "marker": {
          "color": "red",
          "size": 3
         },
         "mode": "lines",
         "name": "Mean AR_fev1_o2_2d dist",
         "type": "scatter",
         "x": [
          11.2452785481391,
          23.248277938051494
         ],
         "xaxis": "x2",
         "y": [
          "312",
          "312"
         ],
         "yaxis": "y2"
        },
        {
         "marker": {
          "color": "red",
          "size": 3
         },
         "mode": "lines",
         "name": "Mean AR_fev1_o2_2d dist",
         "type": "scatter",
         "x": [
          7.307170219365096,
          19.996651876650112
         ],
         "xaxis": "x2",
         "y": [
          "296",
          "296"
         ],
         "yaxis": "y2"
        },
        {
         "marker": {
          "color": "red",
          "size": 3
         },
         "mode": "lines",
         "name": "Mean AR_fev1_o2_2d dist",
         "type": "scatter",
         "x": [
          8.234037112000939,
          20.770410045510147
         ],
         "xaxis": "x2",
         "y": [
          "299",
          "299"
         ],
         "yaxis": "y2"
        },
        {
         "marker": {
          "color": "red",
          "size": 3
         },
         "mode": "lines",
         "name": "Mean AR_fev1_o2_2d dist",
         "type": "scatter",
         "x": [
          9.090490212417475,
          21.509517603375794
         ],
         "xaxis": "x2",
         "y": [
          "292",
          "292"
         ],
         "yaxis": "y2"
        },
        {
         "marker": {
          "color": "red",
          "size": 3
         },
         "mode": "lines",
         "name": "Mean AR_fev1_o2_2d dist",
         "type": "scatter",
         "x": [
          7.076928842406085,
          19.327123730751705
         ],
         "xaxis": "x2",
         "y": [
          "553",
          "553"
         ],
         "yaxis": "y2"
        },
        {
         "marker": {
          "color": "red",
          "size": 3
         },
         "mode": "lines",
         "name": "Mean AR_fev1_o2_2d dist",
         "type": "scatter",
         "x": [
          21.37968800251197,
          31.635026206159417
         ],
         "xaxis": "x2",
         "y": [
          "221",
          "221"
         ],
         "yaxis": "y2"
        },
        {
         "marker": {
          "color": "red",
          "size": 3
         },
         "mode": "lines",
         "name": "Mean AR_fev1_o2_2d dist",
         "type": "scatter",
         "x": [
          12.045405169346823,
          24.98607675523409
         ],
         "xaxis": "x2",
         "y": [
          "420",
          "420"
         ],
         "yaxis": "y2"
        },
        {
         "marker": {
          "color": "red",
          "size": 3
         },
         "mode": "lines",
         "name": "Mean AR_fev1_o2_2d dist",
         "type": "scatter",
         "x": [
          12.919992978039085,
          25.09552769033395
         ],
         "xaxis": "x2",
         "y": [
          "480",
          "480"
         ],
         "yaxis": "y2"
        },
        {
         "marker": {
          "color": "red",
          "size": 3
         },
         "mode": "lines",
         "name": "Mean AR_fev1_o2_2d dist",
         "type": "scatter",
         "x": [
          14.13759501822111,
          25.88013012461858
         ],
         "xaxis": "x2",
         "y": [
          "134",
          "134"
         ],
         "yaxis": "y2"
        },
        {
         "marker": {
          "color": "red",
          "size": 3
         },
         "mode": "lines",
         "name": "Mean AR_fev1_o2_2d dist",
         "type": "scatter",
         "x": [
          10.703694822315416,
          22.086486639042487
         ],
         "xaxis": "x2",
         "y": [
          "156",
          "156"
         ],
         "yaxis": "y2"
        },
        {
         "marker": {
          "color": "red",
          "size": 3
         },
         "mode": "lines",
         "name": "Mean AR_fev1_o2_2d dist",
         "type": "scatter",
         "x": [
          11.222702540522905,
          23.753550053065066
         ],
         "xaxis": "x2",
         "y": [
          "263",
          "263"
         ],
         "yaxis": "y2"
        },
        {
         "marker": {
          "color": "red",
          "size": 3
         },
         "mode": "lines",
         "name": "Mean AR_fev1_o2_2d dist",
         "type": "scatter",
         "x": [
          14.52472757664451,
          26.680622113588242
         ],
         "xaxis": "x2",
         "y": [
          "551",
          "551"
         ],
         "yaxis": "y2"
        },
        {
         "marker": {
          "color": "red",
          "size": 3
         },
         "mode": "lines",
         "name": "Mean AR_fev1_o2_2d dist",
         "type": "scatter",
         "x": [
          11.617842451835093,
          24.41277298368546
         ],
         "xaxis": "x2",
         "y": [
          "290",
          "290"
         ],
         "yaxis": "y2"
        },
        {
         "marker": {
          "color": "red",
          "size": 3
         },
         "mode": "lines",
         "name": "Mean AR_fev1_o2_2d dist",
         "type": "scatter",
         "x": [
          8.986280864094153,
          22.057732062530707
         ],
         "xaxis": "x2",
         "y": [
          "307",
          "307"
         ],
         "yaxis": "y2"
        },
        {
         "marker": {
          "color": "red",
          "size": 3
         },
         "mode": "lines",
         "name": "Mean AR_fev1_o2_2d dist",
         "type": "scatter",
         "x": [
          11.528447030772247,
          24.853999379235795
         ],
         "xaxis": "x2",
         "y": [
          "511",
          "511"
         ],
         "yaxis": "y2"
        },
        {
         "marker": {
          "color": "red",
          "size": 3
         },
         "mode": "lines",
         "name": "Mean AR_fev1_o2_2d dist",
         "type": "scatter",
         "x": [
          6.94124673870662,
          20.39164228675676
         ],
         "xaxis": "x2",
         "y": [
          "300",
          "300"
         ],
         "yaxis": "y2"
        },
        {
         "marker": {
          "color": "red",
          "size": 3
         },
         "mode": "lines",
         "name": "Mean AR_fev1_o2_2d dist",
         "type": "scatter",
         "x": [
          8.612321039300138,
          21.929851585012425
         ],
         "xaxis": "x2",
         "y": [
          "535",
          "535"
         ],
         "yaxis": "y2"
        },
        {
         "marker": {
          "color": "red",
          "size": 3
         },
         "mode": "lines",
         "name": "Mean AR_fev1_o2_2d dist",
         "type": "scatter",
         "x": [
          42.14284417111371,
          50.00632383940728
         ],
         "xaxis": "x2",
         "y": [
          "523",
          "523"
         ],
         "yaxis": "y2"
        },
        {
         "marker": {
          "color": "red",
          "size": 3
         },
         "mode": "lines",
         "name": "Mean AR_fev1_o2_2d dist",
         "type": "scatter",
         "x": [
          16.13917936075072,
          28.341472912348124
         ],
         "xaxis": "x2",
         "y": [
          "543",
          "543"
         ],
         "yaxis": "y2"
        },
        {
         "marker": {
          "color": "red",
          "size": 3
         },
         "mode": "lines",
         "name": "Mean AR_fev1_o2_2d dist",
         "type": "scatter",
         "x": [
          19.742146843752533,
          31.22684484115488
         ],
         "xaxis": "x2",
         "y": [
          "124",
          "124"
         ],
         "yaxis": "y2"
        },
        {
         "marker": {
          "color": "red",
          "size": 3
         },
         "mode": "lines",
         "name": "Mean AR_fev1_o2_2d dist",
         "type": "scatter",
         "x": [
          9.90506053442246,
          23.53022794830847
         ],
         "xaxis": "x2",
         "y": [
          "223",
          "223"
         ],
         "yaxis": "y2"
        },
        {
         "marker": {
          "color": "red",
          "size": 3
         },
         "mode": "lines",
         "name": "Mean AR_fev1_o2_2d dist",
         "type": "scatter",
         "x": [
          27.058048519229395,
          35.97502547881
         ],
         "xaxis": "x2",
         "y": [
          "185",
          "185"
         ],
         "yaxis": "y2"
        },
        {
         "marker": {
          "color": "red",
          "size": 3
         },
         "mode": "lines",
         "name": "Mean AR_fev1_o2_2d dist",
         "type": "scatter",
         "x": [
          13.649985774951057,
          28.09170956130469
         ],
         "xaxis": "x2",
         "y": [
          "352",
          "352"
         ],
         "yaxis": "y2"
        },
        {
         "marker": {
          "color": "red",
          "size": 3
         },
         "mode": "lines",
         "name": "Mean AR_fev1_o2_2d dist",
         "type": "scatter",
         "x": [
          15.14357969618793,
          29.130162536506045
         ],
         "xaxis": "x2",
         "y": [
          "231",
          "231"
         ],
         "yaxis": "y2"
        },
        {
         "marker": {
          "color": "red",
          "size": 3
         },
         "mode": "lines",
         "name": "Mean AR_fev1_o2_2d dist",
         "type": "scatter",
         "x": [
          15.806205070823472,
          28.271883644574334
         ],
         "xaxis": "x2",
         "y": [
          "117",
          "117"
         ],
         "yaxis": "y2"
        },
        {
         "marker": {
          "color": "red",
          "size": 3
         },
         "mode": "lines",
         "name": "Mean AR_fev1_o2_2d dist",
         "type": "scatter",
         "x": [
          10.355361447534486,
          23.58216638117532
         ],
         "xaxis": "x2",
         "y": [
          "276",
          "276"
         ],
         "yaxis": "y2"
        },
        {
         "marker": {
          "color": "red",
          "size": 3
         },
         "mode": "lines",
         "name": "Mean AR_fev1_o2_2d dist",
         "type": "scatter",
         "x": [
          8.671835957628966,
          22.395369799720825
         ],
         "xaxis": "x2",
         "y": [
          "425",
          "425"
         ],
         "yaxis": "y2"
        },
        {
         "marker": {
          "color": "red",
          "size": 3
         },
         "mode": "lines",
         "name": "Mean AR_fev1_o2_2d dist",
         "type": "scatter",
         "x": [
          7.61575919886384,
          21.231925678399694
         ],
         "xaxis": "x2",
         "y": [
          "351",
          "351"
         ],
         "yaxis": "y2"
        },
        {
         "marker": {
          "color": "red",
          "size": 3
         },
         "mode": "lines",
         "name": "Mean AR_fev1_o2_2d dist",
         "type": "scatter",
         "x": [
          7.818043859157073,
          21.721428383983316
         ],
         "xaxis": "x2",
         "y": [
          "237",
          "237"
         ],
         "yaxis": "y2"
        },
        {
         "marker": {
          "color": "red",
          "size": 3
         },
         "mode": "lines",
         "name": "Mean AR_fev1_o2_2d dist",
         "type": "scatter",
         "x": [
          8.664927171130346,
          22.705427704914275
         ],
         "xaxis": "x2",
         "y": [
          "163",
          "163"
         ],
         "yaxis": "y2"
        },
        {
         "marker": {
          "color": "red",
          "size": 3
         },
         "mode": "lines",
         "name": "Mean AR_fev1_o2_2d dist",
         "type": "scatter",
         "x": [
          19.12750078732379,
          31.452343693455493
         ],
         "xaxis": "x2",
         "y": [
          "193",
          "193"
         ],
         "yaxis": "y2"
        },
        {
         "marker": {
          "color": "red",
          "size": 3
         },
         "mode": "lines",
         "name": "Mean AR_fev1_o2_2d dist",
         "type": "scatter",
         "x": [
          18.83693019219299,
          31.0467873615655
         ],
         "xaxis": "x2",
         "y": [
          "294",
          "294"
         ],
         "yaxis": "y2"
        },
        {
         "marker": {
          "color": "red",
          "size": 3
         },
         "mode": "lines",
         "name": "Mean AR_fev1_o2_2d dist",
         "type": "scatter",
         "x": [
          13.843273319402398,
          27.292735754863056
         ],
         "xaxis": "x2",
         "y": [
          "197",
          "197"
         ],
         "yaxis": "y2"
        },
        {
         "marker": {
          "color": "red",
          "size": 3
         },
         "mode": "lines",
         "name": "Mean AR_fev1_o2_2d dist",
         "type": "scatter",
         "x": [
          11.826413135319942,
          26.61937828238346
         ],
         "xaxis": "x2",
         "y": [
          "319",
          "319"
         ],
         "yaxis": "y2"
        },
        {
         "marker": {
          "color": "red",
          "size": 3
         },
         "mode": "lines",
         "name": "Mean AR_fev1_o2_2d dist",
         "type": "scatter",
         "x": [
          15.173202257794815,
          28.296398462653585
         ],
         "xaxis": "x2",
         "y": [
          "310",
          "310"
         ],
         "yaxis": "y2"
        },
        {
         "marker": {
          "color": "red",
          "size": 3
         },
         "mode": "lines",
         "name": "Mean AR_fev1_o2_2d dist",
         "type": "scatter",
         "x": [
          11.19856244495268,
          25.309072620353657
         ],
         "xaxis": "x2",
         "y": [
          "303",
          "303"
         ],
         "yaxis": "y2"
        },
        {
         "marker": {
          "color": "red",
          "size": 3
         },
         "mode": "lines",
         "name": "Mean AR_fev1_o2_2d dist",
         "type": "scatter",
         "x": [
          26.52178799833097,
          38.00075996449423
         ],
         "xaxis": "x2",
         "y": [
          "196",
          "196"
         ],
         "yaxis": "y2"
        },
        {
         "marker": {
          "color": "red",
          "size": 3
         },
         "mode": "lines",
         "name": "Mean AR_fev1_o2_2d dist",
         "type": "scatter",
         "x": [
          10.887931768452685,
          25.85516288949178
         ],
         "xaxis": "x2",
         "y": [
          "215",
          "215"
         ],
         "yaxis": "y2"
        },
        {
         "marker": {
          "color": "red",
          "size": 3
         },
         "mode": "lines",
         "name": "Mean AR_fev1_o2_2d dist",
         "type": "scatter",
         "x": [
          9.903455390623765,
          24.027881351707954
         ],
         "xaxis": "x2",
         "y": [
          "544",
          "544"
         ],
         "yaxis": "y2"
        },
        {
         "marker": {
          "color": "red",
          "size": 3
         },
         "mode": "lines",
         "name": "Mean AR_fev1_o2_2d dist",
         "type": "scatter",
         "x": [
          9.877038169085777,
          25.345308779914394
         ],
         "xaxis": "x2",
         "y": [
          "412",
          "412"
         ],
         "yaxis": "y2"
        },
        {
         "marker": {
          "color": "red",
          "size": 3
         },
         "mode": "lines",
         "name": "Mean AR_fev1_o2_2d dist",
         "type": "scatter",
         "x": [
          11.422871182053361,
          26.2455160888393
         ],
         "xaxis": "x2",
         "y": [
          "186",
          "186"
         ],
         "yaxis": "y2"
        },
        {
         "marker": {
          "color": "red",
          "size": 3
         },
         "mode": "lines",
         "name": "Mean AR_fev1_o2_2d dist",
         "type": "scatter",
         "x": [
          19.372263007302482,
          32.35479389296813
         ],
         "xaxis": "x2",
         "y": [
          "133",
          "133"
         ],
         "yaxis": "y2"
        },
        {
         "marker": {
          "color": "red",
          "size": 3
         },
         "mode": "lines",
         "name": "Mean AR_fev1_o2_2d dist",
         "type": "scatter",
         "x": [
          24.50007726656071,
          36.798277759145115
         ],
         "xaxis": "x2",
         "y": [
          "174",
          "174"
         ],
         "yaxis": "y2"
        },
        {
         "marker": {
          "color": "red",
          "size": 3
         },
         "mode": "lines",
         "name": "Mean AR_fev1_o2_2d dist",
         "type": "scatter",
         "x": [
          20.75246721625358,
          34.047941621592216
         ],
         "xaxis": "x2",
         "y": [
          "353",
          "353"
         ],
         "yaxis": "y2"
        },
        {
         "marker": {
          "color": "red",
          "size": 3
         },
         "mode": "lines",
         "name": "Mean AR_fev1_o2_2d dist",
         "type": "scatter",
         "x": [
          15.775815088844334,
          29.823805903383334
         ],
         "xaxis": "x2",
         "y": [
          "176",
          "176"
         ],
         "yaxis": "y2"
        },
        {
         "marker": {
          "color": "red",
          "size": 3
         },
         "mode": "lines",
         "name": "Mean AR_fev1_o2_2d dist",
         "type": "scatter",
         "x": [
          10.746018551054204,
          25.732197003342336
         ],
         "xaxis": "x2",
         "y": [
          "314",
          "314"
         ],
         "yaxis": "y2"
        },
        {
         "marker": {
          "color": "red",
          "size": 3
         },
         "mode": "lines",
         "name": "Mean AR_fev1_o2_2d dist",
         "type": "scatter",
         "x": [
          17.194505571625715,
          31.537274348028685
         ],
         "xaxis": "x2",
         "y": [
          "504",
          "504"
         ],
         "yaxis": "y2"
        },
        {
         "marker": {
          "color": "red",
          "size": 3
         },
         "mode": "lines",
         "name": "Mean AR_fev1_o2_2d dist",
         "type": "scatter",
         "x": [
          13.493203503997176,
          28.796572765370346
         ],
         "xaxis": "x2",
         "y": [
          "257",
          "257"
         ],
         "yaxis": "y2"
        },
        {
         "marker": {
          "color": "red",
          "size": 3
         },
         "mode": "lines",
         "name": "Mean AR_fev1_o2_2d dist",
         "type": "scatter",
         "x": [
          13.912763103264082,
          28.472634961045973
         ],
         "xaxis": "x2",
         "y": [
          "109",
          "109"
         ],
         "yaxis": "y2"
        },
        {
         "marker": {
          "color": "red",
          "size": 3
         },
         "mode": "lines",
         "name": "Mean AR_fev1_o2_2d dist",
         "type": "scatter",
         "x": [
          16.2087893590629,
          31.17947585813712
         ],
         "xaxis": "x2",
         "y": [
          "371",
          "371"
         ],
         "yaxis": "y2"
        },
        {
         "marker": {
          "color": "red",
          "size": 3
         },
         "mode": "lines",
         "name": "Mean AR_fev1_o2_2d dist",
         "type": "scatter",
         "x": [
          18.42357484534583,
          32.10295044321283
         ],
         "xaxis": "x2",
         "y": [
          "115",
          "115"
         ],
         "yaxis": "y2"
        },
        {
         "marker": {
          "color": "red",
          "size": 3
         },
         "mode": "lines",
         "name": "Mean AR_fev1_o2_2d dist",
         "type": "scatter",
         "x": [
          9.15854910927078,
          24.742796816633867
         ],
         "xaxis": "x2",
         "y": [
          "301",
          "301"
         ],
         "yaxis": "y2"
        },
        {
         "marker": {
          "color": "red",
          "size": 3
         },
         "mode": "lines",
         "name": "Mean AR_fev1_o2_2d dist",
         "type": "scatter",
         "x": [
          18.828785126318515,
          32.66685327358932
         ],
         "xaxis": "x2",
         "y": [
          "172",
          "172"
         ],
         "yaxis": "y2"
        },
        {
         "marker": {
          "color": "red",
          "size": 3
         },
         "mode": "lines",
         "name": "Mean AR_fev1_o2_2d dist",
         "type": "scatter",
         "x": [
          28.516770249518107,
          40.70392953651841
         ],
         "xaxis": "x2",
         "y": [
          "147",
          "147"
         ],
         "yaxis": "y2"
        },
        {
         "marker": {
          "color": "red",
          "size": 3
         },
         "mode": "lines",
         "name": "Mean AR_fev1_o2_2d dist",
         "type": "scatter",
         "x": [
          16.973212471935092,
          31.282085644358162
         ],
         "xaxis": "x2",
         "y": [
          "171",
          "171"
         ],
         "yaxis": "y2"
        },
        {
         "marker": {
          "color": "red",
          "size": 3
         },
         "mode": "lines",
         "name": "Mean AR_fev1_o2_2d dist",
         "type": "scatter",
         "x": [
          16.528411889303488,
          31.071148221143172
         ],
         "xaxis": "x2",
         "y": [
          "280",
          "280"
         ],
         "yaxis": "y2"
        },
        {
         "marker": {
          "color": "red",
          "size": 3
         },
         "mode": "lines",
         "name": "Mean AR_fev1_o2_2d dist",
         "type": "scatter",
         "x": [
          15.99554597042981,
          30.631205242791488
         ],
         "xaxis": "x2",
         "y": [
          "537",
          "537"
         ],
         "yaxis": "y2"
        },
        {
         "marker": {
          "color": "red",
          "size": 3
         },
         "mode": "lines",
         "name": "Mean AR_fev1_o2_2d dist",
         "type": "scatter",
         "x": [
          16.393868344914402,
          30.922220122788136
         ],
         "xaxis": "x2",
         "y": [
          "495",
          "495"
         ],
         "yaxis": "y2"
        },
        {
         "marker": {
          "color": "red",
          "size": 3
         },
         "mode": "lines",
         "name": "Mean AR_fev1_o2_2d dist",
         "type": "scatter",
         "x": [
          22.769941175247236,
          36.576764614210006
         ],
         "xaxis": "x2",
         "y": [
          "271",
          "271"
         ],
         "yaxis": "y2"
        },
        {
         "marker": {
          "color": "red",
          "size": 3
         },
         "mode": "lines",
         "name": "Mean AR_fev1_o2_2d dist",
         "type": "scatter",
         "x": [
          23.2541827190973,
          36.6836365941825
         ],
         "xaxis": "x2",
         "y": [
          "205",
          "205"
         ],
         "yaxis": "y2"
        },
        {
         "marker": {
          "color": "red",
          "size": 3
         },
         "mode": "lines",
         "name": "Mean AR_fev1_o2_2d dist",
         "type": "scatter",
         "x": [
          13.396833985010119,
          29.121157904508063
         ],
         "xaxis": "x2",
         "y": [
          "447",
          "447"
         ],
         "yaxis": "y2"
        },
        {
         "marker": {
          "color": "red",
          "size": 3
         },
         "mode": "lines",
         "name": "Mean AR_fev1_o2_2d dist",
         "type": "scatter",
         "x": [
          17.619102224358944,
          34.546197528279194
         ],
         "xaxis": "x2",
         "y": [
          "339",
          "339"
         ],
         "yaxis": "y2"
        },
        {
         "marker": {
          "color": "red",
          "size": 3
         },
         "mode": "lines",
         "name": "Mean AR_fev1_o2_2d dist",
         "type": "scatter",
         "x": [
          19.010369290594664,
          34.011011678197725
         ],
         "xaxis": "x2",
         "y": [
          "201",
          "201"
         ],
         "yaxis": "y2"
        },
        {
         "marker": {
          "color": "red",
          "size": 3
         },
         "mode": "lines",
         "name": "Mean AR_fev1_o2_2d dist",
         "type": "scatter",
         "x": [
          33.075201215402146,
          45.74289226086721
         ],
         "xaxis": "x2",
         "y": [
          "169",
          "169"
         ],
         "yaxis": "y2"
        },
        {
         "marker": {
          "color": "red",
          "size": 3
         },
         "mode": "lines",
         "name": "Mean AR_fev1_o2_2d dist",
         "type": "scatter",
         "x": [
          15.123127086023707,
          30.584962282138033
         ],
         "xaxis": "x2",
         "y": [
          "199",
          "199"
         ],
         "yaxis": "y2"
        },
        {
         "marker": {
          "color": "red",
          "size": 3
         },
         "mode": "lines",
         "name": "Mean AR_fev1_o2_2d dist",
         "type": "scatter",
         "x": [
          14.307500529685889,
          30.323639562993076
         ],
         "xaxis": "x2",
         "y": [
          "315",
          "315"
         ],
         "yaxis": "y2"
        },
        {
         "marker": {
          "color": "red",
          "size": 3
         },
         "mode": "lines",
         "name": "Mean AR_fev1_o2_2d dist",
         "type": "scatter",
         "x": [
          16.827623036107248,
          32.81126556090326
         ],
         "xaxis": "x2",
         "y": [
          "204",
          "204"
         ],
         "yaxis": "y2"
        },
        {
         "marker": {
          "color": "red",
          "size": 3
         },
         "mode": "lines",
         "name": "Mean AR_fev1_o2_2d dist",
         "type": "scatter",
         "x": [
          14.76153269530258,
          32.21500106077194
         ],
         "xaxis": "x2",
         "y": [
          "464",
          "464"
         ],
         "yaxis": "y2"
        },
        {
         "marker": {
          "color": "red",
          "size": 3
         },
         "mode": "lines",
         "name": "Mean AR_fev1_o2_2d dist",
         "type": "scatter",
         "x": [
          17.702714004529117,
          32.561570615677034
         ],
         "xaxis": "x2",
         "y": [
          "406",
          "406"
         ],
         "yaxis": "y2"
        },
        {
         "marker": {
          "color": "red",
          "size": 3
         },
         "mode": "lines",
         "name": "Mean AR_fev1_o2_2d dist",
         "type": "scatter",
         "x": [
          13.638885150263867,
          29.397302204181305
         ],
         "xaxis": "x2",
         "y": [
          "151",
          "151"
         ],
         "yaxis": "y2"
        },
        {
         "marker": {
          "color": "red",
          "size": 3
         },
         "mode": "lines",
         "name": "Mean AR_fev1_o2_2d dist",
         "type": "scatter",
         "x": [
          17.005776873841278,
          32.391782631390996
         ],
         "xaxis": "x2",
         "y": [
          "164",
          "164"
         ],
         "yaxis": "y2"
        },
        {
         "marker": {
          "color": "red",
          "size": 3
         },
         "mode": "lines",
         "name": "Mean AR_fev1_o2_2d dist",
         "type": "scatter",
         "x": [
          16.093806455348336,
          31.952558853152937
         ],
         "xaxis": "x2",
         "y": [
          "240",
          "240"
         ],
         "yaxis": "y2"
        },
        {
         "marker": {
          "color": "red",
          "size": 3
         },
         "mode": "lines",
         "name": "Mean AR_fev1_o2_2d dist",
         "type": "scatter",
         "x": [
          60.736773347707334,
          70.62500373624033
         ],
         "xaxis": "x2",
         "y": [
          "520",
          "520"
         ],
         "yaxis": "y2"
        },
        {
         "marker": {
          "color": "red",
          "size": 3
         },
         "mode": "lines",
         "name": "Mean AR_fev1_o2_2d dist",
         "type": "scatter",
         "x": [
          16.42032118110007,
          32.09951923128337
         ],
         "xaxis": "x2",
         "y": [
          "261",
          "261"
         ],
         "yaxis": "y2"
        },
        {
         "marker": {
          "color": "red",
          "size": 3
         },
         "mode": "lines",
         "name": "Mean AR_fev1_o2_2d dist",
         "type": "scatter",
         "x": [
          54.71523398237578,
          65.94700214872425
         ],
         "xaxis": "x2",
         "y": [
          "111",
          "111"
         ],
         "yaxis": "y2"
        },
        {
         "marker": {
          "color": "red",
          "size": 3
         },
         "mode": "lines",
         "name": "Mean AR_fev1_o2_2d dist",
         "type": "scatter",
         "x": [
          19.53846240559702,
          34.844489116327715
         ],
         "xaxis": "x2",
         "y": [
          "317",
          "317"
         ],
         "yaxis": "y2"
        },
        {
         "marker": {
          "color": "red",
          "size": 3
         },
         "mode": "lines",
         "name": "Mean AR_fev1_o2_2d dist",
         "type": "scatter",
         "x": [
          20.828434096648827,
          34.60660899996436
         ],
         "xaxis": "x2",
         "y": [
          "254",
          "254"
         ],
         "yaxis": "y2"
        },
        {
         "marker": {
          "color": "red",
          "size": 3
         },
         "mode": "lines",
         "name": "Mean AR_fev1_o2_2d dist",
         "type": "scatter",
         "x": [
          65.01901617802156,
          73.5646490070778
         ],
         "xaxis": "x2",
         "y": [
          "404",
          "404"
         ],
         "yaxis": "y2"
        },
        {
         "marker": {
          "color": "red",
          "size": 3
         },
         "mode": "lines",
         "name": "Mean AR_fev1_o2_2d dist",
         "type": "scatter",
         "x": [
          58.928590596937624,
          69.2101800138102
         ],
         "xaxis": "x2",
         "y": [
          "155",
          "155"
         ],
         "yaxis": "y2"
        },
        {
         "marker": {
          "color": "red",
          "size": 3
         },
         "mode": "lines",
         "name": "Mean AR_fev1_o2_2d dist",
         "type": "scatter",
         "x": [
          60.45146287238112,
          70.30529527824878
         ],
         "xaxis": "x2",
         "y": [
          "282",
          "282"
         ],
         "yaxis": "y2"
        },
        {
         "marker": {
          "color": "red",
          "size": 3
         },
         "mode": "lines",
         "name": "Mean AR_fev1_o2_2d dist",
         "type": "scatter",
         "x": [
          15.81716941345045,
          32.398992806186655
         ],
         "xaxis": "x2",
         "y": [
          "191",
          "191"
         ],
         "yaxis": "y2"
        },
        {
         "marker": {
          "color": "red",
          "size": 3
         },
         "mode": "lines",
         "name": "Mean AR_fev1_o2_2d dist",
         "type": "scatter",
         "x": [
          51.51175283867995,
          63.197153178975206
         ],
         "xaxis": "x2",
         "y": [
          "253",
          "253"
         ],
         "yaxis": "y2"
        },
        {
         "marker": {
          "color": "red",
          "size": 3
         },
         "mode": "lines",
         "name": "Mean AR_fev1_o2_2d dist",
         "type": "scatter",
         "x": [
          45.68759936922666,
          59.13425127516856
         ],
         "xaxis": "x2",
         "y": [
          "198",
          "198"
         ],
         "yaxis": "y2"
        },
        {
         "marker": {
          "color": "red",
          "size": 3
         },
         "mode": "lines",
         "name": "Mean AR_fev1_o2_2d dist",
         "type": "scatter",
         "x": [
          57.78240386209987,
          68.03510155207641
         ],
         "xaxis": "x2",
         "y": [
          "486",
          "486"
         ],
         "yaxis": "y2"
        },
        {
         "marker": {
          "color": "red",
          "size": 3
         },
         "mode": "lines",
         "name": "Mean AR_fev1_o2_2d dist",
         "type": "scatter",
         "x": [
          19.106481441502524,
          34.83309639656305
         ],
         "xaxis": "x2",
         "y": [
          "287",
          "287"
         ],
         "yaxis": "y2"
        },
        {
         "marker": {
          "color": "red",
          "size": 3
         },
         "mode": "lines",
         "name": "Mean AR_fev1_o2_2d dist",
         "type": "scatter",
         "x": [
          45.63529791538213,
          58.213187933059324
         ],
         "xaxis": "x2",
         "y": [
          "128",
          "128"
         ],
         "yaxis": "y2"
        },
        {
         "marker": {
          "color": "red",
          "size": 3
         },
         "mode": "lines",
         "name": "Mean AR_fev1_o2_2d dist",
         "type": "scatter",
         "x": [
          18.524818584504242,
          33.912483033221164
         ],
         "xaxis": "x2",
         "y": [
          "251",
          "251"
         ],
         "yaxis": "y2"
        },
        {
         "marker": {
          "color": "red",
          "size": 3
         },
         "mode": "lines",
         "name": "Mean AR_fev1_o2_2d dist",
         "type": "scatter",
         "x": [
          24.441413935137977,
          38.924752756395975
         ],
         "xaxis": "x2",
         "y": [
          "432",
          "432"
         ],
         "yaxis": "y2"
        },
        {
         "marker": {
          "color": "red",
          "size": 3
         },
         "mode": "lines",
         "name": "Mean AR_fev1_o2_2d dist",
         "type": "scatter",
         "x": [
          61.40352418497614,
          70.67526265329481
         ],
         "xaxis": "x2",
         "y": [
          "187",
          "187"
         ],
         "yaxis": "y2"
        },
        {
         "marker": {
          "color": "red",
          "size": 3
         },
         "mode": "lines",
         "name": "Mean AR_fev1_o2_2d dist",
         "type": "scatter",
         "x": [
          64.63210278564215,
          73.15171115711128
         ],
         "xaxis": "x2",
         "y": [
          "411",
          "411"
         ],
         "yaxis": "y2"
        },
        {
         "marker": {
          "color": "red",
          "size": 3
         },
         "mode": "lines",
         "name": "Mean AR_fev1_o2_2d dist",
         "type": "scatter",
         "x": [
          17.997657166010693,
          34.29955100359303
         ],
         "xaxis": "x2",
         "y": [
          "278",
          "278"
         ],
         "yaxis": "y2"
        },
        {
         "marker": {
          "color": "red",
          "size": 3
         },
         "mode": "lines",
         "name": "Mean AR_fev1_o2_2d dist",
         "type": "scatter",
         "x": [
          19.207052866147286,
          35.14001791322243
         ],
         "xaxis": "x2",
         "y": [
          "275",
          "275"
         ],
         "yaxis": "y2"
        },
        {
         "marker": {
          "color": "red",
          "size": 3
         },
         "mode": "lines",
         "name": "Mean AR_fev1_o2_2d dist",
         "type": "scatter",
         "x": [
          45.988549946490565,
          59.21796849636093
         ],
         "xaxis": "x2",
         "y": [
          "142",
          "142"
         ],
         "yaxis": "y2"
        },
        {
         "marker": {
          "color": "red",
          "size": 3
         },
         "mode": "lines",
         "name": "Mean AR_fev1_o2_2d dist",
         "type": "scatter",
         "x": [
          16.617351831957123,
          34.06767088091809
         ],
         "xaxis": "x2",
         "y": [
          "515",
          "515"
         ],
         "yaxis": "y2"
        },
        {
         "marker": {
          "color": "red",
          "size": 3
         },
         "mode": "lines",
         "name": "Mean AR_fev1_o2_2d dist",
         "type": "scatter",
         "x": [
          43.595910990279584,
          57.461467946764074
         ],
         "xaxis": "x2",
         "y": [
          "440",
          "440"
         ],
         "yaxis": "y2"
        },
        {
         "marker": {
          "color": "red",
          "size": 3
         },
         "mode": "lines",
         "name": "Mean AR_fev1_o2_2d dist",
         "type": "scatter",
         "x": [
          24.347053887719486,
          38.97573949093424
         ],
         "xaxis": "x2",
         "y": [
          "131",
          "131"
         ],
         "yaxis": "y2"
        },
        {
         "marker": {
          "color": "red",
          "size": 3
         },
         "mode": "lines",
         "name": "Mean AR_fev1_o2_2d dist",
         "type": "scatter",
         "x": [
          20.38792696323157,
          36.466093810475044
         ],
         "xaxis": "x2",
         "y": [
          "265",
          "265"
         ],
         "yaxis": "y2"
        },
        {
         "marker": {
          "color": "red",
          "size": 3
         },
         "mode": "lines",
         "name": "Mean AR_fev1_o2_2d dist",
         "type": "scatter",
         "x": [
          34.29383119466513,
          49.29324906680713
         ],
         "xaxis": "x2",
         "y": [
          "159",
          "159"
         ],
         "yaxis": "y2"
        },
        {
         "marker": {
          "color": "red",
          "size": 3
         },
         "mode": "lines",
         "name": "Mean AR_fev1_o2_2d dist",
         "type": "scatter",
         "x": [
          17.114425860499697,
          33.47948121295927
         ],
         "xaxis": "x2",
         "y": [
          "180",
          "180"
         ],
         "yaxis": "y2"
        },
        {
         "marker": {
          "color": "red",
          "size": 3
         },
         "mode": "lines",
         "name": "Mean AR_fev1_o2_2d dist",
         "type": "scatter",
         "x": [
          19.631234802390978,
          34.63957216508678
         ],
         "xaxis": "x2",
         "y": [
          "485",
          "485"
         ],
         "yaxis": "y2"
        },
        {
         "marker": {
          "color": "red",
          "size": 3
         },
         "mode": "lines",
         "name": "Mean AR_fev1_o2_2d dist",
         "type": "scatter",
         "x": [
          38.91779443681924,
          52.76405013909968
         ],
         "xaxis": "x2",
         "y": [
          "150",
          "150"
         ],
         "yaxis": "y2"
        },
        {
         "marker": {
          "color": "red",
          "size": 3
         },
         "mode": "lines",
         "name": "Mean AR_fev1_o2_2d dist",
         "type": "scatter",
         "x": [
          21.917672426725932,
          37.72445492096306
         ],
         "xaxis": "x2",
         "y": [
          "139",
          "139"
         ],
         "yaxis": "y2"
        },
        {
         "marker": {
          "color": "red",
          "size": 3
         },
         "mode": "lines",
         "name": "Mean AR_fev1_o2_2d dist",
         "type": "scatter",
         "x": [
          16.7365286774202,
          33.50884869448126
         ],
         "xaxis": "x2",
         "y": [
          "481",
          "481"
         ],
         "yaxis": "y2"
        },
        {
         "marker": {
          "color": "red",
          "size": 3
         },
         "mode": "lines",
         "name": "Mean AR_fev1_o2_2d dist",
         "type": "scatter",
         "x": [
          22.483968015492763,
          39.44806534071365
         ],
         "xaxis": "x2",
         "y": [
          "525",
          "525"
         ],
         "yaxis": "y2"
        },
        {
         "marker": {
          "color": "red",
          "size": 3
         },
         "mode": "lines",
         "name": "Mean AR_fev1_o2_2d dist",
         "type": "scatter",
         "x": [
          20.795708420428348,
          36.852922441050964
         ],
         "xaxis": "x2",
         "y": [
          "116",
          "116"
         ],
         "yaxis": "y2"
        },
        {
         "marker": {
          "color": "red",
          "size": 3
         },
         "mode": "lines",
         "name": "Mean AR_fev1_o2_2d dist",
         "type": "scatter",
         "x": [
          38.58521434237137,
          53.66092358701238
         ],
         "xaxis": "x2",
         "y": [
          "365",
          "365"
         ],
         "yaxis": "y2"
        },
        {
         "marker": {
          "color": "red",
          "size": 3
         },
         "mode": "lines",
         "name": "Mean AR_fev1_o2_2d dist",
         "type": "scatter",
         "x": [
          17.32697627864047,
          34.076227675515845
         ],
         "xaxis": "x2",
         "y": [
          "212",
          "212"
         ],
         "yaxis": "y2"
        },
        {
         "marker": {
          "color": "red",
          "size": 3
         },
         "mode": "lines",
         "name": "Mean AR_fev1_o2_2d dist",
         "type": "scatter",
         "x": [
          27.072357555630468,
          43.68483254099765
         ],
         "xaxis": "x2",
         "y": [
          "293",
          "293"
         ],
         "yaxis": "y2"
        },
        {
         "marker": {
          "color": "red",
          "size": 3
         },
         "mode": "lines",
         "name": "Mean AR_fev1_o2_2d dist",
         "type": "scatter",
         "x": [
          20.006613181908484,
          35.931805351154985
         ],
         "xaxis": "x2",
         "y": [
          "383",
          "383"
         ],
         "yaxis": "y2"
        },
        {
         "marker": {
          "color": "red",
          "size": 3
         },
         "mode": "lines",
         "name": "Mean AR_fev1_o2_2d dist",
         "type": "scatter",
         "x": [
          20.356158629056686,
          36.48580189645188
         ],
         "xaxis": "x2",
         "y": [
          "188",
          "188"
         ],
         "yaxis": "y2"
        },
        {
         "marker": {
          "color": "red",
          "size": 3
         },
         "mode": "lines",
         "name": "Mean AR_fev1_o2_2d dist",
         "type": "scatter",
         "x": [
          22.604952404545198,
          40.69508595125333
         ],
         "xaxis": "x2",
         "y": [
          "430",
          "430"
         ],
         "yaxis": "y2"
        },
        {
         "marker": {
          "color": "red",
          "size": 3
         },
         "mode": "lines",
         "name": "Mean AR_fev1_o2_2d dist",
         "type": "scatter",
         "x": [
          21.583267688986325,
          36.86362894346964
         ],
         "xaxis": "x2",
         "y": [
          "266",
          "266"
         ],
         "yaxis": "y2"
        },
        {
         "marker": {
          "color": "red",
          "size": 3
         },
         "mode": "lines",
         "name": "Mean AR_fev1_o2_2d dist",
         "type": "scatter",
         "x": [
          24.97264261421488,
          40.30984412150881
         ],
         "xaxis": "x2",
         "y": [
          "165",
          "165"
         ],
         "yaxis": "y2"
        },
        {
         "marker": {
          "color": "red",
          "size": 3
         },
         "mode": "lines",
         "name": "Mean AR_fev1_o2_2d dist",
         "type": "scatter",
         "x": [
          26.85171605614565,
          41.23812781257062
         ],
         "xaxis": "x2",
         "y": [
          "291",
          "291"
         ],
         "yaxis": "y2"
        },
        {
         "marker": {
          "color": "red",
          "size": 3
         },
         "mode": "lines",
         "name": "Mean AR_fev1_o2_2d dist",
         "type": "scatter",
         "x": [
          35.99712141486792,
          51.38542960328052
         ],
         "xaxis": "x2",
         "y": [
          "103",
          "103"
         ],
         "yaxis": "y2"
        },
        {
         "marker": {
          "color": "red",
          "size": 3
         },
         "mode": "lines",
         "name": "Mean AR_fev1_o2_2d dist",
         "type": "scatter",
         "x": [
          44.138770888694,
          58.31123721111489
         ],
         "xaxis": "x2",
         "y": [
          "387",
          "387"
         ],
         "yaxis": "y2"
        },
        {
         "marker": {
          "color": "red",
          "size": 3
         },
         "mode": "lines",
         "name": "Mean AR_fev1_o2_2d dist",
         "type": "scatter",
         "x": [
          23.641182527698895,
          40.325878362267055
         ],
         "xaxis": "x2",
         "y": [
          "493",
          "493"
         ],
         "yaxis": "y2"
        },
        {
         "marker": {
          "color": "red",
          "size": 3
         },
         "mode": "lines",
         "name": "Mean AR_fev1_o2_2d dist",
         "type": "scatter",
         "x": [
          36.81129526684294,
          51.97204404742692
         ],
         "xaxis": "x2",
         "y": [
          "106",
          "106"
         ],
         "yaxis": "y2"
        },
        {
         "marker": {
          "color": "red",
          "size": 3
         },
         "mode": "lines",
         "name": "Mean AR_fev1_o2_2d dist",
         "type": "scatter",
         "x": [
          19.602762949401974,
          34.86193684119816
         ],
         "xaxis": "x2",
         "y": [
          "245",
          "245"
         ],
         "yaxis": "y2"
        },
        {
         "marker": {
          "color": "red",
          "size": 3
         },
         "mode": "lines",
         "name": "Mean AR_fev1_o2_2d dist",
         "type": "scatter",
         "x": [
          46.667509977011214,
          60.493146616533515
         ],
         "xaxis": "x2",
         "y": [
          "264",
          "264"
         ],
         "yaxis": "y2"
        },
        {
         "marker": {
          "color": "red",
          "size": 3
         },
         "mode": "lines",
         "name": "Mean AR_fev1_o2_2d dist",
         "type": "scatter",
         "x": [
          28.292214603103663,
          43.59665241582427
         ],
         "xaxis": "x2",
         "y": [
          "118",
          "118"
         ],
         "yaxis": "y2"
        },
        {
         "marker": {
          "color": "red",
          "size": 3
         },
         "mode": "lines",
         "name": "Mean AR_fev1_o2_2d dist",
         "type": "scatter",
         "x": [
          22.25627939328049,
          40.46297919517602
         ],
         "xaxis": "x2",
         "y": [
          "295",
          "295"
         ],
         "yaxis": "y2"
        },
        {
         "marker": {
          "color": "red",
          "size": 3
         },
         "mode": "lines",
         "name": "Mean AR_fev1_o2_2d dist",
         "type": "scatter",
         "x": [
          59.286179398891925,
          72.31733332135305
         ],
         "xaxis": "x2",
         "y": [
          "377",
          "377"
         ],
         "yaxis": "y2"
        },
        {
         "marker": {
          "color": "red",
          "size": 3
         },
         "mode": "lines",
         "name": "Mean AR_fev1_o2_2d dist",
         "type": "scatter",
         "x": [
          22.13415092202428,
          38.28253215063593
         ],
         "xaxis": "x2",
         "y": [
          "389",
          "389"
         ],
         "yaxis": "y2"
        },
        {
         "marker": {
          "color": "red",
          "size": 3
         },
         "mode": "lines",
         "name": "Mean AR_fev1_o2_2d dist",
         "type": "scatter",
         "x": [
          31.363374946740812,
          46.95537153323965
         ],
         "xaxis": "x2",
         "y": [
          "181",
          "181"
         ],
         "yaxis": "y2"
        },
        {
         "marker": {
          "color": "red",
          "size": 3
         },
         "mode": "lines",
         "name": "Mean AR_fev1_o2_2d dist",
         "type": "scatter",
         "x": [
          29.661885513801156,
          43.859339260109316
         ],
         "xaxis": "x2",
         "y": [
          "224",
          "224"
         ],
         "yaxis": "y2"
        },
        {
         "marker": {
          "color": "red",
          "size": 3
         },
         "mode": "lines",
         "name": "Mean AR_fev1_o2_2d dist",
         "type": "scatter",
         "x": [
          24.329031969932444,
          39.66980259003032
         ],
         "xaxis": "x2",
         "y": [
          "114",
          "114"
         ],
         "yaxis": "y2"
        },
        {
         "marker": {
          "color": "red",
          "size": 3
         },
         "mode": "lines",
         "name": "Mean AR_fev1_o2_2d dist",
         "type": "scatter",
         "x": [
          20.957367756524214,
          36.827939658159735
         ],
         "xaxis": "x2",
         "y": [
          "284",
          "284"
         ],
         "yaxis": "y2"
        },
        {
         "marker": {
          "color": "red",
          "size": 3
         },
         "mode": "lines",
         "name": "Mean AR_fev1_o2_2d dist",
         "type": "scatter",
         "x": [
          48.677853696159474,
          62.11994965354803
         ],
         "xaxis": "x2",
         "y": [
          "132",
          "132"
         ],
         "yaxis": "y2"
        },
        {
         "marker": {
          "color": "red",
          "size": 3
         },
         "mode": "lines",
         "name": "Mean AR_fev1_o2_2d dist",
         "type": "scatter",
         "x": [
          51.8594263879963,
          63.10003652299922
         ],
         "xaxis": "x2",
         "y": [
          "194",
          "194"
         ],
         "yaxis": "y2"
        },
        {
         "marker": {
          "color": "red",
          "size": 3
         },
         "mode": "lines",
         "name": "Mean AR_fev1_o2_2d dist",
         "type": "scatter",
         "x": [
          45.10164099784648,
          58.17951180644316
         ],
         "xaxis": "x2",
         "y": [
          "158",
          "158"
         ],
         "yaxis": "y2"
        },
        {
         "marker": {
          "color": "red",
          "size": 3
         },
         "mode": "lines",
         "name": "Mean AR_fev1_o2_2d dist",
         "type": "scatter",
         "x": [
          22.861420177112077,
          40.322322875592285
         ],
         "xaxis": "x2",
         "y": [
          "509",
          "509"
         ],
         "yaxis": "y2"
        },
        {
         "marker": {
          "color": "red",
          "size": 3
         },
         "mode": "lines",
         "name": "Mean AR_fev1_o2_2d dist",
         "type": "scatter",
         "x": [
          56.206737753918645,
          68.05525867931814
         ],
         "xaxis": "x2",
         "y": [
          "362",
          "362"
         ],
         "yaxis": "y2"
        },
        {
         "marker": {
          "color": "red",
          "size": 3
         },
         "mode": "lines",
         "name": "Mean AR_fev1_o2_2d dist",
         "type": "scatter",
         "x": [
          44.293593579153374,
          58.41816006013201
         ],
         "xaxis": "x2",
         "y": [
          "334",
          "334"
         ],
         "yaxis": "y2"
        },
        {
         "marker": {
          "color": "red",
          "size": 3
         },
         "mode": "lines",
         "name": "Mean AR_fev1_o2_2d dist",
         "type": "scatter",
         "x": [
          40.833200627020524,
          53.02566281163998
         ],
         "xaxis": "x2",
         "y": [
          "135",
          "135"
         ],
         "yaxis": "y2"
        },
        {
         "marker": {
          "color": "red",
          "size": 3
         },
         "mode": "lines",
         "name": "Mean AR_fev1_o2_2d dist",
         "type": "scatter",
         "x": [
          45.34657913109651,
          59.80340078970689
         ],
         "xaxis": "x2",
         "y": [
          "419",
          "419"
         ],
         "yaxis": "y2"
        },
        {
         "marker": {
          "color": "red",
          "size": 3
         },
         "mode": "lines",
         "name": "Mean AR_fev1_o2_2d dist",
         "type": "scatter",
         "x": [
          20.4171903281751,
          36.727370799267234
         ],
         "xaxis": "x2",
         "y": [
          "491",
          "491"
         ],
         "yaxis": "y2"
        },
        {
         "marker": {
          "color": "red",
          "size": 3
         },
         "mode": "lines",
         "name": "Mean AR_fev1_o2_2d dist",
         "type": "scatter",
         "x": [
          46.7958127098398,
          64.03161179752827
         ],
         "xaxis": "x2",
         "y": [
          "433",
          "433"
         ],
         "yaxis": "y2"
        },
        {
         "marker": {
          "color": "red",
          "size": 3
         },
         "mode": "lines",
         "name": "Mean AR_fev1_o2_2d dist",
         "type": "scatter",
         "x": [
          21.877514367859035,
          38.45166862873714
         ],
         "xaxis": "x2",
         "y": [
          "243",
          "243"
         ],
         "yaxis": "y2"
        },
        {
         "marker": {
          "color": "red",
          "size": 3
         },
         "mode": "lines",
         "name": "Mean AR_fev1_o2_2d dist",
         "type": "scatter",
         "x": [
          21.116639463383155,
          37.787370935291825
         ],
         "xaxis": "x2",
         "y": [
          "146",
          "146"
         ],
         "yaxis": "y2"
        },
        {
         "marker": {
          "color": "red",
          "size": 3
         },
         "mode": "lines",
         "name": "Mean AR_fev1_o2_2d dist",
         "type": "scatter",
         "x": [
          19.74319300769575,
          36.2708685674164
         ],
         "xaxis": "x2",
         "y": [
          "453",
          "453"
         ],
         "yaxis": "y2"
        },
        {
         "marker": {
          "color": "red",
          "size": 3
         },
         "mode": "lines",
         "name": "Mean AR_fev1_o2_2d dist",
         "type": "scatter",
         "x": [
          25.967997862211288,
          40.76102476378375
         ],
         "xaxis": "x2",
         "y": [
          "306",
          "306"
         ],
         "yaxis": "y2"
        },
        {
         "marker": {
          "color": "red",
          "size": 3
         },
         "mode": "lines",
         "name": "Mean AR_fev1_o2_2d dist",
         "type": "scatter",
         "x": [
          24.981848983502534,
          42.63892918080917
         ],
         "xaxis": "x2",
         "y": [
          "272",
          "272"
         ],
         "yaxis": "y2"
        },
        {
         "marker": {
          "color": "red",
          "size": 3
         },
         "mode": "lines",
         "name": "Mean AR_fev1_o2_2d dist",
         "type": "scatter",
         "x": [
          49.3875718865214,
          61.984518110714525
         ],
         "xaxis": "x2",
         "y": [
          "232",
          "232"
         ],
         "yaxis": "y2"
        },
        {
         "marker": {
          "color": "red",
          "size": 3
         },
         "mode": "lines",
         "name": "Mean AR_fev1_o2_2d dist",
         "type": "scatter",
         "x": [
          40.15726627535471,
          54.83795651701556
         ],
         "xaxis": "x2",
         "y": [
          "309",
          "309"
         ],
         "yaxis": "y2"
        },
        {
         "marker": {
          "color": "red",
          "size": 3
         },
         "mode": "lines",
         "name": "Mean AR_fev1_o2_2d dist",
         "type": "scatter",
         "x": [
          28.58873080782721,
          45.157662079779946
         ],
         "xaxis": "x2",
         "y": [
          "405",
          "405"
         ],
         "yaxis": "y2"
        },
        {
         "marker": {
          "color": "red",
          "size": 3
         },
         "mode": "lines",
         "name": "Mean AR_fev1_o2_2d dist",
         "type": "scatter",
         "x": [
          46.53046751666419,
          60.44857630832883
         ],
         "xaxis": "x2",
         "y": [
          "140",
          "140"
         ],
         "yaxis": "y2"
        },
        {
         "marker": {
          "color": "red",
          "size": 3
         },
         "mode": "lines",
         "name": "Mean AR_fev1_o2_2d dist",
         "type": "scatter",
         "x": [
          28.170057481506067,
          43.37016592183658
         ],
         "xaxis": "x2",
         "y": [
          "252",
          "252"
         ],
         "yaxis": "y2"
        },
        {
         "marker": {
          "color": "red",
          "size": 3
         },
         "mode": "lines",
         "name": "Mean AR_fev1_o2_2d dist",
         "type": "scatter",
         "x": [
          39.75711830034811,
          54.19310581272796
         ],
         "xaxis": "x2",
         "y": [
          "143",
          "143"
         ],
         "yaxis": "y2"
        },
        {
         "marker": {
          "color": "red",
          "size": 3
         },
         "mode": "lines",
         "name": "Mean AR_fev1_o2_2d dist",
         "type": "scatter",
         "x": [
          23.923956182280165,
          39.92272752282153
         ],
         "xaxis": "x2",
         "y": [
          "173",
          "173"
         ],
         "yaxis": "y2"
        },
        {
         "marker": {
          "color": "red",
          "size": 3
         },
         "mode": "lines",
         "name": "Mean AR_fev1_o2_2d dist",
         "type": "scatter",
         "x": [
          43.094743819281206,
          58.22695316313779
         ],
         "xaxis": "x2",
         "y": [
          "184",
          "184"
         ],
         "yaxis": "y2"
        },
        {
         "marker": {
          "color": "red",
          "size": 3
         },
         "mode": "lines",
         "name": "Mean AR_fev1_o2_2d dist",
         "type": "scatter",
         "x": [
          49.37361404402445,
          61.686933111048475
         ],
         "xaxis": "x2",
         "y": [
          "112",
          "112"
         ],
         "yaxis": "y2"
        },
        {
         "marker": {
          "color": "red",
          "size": 3
         },
         "mode": "lines",
         "name": "Mean AR_fev1_o2_2d dist",
         "type": "scatter",
         "x": [
          26.718620058599313,
          42.38944628859431
         ],
         "xaxis": "x2",
         "y": [
          "426",
          "426"
         ],
         "yaxis": "y2"
        },
        {
         "marker": {
          "color": "red",
          "size": 3
         },
         "mode": "lines",
         "name": "Mean AR_fev1_o2_2d dist",
         "type": "scatter",
         "x": [
          29.346567145377744,
          44.90136971338222
         ],
         "xaxis": "x2",
         "y": [
          "210",
          "210"
         ],
         "yaxis": "y2"
        },
        {
         "marker": {
          "color": "red",
          "size": 3
         },
         "mode": "lines",
         "name": "Mean AR_fev1_o2_2d dist",
         "type": "scatter",
         "x": [
          75.53091558707315,
          82.37642384732048
         ],
         "xaxis": "x2",
         "y": [
          "413",
          "413"
         ],
         "yaxis": "y2"
        },
        {
         "marker": {
          "color": "red",
          "size": 3
         },
         "mode": "lines",
         "name": "Mean AR_fev1_o2_2d dist",
         "type": "scatter",
         "x": [
          49.739469620445156,
          63.189422987728115
         ],
         "xaxis": "x2",
         "y": [
          "127",
          "127"
         ],
         "yaxis": "y2"
        },
        {
         "marker": {
          "color": "red",
          "size": 3
         },
         "mode": "lines",
         "name": "Mean AR_fev1_o2_2d dist",
         "type": "scatter",
         "x": [
          35.75655796550005,
          52.17780695055386
         ],
         "xaxis": "x2",
         "y": [
          "342",
          "342"
         ],
         "yaxis": "y2"
        },
        {
         "marker": {
          "color": "red",
          "size": 3
         },
         "mode": "lines",
         "name": "Mean AR_fev1_o2_2d dist",
         "type": "scatter",
         "x": [
          27.04889540572732,
          40.62357672622076
         ],
         "xaxis": "x2",
         "y": [
          "395",
          "395"
         ],
         "yaxis": "y2"
        },
        {
         "marker": {
          "color": "red",
          "size": 3
         },
         "mode": "lines",
         "name": "Mean AR_fev1_o2_2d dist",
         "type": "scatter",
         "x": [
          26.572584203717103,
          42.45831290737019
         ],
         "xaxis": "x2",
         "y": [
          "220",
          "220"
         ],
         "yaxis": "y2"
        },
        {
         "marker": {
          "color": "red",
          "size": 3
         },
         "mode": "lines",
         "name": "Mean AR_fev1_o2_2d dist",
         "type": "scatter",
         "x": [
          37.77218089520447,
          52.9649667249108
         ],
         "xaxis": "x2",
         "y": [
          "179",
          "179"
         ],
         "yaxis": "y2"
        },
        {
         "marker": {
          "color": "red",
          "size": 3
         },
         "mode": "lines",
         "name": "Mean AR_fev1_o2_2d dist",
         "type": "scatter",
         "x": [
          32.53800769614254,
          47.481013033956906
         ],
         "xaxis": "x2",
         "y": [
          "148",
          "148"
         ],
         "yaxis": "y2"
        },
        {
         "marker": {
          "color": "red",
          "size": 3
         },
         "mode": "lines",
         "name": "Mean AR_fev1_o2_2d dist",
         "type": "scatter",
         "x": [
          47.41684912165468,
          61.720970435801824
         ],
         "xaxis": "x2",
         "y": [
          "258",
          "258"
         ],
         "yaxis": "y2"
        },
        {
         "marker": {
          "color": "red",
          "size": 3
         },
         "mode": "lines",
         "name": "Mean AR_fev1_o2_2d dist",
         "type": "scatter",
         "x": [
          18.781772123067096,
          35.2937447747538
         ],
         "xaxis": "x2",
         "y": [
          "380",
          "380"
         ],
         "yaxis": "y2"
        },
        {
         "marker": {
          "color": "red",
          "size": 3
         },
         "mode": "lines",
         "name": "Mean AR_fev1_o2_2d dist",
         "type": "scatter",
         "x": [
          30.426844471413975,
          44.77498354700198
         ],
         "xaxis": "x2",
         "y": [
          "416",
          "416"
         ],
         "yaxis": "y2"
        },
        {
         "marker": {
          "color": "red",
          "size": 3
         },
         "mode": "lines",
         "name": "Mean AR_fev1_o2_2d dist",
         "type": "scatter",
         "x": [
          24.339472797151327,
          39.807395637661294
         ],
         "xaxis": "x2",
         "y": [
          "289",
          "289"
         ],
         "yaxis": "y2"
        },
        {
         "marker": {
          "color": "red",
          "size": 3
         },
         "mode": "lines",
         "name": "Mean AR_fev1_o2_2d dist",
         "type": "scatter",
         "x": [
          29.258946991090816,
          45.183298086608985
         ],
         "xaxis": "x2",
         "y": [
          "138",
          "138"
         ],
         "yaxis": "y2"
        },
        {
         "marker": {
          "color": "red",
          "size": 3
         },
         "mode": "lines",
         "name": "Mean AR_fev1_o2_2d dist",
         "type": "scatter",
         "x": [
          55.703801827465476,
          66.90968456219807
         ],
         "xaxis": "x2",
         "y": [
          "283",
          "283"
         ],
         "yaxis": "y2"
        },
        {
         "marker": {
          "color": "red",
          "size": 3
         },
         "mode": "lines",
         "name": "Mean AR_fev1_o2_2d dist",
         "type": "scatter",
         "x": [
          25.686743803802756,
          41.54223030648251
         ],
         "xaxis": "x2",
         "y": [
          "505",
          "505"
         ],
         "yaxis": "y2"
        },
        {
         "marker": {
          "color": "red",
          "size": 3
         },
         "mode": "lines",
         "name": "Mean AR_fev1_o2_2d dist",
         "type": "scatter",
         "x": [
          23.5675193432692,
          39.09019516561123
         ],
         "xaxis": "x2",
         "y": [
          "279",
          "279"
         ],
         "yaxis": "y2"
        },
        {
         "marker": {
          "color": "red",
          "size": 3
         },
         "mode": "lines",
         "name": "Mean AR_fev1_o2_2d dist",
         "type": "scatter",
         "x": [
          25.525618491702282,
          41.34483750616455
         ],
         "xaxis": "x2",
         "y": [
          "203",
          "203"
         ],
         "yaxis": "y2"
        },
        {
         "marker": {
          "color": "red",
          "size": 3
         },
         "mode": "lines",
         "name": "Mean AR_fev1_o2_2d dist",
         "type": "scatter",
         "x": [
          24.594847855146075,
          40.74712441730014
         ],
         "xaxis": "x2",
         "y": [
          "521",
          "521"
         ],
         "yaxis": "y2"
        },
        {
         "marker": {
          "color": "red",
          "size": 3
         },
         "mode": "lines",
         "name": "Mean AR_fev1_o2_2d dist",
         "type": "scatter",
         "x": [
          26.962865210967827,
          43.39618279989212
         ],
         "xaxis": "x2",
         "y": [
          "249",
          "249"
         ],
         "yaxis": "y2"
        },
        {
         "marker": {
          "color": "red",
          "size": 3
         },
         "mode": "lines",
         "name": "Mean AR_fev1_o2_2d dist",
         "type": "scatter",
         "x": [
          48.78394731947445,
          62.412986917404254
         ],
         "xaxis": "x2",
         "y": [
          "248",
          "248"
         ],
         "yaxis": "y2"
        },
        {
         "marker": {
          "color": "red",
          "size": 3
         },
         "mode": "lines",
         "name": "Mean AR_fev1_o2_2d dist",
         "type": "scatter",
         "x": [
          28.200790218980824,
          43.97704368360606
         ],
         "xaxis": "x2",
         "y": [
          "119",
          "119"
         ],
         "yaxis": "y2"
        },
        {
         "marker": {
          "color": "red",
          "size": 3
         },
         "mode": "lines",
         "name": "Mean AR_fev1_o2_2d dist",
         "type": "scatter",
         "x": [
          23.461679033916976,
          40.51970314698961
         ],
         "xaxis": "x2",
         "y": [
          "500",
          "500"
         ],
         "yaxis": "y2"
        },
        {
         "marker": {
          "color": "red",
          "size": 3
         },
         "mode": "lines",
         "name": "Mean AR_fev1_o2_2d dist",
         "type": "scatter",
         "x": [
          21.56798428339868,
          39.487660880608615
         ],
         "xaxis": "x2",
         "y": [
          "229",
          "229"
         ],
         "yaxis": "y2"
        },
        {
         "marker": {
          "color": "red",
          "size": 3
         },
         "mode": "lines",
         "name": "Mean AR_fev1_o2_2d dist",
         "type": "scatter",
         "x": [
          45.868537802638066,
          60.05519911349044
         ],
         "xaxis": "x2",
         "y": [
          "298",
          "298"
         ],
         "yaxis": "y2"
        },
        {
         "marker": {
          "color": "red",
          "size": 3
         },
         "mode": "lines",
         "name": "Mean AR_fev1_o2_2d dist",
         "type": "scatter",
         "x": [
          37.648940086950184,
          54.19790009183285
         ],
         "xaxis": "x2",
         "y": [
          "431",
          "431"
         ],
         "yaxis": "y2"
        },
        {
         "marker": {
          "color": "red",
          "size": 3
         },
         "mode": "lines",
         "name": "Mean AR_fev1_o2_2d dist",
         "type": "scatter",
         "x": [
          30.677692349382603,
          46.02268432390924
         ],
         "xaxis": "x2",
         "y": [
          "508",
          "508"
         ],
         "yaxis": "y2"
        },
        {
         "marker": {
          "color": "red",
          "size": 3
         },
         "mode": "lines",
         "name": "Mean AR_fev1_o2_2d dist",
         "type": "scatter",
         "x": [
          54.73215626796403,
          68.87196945551592
         ],
         "xaxis": "x2",
         "y": [
          "422",
          "422"
         ],
         "yaxis": "y2"
        },
        {
         "marker": {
          "color": "red",
          "size": 3
         },
         "mode": "lines",
         "name": "Mean AR_fev1_o2_2d dist",
         "type": "scatter",
         "x": [
          31.20366518351923,
          47.029920117771184
         ],
         "xaxis": "x2",
         "y": [
          "517",
          "517"
         ],
         "yaxis": "y2"
        },
        {
         "marker": {
          "color": "red",
          "size": 3
         },
         "mode": "lines",
         "name": "Mean AR_fev1_o2_2d dist",
         "type": "scatter",
         "x": [
          27.39413519914555,
          42.45795450003014
         ],
         "xaxis": "x2",
         "y": [
          "108",
          "108"
         ],
         "yaxis": "y2"
        },
        {
         "marker": {
          "color": "red",
          "size": 3
         },
         "mode": "lines",
         "name": "Mean AR_fev1_o2_2d dist",
         "type": "scatter",
         "x": [
          31.491816227838928,
          47.12993521633387
         ],
         "xaxis": "x2",
         "y": [
          "483",
          "483"
         ],
         "yaxis": "y2"
        },
        {
         "marker": {
          "color": "red",
          "size": 3
         },
         "mode": "lines",
         "name": "Mean AR_fev1_o2_2d dist",
         "type": "scatter",
         "x": [
          38.332766036397814,
          53.911235091904906
         ],
         "xaxis": "x2",
         "y": [
          "403",
          "403"
         ],
         "yaxis": "y2"
        },
        {
         "marker": {
          "color": "red",
          "size": 3
         },
         "mode": "lines",
         "name": "Mean AR_fev1_o2_2d dist",
         "type": "scatter",
         "x": [
          24.689887688907756,
          40.55590702573523
         ],
         "xaxis": "x2",
         "y": [
          "145",
          "145"
         ],
         "yaxis": "y2"
        },
        {
         "marker": {
          "color": "red",
          "size": 3
         },
         "mode": "lines",
         "name": "Mean AR_fev1_o2_2d dist",
         "type": "scatter",
         "x": [
          43.901856673357024,
          58.61241574887947
         ],
         "xaxis": "x2",
         "y": [
          "149",
          "149"
         ],
         "yaxis": "y2"
        },
        {
         "marker": {
          "color": "red",
          "size": 3
         },
         "mode": "lines",
         "name": "Mean AR_fev1_o2_2d dist",
         "type": "scatter",
         "x": [
          60.78566230115297,
          71.17216379945339
         ],
         "xaxis": "x2",
         "y": [
          "417",
          "417"
         ],
         "yaxis": "y2"
        },
        {
         "marker": {
          "color": "red",
          "size": 3
         },
         "mode": "lines",
         "name": "Mean AR_fev1_o2_2d dist",
         "type": "scatter",
         "x": [
          47.13230984624669,
          61.257961209489245
         ],
         "xaxis": "x2",
         "y": [
          "162",
          "162"
         ],
         "yaxis": "y2"
        },
        {
         "marker": {
          "color": "red",
          "size": 3
         },
         "mode": "lines",
         "name": "Mean AR_fev1_o2_2d dist",
         "type": "scatter",
         "x": [
          26.742941287017356,
          41.59434734778368
         ],
         "xaxis": "x2",
         "y": [
          "256",
          "256"
         ],
         "yaxis": "y2"
        },
        {
         "marker": {
          "color": "red",
          "size": 3
         },
         "mode": "lines",
         "name": "Mean AR_fev1_o2_2d dist",
         "type": "scatter",
         "x": [
          25.551550176388886,
          42.1697150823979
         ],
         "xaxis": "x2",
         "y": [
          "424",
          "424"
         ],
         "yaxis": "y2"
        },
        {
         "marker": {
          "color": "red",
          "size": 3
         },
         "mode": "lines",
         "name": "Mean AR_fev1_o2_2d dist",
         "type": "scatter",
         "x": [
          28.07935638152661,
          43.723726089698296
         ],
         "xaxis": "x2",
         "y": [
          "207",
          "207"
         ],
         "yaxis": "y2"
        },
        {
         "marker": {
          "color": "red",
          "size": 3
         },
         "mode": "lines",
         "name": "Mean AR_fev1_o2_2d dist",
         "type": "scatter",
         "x": [
          37.38040794356268,
          55.49605777676465
         ],
         "xaxis": "x2",
         "y": [
          "336",
          "336"
         ],
         "yaxis": "y2"
        },
        {
         "marker": {
          "color": "red",
          "size": 3
         },
         "mode": "lines",
         "name": "Mean AR_fev1_o2_2d dist",
         "type": "scatter",
         "x": [
          27.923862553555587,
          43.40676796253004
         ],
         "xaxis": "x2",
         "y": [
          "311",
          "311"
         ],
         "yaxis": "y2"
        },
        {
         "marker": {
          "color": "red",
          "size": 3
         },
         "mode": "lines",
         "name": "Mean AR_fev1_o2_2d dist",
         "type": "scatter",
         "x": [
          25.2769235748275,
          42.69888781441967
         ],
         "xaxis": "x2",
         "y": [
          "514",
          "514"
         ],
         "yaxis": "y2"
        },
        {
         "marker": {
          "color": "red",
          "size": 3
         },
         "mode": "lines",
         "name": "Mean AR_fev1_o2_2d dist",
         "type": "scatter",
         "x": [
          27.316297806373825,
          43.064845098691194
         ],
         "xaxis": "x2",
         "y": [
          "325",
          "325"
         ],
         "yaxis": "y2"
        },
        {
         "marker": {
          "color": "red",
          "size": 3
         },
         "mode": "lines",
         "name": "Mean AR_fev1_o2_2d dist",
         "type": "scatter",
         "x": [
          33.864727254510846,
          50.712540182240836
         ],
         "xaxis": "x2",
         "y": [
          "434",
          "434"
         ],
         "yaxis": "y2"
        },
        {
         "marker": {
          "color": "red",
          "size": 3
         },
         "mode": "lines",
         "name": "Mean AR_fev1_o2_2d dist",
         "type": "scatter",
         "x": [
          55.892354526061574,
          67.4048818458117
         ],
         "xaxis": "x2",
         "y": [
          "452",
          "452"
         ],
         "yaxis": "y2"
        },
        {
         "marker": {
          "color": "red",
          "size": 3
         },
         "mode": "lines",
         "name": "Mean AR_fev1_o2_2d dist",
         "type": "scatter",
         "x": [
          49.16505263314806,
          63.71456985360265
         ],
         "xaxis": "x2",
         "y": [
          "484",
          "484"
         ],
         "yaxis": "y2"
        },
        {
         "marker": {
          "color": "red",
          "size": 3
         },
         "mode": "lines",
         "name": "Mean AR_fev1_o2_2d dist",
         "type": "scatter",
         "x": [
          56.01763722895454,
          67.66011643353934
         ],
         "xaxis": "x2",
         "y": [
          "421",
          "421"
         ],
         "yaxis": "y2"
        },
        {
         "marker": {
          "color": "red",
          "size": 3
         },
         "mode": "lines",
         "name": "Mean AR_fev1_o2_2d dist",
         "type": "scatter",
         "x": [
          36.97495473537595,
          54.832727269438315
         ],
         "xaxis": "x2",
         "y": [
          "238",
          "238"
         ],
         "yaxis": "y2"
        },
        {
         "marker": {
          "color": "red",
          "size": 3
         },
         "mode": "lines",
         "name": "Mean AR_fev1_o2_2d dist",
         "type": "scatter",
         "x": [
          27.954884654930495,
          45.301631593252516
         ],
         "xaxis": "x2",
         "y": [
          "408",
          "408"
         ],
         "yaxis": "y2"
        },
        {
         "marker": {
          "color": "red",
          "size": 3
         },
         "mode": "lines",
         "name": "Mean AR_fev1_o2_2d dist",
         "type": "scatter",
         "x": [
          39.70541657089239,
          55.786357696705444
         ],
         "xaxis": "x2",
         "y": [
          "494",
          "494"
         ],
         "yaxis": "y2"
        },
        {
         "marker": {
          "color": "red",
          "size": 3
         },
         "mode": "lines",
         "name": "Mean AR_fev1_o2_2d dist",
         "type": "scatter",
         "x": [
          31.79308899491904,
          48.054265457079346
         ],
         "xaxis": "x2",
         "y": [
          "270",
          "270"
         ],
         "yaxis": "y2"
        },
        {
         "marker": {
          "color": "red",
          "size": 3
         },
         "mode": "lines",
         "name": "Mean AR_fev1_o2_2d dist",
         "type": "scatter",
         "x": [
          28.87374661121613,
          45.45595217062314
         ],
         "xaxis": "x2",
         "y": [
          "439",
          "439"
         ],
         "yaxis": "y2"
        },
        {
         "marker": {
          "color": "red",
          "size": 3
         },
         "mode": "lines",
         "name": "Mean AR_fev1_o2_2d dist",
         "type": "scatter",
         "x": [
          59.75374267093096,
          70.27401049965088
         ],
         "xaxis": "x2",
         "y": [
          "122",
          "122"
         ],
         "yaxis": "y2"
        },
        {
         "marker": {
          "color": "red",
          "size": 3
         },
         "mode": "lines",
         "name": "Mean AR_fev1_o2_2d dist",
         "type": "scatter",
         "x": [
          42.13059783979262,
          60.668347948285664
         ],
         "xaxis": "x2",
         "y": [
          "488",
          "488"
         ],
         "yaxis": "y2"
        },
        {
         "marker": {
          "color": "red",
          "size": 3
         },
         "mode": "lines",
         "name": "Mean AR_fev1_o2_2d dist",
         "type": "scatter",
         "x": [
          52.51205299287447,
          66.59851906492793
         ],
         "xaxis": "x2",
         "y": [
          "361",
          "361"
         ],
         "yaxis": "y2"
        },
        {
         "marker": {
          "color": "red",
          "size": 3
         },
         "mode": "lines",
         "name": "Mean AR_fev1_o2_2d dist",
         "type": "scatter",
         "x": [
          34.48173618634706,
          52.74076009536044
         ],
         "xaxis": "x2",
         "y": [
          "502",
          "502"
         ],
         "yaxis": "y2"
        },
        {
         "marker": {
          "color": "red",
          "size": 3
         },
         "mode": "lines",
         "name": "Mean AR_fev1_o2_2d dist",
         "type": "scatter",
         "x": [
          30.61892030885952,
          44.36435560139276
         ],
         "xaxis": "x2",
         "y": [
          "153",
          "153"
         ],
         "yaxis": "y2"
        },
        {
         "marker": {
          "color": "red",
          "size": 3
         },
         "mode": "lines",
         "name": "Mean AR_fev1_o2_2d dist",
         "type": "scatter",
         "x": [
          54.09500062522488,
          67.26731889886842
         ],
         "xaxis": "x2",
         "y": [
          "409",
          "409"
         ],
         "yaxis": "y2"
        },
        {
         "marker": {
          "color": "red",
          "size": 3
         },
         "mode": "lines",
         "name": "Mean AR_fev1_o2_2d dist",
         "type": "scatter",
         "x": [
          43.920280505653395,
          59.914470513923725
         ],
         "xaxis": "x2",
         "y": [
          "120",
          "120"
         ],
         "yaxis": "y2"
        },
        {
         "marker": {
          "color": "red",
          "size": 3
         },
         "mode": "lines",
         "name": "Mean AR_fev1_o2_2d dist",
         "type": "scatter",
         "x": [
          47.536352695872864,
          64.42981140593784
         ],
         "xaxis": "x2",
         "y": [
          "102",
          "102"
         ],
         "yaxis": "y2"
        },
        {
         "marker": {
          "color": "red",
          "size": 3
         },
         "mode": "lines",
         "name": "Mean AR_fev1_o2_2d dist",
         "type": "scatter",
         "x": [
          32.31210514489398,
          52.116179252838926
         ],
         "xaxis": "x2",
         "y": [
          "101",
          "101"
         ],
         "yaxis": "y2"
        },
        {
         "marker": {
          "color": "blue",
          "size": 3
         },
         "mode": "markers",
         "name": "Mean AR_ecFEV1%",
         "type": "scatter",
         "x": [
          0.7190064928335331,
          12.600346913093324,
          -9.669360636205855,
          -23.449175221381445,
          -18.1052047227924,
          -9.737344173087315,
          -16.851374041065817,
          -2.5242745957514843,
          -8.935443264975708,
          -11.305197014152755,
          -7.509451960840655,
          -5.31784221069707,
          -7.2042063991356375,
          -0.7907656717979786,
          -4.281063012312842,
          -5.218593288089259,
          -0.8301756843284493,
          5.371366878866663,
          3.487533715346662,
          4.495168099859542,
          5.2227994070485275,
          9.611531394794147,
          5.906841773345589,
          23.96577161986161,
          -0.35978173286786347,
          3.544437229343287,
          14.920792688717345,
          4.3402428895377065,
          2.6584723601640334,
          4.401123225203017,
          8.633422132941046,
          5.915662741997916,
          10.206186854954444,
          6.976507186440455,
          14.138815273473295,
          5.440335269474268,
          5.8679015877324705,
          13.409971350849643,
          9.949730836136132,
          11.170658244054335,
          7.25657285979757,
          7.677534615603317,
          25.589977215108433,
          10.738476105435746,
          7.612082153860518,
          12.681806291053208,
          10.57865014388284,
          17.199206844678635,
          8.80452541370235,
          9.43431973305513,
          13.636353423291716,
          11.8368764262999,
          13.572766032695887,
          10.369012443679601,
          11.260947735980638,
          12.091208697461605,
          10.112677511845032,
          23.477254716444584,
          15.503997918393777,
          16.005661749184576,
          17.193794287092548,
          13.671613054322972,
          14.804326863623322,
          18.146661991280084,
          15.644918171129241,
          13.290542530961883,
          15.983894971494003,
          11.656748862321884,
          13.289834736989857,
          44.13487812205032,
          20.51900766493346,
          23.828985894981315,
          15.099412087846352,
          29.928771233937628,
          19.471028940908848,
          20.73810425086052,
          20.670114886379483,
          15.637122200291588,
          14.203738503883013,
          13.279869267257746,
          13.68776077077552,
          14.680518736915248,
          24.288710020281027,
          24.03939805080445,
          19.702083347597107,
          18.369715419289275,
          20.939616515419043,
          17.489659329518553,
          31.91225094063721,
          18.383939684701794,
          17.173024818991617,
          17.868963786635312,
          19.143723286204487,
          26.193060819986048,
          31.026211253176367,
          27.79714473213103,
          23.238566084191785,
          18.691638965312276,
          24.836543572520757,
          21.675643408458622,
          21.890374504686502,
          24.457672218338065,
          26.040138770362844,
          17.728927877056414,
          26.616065716880165,
          35.495358400644896,
          25.032469537917947,
          24.986522260102607,
          24.515679962458602,
          24.880770268169712,
          31.019150917380294,
          31.39696544924056,
          22.71498066772354,
          27.739810757781687,
          28.181865768705837,
          41.087647656134116,
          24.544539160894985,
          24.04349087354758,
          26.579819241932075,
          25.32457974578226,
          27.01578017696185,
          23.453200128734295,
          26.637982874848316,
          26.115956915181936,
          67.86974665870704,
          26.489215482185266,
          62.56584356845362,
          29.463635619942373,
          30.05246561379469,
          71.65858315802718,
          66.47322359636227,
          67.91394814929694,
          26.713903455875375,
          59.98767177084292,
          55.07332252942479,
          65.64905230710738,
          29.760201688236226,
          54.7430861384684,
          29.05998719323274,
          34.55509875733721,
          68.93310571120011,
          71.82677653344597,
          29.0933575893427,
          30.11840939887178,
          55.58272181585099,
          28.323088945598293,
          53.510756220711826,
          34.70700805755387,
          31.50111247182238,
          44.89968783836566,
          28.49140310574071,
          30.351087693533145,
          49.057307110471314,
          33.05252927392813,
          28.360150068384566,
          34.25082097935568,
          32.1146025916219,
          49.4362495135027,
          29.02561678195536,
          38.7194208281884,
          31.35647983007059,
          31.850834419212923,
          35.13467390028593,
          32.76038067876057,
          36.20427813161068,
          37.62378946374352,
          47.27203973643263,
          54.82018774413714,
          35.58899257253485,
          48.011091155770835,
          30.87404585818991,
          57.2313581011729,
          39.59852544074549,
          35.038307190092986,
          69.48801495129693,
          33.953684544493,
          42.921694359861256,
          40.58912041640572,
          35.84730954837891,
          32.77584106164391,
          59.2911758993869,
          61.458396915427926,
          55.65182254866171,
          35.62713203355523,
          66.16854165112906,
          55.42597513741118,
          50.99990862061445,
          56.658424963323974,
          32.68364284820714,
          59.540534035454336,
          34.31356281381099,
          33.6140565242861,
          32.27594527324617,
          37.63657022788402,
          38.09683659295833,
          59.99447665614532,
          51.83773563736387,
          41.2359107460301,
          57.85273232281536,
          40.14747455152493,
          51.37931399019353,
          36.32850405574679,
          55.07129755715894,
          59.976854311637915,
          39.05605854272837,
          41.63944111826611,
          83.48572863419052,
          61.025700018486155,
          48.54806274206383,
          38.442408530889594,
          39.21035370840765,
          50.09801566824494,
          44.767355242699,
          59.36162716756871,
          31.87536144127601,
          42.473820335446106,
          36.95051299729794,
          42.106465943602785,
          66.19273880795794,
          38.50398257504108,
          36.237651409617726,
          38.372061876528086,
          37.65759320692539,
          40.24282158877313,
          60.7269797556144,
          41.233886275754486,
          37.15400698695806,
          35.78167039863287,
          58.22809290990336,
          51.203519413928646,
          43.65753786435754,
          67.15118344169161,
          44.51674830496976,
          40.34929626980264,
          44.77787296405627,
          51.620990664837564,
          38.23870137165499,
          56.87496968894096,
          71.62049283473216,
          60.01248575743648,
          40.19471578353193,
          39.9437288973817,
          42.152888538600926,
          52.872278815168926,
          42.129149486472876,
          40.453010951568224,
          41.75266790089593,
          49.04934114031779,
          68.47795508502585,
          63.46404099131713,
          68.90270858023884,
          52.99243115460483,
          43.774754465769156,
          54.94366774558618,
          47.21123427994417,
          44.89739714982587,
          72.75729072699328,
          59.53146963989018,
          68.22929236527409,
          52.34997319204974,
          46.509434273359176,
          69.97823279459163,
          61.55544904894449,
          65.998821353678,
          53.084821018727084
         ],
         "xaxis": "x2",
         "y": [
          "372",
          "202",
          "113",
          "469",
          "370",
          "126",
          "281",
          "331",
          "250",
          "492",
          "177",
          "513",
          "444",
          "230",
          "121",
          "512",
          "244",
          "262",
          "302",
          "178",
          "182",
          "530",
          "273",
          "104",
          "130",
          "455",
          "242",
          "297",
          "144",
          "482",
          "506",
          "255",
          "490",
          "443",
          "141",
          "190",
          "407",
          "233",
          "343",
          "427",
          "401",
          "239",
          "107",
          "381",
          "123",
          "152",
          "467",
          "532",
          "170",
          "209",
          "125",
          "192",
          "312",
          "296",
          "299",
          "292",
          "553",
          "221",
          "420",
          "480",
          "134",
          "156",
          "263",
          "551",
          "290",
          "307",
          "511",
          "300",
          "535",
          "523",
          "543",
          "124",
          "223",
          "185",
          "352",
          "231",
          "117",
          "276",
          "425",
          "351",
          "237",
          "163",
          "193",
          "294",
          "197",
          "319",
          "310",
          "303",
          "196",
          "215",
          "544",
          "412",
          "186",
          "133",
          "174",
          "353",
          "176",
          "314",
          "504",
          "257",
          "109",
          "371",
          "115",
          "301",
          "172",
          "147",
          "171",
          "280",
          "537",
          "495",
          "271",
          "205",
          "447",
          "339",
          "201",
          "169",
          "199",
          "315",
          "204",
          "464",
          "406",
          "151",
          "164",
          "240",
          "520",
          "261",
          "111",
          "317",
          "254",
          "404",
          "155",
          "282",
          "191",
          "253",
          "198",
          "486",
          "287",
          "128",
          "251",
          "432",
          "187",
          "411",
          "278",
          "275",
          "142",
          "515",
          "440",
          "131",
          "265",
          "159",
          "180",
          "485",
          "150",
          "139",
          "481",
          "525",
          "116",
          "365",
          "212",
          "293",
          "383",
          "188",
          "430",
          "266",
          "165",
          "291",
          "103",
          "387",
          "493",
          "106",
          "245",
          "264",
          "118",
          "295",
          "377",
          "389",
          "181",
          "224",
          "114",
          "284",
          "132",
          "194",
          "158",
          "509",
          "362",
          "334",
          "135",
          "419",
          "491",
          "433",
          "243",
          "146",
          "453",
          "306",
          "272",
          "232",
          "309",
          "405",
          "140",
          "252",
          "143",
          "173",
          "184",
          "112",
          "426",
          "210",
          "413",
          "127",
          "342",
          "395",
          "220",
          "179",
          "148",
          "258",
          "380",
          "416",
          "289",
          "138",
          "283",
          "505",
          "279",
          "203",
          "521",
          "249",
          "248",
          "119",
          "500",
          "229",
          "298",
          "431",
          "508",
          "422",
          "517",
          "108",
          "483",
          "403",
          "145",
          "149",
          "417",
          "162",
          "256",
          "424",
          "207",
          "336",
          "311",
          "514",
          "325",
          "434",
          "452",
          "484",
          "421",
          "238",
          "408",
          "494",
          "270",
          "439",
          "122",
          "488",
          "361",
          "502",
          "153",
          "409",
          "120",
          "102",
          "101"
         ],
         "yaxis": "y2"
        }
       ],
       "layout": {
        "font": {
         "size": 4
        },
        "height": 1800,
        "showlegend": false,
        "template": {
         "data": {
          "bar": [
           {
            "error_x": {
             "color": "#2a3f5f"
            },
            "error_y": {
             "color": "#2a3f5f"
            },
            "marker": {
             "line": {
              "color": "#E5ECF6",
              "width": 0.5
             },
             "pattern": {
              "fillmode": "overlay",
              "size": 10,
              "solidity": 0.2
             }
            },
            "type": "bar"
           }
          ],
          "barpolar": [
           {
            "marker": {
             "line": {
              "color": "#E5ECF6",
              "width": 0.5
             },
             "pattern": {
              "fillmode": "overlay",
              "size": 10,
              "solidity": 0.2
             }
            },
            "type": "barpolar"
           }
          ],
          "carpet": [
           {
            "aaxis": {
             "endlinecolor": "#2a3f5f",
             "gridcolor": "white",
             "linecolor": "white",
             "minorgridcolor": "white",
             "startlinecolor": "#2a3f5f"
            },
            "baxis": {
             "endlinecolor": "#2a3f5f",
             "gridcolor": "white",
             "linecolor": "white",
             "minorgridcolor": "white",
             "startlinecolor": "#2a3f5f"
            },
            "type": "carpet"
           }
          ],
          "choropleth": [
           {
            "colorbar": {
             "outlinewidth": 0,
             "ticks": ""
            },
            "type": "choropleth"
           }
          ],
          "contour": [
           {
            "colorbar": {
             "outlinewidth": 0,
             "ticks": ""
            },
            "colorscale": [
             [
              0,
              "#0d0887"
             ],
             [
              0.1111111111111111,
              "#46039f"
             ],
             [
              0.2222222222222222,
              "#7201a8"
             ],
             [
              0.3333333333333333,
              "#9c179e"
             ],
             [
              0.4444444444444444,
              "#bd3786"
             ],
             [
              0.5555555555555556,
              "#d8576b"
             ],
             [
              0.6666666666666666,
              "#ed7953"
             ],
             [
              0.7777777777777778,
              "#fb9f3a"
             ],
             [
              0.8888888888888888,
              "#fdca26"
             ],
             [
              1,
              "#f0f921"
             ]
            ],
            "type": "contour"
           }
          ],
          "contourcarpet": [
           {
            "colorbar": {
             "outlinewidth": 0,
             "ticks": ""
            },
            "type": "contourcarpet"
           }
          ],
          "heatmap": [
           {
            "colorbar": {
             "outlinewidth": 0,
             "ticks": ""
            },
            "colorscale": [
             [
              0,
              "#0d0887"
             ],
             [
              0.1111111111111111,
              "#46039f"
             ],
             [
              0.2222222222222222,
              "#7201a8"
             ],
             [
              0.3333333333333333,
              "#9c179e"
             ],
             [
              0.4444444444444444,
              "#bd3786"
             ],
             [
              0.5555555555555556,
              "#d8576b"
             ],
             [
              0.6666666666666666,
              "#ed7953"
             ],
             [
              0.7777777777777778,
              "#fb9f3a"
             ],
             [
              0.8888888888888888,
              "#fdca26"
             ],
             [
              1,
              "#f0f921"
             ]
            ],
            "type": "heatmap"
           }
          ],
          "heatmapgl": [
           {
            "colorbar": {
             "outlinewidth": 0,
             "ticks": ""
            },
            "colorscale": [
             [
              0,
              "#0d0887"
             ],
             [
              0.1111111111111111,
              "#46039f"
             ],
             [
              0.2222222222222222,
              "#7201a8"
             ],
             [
              0.3333333333333333,
              "#9c179e"
             ],
             [
              0.4444444444444444,
              "#bd3786"
             ],
             [
              0.5555555555555556,
              "#d8576b"
             ],
             [
              0.6666666666666666,
              "#ed7953"
             ],
             [
              0.7777777777777778,
              "#fb9f3a"
             ],
             [
              0.8888888888888888,
              "#fdca26"
             ],
             [
              1,
              "#f0f921"
             ]
            ],
            "type": "heatmapgl"
           }
          ],
          "histogram": [
           {
            "marker": {
             "pattern": {
              "fillmode": "overlay",
              "size": 10,
              "solidity": 0.2
             }
            },
            "type": "histogram"
           }
          ],
          "histogram2d": [
           {
            "colorbar": {
             "outlinewidth": 0,
             "ticks": ""
            },
            "colorscale": [
             [
              0,
              "#0d0887"
             ],
             [
              0.1111111111111111,
              "#46039f"
             ],
             [
              0.2222222222222222,
              "#7201a8"
             ],
             [
              0.3333333333333333,
              "#9c179e"
             ],
             [
              0.4444444444444444,
              "#bd3786"
             ],
             [
              0.5555555555555556,
              "#d8576b"
             ],
             [
              0.6666666666666666,
              "#ed7953"
             ],
             [
              0.7777777777777778,
              "#fb9f3a"
             ],
             [
              0.8888888888888888,
              "#fdca26"
             ],
             [
              1,
              "#f0f921"
             ]
            ],
            "type": "histogram2d"
           }
          ],
          "histogram2dcontour": [
           {
            "colorbar": {
             "outlinewidth": 0,
             "ticks": ""
            },
            "colorscale": [
             [
              0,
              "#0d0887"
             ],
             [
              0.1111111111111111,
              "#46039f"
             ],
             [
              0.2222222222222222,
              "#7201a8"
             ],
             [
              0.3333333333333333,
              "#9c179e"
             ],
             [
              0.4444444444444444,
              "#bd3786"
             ],
             [
              0.5555555555555556,
              "#d8576b"
             ],
             [
              0.6666666666666666,
              "#ed7953"
             ],
             [
              0.7777777777777778,
              "#fb9f3a"
             ],
             [
              0.8888888888888888,
              "#fdca26"
             ],
             [
              1,
              "#f0f921"
             ]
            ],
            "type": "histogram2dcontour"
           }
          ],
          "mesh3d": [
           {
            "colorbar": {
             "outlinewidth": 0,
             "ticks": ""
            },
            "type": "mesh3d"
           }
          ],
          "parcoords": [
           {
            "line": {
             "colorbar": {
              "outlinewidth": 0,
              "ticks": ""
             }
            },
            "type": "parcoords"
           }
          ],
          "pie": [
           {
            "automargin": true,
            "type": "pie"
           }
          ],
          "scatter": [
           {
            "fillpattern": {
             "fillmode": "overlay",
             "size": 10,
             "solidity": 0.2
            },
            "type": "scatter"
           }
          ],
          "scatter3d": [
           {
            "line": {
             "colorbar": {
              "outlinewidth": 0,
              "ticks": ""
             }
            },
            "marker": {
             "colorbar": {
              "outlinewidth": 0,
              "ticks": ""
             }
            },
            "type": "scatter3d"
           }
          ],
          "scattercarpet": [
           {
            "marker": {
             "colorbar": {
              "outlinewidth": 0,
              "ticks": ""
             }
            },
            "type": "scattercarpet"
           }
          ],
          "scattergeo": [
           {
            "marker": {
             "colorbar": {
              "outlinewidth": 0,
              "ticks": ""
             }
            },
            "type": "scattergeo"
           }
          ],
          "scattergl": [
           {
            "marker": {
             "colorbar": {
              "outlinewidth": 0,
              "ticks": ""
             }
            },
            "type": "scattergl"
           }
          ],
          "scattermapbox": [
           {
            "marker": {
             "colorbar": {
              "outlinewidth": 0,
              "ticks": ""
             }
            },
            "type": "scattermapbox"
           }
          ],
          "scatterpolar": [
           {
            "marker": {
             "colorbar": {
              "outlinewidth": 0,
              "ticks": ""
             }
            },
            "type": "scatterpolar"
           }
          ],
          "scatterpolargl": [
           {
            "marker": {
             "colorbar": {
              "outlinewidth": 0,
              "ticks": ""
             }
            },
            "type": "scatterpolargl"
           }
          ],
          "scatterternary": [
           {
            "marker": {
             "colorbar": {
              "outlinewidth": 0,
              "ticks": ""
             }
            },
            "type": "scatterternary"
           }
          ],
          "surface": [
           {
            "colorbar": {
             "outlinewidth": 0,
             "ticks": ""
            },
            "colorscale": [
             [
              0,
              "#0d0887"
             ],
             [
              0.1111111111111111,
              "#46039f"
             ],
             [
              0.2222222222222222,
              "#7201a8"
             ],
             [
              0.3333333333333333,
              "#9c179e"
             ],
             [
              0.4444444444444444,
              "#bd3786"
             ],
             [
              0.5555555555555556,
              "#d8576b"
             ],
             [
              0.6666666666666666,
              "#ed7953"
             ],
             [
              0.7777777777777778,
              "#fb9f3a"
             ],
             [
              0.8888888888888888,
              "#fdca26"
             ],
             [
              1,
              "#f0f921"
             ]
            ],
            "type": "surface"
           }
          ],
          "table": [
           {
            "cells": {
             "fill": {
              "color": "#EBF0F8"
             },
             "line": {
              "color": "white"
             }
            },
            "header": {
             "fill": {
              "color": "#C8D4E3"
             },
             "line": {
              "color": "white"
             }
            },
            "type": "table"
           }
          ]
         },
         "layout": {
          "annotationdefaults": {
           "arrowcolor": "#2a3f5f",
           "arrowhead": 0,
           "arrowwidth": 1
          },
          "autotypenumbers": "strict",
          "coloraxis": {
           "colorbar": {
            "outlinewidth": 0,
            "ticks": ""
           }
          },
          "colorscale": {
           "diverging": [
            [
             0,
             "#8e0152"
            ],
            [
             0.1,
             "#c51b7d"
            ],
            [
             0.2,
             "#de77ae"
            ],
            [
             0.3,
             "#f1b6da"
            ],
            [
             0.4,
             "#fde0ef"
            ],
            [
             0.5,
             "#f7f7f7"
            ],
            [
             0.6,
             "#e6f5d0"
            ],
            [
             0.7,
             "#b8e186"
            ],
            [
             0.8,
             "#7fbc41"
            ],
            [
             0.9,
             "#4d9221"
            ],
            [
             1,
             "#276419"
            ]
           ],
           "sequential": [
            [
             0,
             "#0d0887"
            ],
            [
             0.1111111111111111,
             "#46039f"
            ],
            [
             0.2222222222222222,
             "#7201a8"
            ],
            [
             0.3333333333333333,
             "#9c179e"
            ],
            [
             0.4444444444444444,
             "#bd3786"
            ],
            [
             0.5555555555555556,
             "#d8576b"
            ],
            [
             0.6666666666666666,
             "#ed7953"
            ],
            [
             0.7777777777777778,
             "#fb9f3a"
            ],
            [
             0.8888888888888888,
             "#fdca26"
            ],
            [
             1,
             "#f0f921"
            ]
           ],
           "sequentialminus": [
            [
             0,
             "#0d0887"
            ],
            [
             0.1111111111111111,
             "#46039f"
            ],
            [
             0.2222222222222222,
             "#7201a8"
            ],
            [
             0.3333333333333333,
             "#9c179e"
            ],
            [
             0.4444444444444444,
             "#bd3786"
            ],
            [
             0.5555555555555556,
             "#d8576b"
            ],
            [
             0.6666666666666666,
             "#ed7953"
            ],
            [
             0.7777777777777778,
             "#fb9f3a"
            ],
            [
             0.8888888888888888,
             "#fdca26"
            ],
            [
             1,
             "#f0f921"
            ]
           ]
          },
          "colorway": [
           "#636efa",
           "#EF553B",
           "#00cc96",
           "#ab63fa",
           "#FFA15A",
           "#19d3f3",
           "#FF6692",
           "#B6E880",
           "#FF97FF",
           "#FECB52"
          ],
          "font": {
           "color": "#2a3f5f"
          },
          "geo": {
           "bgcolor": "white",
           "lakecolor": "white",
           "landcolor": "#E5ECF6",
           "showlakes": true,
           "showland": true,
           "subunitcolor": "white"
          },
          "hoverlabel": {
           "align": "left"
          },
          "hovermode": "closest",
          "mapbox": {
           "style": "light"
          },
          "paper_bgcolor": "white",
          "plot_bgcolor": "#E5ECF6",
          "polar": {
           "angularaxis": {
            "gridcolor": "white",
            "linecolor": "white",
            "ticks": ""
           },
           "bgcolor": "#E5ECF6",
           "radialaxis": {
            "gridcolor": "white",
            "linecolor": "white",
            "ticks": ""
           }
          },
          "scene": {
           "xaxis": {
            "backgroundcolor": "#E5ECF6",
            "gridcolor": "white",
            "gridwidth": 2,
            "linecolor": "white",
            "showbackground": true,
            "ticks": "",
            "zerolinecolor": "white"
           },
           "yaxis": {
            "backgroundcolor": "#E5ECF6",
            "gridcolor": "white",
            "gridwidth": 2,
            "linecolor": "white",
            "showbackground": true,
            "ticks": "",
            "zerolinecolor": "white"
           },
           "zaxis": {
            "backgroundcolor": "#E5ECF6",
            "gridcolor": "white",
            "gridwidth": 2,
            "linecolor": "white",
            "showbackground": true,
            "ticks": "",
            "zerolinecolor": "white"
           }
          },
          "shapedefaults": {
           "line": {
            "color": "#2a3f5f"
           }
          },
          "ternary": {
           "aaxis": {
            "gridcolor": "white",
            "linecolor": "white",
            "ticks": ""
           },
           "baxis": {
            "gridcolor": "white",
            "linecolor": "white",
            "ticks": ""
           },
           "bgcolor": "#E5ECF6",
           "caxis": {
            "gridcolor": "white",
            "linecolor": "white",
            "ticks": ""
           }
          },
          "title": {
           "x": 0.05
          },
          "xaxis": {
           "automargin": true,
           "gridcolor": "white",
           "linecolor": "white",
           "ticks": "",
           "title": {
            "standoff": 15
           },
           "zerolinecolor": "white",
           "zerolinewidth": 2
          },
          "yaxis": {
           "automargin": true,
           "gridcolor": "white",
           "linecolor": "white",
           "ticks": "",
           "title": {
            "standoff": 15
           },
           "zerolinecolor": "white",
           "zerolinewidth": 2
          }
         }
        },
        "width": 800,
        "xaxis": {
         "anchor": "y",
         "domain": [
          0,
          0.45
         ]
        },
        "xaxis2": {
         "anchor": "y2",
         "domain": [
          0.55,
          1
         ]
        },
        "yaxis": {
         "anchor": "x",
         "domain": [
          0,
          1
         ]
        },
        "yaxis2": {
         "anchor": "x2",
         "domain": [
          0,
          1
         ]
        }
       }
      }
     },
     "metadata": {},
     "output_type": "display_data"
    }
   ],
   "source": [
    "# Adding 2nd day massively reduces the AR compared to examples with low ecFEV1\n",
    "\n",
    "import plotly.graph_objects as go\n",
    "\n",
    "fig = make_subplots(1, 2)\n",
    "\n",
    "def plot_dumbell_for_df(fig, df, measures, col):\n",
    "    # For measure[0]\n",
    "    mask = df[\"measure\"] == measures[0]\n",
    "    for id in df[mask][\"ID\"].unique():\n",
    "        mask_id = df[\"ID\"] == id\n",
    "        # Add mask\n",
    "        mask_final = mask_id & mask\n",
    "        fig.add_trace(\n",
    "            go.Scatter(\n",
    "                x=df[mask_final][\"value\"],\n",
    "                y=df[mask_final][\"ID\"],\n",
    "                mode=\"lines\",\n",
    "                name=measures[0],\n",
    "                marker=dict(size=3, color=\"red\"),\n",
    "            ),\n",
    "            row=1,\n",
    "            col=col,\n",
    "        )\n",
    "    # For measure[1]\n",
    "    mask = df[\"measure\"] == measures[1]\n",
    "    fig.add_trace(\n",
    "        go.Scatter(\n",
    "            x=df[mask][\"value\"],\n",
    "            y=df[mask][\"ID\"],\n",
    "            mode=\"markers\",\n",
    "            name=measures[1],\n",
    "            marker=dict(size=3, color=\"blue\"),\n",
    "        ),\n",
    "        row=1,\n",
    "        col=col,\n",
    "    )\n",
    "        \n",
    "plot_dumbell_for_df(fig, df_ar_fev1_o2, [\"Mean AR_fev1_o2 dist\", \"Mean AR_ecFEV1%\"], 1)\n",
    "plot_dumbell_for_df(fig, df_ar_fev1_o2_2d, [\"Mean AR_fev1_o2_2d dist\", \"Mean AR_ecFEV1%\"], 2)\n",
    "\n",
    "fig.update_layout(height=1800, width=800, font=dict(size=4), showlegend=False)\n",
    "fig.show()"
   ]
  },
  {
   "cell_type": "code",
   "execution_count": null,
   "metadata": {},
   "outputs": [],
   "source": []
  }
 ],
 "metadata": {
  "kernelspec": {
   "display_name": "phd",
   "language": "python",
   "name": "python3"
  },
  "language_info": {
   "codemirror_mode": {
    "name": "ipython",
    "version": 3
   },
   "file_extension": ".py",
   "mimetype": "text/x-python",
   "name": "python",
   "nbconvert_exporter": "python",
   "pygments_lexer": "ipython3",
   "version": "3.10.13"
  }
 },
 "nbformat": 4,
 "nbformat_minor": 2
}
