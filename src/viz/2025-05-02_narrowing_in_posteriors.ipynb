{
    "cells": [
        {
            "cell_type": "code",
            "execution_count": 1,
            "metadata": {},
            "outputs": [],
            "source": [
                "import pandas as pd\n",
                "import numpy as np\n",
                "\n",
                "import data.breathe_data as bd\n",
                "import data.helpers as dh\n",
                "import models.builders as mb\n",
                "from plotly.subplots import make_subplots\n",
                "from plotly import graph_objects as go\n",
                "import inference.helpers as ih"
            ]
        },
        {
            "cell_type": "code",
            "execution_count": 19,
            "metadata": {},
            "outputs": [],
            "source": [
                "# Load smartcare data\n",
                "df_sc = dh.load_excel(\n",
                "    f\"{dh.get_path_to_main()}/ExcelFiles/SC/infer_AR_using_two_days_model_o2_fev1_06052025.xlsx\",\n",
                "    date_cols=[\"Day\"],\n",
                "    str_cols_to_arrays=[\"Healthy FEV1 (L)\", \"Airway resistance (%)\"]\n",
                ")\n",
                "df_sc.rename(\n",
                "    {\n",
                "        \"Healthy FEV1 (L)\": \"HFEV1_fev1_o2_2d\",\n",
                "        \"Airway resistance (%)\": \"AR_fev1_o2_2d\",\n",
                "        \"Day\": \"Date Recorded\",\n",
                "    },\n",
                "    axis=1,\n",
                "    inplace=True,\n",
                ")\n",
                "\n",
                "df_sc_meas = dh.load_excel(\n",
                "    f\"{dh.get_path_to_main()}/ExcelFiles/SC/O2_FEV1_df_conservative_smoothing_with_idx.xlsx\",\n",
                "    date_cols=[\"Date Recorded\"],\n",
                ")\n",
                "\n",
                "cols = [\n",
                "    \"ID\",\n",
                "    \"Date Recorded\",\n",
                "    \"ecFEV1 % Predicted\",\n",
                "    \"O2 Saturation\",\n",
                "    \"Height\",\n",
                "    \"Age\",\n",
                "    \"Sex\",\n",
                "]\n",
                "\n",
                "df_sc = pd.merge(df_sc, df_sc_meas[cols], on=[\"ID\", \"Date Recorded\"], how=\"inner\")"
            ]
        },
        {
            "cell_type": "code",
            "execution_count": null,
            "metadata": {},
            "outputs": [],
            "source": [
                "# Load BR data"
            ]
        },
        {
            "cell_type": "code",
            "execution_count": 52,
            "metadata": {},
            "outputs": [
                {
                    "name": "stderr",
                    "output_type": "stream",
                    "text": [
                        "INFO:root:* Checking for same day measurements *\n"
                    ]
                }
            ],
            "source": [
                "# Checked that obs indices are correct, see ipynb mentioned above(01.05.2025)\n",
                "df = bd.load_meas_from_excel(\"BR_O2_FEV1_FEF2575_conservative_smoothing_with_idx\")"
            ]
        },
        {
            "cell_type": "code",
            "execution_count": 53,
            "metadata": {},
            "outputs": [],
            "source": [
                "df_fev1 = bd.load_meas_from_excel(\n",
                "    \"infer_AR_using_fev1_01052025\", [\"AR\", \"HFEV1\", \"HO2Sat\"], bypass_sanity_checks=True\n",
                ").drop(columns=[\"HO2Sat\"])\n",
                "df_fev1.rename(\n",
                "    {\n",
                "        \"AR\": \"AR_fev1\",\n",
                "        \"HFEV1\": \"HFEV1_fev1\",\n",
                "    },\n",
                "    axis=1,\n",
                "    inplace=True,\n",
                ")"
            ]
        },
        {
            "cell_type": "code",
            "execution_count": 54,
            "metadata": {},
            "outputs": [],
            "source": [
                "df_fev1_o2 = bd.load_meas_from_excel(\n",
                "    \"infer_AR_using_o2sat_fev1_01052025\", [\"AR\", \"HFEV1\"], bypass_sanity_checks=True\n",
                ").drop(columns=[\"IA\", \"HO2Sat\"])\n",
                "df_fev1_o2.rename(\n",
                "    {\n",
                "        \"AR\": \"AR_fev1_o2\",\n",
                "        \"HFEV1\": \"HFEV1_fev1_o2\",\n",
                "    },\n",
                "    axis=1,\n",
                "    inplace=True,\n",
                ")"
            ]
        },
        {
            "cell_type": "code",
            "execution_count": 55,
            "metadata": {},
            "outputs": [],
            "source": [
                "df_fev1_o2_2d = bd.load_meas_from_excel(\n",
                "    \"infer_AR_using_two_days_model_o2_fev1_01052025\",\n",
                "    [\"Airway resistance (%)\", \"Healthy FEV1 (L)\"],\n",
                "    date_cols=[\"Day\"],\n",
                "    bypass_sanity_checks=True,\n",
                ").drop(columns=[\"Healthy O2 saturation (%)\"])\n",
                "df_fev1_o2_2d.rename(\n",
                "    {\n",
                "        \"Airway resistance (%)\": \"AR_fev1_o2_2d\",\n",
                "        \"Healthy FEV1 (L)\": \"HFEV1_fev1_o2_2d\",\n",
                "        \"Day\": \"Date Recorded\",\n",
                "    },\n",
                "    axis=1,\n",
                "    inplace=True,\n",
                ")"
            ]
        },
        {
            "cell_type": "code",
            "execution_count": 56,
            "metadata": {},
            "outputs": [],
            "source": [
                "df_fev1_o2_fef2575_2d = bd.load_meas_from_excel(\n",
                "    \"infer_AR_using_two_days_model_o2_fev1_fef2575_01052025\",\n",
                "    [\"Airway resistance (%)\", \"Healthy FEV1 (L)\"],\n",
                "    date_cols=[\"Day\"],\n",
                "    bypass_sanity_checks=True,\n",
                ").drop(columns=[\"Healthy O2 saturation (%)\"])\n",
                "df_fev1_o2_fef2575_2d.rename(\n",
                "    {\n",
                "        \"Airway resistance (%)\": \"AR_fev1_o2_fef2575_2d\",\n",
                "        \"Healthy FEV1 (L)\": \"HFEV1_fev1_o2_fef2575_2d\",\n",
                "        \"Day\": \"Date Recorded\",\n",
                "    },\n",
                "    axis=1,\n",
                "    inplace=True,\n",
                ")"
            ]
        },
        {
            "cell_type": "code",
            "execution_count": 57,
            "metadata": {},
            "outputs": [],
            "source": [
                "# join df to df_fev1 on ID and Date Recorded\n",
                "cols = [\n",
                "    \"ID\",\n",
                "    \"Date Recorded\",\n",
                "    \"ecFEV1 % Predicted\",\n",
                "    \"O2 Saturation\",\n",
                "    \"Height\",\n",
                "    \"Age\",\n",
                "    \"Sex\",\n",
                "]\n",
                "df_res = pd.merge(df[cols], df_fev1, on=[\"ID\", \"Date Recorded\"], how=\"inner\")\n",
                "df_res = pd.merge(df_res, df_fev1_o2, on=[\"ID\", \"Date Recorded\"], how=\"inner\")\n",
                "df_res = pd.merge(df_res, df_fev1_o2_2d, on=[\"ID\", \"Date Recorded\"], how=\"inner\")\n",
                "df_res = pd.merge(\n",
                "    df_res, df_fev1_o2_fef2575_2d, on=[\"ID\", \"Date Recorded\"], how=\"inner\"\n",
                ")"
            ]
        },
        {
            "cell_type": "code",
            "execution_count": 58,
            "metadata": {},
            "outputs": [],
            "source": [
                "# Add records count per ID\n",
                "df_count = (\n",
                "    df_res.groupby(\"ID\")\n",
                "    .apply(lambda df: len(df))\n",
                "    .reset_index()\n",
                "    .rename(columns={0: \"count\"})\n",
                ")\n",
                "df_res = pd.merge(df_res, df_count, on=[\"ID\"])"
            ]
        },
        {
            "cell_type": "code",
            "execution_count": 59,
            "metadata": {},
            "outputs": [],
            "source": [
                "# Add max ecFEV1 % pred\n",
                "df_max_fev = (\n",
                "    df_res.groupby(\"ID\")\n",
                "    .apply(lambda df: df[\"ecFEV1 % Predicted\"].max())\n",
                "    .reset_index()\n",
                "    .rename(columns={0: \"max ecFEV1 % Predicted\"})\n",
                ")\n",
                "df_res = pd.merge(df_res, df_max_fev, on=[\"ID\"])\n",
                "df_res[\"FEV delta\"] = df_res[\"max ecFEV1 % Predicted\"] - df_res[\"ecFEV1 % Predicted\"]"
            ]
        },
        {
            "cell_type": "code",
            "execution_count": 60,
            "metadata": {},
            "outputs": [],
            "source": [
                "# Add avg o2 sat\n",
                "df_avg_o2 = (\n",
                "    df_res.groupby(\"ID\")\n",
                "    .apply(lambda df: df[\"O2 Saturation\"].mean())\n",
                "    .reset_index()\n",
                "    .rename(columns={0: \"Avg O2 saturation\"})\n",
                ")\n",
                "df_res = pd.merge(df_res, df_avg_o2, on=[\"ID\"])"
            ]
        },
        {
            "cell_type": "code",
            "execution_count": 61,
            "metadata": {},
            "outputs": [
                {
                    "data": {
                        "text/plain": [
                            "Index([3448, 33235, 36519, 35294, 12396], dtype='int64')"
                        ]
                    },
                    "execution_count": 61,
                    "metadata": {},
                    "output_type": "execute_result"
                }
            ],
            "source": [
                "# df_res.sort_values(by=\"FEV delta\", ascending=False)[0:5]\n",
                "# df_res.sort_values(by=[\"ecFEV1 % Predicted\", \"O2 Saturation\"], ascending=True)[0:5]\n",
                "indices_max_avg_o2_min_ecfev1 = (\n",
                "    df_res.groupby(\"ID\")\n",
                "    .apply(\n",
                "        lambda df: df.reset_index()\n",
                "        .sort_values(by=[\"ecFEV1 % Predicted\"], ascending=True)\n",
                "        .iloc[0]\n",
                "    )[\"index\"]\n",
                "    .values\n",
                ")\n",
                "indices_over_30_datapoints = df_res[df_res[\"count\"] > 30].index\n",
                "indices_max_avg_o2_below_94 = df_res[df_res[\"Avg O2 saturation\"] < 94].index\n",
                "mask = list(\n",
                "    set(indices_max_avg_o2_min_ecfev1)\n",
                "    .intersection(indices_max_avg_o2_below_94)\n",
                "    .intersection(indices_over_30_datapoints)\n",
                ")\n",
                "df_res.iloc[mask].sort_values(\n",
                "    by=[\"Avg O2 saturation\", \"ecFEV1 % Predicted\"], ascending=[True, True]\n",
                ").index"
            ]
        },
        {
            "cell_type": "markdown",
            "metadata": {},
            "source": [
                "# Plot examples of narrowed in posteriors"
            ]
        },
        {
            "cell_type": "code",
            "execution_count": 54,
            "metadata": {},
            "outputs": [
                {
                    "data": {
                        "text/plain": [
                            "Index([1650, 1651, 1652, 1653, 1654], dtype='int64')"
                        ]
                    },
                    "execution_count": 54,
                    "metadata": {},
                    "output_type": "execute_result"
                }
            ],
            "source": [
                "df_res_last_30[df_res_last_30[\"ID\"] == \"101\"][0:5].index"
            ]
        },
        {
            "cell_type": "code",
            "execution_count": 55,
            "metadata": {},
            "outputs": [
                {
                    "name": "stdout",
                    "output_type": "stream",
                    "text": [
                        "1650\n",
                        "101, 2023-10-13, i=1650, o2 avg=97.46%, ecFEV1%=47.09\n",
                        "1651\n",
                        "101, 2023-10-14, i=1651, o2 avg=97.46%, ecFEV1%=46.81\n",
                        "1652\n",
                        "101, 2023-10-15, i=1652, o2 avg=97.46%, ecFEV1%=44.87\n",
                        "1653\n",
                        "101, 2023-10-16, i=1653, o2 avg=97.46%, ecFEV1%=45.71\n",
                        "1654\n",
                        "101, 2023-10-17, i=1654, o2 avg=97.46%, ecFEV1%=47.09\n"
                    ]
                }
            ],
            "source": [
                "# i = 2955\n",
                "# fev1 and o2: see impact of very low o2\n",
                "# Impact of min o2 shouldn't get propagated back to hfev1 because it's more due to sudden infection rather than permanent lung damage\n",
                "# indices = [6311, 35304]\n",
                "# However, avg o2 is low (or max o2) is relevant. -  Avg o2 sat < 94, min ecfev1, > 30 datapoints\n",
                "# indices = [35294]\n",
                "# Unexpectedly small lungs. Below 30% of ecFE1%Predicted (life threatening), expects lower max o2, hence healthy oxygenation must be due to smaller lungs. Ex: o2 = 100, min and max ecfev1.\n",
                "# → use app\n",
                "# Exclude o2 from longitudinal model due to calibration issues\n",
                "\n",
                "# Shared hfev1/ar uncertainty: small healthy lungs or big lungs with disease\n",
                "# Unexpectedly big lungs with disease: high fev1 % pred delta (benefit of 2nd day)\n",
                "# indices = [18452, 33198, 2330, 2975, 18430]\n",
                "# Unexpectedly small lungs: low fev1 % pred but no permanent lung damage (high fef2575%fev1) → show without fef2575 then with\n",
                "\n",
                "# Super high fev1\n",
                "# indices = [37113]\n",
                "\n",
                "indices = [1650, 1651, 1652, 1653, 1654]\n",
                "\n",
                "for i in indices:\n",
                "    print(i)\n",
                "    id = df.loc[i, \"ID\"]\n",
                "    (\n",
                "        _,\n",
                "        inf_alg,\n",
                "        HFEV1,\n",
                "        uFEV1,\n",
                "        ecFEV1,\n",
                "        AR,\n",
                "        HO2Sat,\n",
                "        O2SatFFA,\n",
                "        IA,\n",
                "        UO2Sat,\n",
                "        O2Sat,\n",
                "        ecFEF2575prctecFEV1,\n",
                "    ) = mb.o2sat_fev1_fef2575_point_in_time_model_noise_shared_healthy_vars(\n",
                "        df_res.iloc[i].Height,\n",
                "        df_res.iloc[i].Age,\n",
                "        df_res.iloc[i].Sex,\n",
                "        ia_prior=\"uniform\",\n",
                "        ar_prior=\"uniform\",\n",
                "        ecfev1_noise_model_cpt_suffix=\"_std_add_mult_ecfev1\",\n",
                "        ar_fef2575_cpt_suffix=\"_ecfev1_2_days_model_add_mult_noise\",\n",
                "    )\n",
                "\n",
                "    fig = make_subplots(\n",
                "        rows=4,\n",
                "        cols=3,\n",
                "        shared_xaxes=True,\n",
                "    )\n",
                "    first_data_col = 2\n",
                "\n",
                "    def add_fev1_prct_pred_line(fig, val, y_max, row, col):\n",
                "        fig.add_shape(\n",
                "            type=\"line\",\n",
                "            # opacity=0.1,\n",
                "            x0=val,\n",
                "            y0=0,\n",
                "            x1=val,\n",
                "            y1=y_max * 1.1,\n",
                "            line=dict(color=\"black\", width=2, dash=\"dash\"),\n",
                "            # fillcolor=\"red\",\n",
                "            # line_width=0,\n",
                "            row=row,\n",
                "            col=col,\n",
                "        )\n",
                "        return -1\n",
                "\n",
                "    def add_hists(fig, hfev1_col, ar_col, i, row):\n",
                "        ih.plot_histogram(\n",
                "            fig,\n",
                "            HFEV1,\n",
                "            df_res.loc[i, hfev1_col],\n",
                "            HFEV1.a,\n",
                "            HFEV1.b,\n",
                "            row,\n",
                "            first_data_col,\n",
                "            f\" {hfev1_col}\",\n",
                "            \"#009e73\",\n",
                "        )\n",
                "        ih.plot_histogram(\n",
                "            fig,\n",
                "            AR,\n",
                "            df_res.loc[i, ar_col],\n",
                "            AR.a,\n",
                "            AR.b,\n",
                "            row,\n",
                "            first_data_col + 1,\n",
                "            f\" {ar_col}\",\n",
                "            \"#d55e00\",\n",
                "            clean_ticks=True,\n",
                "        )\n",
                "        add_fev1_prct_pred_line(\n",
                "            fig,\n",
                "            max(100 - df_res.loc[i, \"ecFEV1 % Predicted\"], 0),\n",
                "            max(df_res.loc[i, ar_col]),\n",
                "            row,\n",
                "            first_data_col + 1,\n",
                "        )\n",
                "\n",
                "    ih.plot_histogram(\n",
                "        fig,\n",
                "        HFEV1,\n",
                "        HFEV1.cpt,\n",
                "        HFEV1.a,\n",
                "        HFEV1.b,\n",
                "        1,\n",
                "        first_data_col,\n",
                "        HFEV1.name + \" prior\",\n",
                "        \"#009e73\",\n",
                "    )\n",
                "    ih.plot_histogram(\n",
                "        fig,\n",
                "        AR,\n",
                "        AR.cpt,\n",
                "        AR.a,\n",
                "        AR.b,\n",
                "        1,\n",
                "        first_data_col + 1,\n",
                "        AR.name + \" prior\",\n",
                "        \"#d55e00\",\n",
                "        clean_ticks=True,\n",
                "    )\n",
                "    add_fev1_prct_pred_line(\n",
                "        fig,\n",
                "        max(100 - df_res.loc[i, \"ecFEV1 % Predicted\"], 0),\n",
                "        max(AR.cpt),\n",
                "        1,\n",
                "        first_data_col + 1,\n",
                "    )\n",
                "\n",
                "    add_hists(fig, \"HFEV1_fev1\", \"AR_fev1\", i, 2)\n",
                "    add_hists(fig, \"HFEV1_fev1_o2\", \"AR_fev1_o2\", i, 3)\n",
                "    add_hists(fig, \"HFEV1_fev1_o2_2d\", \"AR_fev1_o2_2d\", i, 4)\n",
                "\n",
                "    # Add \"prior knowledge\" on col 1, row 1\n",
                "    fig.add_annotation(\n",
                "        x=0.2,\n",
                "        y=3.5 / 4,\n",
                "        text=\"Prior knowledge\",\n",
                "        xref=\"paper\",\n",
                "        yref=\"paper\",\n",
                "        xanchor=\"center\",\n",
                "        yanchor=\"middle\",\n",
                "        showarrow=False,\n",
                "    )\n",
                "    add_text_box(fig, text=\"Your text here<br>Second line<br>Third line\", row=2, col=1)\n",
                "\n",
                "    title = f\"{id}, {df_res.loc[i, 'Date Recorded']}, i={i}, o2 avg={df_res.loc[i, 'Avg O2 saturation']:.2f}%, ecFEV1%={df_res.loc[i, 'ecFEV1 % Predicted']:.2f}\"\n",
                "    print(title)\n",
                "\n",
                "    fig.update_layout(\n",
                "        showlegend=False,\n",
                "        height=500,\n",
                "        width=800,\n",
                "        font=dict(size=11),\n",
                "        bargap=0.01,\n",
                "        title=title,\n",
                "        # margin=dict(l=20, r=20, b=20, t=20),\n",
                "    )\n",
                "\n",
                "    # fig.show()\n",
                "    fig.write_image(f\"{dh.get_path_to_main()}PlotsBreathe/Narrowing_in/{title}.pdf\")"
            ]
        },
        {
            "cell_type": "code",
            "execution_count": 11,
            "metadata": {},
            "outputs": [],
            "source": [
                "def add_text_box(fig, text, row, col):\n",
                "    # Get the subplot's domain coordinates\n",
                "    x_domain = fig.get_subplot(row, col).xaxis.domain\n",
                "    y_domain = fig.get_subplot(row, col).yaxis.domain\n",
                "    # print(x_domain, y_domain)\n",
                "\n",
                "    # Add rectangle\n",
                "    fig.add_shape(\n",
                "        type=\"rect\",\n",
                "        x0=x_domain[0] - 1,\n",
                "        x1=x_domain[1] * 25,\n",
                "        y0=y_domain[0],\n",
                "        y1=y_domain[1],\n",
                "        line=dict(color=\"black\", width=0),\n",
                "        fillcolor=\"white\",\n",
                "        xref=\"paper\",\n",
                "        yref=\"paper\",\n",
                "        row=row,\n",
                "        col=col,\n",
                "    )\n",
                "\n",
                "    # Add text\n",
                "    fig.add_annotation(\n",
                "        x=(x_domain[0] + x_domain[1]) / 2,  # center x\n",
                "        y=(y_domain[0] + y_domain[1]) / 2,  # center y\n",
                "        text=text,\n",
                "        showarrow=False,\n",
                "        font=dict(size=12),\n",
                "        xref=\"paper\",\n",
                "        yref=\"paper\",\n",
                "        xanchor=\"center\",\n",
                "        yanchor=\"middle\",\n",
                "        row=row,\n",
                "        col=col,\n",
                "    )"
            ]
        },
        {
            "cell_type": "markdown",
            "metadata": {},
            "source": [
                "# Who can the model help?"
            ]
        },
        {
            "cell_type": "code",
            "execution_count": 80,
            "metadata": {},
            "outputs": [
                {
                    "name": "stdout",
                    "output_type": "stream",
                    "text": [
                        "265\n"
                    ]
                }
            ],
            "source": [
                "# Filter out IDs with less than 30 datapoints\n",
                "min_datapoints = 10\n",
                "# min_datapoints = 100\n",
                "\n",
                "df_res_enough_data = df_res[df_res[\"count\"] >= min_datapoints]\n",
                "# df_res_enough_data = df_sc[df_sc[\"count\"] >= min_datapoints]\n",
                "print(df_res_enough_data.ID.nunique())"
            ]
        },
        {
            "cell_type": "code",
            "execution_count": 81,
            "metadata": {},
            "outputs": [],
            "source": [
                "# Get the last 30 days of data for each ID\n",
                "\n",
                "df_res_min_30_ecfev1 = df_res_enough_data.sort_values([\"ID\", \"ecFEV1 % Predicted\"])\n",
                "df_res_min_30_ecfev1 = df_res_min_30_ecfev1.groupby(\"ID\").head(30)\n",
                "\n",
                "df_res_last_30 = df_res_enough_data.sort_values([\"ID\", \"Date Recorded\"])\n",
                "df_res_last_30 = df_res_last_30.groupby(\"ID\").tail(30)\n",
                "\n",
                "df_res_first_30 = df_res_enough_data.sort_values([\"ID\", \"Date Recorded\"])\n",
                "df_res_first_30 = df_res_first_30.groupby(\"ID\").head(30)"
            ]
        },
        {
            "cell_type": "code",
            "execution_count": 94,
            "metadata": {},
            "outputs": [],
            "source": [
                "# Where AR is underestimated\n",
                "import models.helpers as mh\n",
                "\n",
                "AR = mh.VariableNode(\"Airway resistance (%)\", 0, 90, 2, prior={\"type\": \"uniform\"})\n",
                "\n",
                "\n",
                "def get_dumbell_plot_data(df_res, ar_row):\n",
                "\n",
                "    df_res[f\"{ar_row} mean\"] = df_res[ar_row].apply(lambda row: AR.get_mean(row))\n",
                "    df_res[f\"{ar_row} std\"] = df_res[ar_row].apply(lambda row: AR.get_std(row))\n",
                "    df_res[\"AR_ecFEV1%\"] = 100 - df_res[\"ecFEV1 % Predicted\"]\n",
                "    df_res[f\"{ar_row} - AR_ecFEV1%\"] = df_res[f\"{ar_row} mean\"] - df_res[\"AR_ecFEV1%\"]\n",
                "    # Add value low and high\n",
                "    df_res[f\"{ar_row} low\"] = df_res[f\"{ar_row} mean\"] - df_res[f\"{ar_row} std\"]\n",
                "    df_res[f\"{ar_row} high\"] = df_res[f\"{ar_row} mean\"] + df_res[f\"{ar_row} std\"]\n",
                "\n",
                "    # Create DataFrame with means in separate columns\n",
                "    df_means = (\n",
                "        df_res.groupby(\"ID\")\n",
                "        .agg(\n",
                "            {\n",
                "                f\"{ar_row} std\": \"mean\",\n",
                "                f\"{ar_row} mean\": \"mean\",\n",
                "                \"AR_ecFEV1%\": \"mean\",\n",
                "                f\"{ar_row} - AR_ecFEV1%\": \"mean\",\n",
                "                f\"{ar_row} low\": \"mean\",\n",
                "                f\"{ar_row} high\": \"mean\",\n",
                "            }\n",
                "        )\n",
                "        .rename(\n",
                "            columns={\n",
                "                f\"{ar_row} - AR_ecFEV1%\": f\"Mean {ar_row} - AR_ecFEV1%\",\n",
                "                f\"{ar_row} mean\": f\"Mean {ar_row} prediction\",\n",
                "                f\"{ar_row} std\": f\"Mean {ar_row} std\",\n",
                "                \"AR_ecFEV1%\": \"Mean AR_ecFEV1%\",\n",
                "                f\"{ar_row} low\": f\"Mean {ar_row} low\",\n",
                "                f\"{ar_row} high\": f\"Mean {ar_row} high\",\n",
                "            }\n",
                "        )\n",
                "    ).reset_index()\n",
                "\n",
                "    ids_sorted = df_means.sort_values(\n",
                "        by=f\"Mean {ar_row} - AR_ecFEV1%\", ascending=False\n",
                "    )[\"ID\"].values\n",
                "\n",
                "    # Rename Mean ar row low and high to ar row dist\n",
                "    df_means_2 = df_means.rename(\n",
                "        columns={\n",
                "            f\"Mean {ar_row} low\": f\"Mean {ar_row} dist\",\n",
                "            f\"Mean {ar_row} high\": f\"Mean {ar_row} dist\",\n",
                "        },\n",
                "    )\n",
                "\n",
                "    # Melt the dataframe to get four rows per ID for three measures\n",
                "    df_means_melted = pd.melt(\n",
                "        df_means_2,\n",
                "        id_vars=[\"ID\"],\n",
                "        value_vars=[\n",
                "            \"Mean AR_ecFEV1%\",\n",
                "            f\"Mean {ar_row} dist\",\n",
                "            f\"Mean {ar_row} prediction\",\n",
                "        ],\n",
                "        var_name=\"measure\",\n",
                "        value_name=\"value\",\n",
                "    )\n",
                "\n",
                "    return df_means_melted.set_index(\"ID\").loc[ids_sorted].reset_index(), df_means, ids_sorted\n",
                "\n",
                "\n",
                "# Dumbell plot"
            ]
        },
        {
            "cell_type": "code",
            "execution_count": 95,
            "metadata": {},
            "outputs": [],
            "source": [
                "df_for_dumbell = df_res_last_30\n",
                "# df_for_dumbell = df_res_first_30\n",
                "\n",
                "# df_ar_fev1_o2, ids_sorted = get_dumbell_plot_data(df_for_dumbell, \"AR_fev1_o2\")\n",
                "# df_ar_fev1_o2_2d, ids_sorted_2d = get_dumbell_plot_data(df_for_dumbell, \"AR_fev1_o2_2d\")\n",
                "df_ar_fev1_o2_fef2575_2d_dumbell, df_ar_fev1_o2_fef2575_2d_means, ids_sorted_fef2575 = get_dumbell_plot_data(\n",
                "    df_for_dumbell, \"AR_fev1_o2_fef2575_2d\"\n",
                ")\n",
                "# df_ar_fev1_o2_2d = get_dumbell_plot_data('AR_fev1_o2_2d')"
            ]
        },
        {
            "cell_type": "code",
            "execution_count": 356,
            "metadata": {},
            "outputs": [],
            "source": [
                "df_ar_fev1_o2 = df_ar_fev1_o2.set_index(\"ID\").loc[ids_sorted_fef2575].reset_index()\n",
                "df_ar_fev1_o2_fef2575_2d_dumbell = (\n",
                "    df_ar_fev1_o2_fef2575_2d_dumbell.set_index(\"ID\").loc[ids_sorted_fef2575].reset_index()\n",
                ")\n",
                "df_ar_fev1_o2_fef2575_2d = (\n",
                "    df_ar_fev1_o2_fef2575_2d.set_index(\"ID\").loc[ids_sorted_fef2575].reset_index()\n",
                ")"
            ]
        },
        {
            "cell_type": "code",
            "execution_count": 96,
            "metadata": {},
            "outputs": [
                {
                    "name": "stdout",
                    "output_type": "stream",
                    "text": [
                        "Mild size: 536\n",
                        "Moderate size: 448\n",
                        "Severe size: 76\n",
                        "-23.449175221381445\n"
                    ]
                },
                {
                    "data": {
                        "application/vnd.plotly.v1+json": {
                            "config": {
                                "plotlyServerURL": "https://plot.ly"
                            },
                            "data": [
                                {
                                    "line": {
                                        "width": 2
                                    },
                                    "marker": {
                                        "color": "red",
                                        "size": 2
                                    },
                                    "mode": "lines",
                                    "name": "Airway resistance inferred",
                                    "showlegend": true,
                                    "type": "scatter",
                                    "x": [
                                        17.60259994131585,
                                        21.86861664400464
                                    ],
                                    "xaxis": "x",
                                    "y": [
                                        "113",
                                        "113"
                                    ],
                                    "yaxis": "y"
                                },
                                {
                                    "line": {
                                        "width": 2
                                    },
                                    "marker": {
                                        "color": "red",
                                        "size": 2
                                    },
                                    "mode": "lines",
                                    "name": "Airway resistance inferred",
                                    "showlegend": false,
                                    "type": "scatter",
                                    "x": [
                                        1.4591887308530722,
                                        3.807102083642251
                                    ],
                                    "xaxis": "x",
                                    "y": [
                                        "469",
                                        "469"
                                    ],
                                    "yaxis": "y"
                                },
                                {
                                    "line": {
                                        "width": 2
                                    },
                                    "marker": {
                                        "color": "red",
                                        "size": 2
                                    },
                                    "mode": "lines",
                                    "name": "Airway resistance inferred",
                                    "showlegend": false,
                                    "type": "scatter",
                                    "x": [
                                        3.7891280270455368,
                                        7.978671602672162
                                    ],
                                    "xaxis": "x",
                                    "y": [
                                        "370",
                                        "370"
                                    ],
                                    "yaxis": "y"
                                },
                                {
                                    "line": {
                                        "width": 2
                                    },
                                    "marker": {
                                        "color": "red",
                                        "size": 2
                                    },
                                    "mode": "lines",
                                    "name": "Airway resistance inferred",
                                    "showlegend": false,
                                    "type": "scatter",
                                    "x": [
                                        11.01037428327872,
                                        15.764972976258314
                                    ],
                                    "xaxis": "x",
                                    "y": [
                                        "126",
                                        "126"
                                    ],
                                    "yaxis": "y"
                                },
                                {
                                    "line": {
                                        "width": 2
                                    },
                                    "marker": {
                                        "color": "red",
                                        "size": 2
                                    },
                                    "mode": "lines",
                                    "name": "Airway resistance inferred",
                                    "showlegend": false,
                                    "type": "scatter",
                                    "x": [
                                        2.204158792811452,
                                        8.173794466903347
                                    ],
                                    "xaxis": "x",
                                    "y": [
                                        "281",
                                        "281"
                                    ],
                                    "yaxis": "y"
                                },
                                {
                                    "line": {
                                        "width": 2
                                    },
                                    "marker": {
                                        "color": "red",
                                        "size": 2
                                    },
                                    "mode": "lines",
                                    "name": "Airway resistance inferred",
                                    "showlegend": false,
                                    "type": "scatter",
                                    "x": [
                                        15.114489734137596,
                                        22.034522760567093
                                    ],
                                    "xaxis": "x",
                                    "y": [
                                        "331",
                                        "331"
                                    ],
                                    "yaxis": "y"
                                },
                                {
                                    "line": {
                                        "width": 2
                                    },
                                    "marker": {
                                        "color": "red",
                                        "size": 2
                                    },
                                    "mode": "lines",
                                    "name": "Airway resistance inferred",
                                    "showlegend": false,
                                    "type": "scatter",
                                    "x": [
                                        7.646475306541561,
                                        13.832382223230061
                                    ],
                                    "xaxis": "x",
                                    "y": [
                                        "250",
                                        "250"
                                    ],
                                    "yaxis": "y"
                                },
                                {
                                    "line": {
                                        "width": 2
                                    },
                                    "marker": {
                                        "color": "red",
                                        "size": 2
                                    },
                                    "mode": "lines",
                                    "name": "Airway resistance inferred",
                                    "showlegend": false,
                                    "type": "scatter",
                                    "x": [
                                        4.772991026420831,
                                        10.002840698470097
                                    ],
                                    "xaxis": "x",
                                    "y": [
                                        "492",
                                        "492"
                                    ],
                                    "yaxis": "y"
                                },
                                {
                                    "line": {
                                        "width": 2
                                    },
                                    "marker": {
                                        "color": "red",
                                        "size": 2
                                    },
                                    "mode": "lines",
                                    "name": "Airway resistance inferred",
                                    "showlegend": false,
                                    "type": "scatter",
                                    "x": [
                                        6.045071429692791,
                                        14.047741969045052
                                    ],
                                    "xaxis": "x",
                                    "y": [
                                        "513",
                                        "513"
                                    ],
                                    "yaxis": "y"
                                },
                                {
                                    "line": {
                                        "width": 2
                                    },
                                    "marker": {
                                        "color": "red",
                                        "size": 2
                                    },
                                    "mode": "lines",
                                    "name": "Airway resistance inferred",
                                    "showlegend": false,
                                    "type": "scatter",
                                    "x": [
                                        4.265554589382858,
                                        10.914344729868247
                                    ],
                                    "xaxis": "x",
                                    "y": [
                                        "177",
                                        "177"
                                    ],
                                    "yaxis": "y"
                                },
                                {
                                    "line": {
                                        "width": 2
                                    },
                                    "marker": {
                                        "color": "red",
                                        "size": 2
                                    },
                                    "mode": "lines",
                                    "name": "Airway resistance inferred",
                                    "showlegend": false,
                                    "type": "scatter",
                                    "x": [
                                        19.08694795699815,
                                        28.277309316959364
                                    ],
                                    "xaxis": "x",
                                    "y": [
                                        "530",
                                        "530"
                                    ],
                                    "yaxis": "y"
                                },
                                {
                                    "line": {
                                        "width": 2
                                    },
                                    "marker": {
                                        "color": "red",
                                        "size": 2
                                    },
                                    "mode": "lines",
                                    "name": "Airway resistance inferred",
                                    "showlegend": false,
                                    "type": "scatter",
                                    "x": [
                                        2.897717147842583,
                                        10.463351077558507
                                    ],
                                    "xaxis": "x",
                                    "y": [
                                        "444",
                                        "444"
                                    ],
                                    "yaxis": "y"
                                },
                                {
                                    "line": {
                                        "width": 2
                                    },
                                    "marker": {
                                        "color": "red",
                                        "size": 2
                                    },
                                    "mode": "lines",
                                    "name": "Airway resistance inferred",
                                    "showlegend": false,
                                    "type": "scatter",
                                    "x": [
                                        8.192750723441586,
                                        16.37357396972055
                                    ],
                                    "xaxis": "x",
                                    "y": [
                                        "230",
                                        "230"
                                    ],
                                    "yaxis": "y"
                                },
                                {
                                    "line": {
                                        "width": 2
                                    },
                                    "marker": {
                                        "color": "red",
                                        "size": 2
                                    },
                                    "mode": "lines",
                                    "name": "Airway resistance inferred",
                                    "showlegend": false,
                                    "type": "scatter",
                                    "x": [
                                        3.9415302644958,
                                        11.63609227996545
                                    ],
                                    "xaxis": "x",
                                    "y": [
                                        "121",
                                        "121"
                                    ],
                                    "yaxis": "y"
                                },
                                {
                                    "line": {
                                        "width": 2
                                    },
                                    "marker": {
                                        "color": "red",
                                        "size": 2
                                    },
                                    "mode": "lines",
                                    "name": "Airway resistance inferred",
                                    "showlegend": false,
                                    "type": "scatter",
                                    "x": [
                                        2.525542933262607,
                                        9.845387461297234
                                    ],
                                    "xaxis": "x",
                                    "y": [
                                        "512",
                                        "512"
                                    ],
                                    "yaxis": "y"
                                },
                                {
                                    "line": {
                                        "width": 2
                                    },
                                    "marker": {
                                        "color": "red",
                                        "size": 2
                                    },
                                    "mode": "lines",
                                    "name": "Airway resistance inferred",
                                    "showlegend": false,
                                    "type": "scatter",
                                    "x": [
                                        11.943703649145636,
                                        20.52902129377205
                                    ],
                                    "xaxis": "x",
                                    "y": [
                                        "262",
                                        "262"
                                    ],
                                    "yaxis": "y"
                                },
                                {
                                    "line": {
                                        "width": 2
                                    },
                                    "marker": {
                                        "color": "red",
                                        "size": 2
                                    },
                                    "mode": "lines",
                                    "name": "Airway resistance inferred",
                                    "showlegend": false,
                                    "type": "scatter",
                                    "x": [
                                        6.506835977857848,
                                        13.322007969933273
                                    ],
                                    "xaxis": "x",
                                    "y": [
                                        "244",
                                        "244"
                                    ],
                                    "yaxis": "y"
                                },
                                {
                                    "line": {
                                        "width": 2
                                    },
                                    "marker": {
                                        "color": "red",
                                        "size": 2
                                    },
                                    "mode": "lines",
                                    "name": "Airway resistance inferred",
                                    "showlegend": false,
                                    "type": "scatter",
                                    "x": [
                                        11.223838752427273,
                                        20.626198069141164
                                    ],
                                    "xaxis": "x",
                                    "y": [
                                        "273",
                                        "273"
                                    ],
                                    "yaxis": "y"
                                },
                                {
                                    "line": {
                                        "width": 2
                                    },
                                    "marker": {
                                        "color": "red",
                                        "size": 2
                                    },
                                    "mode": "lines",
                                    "name": "Airway resistance inferred",
                                    "showlegend": false,
                                    "type": "scatter",
                                    "x": [
                                        9.283846731419748,
                                        16.98252064495322
                                    ],
                                    "xaxis": "x",
                                    "y": [
                                        "302",
                                        "302"
                                    ],
                                    "yaxis": "y"
                                },
                                {
                                    "line": {
                                        "width": 2
                                    },
                                    "marker": {
                                        "color": "red",
                                        "size": 2
                                    },
                                    "mode": "lines",
                                    "name": "Airway resistance inferred",
                                    "showlegend": false,
                                    "type": "scatter",
                                    "x": [
                                        16.725019371636673,
                                        28.909065445818175
                                    ],
                                    "xaxis": "x",
                                    "y": [
                                        "307",
                                        "307"
                                    ],
                                    "yaxis": "y"
                                },
                                {
                                    "line": {
                                        "width": 2
                                    },
                                    "marker": {
                                        "color": "red",
                                        "size": 2
                                    },
                                    "mode": "lines",
                                    "name": "Airway resistance inferred",
                                    "showlegend": false,
                                    "type": "scatter",
                                    "x": [
                                        9.930395353554779,
                                        17.814843612780706
                                    ],
                                    "xaxis": "x",
                                    "y": [
                                        "178",
                                        "178"
                                    ],
                                    "yaxis": "y"
                                },
                                {
                                    "line": {
                                        "width": 2
                                    },
                                    "marker": {
                                        "color": "red",
                                        "size": 2
                                    },
                                    "mode": "lines",
                                    "name": "Airway resistance inferred",
                                    "showlegend": false,
                                    "type": "scatter",
                                    "x": [
                                        24.564719188914342,
                                        35.35019164810152
                                    ],
                                    "xaxis": "x",
                                    "y": [
                                        "117",
                                        "117"
                                    ],
                                    "yaxis": "y"
                                },
                                {
                                    "line": {
                                        "width": 2
                                    },
                                    "marker": {
                                        "color": "red",
                                        "size": 2
                                    },
                                    "mode": "lines",
                                    "name": "Airway resistance inferred",
                                    "showlegend": false,
                                    "type": "scatter",
                                    "x": [
                                        9.764466683786216,
                                        18.855215411525364
                                    ],
                                    "xaxis": "x",
                                    "y": [
                                        "182",
                                        "182"
                                    ],
                                    "yaxis": "y"
                                },
                                {
                                    "line": {
                                        "width": 2
                                    },
                                    "marker": {
                                        "color": "red",
                                        "size": 2
                                    },
                                    "mode": "lines",
                                    "name": "Airway resistance inferred",
                                    "showlegend": false,
                                    "type": "scatter",
                                    "x": [
                                        16.2590379332329,
                                        27.640953477496275
                                    ],
                                    "xaxis": "x",
                                    "y": [
                                        "233",
                                        "233"
                                    ],
                                    "yaxis": "y"
                                },
                                {
                                    "line": {
                                        "width": 2
                                    },
                                    "marker": {
                                        "color": "red",
                                        "size": 2
                                    },
                                    "mode": "lines",
                                    "name": "Airway resistance inferred",
                                    "showlegend": false,
                                    "type": "scatter",
                                    "x": [
                                        17.46286113505862,
                                        30.01886858949877
                                    ],
                                    "xaxis": "x",
                                    "y": [
                                        "420",
                                        "420"
                                    ],
                                    "yaxis": "y"
                                },
                                {
                                    "line": {
                                        "width": 2
                                    },
                                    "marker": {
                                        "color": "red",
                                        "size": 2
                                    },
                                    "mode": "lines",
                                    "name": "Airway resistance inferred",
                                    "showlegend": false,
                                    "type": "scatter",
                                    "x": [
                                        18.59703904246789,
                                        26.680669365820123
                                    ],
                                    "xaxis": "x",
                                    "y": [
                                        "242",
                                        "242"
                                    ],
                                    "yaxis": "y"
                                },
                                {
                                    "line": {
                                        "width": 2
                                    },
                                    "marker": {
                                        "color": "red",
                                        "size": 2
                                    },
                                    "mode": "lines",
                                    "name": "Airway resistance inferred",
                                    "showlegend": false,
                                    "type": "scatter",
                                    "x": [
                                        18.992194417288186,
                                        30.35131102740029
                                    ],
                                    "xaxis": "x",
                                    "y": [
                                        "134",
                                        "134"
                                    ],
                                    "yaxis": "y"
                                },
                                {
                                    "line": {
                                        "width": 2
                                    },
                                    "marker": {
                                        "color": "red",
                                        "size": 2
                                    },
                                    "mode": "lines",
                                    "name": "Airway resistance inferred",
                                    "showlegend": false,
                                    "type": "scatter",
                                    "x": [
                                        2.755628763968478,
                                        11.338413905388641
                                    ],
                                    "xaxis": "x",
                                    "y": [
                                        "130",
                                        "130"
                                    ],
                                    "yaxis": "y"
                                },
                                {
                                    "line": {
                                        "width": 2
                                    },
                                    "marker": {
                                        "color": "red",
                                        "size": 2
                                    },
                                    "mode": "lines",
                                    "name": "Airway resistance inferred",
                                    "showlegend": false,
                                    "type": "scatter",
                                    "x": [
                                        7.65253585368091,
                                        18.756235683476636
                                    ],
                                    "xaxis": "x",
                                    "y": [
                                        "255",
                                        "255"
                                    ],
                                    "yaxis": "y"
                                },
                                {
                                    "line": {
                                        "width": 2
                                    },
                                    "marker": {
                                        "color": "red",
                                        "size": 2
                                    },
                                    "mode": "lines",
                                    "name": "Airway resistance inferred",
                                    "showlegend": false,
                                    "type": "scatter",
                                    "x": [
                                        22.35295981415081,
                                        35.015226471361295
                                    ],
                                    "xaxis": "x",
                                    "y": [
                                        "257",
                                        "257"
                                    ],
                                    "yaxis": "y"
                                },
                                {
                                    "line": {
                                        "width": 2
                                    },
                                    "marker": {
                                        "color": "red",
                                        "size": 2
                                    },
                                    "mode": "lines",
                                    "name": "Airway resistance inferred",
                                    "showlegend": false,
                                    "type": "scatter",
                                    "x": [
                                        6.801816386448293,
                                        15.5144417187448
                                    ],
                                    "xaxis": "x",
                                    "y": [
                                        "297",
                                        "297"
                                    ],
                                    "yaxis": "y"
                                },
                                {
                                    "line": {
                                        "width": 2
                                    },
                                    "marker": {
                                        "color": "red",
                                        "size": 2
                                    },
                                    "mode": "lines",
                                    "name": "Airway resistance inferred",
                                    "showlegend": false,
                                    "type": "scatter",
                                    "x": [
                                        5.843569750452973,
                                        14.18237908466517
                                    ],
                                    "xaxis": "x",
                                    "y": [
                                        "455",
                                        "455"
                                    ],
                                    "yaxis": "y"
                                },
                                {
                                    "line": {
                                        "width": 2
                                    },
                                    "marker": {
                                        "color": "red",
                                        "size": 2
                                    },
                                    "mode": "lines",
                                    "name": "Airway resistance inferred",
                                    "showlegend": false,
                                    "type": "scatter",
                                    "x": [
                                        4.719857671662604,
                                        13.407575822136172
                                    ],
                                    "xaxis": "x",
                                    "y": [
                                        "144",
                                        "144"
                                    ],
                                    "yaxis": "y"
                                },
                                {
                                    "line": {
                                        "width": 2
                                    },
                                    "marker": {
                                        "color": "red",
                                        "size": 2
                                    },
                                    "mode": "lines",
                                    "name": "Airway resistance inferred",
                                    "showlegend": false,
                                    "type": "scatter",
                                    "x": [
                                        17.886576453476053,
                                        31.40871669565314
                                    ],
                                    "xaxis": "x",
                                    "y": [
                                        "319",
                                        "319"
                                    ],
                                    "yaxis": "y"
                                },
                                {
                                    "line": {
                                        "width": 2
                                    },
                                    "marker": {
                                        "color": "red",
                                        "size": 2
                                    },
                                    "mode": "lines",
                                    "name": "Airway resistance inferred",
                                    "showlegend": false,
                                    "type": "scatter",
                                    "x": [
                                        10.83225540597729,
                                        23.442379118325096
                                    ],
                                    "xaxis": "x",
                                    "y": [
                                        "299",
                                        "299"
                                    ],
                                    "yaxis": "y"
                                },
                                {
                                    "line": {
                                        "width": 2
                                    },
                                    "marker": {
                                        "color": "red",
                                        "size": 2
                                    },
                                    "mode": "lines",
                                    "name": "Airway resistance inferred",
                                    "showlegend": false,
                                    "type": "scatter",
                                    "x": [
                                        8.573833429300757,
                                        20.632701672695383
                                    ],
                                    "xaxis": "x",
                                    "y": [
                                        "170",
                                        "170"
                                    ],
                                    "yaxis": "y"
                                },
                                {
                                    "line": {
                                        "width": 2
                                    },
                                    "marker": {
                                        "color": "red",
                                        "size": 2
                                    },
                                    "mode": "lines",
                                    "name": "Airway resistance inferred",
                                    "showlegend": false,
                                    "type": "scatter",
                                    "x": [
                                        14.404565217292152,
                                        24.43928969901636
                                    ],
                                    "xaxis": "x",
                                    "y": [
                                        "141",
                                        "141"
                                    ],
                                    "yaxis": "y"
                                },
                                {
                                    "line": {
                                        "width": 2
                                    },
                                    "marker": {
                                        "color": "red",
                                        "size": 2
                                    },
                                    "mode": "lines",
                                    "name": "Airway resistance inferred",
                                    "showlegend": false,
                                    "type": "scatter",
                                    "x": [
                                        5.758258580326043,
                                        13.192549680523562
                                    ],
                                    "xaxis": "x",
                                    "y": [
                                        "482",
                                        "482"
                                    ],
                                    "yaxis": "y"
                                },
                                {
                                    "line": {
                                        "width": 2
                                    },
                                    "marker": {
                                        "color": "red",
                                        "size": 2
                                    },
                                    "mode": "lines",
                                    "name": "Airway resistance inferred",
                                    "showlegend": false,
                                    "type": "scatter",
                                    "x": [
                                        10.647758720142713,
                                        19.900984370106823
                                    ],
                                    "xaxis": "x",
                                    "y": [
                                        "490",
                                        "490"
                                    ],
                                    "yaxis": "y"
                                },
                                {
                                    "line": {
                                        "width": 2
                                    },
                                    "marker": {
                                        "color": "red",
                                        "size": 2
                                    },
                                    "mode": "lines",
                                    "name": "Airway resistance inferred",
                                    "showlegend": false,
                                    "type": "scatter",
                                    "x": [
                                        9.25931711446489,
                                        20.321902672092317
                                    ],
                                    "xaxis": "x",
                                    "y": [
                                        "343",
                                        "343"
                                    ],
                                    "yaxis": "y"
                                },
                                {
                                    "line": {
                                        "width": 2
                                    },
                                    "marker": {
                                        "color": "red",
                                        "size": 2
                                    },
                                    "mode": "lines",
                                    "name": "Airway resistance inferred",
                                    "showlegend": false,
                                    "type": "scatter",
                                    "x": [
                                        4.78279100567857,
                                        15.317370466120124
                                    ],
                                    "xaxis": "x",
                                    "y": [
                                        "190",
                                        "190"
                                    ],
                                    "yaxis": "y"
                                },
                                {
                                    "line": {
                                        "width": 2
                                    },
                                    "marker": {
                                        "color": "red",
                                        "size": 2
                                    },
                                    "mode": "lines",
                                    "name": "Airway resistance inferred",
                                    "showlegend": false,
                                    "type": "scatter",
                                    "x": [
                                        16.691585527262948,
                                        28.79582844272549
                                    ],
                                    "xaxis": "x",
                                    "y": [
                                        "551",
                                        "551"
                                    ],
                                    "yaxis": "y"
                                },
                                {
                                    "line": {
                                        "width": 2
                                    },
                                    "marker": {
                                        "color": "red",
                                        "size": 2
                                    },
                                    "mode": "lines",
                                    "name": "Airway resistance inferred",
                                    "showlegend": false,
                                    "type": "scatter",
                                    "x": [
                                        14.428056904186587,
                                        26.272745233487708
                                    ],
                                    "xaxis": "x",
                                    "y": [
                                        "480",
                                        "480"
                                    ],
                                    "yaxis": "y"
                                },
                                {
                                    "line": {
                                        "width": 2
                                    },
                                    "marker": {
                                        "color": "red",
                                        "size": 2
                                    },
                                    "mode": "lines",
                                    "name": "Airway resistance inferred",
                                    "showlegend": false,
                                    "type": "scatter",
                                    "x": [
                                        13.60922476871413,
                                        26.682512316981857
                                    ],
                                    "xaxis": "x",
                                    "y": [
                                        "511",
                                        "511"
                                    ],
                                    "yaxis": "y"
                                },
                                {
                                    "line": {
                                        "width": 2
                                    },
                                    "marker": {
                                        "color": "red",
                                        "size": 2
                                    },
                                    "mode": "lines",
                                    "name": "Airway resistance inferred",
                                    "showlegend": false,
                                    "type": "scatter",
                                    "x": [
                                        9.619684701004987,
                                        19.663626971138857
                                    ],
                                    "xaxis": "x",
                                    "y": [
                                        "467",
                                        "467"
                                    ],
                                    "yaxis": "y"
                                },
                                {
                                    "line": {
                                        "width": 2
                                    },
                                    "marker": {
                                        "color": "red",
                                        "size": 2
                                    },
                                    "mode": "lines",
                                    "name": "Airway resistance inferred",
                                    "showlegend": false,
                                    "type": "scatter",
                                    "x": [
                                        11.042685166266585,
                                        22.298599965379356
                                    ],
                                    "xaxis": "x",
                                    "y": [
                                        "152",
                                        "152"
                                    ],
                                    "yaxis": "y"
                                },
                                {
                                    "line": {
                                        "width": 2
                                    },
                                    "marker": {
                                        "color": "red",
                                        "size": 2
                                    },
                                    "mode": "lines",
                                    "name": "Airway resistance inferred",
                                    "showlegend": false,
                                    "type": "scatter",
                                    "x": [
                                        11.82537164863482,
                                        25.42690961033309
                                    ],
                                    "xaxis": "x",
                                    "y": [
                                        "163",
                                        "163"
                                    ],
                                    "yaxis": "y"
                                },
                                {
                                    "line": {
                                        "width": 2
                                    },
                                    "marker": {
                                        "color": "red",
                                        "size": 2
                                    },
                                    "mode": "lines",
                                    "name": "Airway resistance inferred",
                                    "showlegend": false,
                                    "type": "scatter",
                                    "x": [
                                        8.275567452434418,
                                        16.488561626931258
                                    ],
                                    "xaxis": "x",
                                    "y": [
                                        "506",
                                        "506"
                                    ],
                                    "yaxis": "y"
                                },
                                {
                                    "line": {
                                        "width": 2
                                    },
                                    "marker": {
                                        "color": "red",
                                        "size": 2
                                    },
                                    "mode": "lines",
                                    "name": "Airway resistance inferred",
                                    "showlegend": false,
                                    "type": "scatter",
                                    "x": [
                                        5.477388513698648,
                                        16.392114107454514
                                    ],
                                    "xaxis": "x",
                                    "y": [
                                        "123",
                                        "123"
                                    ],
                                    "yaxis": "y"
                                },
                                {
                                    "line": {
                                        "width": 2
                                    },
                                    "marker": {
                                        "color": "red",
                                        "size": 2
                                    },
                                    "mode": "lines",
                                    "name": "Airway resistance inferred",
                                    "showlegend": false,
                                    "type": "scatter",
                                    "x": [
                                        8.163124955859912,
                                        17.19598903747923
                                    ],
                                    "xaxis": "x",
                                    "y": [
                                        "209",
                                        "209"
                                    ],
                                    "yaxis": "y"
                                },
                                {
                                    "line": {
                                        "width": 2
                                    },
                                    "marker": {
                                        "color": "red",
                                        "size": 2
                                    },
                                    "mode": "lines",
                                    "name": "Airway resistance inferred",
                                    "showlegend": false,
                                    "type": "scatter",
                                    "x": [
                                        12.316430653771116,
                                        25.287880703047296
                                    ],
                                    "xaxis": "x",
                                    "y": [
                                        "276",
                                        "276"
                                    ],
                                    "yaxis": "y"
                                },
                                {
                                    "line": {
                                        "width": 2
                                    },
                                    "marker": {
                                        "color": "red",
                                        "size": 2
                                    },
                                    "mode": "lines",
                                    "name": "Airway resistance inferred",
                                    "showlegend": false,
                                    "type": "scatter",
                                    "x": [
                                        3.737931689514377,
                                        14.119734739380686
                                    ],
                                    "xaxis": "x",
                                    "y": [
                                        "407",
                                        "407"
                                    ],
                                    "yaxis": "y"
                                },
                                {
                                    "line": {
                                        "width": 2
                                    },
                                    "marker": {
                                        "color": "red",
                                        "size": 2
                                    },
                                    "mode": "lines",
                                    "name": "Airway resistance inferred",
                                    "showlegend": false,
                                    "type": "scatter",
                                    "x": [
                                        5.328479647253309,
                                        16.127562380837936
                                    ],
                                    "xaxis": "x",
                                    "y": [
                                        "239",
                                        "239"
                                    ],
                                    "yaxis": "y"
                                },
                                {
                                    "line": {
                                        "width": 2
                                    },
                                    "marker": {
                                        "color": "red",
                                        "size": 2
                                    },
                                    "mode": "lines",
                                    "name": "Airway resistance inferred",
                                    "showlegend": false,
                                    "type": "scatter",
                                    "x": [
                                        9.125867262199591,
                                        21.06630339257693
                                    ],
                                    "xaxis": "x",
                                    "y": [
                                        "292",
                                        "292"
                                    ],
                                    "yaxis": "y"
                                },
                                {
                                    "line": {
                                        "width": 2
                                    },
                                    "marker": {
                                        "color": "red",
                                        "size": 2
                                    },
                                    "mode": "lines",
                                    "name": "Airway resistance inferred",
                                    "showlegend": false,
                                    "type": "scatter",
                                    "x": [
                                        4.5116122196954835,
                                        14.680071424876004
                                    ],
                                    "xaxis": "x",
                                    "y": [
                                        "443",
                                        "443"
                                    ],
                                    "yaxis": "y"
                                },
                                {
                                    "line": {
                                        "width": 2
                                    },
                                    "marker": {
                                        "color": "red",
                                        "size": 2
                                    },
                                    "mode": "lines",
                                    "name": "Airway resistance inferred",
                                    "showlegend": false,
                                    "type": "scatter",
                                    "x": [
                                        17.10428256377974,
                                        28.999273140499387
                                    ],
                                    "xaxis": "x",
                                    "y": [
                                        "543",
                                        "543"
                                    ],
                                    "yaxis": "y"
                                },
                                {
                                    "line": {
                                        "width": 2
                                    },
                                    "marker": {
                                        "color": "red",
                                        "size": 2
                                    },
                                    "mode": "lines",
                                    "name": "Airway resistance inferred",
                                    "showlegend": false,
                                    "type": "scatter",
                                    "x": [
                                        14.735870748514307,
                                        24.614008952657368
                                    ],
                                    "xaxis": "x",
                                    "y": [
                                        "532",
                                        "532"
                                    ],
                                    "yaxis": "y"
                                },
                                {
                                    "line": {
                                        "width": 2
                                    },
                                    "marker": {
                                        "color": "red",
                                        "size": 2
                                    },
                                    "mode": "lines",
                                    "name": "Airway resistance inferred",
                                    "showlegend": false,
                                    "type": "scatter",
                                    "x": [
                                        4.97930359166031,
                                        14.40474761056328
                                    ],
                                    "xaxis": "x",
                                    "y": [
                                        "401",
                                        "401"
                                    ],
                                    "yaxis": "y"
                                },
                                {
                                    "line": {
                                        "width": 2
                                    },
                                    "marker": {
                                        "color": "red",
                                        "size": 2
                                    },
                                    "mode": "lines",
                                    "name": "Airway resistance inferred",
                                    "showlegend": false,
                                    "type": "scatter",
                                    "x": [
                                        12.957262559405809,
                                        26.22768311867244
                                    ],
                                    "xaxis": "x",
                                    "y": [
                                        "544",
                                        "544"
                                    ],
                                    "yaxis": "y"
                                },
                                {
                                    "line": {
                                        "width": 2
                                    },
                                    "marker": {
                                        "color": "red",
                                        "size": 2
                                    },
                                    "mode": "lines",
                                    "name": "Airway resistance inferred",
                                    "showlegend": false,
                                    "type": "scatter",
                                    "x": [
                                        10.80266722972555,
                                        23.92357867997499
                                    ],
                                    "xaxis": "x",
                                    "y": [
                                        "223",
                                        "223"
                                    ],
                                    "yaxis": "y"
                                },
                                {
                                    "line": {
                                        "width": 2
                                    },
                                    "marker": {
                                        "color": "red",
                                        "size": 2
                                    },
                                    "mode": "lines",
                                    "name": "Airway resistance inferred",
                                    "showlegend": false,
                                    "type": "scatter",
                                    "x": [
                                        20.664395582547815,
                                        33.78107952379528
                                    ],
                                    "xaxis": "x",
                                    "y": [
                                        "171",
                                        "171"
                                    ],
                                    "yaxis": "y"
                                },
                                {
                                    "line": {
                                        "width": 2
                                    },
                                    "marker": {
                                        "color": "red",
                                        "size": 2
                                    },
                                    "mode": "lines",
                                    "name": "Airway resistance inferred",
                                    "showlegend": false,
                                    "type": "scatter",
                                    "x": [
                                        7.9584648934966085,
                                        17.8667785042602
                                    ],
                                    "xaxis": "x",
                                    "y": [
                                        "381",
                                        "381"
                                    ],
                                    "yaxis": "y"
                                },
                                {
                                    "line": {
                                        "width": 2
                                    },
                                    "marker": {
                                        "color": "red",
                                        "size": 2
                                    },
                                    "mode": "lines",
                                    "name": "Airway resistance inferred",
                                    "showlegend": false,
                                    "type": "scatter",
                                    "x": [
                                        6.372587362125437,
                                        17.969771570199736
                                    ],
                                    "xaxis": "x",
                                    "y": [
                                        "296",
                                        "296"
                                    ],
                                    "yaxis": "y"
                                },
                                {
                                    "line": {
                                        "width": 2
                                    },
                                    "marker": {
                                        "color": "red",
                                        "size": 2
                                    },
                                    "mode": "lines",
                                    "name": "Airway resistance inferred",
                                    "showlegend": false,
                                    "type": "scatter",
                                    "x": [
                                        6.923452092780911,
                                        19.80731047648543
                                    ],
                                    "xaxis": "x",
                                    "y": [
                                        "300",
                                        "300"
                                    ],
                                    "yaxis": "y"
                                },
                                {
                                    "line": {
                                        "width": 2
                                    },
                                    "marker": {
                                        "color": "red",
                                        "size": 2
                                    },
                                    "mode": "lines",
                                    "name": "Airway resistance inferred",
                                    "showlegend": false,
                                    "type": "scatter",
                                    "x": [
                                        8.45446244479095,
                                        17.112615273843392
                                    ],
                                    "xaxis": "x",
                                    "y": [
                                        "427",
                                        "427"
                                    ],
                                    "yaxis": "y"
                                },
                                {
                                    "line": {
                                        "width": 2
                                    },
                                    "marker": {
                                        "color": "red",
                                        "size": 2
                                    },
                                    "mode": "lines",
                                    "name": "Airway resistance inferred",
                                    "showlegend": false,
                                    "type": "scatter",
                                    "x": [
                                        9.983330374879397,
                                        20.293289876267558
                                    ],
                                    "xaxis": "x",
                                    "y": [
                                        "312",
                                        "312"
                                    ],
                                    "yaxis": "y"
                                },
                                {
                                    "line": {
                                        "width": 2
                                    },
                                    "marker": {
                                        "color": "red",
                                        "size": 2
                                    },
                                    "mode": "lines",
                                    "name": "Airway resistance inferred",
                                    "showlegend": false,
                                    "type": "scatter",
                                    "x": [
                                        18.408524721317104,
                                        32.67599738941437
                                    ],
                                    "xaxis": "x",
                                    "y": [
                                        "315",
                                        "315"
                                    ],
                                    "yaxis": "y"
                                },
                                {
                                    "line": {
                                        "width": 2
                                    },
                                    "marker": {
                                        "color": "red",
                                        "size": 2
                                    },
                                    "mode": "lines",
                                    "name": "Airway resistance inferred",
                                    "showlegend": false,
                                    "type": "scatter",
                                    "x": [
                                        22.803358060493107,
                                        36.27283643538137
                                    ],
                                    "xaxis": "x",
                                    "y": [
                                        "201",
                                        "201"
                                    ],
                                    "yaxis": "y"
                                },
                                {
                                    "line": {
                                        "width": 2
                                    },
                                    "marker": {
                                        "color": "red",
                                        "size": 2
                                    },
                                    "mode": "lines",
                                    "name": "Airway resistance inferred",
                                    "showlegend": false,
                                    "type": "scatter",
                                    "x": [
                                        10.81136161631355,
                                        22.56908804245554
                                    ],
                                    "xaxis": "x",
                                    "y": [
                                        "290",
                                        "290"
                                    ],
                                    "yaxis": "y"
                                },
                                {
                                    "line": {
                                        "width": 2
                                    },
                                    "marker": {
                                        "color": "red",
                                        "size": 2
                                    },
                                    "mode": "lines",
                                    "name": "Airway resistance inferred",
                                    "showlegend": false,
                                    "type": "scatter",
                                    "x": [
                                        10.02368858218233,
                                        19.311120640921892
                                    ],
                                    "xaxis": "x",
                                    "y": [
                                        "125",
                                        "125"
                                    ],
                                    "yaxis": "y"
                                },
                                {
                                    "line": {
                                        "width": 2
                                    },
                                    "marker": {
                                        "color": "red",
                                        "size": 2
                                    },
                                    "mode": "lines",
                                    "name": "Airway resistance inferred",
                                    "showlegend": false,
                                    "type": "scatter",
                                    "x": [
                                        19.301033270881543,
                                        30.166794020433613
                                    ],
                                    "xaxis": "x",
                                    "y": [
                                        "124",
                                        "124"
                                    ],
                                    "yaxis": "y"
                                },
                                {
                                    "line": {
                                        "width": 2
                                    },
                                    "marker": {
                                        "color": "red",
                                        "size": 2
                                    },
                                    "mode": "lines",
                                    "name": "Airway resistance inferred",
                                    "showlegend": false,
                                    "type": "scatter",
                                    "x": [
                                        15.468503869461646,
                                        28.02515453992913
                                    ],
                                    "xaxis": "x",
                                    "y": [
                                        "310",
                                        "310"
                                    ],
                                    "yaxis": "y"
                                },
                                {
                                    "line": {
                                        "width": 2
                                    },
                                    "marker": {
                                        "color": "red",
                                        "size": 2
                                    },
                                    "mode": "lines",
                                    "name": "Airway resistance inferred",
                                    "showlegend": false,
                                    "type": "scatter",
                                    "x": [
                                        16.288109005699138,
                                        30.7451979843049
                                    ],
                                    "xaxis": "x",
                                    "y": [
                                        "447",
                                        "447"
                                    ],
                                    "yaxis": "y"
                                },
                                {
                                    "line": {
                                        "width": 2
                                    },
                                    "marker": {
                                        "color": "red",
                                        "size": 2
                                    },
                                    "mode": "lines",
                                    "name": "Airway resistance inferred",
                                    "showlegend": false,
                                    "type": "scatter",
                                    "x": [
                                        9.333714453079148,
                                        19.591486786458802
                                    ],
                                    "xaxis": "x",
                                    "y": [
                                        "156",
                                        "156"
                                    ],
                                    "yaxis": "y"
                                },
                                {
                                    "line": {
                                        "width": 2
                                    },
                                    "marker": {
                                        "color": "red",
                                        "size": 2
                                    },
                                    "mode": "lines",
                                    "name": "Airway resistance inferred",
                                    "showlegend": false,
                                    "type": "scatter",
                                    "x": [
                                        5.526421123638523,
                                        16.15103048322826
                                    ],
                                    "xaxis": "x",
                                    "y": [
                                        "553",
                                        "553"
                                    ],
                                    "yaxis": "y"
                                },
                                {
                                    "line": {
                                        "width": 2
                                    },
                                    "marker": {
                                        "color": "red",
                                        "size": 2
                                    },
                                    "mode": "lines",
                                    "name": "Airway resistance inferred",
                                    "showlegend": false,
                                    "type": "scatter",
                                    "x": [
                                        7.754664022049752,
                                        17.300680487689664
                                    ],
                                    "xaxis": "x",
                                    "y": [
                                        "192",
                                        "192"
                                    ],
                                    "yaxis": "y"
                                },
                                {
                                    "line": {
                                        "width": 2
                                    },
                                    "marker": {
                                        "color": "red",
                                        "size": 2
                                    },
                                    "mode": "lines",
                                    "name": "Airway resistance inferred",
                                    "showlegend": false,
                                    "type": "scatter",
                                    "x": [
                                        13.415224534274945,
                                        26.860306055454405
                                    ],
                                    "xaxis": "x",
                                    "y": [
                                        "352",
                                        "352"
                                    ],
                                    "yaxis": "y"
                                },
                                {
                                    "line": {
                                        "width": 2
                                    },
                                    "marker": {
                                        "color": "red",
                                        "size": 2
                                    },
                                    "mode": "lines",
                                    "name": "Airway resistance inferred",
                                    "showlegend": false,
                                    "type": "scatter",
                                    "x": [
                                        8.371446512690266,
                                        21.345696462468982
                                    ],
                                    "xaxis": "x",
                                    "y": [
                                        "425",
                                        "425"
                                    ],
                                    "yaxis": "y"
                                },
                                {
                                    "line": {
                                        "width": 2
                                    },
                                    "marker": {
                                        "color": "red",
                                        "size": 2
                                    },
                                    "mode": "lines",
                                    "name": "Airway resistance inferred",
                                    "showlegend": false,
                                    "type": "scatter",
                                    "x": [
                                        11.9332861924926,
                                        26.10469077759316
                                    ],
                                    "xaxis": "x",
                                    "y": [
                                        "215",
                                        "215"
                                    ],
                                    "yaxis": "y"
                                },
                                {
                                    "line": {
                                        "width": 2
                                    },
                                    "marker": {
                                        "color": "red",
                                        "size": 2
                                    },
                                    "mode": "lines",
                                    "name": "Airway resistance inferred",
                                    "showlegend": false,
                                    "type": "scatter",
                                    "x": [
                                        18.677522798867432,
                                        32.213343644578224
                                    ],
                                    "xaxis": "x",
                                    "y": [
                                        "495",
                                        "495"
                                    ],
                                    "yaxis": "y"
                                },
                                {
                                    "line": {
                                        "width": 2
                                    },
                                    "marker": {
                                        "color": "red",
                                        "size": 2
                                    },
                                    "mode": "lines",
                                    "name": "Airway resistance inferred",
                                    "showlegend": false,
                                    "type": "scatter",
                                    "x": [
                                        19.41275478545808,
                                        33.606389948032565
                                    ],
                                    "xaxis": "x",
                                    "y": [
                                        "240",
                                        "240"
                                    ],
                                    "yaxis": "y"
                                },
                                {
                                    "line": {
                                        "width": 2
                                    },
                                    "marker": {
                                        "color": "red",
                                        "size": 2
                                    },
                                    "mode": "lines",
                                    "name": "Airway resistance inferred",
                                    "showlegend": false,
                                    "type": "scatter",
                                    "x": [
                                        7.583224215199211,
                                        19.72664592542481
                                    ],
                                    "xaxis": "x",
                                    "y": [
                                        "535",
                                        "535"
                                    ],
                                    "yaxis": "y"
                                },
                                {
                                    "line": {
                                        "width": 2
                                    },
                                    "marker": {
                                        "color": "red",
                                        "size": 2
                                    },
                                    "mode": "lines",
                                    "name": "Airway resistance inferred",
                                    "showlegend": false,
                                    "type": "scatter",
                                    "x": [
                                        19.70449075040742,
                                        27.895700658636713
                                    ],
                                    "xaxis": "x",
                                    "y": [
                                        "221",
                                        "221"
                                    ],
                                    "yaxis": "y"
                                },
                                {
                                    "line": {
                                        "width": 2
                                    },
                                    "marker": {
                                        "color": "red",
                                        "size": 2
                                    },
                                    "mode": "lines",
                                    "name": "Airway resistance inferred",
                                    "showlegend": false,
                                    "type": "scatter",
                                    "x": [
                                        18.591571751802103,
                                        29.770081273877963
                                    ],
                                    "xaxis": "x",
                                    "y": [
                                        "294",
                                        "294"
                                    ],
                                    "yaxis": "y"
                                },
                                {
                                    "line": {
                                        "width": 2
                                    },
                                    "marker": {
                                        "color": "red",
                                        "size": 2
                                    },
                                    "mode": "lines",
                                    "name": "Airway resistance inferred",
                                    "showlegend": false,
                                    "type": "scatter",
                                    "x": [
                                        15.059719367318419,
                                        28.812225300959646
                                    ],
                                    "xaxis": "x",
                                    "y": [
                                        "109",
                                        "109"
                                    ],
                                    "yaxis": "y"
                                },
                                {
                                    "line": {
                                        "width": 2
                                    },
                                    "marker": {
                                        "color": "red",
                                        "size": 2
                                    },
                                    "mode": "lines",
                                    "name": "Airway resistance inferred",
                                    "showlegend": false,
                                    "type": "scatter",
                                    "x": [
                                        9.58066515460468,
                                        20.049562253106743
                                    ],
                                    "xaxis": "x",
                                    "y": [
                                        "263",
                                        "263"
                                    ],
                                    "yaxis": "y"
                                },
                                {
                                    "line": {
                                        "width": 2
                                    },
                                    "marker": {
                                        "color": "red",
                                        "size": 2
                                    },
                                    "mode": "lines",
                                    "name": "Airway resistance inferred",
                                    "showlegend": false,
                                    "type": "scatter",
                                    "x": [
                                        6.6960531969002,
                                        19.384670671268147
                                    ],
                                    "xaxis": "x",
                                    "y": [
                                        "351",
                                        "351"
                                    ],
                                    "yaxis": "y"
                                },
                                {
                                    "line": {
                                        "width": 2
                                    },
                                    "marker": {
                                        "color": "red",
                                        "size": 2
                                    },
                                    "mode": "lines",
                                    "name": "Airway resistance inferred",
                                    "showlegend": false,
                                    "type": "scatter",
                                    "x": [
                                        21.157622205204724,
                                        35.07907895376298
                                    ],
                                    "xaxis": "x",
                                    "y": [
                                        "180",
                                        "180"
                                    ],
                                    "yaxis": "y"
                                },
                                {
                                    "line": {
                                        "width": 2
                                    },
                                    "marker": {
                                        "color": "red",
                                        "size": 2
                                    },
                                    "mode": "lines",
                                    "name": "Airway resistance inferred",
                                    "showlegend": false,
                                    "type": "scatter",
                                    "x": [
                                        17.50927330607616,
                                        31.0204374685294
                                    ],
                                    "xaxis": "x",
                                    "y": [
                                        "504",
                                        "504"
                                    ],
                                    "yaxis": "y"
                                },
                                {
                                    "line": {
                                        "width": 2
                                    },
                                    "marker": {
                                        "color": "red",
                                        "size": 2
                                    },
                                    "mode": "lines",
                                    "name": "Airway resistance inferred",
                                    "showlegend": false,
                                    "type": "scatter",
                                    "x": [
                                        15.750277376556717,
                                        28.990420890611922
                                    ],
                                    "xaxis": "x",
                                    "y": [
                                        "176",
                                        "176"
                                    ],
                                    "yaxis": "y"
                                },
                                {
                                    "line": {
                                        "width": 2
                                    },
                                    "marker": {
                                        "color": "red",
                                        "size": 2
                                    },
                                    "mode": "lines",
                                    "name": "Airway resistance inferred",
                                    "showlegend": false,
                                    "type": "scatter",
                                    "x": [
                                        13.465089908455832,
                                        25.85371486505799
                                    ],
                                    "xaxis": "x",
                                    "y": [
                                        "231",
                                        "231"
                                    ],
                                    "yaxis": "y"
                                },
                                {
                                    "line": {
                                        "width": 2
                                    },
                                    "marker": {
                                        "color": "red",
                                        "size": 2
                                    },
                                    "mode": "lines",
                                    "name": "Airway resistance inferred",
                                    "showlegend": false,
                                    "type": "scatter",
                                    "x": [
                                        12.302713803651216,
                                        24.38666428909511
                                    ],
                                    "xaxis": "x",
                                    "y": [
                                        "197",
                                        "197"
                                    ],
                                    "yaxis": "y"
                                },
                                {
                                    "line": {
                                        "width": 2
                                    },
                                    "marker": {
                                        "color": "red",
                                        "size": 2
                                    },
                                    "mode": "lines",
                                    "name": "Airway resistance inferred",
                                    "showlegend": false,
                                    "type": "scatter",
                                    "x": [
                                        9.24408832354931,
                                        21.682015775068688
                                    ],
                                    "xaxis": "x",
                                    "y": [
                                        "303",
                                        "303"
                                    ],
                                    "yaxis": "y"
                                },
                                {
                                    "line": {
                                        "width": 2
                                    },
                                    "marker": {
                                        "color": "red",
                                        "size": 2
                                    },
                                    "mode": "lines",
                                    "name": "Airway resistance inferred",
                                    "showlegend": false,
                                    "type": "scatter",
                                    "x": [
                                        17.320717559210667,
                                        29.942345882671912
                                    ],
                                    "xaxis": "x",
                                    "y": [
                                        "115",
                                        "115"
                                    ],
                                    "yaxis": "y"
                                },
                                {
                                    "line": {
                                        "width": 2
                                    },
                                    "marker": {
                                        "color": "red",
                                        "size": 2
                                    },
                                    "mode": "lines",
                                    "name": "Airway resistance inferred",
                                    "showlegend": false,
                                    "type": "scatter",
                                    "x": [
                                        19.93843793815593,
                                        34.42022100806532
                                    ],
                                    "xaxis": "x",
                                    "y": [
                                        "287",
                                        "287"
                                    ],
                                    "yaxis": "y"
                                },
                                {
                                    "line": {
                                        "width": 2
                                    },
                                    "marker": {
                                        "color": "red",
                                        "size": 2
                                    },
                                    "mode": "lines",
                                    "name": "Airway resistance inferred",
                                    "showlegend": false,
                                    "type": "scatter",
                                    "x": [
                                        17.377690051099187,
                                        31.312844518254582
                                    ],
                                    "xaxis": "x",
                                    "y": [
                                        "406",
                                        "406"
                                    ],
                                    "yaxis": "y"
                                },
                                {
                                    "line": {
                                        "width": 2
                                    },
                                    "marker": {
                                        "color": "red",
                                        "size": 2
                                    },
                                    "mode": "lines",
                                    "name": "Airway resistance inferred",
                                    "showlegend": false,
                                    "type": "scatter",
                                    "x": [
                                        9.046975096538125,
                                        22.72638688810983
                                    ],
                                    "xaxis": "x",
                                    "y": [
                                        "314",
                                        "314"
                                    ],
                                    "yaxis": "y"
                                },
                                {
                                    "line": {
                                        "width": 2
                                    },
                                    "marker": {
                                        "color": "red",
                                        "size": 2
                                    },
                                    "mode": "lines",
                                    "name": "Airway resistance inferred",
                                    "showlegend": false,
                                    "type": "scatter",
                                    "x": [
                                        8.017321751607186,
                                        22.062072513802683
                                    ],
                                    "xaxis": "x",
                                    "y": [
                                        "412",
                                        "412"
                                    ],
                                    "yaxis": "y"
                                },
                                {
                                    "line": {
                                        "width": 2
                                    },
                                    "marker": {
                                        "color": "red",
                                        "size": 2
                                    },
                                    "mode": "lines",
                                    "name": "Airway resistance inferred",
                                    "showlegend": false,
                                    "type": "scatter",
                                    "x": [
                                        5.14674523910038,
                                        16.318372150475255
                                    ],
                                    "xaxis": "x",
                                    "y": [
                                        "237",
                                        "237"
                                    ],
                                    "yaxis": "y"
                                },
                                {
                                    "line": {
                                        "width": 2
                                    },
                                    "marker": {
                                        "color": "red",
                                        "size": 2
                                    },
                                    "mode": "lines",
                                    "name": "Airway resistance inferred",
                                    "showlegend": false,
                                    "type": "scatter",
                                    "x": [
                                        14.390211690682547,
                                        28.764222672813126
                                    ],
                                    "xaxis": "x",
                                    "y": [
                                        "199",
                                        "199"
                                    ],
                                    "yaxis": "y"
                                },
                                {
                                    "line": {
                                        "width": 2
                                    },
                                    "marker": {
                                        "color": "red",
                                        "size": 2
                                    },
                                    "mode": "lines",
                                    "name": "Airway resistance inferred",
                                    "showlegend": false,
                                    "type": "scatter",
                                    "x": [
                                        16.21500453798668,
                                        25.776179039850728
                                    ],
                                    "xaxis": "x",
                                    "y": [
                                        "193",
                                        "193"
                                    ],
                                    "yaxis": "y"
                                },
                                {
                                    "line": {
                                        "width": 2
                                    },
                                    "marker": {
                                        "color": "red",
                                        "size": 2
                                    },
                                    "mode": "lines",
                                    "name": "Airway resistance inferred",
                                    "showlegend": false,
                                    "type": "scatter",
                                    "x": [
                                        14.901374686053005,
                                        28.337596166047422
                                    ],
                                    "xaxis": "x",
                                    "y": [
                                        "280",
                                        "280"
                                    ],
                                    "yaxis": "y"
                                },
                                {
                                    "line": {
                                        "width": 2
                                    },
                                    "marker": {
                                        "color": "red",
                                        "size": 2
                                    },
                                    "mode": "lines",
                                    "name": "Airway resistance inferred",
                                    "showlegend": false,
                                    "type": "scatter",
                                    "x": [
                                        22.58171751075485,
                                        32.45496293786589
                                    ],
                                    "xaxis": "x",
                                    "y": [
                                        "174",
                                        "174"
                                    ],
                                    "yaxis": "y"
                                },
                                {
                                    "line": {
                                        "width": 2
                                    },
                                    "marker": {
                                        "color": "red",
                                        "size": 2
                                    },
                                    "mode": "lines",
                                    "name": "Airway resistance inferred",
                                    "showlegend": false,
                                    "type": "scatter",
                                    "x": [
                                        15.586099388325676,
                                        30.230117729341952
                                    ],
                                    "xaxis": "x",
                                    "y": [
                                        "204",
                                        "204"
                                    ],
                                    "yaxis": "y"
                                },
                                {
                                    "line": {
                                        "width": 2
                                    },
                                    "marker": {
                                        "color": "red",
                                        "size": 2
                                    },
                                    "mode": "lines",
                                    "name": "Airway resistance inferred",
                                    "showlegend": false,
                                    "type": "scatter",
                                    "x": [
                                        21.625209019474337,
                                        36.17618879913839
                                    ],
                                    "xaxis": "x",
                                    "y": [
                                        "491",
                                        "491"
                                    ],
                                    "yaxis": "y"
                                },
                                {
                                    "line": {
                                        "width": 2
                                    },
                                    "marker": {
                                        "color": "red",
                                        "size": 2
                                    },
                                    "mode": "lines",
                                    "name": "Airway resistance inferred",
                                    "showlegend": false,
                                    "type": "scatter",
                                    "x": [
                                        13.999727916874484,
                                        27.32836182851192
                                    ],
                                    "xaxis": "x",
                                    "y": [
                                        "537",
                                        "537"
                                    ],
                                    "yaxis": "y"
                                },
                                {
                                    "line": {
                                        "width": 2
                                    },
                                    "marker": {
                                        "color": "red",
                                        "size": 2
                                    },
                                    "mode": "lines",
                                    "name": "Airway resistance inferred",
                                    "showlegend": false,
                                    "type": "scatter",
                                    "x": [
                                        20.084490107674416,
                                        34.850101443827356
                                    ],
                                    "xaxis": "x",
                                    "y": [
                                        "383",
                                        "383"
                                    ],
                                    "yaxis": "y"
                                },
                                {
                                    "line": {
                                        "width": 2
                                    },
                                    "marker": {
                                        "color": "red",
                                        "size": 2
                                    },
                                    "mode": "lines",
                                    "name": "Airway resistance inferred",
                                    "showlegend": false,
                                    "type": "scatter",
                                    "x": [
                                        19.301238119116366,
                                        33.46776190770731
                                    ],
                                    "xaxis": "x",
                                    "y": [
                                        "485",
                                        "485"
                                    ],
                                    "yaxis": "y"
                                },
                                {
                                    "line": {
                                        "width": 2
                                    },
                                    "marker": {
                                        "color": "red",
                                        "size": 2
                                    },
                                    "mode": "lines",
                                    "name": "Airway resistance inferred",
                                    "showlegend": false,
                                    "type": "scatter",
                                    "x": [
                                        22.289401968955843,
                                        37.34453137768679
                                    ],
                                    "xaxis": "x",
                                    "y": [
                                        "243",
                                        "243"
                                    ],
                                    "yaxis": "y"
                                },
                                {
                                    "line": {
                                        "width": 2
                                    },
                                    "marker": {
                                        "color": "red",
                                        "size": 2
                                    },
                                    "mode": "lines",
                                    "name": "Airway resistance inferred",
                                    "showlegend": false,
                                    "type": "scatter",
                                    "x": [
                                        17.97650810295908,
                                        32.92715348976202
                                    ],
                                    "xaxis": "x",
                                    "y": [
                                        "275",
                                        "275"
                                    ],
                                    "yaxis": "y"
                                },
                                {
                                    "line": {
                                        "width": 2
                                    },
                                    "marker": {
                                        "color": "red",
                                        "size": 2
                                    },
                                    "mode": "lines",
                                    "name": "Airway resistance inferred",
                                    "showlegend": false,
                                    "type": "scatter",
                                    "x": [
                                        15.910050828901564,
                                        27.98102362201855
                                    ],
                                    "xaxis": "x",
                                    "y": [
                                        "172",
                                        "172"
                                    ],
                                    "yaxis": "y"
                                },
                                {
                                    "line": {
                                        "width": 2
                                    },
                                    "marker": {
                                        "color": "red",
                                        "size": 2
                                    },
                                    "mode": "lines",
                                    "name": "Airway resistance inferred",
                                    "showlegend": false,
                                    "type": "scatter",
                                    "x": [
                                        19.73510617241161,
                                        32.211908541276344
                                    ],
                                    "xaxis": "x",
                                    "y": [
                                        "271",
                                        "271"
                                    ],
                                    "yaxis": "y"
                                },
                                {
                                    "line": {
                                        "width": 2
                                    },
                                    "marker": {
                                        "color": "red",
                                        "size": 2
                                    },
                                    "mode": "lines",
                                    "name": "Airway resistance inferred",
                                    "showlegend": false,
                                    "type": "scatter",
                                    "x": [
                                        14.760802654917294,
                                        29.88349139263215
                                    ],
                                    "xaxis": "x",
                                    "y": [
                                        "339",
                                        "339"
                                    ],
                                    "yaxis": "y"
                                },
                                {
                                    "line": {
                                        "width": 2
                                    },
                                    "marker": {
                                        "color": "red",
                                        "size": 2
                                    },
                                    "mode": "lines",
                                    "name": "Airway resistance inferred",
                                    "showlegend": false,
                                    "type": "scatter",
                                    "x": [
                                        14.667603619955806,
                                        27.60554546076631
                                    ],
                                    "xaxis": "x",
                                    "y": [
                                        "164",
                                        "164"
                                    ],
                                    "yaxis": "y"
                                },
                                {
                                    "line": {
                                        "width": 2
                                    },
                                    "marker": {
                                        "color": "red",
                                        "size": 2
                                    },
                                    "mode": "lines",
                                    "name": "Airway resistance inferred",
                                    "showlegend": false,
                                    "type": "scatter",
                                    "x": [
                                        10.623378430538429,
                                        25.143290784914562
                                    ],
                                    "xaxis": "x",
                                    "y": [
                                        "151",
                                        "151"
                                    ],
                                    "yaxis": "y"
                                },
                                {
                                    "line": {
                                        "width": 2
                                    },
                                    "marker": {
                                        "color": "red",
                                        "size": 2
                                    },
                                    "mode": "lines",
                                    "name": "Airway resistance inferred",
                                    "showlegend": false,
                                    "type": "scatter",
                                    "x": [
                                        7.563462037239135,
                                        18.908520277697896
                                    ],
                                    "xaxis": "x",
                                    "y": [
                                        "186",
                                        "186"
                                    ],
                                    "yaxis": "y"
                                },
                                {
                                    "line": {
                                        "width": 2
                                    },
                                    "marker": {
                                        "color": "red",
                                        "size": 2
                                    },
                                    "mode": "lines",
                                    "name": "Airway resistance inferred",
                                    "showlegend": false,
                                    "type": "scatter",
                                    "x": [
                                        5.073707430337212,
                                        17.515800131048255
                                    ],
                                    "xaxis": "x",
                                    "y": [
                                        "301",
                                        "301"
                                    ],
                                    "yaxis": "y"
                                },
                                {
                                    "line": {
                                        "width": 2
                                    },
                                    "marker": {
                                        "color": "red",
                                        "size": 2
                                    },
                                    "mode": "lines",
                                    "name": "Airway resistance inferred",
                                    "showlegend": false,
                                    "type": "scatter",
                                    "x": [
                                        14.630080978035584,
                                        29.225159172631834
                                    ],
                                    "xaxis": "x",
                                    "y": [
                                        "251",
                                        "251"
                                    ],
                                    "yaxis": "y"
                                },
                                {
                                    "line": {
                                        "width": 2
                                    },
                                    "marker": {
                                        "color": "red",
                                        "size": 2
                                    },
                                    "mode": "lines",
                                    "name": "Airway resistance inferred",
                                    "showlegend": false,
                                    "type": "scatter",
                                    "x": [
                                        13.174349677178915,
                                        29.05883677032951
                                    ],
                                    "xaxis": "x",
                                    "y": [
                                        "481",
                                        "481"
                                    ],
                                    "yaxis": "y"
                                },
                                {
                                    "line": {
                                        "width": 2
                                    },
                                    "marker": {
                                        "color": "red",
                                        "size": 2
                                    },
                                    "mode": "lines",
                                    "name": "Airway resistance inferred",
                                    "showlegend": false,
                                    "type": "scatter",
                                    "x": [
                                        11.904960120504605,
                                        26.008636675873515
                                    ],
                                    "xaxis": "x",
                                    "y": [
                                        "261",
                                        "261"
                                    ],
                                    "yaxis": "y"
                                },
                                {
                                    "line": {
                                        "width": 2
                                    },
                                    "marker": {
                                        "color": "red",
                                        "size": 2
                                    },
                                    "mode": "lines",
                                    "name": "Airway resistance inferred",
                                    "showlegend": false,
                                    "type": "scatter",
                                    "x": [
                                        19.065369052024916,
                                        36.04673920984146
                                    ],
                                    "xaxis": "x",
                                    "y": [
                                        "430",
                                        "430"
                                    ],
                                    "yaxis": "y"
                                },
                                {
                                    "line": {
                                        "width": 2
                                    },
                                    "marker": {
                                        "color": "red",
                                        "size": 2
                                    },
                                    "mode": "lines",
                                    "name": "Airway resistance inferred",
                                    "showlegend": false,
                                    "type": "scatter",
                                    "x": [
                                        11.23869644758305,
                                        21.44343643445006
                                    ],
                                    "xaxis": "x",
                                    "y": [
                                        "371",
                                        "371"
                                    ],
                                    "yaxis": "y"
                                },
                                {
                                    "line": {
                                        "width": 2
                                    },
                                    "marker": {
                                        "color": "red",
                                        "size": 2
                                    },
                                    "mode": "lines",
                                    "name": "Airway resistance inferred",
                                    "showlegend": false,
                                    "type": "scatter",
                                    "x": [
                                        17.461263037994822,
                                        33.770081459900844
                                    ],
                                    "xaxis": "x",
                                    "y": [
                                        "295",
                                        "295"
                                    ],
                                    "yaxis": "y"
                                },
                                {
                                    "line": {
                                        "width": 2
                                    },
                                    "marker": {
                                        "color": "red",
                                        "size": 2
                                    },
                                    "mode": "lines",
                                    "name": "Airway resistance inferred",
                                    "showlegend": false,
                                    "type": "scatter",
                                    "x": [
                                        10.532663260781879,
                                        25.350492533383655
                                    ],
                                    "xaxis": "x",
                                    "y": [
                                        "515",
                                        "515"
                                    ],
                                    "yaxis": "y"
                                },
                                {
                                    "line": {
                                        "width": 2
                                    },
                                    "marker": {
                                        "color": "red",
                                        "size": 2
                                    },
                                    "mode": "lines",
                                    "name": "Airway resistance inferred",
                                    "showlegend": false,
                                    "type": "scatter",
                                    "x": [
                                        8.55754289978125,
                                        21.26731681974619
                                    ],
                                    "xaxis": "x",
                                    "y": [
                                        "464",
                                        "464"
                                    ],
                                    "yaxis": "y"
                                },
                                {
                                    "line": {
                                        "width": 2
                                    },
                                    "marker": {
                                        "color": "red",
                                        "size": 2
                                    },
                                    "mode": "lines",
                                    "name": "Airway resistance inferred",
                                    "showlegend": false,
                                    "type": "scatter",
                                    "x": [
                                        10.721851282595491,
                                        26.22277021784365
                                    ],
                                    "xaxis": "x",
                                    "y": [
                                        "212",
                                        "212"
                                    ],
                                    "yaxis": "y"
                                },
                                {
                                    "line": {
                                        "width": 2
                                    },
                                    "marker": {
                                        "color": "red",
                                        "size": 2
                                    },
                                    "mode": "lines",
                                    "name": "Airway resistance inferred",
                                    "showlegend": false,
                                    "type": "scatter",
                                    "x": [
                                        14.862516021970382,
                                        30.95664197011327
                                    ],
                                    "xaxis": "x",
                                    "y": [
                                        "389",
                                        "389"
                                    ],
                                    "yaxis": "y"
                                },
                                {
                                    "line": {
                                        "width": 2
                                    },
                                    "marker": {
                                        "color": "red",
                                        "size": 2
                                    },
                                    "mode": "lines",
                                    "name": "Airway resistance inferred",
                                    "showlegend": false,
                                    "type": "scatter",
                                    "x": [
                                        15.308626581809836,
                                        32.73983185867917
                                    ],
                                    "xaxis": "x",
                                    "y": [
                                        "229",
                                        "229"
                                    ],
                                    "yaxis": "y"
                                },
                                {
                                    "line": {
                                        "width": 2
                                    },
                                    "marker": {
                                        "color": "red",
                                        "size": 2
                                    },
                                    "mode": "lines",
                                    "name": "Airway resistance inferred",
                                    "showlegend": false,
                                    "type": "scatter",
                                    "x": [
                                        12.527457634133974,
                                        26.543621311660278
                                    ],
                                    "xaxis": "x",
                                    "y": [
                                        "265",
                                        "265"
                                    ],
                                    "yaxis": "y"
                                },
                                {
                                    "line": {
                                        "width": 2
                                    },
                                    "marker": {
                                        "color": "red",
                                        "size": 2
                                    },
                                    "mode": "lines",
                                    "name": "Airway resistance inferred",
                                    "showlegend": false,
                                    "type": "scatter",
                                    "x": [
                                        11.587387707632859,
                                        28.14765351767658
                                    ],
                                    "xaxis": "x",
                                    "y": [
                                        "380",
                                        "380"
                                    ],
                                    "yaxis": "y"
                                },
                                {
                                    "line": {
                                        "width": 2
                                    },
                                    "marker": {
                                        "color": "red",
                                        "size": 2
                                    },
                                    "mode": "lines",
                                    "name": "Airway resistance inferred",
                                    "showlegend": false,
                                    "type": "scatter",
                                    "x": [
                                        15.851068714995842,
                                        33.226160438308575
                                    ],
                                    "xaxis": "x",
                                    "y": [
                                        "521",
                                        "521"
                                    ],
                                    "yaxis": "y"
                                },
                                {
                                    "line": {
                                        "width": 2
                                    },
                                    "marker": {
                                        "color": "red",
                                        "size": 2
                                    },
                                    "mode": "lines",
                                    "name": "Airway resistance inferred",
                                    "showlegend": false,
                                    "type": "scatter",
                                    "x": [
                                        9.202599123836494,
                                        20.29469547304962
                                    ],
                                    "xaxis": "x",
                                    "y": [
                                        "278",
                                        "278"
                                    ],
                                    "yaxis": "y"
                                },
                                {
                                    "line": {
                                        "width": 2
                                    },
                                    "marker": {
                                        "color": "red",
                                        "size": 2
                                    },
                                    "mode": "lines",
                                    "name": "Airway resistance inferred",
                                    "showlegend": false,
                                    "type": "scatter",
                                    "x": [
                                        13.066809470282879,
                                        25.26100633384248
                                    ],
                                    "xaxis": "x",
                                    "y": [
                                        "210",
                                        "210"
                                    ],
                                    "yaxis": "y"
                                },
                                {
                                    "line": {
                                        "width": 2
                                    },
                                    "marker": {
                                        "color": "red",
                                        "size": 2
                                    },
                                    "mode": "lines",
                                    "name": "Airway resistance inferred",
                                    "showlegend": false,
                                    "type": "scatter",
                                    "x": [
                                        17.175445305571294,
                                        33.465039760484814
                                    ],
                                    "xaxis": "x",
                                    "y": [
                                        "433",
                                        "433"
                                    ],
                                    "yaxis": "y"
                                },
                                {
                                    "marker": {
                                        "color": "blue",
                                        "size": 3
                                    },
                                    "mode": "markers",
                                    "name": "1 - ecFEV1%Predicted",
                                    "type": "scatter",
                                    "x": [
                                        -9.669360636205855,
                                        -23.449175221381445,
                                        -18.1052047227924,
                                        -9.737344173087315,
                                        -16.851374041065817,
                                        -2.5242745957514843,
                                        -8.935443264975708,
                                        -11.305197014152755,
                                        -5.31784221069707,
                                        -7.509451960840655,
                                        9.611531394794147,
                                        -7.2042063991356375,
                                        -0.7907656717979786,
                                        -4.281063012312842,
                                        -5.218593288089259,
                                        5.371366878866663,
                                        -0.8301756843284493,
                                        5.906841773345589,
                                        3.487533715346662,
                                        13.290542530961883,
                                        4.495168099859542,
                                        20.670114886379483,
                                        5.2227994070485275,
                                        13.409971350849643,
                                        15.503997918393777,
                                        14.920792688717345,
                                        17.193794287092548,
                                        -0.35978173286786347,
                                        5.915662741997916,
                                        21.675643408458622,
                                        4.3402428895377065,
                                        3.544437229343287,
                                        2.6584723601640334,
                                        18.369715419289275,
                                        11.260947735980638,
                                        8.80452541370235,
                                        14.138815273473295,
                                        4.401123225203017,
                                        10.206186854954444,
                                        9.949730836136132,
                                        5.440335269474268,
                                        18.146661991280084,
                                        16.005661749184576,
                                        15.983894971494003,
                                        10.57865014388284,
                                        12.681806291053208,
                                        14.680518736915248,
                                        8.633422132941046,
                                        7.612082153860518,
                                        9.43431973305513,
                                        15.637122200291588,
                                        5.8679015877324705,
                                        7.677534615603317,
                                        12.091208697461605,
                                        6.976507186440455,
                                        20.51900766493346,
                                        17.199206844678635,
                                        7.25657285979757,
                                        17.173024818991617,
                                        15.099412087846352,
                                        25.032469537917947,
                                        10.738476105435746,
                                        10.369012443679601,
                                        11.656748862321884,
                                        11.170658244054335,
                                        13.572766032695887,
                                        24.04349087354758,
                                        28.181865768705837,
                                        15.644918171129241,
                                        13.636353423291716,
                                        23.828985894981315,
                                        20.939616515419043,
                                        22.71498066772354,
                                        13.671613054322972,
                                        10.112677511845032,
                                        11.8368764262999,
                                        19.471028940908848,
                                        14.203738503883013,
                                        18.383939684701794,
                                        24.880770268169712,
                                        26.115956915181936,
                                        13.289834736989857,
                                        23.477254716444584,
                                        24.03939805080445,
                                        21.890374504686502,
                                        14.804326863623322,
                                        13.279869267257746,
                                        28.49140310574071,
                                        24.836543572520757,
                                        23.238566084191785,
                                        20.73810425086052,
                                        19.702083347597107,
                                        17.489659329518553,
                                        26.040138770362844,
                                        29.760201688236226,
                                        27.01578017696185,
                                        18.691638965312276,
                                        17.868963786635312,
                                        13.68776077077552,
                                        24.544539160894985,
                                        24.288710020281027,
                                        24.986522260102607,
                                        31.026211253176367,
                                        26.579819241932075,
                                        32.68364284820714,
                                        24.515679962458602,
                                        31.35647983007059,
                                        30.351087693533145,
                                        34.31356281381099,
                                        30.11840939887178,
                                        26.616065716880165,
                                        31.019150917380294,
                                        27.739810757781687,
                                        26.637982874848316,
                                        23.453200128734295,
                                        19.143723286204487,
                                        17.728927877056414,
                                        29.05998719323274,
                                        28.360150068384566,
                                        26.489215482185266,
                                        35.13467390028593,
                                        24.457672218338065,
                                        35.038307190092986,
                                        28.323088945598293,
                                        25.32457974578226,
                                        29.02561678195536,
                                        33.953684544493,
                                        35.78167039863287,
                                        31.50111247182238,
                                        31.87536144127601,
                                        37.65759320692539,
                                        29.0933575893427,
                                        41.63944111826611,
                                        59.540534035454336
                                    ],
                                    "xaxis": "x",
                                    "y": [
                                        "113",
                                        "469",
                                        "370",
                                        "126",
                                        "281",
                                        "331",
                                        "250",
                                        "492",
                                        "513",
                                        "177",
                                        "530",
                                        "444",
                                        "230",
                                        "121",
                                        "512",
                                        "262",
                                        "244",
                                        "273",
                                        "302",
                                        "307",
                                        "178",
                                        "117",
                                        "182",
                                        "233",
                                        "420",
                                        "242",
                                        "134",
                                        "130",
                                        "255",
                                        "257",
                                        "297",
                                        "455",
                                        "144",
                                        "319",
                                        "299",
                                        "170",
                                        "141",
                                        "482",
                                        "490",
                                        "343",
                                        "190",
                                        "551",
                                        "480",
                                        "511",
                                        "467",
                                        "152",
                                        "163",
                                        "506",
                                        "123",
                                        "209",
                                        "276",
                                        "407",
                                        "239",
                                        "292",
                                        "443",
                                        "543",
                                        "532",
                                        "401",
                                        "544",
                                        "223",
                                        "171",
                                        "381",
                                        "296",
                                        "300",
                                        "427",
                                        "312",
                                        "315",
                                        "201",
                                        "290",
                                        "125",
                                        "124",
                                        "310",
                                        "447",
                                        "156",
                                        "553",
                                        "192",
                                        "352",
                                        "425",
                                        "215",
                                        "495",
                                        "240",
                                        "535",
                                        "221",
                                        "294",
                                        "109",
                                        "263",
                                        "351",
                                        "180",
                                        "504",
                                        "176",
                                        "231",
                                        "197",
                                        "303",
                                        "115",
                                        "287",
                                        "406",
                                        "314",
                                        "412",
                                        "237",
                                        "199",
                                        "193",
                                        "280",
                                        "174",
                                        "204",
                                        "491",
                                        "537",
                                        "383",
                                        "485",
                                        "243",
                                        "275",
                                        "172",
                                        "271",
                                        "339",
                                        "164",
                                        "151",
                                        "186",
                                        "301",
                                        "251",
                                        "481",
                                        "261",
                                        "430",
                                        "371",
                                        "295",
                                        "515",
                                        "464",
                                        "212",
                                        "389",
                                        "229",
                                        "265",
                                        "380",
                                        "521",
                                        "278",
                                        "210",
                                        "433"
                                    ],
                                    "yaxis": "y"
                                },
                                {
                                    "line": {
                                        "width": 2
                                    },
                                    "marker": {
                                        "color": "red",
                                        "size": 2
                                    },
                                    "mode": "lines",
                                    "name": "Airway resistance inferred",
                                    "showlegend": true,
                                    "type": "scatter",
                                    "x": [
                                        32.07622017923353,
                                        35.2736603370169
                                    ],
                                    "xaxis": "x2",
                                    "y": [
                                        "372",
                                        "372"
                                    ],
                                    "yaxis": "y2"
                                },
                                {
                                    "line": {
                                        "width": 2
                                    },
                                    "marker": {
                                        "color": "red",
                                        "size": 2
                                    },
                                    "mode": "lines",
                                    "name": "Airway resistance inferred",
                                    "showlegend": false,
                                    "type": "scatter",
                                    "x": [
                                        39.669715686809724,
                                        43.72999971031943
                                    ],
                                    "xaxis": "x2",
                                    "y": [
                                        "202",
                                        "202"
                                    ],
                                    "yaxis": "y2"
                                },
                                {
                                    "line": {
                                        "width": 2
                                    },
                                    "marker": {
                                        "color": "red",
                                        "size": 2
                                    },
                                    "mode": "lines",
                                    "name": "Airway resistance inferred",
                                    "showlegend": false,
                                    "type": "scatter",
                                    "x": [
                                        31.044799818533882,
                                        38.43399414688422
                                    ],
                                    "xaxis": "x2",
                                    "y": [
                                        "104",
                                        "104"
                                    ],
                                    "yaxis": "y2"
                                },
                                {
                                    "line": {
                                        "width": 2
                                    },
                                    "marker": {
                                        "color": "red",
                                        "size": 2
                                    },
                                    "mode": "lines",
                                    "name": "Airway resistance inferred",
                                    "showlegend": false,
                                    "type": "scatter",
                                    "x": [
                                        26.527634122416792,
                                        35.434212887269744
                                    ],
                                    "xaxis": "x2",
                                    "y": [
                                        "107",
                                        "107"
                                    ],
                                    "yaxis": "y2"
                                },
                                {
                                    "line": {
                                        "width": 2
                                    },
                                    "marker": {
                                        "color": "red",
                                        "size": 2
                                    },
                                    "mode": "lines",
                                    "name": "Airway resistance inferred",
                                    "showlegend": false,
                                    "type": "scatter",
                                    "x": [
                                        25.395534076657217,
                                        37.5035545017558
                                    ],
                                    "xaxis": "x2",
                                    "y": [
                                        "191",
                                        "191"
                                    ],
                                    "yaxis": "y2"
                                },
                                {
                                    "line": {
                                        "width": 2
                                    },
                                    "marker": {
                                        "color": "red",
                                        "size": 2
                                    },
                                    "mode": "lines",
                                    "name": "Airway resistance inferred",
                                    "showlegend": false,
                                    "type": "scatter",
                                    "x": [
                                        24.15497824488582,
                                        36.03529133023172
                                    ],
                                    "xaxis": "x2",
                                    "y": [
                                        "133",
                                        "133"
                                    ],
                                    "yaxis": "y2"
                                },
                                {
                                    "line": {
                                        "width": 2
                                    },
                                    "marker": {
                                        "color": "red",
                                        "size": 2
                                    },
                                    "mode": "lines",
                                    "name": "Airway resistance inferred",
                                    "showlegend": false,
                                    "type": "scatter",
                                    "x": [
                                        25.34316357532725,
                                        37.57207589827077
                                    ],
                                    "xaxis": "x2",
                                    "y": [
                                        "353",
                                        "353"
                                    ],
                                    "yaxis": "y2"
                                },
                                {
                                    "line": {
                                        "width": 2
                                    },
                                    "marker": {
                                        "color": "red",
                                        "size": 2
                                    },
                                    "mode": "lines",
                                    "name": "Airway resistance inferred",
                                    "showlegend": false,
                                    "type": "scatter",
                                    "x": [
                                        31.935681404180812,
                                        43.43419996239149
                                    ],
                                    "xaxis": "x2",
                                    "y": [
                                        "114",
                                        "114"
                                    ],
                                    "yaxis": "y2"
                                },
                                {
                                    "line": {
                                        "width": 2
                                    },
                                    "marker": {
                                        "color": "red",
                                        "size": 2
                                    },
                                    "mode": "lines",
                                    "name": "Airway resistance inferred",
                                    "showlegend": false,
                                    "type": "scatter",
                                    "x": [
                                        27.064790200125422,
                                        35.89038503545332
                                    ],
                                    "xaxis": "x2",
                                    "y": [
                                        "185",
                                        "185"
                                    ],
                                    "yaxis": "y2"
                                },
                                {
                                    "line": {
                                        "width": 2
                                    },
                                    "marker": {
                                        "color": "red",
                                        "size": 2
                                    },
                                    "mode": "lines",
                                    "name": "Airway resistance inferred",
                                    "showlegend": false,
                                    "type": "scatter",
                                    "x": [
                                        29.92003981198468,
                                        42.0697630387376
                                    ],
                                    "xaxis": "x2",
                                    "y": [
                                        "432",
                                        "432"
                                    ],
                                    "yaxis": "y2"
                                },
                                {
                                    "line": {
                                        "width": 2
                                    },
                                    "marker": {
                                        "color": "red",
                                        "size": 2
                                    },
                                    "mode": "lines",
                                    "name": "Airway resistance inferred",
                                    "showlegend": false,
                                    "type": "scatter",
                                    "x": [
                                        24.12539857643448,
                                        37.37319273259361
                                    ],
                                    "xaxis": "x2",
                                    "y": [
                                        "317",
                                        "317"
                                    ],
                                    "yaxis": "y2"
                                },
                                {
                                    "line": {
                                        "width": 2
                                    },
                                    "marker": {
                                        "color": "red",
                                        "size": 2
                                    },
                                    "mode": "lines",
                                    "name": "Airway resistance inferred",
                                    "showlegend": false,
                                    "type": "scatter",
                                    "x": [
                                        30.222600268102482,
                                        43.512560801993885
                                    ],
                                    "xaxis": "x2",
                                    "y": [
                                        "493",
                                        "493"
                                    ],
                                    "yaxis": "y2"
                                },
                                {
                                    "line": {
                                        "width": 2
                                    },
                                    "marker": {
                                        "color": "red",
                                        "size": 2
                                    },
                                    "mode": "lines",
                                    "name": "Airway resistance inferred",
                                    "showlegend": false,
                                    "type": "scatter",
                                    "x": [
                                        25.33220783485613,
                                        37.260141933823114
                                    ],
                                    "xaxis": "x2",
                                    "y": [
                                        "254",
                                        "254"
                                    ],
                                    "yaxis": "y2"
                                },
                                {
                                    "line": {
                                        "width": 2
                                    },
                                    "marker": {
                                        "color": "red",
                                        "size": 2
                                    },
                                    "mode": "lines",
                                    "name": "Airway resistance inferred",
                                    "showlegend": false,
                                    "type": "scatter",
                                    "x": [
                                        33.909834919800645,
                                        44.72620189315941
                                    ],
                                    "xaxis": "x2",
                                    "y": [
                                        "395",
                                        "395"
                                    ],
                                    "yaxis": "y2"
                                },
                                {
                                    "line": {
                                        "width": 2
                                    },
                                    "marker": {
                                        "color": "red",
                                        "size": 2
                                    },
                                    "mode": "lines",
                                    "name": "Airway resistance inferred",
                                    "showlegend": false,
                                    "type": "scatter",
                                    "x": [
                                        26.04238304503799,
                                        38.46272431646569
                                    ],
                                    "xaxis": "x2",
                                    "y": [
                                        "205",
                                        "205"
                                    ],
                                    "yaxis": "y2"
                                },
                                {
                                    "line": {
                                        "width": 2
                                    },
                                    "marker": {
                                        "color": "red",
                                        "size": 2
                                    },
                                    "mode": "lines",
                                    "name": "Airway resistance inferred",
                                    "showlegend": false,
                                    "type": "scatter",
                                    "x": [
                                        35.12525286339509,
                                        46.76470374612428
                                    ],
                                    "xaxis": "x2",
                                    "y": [
                                        "252",
                                        "252"
                                    ],
                                    "yaxis": "y2"
                                },
                                {
                                    "line": {
                                        "width": 2
                                    },
                                    "marker": {
                                        "color": "red",
                                        "size": 2
                                    },
                                    "mode": "lines",
                                    "name": "Airway resistance inferred",
                                    "showlegend": false,
                                    "type": "scatter",
                                    "x": [
                                        39.75128760677066,
                                        51.53824201804591
                                    ],
                                    "xaxis": "x2",
                                    "y": [
                                        "159",
                                        "159"
                                    ],
                                    "yaxis": "y2"
                                },
                                {
                                    "line": {
                                        "width": 2
                                    },
                                    "marker": {
                                        "color": "red",
                                        "size": 2
                                    },
                                    "mode": "lines",
                                    "name": "Airway resistance inferred",
                                    "showlegend": false,
                                    "type": "scatter",
                                    "x": [
                                        29.484269453862858,
                                        43.08896796461493
                                    ],
                                    "xaxis": "x2",
                                    "y": [
                                        "509",
                                        "509"
                                    ],
                                    "yaxis": "y2"
                                },
                                {
                                    "line": {
                                        "width": 2
                                    },
                                    "marker": {
                                        "color": "red",
                                        "size": 2
                                    },
                                    "mode": "lines",
                                    "name": "Airway resistance inferred",
                                    "showlegend": false,
                                    "type": "scatter",
                                    "x": [
                                        25.971588010646578,
                                        39.43423614488089
                                    ],
                                    "xaxis": "x2",
                                    "y": [
                                        "116",
                                        "116"
                                    ],
                                    "yaxis": "y2"
                                },
                                {
                                    "line": {
                                        "width": 2
                                    },
                                    "marker": {
                                        "color": "red",
                                        "size": 2
                                    },
                                    "mode": "lines",
                                    "name": "Airway resistance inferred",
                                    "showlegend": false,
                                    "type": "scatter",
                                    "x": [
                                        41.97797710710889,
                                        53.60755319109998
                                    ],
                                    "xaxis": "x2",
                                    "y": [
                                        "103",
                                        "103"
                                    ],
                                    "yaxis": "y2"
                                },
                                {
                                    "line": {
                                        "width": 2
                                    },
                                    "marker": {
                                        "color": "red",
                                        "size": 2
                                    },
                                    "mode": "lines",
                                    "name": "Airway resistance inferred",
                                    "showlegend": false,
                                    "type": "scatter",
                                    "x": [
                                        34.84292112707523,
                                        47.358609318459585
                                    ],
                                    "xaxis": "x2",
                                    "y": [
                                        "224",
                                        "224"
                                    ],
                                    "yaxis": "y2"
                                },
                                {
                                    "line": {
                                        "width": 2
                                    },
                                    "marker": {
                                        "color": "red",
                                        "size": 2
                                    },
                                    "mode": "lines",
                                    "name": "Airway resistance inferred",
                                    "showlegend": false,
                                    "type": "scatter",
                                    "x": [
                                        41.16862416808318,
                                        47.82676035904532
                                    ],
                                    "xaxis": "x2",
                                    "y": [
                                        "523",
                                        "523"
                                    ],
                                    "yaxis": "y2"
                                },
                                {
                                    "line": {
                                        "width": 2
                                    },
                                    "marker": {
                                        "color": "red",
                                        "size": 2
                                    },
                                    "mode": "lines",
                                    "name": "Airway resistance inferred",
                                    "showlegend": false,
                                    "type": "scatter",
                                    "x": [
                                        27.378192346928373,
                                        40.41673320099441
                                    ],
                                    "xaxis": "x2",
                                    "y": [
                                        "146",
                                        "146"
                                    ],
                                    "yaxis": "y2"
                                },
                                {
                                    "line": {
                                        "width": 2
                                    },
                                    "marker": {
                                        "color": "red",
                                        "size": 2
                                    },
                                    "mode": "lines",
                                    "name": "Airway resistance inferred",
                                    "showlegend": false,
                                    "type": "scatter",
                                    "x": [
                                        35.08351208375401,
                                        47.93734977858081
                                    ],
                                    "xaxis": "x2",
                                    "y": [
                                        "405",
                                        "405"
                                    ],
                                    "yaxis": "y2"
                                },
                                {
                                    "line": {
                                        "width": 2
                                    },
                                    "marker": {
                                        "color": "red",
                                        "size": 2
                                    },
                                    "mode": "lines",
                                    "name": "Airway resistance inferred",
                                    "showlegend": false,
                                    "type": "scatter",
                                    "x": [
                                        32.743252764920726,
                                        45.4469218526335
                                    ],
                                    "xaxis": "x2",
                                    "y": [
                                        "220",
                                        "220"
                                    ],
                                    "yaxis": "y2"
                                },
                                {
                                    "line": {
                                        "width": 2
                                    },
                                    "marker": {
                                        "color": "red",
                                        "size": 2
                                    },
                                    "mode": "lines",
                                    "name": "Airway resistance inferred",
                                    "showlegend": false,
                                    "type": "scatter",
                                    "x": [
                                        49.272083741364646,
                                        60.41869461464209
                                    ],
                                    "xaxis": "x2",
                                    "y": [
                                        "198",
                                        "198"
                                    ],
                                    "yaxis": "y2"
                                },
                                {
                                    "line": {
                                        "width": 2
                                    },
                                    "marker": {
                                        "color": "red",
                                        "size": 2
                                    },
                                    "mode": "lines",
                                    "name": "Airway resistance inferred",
                                    "showlegend": false,
                                    "type": "scatter",
                                    "x": [
                                        24.832824605228513,
                                        38.283943871913806
                                    ],
                                    "xaxis": "x2",
                                    "y": [
                                        "188",
                                        "188"
                                    ],
                                    "yaxis": "y2"
                                },
                                {
                                    "line": {
                                        "width": 2
                                    },
                                    "marker": {
                                        "color": "red",
                                        "size": 2
                                    },
                                    "mode": "lines",
                                    "name": "Airway resistance inferred",
                                    "showlegend": false,
                                    "type": "scatter",
                                    "x": [
                                        32.998465605790294,
                                        46.20654753315338
                                    ],
                                    "xaxis": "x2",
                                    "y": [
                                        "424",
                                        "424"
                                    ],
                                    "yaxis": "y2"
                                },
                                {
                                    "line": {
                                        "width": 2
                                    },
                                    "marker": {
                                        "color": "red",
                                        "size": 2
                                    },
                                    "mode": "lines",
                                    "name": "Airway resistance inferred",
                                    "showlegend": false,
                                    "type": "scatter",
                                    "x": [
                                        29.941206252841525,
                                        43.31125334416197
                                    ],
                                    "xaxis": "x2",
                                    "y": [
                                        "500",
                                        "500"
                                    ],
                                    "yaxis": "y2"
                                },
                                {
                                    "line": {
                                        "width": 2
                                    },
                                    "marker": {
                                        "color": "red",
                                        "size": 2
                                    },
                                    "mode": "lines",
                                    "name": "Airway resistance inferred",
                                    "showlegend": false,
                                    "type": "scatter",
                                    "x": [
                                        25.87573969051905,
                                        36.61966852383367
                                    ],
                                    "xaxis": "x2",
                                    "y": [
                                        "196",
                                        "196"
                                    ],
                                    "yaxis": "y2"
                                },
                                {
                                    "line": {
                                        "width": 2
                                    },
                                    "marker": {
                                        "color": "red",
                                        "size": 2
                                    },
                                    "mode": "lines",
                                    "name": "Airway resistance inferred",
                                    "showlegend": false,
                                    "type": "scatter",
                                    "x": [
                                        31.590497434528476,
                                        43.51204724125038
                                    ],
                                    "xaxis": "x2",
                                    "y": [
                                        "145",
                                        "145"
                                    ],
                                    "yaxis": "y2"
                                },
                                {
                                    "line": {
                                        "width": 2
                                    },
                                    "marker": {
                                        "color": "red",
                                        "size": 2
                                    },
                                    "mode": "lines",
                                    "name": "Airway resistance inferred",
                                    "showlegend": false,
                                    "type": "scatter",
                                    "x": [
                                        48.56293474025884,
                                        59.57364902732537
                                    ],
                                    "xaxis": "x2",
                                    "y": [
                                        "387",
                                        "387"
                                    ],
                                    "yaxis": "y2"
                                },
                                {
                                    "line": {
                                        "width": 2
                                    },
                                    "marker": {
                                        "color": "red",
                                        "size": 2
                                    },
                                    "mode": "lines",
                                    "name": "Airway resistance inferred",
                                    "showlegend": false,
                                    "type": "scatter",
                                    "x": [
                                        25.516469444812216,
                                        39.06052246713641
                                    ],
                                    "xaxis": "x2",
                                    "y": [
                                        "139",
                                        "139"
                                    ],
                                    "yaxis": "y2"
                                },
                                {
                                    "line": {
                                        "width": 2
                                    },
                                    "marker": {
                                        "color": "red",
                                        "size": 2
                                    },
                                    "mode": "lines",
                                    "name": "Airway resistance inferred",
                                    "showlegend": false,
                                    "type": "scatter",
                                    "x": [
                                        25.626482036208536,
                                        38.37919762108359
                                    ],
                                    "xaxis": "x2",
                                    "y": [
                                        "284",
                                        "284"
                                    ],
                                    "yaxis": "y2"
                                },
                                {
                                    "line": {
                                        "width": 2
                                    },
                                    "marker": {
                                        "color": "red",
                                        "size": 2
                                    },
                                    "mode": "lines",
                                    "name": "Airway resistance inferred",
                                    "showlegend": false,
                                    "type": "scatter",
                                    "x": [
                                        48.78919377110726,
                                        59.03166760393789
                                    ],
                                    "xaxis": "x2",
                                    "y": [
                                        "128",
                                        "128"
                                    ],
                                    "yaxis": "y2"
                                },
                                {
                                    "line": {
                                        "width": 2
                                    },
                                    "marker": {
                                        "color": "red",
                                        "size": 2
                                    },
                                    "mode": "lines",
                                    "name": "Airway resistance inferred",
                                    "showlegend": false,
                                    "type": "scatter",
                                    "x": [
                                        23.64373971592226,
                                        36.438750658480124
                                    ],
                                    "xaxis": "x2",
                                    "y": [
                                        "245",
                                        "245"
                                    ],
                                    "yaxis": "y2"
                                },
                                {
                                    "line": {
                                        "width": 2
                                    },
                                    "marker": {
                                        "color": "red",
                                        "size": 2
                                    },
                                    "mode": "lines",
                                    "name": "Airway resistance inferred",
                                    "showlegend": false,
                                    "type": "scatter",
                                    "x": [
                                        49.11464827706397,
                                        60.34409587367552
                                    ],
                                    "xaxis": "x2",
                                    "y": [
                                        "142",
                                        "142"
                                    ],
                                    "yaxis": "y2"
                                },
                                {
                                    "line": {
                                        "width": 2
                                    },
                                    "marker": {
                                        "color": "red",
                                        "size": 2
                                    },
                                    "mode": "lines",
                                    "name": "Airway resistance inferred",
                                    "showlegend": false,
                                    "type": "scatter",
                                    "x": [
                                        44.568264125885314,
                                        56.444198258515364
                                    ],
                                    "xaxis": "x2",
                                    "y": [
                                        "143",
                                        "143"
                                    ],
                                    "yaxis": "y2"
                                },
                                {
                                    "line": {
                                        "width": 2
                                    },
                                    "marker": {
                                        "color": "red",
                                        "size": 2
                                    },
                                    "mode": "lines",
                                    "name": "Airway resistance inferred",
                                    "showlegend": false,
                                    "type": "scatter",
                                    "x": [
                                        44.94471263598147,
                                        56.97765970474711
                                    ],
                                    "xaxis": "x2",
                                    "y": [
                                        "309",
                                        "309"
                                    ],
                                    "yaxis": "y2"
                                },
                                {
                                    "line": {
                                        "width": 2
                                    },
                                    "marker": {
                                        "color": "red",
                                        "size": 2
                                    },
                                    "mode": "lines",
                                    "name": "Airway resistance inferred",
                                    "showlegend": false,
                                    "type": "scatter",
                                    "x": [
                                        31.173729626543995,
                                        43.80029129679273
                                    ],
                                    "xaxis": "x2",
                                    "y": [
                                        "203",
                                        "203"
                                    ],
                                    "yaxis": "y2"
                                },
                                {
                                    "line": {
                                        "width": 2
                                    },
                                    "marker": {
                                        "color": "red",
                                        "size": 2
                                    },
                                    "mode": "lines",
                                    "name": "Airway resistance inferred",
                                    "showlegend": false,
                                    "type": "scatter",
                                    "x": [
                                        34.63129190354318,
                                        47.722546312743624
                                    ],
                                    "xaxis": "x2",
                                    "y": [
                                        "138",
                                        "138"
                                    ],
                                    "yaxis": "y2"
                                },
                                {
                                    "line": {
                                        "width": 2
                                    },
                                    "marker": {
                                        "color": "red",
                                        "size": 2
                                    },
                                    "mode": "lines",
                                    "name": "Airway resistance inferred",
                                    "showlegend": false,
                                    "type": "scatter",
                                    "x": [
                                        29.814748130244773,
                                        44.3623166170591
                                    ],
                                    "xaxis": "x2",
                                    "y": [
                                        "272",
                                        "272"
                                    ],
                                    "yaxis": "y2"
                                },
                                {
                                    "line": {
                                        "width": 2
                                    },
                                    "marker": {
                                        "color": "red",
                                        "size": 2
                                    },
                                    "mode": "lines",
                                    "name": "Airway resistance inferred",
                                    "showlegend": false,
                                    "type": "scatter",
                                    "x": [
                                        50.022152329074004,
                                        61.258772601486214
                                    ],
                                    "xaxis": "x2",
                                    "y": [
                                        "419",
                                        "419"
                                    ],
                                    "yaxis": "y2"
                                },
                                {
                                    "line": {
                                        "width": 2
                                    },
                                    "marker": {
                                        "color": "red",
                                        "size": 2
                                    },
                                    "mode": "lines",
                                    "name": "Airway resistance inferred",
                                    "showlegend": false,
                                    "type": "scatter",
                                    "x": [
                                        48.79667868810579,
                                        59.99544260988065
                                    ],
                                    "xaxis": "x2",
                                    "y": [
                                        "334",
                                        "334"
                                    ],
                                    "yaxis": "y2"
                                },
                                {
                                    "line": {
                                        "width": 2
                                    },
                                    "marker": {
                                        "color": "red",
                                        "size": 2
                                    },
                                    "mode": "lines",
                                    "name": "Airway resistance inferred",
                                    "showlegend": false,
                                    "type": "scatter",
                                    "x": [
                                        24.579716539264176,
                                        37.88306528954424
                                    ],
                                    "xaxis": "x2",
                                    "y": [
                                        "453",
                                        "453"
                                    ],
                                    "yaxis": "y2"
                                },
                                {
                                    "line": {
                                        "width": 2
                                    },
                                    "marker": {
                                        "color": "red",
                                        "size": 2
                                    },
                                    "mode": "lines",
                                    "name": "Airway resistance inferred",
                                    "showlegend": false,
                                    "type": "scatter",
                                    "x": [
                                        26.0840835412297,
                                        40.32352758228272
                                    ],
                                    "xaxis": "x2",
                                    "y": [
                                        "525",
                                        "525"
                                    ],
                                    "yaxis": "y2"
                                },
                                {
                                    "line": {
                                        "width": 2
                                    },
                                    "marker": {
                                        "color": "red",
                                        "size": 2
                                    },
                                    "mode": "lines",
                                    "name": "Airway resistance inferred",
                                    "showlegend": false,
                                    "type": "scatter",
                                    "x": [
                                        28.67539166860832,
                                        41.63342394017745
                                    ],
                                    "xaxis": "x2",
                                    "y": [
                                        "165",
                                        "165"
                                    ],
                                    "yaxis": "y2"
                                },
                                {
                                    "line": {
                                        "width": 2
                                    },
                                    "marker": {
                                        "color": "red",
                                        "size": 2
                                    },
                                    "mode": "lines",
                                    "name": "Airway resistance inferred",
                                    "showlegend": false,
                                    "type": "scatter",
                                    "x": [
                                        37.56999000816846,
                                        49.87112956539488
                                    ],
                                    "xaxis": "x2",
                                    "y": [
                                        "483",
                                        "483"
                                    ],
                                    "yaxis": "y2"
                                },
                                {
                                    "line": {
                                        "width": 2
                                    },
                                    "marker": {
                                        "color": "red",
                                        "size": 2
                                    },
                                    "mode": "lines",
                                    "name": "Airway resistance inferred",
                                    "showlegend": false,
                                    "type": "scatter",
                                    "x": [
                                        41.7140196147759,
                                        53.72695425531995
                                    ],
                                    "xaxis": "x2",
                                    "y": [
                                        "150",
                                        "150"
                                    ],
                                    "yaxis": "y2"
                                },
                                {
                                    "line": {
                                        "width": 2
                                    },
                                    "marker": {
                                        "color": "red",
                                        "size": 2
                                    },
                                    "mode": "lines",
                                    "name": "Airway resistance inferred",
                                    "showlegend": false,
                                    "type": "scatter",
                                    "x": [
                                        34.91992706114687,
                                        48.16407574748024
                                    ],
                                    "xaxis": "x2",
                                    "y": [
                                        "181",
                                        "181"
                                    ],
                                    "yaxis": "y2"
                                },
                                {
                                    "line": {
                                        "width": 2
                                    },
                                    "marker": {
                                        "color": "red",
                                        "size": 2
                                    },
                                    "mode": "lines",
                                    "name": "Airway resistance inferred",
                                    "showlegend": false,
                                    "type": "scatter",
                                    "x": [
                                        35.56278025408501,
                                        49.21484053351005
                                    ],
                                    "xaxis": "x2",
                                    "y": [
                                        "408",
                                        "408"
                                    ],
                                    "yaxis": "y2"
                                },
                                {
                                    "line": {
                                        "width": 2
                                    },
                                    "marker": {
                                        "color": "red",
                                        "size": 2
                                    },
                                    "mode": "lines",
                                    "name": "Airway resistance inferred",
                                    "showlegend": false,
                                    "type": "scatter",
                                    "x": [
                                        50.94555064749251,
                                        61.86300129783147
                                    ],
                                    "xaxis": "x2",
                                    "y": [
                                        "140",
                                        "140"
                                    ],
                                    "yaxis": "y2"
                                },
                                {
                                    "line": {
                                        "width": 2
                                    },
                                    "marker": {
                                        "color": "red",
                                        "size": 2
                                    },
                                    "mode": "lines",
                                    "name": "Airway resistance inferred",
                                    "showlegend": false,
                                    "type": "scatter",
                                    "x": [
                                        33.64458407323944,
                                        45.59392928573394
                                    ],
                                    "xaxis": "x2",
                                    "y": [
                                        "169",
                                        "169"
                                    ],
                                    "yaxis": "y2"
                                },
                                {
                                    "line": {
                                        "width": 2
                                    },
                                    "marker": {
                                        "color": "red",
                                        "size": 2
                                    },
                                    "mode": "lines",
                                    "name": "Airway resistance inferred",
                                    "showlegend": false,
                                    "type": "scatter",
                                    "x": [
                                        45.83102082917485,
                                        58.04099570758812
                                    ],
                                    "xaxis": "x2",
                                    "y": [
                                        "440",
                                        "440"
                                    ],
                                    "yaxis": "y2"
                                },
                                {
                                    "line": {
                                        "width": 2
                                    },
                                    "marker": {
                                        "color": "red",
                                        "size": 2
                                    },
                                    "mode": "lines",
                                    "name": "Airway resistance inferred",
                                    "showlegend": false,
                                    "type": "scatter",
                                    "x": [
                                        26.32685931726579,
                                        39.58258590622579
                                    ],
                                    "xaxis": "x2",
                                    "y": [
                                        "131",
                                        "131"
                                    ],
                                    "yaxis": "y2"
                                },
                                {
                                    "line": {
                                        "width": 2
                                    },
                                    "marker": {
                                        "color": "red",
                                        "size": 2
                                    },
                                    "mode": "lines",
                                    "name": "Airway resistance inferred",
                                    "showlegend": false,
                                    "type": "scatter",
                                    "x": [
                                        44.16033914113832,
                                        54.12839944109352
                                    ],
                                    "xaxis": "x2",
                                    "y": [
                                        "135",
                                        "135"
                                    ],
                                    "yaxis": "y2"
                                },
                                {
                                    "line": {
                                        "width": 2
                                    },
                                    "marker": {
                                        "color": "red",
                                        "size": 2
                                    },
                                    "mode": "lines",
                                    "name": "Airway resistance inferred",
                                    "showlegend": false,
                                    "type": "scatter",
                                    "x": [
                                        27.856019287876993,
                                        40.785494928471984
                                    ],
                                    "xaxis": "x2",
                                    "y": [
                                        "279",
                                        "279"
                                    ],
                                    "yaxis": "y2"
                                },
                                {
                                    "line": {
                                        "width": 2
                                    },
                                    "marker": {
                                        "color": "red",
                                        "size": 2
                                    },
                                    "mode": "lines",
                                    "name": "Airway resistance inferred",
                                    "showlegend": false,
                                    "type": "scatter",
                                    "x": [
                                        32.37618224262929,
                                        44.287435170746114
                                    ],
                                    "xaxis": "x2",
                                    "y": [
                                        "108",
                                        "108"
                                    ],
                                    "yaxis": "y2"
                                },
                                {
                                    "line": {
                                        "width": 2
                                    },
                                    "marker": {
                                        "color": "red",
                                        "size": 2
                                    },
                                    "mode": "lines",
                                    "name": "Airway resistance inferred",
                                    "showlegend": false,
                                    "type": "scatter",
                                    "x": [
                                        49.116348754966445,
                                        60.50601638590125
                                    ],
                                    "xaxis": "x2",
                                    "y": [
                                        "149",
                                        "149"
                                    ],
                                    "yaxis": "y2"
                                },
                                {
                                    "line": {
                                        "width": 2
                                    },
                                    "marker": {
                                        "color": "red",
                                        "size": 2
                                    },
                                    "mode": "lines",
                                    "name": "Airway resistance inferred",
                                    "showlegend": false,
                                    "type": "scatter",
                                    "x": [
                                        43.917894939941355,
                                        57.91150388065127
                                    ],
                                    "xaxis": "x2",
                                    "y": [
                                        "238",
                                        "238"
                                    ],
                                    "yaxis": "y2"
                                },
                                {
                                    "line": {
                                        "width": 2
                                    },
                                    "marker": {
                                        "color": "red",
                                        "size": 2
                                    },
                                    "mode": "lines",
                                    "name": "Airway resistance inferred",
                                    "showlegend": false,
                                    "type": "scatter",
                                    "x": [
                                        27.538405906420984,
                                        40.89888234051929
                                    ],
                                    "xaxis": "x2",
                                    "y": [
                                        "173",
                                        "173"
                                    ],
                                    "yaxis": "y2"
                                },
                                {
                                    "line": {
                                        "width": 2
                                    },
                                    "marker": {
                                        "color": "red",
                                        "size": 2
                                    },
                                    "mode": "lines",
                                    "name": "Airway resistance inferred",
                                    "showlegend": false,
                                    "type": "scatter",
                                    "x": [
                                        49.205013449414594,
                                        60.89328665060146
                                    ],
                                    "xaxis": "x2",
                                    "y": [
                                        "264",
                                        "264"
                                    ],
                                    "yaxis": "y2"
                                },
                                {
                                    "line": {
                                        "width": 2
                                    },
                                    "marker": {
                                        "color": "red",
                                        "size": 2
                                    },
                                    "mode": "lines",
                                    "name": "Airway resistance inferred",
                                    "showlegend": false,
                                    "type": "scatter",
                                    "x": [
                                        50.3618322137842,
                                        61.7259411860465
                                    ],
                                    "xaxis": "x2",
                                    "y": [
                                        "298",
                                        "298"
                                    ],
                                    "yaxis": "y2"
                                },
                                {
                                    "line": {
                                        "width": 2
                                    },
                                    "marker": {
                                        "color": "red",
                                        "size": 2
                                    },
                                    "mode": "lines",
                                    "name": "Airway resistance inferred",
                                    "showlegend": false,
                                    "type": "scatter",
                                    "x": [
                                        41.05782441210934,
                                        54.438472160832916
                                    ],
                                    "xaxis": "x2",
                                    "y": [
                                        "179",
                                        "179"
                                    ],
                                    "yaxis": "y2"
                                },
                                {
                                    "line": {
                                        "width": 2
                                    },
                                    "marker": {
                                        "color": "red",
                                        "size": 2
                                    },
                                    "mode": "lines",
                                    "name": "Airway resistance inferred",
                                    "showlegend": false,
                                    "type": "scatter",
                                    "x": [
                                        46.37224033312934,
                                        59.05663376473131
                                    ],
                                    "xaxis": "x2",
                                    "y": [
                                        "184",
                                        "184"
                                    ],
                                    "yaxis": "y2"
                                },
                                {
                                    "line": {
                                        "width": 2
                                    },
                                    "marker": {
                                        "color": "red",
                                        "size": 2
                                    },
                                    "mode": "lines",
                                    "name": "Airway resistance inferred",
                                    "showlegend": false,
                                    "type": "scatter",
                                    "x": [
                                        43.20346721069797,
                                        57.63090811954204
                                    ],
                                    "xaxis": "x2",
                                    "y": [
                                        "336",
                                        "336"
                                    ],
                                    "yaxis": "y2"
                                },
                                {
                                    "line": {
                                        "width": 2
                                    },
                                    "marker": {
                                        "color": "red",
                                        "size": 2
                                    },
                                    "mode": "lines",
                                    "name": "Airway resistance inferred",
                                    "showlegend": false,
                                    "type": "scatter",
                                    "x": [
                                        47.48654015932472,
                                        58.76247791786583
                                    ],
                                    "xaxis": "x2",
                                    "y": [
                                        "158",
                                        "158"
                                    ],
                                    "yaxis": "y2"
                                },
                                {
                                    "line": {
                                        "width": 2
                                    },
                                    "marker": {
                                        "color": "red",
                                        "size": 2
                                    },
                                    "mode": "lines",
                                    "name": "Airway resistance inferred",
                                    "showlegend": false,
                                    "type": "scatter",
                                    "x": [
                                        33.66635505334573,
                                        46.220421669857714
                                    ],
                                    "xaxis": "x2",
                                    "y": [
                                        "416",
                                        "416"
                                    ],
                                    "yaxis": "y2"
                                },
                                {
                                    "line": {
                                        "width": 2
                                    },
                                    "marker": {
                                        "color": "red",
                                        "size": 2
                                    },
                                    "mode": "lines",
                                    "name": "Airway resistance inferred",
                                    "showlegend": false,
                                    "type": "scatter",
                                    "x": [
                                        28.47249036396121,
                                        41.56817772228648
                                    ],
                                    "xaxis": "x2",
                                    "y": [
                                        "291",
                                        "291"
                                    ],
                                    "yaxis": "y2"
                                },
                                {
                                    "line": {
                                        "width": 2
                                    },
                                    "marker": {
                                        "color": "red",
                                        "size": 2
                                    },
                                    "mode": "lines",
                                    "name": "Airway resistance inferred",
                                    "showlegend": false,
                                    "type": "scatter",
                                    "x": [
                                        31.539002846849318,
                                        43.42140549611667
                                    ],
                                    "xaxis": "x2",
                                    "y": [
                                        "256",
                                        "256"
                                    ],
                                    "yaxis": "y2"
                                },
                                {
                                    "line": {
                                        "width": 2
                                    },
                                    "marker": {
                                        "color": "red",
                                        "size": 2
                                    },
                                    "mode": "lines",
                                    "name": "Airway resistance inferred",
                                    "showlegend": false,
                                    "type": "scatter",
                                    "x": [
                                        50.995818893994226,
                                        62.118731699177076
                                    ],
                                    "xaxis": "x2",
                                    "y": [
                                        "132",
                                        "132"
                                    ],
                                    "yaxis": "y2"
                                },
                                {
                                    "line": {
                                        "width": 2
                                    },
                                    "marker": {
                                        "color": "red",
                                        "size": 2
                                    },
                                    "mode": "lines",
                                    "name": "Airway resistance inferred",
                                    "showlegend": false,
                                    "type": "scatter",
                                    "x": [
                                        23.1286508032217,
                                        36.911872054601965
                                    ],
                                    "xaxis": "x2",
                                    "y": [
                                        "266",
                                        "266"
                                    ],
                                    "yaxis": "y2"
                                },
                                {
                                    "line": {
                                        "width": 2
                                    },
                                    "marker": {
                                        "color": "red",
                                        "size": 2
                                    },
                                    "mode": "lines",
                                    "name": "Airway resistance inferred",
                                    "showlegend": false,
                                    "type": "scatter",
                                    "x": [
                                        28.46472953402028,
                                        41.22596626188684
                                    ],
                                    "xaxis": "x2",
                                    "y": [
                                        "306",
                                        "306"
                                    ],
                                    "yaxis": "y2"
                                },
                                {
                                    "line": {
                                        "width": 2
                                    },
                                    "marker": {
                                        "color": "red",
                                        "size": 2
                                    },
                                    "mode": "lines",
                                    "name": "Airway resistance inferred",
                                    "showlegend": false,
                                    "type": "scatter",
                                    "x": [
                                        32.896626153939934,
                                        45.74061417192602
                                    ],
                                    "xaxis": "x2",
                                    "y": [
                                        "311",
                                        "311"
                                    ],
                                    "yaxis": "y2"
                                },
                                {
                                    "line": {
                                        "width": 2
                                    },
                                    "marker": {
                                        "color": "red",
                                        "size": 2
                                    },
                                    "mode": "lines",
                                    "name": "Airway resistance inferred",
                                    "showlegend": false,
                                    "type": "scatter",
                                    "x": [
                                        31.713381084488013,
                                        45.10453316243853
                                    ],
                                    "xaxis": "x2",
                                    "y": [
                                        "119",
                                        "119"
                                    ],
                                    "yaxis": "y2"
                                },
                                {
                                    "line": {
                                        "width": 2
                                    },
                                    "marker": {
                                        "color": "red",
                                        "size": 2
                                    },
                                    "mode": "lines",
                                    "name": "Airway resistance inferred",
                                    "showlegend": false,
                                    "type": "scatter",
                                    "x": [
                                        35.10985573005783,
                                        48.71845069332716
                                    ],
                                    "xaxis": "x2",
                                    "y": [
                                        "439",
                                        "439"
                                    ],
                                    "yaxis": "y2"
                                },
                                {
                                    "line": {
                                        "width": 2
                                    },
                                    "marker": {
                                        "color": "red",
                                        "size": 2
                                    },
                                    "mode": "lines",
                                    "name": "Airway resistance inferred",
                                    "showlegend": false,
                                    "type": "scatter",
                                    "x": [
                                        38.10743547614143,
                                        51.793827622543354
                                    ],
                                    "xaxis": "x2",
                                    "y": [
                                        "106",
                                        "106"
                                    ],
                                    "yaxis": "y2"
                                },
                                {
                                    "line": {
                                        "width": 2
                                    },
                                    "marker": {
                                        "color": "red",
                                        "size": 2
                                    },
                                    "mode": "lines",
                                    "name": "Airway resistance inferred",
                                    "showlegend": false,
                                    "type": "scatter",
                                    "x": [
                                        32.1944436948036,
                                        45.33685426564306
                                    ],
                                    "xaxis": "x2",
                                    "y": [
                                        "207",
                                        "207"
                                    ],
                                    "yaxis": "y2"
                                },
                                {
                                    "line": {
                                        "width": 2
                                    },
                                    "marker": {
                                        "color": "red",
                                        "size": 2
                                    },
                                    "mode": "lines",
                                    "name": "Airway resistance inferred",
                                    "showlegend": false,
                                    "type": "scatter",
                                    "x": [
                                        49.71688410739048,
                                        62.55898062447467
                                    ],
                                    "xaxis": "x2",
                                    "y": [
                                        "488",
                                        "488"
                                    ],
                                    "yaxis": "y2"
                                },
                                {
                                    "line": {
                                        "width": 2
                                    },
                                    "marker": {
                                        "color": "red",
                                        "size": 2
                                    },
                                    "mode": "lines",
                                    "name": "Airway resistance inferred",
                                    "showlegend": false,
                                    "type": "scatter",
                                    "x": [
                                        26.581216917690757,
                                        37.44604177446352
                                    ],
                                    "xaxis": "x2",
                                    "y": [
                                        "147",
                                        "147"
                                    ],
                                    "yaxis": "y2"
                                },
                                {
                                    "line": {
                                        "width": 2
                                    },
                                    "marker": {
                                        "color": "red",
                                        "size": 2
                                    },
                                    "mode": "lines",
                                    "name": "Airway resistance inferred",
                                    "showlegend": false,
                                    "type": "scatter",
                                    "x": [
                                        38.297624990729474,
                                        52.72816162707269
                                    ],
                                    "xaxis": "x2",
                                    "y": [
                                        "434",
                                        "434"
                                    ],
                                    "yaxis": "y2"
                                },
                                {
                                    "line": {
                                        "width": 2
                                    },
                                    "marker": {
                                        "color": "red",
                                        "size": 2
                                    },
                                    "mode": "lines",
                                    "name": "Airway resistance inferred",
                                    "showlegend": false,
                                    "type": "scatter",
                                    "x": [
                                        51.81445475394844,
                                        63.163699217015555
                                    ],
                                    "xaxis": "x2",
                                    "y": [
                                        "127",
                                        "127"
                                    ],
                                    "yaxis": "y2"
                                },
                                {
                                    "line": {
                                        "width": 2
                                    },
                                    "marker": {
                                        "color": "red",
                                        "size": 2
                                    },
                                    "mode": "lines",
                                    "name": "Airway resistance inferred",
                                    "showlegend": false,
                                    "type": "scatter",
                                    "x": [
                                        50.51928711226294,
                                        62.166699690803135
                                    ],
                                    "xaxis": "x2",
                                    "y": [
                                        "162",
                                        "162"
                                    ],
                                    "yaxis": "y2"
                                },
                                {
                                    "line": {
                                        "width": 2
                                    },
                                    "marker": {
                                        "color": "red",
                                        "size": 2
                                    },
                                    "mode": "lines",
                                    "name": "Airway resistance inferred",
                                    "showlegend": false,
                                    "type": "scatter",
                                    "x": [
                                        44.21682352229064,
                                        57.774414217519876
                                    ],
                                    "xaxis": "x2",
                                    "y": [
                                        "494",
                                        "494"
                                    ],
                                    "yaxis": "y2"
                                },
                                {
                                    "line": {
                                        "width": 2
                                    },
                                    "marker": {
                                        "color": "red",
                                        "size": 2
                                    },
                                    "mode": "lines",
                                    "name": "Airway resistance inferred",
                                    "showlegend": false,
                                    "type": "scatter",
                                    "x": [
                                        50.47967443275304,
                                        61.43311751121917
                                    ],
                                    "xaxis": "x2",
                                    "y": [
                                        "112",
                                        "112"
                                    ],
                                    "yaxis": "y2"
                                },
                                {
                                    "line": {
                                        "width": 2
                                    },
                                    "marker": {
                                        "color": "red",
                                        "size": 2
                                    },
                                    "mode": "lines",
                                    "name": "Airway resistance inferred",
                                    "showlegend": false,
                                    "type": "scatter",
                                    "x": [
                                        49.784051817867905,
                                        61.48455799094737
                                    ],
                                    "xaxis": "x2",
                                    "y": [
                                        "232",
                                        "232"
                                    ],
                                    "yaxis": "y2"
                                },
                                {
                                    "line": {
                                        "width": 2
                                    },
                                    "marker": {
                                        "color": "red",
                                        "size": 2
                                    },
                                    "mode": "lines",
                                    "name": "Airway resistance inferred",
                                    "showlegend": false,
                                    "type": "scatter",
                                    "x": [
                                        30.293259594679302,
                                        43.86030922976516
                                    ],
                                    "xaxis": "x2",
                                    "y": [
                                        "325",
                                        "325"
                                    ],
                                    "yaxis": "y2"
                                },
                                {
                                    "line": {
                                        "width": 2
                                    },
                                    "marker": {
                                        "color": "red",
                                        "size": 2
                                    },
                                    "mode": "lines",
                                    "name": "Airway resistance inferred",
                                    "showlegend": false,
                                    "type": "scatter",
                                    "x": [
                                        28.122173939431725,
                                        42.758664328989326
                                    ],
                                    "xaxis": "x2",
                                    "y": [
                                        "249",
                                        "249"
                                    ],
                                    "yaxis": "y2"
                                },
                                {
                                    "line": {
                                        "width": 2
                                    },
                                    "marker": {
                                        "color": "red",
                                        "size": 2
                                    },
                                    "mode": "lines",
                                    "name": "Airway resistance inferred",
                                    "showlegend": false,
                                    "type": "scatter",
                                    "x": [
                                        53.05484174435402,
                                        64.24745422377636
                                    ],
                                    "xaxis": "x2",
                                    "y": [
                                        "484",
                                        "484"
                                    ],
                                    "yaxis": "y2"
                                },
                                {
                                    "line": {
                                        "width": 2
                                    },
                                    "marker": {
                                        "color": "red",
                                        "size": 2
                                    },
                                    "mode": "lines",
                                    "name": "Airway resistance inferred",
                                    "showlegend": false,
                                    "type": "scatter",
                                    "x": [
                                        39.63702141747998,
                                        53.78898349256376
                                    ],
                                    "xaxis": "x2",
                                    "y": [
                                        "403",
                                        "403"
                                    ],
                                    "yaxis": "y2"
                                },
                                {
                                    "line": {
                                        "width": 2
                                    },
                                    "marker": {
                                        "color": "red",
                                        "size": 2
                                    },
                                    "mode": "lines",
                                    "name": "Airway resistance inferred",
                                    "showlegend": false,
                                    "type": "scatter",
                                    "x": [
                                        36.62483406898112,
                                        51.10855478176908
                                    ],
                                    "xaxis": "x2",
                                    "y": [
                                        "365",
                                        "365"
                                    ],
                                    "yaxis": "y2"
                                },
                                {
                                    "line": {
                                        "width": 2
                                    },
                                    "marker": {
                                        "color": "red",
                                        "size": 2
                                    },
                                    "mode": "lines",
                                    "name": "Airway resistance inferred",
                                    "showlegend": false,
                                    "type": "scatter",
                                    "x": [
                                        26.226106248654343,
                                        41.04699156704269
                                    ],
                                    "xaxis": "x2",
                                    "y": [
                                        "118",
                                        "118"
                                    ],
                                    "yaxis": "y2"
                                },
                                {
                                    "line": {
                                        "width": 2
                                    },
                                    "marker": {
                                        "color": "red",
                                        "size": 2
                                    },
                                    "mode": "lines",
                                    "name": "Airway resistance inferred",
                                    "showlegend": false,
                                    "type": "scatter",
                                    "x": [
                                        25.120820701035473,
                                        39.942962217353006
                                    ],
                                    "xaxis": "x2",
                                    "y": [
                                        "505",
                                        "505"
                                    ],
                                    "yaxis": "y2"
                                },
                                {
                                    "line": {
                                        "width": 2
                                    },
                                    "marker": {
                                        "color": "red",
                                        "size": 2
                                    },
                                    "mode": "lines",
                                    "name": "Airway resistance inferred",
                                    "showlegend": false,
                                    "type": "scatter",
                                    "x": [
                                        24.759507797581318,
                                        40.68551488105122
                                    ],
                                    "xaxis": "x2",
                                    "y": [
                                        "293",
                                        "293"
                                    ],
                                    "yaxis": "y2"
                                },
                                {
                                    "line": {
                                        "width": 2
                                    },
                                    "marker": {
                                        "color": "red",
                                        "size": 2
                                    },
                                    "mode": "lines",
                                    "name": "Airway resistance inferred",
                                    "showlegend": false,
                                    "type": "scatter",
                                    "x": [
                                        50.22540641719115,
                                        60.859360519865554
                                    ],
                                    "xaxis": "x2",
                                    "y": [
                                        "120",
                                        "120"
                                    ],
                                    "yaxis": "y2"
                                },
                                {
                                    "line": {
                                        "width": 2
                                    },
                                    "marker": {
                                        "color": "red",
                                        "size": 2
                                    },
                                    "mode": "lines",
                                    "name": "Airway resistance inferred",
                                    "showlegend": false,
                                    "type": "scatter",
                                    "x": [
                                        34.471925547825364,
                                        46.5062569294407
                                    ],
                                    "xaxis": "x2",
                                    "y": [
                                        "153",
                                        "153"
                                    ],
                                    "yaxis": "y2"
                                },
                                {
                                    "line": {
                                        "width": 2
                                    },
                                    "marker": {
                                        "color": "red",
                                        "size": 2
                                    },
                                    "mode": "lines",
                                    "name": "Airway resistance inferred",
                                    "showlegend": false,
                                    "type": "scatter",
                                    "x": [
                                        33.778475253276994,
                                        48.27394231644989
                                    ],
                                    "xaxis": "x2",
                                    "y": [
                                        "270",
                                        "270"
                                    ],
                                    "yaxis": "y2"
                                },
                                {
                                    "line": {
                                        "width": 2
                                    },
                                    "marker": {
                                        "color": "red",
                                        "size": 2
                                    },
                                    "mode": "lines",
                                    "name": "Airway resistance inferred",
                                    "showlegend": false,
                                    "type": "scatter",
                                    "x": [
                                        38.55834764558407,
                                        53.69372983797009
                                    ],
                                    "xaxis": "x2",
                                    "y": [
                                        "502",
                                        "502"
                                    ],
                                    "yaxis": "y2"
                                },
                                {
                                    "line": {
                                        "width": 2
                                    },
                                    "marker": {
                                        "color": "red",
                                        "size": 2
                                    },
                                    "mode": "lines",
                                    "name": "Airway resistance inferred",
                                    "showlegend": false,
                                    "type": "scatter",
                                    "x": [
                                        47.30198669995116,
                                        59.91766186202593
                                    ],
                                    "xaxis": "x2",
                                    "y": [
                                        "253",
                                        "253"
                                    ],
                                    "yaxis": "y2"
                                },
                                {
                                    "line": {
                                        "width": 2
                                    },
                                    "marker": {
                                        "color": "red",
                                        "size": 2
                                    },
                                    "mode": "lines",
                                    "name": "Airway resistance inferred",
                                    "showlegend": false,
                                    "type": "scatter",
                                    "x": [
                                        26.329512387338863,
                                        41.79092390151708
                                    ],
                                    "xaxis": "x2",
                                    "y": [
                                        "514",
                                        "514"
                                    ],
                                    "yaxis": "y2"
                                },
                                {
                                    "line": {
                                        "width": 2
                                    },
                                    "marker": {
                                        "color": "red",
                                        "size": 2
                                    },
                                    "mode": "lines",
                                    "name": "Airway resistance inferred",
                                    "showlegend": false,
                                    "type": "scatter",
                                    "x": [
                                        23.175503233333366,
                                        37.79173116511545
                                    ],
                                    "xaxis": "x2",
                                    "y": [
                                        "289",
                                        "289"
                                    ],
                                    "yaxis": "y2"
                                },
                                {
                                    "line": {
                                        "width": 2
                                    },
                                    "marker": {
                                        "color": "red",
                                        "size": 2
                                    },
                                    "mode": "lines",
                                    "name": "Airway resistance inferred",
                                    "showlegend": false,
                                    "type": "scatter",
                                    "x": [
                                        38.019771724430285,
                                        54.896123917929216
                                    ],
                                    "xaxis": "x2",
                                    "y": [
                                        "101",
                                        "101"
                                    ],
                                    "yaxis": "y2"
                                },
                                {
                                    "line": {
                                        "width": 2
                                    },
                                    "marker": {
                                        "color": "red",
                                        "size": 2
                                    },
                                    "mode": "lines",
                                    "name": "Airway resistance inferred",
                                    "showlegend": false,
                                    "type": "scatter",
                                    "x": [
                                        47.59937214142353,
                                        60.47713211741607
                                    ],
                                    "xaxis": "x2",
                                    "y": [
                                        "248",
                                        "248"
                                    ],
                                    "yaxis": "y2"
                                },
                                {
                                    "line": {
                                        "width": 2
                                    },
                                    "marker": {
                                        "color": "red",
                                        "size": 2
                                    },
                                    "mode": "lines",
                                    "name": "Airway resistance inferred",
                                    "showlegend": false,
                                    "type": "scatter",
                                    "x": [
                                        30.806422066650484,
                                        45.100189552927624
                                    ],
                                    "xaxis": "x2",
                                    "y": [
                                        "148",
                                        "148"
                                    ],
                                    "yaxis": "y2"
                                },
                                {
                                    "line": {
                                        "width": 2
                                    },
                                    "marker": {
                                        "color": "red",
                                        "size": 2
                                    },
                                    "mode": "lines",
                                    "name": "Airway resistance inferred",
                                    "showlegend": false,
                                    "type": "scatter",
                                    "x": [
                                        45.31604296580998,
                                        59.398096086988076
                                    ],
                                    "xaxis": "x2",
                                    "y": [
                                        "258",
                                        "258"
                                    ],
                                    "yaxis": "y2"
                                },
                                {
                                    "line": {
                                        "width": 2
                                    },
                                    "marker": {
                                        "color": "red",
                                        "size": 2
                                    },
                                    "mode": "lines",
                                    "name": "Airway resistance inferred",
                                    "showlegend": false,
                                    "type": "scatter",
                                    "x": [
                                        36.63307588031568,
                                        51.68062385510224
                                    ],
                                    "xaxis": "x2",
                                    "y": [
                                        "431",
                                        "431"
                                    ],
                                    "yaxis": "y2"
                                },
                                {
                                    "line": {
                                        "width": 2
                                    },
                                    "marker": {
                                        "color": "red",
                                        "size": 2
                                    },
                                    "mode": "lines",
                                    "name": "Airway resistance inferred",
                                    "showlegend": false,
                                    "type": "scatter",
                                    "x": [
                                        23.788083119202117,
                                        39.228847759684186
                                    ],
                                    "xaxis": "x2",
                                    "y": [
                                        "426",
                                        "426"
                                    ],
                                    "yaxis": "y2"
                                },
                                {
                                    "line": {
                                        "width": 2
                                    },
                                    "marker": {
                                        "color": "red",
                                        "size": 2
                                    },
                                    "mode": "lines",
                                    "name": "Airway resistance inferred",
                                    "showlegend": false,
                                    "type": "scatter",
                                    "x": [
                                        32.36051554672934,
                                        48.14549957991811
                                    ],
                                    "xaxis": "x2",
                                    "y": [
                                        "342",
                                        "342"
                                    ],
                                    "yaxis": "y2"
                                },
                                {
                                    "line": {
                                        "width": 2
                                    },
                                    "marker": {
                                        "color": "red",
                                        "size": 2
                                    },
                                    "mode": "lines",
                                    "name": "Airway resistance inferred",
                                    "showlegend": false,
                                    "type": "scatter",
                                    "x": [
                                        50.74589157589546,
                                        64.21240009064606
                                    ],
                                    "xaxis": "x2",
                                    "y": [
                                        "102",
                                        "102"
                                    ],
                                    "yaxis": "y2"
                                },
                                {
                                    "line": {
                                        "width": 2
                                    },
                                    "marker": {
                                        "color": "red",
                                        "size": 2
                                    },
                                    "mode": "lines",
                                    "name": "Airway resistance inferred",
                                    "showlegend": false,
                                    "type": "scatter",
                                    "x": [
                                        27.568624417325378,
                                        43.064882723462276
                                    ],
                                    "xaxis": "x2",
                                    "y": [
                                        "517",
                                        "517"
                                    ],
                                    "yaxis": "y2"
                                },
                                {
                                    "line": {
                                        "width": 2
                                    },
                                    "marker": {
                                        "color": "red",
                                        "size": 2
                                    },
                                    "mode": "lines",
                                    "name": "Airway resistance inferred",
                                    "showlegend": false,
                                    "type": "scatter",
                                    "x": [
                                        45.6582676743471,
                                        57.901527604816955
                                    ],
                                    "xaxis": "x2",
                                    "y": [
                                        "194",
                                        "194"
                                    ],
                                    "yaxis": "y2"
                                },
                                {
                                    "line": {
                                        "width": 2
                                    },
                                    "marker": {
                                        "color": "red",
                                        "size": 2
                                    },
                                    "mode": "lines",
                                    "name": "Airway resistance inferred",
                                    "showlegend": false,
                                    "type": "scatter",
                                    "x": [
                                        25.889327670466947,
                                        40.09710817696125
                                    ],
                                    "xaxis": "x2",
                                    "y": [
                                        "508",
                                        "508"
                                    ],
                                    "yaxis": "y2"
                                },
                                {
                                    "marker": {
                                        "color": "blue",
                                        "size": 3
                                    },
                                    "mode": "markers",
                                    "name": "1 - ecFEV1%Predicted",
                                    "type": "scatter",
                                    "x": [
                                        0.7190064928335331,
                                        12.600346913093324,
                                        23.96577161986161,
                                        25.589977215108433,
                                        26.713903455875375,
                                        26.193060819986048,
                                        27.79714473213103,
                                        35.84730954837891,
                                        29.928771233937628,
                                        34.55509875733721,
                                        29.463635619942373,
                                        35.58899257253485,
                                        30.05246561379469,
                                        38.442408530889594,
                                        31.39696544924056,
                                        40.14747455152493,
                                        44.89968783836566,
                                        35.62713203355523,
                                        32.1146025916219,
                                        47.27203973643263,
                                        40.58912041640572,
                                        44.13487812205032,
                                        33.6140565242861,
                                        41.2359107460301,
                                        39.21035370840765,
                                        55.07332252942479,
                                        31.850834419212923,
                                        39.9437288973817,
                                        37.15400698695806,
                                        31.91225094063721,
                                        38.23870137165499,
                                        54.82018774413714,
                                        33.05252927392813,
                                        32.77584106164391,
                                        54.7430861384684,
                                        30.87404585818991,
                                        55.58272181585099,
                                        51.37931399019353,
                                        51.83773563736387,
                                        38.372061876528086,
                                        42.106465943602785,
                                        38.09683659295833,
                                        56.658424963323974,
                                        55.42597513741118,
                                        32.27594527324617,
                                        34.25082097935568,
                                        36.20427813161068,
                                        44.77787296405627,
                                        49.057307110471314,
                                        42.921694359861256,
                                        43.774754465769156,
                                        57.85273232281536,
                                        41.087647656134116,
                                        53.510756220711826,
                                        34.70700805755387,
                                        50.99990862061445,
                                        36.237651409617726,
                                        40.34929626980264,
                                        56.87496968894096,
                                        52.99243115460483,
                                        36.32850405574679,
                                        57.2313581011729,
                                        58.22809290990336,
                                        50.09801566824494,
                                        55.07129755715894,
                                        52.872278815168926,
                                        55.65182254866171,
                                        42.473820335446106,
                                        37.62378946374352,
                                        40.19471578353193,
                                        59.2911758993869,
                                        32.76038067876057,
                                        37.63657022788402,
                                        42.129149486472876,
                                        41.233886275754486,
                                        44.89739714982587,
                                        48.011091155770835,
                                        42.152888538600926,
                                        59.53146963989018,
                                        35.495358400644896,
                                        49.04934114031779,
                                        61.025700018486155,
                                        60.01248575743648,
                                        54.94366774558618,
                                        59.976854311637915,
                                        59.99447665614532,
                                        41.75266790089593,
                                        40.24282158877313,
                                        63.46404099131713,
                                        51.620990664837564,
                                        49.4362495135027,
                                        39.59852544074549,
                                        38.50398257504108,
                                        38.7194208281884,
                                        61.55544904894449,
                                        46.509434273359176,
                                        47.21123427994417,
                                        52.34997319204974,
                                        59.98767177084292,
                                        40.453010951568224,
                                        36.95051299729794,
                                        53.084821018727084,
                                        60.7269797556144,
                                        44.767355242699,
                                        59.36162716756871,
                                        51.203519413928646,
                                        39.05605854272837,
                                        48.54806274206383,
                                        65.998821353678,
                                        44.51674830496976,
                                        61.458396915427926,
                                        43.65753786435754
                                    ],
                                    "xaxis": "x2",
                                    "y": [
                                        "372",
                                        "202",
                                        "104",
                                        "107",
                                        "191",
                                        "133",
                                        "353",
                                        "114",
                                        "185",
                                        "432",
                                        "317",
                                        "493",
                                        "254",
                                        "395",
                                        "205",
                                        "252",
                                        "159",
                                        "509",
                                        "116",
                                        "103",
                                        "224",
                                        "523",
                                        "146",
                                        "405",
                                        "220",
                                        "198",
                                        "188",
                                        "424",
                                        "500",
                                        "196",
                                        "145",
                                        "387",
                                        "139",
                                        "284",
                                        "128",
                                        "245",
                                        "142",
                                        "143",
                                        "309",
                                        "203",
                                        "138",
                                        "272",
                                        "419",
                                        "334",
                                        "453",
                                        "525",
                                        "165",
                                        "483",
                                        "150",
                                        "181",
                                        "408",
                                        "140",
                                        "169",
                                        "440",
                                        "131",
                                        "135",
                                        "279",
                                        "108",
                                        "149",
                                        "238",
                                        "173",
                                        "264",
                                        "298",
                                        "179",
                                        "184",
                                        "336",
                                        "158",
                                        "416",
                                        "291",
                                        "256",
                                        "132",
                                        "266",
                                        "306",
                                        "311",
                                        "119",
                                        "439",
                                        "106",
                                        "207",
                                        "488",
                                        "147",
                                        "434",
                                        "127",
                                        "162",
                                        "494",
                                        "112",
                                        "232",
                                        "325",
                                        "249",
                                        "484",
                                        "403",
                                        "365",
                                        "118",
                                        "505",
                                        "293",
                                        "120",
                                        "153",
                                        "270",
                                        "502",
                                        "253",
                                        "514",
                                        "289",
                                        "101",
                                        "248",
                                        "148",
                                        "258",
                                        "431",
                                        "426",
                                        "342",
                                        "102",
                                        "517",
                                        "194",
                                        "508"
                                    ],
                                    "yaxis": "y2"
                                },
                                {
                                    "line": {
                                        "width": 2
                                    },
                                    "marker": {
                                        "color": "red",
                                        "size": 2
                                    },
                                    "mode": "lines",
                                    "name": "Airway resistance inferred",
                                    "showlegend": true,
                                    "type": "scatter",
                                    "x": [
                                        57.244650303939444,
                                        66.66568498239936
                                    ],
                                    "xaxis": "x3",
                                    "y": [
                                        "111",
                                        "111"
                                    ],
                                    "yaxis": "y3"
                                },
                                {
                                    "line": {
                                        "width": 2
                                    },
                                    "marker": {
                                        "color": "red",
                                        "size": 2
                                    },
                                    "mode": "lines",
                                    "name": "Airway resistance inferred",
                                    "showlegend": false,
                                    "type": "scatter",
                                    "x": [
                                        60.996191463993284,
                                        69.84856440109395
                                    ],
                                    "xaxis": "x3",
                                    "y": [
                                        "155",
                                        "155"
                                    ],
                                    "yaxis": "y3"
                                },
                                {
                                    "line": {
                                        "width": 2
                                    },
                                    "marker": {
                                        "color": "red",
                                        "size": 2
                                    },
                                    "mode": "lines",
                                    "name": "Airway resistance inferred",
                                    "showlegend": false,
                                    "type": "scatter",
                                    "x": [
                                        61.99746245256388,
                                        70.7574127929525
                                    ],
                                    "xaxis": "x3",
                                    "y": [
                                        "520",
                                        "520"
                                    ],
                                    "yaxis": "y3"
                                },
                                {
                                    "line": {
                                        "width": 2
                                    },
                                    "marker": {
                                        "color": "red",
                                        "size": 2
                                    },
                                    "mode": "lines",
                                    "name": "Airway resistance inferred",
                                    "showlegend": false,
                                    "type": "scatter",
                                    "x": [
                                        66.05728057218026,
                                        73.77962652837985
                                    ],
                                    "xaxis": "x3",
                                    "y": [
                                        "404",
                                        "404"
                                    ],
                                    "yaxis": "y3"
                                },
                                {
                                    "line": {
                                        "width": 2
                                    },
                                    "marker": {
                                        "color": "red",
                                        "size": 2
                                    },
                                    "mode": "lines",
                                    "name": "Airway resistance inferred",
                                    "showlegend": false,
                                    "type": "scatter",
                                    "x": [
                                        61.29328110554058,
                                        70.49071777149997
                                    ],
                                    "xaxis": "x3",
                                    "y": [
                                        "282",
                                        "282"
                                    ],
                                    "yaxis": "y3"
                                },
                                {
                                    "line": {
                                        "width": 2
                                    },
                                    "marker": {
                                        "color": "red",
                                        "size": 2
                                    },
                                    "mode": "lines",
                                    "name": "Airway resistance inferred",
                                    "showlegend": false,
                                    "type": "scatter",
                                    "x": [
                                        65.51542877116562,
                                        73.34838828637947
                                    ],
                                    "xaxis": "x3",
                                    "y": [
                                        "411",
                                        "411"
                                    ],
                                    "yaxis": "y3"
                                },
                                {
                                    "line": {
                                        "width": 2
                                    },
                                    "marker": {
                                        "color": "red",
                                        "size": 2
                                    },
                                    "mode": "lines",
                                    "name": "Airway resistance inferred",
                                    "showlegend": false,
                                    "type": "scatter",
                                    "x": [
                                        61.92111629531886,
                                        72.13970980141544
                                    ],
                                    "xaxis": "x3",
                                    "y": [
                                        "377",
                                        "377"
                                    ],
                                    "yaxis": "y3"
                                },
                                {
                                    "line": {
                                        "width": 2
                                    },
                                    "marker": {
                                        "color": "red",
                                        "size": 2
                                    },
                                    "mode": "lines",
                                    "name": "Airway resistance inferred",
                                    "showlegend": false,
                                    "type": "scatter",
                                    "x": [
                                        58.2513196536079,
                                        67.3299898579224
                                    ],
                                    "xaxis": "x3",
                                    "y": [
                                        "283",
                                        "283"
                                    ],
                                    "yaxis": "y3"
                                },
                                {
                                    "line": {
                                        "width": 2
                                    },
                                    "marker": {
                                        "color": "red",
                                        "size": 2
                                    },
                                    "mode": "lines",
                                    "name": "Airway resistance inferred",
                                    "showlegend": false,
                                    "type": "scatter",
                                    "x": [
                                        57.027480466615906,
                                        67.19153967348191
                                    ],
                                    "xaxis": "x3",
                                    "y": [
                                        "486",
                                        "486"
                                    ],
                                    "yaxis": "y3"
                                },
                                {
                                    "line": {
                                        "width": 2
                                    },
                                    "marker": {
                                        "color": "red",
                                        "size": 2
                                    },
                                    "mode": "lines",
                                    "name": "Airway resistance inferred",
                                    "showlegend": false,
                                    "type": "scatter",
                                    "x": [
                                        57.60682242687237,
                                        67.55877684122001
                                    ],
                                    "xaxis": "x3",
                                    "y": [
                                        "362",
                                        "362"
                                    ],
                                    "yaxis": "y3"
                                },
                                {
                                    "line": {
                                        "width": 2
                                    },
                                    "marker": {
                                        "color": "red",
                                        "size": 2
                                    },
                                    "mode": "lines",
                                    "name": "Airway resistance inferred",
                                    "showlegend": false,
                                    "type": "scatter",
                                    "x": [
                                        61.086530377680084,
                                        69.5183122725473
                                    ],
                                    "xaxis": "x3",
                                    "y": [
                                        "187",
                                        "187"
                                    ],
                                    "yaxis": "y3"
                                },
                                {
                                    "line": {
                                        "width": 2
                                    },
                                    "marker": {
                                        "color": "red",
                                        "size": 2
                                    },
                                    "mode": "lines",
                                    "name": "Airway resistance inferred",
                                    "showlegend": false,
                                    "type": "scatter",
                                    "x": [
                                        76.59577832037344,
                                        82.89185406183866
                                    ],
                                    "xaxis": "x3",
                                    "y": [
                                        "413",
                                        "413"
                                    ],
                                    "yaxis": "y3"
                                },
                                {
                                    "line": {
                                        "width": 2
                                    },
                                    "marker": {
                                        "color": "red",
                                        "size": 2
                                    },
                                    "mode": "lines",
                                    "name": "Airway resistance inferred",
                                    "showlegend": false,
                                    "type": "scatter",
                                    "x": [
                                        57.82978646913705,
                                        68.94730726150402
                                    ],
                                    "xaxis": "x3",
                                    "y": [
                                        "422",
                                        "422"
                                    ],
                                    "yaxis": "y3"
                                },
                                {
                                    "line": {
                                        "width": 2
                                    },
                                    "marker": {
                                        "color": "red",
                                        "size": 2
                                    },
                                    "mode": "lines",
                                    "name": "Airway resistance inferred",
                                    "showlegend": false,
                                    "type": "scatter",
                                    "x": [
                                        58.78932471498205,
                                        67.87469028247766
                                    ],
                                    "xaxis": "x3",
                                    "y": [
                                        "452",
                                        "452"
                                    ],
                                    "yaxis": "y3"
                                },
                                {
                                    "line": {
                                        "width": 2
                                    },
                                    "marker": {
                                        "color": "red",
                                        "size": 2
                                    },
                                    "mode": "lines",
                                    "name": "Airway resistance inferred",
                                    "showlegend": false,
                                    "type": "scatter",
                                    "x": [
                                        58.78605331280635,
                                        68.05431037593081
                                    ],
                                    "xaxis": "x3",
                                    "y": [
                                        "421",
                                        "421"
                                    ],
                                    "yaxis": "y3"
                                },
                                {
                                    "line": {
                                        "width": 2
                                    },
                                    "marker": {
                                        "color": "red",
                                        "size": 2
                                    },
                                    "mode": "lines",
                                    "name": "Airway resistance inferred",
                                    "showlegend": false,
                                    "type": "scatter",
                                    "x": [
                                        57.101480895148036,
                                        67.30784478485283
                                    ],
                                    "xaxis": "x3",
                                    "y": [
                                        "361",
                                        "361"
                                    ],
                                    "yaxis": "y3"
                                },
                                {
                                    "line": {
                                        "width": 2
                                    },
                                    "marker": {
                                        "color": "red",
                                        "size": 2
                                    },
                                    "mode": "lines",
                                    "name": "Airway resistance inferred",
                                    "showlegend": false,
                                    "type": "scatter",
                                    "x": [
                                        61.53770433213942,
                                        70.57911294431052
                                    ],
                                    "xaxis": "x3",
                                    "y": [
                                        "122",
                                        "122"
                                    ],
                                    "yaxis": "y3"
                                },
                                {
                                    "line": {
                                        "width": 2
                                    },
                                    "marker": {
                                        "color": "red",
                                        "size": 2
                                    },
                                    "mode": "lines",
                                    "name": "Airway resistance inferred",
                                    "showlegend": false,
                                    "type": "scatter",
                                    "x": [
                                        56.798888123070775,
                                        67.29846491719006
                                    ],
                                    "xaxis": "x3",
                                    "y": [
                                        "409",
                                        "409"
                                    ],
                                    "yaxis": "y3"
                                },
                                {
                                    "line": {
                                        "width": 2
                                    },
                                    "marker": {
                                        "color": "red",
                                        "size": 2
                                    },
                                    "mode": "lines",
                                    "name": "Airway resistance inferred",
                                    "showlegend": false,
                                    "type": "scatter",
                                    "x": [
                                        53.28475565898914,
                                        67.4512186914811
                                    ],
                                    "xaxis": "x3",
                                    "y": [
                                        "417",
                                        "417"
                                    ],
                                    "yaxis": "y3"
                                },
                                {
                                    "marker": {
                                        "color": "blue",
                                        "size": 3
                                    },
                                    "mode": "markers",
                                    "name": "1 - ecFEV1%Predicted",
                                    "type": "scatter",
                                    "x": [
                                        62.56584356845362,
                                        66.47322359636227,
                                        67.86974665870704,
                                        71.65858315802718,
                                        67.91394814929694,
                                        71.82677653344597,
                                        69.48801495129693,
                                        66.19273880795794,
                                        65.64905230710738,
                                        66.16854165112906,
                                        68.93310571120011,
                                        83.48572863419052,
                                        67.15118344169161,
                                        68.47795508502585,
                                        68.90270858023884,
                                        68.22929236527409,
                                        72.75729072699328,
                                        69.97823279459163,
                                        71.62049283473216
                                    ],
                                    "xaxis": "x3",
                                    "y": [
                                        "111",
                                        "155",
                                        "520",
                                        "404",
                                        "282",
                                        "411",
                                        "377",
                                        "283",
                                        "486",
                                        "362",
                                        "187",
                                        "413",
                                        "422",
                                        "452",
                                        "421",
                                        "361",
                                        "122",
                                        "409",
                                        "417"
                                    ],
                                    "yaxis": "y3"
                                }
                            ],
                            "layout": {
                                "annotations": [
                                    {
                                        "font": {
                                            "size": 16
                                        },
                                        "showarrow": false,
                                        "text": "Mild CF",
                                        "x": 0.13333333333333333,
                                        "xanchor": "center",
                                        "xref": "paper",
                                        "y": 1,
                                        "yanchor": "bottom",
                                        "yref": "paper"
                                    },
                                    {
                                        "font": {
                                            "size": 16
                                        },
                                        "showarrow": false,
                                        "text": "Moderate CF",
                                        "x": 0.5,
                                        "xanchor": "center",
                                        "xref": "paper",
                                        "y": 1,
                                        "yanchor": "bottom",
                                        "yref": "paper"
                                    },
                                    {
                                        "font": {
                                            "size": 16
                                        },
                                        "showarrow": false,
                                        "text": "Severe CF",
                                        "x": 0.8666666666666667,
                                        "xanchor": "center",
                                        "xref": "paper",
                                        "y": 1,
                                        "yanchor": "bottom",
                                        "yref": "paper"
                                    }
                                ],
                                "font": {
                                    "size": 10
                                },
                                "height": 800,
                                "paper_bgcolor": "white",
                                "plot_bgcolor": "white",
                                "showlegend": true,
                                "template": {
                                    "data": {
                                        "bar": [
                                            {
                                                "error_x": {
                                                    "color": "#2a3f5f"
                                                },
                                                "error_y": {
                                                    "color": "#2a3f5f"
                                                },
                                                "marker": {
                                                    "line": {
                                                        "color": "#E5ECF6",
                                                        "width": 0.5
                                                    },
                                                    "pattern": {
                                                        "fillmode": "overlay",
                                                        "size": 10,
                                                        "solidity": 0.2
                                                    }
                                                },
                                                "type": "bar"
                                            }
                                        ],
                                        "barpolar": [
                                            {
                                                "marker": {
                                                    "line": {
                                                        "color": "#E5ECF6",
                                                        "width": 0.5
                                                    },
                                                    "pattern": {
                                                        "fillmode": "overlay",
                                                        "size": 10,
                                                        "solidity": 0.2
                                                    }
                                                },
                                                "type": "barpolar"
                                            }
                                        ],
                                        "carpet": [
                                            {
                                                "aaxis": {
                                                    "endlinecolor": "#2a3f5f",
                                                    "gridcolor": "white",
                                                    "linecolor": "white",
                                                    "minorgridcolor": "white",
                                                    "startlinecolor": "#2a3f5f"
                                                },
                                                "baxis": {
                                                    "endlinecolor": "#2a3f5f",
                                                    "gridcolor": "white",
                                                    "linecolor": "white",
                                                    "minorgridcolor": "white",
                                                    "startlinecolor": "#2a3f5f"
                                                },
                                                "type": "carpet"
                                            }
                                        ],
                                        "choropleth": [
                                            {
                                                "colorbar": {
                                                    "outlinewidth": 0,
                                                    "ticks": ""
                                                },
                                                "type": "choropleth"
                                            }
                                        ],
                                        "contour": [
                                            {
                                                "colorbar": {
                                                    "outlinewidth": 0,
                                                    "ticks": ""
                                                },
                                                "colorscale": [
                                                    [
                                                        0,
                                                        "#0d0887"
                                                    ],
                                                    [
                                                        0.1111111111111111,
                                                        "#46039f"
                                                    ],
                                                    [
                                                        0.2222222222222222,
                                                        "#7201a8"
                                                    ],
                                                    [
                                                        0.3333333333333333,
                                                        "#9c179e"
                                                    ],
                                                    [
                                                        0.4444444444444444,
                                                        "#bd3786"
                                                    ],
                                                    [
                                                        0.5555555555555556,
                                                        "#d8576b"
                                                    ],
                                                    [
                                                        0.6666666666666666,
                                                        "#ed7953"
                                                    ],
                                                    [
                                                        0.7777777777777778,
                                                        "#fb9f3a"
                                                    ],
                                                    [
                                                        0.8888888888888888,
                                                        "#fdca26"
                                                    ],
                                                    [
                                                        1,
                                                        "#f0f921"
                                                    ]
                                                ],
                                                "type": "contour"
                                            }
                                        ],
                                        "contourcarpet": [
                                            {
                                                "colorbar": {
                                                    "outlinewidth": 0,
                                                    "ticks": ""
                                                },
                                                "type": "contourcarpet"
                                            }
                                        ],
                                        "heatmap": [
                                            {
                                                "colorbar": {
                                                    "outlinewidth": 0,
                                                    "ticks": ""
                                                },
                                                "colorscale": [
                                                    [
                                                        0,
                                                        "#0d0887"
                                                    ],
                                                    [
                                                        0.1111111111111111,
                                                        "#46039f"
                                                    ],
                                                    [
                                                        0.2222222222222222,
                                                        "#7201a8"
                                                    ],
                                                    [
                                                        0.3333333333333333,
                                                        "#9c179e"
                                                    ],
                                                    [
                                                        0.4444444444444444,
                                                        "#bd3786"
                                                    ],
                                                    [
                                                        0.5555555555555556,
                                                        "#d8576b"
                                                    ],
                                                    [
                                                        0.6666666666666666,
                                                        "#ed7953"
                                                    ],
                                                    [
                                                        0.7777777777777778,
                                                        "#fb9f3a"
                                                    ],
                                                    [
                                                        0.8888888888888888,
                                                        "#fdca26"
                                                    ],
                                                    [
                                                        1,
                                                        "#f0f921"
                                                    ]
                                                ],
                                                "type": "heatmap"
                                            }
                                        ],
                                        "heatmapgl": [
                                            {
                                                "colorbar": {
                                                    "outlinewidth": 0,
                                                    "ticks": ""
                                                },
                                                "colorscale": [
                                                    [
                                                        0,
                                                        "#0d0887"
                                                    ],
                                                    [
                                                        0.1111111111111111,
                                                        "#46039f"
                                                    ],
                                                    [
                                                        0.2222222222222222,
                                                        "#7201a8"
                                                    ],
                                                    [
                                                        0.3333333333333333,
                                                        "#9c179e"
                                                    ],
                                                    [
                                                        0.4444444444444444,
                                                        "#bd3786"
                                                    ],
                                                    [
                                                        0.5555555555555556,
                                                        "#d8576b"
                                                    ],
                                                    [
                                                        0.6666666666666666,
                                                        "#ed7953"
                                                    ],
                                                    [
                                                        0.7777777777777778,
                                                        "#fb9f3a"
                                                    ],
                                                    [
                                                        0.8888888888888888,
                                                        "#fdca26"
                                                    ],
                                                    [
                                                        1,
                                                        "#f0f921"
                                                    ]
                                                ],
                                                "type": "heatmapgl"
                                            }
                                        ],
                                        "histogram": [
                                            {
                                                "marker": {
                                                    "pattern": {
                                                        "fillmode": "overlay",
                                                        "size": 10,
                                                        "solidity": 0.2
                                                    }
                                                },
                                                "type": "histogram"
                                            }
                                        ],
                                        "histogram2d": [
                                            {
                                                "colorbar": {
                                                    "outlinewidth": 0,
                                                    "ticks": ""
                                                },
                                                "colorscale": [
                                                    [
                                                        0,
                                                        "#0d0887"
                                                    ],
                                                    [
                                                        0.1111111111111111,
                                                        "#46039f"
                                                    ],
                                                    [
                                                        0.2222222222222222,
                                                        "#7201a8"
                                                    ],
                                                    [
                                                        0.3333333333333333,
                                                        "#9c179e"
                                                    ],
                                                    [
                                                        0.4444444444444444,
                                                        "#bd3786"
                                                    ],
                                                    [
                                                        0.5555555555555556,
                                                        "#d8576b"
                                                    ],
                                                    [
                                                        0.6666666666666666,
                                                        "#ed7953"
                                                    ],
                                                    [
                                                        0.7777777777777778,
                                                        "#fb9f3a"
                                                    ],
                                                    [
                                                        0.8888888888888888,
                                                        "#fdca26"
                                                    ],
                                                    [
                                                        1,
                                                        "#f0f921"
                                                    ]
                                                ],
                                                "type": "histogram2d"
                                            }
                                        ],
                                        "histogram2dcontour": [
                                            {
                                                "colorbar": {
                                                    "outlinewidth": 0,
                                                    "ticks": ""
                                                },
                                                "colorscale": [
                                                    [
                                                        0,
                                                        "#0d0887"
                                                    ],
                                                    [
                                                        0.1111111111111111,
                                                        "#46039f"
                                                    ],
                                                    [
                                                        0.2222222222222222,
                                                        "#7201a8"
                                                    ],
                                                    [
                                                        0.3333333333333333,
                                                        "#9c179e"
                                                    ],
                                                    [
                                                        0.4444444444444444,
                                                        "#bd3786"
                                                    ],
                                                    [
                                                        0.5555555555555556,
                                                        "#d8576b"
                                                    ],
                                                    [
                                                        0.6666666666666666,
                                                        "#ed7953"
                                                    ],
                                                    [
                                                        0.7777777777777778,
                                                        "#fb9f3a"
                                                    ],
                                                    [
                                                        0.8888888888888888,
                                                        "#fdca26"
                                                    ],
                                                    [
                                                        1,
                                                        "#f0f921"
                                                    ]
                                                ],
                                                "type": "histogram2dcontour"
                                            }
                                        ],
                                        "mesh3d": [
                                            {
                                                "colorbar": {
                                                    "outlinewidth": 0,
                                                    "ticks": ""
                                                },
                                                "type": "mesh3d"
                                            }
                                        ],
                                        "parcoords": [
                                            {
                                                "line": {
                                                    "colorbar": {
                                                        "outlinewidth": 0,
                                                        "ticks": ""
                                                    }
                                                },
                                                "type": "parcoords"
                                            }
                                        ],
                                        "pie": [
                                            {
                                                "automargin": true,
                                                "type": "pie"
                                            }
                                        ],
                                        "scatter": [
                                            {
                                                "fillpattern": {
                                                    "fillmode": "overlay",
                                                    "size": 10,
                                                    "solidity": 0.2
                                                },
                                                "type": "scatter"
                                            }
                                        ],
                                        "scatter3d": [
                                            {
                                                "line": {
                                                    "colorbar": {
                                                        "outlinewidth": 0,
                                                        "ticks": ""
                                                    }
                                                },
                                                "marker": {
                                                    "colorbar": {
                                                        "outlinewidth": 0,
                                                        "ticks": ""
                                                    }
                                                },
                                                "type": "scatter3d"
                                            }
                                        ],
                                        "scattercarpet": [
                                            {
                                                "marker": {
                                                    "colorbar": {
                                                        "outlinewidth": 0,
                                                        "ticks": ""
                                                    }
                                                },
                                                "type": "scattercarpet"
                                            }
                                        ],
                                        "scattergeo": [
                                            {
                                                "marker": {
                                                    "colorbar": {
                                                        "outlinewidth": 0,
                                                        "ticks": ""
                                                    }
                                                },
                                                "type": "scattergeo"
                                            }
                                        ],
                                        "scattergl": [
                                            {
                                                "marker": {
                                                    "colorbar": {
                                                        "outlinewidth": 0,
                                                        "ticks": ""
                                                    }
                                                },
                                                "type": "scattergl"
                                            }
                                        ],
                                        "scattermapbox": [
                                            {
                                                "marker": {
                                                    "colorbar": {
                                                        "outlinewidth": 0,
                                                        "ticks": ""
                                                    }
                                                },
                                                "type": "scattermapbox"
                                            }
                                        ],
                                        "scatterpolar": [
                                            {
                                                "marker": {
                                                    "colorbar": {
                                                        "outlinewidth": 0,
                                                        "ticks": ""
                                                    }
                                                },
                                                "type": "scatterpolar"
                                            }
                                        ],
                                        "scatterpolargl": [
                                            {
                                                "marker": {
                                                    "colorbar": {
                                                        "outlinewidth": 0,
                                                        "ticks": ""
                                                    }
                                                },
                                                "type": "scatterpolargl"
                                            }
                                        ],
                                        "scatterternary": [
                                            {
                                                "marker": {
                                                    "colorbar": {
                                                        "outlinewidth": 0,
                                                        "ticks": ""
                                                    }
                                                },
                                                "type": "scatterternary"
                                            }
                                        ],
                                        "surface": [
                                            {
                                                "colorbar": {
                                                    "outlinewidth": 0,
                                                    "ticks": ""
                                                },
                                                "colorscale": [
                                                    [
                                                        0,
                                                        "#0d0887"
                                                    ],
                                                    [
                                                        0.1111111111111111,
                                                        "#46039f"
                                                    ],
                                                    [
                                                        0.2222222222222222,
                                                        "#7201a8"
                                                    ],
                                                    [
                                                        0.3333333333333333,
                                                        "#9c179e"
                                                    ],
                                                    [
                                                        0.4444444444444444,
                                                        "#bd3786"
                                                    ],
                                                    [
                                                        0.5555555555555556,
                                                        "#d8576b"
                                                    ],
                                                    [
                                                        0.6666666666666666,
                                                        "#ed7953"
                                                    ],
                                                    [
                                                        0.7777777777777778,
                                                        "#fb9f3a"
                                                    ],
                                                    [
                                                        0.8888888888888888,
                                                        "#fdca26"
                                                    ],
                                                    [
                                                        1,
                                                        "#f0f921"
                                                    ]
                                                ],
                                                "type": "surface"
                                            }
                                        ],
                                        "table": [
                                            {
                                                "cells": {
                                                    "fill": {
                                                        "color": "#EBF0F8"
                                                    },
                                                    "line": {
                                                        "color": "white"
                                                    }
                                                },
                                                "header": {
                                                    "fill": {
                                                        "color": "#C8D4E3"
                                                    },
                                                    "line": {
                                                        "color": "white"
                                                    }
                                                },
                                                "type": "table"
                                            }
                                        ]
                                    },
                                    "layout": {
                                        "annotationdefaults": {
                                            "arrowcolor": "#2a3f5f",
                                            "arrowhead": 0,
                                            "arrowwidth": 1
                                        },
                                        "autotypenumbers": "strict",
                                        "coloraxis": {
                                            "colorbar": {
                                                "outlinewidth": 0,
                                                "ticks": ""
                                            }
                                        },
                                        "colorscale": {
                                            "diverging": [
                                                [
                                                    0,
                                                    "#8e0152"
                                                ],
                                                [
                                                    0.1,
                                                    "#c51b7d"
                                                ],
                                                [
                                                    0.2,
                                                    "#de77ae"
                                                ],
                                                [
                                                    0.3,
                                                    "#f1b6da"
                                                ],
                                                [
                                                    0.4,
                                                    "#fde0ef"
                                                ],
                                                [
                                                    0.5,
                                                    "#f7f7f7"
                                                ],
                                                [
                                                    0.6,
                                                    "#e6f5d0"
                                                ],
                                                [
                                                    0.7,
                                                    "#b8e186"
                                                ],
                                                [
                                                    0.8,
                                                    "#7fbc41"
                                                ],
                                                [
                                                    0.9,
                                                    "#4d9221"
                                                ],
                                                [
                                                    1,
                                                    "#276419"
                                                ]
                                            ],
                                            "sequential": [
                                                [
                                                    0,
                                                    "#0d0887"
                                                ],
                                                [
                                                    0.1111111111111111,
                                                    "#46039f"
                                                ],
                                                [
                                                    0.2222222222222222,
                                                    "#7201a8"
                                                ],
                                                [
                                                    0.3333333333333333,
                                                    "#9c179e"
                                                ],
                                                [
                                                    0.4444444444444444,
                                                    "#bd3786"
                                                ],
                                                [
                                                    0.5555555555555556,
                                                    "#d8576b"
                                                ],
                                                [
                                                    0.6666666666666666,
                                                    "#ed7953"
                                                ],
                                                [
                                                    0.7777777777777778,
                                                    "#fb9f3a"
                                                ],
                                                [
                                                    0.8888888888888888,
                                                    "#fdca26"
                                                ],
                                                [
                                                    1,
                                                    "#f0f921"
                                                ]
                                            ],
                                            "sequentialminus": [
                                                [
                                                    0,
                                                    "#0d0887"
                                                ],
                                                [
                                                    0.1111111111111111,
                                                    "#46039f"
                                                ],
                                                [
                                                    0.2222222222222222,
                                                    "#7201a8"
                                                ],
                                                [
                                                    0.3333333333333333,
                                                    "#9c179e"
                                                ],
                                                [
                                                    0.4444444444444444,
                                                    "#bd3786"
                                                ],
                                                [
                                                    0.5555555555555556,
                                                    "#d8576b"
                                                ],
                                                [
                                                    0.6666666666666666,
                                                    "#ed7953"
                                                ],
                                                [
                                                    0.7777777777777778,
                                                    "#fb9f3a"
                                                ],
                                                [
                                                    0.8888888888888888,
                                                    "#fdca26"
                                                ],
                                                [
                                                    1,
                                                    "#f0f921"
                                                ]
                                            ]
                                        },
                                        "colorway": [
                                            "#636efa",
                                            "#EF553B",
                                            "#00cc96",
                                            "#ab63fa",
                                            "#FFA15A",
                                            "#19d3f3",
                                            "#FF6692",
                                            "#B6E880",
                                            "#FF97FF",
                                            "#FECB52"
                                        ],
                                        "font": {
                                            "color": "#2a3f5f"
                                        },
                                        "geo": {
                                            "bgcolor": "white",
                                            "lakecolor": "white",
                                            "landcolor": "#E5ECF6",
                                            "showlakes": true,
                                            "showland": true,
                                            "subunitcolor": "white"
                                        },
                                        "hoverlabel": {
                                            "align": "left"
                                        },
                                        "hovermode": "closest",
                                        "mapbox": {
                                            "style": "light"
                                        },
                                        "paper_bgcolor": "white",
                                        "plot_bgcolor": "#E5ECF6",
                                        "polar": {
                                            "angularaxis": {
                                                "gridcolor": "white",
                                                "linecolor": "white",
                                                "ticks": ""
                                            },
                                            "bgcolor": "#E5ECF6",
                                            "radialaxis": {
                                                "gridcolor": "white",
                                                "linecolor": "white",
                                                "ticks": ""
                                            }
                                        },
                                        "scene": {
                                            "xaxis": {
                                                "backgroundcolor": "#E5ECF6",
                                                "gridcolor": "white",
                                                "gridwidth": 2,
                                                "linecolor": "white",
                                                "showbackground": true,
                                                "ticks": "",
                                                "zerolinecolor": "white"
                                            },
                                            "yaxis": {
                                                "backgroundcolor": "#E5ECF6",
                                                "gridcolor": "white",
                                                "gridwidth": 2,
                                                "linecolor": "white",
                                                "showbackground": true,
                                                "ticks": "",
                                                "zerolinecolor": "white"
                                            },
                                            "zaxis": {
                                                "backgroundcolor": "#E5ECF6",
                                                "gridcolor": "white",
                                                "gridwidth": 2,
                                                "linecolor": "white",
                                                "showbackground": true,
                                                "ticks": "",
                                                "zerolinecolor": "white"
                                            }
                                        },
                                        "shapedefaults": {
                                            "line": {
                                                "color": "#2a3f5f"
                                            }
                                        },
                                        "ternary": {
                                            "aaxis": {
                                                "gridcolor": "white",
                                                "linecolor": "white",
                                                "ticks": ""
                                            },
                                            "baxis": {
                                                "gridcolor": "white",
                                                "linecolor": "white",
                                                "ticks": ""
                                            },
                                            "bgcolor": "#E5ECF6",
                                            "caxis": {
                                                "gridcolor": "white",
                                                "linecolor": "white",
                                                "ticks": ""
                                            }
                                        },
                                        "title": {
                                            "x": 0.05
                                        },
                                        "xaxis": {
                                            "automargin": true,
                                            "gridcolor": "white",
                                            "linecolor": "white",
                                            "ticks": "",
                                            "title": {
                                                "standoff": 15
                                            },
                                            "zerolinecolor": "white",
                                            "zerolinewidth": 2
                                        },
                                        "yaxis": {
                                            "automargin": true,
                                            "gridcolor": "white",
                                            "linecolor": "white",
                                            "ticks": "",
                                            "title": {
                                                "standoff": 15
                                            },
                                            "zerolinecolor": "white",
                                            "zerolinewidth": 2
                                        }
                                    }
                                },
                                "title": {
                                    "text": "Dumbell plot of inferred AR vs ecFEV1%(>=10 points, last 30 days avg)"
                                },
                                "width": 1200,
                                "xaxis": {
                                    "anchor": "y",
                                    "domain": [
                                        0,
                                        0.26666666666666666
                                    ],
                                    "gridcolor": "#2a3f5f",
                                    "range": [
                                        -25,
                                        91
                                    ],
                                    "tickvals": [
                                        0,
                                        30,
                                        60,
                                        90
                                    ],
                                    "title": {
                                        "text": "Airway resistance (%)"
                                    },
                                    "zeroline": true,
                                    "zerolinecolor": "#2a3f5f",
                                    "zerolinewidth": 2
                                },
                                "xaxis2": {
                                    "anchor": "y2",
                                    "domain": [
                                        0.3666666666666667,
                                        0.6333333333333333
                                    ],
                                    "gridcolor": "#2a3f5f",
                                    "range": [
                                        -25,
                                        91
                                    ],
                                    "tickvals": [
                                        0,
                                        30,
                                        60,
                                        90
                                    ],
                                    "title": {
                                        "text": "Airway resistance (%)"
                                    },
                                    "zeroline": true,
                                    "zerolinecolor": "#2a3f5f",
                                    "zerolinewidth": 2
                                },
                                "xaxis3": {
                                    "anchor": "y3",
                                    "domain": [
                                        0.7333333333333334,
                                        1
                                    ],
                                    "gridcolor": "#2a3f5f",
                                    "range": [
                                        -25,
                                        91
                                    ],
                                    "tickvals": [
                                        0,
                                        30,
                                        60,
                                        90
                                    ],
                                    "title": {
                                        "text": "Airway resistance (%)"
                                    },
                                    "zeroline": true,
                                    "zerolinecolor": "#2a3f5f",
                                    "zerolinewidth": 2
                                },
                                "yaxis": {
                                    "anchor": "x",
                                    "domain": [
                                        0,
                                        1
                                    ],
                                    "gridcolor": "#2a3f5f",
                                    "showgrid": false,
                                    "showticklabels": false,
                                    "zeroline": true,
                                    "zerolinecolor": "#2a3f5f",
                                    "zerolinewidth": 2
                                },
                                "yaxis2": {
                                    "anchor": "x2",
                                    "domain": [
                                        0,
                                        1
                                    ],
                                    "gridcolor": "#2a3f5f",
                                    "showgrid": false,
                                    "showticklabels": false,
                                    "zeroline": true,
                                    "zerolinecolor": "#2a3f5f",
                                    "zerolinewidth": 2
                                },
                                "yaxis3": {
                                    "anchor": "x3",
                                    "domain": [
                                        0,
                                        1
                                    ],
                                    "gridcolor": "#2a3f5f",
                                    "showgrid": false,
                                    "showticklabels": false,
                                    "zeroline": true,
                                    "zerolinecolor": "#2a3f5f",
                                    "zerolinewidth": 2
                                }
                            }
                        }
                    },
                    "metadata": {},
                    "output_type": "display_data"
                }
            ],
            "source": [
                "# Adding 2nd day massively reduces the AR compared to examples with low ecFEV1\n",
                "\n",
                "import plotly.graph_objects as go\n",
                "\n",
                "title = f\"Dumbell plot of inferred AR vs ecFEV1%(>={min_datapoints} points, last 30 days avg)\"\n",
                "\n",
                "\n",
                "fig = make_subplots(1, 3, horizontal_spacing=0.1, \n",
                "                    column_titles=[\"Mild CF\", \"Moderate CF\", \"Severe CF\"])\n",
                "\n",
                "\n",
                "def plot_dumbell_for_df(fig, df, measures, col):\n",
                "    # For measure[0]\n",
                "    mask = df[\"measure\"] == measures[0]\n",
                "    for id in df[mask][\"ID\"].unique():\n",
                "        mask_id = df[\"ID\"] == id\n",
                "        # Add mask\n",
                "        mask_final = mask_id & mask\n",
                "        fig.add_trace(\n",
                "            go.Scatter(\n",
                "                x=df[mask_final][\"value\"],\n",
                "                y=df[mask_final][\"ID\"],\n",
                "                mode=\"lines\",\n",
                "                name=\"Airway resistance inferred\",\n",
                "                marker=dict(size=2, color=\"red\"),\n",
                "                line=dict(width=2),\n",
                "                # legendgroup=\"Airway resistance predicted\",  # Add legend group\n",
                "                showlegend=True if id == df[mask][\"ID\"].unique()[0] else False,  # Only show legend for first trace\n",
                "            ),\n",
                "            row=1,\n",
                "            col=col,\n",
                "        )\n",
                "    # For measure[1]\n",
                "    mask = df[\"measure\"] == measures[1]\n",
                "    fig.add_trace(\n",
                "        go.Scatter(\n",
                "            x=df[mask][\"value\"],\n",
                "            y=df[mask][\"ID\"],\n",
                "            mode=\"markers\",\n",
                "            name=\"1 - ecFEV1%Predicted\",\n",
                "            marker=dict(size=3, color=\"blue\"),\n",
                "            # legendgroup=\"1 - ecFEV1%Predicted\",  # Add legend group\n",
                "        ),\n",
                "        row=1,\n",
                "        col=col,\n",
                "    )\n",
                "\n",
                "# df_to_plot = df_ar_fev1_o2_2d_dumbell\n",
                "# ar_col = \"AR_fev1_o2_2d\"\n",
                "\n",
                "df_to_plot = df_ar_fev1_o2_fef2575_2d_dumbell\n",
                "ar_col = \"AR_fev1_o2_fef2575_2d\"\n",
                "\n",
                "\n",
                "# Split dataframe between mild, moderate and severe CF lung disease\n",
                "# Equivalent to Mean AR_ecFEV1% < 30%, 30 to 60 and > 60%\n",
                "# Get unique IDs and their corresponding Mean AR_ecFEV1% values\n",
                "mask_ecfev1 = df_to_plot[\"measure\"] == f\"Mean {ar_col} prediction\"\n",
                "\n",
                "id_ecfev1_values = df_to_plot[mask_ecfev1].groupby(\"ID\")[\"value\"].mean()\n",
                "\n",
                "# Split IDs into three groups based on ecFEV1% values\n",
                "mild_ids = id_ecfev1_values[id_ecfev1_values < 30].index\n",
                "moderate_ids = id_ecfev1_values[(id_ecfev1_values >= 30) & (id_ecfev1_values <= 60)].index\n",
                "severe_ids = id_ecfev1_values[id_ecfev1_values > 60].index\n",
                "\n",
                "# Create the three dataframes\n",
                "df_mild = df_to_plot[df_to_plot[\"ID\"].isin(mild_ids)]\n",
                "df_moderate = df_to_plot[df_to_plot[\"ID\"].isin(moderate_ids)]\n",
                "df_severe = df_to_plot[df_to_plot[\"ID\"].isin(severe_ids)]\n",
                "\n",
                "# Print the sizes to verify\n",
                "print(f\"Mild size: {len(df_mild)}\")\n",
                "print(f\"Moderate size: {len(df_moderate)}\")\n",
                "print(f\"Severe size: {len(df_severe)}\")\n",
                "\n",
                "# Plot the three groups\n",
                "plot_dumbell_for_df(fig, df_mild, [f\"Mean {ar_col} dist\", \"Mean AR_ecFEV1%\"], 1)\n",
                "plot_dumbell_for_df(fig, df_moderate, [f\"Mean {ar_col} dist\", \"Mean AR_ecFEV1%\"], 2)\n",
                "plot_dumbell_for_df(fig, df_severe, [f\"Mean {ar_col} dist\", \"Mean AR_ecFEV1%\"], 3)\n",
                "\n",
                "\n",
                "\n",
                "# Split the dataframe into 3 roughly equal parts\n",
                "#\n",
                "#\n",
                "# ids = df_ar_fev1_o2_fef2575_2d.ID.unique()\n",
                "# chunk_size = int(np.ceil(len(ids) // 3))\n",
                "#\n",
                "# # Get first chunk\n",
                "# chunk1_ids = ids[0:chunk_size]\n",
                "#\n",
                "# # Get second chunk\n",
                "# chunk2_ids = ids[chunk_size:2*chunk_size]\n",
                "#\n",
                "# # Get third chunk\n",
                "# chunk3_ids = ids[2*chunk_size:len(ids)]\n",
                "#\n",
                "# # Create the three dataframes\n",
                "# df_ar_fev1_o2_fef2575_2d_chunk1 = df_ar_fev1_o2_fef2575_2d.set_index(\"ID\").loc[chunk1_ids].reset_index()\n",
                "# df_ar_fev1_o2_fef2575_2d_chunk2 = df_ar_fev1_o2_fef2575_2d.set_index(\"ID\").loc[chunk2_ids].reset_index()\n",
                "# df_ar_fev1_o2_fef2575_2d_chunk3 = df_ar_fev1_o2_fef2575_2d.set_index(\"ID\").loc[chunk3_ids].reset_index()\n",
                "#\n",
                "# Print the sizes to verify\n",
                "# print(f\"Chunk 1 size: {len(df_ar_fev1_o2_fef2575_2d_chunk1)}\")\n",
                "# print(f\"Chunk 2 size: {len(df_ar_fev1_o2_fef2575_2d_chunk2)}\")\n",
                "# print(f\"Chunk 3 size: {len(df_ar_fev1_o2_fef2575_2d_chunk3)}\")\n",
                "#\n",
                "# plot_dumbell_for_df(fig, df_ar_fev1_o2_fef2575_2d_chunk1, [\"Mean AR_fev1_o2_fef2575_2d dist\", \"Mean AR_ecFEV1%\"], 3)\n",
                "# plot_dumbell_for_df(fig, df_ar_fev1_o2_fef2575_2d_chunk2, [\"Mean AR_fev1_o2_fef2575_2d dist\", \"Mean AR_ecFEV1%\"], 2)\n",
                "# plot_dumbell_for_df(fig, df_ar_fev1_o2_fef2575_2d_chunk3, [\"Mean AR_fev1_o2_fef2575_2d dist\", \"Mean AR_ecFEV1%\"], 1)\n",
                "\n",
                "\n",
                "# Compare different models\n",
                "#\n",
                "#\n",
                "# plot_dumbell_for_df(fig, df_ar_fev1_o2, [\"Mean AR_fev1_o2 dist\", \"Mean AR_ecFEV1%\"], 1)\n",
                "# plot_dumbell_for_df(fig, df_ar_fev1_o2_2d, [\"Mean AR_fev1_o2_2d dist\", \"Mean AR_ecFEV1%\"], 2)\n",
                "\n",
                "\n",
                "fig.update_layout(\n",
                "    height=800,\n",
                "    # height=1800,\n",
                "    width=1200,\n",
                "    font=dict(size=10),\n",
                "    showlegend=True,\n",
                "    title=title,\n",
                "    plot_bgcolor=\"white\",\n",
                "    paper_bgcolor=\"white\",\n",
                ")\n",
                "print(min(df_to_plot[\"value\"]))\n",
                "fig.update_xaxes(\n",
                "    range=[-25, 91],\n",
                "    tickvals=[0, 30, 60, 90],\n",
                "    title=AR.name,\n",
                "    gridcolor=\"#2a3f5f\",\n",
                "    zeroline=True,\n",
                "    zerolinecolor=\"#2a3f5f\",\n",
                "    zerolinewidth=2,\n",
                ")\n",
                "fig.update_yaxes(\n",
                "    showticklabels=False,\n",
                "    showgrid=False,\n",
                "    gridcolor=\"#2a3f5f\",\n",
                "    zeroline=True,\n",
                "    zerolinecolor=\"#2a3f5f\",\n",
                "    zerolinewidth=2,\n",
                ")\n",
                "# fig.write_image(f\"{dh.get_path_to_main()}PlotsBreathe/Dumbell_plot_AR_ecFEV1_by_severity/{title}.pdf\")\n",
                "fig.show()\n",
                "\n",
                "# On this plot, if a person is very sick, it's best fev1 measurement will contain a lot of inflammatory markers (sputum, airway wall inflammation).\n",
                "# The sicker the person,the more underestimated the AR pred is because the maximum FEV1 blown is not healthy.\n",
                "# Let's add the FEF25-75.\n",
                "\n",
                "# 60% of data falls within red band\n",
                "\n",
                "# TODO: add vertical lines corresponding to key AR values\n",
                "\n",
                "# Longitudinal AR profile on the web app"
            ]
        },
        {
            "cell_type": "code",
            "execution_count": 97,
            "metadata": {},
            "outputs": [
                {
                    "data": {
                        "text/html": [
                            "<div>\n",
                            "<style scoped>\n",
                            "    .dataframe tbody tr th:only-of-type {\n",
                            "        vertical-align: middle;\n",
                            "    }\n",
                            "\n",
                            "    .dataframe tbody tr th {\n",
                            "        vertical-align: top;\n",
                            "    }\n",
                            "\n",
                            "    .dataframe thead th {\n",
                            "        text-align: right;\n",
                            "    }\n",
                            "</style>\n",
                            "<table border=\"1\" class=\"dataframe\">\n",
                            "  <thead>\n",
                            "    <tr style=\"text-align: right;\">\n",
                            "      <th></th>\n",
                            "      <th>ID</th>\n",
                            "      <th>Mean AR_fev1_o2_fef2575_2d std</th>\n",
                            "      <th>Mean AR_fev1_o2_fef2575_2d prediction</th>\n",
                            "      <th>Mean AR_ecFEV1%</th>\n",
                            "      <th>Mean AR_fev1_o2_fef2575_2d - AR_ecFEV1%</th>\n",
                            "      <th>Mean AR_fev1_o2_fef2575_2d low</th>\n",
                            "      <th>Mean AR_fev1_o2_fef2575_2d high</th>\n",
                            "    </tr>\n",
                            "  </thead>\n",
                            "  <tbody>\n",
                            "    <tr>\n",
                            "      <th>0</th>\n",
                            "      <td>101</td>\n",
                            "      <td>8.438176</td>\n",
                            "      <td>46.457948</td>\n",
                            "      <td>53.084821</td>\n",
                            "      <td>-6.626873</td>\n",
                            "      <td>38.019772</td>\n",
                            "      <td>54.896124</td>\n",
                            "    </tr>\n",
                            "    <tr>\n",
                            "      <th>1</th>\n",
                            "      <td>102</td>\n",
                            "      <td>6.733254</td>\n",
                            "      <td>57.479146</td>\n",
                            "      <td>65.998821</td>\n",
                            "      <td>-8.519676</td>\n",
                            "      <td>50.745892</td>\n",
                            "      <td>64.212400</td>\n",
                            "    </tr>\n",
                            "    <tr>\n",
                            "      <th>2</th>\n",
                            "      <td>103</td>\n",
                            "      <td>5.814788</td>\n",
                            "      <td>47.792765</td>\n",
                            "      <td>47.272040</td>\n",
                            "      <td>0.520725</td>\n",
                            "      <td>41.977977</td>\n",
                            "      <td>53.607553</td>\n",
                            "    </tr>\n",
                            "    <tr>\n",
                            "      <th>3</th>\n",
                            "      <td>104</td>\n",
                            "      <td>3.694597</td>\n",
                            "      <td>34.739397</td>\n",
                            "      <td>23.965772</td>\n",
                            "      <td>10.773625</td>\n",
                            "      <td>31.044800</td>\n",
                            "      <td>38.433994</td>\n",
                            "    </tr>\n",
                            "    <tr>\n",
                            "      <th>4</th>\n",
                            "      <td>106</td>\n",
                            "      <td>6.843196</td>\n",
                            "      <td>44.950632</td>\n",
                            "      <td>48.011091</td>\n",
                            "      <td>-3.060460</td>\n",
                            "      <td>38.107435</td>\n",
                            "      <td>51.793828</td>\n",
                            "    </tr>\n",
                            "  </tbody>\n",
                            "</table>\n",
                            "</div>"
                        ],
                        "text/plain": [
                            "    ID  Mean AR_fev1_o2_fef2575_2d std  Mean AR_fev1_o2_fef2575_2d prediction  \\\n",
                            "0  101                        8.438176                              46.457948   \n",
                            "1  102                        6.733254                              57.479146   \n",
                            "2  103                        5.814788                              47.792765   \n",
                            "3  104                        3.694597                              34.739397   \n",
                            "4  106                        6.843196                              44.950632   \n",
                            "\n",
                            "   Mean AR_ecFEV1%  Mean AR_fev1_o2_fef2575_2d - AR_ecFEV1%  \\\n",
                            "0        53.084821                                -6.626873   \n",
                            "1        65.998821                                -8.519676   \n",
                            "2        47.272040                                 0.520725   \n",
                            "3        23.965772                                10.773625   \n",
                            "4        48.011091                                -3.060460   \n",
                            "\n",
                            "   Mean AR_fev1_o2_fef2575_2d low  Mean AR_fev1_o2_fef2575_2d high  \n",
                            "0                       38.019772                        54.896124  \n",
                            "1                       50.745892                        64.212400  \n",
                            "2                       41.977977                        53.607553  \n",
                            "3                       31.044800                        38.433994  \n",
                            "4                       38.107435                        51.793828  "
                        ]
                    },
                    "execution_count": 97,
                    "metadata": {},
                    "output_type": "execute_result"
                }
            ],
            "source": [
                "df_ar_fev1_o2_fef2575_2d_means.head()"
            ]
        },
        {
            "cell_type": "code",
            "execution_count": 99,
            "metadata": {},
            "outputs": [
                {
                    "name": "stdout",
                    "output_type": "stream",
                    "text": [
                        "Number of individuals with Mean AR_ecFEV1% below Mean AR_fev1_o2_fef2575_2d lower bound: 40\n",
                        "Percentage: 15.1%\n",
                        "Number of individuals with Mean AR_ecFEV1% above Mean AR_fev1_o2_fef2575_2d upper bound: 32\n",
                        "Percentage: 12.1%\n"
                    ]
                }
            ],
            "source": [
                "# For who many people would this model be really useful?\n",
                "\n",
                "# Count number of individuals where Mean AR_ecFEV1% is below the lower bound of AR_fev1_o2_fef2575_2d\n",
                "mask = df_ar_fev1_o2_fef2575_2d_means['Mean AR_ecFEV1%'] < df_ar_fev1_o2_fef2575_2d_means['Mean AR_fev1_o2_fef2575_2d low']\n",
                "count_below_lower = mask.sum()\n",
                "print(f\"Number of individuals with Mean AR_ecFEV1% below Mean AR_fev1_o2_fef2575_2d lower bound: {count_below_lower}\")\n",
                "print(f\"Percentage: {count_below_lower/len(df_ar_fev1_o2_fef2575_2d_means)*100:.1f}%\")\n",
                "\n",
                "# Count number of individuals where Mean AR_ecFEV1% is above the upper bound of Mean AR_fev1_o2_fef2575_2d\n",
                "mask = df_ar_fev1_o2_fef2575_2d_means['Mean AR_ecFEV1%'] > df_ar_fev1_o2_fef2575_2d_means['Mean AR_fev1_o2_fef2575_2d high']\n",
                "count_above_upper = mask.sum()\n",
                "print(f\"Number of individuals with Mean AR_ecFEV1% above Mean AR_fev1_o2_fef2575_2d upper bound: {count_above_upper}\")\n",
                "print(f\"Percentage: {count_above_upper/len(df_ar_fev1_o2_fef2575_2d_means)*100:.1f}%\")\n"
            ]
        },
        {
            "cell_type": "code",
            "execution_count": 114,
            "metadata": {},
            "outputs": [],
            "source": [
                "ids_ecfev1prct_60 = df_ar_fev1_o2_fef2575_2d_means[df_ar_fev1_o2_fef2575_2d_means['Mean AR_ecFEV1%'] > 60].ID.unique()"
            ]
        },
        {
            "cell_type": "code",
            "execution_count": 115,
            "metadata": {},
            "outputs": [],
            "source": [
                "ids_ar_60 = df_ar_fev1_o2_fef2575_2d_means[df_ar_fev1_o2_fef2575_2d_means['Mean AR_fev1_o2_fef2575_2d prediction'] > 60].ID.unique()"
            ]
        },
        {
            "cell_type": "code",
            "execution_count": 117,
            "metadata": {},
            "outputs": [
                {
                    "name": "stdout",
                    "output_type": "stream",
                    "text": [
                        "['102', '111', '120', '122', '127', '155', '162', '187', '194', '248', '282', '283', '361', '362', '377', '404', '409', '411', '413', '417', '421', '422', '452', '484', '486', '520']\n",
                        "['111', '122', '155', '187', '282', '283', '361', '362', '377', '404', '409', '411', '413', '417', '421', '422', '452', '486', '520']\n"
                    ]
                }
            ],
            "source": [
                "print(list(ids_ecfev1prct_60))\n",
                "print(list(ids_ar_60))\n"
            ]
        },
        {
            "cell_type": "code",
            "execution_count": 250,
            "metadata": {},
            "outputs": [
                {
                    "data": {
                        "text/html": [
                            "<div>\n",
                            "<style scoped>\n",
                            "    .dataframe tbody tr th:only-of-type {\n",
                            "        vertical-align: middle;\n",
                            "    }\n",
                            "\n",
                            "    .dataframe tbody tr th {\n",
                            "        vertical-align: top;\n",
                            "    }\n",
                            "\n",
                            "    .dataframe thead th {\n",
                            "        text-align: right;\n",
                            "    }\n",
                            "</style>\n",
                            "<table border=\"1\" class=\"dataframe\">\n",
                            "  <thead>\n",
                            "    <tr style=\"text-align: right;\">\n",
                            "      <th></th>\n",
                            "      <th>count</th>\n",
                            "    </tr>\n",
                            "    <tr>\n",
                            "      <th>ID</th>\n",
                            "      <th></th>\n",
                            "    </tr>\n",
                            "  </thead>\n",
                            "  <tbody>\n",
                            "    <tr>\n",
                            "      <th>372</th>\n",
                            "      <td>41</td>\n",
                            "    </tr>\n",
                            "    <tr>\n",
                            "      <th>202</th>\n",
                            "      <td>130</td>\n",
                            "    </tr>\n",
                            "    <tr>\n",
                            "      <th>530</th>\n",
                            "      <td>205</td>\n",
                            "    </tr>\n",
                            "    <tr>\n",
                            "      <th>104</th>\n",
                            "      <td>222</td>\n",
                            "    </tr>\n",
                            "    <tr>\n",
                            "      <th>433</th>\n",
                            "      <td>60</td>\n",
                            "    </tr>\n",
                            "    <tr>\n",
                            "      <th>417</th>\n",
                            "      <td>20</td>\n",
                            "    </tr>\n",
                            "  </tbody>\n",
                            "</table>\n",
                            "</div>"
                        ],
                        "text/plain": [
                            "     count\n",
                            "ID        \n",
                            "372     41\n",
                            "202    130\n",
                            "530    205\n",
                            "104    222\n",
                            "433     60\n",
                            "417     20"
                        ]
                    },
                    "execution_count": 250,
                    "metadata": {},
                    "output_type": "execute_result"
                }
            ],
            "source": [
                "df_count.set_index(\"ID\").loc[[\"372\", \"202\", \"530\", \"104\", \"433\", \"417\"]]"
            ]
        },
        {
            "cell_type": "markdown",
            "metadata": {},
            "source": [
                "# Compute breathe avg "
            ]
        },
        {
            "cell_type": "code",
            "execution_count": 64,
            "metadata": {},
            "outputs": [],
            "source": [
                "ar_dist_BR = df_res.groupby(\"ID\").apply(lambda df: df['AR_fev1_o2_2d'].mean()).mean()"
            ]
        },
        {
            "cell_type": "code",
            "execution_count": 66,
            "metadata": {},
            "outputs": [],
            "source": [
                "ar_dist_SC = df_sc.groupby(\"ID\").apply(lambda df: df['AR_fev1_o2_2d'].mean()).mean()"
            ]
        },
        {
            "cell_type": "code",
            "execution_count": 79,
            "metadata": {},
            "outputs": [
                {
                    "data": {
                        "application/vnd.plotly.v1+json": {
                            "config": {
                                "plotlyServerURL": "https://plot.ly"
                            },
                            "data": [
                                {
                                    "histfunc": "sum",
                                    "name": "Breathe data",
                                    "type": "histogram",
                                    "x": [
                                        0,
                                        2,
                                        4,
                                        6,
                                        8,
                                        10,
                                        12,
                                        14,
                                        16,
                                        18,
                                        20,
                                        22,
                                        24,
                                        26,
                                        28,
                                        30,
                                        32,
                                        34,
                                        36,
                                        38,
                                        40,
                                        42,
                                        44,
                                        46,
                                        48,
                                        50,
                                        52,
                                        54,
                                        56,
                                        58,
                                        60,
                                        62,
                                        64,
                                        66,
                                        68,
                                        70,
                                        72,
                                        74,
                                        76,
                                        78,
                                        80,
                                        82,
                                        84,
                                        86,
                                        88
                                    ],
                                    "xaxis": "x",
                                    "xbins": {
                                        "end": 90,
                                        "size": 2,
                                        "start": 0
                                    },
                                    "y": [
                                        0.012181578648840426,
                                        0.017483838736918715,
                                        0.023190134944574337,
                                        0.028526711720695267,
                                        0.03287083751431506,
                                        0.03593072898676513,
                                        0.037994217532400405,
                                        0.03927002546761759,
                                        0.039900032635973026,
                                        0.03999754650792556,
                                        0.03972730424755377,
                                        0.0393202480395019,
                                        0.03908259906052242,
                                        0.03907225648993184,
                                        0.0392136646282861,
                                        0.03963741559277847,
                                        0.04025298488529882,
                                        0.03964439031702133,
                                        0.0364920507694208,
                                        0.032359711937311846,
                                        0.028487861145566565,
                                        0.02564251830958817,
                                        0.023527161370972285,
                                        0.022042191692586716,
                                        0.021218929263967696,
                                        0.020841639405043598,
                                        0.020617929619437283,
                                        0.020263840786107903,
                                        0.019500073784917187,
                                        0.01849416299985333,
                                        0.017057277010999357,
                                        0.015342402610976842,
                                        0.013369698083493763,
                                        0.011835631898116749,
                                        0.009778772518687166,
                                        0.007626635492083391,
                                        0.005096209781028183,
                                        0.0028925773086629055,
                                        0.0016364952237078712,
                                        0.0012020799413401523,
                                        0.0008792561241362791,
                                        0.0004063821091221383,
                                        0.00008480934935733034,
                                        0.000007019240428975745,
                                        1.662755409593314e-7
                                    ],
                                    "yaxis": "y"
                                },
                                {
                                    "histfunc": "sum",
                                    "name": "Smartcare data",
                                    "type": "histogram",
                                    "x": [
                                        0,
                                        2,
                                        4,
                                        6,
                                        8,
                                        10,
                                        12,
                                        14,
                                        16,
                                        18,
                                        20,
                                        22,
                                        24,
                                        26,
                                        28,
                                        30,
                                        32,
                                        34,
                                        36,
                                        38,
                                        40,
                                        42,
                                        44,
                                        46,
                                        48,
                                        50,
                                        52,
                                        54,
                                        56,
                                        58,
                                        60,
                                        62,
                                        64,
                                        66,
                                        68,
                                        70,
                                        72,
                                        74,
                                        76,
                                        78,
                                        80,
                                        82,
                                        84,
                                        86,
                                        88
                                    ],
                                    "xaxis": "x2",
                                    "xbins": {
                                        "end": 90,
                                        "size": 2,
                                        "start": 0
                                    },
                                    "y": [
                                        0.0013377695823257566,
                                        0.0024330573446163664,
                                        0.004211203292457502,
                                        0.0065909190060009885,
                                        0.00913465095366851,
                                        0.011507596782460145,
                                        0.013683376928558748,
                                        0.015616686075328179,
                                        0.01724988340696875,
                                        0.01871799936393327,
                                        0.020121367526564193,
                                        0.021485078343114496,
                                        0.022892071270518524,
                                        0.024360271860679662,
                                        0.0257462502426159,
                                        0.02700073247804145,
                                        0.028280922779683786,
                                        0.029156748152899672,
                                        0.02912416297135149,
                                        0.0289081201596407,
                                        0.029179966438581388,
                                        0.0300048639453165,
                                        0.03131956409415684,
                                        0.033109136392992636,
                                        0.03521995315401341,
                                        0.03749758982312529,
                                        0.03972006458008947,
                                        0.04122798340369167,
                                        0.041460928007681044,
                                        0.04058187023451178,
                                        0.03860183374339097,
                                        0.036254973430490056,
                                        0.034236096945989336,
                                        0.03318424066779224,
                                        0.03185596107447562,
                                        0.029793033795030784,
                                        0.025973189317648478,
                                        0.020755812895118825,
                                        0.01479004390881051,
                                        0.00904505225218312,
                                        0.004904317711971564,
                                        0.0025078153531351666,
                                        0.0010148339619930565,
                                        0.00019333204205867154,
                                        0.00000867431749701106
                                    ],
                                    "yaxis": "y2"
                                }
                            ],
                            "layout": {
                                "font": {
                                    "size": 10
                                },
                                "height": 400,
                                "showlegend": true,
                                "template": {
                                    "data": {
                                        "bar": [
                                            {
                                                "error_x": {
                                                    "color": "#2a3f5f"
                                                },
                                                "error_y": {
                                                    "color": "#2a3f5f"
                                                },
                                                "marker": {
                                                    "line": {
                                                        "color": "#E5ECF6",
                                                        "width": 0.5
                                                    },
                                                    "pattern": {
                                                        "fillmode": "overlay",
                                                        "size": 10,
                                                        "solidity": 0.2
                                                    }
                                                },
                                                "type": "bar"
                                            }
                                        ],
                                        "barpolar": [
                                            {
                                                "marker": {
                                                    "line": {
                                                        "color": "#E5ECF6",
                                                        "width": 0.5
                                                    },
                                                    "pattern": {
                                                        "fillmode": "overlay",
                                                        "size": 10,
                                                        "solidity": 0.2
                                                    }
                                                },
                                                "type": "barpolar"
                                            }
                                        ],
                                        "carpet": [
                                            {
                                                "aaxis": {
                                                    "endlinecolor": "#2a3f5f",
                                                    "gridcolor": "white",
                                                    "linecolor": "white",
                                                    "minorgridcolor": "white",
                                                    "startlinecolor": "#2a3f5f"
                                                },
                                                "baxis": {
                                                    "endlinecolor": "#2a3f5f",
                                                    "gridcolor": "white",
                                                    "linecolor": "white",
                                                    "minorgridcolor": "white",
                                                    "startlinecolor": "#2a3f5f"
                                                },
                                                "type": "carpet"
                                            }
                                        ],
                                        "choropleth": [
                                            {
                                                "colorbar": {
                                                    "outlinewidth": 0,
                                                    "ticks": ""
                                                },
                                                "type": "choropleth"
                                            }
                                        ],
                                        "contour": [
                                            {
                                                "colorbar": {
                                                    "outlinewidth": 0,
                                                    "ticks": ""
                                                },
                                                "colorscale": [
                                                    [
                                                        0,
                                                        "#0d0887"
                                                    ],
                                                    [
                                                        0.1111111111111111,
                                                        "#46039f"
                                                    ],
                                                    [
                                                        0.2222222222222222,
                                                        "#7201a8"
                                                    ],
                                                    [
                                                        0.3333333333333333,
                                                        "#9c179e"
                                                    ],
                                                    [
                                                        0.4444444444444444,
                                                        "#bd3786"
                                                    ],
                                                    [
                                                        0.5555555555555556,
                                                        "#d8576b"
                                                    ],
                                                    [
                                                        0.6666666666666666,
                                                        "#ed7953"
                                                    ],
                                                    [
                                                        0.7777777777777778,
                                                        "#fb9f3a"
                                                    ],
                                                    [
                                                        0.8888888888888888,
                                                        "#fdca26"
                                                    ],
                                                    [
                                                        1,
                                                        "#f0f921"
                                                    ]
                                                ],
                                                "type": "contour"
                                            }
                                        ],
                                        "contourcarpet": [
                                            {
                                                "colorbar": {
                                                    "outlinewidth": 0,
                                                    "ticks": ""
                                                },
                                                "type": "contourcarpet"
                                            }
                                        ],
                                        "heatmap": [
                                            {
                                                "colorbar": {
                                                    "outlinewidth": 0,
                                                    "ticks": ""
                                                },
                                                "colorscale": [
                                                    [
                                                        0,
                                                        "#0d0887"
                                                    ],
                                                    [
                                                        0.1111111111111111,
                                                        "#46039f"
                                                    ],
                                                    [
                                                        0.2222222222222222,
                                                        "#7201a8"
                                                    ],
                                                    [
                                                        0.3333333333333333,
                                                        "#9c179e"
                                                    ],
                                                    [
                                                        0.4444444444444444,
                                                        "#bd3786"
                                                    ],
                                                    [
                                                        0.5555555555555556,
                                                        "#d8576b"
                                                    ],
                                                    [
                                                        0.6666666666666666,
                                                        "#ed7953"
                                                    ],
                                                    [
                                                        0.7777777777777778,
                                                        "#fb9f3a"
                                                    ],
                                                    [
                                                        0.8888888888888888,
                                                        "#fdca26"
                                                    ],
                                                    [
                                                        1,
                                                        "#f0f921"
                                                    ]
                                                ],
                                                "type": "heatmap"
                                            }
                                        ],
                                        "heatmapgl": [
                                            {
                                                "colorbar": {
                                                    "outlinewidth": 0,
                                                    "ticks": ""
                                                },
                                                "colorscale": [
                                                    [
                                                        0,
                                                        "#0d0887"
                                                    ],
                                                    [
                                                        0.1111111111111111,
                                                        "#46039f"
                                                    ],
                                                    [
                                                        0.2222222222222222,
                                                        "#7201a8"
                                                    ],
                                                    [
                                                        0.3333333333333333,
                                                        "#9c179e"
                                                    ],
                                                    [
                                                        0.4444444444444444,
                                                        "#bd3786"
                                                    ],
                                                    [
                                                        0.5555555555555556,
                                                        "#d8576b"
                                                    ],
                                                    [
                                                        0.6666666666666666,
                                                        "#ed7953"
                                                    ],
                                                    [
                                                        0.7777777777777778,
                                                        "#fb9f3a"
                                                    ],
                                                    [
                                                        0.8888888888888888,
                                                        "#fdca26"
                                                    ],
                                                    [
                                                        1,
                                                        "#f0f921"
                                                    ]
                                                ],
                                                "type": "heatmapgl"
                                            }
                                        ],
                                        "histogram": [
                                            {
                                                "marker": {
                                                    "pattern": {
                                                        "fillmode": "overlay",
                                                        "size": 10,
                                                        "solidity": 0.2
                                                    }
                                                },
                                                "type": "histogram"
                                            }
                                        ],
                                        "histogram2d": [
                                            {
                                                "colorbar": {
                                                    "outlinewidth": 0,
                                                    "ticks": ""
                                                },
                                                "colorscale": [
                                                    [
                                                        0,
                                                        "#0d0887"
                                                    ],
                                                    [
                                                        0.1111111111111111,
                                                        "#46039f"
                                                    ],
                                                    [
                                                        0.2222222222222222,
                                                        "#7201a8"
                                                    ],
                                                    [
                                                        0.3333333333333333,
                                                        "#9c179e"
                                                    ],
                                                    [
                                                        0.4444444444444444,
                                                        "#bd3786"
                                                    ],
                                                    [
                                                        0.5555555555555556,
                                                        "#d8576b"
                                                    ],
                                                    [
                                                        0.6666666666666666,
                                                        "#ed7953"
                                                    ],
                                                    [
                                                        0.7777777777777778,
                                                        "#fb9f3a"
                                                    ],
                                                    [
                                                        0.8888888888888888,
                                                        "#fdca26"
                                                    ],
                                                    [
                                                        1,
                                                        "#f0f921"
                                                    ]
                                                ],
                                                "type": "histogram2d"
                                            }
                                        ],
                                        "histogram2dcontour": [
                                            {
                                                "colorbar": {
                                                    "outlinewidth": 0,
                                                    "ticks": ""
                                                },
                                                "colorscale": [
                                                    [
                                                        0,
                                                        "#0d0887"
                                                    ],
                                                    [
                                                        0.1111111111111111,
                                                        "#46039f"
                                                    ],
                                                    [
                                                        0.2222222222222222,
                                                        "#7201a8"
                                                    ],
                                                    [
                                                        0.3333333333333333,
                                                        "#9c179e"
                                                    ],
                                                    [
                                                        0.4444444444444444,
                                                        "#bd3786"
                                                    ],
                                                    [
                                                        0.5555555555555556,
                                                        "#d8576b"
                                                    ],
                                                    [
                                                        0.6666666666666666,
                                                        "#ed7953"
                                                    ],
                                                    [
                                                        0.7777777777777778,
                                                        "#fb9f3a"
                                                    ],
                                                    [
                                                        0.8888888888888888,
                                                        "#fdca26"
                                                    ],
                                                    [
                                                        1,
                                                        "#f0f921"
                                                    ]
                                                ],
                                                "type": "histogram2dcontour"
                                            }
                                        ],
                                        "mesh3d": [
                                            {
                                                "colorbar": {
                                                    "outlinewidth": 0,
                                                    "ticks": ""
                                                },
                                                "type": "mesh3d"
                                            }
                                        ],
                                        "parcoords": [
                                            {
                                                "line": {
                                                    "colorbar": {
                                                        "outlinewidth": 0,
                                                        "ticks": ""
                                                    }
                                                },
                                                "type": "parcoords"
                                            }
                                        ],
                                        "pie": [
                                            {
                                                "automargin": true,
                                                "type": "pie"
                                            }
                                        ],
                                        "scatter": [
                                            {
                                                "fillpattern": {
                                                    "fillmode": "overlay",
                                                    "size": 10,
                                                    "solidity": 0.2
                                                },
                                                "type": "scatter"
                                            }
                                        ],
                                        "scatter3d": [
                                            {
                                                "line": {
                                                    "colorbar": {
                                                        "outlinewidth": 0,
                                                        "ticks": ""
                                                    }
                                                },
                                                "marker": {
                                                    "colorbar": {
                                                        "outlinewidth": 0,
                                                        "ticks": ""
                                                    }
                                                },
                                                "type": "scatter3d"
                                            }
                                        ],
                                        "scattercarpet": [
                                            {
                                                "marker": {
                                                    "colorbar": {
                                                        "outlinewidth": 0,
                                                        "ticks": ""
                                                    }
                                                },
                                                "type": "scattercarpet"
                                            }
                                        ],
                                        "scattergeo": [
                                            {
                                                "marker": {
                                                    "colorbar": {
                                                        "outlinewidth": 0,
                                                        "ticks": ""
                                                    }
                                                },
                                                "type": "scattergeo"
                                            }
                                        ],
                                        "scattergl": [
                                            {
                                                "marker": {
                                                    "colorbar": {
                                                        "outlinewidth": 0,
                                                        "ticks": ""
                                                    }
                                                },
                                                "type": "scattergl"
                                            }
                                        ],
                                        "scattermapbox": [
                                            {
                                                "marker": {
                                                    "colorbar": {
                                                        "outlinewidth": 0,
                                                        "ticks": ""
                                                    }
                                                },
                                                "type": "scattermapbox"
                                            }
                                        ],
                                        "scatterpolar": [
                                            {
                                                "marker": {
                                                    "colorbar": {
                                                        "outlinewidth": 0,
                                                        "ticks": ""
                                                    }
                                                },
                                                "type": "scatterpolar"
                                            }
                                        ],
                                        "scatterpolargl": [
                                            {
                                                "marker": {
                                                    "colorbar": {
                                                        "outlinewidth": 0,
                                                        "ticks": ""
                                                    }
                                                },
                                                "type": "scatterpolargl"
                                            }
                                        ],
                                        "scatterternary": [
                                            {
                                                "marker": {
                                                    "colorbar": {
                                                        "outlinewidth": 0,
                                                        "ticks": ""
                                                    }
                                                },
                                                "type": "scatterternary"
                                            }
                                        ],
                                        "surface": [
                                            {
                                                "colorbar": {
                                                    "outlinewidth": 0,
                                                    "ticks": ""
                                                },
                                                "colorscale": [
                                                    [
                                                        0,
                                                        "#0d0887"
                                                    ],
                                                    [
                                                        0.1111111111111111,
                                                        "#46039f"
                                                    ],
                                                    [
                                                        0.2222222222222222,
                                                        "#7201a8"
                                                    ],
                                                    [
                                                        0.3333333333333333,
                                                        "#9c179e"
                                                    ],
                                                    [
                                                        0.4444444444444444,
                                                        "#bd3786"
                                                    ],
                                                    [
                                                        0.5555555555555556,
                                                        "#d8576b"
                                                    ],
                                                    [
                                                        0.6666666666666666,
                                                        "#ed7953"
                                                    ],
                                                    [
                                                        0.7777777777777778,
                                                        "#fb9f3a"
                                                    ],
                                                    [
                                                        0.8888888888888888,
                                                        "#fdca26"
                                                    ],
                                                    [
                                                        1,
                                                        "#f0f921"
                                                    ]
                                                ],
                                                "type": "surface"
                                            }
                                        ],
                                        "table": [
                                            {
                                                "cells": {
                                                    "fill": {
                                                        "color": "#EBF0F8"
                                                    },
                                                    "line": {
                                                        "color": "white"
                                                    }
                                                },
                                                "header": {
                                                    "fill": {
                                                        "color": "#C8D4E3"
                                                    },
                                                    "line": {
                                                        "color": "white"
                                                    }
                                                },
                                                "type": "table"
                                            }
                                        ]
                                    },
                                    "layout": {
                                        "annotationdefaults": {
                                            "arrowcolor": "#2a3f5f",
                                            "arrowhead": 0,
                                            "arrowwidth": 1
                                        },
                                        "autotypenumbers": "strict",
                                        "coloraxis": {
                                            "colorbar": {
                                                "outlinewidth": 0,
                                                "ticks": ""
                                            }
                                        },
                                        "colorscale": {
                                            "diverging": [
                                                [
                                                    0,
                                                    "#8e0152"
                                                ],
                                                [
                                                    0.1,
                                                    "#c51b7d"
                                                ],
                                                [
                                                    0.2,
                                                    "#de77ae"
                                                ],
                                                [
                                                    0.3,
                                                    "#f1b6da"
                                                ],
                                                [
                                                    0.4,
                                                    "#fde0ef"
                                                ],
                                                [
                                                    0.5,
                                                    "#f7f7f7"
                                                ],
                                                [
                                                    0.6,
                                                    "#e6f5d0"
                                                ],
                                                [
                                                    0.7,
                                                    "#b8e186"
                                                ],
                                                [
                                                    0.8,
                                                    "#7fbc41"
                                                ],
                                                [
                                                    0.9,
                                                    "#4d9221"
                                                ],
                                                [
                                                    1,
                                                    "#276419"
                                                ]
                                            ],
                                            "sequential": [
                                                [
                                                    0,
                                                    "#0d0887"
                                                ],
                                                [
                                                    0.1111111111111111,
                                                    "#46039f"
                                                ],
                                                [
                                                    0.2222222222222222,
                                                    "#7201a8"
                                                ],
                                                [
                                                    0.3333333333333333,
                                                    "#9c179e"
                                                ],
                                                [
                                                    0.4444444444444444,
                                                    "#bd3786"
                                                ],
                                                [
                                                    0.5555555555555556,
                                                    "#d8576b"
                                                ],
                                                [
                                                    0.6666666666666666,
                                                    "#ed7953"
                                                ],
                                                [
                                                    0.7777777777777778,
                                                    "#fb9f3a"
                                                ],
                                                [
                                                    0.8888888888888888,
                                                    "#fdca26"
                                                ],
                                                [
                                                    1,
                                                    "#f0f921"
                                                ]
                                            ],
                                            "sequentialminus": [
                                                [
                                                    0,
                                                    "#0d0887"
                                                ],
                                                [
                                                    0.1111111111111111,
                                                    "#46039f"
                                                ],
                                                [
                                                    0.2222222222222222,
                                                    "#7201a8"
                                                ],
                                                [
                                                    0.3333333333333333,
                                                    "#9c179e"
                                                ],
                                                [
                                                    0.4444444444444444,
                                                    "#bd3786"
                                                ],
                                                [
                                                    0.5555555555555556,
                                                    "#d8576b"
                                                ],
                                                [
                                                    0.6666666666666666,
                                                    "#ed7953"
                                                ],
                                                [
                                                    0.7777777777777778,
                                                    "#fb9f3a"
                                                ],
                                                [
                                                    0.8888888888888888,
                                                    "#fdca26"
                                                ],
                                                [
                                                    1,
                                                    "#f0f921"
                                                ]
                                            ]
                                        },
                                        "colorway": [
                                            "#636efa",
                                            "#EF553B",
                                            "#00cc96",
                                            "#ab63fa",
                                            "#FFA15A",
                                            "#19d3f3",
                                            "#FF6692",
                                            "#B6E880",
                                            "#FF97FF",
                                            "#FECB52"
                                        ],
                                        "font": {
                                            "color": "#2a3f5f"
                                        },
                                        "geo": {
                                            "bgcolor": "white",
                                            "lakecolor": "white",
                                            "landcolor": "#E5ECF6",
                                            "showlakes": true,
                                            "showland": true,
                                            "subunitcolor": "white"
                                        },
                                        "hoverlabel": {
                                            "align": "left"
                                        },
                                        "hovermode": "closest",
                                        "mapbox": {
                                            "style": "light"
                                        },
                                        "paper_bgcolor": "white",
                                        "plot_bgcolor": "#E5ECF6",
                                        "polar": {
                                            "angularaxis": {
                                                "gridcolor": "white",
                                                "linecolor": "white",
                                                "ticks": ""
                                            },
                                            "bgcolor": "#E5ECF6",
                                            "radialaxis": {
                                                "gridcolor": "white",
                                                "linecolor": "white",
                                                "ticks": ""
                                            }
                                        },
                                        "scene": {
                                            "xaxis": {
                                                "backgroundcolor": "#E5ECF6",
                                                "gridcolor": "white",
                                                "gridwidth": 2,
                                                "linecolor": "white",
                                                "showbackground": true,
                                                "ticks": "",
                                                "zerolinecolor": "white"
                                            },
                                            "yaxis": {
                                                "backgroundcolor": "#E5ECF6",
                                                "gridcolor": "white",
                                                "gridwidth": 2,
                                                "linecolor": "white",
                                                "showbackground": true,
                                                "ticks": "",
                                                "zerolinecolor": "white"
                                            },
                                            "zaxis": {
                                                "backgroundcolor": "#E5ECF6",
                                                "gridcolor": "white",
                                                "gridwidth": 2,
                                                "linecolor": "white",
                                                "showbackground": true,
                                                "ticks": "",
                                                "zerolinecolor": "white"
                                            }
                                        },
                                        "shapedefaults": {
                                            "line": {
                                                "color": "#2a3f5f"
                                            }
                                        },
                                        "ternary": {
                                            "aaxis": {
                                                "gridcolor": "white",
                                                "linecolor": "white",
                                                "ticks": ""
                                            },
                                            "baxis": {
                                                "gridcolor": "white",
                                                "linecolor": "white",
                                                "ticks": ""
                                            },
                                            "bgcolor": "#E5ECF6",
                                            "caxis": {
                                                "gridcolor": "white",
                                                "linecolor": "white",
                                                "ticks": ""
                                            }
                                        },
                                        "title": {
                                            "x": 0.05
                                        },
                                        "xaxis": {
                                            "automargin": true,
                                            "gridcolor": "white",
                                            "linecolor": "white",
                                            "ticks": "",
                                            "title": {
                                                "standoff": 15
                                            },
                                            "zerolinecolor": "white",
                                            "zerolinewidth": 2
                                        },
                                        "yaxis": {
                                            "automargin": true,
                                            "gridcolor": "white",
                                            "linecolor": "white",
                                            "ticks": "",
                                            "title": {
                                                "standoff": 15
                                            },
                                            "zerolinecolor": "white",
                                            "zerolinewidth": 2
                                        }
                                    }
                                },
                                "title": {
                                    "text": "Comparison of the AR priors learnt on Breathe and Smartcare<br>with FEV1, SpO2, and 2 days model"
                                },
                                "width": 600,
                                "xaxis": {
                                    "anchor": "y",
                                    "domain": [
                                        0,
                                        1
                                    ],
                                    "matches": "x2",
                                    "nticks": 20,
                                    "range": [
                                        0,
                                        90
                                    ],
                                    "showticklabels": false,
                                    "title": {}
                                },
                                "xaxis2": {
                                    "anchor": "y2",
                                    "domain": [
                                        0,
                                        1
                                    ],
                                    "nticks": 20,
                                    "range": [
                                        0,
                                        90
                                    ],
                                    "tickvals": [
                                        0,
                                        10,
                                        20,
                                        30,
                                        40,
                                        50,
                                        60,
                                        70,
                                        80,
                                        90
                                    ],
                                    "title": {
                                        "text": "Airway resistance (%)"
                                    }
                                },
                                "yaxis": {
                                    "anchor": "x",
                                    "domain": [
                                        0.575,
                                        1
                                    ]
                                },
                                "yaxis2": {
                                    "anchor": "x2",
                                    "domain": [
                                        0,
                                        0.425
                                    ]
                                }
                            }
                        }
                    },
                    "metadata": {},
                    "output_type": "display_data"
                }
            ],
            "source": [
                "title = f\"Comparison of the AR priors learnt on Breathe and Smartcare<br>with FEV1, SpO2, and 2 days model\"\n",
                "\n",
                "fig = make_subplots(rows=2, cols=1, shared_xaxes=True)\n",
                "ih.plot_histogram(fig, AR, ar_dist_BR, AR.a, AR.b, 1, 1, None, annot=False)\n",
                "# name trace to breathe data\n",
                "fig.data[0].name = \"Breathe data\"\n",
                "ih.plot_histogram(fig, AR, ar_dist_SC, AR.a, AR.b, 2, 1, AR.name, annot=False, clean_ticks=True)\n",
                "fig.data[1].name = \"Smartcare data\"\n",
                "fig.update_layout(showlegend=True, font=dict(size=10), title=title, width=600, height=400)\n",
                "fig.write_image(dh.get_path_to_main() + f\"PlotsCrossStudies/{title}.pdf\")\n",
                "fig.show()"
            ]
        },
        {
            "cell_type": "code",
            "execution_count": null,
            "metadata": {},
            "outputs": [],
            "source": []
        },
        {
            "cell_type": "markdown",
            "metadata": {},
            "source": [
                "# Statistical significance"
            ]
        },
        {
            "cell_type": "code",
            "execution_count": 120,
            "metadata": {},
            "outputs": [
                {
                    "data": {
                        "text/html": [
                            "<div>\n",
                            "<style scoped>\n",
                            "    .dataframe tbody tr th:only-of-type {\n",
                            "        vertical-align: middle;\n",
                            "    }\n",
                            "\n",
                            "    .dataframe tbody tr th {\n",
                            "        vertical-align: top;\n",
                            "    }\n",
                            "\n",
                            "    .dataframe thead th {\n",
                            "        text-align: right;\n",
                            "    }\n",
                            "</style>\n",
                            "<table border=\"1\" class=\"dataframe\">\n",
                            "  <thead>\n",
                            "    <tr style=\"text-align: right;\">\n",
                            "      <th></th>\n",
                            "      <th>ID</th>\n",
                            "      <th>Date Recorded</th>\n",
                            "      <th>ecFEV1 % Predicted</th>\n",
                            "      <th>O2 Saturation</th>\n",
                            "      <th>Height</th>\n",
                            "      <th>Age</th>\n",
                            "      <th>Sex</th>\n",
                            "      <th>AR_fev1</th>\n",
                            "      <th>HFEV1_fev1</th>\n",
                            "      <th>AR_fev1_o2</th>\n",
                            "      <th>HFEV1_fev1_o2</th>\n",
                            "      <th>HFEV1_fev1_o2_2d</th>\n",
                            "      <th>AR_fev1_o2_2d</th>\n",
                            "      <th>HFEV1_fev1_o2_fef2575_2d</th>\n",
                            "      <th>AR_fev1_o2_fef2575_2d</th>\n",
                            "      <th>count</th>\n",
                            "      <th>max ecFEV1 % Predicted</th>\n",
                            "      <th>FEV delta</th>\n",
                            "      <th>Avg O2 saturation</th>\n",
                            "    </tr>\n",
                            "  </thead>\n",
                            "  <tbody>\n",
                            "    <tr>\n",
                            "      <th>0</th>\n",
                            "      <td>101</td>\n",
                            "      <td>2019-01-25</td>\n",
                            "      <td>36.287474</td>\n",
                            "      <td>97</td>\n",
                            "      <td>173.0</td>\n",
                            "      <td>53</td>\n",
                            "      <td>Male</td>\n",
                            "      <td>[6.35674101e-06, 7.86135817e-06, 9.90296787e-0...</td>\n",
                            "      <td>[5.34277995e-19, 4.19196617e-15, 5.82450148e-1...</td>\n",
                            "      <td>[2.15992358e-05, 2.67116953e-05, 3.36487735e-0...</td>\n",
                            "      <td>[1.81539509e-18, 1.42436613e-14, 1.97907671e-1...</td>\n",
                            "      <td>[4.0851858e-90, 1.13905537e-76, 1.12596763e-64...</td>\n",
                            "      <td>[3.94487216e-15, 1.75061635e-13, 1.80590472e-1...</td>\n",
                            "      <td>[2.09896401e-93, 5.43827739e-80, 5.06181421e-6...</td>\n",
                            "      <td>[1.03090217e-18, 1.29831267e-16, 3.47423985e-1...</td>\n",
                            "      <td>1680</td>\n",
                            "      <td>49.583647</td>\n",
                            "      <td>13.296174</td>\n",
                            "      <td>97.4625</td>\n",
                            "    </tr>\n",
                            "  </tbody>\n",
                            "</table>\n",
                            "</div>"
                        ],
                        "text/plain": [
                            "    ID Date Recorded  ecFEV1 % Predicted  O2 Saturation  Height  Age   Sex  \\\n",
                            "0  101    2019-01-25           36.287474             97   173.0   53  Male   \n",
                            "\n",
                            "                                             AR_fev1  \\\n",
                            "0  [6.35674101e-06, 7.86135817e-06, 9.90296787e-0...   \n",
                            "\n",
                            "                                          HFEV1_fev1  \\\n",
                            "0  [5.34277995e-19, 4.19196617e-15, 5.82450148e-1...   \n",
                            "\n",
                            "                                          AR_fev1_o2  \\\n",
                            "0  [2.15992358e-05, 2.67116953e-05, 3.36487735e-0...   \n",
                            "\n",
                            "                                       HFEV1_fev1_o2  \\\n",
                            "0  [1.81539509e-18, 1.42436613e-14, 1.97907671e-1...   \n",
                            "\n",
                            "                                    HFEV1_fev1_o2_2d  \\\n",
                            "0  [4.0851858e-90, 1.13905537e-76, 1.12596763e-64...   \n",
                            "\n",
                            "                                       AR_fev1_o2_2d  \\\n",
                            "0  [3.94487216e-15, 1.75061635e-13, 1.80590472e-1...   \n",
                            "\n",
                            "                            HFEV1_fev1_o2_fef2575_2d  \\\n",
                            "0  [2.09896401e-93, 5.43827739e-80, 5.06181421e-6...   \n",
                            "\n",
                            "                               AR_fev1_o2_fef2575_2d  count  \\\n",
                            "0  [1.03090217e-18, 1.29831267e-16, 3.47423985e-1...   1680   \n",
                            "\n",
                            "   max ecFEV1 % Predicted  FEV delta  Avg O2 saturation  \n",
                            "0               49.583647  13.296174            97.4625  "
                        ]
                    },
                    "execution_count": 120,
                    "metadata": {},
                    "output_type": "execute_result"
                }
            ],
            "source": [
                "df_res.head(1)"
            ]
        },
        {
            "cell_type": "code",
            "execution_count": 122,
            "metadata": {},
            "outputs": [
                {
                    "name": "stderr",
                    "output_type": "stream",
                    "text": [
                        "WARNING:root:ID 334 - Dropping Symkevi since same start date as Trikafta\n",
                        "WARNING:root:ID 371 - Dropping Ivacaftor since same start date as Trikafta\n",
                        "WARNING:root:ID 108 - Dropping the Symkevi entry as it's got the same start date as an ongoing Trikafta treatment, but was stopped after 1 month\n",
                        "WARNING:root:ID 131 - Shifting Symkevi stop date by 2 day to avoid overlap with Trikfta start\n",
                        "WARNING:root:ID 234 - Setting Ivacaftor stop date to 2021-06-30 to not overlap with Trikafta start date\n",
                        "WARNING:root:ID 334 - Changing Symkevi stop date by 3 months to avoid overlap with Trikafta start\n",
                        "WARNING:root:ID 334 - Patient alternates between Symkevi and Trikafta as can't tolerate full Trikafta dose. Let's say he is on Trikafta, thus removing the Symkevi entry\n",
                        "WARNING:root:ID 335 - Symkevi stop date has probably the wrong year, putting 2020 instead of 2022\n",
                        "WARNING:root:ID 335 - Shift Trikafta stop date to 4 days earlier to avoid overlap with Ivacaftor\n",
                        "ERROR:root:ID 175 - ?? Symkevi start date is wrong, removing it because no clue about the true date (maybe 2019?)\n",
                        "ERROR:root:ID 206 - Updating Ivacaftor stop date to not overlap and changing Ivacaftor + Symkevi to Trikafta\n",
                        "WARNING:root:ID 221 - Trikafta started in 2020, slowly due to developing rash, full dose in 2022. The FEV1 data for this ID doesn't show improvement after Jul 2021 (no data recorded before). I assume the improvement has been seen beforehand, and therefore drop the 2022 Trikafta entry.\n",
                        "WARNING:root:ID 238 - Set stop date for Orkambi to avoid overlap with Symkevi\n",
                        "WARNING:root:ID 247 - Trikafta prescribed in Jul 2018, and in Feb 2020. We have data only from Jul 2020 onwards. I remove the 2018 entry as it makes no difference and I assumed it was a fixed-time trial\n",
                        "WARNING:root:ID 322 - Currently no measures for this ID. Symkevi has started on top of Ivacaftor. Setting end date to Ivacaftor and renaming Symkevi to Trikafta\n",
                        "INFO:root:ID 358 - Removing duplicated Trikafta entry\n",
                        "INFO:root:ID 358 - Removing duplicated Trikafta entry\n",
                        "INFO:root:ID 426 - Currently no measures for this ID. Removing two entries with NaN drug therapy type\n",
                        "INFO:root:ID 462 - Symkevi and Ivacaftor prescribed, renaming it to Trikafta\n",
                        "INFO:root:ID 405 - Removing two entries with NaN drug therapy type\n",
                        "WARNING:root:ID 464 - Symkevi and Ivacaftor started together. Deleting Ivacaftor and renaming Symkevi to Trikafta\n",
                        "WARNING:root:ID 420 - Set stop date for Trikafta to avoid overlap with Ivacaftor\n"
                    ]
                }
            ],
            "source": [
                "df_res_drug = bd.add_drug_therapy_to_df(df_res)"
            ]
        },
        {
            "cell_type": "code",
            "execution_count": 123,
            "metadata": {},
            "outputs": [
                {
                    "data": {
                        "text/plain": [
                            "array(['None', 'Symkevi', 'Trikafta', 'Ivacaftor', 'Orkambi', 'Unknown'],\n",
                            "      dtype=object)"
                        ]
                    },
                    "execution_count": 123,
                    "metadata": {},
                    "output_type": "execute_result"
                }
            ],
            "source": [
                "df_res_drug.DrugTherapyType.unique()"
            ]
        },
        {
            "cell_type": "code",
            "execution_count": null,
            "metadata": {},
            "outputs": [],
            "source": [
                "df_res_drug[\"Mean AR_fev1_o2_fef2575_2d\"] = df_res_drug[\"AR_fev1_o2_fef2575_2d\"].apply(lambda x: AR.get_mean(x))"
            ]
        },
        {
            "cell_type": "code",
            "execution_count": 256,
            "metadata": {},
            "outputs": [],
            "source": [
                "after = [\"Trikafta\"]\n",
                "before = ['None']\n",
                "\n",
                "def get_df_stat(df_res_drug, after, before, target_col):\n",
                "    def get_mean_for_ID(df, drug_types, target_col):\n",
                "        return df[df.DrugTherapyType.isin(drug_types)][target_col].mean()\n",
                "\n",
                "    df_none = df_res_drug.groupby(\"ID\").apply(lambda df: get_mean_for_ID(df, before, \"ecFEV1 % Predicted\"))\n",
                "    df_none.name = \"None\"\n",
                "\n",
                "    # Get IDs of patients with mild CF (FEV1% > 70%) before Trikafta\n",
                "    mild_ids = df_none[df_none > 70].index.tolist()\n",
                "    print(\"Patients with mild CF (FEV1% > 70%) before Trikafta:\")\n",
                "    print(len(mild_ids), mild_ids)\n",
                "\n",
                "    df_trikafta = df_res_drug.groupby(\"ID\").apply(lambda df: get_mean_for_ID(df, after, target_col))\n",
                "    df_trikafta.name = \"Trikafta\"\n",
                "    df_none = df_res_drug.groupby(\"ID\").apply(lambda df: get_mean_for_ID(df, before, target_col))\n",
                "    df_none.name = \"None\"\n",
                "\n",
                "    df_stat = pd.merge(df_trikafta, df_none, on=\"ID\", how=\"inner\")\n",
                "    # Remove patients with mild CF (FEV1% > 70%) before Trikafta\n",
                "    df_stat = df_stat.loc[mild_ids]\n",
                "    df_stat = df_stat.dropna(axis=0)\n",
                "    return df_stat, df_trikafta, df_none"
            ]
        },
        {
            "cell_type": "code",
            "execution_count": 257,
            "metadata": {},
            "outputs": [
                {
                    "name": "stdout",
                    "output_type": "stream",
                    "text": [
                        "Patients with mild CF (FEV1% > 70%) before Trikafta:\n",
                        "49 ['109', '113', '121', '123', '124', '126', '130', '141', '144', '151', '152', '156', '163', '164', '166', '177', '178', '182', '189', '190', '209', '213', '231', '236', '242', '257', '262', '267', '271', '273', '278', '281', '288', '290', '292', '296', '302', '310', '313', '314', '327', '352', '406', '412', '490', '506', '511', '532', '535']\n",
                        "%% Mean AR_fev1_o2_fef2575_2d\n",
                        "Mean Mean AR_fev1_o2_fef2575_2d during None: 20.99%\n",
                        "Mean Mean AR_fev1_o2_fef2575_2d  during Trikafta: 15.64%\n",
                        "Mean improvement: -5.35%\n",
                        "p-value: 7.81e-05\n",
                        "Statistically significant: True\n"
                    ]
                }
            ],
            "source": [
                "target_col = \"ecFEV1 % Predicted\"\n",
                "target_col = \"Mean AR_fev1_o2_fef2575_2d\"\n",
                "\n",
                "df_stat, df_trikafta, df_none = get_df_stat(df_res_drug, after, before, target_col)\n",
                "run_stat_test(df_stat, target_col)"
            ]
        },
        {
            "cell_type": "code",
            "execution_count": 258,
            "metadata": {},
            "outputs": [
                {
                    "name": "stdout",
                    "output_type": "stream",
                    "text": [
                        "Patients with mild CF (FEV1% > 70%) before Trikafta:\n",
                        "49 ['109', '113', '121', '123', '124', '126', '130', '141', '144', '151', '152', '156', '163', '164', '166', '177', '178', '182', '189', '190', '209', '213', '231', '236', '242', '257', '262', '267', '271', '273', '278', '281', '288', '290', '292', '296', '302', '310', '313', '314', '327', '352', '406', '412', '490', '506', '511', '532', '535']\n",
                        "%% ecFEV1 % Predicted\n",
                        "Mean ecFEV1 % Predicted during None: 84.40%\n",
                        "Mean ecFEV1 % Predicted  during Trikafta: 90.59%\n",
                        "Mean improvement: 6.19%\n",
                        "p-value: 6.50e-05\n",
                        "Statistically significant: True\n"
                    ]
                }
            ],
            "source": [
                "target_col = \"ecFEV1 % Predicted\"\n",
                "# target_col = \"Mean AR_fev1_o2_fef2575_2d\"\n",
                "\n",
                "df_stat, df_trikafta, df_none = get_df_stat(df_res_drug, after, before, target_col)\n",
                "run_stat_test(df_stat, target_col)"
            ]
        },
        {
            "cell_type": "code",
            "execution_count": 205,
            "metadata": {},
            "outputs": [],
            "source": [
                "\n",
                "def run_stat_test(df_stat, target_col):\n",
                "    print(\"%%\", target_col)\n",
                "\n",
                "    # Create before/after masks for each patient\n",
                "    before_after_data = []\n",
                "\n",
                "    # Perform paired t-test\n",
                "    from scipy import stats\n",
                "    t_stat, p_val = stats.ttest_rel(df_stat['Trikafta'], df_stat['None'])\n",
                "\n",
                "    print(f\"Mean {target_col} during None: {df_stat['None'].mean():.2f}%\")\n",
                "    print(f\"Mean {target_col}  during Trikafta: {df_stat['Trikafta'].mean():.2f}%\")\n",
                "    print(f\"Mean improvement: {df_stat['Trikafta'].mean() - df_stat['None'].mean():.2f}%\")\n",
                "    print(f\"p-value: {p_val:.2e}\")\n",
                "    print(f\"Statistically significant: {p_val < 0.05}\")\n"
            ]
        },
        {
            "cell_type": "code",
            "execution_count": 268,
            "metadata": {},
            "outputs": [
                {
                    "ename": "ValueError",
                    "evalue": "unequal length arrays",
                    "output_type": "error",
                    "traceback": [
                        "\u001b[0;31m---------------------------------------------------------------------------\u001b[0m",
                        "\u001b[0;31mValueError\u001b[0m                                Traceback (most recent call last)",
                        "\u001b[0;32m/var/folders/zq/v2r6yn111s3gpdf8lzf72xvw0000gn/T/ipykernel_88491/1992833029.py\u001b[0m in \u001b[0;36m?\u001b[0;34m()\u001b[0m\n\u001b[1;32m      1\u001b[0m \u001b[0mdf_109\u001b[0m \u001b[0;34m=\u001b[0m \u001b[0mdf_res_drug\u001b[0m\u001b[0;34m[\u001b[0m\u001b[0mdf_res_drug\u001b[0m\u001b[0;34m.\u001b[0m\u001b[0mID\u001b[0m \u001b[0;34m==\u001b[0m \u001b[0;34m'109'\u001b[0m\u001b[0;34m]\u001b[0m\u001b[0;34m\u001b[0m\u001b[0;34m\u001b[0m\u001b[0m\n\u001b[1;32m      2\u001b[0m \u001b[0mmask_trikafta\u001b[0m \u001b[0;34m=\u001b[0m \u001b[0mdf_109\u001b[0m\u001b[0;34m.\u001b[0m\u001b[0mDrugTherapyType\u001b[0m \u001b[0;34m==\u001b[0m \u001b[0;34m'Trikafta'\u001b[0m\u001b[0;34m\u001b[0m\u001b[0;34m\u001b[0m\u001b[0m\n\u001b[1;32m      3\u001b[0m \u001b[0mmask_none\u001b[0m \u001b[0;34m=\u001b[0m \u001b[0mdf_109\u001b[0m\u001b[0;34m.\u001b[0m\u001b[0mDrugTherapyType\u001b[0m \u001b[0;34m==\u001b[0m \u001b[0;34m'None'\u001b[0m\u001b[0;34m\u001b[0m\u001b[0;34m\u001b[0m\u001b[0m\n\u001b[1;32m      4\u001b[0m \u001b[0;34m\u001b[0m\u001b[0m\n\u001b[0;32m----> 5\u001b[0;31m t_stat, p_val = stats.ttest_rel(df_109[mask_trikafta], df_109[mask_none]\n\u001b[0m\u001b[1;32m      6\u001b[0m )\n",
                        "\u001b[0;32m/Applications/anaconda3/envs/phd/lib/python3.10/site-packages/scipy/stats/_axis_nan_policy.py\u001b[0m in \u001b[0;36m?\u001b[0;34m(***failed resolving arguments***)\u001b[0m\n\u001b[1;32m    547\u001b[0m             \u001b[0;32melse\u001b[0m\u001b[0;34m:\u001b[0m\u001b[0;34m\u001b[0m\u001b[0;34m\u001b[0m\u001b[0m\n\u001b[1;32m    548\u001b[0m                 \u001b[0mcontains_nan\u001b[0m \u001b[0;34m=\u001b[0m \u001b[0;32mFalse\u001b[0m  \u001b[0;31m# behave like there are no NaNs\u001b[0m\u001b[0;34m\u001b[0m\u001b[0;34m\u001b[0m\u001b[0m\n\u001b[1;32m    549\u001b[0m \u001b[0;34m\u001b[0m\u001b[0m\n\u001b[1;32m    550\u001b[0m             \u001b[0;32mif\u001b[0m \u001b[0mvectorized\u001b[0m \u001b[0;32mand\u001b[0m \u001b[0;32mnot\u001b[0m \u001b[0mcontains_nan\u001b[0m \u001b[0;32mand\u001b[0m \u001b[0;32mnot\u001b[0m \u001b[0msentinel\u001b[0m\u001b[0;34m:\u001b[0m\u001b[0;34m\u001b[0m\u001b[0;34m\u001b[0m\u001b[0m\n\u001b[0;32m--> 551\u001b[0;31m                 \u001b[0mres\u001b[0m \u001b[0;34m=\u001b[0m \u001b[0mhypotest_fun_out\u001b[0m\u001b[0;34m(\u001b[0m\u001b[0;34m*\u001b[0m\u001b[0msamples\u001b[0m\u001b[0;34m,\u001b[0m \u001b[0maxis\u001b[0m\u001b[0;34m=\u001b[0m\u001b[0maxis\u001b[0m\u001b[0;34m,\u001b[0m \u001b[0;34m**\u001b[0m\u001b[0mkwds\u001b[0m\u001b[0;34m)\u001b[0m\u001b[0;34m\u001b[0m\u001b[0;34m\u001b[0m\u001b[0m\n\u001b[0m\u001b[1;32m    552\u001b[0m                 \u001b[0mres\u001b[0m \u001b[0;34m=\u001b[0m \u001b[0mresult_to_tuple\u001b[0m\u001b[0;34m(\u001b[0m\u001b[0mres\u001b[0m\u001b[0;34m)\u001b[0m\u001b[0;34m\u001b[0m\u001b[0;34m\u001b[0m\u001b[0m\n\u001b[1;32m    553\u001b[0m                 \u001b[0mres\u001b[0m \u001b[0;34m=\u001b[0m \u001b[0m_add_reduced_axes\u001b[0m\u001b[0;34m(\u001b[0m\u001b[0mres\u001b[0m\u001b[0;34m,\u001b[0m \u001b[0mreduced_axes\u001b[0m\u001b[0;34m,\u001b[0m \u001b[0mkeepdims\u001b[0m\u001b[0;34m)\u001b[0m\u001b[0;34m\u001b[0m\u001b[0;34m\u001b[0m\u001b[0m\n\u001b[1;32m    554\u001b[0m                 \u001b[0;32mreturn\u001b[0m \u001b[0mtuple_to_result\u001b[0m\u001b[0;34m(\u001b[0m\u001b[0;34m*\u001b[0m\u001b[0mres\u001b[0m\u001b[0;34m)\u001b[0m\u001b[0;34m\u001b[0m\u001b[0;34m\u001b[0m\u001b[0m\n",
                        "\u001b[0;32m/Applications/anaconda3/envs/phd/lib/python3.10/site-packages/scipy/stats/_stats_py.py\u001b[0m in \u001b[0;36m?\u001b[0;34m(a, b, axis, nan_policy, alternative)\u001b[0m\n\u001b[1;32m   7782\u001b[0m \u001b[0;34m\u001b[0m\u001b[0m\n\u001b[1;32m   7783\u001b[0m     \u001b[0mna\u001b[0m \u001b[0;34m=\u001b[0m \u001b[0m_get_len\u001b[0m\u001b[0;34m(\u001b[0m\u001b[0ma\u001b[0m\u001b[0;34m,\u001b[0m \u001b[0maxis\u001b[0m\u001b[0;34m,\u001b[0m \u001b[0;34m\"first argument\"\u001b[0m\u001b[0;34m)\u001b[0m\u001b[0;34m\u001b[0m\u001b[0;34m\u001b[0m\u001b[0m\n\u001b[1;32m   7784\u001b[0m     \u001b[0mnb\u001b[0m \u001b[0;34m=\u001b[0m \u001b[0m_get_len\u001b[0m\u001b[0;34m(\u001b[0m\u001b[0mb\u001b[0m\u001b[0;34m,\u001b[0m \u001b[0maxis\u001b[0m\u001b[0;34m,\u001b[0m \u001b[0;34m\"second argument\"\u001b[0m\u001b[0;34m)\u001b[0m\u001b[0;34m\u001b[0m\u001b[0;34m\u001b[0m\u001b[0m\n\u001b[1;32m   7785\u001b[0m     \u001b[0;32mif\u001b[0m \u001b[0mna\u001b[0m \u001b[0;34m!=\u001b[0m \u001b[0mnb\u001b[0m\u001b[0;34m:\u001b[0m\u001b[0;34m\u001b[0m\u001b[0;34m\u001b[0m\u001b[0m\n\u001b[0;32m-> 7786\u001b[0;31m         \u001b[0;32mraise\u001b[0m \u001b[0mValueError\u001b[0m\u001b[0;34m(\u001b[0m\u001b[0;34m'unequal length arrays'\u001b[0m\u001b[0;34m)\u001b[0m\u001b[0;34m\u001b[0m\u001b[0;34m\u001b[0m\u001b[0m\n\u001b[0m\u001b[1;32m   7787\u001b[0m \u001b[0;34m\u001b[0m\u001b[0m\n\u001b[1;32m   7788\u001b[0m     \u001b[0;32mif\u001b[0m \u001b[0mna\u001b[0m \u001b[0;34m==\u001b[0m \u001b[0;36m0\u001b[0m \u001b[0;32mor\u001b[0m \u001b[0mnb\u001b[0m \u001b[0;34m==\u001b[0m \u001b[0;36m0\u001b[0m\u001b[0;34m:\u001b[0m\u001b[0;34m\u001b[0m\u001b[0;34m\u001b[0m\u001b[0m\n\u001b[1;32m   7789\u001b[0m         \u001b[0;31m# _axis_nan_policy decorator ensures this only happens with 1d input\u001b[0m\u001b[0;34m\u001b[0m\u001b[0;34m\u001b[0m\u001b[0m\n",
                        "\u001b[0;31mValueError\u001b[0m: unequal length arrays"
                    ]
                }
            ],
            "source": [
                "df_109 = df_res_drug[df_res_drug.ID == '109']\n",
                "mask_trikafta = df_109.DrugTherapyType == 'Trikafta'\n",
                "mask_none = df_109.DrugTherapyType == 'None'\n",
                "\n",
                "t_stat, p_val = stats.ttest_rel(df_109[mask_trikafta], df_109[mask_none]\n",
                ")"
            ]
        },
        {
            "cell_type": "code",
            "execution_count": null,
            "metadata": {},
            "outputs": [],
            "source": []
        }
    ],
    "metadata": {
        "kernelspec": {
            "display_name": "phd",
            "language": "python",
            "name": "python3"
        },
        "language_info": {
            "codemirror_mode": {
                "name": "ipython",
                "version": 3
            },
            "file_extension": ".py",
            "mimetype": "text/x-python",
            "name": "python",
            "nbconvert_exporter": "python",
            "pygments_lexer": "ipython3",
            "version": "3.10.13"
        }
    },
    "nbformat": 4,
    "nbformat_minor": 2
}
