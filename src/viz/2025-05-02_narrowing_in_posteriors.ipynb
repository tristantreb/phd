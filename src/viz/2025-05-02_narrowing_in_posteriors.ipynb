{
    "cells": [
        {
            "cell_type": "code",
            "execution_count": 1,
            "metadata": {},
            "outputs": [],
            "source": [
                "import pandas as pd\n",
                "import numpy as np\n",
                "\n",
                "import data.breathe_data as bd\n",
                "import data.helpers as dh\n",
                "import models.builders as mb\n",
                "from plotly.subplots import make_subplots\n",
                "from plotly import graph_objects as go\n",
                "import inference.helpers as ih"
            ]
        },
        {
            "cell_type": "code",
            "execution_count": 19,
            "metadata": {},
            "outputs": [],
            "source": [
                "# Load smartcare data\n",
                "df_sc = dh.load_excel(\n",
                "    f\"{dh.get_path_to_main()}/ExcelFiles/SC/infer_AR_using_two_days_model_o2_fev1_06052025.xlsx\",\n",
                "    date_cols=[\"Day\"],\n",
                "    str_cols_to_arrays=[\"Healthy FEV1 (L)\", \"Airway resistance (%)\"]\n",
                ")\n",
                "df_sc.rename(\n",
                "    {\n",
                "        \"Healthy FEV1 (L)\": \"HFEV1_fev1_o2_2d\",\n",
                "        \"Airway resistance (%)\": \"AR_fev1_o2_2d\",\n",
                "        \"Day\": \"Date Recorded\",\n",
                "    },\n",
                "    axis=1,\n",
                "    inplace=True,\n",
                ")\n",
                "\n",
                "df_sc_meas = dh.load_excel(\n",
                "    f\"{dh.get_path_to_main()}/ExcelFiles/SC/O2_FEV1_df_conservative_smoothing_with_idx.xlsx\",\n",
                "    date_cols=[\"Date Recorded\"],\n",
                ")\n",
                "\n",
                "cols = [\n",
                "    \"ID\",\n",
                "    \"Date Recorded\",\n",
                "    \"ecFEV1 % Predicted\",\n",
                "    \"O2 Saturation\",\n",
                "    \"Height\",\n",
                "    \"Age\",\n",
                "    \"Sex\",\n",
                "]\n",
                "\n",
                "df_sc = pd.merge(df_sc, df_sc_meas[cols], on=[\"ID\", \"Date Recorded\"], how=\"inner\")"
            ]
        },
        {
            "cell_type": "code",
            "execution_count": null,
            "metadata": {},
            "outputs": [],
            "source": [
                "# Load BR data"
            ]
        },
        {
            "cell_type": "code",
            "execution_count": 2,
            "metadata": {},
            "outputs": [
                {
                    "name": "stderr",
                    "output_type": "stream",
                    "text": [
                        "INFO:root:* Checking for same day measurements *\n"
                    ]
                }
            ],
            "source": [
                "# Checked that obs indices are correct, see ipynb mentioned above(01.05.2025)\n",
                "df = bd.load_meas_from_excel(\"BR_O2_FEV1_FEF2575_conservative_smoothing_with_idx\")"
            ]
        },
        {
            "cell_type": "code",
            "execution_count": 3,
            "metadata": {},
            "outputs": [],
            "source": [
                "df_fev1 = bd.load_meas_from_excel(\n",
                "    \"infer_AR_using_fev1_01052025\", [\"AR\", \"HFEV1\", \"HO2Sat\"], bypass_sanity_checks=True\n",
                ").drop(columns=[\"HO2Sat\"])\n",
                "df_fev1.rename(\n",
                "    {\n",
                "        \"AR\": \"AR_fev1\",\n",
                "        \"HFEV1\": \"HFEV1_fev1\",\n",
                "    },\n",
                "    axis=1,\n",
                "    inplace=True,\n",
                ")"
            ]
        },
        {
            "cell_type": "code",
            "execution_count": 4,
            "metadata": {},
            "outputs": [],
            "source": [
                "df_fev1_o2 = bd.load_meas_from_excel(\n",
                "    \"infer_AR_using_o2sat_fev1_01052025\", [\"AR\", \"HFEV1\"], bypass_sanity_checks=True\n",
                ").drop(columns=[\"IA\", \"HO2Sat\"])\n",
                "df_fev1_o2.rename(\n",
                "    {\n",
                "        \"AR\": \"AR_fev1_o2\",\n",
                "        \"HFEV1\": \"HFEV1_fev1_o2\",\n",
                "    },\n",
                "    axis=1,\n",
                "    inplace=True,\n",
                ")"
            ]
        },
        {
            "cell_type": "code",
            "execution_count": 5,
            "metadata": {},
            "outputs": [],
            "source": [
                "df_fev1_o2_2d = bd.load_meas_from_excel(\n",
                "    \"infer_AR_using_two_days_model_o2_fev1_01052025\",\n",
                "    [\"Airway resistance (%)\", \"Healthy FEV1 (L)\"],\n",
                "    date_cols=[\"Day\"],\n",
                "    bypass_sanity_checks=True,\n",
                ").drop(columns=[\"Healthy O2 saturation (%)\"])\n",
                "df_fev1_o2_2d.rename(\n",
                "    {\n",
                "        \"Airway resistance (%)\": \"AR_fev1_o2_2d\",\n",
                "        \"Healthy FEV1 (L)\": \"HFEV1_fev1_o2_2d\",\n",
                "        \"Day\": \"Date Recorded\",\n",
                "    },\n",
                "    axis=1,\n",
                "    inplace=True,\n",
                ")"
            ]
        },
        {
            "cell_type": "code",
            "execution_count": 19,
            "metadata": {},
            "outputs": [],
            "source": [
                "df_fev1_o2_fef2575_2d = bd.load_meas_from_excel(\n",
                "    \"infer_AR_using_two_days_model_o2_fev1_fef2575_01052025\",\n",
                "    [\"Airway resistance (%)\", \"Healthy FEV1 (L)\"],\n",
                "    date_cols=[\"Day\"],\n",
                "    bypass_sanity_checks=True,\n",
                ").drop(columns=[\"Healthy O2 saturation (%)\"])\n",
                "df_fev1_o2_fef2575_2d.rename(\n",
                "    {\n",
                "        \"Airway resistance (%)\": \"AR_fev1_o2_fef2575_2d\",\n",
                "        \"Healthy FEV1 (L)\": \"HFEV1_fev1_o2_fef2575_2d\",\n",
                "        \"Day\": \"Date Recorded\",\n",
                "    },\n",
                "    axis=1,\n",
                "    inplace=True,\n",
                ")"
            ]
        },
        {
            "cell_type": "code",
            "execution_count": 20,
            "metadata": {},
            "outputs": [],
            "source": [
                "df_fev1_fef2575_2d = bd.load_meas_from_excel(\n",
                "    \"infer_AR_using_two_days_model_fev1_fef2575_06052025\",\n",
                "    [\"Airway resistance (%)\", \"Healthy FEV1 (L)\"],\n",
                "    date_cols=[\"Day\"],\n",
                "    bypass_sanity_checks=True,\n",
                ")\n",
                "df_fev1_fef2575_2d.rename(\n",
                "    {\n",
                "        \"Airway resistance (%)\": \"AR_fev1_fef2575_2d\",\n",
                "        \"Healthy FEV1 (L)\": \"HFEV1_fev1_fef2575_2d\",\n",
                "        \"Day\": \"Date Recorded\",\n",
                "    },\n",
                "    axis=1,\n",
                "    inplace=True,\n",
                ")"
            ]
        },
        {
            "cell_type": "code",
            "execution_count": 22,
            "metadata": {},
            "outputs": [],
            "source": [
                "# join df to df_fev1 on ID and Date Recorded\n",
                "cols = [\n",
                "    \"ID\",\n",
                "    \"Date Recorded\",\n",
                "    \"ecFEV1 % Predicted\",\n",
                "    \"O2 Saturation\",\n",
                "    \"Height\",\n",
                "    \"Age\",\n",
                "    \"Sex\",\n",
                "]\n",
                "df_res = pd.merge(df[cols], df_fev1, on=[\"ID\", \"Date Recorded\"], how=\"inner\")\n",
                "df_res = pd.merge(df_res, df_fev1_o2, on=[\"ID\", \"Date Recorded\"], how=\"inner\")\n",
                "df_res = pd.merge(df_res, df_fev1_o2_2d, on=[\"ID\", \"Date Recorded\"], how=\"inner\")\n",
                "df_res = pd.merge(\n",
                "    df_res, df_fev1_o2_fef2575_2d, on=[\"ID\", \"Date Recorded\"], how=\"inner\"\n",
                ")\n",
                "df_res = pd.merge(\n",
                "    df_res, df_fev1_fef2575_2d, on=[\"ID\", \"Date Recorded\"], how=\"inner\"\n",
                ")"
            ]
        },
        {
            "cell_type": "code",
            "execution_count": 23,
            "metadata": {},
            "outputs": [],
            "source": [
                "# Add records count per ID\n",
                "df_count = (\n",
                "    df_res.groupby(\"ID\")\n",
                "    .apply(lambda df: len(df))\n",
                "    .reset_index()\n",
                "    .rename(columns={0: \"count\"})\n",
                ")\n",
                "df_res = pd.merge(df_res, df_count, on=[\"ID\"])"
            ]
        },
        {
            "cell_type": "code",
            "execution_count": 24,
            "metadata": {},
            "outputs": [],
            "source": [
                "# Add max ecFEV1 % pred\n",
                "df_max_fev = (\n",
                "    df_res.groupby(\"ID\")\n",
                "    .apply(lambda df: df[\"ecFEV1 % Predicted\"].max())\n",
                "    .reset_index()\n",
                "    .rename(columns={0: \"max ecFEV1 % Predicted\"})\n",
                ")\n",
                "df_res = pd.merge(df_res, df_max_fev, on=[\"ID\"])\n",
                "df_res[\"FEV delta\"] = df_res[\"max ecFEV1 % Predicted\"] - df_res[\"ecFEV1 % Predicted\"]"
            ]
        },
        {
            "cell_type": "code",
            "execution_count": 25,
            "metadata": {},
            "outputs": [],
            "source": [
                "# Add avg o2 sat\n",
                "df_avg_o2 = (\n",
                "    df_res.groupby(\"ID\")\n",
                "    .apply(lambda df: df[\"O2 Saturation\"].mean())\n",
                "    .reset_index()\n",
                "    .rename(columns={0: \"Avg O2 saturation\"})\n",
                ")\n",
                "df_res = pd.merge(df_res, df_avg_o2, on=[\"ID\"])"
            ]
        },
        {
            "cell_type": "code",
            "execution_count": 26,
            "metadata": {},
            "outputs": [
                {
                    "data": {
                        "text/plain": [
                            "Index([3448, 33235, 36519, 35294, 12396], dtype='int64')"
                        ]
                    },
                    "execution_count": 26,
                    "metadata": {},
                    "output_type": "execute_result"
                }
            ],
            "source": [
                "# df_res.sort_values(by=\"FEV delta\", ascending=False)[0:5]\n",
                "# df_res.sort_values(by=[\"ecFEV1 % Predicted\", \"O2 Saturation\"], ascending=True)[0:5]\n",
                "indices_max_avg_o2_min_ecfev1 = (\n",
                "    df_res.groupby(\"ID\")\n",
                "    .apply(\n",
                "        lambda df: df.reset_index()\n",
                "        .sort_values(by=[\"ecFEV1 % Predicted\"], ascending=True)\n",
                "        .iloc[0]\n",
                "    )[\"index\"]\n",
                "    .values\n",
                ")\n",
                "indices_over_30_datapoints = df_res[df_res[\"count\"] > 30].index\n",
                "indices_max_avg_o2_below_94 = df_res[df_res[\"Avg O2 saturation\"] < 94].index\n",
                "mask = list(\n",
                "    set(indices_max_avg_o2_min_ecfev1)\n",
                "    .intersection(indices_max_avg_o2_below_94)\n",
                "    .intersection(indices_over_30_datapoints)\n",
                ")\n",
                "df_res.iloc[mask].sort_values(\n",
                "    by=[\"Avg O2 saturation\", \"ecFEV1 % Predicted\"], ascending=[True, True]\n",
                ").index"
            ]
        },
        {
            "cell_type": "markdown",
            "metadata": {},
            "source": [
                "# Plot examples of narrowed in posteriors"
            ]
        },
        {
            "cell_type": "code",
            "execution_count": 54,
            "metadata": {},
            "outputs": [
                {
                    "data": {
                        "text/plain": [
                            "Index([1650, 1651, 1652, 1653, 1654], dtype='int64')"
                        ]
                    },
                    "execution_count": 54,
                    "metadata": {},
                    "output_type": "execute_result"
                }
            ],
            "source": [
                "df_res_last_30[df_res_last_30[\"ID\"] == \"101\"][0:5].index"
            ]
        },
        {
            "cell_type": "code",
            "execution_count": 55,
            "metadata": {},
            "outputs": [
                {
                    "name": "stdout",
                    "output_type": "stream",
                    "text": [
                        "1650\n",
                        "101, 2023-10-13, i=1650, o2 avg=97.46%, ecFEV1%=47.09\n",
                        "1651\n",
                        "101, 2023-10-14, i=1651, o2 avg=97.46%, ecFEV1%=46.81\n",
                        "1652\n",
                        "101, 2023-10-15, i=1652, o2 avg=97.46%, ecFEV1%=44.87\n",
                        "1653\n",
                        "101, 2023-10-16, i=1653, o2 avg=97.46%, ecFEV1%=45.71\n",
                        "1654\n",
                        "101, 2023-10-17, i=1654, o2 avg=97.46%, ecFEV1%=47.09\n"
                    ]
                }
            ],
            "source": [
                "# i = 2955\n",
                "# fev1 and o2: see impact of very low o2\n",
                "# Impact of min o2 shouldn't get propagated back to hfev1 because it's more due to sudden infection rather than permanent lung damage\n",
                "# indices = [6311, 35304]\n",
                "# However, avg o2 is low (or max o2) is relevant. -  Avg o2 sat < 94, min ecfev1, > 30 datapoints\n",
                "# indices = [35294]\n",
                "# Unexpectedly small lungs. Below 30% of ecFE1%Predicted (life threatening), expects lower max o2, hence healthy oxygenation must be due to smaller lungs. Ex: o2 = 100, min and max ecfev1.\n",
                "# → use app\n",
                "# Exclude o2 from longitudinal model due to calibration issues\n",
                "\n",
                "# Shared hfev1/ar uncertainty: small healthy lungs or big lungs with disease\n",
                "# Unexpectedly big lungs with disease: high fev1 % pred delta (benefit of 2nd day)\n",
                "# indices = [18452, 33198, 2330, 2975, 18430]\n",
                "# Unexpectedly small lungs: low fev1 % pred but no permanent lung damage (high fef2575%fev1) → show without fef2575 then with\n",
                "\n",
                "# Super high fev1\n",
                "# indices = [37113]\n",
                "\n",
                "indices = [1650, 1651, 1652, 1653, 1654]\n",
                "\n",
                "for i in indices:\n",
                "    print(i)\n",
                "    id = df.loc[i, \"ID\"]\n",
                "    (\n",
                "        _,\n",
                "        inf_alg,\n",
                "        HFEV1,\n",
                "        uFEV1,\n",
                "        ecFEV1,\n",
                "        AR,\n",
                "        HO2Sat,\n",
                "        O2SatFFA,\n",
                "        IA,\n",
                "        UO2Sat,\n",
                "        O2Sat,\n",
                "        ecFEF2575prctecFEV1,\n",
                "    ) = mb.o2sat_fev1_fef2575_point_in_time_model_noise_shared_healthy_vars(\n",
                "        df_res.iloc[i].Height,\n",
                "        df_res.iloc[i].Age,\n",
                "        df_res.iloc[i].Sex,\n",
                "        ia_prior=\"uniform\",\n",
                "        ar_prior=\"uniform\",\n",
                "        ecfev1_noise_model_cpt_suffix=\"_std_add_mult_ecfev1\",\n",
                "        ar_fef2575_cpt_suffix=\"_ecfev1_2_days_model_add_mult_noise\",\n",
                "    )\n",
                "\n",
                "    fig = make_subplots(\n",
                "        rows=4,\n",
                "        cols=3,\n",
                "        shared_xaxes=True,\n",
                "    )\n",
                "    first_data_col = 2\n",
                "\n",
                "    def add_fev1_prct_pred_line(fig, val, y_max, row, col):\n",
                "        fig.add_shape(\n",
                "            type=\"line\",\n",
                "            # opacity=0.1,\n",
                "            x0=val,\n",
                "            y0=0,\n",
                "            x1=val,\n",
                "            y1=y_max * 1.1,\n",
                "            line=dict(color=\"black\", width=2, dash=\"dash\"),\n",
                "            # fillcolor=\"red\",\n",
                "            # line_width=0,\n",
                "            row=row,\n",
                "            col=col,\n",
                "        )\n",
                "        return -1\n",
                "\n",
                "    def add_hists(fig, hfev1_col, ar_col, i, row):\n",
                "        ih.plot_histogram(\n",
                "            fig,\n",
                "            HFEV1,\n",
                "            df_res.loc[i, hfev1_col],\n",
                "            HFEV1.a,\n",
                "            HFEV1.b,\n",
                "            row,\n",
                "            first_data_col,\n",
                "            f\" {hfev1_col}\",\n",
                "            \"#009e73\",\n",
                "        )\n",
                "        ih.plot_histogram(\n",
                "            fig,\n",
                "            AR,\n",
                "            df_res.loc[i, ar_col],\n",
                "            AR.a,\n",
                "            AR.b,\n",
                "            row,\n",
                "            first_data_col + 1,\n",
                "            f\" {ar_col}\",\n",
                "            \"#d55e00\",\n",
                "            clean_ticks=True,\n",
                "        )\n",
                "        add_fev1_prct_pred_line(\n",
                "            fig,\n",
                "            max(100 - df_res.loc[i, \"ecFEV1 % Predicted\"], 0),\n",
                "            max(df_res.loc[i, ar_col]),\n",
                "            row,\n",
                "            first_data_col + 1,\n",
                "        )\n",
                "\n",
                "    ih.plot_histogram(\n",
                "        fig,\n",
                "        HFEV1,\n",
                "        HFEV1.cpt,\n",
                "        HFEV1.a,\n",
                "        HFEV1.b,\n",
                "        1,\n",
                "        first_data_col,\n",
                "        HFEV1.name + \" prior\",\n",
                "        \"#009e73\",\n",
                "    )\n",
                "    ih.plot_histogram(\n",
                "        fig,\n",
                "        AR,\n",
                "        AR.cpt,\n",
                "        AR.a,\n",
                "        AR.b,\n",
                "        1,\n",
                "        first_data_col + 1,\n",
                "        AR.name + \" prior\",\n",
                "        \"#d55e00\",\n",
                "        clean_ticks=True,\n",
                "    )\n",
                "    add_fev1_prct_pred_line(\n",
                "        fig,\n",
                "        max(100 - df_res.loc[i, \"ecFEV1 % Predicted\"], 0),\n",
                "        max(AR.cpt),\n",
                "        1,\n",
                "        first_data_col + 1,\n",
                "    )\n",
                "\n",
                "    add_hists(fig, \"HFEV1_fev1\", \"AR_fev1\", i, 2)\n",
                "    add_hists(fig, \"HFEV1_fev1_o2\", \"AR_fev1_o2\", i, 3)\n",
                "    add_hists(fig, \"HFEV1_fev1_o2_2d\", \"AR_fev1_o2_2d\", i, 4)\n",
                "\n",
                "    # Add \"prior knowledge\" on col 1, row 1\n",
                "    fig.add_annotation(\n",
                "        x=0.2,\n",
                "        y=3.5 / 4,\n",
                "        text=\"Prior knowledge\",\n",
                "        xref=\"paper\",\n",
                "        yref=\"paper\",\n",
                "        xanchor=\"center\",\n",
                "        yanchor=\"middle\",\n",
                "        showarrow=False,\n",
                "    )\n",
                "    add_text_box(fig, text=\"Your text here<br>Second line<br>Third line\", row=2, col=1)\n",
                "\n",
                "    title = f\"{id}, {df_res.loc[i, 'Date Recorded']}, i={i}, o2 avg={df_res.loc[i, 'Avg O2 saturation']:.2f}%, ecFEV1%={df_res.loc[i, 'ecFEV1 % Predicted']:.2f}\"\n",
                "    print(title)\n",
                "\n",
                "    fig.update_layout(\n",
                "        showlegend=False,\n",
                "        height=500,\n",
                "        width=800,\n",
                "        font=dict(size=11),\n",
                "        bargap=0.01,\n",
                "        title=title,\n",
                "        # margin=dict(l=20, r=20, b=20, t=20),\n",
                "    )\n",
                "\n",
                "    # fig.show()\n",
                "    fig.write_image(f\"{dh.get_path_to_main()}PlotsBreathe/Narrowing_in/{title}.pdf\")"
            ]
        },
        {
            "cell_type": "code",
            "execution_count": 11,
            "metadata": {},
            "outputs": [],
            "source": [
                "def add_text_box(fig, text, row, col):\n",
                "    # Get the subplot's domain coordinates\n",
                "    x_domain = fig.get_subplot(row, col).xaxis.domain\n",
                "    y_domain = fig.get_subplot(row, col).yaxis.domain\n",
                "    # print(x_domain, y_domain)\n",
                "\n",
                "    # Add rectangle\n",
                "    fig.add_shape(\n",
                "        type=\"rect\",\n",
                "        x0=x_domain[0] - 1,\n",
                "        x1=x_domain[1] * 25,\n",
                "        y0=y_domain[0],\n",
                "        y1=y_domain[1],\n",
                "        line=dict(color=\"black\", width=0),\n",
                "        fillcolor=\"white\",\n",
                "        xref=\"paper\",\n",
                "        yref=\"paper\",\n",
                "        row=row,\n",
                "        col=col,\n",
                "    )\n",
                "\n",
                "    # Add text\n",
                "    fig.add_annotation(\n",
                "        x=(x_domain[0] + x_domain[1]) / 2,  # center x\n",
                "        y=(y_domain[0] + y_domain[1]) / 2,  # center y\n",
                "        text=text,\n",
                "        showarrow=False,\n",
                "        font=dict(size=12),\n",
                "        xref=\"paper\",\n",
                "        yref=\"paper\",\n",
                "        xanchor=\"center\",\n",
                "        yanchor=\"middle\",\n",
                "        row=row,\n",
                "        col=col,\n",
                "    )"
            ]
        },
        {
            "cell_type": "markdown",
            "metadata": {},
            "source": [
                "# Who can the model help?"
            ]
        },
        {
            "cell_type": "code",
            "execution_count": 27,
            "metadata": {},
            "outputs": [
                {
                    "name": "stdout",
                    "output_type": "stream",
                    "text": [
                        "265\n"
                    ]
                }
            ],
            "source": [
                "# Filter out IDs with less than 30 datapoints\n",
                "min_datapoints = 10\n",
                "# min_datapoints = 100\n",
                "\n",
                "df_res_enough_data = df_res[df_res[\"count\"] >= min_datapoints]\n",
                "# df_res_enough_data = df_sc[df_sc[\"count\"] >= min_datapoints]\n",
                "print(df_res_enough_data.ID.nunique())"
            ]
        },
        {
            "cell_type": "code",
            "execution_count": 28,
            "metadata": {},
            "outputs": [],
            "source": [
                "# Get the last 30 days of data for each ID\n",
                "\n",
                "df_res_min_30_ecfev1 = df_res_enough_data.sort_values([\"ID\", \"ecFEV1 % Predicted\"])\n",
                "df_res_min_30_ecfev1 = df_res_min_30_ecfev1.groupby(\"ID\").head(30)\n",
                "\n",
                "df_res_last_30 = df_res_enough_data.sort_values([\"ID\", \"Date Recorded\"])\n",
                "df_res_last_30 = df_res_last_30.groupby(\"ID\").tail(30)\n",
                "\n",
                "df_res_first_30 = df_res_enough_data.sort_values([\"ID\", \"Date Recorded\"])\n",
                "df_res_first_30 = df_res_first_30.groupby(\"ID\").head(30)"
            ]
        },
        {
            "cell_type": "code",
            "execution_count": 29,
            "metadata": {},
            "outputs": [],
            "source": [
                "# Where AR is underestimated\n",
                "import models.helpers as mh\n",
                "\n",
                "AR = mh.VariableNode(\"Airway resistance (%)\", 0, 90, 2, prior={\"type\": \"uniform\"})\n",
                "\n",
                "\n",
                "def get_dumbell_plot_data(df_res, ar_row):\n",
                "\n",
                "    df_res[f\"{ar_row} mean\"] = df_res[ar_row].apply(lambda row: AR.get_mean(row))\n",
                "    df_res[f\"{ar_row} std\"] = df_res[ar_row].apply(lambda row: AR.get_std(row))\n",
                "    df_res[\"AR_ecFEV1%\"] = 100 - df_res[\"ecFEV1 % Predicted\"]\n",
                "    df_res[f\"{ar_row} - AR_ecFEV1%\"] = df_res[f\"{ar_row} mean\"] - df_res[\"AR_ecFEV1%\"]\n",
                "    # Add value low and high\n",
                "    df_res[f\"{ar_row} low\"] = df_res[f\"{ar_row} mean\"] - df_res[f\"{ar_row} std\"]\n",
                "    df_res[f\"{ar_row} high\"] = df_res[f\"{ar_row} mean\"] + df_res[f\"{ar_row} std\"]\n",
                "\n",
                "    # Create DataFrame with means in separate columns\n",
                "    df_means = (\n",
                "        df_res.groupby(\"ID\")\n",
                "        .agg(\n",
                "            {\n",
                "                f\"{ar_row} std\": \"mean\",\n",
                "                f\"{ar_row} mean\": \"mean\",\n",
                "                \"AR_ecFEV1%\": \"mean\",\n",
                "                f\"{ar_row} - AR_ecFEV1%\": \"mean\",\n",
                "                f\"{ar_row} low\": \"mean\",\n",
                "                f\"{ar_row} high\": \"mean\",\n",
                "            }\n",
                "        )\n",
                "        .rename(\n",
                "            columns={\n",
                "                f\"{ar_row} - AR_ecFEV1%\": f\"Mean {ar_row} - AR_ecFEV1%\",\n",
                "                f\"{ar_row} mean\": f\"Mean {ar_row} prediction\",\n",
                "                f\"{ar_row} std\": f\"Mean {ar_row} std\",\n",
                "                \"AR_ecFEV1%\": \"Mean AR_ecFEV1%\",\n",
                "                f\"{ar_row} low\": f\"Mean {ar_row} low\",\n",
                "                f\"{ar_row} high\": f\"Mean {ar_row} high\",\n",
                "            }\n",
                "        )\n",
                "    ).reset_index()\n",
                "\n",
                "    ids_sorted = df_means.sort_values(\n",
                "        by=f\"Mean {ar_row} - AR_ecFEV1%\", ascending=False\n",
                "    )[\"ID\"].values\n",
                "\n",
                "    # Rename Mean ar row low and high to ar row dist\n",
                "    df_means_2 = df_means.rename(\n",
                "        columns={\n",
                "            f\"Mean {ar_row} low\": f\"Mean {ar_row} dist\",\n",
                "            f\"Mean {ar_row} high\": f\"Mean {ar_row} dist\",\n",
                "        },\n",
                "    )\n",
                "\n",
                "    # Melt the dataframe to get four rows per ID for three measures\n",
                "    df_means_melted = pd.melt(\n",
                "        df_means_2,\n",
                "        id_vars=[\"ID\"],\n",
                "        value_vars=[\n",
                "            \"Mean AR_ecFEV1%\",\n",
                "            f\"Mean {ar_row} dist\",\n",
                "            f\"Mean {ar_row} prediction\",\n",
                "        ],\n",
                "        var_name=\"measure\",\n",
                "        value_name=\"value\",\n",
                "    )\n",
                "\n",
                "    return df_means_melted.set_index(\"ID\").loc[ids_sorted].reset_index(), df_means, ids_sorted\n",
                "\n",
                "\n",
                "# Dumbell plot"
            ]
        },
        {
            "cell_type": "code",
            "execution_count": 30,
            "metadata": {},
            "outputs": [],
            "source": [
                "df_for_dumbell = df_res_last_30\n",
                "# df_for_dumbell = df_res_first_30\n",
                "\n",
                "df_ar_fev1_dumbell, df_ar_fev1_means, ids_sorted = get_dumbell_plot_data(df_for_dumbell, \"AR_fev1\")\n",
                "df_ar_fev1_o2_dumbell, df_ar_fev1_o2_means, ids_sorted = get_dumbell_plot_data(df_for_dumbell, \"AR_fev1_o2\")\n",
                "df_ar_fev1_o2_2d_dumbell, df_ar_fev1_o2_2d_means, ids_sorted_2d = get_dumbell_plot_data(df_for_dumbell, \"AR_fev1_o2_2d\")\n",
                "df_ar_fev1_o2_fef2575_2d_dumbell, df_ar_fev1_o2_fef2575_2d_means, ids_sorted_o2_fef2575 = get_dumbell_plot_data(\n",
                "    df_for_dumbell, \"AR_fev1_o2_fef2575_2d\"\n",
                ")\n",
                "df_ar_fev1_fef2575_2d_dumbell, df_ar_fev1_fef2575_2d_means, ids_sorted_fef2575 = get_dumbell_plot_data(\n",
                "    df_for_dumbell, \"AR_fev1_fef2575_2d\"\n",
                ")\n",
                "# df_ar_fev1_o2_2d = get_dumbell_plot_data('AR_fev1_o2_2d')"
            ]
        },
        {
            "cell_type": "code",
            "execution_count": 31,
            "metadata": {},
            "outputs": [],
            "source": [
                "df_ar_fev1_dumbell = df_ar_fev1_dumbell.set_index(\"ID\").loc[ids_sorted_fef2575].reset_index()\n",
                "df_ar_fev1_o2_dumbell = df_ar_fev1_o2_dumbell.set_index(\"ID\").loc[ids_sorted_fef2575].reset_index()\n",
                "df_ar_fev1_o2_2d_dumbell = (\n",
                "    df_ar_fev1_o2_2d_dumbell.set_index(\"ID\").loc[ids_sorted_fef2575].reset_index()\n",
                ")\n",
                "df_ar_fev1_o2_fef2575_2d_dumbell = (\n",
                "    df_ar_fev1_o2_fef2575_2d_dumbell.set_index(\"ID\").loc[ids_sorted_fef2575].reset_index()\n",
                ")\n",
                "df_ar_fev1_fef2575_2d_dumbell = (\n",
                "    df_ar_fev1_fef2575_2d_dumbell.set_index(\"ID\").loc[ids_sorted_fef2575].reset_index()\n",
                ")"
            ]
        },
        {
            "cell_type": "code",
            "execution_count": 35,
            "metadata": {},
            "outputs": [
                {
                    "name": "stdout",
                    "output_type": "stream",
                    "text": [
                        "Mild size: 520\n",
                        "Moderate size: 456\n",
                        "Severe size: 84\n"
                    ]
                },
                {
                    "name": "stdout",
                    "output_type": "stream",
                    "text": [
                        "-23.449175221381445\n"
                    ]
                },
                {
                    "data": {
                        "application/vnd.plotly.v1+json": {
                            "config": {
                                "plotlyServerURL": "https://plot.ly"
                            },
                            "data": [
                                {
                                    "line": {
                                        "width": 3
                                    },
                                    "marker": {
                                        "color": "red"
                                    },
                                    "mode": "lines",
                                    "name": "Airway resistance inferred",
                                    "showlegend": true,
                                    "type": "scatter",
                                    "x": [
                                        17.60259993954126,
                                        21.868616647292107
                                    ],
                                    "xaxis": "x",
                                    "y": [
                                        "113",
                                        "113"
                                    ],
                                    "yaxis": "y"
                                },
                                {
                                    "line": {
                                        "width": 3
                                    },
                                    "marker": {
                                        "color": "red"
                                    },
                                    "mode": "lines",
                                    "name": "Airway resistance inferred",
                                    "showlegend": false,
                                    "type": "scatter",
                                    "x": [
                                        1.4591887308530722,
                                        3.807102083642251
                                    ],
                                    "xaxis": "x",
                                    "y": [
                                        "469",
                                        "469"
                                    ],
                                    "yaxis": "y"
                                },
                                {
                                    "line": {
                                        "width": 3
                                    },
                                    "marker": {
                                        "color": "red"
                                    },
                                    "mode": "lines",
                                    "name": "Airway resistance inferred",
                                    "showlegend": false,
                                    "type": "scatter",
                                    "x": [
                                        3.7891280270455368,
                                        7.978671602672162
                                    ],
                                    "xaxis": "x",
                                    "y": [
                                        "370",
                                        "370"
                                    ],
                                    "yaxis": "y"
                                },
                                {
                                    "line": {
                                        "width": 3
                                    },
                                    "marker": {
                                        "color": "red"
                                    },
                                    "mode": "lines",
                                    "name": "Airway resistance inferred",
                                    "showlegend": false,
                                    "type": "scatter",
                                    "x": [
                                        11.010371969575305,
                                        15.764980334291188
                                    ],
                                    "xaxis": "x",
                                    "y": [
                                        "126",
                                        "126"
                                    ],
                                    "yaxis": "y"
                                },
                                {
                                    "line": {
                                        "width": 3
                                    },
                                    "marker": {
                                        "color": "red"
                                    },
                                    "mode": "lines",
                                    "name": "Airway resistance inferred",
                                    "showlegend": false,
                                    "type": "scatter",
                                    "x": [
                                        2.204158792811452,
                                        8.173794466903347
                                    ],
                                    "xaxis": "x",
                                    "y": [
                                        "281",
                                        "281"
                                    ],
                                    "yaxis": "y"
                                },
                                {
                                    "line": {
                                        "width": 3
                                    },
                                    "marker": {
                                        "color": "red"
                                    },
                                    "mode": "lines",
                                    "name": "Airway resistance inferred",
                                    "showlegend": false,
                                    "type": "scatter",
                                    "x": [
                                        15.114167999002431,
                                        22.035412387989922
                                    ],
                                    "xaxis": "x",
                                    "y": [
                                        "331",
                                        "331"
                                    ],
                                    "yaxis": "y"
                                },
                                {
                                    "line": {
                                        "width": 3
                                    },
                                    "marker": {
                                        "color": "red"
                                    },
                                    "mode": "lines",
                                    "name": "Airway resistance inferred",
                                    "showlegend": false,
                                    "type": "scatter",
                                    "x": [
                                        7.646475304801745,
                                        13.832382227562997
                                    ],
                                    "xaxis": "x",
                                    "y": [
                                        "250",
                                        "250"
                                    ],
                                    "yaxis": "y"
                                },
                                {
                                    "line": {
                                        "width": 3
                                    },
                                    "marker": {
                                        "color": "red"
                                    },
                                    "mode": "lines",
                                    "name": "Airway resistance inferred",
                                    "showlegend": false,
                                    "type": "scatter",
                                    "x": [
                                        4.7729910263980715,
                                        10.00284069852243
                                    ],
                                    "xaxis": "x",
                                    "y": [
                                        "492",
                                        "492"
                                    ],
                                    "yaxis": "y"
                                },
                                {
                                    "line": {
                                        "width": 3
                                    },
                                    "marker": {
                                        "color": "red"
                                    },
                                    "mode": "lines",
                                    "name": "Airway resistance inferred",
                                    "showlegend": false,
                                    "type": "scatter",
                                    "x": [
                                        6.045067023888259,
                                        14.047751859102815
                                    ],
                                    "xaxis": "x",
                                    "y": [
                                        "513",
                                        "513"
                                    ],
                                    "yaxis": "y"
                                },
                                {
                                    "line": {
                                        "width": 3
                                    },
                                    "marker": {
                                        "color": "red"
                                    },
                                    "mode": "lines",
                                    "name": "Airway resistance inferred",
                                    "showlegend": false,
                                    "type": "scatter",
                                    "x": [
                                        4.265554575415004,
                                        10.914344755743237
                                    ],
                                    "xaxis": "x",
                                    "y": [
                                        "177",
                                        "177"
                                    ],
                                    "yaxis": "y"
                                },
                                {
                                    "line": {
                                        "width": 3
                                    },
                                    "marker": {
                                        "color": "red"
                                    },
                                    "mode": "lines",
                                    "name": "Airway resistance inferred",
                                    "showlegend": false,
                                    "type": "scatter",
                                    "x": [
                                        19.087045474787296,
                                        28.324011618043347
                                    ],
                                    "xaxis": "x",
                                    "y": [
                                        "530",
                                        "530"
                                    ],
                                    "yaxis": "y"
                                },
                                {
                                    "line": {
                                        "width": 3
                                    },
                                    "marker": {
                                        "color": "red"
                                    },
                                    "mode": "lines",
                                    "name": "Airway resistance inferred",
                                    "showlegend": false,
                                    "type": "scatter",
                                    "x": [
                                        2.897717097992236,
                                        10.463351165241452
                                    ],
                                    "xaxis": "x",
                                    "y": [
                                        "444",
                                        "444"
                                    ],
                                    "yaxis": "y"
                                },
                                {
                                    "line": {
                                        "width": 3
                                    },
                                    "marker": {
                                        "color": "red"
                                    },
                                    "mode": "lines",
                                    "name": "Airway resistance inferred",
                                    "showlegend": false,
                                    "type": "scatter",
                                    "x": [
                                        8.19273647977788,
                                        16.373606565004906
                                    ],
                                    "xaxis": "x",
                                    "y": [
                                        "230",
                                        "230"
                                    ],
                                    "yaxis": "y"
                                },
                                {
                                    "line": {
                                        "width": 3
                                    },
                                    "marker": {
                                        "color": "red"
                                    },
                                    "mode": "lines",
                                    "name": "Airway resistance inferred",
                                    "showlegend": false,
                                    "type": "scatter",
                                    "x": [
                                        3.941530020527796,
                                        11.636092759592485
                                    ],
                                    "xaxis": "x",
                                    "y": [
                                        "121",
                                        "121"
                                    ],
                                    "yaxis": "y"
                                },
                                {
                                    "line": {
                                        "width": 3
                                    },
                                    "marker": {
                                        "color": "red"
                                    },
                                    "mode": "lines",
                                    "name": "Airway resistance inferred",
                                    "showlegend": false,
                                    "type": "scatter",
                                    "x": [
                                        2.52554292298462,
                                        9.845387481230054
                                    ],
                                    "xaxis": "x",
                                    "y": [
                                        "512",
                                        "512"
                                    ],
                                    "yaxis": "y"
                                },
                                {
                                    "line": {
                                        "width": 3
                                    },
                                    "marker": {
                                        "color": "red"
                                    },
                                    "mode": "lines",
                                    "name": "Airway resistance inferred",
                                    "showlegend": false,
                                    "type": "scatter",
                                    "x": [
                                        11.942042110887554,
                                        20.537639952958866
                                    ],
                                    "xaxis": "x",
                                    "y": [
                                        "262",
                                        "262"
                                    ],
                                    "yaxis": "y"
                                },
                                {
                                    "line": {
                                        "width": 3
                                    },
                                    "marker": {
                                        "color": "red"
                                    },
                                    "mode": "lines",
                                    "name": "Airway resistance inferred",
                                    "showlegend": false,
                                    "type": "scatter",
                                    "x": [
                                        6.5068358521034275,
                                        13.322008205933088
                                    ],
                                    "xaxis": "x",
                                    "y": [
                                        "244",
                                        "244"
                                    ],
                                    "yaxis": "y"
                                },
                                {
                                    "line": {
                                        "width": 3
                                    },
                                    "marker": {
                                        "color": "red"
                                    },
                                    "mode": "lines",
                                    "name": "Airway resistance inferred",
                                    "showlegend": false,
                                    "type": "scatter",
                                    "x": [
                                        11.223030571446406,
                                        20.631169194321817
                                    ],
                                    "xaxis": "x",
                                    "y": [
                                        "273",
                                        "273"
                                    ],
                                    "yaxis": "y"
                                },
                                {
                                    "line": {
                                        "width": 3
                                    },
                                    "marker": {
                                        "color": "red"
                                    },
                                    "mode": "lines",
                                    "name": "Airway resistance inferred",
                                    "showlegend": false,
                                    "type": "scatter",
                                    "x": [
                                        9.283842599457104,
                                        16.982546573442598
                                    ],
                                    "xaxis": "x",
                                    "y": [
                                        "302",
                                        "302"
                                    ],
                                    "yaxis": "y"
                                },
                                {
                                    "line": {
                                        "width": 3
                                    },
                                    "marker": {
                                        "color": "red"
                                    },
                                    "mode": "lines",
                                    "name": "Airway resistance inferred",
                                    "showlegend": false,
                                    "type": "scatter",
                                    "x": [
                                        16.727309156886598,
                                        28.99726092661924
                                    ],
                                    "xaxis": "x",
                                    "y": [
                                        "307",
                                        "307"
                                    ],
                                    "yaxis": "y"
                                },
                                {
                                    "line": {
                                        "width": 3
                                    },
                                    "marker": {
                                        "color": "red"
                                    },
                                    "mode": "lines",
                                    "name": "Airway resistance inferred",
                                    "showlegend": false,
                                    "type": "scatter",
                                    "x": [
                                        9.943338106973762,
                                        17.857052491004
                                    ],
                                    "xaxis": "x",
                                    "y": [
                                        "178",
                                        "178"
                                    ],
                                    "yaxis": "y"
                                },
                                {
                                    "line": {
                                        "width": 3
                                    },
                                    "marker": {
                                        "color": "red"
                                    },
                                    "mode": "lines",
                                    "name": "Airway resistance inferred",
                                    "showlegend": false,
                                    "type": "scatter",
                                    "x": [
                                        9.764234134059423,
                                        18.855822968388214
                                    ],
                                    "xaxis": "x",
                                    "y": [
                                        "182",
                                        "182"
                                    ],
                                    "yaxis": "y"
                                },
                                {
                                    "line": {
                                        "width": 3
                                    },
                                    "marker": {
                                        "color": "red"
                                    },
                                    "mode": "lines",
                                    "name": "Airway resistance inferred",
                                    "showlegend": false,
                                    "type": "scatter",
                                    "x": [
                                        16.26671099917767,
                                        27.724793286419057
                                    ],
                                    "xaxis": "x",
                                    "y": [
                                        "233",
                                        "233"
                                    ],
                                    "yaxis": "y"
                                },
                                {
                                    "line": {
                                        "width": 3
                                    },
                                    "marker": {
                                        "color": "red"
                                    },
                                    "mode": "lines",
                                    "name": "Airway resistance inferred",
                                    "showlegend": false,
                                    "type": "scatter",
                                    "x": [
                                        17.488809743544213,
                                        30.262920199297938
                                    ],
                                    "xaxis": "x",
                                    "y": [
                                        "420",
                                        "420"
                                    ],
                                    "yaxis": "y"
                                },
                                {
                                    "line": {
                                        "width": 3
                                    },
                                    "marker": {
                                        "color": "red"
                                    },
                                    "mode": "lines",
                                    "name": "Airway resistance inferred",
                                    "showlegend": false,
                                    "type": "scatter",
                                    "x": [
                                        18.593563320147187,
                                        26.73505362751055
                                    ],
                                    "xaxis": "x",
                                    "y": [
                                        "242",
                                        "242"
                                    ],
                                    "yaxis": "y"
                                },
                                {
                                    "line": {
                                        "width": 3
                                    },
                                    "marker": {
                                        "color": "red"
                                    },
                                    "mode": "lines",
                                    "name": "Airway resistance inferred",
                                    "showlegend": false,
                                    "type": "scatter",
                                    "x": [
                                        19.037922967368722,
                                        30.547088924895217
                                    ],
                                    "xaxis": "x",
                                    "y": [
                                        "134",
                                        "134"
                                    ],
                                    "yaxis": "y"
                                },
                                {
                                    "line": {
                                        "width": 3
                                    },
                                    "marker": {
                                        "color": "red"
                                    },
                                    "mode": "lines",
                                    "name": "Airway resistance inferred",
                                    "showlegend": false,
                                    "type": "scatter",
                                    "x": [
                                        2.755628032859091,
                                        11.338415346939598
                                    ],
                                    "xaxis": "x",
                                    "y": [
                                        "130",
                                        "130"
                                    ],
                                    "yaxis": "y"
                                },
                                {
                                    "line": {
                                        "width": 3
                                    },
                                    "marker": {
                                        "color": "red"
                                    },
                                    "mode": "lines",
                                    "name": "Airway resistance inferred",
                                    "showlegend": false,
                                    "type": "scatter",
                                    "x": [
                                        7.6521190962220755,
                                        18.758798666461924
                                    ],
                                    "xaxis": "x",
                                    "y": [
                                        "255",
                                        "255"
                                    ],
                                    "yaxis": "y"
                                },
                                {
                                    "line": {
                                        "width": 3
                                    },
                                    "marker": {
                                        "color": "red"
                                    },
                                    "mode": "lines",
                                    "name": "Airway resistance inferred",
                                    "showlegend": false,
                                    "type": "scatter",
                                    "x": [
                                        22.405463451883865,
                                        35.220535814041206
                                    ],
                                    "xaxis": "x",
                                    "y": [
                                        "257",
                                        "257"
                                    ],
                                    "yaxis": "y"
                                },
                                {
                                    "line": {
                                        "width": 3
                                    },
                                    "marker": {
                                        "color": "red"
                                    },
                                    "mode": "lines",
                                    "name": "Airway resistance inferred",
                                    "showlegend": false,
                                    "type": "scatter",
                                    "x": [
                                        6.8018144009686745,
                                        15.5144471729624
                                    ],
                                    "xaxis": "x",
                                    "y": [
                                        "297",
                                        "297"
                                    ],
                                    "yaxis": "y"
                                },
                                {
                                    "line": {
                                        "width": 3
                                    },
                                    "marker": {
                                        "color": "red"
                                    },
                                    "mode": "lines",
                                    "name": "Airway resistance inferred",
                                    "showlegend": false,
                                    "type": "scatter",
                                    "x": [
                                        17.94392912933897,
                                        31.80263971420477
                                    ],
                                    "xaxis": "x",
                                    "y": [
                                        "319",
                                        "319"
                                    ],
                                    "yaxis": "y"
                                },
                                {
                                    "line": {
                                        "width": 3
                                    },
                                    "marker": {
                                        "color": "red"
                                    },
                                    "mode": "lines",
                                    "name": "Airway resistance inferred",
                                    "showlegend": false,
                                    "type": "scatter",
                                    "x": [
                                        5.843298889130981,
                                        14.183101839337294
                                    ],
                                    "xaxis": "x",
                                    "y": [
                                        "455",
                                        "455"
                                    ],
                                    "yaxis": "y"
                                },
                                {
                                    "line": {
                                        "width": 3
                                    },
                                    "marker": {
                                        "color": "red"
                                    },
                                    "mode": "lines",
                                    "name": "Airway resistance inferred",
                                    "showlegend": false,
                                    "type": "scatter",
                                    "x": [
                                        4.719853426788362,
                                        13.407584905576437
                                    ],
                                    "xaxis": "x",
                                    "y": [
                                        "144",
                                        "144"
                                    ],
                                    "yaxis": "y"
                                },
                                {
                                    "line": {
                                        "width": 3
                                    },
                                    "marker": {
                                        "color": "red"
                                    },
                                    "mode": "lines",
                                    "name": "Airway resistance inferred",
                                    "showlegend": false,
                                    "type": "scatter",
                                    "x": [
                                        10.83055589976842,
                                        23.454487688250325
                                    ],
                                    "xaxis": "x",
                                    "y": [
                                        "299",
                                        "299"
                                    ],
                                    "yaxis": "y"
                                },
                                {
                                    "line": {
                                        "width": 3
                                    },
                                    "marker": {
                                        "color": "red"
                                    },
                                    "mode": "lines",
                                    "name": "Airway resistance inferred",
                                    "showlegend": false,
                                    "type": "scatter",
                                    "x": [
                                        8.573827859194388,
                                        20.632732525505507
                                    ],
                                    "xaxis": "x",
                                    "y": [
                                        "170",
                                        "170"
                                    ],
                                    "yaxis": "y"
                                },
                                {
                                    "line": {
                                        "width": 3
                                    },
                                    "marker": {
                                        "color": "red"
                                    },
                                    "mode": "lines",
                                    "name": "Airway resistance inferred",
                                    "showlegend": false,
                                    "type": "scatter",
                                    "x": [
                                        14.401039341539938,
                                        24.466496467176967
                                    ],
                                    "xaxis": "x",
                                    "y": [
                                        "141",
                                        "141"
                                    ],
                                    "yaxis": "y"
                                },
                                {
                                    "line": {
                                        "width": 3
                                    },
                                    "marker": {
                                        "color": "red"
                                    },
                                    "mode": "lines",
                                    "name": "Airway resistance inferred",
                                    "showlegend": false,
                                    "type": "scatter",
                                    "x": [
                                        5.758258580324904,
                                        13.192549680527696
                                    ],
                                    "xaxis": "x",
                                    "y": [
                                        "482",
                                        "482"
                                    ],
                                    "yaxis": "y"
                                },
                                {
                                    "line": {
                                        "width": 3
                                    },
                                    "marker": {
                                        "color": "red"
                                    },
                                    "mode": "lines",
                                    "name": "Airway resistance inferred",
                                    "showlegend": false,
                                    "type": "scatter",
                                    "x": [
                                        10.645944420977003,
                                        19.908638562717307
                                    ],
                                    "xaxis": "x",
                                    "y": [
                                        "490",
                                        "490"
                                    ],
                                    "yaxis": "y"
                                },
                                {
                                    "line": {
                                        "width": 3
                                    },
                                    "marker": {
                                        "color": "red"
                                    },
                                    "mode": "lines",
                                    "name": "Airway resistance inferred",
                                    "showlegend": false,
                                    "type": "scatter",
                                    "x": [
                                        9.258548176451095,
                                        20.324937928370563
                                    ],
                                    "xaxis": "x",
                                    "y": [
                                        "343",
                                        "343"
                                    ],
                                    "yaxis": "y"
                                },
                                {
                                    "line": {
                                        "width": 3
                                    },
                                    "marker": {
                                        "color": "red"
                                    },
                                    "mode": "lines",
                                    "name": "Airway resistance inferred",
                                    "showlegend": false,
                                    "type": "scatter",
                                    "x": [
                                        16.69301490211491,
                                        28.821523689537212
                                    ],
                                    "xaxis": "x",
                                    "y": [
                                        "551",
                                        "551"
                                    ],
                                    "yaxis": "y"
                                },
                                {
                                    "line": {
                                        "width": 3
                                    },
                                    "marker": {
                                        "color": "red"
                                    },
                                    "mode": "lines",
                                    "name": "Airway resistance inferred",
                                    "showlegend": false,
                                    "type": "scatter",
                                    "x": [
                                        4.782791005678568,
                                        15.317370466120138
                                    ],
                                    "xaxis": "x",
                                    "y": [
                                        "190",
                                        "190"
                                    ],
                                    "yaxis": "y"
                                },
                                {
                                    "line": {
                                        "width": 3
                                    },
                                    "marker": {
                                        "color": "red"
                                    },
                                    "mode": "lines",
                                    "name": "Airway resistance inferred",
                                    "showlegend": false,
                                    "type": "scatter",
                                    "x": [
                                        14.424458571432085,
                                        26.321189222941257
                                    ],
                                    "xaxis": "x",
                                    "y": [
                                        "480",
                                        "480"
                                    ],
                                    "yaxis": "y"
                                },
                                {
                                    "line": {
                                        "width": 3
                                    },
                                    "marker": {
                                        "color": "red"
                                    },
                                    "mode": "lines",
                                    "name": "Airway resistance inferred",
                                    "showlegend": false,
                                    "type": "scatter",
                                    "x": [
                                        13.611009709446972,
                                        26.715700843275798
                                    ],
                                    "xaxis": "x",
                                    "y": [
                                        "511",
                                        "511"
                                    ],
                                    "yaxis": "y"
                                },
                                {
                                    "line": {
                                        "width": 3
                                    },
                                    "marker": {
                                        "color": "red"
                                    },
                                    "mode": "lines",
                                    "name": "Airway resistance inferred",
                                    "showlegend": false,
                                    "type": "scatter",
                                    "x": [
                                        9.619683050758391,
                                        19.663645105959244
                                    ],
                                    "xaxis": "x",
                                    "y": [
                                        "467",
                                        "467"
                                    ],
                                    "yaxis": "y"
                                },
                                {
                                    "line": {
                                        "width": 3
                                    },
                                    "marker": {
                                        "color": "red"
                                    },
                                    "mode": "lines",
                                    "name": "Airway resistance inferred",
                                    "showlegend": false,
                                    "type": "scatter",
                                    "x": [
                                        11.041355567334412,
                                        22.305632366248776
                                    ],
                                    "xaxis": "x",
                                    "y": [
                                        "152",
                                        "152"
                                    ],
                                    "yaxis": "y"
                                },
                                {
                                    "line": {
                                        "width": 3
                                    },
                                    "marker": {
                                        "color": "red"
                                    },
                                    "mode": "lines",
                                    "name": "Airway resistance inferred",
                                    "showlegend": false,
                                    "type": "scatter",
                                    "x": [
                                        11.823422058343365,
                                        25.455020559589073
                                    ],
                                    "xaxis": "x",
                                    "y": [
                                        "163",
                                        "163"
                                    ],
                                    "yaxis": "y"
                                },
                                {
                                    "line": {
                                        "width": 3
                                    },
                                    "marker": {
                                        "color": "red"
                                    },
                                    "mode": "lines",
                                    "name": "Airway resistance inferred",
                                    "showlegend": false,
                                    "type": "scatter",
                                    "x": [
                                        8.275506344852479,
                                        16.4887051513979
                                    ],
                                    "xaxis": "x",
                                    "y": [
                                        "506",
                                        "506"
                                    ],
                                    "yaxis": "y"
                                },
                                {
                                    "line": {
                                        "width": 3
                                    },
                                    "marker": {
                                        "color": "red"
                                    },
                                    "mode": "lines",
                                    "name": "Airway resistance inferred",
                                    "showlegend": false,
                                    "type": "scatter",
                                    "x": [
                                        5.4773875771263585,
                                        16.39211715567001
                                    ],
                                    "xaxis": "x",
                                    "y": [
                                        "123",
                                        "123"
                                    ],
                                    "yaxis": "y"
                                },
                                {
                                    "line": {
                                        "width": 3
                                    },
                                    "marker": {
                                        "color": "red"
                                    },
                                    "mode": "lines",
                                    "name": "Airway resistance inferred",
                                    "showlegend": false,
                                    "type": "scatter",
                                    "x": [
                                        8.163124955859914,
                                        17.195989037479258
                                    ],
                                    "xaxis": "x",
                                    "y": [
                                        "209",
                                        "209"
                                    ],
                                    "yaxis": "y"
                                },
                                {
                                    "line": {
                                        "width": 3
                                    },
                                    "marker": {
                                        "color": "red"
                                    },
                                    "mode": "lines",
                                    "name": "Airway resistance inferred",
                                    "showlegend": false,
                                    "type": "scatter",
                                    "x": [
                                        12.31409851729984,
                                        25.324259767717404
                                    ],
                                    "xaxis": "x",
                                    "y": [
                                        "276",
                                        "276"
                                    ],
                                    "yaxis": "y"
                                },
                                {
                                    "line": {
                                        "width": 3
                                    },
                                    "marker": {
                                        "color": "red"
                                    },
                                    "mode": "lines",
                                    "name": "Airway resistance inferred",
                                    "showlegend": false,
                                    "type": "scatter",
                                    "x": [
                                        3.737901163267174,
                                        14.119808914878048
                                    ],
                                    "xaxis": "x",
                                    "y": [
                                        "407",
                                        "407"
                                    ],
                                    "yaxis": "y"
                                },
                                {
                                    "line": {
                                        "width": 3
                                    },
                                    "marker": {
                                        "color": "red"
                                    },
                                    "mode": "lines",
                                    "name": "Airway resistance inferred",
                                    "showlegend": false,
                                    "type": "scatter",
                                    "x": [
                                        5.328321216276535,
                                        16.128028780795283
                                    ],
                                    "xaxis": "x",
                                    "y": [
                                        "239",
                                        "239"
                                    ],
                                    "yaxis": "y"
                                },
                                {
                                    "line": {
                                        "width": 3
                                    },
                                    "marker": {
                                        "color": "red"
                                    },
                                    "mode": "lines",
                                    "name": "Airway resistance inferred",
                                    "showlegend": false,
                                    "type": "scatter",
                                    "x": [
                                        9.125115010270466,
                                        21.069444253747854
                                    ],
                                    "xaxis": "x",
                                    "y": [
                                        "292",
                                        "292"
                                    ],
                                    "yaxis": "y"
                                },
                                {
                                    "line": {
                                        "width": 3
                                    },
                                    "marker": {
                                        "color": "red"
                                    },
                                    "mode": "lines",
                                    "name": "Airway resistance inferred",
                                    "showlegend": false,
                                    "type": "scatter",
                                    "x": [
                                        17.12168471817281,
                                        29.187454438045172
                                    ],
                                    "xaxis": "x",
                                    "y": [
                                        "543",
                                        "543"
                                    ],
                                    "yaxis": "y"
                                },
                                {
                                    "line": {
                                        "width": 3
                                    },
                                    "marker": {
                                        "color": "red"
                                    },
                                    "mode": "lines",
                                    "name": "Airway resistance inferred",
                                    "showlegend": false,
                                    "type": "scatter",
                                    "x": [
                                        4.511611516880009,
                                        14.680073313785192
                                    ],
                                    "xaxis": "x",
                                    "y": [
                                        "443",
                                        "443"
                                    ],
                                    "yaxis": "y"
                                },
                                {
                                    "line": {
                                        "width": 3
                                    },
                                    "marker": {
                                        "color": "red"
                                    },
                                    "mode": "lines",
                                    "name": "Airway resistance inferred",
                                    "showlegend": false,
                                    "type": "scatter",
                                    "x": [
                                        20.820654130482165,
                                        34.365678788934865
                                    ],
                                    "xaxis": "x",
                                    "y": [
                                        "171",
                                        "171"
                                    ],
                                    "yaxis": "y"
                                },
                                {
                                    "line": {
                                        "width": 3
                                    },
                                    "marker": {
                                        "color": "red"
                                    },
                                    "mode": "lines",
                                    "name": "Airway resistance inferred",
                                    "showlegend": false,
                                    "type": "scatter",
                                    "x": [
                                        14.732219431545271,
                                        24.656458478566705
                                    ],
                                    "xaxis": "x",
                                    "y": [
                                        "532",
                                        "532"
                                    ],
                                    "yaxis": "y"
                                },
                                {
                                    "line": {
                                        "width": 3
                                    },
                                    "marker": {
                                        "color": "red"
                                    },
                                    "mode": "lines",
                                    "name": "Airway resistance inferred",
                                    "showlegend": false,
                                    "type": "scatter",
                                    "x": [
                                        4.9793035892968,
                                        14.404747617281869
                                    ],
                                    "xaxis": "x",
                                    "y": [
                                        "401",
                                        "401"
                                    ],
                                    "yaxis": "y"
                                },
                                {
                                    "line": {
                                        "width": 3
                                    },
                                    "marker": {
                                        "color": "red"
                                    },
                                    "mode": "lines",
                                    "name": "Airway resistance inferred",
                                    "showlegend": false,
                                    "type": "scatter",
                                    "x": [
                                        12.957526581263103,
                                        26.22996937675602
                                    ],
                                    "xaxis": "x",
                                    "y": [
                                        "544",
                                        "544"
                                    ],
                                    "yaxis": "y"
                                },
                                {
                                    "line": {
                                        "width": 3
                                    },
                                    "marker": {
                                        "color": "red"
                                    },
                                    "mode": "lines",
                                    "name": "Airway resistance inferred",
                                    "showlegend": false,
                                    "type": "scatter",
                                    "x": [
                                        10.801261797713682,
                                        23.933088856874736
                                    ],
                                    "xaxis": "x",
                                    "y": [
                                        "223",
                                        "223"
                                    ],
                                    "yaxis": "y"
                                },
                                {
                                    "line": {
                                        "width": 3
                                    },
                                    "marker": {
                                        "color": "red"
                                    },
                                    "mode": "lines",
                                    "name": "Airway resistance inferred",
                                    "showlegend": false,
                                    "type": "scatter",
                                    "x": [
                                        7.957877764139805,
                                        17.86888422259988
                                    ],
                                    "xaxis": "x",
                                    "y": [
                                        "381",
                                        "381"
                                    ],
                                    "yaxis": "y"
                                },
                                {
                                    "line": {
                                        "width": 3
                                    },
                                    "marker": {
                                        "color": "red"
                                    },
                                    "mode": "lines",
                                    "name": "Airway resistance inferred",
                                    "showlegend": false,
                                    "type": "scatter",
                                    "x": [
                                        6.371932822103386,
                                        17.97222320877427
                                    ],
                                    "xaxis": "x",
                                    "y": [
                                        "296",
                                        "296"
                                    ],
                                    "yaxis": "y"
                                },
                                {
                                    "line": {
                                        "width": 3
                                    },
                                    "marker": {
                                        "color": "red"
                                    },
                                    "mode": "lines",
                                    "name": "Airway resistance inferred",
                                    "showlegend": false,
                                    "type": "scatter",
                                    "x": [
                                        18.485172789564892,
                                        33.06025124770188
                                    ],
                                    "xaxis": "x",
                                    "y": [
                                        "315",
                                        "315"
                                    ],
                                    "yaxis": "y"
                                },
                                {
                                    "line": {
                                        "width": 3
                                    },
                                    "marker": {
                                        "color": "red"
                                    },
                                    "mode": "lines",
                                    "name": "Airway resistance inferred",
                                    "showlegend": false,
                                    "type": "scatter",
                                    "x": [
                                        6.922868016657982,
                                        19.809758093213905
                                    ],
                                    "xaxis": "x",
                                    "y": [
                                        "300",
                                        "300"
                                    ],
                                    "yaxis": "y"
                                },
                                {
                                    "line": {
                                        "width": 3
                                    },
                                    "marker": {
                                        "color": "red"
                                    },
                                    "mode": "lines",
                                    "name": "Airway resistance inferred",
                                    "showlegend": false,
                                    "type": "scatter",
                                    "x": [
                                        8.454425004596372,
                                        17.11270818721888
                                    ],
                                    "xaxis": "x",
                                    "y": [
                                        "427",
                                        "427"
                                    ],
                                    "yaxis": "y"
                                },
                                {
                                    "line": {
                                        "width": 3
                                    },
                                    "marker": {
                                        "color": "red"
                                    },
                                    "mode": "lines",
                                    "name": "Airway resistance inferred",
                                    "showlegend": false,
                                    "type": "scatter",
                                    "x": [
                                        9.982547790783302,
                                        20.296108747601398
                                    ],
                                    "xaxis": "x",
                                    "y": [
                                        "312",
                                        "312"
                                    ],
                                    "yaxis": "y"
                                },
                                {
                                    "line": {
                                        "width": 3
                                    },
                                    "marker": {
                                        "color": "red"
                                    },
                                    "mode": "lines",
                                    "name": "Airway resistance inferred",
                                    "showlegend": false,
                                    "type": "scatter",
                                    "x": [
                                        20.641598143893336,
                                        33.67631431499017
                                    ],
                                    "xaxis": "x",
                                    "y": [
                                        "115",
                                        "115"
                                    ],
                                    "yaxis": "y"
                                },
                                {
                                    "line": {
                                        "width": 3
                                    },
                                    "marker": {
                                        "color": "red"
                                    },
                                    "mode": "lines",
                                    "name": "Airway resistance inferred",
                                    "showlegend": false,
                                    "type": "scatter",
                                    "x": [
                                        10.80884574760146,
                                        22.582033874352604
                                    ],
                                    "xaxis": "x",
                                    "y": [
                                        "290",
                                        "290"
                                    ],
                                    "yaxis": "y"
                                },
                                {
                                    "line": {
                                        "width": 3
                                    },
                                    "marker": {
                                        "color": "red"
                                    },
                                    "mode": "lines",
                                    "name": "Airway resistance inferred",
                                    "showlegend": false,
                                    "type": "scatter",
                                    "x": [
                                        10.02270256211198,
                                        19.31438666190132
                                    ],
                                    "xaxis": "x",
                                    "y": [
                                        "125",
                                        "125"
                                    ],
                                    "yaxis": "y"
                                },
                                {
                                    "line": {
                                        "width": 3
                                    },
                                    "marker": {
                                        "color": "red"
                                    },
                                    "mode": "lines",
                                    "name": "Airway resistance inferred",
                                    "showlegend": false,
                                    "type": "scatter",
                                    "x": [
                                        16.33175840438372,
                                        31.04019937670684
                                    ],
                                    "xaxis": "x",
                                    "y": [
                                        "447",
                                        "447"
                                    ],
                                    "yaxis": "y"
                                },
                                {
                                    "line": {
                                        "width": 3
                                    },
                                    "marker": {
                                        "color": "red"
                                    },
                                    "mode": "lines",
                                    "name": "Airway resistance inferred",
                                    "showlegend": false,
                                    "type": "scatter",
                                    "x": [
                                        19.309649665364805,
                                        30.273049649066184
                                    ],
                                    "xaxis": "x",
                                    "y": [
                                        "124",
                                        "124"
                                    ],
                                    "yaxis": "y"
                                },
                                {
                                    "line": {
                                        "width": 3
                                    },
                                    "marker": {
                                        "color": "red"
                                    },
                                    "mode": "lines",
                                    "name": "Airway resistance inferred",
                                    "showlegend": false,
                                    "type": "scatter",
                                    "x": [
                                        15.474253373967993,
                                        28.138606667101133
                                    ],
                                    "xaxis": "x",
                                    "y": [
                                        "310",
                                        "310"
                                    ],
                                    "yaxis": "y"
                                },
                                {
                                    "line": {
                                        "width": 3
                                    },
                                    "marker": {
                                        "color": "red"
                                    },
                                    "mode": "lines",
                                    "name": "Airway resistance inferred",
                                    "showlegend": false,
                                    "type": "scatter",
                                    "x": [
                                        19.558140046884873,
                                        34.27163488683833
                                    ],
                                    "xaxis": "x",
                                    "y": [
                                        "240",
                                        "240"
                                    ],
                                    "yaxis": "y"
                                },
                                {
                                    "line": {
                                        "width": 3
                                    },
                                    "marker": {
                                        "color": "red"
                                    },
                                    "mode": "lines",
                                    "name": "Airway resistance inferred",
                                    "showlegend": false,
                                    "type": "scatter",
                                    "x": [
                                        18.779557299293607,
                                        32.567808777821895
                                    ],
                                    "xaxis": "x",
                                    "y": [
                                        "495",
                                        "495"
                                    ],
                                    "yaxis": "y"
                                },
                                {
                                    "line": {
                                        "width": 3
                                    },
                                    "marker": {
                                        "color": "red"
                                    },
                                    "mode": "lines",
                                    "name": "Airway resistance inferred",
                                    "showlegend": false,
                                    "type": "scatter",
                                    "x": [
                                        9.333674419086808,
                                        19.591688113946798
                                    ],
                                    "xaxis": "x",
                                    "y": [
                                        "156",
                                        "156"
                                    ],
                                    "yaxis": "y"
                                },
                                {
                                    "line": {
                                        "width": 3
                                    },
                                    "marker": {
                                        "color": "red"
                                    },
                                    "mode": "lines",
                                    "name": "Airway resistance inferred",
                                    "showlegend": false,
                                    "type": "scatter",
                                    "x": [
                                        5.526420680562496,
                                        16.151031860432973
                                    ],
                                    "xaxis": "x",
                                    "y": [
                                        "553",
                                        "553"
                                    ],
                                    "yaxis": "y"
                                },
                                {
                                    "line": {
                                        "width": 3
                                    },
                                    "marker": {
                                        "color": "red"
                                    },
                                    "mode": "lines",
                                    "name": "Airway resistance inferred",
                                    "showlegend": false,
                                    "type": "scatter",
                                    "x": [
                                        7.754468164981239,
                                        17.301261076845
                                    ],
                                    "xaxis": "x",
                                    "y": [
                                        "192",
                                        "192"
                                    ],
                                    "yaxis": "y"
                                },
                                {
                                    "line": {
                                        "width": 3
                                    },
                                    "marker": {
                                        "color": "red"
                                    },
                                    "mode": "lines",
                                    "name": "Airway resistance inferred",
                                    "showlegend": false,
                                    "type": "scatter",
                                    "x": [
                                        13.414380373440547,
                                        26.89705551791564
                                    ],
                                    "xaxis": "x",
                                    "y": [
                                        "352",
                                        "352"
                                    ],
                                    "yaxis": "y"
                                },
                                {
                                    "line": {
                                        "width": 3
                                    },
                                    "marker": {
                                        "color": "red"
                                    },
                                    "mode": "lines",
                                    "name": "Airway resistance inferred",
                                    "showlegend": false,
                                    "type": "scatter",
                                    "x": [
                                        8.370131527996643,
                                        21.353367572729425
                                    ],
                                    "xaxis": "x",
                                    "y": [
                                        "425",
                                        "425"
                                    ],
                                    "yaxis": "y"
                                },
                                {
                                    "line": {
                                        "width": 3
                                    },
                                    "marker": {
                                        "color": "red"
                                    },
                                    "mode": "lines",
                                    "name": "Airway resistance inferred",
                                    "showlegend": false,
                                    "type": "scatter",
                                    "x": [
                                        11.930935038927895,
                                        26.149338385870372
                                    ],
                                    "xaxis": "x",
                                    "y": [
                                        "215",
                                        "215"
                                    ],
                                    "yaxis": "y"
                                },
                                {
                                    "line": {
                                        "width": 3
                                    },
                                    "marker": {
                                        "color": "red"
                                    },
                                    "mode": "lines",
                                    "name": "Airway resistance inferred",
                                    "showlegend": false,
                                    "type": "scatter",
                                    "x": [
                                        19.77158092623876,
                                        28.06878898348577
                                    ],
                                    "xaxis": "x",
                                    "y": [
                                        "221",
                                        "221"
                                    ],
                                    "yaxis": "y"
                                },
                                {
                                    "line": {
                                        "width": 3
                                    },
                                    "marker": {
                                        "color": "red"
                                    },
                                    "mode": "lines",
                                    "name": "Airway resistance inferred",
                                    "showlegend": false,
                                    "type": "scatter",
                                    "x": [
                                        7.582216996359341,
                                        19.73378295493495
                                    ],
                                    "xaxis": "x",
                                    "y": [
                                        "535",
                                        "535"
                                    ],
                                    "yaxis": "y"
                                },
                                {
                                    "line": {
                                        "width": 3
                                    },
                                    "marker": {
                                        "color": "red"
                                    },
                                    "mode": "lines",
                                    "name": "Airway resistance inferred",
                                    "showlegend": false,
                                    "type": "scatter",
                                    "x": [
                                        21.44547201435523,
                                        36.073023657528594
                                    ],
                                    "xaxis": "x",
                                    "y": [
                                        "180",
                                        "180"
                                    ],
                                    "yaxis": "y"
                                },
                                {
                                    "line": {
                                        "width": 3
                                    },
                                    "marker": {
                                        "color": "red"
                                    },
                                    "mode": "lines",
                                    "name": "Airway resistance inferred",
                                    "showlegend": false,
                                    "type": "scatter",
                                    "x": [
                                        18.611123461937776,
                                        29.975270366862386
                                    ],
                                    "xaxis": "x",
                                    "y": [
                                        "294",
                                        "294"
                                    ],
                                    "yaxis": "y"
                                },
                                {
                                    "line": {
                                        "width": 3
                                    },
                                    "marker": {
                                        "color": "red"
                                    },
                                    "mode": "lines",
                                    "name": "Airway resistance inferred",
                                    "showlegend": false,
                                    "type": "scatter",
                                    "x": [
                                        15.066304483295685,
                                        28.959678110118624
                                    ],
                                    "xaxis": "x",
                                    "y": [
                                        "109",
                                        "109"
                                    ],
                                    "yaxis": "y"
                                },
                                {
                                    "line": {
                                        "width": 3
                                    },
                                    "marker": {
                                        "color": "red"
                                    },
                                    "mode": "lines",
                                    "name": "Airway resistance inferred",
                                    "showlegend": false,
                                    "type": "scatter",
                                    "x": [
                                        9.58008090110677,
                                        20.051444236115152
                                    ],
                                    "xaxis": "x",
                                    "y": [
                                        "263",
                                        "263"
                                    ],
                                    "yaxis": "y"
                                },
                                {
                                    "line": {
                                        "width": 3
                                    },
                                    "marker": {
                                        "color": "red"
                                    },
                                    "mode": "lines",
                                    "name": "Airway resistance inferred",
                                    "showlegend": false,
                                    "type": "scatter",
                                    "x": [
                                        6.695490049673951,
                                        19.386881938199995
                                    ],
                                    "xaxis": "x",
                                    "y": [
                                        "351",
                                        "351"
                                    ],
                                    "yaxis": "y"
                                },
                                {
                                    "line": {
                                        "width": 3
                                    },
                                    "marker": {
                                        "color": "red"
                                    },
                                    "mode": "lines",
                                    "name": "Airway resistance inferred",
                                    "showlegend": false,
                                    "type": "scatter",
                                    "x": [
                                        17.555606271558656,
                                        31.26177920327544
                                    ],
                                    "xaxis": "x",
                                    "y": [
                                        "504",
                                        "504"
                                    ],
                                    "yaxis": "y"
                                },
                                {
                                    "line": {
                                        "width": 3
                                    },
                                    "marker": {
                                        "color": "red"
                                    },
                                    "mode": "lines",
                                    "name": "Airway resistance inferred",
                                    "showlegend": false,
                                    "type": "scatter",
                                    "x": [
                                        15.793230965390709,
                                        29.30780161508915
                                    ],
                                    "xaxis": "x",
                                    "y": [
                                        "176",
                                        "176"
                                    ],
                                    "yaxis": "y"
                                },
                                {
                                    "line": {
                                        "width": 3
                                    },
                                    "marker": {
                                        "color": "red"
                                    },
                                    "mode": "lines",
                                    "name": "Airway resistance inferred",
                                    "showlegend": false,
                                    "type": "scatter",
                                    "x": [
                                        13.462132989069586,
                                        25.88384887162848
                                    ],
                                    "xaxis": "x",
                                    "y": [
                                        "231",
                                        "231"
                                    ],
                                    "yaxis": "y"
                                },
                                {
                                    "line": {
                                        "width": 3
                                    },
                                    "marker": {
                                        "color": "red"
                                    },
                                    "mode": "lines",
                                    "name": "Airway resistance inferred",
                                    "showlegend": false,
                                    "type": "scatter",
                                    "x": [
                                        12.299150111301568,
                                        24.409216227236463
                                    ],
                                    "xaxis": "x",
                                    "y": [
                                        "197",
                                        "197"
                                    ],
                                    "yaxis": "y"
                                },
                                {
                                    "line": {
                                        "width": 3
                                    },
                                    "marker": {
                                        "color": "red"
                                    },
                                    "mode": "lines",
                                    "name": "Airway resistance inferred",
                                    "showlegend": false,
                                    "type": "scatter",
                                    "x": [
                                        23.80215613445897,
                                        35.369950017724435
                                    ],
                                    "xaxis": "x",
                                    "y": [
                                        "174",
                                        "174"
                                    ],
                                    "yaxis": "y"
                                },
                                {
                                    "line": {
                                        "width": 3
                                    },
                                    "marker": {
                                        "color": "red"
                                    },
                                    "mode": "lines",
                                    "name": "Airway resistance inferred",
                                    "showlegend": false,
                                    "type": "scatter",
                                    "x": [
                                        9.241524861776623,
                                        21.6973199286152
                                    ],
                                    "xaxis": "x",
                                    "y": [
                                        "303",
                                        "303"
                                    ],
                                    "yaxis": "y"
                                },
                                {
                                    "line": {
                                        "width": 3
                                    },
                                    "marker": {
                                        "color": "red"
                                    },
                                    "mode": "lines",
                                    "name": "Airway resistance inferred",
                                    "showlegend": false,
                                    "type": "scatter",
                                    "x": [
                                        20.126642063364116,
                                        34.9443834285564
                                    ],
                                    "xaxis": "x",
                                    "y": [
                                        "287",
                                        "287"
                                    ],
                                    "yaxis": "y"
                                },
                                {
                                    "line": {
                                        "width": 3
                                    },
                                    "marker": {
                                        "color": "red"
                                    },
                                    "mode": "lines",
                                    "name": "Airway resistance inferred",
                                    "showlegend": false,
                                    "type": "scatter",
                                    "x": [
                                        17.423533842751805,
                                        31.551128724189205
                                    ],
                                    "xaxis": "x",
                                    "y": [
                                        "406",
                                        "406"
                                    ],
                                    "yaxis": "y"
                                },
                                {
                                    "line": {
                                        "width": 3
                                    },
                                    "marker": {
                                        "color": "red"
                                    },
                                    "mode": "lines",
                                    "name": "Airway resistance inferred",
                                    "showlegend": false,
                                    "type": "scatter",
                                    "x": [
                                        9.043737784307563,
                                        22.751380098480315
                                    ],
                                    "xaxis": "x",
                                    "y": [
                                        "314",
                                        "314"
                                    ],
                                    "yaxis": "y"
                                },
                                {
                                    "line": {
                                        "width": 3
                                    },
                                    "marker": {
                                        "color": "red"
                                    },
                                    "mode": "lines",
                                    "name": "Airway resistance inferred",
                                    "showlegend": false,
                                    "type": "scatter",
                                    "x": [
                                        8.014846079715031,
                                        22.07690788411447
                                    ],
                                    "xaxis": "x",
                                    "y": [
                                        "412",
                                        "412"
                                    ],
                                    "yaxis": "y"
                                },
                                {
                                    "line": {
                                        "width": 3
                                    },
                                    "marker": {
                                        "color": "red"
                                    },
                                    "mode": "lines",
                                    "name": "Airway resistance inferred",
                                    "showlegend": false,
                                    "type": "scatter",
                                    "x": [
                                        14.407344707890527,
                                        28.97205080788524
                                    ],
                                    "xaxis": "x",
                                    "y": [
                                        "199",
                                        "199"
                                    ],
                                    "yaxis": "y"
                                },
                                {
                                    "line": {
                                        "width": 3
                                    },
                                    "marker": {
                                        "color": "red"
                                    },
                                    "mode": "lines",
                                    "name": "Airway resistance inferred",
                                    "showlegend": false,
                                    "type": "scatter",
                                    "x": [
                                        22.125044875545665,
                                        37.43622070533687
                                    ],
                                    "xaxis": "x",
                                    "y": [
                                        "491",
                                        "491"
                                    ],
                                    "yaxis": "y"
                                },
                                {
                                    "line": {
                                        "width": 3
                                    },
                                    "marker": {
                                        "color": "red"
                                    },
                                    "mode": "lines",
                                    "name": "Airway resistance inferred",
                                    "showlegend": false,
                                    "type": "scatter",
                                    "x": [
                                        5.146521030081988,
                                        16.319060117767
                                    ],
                                    "xaxis": "x",
                                    "y": [
                                        "237",
                                        "237"
                                    ],
                                    "yaxis": "y"
                                },
                                {
                                    "line": {
                                        "width": 3
                                    },
                                    "marker": {
                                        "color": "red"
                                    },
                                    "mode": "lines",
                                    "name": "Airway resistance inferred",
                                    "showlegend": false,
                                    "type": "scatter",
                                    "x": [
                                        16.21930244870275,
                                        25.838490487992363
                                    ],
                                    "xaxis": "x",
                                    "y": [
                                        "193",
                                        "193"
                                    ],
                                    "yaxis": "y"
                                },
                                {
                                    "line": {
                                        "width": 3
                                    },
                                    "marker": {
                                        "color": "red"
                                    },
                                    "mode": "lines",
                                    "name": "Airway resistance inferred",
                                    "showlegend": false,
                                    "type": "scatter",
                                    "x": [
                                        14.900378037323145,
                                        28.398757922450276
                                    ],
                                    "xaxis": "x",
                                    "y": [
                                        "280",
                                        "280"
                                    ],
                                    "yaxis": "y"
                                },
                                {
                                    "line": {
                                        "width": 3
                                    },
                                    "marker": {
                                        "color": "red"
                                    },
                                    "mode": "lines",
                                    "name": "Airway resistance inferred",
                                    "showlegend": false,
                                    "type": "scatter",
                                    "x": [
                                        20.375815222376833,
                                        35.615889236724534
                                    ],
                                    "xaxis": "x",
                                    "y": [
                                        "383",
                                        "383"
                                    ],
                                    "yaxis": "y"
                                },
                                {
                                    "line": {
                                        "width": 3
                                    },
                                    "marker": {
                                        "color": "red"
                                    },
                                    "mode": "lines",
                                    "name": "Airway resistance inferred",
                                    "showlegend": false,
                                    "type": "scatter",
                                    "x": [
                                        19.514012321093187,
                                        34.173320964663205
                                    ],
                                    "xaxis": "x",
                                    "y": [
                                        "485",
                                        "485"
                                    ],
                                    "yaxis": "y"
                                },
                                {
                                    "line": {
                                        "width": 3
                                    },
                                    "marker": {
                                        "color": "red"
                                    },
                                    "mode": "lines",
                                    "name": "Airway resistance inferred",
                                    "showlegend": false,
                                    "type": "scatter",
                                    "x": [
                                        15.61408723177242,
                                        30.40186915084208
                                    ],
                                    "xaxis": "x",
                                    "y": [
                                        "204",
                                        "204"
                                    ],
                                    "yaxis": "y"
                                },
                                {
                                    "line": {
                                        "width": 3
                                    },
                                    "marker": {
                                        "color": "red"
                                    },
                                    "mode": "lines",
                                    "name": "Airway resistance inferred",
                                    "showlegend": false,
                                    "type": "scatter",
                                    "x": [
                                        14.0076006190856,
                                        27.54882949286865
                                    ],
                                    "xaxis": "x",
                                    "y": [
                                        "537",
                                        "537"
                                    ],
                                    "yaxis": "y"
                                },
                                {
                                    "line": {
                                        "width": 3
                                    },
                                    "marker": {
                                        "color": "red"
                                    },
                                    "mode": "lines",
                                    "name": "Airway resistance inferred",
                                    "showlegend": false,
                                    "type": "scatter",
                                    "x": [
                                        18.06978707510834,
                                        33.326902646293384
                                    ],
                                    "xaxis": "x",
                                    "y": [
                                        "275",
                                        "275"
                                    ],
                                    "yaxis": "y"
                                },
                                {
                                    "line": {
                                        "width": 3
                                    },
                                    "marker": {
                                        "color": "red"
                                    },
                                    "mode": "lines",
                                    "name": "Airway resistance inferred",
                                    "showlegend": false,
                                    "type": "scatter",
                                    "x": [
                                        15.903125443388216,
                                        28.10105596739379
                                    ],
                                    "xaxis": "x",
                                    "y": [
                                        "172",
                                        "172"
                                    ],
                                    "yaxis": "y"
                                },
                                {
                                    "line": {
                                        "width": 3
                                    },
                                    "marker": {
                                        "color": "red"
                                    },
                                    "mode": "lines",
                                    "name": "Airway resistance inferred",
                                    "showlegend": false,
                                    "type": "scatter",
                                    "x": [
                                        19.74380966360587,
                                        32.37246325971699
                                    ],
                                    "xaxis": "x",
                                    "y": [
                                        "271",
                                        "271"
                                    ],
                                    "yaxis": "y"
                                },
                                {
                                    "line": {
                                        "width": 3
                                    },
                                    "marker": {
                                        "color": "red"
                                    },
                                    "mode": "lines",
                                    "name": "Airway resistance inferred",
                                    "showlegend": false,
                                    "type": "scatter",
                                    "x": [
                                        14.769837411896718,
                                        30.029064569166145
                                    ],
                                    "xaxis": "x",
                                    "y": [
                                        "339",
                                        "339"
                                    ],
                                    "yaxis": "y"
                                },
                                {
                                    "line": {
                                        "width": 3
                                    },
                                    "marker": {
                                        "color": "red"
                                    },
                                    "mode": "lines",
                                    "name": "Airway resistance inferred",
                                    "showlegend": false,
                                    "type": "scatter",
                                    "x": [
                                        14.667303280914146,
                                        27.695206230118057
                                    ],
                                    "xaxis": "x",
                                    "y": [
                                        "164",
                                        "164"
                                    ],
                                    "yaxis": "y"
                                },
                                {
                                    "line": {
                                        "width": 3
                                    },
                                    "marker": {
                                        "color": "red"
                                    },
                                    "mode": "lines",
                                    "name": "Airway resistance inferred",
                                    "showlegend": false,
                                    "type": "scatter",
                                    "x": [
                                        10.617440780881237,
                                        25.215985792992765
                                    ],
                                    "xaxis": "x",
                                    "y": [
                                        "151",
                                        "151"
                                    ],
                                    "yaxis": "y"
                                },
                                {
                                    "line": {
                                        "width": 3
                                    },
                                    "marker": {
                                        "color": "red"
                                    },
                                    "mode": "lines",
                                    "name": "Airway resistance inferred",
                                    "showlegend": false,
                                    "type": "scatter",
                                    "x": [
                                        7.562675927423073,
                                        18.911035809855314
                                    ],
                                    "xaxis": "x",
                                    "y": [
                                        "186",
                                        "186"
                                    ],
                                    "yaxis": "y"
                                },
                                {
                                    "line": {
                                        "width": 3
                                    },
                                    "marker": {
                                        "color": "red"
                                    },
                                    "mode": "lines",
                                    "name": "Airway resistance inferred",
                                    "showlegend": false,
                                    "type": "scatter",
                                    "x": [
                                        5.073042042053758,
                                        17.518015050884852
                                    ],
                                    "xaxis": "x",
                                    "y": [
                                        "301",
                                        "301"
                                    ],
                                    "yaxis": "y"
                                },
                                {
                                    "line": {
                                        "width": 3
                                    },
                                    "marker": {
                                        "color": "red"
                                    },
                                    "mode": "lines",
                                    "name": "Airway resistance inferred",
                                    "showlegend": false,
                                    "type": "scatter",
                                    "x": [
                                        14.641858298187937,
                                        29.472859559914035
                                    ],
                                    "xaxis": "x",
                                    "y": [
                                        "251",
                                        "251"
                                    ],
                                    "yaxis": "y"
                                },
                                {
                                    "line": {
                                        "width": 3
                                    },
                                    "marker": {
                                        "color": "red"
                                    },
                                    "mode": "lines",
                                    "name": "Airway resistance inferred",
                                    "showlegend": false,
                                    "type": "scatter",
                                    "x": [
                                        13.198788993926751,
                                        29.379012849191238
                                    ],
                                    "xaxis": "x",
                                    "y": [
                                        "481",
                                        "481"
                                    ],
                                    "yaxis": "y"
                                },
                                {
                                    "line": {
                                        "width": 3
                                    },
                                    "marker": {
                                        "color": "red"
                                    },
                                    "mode": "lines",
                                    "name": "Airway resistance inferred",
                                    "showlegend": false,
                                    "type": "scatter",
                                    "x": [
                                        19.12094518755053,
                                        36.21832606017674
                                    ],
                                    "xaxis": "x",
                                    "y": [
                                        "430",
                                        "430"
                                    ],
                                    "yaxis": "y"
                                },
                                {
                                    "line": {
                                        "width": 3
                                    },
                                    "marker": {
                                        "color": "red"
                                    },
                                    "mode": "lines",
                                    "name": "Airway resistance inferred",
                                    "showlegend": false,
                                    "type": "scatter",
                                    "x": [
                                        11.896579271230475,
                                        26.111790951416857
                                    ],
                                    "xaxis": "x",
                                    "y": [
                                        "261",
                                        "261"
                                    ],
                                    "yaxis": "y"
                                },
                                {
                                    "line": {
                                        "width": 3
                                    },
                                    "marker": {
                                        "color": "red"
                                    },
                                    "mode": "lines",
                                    "name": "Airway resistance inferred",
                                    "showlegend": false,
                                    "type": "scatter",
                                    "x": [
                                        11.236181723511216,
                                        21.454872084699097
                                    ],
                                    "xaxis": "x",
                                    "y": [
                                        "371",
                                        "371"
                                    ],
                                    "yaxis": "y"
                                },
                                {
                                    "line": {
                                        "width": 3
                                    },
                                    "marker": {
                                        "color": "red"
                                    },
                                    "mode": "lines",
                                    "name": "Airway resistance inferred",
                                    "showlegend": false,
                                    "type": "scatter",
                                    "x": [
                                        17.495736185185994,
                                        33.96846609439264
                                    ],
                                    "xaxis": "x",
                                    "y": [
                                        "295",
                                        "295"
                                    ],
                                    "yaxis": "y"
                                },
                                {
                                    "line": {
                                        "width": 3
                                    },
                                    "marker": {
                                        "color": "red"
                                    },
                                    "mode": "lines",
                                    "name": "Airway resistance inferred",
                                    "showlegend": false,
                                    "type": "scatter",
                                    "x": [
                                        10.526523542111622,
                                        25.463894204515928
                                    ],
                                    "xaxis": "x",
                                    "y": [
                                        "515",
                                        "515"
                                    ],
                                    "yaxis": "y"
                                },
                                {
                                    "line": {
                                        "width": 3
                                    },
                                    "marker": {
                                        "color": "red"
                                    },
                                    "mode": "lines",
                                    "name": "Airway resistance inferred",
                                    "showlegend": false,
                                    "type": "scatter",
                                    "x": [
                                        8.55622778729666,
                                        21.285426848675044
                                    ],
                                    "xaxis": "x",
                                    "y": [
                                        "464",
                                        "464"
                                    ],
                                    "yaxis": "y"
                                },
                                {
                                    "line": {
                                        "width": 3
                                    },
                                    "marker": {
                                        "color": "red"
                                    },
                                    "mode": "lines",
                                    "name": "Airway resistance inferred",
                                    "showlegend": false,
                                    "type": "scatter",
                                    "x": [
                                        10.716199921198792,
                                        26.359559985846744
                                    ],
                                    "xaxis": "x",
                                    "y": [
                                        "212",
                                        "212"
                                    ],
                                    "yaxis": "y"
                                },
                                {
                                    "line": {
                                        "width": 3
                                    },
                                    "marker": {
                                        "color": "red"
                                    },
                                    "mode": "lines",
                                    "name": "Airway resistance inferred",
                                    "showlegend": false,
                                    "type": "scatter",
                                    "x": [
                                        14.908154619930599,
                                        31.29493290059864
                                    ],
                                    "xaxis": "x",
                                    "y": [
                                        "389",
                                        "389"
                                    ],
                                    "yaxis": "y"
                                },
                                {
                                    "line": {
                                        "width": 3
                                    },
                                    "marker": {
                                        "color": "red"
                                    },
                                    "mode": "lines",
                                    "name": "Airway resistance inferred",
                                    "showlegend": false,
                                    "type": "scatter",
                                    "x": [
                                        15.449530541558653,
                                        33.48525884977883
                                    ],
                                    "xaxis": "x",
                                    "y": [
                                        "229",
                                        "229"
                                    ],
                                    "yaxis": "y"
                                },
                                {
                                    "line": {
                                        "width": 3
                                    },
                                    "marker": {
                                        "color": "red"
                                    },
                                    "mode": "lines",
                                    "name": "Airway resistance inferred",
                                    "showlegend": false,
                                    "type": "scatter",
                                    "x": [
                                        11.619564745293827,
                                        28.71037406479001
                                    ],
                                    "xaxis": "x",
                                    "y": [
                                        "380",
                                        "380"
                                    ],
                                    "yaxis": "y"
                                },
                                {
                                    "line": {
                                        "width": 3
                                    },
                                    "marker": {
                                        "color": "red"
                                    },
                                    "mode": "lines",
                                    "name": "Airway resistance inferred",
                                    "showlegend": false,
                                    "type": "scatter",
                                    "x": [
                                        12.557105498569022,
                                        26.685337283427273
                                    ],
                                    "xaxis": "x",
                                    "y": [
                                        "265",
                                        "265"
                                    ],
                                    "yaxis": "y"
                                },
                                {
                                    "line": {
                                        "width": 3
                                    },
                                    "marker": {
                                        "color": "red"
                                    },
                                    "mode": "lines",
                                    "name": "Airway resistance inferred",
                                    "showlegend": false,
                                    "type": "scatter",
                                    "x": [
                                        16.088827184077196,
                                        34.225429830748986
                                    ],
                                    "xaxis": "x",
                                    "y": [
                                        "521",
                                        "521"
                                    ],
                                    "yaxis": "y"
                                },
                                {
                                    "line": {
                                        "width": 3
                                    },
                                    "marker": {
                                        "color": "red"
                                    },
                                    "mode": "lines",
                                    "name": "Airway resistance inferred",
                                    "showlegend": false,
                                    "type": "scatter",
                                    "x": [
                                        9.200158159083456,
                                        20.302801064828802
                                    ],
                                    "xaxis": "x",
                                    "y": [
                                        "278",
                                        "278"
                                    ],
                                    "yaxis": "y"
                                },
                                {
                                    "line": {
                                        "width": 3
                                    },
                                    "marker": {
                                        "color": "red"
                                    },
                                    "mode": "lines",
                                    "name": "Airway resistance inferred",
                                    "showlegend": false,
                                    "type": "scatter",
                                    "x": [
                                        13.058700597779318,
                                        25.318095354936364
                                    ],
                                    "xaxis": "x",
                                    "y": [
                                        "210",
                                        "210"
                                    ],
                                    "yaxis": "y"
                                },
                                {
                                    "marker": {
                                        "color": "blue",
                                        "size": 4
                                    },
                                    "mode": "markers",
                                    "name": "1 - ecFEV1%Predicted",
                                    "type": "scatter",
                                    "x": [
                                        -9.669360636205855,
                                        -23.449175221381445,
                                        -18.1052047227924,
                                        -9.737344173087315,
                                        -16.851374041065817,
                                        -2.5242745957514843,
                                        -8.935443264975708,
                                        -11.305197014152755,
                                        -5.31784221069707,
                                        -7.509451960840655,
                                        9.611531394794147,
                                        -7.2042063991356375,
                                        -0.7907656717979786,
                                        -4.281063012312842,
                                        -5.218593288089259,
                                        5.371366878866663,
                                        -0.8301756843284493,
                                        5.906841773345589,
                                        3.487533715346662,
                                        13.290542530961883,
                                        4.495168099859542,
                                        5.2227994070485275,
                                        13.409971350849643,
                                        15.503997918393777,
                                        14.920792688717345,
                                        17.193794287092548,
                                        -0.35978173286786347,
                                        5.915662741997916,
                                        21.675643408458622,
                                        4.3402428895377065,
                                        18.369715419289275,
                                        3.544437229343287,
                                        2.6584723601640334,
                                        11.260947735980638,
                                        8.80452541370235,
                                        14.138815273473295,
                                        4.401123225203017,
                                        10.206186854954444,
                                        9.949730836136132,
                                        18.146661991280084,
                                        5.440335269474268,
                                        16.005661749184576,
                                        15.983894971494003,
                                        10.57865014388284,
                                        12.681806291053208,
                                        14.680518736915248,
                                        8.633422132941046,
                                        7.612082153860518,
                                        9.43431973305513,
                                        15.637122200291588,
                                        5.8679015877324705,
                                        7.677534615603317,
                                        12.091208697461605,
                                        20.51900766493346,
                                        6.976507186440455,
                                        25.032469537917947,
                                        17.199206844678635,
                                        7.25657285979757,
                                        17.173024818991617,
                                        15.099412087846352,
                                        10.738476105435746,
                                        10.369012443679601,
                                        24.04349087354758,
                                        11.656748862321884,
                                        11.170658244054335,
                                        13.572766032695887,
                                        26.040138770362844,
                                        15.644918171129241,
                                        13.636353423291716,
                                        22.71498066772354,
                                        23.828985894981315,
                                        20.939616515419043,
                                        26.115956915181936,
                                        24.880770268169712,
                                        13.671613054322972,
                                        10.112677511845032,
                                        11.8368764262999,
                                        19.471028940908848,
                                        14.203738503883013,
                                        18.383939684701794,
                                        23.477254716444584,
                                        13.289834736989857,
                                        28.49140310574071,
                                        24.03939805080445,
                                        21.890374504686502,
                                        14.804326863623322,
                                        13.279869267257746,
                                        24.836543572520757,
                                        23.238566084191785,
                                        20.73810425086052,
                                        19.702083347597107,
                                        31.026211253176367,
                                        17.489659329518553,
                                        29.760201688236226,
                                        27.01578017696185,
                                        18.691638965312276,
                                        17.868963786635312,
                                        24.544539160894985,
                                        32.68364284820714,
                                        13.68776077077552,
                                        24.288710020281027,
                                        24.986522260102607,
                                        31.35647983007059,
                                        30.351087693533145,
                                        26.579819241932075,
                                        24.515679962458602,
                                        30.11840939887178,
                                        26.616065716880165,
                                        31.019150917380294,
                                        27.739810757781687,
                                        26.637982874848316,
                                        23.453200128734295,
                                        19.143723286204487,
                                        17.728927877056414,
                                        29.05998719323274,
                                        28.360150068384566,
                                        35.13467390028593,
                                        26.489215482185266,
                                        24.457672218338065,
                                        35.038307190092986,
                                        28.323088945598293,
                                        25.32457974578226,
                                        29.02561678195536,
                                        33.953684544493,
                                        35.78167039863287,
                                        31.87536144127601,
                                        31.50111247182238,
                                        37.65759320692539,
                                        29.0933575893427,
                                        41.63944111826611
                                    ],
                                    "xaxis": "x",
                                    "y": [
                                        "113",
                                        "469",
                                        "370",
                                        "126",
                                        "281",
                                        "331",
                                        "250",
                                        "492",
                                        "513",
                                        "177",
                                        "530",
                                        "444",
                                        "230",
                                        "121",
                                        "512",
                                        "262",
                                        "244",
                                        "273",
                                        "302",
                                        "307",
                                        "178",
                                        "182",
                                        "233",
                                        "420",
                                        "242",
                                        "134",
                                        "130",
                                        "255",
                                        "257",
                                        "297",
                                        "319",
                                        "455",
                                        "144",
                                        "299",
                                        "170",
                                        "141",
                                        "482",
                                        "490",
                                        "343",
                                        "551",
                                        "190",
                                        "480",
                                        "511",
                                        "467",
                                        "152",
                                        "163",
                                        "506",
                                        "123",
                                        "209",
                                        "276",
                                        "407",
                                        "239",
                                        "292",
                                        "543",
                                        "443",
                                        "171",
                                        "532",
                                        "401",
                                        "544",
                                        "223",
                                        "381",
                                        "296",
                                        "315",
                                        "300",
                                        "427",
                                        "312",
                                        "115",
                                        "290",
                                        "125",
                                        "447",
                                        "124",
                                        "310",
                                        "240",
                                        "495",
                                        "156",
                                        "553",
                                        "192",
                                        "352",
                                        "425",
                                        "215",
                                        "221",
                                        "535",
                                        "180",
                                        "294",
                                        "109",
                                        "263",
                                        "351",
                                        "504",
                                        "176",
                                        "231",
                                        "197",
                                        "174",
                                        "303",
                                        "287",
                                        "406",
                                        "314",
                                        "412",
                                        "199",
                                        "491",
                                        "237",
                                        "193",
                                        "280",
                                        "383",
                                        "485",
                                        "204",
                                        "537",
                                        "275",
                                        "172",
                                        "271",
                                        "339",
                                        "164",
                                        "151",
                                        "186",
                                        "301",
                                        "251",
                                        "481",
                                        "430",
                                        "261",
                                        "371",
                                        "295",
                                        "515",
                                        "464",
                                        "212",
                                        "389",
                                        "229",
                                        "380",
                                        "265",
                                        "521",
                                        "278",
                                        "210"
                                    ],
                                    "yaxis": "y"
                                },
                                {
                                    "line": {
                                        "width": 3
                                    },
                                    "marker": {
                                        "color": "red"
                                    },
                                    "mode": "lines",
                                    "name": "Airway resistance inferred",
                                    "showlegend": true,
                                    "type": "scatter",
                                    "x": [
                                        32.14118245402884,
                                        35.345096513115244
                                    ],
                                    "xaxis": "x2",
                                    "y": [
                                        "372",
                                        "372"
                                    ],
                                    "yaxis": "y2"
                                },
                                {
                                    "line": {
                                        "width": 3
                                    },
                                    "marker": {
                                        "color": "red"
                                    },
                                    "mode": "lines",
                                    "name": "Airway resistance inferred",
                                    "showlegend": false,
                                    "type": "scatter",
                                    "x": [
                                        39.831029308291654,
                                        43.89336132982187
                                    ],
                                    "xaxis": "x2",
                                    "y": [
                                        "202",
                                        "202"
                                    ],
                                    "yaxis": "y2"
                                },
                                {
                                    "line": {
                                        "width": 3
                                    },
                                    "marker": {
                                        "color": "red"
                                    },
                                    "mode": "lines",
                                    "name": "Airway resistance inferred",
                                    "showlegend": false,
                                    "type": "scatter",
                                    "x": [
                                        31.19709593617091,
                                        38.723217396568785
                                    ],
                                    "xaxis": "x2",
                                    "y": [
                                        "104",
                                        "104"
                                    ],
                                    "yaxis": "y2"
                                },
                                {
                                    "line": {
                                        "width": 3
                                    },
                                    "marker": {
                                        "color": "red"
                                    },
                                    "mode": "lines",
                                    "name": "Airway resistance inferred",
                                    "showlegend": false,
                                    "type": "scatter",
                                    "x": [
                                        24.810894315126742,
                                        35.96343870636404
                                    ],
                                    "xaxis": "x2",
                                    "y": [
                                        "117",
                                        "117"
                                    ],
                                    "yaxis": "y2"
                                },
                                {
                                    "line": {
                                        "width": 3
                                    },
                                    "marker": {
                                        "color": "red"
                                    },
                                    "mode": "lines",
                                    "name": "Airway resistance inferred",
                                    "showlegend": false,
                                    "type": "scatter",
                                    "x": [
                                        26.615704230520638,
                                        35.740787203265974
                                    ],
                                    "xaxis": "x2",
                                    "y": [
                                        "107",
                                        "107"
                                    ],
                                    "yaxis": "y2"
                                },
                                {
                                    "line": {
                                        "width": 3
                                    },
                                    "marker": {
                                        "color": "red"
                                    },
                                    "mode": "lines",
                                    "name": "Airway resistance inferred",
                                    "showlegend": false,
                                    "type": "scatter",
                                    "x": [
                                        25.69928469138653,
                                        38.20931554364106
                                    ],
                                    "xaxis": "x2",
                                    "y": [
                                        "191",
                                        "191"
                                    ],
                                    "yaxis": "y2"
                                },
                                {
                                    "line": {
                                        "width": 3
                                    },
                                    "marker": {
                                        "color": "red"
                                    },
                                    "mode": "lines",
                                    "name": "Airway resistance inferred",
                                    "showlegend": false,
                                    "type": "scatter",
                                    "x": [
                                        24.455214304421116,
                                        36.80610697976484
                                    ],
                                    "xaxis": "x2",
                                    "y": [
                                        "133",
                                        "133"
                                    ],
                                    "yaxis": "y2"
                                },
                                {
                                    "line": {
                                        "width": 3
                                    },
                                    "marker": {
                                        "color": "red"
                                    },
                                    "mode": "lines",
                                    "name": "Airway resistance inferred",
                                    "showlegend": false,
                                    "type": "scatter",
                                    "x": [
                                        25.580387003195927,
                                        38.03978854986352
                                    ],
                                    "xaxis": "x2",
                                    "y": [
                                        "353",
                                        "353"
                                    ],
                                    "yaxis": "y2"
                                },
                                {
                                    "line": {
                                        "width": 3
                                    },
                                    "marker": {
                                        "color": "red"
                                    },
                                    "mode": "lines",
                                    "name": "Airway resistance inferred",
                                    "showlegend": false,
                                    "type": "scatter",
                                    "x": [
                                        36.199432953737805,
                                        47.09968467187047
                                    ],
                                    "xaxis": "x2",
                                    "y": [
                                        "395",
                                        "395"
                                    ],
                                    "yaxis": "y2"
                                },
                                {
                                    "line": {
                                        "width": 3
                                    },
                                    "marker": {
                                        "color": "red"
                                    },
                                    "mode": "lines",
                                    "name": "Airway resistance inferred",
                                    "showlegend": false,
                                    "type": "scatter",
                                    "x": [
                                        33.121396935322544,
                                        44.904645435576676
                                    ],
                                    "xaxis": "x2",
                                    "y": [
                                        "114",
                                        "114"
                                    ],
                                    "yaxis": "y2"
                                },
                                {
                                    "line": {
                                        "width": 3
                                    },
                                    "marker": {
                                        "color": "red"
                                    },
                                    "mode": "lines",
                                    "name": "Airway resistance inferred",
                                    "showlegend": false,
                                    "type": "scatter",
                                    "x": [
                                        30.641889494178475,
                                        43.14425349043019
                                    ],
                                    "xaxis": "x2",
                                    "y": [
                                        "432",
                                        "432"
                                    ],
                                    "yaxis": "y2"
                                },
                                {
                                    "line": {
                                        "width": 3
                                    },
                                    "marker": {
                                        "color": "red"
                                    },
                                    "mode": "lines",
                                    "name": "Airway resistance inferred",
                                    "showlegend": false,
                                    "type": "scatter",
                                    "x": [
                                        36.54921917590212,
                                        48.37163695794459
                                    ],
                                    "xaxis": "x2",
                                    "y": [
                                        "252",
                                        "252"
                                    ],
                                    "yaxis": "y2"
                                },
                                {
                                    "line": {
                                        "width": 3
                                    },
                                    "marker": {
                                        "color": "red"
                                    },
                                    "mode": "lines",
                                    "name": "Airway resistance inferred",
                                    "showlegend": false,
                                    "type": "scatter",
                                    "x": [
                                        35.597164082210654,
                                        48.89093079433477
                                    ],
                                    "xaxis": "x2",
                                    "y": [
                                        "424",
                                        "424"
                                    ],
                                    "yaxis": "y2"
                                },
                                {
                                    "line": {
                                        "width": 3
                                    },
                                    "marker": {
                                        "color": "red"
                                    },
                                    "mode": "lines",
                                    "name": "Airway resistance inferred",
                                    "showlegend": false,
                                    "type": "scatter",
                                    "x": [
                                        26.015679978414198,
                                        38.67583821297942
                                    ],
                                    "xaxis": "x2",
                                    "y": [
                                        "254",
                                        "254"
                                    ],
                                    "yaxis": "y2"
                                },
                                {
                                    "line": {
                                        "width": 3
                                    },
                                    "marker": {
                                        "color": "red"
                                    },
                                    "mode": "lines",
                                    "name": "Airway resistance inferred",
                                    "showlegend": false,
                                    "type": "scatter",
                                    "x": [
                                        23.168945447170145,
                                        37.29740717763463
                                    ],
                                    "xaxis": "x2",
                                    "y": [
                                        "201",
                                        "201"
                                    ],
                                    "yaxis": "y2"
                                },
                                {
                                    "line": {
                                        "width": 3
                                    },
                                    "marker": {
                                        "color": "red"
                                    },
                                    "mode": "lines",
                                    "name": "Airway resistance inferred",
                                    "showlegend": false,
                                    "type": "scatter",
                                    "x": [
                                        36.46011225132818,
                                        48.73609348464356
                                    ],
                                    "xaxis": "x2",
                                    "y": [
                                        "224",
                                        "224"
                                    ],
                                    "yaxis": "y2"
                                },
                                {
                                    "line": {
                                        "width": 3
                                    },
                                    "marker": {
                                        "color": "red"
                                    },
                                    "mode": "lines",
                                    "name": "Airway resistance inferred",
                                    "showlegend": false,
                                    "type": "scatter",
                                    "x": [
                                        30.757807349050044,
                                        44.245925602625235
                                    ],
                                    "xaxis": "x2",
                                    "y": [
                                        "493",
                                        "493"
                                    ],
                                    "yaxis": "y2"
                                },
                                {
                                    "line": {
                                        "width": 3
                                    },
                                    "marker": {
                                        "color": "red"
                                    },
                                    "mode": "lines",
                                    "name": "Airway resistance inferred",
                                    "showlegend": false,
                                    "type": "scatter",
                                    "x": [
                                        33.76822445126295,
                                        46.40370475622658
                                    ],
                                    "xaxis": "x2",
                                    "y": [
                                        "145",
                                        "145"
                                    ],
                                    "yaxis": "y2"
                                },
                                {
                                    "line": {
                                        "width": 3
                                    },
                                    "marker": {
                                        "color": "red"
                                    },
                                    "mode": "lines",
                                    "name": "Airway resistance inferred",
                                    "showlegend": false,
                                    "type": "scatter",
                                    "x": [
                                        24.399813396124525,
                                        38.1169136818417
                                    ],
                                    "xaxis": "x2",
                                    "y": [
                                        "317",
                                        "317"
                                    ],
                                    "yaxis": "y2"
                                },
                                {
                                    "line": {
                                        "width": 3
                                    },
                                    "marker": {
                                        "color": "red"
                                    },
                                    "mode": "lines",
                                    "name": "Airway resistance inferred",
                                    "showlegend": false,
                                    "type": "scatter",
                                    "x": [
                                        30.198769089775322,
                                        44.57003939716568
                                    ],
                                    "xaxis": "x2",
                                    "y": [
                                        "509",
                                        "509"
                                    ],
                                    "yaxis": "y2"
                                },
                                {
                                    "line": {
                                        "width": 3
                                    },
                                    "marker": {
                                        "color": "red"
                                    },
                                    "mode": "lines",
                                    "name": "Airway resistance inferred",
                                    "showlegend": false,
                                    "type": "scatter",
                                    "x": [
                                        26.7165365978171,
                                        40.995761987047786
                                    ],
                                    "xaxis": "x2",
                                    "y": [
                                        "116",
                                        "116"
                                    ],
                                    "yaxis": "y2"
                                },
                                {
                                    "line": {
                                        "width": 3
                                    },
                                    "marker": {
                                        "color": "red"
                                    },
                                    "mode": "lines",
                                    "name": "Airway resistance inferred",
                                    "showlegend": false,
                                    "type": "scatter",
                                    "x": [
                                        27.137997817127157,
                                        36.0518391035823
                                    ],
                                    "xaxis": "x2",
                                    "y": [
                                        "185",
                                        "185"
                                    ],
                                    "yaxis": "y2"
                                },
                                {
                                    "line": {
                                        "width": 3
                                    },
                                    "marker": {
                                        "color": "red"
                                    },
                                    "mode": "lines",
                                    "name": "Airway resistance inferred",
                                    "showlegend": false,
                                    "type": "scatter",
                                    "x": [
                                        34.42744445656386,
                                        47.0708890024568
                                    ],
                                    "xaxis": "x2",
                                    "y": [
                                        "220",
                                        "220"
                                    ],
                                    "yaxis": "y2"
                                },
                                {
                                    "line": {
                                        "width": 3
                                    },
                                    "marker": {
                                        "color": "red"
                                    },
                                    "mode": "lines",
                                    "name": "Airway resistance inferred",
                                    "showlegend": false,
                                    "type": "scatter",
                                    "x": [
                                        38.741686047862004,
                                        51.87617372067341
                                    ],
                                    "xaxis": "x2",
                                    "y": [
                                        "408",
                                        "408"
                                    ],
                                    "yaxis": "y2"
                                },
                                {
                                    "line": {
                                        "width": 3
                                    },
                                    "marker": {
                                        "color": "red"
                                    },
                                    "mode": "lines",
                                    "name": "Airway resistance inferred",
                                    "showlegend": false,
                                    "type": "scatter",
                                    "x": [
                                        28.257130048844115,
                                        41.91487779137164
                                    ],
                                    "xaxis": "x2",
                                    "y": [
                                        "146",
                                        "146"
                                    ],
                                    "yaxis": "y2"
                                },
                                {
                                    "line": {
                                        "width": 3
                                    },
                                    "marker": {
                                        "color": "red"
                                    },
                                    "mode": "lines",
                                    "name": "Airway resistance inferred",
                                    "showlegend": false,
                                    "type": "scatter",
                                    "x": [
                                        31.507820702626166,
                                        45.53791775789161
                                    ],
                                    "xaxis": "x2",
                                    "y": [
                                        "500",
                                        "500"
                                    ],
                                    "yaxis": "y2"
                                },
                                {
                                    "line": {
                                        "width": 3
                                    },
                                    "marker": {
                                        "color": "red"
                                    },
                                    "mode": "lines",
                                    "name": "Airway resistance inferred",
                                    "showlegend": false,
                                    "type": "scatter",
                                    "x": [
                                        26.336146138979622,
                                        39.1249384139144
                                    ],
                                    "xaxis": "x2",
                                    "y": [
                                        "205",
                                        "205"
                                    ],
                                    "yaxis": "y2"
                                },
                                {
                                    "line": {
                                        "width": 3
                                    },
                                    "marker": {
                                        "color": "red"
                                    },
                                    "mode": "lines",
                                    "name": "Airway resistance inferred",
                                    "showlegend": false,
                                    "type": "scatter",
                                    "x": [
                                        36.058482358166515,
                                        48.89862028335526
                                    ],
                                    "xaxis": "x2",
                                    "y": [
                                        "405",
                                        "405"
                                    ],
                                    "yaxis": "y2"
                                },
                                {
                                    "line": {
                                        "width": 3
                                    },
                                    "marker": {
                                        "color": "red"
                                    },
                                    "mode": "lines",
                                    "name": "Airway resistance inferred",
                                    "showlegend": false,
                                    "type": "scatter",
                                    "x": [
                                        32.91515965873949,
                                        46.04815612167918
                                    ],
                                    "xaxis": "x2",
                                    "y": [
                                        "203",
                                        "203"
                                    ],
                                    "yaxis": "y2"
                                },
                                {
                                    "line": {
                                        "width": 3
                                    },
                                    "marker": {
                                        "color": "red"
                                    },
                                    "mode": "lines",
                                    "name": "Airway resistance inferred",
                                    "showlegend": false,
                                    "type": "scatter",
                                    "x": [
                                        39.84254775842896,
                                        51.78679436640099
                                    ],
                                    "xaxis": "x2",
                                    "y": [
                                        "483",
                                        "483"
                                    ],
                                    "yaxis": "y2"
                                },
                                {
                                    "line": {
                                        "width": 3
                                    },
                                    "marker": {
                                        "color": "red"
                                    },
                                    "mode": "lines",
                                    "name": "Airway resistance inferred",
                                    "showlegend": false,
                                    "type": "scatter",
                                    "x": [
                                        40.050636377546105,
                                        51.70780416178501
                                    ],
                                    "xaxis": "x2",
                                    "y": [
                                        "159",
                                        "159"
                                    ],
                                    "yaxis": "y2"
                                },
                                {
                                    "line": {
                                        "width": 3
                                    },
                                    "marker": {
                                        "color": "red"
                                    },
                                    "mode": "lines",
                                    "name": "Airway resistance inferred",
                                    "showlegend": false,
                                    "type": "scatter",
                                    "x": [
                                        42.400291670424984,
                                        53.90869486648115
                                    ],
                                    "xaxis": "x2",
                                    "y": [
                                        "103",
                                        "103"
                                    ],
                                    "yaxis": "y2"
                                },
                                {
                                    "line": {
                                        "width": 3
                                    },
                                    "marker": {
                                        "color": "red"
                                    },
                                    "mode": "lines",
                                    "name": "Airway resistance inferred",
                                    "showlegend": false,
                                    "type": "scatter",
                                    "x": [
                                        36.52645859085754,
                                        49.44441843279205
                                    ],
                                    "xaxis": "x2",
                                    "y": [
                                        "138",
                                        "138"
                                    ],
                                    "yaxis": "y2"
                                },
                                {
                                    "line": {
                                        "width": 3
                                    },
                                    "marker": {
                                        "color": "red"
                                    },
                                    "mode": "lines",
                                    "name": "Airway resistance inferred",
                                    "showlegend": false,
                                    "type": "scatter",
                                    "x": [
                                        39.28103873908061,
                                        51.893529715085315
                                    ],
                                    "xaxis": "x2",
                                    "y": [
                                        "439",
                                        "439"
                                    ],
                                    "yaxis": "y2"
                                },
                                {
                                    "line": {
                                        "width": 3
                                    },
                                    "marker": {
                                        "color": "red"
                                    },
                                    "mode": "lines",
                                    "name": "Airway resistance inferred",
                                    "showlegend": false,
                                    "type": "scatter",
                                    "x": [
                                        34.32613736295294,
                                        47.35412166373635
                                    ],
                                    "xaxis": "x2",
                                    "y": [
                                        "256",
                                        "256"
                                    ],
                                    "yaxis": "y2"
                                },
                                {
                                    "line": {
                                        "width": 3
                                    },
                                    "marker": {
                                        "color": "red"
                                    },
                                    "mode": "lines",
                                    "name": "Airway resistance inferred",
                                    "showlegend": false,
                                    "type": "scatter",
                                    "x": [
                                        46.40463863225572,
                                        57.58684708831526
                                    ],
                                    "xaxis": "x2",
                                    "y": [
                                        "143",
                                        "143"
                                    ],
                                    "yaxis": "y2"
                                },
                                {
                                    "line": {
                                        "width": 3
                                    },
                                    "marker": {
                                        "color": "red"
                                    },
                                    "mode": "lines",
                                    "name": "Airway resistance inferred",
                                    "showlegend": false,
                                    "type": "scatter",
                                    "x": [
                                        41.36108063241964,
                                        48.103873986838394
                                    ],
                                    "xaxis": "x2",
                                    "y": [
                                        "523",
                                        "523"
                                    ],
                                    "yaxis": "y2"
                                },
                                {
                                    "line": {
                                        "width": 3
                                    },
                                    "marker": {
                                        "color": "red"
                                    },
                                    "mode": "lines",
                                    "name": "Airway resistance inferred",
                                    "showlegend": false,
                                    "type": "scatter",
                                    "x": [
                                        34.42093581765786,
                                        47.35297882421824
                                    ],
                                    "xaxis": "x2",
                                    "y": [
                                        "108",
                                        "108"
                                    ],
                                    "yaxis": "y2"
                                },
                                {
                                    "line": {
                                        "width": 3
                                    },
                                    "marker": {
                                        "color": "red"
                                    },
                                    "mode": "lines",
                                    "name": "Airway resistance inferred",
                                    "showlegend": false,
                                    "type": "scatter",
                                    "x": [
                                        46.72111677932741,
                                        58.01367459722337
                                    ],
                                    "xaxis": "x2",
                                    "y": [
                                        "309",
                                        "309"
                                    ],
                                    "yaxis": "y2"
                                },
                                {
                                    "line": {
                                        "width": 3
                                    },
                                    "marker": {
                                        "color": "red"
                                    },
                                    "mode": "lines",
                                    "name": "Airway resistance inferred",
                                    "showlegend": false,
                                    "type": "scatter",
                                    "x": [
                                        26.40843397403112,
                                        39.976362317599786
                                    ],
                                    "xaxis": "x2",
                                    "y": [
                                        "284",
                                        "284"
                                    ],
                                    "yaxis": "y2"
                                },
                                {
                                    "line": {
                                        "width": 3
                                    },
                                    "marker": {
                                        "color": "red"
                                    },
                                    "mode": "lines",
                                    "name": "Airway resistance inferred",
                                    "showlegend": false,
                                    "type": "scatter",
                                    "x": [
                                        35.92961649293411,
                                        49.1150427577356
                                    ],
                                    "xaxis": "x2",
                                    "y": [
                                        "311",
                                        "311"
                                    ],
                                    "yaxis": "y2"
                                },
                                {
                                    "line": {
                                        "width": 3
                                    },
                                    "marker": {
                                        "color": "red"
                                    },
                                    "mode": "lines",
                                    "name": "Airway resistance inferred",
                                    "showlegend": false,
                                    "type": "scatter",
                                    "x": [
                                        24.390848385874506,
                                        38.12215872072729
                                    ],
                                    "xaxis": "x2",
                                    "y": [
                                        "245",
                                        "245"
                                    ],
                                    "yaxis": "y2"
                                },
                                {
                                    "line": {
                                        "width": 3
                                    },
                                    "marker": {
                                        "color": "red"
                                    },
                                    "mode": "lines",
                                    "name": "Airway resistance inferred",
                                    "showlegend": false,
                                    "type": "scatter",
                                    "x": [
                                        46.8554812311871,
                                        59.86397916397948
                                    ],
                                    "xaxis": "x2",
                                    "y": [
                                        "238",
                                        "238"
                                    ],
                                    "yaxis": "y2"
                                },
                                {
                                    "line": {
                                        "width": 3
                                    },
                                    "marker": {
                                        "color": "red"
                                    },
                                    "mode": "lines",
                                    "name": "Airway resistance inferred",
                                    "showlegend": false,
                                    "type": "scatter",
                                    "x": [
                                        25.259838286763525,
                                        39.15697649799888
                                    ],
                                    "xaxis": "x2",
                                    "y": [
                                        "188",
                                        "188"
                                    ],
                                    "yaxis": "y2"
                                },
                                {
                                    "line": {
                                        "width": 3
                                    },
                                    "marker": {
                                        "color": "red"
                                    },
                                    "mode": "lines",
                                    "name": "Airway resistance inferred",
                                    "showlegend": false,
                                    "type": "scatter",
                                    "x": [
                                        40.7640336350798,
                                        52.77574430133614
                                    ],
                                    "xaxis": "x2",
                                    "y": [
                                        "153",
                                        "153"
                                    ],
                                    "yaxis": "y2"
                                },
                                {
                                    "line": {
                                        "width": 3
                                    },
                                    "marker": {
                                        "color": "red"
                                    },
                                    "mode": "lines",
                                    "name": "Airway resistance inferred",
                                    "showlegend": false,
                                    "type": "scatter",
                                    "x": [
                                        25.324864023165553,
                                        39.58722396484519
                                    ],
                                    "xaxis": "x2",
                                    "y": [
                                        "453",
                                        "453"
                                    ],
                                    "yaxis": "y2"
                                },
                                {
                                    "line": {
                                        "width": 3
                                    },
                                    "marker": {
                                        "color": "red"
                                    },
                                    "mode": "lines",
                                    "name": "Airway resistance inferred",
                                    "showlegend": false,
                                    "type": "scatter",
                                    "x": [
                                        50.2450000558455,
                                        60.87369874857088
                                    ],
                                    "xaxis": "x2",
                                    "y": [
                                        "334",
                                        "334"
                                    ],
                                    "yaxis": "y2"
                                },
                                {
                                    "line": {
                                        "width": 3
                                    },
                                    "marker": {
                                        "color": "red"
                                    },
                                    "mode": "lines",
                                    "name": "Airway resistance inferred",
                                    "showlegend": false,
                                    "type": "scatter",
                                    "x": [
                                        29.458955901332573,
                                        43.2206689555978
                                    ],
                                    "xaxis": "x2",
                                    "y": [
                                        "279",
                                        "279"
                                    ],
                                    "yaxis": "y2"
                                },
                                {
                                    "line": {
                                        "width": 3
                                    },
                                    "marker": {
                                        "color": "red"
                                    },
                                    "mode": "lines",
                                    "name": "Airway resistance inferred",
                                    "showlegend": false,
                                    "type": "scatter",
                                    "x": [
                                        52.84219148480504,
                                        62.9407104219356
                                    ],
                                    "xaxis": "x2",
                                    "y": [
                                        "140",
                                        "140"
                                    ],
                                    "yaxis": "y2"
                                },
                                {
                                    "line": {
                                        "width": 3
                                    },
                                    "marker": {
                                        "color": "red"
                                    },
                                    "mode": "lines",
                                    "name": "Airway resistance inferred",
                                    "showlegend": false,
                                    "type": "scatter",
                                    "x": [
                                        51.63697979449856,
                                        62.17148344830342
                                    ],
                                    "xaxis": "x2",
                                    "y": [
                                        "149",
                                        "149"
                                    ],
                                    "yaxis": "y2"
                                },
                                {
                                    "line": {
                                        "width": 3
                                    },
                                    "marker": {
                                        "color": "red"
                                    },
                                    "mode": "lines",
                                    "name": "Airway resistance inferred",
                                    "showlegend": false,
                                    "type": "scatter",
                                    "x": [
                                        51.200027781543646,
                                        62.14770093237362
                                    ],
                                    "xaxis": "x2",
                                    "y": [
                                        "419",
                                        "419"
                                    ],
                                    "yaxis": "y2"
                                },
                                {
                                    "line": {
                                        "width": 3
                                    },
                                    "marker": {
                                        "color": "red"
                                    },
                                    "mode": "lines",
                                    "name": "Airway resistance inferred",
                                    "showlegend": false,
                                    "type": "scatter",
                                    "x": [
                                        25.996070185820795,
                                        39.999035401536624
                                    ],
                                    "xaxis": "x2",
                                    "y": [
                                        "139",
                                        "139"
                                    ],
                                    "yaxis": "y2"
                                },
                                {
                                    "line": {
                                        "width": 3
                                    },
                                    "marker": {
                                        "color": "red"
                                    },
                                    "mode": "lines",
                                    "name": "Airway resistance inferred",
                                    "showlegend": false,
                                    "type": "scatter",
                                    "x": [
                                        53.14570044781271,
                                        63.17321449765156
                                    ],
                                    "xaxis": "x2",
                                    "y": [
                                        "298",
                                        "298"
                                    ],
                                    "yaxis": "y2"
                                },
                                {
                                    "line": {
                                        "width": 3
                                    },
                                    "marker": {
                                        "color": "red"
                                    },
                                    "mode": "lines",
                                    "name": "Airway resistance inferred",
                                    "showlegend": false,
                                    "type": "scatter",
                                    "x": [
                                        49.44298525165285,
                                        60.531672212242384
                                    ],
                                    "xaxis": "x2",
                                    "y": [
                                        "198",
                                        "198"
                                    ],
                                    "yaxis": "y2"
                                },
                                {
                                    "line": {
                                        "width": 3
                                    },
                                    "marker": {
                                        "color": "red"
                                    },
                                    "mode": "lines",
                                    "name": "Airway resistance inferred",
                                    "showlegend": false,
                                    "type": "scatter",
                                    "x": [
                                        29.293698493538084,
                                        42.875004451804365
                                    ],
                                    "xaxis": "x2",
                                    "y": [
                                        "165",
                                        "165"
                                    ],
                                    "yaxis": "y2"
                                },
                                {
                                    "line": {
                                        "width": 3
                                    },
                                    "marker": {
                                        "color": "red"
                                    },
                                    "mode": "lines",
                                    "name": "Airway resistance inferred",
                                    "showlegend": false,
                                    "type": "scatter",
                                    "x": [
                                        30.43318016758764,
                                        45.47971362106914
                                    ],
                                    "xaxis": "x2",
                                    "y": [
                                        "272",
                                        "272"
                                    ],
                                    "yaxis": "y2"
                                },
                                {
                                    "line": {
                                        "width": 3
                                    },
                                    "marker": {
                                        "color": "red"
                                    },
                                    "mode": "lines",
                                    "name": "Airway resistance inferred",
                                    "showlegend": false,
                                    "type": "scatter",
                                    "x": [
                                        49.180808489925916,
                                        60.01246995033977
                                    ],
                                    "xaxis": "x2",
                                    "y": [
                                        "387",
                                        "387"
                                    ],
                                    "yaxis": "y2"
                                },
                                {
                                    "line": {
                                        "width": 3
                                    },
                                    "marker": {
                                        "color": "red"
                                    },
                                    "mode": "lines",
                                    "name": "Airway resistance inferred",
                                    "showlegend": false,
                                    "type": "scatter",
                                    "x": [
                                        35.128013065920875,
                                        48.64957478466273
                                    ],
                                    "xaxis": "x2",
                                    "y": [
                                        "207",
                                        "207"
                                    ],
                                    "yaxis": "y2"
                                },
                                {
                                    "line": {
                                        "width": 3
                                    },
                                    "marker": {
                                        "color": "red"
                                    },
                                    "mode": "lines",
                                    "name": "Airway resistance inferred",
                                    "showlegend": false,
                                    "type": "scatter",
                                    "x": [
                                        53.47671430981155,
                                        64.89483393754799
                                    ],
                                    "xaxis": "x2",
                                    "y": [
                                        "488",
                                        "488"
                                    ],
                                    "yaxis": "y2"
                                },
                                {
                                    "line": {
                                        "width": 3
                                    },
                                    "marker": {
                                        "color": "red"
                                    },
                                    "mode": "lines",
                                    "name": "Airway resistance inferred",
                                    "showlegend": false,
                                    "type": "scatter",
                                    "x": [
                                        35.659576395724294,
                                        48.489274568280294
                                    ],
                                    "xaxis": "x2",
                                    "y": [
                                        "416",
                                        "416"
                                    ],
                                    "yaxis": "y2"
                                },
                                {
                                    "line": {
                                        "width": 3
                                    },
                                    "marker": {
                                        "color": "red"
                                    },
                                    "mode": "lines",
                                    "name": "Airway resistance inferred",
                                    "showlegend": false,
                                    "type": "scatter",
                                    "x": [
                                        45.82575763229147,
                                        58.948610350585
                                    ],
                                    "xaxis": "x2",
                                    "y": [
                                        "336",
                                        "336"
                                    ],
                                    "yaxis": "y2"
                                },
                                {
                                    "line": {
                                        "width": 3
                                    },
                                    "marker": {
                                        "color": "red"
                                    },
                                    "mode": "lines",
                                    "name": "Airway resistance inferred",
                                    "showlegend": false,
                                    "type": "scatter",
                                    "x": [
                                        25.95246974478673,
                                        36.84210689032681
                                    ],
                                    "xaxis": "x2",
                                    "y": [
                                        "196",
                                        "196"
                                    ],
                                    "yaxis": "y2"
                                },
                                {
                                    "line": {
                                        "width": 3
                                    },
                                    "marker": {
                                        "color": "red"
                                    },
                                    "mode": "lines",
                                    "name": "Airway resistance inferred",
                                    "showlegend": false,
                                    "type": "scatter",
                                    "x": [
                                        35.815477939528385,
                                        48.882249196763766
                                    ],
                                    "xaxis": "x2",
                                    "y": [
                                        "181",
                                        "181"
                                    ],
                                    "yaxis": "y2"
                                },
                                {
                                    "line": {
                                        "width": 3
                                    },
                                    "marker": {
                                        "color": "red"
                                    },
                                    "mode": "lines",
                                    "name": "Airway resistance inferred",
                                    "showlegend": false,
                                    "type": "scatter",
                                    "x": [
                                        48.375739945657365,
                                        60.348342148115385
                                    ],
                                    "xaxis": "x2",
                                    "y": [
                                        "494",
                                        "494"
                                    ],
                                    "yaxis": "y2"
                                },
                                {
                                    "line": {
                                        "width": 3
                                    },
                                    "marker": {
                                        "color": "red"
                                    },
                                    "mode": "lines",
                                    "name": "Airway resistance inferred",
                                    "showlegend": false,
                                    "type": "scatter",
                                    "x": [
                                        49.4069889984217,
                                        60.55107808422968
                                    ],
                                    "xaxis": "x2",
                                    "y": [
                                        "142",
                                        "142"
                                    ],
                                    "yaxis": "y2"
                                },
                                {
                                    "line": {
                                        "width": 3
                                    },
                                    "marker": {
                                        "color": "red"
                                    },
                                    "mode": "lines",
                                    "name": "Airway resistance inferred",
                                    "showlegend": false,
                                    "type": "scatter",
                                    "x": [
                                        43.28471287766368,
                                        55.686029809724644
                                    ],
                                    "xaxis": "x2",
                                    "y": [
                                        "179",
                                        "179"
                                    ],
                                    "yaxis": "y2"
                                },
                                {
                                    "line": {
                                        "width": 3
                                    },
                                    "marker": {
                                        "color": "red"
                                    },
                                    "mode": "lines",
                                    "name": "Airway resistance inferred",
                                    "showlegend": false,
                                    "type": "scatter",
                                    "x": [
                                        42.534717568458625,
                                        54.27482077553583
                                    ],
                                    "xaxis": "x2",
                                    "y": [
                                        "150",
                                        "150"
                                    ],
                                    "yaxis": "y2"
                                },
                                {
                                    "line": {
                                        "width": 3
                                    },
                                    "marker": {
                                        "color": "red"
                                    },
                                    "mode": "lines",
                                    "name": "Airway resistance inferred",
                                    "showlegend": false,
                                    "type": "scatter",
                                    "x": [
                                        41.83021647440152,
                                        54.93437435001134
                                    ],
                                    "xaxis": "x2",
                                    "y": [
                                        "434",
                                        "434"
                                    ],
                                    "yaxis": "y2"
                                },
                                {
                                    "line": {
                                        "width": 3
                                    },
                                    "marker": {
                                        "color": "red"
                                    },
                                    "mode": "lines",
                                    "name": "Airway resistance inferred",
                                    "showlegend": false,
                                    "type": "scatter",
                                    "x": [
                                        26.265630844840828,
                                        40.62517226509873
                                    ],
                                    "xaxis": "x2",
                                    "y": [
                                        "525",
                                        "525"
                                    ],
                                    "yaxis": "y2"
                                },
                                {
                                    "line": {
                                        "width": 3
                                    },
                                    "marker": {
                                        "color": "red"
                                    },
                                    "mode": "lines",
                                    "name": "Airway resistance inferred",
                                    "showlegend": false,
                                    "type": "scatter",
                                    "x": [
                                        28.456834515383775,
                                        42.47851474023616
                                    ],
                                    "xaxis": "x2",
                                    "y": [
                                        "173",
                                        "173"
                                    ],
                                    "yaxis": "y2"
                                },
                                {
                                    "line": {
                                        "width": 3
                                    },
                                    "marker": {
                                        "color": "red"
                                    },
                                    "mode": "lines",
                                    "name": "Airway resistance inferred",
                                    "showlegend": false,
                                    "type": "scatter",
                                    "x": [
                                        45.33883311548578,
                                        54.85030655568186
                                    ],
                                    "xaxis": "x2",
                                    "y": [
                                        "135",
                                        "135"
                                    ],
                                    "yaxis": "y2"
                                },
                                {
                                    "line": {
                                        "width": 3
                                    },
                                    "marker": {
                                        "color": "red"
                                    },
                                    "mode": "lines",
                                    "name": "Airway resistance inferred",
                                    "showlegend": false,
                                    "type": "scatter",
                                    "x": [
                                        33.42049681083571,
                                        47.14705415146978
                                    ],
                                    "xaxis": "x2",
                                    "y": [
                                        "119",
                                        "119"
                                    ],
                                    "yaxis": "y2"
                                },
                                {
                                    "line": {
                                        "width": 3
                                    },
                                    "marker": {
                                        "color": "red"
                                    },
                                    "mode": "lines",
                                    "name": "Airway resistance inferred",
                                    "showlegend": false,
                                    "type": "scatter",
                                    "x": [
                                        46.584436062966375,
                                        58.46008394348816
                                    ],
                                    "xaxis": "x2",
                                    "y": [
                                        "440",
                                        "440"
                                    ],
                                    "yaxis": "y2"
                                },
                                {
                                    "line": {
                                        "width": 3
                                    },
                                    "marker": {
                                        "color": "red"
                                    },
                                    "mode": "lines",
                                    "name": "Airway resistance inferred",
                                    "showlegend": false,
                                    "type": "scatter",
                                    "x": [
                                        53.92136581055858,
                                        64.03225526495088
                                    ],
                                    "xaxis": "x2",
                                    "y": [
                                        "162",
                                        "162"
                                    ],
                                    "yaxis": "y2"
                                },
                                {
                                    "line": {
                                        "width": 3
                                    },
                                    "marker": {
                                        "color": "red"
                                    },
                                    "mode": "lines",
                                    "name": "Airway resistance inferred",
                                    "showlegend": false,
                                    "type": "scatter",
                                    "x": [
                                        26.810680018080713,
                                        40.512474056706246
                                    ],
                                    "xaxis": "x2",
                                    "y": [
                                        "131",
                                        "131"
                                    ],
                                    "yaxis": "y2"
                                },
                                {
                                    "line": {
                                        "width": 3
                                    },
                                    "marker": {
                                        "color": "red"
                                    },
                                    "mode": "lines",
                                    "name": "Airway resistance inferred",
                                    "showlegend": false,
                                    "type": "scatter",
                                    "x": [
                                        48.133666428544515,
                                        59.91766324076698
                                    ],
                                    "xaxis": "x2",
                                    "y": [
                                        "184",
                                        "184"
                                    ],
                                    "yaxis": "y2"
                                },
                                {
                                    "line": {
                                        "width": 3
                                    },
                                    "marker": {
                                        "color": "red"
                                    },
                                    "mode": "lines",
                                    "name": "Airway resistance inferred",
                                    "showlegend": false,
                                    "type": "scatter",
                                    "x": [
                                        43.92232169944559,
                                        56.22282797658314
                                    ],
                                    "xaxis": "x2",
                                    "y": [
                                        "431",
                                        "431"
                                    ],
                                    "yaxis": "y2"
                                },
                                {
                                    "line": {
                                        "width": 3
                                    },
                                    "marker": {
                                        "color": "red"
                                    },
                                    "mode": "lines",
                                    "name": "Airway resistance inferred",
                                    "showlegend": false,
                                    "type": "scatter",
                                    "x": [
                                        45.31423747098145,
                                        58.58620712315845
                                    ],
                                    "xaxis": "x2",
                                    "y": [
                                        "101",
                                        "101"
                                    ],
                                    "yaxis": "y2"
                                },
                                {
                                    "line": {
                                        "width": 3
                                    },
                                    "marker": {
                                        "color": "red"
                                    },
                                    "mode": "lines",
                                    "name": "Airway resistance inferred",
                                    "showlegend": false,
                                    "type": "scatter",
                                    "x": [
                                        33.89881832361727,
                                        45.869786704396645
                                    ],
                                    "xaxis": "x2",
                                    "y": [
                                        "169",
                                        "169"
                                    ],
                                    "yaxis": "y2"
                                },
                                {
                                    "line": {
                                        "width": 3
                                    },
                                    "marker": {
                                        "color": "red"
                                    },
                                    "mode": "lines",
                                    "name": "Airway resistance inferred",
                                    "showlegend": false,
                                    "type": "scatter",
                                    "x": [
                                        48.811904984847196,
                                        59.98738318262254
                                    ],
                                    "xaxis": "x2",
                                    "y": [
                                        "158",
                                        "158"
                                    ],
                                    "yaxis": "y2"
                                },
                                {
                                    "line": {
                                        "width": 3
                                    },
                                    "marker": {
                                        "color": "red"
                                    },
                                    "mode": "lines",
                                    "name": "Airway resistance inferred",
                                    "showlegend": false,
                                    "type": "scatter",
                                    "x": [
                                        29.625029440336032,
                                        43.017118983898186
                                    ],
                                    "xaxis": "x2",
                                    "y": [
                                        "306",
                                        "306"
                                    ],
                                    "yaxis": "y2"
                                },
                                {
                                    "line": {
                                        "width": 3
                                    },
                                    "marker": {
                                        "color": "red"
                                    },
                                    "mode": "lines",
                                    "name": "Airway resistance inferred",
                                    "showlegend": false,
                                    "type": "scatter",
                                    "x": [
                                        50.21600923672147,
                                        61.57262727552033
                                    ],
                                    "xaxis": "x2",
                                    "y": [
                                        "264",
                                        "264"
                                    ],
                                    "yaxis": "y2"
                                },
                                {
                                    "line": {
                                        "width": 3
                                    },
                                    "marker": {
                                        "color": "red"
                                    },
                                    "mode": "lines",
                                    "name": "Airway resistance inferred",
                                    "showlegend": false,
                                    "type": "scatter",
                                    "x": [
                                        33.286120527888656,
                                        47.38695913902542
                                    ],
                                    "xaxis": "x2",
                                    "y": [
                                        "325",
                                        "325"
                                    ],
                                    "yaxis": "y2"
                                },
                                {
                                    "line": {
                                        "width": 3
                                    },
                                    "marker": {
                                        "color": "red"
                                    },
                                    "mode": "lines",
                                    "name": "Airway resistance inferred",
                                    "showlegend": false,
                                    "type": "scatter",
                                    "x": [
                                        29.280922824732283,
                                        42.98268876745213
                                    ],
                                    "xaxis": "x2",
                                    "y": [
                                        "291",
                                        "291"
                                    ],
                                    "yaxis": "y2"
                                },
                                {
                                    "line": {
                                        "width": 3
                                    },
                                    "marker": {
                                        "color": "red"
                                    },
                                    "mode": "lines",
                                    "name": "Airway resistance inferred",
                                    "showlegend": false,
                                    "type": "scatter",
                                    "x": [
                                        52.222686385211254,
                                        63.135199804902946
                                    ],
                                    "xaxis": "x2",
                                    "y": [
                                        "132",
                                        "132"
                                    ],
                                    "yaxis": "y2"
                                },
                                {
                                    "line": {
                                        "width": 3
                                    },
                                    "marker": {
                                        "color": "red"
                                    },
                                    "mode": "lines",
                                    "name": "Airway resistance inferred",
                                    "showlegend": false,
                                    "type": "scatter",
                                    "x": [
                                        47.64944062744031,
                                        58.545832555277016
                                    ],
                                    "xaxis": "x2",
                                    "y": [
                                        "128",
                                        "128"
                                    ],
                                    "yaxis": "y2"
                                },
                                {
                                    "line": {
                                        "width": 3
                                    },
                                    "marker": {
                                        "color": "red"
                                    },
                                    "mode": "lines",
                                    "name": "Airway resistance inferred",
                                    "showlegend": false,
                                    "type": "scatter",
                                    "x": [
                                        55.2136767826486,
                                        64.51195535173073
                                    ],
                                    "xaxis": "x2",
                                    "y": [
                                        "120",
                                        "120"
                                    ],
                                    "yaxis": "y2"
                                },
                                {
                                    "line": {
                                        "width": 3
                                    },
                                    "marker": {
                                        "color": "red"
                                    },
                                    "mode": "lines",
                                    "name": "Airway resistance inferred",
                                    "showlegend": false,
                                    "type": "scatter",
                                    "x": [
                                        53.89509493595695,
                                        64.49212868518548
                                    ],
                                    "xaxis": "x2",
                                    "y": [
                                        "127",
                                        "127"
                                    ],
                                    "yaxis": "y2"
                                },
                                {
                                    "line": {
                                        "width": 3
                                    },
                                    "marker": {
                                        "color": "red"
                                    },
                                    "mode": "lines",
                                    "name": "Airway resistance inferred",
                                    "showlegend": false,
                                    "type": "scatter",
                                    "x": [
                                        23.582671637816436,
                                        37.80037700490627
                                    ],
                                    "xaxis": "x2",
                                    "y": [
                                        "266",
                                        "266"
                                    ],
                                    "yaxis": "y2"
                                },
                                {
                                    "line": {
                                        "width": 3
                                    },
                                    "marker": {
                                        "color": "red"
                                    },
                                    "mode": "lines",
                                    "name": "Airway resistance inferred",
                                    "showlegend": false,
                                    "type": "scatter",
                                    "x": [
                                        52.51585533812518,
                                        62.99025911554513
                                    ],
                                    "xaxis": "x2",
                                    "y": [
                                        "232",
                                        "232"
                                    ],
                                    "yaxis": "y2"
                                },
                                {
                                    "line": {
                                        "width": 3
                                    },
                                    "marker": {
                                        "color": "red"
                                    },
                                    "mode": "lines",
                                    "name": "Airway resistance inferred",
                                    "showlegend": false,
                                    "type": "scatter",
                                    "x": [
                                        37.8347766122612,
                                        51.91264771077661
                                    ],
                                    "xaxis": "x2",
                                    "y": [
                                        "270",
                                        "270"
                                    ],
                                    "yaxis": "y2"
                                },
                                {
                                    "line": {
                                        "width": 3
                                    },
                                    "marker": {
                                        "color": "red"
                                    },
                                    "mode": "lines",
                                    "name": "Airway resistance inferred",
                                    "showlegend": false,
                                    "type": "scatter",
                                    "x": [
                                        38.98646531364811,
                                        52.35183434840504
                                    ],
                                    "xaxis": "x2",
                                    "y": [
                                        "106",
                                        "106"
                                    ],
                                    "yaxis": "y2"
                                },
                                {
                                    "line": {
                                        "width": 3
                                    },
                                    "marker": {
                                        "color": "red"
                                    },
                                    "mode": "lines",
                                    "name": "Airway resistance inferred",
                                    "showlegend": false,
                                    "type": "scatter",
                                    "x": [
                                        42.90736129399599,
                                        56.96962126090549
                                    ],
                                    "xaxis": "x2",
                                    "y": [
                                        "502",
                                        "502"
                                    ],
                                    "yaxis": "y2"
                                },
                                {
                                    "line": {
                                        "width": 3
                                    },
                                    "marker": {
                                        "color": "red"
                                    },
                                    "mode": "lines",
                                    "name": "Airway resistance inferred",
                                    "showlegend": false,
                                    "type": "scatter",
                                    "x": [
                                        42.58491882147341,
                                        55.640113656804274
                                    ],
                                    "xaxis": "x2",
                                    "y": [
                                        "403",
                                        "403"
                                    ],
                                    "yaxis": "y2"
                                },
                                {
                                    "line": {
                                        "width": 3
                                    },
                                    "marker": {
                                        "color": "red"
                                    },
                                    "mode": "lines",
                                    "name": "Airway resistance inferred",
                                    "showlegend": false,
                                    "type": "scatter",
                                    "x": [
                                        51.82218281503744,
                                        62.03190188660067
                                    ],
                                    "xaxis": "x2",
                                    "y": [
                                        "112",
                                        "112"
                                    ],
                                    "yaxis": "y2"
                                },
                                {
                                    "line": {
                                        "width": 3
                                    },
                                    "marker": {
                                        "color": "red"
                                    },
                                    "mode": "lines",
                                    "name": "Airway resistance inferred",
                                    "showlegend": false,
                                    "type": "scatter",
                                    "x": [
                                        26.773262974910534,
                                        37.770992481144944
                                    ],
                                    "xaxis": "x2",
                                    "y": [
                                        "147",
                                        "147"
                                    ],
                                    "yaxis": "y2"
                                },
                                {
                                    "line": {
                                        "width": 3
                                    },
                                    "marker": {
                                        "color": "red"
                                    },
                                    "mode": "lines",
                                    "name": "Airway resistance inferred",
                                    "showlegend": false,
                                    "type": "scatter",
                                    "x": [
                                        29.52098989234041,
                                        44.46040937429506
                                    ],
                                    "xaxis": "x2",
                                    "y": [
                                        "249",
                                        "249"
                                    ],
                                    "yaxis": "y2"
                                },
                                {
                                    "line": {
                                        "width": 3
                                    },
                                    "marker": {
                                        "color": "red"
                                    },
                                    "mode": "lines",
                                    "name": "Airway resistance inferred",
                                    "showlegend": false,
                                    "type": "scatter",
                                    "x": [
                                        22.802425068350146,
                                        38.50391465012108
                                    ],
                                    "xaxis": "x2",
                                    "y": [
                                        "243",
                                        "243"
                                    ],
                                    "yaxis": "y2"
                                },
                                {
                                    "line": {
                                        "width": 3
                                    },
                                    "marker": {
                                        "color": "red"
                                    },
                                    "mode": "lines",
                                    "name": "Airway resistance inferred",
                                    "showlegend": false,
                                    "type": "scatter",
                                    "x": [
                                        27.82013751877306,
                                        44.36268910271544
                                    ],
                                    "xaxis": "x2",
                                    "y": [
                                        "514",
                                        "514"
                                    ],
                                    "yaxis": "y2"
                                },
                                {
                                    "line": {
                                        "width": 3
                                    },
                                    "marker": {
                                        "color": "red"
                                    },
                                    "mode": "lines",
                                    "name": "Airway resistance inferred",
                                    "showlegend": false,
                                    "type": "scatter",
                                    "x": [
                                        50.010211068670316,
                                        62.22822839834175
                                    ],
                                    "xaxis": "x2",
                                    "y": [
                                        "248",
                                        "248"
                                    ],
                                    "yaxis": "y2"
                                },
                                {
                                    "line": {
                                        "width": 3
                                    },
                                    "marker": {
                                        "color": "red"
                                    },
                                    "mode": "lines",
                                    "name": "Airway resistance inferred",
                                    "showlegend": false,
                                    "type": "scatter",
                                    "x": [
                                        26.01491273600278,
                                        41.3147289218822
                                    ],
                                    "xaxis": "x2",
                                    "y": [
                                        "505",
                                        "505"
                                    ],
                                    "yaxis": "y2"
                                },
                                {
                                    "line": {
                                        "width": 3
                                    },
                                    "marker": {
                                        "color": "red"
                                    },
                                    "mode": "lines",
                                    "name": "Airway resistance inferred",
                                    "showlegend": false,
                                    "type": "scatter",
                                    "x": [
                                        47.63436747877209,
                                        60.77913709826774
                                    ],
                                    "xaxis": "x2",
                                    "y": [
                                        "258",
                                        "258"
                                    ],
                                    "yaxis": "y2"
                                },
                                {
                                    "line": {
                                        "width": 3
                                    },
                                    "marker": {
                                        "color": "red"
                                    },
                                    "mode": "lines",
                                    "name": "Airway resistance inferred",
                                    "showlegend": false,
                                    "type": "scatter",
                                    "x": [
                                        23.968067786823415,
                                        39.567250324324114
                                    ],
                                    "xaxis": "x2",
                                    "y": [
                                        "289",
                                        "289"
                                    ],
                                    "yaxis": "y2"
                                },
                                {
                                    "line": {
                                        "width": 3
                                    },
                                    "marker": {
                                        "color": "red"
                                    },
                                    "mode": "lines",
                                    "name": "Airway resistance inferred",
                                    "showlegend": false,
                                    "type": "scatter",
                                    "x": [
                                        36.987147796859865,
                                        51.39967171742929
                                    ],
                                    "xaxis": "x2",
                                    "y": [
                                        "365",
                                        "365"
                                    ],
                                    "yaxis": "y2"
                                },
                                {
                                    "line": {
                                        "width": 3
                                    },
                                    "marker": {
                                        "color": "red"
                                    },
                                    "mode": "lines",
                                    "name": "Airway resistance inferred",
                                    "showlegend": false,
                                    "type": "scatter",
                                    "x": [
                                        32.17011971373623,
                                        46.80259565437766
                                    ],
                                    "xaxis": "x2",
                                    "y": [
                                        "148",
                                        "148"
                                    ],
                                    "yaxis": "y2"
                                },
                                {
                                    "line": {
                                        "width": 3
                                    },
                                    "marker": {
                                        "color": "red"
                                    },
                                    "mode": "lines",
                                    "name": "Airway resistance inferred",
                                    "showlegend": false,
                                    "type": "scatter",
                                    "x": [
                                        26.69676969186018,
                                        41.746665007933885
                                    ],
                                    "xaxis": "x2",
                                    "y": [
                                        "118",
                                        "118"
                                    ],
                                    "yaxis": "y2"
                                },
                                {
                                    "line": {
                                        "width": 3
                                    },
                                    "marker": {
                                        "color": "red"
                                    },
                                    "mode": "lines",
                                    "name": "Airway resistance inferred",
                                    "showlegend": false,
                                    "type": "scatter",
                                    "x": [
                                        24.937733847055814,
                                        40.97673401427523
                                    ],
                                    "xaxis": "x2",
                                    "y": [
                                        "293",
                                        "293"
                                    ],
                                    "yaxis": "y2"
                                },
                                {
                                    "line": {
                                        "width": 3
                                    },
                                    "marker": {
                                        "color": "red"
                                    },
                                    "mode": "lines",
                                    "name": "Airway resistance inferred",
                                    "showlegend": false,
                                    "type": "scatter",
                                    "x": [
                                        47.56135013642331,
                                        60.15248798398951
                                    ],
                                    "xaxis": "x2",
                                    "y": [
                                        "253",
                                        "253"
                                    ],
                                    "yaxis": "y2"
                                },
                                {
                                    "line": {
                                        "width": 3
                                    },
                                    "marker": {
                                        "color": "red"
                                    },
                                    "mode": "lines",
                                    "name": "Airway resistance inferred",
                                    "showlegend": false,
                                    "type": "scatter",
                                    "x": [
                                        24.12906643127683,
                                        40.20868814631027
                                    ],
                                    "xaxis": "x2",
                                    "y": [
                                        "426",
                                        "426"
                                    ],
                                    "yaxis": "y2"
                                },
                                {
                                    "line": {
                                        "width": 3
                                    },
                                    "marker": {
                                        "color": "red"
                                    },
                                    "mode": "lines",
                                    "name": "Airway resistance inferred",
                                    "showlegend": false,
                                    "type": "scatter",
                                    "x": [
                                        33.54282403152577,
                                        49.2127872792775
                                    ],
                                    "xaxis": "x2",
                                    "y": [
                                        "342",
                                        "342"
                                    ],
                                    "yaxis": "y2"
                                },
                                {
                                    "line": {
                                        "width": 3
                                    },
                                    "marker": {
                                        "color": "red"
                                    },
                                    "mode": "lines",
                                    "name": "Airway resistance inferred",
                                    "showlegend": false,
                                    "type": "scatter",
                                    "x": [
                                        29.08768092062854,
                                        45.11878677222087
                                    ],
                                    "xaxis": "x2",
                                    "y": [
                                        "517",
                                        "517"
                                    ],
                                    "yaxis": "y2"
                                },
                                {
                                    "line": {
                                        "width": 3
                                    },
                                    "marker": {
                                        "color": "red"
                                    },
                                    "mode": "lines",
                                    "name": "Airway resistance inferred",
                                    "showlegend": false,
                                    "type": "scatter",
                                    "x": [
                                        46.6690496967391,
                                        59.38101399054494
                                    ],
                                    "xaxis": "x2",
                                    "y": [
                                        "194",
                                        "194"
                                    ],
                                    "yaxis": "y2"
                                },
                                {
                                    "line": {
                                        "width": 3
                                    },
                                    "marker": {
                                        "color": "red"
                                    },
                                    "mode": "lines",
                                    "name": "Airway resistance inferred",
                                    "showlegend": false,
                                    "type": "scatter",
                                    "x": [
                                        27.111516457545054,
                                        41.90948069917155
                                    ],
                                    "xaxis": "x2",
                                    "y": [
                                        "508",
                                        "508"
                                    ],
                                    "yaxis": "y2"
                                },
                                {
                                    "line": {
                                        "width": 3
                                    },
                                    "marker": {
                                        "color": "red"
                                    },
                                    "mode": "lines",
                                    "name": "Airway resistance inferred",
                                    "showlegend": false,
                                    "type": "scatter",
                                    "x": [
                                        41.539419584781506,
                                        58.860833183960345
                                    ],
                                    "xaxis": "x2",
                                    "y": [
                                        "433",
                                        "433"
                                    ],
                                    "yaxis": "y2"
                                },
                                {
                                    "marker": {
                                        "color": "blue",
                                        "size": 4
                                    },
                                    "mode": "markers",
                                    "name": "1 - ecFEV1%Predicted",
                                    "type": "scatter",
                                    "x": [
                                        0.7190064928335331,
                                        12.600346913093324,
                                        23.96577161986161,
                                        20.670114886379483,
                                        25.589977215108433,
                                        26.713903455875375,
                                        26.193060819986048,
                                        27.79714473213103,
                                        38.442408530889594,
                                        35.84730954837891,
                                        34.55509875733721,
                                        40.14747455152493,
                                        39.9437288973817,
                                        30.05246561379469,
                                        28.181865768705837,
                                        40.58912041640572,
                                        35.58899257253485,
                                        38.23870137165499,
                                        29.463635619942373,
                                        35.62713203355523,
                                        32.1146025916219,
                                        29.928771233937628,
                                        39.21035370840765,
                                        43.774754465769156,
                                        33.6140565242861,
                                        37.15400698695806,
                                        31.39696544924056,
                                        41.2359107460301,
                                        38.372061876528086,
                                        44.77787296405627,
                                        44.89968783836566,
                                        47.27203973643263,
                                        42.106465943602785,
                                        44.89739714982587,
                                        40.19471578353193,
                                        51.37931399019353,
                                        44.13487812205032,
                                        40.34929626980264,
                                        51.83773563736387,
                                        32.77584106164391,
                                        42.129149486472876,
                                        30.87404585818991,
                                        52.99243115460483,
                                        31.850834419212923,
                                        46.509434273359176,
                                        32.27594527324617,
                                        55.42597513741118,
                                        36.237651409617726,
                                        57.85273232281536,
                                        56.87496968894096,
                                        56.658424963323974,
                                        33.05252927392813,
                                        58.22809290990336,
                                        55.07332252942479,
                                        36.20427813161068,
                                        38.09683659295833,
                                        54.82018774413714,
                                        42.152888538600926,
                                        59.53146963989018,
                                        42.473820335446106,
                                        52.872278815168926,
                                        31.91225094063721,
                                        42.921694359861256,
                                        54.94366774558618,
                                        55.58272181585099,
                                        50.09801566824494,
                                        49.057307110471314,
                                        49.04934114031779,
                                        34.25082097935568,
                                        36.32850405574679,
                                        50.99990862061445,
                                        41.233886275754486,
                                        53.510756220711826,
                                        60.01248575743648,
                                        34.70700805755387,
                                        55.07129755715894,
                                        51.203519413928646,
                                        53.084821018727084,
                                        41.087647656134116,
                                        55.65182254866171,
                                        37.63657022788402,
                                        57.2313581011729,
                                        41.75266790089593,
                                        37.62378946374352,
                                        59.2911758993869,
                                        54.7430861384684,
                                        61.55544904894449,
                                        61.025700018486155,
                                        32.76038067876057,
                                        59.99447665614532,
                                        47.21123427994417,
                                        48.011091155770835,
                                        52.34997319204974,
                                        51.620990664837564,
                                        59.976854311637915,
                                        35.495358400644896,
                                        40.24282158877313,
                                        34.31356281381099,
                                        40.453010951568224,
                                        60.7269797556144,
                                        38.50398257504108,
                                        59.36162716756871,
                                        36.95051299729794,
                                        49.4362495135027,
                                        44.767355242699,
                                        39.59852544074549,
                                        38.7194208281884,
                                        59.98767177084292,
                                        39.05605854272837,
                                        48.54806274206383,
                                        44.51674830496976,
                                        61.458396915427926,
                                        43.65753786435754,
                                        59.540534035454336
                                    ],
                                    "xaxis": "x2",
                                    "y": [
                                        "372",
                                        "202",
                                        "104",
                                        "117",
                                        "107",
                                        "191",
                                        "133",
                                        "353",
                                        "395",
                                        "114",
                                        "432",
                                        "252",
                                        "424",
                                        "254",
                                        "201",
                                        "224",
                                        "493",
                                        "145",
                                        "317",
                                        "509",
                                        "116",
                                        "185",
                                        "220",
                                        "408",
                                        "146",
                                        "500",
                                        "205",
                                        "405",
                                        "203",
                                        "483",
                                        "159",
                                        "103",
                                        "138",
                                        "439",
                                        "256",
                                        "143",
                                        "523",
                                        "108",
                                        "309",
                                        "284",
                                        "311",
                                        "245",
                                        "238",
                                        "188",
                                        "153",
                                        "453",
                                        "334",
                                        "279",
                                        "140",
                                        "149",
                                        "419",
                                        "139",
                                        "298",
                                        "198",
                                        "165",
                                        "272",
                                        "387",
                                        "207",
                                        "488",
                                        "416",
                                        "336",
                                        "196",
                                        "181",
                                        "494",
                                        "142",
                                        "179",
                                        "150",
                                        "434",
                                        "525",
                                        "173",
                                        "135",
                                        "119",
                                        "440",
                                        "162",
                                        "131",
                                        "184",
                                        "431",
                                        "101",
                                        "169",
                                        "158",
                                        "306",
                                        "264",
                                        "325",
                                        "291",
                                        "132",
                                        "128",
                                        "120",
                                        "127",
                                        "266",
                                        "232",
                                        "270",
                                        "106",
                                        "502",
                                        "403",
                                        "112",
                                        "147",
                                        "249",
                                        "243",
                                        "514",
                                        "248",
                                        "505",
                                        "258",
                                        "289",
                                        "365",
                                        "148",
                                        "118",
                                        "293",
                                        "253",
                                        "426",
                                        "342",
                                        "517",
                                        "194",
                                        "508",
                                        "433"
                                    ],
                                    "yaxis": "y2"
                                },
                                {
                                    "line": {
                                        "width": 3
                                    },
                                    "marker": {
                                        "color": "red"
                                    },
                                    "mode": "lines",
                                    "name": "Airway resistance inferred",
                                    "showlegend": true,
                                    "type": "scatter",
                                    "x": [
                                        61.5580180333194,
                                        70.42259601349454
                                    ],
                                    "xaxis": "x3",
                                    "y": [
                                        "155",
                                        "155"
                                    ],
                                    "yaxis": "y3"
                                },
                                {
                                    "line": {
                                        "width": 3
                                    },
                                    "marker": {
                                        "color": "red"
                                    },
                                    "mode": "lines",
                                    "name": "Airway resistance inferred",
                                    "showlegend": false,
                                    "type": "scatter",
                                    "x": [
                                        57.21527741503769,
                                        66.64606097576944
                                    ],
                                    "xaxis": "x3",
                                    "y": [
                                        "111",
                                        "111"
                                    ],
                                    "yaxis": "y3"
                                },
                                {
                                    "line": {
                                        "width": 3
                                    },
                                    "marker": {
                                        "color": "red"
                                    },
                                    "mode": "lines",
                                    "name": "Airway resistance inferred",
                                    "showlegend": false,
                                    "type": "scatter",
                                    "x": [
                                        79.48784759093957,
                                        85.83498505009949
                                    ],
                                    "xaxis": "x3",
                                    "y": [
                                        "413",
                                        "413"
                                    ],
                                    "yaxis": "y3"
                                },
                                {
                                    "line": {
                                        "width": 3
                                    },
                                    "marker": {
                                        "color": "red"
                                    },
                                    "mode": "lines",
                                    "name": "Airway resistance inferred",
                                    "showlegend": false,
                                    "type": "scatter",
                                    "x": [
                                        63.59285666473966,
                                        71.68700511642797
                                    ],
                                    "xaxis": "x3",
                                    "y": [
                                        "452",
                                        "452"
                                    ],
                                    "yaxis": "y3"
                                },
                                {
                                    "line": {
                                        "width": 3
                                    },
                                    "marker": {
                                        "color": "red"
                                    },
                                    "mode": "lines",
                                    "name": "Airway resistance inferred",
                                    "showlegend": false,
                                    "type": "scatter",
                                    "x": [
                                        57.62337750758583,
                                        67.50348416960558
                                    ],
                                    "xaxis": "x3",
                                    "y": [
                                        "484",
                                        "484"
                                    ],
                                    "yaxis": "y3"
                                },
                                {
                                    "line": {
                                        "width": 3
                                    },
                                    "marker": {
                                        "color": "red"
                                    },
                                    "mode": "lines",
                                    "name": "Airway resistance inferred",
                                    "showlegend": false,
                                    "type": "scatter",
                                    "x": [
                                        60.86863438683778,
                                        69.6805129395306
                                    ],
                                    "xaxis": "x3",
                                    "y": [
                                        "283",
                                        "283"
                                    ],
                                    "yaxis": "y3"
                                },
                                {
                                    "line": {
                                        "width": 3
                                    },
                                    "marker": {
                                        "color": "red"
                                    },
                                    "mode": "lines",
                                    "name": "Airway resistance inferred",
                                    "showlegend": false,
                                    "type": "scatter",
                                    "x": [
                                        62.9039600896663,
                                        71.63606285678833
                                    ],
                                    "xaxis": "x3",
                                    "y": [
                                        "361",
                                        "361"
                                    ],
                                    "yaxis": "y3"
                                },
                                {
                                    "line": {
                                        "width": 3
                                    },
                                    "marker": {
                                        "color": "red"
                                    },
                                    "mode": "lines",
                                    "name": "Airway resistance inferred",
                                    "showlegend": false,
                                    "type": "scatter",
                                    "x": [
                                        66.73901347869044,
                                        74.5678511624665
                                    ],
                                    "xaxis": "x3",
                                    "y": [
                                        "404",
                                        "404"
                                    ],
                                    "yaxis": "y3"
                                },
                                {
                                    "line": {
                                        "width": 3
                                    },
                                    "marker": {
                                        "color": "red"
                                    },
                                    "mode": "lines",
                                    "name": "Airway resistance inferred",
                                    "showlegend": false,
                                    "type": "scatter",
                                    "x": [
                                        63.713097746148165,
                                        72.01002435614721
                                    ],
                                    "xaxis": "x3",
                                    "y": [
                                        "421",
                                        "421"
                                    ],
                                    "yaxis": "y3"
                                },
                                {
                                    "line": {
                                        "width": 3
                                    },
                                    "marker": {
                                        "color": "red"
                                    },
                                    "mode": "lines",
                                    "name": "Airway resistance inferred",
                                    "showlegend": false,
                                    "type": "scatter",
                                    "x": [
                                        66.82635226762224,
                                        74.69003984343409
                                    ],
                                    "xaxis": "x3",
                                    "y": [
                                        "411",
                                        "411"
                                    ],
                                    "yaxis": "y3"
                                },
                                {
                                    "line": {
                                        "width": 3
                                    },
                                    "marker": {
                                        "color": "red"
                                    },
                                    "mode": "lines",
                                    "name": "Airway resistance inferred",
                                    "showlegend": false,
                                    "type": "scatter",
                                    "x": [
                                        67.55041837218067,
                                        75.51106276185942
                                    ],
                                    "xaxis": "x3",
                                    "y": [
                                        "122",
                                        "122"
                                    ],
                                    "yaxis": "y3"
                                },
                                {
                                    "line": {
                                        "width": 3
                                    },
                                    "marker": {
                                        "color": "red"
                                    },
                                    "mode": "lines",
                                    "name": "Airway resistance inferred",
                                    "showlegend": false,
                                    "type": "scatter",
                                    "x": [
                                        62.195568848082125,
                                        71.0221552772522
                                    ],
                                    "xaxis": "x3",
                                    "y": [
                                        "520",
                                        "520"
                                    ],
                                    "yaxis": "y3"
                                },
                                {
                                    "line": {
                                        "width": 3
                                    },
                                    "marker": {
                                        "color": "red"
                                    },
                                    "mode": "lines",
                                    "name": "Airway resistance inferred",
                                    "showlegend": false,
                                    "type": "scatter",
                                    "x": [
                                        64.27430958661208,
                                        73.05509982391034
                                    ],
                                    "xaxis": "x3",
                                    "y": [
                                        "409",
                                        "409"
                                    ],
                                    "yaxis": "y3"
                                },
                                {
                                    "line": {
                                        "width": 3
                                    },
                                    "marker": {
                                        "color": "red"
                                    },
                                    "mode": "lines",
                                    "name": "Airway resistance inferred",
                                    "showlegend": false,
                                    "type": "scatter",
                                    "x": [
                                        61.96136112459583,
                                        71.14517174965825
                                    ],
                                    "xaxis": "x3",
                                    "y": [
                                        "282",
                                        "282"
                                    ],
                                    "yaxis": "y3"
                                },
                                {
                                    "line": {
                                        "width": 3
                                    },
                                    "marker": {
                                        "color": "red"
                                    },
                                    "mode": "lines",
                                    "name": "Airway resistance inferred",
                                    "showlegend": false,
                                    "type": "scatter",
                                    "x": [
                                        60.035174421949215,
                                        70.66763529596044
                                    ],
                                    "xaxis": "x3",
                                    "y": [
                                        "422",
                                        "422"
                                    ],
                                    "yaxis": "y3"
                                },
                                {
                                    "line": {
                                        "width": 3
                                    },
                                    "marker": {
                                        "color": "red"
                                    },
                                    "mode": "lines",
                                    "name": "Airway resistance inferred",
                                    "showlegend": false,
                                    "type": "scatter",
                                    "x": [
                                        62.47457527303675,
                                        72.77430358897992
                                    ],
                                    "xaxis": "x3",
                                    "y": [
                                        "377",
                                        "377"
                                    ],
                                    "yaxis": "y3"
                                },
                                {
                                    "line": {
                                        "width": 3
                                    },
                                    "marker": {
                                        "color": "red"
                                    },
                                    "mode": "lines",
                                    "name": "Airway resistance inferred",
                                    "showlegend": false,
                                    "type": "scatter",
                                    "x": [
                                        58.99000630542966,
                                        69.13532271724227
                                    ],
                                    "xaxis": "x3",
                                    "y": [
                                        "362",
                                        "362"
                                    ],
                                    "yaxis": "y3"
                                },
                                {
                                    "line": {
                                        "width": 3
                                    },
                                    "marker": {
                                        "color": "red"
                                    },
                                    "mode": "lines",
                                    "name": "Airway resistance inferred",
                                    "showlegend": false,
                                    "type": "scatter",
                                    "x": [
                                        62.362616819292036,
                                        70.85628780272012
                                    ],
                                    "xaxis": "x3",
                                    "y": [
                                        "187",
                                        "187"
                                    ],
                                    "yaxis": "y3"
                                },
                                {
                                    "line": {
                                        "width": 3
                                    },
                                    "marker": {
                                        "color": "red"
                                    },
                                    "mode": "lines",
                                    "name": "Airway resistance inferred",
                                    "showlegend": false,
                                    "type": "scatter",
                                    "x": [
                                        58.23148654969093,
                                        68.4684365245376
                                    ],
                                    "xaxis": "x3",
                                    "y": [
                                        "102",
                                        "102"
                                    ],
                                    "yaxis": "y3"
                                },
                                {
                                    "line": {
                                        "width": 3
                                    },
                                    "marker": {
                                        "color": "red"
                                    },
                                    "mode": "lines",
                                    "name": "Airway resistance inferred",
                                    "showlegend": false,
                                    "type": "scatter",
                                    "x": [
                                        57.67862941934598,
                                        67.95250049283338
                                    ],
                                    "xaxis": "x3",
                                    "y": [
                                        "486",
                                        "486"
                                    ],
                                    "yaxis": "y3"
                                },
                                {
                                    "line": {
                                        "width": 3
                                    },
                                    "marker": {
                                        "color": "red"
                                    },
                                    "mode": "lines",
                                    "name": "Airway resistance inferred",
                                    "showlegend": false,
                                    "type": "scatter",
                                    "x": [
                                        57.213610908077364,
                                        72.3181908528737
                                    ],
                                    "xaxis": "x3",
                                    "y": [
                                        "417",
                                        "417"
                                    ],
                                    "yaxis": "y3"
                                },
                                {
                                    "marker": {
                                        "color": "blue",
                                        "size": 4
                                    },
                                    "mode": "markers",
                                    "name": "1 - ecFEV1%Predicted",
                                    "type": "scatter",
                                    "x": [
                                        66.47322359636227,
                                        62.56584356845362,
                                        83.48572863419052,
                                        68.47795508502585,
                                        63.46404099131713,
                                        66.19273880795794,
                                        68.22929236527409,
                                        71.65858315802718,
                                        68.90270858023884,
                                        71.82677653344597,
                                        72.75729072699328,
                                        67.86974665870704,
                                        69.97823279459163,
                                        67.91394814929694,
                                        67.15118344169161,
                                        69.48801495129693,
                                        66.16854165112906,
                                        68.93310571120011,
                                        65.998821353678,
                                        65.64905230710738,
                                        71.62049283473216
                                    ],
                                    "xaxis": "x3",
                                    "y": [
                                        "155",
                                        "111",
                                        "413",
                                        "452",
                                        "484",
                                        "283",
                                        "361",
                                        "404",
                                        "421",
                                        "411",
                                        "122",
                                        "520",
                                        "409",
                                        "282",
                                        "422",
                                        "377",
                                        "362",
                                        "187",
                                        "102",
                                        "486",
                                        "417"
                                    ],
                                    "yaxis": "y3"
                                }
                            ],
                            "layout": {
                                "annotations": [
                                    {
                                        "font": {
                                            "size": 16
                                        },
                                        "showarrow": false,
                                        "text": "Mild CF",
                                        "x": 0.13333333333333333,
                                        "xanchor": "center",
                                        "xref": "paper",
                                        "y": 1,
                                        "yanchor": "bottom",
                                        "yref": "paper"
                                    },
                                    {
                                        "font": {
                                            "size": 16
                                        },
                                        "showarrow": false,
                                        "text": "Moderate CF",
                                        "x": 0.5,
                                        "xanchor": "center",
                                        "xref": "paper",
                                        "y": 1,
                                        "yanchor": "bottom",
                                        "yref": "paper"
                                    },
                                    {
                                        "font": {
                                            "size": 16
                                        },
                                        "showarrow": false,
                                        "text": "Severe CF",
                                        "x": 0.8666666666666667,
                                        "xanchor": "center",
                                        "xref": "paper",
                                        "y": 1,
                                        "yanchor": "bottom",
                                        "yref": "paper"
                                    }
                                ],
                                "font": {
                                    "size": 10
                                },
                                "height": 900,
                                "paper_bgcolor": "white",
                                "plot_bgcolor": "white",
                                "showlegend": true,
                                "template": {
                                    "data": {
                                        "bar": [
                                            {
                                                "error_x": {
                                                    "color": "#2a3f5f"
                                                },
                                                "error_y": {
                                                    "color": "#2a3f5f"
                                                },
                                                "marker": {
                                                    "line": {
                                                        "color": "#E5ECF6",
                                                        "width": 0.5
                                                    },
                                                    "pattern": {
                                                        "fillmode": "overlay",
                                                        "size": 10,
                                                        "solidity": 0.2
                                                    }
                                                },
                                                "type": "bar"
                                            }
                                        ],
                                        "barpolar": [
                                            {
                                                "marker": {
                                                    "line": {
                                                        "color": "#E5ECF6",
                                                        "width": 0.5
                                                    },
                                                    "pattern": {
                                                        "fillmode": "overlay",
                                                        "size": 10,
                                                        "solidity": 0.2
                                                    }
                                                },
                                                "type": "barpolar"
                                            }
                                        ],
                                        "carpet": [
                                            {
                                                "aaxis": {
                                                    "endlinecolor": "#2a3f5f",
                                                    "gridcolor": "white",
                                                    "linecolor": "white",
                                                    "minorgridcolor": "white",
                                                    "startlinecolor": "#2a3f5f"
                                                },
                                                "baxis": {
                                                    "endlinecolor": "#2a3f5f",
                                                    "gridcolor": "white",
                                                    "linecolor": "white",
                                                    "minorgridcolor": "white",
                                                    "startlinecolor": "#2a3f5f"
                                                },
                                                "type": "carpet"
                                            }
                                        ],
                                        "choropleth": [
                                            {
                                                "colorbar": {
                                                    "outlinewidth": 0,
                                                    "ticks": ""
                                                },
                                                "type": "choropleth"
                                            }
                                        ],
                                        "contour": [
                                            {
                                                "colorbar": {
                                                    "outlinewidth": 0,
                                                    "ticks": ""
                                                },
                                                "colorscale": [
                                                    [
                                                        0,
                                                        "#0d0887"
                                                    ],
                                                    [
                                                        0.1111111111111111,
                                                        "#46039f"
                                                    ],
                                                    [
                                                        0.2222222222222222,
                                                        "#7201a8"
                                                    ],
                                                    [
                                                        0.3333333333333333,
                                                        "#9c179e"
                                                    ],
                                                    [
                                                        0.4444444444444444,
                                                        "#bd3786"
                                                    ],
                                                    [
                                                        0.5555555555555556,
                                                        "#d8576b"
                                                    ],
                                                    [
                                                        0.6666666666666666,
                                                        "#ed7953"
                                                    ],
                                                    [
                                                        0.7777777777777778,
                                                        "#fb9f3a"
                                                    ],
                                                    [
                                                        0.8888888888888888,
                                                        "#fdca26"
                                                    ],
                                                    [
                                                        1,
                                                        "#f0f921"
                                                    ]
                                                ],
                                                "type": "contour"
                                            }
                                        ],
                                        "contourcarpet": [
                                            {
                                                "colorbar": {
                                                    "outlinewidth": 0,
                                                    "ticks": ""
                                                },
                                                "type": "contourcarpet"
                                            }
                                        ],
                                        "heatmap": [
                                            {
                                                "colorbar": {
                                                    "outlinewidth": 0,
                                                    "ticks": ""
                                                },
                                                "colorscale": [
                                                    [
                                                        0,
                                                        "#0d0887"
                                                    ],
                                                    [
                                                        0.1111111111111111,
                                                        "#46039f"
                                                    ],
                                                    [
                                                        0.2222222222222222,
                                                        "#7201a8"
                                                    ],
                                                    [
                                                        0.3333333333333333,
                                                        "#9c179e"
                                                    ],
                                                    [
                                                        0.4444444444444444,
                                                        "#bd3786"
                                                    ],
                                                    [
                                                        0.5555555555555556,
                                                        "#d8576b"
                                                    ],
                                                    [
                                                        0.6666666666666666,
                                                        "#ed7953"
                                                    ],
                                                    [
                                                        0.7777777777777778,
                                                        "#fb9f3a"
                                                    ],
                                                    [
                                                        0.8888888888888888,
                                                        "#fdca26"
                                                    ],
                                                    [
                                                        1,
                                                        "#f0f921"
                                                    ]
                                                ],
                                                "type": "heatmap"
                                            }
                                        ],
                                        "heatmapgl": [
                                            {
                                                "colorbar": {
                                                    "outlinewidth": 0,
                                                    "ticks": ""
                                                },
                                                "colorscale": [
                                                    [
                                                        0,
                                                        "#0d0887"
                                                    ],
                                                    [
                                                        0.1111111111111111,
                                                        "#46039f"
                                                    ],
                                                    [
                                                        0.2222222222222222,
                                                        "#7201a8"
                                                    ],
                                                    [
                                                        0.3333333333333333,
                                                        "#9c179e"
                                                    ],
                                                    [
                                                        0.4444444444444444,
                                                        "#bd3786"
                                                    ],
                                                    [
                                                        0.5555555555555556,
                                                        "#d8576b"
                                                    ],
                                                    [
                                                        0.6666666666666666,
                                                        "#ed7953"
                                                    ],
                                                    [
                                                        0.7777777777777778,
                                                        "#fb9f3a"
                                                    ],
                                                    [
                                                        0.8888888888888888,
                                                        "#fdca26"
                                                    ],
                                                    [
                                                        1,
                                                        "#f0f921"
                                                    ]
                                                ],
                                                "type": "heatmapgl"
                                            }
                                        ],
                                        "histogram": [
                                            {
                                                "marker": {
                                                    "pattern": {
                                                        "fillmode": "overlay",
                                                        "size": 10,
                                                        "solidity": 0.2
                                                    }
                                                },
                                                "type": "histogram"
                                            }
                                        ],
                                        "histogram2d": [
                                            {
                                                "colorbar": {
                                                    "outlinewidth": 0,
                                                    "ticks": ""
                                                },
                                                "colorscale": [
                                                    [
                                                        0,
                                                        "#0d0887"
                                                    ],
                                                    [
                                                        0.1111111111111111,
                                                        "#46039f"
                                                    ],
                                                    [
                                                        0.2222222222222222,
                                                        "#7201a8"
                                                    ],
                                                    [
                                                        0.3333333333333333,
                                                        "#9c179e"
                                                    ],
                                                    [
                                                        0.4444444444444444,
                                                        "#bd3786"
                                                    ],
                                                    [
                                                        0.5555555555555556,
                                                        "#d8576b"
                                                    ],
                                                    [
                                                        0.6666666666666666,
                                                        "#ed7953"
                                                    ],
                                                    [
                                                        0.7777777777777778,
                                                        "#fb9f3a"
                                                    ],
                                                    [
                                                        0.8888888888888888,
                                                        "#fdca26"
                                                    ],
                                                    [
                                                        1,
                                                        "#f0f921"
                                                    ]
                                                ],
                                                "type": "histogram2d"
                                            }
                                        ],
                                        "histogram2dcontour": [
                                            {
                                                "colorbar": {
                                                    "outlinewidth": 0,
                                                    "ticks": ""
                                                },
                                                "colorscale": [
                                                    [
                                                        0,
                                                        "#0d0887"
                                                    ],
                                                    [
                                                        0.1111111111111111,
                                                        "#46039f"
                                                    ],
                                                    [
                                                        0.2222222222222222,
                                                        "#7201a8"
                                                    ],
                                                    [
                                                        0.3333333333333333,
                                                        "#9c179e"
                                                    ],
                                                    [
                                                        0.4444444444444444,
                                                        "#bd3786"
                                                    ],
                                                    [
                                                        0.5555555555555556,
                                                        "#d8576b"
                                                    ],
                                                    [
                                                        0.6666666666666666,
                                                        "#ed7953"
                                                    ],
                                                    [
                                                        0.7777777777777778,
                                                        "#fb9f3a"
                                                    ],
                                                    [
                                                        0.8888888888888888,
                                                        "#fdca26"
                                                    ],
                                                    [
                                                        1,
                                                        "#f0f921"
                                                    ]
                                                ],
                                                "type": "histogram2dcontour"
                                            }
                                        ],
                                        "mesh3d": [
                                            {
                                                "colorbar": {
                                                    "outlinewidth": 0,
                                                    "ticks": ""
                                                },
                                                "type": "mesh3d"
                                            }
                                        ],
                                        "parcoords": [
                                            {
                                                "line": {
                                                    "colorbar": {
                                                        "outlinewidth": 0,
                                                        "ticks": ""
                                                    }
                                                },
                                                "type": "parcoords"
                                            }
                                        ],
                                        "pie": [
                                            {
                                                "automargin": true,
                                                "type": "pie"
                                            }
                                        ],
                                        "scatter": [
                                            {
                                                "fillpattern": {
                                                    "fillmode": "overlay",
                                                    "size": 10,
                                                    "solidity": 0.2
                                                },
                                                "type": "scatter"
                                            }
                                        ],
                                        "scatter3d": [
                                            {
                                                "line": {
                                                    "colorbar": {
                                                        "outlinewidth": 0,
                                                        "ticks": ""
                                                    }
                                                },
                                                "marker": {
                                                    "colorbar": {
                                                        "outlinewidth": 0,
                                                        "ticks": ""
                                                    }
                                                },
                                                "type": "scatter3d"
                                            }
                                        ],
                                        "scattercarpet": [
                                            {
                                                "marker": {
                                                    "colorbar": {
                                                        "outlinewidth": 0,
                                                        "ticks": ""
                                                    }
                                                },
                                                "type": "scattercarpet"
                                            }
                                        ],
                                        "scattergeo": [
                                            {
                                                "marker": {
                                                    "colorbar": {
                                                        "outlinewidth": 0,
                                                        "ticks": ""
                                                    }
                                                },
                                                "type": "scattergeo"
                                            }
                                        ],
                                        "scattergl": [
                                            {
                                                "marker": {
                                                    "colorbar": {
                                                        "outlinewidth": 0,
                                                        "ticks": ""
                                                    }
                                                },
                                                "type": "scattergl"
                                            }
                                        ],
                                        "scattermapbox": [
                                            {
                                                "marker": {
                                                    "colorbar": {
                                                        "outlinewidth": 0,
                                                        "ticks": ""
                                                    }
                                                },
                                                "type": "scattermapbox"
                                            }
                                        ],
                                        "scatterpolar": [
                                            {
                                                "marker": {
                                                    "colorbar": {
                                                        "outlinewidth": 0,
                                                        "ticks": ""
                                                    }
                                                },
                                                "type": "scatterpolar"
                                            }
                                        ],
                                        "scatterpolargl": [
                                            {
                                                "marker": {
                                                    "colorbar": {
                                                        "outlinewidth": 0,
                                                        "ticks": ""
                                                    }
                                                },
                                                "type": "scatterpolargl"
                                            }
                                        ],
                                        "scatterternary": [
                                            {
                                                "marker": {
                                                    "colorbar": {
                                                        "outlinewidth": 0,
                                                        "ticks": ""
                                                    }
                                                },
                                                "type": "scatterternary"
                                            }
                                        ],
                                        "surface": [
                                            {
                                                "colorbar": {
                                                    "outlinewidth": 0,
                                                    "ticks": ""
                                                },
                                                "colorscale": [
                                                    [
                                                        0,
                                                        "#0d0887"
                                                    ],
                                                    [
                                                        0.1111111111111111,
                                                        "#46039f"
                                                    ],
                                                    [
                                                        0.2222222222222222,
                                                        "#7201a8"
                                                    ],
                                                    [
                                                        0.3333333333333333,
                                                        "#9c179e"
                                                    ],
                                                    [
                                                        0.4444444444444444,
                                                        "#bd3786"
                                                    ],
                                                    [
                                                        0.5555555555555556,
                                                        "#d8576b"
                                                    ],
                                                    [
                                                        0.6666666666666666,
                                                        "#ed7953"
                                                    ],
                                                    [
                                                        0.7777777777777778,
                                                        "#fb9f3a"
                                                    ],
                                                    [
                                                        0.8888888888888888,
                                                        "#fdca26"
                                                    ],
                                                    [
                                                        1,
                                                        "#f0f921"
                                                    ]
                                                ],
                                                "type": "surface"
                                            }
                                        ],
                                        "table": [
                                            {
                                                "cells": {
                                                    "fill": {
                                                        "color": "#EBF0F8"
                                                    },
                                                    "line": {
                                                        "color": "white"
                                                    }
                                                },
                                                "header": {
                                                    "fill": {
                                                        "color": "#C8D4E3"
                                                    },
                                                    "line": {
                                                        "color": "white"
                                                    }
                                                },
                                                "type": "table"
                                            }
                                        ]
                                    },
                                    "layout": {
                                        "annotationdefaults": {
                                            "arrowcolor": "#2a3f5f",
                                            "arrowhead": 0,
                                            "arrowwidth": 1
                                        },
                                        "autotypenumbers": "strict",
                                        "coloraxis": {
                                            "colorbar": {
                                                "outlinewidth": 0,
                                                "ticks": ""
                                            }
                                        },
                                        "colorscale": {
                                            "diverging": [
                                                [
                                                    0,
                                                    "#8e0152"
                                                ],
                                                [
                                                    0.1,
                                                    "#c51b7d"
                                                ],
                                                [
                                                    0.2,
                                                    "#de77ae"
                                                ],
                                                [
                                                    0.3,
                                                    "#f1b6da"
                                                ],
                                                [
                                                    0.4,
                                                    "#fde0ef"
                                                ],
                                                [
                                                    0.5,
                                                    "#f7f7f7"
                                                ],
                                                [
                                                    0.6,
                                                    "#e6f5d0"
                                                ],
                                                [
                                                    0.7,
                                                    "#b8e186"
                                                ],
                                                [
                                                    0.8,
                                                    "#7fbc41"
                                                ],
                                                [
                                                    0.9,
                                                    "#4d9221"
                                                ],
                                                [
                                                    1,
                                                    "#276419"
                                                ]
                                            ],
                                            "sequential": [
                                                [
                                                    0,
                                                    "#0d0887"
                                                ],
                                                [
                                                    0.1111111111111111,
                                                    "#46039f"
                                                ],
                                                [
                                                    0.2222222222222222,
                                                    "#7201a8"
                                                ],
                                                [
                                                    0.3333333333333333,
                                                    "#9c179e"
                                                ],
                                                [
                                                    0.4444444444444444,
                                                    "#bd3786"
                                                ],
                                                [
                                                    0.5555555555555556,
                                                    "#d8576b"
                                                ],
                                                [
                                                    0.6666666666666666,
                                                    "#ed7953"
                                                ],
                                                [
                                                    0.7777777777777778,
                                                    "#fb9f3a"
                                                ],
                                                [
                                                    0.8888888888888888,
                                                    "#fdca26"
                                                ],
                                                [
                                                    1,
                                                    "#f0f921"
                                                ]
                                            ],
                                            "sequentialminus": [
                                                [
                                                    0,
                                                    "#0d0887"
                                                ],
                                                [
                                                    0.1111111111111111,
                                                    "#46039f"
                                                ],
                                                [
                                                    0.2222222222222222,
                                                    "#7201a8"
                                                ],
                                                [
                                                    0.3333333333333333,
                                                    "#9c179e"
                                                ],
                                                [
                                                    0.4444444444444444,
                                                    "#bd3786"
                                                ],
                                                [
                                                    0.5555555555555556,
                                                    "#d8576b"
                                                ],
                                                [
                                                    0.6666666666666666,
                                                    "#ed7953"
                                                ],
                                                [
                                                    0.7777777777777778,
                                                    "#fb9f3a"
                                                ],
                                                [
                                                    0.8888888888888888,
                                                    "#fdca26"
                                                ],
                                                [
                                                    1,
                                                    "#f0f921"
                                                ]
                                            ]
                                        },
                                        "colorway": [
                                            "#636efa",
                                            "#EF553B",
                                            "#00cc96",
                                            "#ab63fa",
                                            "#FFA15A",
                                            "#19d3f3",
                                            "#FF6692",
                                            "#B6E880",
                                            "#FF97FF",
                                            "#FECB52"
                                        ],
                                        "font": {
                                            "color": "#2a3f5f"
                                        },
                                        "geo": {
                                            "bgcolor": "white",
                                            "lakecolor": "white",
                                            "landcolor": "#E5ECF6",
                                            "showlakes": true,
                                            "showland": true,
                                            "subunitcolor": "white"
                                        },
                                        "hoverlabel": {
                                            "align": "left"
                                        },
                                        "hovermode": "closest",
                                        "mapbox": {
                                            "style": "light"
                                        },
                                        "paper_bgcolor": "white",
                                        "plot_bgcolor": "#E5ECF6",
                                        "polar": {
                                            "angularaxis": {
                                                "gridcolor": "white",
                                                "linecolor": "white",
                                                "ticks": ""
                                            },
                                            "bgcolor": "#E5ECF6",
                                            "radialaxis": {
                                                "gridcolor": "white",
                                                "linecolor": "white",
                                                "ticks": ""
                                            }
                                        },
                                        "scene": {
                                            "xaxis": {
                                                "backgroundcolor": "#E5ECF6",
                                                "gridcolor": "white",
                                                "gridwidth": 2,
                                                "linecolor": "white",
                                                "showbackground": true,
                                                "ticks": "",
                                                "zerolinecolor": "white"
                                            },
                                            "yaxis": {
                                                "backgroundcolor": "#E5ECF6",
                                                "gridcolor": "white",
                                                "gridwidth": 2,
                                                "linecolor": "white",
                                                "showbackground": true,
                                                "ticks": "",
                                                "zerolinecolor": "white"
                                            },
                                            "zaxis": {
                                                "backgroundcolor": "#E5ECF6",
                                                "gridcolor": "white",
                                                "gridwidth": 2,
                                                "linecolor": "white",
                                                "showbackground": true,
                                                "ticks": "",
                                                "zerolinecolor": "white"
                                            }
                                        },
                                        "shapedefaults": {
                                            "line": {
                                                "color": "#2a3f5f"
                                            }
                                        },
                                        "ternary": {
                                            "aaxis": {
                                                "gridcolor": "white",
                                                "linecolor": "white",
                                                "ticks": ""
                                            },
                                            "baxis": {
                                                "gridcolor": "white",
                                                "linecolor": "white",
                                                "ticks": ""
                                            },
                                            "bgcolor": "#E5ECF6",
                                            "caxis": {
                                                "gridcolor": "white",
                                                "linecolor": "white",
                                                "ticks": ""
                                            }
                                        },
                                        "title": {
                                            "x": 0.05
                                        },
                                        "xaxis": {
                                            "automargin": true,
                                            "gridcolor": "white",
                                            "linecolor": "white",
                                            "ticks": "",
                                            "title": {
                                                "standoff": 15
                                            },
                                            "zerolinecolor": "white",
                                            "zerolinewidth": 2
                                        },
                                        "yaxis": {
                                            "automargin": true,
                                            "gridcolor": "white",
                                            "linecolor": "white",
                                            "ticks": "",
                                            "title": {
                                                "standoff": 15
                                            },
                                            "zerolinecolor": "white",
                                            "zerolinewidth": 2
                                        }
                                    }
                                },
                                "title": {
                                    "text": "Dumbell plot of inferred AR_fev1_fef2575_2d vs ecFEV1%(>=10 points, last 30 days avg)"
                                },
                                "width": 1200,
                                "xaxis": {
                                    "anchor": "y",
                                    "domain": [
                                        0,
                                        0.26666666666666666
                                    ],
                                    "gridcolor": "#2a3f5f",
                                    "range": [
                                        -25,
                                        91
                                    ],
                                    "tickvals": [
                                        0,
                                        30,
                                        60,
                                        90
                                    ],
                                    "title": {
                                        "text": "Airway resistance (%)"
                                    },
                                    "zeroline": true,
                                    "zerolinecolor": "#2a3f5f",
                                    "zerolinewidth": 2
                                },
                                "xaxis2": {
                                    "anchor": "y2",
                                    "domain": [
                                        0.3666666666666667,
                                        0.6333333333333333
                                    ],
                                    "gridcolor": "#2a3f5f",
                                    "range": [
                                        -25,
                                        91
                                    ],
                                    "tickvals": [
                                        0,
                                        30,
                                        60,
                                        90
                                    ],
                                    "title": {
                                        "text": "Airway resistance (%)"
                                    },
                                    "zeroline": true,
                                    "zerolinecolor": "#2a3f5f",
                                    "zerolinewidth": 2
                                },
                                "xaxis3": {
                                    "anchor": "y3",
                                    "domain": [
                                        0.7333333333333334,
                                        1
                                    ],
                                    "gridcolor": "#2a3f5f",
                                    "range": [
                                        -25,
                                        91
                                    ],
                                    "tickvals": [
                                        0,
                                        30,
                                        60,
                                        90
                                    ],
                                    "title": {
                                        "text": "Airway resistance (%)"
                                    },
                                    "zeroline": true,
                                    "zerolinecolor": "#2a3f5f",
                                    "zerolinewidth": 2
                                },
                                "yaxis": {
                                    "anchor": "x",
                                    "domain": [
                                        0,
                                        1
                                    ],
                                    "gridcolor": "#2a3f5f",
                                    "showgrid": false,
                                    "showticklabels": false,
                                    "zeroline": true,
                                    "zerolinecolor": "#2a3f5f",
                                    "zerolinewidth": 2
                                },
                                "yaxis2": {
                                    "anchor": "x2",
                                    "domain": [
                                        0,
                                        1
                                    ],
                                    "gridcolor": "#2a3f5f",
                                    "showgrid": false,
                                    "showticklabels": false,
                                    "zeroline": true,
                                    "zerolinecolor": "#2a3f5f",
                                    "zerolinewidth": 2
                                },
                                "yaxis3": {
                                    "anchor": "x3",
                                    "domain": [
                                        0,
                                        1
                                    ],
                                    "gridcolor": "#2a3f5f",
                                    "showgrid": false,
                                    "showticklabels": false,
                                    "zeroline": true,
                                    "zerolinecolor": "#2a3f5f",
                                    "zerolinewidth": 2
                                }
                            }
                        }
                    },
                    "metadata": {},
                    "output_type": "display_data"
                }
            ],
            "source": [
                "# Adding 2nd day massively reduces the AR compared to examples with low ecFEV1\n",
                "\n",
                "import plotly.graph_objects as go\n",
                "\n",
                "df_to_plot = df_ar_fev1_dumbell\n",
                "ar_col = \"AR_fev1\"\n",
                "df_to_plot = df_ar_fev1_o2_dumbell\n",
                "ar_col = \"AR_fev1_o2\"\n",
                "# df_to_plot = df_ar_fev1_o2_2d_dumbell\n",
                "# ar_col = \"AR_fev1_o2_2d\"\n",
                "# df_to_plot = df_ar_fev1_o2_fef2575_2d_dumbell\n",
                "# ar_col = \"AR_fev1_o2_fef2575_2d\"\n",
                "df_to_plot = df_ar_fev1_fef2575_2d_dumbell\n",
                "ar_col = \"AR_fev1_fef2575_2d\"\n",
                "\n",
                "title = f\"Dumbell plot of inferred {ar_col} vs ecFEV1%(>={min_datapoints} points, last 30 days avg)\"\n",
                "\n",
                "\n",
                "fig = make_subplots(1, 3, horizontal_spacing=0.1, \n",
                "                    column_titles=[\"Mild CF\", \"Moderate CF\", \"Severe CF\"])\n",
                "\n",
                "\n",
                "def plot_dumbell_for_df(fig, df, measures, col):\n",
                "    # For measure[0]\n",
                "    mask = df[\"measure\"] == measures[0]\n",
                "    for id in df[mask][\"ID\"].unique():\n",
                "        mask_id = df[\"ID\"] == id\n",
                "        # Add mask\n",
                "        mask_final = mask_id & mask\n",
                "        fig.add_trace(\n",
                "            go.Scatter(\n",
                "                x=df[mask_final][\"value\"],\n",
                "                y=df[mask_final][\"ID\"],\n",
                "                mode=\"lines\",\n",
                "                name=\"Airway resistance inferred\",\n",
                "                marker=dict(color=\"red\"),\n",
                "                line=dict(width=3),\n",
                "                # legendgroup=\"Airway resistance predicted\",  # Add legend group\n",
                "                showlegend=True if id == df[mask][\"ID\"].unique()[0] else False,  # Only show legend for first trace\n",
                "            ),\n",
                "            row=1,\n",
                "            col=col,\n",
                "        )\n",
                "    # For measure[1]\n",
                "    mask = df[\"measure\"] == measures[1]\n",
                "    fig.add_trace(\n",
                "        go.Scatter(\n",
                "            x=df[mask][\"value\"],\n",
                "            y=df[mask][\"ID\"],\n",
                "            mode=\"markers\",\n",
                "            name=\"1 - ecFEV1%Predicted\",\n",
                "            marker=dict(size=4, color=\"blue\"),\n",
                "            # legendgroup=\"1 - ecFEV1%Predicted\",  # Add legend group\n",
                "        ),\n",
                "        row=1,\n",
                "        col=col,\n",
                "    )\n",
                "\n",
                "# df_to_plot = df_ar_fev1_o2_2d_dumbell\n",
                "# ar_col = \"AR_fev1_o2_2d\"\n",
                "\n",
                "\n",
                "# Split dataframe between mild, moderate and severe CF lung disease\n",
                "# Equivalent to Mean AR_ecFEV1% < 30%, 30 to 60 and > 60%\n",
                "# Get unique IDs and their corresponding Mean AR_ecFEV1% values\n",
                "mask_ecfev1 = df_to_plot[\"measure\"] == f\"Mean {ar_col} prediction\"\n",
                "\n",
                "id_ecfev1_values = df_to_plot[mask_ecfev1].groupby(\"ID\")[\"value\"].mean()\n",
                "\n",
                "# Split IDs into three groups based on ecFEV1% values\n",
                "mild_ids = id_ecfev1_values[id_ecfev1_values < 30].index\n",
                "moderate_ids = id_ecfev1_values[(id_ecfev1_values >= 30) & (id_ecfev1_values <= 60)].index\n",
                "severe_ids = id_ecfev1_values[id_ecfev1_values > 60].index\n",
                "\n",
                "# Create the three dataframes\n",
                "df_mild = df_to_plot[df_to_plot[\"ID\"].isin(mild_ids)]\n",
                "df_moderate = df_to_plot[df_to_plot[\"ID\"].isin(moderate_ids)]\n",
                "df_severe = df_to_plot[df_to_plot[\"ID\"].isin(severe_ids)]\n",
                "\n",
                "# Print the sizes to verify\n",
                "print(f\"Mild size: {len(df_mild)}\")\n",
                "print(f\"Moderate size: {len(df_moderate)}\")\n",
                "print(f\"Severe size: {len(df_severe)}\")\n",
                "\n",
                "# Plot the three groups\n",
                "plot_dumbell_for_df(fig, df_mild, [f\"Mean {ar_col} dist\", \"Mean AR_ecFEV1%\"], 1)\n",
                "plot_dumbell_for_df(fig, df_moderate, [f\"Mean {ar_col} dist\", \"Mean AR_ecFEV1%\"], 2)\n",
                "plot_dumbell_for_df(fig, df_severe, [f\"Mean {ar_col} dist\", \"Mean AR_ecFEV1%\"], 3)\n",
                "\n",
                "\n",
                "# Split the dataframe into 3 roughly equal parts\n",
                "#\n",
                "#\n",
                "# ids = df_ar_fev1_o2_fef2575_2d.ID.unique()\n",
                "# chunk_size = int(np.ceil(len(ids) // 3))\n",
                "#\n",
                "# # Get first chunk\n",
                "# chunk1_ids = ids[0:chunk_size]\n",
                "#\n",
                "# # Get second chunk\n",
                "# chunk2_ids = ids[chunk_size:2*chunk_size]\n",
                "#\n",
                "# # Get third chunk\n",
                "# chunk3_ids = ids[2*chunk_size:len(ids)]\n",
                "#\n",
                "# # Create the three dataframes\n",
                "# df_ar_fev1_o2_fef2575_2d_chunk1 = df_ar_fev1_o2_fef2575_2d.set_index(\"ID\").loc[chunk1_ids].reset_index()\n",
                "# df_ar_fev1_o2_fef2575_2d_chunk2 = df_ar_fev1_o2_fef2575_2d.set_index(\"ID\").loc[chunk2_ids].reset_index()\n",
                "# df_ar_fev1_o2_fef2575_2d_chunk3 = df_ar_fev1_o2_fef2575_2d.set_index(\"ID\").loc[chunk3_ids].reset_index()\n",
                "#\n",
                "# Print the sizes to verify\n",
                "# print(f\"Chunk 1 size: {len(df_ar_fev1_o2_fef2575_2d_chunk1)}\")\n",
                "# print(f\"Chunk 2 size: {len(df_ar_fev1_o2_fef2575_2d_chunk2)}\")\n",
                "# print(f\"Chunk 3 size: {len(df_ar_fev1_o2_fef2575_2d_chunk3)}\")\n",
                "#\n",
                "# plot_dumbell_for_df(fig, df_ar_fev1_o2_fef2575_2d_chunk1, [\"Mean AR_fev1_o2_fef2575_2d dist\", \"Mean AR_ecFEV1%\"], 3)\n",
                "# plot_dumbell_for_df(fig, df_ar_fev1_o2_fef2575_2d_chunk2, [\"Mean AR_fev1_o2_fef2575_2d dist\", \"Mean AR_ecFEV1%\"], 2)\n",
                "# plot_dumbell_for_df(fig, df_ar_fev1_o2_fef2575_2d_chunk3, [\"Mean AR_fev1_o2_fef2575_2d dist\", \"Mean AR_ecFEV1%\"], 1)\n",
                "\n",
                "\n",
                "# Compare different models\n",
                "#\n",
                "#\n",
                "# plot_dumbell_for_df(fig, df_ar_fev1_o2, [\"Mean AR_fev1_o2 dist\", \"Mean AR_ecFEV1%\"], 1)\n",
                "# plot_dumbell_for_df(fig, df_ar_fev1_o2_2d, [\"Mean AR_fev1_o2_2d dist\", \"Mean AR_ecFEV1%\"], 2)\n",
                "\n",
                "\n",
                "fig.update_layout(\n",
                "    height=900,\n",
                "    # height=1800,\n",
                "    width=1200,\n",
                "    font=dict(size=10),\n",
                "    showlegend=True,\n",
                "    title=title,\n",
                "    plot_bgcolor=\"white\",\n",
                "    paper_bgcolor=\"white\",\n",
                ")\n",
                "print(min(df_to_plot[\"value\"]))\n",
                "fig.update_xaxes(\n",
                "    range=[-25, 91],\n",
                "    tickvals=[0, 30, 60, 90],\n",
                "    title=AR.name,\n",
                "    gridcolor=\"#2a3f5f\",\n",
                "    zeroline=True,\n",
                "    zerolinecolor=\"#2a3f5f\",\n",
                "    zerolinewidth=2,\n",
                ")\n",
                "fig.update_yaxes(\n",
                "    showticklabels=False,\n",
                "    showgrid=False,\n",
                "    gridcolor=\"#2a3f5f\",\n",
                "    zeroline=True,\n",
                "    zerolinecolor=\"#2a3f5f\",\n",
                "    zerolinewidth=2,\n",
                ")\n",
                "fig.write_image(f\"{dh.get_path_to_main()}PlotsBreathe/Dumbell_plot_AR_ecFEV1_by_severity/{title}.pdf\")\n",
                "fig.show()\n",
                "\n",
                "# On this plot, if a person is very sick, it's best fev1 measurement will contain a lot of inflammatory markers (sputum, airway wall inflammation).\n",
                "# The sicker the person,the more underestimated the AR pred is because the maximum FEV1 blown is not healthy.\n",
                "# Let's add the FEF25-75.\n",
                "\n",
                "# 60% of data falls within red band\n",
                "\n",
                "# TODO: add vertical lines corresponding to key AR values\n",
                "\n",
                "# Longitudinal AR profile on the web app"
            ]
        },
        {
            "cell_type": "code",
            "execution_count": 38,
            "metadata": {},
            "outputs": [
                {
                    "name": "stdout",
                    "output_type": "stream",
                    "text": [
                        "Number of individuals with Mean AR_ecFEV1% below Mean AR_fev1_fef2575_2d lower bound: 40\n",
                        "Percentage: 15.1%\n",
                        "Number of individuals with Mean AR_ecFEV1% above Mean AR_fev1_fef2575_2d upper bound: 18\n",
                        "Percentage: 6.8%\n"
                    ]
                }
            ],
            "source": [
                "# For who many people would this model be really useful?\n",
                "\n",
                "# Count number of individuals where Mean AR_ecFEV1% is below the lower bound of AR_fev1_fef2575_2d\n",
                "mask = df_ar_fev1_fef2575_2d_means['Mean AR_ecFEV1%'] < df_ar_fev1_fef2575_2d_means['Mean AR_fev1_fef2575_2d low']\n",
                "count_below_lower = mask.sum()\n",
                "print(f\"Number of individuals with Mean AR_ecFEV1% below Mean AR_fev1_fef2575_2d lower bound: {count_below_lower}\")\n",
                "print(f\"Percentage: {count_below_lower/len(df_ar_fev1_fef2575_2d_means)*100:.1f}%\")\n",
                "\n",
                "# Count number of individuals where Mean AR_ecFEV1% is above the upper bound of Mean AR_fev1_fef2575_2d\n",
                "mask = df_ar_fev1_fef2575_2d_means['Mean AR_ecFEV1%'] > df_ar_fev1_fef2575_2d_means['Mean AR_fev1_fef2575_2d high']\n",
                "count_above_upper = mask.sum()\n",
                "print(f\"Number of individuals with Mean AR_ecFEV1% above Mean AR_fev1_fef2575_2d upper bound: {count_above_upper}\")\n",
                "print(f\"Percentage: {count_above_upper/len(df_ar_fev1_fef2575_2d_means)*100:.1f}%\")\n"
            ]
        },
        {
            "cell_type": "code",
            "execution_count": 114,
            "metadata": {},
            "outputs": [],
            "source": [
                "ids_ecfev1prct_60 = df_ar_fev1_o2_fef2575_2d_means[df_ar_fev1_o2_fef2575_2d_means['Mean AR_ecFEV1%'] > 60].ID.unique()"
            ]
        },
        {
            "cell_type": "code",
            "execution_count": 115,
            "metadata": {},
            "outputs": [],
            "source": [
                "ids_ar_60 = df_ar_fev1_o2_fef2575_2d_means[df_ar_fev1_o2_fef2575_2d_means['Mean AR_fev1_o2_fef2575_2d prediction'] > 60].ID.unique()"
            ]
        },
        {
            "cell_type": "code",
            "execution_count": 117,
            "metadata": {},
            "outputs": [
                {
                    "name": "stdout",
                    "output_type": "stream",
                    "text": [
                        "['102', '111', '120', '122', '127', '155', '162', '187', '194', '248', '282', '283', '361', '362', '377', '404', '409', '411', '413', '417', '421', '422', '452', '484', '486', '520']\n",
                        "['111', '122', '155', '187', '282', '283', '361', '362', '377', '404', '409', '411', '413', '417', '421', '422', '452', '486', '520']\n"
                    ]
                }
            ],
            "source": [
                "print(list(ids_ecfev1prct_60))\n",
                "print(list(ids_ar_60))\n"
            ]
        },
        {
            "cell_type": "code",
            "execution_count": 250,
            "metadata": {},
            "outputs": [
                {
                    "data": {
                        "text/html": [
                            "<div>\n",
                            "<style scoped>\n",
                            "    .dataframe tbody tr th:only-of-type {\n",
                            "        vertical-align: middle;\n",
                            "    }\n",
                            "\n",
                            "    .dataframe tbody tr th {\n",
                            "        vertical-align: top;\n",
                            "    }\n",
                            "\n",
                            "    .dataframe thead th {\n",
                            "        text-align: right;\n",
                            "    }\n",
                            "</style>\n",
                            "<table border=\"1\" class=\"dataframe\">\n",
                            "  <thead>\n",
                            "    <tr style=\"text-align: right;\">\n",
                            "      <th></th>\n",
                            "      <th>count</th>\n",
                            "    </tr>\n",
                            "    <tr>\n",
                            "      <th>ID</th>\n",
                            "      <th></th>\n",
                            "    </tr>\n",
                            "  </thead>\n",
                            "  <tbody>\n",
                            "    <tr>\n",
                            "      <th>372</th>\n",
                            "      <td>41</td>\n",
                            "    </tr>\n",
                            "    <tr>\n",
                            "      <th>202</th>\n",
                            "      <td>130</td>\n",
                            "    </tr>\n",
                            "    <tr>\n",
                            "      <th>530</th>\n",
                            "      <td>205</td>\n",
                            "    </tr>\n",
                            "    <tr>\n",
                            "      <th>104</th>\n",
                            "      <td>222</td>\n",
                            "    </tr>\n",
                            "    <tr>\n",
                            "      <th>433</th>\n",
                            "      <td>60</td>\n",
                            "    </tr>\n",
                            "    <tr>\n",
                            "      <th>417</th>\n",
                            "      <td>20</td>\n",
                            "    </tr>\n",
                            "  </tbody>\n",
                            "</table>\n",
                            "</div>"
                        ],
                        "text/plain": [
                            "     count\n",
                            "ID        \n",
                            "372     41\n",
                            "202    130\n",
                            "530    205\n",
                            "104    222\n",
                            "433     60\n",
                            "417     20"
                        ]
                    },
                    "execution_count": 250,
                    "metadata": {},
                    "output_type": "execute_result"
                }
            ],
            "source": [
                "df_count.set_index(\"ID\").loc[[\"372\", \"202\", \"530\", \"104\", \"433\", \"417\"]]"
            ]
        },
        {
            "cell_type": "markdown",
            "metadata": {},
            "source": [
                "# Compute breathe avg "
            ]
        },
        {
            "cell_type": "code",
            "execution_count": 64,
            "metadata": {},
            "outputs": [],
            "source": [
                "ar_dist_BR = df_res.groupby(\"ID\").apply(lambda df: df['AR_fev1_o2_2d'].mean()).mean()"
            ]
        },
        {
            "cell_type": "code",
            "execution_count": 66,
            "metadata": {},
            "outputs": [],
            "source": [
                "ar_dist_SC = df_sc.groupby(\"ID\").apply(lambda df: df['AR_fev1_o2_2d'].mean()).mean()"
            ]
        },
        {
            "cell_type": "code",
            "execution_count": 79,
            "metadata": {},
            "outputs": [
                {
                    "data": {
                        "application/vnd.plotly.v1+json": {
                            "config": {
                                "plotlyServerURL": "https://plot.ly"
                            },
                            "data": [
                                {
                                    "histfunc": "sum",
                                    "name": "Breathe data",
                                    "type": "histogram",
                                    "x": [
                                        0,
                                        2,
                                        4,
                                        6,
                                        8,
                                        10,
                                        12,
                                        14,
                                        16,
                                        18,
                                        20,
                                        22,
                                        24,
                                        26,
                                        28,
                                        30,
                                        32,
                                        34,
                                        36,
                                        38,
                                        40,
                                        42,
                                        44,
                                        46,
                                        48,
                                        50,
                                        52,
                                        54,
                                        56,
                                        58,
                                        60,
                                        62,
                                        64,
                                        66,
                                        68,
                                        70,
                                        72,
                                        74,
                                        76,
                                        78,
                                        80,
                                        82,
                                        84,
                                        86,
                                        88
                                    ],
                                    "xaxis": "x",
                                    "xbins": {
                                        "end": 90,
                                        "size": 2,
                                        "start": 0
                                    },
                                    "y": [
                                        0.012181578648840426,
                                        0.017483838736918715,
                                        0.023190134944574337,
                                        0.028526711720695267,
                                        0.03287083751431506,
                                        0.03593072898676513,
                                        0.037994217532400405,
                                        0.03927002546761759,
                                        0.039900032635973026,
                                        0.03999754650792556,
                                        0.03972730424755377,
                                        0.0393202480395019,
                                        0.03908259906052242,
                                        0.03907225648993184,
                                        0.0392136646282861,
                                        0.03963741559277847,
                                        0.04025298488529882,
                                        0.03964439031702133,
                                        0.0364920507694208,
                                        0.032359711937311846,
                                        0.028487861145566565,
                                        0.02564251830958817,
                                        0.023527161370972285,
                                        0.022042191692586716,
                                        0.021218929263967696,
                                        0.020841639405043598,
                                        0.020617929619437283,
                                        0.020263840786107903,
                                        0.019500073784917187,
                                        0.01849416299985333,
                                        0.017057277010999357,
                                        0.015342402610976842,
                                        0.013369698083493763,
                                        0.011835631898116749,
                                        0.009778772518687166,
                                        0.007626635492083391,
                                        0.005096209781028183,
                                        0.0028925773086629055,
                                        0.0016364952237078712,
                                        0.0012020799413401523,
                                        0.0008792561241362791,
                                        0.0004063821091221383,
                                        0.00008480934935733034,
                                        0.000007019240428975745,
                                        1.662755409593314e-7
                                    ],
                                    "yaxis": "y"
                                },
                                {
                                    "histfunc": "sum",
                                    "name": "Smartcare data",
                                    "type": "histogram",
                                    "x": [
                                        0,
                                        2,
                                        4,
                                        6,
                                        8,
                                        10,
                                        12,
                                        14,
                                        16,
                                        18,
                                        20,
                                        22,
                                        24,
                                        26,
                                        28,
                                        30,
                                        32,
                                        34,
                                        36,
                                        38,
                                        40,
                                        42,
                                        44,
                                        46,
                                        48,
                                        50,
                                        52,
                                        54,
                                        56,
                                        58,
                                        60,
                                        62,
                                        64,
                                        66,
                                        68,
                                        70,
                                        72,
                                        74,
                                        76,
                                        78,
                                        80,
                                        82,
                                        84,
                                        86,
                                        88
                                    ],
                                    "xaxis": "x2",
                                    "xbins": {
                                        "end": 90,
                                        "size": 2,
                                        "start": 0
                                    },
                                    "y": [
                                        0.0013377695823257566,
                                        0.0024330573446163664,
                                        0.004211203292457502,
                                        0.0065909190060009885,
                                        0.00913465095366851,
                                        0.011507596782460145,
                                        0.013683376928558748,
                                        0.015616686075328179,
                                        0.01724988340696875,
                                        0.01871799936393327,
                                        0.020121367526564193,
                                        0.021485078343114496,
                                        0.022892071270518524,
                                        0.024360271860679662,
                                        0.0257462502426159,
                                        0.02700073247804145,
                                        0.028280922779683786,
                                        0.029156748152899672,
                                        0.02912416297135149,
                                        0.0289081201596407,
                                        0.029179966438581388,
                                        0.0300048639453165,
                                        0.03131956409415684,
                                        0.033109136392992636,
                                        0.03521995315401341,
                                        0.03749758982312529,
                                        0.03972006458008947,
                                        0.04122798340369167,
                                        0.041460928007681044,
                                        0.04058187023451178,
                                        0.03860183374339097,
                                        0.036254973430490056,
                                        0.034236096945989336,
                                        0.03318424066779224,
                                        0.03185596107447562,
                                        0.029793033795030784,
                                        0.025973189317648478,
                                        0.020755812895118825,
                                        0.01479004390881051,
                                        0.00904505225218312,
                                        0.004904317711971564,
                                        0.0025078153531351666,
                                        0.0010148339619930565,
                                        0.00019333204205867154,
                                        0.00000867431749701106
                                    ],
                                    "yaxis": "y2"
                                }
                            ],
                            "layout": {
                                "font": {
                                    "size": 10
                                },
                                "height": 400,
                                "showlegend": true,
                                "template": {
                                    "data": {
                                        "bar": [
                                            {
                                                "error_x": {
                                                    "color": "#2a3f5f"
                                                },
                                                "error_y": {
                                                    "color": "#2a3f5f"
                                                },
                                                "marker": {
                                                    "line": {
                                                        "color": "#E5ECF6",
                                                        "width": 0.5
                                                    },
                                                    "pattern": {
                                                        "fillmode": "overlay",
                                                        "size": 10,
                                                        "solidity": 0.2
                                                    }
                                                },
                                                "type": "bar"
                                            }
                                        ],
                                        "barpolar": [
                                            {
                                                "marker": {
                                                    "line": {
                                                        "color": "#E5ECF6",
                                                        "width": 0.5
                                                    },
                                                    "pattern": {
                                                        "fillmode": "overlay",
                                                        "size": 10,
                                                        "solidity": 0.2
                                                    }
                                                },
                                                "type": "barpolar"
                                            }
                                        ],
                                        "carpet": [
                                            {
                                                "aaxis": {
                                                    "endlinecolor": "#2a3f5f",
                                                    "gridcolor": "white",
                                                    "linecolor": "white",
                                                    "minorgridcolor": "white",
                                                    "startlinecolor": "#2a3f5f"
                                                },
                                                "baxis": {
                                                    "endlinecolor": "#2a3f5f",
                                                    "gridcolor": "white",
                                                    "linecolor": "white",
                                                    "minorgridcolor": "white",
                                                    "startlinecolor": "#2a3f5f"
                                                },
                                                "type": "carpet"
                                            }
                                        ],
                                        "choropleth": [
                                            {
                                                "colorbar": {
                                                    "outlinewidth": 0,
                                                    "ticks": ""
                                                },
                                                "type": "choropleth"
                                            }
                                        ],
                                        "contour": [
                                            {
                                                "colorbar": {
                                                    "outlinewidth": 0,
                                                    "ticks": ""
                                                },
                                                "colorscale": [
                                                    [
                                                        0,
                                                        "#0d0887"
                                                    ],
                                                    [
                                                        0.1111111111111111,
                                                        "#46039f"
                                                    ],
                                                    [
                                                        0.2222222222222222,
                                                        "#7201a8"
                                                    ],
                                                    [
                                                        0.3333333333333333,
                                                        "#9c179e"
                                                    ],
                                                    [
                                                        0.4444444444444444,
                                                        "#bd3786"
                                                    ],
                                                    [
                                                        0.5555555555555556,
                                                        "#d8576b"
                                                    ],
                                                    [
                                                        0.6666666666666666,
                                                        "#ed7953"
                                                    ],
                                                    [
                                                        0.7777777777777778,
                                                        "#fb9f3a"
                                                    ],
                                                    [
                                                        0.8888888888888888,
                                                        "#fdca26"
                                                    ],
                                                    [
                                                        1,
                                                        "#f0f921"
                                                    ]
                                                ],
                                                "type": "contour"
                                            }
                                        ],
                                        "contourcarpet": [
                                            {
                                                "colorbar": {
                                                    "outlinewidth": 0,
                                                    "ticks": ""
                                                },
                                                "type": "contourcarpet"
                                            }
                                        ],
                                        "heatmap": [
                                            {
                                                "colorbar": {
                                                    "outlinewidth": 0,
                                                    "ticks": ""
                                                },
                                                "colorscale": [
                                                    [
                                                        0,
                                                        "#0d0887"
                                                    ],
                                                    [
                                                        0.1111111111111111,
                                                        "#46039f"
                                                    ],
                                                    [
                                                        0.2222222222222222,
                                                        "#7201a8"
                                                    ],
                                                    [
                                                        0.3333333333333333,
                                                        "#9c179e"
                                                    ],
                                                    [
                                                        0.4444444444444444,
                                                        "#bd3786"
                                                    ],
                                                    [
                                                        0.5555555555555556,
                                                        "#d8576b"
                                                    ],
                                                    [
                                                        0.6666666666666666,
                                                        "#ed7953"
                                                    ],
                                                    [
                                                        0.7777777777777778,
                                                        "#fb9f3a"
                                                    ],
                                                    [
                                                        0.8888888888888888,
                                                        "#fdca26"
                                                    ],
                                                    [
                                                        1,
                                                        "#f0f921"
                                                    ]
                                                ],
                                                "type": "heatmap"
                                            }
                                        ],
                                        "heatmapgl": [
                                            {
                                                "colorbar": {
                                                    "outlinewidth": 0,
                                                    "ticks": ""
                                                },
                                                "colorscale": [
                                                    [
                                                        0,
                                                        "#0d0887"
                                                    ],
                                                    [
                                                        0.1111111111111111,
                                                        "#46039f"
                                                    ],
                                                    [
                                                        0.2222222222222222,
                                                        "#7201a8"
                                                    ],
                                                    [
                                                        0.3333333333333333,
                                                        "#9c179e"
                                                    ],
                                                    [
                                                        0.4444444444444444,
                                                        "#bd3786"
                                                    ],
                                                    [
                                                        0.5555555555555556,
                                                        "#d8576b"
                                                    ],
                                                    [
                                                        0.6666666666666666,
                                                        "#ed7953"
                                                    ],
                                                    [
                                                        0.7777777777777778,
                                                        "#fb9f3a"
                                                    ],
                                                    [
                                                        0.8888888888888888,
                                                        "#fdca26"
                                                    ],
                                                    [
                                                        1,
                                                        "#f0f921"
                                                    ]
                                                ],
                                                "type": "heatmapgl"
                                            }
                                        ],
                                        "histogram": [
                                            {
                                                "marker": {
                                                    "pattern": {
                                                        "fillmode": "overlay",
                                                        "size": 10,
                                                        "solidity": 0.2
                                                    }
                                                },
                                                "type": "histogram"
                                            }
                                        ],
                                        "histogram2d": [
                                            {
                                                "colorbar": {
                                                    "outlinewidth": 0,
                                                    "ticks": ""
                                                },
                                                "colorscale": [
                                                    [
                                                        0,
                                                        "#0d0887"
                                                    ],
                                                    [
                                                        0.1111111111111111,
                                                        "#46039f"
                                                    ],
                                                    [
                                                        0.2222222222222222,
                                                        "#7201a8"
                                                    ],
                                                    [
                                                        0.3333333333333333,
                                                        "#9c179e"
                                                    ],
                                                    [
                                                        0.4444444444444444,
                                                        "#bd3786"
                                                    ],
                                                    [
                                                        0.5555555555555556,
                                                        "#d8576b"
                                                    ],
                                                    [
                                                        0.6666666666666666,
                                                        "#ed7953"
                                                    ],
                                                    [
                                                        0.7777777777777778,
                                                        "#fb9f3a"
                                                    ],
                                                    [
                                                        0.8888888888888888,
                                                        "#fdca26"
                                                    ],
                                                    [
                                                        1,
                                                        "#f0f921"
                                                    ]
                                                ],
                                                "type": "histogram2d"
                                            }
                                        ],
                                        "histogram2dcontour": [
                                            {
                                                "colorbar": {
                                                    "outlinewidth": 0,
                                                    "ticks": ""
                                                },
                                                "colorscale": [
                                                    [
                                                        0,
                                                        "#0d0887"
                                                    ],
                                                    [
                                                        0.1111111111111111,
                                                        "#46039f"
                                                    ],
                                                    [
                                                        0.2222222222222222,
                                                        "#7201a8"
                                                    ],
                                                    [
                                                        0.3333333333333333,
                                                        "#9c179e"
                                                    ],
                                                    [
                                                        0.4444444444444444,
                                                        "#bd3786"
                                                    ],
                                                    [
                                                        0.5555555555555556,
                                                        "#d8576b"
                                                    ],
                                                    [
                                                        0.6666666666666666,
                                                        "#ed7953"
                                                    ],
                                                    [
                                                        0.7777777777777778,
                                                        "#fb9f3a"
                                                    ],
                                                    [
                                                        0.8888888888888888,
                                                        "#fdca26"
                                                    ],
                                                    [
                                                        1,
                                                        "#f0f921"
                                                    ]
                                                ],
                                                "type": "histogram2dcontour"
                                            }
                                        ],
                                        "mesh3d": [
                                            {
                                                "colorbar": {
                                                    "outlinewidth": 0,
                                                    "ticks": ""
                                                },
                                                "type": "mesh3d"
                                            }
                                        ],
                                        "parcoords": [
                                            {
                                                "line": {
                                                    "colorbar": {
                                                        "outlinewidth": 0,
                                                        "ticks": ""
                                                    }
                                                },
                                                "type": "parcoords"
                                            }
                                        ],
                                        "pie": [
                                            {
                                                "automargin": true,
                                                "type": "pie"
                                            }
                                        ],
                                        "scatter": [
                                            {
                                                "fillpattern": {
                                                    "fillmode": "overlay",
                                                    "size": 10,
                                                    "solidity": 0.2
                                                },
                                                "type": "scatter"
                                            }
                                        ],
                                        "scatter3d": [
                                            {
                                                "line": {
                                                    "colorbar": {
                                                        "outlinewidth": 0,
                                                        "ticks": ""
                                                    }
                                                },
                                                "marker": {
                                                    "colorbar": {
                                                        "outlinewidth": 0,
                                                        "ticks": ""
                                                    }
                                                },
                                                "type": "scatter3d"
                                            }
                                        ],
                                        "scattercarpet": [
                                            {
                                                "marker": {
                                                    "colorbar": {
                                                        "outlinewidth": 0,
                                                        "ticks": ""
                                                    }
                                                },
                                                "type": "scattercarpet"
                                            }
                                        ],
                                        "scattergeo": [
                                            {
                                                "marker": {
                                                    "colorbar": {
                                                        "outlinewidth": 0,
                                                        "ticks": ""
                                                    }
                                                },
                                                "type": "scattergeo"
                                            }
                                        ],
                                        "scattergl": [
                                            {
                                                "marker": {
                                                    "colorbar": {
                                                        "outlinewidth": 0,
                                                        "ticks": ""
                                                    }
                                                },
                                                "type": "scattergl"
                                            }
                                        ],
                                        "scattermapbox": [
                                            {
                                                "marker": {
                                                    "colorbar": {
                                                        "outlinewidth": 0,
                                                        "ticks": ""
                                                    }
                                                },
                                                "type": "scattermapbox"
                                            }
                                        ],
                                        "scatterpolar": [
                                            {
                                                "marker": {
                                                    "colorbar": {
                                                        "outlinewidth": 0,
                                                        "ticks": ""
                                                    }
                                                },
                                                "type": "scatterpolar"
                                            }
                                        ],
                                        "scatterpolargl": [
                                            {
                                                "marker": {
                                                    "colorbar": {
                                                        "outlinewidth": 0,
                                                        "ticks": ""
                                                    }
                                                },
                                                "type": "scatterpolargl"
                                            }
                                        ],
                                        "scatterternary": [
                                            {
                                                "marker": {
                                                    "colorbar": {
                                                        "outlinewidth": 0,
                                                        "ticks": ""
                                                    }
                                                },
                                                "type": "scatterternary"
                                            }
                                        ],
                                        "surface": [
                                            {
                                                "colorbar": {
                                                    "outlinewidth": 0,
                                                    "ticks": ""
                                                },
                                                "colorscale": [
                                                    [
                                                        0,
                                                        "#0d0887"
                                                    ],
                                                    [
                                                        0.1111111111111111,
                                                        "#46039f"
                                                    ],
                                                    [
                                                        0.2222222222222222,
                                                        "#7201a8"
                                                    ],
                                                    [
                                                        0.3333333333333333,
                                                        "#9c179e"
                                                    ],
                                                    [
                                                        0.4444444444444444,
                                                        "#bd3786"
                                                    ],
                                                    [
                                                        0.5555555555555556,
                                                        "#d8576b"
                                                    ],
                                                    [
                                                        0.6666666666666666,
                                                        "#ed7953"
                                                    ],
                                                    [
                                                        0.7777777777777778,
                                                        "#fb9f3a"
                                                    ],
                                                    [
                                                        0.8888888888888888,
                                                        "#fdca26"
                                                    ],
                                                    [
                                                        1,
                                                        "#f0f921"
                                                    ]
                                                ],
                                                "type": "surface"
                                            }
                                        ],
                                        "table": [
                                            {
                                                "cells": {
                                                    "fill": {
                                                        "color": "#EBF0F8"
                                                    },
                                                    "line": {
                                                        "color": "white"
                                                    }
                                                },
                                                "header": {
                                                    "fill": {
                                                        "color": "#C8D4E3"
                                                    },
                                                    "line": {
                                                        "color": "white"
                                                    }
                                                },
                                                "type": "table"
                                            }
                                        ]
                                    },
                                    "layout": {
                                        "annotationdefaults": {
                                            "arrowcolor": "#2a3f5f",
                                            "arrowhead": 0,
                                            "arrowwidth": 1
                                        },
                                        "autotypenumbers": "strict",
                                        "coloraxis": {
                                            "colorbar": {
                                                "outlinewidth": 0,
                                                "ticks": ""
                                            }
                                        },
                                        "colorscale": {
                                            "diverging": [
                                                [
                                                    0,
                                                    "#8e0152"
                                                ],
                                                [
                                                    0.1,
                                                    "#c51b7d"
                                                ],
                                                [
                                                    0.2,
                                                    "#de77ae"
                                                ],
                                                [
                                                    0.3,
                                                    "#f1b6da"
                                                ],
                                                [
                                                    0.4,
                                                    "#fde0ef"
                                                ],
                                                [
                                                    0.5,
                                                    "#f7f7f7"
                                                ],
                                                [
                                                    0.6,
                                                    "#e6f5d0"
                                                ],
                                                [
                                                    0.7,
                                                    "#b8e186"
                                                ],
                                                [
                                                    0.8,
                                                    "#7fbc41"
                                                ],
                                                [
                                                    0.9,
                                                    "#4d9221"
                                                ],
                                                [
                                                    1,
                                                    "#276419"
                                                ]
                                            ],
                                            "sequential": [
                                                [
                                                    0,
                                                    "#0d0887"
                                                ],
                                                [
                                                    0.1111111111111111,
                                                    "#46039f"
                                                ],
                                                [
                                                    0.2222222222222222,
                                                    "#7201a8"
                                                ],
                                                [
                                                    0.3333333333333333,
                                                    "#9c179e"
                                                ],
                                                [
                                                    0.4444444444444444,
                                                    "#bd3786"
                                                ],
                                                [
                                                    0.5555555555555556,
                                                    "#d8576b"
                                                ],
                                                [
                                                    0.6666666666666666,
                                                    "#ed7953"
                                                ],
                                                [
                                                    0.7777777777777778,
                                                    "#fb9f3a"
                                                ],
                                                [
                                                    0.8888888888888888,
                                                    "#fdca26"
                                                ],
                                                [
                                                    1,
                                                    "#f0f921"
                                                ]
                                            ],
                                            "sequentialminus": [
                                                [
                                                    0,
                                                    "#0d0887"
                                                ],
                                                [
                                                    0.1111111111111111,
                                                    "#46039f"
                                                ],
                                                [
                                                    0.2222222222222222,
                                                    "#7201a8"
                                                ],
                                                [
                                                    0.3333333333333333,
                                                    "#9c179e"
                                                ],
                                                [
                                                    0.4444444444444444,
                                                    "#bd3786"
                                                ],
                                                [
                                                    0.5555555555555556,
                                                    "#d8576b"
                                                ],
                                                [
                                                    0.6666666666666666,
                                                    "#ed7953"
                                                ],
                                                [
                                                    0.7777777777777778,
                                                    "#fb9f3a"
                                                ],
                                                [
                                                    0.8888888888888888,
                                                    "#fdca26"
                                                ],
                                                [
                                                    1,
                                                    "#f0f921"
                                                ]
                                            ]
                                        },
                                        "colorway": [
                                            "#636efa",
                                            "#EF553B",
                                            "#00cc96",
                                            "#ab63fa",
                                            "#FFA15A",
                                            "#19d3f3",
                                            "#FF6692",
                                            "#B6E880",
                                            "#FF97FF",
                                            "#FECB52"
                                        ],
                                        "font": {
                                            "color": "#2a3f5f"
                                        },
                                        "geo": {
                                            "bgcolor": "white",
                                            "lakecolor": "white",
                                            "landcolor": "#E5ECF6",
                                            "showlakes": true,
                                            "showland": true,
                                            "subunitcolor": "white"
                                        },
                                        "hoverlabel": {
                                            "align": "left"
                                        },
                                        "hovermode": "closest",
                                        "mapbox": {
                                            "style": "light"
                                        },
                                        "paper_bgcolor": "white",
                                        "plot_bgcolor": "#E5ECF6",
                                        "polar": {
                                            "angularaxis": {
                                                "gridcolor": "white",
                                                "linecolor": "white",
                                                "ticks": ""
                                            },
                                            "bgcolor": "#E5ECF6",
                                            "radialaxis": {
                                                "gridcolor": "white",
                                                "linecolor": "white",
                                                "ticks": ""
                                            }
                                        },
                                        "scene": {
                                            "xaxis": {
                                                "backgroundcolor": "#E5ECF6",
                                                "gridcolor": "white",
                                                "gridwidth": 2,
                                                "linecolor": "white",
                                                "showbackground": true,
                                                "ticks": "",
                                                "zerolinecolor": "white"
                                            },
                                            "yaxis": {
                                                "backgroundcolor": "#E5ECF6",
                                                "gridcolor": "white",
                                                "gridwidth": 2,
                                                "linecolor": "white",
                                                "showbackground": true,
                                                "ticks": "",
                                                "zerolinecolor": "white"
                                            },
                                            "zaxis": {
                                                "backgroundcolor": "#E5ECF6",
                                                "gridcolor": "white",
                                                "gridwidth": 2,
                                                "linecolor": "white",
                                                "showbackground": true,
                                                "ticks": "",
                                                "zerolinecolor": "white"
                                            }
                                        },
                                        "shapedefaults": {
                                            "line": {
                                                "color": "#2a3f5f"
                                            }
                                        },
                                        "ternary": {
                                            "aaxis": {
                                                "gridcolor": "white",
                                                "linecolor": "white",
                                                "ticks": ""
                                            },
                                            "baxis": {
                                                "gridcolor": "white",
                                                "linecolor": "white",
                                                "ticks": ""
                                            },
                                            "bgcolor": "#E5ECF6",
                                            "caxis": {
                                                "gridcolor": "white",
                                                "linecolor": "white",
                                                "ticks": ""
                                            }
                                        },
                                        "title": {
                                            "x": 0.05
                                        },
                                        "xaxis": {
                                            "automargin": true,
                                            "gridcolor": "white",
                                            "linecolor": "white",
                                            "ticks": "",
                                            "title": {
                                                "standoff": 15
                                            },
                                            "zerolinecolor": "white",
                                            "zerolinewidth": 2
                                        },
                                        "yaxis": {
                                            "automargin": true,
                                            "gridcolor": "white",
                                            "linecolor": "white",
                                            "ticks": "",
                                            "title": {
                                                "standoff": 15
                                            },
                                            "zerolinecolor": "white",
                                            "zerolinewidth": 2
                                        }
                                    }
                                },
                                "title": {
                                    "text": "Comparison of the AR priors learnt on Breathe and Smartcare<br>with FEV1, SpO2, and 2 days model"
                                },
                                "width": 600,
                                "xaxis": {
                                    "anchor": "y",
                                    "domain": [
                                        0,
                                        1
                                    ],
                                    "matches": "x2",
                                    "nticks": 20,
                                    "range": [
                                        0,
                                        90
                                    ],
                                    "showticklabels": false,
                                    "title": {}
                                },
                                "xaxis2": {
                                    "anchor": "y2",
                                    "domain": [
                                        0,
                                        1
                                    ],
                                    "nticks": 20,
                                    "range": [
                                        0,
                                        90
                                    ],
                                    "tickvals": [
                                        0,
                                        10,
                                        20,
                                        30,
                                        40,
                                        50,
                                        60,
                                        70,
                                        80,
                                        90
                                    ],
                                    "title": {
                                        "text": "Airway resistance (%)"
                                    }
                                },
                                "yaxis": {
                                    "anchor": "x",
                                    "domain": [
                                        0.575,
                                        1
                                    ]
                                },
                                "yaxis2": {
                                    "anchor": "x2",
                                    "domain": [
                                        0,
                                        0.425
                                    ]
                                }
                            }
                        }
                    },
                    "metadata": {},
                    "output_type": "display_data"
                }
            ],
            "source": [
                "title = f\"Comparison of the AR priors learnt on Breathe and Smartcare<br>with FEV1, SpO2, and 2 days model\"\n",
                "\n",
                "fig = make_subplots(rows=2, cols=1, shared_xaxes=True)\n",
                "ih.plot_histogram(fig, AR, ar_dist_BR, AR.a, AR.b, 1, 1, None, annot=False)\n",
                "# name trace to breathe data\n",
                "fig.data[0].name = \"Breathe data\"\n",
                "ih.plot_histogram(fig, AR, ar_dist_SC, AR.a, AR.b, 2, 1, AR.name, annot=False, clean_ticks=True)\n",
                "fig.data[1].name = \"Smartcare data\"\n",
                "fig.update_layout(showlegend=True, font=dict(size=10), title=title, width=600, height=400)\n",
                "fig.write_image(dh.get_path_to_main() + f\"PlotsCrossStudies/{title}.pdf\")\n",
                "fig.show()"
            ]
        },
        {
            "cell_type": "code",
            "execution_count": null,
            "metadata": {},
            "outputs": [],
            "source": []
        },
        {
            "cell_type": "markdown",
            "metadata": {},
            "source": [
                "# Statistical significance"
            ]
        },
        {
            "cell_type": "code",
            "execution_count": 120,
            "metadata": {},
            "outputs": [
                {
                    "data": {
                        "text/html": [
                            "<div>\n",
                            "<style scoped>\n",
                            "    .dataframe tbody tr th:only-of-type {\n",
                            "        vertical-align: middle;\n",
                            "    }\n",
                            "\n",
                            "    .dataframe tbody tr th {\n",
                            "        vertical-align: top;\n",
                            "    }\n",
                            "\n",
                            "    .dataframe thead th {\n",
                            "        text-align: right;\n",
                            "    }\n",
                            "</style>\n",
                            "<table border=\"1\" class=\"dataframe\">\n",
                            "  <thead>\n",
                            "    <tr style=\"text-align: right;\">\n",
                            "      <th></th>\n",
                            "      <th>ID</th>\n",
                            "      <th>Date Recorded</th>\n",
                            "      <th>ecFEV1 % Predicted</th>\n",
                            "      <th>O2 Saturation</th>\n",
                            "      <th>Height</th>\n",
                            "      <th>Age</th>\n",
                            "      <th>Sex</th>\n",
                            "      <th>AR_fev1</th>\n",
                            "      <th>HFEV1_fev1</th>\n",
                            "      <th>AR_fev1_o2</th>\n",
                            "      <th>HFEV1_fev1_o2</th>\n",
                            "      <th>HFEV1_fev1_o2_2d</th>\n",
                            "      <th>AR_fev1_o2_2d</th>\n",
                            "      <th>HFEV1_fev1_o2_fef2575_2d</th>\n",
                            "      <th>AR_fev1_o2_fef2575_2d</th>\n",
                            "      <th>count</th>\n",
                            "      <th>max ecFEV1 % Predicted</th>\n",
                            "      <th>FEV delta</th>\n",
                            "      <th>Avg O2 saturation</th>\n",
                            "    </tr>\n",
                            "  </thead>\n",
                            "  <tbody>\n",
                            "    <tr>\n",
                            "      <th>0</th>\n",
                            "      <td>101</td>\n",
                            "      <td>2019-01-25</td>\n",
                            "      <td>36.287474</td>\n",
                            "      <td>97</td>\n",
                            "      <td>173.0</td>\n",
                            "      <td>53</td>\n",
                            "      <td>Male</td>\n",
                            "      <td>[6.35674101e-06, 7.86135817e-06, 9.90296787e-0...</td>\n",
                            "      <td>[5.34277995e-19, 4.19196617e-15, 5.82450148e-1...</td>\n",
                            "      <td>[2.15992358e-05, 2.67116953e-05, 3.36487735e-0...</td>\n",
                            "      <td>[1.81539509e-18, 1.42436613e-14, 1.97907671e-1...</td>\n",
                            "      <td>[4.0851858e-90, 1.13905537e-76, 1.12596763e-64...</td>\n",
                            "      <td>[3.94487216e-15, 1.75061635e-13, 1.80590472e-1...</td>\n",
                            "      <td>[2.09896401e-93, 5.43827739e-80, 5.06181421e-6...</td>\n",
                            "      <td>[1.03090217e-18, 1.29831267e-16, 3.47423985e-1...</td>\n",
                            "      <td>1680</td>\n",
                            "      <td>49.583647</td>\n",
                            "      <td>13.296174</td>\n",
                            "      <td>97.4625</td>\n",
                            "    </tr>\n",
                            "  </tbody>\n",
                            "</table>\n",
                            "</div>"
                        ],
                        "text/plain": [
                            "    ID Date Recorded  ecFEV1 % Predicted  O2 Saturation  Height  Age   Sex  \\\n",
                            "0  101    2019-01-25           36.287474             97   173.0   53  Male   \n",
                            "\n",
                            "                                             AR_fev1  \\\n",
                            "0  [6.35674101e-06, 7.86135817e-06, 9.90296787e-0...   \n",
                            "\n",
                            "                                          HFEV1_fev1  \\\n",
                            "0  [5.34277995e-19, 4.19196617e-15, 5.82450148e-1...   \n",
                            "\n",
                            "                                          AR_fev1_o2  \\\n",
                            "0  [2.15992358e-05, 2.67116953e-05, 3.36487735e-0...   \n",
                            "\n",
                            "                                       HFEV1_fev1_o2  \\\n",
                            "0  [1.81539509e-18, 1.42436613e-14, 1.97907671e-1...   \n",
                            "\n",
                            "                                    HFEV1_fev1_o2_2d  \\\n",
                            "0  [4.0851858e-90, 1.13905537e-76, 1.12596763e-64...   \n",
                            "\n",
                            "                                       AR_fev1_o2_2d  \\\n",
                            "0  [3.94487216e-15, 1.75061635e-13, 1.80590472e-1...   \n",
                            "\n",
                            "                            HFEV1_fev1_o2_fef2575_2d  \\\n",
                            "0  [2.09896401e-93, 5.43827739e-80, 5.06181421e-6...   \n",
                            "\n",
                            "                               AR_fev1_o2_fef2575_2d  count  \\\n",
                            "0  [1.03090217e-18, 1.29831267e-16, 3.47423985e-1...   1680   \n",
                            "\n",
                            "   max ecFEV1 % Predicted  FEV delta  Avg O2 saturation  \n",
                            "0               49.583647  13.296174            97.4625  "
                        ]
                    },
                    "execution_count": 120,
                    "metadata": {},
                    "output_type": "execute_result"
                }
            ],
            "source": [
                "df_res.head(1)"
            ]
        },
        {
            "cell_type": "code",
            "execution_count": 122,
            "metadata": {},
            "outputs": [
                {
                    "name": "stderr",
                    "output_type": "stream",
                    "text": [
                        "WARNING:root:ID 334 - Dropping Symkevi since same start date as Trikafta\n",
                        "WARNING:root:ID 371 - Dropping Ivacaftor since same start date as Trikafta\n",
                        "WARNING:root:ID 108 - Dropping the Symkevi entry as it's got the same start date as an ongoing Trikafta treatment, but was stopped after 1 month\n",
                        "WARNING:root:ID 131 - Shifting Symkevi stop date by 2 day to avoid overlap with Trikfta start\n",
                        "WARNING:root:ID 234 - Setting Ivacaftor stop date to 2021-06-30 to not overlap with Trikafta start date\n",
                        "WARNING:root:ID 334 - Changing Symkevi stop date by 3 months to avoid overlap with Trikafta start\n",
                        "WARNING:root:ID 334 - Patient alternates between Symkevi and Trikafta as can't tolerate full Trikafta dose. Let's say he is on Trikafta, thus removing the Symkevi entry\n",
                        "WARNING:root:ID 335 - Symkevi stop date has probably the wrong year, putting 2020 instead of 2022\n",
                        "WARNING:root:ID 335 - Shift Trikafta stop date to 4 days earlier to avoid overlap with Ivacaftor\n",
                        "ERROR:root:ID 175 - ?? Symkevi start date is wrong, removing it because no clue about the true date (maybe 2019?)\n",
                        "ERROR:root:ID 206 - Updating Ivacaftor stop date to not overlap and changing Ivacaftor + Symkevi to Trikafta\n",
                        "WARNING:root:ID 221 - Trikafta started in 2020, slowly due to developing rash, full dose in 2022. The FEV1 data for this ID doesn't show improvement after Jul 2021 (no data recorded before). I assume the improvement has been seen beforehand, and therefore drop the 2022 Trikafta entry.\n",
                        "WARNING:root:ID 238 - Set stop date for Orkambi to avoid overlap with Symkevi\n",
                        "WARNING:root:ID 247 - Trikafta prescribed in Jul 2018, and in Feb 2020. We have data only from Jul 2020 onwards. I remove the 2018 entry as it makes no difference and I assumed it was a fixed-time trial\n",
                        "WARNING:root:ID 322 - Currently no measures for this ID. Symkevi has started on top of Ivacaftor. Setting end date to Ivacaftor and renaming Symkevi to Trikafta\n",
                        "INFO:root:ID 358 - Removing duplicated Trikafta entry\n",
                        "INFO:root:ID 358 - Removing duplicated Trikafta entry\n",
                        "INFO:root:ID 426 - Currently no measures for this ID. Removing two entries with NaN drug therapy type\n",
                        "INFO:root:ID 462 - Symkevi and Ivacaftor prescribed, renaming it to Trikafta\n",
                        "INFO:root:ID 405 - Removing two entries with NaN drug therapy type\n",
                        "WARNING:root:ID 464 - Symkevi and Ivacaftor started together. Deleting Ivacaftor and renaming Symkevi to Trikafta\n",
                        "WARNING:root:ID 420 - Set stop date for Trikafta to avoid overlap with Ivacaftor\n"
                    ]
                }
            ],
            "source": [
                "df_res_drug = bd.add_drug_therapy_to_df(df_res)"
            ]
        },
        {
            "cell_type": "code",
            "execution_count": 123,
            "metadata": {},
            "outputs": [
                {
                    "data": {
                        "text/plain": [
                            "array(['None', 'Symkevi', 'Trikafta', 'Ivacaftor', 'Orkambi', 'Unknown'],\n",
                            "      dtype=object)"
                        ]
                    },
                    "execution_count": 123,
                    "metadata": {},
                    "output_type": "execute_result"
                }
            ],
            "source": [
                "df_res_drug.DrugTherapyType.unique()"
            ]
        },
        {
            "cell_type": "code",
            "execution_count": null,
            "metadata": {},
            "outputs": [],
            "source": [
                "df_res_drug[\"Mean AR_fev1_o2_fef2575_2d\"] = df_res_drug[\"AR_fev1_o2_fef2575_2d\"].apply(lambda x: AR.get_mean(x))"
            ]
        },
        {
            "cell_type": "code",
            "execution_count": 256,
            "metadata": {},
            "outputs": [],
            "source": [
                "after = [\"Trikafta\"]\n",
                "before = ['None']\n",
                "\n",
                "def get_df_stat(df_res_drug, after, before, target_col):\n",
                "    def get_mean_for_ID(df, drug_types, target_col):\n",
                "        return df[df.DrugTherapyType.isin(drug_types)][target_col].mean()\n",
                "\n",
                "    df_none = df_res_drug.groupby(\"ID\").apply(lambda df: get_mean_for_ID(df, before, \"ecFEV1 % Predicted\"))\n",
                "    df_none.name = \"None\"\n",
                "\n",
                "    # Get IDs of patients with mild CF (FEV1% > 70%) before Trikafta\n",
                "    mild_ids = df_none[df_none > 70].index.tolist()\n",
                "    print(\"Patients with mild CF (FEV1% > 70%) before Trikafta:\")\n",
                "    print(len(mild_ids), mild_ids)\n",
                "\n",
                "    df_trikafta = df_res_drug.groupby(\"ID\").apply(lambda df: get_mean_for_ID(df, after, target_col))\n",
                "    df_trikafta.name = \"Trikafta\"\n",
                "    df_none = df_res_drug.groupby(\"ID\").apply(lambda df: get_mean_for_ID(df, before, target_col))\n",
                "    df_none.name = \"None\"\n",
                "\n",
                "    df_stat = pd.merge(df_trikafta, df_none, on=\"ID\", how=\"inner\")\n",
                "    # Remove patients with mild CF (FEV1% > 70%) before Trikafta\n",
                "    df_stat = df_stat.loc[mild_ids]\n",
                "    df_stat = df_stat.dropna(axis=0)\n",
                "    return df_stat, df_trikafta, df_none"
            ]
        },
        {
            "cell_type": "code",
            "execution_count": 257,
            "metadata": {},
            "outputs": [
                {
                    "name": "stdout",
                    "output_type": "stream",
                    "text": [
                        "Patients with mild CF (FEV1% > 70%) before Trikafta:\n",
                        "49 ['109', '113', '121', '123', '124', '126', '130', '141', '144', '151', '152', '156', '163', '164', '166', '177', '178', '182', '189', '190', '209', '213', '231', '236', '242', '257', '262', '267', '271', '273', '278', '281', '288', '290', '292', '296', '302', '310', '313', '314', '327', '352', '406', '412', '490', '506', '511', '532', '535']\n",
                        "%% Mean AR_fev1_o2_fef2575_2d\n",
                        "Mean Mean AR_fev1_o2_fef2575_2d during None: 20.99%\n",
                        "Mean Mean AR_fev1_o2_fef2575_2d  during Trikafta: 15.64%\n",
                        "Mean improvement: -5.35%\n",
                        "p-value: 7.81e-05\n",
                        "Statistically significant: True\n"
                    ]
                }
            ],
            "source": [
                "target_col = \"ecFEV1 % Predicted\"\n",
                "target_col = \"Mean AR_fev1_o2_fef2575_2d\"\n",
                "\n",
                "df_stat, df_trikafta, df_none = get_df_stat(df_res_drug, after, before, target_col)\n",
                "run_stat_test(df_stat, target_col)"
            ]
        },
        {
            "cell_type": "code",
            "execution_count": 258,
            "metadata": {},
            "outputs": [
                {
                    "name": "stdout",
                    "output_type": "stream",
                    "text": [
                        "Patients with mild CF (FEV1% > 70%) before Trikafta:\n",
                        "49 ['109', '113', '121', '123', '124', '126', '130', '141', '144', '151', '152', '156', '163', '164', '166', '177', '178', '182', '189', '190', '209', '213', '231', '236', '242', '257', '262', '267', '271', '273', '278', '281', '288', '290', '292', '296', '302', '310', '313', '314', '327', '352', '406', '412', '490', '506', '511', '532', '535']\n",
                        "%% ecFEV1 % Predicted\n",
                        "Mean ecFEV1 % Predicted during None: 84.40%\n",
                        "Mean ecFEV1 % Predicted  during Trikafta: 90.59%\n",
                        "Mean improvement: 6.19%\n",
                        "p-value: 6.50e-05\n",
                        "Statistically significant: True\n"
                    ]
                }
            ],
            "source": [
                "target_col = \"ecFEV1 % Predicted\"\n",
                "# target_col = \"Mean AR_fev1_o2_fef2575_2d\"\n",
                "\n",
                "df_stat, df_trikafta, df_none = get_df_stat(df_res_drug, after, before, target_col)\n",
                "run_stat_test(df_stat, target_col)"
            ]
        },
        {
            "cell_type": "code",
            "execution_count": 205,
            "metadata": {},
            "outputs": [],
            "source": [
                "\n",
                "def run_stat_test(df_stat, target_col):\n",
                "    print(\"%%\", target_col)\n",
                "\n",
                "    # Create before/after masks for each patient\n",
                "    before_after_data = []\n",
                "\n",
                "    # Perform paired t-test\n",
                "    from scipy import stats\n",
                "    t_stat, p_val = stats.ttest_rel(df_stat['Trikafta'], df_stat['None'])\n",
                "\n",
                "    print(f\"Mean {target_col} during None: {df_stat['None'].mean():.2f}%\")\n",
                "    print(f\"Mean {target_col}  during Trikafta: {df_stat['Trikafta'].mean():.2f}%\")\n",
                "    print(f\"Mean improvement: {df_stat['Trikafta'].mean() - df_stat['None'].mean():.2f}%\")\n",
                "    print(f\"p-value: {p_val:.2e}\")\n",
                "    print(f\"Statistically significant: {p_val < 0.05}\")\n"
            ]
        },
        {
            "cell_type": "code",
            "execution_count": 268,
            "metadata": {},
            "outputs": [
                {
                    "ename": "ValueError",
                    "evalue": "unequal length arrays",
                    "output_type": "error",
                    "traceback": [
                        "\u001b[0;31m---------------------------------------------------------------------------\u001b[0m",
                        "\u001b[0;31mValueError\u001b[0m                                Traceback (most recent call last)",
                        "\u001b[0;32m/var/folders/zq/v2r6yn111s3gpdf8lzf72xvw0000gn/T/ipykernel_88491/1992833029.py\u001b[0m in \u001b[0;36m?\u001b[0;34m()\u001b[0m\n\u001b[1;32m      1\u001b[0m \u001b[0mdf_109\u001b[0m \u001b[0;34m=\u001b[0m \u001b[0mdf_res_drug\u001b[0m\u001b[0;34m[\u001b[0m\u001b[0mdf_res_drug\u001b[0m\u001b[0;34m.\u001b[0m\u001b[0mID\u001b[0m \u001b[0;34m==\u001b[0m \u001b[0;34m'109'\u001b[0m\u001b[0;34m]\u001b[0m\u001b[0;34m\u001b[0m\u001b[0;34m\u001b[0m\u001b[0m\n\u001b[1;32m      2\u001b[0m \u001b[0mmask_trikafta\u001b[0m \u001b[0;34m=\u001b[0m \u001b[0mdf_109\u001b[0m\u001b[0;34m.\u001b[0m\u001b[0mDrugTherapyType\u001b[0m \u001b[0;34m==\u001b[0m \u001b[0;34m'Trikafta'\u001b[0m\u001b[0;34m\u001b[0m\u001b[0;34m\u001b[0m\u001b[0m\n\u001b[1;32m      3\u001b[0m \u001b[0mmask_none\u001b[0m \u001b[0;34m=\u001b[0m \u001b[0mdf_109\u001b[0m\u001b[0;34m.\u001b[0m\u001b[0mDrugTherapyType\u001b[0m \u001b[0;34m==\u001b[0m \u001b[0;34m'None'\u001b[0m\u001b[0;34m\u001b[0m\u001b[0;34m\u001b[0m\u001b[0m\n\u001b[1;32m      4\u001b[0m \u001b[0;34m\u001b[0m\u001b[0m\n\u001b[0;32m----> 5\u001b[0;31m t_stat, p_val = stats.ttest_rel(df_109[mask_trikafta], df_109[mask_none]\n\u001b[0m\u001b[1;32m      6\u001b[0m )\n",
                        "\u001b[0;32m/Applications/anaconda3/envs/phd/lib/python3.10/site-packages/scipy/stats/_axis_nan_policy.py\u001b[0m in \u001b[0;36m?\u001b[0;34m(***failed resolving arguments***)\u001b[0m\n\u001b[1;32m    547\u001b[0m             \u001b[0;32melse\u001b[0m\u001b[0;34m:\u001b[0m\u001b[0;34m\u001b[0m\u001b[0;34m\u001b[0m\u001b[0m\n\u001b[1;32m    548\u001b[0m                 \u001b[0mcontains_nan\u001b[0m \u001b[0;34m=\u001b[0m \u001b[0;32mFalse\u001b[0m  \u001b[0;31m# behave like there are no NaNs\u001b[0m\u001b[0;34m\u001b[0m\u001b[0;34m\u001b[0m\u001b[0m\n\u001b[1;32m    549\u001b[0m \u001b[0;34m\u001b[0m\u001b[0m\n\u001b[1;32m    550\u001b[0m             \u001b[0;32mif\u001b[0m \u001b[0mvectorized\u001b[0m \u001b[0;32mand\u001b[0m \u001b[0;32mnot\u001b[0m \u001b[0mcontains_nan\u001b[0m \u001b[0;32mand\u001b[0m \u001b[0;32mnot\u001b[0m \u001b[0msentinel\u001b[0m\u001b[0;34m:\u001b[0m\u001b[0;34m\u001b[0m\u001b[0;34m\u001b[0m\u001b[0m\n\u001b[0;32m--> 551\u001b[0;31m                 \u001b[0mres\u001b[0m \u001b[0;34m=\u001b[0m \u001b[0mhypotest_fun_out\u001b[0m\u001b[0;34m(\u001b[0m\u001b[0;34m*\u001b[0m\u001b[0msamples\u001b[0m\u001b[0;34m,\u001b[0m \u001b[0maxis\u001b[0m\u001b[0;34m=\u001b[0m\u001b[0maxis\u001b[0m\u001b[0;34m,\u001b[0m \u001b[0;34m**\u001b[0m\u001b[0mkwds\u001b[0m\u001b[0;34m)\u001b[0m\u001b[0;34m\u001b[0m\u001b[0;34m\u001b[0m\u001b[0m\n\u001b[0m\u001b[1;32m    552\u001b[0m                 \u001b[0mres\u001b[0m \u001b[0;34m=\u001b[0m \u001b[0mresult_to_tuple\u001b[0m\u001b[0;34m(\u001b[0m\u001b[0mres\u001b[0m\u001b[0;34m)\u001b[0m\u001b[0;34m\u001b[0m\u001b[0;34m\u001b[0m\u001b[0m\n\u001b[1;32m    553\u001b[0m                 \u001b[0mres\u001b[0m \u001b[0;34m=\u001b[0m \u001b[0m_add_reduced_axes\u001b[0m\u001b[0;34m(\u001b[0m\u001b[0mres\u001b[0m\u001b[0;34m,\u001b[0m \u001b[0mreduced_axes\u001b[0m\u001b[0;34m,\u001b[0m \u001b[0mkeepdims\u001b[0m\u001b[0;34m)\u001b[0m\u001b[0;34m\u001b[0m\u001b[0;34m\u001b[0m\u001b[0m\n\u001b[1;32m    554\u001b[0m                 \u001b[0;32mreturn\u001b[0m \u001b[0mtuple_to_result\u001b[0m\u001b[0;34m(\u001b[0m\u001b[0;34m*\u001b[0m\u001b[0mres\u001b[0m\u001b[0;34m)\u001b[0m\u001b[0;34m\u001b[0m\u001b[0;34m\u001b[0m\u001b[0m\n",
                        "\u001b[0;32m/Applications/anaconda3/envs/phd/lib/python3.10/site-packages/scipy/stats/_stats_py.py\u001b[0m in \u001b[0;36m?\u001b[0;34m(a, b, axis, nan_policy, alternative)\u001b[0m\n\u001b[1;32m   7782\u001b[0m \u001b[0;34m\u001b[0m\u001b[0m\n\u001b[1;32m   7783\u001b[0m     \u001b[0mna\u001b[0m \u001b[0;34m=\u001b[0m \u001b[0m_get_len\u001b[0m\u001b[0;34m(\u001b[0m\u001b[0ma\u001b[0m\u001b[0;34m,\u001b[0m \u001b[0maxis\u001b[0m\u001b[0;34m,\u001b[0m \u001b[0;34m\"first argument\"\u001b[0m\u001b[0;34m)\u001b[0m\u001b[0;34m\u001b[0m\u001b[0;34m\u001b[0m\u001b[0m\n\u001b[1;32m   7784\u001b[0m     \u001b[0mnb\u001b[0m \u001b[0;34m=\u001b[0m \u001b[0m_get_len\u001b[0m\u001b[0;34m(\u001b[0m\u001b[0mb\u001b[0m\u001b[0;34m,\u001b[0m \u001b[0maxis\u001b[0m\u001b[0;34m,\u001b[0m \u001b[0;34m\"second argument\"\u001b[0m\u001b[0;34m)\u001b[0m\u001b[0;34m\u001b[0m\u001b[0;34m\u001b[0m\u001b[0m\n\u001b[1;32m   7785\u001b[0m     \u001b[0;32mif\u001b[0m \u001b[0mna\u001b[0m \u001b[0;34m!=\u001b[0m \u001b[0mnb\u001b[0m\u001b[0;34m:\u001b[0m\u001b[0;34m\u001b[0m\u001b[0;34m\u001b[0m\u001b[0m\n\u001b[0;32m-> 7786\u001b[0;31m         \u001b[0;32mraise\u001b[0m \u001b[0mValueError\u001b[0m\u001b[0;34m(\u001b[0m\u001b[0;34m'unequal length arrays'\u001b[0m\u001b[0;34m)\u001b[0m\u001b[0;34m\u001b[0m\u001b[0;34m\u001b[0m\u001b[0m\n\u001b[0m\u001b[1;32m   7787\u001b[0m \u001b[0;34m\u001b[0m\u001b[0m\n\u001b[1;32m   7788\u001b[0m     \u001b[0;32mif\u001b[0m \u001b[0mna\u001b[0m \u001b[0;34m==\u001b[0m \u001b[0;36m0\u001b[0m \u001b[0;32mor\u001b[0m \u001b[0mnb\u001b[0m \u001b[0;34m==\u001b[0m \u001b[0;36m0\u001b[0m\u001b[0;34m:\u001b[0m\u001b[0;34m\u001b[0m\u001b[0;34m\u001b[0m\u001b[0m\n\u001b[1;32m   7789\u001b[0m         \u001b[0;31m# _axis_nan_policy decorator ensures this only happens with 1d input\u001b[0m\u001b[0;34m\u001b[0m\u001b[0;34m\u001b[0m\u001b[0m\n",
                        "\u001b[0;31mValueError\u001b[0m: unequal length arrays"
                    ]
                }
            ],
            "source": [
                "df_109 = df_res_drug[df_res_drug.ID == '109']\n",
                "mask_trikafta = df_109.DrugTherapyType == 'Trikafta'\n",
                "mask_none = df_109.DrugTherapyType == 'None'\n",
                "\n",
                "t_stat, p_val = stats.ttest_rel(df_109[mask_trikafta], df_109[mask_none]\n",
                ")"
            ]
        },
        {
            "cell_type": "code",
            "execution_count": null,
            "metadata": {},
            "outputs": [],
            "source": []
        }
    ],
    "metadata": {
        "kernelspec": {
            "display_name": "phd",
            "language": "python",
            "name": "python3"
        },
        "language_info": {
            "codemirror_mode": {
                "name": "ipython",
                "version": 3
            },
            "file_extension": ".py",
            "mimetype": "text/x-python",
            "name": "python",
            "nbconvert_exporter": "python",
            "pygments_lexer": "ipython3",
            "version": "3.10.13"
        }
    },
    "nbformat": 4,
    "nbformat_minor": 2
}
