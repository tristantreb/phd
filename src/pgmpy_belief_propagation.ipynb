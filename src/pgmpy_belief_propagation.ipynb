{
 "cells": [
  {
   "cell_type": "code",
   "execution_count": 9,
   "outputs": [],
   "source": [
    "from pgmpy.models import BayesianNetwork\n",
    "from pgmpy.factors.discrete import TabularCPD\n",
    "from pgmpy.inference import BeliefPropagation\n",
    "\n",
    "from models import lungModel"
   ],
   "metadata": {
    "collapsed": false,
    "pycharm": {
     "name": "#%%\n"
    }
   }
  },
  {
   "cell_type": "code",
   "execution_count": 20,
   "outputs": [],
   "source": [
    "def create_pgmpy_CPT(cpt, A_label, B_label=''):\n",
    "    if B_label == '':\n",
    "        return TabularCPD(variable=A_label,\n",
    "                          variable_card=len(cpt),\n",
    "                          values=[[cpt[key]] for key in cpt.keys()])\n",
    "    else:\n",
    "        return TabularCPD(variable=A_label,\n",
    "                          variable_card=len(cpt),\n",
    "                          values=[list(cpt[key].values()) for key in cpt.keys()],\n",
    "                          evidence=[B_label],\n",
    "                          evidence_card=[len(cpt[list(cpt.keys())[0]])])"
   ],
   "metadata": {
    "collapsed": false,
    "pycharm": {
     "name": "#%%\n"
    }
   }
  },
  {
   "cell_type": "code",
   "execution_count": 25,
   "outputs": [
    {
     "name": "stdout",
     "output_type": "stream",
     "text": [
      "\n",
      "The CPDs are valid: True\n",
      "\n",
      "Independence conditions for Bacterial load: (Bacterial load ⟂ Wellness | Inflammation)\n"
     ]
    }
   ],
   "source": [
    "# Model definition\n",
    "m = lungModel()\n",
    "\n",
    "# Add graph\n",
    "lung_model = BayesianNetwork([('Inflammation', 'Wellness'), ('Inflammation', 'Bacterial load'), ('Bacterial load', 'FEV1')])\n",
    "\n",
    "# Define the CPDs\n",
    "cpd_i = create_pgmpy_CPT(m.marginal_i, 'Inflammation')\n",
    "cpd_w = create_pgmpy_CPT(m.cpt_w_i, 'Wellness', 'Inflammation')\n",
    "cpd_bl = create_pgmpy_CPT(m.cpt_bl_i, 'Bacterial load', 'Inflammation')\n",
    "cpd_FEV1 = create_pgmpy_CPT(m.cpt_FEV1_bl, 'FEV1', 'Bacterial load')\n",
    "\n",
    "# Add the CPDs to the model\n",
    "lung_model.add_cpds(cpd_i, cpd_w, cpd_bl, cpd_FEV1)\n",
    "\n",
    "# Checks\n",
    "# Checking if the CPDs are valid for the model\n",
    "print(\"\\nThe CPTs are valid:\", lung_model.check_model())\n",
    "# List of independence conditions for Bacterial load\n",
    "print(\"\\nIndependence conditions for Bacterial load:\", lung_model.local_independencies('Bacterial load'))\n",
    "# Get all model independence conditions\n",
    "# print(\"\\nIndependence conditions across the whole model:\\n\", lung_model.get_independencies())"
   ],
   "metadata": {
    "collapsed": false,
    "pycharm": {
     "name": "#%%\n"
    }
   }
  },
  {
   "cell_type": "code",
   "execution_count": 26,
   "outputs": [
    {
     "data": {
      "text/plain": "  0%|          | 0/2 [00:00<?, ?it/s]",
      "application/vnd.jupyter.widget-view+json": {
       "version_major": 2,
       "version_minor": 0,
       "model_id": "b00732bdd39444e485ba847eda297abb"
      }
     },
     "metadata": {},
     "output_type": "display_data"
    },
    {
     "name": "stdout",
     "output_type": "stream",
     "text": [
      "[0.22222222 0.55555556 0.22222222]\n"
     ]
    },
    {
     "data": {
      "text/plain": "  0%|          | 0/1 [00:00<?, ?it/s]",
      "application/vnd.jupyter.widget-view+json": {
       "version_major": 2,
       "version_minor": 0,
       "model_id": "4b4fc91681834027a2818fa5424230d5"
      }
     },
     "metadata": {},
     "output_type": "display_data"
    },
    {
     "name": "stdout",
     "output_type": "stream",
     "text": [
      "[0.33333333 0.58712121 0.07954545]\n"
     ]
    },
    {
     "data": {
      "text/plain": "  0%|          | 0/2 [00:00<?, ?it/s]",
      "application/vnd.jupyter.widget-view+json": {
       "version_major": 2,
       "version_minor": 0,
       "model_id": "fb6087aabc76452e94fcbaae3abd672d"
      }
     },
     "metadata": {},
     "output_type": "display_data"
    },
    {
     "name": "stdout",
     "output_type": "stream",
     "text": [
      "[0.3 0.3 0.4]\n"
     ]
    },
    {
     "data": {
      "text/plain": "  0%|          | 0/2 [00:00<?, ?it/s]",
      "application/vnd.jupyter.widget-view+json": {
       "version_major": 2,
       "version_minor": 0,
       "model_id": "8b15a42480c4475b9ac2f7dff33a9033"
      }
     },
     "metadata": {},
     "output_type": "display_data"
    },
    {
     "name": "stdout",
     "output_type": "stream",
     "text": [
      "[0.2684153  0.37825137 0.35333333]\n"
     ]
    }
   ],
   "source": [
    "# CASE 1\n",
    "belief_propagation = BeliefPropagation(lung_model)\n",
    "final_dist = belief_propagation.query(variables=['Inflammation'], evidence={'Bacterial load': 1})\n",
    "print(final_dist.values)\n",
    "\n",
    "# CASE 2\n",
    "belief_propagation = BeliefPropagation(lung_model)\n",
    "final_dist = belief_propagation.query(variables=['Inflammation'], evidence={'FEV1': 0, 'Wellness': 2})\n",
    "print(final_dist.values)\n",
    "\n",
    "# CASE 3\n",
    "belief_propagation = BeliefPropagation(lung_model)\n",
    "final_dist = belief_propagation.query(variables=['Bacterial load'], evidence={'Inflammation': 1})\n",
    "print(final_dist.values)\n",
    "\n",
    "# CASE 4\n",
    "belief_propagation = BeliefPropagation(lung_model)\n",
    "final_dist = belief_propagation.query(variables=['FEV1'], evidence={'Wellness': 0})\n",
    "print(final_dist.values)"
   ],
   "metadata": {
    "collapsed": false,
    "pycharm": {
     "name": "#%%\n"
    }
   }
  },
  {
   "cell_type": "code",
   "execution_count": null,
   "outputs": [],
   "source": [],
   "metadata": {
    "collapsed": false,
    "pycharm": {
     "name": "#%%\n"
    }
   }
  }
 ],
 "metadata": {
  "kernelspec": {
   "display_name": "Python 3 (ipykernel)",
   "language": "python",
   "name": "python3"
  },
  "language_info": {
   "codemirror_mode": {
    "name": "ipython",
    "version": 3
   },
   "file_extension": ".py",
   "mimetype": "text/x-python",
   "name": "python",
   "nbconvert_exporter": "python",
   "pygments_lexer": "ipython3",
   "version": "3.9.7"
  }
 },
 "nbformat": 4,
 "nbformat_minor": 5
}