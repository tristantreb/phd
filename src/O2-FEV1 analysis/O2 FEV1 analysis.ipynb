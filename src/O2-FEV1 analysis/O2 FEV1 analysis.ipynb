{
 "cells": [
  {
   "cell_type": "code",
   "execution_count": 1,
   "metadata": {
    "collapsed": true
   },
   "outputs": [
    {
     "ename": "ImportError",
     "evalue": "attempted relative import with no known parent package",
     "output_type": "error",
     "traceback": [
      "\u001b[0;31m---------------------------------------------------------------------------\u001b[0m",
      "\u001b[0;31mImportError\u001b[0m                               Traceback (most recent call last)",
      "\u001b[1;32m/Users/tristan.trebaol/Desktop/PhD/Code/phd/src/O2-FEV1 analysis/O2 FEV1 analysis.ipynb Cell 1\u001b[0m in \u001b[0;36m<cell line: 1>\u001b[0;34m()\u001b[0m\n\u001b[0;32m----> <a href='vscode-notebook-cell:/Users/tristan.trebaol/Desktop/PhD/Code/phd/src/O2-FEV1%20analysis/O2%20FEV1%20analysis.ipynb#Y141sZmlsZQ%3D%3D?line=0'>1</a>\u001b[0m \u001b[39mfrom\u001b[39;00m \u001b[39m.\u001b[39;00m\u001b[39m.\u001b[39;00m\u001b[39mdata\u001b[39;00m\u001b[39m.\u001b[39;00m\u001b[39mload_data\u001b[39;00m \u001b[39mimport\u001b[39;00m \u001b[39m*\u001b[39m\n\u001b[1;32m      <a href='vscode-notebook-cell:/Users/tristan.trebaol/Desktop/PhD/Code/phd/src/O2-FEV1%20analysis/O2%20FEV1%20analysis.ipynb#Y141sZmlsZQ%3D%3D?line=1'>2</a>\u001b[0m \u001b[39mfrom\u001b[39;00m \u001b[39mpartition\u001b[39;00m \u001b[39mimport\u001b[39;00m \u001b[39m*\u001b[39m\n\u001b[1;32m      <a href='vscode-notebook-cell:/Users/tristan.trebaol/Desktop/PhD/Code/phd/src/O2-FEV1%20analysis/O2%20FEV1%20analysis.ipynb#Y141sZmlsZQ%3D%3D?line=2'>3</a>\u001b[0m \u001b[39mfrom\u001b[39;00m \u001b[39mdesaturation_fev1\u001b[39;00m \u001b[39mimport\u001b[39;00m \u001b[39m*\u001b[39m\n",
      "\u001b[0;31mImportError\u001b[0m: attempted relative import with no known parent package"
     ]
    }
   ],
   "source": [
    "from ..data.load_data import *\n",
    "from partition import *\n",
    "from desaturation_fev1 import *\n",
    "from normalise import *\n",
    "from exacerbation_periods import *\n",
    "from smooth import *\n",
    "from plot_helpers import *\n",
    "from biology import *\n",
    "import plotly.figure_factory as ff\n",
    "import plotly.express as px\n",
    "import plotly.graph_objects as go\n",
    "\n",
    "\n",
    "#Settings\n",
    "datadir = \"../../../../SmartCareData/\"\n",
    "plotsdir=\"../../../../PlotsSmartcare/O2_FEV1/\""
   ]
  },
  {
   "cell_type": "code",
   "execution_count": null,
   "metadata": {
    "collapsed": false
   },
   "outputs": [],
   "source": [
    "# Process O2-FEV1 data\n",
    "O2_FEV1 = create_O2_FEV1_df(datadir)\n",
    "\n",
    "# Compute FEV1 % Predicted\n",
    "O2_FEV1['FEV1 % Predicted'] = O2_FEV1.apply(lambda x: x[\"FEV1\"] / x[\"Predicted FEV1\"] * 100, axis=1)\n",
    "\n",
    "# Partition FEV1 % Predicted in 3 groups\n",
    "O2_FEV1[\"FEV1 % Predicted Group\"] = partition_in_n_equal_groups(O2_FEV1['FEV1 % Predicted'],3)\n",
    "\n",
    "# What are we analysing?\n",
    "O2_FEV1.head()"
   ]
  },
  {
   "cell_type": "markdown",
   "metadata": {
    "collapsed": false
   },
   "source": [
    "# O2-FEV1 analysis\n",
    "## Definitions\n",
    "- O2 Saturation\n",
    "- FEV 1\n",
    "- Predicted FEV 1 in %: measure for the amount of airway obstruction either due to sputum load (non-permanent obstruction) or scars in the lungs (permanent obstruction).\n",
    "\n",
    "## Literature\n",
    "[The association between forced expiratory volume in one second (FEV1) and pulse oximetric measurements of arterial oxygen saturation (SpO2) in the patients with COPD: A preliminary study](https://pubmed.ncbi.nlm.nih.gov/24949035/).\n",
    "- Context: 31 patients with COPD\n",
    "- Key results: There was not statistically significant correlation between FEV1 % predicted and SpO2 values (P < 0.05), but a great correlation existed between FEV1/FVC % predicted and SpO2 values (r = 0.556, P < 0.001).\n",
    "\n",
    " [ANALYSIS OF CORRELATION BETWEEN FEV1/FEV6 AND OXYGEN SATURATION DURING SIX-MINUTE WALK TEST (6MWT) IN COPD PATIENTS](https://www.researchgate.net/publication/351322676_ANALYSIS_OF_CORRELATION_BETWEEN_FEV1FEV6_AND_OXYGEN_SATURATION_DURING_SIX-MINUTE_WALK_TEST_6MWT_IN_COPD_PATIENTS)\n",
    " - Need to download\n",
    "\n",
    "Note: nobody segments the input by groups. Probably because they don't have enough data to do this."
   ]
  },
  {
   "cell_type": "code",
   "execution_count": null,
   "metadata": {},
   "outputs": [],
   "source": [
    "## Raw scatter plots"
   ]
  },
  {
   "cell_type": "code",
   "execution_count": null,
   "metadata": {
    "collapsed": false
   },
   "outputs": [],
   "source": [
    "# Raw plot without trendline\n",
    "fig = px.scatter(O2_FEV1, y=\"O2 Saturation\", x=\"FEV1\")\n",
    "# fig = px.scatter(O2_FEV1, y=\"O2 Saturation\", x=\"FEV1\", trendline=\"ols\")\n",
    "fig.update_layout(autosize=False, width=500, height=500)\n",
    "fig.show()\n",
    "fig.write_image(plotsdir + \"FEV1-O2 raw.pdf\")\n",
    "\n",
    "fig = px.scatter(O2_FEV1, y=\"O2 Saturation\", x=\"FEV1 % Predicted\")\n",
    "fig.update_layout(autosize=False, width=500, height=500)\n",
    "fig.show()\n",
    "# fig.write_image(plotsdir + \"FEV1 % Predicted-O2 raw.pdf\")\n",
    "\n",
    "O2_FEV1.shape"
   ]
  },
  {
   "cell_type": "code",
   "execution_count": null,
   "metadata": {
    "collapsed": false
   },
   "outputs": [],
   "source": [
    "var = 'FEV1'; xaxis_range = [0, 5.1]\n",
    "# var = 'FEV1 % Predicted'; xaxis_range = [0, 155]\n",
    "\n",
    "# Plot with height\n",
    "O2_FEV1['Height Group'], height_labels=partition_in_n_equal_groups(O2_FEV1['Height'], 3, True)\n",
    "\n",
    "fig = px.scatter(O2_FEV1, y=\"O2 Saturation\", x=var, color=\"Height Group\", marginal_x=\"histogram\", marginal_y=\"histogram\")\n",
    "# fig.update_layout(autosize=False, width=800, height=800)\n",
    "fig.update_traces(marker=dict(size=5),\n",
    "                  selector=dict(mode='markers'))\n",
    "# fig.update_xaxes(range=[0.9*min(O2_FEV1[\"FEV1\"]), 1.1*max(O2_FEV1[\"FEV1\"])])\n",
    "# fig.update_yaxes(range=[0.9*min(O2_FEV1[\"O2 Saturation\"]), max(1.1*O2_FEV1[\"O2 Saturation\"])])\n",
    "# fig.show()\n",
    "\n",
    "for height_group in height_labels:\n",
    "    mask_height=O2_FEV1['Height Group'] == height_group\n",
    "\n",
    "    fig = px.scatter(O2_FEV1[mask_height], y=\"O2 Saturation\", x=var,\n",
    "                     title='Height group {}'.format(height_group))\n",
    "    fig.update_layout(autosize=False, width=500, height=500)\n",
    "    fig.update_traces(marker=dict(size=5),\n",
    "                      selector=dict(mode='markers'))\n",
    "    fig.update_xaxes(range=xaxis_range)\n",
    "    fig.update_yaxes(range=[74, 102])\n",
    "    fig.show()\n",
    "    filename= \"Height group \" +  height_group + \" \" + var + \"-O2 raw\"\n",
    "    # fig.write_image(plotsdir + filename + \".pdf\")"
   ]
  },
  {
   "cell_type": "code",
   "execution_count": null,
   "metadata": {
    "collapsed": false
   },
   "outputs": [],
   "source": [
    "predicted = False\n",
    "x_var = 'Height'\n",
    "lung_function_var = 'FEV1 % Predicted' if predicted else 'FEV1'\n",
    "\n",
    "fig1, fig2, _ = desaturation_FEV1_for_variable(O2_FEV1, x_var, n_var_groups=6, predicted=predicted)\n",
    "fig1.show()\n",
    "# fig1.write_image(plotsdir + \"Desaturation {} for {} main plot.pdf\".format(lung_function_var, x_var))\n",
    "\n",
    "fig2.show()\n",
    "# fig2.write_image(plotsdir + \"Desaturation {} for {} with lines.pdf\".format(lung_function_var, x_var))\n",
    "\n",
    "# Observations\n",
    "# o2 10, var 15 contains a lot of noise and groups have very low number of datapoints. It gets too patient specific"
   ]
  },
  {
   "cell_type": "markdown",
   "metadata": {
    "collapsed": false
   },
   "source": [
    "## Per patient plots"
   ]
  },
  {
   "cell_type": "code",
   "execution_count": null,
   "metadata": {
    "collapsed": false
   },
   "outputs": [],
   "source": [
    "# Same patient variability: can we observe the same pattern for each patient?\n",
    "O2_FEV1.head()\n",
    "\n",
    "# Include time evolution into the graph\n",
    "def to_float(dt_time):\n",
    "    return (365*dt_time.year + 12*dt_time.month + dt_time.day)/12\n",
    "\n",
    "mindate = to_float(min(O2_FEV1[\"Date recorded\"]))\n",
    "O2_FEV1[\"Months since study start\"]=O2_FEV1[\"Date recorded\"].apply(lambda x: to_float(x)-mindate)"
   ]
  },
  {
   "cell_type": "code",
   "execution_count": null,
   "metadata": {
    "collapsed": false
   },
   "outputs": [],
   "source": [
    "# Same patient variability: can we observe the same pattern for each patient?\n",
    "IDs=O2_FEV1.ID.unique()\n",
    "for ID in IDs:\n",
    "    plot_o2_fev1_raw_for_id(O2_FEV1, ID)"
   ]
  },
  {
   "cell_type": "markdown",
   "metadata": {},
   "source": [
    "## Summary plot (+ partititioning)"
   ]
  },
  {
   "cell_type": "code",
   "execution_count": null,
   "metadata": {
    "collapsed": false
   },
   "outputs": [],
   "source": [
    "# Add exacerbated labels\n",
    "# Compute exacerbation labels\n",
    "# O2_FEV1_processed = compute_ex_labels_from_heuristics(antibioticsdata, patientsdata, O2_FEV1)\n",
    "\n",
    "# Get exacerbation labels from the predictive classifier\n",
    "O2_FEV1_processed = merge_pred_ex_labels_to(O2_FEV1, get_pred_ex_labels(datadir))\n",
    "\n",
    "# Smooth\n",
    "O2_FEV1_processed = smooth(O2_FEV1_processed, ['FEV1', 'FEV1 % Predicted'], mode=\"max\")\n",
    "O2_FEV1_processed = smooth(O2_FEV1_processed, ['O2 Saturation'], mode=\"mean\")\n",
    "print(\"Removed {} nan entries after max smoothing, kept {}\".format(O2_FEV1_processed.isna().sum().max(), O2_FEV1_processed.shape[0]))\n",
    "O2_FEV1_processed.dropna(inplace=True)\n",
    "\n",
    "# Normalise\n",
    "O2_FEV1_processed = norm_by_stable_baseline(O2_FEV1_processed,\n",
    "                                            ['O2 Saturation', 'O2 Saturation smoothed', 'FEV1', 'FEV1 % Predicted', 'FEV1 smoothed', 'FEV1 % Predicted smoothed'])\n",
    "\n",
    "# Settings\n",
    "prefix, ex_column, x, y = set_x_y_vars(\n",
    "      with_predicted_labels=True,\n",
    "      with_predicted_fev1=False,\n",
    "      is_smoothed_fev=False,\n",
    "      is_smoothed_o2=False,\n",
    "      is_normalised=False,\n",
    "  )\n",
    "\n",
    "is_partitioned= False\n",
    "if not is_partitioned:\n",
    "  # Plot O2-FEV with respective displots\n",
    "  fig=plot_o2_fev_with_displots(O2_FEV1_processed, x, y, ex_column)\n",
    "  fig.show()\n",
    "  fig.write_image(\"{}/Ex labels {} {}-{}.pdf\".format(plotsdir, prefix, x, y), width=1400, height=600)\n",
    "\n",
    "  # Plot subsampled O2-FEV scatter\n",
    "  fig = plot_subsampled_scatter(x, y, O2_FEV1_processed, random_state=7)\n",
    "  fig.show()\n",
    "  \n",
    "else:\n",
    "  # Use partitioned data. Note that this requires smoothed True and Predicted FEV1 False\n",
    "\n",
    "  predicted_fev1_thresholds = [2.4, 3.2, 4]\n",
    "\n",
    "  # Print number of uniaue ID\n",
    "  print(\"There are {} different individuals\".format(len(O2_FEV1_processed.ID.unique())))\n",
    "\n",
    "  # Filter by unique ID\n",
    "  O2_FEV1_processed = O2_FEV1_processed.groupby('ID').filter(lambda l: len(l) > 1)\n",
    "  # Check if individual's Predicted FEV1 position wrt to groups thresholds\n",
    "  O2_FEV1_processed['Predicted FEV1 Group'] = O2_FEV1_processed['Predicted FEV1'].apply(lambda l: value_to_group(l, predicted_fev1_thresholds))\n",
    "\n",
    "  # Create a for loop for each Group\n",
    "  # parition_variable = 'FEV1 % Predicted smoothed'\n",
    "  parition_variable = 'Predicted FEV1'\n",
    "\n",
    "  for fev_group in O2_FEV1_processed[parition_variable + ' Group'].unique():\n",
    "    mask = O2_FEV1_processed[parition_variable + ' Group'] == fev_group\n",
    "    # Count patients\n",
    "    n_patients=len(O2_FEV1_processed[mask].ID.unique())\n",
    "\n",
    "    # Plot scatter plot using plotly with O2_FEV1_processed[mask], x, y, ex_column with color from get_ex_color() and get_stable_color()\n",
    "    fig = px.scatter(O2_FEV1_processed[mask], x=x, y=y, color=ex_column, color_discrete_sequence=[get_stable_color(), get_ex_color()])\n",
    "    # Set x axes range to min max of O2_FEV1_processed[x]\n",
    "    fig.update_xaxes(range=[O2_FEV1_processed[x].min()*0.95, O2_FEV1_processed[x].max()*1.05])\n",
    "    fig.update_layout(title=\"{} patients, {} {}\".format(n_patients, parition_variable, fev_group))\n",
    "\n",
    "    fig.show()\n",
    "    fig.write_image(\"{}/Ex labels {} {}-{} group {}.pdf\".format(plotsdir, prefix, x, y, fev_group), width=1400, height=600)\n"
   ]
  },
  {
   "cell_type": "markdown",
   "metadata": {},
   "source": [
    "## Test the sensitivity of random states on subsampled plots\n",
    "We wonder if different random states will give largely different results, to an extend that it could challenge the model assumptions.\n",
    "It turns out that, despite an effect on the x axis range, the subsampled plots are very similar."
   ]
  },
  {
   "cell_type": "code",
   "execution_count": null,
   "metadata": {},
   "outputs": [],
   "source": [
    "# Add subsampled plot\n",
    "prefix, ex_column, x, y = set_x_y_vars(with_predicted_labels=True, with_predicted_fev1=True, is_smoothed=True, is_normalised=False)\n",
    "\n",
    "for random_state in range(1,10):\n",
    "  print(random_state)\n",
    "  fig = plot_subsampled_scatter(x, y, O2_FEV1_processed, random_state=random_state)\n",
    "  fig.show()"
   ]
  },
  {
   "cell_type": "markdown",
   "metadata": {},
   "source": [
    "## Full sized displots"
   ]
  },
  {
   "cell_type": "code",
   "execution_count": null,
   "metadata": {},
   "outputs": [],
   "source": [
    "# This part fo the code is unused now\n",
    "# But the displots can be useful for the report, so I keep it here\n",
    "\n",
    "if predicted:\n",
    "    if normalised:\n",
    "        xrange=[-1.8, 1.2]\n",
    "    else:\n",
    "        xrange=[0, 155]\n",
    "    bin_size=4\n",
    "else:\n",
    "    if normalised:\n",
    "        xrange=[-42,40]\n",
    "    else:\n",
    "        xrange=[0, 5.1]\n",
    "    bin_size=0.14\n",
    "\n",
    "# Raw plot with superposed exacerbation labels\n",
    "fig = px.scatter(O2_FEV1_processed, y=y, x=x, color=ex_column)\n",
    "# fig.update_layout(autosize=False, width=800, height=800)\n",
    "fig.update_traces(marker=dict(size=5),\n",
    "                  selector=dict(mode='markers'))\n",
    "# fig.show()\n",
    "# fig.write_image(\"{}/{}-{} by exacerbated labels superposed raw.pdf\".format(plotsdir, x, y))\n",
    "\n",
    "# Raw individual plot for each exacerbation label]\n",
    "fig_scatter = px.scatter(O2_FEV1_processed.dropna(), y=y, x=x,\n",
    "                 # color='Exacerbation Labels',\n",
    "                 facet_col=ex_column)\n",
    "fig_scatter.update_layout(autosize=False, width=1000, height=500)\n",
    "fig_scatter.update_traces(marker=dict(size=5),\n",
    "                  selector=dict(mode='markers'))\n",
    "# fig_scatter.update_xaxes(range=xrange)\n",
    "if not(normalised): fig_scatter.update_yaxes(range=[74, 102])\n",
    "# fig_scatter.show()\n",
    "# fig.write_image(\"{}/Ex labels {} {}-{} individual raw.pdf\".format(plotsdir, prefix, x, y), width=1300, height=400)\n",
    "\n",
    "def distplot(x, group_labels, bin_size):\n",
    "    data=[]\n",
    "    for exacerbation_label in group_labels:\n",
    "        mask = O2_FEV1_processed[ex_column] == exacerbation_label\n",
    "        data.append(O2_FEV1_processed[x][ mask ])\n",
    "        print(\"{} measurements with {} = {}\".format(sum(mask), ex_column, exacerbation_label))\n",
    "    fig = ff.create_distplot(data, group_labels, bin_size=bin_size, show_rug=False)\n",
    "    fig.update_xaxes(title_text=x)\n",
    "    fig.update_layout(autosize=False, width=1000, height=400)\n",
    "    return fig\n",
    "\n",
    "# Create distplot for x = lung function\n",
    "group_labels = [True, False] if with_predicted_labels else [\"Exacerbation Period\", \"Stable Period\"]\n",
    "fig_distplot_fev1 = distplot(x, group_labels, bin_size)\n",
    "fig_distplot_fev1.show()\n",
    "# fig.write_image(\"{}/Ex labels {} {} distplot.pdf\".format(plotsdir, prefix, x), width=1000, height=400)\n",
    "\n",
    "# Create distplot for y = O2 saturation\n",
    "group_labels = [True, False] if with_predicted_labels else [\"Exacerbation Period\", \"Stable Period\"]\n",
    "fig_displot_o2 = distplot(y, group_labels, 1)\n",
    "fig_displot_o2.show()\n",
    "# fig_displot_o2.write_image(\"{}/Ex labels {} {} distplot.pdf\".format(plotsdir, prefix, y), width=1000, height=400)"
   ]
  },
  {
   "cell_type": "markdown",
   "metadata": {},
   "source": [
    "## Patient level plots to validate or validate outliers down"
   ]
  },
  {
   "cell_type": "code",
   "execution_count": null,
   "metadata": {
    "collapsed": false
   },
   "outputs": [],
   "source": [
    "# O2-FEV1: Outliers down can happen, however if you are persistently getting low reading it means that it's not an outlier\n",
    "# Checking O2 sat stable period measurements outliers\n",
    "exacerbation_label = 'Stable Period'\n",
    "\n",
    "# Case 1:\n",
    "IDs = ['180', '202']\n",
    "o2_saturation_threshold = 87\n",
    "\n",
    "# Case 2: smoothed\n",
    "o2_saturation_threshold = 90\n",
    "\n",
    "# Plot\n",
    "ids = O2_FEV1_processed[ (O2_FEV1_processed['Exacerbation Labels'] == exacerbation_label) & (O2_FEV1_processed['O2 Saturation'] < o2_saturation_threshold) ].ID.unique()\n",
    "print(ids)\n",
    "for id in ids:\n",
    "    plot_o2_fev1_raw_for_id(O2_FEV1_processed, id, save=False, show=True)"
   ]
  },
  {
   "cell_type": "markdown",
   "metadata": {},
   "source": [
    "## Validate smooth max"
   ]
  },
  {
   "cell_type": "code",
   "execution_count": null,
   "metadata": {},
   "outputs": [],
   "source": [
    "def plot_fev1_and_fev1_smoothed_for_id(O2_FEV1, id):\n",
    "  O2_FEV1=O2_FEV1[ O2_FEV1['ID'] == id ]\n",
    "  \n",
    "  mode=\"max\"\n",
    "  O2_FEV1 = smooth(O2_FEV1, ['FEV1'], mode=mode)\n",
    "\n",
    "  # Plot\n",
    "  # Create a subplots that share the same x and y axes with plotly\n",
    "  fig = make_subplots(rows=1, cols=1, shared_xaxes=True, shared_yaxes=True)\n",
    "  # Add scatter of FEV1 with Date recorded with a name 'FEV1' with marker opacity\n",
    "  fig.add_scatter(x=O2_FEV1['Date recorded'], y=O2_FEV1['FEV1'], mode='markers+lines', name='FEV1', opacity=0.5, row=1, col=1)\n",
    "  # Add scatter of FEV1 smoothed with Date recorded with a name 'FEV1 smoothed'\n",
    "  fig.add_scatter(x=O2_FEV1['Date recorded'], y=O2_FEV1['FEV1 smoothed'], mode='markers+lines', name='FEV1 smoothed', opacity=0.5, row=1, col=1)\n",
    "  # Update figure size\n",
    "  fig.update_layout(autosize=False, width=1000, height=300, title='FEV1 and FEV1 smoothed for ID {}'.format(id))\n",
    "  fig.show()\n",
    "\n",
    "# Plot plot_fev1_and_fev1_smoothed_for_id for the first 10 IDs of O2_FEV1\n",
    "for id in O2_FEV1.ID.unique()[:10]:\n",
    "  plot_fev1_and_fev1_smoothed_for_id(O2_FEV1, id)"
   ]
  },
  {
   "cell_type": "markdown",
   "metadata": {},
   "source": [
    "## How to smooth O2?"
   ]
  },
  {
   "cell_type": "code",
   "execution_count": null,
   "metadata": {
    "collapsed": false
   },
   "outputs": [],
   "source": [
    "# Plots O2 saturation against Date for a given patient id\n",
    "def plot_o2_saturation_for_id(df, id, plotsdir, save=False, show=False):\n",
    "    mask = df['ID'] == id\n",
    "    fig = px.scatter(df[mask], x='Date recorded', y='O2 Saturation')\n",
    "    fig.update_layout(autosize=False, width=1000, height=400)\n",
    "    fig.update_traces(marker=dict(size=5),\n",
    "                      selector=dict(mode='markers'))\n",
    "    if save:\n",
    "        fig.write_image(\"{}/O2 for ID/O2 saturation for ID {}.pdf\".format(plotsdir, id), width=1000, height=400)\n",
    "    if show:\n",
    "        fig.show()\n",
    "        \n",
    "# For each patient id, plot O2 saturation against Date recorded\n",
    "for id in O2_FEV1.ID.unique():\n",
    "    plot_o2_saturation_for_id(O2_FEV1, id, plotsdir, save=True, show=False)"
   ]
  },
  {
   "cell_type": "markdown",
   "metadata": {},
   "source": [
    "## Why are there measurements with FEV1 % Pred smoothed > 70% and FEV1 smoothed < 1L?\n",
    "image.png\n",
    "The scatter plot of O2 vs FEV1 for the FEV1 % Predicted group between 70% and 90% shows several measurements with an FEV1 smoothed below 1L. This looks erroneous.\n",
    "There are 98 measurements with FEV1 % Pred smoothed > 70% and FEV1 smoothed < 1L. \n",
    "- 92 measurements belong to individual with ID 216. There are no other measurements for this individual. Is there a problem for the data collected by this individual?\n",
    "\n",
    "Action: add function `remove_all_measurements_with_ID_216()`"
   ]
  },
  {
   "cell_type": "code",
   "execution_count": null,
   "metadata": {},
   "outputs": [],
   "source": [
    "114 * 0.01 * 3.95 - 44 * 0.025 - 2.6"
   ]
  },
  {
   "cell_type": "code",
   "execution_count": null,
   "metadata": {},
   "outputs": [],
   "source": [
    "# Find rows where FEV1 % Predicted smoothed > 70% and FEV1 smoothed < 1 L\n",
    "mask = (O2_FEV1_processed['FEV1 % Predicted smoothed'] > 70) & (O2_FEV1_processed['FEV1 smoothed'] < 1)\n",
    "print(\"{} measurements with FEV1 % Predicted smoothed > 70% and FEV1 < 1 L\".format(sum(mask)))\n",
    "# Set pandas display max row option to 100\n",
    "# pd.set_option('display.max_rows', 100)\n",
    "# Apply the mask and filter the folowing columns ID, FEV1, FEV1 smoothed, Age, Sex, Height, Weight, FEV1 % Predicted, FEV1 % Predicted smoothed, Is Exacerbated\n",
    "O2_FEV1_processed[mask][['ID', 'Age', 'Sex', 'Height', 'Weight', 'FEV1', 'FEV1 smoothed', 'Predicted FEV1', 'FEV1 Set As', 'FEV1 % Predicted', 'FEV1 % Predicted smoothed', 'Is Exacerbated', 'O2 Saturation']].sort_values(by=['ID', 'FEV1 % Predicted smoothed'])"
   ]
  },
  {
   "cell_type": "code",
   "execution_count": null,
   "metadata": {},
   "outputs": [],
   "source": [
    "# Filter measurements done by ID 216\n",
    "mask = O2_FEV1_processed['ID'] == '216'\n",
    "\n",
    "# Add scatter of FEV1 smoothed against date recorded\n",
    "fig = px.scatter(O2_FEV1_processed[mask], x='Date recorded', y='FEV1 smoothed')\n",
    "# Add scatter of FEV1 with trace name FEV1\n",
    "fig.add_scatter(x=O2_FEV1_processed[mask]['Date recorded'], y=O2_FEV1_processed[mask]['FEV1'], mode='markers', name='FEV1')\n",
    "fig.show()\n",
    "# Apply the mask and filter the folowing columns ID, FEV1, FEV1 smoothed, Age, Sex, Height, Weight, FEV1 % Predicted, FEV1 % Predicted smoothed, Is Exacerbated\n",
    "O2_FEV1_processed[mask][['ID', 'Date recorded', 'FEV1', 'FEV1 smoothed', 'Age', 'Sex', 'Height', 'Weight', 'FEV1 % Predicted', 'FEV1 % Predicted smoothed', 'Is Exacerbated']].sort_values(by=['FEV1 smoothed'])"
   ]
  },
  {
   "attachments": {},
   "cell_type": "markdown",
   "metadata": {},
   "source": [
    "## Difference between Predicted FEV1 and FEV1 Set As\n",
    "The two are computed by Damian's code and documented [here](https://tristantreb.github.io/master_thesis_CF_ML/Code/smartcare/populateDerivedColsInMLTables.html)\n",
    "- FEV1SetAs = round(PredictedFEV1)\n",
    "- CalcFEV1SetAs is different than PredictedFEV1 because it uses a corrected Age (floor(years(patientStudyStartDate - patientDOB))), instead of the age that was entered during the study.\n"
   ]
  },
  {
   "cell_type": "code",
   "execution_count": null,
   "metadata": {},
   "outputs": [],
   "source": [
    "O2_FEV1.columns"
   ]
  },
  {
   "cell_type": "markdown",
   "metadata": {},
   "source": [
    "# Create Factor Functions\n",
    "We want the characterise the factor function that links the Unblocked FEV1 with its parents: Healthy FEV1 and Lung Damage. Here's a model of the relations betweeen those three varaibles: the unblocked FEV1 (L) of an individual is the healthy FEV1 (L), the theoretical lung function based on height, DOB, gdner, ethnicity (TBC exactly which), pejorated by the % in lung damage"
   ]
  },
  {
   "cell_type": "code",
   "execution_count": null,
   "metadata": {},
   "outputs": [],
   "source": [
    "# Factor function for unblocked FEV1 (L)\n",
    "df_unblocked_factor = load_patient_data(datadir)\n",
    "\n",
    "# For each patient id\n",
    "# Create np.array to store the unblocked FEV1 (L)\n",
    "rmax = []\n",
    "for id in O2_FEV1.ID.unique():\n",
    "  mask = O2_FEV1['ID'] == id\n",
    "  # Find the unblocked FEV1 (L). We assume that, over the 6 months study period, the patient has done some measurements where he was not blocked\n",
    "  # To avoid taking an outlier up, which is third highest FEV1 measurement\n",
    "  rmax.append(O2_FEV1['FEV1'][mask].nlargest(3).iloc[-1])\n",
    "# Add rmax to df_unblocked_factor with column name Unblocked FEV1 (L)\n",
    "df_unblocked_factor['Unblocked FEV1 (L)'] = pd.Series(rmax)\n",
    "\n",
    "# Compute Unblocked FEV1 as a percentage of lung damage\n",
    "# Healthy FEV1 is the FEV1 Set As\n",
    "df_unblocked_factor['Unblocked FEV1 as a % of lung damage'] = 100 * (1 - df_unblocked_factor['Unblocked FEV1 (L)'] / df_unblocked_factor['FEV1 Set As'])\n",
    "\n",
    "# Plot a scatter of Unblocked FEV1 (&) against Age\n",
    "def lung_damage_with_var(df, var, plotsdir):\n",
    "  fig = px.scatter(df_unblocked_factor, x=var, y='Unblocked FEV1 as a % of lung damage')\n",
    "  title=\"Lung damage with {} ({} individuals)\".format(var, len(df_unblocked_factor))\n",
    "  fig.update_layout(autosize=False, width=500, height=500, title=title)\n",
    "  fig.update_traces(marker=dict(size=5),\n",
    "                    selector=dict(mode='markers'))\n",
    "  fig.show()\n",
    "  fig.write_image(\"{}/Factors - {}.pdf\".format(plotsdir, title), width=500, height=500)\n",
    "\n",
    "lung_damage_with_var(df_unblocked_factor, 'Age', plotsdir)\n",
    "lung_damage_with_var(df_unblocked_factor, 'Sex', plotsdir)"
   ]
  },
  {
   "cell_type": "code",
   "execution_count": null,
   "metadata": {},
   "outputs": [],
   "source": [
    "# Factor function for FEV1\n",
    "O2_FEV1_factors = merge_pred_ex_labels_to(O2_FEV1, get_pred_ex_labels(datadir))\n",
    "\n",
    "df_unblocked_factor=pd.DataFrame(columns=['ID,', 'Unblocked FEV1 (L)', 'Healthy FEV1 (L)'])\n",
    "for id in O2_FEV1.ID.unique():\n",
    "  # For a given patient id, filter the FEV1 measurements\n",
    "  mask = O2_FEV1['ID'] == id\n",
    "  O2_FEV1_patient = O2_FEV1[mask]\n",
    "  # Find the unblocked FEV1 (L). We assume that, over the 6 months study period, the patient has done some measurements where he was not blocked\n",
    "  # To avoid taking an outlier up, which is third highest FEV1 measurement\n",
    "  rmax=O2_FEV1_patient['FEV1'].nlargest(3).iloc[-1]\n",
    "  # Get the theoretical healthy FEV1 (L)\n",
    "  healthy_fev1=O2_FEV1_patient['FEV1 Set As'].iloc[0]\n",
    "  # Add the patient id, reversed max FEV1 and healthy FEV1 (L) to the dataframe\n",
    "  new_row = pd.DataFrame({'ID': [id], 'Unblocked FEV1 (L)': [rmax], 'Healthy FEV1 (L)': [healthy_fev1]})\n",
    "  df_unblocked_factor = pd.concat([df_unblocked_factor, new_row])\n",
    "\n",
    "# Left join O2_FEV1_factors with df_unblocked_factor on ID\n",
    "O2_FEV1_factors = pd.merge(O2_FEV1_factors, df_unblocked_factor, on='ID', how='left')\n",
    "\n",
    "# Plot unblocked fev1 (L) in x, measured fev1 in y, and color by Is Exacerbated\n",
    "fig = px.scatter(O2_FEV1_factors, x='Unblocked FEV1 (L)', y='FEV1', color='Is Exacerbated', color_discrete_sequence=[get_stable_color(), get_ex_color()])\n",
    "title=\"Impact of % small airways blockage on unblocked FEV1\"\n",
    "fig.update_layout(autosize=False, width=500, height=500, title=title)\n",
    "fig.update_traces(marker=dict(size=5),\n",
    "                  selector=dict(mode='markers'))\n",
    "fig.show() \n",
    "# Save figure\n",
    "fig.write_image(\"{}/Factors - {}.pdf\".format(plotsdir, title), width=500, height=500)"
   ]
  },
  {
   "cell_type": "markdown",
   "metadata": {},
   "source": [
    "### Exploration\n",
    "#### Old factor function code"
   ]
  },
  {
   "cell_type": "code",
   "execution_count": null,
   "metadata": {},
   "outputs": [],
   "source": [
    "# Factor function for unblocked FEV1 (L)\n",
    "df_unblocked_factor=pd.DataFrame(columns=['ID,', 'Unblocked FEV1 (L)', 'Healthy FEV1 (L)'])\n",
    "for id in O2_FEV1.ID.unique():\n",
    "  # For a given patient id, filter the FEV1 measurements\n",
    "  mask = O2_FEV1['ID'] == id\n",
    "  O2_FEV1_patient = O2_FEV1[mask]\n",
    "  # Find the unblocked FEV1 (L). We assume that, over the 6 months study period, the patient has done some measurements where he was not blocked\n",
    "  # To avoid taking an outlier up, which is third highest FEV1 measurement\n",
    "  rmax=O2_FEV1_patient['FEV1'].nlargest(3).iloc[-1]\n",
    "  # Get the theoretical healthy FEV1 (L)\n",
    "  healthy_fev1=O2_FEV1_patient['FEV1 Set As'].iloc[0]\n",
    "  # Add the patient id, reversed max FEV1 and healthy FEV1 (L) to the dataframe\n",
    "  new_row = pd.DataFrame({'ID': [id], 'Unblocked FEV1 (L)': [rmax], 'Healthy FEV1 (L)': [healthy_fev1]})\n",
    "  df_unblocked_factor = pd.concat([df_unblocked_factor, new_row])\n",
    "\n",
    "\n",
    "def add_lung_damage(fig, df, lung_damage_prct):\n",
    "  xmax=df['Healthy FEV1 (L)'].max(); xmin=df['Healthy FEV1 (L)'].min()\n",
    "  a=1-lung_damage_prct/100\n",
    "  fig.add_shape(type=\"line\", x0=xmin, y0=a*xmin, x1=xmax, y1=a*xmax, line=dict(color=\"Red\", width=0.5))\n",
    "  # Add line legend for no lung damage\n",
    "  fig.add_annotation(x=1.02*xmax, y=a*xmax, text=\"{}%\".format(lung_damage_prct), showarrow=False, font=dict(size=10, color=\"Red\"))\n",
    "\n",
    "# Plot a scatter of unblocked FEV1 (L) against healthy FEV1 (L)\n",
    "fig = px.scatter(df_unblocked_factor, x='Healthy FEV1 (L)', y='Unblocked FEV1 (L)')\n",
    "add_lung_damage(fig, df_unblocked_factor, 0)\n",
    "add_lung_damage(fig, df_unblocked_factor, 50)\n",
    "title=\"Impact of lung damage on healthy FEV1\"\n",
    "fig.update_layout(autosize=False, width=500, height=500, title=\"Impact of lung damage on healthy FEV1\")\n",
    "fig.update_traces(marker=dict(size=5),\n",
    "                  selector=dict(mode='markers'))\n",
    "fig.show()\n",
    "# Save figure\n",
    "fig.write_image(\"{}/Factors - {}.pdf\".format(plotsdir, title), width=500, height=500)"
   ]
  },
  {
   "cell_type": "code",
   "execution_count": null,
   "metadata": {},
   "outputs": [],
   "source": [
    "O2_FEV1_factors = merge_pred_ex_labels_to(O2_FEV1, get_pred_ex_labels(datadir))\n",
    "\n",
    "df_unblocked_factor=pd.DataFrame(columns=['ID,', 'Unblocked FEV1 (L)', 'Healthy FEV1 (L)'])\n",
    "for id in O2_FEV1.ID.unique():\n",
    "  # For a given patient id, filter the FEV1 measurements\n",
    "  mask = O2_FEV1['ID'] == id\n",
    "  O2_FEV1_patient = O2_FEV1[mask]\n",
    "  # Find the unblocked FEV1 (L). We assume that, over the 6 months study period, the patient has done some measurements where he was not blocked\n",
    "  # To avoid taking an outlier up, which is third highest FEV1 measurement\n",
    "  rmax=O2_FEV1_patient['FEV1'].nlargest(3).iloc[-1]\n",
    "  # Get the theoretical healthy FEV1 (L)\n",
    "  healthy_fev1=O2_FEV1_patient['FEV1 Set As'].iloc[0]\n",
    "  # Add the patient id, reversed max FEV1 and healthy FEV1 (L) to the dataframe\n",
    "  new_row = pd.DataFrame({'ID': [id], 'Unblocked FEV1 (L)': [rmax], 'Healthy FEV1 (L)': [healthy_fev1]})\n",
    "  df_unblocked_factor = pd.concat([df_unblocked_factor, new_row])\n",
    "\n",
    "# Left join O2_FEV1_factors with df_unblocked_factor on ID\n",
    "O2_FEV1_factors = pd.merge(O2_FEV1_factors, df_unblocked_factor, on='ID', how='left')\n",
    "\n",
    "# Plot unblocked fev1 (L) in x, measured fev1 in y, and color by Is Exacerbated\n",
    "fig = px.scatter(O2_FEV1_factors, x='Unblocked FEV1 (L)', y='FEV1', color='Is Exacerbated', color_discrete_sequence=[get_stable_color(), get_ex_color()])\n",
    "title=\"Impact of % small airways blockage on unblocked FEV1\"\n",
    "fig.update_layout(autosize=False, width=500, height=500, title=title)\n",
    "fig.update_traces(marker=dict(size=5),\n",
    "                  selector=dict(mode='markers'))\n",
    "fig.show() \n",
    "# Save figure\n",
    "fig.write_image(\"{}/Factors - {}.pdf\".format(plotsdir, title), width=500, height=500)"
   ]
  },
  {
   "cell_type": "markdown",
   "metadata": {},
   "source": [
    "#### Compare calc_predicted_fev1 with FEV1 Set As"
   ]
  },
  {
   "cell_type": "code",
   "execution_count": null,
   "metadata": {},
   "outputs": [],
   "source": [
    "df=load_patient_data(datadir)\n",
    "df['Predicted FEV1 Calc (L)'] = df.apply(lambda x: calc_predicted_fev1(x), axis=1)\n",
    "\n",
    "# Sort df by Predicted FEV1 Calc (L)\n",
    "df.sort_values(by=['Predicted FEV1 Calc (L)'], inplace=True)\n",
    "# Use go.scatter to plot FEV1 Predicted in y with ID in x\n",
    "fig = go.Figure(data=go.Scatter(x=df['ID'], y=df['Predicted FEV1 Calc (L)'], name=\"Predicted FEV1 Calc (L)\", mode='markers', opacity=0.9))\n",
    "# Add the same with FEV1 Set As with name \"FEV1 Set As\"\n",
    "fig.add_trace(go.Scatter(x=df['ID'], y=df['FEV1 Set As'], name=\"FEV1 Set As\", mode='markers', opacity=0.9))\n",
    "# Add the same with FEV1 Predicted Calc (L) with name \"Predicted FEV1 Calc (L)\"\n",
    "# fig.add_trace(go.Scatter(x=df['ID'], y=df['Predicted FEV1'], name=\"Predicted FEV1\", mode='markers', opacity=0.9))\n",
    "fig.update_traces(marker=dict(size=5),\n",
    "                  selector=dict(mode='markers'))  \n",
    "fig.show()"
   ]
  },
  {
   "cell_type": "code",
   "execution_count": null,
   "metadata": {},
   "outputs": [],
   "source": [
    "# Show df rows for ID '60' and '66'\n",
    "df[df['ID'].isin(['60', '66'])]\n",
    "\n"
   ]
  },
  {
   "cell_type": "code",
   "execution_count": null,
   "metadata": {},
   "outputs": [],
   "source": [
    "1.62 * 0.01 * 3.95 - 40 * 0.025 - 2.6"
   ]
  },
  {
   "cell_type": "code",
   "execution_count": null,
   "metadata": {},
   "outputs": [],
   "source": [
    "df[df['ID'].isin(['216', '40'])]"
   ]
  },
  {
   "cell_type": "code",
   "execution_count": null,
   "metadata": {},
   "outputs": [],
   "source": []
  }
 ],
 "metadata": {
  "kernelspec": {
   "display_name": "Python 3.10.0 ('phd')",
   "language": "python",
   "name": "python3"
  },
  "language_info": {
   "codemirror_mode": {
    "name": "ipython",
    "version": 3
   },
   "file_extension": ".py",
   "mimetype": "text/x-python",
   "name": "python",
   "nbconvert_exporter": "python",
   "pygments_lexer": "ipython3",
   "version": "3.10.0"
  },
  "vscode": {
   "interpreter": {
    "hash": "ffc9e18892ee3b9cbe53b18b7d355cfce0a42ae1aa2d5f5ea7529610a7030618"
   }
  }
 },
 "nbformat": 4,
 "nbformat_minor": 0
}
