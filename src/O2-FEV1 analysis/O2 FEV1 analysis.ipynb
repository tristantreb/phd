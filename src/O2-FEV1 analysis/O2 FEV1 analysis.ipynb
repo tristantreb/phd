{
 "cells": [
  {
   "cell_type": "code",
   "execution_count": 1,
   "metadata": {
    "collapsed": true
   },
   "outputs": [],
   "source": [
    "from load_data import *\n",
    "from partition import *\n",
    "from normalise import *\n",
    "from exacerbation_periods import *\n",
    "from smooth import *\n",
    "from plot_helpers import *\n",
    "import plotly.figure_factory as ff\n",
    "import plotly.express as px\n",
    "import plotly.graph_objects as go\n",
    "\n",
    "\n",
    "#Settings\n",
    "datadir = \"../../../../SmartCareData/\"\n",
    "plotsdir=\"../../../../PlotsSmartcare/O2_FEV1/\""
   ]
  },
  {
   "cell_type": "code",
   "execution_count": 2,
   "metadata": {
    "collapsed": false
   },
   "outputs": [
    {
     "name": "stderr",
     "output_type": "stream",
     "text": [
      "/Users/tristan.trebaol/Desktop/PhD/Code/phd/src/O2-FEV1 analysis/load_data.py:11: DtypeWarning: Columns (14) have mixed types. Specify dtype option on import or set low_memory=False.\n",
      "  measurements = pd.read_csv(datadir + \"mydata.csv\").rename(columns={\"FEV 1\": \"FEV1\"})\n",
      "/Applications/anaconda3/envs/phd/lib/python3.10/site-packages/openpyxl/worksheet/_read_only.py:79: UserWarning: Unknown extension is not supported and will be removed\n",
      "  for idx, row in parser.parse():\n",
      "/Applications/anaconda3/envs/phd/lib/python3.10/site-packages/openpyxl/worksheet/_read_only.py:79: UserWarning: Unknown extension is not supported and will be removed\n",
      "  for idx, row in parser.parse():\n"
     ]
    },
    {
     "name": "stdout",
     "output_type": "stream",
     "text": [
      "Removed 11 measurements where O2 Sat > 100%, kept 123136 measurements\n",
      "O2 Saturation contains 13418 measurements\n",
      "FEV1 contains 10418 measurements\n",
      "Removed 4684 rows with O2_FEV1 inner join, kept 68% of measurements (10100)\n",
      "Removed 1008 duplicates, 9092 measurements left\n"
     ]
    },
    {
     "data": {
      "text/html": [
       "<div>\n",
       "<style scoped>\n",
       "    .dataframe tbody tr th:only-of-type {\n",
       "        vertical-align: middle;\n",
       "    }\n",
       "\n",
       "    .dataframe tbody tr th {\n",
       "        vertical-align: top;\n",
       "    }\n",
       "\n",
       "    .dataframe thead th {\n",
       "        text-align: right;\n",
       "    }\n",
       "</style>\n",
       "<table border=\"1\" class=\"dataframe\">\n",
       "  <thead>\n",
       "    <tr style=\"text-align: right;\">\n",
       "      <th></th>\n",
       "      <th>ID</th>\n",
       "      <th>Date recorded</th>\n",
       "      <th>O2 Saturation</th>\n",
       "      <th>FEV1</th>\n",
       "      <th>Age</th>\n",
       "      <th>Sex</th>\n",
       "      <th>Height</th>\n",
       "      <th>Weight</th>\n",
       "      <th>Predicted FEV1</th>\n",
       "      <th>FEV1 Set As</th>\n",
       "      <th>Pulmonary Exacerbation</th>\n",
       "      <th>Less Exacerbation</th>\n",
       "      <th>Transplant Recipients</th>\n",
       "      <th>Date Last PE Start</th>\n",
       "      <th>Date Last PE Stop</th>\n",
       "      <th>Comments</th>\n",
       "      <th>FEV1 % Predicted</th>\n",
       "      <th>FEV1 % Predicted Group</th>\n",
       "    </tr>\n",
       "  </thead>\n",
       "  <tbody>\n",
       "    <tr>\n",
       "      <th>0</th>\n",
       "      <td>79</td>\n",
       "      <td>2015-09-10</td>\n",
       "      <td>95.0</td>\n",
       "      <td>1.53</td>\n",
       "      <td>27</td>\n",
       "      <td>Male</td>\n",
       "      <td>163.0</td>\n",
       "      <td>54.7</td>\n",
       "      <td>3.76</td>\n",
       "      <td>3.8</td>\n",
       "      <td>Yes</td>\n",
       "      <td>No</td>\n",
       "      <td>No</td>\n",
       "      <td>2015-07-13</td>\n",
       "      <td>2015-08-06 00:00:00</td>\n",
       "      <td>NaN</td>\n",
       "      <td>40.691489</td>\n",
       "      <td>&lt;42.7</td>\n",
       "    </tr>\n",
       "    <tr>\n",
       "      <th>1</th>\n",
       "      <td>79</td>\n",
       "      <td>2015-09-11</td>\n",
       "      <td>97.0</td>\n",
       "      <td>1.68</td>\n",
       "      <td>27</td>\n",
       "      <td>Male</td>\n",
       "      <td>163.0</td>\n",
       "      <td>54.7</td>\n",
       "      <td>3.76</td>\n",
       "      <td>3.8</td>\n",
       "      <td>Yes</td>\n",
       "      <td>No</td>\n",
       "      <td>No</td>\n",
       "      <td>2015-07-13</td>\n",
       "      <td>2015-08-06 00:00:00</td>\n",
       "      <td>NaN</td>\n",
       "      <td>44.680851</td>\n",
       "      <td>[42.7;66.0[</td>\n",
       "    </tr>\n",
       "    <tr>\n",
       "      <th>2</th>\n",
       "      <td>79</td>\n",
       "      <td>2015-09-12</td>\n",
       "      <td>97.0</td>\n",
       "      <td>1.48</td>\n",
       "      <td>27</td>\n",
       "      <td>Male</td>\n",
       "      <td>163.0</td>\n",
       "      <td>54.7</td>\n",
       "      <td>3.76</td>\n",
       "      <td>3.8</td>\n",
       "      <td>Yes</td>\n",
       "      <td>No</td>\n",
       "      <td>No</td>\n",
       "      <td>2015-07-13</td>\n",
       "      <td>2015-08-06 00:00:00</td>\n",
       "      <td>NaN</td>\n",
       "      <td>39.361702</td>\n",
       "      <td>&lt;42.7</td>\n",
       "    </tr>\n",
       "    <tr>\n",
       "      <th>3</th>\n",
       "      <td>79</td>\n",
       "      <td>2015-08-13</td>\n",
       "      <td>95.0</td>\n",
       "      <td>1.63</td>\n",
       "      <td>27</td>\n",
       "      <td>Male</td>\n",
       "      <td>163.0</td>\n",
       "      <td>54.7</td>\n",
       "      <td>3.76</td>\n",
       "      <td>3.8</td>\n",
       "      <td>Yes</td>\n",
       "      <td>No</td>\n",
       "      <td>No</td>\n",
       "      <td>2015-07-13</td>\n",
       "      <td>2015-08-06 00:00:00</td>\n",
       "      <td>NaN</td>\n",
       "      <td>43.351064</td>\n",
       "      <td>[42.7;66.0[</td>\n",
       "    </tr>\n",
       "    <tr>\n",
       "      <th>4</th>\n",
       "      <td>79</td>\n",
       "      <td>2015-11-07</td>\n",
       "      <td>94.0</td>\n",
       "      <td>1.52</td>\n",
       "      <td>27</td>\n",
       "      <td>Male</td>\n",
       "      <td>163.0</td>\n",
       "      <td>54.7</td>\n",
       "      <td>3.76</td>\n",
       "      <td>3.8</td>\n",
       "      <td>Yes</td>\n",
       "      <td>No</td>\n",
       "      <td>No</td>\n",
       "      <td>2015-07-13</td>\n",
       "      <td>2015-08-06 00:00:00</td>\n",
       "      <td>NaN</td>\n",
       "      <td>40.425532</td>\n",
       "      <td>&lt;42.7</td>\n",
       "    </tr>\n",
       "  </tbody>\n",
       "</table>\n",
       "</div>"
      ],
      "text/plain": [
       "   ID Date recorded  O2 Saturation  FEV1  Age   Sex  Height  Weight  \\\n",
       "0  79    2015-09-10           95.0  1.53   27  Male   163.0    54.7   \n",
       "1  79    2015-09-11           97.0  1.68   27  Male   163.0    54.7   \n",
       "2  79    2015-09-12           97.0  1.48   27  Male   163.0    54.7   \n",
       "3  79    2015-08-13           95.0  1.63   27  Male   163.0    54.7   \n",
       "4  79    2015-11-07           94.0  1.52   27  Male   163.0    54.7   \n",
       "\n",
       "   Predicted FEV1  FEV1 Set As Pulmonary Exacerbation Less Exacerbation  \\\n",
       "0            3.76          3.8                    Yes                No   \n",
       "1            3.76          3.8                    Yes                No   \n",
       "2            3.76          3.8                    Yes                No   \n",
       "3            3.76          3.8                    Yes                No   \n",
       "4            3.76          3.8                    Yes                No   \n",
       "\n",
       "  Transplant Recipients Date Last PE Start    Date Last PE Stop Comments  \\\n",
       "0                    No         2015-07-13  2015-08-06 00:00:00      NaN   \n",
       "1                    No         2015-07-13  2015-08-06 00:00:00      NaN   \n",
       "2                    No         2015-07-13  2015-08-06 00:00:00      NaN   \n",
       "3                    No         2015-07-13  2015-08-06 00:00:00      NaN   \n",
       "4                    No         2015-07-13  2015-08-06 00:00:00      NaN   \n",
       "\n",
       "   FEV1 % Predicted FEV1 % Predicted Group  \n",
       "0         40.691489                  <42.7  \n",
       "1         44.680851            [42.7;66.0[  \n",
       "2         39.361702                  <42.7  \n",
       "3         43.351064            [42.7;66.0[  \n",
       "4         40.425532                  <42.7  "
      ]
     },
     "execution_count": 2,
     "metadata": {},
     "output_type": "execute_result"
    }
   ],
   "source": [
    "# Process O2-FEV1 data\n",
    "O2_FEV1 = create_O2_FEV1_df(datadir)\n",
    "\n",
    "# Compute FEV1 % Predicted\n",
    "O2_FEV1['FEV1 % Predicted'] = O2_FEV1.apply(lambda x: x[\"FEV1\"] / x[\"Predicted FEV1\"] * 100, axis=1)\n",
    "\n",
    "# Partition FEV1 % Predicted in 3 groups\n",
    "O2_FEV1[\"FEV1 % Predicted Group\"] = partition_in_n_equal_groups(O2_FEV1['FEV1 % Predicted'],3)\n",
    "\n",
    "# What are we analysing?\n",
    "O2_FEV1.head()"
   ]
  },
  {
   "cell_type": "markdown",
   "metadata": {
    "collapsed": false
   },
   "source": [
    "# O2-FEV1 analysis\n",
    "## Definitions\n",
    "- O2 Saturation\n",
    "- FEV 1\n",
    "- Predicted FEV 1 in %: measure for the amount of airway obstruction either due to sputum load (non-permanent obstruction) or scars in the lungs (permanent obstruction).\n",
    "\n",
    "## Literature\n",
    "[The association between forced expiratory volume in one second (FEV1) and pulse oximetric measurements of arterial oxygen saturation (SpO2) in the patients with COPD: A preliminary study](https://pubmed.ncbi.nlm.nih.gov/24949035/).\n",
    "- Context: 31 patients with COPD\n",
    "- Key results: There was not statistically significant correlation between FEV1 % predicted and SpO2 values (P < 0.05), but a great correlation existed between FEV1/FVC % predicted and SpO2 values (r = 0.556, P < 0.001).\n",
    "\n",
    " [ANALYSIS OF CORRELATION BETWEEN FEV1/FEV6 AND OXYGEN SATURATION DURING SIX-MINUTE WALK TEST (6MWT) IN COPD PATIENTS](https://www.researchgate.net/publication/351322676_ANALYSIS_OF_CORRELATION_BETWEEN_FEV1FEV6_AND_OXYGEN_SATURATION_DURING_SIX-MINUTE_WALK_TEST_6MWT_IN_COPD_PATIENTS)\n",
    " - Need to download\n",
    "\n",
    "Note: nobody segments the input by groups. Probably because they don't have enough data to do this."
   ]
  },
  {
   "cell_type": "code",
   "execution_count": null,
   "metadata": {},
   "outputs": [],
   "source": [
    "## Raw scatter plots"
   ]
  },
  {
   "cell_type": "code",
   "execution_count": null,
   "metadata": {
    "collapsed": false
   },
   "outputs": [],
   "source": [
    "# Raw plot without trendline\n",
    "fig = px.scatter(O2_FEV1, y=\"O2 Saturation\", x=\"FEV1\")\n",
    "# fig = px.scatter(O2_FEV1, y=\"O2 Saturation\", x=\"FEV1\", trendline=\"ols\")\n",
    "fig.update_layout(autosize=False, width=500, height=500)\n",
    "fig.show()\n",
    "fig.write_image(plotsdir + \"FEV1-O2 raw.pdf\")\n",
    "\n",
    "fig = px.scatter(O2_FEV1, y=\"O2 Saturation\", x=\"FEV1 % Predicted\")\n",
    "fig.update_layout(autosize=False, width=500, height=500)\n",
    "fig.show()\n",
    "fig.write_image(plotsdir + \"FEV1 % Predicted-O2 raw.pdf\")\n",
    "\n",
    "O2_FEV1.shape"
   ]
  },
  {
   "cell_type": "code",
   "execution_count": null,
   "metadata": {
    "collapsed": false
   },
   "outputs": [],
   "source": [
    "var = 'FEV1'; xaxis_range = [0, 5.1]\n",
    "# var = 'FEV1 % Predicted'; xaxis_range = [0, 155]\n",
    "\n",
    "# Plot with height\n",
    "O2_FEV1['Height Group'], height_labels=partition_in_n_equal_groups(O2_FEV1['Height'], 3, True)\n",
    "\n",
    "fig = px.scatter(O2_FEV1, y=\"O2 Saturation\", x=var, color=\"Height Group\", marginal_x=\"histogram\", marginal_y=\"histogram\")\n",
    "# fig.update_layout(autosize=False, width=800, height=800)\n",
    "fig.update_traces(marker=dict(size=5),\n",
    "                  selector=dict(mode='markers'))\n",
    "# fig.update_xaxes(range=[0.9*min(O2_FEV1[\"FEV1\"]), 1.1*max(O2_FEV1[\"FEV1\"])])\n",
    "# fig.update_yaxes(range=[0.9*min(O2_FEV1[\"O2 Saturation\"]), max(1.1*O2_FEV1[\"O2 Saturation\"])])\n",
    "# fig.show()\n",
    "\n",
    "for height_group in height_labels:\n",
    "    mask_height=O2_FEV1['Height Group'] == height_group\n",
    "\n",
    "    fig = px.scatter(O2_FEV1[mask_height], y=\"O2 Saturation\", x=var,\n",
    "                     title='Height group {}'.format(height_group))\n",
    "    fig.update_layout(autosize=False, width=500, height=500)\n",
    "    fig.update_traces(marker=dict(size=5),\n",
    "                      selector=dict(mode='markers'))\n",
    "    fig.update_xaxes(range=xaxis_range)\n",
    "    fig.update_yaxes(range=[74, 102])\n",
    "    fig.show()\n",
    "    filename= \"Height group \" +  height_group + \" \" + var + \"-O2 raw\"\n",
    "    fig.write_image(plotsdir + filename + \".pdf\")"
   ]
  },
  {
   "cell_type": "code",
   "execution_count": null,
   "metadata": {
    "collapsed": false
   },
   "outputs": [],
   "source": [
    "predicted = False\n",
    "x_var = 'Weight'\n",
    "lung_function_var = 'FEV1 % Predicted' if predicted else 'FEV1'\n",
    "\n",
    "fig1, fig2, _ = desaturation_FEV1_for_variable(O2_FEV1, x_var, n_var_groups=6, predicted=predicted)\n",
    "fig1.show()\n",
    "fig1.write_image(plotsdir + \"Desaturation {} for {} main plot.pdf\".format(lung_function_var, x_var))\n",
    "\n",
    "fig2.show()\n",
    "fig2.write_image(plotsdir + \"Desaturation {} for {} with lines.pdf\".format(lung_function_var, x_var))\n",
    "\n",
    "# Observations\n",
    "# o2 10, var 15 contains a lot of noise and groups have very low number of datapoints. It gets too patient specific"
   ]
  },
  {
   "cell_type": "markdown",
   "metadata": {
    "collapsed": false
   },
   "source": [
    "## Per patient plots"
   ]
  },
  {
   "cell_type": "code",
   "execution_count": null,
   "metadata": {
    "collapsed": false
   },
   "outputs": [],
   "source": [
    "# Same patient variability: can we observe the same pattern for each patient?\n",
    "O2_FEV1.head()\n",
    "\n",
    "# Include time evolution into the graph\n",
    "def to_float(dt_time):\n",
    "    return (365*dt_time.year + 12*dt_time.month + dt_time.day)/12\n",
    "\n",
    "mindate = to_float(min(O2_FEV1[\"Date recorded\"]))\n",
    "O2_FEV1[\"Months since study start\"]=O2_FEV1[\"Date recorded\"].apply(lambda x: to_float(x)-mindate)\n",
    "\n"
   ]
  },
  {
   "cell_type": "code",
   "execution_count": null,
   "metadata": {
    "collapsed": false
   },
   "outputs": [],
   "source": [
    "# Same patient variability: can we observe the same pattern for each patient?\n",
    "IDs=O2_FEV1.ID.unique()\n",
    "for ID in IDs:\n",
    "    plot_o2_fev1_raw_for_id(O2_FEV1, ID)"
   ]
  },
  {
   "cell_type": "markdown",
   "metadata": {},
   "source": [
    "## O2-FEV1 analysis summary plot"
   ]
  },
  {
   "cell_type": "code",
   "execution_count": null,
   "metadata": {
    "collapsed": false
   },
   "outputs": [],
   "source": [
    "# Add exacerbated labels\n",
    "# Compute exacerbation labels\n",
    "# O2_FEV1_processed = compute_ex_labels_from_heuristics(antibioticsdata, patientsdata, O2_FEV1)\n",
    "\n",
    "# Get exacerbation labels from the predictive classifier\n",
    "O2_FEV1_processed = merge_pred_ex_labels_to(O2_FEV1, get_pred_ex_labels(datadir))\n",
    "\n",
    "# Smooth\n",
    "O2_FEV1_processed = smooth_max(O2_FEV1_processed, ['FEV1', 'FEV1 % Predicted'])\n",
    "O2_FEV1_processed = smooth_avg(O2_FEV1_processed, ['O2 Saturation'])\n",
    "print(\"Removed {} nan entries after max smoothing, kept {}\".format(O2_FEV1_processed.isna().sum().max(), O2_FEV1_processed.shape[0]))\n",
    "O2_FEV1_processed.dropna(inplace=True)\n",
    "\n",
    "# Normalise\n",
    "O2_FEV1_processed = norm_by_stable_baseline(O2_FEV1_processed,\n",
    "                                            ['O2 Saturation', 'O2 Saturation smoothed', 'FEV1', 'FEV1 % Predicted', 'FEV1 smoothed', 'FEV1 % Predicted smoothed'])\n",
    "\n",
    "# Settings\n",
    "prefix, ex_column, x, y = set_x_y_vars(\n",
    "      with_predicted_labels=True,\n",
    "      with_predicted_fev1=True,\n",
    "      is_smoothed_fev=True,\n",
    "      is_smoothed_o2=False,\n",
    "      is_normalised=False,\n",
    "  )\n",
    "\n",
    "is_partitioned=True\n",
    "if not is_partitioned:\n",
    "  # Plot O2-FEV with respective displots\n",
    "  fig=plot_o2_fev_with_displots(O2_FEV1_processed, x, y, ex_column)\n",
    "  fig.show()\n",
    "  fig.write_image(\"{}/Ex labels {} {}-{}.pdf\".format(plotsdir, prefix, x, y), width=1400, height=600)\n",
    "\n",
    "  # Plot subsampled O2-FEV scatter\n",
    "  fig = plot_subsampled_scatter(x, y, O2_FEV1_processed, random_state=7)\n",
    "  fig.show()\n",
    "else:\n",
    "\n",
    "  fev1_prct_thresholds = [60, 70, 90]\n",
    "  O2_FEV1_processed['FEV1 % Predicted Group'] = partition_given_thresholds(O2_FEV1['FEV1 % Predicted'], fev1_prct_thresholds)\n",
    "  # O2_FEV1_processed[\"FEV1 % Predicted Group\"] = partition_in_n_equal_groups(O2_FEV1['FEV1 % Predicted'], 3)\n",
    "\n",
    "  # Create a for loop for each FEV1 % Predicted Group\n",
    "  for fev_group in O2_FEV1_processed['FEV1 % Predicted Group'].unique():\n",
    "    mask = O2_FEV1_processed['FEV1 % Predicted Group'] == fev_group\n",
    "\n",
    "    # Count patients\n",
    "    n_patients=len(O2_FEV1_processed[mask].ID.unique())\n",
    "\n",
    "    # Plot\n",
    "    fig=plot_o2_fev_with_displots(O2_FEV1_processed[mask], x, y, ex_column)\n",
    "    fig.update_layout(title=\"{} patients, FEV1 % Predicted {}\".format(n_patients, fev_group))\n",
    "    fig.show()\n",
    "    fig.write_image(\"{}/Ex labels {} {}-{} group {}.pdf\".format(plotsdir, prefix, x, y, fev_group), width=1400, height=600)\n",
    "\n",
    "    # Plot subsampled O2-FEV scatter\n",
    "    # fig = plot_subsampled_scatter(x, y, O2_FEV1_processed[mask], random_state=7)\n",
    "    # fig.show()"
   ]
  },
  {
   "cell_type": "markdown",
   "metadata": {},
   "source": [
    "## Test the sensitivity of random states on subsampled plots\n",
    "We wonder if different random states will give largely different results, to an extend that it could challenge the model assumptions.\n",
    "It turns out that, despite an effect on the x axis range, the subsampled plots are very similar."
   ]
  },
  {
   "cell_type": "code",
   "execution_count": null,
   "metadata": {},
   "outputs": [],
   "source": [
    "# Add subsampled plot\n",
    "prefix, ex_column, x, y = set_x_y_vars(with_predicted_labels=True, with_predicted_fev1=True, is_smoothed=True, is_normalised=False)\n",
    "\n",
    "for random_state in range(1,10):\n",
    "  print(random_state)\n",
    "  fig = plot_subsampled_scatter(x, y, O2_FEV1_processed, random_state=random_state)\n",
    "  fig.show()"
   ]
  },
  {
   "cell_type": "markdown",
   "metadata": {},
   "source": [
    "## Full sized displots"
   ]
  },
  {
   "cell_type": "code",
   "execution_count": null,
   "metadata": {},
   "outputs": [],
   "source": [
    "# This part fo the code is unused now\n",
    "# But the displots can be useful for the report, so I keep it here\n",
    "\n",
    "if predicted:\n",
    "    if normalised:\n",
    "        xrange=[-1.8, 1.2]\n",
    "    else:\n",
    "        xrange=[0, 155]\n",
    "    bin_size=4\n",
    "else:\n",
    "    if normalised:\n",
    "        xrange=[-42,40]\n",
    "    else:\n",
    "        xrange=[0, 5.1]\n",
    "    bin_size=0.14\n",
    "\n",
    "# Raw plot with superposed exacerbation labels\n",
    "fig = px.scatter(O2_FEV1_processed, y=y, x=x, color=ex_column)\n",
    "# fig.update_layout(autosize=False, width=800, height=800)\n",
    "fig.update_traces(marker=dict(size=5),\n",
    "                  selector=dict(mode='markers'))\n",
    "# fig.show()\n",
    "# fig.write_image(\"{}/{}-{} by exacerbated labels superposed raw.pdf\".format(plotsdir, x, y))\n",
    "\n",
    "# Raw individual plot for each exacerbation label]\n",
    "fig_scatter = px.scatter(O2_FEV1_processed.dropna(), y=y, x=x,\n",
    "                 # color='Exacerbation Labels',\n",
    "                 facet_col=ex_column)\n",
    "fig_scatter.update_layout(autosize=False, width=1000, height=500)\n",
    "fig_scatter.update_traces(marker=dict(size=5),\n",
    "                  selector=dict(mode='markers'))\n",
    "# fig_scatter.update_xaxes(range=xrange)\n",
    "if not(normalised): fig_scatter.update_yaxes(range=[74, 102])\n",
    "# fig_scatter.show()\n",
    "# fig.write_image(\"{}/Ex labels {} {}-{} individual raw.pdf\".format(plotsdir, prefix, x, y), width=1300, height=400)\n",
    "\n",
    "def distplot(x, group_labels, bin_size):\n",
    "    data=[]\n",
    "    for exacerbation_label in group_labels:\n",
    "        mask = O2_FEV1_processed[ex_column] == exacerbation_label\n",
    "        data.append(O2_FEV1_processed[x][ mask ])\n",
    "        print(\"{} measurements with {} = {}\".format(sum(mask), ex_column, exacerbation_label))\n",
    "    fig = ff.create_distplot(data, group_labels, bin_size=bin_size, show_rug=False)\n",
    "    fig.update_xaxes(title_text=x)\n",
    "    fig.update_layout(autosize=False, width=1000, height=400)\n",
    "    return fig\n",
    "\n",
    "# Create distplot for x = lung function\n",
    "group_labels = [True, False] if with_predicted_labels else [\"Exacerbation Period\", \"Stable Period\"]\n",
    "fig_distplot_fev1 = distplot(x, group_labels, bin_size)\n",
    "fig_distplot_fev1.show()\n",
    "# fig.write_image(\"{}/Ex labels {} {} distplot.pdf\".format(plotsdir, prefix, x), width=1000, height=400)\n",
    "\n",
    "# Create distplot for y = O2 saturation\n",
    "group_labels = [True, False] if with_predicted_labels else [\"Exacerbation Period\", \"Stable Period\"]\n",
    "fig_displot_o2 = distplot(y, group_labels, 1)\n",
    "fig_displot_o2.show()\n",
    "# fig_displot_o2.write_image(\"{}/Ex labels {} {} distplot.pdf\".format(plotsdir, prefix, y), width=1000, height=400)"
   ]
  },
  {
   "cell_type": "markdown",
   "metadata": {},
   "source": [
    "## Patient level plots to validate or validate outliers down"
   ]
  },
  {
   "cell_type": "code",
   "execution_count": null,
   "metadata": {
    "collapsed": false
   },
   "outputs": [],
   "source": [
    "# O2-FEV1: Outliers down can happen, however if you are persistently getting low reading it means that it's not an outlier\n",
    "# Checking O2 sat stable period measurements outliers\n",
    "exacerbation_label = 'Stable Period'\n",
    "\n",
    "# Case 1:\n",
    "IDs = ['180', '202']\n",
    "o2_saturation_threshold = 87\n",
    "\n",
    "# Case 2: smoothed\n",
    "o2_saturation_threshold = 90\n",
    "\n",
    "# Plot\n",
    "ids = O2_FEV1_processed[ (O2_FEV1_processed['Exacerbation Labels'] == exacerbation_label) & (O2_FEV1_processed['O2 Saturation'] < o2_saturation_threshold) ].ID.unique()\n",
    "print(ids)\n",
    "for id in ids:\n",
    "    plot_o2_fev1_raw_for_id(O2_FEV1_processed, id, save=False, show=True)"
   ]
  },
  {
   "cell_type": "markdown",
   "metadata": {},
   "source": [
    "## How to smooth O2?"
   ]
  },
  {
   "cell_type": "code",
   "execution_count": null,
   "metadata": {
    "collapsed": false
   },
   "outputs": [],
   "source": [
    "# Plots O2 saturation against Date for a given patient id\n",
    "def plot_o2_saturation_for_id(df, id, plotsdir, save=False, show=False):\n",
    "    mask = df['ID'] == id\n",
    "    fig = px.scatter(df[mask], x='Date recorded', y='O2 Saturation')\n",
    "    fig.update_layout(autosize=False, width=1000, height=400)\n",
    "    fig.update_traces(marker=dict(size=5),\n",
    "                      selector=dict(mode='markers'))\n",
    "    if save:\n",
    "        fig.write_image(\"{}/O2 for ID/O2 saturation for ID {}.pdf\".format(plotsdir, id), width=1000, height=400)\n",
    "    if show:\n",
    "        fig.show()\n",
    "        \n",
    "# For each patient id, plot O2 saturation against Date recorded\n",
    "for id in O2_FEV1.ID.unique():\n",
    "    plot_o2_saturation_for_id(O2_FEV1, id, plotsdir, save=True, show=False)"
   ]
  },
  {
   "cell_type": "markdown",
   "metadata": {},
   "source": [
    "# Create Factor Functions\n",
    "We want the characterise the factor function that links the Unblocked FEV1 with its parents: Healthy FEV1 and Lung Damage. Here's a model of the relations betweeen those three varaibles: the unblocked FEV1 (L) of an individual is the healthy FEV1 (L), the theoretical lung function based on height, DOB, gdner, ethnicity (TBC exactly which), pejorated by the % in lung damage"
   ]
  },
  {
   "cell_type": "code",
   "execution_count": 58,
   "metadata": {},
   "outputs": [
    {
     "data": {
      "application/vnd.plotly.v1+json": {
       "config": {
        "plotlyServerURL": "https://plot.ly"
       },
       "data": [
        {
         "hovertemplate": "Healthy FEV1=%{x}<br>Unblocked FEV1=%{y}<extra></extra>",
         "legendgroup": "",
         "marker": {
          "color": "#636efa",
          "size": 5,
          "symbol": "circle"
         },
         "mode": "markers",
         "name": "",
         "orientation": "v",
         "showlegend": false,
         "type": "scatter",
         "x": [
          3.8,
          2.2,
          4,
          3.3,
          3.6,
          2.7,
          3.5,
          3.2,
          3.2,
          2.9,
          3.4,
          3.3,
          4.4,
          3.1,
          3,
          4.3,
          2.9,
          2.8,
          4,
          3.9,
          3.5,
          3.8,
          3.5,
          3,
          4.1,
          2.4,
          3.9,
          3.6,
          3.4,
          2.4,
          2.7,
          3.7,
          3.6,
          4.3,
          3.4,
          3.2,
          3.6,
          3.4,
          3.8,
          3.3,
          3.1,
          4.4,
          4.3,
          3.3,
          4.3,
          2.7,
          2.5,
          2.7,
          3.2,
          4.3,
          3.8,
          2.2,
          3,
          3.9,
          3.3,
          3.1,
          4.1,
          2.7,
          3.3,
          3.3,
          4.4,
          4.2,
          4.3,
          3.8,
          2.9,
          3.1,
          3.4,
          3,
          1.8,
          3.3,
          2.3,
          3,
          4.3,
          3.3,
          2.8,
          4.1,
          4.3,
          3.4,
          3.2,
          3.7,
          3.3,
          3.6,
          4.4,
          2.4,
          4.2,
          4.2,
          2.8,
          1.8,
          2.3,
          4.1,
          2.6,
          3.2,
          2.1,
          3,
          2.8,
          2.7,
          3,
          2.8,
          1.2,
          3.1,
          4.3,
          4.1,
          3.1,
          3.2,
          4.7,
          3.36,
          1.3,
          1.8,
          2.8,
          2.1,
          3.8,
          3.7,
          0.9,
          2,
          3.61,
          2.8,
          2.59,
          3,
          4.5,
          4.3,
          1.13,
          4.4,
          2,
          4.2,
          3.1,
          3,
          3,
          3.6,
          3.2,
          3.2,
          4,
          2.8,
          1,
          4.5,
          3.8,
          3.9,
          3,
          4.2,
          3.6,
          3.1,
          3.2
         ],
         "xaxis": "x",
         "y": [
          1.64,
          1.65,
          1.35,
          2.74,
          2.64,
          1.08,
          1.65,
          1.52,
          2.17,
          1.65,
          3.41,
          1.59,
          2.1,
          2.14,
          1.55,
          1.28,
          1.64,
          2.25,
          1.27,
          1.21,
          1.06,
          2.6,
          1.55,
          0.78,
          1.24,
          0.9,
          3.52,
          2.7,
          2.04,
          1.69,
          1.32,
          1.17,
          1.96,
          2.24,
          2.97,
          1.51,
          2.25,
          1.19,
          3.96,
          3.45,
          1.77,
          1.99,
          3.81,
          1.83,
          2.36,
          1.78,
          1.58,
          1.96,
          1.53,
          4.67,
          1.93,
          2.23,
          1.26,
          1.14,
          2.59,
          1.76,
          3.29,
          1.17,
          3.04,
          2.28,
          4.53,
          1.78,
          2.03,
          1.82,
          2.03,
          2.46,
          3.48,
          1.53,
          1.51,
          0.6900000000000001,
          2.14,
          1.41,
          3.96,
          2.37,
          1.36,
          2.04,
          2.37,
          2.08,
          3.17,
          2,
          2.23,
          0.95,
          1.38,
          2.21,
          3.41,
          0.81,
          2.42,
          1.71,
          0.94,
          2.83,
          0.91,
          1.57,
          1.85,
          1.31,
          1.19,
          1.35,
          0.8200000000000001,
          1.15,
          1.15,
          2.35,
          2.09,
          1.9,
          2.25,
          1.62,
          1.56,
          3.59,
          1.02,
          1.33,
          1.06,
          2.15,
          1.76,
          1.64,
          0.78,
          2.22,
          3.22,
          2.49,
          2.54,
          0.81,
          2.96,
          2.05,
          1.02,
          1.98,
          2.64,
          3.24,
          0.99,
          0.59,
          2.05,
          2.9,
          2.73,
          1.35,
          2.66,
          0.74,
          0.93,
          2.14,
          1.68,
          1.55,
          2.88,
          3.06,
          3.41,
          1.23,
          2.38
         ],
         "yaxis": "y"
        }
       ],
       "layout": {
        "annotations": [
         {
          "font": {
           "color": "Red",
           "size": 10
          },
          "showarrow": false,
          "text": "0%",
          "x": 4.7940000000000005,
          "y": 4.7
         },
         {
          "font": {
           "color": "Red",
           "size": 10
          },
          "showarrow": false,
          "text": "50%",
          "x": 4.7940000000000005,
          "y": 2.35
         }
        ],
        "autosize": false,
        "height": 400,
        "legend": {
         "tracegroupgap": 0
        },
        "margin": {
         "t": 60
        },
        "shapes": [
         {
          "line": {
           "color": "Red",
           "width": 0.5
          },
          "type": "line",
          "x0": 0.9,
          "x1": 4.7,
          "y0": 0.9,
          "y1": 4.7
         },
         {
          "line": {
           "color": "Red",
           "width": 0.5
          },
          "type": "line",
          "x0": 0.9,
          "x1": 4.7,
          "y0": 0.45,
          "y1": 2.35
         }
        ],
        "template": {
         "data": {
          "bar": [
           {
            "error_x": {
             "color": "#2a3f5f"
            },
            "error_y": {
             "color": "#2a3f5f"
            },
            "marker": {
             "line": {
              "color": "#E5ECF6",
              "width": 0.5
             },
             "pattern": {
              "fillmode": "overlay",
              "size": 10,
              "solidity": 0.2
             }
            },
            "type": "bar"
           }
          ],
          "barpolar": [
           {
            "marker": {
             "line": {
              "color": "#E5ECF6",
              "width": 0.5
             },
             "pattern": {
              "fillmode": "overlay",
              "size": 10,
              "solidity": 0.2
             }
            },
            "type": "barpolar"
           }
          ],
          "carpet": [
           {
            "aaxis": {
             "endlinecolor": "#2a3f5f",
             "gridcolor": "white",
             "linecolor": "white",
             "minorgridcolor": "white",
             "startlinecolor": "#2a3f5f"
            },
            "baxis": {
             "endlinecolor": "#2a3f5f",
             "gridcolor": "white",
             "linecolor": "white",
             "minorgridcolor": "white",
             "startlinecolor": "#2a3f5f"
            },
            "type": "carpet"
           }
          ],
          "choropleth": [
           {
            "colorbar": {
             "outlinewidth": 0,
             "ticks": ""
            },
            "type": "choropleth"
           }
          ],
          "contour": [
           {
            "colorbar": {
             "outlinewidth": 0,
             "ticks": ""
            },
            "colorscale": [
             [
              0,
              "#0d0887"
             ],
             [
              0.1111111111111111,
              "#46039f"
             ],
             [
              0.2222222222222222,
              "#7201a8"
             ],
             [
              0.3333333333333333,
              "#9c179e"
             ],
             [
              0.4444444444444444,
              "#bd3786"
             ],
             [
              0.5555555555555556,
              "#d8576b"
             ],
             [
              0.6666666666666666,
              "#ed7953"
             ],
             [
              0.7777777777777778,
              "#fb9f3a"
             ],
             [
              0.8888888888888888,
              "#fdca26"
             ],
             [
              1,
              "#f0f921"
             ]
            ],
            "type": "contour"
           }
          ],
          "contourcarpet": [
           {
            "colorbar": {
             "outlinewidth": 0,
             "ticks": ""
            },
            "type": "contourcarpet"
           }
          ],
          "heatmap": [
           {
            "colorbar": {
             "outlinewidth": 0,
             "ticks": ""
            },
            "colorscale": [
             [
              0,
              "#0d0887"
             ],
             [
              0.1111111111111111,
              "#46039f"
             ],
             [
              0.2222222222222222,
              "#7201a8"
             ],
             [
              0.3333333333333333,
              "#9c179e"
             ],
             [
              0.4444444444444444,
              "#bd3786"
             ],
             [
              0.5555555555555556,
              "#d8576b"
             ],
             [
              0.6666666666666666,
              "#ed7953"
             ],
             [
              0.7777777777777778,
              "#fb9f3a"
             ],
             [
              0.8888888888888888,
              "#fdca26"
             ],
             [
              1,
              "#f0f921"
             ]
            ],
            "type": "heatmap"
           }
          ],
          "heatmapgl": [
           {
            "colorbar": {
             "outlinewidth": 0,
             "ticks": ""
            },
            "colorscale": [
             [
              0,
              "#0d0887"
             ],
             [
              0.1111111111111111,
              "#46039f"
             ],
             [
              0.2222222222222222,
              "#7201a8"
             ],
             [
              0.3333333333333333,
              "#9c179e"
             ],
             [
              0.4444444444444444,
              "#bd3786"
             ],
             [
              0.5555555555555556,
              "#d8576b"
             ],
             [
              0.6666666666666666,
              "#ed7953"
             ],
             [
              0.7777777777777778,
              "#fb9f3a"
             ],
             [
              0.8888888888888888,
              "#fdca26"
             ],
             [
              1,
              "#f0f921"
             ]
            ],
            "type": "heatmapgl"
           }
          ],
          "histogram": [
           {
            "marker": {
             "pattern": {
              "fillmode": "overlay",
              "size": 10,
              "solidity": 0.2
             }
            },
            "type": "histogram"
           }
          ],
          "histogram2d": [
           {
            "colorbar": {
             "outlinewidth": 0,
             "ticks": ""
            },
            "colorscale": [
             [
              0,
              "#0d0887"
             ],
             [
              0.1111111111111111,
              "#46039f"
             ],
             [
              0.2222222222222222,
              "#7201a8"
             ],
             [
              0.3333333333333333,
              "#9c179e"
             ],
             [
              0.4444444444444444,
              "#bd3786"
             ],
             [
              0.5555555555555556,
              "#d8576b"
             ],
             [
              0.6666666666666666,
              "#ed7953"
             ],
             [
              0.7777777777777778,
              "#fb9f3a"
             ],
             [
              0.8888888888888888,
              "#fdca26"
             ],
             [
              1,
              "#f0f921"
             ]
            ],
            "type": "histogram2d"
           }
          ],
          "histogram2dcontour": [
           {
            "colorbar": {
             "outlinewidth": 0,
             "ticks": ""
            },
            "colorscale": [
             [
              0,
              "#0d0887"
             ],
             [
              0.1111111111111111,
              "#46039f"
             ],
             [
              0.2222222222222222,
              "#7201a8"
             ],
             [
              0.3333333333333333,
              "#9c179e"
             ],
             [
              0.4444444444444444,
              "#bd3786"
             ],
             [
              0.5555555555555556,
              "#d8576b"
             ],
             [
              0.6666666666666666,
              "#ed7953"
             ],
             [
              0.7777777777777778,
              "#fb9f3a"
             ],
             [
              0.8888888888888888,
              "#fdca26"
             ],
             [
              1,
              "#f0f921"
             ]
            ],
            "type": "histogram2dcontour"
           }
          ],
          "mesh3d": [
           {
            "colorbar": {
             "outlinewidth": 0,
             "ticks": ""
            },
            "type": "mesh3d"
           }
          ],
          "parcoords": [
           {
            "line": {
             "colorbar": {
              "outlinewidth": 0,
              "ticks": ""
             }
            },
            "type": "parcoords"
           }
          ],
          "pie": [
           {
            "automargin": true,
            "type": "pie"
           }
          ],
          "scatter": [
           {
            "fillpattern": {
             "fillmode": "overlay",
             "size": 10,
             "solidity": 0.2
            },
            "type": "scatter"
           }
          ],
          "scatter3d": [
           {
            "line": {
             "colorbar": {
              "outlinewidth": 0,
              "ticks": ""
             }
            },
            "marker": {
             "colorbar": {
              "outlinewidth": 0,
              "ticks": ""
             }
            },
            "type": "scatter3d"
           }
          ],
          "scattercarpet": [
           {
            "marker": {
             "colorbar": {
              "outlinewidth": 0,
              "ticks": ""
             }
            },
            "type": "scattercarpet"
           }
          ],
          "scattergeo": [
           {
            "marker": {
             "colorbar": {
              "outlinewidth": 0,
              "ticks": ""
             }
            },
            "type": "scattergeo"
           }
          ],
          "scattergl": [
           {
            "marker": {
             "colorbar": {
              "outlinewidth": 0,
              "ticks": ""
             }
            },
            "type": "scattergl"
           }
          ],
          "scattermapbox": [
           {
            "marker": {
             "colorbar": {
              "outlinewidth": 0,
              "ticks": ""
             }
            },
            "type": "scattermapbox"
           }
          ],
          "scatterpolar": [
           {
            "marker": {
             "colorbar": {
              "outlinewidth": 0,
              "ticks": ""
             }
            },
            "type": "scatterpolar"
           }
          ],
          "scatterpolargl": [
           {
            "marker": {
             "colorbar": {
              "outlinewidth": 0,
              "ticks": ""
             }
            },
            "type": "scatterpolargl"
           }
          ],
          "scatterternary": [
           {
            "marker": {
             "colorbar": {
              "outlinewidth": 0,
              "ticks": ""
             }
            },
            "type": "scatterternary"
           }
          ],
          "surface": [
           {
            "colorbar": {
             "outlinewidth": 0,
             "ticks": ""
            },
            "colorscale": [
             [
              0,
              "#0d0887"
             ],
             [
              0.1111111111111111,
              "#46039f"
             ],
             [
              0.2222222222222222,
              "#7201a8"
             ],
             [
              0.3333333333333333,
              "#9c179e"
             ],
             [
              0.4444444444444444,
              "#bd3786"
             ],
             [
              0.5555555555555556,
              "#d8576b"
             ],
             [
              0.6666666666666666,
              "#ed7953"
             ],
             [
              0.7777777777777778,
              "#fb9f3a"
             ],
             [
              0.8888888888888888,
              "#fdca26"
             ],
             [
              1,
              "#f0f921"
             ]
            ],
            "type": "surface"
           }
          ],
          "table": [
           {
            "cells": {
             "fill": {
              "color": "#EBF0F8"
             },
             "line": {
              "color": "white"
             }
            },
            "header": {
             "fill": {
              "color": "#C8D4E3"
             },
             "line": {
              "color": "white"
             }
            },
            "type": "table"
           }
          ]
         },
         "layout": {
          "annotationdefaults": {
           "arrowcolor": "#2a3f5f",
           "arrowhead": 0,
           "arrowwidth": 1
          },
          "autotypenumbers": "strict",
          "coloraxis": {
           "colorbar": {
            "outlinewidth": 0,
            "ticks": ""
           }
          },
          "colorscale": {
           "diverging": [
            [
             0,
             "#8e0152"
            ],
            [
             0.1,
             "#c51b7d"
            ],
            [
             0.2,
             "#de77ae"
            ],
            [
             0.3,
             "#f1b6da"
            ],
            [
             0.4,
             "#fde0ef"
            ],
            [
             0.5,
             "#f7f7f7"
            ],
            [
             0.6,
             "#e6f5d0"
            ],
            [
             0.7,
             "#b8e186"
            ],
            [
             0.8,
             "#7fbc41"
            ],
            [
             0.9,
             "#4d9221"
            ],
            [
             1,
             "#276419"
            ]
           ],
           "sequential": [
            [
             0,
             "#0d0887"
            ],
            [
             0.1111111111111111,
             "#46039f"
            ],
            [
             0.2222222222222222,
             "#7201a8"
            ],
            [
             0.3333333333333333,
             "#9c179e"
            ],
            [
             0.4444444444444444,
             "#bd3786"
            ],
            [
             0.5555555555555556,
             "#d8576b"
            ],
            [
             0.6666666666666666,
             "#ed7953"
            ],
            [
             0.7777777777777778,
             "#fb9f3a"
            ],
            [
             0.8888888888888888,
             "#fdca26"
            ],
            [
             1,
             "#f0f921"
            ]
           ],
           "sequentialminus": [
            [
             0,
             "#0d0887"
            ],
            [
             0.1111111111111111,
             "#46039f"
            ],
            [
             0.2222222222222222,
             "#7201a8"
            ],
            [
             0.3333333333333333,
             "#9c179e"
            ],
            [
             0.4444444444444444,
             "#bd3786"
            ],
            [
             0.5555555555555556,
             "#d8576b"
            ],
            [
             0.6666666666666666,
             "#ed7953"
            ],
            [
             0.7777777777777778,
             "#fb9f3a"
            ],
            [
             0.8888888888888888,
             "#fdca26"
            ],
            [
             1,
             "#f0f921"
            ]
           ]
          },
          "colorway": [
           "#636efa",
           "#EF553B",
           "#00cc96",
           "#ab63fa",
           "#FFA15A",
           "#19d3f3",
           "#FF6692",
           "#B6E880",
           "#FF97FF",
           "#FECB52"
          ],
          "font": {
           "color": "#2a3f5f"
          },
          "geo": {
           "bgcolor": "white",
           "lakecolor": "white",
           "landcolor": "#E5ECF6",
           "showlakes": true,
           "showland": true,
           "subunitcolor": "white"
          },
          "hoverlabel": {
           "align": "left"
          },
          "hovermode": "closest",
          "mapbox": {
           "style": "light"
          },
          "paper_bgcolor": "white",
          "plot_bgcolor": "#E5ECF6",
          "polar": {
           "angularaxis": {
            "gridcolor": "white",
            "linecolor": "white",
            "ticks": ""
           },
           "bgcolor": "#E5ECF6",
           "radialaxis": {
            "gridcolor": "white",
            "linecolor": "white",
            "ticks": ""
           }
          },
          "scene": {
           "xaxis": {
            "backgroundcolor": "#E5ECF6",
            "gridcolor": "white",
            "gridwidth": 2,
            "linecolor": "white",
            "showbackground": true,
            "ticks": "",
            "zerolinecolor": "white"
           },
           "yaxis": {
            "backgroundcolor": "#E5ECF6",
            "gridcolor": "white",
            "gridwidth": 2,
            "linecolor": "white",
            "showbackground": true,
            "ticks": "",
            "zerolinecolor": "white"
           },
           "zaxis": {
            "backgroundcolor": "#E5ECF6",
            "gridcolor": "white",
            "gridwidth": 2,
            "linecolor": "white",
            "showbackground": true,
            "ticks": "",
            "zerolinecolor": "white"
           }
          },
          "shapedefaults": {
           "line": {
            "color": "#2a3f5f"
           }
          },
          "ternary": {
           "aaxis": {
            "gridcolor": "white",
            "linecolor": "white",
            "ticks": ""
           },
           "baxis": {
            "gridcolor": "white",
            "linecolor": "white",
            "ticks": ""
           },
           "bgcolor": "#E5ECF6",
           "caxis": {
            "gridcolor": "white",
            "linecolor": "white",
            "ticks": ""
           }
          },
          "title": {
           "x": 0.05
          },
          "xaxis": {
           "automargin": true,
           "gridcolor": "white",
           "linecolor": "white",
           "ticks": "",
           "title": {
            "standoff": 15
           },
           "zerolinecolor": "white",
           "zerolinewidth": 2
          },
          "yaxis": {
           "automargin": true,
           "gridcolor": "white",
           "linecolor": "white",
           "ticks": "",
           "title": {
            "standoff": 15
           },
           "zerolinecolor": "white",
           "zerolinewidth": 2
          }
         }
        },
        "width": 1000,
        "xaxis": {
         "anchor": "y",
         "domain": [
          0,
          1
         ],
         "title": {
          "text": "Healthy FEV1"
         }
        },
        "yaxis": {
         "anchor": "x",
         "domain": [
          0,
          1
         ],
         "title": {
          "text": "Unblocked FEV1"
         }
        }
       }
      }
     },
     "metadata": {},
     "output_type": "display_data"
    }
   ],
   "source": [
    "# Factor function for unblocked FEV1\n",
    "\n",
    "df_unblocked_factor=pd.DataFrame(columns=['ID,', 'Unblocked FEV1', 'Healthy FEV1'])\n",
    "for id in O2_FEV1.ID.unique():\n",
    "  # For a given patient id, filter the FEV1 measurements\n",
    "  mask = O2_FEV1['ID'] == id\n",
    "  O2_FEV1_patient = O2_FEV1[mask]\n",
    "  # Find the unblocked FEV1. We assume that, over the 6 months study period, the patient has done some measurements where he was not blocked\n",
    "  # To avoid taking an outlier up, which is third highest FEV1 measurement\n",
    "  rmax=O2_FEV1_patient['FEV1'].nlargest(3).iloc[-1]\n",
    "  # Get the theoretical healthy FEV1\n",
    "  healthy_fev1=O2_FEV1_patient['FEV1 Set As'].iloc[0]\n",
    "  # Add the patient id, reversed max FEV1 and healthy FEV1 to the dataframe\n",
    "  new_row = pd.DataFrame({'ID': [id], 'Unblocked FEV1': [rmax], 'Healthy FEV1': [healthy_fev1]})\n",
    "  df_unblocked_factor = pd.concat([df_unblocked_factor, new_row])\n",
    "\n",
    "\n",
    "def add_lung_damage(fig, df, lung_damage_prct):\n",
    "  xmax=df['Healthy FEV1'].max(); xmin=df['Healthy FEV1'].min()\n",
    "  a=1-lung_damage_prct/100\n",
    "  fig.add_shape(type=\"line\", x0=xmin, y0=a*xmin, x1=xmax, y1=a*xmax, line=dict(color=\"Red\", width=0.5))\n",
    "  # Add line legend for no lung damage\n",
    "  fig.add_annotation(x=1.02*xmax, y=a*xmax, text=\"{}%\".format(lung_damage_prct), showarrow=False, font=dict(size=10, color=\"Red\"))\n",
    "\n",
    "# Plot a scatter of unblocked FEV1 against healthy FEV1\n",
    "fig = px.scatter(df_unblocked_factor, x='Healthy FEV1', y='Unblocked FEV1')\n",
    "add_lung_damage(fig, df_unblocked_factor, 0)\n",
    "add_lung_damage(fig, df_unblocked_factor, 50)\n",
    "fig.update_layout(autosize=False, width=1000, height=400)\n",
    "fig.update_traces(marker=dict(size=5),\n",
    "                  selector=dict(mode='markers'))\n",
    "fig.show()\n",
    "# Save figure\n",
    "fig.write_image(\"{}/Unblocked FEV1 vs Healthy FEV1.pdf\".format(plotsdir), width=1000, height=400)"
   ]
  },
  {
   "cell_type": "code",
   "execution_count": null,
   "metadata": {},
   "outputs": [],
   "source": []
  }
 ],
 "metadata": {
  "kernelspec": {
   "display_name": "Python 3.10.0 ('phd')",
   "language": "python",
   "name": "python3"
  },
  "language_info": {
   "codemirror_mode": {
    "name": "ipython",
    "version": 3
   },
   "file_extension": ".py",
   "mimetype": "text/x-python",
   "name": "python",
   "nbconvert_exporter": "python",
   "pygments_lexer": "ipython3",
   "version": "3.10.0"
  },
  "vscode": {
   "interpreter": {
    "hash": "ffc9e18892ee3b9cbe53b18b7d355cfce0a42ae1aa2d5f5ea7529610a7030618"
   }
  }
 },
 "nbformat": 4,
 "nbformat_minor": 0
}
