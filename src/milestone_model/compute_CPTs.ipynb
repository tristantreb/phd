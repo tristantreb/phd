{
 "cells": [
  {
   "attachments": {},
   "cell_type": "markdown",
   "metadata": {},
   "source": [
    "Compute the CPT for the FEV1, Unblocked FEV1, % Airway Blockage factor function\n",
    "\n",
    "We'll apply what we've learned in uniform_x_uniform.ipynb to compute the CPT for the factor function which is the joint probability density function $f_{FEV_1}(Unblocked\\ FEV1, \\%Small\\ Airway\\ Blockage)$ "
   ]
  },
  {
   "cell_type": "code",
   "execution_count": 3,
   "metadata": {},
   "outputs": [],
   "source": [
    "import numpy as np\n",
    "import pandas as pd\n",
    "import scipy.integrate as integrate\n",
    "import matplotlib.pyplot as plt\n",
    "import bp"
   ]
  },
  {
   "attachments": {},
   "cell_type": "markdown",
   "metadata": {},
   "source": [
    "### Visualise sampling/closed form solutions"
   ]
  },
  {
   "cell_type": "code",
   "execution_count": 15,
   "metadata": {},
   "outputs": [
    {
     "data": {
      "image/png": "[encoded data removed]",
      "text/plain": [
       "<Figure size 432x288 with 1 Axes>"
      ]
     },
     "metadata": {
      "needs_background": "light"
     },
     "output_type": "display_data"
    }
   ],
   "source": [
    "u1 = 2.9\n",
    "u2 = 3.0\n",
    "b1 = 0.1\n",
    "b2 = 0.2\n",
    "s1 = 1 - b2\n",
    "s2 = 1 - b1\n",
    "# s1 = 0.4\n",
    "# s2 = 0.6\n",
    "# b2 = 1 - s1\n",
    "# b1 = 1 - s2\n",
    "\n",
    "fev1_bins = np.arange(u1 * b1, u2 * b2, 0.002)\n",
    "\n",
    "\n",
    "# Sampling solution: generate a set of unblocked FEV1 and % Small Airway blockage and their corresponding FEV1 values\n",
    "fev1_samples = bp.generate_fev1_sample(u1, u2, s1, s2)[\"FEV1\"]\n",
    "# Histogram up the sample values into fev1_bins\n",
    "hist, bins = np.histogram(fev1_samples, bins=fev1_bins)\n",
    "# Normalize the histogram\n",
    "hist_norm = hist / len(fev1_samples)\n",
    "\n",
    "\n",
    "# Closed form solution\n",
    "fev1_hist = []\n",
    "for i in range(0, len(fev1_bins) - 1):\n",
    "    fev1_low = fev1_bins[i]\n",
    "    fev1_up = fev1_bins[i + 1]\n",
    "\n",
    "    # val, abserr = integrate.quad(bp.p_fev1, fev1_low, fev1_up, args=(u1, u2, b1, b2))\n",
    "    val, abserr = integrate.quad(bp.p_fev1, fev1_low, fev1_up, args=(b1, b2, u1, u2))\n",
    "    fev1_hist.append(val)\n",
    "\n",
    "\n",
    "# Plot the histogram\n",
    "plt.plot(fev1_bins[:-1], fev1_hist, \"r\")\n",
    "plt.bar(bins[:-1], hist_norm, width=0.002)\n",
    "# Set y label to Probability Density Function, set x label to FEV1 (L)\n",
    "plt.title(\n",
    "    \"Conditional PDF of FEV1\\ngiven Unblocked FEV1 ~U({}, {})\\nand % Small Airway blockage ~U({}, {})\".format(\n",
    "        u1, u2, s1, s2\n",
    "    )\n",
    ")\n",
    "plt.ylabel(\"p\")\n",
    "plt.xlabel(\"FEV1 (L)\")\n",
    "plt.show()"
   ]
  },
  {
   "attachments": {},
   "cell_type": "markdown",
   "metadata": {},
   "source": [
    "### Compute CPT from sampling\n",
    "\n",
    "Since we don't know how to do inference on continuous probability distributions, we need discretize the above model and compute the CPT.\n",
    "\n",
    "Here's how to discretise the model by sampling\n",
    "1. Define bins for each variable\n",
    "2. Add up the bin to which the variable corresponds to\n",
    "3. Group by the same set of inputs, and outputs and count the number of occurences of each groups\n",
    "4. Normalize by the total amount of occurences. \n",
    "\n",
    "The CPT has three dimensions. For each possible set of bins, it will associate a probability.\n",
    "\n",
    "Knowing that $P(x \\in FEV_1\\ bin) = \\frac{\\#FEV_1\\ bin\\ outcomes}{\\#outcomes}$, we can agglomerate the sample values into bins (i.e. histogram up) and use the bin counts to estimate the CPT of FEV1, Unblocked FEV1, and % Small Airway blockage"
   ]
  },
  {
   "cell_type": "code",
   "execution_count": null,
   "metadata": {},
   "outputs": [],
   "source": [
    "# Given a value and an array of bins, this returns the bin that the value falls into\n",
    "def get_bin_for_value(value, bins):\n",
    "    hist, bins = np.histogram(value, bins=bins)\n",
    "    if value == bins[-1]:\n",
    "        return \"not allowed\"\n",
    "\n",
    "    idx = np.where(hist == 1)[0].item()\n",
    "    lower_idx = bins[idx].item()\n",
    "    upper_idx = bins[idx + 1].item()\n",
    "    return \"[{}; {}[\".format(lower_idx, upper_idx)"
   ]
  },
  {
   "cell_type": "code",
   "execution_count": null,
   "metadata": {},
   "outputs": [],
   "source": [
    "# df_binned_sampled = bp.generate_fev1_sample(10000)\n",
    "\n",
    "# # We must use range, and then convert to floats, otherwise we end up with 0.1, 0.2, 0.30000000000000004, etc.\n",
    "# # 2.0-2.2, 2.2-2.4, 2.4-2.6, etc.\n",
    "# bins_unblocked_fev1 = [x / 10 for x in range(20, 60 + 1, 20)]\n",
    "# # 0-10%, 10-20%, 20-30%, etc.\n",
    "# bins_small_airway_blockage = [x / 10 for x in range(0, 10 + 1, 2)]\n",
    "# # 0.0-0.2, 0.2-0.4, 0.4-0.6, etc.\n",
    "# bins_fev1 = [x / 10 for x in range(0, 60 + 1, 20)]\n",
    "\n",
    "# df_binned_sampled[\"Unblocked FEV1 bin\"] = df_binned_sampled[\"Unblocked FEV1\"].apply(\n",
    "#     lambda x: get_bin_for_value(x, bins_unblocked_fev1)\n",
    "# )\n",
    "# df_binned_sampled[\"Small airway blockage bin\"] = df_binned_sampled[\n",
    "#     \"Small airway blockage\"\n",
    "# ].apply(lambda x: get_bin_for_value(x, bins_small_airway_blockage))\n",
    "# df_binned_sampled[\"FEV1 bin\"] = df_binned_sampled[\"FEV1\"].apply(\n",
    "#     lambda x: get_bin_for_value(x, bins_fev1)\n",
    "# )"
   ]
  },
  {
   "cell_type": "code",
   "execution_count": null,
   "metadata": {},
   "outputs": [],
   "source": [
    "# df_cpt = (\n",
    "#     df_binned_sampled.groupby(\n",
    "#         [\"Unblocked FEV1 bin\", \"Small airway blockage bin\", \"FEV1 bin\"]\n",
    "#     )\n",
    "#     .size()\n",
    "#     .reset_index(name=\"count\")\n",
    "# )\n",
    "# df_cpt[\"p\"] = df_cpt.apply(lambda x: x[\"count\"] / len(df_binned_sampled), axis=1)"
   ]
  },
  {
   "attachments": {},
   "cell_type": "markdown",
   "metadata": {},
   "source": [
    "\n",
    "Main issues: creating the CPTs by sampling \n",
    "* Takes an gigantic amount of time: 40s to generate\n",
    "* Is inaccurate. Under the previous settings, the sets of unique inputs/outpus has 9k elements\n"
   ]
  },
  {
   "attachments": {},
   "cell_type": "markdown",
   "metadata": {},
   "source": [
    "### Compute the CPT from closed form\n",
    "* variable node message: column vector\n",
    "* factor node message: column vector\n",
    "* CPT: matrix (childs, parents)\n",
    "\n",
    "In Pandas' dot product `df.dot(other) or df @ other`, other can be a dataframe, a series, an np.array.\n",
    "\n",
    "Pandas vs NumPy: Pandas is more user-friendly, but NumPy is faster. Pandas has a lot more options for handling missing data, but NumPy has better performance on large datasets.\n",
    "\n",
    "Flow to create the CPT(childs, parents)\n",
    "1. Create a list of bins for the child variables, and for the parent variables\n",
    "2. Using the dimensions for this list, generate the CPT matrix\n",
    "3. Fill the matrix with the values from the closed form solution"
   ]
  },
  {
   "cell_type": "code",
   "execution_count": 2,
   "metadata": {},
   "outputs": [],
   "source": [
    "# Define the variables\n",
    "unblocked_fev1 = bp.variableNode(\"Unblocked FEV1\", 2, 6, 0.2)\n",
    "small_airway_blockage = bp.variableNode(\"Small airway blockage\", 0, 1, 0.1)\n",
    "fev1 = bp.variableNode(\"FEV1\", 0, 6, 0.2)\n",
    "\n",
    "# bp.calc_cpt(unblocked_fev1, small_airway_blockage, fev1)"
   ]
  },
  {
   "attachments": {},
   "cell_type": "markdown",
   "metadata": {},
   "source": [
    "#### Validate CPT from closed form"
   ]
  },
  {
   "cell_type": "code",
   "execution_count": 1,
   "metadata": {},
   "outputs": [],
   "source": [
    "from pgmpy.models import BayesianNetwork\n",
    "from pgmpy.factors.discrete import TabularCPD\n",
    "from pgmpy.inference import BeliefPropagation"
   ]
  },
  {
   "cell_type": "code",
   "execution_count": 4,
   "metadata": {},
   "outputs": [],
   "source": [
    "U = bp.variableNode(\"Unblocked FEV1\", 2, 6, 0.1)\n",
    "C = bp.variableNode(\"Small airway clearance\", 0.1, 1, 0.1)\n",
    "FEV1 = bp.variableNode(\"FEV1\", 0.2, 6, 0.1)"
   ]
  },
  {
   "cell_type": "code",
   "execution_count": 7,
   "metadata": {},
   "outputs": [
    {
     "name": "stdout",
     "output_type": "stream",
     "text": [
      "calculating cpt of shape 58 x 40 x 9 (C x A x B) \n",
      "calculating cpt of shape 58 x 40 x 9 (C x A x B) \n"
     ]
    }
   ],
   "source": [
    "# Validate the CPT with 2 examples\n",
    "\n",
    "cpt = bp.calc_cpt(U, C, FEV1)\n",
    "cpt2d = bp.calc_pgmpy_cpt(U, C, FEV1)"
   ]
  },
  {
   "attachments": {},
   "cell_type": "markdown",
   "metadata": {},
   "source": [
    "U: 2-2.1\n",
    "\n",
    "C: 0.1-0.2\n",
    "\n",
    "F: 0.2-0.42; intersects 0.2-0.3, 0.3-0.4, 0.4-0.5 with the two first bins almost equiprobable and the last one with a low p => correct!"
   ]
  },
  {
   "cell_type": "code",
   "execution_count": 6,
   "metadata": {},
   "outputs": [
    {
     "data": {
      "text/plain": [
       "array([0.46370493, 0.48790164, 0.04839343, 0.        , 0.        ,\n",
       "       0.        , 0.        , 0.        , 0.        , 0.        ,\n",
       "       0.        , 0.        , 0.        , 0.        , 0.        ,\n",
       "       0.        , 0.        , 0.        , 0.        , 0.        ,\n",
       "       0.        , 0.        , 0.        , 0.        , 0.        ,\n",
       "       0.        , 0.        , 0.        , 0.        , 0.        ,\n",
       "       0.        , 0.        , 0.        , 0.        , 0.        ,\n",
       "       0.        , 0.        , 0.        , 0.        , 0.        ,\n",
       "       0.        , 0.        , 0.        , 0.        , 0.        ,\n",
       "       0.        , 0.        , 0.        , 0.        , 0.        ,\n",
       "       0.        , 0.        , 0.        , 0.        , 0.        ,\n",
       "       0.        , 0.        , 0.        ])"
      ]
     },
     "execution_count": 6,
     "metadata": {},
     "output_type": "execute_result"
    }
   ],
   "source": [
    "cpt[:,0,0]"
   ]
  },
  {
   "cell_type": "code",
   "execution_count": 9,
   "metadata": {},
   "outputs": [
    {
     "data": {
      "text/plain": [
       "array([0.46370493, 0.48790164, 0.04839343, 0.        , 0.        ,\n",
       "       0.        , 0.        , 0.        , 0.        , 0.        ,\n",
       "       0.        , 0.        , 0.        , 0.        , 0.        ,\n",
       "       0.        , 0.        , 0.        , 0.        , 0.        ,\n",
       "       0.        , 0.        , 0.        , 0.        , 0.        ,\n",
       "       0.        , 0.        , 0.        , 0.        , 0.        ,\n",
       "       0.        , 0.        , 0.        , 0.        , 0.        ,\n",
       "       0.        , 0.        , 0.        , 0.        , 0.        ,\n",
       "       0.        , 0.        , 0.        , 0.        , 0.        ,\n",
       "       0.        , 0.        , 0.        , 0.        , 0.        ,\n",
       "       0.        , 0.        , 0.        , 0.        , 0.        ,\n",
       "       0.        , 0.        , 0.        ])"
      ]
     },
     "execution_count": 9,
     "metadata": {},
     "output_type": "execute_result"
    }
   ],
   "source": [
    "cpt2d[:,0]"
   ]
  },
  {
   "attachments": {},
   "cell_type": "markdown",
   "metadata": {},
   "source": [
    "U: 4.5-4.6 => idx 25 (2-2.1 = 0, 2.1-2.2 = 1)\n",
    "\n",
    "C: 0.7-0.8 => idx 6 (0.1-0.2 = 0, 0.2-0.3 = 1)\n",
    "\n",
    "F: 3.15-3.68; intersects 3.1-3.2 (half), 3.2-3.3 ... 3.5-3.6, 3.6-3.7 (80% of this interval).\n",
    "\n",
    "0.2-0.3 = 0, 0.3-0.4 = 1 => do -2\n",
    "\n",
    "F: 0.2-6 => the cpt is non null for 6 bins, from idx 29 to 29+5=34"
   ]
  },
  {
   "cell_type": "code",
   "execution_count": 39,
   "metadata": {},
   "outputs": [
    {
     "data": {
      "text/plain": [
       "array([0.        , 0.        , 0.        , 0.        , 0.        ,\n",
       "       0.        , 0.        , 0.        , 0.        , 0.        ,\n",
       "       0.        , 0.        , 0.        , 0.        , 0.        ,\n",
       "       0.        , 0.        , 0.        , 0.        , 0.        ,\n",
       "       0.        , 0.        , 0.        , 0.        , 0.        ,\n",
       "       0.        , 0.        , 0.        , 0.        , 0.03947423,\n",
       "       0.21356499, 0.21978907, 0.21978907, 0.21978907, 0.08759358,\n",
       "       0.        , 0.        , 0.        , 0.        , 0.        ,\n",
       "       0.        , 0.        , 0.        , 0.        , 0.        ,\n",
       "       0.        , 0.        , 0.        , 0.        , 0.        ,\n",
       "       0.        , 0.        , 0.        , 0.        , 0.        ,\n",
       "       0.        , 0.        , 0.        ])"
      ]
     },
     "execution_count": 39,
     "metadata": {},
     "output_type": "execute_result"
    }
   ],
   "source": [
    "cpt[:,25,6]"
   ]
  },
  {
   "cell_type": "code",
   "execution_count": 18,
   "metadata": {},
   "outputs": [
    {
     "data": {
      "text/plain": [
       "array([0.        , 0.        , 0.        , 0.        , 0.        ,\n",
       "       0.        , 0.        , 0.        , 0.        , 0.        ,\n",
       "       0.        , 0.        , 0.        , 0.        , 0.        ,\n",
       "       0.        , 0.        , 0.        , 0.        , 0.        ,\n",
       "       0.        , 0.        , 0.        , 0.        , 0.        ,\n",
       "       0.        , 0.        , 0.        , 0.        , 0.03947423,\n",
       "       0.21356499, 0.21978907, 0.21978907, 0.21978907, 0.08759358,\n",
       "       0.        , 0.        , 0.        , 0.        , 0.        ,\n",
       "       0.        , 0.        , 0.        , 0.        , 0.        ,\n",
       "       0.        , 0.        , 0.        , 0.        , 0.        ,\n",
       "       0.        , 0.        , 0.        , 0.        , 0.        ,\n",
       "       0.        , 0.        , 0.        ])"
      ]
     },
     "execution_count": 18,
     "metadata": {},
     "output_type": "execute_result"
    }
   ],
   "source": [
    "cpt2d[:,6*(len(U.bins)-1)+25]"
   ]
  },
  {
   "attachments": {},
   "cell_type": "markdown",
   "metadata": {},
   "source": [
    "### Validate that the queries work\n"
   ]
  },
  {
   "cell_type": "code",
   "execution_count": 24,
   "metadata": {},
   "outputs": [
    {
     "data": {
      "text/plain": [
       "True"
      ]
     },
     "execution_count": 24,
     "metadata": {},
     "output_type": "execute_result"
    }
   ],
   "source": [
    "# Build graph\n",
    "graph = BayesianNetwork([(U.name, FEV1.name), (C.name, FEV1.name)])\n",
    "\n",
    "cpt_fev1 = TabularCPD(\n",
    "    variable=FEV1.name,\n",
    "    variable_card=len(FEV1.bins) - 1,\n",
    "    values=cpt2d.tolist(),\n",
    "    evidence=[C.name, U.name],\n",
    "    evidence_card=[len(C.bins) - 1, len(U.bins) - 1],\n",
    ")\n",
    "\n",
    "prior_c = TabularCPD(\n",
    "    variable=C.name,\n",
    "    variable_card=len(C.bins) - 1,\n",
    "    values=C.marginal(C),\n",
    "    evidence=[],\n",
    "    evidence_card=[],\n",
    ")\n",
    "\n",
    "prior_u = TabularCPD(\n",
    "    variable=U.name,\n",
    "    variable_card=len(U.bins) - 1,\n",
    "    values=U.marginal(U),\n",
    "    evidence=[],\n",
    "    evidence_card=[],\n",
    ")\n",
    "\n",
    "graph.add_cpds(cpt_fev1, prior_c, prior_u)\n",
    "\n",
    "graph.check_model()"
   ]
  },
  {
   "attachments": {},
   "cell_type": "markdown",
   "metadata": {},
   "source": [
    "We observe FEV1 in idx = 0, i.e. in the 0.2-0.3 L bin\n",
    "\n",
    "We want to infer back Unblocked FEV1 and Small Airway Clearance\n",
    "\n",
    "What are all sets of parents C and U that give 0.2-0.3 of FEV1?\n",
    "\n",
    "U: 2-2.1\\\n",
    "C: 0.1-0.2 => F: 0.2-0.42 => works\\\n",
    "C: 0.2-0.3 => F: 0.4-... => to high\n",
    "\n",
    "U: 2.1-2.2\\\n",
    "C: 0.1-0.2 => F: 0.21-0.44 => works\n",
    "\n",
    "...\n",
    "\n",
    "U: 2.9-3.0\\\n",
    "C: 0.1-0.2 => F: 0.29-0.6 => works\n",
    "\n",
    "U: 3.0-3.1\\\n",
    "C: 0.1-0.2 => F: 0.3-... => point integral => p=0\n",
    "\n",
    "For U: P should be non zero for 2-2.9 => 10 first elements\\\n",
    "For C: P([0.1-0.2]) = 1, all other values of C are too high"
   ]
  },
  {
   "cell_type": "code",
   "execution_count": 43,
   "metadata": {},
   "outputs": [
    {
     "data": {
      "application/vnd.jupyter.widget-view+json": {
       "model_id": "96871f7c39b3481ba50e6c6c4a3f00d9",
       "version_major": 2,
       "version_minor": 0
      },
      "text/plain": [
       "  0%|          | 0/1 [00:00<?, ?it/s]"
      ]
     },
     "metadata": {},
     "output_type": "display_data"
    },
    {
     "name": "stdout",
     "output_type": "stream",
     "text": [
      "shape of the response (40,)\n"
     ]
    },
    {
     "data": {
      "text/plain": [
       "array([0.21428602, 0.18281378, 0.15414052, 0.12790869, 0.10381917,\n",
       "       0.08161978, 0.06109644, 0.04206622, 0.02437187, 0.0078775 ,\n",
       "       0.        , 0.        , 0.        , 0.        , 0.        ,\n",
       "       0.        , 0.        , 0.        , 0.        , 0.        ,\n",
       "       0.        , 0.        , 0.        , 0.        , 0.        ,\n",
       "       0.        , 0.        , 0.        , 0.        , 0.        ,\n",
       "       0.        , 0.        , 0.        , 0.        , 0.        ,\n",
       "       0.        , 0.        , 0.        , 0.        , 0.        ])"
      ]
     },
     "execution_count": 43,
     "metadata": {},
     "output_type": "execute_result"
    }
   ],
   "source": [
    "bp = BeliefPropagation(graph)\n",
    "res = bp.query(variables=[U.name], evidence={FEV1.name: 0})\n",
    "print(f\"shape of the response {res.values.shape}\")\n",
    "res.values\n"
   ]
  },
  {
   "cell_type": "code",
   "execution_count": 39,
   "metadata": {},
   "outputs": [
    {
     "data": {
      "application/vnd.jupyter.widget-view+json": {
       "model_id": "adfacd93fb044c3ba40833f49911dae1",
       "version_major": 2,
       "version_minor": 0
      },
      "text/plain": [
       "  0%|          | 0/1 [00:00<?, ?it/s]"
      ]
     },
     "metadata": {},
     "output_type": "display_data"
    },
    {
     "name": "stdout",
     "output_type": "stream",
     "text": [
      "shape of the response (9,)\n"
     ]
    },
    {
     "data": {
      "text/plain": [
       "array([1., 0., 0., 0., 0., 0., 0., 0., 0.])"
      ]
     },
     "execution_count": 39,
     "metadata": {},
     "output_type": "execute_result"
    }
   ],
   "source": [
    "bp = BeliefPropagation(graph)\n",
    "res = bp.query(variables=[C.name], evidence={FEV1.name: 0})\n",
    "print(f\"shape of the response {res.values.shape}\")\n",
    "res.values"
   ]
  },
  {
   "attachments": {},
   "cell_type": "markdown",
   "metadata": {},
   "source": [
    "We observe FEV1 in idx = 25, i.e. in the 2.7-2.8 L bin\n",
    "\n",
    "We want to infer back Unblocked FEV1 and Small Airway Clearance\n",
    "\n",
    "What are all sets of parents C and U that give 0.2-0.3 of FEV1?\n",
    "\n",
    "First bin of U with non zero probability is U: 2.7-2.8 L => index 7\n",
    "C: 0.9-1 => F: 2.43-2.8 L => inside 2.7-2.8 L\n",
    "\n",
    "U: 2.8-2.9\n",
    "C: 0.9-1 => F: 2.52-2.9 L => works\n",
    "C: 0.8-0.9 => outside\n",
    "\n",
    "U: 3-3.1 => same as above\n",
    "\n",
    "First bin of U that can provide outcomes in F for C: 0.8-0.9, U: 2.7/0.9=3 => 3-3.1\n",
    "C: 0.9-1 => F: 2.7-3.1 => works\n",
    "C: 0.8-0.9 => F: 2.4-2.79 => works \n",
    "C: 0.7-0.8 => outside\n",
    "\n",
    "Last bin that has non zero probability is U: 5.9-6\n",
    "C: 0.4-0.5 => F: 2.36-3 L => works\n",
    "\n",
    "For U: P should be non zero from idx 7 and above => from element 8 to end\n",
    "For C: P should be non zero starting from 0.4-0.5 up to all the rest => from element 4 (idx 3) to end "
   ]
  },
  {
   "cell_type": "code",
   "execution_count": 44,
   "metadata": {},
   "outputs": [
    {
     "data": {
      "application/vnd.jupyter.widget-view+json": {
       "model_id": "f5bae341580741b3a4160b23527197fd",
       "version_major": 2,
       "version_minor": 0
      },
      "text/plain": [
       "  0%|          | 0/1 [00:00<?, ?it/s]"
      ]
     },
     "metadata": {},
     "output_type": "display_data"
    },
    {
     "name": "stdout",
     "output_type": "stream",
     "text": [
      "shape of the response (40,)\n"
     ]
    },
    {
     "data": {
      "text/plain": [
       "array([0.        , 0.        , 0.        , 0.        , 0.        ,\n",
       "       0.        , 0.        , 0.02316495, 0.04497655, 0.04345163,\n",
       "       0.04202672, 0.04069231, 0.03944004, 0.03826255, 0.03715333,\n",
       "       0.03610662, 0.03511727, 0.0341807 , 0.03329279, 0.03244984,\n",
       "       0.03164853, 0.03088584, 0.03015904, 0.02946567, 0.02880346,\n",
       "       0.02817037, 0.02756451, 0.02698416, 0.02642774, 0.02589381,\n",
       "       0.02538103, 0.02488816, 0.02441408, 0.02395771, 0.02351809,\n",
       "       0.02309432, 0.02268555, 0.022291  , 0.02190994, 0.02154169])"
      ]
     },
     "execution_count": 44,
     "metadata": {},
     "output_type": "execute_result"
    }
   ],
   "source": [
    "bp = BeliefPropagation(graph)\n",
    "res = bp.query(variables=[U.name], evidence={FEV1.name: 25})\n",
    "print(f\"shape of the response {res.values.shape}\")\n",
    "res.values\n"
   ]
  },
  {
   "cell_type": "code",
   "execution_count": 45,
   "metadata": {},
   "outputs": [
    {
     "data": {
      "application/vnd.jupyter.widget-view+json": {
       "model_id": "414f7c4ddb7e4ecfbab7badd9b4a7de1",
       "version_major": 2,
       "version_minor": 0
      },
      "text/plain": [
       "  0%|          | 0/1 [00:00<?, ?it/s]"
      ]
     },
     "metadata": {},
     "output_type": "display_data"
    },
    {
     "name": "stdout",
     "output_type": "stream",
     "text": [
      "shape of the response (9,)\n"
     ]
    },
    {
     "data": {
      "text/plain": [
       "array([0.        , 0.        , 0.        , 0.11159312, 0.23368158,\n",
       "       0.19757496, 0.17114721, 0.15096254, 0.13504059])"
      ]
     },
     "execution_count": 45,
     "metadata": {},
     "output_type": "execute_result"
    }
   ],
   "source": [
    "bp = BeliefPropagation(graph)\n",
    "res = bp.query(variables=[C.name], evidence={FEV1.name: 25})\n",
    "print(f\"shape of the response {res.values.shape}\")\n",
    "res.values"
   ]
  },
  {
   "attachments": {},
   "cell_type": "markdown",
   "metadata": {},
   "source": [
    "### Reshape 3d cpt into 2d cpt\n",
    "‘F’ means to read / write the elements using Fortran-like index order, with the first index changing fastest, and the last index changing slowest."
   ]
  },
  {
   "cell_type": "code",
   "execution_count": 47,
   "metadata": {},
   "outputs": [
    {
     "data": {
      "text/plain": [
       "(58, 40, 9)"
      ]
     },
     "execution_count": 47,
     "metadata": {},
     "output_type": "execute_result"
    }
   ],
   "source": [
    "cpt.shape"
   ]
  },
  {
   "cell_type": "code",
   "execution_count": 48,
   "metadata": {},
   "outputs": [
    {
     "data": {
      "text/plain": [
       "(58, 360)"
      ]
     },
     "execution_count": 48,
     "metadata": {},
     "output_type": "execute_result"
    }
   ],
   "source": [
    "cpt2d.shape"
   ]
  },
  {
   "cell_type": "code",
   "execution_count": 63,
   "metadata": {},
   "outputs": [],
   "source": [
    "pgmpy_cpt = np.reshape(cpt,(58,360), order=\"F\")"
   ]
  },
  {
   "cell_type": "code",
   "execution_count": 69,
   "metadata": {},
   "outputs": [
    {
     "data": {
      "text/plain": [
       "True"
      ]
     },
     "execution_count": 69,
     "metadata": {},
     "output_type": "execute_result"
    }
   ],
   "source": [
    "(pgmpy_cpt == cpt2d).all()"
   ]
  }
 ],
 "metadata": {
  "kernelspec": {
   "display_name": "phd",
   "language": "python",
   "name": "python3"
  },
  "language_info": {
   "codemirror_mode": {
    "name": "ipython",
    "version": 3
   },
   "file_extension": ".py",
   "mimetype": "text/x-python",
   "name": "python",
   "nbconvert_exporter": "python",
   "pygments_lexer": "ipython3",
   "version": "3.10.0"
  },
  "orig_nbformat": 4,
  "vscode": {
   "interpreter": {
    "hash": "ffc9e18892ee3b9cbe53b18b7d355cfce0a42ae1aa2d5f5ea7529610a7030618"
   }
  }
 },
 "nbformat": 4,
 "nbformat_minor": 2
}
