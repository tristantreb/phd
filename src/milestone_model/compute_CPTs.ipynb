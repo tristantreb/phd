{
 "cells": [
  {
   "attachments": {},
   "cell_type": "markdown",
   "metadata": {},
   "source": [
    "Compute the CPT for the FEV1, Unblocked FEV1, % Airway Blockage factor function\n",
    "\n",
    "We'll apply what we've learned in uniform_x_uniform.ipynb to compute the CPT for the factor function which is the joint probability density function $f_{FEV_1}(Unblocked\\ FEV1, \\%Small\\ Airway\\ Blockage)$ "
   ]
  },
  {
   "cell_type": "code",
   "execution_count": 1,
   "metadata": {},
   "outputs": [],
   "source": [
    "import numpy as np\n",
    "import pandas as pd\n",
    "import scipy.integrate as integrate\n",
    "import matplotlib.pyplot as plt\n",
    "import bp"
   ]
  },
  {
   "cell_type": "code",
   "execution_count": 31,
   "metadata": {},
   "outputs": [
    {
     "data": {
      "image/png": "[encoded data removed]",
      "text/plain": [
       "<Figure size 432x288 with 1 Axes>"
      ]
     },
     "metadata": {
      "needs_background": "light"
     },
     "output_type": "display_data"
    }
   ],
   "source": [
    "u1=0; u2=0.2; s1=0.9; s2=1\n",
    "b2=1-s1; b1=1-s2\n",
    "\n",
    "fev1_bins = np.arange(u1*b1, u2*b2, 0.1)\n",
    "\n",
    "# Sampling solution: generate a set of unblocked FEV1 and % Small Airway blockage and their corresponding FEV1 values\n",
    "fev1_samples = bp.generate_fev1_sample(u1, u2, s1, s2)[\"FEV1\"]\n",
    "# Histogram up the sample values into fev1_bins\n",
    "hist, bins = np.histogram(fev1_samples, bins=fev1_bins)\n",
    "# Normalize the histogram\n",
    "hist_norm = hist / len(fev1_samples)\n",
    "\n",
    "# Closed form solution\n",
    "fev1_hist=[]\n",
    "for i in range(0,len(fev1_bins)-1):\n",
    "    fev1_low = fev1_bins[i]\n",
    "    fev1_up = fev1_bins[i+1]\n",
    "    \n",
    "    # val, abserr = integrate.quad(bp.p_fev1, fev1_low, fev1_up, args=(u1, u2, b1, b2))\n",
    "    val, abserr = integrate.quad(bp.p_fev1, fev1_low, fev1_up, args=(b1, b2, u1, u2))\n",
    "    fev1_hist.append(val)\n",
    "\n",
    "# Plot the histogram\n",
    "plt.plot(fev1_bins[:-1], fev1_hist, 'r')\n",
    "plt.bar(bins[:-1], hist_norm, width=0.1)\n",
    "# Set y label to Probability Density Function, set x label to FEV1 (L)\n",
    "plt.title(\"Conditional PDF of FEV1\\ngiven Unblocked FEV1 ~U({}, {})\\nand % Small Airway blockage ~U({}, {})\".format(u1, u2, s1, s2))\n",
    "plt.ylabel(\"p\")\n",
    "plt.xlabel(\"FEV1 (L)\")\n",
    "plt.show()"
   ]
  },
  {
   "attachments": {},
   "cell_type": "markdown",
   "metadata": {},
   "source": [
    "Compute the Conditional Probability Table\n",
    "\n",
    "Since we don't know how to do inference on continuous probability distributions, we need discretize the above model and compute the CPT.\n",
    "\n",
    "Here's how to discretise the model by sampling\n",
    "1. Define bins for each variable\n",
    "2. Add up the bin to which the variable corresponds to\n",
    "3. Group by the same set of inputs, and outputs and count the number of occurences of each groups\n",
    "4. Normalize by the total amount of occurences. \n",
    "\n",
    "The CPT has three dimensions. For each possible set of bins, it will associate a probability.\n",
    "\n",
    "Knowing that $P(x \\in FEV_1\\ bin) = \\frac{\\#FEV_1\\ bin\\ outcomes}{\\#outcomes}$, we can agglomerate the sample values into bins (i.e. histogram up) and use the bin counts to estimate the CPT of FEV1, Unblocked FEV1, and % Small Airway blockage"
   ]
  },
  {
   "cell_type": "code",
   "execution_count": 64,
   "metadata": {},
   "outputs": [],
   "source": [
    "# Given a value and an array of bins, this returns the bin that the value falls into\n",
    "def get_bin_for_value(value, bins):\n",
    "  hist, bins = np.histogram(value, bins=bins)\n",
    "  if (value == bins[-1]): \n",
    "    return \"not allowed\"\n",
    "\n",
    "  idx = np.where(hist == 1)[0].item()\n",
    "  lower_idx = bins[idx].item()\n",
    "  upper_idx = bins[idx+1].item()\n",
    "  return \"[{}; {}[\".format(lower_idx, upper_idx)"
   ]
  },
  {
   "cell_type": "code",
   "execution_count": 65,
   "metadata": {},
   "outputs": [],
   "source": [
    "df_binned_sampled = generate_fev1_sample(10000)\n",
    "\n",
    "# We must use range, and then convert to floats, otherwise we end up with 0.1, 0.2, 0.30000000000000004, etc.\n",
    "# 2.0-2.2, 2.2-2.4, 2.4-2.6, etc.\n",
    "bins_unblocked_fev1 = [x/10 for x in range(20, 60+1, 20)]\n",
    "# 0-10%, 10-20%, 20-30%, etc.\n",
    "bins_small_airway_blockage = [x/10 for x in range(0, 10+1, 2)]\n",
    "# 0.0-0.2, 0.2-0.4, 0.4-0.6, etc.\n",
    "bins_fev1 = [x/10 for x in range(0, 60+1, 20)] \n",
    "\n",
    "df_binned_sampled[\"Unblocked FEV1 bin\"] = df_binned_sampled[\"Unblocked FEV1\"].apply(lambda x: get_bin_for_value(x, bins_unblocked_fev1))\n",
    "df_binned_sampled[\"Small airway blockage bin\"] = df_binned_sampled[\"Small airway blockage\"].apply(lambda x: get_bin_for_value(x, bins_small_airway_blockage))\n",
    "df_binned_sampled[\"FEV1 bin\"] = df_binned_sampled[\"FEV1\"].apply(lambda x: get_bin_for_value(x, bins_fev1))"
   ]
  },
  {
   "cell_type": "code",
   "execution_count": 66,
   "metadata": {},
   "outputs": [],
   "source": [
    "df_cpt = df_binned_sampled.groupby([\"Unblocked FEV1 bin\", \"Small airway blockage bin\", \"FEV1 bin\"]).size().reset_index(name=\"count\")\n",
    "df_cpt[\"p\"] = df_cpt.apply(lambda x: x[\"count\"] / len(df_binned_sampled), axis=1)"
   ]
  },
  {
   "attachments": {},
   "cell_type": "markdown",
   "metadata": {},
   "source": [
    "Main issues: creating the CPTs by sampling \n",
    "* Takes an gigantic amount of time: 40s to generate\n",
    "* Is inaccurate. Under the previous settings, the sets of unique inputs/outpus has 9k elements\n",
    "\n"
   ]
  },
  {
   "attachments": {},
   "cell_type": "markdown",
   "metadata": {},
   "source": [
    "# Compute the CPT with closed form\n",
    "* variable node message: column vector\n",
    "* factor node message: column vector\n",
    "* CPT: matrix (childs, parents)\n",
    "\n",
    "In Pandas' dot product `df.dot(other) or df @ other`, other can be a dataframe, a series, an np.array.\n",
    "\n",
    "Pandas vs NumPy: Pandas is more user-friendly, but NumPy is faster. Pandas has a lot more options for handling missing data, but NumPy has better performance on large datasets.\n",
    "\n",
    "Flow to create the CPT(childs, parents)\n",
    "1. Create a list of bins for the child variables, and for the parent variables\n",
    "2. Using the dimensions for this list, generate the CPT matrix\n",
    "3. Fill the matrix with the values from the closed form solution"
   ]
  },
  {
   "cell_type": "code",
   "execution_count": 111,
   "metadata": {},
   "outputs": [
    {
     "data": {
      "text/plain": [
       "array([[[0.9531018 , 0.0468982 , 0.        , ..., 0.        ,\n",
       "         0.        , 0.        ],\n",
       "        [0.        , 0.9062036 , 0.0937964 , ..., 0.        ,\n",
       "         0.        , 0.        ],\n",
       "        [0.        , 0.        , 0.85930539, ..., 0.        ,\n",
       "         0.        , 0.        ],\n",
       "        ...,\n",
       "        [0.        , 0.        , 0.        , ..., 0.        ,\n",
       "         0.        , 0.        ],\n",
       "        [0.        , 0.        , 0.        , ..., 0.        ,\n",
       "         0.        , 0.        ],\n",
       "        [0.        , 0.        , 0.        , ..., 0.        ,\n",
       "         0.        , 0.        ]],\n",
       "\n",
       "       [[0.87011377, 0.12988623, 0.        , ..., 0.        ,\n",
       "         0.        , 0.        ],\n",
       "        [0.        , 0.74022754, 0.25977246, ..., 0.        ,\n",
       "         0.        , 0.        ],\n",
       "        [0.        , 0.        , 0.61034131, ..., 0.        ,\n",
       "         0.        , 0.        ],\n",
       "        ...,\n",
       "        [0.        , 0.        , 0.        , ..., 0.        ,\n",
       "         0.        , 0.        ],\n",
       "        [0.        , 0.        , 0.        , ..., 0.        ,\n",
       "         0.        , 0.        ],\n",
       "        [0.        , 0.        , 0.        , ..., 0.        ,\n",
       "         0.        , 0.        ]],\n",
       "\n",
       "       [[0.80042708, 0.19957292, 0.        , ..., 0.        ,\n",
       "         0.        , 0.        ],\n",
       "        [0.        , 0.60085415, 0.39914585, ..., 0.        ,\n",
       "         0.        , 0.        ],\n",
       "        [0.        , 0.        , 0.40128123, ..., 0.        ,\n",
       "         0.        , 0.        ],\n",
       "        ...,\n",
       "        [0.        , 0.        , 0.        , ..., 0.        ,\n",
       "         0.        , 0.        ],\n",
       "        [0.        , 0.        , 0.        , ..., 0.        ,\n",
       "         0.        , 0.        ],\n",
       "        [0.        , 0.        , 0.        , ..., 0.        ,\n",
       "         0.        , 0.        ]],\n",
       "\n",
       "       ...,\n",
       "\n",
       "       [[0.37740328, 0.        , 0.24519344, ..., 0.        ,\n",
       "         0.        , 0.        ],\n",
       "        [0.        , 0.        , 0.13220984, ..., 0.        ,\n",
       "         0.        , 0.        ],\n",
       "        [0.        , 0.        , 0.        , ..., 0.        ,\n",
       "         0.        , 0.        ],\n",
       "        ...,\n",
       "        [0.        , 0.        , 0.        , ..., 0.        ,\n",
       "         0.        , 0.        ],\n",
       "        [0.        , 0.        , 0.        , ..., 0.        ,\n",
       "         0.        , 0.        ],\n",
       "        [0.        , 0.        , 0.        , ..., 0.        ,\n",
       "         0.        , 0.        ]],\n",
       "\n",
       "       [[0.36367644, 0.        , 0.27264712, ..., 0.        ,\n",
       "         0.        , 0.        ],\n",
       "        [0.        , 0.        , 0.09102933, ..., 0.        ,\n",
       "         0.        , 0.        ],\n",
       "        [0.        , 0.        , 0.        , ..., 0.        ,\n",
       "         0.        , 0.        ],\n",
       "        ...,\n",
       "        [0.        , 0.        , 0.        , ..., 0.        ,\n",
       "         0.        , 0.        ],\n",
       "        [0.        , 0.        , 0.        , ..., 0.        ,\n",
       "         0.        , 0.        ],\n",
       "        [0.        , 0.        , 0.        , ..., 0.        ,\n",
       "         0.        , 0.        ]],\n",
       "\n",
       "       [[0.3509132 , 0.        , 0.2981736 , ..., 0.        ,\n",
       "         0.        , 0.        ],\n",
       "        [0.        , 0.        , 0.05273959, ..., 0.        ,\n",
       "         0.        , 0.        ],\n",
       "        [0.        , 0.        , 0.        , ..., 0.        ,\n",
       "         0.        , 0.        ],\n",
       "        ...,\n",
       "        [0.        , 0.        , 0.        , ..., 0.        ,\n",
       "         0.        , 0.        ],\n",
       "        [0.        , 0.        , 0.        , ..., 0.        ,\n",
       "         0.        , 0.        ],\n",
       "        [0.        , 0.        , 0.        , ..., 0.00191816,\n",
       "         0.        , 0.        ]]])"
      ]
     },
     "execution_count": 111,
     "metadata": {},
     "output_type": "execute_result"
    }
   ],
   "source": [
    "# Define the variables\n",
    "unblocked_fev1 = bp.variableNode(\"Unblocked FEV1\", 2, 6, 0.2)\n",
    "small_airway_blockage = bp.variableNode(\"Small airway blockage\", 0, 1, 0.1)\n",
    "fev1 = bp.variableNode(\"FEV1\", 0, 6, 0.2)\n",
    "\n",
    "bp.calc_cpt(unblocked_fev1, small_airway_blockage, fev1)"
   ]
  }
 ],
 "metadata": {
  "kernelspec": {
   "display_name": "phd",
   "language": "python",
   "name": "python3"
  },
  "language_info": {
   "codemirror_mode": {
    "name": "ipython",
    "version": 3
   },
   "file_extension": ".py",
   "mimetype": "text/x-python",
   "name": "python",
   "nbconvert_exporter": "python",
   "pygments_lexer": "ipython3",
   "version": "3.10.0"
  },
  "orig_nbformat": 4,
  "vscode": {
   "interpreter": {
    "hash": "ffc9e18892ee3b9cbe53b18b7d355cfce0a42ae1aa2d5f5ea7529610a7030618"
   }
  }
 },
 "nbformat": 4,
 "nbformat_minor": 2
}
