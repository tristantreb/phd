{
 "cells": [
  {
   "cell_type": "code",
   "execution_count": 1,
   "metadata": {},
   "outputs": [],
   "source": [
    "from pgmpy.models import BayesianNetwork\n",
    "from pgmpy.factors.discrete import TabularCPD\n",
    "from pgmpy.inference import BeliefPropagation\n",
    "\n",
    "import model_helpers as mh\n",
    "import numpy as np\n",
    "\n",
    "# np.set_printoptions(suppress=True)\n",
    "\n",
    "import plotly.express as px\n",
    "import plotly.figure_factory as ff"
   ]
  },
  {
   "attachments": {},
   "cell_type": "markdown",
   "metadata": {},
   "source": [
    "### Model of the lung's health"
   ]
  },
  {
   "cell_type": "code",
   "execution_count": 2,
   "metadata": {},
   "outputs": [
    {
     "name": "stdout",
     "output_type": "stream",
     "text": [
      "calculating cpt of shape 58 x 40 x 1 (C x (A x B)) \n"
     ]
    }
   ],
   "source": [
    "U = mh.variableNode(\"Unblocked FEV1\", 2, 6, 0.1)\n",
    "C = mh.variableNode(\"Small airway clearance\", 0.9, 1, 0.1)\n",
    "FEV1 = mh.variableNode(\"FEV1\", 0.2, 6, 0.1)\n",
    "\n",
    "graph = BayesianNetwork([(U.name, FEV1.name), (C.name, FEV1.name)])\n",
    "\n",
    "cpt_fev1 = TabularCPD(\n",
    "    variable=FEV1.name,\n",
    "    variable_card=len(FEV1.bins) - 1,\n",
    "    values=mh.calc_pgmpy_cpt(U, C, FEV1),\n",
    "    evidence=[C.name, U.name],\n",
    "    evidence_card=[len(C.bins) - 1, len(U.bins) - 1],\n",
    ")\n",
    "\n",
    "prior_b = TabularCPD(\n",
    "    variable=C.name,\n",
    "    variable_card=len(C.bins) - 1,\n",
    "    values=C.uniform_prior(C),\n",
    "    evidence=[],\n",
    "    evidence_card=[],\n",
    ")\n",
    "\n",
    "prior_u = TabularCPD(\n",
    "    variable=U.name,\n",
    "    variable_card=len(U.bins) - 1,\n",
    "    values=U.uniform_prior(U),\n",
    "    evidence=[],\n",
    "    evidence_card=[],\n",
    ")\n",
    "\n",
    "graph.add_cpds(cpt_fev1, prior_b, prior_u)\n",
    "\n",
    "graph.check_model()\n",
    "\n",
    "inference = BeliefPropagation(graph)"
   ]
  },
  {
   "attachments": {},
   "cell_type": "markdown",
   "metadata": {},
   "source": [
    "### Interactive inference"
   ]
  },
  {
   "cell_type": "code",
   "execution_count": 7,
   "metadata": {},
   "outputs": [
    {
     "name": "stdout",
     "output_type": "stream",
     "text": [
      "Dash is running on http://127.0.0.1:8049/\n",
      "\n",
      " * Serving Flask app '__main__'\n",
      " * Debug mode: on\n",
      "get fev1 0.2\n",
      "fev1_idx 0\n",
      "fev1_bin [0.2; 0.30000000000000004[\n"
     ]
    },
    {
     "data": {
      "application/vnd.jupyter.widget-view+json": {
       "model_id": "c272ade5cdb74d2f91be7de6b1c43cec",
       "version_major": 2,
       "version_minor": 0
      },
      "text/plain": [
       "  0%|          | 0/1 [00:00<?, ?it/s]"
      ]
     },
     "metadata": {},
     "output_type": "display_data"
    },
    {
     "name": "stderr",
     "output_type": "stream",
     "text": [
      "/Applications/anaconda3/envs/phd/lib/python3.10/site-packages/pgmpy/factors/discrete/DiscreteFactor.py:477: RuntimeWarning:\n",
      "\n",
      "invalid value encountered in true_divide\n",
      "\n"
     ]
    },
    {
     "name": "stdout",
     "output_type": "stream",
     "text": [
      "get fev1 0.2\n",
      "fev1_idx 0\n",
      "fev1_bin [0.2; 0.30000000000000004[\n"
     ]
    },
    {
     "data": {
      "application/vnd.jupyter.widget-view+json": {
       "model_id": "82a2fdb5f18a4ee9a70ff78b9c24e303",
       "version_major": 2,
       "version_minor": 0
      },
      "text/plain": [
       "  0%|          | 0/1 [00:00<?, ?it/s]"
      ]
     },
     "metadata": {},
     "output_type": "display_data"
    },
    {
     "name": "stderr",
     "output_type": "stream",
     "text": [
      "/Applications/anaconda3/envs/phd/lib/python3.10/site-packages/pgmpy/factors/discrete/DiscreteFactor.py:477: RuntimeWarning:\n",
      "\n",
      "invalid value encountered in true_divide\n",
      "\n"
     ]
    },
    {
     "name": "stdout",
     "output_type": "stream",
     "text": [
      "get fev1 5.9\n",
      "fev1_idx 57\n",
      "fev1_bin [5.900000000000002; 6.000000000000002[\n"
     ]
    },
    {
     "data": {
      "application/vnd.jupyter.widget-view+json": {
       "model_id": "150d66cad9f64d2fb8e4d09ad0ab24e9",
       "version_major": 2,
       "version_minor": 0
      },
      "text/plain": [
       "  0%|          | 0/1 [00:00<?, ?it/s]"
      ]
     },
     "metadata": {},
     "output_type": "display_data"
    },
    {
     "name": "stdout",
     "output_type": "stream",
     "text": [
      "get fev1 5.65\n",
      "fev1_idx 54\n",
      "fev1_bin [5.600000000000002; 5.700000000000002[\n"
     ]
    },
    {
     "data": {
      "application/vnd.jupyter.widget-view+json": {
       "model_id": "43a8bb25128143f8a0ec02a7017f483b",
       "version_major": 2,
       "version_minor": 0
      },
      "text/plain": [
       "  0%|          | 0/1 [00:00<?, ?it/s]"
      ]
     },
     "metadata": {},
     "output_type": "display_data"
    },
    {
     "name": "stdout",
     "output_type": "stream",
     "text": [
      "get fev1 5.9\n",
      "fev1_idx 57\n",
      "fev1_bin [5.900000000000002; 6.000000000000002[\n"
     ]
    },
    {
     "data": {
      "application/vnd.jupyter.widget-view+json": {
       "model_id": "d06437d929004bc29fd82068e66e5b08",
       "version_major": 2,
       "version_minor": 0
      },
      "text/plain": [
       "  0%|          | 0/1 [00:00<?, ?it/s]"
      ]
     },
     "metadata": {},
     "output_type": "display_data"
    },
    {
     "name": "stdout",
     "output_type": "stream",
     "text": [
      "get fev1 5.6\n",
      "fev1_idx 54\n",
      "fev1_bin [5.600000000000002; 5.700000000000002[\n"
     ]
    },
    {
     "data": {
      "application/vnd.jupyter.widget-view+json": {
       "model_id": "0e1503595abd444084841c6e2f601819",
       "version_major": 2,
       "version_minor": 0
      },
      "text/plain": [
       "  0%|          | 0/1 [00:00<?, ?it/s]"
      ]
     },
     "metadata": {},
     "output_type": "display_data"
    },
    {
     "name": "stdout",
     "output_type": "stream",
     "text": [
      "get fev1 5.4\n",
      "fev1_idx 52\n",
      "fev1_bin [5.400000000000002; 5.500000000000002[\n"
     ]
    },
    {
     "data": {
      "application/vnd.jupyter.widget-view+json": {
       "model_id": "440cd26403bc4423829c346decbbb1c8",
       "version_major": 2,
       "version_minor": 0
      },
      "text/plain": [
       "  0%|          | 0/1 [00:00<?, ?it/s]"
      ]
     },
     "metadata": {},
     "output_type": "display_data"
    },
    {
     "name": "stdout",
     "output_type": "stream",
     "text": [
      "get fev1 4.6\n",
      "fev1_idx 44\n",
      "fev1_bin [4.600000000000001; 4.700000000000002[\n"
     ]
    },
    {
     "data": {
      "application/vnd.jupyter.widget-view+json": {
       "model_id": "cf193ef1d52743b39abd01ea1c3143d8",
       "version_major": 2,
       "version_minor": 0
      },
      "text/plain": [
       "  0%|          | 0/1 [00:00<?, ?it/s]"
      ]
     },
     "metadata": {},
     "output_type": "display_data"
    }
   ],
   "source": [
    "from dash import Dash, dcc, html, Input, Output\n",
    "\n",
    "app = Dash(__name__)\n",
    "\n",
    "app.layout = html.Div(\n",
    "    [\n",
    "        html.H4(\"Interactive inference with FEV1, Unblocked FEV1\"),\n",
    "        dcc.Graph(id=\"graph\"),\n",
    "        html.P(\"FEV1:\"),\n",
    "        dcc.Slider(\n",
    "            id=\"fev1\",\n",
    "            min=FEV1.bins[0],\n",
    "            max=FEV1.bins[-2],\n",
    "            value=0.2,\n",
    "            marks={0: \"0.2\", (len(C.bins) - 1): \"5.9\"},\n",
    "        ),\n",
    "    ]\n",
    ")\n",
    "\n",
    "\n",
    "@app.callback(Output(\"graph\", \"figure\"), Input(\"fev1\", \"value\"))\n",
    "def display_color(fev1):\n",
    "    print(\"set FEV1 to\", fev1)\n",
    "\n",
    "    [_fev1_bin, fev1_idx] = mh.get_bin_for_value(fev1, FEV1.bins)\n",
    "\n",
    "    res = inference.query(variables=[U.name], evidence={FEV1.name: fev1_idx})\n",
    "    fig = px.bar(y=res.values, x=U.bins[:-1])\n",
    "    fig.update_layout(\n",
    "        xaxis_title=\"Distribution of unblocked FEV1 (L)\",\n",
    "        yaxis_title=\"Probability\",\n",
    "        legend_title=\"Legend Title\",\n",
    "        font=dict(family=\"Courier New, monospace\", size=12, color=\"#7f7f7f\"),\n",
    "    )\n",
    "    return fig\n",
    "\n",
    "\n",
    "app.run_server(debug=True, port=8049, use_reloader=False)"
   ]
  },
  {
   "attachments": {},
   "cell_type": "markdown",
   "metadata": {},
   "source": [
    "0.1-0.05"
   ]
  },
  {
   "cell_type": "code",
   "execution_count": 4,
   "metadata": {},
   "outputs": [
    {
     "data": {
      "text/plain": [
       "['[2.1000000000000005; 2.200000000000001[', 19]"
      ]
     },
     "execution_count": 4,
     "metadata": {},
     "output_type": "execute_result"
    }
   ],
   "source": [
    "FEV1.b\n"
   ]
  }
 ],
 "metadata": {
  "kernelspec": {
   "display_name": "phd",
   "language": "python",
   "name": "python3"
  },
  "language_info": {
   "codemirror_mode": {
    "name": "ipython",
    "version": 3
   },
   "file_extension": ".py",
   "mimetype": "text/x-python",
   "name": "python",
   "nbconvert_exporter": "python",
   "pygments_lexer": "ipython3",
   "version": "3.10.0"
  },
  "orig_nbformat": 4
 },
 "nbformat": 4,
 "nbformat_minor": 2
}
