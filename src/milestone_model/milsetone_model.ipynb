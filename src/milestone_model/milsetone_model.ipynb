{
 "cells": [
  {
   "cell_type": "code",
   "execution_count": 10,
   "metadata": {},
   "outputs": [],
   "source": [
    "from pgmpy.models import BayesianNetwork\n",
    "from pgmpy.factors.discrete import TabularCPD\n",
    "from pgmpy.inference import BeliefPropagation\n",
    "\n",
    "import bp\n",
    "import numpy as np\n",
    "# np.set_printoptions(suppress=True)\n",
    "\n",
    "import plotly.express as px\n",
    "import plotly.figure_factory as ff"
   ]
  },
  {
   "attachments": {},
   "cell_type": "markdown",
   "metadata": {},
   "source": [
    "### Model of the lung's health"
   ]
  },
  {
   "cell_type": "code",
   "execution_count": 54,
   "metadata": {},
   "outputs": [
    {
     "name": "stdout",
     "output_type": "stream",
     "text": [
      "calculating cpt of shape 58 x 40 x 7 (C x (A x B)) \n"
     ]
    },
    {
     "ename": "NameError",
     "evalue": "name 'C_range' is not defined",
     "output_type": "error",
     "traceback": [
      "\u001b[0;31m---------------------------------------------------------------------------\u001b[0m",
      "\u001b[0;31mNameError\u001b[0m                                 Traceback (most recent call last)",
      "\u001b[1;32m/Users/tristan.trebaol/Desktop/PhD/Code/phd/src/milestone_model/milsetone_model.ipynb Cell 3\u001b[0m in \u001b[0;36m<cell line: 7>\u001b[0;34m()\u001b[0m\n\u001b[1;32m      <a href='vscode-notebook-cell:/Users/tristan.trebaol/Desktop/PhD/Code/phd/src/milestone_model/milsetone_model.ipynb#W3sZmlsZQ%3D%3D?line=2'>3</a>\u001b[0m FEV1 \u001b[39m=\u001b[39m bp\u001b[39m.\u001b[39mvariableNode(\u001b[39m\"\u001b[39m\u001b[39mFEV1\u001b[39m\u001b[39m\"\u001b[39m, \u001b[39m0.2\u001b[39m, \u001b[39m6\u001b[39m, \u001b[39m0.1\u001b[39m)\n\u001b[1;32m      <a href='vscode-notebook-cell:/Users/tristan.trebaol/Desktop/PhD/Code/phd/src/milestone_model/milsetone_model.ipynb#W3sZmlsZQ%3D%3D?line=4'>5</a>\u001b[0m graph \u001b[39m=\u001b[39m BayesianNetwork([(U\u001b[39m.\u001b[39mname, FEV1\u001b[39m.\u001b[39mname), (C\u001b[39m.\u001b[39mname, FEV1\u001b[39m.\u001b[39mname)])\n\u001b[1;32m      <a href='vscode-notebook-cell:/Users/tristan.trebaol/Desktop/PhD/Code/phd/src/milestone_model/milsetone_model.ipynb#W3sZmlsZQ%3D%3D?line=6'>7</a>\u001b[0m cpt_fev1 \u001b[39m=\u001b[39m TabularCPD(\n\u001b[1;32m      <a href='vscode-notebook-cell:/Users/tristan.trebaol/Desktop/PhD/Code/phd/src/milestone_model/milsetone_model.ipynb#W3sZmlsZQ%3D%3D?line=7'>8</a>\u001b[0m     variable\u001b[39m=\u001b[39mFEV1\u001b[39m.\u001b[39mname,\n\u001b[1;32m      <a href='vscode-notebook-cell:/Users/tristan.trebaol/Desktop/PhD/Code/phd/src/milestone_model/milsetone_model.ipynb#W3sZmlsZQ%3D%3D?line=8'>9</a>\u001b[0m     variable_card\u001b[39m=\u001b[39m\u001b[39mlen\u001b[39m(FEV1\u001b[39m.\u001b[39mbins)\u001b[39m-\u001b[39m\u001b[39m1\u001b[39m,\n\u001b[0;32m---> <a href='vscode-notebook-cell:/Users/tristan.trebaol/Desktop/PhD/Code/phd/src/milestone_model/milsetone_model.ipynb#W3sZmlsZQ%3D%3D?line=9'>10</a>\u001b[0m     values\u001b[39m=\u001b[39mbp\u001b[39m.\u001b[39;49mcalc_pgmpy_cpt(U, C, FEV1),\n\u001b[1;32m     <a href='vscode-notebook-cell:/Users/tristan.trebaol/Desktop/PhD/Code/phd/src/milestone_model/milsetone_model.ipynb#W3sZmlsZQ%3D%3D?line=10'>11</a>\u001b[0m     evidence\u001b[39m=\u001b[39m[C\u001b[39m.\u001b[39mname, U\u001b[39m.\u001b[39mname],\n\u001b[1;32m     <a href='vscode-notebook-cell:/Users/tristan.trebaol/Desktop/PhD/Code/phd/src/milestone_model/milsetone_model.ipynb#W3sZmlsZQ%3D%3D?line=11'>12</a>\u001b[0m     evidence_card\u001b[39m=\u001b[39m[\u001b[39mlen\u001b[39m(C\u001b[39m.\u001b[39mbins)\u001b[39m-\u001b[39m\u001b[39m1\u001b[39m, \u001b[39mlen\u001b[39m(U\u001b[39m.\u001b[39mbins)\u001b[39m-\u001b[39m\u001b[39m1\u001b[39m],\n\u001b[1;32m     <a href='vscode-notebook-cell:/Users/tristan.trebaol/Desktop/PhD/Code/phd/src/milestone_model/milsetone_model.ipynb#W3sZmlsZQ%3D%3D?line=12'>13</a>\u001b[0m )\n\u001b[1;32m     <a href='vscode-notebook-cell:/Users/tristan.trebaol/Desktop/PhD/Code/phd/src/milestone_model/milsetone_model.ipynb#W3sZmlsZQ%3D%3D?line=14'>15</a>\u001b[0m prior_b \u001b[39m=\u001b[39m TabularCPD(\n\u001b[1;32m     <a href='vscode-notebook-cell:/Users/tristan.trebaol/Desktop/PhD/Code/phd/src/milestone_model/milsetone_model.ipynb#W3sZmlsZQ%3D%3D?line=15'>16</a>\u001b[0m     variable\u001b[39m=\u001b[39mC\u001b[39m.\u001b[39mname,\n\u001b[1;32m     <a href='vscode-notebook-cell:/Users/tristan.trebaol/Desktop/PhD/Code/phd/src/milestone_model/milsetone_model.ipynb#W3sZmlsZQ%3D%3D?line=16'>17</a>\u001b[0m     variable_card\u001b[39m=\u001b[39m\u001b[39mlen\u001b[39m(C\u001b[39m.\u001b[39mbins)\u001b[39m-\u001b[39m\u001b[39m1\u001b[39m,\n\u001b[0;32m   (...)\u001b[0m\n\u001b[1;32m     <a href='vscode-notebook-cell:/Users/tristan.trebaol/Desktop/PhD/Code/phd/src/milestone_model/milsetone_model.ipynb#W3sZmlsZQ%3D%3D?line=19'>20</a>\u001b[0m     evidence_card\u001b[39m=\u001b[39m[],\n\u001b[1;32m     <a href='vscode-notebook-cell:/Users/tristan.trebaol/Desktop/PhD/Code/phd/src/milestone_model/milsetone_model.ipynb#W3sZmlsZQ%3D%3D?line=20'>21</a>\u001b[0m )\n\u001b[1;32m     <a href='vscode-notebook-cell:/Users/tristan.trebaol/Desktop/PhD/Code/phd/src/milestone_model/milsetone_model.ipynb#W3sZmlsZQ%3D%3D?line=22'>23</a>\u001b[0m prior_u \u001b[39m=\u001b[39m TabularCPD(\n\u001b[1;32m     <a href='vscode-notebook-cell:/Users/tristan.trebaol/Desktop/PhD/Code/phd/src/milestone_model/milsetone_model.ipynb#W3sZmlsZQ%3D%3D?line=23'>24</a>\u001b[0m     variable\u001b[39m=\u001b[39mU\u001b[39m.\u001b[39mname,\n\u001b[1;32m     <a href='vscode-notebook-cell:/Users/tristan.trebaol/Desktop/PhD/Code/phd/src/milestone_model/milsetone_model.ipynb#W3sZmlsZQ%3D%3D?line=24'>25</a>\u001b[0m     variable_card\u001b[39m=\u001b[39m\u001b[39mlen\u001b[39m(U\u001b[39m.\u001b[39mbins)\u001b[39m-\u001b[39m\u001b[39m1\u001b[39m,\n\u001b[0;32m   (...)\u001b[0m\n\u001b[1;32m     <a href='vscode-notebook-cell:/Users/tristan.trebaol/Desktop/PhD/Code/phd/src/milestone_model/milsetone_model.ipynb#W3sZmlsZQ%3D%3D?line=27'>28</a>\u001b[0m     evidence_card\u001b[39m=\u001b[39m[],\n\u001b[1;32m     <a href='vscode-notebook-cell:/Users/tristan.trebaol/Desktop/PhD/Code/phd/src/milestone_model/milsetone_model.ipynb#W3sZmlsZQ%3D%3D?line=28'>29</a>\u001b[0m )\n",
      "File \u001b[0;32m~/Desktop/PhD/Code/phd/src/milestone_model/bp.py:214\u001b[0m, in \u001b[0;36mcalc_pgmpy_cpt\u001b[0;34m(parentA, parentB, C, debug)\u001b[0m\n\u001b[1;32m    210\u001b[0m         \u001b[39mif\u001b[39;00m debug:\n\u001b[1;32m    211\u001b[0m             \u001b[39mprint\u001b[39m(\u001b[39mf\u001b[39m\u001b[39m\"\u001b[39m\u001b[39mP(C|U,B) = \u001b[39m\u001b[39m{\u001b[39;00mcpt[:, cpt_index \u001b[39m+\u001b[39m i \u001b[39m+\u001b[39m j]\u001b[39m}\u001b[39;00m\u001b[39m\"\u001b[39m)\n\u001b[1;32m    212\u001b[0m         \u001b[39massert\u001b[39;00m (\n\u001b[1;32m    213\u001b[0m             \u001b[39mabs\u001b[39m(total \u001b[39m-\u001b[39m \u001b[39m1\u001b[39m) \u001b[39m<\u001b[39m tol\n\u001b[0;32m--> 214\u001b[0m         ), \u001b[39mf\u001b[39m\u001b[39m\"\u001b[39m\u001b[39mThe sum of the probabilities should be 1\u001b[39m\u001b[39m\\n\u001b[39;00m\u001b[39m Distributions: U(\u001b[39m\u001b[39m{\u001b[39;00ma_low\u001b[39m}\u001b[39;00m\u001b[39m, \u001b[39m\u001b[39m{\u001b[39;00ma_up\u001b[39m}\u001b[39;00m\u001b[39m), B(\u001b[39m\u001b[39m{\u001b[39;00mb_low\u001b[39m}\u001b[39;00m\u001b[39m, \u001b[39m\u001b[39m{\u001b[39;00mb_up\u001b[39m}\u001b[39;00m\u001b[39m)\u001b[39m\u001b[39m\\n\u001b[39;00m\u001b[39m P(C|U,B) = \u001b[39m\u001b[39m{\u001b[39;00mcpt[:, cpt_index \u001b[39m+\u001b[39m i \u001b[39m+\u001b[39m j]\u001b[39m}\u001b[39;00m\u001b[39m\\n\u001b[39;00m\u001b[39m With C range \u001b[39m\u001b[39m{\u001b[39;00mC_range\u001b[39m}\u001b[39;00m\u001b[39m\\n\u001b[39;00m\u001b[39m For the C bins: \u001b[39m\u001b[39m{\u001b[39;00mC\u001b[39m.\u001b[39mbins\u001b[39m}\u001b[39;00m\u001b[39m\\n\u001b[39;00m\u001b[39m Abserr = \u001b[39m\u001b[39m{\u001b[39;00mabserr\u001b[39m}\u001b[39;00m\u001b[39m\"\u001b[39m\n\u001b[1;32m    216\u001b[0m \u001b[39mreturn\u001b[39;00m cpt\n",
      "\u001b[0;31mNameError\u001b[0m: name 'C_range' is not defined"
     ]
    }
   ],
   "source": [
    "U = bp.variableNode(\"Unblocked FEV1\", 2, 6, 0.1)\n",
    "C = bp.variableNode(\"Small airway clearance\", 0.7, 1, 0.05)\n",
    "FEV1 = bp.variableNode(\"FEV1\", 0.2, 6, 0.1)\n",
    "\n",
    "graph = BayesianNetwork([(U.name, FEV1.name), (C.name, FEV1.name)])\n",
    "\n",
    "cpt_fev1 = TabularCPD(\n",
    "    variable=FEV1.name,\n",
    "    variable_card=len(FEV1.bins)-1,\n",
    "    values=bp.calc_pgmpy_cpt(U, C, FEV1),\n",
    "    evidence=[C.name, U.name],\n",
    "    evidence_card=[len(C.bins)-1, len(U.bins)-1],\n",
    ")\n",
    "\n",
    "prior_b = TabularCPD(\n",
    "    variable=C.name,\n",
    "    variable_card=len(C.bins)-1,\n",
    "    values=C.marginal(C),\n",
    "    evidence=[],\n",
    "    evidence_card=[],\n",
    ")\n",
    "\n",
    "prior_u = TabularCPD(\n",
    "    variable=U.name,\n",
    "    variable_card=len(U.bins)-1,\n",
    "    values=U.marginal(U),\n",
    "    evidence=[],\n",
    "    evidence_card=[],\n",
    ")\n",
    "\n",
    "graph.add_cpds(cpt_fev1, prior_b, prior_u)\n",
    "\n",
    "graph.check_model()\n",
    "\n",
    "inference = BeliefPropagation(graph)\n"
   ]
  },
  {
   "attachments": {},
   "cell_type": "markdown",
   "metadata": {},
   "source": [
    "### Interactive inference"
   ]
  },
  {
   "cell_type": "code",
   "execution_count": null,
   "metadata": {},
   "outputs": [
    {
     "data": {
      "application/vnd.jupyter.widget-view+json": {
       "model_id": "5255e4164e6545c8b93dcfc7153a25fa",
       "version_major": 2,
       "version_minor": 0
      },
      "text/plain": [
       "  0%|          | 0/1 [00:00<?, ?it/s]"
      ]
     },
     "metadata": {},
     "output_type": "display_data"
    },
    {
     "data": {
      "text/plain": [
       "array([0.21428602, 0.18281378, 0.15414052, 0.12790869, 0.10381917,\n",
       "       0.08161978, 0.06109644, 0.04206622, 0.02437187, 0.0078775 ,\n",
       "       0.        , 0.        , 0.        , 0.        , 0.        ,\n",
       "       0.        , 0.        , 0.        , 0.        , 0.        ,\n",
       "       0.        , 0.        , 0.        , 0.        , 0.        ,\n",
       "       0.        , 0.        , 0.        , 0.        , 0.        ,\n",
       "       0.        , 0.        , 0.        , 0.        , 0.        ,\n",
       "       0.        , 0.        , 0.        , 0.        , 0.        ])"
      ]
     },
     "execution_count": 23,
     "metadata": {},
     "output_type": "execute_result"
    }
   ],
   "source": [
    "inference = BeliefPropagation(graph)\n",
    "fev1=0.2\n",
    "res = inference.query(variables=[U.name], evidence={FEV1.name: fev1})\n",
    "res.values\n"
   ]
  },
  {
   "cell_type": "code",
   "execution_count": null,
   "metadata": {},
   "outputs": [],
   "source": [
    "fig = ff.create_distplot()"
   ]
  },
  {
   "cell_type": "code",
   "execution_count": 18,
   "metadata": {},
   "outputs": [
    {
     "data": {
      "application/vnd.plotly.v1+json": {
       "config": {
        "plotlyServerURL": "https://plot.ly"
       },
       "data": [
        {
         "alignmentgroup": "True",
         "hovertemplate": "x=%{x}<br>y=%{y}<extra></extra>",
         "legendgroup": "",
         "marker": {
          "color": "#636efa",
          "pattern": {
           "shape": ""
          }
         },
         "name": "",
         "offsetgroup": "",
         "orientation": "v",
         "showlegend": false,
         "textposition": "auto",
         "type": "bar",
         "x": [
          2,
          2.1,
          2.2,
          2.3000000000000003,
          2.4000000000000004,
          2.5000000000000004,
          2.6000000000000005,
          2.7000000000000006,
          2.8000000000000007,
          2.900000000000001,
          3.000000000000001,
          3.100000000000001,
          3.200000000000001,
          3.300000000000001,
          3.4000000000000012,
          3.5000000000000013,
          3.6000000000000014,
          3.7000000000000015,
          3.8000000000000016,
          3.9000000000000017,
          4.000000000000002,
          4.100000000000001,
          4.200000000000002,
          4.3000000000000025,
          4.400000000000002,
          4.500000000000002,
          4.600000000000002,
          4.700000000000003,
          4.8000000000000025,
          4.900000000000002,
          5.000000000000003,
          5.100000000000003,
          5.200000000000003,
          5.3000000000000025,
          5.400000000000003,
          5.5000000000000036,
          5.600000000000003,
          5.700000000000003,
          5.800000000000003,
          5.900000000000004
         ],
         "xaxis": "x",
         "y": [
          0.21428601867510683,
          0.18281377856735806,
          0.15414051952219449,
          0.12790869369332866,
          0.10381917276232218,
          0.08161978321456431,
          0.06109643999451407,
          0.04206621627071711,
          0.024371873327026256,
          0.007877503972868004,
          0,
          0,
          0,
          0,
          0,
          0,
          0,
          0,
          0,
          0,
          0,
          0,
          0,
          0,
          0,
          0,
          0,
          0,
          0,
          0,
          0,
          0,
          0,
          0,
          0,
          0,
          0,
          0,
          0,
          0
         ],
         "yaxis": "y"
        }
       ],
       "layout": {
        "barmode": "relative",
        "legend": {
         "tracegroupgap": 0
        },
        "margin": {
         "t": 60
        },
        "template": {
         "data": {
          "bar": [
           {
            "error_x": {
             "color": "#2a3f5f"
            },
            "error_y": {
             "color": "#2a3f5f"
            },
            "marker": {
             "line": {
              "color": "#E5ECF6",
              "width": 0.5
             },
             "pattern": {
              "fillmode": "overlay",
              "size": 10,
              "solidity": 0.2
             }
            },
            "type": "bar"
           }
          ],
          "barpolar": [
           {
            "marker": {
             "line": {
              "color": "#E5ECF6",
              "width": 0.5
             },
             "pattern": {
              "fillmode": "overlay",
              "size": 10,
              "solidity": 0.2
             }
            },
            "type": "barpolar"
           }
          ],
          "carpet": [
           {
            "aaxis": {
             "endlinecolor": "#2a3f5f",
             "gridcolor": "white",
             "linecolor": "white",
             "minorgridcolor": "white",
             "startlinecolor": "#2a3f5f"
            },
            "baxis": {
             "endlinecolor": "#2a3f5f",
             "gridcolor": "white",
             "linecolor": "white",
             "minorgridcolor": "white",
             "startlinecolor": "#2a3f5f"
            },
            "type": "carpet"
           }
          ],
          "choropleth": [
           {
            "colorbar": {
             "outlinewidth": 0,
             "ticks": ""
            },
            "type": "choropleth"
           }
          ],
          "contour": [
           {
            "colorbar": {
             "outlinewidth": 0,
             "ticks": ""
            },
            "colorscale": [
             [
              0,
              "#0d0887"
             ],
             [
              0.1111111111111111,
              "#46039f"
             ],
             [
              0.2222222222222222,
              "#7201a8"
             ],
             [
              0.3333333333333333,
              "#9c179e"
             ],
             [
              0.4444444444444444,
              "#bd3786"
             ],
             [
              0.5555555555555556,
              "#d8576b"
             ],
             [
              0.6666666666666666,
              "#ed7953"
             ],
             [
              0.7777777777777778,
              "#fb9f3a"
             ],
             [
              0.8888888888888888,
              "#fdca26"
             ],
             [
              1,
              "#f0f921"
             ]
            ],
            "type": "contour"
           }
          ],
          "contourcarpet": [
           {
            "colorbar": {
             "outlinewidth": 0,
             "ticks": ""
            },
            "type": "contourcarpet"
           }
          ],
          "heatmap": [
           {
            "colorbar": {
             "outlinewidth": 0,
             "ticks": ""
            },
            "colorscale": [
             [
              0,
              "#0d0887"
             ],
             [
              0.1111111111111111,
              "#46039f"
             ],
             [
              0.2222222222222222,
              "#7201a8"
             ],
             [
              0.3333333333333333,
              "#9c179e"
             ],
             [
              0.4444444444444444,
              "#bd3786"
             ],
             [
              0.5555555555555556,
              "#d8576b"
             ],
             [
              0.6666666666666666,
              "#ed7953"
             ],
             [
              0.7777777777777778,
              "#fb9f3a"
             ],
             [
              0.8888888888888888,
              "#fdca26"
             ],
             [
              1,
              "#f0f921"
             ]
            ],
            "type": "heatmap"
           }
          ],
          "heatmapgl": [
           {
            "colorbar": {
             "outlinewidth": 0,
             "ticks": ""
            },
            "colorscale": [
             [
              0,
              "#0d0887"
             ],
             [
              0.1111111111111111,
              "#46039f"
             ],
             [
              0.2222222222222222,
              "#7201a8"
             ],
             [
              0.3333333333333333,
              "#9c179e"
             ],
             [
              0.4444444444444444,
              "#bd3786"
             ],
             [
              0.5555555555555556,
              "#d8576b"
             ],
             [
              0.6666666666666666,
              "#ed7953"
             ],
             [
              0.7777777777777778,
              "#fb9f3a"
             ],
             [
              0.8888888888888888,
              "#fdca26"
             ],
             [
              1,
              "#f0f921"
             ]
            ],
            "type": "heatmapgl"
           }
          ],
          "histogram": [
           {
            "marker": {
             "pattern": {
              "fillmode": "overlay",
              "size": 10,
              "solidity": 0.2
             }
            },
            "type": "histogram"
           }
          ],
          "histogram2d": [
           {
            "colorbar": {
             "outlinewidth": 0,
             "ticks": ""
            },
            "colorscale": [
             [
              0,
              "#0d0887"
             ],
             [
              0.1111111111111111,
              "#46039f"
             ],
             [
              0.2222222222222222,
              "#7201a8"
             ],
             [
              0.3333333333333333,
              "#9c179e"
             ],
             [
              0.4444444444444444,
              "#bd3786"
             ],
             [
              0.5555555555555556,
              "#d8576b"
             ],
             [
              0.6666666666666666,
              "#ed7953"
             ],
             [
              0.7777777777777778,
              "#fb9f3a"
             ],
             [
              0.8888888888888888,
              "#fdca26"
             ],
             [
              1,
              "#f0f921"
             ]
            ],
            "type": "histogram2d"
           }
          ],
          "histogram2dcontour": [
           {
            "colorbar": {
             "outlinewidth": 0,
             "ticks": ""
            },
            "colorscale": [
             [
              0,
              "#0d0887"
             ],
             [
              0.1111111111111111,
              "#46039f"
             ],
             [
              0.2222222222222222,
              "#7201a8"
             ],
             [
              0.3333333333333333,
              "#9c179e"
             ],
             [
              0.4444444444444444,
              "#bd3786"
             ],
             [
              0.5555555555555556,
              "#d8576b"
             ],
             [
              0.6666666666666666,
              "#ed7953"
             ],
             [
              0.7777777777777778,
              "#fb9f3a"
             ],
             [
              0.8888888888888888,
              "#fdca26"
             ],
             [
              1,
              "#f0f921"
             ]
            ],
            "type": "histogram2dcontour"
           }
          ],
          "mesh3d": [
           {
            "colorbar": {
             "outlinewidth": 0,
             "ticks": ""
            },
            "type": "mesh3d"
           }
          ],
          "parcoords": [
           {
            "line": {
             "colorbar": {
              "outlinewidth": 0,
              "ticks": ""
             }
            },
            "type": "parcoords"
           }
          ],
          "pie": [
           {
            "automargin": true,
            "type": "pie"
           }
          ],
          "scatter": [
           {
            "fillpattern": {
             "fillmode": "overlay",
             "size": 10,
             "solidity": 0.2
            },
            "type": "scatter"
           }
          ],
          "scatter3d": [
           {
            "line": {
             "colorbar": {
              "outlinewidth": 0,
              "ticks": ""
             }
            },
            "marker": {
             "colorbar": {
              "outlinewidth": 0,
              "ticks": ""
             }
            },
            "type": "scatter3d"
           }
          ],
          "scattercarpet": [
           {
            "marker": {
             "colorbar": {
              "outlinewidth": 0,
              "ticks": ""
             }
            },
            "type": "scattercarpet"
           }
          ],
          "scattergeo": [
           {
            "marker": {
             "colorbar": {
              "outlinewidth": 0,
              "ticks": ""
             }
            },
            "type": "scattergeo"
           }
          ],
          "scattergl": [
           {
            "marker": {
             "colorbar": {
              "outlinewidth": 0,
              "ticks": ""
             }
            },
            "type": "scattergl"
           }
          ],
          "scattermapbox": [
           {
            "marker": {
             "colorbar": {
              "outlinewidth": 0,
              "ticks": ""
             }
            },
            "type": "scattermapbox"
           }
          ],
          "scatterpolar": [
           {
            "marker": {
             "colorbar": {
              "outlinewidth": 0,
              "ticks": ""
             }
            },
            "type": "scatterpolar"
           }
          ],
          "scatterpolargl": [
           {
            "marker": {
             "colorbar": {
              "outlinewidth": 0,
              "ticks": ""
             }
            },
            "type": "scatterpolargl"
           }
          ],
          "scatterternary": [
           {
            "marker": {
             "colorbar": {
              "outlinewidth": 0,
              "ticks": ""
             }
            },
            "type": "scatterternary"
           }
          ],
          "surface": [
           {
            "colorbar": {
             "outlinewidth": 0,
             "ticks": ""
            },
            "colorscale": [
             [
              0,
              "#0d0887"
             ],
             [
              0.1111111111111111,
              "#46039f"
             ],
             [
              0.2222222222222222,
              "#7201a8"
             ],
             [
              0.3333333333333333,
              "#9c179e"
             ],
             [
              0.4444444444444444,
              "#bd3786"
             ],
             [
              0.5555555555555556,
              "#d8576b"
             ],
             [
              0.6666666666666666,
              "#ed7953"
             ],
             [
              0.7777777777777778,
              "#fb9f3a"
             ],
             [
              0.8888888888888888,
              "#fdca26"
             ],
             [
              1,
              "#f0f921"
             ]
            ],
            "type": "surface"
           }
          ],
          "table": [
           {
            "cells": {
             "fill": {
              "color": "#EBF0F8"
             },
             "line": {
              "color": "white"
             }
            },
            "header": {
             "fill": {
              "color": "#C8D4E3"
             },
             "line": {
              "color": "white"
             }
            },
            "type": "table"
           }
          ]
         },
         "layout": {
          "annotationdefaults": {
           "arrowcolor": "#2a3f5f",
           "arrowhead": 0,
           "arrowwidth": 1
          },
          "autotypenumbers": "strict",
          "coloraxis": {
           "colorbar": {
            "outlinewidth": 0,
            "ticks": ""
           }
          },
          "colorscale": {
           "diverging": [
            [
             0,
             "#8e0152"
            ],
            [
             0.1,
             "#c51b7d"
            ],
            [
             0.2,
             "#de77ae"
            ],
            [
             0.3,
             "#f1b6da"
            ],
            [
             0.4,
             "#fde0ef"
            ],
            [
             0.5,
             "#f7f7f7"
            ],
            [
             0.6,
             "#e6f5d0"
            ],
            [
             0.7,
             "#b8e186"
            ],
            [
             0.8,
             "#7fbc41"
            ],
            [
             0.9,
             "#4d9221"
            ],
            [
             1,
             "#276419"
            ]
           ],
           "sequential": [
            [
             0,
             "#0d0887"
            ],
            [
             0.1111111111111111,
             "#46039f"
            ],
            [
             0.2222222222222222,
             "#7201a8"
            ],
            [
             0.3333333333333333,
             "#9c179e"
            ],
            [
             0.4444444444444444,
             "#bd3786"
            ],
            [
             0.5555555555555556,
             "#d8576b"
            ],
            [
             0.6666666666666666,
             "#ed7953"
            ],
            [
             0.7777777777777778,
             "#fb9f3a"
            ],
            [
             0.8888888888888888,
             "#fdca26"
            ],
            [
             1,
             "#f0f921"
            ]
           ],
           "sequentialminus": [
            [
             0,
             "#0d0887"
            ],
            [
             0.1111111111111111,
             "#46039f"
            ],
            [
             0.2222222222222222,
             "#7201a8"
            ],
            [
             0.3333333333333333,
             "#9c179e"
            ],
            [
             0.4444444444444444,
             "#bd3786"
            ],
            [
             0.5555555555555556,
             "#d8576b"
            ],
            [
             0.6666666666666666,
             "#ed7953"
            ],
            [
             0.7777777777777778,
             "#fb9f3a"
            ],
            [
             0.8888888888888888,
             "#fdca26"
            ],
            [
             1,
             "#f0f921"
            ]
           ]
          },
          "colorway": [
           "#636efa",
           "#EF553B",
           "#00cc96",
           "#ab63fa",
           "#FFA15A",
           "#19d3f3",
           "#FF6692",
           "#B6E880",
           "#FF97FF",
           "#FECB52"
          ],
          "font": {
           "color": "#2a3f5f"
          },
          "geo": {
           "bgcolor": "white",
           "lakecolor": "white",
           "landcolor": "#E5ECF6",
           "showlakes": true,
           "showland": true,
           "subunitcolor": "white"
          },
          "hoverlabel": {
           "align": "left"
          },
          "hovermode": "closest",
          "mapbox": {
           "style": "light"
          },
          "paper_bgcolor": "white",
          "plot_bgcolor": "#E5ECF6",
          "polar": {
           "angularaxis": {
            "gridcolor": "white",
            "linecolor": "white",
            "ticks": ""
           },
           "bgcolor": "#E5ECF6",
           "radialaxis": {
            "gridcolor": "white",
            "linecolor": "white",
            "ticks": ""
           }
          },
          "scene": {
           "xaxis": {
            "backgroundcolor": "#E5ECF6",
            "gridcolor": "white",
            "gridwidth": 2,
            "linecolor": "white",
            "showbackground": true,
            "ticks": "",
            "zerolinecolor": "white"
           },
           "yaxis": {
            "backgroundcolor": "#E5ECF6",
            "gridcolor": "white",
            "gridwidth": 2,
            "linecolor": "white",
            "showbackground": true,
            "ticks": "",
            "zerolinecolor": "white"
           },
           "zaxis": {
            "backgroundcolor": "#E5ECF6",
            "gridcolor": "white",
            "gridwidth": 2,
            "linecolor": "white",
            "showbackground": true,
            "ticks": "",
            "zerolinecolor": "white"
           }
          },
          "shapedefaults": {
           "line": {
            "color": "#2a3f5f"
           }
          },
          "ternary": {
           "aaxis": {
            "gridcolor": "white",
            "linecolor": "white",
            "ticks": ""
           },
           "baxis": {
            "gridcolor": "white",
            "linecolor": "white",
            "ticks": ""
           },
           "bgcolor": "#E5ECF6",
           "caxis": {
            "gridcolor": "white",
            "linecolor": "white",
            "ticks": ""
           }
          },
          "title": {
           "x": 0.05
          },
          "xaxis": {
           "automargin": true,
           "gridcolor": "white",
           "linecolor": "white",
           "ticks": "",
           "title": {
            "standoff": 15
           },
           "zerolinecolor": "white",
           "zerolinewidth": 2
          },
          "yaxis": {
           "automargin": true,
           "gridcolor": "white",
           "linecolor": "white",
           "ticks": "",
           "title": {
            "standoff": 15
           },
           "zerolinecolor": "white",
           "zerolinewidth": 2
          }
         }
        },
        "xaxis": {
         "anchor": "y",
         "domain": [
          0,
          1
         ],
         "title": {
          "text": "x"
         }
        },
        "yaxis": {
         "anchor": "x",
         "domain": [
          0,
          1
         ],
         "title": {
          "text": "y"
         }
        }
       }
      }
     },
     "metadata": {},
     "output_type": "display_data"
    }
   ],
   "source": [
    "fig = px.bar(y=res.values, x=U.bins[:-1])\n",
    "fig.show()"
   ]
  },
  {
   "cell_type": "code",
   "execution_count": 22,
   "metadata": {},
   "outputs": [
    {
     "ename": "AttributeError",
     "evalue": "module 'bp' has no attribute 'query'",
     "output_type": "error",
     "traceback": [
      "\u001b[0;31m---------------------------------------------------------------------------\u001b[0m",
      "\u001b[0;31mAttributeError\u001b[0m                            Traceback (most recent call last)",
      "\u001b[1;32m/Users/tristan.trebaol/Desktop/PhD/Code/phd/src/milestone_model/milsetone_model.ipynb Cell 10\u001b[0m in \u001b[0;36m<cell line: 1>\u001b[0;34m()\u001b[0m\n\u001b[0;32m----> <a href='vscode-notebook-cell:/Users/tristan.trebaol/Desktop/PhD/Code/phd/src/milestone_model/milsetone_model.ipynb#W6sZmlsZQ%3D%3D?line=0'>1</a>\u001b[0m res \u001b[39m=\u001b[39m bp\u001b[39m.\u001b[39;49mquery(variables\u001b[39m=\u001b[39m[C\u001b[39m.\u001b[39mname], evidence\u001b[39m=\u001b[39m{FEV1\u001b[39m.\u001b[39mname: \u001b[39m0\u001b[39m})\n\u001b[1;32m      <a href='vscode-notebook-cell:/Users/tristan.trebaol/Desktop/PhD/Code/phd/src/milestone_model/milsetone_model.ipynb#W6sZmlsZQ%3D%3D?line=1'>2</a>\u001b[0m res\u001b[39m.\u001b[39mvalues\n",
      "\u001b[0;31mAttributeError\u001b[0m: module 'bp' has no attribute 'query'"
     ]
    }
   ],
   "source": [
    "res = inference.query(variables=[C.name], evidence={FEV1.name: 0})\n",
    "res.values"
   ]
  },
  {
   "cell_type": "code",
   "execution_count": null,
   "metadata": {},
   "outputs": [
    {
     "data": {
      "text/plain": [
       "1.0"
      ]
     },
     "execution_count": 33,
     "metadata": {},
     "output_type": "execute_result"
    }
   ],
   "source": [
    "C.bins"
   ]
  },
  {
   "cell_type": "code",
   "execution_count": 55,
   "metadata": {},
   "outputs": [
    {
     "name": "stdout",
     "output_type": "stream",
     "text": [
      "Dash is running on http://127.0.0.1:8049/\n",
      "\n",
      " * Serving Flask app '__main__'\n",
      " * Debug mode: on\n",
      "get fev1 0.2\n",
      "-1\n"
     ]
    },
    {
     "name": "stderr",
     "output_type": "stream",
     "text": [
      "/Applications/anaconda3/envs/phd/lib/python3.10/site-packages/pgmpy/factors/discrete/DiscreteFactor.py:540: UserWarning:\n",
      "\n",
      "Found unknown state name. Trying to switch to using all state names as state numbers\n",
      "\n"
     ]
    },
    {
     "data": {
      "application/vnd.jupyter.widget-view+json": {
       "model_id": "6df7466b9bfa4dc9815cde3a86df2498",
       "version_major": 2,
       "version_minor": 0
      },
      "text/plain": [
       "  0%|          | 0/1 [00:00<?, ?it/s]"
      ]
     },
     "metadata": {},
     "output_type": "display_data"
    },
    {
     "name": "stdout",
     "output_type": "stream",
     "text": [
      "get fev1 0.2\n",
      "-1\n"
     ]
    },
    {
     "name": "stderr",
     "output_type": "stream",
     "text": [
      "/Applications/anaconda3/envs/phd/lib/python3.10/site-packages/pgmpy/factors/discrete/DiscreteFactor.py:540: UserWarning:\n",
      "\n",
      "Found unknown state name. Trying to switch to using all state names as state numbers\n",
      "\n"
     ]
    },
    {
     "data": {
      "application/vnd.jupyter.widget-view+json": {
       "model_id": "21e98431f1ac489b87067e585ab2a236",
       "version_major": 2,
       "version_minor": 0
      },
      "text/plain": [
       "  0%|          | 0/1 [00:00<?, ?it/s]"
      ]
     },
     "metadata": {},
     "output_type": "display_data"
    },
    {
     "name": "stdout",
     "output_type": "stream",
     "text": [
      "get fev1 3\n",
      "27\n"
     ]
    },
    {
     "data": {
      "application/vnd.jupyter.widget-view+json": {
       "model_id": "f373ab4a4ee24701acc1664fb5f5164d",
       "version_major": 2,
       "version_minor": 0
      },
      "text/plain": [
       "  0%|          | 0/1 [00:00<?, ?it/s]"
      ]
     },
     "metadata": {},
     "output_type": "display_data"
    }
   ],
   "source": [
    "from dash import Dash, dcc, html, Input, Output\n",
    "\n",
    "app = Dash(__name__)\n",
    "\n",
    "app.layout = html.Div([\n",
    "    html.H4('Interactive normal distribution'),\n",
    "    dcc.Graph(id=\"graph\"),\n",
    "    html.P(\"FEV1:\"),\n",
    "    dcc.Slider(id=\"fev1\", min=FEV1.bins[0], max=FEV1.bins[-1], value=0.2, \n",
    "               marks={0: '0.2', (len(C.bins)-1): '6'}),\n",
    "])\n",
    "\n",
    "\n",
    "@app.callback(\n",
    "    Output(\"graph\", \"figure\"), \n",
    "    Input(\"fev1\", \"value\"))\n",
    "def display_color(fev1):\n",
    "    print(\"get fev1\", fev1)\n",
    "  \n",
    "    # Find in C.bins the closest value to fev1\n",
    "    fev1_idx = np.argmin(np.abs(FEV1.bins - fev1))-1\n",
    "    print(fev1_idx)\n",
    "    res = inference.query(variables=[U.name], evidence={FEV1.name: fev1_idx})\n",
    "    fig = px.bar(y=res.values, x=U.bins[:-1])\n",
    "    return fig\n",
    "\n",
    "app.run_server(debug=True, port=8049, use_reloader=False)"
   ]
  },
  {
   "attachments": {},
   "cell_type": "markdown",
   "metadata": {},
   "source": [
    "0.1-0.05"
   ]
  },
  {
   "cell_type": "code",
   "execution_count": null,
   "metadata": {},
   "outputs": [],
   "source": []
  }
 ],
 "metadata": {
  "kernelspec": {
   "display_name": "phd",
   "language": "python",
   "name": "python3"
  },
  "language_info": {
   "codemirror_mode": {
    "name": "ipython",
    "version": 3
   },
   "file_extension": ".py",
   "mimetype": "text/x-python",
   "name": "python",
   "nbconvert_exporter": "python",
   "pygments_lexer": "ipython3",
   "version": "3.10.0"
  },
  "orig_nbformat": 4
 },
 "nbformat": 4,
 "nbformat_minor": 2
}
