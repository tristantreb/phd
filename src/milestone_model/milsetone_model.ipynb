{
 "cells": [
  {
   "cell_type": "code",
   "execution_count": 13,
   "metadata": {},
   "outputs": [],
   "source": [
    "from pgmpy.models import BayesianNetwork\n",
    "from pgmpy.factors.discrete import TabularCPD\n",
    "from pgmpy.inference import BeliefPropagation\n",
    "\n",
    "import bp\n",
    "import numpy as np\n",
    "np.set_printoptions(suppress=True)"
   ]
  },
  {
   "cell_type": "code",
   "execution_count": 14,
   "metadata": {},
   "outputs": [],
   "source": [
    "U = bp.variableNode(\"Unblocked FEV1\", 2, 6, 0.1)\n",
    "B = bp.variableNode(\"Small airway clearance\", 0.1, 1, 0.1)\n",
    "FEV1 = bp.variableNode(\"FEV1\", 0.2, 6, 0.1)"
   ]
  },
  {
   "cell_type": "code",
   "execution_count": 15,
   "metadata": {},
   "outputs": [
    {
     "name": "stdout",
     "output_type": "stream",
     "text": [
      "calculating cpt of shape 58 x 40 x 9 (C x A x B) \n"
     ]
    },
    {
     "data": {
      "text/plain": [
       "True"
      ]
     },
     "execution_count": 15,
     "metadata": {},
     "output_type": "execute_result"
    }
   ],
   "source": [
    "graph = BayesianNetwork([(U.name, FEV1.name), (B.name, FEV1.name)])\n",
    "\n",
    "cpt_fev1 = TabularCPD(\n",
    "    variable=FEV1.name,\n",
    "    variable_card=len(FEV1.bins)-1,\n",
    "    values=np.reshape(bp.calc_cpt(U, B, FEV1),(58,360), order=\"F\"),\n",
    "    evidence=[B.name, U.name],\n",
    "    evidence_card=[len(B.bins)-1, len(U.bins)-1],\n",
    ")\n",
    "\n",
    "prior_b = TabularCPD(\n",
    "    variable=B.name,\n",
    "    variable_card=len(B.bins)-1,\n",
    "    values=B.marginal(B),\n",
    "    evidence=[],\n",
    "    evidence_card=[],\n",
    ")\n",
    "\n",
    "prior_u = TabularCPD(\n",
    "    variable=U.name,\n",
    "    variable_card=len(U.bins)-1,\n",
    "    values=U.marginal(U),\n",
    "    evidence=[],\n",
    "    evidence_card=[],\n",
    ")\n",
    "\n",
    "graph.add_cpds(cpt_fev1, prior_b, prior_u)\n",
    "\n",
    "graph.check_model()\n"
   ]
  },
  {
   "cell_type": "code",
   "execution_count": 17,
   "metadata": {},
   "outputs": [
    {
     "data": {
      "application/vnd.jupyter.widget-view+json": {
       "model_id": "6dab02cdfbfb4099affab69af653b915",
       "version_major": 2,
       "version_minor": 0
      },
      "text/plain": [
       "  0%|          | 0/1 [00:00<?, ?it/s]"
      ]
     },
     "metadata": {},
     "output_type": "display_data"
    },
    {
     "name": "stdout",
     "output_type": "stream",
     "text": [
      "shape of the response (40,)\n"
     ]
    },
    {
     "data": {
      "text/plain": [
       "array([0.21428602, 0.18281378, 0.15414052, 0.12790869, 0.10381917,\n",
       "       0.08161978, 0.06109644, 0.04206622, 0.02437187, 0.0078775 ,\n",
       "       0.        , 0.        , 0.        , 0.        , 0.        ,\n",
       "       0.        , 0.        , 0.        , 0.        , 0.        ,\n",
       "       0.        , 0.        , 0.        , 0.        , 0.        ,\n",
       "       0.        , 0.        , 0.        , 0.        , 0.        ,\n",
       "       0.        , 0.        , 0.        , 0.        , 0.        ,\n",
       "       0.        , 0.        , 0.        , 0.        , 0.        ])"
      ]
     },
     "execution_count": 17,
     "metadata": {},
     "output_type": "execute_result"
    }
   ],
   "source": [
    "bp = BeliefPropagation(graph)\n",
    "res = bp.query(variables=[U.name], evidence={FEV1.name: 0})\n",
    "print(f\"shape of the response {res.values.shape}\")\n",
    "res.values"
   ]
  },
  {
   "cell_type": "code",
   "execution_count": 19,
   "metadata": {},
   "outputs": [
    {
     "data": {
      "application/vnd.jupyter.widget-view+json": {
       "model_id": "dc706c8c78b94a08a8cdd5b2800822a0",
       "version_major": 2,
       "version_minor": 0
      },
      "text/plain": [
       "  0%|          | 0/1 [00:00<?, ?it/s]"
      ]
     },
     "metadata": {},
     "output_type": "display_data"
    },
    {
     "name": "stdout",
     "output_type": "stream",
     "text": [
      "shape of the response (9,)\n"
     ]
    },
    {
     "data": {
      "text/plain": [
       "array([1., 0., 0., 0., 0., 0., 0., 0., 0.])"
      ]
     },
     "execution_count": 19,
     "metadata": {},
     "output_type": "execute_result"
    }
   ],
   "source": [
    "bp = BeliefPropagation(graph)\n",
    "res = bp.query(variables=[B.name], evidence={FEV1.name: 0})\n",
    "print(f\"shape of the response {res.values.shape}\")\n",
    "res.values"
   ]
  }
 ],
 "metadata": {
  "kernelspec": {
   "display_name": "phd",
   "language": "python",
   "name": "python3"
  },
  "language_info": {
   "codemirror_mode": {
    "name": "ipython",
    "version": 3
   },
   "file_extension": ".py",
   "mimetype": "text/x-python",
   "name": "python",
   "nbconvert_exporter": "python",
   "pygments_lexer": "ipython3",
   "version": "3.10.0"
  },
  "orig_nbformat": 4
 },
 "nbformat": 4,
 "nbformat_minor": 2
}
