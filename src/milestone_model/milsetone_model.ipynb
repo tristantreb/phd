{
 "cells": [
  {
   "cell_type": "code",
   "execution_count": 1,
   "metadata": {},
   "outputs": [],
   "source": [
    "from pgmpy.models import BayesianNetwork\n",
    "from pgmpy.factors.discrete import TabularCPD\n",
    "from pgmpy.inference import BeliefPropagation\n",
    "\n",
    "import bp"
   ]
  },
  {
   "cell_type": "code",
   "execution_count": 2,
   "metadata": {},
   "outputs": [],
   "source": [
    "U = bp.variableNode(\"Unblocked FEV1\", 2, 6, 1)\n",
    "B = bp.variableNode(\"Small airway blockage\", 0, 1, 0.2)\n",
    "FEV1 = bp.variableNode(\"FEV1\", 0, 6, 1)"
   ]
  },
  {
   "cell_type": "code",
   "execution_count": 6,
   "metadata": {},
   "outputs": [
    {
     "ename": "ValueError",
     "evalue": "Sum or integral of conditional probabilites for node FEV1 is not equal to 1.",
     "output_type": "error",
     "traceback": [
      "\u001b[0;31m---------------------------------------------------------------------------\u001b[0m",
      "\u001b[0;31mValueError\u001b[0m                                Traceback (most recent call last)",
      "\u001b[1;32m/Users/tristan.trebaol/Desktop/PhD/Code/phd/src/milestone_model/milsetone_model.ipynb Cell 3\u001b[0m in \u001b[0;36m<cell line: 29>\u001b[0;34m()\u001b[0m\n\u001b[1;32m     <a href='vscode-notebook-cell:/Users/tristan.trebaol/Desktop/PhD/Code/phd/src/milestone_model/milsetone_model.ipynb#W1sZmlsZQ%3D%3D?line=18'>19</a>\u001b[0m prior_u \u001b[39m=\u001b[39m TabularCPD(\n\u001b[1;32m     <a href='vscode-notebook-cell:/Users/tristan.trebaol/Desktop/PhD/Code/phd/src/milestone_model/milsetone_model.ipynb#W1sZmlsZQ%3D%3D?line=19'>20</a>\u001b[0m     variable\u001b[39m=\u001b[39mU\u001b[39m.\u001b[39mname,\n\u001b[1;32m     <a href='vscode-notebook-cell:/Users/tristan.trebaol/Desktop/PhD/Code/phd/src/milestone_model/milsetone_model.ipynb#W1sZmlsZQ%3D%3D?line=20'>21</a>\u001b[0m     variable_card\u001b[39m=\u001b[39m\u001b[39mlen\u001b[39m(U\u001b[39m.\u001b[39mbins)\u001b[39m-\u001b[39m\u001b[39m1\u001b[39m,\n\u001b[0;32m   (...)\u001b[0m\n\u001b[1;32m     <a href='vscode-notebook-cell:/Users/tristan.trebaol/Desktop/PhD/Code/phd/src/milestone_model/milsetone_model.ipynb#W1sZmlsZQ%3D%3D?line=23'>24</a>\u001b[0m     evidence_card\u001b[39m=\u001b[39m[],\n\u001b[1;32m     <a href='vscode-notebook-cell:/Users/tristan.trebaol/Desktop/PhD/Code/phd/src/milestone_model/milsetone_model.ipynb#W1sZmlsZQ%3D%3D?line=24'>25</a>\u001b[0m )\n\u001b[1;32m     <a href='vscode-notebook-cell:/Users/tristan.trebaol/Desktop/PhD/Code/phd/src/milestone_model/milsetone_model.ipynb#W1sZmlsZQ%3D%3D?line=26'>27</a>\u001b[0m graph\u001b[39m.\u001b[39madd_cpds(cpt_fev1, prior_b, prior_u)\n\u001b[0;32m---> <a href='vscode-notebook-cell:/Users/tristan.trebaol/Desktop/PhD/Code/phd/src/milestone_model/milsetone_model.ipynb#W1sZmlsZQ%3D%3D?line=28'>29</a>\u001b[0m graph\u001b[39m.\u001b[39;49mcheck_model()\n",
      "File \u001b[0;32m/Applications/anaconda3/envs/phd/lib/python3.10/site-packages/pgmpy/models/BayesianNetwork.py:423\u001b[0m, in \u001b[0;36mBayesianNetwork.check_model\u001b[0;34m(self)\u001b[0m\n\u001b[1;32m    421\u001b[0m \u001b[39m# Check if the values of the CPD sum to 1.\u001b[39;00m\n\u001b[1;32m    422\u001b[0m \u001b[39mif\u001b[39;00m \u001b[39mnot\u001b[39;00m cpd\u001b[39m.\u001b[39mis_valid_cpd():\n\u001b[0;32m--> 423\u001b[0m     \u001b[39mraise\u001b[39;00m \u001b[39mValueError\u001b[39;00m(\n\u001b[1;32m    424\u001b[0m         \u001b[39mf\u001b[39m\u001b[39m\"\u001b[39m\u001b[39mSum or integral of conditional probabilites for node \u001b[39m\u001b[39m{\u001b[39;00mnode\u001b[39m}\u001b[39;00m\u001b[39m is not equal to 1.\u001b[39m\u001b[39m\"\u001b[39m\n\u001b[1;32m    425\u001b[0m     )\n\u001b[1;32m    427\u001b[0m \u001b[39mif\u001b[39;00m \u001b[39mlen\u001b[39m(\u001b[39mset\u001b[39m(cpd\u001b[39m.\u001b[39mvariables) \u001b[39m-\u001b[39m \u001b[39mset\u001b[39m(cpd\u001b[39m.\u001b[39mstate_names\u001b[39m.\u001b[39mkeys())) \u001b[39m>\u001b[39m \u001b[39m0\u001b[39m:\n\u001b[1;32m    428\u001b[0m     \u001b[39mraise\u001b[39;00m \u001b[39mValueError\u001b[39;00m(\n\u001b[1;32m    429\u001b[0m         \u001b[39m\"\u001b[39m\u001b[39mCPD for \u001b[39m\u001b[39m{node}\u001b[39;00m\u001b[39m doesn\u001b[39m\u001b[39m'\u001b[39m\u001b[39mt have state names defined for all the variables.\u001b[39m\u001b[39m\"\u001b[39m\n\u001b[1;32m    430\u001b[0m     )\n",
      "\u001b[0;31mValueError\u001b[0m: Sum or integral of conditional probabilites for node FEV1 is not equal to 1."
     ]
    }
   ],
   "source": [
    "graph = BayesianNetwork([(U.name, FEV1.name), (B.name, FEV1.name)])\n",
    "\n",
    "cpt_fev1 = TabularCPD(\n",
    "    variable=FEV1.name,\n",
    "    variable_card=len(FEV1.bins)-1,\n",
    "    values=bp.calc_pgmpy_cpt(U, B, FEV1).tolist(),\n",
    "    evidence=[U.name, B.name],\n",
    "    evidence_card=[len(U.bins)-1, len(B.bins)-1],\n",
    ")\n",
    "\n",
    "prior_b = TabularCPD(\n",
    "    variable=B.name,\n",
    "    variable_card=len(B.bins)-1,\n",
    "    values=B.marginal(B),\n",
    "    evidence=[],\n",
    "    evidence_card=[],\n",
    ")\n",
    "\n",
    "prior_u = TabularCPD(\n",
    "    variable=U.name,\n",
    "    variable_card=len(U.bins)-1,\n",
    "    values=U.marginal(U),\n",
    "    evidence=[],\n",
    "    evidence_card=[],\n",
    ")\n",
    "\n",
    "graph.add_cpds(cpt_fev1, prior_b, prior_u)\n",
    "\n",
    "graph.check_model()\n"
   ]
  },
  {
   "cell_type": "code",
   "execution_count": 3,
   "metadata": {},
   "outputs": [
    {
     "ename": "AssertionError",
     "evalue": "The sum of the probabilities should be 1, U(4, 5), B(0.4, 0.6000000000000001)]",
     "output_type": "error",
     "traceback": [
      "\u001b[0;31m---------------------------------------------------------------------------\u001b[0m",
      "\u001b[0;31mAssertionError\u001b[0m                            Traceback (most recent call last)",
      "\u001b[1;32m/Users/tristan.trebaol/Desktop/PhD/Code/phd/src/milestone_model/milsetone_model.ipynb Cell 4\u001b[0m in \u001b[0;36m<cell line: 3>\u001b[0;34m()\u001b[0m\n\u001b[1;32m      <a href='vscode-notebook-cell:/Users/tristan.trebaol/Desktop/PhD/Code/phd/src/milestone_model/milsetone_model.ipynb#X22sZmlsZQ%3D%3D?line=0'>1</a>\u001b[0m \u001b[39mimport\u001b[39;00m \u001b[39mnumpy\u001b[39;00m \u001b[39mas\u001b[39;00m \u001b[39mnp\u001b[39;00m\n\u001b[1;32m      <a href='vscode-notebook-cell:/Users/tristan.trebaol/Desktop/PhD/Code/phd/src/milestone_model/milsetone_model.ipynb#X22sZmlsZQ%3D%3D?line=1'>2</a>\u001b[0m np\u001b[39m.\u001b[39mset_printoptions(suppress\u001b[39m=\u001b[39m\u001b[39mTrue\u001b[39;00m)\n\u001b[0;32m----> <a href='vscode-notebook-cell:/Users/tristan.trebaol/Desktop/PhD/Code/phd/src/milestone_model/milsetone_model.ipynb#X22sZmlsZQ%3D%3D?line=2'>3</a>\u001b[0m \u001b[39msum\u001b[39m(bp\u001b[39m.\u001b[39;49mcalc_pgmpy_cpt(U, B, FEV1))\n",
      "File \u001b[0;32m~/Desktop/PhD/Code/phd/src/milestone_model/bp.py:157\u001b[0m, in \u001b[0;36mcalc_pgmpy_cpt\u001b[0;34m(parentA, parentB, C)\u001b[0m\n\u001b[1;32m    154\u001b[0m             \u001b[39melse\u001b[39;00m:\n\u001b[1;32m    155\u001b[0m                 \u001b[39m# The intersection is empty\u001b[39;00m\n\u001b[1;32m    156\u001b[0m                 cpt[c, \u001b[39m2\u001b[39m \u001b[39m*\u001b[39m i \u001b[39m+\u001b[39m j] \u001b[39m=\u001b[39m \u001b[39m0\u001b[39m\n\u001b[0;32m--> 157\u001b[0m         \u001b[39massert\u001b[39;00m \u001b[39mabs\u001b[39m(total \u001b[39m-\u001b[39m \u001b[39m1\u001b[39m) \u001b[39m<\u001b[39m \u001b[39m0.00001\u001b[39m, \u001b[39mf\u001b[39m\u001b[39m\"\u001b[39m\u001b[39mThe sum of the probabilities should be 1, U(\u001b[39m\u001b[39m{\u001b[39;00ma_low\u001b[39m}\u001b[39;00m\u001b[39m, \u001b[39m\u001b[39m{\u001b[39;00ma_up\u001b[39m}\u001b[39;00m\u001b[39m), B(\u001b[39m\u001b[39m{\u001b[39;00mb_low\u001b[39m}\u001b[39;00m\u001b[39m, \u001b[39m\u001b[39m{\u001b[39;00mb_up\u001b[39m}\u001b[39;00m\u001b[39m)]\u001b[39m\u001b[39m\"\u001b[39m\n\u001b[1;32m    159\u001b[0m \u001b[39mreturn\u001b[39;00m cpt\n",
      "\u001b[0;31mAssertionError\u001b[0m: The sum of the probabilities should be 1, U(4, 5), B(0.4, 0.6000000000000001)]"
     ]
    }
   ],
   "source": [
    "import numpy as np\n",
    "np.set_printoptions(suppress=True)\n",
    "sum(bp.calc_pgmpy_cpt(U, B, FEV1))"
   ]
  },
  {
   "cell_type": "code",
   "execution_count": 3,
   "metadata": {},
   "outputs": [
    {
     "ename": "AssertionError",
     "evalue": "The sum of the probabilities should be 1",
     "output_type": "error",
     "traceback": [
      "\u001b[0;31m---------------------------------------------------------------------------\u001b[0m",
      "\u001b[0;31mAssertionError\u001b[0m                            Traceback (most recent call last)",
      "\u001b[1;32m/Users/tristan.trebaol/Desktop/PhD/Code/phd/src/milestone_model/milsetone_model.ipynb Cell 5\u001b[0m in \u001b[0;36m<cell line: 1>\u001b[0;34m()\u001b[0m\n\u001b[0;32m----> <a href='vscode-notebook-cell:/Users/tristan.trebaol/Desktop/PhD/Code/phd/src/milestone_model/milsetone_model.ipynb#X23sZmlsZQ%3D%3D?line=0'>1</a>\u001b[0m bp\u001b[39m.\u001b[39;49mcalc_pgmpy_cpt(U, B, FEV1)\n",
      "File \u001b[0;32m~/Desktop/PhD/Code/phd/src/milestone_model/bp.py:157\u001b[0m, in \u001b[0;36mcalc_pgmpy_cpt\u001b[0;34m(parentA, parentB, C)\u001b[0m\n\u001b[1;32m    154\u001b[0m             \u001b[39melse\u001b[39;00m:\n\u001b[1;32m    155\u001b[0m                 \u001b[39m# The intersection is empty\u001b[39;00m\n\u001b[1;32m    156\u001b[0m                 cpt[c, \u001b[39m2\u001b[39m \u001b[39m*\u001b[39m i \u001b[39m+\u001b[39m j] \u001b[39m=\u001b[39m \u001b[39m0\u001b[39m\n\u001b[0;32m--> 157\u001b[0m         \u001b[39massert\u001b[39;00m \u001b[39mabs\u001b[39m(total \u001b[39m-\u001b[39m \u001b[39m1\u001b[39m) \u001b[39m<\u001b[39m \u001b[39m0.00001\u001b[39m, \u001b[39m\"\u001b[39m\u001b[39mThe sum of the probabilities should be 1\u001b[39m\u001b[39m\"\u001b[39m\n\u001b[1;32m    159\u001b[0m \u001b[39mreturn\u001b[39;00m cpt\n",
      "\u001b[0;31mAssertionError\u001b[0m: The sum of the probabilities should be 1"
     ]
    }
   ],
   "source": [
    "bp.calc_pgmpy_cpt(U, B, FEV1)"
   ]
  },
  {
   "cell_type": "code",
   "execution_count": 11,
   "metadata": {},
   "outputs": [
    {
     "ename": "ValueError",
     "evalue": "Sum or integral of conditional probabilites for node FEV1 is not equal to 1.",
     "output_type": "error",
     "traceback": [
      "\u001b[0;31m---------------------------------------------------------------------------\u001b[0m",
      "\u001b[0;31mValueError\u001b[0m                                Traceback (most recent call last)",
      "\u001b[1;32m/Users/tristan.trebaol/Desktop/PhD/Code/phd/src/milestone_model/milsetone_model.ipynb Cell 4\u001b[0m in \u001b[0;36m<cell line: 1>\u001b[0;34m()\u001b[0m\n\u001b[0;32m----> <a href='vscode-notebook-cell:/Users/tristan.trebaol/Desktop/PhD/Code/phd/src/milestone_model/milsetone_model.ipynb#X20sZmlsZQ%3D%3D?line=0'>1</a>\u001b[0m bp \u001b[39m=\u001b[39m BeliefPropagation(graph)\n\u001b[1;32m      <a href='vscode-notebook-cell:/Users/tristan.trebaol/Desktop/PhD/Code/phd/src/milestone_model/milsetone_model.ipynb#X20sZmlsZQ%3D%3D?line=1'>2</a>\u001b[0m bp\u001b[39m.\u001b[39mquery(variables\u001b[39m=\u001b[39m[U\u001b[39m.\u001b[39mname, B\u001b[39m.\u001b[39mname], evidence\u001b[39m=\u001b[39m{FEV1\u001b[39m.\u001b[39mname: \u001b[39m3\u001b[39m})\n",
      "File \u001b[0;32m/Applications/anaconda3/envs/phd/lib/python3.10/site-packages/pgmpy/inference/ExactInference.py:589\u001b[0m, in \u001b[0;36mBeliefPropagation.__init__\u001b[0;34m(self, model)\u001b[0m\n\u001b[1;32m    588\u001b[0m \u001b[39mdef\u001b[39;00m \u001b[39m__init__\u001b[39m(\u001b[39mself\u001b[39m, model):\n\u001b[0;32m--> 589\u001b[0m     \u001b[39msuper\u001b[39;49m(BeliefPropagation, \u001b[39mself\u001b[39;49m)\u001b[39m.\u001b[39;49m\u001b[39m__init__\u001b[39;49m(model)\n\u001b[1;32m    591\u001b[0m     \u001b[39mif\u001b[39;00m \u001b[39mnot\u001b[39;00m \u001b[39misinstance\u001b[39m(model, JunctionTree):\n\u001b[1;32m    592\u001b[0m         \u001b[39mself\u001b[39m\u001b[39m.\u001b[39mjunction_tree \u001b[39m=\u001b[39m model\u001b[39m.\u001b[39mto_junction_tree()\n",
      "File \u001b[0;32m/Applications/anaconda3/envs/phd/lib/python3.10/site-packages/pgmpy/inference/base.py:65\u001b[0m, in \u001b[0;36mInference.__init__\u001b[0;34m(self, model)\u001b[0m\n\u001b[1;32m     63\u001b[0m \u001b[39mdef\u001b[39;00m \u001b[39m__init__\u001b[39m(\u001b[39mself\u001b[39m, model):\n\u001b[1;32m     64\u001b[0m     \u001b[39mself\u001b[39m\u001b[39m.\u001b[39mmodel \u001b[39m=\u001b[39m model\n\u001b[0;32m---> 65\u001b[0m     model\u001b[39m.\u001b[39;49mcheck_model()\n\u001b[1;32m     67\u001b[0m     \u001b[39mif\u001b[39;00m \u001b[39misinstance\u001b[39m(\u001b[39mself\u001b[39m\u001b[39m.\u001b[39mmodel, JunctionTree):\n\u001b[1;32m     68\u001b[0m         \u001b[39mself\u001b[39m\u001b[39m.\u001b[39mvariables \u001b[39m=\u001b[39m \u001b[39mset\u001b[39m(chain(\u001b[39m*\u001b[39m\u001b[39mself\u001b[39m\u001b[39m.\u001b[39mmodel\u001b[39m.\u001b[39mnodes()))\n",
      "File \u001b[0;32m/Applications/anaconda3/envs/phd/lib/python3.10/site-packages/pgmpy/models/BayesianNetwork.py:423\u001b[0m, in \u001b[0;36mBayesianNetwork.check_model\u001b[0;34m(self)\u001b[0m\n\u001b[1;32m    421\u001b[0m \u001b[39m# Check if the values of the CPD sum to 1.\u001b[39;00m\n\u001b[1;32m    422\u001b[0m \u001b[39mif\u001b[39;00m \u001b[39mnot\u001b[39;00m cpd\u001b[39m.\u001b[39mis_valid_cpd():\n\u001b[0;32m--> 423\u001b[0m     \u001b[39mraise\u001b[39;00m \u001b[39mValueError\u001b[39;00m(\n\u001b[1;32m    424\u001b[0m         \u001b[39mf\u001b[39m\u001b[39m\"\u001b[39m\u001b[39mSum or integral of conditional probabilites for node \u001b[39m\u001b[39m{\u001b[39;00mnode\u001b[39m}\u001b[39;00m\u001b[39m is not equal to 1.\u001b[39m\u001b[39m\"\u001b[39m\n\u001b[1;32m    425\u001b[0m     )\n\u001b[1;32m    427\u001b[0m \u001b[39mif\u001b[39;00m \u001b[39mlen\u001b[39m(\u001b[39mset\u001b[39m(cpd\u001b[39m.\u001b[39mvariables) \u001b[39m-\u001b[39m \u001b[39mset\u001b[39m(cpd\u001b[39m.\u001b[39mstate_names\u001b[39m.\u001b[39mkeys())) \u001b[39m>\u001b[39m \u001b[39m0\u001b[39m:\n\u001b[1;32m    428\u001b[0m     \u001b[39mraise\u001b[39;00m \u001b[39mValueError\u001b[39;00m(\n\u001b[1;32m    429\u001b[0m         \u001b[39m\"\u001b[39m\u001b[39mCPD for \u001b[39m\u001b[39m{node}\u001b[39;00m\u001b[39m doesn\u001b[39m\u001b[39m'\u001b[39m\u001b[39mt have state names defined for all the variables.\u001b[39m\u001b[39m\"\u001b[39m\n\u001b[1;32m    430\u001b[0m     )\n",
      "\u001b[0;31mValueError\u001b[0m: Sum or integral of conditional probabilites for node FEV1 is not equal to 1."
     ]
    }
   ],
   "source": [
    "bp = BeliefPropagation(graph)\n",
    "bp.query(variables=[U.name, B.name], evidence={FEV1.name: 3})"
   ]
  },
  {
   "cell_type": "code",
   "execution_count": null,
   "metadata": {},
   "outputs": [],
   "source": []
  }
 ],
 "metadata": {
  "kernelspec": {
   "display_name": "phd",
   "language": "python",
   "name": "python3"
  },
  "language_info": {
   "codemirror_mode": {
    "name": "ipython",
    "version": 3
   },
   "file_extension": ".py",
   "mimetype": "text/x-python",
   "name": "python",
   "nbconvert_exporter": "python",
   "pygments_lexer": "ipython3",
   "version": "3.10.0"
  },
  "orig_nbformat": 4
 },
 "nbformat": 4,
 "nbformat_minor": 2
}
