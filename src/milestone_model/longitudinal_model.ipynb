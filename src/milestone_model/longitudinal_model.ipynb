{
 "cells": [
  {
   "cell_type": "markdown",
   "metadata": {},
   "source": [
    "1. Ensure you have data structured longitudinally i.e. for each person, have the FEV1 and O2 data as time series.\n",
    "2. Then run the current ‘point in time model’ (FEV1 only) for each FEV1 measurement for a person.\n",
    "3. Produce a visualisation of the output of the model which shows all time point at once e.g. have time on the x-axis and some display of the uncertain distributions of the latent variables on the y axis. Could be sideways bar charts or box plots or whatever looks best.\n",
    "4. Then we need to make a longitudinal model which has all data points at once for an individual. The simplest way to do this is to separate out the lung damage and airway blockage variables (as we always intended) and have **one** lung damage variable shared across all time points. This represents the assumption that lung damage is constant at this time scale. Then have separate blockage variables for each time point. Try to get this model running if you can + update your visualisation to include the extra lung damage latent variable."
   ]
  },
  {
   "cell_type": "code",
   "execution_count": 1,
   "metadata": {},
   "outputs": [],
   "source": [
    "import sys\n",
    "\n",
    "sys.path.append(\"../../\")\n",
    "sys.path.append(\"../data/\")\n",
    "\n",
    "import O2_FEV1_df\n",
    "import model_lung_health\n",
    "import biology as bio\n",
    "\n",
    "import pandas as pd\n",
    "import numpy as np\n",
    "\n",
    "from matplotlib.gridspec import GridSpec\n",
    "import matplotlib.pyplot as plt\n",
    "import seaborn as sns\n",
    "import networkx as nx\n",
    "\n",
    "plotsdir = \"../../../../PlotsSmartcare/\"\n",
    "\n",
    "\n",
    "def add_heatmap_to_fig(df, ax, colors, title=\"\"):\n",
    "    df = df.reindex(index=df.index[::-1])\n",
    "    sns.heatmap(\n",
    "        df, cmap=colors, annot=True, fmt=\".2f\", linewidths=0.5, ax=ax, cbar=False\n",
    "    )\n",
    "    ax.set_title(title)\n",
    "    return -1"
   ]
  },
  {
   "cell_type": "code",
   "execution_count": 2,
   "metadata": {},
   "outputs": [
    {
     "name": "stdout",
     "output_type": "stream",
     "text": [
      "\n",
      "** Loading measurements data **\n"
     ]
    },
    {
     "name": "stderr",
     "output_type": "stream",
     "text": [
      "/Users/tristan.trebaol/Desktop/PhD/Code/phd/src/milestone_model/../data/measurements_data.py:101: DtypeWarning: Columns (14) have mixed types. Specify dtype option on import or set low_memory=False.\n",
      "  df = pd.read_csv(datadir + \"mydata.csv\")\n"
     ]
    },
    {
     "name": "stdout",
     "output_type": "stream",
     "text": [
      "\n",
      "* Dropping unnecessary columns from measurements data *\n",
      "Columns filtered ['User ID', 'UserName', 'Recording Type', 'Date/Time recorded', 'FEV 1', 'Weight in Kg', 'O2 Saturation', 'Pulse (BPM)', 'Rating', 'Temp (deg C)']\n",
      "Dropping columns {'FEV 10', 'Sputum sample taken?', 'Calories', 'Predicted FEV', 'FEV 1 %', 'Activity - Steps', 'Activity - Points'}\n",
      "\n",
      "* Renaming columns *\n",
      "Renamed columns {'Date/Time recorded': 'Date recorded', 'FEV 1': 'FEV1', 'Weight in Kg': 'Weight (kg)'}\n",
      "\n",
      "* Applying data sanity checks *\n",
      "\n",
      "FEV1\n",
      "Dropping 1 entries with FEV1 = 3.45 for user Kings004\n",
      "\n",
      "Weight (kg)\n",
      "Dropping 2 entries with Weight (kg) = 6.0 for user Papworth033\n",
      "Dropping 1 entries with Weight (kg) = 0.55 for user Kings013\n",
      "Dropping 1 entries with Weight (kg) = 8.262500000000001 for user Papworth017\n",
      "Dropping 1 entries with Weight (kg) = 1056.0 for user leeds01730\n",
      "Dropping 1 entries with Weight (kg) = 20.0 for user Papworth019\n",
      "Warning - ID PapworthSummer has Weight (28.9375) outside 30-122 kg range\n",
      "Warning - ID PapworthSummer has Weight (29.200000000000003) outside 30-122 kg range\n",
      "Warning - ID EmemTest has Weight (14.9625) outside 30-122 kg range\n",
      "Warning - ID FPH0011 has Weight (7.8) outside 30-122 kg range\n",
      "\n",
      "Pulse (BPM)\n",
      "Dropping 14 entries with Pulse (BPM) == 511)\n",
      "       Pulse (BPM)      UserName\n",
      "60638        511.0   Papworth002\n",
      "60989        511.0   Papworth001\n",
      "61026        511.0    leeds01050\n",
      "61374        511.0    leeds01320\n",
      "63126        511.0      Kings005\n",
      "63525        511.0    leeds01222\n",
      "65022        511.0      Kings001\n",
      "65563        511.0    leeds01253\n",
      "65805        511.0      Kings012\n",
      "67006        511.0   Papworth032\n",
      "68674        511.0   Papworth028\n",
      "69260        511.0   Papworth028\n",
      "71159        511.0        FPH007\n",
      "72361        511.0  BRISTOLSC021\n",
      "Dropping 1 entries with Pulse (BPM) = 30.0 for user leeds01670\n",
      "\n",
      "O2 Saturation\n",
      "IDs with O2 Saturation outside 70-100 % range: \n",
      "          UserName  O2 Saturation\n",
      "50403     Kings001          127.0\n",
      "49087     Kings005          127.0\n",
      "53923     Kings007           48.0\n",
      "46706  Papworth001          127.0\n",
      "46119  Papworth002          127.0\n",
      "46782  Papworth010          104.0\n",
      "47102  Papworth010          103.0\n",
      "52484  Papworth027          127.0\n",
      "53781  Papworth028          127.0\n",
      "55379  Papworth028          127.0\n",
      "49622   leeds01222          127.0\n",
      "47510   leeds01320          127.0\n",
      "Dropping 12 entries with O2 Saturation outside 70-100 % range\n",
      "\n",
      "Temp (deg C)\n",
      "Dropping 18 entries with Temp (deg C) < 15\n",
      "        Temp (deg C)     UserName\n",
      "99233            1.0  Papworth018\n",
      "99240            2.0  Papworth018\n",
      "99243            2.0  Papworth018\n",
      "99274            1.0  Papworth018\n",
      "99283            1.0  Papworth018\n",
      "99291            1.0  Papworth018\n",
      "99343            4.0  Papworth018\n",
      "99366            1.0  Papworth018\n",
      "99415            5.0  Papworth018\n",
      "99646            2.0  Papworth018\n",
      "99657            8.0  Papworth018\n",
      "99714            6.0  Papworth018\n",
      "99719            1.0  Papworth018\n",
      "99722           13.0  Papworth018\n",
      "100477           5.0  Papworth018\n",
      "100568           5.0  Papworth018\n",
      "100592           4.0  Papworth018\n",
      "100607           8.0  Papworth018\n",
      "Dropping 19 entries with Temp (deg C) > 60\n",
      "        Temp (deg C)     UserName\n",
      "99071   9.690000e+01  Papworth017\n",
      "99122   9.780000e+01  Papworth017\n",
      "99493   6.310000e+01     Kings001\n",
      "99710   7.679160e+28  Papworth018\n",
      "99849   6.653505e+14  Papworth018\n",
      "99868   8.359732e+18  Papworth018\n",
      "99931   3.705000e+03       FPH006\n",
      "99938   9.894360e+06  Papworth018\n",
      "99961   5.875412e+17  Papworth018\n",
      "100080  3.570000e+02  Papworth029\n",
      "100316  9.640000e+01  Papworth017\n",
      "100586  1.111111e+08  Papworth018\n",
      "100799  6.670000e+01   wessex0004\n",
      "100880  8.383568e+13  Papworth018\n",
      "101122  9.850000e+01  brompton013\n",
      "101149  3.620000e+02  Papworth032\n",
      "101269  3.678000e+03    leeds0193\n",
      "101431  3.660000e+02  Papworth029\n",
      "101778  3.650000e+02  Papworth029\n",
      "\n",
      "* Looking for duplicates *\n",
      "Found 4636 duplicates, saving them in DataFiles/SmartCare/duplicates.xlsx\n",
      "Removing 4636 duplicated entries\n",
      "\n",
      "Loaded measurements data with 125134 entries (initially 129841, removed 4707)\n",
      "\n",
      "** Loading ID map **\n",
      "Correct ID 101's Patient_ID from ['0HeWh64M_zc5U512xqzAs4'] to 0HeWh64M_zc5U5l2xqzAs4\n",
      "Correct ID 125's Patient_ID from ['1au5biSTt0bNWgfl0Wltr5'] to 1au5biSTt0bNWgfI0WItr5\n",
      "Correct ID 232's Patient_ID from ['TKpptiCA5cASNKU0VSmx4'] to -TKpptiCA5cASNKU0VSmx4\n",
      "Correct ID 169's Patient_ID from ['Cujq-NEcld_Keu_W1-Nw5'] to -Cujq-NEcld_Keu_W1-Nw5\n",
      "Correct ID 38's Patient_ID from ['Q0Wf614z94DSTy6nXjyw7'] to -Q0Wf614z94DSTy6nXjyw7\n",
      "\n",
      "* Merging measurements data with ID map to retrieve SmartCare ID *\n",
      "List User IDs that have no SmartCare ID\n",
      "['username davetest, user id o0egatM37za2ZZ2jfs3AJ5'\n",
      " 'username Ryan007, user id 31KnMK5Z4A6OKErB1C5-i6'\n",
      " 'username PapBen, user id GyK_hmIGxVaT7chwlGDio7'\n",
      " 'username scguest, user id ci0iszS3ov6G2U-dKDiAE4'\n",
      " 'username PapworthSummer, user id 9YevbyBS8VdwRL3RRUGY86'\n",
      " 'username Texas, user id MB0_-sqQBxhrKyfoOxUaF4'\n",
      " 'username EmemTest, user id 9MKCpOe_FO_LcU9C0oCPJ4']\n",
      "\n",
      "124939 entries left after merge (initial 125134, removed 195)\n",
      "\n",
      "** Loading patient data **\n",
      "\n",
      "* Dropping unnecessary columns from patient data *\n",
      "Columns filtered: ['ID', 'Study Date', 'DOB', 'Age', 'Sex', 'Height', 'Weight', 'Predicted FEV1', 'FEV1 Set As']\n",
      "Columns dropped: {'Remote Monitoring App User ID', 'Freezer Required', 'Study Number', 'Unable Informed Consent', 'Informed Consent', 'Age 18 Years', 'Genetic Testing', 'Telemetric Measures', 'GP Letter Sent', 'Pulmonary Exacerbation', 'Sputum Samples', 'CFQR Quest Comp', 'Date Consent Obtained', 'Hospital', 'Transplant Recipients', 'Inconvenience Payment', 'Date Last PE Start', 'Comments', 'Less Exacerbation', 'Study Email', 'Unable Sputum Samples', 'Date Last PE Stop'}\n",
      "\n",
      "* Correcting patient data *\n",
      "ID 60: Corrected height 60 from 1.63 to 163.0\n",
      "ID 66: Corrected height for ID 66 from 1.62 to 162.0\n",
      "Replace Age by calculate age\n",
      "Drop FEV1 Set As and Predicted FEV1\n",
      "Compute Calculated Predicted FEV1\n",
      "\n",
      "* Applying data sanity checks *\n",
      "Loaded patient data with 147 entries (147 initially)\n",
      "\n",
      "** Loading antibiotics data **\n"
     ]
    },
    {
     "name": "stderr",
     "output_type": "stream",
     "text": [
      "/Applications/anaconda3/envs/phd/lib/python3.10/site-packages/openpyxl/worksheet/_read_only.py:79: UserWarning: Unknown extension is not supported and will be removed\n",
      "  for idx, row in parser.parse():\n",
      "/Users/tristan.trebaol/Desktop/PhD/Code/phd/src/milestone_model/../data/patient_data.py:127: SettingWithCopyWarning: \n",
      "A value is trying to be set on a copy of a slice from a DataFrame\n",
      "\n",
      "See the caveats in the documentation: https://pandas.pydata.org/pandas-docs/stable/user_guide/indexing.html#returning-a-view-versus-a-copy\n",
      "  df.Height.loc[df.ID == \"60\"] = tmp * 100\n",
      "/Applications/anaconda3/envs/phd/lib/python3.10/site-packages/openpyxl/worksheet/_read_only.py:79: UserWarning: Unknown extension is not supported and will be removed\n",
      "  for idx, row in parser.parse():\n"
     ]
    },
    {
     "name": "stdout",
     "output_type": "stream",
     "text": [
      "\n",
      "* Dropping unnecessary columns from antibiotics data *\n",
      "Columns filetered: ['ID', 'Antibiotic Name', 'Route', \"Home IV's'\", 'Start Date', 'Stop Date']\n",
      "Columns dropped: {'Antibiotic ID', 'Hospital', 'Study Number'}\n",
      "\n",
      "** Creating DataFrame for O2 FEV1 analysis **\n",
      "O2 Saturation has 14011 measurements\n",
      "FEV1 has 9936 measurements\n",
      "Merged O2 and FEV1 into 9526 entries (initially 14421, removed 4895 NaN)\n",
      "Asserting that there's only one measurement per ID per day\n",
      "\n",
      "Created df_O2_FEV1 with 9526 entries (initially 14421, removed 4895)\n"
     ]
    }
   ],
   "source": [
    "O2_FEV1 = O2_FEV1_df.create()\n"
   ]
  },
  {
   "cell_type": "markdown",
   "metadata": {},
   "source": [
    "# Point-in-time inference across time for HFEV1, AB, FEV1"
   ]
  },
  {
   "cell_type": "code",
   "execution_count": null,
   "metadata": {},
   "outputs": [],
   "source": [
    "for id in [\"131\"]:  # O2_FEV1.ID.unique()[0:50]:\n",
    "    df_for_ID = O2_FEV1[O2_FEV1.ID == id]\n",
    "\n",
    "    # Create model tailored to patient\n",
    "    height = df_for_ID.Height.values[0]\n",
    "    age = df_for_ID.Age.values[0]\n",
    "    sex = df_for_ID.Sex.values[0]\n",
    "    HFEV1_prior = model_lung_health.set_HFEV1_prior(\"gaussian\", height, age, sex)\n",
    "    (\n",
    "        inference,\n",
    "        FEV1,\n",
    "        HFEV1,\n",
    "        prior_HFEV1,\n",
    "        AB,\n",
    "        prior_AB,\n",
    "    ) = model_lung_health.build_HFEV1_AB_FEV1(healthy_FEV1_prior=HFEV1_prior)\n",
    "\n",
    "    # Prepare inference\n",
    "    ## Set data structures for priors\n",
    "    df_hfev1_prior = pd.DataFrame(\n",
    "        index=HFEV1.bins_str, columns=[\"prior\"], data=prior_HFEV1.values\n",
    "    )\n",
    "    df_ab_prior = pd.DataFrame(\n",
    "        index=AB.bins_str, columns=[\"prior\"], data=prior_AB.values\n",
    "    )\n",
    "    ## Set data structures for posteriors\n",
    "    fev1 = df_for_ID.FEV1.values\n",
    "    days = df_for_ID[\"Date recorded\"].astype(str).values\n",
    "    ## Create empty dataframe of with HFEV1.bins as index name, and days as column names\n",
    "    df_hfev1_posterior = pd.DataFrame(index=HFEV1.bins_str, columns=days)\n",
    "    df_ab_posterior = pd.DataFrame(index=AB.bins_str, columns=days)\n",
    "\n",
    "    # Run inference queries\n",
    "    for i in range(len(fev1)):\n",
    "        res_inf = model_lung_health.infer(\n",
    "            inference, [HFEV1, AB], [[FEV1, fev1[i]]], joint=False\n",
    "        )\n",
    "        df_hfev1_posterior[days[i]] = res_inf[HFEV1.name].values\n",
    "        df_ab_posterior[days[i]] = res_inf[AB.name].values\n",
    "\n",
    "    # Create heatmap using sns with df_hfev1_posterior index on x, columns on y, coloured by values\n",
    "    title = f\"Point-in-time inference of HFEV1 and AB for ID {id} ({height}cm, {age}yr, {sex})\"\n",
    "\n",
    "    fig, axs = plt.subplots(\n",
    "        3,\n",
    "        2,\n",
    "        figsize=(len(fev1) * 0.5 + 1, 30),\n",
    "        gridspec_kw={\"height_ratios\": [1, 3, 2], \"width_ratios\": [2, len(fev1)]},\n",
    "    )\n",
    "\n",
    "    fig.suptitle(title, fontsize=16, y=1.005)\n",
    "    sns.scatterplot(x=days, y=fev1, ax=axs[0, 1])\n",
    "\n",
    "    # Add heatmaps of priors and posteriors\n",
    "    add_heatmap_to_fig(df_hfev1_prior, axs[1, 0], \"Blues\", \"HFEV1 prior\")\n",
    "    add_heatmap_to_fig(df_hfev1_posterior, axs[1, 1], \"Blues\", \"HFEV1 posteriors\")\n",
    "    add_heatmap_to_fig(df_ab_prior, axs[2, 0], \"Greens\", \"AB prior\")\n",
    "    add_heatmap_to_fig(df_ab_posterior, axs[2, 1], \"Greens\", \"AB posteriors\")\n",
    "\n",
    "    plt.tight_layout()\n",
    "    plt.savefig(f\"{plotsdir}point_in_time_inference/{title}.png\")\n",
    "    # plt.close()"
   ]
  },
  {
   "cell_type": "markdown",
   "metadata": {},
   "source": [
    "# Point-in-time inference across time for HFEV1, LD, UFEV1, SAB, FEV1"
   ]
  },
  {
   "cell_type": "code",
   "execution_count": null,
   "metadata": {},
   "outputs": [],
   "source": [
    "for id in [\"131\"]:  # O2_FEV1.ID.unique()[0:50]:\n",
    "    print(\"ID: \", id)\n",
    "    df_for_ID = O2_FEV1[O2_FEV1.ID == id]\n",
    "\n",
    "    # Create model tailored to patient\n",
    "    height = df_for_ID.Height.values[0]\n",
    "    age = df_for_ID.Age.values[0]\n",
    "    sex = df_for_ID.Sex.values[0]\n",
    "    HFEV1_prior = model_lung_health.set_HFEV1_prior(\"gaussian\", height, age, sex)\n",
    "    LD_param = model_lung_health.set_LD_prior(\n",
    "        df_for_ID.FEV1.values, HFEV1_prior[\"mu\"], HFEV1_prior[\"sigma\"]\n",
    "    )\n",
    "    (\n",
    "        inference,\n",
    "        HFEV1,\n",
    "        prior_HFEV1,\n",
    "        LD,\n",
    "        prior_LD,\n",
    "        UFEV1,\n",
    "        SAB,\n",
    "        prior_SAB,\n",
    "        FEV1,\n",
    "    ) = model_lung_health.build_full_FEV1_side(\n",
    "        HFEV1_prior=HFEV1_prior, LD_prior=LD_param\n",
    "    )\n",
    "\n",
    "    # Prepare inference\n",
    "    ## Set data structures for priors\n",
    "    df_ld_prior = pd.DataFrame(\n",
    "        index=LD.bins_str, columns=[\"prior\"], data=prior_LD.values\n",
    "    )\n",
    "    df_hfev1_prior = pd.DataFrame(\n",
    "        index=HFEV1.bins_str, columns=[\"prior\"], data=prior_HFEV1.values\n",
    "    )\n",
    "    df_sab_prior = pd.DataFrame(\n",
    "        index=SAB.bins_str, columns=[\"prior\"], data=prior_SAB.values\n",
    "    )\n",
    "\n",
    "    ## Set data structures for posteriors\n",
    "    fev1 = df_for_ID.FEV1.values\n",
    "    days = df_for_ID[\"Date recorded\"].astype(str).values\n",
    "    ## Create empty dataframe of with HFEV1.bins as index name, and days as column names\n",
    "    df_ld_posterior = pd.DataFrame(index=LD.bins_str, columns=days)\n",
    "    df_hfev1_posterior = pd.DataFrame(index=HFEV1.bins_str, columns=days)\n",
    "    df_sab_posterior = pd.DataFrame(index=SAB.bins_str, columns=days)\n",
    "    df_ufev1_posterior = pd.DataFrame(index=UFEV1.bins_str, columns=days)\n",
    "\n",
    "    # Run inference queries\n",
    "    for i in range(len(fev1)):\n",
    "        res = model_lung_health.infer(\n",
    "            inference, [HFEV1, LD, UFEV1, SAB], [[FEV1, fev1[i]]], joint=False\n",
    "        )\n",
    "        df_sab_posterior[days[i]] = res[SAB.name].values\n",
    "        df_ufev1_posterior[days[i]] = res[UFEV1.name].values\n",
    "        df_ld_posterior[days[i]] = res[LD.name].values\n",
    "        df_hfev1_posterior[days[i]] = res[HFEV1.name].values\n",
    "\n",
    "    # Create heatmap using sns with df_hfev1_posterior index on x, columns on y, coloured by values\n",
    "    title = f\"Point-in-time inference of HFEV1, LD, UFEV1, SAB, FEV1 for ID {id} ({height}cm, {age}yr, {sex})\"\n",
    "\n",
    "    fig, axs = plt.subplots(\n",
    "        1 + 4,\n",
    "        2,\n",
    "        figsize=(len(fev1) * 0.5 + 1, 40),\n",
    "        gridspec_kw={\n",
    "            \"height_ratios\": [1, 3, 10, 3, 10],\n",
    "            \"width_ratios\": [2, len(fev1)],\n",
    "        },\n",
    "    )\n",
    "\n",
    "    fig.suptitle(title, fontsize=16, y=1.005)\n",
    "    sns.scatterplot(x=days, y=fev1, ax=axs[0, 1])\n",
    "    axs[0, 0].axis(\"off\")\n",
    "\n",
    "    # Add heatmaps of priors and posteriors\n",
    "    ## Order df_hfev1_posterior by index descending (flip index)\n",
    "\n",
    "    add_heatmap_to_fig(df_sab_prior, axs[1, 0], \"Greens\")\n",
    "    add_heatmap_to_fig(df_sab_posterior, axs[1, 1], \"Greens\", \"Small Airway Blockage\")\n",
    "\n",
    "    add_heatmap_to_fig(df_ufev1_posterior, axs[2, 1], \"Blues\", \"Unblocked FEV1\")\n",
    "\n",
    "    add_heatmap_to_fig(df_ld_prior, axs[3, 0], \"Reds\")\n",
    "    add_heatmap_to_fig(df_ld_posterior, axs[3, 1], \"Reds\", \"Lung Damage\")\n",
    "\n",
    "    add_heatmap_to_fig(df_hfev1_prior, axs[4, 0], \"Blues\")\n",
    "    add_heatmap_to_fig(df_hfev1_posterior, axs[4, 1], \"Blues\", \"Healthy FEV1\")\n",
    "\n",
    "    plt.tight_layout()\n",
    "    plt.savefig(f\"{plotsdir}/point_in_time_inference/{title}.png\")\n",
    "    # plt.close()\n"
   ]
  },
  {
   "cell_type": "markdown",
   "metadata": {},
   "source": [
    "# Longitudinal model with LD shared across all times"
   ]
  },
  {
   "cell_type": "code",
   "execution_count": 4,
   "metadata": {
    "scrolled": true,
    "tags": []
   },
   "outputs": [
    {
     "name": "stdout",
     "output_type": "stream",
     "text": [
      "ID:  101\n",
      "*** Building the longitudinal model with LD as shared variable across time ***\n",
      "Defining gaussian prior with mu = 3.03, sigma = 0.35\n",
      "Run inference queries\n",
      "Preprocess query\n",
      "Run query\n",
      "Query var to list\n",
      "Find nodes with query vars\n",
      "Conversion to set of tuple\n",
      "Compute clique potentials\n",
      "Variable elimination marginalize\n"
     ]
    },
    {
     "data": {
      "application/vnd.jupyter.widget-view+json": {
       "model_id": "cda64eb713b6493e8aa1b4a911fa2309",
       "version_major": 2,
       "version_minor": 0
      },
      "text/plain": [
       "  0%|          | 0/18 [00:00<?, ?it/s]"
      ]
     },
     "metadata": {},
     "output_type": "display_data"
    },
    {
     "name": "stdout",
     "output_type": "stream",
     "text": [
      "factors: [<DiscreteFactor representing phi(Unblocked FEV1 (L):58, Small Airway Blockage 16 (%):16) at 0x7fbcd572e560>]\n",
      "factors: [<DiscreteFactor representing phi(Unblocked FEV1 (L):58, Small Airway Blockage 9 (%):16) at 0x7fbcb1cb0a30>]\n",
      "factors: [<DiscreteFactor representing phi(Unblocked FEV1 (L):58, Small Airway Blockage 17 (%):16) at 0x7fbcd572ff70>]\n",
      "factors: [<DiscreteFactor representing phi(Unblocked FEV1 (L):58, Small Airway Blockage 3 (%):16) at 0x7fbcb1cb3700>]\n",
      "factors: [<DiscreteFactor representing phi(Unblocked FEV1 (L):58, Small Airway Blockage 6 (%):16) at 0x7fbcb1cb3fd0>]\n",
      "factors: [<DiscreteFactor representing phi(Unblocked FEV1 (L):58, Small Airway Blockage 11 (%):16) at 0x7fbcb1cb3a60>]\n",
      "factors: [<DiscreteFactor representing phi(Unblocked FEV1 (L):58, Small Airway Blockage 7 (%):16) at 0x7fbcb1cb0af0>]\n",
      "factors: [<DiscreteFactor representing phi(Unblocked FEV1 (L):58, Small Airway Blockage 10 (%):16) at 0x7fbcb1cb2fb0>]\n",
      "factors: [<DiscreteFactor representing phi(Unblocked FEV1 (L):58, Small Airway Blockage 14 (%):16) at 0x7fbcd572ea70>]\n",
      "factors: [<DiscreteFactor representing phi(Unblocked FEV1 (L):58, Small Airway Blockage 2 (%):16) at 0x7fbcb1cb0ac0>]\n",
      "factors: [<DiscreteFactor representing phi(Unblocked FEV1 (L):58, Small Airway Blockage 15 (%):16) at 0x7fbcd572edd0>]\n",
      "factors: [<DiscreteFactor representing phi(Unblocked FEV1 (L):58, Small Airway Blockage 0 (%):16) at 0x7fbcb1cb0880>]\n",
      "factors: [<DiscreteFactor representing phi(Unblocked FEV1 (L):58, Small Airway Blockage 1 (%):16) at 0x7fbcb1cb3460>]\n",
      "factors: [<DiscreteFactor representing phi(Unblocked FEV1 (L):58, Small Airway Blockage 5 (%):16) at 0x7fbcb1cb3610>]\n",
      "factors: [<DiscreteFactor representing phi(Unblocked FEV1 (L):58, Small Airway Blockage 4 (%):16) at 0x7fbcb1cb3bb0>]\n",
      "factors: [<DiscreteFactor representing phi(Unblocked FEV1 (L):58, Small Airway Blockage 13 (%):16) at 0x7fbcb1cb32e0>]\n",
      "factors: [<DiscreteFactor representing phi(Unblocked FEV1 (L):58, Small Airway Blockage 12 (%):16) at 0x7fbcb1cb2f50>]\n",
      "factors: [<DiscreteFactor representing phi(Unblocked FEV1 (L):58, Small Airway Blockage 8 (%):16) at 0x7fbcb1cb0b20>]\n",
      "Prepare vars to be returned\n",
      "node: Unblocked FEV1 (L)\n",
      "node: Lung Damage (%)\n",
      "node: Healthy FEV1 (L)\n",
      "Query took 0.3975260257720947s\n",
      "Run SAB inference queries\n",
      "SAB: 0\n",
      "Preprocess query\n",
      "Run query\n",
      "Query var to list\n",
      "Find nodes with query vars\n",
      "Conversion to set of tuple\n",
      "Compute clique potentials\n",
      "Variable elimination marginalize\n"
     ]
    },
    {
     "data": {
      "application/vnd.jupyter.widget-view+json": {
       "model_id": "c2dd65ccf47b4959b54a750775ecacb0",
       "version_major": 2,
       "version_minor": 0
      },
      "text/plain": [
       "  0%|          | 0/18 [00:00<?, ?it/s]"
      ]
     },
     "metadata": {},
     "output_type": "display_data"
    },
    {
     "name": "stdout",
     "output_type": "stream",
     "text": [
      "factors: [<DiscreteFactor representing phi(Unblocked FEV1 (L):58, Small Airway Blockage 16 (%):16) at 0x7fbcd572f010>]\n",
      "factors: [<DiscreteFactor representing phi(Unblocked FEV1 (L):58, Small Airway Blockage 9 (%):16) at 0x7fbcd572e380>]\n",
      "factors: [<DiscreteFactor representing phi(Unblocked FEV1 (L):58, Small Airway Blockage 17 (%):16) at 0x7fbcd572edd0>]\n",
      "factors: [<DiscreteFactor representing phi(Unblocked FEV1 (L):58, Small Airway Blockage 3 (%):16) at 0x7fbcd572e560>]\n",
      "factors: [<DiscreteFactor representing phi(Unblocked FEV1 (L):58, Small Airway Blockage 6 (%):16) at 0x7fbcd572c520>]\n",
      "factors: [<DiscreteFactor representing phi(Unblocked FEV1 (L):58, Small Airway Blockage 11 (%):16) at 0x7fbcd572f5e0>]\n",
      "factors: [<DiscreteFactor representing phi(Unblocked FEV1 (L):58, Small Airway Blockage 7 (%):16) at 0x7fbcd572c1f0>]\n",
      "factors: [<DiscreteFactor representing phi(Unblocked FEV1 (L):58, Small Airway Blockage 10 (%):16) at 0x7fbcd572f280>]\n",
      "factors: [<DiscreteFactor representing phi(Unblocked FEV1 (L):58, Small Airway Blockage 14 (%):16) at 0x7fbcd572f970>]\n",
      "factors: [<DiscreteFactor representing phi(Unblocked FEV1 (L):58, Small Airway Blockage 2 (%):16) at 0x7fbcd572ea70>]\n",
      "factors: [<DiscreteFactor representing phi(Unblocked FEV1 (L):58, Small Airway Blockage 15 (%):16) at 0x7fbcd572f400>]\n",
      "factors: [<DiscreteFactor representing phi(Unblocked FEV1 (L):58, Small Airway Blockage 1 (%):16) at 0x7fbcd572db40>]\n",
      "factors: [<DiscreteFactor representing phi(Unblocked FEV1 (L):58) at 0x7fbcd57045e0>, <DiscreteFactor representing phi(Unblocked FEV1 (L):58) at 0x7fbcd572faf0>, <DiscreteFactor representing phi(Unblocked FEV1 (L):58) at 0x7fbcd5704130>, <DiscreteFactor representing phi(Unblocked FEV1 (L):58) at 0x7fbcd5328df0>, <DiscreteFactor representing phi(Unblocked FEV1 (L):58) at 0x7fbc60df7d00>, <DiscreteFactor representing phi(Unblocked FEV1 (L):58) at 0x7fbcd5704790>, <DiscreteFactor representing phi(Unblocked FEV1 (L):58) at 0x7fbcd5704820>, <DiscreteFactor representing phi(Unblocked FEV1 (L):58) at 0x7fbcd572d6f0>, <DiscreteFactor representing phi(Unblocked FEV1 (L):58, Small Airway Blockage 8 (%):16) at 0x7fbcd572e350>, <DiscreteFactor representing phi(Unblocked FEV1 (L):58, Small Airway Blockage 13 (%):16) at 0x7fbcd572c580>, <DiscreteFactor representing phi(Unblocked FEV1 (L):58, Small Airway Blockage 5 (%):16) at 0x7fbcd572d1b0>, <DiscreteFactor representing phi(Unblocked FEV1 (L):58) at 0x7fbcd18844c0>, <DiscreteFactor representing phi(Unblocked FEV1 (L):58, Small Airway Blockage 0 (%):16) at 0x7fbcd572c3d0>, <DiscreteFactor representing phi(Unblocked FEV1 (L):58) at 0x7fbcd572c5b0>, <DiscreteFactor representing phi(Unblocked FEV1 (L):58) at 0x7fbcd5704430>, <DiscreteFactor representing phi(Unblocked FEV1 (L):58, Small Airway Blockage 12 (%):16) at 0x7fbcd572dba0>, <DiscreteFactor representing phi(Unblocked FEV1 (L):58) at 0x7fbc680ea080>, <DiscreteFactor representing phi(Unblocked FEV1 (L):58, Small Airway Blockage 4 (%):16) at 0x7fbcd572f2b0>]\n",
      "factors: [<DiscreteFactor representing phi(Small Airway Blockage 8 (%):16, Small Airway Blockage 13 (%):16, Small Airway Blockage 5 (%):16, Small Airway Blockage 0 (%):16, Small Airway Blockage 12 (%):16, Small Airway Blockage 4 (%):16) at 0x7fbc680eb160>]\n",
      "factors: [<DiscreteFactor representing phi(Small Airway Blockage 8 (%):16, Small Airway Blockage 13 (%):16, Small Airway Blockage 0 (%):16, Small Airway Blockage 12 (%):16, Small Airway Blockage 4 (%):16) at 0x7fbcd18844c0>]\n",
      "factors: [<DiscreteFactor representing phi(Small Airway Blockage 8 (%):16, Small Airway Blockage 13 (%):16, Small Airway Blockage 0 (%):16, Small Airway Blockage 12 (%):16) at 0x7fbc60df7bb0>]\n",
      "factors: [<DiscreteFactor representing phi(Small Airway Blockage 8 (%):16, Small Airway Blockage 0 (%):16, Small Airway Blockage 12 (%):16) at 0x7fbc60df5930>]\n",
      "factors: [<DiscreteFactor representing phi(Small Airway Blockage 8 (%):16, Small Airway Blockage 0 (%):16) at 0x7fbc60df7c70>]\n",
      "Prepare vars to be returned\n",
      "node: Small Airway Blockage 0 (%)\n",
      "Query took 17.82506799697876s\n",
      "SAB: 1\n",
      "Preprocess query\n",
      "Run query\n",
      "Query var to list\n",
      "Find nodes with query vars\n",
      "Conversion to set of tuple\n",
      "Compute clique potentials\n",
      "Variable elimination marginalize\n"
     ]
    },
    {
     "data": {
      "application/vnd.jupyter.widget-view+json": {
       "model_id": "e6c2097453274eea99365f8084aab179",
       "version_major": 2,
       "version_minor": 0
      },
      "text/plain": [
       "  0%|          | 0/18 [00:00<?, ?it/s]"
      ]
     },
     "metadata": {},
     "output_type": "display_data"
    },
    {
     "name": "stdout",
     "output_type": "stream",
     "text": [
      "factors: [<DiscreteFactor representing phi(Unblocked FEV1 (L):58, Small Airway Blockage 16 (%):16) at 0x7fbcd572f970>]\n",
      "factors: [<DiscreteFactor representing phi(Unblocked FEV1 (L):58, Small Airway Blockage 9 (%):16) at 0x7fbcd1886020>]\n",
      "factors: [<DiscreteFactor representing phi(Unblocked FEV1 (L):58, Small Airway Blockage 17 (%):16) at 0x7fbcd572f400>]\n",
      "factors: [<DiscreteFactor representing phi(Unblocked FEV1 (L):58, Small Airway Blockage 3 (%):16) at 0x7fbc680ea080>]\n",
      "factors: [<DiscreteFactor representing phi(Unblocked FEV1 (L):58, Small Airway Blockage 6 (%):16) at 0x7fbcd1884400>]\n",
      "factors: [<DiscreteFactor representing phi(Unblocked FEV1 (L):58, Small Airway Blockage 11 (%):16) at 0x7fbcd18844c0>]\n",
      "factors: [<DiscreteFactor representing phi(Unblocked FEV1 (L):58, Small Airway Blockage 7 (%):16) at 0x7fbcd1884040>]\n",
      "factors: [<DiscreteFactor representing phi(Unblocked FEV1 (L):58, Small Airway Blockage 10 (%):16) at 0x7fbcd1884580>]\n",
      "factors: [<DiscreteFactor representing phi(Unblocked FEV1 (L):58, Small Airway Blockage 14 (%):16) at 0x7fbcd572f5e0>]\n",
      "factors: [<DiscreteFactor representing phi(Unblocked FEV1 (L):58, Small Airway Blockage 2 (%):16) at 0x7fbc681083a0>]\n",
      "factors: [<DiscreteFactor representing phi(Unblocked FEV1 (L):58, Small Airway Blockage 15 (%):16) at 0x7fbcd572f010>]\n",
      "factors: [<DiscreteFactor representing phi(Unblocked FEV1 (L):58, Small Airway Blockage 0 (%):16) at 0x7fbc68109060>]\n",
      "factors: [<DiscreteFactor representing phi(Unblocked FEV1 (L):58) at 0x7fbcd5704850>, <DiscreteFactor representing phi(Unblocked FEV1 (L):58) at 0x7fbcd572d240>, <DiscreteFactor representing phi(Unblocked FEV1 (L):58) at 0x7fbcd572fbe0>, <DiscreteFactor representing phi(Unblocked FEV1 (L):58) at 0x7fbcd5704730>, <DiscreteFactor representing phi(Unblocked FEV1 (L):58) at 0x7fbcd57044f0>, <DiscreteFactor representing phi(Unblocked FEV1 (L):58) at 0x7fbcd57048e0>, <DiscreteFactor representing phi(Unblocked FEV1 (L):58) at 0x7fbcd572fe20>, <DiscreteFactor representing phi(Unblocked FEV1 (L):58, Small Airway Blockage 1 (%):16) at 0x7fbc68108ca0>, <DiscreteFactor representing phi(Unblocked FEV1 (L):58, Small Airway Blockage 8 (%):16) at 0x7fbcd1884a30>, <DiscreteFactor representing phi(Unblocked FEV1 (L):58, Small Airway Blockage 13 (%):16) at 0x7fbcd1884c10>, <DiscreteFactor representing phi(Unblocked FEV1 (L):58, Small Airway Blockage 5 (%):16) at 0x7fbc680eae60>, <DiscreteFactor representing phi(Unblocked FEV1 (L):58) at 0x7fbcd5704130>, <DiscreteFactor representing phi(Unblocked FEV1 (L):58) at 0x7fbcd5704a60>, <DiscreteFactor representing phi(Unblocked FEV1 (L):58) at 0x7fbcd5704a00>, <DiscreteFactor representing phi(Unblocked FEV1 (L):58) at 0x7fbcd57046a0>, <DiscreteFactor representing phi(Unblocked FEV1 (L):58, Small Airway Blockage 12 (%):16) at 0x7fbcd1884700>, <DiscreteFactor representing phi(Unblocked FEV1 (L):58) at 0x7fbcd572ef50>, <DiscreteFactor representing phi(Unblocked FEV1 (L):58, Small Airway Blockage 4 (%):16) at 0x7fbc680eb160>]\n",
      "factors: [<DiscreteFactor representing phi(Small Airway Blockage 1 (%):16, Small Airway Blockage 8 (%):16, Small Airway Blockage 13 (%):16, Small Airway Blockage 5 (%):16, Small Airway Blockage 12 (%):16, Small Airway Blockage 4 (%):16) at 0x7fbcd572f370>]\n",
      "factors: [<DiscreteFactor representing phi(Small Airway Blockage 1 (%):16, Small Airway Blockage 8 (%):16, Small Airway Blockage 13 (%):16, Small Airway Blockage 12 (%):16, Small Airway Blockage 4 (%):16) at 0x7fbcd572e920>]\n",
      "factors: [<DiscreteFactor representing phi(Small Airway Blockage 1 (%):16, Small Airway Blockage 8 (%):16, Small Airway Blockage 13 (%):16, Small Airway Blockage 12 (%):16) at 0x7fbcd572e4a0>]\n",
      "factors: [<DiscreteFactor representing phi(Small Airway Blockage 1 (%):16, Small Airway Blockage 8 (%):16, Small Airway Blockage 12 (%):16) at 0x7fbcd1886020>]\n",
      "factors: [<DiscreteFactor representing phi(Small Airway Blockage 1 (%):16, Small Airway Blockage 8 (%):16) at 0x7fbcd572f6a0>]\n",
      "Prepare vars to be returned\n",
      "node: Small Airway Blockage 1 (%)\n",
      "Query took 16.6030490398407s\n",
      "SAB: 2\n",
      "Preprocess query\n",
      "Run query\n",
      "Query var to list\n",
      "Find nodes with query vars\n",
      "Conversion to set of tuple\n",
      "Compute clique potentials\n",
      "Variable elimination marginalize\n"
     ]
    },
    {
     "data": {
      "application/vnd.jupyter.widget-view+json": {
       "model_id": "b78ab449b60d4896b2bcdee88cbee654",
       "version_major": 2,
       "version_minor": 0
      },
      "text/plain": [
       "  0%|          | 0/18 [00:00<?, ?it/s]"
      ]
     },
     "metadata": {},
     "output_type": "display_data"
    },
    {
     "name": "stdout",
     "output_type": "stream",
     "text": [
      "factors: [<DiscreteFactor representing phi(Unblocked FEV1 (L):58, Small Airway Blockage 16 (%):16) at 0x7fbcd572c760>]\n",
      "factors: [<DiscreteFactor representing phi(Unblocked FEV1 (L):58, Small Airway Blockage 9 (%):16) at 0x7fbcd572ece0>]\n",
      "factors: [<DiscreteFactor representing phi(Unblocked FEV1 (L):58, Small Airway Blockage 17 (%):16) at 0x7fbcd572c580>]\n",
      "factors: [<DiscreteFactor representing phi(Unblocked FEV1 (L):58, Small Airway Blockage 3 (%):16) at 0x7fbcd572d390>]\n",
      "factors: [<DiscreteFactor representing phi(Unblocked FEV1 (L):58, Small Airway Blockage 6 (%):16) at 0x7fbcd572f040>]\n",
      "factors: [<DiscreteFactor representing phi(Unblocked FEV1 (L):58, Small Airway Blockage 11 (%):16) at 0x7fbcd572e380>]\n",
      "factors: [<DiscreteFactor representing phi(Unblocked FEV1 (L):58, Small Airway Blockage 7 (%):16) at 0x7fbcd572e410>]\n",
      "factors: [<DiscreteFactor representing phi(Unblocked FEV1 (L):58, Small Airway Blockage 10 (%):16) at 0x7fbcd572d4b0>]\n",
      "factors: [<DiscreteFactor representing phi(Unblocked FEV1 (L):58, Small Airway Blockage 14 (%):16) at 0x7fbcd572d690>]\n",
      "factors: [<DiscreteFactor representing phi(Unblocked FEV1 (L):58, Small Airway Blockage 15 (%):16) at 0x7fbcd572d1b0>]\n",
      "factors: [<DiscreteFactor representing phi(Unblocked FEV1 (L):58, Small Airway Blockage 0 (%):16) at 0x7fbcb1cb30d0>]\n",
      "factors: [<DiscreteFactor representing phi(Unblocked FEV1 (L):58, Small Airway Blockage 1 (%):16) at 0x7fbcb1cb3910>]\n",
      "factors: [<DiscreteFactor representing phi(Unblocked FEV1 (L):58) at 0x7fbcd5704640>, <DiscreteFactor representing phi(Unblocked FEV1 (L):58) at 0x7fbcd5704c40>, <DiscreteFactor representing phi(Unblocked FEV1 (L):58) at 0x7fbcd57042e0>, <DiscreteFactor representing phi(Unblocked FEV1 (L):58, Small Airway Blockage 2 (%):16) at 0x7fbcd572fd30>, <DiscreteFactor representing phi(Unblocked FEV1 (L):58) at 0x7fbcd5704520>, <DiscreteFactor representing phi(Unblocked FEV1 (L):58) at 0x7fbcd5705030>, <DiscreteFactor representing phi(Unblocked FEV1 (L):58) at 0x7fbcd5705270>, <DiscreteFactor representing phi(Unblocked FEV1 (L):58) at 0x7fbcd5704d30>, <DiscreteFactor representing phi(Unblocked FEV1 (L):58, Small Airway Blockage 8 (%):16) at 0x7fbcd572d120>, <DiscreteFactor representing phi(Unblocked FEV1 (L):58, Small Airway Blockage 13 (%):16) at 0x7fbcd572f850>, <DiscreteFactor representing phi(Unblocked FEV1 (L):58, Small Airway Blockage 5 (%):16) at 0x7fbcd572c0a0>, <DiscreteFactor representing phi(Unblocked FEV1 (L):58) at 0x7fbcd5704130>, <DiscreteFactor representing phi(Unblocked FEV1 (L):58) at 0x7fbcd5705180>, <DiscreteFactor representing phi(Unblocked FEV1 (L):58) at 0x7fbcd5704340>, <DiscreteFactor representing phi(Unblocked FEV1 (L):58) at 0x7fbcd5704ee0>, <DiscreteFactor representing phi(Unblocked FEV1 (L):58, Small Airway Blockage 12 (%):16) at 0x7fbcd572e350>, <DiscreteFactor representing phi(Unblocked FEV1 (L):58) at 0x7fbcd5704040>, <DiscreteFactor representing phi(Unblocked FEV1 (L):58, Small Airway Blockage 4 (%):16) at 0x7fbcd572d870>]\n",
      "factors: [<DiscreteFactor representing phi(Small Airway Blockage 2 (%):16, Small Airway Blockage 8 (%):16, Small Airway Blockage 13 (%):16, Small Airway Blockage 5 (%):16, Small Airway Blockage 12 (%):16, Small Airway Blockage 4 (%):16) at 0x7fbcd1884a30>]\n",
      "factors: [<DiscreteFactor representing phi(Small Airway Blockage 2 (%):16, Small Airway Blockage 8 (%):16, Small Airway Blockage 13 (%):16, Small Airway Blockage 12 (%):16, Small Airway Blockage 4 (%):16) at 0x7fbcd572ef50>]\n",
      "factors: [<DiscreteFactor representing phi(Small Airway Blockage 2 (%):16, Small Airway Blockage 8 (%):16, Small Airway Blockage 13 (%):16, Small Airway Blockage 12 (%):16) at 0x7fbcd572c550>]\n",
      "factors: [<DiscreteFactor representing phi(Small Airway Blockage 2 (%):16, Small Airway Blockage 8 (%):16, Small Airway Blockage 12 (%):16) at 0x7fbcd572f5e0>]\n",
      "factors: [<DiscreteFactor representing phi(Small Airway Blockage 2 (%):16, Small Airway Blockage 8 (%):16) at 0x7fbcd572f9a0>]\n",
      "Prepare vars to be returned\n",
      "node: Small Airway Blockage 2 (%)\n",
      "Query took 16.505995988845825s\n",
      "SAB: 3\n",
      "Preprocess query\n",
      "Run query\n",
      "Query var to list\n",
      "Find nodes with query vars\n",
      "Conversion to set of tuple\n",
      "Compute clique potentials\n",
      "Variable elimination marginalize\n"
     ]
    },
    {
     "data": {
      "application/vnd.jupyter.widget-view+json": {
       "model_id": "1c69a0c347c34fedb7986573b7228f6b",
       "version_major": 2,
       "version_minor": 0
      },
      "text/plain": [
       "  0%|          | 0/18 [00:00<?, ?it/s]"
      ]
     },
     "metadata": {},
     "output_type": "display_data"
    },
    {
     "name": "stdout",
     "output_type": "stream",
     "text": [
      "factors: [<DiscreteFactor representing phi(Unblocked FEV1 (L):58, Small Airway Blockage 16 (%):16) at 0x7fbcd572e410>]\n",
      "factors: [<DiscreteFactor representing phi(Unblocked FEV1 (L):58, Small Airway Blockage 9 (%):16) at 0x7fbcd572f010>]\n",
      "factors: [<DiscreteFactor representing phi(Unblocked FEV1 (L):58, Small Airway Blockage 17 (%):16) at 0x7fbcd572c0a0>]\n",
      "factors: [<DiscreteFactor representing phi(Unblocked FEV1 (L):58, Small Airway Blockage 7 (%):16) at 0x7fbcd572fbe0>]\n",
      "factors: [<DiscreteFactor representing phi(Unblocked FEV1 (L):58, Small Airway Blockage 6 (%):16) at 0x7fbcd572c580>]\n",
      "factors: [<DiscreteFactor representing phi(Unblocked FEV1 (L):58, Small Airway Blockage 11 (%):16) at 0x7fbcd572c760>]\n",
      "factors: [<DiscreteFactor representing phi(Unblocked FEV1 (L):58, Small Airway Blockage 10 (%):16) at 0x7fbcd572d1b0>]\n",
      "factors: [<DiscreteFactor representing phi(Unblocked FEV1 (L):58, Small Airway Blockage 14 (%):16) at 0x7fbcd572c9d0>]\n",
      "factors: [<DiscreteFactor representing phi(Unblocked FEV1 (L):58, Small Airway Blockage 2 (%):16) at 0x7fbcd572de10>]\n",
      "factors: [<DiscreteFactor representing phi(Unblocked FEV1 (L):58, Small Airway Blockage 15 (%):16) at 0x7fbcd572e4a0>]\n",
      "factors: [<DiscreteFactor representing phi(Unblocked FEV1 (L):58, Small Airway Blockage 0 (%):16) at 0x7fbcd572d120>]\n",
      "factors: [<DiscreteFactor representing phi(Unblocked FEV1 (L):58, Small Airway Blockage 1 (%):16) at 0x7fbcd572ca00>]\n",
      "factors: [<DiscreteFactor representing phi(Unblocked FEV1 (L):58) at 0x7fbcd5705630>, <DiscreteFactor representing phi(Unblocked FEV1 (L):58) at 0x7fbcd57050f0>, <DiscreteFactor representing phi(Unblocked FEV1 (L):58) at 0x7fbcd57044c0>, <DiscreteFactor representing phi(Unblocked FEV1 (L):58, Small Airway Blockage 3 (%):16) at 0x7fbcd572f970>, <DiscreteFactor representing phi(Unblocked FEV1 (L):58) at 0x7fbcd5704580>, <DiscreteFactor representing phi(Unblocked FEV1 (L):58) at 0x7fbcd57057e0>, <DiscreteFactor representing phi(Unblocked FEV1 (L):58) at 0x7fbcd5705210>, <DiscreteFactor representing phi(Unblocked FEV1 (L):58) at 0x7fbcd5704310>, <DiscreteFactor representing phi(Unblocked FEV1 (L):58, Small Airway Blockage 8 (%):16) at 0x7fbcd572d240>, <DiscreteFactor representing phi(Unblocked FEV1 (L):58, Small Airway Blockage 13 (%):16) at 0x7fbcd572d4b0>, <DiscreteFactor representing phi(Unblocked FEV1 (L):58, Small Airway Blockage 5 (%):16) at 0x7fbcd572feb0>, <DiscreteFactor representing phi(Unblocked FEV1 (L):58) at 0x7fbcd5704340>, <DiscreteFactor representing phi(Unblocked FEV1 (L):58) at 0x7fbcd5705090>, <DiscreteFactor representing phi(Unblocked FEV1 (L):58) at 0x7fbcd5705030>, <DiscreteFactor representing phi(Unblocked FEV1 (L):58) at 0x7fbcd5704940>, <DiscreteFactor representing phi(Unblocked FEV1 (L):58, Small Airway Blockage 12 (%):16) at 0x7fbcd572d390>, <DiscreteFactor representing phi(Unblocked FEV1 (L):58) at 0x7fbcd5704970>, <DiscreteFactor representing phi(Unblocked FEV1 (L):58, Small Airway Blockage 4 (%):16) at 0x7fbcd572f040>]\n",
      "factors: [<DiscreteFactor representing phi(Small Airway Blockage 3 (%):16, Small Airway Blockage 8 (%):16, Small Airway Blockage 13 (%):16, Small Airway Blockage 5 (%):16, Small Airway Blockage 12 (%):16, Small Airway Blockage 4 (%):16) at 0x7fbcd57058a0>]\n",
      "factors: [<DiscreteFactor representing phi(Small Airway Blockage 3 (%):16, Small Airway Blockage 8 (%):16, Small Airway Blockage 13 (%):16, Small Airway Blockage 12 (%):16, Small Airway Blockage 4 (%):16) at 0x7fbcd5705210>]\n",
      "factors: [<DiscreteFactor representing phi(Small Airway Blockage 3 (%):16, Small Airway Blockage 8 (%):16, Small Airway Blockage 13 (%):16, Small Airway Blockage 12 (%):16) at 0x7fbcd572e410>]\n",
      "factors: [<DiscreteFactor representing phi(Small Airway Blockage 3 (%):16, Small Airway Blockage 8 (%):16, Small Airway Blockage 12 (%):16) at 0x7fbcd572f010>]\n",
      "factors: [<DiscreteFactor representing phi(Small Airway Blockage 3 (%):16, Small Airway Blockage 8 (%):16) at 0x7fbcd572c9d0>]\n",
      "Prepare vars to be returned\n",
      "node: Small Airway Blockage 3 (%)\n",
      "Query took 16.288941144943237s\n",
      "SAB: 4\n",
      "Preprocess query\n",
      "Run query\n",
      "Query var to list\n",
      "Find nodes with query vars\n",
      "Conversion to set of tuple\n",
      "Compute clique potentials\n",
      "Variable elimination marginalize\n"
     ]
    },
    {
     "data": {
      "application/vnd.jupyter.widget-view+json": {
       "model_id": "e98e4507c13241228a94089e668fce1a",
       "version_major": 2,
       "version_minor": 0
      },
      "text/plain": [
       "  0%|          | 0/18 [00:00<?, ?it/s]"
      ]
     },
     "metadata": {},
     "output_type": "display_data"
    },
    {
     "name": "stdout",
     "output_type": "stream",
     "text": [
      "factors: [<DiscreteFactor representing phi(Unblocked FEV1 (L):58, Small Airway Blockage 16 (%):16) at 0x7fbcd5704d90>]\n",
      "factors: [<DiscreteFactor representing phi(Unblocked FEV1 (L):58, Small Airway Blockage 9 (%):16) at 0x7fbcb1cb3af0>]\n",
      "factors: [<DiscreteFactor representing phi(Unblocked FEV1 (L):58, Small Airway Blockage 17 (%):16) at 0x7fbcd5704e20>]\n",
      "factors: [<DiscreteFactor representing phi(Unblocked FEV1 (L):58, Small Airway Blockage 3 (%):16) at 0x7fbcb1cb0910>]\n",
      "factors: [<DiscreteFactor representing phi(Unblocked FEV1 (L):58, Small Airway Blockage 11 (%):16) at 0x7fbcb1cb3430>]\n",
      "factors: [<DiscreteFactor representing phi(Unblocked FEV1 (L):58, Small Airway Blockage 7 (%):16) at 0x7fbcb1cb0ac0>]\n",
      "factors: [<DiscreteFactor representing phi(Unblocked FEV1 (L):58, Small Airway Blockage 10 (%):16) at 0x7fbcb1cb3910>]\n",
      "factors: [<DiscreteFactor representing phi(Unblocked FEV1 (L):58, Small Airway Blockage 14 (%):16) at 0x7fbcd5704f70>]\n",
      "factors: [<DiscreteFactor representing phi(Unblocked FEV1 (L):58, Small Airway Blockage 2 (%):16) at 0x7fbcb1cb3970>]\n",
      "factors: [<DiscreteFactor representing phi(Unblocked FEV1 (L):58, Small Airway Blockage 15 (%):16) at 0x7fbcd5704ee0>]\n",
      "factors: [<DiscreteFactor representing phi(Unblocked FEV1 (L):58, Small Airway Blockage 0 (%):16) at 0x7fbcb1cb37c0>]\n",
      "factors: [<DiscreteFactor representing phi(Unblocked FEV1 (L):58, Small Airway Blockage 1 (%):16) at 0x7fbcb1cb3490>]\n",
      "factors: [<DiscreteFactor representing phi(Unblocked FEV1 (L):58) at 0x7fbcd5705f00>, <DiscreteFactor representing phi(Unblocked FEV1 (L):58) at 0x7fbcd5705660>, <DiscreteFactor representing phi(Unblocked FEV1 (L):58) at 0x7fbcd5705a50>, <DiscreteFactor representing phi(Unblocked FEV1 (L):58) at 0x7fbcd5704610>, <DiscreteFactor representing phi(Unblocked FEV1 (L):58, Small Airway Blockage 6 (%):16) at 0x7fbcb1cb3190>, <DiscreteFactor representing phi(Unblocked FEV1 (L):58) at 0x7fbcd5705ff0>, <DiscreteFactor representing phi(Unblocked FEV1 (L):58) at 0x7fbcd57061d0>, <DiscreteFactor representing phi(Unblocked FEV1 (L):58) at 0x7fbcd5705c00>, <DiscreteFactor representing phi(Unblocked FEV1 (L):58, Small Airway Blockage 8 (%):16) at 0x7fbcb1cb3fa0>, <DiscreteFactor representing phi(Unblocked FEV1 (L):58, Small Airway Blockage 13 (%):16) at 0x7fbcb1cb3580>, <DiscreteFactor representing phi(Unblocked FEV1 (L):58, Small Airway Blockage 5 (%):16) at 0x7fbcb1cb35b0>, <DiscreteFactor representing phi(Unblocked FEV1 (L):58) at 0x7fbcd57048b0>, <DiscreteFactor representing phi(Unblocked FEV1 (L):58) at 0x7fbcd5706080>, <DiscreteFactor representing phi(Unblocked FEV1 (L):58) at 0x7fbcd57057e0>, <DiscreteFactor representing phi(Unblocked FEV1 (L):58) at 0x7fbcd5705d50>, <DiscreteFactor representing phi(Unblocked FEV1 (L):58, Small Airway Blockage 12 (%):16) at 0x7fbcb1cb0a30>, <DiscreteFactor representing phi(Unblocked FEV1 (L):58) at 0x7fbcd57042e0>, <DiscreteFactor representing phi(Unblocked FEV1 (L):58, Small Airway Blockage 4 (%):16) at 0x7fbcb1cb3c40>]\n",
      "factors: [<DiscreteFactor representing phi(Small Airway Blockage 6 (%):16, Small Airway Blockage 8 (%):16, Small Airway Blockage 13 (%):16, Small Airway Blockage 5 (%):16, Small Airway Blockage 12 (%):16, Small Airway Blockage 4 (%):16) at 0x7fbcb1cb0880>]\n",
      "factors: [<DiscreteFactor representing phi(Small Airway Blockage 6 (%):16, Small Airway Blockage 8 (%):16, Small Airway Blockage 13 (%):16, Small Airway Blockage 12 (%):16, Small Airway Blockage 4 (%):16) at 0x7fbcd572ece0>]\n",
      "factors: [<DiscreteFactor representing phi(Small Airway Blockage 8 (%):16, Small Airway Blockage 13 (%):16, Small Airway Blockage 12 (%):16, Small Airway Blockage 4 (%):16) at 0x7fbcb1cb3970>]\n",
      "factors: [<DiscreteFactor representing phi(Small Airway Blockage 8 (%):16, Small Airway Blockage 12 (%):16, Small Airway Blockage 4 (%):16) at 0x7fbcb1cb0af0>]\n",
      "factors: [<DiscreteFactor representing phi(Small Airway Blockage 8 (%):16, Small Airway Blockage 4 (%):16) at 0x7fbcb1cb3490>]\n",
      "Prepare vars to be returned\n",
      "node: Small Airway Blockage 4 (%)\n",
      "Query took 16.273350954055786s\n",
      "SAB: 5\n",
      "Preprocess query\n",
      "Run query\n",
      "Query var to list\n",
      "Find nodes with query vars\n",
      "Conversion to set of tuple\n",
      "Compute clique potentials\n",
      "Variable elimination marginalize\n"
     ]
    },
    {
     "data": {
      "application/vnd.jupyter.widget-view+json": {
       "model_id": "0a5dafabfa1747b49d2a71b9b7366aa3",
       "version_major": 2,
       "version_minor": 0
      },
      "text/plain": [
       "  0%|          | 0/18 [00:00<?, ?it/s]"
      ]
     },
     "metadata": {},
     "output_type": "display_data"
    },
    {
     "name": "stdout",
     "output_type": "stream",
     "text": [
      "factors: [<DiscreteFactor representing phi(Unblocked FEV1 (L):58, Small Airway Blockage 16 (%):16) at 0x7fbcb1cb35b0>]\n",
      "factors: [<DiscreteFactor representing phi(Unblocked FEV1 (L):58, Small Airway Blockage 9 (%):16) at 0x7fbcb1cb3580>]\n",
      "factors: [<DiscreteFactor representing phi(Unblocked FEV1 (L):58, Small Airway Blockage 17 (%):16) at 0x7fbcb1cb3700>]\n",
      "factors: [<DiscreteFactor representing phi(Unblocked FEV1 (L):58, Small Airway Blockage 3 (%):16) at 0x7fbcb1cb37c0>]\n",
      "factors: [<DiscreteFactor representing phi(Unblocked FEV1 (L):58, Small Airway Blockage 6 (%):16) at 0x7fbcb1cb3190>]\n",
      "factors: [<DiscreteFactor representing phi(Unblocked FEV1 (L):58, Small Airway Blockage 11 (%):16) at 0x7fbcb1cb32e0>]\n",
      "factors: [<DiscreteFactor representing phi(Unblocked FEV1 (L):58, Small Airway Blockage 7 (%):16) at 0x7fbcb1cb0a30>]\n",
      "factors: [<DiscreteFactor representing phi(Unblocked FEV1 (L):58, Small Airway Blockage 10 (%):16) at 0x7fbcb1cb0910>]\n",
      "factors: [<DiscreteFactor representing phi(Unblocked FEV1 (L):58, Small Airway Blockage 14 (%):16) at 0x7fbcb1cb3430>]\n",
      "factors: [<DiscreteFactor representing phi(Unblocked FEV1 (L):58, Small Airway Blockage 2 (%):16) at 0x7fbcb1cb3fa0>]\n",
      "factors: [<DiscreteFactor representing phi(Unblocked FEV1 (L):58, Small Airway Blockage 15 (%):16) at 0x7fbcb1cb30d0>]\n",
      "factors: [<DiscreteFactor representing phi(Unblocked FEV1 (L):58, Small Airway Blockage 0 (%):16) at 0x7fbcd572ece0>]\n",
      "factors: [<DiscreteFactor representing phi(Unblocked FEV1 (L):58, Small Airway Blockage 1 (%):16) at 0x7fbcd572d6f0>]\n",
      "factors: [<DiscreteFactor representing phi(Unblocked FEV1 (L):58) at 0x7fbcd57052a0>, <DiscreteFactor representing phi(Unblocked FEV1 (L):58) at 0x7fbcd5706110>, <DiscreteFactor representing phi(Unblocked FEV1 (L):58) at 0x7fbcd5704190>, <DiscreteFactor representing phi(Unblocked FEV1 (L):58) at 0x7fbcd5705a80>, <DiscreteFactor representing phi(Unblocked FEV1 (L):58) at 0x7fbcd5705f30>, <DiscreteFactor representing phi(Unblocked FEV1 (L):58) at 0x7fbcd5706380>, <DiscreteFactor representing phi(Unblocked FEV1 (L):58) at 0x7fbcb1cb3760>, <DiscreteFactor representing phi(Unblocked FEV1 (L):58) at 0x7fbcd5704250>, <DiscreteFactor representing phi(Unblocked FEV1 (L):58, Small Airway Blockage 8 (%):16) at 0x7fbcb1cb3af0>, <DiscreteFactor representing phi(Unblocked FEV1 (L):58, Small Airway Blockage 13 (%):16) at 0x7fbcb1cb3ee0>, <DiscreteFactor representing phi(Unblocked FEV1 (L):58, Small Airway Blockage 5 (%):16) at 0x7fbcb1cb0ac0>, <DiscreteFactor representing phi(Unblocked FEV1 (L):58) at 0x7fbcd5705cc0>, <DiscreteFactor representing phi(Unblocked FEV1 (L):58) at 0x7fbcd57064a0>, <DiscreteFactor representing phi(Unblocked FEV1 (L):58) at 0x7fbcd57042e0>, <DiscreteFactor representing phi(Unblocked FEV1 (L):58) at 0x7fbcd5704310>, <DiscreteFactor representing phi(Unblocked FEV1 (L):58, Small Airway Blockage 12 (%):16) at 0x7fbcb1cb3f70>, <DiscreteFactor representing phi(Unblocked FEV1 (L):58) at 0x7fbcd57051e0>, <DiscreteFactor representing phi(Unblocked FEV1 (L):58, Small Airway Blockage 4 (%):16) at 0x7fbcb1cb3910>]\n",
      "factors: [<DiscreteFactor representing phi(Small Airway Blockage 8 (%):16, Small Airway Blockage 13 (%):16, Small Airway Blockage 5 (%):16, Small Airway Blockage 12 (%):16, Small Airway Blockage 4 (%):16) at 0x7fbcd57054b0>]\n",
      "factors: [<DiscreteFactor representing phi(Small Airway Blockage 8 (%):16, Small Airway Blockage 13 (%):16, Small Airway Blockage 5 (%):16, Small Airway Blockage 12 (%):16) at 0x7fbcd5705a80>]\n",
      "factors: [<DiscreteFactor representing phi(Small Airway Blockage 8 (%):16, Small Airway Blockage 5 (%):16, Small Airway Blockage 12 (%):16) at 0x7fbcb1cb3580>]\n",
      "factors: [<DiscreteFactor representing phi(Small Airway Blockage 8 (%):16, Small Airway Blockage 5 (%):16) at 0x7fbcb1cb30d0>]\n",
      "Prepare vars to be returned\n",
      "node: Small Airway Blockage 5 (%)\n",
      "Query took 0.8742070198059082s\n",
      "SAB: 6\n",
      "Preprocess query\n",
      "Run query\n",
      "Query var to list\n",
      "Find nodes with query vars\n",
      "Conversion to set of tuple\n",
      "Compute clique potentials\n",
      "Variable elimination marginalize\n"
     ]
    },
    {
     "data": {
      "application/vnd.jupyter.widget-view+json": {
       "model_id": "6b5d5638f8ba4e50942116a64fe520d8",
       "version_major": 2,
       "version_minor": 0
      },
      "text/plain": [
       "  0%|          | 0/18 [00:00<?, ?it/s]"
      ]
     },
     "metadata": {},
     "output_type": "display_data"
    },
    {
     "name": "stdout",
     "output_type": "stream",
     "text": [
      "factors: [<DiscreteFactor representing phi(Unblocked FEV1 (L):58, Small Airway Blockage 16 (%):16) at 0x7fbcd572f010>]\n",
      "factors: [<DiscreteFactor representing phi(Unblocked FEV1 (L):58, Small Airway Blockage 9 (%):16) at 0x7fbcd572c9d0>]\n",
      "factors: [<DiscreteFactor representing phi(Unblocked FEV1 (L):58, Small Airway Blockage 17 (%):16) at 0x7fbcd572c520>]\n",
      "factors: [<DiscreteFactor representing phi(Unblocked FEV1 (L):58, Small Airway Blockage 3 (%):16) at 0x7fbcd572feb0>]\n",
      "factors: [<DiscreteFactor representing phi(Unblocked FEV1 (L):58, Small Airway Blockage 11 (%):16) at 0x7fbcd572d240>]\n",
      "factors: [<DiscreteFactor representing phi(Unblocked FEV1 (L):58, Small Airway Blockage 7 (%):16) at 0x7fbcd572d870>]\n",
      "factors: [<DiscreteFactor representing phi(Unblocked FEV1 (L):58, Small Airway Blockage 10 (%):16) at 0x7fbcd572fbe0>]\n",
      "factors: [<DiscreteFactor representing phi(Unblocked FEV1 (L):58, Small Airway Blockage 14 (%):16) at 0x7fbcd572dba0>]\n",
      "factors: [<DiscreteFactor representing phi(Unblocked FEV1 (L):58, Small Airway Blockage 2 (%):16) at 0x7fbcd572e410>]\n",
      "factors: [<DiscreteFactor representing phi(Unblocked FEV1 (L):58, Small Airway Blockage 15 (%):16) at 0x7fbcd572d1b0>]\n",
      "factors: [<DiscreteFactor representing phi(Unblocked FEV1 (L):58, Small Airway Blockage 0 (%):16) at 0x7fbcd572faf0>]\n",
      "factors: [<DiscreteFactor representing phi(Unblocked FEV1 (L):58, Small Airway Blockage 1 (%):16) at 0x7fbcd572ca00>]\n",
      "factors: [<DiscreteFactor representing phi(Unblocked FEV1 (L):58) at 0x7fbcd5704100>, <DiscreteFactor representing phi(Unblocked FEV1 (L):58) at 0x7fbcd57043a0>, <DiscreteFactor representing phi(Unblocked FEV1 (L):58) at 0x7fbcd5706200>, <DiscreteFactor representing phi(Unblocked FEV1 (L):58) at 0x7fbcd57062f0>, <DiscreteFactor representing phi(Unblocked FEV1 (L):58, Small Airway Blockage 6 (%):16) at 0x7fbcd572d4b0>, <DiscreteFactor representing phi(Unblocked FEV1 (L):58) at 0x7fbcd5705a50>, <DiscreteFactor representing phi(Unblocked FEV1 (L):58) at 0x7fbcd5704430>, <DiscreteFactor representing phi(Unblocked FEV1 (L):58) at 0x7fbcd5705ff0>, <DiscreteFactor representing phi(Unblocked FEV1 (L):58, Small Airway Blockage 8 (%):16) at 0x7fbcd572c760>, <DiscreteFactor representing phi(Unblocked FEV1 (L):58, Small Airway Blockage 13 (%):16) at 0x7fbcd572d120>, <DiscreteFactor representing phi(Unblocked FEV1 (L):58, Small Airway Blockage 5 (%):16) at 0x7fbcd572de10>, <DiscreteFactor representing phi(Unblocked FEV1 (L):58) at 0x7fbcd57047c0>, <DiscreteFactor representing phi(Unblocked FEV1 (L):58) at 0x7fbcd57041f0>, <DiscreteFactor representing phi(Unblocked FEV1 (L):58) at 0x7fbcd57054b0>, <DiscreteFactor representing phi(Unblocked FEV1 (L):58) at 0x7fbcd57059f0>, <DiscreteFactor representing phi(Unblocked FEV1 (L):58, Small Airway Blockage 12 (%):16) at 0x7fbcd572f040>, <DiscreteFactor representing phi(Unblocked FEV1 (L):58) at 0x7fbcd57056c0>, <DiscreteFactor representing phi(Unblocked FEV1 (L):58, Small Airway Blockage 4 (%):16) at 0x7fbcd572e350>]\n",
      "factors: [<DiscreteFactor representing phi(Small Airway Blockage 6 (%):16, Small Airway Blockage 8 (%):16, Small Airway Blockage 13 (%):16, Small Airway Blockage 5 (%):16, Small Airway Blockage 12 (%):16, Small Airway Blockage 4 (%):16) at 0x7fbcd5705e40>]\n",
      "factors: [<DiscreteFactor representing phi(Small Airway Blockage 6 (%):16, Small Airway Blockage 8 (%):16, Small Airway Blockage 13 (%):16, Small Airway Blockage 12 (%):16, Small Airway Blockage 4 (%):16) at 0x7fbcd5704430>]\n",
      "factors: [<DiscreteFactor representing phi(Small Airway Blockage 6 (%):16, Small Airway Blockage 8 (%):16, Small Airway Blockage 13 (%):16, Small Airway Blockage 12 (%):16) at 0x7fbcd572f010>]\n",
      "factors: [<DiscreteFactor representing phi(Small Airway Blockage 6 (%):16, Small Airway Blockage 8 (%):16, Small Airway Blockage 12 (%):16) at 0x7fbcd572d870>]\n",
      "factors: [<DiscreteFactor representing phi(Small Airway Blockage 6 (%):16, Small Airway Blockage 8 (%):16) at 0x7fbcd572c520>]\n",
      "Prepare vars to be returned\n",
      "node: Small Airway Blockage 6 (%)\n",
      "Query took 17.34466314315796s\n",
      "SAB: 7\n",
      "Preprocess query\n",
      "Run query\n",
      "Query var to list\n",
      "Find nodes with query vars\n",
      "Conversion to set of tuple\n",
      "Compute clique potentials\n",
      "Variable elimination marginalize\n"
     ]
    },
    {
     "data": {
      "application/vnd.jupyter.widget-view+json": {
       "model_id": "250486c3eead44a1aaec5dd1e3faa0ce",
       "version_major": 2,
       "version_minor": 0
      },
      "text/plain": [
       "  0%|          | 0/18 [00:00<?, ?it/s]"
      ]
     },
     "metadata": {},
     "output_type": "display_data"
    },
    {
     "name": "stdout",
     "output_type": "stream",
     "text": [
      "factors: [<DiscreteFactor representing phi(Unblocked FEV1 (L):58, Small Airway Blockage 16 (%):16) at 0x7fbcd572fd30>]\n",
      "factors: [<DiscreteFactor representing phi(Unblocked FEV1 (L):58, Small Airway Blockage 9 (%):16) at 0x7fbcd572d240>]\n",
      "factors: [<DiscreteFactor representing phi(Unblocked FEV1 (L):58, Small Airway Blockage 17 (%):16) at 0x7fbcd572fbe0>]\n",
      "factors: [<DiscreteFactor representing phi(Unblocked FEV1 (L):58, Small Airway Blockage 3 (%):16) at 0x7fbcd572c9d0>]\n",
      "factors: [<DiscreteFactor representing phi(Unblocked FEV1 (L):58, Small Airway Blockage 6 (%):16) at 0x7fbcd572ece0>]\n",
      "factors: [<DiscreteFactor representing phi(Unblocked FEV1 (L):58, Small Airway Blockage 11 (%):16) at 0x7fbcd572f760>]\n",
      "factors: [<DiscreteFactor representing phi(Unblocked FEV1 (L):58, Small Airway Blockage 10 (%):16) at 0x7fbcd572e530>]\n",
      "factors: [<DiscreteFactor representing phi(Unblocked FEV1 (L):58, Small Airway Blockage 14 (%):16) at 0x7fbcd572faf0>]\n",
      "factors: [<DiscreteFactor representing phi(Unblocked FEV1 (L):58, Small Airway Blockage 2 (%):16) at 0x7fbcd572f040>]\n",
      "factors: [<DiscreteFactor representing phi(Unblocked FEV1 (L):58, Small Airway Blockage 15 (%):16) at 0x7fbcd572c5b0>]\n",
      "factors: [<DiscreteFactor representing phi(Unblocked FEV1 (L):58, Small Airway Blockage 0 (%):16) at 0x7fbcd572e410>]\n",
      "factors: [<DiscreteFactor representing phi(Unblocked FEV1 (L):58, Small Airway Blockage 1 (%):16) at 0x7fbcd572e350>]\n",
      "factors: [<DiscreteFactor representing phi(Unblocked FEV1 (L):58, Small Airway Blockage 7 (%):16) at 0x7fbcd572de10>, <DiscreteFactor representing phi(Unblocked FEV1 (L):58) at 0x7fbcd5706a70>, <DiscreteFactor representing phi(Unblocked FEV1 (L):58) at 0x7fbcd5706560>, <DiscreteFactor representing phi(Unblocked FEV1 (L):58) at 0x7fbcd5705300>, <DiscreteFactor representing phi(Unblocked FEV1 (L):58) at 0x7fbcd5704490>, <DiscreteFactor representing phi(Unblocked FEV1 (L):58) at 0x7fbcd5706c20>, <DiscreteFactor representing phi(Unblocked FEV1 (L):58) at 0x7fbcd5706f80>, <DiscreteFactor representing phi(Unblocked FEV1 (L):58) at 0x7fbcd5706710>, <DiscreteFactor representing phi(Unblocked FEV1 (L):58, Small Airway Blockage 8 (%):16) at 0x7fbcd572db40>, <DiscreteFactor representing phi(Unblocked FEV1 (L):58, Small Airway Blockage 13 (%):16) at 0x7fbcd572f2b0>, <DiscreteFactor representing phi(Unblocked FEV1 (L):58, Small Airway Blockage 5 (%):16) at 0x7fbcd572ca00>, <DiscreteFactor representing phi(Unblocked FEV1 (L):58) at 0x7fbcd57043d0>, <DiscreteFactor representing phi(Unblocked FEV1 (L):58) at 0x7fbcd5706dd0>, <DiscreteFactor representing phi(Unblocked FEV1 (L):58) at 0x7fbcd5706290>, <DiscreteFactor representing phi(Unblocked FEV1 (L):58) at 0x7fbcd57068c0>, <DiscreteFactor representing phi(Unblocked FEV1 (L):58, Small Airway Blockage 12 (%):16) at 0x7fbcd572f970>, <DiscreteFactor representing phi(Unblocked FEV1 (L):58) at 0x7fbcd5706230>, <DiscreteFactor representing phi(Unblocked FEV1 (L):58, Small Airway Blockage 4 (%):16) at 0x7fbcd572d1b0>]\n",
      "factors: [<DiscreteFactor representing phi(Small Airway Blockage 7 (%):16, Small Airway Blockage 8 (%):16, Small Airway Blockage 13 (%):16, Small Airway Blockage 5 (%):16, Small Airway Blockage 12 (%):16, Small Airway Blockage 4 (%):16) at 0x7fbcd57070d0>]\n",
      "factors: [<DiscreteFactor representing phi(Small Airway Blockage 7 (%):16, Small Airway Blockage 8 (%):16, Small Airway Blockage 13 (%):16, Small Airway Blockage 12 (%):16, Small Airway Blockage 4 (%):16) at 0x7fbcd5706f80>]\n",
      "factors: [<DiscreteFactor representing phi(Small Airway Blockage 7 (%):16, Small Airway Blockage 8 (%):16, Small Airway Blockage 13 (%):16, Small Airway Blockage 12 (%):16) at 0x7fbcd572f760>]\n",
      "factors: [<DiscreteFactor representing phi(Small Airway Blockage 7 (%):16, Small Airway Blockage 8 (%):16, Small Airway Blockage 12 (%):16) at 0x7fbcd572ece0>]\n",
      "factors: [<DiscreteFactor representing phi(Small Airway Blockage 7 (%):16, Small Airway Blockage 8 (%):16) at 0x7fbcd572faf0>]\n",
      "Prepare vars to be returned\n",
      "node: Small Airway Blockage 7 (%)\n",
      "Query took 16.70388412475586s\n",
      "SAB: 8\n",
      "Preprocess query\n",
      "Run query\n",
      "Query var to list\n",
      "Find nodes with query vars\n",
      "Conversion to set of tuple\n",
      "Compute clique potentials\n",
      "Variable elimination marginalize\n"
     ]
    },
    {
     "data": {
      "application/vnd.jupyter.widget-view+json": {
       "model_id": "b817392d72d04bec929d0654224fef86",
       "version_major": 2,
       "version_minor": 0
      },
      "text/plain": [
       "  0%|          | 0/18 [00:00<?, ?it/s]"
      ]
     },
     "metadata": {},
     "output_type": "display_data"
    },
    {
     "name": "stdout",
     "output_type": "stream",
     "text": [
      "factors: [<DiscreteFactor representing phi(Unblocked FEV1 (L):58, Small Airway Blockage 16 (%):16) at 0x7fbcb1cb3ca0>]\n",
      "factors: [<DiscreteFactor representing phi(Unblocked FEV1 (L):58, Small Airway Blockage 9 (%):16) at 0x7fbcb1cb32e0>]\n",
      "factors: [<DiscreteFactor representing phi(Unblocked FEV1 (L):58, Small Airway Blockage 17 (%):16) at 0x7fbcb1cb3ee0>]\n",
      "factors: [<DiscreteFactor representing phi(Unblocked FEV1 (L):58, Small Airway Blockage 3 (%):16) at 0x7fbcb1cb30d0>]\n",
      "factors: [<DiscreteFactor representing phi(Unblocked FEV1 (L):58, Small Airway Blockage 6 (%):16) at 0x7fbcb1cb35b0>]\n",
      "factors: [<DiscreteFactor representing phi(Unblocked FEV1 (L):58, Small Airway Blockage 11 (%):16) at 0x7fbcb1cb3580>]\n",
      "factors: [<DiscreteFactor representing phi(Unblocked FEV1 (L):58, Small Airway Blockage 7 (%):16) at 0x7fbcb1cb3d00>]\n",
      "factors: [<DiscreteFactor representing phi(Unblocked FEV1 (L):58, Small Airway Blockage 10 (%):16) at 0x7fbcb1cb37c0>]\n",
      "factors: [<DiscreteFactor representing phi(Unblocked FEV1 (L):58, Small Airway Blockage 14 (%):16) at 0x7fbcb1cb2fb0>]\n",
      "factors: [<DiscreteFactor representing phi(Unblocked FEV1 (L):58, Small Airway Blockage 2 (%):16) at 0x7fbcb1cb3610>]\n",
      "factors: [<DiscreteFactor representing phi(Unblocked FEV1 (L):58, Small Airway Blockage 15 (%):16) at 0x7fbcb1cb3c70>]\n",
      "factors: [<DiscreteFactor representing phi(Unblocked FEV1 (L):58, Small Airway Blockage 0 (%):16) at 0x7fbcb1cb0880>]\n",
      "factors: [<DiscreteFactor representing phi(Unblocked FEV1 (L):58, Small Airway Blockage 1 (%):16) at 0x7fbcb1cb0a30>]\n",
      "factors: [<DiscreteFactor representing phi(Unblocked FEV1 (L):58) at 0x7fbcd5707220>, <DiscreteFactor representing phi(Unblocked FEV1 (L):58) at 0x7fbcd5706ef0>, <DiscreteFactor representing phi(Unblocked FEV1 (L):58) at 0x7fbcd57048b0>, <DiscreteFactor representing phi(Unblocked FEV1 (L):58) at 0x7fbcd5705c90>, <DiscreteFactor representing phi(Unblocked FEV1 (L):58) at 0x7fbcd5705ea0>, <DiscreteFactor representing phi(Unblocked FEV1 (L):58) at 0x7fbcd5706a10>, <DiscreteFactor representing phi(Unblocked FEV1 (L):58) at 0x7fbcd5707490>, <DiscreteFactor representing phi(Unblocked FEV1 (L):58) at 0x7fbcd5705a50>, <DiscreteFactor representing phi(Unblocked FEV1 (L):58, Small Airway Blockage 8 (%):16) at 0x7fbcb1cb3f70>, <DiscreteFactor representing phi(Unblocked FEV1 (L):58, Small Airway Blockage 13 (%):16) at 0x7fbcb1cb0910>, <DiscreteFactor representing phi(Unblocked FEV1 (L):58, Small Airway Blockage 5 (%):16) at 0x7fbcb1cb3fa0>, <DiscreteFactor representing phi(Unblocked FEV1 (L):58) at 0x7fbcd57070d0>, <DiscreteFactor representing phi(Unblocked FEV1 (L):58) at 0x7fbcd5704910>, <DiscreteFactor representing phi(Unblocked FEV1 (L):58) at 0x7fbcd57070a0>, <DiscreteFactor representing phi(Unblocked FEV1 (L):58) at 0x7fbcd5704ee0>, <DiscreteFactor representing phi(Unblocked FEV1 (L):58, Small Airway Blockage 12 (%):16) at 0x7fbcb1cb3760>, <DiscreteFactor representing phi(Unblocked FEV1 (L):58) at 0x7fbcd5705b70>, <DiscreteFactor representing phi(Unblocked FEV1 (L):58, Small Airway Blockage 4 (%):16) at 0x7fbcb1cb3af0>]\n",
      "factors: [<DiscreteFactor representing phi(Small Airway Blockage 8 (%):16, Small Airway Blockage 13 (%):16, Small Airway Blockage 5 (%):16, Small Airway Blockage 12 (%):16, Small Airway Blockage 4 (%):16) at 0x7fbcd57076a0>]\n",
      "factors: [<DiscreteFactor representing phi(Small Airway Blockage 8 (%):16, Small Airway Blockage 13 (%):16, Small Airway Blockage 12 (%):16, Small Airway Blockage 4 (%):16) at 0x7fbcd5706a10>]\n",
      "factors: [<DiscreteFactor representing phi(Small Airway Blockage 8 (%):16, Small Airway Blockage 13 (%):16, Small Airway Blockage 12 (%):16) at 0x7fbcb1cb37c0>]\n",
      "factors: [<DiscreteFactor representing phi(Small Airway Blockage 8 (%):16, Small Airway Blockage 12 (%):16) at 0x7fbcb1cb3fa0>]\n",
      "Prepare vars to be returned\n",
      "node: Small Airway Blockage 8 (%)\n",
      "Query took 0.8714978694915771s\n",
      "SAB: 9\n",
      "Preprocess query\n",
      "Run query\n",
      "Query var to list\n",
      "Find nodes with query vars\n",
      "Conversion to set of tuple\n",
      "Compute clique potentials\n",
      "Variable elimination marginalize\n"
     ]
    },
    {
     "data": {
      "application/vnd.jupyter.widget-view+json": {
       "model_id": "3d25c7ddb31242e6b5ea866fb52b1728",
       "version_major": 2,
       "version_minor": 0
      },
      "text/plain": [
       "  0%|          | 0/18 [00:00<?, ?it/s]"
      ]
     },
     "metadata": {},
     "output_type": "display_data"
    },
    {
     "name": "stdout",
     "output_type": "stream",
     "text": [
      "factors: [<DiscreteFactor representing phi(Unblocked FEV1 (L):58, Small Airway Blockage 16 (%):16) at 0x7fbcd5707430>]\n",
      "factors: [<DiscreteFactor representing phi(Unblocked FEV1 (L):58, Small Airway Blockage 17 (%):16) at 0x7fbcd57074f0>]\n",
      "factors: [<DiscreteFactor representing phi(Unblocked FEV1 (L):58, Small Airway Blockage 3 (%):16) at 0x7fbcd572f9a0>]\n",
      "factors: [<DiscreteFactor representing phi(Unblocked FEV1 (L):58, Small Airway Blockage 6 (%):16) at 0x7fbcd572e920>]\n",
      "factors: [<DiscreteFactor representing phi(Unblocked FEV1 (L):58, Small Airway Blockage 11 (%):16) at 0x7fbcd572f6a0>]\n",
      "factors: [<DiscreteFactor representing phi(Unblocked FEV1 (L):58, Small Airway Blockage 7 (%):16) at 0x7fbcd572ece0>]\n",
      "factors: [<DiscreteFactor representing phi(Unblocked FEV1 (L):58, Small Airway Blockage 10 (%):16) at 0x7fbcd572e530>]\n",
      "factors: [<DiscreteFactor representing phi(Unblocked FEV1 (L):58, Small Airway Blockage 14 (%):16) at 0x7fbcd572d150>]\n",
      "factors: [<DiscreteFactor representing phi(Unblocked FEV1 (L):58, Small Airway Blockage 2 (%):16) at 0x7fbcd572c0a0>]\n",
      "factors: [<DiscreteFactor representing phi(Unblocked FEV1 (L):58, Small Airway Blockage 15 (%):16) at 0x7fbcd5706e90>]\n",
      "factors: [<DiscreteFactor representing phi(Unblocked FEV1 (L):58, Small Airway Blockage 0 (%):16) at 0x7fbcd572c760>]\n",
      "factors: [<DiscreteFactor representing phi(Unblocked FEV1 (L):58, Small Airway Blockage 1 (%):16) at 0x7fbcd572feb0>]\n",
      "factors: [<DiscreteFactor representing phi(Unblocked FEV1 (L):58) at 0x7fbcd57066e0>, <DiscreteFactor representing phi(Unblocked FEV1 (L):58) at 0x7fbcd5706290>, <DiscreteFactor representing phi(Unblocked FEV1 (L):58) at 0x7fbcd57073d0>, <DiscreteFactor representing phi(Unblocked FEV1 (L):58) at 0x7fbcd57076a0>, <DiscreteFactor representing phi(Unblocked FEV1 (L):58) at 0x7fbcd57060e0>, <DiscreteFactor representing phi(Unblocked FEV1 (L):58, Small Airway Blockage 9 (%):16) at 0x7fbcd572d870>, <DiscreteFactor representing phi(Unblocked FEV1 (L):58) at 0x7fbcd57066b0>, <DiscreteFactor representing phi(Unblocked FEV1 (L):58) at 0x7fbcd57068c0>, <DiscreteFactor representing phi(Unblocked FEV1 (L):58) at 0x7fbcd57070d0>, <DiscreteFactor representing phi(Unblocked FEV1 (L):58, Small Airway Blockage 8 (%):16) at 0x7fbcd572c520>, <DiscreteFactor representing phi(Unblocked FEV1 (L):58, Small Airway Blockage 13 (%):16) at 0x7fbcd572f010>, <DiscreteFactor representing phi(Unblocked FEV1 (L):58, Small Airway Blockage 5 (%):16) at 0x7fbcd572d4b0>, <DiscreteFactor representing phi(Unblocked FEV1 (L):58) at 0x7fbcd5705630>, <DiscreteFactor representing phi(Unblocked FEV1 (L):58) at 0x7fbcd5707100>, <DiscreteFactor representing phi(Unblocked FEV1 (L):58) at 0x7fbcd57069e0>, <DiscreteFactor representing phi(Unblocked FEV1 (L):58, Small Airway Blockage 12 (%):16) at 0x7fbcd572ef50>, <DiscreteFactor representing phi(Unblocked FEV1 (L):58) at 0x7fbcd5705960>, <DiscreteFactor representing phi(Unblocked FEV1 (L):58, Small Airway Blockage 4 (%):16) at 0x7fbcd572faf0>]\n",
      "factors: [<DiscreteFactor representing phi(Small Airway Blockage 9 (%):16, Small Airway Blockage 8 (%):16, Small Airway Blockage 13 (%):16, Small Airway Blockage 5 (%):16, Small Airway Blockage 12 (%):16, Small Airway Blockage 4 (%):16) at 0x7fbcd5706b30>]\n",
      "factors: [<DiscreteFactor representing phi(Small Airway Blockage 9 (%):16, Small Airway Blockage 8 (%):16, Small Airway Blockage 13 (%):16, Small Airway Blockage 12 (%):16, Small Airway Blockage 4 (%):16) at 0x7fbcd57066b0>]\n",
      "factors: [<DiscreteFactor representing phi(Small Airway Blockage 9 (%):16, Small Airway Blockage 8 (%):16, Small Airway Blockage 13 (%):16, Small Airway Blockage 12 (%):16) at 0x7fbcd572e530>]\n",
      "factors: [<DiscreteFactor representing phi(Small Airway Blockage 9 (%):16, Small Airway Blockage 8 (%):16, Small Airway Blockage 12 (%):16) at 0x7fbcd572c760>]\n",
      "factors: [<DiscreteFactor representing phi(Small Airway Blockage 9 (%):16, Small Airway Blockage 8 (%):16) at 0x7fbcd572feb0>]\n",
      "Prepare vars to be returned\n",
      "node: Small Airway Blockage 9 (%)\n",
      "Query took 16.721187114715576s\n",
      "SAB: 10\n",
      "Preprocess query\n",
      "Run query\n",
      "Query var to list\n",
      "Find nodes with query vars\n",
      "Conversion to set of tuple\n",
      "Compute clique potentials\n",
      "Variable elimination marginalize\n"
     ]
    },
    {
     "data": {
      "application/vnd.jupyter.widget-view+json": {
       "model_id": "477e5a8a02f24624bec903e0f9267af5",
       "version_major": 2,
       "version_minor": 0
      },
      "text/plain": [
       "  0%|          | 0/18 [00:00<?, ?it/s]"
      ]
     },
     "metadata": {},
     "output_type": "display_data"
    },
    {
     "name": "stdout",
     "output_type": "stream",
     "text": [
      "factors: [<DiscreteFactor representing phi(Unblocked FEV1 (L):58, Small Airway Blockage 16 (%):16) at 0x7fbcd572c9d0>]\n",
      "factors: [<DiscreteFactor representing phi(Unblocked FEV1 (L):58, Small Airway Blockage 9 (%):16) at 0x7fbcd572fd00>]\n",
      "factors: [<DiscreteFactor representing phi(Unblocked FEV1 (L):58, Small Airway Blockage 17 (%):16) at 0x7fbcd572ece0>]\n",
      "factors: [<DiscreteFactor representing phi(Unblocked FEV1 (L):58, Small Airway Blockage 3 (%):16) at 0x7fbcd572faf0>]\n",
      "factors: [<DiscreteFactor representing phi(Unblocked FEV1 (L):58, Small Airway Blockage 6 (%):16) at 0x7fbcd572f760>]\n",
      "factors: [<DiscreteFactor representing phi(Unblocked FEV1 (L):58, Small Airway Blockage 11 (%):16) at 0x7fbcd572f040>]\n",
      "factors: [<DiscreteFactor representing phi(Unblocked FEV1 (L):58, Small Airway Blockage 7 (%):16) at 0x7fbcd572de10>]\n",
      "factors: [<DiscreteFactor representing phi(Unblocked FEV1 (L):58, Small Airway Blockage 14 (%):16) at 0x7fbcd572ef50>]\n",
      "factors: [<DiscreteFactor representing phi(Unblocked FEV1 (L):58, Small Airway Blockage 2 (%):16) at 0x7fbcd572f9a0>]\n",
      "factors: [<DiscreteFactor representing phi(Unblocked FEV1 (L):58, Small Airway Blockage 15 (%):16) at 0x7fbcd572d1b0>]\n",
      "factors: [<DiscreteFactor representing phi(Unblocked FEV1 (L):58, Small Airway Blockage 0 (%):16) at 0x7fbcd572e920>]\n",
      "factors: [<DiscreteFactor representing phi(Unblocked FEV1 (L):58, Small Airway Blockage 1 (%):16) at 0x7fbcd572d4b0>]\n",
      "factors: [<DiscreteFactor representing phi(Unblocked FEV1 (L):58) at 0x7fbcd5705b10>, <DiscreteFactor representing phi(Unblocked FEV1 (L):58) at 0x7fbcd57076a0>, <DiscreteFactor representing phi(Unblocked FEV1 (L):58) at 0x7fbcd5705780>, <DiscreteFactor representing phi(Unblocked FEV1 (L):58) at 0x7fbcd5704a60>, <DiscreteFactor representing phi(Unblocked FEV1 (L):58) at 0x7fbcd5706980>, <DiscreteFactor representing phi(Unblocked FEV1 (L):58) at 0x7fbcd57077f0>, <DiscreteFactor representing phi(Unblocked FEV1 (L):58) at 0x7fbcd5707520>, <DiscreteFactor representing phi(Unblocked FEV1 (L):58, Small Airway Blockage 8 (%):16) at 0x7fbcd572fd30>, <DiscreteFactor representing phi(Unblocked FEV1 (L):58, Small Airway Blockage 13 (%):16) at 0x7fbcd572dba0>, <DiscreteFactor representing phi(Unblocked FEV1 (L):58, Small Airway Blockage 5 (%):16) at 0x7fbcd572f280>, <DiscreteFactor representing phi(Unblocked FEV1 (L):58) at 0x7fbcd57044f0>, <DiscreteFactor representing phi(Unblocked FEV1 (L):58) at 0x7fbcd57079a0>, <DiscreteFactor representing phi(Unblocked FEV1 (L):58) at 0x7fbcd5706c50>, <DiscreteFactor representing phi(Unblocked FEV1 (L):58) at 0x7fbcd5704850>, <DiscreteFactor representing phi(Unblocked FEV1 (L):58, Small Airway Blockage 12 (%):16) at 0x7fbcd572fbe0>, <DiscreteFactor representing phi(Unblocked FEV1 (L):58) at 0x7fbcd5705a20>, <DiscreteFactor representing phi(Unblocked FEV1 (L):58, Small Airway Blockage 4 (%):16) at 0x7fbcd572f850>, <DiscreteFactor representing phi(Unblocked FEV1 (L):58, Small Airway Blockage 10 (%):16) at 0x7fbcd572f2b0>]\n",
      "factors: [<DiscreteFactor representing phi(Small Airway Blockage 8 (%):16, Small Airway Blockage 13 (%):16, Small Airway Blockage 5 (%):16, Small Airway Blockage 12 (%):16, Small Airway Blockage 4 (%):16, Small Airway Blockage 10 (%):16) at 0x7fbcd5707b20>]\n",
      "factors: [<DiscreteFactor representing phi(Small Airway Blockage 8 (%):16, Small Airway Blockage 13 (%):16, Small Airway Blockage 12 (%):16, Small Airway Blockage 4 (%):16, Small Airway Blockage 10 (%):16) at 0x7fbcd57077f0>]\n",
      "factors: [<DiscreteFactor representing phi(Small Airway Blockage 8 (%):16, Small Airway Blockage 13 (%):16, Small Airway Blockage 12 (%):16, Small Airway Blockage 10 (%):16) at 0x7fbcd572c9d0>]\n",
      "factors: [<DiscreteFactor representing phi(Small Airway Blockage 8 (%):16, Small Airway Blockage 12 (%):16, Small Airway Blockage 10 (%):16) at 0x7fbcd572e920>]\n",
      "factors: [<DiscreteFactor representing phi(Small Airway Blockage 8 (%):16, Small Airway Blockage 10 (%):16) at 0x7fbcd5704850>]\n",
      "Prepare vars to be returned\n",
      "node: Small Airway Blockage 10 (%)\n",
      "Query took 16.174695014953613s\n",
      "SAB: 11\n",
      "Preprocess query\n",
      "Run query\n",
      "Query var to list\n",
      "Find nodes with query vars\n",
      "Conversion to set of tuple\n",
      "Compute clique potentials\n",
      "Variable elimination marginalize\n"
     ]
    },
    {
     "data": {
      "application/vnd.jupyter.widget-view+json": {
       "model_id": "6285db84986749e6806bce13f0336227",
       "version_major": 2,
       "version_minor": 0
      },
      "text/plain": [
       "  0%|          | 0/18 [00:00<?, ?it/s]"
      ]
     },
     "metadata": {},
     "output_type": "display_data"
    },
    {
     "name": "stdout",
     "output_type": "stream",
     "text": [
      "factors: [<DiscreteFactor representing phi(Unblocked FEV1 (L):58, Small Airway Blockage 16 (%):16) at 0x7fbcd5706cb0>]\n",
      "factors: [<DiscreteFactor representing phi(Unblocked FEV1 (L):58, Small Airway Blockage 9 (%):16) at 0x7fbcb1cb0ac0>]\n",
      "factors: [<DiscreteFactor representing phi(Unblocked FEV1 (L):58, Small Airway Blockage 17 (%):16) at 0x7fbcd57066e0>]\n",
      "factors: [<DiscreteFactor representing phi(Unblocked FEV1 (L):58, Small Airway Blockage 3 (%):16) at 0x7fbcb1cb3ca0>]\n",
      "factors: [<DiscreteFactor representing phi(Unblocked FEV1 (L):58, Small Airway Blockage 6 (%):16) at 0x7fbcb1cb3430>]\n",
      "factors: [<DiscreteFactor representing phi(Unblocked FEV1 (L):58, Small Airway Blockage 7 (%):16) at 0x7fbcb1cb35b0>]\n",
      "factors: [<DiscreteFactor representing phi(Unblocked FEV1 (L):58, Small Airway Blockage 10 (%):16) at 0x7fbcb1cb0a30>]\n",
      "factors: [<DiscreteFactor representing phi(Unblocked FEV1 (L):58, Small Airway Blockage 14 (%):16) at 0x7fbcb1cb3910>]\n",
      "factors: [<DiscreteFactor representing phi(Unblocked FEV1 (L):58, Small Airway Blockage 2 (%):16) at 0x7fbcb1cb3c70>]\n",
      "factors: [<DiscreteFactor representing phi(Unblocked FEV1 (L):58, Small Airway Blockage 15 (%):16) at 0x7fbcd5706c80>]\n",
      "factors: [<DiscreteFactor representing phi(Unblocked FEV1 (L):58, Small Airway Blockage 0 (%):16) at 0x7fbcb1cb3610>]\n",
      "factors: [<DiscreteFactor representing phi(Unblocked FEV1 (L):58, Small Airway Blockage 1 (%):16) at 0x7fbcb1cb3af0>]\n",
      "factors: [<DiscreteFactor representing phi(Unblocked FEV1 (L):58) at 0x7fbcd57048b0>, <DiscreteFactor representing phi(Unblocked FEV1 (L):58) at 0x7fbcd5707790>, <DiscreteFactor representing phi(Unblocked FEV1 (L):58) at 0x7fbcd5707cd0>, <DiscreteFactor representing phi(Unblocked FEV1 (L):58) at 0x7fbcd5705ab0>, <DiscreteFactor representing phi(Unblocked FEV1 (L):58) at 0x7fbcd5704b80>, <DiscreteFactor representing phi(Unblocked FEV1 (L):58) at 0x7fbcd57044f0>, <DiscreteFactor representing phi(Unblocked FEV1 (L):58) at 0x7fbcd5707160>, <DiscreteFactor representing phi(Unblocked FEV1 (L):58, Small Airway Blockage 11 (%):16) at 0x7fbcb1cb3fd0>, <DiscreteFactor representing phi(Unblocked FEV1 (L):58) at 0x7fbcd5707850>, <DiscreteFactor representing phi(Unblocked FEV1 (L):58, Small Airway Blockage 8 (%):16) at 0x7fbcb1cb3100>, <DiscreteFactor representing phi(Unblocked FEV1 (L):58, Small Airway Blockage 13 (%):16) at 0x7fbcb1cb31c0>, <DiscreteFactor representing phi(Unblocked FEV1 (L):58, Small Airway Blockage 5 (%):16) at 0x7fbcb1cb3bb0>, <DiscreteFactor representing phi(Unblocked FEV1 (L):58) at 0x7fbcd5705ea0>, <DiscreteFactor representing phi(Unblocked FEV1 (L):58) at 0x7fbcd5706050>, <DiscreteFactor representing phi(Unblocked FEV1 (L):58) at 0x7fbcd5704850>, <DiscreteFactor representing phi(Unblocked FEV1 (L):58) at 0x7fbcd5707e50>, <DiscreteFactor representing phi(Unblocked FEV1 (L):58, Small Airway Blockage 12 (%):16) at 0x7fbcb1cb3970>, <DiscreteFactor representing phi(Unblocked FEV1 (L):58, Small Airway Blockage 4 (%):16) at 0x7fbcb1cb0880>]\n",
      "factors: [<DiscreteFactor representing phi(Small Airway Blockage 11 (%):16, Small Airway Blockage 8 (%):16, Small Airway Blockage 13 (%):16, Small Airway Blockage 5 (%):16, Small Airway Blockage 12 (%):16, Small Airway Blockage 4 (%):16) at 0x7fbcd5707fa0>]\n",
      "factors: [<DiscreteFactor representing phi(Small Airway Blockage 11 (%):16, Small Airway Blockage 8 (%):16, Small Airway Blockage 13 (%):16, Small Airway Blockage 12 (%):16, Small Airway Blockage 4 (%):16) at 0x7fbcd5706050>]\n",
      "factors: [<DiscreteFactor representing phi(Small Airway Blockage 11 (%):16, Small Airway Blockage 8 (%):16, Small Airway Blockage 13 (%):16, Small Airway Blockage 12 (%):16) at 0x7fbcb1cb3430>]\n",
      "factors: [<DiscreteFactor representing phi(Small Airway Blockage 11 (%):16, Small Airway Blockage 8 (%):16, Small Airway Blockage 12 (%):16) at 0x7fbcb1cb35b0>]\n",
      "factors: [<DiscreteFactor representing phi(Small Airway Blockage 11 (%):16, Small Airway Blockage 8 (%):16) at 0x7fbcb1cb3bb0>]\n",
      "Prepare vars to be returned\n",
      "node: Small Airway Blockage 11 (%)\n",
      "Query took 16.135009050369263s\n",
      "SAB: 12\n",
      "Preprocess query\n",
      "Run query\n",
      "Query var to list\n",
      "Find nodes with query vars\n",
      "Conversion to set of tuple\n",
      "Compute clique potentials\n",
      "Variable elimination marginalize\n"
     ]
    },
    {
     "data": {
      "application/vnd.jupyter.widget-view+json": {
       "model_id": "ab5d93dfd9b7415487f7ab324262fb0b",
       "version_major": 2,
       "version_minor": 0
      },
      "text/plain": [
       "  0%|          | 0/18 [00:00<?, ?it/s]"
      ]
     },
     "metadata": {},
     "output_type": "display_data"
    },
    {
     "name": "stdout",
     "output_type": "stream",
     "text": [
      "factors: [<DiscreteFactor representing phi(Unblocked FEV1 (L):58, Small Airway Blockage 16 (%):16) at 0x7fbcd5707100>]\n",
      "factors: [<DiscreteFactor representing phi(Unblocked FEV1 (L):58, Small Airway Blockage 9 (%):16) at 0x7fbcd572d120>]\n",
      "factors: [<DiscreteFactor representing phi(Unblocked FEV1 (L):58, Small Airway Blockage 17 (%):16) at 0x7fbcd5706290>]\n",
      "factors: [<DiscreteFactor representing phi(Unblocked FEV1 (L):58, Small Airway Blockage 3 (%):16) at 0x7fbcd572f280>]\n",
      "factors: [<DiscreteFactor representing phi(Unblocked FEV1 (L):58, Small Airway Blockage 6 (%):16) at 0x7fbcd572f850>]\n",
      "factors: [<DiscreteFactor representing phi(Unblocked FEV1 (L):58, Small Airway Blockage 11 (%):16) at 0x7fbcd572f010>]\n",
      "factors: [<DiscreteFactor representing phi(Unblocked FEV1 (L):58, Small Airway Blockage 7 (%):16) at 0x7fbcd572c0a0>]\n",
      "factors: [<DiscreteFactor representing phi(Unblocked FEV1 (L):58, Small Airway Blockage 10 (%):16) at 0x7fbcd572fd00>]\n",
      "factors: [<DiscreteFactor representing phi(Unblocked FEV1 (L):58, Small Airway Blockage 14 (%):16) at 0x7fbcd5707af0>]\n",
      "factors: [<DiscreteFactor representing phi(Unblocked FEV1 (L):58, Small Airway Blockage 2 (%):16) at 0x7fbcd572f2b0>]\n",
      "factors: [<DiscreteFactor representing phi(Unblocked FEV1 (L):58, Small Airway Blockage 15 (%):16) at 0x7fbcd5705690>]\n",
      "factors: [<DiscreteFactor representing phi(Unblocked FEV1 (L):58, Small Airway Blockage 0 (%):16) at 0x7fbcd572e920>]\n",
      "factors: [<DiscreteFactor representing phi(Unblocked FEV1 (L):58, Small Airway Blockage 1 (%):16) at 0x7fbcd572e4a0>]\n",
      "factors: [<DiscreteFactor representing phi(Unblocked FEV1 (L):58) at 0x7fbc6161c6d0>, <DiscreteFactor representing phi(Unblocked FEV1 (L):58) at 0x7fbcd5706050>, <DiscreteFactor representing phi(Unblocked FEV1 (L):58) at 0x7fbc6161c220>, <DiscreteFactor representing phi(Unblocked FEV1 (L):58) at 0x7fbcd5707d90>, <DiscreteFactor representing phi(Unblocked FEV1 (L):58) at 0x7fbcd5705630>, <DiscreteFactor representing phi(Unblocked FEV1 (L):58) at 0x7fbc6161c880>, <DiscreteFactor representing phi(Unblocked FEV1 (L):58) at 0x7fbc6161c9d0>, <DiscreteFactor representing phi(Unblocked FEV1 (L):58) at 0x7fbc6161c3d0>, <DiscreteFactor representing phi(Unblocked FEV1 (L):58, Small Airway Blockage 8 (%):16) at 0x7fbcd572de10>, <DiscreteFactor representing phi(Unblocked FEV1 (L):58, Small Airway Blockage 13 (%):16) at 0x7fbcd572f6a0>, <DiscreteFactor representing phi(Unblocked FEV1 (L):58, Small Airway Blockage 5 (%):16) at 0x7fbcd572d4b0>, <DiscreteFactor representing phi(Unblocked FEV1 (L):58) at 0x7fbcd5707250>, <DiscreteFactor representing phi(Unblocked FEV1 (L):58) at 0x7fbcd5704a60>, <DiscreteFactor representing phi(Unblocked FEV1 (L):58) at 0x7fbcd5707f40>, <DiscreteFactor representing phi(Unblocked FEV1 (L):58) at 0x7fbc6161c520>, <DiscreteFactor representing phi(Unblocked FEV1 (L):58, Small Airway Blockage 12 (%):16) at 0x7fbcd572fbe0>, <DiscreteFactor representing phi(Unblocked FEV1 (L):58) at 0x7fbc6161c070>, <DiscreteFactor representing phi(Unblocked FEV1 (L):58, Small Airway Blockage 4 (%):16) at 0x7fbcd572ece0>]\n",
      "factors: [<DiscreteFactor representing phi(Small Airway Blockage 8 (%):16, Small Airway Blockage 13 (%):16, Small Airway Blockage 5 (%):16, Small Airway Blockage 12 (%):16, Small Airway Blockage 4 (%):16) at 0x7fbcd5707f10>]\n",
      "factors: [<DiscreteFactor representing phi(Small Airway Blockage 8 (%):16, Small Airway Blockage 13 (%):16, Small Airway Blockage 12 (%):16, Small Airway Blockage 4 (%):16) at 0x7fbcd5706980>]\n",
      "factors: [<DiscreteFactor representing phi(Small Airway Blockage 8 (%):16, Small Airway Blockage 13 (%):16, Small Airway Blockage 12 (%):16) at 0x7fbcd5707fa0>]\n",
      "factors: [<DiscreteFactor representing phi(Small Airway Blockage 8 (%):16, Small Airway Blockage 12 (%):16) at 0x7fbcd5707850>]\n",
      "Prepare vars to be returned\n",
      "node: Small Airway Blockage 12 (%)\n",
      "Query took 0.860090970993042s\n",
      "SAB: 13\n",
      "Preprocess query\n",
      "Run query\n",
      "Query var to list\n",
      "Find nodes with query vars\n",
      "Conversion to set of tuple\n",
      "Compute clique potentials\n",
      "Variable elimination marginalize\n"
     ]
    },
    {
     "data": {
      "application/vnd.jupyter.widget-view+json": {
       "model_id": "3f5d558ec9564d099cf13af9f91b1d36",
       "version_major": 2,
       "version_minor": 0
      },
      "text/plain": [
       "  0%|          | 0/18 [00:00<?, ?it/s]"
      ]
     },
     "metadata": {},
     "output_type": "display_data"
    },
    {
     "name": "stdout",
     "output_type": "stream",
     "text": [
      "factors: [<DiscreteFactor representing phi(Unblocked FEV1 (L):58, Small Airway Blockage 16 (%):16) at 0x7fbcd5706050>]\n",
      "factors: [<DiscreteFactor representing phi(Unblocked FEV1 (L):58, Small Airway Blockage 9 (%):16) at 0x7fbcd5707eb0>]\n",
      "factors: [<DiscreteFactor representing phi(Unblocked FEV1 (L):58, Small Airway Blockage 17 (%):16) at 0x7fbcd5707f70>]\n",
      "factors: [<DiscreteFactor representing phi(Unblocked FEV1 (L):58, Small Airway Blockage 3 (%):16) at 0x7fbcd5707ee0>]\n",
      "factors: [<DiscreteFactor representing phi(Unblocked FEV1 (L):58, Small Airway Blockage 6 (%):16) at 0x7fbcd5707100>]\n",
      "factors: [<DiscreteFactor representing phi(Unblocked FEV1 (L):58, Small Airway Blockage 7 (%):16) at 0x7fbcd5705630>]\n",
      "factors: [<DiscreteFactor representing phi(Unblocked FEV1 (L):58, Small Airway Blockage 10 (%):16) at 0x7fbcd5707790>]\n",
      "factors: [<DiscreteFactor representing phi(Unblocked FEV1 (L):58, Small Airway Blockage 14 (%):16) at 0x7fbcd5705690>]\n",
      "factors: [<DiscreteFactor representing phi(Unblocked FEV1 (L):58, Small Airway Blockage 2 (%):16) at 0x7fbcd5707460>]\n",
      "factors: [<DiscreteFactor representing phi(Unblocked FEV1 (L):58, Small Airway Blockage 15 (%):16) at 0x7fbcd57076d0>]\n",
      "factors: [<DiscreteFactor representing phi(Unblocked FEV1 (L):58, Small Airway Blockage 0 (%):16) at 0x7fbcd5706f80>]\n",
      "factors: [<DiscreteFactor representing phi(Unblocked FEV1 (L):58, Small Airway Blockage 1 (%):16) at 0x7fbcd5706920>]\n",
      "factors: [<DiscreteFactor representing phi(Unblocked FEV1 (L):58) at 0x7fbcd5705ea0>, <DiscreteFactor representing phi(Unblocked FEV1 (L):58) at 0x7fbcd572fd00>, <DiscreteFactor representing phi(Unblocked FEV1 (L):58) at 0x7fbcd572d120>, <DiscreteFactor representing phi(Unblocked FEV1 (L):58) at 0x7fbc61618220>, <DiscreteFactor representing phi(Unblocked FEV1 (L):58) at 0x7fbc616183d0>, <DiscreteFactor representing phi(Unblocked FEV1 (L):58) at 0x7fbc61618370>, <DiscreteFactor representing phi(Unblocked FEV1 (L):58) at 0x7fbc616186d0>, <DiscreteFactor representing phi(Unblocked FEV1 (L):58, Small Airway Blockage 11 (%):16) at 0x7fbcd5707970>, <DiscreteFactor representing phi(Unblocked FEV1 (L):58) at 0x7fbc61618400>, <DiscreteFactor representing phi(Unblocked FEV1 (L):58, Small Airway Blockage 8 (%):16) at 0x7fbcd57056f0>, <DiscreteFactor representing phi(Unblocked FEV1 (L):58, Small Airway Blockage 13 (%):16) at 0x7fbcd57077f0>, <DiscreteFactor representing phi(Unblocked FEV1 (L):58, Small Airway Blockage 5 (%):16) at 0x7fbcd5707160>, <DiscreteFactor representing phi(Unblocked FEV1 (L):58) at 0x7fbc616181f0>, <DiscreteFactor representing phi(Unblocked FEV1 (L):58) at 0x7fbc61618130>, <DiscreteFactor representing phi(Unblocked FEV1 (L):58) at 0x7fbc61618040>, <DiscreteFactor representing phi(Unblocked FEV1 (L):58) at 0x7fbc61618430>, <DiscreteFactor representing phi(Unblocked FEV1 (L):58, Small Airway Blockage 12 (%):16) at 0x7fbcd5706290>, <DiscreteFactor representing phi(Unblocked FEV1 (L):58, Small Airway Blockage 4 (%):16) at 0x7fbcd5707f40>]\n",
      "factors: [<DiscreteFactor representing phi(Small Airway Blockage 11 (%):16, Small Airway Blockage 8 (%):16, Small Airway Blockage 13 (%):16, Small Airway Blockage 5 (%):16, Small Airway Blockage 12 (%):16, Small Airway Blockage 4 (%):16) at 0x7fbcd5706170>]\n",
      "factors: [<DiscreteFactor representing phi(Small Airway Blockage 11 (%):16, Small Airway Blockage 8 (%):16, Small Airway Blockage 13 (%):16, Small Airway Blockage 12 (%):16, Small Airway Blockage 4 (%):16) at 0x7fbcd572e350>]\n",
      "factors: [<DiscreteFactor representing phi(Small Airway Blockage 11 (%):16, Small Airway Blockage 8 (%):16, Small Airway Blockage 13 (%):16, Small Airway Blockage 12 (%):16) at 0x7fbcd5704340>]\n",
      "factors: [<DiscreteFactor representing phi(Small Airway Blockage 8 (%):16, Small Airway Blockage 13 (%):16, Small Airway Blockage 12 (%):16) at 0x7fbcd5707e50>]\n",
      "factors: [<DiscreteFactor representing phi(Small Airway Blockage 8 (%):16, Small Airway Blockage 13 (%):16) at 0x7fbcd57076d0>]\n",
      "Prepare vars to be returned\n",
      "node: Small Airway Blockage 13 (%)\n",
      "Query took 16.569249153137207s\n",
      "SAB: 14\n",
      "Preprocess query\n",
      "Run query\n",
      "Query var to list\n",
      "Find nodes with query vars\n",
      "Conversion to set of tuple\n",
      "Compute clique potentials\n",
      "Variable elimination marginalize\n"
     ]
    },
    {
     "data": {
      "application/vnd.jupyter.widget-view+json": {
       "model_id": "8c996d6fe2604699ad7fafecb438053f",
       "version_major": 2,
       "version_minor": 0
      },
      "text/plain": [
       "  0%|          | 0/18 [00:00<?, ?it/s]"
      ]
     },
     "metadata": {},
     "output_type": "display_data"
    },
    {
     "name": "stdout",
     "output_type": "stream",
     "text": [
      "factors: [<DiscreteFactor representing phi(Unblocked FEV1 (L):58, Small Airway Blockage 16 (%):16) at 0x7fbcd5707970>]\n",
      "factors: [<DiscreteFactor representing phi(Unblocked FEV1 (L):58, Small Airway Blockage 9 (%):16) at 0x7fbcd5706ef0>]\n",
      "factors: [<DiscreteFactor representing phi(Unblocked FEV1 (L):58, Small Airway Blockage 17 (%):16) at 0x7fbcd5705b10>]\n",
      "factors: [<DiscreteFactor representing phi(Unblocked FEV1 (L):58, Small Airway Blockage 3 (%):16) at 0x7fbcd57079d0>]\n",
      "factors: [<DiscreteFactor representing phi(Unblocked FEV1 (L):58, Small Airway Blockage 6 (%):16) at 0x7fbcd5706f80>]\n",
      "factors: [<DiscreteFactor representing phi(Unblocked FEV1 (L):58, Small Airway Blockage 11 (%):16) at 0x7fbcd5705630>]\n",
      "factors: [<DiscreteFactor representing phi(Unblocked FEV1 (L):58, Small Airway Blockage 7 (%):16) at 0x7fbcd5704460>]\n",
      "factors: [<DiscreteFactor representing phi(Unblocked FEV1 (L):58, Small Airway Blockage 10 (%):16) at 0x7fbcd5707ee0>]\n",
      "factors: [<DiscreteFactor representing phi(Unblocked FEV1 (L):58, Small Airway Blockage 2 (%):16) at 0x7fbcd5706860>]\n",
      "factors: [<DiscreteFactor representing phi(Unblocked FEV1 (L):58, Small Airway Blockage 15 (%):16) at 0x7fbcd5705ea0>]\n",
      "factors: [<DiscreteFactor representing phi(Unblocked FEV1 (L):58, Small Airway Blockage 0 (%):16) at 0x7fbcd5707e20>]\n",
      "factors: [<DiscreteFactor representing phi(Unblocked FEV1 (L):58, Small Airway Blockage 1 (%):16) at 0x7fbcd57056f0>]\n",
      "factors: [<DiscreteFactor representing phi(Unblocked FEV1 (L):58) at 0x7fbc61624e50>, <DiscreteFactor representing phi(Unblocked FEV1 (L):58) at 0x7fbc61624670>, <DiscreteFactor representing phi(Unblocked FEV1 (L):58) at 0x7fbc61624b50>, <DiscreteFactor representing phi(Unblocked FEV1 (L):58) at 0x7fbc61624730>, <DiscreteFactor representing phi(Unblocked FEV1 (L):58) at 0x7fbc616247f0>, <DiscreteFactor representing phi(Unblocked FEV1 (L):58) at 0x7fbc61625000>, <DiscreteFactor representing phi(Unblocked FEV1 (L):58) at 0x7fbc61624610>, <DiscreteFactor representing phi(Unblocked FEV1 (L):58, Small Airway Blockage 14 (%):16) at 0x7fbcd5707490>, <DiscreteFactor representing phi(Unblocked FEV1 (L):58) at 0x7fbc61624ca0>, <DiscreteFactor representing phi(Unblocked FEV1 (L):58, Small Airway Blockage 8 (%):16) at 0x7fbcd5706050>, <DiscreteFactor representing phi(Unblocked FEV1 (L):58, Small Airway Blockage 13 (%):16) at 0x7fbcd5707460>, <DiscreteFactor representing phi(Unblocked FEV1 (L):58, Small Airway Blockage 5 (%):16) at 0x7fbcd5707100>, <DiscreteFactor representing phi(Unblocked FEV1 (L):58) at 0x7fbc61624040>, <DiscreteFactor representing phi(Unblocked FEV1 (L):58) at 0x7fbc616251b0>, <DiscreteFactor representing phi(Unblocked FEV1 (L):58) at 0x7fbc616242e0>, <DiscreteFactor representing phi(Unblocked FEV1 (L):58, Small Airway Blockage 12 (%):16) at 0x7fbcd5706cb0>, <DiscreteFactor representing phi(Unblocked FEV1 (L):58) at 0x7fbc616249a0>, <DiscreteFactor representing phi(Unblocked FEV1 (L):58, Small Airway Blockage 4 (%):16) at 0x7fbcd5705690>]\n",
      "factors: [<DiscreteFactor representing phi(Small Airway Blockage 14 (%):16, Small Airway Blockage 8 (%):16, Small Airway Blockage 13 (%):16, Small Airway Blockage 5 (%):16, Small Airway Blockage 12 (%):16, Small Airway Blockage 4 (%):16) at 0x7fbcd57066e0>]\n",
      "factors: [<DiscreteFactor representing phi(Small Airway Blockage 14 (%):16, Small Airway Blockage 8 (%):16, Small Airway Blockage 13 (%):16, Small Airway Blockage 12 (%):16, Small Airway Blockage 4 (%):16) at 0x7fbcd572ca00>]\n",
      "factors: [<DiscreteFactor representing phi(Small Airway Blockage 14 (%):16, Small Airway Blockage 8 (%):16, Small Airway Blockage 13 (%):16, Small Airway Blockage 12 (%):16) at 0x7fbcd5705b10>]\n",
      "factors: [<DiscreteFactor representing phi(Small Airway Blockage 14 (%):16, Small Airway Blockage 8 (%):16, Small Airway Blockage 12 (%):16) at 0x7fbcd5705ea0>]\n",
      "factors: [<DiscreteFactor representing phi(Small Airway Blockage 14 (%):16, Small Airway Blockage 8 (%):16) at 0x7fbcd5705690>]\n",
      "Prepare vars to be returned\n",
      "node: Small Airway Blockage 14 (%)\n",
      "Query took 17.05035972595215s\n",
      "SAB: 15\n",
      "Preprocess query\n",
      "Run query\n",
      "Query var to list\n",
      "Find nodes with query vars\n",
      "Conversion to set of tuple\n",
      "Compute clique potentials\n",
      "Variable elimination marginalize\n"
     ]
    },
    {
     "data": {
      "application/vnd.jupyter.widget-view+json": {
       "model_id": "4e7e6cdb12034f10bbf2b46756272c1f",
       "version_major": 2,
       "version_minor": 0
      },
      "text/plain": [
       "  0%|          | 0/18 [00:00<?, ?it/s]"
      ]
     },
     "metadata": {},
     "output_type": "display_data"
    },
    {
     "name": "stdout",
     "output_type": "stream",
     "text": [
      "factors: [<DiscreteFactor representing phi(Unblocked FEV1 (L):58, Small Airway Blockage 16 (%):16) at 0x7fbcd5707850>]\n",
      "factors: [<DiscreteFactor representing phi(Unblocked FEV1 (L):58, Small Airway Blockage 9 (%):16) at 0x7fbcd5706f80>]\n",
      "factors: [<DiscreteFactor representing phi(Unblocked FEV1 (L):58, Small Airway Blockage 17 (%):16) at 0x7fbcd5706290>]\n",
      "factors: [<DiscreteFactor representing phi(Unblocked FEV1 (L):58, Small Airway Blockage 3 (%):16) at 0x7fbcd5705630>]\n",
      "factors: [<DiscreteFactor representing phi(Unblocked FEV1 (L):58, Small Airway Blockage 6 (%):16) at 0x7fbcd5706ef0>]\n",
      "factors: [<DiscreteFactor representing phi(Unblocked FEV1 (L):58, Small Airway Blockage 11 (%):16) at 0x7fbcd5704340>]\n",
      "factors: [<DiscreteFactor representing phi(Unblocked FEV1 (L):58, Small Airway Blockage 7 (%):16) at 0x7fbcd57076d0>]\n",
      "factors: [<DiscreteFactor representing phi(Unblocked FEV1 (L):58, Small Airway Blockage 10 (%):16) at 0x7fbcd5707460>]\n",
      "factors: [<DiscreteFactor representing phi(Unblocked FEV1 (L):58, Small Airway Blockage 14 (%):16) at 0x7fbcd5706050>]\n",
      "factors: [<DiscreteFactor representing phi(Unblocked FEV1 (L):58, Small Airway Blockage 2 (%):16) at 0x7fbcd5707160>]\n",
      "factors: [<DiscreteFactor representing phi(Unblocked FEV1 (L):58, Small Airway Blockage 0 (%):16) at 0x7fbcd5704460>]\n",
      "factors: [<DiscreteFactor representing phi(Unblocked FEV1 (L):58, Small Airway Blockage 1 (%):16) at 0x7fbcd57079d0>]\n",
      "factors: [<DiscreteFactor representing phi(Unblocked FEV1 (L):58) at 0x7fbc616256f0>, <DiscreteFactor representing phi(Unblocked FEV1 (L):58) at 0x7fbc61624520>, <DiscreteFactor representing phi(Unblocked FEV1 (L):58) at 0x7fbc61624250>, <DiscreteFactor representing phi(Unblocked FEV1 (L):58) at 0x7fbc616249d0>, <DiscreteFactor representing phi(Unblocked FEV1 (L):58) at 0x7fbc616248b0>, <DiscreteFactor representing phi(Unblocked FEV1 (L):58) at 0x7fbc616259f0>, <DiscreteFactor representing phi(Unblocked FEV1 (L):58) at 0x7fbc61624430>, <DiscreteFactor representing phi(Unblocked FEV1 (L):58, Small Airway Blockage 8 (%):16) at 0x7fbcd5706170>, <DiscreteFactor representing phi(Unblocked FEV1 (L):58, Small Airway Blockage 13 (%):16) at 0x7fbcd5704df0>, <DiscreteFactor representing phi(Unblocked FEV1 (L):58, Small Airway Blockage 5 (%):16) at 0x7fbcd5707970>, <DiscreteFactor representing phi(Unblocked FEV1 (L):58, Small Airway Blockage 15 (%):16) at 0x7fbcd5707e50>, <DiscreteFactor representing phi(Unblocked FEV1 (L):58) at 0x7fbc61624d00>, <DiscreteFactor representing phi(Unblocked FEV1 (L):58) at 0x7fbc61625840>, <DiscreteFactor representing phi(Unblocked FEV1 (L):58) at 0x7fbc61624e50>, <DiscreteFactor representing phi(Unblocked FEV1 (L):58) at 0x7fbc61625540>, <DiscreteFactor representing phi(Unblocked FEV1 (L):58, Small Airway Blockage 12 (%):16) at 0x7fbcd5707ee0>, <DiscreteFactor representing phi(Unblocked FEV1 (L):58) at 0x7fbc616245b0>, <DiscreteFactor representing phi(Unblocked FEV1 (L):58, Small Airway Blockage 4 (%):16) at 0x7fbcd57056f0>]\n",
      "factors: [<DiscreteFactor representing phi(Small Airway Blockage 8 (%):16, Small Airway Blockage 13 (%):16, Small Airway Blockage 5 (%):16, Small Airway Blockage 15 (%):16, Small Airway Blockage 12 (%):16, Small Airway Blockage 4 (%):16) at 0x7fbcd572f2b0>]\n",
      "factors: [<DiscreteFactor representing phi(Small Airway Blockage 8 (%):16, Small Airway Blockage 13 (%):16, Small Airway Blockage 15 (%):16, Small Airway Blockage 12 (%):16, Small Airway Blockage 4 (%):16) at 0x7fbc616249d0>]\n",
      "factors: [<DiscreteFactor representing phi(Small Airway Blockage 8 (%):16, Small Airway Blockage 13 (%):16, Small Airway Blockage 15 (%):16, Small Airway Blockage 12 (%):16) at 0x7fbcd5707970>]\n",
      "factors: [<DiscreteFactor representing phi(Small Airway Blockage 8 (%):16, Small Airway Blockage 15 (%):16, Small Airway Blockage 12 (%):16) at 0x7fbcd5706f80>]\n",
      "factors: [<DiscreteFactor representing phi(Small Airway Blockage 8 (%):16, Small Airway Blockage 15 (%):16) at 0x7fbcd5704460>]\n",
      "Prepare vars to be returned\n",
      "node: Small Airway Blockage 15 (%)\n",
      "Query took 16.709651947021484s\n",
      "SAB: 16\n",
      "Preprocess query\n",
      "Run query\n",
      "Query var to list\n",
      "Find nodes with query vars\n",
      "Conversion to set of tuple\n",
      "Compute clique potentials\n",
      "Variable elimination marginalize\n"
     ]
    },
    {
     "data": {
      "application/vnd.jupyter.widget-view+json": {
       "model_id": "2e454c95c9a342ada524cbdeb12af96b",
       "version_major": 2,
       "version_minor": 0
      },
      "text/plain": [
       "  0%|          | 0/18 [00:00<?, ?it/s]"
      ]
     },
     "metadata": {},
     "output_type": "display_data"
    },
    {
     "name": "stdout",
     "output_type": "stream",
     "text": [
      "factors: [<DiscreteFactor representing phi(Unblocked FEV1 (L):58, Small Airway Blockage 9 (%):16) at 0x7fbcb1cb3100>]\n",
      "factors: [<DiscreteFactor representing phi(Unblocked FEV1 (L):58, Small Airway Blockage 17 (%):16) at 0x7fbcd572d4b0>]\n",
      "factors: [<DiscreteFactor representing phi(Unblocked FEV1 (L):58, Small Airway Blockage 3 (%):16) at 0x7fbcb1cb3580>]\n",
      "factors: [<DiscreteFactor representing phi(Unblocked FEV1 (L):58, Small Airway Blockage 6 (%):16) at 0x7fbcb1cb3430>]\n",
      "factors: [<DiscreteFactor representing phi(Unblocked FEV1 (L):58, Small Airway Blockage 11 (%):16) at 0x7fbcb1cb3670>]\n",
      "factors: [<DiscreteFactor representing phi(Unblocked FEV1 (L):58, Small Airway Blockage 7 (%):16) at 0x7fbcb1cb3f70>]\n",
      "factors: [<DiscreteFactor representing phi(Unblocked FEV1 (L):58, Small Airway Blockage 10 (%):16) at 0x7fbcb1cb3bb0>]\n",
      "factors: [<DiscreteFactor representing phi(Unblocked FEV1 (L):58, Small Airway Blockage 14 (%):16) at 0x7fbcb1cb3910>]\n",
      "factors: [<DiscreteFactor representing phi(Unblocked FEV1 (L):58, Small Airway Blockage 2 (%):16) at 0x7fbcb1cb3fd0>]\n",
      "factors: [<DiscreteFactor representing phi(Unblocked FEV1 (L):58, Small Airway Blockage 15 (%):16) at 0x7fbcd572d120>]\n",
      "factors: [<DiscreteFactor representing phi(Unblocked FEV1 (L):58, Small Airway Blockage 0 (%):16) at 0x7fbcb1cb31c0>]\n",
      "factors: [<DiscreteFactor representing phi(Unblocked FEV1 (L):58, Small Airway Blockage 1 (%):16) at 0x7fbcb1cb3760>]\n",
      "factors: [<DiscreteFactor representing phi(Unblocked FEV1 (L):58) at 0x7fbc61624d90>, <DiscreteFactor representing phi(Unblocked FEV1 (L):58) at 0x7fbc61625210>, <DiscreteFactor representing phi(Unblocked FEV1 (L):58) at 0x7fbc61624f70>, <DiscreteFactor representing phi(Unblocked FEV1 (L):58) at 0x7fbc61624a60>, <DiscreteFactor representing phi(Unblocked FEV1 (L):58, Small Airway Blockage 16 (%):16) at 0x7fbcd572f9a0>, <DiscreteFactor representing phi(Unblocked FEV1 (L):58) at 0x7fbc61625b40>, <DiscreteFactor representing phi(Unblocked FEV1 (L):58) at 0x7fbc61624910>, <DiscreteFactor representing phi(Unblocked FEV1 (L):58) at 0x7fbc616245e0>, <DiscreteFactor representing phi(Unblocked FEV1 (L):58, Small Airway Blockage 8 (%):16) at 0x7fbcb1cb3970>, <DiscreteFactor representing phi(Unblocked FEV1 (L):58, Small Airway Blockage 13 (%):16) at 0x7fbcb1cb3d00>, <DiscreteFactor representing phi(Unblocked FEV1 (L):58, Small Airway Blockage 5 (%):16) at 0x7fbcb1cb32e0>, <DiscreteFactor representing phi(Unblocked FEV1 (L):58) at 0x7fbc616259f0>, <DiscreteFactor representing phi(Unblocked FEV1 (L):58) at 0x7fbc616256c0>, <DiscreteFactor representing phi(Unblocked FEV1 (L):58) at 0x7fbc616257e0>, <DiscreteFactor representing phi(Unblocked FEV1 (L):58) at 0x7fbc61624880>, <DiscreteFactor representing phi(Unblocked FEV1 (L):58, Small Airway Blockage 12 (%):16) at 0x7fbcb1cb2fb0>, <DiscreteFactor representing phi(Unblocked FEV1 (L):58) at 0x7fbc61624cd0>, <DiscreteFactor representing phi(Unblocked FEV1 (L):58, Small Airway Blockage 4 (%):16) at 0x7fbcb1cb3ca0>]\n",
      "factors: [<DiscreteFactor representing phi(Small Airway Blockage 16 (%):16, Small Airway Blockage 8 (%):16, Small Airway Blockage 13 (%):16, Small Airway Blockage 5 (%):16, Small Airway Blockage 12 (%):16, Small Airway Blockage 4 (%):16) at 0x7fbc61625e10>]\n",
      "factors: [<DiscreteFactor representing phi(Small Airway Blockage 16 (%):16, Small Airway Blockage 8 (%):16, Small Airway Blockage 13 (%):16, Small Airway Blockage 12 (%):16, Small Airway Blockage 4 (%):16) at 0x7fbc61624910>]\n",
      "factors: [<DiscreteFactor representing phi(Small Airway Blockage 16 (%):16, Small Airway Blockage 8 (%):16, Small Airway Blockage 13 (%):16, Small Airway Blockage 12 (%):16) at 0x7fbcb1cb3910>]\n",
      "factors: [<DiscreteFactor representing phi(Small Airway Blockage 16 (%):16, Small Airway Blockage 8 (%):16, Small Airway Blockage 12 (%):16) at 0x7fbcb1cb31c0>]\n",
      "factors: [<DiscreteFactor representing phi(Small Airway Blockage 16 (%):16, Small Airway Blockage 8 (%):16) at 0x7fbcb1cb3580>]\n",
      "Prepare vars to be returned\n",
      "node: Small Airway Blockage 16 (%)\n",
      "Query took 16.816373109817505s\n",
      "SAB: 17\n",
      "Preprocess query\n",
      "Run query\n",
      "Query var to list\n",
      "Find nodes with query vars\n",
      "Conversion to set of tuple\n",
      "Compute clique potentials\n",
      "Variable elimination marginalize\n"
     ]
    },
    {
     "data": {
      "application/vnd.jupyter.widget-view+json": {
       "model_id": "5785d08f5f1345fca1bd8f6fc85bad0b",
       "version_major": 2,
       "version_minor": 0
      },
      "text/plain": [
       "  0%|          | 0/18 [00:00<?, ?it/s]"
      ]
     },
     "metadata": {},
     "output_type": "display_data"
    },
    {
     "name": "stdout",
     "output_type": "stream",
     "text": [
      "factors: [<DiscreteFactor representing phi(Unblocked FEV1 (L):58, Small Airway Blockage 16 (%):16) at 0x7fbc61625840>]\n",
      "factors: [<DiscreteFactor representing phi(Unblocked FEV1 (L):58, Small Airway Blockage 9 (%):16) at 0x7fbcd5707850>]\n",
      "factors: [<DiscreteFactor representing phi(Unblocked FEV1 (L):58, Small Airway Blockage 3 (%):16) at 0x7fbcd5707be0>]\n",
      "factors: [<DiscreteFactor representing phi(Unblocked FEV1 (L):58, Small Airway Blockage 7 (%):16) at 0x7fbcd5707ca0>]\n",
      "factors: [<DiscreteFactor representing phi(Unblocked FEV1 (L):58, Small Airway Blockage 6 (%):16) at 0x7fbcd5705630>]\n",
      "factors: [<DiscreteFactor representing phi(Unblocked FEV1 (L):58, Small Airway Blockage 11 (%):16) at 0x7fbcd5707ee0>]\n",
      "factors: [<DiscreteFactor representing phi(Unblocked FEV1 (L):58, Small Airway Blockage 10 (%):16) at 0x7fbcd5706920>]\n",
      "factors: [<DiscreteFactor representing phi(Unblocked FEV1 (L):58, Small Airway Blockage 14 (%):16) at 0x7fbcd57076d0>]\n",
      "factors: [<DiscreteFactor representing phi(Unblocked FEV1 (L):58, Small Airway Blockage 2 (%):16) at 0x7fbcd5704460>]\n",
      "factors: [<DiscreteFactor representing phi(Unblocked FEV1 (L):58, Small Airway Blockage 15 (%):16) at 0x7fbc61625990>]\n",
      "factors: [<DiscreteFactor representing phi(Unblocked FEV1 (L):58, Small Airway Blockage 0 (%):16) at 0x7fbcd5707460>]\n",
      "factors: [<DiscreteFactor representing phi(Unblocked FEV1 (L):58, Small Airway Blockage 1 (%):16) at 0x7fbcd5705a50>]\n",
      "factors: [<DiscreteFactor representing phi(Unblocked FEV1 (L):58) at 0x7fbc616262c0>, <DiscreteFactor representing phi(Unblocked FEV1 (L):58) at 0x7fbc616255d0>, <DiscreteFactor representing phi(Unblocked FEV1 (L):58) at 0x7fbc61625270>, <DiscreteFactor representing phi(Unblocked FEV1 (L):58) at 0x7fbc61624e20>, <DiscreteFactor representing phi(Unblocked FEV1 (L):58) at 0x7fbc61624c10>, <DiscreteFactor representing phi(Unblocked FEV1 (L):58) at 0x7fbc61624760>, <DiscreteFactor representing phi(Unblocked FEV1 (L):58) at 0x7fbc61625b10>, <DiscreteFactor representing phi(Unblocked FEV1 (L):58) at 0x7fbc616260e0>, <DiscreteFactor representing phi(Unblocked FEV1 (L):58, Small Airway Blockage 8 (%):16) at 0x7fbcd5706ef0>, <DiscreteFactor representing phi(Unblocked FEV1 (L):58, Small Airway Blockage 13 (%):16) at 0x7fbcd57056f0>, <DiscreteFactor representing phi(Unblocked FEV1 (L):58, Small Airway Blockage 5 (%):16) at 0x7fbcd5706050>, <DiscreteFactor representing phi(Unblocked FEV1 (L):58, Small Airway Blockage 17 (%):16) at 0x7fbc61624130>, <DiscreteFactor representing phi(Unblocked FEV1 (L):58) at 0x7fbc616264d0>, <DiscreteFactor representing phi(Unblocked FEV1 (L):58) at 0x7fbc61624a60>, <DiscreteFactor representing phi(Unblocked FEV1 (L):58) at 0x7fbc616242e0>, <DiscreteFactor representing phi(Unblocked FEV1 (L):58, Small Airway Blockage 12 (%):16) at 0x7fbcd5704340>, <DiscreteFactor representing phi(Unblocked FEV1 (L):58) at 0x7fbc61625f30>, <DiscreteFactor representing phi(Unblocked FEV1 (L):58, Small Airway Blockage 4 (%):16) at 0x7fbcd5707970>]\n",
      "factors: [<DiscreteFactor representing phi(Small Airway Blockage 8 (%):16, Small Airway Blockage 13 (%):16, Small Airway Blockage 5 (%):16, Small Airway Blockage 17 (%):16, Small Airway Blockage 12 (%):16, Small Airway Blockage 4 (%):16) at 0x7fbcd572f2b0>]\n",
      "factors: [<DiscreteFactor representing phi(Small Airway Blockage 8 (%):16, Small Airway Blockage 13 (%):16, Small Airway Blockage 17 (%):16, Small Airway Blockage 12 (%):16, Small Airway Blockage 4 (%):16) at 0x7fbcd5705ba0>]\n",
      "factors: [<DiscreteFactor representing phi(Small Airway Blockage 8 (%):16, Small Airway Blockage 13 (%):16, Small Airway Blockage 17 (%):16, Small Airway Blockage 12 (%):16) at 0x7fbcd5705150>]\n",
      "factors: [<DiscreteFactor representing phi(Small Airway Blockage 8 (%):16, Small Airway Blockage 17 (%):16, Small Airway Blockage 12 (%):16) at 0x7fbcd5707af0>]\n",
      "factors: [<DiscreteFactor representing phi(Small Airway Blockage 8 (%):16, Small Airway Blockage 17 (%):16) at 0x7fbcd5707d90>]\n",
      "Prepare vars to be returned\n",
      "node: Small Airway Blockage 17 (%)\n",
      "Query took 16.892253875732422s\n",
      "ID:  124\n",
      "*** Building the longitudinal model with LD as shared variable across time ***\n",
      "Defining gaussian prior with mu = 4.27, sigma = 0.4\n",
      "Run inference queries\n",
      "Preprocess query\n",
      "Run query\n",
      "Query var to list\n",
      "Find nodes with query vars\n",
      "Conversion to set of tuple\n",
      "Compute clique potentials\n",
      "Variable elimination marginalize\n"
     ]
    },
    {
     "data": {
      "application/vnd.jupyter.widget-view+json": {
       "model_id": "115ad9fa28a14406a0b227e10cba0473",
       "version_major": 2,
       "version_minor": 0
      },
      "text/plain": [
       "  0%|          | 0/18 [00:00<?, ?it/s]"
      ]
     },
     "metadata": {},
     "output_type": "display_data"
    },
    {
     "name": "stdout",
     "output_type": "stream",
     "text": [
      "factors: [<DiscreteFactor representing phi(Unblocked FEV1 (L):58, Small Airway Blockage 16 (%):16) at 0x7fbcc04d5cf0>]\n",
      "factors: [<DiscreteFactor representing phi(Unblocked FEV1 (L):58, Small Airway Blockage 9 (%):16) at 0x7fbcc04d5270>]\n",
      "factors: [<DiscreteFactor representing phi(Unblocked FEV1 (L):58, Small Airway Blockage 17 (%):16) at 0x7fbcc04d4e50>]\n",
      "factors: [<DiscreteFactor representing phi(Unblocked FEV1 (L):58, Small Airway Blockage 3 (%):16) at 0x7fbcc04d6620>]\n",
      "factors: [<DiscreteFactor representing phi(Unblocked FEV1 (L):58, Small Airway Blockage 6 (%):16) at 0x7fbcc04d5570>]\n",
      "factors: [<DiscreteFactor representing phi(Unblocked FEV1 (L):58, Small Airway Blockage 11 (%):16) at 0x7fbcc04d45b0>]\n",
      "factors: [<DiscreteFactor representing phi(Unblocked FEV1 (L):58, Small Airway Blockage 7 (%):16) at 0x7fbcc04d5a80>]\n",
      "factors: [<DiscreteFactor representing phi(Unblocked FEV1 (L):58, Small Airway Blockage 10 (%):16) at 0x7fbcc04d68f0>]\n",
      "factors: [<DiscreteFactor representing phi(Unblocked FEV1 (L):58, Small Airway Blockage 14 (%):16) at 0x7fbcc04d4f70>]\n",
      "factors: [<DiscreteFactor representing phi(Unblocked FEV1 (L):58, Small Airway Blockage 2 (%):16) at 0x7fbcc04d4640>]\n",
      "factors: [<DiscreteFactor representing phi(Unblocked FEV1 (L):58, Small Airway Blockage 15 (%):16) at 0x7fbcc04d6290>]\n",
      "factors: [<DiscreteFactor representing phi(Unblocked FEV1 (L):58, Small Airway Blockage 0 (%):16) at 0x7fbcc04d5750>]\n",
      "factors: [<DiscreteFactor representing phi(Unblocked FEV1 (L):58, Small Airway Blockage 1 (%):16) at 0x7fbcc04d6680>]\n",
      "factors: [<DiscreteFactor representing phi(Unblocked FEV1 (L):58, Small Airway Blockage 5 (%):16) at 0x7fbcc04d5b40>]\n",
      "factors: [<DiscreteFactor representing phi(Unblocked FEV1 (L):58, Small Airway Blockage 4 (%):16) at 0x7fbcc04d53c0>]\n",
      "factors: [<DiscreteFactor representing phi(Unblocked FEV1 (L):58, Small Airway Blockage 13 (%):16) at 0x7fbcc04d6ec0>]\n",
      "factors: [<DiscreteFactor representing phi(Unblocked FEV1 (L):58, Small Airway Blockage 12 (%):16) at 0x7fbcc04d50f0>]\n",
      "factors: [<DiscreteFactor representing phi(Unblocked FEV1 (L):58, Small Airway Blockage 8 (%):16) at 0x7fbcc04d69e0>]\n",
      "Prepare vars to be returned\n",
      "node: Unblocked FEV1 (L)\n",
      "node: Lung Damage (%)\n",
      "node: Healthy FEV1 (L)\n",
      "Query took 0.3943798542022705s\n",
      "Run SAB inference queries\n",
      "SAB: 0\n",
      "Preprocess query\n",
      "Run query\n",
      "Query var to list\n",
      "Find nodes with query vars\n",
      "Conversion to set of tuple\n",
      "Compute clique potentials\n",
      "Variable elimination marginalize\n"
     ]
    },
    {
     "data": {
      "application/vnd.jupyter.widget-view+json": {
       "model_id": "84ecb3c2f74a4534acf1bc7cb80d6672",
       "version_major": 2,
       "version_minor": 0
      },
      "text/plain": [
       "  0%|          | 0/18 [00:00<?, ?it/s]"
      ]
     },
     "metadata": {},
     "output_type": "display_data"
    },
    {
     "name": "stdout",
     "output_type": "stream",
     "text": [
      "factors: [<DiscreteFactor representing phi(Unblocked FEV1 (L):58, Small Airway Blockage 16 (%):16) at 0x7fbcd532a7a0>]\n",
      "factors: [<DiscreteFactor representing phi(Unblocked FEV1 (L):58, Small Airway Blockage 9 (%):16) at 0x7fbcd5328340>]\n",
      "factors: [<DiscreteFactor representing phi(Unblocked FEV1 (L):58, Small Airway Blockage 17 (%):16) at 0x7fbcd5328e80>]\n",
      "factors: [<DiscreteFactor representing phi(Unblocked FEV1 (L):58, Small Airway Blockage 3 (%):16) at 0x7fbcd532b220>]\n",
      "factors: [<DiscreteFactor representing phi(Unblocked FEV1 (L):58, Small Airway Blockage 6 (%):16) at 0x7fbcd5328a90>]\n",
      "factors: [<DiscreteFactor representing phi(Unblocked FEV1 (L):58, Small Airway Blockage 11 (%):16) at 0x7fbcd532abc0>]\n",
      "factors: [<DiscreteFactor representing phi(Unblocked FEV1 (L):58, Small Airway Blockage 7 (%):16) at 0x7fbcd532ac50>]\n",
      "factors: [<DiscreteFactor representing phi(Unblocked FEV1 (L):58, Small Airway Blockage 10 (%):16) at 0x7fbcd53295a0>]\n",
      "factors: [<DiscreteFactor representing phi(Unblocked FEV1 (L):58, Small Airway Blockage 14 (%):16) at 0x7fbcd53299f0>]\n",
      "factors: [<DiscreteFactor representing phi(Unblocked FEV1 (L):58, Small Airway Blockage 2 (%):16) at 0x7fbcd532b280>]\n",
      "factors: [<DiscreteFactor representing phi(Unblocked FEV1 (L):58, Small Airway Blockage 15 (%):16) at 0x7fbcd532abf0>]\n",
      "factors: [<DiscreteFactor representing phi(Unblocked FEV1 (L):58, Small Airway Blockage 1 (%):16) at 0x7fbcd532ae60>]\n",
      "factors: [<DiscreteFactor representing phi(Unblocked FEV1 (L):58) at 0x7fbcd532be50>, <DiscreteFactor representing phi(Unblocked FEV1 (L):58) at 0x7fbcd5329630>, <DiscreteFactor representing phi(Unblocked FEV1 (L):58) at 0x7fbcd5328580>, <DiscreteFactor representing phi(Unblocked FEV1 (L):58) at 0x7fbcd5329c60>, <DiscreteFactor representing phi(Unblocked FEV1 (L):58, Small Airway Blockage 0 (%):16) at 0x7fbcd532ad40>, <DiscreteFactor representing phi(Unblocked FEV1 (L):58) at 0x7fbcd532aa40>, <DiscreteFactor representing phi(Unblocked FEV1 (L):58) at 0x7fbcd5329060>, <DiscreteFactor representing phi(Unblocked FEV1 (L):58) at 0x7fbcd532a380>, <DiscreteFactor representing phi(Unblocked FEV1 (L):58) at 0x7fbcd53293f0>, <DiscreteFactor representing phi(Unblocked FEV1 (L):58, Small Airway Blockage 8 (%):16) at 0x7fbcd532ab60>, <DiscreteFactor representing phi(Unblocked FEV1 (L):58) at 0x7fbcd532a2c0>, <DiscreteFactor representing phi(Unblocked FEV1 (L):58, Small Airway Blockage 12 (%):16) at 0x7fbcd5328df0>, <DiscreteFactor representing phi(Unblocked FEV1 (L):58, Small Airway Blockage 4 (%):16) at 0x7fbcd532a1a0>, <DiscreteFactor representing phi(Unblocked FEV1 (L):58, Small Airway Blockage 5 (%):16) at 0x7fbcd532bee0>, <DiscreteFactor representing phi(Unblocked FEV1 (L):58) at 0x7fbcd5329480>, <DiscreteFactor representing phi(Unblocked FEV1 (L):58) at 0x7fbcd5329120>, <DiscreteFactor representing phi(Unblocked FEV1 (L):58, Small Airway Blockage 13 (%):16) at 0x7fbcd532a830>, <DiscreteFactor representing phi(Unblocked FEV1 (L):58) at 0x7fbcd5329180>]\n",
      "factors: [<DiscreteFactor representing phi(Small Airway Blockage 0 (%):16, Small Airway Blockage 8 (%):16, Small Airway Blockage 12 (%):16, Small Airway Blockage 4 (%):16, Small Airway Blockage 5 (%):16, Small Airway Blockage 13 (%):16) at 0x7fbcd5328760>]\n",
      "factors: [<DiscreteFactor representing phi(Small Airway Blockage 0 (%):16, Small Airway Blockage 8 (%):16, Small Airway Blockage 12 (%):16, Small Airway Blockage 4 (%):16, Small Airway Blockage 13 (%):16) at 0x7fbcd5329060>]\n",
      "factors: [<DiscreteFactor representing phi(Small Airway Blockage 0 (%):16, Small Airway Blockage 8 (%):16, Small Airway Blockage 12 (%):16, Small Airway Blockage 13 (%):16) at 0x7fbcd53293f0>]\n",
      "factors: [<DiscreteFactor representing phi(Small Airway Blockage 0 (%):16, Small Airway Blockage 8 (%):16, Small Airway Blockage 12 (%):16) at 0x7fbcd5329120>]\n",
      "factors: [<DiscreteFactor representing phi(Small Airway Blockage 0 (%):16, Small Airway Blockage 8 (%):16) at 0x7fbcd532b220>]\n",
      "Prepare vars to be returned\n",
      "node: Small Airway Blockage 0 (%)\n",
      "Query took 30.964947938919067s\n",
      "SAB: 1\n",
      "Preprocess query\n",
      "Run query\n",
      "Query var to list\n",
      "Find nodes with query vars\n",
      "Conversion to set of tuple\n",
      "Compute clique potentials\n",
      "Variable elimination marginalize\n"
     ]
    },
    {
     "data": {
      "application/vnd.jupyter.widget-view+json": {
       "model_id": "1d48430290c7462f8e1cc3d1988a2ccc",
       "version_major": 2,
       "version_minor": 0
      },
      "text/plain": [
       "  0%|          | 0/18 [00:00<?, ?it/s]"
      ]
     },
     "metadata": {},
     "output_type": "display_data"
    },
    {
     "name": "stdout",
     "output_type": "stream",
     "text": [
      "factors: [<DiscreteFactor representing phi(Unblocked FEV1 (L):58, Small Airway Blockage 16 (%):16) at 0x7fbcd532b610>]\n",
      "factors: [<DiscreteFactor representing phi(Unblocked FEV1 (L):58, Small Airway Blockage 9 (%):16) at 0x7fbcd5329d80>]\n",
      "factors: [<DiscreteFactor representing phi(Unblocked FEV1 (L):58, Small Airway Blockage 17 (%):16) at 0x7fbcd532af80>]\n",
      "factors: [<DiscreteFactor representing phi(Unblocked FEV1 (L):58, Small Airway Blockage 3 (%):16) at 0x7fbcd53294b0>]\n",
      "factors: [<DiscreteFactor representing phi(Unblocked FEV1 (L):58, Small Airway Blockage 6 (%):16) at 0x7fbcd532a890>]\n",
      "factors: [<DiscreteFactor representing phi(Unblocked FEV1 (L):58, Small Airway Blockage 11 (%):16) at 0x7fbcd532ab60>]\n",
      "factors: [<DiscreteFactor representing phi(Unblocked FEV1 (L):58, Small Airway Blockage 7 (%):16) at 0x7fbcd53294e0>]\n",
      "factors: [<DiscreteFactor representing phi(Unblocked FEV1 (L):58, Small Airway Blockage 10 (%):16) at 0x7fbcd5329ba0>]\n",
      "factors: [<DiscreteFactor representing phi(Unblocked FEV1 (L):58, Small Airway Blockage 14 (%):16) at 0x7fbcd5328550>]\n",
      "factors: [<DiscreteFactor representing phi(Unblocked FEV1 (L):58, Small Airway Blockage 2 (%):16) at 0x7fbcd532abf0>]\n",
      "factors: [<DiscreteFactor representing phi(Unblocked FEV1 (L):58, Small Airway Blockage 15 (%):16) at 0x7fbcd5329270>]\n",
      "factors: [<DiscreteFactor representing phi(Unblocked FEV1 (L):58, Small Airway Blockage 0 (%):16) at 0x7fbcd5329d50>]\n",
      "factors: [<DiscreteFactor representing phi(Unblocked FEV1 (L):58) at 0x7fbcd532bdc0>, <DiscreteFactor representing phi(Unblocked FEV1 (L):58) at 0x7fbcd532b9a0>, <DiscreteFactor representing phi(Unblocked FEV1 (L):58) at 0x7fbcd532bca0>, <DiscreteFactor representing phi(Unblocked FEV1 (L):58) at 0x7fbcd53290f0>, <DiscreteFactor representing phi(Unblocked FEV1 (L):58) at 0x7fbcd5329540>, <DiscreteFactor representing phi(Unblocked FEV1 (L):58) at 0x7fbcd53296f0>, <DiscreteFactor representing phi(Unblocked FEV1 (L):58) at 0x7fbcd5329480>, <DiscreteFactor representing phi(Unblocked FEV1 (L):58) at 0x7fbcd532b4c0>, <DiscreteFactor representing phi(Unblocked FEV1 (L):58) at 0x7fbcd5329c30>, <DiscreteFactor representing phi(Unblocked FEV1 (L):58, Small Airway Blockage 8 (%):16) at 0x7fbcd53289d0>, <DiscreteFactor representing phi(Unblocked FEV1 (L):58, Small Airway Blockage 1 (%):16) at 0x7fbcd532a980>, <DiscreteFactor representing phi(Unblocked FEV1 (L):58) at 0x7fbcd532bd90>, <DiscreteFactor representing phi(Unblocked FEV1 (L):58, Small Airway Blockage 12 (%):16) at 0x7fbcd5328f40>, <DiscreteFactor representing phi(Unblocked FEV1 (L):58, Small Airway Blockage 4 (%):16) at 0x7fbcd532aec0>, <DiscreteFactor representing phi(Unblocked FEV1 (L):58, Small Airway Blockage 5 (%):16) at 0x7fbcd53292a0>, <DiscreteFactor representing phi(Unblocked FEV1 (L):58) at 0x7fbcd532bb50>, <DiscreteFactor representing phi(Unblocked FEV1 (L):58, Small Airway Blockage 13 (%):16) at 0x7fbcd5329450>, <DiscreteFactor representing phi(Unblocked FEV1 (L):58) at 0x7fbcd5328a30>]\n",
      "factors: [<DiscreteFactor representing phi(Small Airway Blockage 8 (%):16, Small Airway Blockage 1 (%):16, Small Airway Blockage 12 (%):16, Small Airway Blockage 4 (%):16, Small Airway Blockage 5 (%):16, Small Airway Blockage 13 (%):16) at 0x7fbcd532ad70>]\n",
      "factors: [<DiscreteFactor representing phi(Small Airway Blockage 8 (%):16, Small Airway Blockage 1 (%):16, Small Airway Blockage 12 (%):16, Small Airway Blockage 4 (%):16, Small Airway Blockage 13 (%):16) at 0x7fbcd53296f0>]\n",
      "factors: [<DiscreteFactor representing phi(Small Airway Blockage 8 (%):16, Small Airway Blockage 1 (%):16, Small Airway Blockage 12 (%):16, Small Airway Blockage 13 (%):16) at 0x7fbcd532bca0>]\n",
      "factors: [<DiscreteFactor representing phi(Small Airway Blockage 8 (%):16, Small Airway Blockage 1 (%):16, Small Airway Blockage 12 (%):16) at 0x7fbcd532a6b0>]\n",
      "factors: [<DiscreteFactor representing phi(Small Airway Blockage 8 (%):16, Small Airway Blockage 1 (%):16) at 0x7fbcd53294b0>]\n",
      "Prepare vars to be returned\n",
      "node: Small Airway Blockage 1 (%)\n",
      "Query took 29.085062980651855s\n",
      "SAB: 2\n",
      "Preprocess query\n",
      "Run query\n",
      "Query var to list\n",
      "Find nodes with query vars\n",
      "Conversion to set of tuple\n",
      "Compute clique potentials\n",
      "Variable elimination marginalize\n"
     ]
    },
    {
     "data": {
      "application/vnd.jupyter.widget-view+json": {
       "model_id": "17922ff20c3a4b2fb4b997c2be82b182",
       "version_major": 2,
       "version_minor": 0
      },
      "text/plain": [
       "  0%|          | 0/18 [00:00<?, ?it/s]"
      ]
     },
     "metadata": {},
     "output_type": "display_data"
    },
    {
     "name": "stdout",
     "output_type": "stream",
     "text": [
      "factors: [<DiscreteFactor representing phi(Unblocked FEV1 (L):58, Small Airway Blockage 16 (%):16) at 0x7fbcd53294e0>]\n",
      "factors: [<DiscreteFactor representing phi(Unblocked FEV1 (L):58, Small Airway Blockage 9 (%):16) at 0x7fbcd5329600>]\n",
      "factors: [<DiscreteFactor representing phi(Unblocked FEV1 (L):58, Small Airway Blockage 17 (%):16) at 0x7fbcd53287c0>]\n",
      "factors: [<DiscreteFactor representing phi(Unblocked FEV1 (L):58, Small Airway Blockage 3 (%):16) at 0x7fbcd53292d0>]\n",
      "factors: [<DiscreteFactor representing phi(Unblocked FEV1 (L):58, Small Airway Blockage 6 (%):16) at 0x7fbcd532b4c0>]\n",
      "factors: [<DiscreteFactor representing phi(Unblocked FEV1 (L):58, Small Airway Blockage 11 (%):16) at 0x7fbcd532a230>]\n",
      "factors: [<DiscreteFactor representing phi(Unblocked FEV1 (L):58, Small Airway Blockage 7 (%):16) at 0x7fbcd5328040>]\n",
      "factors: [<DiscreteFactor representing phi(Unblocked FEV1 (L):58, Small Airway Blockage 10 (%):16) at 0x7fbcd532a290>]\n",
      "factors: [<DiscreteFactor representing phi(Unblocked FEV1 (L):58, Small Airway Blockage 14 (%):16) at 0x7fbcd532a2f0>]\n",
      "factors: [<DiscreteFactor representing phi(Unblocked FEV1 (L):58, Small Airway Blockage 15 (%):16) at 0x7fbcd532a170>]\n",
      "factors: [<DiscreteFactor representing phi(Unblocked FEV1 (L):58, Small Airway Blockage 0 (%):16) at 0x7fbcd5329f90>]\n",
      "factors: [<DiscreteFactor representing phi(Unblocked FEV1 (L):58, Small Airway Blockage 1 (%):16) at 0x7fbcd532a800>]\n",
      "factors: [<DiscreteFactor representing phi(Unblocked FEV1 (L):58) at 0x7fbcd5329090>, <DiscreteFactor representing phi(Unblocked FEV1 (L):58) at 0x7fbcd532bd00>, <DiscreteFactor representing phi(Unblocked FEV1 (L):58) at 0x7fbcd532b1f0>, <DiscreteFactor representing phi(Unblocked FEV1 (L):58) at 0x7fbcd5328130>, <DiscreteFactor representing phi(Unblocked FEV1 (L):58) at 0x7fbcd5329990>, <DiscreteFactor representing phi(Unblocked FEV1 (L):58) at 0x7fbcd53284c0>, <DiscreteFactor representing phi(Unblocked FEV1 (L):58) at 0x7fbcd532af50>, <DiscreteFactor representing phi(Unblocked FEV1 (L):58, Small Airway Blockage 2 (%):16) at 0x7fbcd5329240>, <DiscreteFactor representing phi(Unblocked FEV1 (L):58) at 0x7fbcd532a110>, <DiscreteFactor representing phi(Unblocked FEV1 (L):58) at 0x7fbcd532ab00>, <DiscreteFactor representing phi(Unblocked FEV1 (L):58, Small Airway Blockage 8 (%):16) at 0x7fbcd532a9b0>, <DiscreteFactor representing phi(Unblocked FEV1 (L):58) at 0x7fbcd532b880>, <DiscreteFactor representing phi(Unblocked FEV1 (L):58, Small Airway Blockage 12 (%):16) at 0x7fbcd5329c60>, <DiscreteFactor representing phi(Unblocked FEV1 (L):58, Small Airway Blockage 4 (%):16) at 0x7fbcd532a200>, <DiscreteFactor representing phi(Unblocked FEV1 (L):58, Small Airway Blockage 5 (%):16) at 0x7fbcd53289d0>, <DiscreteFactor representing phi(Unblocked FEV1 (L):58) at 0x7fbcd532aa10>, <DiscreteFactor representing phi(Unblocked FEV1 (L):58) at 0x7fbcd532bc70>, <DiscreteFactor representing phi(Unblocked FEV1 (L):58, Small Airway Blockage 13 (%):16) at 0x7fbcd532b6d0>]\n",
      "factors: [<DiscreteFactor representing phi(Small Airway Blockage 2 (%):16, Small Airway Blockage 8 (%):16, Small Airway Blockage 12 (%):16, Small Airway Blockage 4 (%):16, Small Airway Blockage 5 (%):16, Small Airway Blockage 13 (%):16) at 0x7fbcd53282b0>]\n",
      "factors: [<DiscreteFactor representing phi(Small Airway Blockage 2 (%):16, Small Airway Blockage 8 (%):16, Small Airway Blockage 12 (%):16, Small Airway Blockage 4 (%):16, Small Airway Blockage 13 (%):16) at 0x7fbcd53284c0>]\n",
      "factors: [<DiscreteFactor representing phi(Small Airway Blockage 2 (%):16, Small Airway Blockage 8 (%):16, Small Airway Blockage 12 (%):16, Small Airway Blockage 13 (%):16) at 0x7fbcd532a230>]\n",
      "factors: [<DiscreteFactor representing phi(Small Airway Blockage 2 (%):16, Small Airway Blockage 8 (%):16, Small Airway Blockage 12 (%):16) at 0x7fbcd532ac20>]\n",
      "factors: [<DiscreteFactor representing phi(Small Airway Blockage 2 (%):16, Small Airway Blockage 8 (%):16) at 0x7fbcd53287c0>]\n",
      "Prepare vars to be returned\n",
      "node: Small Airway Blockage 2 (%)\n",
      "Query took 17.64038586616516s\n",
      "SAB: 3\n",
      "Preprocess query\n",
      "Run query\n",
      "Query var to list\n",
      "Find nodes with query vars\n",
      "Conversion to set of tuple\n",
      "Compute clique potentials\n",
      "Variable elimination marginalize\n"
     ]
    },
    {
     "data": {
      "application/vnd.jupyter.widget-view+json": {
       "model_id": "02e58c71871344018f24090f0f868576",
       "version_major": 2,
       "version_minor": 0
      },
      "text/plain": [
       "  0%|          | 0/18 [00:00<?, ?it/s]"
      ]
     },
     "metadata": {},
     "output_type": "display_data"
    },
    {
     "name": "stdout",
     "output_type": "stream",
     "text": [
      "factors: [<DiscreteFactor representing phi(Unblocked FEV1 (L):58, Small Airway Blockage 16 (%):16) at 0x7fbcd532b010>]\n",
      "factors: [<DiscreteFactor representing phi(Unblocked FEV1 (L):58, Small Airway Blockage 9 (%):16) at 0x7fbcd5328130>]\n",
      "factors: [<DiscreteFactor representing phi(Unblocked FEV1 (L):58, Small Airway Blockage 17 (%):16) at 0x7fbcd5328a30>]\n",
      "factors: [<DiscreteFactor representing phi(Unblocked FEV1 (L):58, Small Airway Blockage 7 (%):16) at 0x7fbcd532a9b0>]\n",
      "factors: [<DiscreteFactor representing phi(Unblocked FEV1 (L):58, Small Airway Blockage 6 (%):16) at 0x7fbcd532a350>]\n",
      "factors: [<DiscreteFactor representing phi(Unblocked FEV1 (L):58, Small Airway Blockage 11 (%):16) at 0x7fbcd53298a0>]\n",
      "factors: [<DiscreteFactor representing phi(Unblocked FEV1 (L):58, Small Airway Blockage 10 (%):16) at 0x7fbcd532be20>]\n",
      "factors: [<DiscreteFactor representing phi(Unblocked FEV1 (L):58, Small Airway Blockage 14 (%):16) at 0x7fbcd532a530>]\n",
      "factors: [<DiscreteFactor representing phi(Unblocked FEV1 (L):58, Small Airway Blockage 2 (%):16) at 0x7fbcd532bfa0>]\n",
      "factors: [<DiscreteFactor representing phi(Unblocked FEV1 (L):58, Small Airway Blockage 15 (%):16) at 0x7fbcd532b070>]\n",
      "factors: [<DiscreteFactor representing phi(Unblocked FEV1 (L):58, Small Airway Blockage 0 (%):16) at 0x7fbcd5329f90>]\n",
      "factors: [<DiscreteFactor representing phi(Unblocked FEV1 (L):58, Small Airway Blockage 1 (%):16) at 0x7fbcd5329000>]\n",
      "factors: [<DiscreteFactor representing phi(Unblocked FEV1 (L):58) at 0x7fbcd532b6a0>, <DiscreteFactor representing phi(Unblocked FEV1 (L):58) at 0x7fbc60d2d480>, <DiscreteFactor representing phi(Unblocked FEV1 (L):58) at 0x7fbcd5328520>, <DiscreteFactor representing phi(Unblocked FEV1 (L):58) at 0x7fbc60d2ed10>, <DiscreteFactor representing phi(Unblocked FEV1 (L):58) at 0x7fbc60d2f3d0>, <DiscreteFactor representing phi(Unblocked FEV1 (L):58) at 0x7fbcd5329180>, <DiscreteFactor representing phi(Unblocked FEV1 (L):58) at 0x7fbc60d2fac0>, <DiscreteFactor representing phi(Unblocked FEV1 (L):58) at 0x7fbcd5328cd0>, <DiscreteFactor representing phi(Unblocked FEV1 (L):58, Small Airway Blockage 8 (%):16) at 0x7fbcd532b1f0>, <DiscreteFactor representing phi(Unblocked FEV1 (L):58) at 0x7fbcd532bf10>, <DiscreteFactor representing phi(Unblocked FEV1 (L):58, Small Airway Blockage 12 (%):16) at 0x7fbcd5329090>, <DiscreteFactor representing phi(Unblocked FEV1 (L):58, Small Airway Blockage 3 (%):16) at 0x7fbcd532bbb0>, <DiscreteFactor representing phi(Unblocked FEV1 (L):58, Small Airway Blockage 4 (%):16) at 0x7fbcd532ac80>, <DiscreteFactor representing phi(Unblocked FEV1 (L):58, Small Airway Blockage 5 (%):16) at 0x7fbcd532ab00>, <DiscreteFactor representing phi(Unblocked FEV1 (L):58) at 0x7fbcd572eaa0>, <DiscreteFactor representing phi(Unblocked FEV1 (L):58) at 0x7fbcd5328220>, <DiscreteFactor representing phi(Unblocked FEV1 (L):58, Small Airway Blockage 13 (%):16) at 0x7fbcd532bd00>, <DiscreteFactor representing phi(Unblocked FEV1 (L):58) at 0x7fbc60d2d840>]\n",
      "factors: [<DiscreteFactor representing phi(Small Airway Blockage 8 (%):16, Small Airway Blockage 12 (%):16, Small Airway Blockage 3 (%):16, Small Airway Blockage 4 (%):16, Small Airway Blockage 5 (%):16, Small Airway Blockage 13 (%):16) at 0x7fbc60d2fbe0>]\n",
      "factors: [<DiscreteFactor representing phi(Small Airway Blockage 8 (%):16, Small Airway Blockage 12 (%):16, Small Airway Blockage 3 (%):16, Small Airway Blockage 4 (%):16, Small Airway Blockage 13 (%):16) at 0x7fbc60d2c220>]\n",
      "factors: [<DiscreteFactor representing phi(Small Airway Blockage 8 (%):16, Small Airway Blockage 12 (%):16, Small Airway Blockage 3 (%):16, Small Airway Blockage 13 (%):16) at 0x7fbc60d2fac0>]\n",
      "factors: [<DiscreteFactor representing phi(Small Airway Blockage 8 (%):16, Small Airway Blockage 12 (%):16, Small Airway Blockage 3 (%):16) at 0x7fbc60d2cfa0>]\n",
      "factors: [<DiscreteFactor representing phi(Small Airway Blockage 8 (%):16, Small Airway Blockage 3 (%):16) at 0x7fbc60d2d210>]\n",
      "Prepare vars to be returned\n",
      "node: Small Airway Blockage 3 (%)\n",
      "Query took 30.600291967391968s\n",
      "SAB: 4\n",
      "Preprocess query\n",
      "Run query\n",
      "Query var to list\n",
      "Find nodes with query vars\n",
      "Conversion to set of tuple\n",
      "Compute clique potentials\n",
      "Variable elimination marginalize\n"
     ]
    },
    {
     "data": {
      "application/vnd.jupyter.widget-view+json": {
       "model_id": "1973617aad1248bfa571dc155528b148",
       "version_major": 2,
       "version_minor": 0
      },
      "text/plain": [
       "  0%|          | 0/18 [00:00<?, ?it/s]"
      ]
     },
     "metadata": {},
     "output_type": "display_data"
    },
    {
     "name": "stdout",
     "output_type": "stream",
     "text": [
      "factors: [<DiscreteFactor representing phi(Unblocked FEV1 (L):58, Small Airway Blockage 16 (%):16) at 0x7fbc60d2d900>]\n",
      "factors: [<DiscreteFactor representing phi(Unblocked FEV1 (L):58, Small Airway Blockage 9 (%):16) at 0x7fbc60d2cfd0>]\n",
      "factors: [<DiscreteFactor representing phi(Unblocked FEV1 (L):58, Small Airway Blockage 17 (%):16) at 0x7fbc60d2f2e0>]\n",
      "factors: [<DiscreteFactor representing phi(Unblocked FEV1 (L):58, Small Airway Blockage 3 (%):16) at 0x7fbc60d2c100>]\n",
      "factors: [<DiscreteFactor representing phi(Unblocked FEV1 (L):58, Small Airway Blockage 11 (%):16) at 0x7fbc60d2ff70>]\n",
      "factors: [<DiscreteFactor representing phi(Unblocked FEV1 (L):58, Small Airway Blockage 7 (%):16) at 0x7fbc60d2e1a0>]\n",
      "factors: [<DiscreteFactor representing phi(Unblocked FEV1 (L):58, Small Airway Blockage 10 (%):16) at 0x7fbc60d2d480>]\n",
      "factors: [<DiscreteFactor representing phi(Unblocked FEV1 (L):58, Small Airway Blockage 14 (%):16) at 0x7fbc60d2f100>]\n",
      "factors: [<DiscreteFactor representing phi(Unblocked FEV1 (L):58, Small Airway Blockage 2 (%):16) at 0x7fbc60d2ed10>]\n",
      "factors: [<DiscreteFactor representing phi(Unblocked FEV1 (L):58, Small Airway Blockage 15 (%):16) at 0x7fbc60d2eb90>]\n",
      "factors: [<DiscreteFactor representing phi(Unblocked FEV1 (L):58, Small Airway Blockage 0 (%):16) at 0x7fbc60d2ebf0>]\n",
      "factors: [<DiscreteFactor representing phi(Unblocked FEV1 (L):58, Small Airway Blockage 1 (%):16) at 0x7fbc60d2dab0>]\n",
      "factors: [<DiscreteFactor representing phi(Unblocked FEV1 (L):58) at 0x7fbcd5329a80>, <DiscreteFactor representing phi(Unblocked FEV1 (L):58) at 0x7fbcd532a230>, <DiscreteFactor representing phi(Unblocked FEV1 (L):58) at 0x7fbcd572ee00>, <DiscreteFactor representing phi(Unblocked FEV1 (L):58) at 0x7fbcd532a530>, <DiscreteFactor representing phi(Unblocked FEV1 (L):58) at 0x7fbcd572ccd0>, <DiscreteFactor representing phi(Unblocked FEV1 (L):58) at 0x7fbcd572cca0>, <DiscreteFactor representing phi(Unblocked FEV1 (L):58) at 0x7fbcd532af80>, <DiscreteFactor representing phi(Unblocked FEV1 (L):58) at 0x7fbcd532acb0>, <DiscreteFactor representing phi(Unblocked FEV1 (L):58, Small Airway Blockage 6 (%):16) at 0x7fbc60d2c430>, <DiscreteFactor representing phi(Unblocked FEV1 (L):58) at 0x7fbcd532b730>, <DiscreteFactor representing phi(Unblocked FEV1 (L):58, Small Airway Blockage 8 (%):16) at 0x7fbc60d2d0f0>, <DiscreteFactor representing phi(Unblocked FEV1 (L):58) at 0x7fbcd532af50>, <DiscreteFactor representing phi(Unblocked FEV1 (L):58, Small Airway Blockage 12 (%):16) at 0x7fbc60d2c520>, <DiscreteFactor representing phi(Unblocked FEV1 (L):58, Small Airway Blockage 4 (%):16) at 0x7fbc60d2fd30>, <DiscreteFactor representing phi(Unblocked FEV1 (L):58, Small Airway Blockage 5 (%):16) at 0x7fbc60d2ebc0>, <DiscreteFactor representing phi(Unblocked FEV1 (L):58) at 0x7fbcd572c940>, <DiscreteFactor representing phi(Unblocked FEV1 (L):58, Small Airway Blockage 13 (%):16) at 0x7fbc60d2f3a0>, <DiscreteFactor representing phi(Unblocked FEV1 (L):58) at 0x7fbcd572efe0>]\n",
      "factors: [<DiscreteFactor representing phi(Small Airway Blockage 6 (%):16, Small Airway Blockage 8 (%):16, Small Airway Blockage 12 (%):16, Small Airway Blockage 4 (%):16, Small Airway Blockage 5 (%):16, Small Airway Blockage 13 (%):16) at 0x7fbcd572cf40>]\n",
      "factors: [<DiscreteFactor representing phi(Small Airway Blockage 6 (%):16, Small Airway Blockage 8 (%):16, Small Airway Blockage 12 (%):16, Small Airway Blockage 4 (%):16, Small Airway Blockage 13 (%):16) at 0x7fbcd572e8c0>]\n",
      "factors: [<DiscreteFactor representing phi(Small Airway Blockage 8 (%):16, Small Airway Blockage 12 (%):16, Small Airway Blockage 4 (%):16, Small Airway Blockage 13 (%):16) at 0x7fbc60d2ff70>]\n",
      "factors: [<DiscreteFactor representing phi(Small Airway Blockage 8 (%):16, Small Airway Blockage 12 (%):16, Small Airway Blockage 4 (%):16) at 0x7fbc60d2e1a0>]\n",
      "factors: [<DiscreteFactor representing phi(Small Airway Blockage 8 (%):16, Small Airway Blockage 4 (%):16) at 0x7fbcd572ccd0>]\n",
      "Prepare vars to be returned\n",
      "node: Small Airway Blockage 4 (%)\n",
      "Query took 30.232475996017456s\n",
      "SAB: 5\n",
      "Preprocess query\n",
      "Run query\n",
      "Query var to list\n",
      "Find nodes with query vars\n",
      "Conversion to set of tuple\n",
      "Compute clique potentials\n",
      "Variable elimination marginalize\n"
     ]
    },
    {
     "data": {
      "application/vnd.jupyter.widget-view+json": {
       "model_id": "fa85d62b498947e2a86924f1061897c6",
       "version_major": 2,
       "version_minor": 0
      },
      "text/plain": [
       "  0%|          | 0/18 [00:00<?, ?it/s]"
      ]
     },
     "metadata": {},
     "output_type": "display_data"
    },
    {
     "name": "stdout",
     "output_type": "stream",
     "text": [
      "factors: [<DiscreteFactor representing phi(Unblocked FEV1 (L):58, Small Airway Blockage 16 (%):16) at 0x7fbcd572d000>]\n",
      "factors: [<DiscreteFactor representing phi(Unblocked FEV1 (L):58, Small Airway Blockage 9 (%):16) at 0x7fbc60d2ff70>]\n",
      "factors: [<DiscreteFactor representing phi(Unblocked FEV1 (L):58, Small Airway Blockage 17 (%):16) at 0x7fbcd572eb00>]\n",
      "factors: [<DiscreteFactor representing phi(Unblocked FEV1 (L):58, Small Airway Blockage 3 (%):16) at 0x7fbc60d2efe0>]\n",
      "factors: [<DiscreteFactor representing phi(Unblocked FEV1 (L):58, Small Airway Blockage 6 (%):16) at 0x7fbc60d2ca30>]\n",
      "factors: [<DiscreteFactor representing phi(Unblocked FEV1 (L):58, Small Airway Blockage 11 (%):16) at 0x7fbc60d2dab0>]\n",
      "factors: [<DiscreteFactor representing phi(Unblocked FEV1 (L):58, Small Airway Blockage 7 (%):16) at 0x7fbc60d2e1a0>]\n",
      "factors: [<DiscreteFactor representing phi(Unblocked FEV1 (L):58, Small Airway Blockage 10 (%):16) at 0x7fbc60d2c790>]\n",
      "factors: [<DiscreteFactor representing phi(Unblocked FEV1 (L):58, Small Airway Blockage 14 (%):16) at 0x7fbcd572ec20>]\n",
      "factors: [<DiscreteFactor representing phi(Unblocked FEV1 (L):58, Small Airway Blockage 2 (%):16) at 0x7fbc60d2f040>]\n",
      "factors: [<DiscreteFactor representing phi(Unblocked FEV1 (L):58, Small Airway Blockage 15 (%):16) at 0x7fbcd572d1e0>]\n",
      "factors: [<DiscreteFactor representing phi(Unblocked FEV1 (L):58, Small Airway Blockage 0 (%):16) at 0x7fbc60d2dd20>]\n",
      "factors: [<DiscreteFactor representing phi(Unblocked FEV1 (L):58, Small Airway Blockage 1 (%):16) at 0x7fbc60d2c670>]\n",
      "factors: [<DiscreteFactor representing phi(Unblocked FEV1 (L):58) at 0x7fbcd532b6a0>, <DiscreteFactor representing phi(Unblocked FEV1 (L):58) at 0x7fbcd532aa10>, <DiscreteFactor representing phi(Unblocked FEV1 (L):58) at 0x7fbcd572cc10>, <DiscreteFactor representing phi(Unblocked FEV1 (L):58) at 0x7fbcd532aa70>, <DiscreteFactor representing phi(Unblocked FEV1 (L):58) at 0x7fbcd532baf0>, <DiscreteFactor representing phi(Unblocked FEV1 (L):58) at 0x7fbcd5328700>, <DiscreteFactor representing phi(Unblocked FEV1 (L):58) at 0x7fbcd5328280>, <DiscreteFactor representing phi(Unblocked FEV1 (L):58) at 0x7fbcd532a2f0>, <DiscreteFactor representing phi(Unblocked FEV1 (L):58) at 0x7fbcd532b4f0>, <DiscreteFactor representing phi(Unblocked FEV1 (L):58, Small Airway Blockage 8 (%):16) at 0x7fbc60d2dd80>, <DiscreteFactor representing phi(Unblocked FEV1 (L):58) at 0x7fbcd5329060>, <DiscreteFactor representing phi(Unblocked FEV1 (L):58, Small Airway Blockage 12 (%):16) at 0x7fbc60d2fd30>, <DiscreteFactor representing phi(Unblocked FEV1 (L):58, Small Airway Blockage 4 (%):16) at 0x7fbc60d2cc70>, <DiscreteFactor representing phi(Unblocked FEV1 (L):58, Small Airway Blockage 5 (%):16) at 0x7fbc60d2c1f0>, <DiscreteFactor representing phi(Unblocked FEV1 (L):58) at 0x7fbcd5329390>, <DiscreteFactor representing phi(Unblocked FEV1 (L):58) at 0x7fbcd53282b0>, <DiscreteFactor representing phi(Unblocked FEV1 (L):58, Small Airway Blockage 13 (%):16) at 0x7fbc60d2e5f0>, <DiscreteFactor representing phi(Unblocked FEV1 (L):58) at 0x7fbcd532b190>]\n",
      "factors: [<DiscreteFactor representing phi(Small Airway Blockage 8 (%):16, Small Airway Blockage 12 (%):16, Small Airway Blockage 4 (%):16, Small Airway Blockage 5 (%):16, Small Airway Blockage 13 (%):16) at 0x7fbcd572cb20>]\n",
      "factors: [<DiscreteFactor representing phi(Small Airway Blockage 8 (%):16, Small Airway Blockage 12 (%):16, Small Airway Blockage 5 (%):16, Small Airway Blockage 13 (%):16) at 0x7fbcd572ce50>]\n",
      "factors: [<DiscreteFactor representing phi(Small Airway Blockage 8 (%):16, Small Airway Blockage 12 (%):16, Small Airway Blockage 5 (%):16) at 0x7fbc60d2dd20>]\n",
      "factors: [<DiscreteFactor representing phi(Small Airway Blockage 8 (%):16, Small Airway Blockage 5 (%):16) at 0x7fbcd572c940>]\n",
      "Prepare vars to be returned\n",
      "node: Small Airway Blockage 5 (%)\n",
      "Query took 1.1742658615112305s\n",
      "SAB: 6\n",
      "Preprocess query\n",
      "Run query\n",
      "Query var to list\n",
      "Find nodes with query vars\n",
      "Conversion to set of tuple\n",
      "Compute clique potentials\n",
      "Variable elimination marginalize\n"
     ]
    },
    {
     "data": {
      "application/vnd.jupyter.widget-view+json": {
       "model_id": "d515aec42912455f878a6f52d93759ec",
       "version_major": 2,
       "version_minor": 0
      },
      "text/plain": [
       "  0%|          | 0/18 [00:00<?, ?it/s]"
      ]
     },
     "metadata": {},
     "output_type": "display_data"
    },
    {
     "name": "stdout",
     "output_type": "stream",
     "text": [
      "factors: [<DiscreteFactor representing phi(Unblocked FEV1 (L):58, Small Airway Blockage 16 (%):16) at 0x7fbc60d2fac0>]\n",
      "factors: [<DiscreteFactor representing phi(Unblocked FEV1 (L):58, Small Airway Blockage 9 (%):16) at 0x7fbcd572cb20>]\n",
      "factors: [<DiscreteFactor representing phi(Unblocked FEV1 (L):58, Small Airway Blockage 17 (%):16) at 0x7fbc60d2fbe0>]\n",
      "factors: [<DiscreteFactor representing phi(Unblocked FEV1 (L):58, Small Airway Blockage 3 (%):16) at 0x7fbcd572ceb0>]\n",
      "factors: [<DiscreteFactor representing phi(Unblocked FEV1 (L):58, Small Airway Blockage 11 (%):16) at 0x7fbc60d2c340>]\n",
      "factors: [<DiscreteFactor representing phi(Unblocked FEV1 (L):58, Small Airway Blockage 7 (%):16) at 0x7fbcd572cf70>]\n",
      "factors: [<DiscreteFactor representing phi(Unblocked FEV1 (L):58, Small Airway Blockage 10 (%):16) at 0x7fbc60d2cfa0>]\n",
      "factors: [<DiscreteFactor representing phi(Unblocked FEV1 (L):58, Small Airway Blockage 14 (%):16) at 0x7fbc60d2c220>]\n",
      "factors: [<DiscreteFactor representing phi(Unblocked FEV1 (L):58, Small Airway Blockage 2 (%):16) at 0x7fbcd572ccd0>]\n",
      "factors: [<DiscreteFactor representing phi(Unblocked FEV1 (L):58, Small Airway Blockage 15 (%):16) at 0x7fbc60d2f070>]\n",
      "factors: [<DiscreteFactor representing phi(Unblocked FEV1 (L):58, Small Airway Blockage 0 (%):16) at 0x7fbcd572cb50>]\n",
      "factors: [<DiscreteFactor representing phi(Unblocked FEV1 (L):58, Small Airway Blockage 1 (%):16) at 0x7fbcd572ead0>]\n",
      "factors: [<DiscreteFactor representing phi(Unblocked FEV1 (L):58) at 0x7fbcd532ac20>, <DiscreteFactor representing phi(Unblocked FEV1 (L):58) at 0x7fbcd532a5f0>, <DiscreteFactor representing phi(Unblocked FEV1 (L):58) at 0x7fbcd5328c10>, <DiscreteFactor representing phi(Unblocked FEV1 (L):58) at 0x7fbcd532b4f0>, <DiscreteFactor representing phi(Unblocked FEV1 (L):58) at 0x7fbcc0566b30>, <DiscreteFactor representing phi(Unblocked FEV1 (L):58) at 0x7fbcc0566bc0>, <DiscreteFactor representing phi(Unblocked FEV1 (L):58) at 0x7fbcd5328a90>, <DiscreteFactor representing phi(Unblocked FEV1 (L):58) at 0x7fbcd5329600>, <DiscreteFactor representing phi(Unblocked FEV1 (L):58, Small Airway Blockage 6 (%):16) at 0x7fbcd572ce50>, <DiscreteFactor representing phi(Unblocked FEV1 (L):58) at 0x7fbc60d2cfd0>, <DiscreteFactor representing phi(Unblocked FEV1 (L):58, Small Airway Blockage 8 (%):16) at 0x7fbcd572cd30>, <DiscreteFactor representing phi(Unblocked FEV1 (L):58) at 0x7fbcd532a4d0>, <DiscreteFactor representing phi(Unblocked FEV1 (L):58, Small Airway Blockage 12 (%):16) at 0x7fbc60d2d840>, <DiscreteFactor representing phi(Unblocked FEV1 (L):58, Small Airway Blockage 4 (%):16) at 0x7fbcd572c250>, <DiscreteFactor representing phi(Unblocked FEV1 (L):58, Small Airway Blockage 5 (%):16) at 0x7fbcd572cc10>, <DiscreteFactor representing phi(Unblocked FEV1 (L):58) at 0x7fbcc0566da0>, <DiscreteFactor representing phi(Unblocked FEV1 (L):58, Small Airway Blockage 13 (%):16) at 0x7fbc60d2d210>, <DiscreteFactor representing phi(Unblocked FEV1 (L):58) at 0x7fbcc0566a40>]\n",
      "factors: [<DiscreteFactor representing phi(Small Airway Blockage 6 (%):16, Small Airway Blockage 8 (%):16, Small Airway Blockage 12 (%):16, Small Airway Blockage 4 (%):16, Small Airway Blockage 5 (%):16, Small Airway Blockage 13 (%):16) at 0x7fbcd5329210>]\n",
      "factors: [<DiscreteFactor representing phi(Small Airway Blockage 6 (%):16, Small Airway Blockage 8 (%):16, Small Airway Blockage 12 (%):16, Small Airway Blockage 4 (%):16, Small Airway Blockage 13 (%):16) at 0x7fbcd5329600>]\n",
      "factors: [<DiscreteFactor representing phi(Small Airway Blockage 6 (%):16, Small Airway Blockage 8 (%):16, Small Airway Blockage 12 (%):16, Small Airway Blockage 13 (%):16) at 0x7fbcd532b3a0>]\n",
      "factors: [<DiscreteFactor representing phi(Small Airway Blockage 6 (%):16, Small Airway Blockage 8 (%):16, Small Airway Blockage 12 (%):16) at 0x7fbcd532a4d0>]\n",
      "factors: [<DiscreteFactor representing phi(Small Airway Blockage 6 (%):16, Small Airway Blockage 8 (%):16) at 0x7fbcd5328c10>]\n",
      "Prepare vars to be returned\n",
      "node: Small Airway Blockage 6 (%)\n",
      "Query took 29.889399766921997s\n",
      "SAB: 7\n",
      "Preprocess query\n",
      "Run query\n",
      "Query var to list\n",
      "Find nodes with query vars\n",
      "Conversion to set of tuple\n",
      "Compute clique potentials\n",
      "Variable elimination marginalize\n"
     ]
    },
    {
     "data": {
      "application/vnd.jupyter.widget-view+json": {
       "model_id": "168ca5dc07c44b06ae37a69881ff57a0",
       "version_major": 2,
       "version_minor": 0
      },
      "text/plain": [
       "  0%|          | 0/18 [00:00<?, ?it/s]"
      ]
     },
     "metadata": {},
     "output_type": "display_data"
    },
    {
     "name": "stdout",
     "output_type": "stream",
     "text": [
      "factors: [<DiscreteFactor representing phi(Unblocked FEV1 (L):58, Small Airway Blockage 16 (%):16) at 0x7fbcd532bb80>]\n",
      "factors: [<DiscreteFactor representing phi(Unblocked FEV1 (L):58, Small Airway Blockage 9 (%):16) at 0x7fbcd532b6d0>]\n",
      "factors: [<DiscreteFactor representing phi(Unblocked FEV1 (L):58, Small Airway Blockage 17 (%):16) at 0x7fbcd5329750>]\n",
      "factors: [<DiscreteFactor representing phi(Unblocked FEV1 (L):58, Small Airway Blockage 3 (%):16) at 0x7fbcd572ec20>]\n",
      "factors: [<DiscreteFactor representing phi(Unblocked FEV1 (L):58, Small Airway Blockage 6 (%):16) at 0x7fbcd572cc10>]\n",
      "factors: [<DiscreteFactor representing phi(Unblocked FEV1 (L):58, Small Airway Blockage 11 (%):16) at 0x7fbcd532b490>]\n",
      "factors: [<DiscreteFactor representing phi(Unblocked FEV1 (L):58, Small Airway Blockage 10 (%):16) at 0x7fbcd5329c00>]\n",
      "factors: [<DiscreteFactor representing phi(Unblocked FEV1 (L):58, Small Airway Blockage 14 (%):16) at 0x7fbcd532b4f0>]\n",
      "factors: [<DiscreteFactor representing phi(Unblocked FEV1 (L):58, Small Airway Blockage 2 (%):16) at 0x7fbcd572eb00>]\n",
      "factors: [<DiscreteFactor representing phi(Unblocked FEV1 (L):58, Small Airway Blockage 15 (%):16) at 0x7fbcd532b1f0>]\n",
      "factors: [<DiscreteFactor representing phi(Unblocked FEV1 (L):58, Small Airway Blockage 0 (%):16) at 0x7fbcd572ce50>]\n",
      "factors: [<DiscreteFactor representing phi(Unblocked FEV1 (L):58, Small Airway Blockage 1 (%):16) at 0x7fbcd572cac0>]\n",
      "factors: [<DiscreteFactor representing phi(Unblocked FEV1 (L):58) at 0x7fbcc0566a40>, <DiscreteFactor representing phi(Unblocked FEV1 (L):58) at 0x7fbcc05675b0>, <DiscreteFactor representing phi(Unblocked FEV1 (L):58) at 0x7fbcd532a5f0>, <DiscreteFactor representing phi(Unblocked FEV1 (L):58) at 0x7fbcc0566fb0>, <DiscreteFactor representing phi(Unblocked FEV1 (L):58) at 0x7fbcc0566c80>, <DiscreteFactor representing phi(Unblocked FEV1 (L):58) at 0x7fbc60d2c340>, <DiscreteFactor representing phi(Unblocked FEV1 (L):58) at 0x7fbcc05670a0>, <DiscreteFactor representing phi(Unblocked FEV1 (L):58) at 0x7fbc60d2f550>, <DiscreteFactor representing phi(Unblocked FEV1 (L):58, Small Airway Blockage 8 (%):16) at 0x7fbcd53281f0>, <DiscreteFactor representing phi(Unblocked FEV1 (L):58) at 0x7fbcc0567220>, <DiscreteFactor representing phi(Unblocked FEV1 (L):58, Small Airway Blockage 12 (%):16) at 0x7fbcd53287c0>, <DiscreteFactor representing phi(Unblocked FEV1 (L):58, Small Airway Blockage 4 (%):16) at 0x7fbcd572cb80>, <DiscreteFactor representing phi(Unblocked FEV1 (L):58, Small Airway Blockage 5 (%):16) at 0x7fbcd572c970>, <DiscreteFactor representing phi(Unblocked FEV1 (L):58, Small Airway Blockage 7 (%):16) at 0x7fbcd5328130>, <DiscreteFactor representing phi(Unblocked FEV1 (L):58) at 0x7fbcc0565cf0>, <DiscreteFactor representing phi(Unblocked FEV1 (L):58) at 0x7fbcc0567160>, <DiscreteFactor representing phi(Unblocked FEV1 (L):58, Small Airway Blockage 13 (%):16) at 0x7fbcd5328610>, <DiscreteFactor representing phi(Unblocked FEV1 (L):58) at 0x7fbcc05677f0>]\n",
      "factors: [<DiscreteFactor representing phi(Small Airway Blockage 8 (%):16, Small Airway Blockage 12 (%):16, Small Airway Blockage 4 (%):16, Small Airway Blockage 5 (%):16, Small Airway Blockage 7 (%):16, Small Airway Blockage 13 (%):16) at 0x7fbcd5329060>]\n",
      "factors: [<DiscreteFactor representing phi(Small Airway Blockage 8 (%):16, Small Airway Blockage 12 (%):16, Small Airway Blockage 4 (%):16, Small Airway Blockage 7 (%):16, Small Airway Blockage 13 (%):16) at 0x7fbcd532b940>]\n",
      "factors: [<DiscreteFactor representing phi(Small Airway Blockage 8 (%):16, Small Airway Blockage 12 (%):16, Small Airway Blockage 7 (%):16, Small Airway Blockage 13 (%):16) at 0x7fbcd532a9e0>]\n",
      "factors: [<DiscreteFactor representing phi(Small Airway Blockage 8 (%):16, Small Airway Blockage 12 (%):16, Small Airway Blockage 7 (%):16) at 0x7fbcd532b820>]\n",
      "factors: [<DiscreteFactor representing phi(Small Airway Blockage 8 (%):16, Small Airway Blockage 7 (%):16) at 0x7fbcd532a5f0>]\n",
      "Prepare vars to be returned\n",
      "node: Small Airway Blockage 7 (%)\n",
      "Query took 30.371638774871826s\n",
      "SAB: 8\n",
      "Preprocess query\n",
      "Run query\n",
      "Query var to list\n",
      "Find nodes with query vars\n",
      "Conversion to set of tuple\n",
      "Compute clique potentials\n",
      "Variable elimination marginalize\n"
     ]
    },
    {
     "data": {
      "application/vnd.jupyter.widget-view+json": {
       "model_id": "4eaa36f503264639a83373e3edc71d94",
       "version_major": 2,
       "version_minor": 0
      },
      "text/plain": [
       "  0%|          | 0/18 [00:00<?, ?it/s]"
      ]
     },
     "metadata": {},
     "output_type": "display_data"
    },
    {
     "name": "stdout",
     "output_type": "stream",
     "text": [
      "factors: [<DiscreteFactor representing phi(Unblocked FEV1 (L):58, Small Airway Blockage 16 (%):16) at 0x7fbcd532bdc0>]\n",
      "factors: [<DiscreteFactor representing phi(Unblocked FEV1 (L):58, Small Airway Blockage 9 (%):16) at 0x7fbcd532b070>]\n",
      "factors: [<DiscreteFactor representing phi(Unblocked FEV1 (L):58, Small Airway Blockage 17 (%):16) at 0x7fbcd53289d0>]\n",
      "factors: [<DiscreteFactor representing phi(Unblocked FEV1 (L):58, Small Airway Blockage 3 (%):16) at 0x7fbcd572cf70>]\n",
      "factors: [<DiscreteFactor representing phi(Unblocked FEV1 (L):58, Small Airway Blockage 6 (%):16) at 0x7fbcd572d360>]\n",
      "factors: [<DiscreteFactor representing phi(Unblocked FEV1 (L):58, Small Airway Blockage 11 (%):16) at 0x7fbcd5329f90>]\n",
      "factors: [<DiscreteFactor representing phi(Unblocked FEV1 (L):58, Small Airway Blockage 7 (%):16) at 0x7fbcd572cb80>]\n",
      "factors: [<DiscreteFactor representing phi(Unblocked FEV1 (L):58, Small Airway Blockage 10 (%):16) at 0x7fbcd532bf70>]\n",
      "factors: [<DiscreteFactor representing phi(Unblocked FEV1 (L):58, Small Airway Blockage 14 (%):16) at 0x7fbcd532a230>]\n",
      "factors: [<DiscreteFactor representing phi(Unblocked FEV1 (L):58, Small Airway Blockage 2 (%):16) at 0x7fbcd572eb60>]\n",
      "factors: [<DiscreteFactor representing phi(Unblocked FEV1 (L):58, Small Airway Blockage 15 (%):16) at 0x7fbcd5328f40>]\n",
      "factors: [<DiscreteFactor representing phi(Unblocked FEV1 (L):58, Small Airway Blockage 0 (%):16) at 0x7fbcd572ef50>]\n",
      "factors: [<DiscreteFactor representing phi(Unblocked FEV1 (L):58, Small Airway Blockage 1 (%):16) at 0x7fbcd572d000>]\n",
      "factors: [<DiscreteFactor representing phi(Unblocked FEV1 (L):58) at 0x7fbcc05671f0>, <DiscreteFactor representing phi(Unblocked FEV1 (L):58) at 0x7fbcc0564df0>, <DiscreteFactor representing phi(Unblocked FEV1 (L):58) at 0x7fbcc0566b90>, <DiscreteFactor representing phi(Unblocked FEV1 (L):58) at 0x7fbcd532b940>, <DiscreteFactor representing phi(Unblocked FEV1 (L):58) at 0x7fbcc0566980>, <DiscreteFactor representing phi(Unblocked FEV1 (L):58) at 0x7fbcc0566c20>, <DiscreteFactor representing phi(Unblocked FEV1 (L):58) at 0x7fbcd532bb80>, <DiscreteFactor representing phi(Unblocked FEV1 (L):58) at 0x7fbcc0567550>, <DiscreteFactor representing phi(Unblocked FEV1 (L):58) at 0x7fbcc0566a40>, <DiscreteFactor representing phi(Unblocked FEV1 (L):58, Small Airway Blockage 8 (%):16) at 0x7fbcd532b7f0>, <DiscreteFactor representing phi(Unblocked FEV1 (L):58) at 0x7fbcc0565f60>, <DiscreteFactor representing phi(Unblocked FEV1 (L):58, Small Airway Blockage 12 (%):16) at 0x7fbcd5329f00>, <DiscreteFactor representing phi(Unblocked FEV1 (L):58, Small Airway Blockage 4 (%):16) at 0x7fbcd572e8c0>, <DiscreteFactor representing phi(Unblocked FEV1 (L):58, Small Airway Blockage 5 (%):16) at 0x7fbcd572ca60>, <DiscreteFactor representing phi(Unblocked FEV1 (L):58) at 0x7fbcc05643a0>, <DiscreteFactor representing phi(Unblocked FEV1 (L):58) at 0x7fbcc05640d0>, <DiscreteFactor representing phi(Unblocked FEV1 (L):58, Small Airway Blockage 13 (%):16) at 0x7fbcd532af80>, <DiscreteFactor representing phi(Unblocked FEV1 (L):58) at 0x7fbcc05672e0>]\n",
      "factors: [<DiscreteFactor representing phi(Small Airway Blockage 8 (%):16, Small Airway Blockage 12 (%):16, Small Airway Blockage 4 (%):16, Small Airway Blockage 5 (%):16, Small Airway Blockage 13 (%):16) at 0x7fbcd532b490>]\n",
      "factors: [<DiscreteFactor representing phi(Small Airway Blockage 8 (%):16, Small Airway Blockage 12 (%):16, Small Airway Blockage 4 (%):16, Small Airway Blockage 13 (%):16) at 0x7fbcd5329120>]\n",
      "factors: [<DiscreteFactor representing phi(Small Airway Blockage 8 (%):16, Small Airway Blockage 12 (%):16, Small Airway Blockage 13 (%):16) at 0x7fbcd532a9e0>]\n",
      "factors: [<DiscreteFactor representing phi(Small Airway Blockage 8 (%):16, Small Airway Blockage 12 (%):16) at 0x7fbcd532b4f0>]\n",
      "Prepare vars to be returned\n",
      "node: Small Airway Blockage 8 (%)\n",
      "Query took 1.2439441680908203s\n",
      "SAB: 9\n",
      "Preprocess query\n",
      "Run query\n",
      "Query var to list\n",
      "Find nodes with query vars\n",
      "Conversion to set of tuple\n",
      "Compute clique potentials\n",
      "Variable elimination marginalize\n"
     ]
    },
    {
     "data": {
      "application/vnd.jupyter.widget-view+json": {
       "model_id": "40c6efdb877b46768577ba5367757c33",
       "version_major": 2,
       "version_minor": 0
      },
      "text/plain": [
       "  0%|          | 0/18 [00:00<?, ?it/s]"
      ]
     },
     "metadata": {},
     "output_type": "display_data"
    },
    {
     "name": "stdout",
     "output_type": "stream",
     "text": [
      "factors: [<DiscreteFactor representing phi(Unblocked FEV1 (L):58, Small Airway Blockage 16 (%):16) at 0x7fbcd572ce50>]\n",
      "factors: [<DiscreteFactor representing phi(Unblocked FEV1 (L):58, Small Airway Blockage 17 (%):16) at 0x7fbcd572eb00>]\n",
      "factors: [<DiscreteFactor representing phi(Unblocked FEV1 (L):58, Small Airway Blockage 3 (%):16) at 0x7fbcd5328f40>]\n",
      "factors: [<DiscreteFactor representing phi(Unblocked FEV1 (L):58, Small Airway Blockage 6 (%):16) at 0x7fbcd572e8c0>]\n",
      "factors: [<DiscreteFactor representing phi(Unblocked FEV1 (L):58, Small Airway Blockage 11 (%):16) at 0x7fbcd572cac0>]\n",
      "factors: [<DiscreteFactor representing phi(Unblocked FEV1 (L):58, Small Airway Blockage 7 (%):16) at 0x7fbcd572ef50>]\n",
      "factors: [<DiscreteFactor representing phi(Unblocked FEV1 (L):58, Small Airway Blockage 10 (%):16) at 0x7fbcd572cf70>]\n",
      "factors: [<DiscreteFactor representing phi(Unblocked FEV1 (L):58, Small Airway Blockage 14 (%):16) at 0x7fbcd572d360>]\n",
      "factors: [<DiscreteFactor representing phi(Unblocked FEV1 (L):58, Small Airway Blockage 2 (%):16) at 0x7fbcd532b070>]\n",
      "factors: [<DiscreteFactor representing phi(Unblocked FEV1 (L):58, Small Airway Blockage 15 (%):16) at 0x7fbcd572cfa0>]\n",
      "factors: [<DiscreteFactor representing phi(Unblocked FEV1 (L):58, Small Airway Blockage 0 (%):16) at 0x7fbcd532b7f0>]\n",
      "factors: [<DiscreteFactor representing phi(Unblocked FEV1 (L):58, Small Airway Blockage 1 (%):16) at 0x7fbcd5329120>]\n",
      "factors: [<DiscreteFactor representing phi(Unblocked FEV1 (L):58) at 0x7fbcc0566080>, <DiscreteFactor representing phi(Unblocked FEV1 (L):58) at 0x7fbcc0567700>, <DiscreteFactor representing phi(Unblocked FEV1 (L):58) at 0x7fbcc0567220>, <DiscreteFactor representing phi(Unblocked FEV1 (L):58) at 0x7fbcc0566f20>, <DiscreteFactor representing phi(Unblocked FEV1 (L):58) at 0x7fbcc05676a0>, <DiscreteFactor representing phi(Unblocked FEV1 (L):58) at 0x7fbcc0566e00>, <DiscreteFactor representing phi(Unblocked FEV1 (L):58) at 0x7fbcc0564520>, <DiscreteFactor representing phi(Unblocked FEV1 (L):58) at 0x7fbcc0566980>, <DiscreteFactor representing phi(Unblocked FEV1 (L):58, Small Airway Blockage 8 (%):16) at 0x7fbcd572d000>, <DiscreteFactor representing phi(Unblocked FEV1 (L):58, Small Airway Blockage 9 (%):16) at 0x7fbcd572eb60>, <DiscreteFactor representing phi(Unblocked FEV1 (L):58) at 0x7fbcc0567880>, <DiscreteFactor representing phi(Unblocked FEV1 (L):58, Small Airway Blockage 12 (%):16) at 0x7fbcd572cc10>, <DiscreteFactor representing phi(Unblocked FEV1 (L):58, Small Airway Blockage 4 (%):16) at 0x7fbcd532a9e0>, <DiscreteFactor representing phi(Unblocked FEV1 (L):58, Small Airway Blockage 5 (%):16) at 0x7fbcd532b1f0>, <DiscreteFactor representing phi(Unblocked FEV1 (L):58) at 0x7fbcc05660b0>, <DiscreteFactor representing phi(Unblocked FEV1 (L):58) at 0x7fbcc0566d40>, <DiscreteFactor representing phi(Unblocked FEV1 (L):58, Small Airway Blockage 13 (%):16) at 0x7fbcd572ec20>, <DiscreteFactor representing phi(Unblocked FEV1 (L):58) at 0x7fbcc0567a60>]\n",
      "factors: [<DiscreteFactor representing phi(Small Airway Blockage 8 (%):16, Small Airway Blockage 9 (%):16, Small Airway Blockage 12 (%):16, Small Airway Blockage 4 (%):16, Small Airway Blockage 5 (%):16, Small Airway Blockage 13 (%):16) at 0x7fbc60d2fac0>]\n",
      "factors: [<DiscreteFactor representing phi(Small Airway Blockage 8 (%):16, Small Airway Blockage 9 (%):16, Small Airway Blockage 12 (%):16, Small Airway Blockage 4 (%):16, Small Airway Blockage 13 (%):16) at 0x7fbcc0567220>]\n",
      "factors: [<DiscreteFactor representing phi(Small Airway Blockage 8 (%):16, Small Airway Blockage 9 (%):16, Small Airway Blockage 12 (%):16, Small Airway Blockage 13 (%):16) at 0x7fbcd572ef50>]\n",
      "factors: [<DiscreteFactor representing phi(Small Airway Blockage 8 (%):16, Small Airway Blockage 9 (%):16, Small Airway Blockage 12 (%):16) at 0x7fbc60d2c430>]\n",
      "factors: [<DiscreteFactor representing phi(Small Airway Blockage 8 (%):16, Small Airway Blockage 9 (%):16) at 0x7fbcc0566f20>]\n",
      "Prepare vars to be returned\n",
      "node: Small Airway Blockage 9 (%)\n",
      "Query took 30.46070384979248s\n",
      "SAB: 10\n",
      "Preprocess query\n",
      "Run query\n",
      "Query var to list\n",
      "Find nodes with query vars\n",
      "Conversion to set of tuple\n",
      "Compute clique potentials\n",
      "Variable elimination marginalize\n"
     ]
    },
    {
     "data": {
      "application/vnd.jupyter.widget-view+json": {
       "model_id": "2f249ea3f3774f40b975227df35f47df",
       "version_major": 2,
       "version_minor": 0
      },
      "text/plain": [
       "  0%|          | 0/18 [00:00<?, ?it/s]"
      ]
     },
     "metadata": {},
     "output_type": "display_data"
    },
    {
     "name": "stdout",
     "output_type": "stream",
     "text": [
      "factors: [<DiscreteFactor representing phi(Unblocked FEV1 (L):58, Small Airway Blockage 16 (%):16) at 0x7fbcd532a230>]\n",
      "factors: [<DiscreteFactor representing phi(Unblocked FEV1 (L):58, Small Airway Blockage 9 (%):16) at 0x7fbcd532bb80>]\n",
      "factors: [<DiscreteFactor representing phi(Unblocked FEV1 (L):58, Small Airway Blockage 17 (%):16) at 0x7fbcd5328f40>]\n",
      "factors: [<DiscreteFactor representing phi(Unblocked FEV1 (L):58, Small Airway Blockage 3 (%):16) at 0x7fbcd5329120>]\n",
      "factors: [<DiscreteFactor representing phi(Unblocked FEV1 (L):58, Small Airway Blockage 6 (%):16) at 0x7fbcd5329f00>]\n",
      "factors: [<DiscreteFactor representing phi(Unblocked FEV1 (L):58, Small Airway Blockage 11 (%):16) at 0x7fbcd5329060>]\n",
      "factors: [<DiscreteFactor representing phi(Unblocked FEV1 (L):58, Small Airway Blockage 7 (%):16) at 0x7fbcd532bdc0>]\n",
      "factors: [<DiscreteFactor representing phi(Unblocked FEV1 (L):58, Small Airway Blockage 14 (%):16) at 0x7fbcd532af80>]\n",
      "factors: [<DiscreteFactor representing phi(Unblocked FEV1 (L):58, Small Airway Blockage 2 (%):16) at 0x7fbcd532b820>]\n",
      "factors: [<DiscreteFactor representing phi(Unblocked FEV1 (L):58, Small Airway Blockage 15 (%):16) at 0x7fbcd5328af0>]\n",
      "factors: [<DiscreteFactor representing phi(Unblocked FEV1 (L):58, Small Airway Blockage 0 (%):16) at 0x7fbcd532ac20>]\n",
      "factors: [<DiscreteFactor representing phi(Unblocked FEV1 (L):58, Small Airway Blockage 1 (%):16) at 0x7fbcd532b070>]\n",
      "factors: [<DiscreteFactor representing phi(Unblocked FEV1 (L):58) at 0x7fbcc0566cb0>, <DiscreteFactor representing phi(Unblocked FEV1 (L):58) at 0x7fbcc0567820>, <DiscreteFactor representing phi(Unblocked FEV1 (L):58, Small Airway Blockage 10 (%):16) at 0x7fbcd53289d0>, <DiscreteFactor representing phi(Unblocked FEV1 (L):58) at 0x7fbcc0564c10>, <DiscreteFactor representing phi(Unblocked FEV1 (L):58) at 0x7fbcc0566830>, <DiscreteFactor representing phi(Unblocked FEV1 (L):58) at 0x7fbcc0564220>, <DiscreteFactor representing phi(Unblocked FEV1 (L):58) at 0x7fbcc0566740>, <DiscreteFactor representing phi(Unblocked FEV1 (L):58) at 0x7fbcc0565ab0>, <DiscreteFactor representing phi(Unblocked FEV1 (L):58) at 0x7fbcc0566e90>, <DiscreteFactor representing phi(Unblocked FEV1 (L):58, Small Airway Blockage 8 (%):16) at 0x7fbcd5329f90>, <DiscreteFactor representing phi(Unblocked FEV1 (L):58) at 0x7fbcc0565f60>, <DiscreteFactor representing phi(Unblocked FEV1 (L):58, Small Airway Blockage 12 (%):16) at 0x7fbcd5328a30>, <DiscreteFactor representing phi(Unblocked FEV1 (L):58, Small Airway Blockage 4 (%):16) at 0x7fbcd5329750>, <DiscreteFactor representing phi(Unblocked FEV1 (L):58, Small Airway Blockage 5 (%):16) at 0x7fbcd5328610>, <DiscreteFactor representing phi(Unblocked FEV1 (L):58) at 0x7fbcc0567160>, <DiscreteFactor representing phi(Unblocked FEV1 (L):58) at 0x7fbcc0565960>, <DiscreteFactor representing phi(Unblocked FEV1 (L):58, Small Airway Blockage 13 (%):16) at 0x7fbcd532b850>, <DiscreteFactor representing phi(Unblocked FEV1 (L):58) at 0x7fbcc0565a50>]\n",
      "factors: [<DiscreteFactor representing phi(Small Airway Blockage 10 (%):16, Small Airway Blockage 8 (%):16, Small Airway Blockage 12 (%):16, Small Airway Blockage 4 (%):16, Small Airway Blockage 5 (%):16, Small Airway Blockage 13 (%):16) at 0x7fbcc0564dc0>]\n",
      "factors: [<DiscreteFactor representing phi(Small Airway Blockage 10 (%):16, Small Airway Blockage 8 (%):16, Small Airway Blockage 12 (%):16, Small Airway Blockage 4 (%):16, Small Airway Blockage 13 (%):16) at 0x7fbcc0566740>]\n",
      "factors: [<DiscreteFactor representing phi(Small Airway Blockage 10 (%):16, Small Airway Blockage 8 (%):16, Small Airway Blockage 12 (%):16, Small Airway Blockage 13 (%):16) at 0x7fbcd5328af0>]\n",
      "factors: [<DiscreteFactor representing phi(Small Airway Blockage 10 (%):16, Small Airway Blockage 8 (%):16, Small Airway Blockage 12 (%):16) at 0x7fbcc0566cb0>]\n",
      "factors: [<DiscreteFactor representing phi(Small Airway Blockage 10 (%):16, Small Airway Blockage 8 (%):16) at 0x7fbcc0565a50>]\n",
      "Prepare vars to be returned\n",
      "node: Small Airway Blockage 10 (%)\n",
      "Query took 29.54740285873413s\n",
      "SAB: 11\n",
      "Preprocess query\n",
      "Run query\n",
      "Query var to list\n",
      "Find nodes with query vars\n",
      "Conversion to set of tuple\n",
      "Compute clique potentials\n",
      "Variable elimination marginalize\n"
     ]
    },
    {
     "data": {
      "application/vnd.jupyter.widget-view+json": {
       "model_id": "d11f12c2023d4300b609ae2b24fa870e",
       "version_major": 2,
       "version_minor": 0
      },
      "text/plain": [
       "  0%|          | 0/18 [00:00<?, ?it/s]"
      ]
     },
     "metadata": {},
     "output_type": "display_data"
    },
    {
     "name": "stdout",
     "output_type": "stream",
     "text": [
      "factors: [<DiscreteFactor representing phi(Unblocked FEV1 (L):58, Small Airway Blockage 16 (%):16) at 0x7fbcd532b1f0>]\n",
      "factors: [<DiscreteFactor representing phi(Unblocked FEV1 (L):58, Small Airway Blockage 9 (%):16) at 0x7fbcd572ec20>]\n",
      "factors: [<DiscreteFactor representing phi(Unblocked FEV1 (L):58, Small Airway Blockage 17 (%):16) at 0x7fbcd532b4c0>]\n",
      "factors: [<DiscreteFactor representing phi(Unblocked FEV1 (L):58, Small Airway Blockage 3 (%):16) at 0x7fbcd572eb00>]\n",
      "factors: [<DiscreteFactor representing phi(Unblocked FEV1 (L):58, Small Airway Blockage 6 (%):16) at 0x7fbcd572cac0>]\n",
      "factors: [<DiscreteFactor representing phi(Unblocked FEV1 (L):58, Small Airway Blockage 7 (%):16) at 0x7fbcd572cc10>]\n",
      "factors: [<DiscreteFactor representing phi(Unblocked FEV1 (L):58, Small Airway Blockage 10 (%):16) at 0x7fbcd532b940>]\n",
      "factors: [<DiscreteFactor representing phi(Unblocked FEV1 (L):58, Small Airway Blockage 14 (%):16) at 0x7fbcd5328310>]\n",
      "factors: [<DiscreteFactor representing phi(Unblocked FEV1 (L):58, Small Airway Blockage 2 (%):16) at 0x7fbcd572ef50>]\n",
      "factors: [<DiscreteFactor representing phi(Unblocked FEV1 (L):58, Small Airway Blockage 15 (%):16) at 0x7fbcd5328130>]\n",
      "factors: [<DiscreteFactor representing phi(Unblocked FEV1 (L):58, Small Airway Blockage 0 (%):16) at 0x7fbcd572eb60>]\n",
      "factors: [<DiscreteFactor representing phi(Unblocked FEV1 (L):58, Small Airway Blockage 1 (%):16) at 0x7fbcd572d000>]\n",
      "factors: [<DiscreteFactor representing phi(Unblocked FEV1 (L):58) at 0x7fbcc0564c70>, <DiscreteFactor representing phi(Unblocked FEV1 (L):58) at 0x7fbcc05667d0>, <DiscreteFactor representing phi(Unblocked FEV1 (L):58) at 0x7fbcc0565ba0>, <DiscreteFactor representing phi(Unblocked FEV1 (L):58) at 0x7fbcc05675b0>, <DiscreteFactor representing phi(Unblocked FEV1 (L):58) at 0x7fbcc05644f0>, <DiscreteFactor representing phi(Unblocked FEV1 (L):58) at 0x7fbcc0566710>, <DiscreteFactor representing phi(Unblocked FEV1 (L):58) at 0x7fbcc05644c0>, <DiscreteFactor representing phi(Unblocked FEV1 (L):58) at 0x7fbcc0566b60>, <DiscreteFactor representing phi(Unblocked FEV1 (L):58) at 0x7fbcc05666e0>, <DiscreteFactor representing phi(Unblocked FEV1 (L):58, Small Airway Blockage 11 (%):16) at 0x7fbcd532b490>, <DiscreteFactor representing phi(Unblocked FEV1 (L):58, Small Airway Blockage 8 (%):16) at 0x7fbcd572cf70>, <DiscreteFactor representing phi(Unblocked FEV1 (L):58, Small Airway Blockage 12 (%):16) at 0x7fbcd5328040>, <DiscreteFactor representing phi(Unblocked FEV1 (L):58, Small Airway Blockage 4 (%):16) at 0x7fbcd572ca60>, <DiscreteFactor representing phi(Unblocked FEV1 (L):58, Small Airway Blockage 5 (%):16) at 0x7fbcd572ce50>, <DiscreteFactor representing phi(Unblocked FEV1 (L):58) at 0x7fbcc0567820>, <DiscreteFactor representing phi(Unblocked FEV1 (L):58) at 0x7fbcc0566ef0>, <DiscreteFactor representing phi(Unblocked FEV1 (L):58, Small Airway Blockage 13 (%):16) at 0x7fbcd532b4f0>, <DiscreteFactor representing phi(Unblocked FEV1 (L):58) at 0x7fbcc0564c10>]\n",
      "factors: [<DiscreteFactor representing phi(Small Airway Blockage 11 (%):16, Small Airway Blockage 8 (%):16, Small Airway Blockage 12 (%):16, Small Airway Blockage 4 (%):16, Small Airway Blockage 5 (%):16, Small Airway Blockage 13 (%):16) at 0x7fbcd5329120>]\n",
      "factors: [<DiscreteFactor representing phi(Small Airway Blockage 11 (%):16, Small Airway Blockage 8 (%):16, Small Airway Blockage 12 (%):16, Small Airway Blockage 4 (%):16, Small Airway Blockage 13 (%):16) at 0x7fbcc05675b0>]\n",
      "factors: [<DiscreteFactor representing phi(Small Airway Blockage 11 (%):16, Small Airway Blockage 8 (%):16, Small Airway Blockage 12 (%):16, Small Airway Blockage 13 (%):16) at 0x7fbcd532b4c0>]\n",
      "factors: [<DiscreteFactor representing phi(Small Airway Blockage 11 (%):16, Small Airway Blockage 8 (%):16, Small Airway Blockage 12 (%):16) at 0x7fbcc0566710>]\n",
      "factors: [<DiscreteFactor representing phi(Small Airway Blockage 11 (%):16, Small Airway Blockage 8 (%):16) at 0x7fbcd532bb80>]\n",
      "Prepare vars to be returned\n",
      "node: Small Airway Blockage 11 (%)\n",
      "Query took 29.545002460479736s\n",
      "SAB: 12\n",
      "Preprocess query\n",
      "Run query\n",
      "Query var to list\n",
      "Find nodes with query vars\n",
      "Conversion to set of tuple\n",
      "Compute clique potentials\n",
      "Variable elimination marginalize\n"
     ]
    },
    {
     "data": {
      "application/vnd.jupyter.widget-view+json": {
       "model_id": "caceb50e88b64216911859f57d4180ae",
       "version_major": 2,
       "version_minor": 0
      },
      "text/plain": [
       "  0%|          | 0/18 [00:00<?, ?it/s]"
      ]
     },
     "metadata": {},
     "output_type": "display_data"
    },
    {
     "name": "stdout",
     "output_type": "stream",
     "text": [
      "factors: [<DiscreteFactor representing phi(Unblocked FEV1 (L):58, Small Airway Blockage 16 (%):16) at 0x7fbcd5328640>]\n",
      "factors: [<DiscreteFactor representing phi(Unblocked FEV1 (L):58, Small Airway Blockage 9 (%):16) at 0x7fbcd532af80>]\n",
      "factors: [<DiscreteFactor representing phi(Unblocked FEV1 (L):58, Small Airway Blockage 17 (%):16) at 0x7fbcd532baf0>]\n",
      "factors: [<DiscreteFactor representing phi(Unblocked FEV1 (L):58, Small Airway Blockage 3 (%):16) at 0x7fbcc04d5210>]\n",
      "factors: [<DiscreteFactor representing phi(Unblocked FEV1 (L):58, Small Airway Blockage 6 (%):16) at 0x7fbcc04d4940>]\n",
      "factors: [<DiscreteFactor representing phi(Unblocked FEV1 (L):58, Small Airway Blockage 11 (%):16) at 0x7fbcd532a8f0>]\n",
      "factors: [<DiscreteFactor representing phi(Unblocked FEV1 (L):58, Small Airway Blockage 7 (%):16) at 0x7fbcc04d4a60>]\n",
      "factors: [<DiscreteFactor representing phi(Unblocked FEV1 (L):58, Small Airway Blockage 10 (%):16) at 0x7fbcd5328610>]\n",
      "factors: [<DiscreteFactor representing phi(Unblocked FEV1 (L):58, Small Airway Blockage 14 (%):16) at 0x7fbcd5329750>]\n",
      "factors: [<DiscreteFactor representing phi(Unblocked FEV1 (L):58, Small Airway Blockage 2 (%):16) at 0x7fbcc04d5090>]\n",
      "factors: [<DiscreteFactor representing phi(Unblocked FEV1 (L):58, Small Airway Blockage 15 (%):16) at 0x7fbcd5329690>]\n",
      "factors: [<DiscreteFactor representing phi(Unblocked FEV1 (L):58, Small Airway Blockage 0 (%):16) at 0x7fbcc04d5540>]\n",
      "factors: [<DiscreteFactor representing phi(Unblocked FEV1 (L):58, Small Airway Blockage 1 (%):16) at 0x7fbcc04d4d00>]\n",
      "factors: [<DiscreteFactor representing phi(Unblocked FEV1 (L):58) at 0x7fbcc0566e30>, <DiscreteFactor representing phi(Unblocked FEV1 (L):58) at 0x7fbcc0566b30>, <DiscreteFactor representing phi(Unblocked FEV1 (L):58) at 0x7fbcc0566cb0>, <DiscreteFactor representing phi(Unblocked FEV1 (L):58) at 0x7fbcc0565d20>, <DiscreteFactor representing phi(Unblocked FEV1 (L):58) at 0x7fbcc0564160>, <DiscreteFactor representing phi(Unblocked FEV1 (L):58) at 0x7fbcc0565cc0>, <DiscreteFactor representing phi(Unblocked FEV1 (L):58) at 0x7fbcc0566710>, <DiscreteFactor representing phi(Unblocked FEV1 (L):58) at 0x7fbcc0564310>, <DiscreteFactor representing phi(Unblocked FEV1 (L):58) at 0x7fbcc0565a20>, <DiscreteFactor representing phi(Unblocked FEV1 (L):58, Small Airway Blockage 8 (%):16) at 0x7fbcc04d4430>, <DiscreteFactor representing phi(Unblocked FEV1 (L):58) at 0x7fbcc0566830>, <DiscreteFactor representing phi(Unblocked FEV1 (L):58, Small Airway Blockage 12 (%):16) at 0x7fbcd532b6a0>, <DiscreteFactor representing phi(Unblocked FEV1 (L):58, Small Airway Blockage 4 (%):16) at 0x7fbcc04d4100>, <DiscreteFactor representing phi(Unblocked FEV1 (L):58, Small Airway Blockage 5 (%):16) at 0x7fbcc04d6d40>, <DiscreteFactor representing phi(Unblocked FEV1 (L):58) at 0x7fbcc0566f20>, <DiscreteFactor representing phi(Unblocked FEV1 (L):58) at 0x7fbcc0565a80>, <DiscreteFactor representing phi(Unblocked FEV1 (L):58, Small Airway Blockage 13 (%):16) at 0x7fbcd532aef0>, <DiscreteFactor representing phi(Unblocked FEV1 (L):58) at 0x7fbcc0566f80>]\n",
      "factors: [<DiscreteFactor representing phi(Small Airway Blockage 8 (%):16, Small Airway Blockage 12 (%):16, Small Airway Blockage 4 (%):16, Small Airway Blockage 5 (%):16, Small Airway Blockage 13 (%):16) at 0x7fbcd5328040>]\n",
      "factors: [<DiscreteFactor representing phi(Small Airway Blockage 8 (%):16, Small Airway Blockage 12 (%):16, Small Airway Blockage 4 (%):16, Small Airway Blockage 13 (%):16) at 0x7fbcc0564160>]\n",
      "factors: [<DiscreteFactor representing phi(Small Airway Blockage 8 (%):16, Small Airway Blockage 12 (%):16, Small Airway Blockage 13 (%):16) at 0x7fbcc04d6d40>]\n",
      "factors: [<DiscreteFactor representing phi(Small Airway Blockage 8 (%):16, Small Airway Blockage 12 (%):16) at 0x7fbcc04d4a60>]\n",
      "Prepare vars to be returned\n",
      "node: Small Airway Blockage 12 (%)\n",
      "Query took 1.1682498455047607s\n",
      "SAB: 13\n",
      "Preprocess query\n",
      "Run query\n",
      "Query var to list\n",
      "Find nodes with query vars\n",
      "Conversion to set of tuple\n",
      "Compute clique potentials\n",
      "Variable elimination marginalize\n"
     ]
    },
    {
     "data": {
      "application/vnd.jupyter.widget-view+json": {
       "model_id": "f08035f63b0943fcb701e8f47bd81a9c",
       "version_major": 2,
       "version_minor": 0
      },
      "text/plain": [
       "  0%|          | 0/18 [00:00<?, ?it/s]"
      ]
     },
     "metadata": {},
     "output_type": "display_data"
    },
    {
     "name": "stdout",
     "output_type": "stream",
     "text": [
      "factors: [<DiscreteFactor representing phi(Unblocked FEV1 (L):58, Small Airway Blockage 16 (%):16) at 0x7fbcc04d5a50>]\n",
      "factors: [<DiscreteFactor representing phi(Unblocked FEV1 (L):58, Small Airway Blockage 9 (%):16) at 0x7fbcd5329990>]\n",
      "factors: [<DiscreteFactor representing phi(Unblocked FEV1 (L):58, Small Airway Blockage 17 (%):16) at 0x7fbcc04d5750>]\n",
      "factors: [<DiscreteFactor representing phi(Unblocked FEV1 (L):58, Small Airway Blockage 3 (%):16) at 0x7fbcd532a230>]\n",
      "factors: [<DiscreteFactor representing phi(Unblocked FEV1 (L):58, Small Airway Blockage 6 (%):16) at 0x7fbcd532aa10>]\n",
      "factors: [<DiscreteFactor representing phi(Unblocked FEV1 (L):58, Small Airway Blockage 7 (%):16) at 0x7fbcd5328f40>]\n",
      "factors: [<DiscreteFactor representing phi(Unblocked FEV1 (L):58, Small Airway Blockage 10 (%):16) at 0x7fbcc04d51b0>]\n",
      "factors: [<DiscreteFactor representing phi(Unblocked FEV1 (L):58, Small Airway Blockage 14 (%):16) at 0x7fbcc04d6110>]\n",
      "factors: [<DiscreteFactor representing phi(Unblocked FEV1 (L):58, Small Airway Blockage 2 (%):16) at 0x7fbcd532b940>]\n",
      "factors: [<DiscreteFactor representing phi(Unblocked FEV1 (L):58, Small Airway Blockage 15 (%):16) at 0x7fbcc04d5a80>]\n",
      "factors: [<DiscreteFactor representing phi(Unblocked FEV1 (L):58, Small Airway Blockage 0 (%):16) at 0x7fbcd532a9e0>]\n",
      "factors: [<DiscreteFactor representing phi(Unblocked FEV1 (L):58, Small Airway Blockage 1 (%):16) at 0x7fbcd532a260>]\n",
      "factors: [<DiscreteFactor representing phi(Unblocked FEV1 (L):58) at 0x7fbcc0565a20>, <DiscreteFactor representing phi(Unblocked FEV1 (L):58) at 0x7fbcc0566d70>, <DiscreteFactor representing phi(Unblocked FEV1 (L):58) at 0x7fbcc0565c00>, <DiscreteFactor representing phi(Unblocked FEV1 (L):58) at 0x7fbcc0566350>, <DiscreteFactor representing phi(Unblocked FEV1 (L):58) at 0x7fbcc0565810>, <DiscreteFactor representing phi(Unblocked FEV1 (L):58) at 0x7fbcc0566410>, <DiscreteFactor representing phi(Unblocked FEV1 (L):58) at 0x7fbcc0566290>, <DiscreteFactor representing phi(Unblocked FEV1 (L):58) at 0x7fbcc0567040>, <DiscreteFactor representing phi(Unblocked FEV1 (L):58) at 0x7fbcc0564460>, <DiscreteFactor representing phi(Unblocked FEV1 (L):58, Small Airway Blockage 11 (%):16) at 0x7fbcc04d6410>, <DiscreteFactor representing phi(Unblocked FEV1 (L):58, Small Airway Blockage 8 (%):16) at 0x7fbcd5328af0>, <DiscreteFactor representing phi(Unblocked FEV1 (L):58, Small Airway Blockage 12 (%):16) at 0x7fbcc04d6f80>, <DiscreteFactor representing phi(Unblocked FEV1 (L):58, Small Airway Blockage 4 (%):16) at 0x7fbcd532b4f0>, <DiscreteFactor representing phi(Unblocked FEV1 (L):58, Small Airway Blockage 5 (%):16) at 0x7fbcd532b1f0>, <DiscreteFactor representing phi(Unblocked FEV1 (L):58) at 0x7fbcc0564af0>, <DiscreteFactor representing phi(Unblocked FEV1 (L):58) at 0x7fbcc05671c0>, <DiscreteFactor representing phi(Unblocked FEV1 (L):58, Small Airway Blockage 13 (%):16) at 0x7fbcc04d43d0>, <DiscreteFactor representing phi(Unblocked FEV1 (L):58) at 0x7fbcc0566650>]\n",
      "factors: [<DiscreteFactor representing phi(Small Airway Blockage 11 (%):16, Small Airway Blockage 8 (%):16, Small Airway Blockage 12 (%):16, Small Airway Blockage 4 (%):16, Small Airway Blockage 5 (%):16, Small Airway Blockage 13 (%):16) at 0x7fbcc0566b60>]\n",
      "factors: [<DiscreteFactor representing phi(Small Airway Blockage 11 (%):16, Small Airway Blockage 8 (%):16, Small Airway Blockage 12 (%):16, Small Airway Blockage 4 (%):16, Small Airway Blockage 13 (%):16) at 0x7fbcc0566410>]\n",
      "factors: [<DiscreteFactor representing phi(Small Airway Blockage 11 (%):16, Small Airway Blockage 8 (%):16, Small Airway Blockage 12 (%):16, Small Airway Blockage 13 (%):16) at 0x7fbcc0566290>]\n",
      "factors: [<DiscreteFactor representing phi(Small Airway Blockage 8 (%):16, Small Airway Blockage 12 (%):16, Small Airway Blockage 13 (%):16) at 0x7fbcc0565a20>]\n",
      "factors: [<DiscreteFactor representing phi(Small Airway Blockage 8 (%):16, Small Airway Blockage 13 (%):16) at 0x7fbcc0565720>]\n",
      "Prepare vars to be returned\n",
      "node: Small Airway Blockage 13 (%)\n",
      "Query took 31.398579835891724s\n",
      "SAB: 14\n",
      "Preprocess query\n",
      "Run query\n",
      "Query var to list\n",
      "Find nodes with query vars\n",
      "Conversion to set of tuple\n",
      "Compute clique potentials\n",
      "Variable elimination marginalize\n"
     ]
    },
    {
     "data": {
      "application/vnd.jupyter.widget-view+json": {
       "model_id": "ac09e2735f3a4f76a4549fd1cb8eb66d",
       "version_major": 2,
       "version_minor": 0
      },
      "text/plain": [
       "  0%|          | 0/18 [00:00<?, ?it/s]"
      ]
     },
     "metadata": {},
     "output_type": "display_data"
    },
    {
     "name": "stdout",
     "output_type": "stream",
     "text": [
      "factors: [<DiscreteFactor representing phi(Unblocked FEV1 (L):58, Small Airway Blockage 16 (%):16) at 0x7fbcc05665c0>]\n",
      "factors: [<DiscreteFactor representing phi(Unblocked FEV1 (L):58, Small Airway Blockage 9 (%):16) at 0x7fbcc04d59c0>]\n",
      "factors: [<DiscreteFactor representing phi(Unblocked FEV1 (L):58, Small Airway Blockage 17 (%):16) at 0x7fbcc0566470>]\n",
      "factors: [<DiscreteFactor representing phi(Unblocked FEV1 (L):58, Small Airway Blockage 3 (%):16) at 0x7fbcc04d4a90>]\n",
      "factors: [<DiscreteFactor representing phi(Unblocked FEV1 (L):58, Small Airway Blockage 6 (%):16) at 0x7fbcc04d55a0>]\n",
      "factors: [<DiscreteFactor representing phi(Unblocked FEV1 (L):58, Small Airway Blockage 11 (%):16) at 0x7fbcc04d4e50>]\n",
      "factors: [<DiscreteFactor representing phi(Unblocked FEV1 (L):58, Small Airway Blockage 7 (%):16) at 0x7fbcc04d4340>]\n",
      "factors: [<DiscreteFactor representing phi(Unblocked FEV1 (L):58, Small Airway Blockage 10 (%):16) at 0x7fbcc04d4df0>]\n",
      "factors: [<DiscreteFactor representing phi(Unblocked FEV1 (L):58, Small Airway Blockage 2 (%):16) at 0x7fbcc04d4e20>]\n",
      "factors: [<DiscreteFactor representing phi(Unblocked FEV1 (L):58, Small Airway Blockage 15 (%):16) at 0x7fbcc0565ba0>]\n",
      "factors: [<DiscreteFactor representing phi(Unblocked FEV1 (L):58, Small Airway Blockage 0 (%):16) at 0x7fbcc04d6500>]\n",
      "factors: [<DiscreteFactor representing phi(Unblocked FEV1 (L):58, Small Airway Blockage 1 (%):16) at 0x7fbcc04d6b60>]\n",
      "factors: [<DiscreteFactor representing phi(Unblocked FEV1 (L):58) at 0x7fbcc0565bd0>, <DiscreteFactor representing phi(Unblocked FEV1 (L):58) at 0x7fbcc05643d0>, <DiscreteFactor representing phi(Unblocked FEV1 (L):58) at 0x7fbcc0566b60>, <DiscreteFactor representing phi(Unblocked FEV1 (L):58) at 0x7fbcc0565120>, <DiscreteFactor representing phi(Unblocked FEV1 (L):58) at 0x7fbcc0565570>, <DiscreteFactor representing phi(Unblocked FEV1 (L):58) at 0x7fbcc05666b0>, <DiscreteFactor representing phi(Unblocked FEV1 (L):58) at 0x7fbcc0565a50>, <DiscreteFactor representing phi(Unblocked FEV1 (L):58) at 0x7fbcc0565810>, <DiscreteFactor representing phi(Unblocked FEV1 (L):58, Small Airway Blockage 8 (%):16) at 0x7fbcc04d43d0>, <DiscreteFactor representing phi(Unblocked FEV1 (L):58) at 0x7fbcc0566b30>, <DiscreteFactor representing phi(Unblocked FEV1 (L):58, Small Airway Blockage 12 (%):16) at 0x7fbcc04d6ce0>, <DiscreteFactor representing phi(Unblocked FEV1 (L):58, Small Airway Blockage 4 (%):16) at 0x7fbcc04d44c0>, <DiscreteFactor representing phi(Unblocked FEV1 (L):58, Small Airway Blockage 5 (%):16) at 0x7fbcc04d68c0>, <DiscreteFactor representing phi(Unblocked FEV1 (L):58, Small Airway Blockage 14 (%):16) at 0x7fbcc04d5810>, <DiscreteFactor representing phi(Unblocked FEV1 (L):58) at 0x7fbcc0564f40>, <DiscreteFactor representing phi(Unblocked FEV1 (L):58) at 0x7fbcc0564160>, <DiscreteFactor representing phi(Unblocked FEV1 (L):58, Small Airway Blockage 13 (%):16) at 0x7fbcc04d50f0>, <DiscreteFactor representing phi(Unblocked FEV1 (L):58) at 0x7fbcc0564d00>]\n",
      "factors: [<DiscreteFactor representing phi(Small Airway Blockage 8 (%):16, Small Airway Blockage 12 (%):16, Small Airway Blockage 4 (%):16, Small Airway Blockage 5 (%):16, Small Airway Blockage 14 (%):16, Small Airway Blockage 13 (%):16) at 0x7fbcc0567430>]\n",
      "factors: [<DiscreteFactor representing phi(Small Airway Blockage 8 (%):16, Small Airway Blockage 12 (%):16, Small Airway Blockage 4 (%):16, Small Airway Blockage 14 (%):16, Small Airway Blockage 13 (%):16) at 0x7fbcc05666b0>]\n",
      "factors: [<DiscreteFactor representing phi(Small Airway Blockage 8 (%):16, Small Airway Blockage 12 (%):16, Small Airway Blockage 14 (%):16, Small Airway Blockage 13 (%):16) at 0x7fbcc0566b60>]\n",
      "factors: [<DiscreteFactor representing phi(Small Airway Blockage 8 (%):16, Small Airway Blockage 12 (%):16, Small Airway Blockage 14 (%):16) at 0x7fbcc04d4a90>]\n",
      "factors: [<DiscreteFactor representing phi(Small Airway Blockage 8 (%):16, Small Airway Blockage 14 (%):16) at 0x7fbcc04d4340>]\n",
      "Prepare vars to be returned\n",
      "node: Small Airway Blockage 14 (%)\n",
      "Query took 31.433629035949707s\n",
      "SAB: 15\n",
      "Preprocess query\n",
      "Run query\n",
      "Query var to list\n",
      "Find nodes with query vars\n",
      "Conversion to set of tuple\n",
      "Compute clique potentials\n",
      "Variable elimination marginalize\n"
     ]
    },
    {
     "data": {
      "application/vnd.jupyter.widget-view+json": {
       "model_id": "30c07b437c7645e1928e73064227eed0",
       "version_major": 2,
       "version_minor": 0
      },
      "text/plain": [
       "  0%|          | 0/18 [00:00<?, ?it/s]"
      ]
     },
     "metadata": {},
     "output_type": "display_data"
    },
    {
     "name": "stdout",
     "output_type": "stream",
     "text": [
      "factors: [<DiscreteFactor representing phi(Unblocked FEV1 (L):58, Small Airway Blockage 16 (%):16) at 0x7fbcc0566620>]\n",
      "factors: [<DiscreteFactor representing phi(Unblocked FEV1 (L):58, Small Airway Blockage 9 (%):16) at 0x7fbcc04d5810>]\n",
      "factors: [<DiscreteFactor representing phi(Unblocked FEV1 (L):58, Small Airway Blockage 17 (%):16) at 0x7fbcc0565450>]\n",
      "factors: [<DiscreteFactor representing phi(Unblocked FEV1 (L):58, Small Airway Blockage 3 (%):16) at 0x7fbcc04d62c0>]\n",
      "factors: [<DiscreteFactor representing phi(Unblocked FEV1 (L):58, Small Airway Blockage 6 (%):16) at 0x7fbcc04d6110>]\n",
      "factors: [<DiscreteFactor representing phi(Unblocked FEV1 (L):58, Small Airway Blockage 11 (%):16) at 0x7fbcc0565480>]\n",
      "factors: [<DiscreteFactor representing phi(Unblocked FEV1 (L):58, Small Airway Blockage 7 (%):16) at 0x7fbcc04d65f0>]\n",
      "factors: [<DiscreteFactor representing phi(Unblocked FEV1 (L):58, Small Airway Blockage 10 (%):16) at 0x7fbcc04d6d10>]\n",
      "factors: [<DiscreteFactor representing phi(Unblocked FEV1 (L):58, Small Airway Blockage 14 (%):16) at 0x7fbcc05642e0>]\n",
      "factors: [<DiscreteFactor representing phi(Unblocked FEV1 (L):58, Small Airway Blockage 2 (%):16) at 0x7fbcc04d51b0>]\n",
      "factors: [<DiscreteFactor representing phi(Unblocked FEV1 (L):58, Small Airway Blockage 0 (%):16) at 0x7fbcc04d6410>]\n",
      "factors: [<DiscreteFactor representing phi(Unblocked FEV1 (L):58, Small Airway Blockage 1 (%):16) at 0x7fbcc04d6f80>]\n",
      "factors: [<DiscreteFactor representing phi(Unblocked FEV1 (L):58) at 0x7fbcc0565b40>, <DiscreteFactor representing phi(Unblocked FEV1 (L):58) at 0x7fbcc0567670>, <DiscreteFactor representing phi(Unblocked FEV1 (L):58) at 0x7fbcc0567f10>, <DiscreteFactor representing phi(Unblocked FEV1 (L):58) at 0x7fbcc0564b80>, <DiscreteFactor representing phi(Unblocked FEV1 (L):58) at 0x7fbcc0567f70>, <DiscreteFactor representing phi(Unblocked FEV1 (L):58) at 0x7fbcc0565000>, <DiscreteFactor representing phi(Unblocked FEV1 (L):58) at 0x7fbcc05652d0>, <DiscreteFactor representing phi(Unblocked FEV1 (L):58) at 0x7fbcc05655d0>, <DiscreteFactor representing phi(Unblocked FEV1 (L):58, Small Airway Blockage 8 (%):16) at 0x7fbcc04d43a0>, <DiscreteFactor representing phi(Unblocked FEV1 (L):58) at 0x7fbcc0566680>, <DiscreteFactor representing phi(Unblocked FEV1 (L):58, Small Airway Blockage 12 (%):16) at 0x7fbcc05672e0>, <DiscreteFactor representing phi(Unblocked FEV1 (L):58, Small Airway Blockage 4 (%):16) at 0x7fbcc04d5a50>, <DiscreteFactor representing phi(Unblocked FEV1 (L):58, Small Airway Blockage 5 (%):16) at 0x7fbcc04d4340>, <DiscreteFactor representing phi(Unblocked FEV1 (L):58) at 0x7fbcc0567c70>, <DiscreteFactor representing phi(Unblocked FEV1 (L):58) at 0x7fbcc0564eb0>, <DiscreteFactor representing phi(Unblocked FEV1 (L):58, Small Airway Blockage 13 (%):16) at 0x7fbcc0565570>, <DiscreteFactor representing phi(Unblocked FEV1 (L):58, Small Airway Blockage 15 (%):16) at 0x7fbcc0564160>, <DiscreteFactor representing phi(Unblocked FEV1 (L):58) at 0x7fbcc0567bb0>]\n",
      "factors: [<DiscreteFactor representing phi(Small Airway Blockage 8 (%):16, Small Airway Blockage 12 (%):16, Small Airway Blockage 4 (%):16, Small Airway Blockage 5 (%):16, Small Airway Blockage 13 (%):16, Small Airway Blockage 15 (%):16) at 0x7fbcc0566aa0>]\n",
      "factors: [<DiscreteFactor representing phi(Small Airway Blockage 8 (%):16, Small Airway Blockage 12 (%):16, Small Airway Blockage 4 (%):16, Small Airway Blockage 13 (%):16, Small Airway Blockage 15 (%):16) at 0x7fbcc0565000>]\n",
      "factors: [<DiscreteFactor representing phi(Small Airway Blockage 8 (%):16, Small Airway Blockage 12 (%):16, Small Airway Blockage 13 (%):16, Small Airway Blockage 15 (%):16) at 0x7fbcc05652d0>]\n",
      "factors: [<DiscreteFactor representing phi(Small Airway Blockage 8 (%):16, Small Airway Blockage 12 (%):16, Small Airway Blockage 15 (%):16) at 0x7fbcc04d5810>]\n",
      "factors: [<DiscreteFactor representing phi(Small Airway Blockage 8 (%):16, Small Airway Blockage 15 (%):16) at 0x7fbcc0565570>]\n",
      "Prepare vars to be returned\n",
      "node: Small Airway Blockage 15 (%)\n",
      "Query took 31.516167879104614s\n",
      "SAB: 16\n",
      "Preprocess query\n",
      "Run query\n",
      "Query var to list\n",
      "Find nodes with query vars\n",
      "Conversion to set of tuple\n",
      "Compute clique potentials\n",
      "Variable elimination marginalize\n"
     ]
    },
    {
     "data": {
      "application/vnd.jupyter.widget-view+json": {
       "model_id": "a36c671202ef4a58a71b43d715568c84",
       "version_major": 2,
       "version_minor": 0
      },
      "text/plain": [
       "  0%|          | 0/18 [00:00<?, ?it/s]"
      ]
     },
     "metadata": {},
     "output_type": "display_data"
    },
    {
     "name": "stdout",
     "output_type": "stream",
     "text": [
      "factors: [<DiscreteFactor representing phi(Unblocked FEV1 (L):58, Small Airway Blockage 9 (%):16) at 0x7fbcc04d51e0>]\n",
      "factors: [<DiscreteFactor representing phi(Unblocked FEV1 (L):58, Small Airway Blockage 17 (%):16) at 0x7fbcc04d6410>]\n",
      "factors: [<DiscreteFactor representing phi(Unblocked FEV1 (L):58, Small Airway Blockage 3 (%):16) at 0x7fbcc04d5540>]\n",
      "factors: [<DiscreteFactor representing phi(Unblocked FEV1 (L):58, Small Airway Blockage 6 (%):16) at 0x7fbcc04d6620>]\n",
      "factors: [<DiscreteFactor representing phi(Unblocked FEV1 (L):58, Small Airway Blockage 11 (%):16) at 0x7fbcc04d40d0>]\n",
      "factors: [<DiscreteFactor representing phi(Unblocked FEV1 (L):58, Small Airway Blockage 7 (%):16) at 0x7fbcc04d69e0>]\n",
      "factors: [<DiscreteFactor representing phi(Unblocked FEV1 (L):58, Small Airway Blockage 10 (%):16) at 0x7fbcc04d5210>]\n",
      "factors: [<DiscreteFactor representing phi(Unblocked FEV1 (L):58, Small Airway Blockage 14 (%):16) at 0x7fbcc04d4bb0>]\n",
      "factors: [<DiscreteFactor representing phi(Unblocked FEV1 (L):58, Small Airway Blockage 2 (%):16) at 0x7fbcc04d5720>]\n",
      "factors: [<DiscreteFactor representing phi(Unblocked FEV1 (L):58, Small Airway Blockage 15 (%):16) at 0x7fbcc04d4ac0>]\n",
      "factors: [<DiscreteFactor representing phi(Unblocked FEV1 (L):58, Small Airway Blockage 0 (%):16) at 0x7fbcc04d5b40>]\n",
      "factors: [<DiscreteFactor representing phi(Unblocked FEV1 (L):58, Small Airway Blockage 1 (%):16) at 0x7fbcc04d4d00>]\n",
      "factors: [<DiscreteFactor representing phi(Unblocked FEV1 (L):58) at 0x7fbcc0567f10>, <DiscreteFactor representing phi(Unblocked FEV1 (L):58) at 0x7fbcc0564940>, <DiscreteFactor representing phi(Unblocked FEV1 (L):58) at 0x7fbcc05672e0>, <DiscreteFactor representing phi(Unblocked FEV1 (L):58) at 0x7fbcc0567d30>, <DiscreteFactor representing phi(Unblocked FEV1 (L):58) at 0x7fbcc0565480>, <DiscreteFactor representing phi(Unblocked FEV1 (L):58) at 0x7fbcc0565450>, <DiscreteFactor representing phi(Unblocked FEV1 (L):58) at 0x7fbcc0564b80>, <DiscreteFactor representing phi(Unblocked FEV1 (L):58) at 0x7fbcc0565bd0>, <DiscreteFactor representing phi(Unblocked FEV1 (L):58, Small Airway Blockage 16 (%):16) at 0x7fbcc04d6b30>, <DiscreteFactor representing phi(Unblocked FEV1 (L):58, Small Airway Blockage 8 (%):16) at 0x7fbcc04d6ec0>, <DiscreteFactor representing phi(Unblocked FEV1 (L):58) at 0x7fbcc0567a90>, <DiscreteFactor representing phi(Unblocked FEV1 (L):58, Small Airway Blockage 12 (%):16) at 0x7fbcc04d5bd0>, <DiscreteFactor representing phi(Unblocked FEV1 (L):58, Small Airway Blockage 4 (%):16) at 0x7fbcc04d6530>, <DiscreteFactor representing phi(Unblocked FEV1 (L):58, Small Airway Blockage 5 (%):16) at 0x7fbcc04d4520>, <DiscreteFactor representing phi(Unblocked FEV1 (L):58) at 0x7fbcc0567eb0>, <DiscreteFactor representing phi(Unblocked FEV1 (L):58) at 0x7fbcc0564160>, <DiscreteFactor representing phi(Unblocked FEV1 (L):58, Small Airway Blockage 13 (%):16) at 0x7fbcc04d43d0>, <DiscreteFactor representing phi(Unblocked FEV1 (L):58) at 0x7fbcc0567dc0>]\n",
      "factors: [<DiscreteFactor representing phi(Small Airway Blockage 16 (%):16, Small Airway Blockage 8 (%):16, Small Airway Blockage 12 (%):16, Small Airway Blockage 4 (%):16, Small Airway Blockage 5 (%):16, Small Airway Blockage 13 (%):16) at 0x7fbcc0565000>]\n",
      "factors: [<DiscreteFactor representing phi(Small Airway Blockage 16 (%):16, Small Airway Blockage 8 (%):16, Small Airway Blockage 12 (%):16, Small Airway Blockage 4 (%):16, Small Airway Blockage 13 (%):16) at 0x7fbcc0565450>]\n",
      "factors: [<DiscreteFactor representing phi(Small Airway Blockage 16 (%):16, Small Airway Blockage 8 (%):16, Small Airway Blockage 12 (%):16, Small Airway Blockage 13 (%):16) at 0x7fbcc04d5540>]\n",
      "factors: [<DiscreteFactor representing phi(Small Airway Blockage 16 (%):16, Small Airway Blockage 8 (%):16, Small Airway Blockage 12 (%):16) at 0x7fbcc0567f10>]\n",
      "factors: [<DiscreteFactor representing phi(Small Airway Blockage 16 (%):16, Small Airway Blockage 8 (%):16) at 0x7fbcc04d4bb0>]\n",
      "Prepare vars to be returned\n",
      "node: Small Airway Blockage 16 (%)\n",
      "Query took 31.971431970596313s\n",
      "SAB: 17\n",
      "Preprocess query\n",
      "Run query\n",
      "Query var to list\n",
      "Find nodes with query vars\n",
      "Conversion to set of tuple\n",
      "Compute clique potentials\n",
      "Variable elimination marginalize\n"
     ]
    },
    {
     "data": {
      "application/vnd.jupyter.widget-view+json": {
       "model_id": "8a81f42591f04375b700a4474e918740",
       "version_major": 2,
       "version_minor": 0
      },
      "text/plain": [
       "  0%|          | 0/18 [00:00<?, ?it/s]"
      ]
     },
     "metadata": {},
     "output_type": "display_data"
    },
    {
     "name": "stdout",
     "output_type": "stream",
     "text": [
      "factors: [<DiscreteFactor representing phi(Unblocked FEV1 (L):58, Small Airway Blockage 16 (%):16) at 0x7fbcc04d6b30>]\n",
      "factors: [<DiscreteFactor representing phi(Unblocked FEV1 (L):58, Small Airway Blockage 9 (%):16) at 0x7fbcc04d6800>]\n",
      "factors: [<DiscreteFactor representing phi(Unblocked FEV1 (L):58, Small Airway Blockage 3 (%):16) at 0x7fbcc04d6110>]\n",
      "factors: [<DiscreteFactor representing phi(Unblocked FEV1 (L):58, Small Airway Blockage 7 (%):16) at 0x7fbcc04d59c0>]\n",
      "factors: [<DiscreteFactor representing phi(Unblocked FEV1 (L):58, Small Airway Blockage 6 (%):16) at 0x7fbcc04d5750>]\n",
      "factors: [<DiscreteFactor representing phi(Unblocked FEV1 (L):58, Small Airway Blockage 11 (%):16) at 0x7fbcc04d4e80>]\n",
      "factors: [<DiscreteFactor representing phi(Unblocked FEV1 (L):58, Small Airway Blockage 10 (%):16) at 0x7fbcc04d68f0>]\n",
      "factors: [<DiscreteFactor representing phi(Unblocked FEV1 (L):58, Small Airway Blockage 14 (%):16) at 0x7fbcc04d50c0>]\n",
      "factors: [<DiscreteFactor representing phi(Unblocked FEV1 (L):58, Small Airway Blockage 2 (%):16) at 0x7fbcc04d5a50>]\n",
      "factors: [<DiscreteFactor representing phi(Unblocked FEV1 (L):58, Small Airway Blockage 15 (%):16) at 0x7fbcc04d6680>]\n",
      "factors: [<DiscreteFactor representing phi(Unblocked FEV1 (L):58, Small Airway Blockage 0 (%):16) at 0x7fbcc04d4430>]\n",
      "factors: [<DiscreteFactor representing phi(Unblocked FEV1 (L):58, Small Airway Blockage 1 (%):16) at 0x7fbcc04d4640>]\n",
      "factors: [<DiscreteFactor representing phi(Unblocked FEV1 (L):58) at 0x7fbcc0566f50>, <DiscreteFactor representing phi(Unblocked FEV1 (L):58) at 0x7fbcc0567520>, <DiscreteFactor representing phi(Unblocked FEV1 (L):58) at 0x7fbcc05652d0>, <DiscreteFactor representing phi(Unblocked FEV1 (L):58) at 0x7fbcc05673d0>, <DiscreteFactor representing phi(Unblocked FEV1 (L):58) at 0x7fbcc0565420>, <DiscreteFactor representing phi(Unblocked FEV1 (L):58) at 0x7fbcc0565900>, <DiscreteFactor representing phi(Unblocked FEV1 (L):58) at 0x7fbcc0567dc0>, <DiscreteFactor representing phi(Unblocked FEV1 (L):58) at 0x7fbcc0565360>, <DiscreteFactor representing phi(Unblocked FEV1 (L):58, Small Airway Blockage 8 (%):16) at 0x7fbcc04d4df0>, <DiscreteFactor representing phi(Unblocked FEV1 (L):58) at 0x7fbcc0567850>, <DiscreteFactor representing phi(Unblocked FEV1 (L):58, Small Airway Blockage 12 (%):16) at 0x7fbcc04d63e0>, <DiscreteFactor representing phi(Unblocked FEV1 (L):58, Small Airway Blockage 17 (%):16) at 0x7fbcc04d4100>, <DiscreteFactor representing phi(Unblocked FEV1 (L):58, Small Airway Blockage 4 (%):16) at 0x7fbcc04d62f0>, <DiscreteFactor representing phi(Unblocked FEV1 (L):58, Small Airway Blockage 5 (%):16) at 0x7fbcc04d50f0>, <DiscreteFactor representing phi(Unblocked FEV1 (L):58) at 0x7fbcc0565b40>, <DiscreteFactor representing phi(Unblocked FEV1 (L):58) at 0x7fbcc0565a20>, <DiscreteFactor representing phi(Unblocked FEV1 (L):58, Small Airway Blockage 13 (%):16) at 0x7fbcc04d4400>, <DiscreteFactor representing phi(Unblocked FEV1 (L):58) at 0x7fbcc0567fd0>]\n",
      "factors: [<DiscreteFactor representing phi(Small Airway Blockage 8 (%):16, Small Airway Blockage 12 (%):16, Small Airway Blockage 17 (%):16, Small Airway Blockage 4 (%):16, Small Airway Blockage 5 (%):16, Small Airway Blockage 13 (%):16) at 0x7fbcc0567670>]\n",
      "factors: [<DiscreteFactor representing phi(Small Airway Blockage 8 (%):16, Small Airway Blockage 12 (%):16, Small Airway Blockage 17 (%):16, Small Airway Blockage 4 (%):16, Small Airway Blockage 13 (%):16) at 0x7fbcc0565900>]\n",
      "factors: [<DiscreteFactor representing phi(Small Airway Blockage 8 (%):16, Small Airway Blockage 12 (%):16, Small Airway Blockage 17 (%):16, Small Airway Blockage 13 (%):16) at 0x7fbcc04d6b30>]\n",
      "factors: [<DiscreteFactor representing phi(Small Airway Blockage 8 (%):16, Small Airway Blockage 12 (%):16, Small Airway Blockage 17 (%):16) at 0x7fbcc0566f50>]\n",
      "factors: [<DiscreteFactor representing phi(Small Airway Blockage 8 (%):16, Small Airway Blockage 17 (%):16) at 0x7fbcc04d6680>]\n",
      "Prepare vars to be returned\n",
      "node: Small Airway Blockage 17 (%)\n",
      "Query took 31.36305594444275s\n",
      "ID:  128\n",
      "*** Building the longitudinal model with LD as shared variable across time ***\n",
      "Defining gaussian prior with mu = 4.34, sigma = 0.4\n",
      "Run inference queries\n",
      "Preprocess query\n",
      "Run query\n",
      "Query var to list\n",
      "Find nodes with query vars\n",
      "Conversion to set of tuple\n",
      "Compute clique potentials\n",
      "Variable elimination marginalize\n"
     ]
    },
    {
     "data": {
      "application/vnd.jupyter.widget-view+json": {
       "model_id": "ab7f841ae99243729f499b2e1d72ddbd",
       "version_major": 2,
       "version_minor": 0
      },
      "text/plain": [
       "  0%|          | 0/18 [00:00<?, ?it/s]"
      ]
     },
     "metadata": {},
     "output_type": "display_data"
    },
    {
     "name": "stdout",
     "output_type": "stream",
     "text": [
      "factors: [<DiscreteFactor representing phi(Unblocked FEV1 (L):58, Small Airway Blockage 16 (%):16) at 0x7fbc709d0250>]\n",
      "factors: [<DiscreteFactor representing phi(Unblocked FEV1 (L):58, Small Airway Blockage 9 (%):16) at 0x7fbc709d0280>]\n",
      "factors: [<DiscreteFactor representing phi(Unblocked FEV1 (L):58, Small Airway Blockage 17 (%):16) at 0x7fbc709d0400>]\n",
      "factors: [<DiscreteFactor representing phi(Unblocked FEV1 (L):58, Small Airway Blockage 3 (%):16) at 0x7fbc709d00a0>]\n",
      "factors: [<DiscreteFactor representing phi(Unblocked FEV1 (L):58, Small Airway Blockage 6 (%):16) at 0x7fbc709d02e0>]\n",
      "factors: [<DiscreteFactor representing phi(Unblocked FEV1 (L):58, Small Airway Blockage 11 (%):16) at 0x7fbc709d03a0>]\n",
      "factors: [<DiscreteFactor representing phi(Unblocked FEV1 (L):58, Small Airway Blockage 7 (%):16) at 0x7fbc709d0310>]\n",
      "factors: [<DiscreteFactor representing phi(Unblocked FEV1 (L):58, Small Airway Blockage 10 (%):16) at 0x7fbc709d0370>]\n",
      "factors: [<DiscreteFactor representing phi(Unblocked FEV1 (L):58, Small Airway Blockage 14 (%):16) at 0x7fbc709d03d0>]\n",
      "factors: [<DiscreteFactor representing phi(Unblocked FEV1 (L):58, Small Airway Blockage 2 (%):16) at 0x7fbc709d00d0>]\n",
      "factors: [<DiscreteFactor representing phi(Unblocked FEV1 (L):58, Small Airway Blockage 15 (%):16) at 0x7fbc709d0220>]\n",
      "factors: [<DiscreteFactor representing phi(Unblocked FEV1 (L):58, Small Airway Blockage 0 (%):16) at 0x7fbcc0dcaaa0>]\n",
      "factors: [<DiscreteFactor representing phi(Unblocked FEV1 (L):58, Small Airway Blockage 1 (%):16) at 0x7fbcc0dcbe80>]\n",
      "factors: [<DiscreteFactor representing phi(Unblocked FEV1 (L):58, Small Airway Blockage 5 (%):16) at 0x7fbc709d0100>]\n",
      "factors: [<DiscreteFactor representing phi(Unblocked FEV1 (L):58, Small Airway Blockage 4 (%):16) at 0x7fbc709d02b0>]\n",
      "factors: [<DiscreteFactor representing phi(Unblocked FEV1 (L):58, Small Airway Blockage 13 (%):16) at 0x7fbc709d0340>]\n",
      "factors: [<DiscreteFactor representing phi(Unblocked FEV1 (L):58, Small Airway Blockage 12 (%):16) at 0x7fbc709d0430>]\n",
      "factors: [<DiscreteFactor representing phi(Unblocked FEV1 (L):58, Small Airway Blockage 8 (%):16) at 0x7fbc709d01f0>]\n",
      "Prepare vars to be returned\n",
      "node: Unblocked FEV1 (L)\n",
      "node: Lung Damage (%)\n",
      "node: Healthy FEV1 (L)\n",
      "Query took 0.3870978355407715s\n",
      "Run SAB inference queries\n",
      "SAB: 0\n",
      "Preprocess query\n",
      "Run query\n",
      "Query var to list\n",
      "Find nodes with query vars\n",
      "Conversion to set of tuple\n",
      "Compute clique potentials\n",
      "Variable elimination marginalize\n"
     ]
    },
    {
     "data": {
      "application/vnd.jupyter.widget-view+json": {
       "model_id": "fafdab7979274610929fba7939794e6a",
       "version_major": 2,
       "version_minor": 0
      },
      "text/plain": [
       "  0%|          | 0/18 [00:00<?, ?it/s]"
      ]
     },
     "metadata": {},
     "output_type": "display_data"
    },
    {
     "name": "stdout",
     "output_type": "stream",
     "text": [
      "factors: [<DiscreteFactor representing phi(Unblocked FEV1 (L):58, Small Airway Blockage 16 (%):16) at 0x7fbc709d0640>]\n",
      "factors: [<DiscreteFactor representing phi(Unblocked FEV1 (L):58, Small Airway Blockage 9 (%):16) at 0x7fbc709d0670>]\n",
      "factors: [<DiscreteFactor representing phi(Unblocked FEV1 (L):58, Small Airway Blockage 17 (%):16) at 0x7fbc709d0460>]\n",
      "factors: [<DiscreteFactor representing phi(Unblocked FEV1 (L):58, Small Airway Blockage 3 (%):16) at 0x7fbc709d21a0>]\n",
      "factors: [<DiscreteFactor representing phi(Unblocked FEV1 (L):58, Small Airway Blockage 6 (%):16) at 0x7fbc709d0610>]\n",
      "factors: [<DiscreteFactor representing phi(Unblocked FEV1 (L):58, Small Airway Blockage 11 (%):16) at 0x7fbc709d0550>]\n",
      "factors: [<DiscreteFactor representing phi(Unblocked FEV1 (L):58, Small Airway Blockage 7 (%):16) at 0x7fbc709d0580>]\n",
      "factors: [<DiscreteFactor representing phi(Unblocked FEV1 (L):58, Small Airway Blockage 10 (%):16) at 0x7fbc709d04c0>]\n",
      "factors: [<DiscreteFactor representing phi(Unblocked FEV1 (L):58, Small Airway Blockage 14 (%):16) at 0x7fbc709d04f0>]\n",
      "factors: [<DiscreteFactor representing phi(Unblocked FEV1 (L):58, Small Airway Blockage 2 (%):16) at 0x7fbc709d1cf0>]\n",
      "factors: [<DiscreteFactor representing phi(Unblocked FEV1 (L):58, Small Airway Blockage 15 (%):16) at 0x7fbc709d1390>]\n",
      "factors: [<DiscreteFactor representing phi(Unblocked FEV1 (L):58, Small Airway Blockage 1 (%):16) at 0x7fbc709d1d80>]\n",
      "factors: [<DiscreteFactor representing phi(Unblocked FEV1 (L):58, Small Airway Blockage 8 (%):16) at 0x7fbc709d3160>, <DiscreteFactor representing phi(Unblocked FEV1 (L):58) at 0x7fbc709d23b0>, <DiscreteFactor representing phi(Unblocked FEV1 (L):58) at 0x7fbc709d1900>, <DiscreteFactor representing phi(Unblocked FEV1 (L):58, Small Airway Blockage 0 (%):16) at 0x7fbc709d2350>, <DiscreteFactor representing phi(Unblocked FEV1 (L):58) at 0x7fbc709d2710>, <DiscreteFactor representing phi(Unblocked FEV1 (L):58, Small Airway Blockage 4 (%):16) at 0x7fbc709d05e0>, <DiscreteFactor representing phi(Unblocked FEV1 (L):58) at 0x7fbc709d1810>, <DiscreteFactor representing phi(Unblocked FEV1 (L):58) at 0x7fbc709d1210>, <DiscreteFactor representing phi(Unblocked FEV1 (L):58) at 0x7fbc709d20e0>, <DiscreteFactor representing phi(Unblocked FEV1 (L):58, Small Airway Blockage 12 (%):16) at 0x7fbc709d0490>, <DiscreteFactor representing phi(Unblocked FEV1 (L):58) at 0x7fbc709d2500>, <DiscreteFactor representing phi(Unblocked FEV1 (L):58) at 0x7fbc709d2c80>, <DiscreteFactor representing phi(Unblocked FEV1 (L):58) at 0x7fbc709d2410>, <DiscreteFactor representing phi(Unblocked FEV1 (L):58) at 0x7fbc709d1b40>, <DiscreteFactor representing phi(Unblocked FEV1 (L):58, Small Airway Blockage 13 (%):16) at 0x7fbc709d05b0>, <DiscreteFactor representing phi(Unblocked FEV1 (L):58) at 0x7fbc709d2a40>, <DiscreteFactor representing phi(Unblocked FEV1 (L):58, Small Airway Blockage 5 (%):16) at 0x7fbc709d1e40>, <DiscreteFactor representing phi(Unblocked FEV1 (L):58) at 0x7fbc709d1e70>]\n",
      "factors: [<DiscreteFactor representing phi(Small Airway Blockage 8 (%):16, Small Airway Blockage 0 (%):16, Small Airway Blockage 4 (%):16, Small Airway Blockage 12 (%):16, Small Airway Blockage 13 (%):16, Small Airway Blockage 5 (%):16) at 0x7fbc709d1690>]\n",
      "factors: [<DiscreteFactor representing phi(Small Airway Blockage 8 (%):16, Small Airway Blockage 0 (%):16, Small Airway Blockage 4 (%):16, Small Airway Blockage 12 (%):16, Small Airway Blockage 13 (%):16) at 0x7fbc709d20e0>]\n",
      "factors: [<DiscreteFactor representing phi(Small Airway Blockage 8 (%):16, Small Airway Blockage 0 (%):16, Small Airway Blockage 12 (%):16, Small Airway Blockage 13 (%):16) at 0x7fbc709d2c80>]\n",
      "factors: [<DiscreteFactor representing phi(Small Airway Blockage 8 (%):16, Small Airway Blockage 0 (%):16, Small Airway Blockage 12 (%):16) at 0x7fbc709d2a40>]\n",
      "factors: [<DiscreteFactor representing phi(Small Airway Blockage 8 (%):16, Small Airway Blockage 0 (%):16) at 0x7fbc709d05e0>]\n",
      "Prepare vars to be returned\n",
      "node: Small Airway Blockage 0 (%)\n",
      "Query took 30.60582399368286s\n",
      "SAB: 1\n",
      "Preprocess query\n",
      "Run query\n",
      "Query var to list\n",
      "Find nodes with query vars\n",
      "Conversion to set of tuple\n",
      "Compute clique potentials\n",
      "Variable elimination marginalize\n"
     ]
    },
    {
     "data": {
      "application/vnd.jupyter.widget-view+json": {
       "model_id": "2a8357784dc940a4ad37358364e14148",
       "version_major": 2,
       "version_minor": 0
      },
      "text/plain": [
       "  0%|          | 0/18 [00:00<?, ?it/s]"
      ]
     },
     "metadata": {},
     "output_type": "display_data"
    },
    {
     "name": "stdout",
     "output_type": "stream",
     "text": [
      "factors: [<DiscreteFactor representing phi(Unblocked FEV1 (L):58, Small Airway Blockage 16 (%):16) at 0x7fbc709d1b10>]\n",
      "factors: [<DiscreteFactor representing phi(Unblocked FEV1 (L):58, Small Airway Blockage 9 (%):16) at 0x7fbc709d05b0>]\n",
      "factors: [<DiscreteFactor representing phi(Unblocked FEV1 (L):58, Small Airway Blockage 17 (%):16) at 0x7fbc709d0160>]\n",
      "factors: [<DiscreteFactor representing phi(Unblocked FEV1 (L):58, Small Airway Blockage 3 (%):16) at 0x7fbc709d1e40>]\n",
      "factors: [<DiscreteFactor representing phi(Unblocked FEV1 (L):58, Small Airway Blockage 6 (%):16) at 0x7fbc709d04f0>]\n",
      "factors: [<DiscreteFactor representing phi(Unblocked FEV1 (L):58, Small Airway Blockage 11 (%):16) at 0x7fbc709d0580>]\n",
      "factors: [<DiscreteFactor representing phi(Unblocked FEV1 (L):58, Small Airway Blockage 7 (%):16) at 0x7fbc709d23b0>]\n",
      "factors: [<DiscreteFactor representing phi(Unblocked FEV1 (L):58, Small Airway Blockage 10 (%):16) at 0x7fbc709d1210>]\n",
      "factors: [<DiscreteFactor representing phi(Unblocked FEV1 (L):58, Small Airway Blockage 14 (%):16) at 0x7fbc709d0610>]\n",
      "factors: [<DiscreteFactor representing phi(Unblocked FEV1 (L):58, Small Airway Blockage 2 (%):16) at 0x7fbc709d0490>]\n",
      "factors: [<DiscreteFactor representing phi(Unblocked FEV1 (L):58, Small Airway Blockage 15 (%):16) at 0x7fbc709d1b40>]\n",
      "factors: [<DiscreteFactor representing phi(Unblocked FEV1 (L):58, Small Airway Blockage 0 (%):16) at 0x7fbc709d1660>]\n",
      "factors: [<DiscreteFactor representing phi(Unblocked FEV1 (L):58, Small Airway Blockage 8 (%):16) at 0x7fbc709d2500>, <DiscreteFactor representing phi(Unblocked FEV1 (L):58) at 0x7fbc709d0430>, <DiscreteFactor representing phi(Unblocked FEV1 (L):58) at 0x7fbc709d0d00>, <DiscreteFactor representing phi(Unblocked FEV1 (L):58) at 0x7fbc709d11b0>, <DiscreteFactor representing phi(Unblocked FEV1 (L):58, Small Airway Blockage 4 (%):16) at 0x7fbc709d1cf0>, <DiscreteFactor representing phi(Unblocked FEV1 (L):58) at 0x7fbc709d1a80>, <DiscreteFactor representing phi(Unblocked FEV1 (L):58) at 0x7fbc709d2a40>, <DiscreteFactor representing phi(Unblocked FEV1 (L):58, Small Airway Blockage 12 (%):16) at 0x7fbc709d2710>, <DiscreteFactor representing phi(Unblocked FEV1 (L):58) at 0x7fbc709d07c0>, <DiscreteFactor representing phi(Unblocked FEV1 (L):58) at 0x7fbc709d2c80>, <DiscreteFactor representing phi(Unblocked FEV1 (L):58) at 0x7fbc709d2350>, <DiscreteFactor representing phi(Unblocked FEV1 (L):58, Small Airway Blockage 1 (%):16) at 0x7fbc709d0670>, <DiscreteFactor representing phi(Unblocked FEV1 (L):58) at 0x7fbc709d2020>, <DiscreteFactor representing phi(Unblocked FEV1 (L):58, Small Airway Blockage 13 (%):16) at 0x7fbc709d16f0>, <DiscreteFactor representing phi(Unblocked FEV1 (L):58) at 0x7fbc709d3280>, <DiscreteFactor representing phi(Unblocked FEV1 (L):58, Small Airway Blockage 5 (%):16) at 0x7fbc709d1810>, <DiscreteFactor representing phi(Unblocked FEV1 (L):58) at 0x7fbc709d3430>, <DiscreteFactor representing phi(Unblocked FEV1 (L):58) at 0x7fbc709d1ed0>]\n",
      "factors: [<DiscreteFactor representing phi(Small Airway Blockage 8 (%):16, Small Airway Blockage 4 (%):16, Small Airway Blockage 12 (%):16, Small Airway Blockage 1 (%):16, Small Airway Blockage 13 (%):16, Small Airway Blockage 5 (%):16) at 0x7fbc709d36d0>]\n",
      "factors: [<DiscreteFactor representing phi(Small Airway Blockage 8 (%):16, Small Airway Blockage 4 (%):16, Small Airway Blockage 12 (%):16, Small Airway Blockage 1 (%):16, Small Airway Blockage 13 (%):16) at 0x7fbc709d07c0>]\n",
      "factors: [<DiscreteFactor representing phi(Small Airway Blockage 8 (%):16, Small Airway Blockage 12 (%):16, Small Airway Blockage 1 (%):16, Small Airway Blockage 13 (%):16) at 0x7fbc709d2c80>]\n",
      "factors: [<DiscreteFactor representing phi(Small Airway Blockage 8 (%):16, Small Airway Blockage 12 (%):16, Small Airway Blockage 1 (%):16) at 0x7fbc709d3640>]\n",
      "factors: [<DiscreteFactor representing phi(Small Airway Blockage 8 (%):16, Small Airway Blockage 1 (%):16) at 0x7fbc709d1cf0>]\n",
      "Prepare vars to be returned\n",
      "node: Small Airway Blockage 1 (%)\n",
      "Query took 41.81131911277771s\n",
      "SAB: 2\n",
      "Preprocess query\n",
      "Run query\n",
      "Query var to list\n",
      "Find nodes with query vars\n",
      "Conversion to set of tuple\n",
      "Compute clique potentials\n",
      "Variable elimination marginalize\n"
     ]
    },
    {
     "data": {
      "application/vnd.jupyter.widget-view+json": {
       "model_id": "6621d3fd0ceb4c9eaeeb6cdd65f1cd12",
       "version_major": 2,
       "version_minor": 0
      },
      "text/plain": [
       "  0%|          | 0/18 [00:00<?, ?it/s]"
      ]
     },
     "metadata": {},
     "output_type": "display_data"
    },
    {
     "name": "stdout",
     "output_type": "stream",
     "text": [
      "factors: [<DiscreteFactor representing phi(Unblocked FEV1 (L):58, Small Airway Blockage 16 (%):16) at 0x7fbc709d2740>]\n",
      "factors: [<DiscreteFactor representing phi(Unblocked FEV1 (L):58, Small Airway Blockage 9 (%):16) at 0x7fbc709d1840>]\n",
      "factors: [<DiscreteFactor representing phi(Unblocked FEV1 (L):58, Small Airway Blockage 17 (%):16) at 0x7fbc709d1720>]\n",
      "factors: [<DiscreteFactor representing phi(Unblocked FEV1 (L):58, Small Airway Blockage 3 (%):16) at 0x7fbc709d1d20>]\n",
      "factors: [<DiscreteFactor representing phi(Unblocked FEV1 (L):58, Small Airway Blockage 6 (%):16) at 0x7fbc709d0040>]\n",
      "factors: [<DiscreteFactor representing phi(Unblocked FEV1 (L):58, Small Airway Blockage 11 (%):16) at 0x7fbc709d1870>]\n",
      "factors: [<DiscreteFactor representing phi(Unblocked FEV1 (L):58, Small Airway Blockage 7 (%):16) at 0x7fbc709d30d0>]\n",
      "factors: [<DiscreteFactor representing phi(Unblocked FEV1 (L):58, Small Airway Blockage 10 (%):16) at 0x7fbc709d30a0>]\n",
      "factors: [<DiscreteFactor representing phi(Unblocked FEV1 (L):58, Small Airway Blockage 14 (%):16) at 0x7fbc709d0640>]\n",
      "factors: [<DiscreteFactor representing phi(Unblocked FEV1 (L):58, Small Airway Blockage 15 (%):16) at 0x7fbc709d1e10>]\n",
      "factors: [<DiscreteFactor representing phi(Unblocked FEV1 (L):58, Small Airway Blockage 0 (%):16) at 0x7fbc709d17e0>]\n",
      "factors: [<DiscreteFactor representing phi(Unblocked FEV1 (L):58, Small Airway Blockage 1 (%):16) at 0x7fbc709d0430>]\n",
      "factors: [<DiscreteFactor representing phi(Unblocked FEV1 (L):58, Small Airway Blockage 8 (%):16) at 0x7fbc709d1ae0>, <DiscreteFactor representing phi(Unblocked FEV1 (L):58, Small Airway Blockage 2 (%):16) at 0x7fbc709d3040>, <DiscreteFactor representing phi(Unblocked FEV1 (L):58) at 0x7fbc709d0df0>, <DiscreteFactor representing phi(Unblocked FEV1 (L):58) at 0x7fbc709d2890>, <DiscreteFactor representing phi(Unblocked FEV1 (L):58) at 0x7fbc709d3850>, <DiscreteFactor representing phi(Unblocked FEV1 (L):58, Small Airway Blockage 4 (%):16) at 0x7fbc709d2920>, <DiscreteFactor representing phi(Unblocked FEV1 (L):58) at 0x7fbc709d3d60>, <DiscreteFactor representing phi(Unblocked FEV1 (L):58) at 0x7fbc709d1030>, <DiscreteFactor representing phi(Unblocked FEV1 (L):58) at 0x7fbc709d0e80>, <DiscreteFactor representing phi(Unblocked FEV1 (L):58, Small Airway Blockage 12 (%):16) at 0x7fbc709d1e70>, <DiscreteFactor representing phi(Unblocked FEV1 (L):58) at 0x7fbc709d15d0>, <DiscreteFactor representing phi(Unblocked FEV1 (L):58) at 0x7fbc709d02e0>, <DiscreteFactor representing phi(Unblocked FEV1 (L):58) at 0x7fbc709d00a0>, <DiscreteFactor representing phi(Unblocked FEV1 (L):58, Small Airway Blockage 13 (%):16) at 0x7fbc709d0550>, <DiscreteFactor representing phi(Unblocked FEV1 (L):58) at 0x7fbc709d3a00>, <DiscreteFactor representing phi(Unblocked FEV1 (L):58, Small Airway Blockage 5 (%):16) at 0x7fbc709d2170>, <DiscreteFactor representing phi(Unblocked FEV1 (L):58) at 0x7fbc709d3bb0>, <DiscreteFactor representing phi(Unblocked FEV1 (L):58) at 0x7fbc709d1450>]\n",
      "factors: [<DiscreteFactor representing phi(Small Airway Blockage 8 (%):16, Small Airway Blockage 2 (%):16, Small Airway Blockage 4 (%):16, Small Airway Blockage 12 (%):16, Small Airway Blockage 13 (%):16, Small Airway Blockage 5 (%):16) at 0x7fbc709d3f70>]\n",
      "factors: [<DiscreteFactor representing phi(Small Airway Blockage 8 (%):16, Small Airway Blockage 2 (%):16, Small Airway Blockage 4 (%):16, Small Airway Blockage 12 (%):16, Small Airway Blockage 13 (%):16) at 0x7fbc709d0e80>]\n",
      "factors: [<DiscreteFactor representing phi(Small Airway Blockage 8 (%):16, Small Airway Blockage 2 (%):16, Small Airway Blockage 12 (%):16, Small Airway Blockage 13 (%):16) at 0x7fbc709d02e0>]\n",
      "factors: [<DiscreteFactor representing phi(Small Airway Blockage 8 (%):16, Small Airway Blockage 2 (%):16, Small Airway Blockage 12 (%):16) at 0x7fbc709d3bb0>]\n",
      "factors: [<DiscreteFactor representing phi(Small Airway Blockage 8 (%):16, Small Airway Blockage 2 (%):16) at 0x7fbc709d2890>]\n",
      "Prepare vars to be returned\n",
      "node: Small Airway Blockage 2 (%)\n",
      "Query took 41.89039158821106s\n",
      "SAB: 3\n",
      "Preprocess query\n",
      "Run query\n",
      "Query var to list\n",
      "Find nodes with query vars\n",
      "Conversion to set of tuple\n",
      "Compute clique potentials\n",
      "Variable elimination marginalize\n"
     ]
    },
    {
     "data": {
      "application/vnd.jupyter.widget-view+json": {
       "model_id": "371303e9a16b422e8f5c129b465e85d2",
       "version_major": 2,
       "version_minor": 0
      },
      "text/plain": [
       "  0%|          | 0/18 [00:00<?, ?it/s]"
      ]
     },
     "metadata": {},
     "output_type": "display_data"
    },
    {
     "name": "stdout",
     "output_type": "stream",
     "text": [
      "factors: [<DiscreteFactor representing phi(Unblocked FEV1 (L):58, Small Airway Blockage 16 (%):16) at 0x7fbc709d3610>]\n",
      "factors: [<DiscreteFactor representing phi(Unblocked FEV1 (L):58, Small Airway Blockage 9 (%):16) at 0x7fbc709d3850>]\n",
      "factors: [<DiscreteFactor representing phi(Unblocked FEV1 (L):58, Small Airway Blockage 17 (%):16) at 0x7fbc709d16f0>]\n",
      "factors: [<DiscreteFactor representing phi(Unblocked FEV1 (L):58, Small Airway Blockage 7 (%):16) at 0x7fbc709d1ae0>]\n",
      "factors: [<DiscreteFactor representing phi(Unblocked FEV1 (L):58, Small Airway Blockage 6 (%):16) at 0x7fbc709d0640>]\n",
      "factors: [<DiscreteFactor representing phi(Unblocked FEV1 (L):58, Small Airway Blockage 11 (%):16) at 0x7fbc709d17e0>]\n",
      "factors: [<DiscreteFactor representing phi(Unblocked FEV1 (L):58, Small Airway Blockage 10 (%):16) at 0x7fbc709d1870>]\n",
      "factors: [<DiscreteFactor representing phi(Unblocked FEV1 (L):58, Small Airway Blockage 14 (%):16) at 0x7fbc709d3f40>]\n",
      "factors: [<DiscreteFactor representing phi(Unblocked FEV1 (L):58, Small Airway Blockage 2 (%):16) at 0x7fbc709d30a0>]\n",
      "factors: [<DiscreteFactor representing phi(Unblocked FEV1 (L):58, Small Airway Blockage 15 (%):16) at 0x7fbc709d0550>]\n",
      "factors: [<DiscreteFactor representing phi(Unblocked FEV1 (L):58, Small Airway Blockage 0 (%):16) at 0x7fbc709d1840>]\n",
      "factors: [<DiscreteFactor representing phi(Unblocked FEV1 (L):58, Small Airway Blockage 1 (%):16) at 0x7fbc709d30d0>]\n",
      "factors: [<DiscreteFactor representing phi(Unblocked FEV1 (L):58, Small Airway Blockage 8 (%):16) at 0x7fbc709d15d0>, <DiscreteFactor representing phi(Unblocked FEV1 (L):58) at 0x7fbc709d3a00>, <DiscreteFactor representing phi(Unblocked FEV1 (L):58) at 0x7fbc709d1ba0>, <DiscreteFactor representing phi(Unblocked FEV1 (L):58) at 0x7fbc709d2440>, <DiscreteFactor representing phi(Unblocked FEV1 (L):58, Small Airway Blockage 4 (%):16) at 0x7fbc709d1720>, <DiscreteFactor representing phi(Unblocked FEV1 (L):58) at 0x7fbc709d2e60>, <DiscreteFactor representing phi(Unblocked FEV1 (L):58) at 0x7fbc709d3280>, <DiscreteFactor representing phi(Unblocked FEV1 (L):58) at 0x7fbc709d3d30>, <DiscreteFactor representing phi(Unblocked FEV1 (L):58, Small Airway Blockage 12 (%):16) at 0x7fbc709d2170>, <DiscreteFactor representing phi(Unblocked FEV1 (L):58) at 0x7fbc709d1960>, <DiscreteFactor representing phi(Unblocked FEV1 (L):58) at 0x7fbc709d1fc0>, <DiscreteFactor representing phi(Unblocked FEV1 (L):58, Small Airway Blockage 3 (%):16) at 0x7fbc709d0040>, <DiscreteFactor representing phi(Unblocked FEV1 (L):58) at 0x7fbc709d38b0>, <DiscreteFactor representing phi(Unblocked FEV1 (L):58, Small Airway Blockage 13 (%):16) at 0x7fbc709d1e10>, <DiscreteFactor representing phi(Unblocked FEV1 (L):58) at 0x7fbc709d1990>, <DiscreteFactor representing phi(Unblocked FEV1 (L):58, Small Airway Blockage 5 (%):16) at 0x7fbc709d1f90>, <DiscreteFactor representing phi(Unblocked FEV1 (L):58) at 0x7fbc709d2f80>, <DiscreteFactor representing phi(Unblocked FEV1 (L):58) at 0x7fbc709d1690>]\n",
      "factors: [<DiscreteFactor representing phi(Small Airway Blockage 8 (%):16, Small Airway Blockage 4 (%):16, Small Airway Blockage 12 (%):16, Small Airway Blockage 3 (%):16, Small Airway Blockage 13 (%):16, Small Airway Blockage 5 (%):16) at 0x7fbc709d3df0>]\n",
      "factors: [<DiscreteFactor representing phi(Small Airway Blockage 8 (%):16, Small Airway Blockage 4 (%):16, Small Airway Blockage 12 (%):16, Small Airway Blockage 3 (%):16, Small Airway Blockage 13 (%):16) at 0x7fbc709d3d30>]\n",
      "factors: [<DiscreteFactor representing phi(Small Airway Blockage 8 (%):16, Small Airway Blockage 12 (%):16, Small Airway Blockage 3 (%):16, Small Airway Blockage 13 (%):16) at 0x7fbc709d1960>]\n",
      "factors: [<DiscreteFactor representing phi(Small Airway Blockage 8 (%):16, Small Airway Blockage 12 (%):16, Small Airway Blockage 3 (%):16) at 0x7fbc709d2bc0>]\n",
      "factors: [<DiscreteFactor representing phi(Small Airway Blockage 8 (%):16, Small Airway Blockage 3 (%):16) at 0x7fbc709d1720>]\n",
      "Prepare vars to be returned\n",
      "node: Small Airway Blockage 3 (%)\n",
      "Query took 41.94358825683594s\n",
      "SAB: 4\n",
      "Preprocess query\n",
      "Run query\n",
      "Query var to list\n",
      "Find nodes with query vars\n",
      "Conversion to set of tuple\n",
      "Compute clique potentials\n",
      "Variable elimination marginalize\n"
     ]
    },
    {
     "data": {
      "application/vnd.jupyter.widget-view+json": {
       "model_id": "7088b4a87c95415ba26c23af1cb5f297",
       "version_major": 2,
       "version_minor": 0
      },
      "text/plain": [
       "  0%|          | 0/18 [00:00<?, ?it/s]"
      ]
     },
     "metadata": {},
     "output_type": "display_data"
    },
    {
     "name": "stdout",
     "output_type": "stream",
     "text": [
      "factors: [<DiscreteFactor representing phi(Unblocked FEV1 (L):58, Small Airway Blockage 16 (%):16) at 0x7fbc709d2920>]\n",
      "factors: [<DiscreteFactor representing phi(Unblocked FEV1 (L):58, Small Airway Blockage 9 (%):16) at 0x7fbc709d1570>]\n",
      "factors: [<DiscreteFactor representing phi(Unblocked FEV1 (L):58, Small Airway Blockage 17 (%):16) at 0x7fbc709d1900>]\n",
      "factors: [<DiscreteFactor representing phi(Unblocked FEV1 (L):58, Small Airway Blockage 3 (%):16) at 0x7fbc709d15a0>]\n",
      "factors: [<DiscreteFactor representing phi(Unblocked FEV1 (L):58, Small Airway Blockage 11 (%):16) at 0x7fbc709d0130>]\n",
      "factors: [<DiscreteFactor representing phi(Unblocked FEV1 (L):58, Small Airway Blockage 7 (%):16) at 0x7fbc709d1750>]\n",
      "factors: [<DiscreteFactor representing phi(Unblocked FEV1 (L):58, Small Airway Blockage 10 (%):16) at 0x7fbc709d1c90>]\n",
      "factors: [<DiscreteFactor representing phi(Unblocked FEV1 (L):58, Small Airway Blockage 14 (%):16) at 0x7fbc709d1d20>]\n",
      "factors: [<DiscreteFactor representing phi(Unblocked FEV1 (L):58, Small Airway Blockage 2 (%):16) at 0x7fbc709d2410>]\n",
      "factors: [<DiscreteFactor representing phi(Unblocked FEV1 (L):58, Small Airway Blockage 15 (%):16) at 0x7fbc709d21a0>]\n",
      "factors: [<DiscreteFactor representing phi(Unblocked FEV1 (L):58, Small Airway Blockage 0 (%):16) at 0x7fbc709d17b0>]\n",
      "factors: [<DiscreteFactor representing phi(Unblocked FEV1 (L):58, Small Airway Blockage 1 (%):16) at 0x7fbc709d3a00>]\n",
      "factors: [<DiscreteFactor representing phi(Unblocked FEV1 (L):58, Small Airway Blockage 8 (%):16) at 0x7fbc709d16c0>, <DiscreteFactor representing phi(Unblocked FEV1 (L):58) at 0x7fbc709d0cd0>, <DiscreteFactor representing phi(Unblocked FEV1 (L):58) at 0x7fbc709d0d00>, <DiscreteFactor representing phi(Unblocked FEV1 (L):58) at 0x7fbc709d3820>, <DiscreteFactor representing phi(Unblocked FEV1 (L):58, Small Airway Blockage 4 (%):16) at 0x7fbc709d0190>, <DiscreteFactor representing phi(Unblocked FEV1 (L):58) at 0x7fbc709f05b0>, <DiscreteFactor representing phi(Unblocked FEV1 (L):58) at 0x7fbc709d2530>, <DiscreteFactor representing phi(Unblocked FEV1 (L):58, Small Airway Blockage 12 (%):16) at 0x7fbc709d00d0>, <DiscreteFactor representing phi(Unblocked FEV1 (L):58) at 0x7fbc709f00a0>, <DiscreteFactor representing phi(Unblocked FEV1 (L):58) at 0x7fbc709d1b70>, <DiscreteFactor representing phi(Unblocked FEV1 (L):58) at 0x7fbc709d01f0>, <DiscreteFactor representing phi(Unblocked FEV1 (L):58) at 0x7fbc709d36a0>, <DiscreteFactor representing phi(Unblocked FEV1 (L):58, Small Airway Blockage 6 (%):16) at 0x7fbc709d0460>, <DiscreteFactor representing phi(Unblocked FEV1 (L):58, Small Airway Blockage 13 (%):16) at 0x7fbc709d27a0>, <DiscreteFactor representing phi(Unblocked FEV1 (L):58) at 0x7fbc709f0250>, <DiscreteFactor representing phi(Unblocked FEV1 (L):58, Small Airway Blockage 5 (%):16) at 0x7fbc709d1780>, <DiscreteFactor representing phi(Unblocked FEV1 (L):58) at 0x7fbc709f0400>, <DiscreteFactor representing phi(Unblocked FEV1 (L):58) at 0x7fbc709d3970>]\n",
      "factors: [<DiscreteFactor representing phi(Small Airway Blockage 8 (%):16, Small Airway Blockage 4 (%):16, Small Airway Blockage 12 (%):16, Small Airway Blockage 6 (%):16, Small Airway Blockage 13 (%):16, Small Airway Blockage 5 (%):16) at 0x7fbc709d3dc0>]\n",
      "factors: [<DiscreteFactor representing phi(Small Airway Blockage 8 (%):16, Small Airway Blockage 4 (%):16, Small Airway Blockage 12 (%):16, Small Airway Blockage 6 (%):16, Small Airway Blockage 13 (%):16) at 0x7fbc709d01f0>]\n",
      "factors: [<DiscreteFactor representing phi(Small Airway Blockage 8 (%):16, Small Airway Blockage 4 (%):16, Small Airway Blockage 12 (%):16, Small Airway Blockage 13 (%):16) at 0x7fbc709d3970>]\n",
      "factors: [<DiscreteFactor representing phi(Small Airway Blockage 8 (%):16, Small Airway Blockage 4 (%):16, Small Airway Blockage 12 (%):16) at 0x7fbc709d3880>]\n",
      "factors: [<DiscreteFactor representing phi(Small Airway Blockage 8 (%):16, Small Airway Blockage 4 (%):16) at 0x7fbc709d2920>]\n",
      "Prepare vars to be returned\n",
      "node: Small Airway Blockage 4 (%)\n",
      "Query took 41.78742074966431s\n",
      "SAB: 5\n",
      "Preprocess query\n",
      "Run query\n",
      "Query var to list\n",
      "Find nodes with query vars\n",
      "Conversion to set of tuple\n",
      "Compute clique potentials\n",
      "Variable elimination marginalize\n"
     ]
    },
    {
     "data": {
      "application/vnd.jupyter.widget-view+json": {
       "model_id": "f76884be1ea24c19a0c3de713ca3d67a",
       "version_major": 2,
       "version_minor": 0
      },
      "text/plain": [
       "  0%|          | 0/18 [00:00<?, ?it/s]"
      ]
     },
     "metadata": {},
     "output_type": "display_data"
    },
    {
     "name": "stdout",
     "output_type": "stream",
     "text": [
      "factors: [<DiscreteFactor representing phi(Unblocked FEV1 (L):58, Small Airway Blockage 16 (%):16) at 0x7fbc709d2200>]\n",
      "factors: [<DiscreteFactor representing phi(Unblocked FEV1 (L):58, Small Airway Blockage 9 (%):16) at 0x7fbc709d3820>]\n",
      "factors: [<DiscreteFactor representing phi(Unblocked FEV1 (L):58, Small Airway Blockage 17 (%):16) at 0x7fbc709d0d00>]\n",
      "factors: [<DiscreteFactor representing phi(Unblocked FEV1 (L):58, Small Airway Blockage 3 (%):16) at 0x7fbc709d0cd0>]\n",
      "factors: [<DiscreteFactor representing phi(Unblocked FEV1 (L):58, Small Airway Blockage 6 (%):16) at 0x7fbc709d15a0>]\n",
      "factors: [<DiscreteFactor representing phi(Unblocked FEV1 (L):58, Small Airway Blockage 11 (%):16) at 0x7fbc709d17b0>]\n",
      "factors: [<DiscreteFactor representing phi(Unblocked FEV1 (L):58, Small Airway Blockage 7 (%):16) at 0x7fbc709d1900>]\n",
      "factors: [<DiscreteFactor representing phi(Unblocked FEV1 (L):58, Small Airway Blockage 10 (%):16) at 0x7fbc709d1780>]\n",
      "factors: [<DiscreteFactor representing phi(Unblocked FEV1 (L):58, Small Airway Blockage 14 (%):16) at 0x7fbc709d2410>]\n",
      "factors: [<DiscreteFactor representing phi(Unblocked FEV1 (L):58, Small Airway Blockage 2 (%):16) at 0x7fbc709d3580>]\n",
      "factors: [<DiscreteFactor representing phi(Unblocked FEV1 (L):58, Small Airway Blockage 15 (%):16) at 0x7fbc709d27a0>]\n",
      "factors: [<DiscreteFactor representing phi(Unblocked FEV1 (L):58, Small Airway Blockage 0 (%):16) at 0x7fbc709d1750>]\n",
      "factors: [<DiscreteFactor representing phi(Unblocked FEV1 (L):58, Small Airway Blockage 1 (%):16) at 0x7fbc709d1570>]\n",
      "factors: [<DiscreteFactor representing phi(Unblocked FEV1 (L):58, Small Airway Blockage 8 (%):16) at 0x7fbc709d1b70>, <DiscreteFactor representing phi(Unblocked FEV1 (L):58) at 0x7fbc709d2e90>, <DiscreteFactor representing phi(Unblocked FEV1 (L):58) at 0x7fbc709d1990>, <DiscreteFactor representing phi(Unblocked FEV1 (L):58) at 0x7fbc709d29e0>, <DiscreteFactor representing phi(Unblocked FEV1 (L):58, Small Airway Blockage 4 (%):16) at 0x7fbc709d00d0>, <DiscreteFactor representing phi(Unblocked FEV1 (L):58) at 0x7fbc709f8940>, <DiscreteFactor representing phi(Unblocked FEV1 (L):58) at 0x7fbc709d1c30>, <DiscreteFactor representing phi(Unblocked FEV1 (L):58) at 0x7fbc709f82b0>, <DiscreteFactor representing phi(Unblocked FEV1 (L):58, Small Airway Blockage 12 (%):16) at 0x7fbc709d36a0>, <DiscreteFactor representing phi(Unblocked FEV1 (L):58) at 0x7fbc709f8430>, <DiscreteFactor representing phi(Unblocked FEV1 (L):58) at 0x7fbc709d3c10>, <DiscreteFactor representing phi(Unblocked FEV1 (L):58) at 0x7fbc709f8100>, <DiscreteFactor representing phi(Unblocked FEV1 (L):58) at 0x7fbc709d3970>, <DiscreteFactor representing phi(Unblocked FEV1 (L):58, Small Airway Blockage 13 (%):16) at 0x7fbc709d08b0>, <DiscreteFactor representing phi(Unblocked FEV1 (L):58) at 0x7fbc709f85e0>, <DiscreteFactor representing phi(Unblocked FEV1 (L):58, Small Airway Blockage 5 (%):16) at 0x7fbc709d1d20>, <DiscreteFactor representing phi(Unblocked FEV1 (L):58) at 0x7fbc709f8790>, <DiscreteFactor representing phi(Unblocked FEV1 (L):58) at 0x7fbc709f83a0>]\n",
      "factors: [<DiscreteFactor representing phi(Small Airway Blockage 8 (%):16, Small Airway Blockage 4 (%):16, Small Airway Blockage 12 (%):16, Small Airway Blockage 13 (%):16, Small Airway Blockage 5 (%):16) at 0x7fbc709d2050>]\n",
      "factors: [<DiscreteFactor representing phi(Small Airway Blockage 8 (%):16, Small Airway Blockage 12 (%):16, Small Airway Blockage 13 (%):16, Small Airway Blockage 5 (%):16) at 0x7fbc709d3970>]\n",
      "factors: [<DiscreteFactor representing phi(Small Airway Blockage 8 (%):16, Small Airway Blockage 12 (%):16, Small Airway Blockage 5 (%):16) at 0x7fbc709d2e90>]\n",
      "factors: [<DiscreteFactor representing phi(Small Airway Blockage 8 (%):16, Small Airway Blockage 5 (%):16) at 0x7fbc709d00d0>]\n",
      "Prepare vars to be returned\n",
      "node: Small Airway Blockage 5 (%)\n",
      "Query took 1.472071886062622s\n",
      "SAB: 6\n",
      "Preprocess query\n",
      "Run query\n",
      "Query var to list\n",
      "Find nodes with query vars\n",
      "Conversion to set of tuple\n",
      "Compute clique potentials\n",
      "Variable elimination marginalize\n"
     ]
    },
    {
     "data": {
      "application/vnd.jupyter.widget-view+json": {
       "model_id": "36984a3be5b54694b0680a9707061bf3",
       "version_major": 2,
       "version_minor": 0
      },
      "text/plain": [
       "  0%|          | 0/18 [00:00<?, ?it/s]"
      ]
     },
     "metadata": {},
     "output_type": "display_data"
    },
    {
     "name": "stdout",
     "output_type": "stream",
     "text": [
      "factors: [<DiscreteFactor representing phi(Unblocked FEV1 (L):58, Small Airway Blockage 16 (%):16) at 0x7fbc709d3730>]\n",
      "factors: [<DiscreteFactor representing phi(Unblocked FEV1 (L):58, Small Airway Blockage 9 (%):16) at 0x7fbc709d3d30>]\n",
      "factors: [<DiscreteFactor representing phi(Unblocked FEV1 (L):58, Small Airway Blockage 17 (%):16) at 0x7fbc709d0dc0>]\n",
      "factors: [<DiscreteFactor representing phi(Unblocked FEV1 (L):58, Small Airway Blockage 3 (%):16) at 0x7fbc709d2410>]\n",
      "factors: [<DiscreteFactor representing phi(Unblocked FEV1 (L):58, Small Airway Blockage 11 (%):16) at 0x7fbc709d1780>]\n",
      "factors: [<DiscreteFactor representing phi(Unblocked FEV1 (L):58, Small Airway Blockage 7 (%):16) at 0x7fbc709d27a0>]\n",
      "factors: [<DiscreteFactor representing phi(Unblocked FEV1 (L):58, Small Airway Blockage 10 (%):16) at 0x7fbc709d0cd0>]\n",
      "factors: [<DiscreteFactor representing phi(Unblocked FEV1 (L):58, Small Airway Blockage 14 (%):16) at 0x7fbc709d09a0>]\n",
      "factors: [<DiscreteFactor representing phi(Unblocked FEV1 (L):58, Small Airway Blockage 2 (%):16) at 0x7fbc709d1900>]\n",
      "factors: [<DiscreteFactor representing phi(Unblocked FEV1 (L):58, Small Airway Blockage 15 (%):16) at 0x7fbc709d2200>]\n",
      "factors: [<DiscreteFactor representing phi(Unblocked FEV1 (L):58, Small Airway Blockage 0 (%):16) at 0x7fbc709d15a0>]\n",
      "factors: [<DiscreteFactor representing phi(Unblocked FEV1 (L):58, Small Airway Blockage 1 (%):16) at 0x7fbc709d27d0>]\n",
      "factors: [<DiscreteFactor representing phi(Unblocked FEV1 (L):58, Small Airway Blockage 8 (%):16) at 0x7fbc709d0d00>, <DiscreteFactor representing phi(Unblocked FEV1 (L):58) at 0x7fbc709d1030>, <DiscreteFactor representing phi(Unblocked FEV1 (L):58) at 0x7fbc709d18a0>, <DiscreteFactor representing phi(Unblocked FEV1 (L):58) at 0x7fbc70a00880>, <DiscreteFactor representing phi(Unblocked FEV1 (L):58, Small Airway Blockage 4 (%):16) at 0x7fbc709d3220>, <DiscreteFactor representing phi(Unblocked FEV1 (L):58) at 0x7fbc70a00ee0>, <DiscreteFactor representing phi(Unblocked FEV1 (L):58) at 0x7fbc70a00190>, <DiscreteFactor representing phi(Unblocked FEV1 (L):58, Small Airway Blockage 12 (%):16) at 0x7fbc709d29e0>, <DiscreteFactor representing phi(Unblocked FEV1 (L):58) at 0x7fbc70a00a30>, <DiscreteFactor representing phi(Unblocked FEV1 (L):58) at 0x7fbc709d34f0>, <DiscreteFactor representing phi(Unblocked FEV1 (L):58) at 0x7fbc70a00340>, <DiscreteFactor representing phi(Unblocked FEV1 (L):58) at 0x7fbc70a006a0>, <DiscreteFactor representing phi(Unblocked FEV1 (L):58, Small Airway Blockage 6 (%):16) at 0x7fbc709d1b70>, <DiscreteFactor representing phi(Unblocked FEV1 (L):58, Small Airway Blockage 13 (%):16) at 0x7fbc709d3820>, <DiscreteFactor representing phi(Unblocked FEV1 (L):58) at 0x7fbc70a00be0>, <DiscreteFactor representing phi(Unblocked FEV1 (L):58, Small Airway Blockage 5 (%):16) at 0x7fbc709d3580>, <DiscreteFactor representing phi(Unblocked FEV1 (L):58) at 0x7fbc70a00e50>, <DiscreteFactor representing phi(Unblocked FEV1 (L):58) at 0x7fbc70a004f0>]\n",
      "factors: [<DiscreteFactor representing phi(Small Airway Blockage 8 (%):16, Small Airway Blockage 4 (%):16, Small Airway Blockage 12 (%):16, Small Airway Blockage 6 (%):16, Small Airway Blockage 13 (%):16, Small Airway Blockage 5 (%):16) at 0x7fbc709d0640>]\n",
      "factors: [<DiscreteFactor representing phi(Small Airway Blockage 8 (%):16, Small Airway Blockage 4 (%):16, Small Airway Blockage 12 (%):16, Small Airway Blockage 6 (%):16, Small Airway Blockage 13 (%):16) at 0x7fbc709d1870>]\n",
      "factors: [<DiscreteFactor representing phi(Small Airway Blockage 8 (%):16, Small Airway Blockage 12 (%):16, Small Airway Blockage 6 (%):16, Small Airway Blockage 13 (%):16) at 0x7fbc709d3190>]\n",
      "factors: [<DiscreteFactor representing phi(Small Airway Blockage 8 (%):16, Small Airway Blockage 12 (%):16, Small Airway Blockage 6 (%):16) at 0x7fbc709d3700>]\n",
      "factors: [<DiscreteFactor representing phi(Small Airway Blockage 8 (%):16, Small Airway Blockage 6 (%):16) at 0x7fbc709d1d20>]\n",
      "Prepare vars to be returned\n",
      "node: Small Airway Blockage 6 (%)\n",
      "Query took 45.01242113113403s\n",
      "SAB: 7\n",
      "Preprocess query\n",
      "Run query\n",
      "Query var to list\n",
      "Find nodes with query vars\n",
      "Conversion to set of tuple\n",
      "Compute clique potentials\n",
      "Variable elimination marginalize\n"
     ]
    },
    {
     "data": {
      "application/vnd.jupyter.widget-view+json": {
       "model_id": "0b7b3bd4c28b421691225e22d721c9ec",
       "version_major": 2,
       "version_minor": 0
      },
      "text/plain": [
       "  0%|          | 0/18 [00:00<?, ?it/s]"
      ]
     },
     "metadata": {},
     "output_type": "display_data"
    },
    {
     "name": "stdout",
     "output_type": "stream",
     "text": [
      "factors: [<DiscreteFactor representing phi(Unblocked FEV1 (L):58, Small Airway Blockage 16 (%):16) at 0x7fbc709d1b70>]\n",
      "factors: [<DiscreteFactor representing phi(Unblocked FEV1 (L):58, Small Airway Blockage 9 (%):16) at 0x7fbc709d02e0>]\n",
      "factors: [<DiscreteFactor representing phi(Unblocked FEV1 (L):58, Small Airway Blockage 17 (%):16) at 0x7fbc709d1e10>]\n",
      "factors: [<DiscreteFactor representing phi(Unblocked FEV1 (L):58, Small Airway Blockage 3 (%):16) at 0x7fbc709d2d10>]\n",
      "factors: [<DiscreteFactor representing phi(Unblocked FEV1 (L):58, Small Airway Blockage 6 (%):16) at 0x7fbc709d2500>]\n",
      "factors: [<DiscreteFactor representing phi(Unblocked FEV1 (L):58, Small Airway Blockage 11 (%):16) at 0x7fbc709d2260>]\n",
      "factors: [<DiscreteFactor representing phi(Unblocked FEV1 (L):58, Small Airway Blockage 10 (%):16) at 0x7fbc709d3fd0>]\n",
      "factors: [<DiscreteFactor representing phi(Unblocked FEV1 (L):58, Small Airway Blockage 14 (%):16) at 0x7fbc709d2020>]\n",
      "factors: [<DiscreteFactor representing phi(Unblocked FEV1 (L):58, Small Airway Blockage 2 (%):16) at 0x7fbc709d2bc0>]\n",
      "factors: [<DiscreteFactor representing phi(Unblocked FEV1 (L):58, Small Airway Blockage 15 (%):16) at 0x7fbc709d1570>]\n",
      "factors: [<DiscreteFactor representing phi(Unblocked FEV1 (L):58, Small Airway Blockage 0 (%):16) at 0x7fbc709d0520>]\n",
      "factors: [<DiscreteFactor representing phi(Unblocked FEV1 (L):58, Small Airway Blockage 1 (%):16) at 0x7fbc709d3640>]\n",
      "factors: [<DiscreteFactor representing phi(Unblocked FEV1 (L):58, Small Airway Blockage 8 (%):16) at 0x7fbc709d1690>, <DiscreteFactor representing phi(Unblocked FEV1 (L):58) at 0x7fbc70a04220>, <DiscreteFactor representing phi(Unblocked FEV1 (L):58) at 0x7fbc70a04e20>, <DiscreteFactor representing phi(Unblocked FEV1 (L):58, Small Airway Blockage 7 (%):16) at 0x7fbc709d1ab0>, <DiscreteFactor representing phi(Unblocked FEV1 (L):58) at 0x7fbc70a04730>, <DiscreteFactor representing phi(Unblocked FEV1 (L):58, Small Airway Blockage 4 (%):16) at 0x7fbc709d1c00>, <DiscreteFactor representing phi(Unblocked FEV1 (L):58) at 0x7fbc70a05270>, <DiscreteFactor representing phi(Unblocked FEV1 (L):58) at 0x7fbc70a04160>, <DiscreteFactor representing phi(Unblocked FEV1 (L):58) at 0x7fbc70a04c70>, <DiscreteFactor representing phi(Unblocked FEV1 (L):58, Small Airway Blockage 12 (%):16) at 0x7fbc709d0460>, <DiscreteFactor representing phi(Unblocked FEV1 (L):58) at 0x7fbc70a04ee0>, <DiscreteFactor representing phi(Unblocked FEV1 (L):58) at 0x7fbc70a044f0>, <DiscreteFactor representing phi(Unblocked FEV1 (L):58) at 0x7fbc70a04a00>, <DiscreteFactor representing phi(Unblocked FEV1 (L):58, Small Airway Blockage 13 (%):16) at 0x7fbc709d2110>, <DiscreteFactor representing phi(Unblocked FEV1 (L):58) at 0x7fbc70a04460>, <DiscreteFactor representing phi(Unblocked FEV1 (L):58, Small Airway Blockage 5 (%):16) at 0x7fbc709d1960>, <DiscreteFactor representing phi(Unblocked FEV1 (L):58) at 0x7fbc70a050c0>, <DiscreteFactor representing phi(Unblocked FEV1 (L):58) at 0x7fbc70a04dc0>]\n",
      "factors: [<DiscreteFactor representing phi(Small Airway Blockage 8 (%):16, Small Airway Blockage 7 (%):16, Small Airway Blockage 4 (%):16, Small Airway Blockage 12 (%):16, Small Airway Blockage 13 (%):16, Small Airway Blockage 5 (%):16) at 0x7fbc709d0610>]\n",
      "factors: [<DiscreteFactor representing phi(Small Airway Blockage 8 (%):16, Small Airway Blockage 7 (%):16, Small Airway Blockage 4 (%):16, Small Airway Blockage 12 (%):16, Small Airway Blockage 13 (%):16) at 0x7fbc70a04730>]\n",
      "factors: [<DiscreteFactor representing phi(Small Airway Blockage 8 (%):16, Small Airway Blockage 7 (%):16, Small Airway Blockage 12 (%):16, Small Airway Blockage 13 (%):16) at 0x7fbc709d1450>]\n",
      "factors: [<DiscreteFactor representing phi(Small Airway Blockage 8 (%):16, Small Airway Blockage 7 (%):16, Small Airway Blockage 12 (%):16) at 0x7fbc709d2500>]\n",
      "factors: [<DiscreteFactor representing phi(Small Airway Blockage 8 (%):16, Small Airway Blockage 7 (%):16) at 0x7fbc709d1c00>]\n",
      "Prepare vars to be returned\n",
      "node: Small Airway Blockage 7 (%)\n",
      "Query took 44.687233209609985s\n",
      "SAB: 8\n",
      "Preprocess query\n",
      "Run query\n",
      "Query var to list\n",
      "Find nodes with query vars\n",
      "Conversion to set of tuple\n",
      "Compute clique potentials\n",
      "Variable elimination marginalize\n"
     ]
    },
    {
     "data": {
      "application/vnd.jupyter.widget-view+json": {
       "model_id": "2c1b69c0e9724b96b145896836de234f",
       "version_major": 2,
       "version_minor": 0
      },
      "text/plain": [
       "  0%|          | 0/18 [00:00<?, ?it/s]"
      ]
     },
     "metadata": {},
     "output_type": "display_data"
    },
    {
     "name": "stdout",
     "output_type": "stream",
     "text": [
      "factors: [<DiscreteFactor representing phi(Unblocked FEV1 (L):58, Small Airway Blockage 16 (%):16) at 0x7fbc709d11b0>]\n",
      "factors: [<DiscreteFactor representing phi(Unblocked FEV1 (L):58, Small Airway Blockage 9 (%):16) at 0x7fbc709d1b40>]\n",
      "factors: [<DiscreteFactor representing phi(Unblocked FEV1 (L):58, Small Airway Blockage 17 (%):16) at 0x7fbc709d1990>]\n",
      "factors: [<DiscreteFactor representing phi(Unblocked FEV1 (L):58, Small Airway Blockage 3 (%):16) at 0x7fbc709d1c90>]\n",
      "factors: [<DiscreteFactor representing phi(Unblocked FEV1 (L):58, Small Airway Blockage 6 (%):16) at 0x7fbc709d15a0>]\n",
      "factors: [<DiscreteFactor representing phi(Unblocked FEV1 (L):58, Small Airway Blockage 11 (%):16) at 0x7fbc709d23b0>]\n",
      "factors: [<DiscreteFactor representing phi(Unblocked FEV1 (L):58, Small Airway Blockage 7 (%):16) at 0x7fbc709d27d0>]\n",
      "factors: [<DiscreteFactor representing phi(Unblocked FEV1 (L):58, Small Airway Blockage 10 (%):16) at 0x7fbc709d1720>]\n",
      "factors: [<DiscreteFactor representing phi(Unblocked FEV1 (L):58, Small Airway Blockage 14 (%):16) at 0x7fbc709d18a0>]\n",
      "factors: [<DiscreteFactor representing phi(Unblocked FEV1 (L):58, Small Airway Blockage 2 (%):16) at 0x7fbc709d36a0>]\n",
      "factors: [<DiscreteFactor representing phi(Unblocked FEV1 (L):58, Small Airway Blockage 15 (%):16) at 0x7fbc709d1630>]\n",
      "factors: [<DiscreteFactor representing phi(Unblocked FEV1 (L):58, Small Airway Blockage 0 (%):16) at 0x7fbc709d0d00>]\n",
      "factors: [<DiscreteFactor representing phi(Unblocked FEV1 (L):58, Small Airway Blockage 1 (%):16) at 0x7fbc709d3220>]\n",
      "factors: [<DiscreteFactor representing phi(Unblocked FEV1 (L):58, Small Airway Blockage 8 (%):16) at 0x7fbc709d3280>, <DiscreteFactor representing phi(Unblocked FEV1 (L):58) at 0x7fbc70a04970>, <DiscreteFactor representing phi(Unblocked FEV1 (L):58) at 0x7fbc70a04fa0>, <DiscreteFactor representing phi(Unblocked FEV1 (L):58) at 0x7fbc70a05000>, <DiscreteFactor representing phi(Unblocked FEV1 (L):58, Small Airway Blockage 4 (%):16) at 0x7fbc709d2c50>, <DiscreteFactor representing phi(Unblocked FEV1 (L):58) at 0x7fbc70a04b20>, <DiscreteFactor representing phi(Unblocked FEV1 (L):58) at 0x7fbc70a043d0>, <DiscreteFactor representing phi(Unblocked FEV1 (L):58) at 0x7fbc70a041f0>, <DiscreteFactor representing phi(Unblocked FEV1 (L):58, Small Airway Blockage 12 (%):16) at 0x7fbc709d1de0>, <DiscreteFactor representing phi(Unblocked FEV1 (L):58) at 0x7fbc70a043a0>, <DiscreteFactor representing phi(Unblocked FEV1 (L):58) at 0x7fbc70a051b0>, <DiscreteFactor representing phi(Unblocked FEV1 (L):58) at 0x7fbc70a04250>, <DiscreteFactor representing phi(Unblocked FEV1 (L):58) at 0x7fbc70a05240>, <DiscreteFactor representing phi(Unblocked FEV1 (L):58, Small Airway Blockage 13 (%):16) at 0x7fbc709d34f0>, <DiscreteFactor representing phi(Unblocked FEV1 (L):58) at 0x7fbc70a04850>, <DiscreteFactor representing phi(Unblocked FEV1 (L):58, Small Airway Blockage 5 (%):16) at 0x7fbc709d3c10>, <DiscreteFactor representing phi(Unblocked FEV1 (L):58) at 0x7fbc70a04640>, <DiscreteFactor representing phi(Unblocked FEV1 (L):58) at 0x7fbc70a04160>]\n",
      "factors: [<DiscreteFactor representing phi(Small Airway Blockage 8 (%):16, Small Airway Blockage 4 (%):16, Small Airway Blockage 12 (%):16, Small Airway Blockage 13 (%):16, Small Airway Blockage 5 (%):16) at 0x7fbc709d24a0>]\n",
      "factors: [<DiscreteFactor representing phi(Small Airway Blockage 8 (%):16, Small Airway Blockage 4 (%):16, Small Airway Blockage 12 (%):16, Small Airway Blockage 13 (%):16) at 0x7fbc70a04fa0>]\n",
      "factors: [<DiscreteFactor representing phi(Small Airway Blockage 8 (%):16, Small Airway Blockage 12 (%):16, Small Airway Blockage 13 (%):16) at 0x7fbc709d09a0>]\n",
      "factors: [<DiscreteFactor representing phi(Small Airway Blockage 8 (%):16, Small Airway Blockage 12 (%):16) at 0x7fbc709d3c10>]\n",
      "Prepare vars to be returned\n",
      "node: Small Airway Blockage 8 (%)\n",
      "Query took 1.5006170272827148s\n",
      "SAB: 9\n",
      "Preprocess query\n",
      "Run query\n",
      "Query var to list\n",
      "Find nodes with query vars\n",
      "Conversion to set of tuple\n",
      "Compute clique potentials\n",
      "Variable elimination marginalize\n"
     ]
    },
    {
     "data": {
      "application/vnd.jupyter.widget-view+json": {
       "model_id": "b2c1ca3a926a4e0db0948137e661812f",
       "version_major": 2,
       "version_minor": 0
      },
      "text/plain": [
       "  0%|          | 0/18 [00:00<?, ?it/s]"
      ]
     },
     "metadata": {},
     "output_type": "display_data"
    },
    {
     "name": "stdout",
     "output_type": "stream",
     "text": [
      "factors: [<DiscreteFactor representing phi(Unblocked FEV1 (L):58, Small Airway Blockage 16 (%):16) at 0x7fbc709d30d0>]\n",
      "factors: [<DiscreteFactor representing phi(Unblocked FEV1 (L):58, Small Airway Blockage 17 (%):16) at 0x7fbc709d2110>]\n",
      "factors: [<DiscreteFactor representing phi(Unblocked FEV1 (L):58, Small Airway Blockage 3 (%):16) at 0x7fbc709d2260>]\n",
      "factors: [<DiscreteFactor representing phi(Unblocked FEV1 (L):58, Small Airway Blockage 6 (%):16) at 0x7fbc709d3940>]\n",
      "factors: [<DiscreteFactor representing phi(Unblocked FEV1 (L):58, Small Airway Blockage 11 (%):16) at 0x7fbc709d3550>]\n",
      "factors: [<DiscreteFactor representing phi(Unblocked FEV1 (L):58, Small Airway Blockage 7 (%):16) at 0x7fbc709d2b60>]\n",
      "factors: [<DiscreteFactor representing phi(Unblocked FEV1 (L):58, Small Airway Blockage 10 (%):16) at 0x7fbc709d1870>]\n",
      "factors: [<DiscreteFactor representing phi(Unblocked FEV1 (L):58, Small Airway Blockage 14 (%):16) at 0x7fbc709d2d10>]\n",
      "factors: [<DiscreteFactor representing phi(Unblocked FEV1 (L):58, Small Airway Blockage 2 (%):16) at 0x7fbc709d02e0>]\n",
      "factors: [<DiscreteFactor representing phi(Unblocked FEV1 (L):58, Small Airway Blockage 15 (%):16) at 0x7fbc709d2bc0>]\n",
      "factors: [<DiscreteFactor representing phi(Unblocked FEV1 (L):58, Small Airway Blockage 0 (%):16) at 0x7fbc709d3eb0>]\n",
      "factors: [<DiscreteFactor representing phi(Unblocked FEV1 (L):58, Small Airway Blockage 1 (%):16) at 0x7fbc709d3820>]\n",
      "factors: [<DiscreteFactor representing phi(Unblocked FEV1 (L):58, Small Airway Blockage 8 (%):16) at 0x7fbc709d0520>, <DiscreteFactor representing phi(Unblocked FEV1 (L):58) at 0x7fbc70a056f0>, <DiscreteFactor representing phi(Unblocked FEV1 (L):58) at 0x7fbc70a04490>, <DiscreteFactor representing phi(Unblocked FEV1 (L):58, Small Airway Blockage 4 (%):16) at 0x7fbc709d0340>, <DiscreteFactor representing phi(Unblocked FEV1 (L):58) at 0x7fbc70a05e40>, <DiscreteFactor representing phi(Unblocked FEV1 (L):58, Small Airway Blockage 9 (%):16) at 0x7fbc709d1b70>, <DiscreteFactor representing phi(Unblocked FEV1 (L):58) at 0x7fbc70a048e0>, <DiscreteFactor representing phi(Unblocked FEV1 (L):58) at 0x7fbc70a04bb0>, <DiscreteFactor representing phi(Unblocked FEV1 (L):58, Small Airway Blockage 12 (%):16) at 0x7fbc709d3fd0>, <DiscreteFactor representing phi(Unblocked FEV1 (L):58) at 0x7fbc70a058d0>, <DiscreteFactor representing phi(Unblocked FEV1 (L):58) at 0x7fbc70a04970>, <DiscreteFactor representing phi(Unblocked FEV1 (L):58) at 0x7fbc70a044c0>, <DiscreteFactor representing phi(Unblocked FEV1 (L):58) at 0x7fbc70a05540>, <DiscreteFactor representing phi(Unblocked FEV1 (L):58, Small Airway Blockage 13 (%):16) at 0x7fbc709d0640>, <DiscreteFactor representing phi(Unblocked FEV1 (L):58) at 0x7fbc70a05a80>, <DiscreteFactor representing phi(Unblocked FEV1 (L):58, Small Airway Blockage 5 (%):16) at 0x7fbc709d1960>, <DiscreteFactor representing phi(Unblocked FEV1 (L):58) at 0x7fbc70a05cf0>, <DiscreteFactor representing phi(Unblocked FEV1 (L):58) at 0x7fbc70a05390>]\n",
      "factors: [<DiscreteFactor representing phi(Small Airway Blockage 8 (%):16, Small Airway Blockage 4 (%):16, Small Airway Blockage 9 (%):16, Small Airway Blockage 12 (%):16, Small Airway Blockage 13 (%):16, Small Airway Blockage 5 (%):16) at 0x7fbc70a05f60>]\n",
      "factors: [<DiscreteFactor representing phi(Small Airway Blockage 8 (%):16, Small Airway Blockage 4 (%):16, Small Airway Blockage 9 (%):16, Small Airway Blockage 12 (%):16, Small Airway Blockage 13 (%):16) at 0x7fbc70a04bb0>]\n",
      "factors: [<DiscreteFactor representing phi(Small Airway Blockage 8 (%):16, Small Airway Blockage 9 (%):16, Small Airway Blockage 12 (%):16, Small Airway Blockage 13 (%):16) at 0x7fbc709d0460>]\n",
      "factors: [<DiscreteFactor representing phi(Small Airway Blockage 8 (%):16, Small Airway Blockage 9 (%):16, Small Airway Blockage 12 (%):16) at 0x7fbc709d3280>]\n",
      "factors: [<DiscreteFactor representing phi(Small Airway Blockage 8 (%):16, Small Airway Blockage 9 (%):16) at 0x7fbc709d0340>]\n",
      "Prepare vars to be returned\n",
      "node: Small Airway Blockage 9 (%)\n",
      "Query took 45.26687288284302s\n",
      "SAB: 10\n",
      "Preprocess query\n",
      "Run query\n",
      "Query var to list\n",
      "Find nodes with query vars\n",
      "Conversion to set of tuple\n",
      "Compute clique potentials\n",
      "Variable elimination marginalize\n"
     ]
    },
    {
     "data": {
      "application/vnd.jupyter.widget-view+json": {
       "model_id": "cf845fcb70694523b0de1c41cb30eea8",
       "version_major": 2,
       "version_minor": 0
      },
      "text/plain": [
       "  0%|          | 0/18 [00:00<?, ?it/s]"
      ]
     },
     "metadata": {},
     "output_type": "display_data"
    },
    {
     "name": "stdout",
     "output_type": "stream",
     "text": [
      "factors: [<DiscreteFactor representing phi(Unblocked FEV1 (L):58, Small Airway Blockage 16 (%):16) at 0x7fbc709d3a00>]\n",
      "factors: [<DiscreteFactor representing phi(Unblocked FEV1 (L):58, Small Airway Blockage 9 (%):16) at 0x7fbc709d3280>]\n",
      "factors: [<DiscreteFactor representing phi(Unblocked FEV1 (L):58, Small Airway Blockage 17 (%):16) at 0x7fbc70a05fc0>]\n",
      "factors: [<DiscreteFactor representing phi(Unblocked FEV1 (L):58, Small Airway Blockage 3 (%):16) at 0x7fbc709d29e0>]\n",
      "factors: [<DiscreteFactor representing phi(Unblocked FEV1 (L):58, Small Airway Blockage 6 (%):16) at 0x7fbc709d11b0>]\n",
      "factors: [<DiscreteFactor representing phi(Unblocked FEV1 (L):58, Small Airway Blockage 11 (%):16) at 0x7fbc709d2a40>]\n",
      "factors: [<DiscreteFactor representing phi(Unblocked FEV1 (L):58, Small Airway Blockage 7 (%):16) at 0x7fbc709d1e10>]\n",
      "factors: [<DiscreteFactor representing phi(Unblocked FEV1 (L):58, Small Airway Blockage 14 (%):16) at 0x7fbc709d34f0>]\n",
      "factors: [<DiscreteFactor representing phi(Unblocked FEV1 (L):58, Small Airway Blockage 2 (%):16) at 0x7fbc709d1210>]\n",
      "factors: [<DiscreteFactor representing phi(Unblocked FEV1 (L):58, Small Airway Blockage 15 (%):16) at 0x7fbc709d0550>]\n",
      "factors: [<DiscreteFactor representing phi(Unblocked FEV1 (L):58, Small Airway Blockage 0 (%):16) at 0x7fbc709d05e0>]\n",
      "factors: [<DiscreteFactor representing phi(Unblocked FEV1 (L):58, Small Airway Blockage 1 (%):16) at 0x7fbc709d2500>]\n",
      "factors: [<DiscreteFactor representing phi(Unblocked FEV1 (L):58, Small Airway Blockage 8 (%):16) at 0x7fbc709d0460>, <DiscreteFactor representing phi(Unblocked FEV1 (L):58) at 0x7fbc70a05de0>, <DiscreteFactor representing phi(Unblocked FEV1 (L):58) at 0x7fbc70a04d60>, <DiscreteFactor representing phi(Unblocked FEV1 (L):58, Small Airway Blockage 4 (%):16) at 0x7fbc709d1510>, <DiscreteFactor representing phi(Unblocked FEV1 (L):58) at 0x7fbc70a06470>, <DiscreteFactor representing phi(Unblocked FEV1 (L):58) at 0x7fbc70a05330>, <DiscreteFactor representing phi(Unblocked FEV1 (L):58) at 0x7fbc70a04f70>, <DiscreteFactor representing phi(Unblocked FEV1 (L):58, Small Airway Blockage 12 (%):16) at 0x7fbc709d0340>, <DiscreteFactor representing phi(Unblocked FEV1 (L):58) at 0x7fbc70a05ff0>, <DiscreteFactor representing phi(Unblocked FEV1 (L):58) at 0x7fbc70a059f0>, <DiscreteFactor representing phi(Unblocked FEV1 (L):58) at 0x7fbc70a05210>, <DiscreteFactor representing phi(Unblocked FEV1 (L):58, Small Airway Blockage 10 (%):16) at 0x7fbc709d1b70>, <DiscreteFactor representing phi(Unblocked FEV1 (L):58) at 0x7fbc70a052d0>, <DiscreteFactor representing phi(Unblocked FEV1 (L):58, Small Airway Blockage 13 (%):16) at 0x7fbc709d1780>, <DiscreteFactor representing phi(Unblocked FEV1 (L):58) at 0x7fbc70a06110>, <DiscreteFactor representing phi(Unblocked FEV1 (L):58, Small Airway Blockage 5 (%):16) at 0x7fbc709d3d60>, <DiscreteFactor representing phi(Unblocked FEV1 (L):58) at 0x7fbc70a062c0>, <DiscreteFactor representing phi(Unblocked FEV1 (L):58) at 0x7fbc70a05480>]\n",
      "factors: [<DiscreteFactor representing phi(Small Airway Blockage 8 (%):16, Small Airway Blockage 4 (%):16, Small Airway Blockage 12 (%):16, Small Airway Blockage 10 (%):16, Small Airway Blockage 13 (%):16, Small Airway Blockage 5 (%):16) at 0x7fbc70a05b70>]\n",
      "factors: [<DiscreteFactor representing phi(Small Airway Blockage 8 (%):16, Small Airway Blockage 4 (%):16, Small Airway Blockage 12 (%):16, Small Airway Blockage 10 (%):16, Small Airway Blockage 13 (%):16) at 0x7fbc70a05ff0>]\n",
      "factors: [<DiscreteFactor representing phi(Small Airway Blockage 8 (%):16, Small Airway Blockage 12 (%):16, Small Airway Blockage 10 (%):16, Small Airway Blockage 13 (%):16) at 0x7fbc70a059f0>]\n",
      "factors: [<DiscreteFactor representing phi(Small Airway Blockage 8 (%):16, Small Airway Blockage 12 (%):16, Small Airway Blockage 10 (%):16) at 0x7fbc709d0550>]\n",
      "factors: [<DiscreteFactor representing phi(Small Airway Blockage 8 (%):16, Small Airway Blockage 10 (%):16) at 0x7fbc709d34f0>]\n",
      "Prepare vars to be returned\n",
      "node: Small Airway Blockage 10 (%)\n",
      "Query took 45.444122076034546s\n",
      "SAB: 11\n",
      "Preprocess query\n",
      "Run query\n",
      "Query var to list\n",
      "Find nodes with query vars\n",
      "Conversion to set of tuple\n",
      "Compute clique potentials\n",
      "Variable elimination marginalize\n"
     ]
    },
    {
     "data": {
      "application/vnd.jupyter.widget-view+json": {
       "model_id": "84ddc44ac5114584ab0bebb74dc8a0c3",
       "version_major": 2,
       "version_minor": 0
      },
      "text/plain": [
       "  0%|          | 0/18 [00:00<?, ?it/s]"
      ]
     },
     "metadata": {},
     "output_type": "display_data"
    },
    {
     "name": "stdout",
     "output_type": "stream",
     "text": [
      "factors: [<DiscreteFactor representing phi(Unblocked FEV1 (L):58, Small Airway Blockage 16 (%):16) at 0x7fbc709d3820>]\n",
      "factors: [<DiscreteFactor representing phi(Unblocked FEV1 (L):58, Small Airway Blockage 9 (%):16) at 0x7fbc709d18a0>]\n",
      "factors: [<DiscreteFactor representing phi(Unblocked FEV1 (L):58, Small Airway Blockage 17 (%):16) at 0x7fbc709d3fa0>]\n",
      "factors: [<DiscreteFactor representing phi(Unblocked FEV1 (L):58, Small Airway Blockage 3 (%):16) at 0x7fbc709d2260>]\n",
      "factors: [<DiscreteFactor representing phi(Unblocked FEV1 (L):58, Small Airway Blockage 6 (%):16) at 0x7fbc709d1960>]\n",
      "factors: [<DiscreteFactor representing phi(Unblocked FEV1 (L):58, Small Airway Blockage 7 (%):16) at 0x7fbc709d1030>]\n",
      "factors: [<DiscreteFactor representing phi(Unblocked FEV1 (L):58, Small Airway Blockage 10 (%):16) at 0x7fbc709d0d00>]\n",
      "factors: [<DiscreteFactor representing phi(Unblocked FEV1 (L):58, Small Airway Blockage 14 (%):16) at 0x7fbc709d1db0>]\n",
      "factors: [<DiscreteFactor representing phi(Unblocked FEV1 (L):58, Small Airway Blockage 2 (%):16) at 0x7fbc709d1c30>]\n",
      "factors: [<DiscreteFactor representing phi(Unblocked FEV1 (L):58, Small Airway Blockage 15 (%):16) at 0x7fbc709d04f0>]\n",
      "factors: [<DiscreteFactor representing phi(Unblocked FEV1 (L):58, Small Airway Blockage 0 (%):16) at 0x7fbc709d1b40>]\n",
      "factors: [<DiscreteFactor representing phi(Unblocked FEV1 (L):58, Small Airway Blockage 1 (%):16) at 0x7fbc709d02e0>]\n",
      "factors: [<DiscreteFactor representing phi(Unblocked FEV1 (L):58, Small Airway Blockage 8 (%):16) at 0x7fbc709d18d0>, <DiscreteFactor representing phi(Unblocked FEV1 (L):58) at 0x7fbc70a05150>, <DiscreteFactor representing phi(Unblocked FEV1 (L):58) at 0x7fbc70a04b20>, <DiscreteFactor representing phi(Unblocked FEV1 (L):58) at 0x7fbc70a05ea0>, <DiscreteFactor representing phi(Unblocked FEV1 (L):58, Small Airway Blockage 4 (%):16) at 0x7fbc709d17b0>, <DiscreteFactor representing phi(Unblocked FEV1 (L):58) at 0x7fbc70a04b50>, <DiscreteFactor representing phi(Unblocked FEV1 (L):58) at 0x7fbc70a051e0>, <DiscreteFactor representing phi(Unblocked FEV1 (L):58) at 0x7fbc70a06260>, <DiscreteFactor representing phi(Unblocked FEV1 (L):58, Small Airway Blockage 12 (%):16) at 0x7fbc709d08b0>, <DiscreteFactor representing phi(Unblocked FEV1 (L):58) at 0x7fbc70a05060>, <DiscreteFactor representing phi(Unblocked FEV1 (L):58) at 0x7fbc70a05c90>, <DiscreteFactor representing phi(Unblocked FEV1 (L):58) at 0x7fbc70a04670>, <DiscreteFactor representing phi(Unblocked FEV1 (L):58) at 0x7fbc70a05cc0>, <DiscreteFactor representing phi(Unblocked FEV1 (L):58, Small Airway Blockage 13 (%):16) at 0x7fbc709d1990>, <DiscreteFactor representing phi(Unblocked FEV1 (L):58) at 0x7fbc70a05fc0>, <DiscreteFactor representing phi(Unblocked FEV1 (L):58, Small Airway Blockage 5 (%):16) at 0x7fbc709d1de0>, <DiscreteFactor representing phi(Unblocked FEV1 (L):58, Small Airway Blockage 11 (%):16) at 0x7fbc709d1720>, <DiscreteFactor representing phi(Unblocked FEV1 (L):58) at 0x7fbc70a05570>]\n",
      "factors: [<DiscreteFactor representing phi(Small Airway Blockage 8 (%):16, Small Airway Blockage 4 (%):16, Small Airway Blockage 12 (%):16, Small Airway Blockage 13 (%):16, Small Airway Blockage 5 (%):16, Small Airway Blockage 11 (%):16) at 0x7fbc70a05360>]\n",
      "factors: [<DiscreteFactor representing phi(Small Airway Blockage 8 (%):16, Small Airway Blockage 4 (%):16, Small Airway Blockage 12 (%):16, Small Airway Blockage 13 (%):16, Small Airway Blockage 11 (%):16) at 0x7fbc70a06260>]\n",
      "factors: [<DiscreteFactor representing phi(Small Airway Blockage 8 (%):16, Small Airway Blockage 12 (%):16, Small Airway Blockage 13 (%):16, Small Airway Blockage 11 (%):16) at 0x7fbc70a05150>]\n",
      "factors: [<DiscreteFactor representing phi(Small Airway Blockage 8 (%):16, Small Airway Blockage 12 (%):16, Small Airway Blockage 11 (%):16) at 0x7fbc709d02e0>]\n",
      "factors: [<DiscreteFactor representing phi(Small Airway Blockage 8 (%):16, Small Airway Blockage 11 (%):16) at 0x7fbc709d17b0>]\n",
      "Prepare vars to be returned\n",
      "node: Small Airway Blockage 11 (%)\n",
      "Query took 30.398081064224243s\n",
      "SAB: 12\n",
      "Preprocess query\n",
      "Run query\n",
      "Query var to list\n",
      "Find nodes with query vars\n",
      "Conversion to set of tuple\n",
      "Compute clique potentials\n",
      "Variable elimination marginalize\n"
     ]
    },
    {
     "data": {
      "application/vnd.jupyter.widget-view+json": {
       "model_id": "f50eea6c90424ac9b8f4fe743ff8ac23",
       "version_major": 2,
       "version_minor": 0
      },
      "text/plain": [
       "  0%|          | 0/18 [00:00<?, ?it/s]"
      ]
     },
     "metadata": {},
     "output_type": "display_data"
    },
    {
     "name": "stdout",
     "output_type": "stream",
     "text": [
      "factors: [<DiscreteFactor representing phi(Unblocked FEV1 (L):58, Small Airway Blockage 16 (%):16) at 0x7fbc709d27a0>]\n",
      "factors: [<DiscreteFactor representing phi(Unblocked FEV1 (L):58, Small Airway Blockage 9 (%):16) at 0x7fbc709d3400>]\n",
      "factors: [<DiscreteFactor representing phi(Unblocked FEV1 (L):58, Small Airway Blockage 17 (%):16) at 0x7fbc709d3220>]\n",
      "factors: [<DiscreteFactor representing phi(Unblocked FEV1 (L):58, Small Airway Blockage 3 (%):16) at 0x7fbc709d3a00>]\n",
      "factors: [<DiscreteFactor representing phi(Unblocked FEV1 (L):58, Small Airway Blockage 6 (%):16) at 0x7fbc709d3280>]\n",
      "factors: [<DiscreteFactor representing phi(Unblocked FEV1 (L):58, Small Airway Blockage 11 (%):16) at 0x7fbc709d1780>]\n",
      "factors: [<DiscreteFactor representing phi(Unblocked FEV1 (L):58, Small Airway Blockage 7 (%):16) at 0x7fbc709d0c40>]\n",
      "factors: [<DiscreteFactor representing phi(Unblocked FEV1 (L):58, Small Airway Blockage 10 (%):16) at 0x7fbc709d2d10>]\n",
      "factors: [<DiscreteFactor representing phi(Unblocked FEV1 (L):58, Small Airway Blockage 14 (%):16) at 0x7fbc709d3d60>]\n",
      "factors: [<DiscreteFactor representing phi(Unblocked FEV1 (L):58, Small Airway Blockage 2 (%):16) at 0x7fbc709d0340>]\n",
      "factors: [<DiscreteFactor representing phi(Unblocked FEV1 (L):58, Small Airway Blockage 15 (%):16) at 0x7fbc709d36a0>]\n",
      "factors: [<DiscreteFactor representing phi(Unblocked FEV1 (L):58, Small Airway Blockage 0 (%):16) at 0x7fbc709d2500>]\n",
      "factors: [<DiscreteFactor representing phi(Unblocked FEV1 (L):58, Small Airway Blockage 1 (%):16) at 0x7fbc709d38e0>]\n",
      "factors: [<DiscreteFactor representing phi(Unblocked FEV1 (L):58, Small Airway Blockage 8 (%):16) at 0x7fbc709d37f0>, <DiscreteFactor representing phi(Unblocked FEV1 (L):58) at 0x7fbc70a05ae0>, <DiscreteFactor representing phi(Unblocked FEV1 (L):58) at 0x7fbc70a06770>, <DiscreteFactor representing phi(Unblocked FEV1 (L):58) at 0x7fbc70a06920>, <DiscreteFactor representing phi(Unblocked FEV1 (L):58, Small Airway Blockage 4 (%):16) at 0x7fbc709d2a40>, <DiscreteFactor representing phi(Unblocked FEV1 (L):58) at 0x7fbc70a06fe0>, <DiscreteFactor representing phi(Unblocked FEV1 (L):58) at 0x7fbc70a05360>, <DiscreteFactor representing phi(Unblocked FEV1 (L):58) at 0x7fbc70a056f0>, <DiscreteFactor representing phi(Unblocked FEV1 (L):58, Small Airway Blockage 12 (%):16) at 0x7fbc709d3fd0>, <DiscreteFactor representing phi(Unblocked FEV1 (L):58) at 0x7fbc70a06ad0>, <DiscreteFactor representing phi(Unblocked FEV1 (L):58) at 0x7fbc70a04f10>, <DiscreteFactor representing phi(Unblocked FEV1 (L):58) at 0x7fbc70a04e50>, <DiscreteFactor representing phi(Unblocked FEV1 (L):58) at 0x7fbc70a065c0>, <DiscreteFactor representing phi(Unblocked FEV1 (L):58, Small Airway Blockage 13 (%):16) at 0x7fbc709d05e0>, <DiscreteFactor representing phi(Unblocked FEV1 (L):58) at 0x7fbc70a06c80>, <DiscreteFactor representing phi(Unblocked FEV1 (L):58, Small Airway Blockage 5 (%):16) at 0x7fbc709d2b60>, <DiscreteFactor representing phi(Unblocked FEV1 (L):58) at 0x7fbc70a06e30>, <DiscreteFactor representing phi(Unblocked FEV1 (L):58) at 0x7fbc70a05990>]\n",
      "factors: [<DiscreteFactor representing phi(Small Airway Blockage 8 (%):16, Small Airway Blockage 4 (%):16, Small Airway Blockage 12 (%):16, Small Airway Blockage 13 (%):16, Small Airway Blockage 5 (%):16) at 0x7fbc70a059f0>]\n",
      "factors: [<DiscreteFactor representing phi(Small Airway Blockage 8 (%):16, Small Airway Blockage 4 (%):16, Small Airway Blockage 12 (%):16, Small Airway Blockage 13 (%):16) at 0x7fbc70a056f0>]\n",
      "factors: [<DiscreteFactor representing phi(Small Airway Blockage 8 (%):16, Small Airway Blockage 12 (%):16, Small Airway Blockage 13 (%):16) at 0x7fbc709d2d10>]\n",
      "factors: [<DiscreteFactor representing phi(Small Airway Blockage 8 (%):16, Small Airway Blockage 12 (%):16) at 0x7fbc709d2b60>]\n",
      "Prepare vars to be returned\n",
      "node: Small Airway Blockage 12 (%)\n",
      "Query took 1.488755226135254s\n",
      "SAB: 13\n",
      "Preprocess query\n",
      "Run query\n",
      "Query var to list\n",
      "Find nodes with query vars\n",
      "Conversion to set of tuple\n",
      "Compute clique potentials\n",
      "Variable elimination marginalize\n"
     ]
    },
    {
     "data": {
      "application/vnd.jupyter.widget-view+json": {
       "model_id": "25be4b1679924b1b9c7d5c1738c21126",
       "version_major": 2,
       "version_minor": 0
      },
      "text/plain": [
       "  0%|          | 0/18 [00:00<?, ?it/s]"
      ]
     },
     "metadata": {},
     "output_type": "display_data"
    },
    {
     "name": "stdout",
     "output_type": "stream",
     "text": [
      "factors: [<DiscreteFactor representing phi(Unblocked FEV1 (L):58, Small Airway Blockage 16 (%):16) at 0x7fbc70a06fb0>]\n",
      "factors: [<DiscreteFactor representing phi(Unblocked FEV1 (L):58, Small Airway Blockage 9 (%):16) at 0x7fbc709d1db0>]\n",
      "factors: [<DiscreteFactor representing phi(Unblocked FEV1 (L):58, Small Airway Blockage 17 (%):16) at 0x7fbc70a06f80>]\n",
      "factors: [<DiscreteFactor representing phi(Unblocked FEV1 (L):58, Small Airway Blockage 3 (%):16) at 0x7fbc709d3940>]\n",
      "factors: [<DiscreteFactor representing phi(Unblocked FEV1 (L):58, Small Airway Blockage 6 (%):16) at 0x7fbc709d3640>]\n",
      "factors: [<DiscreteFactor representing phi(Unblocked FEV1 (L):58, Small Airway Blockage 7 (%):16) at 0x7fbc709d0130>]\n",
      "factors: [<DiscreteFactor representing phi(Unblocked FEV1 (L):58, Small Airway Blockage 10 (%):16) at 0x7fbc709d2d10>]\n",
      "factors: [<DiscreteFactor representing phi(Unblocked FEV1 (L):58, Small Airway Blockage 14 (%):16) at 0x7fbc709d1210>]\n",
      "factors: [<DiscreteFactor representing phi(Unblocked FEV1 (L):58, Small Airway Blockage 2 (%):16) at 0x7fbc709d1b70>]\n",
      "factors: [<DiscreteFactor representing phi(Unblocked FEV1 (L):58, Small Airway Blockage 15 (%):16) at 0x7fbc70a04e20>]\n",
      "factors: [<DiscreteFactor representing phi(Unblocked FEV1 (L):58, Small Airway Blockage 0 (%):16) at 0x7fbc709d0550>]\n",
      "factors: [<DiscreteFactor representing phi(Unblocked FEV1 (L):58, Small Airway Blockage 1 (%):16) at 0x7fbc709d1e10>]\n",
      "factors: [<DiscreteFactor representing phi(Unblocked FEV1 (L):58, Small Airway Blockage 8 (%):16) at 0x7fbc709d2b60>, <DiscreteFactor representing phi(Unblocked FEV1 (L):58) at 0x7fbc70a06ef0>, <DiscreteFactor representing phi(Unblocked FEV1 (L):58) at 0x7fbc70a05330>, <DiscreteFactor representing phi(Unblocked FEV1 (L):58) at 0x7fbc70a06320>, <DiscreteFactor representing phi(Unblocked FEV1 (L):58, Small Airway Blockage 4 (%):16) at 0x7fbc709d1510>, <DiscreteFactor representing phi(Unblocked FEV1 (L):58) at 0x7fbc70a04b80>, <DiscreteFactor representing phi(Unblocked FEV1 (L):58) at 0x7fbc70a06980>, <DiscreteFactor representing phi(Unblocked FEV1 (L):58) at 0x7fbc70a06920>, <DiscreteFactor representing phi(Unblocked FEV1 (L):58, Small Airway Blockage 12 (%):16) at 0x7fbc709d3fd0>, <DiscreteFactor representing phi(Unblocked FEV1 (L):58) at 0x7fbc70a04190>, <DiscreteFactor representing phi(Unblocked FEV1 (L):58) at 0x7fbc70a04f10>, <DiscreteFactor representing phi(Unblocked FEV1 (L):58) at 0x7fbc70a05840>, <DiscreteFactor representing phi(Unblocked FEV1 (L):58) at 0x7fbc70a059c0>, <DiscreteFactor representing phi(Unblocked FEV1 (L):58, Small Airway Blockage 13 (%):16) at 0x7fbc709d27d0>, <DiscreteFactor representing phi(Unblocked FEV1 (L):58) at 0x7fbc70a05060>, <DiscreteFactor representing phi(Unblocked FEV1 (L):58, Small Airway Blockage 5 (%):16) at 0x7fbc709d0640>, <DiscreteFactor representing phi(Unblocked FEV1 (L):58, Small Airway Blockage 11 (%):16) at 0x7fbc709d08b0>, <DiscreteFactor representing phi(Unblocked FEV1 (L):58) at 0x7fbc70a04df0>]\n",
      "factors: [<DiscreteFactor representing phi(Small Airway Blockage 8 (%):16, Small Airway Blockage 4 (%):16, Small Airway Blockage 12 (%):16, Small Airway Blockage 13 (%):16, Small Airway Blockage 5 (%):16, Small Airway Blockage 11 (%):16) at 0x7fbc709d11b0>]\n",
      "factors: [<DiscreteFactor representing phi(Small Airway Blockage 8 (%):16, Small Airway Blockage 4 (%):16, Small Airway Blockage 12 (%):16, Small Airway Blockage 13 (%):16, Small Airway Blockage 11 (%):16) at 0x7fbc70a06ef0>]\n",
      "factors: [<DiscreteFactor representing phi(Small Airway Blockage 8 (%):16, Small Airway Blockage 12 (%):16, Small Airway Blockage 13 (%):16, Small Airway Blockage 11 (%):16) at 0x7fbc709d0dc0>]\n",
      "factors: [<DiscreteFactor representing phi(Small Airway Blockage 8 (%):16, Small Airway Blockage 12 (%):16, Small Airway Blockage 13 (%):16) at 0x7fbc709d17b0>]\n",
      "factors: [<DiscreteFactor representing phi(Small Airway Blockage 8 (%):16, Small Airway Blockage 13 (%):16) at 0x7fbc709d2d10>]\n",
      "Prepare vars to be returned\n",
      "node: Small Airway Blockage 13 (%)\n",
      "Query took 30.657803058624268s\n",
      "SAB: 14\n",
      "Preprocess query\n",
      "Run query\n",
      "Query var to list\n",
      "Find nodes with query vars\n",
      "Conversion to set of tuple\n",
      "Compute clique potentials\n",
      "Variable elimination marginalize\n"
     ]
    },
    {
     "data": {
      "application/vnd.jupyter.widget-view+json": {
       "model_id": "3b143337246c47b2bdc4c05874bd6853",
       "version_major": 2,
       "version_minor": 0
      },
      "text/plain": [
       "  0%|          | 0/18 [00:00<?, ?it/s]"
      ]
     },
     "metadata": {},
     "output_type": "display_data"
    },
    {
     "name": "stdout",
     "output_type": "stream",
     "text": [
      "factors: [<DiscreteFactor representing phi(Unblocked FEV1 (L):58, Small Airway Blockage 16 (%):16) at 0x7fbc709d11b0>]\n",
      "factors: [<DiscreteFactor representing phi(Unblocked FEV1 (L):58, Small Airway Blockage 9 (%):16) at 0x7fbc709d05e0>]\n",
      "factors: [<DiscreteFactor representing phi(Unblocked FEV1 (L):58, Small Airway Blockage 17 (%):16) at 0x7fbc709d3a00>]\n",
      "factors: [<DiscreteFactor representing phi(Unblocked FEV1 (L):58, Small Airway Blockage 3 (%):16) at 0x7fbc709d23b0>]\n",
      "factors: [<DiscreteFactor representing phi(Unblocked FEV1 (L):58, Small Airway Blockage 6 (%):16) at 0x7fbc709d0340>]\n",
      "factors: [<DiscreteFactor representing phi(Unblocked FEV1 (L):58, Small Airway Blockage 11 (%):16) at 0x7fbc709d1960>]\n",
      "factors: [<DiscreteFactor representing phi(Unblocked FEV1 (L):58, Small Airway Blockage 7 (%):16) at 0x7fbc709d2260>]\n",
      "factors: [<DiscreteFactor representing phi(Unblocked FEV1 (L):58, Small Airway Blockage 10 (%):16) at 0x7fbc709d3220>]\n",
      "factors: [<DiscreteFactor representing phi(Unblocked FEV1 (L):58, Small Airway Blockage 2 (%):16) at 0x7fbc709d1c30>]\n",
      "factors: [<DiscreteFactor representing phi(Unblocked FEV1 (L):58, Small Airway Blockage 15 (%):16) at 0x7fbc709d0520>]\n",
      "factors: [<DiscreteFactor representing phi(Unblocked FEV1 (L):58, Small Airway Blockage 0 (%):16) at 0x7fbc709d18a0>]\n",
      "factors: [<DiscreteFactor representing phi(Unblocked FEV1 (L):58, Small Airway Blockage 1 (%):16) at 0x7fbc709d04f0>]\n",
      "factors: [<DiscreteFactor representing phi(Unblocked FEV1 (L):58, Small Airway Blockage 8 (%):16) at 0x7fbc709d36a0>, <DiscreteFactor representing phi(Unblocked FEV1 (L):58) at 0x7fbc70a06f80>, <DiscreteFactor representing phi(Unblocked FEV1 (L):58) at 0x7fbc70a04970>, <DiscreteFactor representing phi(Unblocked FEV1 (L):58, Small Airway Blockage 4 (%):16) at 0x7fbc709d2110>, <DiscreteFactor representing phi(Unblocked FEV1 (L):58) at 0x7fbc70a06bf0>, <DiscreteFactor representing phi(Unblocked FEV1 (L):58) at 0x7fbc70a063e0>, <DiscreteFactor representing phi(Unblocked FEV1 (L):58) at 0x7fbc70a06380>, <DiscreteFactor representing phi(Unblocked FEV1 (L):58, Small Airway Blockage 12 (%):16) at 0x7fbc709d3280>, <DiscreteFactor representing phi(Unblocked FEV1 (L):58) at 0x7fbc70a060e0>, <DiscreteFactor representing phi(Unblocked FEV1 (L):58) at 0x7fbc70a05150>, <DiscreteFactor representing phi(Unblocked FEV1 (L):58) at 0x7fbc70a06a10>, <DiscreteFactor representing phi(Unblocked FEV1 (L):58) at 0x7fbc70a07280>, <DiscreteFactor representing phi(Unblocked FEV1 (L):58, Small Airway Blockage 13 (%):16) at 0x7fbc709d3a90>, <DiscreteFactor representing phi(Unblocked FEV1 (L):58) at 0x7fbc70a05300>, <DiscreteFactor representing phi(Unblocked FEV1 (L):58, Small Airway Blockage 5 (%):16) at 0x7fbc709d1de0>, <DiscreteFactor representing phi(Unblocked FEV1 (L):58, Small Airway Blockage 14 (%):16) at 0x7fbc709d0d00>, <DiscreteFactor representing phi(Unblocked FEV1 (L):58) at 0x7fbc70a04280>, <DiscreteFactor representing phi(Unblocked FEV1 (L):58) at 0x7fbc70a04df0>]\n",
      "factors: [<DiscreteFactor representing phi(Small Airway Blockage 8 (%):16, Small Airway Blockage 4 (%):16, Small Airway Blockage 12 (%):16, Small Airway Blockage 13 (%):16, Small Airway Blockage 5 (%):16, Small Airway Blockage 14 (%):16) at 0x7fbc70a06590>]\n",
      "factors: [<DiscreteFactor representing phi(Small Airway Blockage 8 (%):16, Small Airway Blockage 4 (%):16, Small Airway Blockage 12 (%):16, Small Airway Blockage 13 (%):16, Small Airway Blockage 14 (%):16) at 0x7fbc70a060e0>]\n",
      "factors: [<DiscreteFactor representing phi(Small Airway Blockage 8 (%):16, Small Airway Blockage 12 (%):16, Small Airway Blockage 13 (%):16, Small Airway Blockage 14 (%):16) at 0x7fbc709d0520>]\n",
      "factors: [<DiscreteFactor representing phi(Small Airway Blockage 8 (%):16, Small Airway Blockage 12 (%):16, Small Airway Blockage 14 (%):16) at 0x7fbc709d18a0>]\n",
      "factors: [<DiscreteFactor representing phi(Small Airway Blockage 8 (%):16, Small Airway Blockage 14 (%):16) at 0x7fbc70a04970>]\n",
      "Prepare vars to be returned\n",
      "node: Small Airway Blockage 14 (%)\n",
      "Query took 44.13573384284973s\n",
      "SAB: 15\n",
      "Preprocess query\n",
      "Run query\n",
      "Query var to list\n",
      "Find nodes with query vars\n",
      "Conversion to set of tuple\n",
      "Compute clique potentials\n",
      "Variable elimination marginalize\n"
     ]
    },
    {
     "data": {
      "application/vnd.jupyter.widget-view+json": {
       "model_id": "b437d50c918d4ef2981d2b696c1a0a1e",
       "version_major": 2,
       "version_minor": 0
      },
      "text/plain": [
       "  0%|          | 0/18 [00:00<?, ?it/s]"
      ]
     },
     "metadata": {},
     "output_type": "display_data"
    },
    {
     "name": "stdout",
     "output_type": "stream",
     "text": [
      "factors: [<DiscreteFactor representing phi(Unblocked FEV1 (L):58, Small Airway Blockage 16 (%):16) at 0x7fbc709d18a0>]\n",
      "factors: [<DiscreteFactor representing phi(Unblocked FEV1 (L):58, Small Airway Blockage 9 (%):16) at 0x7fbc709d3550>]\n",
      "factors: [<DiscreteFactor representing phi(Unblocked FEV1 (L):58, Small Airway Blockage 17 (%):16) at 0x7fbc709d1e10>]\n",
      "factors: [<DiscreteFactor representing phi(Unblocked FEV1 (L):58, Small Airway Blockage 3 (%):16) at 0x7fbc709d2500>]\n",
      "factors: [<DiscreteFactor representing phi(Unblocked FEV1 (L):58, Small Airway Blockage 6 (%):16) at 0x7fbc709d02e0>]\n",
      "factors: [<DiscreteFactor representing phi(Unblocked FEV1 (L):58, Small Airway Blockage 11 (%):16) at 0x7fbc709d34f0>]\n",
      "factors: [<DiscreteFactor representing phi(Unblocked FEV1 (L):58, Small Airway Blockage 7 (%):16) at 0x7fbc709d3fa0>]\n",
      "factors: [<DiscreteFactor representing phi(Unblocked FEV1 (L):58, Small Airway Blockage 10 (%):16) at 0x7fbc709d3820>]\n",
      "factors: [<DiscreteFactor representing phi(Unblocked FEV1 (L):58, Small Airway Blockage 14 (%):16) at 0x7fbc709d2410>]\n",
      "factors: [<DiscreteFactor representing phi(Unblocked FEV1 (L):58, Small Airway Blockage 2 (%):16) at 0x7fbc709d37f0>]\n",
      "factors: [<DiscreteFactor representing phi(Unblocked FEV1 (L):58, Small Airway Blockage 0 (%):16) at 0x7fbc709d38e0>]\n",
      "factors: [<DiscreteFactor representing phi(Unblocked FEV1 (L):58, Small Airway Blockage 1 (%):16) at 0x7fbc709d0c40>]\n",
      "factors: [<DiscreteFactor representing phi(Unblocked FEV1 (L):58, Small Airway Blockage 8 (%):16) at 0x7fbc709d3d30>, <DiscreteFactor representing phi(Unblocked FEV1 (L):58) at 0x7fbc70a067d0>, <DiscreteFactor representing phi(Unblocked FEV1 (L):58) at 0x7fbc70a04e20>, <DiscreteFactor representing phi(Unblocked FEV1 (L):58) at 0x7fbc70a076a0>, <DiscreteFactor representing phi(Unblocked FEV1 (L):58, Small Airway Blockage 4 (%):16) at 0x7fbc709d3190>, <DiscreteFactor representing phi(Unblocked FEV1 (L):58) at 0x7fbc70a07bb0>, <DiscreteFactor representing phi(Unblocked FEV1 (L):58) at 0x7fbc70a064d0>, <DiscreteFactor representing phi(Unblocked FEV1 (L):58) at 0x7fbc70a06cb0>, <DiscreteFactor representing phi(Unblocked FEV1 (L):58, Small Airway Blockage 12 (%):16) at 0x7fbc709d0130>, <DiscreteFactor representing phi(Unblocked FEV1 (L):58) at 0x7fbc70a07850>, <DiscreteFactor representing phi(Unblocked FEV1 (L):58) at 0x7fbc70a06bf0>, <DiscreteFactor representing phi(Unblocked FEV1 (L):58) at 0x7fbc70a072b0>, <DiscreteFactor representing phi(Unblocked FEV1 (L):58) at 0x7fbc70a07490>, <DiscreteFactor representing phi(Unblocked FEV1 (L):58, Small Airway Blockage 13 (%):16) at 0x7fbc709d30d0>, <DiscreteFactor representing phi(Unblocked FEV1 (L):58, Small Airway Blockage 15 (%):16) at 0x7fbc709d15a0>, <DiscreteFactor representing phi(Unblocked FEV1 (L):58, Small Airway Blockage 5 (%):16) at 0x7fbc709d2a40>, <DiscreteFactor representing phi(Unblocked FEV1 (L):58) at 0x7fbc70a07a00>, <DiscreteFactor representing phi(Unblocked FEV1 (L):58) at 0x7fbc70a06050>]\n",
      "factors: [<DiscreteFactor representing phi(Small Airway Blockage 8 (%):16, Small Airway Blockage 4 (%):16, Small Airway Blockage 12 (%):16, Small Airway Blockage 13 (%):16, Small Airway Blockage 15 (%):16, Small Airway Blockage 5 (%):16) at 0x7fbc70a07dc0>]\n",
      "factors: [<DiscreteFactor representing phi(Small Airway Blockage 8 (%):16, Small Airway Blockage 4 (%):16, Small Airway Blockage 12 (%):16, Small Airway Blockage 13 (%):16, Small Airway Blockage 15 (%):16) at 0x7fbc70a06cb0>]\n",
      "factors: [<DiscreteFactor representing phi(Small Airway Blockage 8 (%):16, Small Airway Blockage 12 (%):16, Small Airway Blockage 13 (%):16, Small Airway Blockage 15 (%):16) at 0x7fbc709d0c40>]\n",
      "factors: [<DiscreteFactor representing phi(Small Airway Blockage 8 (%):16, Small Airway Blockage 12 (%):16, Small Airway Blockage 15 (%):16) at 0x7fbc709d38e0>]\n",
      "factors: [<DiscreteFactor representing phi(Small Airway Blockage 8 (%):16, Small Airway Blockage 15 (%):16) at 0x7fbc709d3550>]\n",
      "Prepare vars to be returned\n",
      "node: Small Airway Blockage 15 (%)\n",
      "Query took 45.01864981651306s\n",
      "SAB: 16\n",
      "Preprocess query\n",
      "Run query\n",
      "Query var to list\n",
      "Find nodes with query vars\n",
      "Conversion to set of tuple\n",
      "Compute clique potentials\n",
      "Variable elimination marginalize\n"
     ]
    },
    {
     "data": {
      "application/vnd.jupyter.widget-view+json": {
       "model_id": "e5f0f823fbf6427aa18aa13d002f46b5",
       "version_major": 2,
       "version_minor": 0
      },
      "text/plain": [
       "  0%|          | 0/18 [00:00<?, ?it/s]"
      ]
     },
     "metadata": {},
     "output_type": "display_data"
    },
    {
     "name": "stdout",
     "output_type": "stream",
     "text": [
      "factors: [<DiscreteFactor representing phi(Unblocked FEV1 (L):58, Small Airway Blockage 9 (%):16) at 0x7fbc709d3a00>]\n",
      "factors: [<DiscreteFactor representing phi(Unblocked FEV1 (L):58, Small Airway Blockage 17 (%):16) at 0x7fbc709d0c40>]\n",
      "factors: [<DiscreteFactor representing phi(Unblocked FEV1 (L):58, Small Airway Blockage 3 (%):16) at 0x7fbc709d08b0>]\n",
      "factors: [<DiscreteFactor representing phi(Unblocked FEV1 (L):58, Small Airway Blockage 6 (%):16) at 0x7fbc709d3940>]\n",
      "factors: [<DiscreteFactor representing phi(Unblocked FEV1 (L):58, Small Airway Blockage 11 (%):16) at 0x7fbc709d1b40>]\n",
      "factors: [<DiscreteFactor representing phi(Unblocked FEV1 (L):58, Small Airway Blockage 7 (%):16) at 0x7fbc709d0550>]\n",
      "factors: [<DiscreteFactor representing phi(Unblocked FEV1 (L):58, Small Airway Blockage 10 (%):16) at 0x7fbc709d3400>]\n",
      "factors: [<DiscreteFactor representing phi(Unblocked FEV1 (L):58, Small Airway Blockage 14 (%):16) at 0x7fbc709d1510>]\n",
      "factors: [<DiscreteFactor representing phi(Unblocked FEV1 (L):58, Small Airway Blockage 2 (%):16) at 0x7fbc709d1720>]\n",
      "factors: [<DiscreteFactor representing phi(Unblocked FEV1 (L):58, Small Airway Blockage 15 (%):16) at 0x7fbc709d17b0>]\n",
      "factors: [<DiscreteFactor representing phi(Unblocked FEV1 (L):58, Small Airway Blockage 0 (%):16) at 0x7fbc709d2b60>]\n",
      "factors: [<DiscreteFactor representing phi(Unblocked FEV1 (L):58, Small Airway Blockage 1 (%):16) at 0x7fbc709d0340>]\n",
      "factors: [<DiscreteFactor representing phi(Unblocked FEV1 (L):58, Small Airway Blockage 8 (%):16) at 0x7fbc709d0460>, <DiscreteFactor representing phi(Unblocked FEV1 (L):58) at 0x7fbc70a07ac0>, <DiscreteFactor representing phi(Unblocked FEV1 (L):58) at 0x7fbc70a04f10>, <DiscreteFactor representing phi(Unblocked FEV1 (L):58, Small Airway Blockage 16 (%):16) at 0x7fbc709d3fd0>, <DiscreteFactor representing phi(Unblocked FEV1 (L):58) at 0x7fbc70a065f0>, <DiscreteFactor representing phi(Unblocked FEV1 (L):58, Small Airway Blockage 4 (%):16) at 0x7fbc709d3310>, <DiscreteFactor representing phi(Unblocked FEV1 (L):58) at 0x7fbc70a60340>, <DiscreteFactor representing phi(Unblocked FEV1 (L):58) at 0x7fbc70a07d60>, <DiscreteFactor representing phi(Unblocked FEV1 (L):58) at 0x7fbc70a073a0>, <DiscreteFactor representing phi(Unblocked FEV1 (L):58, Small Airway Blockage 12 (%):16) at 0x7fbc709d27a0>, <DiscreteFactor representing phi(Unblocked FEV1 (L):58) at 0x7fbc70a07eb0>, <DiscreteFactor representing phi(Unblocked FEV1 (L):58) at 0x7fbc70a07400>, <DiscreteFactor representing phi(Unblocked FEV1 (L):58) at 0x7fbc70a06950>, <DiscreteFactor representing phi(Unblocked FEV1 (L):58, Small Airway Blockage 13 (%):16) at 0x7fbc709d3640>, <DiscreteFactor representing phi(Unblocked FEV1 (L):58) at 0x7fbc70a60040>, <DiscreteFactor representing phi(Unblocked FEV1 (L):58, Small Airway Blockage 5 (%):16) at 0x7fbc709d1780>, <DiscreteFactor representing phi(Unblocked FEV1 (L):58) at 0x7fbc70a601f0>, <DiscreteFactor representing phi(Unblocked FEV1 (L):58) at 0x7fbc70a06da0>]\n",
      "factors: [<DiscreteFactor representing phi(Small Airway Blockage 8 (%):16, Small Airway Blockage 16 (%):16, Small Airway Blockage 4 (%):16, Small Airway Blockage 12 (%):16, Small Airway Blockage 13 (%):16, Small Airway Blockage 5 (%):16) at 0x7fbc70a07fa0>]\n",
      "factors: [<DiscreteFactor representing phi(Small Airway Blockage 8 (%):16, Small Airway Blockage 16 (%):16, Small Airway Blockage 4 (%):16, Small Airway Blockage 12 (%):16, Small Airway Blockage 13 (%):16) at 0x7fbc70a07eb0>]\n",
      "factors: [<DiscreteFactor representing phi(Small Airway Blockage 8 (%):16, Small Airway Blockage 16 (%):16, Small Airway Blockage 12 (%):16, Small Airway Blockage 13 (%):16) at 0x7fbc70a07400>]\n",
      "factors: [<DiscreteFactor representing phi(Small Airway Blockage 8 (%):16, Small Airway Blockage 16 (%):16, Small Airway Blockage 12 (%):16) at 0x7fbc709d3400>]\n",
      "factors: [<DiscreteFactor representing phi(Small Airway Blockage 8 (%):16, Small Airway Blockage 16 (%):16) at 0x7fbc709d3310>]\n",
      "Prepare vars to be returned\n",
      "node: Small Airway Blockage 16 (%)\n",
      "Query took 44.45852994918823s\n",
      "SAB: 17\n",
      "Preprocess query\n",
      "Run query\n",
      "Query var to list\n",
      "Find nodes with query vars\n",
      "Conversion to set of tuple\n",
      "Compute clique potentials\n",
      "Variable elimination marginalize\n"
     ]
    },
    {
     "data": {
      "application/vnd.jupyter.widget-view+json": {
       "model_id": "e6cd4a078c904f6497e653ca4c5e9ce6",
       "version_major": 2,
       "version_minor": 0
      },
      "text/plain": [
       "  0%|          | 0/18 [00:00<?, ?it/s]"
      ]
     },
     "metadata": {},
     "output_type": "display_data"
    },
    {
     "name": "stdout",
     "output_type": "stream",
     "text": [
      "factors: [<DiscreteFactor representing phi(Unblocked FEV1 (L):58, Small Airway Blockage 16 (%):16) at 0x7fbc70a07eb0>]\n",
      "factors: [<DiscreteFactor representing phi(Unblocked FEV1 (L):58, Small Airway Blockage 9 (%):16) at 0x7fbc709d1510>]\n",
      "factors: [<DiscreteFactor representing phi(Unblocked FEV1 (L):58, Small Airway Blockage 3 (%):16) at 0x7fbc709d3a00>]\n",
      "factors: [<DiscreteFactor representing phi(Unblocked FEV1 (L):58, Small Airway Blockage 7 (%):16) at 0x7fbc709d1780>]\n",
      "factors: [<DiscreteFactor representing phi(Unblocked FEV1 (L):58, Small Airway Blockage 6 (%):16) at 0x7fbc709d3310>]\n",
      "factors: [<DiscreteFactor representing phi(Unblocked FEV1 (L):58, Small Airway Blockage 11 (%):16) at 0x7fbc709d0dc0>]\n",
      "factors: [<DiscreteFactor representing phi(Unblocked FEV1 (L):58, Small Airway Blockage 10 (%):16) at 0x7fbc709d3640>]\n",
      "factors: [<DiscreteFactor representing phi(Unblocked FEV1 (L):58, Small Airway Blockage 14 (%):16) at 0x7fbc709d08b0>]\n",
      "factors: [<DiscreteFactor representing phi(Unblocked FEV1 (L):58, Small Airway Blockage 2 (%):16) at 0x7fbc709d2b60>]\n",
      "factors: [<DiscreteFactor representing phi(Unblocked FEV1 (L):58, Small Airway Blockage 15 (%):16) at 0x7fbc70a07850>]\n",
      "factors: [<DiscreteFactor representing phi(Unblocked FEV1 (L):58, Small Airway Blockage 0 (%):16) at 0x7fbc709d27a0>]\n",
      "factors: [<DiscreteFactor representing phi(Unblocked FEV1 (L):58, Small Airway Blockage 1 (%):16) at 0x7fbc709d3400>]\n",
      "factors: [<DiscreteFactor representing phi(Unblocked FEV1 (L):58, Small Airway Blockage 8 (%):16) at 0x7fbc709d0340>, <DiscreteFactor representing phi(Unblocked FEV1 (L):58) at 0x7fbc70a072b0>, <DiscreteFactor representing phi(Unblocked FEV1 (L):58) at 0x7fbc70a04d30>, <DiscreteFactor representing phi(Unblocked FEV1 (L):58) at 0x7fbc70a077c0>, <DiscreteFactor representing phi(Unblocked FEV1 (L):58, Small Airway Blockage 4 (%):16) at 0x7fbc709d0460>, <DiscreteFactor representing phi(Unblocked FEV1 (L):58) at 0x7fbc70a076d0>, <DiscreteFactor representing phi(Unblocked FEV1 (L):58) at 0x7fbc70a07d00>, <DiscreteFactor representing phi(Unblocked FEV1 (L):58, Small Airway Blockage 12 (%):16) at 0x7fbc709d3940>, <DiscreteFactor representing phi(Unblocked FEV1 (L):58) at 0x7fbc70a077f0>, <DiscreteFactor representing phi(Unblocked FEV1 (L):58) at 0x7fbc70a06560>, <DiscreteFactor representing phi(Unblocked FEV1 (L):58) at 0x7fbc70a07e20>, <DiscreteFactor representing phi(Unblocked FEV1 (L):58) at 0x7fbc70a06740>, <DiscreteFactor representing phi(Unblocked FEV1 (L):58, Small Airway Blockage 13 (%):16) at 0x7fbc709d1720>, <DiscreteFactor representing phi(Unblocked FEV1 (L):58, Small Airway Blockage 17 (%):16) at 0x7fbc70a07f40>, <DiscreteFactor representing phi(Unblocked FEV1 (L):58) at 0x7fbc70a050f0>, <DiscreteFactor representing phi(Unblocked FEV1 (L):58, Small Airway Blockage 5 (%):16) at 0x7fbc709d0c40>, <DiscreteFactor representing phi(Unblocked FEV1 (L):58) at 0x7fbc70a06b90>, <DiscreteFactor representing phi(Unblocked FEV1 (L):58) at 0x7fbc70a04d60>]\n",
      "factors: [<DiscreteFactor representing phi(Small Airway Blockage 8 (%):16, Small Airway Blockage 4 (%):16, Small Airway Blockage 12 (%):16, Small Airway Blockage 13 (%):16, Small Airway Blockage 17 (%):16, Small Airway Blockage 5 (%):16) at 0x7fbc70a07a30>]\n",
      "factors: [<DiscreteFactor representing phi(Small Airway Blockage 8 (%):16, Small Airway Blockage 4 (%):16, Small Airway Blockage 12 (%):16, Small Airway Blockage 13 (%):16, Small Airway Blockage 17 (%):16) at 0x7fbc70a077f0>]\n",
      "factors: [<DiscreteFactor representing phi(Small Airway Blockage 8 (%):16, Small Airway Blockage 12 (%):16, Small Airway Blockage 13 (%):16, Small Airway Blockage 17 (%):16) at 0x7fbc709d0dc0>]\n",
      "factors: [<DiscreteFactor representing phi(Small Airway Blockage 8 (%):16, Small Airway Blockage 12 (%):16, Small Airway Blockage 17 (%):16) at 0x7fbc70a07af0>]\n",
      "factors: [<DiscreteFactor representing phi(Small Airway Blockage 8 (%):16, Small Airway Blockage 17 (%):16) at 0x7fbc70a07a90>]\n",
      "Prepare vars to be returned\n",
      "node: Small Airway Blockage 17 (%)\n",
      "Query took 44.964516162872314s\n",
      "ID:  129\n",
      "*** Building the longitudinal model with LD as shared variable across time ***\n",
      "Defining gaussian prior with mu = 3.23, sigma = 0.35\n",
      "Run inference queries\n",
      "Preprocess query\n",
      "Run query\n",
      "Query var to list\n",
      "Find nodes with query vars\n",
      "Conversion to set of tuple\n",
      "Compute clique potentials\n",
      "Variable elimination marginalize\n"
     ]
    },
    {
     "data": {
      "application/vnd.jupyter.widget-view+json": {
       "model_id": "853c691c1f174385905e6e00b1e422ef",
       "version_major": 2,
       "version_minor": 0
      },
      "text/plain": [
       "  0%|          | 0/18 [00:00<?, ?it/s]"
      ]
     },
     "metadata": {},
     "output_type": "display_data"
    },
    {
     "name": "stdout",
     "output_type": "stream",
     "text": [
      "factors: [<DiscreteFactor representing phi(Unblocked FEV1 (L):58, Small Airway Blockage 16 (%):16) at 0x7fbc9372ad70>]\n",
      "factors: [<DiscreteFactor representing phi(Unblocked FEV1 (L):58, Small Airway Blockage 9 (%):16) at 0x7fbc937299f0>]\n",
      "factors: [<DiscreteFactor representing phi(Unblocked FEV1 (L):58, Small Airway Blockage 17 (%):16) at 0x7fbc93729750>]\n",
      "factors: [<DiscreteFactor representing phi(Unblocked FEV1 (L):58, Small Airway Blockage 3 (%):16) at 0x7fbc93729f00>]\n",
      "factors: [<DiscreteFactor representing phi(Unblocked FEV1 (L):58, Small Airway Blockage 6 (%):16) at 0x7fbc93729240>]\n",
      "factors: [<DiscreteFactor representing phi(Unblocked FEV1 (L):58, Small Airway Blockage 11 (%):16) at 0x7fbc93729ed0>]\n",
      "factors: [<DiscreteFactor representing phi(Unblocked FEV1 (L):58, Small Airway Blockage 7 (%):16) at 0x7fbc93729f60>]\n",
      "factors: [<DiscreteFactor representing phi(Unblocked FEV1 (L):58, Small Airway Blockage 10 (%):16) at 0x7fbc93729d50>]\n",
      "factors: [<DiscreteFactor representing phi(Unblocked FEV1 (L):58, Small Airway Blockage 14 (%):16) at 0x7fbc9372b130>]\n",
      "factors: [<DiscreteFactor representing phi(Unblocked FEV1 (L):58, Small Airway Blockage 2 (%):16) at 0x7fbc9372a4a0>]\n",
      "factors: [<DiscreteFactor representing phi(Unblocked FEV1 (L):58, Small Airway Blockage 15 (%):16) at 0x7fbc9372b9a0>]\n",
      "factors: [<DiscreteFactor representing phi(Unblocked FEV1 (L):58, Small Airway Blockage 0 (%):16) at 0x7fbc93729630>]\n",
      "factors: [<DiscreteFactor representing phi(Unblocked FEV1 (L):58, Small Airway Blockage 1 (%):16) at 0x7fbc9372a0b0>]\n",
      "factors: [<DiscreteFactor representing phi(Unblocked FEV1 (L):58, Small Airway Blockage 5 (%):16) at 0x7fbc9372afe0>]\n",
      "factors: [<DiscreteFactor representing phi(Unblocked FEV1 (L):58, Small Airway Blockage 4 (%):16) at 0x7fbc9372b4f0>]\n",
      "factors: [<DiscreteFactor representing phi(Unblocked FEV1 (L):58, Small Airway Blockage 13 (%):16) at 0x7fbc9372b670>]\n",
      "factors: [<DiscreteFactor representing phi(Unblocked FEV1 (L):58, Small Airway Blockage 12 (%):16) at 0x7fbc9372a6e0>]\n",
      "factors: [<DiscreteFactor representing phi(Unblocked FEV1 (L):58, Small Airway Blockage 8 (%):16) at 0x7fbc937291b0>]\n",
      "Prepare vars to be returned\n",
      "node: Unblocked FEV1 (L)\n",
      "node: Lung Damage (%)\n",
      "node: Healthy FEV1 (L)\n",
      "Query took 0.38947033882141113s\n",
      "Run SAB inference queries\n",
      "SAB: 0\n",
      "Preprocess query\n",
      "Run query\n",
      "Query var to list\n",
      "Find nodes with query vars\n",
      "Conversion to set of tuple\n",
      "Compute clique potentials\n",
      "Variable elimination marginalize\n"
     ]
    },
    {
     "data": {
      "application/vnd.jupyter.widget-view+json": {
       "model_id": "378cb24f91b54a67801629a85c2cc8e3",
       "version_major": 2,
       "version_minor": 0
      },
      "text/plain": [
       "  0%|          | 0/18 [00:00<?, ?it/s]"
      ]
     },
     "metadata": {},
     "output_type": "display_data"
    },
    {
     "name": "stdout",
     "output_type": "stream",
     "text": [
      "factors: [<DiscreteFactor representing phi(Unblocked FEV1 (L):58, Small Airway Blockage 16 (%):16) at 0x7fbcc0e3b100>]\n",
      "factors: [<DiscreteFactor representing phi(Unblocked FEV1 (L):58, Small Airway Blockage 9 (%):16) at 0x7fbcc0e393c0>]\n",
      "factors: [<DiscreteFactor representing phi(Unblocked FEV1 (L):58, Small Airway Blockage 17 (%):16) at 0x7fbcc0e396f0>]\n",
      "factors: [<DiscreteFactor representing phi(Unblocked FEV1 (L):58, Small Airway Blockage 3 (%):16) at 0x7fbc9372a8f0>]\n",
      "factors: [<DiscreteFactor representing phi(Unblocked FEV1 (L):58, Small Airway Blockage 6 (%):16) at 0x7fbc93729450>]\n",
      "factors: [<DiscreteFactor representing phi(Unblocked FEV1 (L):58, Small Airway Blockage 11 (%):16) at 0x7fbcc0e3afb0>]\n",
      "factors: [<DiscreteFactor representing phi(Unblocked FEV1 (L):58, Small Airway Blockage 7 (%):16) at 0x7fbc9372aef0>]\n",
      "factors: [<DiscreteFactor representing phi(Unblocked FEV1 (L):58, Small Airway Blockage 10 (%):16) at 0x7fbcc0e3b0d0>]\n",
      "factors: [<DiscreteFactor representing phi(Unblocked FEV1 (L):58, Small Airway Blockage 14 (%):16) at 0x7fbcc0e39660>]\n",
      "factors: [<DiscreteFactor representing phi(Unblocked FEV1 (L):58, Small Airway Blockage 2 (%):16) at 0x7fbc9372b010>]\n",
      "factors: [<DiscreteFactor representing phi(Unblocked FEV1 (L):58, Small Airway Blockage 15 (%):16) at 0x7fbcc0e380a0>]\n",
      "factors: [<DiscreteFactor representing phi(Unblocked FEV1 (L):58, Small Airway Blockage 1 (%):16) at 0x7fbc9372a9e0>]\n",
      "factors: [<DiscreteFactor representing phi(Unblocked FEV1 (L):58, Small Airway Blockage 12 (%):16) at 0x7fbcc0e38070>, <DiscreteFactor representing phi(Unblocked FEV1 (L):58, Small Airway Blockage 8 (%):16) at 0x7fbc9372ae60>, <DiscreteFactor representing phi(Unblocked FEV1 (L):58, Small Airway Blockage 5 (%):16) at 0x7fbc9372a230>, <DiscreteFactor representing phi(Unblocked FEV1 (L):58) at 0x7fbcc0e39720>, <DiscreteFactor representing phi(Unblocked FEV1 (L):58) at 0x7fbcc0e398d0>, <DiscreteFactor representing phi(Unblocked FEV1 (L):58) at 0x7fbcc0e3a140>, <DiscreteFactor representing phi(Unblocked FEV1 (L):58) at 0x7fbcc0e3a740>, <DiscreteFactor representing phi(Unblocked FEV1 (L):58, Small Airway Blockage 13 (%):16) at 0x7fbcc0e39690>, <DiscreteFactor representing phi(Unblocked FEV1 (L):58) at 0x7fbcc0e390f0>, <DiscreteFactor representing phi(Unblocked FEV1 (L):58) at 0x7fbcc0e383a0>, <DiscreteFactor representing phi(Unblocked FEV1 (L):58) at 0x7fbcc0e39ae0>, <DiscreteFactor representing phi(Unblocked FEV1 (L):58, Small Airway Blockage 0 (%):16) at 0x7fbc9372b220>, <DiscreteFactor representing phi(Unblocked FEV1 (L):58) at 0x7fbcc0e39cc0>, <DiscreteFactor representing phi(Unblocked FEV1 (L):58) at 0x7fbcc0e39480>, <DiscreteFactor representing phi(Unblocked FEV1 (L):58) at 0x7fbcc0e39270>, <DiscreteFactor representing phi(Unblocked FEV1 (L):58, Small Airway Blockage 4 (%):16) at 0x7fbc9372ab30>, <DiscreteFactor representing phi(Unblocked FEV1 (L):58) at 0x7fbcc0e3ab00>, <DiscreteFactor representing phi(Unblocked FEV1 (L):58) at 0x7fbcc0e3a770>]\n",
      "factors: [<DiscreteFactor representing phi(Small Airway Blockage 12 (%):16, Small Airway Blockage 8 (%):16, Small Airway Blockage 5 (%):16, Small Airway Blockage 13 (%):16, Small Airway Blockage 0 (%):16, Small Airway Blockage 4 (%):16) at 0x7fbcc0e38fa0>]\n",
      "factors: [<DiscreteFactor representing phi(Small Airway Blockage 12 (%):16, Small Airway Blockage 8 (%):16, Small Airway Blockage 13 (%):16, Small Airway Blockage 0 (%):16, Small Airway Blockage 4 (%):16) at 0x7fbcc0e383a0>]\n",
      "factors: [<DiscreteFactor representing phi(Small Airway Blockage 12 (%):16, Small Airway Blockage 8 (%):16, Small Airway Blockage 13 (%):16, Small Airway Blockage 0 (%):16) at 0x7fbcc0e39270>]\n",
      "factors: [<DiscreteFactor representing phi(Small Airway Blockage 12 (%):16, Small Airway Blockage 8 (%):16, Small Airway Blockage 0 (%):16) at 0x7fbcc0e390f0>]\n",
      "factors: [<DiscreteFactor representing phi(Small Airway Blockage 8 (%):16, Small Airway Blockage 0 (%):16) at 0x7fbcc0e39720>]\n",
      "Prepare vars to be returned\n",
      "node: Small Airway Blockage 0 (%)\n",
      "Query took 44.53103685379028s\n",
      "SAB: 1\n",
      "Preprocess query\n",
      "Run query\n",
      "Query var to list\n",
      "Find nodes with query vars\n",
      "Conversion to set of tuple\n",
      "Compute clique potentials\n",
      "Variable elimination marginalize\n"
     ]
    },
    {
     "data": {
      "application/vnd.jupyter.widget-view+json": {
       "model_id": "21978a4f812e489e9a964c79653f37d6",
       "version_major": 2,
       "version_minor": 0
      },
      "text/plain": [
       "  0%|          | 0/18 [00:00<?, ?it/s]"
      ]
     },
     "metadata": {},
     "output_type": "display_data"
    },
    {
     "name": "stdout",
     "output_type": "stream",
     "text": [
      "factors: [<DiscreteFactor representing phi(Unblocked FEV1 (L):58, Small Airway Blockage 16 (%):16) at 0x7fbcc0e39690>]\n",
      "factors: [<DiscreteFactor representing phi(Unblocked FEV1 (L):58, Small Airway Blockage 9 (%):16) at 0x7fbcc0e3b100>]\n",
      "factors: [<DiscreteFactor representing phi(Unblocked FEV1 (L):58, Small Airway Blockage 17 (%):16) at 0x7fbcc0e38640>]\n",
      "factors: [<DiscreteFactor representing phi(Unblocked FEV1 (L):58, Small Airway Blockage 3 (%):16) at 0x7fbcc0e38be0>]\n",
      "factors: [<DiscreteFactor representing phi(Unblocked FEV1 (L):58, Small Airway Blockage 6 (%):16) at 0x7fbcc0e39660>]\n",
      "factors: [<DiscreteFactor representing phi(Unblocked FEV1 (L):58, Small Airway Blockage 11 (%):16) at 0x7fbcc0e396f0>]\n",
      "factors: [<DiscreteFactor representing phi(Unblocked FEV1 (L):58, Small Airway Blockage 7 (%):16) at 0x7fbcc0e3afb0>]\n",
      "factors: [<DiscreteFactor representing phi(Unblocked FEV1 (L):58, Small Airway Blockage 10 (%):16) at 0x7fbcc0e38670>]\n",
      "factors: [<DiscreteFactor representing phi(Unblocked FEV1 (L):58, Small Airway Blockage 14 (%):16) at 0x7fbcc0e386a0>]\n",
      "factors: [<DiscreteFactor representing phi(Unblocked FEV1 (L):58, Small Airway Blockage 2 (%):16) at 0x7fbcc0e38520>]\n",
      "factors: [<DiscreteFactor representing phi(Unblocked FEV1 (L):58, Small Airway Blockage 15 (%):16) at 0x7fbcc0e39480>]\n",
      "factors: [<DiscreteFactor representing phi(Unblocked FEV1 (L):58, Small Airway Blockage 0 (%):16) at 0x7fbcc0e394e0>]\n",
      "factors: [<DiscreteFactor representing phi(Unblocked FEV1 (L):58, Small Airway Blockage 12 (%):16) at 0x7fbcc0e39ae0>, <DiscreteFactor representing phi(Unblocked FEV1 (L):58, Small Airway Blockage 8 (%):16) at 0x7fbcc0e3a6e0>, <DiscreteFactor representing phi(Unblocked FEV1 (L):58, Small Airway Blockage 5 (%):16) at 0x7fbcc0e3b0d0>, <DiscreteFactor representing phi(Unblocked FEV1 (L):58) at 0x7fbcc0e3abc0>, <DiscreteFactor representing phi(Unblocked FEV1 (L):58) at 0x7fbcc0e39e10>, <DiscreteFactor representing phi(Unblocked FEV1 (L):58) at 0x7fbcc0e3a5f0>, <DiscreteFactor representing phi(Unblocked FEV1 (L):58) at 0x7fbcc0e398a0>, <DiscreteFactor representing phi(Unblocked FEV1 (L):58, Small Airway Blockage 13 (%):16) at 0x7fbcc0e3a740>, <DiscreteFactor representing phi(Unblocked FEV1 (L):58) at 0x7fbcc0e3b1c0>, <DiscreteFactor representing phi(Unblocked FEV1 (L):58) at 0x7fbcc0e3b370>, <DiscreteFactor representing phi(Unblocked FEV1 (L):58, Small Airway Blockage 1 (%):16) at 0x7fbcc0e38df0>, <DiscreteFactor representing phi(Unblocked FEV1 (L):58) at 0x7fbcc0e39c30>, <DiscreteFactor representing phi(Unblocked FEV1 (L):58) at 0x7fbcc0e39a50>, <DiscreteFactor representing phi(Unblocked FEV1 (L):58) at 0x7fbcc0e38e80>, <DiscreteFactor representing phi(Unblocked FEV1 (L):58) at 0x7fbcc0e38b50>, <DiscreteFactor representing phi(Unblocked FEV1 (L):58, Small Airway Blockage 4 (%):16) at 0x7fbcc0e3a770>, <DiscreteFactor representing phi(Unblocked FEV1 (L):58) at 0x7fbcc0e381c0>, <DiscreteFactor representing phi(Unblocked FEV1 (L):58) at 0x7fbcc0e391e0>]\n",
      "factors: [<DiscreteFactor representing phi(Small Airway Blockage 12 (%):16, Small Airway Blockage 8 (%):16, Small Airway Blockage 5 (%):16, Small Airway Blockage 13 (%):16, Small Airway Blockage 1 (%):16, Small Airway Blockage 4 (%):16) at 0x7fbcc0e391b0>]\n",
      "factors: [<DiscreteFactor representing phi(Small Airway Blockage 12 (%):16, Small Airway Blockage 8 (%):16, Small Airway Blockage 13 (%):16, Small Airway Blockage 1 (%):16, Small Airway Blockage 4 (%):16) at 0x7fbcc0e3b370>]\n",
      "factors: [<DiscreteFactor representing phi(Small Airway Blockage 12 (%):16, Small Airway Blockage 8 (%):16, Small Airway Blockage 13 (%):16, Small Airway Blockage 1 (%):16) at 0x7fbcc0e3abc0>]\n",
      "factors: [<DiscreteFactor representing phi(Small Airway Blockage 12 (%):16, Small Airway Blockage 8 (%):16, Small Airway Blockage 1 (%):16) at 0x7fbcc0e3b5b0>]\n",
      "factors: [<DiscreteFactor representing phi(Small Airway Blockage 8 (%):16, Small Airway Blockage 1 (%):16) at 0x7fbcc0e398a0>]\n",
      "Prepare vars to be returned\n",
      "node: Small Airway Blockage 1 (%)\n",
      "Query took 43.61564636230469s\n",
      "SAB: 2\n",
      "Preprocess query\n",
      "Run query\n",
      "Query var to list\n",
      "Find nodes with query vars\n",
      "Conversion to set of tuple\n",
      "Compute clique potentials\n",
      "Variable elimination marginalize\n"
     ]
    },
    {
     "data": {
      "application/vnd.jupyter.widget-view+json": {
       "model_id": "02073c88ed5346dda5f83fb2cd5e4f74",
       "version_major": 2,
       "version_minor": 0
      },
      "text/plain": [
       "  0%|          | 0/18 [00:00<?, ?it/s]"
      ]
     },
     "metadata": {},
     "output_type": "display_data"
    },
    {
     "name": "stdout",
     "output_type": "stream",
     "text": [
      "factors: [<DiscreteFactor representing phi(Unblocked FEV1 (L):58, Small Airway Blockage 16 (%):16) at 0x7fbcc0e3b520>]\n",
      "factors: [<DiscreteFactor representing phi(Unblocked FEV1 (L):58, Small Airway Blockage 9 (%):16) at 0x7fbcc0e3a5f0>]\n",
      "factors: [<DiscreteFactor representing phi(Unblocked FEV1 (L):58, Small Airway Blockage 17 (%):16) at 0x7fbcc0e39390>]\n",
      "factors: [<DiscreteFactor representing phi(Unblocked FEV1 (L):58, Small Airway Blockage 3 (%):16) at 0x7fbcc0e3a6e0>]\n",
      "factors: [<DiscreteFactor representing phi(Unblocked FEV1 (L):58, Small Airway Blockage 6 (%):16) at 0x7fbcc0e3b550>]\n",
      "factors: [<DiscreteFactor representing phi(Unblocked FEV1 (L):58, Small Airway Blockage 11 (%):16) at 0x7fbcc0e39690>]\n",
      "factors: [<DiscreteFactor representing phi(Unblocked FEV1 (L):58, Small Airway Blockage 7 (%):16) at 0x7fbcc0e39480>]\n",
      "factors: [<DiscreteFactor representing phi(Unblocked FEV1 (L):58, Small Airway Blockage 10 (%):16) at 0x7fbcc0e394e0>]\n",
      "factors: [<DiscreteFactor representing phi(Unblocked FEV1 (L):58, Small Airway Blockage 14 (%):16) at 0x7fbcc0e393f0>]\n",
      "factors: [<DiscreteFactor representing phi(Unblocked FEV1 (L):58, Small Airway Blockage 15 (%):16) at 0x7fbcc0e3b460>]\n",
      "factors: [<DiscreteFactor representing phi(Unblocked FEV1 (L):58, Small Airway Blockage 0 (%):16) at 0x7fbcc0e38e80>]\n",
      "factors: [<DiscreteFactor representing phi(Unblocked FEV1 (L):58, Small Airway Blockage 1 (%):16) at 0x7fbcc0e39600>]\n",
      "factors: [<DiscreteFactor representing phi(Unblocked FEV1 (L):58, Small Airway Blockage 2 (%):16) at 0x7fbcc0e3afb0>, <DiscreteFactor representing phi(Unblocked FEV1 (L):58, Small Airway Blockage 12 (%):16) at 0x7fbcc0e38670>, <DiscreteFactor representing phi(Unblocked FEV1 (L):58, Small Airway Blockage 8 (%):16) at 0x7fbcc0e396f0>, <DiscreteFactor representing phi(Unblocked FEV1 (L):58, Small Airway Blockage 5 (%):16) at 0x7fbcc0e38be0>, <DiscreteFactor representing phi(Unblocked FEV1 (L):58) at 0x7fbcc0e39450>, <DiscreteFactor representing phi(Unblocked FEV1 (L):58) at 0x7fbcc0e39840>, <DiscreteFactor representing phi(Unblocked FEV1 (L):58) at 0x7fbcc0e39c60>, <DiscreteFactor representing phi(Unblocked FEV1 (L):58) at 0x7fbcc0e396c0>, <DiscreteFactor representing phi(Unblocked FEV1 (L):58, Small Airway Blockage 13 (%):16) at 0x7fbcc0e381c0>, <DiscreteFactor representing phi(Unblocked FEV1 (L):58) at 0x7fbcc0e395d0>, <DiscreteFactor representing phi(Unblocked FEV1 (L):58) at 0x7fbcc0e3b730>, <DiscreteFactor representing phi(Unblocked FEV1 (L):58) at 0x7fbcc0e394b0>, <DiscreteFactor representing phi(Unblocked FEV1 (L):58) at 0x7fbcc0e39900>, <DiscreteFactor representing phi(Unblocked FEV1 (L):58) at 0x7fbcc0e39a20>, <DiscreteFactor representing phi(Unblocked FEV1 (L):58) at 0x7fbcc0e3a830>, <DiscreteFactor representing phi(Unblocked FEV1 (L):58, Small Airway Blockage 4 (%):16) at 0x7fbcc0e3b4f0>, <DiscreteFactor representing phi(Unblocked FEV1 (L):58) at 0x7fbcc0e38640>, <DiscreteFactor representing phi(Unblocked FEV1 (L):58) at 0x7fbcc0e38a90>]\n",
      "factors: [<DiscreteFactor representing phi(Small Airway Blockage 2 (%):16, Small Airway Blockage 12 (%):16, Small Airway Blockage 8 (%):16, Small Airway Blockage 5 (%):16, Small Airway Blockage 13 (%):16, Small Airway Blockage 4 (%):16) at 0x7fbcc0e391b0>]\n",
      "factors: [<DiscreteFactor representing phi(Small Airway Blockage 2 (%):16, Small Airway Blockage 12 (%):16, Small Airway Blockage 8 (%):16, Small Airway Blockage 13 (%):16, Small Airway Blockage 4 (%):16) at 0x7fbcc0e3b730>]\n",
      "factors: [<DiscreteFactor representing phi(Small Airway Blockage 2 (%):16, Small Airway Blockage 12 (%):16, Small Airway Blockage 8 (%):16, Small Airway Blockage 13 (%):16) at 0x7fbcc0e39900>]\n",
      "factors: [<DiscreteFactor representing phi(Small Airway Blockage 2 (%):16, Small Airway Blockage 12 (%):16, Small Airway Blockage 8 (%):16) at 0x7fbcc0e39450>]\n",
      "factors: [<DiscreteFactor representing phi(Small Airway Blockage 2 (%):16, Small Airway Blockage 8 (%):16) at 0x7fbcc0e39840>]\n",
      "Prepare vars to be returned\n",
      "node: Small Airway Blockage 2 (%)\n",
      "Query took 46.027928829193115s\n",
      "SAB: 3\n",
      "Preprocess query\n",
      "Run query\n",
      "Query var to list\n",
      "Find nodes with query vars\n",
      "Conversion to set of tuple\n",
      "Compute clique potentials\n",
      "Variable elimination marginalize\n"
     ]
    },
    {
     "data": {
      "application/vnd.jupyter.widget-view+json": {
       "model_id": "de8f1c8d9f8549a9a8da242140ba1b93",
       "version_major": 2,
       "version_minor": 0
      },
      "text/plain": [
       "  0%|          | 0/18 [00:00<?, ?it/s]"
      ]
     },
     "metadata": {},
     "output_type": "display_data"
    },
    {
     "name": "stdout",
     "output_type": "stream",
     "text": [
      "factors: [<DiscreteFactor representing phi(Unblocked FEV1 (L):58, Small Airway Blockage 16 (%):16) at 0x7fbcc0e3a770>]\n",
      "factors: [<DiscreteFactor representing phi(Unblocked FEV1 (L):58, Small Airway Blockage 9 (%):16) at 0x7fbcc0e3b280>]\n",
      "factors: [<DiscreteFactor representing phi(Unblocked FEV1 (L):58, Small Airway Blockage 17 (%):16) at 0x7fbcc0e3af50>]\n",
      "factors: [<DiscreteFactor representing phi(Unblocked FEV1 (L):58, Small Airway Blockage 7 (%):16) at 0x7fbcc0e38040>]\n",
      "factors: [<DiscreteFactor representing phi(Unblocked FEV1 (L):58, Small Airway Blockage 6 (%):16) at 0x7fbcc0e3aec0>]\n",
      "factors: [<DiscreteFactor representing phi(Unblocked FEV1 (L):58, Small Airway Blockage 11 (%):16) at 0x7fbcc0e38730>]\n",
      "factors: [<DiscreteFactor representing phi(Unblocked FEV1 (L):58, Small Airway Blockage 10 (%):16) at 0x7fbcc0e3aef0>]\n",
      "factors: [<DiscreteFactor representing phi(Unblocked FEV1 (L):58, Small Airway Blockage 14 (%):16) at 0x7fbcc0e38f10>]\n",
      "factors: [<DiscreteFactor representing phi(Unblocked FEV1 (L):58, Small Airway Blockage 2 (%):16) at 0x7fbcc0e3ae60>]\n",
      "factors: [<DiscreteFactor representing phi(Unblocked FEV1 (L):58, Small Airway Blockage 15 (%):16) at 0x7fbcc0e3ae00>]\n",
      "factors: [<DiscreteFactor representing phi(Unblocked FEV1 (L):58, Small Airway Blockage 0 (%):16) at 0x7fbcc0e3ae90>]\n",
      "factors: [<DiscreteFactor representing phi(Unblocked FEV1 (L):58, Small Airway Blockage 1 (%):16) at 0x7fbcc0e3ab00>]\n",
      "factors: [<DiscreteFactor representing phi(Unblocked FEV1 (L):58, Small Airway Blockage 12 (%):16) at 0x7fbcc0e3b0d0>, <DiscreteFactor representing phi(Unblocked FEV1 (L):58, Small Airway Blockage 8 (%):16) at 0x7fbcc0e3af80>, <DiscreteFactor representing phi(Unblocked FEV1 (L):58, Small Airway Blockage 5 (%):16) at 0x7fbcc0e3b070>, <DiscreteFactor representing phi(Unblocked FEV1 (L):58) at 0x7fbcc0e39b40>, <DiscreteFactor representing phi(Unblocked FEV1 (L):58) at 0x7fbcc0e39240>, <DiscreteFactor representing phi(Unblocked FEV1 (L):58) at 0x7fbcc0e39de0>, <DiscreteFactor representing phi(Unblocked FEV1 (L):58) at 0x7fbcc0e39c60>, <DiscreteFactor representing phi(Unblocked FEV1 (L):58, Small Airway Blockage 13 (%):16) at 0x7fbcc0e3b100>, <DiscreteFactor representing phi(Unblocked FEV1 (L):58) at 0x7fbcc0e3b970>, <DiscreteFactor representing phi(Unblocked FEV1 (L):58, Small Airway Blockage 3 (%):16) at 0x7fbcc0e38070>, <DiscreteFactor representing phi(Unblocked FEV1 (L):58) at 0x7fbcc0e3bb20>, <DiscreteFactor representing phi(Unblocked FEV1 (L):58) at 0x7fbcc0e3bcd0>, <DiscreteFactor representing phi(Unblocked FEV1 (L):58) at 0x7fbcc0e3ab90>, <DiscreteFactor representing phi(Unblocked FEV1 (L):58) at 0x7fbcc0e39810>, <DiscreteFactor representing phi(Unblocked FEV1 (L):58) at 0x7fbcc0e3b7c0>, <DiscreteFactor representing phi(Unblocked FEV1 (L):58, Small Airway Blockage 4 (%):16) at 0x7fbcc0e380a0>, <DiscreteFactor representing phi(Unblocked FEV1 (L):58) at 0x7fbcc0e38be0>, <DiscreteFactor representing phi(Unblocked FEV1 (L):58) at 0x7fbcc0e3b2b0>]\n",
      "factors: [<DiscreteFactor representing phi(Small Airway Blockage 12 (%):16, Small Airway Blockage 8 (%):16, Small Airway Blockage 5 (%):16, Small Airway Blockage 13 (%):16, Small Airway Blockage 3 (%):16, Small Airway Blockage 4 (%):16) at 0x7fbcc0e393f0>]\n",
      "factors: [<DiscreteFactor representing phi(Small Airway Blockage 12 (%):16, Small Airway Blockage 8 (%):16, Small Airway Blockage 13 (%):16, Small Airway Blockage 3 (%):16, Small Airway Blockage 4 (%):16) at 0x7fbcc0e3bb20>]\n",
      "factors: [<DiscreteFactor representing phi(Small Airway Blockage 12 (%):16, Small Airway Blockage 8 (%):16, Small Airway Blockage 13 (%):16, Small Airway Blockage 3 (%):16) at 0x7fbcc0e3be50>]\n",
      "factors: [<DiscreteFactor representing phi(Small Airway Blockage 12 (%):16, Small Airway Blockage 8 (%):16, Small Airway Blockage 3 (%):16) at 0x7fbcc0e39b40>]\n",
      "factors: [<DiscreteFactor representing phi(Small Airway Blockage 8 (%):16, Small Airway Blockage 3 (%):16) at 0x7fbcc0e380a0>]\n",
      "Prepare vars to be returned\n",
      "node: Small Airway Blockage 3 (%)\n",
      "Query took 45.408225774765015s\n",
      "SAB: 4\n",
      "Preprocess query\n",
      "Run query\n",
      "Query var to list\n",
      "Find nodes with query vars\n",
      "Conversion to set of tuple\n",
      "Compute clique potentials\n",
      "Variable elimination marginalize\n"
     ]
    },
    {
     "data": {
      "application/vnd.jupyter.widget-view+json": {
       "model_id": "9c3786cb0bc84934a36852935ad0a793",
       "version_major": 2,
       "version_minor": 0
      },
      "text/plain": [
       "  0%|          | 0/18 [00:00<?, ?it/s]"
      ]
     },
     "metadata": {},
     "output_type": "display_data"
    },
    {
     "name": "stdout",
     "output_type": "stream",
     "text": [
      "factors: [<DiscreteFactor representing phi(Unblocked FEV1 (L):58, Small Airway Blockage 16 (%):16) at 0x7fbcc0e3be80>]\n",
      "factors: [<DiscreteFactor representing phi(Unblocked FEV1 (L):58, Small Airway Blockage 9 (%):16) at 0x7fbcc0e38730>]\n",
      "factors: [<DiscreteFactor representing phi(Unblocked FEV1 (L):58, Small Airway Blockage 17 (%):16) at 0x7fbcc0e3af50>]\n",
      "factors: [<DiscreteFactor representing phi(Unblocked FEV1 (L):58, Small Airway Blockage 3 (%):16) at 0x7fbcc0e3b2b0>]\n",
      "factors: [<DiscreteFactor representing phi(Unblocked FEV1 (L):58, Small Airway Blockage 11 (%):16) at 0x7fbcc0e38040>]\n",
      "factors: [<DiscreteFactor representing phi(Unblocked FEV1 (L):58, Small Airway Blockage 7 (%):16) at 0x7fbcc0e3ae60>]\n",
      "factors: [<DiscreteFactor representing phi(Unblocked FEV1 (L):58, Small Airway Blockage 10 (%):16) at 0x7fbcc0e3a770>]\n",
      "factors: [<DiscreteFactor representing phi(Unblocked FEV1 (L):58, Small Airway Blockage 14 (%):16) at 0x7fbcc0e3bdc0>]\n",
      "factors: [<DiscreteFactor representing phi(Unblocked FEV1 (L):58, Small Airway Blockage 2 (%):16) at 0x7fbcc0e3af80>]\n",
      "factors: [<DiscreteFactor representing phi(Unblocked FEV1 (L):58, Small Airway Blockage 15 (%):16) at 0x7fbcc0e3bdf0>]\n",
      "factors: [<DiscreteFactor representing phi(Unblocked FEV1 (L):58, Small Airway Blockage 0 (%):16) at 0x7fbcc0e3beb0>]\n",
      "factors: [<DiscreteFactor representing phi(Unblocked FEV1 (L):58, Small Airway Blockage 1 (%):16) at 0x7fbcc0e3bd00>]\n",
      "factors: [<DiscreteFactor representing phi(Unblocked FEV1 (L):58, Small Airway Blockage 12 (%):16) at 0x7fbcc0e39240>, <DiscreteFactor representing phi(Unblocked FEV1 (L):58, Small Airway Blockage 8 (%):16) at 0x7fbcc0e3ae00>, <DiscreteFactor representing phi(Unblocked FEV1 (L):58, Small Airway Blockage 5 (%):16) at 0x7fbcc0e3aec0>, <DiscreteFactor representing phi(Unblocked FEV1 (L):58) at 0x7fbcc0e39db0>, <DiscreteFactor representing phi(Unblocked FEV1 (L):58) at 0x7fbcc0e39990>, <DiscreteFactor representing phi(Unblocked FEV1 (L):58) at 0x7fbcc0e38a60>, <DiscreteFactor representing phi(Unblocked FEV1 (L):58) at 0x7fbcc0e3ba00>, <DiscreteFactor representing phi(Unblocked FEV1 (L):58, Small Airway Blockage 13 (%):16) at 0x7fbcc0e39de0>, <DiscreteFactor representing phi(Unblocked FEV1 (L):58) at 0x7fbcd61ec130>, <DiscreteFactor representing phi(Unblocked FEV1 (L):58) at 0x7fbcd61ec2e0>, <DiscreteFactor representing phi(Unblocked FEV1 (L):58, Small Airway Blockage 6 (%):16) at 0x7fbcc0e3a8c0>, <DiscreteFactor representing phi(Unblocked FEV1 (L):58) at 0x7fbcd61ec490>, <DiscreteFactor representing phi(Unblocked FEV1 (L):58) at 0x7fbcc0e3a320>, <DiscreteFactor representing phi(Unblocked FEV1 (L):58) at 0x7fbcc0e39ba0>, <DiscreteFactor representing phi(Unblocked FEV1 (L):58) at 0x7fbcc0e3bf70>, <DiscreteFactor representing phi(Unblocked FEV1 (L):58, Small Airway Blockage 4 (%):16) at 0x7fbcc0e3a500>, <DiscreteFactor representing phi(Unblocked FEV1 (L):58) at 0x7fbcc0e3aef0>, <DiscreteFactor representing phi(Unblocked FEV1 (L):58) at 0x7fbcc0e3b8e0>]\n",
      "factors: [<DiscreteFactor representing phi(Small Airway Blockage 12 (%):16, Small Airway Blockage 8 (%):16, Small Airway Blockage 5 (%):16, Small Airway Blockage 13 (%):16, Small Airway Blockage 6 (%):16, Small Airway Blockage 4 (%):16) at 0x7fbcc0e3a260>]\n",
      "factors: [<DiscreteFactor representing phi(Small Airway Blockage 12 (%):16, Small Airway Blockage 8 (%):16, Small Airway Blockage 13 (%):16, Small Airway Blockage 6 (%):16, Small Airway Blockage 4 (%):16) at 0x7fbcc0e39ba0>]\n",
      "factors: [<DiscreteFactor representing phi(Small Airway Blockage 12 (%):16, Small Airway Blockage 8 (%):16, Small Airway Blockage 13 (%):16, Small Airway Blockage 4 (%):16) at 0x7fbcc0e39db0>]\n",
      "factors: [<DiscreteFactor representing phi(Small Airway Blockage 12 (%):16, Small Airway Blockage 8 (%):16, Small Airway Blockage 4 (%):16) at 0x7fbcc0e3ad70>]\n",
      "factors: [<DiscreteFactor representing phi(Small Airway Blockage 8 (%):16, Small Airway Blockage 4 (%):16) at 0x7fbcc0e3a8c0>]\n",
      "Prepare vars to be returned\n",
      "node: Small Airway Blockage 4 (%)\n",
      "Query took 43.09386706352234s\n",
      "SAB: 5\n",
      "Preprocess query\n",
      "Run query\n",
      "Query var to list\n",
      "Find nodes with query vars\n",
      "Conversion to set of tuple\n",
      "Compute clique potentials\n",
      "Variable elimination marginalize\n"
     ]
    },
    {
     "data": {
      "application/vnd.jupyter.widget-view+json": {
       "model_id": "f0fd5cd49b394f2388b971ef9fa3e4b6",
       "version_major": 2,
       "version_minor": 0
      },
      "text/plain": [
       "  0%|          | 0/18 [00:00<?, ?it/s]"
      ]
     },
     "metadata": {},
     "output_type": "display_data"
    },
    {
     "name": "stdout",
     "output_type": "stream",
     "text": [
      "factors: [<DiscreteFactor representing phi(Unblocked FEV1 (L):58, Small Airway Blockage 16 (%):16) at 0x7fbcc0e3bf40>]\n",
      "factors: [<DiscreteFactor representing phi(Unblocked FEV1 (L):58, Small Airway Blockage 9 (%):16) at 0x7fbcc0e3bcd0>]\n",
      "factors: [<DiscreteFactor representing phi(Unblocked FEV1 (L):58, Small Airway Blockage 17 (%):16) at 0x7fbcc0e39900>]\n",
      "factors: [<DiscreteFactor representing phi(Unblocked FEV1 (L):58, Small Airway Blockage 3 (%):16) at 0x7fbcc0e3ae00>]\n",
      "factors: [<DiscreteFactor representing phi(Unblocked FEV1 (L):58, Small Airway Blockage 6 (%):16) at 0x7fbcc0e3b970>]\n",
      "factors: [<DiscreteFactor representing phi(Unblocked FEV1 (L):58, Small Airway Blockage 11 (%):16) at 0x7fbcc0e38be0>]\n",
      "factors: [<DiscreteFactor representing phi(Unblocked FEV1 (L):58, Small Airway Blockage 7 (%):16) at 0x7fbcc0e3b100>]\n",
      "factors: [<DiscreteFactor representing phi(Unblocked FEV1 (L):58, Small Airway Blockage 10 (%):16) at 0x7fbcc0e3ae60>]\n",
      "factors: [<DiscreteFactor representing phi(Unblocked FEV1 (L):58, Small Airway Blockage 14 (%):16) at 0x7fbcc0e39810>]\n",
      "factors: [<DiscreteFactor representing phi(Unblocked FEV1 (L):58, Small Airway Blockage 2 (%):16) at 0x7fbcc0e39d80>]\n",
      "factors: [<DiscreteFactor representing phi(Unblocked FEV1 (L):58, Small Airway Blockage 15 (%):16) at 0x7fbcc0e3b0d0>]\n",
      "factors: [<DiscreteFactor representing phi(Unblocked FEV1 (L):58, Small Airway Blockage 0 (%):16) at 0x7fbcc0e3ab30>]\n",
      "factors: [<DiscreteFactor representing phi(Unblocked FEV1 (L):58, Small Airway Blockage 1 (%):16) at 0x7fbcc0e3b8e0>]\n",
      "factors: [<DiscreteFactor representing phi(Unblocked FEV1 (L):58, Small Airway Blockage 12 (%):16) at 0x7fbcc0e3ab90>, <DiscreteFactor representing phi(Unblocked FEV1 (L):58, Small Airway Blockage 8 (%):16) at 0x7fbcc0e3bdc0>, <DiscreteFactor representing phi(Unblocked FEV1 (L):58, Small Airway Blockage 5 (%):16) at 0x7fbcc0e39c60>, <DiscreteFactor representing phi(Unblocked FEV1 (L):58) at 0x7fbcc0e38b80>, <DiscreteFactor representing phi(Unblocked FEV1 (L):58) at 0x7fbcc0e39960>, <DiscreteFactor representing phi(Unblocked FEV1 (L):58) at 0x7fbcd61f8040>, <DiscreteFactor representing phi(Unblocked FEV1 (L):58) at 0x7fbcc0e3ab00>, <DiscreteFactor representing phi(Unblocked FEV1 (L):58, Small Airway Blockage 13 (%):16) at 0x7fbcc0e3b070>, <DiscreteFactor representing phi(Unblocked FEV1 (L):58) at 0x7fbcd61f83a0>, <DiscreteFactor representing phi(Unblocked FEV1 (L):58) at 0x7fbcd61f8550>, <DiscreteFactor representing phi(Unblocked FEV1 (L):58) at 0x7fbcd61f8640>, <DiscreteFactor representing phi(Unblocked FEV1 (L):58) at 0x7fbcc0e39b40>, <DiscreteFactor representing phi(Unblocked FEV1 (L):58) at 0x7fbcc0e3a4a0>, <DiscreteFactor representing phi(Unblocked FEV1 (L):58) at 0x7fbcd61f8070>, <DiscreteFactor representing phi(Unblocked FEV1 (L):58) at 0x7fbcd61f81f0>, <DiscreteFactor representing phi(Unblocked FEV1 (L):58, Small Airway Blockage 4 (%):16) at 0x7fbcc0e3bee0>, <DiscreteFactor representing phi(Unblocked FEV1 (L):58) at 0x7fbcc0e3aef0>, <DiscreteFactor representing phi(Unblocked FEV1 (L):58) at 0x7fbcc0e3baf0>]\n",
      "factors: [<DiscreteFactor representing phi(Small Airway Blockage 12 (%):16, Small Airway Blockage 8 (%):16, Small Airway Blockage 5 (%):16, Small Airway Blockage 13 (%):16, Small Airway Blockage 4 (%):16) at 0x7fbcc0e3b340>]\n",
      "factors: [<DiscreteFactor representing phi(Small Airway Blockage 12 (%):16, Small Airway Blockage 8 (%):16, Small Airway Blockage 5 (%):16, Small Airway Blockage 13 (%):16) at 0x7fbcc0e3aef0>]\n",
      "factors: [<DiscreteFactor representing phi(Small Airway Blockage 12 (%):16, Small Airway Blockage 8 (%):16, Small Airway Blockage 5 (%):16) at 0x7fbcc0e38b80>]\n",
      "factors: [<DiscreteFactor representing phi(Small Airway Blockage 8 (%):16, Small Airway Blockage 5 (%):16) at 0x7fbcc0e3bee0>]\n",
      "Prepare vars to be returned\n",
      "node: Small Airway Blockage 5 (%)\n",
      "Query took 1.5005769729614258s\n",
      "SAB: 6\n",
      "Preprocess query\n",
      "Run query\n",
      "Query var to list\n",
      "Find nodes with query vars\n",
      "Conversion to set of tuple\n",
      "Compute clique potentials\n",
      "Variable elimination marginalize\n"
     ]
    },
    {
     "data": {
      "application/vnd.jupyter.widget-view+json": {
       "model_id": "373b4875ae2a4e42a683fc91d660b91d",
       "version_major": 2,
       "version_minor": 0
      },
      "text/plain": [
       "  0%|          | 0/18 [00:00<?, ?it/s]"
      ]
     },
     "metadata": {},
     "output_type": "display_data"
    },
    {
     "name": "stdout",
     "output_type": "stream",
     "text": [
      "factors: [<DiscreteFactor representing phi(Unblocked FEV1 (L):58, Small Airway Blockage 16 (%):16) at 0x7fbcc0e3a950>]\n",
      "factors: [<DiscreteFactor representing phi(Unblocked FEV1 (L):58, Small Airway Blockage 9 (%):16) at 0x7fbcc0e3b130>]\n",
      "factors: [<DiscreteFactor representing phi(Unblocked FEV1 (L):58, Small Airway Blockage 17 (%):16) at 0x7fbcc0e3be50>]\n",
      "factors: [<DiscreteFactor representing phi(Unblocked FEV1 (L):58, Small Airway Blockage 3 (%):16) at 0x7fbcc0e3bdc0>]\n",
      "factors: [<DiscreteFactor representing phi(Unblocked FEV1 (L):58, Small Airway Blockage 11 (%):16) at 0x7fbcc0e3b8e0>]\n",
      "factors: [<DiscreteFactor representing phi(Unblocked FEV1 (L):58, Small Airway Blockage 7 (%):16) at 0x7fbcc0e3b970>]\n",
      "factors: [<DiscreteFactor representing phi(Unblocked FEV1 (L):58, Small Airway Blockage 10 (%):16) at 0x7fbcc0e39810>]\n",
      "factors: [<DiscreteFactor representing phi(Unblocked FEV1 (L):58, Small Airway Blockage 14 (%):16) at 0x7fbcc0e3b940>]\n",
      "factors: [<DiscreteFactor representing phi(Unblocked FEV1 (L):58, Small Airway Blockage 2 (%):16) at 0x7fbcc0e3b100>]\n",
      "factors: [<DiscreteFactor representing phi(Unblocked FEV1 (L):58, Small Airway Blockage 15 (%):16) at 0x7fbcc0e3bc40>]\n",
      "factors: [<DiscreteFactor representing phi(Unblocked FEV1 (L):58, Small Airway Blockage 0 (%):16) at 0x7fbcc0e38be0>]\n",
      "factors: [<DiscreteFactor representing phi(Unblocked FEV1 (L):58, Small Airway Blockage 1 (%):16) at 0x7fbcc0e3b520>]\n",
      "factors: [<DiscreteFactor representing phi(Unblocked FEV1 (L):58, Small Airway Blockage 12 (%):16) at 0x7fbcc0e3bf40>, <DiscreteFactor representing phi(Unblocked FEV1 (L):58, Small Airway Blockage 8 (%):16) at 0x7fbcc0e3bcd0>, <DiscreteFactor representing phi(Unblocked FEV1 (L):58, Small Airway Blockage 5 (%):16) at 0x7fbcc0e39900>, <DiscreteFactor representing phi(Unblocked FEV1 (L):58) at 0x7fbcd6200370>, <DiscreteFactor representing phi(Unblocked FEV1 (L):58) at 0x7fbcc0e38e80>, <DiscreteFactor representing phi(Unblocked FEV1 (L):58) at 0x7fbcd6200520>, <DiscreteFactor representing phi(Unblocked FEV1 (L):58) at 0x7fbcc0e3bf10>, <DiscreteFactor representing phi(Unblocked FEV1 (L):58, Small Airway Blockage 13 (%):16) at 0x7fbcc0e3ab00>, <DiscreteFactor representing phi(Unblocked FEV1 (L):58) at 0x7fbcd6200a30>, <DiscreteFactor representing phi(Unblocked FEV1 (L):58) at 0x7fbcd6200be0>, <DiscreteFactor representing phi(Unblocked FEV1 (L):58, Small Airway Blockage 6 (%):16) at 0x7fbcc0e3ab30>, <DiscreteFactor representing phi(Unblocked FEV1 (L):58) at 0x7fbcd6200d90>, <DiscreteFactor representing phi(Unblocked FEV1 (L):58) at 0x7fbcd62000d0>, <DiscreteFactor representing phi(Unblocked FEV1 (L):58) at 0x7fbcd62006d0>, <DiscreteFactor representing phi(Unblocked FEV1 (L):58) at 0x7fbcd6200880>, <DiscreteFactor representing phi(Unblocked FEV1 (L):58, Small Airway Blockage 4 (%):16) at 0x7fbcc0e3a650>, <DiscreteFactor representing phi(Unblocked FEV1 (L):58) at 0x7fbcc0e39d80>, <DiscreteFactor representing phi(Unblocked FEV1 (L):58) at 0x7fbcc0e3bb80>]\n",
      "factors: [<DiscreteFactor representing phi(Small Airway Blockage 12 (%):16, Small Airway Blockage 8 (%):16, Small Airway Blockage 5 (%):16, Small Airway Blockage 13 (%):16, Small Airway Blockage 6 (%):16, Small Airway Blockage 4 (%):16) at 0x7fbcc0e3bbb0>]\n",
      "factors: [<DiscreteFactor representing phi(Small Airway Blockage 12 (%):16, Small Airway Blockage 8 (%):16, Small Airway Blockage 13 (%):16, Small Airway Blockage 6 (%):16, Small Airway Blockage 4 (%):16) at 0x7fbcc0e3bd00>]\n",
      "factors: [<DiscreteFactor representing phi(Small Airway Blockage 12 (%):16, Small Airway Blockage 8 (%):16, Small Airway Blockage 13 (%):16, Small Airway Blockage 6 (%):16) at 0x7fbcc0e38e80>]\n",
      "factors: [<DiscreteFactor representing phi(Small Airway Blockage 12 (%):16, Small Airway Blockage 8 (%):16, Small Airway Blockage 6 (%):16) at 0x7fbcc0e3bb80>]\n",
      "factors: [<DiscreteFactor representing phi(Small Airway Blockage 8 (%):16, Small Airway Blockage 6 (%):16) at 0x7fbcc0e39d80>]\n",
      "Prepare vars to be returned\n",
      "node: Small Airway Blockage 6 (%)\n",
      "Query took 46.29642629623413s\n",
      "SAB: 7\n",
      "Preprocess query\n",
      "Run query\n",
      "Query var to list\n",
      "Find nodes with query vars\n",
      "Conversion to set of tuple\n",
      "Compute clique potentials\n",
      "Variable elimination marginalize\n"
     ]
    },
    {
     "data": {
      "application/vnd.jupyter.widget-view+json": {
       "model_id": "6f6802ea3190449597b5dbfc79152279",
       "version_major": 2,
       "version_minor": 0
      },
      "text/plain": [
       "  0%|          | 0/18 [00:00<?, ?it/s]"
      ]
     },
     "metadata": {},
     "output_type": "display_data"
    },
    {
     "name": "stdout",
     "output_type": "stream",
     "text": [
      "factors: [<DiscreteFactor representing phi(Unblocked FEV1 (L):58, Small Airway Blockage 16 (%):16) at 0x7fbcc0e3a500>]\n",
      "factors: [<DiscreteFactor representing phi(Unblocked FEV1 (L):58, Small Airway Blockage 9 (%):16) at 0x7fbcc0e39840>]\n",
      "factors: [<DiscreteFactor representing phi(Unblocked FEV1 (L):58, Small Airway Blockage 17 (%):16) at 0x7fbcc0e39900>]\n",
      "factors: [<DiscreteFactor representing phi(Unblocked FEV1 (L):58, Small Airway Blockage 3 (%):16) at 0x7fbcc0e39b70>]\n",
      "factors: [<DiscreteFactor representing phi(Unblocked FEV1 (L):58, Small Airway Blockage 6 (%):16) at 0x7fbcc0e3bdc0>]\n",
      "factors: [<DiscreteFactor representing phi(Unblocked FEV1 (L):58, Small Airway Blockage 11 (%):16) at 0x7fbcc0e3be50>]\n",
      "factors: [<DiscreteFactor representing phi(Unblocked FEV1 (L):58, Small Airway Blockage 10 (%):16) at 0x7fbcc0e3b8e0>]\n",
      "factors: [<DiscreteFactor representing phi(Unblocked FEV1 (L):58, Small Airway Blockage 14 (%):16) at 0x7fbcc0e3b730>]\n",
      "factors: [<DiscreteFactor representing phi(Unblocked FEV1 (L):58, Small Airway Blockage 2 (%):16) at 0x7fbcc0e3bc40>]\n",
      "factors: [<DiscreteFactor representing phi(Unblocked FEV1 (L):58, Small Airway Blockage 15 (%):16) at 0x7fbcc0e3b940>]\n",
      "factors: [<DiscreteFactor representing phi(Unblocked FEV1 (L):58, Small Airway Blockage 0 (%):16) at 0x7fbcc0e3b100>]\n",
      "factors: [<DiscreteFactor representing phi(Unblocked FEV1 (L):58, Small Airway Blockage 1 (%):16) at 0x7fbcc0e3a710>]\n",
      "factors: [<DiscreteFactor representing phi(Unblocked FEV1 (L):58, Small Airway Blockage 12 (%):16) at 0x7fbcc0e3b640>, <DiscreteFactor representing phi(Unblocked FEV1 (L):58, Small Airway Blockage 8 (%):16) at 0x7fbcc0e3b520>, <DiscreteFactor representing phi(Unblocked FEV1 (L):58, Small Airway Blockage 5 (%):16) at 0x7fbcc0e39810>, <DiscreteFactor representing phi(Unblocked FEV1 (L):58) at 0x7fbcd62049d0>, <DiscreteFactor representing phi(Unblocked FEV1 (L):58) at 0x7fbcd6204ac0>, <DiscreteFactor representing phi(Unblocked FEV1 (L):58, Small Airway Blockage 7 (%):16) at 0x7fbcc0e3a950>, <DiscreteFactor representing phi(Unblocked FEV1 (L):58) at 0x7fbcd62046a0>, <DiscreteFactor representing phi(Unblocked FEV1 (L):58, Small Airway Blockage 13 (%):16) at 0x7fbcc0e3bf40>, <DiscreteFactor representing phi(Unblocked FEV1 (L):58) at 0x7fbcd6204fd0>, <DiscreteFactor representing phi(Unblocked FEV1 (L):58) at 0x7fbcd6205180>, <DiscreteFactor representing phi(Unblocked FEV1 (L):58) at 0x7fbcd62044f0>, <DiscreteFactor representing phi(Unblocked FEV1 (L):58) at 0x7fbcc0e393f0>, <DiscreteFactor representing phi(Unblocked FEV1 (L):58) at 0x7fbcd6204850>, <DiscreteFactor representing phi(Unblocked FEV1 (L):58) at 0x7fbcd6204c70>, <DiscreteFactor representing phi(Unblocked FEV1 (L):58) at 0x7fbcd6204e20>, <DiscreteFactor representing phi(Unblocked FEV1 (L):58, Small Airway Blockage 4 (%):16) at 0x7fbcc0e3bcd0>, <DiscreteFactor representing phi(Unblocked FEV1 (L):58) at 0x7fbcd6204430>, <DiscreteFactor representing phi(Unblocked FEV1 (L):58) at 0x7fbcd62045e0>]\n",
      "factors: [<DiscreteFactor representing phi(Small Airway Blockage 12 (%):16, Small Airway Blockage 8 (%):16, Small Airway Blockage 5 (%):16, Small Airway Blockage 7 (%):16, Small Airway Blockage 13 (%):16, Small Airway Blockage 4 (%):16) at 0x7fbcc0e39f60>]\n",
      "factors: [<DiscreteFactor representing phi(Small Airway Blockage 12 (%):16, Small Airway Blockage 8 (%):16, Small Airway Blockage 7 (%):16, Small Airway Blockage 13 (%):16, Small Airway Blockage 4 (%):16) at 0x7fbcc0e3bb80>]\n",
      "factors: [<DiscreteFactor representing phi(Small Airway Blockage 12 (%):16, Small Airway Blockage 8 (%):16, Small Airway Blockage 7 (%):16, Small Airway Blockage 13 (%):16) at 0x7fbcc0e3bbb0>]\n",
      "factors: [<DiscreteFactor representing phi(Small Airway Blockage 12 (%):16, Small Airway Blockage 8 (%):16, Small Airway Blockage 7 (%):16) at 0x7fbcc0e3bd60>]\n",
      "factors: [<DiscreteFactor representing phi(Small Airway Blockage 8 (%):16, Small Airway Blockage 7 (%):16) at 0x7fbcc0e3bcd0>]\n",
      "Prepare vars to be returned\n",
      "node: Small Airway Blockage 7 (%)\n",
      "Query took 46.11408519744873s\n",
      "SAB: 8\n",
      "Preprocess query\n",
      "Run query\n",
      "Query var to list\n",
      "Find nodes with query vars\n",
      "Conversion to set of tuple\n",
      "Compute clique potentials\n",
      "Variable elimination marginalize\n"
     ]
    },
    {
     "data": {
      "application/vnd.jupyter.widget-view+json": {
       "model_id": "f36d958aa31443f3bd9a78cceb0e7de7",
       "version_major": 2,
       "version_minor": 0
      },
      "text/plain": [
       "  0%|          | 0/18 [00:00<?, ?it/s]"
      ]
     },
     "metadata": {},
     "output_type": "display_data"
    },
    {
     "name": "stdout",
     "output_type": "stream",
     "text": [
      "factors: [<DiscreteFactor representing phi(Unblocked FEV1 (L):58, Small Airway Blockage 16 (%):16) at 0x7fbcc0e386a0>]\n",
      "factors: [<DiscreteFactor representing phi(Unblocked FEV1 (L):58, Small Airway Blockage 9 (%):16) at 0x7fbcc0e3ae30>]\n",
      "factors: [<DiscreteFactor representing phi(Unblocked FEV1 (L):58, Small Airway Blockage 17 (%):16) at 0x7fbcc0e3ae60>]\n",
      "factors: [<DiscreteFactor representing phi(Unblocked FEV1 (L):58, Small Airway Blockage 3 (%):16) at 0x7fbcc0e39b10>]\n",
      "factors: [<DiscreteFactor representing phi(Unblocked FEV1 (L):58, Small Airway Blockage 6 (%):16) at 0x7fbcc0e3b070>]\n",
      "factors: [<DiscreteFactor representing phi(Unblocked FEV1 (L):58, Small Airway Blockage 11 (%):16) at 0x7fbcc0e39960>]\n",
      "factors: [<DiscreteFactor representing phi(Unblocked FEV1 (L):58, Small Airway Blockage 7 (%):16) at 0x7fbcc0e3ab90>]\n",
      "factors: [<DiscreteFactor representing phi(Unblocked FEV1 (L):58, Small Airway Blockage 10 (%):16) at 0x7fbcc0e3a830>]\n",
      "factors: [<DiscreteFactor representing phi(Unblocked FEV1 (L):58, Small Airway Blockage 14 (%):16) at 0x7fbcc0e3a4a0>]\n",
      "factors: [<DiscreteFactor representing phi(Unblocked FEV1 (L):58, Small Airway Blockage 2 (%):16) at 0x7fbcc0e39b40>]\n",
      "factors: [<DiscreteFactor representing phi(Unblocked FEV1 (L):58, Small Airway Blockage 15 (%):16) at 0x7fbcc0e3bc10>]\n",
      "factors: [<DiscreteFactor representing phi(Unblocked FEV1 (L):58, Small Airway Blockage 0 (%):16) at 0x7fbcc0e3bfd0>]\n",
      "factors: [<DiscreteFactor representing phi(Unblocked FEV1 (L):58, Small Airway Blockage 1 (%):16) at 0x7fbcc0e38730>]\n",
      "factors: [<DiscreteFactor representing phi(Unblocked FEV1 (L):58, Small Airway Blockage 12 (%):16) at 0x7fbcc0e39e10>, <DiscreteFactor representing phi(Unblocked FEV1 (L):58, Small Airway Blockage 8 (%):16) at 0x7fbcc0e392a0>, <DiscreteFactor representing phi(Unblocked FEV1 (L):58, Small Airway Blockage 5 (%):16) at 0x7fbcc0e3ae00>, <DiscreteFactor representing phi(Unblocked FEV1 (L):58) at 0x7fbcd62051b0>, <DiscreteFactor representing phi(Unblocked FEV1 (L):58) at 0x7fbcd62044f0>, <DiscreteFactor representing phi(Unblocked FEV1 (L):58) at 0x7fbcd6205060>, <DiscreteFactor representing phi(Unblocked FEV1 (L):58) at 0x7fbcd62052a0>, <DiscreteFactor representing phi(Unblocked FEV1 (L):58, Small Airway Blockage 13 (%):16) at 0x7fbcc0e3b580>, <DiscreteFactor representing phi(Unblocked FEV1 (L):58) at 0x7fbcd6204250>, <DiscreteFactor representing phi(Unblocked FEV1 (L):58) at 0x7fbcd6204790>, <DiscreteFactor representing phi(Unblocked FEV1 (L):58) at 0x7fbcd6204580>, <DiscreteFactor representing phi(Unblocked FEV1 (L):58) at 0x7fbcc0e3a650>, <DiscreteFactor representing phi(Unblocked FEV1 (L):58) at 0x7fbcc0e3a5f0>, <DiscreteFactor representing phi(Unblocked FEV1 (L):58) at 0x7fbcd6204dc0>, <DiscreteFactor representing phi(Unblocked FEV1 (L):58) at 0x7fbcd6204c40>, <DiscreteFactor representing phi(Unblocked FEV1 (L):58, Small Airway Blockage 4 (%):16) at 0x7fbcc0e38be0>, <DiscreteFactor representing phi(Unblocked FEV1 (L):58) at 0x7fbcd6205360>, <DiscreteFactor representing phi(Unblocked FEV1 (L):58) at 0x7fbcc0e3b8e0>]\n",
      "factors: [<DiscreteFactor representing phi(Small Airway Blockage 12 (%):16, Small Airway Blockage 8 (%):16, Small Airway Blockage 5 (%):16, Small Airway Blockage 13 (%):16, Small Airway Blockage 4 (%):16) at 0x7fbcc0e395d0>]\n",
      "factors: [<DiscreteFactor representing phi(Small Airway Blockage 12 (%):16, Small Airway Blockage 8 (%):16, Small Airway Blockage 13 (%):16, Small Airway Blockage 4 (%):16) at 0x7fbcc0e38e80>]\n",
      "factors: [<DiscreteFactor representing phi(Small Airway Blockage 12 (%):16, Small Airway Blockage 8 (%):16, Small Airway Blockage 13 (%):16) at 0x7fbcc0e39b70>]\n",
      "factors: [<DiscreteFactor representing phi(Small Airway Blockage 12 (%):16, Small Airway Blockage 8 (%):16) at 0x7fbcc0e3ae00>]\n",
      "Prepare vars to be returned\n",
      "node: Small Airway Blockage 8 (%)\n",
      "Query took 1.4734129905700684s\n",
      "SAB: 9\n",
      "Preprocess query\n",
      "Run query\n",
      "Query var to list\n",
      "Find nodes with query vars\n",
      "Conversion to set of tuple\n",
      "Compute clique potentials\n",
      "Variable elimination marginalize\n"
     ]
    },
    {
     "data": {
      "application/vnd.jupyter.widget-view+json": {
       "model_id": "8dba9d55c4614f87a146343c97b6ec36",
       "version_major": 2,
       "version_minor": 0
      },
      "text/plain": [
       "  0%|          | 0/18 [00:00<?, ?it/s]"
      ]
     },
     "metadata": {},
     "output_type": "display_data"
    },
    {
     "name": "stdout",
     "output_type": "stream",
     "text": [
      "factors: [<DiscreteFactor representing phi(Unblocked FEV1 (L):58, Small Airway Blockage 16 (%):16) at 0x7fbcc0e3ab00>]\n",
      "factors: [<DiscreteFactor representing phi(Unblocked FEV1 (L):58, Small Airway Blockage 17 (%):16) at 0x7fbcc0e3b910>]\n",
      "factors: [<DiscreteFactor representing phi(Unblocked FEV1 (L):58, Small Airway Blockage 3 (%):16) at 0x7fbcc0e386a0>]\n",
      "factors: [<DiscreteFactor representing phi(Unblocked FEV1 (L):58, Small Airway Blockage 6 (%):16) at 0x7fbcc0e3bee0>]\n",
      "factors: [<DiscreteFactor representing phi(Unblocked FEV1 (L):58, Small Airway Blockage 11 (%):16) at 0x7fbcc0e39e10>]\n",
      "factors: [<DiscreteFactor representing phi(Unblocked FEV1 (L):58, Small Airway Blockage 7 (%):16) at 0x7fbcc0e3bca0>]\n",
      "factors: [<DiscreteFactor representing phi(Unblocked FEV1 (L):58, Small Airway Blockage 10 (%):16) at 0x7fbcc0e3b100>]\n",
      "factors: [<DiscreteFactor representing phi(Unblocked FEV1 (L):58, Small Airway Blockage 14 (%):16) at 0x7fbcc0e3b2e0>]\n",
      "factors: [<DiscreteFactor representing phi(Unblocked FEV1 (L):58, Small Airway Blockage 2 (%):16) at 0x7fbcc0e3b730>]\n",
      "factors: [<DiscreteFactor representing phi(Unblocked FEV1 (L):58, Small Airway Blockage 15 (%):16) at 0x7fbcc0e39060>]\n",
      "factors: [<DiscreteFactor representing phi(Unblocked FEV1 (L):58, Small Airway Blockage 0 (%):16) at 0x7fbcc0e3aef0>]\n",
      "factors: [<DiscreteFactor representing phi(Unblocked FEV1 (L):58, Small Airway Blockage 1 (%):16) at 0x7fbcc0e3b0d0>]\n",
      "factors: [<DiscreteFactor representing phi(Unblocked FEV1 (L):58, Small Airway Blockage 12 (%):16) at 0x7fbcc0e3ae60>, <DiscreteFactor representing phi(Unblocked FEV1 (L):58, Small Airway Blockage 8 (%):16) at 0x7fbcc0e3ab90>, <DiscreteFactor representing phi(Unblocked FEV1 (L):58, Small Airway Blockage 5 (%):16) at 0x7fbcc0e3bd60>, <DiscreteFactor representing phi(Unblocked FEV1 (L):58) at 0x7fbcd6204fd0>, <DiscreteFactor representing phi(Unblocked FEV1 (L):58) at 0x7fbcd6204370>, <DiscreteFactor representing phi(Unblocked FEV1 (L):58) at 0x7fbcd62046a0>, <DiscreteFactor representing phi(Unblocked FEV1 (L):58) at 0x7fbcd6205060>, <DiscreteFactor representing phi(Unblocked FEV1 (L):58, Small Airway Blockage 13 (%):16) at 0x7fbcc0e3a4a0>, <DiscreteFactor representing phi(Unblocked FEV1 (L):58) at 0x7fbcd62048b0>, <DiscreteFactor representing phi(Unblocked FEV1 (L):58) at 0x7fbcd6204a60>, <DiscreteFactor representing phi(Unblocked FEV1 (L):58) at 0x7fbcd6205630>, <DiscreteFactor representing phi(Unblocked FEV1 (L):58) at 0x7fbcd6204f10>, <DiscreteFactor representing phi(Unblocked FEV1 (L):58) at 0x7fbcd6204d60>, <DiscreteFactor representing phi(Unblocked FEV1 (L):58) at 0x7fbcd6204640>, <DiscreteFactor representing phi(Unblocked FEV1 (L):58) at 0x7fbcd6205450>, <DiscreteFactor representing phi(Unblocked FEV1 (L):58, Small Airway Blockage 9 (%):16) at 0x7fbcc0e39e70>, <DiscreteFactor representing phi(Unblocked FEV1 (L):58, Small Airway Blockage 4 (%):16) at 0x7fbcc0e38520>, <DiscreteFactor representing phi(Unblocked FEV1 (L):58) at 0x7fbcd62047f0>]\n",
      "factors: [<DiscreteFactor representing phi(Small Airway Blockage 12 (%):16, Small Airway Blockage 8 (%):16, Small Airway Blockage 5 (%):16, Small Airway Blockage 13 (%):16, Small Airway Blockage 9 (%):16, Small Airway Blockage 4 (%):16) at 0x7fbcc0e39840>]\n",
      "factors: [<DiscreteFactor representing phi(Small Airway Blockage 12 (%):16, Small Airway Blockage 8 (%):16, Small Airway Blockage 13 (%):16, Small Airway Blockage 9 (%):16, Small Airway Blockage 4 (%):16) at 0x7fbcd6204fd0>]\n",
      "factors: [<DiscreteFactor representing phi(Small Airway Blockage 12 (%):16, Small Airway Blockage 8 (%):16, Small Airway Blockage 13 (%):16, Small Airway Blockage 9 (%):16) at 0x7fbcc0e3b610>]\n",
      "factors: [<DiscreteFactor representing phi(Small Airway Blockage 12 (%):16, Small Airway Blockage 8 (%):16, Small Airway Blockage 9 (%):16) at 0x7fbcc0e3b8e0>]\n",
      "factors: [<DiscreteFactor representing phi(Small Airway Blockage 8 (%):16, Small Airway Blockage 9 (%):16) at 0x7fbcc0e38520>]\n",
      "Prepare vars to be returned\n",
      "node: Small Airway Blockage 9 (%)\n",
      "Query took 30.607287883758545s\n",
      "SAB: 10\n",
      "Preprocess query\n",
      "Run query\n",
      "Query var to list\n",
      "Find nodes with query vars\n",
      "Conversion to set of tuple\n",
      "Compute clique potentials\n",
      "Variable elimination marginalize\n"
     ]
    },
    {
     "data": {
      "application/vnd.jupyter.widget-view+json": {
       "model_id": "61cf35d29af34cf6b3b861f3f39b3870",
       "version_major": 2,
       "version_minor": 0
      },
      "text/plain": [
       "  0%|          | 0/18 [00:00<?, ?it/s]"
      ]
     },
     "metadata": {},
     "output_type": "display_data"
    },
    {
     "name": "stdout",
     "output_type": "stream",
     "text": [
      "factors: [<DiscreteFactor representing phi(Unblocked FEV1 (L):58, Small Airway Blockage 16 (%):16) at 0x7fbcc0e392a0>]\n",
      "factors: [<DiscreteFactor representing phi(Unblocked FEV1 (L):58, Small Airway Blockage 9 (%):16) at 0x7fbcc0e3bd30>]\n",
      "factors: [<DiscreteFactor representing phi(Unblocked FEV1 (L):58, Small Airway Blockage 17 (%):16) at 0x7fbcc0e3bc10>]\n",
      "factors: [<DiscreteFactor representing phi(Unblocked FEV1 (L):58, Small Airway Blockage 3 (%):16) at 0x7fbcc0e3b070>]\n",
      "factors: [<DiscreteFactor representing phi(Unblocked FEV1 (L):58, Small Airway Blockage 6 (%):16) at 0x7fbcc0e3b730>]\n",
      "factors: [<DiscreteFactor representing phi(Unblocked FEV1 (L):58, Small Airway Blockage 11 (%):16) at 0x7fbcc0e3ae60>]\n",
      "factors: [<DiscreteFactor representing phi(Unblocked FEV1 (L):58, Small Airway Blockage 7 (%):16) at 0x7fbcc0e3aef0>]\n",
      "factors: [<DiscreteFactor representing phi(Unblocked FEV1 (L):58, Small Airway Blockage 14 (%):16) at 0x7fbcc0e3ab90>]\n",
      "factors: [<DiscreteFactor representing phi(Unblocked FEV1 (L):58, Small Airway Blockage 2 (%):16) at 0x7fbcc0e3b910>]\n",
      "factors: [<DiscreteFactor representing phi(Unblocked FEV1 (L):58, Small Airway Blockage 15 (%):16) at 0x7fbcc0e39060>]\n",
      "factors: [<DiscreteFactor representing phi(Unblocked FEV1 (L):58, Small Airway Blockage 0 (%):16) at 0x7fbcc0e39b10>]\n",
      "factors: [<DiscreteFactor representing phi(Unblocked FEV1 (L):58, Small Airway Blockage 1 (%):16) at 0x7fbcc0e39780>]\n",
      "factors: [<DiscreteFactor representing phi(Unblocked FEV1 (L):58, Small Airway Blockage 12 (%):16) at 0x7fbcc0e3bee0>, <DiscreteFactor representing phi(Unblocked FEV1 (L):58, Small Airway Blockage 8 (%):16) at 0x7fbcc0e3a650>, <DiscreteFactor representing phi(Unblocked FEV1 (L):58, Small Airway Blockage 5 (%):16) at 0x7fbcc0e3b2e0>, <DiscreteFactor representing phi(Unblocked FEV1 (L):58) at 0x7fbcd6204580>, <DiscreteFactor representing phi(Unblocked FEV1 (L):58) at 0x7fbcd6204ee0>, <DiscreteFactor representing phi(Unblocked FEV1 (L):58) at 0x7fbcd6205630>, <DiscreteFactor representing phi(Unblocked FEV1 (L):58, Small Airway Blockage 13 (%):16) at 0x7fbcc0e3b0d0>, <DiscreteFactor representing phi(Unblocked FEV1 (L):58) at 0x7fbcd62059c0>, <DiscreteFactor representing phi(Unblocked FEV1 (L):58) at 0x7fbcd6205b70>, <DiscreteFactor representing phi(Unblocked FEV1 (L):58, Small Airway Blockage 10 (%):16) at 0x7fbcc0e3bdc0>, <DiscreteFactor representing phi(Unblocked FEV1 (L):58) at 0x7fbcd6205390>, <DiscreteFactor representing phi(Unblocked FEV1 (L):58) at 0x7fbcd6205210>, <DiscreteFactor representing phi(Unblocked FEV1 (L):58) at 0x7fbcd62053c0>, <DiscreteFactor representing phi(Unblocked FEV1 (L):58) at 0x7fbcd6205840>, <DiscreteFactor representing phi(Unblocked FEV1 (L):58) at 0x7fbcd6204550>, <DiscreteFactor representing phi(Unblocked FEV1 (L):58, Small Airway Blockage 4 (%):16) at 0x7fbcc0e3bfd0>, <DiscreteFactor representing phi(Unblocked FEV1 (L):58) at 0x7fbcd6204370>, <DiscreteFactor representing phi(Unblocked FEV1 (L):58) at 0x7fbcd6204b80>]\n",
      "factors: [<DiscreteFactor representing phi(Small Airway Blockage 12 (%):16, Small Airway Blockage 8 (%):16, Small Airway Blockage 5 (%):16, Small Airway Blockage 13 (%):16, Small Airway Blockage 10 (%):16, Small Airway Blockage 4 (%):16) at 0x7fbcc0e386a0>]\n",
      "factors: [<DiscreteFactor representing phi(Small Airway Blockage 12 (%):16, Small Airway Blockage 8 (%):16, Small Airway Blockage 13 (%):16, Small Airway Blockage 10 (%):16, Small Airway Blockage 4 (%):16) at 0x7fbcd6205b70>]\n",
      "factors: [<DiscreteFactor representing phi(Small Airway Blockage 12 (%):16, Small Airway Blockage 8 (%):16, Small Airway Blockage 13 (%):16, Small Airway Blockage 10 (%):16) at 0x7fbcc0e3b610>]\n",
      "factors: [<DiscreteFactor representing phi(Small Airway Blockage 12 (%):16, Small Airway Blockage 8 (%):16, Small Airway Blockage 10 (%):16) at 0x7fbcc0e3b910>]\n",
      "factors: [<DiscreteFactor representing phi(Small Airway Blockage 8 (%):16, Small Airway Blockage 10 (%):16) at 0x7fbcc0e3bfd0>]\n",
      "Prepare vars to be returned\n",
      "node: Small Airway Blockage 10 (%)\n",
      "Query took 45.77646088600159s\n",
      "SAB: 11\n",
      "Preprocess query\n",
      "Run query\n",
      "Query var to list\n",
      "Find nodes with query vars\n",
      "Conversion to set of tuple\n",
      "Compute clique potentials\n",
      "Variable elimination marginalize\n"
     ]
    },
    {
     "data": {
      "application/vnd.jupyter.widget-view+json": {
       "model_id": "d2beb74eade24ddabd6a649978abcb8a",
       "version_major": 2,
       "version_minor": 0
      },
      "text/plain": [
       "  0%|          | 0/18 [00:00<?, ?it/s]"
      ]
     },
     "metadata": {},
     "output_type": "display_data"
    },
    {
     "name": "stdout",
     "output_type": "stream",
     "text": [
      "factors: [<DiscreteFactor representing phi(Unblocked FEV1 (L):58, Small Airway Blockage 16 (%):16) at 0x7fbcc0e3a320>]\n",
      "factors: [<DiscreteFactor representing phi(Unblocked FEV1 (L):58, Small Airway Blockage 9 (%):16) at 0x7fbcc0e3ab90>]\n",
      "factors: [<DiscreteFactor representing phi(Unblocked FEV1 (L):58, Small Airway Blockage 17 (%):16) at 0x7fbcc0e3b730>]\n",
      "factors: [<DiscreteFactor representing phi(Unblocked FEV1 (L):58, Small Airway Blockage 3 (%):16) at 0x7fbcc0e3a650>]\n",
      "factors: [<DiscreteFactor representing phi(Unblocked FEV1 (L):58, Small Airway Blockage 6 (%):16) at 0x7fbcc0e39b10>]\n",
      "factors: [<DiscreteFactor representing phi(Unblocked FEV1 (L):58, Small Airway Blockage 7 (%):16) at 0x7fbcc0e392a0>]\n",
      "factors: [<DiscreteFactor representing phi(Unblocked FEV1 (L):58, Small Airway Blockage 10 (%):16) at 0x7fbcc0e3ae60>]\n",
      "factors: [<DiscreteFactor representing phi(Unblocked FEV1 (L):58, Small Airway Blockage 14 (%):16) at 0x7fbcc0e3aef0>]\n",
      "factors: [<DiscreteFactor representing phi(Unblocked FEV1 (L):58, Small Airway Blockage 2 (%):16) at 0x7fbcc0e39780>]\n",
      "factors: [<DiscreteFactor representing phi(Unblocked FEV1 (L):58, Small Airway Blockage 15 (%):16) at 0x7fbcc0e3b2e0>]\n",
      "factors: [<DiscreteFactor representing phi(Unblocked FEV1 (L):58, Small Airway Blockage 0 (%):16) at 0x7fbcc0e3bee0>]\n",
      "factors: [<DiscreteFactor representing phi(Unblocked FEV1 (L):58, Small Airway Blockage 1 (%):16) at 0x7fbcc0e3bca0>]\n",
      "factors: [<DiscreteFactor representing phi(Unblocked FEV1 (L):58, Small Airway Blockage 12 (%):16) at 0x7fbcc0e39060>, <DiscreteFactor representing phi(Unblocked FEV1 (L):58, Small Airway Blockage 8 (%):16) at 0x7fbcc0e39e70>, <DiscreteFactor representing phi(Unblocked FEV1 (L):58, Small Airway Blockage 5 (%):16) at 0x7fbcc0e3bc10>, <DiscreteFactor representing phi(Unblocked FEV1 (L):58) at 0x7fbcd62046a0>, <DiscreteFactor representing phi(Unblocked FEV1 (L):58) at 0x7fbcd6204880>, <DiscreteFactor representing phi(Unblocked FEV1 (L):58) at 0x7fbcd6205750>, <DiscreteFactor representing phi(Unblocked FEV1 (L):58, Small Airway Blockage 13 (%):16) at 0x7fbcc0e3b0d0>, <DiscreteFactor representing phi(Unblocked FEV1 (L):58, Small Airway Blockage 11 (%):16) at 0x7fbcc0e3b070>, <DiscreteFactor representing phi(Unblocked FEV1 (L):58) at 0x7fbcd6205960>, <DiscreteFactor representing phi(Unblocked FEV1 (L):58) at 0x7fbcd6205ea0>, <DiscreteFactor representing phi(Unblocked FEV1 (L):58) at 0x7fbcd6205300>, <DiscreteFactor representing phi(Unblocked FEV1 (L):58) at 0x7fbcd6205360>, <DiscreteFactor representing phi(Unblocked FEV1 (L):58) at 0x7fbcd6204490>, <DiscreteFactor representing phi(Unblocked FEV1 (L):58) at 0x7fbcd6205c60>, <DiscreteFactor representing phi(Unblocked FEV1 (L):58) at 0x7fbcd6205cf0>, <DiscreteFactor representing phi(Unblocked FEV1 (L):58, Small Airway Blockage 4 (%):16) at 0x7fbcc0e3ae30>, <DiscreteFactor representing phi(Unblocked FEV1 (L):58) at 0x7fbcd6204b80>, <DiscreteFactor representing phi(Unblocked FEV1 (L):58) at 0x7fbcd62050c0>]\n",
      "factors: [<DiscreteFactor representing phi(Small Airway Blockage 12 (%):16, Small Airway Blockage 8 (%):16, Small Airway Blockage 5 (%):16, Small Airway Blockage 13 (%):16, Small Airway Blockage 11 (%):16, Small Airway Blockage 4 (%):16) at 0x7fbcd62059f0>]\n",
      "factors: [<DiscreteFactor representing phi(Small Airway Blockage 12 (%):16, Small Airway Blockage 8 (%):16, Small Airway Blockage 13 (%):16, Small Airway Blockage 11 (%):16, Small Airway Blockage 4 (%):16) at 0x7fbcd6205300>]\n",
      "factors: [<DiscreteFactor representing phi(Small Airway Blockage 12 (%):16, Small Airway Blockage 8 (%):16, Small Airway Blockage 13 (%):16, Small Airway Blockage 11 (%):16) at 0x7fbcc0e3a650>]\n",
      "factors: [<DiscreteFactor representing phi(Small Airway Blockage 12 (%):16, Small Airway Blockage 8 (%):16, Small Airway Blockage 11 (%):16) at 0x7fbcc0e392a0>]\n",
      "factors: [<DiscreteFactor representing phi(Small Airway Blockage 8 (%):16, Small Airway Blockage 11 (%):16) at 0x7fbcc0e3ae30>]\n",
      "Prepare vars to be returned\n",
      "node: Small Airway Blockage 11 (%)\n",
      "Query took 46.147615909576416s\n",
      "SAB: 12\n",
      "Preprocess query\n",
      "Run query\n",
      "Query var to list\n",
      "Find nodes with query vars\n",
      "Conversion to set of tuple\n",
      "Compute clique potentials\n",
      "Variable elimination marginalize\n"
     ]
    },
    {
     "data": {
      "application/vnd.jupyter.widget-view+json": {
       "model_id": "e9a08df15a464d0987c13fbe0e6aafe0",
       "version_major": 2,
       "version_minor": 0
      },
      "text/plain": [
       "  0%|          | 0/18 [00:00<?, ?it/s]"
      ]
     },
     "metadata": {},
     "output_type": "display_data"
    },
    {
     "name": "stdout",
     "output_type": "stream",
     "text": [
      "factors: [<DiscreteFactor representing phi(Unblocked FEV1 (L):58, Small Airway Blockage 16 (%):16) at 0x7fbc93729570>]\n",
      "factors: [<DiscreteFactor representing phi(Unblocked FEV1 (L):58, Small Airway Blockage 9 (%):16) at 0x7fbc93729120>]\n",
      "factors: [<DiscreteFactor representing phi(Unblocked FEV1 (L):58, Small Airway Blockage 17 (%):16) at 0x7fbc937299f0>]\n",
      "factors: [<DiscreteFactor representing phi(Unblocked FEV1 (L):58, Small Airway Blockage 3 (%):16) at 0x7fbc9372a230>]\n",
      "factors: [<DiscreteFactor representing phi(Unblocked FEV1 (L):58, Small Airway Blockage 6 (%):16) at 0x7fbc9372add0>]\n",
      "factors: [<DiscreteFactor representing phi(Unblocked FEV1 (L):58, Small Airway Blockage 11 (%):16) at 0x7fbc9372aa10>]\n",
      "factors: [<DiscreteFactor representing phi(Unblocked FEV1 (L):58, Small Airway Blockage 7 (%):16) at 0x7fbc93729360>]\n",
      "factors: [<DiscreteFactor representing phi(Unblocked FEV1 (L):58, Small Airway Blockage 10 (%):16) at 0x7fbc9372ad70>]\n",
      "factors: [<DiscreteFactor representing phi(Unblocked FEV1 (L):58, Small Airway Blockage 14 (%):16) at 0x7fbc93729f60>]\n",
      "factors: [<DiscreteFactor representing phi(Unblocked FEV1 (L):58, Small Airway Blockage 2 (%):16) at 0x7fbc9372b9a0>]\n",
      "factors: [<DiscreteFactor representing phi(Unblocked FEV1 (L):58, Small Airway Blockage 15 (%):16) at 0x7fbc9372a0b0>]\n",
      "factors: [<DiscreteFactor representing phi(Unblocked FEV1 (L):58, Small Airway Blockage 0 (%):16) at 0x7fbc937298d0>]\n",
      "factors: [<DiscreteFactor representing phi(Unblocked FEV1 (L):58, Small Airway Blockage 1 (%):16) at 0x7fbc93729e70>]\n",
      "factors: [<DiscreteFactor representing phi(Unblocked FEV1 (L):58, Small Airway Blockage 12 (%):16) at 0x7fbc93729c90>, <DiscreteFactor representing phi(Unblocked FEV1 (L):58, Small Airway Blockage 8 (%):16) at 0x7fbc9372a470>, <DiscreteFactor representing phi(Unblocked FEV1 (L):58, Small Airway Blockage 5 (%):16) at 0x7fbc9372a290>, <DiscreteFactor representing phi(Unblocked FEV1 (L):58) at 0x7fbcd6205cc0>, <DiscreteFactor representing phi(Unblocked FEV1 (L):58) at 0x7fbcd6205930>, <DiscreteFactor representing phi(Unblocked FEV1 (L):58) at 0x7fbcd6204b20>, <DiscreteFactor representing phi(Unblocked FEV1 (L):58) at 0x7fbcd62048e0>, <DiscreteFactor representing phi(Unblocked FEV1 (L):58, Small Airway Blockage 13 (%):16) at 0x7fbc93729510>, <DiscreteFactor representing phi(Unblocked FEV1 (L):58) at 0x7fbcd6205cf0>, <DiscreteFactor representing phi(Unblocked FEV1 (L):58) at 0x7fbcd6204280>, <DiscreteFactor representing phi(Unblocked FEV1 (L):58) at 0x7fbcd6205c90>, <DiscreteFactor representing phi(Unblocked FEV1 (L):58) at 0x7fbcd6205180>, <DiscreteFactor representing phi(Unblocked FEV1 (L):58) at 0x7fbcd62054e0>, <DiscreteFactor representing phi(Unblocked FEV1 (L):58) at 0x7fbcd62046a0>, <DiscreteFactor representing phi(Unblocked FEV1 (L):58) at 0x7fbcd62059f0>, <DiscreteFactor representing phi(Unblocked FEV1 (L):58, Small Airway Blockage 4 (%):16) at 0x7fbc9372aad0>, <DiscreteFactor representing phi(Unblocked FEV1 (L):58) at 0x7fbcd6206050>, <DiscreteFactor representing phi(Unblocked FEV1 (L):58) at 0x7fbcd6205810>]\n",
      "factors: [<DiscreteFactor representing phi(Small Airway Blockage 12 (%):16, Small Airway Blockage 8 (%):16, Small Airway Blockage 5 (%):16, Small Airway Blockage 13 (%):16, Small Airway Blockage 4 (%):16) at 0x7fbcd6205840>]\n",
      "factors: [<DiscreteFactor representing phi(Small Airway Blockage 12 (%):16, Small Airway Blockage 8 (%):16, Small Airway Blockage 13 (%):16, Small Airway Blockage 4 (%):16) at 0x7fbcd6204280>]\n",
      "factors: [<DiscreteFactor representing phi(Small Airway Blockage 12 (%):16, Small Airway Blockage 8 (%):16, Small Airway Blockage 13 (%):16) at 0x7fbc9372ad70>]\n",
      "factors: [<DiscreteFactor representing phi(Small Airway Blockage 12 (%):16, Small Airway Blockage 8 (%):16) at 0x7fbc9372a290>]\n",
      "Prepare vars to be returned\n",
      "node: Small Airway Blockage 12 (%)\n",
      "Query took 1.4872419834136963s\n",
      "SAB: 13\n",
      "Preprocess query\n",
      "Run query\n",
      "Query var to list\n",
      "Find nodes with query vars\n",
      "Conversion to set of tuple\n",
      "Compute clique potentials\n",
      "Variable elimination marginalize\n"
     ]
    },
    {
     "data": {
      "application/vnd.jupyter.widget-view+json": {
       "model_id": "15a725ffe17841e1ae78ddc89f202b74",
       "version_major": 2,
       "version_minor": 0
      },
      "text/plain": [
       "  0%|          | 0/18 [00:00<?, ?it/s]"
      ]
     },
     "metadata": {},
     "output_type": "display_data"
    },
    {
     "name": "stdout",
     "output_type": "stream",
     "text": [
      "factors: [<DiscreteFactor representing phi(Unblocked FEV1 (L):58, Small Airway Blockage 16 (%):16) at 0x7fbc9372ac20>]\n",
      "factors: [<DiscreteFactor representing phi(Unblocked FEV1 (L):58, Small Airway Blockage 9 (%):16) at 0x7fbc9372a410>]\n",
      "factors: [<DiscreteFactor representing phi(Unblocked FEV1 (L):58, Small Airway Blockage 17 (%):16) at 0x7fbc93729b70>]\n",
      "factors: [<DiscreteFactor representing phi(Unblocked FEV1 (L):58, Small Airway Blockage 3 (%):16) at 0x7fbc93729240>]\n",
      "factors: [<DiscreteFactor representing phi(Unblocked FEV1 (L):58, Small Airway Blockage 6 (%):16) at 0x7fbc93729ed0>]\n",
      "factors: [<DiscreteFactor representing phi(Unblocked FEV1 (L):58, Small Airway Blockage 7 (%):16) at 0x7fbc9372b670>]\n",
      "factors: [<DiscreteFactor representing phi(Unblocked FEV1 (L):58, Small Airway Blockage 10 (%):16) at 0x7fbc937295a0>]\n",
      "factors: [<DiscreteFactor representing phi(Unblocked FEV1 (L):58, Small Airway Blockage 14 (%):16) at 0x7fbc9372afb0>]\n",
      "factors: [<DiscreteFactor representing phi(Unblocked FEV1 (L):58, Small Airway Blockage 2 (%):16) at 0x7fbc9372aef0>]\n",
      "factors: [<DiscreteFactor representing phi(Unblocked FEV1 (L):58, Small Airway Blockage 15 (%):16) at 0x7fbc93729c60>]\n",
      "factors: [<DiscreteFactor representing phi(Unblocked FEV1 (L):58, Small Airway Blockage 0 (%):16) at 0x7fbc9372a560>]\n",
      "factors: [<DiscreteFactor representing phi(Unblocked FEV1 (L):58, Small Airway Blockage 1 (%):16) at 0x7fbc9372a230>]\n",
      "factors: [<DiscreteFactor representing phi(Unblocked FEV1 (L):58, Small Airway Blockage 12 (%):16) at 0x7fbc9372ab90>, <DiscreteFactor representing phi(Unblocked FEV1 (L):58, Small Airway Blockage 8 (%):16) at 0x7fbc937297b0>, <DiscreteFactor representing phi(Unblocked FEV1 (L):58, Small Airway Blockage 5 (%):16) at 0x7fbc93729930>, <DiscreteFactor representing phi(Unblocked FEV1 (L):58) at 0x7fbcd6206320>, <DiscreteFactor representing phi(Unblocked FEV1 (L):58) at 0x7fbcd62064d0>, <DiscreteFactor representing phi(Unblocked FEV1 (L):58) at 0x7fbcd62047f0>, <DiscreteFactor representing phi(Unblocked FEV1 (L):58, Small Airway Blockage 13 (%):16) at 0x7fbc9372a020>, <DiscreteFactor representing phi(Unblocked FEV1 (L):58, Small Airway Blockage 11 (%):16) at 0x7fbc9372ae90>, <DiscreteFactor representing phi(Unblocked FEV1 (L):58) at 0x7fbcd6206860>, <DiscreteFactor representing phi(Unblocked FEV1 (L):58) at 0x7fbcd62069b0>, <DiscreteFactor representing phi(Unblocked FEV1 (L):58) at 0x7fbcd6206b60>, <DiscreteFactor representing phi(Unblocked FEV1 (L):58) at 0x7fbcd6204520>, <DiscreteFactor representing phi(Unblocked FEV1 (L):58) at 0x7fbcd6205150>, <DiscreteFactor representing phi(Unblocked FEV1 (L):58) at 0x7fbcd6206680>, <DiscreteFactor representing phi(Unblocked FEV1 (L):58) at 0x7fbcd62067d0>, <DiscreteFactor representing phi(Unblocked FEV1 (L):58, Small Airway Blockage 4 (%):16) at 0x7fbc9372b220>, <DiscreteFactor representing phi(Unblocked FEV1 (L):58) at 0x7fbcd6205cf0>, <DiscreteFactor representing phi(Unblocked FEV1 (L):58) at 0x7fbcd62058a0>]\n",
      "factors: [<DiscreteFactor representing phi(Small Airway Blockage 12 (%):16, Small Airway Blockage 8 (%):16, Small Airway Blockage 5 (%):16, Small Airway Blockage 13 (%):16, Small Airway Blockage 11 (%):16, Small Airway Blockage 4 (%):16) at 0x7fbcd6205630>]\n",
      "factors: [<DiscreteFactor representing phi(Small Airway Blockage 12 (%):16, Small Airway Blockage 8 (%):16, Small Airway Blockage 13 (%):16, Small Airway Blockage 11 (%):16, Small Airway Blockage 4 (%):16) at 0x7fbcd6206b60>]\n",
      "factors: [<DiscreteFactor representing phi(Small Airway Blockage 12 (%):16, Small Airway Blockage 8 (%):16, Small Airway Blockage 13 (%):16, Small Airway Blockage 11 (%):16) at 0x7fbc93729240>]\n",
      "factors: [<DiscreteFactor representing phi(Small Airway Blockage 12 (%):16, Small Airway Blockage 8 (%):16, Small Airway Blockage 13 (%):16) at 0x7fbc9372b670>]\n",
      "factors: [<DiscreteFactor representing phi(Small Airway Blockage 8 (%):16, Small Airway Blockage 13 (%):16) at 0x7fbc9372b220>]\n",
      "Prepare vars to be returned\n",
      "node: Small Airway Blockage 13 (%)\n",
      "Query took 46.24636101722717s\n",
      "SAB: 14\n",
      "Preprocess query\n",
      "Run query\n",
      "Query var to list\n",
      "Find nodes with query vars\n",
      "Conversion to set of tuple\n",
      "Compute clique potentials\n",
      "Variable elimination marginalize\n"
     ]
    },
    {
     "data": {
      "application/vnd.jupyter.widget-view+json": {
       "model_id": "4fe6997c423f4882ac522ca2261a0db0",
       "version_major": 2,
       "version_minor": 0
      },
      "text/plain": [
       "  0%|          | 0/18 [00:00<?, ?it/s]"
      ]
     },
     "metadata": {},
     "output_type": "display_data"
    },
    {
     "name": "stdout",
     "output_type": "stream",
     "text": [
      "factors: [<DiscreteFactor representing phi(Unblocked FEV1 (L):58, Small Airway Blockage 16 (%):16) at 0x7fbc9372a920>]\n",
      "factors: [<DiscreteFactor representing phi(Unblocked FEV1 (L):58, Small Airway Blockage 9 (%):16) at 0x7fbc9372a350>]\n",
      "factors: [<DiscreteFactor representing phi(Unblocked FEV1 (L):58, Small Airway Blockage 17 (%):16) at 0x7fbc9372a9e0>]\n",
      "factors: [<DiscreteFactor representing phi(Unblocked FEV1 (L):58, Small Airway Blockage 3 (%):16) at 0x7fbc93729360>]\n",
      "factors: [<DiscreteFactor representing phi(Unblocked FEV1 (L):58, Small Airway Blockage 6 (%):16) at 0x7fbc9372afe0>]\n",
      "factors: [<DiscreteFactor representing phi(Unblocked FEV1 (L):58, Small Airway Blockage 11 (%):16) at 0x7fbc93729060>]\n",
      "factors: [<DiscreteFactor representing phi(Unblocked FEV1 (L):58, Small Airway Blockage 7 (%):16) at 0x7fbc93729a50>]\n",
      "factors: [<DiscreteFactor representing phi(Unblocked FEV1 (L):58, Small Airway Blockage 10 (%):16) at 0x7fbc93729420>]\n",
      "factors: [<DiscreteFactor representing phi(Unblocked FEV1 (L):58, Small Airway Blockage 2 (%):16) at 0x7fbc9372add0>]\n",
      "factors: [<DiscreteFactor representing phi(Unblocked FEV1 (L):58, Small Airway Blockage 15 (%):16) at 0x7fbc93729510>]\n",
      "factors: [<DiscreteFactor representing phi(Unblocked FEV1 (L):58, Small Airway Blockage 0 (%):16) at 0x7fbc9372b8b0>]\n",
      "factors: [<DiscreteFactor representing phi(Unblocked FEV1 (L):58, Small Airway Blockage 1 (%):16) at 0x7fbc93729750>]\n",
      "factors: [<DiscreteFactor representing phi(Unblocked FEV1 (L):58, Small Airway Blockage 12 (%):16) at 0x7fbc93729f90>, <DiscreteFactor representing phi(Unblocked FEV1 (L):58, Small Airway Blockage 8 (%):16) at 0x7fbc93729f30>, <DiscreteFactor representing phi(Unblocked FEV1 (L):58, Small Airway Blockage 5 (%):16) at 0x7fbc9372a2c0>, <DiscreteFactor representing phi(Unblocked FEV1 (L):58) at 0x7fbcd6204850>, <DiscreteFactor representing phi(Unblocked FEV1 (L):58) at 0x7fbcd6204f70>, <DiscreteFactor representing phi(Unblocked FEV1 (L):58) at 0x7fbcd62048e0>, <DiscreteFactor representing phi(Unblocked FEV1 (L):58) at 0x7fbcd6205150>, <DiscreteFactor representing phi(Unblocked FEV1 (L):58, Small Airway Blockage 13 (%):16) at 0x7fbc93729b40>, <DiscreteFactor representing phi(Unblocked FEV1 (L):58) at 0x7fbcd6206ce0>, <DiscreteFactor representing phi(Unblocked FEV1 (L):58) at 0x7fbcd6206e90>, <DiscreteFactor representing phi(Unblocked FEV1 (L):58) at 0x7fbcd6207040>, <DiscreteFactor representing phi(Unblocked FEV1 (L):58) at 0x7fbcd6205c60>, <DiscreteFactor representing phi(Unblocked FEV1 (L):58, Small Airway Blockage 14 (%):16) at 0x7fbc93729690>, <DiscreteFactor representing phi(Unblocked FEV1 (L):58) at 0x7fbcd62063b0>, <DiscreteFactor representing phi(Unblocked FEV1 (L):58) at 0x7fbcd6206530>, <DiscreteFactor representing phi(Unblocked FEV1 (L):58, Small Airway Blockage 4 (%):16) at 0x7fbc9372b4f0>, <DiscreteFactor representing phi(Unblocked FEV1 (L):58) at 0x7fbcd6206680>, <DiscreteFactor representing phi(Unblocked FEV1 (L):58) at 0x7fbcd6206a40>]\n",
      "factors: [<DiscreteFactor representing phi(Small Airway Blockage 12 (%):16, Small Airway Blockage 8 (%):16, Small Airway Blockage 5 (%):16, Small Airway Blockage 13 (%):16, Small Airway Blockage 14 (%):16, Small Airway Blockage 4 (%):16) at 0x7fbcd6205c00>]\n",
      "factors: [<DiscreteFactor representing phi(Small Airway Blockage 12 (%):16, Small Airway Blockage 8 (%):16, Small Airway Blockage 13 (%):16, Small Airway Blockage 14 (%):16, Small Airway Blockage 4 (%):16) at 0x7fbcd6206e90>]\n",
      "factors: [<DiscreteFactor representing phi(Small Airway Blockage 12 (%):16, Small Airway Blockage 8 (%):16, Small Airway Blockage 13 (%):16, Small Airway Blockage 14 (%):16) at 0x7fbc93729060>]\n",
      "factors: [<DiscreteFactor representing phi(Small Airway Blockage 12 (%):16, Small Airway Blockage 8 (%):16, Small Airway Blockage 14 (%):16) at 0x7fbc9372add0>]\n",
      "factors: [<DiscreteFactor representing phi(Small Airway Blockage 8 (%):16, Small Airway Blockage 14 (%):16) at 0x7fbc93729a50>]\n",
      "Prepare vars to be returned\n",
      "node: Small Airway Blockage 14 (%)\n",
      "Query took 45.5352680683136s\n",
      "SAB: 15\n",
      "Preprocess query\n",
      "Run query\n",
      "Query var to list\n",
      "Find nodes with query vars\n",
      "Conversion to set of tuple\n",
      "Compute clique potentials\n",
      "Variable elimination marginalize\n"
     ]
    },
    {
     "data": {
      "application/vnd.jupyter.widget-view+json": {
       "model_id": "44c416e2bb53498facd6ea494d1f3602",
       "version_major": 2,
       "version_minor": 0
      },
      "text/plain": [
       "  0%|          | 0/18 [00:00<?, ?it/s]"
      ]
     },
     "metadata": {},
     "output_type": "display_data"
    },
    {
     "name": "stdout",
     "output_type": "stream",
     "text": [
      "factors: [<DiscreteFactor representing phi(Unblocked FEV1 (L):58, Small Airway Blockage 16 (%):16) at 0x7fbcd6206ec0>]\n",
      "factors: [<DiscreteFactor representing phi(Unblocked FEV1 (L):58, Small Airway Blockage 9 (%):16) at 0x7fbc9372a8f0>]\n",
      "factors: [<DiscreteFactor representing phi(Unblocked FEV1 (L):58, Small Airway Blockage 17 (%):16) at 0x7fbcd62069e0>]\n",
      "factors: [<DiscreteFactor representing phi(Unblocked FEV1 (L):58, Small Airway Blockage 3 (%):16) at 0x7fbc9372a7d0>]\n",
      "factors: [<DiscreteFactor representing phi(Unblocked FEV1 (L):58, Small Airway Blockage 6 (%):16) at 0x7fbc93729450>]\n",
      "factors: [<DiscreteFactor representing phi(Unblocked FEV1 (L):58, Small Airway Blockage 11 (%):16) at 0x7fbc93729690>]\n",
      "factors: [<DiscreteFactor representing phi(Unblocked FEV1 (L):58, Small Airway Blockage 7 (%):16) at 0x7fbc93729060>]\n",
      "factors: [<DiscreteFactor representing phi(Unblocked FEV1 (L):58, Small Airway Blockage 10 (%):16) at 0x7fbc9372a410>]\n",
      "factors: [<DiscreteFactor representing phi(Unblocked FEV1 (L):58, Small Airway Blockage 14 (%):16) at 0x7fbc9372ab30>]\n",
      "factors: [<DiscreteFactor representing phi(Unblocked FEV1 (L):58, Small Airway Blockage 2 (%):16) at 0x7fbc9372b190>]\n",
      "factors: [<DiscreteFactor representing phi(Unblocked FEV1 (L):58, Small Airway Blockage 0 (%):16) at 0x7fbc9372bbb0>]\n",
      "factors: [<DiscreteFactor representing phi(Unblocked FEV1 (L):58, Small Airway Blockage 1 (%):16) at 0x7fbc9372b1f0>]\n",
      "factors: [<DiscreteFactor representing phi(Unblocked FEV1 (L):58, Small Airway Blockage 12 (%):16) at 0x7fbc93729a50>, <DiscreteFactor representing phi(Unblocked FEV1 (L):58, Small Airway Blockage 8 (%):16) at 0x7fbc9372add0>, <DiscreteFactor representing phi(Unblocked FEV1 (L):58, Small Airway Blockage 15 (%):16) at 0x7fbcd6206fb0>, <DiscreteFactor representing phi(Unblocked FEV1 (L):58, Small Airway Blockage 5 (%):16) at 0x7fbc9372a0e0>, <DiscreteFactor representing phi(Unblocked FEV1 (L):58) at 0x7fbcd6205990>, <DiscreteFactor representing phi(Unblocked FEV1 (L):58) at 0x7fbcd62054e0>, <DiscreteFactor representing phi(Unblocked FEV1 (L):58) at 0x7fbcd6206bf0>, <DiscreteFactor representing phi(Unblocked FEV1 (L):58) at 0x7fbcd6206c80>, <DiscreteFactor representing phi(Unblocked FEV1 (L):58, Small Airway Blockage 13 (%):16) at 0x7fbc937298d0>, <DiscreteFactor representing phi(Unblocked FEV1 (L):58) at 0x7fbcd6207340>, <DiscreteFactor representing phi(Unblocked FEV1 (L):58) at 0x7fbcd62074f0>, <DiscreteFactor representing phi(Unblocked FEV1 (L):58) at 0x7fbcd6204c10>, <DiscreteFactor representing phi(Unblocked FEV1 (L):58) at 0x7fbcd6206230>, <DiscreteFactor representing phi(Unblocked FEV1 (L):58) at 0x7fbcd6205840>, <DiscreteFactor representing phi(Unblocked FEV1 (L):58) at 0x7fbcd62071f0>, <DiscreteFactor representing phi(Unblocked FEV1 (L):58, Small Airway Blockage 4 (%):16) at 0x7fbc9372a4a0>, <DiscreteFactor representing phi(Unblocked FEV1 (L):58) at 0x7fbcd6205150>, <DiscreteFactor representing phi(Unblocked FEV1 (L):58) at 0x7fbcd6204280>]\n",
      "factors: [<DiscreteFactor representing phi(Small Airway Blockage 12 (%):16, Small Airway Blockage 8 (%):16, Small Airway Blockage 15 (%):16, Small Airway Blockage 5 (%):16, Small Airway Blockage 13 (%):16, Small Airway Blockage 4 (%):16) at 0x7fbcd6206260>]\n",
      "factors: [<DiscreteFactor representing phi(Small Airway Blockage 12 (%):16, Small Airway Blockage 8 (%):16, Small Airway Blockage 15 (%):16, Small Airway Blockage 13 (%):16, Small Airway Blockage 4 (%):16) at 0x7fbcd62074f0>]\n",
      "factors: [<DiscreteFactor representing phi(Small Airway Blockage 12 (%):16, Small Airway Blockage 8 (%):16, Small Airway Blockage 15 (%):16, Small Airway Blockage 13 (%):16) at 0x7fbc9372b190>]\n",
      "factors: [<DiscreteFactor representing phi(Small Airway Blockage 12 (%):16, Small Airway Blockage 8 (%):16, Small Airway Blockage 15 (%):16) at 0x7fbc9372a410>]\n",
      "factors: [<DiscreteFactor representing phi(Small Airway Blockage 8 (%):16, Small Airway Blockage 15 (%):16) at 0x7fbc93729690>]\n",
      "Prepare vars to be returned\n",
      "node: Small Airway Blockage 15 (%)\n",
      "Query took 46.57624411582947s\n",
      "SAB: 16\n",
      "Preprocess query\n",
      "Run query\n",
      "Query var to list\n",
      "Find nodes with query vars\n",
      "Conversion to set of tuple\n",
      "Compute clique potentials\n",
      "Variable elimination marginalize\n"
     ]
    },
    {
     "data": {
      "application/vnd.jupyter.widget-view+json": {
       "model_id": "b75d93d6066240c08ec2ab3ac88d0a63",
       "version_major": 2,
       "version_minor": 0
      },
      "text/plain": [
       "  0%|          | 0/18 [00:00<?, ?it/s]"
      ]
     },
     "metadata": {},
     "output_type": "display_data"
    },
    {
     "name": "stdout",
     "output_type": "stream",
     "text": [
      "factors: [<DiscreteFactor representing phi(Unblocked FEV1 (L):58, Small Airway Blockage 9 (%):16) at 0x7fbc9372aa70>]\n",
      "factors: [<DiscreteFactor representing phi(Unblocked FEV1 (L):58, Small Airway Blockage 17 (%):16) at 0x7fbc9372a830>]\n",
      "factors: [<DiscreteFactor representing phi(Unblocked FEV1 (L):58, Small Airway Blockage 3 (%):16) at 0x7fbc9372a350>]\n",
      "factors: [<DiscreteFactor representing phi(Unblocked FEV1 (L):58, Small Airway Blockage 6 (%):16) at 0x7fbc9372b220>]\n",
      "factors: [<DiscreteFactor representing phi(Unblocked FEV1 (L):58, Small Airway Blockage 11 (%):16) at 0x7fbc93729240>]\n",
      "factors: [<DiscreteFactor representing phi(Unblocked FEV1 (L):58, Small Airway Blockage 7 (%):16) at 0x7fbc9372a9b0>]\n",
      "factors: [<DiscreteFactor representing phi(Unblocked FEV1 (L):58, Small Airway Blockage 10 (%):16) at 0x7fbc9372b9a0>]\n",
      "factors: [<DiscreteFactor representing phi(Unblocked FEV1 (L):58, Small Airway Blockage 14 (%):16) at 0x7fbc93729510>]\n",
      "factors: [<DiscreteFactor representing phi(Unblocked FEV1 (L):58, Small Airway Blockage 2 (%):16) at 0x7fbc9372a410>]\n",
      "factors: [<DiscreteFactor representing phi(Unblocked FEV1 (L):58, Small Airway Blockage 15 (%):16) at 0x7fbc9372ab30>]\n",
      "factors: [<DiscreteFactor representing phi(Unblocked FEV1 (L):58, Small Airway Blockage 0 (%):16) at 0x7fbc93729690>]\n",
      "factors: [<DiscreteFactor representing phi(Unblocked FEV1 (L):58, Small Airway Blockage 1 (%):16) at 0x7fbc93729b70>]\n",
      "factors: [<DiscreteFactor representing phi(Unblocked FEV1 (L):58, Small Airway Blockage 12 (%):16) at 0x7fbc937296c0>, <DiscreteFactor representing phi(Unblocked FEV1 (L):58, Small Airway Blockage 8 (%):16) at 0x7fbc93729f60>, <DiscreteFactor representing phi(Unblocked FEV1 (L):58, Small Airway Blockage 5 (%):16) at 0x7fbc9372b670>, <DiscreteFactor representing phi(Unblocked FEV1 (L):58) at 0x7fbcd6205f00>, <DiscreteFactor representing phi(Unblocked FEV1 (L):58) at 0x7fbcd62064d0>, <DiscreteFactor representing phi(Unblocked FEV1 (L):58) at 0x7fbcd6207580>, <DiscreteFactor representing phi(Unblocked FEV1 (L):58) at 0x7fbcd6207550>, <DiscreteFactor representing phi(Unblocked FEV1 (L):58, Small Airway Blockage 13 (%):16) at 0x7fbc937294b0>, <DiscreteFactor representing phi(Unblocked FEV1 (L):58, Small Airway Blockage 16 (%):16) at 0x7fbc937298d0>, <DiscreteFactor representing phi(Unblocked FEV1 (L):58) at 0x7fbcd6205390>, <DiscreteFactor representing phi(Unblocked FEV1 (L):58) at 0x7fbcd62071f0>, <DiscreteFactor representing phi(Unblocked FEV1 (L):58) at 0x7fbcd6206a10>, <DiscreteFactor representing phi(Unblocked FEV1 (L):58) at 0x7fbcd6204af0>, <DiscreteFactor representing phi(Unblocked FEV1 (L):58) at 0x7fbcd62069e0>, <DiscreteFactor representing phi(Unblocked FEV1 (L):58) at 0x7fbcd62048e0>, <DiscreteFactor representing phi(Unblocked FEV1 (L):58) at 0x7fbcd6206bc0>, <DiscreteFactor representing phi(Unblocked FEV1 (L):58, Small Airway Blockage 4 (%):16) at 0x7fbc9372a020>, <DiscreteFactor representing phi(Unblocked FEV1 (L):58) at 0x7fbcd62061d0>]\n",
      "factors: [<DiscreteFactor representing phi(Small Airway Blockage 12 (%):16, Small Airway Blockage 8 (%):16, Small Airway Blockage 5 (%):16, Small Airway Blockage 13 (%):16, Small Airway Blockage 16 (%):16, Small Airway Blockage 4 (%):16) at 0x7fbcd6207400>]\n",
      "factors: [<DiscreteFactor representing phi(Small Airway Blockage 12 (%):16, Small Airway Blockage 8 (%):16, Small Airway Blockage 13 (%):16, Small Airway Blockage 16 (%):16, Small Airway Blockage 4 (%):16) at 0x7fbcd62071f0>]\n",
      "factors: [<DiscreteFactor representing phi(Small Airway Blockage 12 (%):16, Small Airway Blockage 8 (%):16, Small Airway Blockage 13 (%):16, Small Airway Blockage 16 (%):16) at 0x7fbcd6206a10>]\n",
      "factors: [<DiscreteFactor representing phi(Small Airway Blockage 12 (%):16, Small Airway Blockage 8 (%):16, Small Airway Blockage 16 (%):16) at 0x7fbc93729240>]\n",
      "factors: [<DiscreteFactor representing phi(Small Airway Blockage 8 (%):16, Small Airway Blockage 16 (%):16) at 0x7fbc9372a020>]\n",
      "Prepare vars to be returned\n",
      "node: Small Airway Blockage 16 (%)\n",
      "Query took 32.417527198791504s\n",
      "SAB: 17\n",
      "Preprocess query\n",
      "Run query\n",
      "Query var to list\n",
      "Find nodes with query vars\n",
      "Conversion to set of tuple\n",
      "Compute clique potentials\n",
      "Variable elimination marginalize\n"
     ]
    },
    {
     "data": {
      "application/vnd.jupyter.widget-view+json": {
       "model_id": "577232070d884623833b44c0a3ca2326",
       "version_major": 2,
       "version_minor": 0
      },
      "text/plain": [
       "  0%|          | 0/18 [00:00<?, ?it/s]"
      ]
     },
     "metadata": {},
     "output_type": "display_data"
    },
    {
     "name": "stdout",
     "output_type": "stream",
     "text": [
      "factors: [<DiscreteFactor representing phi(Unblocked FEV1 (L):58, Small Airway Blockage 16 (%):16) at 0x7fbc937298d0>]\n",
      "factors: [<DiscreteFactor representing phi(Unblocked FEV1 (L):58, Small Airway Blockage 9 (%):16) at 0x7fbc9372a9e0>]\n",
      "factors: [<DiscreteFactor representing phi(Unblocked FEV1 (L):58, Small Airway Blockage 3 (%):16) at 0x7fbc93729c90>]\n",
      "factors: [<DiscreteFactor representing phi(Unblocked FEV1 (L):58, Small Airway Blockage 7 (%):16) at 0x7fbc9372b130>]\n",
      "factors: [<DiscreteFactor representing phi(Unblocked FEV1 (L):58, Small Airway Blockage 6 (%):16) at 0x7fbc9372ae90>]\n",
      "factors: [<DiscreteFactor representing phi(Unblocked FEV1 (L):58, Small Airway Blockage 11 (%):16) at 0x7fbc93729570>]\n",
      "factors: [<DiscreteFactor representing phi(Unblocked FEV1 (L):58, Small Airway Blockage 10 (%):16) at 0x7fbc937299f0>]\n",
      "factors: [<DiscreteFactor representing phi(Unblocked FEV1 (L):58, Small Airway Blockage 14 (%):16) at 0x7fbc9372b4f0>]\n",
      "factors: [<DiscreteFactor representing phi(Unblocked FEV1 (L):58, Small Airway Blockage 2 (%):16) at 0x7fbc93729c60>]\n",
      "factors: [<DiscreteFactor representing phi(Unblocked FEV1 (L):58, Small Airway Blockage 15 (%):16) at 0x7fbc9372aef0>]\n",
      "factors: [<DiscreteFactor representing phi(Unblocked FEV1 (L):58, Small Airway Blockage 0 (%):16) at 0x7fbc9372ab90>]\n",
      "factors: [<DiscreteFactor representing phi(Unblocked FEV1 (L):58, Small Airway Blockage 1 (%):16) at 0x7fbc9372a560>]\n",
      "factors: [<DiscreteFactor representing phi(Unblocked FEV1 (L):58, Small Airway Blockage 12 (%):16) at 0x7fbc9372a290>, <DiscreteFactor representing phi(Unblocked FEV1 (L):58, Small Airway Blockage 8 (%):16) at 0x7fbc9372a2c0>, <DiscreteFactor representing phi(Unblocked FEV1 (L):58, Small Airway Blockage 5 (%):16) at 0x7fbc93729e70>, <DiscreteFactor representing phi(Unblocked FEV1 (L):58) at 0x7fbcd6205b70>, <DiscreteFactor representing phi(Unblocked FEV1 (L):58) at 0x7fbcd6207700>, <DiscreteFactor representing phi(Unblocked FEV1 (L):58) at 0x7fbcd62078b0>, <DiscreteFactor representing phi(Unblocked FEV1 (L):58, Small Airway Blockage 13 (%):16) at 0x7fbc9372a110>, <DiscreteFactor representing phi(Unblocked FEV1 (L):58) at 0x7fbcd6207d60>, <DiscreteFactor representing phi(Unblocked FEV1 (L):58) at 0x7fbcd6206410>, <DiscreteFactor representing phi(Unblocked FEV1 (L):58) at 0x7fbcd6206e00>, <DiscreteFactor representing phi(Unblocked FEV1 (L):58, Small Airway Blockage 17 (%):16) at 0x7fbc9372ac20>, <DiscreteFactor representing phi(Unblocked FEV1 (L):58) at 0x7fbcd62060e0>, <DiscreteFactor representing phi(Unblocked FEV1 (L):58) at 0x7fbcd6204a90>, <DiscreteFactor representing phi(Unblocked FEV1 (L):58) at 0x7fbcd6207a60>, <DiscreteFactor representing phi(Unblocked FEV1 (L):58) at 0x7fbcd6207c10>, <DiscreteFactor representing phi(Unblocked FEV1 (L):58, Small Airway Blockage 4 (%):16) at 0x7fbc9372aad0>, <DiscreteFactor representing phi(Unblocked FEV1 (L):58) at 0x7fbcd62048e0>, <DiscreteFactor representing phi(Unblocked FEV1 (L):58) at 0x7fbcd6207310>]\n",
      "factors: [<DiscreteFactor representing phi(Small Airway Blockage 12 (%):16, Small Airway Blockage 8 (%):16, Small Airway Blockage 5 (%):16, Small Airway Blockage 13 (%):16, Small Airway Blockage 17 (%):16, Small Airway Blockage 4 (%):16) at 0x7fbcd6205390>]\n",
      "factors: [<DiscreteFactor representing phi(Small Airway Blockage 12 (%):16, Small Airway Blockage 8 (%):16, Small Airway Blockage 13 (%):16, Small Airway Blockage 17 (%):16, Small Airway Blockage 4 (%):16) at 0x7fbcd6206e00>]\n",
      "factors: [<DiscreteFactor representing phi(Small Airway Blockage 12 (%):16, Small Airway Blockage 8 (%):16, Small Airway Blockage 13 (%):16, Small Airway Blockage 17 (%):16) at 0x7fbc9372b4f0>]\n",
      "factors: [<DiscreteFactor representing phi(Small Airway Blockage 12 (%):16, Small Airway Blockage 8 (%):16, Small Airway Blockage 17 (%):16) at 0x7fbc9372b130>]\n",
      "factors: [<DiscreteFactor representing phi(Small Airway Blockage 8 (%):16, Small Airway Blockage 17 (%):16) at 0x7fbc937298d0>]\n",
      "Prepare vars to be returned\n",
      "node: Small Airway Blockage 17 (%)\n",
      "Query took 45.952128887176514s\n",
      "ID:  152\n",
      "*** Building the longitudinal model with LD as shared variable across time ***\n",
      "Defining gaussian prior with mu = 3.99, sigma = 0.4\n",
      "Run inference queries\n",
      "Preprocess query\n",
      "Run query\n",
      "Query var to list\n",
      "Find nodes with query vars\n",
      "Conversion to set of tuple\n",
      "Compute clique potentials\n",
      "Variable elimination marginalize\n"
     ]
    },
    {
     "data": {
      "application/vnd.jupyter.widget-view+json": {
       "model_id": "ad7524fd9e284be9aa5672e6bc9f0511",
       "version_major": 2,
       "version_minor": 0
      },
      "text/plain": [
       "  0%|          | 0/14 [00:00<?, ?it/s]"
      ]
     },
     "metadata": {},
     "output_type": "display_data"
    },
    {
     "name": "stdout",
     "output_type": "stream",
     "text": [
      "factors: [<DiscreteFactor representing phi(Unblocked FEV1 (L):58, Small Airway Blockage 9 (%):16) at 0x7fbc6a2c7550>]\n",
      "factors: [<DiscreteFactor representing phi(Unblocked FEV1 (L):58, Small Airway Blockage 3 (%):16) at 0x7fbc6a2c5510>]\n",
      "factors: [<DiscreteFactor representing phi(Unblocked FEV1 (L):58, Small Airway Blockage 7 (%):16) at 0x7fbc6a2c7940>]\n",
      "factors: [<DiscreteFactor representing phi(Unblocked FEV1 (L):58, Small Airway Blockage 6 (%):16) at 0x7fbc6a2c5ab0>]\n",
      "factors: [<DiscreteFactor representing phi(Unblocked FEV1 (L):58, Small Airway Blockage 10 (%):16) at 0x7fbc6a2c4e20>]\n",
      "factors: [<DiscreteFactor representing phi(Unblocked FEV1 (L):58, Small Airway Blockage 13 (%):16) at 0x7fbc6a2c4bb0>]\n",
      "factors: [<DiscreteFactor representing phi(Unblocked FEV1 (L):58, Small Airway Blockage 2 (%):16) at 0x7fbc6a2c5570>]\n",
      "factors: [<DiscreteFactor representing phi(Unblocked FEV1 (L):58, Small Airway Blockage 1 (%):16) at 0x7fbc6a2c5780>]\n",
      "factors: [<DiscreteFactor representing phi(Unblocked FEV1 (L):58, Small Airway Blockage 0 (%):16) at 0x7fbc6a2c50c0>]\n",
      "factors: [<DiscreteFactor representing phi(Unblocked FEV1 (L):58, Small Airway Blockage 5 (%):16) at 0x7fbc6a2c7340>]\n",
      "factors: [<DiscreteFactor representing phi(Unblocked FEV1 (L):58, Small Airway Blockage 4 (%):16) at 0x7fbc6a2c55a0>]\n",
      "factors: [<DiscreteFactor representing phi(Unblocked FEV1 (L):58, Small Airway Blockage 11 (%):16) at 0x7fbc6a2c7a30>]\n",
      "factors: [<DiscreteFactor representing phi(Unblocked FEV1 (L):58, Small Airway Blockage 12 (%):16) at 0x7fbc6a2c5270>]\n",
      "factors: [<DiscreteFactor representing phi(Unblocked FEV1 (L):58, Small Airway Blockage 8 (%):16) at 0x7fbc6a2c7fd0>]\n",
      "Prepare vars to be returned\n",
      "node: Unblocked FEV1 (L)\n",
      "node: Healthy FEV1 (L)\n",
      "node: Lung Damage (%)\n",
      "Query took 0.2718839645385742s\n",
      "Run SAB inference queries\n",
      "SAB: 0\n",
      "Preprocess query\n",
      "Run query\n",
      "Query var to list\n",
      "Find nodes with query vars\n",
      "Conversion to set of tuple\n",
      "Compute clique potentials\n",
      "Variable elimination marginalize\n"
     ]
    },
    {
     "data": {
      "application/vnd.jupyter.widget-view+json": {
       "model_id": "d9998f9d6ca143a29ddc3a176e1feda7",
       "version_major": 2,
       "version_minor": 0
      },
      "text/plain": [
       "  0%|          | 0/14 [00:00<?, ?it/s]"
      ]
     },
     "metadata": {},
     "output_type": "display_data"
    },
    {
     "name": "stdout",
     "output_type": "stream",
     "text": [
      "factors: [<DiscreteFactor representing phi(Unblocked FEV1 (L):58, Small Airway Blockage 9 (%):16) at 0x7fbc6a2c48b0>]\n",
      "factors: [<DiscreteFactor representing phi(Unblocked FEV1 (L):58, Small Airway Blockage 3 (%):16) at 0x7fbc6a2c4a60>]\n",
      "factors: [<DiscreteFactor representing phi(Unblocked FEV1 (L):58, Small Airway Blockage 7 (%):16) at 0x7fbc6a2c7790>]\n",
      "factors: [<DiscreteFactor representing phi(Unblocked FEV1 (L):58, Small Airway Blockage 6 (%):16) at 0x7fbc6a2c5810>]\n",
      "factors: [<DiscreteFactor representing phi(Unblocked FEV1 (L):58, Small Airway Blockage 10 (%):16) at 0x7fbc6a2c7940>]\n",
      "factors: [<DiscreteFactor representing phi(Unblocked FEV1 (L):58, Small Airway Blockage 13 (%):16) at 0x7fbc6a2c7700>]\n",
      "factors: [<DiscreteFactor representing phi(Unblocked FEV1 (L):58, Small Airway Blockage 2 (%):16) at 0x7fbc6a2c5f90>]\n",
      "factors: [<DiscreteFactor representing phi(Unblocked FEV1 (L):58, Small Airway Blockage 1 (%):16) at 0x7fbc6a2c5060>]\n",
      "factors: [<DiscreteFactor representing phi(Unblocked FEV1 (L):58, Small Airway Blockage 0 (%):16) at 0x7fbc6a2c6260>, <DiscreteFactor representing phi(Unblocked FEV1 (L):58) at 0x7fbc6a2c57e0>, <DiscreteFactor representing phi(Unblocked FEV1 (L):58) at 0x7fbc6a2c6e90>, <DiscreteFactor representing phi(Unblocked FEV1 (L):58, Small Airway Blockage 11 (%):16) at 0x7fbc6a2c4ee0>, <DiscreteFactor representing phi(Unblocked FEV1 (L):58, Small Airway Blockage 4 (%):16) at 0x7fbc6a2c7a90>, <DiscreteFactor representing phi(Unblocked FEV1 (L):58, Small Airway Blockage 8 (%):16) at 0x7fbc6a2c6230>, <DiscreteFactor representing phi(Unblocked FEV1 (L):58) at 0x7fbc6a2c5150>, <DiscreteFactor representing phi(Unblocked FEV1 (L):58) at 0x7fbc6a2c6530>, <DiscreteFactor representing phi(Unblocked FEV1 (L):58, Small Airway Blockage 12 (%):16) at 0x7fbc6a2c5f30>, <DiscreteFactor representing phi(Unblocked FEV1 (L):58) at 0x7fbc6a2c70d0>, <DiscreteFactor representing phi(Unblocked FEV1 (L):58) at 0x7fbc6a2c5cf0>, <DiscreteFactor representing phi(Unblocked FEV1 (L):58) at 0x7fbc6a2c6980>, <DiscreteFactor representing phi(Unblocked FEV1 (L):58, Small Airway Blockage 5 (%):16) at 0x7fbc6a2c7040>, <DiscreteFactor representing phi(Unblocked FEV1 (L):58) at 0x7fbc6a2c59f0>]\n",
      "factors: [<DiscreteFactor representing phi(Small Airway Blockage 0 (%):16, Small Airway Blockage 11 (%):16, Small Airway Blockage 4 (%):16, Small Airway Blockage 8 (%):16, Small Airway Blockage 12 (%):16, Small Airway Blockage 5 (%):16) at 0x7fbc6a2c4d00>]\n",
      "factors: [<DiscreteFactor representing phi(Small Airway Blockage 0 (%):16, Small Airway Blockage 11 (%):16, Small Airway Blockage 4 (%):16, Small Airway Blockage 8 (%):16, Small Airway Blockage 12 (%):16) at 0x7fbc6a2c5cf0>]\n",
      "factors: [<DiscreteFactor representing phi(Small Airway Blockage 0 (%):16, Small Airway Blockage 11 (%):16, Small Airway Blockage 8 (%):16, Small Airway Blockage 12 (%):16) at 0x7fbc6a2c59f0>]\n",
      "factors: [<DiscreteFactor representing phi(Small Airway Blockage 0 (%):16, Small Airway Blockage 8 (%):16, Small Airway Blockage 12 (%):16) at 0x7fbc6a2c47c0>]\n",
      "factors: [<DiscreteFactor representing phi(Small Airway Blockage 0 (%):16, Small Airway Blockage 8 (%):16) at 0x7fbc6a2c7a90>]\n",
      "Prepare vars to be returned\n",
      "node: Small Airway Blockage 0 (%)\n",
      "Query took 30.410603046417236s\n",
      "SAB: 1\n",
      "Preprocess query\n",
      "Run query\n",
      "Query var to list\n",
      "Find nodes with query vars\n",
      "Conversion to set of tuple\n",
      "Compute clique potentials\n",
      "Variable elimination marginalize\n"
     ]
    },
    {
     "data": {
      "application/vnd.jupyter.widget-view+json": {
       "model_id": "d19c7c8a516141a7a34ab14d556e6aa0",
       "version_major": 2,
       "version_minor": 0
      },
      "text/plain": [
       "  0%|          | 0/14 [00:00<?, ?it/s]"
      ]
     },
     "metadata": {},
     "output_type": "display_data"
    },
    {
     "name": "stdout",
     "output_type": "stream",
     "text": [
      "factors: [<DiscreteFactor representing phi(Unblocked FEV1 (L):58, Small Airway Blockage 9 (%):16) at 0x7fbc6a2c5810>]\n",
      "factors: [<DiscreteFactor representing phi(Unblocked FEV1 (L):58, Small Airway Blockage 3 (%):16) at 0x7fbc6a2c4970>]\n",
      "factors: [<DiscreteFactor representing phi(Unblocked FEV1 (L):58, Small Airway Blockage 7 (%):16) at 0x7fbc6a2c7790>]\n",
      "factors: [<DiscreteFactor representing phi(Unblocked FEV1 (L):58, Small Airway Blockage 6 (%):16) at 0x7fbc6a2c4a90>]\n",
      "factors: [<DiscreteFactor representing phi(Unblocked FEV1 (L):58, Small Airway Blockage 10 (%):16) at 0x7fbc6a2c7a60>]\n",
      "factors: [<DiscreteFactor representing phi(Unblocked FEV1 (L):58, Small Airway Blockage 13 (%):16) at 0x7fbc6a2c5600>]\n",
      "factors: [<DiscreteFactor representing phi(Unblocked FEV1 (L):58, Small Airway Blockage 2 (%):16) at 0x7fbc6a2c6230>]\n",
      "factors: [<DiscreteFactor representing phi(Unblocked FEV1 (L):58, Small Airway Blockage 0 (%):16) at 0x7fbc6a2c7d30>]\n",
      "factors: [<DiscreteFactor representing phi(Unblocked FEV1 (L):58, Small Airway Blockage 1 (%):16) at 0x7fbc6a2c5d50>, <DiscreteFactor representing phi(Unblocked FEV1 (L):58) at 0x7fbc6a2c6770>, <DiscreteFactor representing phi(Unblocked FEV1 (L):58) at 0x7fbcd619c040>, <DiscreteFactor representing phi(Unblocked FEV1 (L):58, Small Airway Blockage 11 (%):16) at 0x7fbc6a2c5f90>, <DiscreteFactor representing phi(Unblocked FEV1 (L):58, Small Airway Blockage 4 (%):16) at 0x7fbc6a2c6f20>, <DiscreteFactor representing phi(Unblocked FEV1 (L):58, Small Airway Blockage 8 (%):16) at 0x7fbc6a2c5f00>, <DiscreteFactor representing phi(Unblocked FEV1 (L):58) at 0x7fbc6a2c69e0>, <DiscreteFactor representing phi(Unblocked FEV1 (L):58, Small Airway Blockage 12 (%):16) at 0x7fbc6a2c66e0>, <DiscreteFactor representing phi(Unblocked FEV1 (L):58) at 0x7fbcd619c1c0>, <DiscreteFactor representing phi(Unblocked FEV1 (L):58) at 0x7fbc6a2c62c0>, <DiscreteFactor representing phi(Unblocked FEV1 (L):58) at 0x7fbc6a2c4eb0>, <DiscreteFactor representing phi(Unblocked FEV1 (L):58) at 0x7fbc6a2c6290>, <DiscreteFactor representing phi(Unblocked FEV1 (L):58, Small Airway Blockage 5 (%):16) at 0x7fbc6a2c5ba0>, <DiscreteFactor representing phi(Unblocked FEV1 (L):58) at 0x7fbc6a2c65c0>]\n",
      "factors: [<DiscreteFactor representing phi(Small Airway Blockage 1 (%):16, Small Airway Blockage 11 (%):16, Small Airway Blockage 4 (%):16, Small Airway Blockage 8 (%):16, Small Airway Blockage 12 (%):16, Small Airway Blockage 5 (%):16) at 0x7fbc6a2c65f0>]\n",
      "factors: [<DiscreteFactor representing phi(Small Airway Blockage 1 (%):16, Small Airway Blockage 11 (%):16, Small Airway Blockage 4 (%):16, Small Airway Blockage 8 (%):16, Small Airway Blockage 12 (%):16) at 0x7fbc6a2c65c0>]\n",
      "factors: [<DiscreteFactor representing phi(Small Airway Blockage 1 (%):16, Small Airway Blockage 11 (%):16, Small Airway Blockage 8 (%):16, Small Airway Blockage 12 (%):16) at 0x7fbc6a2c6290>]\n",
      "factors: [<DiscreteFactor representing phi(Small Airway Blockage 1 (%):16, Small Airway Blockage 8 (%):16, Small Airway Blockage 12 (%):16) at 0x7fbc6a2c69e0>]\n",
      "factors: [<DiscreteFactor representing phi(Small Airway Blockage 1 (%):16, Small Airway Blockage 8 (%):16) at 0x7fbc6a2c4970>]\n",
      "Prepare vars to be returned\n",
      "node: Small Airway Blockage 1 (%)\n",
      "Query took 30.510068893432617s\n",
      "SAB: 2\n",
      "Preprocess query\n",
      "Run query\n",
      "Query var to list\n",
      "Find nodes with query vars\n",
      "Conversion to set of tuple\n",
      "Compute clique potentials\n",
      "Variable elimination marginalize\n"
     ]
    },
    {
     "data": {
      "application/vnd.jupyter.widget-view+json": {
       "model_id": "7bbbc3b26aab4a268bd89e8dfb699775",
       "version_major": 2,
       "version_minor": 0
      },
      "text/plain": [
       "  0%|          | 0/14 [00:00<?, ?it/s]"
      ]
     },
     "metadata": {},
     "output_type": "display_data"
    },
    {
     "name": "stdout",
     "output_type": "stream",
     "text": [
      "factors: [<DiscreteFactor representing phi(Unblocked FEV1 (L):58, Small Airway Blockage 9 (%):16) at 0x7fbc6a2c6fb0>]\n",
      "factors: [<DiscreteFactor representing phi(Unblocked FEV1 (L):58, Small Airway Blockage 3 (%):16) at 0x7fbc6a2c7af0>]\n",
      "factors: [<DiscreteFactor representing phi(Unblocked FEV1 (L):58, Small Airway Blockage 7 (%):16) at 0x7fbc6a2c7b20>]\n",
      "factors: [<DiscreteFactor representing phi(Unblocked FEV1 (L):58, Small Airway Blockage 6 (%):16) at 0x7fbc6a2c5030>]\n",
      "factors: [<DiscreteFactor representing phi(Unblocked FEV1 (L):58, Small Airway Blockage 10 (%):16) at 0x7fbc6a2c5810>]\n",
      "factors: [<DiscreteFactor representing phi(Unblocked FEV1 (L):58, Small Airway Blockage 13 (%):16) at 0x7fbc6a2c6e30>]\n",
      "factors: [<DiscreteFactor representing phi(Unblocked FEV1 (L):58, Small Airway Blockage 1 (%):16) at 0x7fbc6a2c5f90>]\n",
      "factors: [<DiscreteFactor representing phi(Unblocked FEV1 (L):58, Small Airway Blockage 0 (%):16) at 0x7fbc6a2c5960>]\n",
      "factors: [<DiscreteFactor representing phi(Unblocked FEV1 (L):58) at 0x7fbc6a2c58d0>, <DiscreteFactor representing phi(Unblocked FEV1 (L):58, Small Airway Blockage 11 (%):16) at 0x7fbc6a2c5fc0>, <DiscreteFactor representing phi(Unblocked FEV1 (L):58, Small Airway Blockage 2 (%):16) at 0x7fbc6a2c7220>, <DiscreteFactor representing phi(Unblocked FEV1 (L):58, Small Airway Blockage 4 (%):16) at 0x7fbc6a2c5ba0>, <DiscreteFactor representing phi(Unblocked FEV1 (L):58, Small Airway Blockage 8 (%):16) at 0x7fbc6a2c5420>, <DiscreteFactor representing phi(Unblocked FEV1 (L):58) at 0x7fbc6a2c69b0>, <DiscreteFactor representing phi(Unblocked FEV1 (L):58) at 0x7fbc6a2c7550>, <DiscreteFactor representing phi(Unblocked FEV1 (L):58, Small Airway Blockage 12 (%):16) at 0x7fbc6a2c4d90>, <DiscreteFactor representing phi(Unblocked FEV1 (L):58) at 0x7fbc702a40a0>, <DiscreteFactor representing phi(Unblocked FEV1 (L):58) at 0x7fbc6a2c5090>, <DiscreteFactor representing phi(Unblocked FEV1 (L):58) at 0x7fbc702a40d0>, <DiscreteFactor representing phi(Unblocked FEV1 (L):58) at 0x7fbc6a2c6290>, <DiscreteFactor representing phi(Unblocked FEV1 (L):58, Small Airway Blockage 5 (%):16) at 0x7fbc6a2c6770>, <DiscreteFactor representing phi(Unblocked FEV1 (L):58) at 0x7fbc702a4280>]\n",
      "factors: [<DiscreteFactor representing phi(Small Airway Blockage 11 (%):16, Small Airway Blockage 2 (%):16, Small Airway Blockage 4 (%):16, Small Airway Blockage 8 (%):16, Small Airway Blockage 12 (%):16, Small Airway Blockage 5 (%):16) at 0x7fbc6a2c4e20>]\n",
      "factors: [<DiscreteFactor representing phi(Small Airway Blockage 11 (%):16, Small Airway Blockage 2 (%):16, Small Airway Blockage 4 (%):16, Small Airway Blockage 8 (%):16, Small Airway Blockage 12 (%):16) at 0x7fbc6a2c5180>]\n",
      "factors: [<DiscreteFactor representing phi(Small Airway Blockage 11 (%):16, Small Airway Blockage 2 (%):16, Small Airway Blockage 8 (%):16, Small Airway Blockage 12 (%):16) at 0x7fbc6a2c55a0>]\n",
      "factors: [<DiscreteFactor representing phi(Small Airway Blockage 2 (%):16, Small Airway Blockage 8 (%):16, Small Airway Blockage 12 (%):16) at 0x7fbc6a2c5ab0>]\n",
      "factors: [<DiscreteFactor representing phi(Small Airway Blockage 2 (%):16, Small Airway Blockage 8 (%):16) at 0x7fbc6a2c5960>]\n",
      "Prepare vars to be returned\n",
      "node: Small Airway Blockage 2 (%)\n",
      "Query took 30.16488003730774s\n",
      "SAB: 3\n",
      "Preprocess query\n",
      "Run query\n",
      "Query var to list\n",
      "Find nodes with query vars\n",
      "Conversion to set of tuple\n",
      "Compute clique potentials\n",
      "Variable elimination marginalize\n"
     ]
    },
    {
     "data": {
      "application/vnd.jupyter.widget-view+json": {
       "model_id": "edc8bec1bb8748c0ba9552df859809d8",
       "version_major": 2,
       "version_minor": 0
      },
      "text/plain": [
       "  0%|          | 0/14 [00:00<?, ?it/s]"
      ]
     },
     "metadata": {},
     "output_type": "display_data"
    },
    {
     "name": "stdout",
     "output_type": "stream",
     "text": [
      "factors: [<DiscreteFactor representing phi(Unblocked FEV1 (L):58, Small Airway Blockage 9 (%):16) at 0x7fbc6a2c4a90>]\n",
      "factors: [<DiscreteFactor representing phi(Unblocked FEV1 (L):58, Small Airway Blockage 7 (%):16) at 0x7fbc6a2c58a0>]\n",
      "factors: [<DiscreteFactor representing phi(Unblocked FEV1 (L):58, Small Airway Blockage 6 (%):16) at 0x7fbc6a2c6290>]\n",
      "factors: [<DiscreteFactor representing phi(Unblocked FEV1 (L):58, Small Airway Blockage 10 (%):16) at 0x7fbc6a2c5fc0>]\n",
      "factors: [<DiscreteFactor representing phi(Unblocked FEV1 (L):58, Small Airway Blockage 13 (%):16) at 0x7fbc6a2c6b00>]\n",
      "factors: [<DiscreteFactor representing phi(Unblocked FEV1 (L):58, Small Airway Blockage 2 (%):16) at 0x7fbc6a2c6830>]\n",
      "factors: [<DiscreteFactor representing phi(Unblocked FEV1 (L):58, Small Airway Blockage 1 (%):16) at 0x7fbc6a2c5990>]\n",
      "factors: [<DiscreteFactor representing phi(Unblocked FEV1 (L):58, Small Airway Blockage 0 (%):16) at 0x7fbc6a2c69b0>]\n",
      "factors: [<DiscreteFactor representing phi(Unblocked FEV1 (L):58) at 0x7fbc702a4940>, <DiscreteFactor representing phi(Unblocked FEV1 (L):58) at 0x7fbc702a4d60>, <DiscreteFactor representing phi(Unblocked FEV1 (L):58, Small Airway Blockage 11 (%):16) at 0x7fbc6a2c4850>, <DiscreteFactor representing phi(Unblocked FEV1 (L):58, Small Airway Blockage 4 (%):16) at 0x7fbc6a2c5090>, <DiscreteFactor representing phi(Unblocked FEV1 (L):58, Small Airway Blockage 8 (%):16) at 0x7fbc6a2c6680>, <DiscreteFactor representing phi(Unblocked FEV1 (L):58, Small Airway Blockage 3 (%):16) at 0x7fbc6a2c7550>, <DiscreteFactor representing phi(Unblocked FEV1 (L):58) at 0x7fbc702a4f10>, <DiscreteFactor representing phi(Unblocked FEV1 (L):58) at 0x7fbc702a4550>, <DiscreteFactor representing phi(Unblocked FEV1 (L):58, Small Airway Blockage 12 (%):16) at 0x7fbc6a2c6500>, <DiscreteFactor representing phi(Unblocked FEV1 (L):58) at 0x7fbc702a50c0>, <DiscreteFactor representing phi(Unblocked FEV1 (L):58) at 0x7fbc702a4af0>, <DiscreteFactor representing phi(Unblocked FEV1 (L):58) at 0x7fbc702a4460>, <DiscreteFactor representing phi(Unblocked FEV1 (L):58, Small Airway Blockage 5 (%):16) at 0x7fbc6a2c7340>, <DiscreteFactor representing phi(Unblocked FEV1 (L):58) at 0x7fbc702a4760>]\n",
      "factors: [<DiscreteFactor representing phi(Small Airway Blockage 11 (%):16, Small Airway Blockage 4 (%):16, Small Airway Blockage 8 (%):16, Small Airway Blockage 3 (%):16, Small Airway Blockage 12 (%):16, Small Airway Blockage 5 (%):16) at 0x7fbc6a2c6f20>]\n",
      "factors: [<DiscreteFactor representing phi(Small Airway Blockage 11 (%):16, Small Airway Blockage 4 (%):16, Small Airway Blockage 8 (%):16, Small Airway Blockage 3 (%):16, Small Airway Blockage 12 (%):16) at 0x7fbc702a4f10>]\n",
      "factors: [<DiscreteFactor representing phi(Small Airway Blockage 11 (%):16, Small Airway Blockage 8 (%):16, Small Airway Blockage 3 (%):16, Small Airway Blockage 12 (%):16) at 0x7fbc6a2c7220>]\n",
      "factors: [<DiscreteFactor representing phi(Small Airway Blockage 8 (%):16, Small Airway Blockage 3 (%):16, Small Airway Blockage 12 (%):16) at 0x7fbc6a2c4a90>]\n",
      "factors: [<DiscreteFactor representing phi(Small Airway Blockage 8 (%):16, Small Airway Blockage 3 (%):16) at 0x7fbc702a4550>]\n",
      "Prepare vars to be returned\n",
      "node: Small Airway Blockage 3 (%)\n",
      "Query took 30.226096868515015s\n",
      "SAB: 4\n",
      "Preprocess query\n",
      "Run query\n",
      "Query var to list\n",
      "Find nodes with query vars\n",
      "Conversion to set of tuple\n",
      "Compute clique potentials\n",
      "Variable elimination marginalize\n"
     ]
    },
    {
     "data": {
      "application/vnd.jupyter.widget-view+json": {
       "model_id": "fa5a73568d9c4df78e1e0987354a9596",
       "version_major": 2,
       "version_minor": 0
      },
      "text/plain": [
       "  0%|          | 0/14 [00:00<?, ?it/s]"
      ]
     },
     "metadata": {},
     "output_type": "display_data"
    },
    {
     "name": "stdout",
     "output_type": "stream",
     "text": [
      "factors: [<DiscreteFactor representing phi(Unblocked FEV1 (L):58, Small Airway Blockage 9 (%):16) at 0x7fbc6a2c6680>]\n",
      "factors: [<DiscreteFactor representing phi(Unblocked FEV1 (L):58, Small Airway Blockage 3 (%):16) at 0x7fbc6a2c5090>]\n",
      "factors: [<DiscreteFactor representing phi(Unblocked FEV1 (L):58, Small Airway Blockage 7 (%):16) at 0x7fbc6a2c6110>]\n",
      "factors: [<DiscreteFactor representing phi(Unblocked FEV1 (L):58, Small Airway Blockage 13 (%):16) at 0x7fbc6a2c5fc0>]\n",
      "factors: [<DiscreteFactor representing phi(Unblocked FEV1 (L):58, Small Airway Blockage 10 (%):16) at 0x7fbc6a2c5060>]\n",
      "factors: [<DiscreteFactor representing phi(Unblocked FEV1 (L):58, Small Airway Blockage 2 (%):16) at 0x7fbc6a2c7ee0>]\n",
      "factors: [<DiscreteFactor representing phi(Unblocked FEV1 (L):58, Small Airway Blockage 1 (%):16) at 0x7fbc6a2c6e60>]\n",
      "factors: [<DiscreteFactor representing phi(Unblocked FEV1 (L):58, Small Airway Blockage 0 (%):16) at 0x7fbc6a2c5c60>]\n",
      "factors: [<DiscreteFactor representing phi(Unblocked FEV1 (L):58) at 0x7fbc702a4a00>, <DiscreteFactor representing phi(Unblocked FEV1 (L):58) at 0x7fbc702a4820>, <DiscreteFactor representing phi(Unblocked FEV1 (L):58, Small Airway Blockage 11 (%):16) at 0x7fbc6a2c6a10>, <DiscreteFactor representing phi(Unblocked FEV1 (L):58, Small Airway Blockage 6 (%):16) at 0x7fbc6a2c5300>, <DiscreteFactor representing phi(Unblocked FEV1 (L):58, Small Airway Blockage 4 (%):16) at 0x7fbc6a2c48b0>, <DiscreteFactor representing phi(Unblocked FEV1 (L):58, Small Airway Blockage 8 (%):16) at 0x7fbc6a2c6830>, <DiscreteFactor representing phi(Unblocked FEV1 (L):58) at 0x7fbc702a43d0>, <DiscreteFactor representing phi(Unblocked FEV1 (L):58) at 0x7fbc702a5120>, <DiscreteFactor representing phi(Unblocked FEV1 (L):58, Small Airway Blockage 12 (%):16) at 0x7fbc6a2c6500>, <DiscreteFactor representing phi(Unblocked FEV1 (L):58) at 0x7fbc702a5300>, <DiscreteFactor representing phi(Unblocked FEV1 (L):58) at 0x7fbc702a4b50>, <DiscreteFactor representing phi(Unblocked FEV1 (L):58) at 0x7fbc702a4d60>, <DiscreteFactor representing phi(Unblocked FEV1 (L):58) at 0x7fbc702a4d90>, <DiscreteFactor representing phi(Unblocked FEV1 (L):58, Small Airway Blockage 5 (%):16) at 0x7fbc6a2c55d0>]\n",
      "factors: [<DiscreteFactor representing phi(Small Airway Blockage 11 (%):16, Small Airway Blockage 6 (%):16, Small Airway Blockage 4 (%):16, Small Airway Blockage 8 (%):16, Small Airway Blockage 12 (%):16, Small Airway Blockage 5 (%):16) at 0x7fbc6a2c7b20>]\n",
      "factors: [<DiscreteFactor representing phi(Small Airway Blockage 11 (%):16, Small Airway Blockage 6 (%):16, Small Airway Blockage 4 (%):16, Small Airway Blockage 8 (%):16, Small Airway Blockage 12 (%):16) at 0x7fbc6a2c52a0>]\n",
      "factors: [<DiscreteFactor representing phi(Small Airway Blockage 11 (%):16, Small Airway Blockage 4 (%):16, Small Airway Blockage 8 (%):16, Small Airway Blockage 12 (%):16) at 0x7fbc6a2c7610>]\n",
      "factors: [<DiscreteFactor representing phi(Small Airway Blockage 4 (%):16, Small Airway Blockage 8 (%):16, Small Airway Blockage 12 (%):16) at 0x7fbc6a2c6110>]\n",
      "factors: [<DiscreteFactor representing phi(Small Airway Blockage 4 (%):16, Small Airway Blockage 8 (%):16) at 0x7fbc6a2c4d90>]\n",
      "Prepare vars to be returned\n",
      "node: Small Airway Blockage 4 (%)\n",
      "Query took 17.394527912139893s\n",
      "SAB: 5\n",
      "Preprocess query\n",
      "Run query\n",
      "Query var to list\n",
      "Find nodes with query vars\n",
      "Conversion to set of tuple\n",
      "Compute clique potentials\n",
      "Variable elimination marginalize\n"
     ]
    },
    {
     "data": {
      "application/vnd.jupyter.widget-view+json": {
       "model_id": "39750f995c33428095a4da279cdee46e",
       "version_major": 2,
       "version_minor": 0
      },
      "text/plain": [
       "  0%|          | 0/14 [00:00<?, ?it/s]"
      ]
     },
     "metadata": {},
     "output_type": "display_data"
    },
    {
     "name": "stdout",
     "output_type": "stream",
     "text": [
      "factors: [<DiscreteFactor representing phi(Unblocked FEV1 (L):58, Small Airway Blockage 9 (%):16) at 0x7fbc6a2c7790>]\n",
      "factors: [<DiscreteFactor representing phi(Unblocked FEV1 (L):58, Small Airway Blockage 3 (%):16) at 0x7fbc6a2c6aa0>]\n",
      "factors: [<DiscreteFactor representing phi(Unblocked FEV1 (L):58, Small Airway Blockage 7 (%):16) at 0x7fbc6a2c57b0>]\n",
      "factors: [<DiscreteFactor representing phi(Unblocked FEV1 (L):58, Small Airway Blockage 6 (%):16) at 0x7fbc6a2c6bf0>]\n",
      "factors: [<DiscreteFactor representing phi(Unblocked FEV1 (L):58, Small Airway Blockage 10 (%):16) at 0x7fbc6a2c5750>]\n",
      "factors: [<DiscreteFactor representing phi(Unblocked FEV1 (L):58, Small Airway Blockage 13 (%):16) at 0x7fbc6a2c4df0>]\n",
      "factors: [<DiscreteFactor representing phi(Unblocked FEV1 (L):58, Small Airway Blockage 2 (%):16) at 0x7fbc6a2c67a0>]\n",
      "factors: [<DiscreteFactor representing phi(Unblocked FEV1 (L):58, Small Airway Blockage 1 (%):16) at 0x7fbc6a2c4ca0>]\n",
      "factors: [<DiscreteFactor representing phi(Unblocked FEV1 (L):58, Small Airway Blockage 0 (%):16) at 0x7fbc6a2c63b0>]\n",
      "factors: [<DiscreteFactor representing phi(Unblocked FEV1 (L):58) at 0x7fbc702a4ca0>, <DiscreteFactor representing phi(Unblocked FEV1 (L):58) at 0x7fbc702a5660>, <DiscreteFactor representing phi(Unblocked FEV1 (L):58, Small Airway Blockage 11 (%):16) at 0x7fbc6a2c5ed0>, <DiscreteFactor representing phi(Unblocked FEV1 (L):58, Small Airway Blockage 4 (%):16) at 0x7fbc6a2c6ec0>, <DiscreteFactor representing phi(Unblocked FEV1 (L):58, Small Airway Blockage 8 (%):16) at 0x7fbc6a2c57e0>, <DiscreteFactor representing phi(Unblocked FEV1 (L):58) at 0x7fbc702a5810>, <DiscreteFactor representing phi(Unblocked FEV1 (L):58) at 0x7fbc702a4880>, <DiscreteFactor representing phi(Unblocked FEV1 (L):58, Small Airway Blockage 12 (%):16) at 0x7fbc6a2c6230>, <DiscreteFactor representing phi(Unblocked FEV1 (L):58) at 0x7fbc702a59c0>, <DiscreteFactor representing phi(Unblocked FEV1 (L):58) at 0x7fbc702a54b0>, <DiscreteFactor representing phi(Unblocked FEV1 (L):58) at 0x7fbc702a4df0>, <DiscreteFactor representing phi(Unblocked FEV1 (L):58) at 0x7fbc702a4610>, <DiscreteFactor representing phi(Unblocked FEV1 (L):58, Small Airway Blockage 5 (%):16) at 0x7fbc6a2c71f0>, <DiscreteFactor representing phi(Unblocked FEV1 (L):58) at 0x7fbc702a51e0>]\n",
      "factors: [<DiscreteFactor representing phi(Small Airway Blockage 11 (%):16, Small Airway Blockage 4 (%):16, Small Airway Blockage 8 (%):16, Small Airway Blockage 12 (%):16, Small Airway Blockage 5 (%):16) at 0x7fbc702a5c60>]\n",
      "factors: [<DiscreteFactor representing phi(Small Airway Blockage 11 (%):16, Small Airway Blockage 8 (%):16, Small Airway Blockage 12 (%):16, Small Airway Blockage 5 (%):16) at 0x7fbc702a54b0>]\n",
      "factors: [<DiscreteFactor representing phi(Small Airway Blockage 8 (%):16, Small Airway Blockage 12 (%):16, Small Airway Blockage 5 (%):16) at 0x7fbc6a2c4ca0>]\n",
      "factors: [<DiscreteFactor representing phi(Small Airway Blockage 8 (%):16, Small Airway Blockage 5 (%):16) at 0x7fbc6a2c6bf0>]\n",
      "Prepare vars to be returned\n",
      "node: Small Airway Blockage 5 (%)\n",
      "Query took 1.077803134918213s\n",
      "SAB: 6\n",
      "Preprocess query\n",
      "Run query\n",
      "Query var to list\n",
      "Find nodes with query vars\n",
      "Conversion to set of tuple\n",
      "Compute clique potentials\n",
      "Variable elimination marginalize\n"
     ]
    },
    {
     "data": {
      "application/vnd.jupyter.widget-view+json": {
       "model_id": "4f4917f6650347149aa4ba68cdc851c3",
       "version_major": 2,
       "version_minor": 0
      },
      "text/plain": [
       "  0%|          | 0/14 [00:00<?, ?it/s]"
      ]
     },
     "metadata": {},
     "output_type": "display_data"
    },
    {
     "name": "stdout",
     "output_type": "stream",
     "text": [
      "factors: [<DiscreteFactor representing phi(Unblocked FEV1 (L):58, Small Airway Blockage 9 (%):16) at 0x7fbc6a2c5c60>]\n",
      "factors: [<DiscreteFactor representing phi(Unblocked FEV1 (L):58, Small Airway Blockage 3 (%):16) at 0x7fbc6a2c5f90>]\n",
      "factors: [<DiscreteFactor representing phi(Unblocked FEV1 (L):58, Small Airway Blockage 7 (%):16) at 0x7fbc6a2c4c70>]\n",
      "factors: [<DiscreteFactor representing phi(Unblocked FEV1 (L):58, Small Airway Blockage 13 (%):16) at 0x7fbc702a5840>]\n",
      "factors: [<DiscreteFactor representing phi(Unblocked FEV1 (L):58, Small Airway Blockage 10 (%):16) at 0x7fbc6a2c6e00>]\n",
      "factors: [<DiscreteFactor representing phi(Unblocked FEV1 (L):58, Small Airway Blockage 2 (%):16) at 0x7fbc6a2c4ca0>]\n",
      "factors: [<DiscreteFactor representing phi(Unblocked FEV1 (L):58, Small Airway Blockage 1 (%):16) at 0x7fbc6a2c59c0>]\n",
      "factors: [<DiscreteFactor representing phi(Unblocked FEV1 (L):58, Small Airway Blockage 0 (%):16) at 0x7fbc6a2c6950>]\n",
      "factors: [<DiscreteFactor representing phi(Unblocked FEV1 (L):58) at 0x7fbc702a4c40>, <DiscreteFactor representing phi(Unblocked FEV1 (L):58) at 0x7fbc702a56f0>, <DiscreteFactor representing phi(Unblocked FEV1 (L):58, Small Airway Blockage 11 (%):16) at 0x7fbc702a5930>, <DiscreteFactor representing phi(Unblocked FEV1 (L):58, Small Airway Blockage 6 (%):16) at 0x7fbc6a2c71f0>, <DiscreteFactor representing phi(Unblocked FEV1 (L):58, Small Airway Blockage 4 (%):16) at 0x7fbc6a2c55d0>, <DiscreteFactor representing phi(Unblocked FEV1 (L):58, Small Airway Blockage 8 (%):16) at 0x7fbc6a2c5300>, <DiscreteFactor representing phi(Unblocked FEV1 (L):58) at 0x7fbc702a4e50>, <DiscreteFactor representing phi(Unblocked FEV1 (L):58) at 0x7fbc702a55a0>, <DiscreteFactor representing phi(Unblocked FEV1 (L):58, Small Airway Blockage 12 (%):16) at 0x7fbc702a5900>, <DiscreteFactor representing phi(Unblocked FEV1 (L):58) at 0x7fbc702a5480>, <DiscreteFactor representing phi(Unblocked FEV1 (L):58) at 0x7fbc702a4a60>, <DiscreteFactor representing phi(Unblocked FEV1 (L):58) at 0x7fbc702a4250>, <DiscreteFactor representing phi(Unblocked FEV1 (L):58) at 0x7fbc702a54b0>, <DiscreteFactor representing phi(Unblocked FEV1 (L):58, Small Airway Blockage 5 (%):16) at 0x7fbc6a2c6f20>]\n",
      "factors: [<DiscreteFactor representing phi(Small Airway Blockage 11 (%):16, Small Airway Blockage 6 (%):16, Small Airway Blockage 4 (%):16, Small Airway Blockage 8 (%):16, Small Airway Blockage 12 (%):16, Small Airway Blockage 5 (%):16) at 0x7fbc702a59c0>]\n",
      "factors: [<DiscreteFactor representing phi(Small Airway Blockage 11 (%):16, Small Airway Blockage 6 (%):16, Small Airway Blockage 4 (%):16, Small Airway Blockage 8 (%):16, Small Airway Blockage 12 (%):16) at 0x7fbc702a4a60>]\n",
      "factors: [<DiscreteFactor representing phi(Small Airway Blockage 11 (%):16, Small Airway Blockage 6 (%):16, Small Airway Blockage 8 (%):16, Small Airway Blockage 12 (%):16) at 0x7fbc702a5510>]\n",
      "factors: [<DiscreteFactor representing phi(Small Airway Blockage 6 (%):16, Small Airway Blockage 8 (%):16, Small Airway Blockage 12 (%):16) at 0x7fbc702a54b0>]\n",
      "factors: [<DiscreteFactor representing phi(Small Airway Blockage 6 (%):16, Small Airway Blockage 8 (%):16) at 0x7fbc702a5930>]\n",
      "Prepare vars to be returned\n",
      "node: Small Airway Blockage 6 (%)\n",
      "Query took 18.211615085601807s\n",
      "SAB: 7\n",
      "Preprocess query\n",
      "Run query\n",
      "Query var to list\n",
      "Find nodes with query vars\n",
      "Conversion to set of tuple\n",
      "Compute clique potentials\n",
      "Variable elimination marginalize\n"
     ]
    },
    {
     "data": {
      "application/vnd.jupyter.widget-view+json": {
       "model_id": "0aaac25a4dc64c359d23eb86dcbbfc34",
       "version_major": 2,
       "version_minor": 0
      },
      "text/plain": [
       "  0%|          | 0/14 [00:00<?, ?it/s]"
      ]
     },
     "metadata": {},
     "output_type": "display_data"
    },
    {
     "name": "stdout",
     "output_type": "stream",
     "text": [
      "factors: [<DiscreteFactor representing phi(Unblocked FEV1 (L):58, Small Airway Blockage 9 (%):16) at 0x7fbc6a2c7d30>]\n",
      "factors: [<DiscreteFactor representing phi(Unblocked FEV1 (L):58, Small Airway Blockage 3 (%):16) at 0x7fbc6a2c6aa0>]\n",
      "factors: [<DiscreteFactor representing phi(Unblocked FEV1 (L):58, Small Airway Blockage 13 (%):16) at 0x7fbc6a2c6e60>]\n",
      "factors: [<DiscreteFactor representing phi(Unblocked FEV1 (L):58, Small Airway Blockage 6 (%):16) at 0x7fbc6a2c5060>]\n",
      "factors: [<DiscreteFactor representing phi(Unblocked FEV1 (L):58, Small Airway Blockage 10 (%):16) at 0x7fbc6a2c6e00>]\n",
      "factors: [<DiscreteFactor representing phi(Unblocked FEV1 (L):58, Small Airway Blockage 2 (%):16) at 0x7fbc6a2c6a10>]\n",
      "factors: [<DiscreteFactor representing phi(Unblocked FEV1 (L):58, Small Airway Blockage 1 (%):16) at 0x7fbc6a2c6f20>]\n",
      "factors: [<DiscreteFactor representing phi(Unblocked FEV1 (L):58, Small Airway Blockage 0 (%):16) at 0x7fbc6a2c6950>]\n",
      "factors: [<DiscreteFactor representing phi(Unblocked FEV1 (L):58, Small Airway Blockage 7 (%):16) at 0x7fbc6a2c6500>, <DiscreteFactor representing phi(Unblocked FEV1 (L):58) at 0x7fbc702a4490>, <DiscreteFactor representing phi(Unblocked FEV1 (L):58) at 0x7fbc702a4820>, <DiscreteFactor representing phi(Unblocked FEV1 (L):58, Small Airway Blockage 11 (%):16) at 0x7fbc6a2c4b20>, <DiscreteFactor representing phi(Unblocked FEV1 (L):58, Small Airway Blockage 4 (%):16) at 0x7fbc6a2c62c0>, <DiscreteFactor representing phi(Unblocked FEV1 (L):58, Small Airway Blockage 8 (%):16) at 0x7fbc6a2c5810>, <DiscreteFactor representing phi(Unblocked FEV1 (L):58) at 0x7fbc702a5d80>, <DiscreteFactor representing phi(Unblocked FEV1 (L):58) at 0x7fbc702a54e0>, <DiscreteFactor representing phi(Unblocked FEV1 (L):58, Small Airway Blockage 12 (%):16) at 0x7fbc6a2c5f00>, <DiscreteFactor representing phi(Unblocked FEV1 (L):58) at 0x7fbc702a5f30>, <DiscreteFactor representing phi(Unblocked FEV1 (L):58) at 0x7fbc702a4f10>, <DiscreteFactor representing phi(Unblocked FEV1 (L):58) at 0x7fbc702a5630>, <DiscreteFactor representing phi(Unblocked FEV1 (L):58, Small Airway Blockage 5 (%):16) at 0x7fbc6a2c63b0>, <DiscreteFactor representing phi(Unblocked FEV1 (L):58) at 0x7fbc702a48e0>]\n",
      "factors: [<DiscreteFactor representing phi(Small Airway Blockage 7 (%):16, Small Airway Blockage 11 (%):16, Small Airway Blockage 4 (%):16, Small Airway Blockage 8 (%):16, Small Airway Blockage 12 (%):16, Small Airway Blockage 5 (%):16) at 0x7fbc6a2c5ed0>]\n",
      "factors: [<DiscreteFactor representing phi(Small Airway Blockage 7 (%):16, Small Airway Blockage 11 (%):16, Small Airway Blockage 4 (%):16, Small Airway Blockage 8 (%):16, Small Airway Blockage 12 (%):16) at 0x7fbc702a4f10>]\n",
      "factors: [<DiscreteFactor representing phi(Small Airway Blockage 7 (%):16, Small Airway Blockage 11 (%):16, Small Airway Blockage 8 (%):16, Small Airway Blockage 12 (%):16) at 0x7fbc6a2c7d30>]\n",
      "factors: [<DiscreteFactor representing phi(Small Airway Blockage 7 (%):16, Small Airway Blockage 8 (%):16, Small Airway Blockage 12 (%):16) at 0x7fbc6a2c6ec0>]\n",
      "factors: [<DiscreteFactor representing phi(Small Airway Blockage 7 (%):16, Small Airway Blockage 8 (%):16) at 0x7fbc6a2c62c0>]\n",
      "Prepare vars to be returned\n",
      "node: Small Airway Blockage 7 (%)\n",
      "Query took 32.037944078445435s\n",
      "SAB: 8\n",
      "Preprocess query\n",
      "Run query\n",
      "Query var to list\n",
      "Find nodes with query vars\n",
      "Conversion to set of tuple\n",
      "Compute clique potentials\n",
      "Variable elimination marginalize\n"
     ]
    },
    {
     "data": {
      "application/vnd.jupyter.widget-view+json": {
       "model_id": "709f9869ea2d4583a8ce6a9054c0b809",
       "version_major": 2,
       "version_minor": 0
      },
      "text/plain": [
       "  0%|          | 0/14 [00:00<?, ?it/s]"
      ]
     },
     "metadata": {},
     "output_type": "display_data"
    },
    {
     "name": "stdout",
     "output_type": "stream",
     "text": [
      "factors: [<DiscreteFactor representing phi(Unblocked FEV1 (L):58, Small Airway Blockage 9 (%):16) at 0x7fbc6a2c4850>]\n",
      "factors: [<DiscreteFactor representing phi(Unblocked FEV1 (L):58, Small Airway Blockage 3 (%):16) at 0x7fbc6a2c5480>]\n",
      "factors: [<DiscreteFactor representing phi(Unblocked FEV1 (L):58, Small Airway Blockage 7 (%):16) at 0x7fbc6a2c6ec0>]\n",
      "factors: [<DiscreteFactor representing phi(Unblocked FEV1 (L):58, Small Airway Blockage 6 (%):16) at 0x7fbc6a2c7b20>]\n",
      "factors: [<DiscreteFactor representing phi(Unblocked FEV1 (L):58, Small Airway Blockage 10 (%):16) at 0x7fbc6a2c5f90>]\n",
      "factors: [<DiscreteFactor representing phi(Unblocked FEV1 (L):58, Small Airway Blockage 13 (%):16) at 0x7fbc6a2c62c0>]\n",
      "factors: [<DiscreteFactor representing phi(Unblocked FEV1 (L):58, Small Airway Blockage 2 (%):16) at 0x7fbc6a2c6020>]\n",
      "factors: [<DiscreteFactor representing phi(Unblocked FEV1 (L):58, Small Airway Blockage 1 (%):16) at 0x7fbc6a2c4c70>]\n",
      "factors: [<DiscreteFactor representing phi(Unblocked FEV1 (L):58, Small Airway Blockage 0 (%):16) at 0x7fbc6a2c5c60>]\n",
      "factors: [<DiscreteFactor representing phi(Unblocked FEV1 (L):58) at 0x7fbc702a5f30>, <DiscreteFactor representing phi(Unblocked FEV1 (L):58) at 0x7fbc702a53c0>, <DiscreteFactor representing phi(Unblocked FEV1 (L):58, Small Airway Blockage 11 (%):16) at 0x7fbc6a2c7790>, <DiscreteFactor representing phi(Unblocked FEV1 (L):58, Small Airway Blockage 4 (%):16) at 0x7fbc6a2c5090>, <DiscreteFactor representing phi(Unblocked FEV1 (L):58, Small Airway Blockage 8 (%):16) at 0x7fbc6a2c5ed0>, <DiscreteFactor representing phi(Unblocked FEV1 (L):58) at 0x7fbc702a5000>, <DiscreteFactor representing phi(Unblocked FEV1 (L):58) at 0x7fbc702a40a0>, <DiscreteFactor representing phi(Unblocked FEV1 (L):58, Small Airway Blockage 12 (%):16) at 0x7fbc6a2c7d30>, <DiscreteFactor representing phi(Unblocked FEV1 (L):58) at 0x7fbc702a4460>, <DiscreteFactor representing phi(Unblocked FEV1 (L):58) at 0x7fbc702a5570>, <DiscreteFactor representing phi(Unblocked FEV1 (L):58) at 0x7fbc702a5c30>, <DiscreteFactor representing phi(Unblocked FEV1 (L):58) at 0x7fbc702a5630>, <DiscreteFactor representing phi(Unblocked FEV1 (L):58, Small Airway Blockage 5 (%):16) at 0x7fbc6a2c5ba0>, <DiscreteFactor representing phi(Unblocked FEV1 (L):58) at 0x7fbc702a5ba0>]\n",
      "factors: [<DiscreteFactor representing phi(Small Airway Blockage 11 (%):16, Small Airway Blockage 4 (%):16, Small Airway Blockage 8 (%):16, Small Airway Blockage 12 (%):16, Small Airway Blockage 5 (%):16) at 0x7fbc702a5480>]\n",
      "factors: [<DiscreteFactor representing phi(Small Airway Blockage 11 (%):16, Small Airway Blockage 4 (%):16, Small Airway Blockage 8 (%):16, Small Airway Blockage 12 (%):16) at 0x7fbc702a5570>]\n",
      "factors: [<DiscreteFactor representing phi(Small Airway Blockage 11 (%):16, Small Airway Blockage 8 (%):16, Small Airway Blockage 12 (%):16) at 0x7fbc6a2c4c70>]\n",
      "factors: [<DiscreteFactor representing phi(Small Airway Blockage 8 (%):16, Small Airway Blockage 12 (%):16) at 0x7fbc702a5690>]\n",
      "Prepare vars to be returned\n",
      "node: Small Airway Blockage 8 (%)\n",
      "Query took 1.1309449672698975s\n",
      "SAB: 9\n",
      "Preprocess query\n",
      "Run query\n",
      "Query var to list\n",
      "Find nodes with query vars\n",
      "Conversion to set of tuple\n",
      "Compute clique potentials\n",
      "Variable elimination marginalize\n"
     ]
    },
    {
     "data": {
      "application/vnd.jupyter.widget-view+json": {
       "model_id": "73a3ead5fa204eb8a83b657f436b96be",
       "version_major": 2,
       "version_minor": 0
      },
      "text/plain": [
       "  0%|          | 0/14 [00:00<?, ?it/s]"
      ]
     },
     "metadata": {},
     "output_type": "display_data"
    },
    {
     "name": "stdout",
     "output_type": "stream",
     "text": [
      "factors: [<DiscreteFactor representing phi(Unblocked FEV1 (L):58, Small Airway Blockage 3 (%):16) at 0x7fbc6a2c6e60>]\n",
      "factors: [<DiscreteFactor representing phi(Unblocked FEV1 (L):58, Small Airway Blockage 7 (%):16) at 0x7fbc6a2c6f20>]\n",
      "factors: [<DiscreteFactor representing phi(Unblocked FEV1 (L):58, Small Airway Blockage 6 (%):16) at 0x7fbc6a2c5ed0>]\n",
      "factors: [<DiscreteFactor representing phi(Unblocked FEV1 (L):58, Small Airway Blockage 10 (%):16) at 0x7fbc6a2c6b30>]\n",
      "factors: [<DiscreteFactor representing phi(Unblocked FEV1 (L):58, Small Airway Blockage 13 (%):16) at 0x7fbc702a4a30>]\n",
      "factors: [<DiscreteFactor representing phi(Unblocked FEV1 (L):58, Small Airway Blockage 2 (%):16) at 0x7fbc6a2c5060>]\n",
      "factors: [<DiscreteFactor representing phi(Unblocked FEV1 (L):58, Small Airway Blockage 1 (%):16) at 0x7fbc6a2c4cd0>]\n",
      "factors: [<DiscreteFactor representing phi(Unblocked FEV1 (L):58, Small Airway Blockage 0 (%):16) at 0x7fbc6a2c63b0>]\n",
      "factors: [<DiscreteFactor representing phi(Unblocked FEV1 (L):58) at 0x7fbc702a54b0>, <DiscreteFactor representing phi(Unblocked FEV1 (L):58) at 0x7fbc702a6440>, <DiscreteFactor representing phi(Unblocked FEV1 (L):58, Small Airway Blockage 11 (%):16) at 0x7fbc702a4430>, <DiscreteFactor representing phi(Unblocked FEV1 (L):58, Small Airway Blockage 4 (%):16) at 0x7fbc6a2c5f00>, <DiscreteFactor representing phi(Unblocked FEV1 (L):58, Small Airway Blockage 8 (%):16) at 0x7fbc6a2c6bf0>, <DiscreteFactor representing phi(Unblocked FEV1 (L):58, Small Airway Blockage 9 (%):16) at 0x7fbc6a2c7bb0>, <DiscreteFactor representing phi(Unblocked FEV1 (L):58) at 0x7fbc702a6320>, <DiscreteFactor representing phi(Unblocked FEV1 (L):58, Small Airway Blockage 12 (%):16) at 0x7fbc702a4100>, <DiscreteFactor representing phi(Unblocked FEV1 (L):58) at 0x7fbc702a4970>, <DiscreteFactor representing phi(Unblocked FEV1 (L):58) at 0x7fbc702a64d0>, <DiscreteFactor representing phi(Unblocked FEV1 (L):58) at 0x7fbc702a63b0>, <DiscreteFactor representing phi(Unblocked FEV1 (L):58) at 0x7fbc702a5840>, <DiscreteFactor representing phi(Unblocked FEV1 (L):58, Small Airway Blockage 5 (%):16) at 0x7fbc6a2c6950>, <DiscreteFactor representing phi(Unblocked FEV1 (L):58) at 0x7fbc702a6290>]\n",
      "factors: [<DiscreteFactor representing phi(Small Airway Blockage 11 (%):16, Small Airway Blockage 4 (%):16, Small Airway Blockage 8 (%):16, Small Airway Blockage 9 (%):16, Small Airway Blockage 12 (%):16, Small Airway Blockage 5 (%):16) at 0x7fbc702a6680>]\n",
      "factors: [<DiscreteFactor representing phi(Small Airway Blockage 11 (%):16, Small Airway Blockage 4 (%):16, Small Airway Blockage 8 (%):16, Small Airway Blockage 9 (%):16, Small Airway Blockage 12 (%):16) at 0x7fbc702a63b0>]\n",
      "factors: [<DiscreteFactor representing phi(Small Airway Blockage 11 (%):16, Small Airway Blockage 8 (%):16, Small Airway Blockage 9 (%):16, Small Airway Blockage 12 (%):16) at 0x7fbc702a5840>]\n",
      "factors: [<DiscreteFactor representing phi(Small Airway Blockage 8 (%):16, Small Airway Blockage 9 (%):16, Small Airway Blockage 12 (%):16) at 0x7fbc702a6650>]\n",
      "factors: [<DiscreteFactor representing phi(Small Airway Blockage 8 (%):16, Small Airway Blockage 9 (%):16) at 0x7fbc702a4430>]\n",
      "Prepare vars to be returned\n",
      "node: Small Airway Blockage 9 (%)\n",
      "Query took 33.843241930007935s\n",
      "SAB: 10\n",
      "Preprocess query\n",
      "Run query\n",
      "Query var to list\n",
      "Find nodes with query vars\n",
      "Conversion to set of tuple\n",
      "Compute clique potentials\n",
      "Variable elimination marginalize\n"
     ]
    },
    {
     "data": {
      "application/vnd.jupyter.widget-view+json": {
       "model_id": "1c79c15fafd04e2e8bc5ab700508b4cd",
       "version_major": 2,
       "version_minor": 0
      },
      "text/plain": [
       "  0%|          | 0/14 [00:00<?, ?it/s]"
      ]
     },
     "metadata": {},
     "output_type": "display_data"
    },
    {
     "name": "stdout",
     "output_type": "stream",
     "text": [
      "factors: [<DiscreteFactor representing phi(Unblocked FEV1 (L):58, Small Airway Blockage 9 (%):16) at 0x7fbc6a2c6560>]\n",
      "factors: [<DiscreteFactor representing phi(Unblocked FEV1 (L):58, Small Airway Blockage 3 (%):16) at 0x7fbc6a2c51e0>]\n",
      "factors: [<DiscreteFactor representing phi(Unblocked FEV1 (L):58, Small Airway Blockage 7 (%):16) at 0x7fbc6a2c58a0>]\n",
      "factors: [<DiscreteFactor representing phi(Unblocked FEV1 (L):58, Small Airway Blockage 6 (%):16) at 0x7fbc6a2c7a60>]\n",
      "factors: [<DiscreteFactor representing phi(Unblocked FEV1 (L):58, Small Airway Blockage 13 (%):16) at 0x7fbc6a2c7160>]\n",
      "factors: [<DiscreteFactor representing phi(Unblocked FEV1 (L):58, Small Airway Blockage 2 (%):16) at 0x7fbc6a2c7af0>]\n",
      "factors: [<DiscreteFactor representing phi(Unblocked FEV1 (L):58, Small Airway Blockage 1 (%):16) at 0x7fbc6a2c7340>]\n",
      "factors: [<DiscreteFactor representing phi(Unblocked FEV1 (L):58, Small Airway Blockage 0 (%):16) at 0x7fbc6a2c7730>]\n",
      "factors: [<DiscreteFactor representing phi(Unblocked FEV1 (L):58, Small Airway Blockage 10 (%):16) at 0x7fbc6a2c5960>, <DiscreteFactor representing phi(Unblocked FEV1 (L):58) at 0x7fbc702a6a70>, <DiscreteFactor representing phi(Unblocked FEV1 (L):58, Small Airway Blockage 11 (%):16) at 0x7fbc6a2c5810>, <DiscreteFactor representing phi(Unblocked FEV1 (L):58, Small Airway Blockage 4 (%):16) at 0x7fbc6a2c7ee0>, <DiscreteFactor representing phi(Unblocked FEV1 (L):58, Small Airway Blockage 8 (%):16) at 0x7fbc6a2c5480>, <DiscreteFactor representing phi(Unblocked FEV1 (L):58) at 0x7fbc702a6c20>, <DiscreteFactor representing phi(Unblocked FEV1 (L):58) at 0x7fbc702a51b0>, <DiscreteFactor representing phi(Unblocked FEV1 (L):58, Small Airway Blockage 12 (%):16) at 0x7fbc6a2c6e00>, <DiscreteFactor representing phi(Unblocked FEV1 (L):58) at 0x7fbc702a6d10>, <DiscreteFactor representing phi(Unblocked FEV1 (L):58) at 0x7fbc702a68c0>, <DiscreteFactor representing phi(Unblocked FEV1 (L):58) at 0x7fbc702a6230>, <DiscreteFactor representing phi(Unblocked FEV1 (L):58) at 0x7fbc702a5de0>, <DiscreteFactor representing phi(Unblocked FEV1 (L):58, Small Airway Blockage 5 (%):16) at 0x7fbc6a2c6ec0>, <DiscreteFactor representing phi(Unblocked FEV1 (L):58) at 0x7fbc702a66b0>]\n",
      "factors: [<DiscreteFactor representing phi(Small Airway Blockage 10 (%):16, Small Airway Blockage 11 (%):16, Small Airway Blockage 4 (%):16, Small Airway Blockage 8 (%):16, Small Airway Blockage 12 (%):16, Small Airway Blockage 5 (%):16) at 0x7fbc702a6f50>]\n",
      "factors: [<DiscreteFactor representing phi(Small Airway Blockage 10 (%):16, Small Airway Blockage 11 (%):16, Small Airway Blockage 4 (%):16, Small Airway Blockage 8 (%):16, Small Airway Blockage 12 (%):16) at 0x7fbc702a6230>]\n",
      "factors: [<DiscreteFactor representing phi(Small Airway Blockage 10 (%):16, Small Airway Blockage 11 (%):16, Small Airway Blockage 8 (%):16, Small Airway Blockage 12 (%):16) at 0x7fbc702a4400>]\n",
      "factors: [<DiscreteFactor representing phi(Small Airway Blockage 10 (%):16, Small Airway Blockage 8 (%):16, Small Airway Blockage 12 (%):16) at 0x7fbc6a2c7af0>]\n",
      "factors: [<DiscreteFactor representing phi(Small Airway Blockage 10 (%):16, Small Airway Blockage 8 (%):16) at 0x7fbc6a2c51e0>]\n",
      "Prepare vars to be returned\n",
      "node: Small Airway Blockage 10 (%)\n",
      "Query took 33.29547381401062s\n",
      "SAB: 11\n",
      "Preprocess query\n",
      "Run query\n",
      "Query var to list\n",
      "Find nodes with query vars\n",
      "Conversion to set of tuple\n",
      "Compute clique potentials\n",
      "Variable elimination marginalize\n"
     ]
    },
    {
     "data": {
      "application/vnd.jupyter.widget-view+json": {
       "model_id": "786f1f0ecd22481bbbd9e811f3c54cb2",
       "version_major": 2,
       "version_minor": 0
      },
      "text/plain": [
       "  0%|          | 0/14 [00:00<?, ?it/s]"
      ]
     },
     "metadata": {},
     "output_type": "display_data"
    },
    {
     "name": "stdout",
     "output_type": "stream",
     "text": [
      "factors: [<DiscreteFactor representing phi(Unblocked FEV1 (L):58, Small Airway Blockage 9 (%):16) at 0x7fbc6a2c6230>]\n",
      "factors: [<DiscreteFactor representing phi(Unblocked FEV1 (L):58, Small Airway Blockage 3 (%):16) at 0x7fbc6a2c6ce0>]\n",
      "factors: [<DiscreteFactor representing phi(Unblocked FEV1 (L):58, Small Airway Blockage 7 (%):16) at 0x7fbc6a2c6830>]\n",
      "factors: [<DiscreteFactor representing phi(Unblocked FEV1 (L):58, Small Airway Blockage 6 (%):16) at 0x7fbc6a2c51e0>]\n",
      "factors: [<DiscreteFactor representing phi(Unblocked FEV1 (L):58, Small Airway Blockage 10 (%):16) at 0x7fbc6a2c6950>]\n",
      "factors: [<DiscreteFactor representing phi(Unblocked FEV1 (L):58, Small Airway Blockage 2 (%):16) at 0x7fbc6a2c5960>]\n",
      "factors: [<DiscreteFactor representing phi(Unblocked FEV1 (L):58, Small Airway Blockage 1 (%):16) at 0x7fbc6a2c4ca0>]\n",
      "factors: [<DiscreteFactor representing phi(Unblocked FEV1 (L):58, Small Airway Blockage 0 (%):16) at 0x7fbc6a2c6e90>]\n",
      "factors: [<DiscreteFactor representing phi(Unblocked FEV1 (L):58) at 0x7fbc702a4430>, <DiscreteFactor representing phi(Unblocked FEV1 (L):58, Small Airway Blockage 13 (%):16) at 0x7fbc702a6f20>, <DiscreteFactor representing phi(Unblocked FEV1 (L):58) at 0x7fbc702a7070>, <DiscreteFactor representing phi(Unblocked FEV1 (L):58, Small Airway Blockage 11 (%):16) at 0x7fbc702a6dd0>, <DiscreteFactor representing phi(Unblocked FEV1 (L):58, Small Airway Blockage 4 (%):16) at 0x7fbc6a2c4700>, <DiscreteFactor representing phi(Unblocked FEV1 (L):58, Small Airway Blockage 8 (%):16) at 0x7fbc6a2c7f70>, <DiscreteFactor representing phi(Unblocked FEV1 (L):58) at 0x7fbc702a71c0>, <DiscreteFactor representing phi(Unblocked FEV1 (L):58) at 0x7fbc702a6230>, <DiscreteFactor representing phi(Unblocked FEV1 (L):58, Small Airway Blockage 12 (%):16) at 0x7fbc702a6d10>, <DiscreteFactor representing phi(Unblocked FEV1 (L):58) at 0x7fbc702a7370>, <DiscreteFactor representing phi(Unblocked FEV1 (L):58) at 0x7fbc702a5180>, <DiscreteFactor representing phi(Unblocked FEV1 (L):58) at 0x7fbc702a4a90>, <DiscreteFactor representing phi(Unblocked FEV1 (L):58, Small Airway Blockage 5 (%):16) at 0x7fbc6a2c6680>, <DiscreteFactor representing phi(Unblocked FEV1 (L):58) at 0x7fbc702a56f0>]\n",
      "factors: [<DiscreteFactor representing phi(Small Airway Blockage 13 (%):16, Small Airway Blockage 11 (%):16, Small Airway Blockage 4 (%):16, Small Airway Blockage 8 (%):16, Small Airway Blockage 12 (%):16, Small Airway Blockage 5 (%):16) at 0x7fbc702a6da0>]\n",
      "factors: [<DiscreteFactor representing phi(Small Airway Blockage 13 (%):16, Small Airway Blockage 11 (%):16, Small Airway Blockage 4 (%):16, Small Airway Blockage 8 (%):16, Small Airway Blockage 12 (%):16) at 0x7fbc702a5180>]\n",
      "factors: [<DiscreteFactor representing phi(Small Airway Blockage 13 (%):16, Small Airway Blockage 11 (%):16, Small Airway Blockage 8 (%):16, Small Airway Blockage 12 (%):16) at 0x7fbc702a4a90>]\n",
      "factors: [<DiscreteFactor representing phi(Small Airway Blockage 11 (%):16, Small Airway Blockage 8 (%):16, Small Airway Blockage 12 (%):16) at 0x7fbc6a2c6830>]\n",
      "factors: [<DiscreteFactor representing phi(Small Airway Blockage 11 (%):16, Small Airway Blockage 8 (%):16) at 0x7fbc702a6f20>]\n",
      "Prepare vars to be returned\n",
      "node: Small Airway Blockage 11 (%)\n",
      "Query took 32.77780604362488s\n",
      "SAB: 12\n",
      "Preprocess query\n",
      "Run query\n",
      "Query var to list\n",
      "Find nodes with query vars\n",
      "Conversion to set of tuple\n",
      "Compute clique potentials\n",
      "Variable elimination marginalize\n"
     ]
    },
    {
     "data": {
      "application/vnd.jupyter.widget-view+json": {
       "model_id": "6211f3a350124ff78d5c1511c4d8d210",
       "version_major": 2,
       "version_minor": 0
      },
      "text/plain": [
       "  0%|          | 0/14 [00:00<?, ?it/s]"
      ]
     },
     "metadata": {},
     "output_type": "display_data"
    },
    {
     "name": "stdout",
     "output_type": "stream",
     "text": [
      "factors: [<DiscreteFactor representing phi(Unblocked FEV1 (L):58, Small Airway Blockage 9 (%):16) at 0x7fbc702a6590>]\n",
      "factors: [<DiscreteFactor representing phi(Unblocked FEV1 (L):58, Small Airway Blockage 3 (%):16) at 0x7fbc6a2c6830>]\n",
      "factors: [<DiscreteFactor representing phi(Unblocked FEV1 (L):58, Small Airway Blockage 7 (%):16) at 0x7fbc6a2c58a0>]\n",
      "factors: [<DiscreteFactor representing phi(Unblocked FEV1 (L):58, Small Airway Blockage 6 (%):16) at 0x7fbc6a2c6560>]\n",
      "factors: [<DiscreteFactor representing phi(Unblocked FEV1 (L):58, Small Airway Blockage 10 (%):16) at 0x7fbc702a6d70>]\n",
      "factors: [<DiscreteFactor representing phi(Unblocked FEV1 (L):58, Small Airway Blockage 13 (%):16) at 0x7fbc702a73d0>]\n",
      "factors: [<DiscreteFactor representing phi(Unblocked FEV1 (L):58, Small Airway Blockage 2 (%):16) at 0x7fbc6a2c6b30>]\n",
      "factors: [<DiscreteFactor representing phi(Unblocked FEV1 (L):58, Small Airway Blockage 1 (%):16) at 0x7fbc6a2c4d90>]\n",
      "factors: [<DiscreteFactor representing phi(Unblocked FEV1 (L):58, Small Airway Blockage 0 (%):16) at 0x7fbc6a2c5480>]\n",
      "factors: [<DiscreteFactor representing phi(Unblocked FEV1 (L):58) at 0x7fbc702a76a0>, <DiscreteFactor representing phi(Unblocked FEV1 (L):58) at 0x7fbc702a73a0>, <DiscreteFactor representing phi(Unblocked FEV1 (L):58, Small Airway Blockage 11 (%):16) at 0x7fbc702a7190>, <DiscreteFactor representing phi(Unblocked FEV1 (L):58, Small Airway Blockage 4 (%):16) at 0x7fbc6a2c7340>, <DiscreteFactor representing phi(Unblocked FEV1 (L):58, Small Airway Blockage 8 (%):16) at 0x7fbc702a41c0>, <DiscreteFactor representing phi(Unblocked FEV1 (L):58) at 0x7fbc702a4430>, <DiscreteFactor representing phi(Unblocked FEV1 (L):58) at 0x7fbc702a6fe0>, <DiscreteFactor representing phi(Unblocked FEV1 (L):58, Small Airway Blockage 12 (%):16) at 0x7fbc702a72e0>, <DiscreteFactor representing phi(Unblocked FEV1 (L):58) at 0x7fbc702a78b0>, <DiscreteFactor representing phi(Unblocked FEV1 (L):58) at 0x7fbc702a6680>, <DiscreteFactor representing phi(Unblocked FEV1 (L):58) at 0x7fbc702a6a10>, <DiscreteFactor representing phi(Unblocked FEV1 (L):58) at 0x7fbc702a4d60>, <DiscreteFactor representing phi(Unblocked FEV1 (L):58, Small Airway Blockage 5 (%):16) at 0x7fbc6a2c6770>, <DiscreteFactor representing phi(Unblocked FEV1 (L):58) at 0x7fbc702a7580>]\n",
      "factors: [<DiscreteFactor representing phi(Small Airway Blockage 11 (%):16, Small Airway Blockage 4 (%):16, Small Airway Blockage 8 (%):16, Small Airway Blockage 12 (%):16, Small Airway Blockage 5 (%):16) at 0x7fbc702a6a40>]\n",
      "factors: [<DiscreteFactor representing phi(Small Airway Blockage 11 (%):16, Small Airway Blockage 4 (%):16, Small Airway Blockage 8 (%):16, Small Airway Blockage 12 (%):16) at 0x7fbc702a6680>]\n",
      "factors: [<DiscreteFactor representing phi(Small Airway Blockage 11 (%):16, Small Airway Blockage 8 (%):16, Small Airway Blockage 12 (%):16) at 0x7fbc702a4d60>]\n",
      "factors: [<DiscreteFactor representing phi(Small Airway Blockage 8 (%):16, Small Airway Blockage 12 (%):16) at 0x7fbc702a6530>]\n",
      "Prepare vars to be returned\n",
      "node: Small Airway Blockage 12 (%)\n",
      "Query took 1.0685150623321533s\n",
      "SAB: 13\n",
      "Preprocess query\n",
      "Run query\n",
      "Query var to list\n",
      "Find nodes with query vars\n",
      "Conversion to set of tuple\n",
      "Compute clique potentials\n",
      "Variable elimination marginalize\n"
     ]
    },
    {
     "data": {
      "application/vnd.jupyter.widget-view+json": {
       "model_id": "bb5ec379a6cc473997564ddc5cded572",
       "version_major": 2,
       "version_minor": 0
      },
      "text/plain": [
       "  0%|          | 0/14 [00:00<?, ?it/s]"
      ]
     },
     "metadata": {},
     "output_type": "display_data"
    },
    {
     "name": "stdout",
     "output_type": "stream",
     "text": [
      "factors: [<DiscreteFactor representing phi(Unblocked FEV1 (L):58, Small Airway Blockage 9 (%):16) at 0x7fbc6a2c6e60>]\n",
      "factors: [<DiscreteFactor representing phi(Unblocked FEV1 (L):58, Small Airway Blockage 3 (%):16) at 0x7fbc6a2c6230>]\n",
      "factors: [<DiscreteFactor representing phi(Unblocked FEV1 (L):58, Small Airway Blockage 7 (%):16) at 0x7fbc6a2c5180>]\n",
      "factors: [<DiscreteFactor representing phi(Unblocked FEV1 (L):58, Small Airway Blockage 6 (%):16) at 0x7fbc6a2c7730>]\n",
      "factors: [<DiscreteFactor representing phi(Unblocked FEV1 (L):58, Small Airway Blockage 10 (%):16) at 0x7fbc6a2c7130>]\n",
      "factors: [<DiscreteFactor representing phi(Unblocked FEV1 (L):58, Small Airway Blockage 2 (%):16) at 0x7fbc6a2c6e90>]\n",
      "factors: [<DiscreteFactor representing phi(Unblocked FEV1 (L):58, Small Airway Blockage 1 (%):16) at 0x7fbc6a2c5ba0>]\n",
      "factors: [<DiscreteFactor representing phi(Unblocked FEV1 (L):58, Small Airway Blockage 0 (%):16) at 0x7fbc6a2c5f00>]\n",
      "factors: [<DiscreteFactor representing phi(Unblocked FEV1 (L):58) at 0x7fbc702a7010>, <DiscreteFactor representing phi(Unblocked FEV1 (L):58, Small Airway Blockage 13 (%):16) at 0x7fbc6a2c6ce0>, <DiscreteFactor representing phi(Unblocked FEV1 (L):58) at 0x7fbc702a5db0>, <DiscreteFactor representing phi(Unblocked FEV1 (L):58, Small Airway Blockage 11 (%):16) at 0x7fbc6a2c4b20>, <DiscreteFactor representing phi(Unblocked FEV1 (L):58, Small Airway Blockage 4 (%):16) at 0x7fbc6a2c5300>, <DiscreteFactor representing phi(Unblocked FEV1 (L):58, Small Airway Blockage 8 (%):16) at 0x7fbc6a2c5c60>, <DiscreteFactor representing phi(Unblocked FEV1 (L):58) at 0x7fbc702a6a10>, <DiscreteFactor representing phi(Unblocked FEV1 (L):58) at 0x7fbc702a6b30>, <DiscreteFactor representing phi(Unblocked FEV1 (L):58, Small Airway Blockage 12 (%):16) at 0x7fbc6a2c4700>, <DiscreteFactor representing phi(Unblocked FEV1 (L):58) at 0x7fbc702a6860>, <DiscreteFactor representing phi(Unblocked FEV1 (L):58) at 0x7fbc702a6d40>, <DiscreteFactor representing phi(Unblocked FEV1 (L):58) at 0x7fbc702a77c0>, <DiscreteFactor representing phi(Unblocked FEV1 (L):58, Small Airway Blockage 5 (%):16) at 0x7fbc6a2c7ee0>, <DiscreteFactor representing phi(Unblocked FEV1 (L):58) at 0x7fbc702a56f0>]\n",
      "factors: [<DiscreteFactor representing phi(Small Airway Blockage 13 (%):16, Small Airway Blockage 11 (%):16, Small Airway Blockage 4 (%):16, Small Airway Blockage 8 (%):16, Small Airway Blockage 12 (%):16, Small Airway Blockage 5 (%):16) at 0x7fbc702a54b0>]\n",
      "factors: [<DiscreteFactor representing phi(Small Airway Blockage 13 (%):16, Small Airway Blockage 11 (%):16, Small Airway Blockage 4 (%):16, Small Airway Blockage 8 (%):16, Small Airway Blockage 12 (%):16) at 0x7fbc702a6d40>]\n",
      "factors: [<DiscreteFactor representing phi(Small Airway Blockage 13 (%):16, Small Airway Blockage 11 (%):16, Small Airway Blockage 8 (%):16, Small Airway Blockage 12 (%):16) at 0x7fbc702a77c0>]\n",
      "factors: [<DiscreteFactor representing phi(Small Airway Blockage 13 (%):16, Small Airway Blockage 8 (%):16, Small Airway Blockage 12 (%):16) at 0x7fbc6a2c5180>]\n",
      "factors: [<DiscreteFactor representing phi(Small Airway Blockage 13 (%):16, Small Airway Blockage 8 (%):16) at 0x7fbc6a2c6e60>]\n",
      "Prepare vars to be returned\n",
      "node: Small Airway Blockage 13 (%)\n",
      "Query took 31.51897406578064s\n",
      "ID:  130\n",
      "*** Building the longitudinal model with LD as shared variable across time ***\n",
      "Defining gaussian prior with mu = 2.14, sigma = 0.35\n",
      "Run inference queries\n",
      "Preprocess query\n",
      "Run query\n",
      "Query var to list\n",
      "Find nodes with query vars\n",
      "Conversion to set of tuple\n",
      "Compute clique potentials\n",
      "Variable elimination marginalize\n"
     ]
    },
    {
     "data": {
      "application/vnd.jupyter.widget-view+json": {
       "model_id": "42922c2318214519954e1382da38d9d1",
       "version_major": 2,
       "version_minor": 0
      },
      "text/plain": [
       "  0%|          | 0/18 [00:00<?, ?it/s]"
      ]
     },
     "metadata": {},
     "output_type": "display_data"
    },
    {
     "name": "stdout",
     "output_type": "stream",
     "text": [
      "factors: [<DiscreteFactor representing phi(Unblocked FEV1 (L):58, Small Airway Blockage 16 (%):16) at 0x7fbcd5431d20>]\n",
      "factors: [<DiscreteFactor representing phi(Unblocked FEV1 (L):58, Small Airway Blockage 9 (%):16) at 0x7fbcd5430340>]\n",
      "factors: [<DiscreteFactor representing phi(Unblocked FEV1 (L):58, Small Airway Blockage 17 (%):16) at 0x7fbcd54301f0>]\n",
      "factors: [<DiscreteFactor representing phi(Unblocked FEV1 (L):58, Small Airway Blockage 3 (%):16) at 0x7fbcd5430430>]\n",
      "factors: [<DiscreteFactor representing phi(Unblocked FEV1 (L):58, Small Airway Blockage 6 (%):16) at 0x7fbcd54304c0>]\n",
      "factors: [<DiscreteFactor representing phi(Unblocked FEV1 (L):58, Small Airway Blockage 11 (%):16) at 0x7fbcd5430310>]\n",
      "factors: [<DiscreteFactor representing phi(Unblocked FEV1 (L):58, Small Airway Blockage 7 (%):16) at 0x7fbcd5433d00>]\n",
      "factors: [<DiscreteFactor representing phi(Unblocked FEV1 (L):58, Small Airway Blockage 10 (%):16) at 0x7fbcd5430520>]\n",
      "factors: [<DiscreteFactor representing phi(Unblocked FEV1 (L):58, Small Airway Blockage 14 (%):16) at 0x7fbcd5430e50>]\n",
      "factors: [<DiscreteFactor representing phi(Unblocked FEV1 (L):58, Small Airway Blockage 2 (%):16) at 0x7fbcd5430f10>]\n",
      "factors: [<DiscreteFactor representing phi(Unblocked FEV1 (L):58, Small Airway Blockage 15 (%):16) at 0x7fbcd5431570>]\n",
      "factors: [<DiscreteFactor representing phi(Unblocked FEV1 (L):58, Small Airway Blockage 0 (%):16) at 0x7fbcd5431ba0>]\n",
      "factors: [<DiscreteFactor representing phi(Unblocked FEV1 (L):58, Small Airway Blockage 1 (%):16) at 0x7fbcd5431150>]\n",
      "factors: [<DiscreteFactor representing phi(Unblocked FEV1 (L):58, Small Airway Blockage 5 (%):16) at 0x7fbcd5430070>]\n",
      "factors: [<DiscreteFactor representing phi(Unblocked FEV1 (L):58, Small Airway Blockage 4 (%):16) at 0x7fbcd5430e80>]\n",
      "factors: [<DiscreteFactor representing phi(Unblocked FEV1 (L):58, Small Airway Blockage 13 (%):16) at 0x7fbcd5433c70>]\n",
      "factors: [<DiscreteFactor representing phi(Unblocked FEV1 (L):58, Small Airway Blockage 12 (%):16) at 0x7fbcd54303d0>]\n",
      "factors: [<DiscreteFactor representing phi(Unblocked FEV1 (L):58, Small Airway Blockage 8 (%):16) at 0x7fbcd5430370>]\n",
      "Prepare vars to be returned\n",
      "node: Unblocked FEV1 (L)\n",
      "node: Lung Damage (%)\n",
      "node: Healthy FEV1 (L)\n",
      "Query took 0.38989686965942383s\n",
      "Run SAB inference queries\n",
      "SAB: 0\n",
      "Preprocess query\n",
      "Run query\n",
      "Query var to list\n",
      "Find nodes with query vars\n",
      "Conversion to set of tuple\n",
      "Compute clique potentials\n",
      "Variable elimination marginalize\n"
     ]
    },
    {
     "data": {
      "application/vnd.jupyter.widget-view+json": {
       "model_id": "ec6ce22f392f47828aef45a6f2bda7f9",
       "version_major": 2,
       "version_minor": 0
      },
      "text/plain": [
       "  0%|          | 0/18 [00:00<?, ?it/s]"
      ]
     },
     "metadata": {},
     "output_type": "display_data"
    },
    {
     "name": "stdout",
     "output_type": "stream",
     "text": [
      "factors: [<DiscreteFactor representing phi(Unblocked FEV1 (L):58, Small Airway Blockage 16 (%):16) at 0x7fbc70259630>]\n",
      "factors: [<DiscreteFactor representing phi(Unblocked FEV1 (L):58, Small Airway Blockage 9 (%):16) at 0x7fbcd54300a0>]\n",
      "factors: [<DiscreteFactor representing phi(Unblocked FEV1 (L):58, Small Airway Blockage 17 (%):16) at 0x7fbc70259660>]\n",
      "factors: [<DiscreteFactor representing phi(Unblocked FEV1 (L):58, Small Airway Blockage 3 (%):16) at 0x7fbcd54306a0>]\n",
      "factors: [<DiscreteFactor representing phi(Unblocked FEV1 (L):58, Small Airway Blockage 6 (%):16) at 0x7fbcd54302b0>]\n",
      "factors: [<DiscreteFactor representing phi(Unblocked FEV1 (L):58, Small Airway Blockage 11 (%):16) at 0x7fbcd5433d60>]\n",
      "factors: [<DiscreteFactor representing phi(Unblocked FEV1 (L):58, Small Airway Blockage 7 (%):16) at 0x7fbcd5430040>]\n",
      "factors: [<DiscreteFactor representing phi(Unblocked FEV1 (L):58, Small Airway Blockage 10 (%):16) at 0x7fbcd5433940>]\n",
      "factors: [<DiscreteFactor representing phi(Unblocked FEV1 (L):58, Small Airway Blockage 14 (%):16) at 0x7fbc70259780>]\n",
      "factors: [<DiscreteFactor representing phi(Unblocked FEV1 (L):58, Small Airway Blockage 2 (%):16) at 0x7fbcd54338b0>]\n",
      "factors: [<DiscreteFactor representing phi(Unblocked FEV1 (L):58, Small Airway Blockage 15 (%):16) at 0x7fbc70259750>]\n",
      "factors: [<DiscreteFactor representing phi(Unblocked FEV1 (L):58, Small Airway Blockage 1 (%):16) at 0x7fbcd5432d70>]\n",
      "factors: [<DiscreteFactor representing phi(Unblocked FEV1 (L):58) at 0x7fbc7025a260>, <DiscreteFactor representing phi(Unblocked FEV1 (L):58) at 0x7fbc7025a920>, <DiscreteFactor representing phi(Unblocked FEV1 (L):58, Small Airway Blockage 5 (%):16) at 0x7fbcd5430100>, <DiscreteFactor representing phi(Unblocked FEV1 (L):58) at 0x7fbc70259ba0>, <DiscreteFactor representing phi(Unblocked FEV1 (L):58) at 0x7fbc70258c10>, <DiscreteFactor representing phi(Unblocked FEV1 (L):58, Small Airway Blockage 0 (%):16) at 0x7fbcd54302e0>, <DiscreteFactor representing phi(Unblocked FEV1 (L):58) at 0x7fbc702598a0>, <DiscreteFactor representing phi(Unblocked FEV1 (L):58, Small Airway Blockage 13 (%):16) at 0x7fbc70259720>, <DiscreteFactor representing phi(Unblocked FEV1 (L):58) at 0x7fbc7025aad0>, <DiscreteFactor representing phi(Unblocked FEV1 (L):58) at 0x7fbc702599c0>, <DiscreteFactor representing phi(Unblocked FEV1 (L):58, Small Airway Blockage 4 (%):16) at 0x7fbcd5433760>, <DiscreteFactor representing phi(Unblocked FEV1 (L):58, Small Airway Blockage 12 (%):16) at 0x7fbc70259c00>, <DiscreteFactor representing phi(Unblocked FEV1 (L):58) at 0x7fbc7025a5c0>, <DiscreteFactor representing phi(Unblocked FEV1 (L):58) at 0x7fbc702585e0>, <DiscreteFactor representing phi(Unblocked FEV1 (L):58) at 0x7fbc7025a410>, <DiscreteFactor representing phi(Unblocked FEV1 (L):58) at 0x7fbc7025a770>, <DiscreteFactor representing phi(Unblocked FEV1 (L):58, Small Airway Blockage 8 (%):16) at 0x7fbcd5431db0>, <DiscreteFactor representing phi(Unblocked FEV1 (L):58) at 0x7fbc70258490>]\n",
      "factors: [<DiscreteFactor representing phi(Small Airway Blockage 5 (%):16, Small Airway Blockage 0 (%):16, Small Airway Blockage 13 (%):16, Small Airway Blockage 4 (%):16, Small Airway Blockage 12 (%):16, Small Airway Blockage 8 (%):16) at 0x7fbc61107c40>]\n",
      "factors: [<DiscreteFactor representing phi(Small Airway Blockage 0 (%):16, Small Airway Blockage 13 (%):16, Small Airway Blockage 4 (%):16, Small Airway Blockage 12 (%):16, Small Airway Blockage 8 (%):16) at 0x7fbc6a0c3ee0>]\n",
      "factors: [<DiscreteFactor representing phi(Small Airway Blockage 0 (%):16, Small Airway Blockage 13 (%):16, Small Airway Blockage 12 (%):16, Small Airway Blockage 8 (%):16) at 0x7fbc61107ac0>]\n",
      "factors: [<DiscreteFactor representing phi(Small Airway Blockage 0 (%):16, Small Airway Blockage 12 (%):16, Small Airway Blockage 8 (%):16) at 0x7fbc61107f70>]\n",
      "factors: [<DiscreteFactor representing phi(Small Airway Blockage 0 (%):16, Small Airway Blockage 8 (%):16) at 0x7fbc6a0c3d90>]\n",
      "Prepare vars to be returned\n",
      "node: Small Airway Blockage 0 (%)\n",
      "Query took 34.04195284843445s\n",
      "SAB: 1\n",
      "Preprocess query\n",
      "Run query\n",
      "Query var to list\n",
      "Find nodes with query vars\n",
      "Conversion to set of tuple\n",
      "Compute clique potentials\n",
      "Variable elimination marginalize\n"
     ]
    },
    {
     "data": {
      "application/vnd.jupyter.widget-view+json": {
       "model_id": "c5c51ef7f3954e2bb5016628a7a5caf1",
       "version_major": 2,
       "version_minor": 0
      },
      "text/plain": [
       "  0%|          | 0/18 [00:00<?, ?it/s]"
      ]
     },
     "metadata": {},
     "output_type": "display_data"
    },
    {
     "name": "stdout",
     "output_type": "stream",
     "text": [
      "factors: [<DiscreteFactor representing phi(Unblocked FEV1 (L):58, Small Airway Blockage 16 (%):16) at 0x7fbc70259ba0>]\n",
      "factors: [<DiscreteFactor representing phi(Unblocked FEV1 (L):58, Small Airway Blockage 9 (%):16) at 0x7fbcd5431f90>]\n",
      "factors: [<DiscreteFactor representing phi(Unblocked FEV1 (L):58, Small Airway Blockage 17 (%):16) at 0x7fbc70258c10>]\n",
      "factors: [<DiscreteFactor representing phi(Unblocked FEV1 (L):58, Small Airway Blockage 3 (%):16) at 0x7fbcd5432b90>]\n",
      "factors: [<DiscreteFactor representing phi(Unblocked FEV1 (L):58, Small Airway Blockage 6 (%):16) at 0x7fbcd54303d0>]\n",
      "factors: [<DiscreteFactor representing phi(Unblocked FEV1 (L):58, Small Airway Blockage 11 (%):16) at 0x7fbcd5430df0>]\n",
      "factors: [<DiscreteFactor representing phi(Unblocked FEV1 (L):58, Small Airway Blockage 7 (%):16) at 0x7fbcd5430430>]\n",
      "factors: [<DiscreteFactor representing phi(Unblocked FEV1 (L):58, Small Airway Blockage 10 (%):16) at 0x7fbcd5430310>]\n",
      "factors: [<DiscreteFactor representing phi(Unblocked FEV1 (L):58, Small Airway Blockage 14 (%):16) at 0x7fbc70259b70>]\n",
      "factors: [<DiscreteFactor representing phi(Unblocked FEV1 (L):58, Small Airway Blockage 2 (%):16) at 0x7fbcd5430e50>]\n",
      "factors: [<DiscreteFactor representing phi(Unblocked FEV1 (L):58, Small Airway Blockage 15 (%):16) at 0x7fbc7025aad0>]\n",
      "factors: [<DiscreteFactor representing phi(Unblocked FEV1 (L):58, Small Airway Blockage 0 (%):16) at 0x7fbcd5430700>]\n",
      "factors: [<DiscreteFactor representing phi(Unblocked FEV1 (L):58) at 0x7fbc7025a5f0>, <DiscreteFactor representing phi(Unblocked FEV1 (L):58, Small Airway Blockage 1 (%):16) at 0x7fbcd54304c0>, <DiscreteFactor representing phi(Unblocked FEV1 (L):58) at 0x7fbc7025a320>, <DiscreteFactor representing phi(Unblocked FEV1 (L):58, Small Airway Blockage 5 (%):16) at 0x7fbcd5430370>, <DiscreteFactor representing phi(Unblocked FEV1 (L):58) at 0x7fbc7025a770>, <DiscreteFactor representing phi(Unblocked FEV1 (L):58) at 0x7fbc70258610>, <DiscreteFactor representing phi(Unblocked FEV1 (L):58) at 0x7fbc7025aa40>, <DiscreteFactor representing phi(Unblocked FEV1 (L):58) at 0x7fbc70259870>, <DiscreteFactor representing phi(Unblocked FEV1 (L):58, Small Airway Blockage 13 (%):16) at 0x7fbcd54301f0>, <DiscreteFactor representing phi(Unblocked FEV1 (L):58) at 0x7fbc70259090>, <DiscreteFactor representing phi(Unblocked FEV1 (L):58, Small Airway Blockage 4 (%):16) at 0x7fbcd5431d20>, <DiscreteFactor representing phi(Unblocked FEV1 (L):58, Small Airway Blockage 12 (%):16) at 0x7fbcd5431570>, <DiscreteFactor representing phi(Unblocked FEV1 (L):58) at 0x7fbc70259990>, <DiscreteFactor representing phi(Unblocked FEV1 (L):58) at 0x7fbc70259150>, <DiscreteFactor representing phi(Unblocked FEV1 (L):58) at 0x7fbc702585e0>, <DiscreteFactor representing phi(Unblocked FEV1 (L):58) at 0x7fbc70258d00>, <DiscreteFactor representing phi(Unblocked FEV1 (L):58, Small Airway Blockage 8 (%):16) at 0x7fbcd54302e0>, <DiscreteFactor representing phi(Unblocked FEV1 (L):58) at 0x7fbc702581c0>]\n",
      "factors: [<DiscreteFactor representing phi(Small Airway Blockage 1 (%):16, Small Airway Blockage 5 (%):16, Small Airway Blockage 13 (%):16, Small Airway Blockage 4 (%):16, Small Airway Blockage 12 (%):16, Small Airway Blockage 8 (%):16) at 0x7fbc70258d60>]\n",
      "factors: [<DiscreteFactor representing phi(Small Airway Blockage 1 (%):16, Small Airway Blockage 13 (%):16, Small Airway Blockage 4 (%):16, Small Airway Blockage 12 (%):16, Small Airway Blockage 8 (%):16) at 0x7fbc70259870>]\n",
      "factors: [<DiscreteFactor representing phi(Small Airway Blockage 1 (%):16, Small Airway Blockage 13 (%):16, Small Airway Blockage 12 (%):16, Small Airway Blockage 8 (%):16) at 0x7fbc70259090>]\n",
      "factors: [<DiscreteFactor representing phi(Small Airway Blockage 1 (%):16, Small Airway Blockage 12 (%):16, Small Airway Blockage 8 (%):16) at 0x7fbcd5430e50>]\n",
      "factors: [<DiscreteFactor representing phi(Small Airway Blockage 1 (%):16, Small Airway Blockage 8 (%):16) at 0x7fbc7025aa40>]\n",
      "Prepare vars to be returned\n",
      "node: Small Airway Blockage 1 (%)\n",
      "Query took 32.03019595146179s\n",
      "SAB: 2\n",
      "Preprocess query\n",
      "Run query\n",
      "Query var to list\n",
      "Find nodes with query vars\n",
      "Conversion to set of tuple\n",
      "Compute clique potentials\n",
      "Variable elimination marginalize\n"
     ]
    },
    {
     "data": {
      "application/vnd.jupyter.widget-view+json": {
       "model_id": "dd8f1e19adeb4c98b49b4d58b0d7550e",
       "version_major": 2,
       "version_minor": 0
      },
      "text/plain": [
       "  0%|          | 0/18 [00:00<?, ?it/s]"
      ]
     },
     "metadata": {},
     "output_type": "display_data"
    },
    {
     "name": "stdout",
     "output_type": "stream",
     "text": [
      "factors: [<DiscreteFactor representing phi(Unblocked FEV1 (L):58, Small Airway Blockage 16 (%):16) at 0x7fbc7025a260>]\n",
      "factors: [<DiscreteFactor representing phi(Unblocked FEV1 (L):58, Small Airway Blockage 9 (%):16) at 0x7fbcd5432950>]\n",
      "factors: [<DiscreteFactor representing phi(Unblocked FEV1 (L):58, Small Airway Blockage 17 (%):16) at 0x7fbc70259930>]\n",
      "factors: [<DiscreteFactor representing phi(Unblocked FEV1 (L):58, Small Airway Blockage 3 (%):16) at 0x7fbcd5431030>]\n",
      "factors: [<DiscreteFactor representing phi(Unblocked FEV1 (L):58, Small Airway Blockage 6 (%):16) at 0x7fbcd5430220>]\n",
      "factors: [<DiscreteFactor representing phi(Unblocked FEV1 (L):58, Small Airway Blockage 11 (%):16) at 0x7fbcd5430e50>]\n",
      "factors: [<DiscreteFactor representing phi(Unblocked FEV1 (L):58, Small Airway Blockage 7 (%):16) at 0x7fbcd5431f90>]\n",
      "factors: [<DiscreteFactor representing phi(Unblocked FEV1 (L):58, Small Airway Blockage 10 (%):16) at 0x7fbcd5430910>]\n",
      "factors: [<DiscreteFactor representing phi(Unblocked FEV1 (L):58, Small Airway Blockage 14 (%):16) at 0x7fbc70259c30>]\n",
      "factors: [<DiscreteFactor representing phi(Unblocked FEV1 (L):58, Small Airway Blockage 15 (%):16) at 0x7fbc70258130>]\n",
      "factors: [<DiscreteFactor representing phi(Unblocked FEV1 (L):58, Small Airway Blockage 0 (%):16) at 0x7fbcd5433520>]\n",
      "factors: [<DiscreteFactor representing phi(Unblocked FEV1 (L):58, Small Airway Blockage 1 (%):16) at 0x7fbcd54335e0>]\n",
      "factors: [<DiscreteFactor representing phi(Unblocked FEV1 (L):58) at 0x7fbc702594b0>, <DiscreteFactor representing phi(Unblocked FEV1 (L):58) at 0x7fbc7025ad40>, <DiscreteFactor representing phi(Unblocked FEV1 (L):58, Small Airway Blockage 2 (%):16) at 0x7fbcd54323b0>, <DiscreteFactor representing phi(Unblocked FEV1 (L):58, Small Airway Blockage 5 (%):16) at 0x7fbcd5433ca0>, <DiscreteFactor representing phi(Unblocked FEV1 (L):58) at 0x7fbc70259a80>, <DiscreteFactor representing phi(Unblocked FEV1 (L):58) at 0x7fbc7025a2c0>, <DiscreteFactor representing phi(Unblocked FEV1 (L):58) at 0x7fbc70259060>, <DiscreteFactor representing phi(Unblocked FEV1 (L):58) at 0x7fbc7025aef0>, <DiscreteFactor representing phi(Unblocked FEV1 (L):58, Small Airway Blockage 13 (%):16) at 0x7fbc702586a0>, <DiscreteFactor representing phi(Unblocked FEV1 (L):58) at 0x7fbc70259990>, <DiscreteFactor representing phi(Unblocked FEV1 (L):58) at 0x7fbc70258df0>, <DiscreteFactor representing phi(Unblocked FEV1 (L):58, Small Airway Blockage 4 (%):16) at 0x7fbcd5430d00>, <DiscreteFactor representing phi(Unblocked FEV1 (L):58, Small Airway Blockage 12 (%):16) at 0x7fbcd5432a70>, <DiscreteFactor representing phi(Unblocked FEV1 (L):58) at 0x7fbc7025ab90>, <DiscreteFactor representing phi(Unblocked FEV1 (L):58) at 0x7fbc70258190>, <DiscreteFactor representing phi(Unblocked FEV1 (L):58) at 0x7fbc70259180>, <DiscreteFactor representing phi(Unblocked FEV1 (L):58, Small Airway Blockage 8 (%):16) at 0x7fbcd5432ad0>, <DiscreteFactor representing phi(Unblocked FEV1 (L):58) at 0x7fbc70258c40>]\n",
      "factors: [<DiscreteFactor representing phi(Small Airway Blockage 2 (%):16, Small Airway Blockage 5 (%):16, Small Airway Blockage 13 (%):16, Small Airway Blockage 4 (%):16, Small Airway Blockage 12 (%):16, Small Airway Blockage 8 (%):16) at 0x7fbc7025aec0>]\n",
      "factors: [<DiscreteFactor representing phi(Small Airway Blockage 2 (%):16, Small Airway Blockage 13 (%):16, Small Airway Blockage 4 (%):16, Small Airway Blockage 12 (%):16, Small Airway Blockage 8 (%):16) at 0x7fbc7025aef0>]\n",
      "factors: [<DiscreteFactor representing phi(Small Airway Blockage 2 (%):16, Small Airway Blockage 13 (%):16, Small Airway Blockage 12 (%):16, Small Airway Blockage 8 (%):16) at 0x7fbc70259990>]\n",
      "factors: [<DiscreteFactor representing phi(Small Airway Blockage 2 (%):16, Small Airway Blockage 12 (%):16, Small Airway Blockage 8 (%):16) at 0x7fbcd5431f90>]\n",
      "factors: [<DiscreteFactor representing phi(Small Airway Blockage 2 (%):16, Small Airway Blockage 8 (%):16) at 0x7fbc702586a0>]\n",
      "Prepare vars to be returned\n",
      "node: Small Airway Blockage 2 (%)\n",
      "Query took 31.278313159942627s\n",
      "SAB: 3\n",
      "Preprocess query\n",
      "Run query\n",
      "Query var to list\n",
      "Find nodes with query vars\n",
      "Conversion to set of tuple\n",
      "Compute clique potentials\n",
      "Variable elimination marginalize\n"
     ]
    },
    {
     "data": {
      "application/vnd.jupyter.widget-view+json": {
       "model_id": "caf7c469a76543e2b4f99b74250ea254",
       "version_major": 2,
       "version_minor": 0
      },
      "text/plain": [
       "  0%|          | 0/18 [00:00<?, ?it/s]"
      ]
     },
     "metadata": {},
     "output_type": "display_data"
    },
    {
     "name": "stdout",
     "output_type": "stream",
     "text": [
      "factors: [<DiscreteFactor representing phi(Unblocked FEV1 (L):58, Small Airway Blockage 16 (%):16) at 0x7fbc702598a0>]\n",
      "factors: [<DiscreteFactor representing phi(Unblocked FEV1 (L):58, Small Airway Blockage 9 (%):16) at 0x7fbcd5431f90>]\n",
      "factors: [<DiscreteFactor representing phi(Unblocked FEV1 (L):58, Small Airway Blockage 17 (%):16) at 0x7fbc7025a920>]\n",
      "factors: [<DiscreteFactor representing phi(Unblocked FEV1 (L):58, Small Airway Blockage 7 (%):16) at 0x7fbcd5433c70>]\n",
      "factors: [<DiscreteFactor representing phi(Unblocked FEV1 (L):58, Small Airway Blockage 6 (%):16) at 0x7fbcd5430c70>]\n",
      "factors: [<DiscreteFactor representing phi(Unblocked FEV1 (L):58, Small Airway Blockage 11 (%):16) at 0x7fbcd54323b0>]\n",
      "factors: [<DiscreteFactor representing phi(Unblocked FEV1 (L):58, Small Airway Blockage 10 (%):16) at 0x7fbcd5431390>]\n",
      "factors: [<DiscreteFactor representing phi(Unblocked FEV1 (L):58, Small Airway Blockage 14 (%):16) at 0x7fbc70258a30>]\n",
      "factors: [<DiscreteFactor representing phi(Unblocked FEV1 (L):58, Small Airway Blockage 2 (%):16) at 0x7fbcd54314b0>]\n",
      "factors: [<DiscreteFactor representing phi(Unblocked FEV1 (L):58, Small Airway Blockage 15 (%):16) at 0x7fbc70259c90>]\n",
      "factors: [<DiscreteFactor representing phi(Unblocked FEV1 (L):58, Small Airway Blockage 0 (%):16) at 0x7fbcd5431330>]\n",
      "factors: [<DiscreteFactor representing phi(Unblocked FEV1 (L):58, Small Airway Blockage 1 (%):16) at 0x7fbcd5431ae0>]\n",
      "factors: [<DiscreteFactor representing phi(Unblocked FEV1 (L):58) at 0x7fbc7025a140>, <DiscreteFactor representing phi(Unblocked FEV1 (L):58) at 0x7fbc7025a590>, <DiscreteFactor representing phi(Unblocked FEV1 (L):58, Small Airway Blockage 5 (%):16) at 0x7fbcd54312a0>, <DiscreteFactor representing phi(Unblocked FEV1 (L):58) at 0x7fbc7025a5f0>, <DiscreteFactor representing phi(Unblocked FEV1 (L):58) at 0x7fbc702589d0>, <DiscreteFactor representing phi(Unblocked FEV1 (L):58) at 0x7fbc7025b100>, <DiscreteFactor representing phi(Unblocked FEV1 (L):58, Small Airway Blockage 13 (%):16) at 0x7fbc70259000>, <DiscreteFactor representing phi(Unblocked FEV1 (L):58) at 0x7fbc7025b370>, <DiscreteFactor representing phi(Unblocked FEV1 (L):58) at 0x7fbc702593f0>, <DiscreteFactor representing phi(Unblocked FEV1 (L):58, Small Airway Blockage 4 (%):16) at 0x7fbcd5431b70>, <DiscreteFactor representing phi(Unblocked FEV1 (L):58, Small Airway Blockage 12 (%):16) at 0x7fbc702597b0>, <DiscreteFactor representing phi(Unblocked FEV1 (L):58) at 0x7fbc7025a3e0>, <DiscreteFactor representing phi(Unblocked FEV1 (L):58, Small Airway Blockage 3 (%):16) at 0x7fbcd5430070>, <DiscreteFactor representing phi(Unblocked FEV1 (L):58) at 0x7fbc7025aa70>, <DiscreteFactor representing phi(Unblocked FEV1 (L):58) at 0x7fbc70258370>, <DiscreteFactor representing phi(Unblocked FEV1 (L):58) at 0x7fbc70258d30>, <DiscreteFactor representing phi(Unblocked FEV1 (L):58, Small Airway Blockage 8 (%):16) at 0x7fbcd5431ba0>, <DiscreteFactor representing phi(Unblocked FEV1 (L):58) at 0x7fbc7025ada0>]\n",
      "factors: [<DiscreteFactor representing phi(Small Airway Blockage 5 (%):16, Small Airway Blockage 13 (%):16, Small Airway Blockage 4 (%):16, Small Airway Blockage 12 (%):16, Small Airway Blockage 3 (%):16, Small Airway Blockage 8 (%):16) at 0x7fbc7025b0a0>]\n",
      "factors: [<DiscreteFactor representing phi(Small Airway Blockage 13 (%):16, Small Airway Blockage 4 (%):16, Small Airway Blockage 12 (%):16, Small Airway Blockage 3 (%):16, Small Airway Blockage 8 (%):16) at 0x7fbc7025b370>]\n",
      "factors: [<DiscreteFactor representing phi(Small Airway Blockage 13 (%):16, Small Airway Blockage 12 (%):16, Small Airway Blockage 3 (%):16, Small Airway Blockage 8 (%):16) at 0x7fbc702593f0>]\n",
      "factors: [<DiscreteFactor representing phi(Small Airway Blockage 12 (%):16, Small Airway Blockage 3 (%):16, Small Airway Blockage 8 (%):16) at 0x7fbcd5433c70>]\n",
      "factors: [<DiscreteFactor representing phi(Small Airway Blockage 3 (%):16, Small Airway Blockage 8 (%):16) at 0x7fbc70259000>]\n",
      "Prepare vars to be returned\n",
      "node: Small Airway Blockage 3 (%)\n",
      "Query took 31.571612119674683s\n",
      "SAB: 4\n",
      "Preprocess query\n",
      "Run query\n",
      "Query var to list\n",
      "Find nodes with query vars\n",
      "Conversion to set of tuple\n",
      "Compute clique potentials\n",
      "Variable elimination marginalize\n"
     ]
    },
    {
     "data": {
      "application/vnd.jupyter.widget-view+json": {
       "model_id": "668eb8bb69b0483db492f45f85b9320d",
       "version_major": 2,
       "version_minor": 0
      },
      "text/plain": [
       "  0%|          | 0/18 [00:00<?, ?it/s]"
      ]
     },
     "metadata": {},
     "output_type": "display_data"
    },
    {
     "name": "stdout",
     "output_type": "stream",
     "text": [
      "factors: [<DiscreteFactor representing phi(Unblocked FEV1 (L):58, Small Airway Blockage 16 (%):16) at 0x7fbc7025b460>]\n",
      "factors: [<DiscreteFactor representing phi(Unblocked FEV1 (L):58, Small Airway Blockage 9 (%):16) at 0x7fbc7025b3d0>]\n",
      "factors: [<DiscreteFactor representing phi(Unblocked FEV1 (L):58, Small Airway Blockage 17 (%):16) at 0x7fbc7025b3a0>]\n",
      "factors: [<DiscreteFactor representing phi(Unblocked FEV1 (L):58, Small Airway Blockage 3 (%):16) at 0x7fbcd54329b0>]\n",
      "factors: [<DiscreteFactor representing phi(Unblocked FEV1 (L):58, Small Airway Blockage 11 (%):16) at 0x7fbc7025b430>]\n",
      "factors: [<DiscreteFactor representing phi(Unblocked FEV1 (L):58, Small Airway Blockage 7 (%):16) at 0x7fbcd5432d10>]\n",
      "factors: [<DiscreteFactor representing phi(Unblocked FEV1 (L):58, Small Airway Blockage 10 (%):16) at 0x7fbc7025b340>]\n",
      "factors: [<DiscreteFactor representing phi(Unblocked FEV1 (L):58, Small Airway Blockage 14 (%):16) at 0x7fbc7025b400>]\n",
      "factors: [<DiscreteFactor representing phi(Unblocked FEV1 (L):58, Small Airway Blockage 2 (%):16) at 0x7fbcd54300a0>]\n",
      "factors: [<DiscreteFactor representing phi(Unblocked FEV1 (L):58, Small Airway Blockage 15 (%):16) at 0x7fbc70258940>]\n",
      "factors: [<DiscreteFactor representing phi(Unblocked FEV1 (L):58, Small Airway Blockage 0 (%):16) at 0x7fbcd5430d30>]\n",
      "factors: [<DiscreteFactor representing phi(Unblocked FEV1 (L):58, Small Airway Blockage 1 (%):16) at 0x7fbcd5431150>]\n",
      "factors: [<DiscreteFactor representing phi(Unblocked FEV1 (L):58) at 0x7fbc70259840>, <DiscreteFactor representing phi(Unblocked FEV1 (L):58) at 0x7fbc7025ac50>, <DiscreteFactor representing phi(Unblocked FEV1 (L):58, Small Airway Blockage 5 (%):16) at 0x7fbcd54319f0>, <DiscreteFactor representing phi(Unblocked FEV1 (L):58) at 0x7fbc70259450>, <DiscreteFactor representing phi(Unblocked FEV1 (L):58) at 0x7fbc7025a3b0>, <DiscreteFactor representing phi(Unblocked FEV1 (L):58) at 0x7fbc7025a3e0>, <DiscreteFactor representing phi(Unblocked FEV1 (L):58) at 0x7fbc7025ad40>, <DiscreteFactor representing phi(Unblocked FEV1 (L):58, Small Airway Blockage 13 (%):16) at 0x7fbc7025af20>, <DiscreteFactor representing phi(Unblocked FEV1 (L):58) at 0x7fbc70258be0>, <DiscreteFactor representing phi(Unblocked FEV1 (L):58) at 0x7fbc70258dc0>, <DiscreteFactor representing phi(Unblocked FEV1 (L):58, Small Airway Blockage 4 (%):16) at 0x7fbcd5430070>, <DiscreteFactor representing phi(Unblocked FEV1 (L):58, Small Airway Blockage 12 (%):16) at 0x7fbc7025b310>, <DiscreteFactor representing phi(Unblocked FEV1 (L):58) at 0x7fbc7025abc0>, <DiscreteFactor representing phi(Unblocked FEV1 (L):58) at 0x7fbc70258fd0>, <DiscreteFactor representing phi(Unblocked FEV1 (L):58) at 0x7fbc70259180>, <DiscreteFactor representing phi(Unblocked FEV1 (L):58, Small Airway Blockage 6 (%):16) at 0x7fbcd54318a0>, <DiscreteFactor representing phi(Unblocked FEV1 (L):58) at 0x7fbc7025ad70>, <DiscreteFactor representing phi(Unblocked FEV1 (L):58, Small Airway Blockage 8 (%):16) at 0x7fbcd5430190>]\n",
      "factors: [<DiscreteFactor representing phi(Small Airway Blockage 5 (%):16, Small Airway Blockage 13 (%):16, Small Airway Blockage 4 (%):16, Small Airway Blockage 12 (%):16, Small Airway Blockage 6 (%):16, Small Airway Blockage 8 (%):16) at 0x7fbc70258370>]\n",
      "factors: [<DiscreteFactor representing phi(Small Airway Blockage 13 (%):16, Small Airway Blockage 4 (%):16, Small Airway Blockage 12 (%):16, Small Airway Blockage 6 (%):16, Small Airway Blockage 8 (%):16) at 0x7fbc7025ad40>]\n",
      "factors: [<DiscreteFactor representing phi(Small Airway Blockage 13 (%):16, Small Airway Blockage 4 (%):16, Small Airway Blockage 12 (%):16, Small Airway Blockage 8 (%):16) at 0x7fbc70258be0>]\n",
      "factors: [<DiscreteFactor representing phi(Small Airway Blockage 4 (%):16, Small Airway Blockage 12 (%):16, Small Airway Blockage 8 (%):16) at 0x7fbc70258940>]\n",
      "factors: [<DiscreteFactor representing phi(Small Airway Blockage 4 (%):16, Small Airway Blockage 8 (%):16) at 0x7fbc7025b430>]\n",
      "Prepare vars to be returned\n",
      "node: Small Airway Blockage 4 (%)\n",
      "Query took 20.27015995979309s\n",
      "SAB: 5\n",
      "Preprocess query\n",
      "Run query\n",
      "Query var to list\n",
      "Find nodes with query vars\n",
      "Conversion to set of tuple\n",
      "Compute clique potentials\n",
      "Variable elimination marginalize\n"
     ]
    },
    {
     "data": {
      "application/vnd.jupyter.widget-view+json": {
       "model_id": "4fe11509bf5e41a88e9e8e32e8ecd65a",
       "version_major": 2,
       "version_minor": 0
      },
      "text/plain": [
       "  0%|          | 0/18 [00:00<?, ?it/s]"
      ]
     },
     "metadata": {},
     "output_type": "display_data"
    },
    {
     "name": "stdout",
     "output_type": "stream",
     "text": [
      "factors: [<DiscreteFactor representing phi(Unblocked FEV1 (L):58, Small Airway Blockage 16 (%):16) at 0x7fbc7025aa70>]\n",
      "factors: [<DiscreteFactor representing phi(Unblocked FEV1 (L):58, Small Airway Blockage 9 (%):16) at 0x7fbc702598a0>]\n",
      "factors: [<DiscreteFactor representing phi(Unblocked FEV1 (L):58, Small Airway Blockage 17 (%):16) at 0x7fbc7025aec0>]\n",
      "factors: [<DiscreteFactor representing phi(Unblocked FEV1 (L):58, Small Airway Blockage 3 (%):16) at 0x7fbcd5432170>]\n",
      "factors: [<DiscreteFactor representing phi(Unblocked FEV1 (L):58, Small Airway Blockage 6 (%):16) at 0x7fbcd54326b0>]\n",
      "factors: [<DiscreteFactor representing phi(Unblocked FEV1 (L):58, Small Airway Blockage 11 (%):16) at 0x7fbc7025ae00>]\n",
      "factors: [<DiscreteFactor representing phi(Unblocked FEV1 (L):58, Small Airway Blockage 7 (%):16) at 0x7fbcd5430f10>]\n",
      "factors: [<DiscreteFactor representing phi(Unblocked FEV1 (L):58, Small Airway Blockage 10 (%):16) at 0x7fbc702586a0>]\n",
      "factors: [<DiscreteFactor representing phi(Unblocked FEV1 (L):58, Small Airway Blockage 14 (%):16) at 0x7fbc70259ba0>]\n",
      "factors: [<DiscreteFactor representing phi(Unblocked FEV1 (L):58, Small Airway Blockage 2 (%):16) at 0x7fbcd5433640>]\n",
      "factors: [<DiscreteFactor representing phi(Unblocked FEV1 (L):58, Small Airway Blockage 15 (%):16) at 0x7fbc7025a2c0>]\n",
      "factors: [<DiscreteFactor representing phi(Unblocked FEV1 (L):58, Small Airway Blockage 0 (%):16) at 0x7fbcd5431b10>]\n",
      "factors: [<DiscreteFactor representing phi(Unblocked FEV1 (L):58, Small Airway Blockage 1 (%):16) at 0x7fbcd5432350>]\n",
      "factors: [<DiscreteFactor representing phi(Unblocked FEV1 (L):58) at 0x7fbc7025bb50>, <DiscreteFactor representing phi(Unblocked FEV1 (L):58) at 0x7fbc6a5e01f0>, <DiscreteFactor representing phi(Unblocked FEV1 (L):58, Small Airway Blockage 5 (%):16) at 0x7fbcd5430520>, <DiscreteFactor representing phi(Unblocked FEV1 (L):58) at 0x7fbc7025a410>, <DiscreteFactor representing phi(Unblocked FEV1 (L):58) at 0x7fbc7025b640>, <DiscreteFactor representing phi(Unblocked FEV1 (L):58) at 0x7fbc7025b340>, <DiscreteFactor representing phi(Unblocked FEV1 (L):58) at 0x7fbc6a5e03a0>, <DiscreteFactor representing phi(Unblocked FEV1 (L):58, Small Airway Blockage 13 (%):16) at 0x7fbc70259c90>, <DiscreteFactor representing phi(Unblocked FEV1 (L):58) at 0x7fbc6a5e0580>, <DiscreteFactor representing phi(Unblocked FEV1 (L):58) at 0x7fbc7025a260>, <DiscreteFactor representing phi(Unblocked FEV1 (L):58, Small Airway Blockage 4 (%):16) at 0x7fbcd5430070>, <DiscreteFactor representing phi(Unblocked FEV1 (L):58, Small Airway Blockage 12 (%):16) at 0x7fbc7025b2b0>, <DiscreteFactor representing phi(Unblocked FEV1 (L):58) at 0x7fbc7025beb0>, <DiscreteFactor representing phi(Unblocked FEV1 (L):58) at 0x7fbc7025b9a0>, <DiscreteFactor representing phi(Unblocked FEV1 (L):58) at 0x7fbc7025bd00>, <DiscreteFactor representing phi(Unblocked FEV1 (L):58) at 0x7fbc6a5e00a0>, <DiscreteFactor representing phi(Unblocked FEV1 (L):58, Small Airway Blockage 8 (%):16) at 0x7fbc70258a30>, <DiscreteFactor representing phi(Unblocked FEV1 (L):58) at 0x7fbc7025b7f0>]\n",
      "factors: [<DiscreteFactor representing phi(Small Airway Blockage 5 (%):16, Small Airway Blockage 13 (%):16, Small Airway Blockage 4 (%):16, Small Airway Blockage 12 (%):16, Small Airway Blockage 8 (%):16) at 0x7fbc70258e20>]\n",
      "factors: [<DiscreteFactor representing phi(Small Airway Blockage 5 (%):16, Small Airway Blockage 13 (%):16, Small Airway Blockage 12 (%):16, Small Airway Blockage 8 (%):16) at 0x7fbc7025beb0>]\n",
      "factors: [<DiscreteFactor representing phi(Small Airway Blockage 5 (%):16, Small Airway Blockage 12 (%):16, Small Airway Blockage 8 (%):16) at 0x7fbc7025bd00>]\n",
      "factors: [<DiscreteFactor representing phi(Small Airway Blockage 5 (%):16, Small Airway Blockage 8 (%):16) at 0x7fbc70259540>]\n",
      "Prepare vars to be returned\n",
      "node: Small Airway Blockage 5 (%)\n",
      "Query took 1.3402507305145264s\n",
      "SAB: 6\n",
      "Preprocess query\n",
      "Run query\n",
      "Query var to list\n",
      "Find nodes with query vars\n",
      "Conversion to set of tuple\n",
      "Compute clique potentials\n",
      "Variable elimination marginalize\n"
     ]
    },
    {
     "data": {
      "application/vnd.jupyter.widget-view+json": {
       "model_id": "830ca068136949f38a774f8ccfbd140e",
       "version_major": 2,
       "version_minor": 0
      },
      "text/plain": [
       "  0%|          | 0/18 [00:00<?, ?it/s]"
      ]
     },
     "metadata": {},
     "output_type": "display_data"
    },
    {
     "name": "stdout",
     "output_type": "stream",
     "text": [
      "factors: [<DiscreteFactor representing phi(Unblocked FEV1 (L):58, Small Airway Blockage 16 (%):16) at 0x7fbc70259090>]\n",
      "factors: [<DiscreteFactor representing phi(Unblocked FEV1 (L):58, Small Airway Blockage 9 (%):16) at 0x7fbc7025ace0>]\n",
      "factors: [<DiscreteFactor representing phi(Unblocked FEV1 (L):58, Small Airway Blockage 17 (%):16) at 0x7fbc7025b0d0>]\n",
      "factors: [<DiscreteFactor representing phi(Unblocked FEV1 (L):58, Small Airway Blockage 3 (%):16) at 0x7fbcd5433190>]\n",
      "factors: [<DiscreteFactor representing phi(Unblocked FEV1 (L):58, Small Airway Blockage 11 (%):16) at 0x7fbc7025a290>]\n",
      "factors: [<DiscreteFactor representing phi(Unblocked FEV1 (L):58, Small Airway Blockage 7 (%):16) at 0x7fbcd5433d30>]\n",
      "factors: [<DiscreteFactor representing phi(Unblocked FEV1 (L):58, Small Airway Blockage 10 (%):16) at 0x7fbc70258ee0>]\n",
      "factors: [<DiscreteFactor representing phi(Unblocked FEV1 (L):58, Small Airway Blockage 14 (%):16) at 0x7fbc7025b070>]\n",
      "factors: [<DiscreteFactor representing phi(Unblocked FEV1 (L):58, Small Airway Blockage 2 (%):16) at 0x7fbcd5430820>]\n",
      "factors: [<DiscreteFactor representing phi(Unblocked FEV1 (L):58, Small Airway Blockage 15 (%):16) at 0x7fbc7025ac80>]\n",
      "factors: [<DiscreteFactor representing phi(Unblocked FEV1 (L):58, Small Airway Blockage 0 (%):16) at 0x7fbcd54302b0>]\n",
      "factors: [<DiscreteFactor representing phi(Unblocked FEV1 (L):58, Small Airway Blockage 1 (%):16) at 0x7fbcd5430040>]\n",
      "factors: [<DiscreteFactor representing phi(Unblocked FEV1 (L):58) at 0x7fbc7025b550>, <DiscreteFactor representing phi(Unblocked FEV1 (L):58) at 0x7fbc6a5e0580>, <DiscreteFactor representing phi(Unblocked FEV1 (L):58, Small Airway Blockage 5 (%):16) at 0x7fbcd54306d0>, <DiscreteFactor representing phi(Unblocked FEV1 (L):58) at 0x7fbc70259060>, <DiscreteFactor representing phi(Unblocked FEV1 (L):58) at 0x7fbc7025b760>, <DiscreteFactor representing phi(Unblocked FEV1 (L):58) at 0x7fbc7025bb50>, <DiscreteFactor representing phi(Unblocked FEV1 (L):58) at 0x7fbc6a5e04c0>, <DiscreteFactor representing phi(Unblocked FEV1 (L):58, Small Airway Blockage 13 (%):16) at 0x7fbc70258100>, <DiscreteFactor representing phi(Unblocked FEV1 (L):58) at 0x7fbc6a5e0310>, <DiscreteFactor representing phi(Unblocked FEV1 (L):58) at 0x7fbc7025b820>, <DiscreteFactor representing phi(Unblocked FEV1 (L):58, Small Airway Blockage 4 (%):16) at 0x7fbcd5431090>, <DiscreteFactor representing phi(Unblocked FEV1 (L):58, Small Airway Blockage 12 (%):16) at 0x7fbc7025af80>, <DiscreteFactor representing phi(Unblocked FEV1 (L):58) at 0x7fbc70258340>, <DiscreteFactor representing phi(Unblocked FEV1 (L):58) at 0x7fbc7025ba60>, <DiscreteFactor representing phi(Unblocked FEV1 (L):58) at 0x7fbc7025b0a0>, <DiscreteFactor representing phi(Unblocked FEV1 (L):58, Small Airway Blockage 6 (%):16) at 0x7fbcd5430310>, <DiscreteFactor representing phi(Unblocked FEV1 (L):58) at 0x7fbc7025ad70>, <DiscreteFactor representing phi(Unblocked FEV1 (L):58, Small Airway Blockage 8 (%):16) at 0x7fbcd5430d00>]\n",
      "factors: [<DiscreteFactor representing phi(Small Airway Blockage 5 (%):16, Small Airway Blockage 13 (%):16, Small Airway Blockage 4 (%):16, Small Airway Blockage 12 (%):16, Small Airway Blockage 6 (%):16, Small Airway Blockage 8 (%):16) at 0x7fbc70259240>]\n",
      "factors: [<DiscreteFactor representing phi(Small Airway Blockage 13 (%):16, Small Airway Blockage 4 (%):16, Small Airway Blockage 12 (%):16, Small Airway Blockage 6 (%):16, Small Airway Blockage 8 (%):16) at 0x7fbc70258340>]\n",
      "factors: [<DiscreteFactor representing phi(Small Airway Blockage 13 (%):16, Small Airway Blockage 12 (%):16, Small Airway Blockage 6 (%):16, Small Airway Blockage 8 (%):16) at 0x7fbc7025ba60>]\n",
      "factors: [<DiscreteFactor representing phi(Small Airway Blockage 12 (%):16, Small Airway Blockage 6 (%):16, Small Airway Blockage 8 (%):16) at 0x7fbc7025b820>]\n",
      "factors: [<DiscreteFactor representing phi(Small Airway Blockage 6 (%):16, Small Airway Blockage 8 (%):16) at 0x7fbc7025ac80>]\n",
      "Prepare vars to be returned\n",
      "node: Small Airway Blockage 6 (%)\n",
      "Query took 20.5307137966156s\n",
      "SAB: 7\n",
      "Preprocess query\n",
      "Run query\n",
      "Query var to list\n",
      "Find nodes with query vars\n",
      "Conversion to set of tuple\n",
      "Compute clique potentials\n",
      "Variable elimination marginalize\n"
     ]
    },
    {
     "data": {
      "application/vnd.jupyter.widget-view+json": {
       "model_id": "47d5e1da1712438d82554d41a9622900",
       "version_major": 2,
       "version_minor": 0
      },
      "text/plain": [
       "  0%|          | 0/18 [00:00<?, ?it/s]"
      ]
     },
     "metadata": {},
     "output_type": "display_data"
    },
    {
     "name": "stdout",
     "output_type": "stream",
     "text": [
      "factors: [<DiscreteFactor representing phi(Unblocked FEV1 (L):58, Small Airway Blockage 16 (%):16) at 0x7fbc7025a410>]\n",
      "factors: [<DiscreteFactor representing phi(Unblocked FEV1 (L):58, Small Airway Blockage 9 (%):16) at 0x7fbc7025b3a0>]\n",
      "factors: [<DiscreteFactor representing phi(Unblocked FEV1 (L):58, Small Airway Blockage 17 (%):16) at 0x7fbc702594e0>]\n",
      "factors: [<DiscreteFactor representing phi(Unblocked FEV1 (L):58, Small Airway Blockage 3 (%):16) at 0x7fbcd5430310>]\n",
      "factors: [<DiscreteFactor representing phi(Unblocked FEV1 (L):58, Small Airway Blockage 6 (%):16) at 0x7fbc7025be50>]\n",
      "factors: [<DiscreteFactor representing phi(Unblocked FEV1 (L):58, Small Airway Blockage 11 (%):16) at 0x7fbc70258130>]\n",
      "factors: [<DiscreteFactor representing phi(Unblocked FEV1 (L):58, Small Airway Blockage 10 (%):16) at 0x7fbc70258490>]\n",
      "factors: [<DiscreteFactor representing phi(Unblocked FEV1 (L):58, Small Airway Blockage 14 (%):16) at 0x7fbc702598d0>]\n",
      "factors: [<DiscreteFactor representing phi(Unblocked FEV1 (L):58, Small Airway Blockage 2 (%):16) at 0x7fbcd54338b0>]\n",
      "factors: [<DiscreteFactor representing phi(Unblocked FEV1 (L):58, Small Airway Blockage 15 (%):16) at 0x7fbc7025ab90>]\n",
      "factors: [<DiscreteFactor representing phi(Unblocked FEV1 (L):58, Small Airway Blockage 0 (%):16) at 0x7fbcd5431270>]\n",
      "factors: [<DiscreteFactor representing phi(Unblocked FEV1 (L):58, Small Airway Blockage 1 (%):16) at 0x7fbcd54307c0>]\n",
      "factors: [<DiscreteFactor representing phi(Unblocked FEV1 (L):58) at 0x7fbc6a5e0a60>, <DiscreteFactor representing phi(Unblocked FEV1 (L):58, Small Airway Blockage 5 (%):16) at 0x7fbcd5430430>, <DiscreteFactor representing phi(Unblocked FEV1 (L):58) at 0x7fbc7025ace0>, <DiscreteFactor representing phi(Unblocked FEV1 (L):58) at 0x7fbc7025bb20>, <DiscreteFactor representing phi(Unblocked FEV1 (L):58) at 0x7fbc7025b1f0>, <DiscreteFactor representing phi(Unblocked FEV1 (L):58) at 0x7fbc6a5e0c10>, <DiscreteFactor representing phi(Unblocked FEV1 (L):58, Small Airway Blockage 7 (%):16) at 0x7fbc7025a3b0>, <DiscreteFactor representing phi(Unblocked FEV1 (L):58, Small Airway Blockage 13 (%):16) at 0x7fbc70258fd0>, <DiscreteFactor representing phi(Unblocked FEV1 (L):58) at 0x7fbc7025b7c0>, <DiscreteFactor representing phi(Unblocked FEV1 (L):58) at 0x7fbc7025a6b0>, <DiscreteFactor representing phi(Unblocked FEV1 (L):58, Small Airway Blockage 4 (%):16) at 0x7fbcd54307f0>, <DiscreteFactor representing phi(Unblocked FEV1 (L):58, Small Airway Blockage 12 (%):16) at 0x7fbc70258370>, <DiscreteFactor representing phi(Unblocked FEV1 (L):58) at 0x7fbc6a5e0670>, <DiscreteFactor representing phi(Unblocked FEV1 (L):58) at 0x7fbc6a5e0640>, <DiscreteFactor representing phi(Unblocked FEV1 (L):58) at 0x7fbc6a5e0190>, <DiscreteFactor representing phi(Unblocked FEV1 (L):58) at 0x7fbc6a5e08b0>, <DiscreteFactor representing phi(Unblocked FEV1 (L):58, Small Airway Blockage 8 (%):16) at 0x7fbc7025b430>, <DiscreteFactor representing phi(Unblocked FEV1 (L):58) at 0x7fbc6a5e04f0>]\n",
      "factors: [<DiscreteFactor representing phi(Small Airway Blockage 5 (%):16, Small Airway Blockage 7 (%):16, Small Airway Blockage 13 (%):16, Small Airway Blockage 4 (%):16, Small Airway Blockage 12 (%):16, Small Airway Blockage 8 (%):16) at 0x7fbc7025b580>]\n",
      "factors: [<DiscreteFactor representing phi(Small Airway Blockage 7 (%):16, Small Airway Blockage 13 (%):16, Small Airway Blockage 4 (%):16, Small Airway Blockage 12 (%):16, Small Airway Blockage 8 (%):16) at 0x7fbc7025b610>]\n",
      "factors: [<DiscreteFactor representing phi(Small Airway Blockage 7 (%):16, Small Airway Blockage 13 (%):16, Small Airway Blockage 12 (%):16, Small Airway Blockage 8 (%):16) at 0x7fbc7025aec0>]\n",
      "factors: [<DiscreteFactor representing phi(Small Airway Blockage 7 (%):16, Small Airway Blockage 12 (%):16, Small Airway Blockage 8 (%):16) at 0x7fbc7025b790>]\n",
      "factors: [<DiscreteFactor representing phi(Small Airway Blockage 7 (%):16, Small Airway Blockage 8 (%):16) at 0x7fbc7025ace0>]\n",
      "Prepare vars to be returned\n",
      "node: Small Airway Blockage 7 (%)\n",
      "Query took 34.02621531486511s\n",
      "SAB: 8\n",
      "Preprocess query\n",
      "Run query\n",
      "Query var to list\n",
      "Find nodes with query vars\n",
      "Conversion to set of tuple\n",
      "Compute clique potentials\n",
      "Variable elimination marginalize\n"
     ]
    },
    {
     "data": {
      "application/vnd.jupyter.widget-view+json": {
       "model_id": "acf32f6e5d1a40ae9fc07a9d540ff076",
       "version_major": 2,
       "version_minor": 0
      },
      "text/plain": [
       "  0%|          | 0/18 [00:00<?, ?it/s]"
      ]
     },
     "metadata": {},
     "output_type": "display_data"
    },
    {
     "name": "stdout",
     "output_type": "stream",
     "text": [
      "factors: [<DiscreteFactor representing phi(Unblocked FEV1 (L):58, Small Airway Blockage 16 (%):16) at 0x7fbc7025a230>]\n",
      "factors: [<DiscreteFactor representing phi(Unblocked FEV1 (L):58, Small Airway Blockage 9 (%):16) at 0x7fbc7025a050>]\n",
      "factors: [<DiscreteFactor representing phi(Unblocked FEV1 (L):58, Small Airway Blockage 17 (%):16) at 0x7fbc7025bd60>]\n",
      "factors: [<DiscreteFactor representing phi(Unblocked FEV1 (L):58, Small Airway Blockage 3 (%):16) at 0x7fbcd5433a60>]\n",
      "factors: [<DiscreteFactor representing phi(Unblocked FEV1 (L):58, Small Airway Blockage 6 (%):16) at 0x7fbcd5433ca0>]\n",
      "factors: [<DiscreteFactor representing phi(Unblocked FEV1 (L):58, Small Airway Blockage 11 (%):16) at 0x7fbc7025b340>]\n",
      "factors: [<DiscreteFactor representing phi(Unblocked FEV1 (L):58, Small Airway Blockage 7 (%):16) at 0x7fbc7025bf10>]\n",
      "factors: [<DiscreteFactor representing phi(Unblocked FEV1 (L):58, Small Airway Blockage 10 (%):16) at 0x7fbc7025be80>]\n",
      "factors: [<DiscreteFactor representing phi(Unblocked FEV1 (L):58, Small Airway Blockage 14 (%):16) at 0x7fbc7025bc70>]\n",
      "factors: [<DiscreteFactor representing phi(Unblocked FEV1 (L):58, Small Airway Blockage 2 (%):16) at 0x7fbcd5431150>]\n",
      "factors: [<DiscreteFactor representing phi(Unblocked FEV1 (L):58, Small Airway Blockage 15 (%):16) at 0x7fbc70258310>]\n",
      "factors: [<DiscreteFactor representing phi(Unblocked FEV1 (L):58, Small Airway Blockage 0 (%):16) at 0x7fbcd5430520>]\n",
      "factors: [<DiscreteFactor representing phi(Unblocked FEV1 (L):58, Small Airway Blockage 1 (%):16) at 0x7fbcd54301f0>]\n",
      "factors: [<DiscreteFactor representing phi(Unblocked FEV1 (L):58) at 0x7fbc6a5e0160>, <DiscreteFactor representing phi(Unblocked FEV1 (L):58) at 0x7fbc6a5e0d30>, <DiscreteFactor representing phi(Unblocked FEV1 (L):58, Small Airway Blockage 5 (%):16) at 0x7fbcd5432a70>, <DiscreteFactor representing phi(Unblocked FEV1 (L):58) at 0x7fbc7025ba00>, <DiscreteFactor representing phi(Unblocked FEV1 (L):58) at 0x7fbc6a5e0c40>, <DiscreteFactor representing phi(Unblocked FEV1 (L):58) at 0x7fbc7025b3a0>, <DiscreteFactor representing phi(Unblocked FEV1 (L):58) at 0x7fbc702594e0>, <DiscreteFactor representing phi(Unblocked FEV1 (L):58, Small Airway Blockage 13 (%):16) at 0x7fbc70259390>, <DiscreteFactor representing phi(Unblocked FEV1 (L):58) at 0x7fbc7025bac0>, <DiscreteFactor representing phi(Unblocked FEV1 (L):58) at 0x7fbc6a5e0c10>, <DiscreteFactor representing phi(Unblocked FEV1 (L):58, Small Airway Blockage 4 (%):16) at 0x7fbcd5430d30>, <DiscreteFactor representing phi(Unblocked FEV1 (L):58, Small Airway Blockage 12 (%):16) at 0x7fbc70259870>, <DiscreteFactor representing phi(Unblocked FEV1 (L):58) at 0x7fbc6a5e0a00>, <DiscreteFactor representing phi(Unblocked FEV1 (L):58) at 0x7fbc6a5e07c0>, <DiscreteFactor representing phi(Unblocked FEV1 (L):58) at 0x7fbc6a5e03a0>, <DiscreteFactor representing phi(Unblocked FEV1 (L):58) at 0x7fbc6a5e0340>, <DiscreteFactor representing phi(Unblocked FEV1 (L):58, Small Airway Blockage 8 (%):16) at 0x7fbc7025ac50>, <DiscreteFactor representing phi(Unblocked FEV1 (L):58) at 0x7fbc6a5e08e0>]\n",
      "factors: [<DiscreteFactor representing phi(Small Airway Blockage 5 (%):16, Small Airway Blockage 13 (%):16, Small Airway Blockage 4 (%):16, Small Airway Blockage 12 (%):16, Small Airway Blockage 8 (%):16) at 0x7fbc70258e20>]\n",
      "factors: [<DiscreteFactor representing phi(Small Airway Blockage 13 (%):16, Small Airway Blockage 4 (%):16, Small Airway Blockage 12 (%):16, Small Airway Blockage 8 (%):16) at 0x7fbc7025b970>]\n",
      "factors: [<DiscreteFactor representing phi(Small Airway Blockage 13 (%):16, Small Airway Blockage 12 (%):16, Small Airway Blockage 8 (%):16) at 0x7fbc70259300>]\n",
      "factors: [<DiscreteFactor representing phi(Small Airway Blockage 12 (%):16, Small Airway Blockage 8 (%):16) at 0x7fbc7025bcd0>]\n",
      "Prepare vars to be returned\n",
      "node: Small Airway Blockage 8 (%)\n",
      "Query took 1.2188937664031982s\n",
      "SAB: 9\n",
      "Preprocess query\n",
      "Run query\n",
      "Query var to list\n",
      "Find nodes with query vars\n",
      "Conversion to set of tuple\n",
      "Compute clique potentials\n",
      "Variable elimination marginalize\n"
     ]
    },
    {
     "data": {
      "application/vnd.jupyter.widget-view+json": {
       "model_id": "839ae567c59147839530ffd479892e84",
       "version_major": 2,
       "version_minor": 0
      },
      "text/plain": [
       "  0%|          | 0/18 [00:00<?, ?it/s]"
      ]
     },
     "metadata": {},
     "output_type": "display_data"
    },
    {
     "name": "stdout",
     "output_type": "stream",
     "text": [
      "factors: [<DiscreteFactor representing phi(Unblocked FEV1 (L):58, Small Airway Blockage 16 (%):16) at 0x7fbc7025a410>]\n",
      "factors: [<DiscreteFactor representing phi(Unblocked FEV1 (L):58, Small Airway Blockage 17 (%):16) at 0x7fbc7025b310>]\n",
      "factors: [<DiscreteFactor representing phi(Unblocked FEV1 (L):58, Small Airway Blockage 3 (%):16) at 0x7fbcd5430340>]\n",
      "factors: [<DiscreteFactor representing phi(Unblocked FEV1 (L):58, Small Airway Blockage 6 (%):16) at 0x7fbc7025b370>]\n",
      "factors: [<DiscreteFactor representing phi(Unblocked FEV1 (L):58, Small Airway Blockage 11 (%):16) at 0x7fbc70258bb0>]\n",
      "factors: [<DiscreteFactor representing phi(Unblocked FEV1 (L):58, Small Airway Blockage 7 (%):16) at 0x7fbc7025a110>]\n",
      "factors: [<DiscreteFactor representing phi(Unblocked FEV1 (L):58, Small Airway Blockage 10 (%):16) at 0x7fbc7025a890>]\n",
      "factors: [<DiscreteFactor representing phi(Unblocked FEV1 (L):58, Small Airway Blockage 14 (%):16) at 0x7fbc70259600>]\n",
      "factors: [<DiscreteFactor representing phi(Unblocked FEV1 (L):58, Small Airway Blockage 2 (%):16) at 0x7fbcd54329b0>]\n",
      "factors: [<DiscreteFactor representing phi(Unblocked FEV1 (L):58, Small Airway Blockage 15 (%):16) at 0x7fbc7025ae00>]\n",
      "factors: [<DiscreteFactor representing phi(Unblocked FEV1 (L):58, Small Airway Blockage 0 (%):16) at 0x7fbcd5431630>]\n",
      "factors: [<DiscreteFactor representing phi(Unblocked FEV1 (L):58, Small Airway Blockage 1 (%):16) at 0x7fbcd5432110>]\n",
      "factors: [<DiscreteFactor representing phi(Unblocked FEV1 (L):58, Small Airway Blockage 9 (%):16) at 0x7fbc7025a770>, <DiscreteFactor representing phi(Unblocked FEV1 (L):58) at 0x7fbc6a5e09d0>, <DiscreteFactor representing phi(Unblocked FEV1 (L):58) at 0x7fbc6a5e1000>, <DiscreteFactor representing phi(Unblocked FEV1 (L):58, Small Airway Blockage 5 (%):16) at 0x7fbcd5430580>, <DiscreteFactor representing phi(Unblocked FEV1 (L):58) at 0x7fbc6a5e07c0>, <DiscreteFactor representing phi(Unblocked FEV1 (L):58) at 0x7fbc7025b670>, <DiscreteFactor representing phi(Unblocked FEV1 (L):58) at 0x7fbc6a5e11b0>, <DiscreteFactor representing phi(Unblocked FEV1 (L):58, Small Airway Blockage 13 (%):16) at 0x7fbc7025a5c0>, <DiscreteFactor representing phi(Unblocked FEV1 (L):58) at 0x7fbc7025bd60>, <DiscreteFactor representing phi(Unblocked FEV1 (L):58) at 0x7fbc7025af80>, <DiscreteFactor representing phi(Unblocked FEV1 (L):58, Small Airway Blockage 4 (%):16) at 0x7fbcd54318a0>, <DiscreteFactor representing phi(Unblocked FEV1 (L):58, Small Airway Blockage 12 (%):16) at 0x7fbc702599c0>, <DiscreteFactor representing phi(Unblocked FEV1 (L):58) at 0x7fbc6a5e0a60>, <DiscreteFactor representing phi(Unblocked FEV1 (L):58) at 0x7fbc6a5e0040>, <DiscreteFactor representing phi(Unblocked FEV1 (L):58) at 0x7fbc6a5e0b80>, <DiscreteFactor representing phi(Unblocked FEV1 (L):58) at 0x7fbc6a5e0e50>, <DiscreteFactor representing phi(Unblocked FEV1 (L):58, Small Airway Blockage 8 (%):16) at 0x7fbc7025a9e0>, <DiscreteFactor representing phi(Unblocked FEV1 (L):58) at 0x7fbc6a5e02b0>]\n",
      "factors: [<DiscreteFactor representing phi(Small Airway Blockage 9 (%):16, Small Airway Blockage 5 (%):16, Small Airway Blockage 13 (%):16, Small Airway Blockage 4 (%):16, Small Airway Blockage 12 (%):16, Small Airway Blockage 8 (%):16) at 0x7fbc7025be80>]\n",
      "factors: [<DiscreteFactor representing phi(Small Airway Blockage 9 (%):16, Small Airway Blockage 13 (%):16, Small Airway Blockage 4 (%):16, Small Airway Blockage 12 (%):16, Small Airway Blockage 8 (%):16) at 0x7fbc7025b970>]\n",
      "factors: [<DiscreteFactor representing phi(Small Airway Blockage 9 (%):16, Small Airway Blockage 13 (%):16, Small Airway Blockage 12 (%):16, Small Airway Blockage 8 (%):16) at 0x7fbc7025b6d0>]\n",
      "factors: [<DiscreteFactor representing phi(Small Airway Blockage 9 (%):16, Small Airway Blockage 12 (%):16, Small Airway Blockage 8 (%):16) at 0x7fbc7025b670>]\n",
      "factors: [<DiscreteFactor representing phi(Small Airway Blockage 9 (%):16, Small Airway Blockage 8 (%):16) at 0x7fbc7025b850>]\n",
      "Prepare vars to be returned\n",
      "node: Small Airway Blockage 9 (%)\n",
      "Query took 34.01445913314819s\n",
      "SAB: 10\n",
      "Preprocess query\n",
      "Run query\n",
      "Query var to list\n",
      "Find nodes with query vars\n",
      "Conversion to set of tuple\n",
      "Compute clique potentials\n",
      "Variable elimination marginalize\n"
     ]
    },
    {
     "data": {
      "application/vnd.jupyter.widget-view+json": {
       "model_id": "ef06ca29dc1d4238be439ab9688b6495",
       "version_major": 2,
       "version_minor": 0
      },
      "text/plain": [
       "  0%|          | 0/18 [00:00<?, ?it/s]"
      ]
     },
     "metadata": {},
     "output_type": "display_data"
    },
    {
     "name": "stdout",
     "output_type": "stream",
     "text": [
      "factors: [<DiscreteFactor representing phi(Unblocked FEV1 (L):58, Small Airway Blockage 16 (%):16) at 0x7fbc7025a110>]\n",
      "factors: [<DiscreteFactor representing phi(Unblocked FEV1 (L):58, Small Airway Blockage 9 (%):16) at 0x7fbc70259d20>]\n",
      "factors: [<DiscreteFactor representing phi(Unblocked FEV1 (L):58, Small Airway Blockage 17 (%):16) at 0x7fbc7025b7c0>]\n",
      "factors: [<DiscreteFactor representing phi(Unblocked FEV1 (L):58, Small Airway Blockage 3 (%):16) at 0x7fbcd5433580>]\n",
      "factors: [<DiscreteFactor representing phi(Unblocked FEV1 (L):58, Small Airway Blockage 6 (%):16) at 0x7fbc70259180>]\n",
      "factors: [<DiscreteFactor representing phi(Unblocked FEV1 (L):58, Small Airway Blockage 11 (%):16) at 0x7fbc7025abf0>]\n",
      "factors: [<DiscreteFactor representing phi(Unblocked FEV1 (L):58, Small Airway Blockage 7 (%):16) at 0x7fbc7025bb20>]\n",
      "factors: [<DiscreteFactor representing phi(Unblocked FEV1 (L):58, Small Airway Blockage 14 (%):16) at 0x7fbc7025b8b0>]\n",
      "factors: [<DiscreteFactor representing phi(Unblocked FEV1 (L):58, Small Airway Blockage 2 (%):16) at 0x7fbcd54326b0>]\n",
      "factors: [<DiscreteFactor representing phi(Unblocked FEV1 (L):58, Small Airway Blockage 15 (%):16) at 0x7fbc70258fa0>]\n",
      "factors: [<DiscreteFactor representing phi(Unblocked FEV1 (L):58, Small Airway Blockage 0 (%):16) at 0x7fbcd5432e90>]\n",
      "factors: [<DiscreteFactor representing phi(Unblocked FEV1 (L):58, Small Airway Blockage 1 (%):16) at 0x7fbcd5431a20>]\n",
      "factors: [<DiscreteFactor representing phi(Unblocked FEV1 (L):58) at 0x7fbc6a5e0490>, <DiscreteFactor representing phi(Unblocked FEV1 (L):58) at 0x7fbc6a5e1600>, <DiscreteFactor representing phi(Unblocked FEV1 (L):58, Small Airway Blockage 5 (%):16) at 0x7fbc7025b610>, <DiscreteFactor representing phi(Unblocked FEV1 (L):58) at 0x7fbc6a5e0af0>, <DiscreteFactor representing phi(Unblocked FEV1 (L):58) at 0x7fbc6a5e0760>, <DiscreteFactor representing phi(Unblocked FEV1 (L):58) at 0x7fbc6a5e1120>, <DiscreteFactor representing phi(Unblocked FEV1 (L):58) at 0x7fbc6a5e17b0>, <DiscreteFactor representing phi(Unblocked FEV1 (L):58, Small Airway Blockage 13 (%):16) at 0x7fbc7025bfd0>, <DiscreteFactor representing phi(Unblocked FEV1 (L):58) at 0x7fbc6a5e1090>, <DiscreteFactor representing phi(Unblocked FEV1 (L):58) at 0x7fbc6a5e0910>, <DiscreteFactor representing phi(Unblocked FEV1 (L):58, Small Airway Blockage 4 (%):16) at 0x7fbcd5431e70>, <DiscreteFactor representing phi(Unblocked FEV1 (L):58, Small Airway Blockage 12 (%):16) at 0x7fbc7025a260>, <DiscreteFactor representing phi(Unblocked FEV1 (L):58) at 0x7fbc6a5e12a0>, <DiscreteFactor representing phi(Unblocked FEV1 (L):58) at 0x7fbc6a5e0340>, <DiscreteFactor representing phi(Unblocked FEV1 (L):58, Small Airway Blockage 10 (%):16) at 0x7fbc7025a380>, <DiscreteFactor representing phi(Unblocked FEV1 (L):58) at 0x7fbc6a5e1450>, <DiscreteFactor representing phi(Unblocked FEV1 (L):58, Small Airway Blockage 8 (%):16) at 0x7fbc7025b1f0>, <DiscreteFactor representing phi(Unblocked FEV1 (L):58) at 0x7fbc6a5e01f0>]\n",
      "factors: [<DiscreteFactor representing phi(Small Airway Blockage 5 (%):16, Small Airway Blockage 13 (%):16, Small Airway Blockage 4 (%):16, Small Airway Blockage 12 (%):16, Small Airway Blockage 10 (%):16, Small Airway Blockage 8 (%):16) at 0x7fbc7025bf10>]\n",
      "factors: [<DiscreteFactor representing phi(Small Airway Blockage 13 (%):16, Small Airway Blockage 4 (%):16, Small Airway Blockage 12 (%):16, Small Airway Blockage 10 (%):16, Small Airway Blockage 8 (%):16) at 0x7fbc6a5e0760>]\n",
      "factors: [<DiscreteFactor representing phi(Small Airway Blockage 13 (%):16, Small Airway Blockage 12 (%):16, Small Airway Blockage 10 (%):16, Small Airway Blockage 8 (%):16) at 0x7fbc7025a5c0>]\n",
      "factors: [<DiscreteFactor representing phi(Small Airway Blockage 12 (%):16, Small Airway Blockage 10 (%):16, Small Airway Blockage 8 (%):16) at 0x7fbc70259180>]\n",
      "factors: [<DiscreteFactor representing phi(Small Airway Blockage 10 (%):16, Small Airway Blockage 8 (%):16) at 0x7fbc6a5e1120>]\n",
      "Prepare vars to be returned\n",
      "node: Small Airway Blockage 10 (%)\n",
      "Query took 32.72134232521057s\n",
      "SAB: 11\n",
      "Preprocess query\n",
      "Run query\n",
      "Query var to list\n",
      "Find nodes with query vars\n",
      "Conversion to set of tuple\n",
      "Compute clique potentials\n",
      "Variable elimination marginalize\n"
     ]
    },
    {
     "data": {
      "application/vnd.jupyter.widget-view+json": {
       "model_id": "a342e5c212574e1a871fa163dcccc2c2",
       "version_major": 2,
       "version_minor": 0
      },
      "text/plain": [
       "  0%|          | 0/18 [00:00<?, ?it/s]"
      ]
     },
     "metadata": {},
     "output_type": "display_data"
    },
    {
     "name": "stdout",
     "output_type": "stream",
     "text": [
      "factors: [<DiscreteFactor representing phi(Unblocked FEV1 (L):58, Small Airway Blockage 16 (%):16) at 0x7fbc7025af80>]\n",
      "factors: [<DiscreteFactor representing phi(Unblocked FEV1 (L):58, Small Airway Blockage 9 (%):16) at 0x7fbc7025b370>]\n",
      "factors: [<DiscreteFactor representing phi(Unblocked FEV1 (L):58, Small Airway Blockage 17 (%):16) at 0x7fbc7025b1f0>]\n",
      "factors: [<DiscreteFactor representing phi(Unblocked FEV1 (L):58, Small Airway Blockage 3 (%):16) at 0x7fbcd5431420>]\n",
      "factors: [<DiscreteFactor representing phi(Unblocked FEV1 (L):58, Small Airway Blockage 6 (%):16) at 0x7fbc7025b5e0>]\n",
      "factors: [<DiscreteFactor representing phi(Unblocked FEV1 (L):58, Small Airway Blockage 7 (%):16) at 0x7fbc7025be50>]\n",
      "factors: [<DiscreteFactor representing phi(Unblocked FEV1 (L):58, Small Airway Blockage 10 (%):16) at 0x7fbc7025a410>]\n",
      "factors: [<DiscreteFactor representing phi(Unblocked FEV1 (L):58, Small Airway Blockage 14 (%):16) at 0x7fbc7025a740>]\n",
      "factors: [<DiscreteFactor representing phi(Unblocked FEV1 (L):58, Small Airway Blockage 2 (%):16) at 0x7fbcd5432350>]\n",
      "factors: [<DiscreteFactor representing phi(Unblocked FEV1 (L):58, Small Airway Blockage 15 (%):16) at 0x7fbc7025a9e0>]\n",
      "factors: [<DiscreteFactor representing phi(Unblocked FEV1 (L):58, Small Airway Blockage 0 (%):16) at 0x7fbcd5431ba0>]\n",
      "factors: [<DiscreteFactor representing phi(Unblocked FEV1 (L):58, Small Airway Blockage 1 (%):16) at 0x7fbcd5431e70>]\n",
      "factors: [<DiscreteFactor representing phi(Unblocked FEV1 (L):58) at 0x7fbc6a5e0130>, <DiscreteFactor representing phi(Unblocked FEV1 (L):58) at 0x7fbc6a5e0a30>, <DiscreteFactor representing phi(Unblocked FEV1 (L):58, Small Airway Blockage 5 (%):16) at 0x7fbc70258bb0>, <DiscreteFactor representing phi(Unblocked FEV1 (L):58) at 0x7fbc6a5e0070>, <DiscreteFactor representing phi(Unblocked FEV1 (L):58) at 0x7fbc6a5e0370>, <DiscreteFactor representing phi(Unblocked FEV1 (L):58) at 0x7fbc6a5e1030>, <DiscreteFactor representing phi(Unblocked FEV1 (L):58) at 0x7fbc6a5e1900>, <DiscreteFactor representing phi(Unblocked FEV1 (L):58, Small Airway Blockage 13 (%):16) at 0x7fbc7025ac50>, <DiscreteFactor representing phi(Unblocked FEV1 (L):58) at 0x7fbc6a5e0b80>, <DiscreteFactor representing phi(Unblocked FEV1 (L):58) at 0x7fbc6a5e03d0>, <DiscreteFactor representing phi(Unblocked FEV1 (L):58, Small Airway Blockage 4 (%):16) at 0x7fbc7025ac80>, <DiscreteFactor representing phi(Unblocked FEV1 (L):58, Small Airway Blockage 12 (%):16) at 0x7fbc70259600>, <DiscreteFactor representing phi(Unblocked FEV1 (L):58) at 0x7fbc6a5e1570>, <DiscreteFactor representing phi(Unblocked FEV1 (L):58, Small Airway Blockage 11 (%):16) at 0x7fbc7025a230>, <DiscreteFactor representing phi(Unblocked FEV1 (L):58) at 0x7fbc6a5e0850>, <DiscreteFactor representing phi(Unblocked FEV1 (L):58) at 0x7fbc6a5e1540>, <DiscreteFactor representing phi(Unblocked FEV1 (L):58, Small Airway Blockage 8 (%):16) at 0x7fbc70258100>, <DiscreteFactor representing phi(Unblocked FEV1 (L):58) at 0x7fbc6a5e0610>]\n",
      "factors: [<DiscreteFactor representing phi(Small Airway Blockage 5 (%):16, Small Airway Blockage 13 (%):16, Small Airway Blockage 4 (%):16, Small Airway Blockage 12 (%):16, Small Airway Blockage 11 (%):16, Small Airway Blockage 8 (%):16) at 0x7fbc6a5e0af0>]\n",
      "factors: [<DiscreteFactor representing phi(Small Airway Blockage 13 (%):16, Small Airway Blockage 4 (%):16, Small Airway Blockage 12 (%):16, Small Airway Blockage 11 (%):16, Small Airway Blockage 8 (%):16) at 0x7fbc6a5e1900>]\n",
      "factors: [<DiscreteFactor representing phi(Small Airway Blockage 13 (%):16, Small Airway Blockage 12 (%):16, Small Airway Blockage 11 (%):16, Small Airway Blockage 8 (%):16) at 0x7fbc7025a410>]\n",
      "factors: [<DiscreteFactor representing phi(Small Airway Blockage 12 (%):16, Small Airway Blockage 11 (%):16, Small Airway Blockage 8 (%):16) at 0x7fbc7025be50>]\n",
      "factors: [<DiscreteFactor representing phi(Small Airway Blockage 11 (%):16, Small Airway Blockage 8 (%):16) at 0x7fbc6a5e1030>]\n",
      "Prepare vars to be returned\n",
      "node: Small Airway Blockage 11 (%)\n",
      "Query took 33.17999315261841s\n",
      "SAB: 12\n",
      "Preprocess query\n",
      "Run query\n",
      "Query var to list\n",
      "Find nodes with query vars\n",
      "Conversion to set of tuple\n",
      "Compute clique potentials\n",
      "Variable elimination marginalize\n"
     ]
    },
    {
     "data": {
      "application/vnd.jupyter.widget-view+json": {
       "model_id": "9aed7b3fae7240fdb03849a2424029e4",
       "version_major": 2,
       "version_minor": 0
      },
      "text/plain": [
       "  0%|          | 0/18 [00:00<?, ?it/s]"
      ]
     },
     "metadata": {},
     "output_type": "display_data"
    },
    {
     "name": "stdout",
     "output_type": "stream",
     "text": [
      "factors: [<DiscreteFactor representing phi(Unblocked FEV1 (L):58, Small Airway Blockage 16 (%):16) at 0x7fbc7025a230>]\n",
      "factors: [<DiscreteFactor representing phi(Unblocked FEV1 (L):58, Small Airway Blockage 9 (%):16) at 0x7fbc7025bfd0>]\n",
      "factors: [<DiscreteFactor representing phi(Unblocked FEV1 (L):58, Small Airway Blockage 17 (%):16) at 0x7fbc7025a410>]\n",
      "factors: [<DiscreteFactor representing phi(Unblocked FEV1 (L):58, Small Airway Blockage 3 (%):16) at 0x7fbc7025a110>]\n",
      "factors: [<DiscreteFactor representing phi(Unblocked FEV1 (L):58, Small Airway Blockage 6 (%):16) at 0x7fbc7025b970>]\n",
      "factors: [<DiscreteFactor representing phi(Unblocked FEV1 (L):58, Small Airway Blockage 11 (%):16) at 0x7fbc70259300>]\n",
      "factors: [<DiscreteFactor representing phi(Unblocked FEV1 (L):58, Small Airway Blockage 7 (%):16) at 0x7fbc7025be80>]\n",
      "factors: [<DiscreteFactor representing phi(Unblocked FEV1 (L):58, Small Airway Blockage 10 (%):16) at 0x7fbc7025bb20>]\n",
      "factors: [<DiscreteFactor representing phi(Unblocked FEV1 (L):58, Small Airway Blockage 14 (%):16) at 0x7fbc7025b850>]\n",
      "factors: [<DiscreteFactor representing phi(Unblocked FEV1 (L):58, Small Airway Blockage 2 (%):16) at 0x7fbcd5431ba0>]\n",
      "factors: [<DiscreteFactor representing phi(Unblocked FEV1 (L):58, Small Airway Blockage 15 (%):16) at 0x7fbc70258100>]\n",
      "factors: [<DiscreteFactor representing phi(Unblocked FEV1 (L):58, Small Airway Blockage 0 (%):16) at 0x7fbcd5430670>]\n",
      "factors: [<DiscreteFactor representing phi(Unblocked FEV1 (L):58, Small Airway Blockage 1 (%):16) at 0x7fbcd5431e70>]\n",
      "factors: [<DiscreteFactor representing phi(Unblocked FEV1 (L):58) at 0x7fbc6a5e1240>, <DiscreteFactor representing phi(Unblocked FEV1 (L):58) at 0x7fbc6a5e1b40>, <DiscreteFactor representing phi(Unblocked FEV1 (L):58, Small Airway Blockage 5 (%):16) at 0x7fbc7025a260>, <DiscreteFactor representing phi(Unblocked FEV1 (L):58) at 0x7fbc6a5e0b20>, <DiscreteFactor representing phi(Unblocked FEV1 (L):58) at 0x7fbc6a5e0790>, <DiscreteFactor representing phi(Unblocked FEV1 (L):58) at 0x7fbc6a5e0850>, <DiscreteFactor representing phi(Unblocked FEV1 (L):58) at 0x7fbc6a5e1cf0>, <DiscreteFactor representing phi(Unblocked FEV1 (L):58, Small Airway Blockage 13 (%):16) at 0x7fbc7025abf0>, <DiscreteFactor representing phi(Unblocked FEV1 (L):58) at 0x7fbc6a5e1e40>, <DiscreteFactor representing phi(Unblocked FEV1 (L):58) at 0x7fbc6a5e06d0>, <DiscreteFactor representing phi(Unblocked FEV1 (L):58, Small Airway Blockage 4 (%):16) at 0x7fbc7025b610>, <DiscreteFactor representing phi(Unblocked FEV1 (L):58, Small Airway Blockage 12 (%):16) at 0x7fbc70258fa0>, <DiscreteFactor representing phi(Unblocked FEV1 (L):58) at 0x7fbc6a5e0a00>, <DiscreteFactor representing phi(Unblocked FEV1 (L):58) at 0x7fbc6a5e09d0>, <DiscreteFactor representing phi(Unblocked FEV1 (L):58) at 0x7fbc6a5e03d0>, <DiscreteFactor representing phi(Unblocked FEV1 (L):58) at 0x7fbc6a5e1990>, <DiscreteFactor representing phi(Unblocked FEV1 (L):58, Small Airway Blockage 8 (%):16) at 0x7fbc70259d20>, <DiscreteFactor representing phi(Unblocked FEV1 (L):58) at 0x7fbc6a5e0250>]\n",
      "factors: [<DiscreteFactor representing phi(Small Airway Blockage 5 (%):16, Small Airway Blockage 13 (%):16, Small Airway Blockage 4 (%):16, Small Airway Blockage 12 (%):16, Small Airway Blockage 8 (%):16) at 0x7fbc6a5e20e0>]\n",
      "factors: [<DiscreteFactor representing phi(Small Airway Blockage 13 (%):16, Small Airway Blockage 4 (%):16, Small Airway Blockage 12 (%):16, Small Airway Blockage 8 (%):16) at 0x7fbc6a5e1cf0>]\n",
      "factors: [<DiscreteFactor representing phi(Small Airway Blockage 13 (%):16, Small Airway Blockage 12 (%):16, Small Airway Blockage 8 (%):16) at 0x7fbc7025bfd0>]\n",
      "factors: [<DiscreteFactor representing phi(Small Airway Blockage 12 (%):16, Small Airway Blockage 8 (%):16) at 0x7fbc70258100>]\n",
      "Prepare vars to be returned\n",
      "node: Small Airway Blockage 12 (%)\n",
      "Query took 1.1667182445526123s\n",
      "SAB: 13\n",
      "Preprocess query\n",
      "Run query\n",
      "Query var to list\n",
      "Find nodes with query vars\n",
      "Conversion to set of tuple\n",
      "Compute clique potentials\n",
      "Variable elimination marginalize\n"
     ]
    },
    {
     "data": {
      "application/vnd.jupyter.widget-view+json": {
       "model_id": "aaaddc6825ea4f1cb1f7b6c0ec1d192f",
       "version_major": 2,
       "version_minor": 0
      },
      "text/plain": [
       "  0%|          | 0/18 [00:00<?, ?it/s]"
      ]
     },
     "metadata": {},
     "output_type": "display_data"
    },
    {
     "name": "stdout",
     "output_type": "stream",
     "text": [
      "factors: [<DiscreteFactor representing phi(Unblocked FEV1 (L):58, Small Airway Blockage 16 (%):16) at 0x7fbc6a5e1f60>]\n",
      "factors: [<DiscreteFactor representing phi(Unblocked FEV1 (L):58, Small Airway Blockage 9 (%):16) at 0x7fbcd5432650>]\n",
      "factors: [<DiscreteFactor representing phi(Unblocked FEV1 (L):58, Small Airway Blockage 17 (%):16) at 0x7fbc6a5e1960>]\n",
      "factors: [<DiscreteFactor representing phi(Unblocked FEV1 (L):58, Small Airway Blockage 3 (%):16) at 0x7fbcd5432230>]\n",
      "factors: [<DiscreteFactor representing phi(Unblocked FEV1 (L):58, Small Airway Blockage 6 (%):16) at 0x7fbcd5431750>]\n",
      "factors: [<DiscreteFactor representing phi(Unblocked FEV1 (L):58, Small Airway Blockage 7 (%):16) at 0x7fbcd54323b0>]\n",
      "factors: [<DiscreteFactor representing phi(Unblocked FEV1 (L):58, Small Airway Blockage 10 (%):16) at 0x7fbcd54322f0>]\n",
      "factors: [<DiscreteFactor representing phi(Unblocked FEV1 (L):58, Small Airway Blockage 14 (%):16) at 0x7fbcd5431b70>]\n",
      "factors: [<DiscreteFactor representing phi(Unblocked FEV1 (L):58, Small Airway Blockage 2 (%):16) at 0x7fbcd54306d0>]\n",
      "factors: [<DiscreteFactor representing phi(Unblocked FEV1 (L):58, Small Airway Blockage 15 (%):16) at 0x7fbc6a5e1ea0>]\n",
      "factors: [<DiscreteFactor representing phi(Unblocked FEV1 (L):58, Small Airway Blockage 0 (%):16) at 0x7fbcd5430220>]\n",
      "factors: [<DiscreteFactor representing phi(Unblocked FEV1 (L):58, Small Airway Blockage 1 (%):16) at 0x7fbcd5432470>]\n",
      "factors: [<DiscreteFactor representing phi(Unblocked FEV1 (L):58) at 0x7fbc6a5e0880>, <DiscreteFactor representing phi(Unblocked FEV1 (L):58) at 0x7fbc6a5e2230>, <DiscreteFactor representing phi(Unblocked FEV1 (L):58, Small Airway Blockage 5 (%):16) at 0x7fbcd5430820>, <DiscreteFactor representing phi(Unblocked FEV1 (L):58) at 0x7fbc6a5e0790>, <DiscreteFactor representing phi(Unblocked FEV1 (L):58) at 0x7fbc6a5e06a0>, <DiscreteFactor representing phi(Unblocked FEV1 (L):58) at 0x7fbc6a5e1ba0>, <DiscreteFactor representing phi(Unblocked FEV1 (L):58) at 0x7fbc6a5e23e0>, <DiscreteFactor representing phi(Unblocked FEV1 (L):58, Small Airway Blockage 13 (%):16) at 0x7fbcd5432530>, <DiscreteFactor representing phi(Unblocked FEV1 (L):58) at 0x7fbc6a5e0b20>, <DiscreteFactor representing phi(Unblocked FEV1 (L):58) at 0x7fbc6a5e0610>, <DiscreteFactor representing phi(Unblocked FEV1 (L):58, Small Airway Blockage 4 (%):16) at 0x7fbcd5431f90>, <DiscreteFactor representing phi(Unblocked FEV1 (L):58, Small Airway Blockage 12 (%):16) at 0x7fbcd54300a0>, <DiscreteFactor representing phi(Unblocked FEV1 (L):58) at 0x7fbc6a5e1810>, <DiscreteFactor representing phi(Unblocked FEV1 (L):58, Small Airway Blockage 11 (%):16) at 0x7fbcd54319f0>, <DiscreteFactor representing phi(Unblocked FEV1 (L):58) at 0x7fbc6a5e1db0>, <DiscreteFactor representing phi(Unblocked FEV1 (L):58) at 0x7fbc6a5e0df0>, <DiscreteFactor representing phi(Unblocked FEV1 (L):58, Small Airway Blockage 8 (%):16) at 0x7fbcd54327d0>, <DiscreteFactor representing phi(Unblocked FEV1 (L):58) at 0x7fbc6a5e0310>]\n",
      "factors: [<DiscreteFactor representing phi(Small Airway Blockage 5 (%):16, Small Airway Blockage 13 (%):16, Small Airway Blockage 4 (%):16, Small Airway Blockage 12 (%):16, Small Airway Blockage 11 (%):16, Small Airway Blockage 8 (%):16) at 0x7fbc6a5e26b0>]\n",
      "factors: [<DiscreteFactor representing phi(Small Airway Blockage 13 (%):16, Small Airway Blockage 4 (%):16, Small Airway Blockage 12 (%):16, Small Airway Blockage 11 (%):16, Small Airway Blockage 8 (%):16) at 0x7fbc6a5e1db0>]\n",
      "factors: [<DiscreteFactor representing phi(Small Airway Blockage 13 (%):16, Small Airway Blockage 12 (%):16, Small Airway Blockage 11 (%):16, Small Airway Blockage 8 (%):16) at 0x7fbcd5432470>]\n",
      "factors: [<DiscreteFactor representing phi(Small Airway Blockage 13 (%):16, Small Airway Blockage 12 (%):16, Small Airway Blockage 8 (%):16) at 0x7fbcd5431750>]\n",
      "factors: [<DiscreteFactor representing phi(Small Airway Blockage 13 (%):16, Small Airway Blockage 8 (%):16) at 0x7fbcd5431b70>]\n",
      "Prepare vars to be returned\n",
      "node: Small Airway Blockage 13 (%)\n",
      "Query took 32.23629188537598s\n",
      "SAB: 14\n",
      "Preprocess query\n",
      "Run query\n",
      "Query var to list\n",
      "Find nodes with query vars\n",
      "Conversion to set of tuple\n",
      "Compute clique potentials\n",
      "Variable elimination marginalize\n"
     ]
    },
    {
     "data": {
      "application/vnd.jupyter.widget-view+json": {
       "model_id": "b7ce45da2a024e4494026d73226e6fa8",
       "version_major": 2,
       "version_minor": 0
      },
      "text/plain": [
       "  0%|          | 0/18 [00:00<?, ?it/s]"
      ]
     },
     "metadata": {},
     "output_type": "display_data"
    },
    {
     "name": "stdout",
     "output_type": "stream",
     "text": [
      "factors: [<DiscreteFactor representing phi(Unblocked FEV1 (L):58, Small Airway Blockage 16 (%):16) at 0x7fbcd5431b70>]\n",
      "factors: [<DiscreteFactor representing phi(Unblocked FEV1 (L):58, Small Airway Blockage 9 (%):16) at 0x7fbcd5432530>]\n",
      "factors: [<DiscreteFactor representing phi(Unblocked FEV1 (L):58, Small Airway Blockage 17 (%):16) at 0x7fbcd54301f0>]\n",
      "factors: [<DiscreteFactor representing phi(Unblocked FEV1 (L):58, Small Airway Blockage 3 (%):16) at 0x7fbcd5431db0>]\n",
      "factors: [<DiscreteFactor representing phi(Unblocked FEV1 (L):58, Small Airway Blockage 6 (%):16) at 0x7fbcd5432a70>]\n",
      "factors: [<DiscreteFactor representing phi(Unblocked FEV1 (L):58, Small Airway Blockage 11 (%):16) at 0x7fbcd54305b0>]\n",
      "factors: [<DiscreteFactor representing phi(Unblocked FEV1 (L):58, Small Airway Blockage 7 (%):16) at 0x7fbcd5431ae0>]\n",
      "factors: [<DiscreteFactor representing phi(Unblocked FEV1 (L):58, Small Airway Blockage 10 (%):16) at 0x7fbcd5433a60>]\n",
      "factors: [<DiscreteFactor representing phi(Unblocked FEV1 (L):58, Small Airway Blockage 2 (%):16) at 0x7fbcd5430880>]\n",
      "factors: [<DiscreteFactor representing phi(Unblocked FEV1 (L):58, Small Airway Blockage 15 (%):16) at 0x7fbcd54312a0>]\n",
      "factors: [<DiscreteFactor representing phi(Unblocked FEV1 (L):58, Small Airway Blockage 0 (%):16) at 0x7fbcd5431090>]\n",
      "factors: [<DiscreteFactor representing phi(Unblocked FEV1 (L):58, Small Airway Blockage 1 (%):16) at 0x7fbcd54332b0>]\n",
      "factors: [<DiscreteFactor representing phi(Unblocked FEV1 (L):58) at 0x7fbc6a5e21a0>, <DiscreteFactor representing phi(Unblocked FEV1 (L):58) at 0x7fbc6a5e27a0>, <DiscreteFactor representing phi(Unblocked FEV1 (L):58, Small Airway Blockage 5 (%):16) at 0x7fbcd5433af0>, <DiscreteFactor representing phi(Unblocked FEV1 (L):58) at 0x7fbc6a5e1fc0>, <DiscreteFactor representing phi(Unblocked FEV1 (L):58) at 0x7fbc6a5e12d0>, <DiscreteFactor representing phi(Unblocked FEV1 (L):58) at 0x7fbc6a5e1f60>, <DiscreteFactor representing phi(Unblocked FEV1 (L):58) at 0x7fbc6a5e06a0>, <DiscreteFactor representing phi(Unblocked FEV1 (L):58, Small Airway Blockage 14 (%):16) at 0x7fbcd5430a60>, <DiscreteFactor representing phi(Unblocked FEV1 (L):58, Small Airway Blockage 13 (%):16) at 0x7fbcd5431d50>, <DiscreteFactor representing phi(Unblocked FEV1 (L):58) at 0x7fbc6a5e23b0>, <DiscreteFactor representing phi(Unblocked FEV1 (L):58) at 0x7fbc6a5e1f30>, <DiscreteFactor representing phi(Unblocked FEV1 (L):58, Small Airway Blockage 4 (%):16) at 0x7fbcd5430700>, <DiscreteFactor representing phi(Unblocked FEV1 (L):58, Small Airway Blockage 12 (%):16) at 0x7fbcd5432fb0>, <DiscreteFactor representing phi(Unblocked FEV1 (L):58) at 0x7fbc6a5e1ab0>, <DiscreteFactor representing phi(Unblocked FEV1 (L):58) at 0x7fbc6a5e1a80>, <DiscreteFactor representing phi(Unblocked FEV1 (L):58) at 0x7fbc6a5e1b70>, <DiscreteFactor representing phi(Unblocked FEV1 (L):58, Small Airway Blockage 8 (%):16) at 0x7fbcd5431150>, <DiscreteFactor representing phi(Unblocked FEV1 (L):58) at 0x7fbc6a5e1d50>]\n",
      "factors: [<DiscreteFactor representing phi(Small Airway Blockage 5 (%):16, Small Airway Blockage 14 (%):16, Small Airway Blockage 13 (%):16, Small Airway Blockage 4 (%):16, Small Airway Blockage 12 (%):16, Small Airway Blockage 8 (%):16) at 0x7fbc6a5e22c0>]\n",
      "factors: [<DiscreteFactor representing phi(Small Airway Blockage 14 (%):16, Small Airway Blockage 13 (%):16, Small Airway Blockage 4 (%):16, Small Airway Blockage 12 (%):16, Small Airway Blockage 8 (%):16) at 0x7fbc6a5e06a0>]\n",
      "factors: [<DiscreteFactor representing phi(Small Airway Blockage 14 (%):16, Small Airway Blockage 13 (%):16, Small Airway Blockage 12 (%):16, Small Airway Blockage 8 (%):16) at 0x7fbcd54301f0>]\n",
      "factors: [<DiscreteFactor representing phi(Small Airway Blockage 14 (%):16, Small Airway Blockage 12 (%):16, Small Airway Blockage 8 (%):16) at 0x7fbcd5431090>]\n",
      "factors: [<DiscreteFactor representing phi(Small Airway Blockage 14 (%):16, Small Airway Blockage 8 (%):16) at 0x7fbcd5432530>]\n",
      "Prepare vars to be returned\n",
      "node: Small Airway Blockage 14 (%)\n",
      "Query took 33.46262717247009s\n",
      "SAB: 15\n",
      "Preprocess query\n",
      "Run query\n",
      "Query var to list\n",
      "Find nodes with query vars\n",
      "Conversion to set of tuple\n",
      "Compute clique potentials\n",
      "Variable elimination marginalize\n"
     ]
    },
    {
     "data": {
      "application/vnd.jupyter.widget-view+json": {
       "model_id": "b6d78c5c95a242e4ae4b3f8aa6879c70",
       "version_major": 2,
       "version_minor": 0
      },
      "text/plain": [
       "  0%|          | 0/18 [00:00<?, ?it/s]"
      ]
     },
     "metadata": {},
     "output_type": "display_data"
    },
    {
     "name": "stdout",
     "output_type": "stream",
     "text": [
      "factors: [<DiscreteFactor representing phi(Unblocked FEV1 (L):58, Small Airway Blockage 16 (%):16) at 0x7fbcd54318a0>]\n",
      "factors: [<DiscreteFactor representing phi(Unblocked FEV1 (L):58, Small Airway Blockage 9 (%):16) at 0x7fbcd5431510>]\n",
      "factors: [<DiscreteFactor representing phi(Unblocked FEV1 (L):58, Small Airway Blockage 17 (%):16) at 0x7fbcd5431390>]\n",
      "factors: [<DiscreteFactor representing phi(Unblocked FEV1 (L):58, Small Airway Blockage 3 (%):16) at 0x7fbcd5432d70>]\n",
      "factors: [<DiscreteFactor representing phi(Unblocked FEV1 (L):58, Small Airway Blockage 6 (%):16) at 0x7fbcd5432110>]\n",
      "factors: [<DiscreteFactor representing phi(Unblocked FEV1 (L):58, Small Airway Blockage 11 (%):16) at 0x7fbcd54303d0>]\n",
      "factors: [<DiscreteFactor representing phi(Unblocked FEV1 (L):58, Small Airway Blockage 7 (%):16) at 0x7fbcd5431b10>]\n",
      "factors: [<DiscreteFactor representing phi(Unblocked FEV1 (L):58, Small Airway Blockage 10 (%):16) at 0x7fbcd5430940>]\n",
      "factors: [<DiscreteFactor representing phi(Unblocked FEV1 (L):58, Small Airway Blockage 14 (%):16) at 0x7fbcd54317e0>]\n",
      "factors: [<DiscreteFactor representing phi(Unblocked FEV1 (L):58, Small Airway Blockage 2 (%):16) at 0x7fbcd5430b50>]\n",
      "factors: [<DiscreteFactor representing phi(Unblocked FEV1 (L):58, Small Airway Blockage 0 (%):16) at 0x7fbcd5433d60>]\n",
      "factors: [<DiscreteFactor representing phi(Unblocked FEV1 (L):58, Small Airway Blockage 1 (%):16) at 0x7fbcd5430ac0>]\n",
      "factors: [<DiscreteFactor representing phi(Unblocked FEV1 (L):58) at 0x7fbc6a5e2a10>, <DiscreteFactor representing phi(Unblocked FEV1 (L):58, Small Airway Blockage 5 (%):16) at 0x7fbcd54329b0>, <DiscreteFactor representing phi(Unblocked FEV1 (L):58) at 0x7fbc6a5e1030>, <DiscreteFactor representing phi(Unblocked FEV1 (L):58) at 0x7fbc6a5e22f0>, <DiscreteFactor representing phi(Unblocked FEV1 (L):58, Small Airway Blockage 15 (%):16) at 0x7fbcd5430d30>, <DiscreteFactor representing phi(Unblocked FEV1 (L):58) at 0x7fbc6a5e2110>, <DiscreteFactor representing phi(Unblocked FEV1 (L):58) at 0x7fbc6a5e3070>, <DiscreteFactor representing phi(Unblocked FEV1 (L):58, Small Airway Blockage 13 (%):16) at 0x7fbcd54306a0>, <DiscreteFactor representing phi(Unblocked FEV1 (L):58) at 0x7fbc6a5e3220>, <DiscreteFactor representing phi(Unblocked FEV1 (L):58) at 0x7fbc6a5e23b0>, <DiscreteFactor representing phi(Unblocked FEV1 (L):58, Small Airway Blockage 4 (%):16) at 0x7fbcd5433c70>, <DiscreteFactor representing phi(Unblocked FEV1 (L):58, Small Airway Blockage 12 (%):16) at 0x7fbcd5432ad0>, <DiscreteFactor representing phi(Unblocked FEV1 (L):58) at 0x7fbc6a5e2d70>, <DiscreteFactor representing phi(Unblocked FEV1 (L):58) at 0x7fbc6a5e2860>, <DiscreteFactor representing phi(Unblocked FEV1 (L):58) at 0x7fbc6a5e2bc0>, <DiscreteFactor representing phi(Unblocked FEV1 (L):58) at 0x7fbc6a5e2f20>, <DiscreteFactor representing phi(Unblocked FEV1 (L):58, Small Airway Blockage 8 (%):16) at 0x7fbcd5431450>, <DiscreteFactor representing phi(Unblocked FEV1 (L):58) at 0x7fbc6a5e1270>]\n",
      "factors: [<DiscreteFactor representing phi(Small Airway Blockage 5 (%):16, Small Airway Blockage 15 (%):16, Small Airway Blockage 13 (%):16, Small Airway Blockage 4 (%):16, Small Airway Blockage 12 (%):16, Small Airway Blockage 8 (%):16) at 0x7fbc6a5e09a0>]\n",
      "factors: [<DiscreteFactor representing phi(Small Airway Blockage 15 (%):16, Small Airway Blockage 13 (%):16, Small Airway Blockage 4 (%):16, Small Airway Blockage 12 (%):16, Small Airway Blockage 8 (%):16) at 0x7fbc6a5e3220>]\n",
      "factors: [<DiscreteFactor representing phi(Small Airway Blockage 15 (%):16, Small Airway Blockage 13 (%):16, Small Airway Blockage 12 (%):16, Small Airway Blockage 8 (%):16) at 0x7fbcd5431390>]\n",
      "factors: [<DiscreteFactor representing phi(Small Airway Blockage 15 (%):16, Small Airway Blockage 12 (%):16, Small Airway Blockage 8 (%):16) at 0x7fbcd54317e0>]\n",
      "factors: [<DiscreteFactor representing phi(Small Airway Blockage 15 (%):16, Small Airway Blockage 8 (%):16) at 0x7fbcd5431510>]\n",
      "Prepare vars to be returned\n",
      "node: Small Airway Blockage 15 (%)\n",
      "Query took 32.84861183166504s\n",
      "SAB: 16\n",
      "Preprocess query\n",
      "Run query\n",
      "Query var to list\n",
      "Find nodes with query vars\n",
      "Conversion to set of tuple\n",
      "Compute clique potentials\n",
      "Variable elimination marginalize\n"
     ]
    },
    {
     "data": {
      "application/vnd.jupyter.widget-view+json": {
       "model_id": "acb961ae6d904f75b2afa9927ce49675",
       "version_major": 2,
       "version_minor": 0
      },
      "text/plain": [
       "  0%|          | 0/18 [00:00<?, ?it/s]"
      ]
     },
     "metadata": {},
     "output_type": "display_data"
    },
    {
     "name": "stdout",
     "output_type": "stream",
     "text": [
      "factors: [<DiscreteFactor representing phi(Unblocked FEV1 (L):58, Small Airway Blockage 9 (%):16) at 0x7fbcd5433ca0>]\n",
      "factors: [<DiscreteFactor representing phi(Unblocked FEV1 (L):58, Small Airway Blockage 17 (%):16) at 0x7fbc6a5e2590>]\n",
      "factors: [<DiscreteFactor representing phi(Unblocked FEV1 (L):58, Small Airway Blockage 3 (%):16) at 0x7fbcd5431a20>]\n",
      "factors: [<DiscreteFactor representing phi(Unblocked FEV1 (L):58, Small Airway Blockage 6 (%):16) at 0x7fbcd5430370>]\n",
      "factors: [<DiscreteFactor representing phi(Unblocked FEV1 (L):58, Small Airway Blockage 11 (%):16) at 0x7fbcd54312a0>]\n",
      "factors: [<DiscreteFactor representing phi(Unblocked FEV1 (L):58, Small Airway Blockage 7 (%):16) at 0x7fbcd5431390>]\n",
      "factors: [<DiscreteFactor representing phi(Unblocked FEV1 (L):58, Small Airway Blockage 10 (%):16) at 0x7fbcd54317e0>]\n",
      "factors: [<DiscreteFactor representing phi(Unblocked FEV1 (L):58, Small Airway Blockage 14 (%):16) at 0x7fbcd5432890>]\n",
      "factors: [<DiscreteFactor representing phi(Unblocked FEV1 (L):58, Small Airway Blockage 2 (%):16) at 0x7fbcd5430190>]\n",
      "factors: [<DiscreteFactor representing phi(Unblocked FEV1 (L):58, Small Airway Blockage 15 (%):16) at 0x7fbc6a5e31c0>]\n",
      "factors: [<DiscreteFactor representing phi(Unblocked FEV1 (L):58, Small Airway Blockage 0 (%):16) at 0x7fbcd5433520>]\n",
      "factors: [<DiscreteFactor representing phi(Unblocked FEV1 (L):58, Small Airway Blockage 1 (%):16) at 0x7fbcd5433760>]\n",
      "factors: [<DiscreteFactor representing phi(Unblocked FEV1 (L):58) at 0x7fbc6a5e0e50>, <DiscreteFactor representing phi(Unblocked FEV1 (L):58) at 0x7fbc6a5e1030>, <DiscreteFactor representing phi(Unblocked FEV1 (L):58, Small Airway Blockage 5 (%):16) at 0x7fbcd5432a70>, <DiscreteFactor representing phi(Unblocked FEV1 (L):58) at 0x7fbc6a5e2e90>, <DiscreteFactor representing phi(Unblocked FEV1 (L):58) at 0x7fbc6a5e2fb0>, <DiscreteFactor representing phi(Unblocked FEV1 (L):58) at 0x7fbc6a5e2980>, <DiscreteFactor representing phi(Unblocked FEV1 (L):58, Small Airway Blockage 13 (%):16) at 0x7fbcd5431d20>, <DiscreteFactor representing phi(Unblocked FEV1 (L):58) at 0x7fbc6a5e33d0>, <DiscreteFactor representing phi(Unblocked FEV1 (L):58) at 0x7fbc6a5e09a0>, <DiscreteFactor representing phi(Unblocked FEV1 (L):58, Small Airway Blockage 4 (%):16) at 0x7fbcd5431150>, <DiscreteFactor representing phi(Unblocked FEV1 (L):58, Small Airway Blockage 12 (%):16) at 0x7fbcd5430d30>, <DiscreteFactor representing phi(Unblocked FEV1 (L):58) at 0x7fbc6a5e1b70>, <DiscreteFactor representing phi(Unblocked FEV1 (L):58) at 0x7fbc6a5e0160>, <DiscreteFactor representing phi(Unblocked FEV1 (L):58) at 0x7fbc6a5e25f0>, <DiscreteFactor representing phi(Unblocked FEV1 (L):58) at 0x7fbc6a5e0970>, <DiscreteFactor representing phi(Unblocked FEV1 (L):58, Small Airway Blockage 8 (%):16) at 0x7fbcd5431510>, <DiscreteFactor representing phi(Unblocked FEV1 (L):58) at 0x7fbc6a5e0a60>, <DiscreteFactor representing phi(Unblocked FEV1 (L):58, Small Airway Blockage 16 (%):16) at 0x7fbc6a5e03a0>]\n",
      "factors: [<DiscreteFactor representing phi(Small Airway Blockage 5 (%):16, Small Airway Blockage 13 (%):16, Small Airway Blockage 4 (%):16, Small Airway Blockage 12 (%):16, Small Airway Blockage 8 (%):16, Small Airway Blockage 16 (%):16) at 0x7fbcd5432530>]\n",
      "factors: [<DiscreteFactor representing phi(Small Airway Blockage 13 (%):16, Small Airway Blockage 4 (%):16, Small Airway Blockage 12 (%):16, Small Airway Blockage 8 (%):16, Small Airway Blockage 16 (%):16) at 0x7fbc6a5e33d0>]\n",
      "factors: [<DiscreteFactor representing phi(Small Airway Blockage 13 (%):16, Small Airway Blockage 12 (%):16, Small Airway Blockage 8 (%):16, Small Airway Blockage 16 (%):16) at 0x7fbcd5431090>]\n",
      "factors: [<DiscreteFactor representing phi(Small Airway Blockage 12 (%):16, Small Airway Blockage 8 (%):16, Small Airway Blockage 16 (%):16) at 0x7fbcd5431630>]\n",
      "factors: [<DiscreteFactor representing phi(Small Airway Blockage 8 (%):16, Small Airway Blockage 16 (%):16) at 0x7fbcd54312a0>]\n",
      "Prepare vars to be returned\n",
      "node: Small Airway Blockage 16 (%)\n",
      "Query took 17.821027755737305s\n",
      "SAB: 17\n",
      "Preprocess query\n",
      "Run query\n",
      "Query var to list\n",
      "Find nodes with query vars\n",
      "Conversion to set of tuple\n",
      "Compute clique potentials\n",
      "Variable elimination marginalize\n"
     ]
    },
    {
     "data": {
      "application/vnd.jupyter.widget-view+json": {
       "model_id": "174a4029af034385b27a4a994ff84d50",
       "version_major": 2,
       "version_minor": 0
      },
      "text/plain": [
       "  0%|          | 0/18 [00:00<?, ?it/s]"
      ]
     },
     "metadata": {},
     "output_type": "display_data"
    },
    {
     "name": "stdout",
     "output_type": "stream",
     "text": [
      "factors: [<DiscreteFactor representing phi(Unblocked FEV1 (L):58, Small Airway Blockage 16 (%):16) at 0x7fbcd5432bf0>]\n",
      "factors: [<DiscreteFactor representing phi(Unblocked FEV1 (L):58, Small Airway Blockage 9 (%):16) at 0x7fbcd5431ae0>]\n",
      "factors: [<DiscreteFactor representing phi(Unblocked FEV1 (L):58, Small Airway Blockage 3 (%):16) at 0x7fbcd5431420>]\n",
      "factors: [<DiscreteFactor representing phi(Unblocked FEV1 (L):58, Small Airway Blockage 7 (%):16) at 0x7fbcd5430310>]\n",
      "factors: [<DiscreteFactor representing phi(Unblocked FEV1 (L):58, Small Airway Blockage 6 (%):16) at 0x7fbcd5431e70>]\n",
      "factors: [<DiscreteFactor representing phi(Unblocked FEV1 (L):58, Small Airway Blockage 11 (%):16) at 0x7fbcd5430a30>]\n",
      "factors: [<DiscreteFactor representing phi(Unblocked FEV1 (L):58, Small Airway Blockage 10 (%):16) at 0x7fbcd5431270>]\n",
      "factors: [<DiscreteFactor representing phi(Unblocked FEV1 (L):58, Small Airway Blockage 14 (%):16) at 0x7fbcd5433a90>]\n",
      "factors: [<DiscreteFactor representing phi(Unblocked FEV1 (L):58, Small Airway Blockage 2 (%):16) at 0x7fbcd5430d60>]\n",
      "factors: [<DiscreteFactor representing phi(Unblocked FEV1 (L):58, Small Airway Blockage 15 (%):16) at 0x7fbcd5430700>]\n",
      "factors: [<DiscreteFactor representing phi(Unblocked FEV1 (L):58, Small Airway Blockage 0 (%):16) at 0x7fbcd54305b0>]\n",
      "factors: [<DiscreteFactor representing phi(Unblocked FEV1 (L):58, Small Airway Blockage 1 (%):16) at 0x7fbcd54339a0>]\n",
      "factors: [<DiscreteFactor representing phi(Unblocked FEV1 (L):58) at 0x7fbc6a5e2fb0>, <DiscreteFactor representing phi(Unblocked FEV1 (L):58) at 0x7fbc6a5e2b90>, <DiscreteFactor representing phi(Unblocked FEV1 (L):58, Small Airway Blockage 5 (%):16) at 0x7fbcd5431870>, <DiscreteFactor representing phi(Unblocked FEV1 (L):58) at 0x7fbc6a5e2ef0>, <DiscreteFactor representing phi(Unblocked FEV1 (L):58) at 0x7fbc6a5e0850>, <DiscreteFactor representing phi(Unblocked FEV1 (L):58) at 0x7fbc6a5e3040>, <DiscreteFactor representing phi(Unblocked FEV1 (L):58) at 0x7fbc6a5e2e30>, <DiscreteFactor representing phi(Unblocked FEV1 (L):58, Small Airway Blockage 13 (%):16) at 0x7fbcd5431ba0>, <DiscreteFactor representing phi(Unblocked FEV1 (L):58, Small Airway Blockage 17 (%):16) at 0x7fbcd5433940>, <DiscreteFactor representing phi(Unblocked FEV1 (L):58) at 0x7fbc6a5e2140>, <DiscreteFactor representing phi(Unblocked FEV1 (L):58, Small Airway Blockage 4 (%):16) at 0x7fbcd5432050>, <DiscreteFactor representing phi(Unblocked FEV1 (L):58, Small Airway Blockage 12 (%):16) at 0x7fbcd5430bb0>, <DiscreteFactor representing phi(Unblocked FEV1 (L):58) at 0x7fbc6a5e1a80>, <DiscreteFactor representing phi(Unblocked FEV1 (L):58) at 0x7fbc6a5e26e0>, <DiscreteFactor representing phi(Unblocked FEV1 (L):58) at 0x7fbc6a5e3370>, <DiscreteFactor representing phi(Unblocked FEV1 (L):58) at 0x7fbc6a5e2830>, <DiscreteFactor representing phi(Unblocked FEV1 (L):58, Small Airway Blockage 8 (%):16) at 0x7fbcd5430430>, <DiscreteFactor representing phi(Unblocked FEV1 (L):58) at 0x7fbc6a5e25c0>]\n",
      "factors: [<DiscreteFactor representing phi(Small Airway Blockage 5 (%):16, Small Airway Blockage 13 (%):16, Small Airway Blockage 17 (%):16, Small Airway Blockage 4 (%):16, Small Airway Blockage 12 (%):16, Small Airway Blockage 8 (%):16) at 0x7fbc6a5e1bd0>]\n",
      "factors: [<DiscreteFactor representing phi(Small Airway Blockage 13 (%):16, Small Airway Blockage 17 (%):16, Small Airway Blockage 4 (%):16, Small Airway Blockage 12 (%):16, Small Airway Blockage 8 (%):16) at 0x7fbc6a5e2e30>]\n",
      "factors: [<DiscreteFactor representing phi(Small Airway Blockage 13 (%):16, Small Airway Blockage 17 (%):16, Small Airway Blockage 12 (%):16, Small Airway Blockage 8 (%):16) at 0x7fbcd54339a0>]\n",
      "factors: [<DiscreteFactor representing phi(Small Airway Blockage 17 (%):16, Small Airway Blockage 12 (%):16, Small Airway Blockage 8 (%):16) at 0x7fbcd5431ae0>]\n",
      "factors: [<DiscreteFactor representing phi(Small Airway Blockage 17 (%):16, Small Airway Blockage 8 (%):16) at 0x7fbcd54305b0>]\n",
      "Prepare vars to be returned\n",
      "node: Small Airway Blockage 17 (%)\n",
      "Query took 34.36121582984924s\n"
     ]
    }
   ],
   "source": [
    "# TODO: takes 1m16 to run for 1 patient (with 16 days of data)\n",
    "for id in ['101', '124', '128', '129', '152', '130']:\n",
    "# for id in ['131', '100']:\n",
    "\n",
    "    print(\"ID: \", id)\n",
    "    df_for_ID = O2_FEV1[O2_FEV1.ID == id][0:18]\n",
    "\n",
    "    # Create model tailored to pat ient\n",
    "    height = df_for_ID.Height.values[0]\n",
    "    age = df_for_ID.Age.values[0]\n",
    "    sex = df_for_ID.Sex.values[0]\n",
    "    HFEV1_prior = model_lung_health.set_HFEV1_prior(\"gaussian\", height, age, sex)\n",
    "    (\n",
    "        model,\n",
    "        inference,\n",
    "        HFEV1,\n",
    "        prior_HFEV1,\n",
    "        LD,\n",
    "        prior_LD,\n",
    "        UFEV1,\n",
    "        SAB_list,\n",
    "        prior_SAB_i,\n",
    "        FEV1_list,\n",
    "    ) = model_lung_health.build_longitudinal_FEV1_side(\n",
    "        df_for_ID.shape[0], HFEV1_prior=HFEV1_prior\n",
    "    )\n",
    "\n",
    "    # Prepare inference\n",
    "    ## Set data structures for priors\n",
    "    df_ld_prior = pd.DataFrame(\n",
    "        index=LD.bins_str, columns=[\"prior\"], data=prior_LD.values\n",
    "    )\n",
    "    df_hfev1_prior = pd.DataFrame(\n",
    "        index=HFEV1.bins_str, columns=[\"prior\"], data=prior_HFEV1.values\n",
    "    )\n",
    "    df_sab_i_prior = pd.DataFrame(\n",
    "        index=SAB_list[0].bins_str, columns=[\"prior\"], data=prior_SAB_i.values\n",
    "    )\n",
    "\n",
    "    ## Set data structures for posteriors\n",
    "    fev1 = df_for_ID.FEV1.values\n",
    "    days = df_for_ID[\"Date recorded\"].astype(str).values\n",
    "\n",
    "    ## Create empty dataframe of with HFEV1.bins as index name, and days as column names\n",
    "    df_ld_posterior = pd.DataFrame(index=LD.bins_str, columns=[\"posterior\"])\n",
    "    df_hfev1_posterior = pd.DataFrame(index=HFEV1.bins_str, columns=[\"posterior\"])\n",
    "    df_ufev1_posterior = pd.DataFrame(index=UFEV1.bins_str, columns=[\"posterior\"])\n",
    "    df_sab_posteriors = pd.DataFrame(index=SAB_list[0].bins_str, columns=days)\n",
    "\n",
    "    # Element-wise join of FEV1 var and fev1 evidence\n",
    "    evidences = list(zip(FEV1_list, fev1))\n",
    "\n",
    "    # Run inference queries\n",
    "    print(\"Run inference queries\")\n",
    "    res = model_lung_health.infer(inference, [HFEV1, LD, UFEV1], evidences, joint=False)\n",
    "    df_hfev1_posterior[\"posterior\"] = res[HFEV1.name].values\n",
    "    df_ld_posterior[\"posterior\"] = res[LD.name].values\n",
    "    df_ufev1_posterior[\"posterior\"] = res[UFEV1.name].values\n",
    "\n",
    "    # Run SAB inference queries\n",
    "    print(\"Run SAB inference queries\")\n",
    "    ## Running the inference takes 35s per SAB.\n",
    "    ## Sometimes running the inference takes only 0.4s\n",
    "    ## Potential cause: The run crashes when you try to infer too many variables at once because\n",
    "    ## pgmpy computes the joint distribution of all variables, which hits\n",
    "    ## numpy's restriction of max 32-dimensional matrices\n",
    "    for i in range(len(SAB_list)):\n",
    "        print(f\"SAB: {i}\")\n",
    "        res = model_lung_health.infer(inference, [SAB_list[i]], evidences, joint=False)\n",
    "        df_sab_posteriors[days[i]] = res[SAB_list[i].name].values\n",
    "\n",
    "    # Create heatmap using sns with df_hfev1_posterior index on x, columns on y, coloured by values\n",
    "    title = f\"Longitudinal inference with shared LD (ID {id}, {height}cm, {age}yr, {sex})\"\n",
    "\n",
    "    fig_width = 1 + round(len(fev1) / 2)\n",
    "    fig = plt.figure(figsize=(round(fig_width * 1.3 + 2), 20))\n",
    "\n",
    "    # 1 col unit is equivalent to the Index + 1 col, or 2 cols\n",
    "    gs = GridSpec(nrows=5, ncols=fig_width)\n",
    "\n",
    "    fig.suptitle(title, fontsize=16, y=1.005)\n",
    "\n",
    "    ax_scatter = plt.subplot(gs[4, 1:fig_width])\n",
    "    sns.scatterplot(x=days, y=fev1, ax=ax_scatter)\n",
    "\n",
    "    # Add heatmaps of priors and posteriors\n",
    "    ax = plt.subplot(gs[0:3, 0])\n",
    "    add_heatmap_to_fig(df_hfev1_prior, ax, \"Blues\")\n",
    "\n",
    "    ax = plt.subplot(gs[0:3, 1])\n",
    "    add_heatmap_to_fig(df_hfev1_posterior, ax, \"Blues\", \"Healthy FEV1\")\n",
    "\n",
    "    ax = plt.subplot(gs[1, 3])\n",
    "    add_heatmap_to_fig(df_ld_prior, ax, \"Reds\")\n",
    "    ax = plt.subplot(gs[1, 4])\n",
    "    add_heatmap_to_fig(df_ld_posterior, ax, \"Reds\", \"Lung Damage\")\n",
    "\n",
    "    ax = plt.subplot(gs[0:3, 6])\n",
    "    add_heatmap_to_fig(df_ufev1_posterior, ax, \"Blues\", \"Unblocked FEV1\")\n",
    "\n",
    "    ax = plt.subplot(gs[3, 0])\n",
    "    add_heatmap_to_fig(df_sab_i_prior, ax, \"Greens\")\n",
    "\n",
    "    ax = plt.subplot(gs[3, 1:fig_width])\n",
    "    add_heatmap_to_fig(df_sab_posteriors, ax, \"Greens\", \"Small Airway Blockage\")\n",
    "\n",
    "    plt.tight_layout()\n",
    "    plt.savefig(f\"{plotsdir}longitudinal_inference_shared_ld/{title}.png\")\n",
    "    plt.close()"
   ]
  },
  {
   "cell_type": "code",
   "execution_count": null,
   "metadata": {},
   "outputs": [],
   "source": [
    "# model.get_cpds()\n",
    "\n",
    "# nx.draw(\n",
    "#     model,\n",
    "#     with_labels=True,\n",
    "#     node_size=2000,\n",
    "#     node_color=\"skyblue\",\n",
    "#     node_shape=\"o\",\n",
    "#     alpha=0.7,\n",
    "#     linewidths=5,\n",
    "# )\n",
    "# plt.show()\n",
    "# model.nodes()\n"
   ]
  },
  {
   "cell_type": "code",
   "execution_count": 6,
   "metadata": {},
   "outputs": [
    {
     "data": {
      "text/plain": [
       "<Figure size 720x1440 with 0 Axes>"
      ]
     },
     "metadata": {},
     "output_type": "display_data"
    }
   ],
   "source": [
    "fig = plt.figure(figsize=(10, 20))\n",
    "plt.savefig(f\"{plotsdir}/longitudinal_inference_shared_ld/hey.png\")"
   ]
  },
  {
   "cell_type": "code",
   "execution_count": null,
   "metadata": {},
   "outputs": [],
   "source": []
  }
 ],
 "metadata": {
  "kernelspec": {
   "display_name": "phd",
   "language": "python",
   "name": "python3"
  },
  "language_info": {
   "codemirror_mode": {
    "name": "ipython",
    "version": 3
   },
   "file_extension": ".py",
   "mimetype": "text/x-python",
   "name": "python",
   "nbconvert_exporter": "python",
   "pygments_lexer": "ipython3",
   "version": "3.10.13"
  }
 },
 "nbformat": 4,
 "nbformat_minor": 2
}
