{
 "cells": [
  {
   "cell_type": "code",
   "execution_count": 2,
   "metadata": {},
   "outputs": [],
   "source": [
    "import pandas as pd\n",
    "\n",
    "import src.data.helpers as dh"
   ]
  },
  {
   "cell_type": "code",
   "execution_count": 8,
   "metadata": {},
   "outputs": [
    {
     "data": {
      "text/plain": [
       "'/Users/tristan.trebaol/Desktop/PhD/ExcelFiles/BR/raw_data/Breathe_Spirometer_20231113.xlsx'"
      ]
     },
     "execution_count": 8,
     "metadata": {},
     "output_type": "execute_result"
    }
   ],
   "source": [
    "path = dh.get_path_to_main() + 'ExcelFiles/BR/raw_data/Breathe_Spirometer_20231113.xlsx'\n",
    "path"
   ]
  },
  {
   "cell_type": "code",
   "execution_count": 9,
   "metadata": {},
   "outputs": [],
   "source": [
    "df = dh.load_excel(path)"
   ]
  },
  {
   "cell_type": "code",
   "execution_count": 11,
   "metadata": {},
   "outputs": [
    {
     "data": {
      "text/plain": [
       "0         326.0\n",
       "1         353.0\n",
       "2         351.0\n",
       "4         333.0\n",
       "5         353.0\n",
       "          ...  \n",
       "104319    267.0\n",
       "104320    269.0\n",
       "104321    250.0\n",
       "104322    269.0\n",
       "104323    252.0\n",
       "Name: PEF, Length: 69367, dtype: float64"
      ]
     },
     "execution_count": 11,
     "metadata": {},
     "output_type": "execute_result"
    }
   ],
   "source": [
    "df.PEF[df.PEF > 0]"
   ]
  },
  {
   "cell_type": "code",
   "execution_count": 12,
   "metadata": {},
   "outputs": [
    {
     "data": {
      "text/plain": [
       "0         2.73\n",
       "1         2.68\n",
       "2         2.70\n",
       "3         2.88\n",
       "4         2.57\n",
       "          ... \n",
       "104319    1.28\n",
       "104320    1.30\n",
       "104321    1.18\n",
       "104322    1.36\n",
       "104323    1.35\n",
       "Name: FEV1, Length: 103528, dtype: float64"
      ]
     },
     "execution_count": 12,
     "metadata": {},
     "output_type": "execute_result"
    }
   ],
   "source": [
    "df.FEV1[df.FEV1 > 0]"
   ]
  },
  {
   "cell_type": "code",
   "execution_count": null,
   "metadata": {},
   "outputs": [],
   "source": []
  }
 ],
 "metadata": {
  "kernelspec": {
   "display_name": "phd",
   "language": "python",
   "name": "python3"
  },
  "language_info": {
   "codemirror_mode": {
    "name": "ipython",
    "version": 3
   },
   "file_extension": ".py",
   "mimetype": "text/x-python",
   "name": "python",
   "nbconvert_exporter": "python",
   "pygments_lexer": "ipython3",
   "version": "3.1.0"
  }
 },
 "nbformat": 4,
 "nbformat_minor": 2
}
