{
 "cells": [
  {
   "cell_type": "code",
   "execution_count": 1,
   "metadata": {},
   "outputs": [],
   "source": [
    "import src.data.breathe_data as bd\n",
    "import pandas as pd\n",
    "import src.data.helpers as dh"
   ]
  },
  {
   "cell_type": "markdown",
   "metadata": {},
   "source": [
    "## Analyse Age"
   ]
  },
  {
   "cell_type": "code",
   "execution_count": 9,
   "metadata": {},
   "outputs": [],
   "source": [
    "patient_df = pd.read_csv(\n",
    "    dh.get_path_to_main() + \"DataFiles/BR/processedRedCapData/brPatient_20240509.csv\",\n",
    "    # usecols=[\"A\", \"B\", \"E\", \"F\", \"G\", \"H\", \"I\", \"R\", \"X\"],\n",
    "    usecols=[0, 1, 3, 4, 5, 6, 7, 8, 17, 23, 24],\n",
    ")"
   ]
  },
  {
   "cell_type": "code",
   "execution_count": 11,
   "metadata": {},
   "outputs": [
    {
     "data": {
      "text/html": [
       "<div>\n",
       "<style scoped>\n",
       "    .dataframe tbody tr th:only-of-type {\n",
       "        vertical-align: middle;\n",
       "    }\n",
       "\n",
       "    .dataframe tbody tr th {\n",
       "        vertical-align: top;\n",
       "    }\n",
       "\n",
       "    .dataframe thead th {\n",
       "        text-align: right;\n",
       "    }\n",
       "</style>\n",
       "<table border=\"1\" class=\"dataframe\">\n",
       "  <thead>\n",
       "    <tr style=\"text-align: right;\">\n",
       "      <th></th>\n",
       "      <th>ID</th>\n",
       "      <th>REDCapID</th>\n",
       "      <th>StudyDate</th>\n",
       "      <th>DOB</th>\n",
       "      <th>Age</th>\n",
       "      <th>Sex</th>\n",
       "      <th>Height</th>\n",
       "      <th>Weight</th>\n",
       "      <th>PartitionKey</th>\n",
       "      <th>CalcAgeExact</th>\n",
       "      <th>CalcAge</th>\n",
       "    </tr>\n",
       "  </thead>\n",
       "  <tbody>\n",
       "    <tr>\n",
       "      <th>101</th>\n",
       "      <td>28-40</td>\n",
       "      <td>28-40</td>\n",
       "      <td>2022-10-24</td>\n",
       "      <td>1979-10-08</td>\n",
       "      <td>42.0</td>\n",
       "      <td>Female</td>\n",
       "      <td>166.0</td>\n",
       "      <td>105.0</td>\n",
       "      <td>f6648353-330f-45f5-9390-0c4b7da9bef3</td>\n",
       "      <td>43.043806</td>\n",
       "      <td>43</td>\n",
       "    </tr>\n",
       "    <tr>\n",
       "      <th>257</th>\n",
       "      <td>173</td>\n",
       "      <td>173</td>\n",
       "      <td>2019-12-13</td>\n",
       "      <td>1994-11-17</td>\n",
       "      <td>24.0</td>\n",
       "      <td>Female</td>\n",
       "      <td>167.0</td>\n",
       "      <td>67.0</td>\n",
       "      <td>b5459a25-ce81-4205-a319-e8bbcb514fdb</td>\n",
       "      <td>25.071184</td>\n",
       "      <td>25</td>\n",
       "    </tr>\n",
       "    <tr>\n",
       "      <th>338</th>\n",
       "      <td>293</td>\n",
       "      <td>293</td>\n",
       "      <td>2020-09-29</td>\n",
       "      <td>1991-08-26</td>\n",
       "      <td>28.0</td>\n",
       "      <td>Female</td>\n",
       "      <td>166.0</td>\n",
       "      <td>70.2</td>\n",
       "      <td>7d47a724-c741-4d2f-a402-cbcf7d425cd8</td>\n",
       "      <td>29.091547</td>\n",
       "      <td>29</td>\n",
       "    </tr>\n",
       "  </tbody>\n",
       "</table>\n",
       "</div>"
      ],
      "text/plain": [
       "        ID REDCapID   StudyDate         DOB   Age     Sex  Height  Weight  \\\n",
       "101  28-40    28-40  2022-10-24  1979-10-08  42.0  Female   166.0   105.0   \n",
       "257    173      173  2019-12-13  1994-11-17  24.0  Female   167.0    67.0   \n",
       "338    293      293  2020-09-29  1991-08-26  28.0  Female   166.0    70.2   \n",
       "\n",
       "                             PartitionKey  CalcAgeExact  CalcAge  \n",
       "101  f6648353-330f-45f5-9390-0c4b7da9bef3     43.043806       43  \n",
       "257  b5459a25-ce81-4205-a319-e8bbcb514fdb     25.071184       25  \n",
       "338  7d47a724-c741-4d2f-a402-cbcf7d425cd8     29.091547       29  "
      ]
     },
     "execution_count": 11,
     "metadata": {},
     "output_type": "execute_result"
    }
   ],
   "source": [
    "# Only 3 people have are 1 year older than the displayed age (vs the calc age).\n",
    "# Age is fine to use.\n",
    "patient_df[patient_df[\"CalcAge\"] - patient_df[\"Age\"] >= 1]"
   ]
  },
  {
   "cell_type": "markdown",
   "metadata": {},
   "source": [
    "## Analyse ID vs RedCap ID"
   ]
  },
  {
   "cell_type": "code",
   "execution_count": 22,
   "metadata": {},
   "outputs": [],
   "source": [
    "patient_df = pd.read_csv(\n",
    "    dh.get_path_to_main() + \"DataFiles/BR/REDCapData/ProcessedData/brPatient_20240509.csv\",\n",
    "    # usecols=[\"A\", \"B\", \"E\", \"F\", \"G\", \"H\", \"I\", \"R\"],\n",
    "    usecols=[0, 1, 4, 5, 6, 7, 8, 17],\n",
    ")"
   ]
  },
  {
   "cell_type": "code",
   "execution_count": 24,
   "metadata": {},
   "outputs": [
    {
     "data": {
      "text/plain": [
       "ID                int64\n",
       "REDCapID         object\n",
       "DOB              object\n",
       "Age             float64\n",
       "Sex              object\n",
       "Height          float64\n",
       "Weight          float64\n",
       "PartitionKey     object\n",
       "dtype: object"
      ]
     },
     "execution_count": 24,
     "metadata": {},
     "output_type": "execute_result"
    }
   ],
   "source": [
    "patient_df.dtypes"
   ]
  },
  {
   "cell_type": "code",
   "execution_count": 53,
   "metadata": {},
   "outputs": [
    {
     "data": {
      "text/plain": [
       "ID           object\n",
       "redcap_id    object\n",
       "dtype: object"
      ]
     },
     "execution_count": 53,
     "metadata": {},
     "output_type": "execute_result"
    }
   ],
   "source": [
    "idmap = pd.read_excel(dh.get_path_to_main() + 'DataFiles/BR/REDCapData/IDMappingFiles/PatientIDMappingFile-20240509.xlsx',\n",
    "                      dtype={'ID': str, 'redcap_id': str})\n",
    "# idmap['ID'] = idmap['ID'].astype(str)\n",
    "# idmap['redcap_id'] = idmap['redcap_id'].astype(str)\n",
    "idmap.dtypes\n",
    "# patient_df.merge(idmap, left_on='ID', right_on='ID')"
   ]
  },
  {
   "cell_type": "code",
   "execution_count": 54,
   "metadata": {},
   "outputs": [],
   "source": [
    "raw_df = pd.read_csv(\n",
    "    dh.get_path_to_main() + \"DataFiles/BR/REDCapData/DataExportFiles/AnalysisOfRemoteMoni_DATA_2023-11-29_1445.csv\",\n",
    "    # usecols=[\"A\", \"B\", \"E\", \"F\", \"G\", \"H\", \"I\", \"R\"],\n",
    "    usecols=[0, 1],\n",
    "    dtype={'study_id': str}\n",
    ")\n",
    "# raw_df['study_id'] = raw_df['study_id'].astype(str)"
   ]
  },
  {
   "cell_type": "code",
   "execution_count": 55,
   "metadata": {},
   "outputs": [
    {
     "name": "stdout",
     "output_type": "stream",
     "text": [
      "(21578, 4)\n",
      "['316' '317' '318' '319' '320' '321' '322' '323' '324' '325' '326' '327'\n",
      " '328' '329' '330' '331' '332' '333' '334' '335' '336' '337' '338' '339'\n",
      " '340' '341' '342' '343' '344' '345' '346' '347' '348' '349' '350' '359'\n",
      " '360' '361' '376' '377' '378' '379' '380' '381' '382' '383' '384' '351'\n",
      " '352' '353' '354' '355' '356' '357' '358' '362' '363' '364' '365' '366'\n",
      " '367' '368' '369' '370' '385' '386' '387' '371' '372' '373' '374' '375'\n",
      " '388' '389' '390' '391' '392' '393' '394' '395' '396' '397' '398' '399'\n",
      " '400' '401' '402' '403' '404' '405' '406' '407' '408' '409' '410' '411'\n",
      " '412' '413' '414' '415' '416' '417' '418' '419' '420' '421' '422' '423'\n",
      " '424' '425' '426' '427' '428' '429' '430' '431' '432' '433' '434' '435'\n",
      " '436' '437' '438' '439' '440' '441' '442' '443' '444' '445' '446' '447'\n",
      " '448' '449' '450' '451' '452' '453' '454' '455' '456' '101' '102' '103'\n",
      " '104' '105' '106' '107' '108' '109' '110' '111' '112' '113' '114' '115'\n",
      " '116' '117' '118' '119' '120' '121' '122' '123' '124' '125' '126' '127'\n",
      " '128' '129' '130' '131' '132' '133' '134' '135' '136' '137' '138' '139'\n",
      " '140' '141' '142' '143' '144' '145' '146' '147' '148' '149' '150' '151'\n",
      " '152' '153' '154' '155' '156' '157' '158' '159' '160' '161' '162' '163'\n",
      " '164' '165' '166' '167' '168' '169' '170' '171' '172' '173' '174' '175'\n",
      " '176' '177' '178' '179' '180' '181' '182' '183' '184' '185' '186' '187'\n",
      " '188' '189' '190' '191' '192' '193' '194' '195' '196' '197' '198' '199'\n",
      " '200' '201' '202' '203' '204' '205' '206' '207' '208' '209' '210' '211'\n",
      " '212' '213' '214' '215' '216' '217' '218' '219' '220' '221' '222' '223'\n",
      " '224' '225' '226' '227' '228' '229' '230' '231' '232' '233' '234' '235'\n",
      " '236' '237' '238' '239' '240' '241' '242' '243' '244' '245' '246' '247'\n",
      " '248' '249' '250' '251' '252' '253' '254' '255' '256' '257' '258' '259'\n",
      " '260' '261' '262' '263' '264' '265' '266' '267' '268' '269' '270' '271'\n",
      " '272' '273' '274' '275' '276' '277' '278' '279' '280' '281' '282' '283'\n",
      " '284' '285' '286' '287' '288' '289' '290' '291' '292' '293' '294' '295'\n",
      " '296' '297' '298' '299' '300' '301' '302' '303' '304' '305' '306' '307'\n",
      " '308' '309' '310' '311' '312' '313' '314' '315' '457' '458' '459' '460'\n",
      " '461' '462' '463' '464' '465' '466' '467' '468' '469' '470']\n"
     ]
    }
   ],
   "source": [
    "unified_df = raw_df.merge(idmap, left_on='study_id', right_on='redcap_id')\n",
    "print(unified_df.shape)\n",
    "print(unified_df.ID.unique())"
   ]
  },
  {
   "cell_type": "code",
   "execution_count": 4,
   "metadata": {},
   "outputs": [],
   "source": [
    "drug_df = pd.read_csv(\n",
    "    dh.get_path_to_main()\n",
    "    + \"DataFiles/BR/processedRedCapData/brDrugTherapy_20240509.csv\"\n",
    ")"
   ]
  },
  {
   "cell_type": "code",
   "execution_count": null,
   "metadata": {},
   "outputs": [],
   "source": []
  },
  {
   "cell_type": "code",
   "execution_count": 5,
   "metadata": {},
   "outputs": [
    {
     "data": {
      "text/html": [
       "<div>\n",
       "<style scoped>\n",
       "    .dataframe tbody tr th:only-of-type {\n",
       "        vertical-align: middle;\n",
       "    }\n",
       "\n",
       "    .dataframe tbody tr th {\n",
       "        vertical-align: top;\n",
       "    }\n",
       "\n",
       "    .dataframe thead th {\n",
       "        text-align: right;\n",
       "    }\n",
       "</style>\n",
       "<table border=\"1\" class=\"dataframe\">\n",
       "  <thead>\n",
       "    <tr style=\"text-align: right;\">\n",
       "      <th></th>\n",
       "      <th>ID</th>\n",
       "      <th>Hospital</th>\n",
       "      <th>StudyNumber</th>\n",
       "      <th>DrugTherapyType</th>\n",
       "      <th>DrugTherapyStartDate</th>\n",
       "      <th>DrugTherapyStopDate</th>\n",
       "      <th>DrugTherapyComment</th>\n",
       "    </tr>\n",
       "  </thead>\n",
       "  <tbody>\n",
       "    <tr>\n",
       "      <th>0</th>\n",
       "      <td>316.0</td>\n",
       "      <td>PAP</td>\n",
       "      <td>projectb19969@gmail.com</td>\n",
       "      <td>4.0</td>\n",
       "      <td>2020-02-11</td>\n",
       "      <td>NaN</td>\n",
       "      <td>Est start date</td>\n",
       "    </tr>\n",
       "    <tr>\n",
       "      <th>1</th>\n",
       "      <td>316.0</td>\n",
       "      <td>PAP</td>\n",
       "      <td>projectb19969@gmail.com</td>\n",
       "      <td>2.0</td>\n",
       "      <td>2020-11-01</td>\n",
       "      <td>NaN</td>\n",
       "      <td>Est start date</td>\n",
       "    </tr>\n",
       "    <tr>\n",
       "      <th>2</th>\n",
       "      <td>317.0</td>\n",
       "      <td>PAP</td>\n",
       "      <td>projectb852432@gmail.com</td>\n",
       "      <td>2.0</td>\n",
       "      <td>2020-10-12</td>\n",
       "      <td>NaN</td>\n",
       "      <td>NaN</td>\n",
       "    </tr>\n",
       "    <tr>\n",
       "      <th>3</th>\n",
       "      <td>318.0</td>\n",
       "      <td>PAP</td>\n",
       "      <td>projectb31415@gmail.com</td>\n",
       "      <td>4.0</td>\n",
       "      <td>2020-01-28</td>\n",
       "      <td>NaN</td>\n",
       "      <td>est date</td>\n",
       "    </tr>\n",
       "    <tr>\n",
       "      <th>4</th>\n",
       "      <td>318.0</td>\n",
       "      <td>PAP</td>\n",
       "      <td>projectb31415@gmail.com</td>\n",
       "      <td>2.0</td>\n",
       "      <td>2020-11-23</td>\n",
       "      <td>NaN</td>\n",
       "      <td>est date</td>\n",
       "    </tr>\n",
       "    <tr>\n",
       "      <th>...</th>\n",
       "      <td>...</td>\n",
       "      <td>...</td>\n",
       "      <td>...</td>\n",
       "      <td>...</td>\n",
       "      <td>...</td>\n",
       "      <td>...</td>\n",
       "      <td>...</td>\n",
       "    </tr>\n",
       "    <tr>\n",
       "      <th>601</th>\n",
       "      <td>328</td>\n",
       "      <td>PAP</td>\n",
       "      <td>projectbreathe3719@gmail.com</td>\n",
       "      <td>4.0</td>\n",
       "      <td>2020-03-01</td>\n",
       "      <td>2020-11-01</td>\n",
       "      <td>NaN</td>\n",
       "    </tr>\n",
       "    <tr>\n",
       "      <th>602</th>\n",
       "      <td>328</td>\n",
       "      <td>PAP</td>\n",
       "      <td>projectbreathe3719@gmail.com</td>\n",
       "      <td>2.0</td>\n",
       "      <td>2020-11-01</td>\n",
       "      <td>NaN</td>\n",
       "      <td>NaN</td>\n",
       "    </tr>\n",
       "    <tr>\n",
       "      <th>603</th>\n",
       "      <td>329</td>\n",
       "      <td>PAP</td>\n",
       "      <td>projectb2808@gmail.com</td>\n",
       "      <td>2.0</td>\n",
       "      <td>2022-10-01</td>\n",
       "      <td>NaN</td>\n",
       "      <td>Est. start date</td>\n",
       "    </tr>\n",
       "    <tr>\n",
       "      <th>604</th>\n",
       "      <td>329</td>\n",
       "      <td>PAP</td>\n",
       "      <td>projectb2808@gmail.com</td>\n",
       "      <td>1.0</td>\n",
       "      <td>2022-10-01</td>\n",
       "      <td>NaN</td>\n",
       "      <td>Est. start date</td>\n",
       "    </tr>\n",
       "    <tr>\n",
       "      <th>605</th>\n",
       "      <td>330</td>\n",
       "      <td>PAP</td>\n",
       "      <td>projectb2706@gmail.com</td>\n",
       "      <td>2.0</td>\n",
       "      <td>2020-08-01</td>\n",
       "      <td>NaN</td>\n",
       "      <td>Est. start date</td>\n",
       "    </tr>\n",
       "  </tbody>\n",
       "</table>\n",
       "<p>606 rows × 7 columns</p>\n",
       "</div>"
      ],
      "text/plain": [
       "        ID Hospital                   StudyNumber  DrugTherapyType  \\\n",
       "0    316.0      PAP       projectb19969@gmail.com              4.0   \n",
       "1    316.0      PAP       projectb19969@gmail.com              2.0   \n",
       "2    317.0      PAP      projectb852432@gmail.com              2.0   \n",
       "3    318.0      PAP       projectb31415@gmail.com              4.0   \n",
       "4    318.0      PAP       projectb31415@gmail.com              2.0   \n",
       "..     ...      ...                           ...              ...   \n",
       "601    328      PAP  projectbreathe3719@gmail.com              4.0   \n",
       "602    328      PAP  projectbreathe3719@gmail.com              2.0   \n",
       "603    329      PAP        projectb2808@gmail.com              2.0   \n",
       "604    329      PAP        projectb2808@gmail.com              1.0   \n",
       "605    330      PAP        projectb2706@gmail.com              2.0   \n",
       "\n",
       "    DrugTherapyStartDate DrugTherapyStopDate DrugTherapyComment  \n",
       "0             2020-02-11                 NaN    Est start date   \n",
       "1             2020-11-01                 NaN    Est start date   \n",
       "2             2020-10-12                 NaN                NaN  \n",
       "3             2020-01-28                 NaN          est date   \n",
       "4             2020-11-23                 NaN          est date   \n",
       "..                   ...                 ...                ...  \n",
       "601           2020-03-01          2020-11-01                NaN  \n",
       "602           2020-11-01                 NaN                NaN  \n",
       "603           2022-10-01                 NaN    Est. start date  \n",
       "604           2022-10-01                 NaN    Est. start date  \n",
       "605           2020-08-01                 NaN    Est. start date  \n",
       "\n",
       "[606 rows x 7 columns]"
      ]
     },
     "execution_count": 5,
     "metadata": {},
     "output_type": "execute_result"
    }
   ],
   "source": [
    "drug_df"
   ]
  },
  {
   "cell_type": "code",
   "execution_count": null,
   "metadata": {},
   "outputs": [],
   "source": []
  }
 ],
 "metadata": {
  "kernelspec": {
   "display_name": "phd",
   "language": "python",
   "name": "python3"
  },
  "language_info": {
   "codemirror_mode": {
    "name": "ipython",
    "version": 3
   },
   "file_extension": ".py",
   "mimetype": "text/x-python",
   "name": "python",
   "nbconvert_exporter": "python",
   "pygments_lexer": "ipython3",
   "version": "3.10.13"
  }
 },
 "nbformat": 4,
 "nbformat_minor": 2
}
