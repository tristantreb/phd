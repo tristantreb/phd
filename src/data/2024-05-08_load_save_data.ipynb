{
 "cells": [
  {
   "cell_type": "code",
   "execution_count": 1,
   "metadata": {},
   "outputs": [],
   "source": [
    "import logging\n",
    "\n",
    "logger = logging.getLogger()\n",
    "logger.setLevel(logging.INFO)\n",
    "import src.data.breathe_data as bd\n",
    "import src.data.helpers as dh\n",
    "import pandas as pd"
   ]
  },
  {
   "cell_type": "markdown",
   "metadata": {},
   "source": [
    "# BR"
   ]
  },
  {
   "cell_type": "markdown",
   "metadata": {},
   "source": [
    "## Patients"
   ]
  },
  {
   "cell_type": "code",
   "execution_count": 4,
   "metadata": {},
   "outputs": [
    {
     "name": "stderr",
     "output_type": "stream",
     "text": [
      "INFO:root:\n",
      "*** Loading patients data ***\n",
      "INFO:root:No NaN values found in dataframe\n",
      "INFO:root:Loaded 438 individuals\n",
      "INFO:root:IDs: 436\n",
      "INFO:root:Sex: Sex\n",
      "Male      225\n",
      "Female    213\n",
      "Name: count, dtype: int64\n",
      "INFO:root:Age (yr): min 18, mean 32.0, max 67, std 11.1\n",
      "INFO:root:Height (cm): min 140.0, mean 168.0, max 195.0, std 9.6\n"
     ]
    }
   ],
   "source": [
    "pats_df = bd.load_patients()"
   ]
  },
  {
   "cell_type": "code",
   "execution_count": 5,
   "metadata": {},
   "outputs": [
    {
     "data": {
      "text/html": [
       "<div>\n",
       "<style scoped>\n",
       "    .dataframe tbody tr th:only-of-type {\n",
       "        vertical-align: middle;\n",
       "    }\n",
       "\n",
       "    .dataframe tbody tr th {\n",
       "        vertical-align: top;\n",
       "    }\n",
       "\n",
       "    .dataframe thead th {\n",
       "        text-align: right;\n",
       "    }\n",
       "</style>\n",
       "<table border=\"1\" class=\"dataframe\">\n",
       "  <thead>\n",
       "    <tr style=\"text-align: right;\">\n",
       "      <th></th>\n",
       "      <th>ID</th>\n",
       "      <th>Sex</th>\n",
       "      <th>Height</th>\n",
       "      <th>Age</th>\n",
       "    </tr>\n",
       "  </thead>\n",
       "  <tbody>\n",
       "    <tr>\n",
       "      <th>130</th>\n",
       "      <td>467</td>\n",
       "      <td>Male</td>\n",
       "      <td>179.0</td>\n",
       "      <td>25</td>\n",
       "    </tr>\n",
       "  </tbody>\n",
       "</table>\n",
       "</div>"
      ],
      "text/plain": [
       "      ID   Sex  Height  Age\n",
       "130  467  Male   179.0   25"
      ]
     },
     "execution_count": 5,
     "metadata": {},
     "output_type": "execute_result"
    }
   ],
   "source": [
    "pats_df[pats_df.ID == '467']"
   ]
  },
  {
   "cell_type": "markdown",
   "metadata": {},
   "source": [
    "## Measurements"
   ]
  },
  {
   "cell_type": "code",
   "execution_count": 7,
   "metadata": {},
   "outputs": [
    {
     "name": "stderr",
     "output_type": "stream",
     "text": [
      "INFO:root:*** Loading measurements data ***\n",
      "INFO:root:* Checking for same day measurements *\n"
     ]
    },
    {
     "name": "stdout",
     "output_type": "stream",
     "text": [
      "Dropping 1 entries with FEV1 = 6.0 for ID 330\n"
     ]
    },
    {
     "name": "stderr",
     "output_type": "stream",
     "text": [
      "WARNING:root:ID 370 has FEV1 (5.61) outside 0.1-5.5 L range\n",
      "WARNING:root:ID 370 has FEV1 (5.53) outside 0.1-5.5 L range\n",
      "WARNING:root:ID 370 has FEV1 (5.59) outside 0.1-5.5 L range\n",
      "WARNING:root:ID 467 has FEV1 (5.79) outside 0.1-5.5 L range\n",
      "WARNING:root:ID 467 has FEV1 (5.79) outside 0.1-5.5 L range\n",
      "WARNING:root:ID 467 has FEV1 (5.75) outside 0.1-5.5 L range\n",
      "WARNING:root:ID 467 has FEV1 (5.7) outside 0.1-5.5 L range\n",
      "WARNING:root:ID 467 has FEV1 (5.76) outside 0.1-5.5 L range\n",
      "WARNING:root:ID 467 has FEV1 (5.7) outside 0.1-5.5 L range\n",
      "WARNING:root:ID 467 has FEV1 (5.7) outside 0.1-5.5 L range\n",
      "WARNING:root:ID 467 has FEV1 (5.86) outside 0.1-5.5 L range\n",
      "WARNING:root:ID 467 has FEV1 (5.78) outside 0.1-5.5 L range\n",
      "WARNING:root:ID 467 has FEV1 (5.93) outside 0.1-5.5 L range\n",
      "WARNING:root:ID 467 has FEV1 (5.8) outside 0.1-5.5 L range\n",
      "WARNING:root:ID 467 has FEV1 (5.77) outside 0.1-5.5 L range\n",
      "WARNING:root:ID 467 has FEV1 (5.92) outside 0.1-5.5 L range\n",
      "WARNING:root:ID 467 has FEV1 (5.81) outside 0.1-5.5 L range\n",
      "WARNING:root:ID 467 has FEV1 (5.89) outside 0.1-5.5 L range\n",
      "WARNING:root:ID 467 has FEV1 (5.87) outside 0.1-5.5 L range\n",
      "WARNING:root:ID 467 has FEV1 (5.98) outside 0.1-5.5 L range\n",
      "WARNING:root:ID 467 has FEV1 (5.98) outside 0.1-5.5 L range\n",
      "WARNING:root:ID 467 has FEV1 (5.94) outside 0.1-5.5 L range\n",
      "WARNING:root:ID 467 has FEV1 (5.93) outside 0.1-5.5 L range\n",
      "WARNING:root:ID 467 has FEV1 (5.88) outside 0.1-5.5 L range\n",
      "WARNING:root:ID 467 has FEV1 (5.94) outside 0.1-5.5 L range\n",
      "WARNING:root:ID 467 has FEV1 (5.75) outside 0.1-5.5 L range\n",
      "WARNING:root:ID 467 has FEV1 (5.77) outside 0.1-5.5 L range\n",
      "WARNING:root:ID 467 has FEV1 (5.76) outside 0.1-5.5 L range\n",
      "WARNING:root:ID 467 has FEV1 (5.82) outside 0.1-5.5 L range\n",
      "WARNING:root:ID 467 has FEV1 (5.91) outside 0.1-5.5 L range\n",
      "WARNING:root:ID 467 has FEV1 (5.85) outside 0.1-5.5 L range\n",
      "WARNING:root:ID 467 has FEV1 (5.8) outside 0.1-5.5 L range\n",
      "WARNING:root:ID 467 has FEV1 (5.73) outside 0.1-5.5 L range\n",
      "WARNING:root:ID 467 has FEV1 (5.85) outside 0.1-5.5 L range\n",
      "WARNING:root:ID 467 has FEV1 (5.77) outside 0.1-5.5 L range\n",
      "WARNING:root:ID 467 has FEV1 (5.82) outside 0.1-5.5 L range\n",
      "WARNING:root:ID 467 has FEV1 (5.92) outside 0.1-5.5 L range\n",
      "WARNING:root:ID 467 has FEV1 (5.74) outside 0.1-5.5 L range\n",
      "WARNING:root:ID 467 has FEV1 (5.73) outside 0.1-5.5 L range\n",
      "WARNING:root:ID 467 has FEV1 (5.78) outside 0.1-5.5 L range\n",
      "WARNING:root:ID 467 has FEV1 (5.81) outside 0.1-5.5 L range\n",
      "WARNING:root:ID 467 has FEV1 (5.68) outside 0.1-5.5 L range\n",
      "WARNING:root:ID 467 has FEV1 (5.8) outside 0.1-5.5 L range\n",
      "WARNING:root:ID 467 has FEV1 (5.93) outside 0.1-5.5 L range\n",
      "WARNING:root:ID 467 has FEV1 (5.78) outside 0.1-5.5 L range\n",
      "WARNING:root:ID 467 has FEV1 (5.85) outside 0.1-5.5 L range\n",
      "WARNING:root:ID 467 has FEV1 (5.83) outside 0.1-5.5 L range\n",
      "WARNING:root:ID 467 has FEV1 (5.86) outside 0.1-5.5 L range\n",
      "WARNING:root:ID 467 has FEV1 (5.82) outside 0.1-5.5 L range\n",
      "WARNING:root:ID 467 has FEV1 (5.8) outside 0.1-5.5 L range\n",
      "WARNING:root:ID 467 has FEV1 (5.8) outside 0.1-5.5 L range\n",
      "WARNING:root:ID 467 has FEV1 (5.84) outside 0.1-5.5 L range\n",
      "WARNING:root:ID 467 has FEV1 (5.87) outside 0.1-5.5 L range\n",
      "WARNING:root:ID 467 has FEV1 (5.81) outside 0.1-5.5 L range\n",
      "WARNING:root:ID 467 has FEV1 (5.69) outside 0.1-5.5 L range\n",
      "WARNING:root:ID 467 has FEV1 (5.78) outside 0.1-5.5 L range\n",
      "WARNING:root:ID 467 has FEV1 (5.71) outside 0.1-5.5 L range\n",
      "WARNING:root:ID 467 has FEV1 (5.77) outside 0.1-5.5 L range\n",
      "WARNING:root:ID 467 has FEV1 (5.93) outside 0.1-5.5 L range\n",
      "WARNING:root:ID 467 has FEV1 (5.72) outside 0.1-5.5 L range\n",
      "WARNING:root:ID 467 has FEV1 (5.84) outside 0.1-5.5 L range\n",
      "WARNING:root:ID 467 has FEV1 (5.77) outside 0.1-5.5 L range\n",
      "WARNING:root:ID 467 has FEV1 (5.6) outside 0.1-5.5 L range\n",
      "WARNING:root:ID 467 has FEV1 (5.72) outside 0.1-5.5 L range\n",
      "WARNING:root:ID 467 has FEV1 (5.86) outside 0.1-5.5 L range\n",
      "WARNING:root:ID 467 has FEV1 (5.86) outside 0.1-5.5 L range\n",
      "WARNING:root:ID 467 has FEV1 (5.65) outside 0.1-5.5 L range\n",
      "WARNING:root:ID 467 has FEV1 (5.73) outside 0.1-5.5 L range\n",
      "WARNING:root:ID 467 has FEV1 (5.91) outside 0.1-5.5 L range\n",
      "WARNING:root:ID 467 has FEV1 (5.8) outside 0.1-5.5 L range\n",
      "WARNING:root:ID 467 has FEV1 (5.64) outside 0.1-5.5 L range\n",
      "WARNING:root:ID 467 has FEV1 (5.73) outside 0.1-5.5 L range\n",
      "WARNING:root:ID 467 has FEV1 (5.69) outside 0.1-5.5 L range\n",
      "WARNING:root:ID 467 has FEV1 (5.78) outside 0.1-5.5 L range\n",
      "WARNING:root:ID 467 has FEV1 (5.73) outside 0.1-5.5 L range\n",
      "WARNING:root:ID 467 has FEV1 (5.7) outside 0.1-5.5 L range\n",
      "WARNING:root:ID 467 has FEV1 (5.89) outside 0.1-5.5 L range\n",
      "WARNING:root:ID 467 has FEV1 (5.96) outside 0.1-5.5 L range\n",
      "WARNING:root:ID 467 has FEV1 (5.93) outside 0.1-5.5 L range\n",
      "WARNING:root:ID 467 has FEV1 (5.74) outside 0.1-5.5 L range\n",
      "WARNING:root:ID 467 has FEV1 (5.84) outside 0.1-5.5 L range\n",
      "WARNING:root:ID 467 has FEV1 (5.82) outside 0.1-5.5 L range\n",
      "WARNING:root:ID 467 has FEV1 (5.83) outside 0.1-5.5 L range\n",
      "WARNING:root:ID 467 has FEV1 (5.82) outside 0.1-5.5 L range\n",
      "WARNING:root:ID 467 has FEV1 (5.75) outside 0.1-5.5 L range\n",
      "WARNING:root:ID 467 has FEV1 (5.88) outside 0.1-5.5 L range\n",
      "WARNING:root:ID 467 has FEV1 (5.75) outside 0.1-5.5 L range\n",
      "WARNING:root:ID 467 has FEV1 (5.72) outside 0.1-5.5 L range\n",
      "WARNING:root:ID 467 has FEV1 (5.62) outside 0.1-5.5 L range\n",
      "WARNING:root:ID 467 has FEV1 (5.64) outside 0.1-5.5 L range\n",
      "WARNING:root:ID 467 has FEV1 (5.92) outside 0.1-5.5 L range\n",
      "WARNING:root:ID 467 has FEV1 (5.78) outside 0.1-5.5 L range\n",
      "WARNING:root:ID 467 has FEV1 (5.72) outside 0.1-5.5 L range\n",
      "WARNING:root:ID 467 has FEV1 (5.8) outside 0.1-5.5 L range\n",
      "WARNING:root:ID 467 has FEV1 (5.84) outside 0.1-5.5 L range\n",
      "WARNING:root:ID 467 has FEV1 (5.83) outside 0.1-5.5 L range\n",
      "WARNING:root:ID 467 has FEV1 (5.74) outside 0.1-5.5 L range\n",
      "WARNING:root:ID 467 has FEV1 (5.72) outside 0.1-5.5 L range\n",
      "WARNING:root:ID 467 has FEV1 (5.77) outside 0.1-5.5 L range\n",
      "WARNING:root:ID 467 has FEV1 (5.91) outside 0.1-5.5 L range\n",
      "WARNING:root:ID 467 has FEV1 (5.83) outside 0.1-5.5 L range\n",
      "WARNING:root:ID 467 has FEV1 (5.85) outside 0.1-5.5 L range\n",
      "WARNING:root:ID 467 has FEV1 (5.88) outside 0.1-5.5 L range\n",
      "WARNING:root:ID 467 has FEV1 (5.84) outside 0.1-5.5 L range\n",
      "WARNING:root:ID 467 has FEV1 (5.67) outside 0.1-5.5 L range\n",
      "WARNING:root:ID 467 has FEV1 (5.88) outside 0.1-5.5 L range\n",
      "WARNING:root:ID 467 has FEV1 (5.76) outside 0.1-5.5 L range\n",
      "WARNING:root:ID 467 has FEV1 (5.83) outside 0.1-5.5 L range\n",
      "WARNING:root:ID 467 has FEV1 (5.83) outside 0.1-5.5 L range\n",
      "WARNING:root:ID 467 has FEV1 (5.79) outside 0.1-5.5 L range\n",
      "WARNING:root:ID 467 has FEV1 (5.81) outside 0.1-5.5 L range\n",
      "WARNING:root:ID 467 has FEV1 (5.74) outside 0.1-5.5 L range\n",
      "WARNING:root:ID 467 has FEV1 (5.86) outside 0.1-5.5 L range\n",
      "WARNING:root:ID 467 has FEV1 (5.85) outside 0.1-5.5 L range\n",
      "WARNING:root:ID 467 has FEV1 (5.84) outside 0.1-5.5 L range\n",
      "WARNING:root:ID 467 has FEV1 (5.84) outside 0.1-5.5 L range\n",
      "WARNING:root:ID 467 has FEV1 (5.87) outside 0.1-5.5 L range\n",
      "WARNING:root:ID 467 has FEV1 (5.91) outside 0.1-5.5 L range\n",
      "WARNING:root:ID 467 has FEV1 (5.89) outside 0.1-5.5 L range\n",
      "WARNING:root:ID 467 has FEV1 (5.88) outside 0.1-5.5 L range\n",
      "WARNING:root:ID 467 has FEV1 (5.9) outside 0.1-5.5 L range\n",
      "WARNING:root:ID 467 has FEV1 (5.99) outside 0.1-5.5 L range\n",
      "WARNING:root:ID 467 has FEV1 (5.85) outside 0.1-5.5 L range\n",
      "WARNING:root:ID 467 has FEV1 (5.93) outside 0.1-5.5 L range\n",
      "WARNING:root:ID 467 has FEV1 (5.94) outside 0.1-5.5 L range\n",
      "WARNING:root:ID 467 has FEV1 (5.76) outside 0.1-5.5 L range\n",
      "WARNING:root:ID 467 has FEV1 (5.67) outside 0.1-5.5 L range\n",
      "WARNING:root:ID 467 has FEV1 (5.72) outside 0.1-5.5 L range\n",
      "WARNING:root:ID 467 has FEV1 (5.93) outside 0.1-5.5 L range\n",
      "WARNING:root:ID 467 has FEV1 (5.9) outside 0.1-5.5 L range\n",
      "WARNING:root:ID 467 has FEV1 (5.89) outside 0.1-5.5 L range\n",
      "WARNING:root:ID 467 has FEV1 (5.74) outside 0.1-5.5 L range\n",
      "WARNING:root:ID 467 has FEV1 (5.81) outside 0.1-5.5 L range\n",
      "WARNING:root:ID 467 has FEV1 (5.96) outside 0.1-5.5 L range\n",
      "WARNING:root:ID 467 has FEV1 (5.76) outside 0.1-5.5 L range\n",
      "WARNING:root:ID 467 has FEV1 (5.59) outside 0.1-5.5 L range\n",
      "WARNING:root:ID 467 has FEV1 (5.82) outside 0.1-5.5 L range\n",
      "WARNING:root:ID 467 has FEV1 (5.83) outside 0.1-5.5 L range\n",
      "WARNING:root:ID 467 has FEV1 (5.82) outside 0.1-5.5 L range\n",
      "WARNING:root:ID 467 has FEV1 (5.77) outside 0.1-5.5 L range\n",
      "WARNING:root:ID 467 has FEV1 (5.76) outside 0.1-5.5 L range\n",
      "WARNING:root:ID 467 has FEV1 (5.8) outside 0.1-5.5 L range\n",
      "WARNING:root:ID 467 has FEV1 (5.87) outside 0.1-5.5 L range\n",
      "WARNING:root:ID 467 has FEV1 (5.78) outside 0.1-5.5 L range\n",
      "WARNING:root:ID 467 has FEV1 (5.85) outside 0.1-5.5 L range\n",
      "WARNING:root:ID 467 has FEV1 (5.8) outside 0.1-5.5 L range\n",
      "WARNING:root:ID 467 has FEV1 (5.77) outside 0.1-5.5 L range\n",
      "WARNING:root:ID 467 has FEV1 (5.77) outside 0.1-5.5 L range\n",
      "WARNING:root:ID 467 has FEV1 (5.9) outside 0.1-5.5 L range\n",
      "WARNING:root:ID 467 has FEV1 (5.73) outside 0.1-5.5 L range\n",
      "WARNING:root:ID 467 has FEV1 (5.81) outside 0.1-5.5 L range\n",
      "WARNING:root:ID 467 has FEV1 (5.86) outside 0.1-5.5 L range\n",
      "WARNING:root:ID 467 has FEV1 (5.75) outside 0.1-5.5 L range\n",
      "WARNING:root:ID 467 has FEV1 (5.73) outside 0.1-5.5 L range\n",
      "WARNING:root:ID 467 has FEV1 (5.87) outside 0.1-5.5 L range\n",
      "WARNING:root:ID 467 has FEV1 (5.74) outside 0.1-5.5 L range\n",
      "WARNING:root:ID 467 has FEV1 (5.83) outside 0.1-5.5 L range\n",
      "WARNING:root:ID 467 has FEV1 (5.81) outside 0.1-5.5 L range\n",
      "WARNING:root:ID 467 has FEV1 (5.72) outside 0.1-5.5 L range\n",
      "WARNING:root:ID 467 has FEV1 (5.79) outside 0.1-5.5 L range\n",
      "WARNING:root:ID 467 has FEV1 (5.68) outside 0.1-5.5 L range\n",
      "WARNING:root:ID 467 has FEV1 (5.82) outside 0.1-5.5 L range\n",
      "WARNING:root:ID 467 has FEV1 (5.62) outside 0.1-5.5 L range\n",
      "WARNING:root:ID 467 has FEV1 (5.88) outside 0.1-5.5 L range\n",
      "WARNING:root:ID 467 has FEV1 (5.79) outside 0.1-5.5 L range\n",
      "WARNING:root:ID 467 has FEV1 (5.93) outside 0.1-5.5 L range\n",
      "WARNING:root:ID 467 has FEV1 (5.8) outside 0.1-5.5 L range\n",
      "WARNING:root:ID 467 has FEV1 (5.9) outside 0.1-5.5 L range\n",
      "WARNING:root:ID 467 has FEV1 (5.79) outside 0.1-5.5 L range\n",
      "WARNING:root:ID 539 has FEV1 (5.66) outside 0.1-5.5 L range\n",
      "INFO:root:* Checking for same day measurements *\n",
      "INFO:root:* Checking for same day measurements *\n",
      "INFO:root:* Checking for same day measurements *\n"
     ]
    },
    {
     "name": "stdout",
     "output_type": "stream",
     "text": [
      "Number of IDs:  400\n",
      "Number of rows:  60804\n",
      "Number of FEV1 recordings: 51608\n",
      "Number of FEF2575 recordings: 46586\n",
      "Number of PEF recordings: 25312\n",
      "Number of O2 Saturation recordings: 54698\n"
     ]
    }
   ],
   "source": [
    "df_meas = bd.load_measurements()\n",
    "# ID 467 has consistently high FEV1 measurements"
   ]
  },
  {
   "cell_type": "code",
   "execution_count": 20,
   "metadata": {},
   "outputs": [
    {
     "data": {
      "application/vnd.plotly.v1+json": {
       "config": {
        "plotlyServerURL": "https://plot.ly"
       },
       "data": [
        {
         "hovertemplate": "Date Recorded=%{x}<br>FEV1=%{y}<extra></extra>",
         "legendgroup": "",
         "marker": {
          "color": "#636efa",
          "symbol": "circle"
         },
         "mode": "markers",
         "name": "",
         "orientation": "v",
         "showlegend": false,
         "type": "scatter",
         "x": [
          "2022-07-04",
          "2022-07-05",
          "2022-07-06",
          "2022-07-07",
          "2022-07-08",
          "2022-07-13",
          "2022-07-17",
          "2022-07-24",
          "2022-07-14",
          "2022-07-23",
          "2022-07-26"
         ],
         "xaxis": "x",
         "y": [
          5.22,
          5.41,
          5.2,
          5.66,
          5.45,
          5.39,
          5.45,
          5.43,
          null,
          null,
          null
         ],
         "yaxis": "y"
        }
       ],
       "layout": {
        "legend": {
         "tracegroupgap": 0
        },
        "margin": {
         "t": 60
        },
        "template": {
         "data": {
          "bar": [
           {
            "error_x": {
             "color": "#2a3f5f"
            },
            "error_y": {
             "color": "#2a3f5f"
            },
            "marker": {
             "line": {
              "color": "#E5ECF6",
              "width": 0.5
             },
             "pattern": {
              "fillmode": "overlay",
              "size": 10,
              "solidity": 0.2
             }
            },
            "type": "bar"
           }
          ],
          "barpolar": [
           {
            "marker": {
             "line": {
              "color": "#E5ECF6",
              "width": 0.5
             },
             "pattern": {
              "fillmode": "overlay",
              "size": 10,
              "solidity": 0.2
             }
            },
            "type": "barpolar"
           }
          ],
          "carpet": [
           {
            "aaxis": {
             "endlinecolor": "#2a3f5f",
             "gridcolor": "white",
             "linecolor": "white",
             "minorgridcolor": "white",
             "startlinecolor": "#2a3f5f"
            },
            "baxis": {
             "endlinecolor": "#2a3f5f",
             "gridcolor": "white",
             "linecolor": "white",
             "minorgridcolor": "white",
             "startlinecolor": "#2a3f5f"
            },
            "type": "carpet"
           }
          ],
          "choropleth": [
           {
            "colorbar": {
             "outlinewidth": 0,
             "ticks": ""
            },
            "type": "choropleth"
           }
          ],
          "contour": [
           {
            "colorbar": {
             "outlinewidth": 0,
             "ticks": ""
            },
            "colorscale": [
             [
              0,
              "#0d0887"
             ],
             [
              0.1111111111111111,
              "#46039f"
             ],
             [
              0.2222222222222222,
              "#7201a8"
             ],
             [
              0.3333333333333333,
              "#9c179e"
             ],
             [
              0.4444444444444444,
              "#bd3786"
             ],
             [
              0.5555555555555556,
              "#d8576b"
             ],
             [
              0.6666666666666666,
              "#ed7953"
             ],
             [
              0.7777777777777778,
              "#fb9f3a"
             ],
             [
              0.8888888888888888,
              "#fdca26"
             ],
             [
              1,
              "#f0f921"
             ]
            ],
            "type": "contour"
           }
          ],
          "contourcarpet": [
           {
            "colorbar": {
             "outlinewidth": 0,
             "ticks": ""
            },
            "type": "contourcarpet"
           }
          ],
          "heatmap": [
           {
            "colorbar": {
             "outlinewidth": 0,
             "ticks": ""
            },
            "colorscale": [
             [
              0,
              "#0d0887"
             ],
             [
              0.1111111111111111,
              "#46039f"
             ],
             [
              0.2222222222222222,
              "#7201a8"
             ],
             [
              0.3333333333333333,
              "#9c179e"
             ],
             [
              0.4444444444444444,
              "#bd3786"
             ],
             [
              0.5555555555555556,
              "#d8576b"
             ],
             [
              0.6666666666666666,
              "#ed7953"
             ],
             [
              0.7777777777777778,
              "#fb9f3a"
             ],
             [
              0.8888888888888888,
              "#fdca26"
             ],
             [
              1,
              "#f0f921"
             ]
            ],
            "type": "heatmap"
           }
          ],
          "heatmapgl": [
           {
            "colorbar": {
             "outlinewidth": 0,
             "ticks": ""
            },
            "colorscale": [
             [
              0,
              "#0d0887"
             ],
             [
              0.1111111111111111,
              "#46039f"
             ],
             [
              0.2222222222222222,
              "#7201a8"
             ],
             [
              0.3333333333333333,
              "#9c179e"
             ],
             [
              0.4444444444444444,
              "#bd3786"
             ],
             [
              0.5555555555555556,
              "#d8576b"
             ],
             [
              0.6666666666666666,
              "#ed7953"
             ],
             [
              0.7777777777777778,
              "#fb9f3a"
             ],
             [
              0.8888888888888888,
              "#fdca26"
             ],
             [
              1,
              "#f0f921"
             ]
            ],
            "type": "heatmapgl"
           }
          ],
          "histogram": [
           {
            "marker": {
             "pattern": {
              "fillmode": "overlay",
              "size": 10,
              "solidity": 0.2
             }
            },
            "type": "histogram"
           }
          ],
          "histogram2d": [
           {
            "colorbar": {
             "outlinewidth": 0,
             "ticks": ""
            },
            "colorscale": [
             [
              0,
              "#0d0887"
             ],
             [
              0.1111111111111111,
              "#46039f"
             ],
             [
              0.2222222222222222,
              "#7201a8"
             ],
             [
              0.3333333333333333,
              "#9c179e"
             ],
             [
              0.4444444444444444,
              "#bd3786"
             ],
             [
              0.5555555555555556,
              "#d8576b"
             ],
             [
              0.6666666666666666,
              "#ed7953"
             ],
             [
              0.7777777777777778,
              "#fb9f3a"
             ],
             [
              0.8888888888888888,
              "#fdca26"
             ],
             [
              1,
              "#f0f921"
             ]
            ],
            "type": "histogram2d"
           }
          ],
          "histogram2dcontour": [
           {
            "colorbar": {
             "outlinewidth": 0,
             "ticks": ""
            },
            "colorscale": [
             [
              0,
              "#0d0887"
             ],
             [
              0.1111111111111111,
              "#46039f"
             ],
             [
              0.2222222222222222,
              "#7201a8"
             ],
             [
              0.3333333333333333,
              "#9c179e"
             ],
             [
              0.4444444444444444,
              "#bd3786"
             ],
             [
              0.5555555555555556,
              "#d8576b"
             ],
             [
              0.6666666666666666,
              "#ed7953"
             ],
             [
              0.7777777777777778,
              "#fb9f3a"
             ],
             [
              0.8888888888888888,
              "#fdca26"
             ],
             [
              1,
              "#f0f921"
             ]
            ],
            "type": "histogram2dcontour"
           }
          ],
          "mesh3d": [
           {
            "colorbar": {
             "outlinewidth": 0,
             "ticks": ""
            },
            "type": "mesh3d"
           }
          ],
          "parcoords": [
           {
            "line": {
             "colorbar": {
              "outlinewidth": 0,
              "ticks": ""
             }
            },
            "type": "parcoords"
           }
          ],
          "pie": [
           {
            "automargin": true,
            "type": "pie"
           }
          ],
          "scatter": [
           {
            "fillpattern": {
             "fillmode": "overlay",
             "size": 10,
             "solidity": 0.2
            },
            "type": "scatter"
           }
          ],
          "scatter3d": [
           {
            "line": {
             "colorbar": {
              "outlinewidth": 0,
              "ticks": ""
             }
            },
            "marker": {
             "colorbar": {
              "outlinewidth": 0,
              "ticks": ""
             }
            },
            "type": "scatter3d"
           }
          ],
          "scattercarpet": [
           {
            "marker": {
             "colorbar": {
              "outlinewidth": 0,
              "ticks": ""
             }
            },
            "type": "scattercarpet"
           }
          ],
          "scattergeo": [
           {
            "marker": {
             "colorbar": {
              "outlinewidth": 0,
              "ticks": ""
             }
            },
            "type": "scattergeo"
           }
          ],
          "scattergl": [
           {
            "marker": {
             "colorbar": {
              "outlinewidth": 0,
              "ticks": ""
             }
            },
            "type": "scattergl"
           }
          ],
          "scattermapbox": [
           {
            "marker": {
             "colorbar": {
              "outlinewidth": 0,
              "ticks": ""
             }
            },
            "type": "scattermapbox"
           }
          ],
          "scatterpolar": [
           {
            "marker": {
             "colorbar": {
              "outlinewidth": 0,
              "ticks": ""
             }
            },
            "type": "scatterpolar"
           }
          ],
          "scatterpolargl": [
           {
            "marker": {
             "colorbar": {
              "outlinewidth": 0,
              "ticks": ""
             }
            },
            "type": "scatterpolargl"
           }
          ],
          "scatterternary": [
           {
            "marker": {
             "colorbar": {
              "outlinewidth": 0,
              "ticks": ""
             }
            },
            "type": "scatterternary"
           }
          ],
          "surface": [
           {
            "colorbar": {
             "outlinewidth": 0,
             "ticks": ""
            },
            "colorscale": [
             [
              0,
              "#0d0887"
             ],
             [
              0.1111111111111111,
              "#46039f"
             ],
             [
              0.2222222222222222,
              "#7201a8"
             ],
             [
              0.3333333333333333,
              "#9c179e"
             ],
             [
              0.4444444444444444,
              "#bd3786"
             ],
             [
              0.5555555555555556,
              "#d8576b"
             ],
             [
              0.6666666666666666,
              "#ed7953"
             ],
             [
              0.7777777777777778,
              "#fb9f3a"
             ],
             [
              0.8888888888888888,
              "#fdca26"
             ],
             [
              1,
              "#f0f921"
             ]
            ],
            "type": "surface"
           }
          ],
          "table": [
           {
            "cells": {
             "fill": {
              "color": "#EBF0F8"
             },
             "line": {
              "color": "white"
             }
            },
            "header": {
             "fill": {
              "color": "#C8D4E3"
             },
             "line": {
              "color": "white"
             }
            },
            "type": "table"
           }
          ]
         },
         "layout": {
          "annotationdefaults": {
           "arrowcolor": "#2a3f5f",
           "arrowhead": 0,
           "arrowwidth": 1
          },
          "autotypenumbers": "strict",
          "coloraxis": {
           "colorbar": {
            "outlinewidth": 0,
            "ticks": ""
           }
          },
          "colorscale": {
           "diverging": [
            [
             0,
             "#8e0152"
            ],
            [
             0.1,
             "#c51b7d"
            ],
            [
             0.2,
             "#de77ae"
            ],
            [
             0.3,
             "#f1b6da"
            ],
            [
             0.4,
             "#fde0ef"
            ],
            [
             0.5,
             "#f7f7f7"
            ],
            [
             0.6,
             "#e6f5d0"
            ],
            [
             0.7,
             "#b8e186"
            ],
            [
             0.8,
             "#7fbc41"
            ],
            [
             0.9,
             "#4d9221"
            ],
            [
             1,
             "#276419"
            ]
           ],
           "sequential": [
            [
             0,
             "#0d0887"
            ],
            [
             0.1111111111111111,
             "#46039f"
            ],
            [
             0.2222222222222222,
             "#7201a8"
            ],
            [
             0.3333333333333333,
             "#9c179e"
            ],
            [
             0.4444444444444444,
             "#bd3786"
            ],
            [
             0.5555555555555556,
             "#d8576b"
            ],
            [
             0.6666666666666666,
             "#ed7953"
            ],
            [
             0.7777777777777778,
             "#fb9f3a"
            ],
            [
             0.8888888888888888,
             "#fdca26"
            ],
            [
             1,
             "#f0f921"
            ]
           ],
           "sequentialminus": [
            [
             0,
             "#0d0887"
            ],
            [
             0.1111111111111111,
             "#46039f"
            ],
            [
             0.2222222222222222,
             "#7201a8"
            ],
            [
             0.3333333333333333,
             "#9c179e"
            ],
            [
             0.4444444444444444,
             "#bd3786"
            ],
            [
             0.5555555555555556,
             "#d8576b"
            ],
            [
             0.6666666666666666,
             "#ed7953"
            ],
            [
             0.7777777777777778,
             "#fb9f3a"
            ],
            [
             0.8888888888888888,
             "#fdca26"
            ],
            [
             1,
             "#f0f921"
            ]
           ]
          },
          "colorway": [
           "#636efa",
           "#EF553B",
           "#00cc96",
           "#ab63fa",
           "#FFA15A",
           "#19d3f3",
           "#FF6692",
           "#B6E880",
           "#FF97FF",
           "#FECB52"
          ],
          "font": {
           "color": "#2a3f5f"
          },
          "geo": {
           "bgcolor": "white",
           "lakecolor": "white",
           "landcolor": "#E5ECF6",
           "showlakes": true,
           "showland": true,
           "subunitcolor": "white"
          },
          "hoverlabel": {
           "align": "left"
          },
          "hovermode": "closest",
          "mapbox": {
           "style": "light"
          },
          "paper_bgcolor": "white",
          "plot_bgcolor": "#E5ECF6",
          "polar": {
           "angularaxis": {
            "gridcolor": "white",
            "linecolor": "white",
            "ticks": ""
           },
           "bgcolor": "#E5ECF6",
           "radialaxis": {
            "gridcolor": "white",
            "linecolor": "white",
            "ticks": ""
           }
          },
          "scene": {
           "xaxis": {
            "backgroundcolor": "#E5ECF6",
            "gridcolor": "white",
            "gridwidth": 2,
            "linecolor": "white",
            "showbackground": true,
            "ticks": "",
            "zerolinecolor": "white"
           },
           "yaxis": {
            "backgroundcolor": "#E5ECF6",
            "gridcolor": "white",
            "gridwidth": 2,
            "linecolor": "white",
            "showbackground": true,
            "ticks": "",
            "zerolinecolor": "white"
           },
           "zaxis": {
            "backgroundcolor": "#E5ECF6",
            "gridcolor": "white",
            "gridwidth": 2,
            "linecolor": "white",
            "showbackground": true,
            "ticks": "",
            "zerolinecolor": "white"
           }
          },
          "shapedefaults": {
           "line": {
            "color": "#2a3f5f"
           }
          },
          "ternary": {
           "aaxis": {
            "gridcolor": "white",
            "linecolor": "white",
            "ticks": ""
           },
           "baxis": {
            "gridcolor": "white",
            "linecolor": "white",
            "ticks": ""
           },
           "bgcolor": "#E5ECF6",
           "caxis": {
            "gridcolor": "white",
            "linecolor": "white",
            "ticks": ""
           }
          },
          "title": {
           "x": 0.05
          },
          "xaxis": {
           "automargin": true,
           "gridcolor": "white",
           "linecolor": "white",
           "ticks": "",
           "title": {
            "standoff": 15
           },
           "zerolinecolor": "white",
           "zerolinewidth": 2
          },
          "yaxis": {
           "automargin": true,
           "gridcolor": "white",
           "linecolor": "white",
           "ticks": "",
           "title": {
            "standoff": 15
           },
           "zerolinecolor": "white",
           "zerolinewidth": 2
          }
         }
        },
        "xaxis": {
         "anchor": "y",
         "domain": [
          0,
          1
         ],
         "title": {
          "text": "Date Recorded"
         }
        },
        "yaxis": {
         "anchor": "x",
         "domain": [
          0,
          1
         ],
         "title": {
          "text": "FEV1"
         }
        }
       }
      }
     },
     "metadata": {},
     "output_type": "display_data"
    }
   ],
   "source": [
    "import plotly.express as px\n",
    "id = '539'\n",
    "df_meas_467 = df_meas[df_meas.ID == id]\n",
    "fig = px.scatter(df_meas_467, x='Date Recorded', y='FEV1')\n",
    "fig.show()"
   ]
  },
  {
   "cell_type": "markdown",
   "metadata": {},
   "source": [
    "# Build O2 FEV1 FEF2575 df with Nan"
   ]
  },
  {
   "cell_type": "code",
   "execution_count": 3,
   "metadata": {},
   "outputs": [
    {
     "name": "stdout",
     "output_type": "stream",
     "text": [
      "\n",
      "*** Building O2Sat, FEV1, FEF2575 dataframe ***\n",
      "\n",
      "*** Loading patients data ***\n",
      "The NaN values belong to IDs ('344') whose height are missing.\n",
      "However, we don't correct for them as we don't have any measurement corresponding to those IDs for now.\n",
      "Loaded 258 individuals\n",
      "\n",
      "*** Loading measurements data ***\n",
      "Dropping 1 entries with FEV1 = 6.0 for ID 330\n",
      "* Checking for same day measurements *\n",
      "* Checking for same day measurements *\n",
      "* Checking for same day measurements *\n",
      "* Checking for same day measurements *\n",
      "Number of IDs:  243\n",
      "Number of rows:  48978\n",
      "Number of FEV1 recordings: 41791\n",
      "Number of FEF2575 recordings: 37068\n",
      "Number of PEF recordings: 16755\n",
      "Number of O2 Saturation recordings: 43930\n",
      "ID 101 - Outlier up for ecFEV1, day 2023-10-24: 2.52 > 2.19 and > 2.22 (mean=1.72,std=0.16), update to 1.64\n",
      "ID 105 - Outlier up for ecFEV1, day 2019-01-18: 2.19 > 1.76 and > 2.08 (mean=1.58,std=0.06), update to 2.01\n",
      "ID 107 - Outlier up for ecFEV1, day 2023-09-19: 2.71 > 2.32 and > 2.29 (mean=1.78,std=0.18), update to 1.66\n",
      "ID 123 - Outlier up for ecFEV1, day 2019-09-18: 3.86 > 3.76 and > 3.72 (mean=3.22,std=0.18), update to 3.21\n",
      "ID 146 - Outlier up for ecFEV1, day 2019-10-26: 1.56 > 1.23 and > 1.53 (mean=1.03,std=0.07), update to 2.24\n",
      "ID 221 - Outlier up for ecFEV1, day 2022-08-09: 3.03 > 2.45 and > 2.44 (mean=1.94,std=0.17), update to 2.06\n",
      "ID 244 - Outlier up for ecFEV1, day 2022-08-27: 4.38 > 3.86 and > 3.61 (mean=3.11,std=0.25), update to 3.06\n",
      "ID 104 - Outlier up for ecFEF2575, day 2023-07-26: 1.73 > 1.72 and > 1.67 (mean=1.17,std=0.18), update to 1.12\n",
      "ID 105 - Outlier up for ecFEF2575, day 2019-01-18: 2.48 > 1.81 and > 1.99 (mean=1.49,std=0.11), update to 2.47\n",
      "ID 107 - Outlier up for ecFEF2575, day 2023-09-19: 1.42 > 0.99 and > 1.34 (mean=0.84,std=0.05), update to 0.81\n",
      "ID 123 - Outlier up for ecFEF2575, day 2020-08-01: 3.69 > 3.58 and > 3.18 (mean=2.68,std=0.30), update to 2.61\n",
      "ID 123 - Outlier up for ecFEF2575, day 2022-01-04: 5.66 > 5.65 and > 5.21 (mean=4.71,std=0.31), update to 4.94\n",
      "ID 123 - Outlier up for ecFEF2575, day 2022-11-27: 5.45 > 5.38 and > 5.14 (mean=4.64,std=0.25), update to 4.55\n",
      "ID 128 - Outlier up for ecFEF2575, day 2019-08-24: 2.57 > 2.31 and > 1.56 (mean=1.06,std=0.42), update to 0.89\n",
      "ID 147 - Outlier up for ecFEF2575, day 2020-02-24: 3.23 > 2.92 and > 2.28 (mean=1.78,std=0.38), update to 1.92\n",
      "ID 172 - Outlier up for ecFEF2575, day 2020-04-16: 1.83 > 1.77 and > 1.79 (mean=1.29,std=0.16), update to 1.30\n",
      "ID 172 - Outlier up for ecFEF2575, day 2020-12-15: 2.87 > 2.87 and > 2.68 (mean=2.18,std=0.23), update to 2.26\n",
      "ID 172 - Outlier up for ecFEF2575, day 2022-08-10: 4.23 > 4.05 and > 3.46 (mean=2.96,std=0.37), update to 2.92\n",
      "ID 176 - Outlier up for ecFEF2575, day 2022-12-07: 4.47 > 4.38 and > 3.24 (mean=2.74,std=0.55), update to 2.76\n",
      "ID 201 - Outlier up for ecFEF2575, day 2020-06-14: 2.01 > 1.97 and > 1.54 (mean=1.04,std=0.31), update to 1.02\n",
      "ID 203 - Outlier up for ecFEF2575, day 2022-09-21: 2.25 > 1.98 and > 1.75 (mean=1.25,std=0.24), update to 1.20\n",
      "ID 221 - Outlier up for ecFEF2575, day 2022-08-09: 3.46 > 2.96 and > 2.78 (mean=2.28,std=0.23), update to 2.44\n",
      "ID 240 - Outlier up for ecFEF2575, day 2023-01-17: 4.64 > 4.43 and > 2.63 (mean=2.13,std=0.77), update to 1.87\n",
      "ID 240 - Outlier up for ecFEF2575, day 2023-03-24: 5.04 > 3.94 and > 2.47 (mean=1.97,std=0.66), update to 1.96\n",
      "ID 240 - Outlier up for ecFEF2575, day 2023-04-19: 5.69 > 4.26 and > 2.30 (mean=1.80,std=0.82), update to 1.73\n",
      "ID 244 - Outlier up for ecFEF2575, day 2022-09-30: 6.33 > 5.98 and > 5.19 (mean=4.69,std=0.43), update to 4.91\n",
      "ID 254 - Outlier up for ecFEF2575, day 2020-12-07: 2.31 > 2.28 and > 2.20 (mean=1.70,std=0.19), update to 1.77\n",
      "ID 254 - Outlier up for ecFEF2575, day 2022-09-22: 3.22 > 3.11 and > 2.79 (mean=2.29,std=0.27), update to 2.27\n",
      "ID 254 - Outlier up for ecFEF2575, day 2022-10-21: 5.86 > 5.56 and > 3.06 (mean=2.56,std=1.00), update to 2.11\n",
      "ID 254 - Outlier up for ecFEF2575, day 2023-02-09: 3.09 > 2.99 and > 2.44 (mean=1.94,std=0.35), update to 1.85\n",
      "ID 271 - Outlier up for ecFEF2575, day 2023-03-05: 2.96 > 2.95 and > 2.65 (mean=2.15,std=0.27), update to 1.85\n",
      "ID 272 - Outlier up for ecFEF2575, day 2023-05-10: 1.63 > 1.46 and > 1.32 (mean=0.82,std=0.21), update to 0.92\n",
      "ID 272 - Outlier up for ecFEF2575, day 2023-10-04: 1.75 > 1.66 and > 1.39 (mean=0.89,std=0.26), update to 0.87\n",
      "ID 285 - Outlier up for ecFEF2575, day 2021-01-20: 1.71 > 1.64 and > 1.38 (mean=0.88,std=0.26), update to 1.17\n",
      "ID 101 - Outlier up for ecPEF (L/s), day 2021-06-24: 4.52 > 4.28 and > 4.18 (mean=3.18,std=0.36), update to 2.92\n",
      "ID 101 - Outlier up for ecPEF (L/s), day 2022-05-23: 4.55 > 4.51 and > 4.34 (mean=3.34,std=0.39), update to 3.82\n",
      "ID 101 - Outlier up for ecPEF (L/s), day 2022-06-30: 4.32 > 4.32 and > 4.26 (mean=3.26,std=0.35), update to 3.53\n",
      "ID 101 - Outlier up for ecPEF (L/s), day 2022-08-19: 9.12 > 6.90 and > 4.70 (mean=3.70,std=1.07), update to 3.22\n",
      "ID 101 - Outlier up for ecPEF (L/s), day 2023-03-26: 10.03 > 8.12 and > 5.69 (mean=4.69,std=1.15), update to 4.43\n",
      "ID 101 - Outlier up for ecPEF (L/s), day 2023-07-18: 8.83 > 7.16 and > 5.71 (mean=4.71,std=0.81), update to 4.62\n",
      "ID 101 - Outlier up for ecPEF (L/s), day 2023-08-27: 10.12 > 7.83 and > 5.58 (mean=4.58,std=1.08), update to 4.43\n",
      "ID 101 - Outlier up for ecPEF (L/s), day 2023-10-26: 9.53 > 7.48 and > 5.45 (mean=4.45,std=1.01), update to 3.83\n",
      "ID 107 - Outlier up for ecPEF (L/s), day 2023-09-19: 7.00 > 6.62 and > 5.50 (mean=4.50,std=0.71), update to 4.00\n",
      "ID 120 - Outlier up for ecPEF (L/s), day 2022-03-09: 13.72 > 12.45 and > 7.98 (mean=6.98,std=1.83), update to 5.75\n",
      "ID 123 - Outlier up for ecPEF (L/s), day 2022-09-20: 12.73 > 12.11 and > 10.63 (mean=9.63,std=0.83), update to 8.97\n",
      "ID 123 - Outlier up for ecPEF (L/s), day 2022-09-28: 11.30 > 10.92 and > 10.44 (mean=9.44,std=0.49), update to 9.35\n",
      "ID 123 - Outlier up for ecPEF (L/s), day 2023-03-12: 14.73 > 13.73 and > 10.44 (mean=9.44,std=1.43), update to 8.90\n",
      "ID 123 - Outlier up for ecPEF (L/s), day 2023-08-29: 15.35 > 14.53 and > 10.72 (mean=9.72,std=1.60), update to 9.48\n",
      "ID 125 - Outlier up for ecPEF (L/s), day 2022-08-15: 13.27 > 11.83 and > 10.03 (mean=9.03,std=0.93), update to 8.78\n",
      "ID 125 - Outlier up for ecPEF (L/s), day 2022-08-20: 10.15 > 9.97 and > 9.87 (mean=8.87,std=0.37), update to 8.10\n",
      "ID 133 - Outlier up for ecPEF (L/s), day 2022-10-22: 9.05 > 7.70 and > 4.59 (mean=3.59,std=1.37), update to 3.20\n",
      "ID 172 - Outlier up for ecPEF (L/s), day 2022-10-05: 12.62 > 12.24 and > 9.94 (mean=8.94,std=1.10), update to 8.70\n",
      "ID 172 - Outlier up for ecPEF (L/s), day 2023-10-05: 15.65 > 13.37 and > 10.29 (mean=9.29,std=1.36), update to 9.20\n",
      "ID 172 - Outlier up for ecPEF (L/s), day 2023-10-26: 12.62 > 12.42 and > 10.31 (mean=9.31,std=1.04), update to 8.60\n",
      "ID 182 - Outlier up for ecPEF (L/s), day 2022-11-10: 12.28 > 11.54 and > 10.31 (mean=9.31,std=0.74), update to 9.67\n",
      "ID 215 - Outlier up for ecPEF (L/s), day 2021-08-04: 13.68 > 12.49 and > 8.57 (mean=7.57,std=1.64), update to 7.17\n",
      "ID 221 - Outlier up for ecPEF (L/s), day 2022-08-09: 6.02 > 5.65 and > 5.73 (mean=4.73,std=0.31), update to 4.52\n",
      "ID 240 - Outlier up for ecPEF (L/s), day 2023-04-29: 9.30 > 9.13 and > 8.67 (mean=7.67,std=0.49), update to 7.08\n",
      "ID 240 - Outlier up for ecPEF (L/s), day 2023-08-06: 10.33 > 9.56 and > 9.08 (mean=8.08,std=0.50), update to 7.92\n",
      "ID 244 - Outlier up for ecPEF (L/s), day 2022-08-27: 13.08 > 11.37 and > 9.84 (mean=8.84,std=0.84), update to 8.78\n",
      "ID 244 - Outlier up for ecPEF (L/s), day 2022-10-08: 12.10 > 11.03 and > 9.74 (mean=8.74,std=0.76), update to 8.33\n",
      "ID 245 - Outlier up for ecPEF (L/s), day 2021-08-25: 7.58 > 7.06 and > 7.39 (mean=6.39,std=0.22), update to 6.27\n",
      "ID 271 - Outlier up for ecPEF (L/s), day 2023-02-19: 14.07 > 12.98 and > 8.43 (mean=7.43,std=1.85), update to 7.32\n",
      "ID 271 - Outlier up for ecPEF (L/s), day 2023-04-09: 10.02 > 9.66 and > 7.70 (mean=6.70,std=0.98), update to 6.63\n",
      "ID 272 - Outlier up for ecPEF (L/s), day 2023-01-27: 9.42 > 8.76 and > 6.93 (mean=5.93,std=0.94), update to 5.68\n",
      "ID 306 - Outlier up for ecPEF (L/s), day 2021-06-17: 9.83 > 9.50 and > 7.21 (mean=6.21,std=1.10), update to 6.98\n",
      "ID 319 - Outlier up for ecPEF (L/s), day 2023-01-10: 13.68 > 12.91 and > 11.18 (mean=10.18,std=0.91), update to 10.17\n",
      "ID 319 - Outlier up for ecPEF (L/s), day 2023-10-08: 14.37 > 14.23 and > 11.33 (mean=10.33,std=1.30), update to 9.95\n",
      "ID 319 - Outlier up for ecPEF (L/s), day 2023-11-11: 16.10 > 10.73 and > 11.24 (mean=10.24,std=0.16), update to 10.37\n",
      "ID 336 - Outlier up for ecPEF (L/s), day 2022-10-12: 9.92 > 9.65 and > 9.29 (mean=8.29,std=0.45), update to 8.47\n",
      "ID 336 - Outlier up for ecPEF (L/s), day 2023-03-21: 13.72 > 12.74 and > 9.72 (mean=8.72,std=1.34), update to 8.58\n",
      "ID 336 - Outlier up for ecPEF (L/s), day 2023-04-21: 14.02 > 13.49 and > 9.63 (mean=8.63,std=1.62), update to 8.25\n",
      "Warning for ID 202: FEV1 % Predicted should be in 0-140%, got 147.24696075623552\n",
      "Warning for ID 202: FEV1 % Predicted should be in 0-140%, got 147.24696075623552\n",
      "Warning for ID 202: FEV1 % Predicted should be in 0-140%, got 147.24696075623552\n",
      "Warning for ID 202: FEV1 % Predicted should be in 0-140%, got 149.50534972488947\n",
      "Warning for ID 202: FEV1 % Predicted should be in 0-140%, got 149.50534972488947\n",
      "Warning for ID 202: FEV1 % Predicted should be in 0-140%, got 149.50534972488947\n",
      "Warning for ID 202: FEV1 % Predicted should be in 0-140%, got 147.24696075623552\n",
      "Warning for ID 202: FEV1 % Predicted should be in 0-140%, got 149.50534972488947\n",
      "Warning for ID 244: FEV1 % Predicted should be in 0-140%, got 144.81457082654669\n",
      "Built data structure with 243 IDs and 48978 entries\n"
     ]
    }
   ],
   "source": [
    "# BR_O2_FEV1_FEF2575_PEF_Nan\n",
    "df = bd.build_O2_FEV1_FEF2575_PEF_df(remove_nan=False, meas_file=2)"
   ]
  },
  {
   "cell_type": "code",
   "execution_count": 5,
   "metadata": {},
   "outputs": [],
   "source": [
    "df.to_excel(\n",
    "    dh.get_path_to_main() + \"/ExcelFiles/BR/BR_O2_FEV1_FEF2575_PEF_Nan.xlsx\",\n",
    "    index=False,\n",
    ")"
   ]
  },
  {
   "cell_type": "code",
   "execution_count": 6,
   "metadata": {},
   "outputs": [
    {
     "ename": "ValueError",
     "evalue": "'usecols' must either be list-like of all strings, all unicode, all integers or a callable.",
     "output_type": "error",
     "traceback": [
      "\u001b[0;31m---------------------------------------------------------------------------\u001b[0m",
      "\u001b[0;31mValueError\u001b[0m                                Traceback (most recent call last)",
      "Cell \u001b[0;32mIn[6], line 1\u001b[0m\n\u001b[0;32m----> 1\u001b[0m df \u001b[38;5;241m=\u001b[39m \u001b[43mpd\u001b[49m\u001b[38;5;241;43m.\u001b[39;49m\u001b[43mread_csv\u001b[49m\u001b[43m(\u001b[49m\n\u001b[1;32m      2\u001b[0m \u001b[43m    \u001b[49m\u001b[38;5;124;43mf\u001b[39;49m\u001b[38;5;124;43m\"\u001b[39;49m\u001b[38;5;132;43;01m{\u001b[39;49;00m\u001b[43mdh\u001b[49m\u001b[38;5;241;43m.\u001b[39;49m\u001b[43mget_path_to_main\u001b[49m\u001b[43m(\u001b[49m\u001b[43m)\u001b[49m\u001b[38;5;132;43;01m}\u001b[39;49;00m\u001b[38;5;124;43mDataFiles/BR/REDCapData/ProcessedData/brPatient_20240510.csv\u001b[39;49m\u001b[38;5;124;43m\"\u001b[39;49m\u001b[43m,\u001b[49m\n\u001b[1;32m      3\u001b[0m \u001b[43m    \u001b[49m\u001b[43musecols\u001b[49m\u001b[38;5;241;43m=\u001b[39;49m\u001b[38;5;124;43m\"\u001b[39;49m\u001b[38;5;124;43mA, J, K, L\u001b[39;49m\u001b[38;5;124;43m\"\u001b[39;49m\u001b[43m,\u001b[49m\n\u001b[1;32m      4\u001b[0m \u001b[43m)\u001b[49m\n",
      "File \u001b[0;32m/Applications/anaconda3/envs/phd/lib/python3.10/site-packages/pandas/io/parsers/readers.py:948\u001b[0m, in \u001b[0;36mread_csv\u001b[0;34m(filepath_or_buffer, sep, delimiter, header, names, index_col, usecols, dtype, engine, converters, true_values, false_values, skipinitialspace, skiprows, skipfooter, nrows, na_values, keep_default_na, na_filter, verbose, skip_blank_lines, parse_dates, infer_datetime_format, keep_date_col, date_parser, date_format, dayfirst, cache_dates, iterator, chunksize, compression, thousands, decimal, lineterminator, quotechar, quoting, doublequote, escapechar, comment, encoding, encoding_errors, dialect, on_bad_lines, delim_whitespace, low_memory, memory_map, float_precision, storage_options, dtype_backend)\u001b[0m\n\u001b[1;32m    935\u001b[0m kwds_defaults \u001b[38;5;241m=\u001b[39m _refine_defaults_read(\n\u001b[1;32m    936\u001b[0m     dialect,\n\u001b[1;32m    937\u001b[0m     delimiter,\n\u001b[0;32m   (...)\u001b[0m\n\u001b[1;32m    944\u001b[0m     dtype_backend\u001b[38;5;241m=\u001b[39mdtype_backend,\n\u001b[1;32m    945\u001b[0m )\n\u001b[1;32m    946\u001b[0m kwds\u001b[38;5;241m.\u001b[39mupdate(kwds_defaults)\n\u001b[0;32m--> 948\u001b[0m \u001b[38;5;28;01mreturn\u001b[39;00m \u001b[43m_read\u001b[49m\u001b[43m(\u001b[49m\u001b[43mfilepath_or_buffer\u001b[49m\u001b[43m,\u001b[49m\u001b[43m \u001b[49m\u001b[43mkwds\u001b[49m\u001b[43m)\u001b[49m\n",
      "File \u001b[0;32m/Applications/anaconda3/envs/phd/lib/python3.10/site-packages/pandas/io/parsers/readers.py:611\u001b[0m, in \u001b[0;36m_read\u001b[0;34m(filepath_or_buffer, kwds)\u001b[0m\n\u001b[1;32m    608\u001b[0m _validate_names(kwds\u001b[38;5;241m.\u001b[39mget(\u001b[38;5;124m\"\u001b[39m\u001b[38;5;124mnames\u001b[39m\u001b[38;5;124m\"\u001b[39m, \u001b[38;5;28;01mNone\u001b[39;00m))\n\u001b[1;32m    610\u001b[0m \u001b[38;5;66;03m# Create the parser.\u001b[39;00m\n\u001b[0;32m--> 611\u001b[0m parser \u001b[38;5;241m=\u001b[39m \u001b[43mTextFileReader\u001b[49m\u001b[43m(\u001b[49m\u001b[43mfilepath_or_buffer\u001b[49m\u001b[43m,\u001b[49m\u001b[43m \u001b[49m\u001b[38;5;241;43m*\u001b[39;49m\u001b[38;5;241;43m*\u001b[39;49m\u001b[43mkwds\u001b[49m\u001b[43m)\u001b[49m\n\u001b[1;32m    613\u001b[0m \u001b[38;5;28;01mif\u001b[39;00m chunksize \u001b[38;5;129;01mor\u001b[39;00m iterator:\n\u001b[1;32m    614\u001b[0m     \u001b[38;5;28;01mreturn\u001b[39;00m parser\n",
      "File \u001b[0;32m/Applications/anaconda3/envs/phd/lib/python3.10/site-packages/pandas/io/parsers/readers.py:1448\u001b[0m, in \u001b[0;36mTextFileReader.__init__\u001b[0;34m(self, f, engine, **kwds)\u001b[0m\n\u001b[1;32m   1445\u001b[0m     \u001b[38;5;28mself\u001b[39m\u001b[38;5;241m.\u001b[39moptions[\u001b[38;5;124m\"\u001b[39m\u001b[38;5;124mhas_index_names\u001b[39m\u001b[38;5;124m\"\u001b[39m] \u001b[38;5;241m=\u001b[39m kwds[\u001b[38;5;124m\"\u001b[39m\u001b[38;5;124mhas_index_names\u001b[39m\u001b[38;5;124m\"\u001b[39m]\n\u001b[1;32m   1447\u001b[0m \u001b[38;5;28mself\u001b[39m\u001b[38;5;241m.\u001b[39mhandles: IOHandles \u001b[38;5;241m|\u001b[39m \u001b[38;5;28;01mNone\u001b[39;00m \u001b[38;5;241m=\u001b[39m \u001b[38;5;28;01mNone\u001b[39;00m\n\u001b[0;32m-> 1448\u001b[0m \u001b[38;5;28mself\u001b[39m\u001b[38;5;241m.\u001b[39m_engine \u001b[38;5;241m=\u001b[39m \u001b[38;5;28;43mself\u001b[39;49m\u001b[38;5;241;43m.\u001b[39;49m\u001b[43m_make_engine\u001b[49m\u001b[43m(\u001b[49m\u001b[43mf\u001b[49m\u001b[43m,\u001b[49m\u001b[43m \u001b[49m\u001b[38;5;28;43mself\u001b[39;49m\u001b[38;5;241;43m.\u001b[39;49m\u001b[43mengine\u001b[49m\u001b[43m)\u001b[49m\n",
      "File \u001b[0;32m/Applications/anaconda3/envs/phd/lib/python3.10/site-packages/pandas/io/parsers/readers.py:1723\u001b[0m, in \u001b[0;36mTextFileReader._make_engine\u001b[0;34m(self, f, engine)\u001b[0m\n\u001b[1;32m   1720\u001b[0m     \u001b[38;5;28;01mraise\u001b[39;00m \u001b[38;5;167;01mValueError\u001b[39;00m(msg)\n\u001b[1;32m   1722\u001b[0m \u001b[38;5;28;01mtry\u001b[39;00m:\n\u001b[0;32m-> 1723\u001b[0m     \u001b[38;5;28;01mreturn\u001b[39;00m \u001b[43mmapping\u001b[49m\u001b[43m[\u001b[49m\u001b[43mengine\u001b[49m\u001b[43m]\u001b[49m\u001b[43m(\u001b[49m\u001b[43mf\u001b[49m\u001b[43m,\u001b[49m\u001b[43m \u001b[49m\u001b[38;5;241;43m*\u001b[39;49m\u001b[38;5;241;43m*\u001b[39;49m\u001b[38;5;28;43mself\u001b[39;49m\u001b[38;5;241;43m.\u001b[39;49m\u001b[43moptions\u001b[49m\u001b[43m)\u001b[49m\n\u001b[1;32m   1724\u001b[0m \u001b[38;5;28;01mexcept\u001b[39;00m \u001b[38;5;167;01mException\u001b[39;00m:\n\u001b[1;32m   1725\u001b[0m     \u001b[38;5;28;01mif\u001b[39;00m \u001b[38;5;28mself\u001b[39m\u001b[38;5;241m.\u001b[39mhandles \u001b[38;5;129;01mis\u001b[39;00m \u001b[38;5;129;01mnot\u001b[39;00m \u001b[38;5;28;01mNone\u001b[39;00m:\n",
      "File \u001b[0;32m/Applications/anaconda3/envs/phd/lib/python3.10/site-packages/pandas/io/parsers/c_parser_wrapper.py:61\u001b[0m, in \u001b[0;36mCParserWrapper.__init__\u001b[0;34m(self, src, **kwds)\u001b[0m\n\u001b[1;32m     60\u001b[0m \u001b[38;5;28;01mdef\u001b[39;00m \u001b[38;5;21m__init__\u001b[39m(\u001b[38;5;28mself\u001b[39m, src: ReadCsvBuffer[\u001b[38;5;28mstr\u001b[39m], \u001b[38;5;241m*\u001b[39m\u001b[38;5;241m*\u001b[39mkwds) \u001b[38;5;241m-\u001b[39m\u001b[38;5;241m>\u001b[39m \u001b[38;5;28;01mNone\u001b[39;00m:\n\u001b[0;32m---> 61\u001b[0m     \u001b[38;5;28;43msuper\u001b[39;49m\u001b[43m(\u001b[49m\u001b[43m)\u001b[49m\u001b[38;5;241;43m.\u001b[39;49m\u001b[38;5;21;43m__init__\u001b[39;49m\u001b[43m(\u001b[49m\u001b[43mkwds\u001b[49m\u001b[43m)\u001b[49m\n\u001b[1;32m     62\u001b[0m     \u001b[38;5;28mself\u001b[39m\u001b[38;5;241m.\u001b[39mkwds \u001b[38;5;241m=\u001b[39m kwds\n\u001b[1;32m     63\u001b[0m     kwds \u001b[38;5;241m=\u001b[39m kwds\u001b[38;5;241m.\u001b[39mcopy()\n",
      "File \u001b[0;32m/Applications/anaconda3/envs/phd/lib/python3.10/site-packages/pandas/io/parsers/base_parser.py:184\u001b[0m, in \u001b[0;36mParserBase.__init__\u001b[0;34m(self, kwds)\u001b[0m\n\u001b[1;32m    180\u001b[0m \u001b[38;5;28mself\u001b[39m\u001b[38;5;241m.\u001b[39m_name_processed \u001b[38;5;241m=\u001b[39m \u001b[38;5;28;01mFalse\u001b[39;00m\n\u001b[1;32m    182\u001b[0m \u001b[38;5;28mself\u001b[39m\u001b[38;5;241m.\u001b[39m_first_chunk \u001b[38;5;241m=\u001b[39m \u001b[38;5;28;01mTrue\u001b[39;00m\n\u001b[0;32m--> 184\u001b[0m \u001b[38;5;28mself\u001b[39m\u001b[38;5;241m.\u001b[39musecols, \u001b[38;5;28mself\u001b[39m\u001b[38;5;241m.\u001b[39musecols_dtype \u001b[38;5;241m=\u001b[39m \u001b[38;5;28;43mself\u001b[39;49m\u001b[38;5;241;43m.\u001b[39;49m\u001b[43m_validate_usecols_arg\u001b[49m\u001b[43m(\u001b[49m\u001b[43mkwds\u001b[49m\u001b[43m[\u001b[49m\u001b[38;5;124;43m\"\u001b[39;49m\u001b[38;5;124;43musecols\u001b[39;49m\u001b[38;5;124;43m\"\u001b[39;49m\u001b[43m]\u001b[49m\u001b[43m)\u001b[49m\n\u001b[1;32m    186\u001b[0m \u001b[38;5;66;03m# Fallback to error to pass a sketchy test(test_override_set_noconvert_columns)\u001b[39;00m\n\u001b[1;32m    187\u001b[0m \u001b[38;5;66;03m# Normally, this arg would get pre-processed earlier on\u001b[39;00m\n\u001b[1;32m    188\u001b[0m \u001b[38;5;28mself\u001b[39m\u001b[38;5;241m.\u001b[39mon_bad_lines \u001b[38;5;241m=\u001b[39m kwds\u001b[38;5;241m.\u001b[39mget(\u001b[38;5;124m\"\u001b[39m\u001b[38;5;124mon_bad_lines\u001b[39m\u001b[38;5;124m\"\u001b[39m, \u001b[38;5;28mself\u001b[39m\u001b[38;5;241m.\u001b[39mBadLineHandleMethod\u001b[38;5;241m.\u001b[39mERROR)\n",
      "File \u001b[0;32m/Applications/anaconda3/envs/phd/lib/python3.10/site-packages/pandas/io/parsers/base_parser.py:1014\u001b[0m, in \u001b[0;36mParserBase._validate_usecols_arg\u001b[0;34m(self, usecols)\u001b[0m\n\u001b[1;32m   1008\u001b[0m     \u001b[38;5;28;01mreturn\u001b[39;00m usecols, \u001b[38;5;28;01mNone\u001b[39;00m\n\u001b[1;32m   1010\u001b[0m \u001b[38;5;28;01mif\u001b[39;00m \u001b[38;5;129;01mnot\u001b[39;00m is_list_like(usecols):\n\u001b[1;32m   1011\u001b[0m     \u001b[38;5;66;03m# see gh-20529\u001b[39;00m\n\u001b[1;32m   1012\u001b[0m     \u001b[38;5;66;03m#\u001b[39;00m\n\u001b[1;32m   1013\u001b[0m     \u001b[38;5;66;03m# Ensure it is iterable container but not string.\u001b[39;00m\n\u001b[0;32m-> 1014\u001b[0m     \u001b[38;5;28;01mraise\u001b[39;00m \u001b[38;5;167;01mValueError\u001b[39;00m(msg)\n\u001b[1;32m   1016\u001b[0m usecols_dtype \u001b[38;5;241m=\u001b[39m lib\u001b[38;5;241m.\u001b[39minfer_dtype(usecols, skipna\u001b[38;5;241m=\u001b[39m\u001b[38;5;28;01mFalse\u001b[39;00m)\n\u001b[1;32m   1018\u001b[0m \u001b[38;5;28;01mif\u001b[39;00m usecols_dtype \u001b[38;5;129;01mnot\u001b[39;00m \u001b[38;5;129;01min\u001b[39;00m (\u001b[38;5;124m\"\u001b[39m\u001b[38;5;124mempty\u001b[39m\u001b[38;5;124m\"\u001b[39m, \u001b[38;5;124m\"\u001b[39m\u001b[38;5;124minteger\u001b[39m\u001b[38;5;124m\"\u001b[39m, \u001b[38;5;124m\"\u001b[39m\u001b[38;5;124mstring\u001b[39m\u001b[38;5;124m\"\u001b[39m):\n",
      "\u001b[0;31mValueError\u001b[0m: 'usecols' must either be list-like of all strings, all unicode, all integers or a callable."
     ]
    }
   ],
   "source": [
    "df = pd.read_csv(\n",
    "    f\"{dh.get_path_to_main()}DataFiles/BR/REDCapData/ProcessedData/brPatient_20240510.csv\",\n",
    "    # usecols=\"A, E, G, H, Y\"\n",
    "    usecols=[0, 4, 6, 7, 24],\n",
    ")"
   ]
  },
  {
   "cell_type": "code",
   "execution_count": null,
   "metadata": {},
   "outputs": [],
   "source": []
  }
 ],
 "metadata": {
  "kernelspec": {
   "display_name": "phd",
   "language": "python",
   "name": "python3"
  },
  "language_info": {
   "codemirror_mode": {
    "name": "ipython",
    "version": 3
   },
   "file_extension": ".py",
   "mimetype": "text/x-python",
   "name": "python",
   "nbconvert_exporter": "python",
   "pygments_lexer": "ipython3",
   "version": "3.10.13"
  }
 },
 "nbformat": 4,
 "nbformat_minor": 2
}
