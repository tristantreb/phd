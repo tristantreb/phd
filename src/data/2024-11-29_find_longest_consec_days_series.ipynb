{
    "cells": [
        {
            "cell_type": "code",
            "execution_count": 1,
            "metadata": {},
            "outputs": [],
            "source": [
                "import data.breathe_data as bd\n",
                "import inference.long_inf_slicing as slicing\n",
                "import models.builders as mb\n",
                "import models.var_builders as var_builders\n",
                "import inference.helpers as ih\n",
                "from plotly.subplots import make_subplots\n",
                "import models.helpers as mh\n",
                "import data.helpers as dh\n",
                "import plotly.graph_objects as go\n",
                "import plotly.express as px\n",
                "import pandas as pd\n",
                "import numpy as np"
            ]
        },
        {
            "cell_type": "code",
            "execution_count": 2,
            "metadata": {},
            "outputs": [
                {
                    "name": "stderr",
                    "output_type": "stream",
                    "text": [
                        "INFO:root:* Checking for same day measurements *\n"
                    ]
                }
            ],
            "source": [
                "df = bd.load_meas_from_excel(\"BR_O2_FEV1_FEF2575_conservative_smoothing_with_idx\")"
            ]
        },
        {
            "cell_type": "code",
            "execution_count": 3,
            "metadata": {},
            "outputs": [],
            "source": [
                "# Get longest consec series\n",
                "\n",
                "df_consec = pd.DataFrame(index=df.ID.unique())\n",
                "for i in range(len(df_consec)):\n",
                "    id = df_consec.index[i]\n",
                "    df_for_ID = df[df.ID == id]\n",
                "    subdf, stard_idx, end_idx = dh.find_longest_conseq_sequence(df_for_ID, n_missing_days_allowed=0)\n",
                "    df_consec.loc[id, \"0 days\"] = len(subdf)\n",
                "    subdf, stard_idx, end_idx = dh.find_longest_conseq_sequence(df_for_ID, n_missing_days_allowed=1)\n",
                "    df_consec.loc[id, \"1 day\"] = len(subdf)\n",
                "    subdf, stard_idx, end_idx = dh.find_longest_conseq_sequence(df_for_ID, n_missing_days_allowed=2)\n",
                "    df_consec.loc[id, \"2 days\"] = len(subdf)\n",
                "    subdf, stard_idx, end_idx = dh.find_longest_conseq_sequence(df_for_ID, n_missing_days_allowed=3)\n",
                "    df_consec.loc[id, \"3 days\"] = len(subdf)\n",
                "    subdf, stard_idx, end_idx = dh.find_longest_conseq_sequence(df_for_ID, n_missing_days_allowed=4)\n",
                "    df_consec.loc[id, \"4 days\"] = len(subdf)\n",
                "    subdf, stard_idx, end_idx = dh.find_longest_conseq_sequence(df_for_ID, n_missing_days_allowed=5)\n",
                "    df_consec.loc[id, \"5 days\"] = len(subdf)\n",
                "    subdf, stard_idx, end_idx = dh.find_longest_conseq_sequence(df_for_ID, n_missing_days_allowed=6)\n",
                "    df_consec.loc[id, \"6 days\"] = len(subdf)\n",
                "    df_consec.loc[id, \"count\"] = len(df_for_ID)\n",
                "df_consec = df_consec.astype(int)"
            ]
        },
        {
            "cell_type": "code",
            "execution_count": 28,
            "metadata": {},
            "outputs": [
                {
                    "data": {
                        "text/html": [
                            "<div>\n",
                            "<style scoped>\n",
                            "    .dataframe tbody tr th:only-of-type {\n",
                            "        vertical-align: middle;\n",
                            "    }\n",
                            "\n",
                            "    .dataframe tbody tr th {\n",
                            "        vertical-align: top;\n",
                            "    }\n",
                            "\n",
                            "    .dataframe thead th {\n",
                            "        text-align: right;\n",
                            "    }\n",
                            "</style>\n",
                            "<table border=\"1\" class=\"dataframe\">\n",
                            "  <thead>\n",
                            "    <tr style=\"text-align: right;\">\n",
                            "      <th></th>\n",
                            "      <th>1 day</th>\n",
                            "      <th>2 days</th>\n",
                            "      <th>3 days</th>\n",
                            "      <th>4 days</th>\n",
                            "      <th>5 days</th>\n",
                            "      <th>count</th>\n",
                            "    </tr>\n",
                            "  </thead>\n",
                            "  <tbody>\n",
                            "    <tr>\n",
                            "      <th>101</th>\n",
                            "      <td>536</td>\n",
                            "      <td>592</td>\n",
                            "      <td>592</td>\n",
                            "      <td>592</td>\n",
                            "      <td>592</td>\n",
                            "      <td>1680</td>\n",
                            "    </tr>\n",
                            "    <tr>\n",
                            "      <th>102</th>\n",
                            "      <td>16</td>\n",
                            "      <td>24</td>\n",
                            "      <td>47</td>\n",
                            "      <td>47</td>\n",
                            "      <td>47</td>\n",
                            "      <td>263</td>\n",
                            "    </tr>\n",
                            "    <tr>\n",
                            "      <th>103</th>\n",
                            "      <td>72</td>\n",
                            "      <td>88</td>\n",
                            "      <td>88</td>\n",
                            "      <td>88</td>\n",
                            "      <td>88</td>\n",
                            "      <td>375</td>\n",
                            "    </tr>\n",
                            "    <tr>\n",
                            "      <th>104</th>\n",
                            "      <td>8</td>\n",
                            "      <td>10</td>\n",
                            "      <td>14</td>\n",
                            "      <td>32</td>\n",
                            "      <td>32</td>\n",
                            "      <td>222</td>\n",
                            "    </tr>\n",
                            "    <tr>\n",
                            "      <th>105</th>\n",
                            "      <td>4</td>\n",
                            "      <td>6</td>\n",
                            "      <td>6</td>\n",
                            "      <td>6</td>\n",
                            "      <td>6</td>\n",
                            "      <td>6</td>\n",
                            "    </tr>\n",
                            "  </tbody>\n",
                            "</table>\n",
                            "</div>"
                        ],
                        "text/plain": [
                            "     1 day  2 days  3 days  4 days  5 days  count\n",
                            "101    536     592     592     592     592   1680\n",
                            "102     16      24      47      47      47    263\n",
                            "103     72      88      88      88      88    375\n",
                            "104      8      10      14      32      32    222\n",
                            "105      4       6       6       6       6      6"
                        ]
                    },
                    "execution_count": 28,
                    "metadata": {},
                    "output_type": "execute_result"
                }
            ],
            "source": [
                "df_consec.head()"
            ]
        },
        {
            "cell_type": "code",
            "execution_count": 5,
            "metadata": {},
            "outputs": [
                {
                    "data": {
                        "text/html": [
                            "<div>\n",
                            "<style scoped>\n",
                            "    .dataframe tbody tr th:only-of-type {\n",
                            "        vertical-align: middle;\n",
                            "    }\n",
                            "\n",
                            "    .dataframe tbody tr th {\n",
                            "        vertical-align: top;\n",
                            "    }\n",
                            "\n",
                            "    .dataframe thead th {\n",
                            "        text-align: right;\n",
                            "    }\n",
                            "</style>\n",
                            "<table border=\"1\" class=\"dataframe\">\n",
                            "  <thead>\n",
                            "    <tr style=\"text-align: right;\">\n",
                            "      <th></th>\n",
                            "      <th>1 day</th>\n",
                            "      <th>2 days</th>\n",
                            "      <th>3 days</th>\n",
                            "      <th>4 days</th>\n",
                            "      <th>count</th>\n",
                            "    </tr>\n",
                            "  </thead>\n",
                            "  <tbody>\n",
                            "    <tr>\n",
                            "      <th>Number of datapoints</th>\n",
                            "      <td>4568</td>\n",
                            "      <td>9049</td>\n",
                            "      <td>12224</td>\n",
                            "      <td>15445</td>\n",
                            "      <td>41260</td>\n",
                            "    </tr>\n",
                            "    <tr>\n",
                            "      <th>IDs with over 10 datapoints</th>\n",
                            "      <td>86</td>\n",
                            "      <td>130</td>\n",
                            "      <td>154</td>\n",
                            "      <td>154</td>\n",
                            "      <td>352</td>\n",
                            "    </tr>\n",
                            "    <tr>\n",
                            "      <th>IDs with over 100 datapoints</th>\n",
                            "      <td>5</td>\n",
                            "      <td>14</td>\n",
                            "      <td>22</td>\n",
                            "      <td>22</td>\n",
                            "      <td>352</td>\n",
                            "    </tr>\n",
                            "  </tbody>\n",
                            "</table>\n",
                            "</div>"
                        ],
                        "text/plain": [
                            "                              1 day  2 days  3 days  4 days  count\n",
                            "Number of datapoints           4568    9049   12224   15445  41260\n",
                            "IDs with over 10 datapoints      86     130     154     154    352\n",
                            "IDs with over 100 datapoints      5      14      22      22    352"
                        ]
                    },
                    "execution_count": 5,
                    "metadata": {},
                    "output_type": "execute_result"
                }
            ],
            "source": [
                "# Create df with columns: 1 day, 2 days, 3 days, count, and rows: number of data, number of IDs with over 50 datapoints\n",
                "# n_ids_col = \"IDs with over 10 datapoints\"\n",
                "# n_ids_col2 = \"IDs with over 100 datapoints\"\n",
                "# df1 = pd.DataFrame(index=[\"Number of datapoints\", n_ids_col, n_ids_col2])\n",
                "# df1.loc[\"Number of datapoints\", \"1 day\"] = df_consec[\"1 day\"].sum()\n",
                "# df1.loc[\"Number of datapoints\", \"2 days\"] = df_consec[\"2 days\"].sum()\n",
                "# df1.loc[\"Number of datapoints\", \"3 days\"] = df_consec[\"3 days\"].sum()\n",
                "# df1.loc[\"Number of datapoints\", \"4 days\"] = df_consec[\"4 days\"].sum()\n",
                "# df1.loc[\"Number of datapoints\", \"count\"] = df_consec[\"count\"].sum()\n",
                "# df1.loc[n_ids_col, \"1 day\"] = df_consec[df_consec[\"1 day\"] > 10].shape[0]\n",
                "# df1.loc[n_ids_col, \"2 days\"] = df_consec[df_consec[\"2 days\"] > 10].shape[0]\n",
                "# df1.loc[n_ids_col, \"3 days\"] = df_consec[df_consec[\"3 days\"] > 10].shape[0]\n",
                "# df1.loc[n_ids_col, \"4 days\"] = df_consec[df_consec[\"3 days\"] > 10].shape[0]\n",
                "# df1.loc[n_ids_col, \"count\"] = df_consec.shape[0]\n",
                "# df1.loc[n_ids_col2, \"1 day\"] = df_consec[df_consec[\"1 day\"] > 100].shape[0]\n",
                "# df1.loc[n_ids_col2, \"2 days\"] = df_consec[df_consec[\"2 days\"] > 100].shape[0]\n",
                "# df1.loc[n_ids_col2, \"3 days\"] = df_consec[df_consec[\"3 days\"] > 100].shape[0]\n",
                "# df1.loc[n_ids_col2, \"4 days\"] = df_consec[df_consec[\"3 days\"] > 100].shape[0]\n",
                "# df1.loc[n_ids_col2, \"count\"] = df_consec.shape[0]\n",
                "# df1 = df1.astype(int)\n",
                "# df1.head()"
            ]
        },
        {
            "cell_type": "code",
            "execution_count": 48,
            "metadata": {},
            "outputs": [
                {
                    "data": {
                        "application/vnd.plotly.v1+json": {
                            "config": {
                                "plotlyServerURL": "https://plot.ly"
                            },
                            "data": [
                                {
                                    "line": {
                                        "color": "#0000ff"
                                    },
                                    "marker": {
                                        "color": "#0000ff"
                                    },
                                    "mode": "lines+markers",
                                    "name": "0 days",
                                    "type": "scatter",
                                    "x": [
                                        5,
                                        8,
                                        10,
                                        15,
                                        20,
                                        25,
                                        30
                                    ],
                                    "y": [
                                        130,
                                        104,
                                        86,
                                        61,
                                        42,
                                        35,
                                        29
                                    ]
                                },
                                {
                                    "line": {
                                        "color": "#0000cc"
                                    },
                                    "marker": {
                                        "color": "#0000cc"
                                    },
                                    "mode": "lines+markers",
                                    "name": "1 day",
                                    "type": "scatter",
                                    "x": [
                                        5,
                                        8,
                                        10,
                                        15,
                                        20,
                                        25,
                                        30
                                    ],
                                    "y": [
                                        179,
                                        150,
                                        130,
                                        100,
                                        81,
                                        66,
                                        59
                                    ]
                                },
                                {
                                    "line": {
                                        "color": "#000099"
                                    },
                                    "marker": {
                                        "color": "#000099"
                                    },
                                    "mode": "lines+markers",
                                    "name": "2 days",
                                    "type": "scatter",
                                    "x": [
                                        5,
                                        8,
                                        10,
                                        15,
                                        20,
                                        25,
                                        30
                                    ],
                                    "y": [
                                        205,
                                        173,
                                        154,
                                        127,
                                        110,
                                        104,
                                        87
                                    ]
                                },
                                {
                                    "line": {
                                        "color": "#000066"
                                    },
                                    "marker": {
                                        "color": "#000066"
                                    },
                                    "mode": "lines+markers",
                                    "name": "3 days",
                                    "type": "scatter",
                                    "x": [
                                        5,
                                        8,
                                        10,
                                        15,
                                        20,
                                        25,
                                        30
                                    ],
                                    "y": [
                                        221,
                                        190,
                                        173,
                                        148,
                                        132,
                                        115,
                                        105
                                    ]
                                }
                            ],
                            "layout": {
                                "height": 400,
                                "legend": {
                                    "orientation": "h",
                                    "x": 1,
                                    "xanchor": "right",
                                    "y": 1.02,
                                    "yanchor": "bottom"
                                },
                                "template": {
                                    "data": {
                                        "bar": [
                                            {
                                                "error_x": {
                                                    "color": "#2a3f5f"
                                                },
                                                "error_y": {
                                                    "color": "#2a3f5f"
                                                },
                                                "marker": {
                                                    "line": {
                                                        "color": "#E5ECF6",
                                                        "width": 0.5
                                                    },
                                                    "pattern": {
                                                        "fillmode": "overlay",
                                                        "size": 10,
                                                        "solidity": 0.2
                                                    }
                                                },
                                                "type": "bar"
                                            }
                                        ],
                                        "barpolar": [
                                            {
                                                "marker": {
                                                    "line": {
                                                        "color": "#E5ECF6",
                                                        "width": 0.5
                                                    },
                                                    "pattern": {
                                                        "fillmode": "overlay",
                                                        "size": 10,
                                                        "solidity": 0.2
                                                    }
                                                },
                                                "type": "barpolar"
                                            }
                                        ],
                                        "carpet": [
                                            {
                                                "aaxis": {
                                                    "endlinecolor": "#2a3f5f",
                                                    "gridcolor": "white",
                                                    "linecolor": "white",
                                                    "minorgridcolor": "white",
                                                    "startlinecolor": "#2a3f5f"
                                                },
                                                "baxis": {
                                                    "endlinecolor": "#2a3f5f",
                                                    "gridcolor": "white",
                                                    "linecolor": "white",
                                                    "minorgridcolor": "white",
                                                    "startlinecolor": "#2a3f5f"
                                                },
                                                "type": "carpet"
                                            }
                                        ],
                                        "choropleth": [
                                            {
                                                "colorbar": {
                                                    "outlinewidth": 0,
                                                    "ticks": ""
                                                },
                                                "type": "choropleth"
                                            }
                                        ],
                                        "contour": [
                                            {
                                                "colorbar": {
                                                    "outlinewidth": 0,
                                                    "ticks": ""
                                                },
                                                "colorscale": [
                                                    [
                                                        0,
                                                        "#0d0887"
                                                    ],
                                                    [
                                                        0.1111111111111111,
                                                        "#46039f"
                                                    ],
                                                    [
                                                        0.2222222222222222,
                                                        "#7201a8"
                                                    ],
                                                    [
                                                        0.3333333333333333,
                                                        "#9c179e"
                                                    ],
                                                    [
                                                        0.4444444444444444,
                                                        "#bd3786"
                                                    ],
                                                    [
                                                        0.5555555555555556,
                                                        "#d8576b"
                                                    ],
                                                    [
                                                        0.6666666666666666,
                                                        "#ed7953"
                                                    ],
                                                    [
                                                        0.7777777777777778,
                                                        "#fb9f3a"
                                                    ],
                                                    [
                                                        0.8888888888888888,
                                                        "#fdca26"
                                                    ],
                                                    [
                                                        1,
                                                        "#f0f921"
                                                    ]
                                                ],
                                                "type": "contour"
                                            }
                                        ],
                                        "contourcarpet": [
                                            {
                                                "colorbar": {
                                                    "outlinewidth": 0,
                                                    "ticks": ""
                                                },
                                                "type": "contourcarpet"
                                            }
                                        ],
                                        "heatmap": [
                                            {
                                                "colorbar": {
                                                    "outlinewidth": 0,
                                                    "ticks": ""
                                                },
                                                "colorscale": [
                                                    [
                                                        0,
                                                        "#0d0887"
                                                    ],
                                                    [
                                                        0.1111111111111111,
                                                        "#46039f"
                                                    ],
                                                    [
                                                        0.2222222222222222,
                                                        "#7201a8"
                                                    ],
                                                    [
                                                        0.3333333333333333,
                                                        "#9c179e"
                                                    ],
                                                    [
                                                        0.4444444444444444,
                                                        "#bd3786"
                                                    ],
                                                    [
                                                        0.5555555555555556,
                                                        "#d8576b"
                                                    ],
                                                    [
                                                        0.6666666666666666,
                                                        "#ed7953"
                                                    ],
                                                    [
                                                        0.7777777777777778,
                                                        "#fb9f3a"
                                                    ],
                                                    [
                                                        0.8888888888888888,
                                                        "#fdca26"
                                                    ],
                                                    [
                                                        1,
                                                        "#f0f921"
                                                    ]
                                                ],
                                                "type": "heatmap"
                                            }
                                        ],
                                        "heatmapgl": [
                                            {
                                                "colorbar": {
                                                    "outlinewidth": 0,
                                                    "ticks": ""
                                                },
                                                "colorscale": [
                                                    [
                                                        0,
                                                        "#0d0887"
                                                    ],
                                                    [
                                                        0.1111111111111111,
                                                        "#46039f"
                                                    ],
                                                    [
                                                        0.2222222222222222,
                                                        "#7201a8"
                                                    ],
                                                    [
                                                        0.3333333333333333,
                                                        "#9c179e"
                                                    ],
                                                    [
                                                        0.4444444444444444,
                                                        "#bd3786"
                                                    ],
                                                    [
                                                        0.5555555555555556,
                                                        "#d8576b"
                                                    ],
                                                    [
                                                        0.6666666666666666,
                                                        "#ed7953"
                                                    ],
                                                    [
                                                        0.7777777777777778,
                                                        "#fb9f3a"
                                                    ],
                                                    [
                                                        0.8888888888888888,
                                                        "#fdca26"
                                                    ],
                                                    [
                                                        1,
                                                        "#f0f921"
                                                    ]
                                                ],
                                                "type": "heatmapgl"
                                            }
                                        ],
                                        "histogram": [
                                            {
                                                "marker": {
                                                    "pattern": {
                                                        "fillmode": "overlay",
                                                        "size": 10,
                                                        "solidity": 0.2
                                                    }
                                                },
                                                "type": "histogram"
                                            }
                                        ],
                                        "histogram2d": [
                                            {
                                                "colorbar": {
                                                    "outlinewidth": 0,
                                                    "ticks": ""
                                                },
                                                "colorscale": [
                                                    [
                                                        0,
                                                        "#0d0887"
                                                    ],
                                                    [
                                                        0.1111111111111111,
                                                        "#46039f"
                                                    ],
                                                    [
                                                        0.2222222222222222,
                                                        "#7201a8"
                                                    ],
                                                    [
                                                        0.3333333333333333,
                                                        "#9c179e"
                                                    ],
                                                    [
                                                        0.4444444444444444,
                                                        "#bd3786"
                                                    ],
                                                    [
                                                        0.5555555555555556,
                                                        "#d8576b"
                                                    ],
                                                    [
                                                        0.6666666666666666,
                                                        "#ed7953"
                                                    ],
                                                    [
                                                        0.7777777777777778,
                                                        "#fb9f3a"
                                                    ],
                                                    [
                                                        0.8888888888888888,
                                                        "#fdca26"
                                                    ],
                                                    [
                                                        1,
                                                        "#f0f921"
                                                    ]
                                                ],
                                                "type": "histogram2d"
                                            }
                                        ],
                                        "histogram2dcontour": [
                                            {
                                                "colorbar": {
                                                    "outlinewidth": 0,
                                                    "ticks": ""
                                                },
                                                "colorscale": [
                                                    [
                                                        0,
                                                        "#0d0887"
                                                    ],
                                                    [
                                                        0.1111111111111111,
                                                        "#46039f"
                                                    ],
                                                    [
                                                        0.2222222222222222,
                                                        "#7201a8"
                                                    ],
                                                    [
                                                        0.3333333333333333,
                                                        "#9c179e"
                                                    ],
                                                    [
                                                        0.4444444444444444,
                                                        "#bd3786"
                                                    ],
                                                    [
                                                        0.5555555555555556,
                                                        "#d8576b"
                                                    ],
                                                    [
                                                        0.6666666666666666,
                                                        "#ed7953"
                                                    ],
                                                    [
                                                        0.7777777777777778,
                                                        "#fb9f3a"
                                                    ],
                                                    [
                                                        0.8888888888888888,
                                                        "#fdca26"
                                                    ],
                                                    [
                                                        1,
                                                        "#f0f921"
                                                    ]
                                                ],
                                                "type": "histogram2dcontour"
                                            }
                                        ],
                                        "mesh3d": [
                                            {
                                                "colorbar": {
                                                    "outlinewidth": 0,
                                                    "ticks": ""
                                                },
                                                "type": "mesh3d"
                                            }
                                        ],
                                        "parcoords": [
                                            {
                                                "line": {
                                                    "colorbar": {
                                                        "outlinewidth": 0,
                                                        "ticks": ""
                                                    }
                                                },
                                                "type": "parcoords"
                                            }
                                        ],
                                        "pie": [
                                            {
                                                "automargin": true,
                                                "type": "pie"
                                            }
                                        ],
                                        "scatter": [
                                            {
                                                "fillpattern": {
                                                    "fillmode": "overlay",
                                                    "size": 10,
                                                    "solidity": 0.2
                                                },
                                                "type": "scatter"
                                            }
                                        ],
                                        "scatter3d": [
                                            {
                                                "line": {
                                                    "colorbar": {
                                                        "outlinewidth": 0,
                                                        "ticks": ""
                                                    }
                                                },
                                                "marker": {
                                                    "colorbar": {
                                                        "outlinewidth": 0,
                                                        "ticks": ""
                                                    }
                                                },
                                                "type": "scatter3d"
                                            }
                                        ],
                                        "scattercarpet": [
                                            {
                                                "marker": {
                                                    "colorbar": {
                                                        "outlinewidth": 0,
                                                        "ticks": ""
                                                    }
                                                },
                                                "type": "scattercarpet"
                                            }
                                        ],
                                        "scattergeo": [
                                            {
                                                "marker": {
                                                    "colorbar": {
                                                        "outlinewidth": 0,
                                                        "ticks": ""
                                                    }
                                                },
                                                "type": "scattergeo"
                                            }
                                        ],
                                        "scattergl": [
                                            {
                                                "marker": {
                                                    "colorbar": {
                                                        "outlinewidth": 0,
                                                        "ticks": ""
                                                    }
                                                },
                                                "type": "scattergl"
                                            }
                                        ],
                                        "scattermapbox": [
                                            {
                                                "marker": {
                                                    "colorbar": {
                                                        "outlinewidth": 0,
                                                        "ticks": ""
                                                    }
                                                },
                                                "type": "scattermapbox"
                                            }
                                        ],
                                        "scatterpolar": [
                                            {
                                                "marker": {
                                                    "colorbar": {
                                                        "outlinewidth": 0,
                                                        "ticks": ""
                                                    }
                                                },
                                                "type": "scatterpolar"
                                            }
                                        ],
                                        "scatterpolargl": [
                                            {
                                                "marker": {
                                                    "colorbar": {
                                                        "outlinewidth": 0,
                                                        "ticks": ""
                                                    }
                                                },
                                                "type": "scatterpolargl"
                                            }
                                        ],
                                        "scatterternary": [
                                            {
                                                "marker": {
                                                    "colorbar": {
                                                        "outlinewidth": 0,
                                                        "ticks": ""
                                                    }
                                                },
                                                "type": "scatterternary"
                                            }
                                        ],
                                        "surface": [
                                            {
                                                "colorbar": {
                                                    "outlinewidth": 0,
                                                    "ticks": ""
                                                },
                                                "colorscale": [
                                                    [
                                                        0,
                                                        "#0d0887"
                                                    ],
                                                    [
                                                        0.1111111111111111,
                                                        "#46039f"
                                                    ],
                                                    [
                                                        0.2222222222222222,
                                                        "#7201a8"
                                                    ],
                                                    [
                                                        0.3333333333333333,
                                                        "#9c179e"
                                                    ],
                                                    [
                                                        0.4444444444444444,
                                                        "#bd3786"
                                                    ],
                                                    [
                                                        0.5555555555555556,
                                                        "#d8576b"
                                                    ],
                                                    [
                                                        0.6666666666666666,
                                                        "#ed7953"
                                                    ],
                                                    [
                                                        0.7777777777777778,
                                                        "#fb9f3a"
                                                    ],
                                                    [
                                                        0.8888888888888888,
                                                        "#fdca26"
                                                    ],
                                                    [
                                                        1,
                                                        "#f0f921"
                                                    ]
                                                ],
                                                "type": "surface"
                                            }
                                        ],
                                        "table": [
                                            {
                                                "cells": {
                                                    "fill": {
                                                        "color": "#EBF0F8"
                                                    },
                                                    "line": {
                                                        "color": "white"
                                                    }
                                                },
                                                "header": {
                                                    "fill": {
                                                        "color": "#C8D4E3"
                                                    },
                                                    "line": {
                                                        "color": "white"
                                                    }
                                                },
                                                "type": "table"
                                            }
                                        ]
                                    },
                                    "layout": {
                                        "annotationdefaults": {
                                            "arrowcolor": "#2a3f5f",
                                            "arrowhead": 0,
                                            "arrowwidth": 1
                                        },
                                        "autotypenumbers": "strict",
                                        "coloraxis": {
                                            "colorbar": {
                                                "outlinewidth": 0,
                                                "ticks": ""
                                            }
                                        },
                                        "colorscale": {
                                            "diverging": [
                                                [
                                                    0,
                                                    "#8e0152"
                                                ],
                                                [
                                                    0.1,
                                                    "#c51b7d"
                                                ],
                                                [
                                                    0.2,
                                                    "#de77ae"
                                                ],
                                                [
                                                    0.3,
                                                    "#f1b6da"
                                                ],
                                                [
                                                    0.4,
                                                    "#fde0ef"
                                                ],
                                                [
                                                    0.5,
                                                    "#f7f7f7"
                                                ],
                                                [
                                                    0.6,
                                                    "#e6f5d0"
                                                ],
                                                [
                                                    0.7,
                                                    "#b8e186"
                                                ],
                                                [
                                                    0.8,
                                                    "#7fbc41"
                                                ],
                                                [
                                                    0.9,
                                                    "#4d9221"
                                                ],
                                                [
                                                    1,
                                                    "#276419"
                                                ]
                                            ],
                                            "sequential": [
                                                [
                                                    0,
                                                    "#0d0887"
                                                ],
                                                [
                                                    0.1111111111111111,
                                                    "#46039f"
                                                ],
                                                [
                                                    0.2222222222222222,
                                                    "#7201a8"
                                                ],
                                                [
                                                    0.3333333333333333,
                                                    "#9c179e"
                                                ],
                                                [
                                                    0.4444444444444444,
                                                    "#bd3786"
                                                ],
                                                [
                                                    0.5555555555555556,
                                                    "#d8576b"
                                                ],
                                                [
                                                    0.6666666666666666,
                                                    "#ed7953"
                                                ],
                                                [
                                                    0.7777777777777778,
                                                    "#fb9f3a"
                                                ],
                                                [
                                                    0.8888888888888888,
                                                    "#fdca26"
                                                ],
                                                [
                                                    1,
                                                    "#f0f921"
                                                ]
                                            ],
                                            "sequentialminus": [
                                                [
                                                    0,
                                                    "#0d0887"
                                                ],
                                                [
                                                    0.1111111111111111,
                                                    "#46039f"
                                                ],
                                                [
                                                    0.2222222222222222,
                                                    "#7201a8"
                                                ],
                                                [
                                                    0.3333333333333333,
                                                    "#9c179e"
                                                ],
                                                [
                                                    0.4444444444444444,
                                                    "#bd3786"
                                                ],
                                                [
                                                    0.5555555555555556,
                                                    "#d8576b"
                                                ],
                                                [
                                                    0.6666666666666666,
                                                    "#ed7953"
                                                ],
                                                [
                                                    0.7777777777777778,
                                                    "#fb9f3a"
                                                ],
                                                [
                                                    0.8888888888888888,
                                                    "#fdca26"
                                                ],
                                                [
                                                    1,
                                                    "#f0f921"
                                                ]
                                            ]
                                        },
                                        "colorway": [
                                            "#636efa",
                                            "#EF553B",
                                            "#00cc96",
                                            "#ab63fa",
                                            "#FFA15A",
                                            "#19d3f3",
                                            "#FF6692",
                                            "#B6E880",
                                            "#FF97FF",
                                            "#FECB52"
                                        ],
                                        "font": {
                                            "color": "#2a3f5f"
                                        },
                                        "geo": {
                                            "bgcolor": "white",
                                            "lakecolor": "white",
                                            "landcolor": "#E5ECF6",
                                            "showlakes": true,
                                            "showland": true,
                                            "subunitcolor": "white"
                                        },
                                        "hoverlabel": {
                                            "align": "left"
                                        },
                                        "hovermode": "closest",
                                        "mapbox": {
                                            "style": "light"
                                        },
                                        "paper_bgcolor": "white",
                                        "plot_bgcolor": "#E5ECF6",
                                        "polar": {
                                            "angularaxis": {
                                                "gridcolor": "white",
                                                "linecolor": "white",
                                                "ticks": ""
                                            },
                                            "bgcolor": "#E5ECF6",
                                            "radialaxis": {
                                                "gridcolor": "white",
                                                "linecolor": "white",
                                                "ticks": ""
                                            }
                                        },
                                        "scene": {
                                            "xaxis": {
                                                "backgroundcolor": "#E5ECF6",
                                                "gridcolor": "white",
                                                "gridwidth": 2,
                                                "linecolor": "white",
                                                "showbackground": true,
                                                "ticks": "",
                                                "zerolinecolor": "white"
                                            },
                                            "yaxis": {
                                                "backgroundcolor": "#E5ECF6",
                                                "gridcolor": "white",
                                                "gridwidth": 2,
                                                "linecolor": "white",
                                                "showbackground": true,
                                                "ticks": "",
                                                "zerolinecolor": "white"
                                            },
                                            "zaxis": {
                                                "backgroundcolor": "#E5ECF6",
                                                "gridcolor": "white",
                                                "gridwidth": 2,
                                                "linecolor": "white",
                                                "showbackground": true,
                                                "ticks": "",
                                                "zerolinecolor": "white"
                                            }
                                        },
                                        "shapedefaults": {
                                            "line": {
                                                "color": "#2a3f5f"
                                            }
                                        },
                                        "ternary": {
                                            "aaxis": {
                                                "gridcolor": "white",
                                                "linecolor": "white",
                                                "ticks": ""
                                            },
                                            "baxis": {
                                                "gridcolor": "white",
                                                "linecolor": "white",
                                                "ticks": ""
                                            },
                                            "bgcolor": "#E5ECF6",
                                            "caxis": {
                                                "gridcolor": "white",
                                                "linecolor": "white",
                                                "ticks": ""
                                            }
                                        },
                                        "title": {
                                            "x": 0.05
                                        },
                                        "xaxis": {
                                            "automargin": true,
                                            "gridcolor": "white",
                                            "linecolor": "white",
                                            "ticks": "",
                                            "title": {
                                                "standoff": 15
                                            },
                                            "zerolinecolor": "white",
                                            "zerolinewidth": 2
                                        },
                                        "yaxis": {
                                            "automargin": true,
                                            "gridcolor": "white",
                                            "linecolor": "white",
                                            "ticks": "",
                                            "title": {
                                                "standoff": 15
                                            },
                                            "zerolinecolor": "white",
                                            "zerolinewidth": 2
                                        }
                                    }
                                },
                                "title": {
                                    "font": {
                                        "size": 14
                                    },
                                    "text": "Choose max #days with missing data allowed to constitute a sequence"
                                },
                                "width": 600,
                                "xaxis": {
                                    "anchor": "y",
                                    "domain": [
                                        0,
                                        1
                                    ],
                                    "tickvals": [
                                        5,
                                        8,
                                        10,
                                        15,
                                        20,
                                        25,
                                        30
                                    ],
                                    "title": {
                                        "text": "Length of the sequence of longitudinal measurements"
                                    }
                                },
                                "yaxis": {
                                    "anchor": "x",
                                    "domain": [
                                        0,
                                        1
                                    ],
                                    "tickvals": [
                                        10,
                                        30,
                                        50,
                                        100,
                                        150,
                                        200,
                                        250
                                    ],
                                    "title": {
                                        "text": "Number of contributing individuals"
                                    }
                                }
                            }
                        }
                    },
                    "metadata": {},
                    "output_type": "display_data"
                }
            ],
            "source": [
                "df_consec\n",
                "\n",
                "# X sequence length\n",
                "# Y number of IDs\n",
                "# one trace per consecutive days\n",
                "\n",
                "seq_len = [5, 8, 10, 15, 20, 25, 30]\n",
                "\n",
                "consec_days = [\"0 days\", \"1 day\", \"2 days\", \"3 days\"]\n",
                "\n",
                "\n",
                "fig = make_subplots(rows=1, cols=1)\n",
                "\n",
                "\n",
                "def add_trace_with_n_ids_for_consec_days(fig, df_consec, consec_d, seq_len):\n",
                "    n_ids = [df_consec.loc[df_consec[consec_d] > seq_l].shape[0] for seq_l in seq_len]\n",
                "    fig.add_trace(go.Scatter(x=seq_len, y=n_ids, mode=\"lines+markers\", name=consec_d))\n",
                "    # Add histogram with amount of contributing datapoints\n",
                "    n_data = [df_consec.loc[df_consec[consec_d] > seq_l] for seq_l in seq_len]\n",
                "\n",
                "\n",
                "for consec_day in consec_days:\n",
                "    add_trace_with_n_ids_for_consec_days(fig, df_consec, consec_day, seq_len)\n",
                "\n",
                "fig.update_xaxes(title_text=\"Length of the sequence of longitudinal measurements\", tickvals=seq_len)\n",
                "fig.update_yaxes(\n",
                "    title_text=\"Number of contributing individuals\", tickvals=[10, 30, 50, 100, 150, 200, 250]\n",
                ")\n",
                "# Create a color gradient from black to blue\n",
                "colors = ['#000000', '#000033', '#000066', '#000099', '#0000cc', '#0000ff'][::-1]\n",
                "\n",
                "# Update the traces with the color gradient\n",
                "for i, consec_day in enumerate(consec_days):\n",
                "    fig.data[i].line.color = colors[i]\n",
                "    fig.data[i].marker.color = colors[i]\n",
                "\n",
                "title=\"Choose max #days with missing data allowed to constitute a sequence\"\n",
                "fig.update_layout(\n",
                "    title=title,\n",
                "    width=600,\n",
                "    height=400,\n",
                "    legend=dict(orientation=\"h\", yanchor=\"bottom\", y=1.02, xanchor=\"right\", x=1),\n",
                "    title_font_size=14\n",
                ")\n",
                "\n",
                "fig.write_image(f\"{dh.get_path_to_main()}PlotsBreathe/Cutset_conditioning/{title}.pdf\")\n",
                "fig.show()"
            ]
        },
        {
            "cell_type": "code",
            "execution_count": null,
            "metadata": {},
            "outputs": [],
            "source": [
                "# Run takes 20 minutes\n",
                "# I have 8h = 480 minutes, meaning I can run 24 experiments"
            ]
        },
        {
            "cell_type": "code",
            "execution_count": 6,
            "metadata": {},
            "outputs": [
                {
                    "data": {
                        "application/vnd.plotly.v1+json": {
                            "config": {
                                "plotlyServerURL": "https://plot.ly"
                            },
                            "data": [
                                {
                                    "marker": {
                                        "color": "#0072b2"
                                    },
                                    "name": "all data",
                                    "orientation": "h",
                                    "type": "bar",
                                    "x": [
                                        9,
                                        1,
                                        2,
                                        7,
                                        3,
                                        9,
                                        106,
                                        130,
                                        13,
                                        1,
                                        5,
                                        3,
                                        6,
                                        1,
                                        2,
                                        1,
                                        1,
                                        5,
                                        14,
                                        1,
                                        10,
                                        28,
                                        1,
                                        23,
                                        1,
                                        3,
                                        1,
                                        2,
                                        3,
                                        2,
                                        1,
                                        30,
                                        4,
                                        1,
                                        4,
                                        1,
                                        1,
                                        59,
                                        4,
                                        13,
                                        3,
                                        1,
                                        4,
                                        1,
                                        2,
                                        2,
                                        1,
                                        1,
                                        1,
                                        4,
                                        1,
                                        93,
                                        5,
                                        4,
                                        2,
                                        2,
                                        3,
                                        2,
                                        1,
                                        4,
                                        1,
                                        6,
                                        2,
                                        1,
                                        2,
                                        1,
                                        1,
                                        16,
                                        1,
                                        1,
                                        7,
                                        30,
                                        3,
                                        16,
                                        9,
                                        4,
                                        7,
                                        83,
                                        22,
                                        15,
                                        18,
                                        2,
                                        7,
                                        13,
                                        3,
                                        13,
                                        66,
                                        34,
                                        30,
                                        25,
                                        3,
                                        72,
                                        19,
                                        77,
                                        8,
                                        8,
                                        10,
                                        21,
                                        4,
                                        20,
                                        2,
                                        5,
                                        23,
                                        13,
                                        8,
                                        17,
                                        17,
                                        30,
                                        61,
                                        48,
                                        6,
                                        18,
                                        111,
                                        8,
                                        10,
                                        3,
                                        59,
                                        22,
                                        36,
                                        93,
                                        20,
                                        109,
                                        69,
                                        33,
                                        23,
                                        42,
                                        9,
                                        5,
                                        14,
                                        29,
                                        27,
                                        10,
                                        62,
                                        289,
                                        10,
                                        19,
                                        72,
                                        54,
                                        4,
                                        21,
                                        7,
                                        43,
                                        5,
                                        13,
                                        19,
                                        18,
                                        17,
                                        88,
                                        29,
                                        10,
                                        17,
                                        12,
                                        92,
                                        68,
                                        111,
                                        48,
                                        48,
                                        8,
                                        148,
                                        9,
                                        65,
                                        34,
                                        47,
                                        17,
                                        8,
                                        17,
                                        9,
                                        183,
                                        10,
                                        25,
                                        75,
                                        30,
                                        26,
                                        6,
                                        54,
                                        15,
                                        76,
                                        39,
                                        76,
                                        43,
                                        57,
                                        52,
                                        6,
                                        16,
                                        16,
                                        15,
                                        69,
                                        39,
                                        43,
                                        31,
                                        36,
                                        108,
                                        229,
                                        56,
                                        60,
                                        24,
                                        39,
                                        357,
                                        169,
                                        162,
                                        33,
                                        86,
                                        242,
                                        207,
                                        18,
                                        54,
                                        120,
                                        45,
                                        72,
                                        41,
                                        130,
                                        60,
                                        16,
                                        14,
                                        36,
                                        45,
                                        94,
                                        87,
                                        78,
                                        31,
                                        77,
                                        222,
                                        94,
                                        36,
                                        183,
                                        146,
                                        54,
                                        42,
                                        33,
                                        81,
                                        213,
                                        75,
                                        103,
                                        270,
                                        248,
                                        714,
                                        122,
                                        63,
                                        64,
                                        190,
                                        242,
                                        81,
                                        305,
                                        51,
                                        48,
                                        53,
                                        39,
                                        101,
                                        72,
                                        195,
                                        35,
                                        133,
                                        131,
                                        251,
                                        45,
                                        41,
                                        175,
                                        78,
                                        76,
                                        223,
                                        139,
                                        97,
                                        486,
                                        130,
                                        275,
                                        201,
                                        314,
                                        41,
                                        340,
                                        276,
                                        96,
                                        237,
                                        176,
                                        126,
                                        40,
                                        23,
                                        118,
                                        217,
                                        263,
                                        130,
                                        257,
                                        130,
                                        165,
                                        435,
                                        282,
                                        95,
                                        60,
                                        169,
                                        82,
                                        46,
                                        37,
                                        114,
                                        205,
                                        131,
                                        94,
                                        141,
                                        167,
                                        193,
                                        282,
                                        57,
                                        51,
                                        117,
                                        130,
                                        55,
                                        253,
                                        334,
                                        158,
                                        262,
                                        278,
                                        388,
                                        179,
                                        619,
                                        58,
                                        263,
                                        382,
                                        116,
                                        129,
                                        335,
                                        101,
                                        195,
                                        222,
                                        469,
                                        375,
                                        194,
                                        391,
                                        270,
                                        212,
                                        414,
                                        348,
                                        77,
                                        590,
                                        77,
                                        305,
                                        206,
                                        845,
                                        375,
                                        124,
                                        266,
                                        148,
                                        202,
                                        1066,
                                        1128,
                                        982,
                                        686,
                                        800,
                                        509,
                                        429,
                                        507,
                                        953,
                                        1680,
                                        1101,
                                        1035
                                    ],
                                    "xaxis": "x",
                                    "y": [
                                        "414",
                                        "213",
                                        "211",
                                        "208",
                                        "402",
                                        "206",
                                        "406",
                                        "202",
                                        "409",
                                        "195",
                                        "415",
                                        "216",
                                        "189",
                                        "288",
                                        "333",
                                        "428",
                                        "429",
                                        "441",
                                        "443",
                                        "167",
                                        "444",
                                        "447",
                                        "160",
                                        "419",
                                        "451",
                                        "396",
                                        "222",
                                        "337",
                                        "338",
                                        "340",
                                        "267",
                                        "342",
                                        "327",
                                        "260",
                                        "345",
                                        "354",
                                        "355",
                                        "395",
                                        "357",
                                        "325",
                                        "367",
                                        "376",
                                        "241",
                                        "382",
                                        "385",
                                        "386",
                                        "392",
                                        "225",
                                        "321",
                                        "359",
                                        "454",
                                        "424",
                                        "274",
                                        "519",
                                        "522",
                                        "154",
                                        "507",
                                        "308",
                                        "498",
                                        "531",
                                        "533",
                                        "497",
                                        "536",
                                        "516",
                                        "305",
                                        "489",
                                        "487",
                                        "513",
                                        "546",
                                        "545",
                                        "549",
                                        "464",
                                        "548",
                                        "543",
                                        "363",
                                        "285",
                                        "448",
                                        "408",
                                        "299",
                                        "403",
                                        "525",
                                        "236",
                                        "550",
                                        "455",
                                        "510",
                                        "407",
                                        "377",
                                        "252",
                                        "482",
                                        "264",
                                        "175",
                                        "431",
                                        "256",
                                        "416",
                                        "313",
                                        "318",
                                        "309",
                                        "265",
                                        "168",
                                        "417",
                                        "316",
                                        "183",
                                        "306",
                                        "380",
                                        "110",
                                        "232",
                                        "303",
                                        "261",
                                        "521",
                                        "281",
                                        "518",
                                        "262",
                                        "209",
                                        "442",
                                        "512",
                                        "320",
                                        "284",
                                        "173",
                                        "495",
                                        "317",
                                        "169",
                                        "488",
                                        "484",
                                        "186",
                                        "150",
                                        "152",
                                        "461",
                                        "129",
                                        "212",
                                        "401",
                                        "132",
                                        "190",
                                        "511",
                                        "108",
                                        "440",
                                        "314",
                                        "144",
                                        "255",
                                        "358",
                                        "192",
                                        "499",
                                        "115",
                                        "527",
                                        "504",
                                        "505",
                                        "205",
                                        "383",
                                        "119",
                                        "131",
                                        "389",
                                        "181",
                                        "155",
                                        "278",
                                        "280",
                                        "283",
                                        "297",
                                        "300",
                                        "529",
                                        "164",
                                        "166",
                                        "171",
                                        "275",
                                        "187",
                                        "490",
                                        "541",
                                        "210",
                                        "394",
                                        "224",
                                        "370",
                                        "362",
                                        "353",
                                        "199",
                                        "135",
                                        "538",
                                        "343",
                                        "421",
                                        "412",
                                        "486",
                                        "427",
                                        "553",
                                        "296",
                                        "266",
                                        "105",
                                        "245",
                                        "179",
                                        "174",
                                        "257",
                                        "439",
                                        "263",
                                        "485",
                                        "178",
                                        "118",
                                        "295",
                                        "194",
                                        "253",
                                        "142",
                                        "287",
                                        "176",
                                        "298",
                                        "413",
                                        "124",
                                        "514",
                                        "289",
                                        "404",
                                        "551",
                                        "307",
                                        "156",
                                        "248",
                                        "312",
                                        "239",
                                        "500",
                                        "433",
                                        "243",
                                        "467",
                                        "387",
                                        "434",
                                        "249",
                                        "121",
                                        "251",
                                        "491",
                                        "481",
                                        "104",
                                        "351",
                                        "422",
                                        "290",
                                        "143",
                                        "223",
                                        "492",
                                        "301",
                                        "233",
                                        "191",
                                        "197",
                                        "310",
                                        "292",
                                        "204",
                                        "113",
                                        "432",
                                        "315",
                                        "193",
                                        "291",
                                        "279",
                                        "276",
                                        "270",
                                        "494",
                                        "532",
                                        "207",
                                        "128",
                                        "302",
                                        "294",
                                        "319",
                                        "535",
                                        "114",
                                        "258",
                                        "177",
                                        "425",
                                        "453",
                                        "430",
                                        "273",
                                        "293",
                                        "220",
                                        "149",
                                        "134",
                                        "271",
                                        "371",
                                        "158",
                                        "141",
                                        "242",
                                        "372",
                                        "231",
                                        "139",
                                        "185",
                                        "148",
                                        "493",
                                        "107",
                                        "196",
                                        "188",
                                        "523",
                                        "420",
                                        "102",
                                        "452",
                                        "122",
                                        "361",
                                        "127",
                                        "254",
                                        "130",
                                        "334",
                                        "126",
                                        "515",
                                        "221",
                                        "537",
                                        "145",
                                        "112",
                                        "530",
                                        "311",
                                        "109",
                                        "480",
                                        "365",
                                        "506",
                                        "151",
                                        "381",
                                        "163",
                                        "162",
                                        "165",
                                        "153",
                                        "339",
                                        "125",
                                        "159",
                                        "180",
                                        "146",
                                        "120",
                                        "517",
                                        "116",
                                        "170",
                                        "331",
                                        "230",
                                        "140",
                                        "483",
                                        "106",
                                        "544",
                                        "138",
                                        "352",
                                        "336",
                                        "282",
                                        "509",
                                        "229",
                                        "117",
                                        "147",
                                        "184",
                                        "520",
                                        "411",
                                        "250",
                                        "244",
                                        "215",
                                        "237",
                                        "203",
                                        "103",
                                        "111",
                                        "238",
                                        "469",
                                        "426",
                                        "133",
                                        "123",
                                        "172",
                                        "182",
                                        "272",
                                        "201",
                                        "502",
                                        "508",
                                        "198",
                                        "101",
                                        "240",
                                        "405"
                                    ],
                                    "yaxis": "y"
                                },
                                {
                                    "marker": {
                                        "color": "#d55e00"
                                    },
                                    "name": "3 days",
                                    "orientation": "h",
                                    "type": "bar",
                                    "x": [
                                        1,
                                        1,
                                        1,
                                        3,
                                        1,
                                        1,
                                        1,
                                        1,
                                        1,
                                        1,
                                        1,
                                        1,
                                        1,
                                        1,
                                        1,
                                        1,
                                        1,
                                        1,
                                        1,
                                        1,
                                        1,
                                        1,
                                        1,
                                        1,
                                        1,
                                        1,
                                        1,
                                        1,
                                        1,
                                        1,
                                        1,
                                        2,
                                        1,
                                        1,
                                        1,
                                        1,
                                        1,
                                        1,
                                        1,
                                        1,
                                        1,
                                        1,
                                        1,
                                        1,
                                        1,
                                        1,
                                        1,
                                        1,
                                        1,
                                        1,
                                        1,
                                        1,
                                        1,
                                        1,
                                        1,
                                        1,
                                        1,
                                        1,
                                        1,
                                        1,
                                        1,
                                        1,
                                        1,
                                        1,
                                        2,
                                        1,
                                        1,
                                        3,
                                        1,
                                        1,
                                        2,
                                        1,
                                        1,
                                        4,
                                        2,
                                        2,
                                        2,
                                        2,
                                        2,
                                        2,
                                        3,
                                        2,
                                        2,
                                        2,
                                        2,
                                        2,
                                        2,
                                        3,
                                        11,
                                        3,
                                        2,
                                        4,
                                        3,
                                        2,
                                        3,
                                        2,
                                        3,
                                        3,
                                        2,
                                        2,
                                        2,
                                        2,
                                        3,
                                        3,
                                        3,
                                        3,
                                        3,
                                        4,
                                        3,
                                        3,
                                        3,
                                        3,
                                        4,
                                        3,
                                        4,
                                        3,
                                        6,
                                        4,
                                        6,
                                        5,
                                        4,
                                        7,
                                        6,
                                        3,
                                        3,
                                        3,
                                        3,
                                        3,
                                        5,
                                        6,
                                        3,
                                        5,
                                        7,
                                        12,
                                        4,
                                        4,
                                        4,
                                        9,
                                        4,
                                        9,
                                        4,
                                        5,
                                        5,
                                        4,
                                        5,
                                        9,
                                        4,
                                        10,
                                        7,
                                        7,
                                        7,
                                        6,
                                        5,
                                        6,
                                        5,
                                        5,
                                        10,
                                        5,
                                        7,
                                        5,
                                        13,
                                        5,
                                        11,
                                        5,
                                        5,
                                        5,
                                        7,
                                        10,
                                        5,
                                        7,
                                        9,
                                        9,
                                        5,
                                        6,
                                        6,
                                        7,
                                        10,
                                        7,
                                        7,
                                        7,
                                        6,
                                        7,
                                        6,
                                        6,
                                        10,
                                        7,
                                        7,
                                        7,
                                        7,
                                        18,
                                        15,
                                        7,
                                        18,
                                        10,
                                        9,
                                        10,
                                        8,
                                        12,
                                        12,
                                        8,
                                        8,
                                        11,
                                        29,
                                        12,
                                        9,
                                        9,
                                        9,
                                        19,
                                        11,
                                        16,
                                        12,
                                        12,
                                        9,
                                        10,
                                        11,
                                        12,
                                        23,
                                        11,
                                        10,
                                        15,
                                        14,
                                        14,
                                        32,
                                        11,
                                        11,
                                        20,
                                        13,
                                        19,
                                        12,
                                        26,
                                        29,
                                        41,
                                        34,
                                        26,
                                        46,
                                        68,
                                        41,
                                        14,
                                        14,
                                        14,
                                        34,
                                        24,
                                        35,
                                        17,
                                        28,
                                        34,
                                        15,
                                        15,
                                        27,
                                        18,
                                        17,
                                        20,
                                        18,
                                        36,
                                        16,
                                        23,
                                        30,
                                        17,
                                        26,
                                        17,
                                        26,
                                        18,
                                        45,
                                        20,
                                        24,
                                        28,
                                        38,
                                        19,
                                        29,
                                        43,
                                        51,
                                        52,
                                        30,
                                        29,
                                        23,
                                        23,
                                        84,
                                        44,
                                        47,
                                        31,
                                        28,
                                        31,
                                        30,
                                        68,
                                        84,
                                        32,
                                        39,
                                        38,
                                        41,
                                        28,
                                        29,
                                        45,
                                        42,
                                        39,
                                        34,
                                        84,
                                        36,
                                        37,
                                        108,
                                        39,
                                        40,
                                        51,
                                        52,
                                        53,
                                        43,
                                        40,
                                        44,
                                        41,
                                        74,
                                        50,
                                        44,
                                        46,
                                        45,
                                        47,
                                        46,
                                        46,
                                        94,
                                        53,
                                        73,
                                        104,
                                        56,
                                        64,
                                        100,
                                        60,
                                        163,
                                        69,
                                        112,
                                        121,
                                        70,
                                        73,
                                        130,
                                        77,
                                        126,
                                        92,
                                        320,
                                        88,
                                        92,
                                        100,
                                        118,
                                        147,
                                        153,
                                        303,
                                        279,
                                        275,
                                        418,
                                        290,
                                        234,
                                        365,
                                        606,
                                        592,
                                        785,
                                        1035
                                    ],
                                    "xaxis": "x",
                                    "y": [
                                        "414",
                                        "213",
                                        "211",
                                        "208",
                                        "402",
                                        "206",
                                        "406",
                                        "202",
                                        "409",
                                        "195",
                                        "415",
                                        "216",
                                        "189",
                                        "288",
                                        "333",
                                        "428",
                                        "429",
                                        "441",
                                        "443",
                                        "167",
                                        "444",
                                        "447",
                                        "160",
                                        "419",
                                        "451",
                                        "396",
                                        "222",
                                        "337",
                                        "338",
                                        "340",
                                        "267",
                                        "342",
                                        "327",
                                        "260",
                                        "345",
                                        "354",
                                        "355",
                                        "395",
                                        "357",
                                        "325",
                                        "367",
                                        "376",
                                        "241",
                                        "382",
                                        "385",
                                        "386",
                                        "392",
                                        "225",
                                        "321",
                                        "359",
                                        "454",
                                        "424",
                                        "274",
                                        "519",
                                        "522",
                                        "154",
                                        "507",
                                        "308",
                                        "498",
                                        "531",
                                        "533",
                                        "497",
                                        "536",
                                        "516",
                                        "305",
                                        "489",
                                        "487",
                                        "513",
                                        "546",
                                        "545",
                                        "549",
                                        "464",
                                        "548",
                                        "543",
                                        "363",
                                        "285",
                                        "448",
                                        "408",
                                        "299",
                                        "403",
                                        "525",
                                        "236",
                                        "550",
                                        "455",
                                        "510",
                                        "407",
                                        "377",
                                        "252",
                                        "482",
                                        "264",
                                        "175",
                                        "431",
                                        "256",
                                        "416",
                                        "313",
                                        "318",
                                        "309",
                                        "265",
                                        "168",
                                        "417",
                                        "316",
                                        "183",
                                        "306",
                                        "380",
                                        "110",
                                        "232",
                                        "303",
                                        "261",
                                        "521",
                                        "281",
                                        "518",
                                        "262",
                                        "209",
                                        "442",
                                        "512",
                                        "320",
                                        "284",
                                        "173",
                                        "495",
                                        "317",
                                        "169",
                                        "488",
                                        "484",
                                        "186",
                                        "150",
                                        "152",
                                        "461",
                                        "129",
                                        "212",
                                        "401",
                                        "132",
                                        "190",
                                        "511",
                                        "108",
                                        "440",
                                        "314",
                                        "144",
                                        "255",
                                        "358",
                                        "192",
                                        "499",
                                        "115",
                                        "527",
                                        "504",
                                        "505",
                                        "205",
                                        "383",
                                        "119",
                                        "131",
                                        "389",
                                        "181",
                                        "155",
                                        "278",
                                        "280",
                                        "283",
                                        "297",
                                        "300",
                                        "529",
                                        "164",
                                        "166",
                                        "171",
                                        "275",
                                        "187",
                                        "490",
                                        "541",
                                        "210",
                                        "394",
                                        "224",
                                        "370",
                                        "362",
                                        "353",
                                        "199",
                                        "135",
                                        "538",
                                        "343",
                                        "421",
                                        "412",
                                        "486",
                                        "427",
                                        "553",
                                        "296",
                                        "266",
                                        "105",
                                        "245",
                                        "179",
                                        "174",
                                        "257",
                                        "439",
                                        "263",
                                        "485",
                                        "178",
                                        "118",
                                        "295",
                                        "194",
                                        "253",
                                        "142",
                                        "287",
                                        "176",
                                        "298",
                                        "413",
                                        "124",
                                        "514",
                                        "289",
                                        "404",
                                        "551",
                                        "307",
                                        "156",
                                        "248",
                                        "312",
                                        "239",
                                        "500",
                                        "433",
                                        "243",
                                        "467",
                                        "387",
                                        "434",
                                        "249",
                                        "121",
                                        "251",
                                        "491",
                                        "481",
                                        "104",
                                        "351",
                                        "422",
                                        "290",
                                        "143",
                                        "223",
                                        "492",
                                        "301",
                                        "233",
                                        "191",
                                        "197",
                                        "310",
                                        "292",
                                        "204",
                                        "113",
                                        "432",
                                        "315",
                                        "193",
                                        "291",
                                        "279",
                                        "276",
                                        "270",
                                        "494",
                                        "532",
                                        "207",
                                        "128",
                                        "302",
                                        "294",
                                        "319",
                                        "535",
                                        "114",
                                        "258",
                                        "177",
                                        "425",
                                        "453",
                                        "430",
                                        "273",
                                        "293",
                                        "220",
                                        "149",
                                        "134",
                                        "271",
                                        "371",
                                        "158",
                                        "141",
                                        "242",
                                        "372",
                                        "231",
                                        "139",
                                        "185",
                                        "148",
                                        "493",
                                        "107",
                                        "196",
                                        "188",
                                        "523",
                                        "420",
                                        "102",
                                        "452",
                                        "122",
                                        "361",
                                        "127",
                                        "254",
                                        "130",
                                        "334",
                                        "126",
                                        "515",
                                        "221",
                                        "537",
                                        "145",
                                        "112",
                                        "530",
                                        "311",
                                        "109",
                                        "480",
                                        "365",
                                        "506",
                                        "151",
                                        "381",
                                        "163",
                                        "162",
                                        "165",
                                        "153",
                                        "339",
                                        "125",
                                        "159",
                                        "180",
                                        "146",
                                        "120",
                                        "517",
                                        "116",
                                        "170",
                                        "331",
                                        "230",
                                        "140",
                                        "483",
                                        "106",
                                        "544",
                                        "138",
                                        "352",
                                        "336",
                                        "282",
                                        "509",
                                        "229",
                                        "117",
                                        "147",
                                        "184",
                                        "520",
                                        "411",
                                        "250",
                                        "244",
                                        "215",
                                        "237",
                                        "203",
                                        "103",
                                        "111",
                                        "238",
                                        "469",
                                        "426",
                                        "133",
                                        "123",
                                        "172",
                                        "182",
                                        "272",
                                        "201",
                                        "502",
                                        "508",
                                        "198",
                                        "101",
                                        "240",
                                        "405"
                                    ],
                                    "yaxis": "y"
                                },
                                {
                                    "marker": {
                                        "color": "#009e73"
                                    },
                                    "name": "2 days",
                                    "orientation": "h",
                                    "type": "bar",
                                    "x": [
                                        1,
                                        1,
                                        1,
                                        1,
                                        1,
                                        1,
                                        1,
                                        1,
                                        1,
                                        1,
                                        1,
                                        1,
                                        1,
                                        1,
                                        1,
                                        1,
                                        1,
                                        1,
                                        1,
                                        1,
                                        1,
                                        1,
                                        1,
                                        1,
                                        1,
                                        1,
                                        1,
                                        1,
                                        1,
                                        1,
                                        1,
                                        1,
                                        1,
                                        1,
                                        1,
                                        1,
                                        1,
                                        1,
                                        1,
                                        1,
                                        1,
                                        1,
                                        1,
                                        1,
                                        1,
                                        1,
                                        1,
                                        1,
                                        1,
                                        1,
                                        1,
                                        1,
                                        1,
                                        1,
                                        1,
                                        1,
                                        1,
                                        1,
                                        1,
                                        1,
                                        1,
                                        1,
                                        1,
                                        1,
                                        1,
                                        1,
                                        1,
                                        1,
                                        1,
                                        1,
                                        1,
                                        1,
                                        1,
                                        2,
                                        2,
                                        2,
                                        2,
                                        2,
                                        2,
                                        2,
                                        2,
                                        2,
                                        2,
                                        2,
                                        2,
                                        2,
                                        2,
                                        2,
                                        2,
                                        2,
                                        2,
                                        2,
                                        2,
                                        2,
                                        2,
                                        2,
                                        2,
                                        2,
                                        2,
                                        2,
                                        2,
                                        2,
                                        3,
                                        3,
                                        3,
                                        3,
                                        3,
                                        3,
                                        3,
                                        3,
                                        3,
                                        3,
                                        3,
                                        3,
                                        3,
                                        3,
                                        3,
                                        3,
                                        3,
                                        3,
                                        3,
                                        3,
                                        3,
                                        3,
                                        3,
                                        3,
                                        3,
                                        3,
                                        3,
                                        3,
                                        3,
                                        3,
                                        4,
                                        4,
                                        4,
                                        4,
                                        4,
                                        4,
                                        4,
                                        4,
                                        4,
                                        4,
                                        4,
                                        4,
                                        4,
                                        4,
                                        4,
                                        4,
                                        4,
                                        4,
                                        4,
                                        4,
                                        5,
                                        5,
                                        5,
                                        5,
                                        5,
                                        5,
                                        5,
                                        5,
                                        5,
                                        5,
                                        5,
                                        5,
                                        5,
                                        5,
                                        5,
                                        5,
                                        5,
                                        5,
                                        5,
                                        5,
                                        5,
                                        6,
                                        6,
                                        6,
                                        6,
                                        6,
                                        6,
                                        6,
                                        6,
                                        6,
                                        6,
                                        6,
                                        6,
                                        7,
                                        7,
                                        7,
                                        7,
                                        7,
                                        7,
                                        7,
                                        7,
                                        7,
                                        7,
                                        8,
                                        8,
                                        8,
                                        8,
                                        8,
                                        8,
                                        8,
                                        9,
                                        9,
                                        9,
                                        9,
                                        9,
                                        9,
                                        9,
                                        9,
                                        9,
                                        9,
                                        9,
                                        9,
                                        9,
                                        10,
                                        10,
                                        10,
                                        10,
                                        10,
                                        10,
                                        10,
                                        11,
                                        11,
                                        11,
                                        11,
                                        11,
                                        12,
                                        12,
                                        12,
                                        13,
                                        13,
                                        13,
                                        13,
                                        13,
                                        13,
                                        13,
                                        14,
                                        14,
                                        14,
                                        14,
                                        14,
                                        14,
                                        14,
                                        14,
                                        14,
                                        15,
                                        15,
                                        15,
                                        15,
                                        15,
                                        15,
                                        16,
                                        16,
                                        16,
                                        16,
                                        16,
                                        17,
                                        17,
                                        17,
                                        17,
                                        18,
                                        18,
                                        19,
                                        19,
                                        19,
                                        19,
                                        19,
                                        19,
                                        20,
                                        20,
                                        21,
                                        22,
                                        22,
                                        23,
                                        23,
                                        23,
                                        24,
                                        24,
                                        24,
                                        24,
                                        24,
                                        24,
                                        24,
                                        25,
                                        25,
                                        27,
                                        28,
                                        28,
                                        28,
                                        28,
                                        29,
                                        29,
                                        32,
                                        34,
                                        35,
                                        36,
                                        36,
                                        36,
                                        37,
                                        37,
                                        38,
                                        40,
                                        40,
                                        40,
                                        40,
                                        40,
                                        41,
                                        42,
                                        43,
                                        44,
                                        45,
                                        45,
                                        46,
                                        46,
                                        46,
                                        50,
                                        53,
                                        54,
                                        54,
                                        55,
                                        55,
                                        58,
                                        59,
                                        61,
                                        64,
                                        65,
                                        69,
                                        70,
                                        73,
                                        74,
                                        77,
                                        80,
                                        85,
                                        87,
                                        88,
                                        92,
                                        100,
                                        105,
                                        141,
                                        151,
                                        152,
                                        160,
                                        178,
                                        205,
                                        221,
                                        234,
                                        256,
                                        320,
                                        592,
                                        781,
                                        1035
                                    ],
                                    "xaxis": "x",
                                    "y": [
                                        "414",
                                        "213",
                                        "211",
                                        "208",
                                        "402",
                                        "206",
                                        "406",
                                        "202",
                                        "409",
                                        "195",
                                        "415",
                                        "216",
                                        "189",
                                        "288",
                                        "333",
                                        "428",
                                        "429",
                                        "441",
                                        "443",
                                        "167",
                                        "444",
                                        "447",
                                        "160",
                                        "419",
                                        "451",
                                        "396",
                                        "222",
                                        "337",
                                        "338",
                                        "340",
                                        "267",
                                        "342",
                                        "327",
                                        "260",
                                        "345",
                                        "354",
                                        "355",
                                        "395",
                                        "357",
                                        "325",
                                        "367",
                                        "376",
                                        "241",
                                        "382",
                                        "385",
                                        "386",
                                        "392",
                                        "225",
                                        "321",
                                        "359",
                                        "454",
                                        "424",
                                        "274",
                                        "519",
                                        "522",
                                        "154",
                                        "507",
                                        "308",
                                        "498",
                                        "531",
                                        "533",
                                        "497",
                                        "536",
                                        "516",
                                        "305",
                                        "489",
                                        "487",
                                        "513",
                                        "546",
                                        "545",
                                        "549",
                                        "464",
                                        "548",
                                        "543",
                                        "363",
                                        "285",
                                        "448",
                                        "408",
                                        "299",
                                        "403",
                                        "525",
                                        "236",
                                        "550",
                                        "455",
                                        "510",
                                        "407",
                                        "377",
                                        "252",
                                        "482",
                                        "264",
                                        "175",
                                        "431",
                                        "256",
                                        "416",
                                        "313",
                                        "318",
                                        "309",
                                        "265",
                                        "168",
                                        "417",
                                        "316",
                                        "183",
                                        "306",
                                        "380",
                                        "110",
                                        "232",
                                        "303",
                                        "261",
                                        "521",
                                        "281",
                                        "518",
                                        "262",
                                        "209",
                                        "442",
                                        "512",
                                        "320",
                                        "284",
                                        "173",
                                        "495",
                                        "317",
                                        "169",
                                        "488",
                                        "484",
                                        "186",
                                        "150",
                                        "152",
                                        "461",
                                        "129",
                                        "212",
                                        "401",
                                        "132",
                                        "190",
                                        "511",
                                        "108",
                                        "440",
                                        "314",
                                        "144",
                                        "255",
                                        "358",
                                        "192",
                                        "499",
                                        "115",
                                        "527",
                                        "504",
                                        "505",
                                        "205",
                                        "383",
                                        "119",
                                        "131",
                                        "389",
                                        "181",
                                        "155",
                                        "278",
                                        "280",
                                        "283",
                                        "297",
                                        "300",
                                        "529",
                                        "164",
                                        "166",
                                        "171",
                                        "275",
                                        "187",
                                        "490",
                                        "541",
                                        "210",
                                        "394",
                                        "224",
                                        "370",
                                        "362",
                                        "353",
                                        "199",
                                        "135",
                                        "538",
                                        "343",
                                        "421",
                                        "412",
                                        "486",
                                        "427",
                                        "553",
                                        "296",
                                        "266",
                                        "105",
                                        "245",
                                        "179",
                                        "174",
                                        "257",
                                        "439",
                                        "263",
                                        "485",
                                        "178",
                                        "118",
                                        "295",
                                        "194",
                                        "253",
                                        "142",
                                        "287",
                                        "176",
                                        "298",
                                        "413",
                                        "124",
                                        "514",
                                        "289",
                                        "404",
                                        "551",
                                        "307",
                                        "156",
                                        "248",
                                        "312",
                                        "239",
                                        "500",
                                        "433",
                                        "243",
                                        "467",
                                        "387",
                                        "434",
                                        "249",
                                        "121",
                                        "251",
                                        "491",
                                        "481",
                                        "104",
                                        "351",
                                        "422",
                                        "290",
                                        "143",
                                        "223",
                                        "492",
                                        "301",
                                        "233",
                                        "191",
                                        "197",
                                        "310",
                                        "292",
                                        "204",
                                        "113",
                                        "432",
                                        "315",
                                        "193",
                                        "291",
                                        "279",
                                        "276",
                                        "270",
                                        "494",
                                        "532",
                                        "207",
                                        "128",
                                        "302",
                                        "294",
                                        "319",
                                        "535",
                                        "114",
                                        "258",
                                        "177",
                                        "425",
                                        "453",
                                        "430",
                                        "273",
                                        "293",
                                        "220",
                                        "149",
                                        "134",
                                        "271",
                                        "371",
                                        "158",
                                        "141",
                                        "242",
                                        "372",
                                        "231",
                                        "139",
                                        "185",
                                        "148",
                                        "493",
                                        "107",
                                        "196",
                                        "188",
                                        "523",
                                        "420",
                                        "102",
                                        "452",
                                        "122",
                                        "361",
                                        "127",
                                        "254",
                                        "130",
                                        "334",
                                        "126",
                                        "515",
                                        "221",
                                        "537",
                                        "145",
                                        "112",
                                        "530",
                                        "311",
                                        "109",
                                        "480",
                                        "365",
                                        "506",
                                        "151",
                                        "381",
                                        "163",
                                        "162",
                                        "165",
                                        "153",
                                        "339",
                                        "125",
                                        "159",
                                        "180",
                                        "146",
                                        "120",
                                        "517",
                                        "116",
                                        "170",
                                        "331",
                                        "230",
                                        "140",
                                        "483",
                                        "106",
                                        "544",
                                        "138",
                                        "352",
                                        "336",
                                        "282",
                                        "509",
                                        "229",
                                        "117",
                                        "147",
                                        "184",
                                        "520",
                                        "411",
                                        "250",
                                        "244",
                                        "215",
                                        "237",
                                        "203",
                                        "103",
                                        "111",
                                        "238",
                                        "469",
                                        "426",
                                        "133",
                                        "123",
                                        "172",
                                        "182",
                                        "272",
                                        "201",
                                        "502",
                                        "508",
                                        "198",
                                        "101",
                                        "240",
                                        "405"
                                    ],
                                    "yaxis": "y"
                                },
                                {
                                    "marker": {
                                        "color": "#f0e442"
                                    },
                                    "name": "1 day",
                                    "orientation": "h",
                                    "type": "bar",
                                    "x": [
                                        1,
                                        1,
                                        1,
                                        1,
                                        1,
                                        1,
                                        1,
                                        1,
                                        1,
                                        1,
                                        1,
                                        1,
                                        1,
                                        1,
                                        1,
                                        1,
                                        1,
                                        1,
                                        1,
                                        1,
                                        1,
                                        1,
                                        1,
                                        1,
                                        1,
                                        1,
                                        1,
                                        1,
                                        1,
                                        1,
                                        1,
                                        1,
                                        1,
                                        1,
                                        1,
                                        1,
                                        1,
                                        1,
                                        1,
                                        1,
                                        1,
                                        1,
                                        1,
                                        1,
                                        1,
                                        1,
                                        1,
                                        1,
                                        1,
                                        1,
                                        1,
                                        1,
                                        1,
                                        1,
                                        1,
                                        1,
                                        1,
                                        1,
                                        1,
                                        1,
                                        1,
                                        1,
                                        1,
                                        1,
                                        1,
                                        1,
                                        1,
                                        1,
                                        1,
                                        1,
                                        1,
                                        1,
                                        1,
                                        2,
                                        1,
                                        2,
                                        2,
                                        1,
                                        2,
                                        2,
                                        1,
                                        2,
                                        1,
                                        2,
                                        2,
                                        2,
                                        1,
                                        2,
                                        2,
                                        2,
                                        2,
                                        1,
                                        1,
                                        2,
                                        2,
                                        2,
                                        1,
                                        2,
                                        1,
                                        2,
                                        1,
                                        1,
                                        3,
                                        3,
                                        3,
                                        2,
                                        2,
                                        2,
                                        3,
                                        2,
                                        3,
                                        2,
                                        3,
                                        2,
                                        3,
                                        2,
                                        2,
                                        2,
                                        2,
                                        3,
                                        1,
                                        2,
                                        2,
                                        3,
                                        1,
                                        3,
                                        3,
                                        3,
                                        3,
                                        3,
                                        2,
                                        3,
                                        4,
                                        4,
                                        3,
                                        4,
                                        3,
                                        3,
                                        4,
                                        3,
                                        4,
                                        4,
                                        4,
                                        2,
                                        2,
                                        3,
                                        2,
                                        4,
                                        2,
                                        4,
                                        4,
                                        4,
                                        2,
                                        5,
                                        2,
                                        3,
                                        4,
                                        5,
                                        3,
                                        5,
                                        3,
                                        5,
                                        3,
                                        2,
                                        5,
                                        2,
                                        5,
                                        2,
                                        2,
                                        5,
                                        4,
                                        5,
                                        5,
                                        6,
                                        3,
                                        3,
                                        3,
                                        4,
                                        6,
                                        2,
                                        3,
                                        4,
                                        4,
                                        3,
                                        5,
                                        3,
                                        6,
                                        6,
                                        5,
                                        4,
                                        7,
                                        4,
                                        3,
                                        6,
                                        3,
                                        3,
                                        3,
                                        4,
                                        4,
                                        4,
                                        4,
                                        5,
                                        3,
                                        4,
                                        6,
                                        5,
                                        4,
                                        5,
                                        4,
                                        1,
                                        3,
                                        5,
                                        4,
                                        6,
                                        4,
                                        9,
                                        5,
                                        4,
                                        6,
                                        6,
                                        4,
                                        8,
                                        7,
                                        5,
                                        5,
                                        6,
                                        9,
                                        9,
                                        4,
                                        3,
                                        6,
                                        5,
                                        5,
                                        5,
                                        3,
                                        6,
                                        11,
                                        6,
                                        14,
                                        14,
                                        8,
                                        11,
                                        4,
                                        7,
                                        13,
                                        7,
                                        3,
                                        14,
                                        8,
                                        13,
                                        15,
                                        9,
                                        9,
                                        13,
                                        9,
                                        7,
                                        10,
                                        10,
                                        15,
                                        5,
                                        8,
                                        9,
                                        9,
                                        15,
                                        8,
                                        17,
                                        11,
                                        15,
                                        7,
                                        16,
                                        11,
                                        16,
                                        16,
                                        22,
                                        18,
                                        9,
                                        17,
                                        11,
                                        16,
                                        10,
                                        9,
                                        10,
                                        17,
                                        13,
                                        14,
                                        15,
                                        7,
                                        9,
                                        10,
                                        6,
                                        18,
                                        9,
                                        17,
                                        17,
                                        12,
                                        16,
                                        28,
                                        26,
                                        9,
                                        22,
                                        29,
                                        18,
                                        22,
                                        13,
                                        17,
                                        40,
                                        29,
                                        15,
                                        32,
                                        20,
                                        27,
                                        22,
                                        19,
                                        40,
                                        34,
                                        22,
                                        13,
                                        53,
                                        14,
                                        54,
                                        17,
                                        39,
                                        27,
                                        19,
                                        49,
                                        38,
                                        44,
                                        37,
                                        59,
                                        35,
                                        72,
                                        76,
                                        5,
                                        22,
                                        15,
                                        72,
                                        23,
                                        100,
                                        56,
                                        40,
                                        119,
                                        35,
                                        13,
                                        122,
                                        19,
                                        88,
                                        48,
                                        42,
                                        70,
                                        536,
                                        326,
                                        361
                                    ],
                                    "xaxis": "x",
                                    "y": [
                                        "414",
                                        "213",
                                        "211",
                                        "208",
                                        "402",
                                        "206",
                                        "406",
                                        "202",
                                        "409",
                                        "195",
                                        "415",
                                        "216",
                                        "189",
                                        "288",
                                        "333",
                                        "428",
                                        "429",
                                        "441",
                                        "443",
                                        "167",
                                        "444",
                                        "447",
                                        "160",
                                        "419",
                                        "451",
                                        "396",
                                        "222",
                                        "337",
                                        "338",
                                        "340",
                                        "267",
                                        "342",
                                        "327",
                                        "260",
                                        "345",
                                        "354",
                                        "355",
                                        "395",
                                        "357",
                                        "325",
                                        "367",
                                        "376",
                                        "241",
                                        "382",
                                        "385",
                                        "386",
                                        "392",
                                        "225",
                                        "321",
                                        "359",
                                        "454",
                                        "424",
                                        "274",
                                        "519",
                                        "522",
                                        "154",
                                        "507",
                                        "308",
                                        "498",
                                        "531",
                                        "533",
                                        "497",
                                        "536",
                                        "516",
                                        "305",
                                        "489",
                                        "487",
                                        "513",
                                        "546",
                                        "545",
                                        "549",
                                        "464",
                                        "548",
                                        "543",
                                        "363",
                                        "285",
                                        "448",
                                        "408",
                                        "299",
                                        "403",
                                        "525",
                                        "236",
                                        "550",
                                        "455",
                                        "510",
                                        "407",
                                        "377",
                                        "252",
                                        "482",
                                        "264",
                                        "175",
                                        "431",
                                        "256",
                                        "416",
                                        "313",
                                        "318",
                                        "309",
                                        "265",
                                        "168",
                                        "417",
                                        "316",
                                        "183",
                                        "306",
                                        "380",
                                        "110",
                                        "232",
                                        "303",
                                        "261",
                                        "521",
                                        "281",
                                        "518",
                                        "262",
                                        "209",
                                        "442",
                                        "512",
                                        "320",
                                        "284",
                                        "173",
                                        "495",
                                        "317",
                                        "169",
                                        "488",
                                        "484",
                                        "186",
                                        "150",
                                        "152",
                                        "461",
                                        "129",
                                        "212",
                                        "401",
                                        "132",
                                        "190",
                                        "511",
                                        "108",
                                        "440",
                                        "314",
                                        "144",
                                        "255",
                                        "358",
                                        "192",
                                        "499",
                                        "115",
                                        "527",
                                        "504",
                                        "505",
                                        "205",
                                        "383",
                                        "119",
                                        "131",
                                        "389",
                                        "181",
                                        "155",
                                        "278",
                                        "280",
                                        "283",
                                        "297",
                                        "300",
                                        "529",
                                        "164",
                                        "166",
                                        "171",
                                        "275",
                                        "187",
                                        "490",
                                        "541",
                                        "210",
                                        "394",
                                        "224",
                                        "370",
                                        "362",
                                        "353",
                                        "199",
                                        "135",
                                        "538",
                                        "343",
                                        "421",
                                        "412",
                                        "486",
                                        "427",
                                        "553",
                                        "296",
                                        "266",
                                        "105",
                                        "245",
                                        "179",
                                        "174",
                                        "257",
                                        "439",
                                        "263",
                                        "485",
                                        "178",
                                        "118",
                                        "295",
                                        "194",
                                        "253",
                                        "142",
                                        "287",
                                        "176",
                                        "298",
                                        "413",
                                        "124",
                                        "514",
                                        "289",
                                        "404",
                                        "551",
                                        "307",
                                        "156",
                                        "248",
                                        "312",
                                        "239",
                                        "500",
                                        "433",
                                        "243",
                                        "467",
                                        "387",
                                        "434",
                                        "249",
                                        "121",
                                        "251",
                                        "491",
                                        "481",
                                        "104",
                                        "351",
                                        "422",
                                        "290",
                                        "143",
                                        "223",
                                        "492",
                                        "301",
                                        "233",
                                        "191",
                                        "197",
                                        "310",
                                        "292",
                                        "204",
                                        "113",
                                        "432",
                                        "315",
                                        "193",
                                        "291",
                                        "279",
                                        "276",
                                        "270",
                                        "494",
                                        "532",
                                        "207",
                                        "128",
                                        "302",
                                        "294",
                                        "319",
                                        "535",
                                        "114",
                                        "258",
                                        "177",
                                        "425",
                                        "453",
                                        "430",
                                        "273",
                                        "293",
                                        "220",
                                        "149",
                                        "134",
                                        "271",
                                        "371",
                                        "158",
                                        "141",
                                        "242",
                                        "372",
                                        "231",
                                        "139",
                                        "185",
                                        "148",
                                        "493",
                                        "107",
                                        "196",
                                        "188",
                                        "523",
                                        "420",
                                        "102",
                                        "452",
                                        "122",
                                        "361",
                                        "127",
                                        "254",
                                        "130",
                                        "334",
                                        "126",
                                        "515",
                                        "221",
                                        "537",
                                        "145",
                                        "112",
                                        "530",
                                        "311",
                                        "109",
                                        "480",
                                        "365",
                                        "506",
                                        "151",
                                        "381",
                                        "163",
                                        "162",
                                        "165",
                                        "153",
                                        "339",
                                        "125",
                                        "159",
                                        "180",
                                        "146",
                                        "120",
                                        "517",
                                        "116",
                                        "170",
                                        "331",
                                        "230",
                                        "140",
                                        "483",
                                        "106",
                                        "544",
                                        "138",
                                        "352",
                                        "336",
                                        "282",
                                        "509",
                                        "229",
                                        "117",
                                        "147",
                                        "184",
                                        "520",
                                        "411",
                                        "250",
                                        "244",
                                        "215",
                                        "237",
                                        "203",
                                        "103",
                                        "111",
                                        "238",
                                        "469",
                                        "426",
                                        "133",
                                        "123",
                                        "172",
                                        "182",
                                        "272",
                                        "201",
                                        "502",
                                        "508",
                                        "198",
                                        "101",
                                        "240",
                                        "405"
                                    ],
                                    "yaxis": "y"
                                }
                            ],
                            "layout": {
                                "barmode": "overlay",
                                "font": {
                                    "size": 8
                                },
                                "height": 4000,
                                "template": {
                                    "data": {
                                        "bar": [
                                            {
                                                "error_x": {
                                                    "color": "#2a3f5f"
                                                },
                                                "error_y": {
                                                    "color": "#2a3f5f"
                                                },
                                                "marker": {
                                                    "line": {
                                                        "color": "#E5ECF6",
                                                        "width": 0.5
                                                    },
                                                    "pattern": {
                                                        "fillmode": "overlay",
                                                        "size": 10,
                                                        "solidity": 0.2
                                                    }
                                                },
                                                "type": "bar"
                                            }
                                        ],
                                        "barpolar": [
                                            {
                                                "marker": {
                                                    "line": {
                                                        "color": "#E5ECF6",
                                                        "width": 0.5
                                                    },
                                                    "pattern": {
                                                        "fillmode": "overlay",
                                                        "size": 10,
                                                        "solidity": 0.2
                                                    }
                                                },
                                                "type": "barpolar"
                                            }
                                        ],
                                        "carpet": [
                                            {
                                                "aaxis": {
                                                    "endlinecolor": "#2a3f5f",
                                                    "gridcolor": "white",
                                                    "linecolor": "white",
                                                    "minorgridcolor": "white",
                                                    "startlinecolor": "#2a3f5f"
                                                },
                                                "baxis": {
                                                    "endlinecolor": "#2a3f5f",
                                                    "gridcolor": "white",
                                                    "linecolor": "white",
                                                    "minorgridcolor": "white",
                                                    "startlinecolor": "#2a3f5f"
                                                },
                                                "type": "carpet"
                                            }
                                        ],
                                        "choropleth": [
                                            {
                                                "colorbar": {
                                                    "outlinewidth": 0,
                                                    "ticks": ""
                                                },
                                                "type": "choropleth"
                                            }
                                        ],
                                        "contour": [
                                            {
                                                "colorbar": {
                                                    "outlinewidth": 0,
                                                    "ticks": ""
                                                },
                                                "colorscale": [
                                                    [
                                                        0,
                                                        "#0d0887"
                                                    ],
                                                    [
                                                        0.1111111111111111,
                                                        "#46039f"
                                                    ],
                                                    [
                                                        0.2222222222222222,
                                                        "#7201a8"
                                                    ],
                                                    [
                                                        0.3333333333333333,
                                                        "#9c179e"
                                                    ],
                                                    [
                                                        0.4444444444444444,
                                                        "#bd3786"
                                                    ],
                                                    [
                                                        0.5555555555555556,
                                                        "#d8576b"
                                                    ],
                                                    [
                                                        0.6666666666666666,
                                                        "#ed7953"
                                                    ],
                                                    [
                                                        0.7777777777777778,
                                                        "#fb9f3a"
                                                    ],
                                                    [
                                                        0.8888888888888888,
                                                        "#fdca26"
                                                    ],
                                                    [
                                                        1,
                                                        "#f0f921"
                                                    ]
                                                ],
                                                "type": "contour"
                                            }
                                        ],
                                        "contourcarpet": [
                                            {
                                                "colorbar": {
                                                    "outlinewidth": 0,
                                                    "ticks": ""
                                                },
                                                "type": "contourcarpet"
                                            }
                                        ],
                                        "heatmap": [
                                            {
                                                "colorbar": {
                                                    "outlinewidth": 0,
                                                    "ticks": ""
                                                },
                                                "colorscale": [
                                                    [
                                                        0,
                                                        "#0d0887"
                                                    ],
                                                    [
                                                        0.1111111111111111,
                                                        "#46039f"
                                                    ],
                                                    [
                                                        0.2222222222222222,
                                                        "#7201a8"
                                                    ],
                                                    [
                                                        0.3333333333333333,
                                                        "#9c179e"
                                                    ],
                                                    [
                                                        0.4444444444444444,
                                                        "#bd3786"
                                                    ],
                                                    [
                                                        0.5555555555555556,
                                                        "#d8576b"
                                                    ],
                                                    [
                                                        0.6666666666666666,
                                                        "#ed7953"
                                                    ],
                                                    [
                                                        0.7777777777777778,
                                                        "#fb9f3a"
                                                    ],
                                                    [
                                                        0.8888888888888888,
                                                        "#fdca26"
                                                    ],
                                                    [
                                                        1,
                                                        "#f0f921"
                                                    ]
                                                ],
                                                "type": "heatmap"
                                            }
                                        ],
                                        "heatmapgl": [
                                            {
                                                "colorbar": {
                                                    "outlinewidth": 0,
                                                    "ticks": ""
                                                },
                                                "colorscale": [
                                                    [
                                                        0,
                                                        "#0d0887"
                                                    ],
                                                    [
                                                        0.1111111111111111,
                                                        "#46039f"
                                                    ],
                                                    [
                                                        0.2222222222222222,
                                                        "#7201a8"
                                                    ],
                                                    [
                                                        0.3333333333333333,
                                                        "#9c179e"
                                                    ],
                                                    [
                                                        0.4444444444444444,
                                                        "#bd3786"
                                                    ],
                                                    [
                                                        0.5555555555555556,
                                                        "#d8576b"
                                                    ],
                                                    [
                                                        0.6666666666666666,
                                                        "#ed7953"
                                                    ],
                                                    [
                                                        0.7777777777777778,
                                                        "#fb9f3a"
                                                    ],
                                                    [
                                                        0.8888888888888888,
                                                        "#fdca26"
                                                    ],
                                                    [
                                                        1,
                                                        "#f0f921"
                                                    ]
                                                ],
                                                "type": "heatmapgl"
                                            }
                                        ],
                                        "histogram": [
                                            {
                                                "marker": {
                                                    "pattern": {
                                                        "fillmode": "overlay",
                                                        "size": 10,
                                                        "solidity": 0.2
                                                    }
                                                },
                                                "type": "histogram"
                                            }
                                        ],
                                        "histogram2d": [
                                            {
                                                "colorbar": {
                                                    "outlinewidth": 0,
                                                    "ticks": ""
                                                },
                                                "colorscale": [
                                                    [
                                                        0,
                                                        "#0d0887"
                                                    ],
                                                    [
                                                        0.1111111111111111,
                                                        "#46039f"
                                                    ],
                                                    [
                                                        0.2222222222222222,
                                                        "#7201a8"
                                                    ],
                                                    [
                                                        0.3333333333333333,
                                                        "#9c179e"
                                                    ],
                                                    [
                                                        0.4444444444444444,
                                                        "#bd3786"
                                                    ],
                                                    [
                                                        0.5555555555555556,
                                                        "#d8576b"
                                                    ],
                                                    [
                                                        0.6666666666666666,
                                                        "#ed7953"
                                                    ],
                                                    [
                                                        0.7777777777777778,
                                                        "#fb9f3a"
                                                    ],
                                                    [
                                                        0.8888888888888888,
                                                        "#fdca26"
                                                    ],
                                                    [
                                                        1,
                                                        "#f0f921"
                                                    ]
                                                ],
                                                "type": "histogram2d"
                                            }
                                        ],
                                        "histogram2dcontour": [
                                            {
                                                "colorbar": {
                                                    "outlinewidth": 0,
                                                    "ticks": ""
                                                },
                                                "colorscale": [
                                                    [
                                                        0,
                                                        "#0d0887"
                                                    ],
                                                    [
                                                        0.1111111111111111,
                                                        "#46039f"
                                                    ],
                                                    [
                                                        0.2222222222222222,
                                                        "#7201a8"
                                                    ],
                                                    [
                                                        0.3333333333333333,
                                                        "#9c179e"
                                                    ],
                                                    [
                                                        0.4444444444444444,
                                                        "#bd3786"
                                                    ],
                                                    [
                                                        0.5555555555555556,
                                                        "#d8576b"
                                                    ],
                                                    [
                                                        0.6666666666666666,
                                                        "#ed7953"
                                                    ],
                                                    [
                                                        0.7777777777777778,
                                                        "#fb9f3a"
                                                    ],
                                                    [
                                                        0.8888888888888888,
                                                        "#fdca26"
                                                    ],
                                                    [
                                                        1,
                                                        "#f0f921"
                                                    ]
                                                ],
                                                "type": "histogram2dcontour"
                                            }
                                        ],
                                        "mesh3d": [
                                            {
                                                "colorbar": {
                                                    "outlinewidth": 0,
                                                    "ticks": ""
                                                },
                                                "type": "mesh3d"
                                            }
                                        ],
                                        "parcoords": [
                                            {
                                                "line": {
                                                    "colorbar": {
                                                        "outlinewidth": 0,
                                                        "ticks": ""
                                                    }
                                                },
                                                "type": "parcoords"
                                            }
                                        ],
                                        "pie": [
                                            {
                                                "automargin": true,
                                                "type": "pie"
                                            }
                                        ],
                                        "scatter": [
                                            {
                                                "fillpattern": {
                                                    "fillmode": "overlay",
                                                    "size": 10,
                                                    "solidity": 0.2
                                                },
                                                "type": "scatter"
                                            }
                                        ],
                                        "scatter3d": [
                                            {
                                                "line": {
                                                    "colorbar": {
                                                        "outlinewidth": 0,
                                                        "ticks": ""
                                                    }
                                                },
                                                "marker": {
                                                    "colorbar": {
                                                        "outlinewidth": 0,
                                                        "ticks": ""
                                                    }
                                                },
                                                "type": "scatter3d"
                                            }
                                        ],
                                        "scattercarpet": [
                                            {
                                                "marker": {
                                                    "colorbar": {
                                                        "outlinewidth": 0,
                                                        "ticks": ""
                                                    }
                                                },
                                                "type": "scattercarpet"
                                            }
                                        ],
                                        "scattergeo": [
                                            {
                                                "marker": {
                                                    "colorbar": {
                                                        "outlinewidth": 0,
                                                        "ticks": ""
                                                    }
                                                },
                                                "type": "scattergeo"
                                            }
                                        ],
                                        "scattergl": [
                                            {
                                                "marker": {
                                                    "colorbar": {
                                                        "outlinewidth": 0,
                                                        "ticks": ""
                                                    }
                                                },
                                                "type": "scattergl"
                                            }
                                        ],
                                        "scattermapbox": [
                                            {
                                                "marker": {
                                                    "colorbar": {
                                                        "outlinewidth": 0,
                                                        "ticks": ""
                                                    }
                                                },
                                                "type": "scattermapbox"
                                            }
                                        ],
                                        "scatterpolar": [
                                            {
                                                "marker": {
                                                    "colorbar": {
                                                        "outlinewidth": 0,
                                                        "ticks": ""
                                                    }
                                                },
                                                "type": "scatterpolar"
                                            }
                                        ],
                                        "scatterpolargl": [
                                            {
                                                "marker": {
                                                    "colorbar": {
                                                        "outlinewidth": 0,
                                                        "ticks": ""
                                                    }
                                                },
                                                "type": "scatterpolargl"
                                            }
                                        ],
                                        "scatterternary": [
                                            {
                                                "marker": {
                                                    "colorbar": {
                                                        "outlinewidth": 0,
                                                        "ticks": ""
                                                    }
                                                },
                                                "type": "scatterternary"
                                            }
                                        ],
                                        "surface": [
                                            {
                                                "colorbar": {
                                                    "outlinewidth": 0,
                                                    "ticks": ""
                                                },
                                                "colorscale": [
                                                    [
                                                        0,
                                                        "#0d0887"
                                                    ],
                                                    [
                                                        0.1111111111111111,
                                                        "#46039f"
                                                    ],
                                                    [
                                                        0.2222222222222222,
                                                        "#7201a8"
                                                    ],
                                                    [
                                                        0.3333333333333333,
                                                        "#9c179e"
                                                    ],
                                                    [
                                                        0.4444444444444444,
                                                        "#bd3786"
                                                    ],
                                                    [
                                                        0.5555555555555556,
                                                        "#d8576b"
                                                    ],
                                                    [
                                                        0.6666666666666666,
                                                        "#ed7953"
                                                    ],
                                                    [
                                                        0.7777777777777778,
                                                        "#fb9f3a"
                                                    ],
                                                    [
                                                        0.8888888888888888,
                                                        "#fdca26"
                                                    ],
                                                    [
                                                        1,
                                                        "#f0f921"
                                                    ]
                                                ],
                                                "type": "surface"
                                            }
                                        ],
                                        "table": [
                                            {
                                                "cells": {
                                                    "fill": {
                                                        "color": "#EBF0F8"
                                                    },
                                                    "line": {
                                                        "color": "white"
                                                    }
                                                },
                                                "header": {
                                                    "fill": {
                                                        "color": "#C8D4E3"
                                                    },
                                                    "line": {
                                                        "color": "white"
                                                    }
                                                },
                                                "type": "table"
                                            }
                                        ]
                                    },
                                    "layout": {
                                        "annotationdefaults": {
                                            "arrowcolor": "#2a3f5f",
                                            "arrowhead": 0,
                                            "arrowwidth": 1
                                        },
                                        "autotypenumbers": "strict",
                                        "coloraxis": {
                                            "colorbar": {
                                                "outlinewidth": 0,
                                                "ticks": ""
                                            }
                                        },
                                        "colorscale": {
                                            "diverging": [
                                                [
                                                    0,
                                                    "#8e0152"
                                                ],
                                                [
                                                    0.1,
                                                    "#c51b7d"
                                                ],
                                                [
                                                    0.2,
                                                    "#de77ae"
                                                ],
                                                [
                                                    0.3,
                                                    "#f1b6da"
                                                ],
                                                [
                                                    0.4,
                                                    "#fde0ef"
                                                ],
                                                [
                                                    0.5,
                                                    "#f7f7f7"
                                                ],
                                                [
                                                    0.6,
                                                    "#e6f5d0"
                                                ],
                                                [
                                                    0.7,
                                                    "#b8e186"
                                                ],
                                                [
                                                    0.8,
                                                    "#7fbc41"
                                                ],
                                                [
                                                    0.9,
                                                    "#4d9221"
                                                ],
                                                [
                                                    1,
                                                    "#276419"
                                                ]
                                            ],
                                            "sequential": [
                                                [
                                                    0,
                                                    "#0d0887"
                                                ],
                                                [
                                                    0.1111111111111111,
                                                    "#46039f"
                                                ],
                                                [
                                                    0.2222222222222222,
                                                    "#7201a8"
                                                ],
                                                [
                                                    0.3333333333333333,
                                                    "#9c179e"
                                                ],
                                                [
                                                    0.4444444444444444,
                                                    "#bd3786"
                                                ],
                                                [
                                                    0.5555555555555556,
                                                    "#d8576b"
                                                ],
                                                [
                                                    0.6666666666666666,
                                                    "#ed7953"
                                                ],
                                                [
                                                    0.7777777777777778,
                                                    "#fb9f3a"
                                                ],
                                                [
                                                    0.8888888888888888,
                                                    "#fdca26"
                                                ],
                                                [
                                                    1,
                                                    "#f0f921"
                                                ]
                                            ],
                                            "sequentialminus": [
                                                [
                                                    0,
                                                    "#0d0887"
                                                ],
                                                [
                                                    0.1111111111111111,
                                                    "#46039f"
                                                ],
                                                [
                                                    0.2222222222222222,
                                                    "#7201a8"
                                                ],
                                                [
                                                    0.3333333333333333,
                                                    "#9c179e"
                                                ],
                                                [
                                                    0.4444444444444444,
                                                    "#bd3786"
                                                ],
                                                [
                                                    0.5555555555555556,
                                                    "#d8576b"
                                                ],
                                                [
                                                    0.6666666666666666,
                                                    "#ed7953"
                                                ],
                                                [
                                                    0.7777777777777778,
                                                    "#fb9f3a"
                                                ],
                                                [
                                                    0.8888888888888888,
                                                    "#fdca26"
                                                ],
                                                [
                                                    1,
                                                    "#f0f921"
                                                ]
                                            ]
                                        },
                                        "colorway": [
                                            "#636efa",
                                            "#EF553B",
                                            "#00cc96",
                                            "#ab63fa",
                                            "#FFA15A",
                                            "#19d3f3",
                                            "#FF6692",
                                            "#B6E880",
                                            "#FF97FF",
                                            "#FECB52"
                                        ],
                                        "font": {
                                            "color": "#2a3f5f"
                                        },
                                        "geo": {
                                            "bgcolor": "white",
                                            "lakecolor": "white",
                                            "landcolor": "#E5ECF6",
                                            "showlakes": true,
                                            "showland": true,
                                            "subunitcolor": "white"
                                        },
                                        "hoverlabel": {
                                            "align": "left"
                                        },
                                        "hovermode": "closest",
                                        "mapbox": {
                                            "style": "light"
                                        },
                                        "paper_bgcolor": "white",
                                        "plot_bgcolor": "#E5ECF6",
                                        "polar": {
                                            "angularaxis": {
                                                "gridcolor": "white",
                                                "linecolor": "white",
                                                "ticks": ""
                                            },
                                            "bgcolor": "#E5ECF6",
                                            "radialaxis": {
                                                "gridcolor": "white",
                                                "linecolor": "white",
                                                "ticks": ""
                                            }
                                        },
                                        "scene": {
                                            "xaxis": {
                                                "backgroundcolor": "#E5ECF6",
                                                "gridcolor": "white",
                                                "gridwidth": 2,
                                                "linecolor": "white",
                                                "showbackground": true,
                                                "ticks": "",
                                                "zerolinecolor": "white"
                                            },
                                            "yaxis": {
                                                "backgroundcolor": "#E5ECF6",
                                                "gridcolor": "white",
                                                "gridwidth": 2,
                                                "linecolor": "white",
                                                "showbackground": true,
                                                "ticks": "",
                                                "zerolinecolor": "white"
                                            },
                                            "zaxis": {
                                                "backgroundcolor": "#E5ECF6",
                                                "gridcolor": "white",
                                                "gridwidth": 2,
                                                "linecolor": "white",
                                                "showbackground": true,
                                                "ticks": "",
                                                "zerolinecolor": "white"
                                            }
                                        },
                                        "shapedefaults": {
                                            "line": {
                                                "color": "#2a3f5f"
                                            }
                                        },
                                        "ternary": {
                                            "aaxis": {
                                                "gridcolor": "white",
                                                "linecolor": "white",
                                                "ticks": ""
                                            },
                                            "baxis": {
                                                "gridcolor": "white",
                                                "linecolor": "white",
                                                "ticks": ""
                                            },
                                            "bgcolor": "#E5ECF6",
                                            "caxis": {
                                                "gridcolor": "white",
                                                "linecolor": "white",
                                                "ticks": ""
                                            }
                                        },
                                        "title": {
                                            "x": 0.05
                                        },
                                        "xaxis": {
                                            "automargin": true,
                                            "gridcolor": "white",
                                            "linecolor": "white",
                                            "ticks": "",
                                            "title": {
                                                "standoff": 15
                                            },
                                            "zerolinecolor": "white",
                                            "zerolinewidth": 2
                                        },
                                        "yaxis": {
                                            "automargin": true,
                                            "gridcolor": "white",
                                            "linecolor": "white",
                                            "ticks": "",
                                            "title": {
                                                "standoff": 15
                                            },
                                            "zerolinecolor": "white",
                                            "zerolinewidth": 2
                                        }
                                    }
                                },
                                "title": {
                                    "text": "Number of consecutive days for each ID"
                                },
                                "xaxis": {
                                    "anchor": "y",
                                    "domain": [
                                        0,
                                        1
                                    ]
                                },
                                "yaxis": {
                                    "anchor": "x",
                                    "domain": [
                                        0,
                                        1
                                    ]
                                }
                            }
                        }
                    },
                    "metadata": {},
                    "output_type": "display_data"
                }
            ],
            "source": [
                "# Sort by number of 1 day\n",
                "df_consec = df_consec.sort_values(\"2 days\", ascending=True)\n",
                "# Bar plot of the number of days for each ID\n",
                "fig = make_subplots(rows=1, cols=1)\n",
                "fig.add_trace(\n",
                "    go.Bar(\n",
                "        y=df_consec.index,\n",
                "        x=df_consec[\"count\"],\n",
                "        orientation=\"h\",\n",
                "        name=\"all data\",\n",
                "        marker_color=dh.get_blind_colours()[0],\n",
                "    ),\n",
                "    row=1,\n",
                "    col=1,\n",
                ")\n",
                "fig.add_trace(\n",
                "    go.Bar(\n",
                "        y=df_consec.index,\n",
                "        x=df_consec[\"3 days\"],\n",
                "        orientation=\"h\",\n",
                "        name=\"3 days\",\n",
                "        marker_color=dh.get_blind_colours()[1],\n",
                "    ),\n",
                "    row=1,\n",
                "    col=1,\n",
                ")\n",
                "fig.add_trace(\n",
                "    go.Bar(\n",
                "        y=df_consec.index,\n",
                "        x=df_consec[\"2 days\"],\n",
                "        orientation=\"h\",\n",
                "        name=\"2 days\",\n",
                "        marker_color=dh.get_blind_colours()[2],\n",
                "    ),\n",
                "    row=1,\n",
                "    col=1,\n",
                ")\n",
                "fig.add_trace(\n",
                "    go.Bar(\n",
                "        y=df_consec.index,\n",
                "        x=df_consec[\"1 day\"],\n",
                "        orientation=\"h\",\n",
                "        name=\"1 day\",\n",
                "        marker_color=dh.get_blind_colours()[3],\n",
                "    ),\n",
                "    row=1,\n",
                "    col=1,\n",
                ")\n",
                "fig.update_layout(\n",
                "    title_text=\"Number of consecutive days for each ID\",\n",
                "    height=4000,\n",
                "    font_size=8,\n",
                "    barmode=\"overlay\",\n",
                ")\n",
                "\n",
                "fig.show()"
            ]
        },
        {
            "cell_type": "code",
            "execution_count": 82,
            "metadata": {},
            "outputs": [
                {
                    "data": {
                        "text/html": [
                            "<div>\n",
                            "<style scoped>\n",
                            "    .dataframe tbody tr th:only-of-type {\n",
                            "        vertical-align: middle;\n",
                            "    }\n",
                            "\n",
                            "    .dataframe tbody tr th {\n",
                            "        vertical-align: top;\n",
                            "    }\n",
                            "\n",
                            "    .dataframe thead th {\n",
                            "        text-align: right;\n",
                            "    }\n",
                            "</style>\n",
                            "<table border=\"1\" class=\"dataframe\">\n",
                            "  <thead>\n",
                            "    <tr style=\"text-align: right;\">\n",
                            "      <th></th>\n",
                            "      <th>ID</th>\n",
                            "      <th>Date Recorded</th>\n",
                            "      <th>FEV1</th>\n",
                            "      <th>O2 Saturation</th>\n",
                            "      <th>FEF2575</th>\n",
                            "      <th>ecFEV1</th>\n",
                            "      <th>ecFEF2575</th>\n",
                            "      <th>Sex</th>\n",
                            "      <th>Height</th>\n",
                            "      <th>Age</th>\n",
                            "      <th>...</th>\n",
                            "      <th>ecFEV1 % Predicted</th>\n",
                            "      <th>FEV1 % Predicted</th>\n",
                            "      <th>O2 Saturation % Healthy</th>\n",
                            "      <th>ecFEF2575%ecFEV1</th>\n",
                            "      <th>idx ecFEV1 (L)</th>\n",
                            "      <th>idx O2 saturation (%)</th>\n",
                            "      <th>idx ecFEF2575%ecFEV1</th>\n",
                            "      <th>idx ecFEF25-75 % ecFEV1 (%)</th>\n",
                            "      <th>Prev day</th>\n",
                            "      <th>Days elapsed</th>\n",
                            "    </tr>\n",
                            "  </thead>\n",
                            "  <tbody>\n",
                            "    <tr>\n",
                            "      <th>298</th>\n",
                            "      <td>203</td>\n",
                            "      <td>2021-09-20</td>\n",
                            "      <td>1.90</td>\n",
                            "      <td>98</td>\n",
                            "      <td>0.62</td>\n",
                            "      <td>1.90</td>\n",
                            "      <td>1.05</td>\n",
                            "      <td>Female</td>\n",
                            "      <td>164.0</td>\n",
                            "      <td>38</td>\n",
                            "      <td>...</td>\n",
                            "      <td>60.859190</td>\n",
                            "      <td>60.859190</td>\n",
                            "      <td>99.86499</td>\n",
                            "      <td>32.631579</td>\n",
                            "      <td>38</td>\n",
                            "      <td>48</td>\n",
                            "      <td>16</td>\n",
                            "      <td>16</td>\n",
                            "      <td>2021-09-16</td>\n",
                            "      <td>4 days, 0:00:00</td>\n",
                            "    </tr>\n",
                            "    <tr>\n",
                            "      <th>299</th>\n",
                            "      <td>203</td>\n",
                            "      <td>2021-09-21</td>\n",
                            "      <td>1.91</td>\n",
                            "      <td>98</td>\n",
                            "      <td>1.03</td>\n",
                            "      <td>1.91</td>\n",
                            "      <td>1.03</td>\n",
                            "      <td>Female</td>\n",
                            "      <td>164.0</td>\n",
                            "      <td>38</td>\n",
                            "      <td>...</td>\n",
                            "      <td>61.179502</td>\n",
                            "      <td>61.179502</td>\n",
                            "      <td>99.86499</td>\n",
                            "      <td>53.926702</td>\n",
                            "      <td>38</td>\n",
                            "      <td>48</td>\n",
                            "      <td>26</td>\n",
                            "      <td>26</td>\n",
                            "      <td>2021-09-20</td>\n",
                            "      <td>1 day, 0:00:00</td>\n",
                            "    </tr>\n",
                            "    <tr>\n",
                            "      <th>300</th>\n",
                            "      <td>203</td>\n",
                            "      <td>2021-09-22</td>\n",
                            "      <td>1.95</td>\n",
                            "      <td>99</td>\n",
                            "      <td>1.08</td>\n",
                            "      <td>1.95</td>\n",
                            "      <td>1.08</td>\n",
                            "      <td>Female</td>\n",
                            "      <td>164.0</td>\n",
                            "      <td>38</td>\n",
                            "      <td>...</td>\n",
                            "      <td>62.460748</td>\n",
                            "      <td>62.460748</td>\n",
                            "      <td>100.88402</td>\n",
                            "      <td>55.384615</td>\n",
                            "      <td>39</td>\n",
                            "      <td>49</td>\n",
                            "      <td>27</td>\n",
                            "      <td>27</td>\n",
                            "      <td>2021-09-21</td>\n",
                            "      <td>1 day, 0:00:00</td>\n",
                            "    </tr>\n",
                            "    <tr>\n",
                            "      <th>301</th>\n",
                            "      <td>203</td>\n",
                            "      <td>2021-09-23</td>\n",
                            "      <td>1.91</td>\n",
                            "      <td>99</td>\n",
                            "      <td>1.00</td>\n",
                            "      <td>1.91</td>\n",
                            "      <td>1.00</td>\n",
                            "      <td>Female</td>\n",
                            "      <td>164.0</td>\n",
                            "      <td>38</td>\n",
                            "      <td>...</td>\n",
                            "      <td>61.179502</td>\n",
                            "      <td>61.179502</td>\n",
                            "      <td>100.88402</td>\n",
                            "      <td>52.356021</td>\n",
                            "      <td>38</td>\n",
                            "      <td>49</td>\n",
                            "      <td>26</td>\n",
                            "      <td>26</td>\n",
                            "      <td>2021-09-22</td>\n",
                            "      <td>1 day, 0:00:00</td>\n",
                            "    </tr>\n",
                            "    <tr>\n",
                            "      <th>302</th>\n",
                            "      <td>203</td>\n",
                            "      <td>2021-09-24</td>\n",
                            "      <td>1.95</td>\n",
                            "      <td>99</td>\n",
                            "      <td>1.01</td>\n",
                            "      <td>1.95</td>\n",
                            "      <td>1.01</td>\n",
                            "      <td>Female</td>\n",
                            "      <td>164.0</td>\n",
                            "      <td>38</td>\n",
                            "      <td>...</td>\n",
                            "      <td>62.460748</td>\n",
                            "      <td>62.460748</td>\n",
                            "      <td>100.88402</td>\n",
                            "      <td>51.794872</td>\n",
                            "      <td>39</td>\n",
                            "      <td>49</td>\n",
                            "      <td>25</td>\n",
                            "      <td>25</td>\n",
                            "      <td>2021-09-23</td>\n",
                            "      <td>1 day, 0:00:00</td>\n",
                            "    </tr>\n",
                            "    <tr>\n",
                            "      <th>...</th>\n",
                            "      <td>...</td>\n",
                            "      <td>...</td>\n",
                            "      <td>...</td>\n",
                            "      <td>...</td>\n",
                            "      <td>...</td>\n",
                            "      <td>...</td>\n",
                            "      <td>...</td>\n",
                            "      <td>...</td>\n",
                            "      <td>...</td>\n",
                            "      <td>...</td>\n",
                            "      <td>...</td>\n",
                            "      <td>...</td>\n",
                            "      <td>...</td>\n",
                            "      <td>...</td>\n",
                            "      <td>...</td>\n",
                            "      <td>...</td>\n",
                            "      <td>...</td>\n",
                            "      <td>...</td>\n",
                            "      <td>...</td>\n",
                            "      <td>...</td>\n",
                            "      <td>...</td>\n",
                            "    </tr>\n",
                            "    <tr>\n",
                            "      <th>614</th>\n",
                            "      <td>203</td>\n",
                            "      <td>2022-12-09</td>\n",
                            "      <td>1.87</td>\n",
                            "      <td>99</td>\n",
                            "      <td>1.11</td>\n",
                            "      <td>1.87</td>\n",
                            "      <td>1.11</td>\n",
                            "      <td>Female</td>\n",
                            "      <td>164.0</td>\n",
                            "      <td>38</td>\n",
                            "      <td>...</td>\n",
                            "      <td>59.898256</td>\n",
                            "      <td>59.898256</td>\n",
                            "      <td>100.88402</td>\n",
                            "      <td>59.358289</td>\n",
                            "      <td>37</td>\n",
                            "      <td>49</td>\n",
                            "      <td>29</td>\n",
                            "      <td>29</td>\n",
                            "      <td>2022-12-08</td>\n",
                            "      <td>1 day, 0:00:00</td>\n",
                            "    </tr>\n",
                            "    <tr>\n",
                            "      <th>615</th>\n",
                            "      <td>203</td>\n",
                            "      <td>2022-12-12</td>\n",
                            "      <td>1.82</td>\n",
                            "      <td>99</td>\n",
                            "      <td>1.12</td>\n",
                            "      <td>1.82</td>\n",
                            "      <td>1.12</td>\n",
                            "      <td>Female</td>\n",
                            "      <td>164.0</td>\n",
                            "      <td>38</td>\n",
                            "      <td>...</td>\n",
                            "      <td>58.296698</td>\n",
                            "      <td>58.296698</td>\n",
                            "      <td>100.88402</td>\n",
                            "      <td>61.538462</td>\n",
                            "      <td>36</td>\n",
                            "      <td>49</td>\n",
                            "      <td>30</td>\n",
                            "      <td>30</td>\n",
                            "      <td>2022-12-09</td>\n",
                            "      <td>3 days, 0:00:00</td>\n",
                            "    </tr>\n",
                            "    <tr>\n",
                            "      <th>616</th>\n",
                            "      <td>203</td>\n",
                            "      <td>2022-12-15</td>\n",
                            "      <td>1.86</td>\n",
                            "      <td>98</td>\n",
                            "      <td>1.00</td>\n",
                            "      <td>1.86</td>\n",
                            "      <td>1.00</td>\n",
                            "      <td>Female</td>\n",
                            "      <td>164.0</td>\n",
                            "      <td>38</td>\n",
                            "      <td>...</td>\n",
                            "      <td>59.577944</td>\n",
                            "      <td>59.577944</td>\n",
                            "      <td>99.86499</td>\n",
                            "      <td>53.763441</td>\n",
                            "      <td>37</td>\n",
                            "      <td>48</td>\n",
                            "      <td>26</td>\n",
                            "      <td>26</td>\n",
                            "      <td>2022-12-12</td>\n",
                            "      <td>3 days, 0:00:00</td>\n",
                            "    </tr>\n",
                            "    <tr>\n",
                            "      <th>617</th>\n",
                            "      <td>203</td>\n",
                            "      <td>2022-12-16</td>\n",
                            "      <td>1.88</td>\n",
                            "      <td>98</td>\n",
                            "      <td>1.12</td>\n",
                            "      <td>1.88</td>\n",
                            "      <td>1.12</td>\n",
                            "      <td>Female</td>\n",
                            "      <td>164.0</td>\n",
                            "      <td>38</td>\n",
                            "      <td>...</td>\n",
                            "      <td>60.218567</td>\n",
                            "      <td>60.218567</td>\n",
                            "      <td>99.86499</td>\n",
                            "      <td>59.574468</td>\n",
                            "      <td>37</td>\n",
                            "      <td>48</td>\n",
                            "      <td>29</td>\n",
                            "      <td>29</td>\n",
                            "      <td>2022-12-15</td>\n",
                            "      <td>1 day, 0:00:00</td>\n",
                            "    </tr>\n",
                            "    <tr>\n",
                            "      <th>618</th>\n",
                            "      <td>203</td>\n",
                            "      <td>2022-12-20</td>\n",
                            "      <td>1.94</td>\n",
                            "      <td>98</td>\n",
                            "      <td>1.31</td>\n",
                            "      <td>1.94</td>\n",
                            "      <td>1.31</td>\n",
                            "      <td>Female</td>\n",
                            "      <td>164.0</td>\n",
                            "      <td>38</td>\n",
                            "      <td>...</td>\n",
                            "      <td>62.140437</td>\n",
                            "      <td>62.140437</td>\n",
                            "      <td>99.86499</td>\n",
                            "      <td>67.525773</td>\n",
                            "      <td>38</td>\n",
                            "      <td>48</td>\n",
                            "      <td>33</td>\n",
                            "      <td>33</td>\n",
                            "      <td>2022-12-16</td>\n",
                            "      <td>4 days, 0:00:00</td>\n",
                            "    </tr>\n",
                            "  </tbody>\n",
                            "</table>\n",
                            "<p>321 rows × 22 columns</p>\n",
                            "</div>"
                        ],
                        "text/plain": [
                            "      ID Date Recorded  FEV1  O2 Saturation  FEF2575  ecFEV1  ecFEF2575  \\\n",
                            "298  203    2021-09-20  1.90             98     0.62    1.90       1.05   \n",
                            "299  203    2021-09-21  1.91             98     1.03    1.91       1.03   \n",
                            "300  203    2021-09-22  1.95             99     1.08    1.95       1.08   \n",
                            "301  203    2021-09-23  1.91             99     1.00    1.91       1.00   \n",
                            "302  203    2021-09-24  1.95             99     1.01    1.95       1.01   \n",
                            "..   ...           ...   ...            ...      ...     ...        ...   \n",
                            "614  203    2022-12-09  1.87             99     1.11    1.87       1.11   \n",
                            "615  203    2022-12-12  1.82             99     1.12    1.82       1.12   \n",
                            "616  203    2022-12-15  1.86             98     1.00    1.86       1.00   \n",
                            "617  203    2022-12-16  1.88             98     1.12    1.88       1.12   \n",
                            "618  203    2022-12-20  1.94             98     1.31    1.94       1.31   \n",
                            "\n",
                            "        Sex  Height  Age  ...  ecFEV1 % Predicted  FEV1 % Predicted  \\\n",
                            "298  Female   164.0   38  ...           60.859190         60.859190   \n",
                            "299  Female   164.0   38  ...           61.179502         61.179502   \n",
                            "300  Female   164.0   38  ...           62.460748         62.460748   \n",
                            "301  Female   164.0   38  ...           61.179502         61.179502   \n",
                            "302  Female   164.0   38  ...           62.460748         62.460748   \n",
                            "..      ...     ...  ...  ...                 ...               ...   \n",
                            "614  Female   164.0   38  ...           59.898256         59.898256   \n",
                            "615  Female   164.0   38  ...           58.296698         58.296698   \n",
                            "616  Female   164.0   38  ...           59.577944         59.577944   \n",
                            "617  Female   164.0   38  ...           60.218567         60.218567   \n",
                            "618  Female   164.0   38  ...           62.140437         62.140437   \n",
                            "\n",
                            "     O2 Saturation % Healthy  ecFEF2575%ecFEV1  idx ecFEV1 (L)  \\\n",
                            "298                 99.86499         32.631579              38   \n",
                            "299                 99.86499         53.926702              38   \n",
                            "300                100.88402         55.384615              39   \n",
                            "301                100.88402         52.356021              38   \n",
                            "302                100.88402         51.794872              39   \n",
                            "..                       ...               ...             ...   \n",
                            "614                100.88402         59.358289              37   \n",
                            "615                100.88402         61.538462              36   \n",
                            "616                 99.86499         53.763441              37   \n",
                            "617                 99.86499         59.574468              37   \n",
                            "618                 99.86499         67.525773              38   \n",
                            "\n",
                            "     idx O2 saturation (%)  idx ecFEF2575%ecFEV1  idx ecFEF25-75 % ecFEV1 (%)  \\\n",
                            "298                     48                    16                           16   \n",
                            "299                     48                    26                           26   \n",
                            "300                     49                    27                           27   \n",
                            "301                     49                    26                           26   \n",
                            "302                     49                    25                           25   \n",
                            "..                     ...                   ...                          ...   \n",
                            "614                     49                    29                           29   \n",
                            "615                     49                    30                           30   \n",
                            "616                     48                    26                           26   \n",
                            "617                     48                    29                           29   \n",
                            "618                     48                    33                           33   \n",
                            "\n",
                            "       Prev day     Days elapsed  \n",
                            "298  2021-09-16  4 days, 0:00:00  \n",
                            "299  2021-09-20   1 day, 0:00:00  \n",
                            "300  2021-09-21   1 day, 0:00:00  \n",
                            "301  2021-09-22   1 day, 0:00:00  \n",
                            "302  2021-09-23   1 day, 0:00:00  \n",
                            "..          ...              ...  \n",
                            "614  2022-12-08   1 day, 0:00:00  \n",
                            "615  2022-12-09  3 days, 0:00:00  \n",
                            "616  2022-12-12  3 days, 0:00:00  \n",
                            "617  2022-12-15   1 day, 0:00:00  \n",
                            "618  2022-12-16  4 days, 0:00:00  \n",
                            "\n",
                            "[321 rows x 22 columns]"
                        ]
                    },
                    "execution_count": 82,
                    "metadata": {},
                    "output_type": "execute_result"
                }
            ],
            "source": [
                "df_for_ID.iloc[start_idx : end_idx + 1]\n",
                "# df[df[\"ID\"] == \"272\"].iloc[:417].reset_index(drop=True)"
            ]
        },
        {
            "cell_type": "code",
            "execution_count": 1,
            "metadata": {},
            "outputs": [
                {
                    "ename": "NameError",
                    "evalue": "name 'df' is not defined",
                    "output_type": "error",
                    "traceback": [
                        "\u001b[0;31m---------------------------------------------------------------------------\u001b[0m",
                        "\u001b[0;31mNameError\u001b[0m                                 Traceback (most recent call last)",
                        "Cell \u001b[0;32mIn[1], line 16\u001b[0m\n\u001b[1;32m     11\u001b[0m     \u001b[38;5;28mprint\u001b[39m(idx)\n\u001b[1;32m     13\u001b[0m     \u001b[38;5;28;01mreturn\u001b[39;00m df\n\u001b[0;32m---> 16\u001b[0m df_tmp \u001b[38;5;241m=\u001b[39m \u001b[43mdf\u001b[49m[df\u001b[38;5;241m.\u001b[39mID \u001b[38;5;241m==\u001b[39m \u001b[38;5;124m\"\u001b[39m\u001b[38;5;124m405\u001b[39m\u001b[38;5;124m\"\u001b[39m]\n\u001b[1;32m     17\u001b[0m df_tmp \u001b[38;5;241m=\u001b[39m get_consec_days(df_tmp)\n",
                        "\u001b[0;31mNameError\u001b[0m: name 'df' is not defined"
                    ]
                }
            ],
            "source": [
                "def get_consec_days(df):\n",
                "    df = df.sort_values(by=\"Date Recorded\")\n",
                "    df[\"Prev day\"] = df[\"Date Recorded\"].shift(1)\n",
                "    # Compute n days between measurements\n",
                "    df[\"Days elapsed\"] = df[\"Date Recorded\"] - df[\"Prev day\"]\n",
                "    # Remove nan\n",
                "    df = df.dropna(subset=[\"Days elapsed\"])\n",
                "\n",
                "    # Get first idx where Days elapsed is greater than 1\n",
                "    idx = df[df[\"Days elapsed\"] > pd.Timedelta(days=3)].index\n",
                "    print(idx)\n",
                "\n",
                "    return df\n",
                "\n",
                "\n",
                "df_tmp = df[df.ID == \"405\"]\n",
                "df_tmp = get_consec_days(df_tmp)\n",
                "# Not finished"
            ]
        },
        {
            "cell_type": "code",
            "execution_count": null,
            "metadata": {},
            "outputs": [],
            "source": []
        }
    ],
    "metadata": {
        "kernelspec": {
            "display_name": "phd",
            "language": "python",
            "name": "python3"
        },
        "language_info": {
            "codemirror_mode": {
                "name": "ipython",
                "version": 3
            },
            "file_extension": ".py",
            "mimetype": "text/x-python",
            "name": "python",
            "nbconvert_exporter": "python",
            "pygments_lexer": "ipython3",
            "version": "3.10.13"
        }
    },
    "nbformat": 4,
    "nbformat_minor": 2
}
