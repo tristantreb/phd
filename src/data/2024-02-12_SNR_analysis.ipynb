{
 "cells": [
  {
   "cell_type": "markdown",
   "metadata": {},
   "source": [
    "This notebook aims to compute and compare the signal to noise ratios (SNR) of the physiological variables\n",
    "\n",
    "This is useful to evalute how useful/necessary it is to build a noise model for a variable"
   ]
  },
  {
   "cell_type": "code",
   "execution_count": 8,
   "metadata": {},
   "outputs": [],
   "source": [
    "import src.data.breathe_data as breathe_data\n",
    "\n",
    "import numpy as np"
   ]
  },
  {
   "cell_type": "code",
   "execution_count": 4,
   "metadata": {},
   "outputs": [],
   "source": [
    "df = breathe_data.load_o2_fev1_df_from_excel()"
   ]
  },
  {
   "cell_type": "code",
   "execution_count": 6,
   "metadata": {},
   "outputs": [
    {
     "data": {
      "text/html": [
       "<div>\n",
       "<style scoped>\n",
       "    .dataframe tbody tr th:only-of-type {\n",
       "        vertical-align: middle;\n",
       "    }\n",
       "\n",
       "    .dataframe tbody tr th {\n",
       "        vertical-align: top;\n",
       "    }\n",
       "\n",
       "    .dataframe thead th {\n",
       "        text-align: right;\n",
       "    }\n",
       "</style>\n",
       "<table border=\"1\" class=\"dataframe\">\n",
       "  <thead>\n",
       "    <tr style=\"text-align: right;\">\n",
       "      <th></th>\n",
       "      <th>ID</th>\n",
       "      <th>Date Recorded</th>\n",
       "      <th>FEV1</th>\n",
       "      <th>O2 Saturation</th>\n",
       "      <th>ecFEV1</th>\n",
       "      <th>Age</th>\n",
       "      <th>Sex</th>\n",
       "      <th>Height</th>\n",
       "      <th>Predicted FEV1</th>\n",
       "      <th>Healthy O2 Saturation</th>\n",
       "      <th>ecFEV1 % Predicted</th>\n",
       "      <th>FEV1 % Predicted</th>\n",
       "      <th>O2 Saturation % Healthy</th>\n",
       "    </tr>\n",
       "  </thead>\n",
       "  <tbody>\n",
       "    <tr>\n",
       "      <th>0</th>\n",
       "      <td>101</td>\n",
       "      <td>2019-02-20</td>\n",
       "      <td>1.31</td>\n",
       "      <td>97.0</td>\n",
       "      <td>1.32</td>\n",
       "      <td>53</td>\n",
       "      <td>Male</td>\n",
       "      <td>173.0</td>\n",
       "      <td>3.610061</td>\n",
       "      <td>97.22596</td>\n",
       "      <td>36.564477</td>\n",
       "      <td>36.287474</td>\n",
       "      <td>99.767593</td>\n",
       "    </tr>\n",
       "    <tr>\n",
       "      <th>1</th>\n",
       "      <td>101</td>\n",
       "      <td>2019-02-21</td>\n",
       "      <td>1.29</td>\n",
       "      <td>96.0</td>\n",
       "      <td>1.32</td>\n",
       "      <td>53</td>\n",
       "      <td>Male</td>\n",
       "      <td>173.0</td>\n",
       "      <td>3.610061</td>\n",
       "      <td>97.22596</td>\n",
       "      <td>36.564477</td>\n",
       "      <td>35.733466</td>\n",
       "      <td>98.739061</td>\n",
       "    </tr>\n",
       "    <tr>\n",
       "      <th>2</th>\n",
       "      <td>101</td>\n",
       "      <td>2019-02-22</td>\n",
       "      <td>1.32</td>\n",
       "      <td>96.0</td>\n",
       "      <td>1.32</td>\n",
       "      <td>53</td>\n",
       "      <td>Male</td>\n",
       "      <td>173.0</td>\n",
       "      <td>3.610061</td>\n",
       "      <td>97.22596</td>\n",
       "      <td>36.564477</td>\n",
       "      <td>36.564477</td>\n",
       "      <td>98.739061</td>\n",
       "    </tr>\n",
       "    <tr>\n",
       "      <th>3</th>\n",
       "      <td>101</td>\n",
       "      <td>2019-02-23</td>\n",
       "      <td>1.28</td>\n",
       "      <td>97.0</td>\n",
       "      <td>1.33</td>\n",
       "      <td>53</td>\n",
       "      <td>Male</td>\n",
       "      <td>173.0</td>\n",
       "      <td>3.610061</td>\n",
       "      <td>97.22596</td>\n",
       "      <td>36.841481</td>\n",
       "      <td>35.456463</td>\n",
       "      <td>99.767593</td>\n",
       "    </tr>\n",
       "    <tr>\n",
       "      <th>4</th>\n",
       "      <td>101</td>\n",
       "      <td>2019-02-24</td>\n",
       "      <td>1.33</td>\n",
       "      <td>98.0</td>\n",
       "      <td>1.36</td>\n",
       "      <td>53</td>\n",
       "      <td>Male</td>\n",
       "      <td>173.0</td>\n",
       "      <td>3.610061</td>\n",
       "      <td>97.22596</td>\n",
       "      <td>37.672492</td>\n",
       "      <td>36.841481</td>\n",
       "      <td>100.796125</td>\n",
       "    </tr>\n",
       "  </tbody>\n",
       "</table>\n",
       "</div>"
      ],
      "text/plain": [
       "    ID Date Recorded  FEV1  O2 Saturation  ecFEV1  Age   Sex  Height  \\\n",
       "0  101    2019-02-20  1.31           97.0    1.32   53  Male   173.0   \n",
       "1  101    2019-02-21  1.29           96.0    1.32   53  Male   173.0   \n",
       "2  101    2019-02-22  1.32           96.0    1.32   53  Male   173.0   \n",
       "3  101    2019-02-23  1.28           97.0    1.33   53  Male   173.0   \n",
       "4  101    2019-02-24  1.33           98.0    1.36   53  Male   173.0   \n",
       "\n",
       "   Predicted FEV1  Healthy O2 Saturation  ecFEV1 % Predicted  \\\n",
       "0        3.610061               97.22596           36.564477   \n",
       "1        3.610061               97.22596           36.564477   \n",
       "2        3.610061               97.22596           36.564477   \n",
       "3        3.610061               97.22596           36.841481   \n",
       "4        3.610061               97.22596           37.672492   \n",
       "\n",
       "   FEV1 % Predicted  O2 Saturation % Healthy  \n",
       "0         36.287474                99.767593  \n",
       "1         35.733466                98.739061  \n",
       "2         36.564477                98.739061  \n",
       "3         35.456463                99.767593  \n",
       "4         36.841481               100.796125  "
      ]
     },
     "execution_count": 6,
     "metadata": {},
     "output_type": "execute_result"
    }
   ],
   "source": [
    "df.head()"
   ]
  },
  {
   "cell_type": "code",
   "execution_count": 14,
   "metadata": {},
   "outputs": [],
   "source": [
    "def get_snr_for_ID(df, var):\n",
    "    if len(df) < 10:\n",
    "        return np.nan\n",
    "    mean = df[var].mean()\n",
    "    std = df[var].std()\n",
    "    return mean / std\n",
    "\n",
    "def get_snr(df, var):\n",
    "    snr = df.groupby('ID').apply(get_snr_for_ID, var)\n",
    "    snr = snr.dropna()\n",
    "    return snr.mean()\n",
    "\n"
   ]
  },
  {
   "cell_type": "code",
   "execution_count": 15,
   "metadata": {},
   "outputs": [
    {
     "name": "stdout",
     "output_type": "stream",
     "text": [
      "107.42303885121936\n",
      "19.407304648204633\n"
     ]
    }
   ],
   "source": [
    "print(get_snr(df, 'O2 Saturation'))\n",
    "print(get_snr(df, 'FEV1'))"
   ]
  },
  {
   "cell_type": "code",
   "execution_count": 18,
   "metadata": {},
   "outputs": [
    {
     "data": {
      "text/plain": [
       "<Axes: >"
      ]
     },
     "execution_count": 18,
     "metadata": {},
     "output_type": "execute_result"
    },
    {
     "data": {
      "image/png": "[encoded data removed]",
      "text/plain": [
       "<Figure size 640x480 with 1 Axes>"
      ]
     },
     "metadata": {},
     "output_type": "display_data"
    }
   ],
   "source": [
    "df[\"O2 Saturation\"].hist()\n",
    "df[\"FEV1\"].hist()"
   ]
  },
  {
   "cell_type": "code",
   "execution_count": null,
   "metadata": {},
   "outputs": [],
   "source": []
  }
 ],
 "metadata": {
  "kernelspec": {
   "display_name": "phd",
   "language": "python",
   "name": "python3"
  },
  "language_info": {
   "codemirror_mode": {
    "name": "ipython",
    "version": 3
   },
   "file_extension": ".py",
   "mimetype": "text/x-python",
   "name": "python",
   "nbconvert_exporter": "python",
   "pygments_lexer": "ipython3",
   "version": "3.10.13"
  }
 },
 "nbformat": 4,
 "nbformat_minor": 2
}
