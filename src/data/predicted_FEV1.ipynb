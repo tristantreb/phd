{
 "cells": [
  {
   "attachments": {},
   "cell_type": "markdown",
   "metadata": {},
   "source": [
    "# Choose the right Predicted FEV1\n",
    "\n",
    "Damian's uses different varaibles to define Predicted FEV1 [here](https://tristantreb.github.io/master_thesis_CF_ML/Code/smartcare/populateDerivedColsInMLTables.html)\n",
    "- Predicted FEV1: value from the clinical data\n",
    "- FEV1SetAs = round(PredictedFEV1)\n",
    "- CalcFEV1SetAs is different than PredictedFEV1 because it uses a corrected Age (floor(years(patientStudyStartDate - patientDOB))), instead of the age that was entered during the study.\n",
    "\n",
    "Conslusion\n",
    "- abs(Calc Age and Age) < 1.2 years"
   ]
  },
  {
   "cell_type": "code",
   "execution_count": 1,
   "metadata": {},
   "outputs": [],
   "source": [
    "import patient_data\n",
    "from biology import *\n",
    "\n",
    "from dateutil.relativedelta import relativedelta\n",
    "import plotly.graph_objects as go\n",
    "\n",
    "def move_column_next_to(df, col_name, taget_col_name):\n",
    "    idx = df.columns.get_loc(taget_col_name)\n",
    "    df.insert(idx+1, col_name, df.pop(col_name))\n",
    "    return df"
   ]
  },
  {
   "cell_type": "code",
   "execution_count": 2,
   "metadata": {},
   "outputs": [
    {
     "name": "stdout",
     "output_type": "stream",
     "text": [
      "\n",
      "** Loading patient data **\n",
      "\n",
      "* Dropping unnecessary columns from patient data *\n",
      "Columns filtered: ['ID', 'Study Date', 'DOB', 'Age', 'Sex', 'Height', 'Weight', 'Predicted FEV1', 'FEV1 Set As']\n",
      "Columns dropped: {'Comments', 'Sputum Samples', 'Less Exacerbation', 'Date Last PE Stop', 'GP Letter Sent', 'Remote Monitoring App User ID', 'Age 18 Years', 'Transplant Recipients', 'Unable Informed Consent', 'Genetic Testing', 'Study Email', 'Pulmonary Exacerbation', 'Date Last PE Start', 'Date Consent Obtained', 'CFQR Quest Comp', 'Unable Sputum Samples', 'Informed Consent', 'Telemetric Measures', 'Freezer Required', 'Study Number', 'Inconvenience Payment', 'Hospital'}\n",
      "\n",
      "* Correcting patient data *\n",
      "ID 60: Corrected height 60 from 1.63 to 163.0\n",
      "ID 66: Corrected height for ID 66 from 1.62 to 162.0\n",
      "\n",
      "* Applying data sanity checks *\n",
      "Loaded patient data with 147 entries (147 initially)\n"
     ]
    },
    {
     "name": "stderr",
     "output_type": "stream",
     "text": [
      "/Applications/anaconda3/envs/phd/lib/python3.10/site-packages/openpyxl/worksheet/_read_only.py:79: UserWarning: Unknown extension is not supported and will be removed\n",
      "  for idx, row in parser.parse():\n",
      "/Users/tristan.trebaol/Desktop/PhD/Code/phd/src/data/patient_data.py:118: SettingWithCopyWarning: \n",
      "A value is trying to be set on a copy of a slice from a DataFrame\n",
      "\n",
      "See the caveats in the documentation: https://pandas.pydata.org/pandas-docs/stable/user_guide/indexing.html#returning-a-view-versus-a-copy\n",
      "  df.Height.loc[df.ID == \"60\"] = tmp * 100\n"
     ]
    }
   ],
   "source": [
    "df = patient_data.load(use_calc=False)"
   ]
  },
  {
   "cell_type": "code",
   "execution_count": 3,
   "metadata": {},
   "outputs": [
    {
     "data": {
      "text/html": [
       "<div>\n",
       "<style scoped>\n",
       "    .dataframe tbody tr th:only-of-type {\n",
       "        vertical-align: middle;\n",
       "    }\n",
       "\n",
       "    .dataframe tbody tr th {\n",
       "        vertical-align: top;\n",
       "    }\n",
       "\n",
       "    .dataframe thead th {\n",
       "        text-align: right;\n",
       "    }\n",
       "</style>\n",
       "<table border=\"1\" class=\"dataframe\">\n",
       "  <thead>\n",
       "    <tr style=\"text-align: right;\">\n",
       "      <th></th>\n",
       "      <th>ID</th>\n",
       "      <th>Study Date</th>\n",
       "      <th>DOB</th>\n",
       "      <th>Age</th>\n",
       "      <th>Calc Age</th>\n",
       "      <th>Calc Age Exact</th>\n",
       "      <th>diff Age - Calc Age Exact</th>\n",
       "      <th>Sex</th>\n",
       "      <th>Height</th>\n",
       "      <th>Weight</th>\n",
       "      <th>Predicted FEV1</th>\n",
       "      <th>FEV1 Set As</th>\n",
       "    </tr>\n",
       "  </thead>\n",
       "  <tbody>\n",
       "    <tr>\n",
       "      <th>98</th>\n",
       "      <td>138</td>\n",
       "      <td>2015-08-06</td>\n",
       "      <td>1985-10-31</td>\n",
       "      <td>31</td>\n",
       "      <td>30</td>\n",
       "      <td>29.750000</td>\n",
       "      <td>1.250000</td>\n",
       "      <td>Male</td>\n",
       "      <td>172.0</td>\n",
       "      <td>66.6</td>\n",
       "      <td>4.06</td>\n",
       "      <td>4.0</td>\n",
       "    </tr>\n",
       "    <tr>\n",
       "      <th>100</th>\n",
       "      <td>80</td>\n",
       "      <td>2015-08-10</td>\n",
       "      <td>1994-08-16</td>\n",
       "      <td>22</td>\n",
       "      <td>21</td>\n",
       "      <td>20.916667</td>\n",
       "      <td>1.083333</td>\n",
       "      <td>Male</td>\n",
       "      <td>159.0</td>\n",
       "      <td>66.2</td>\n",
       "      <td>3.62</td>\n",
       "      <td>3.6</td>\n",
       "    </tr>\n",
       "    <tr>\n",
       "      <th>104</th>\n",
       "      <td>140</td>\n",
       "      <td>2015-09-11</td>\n",
       "      <td>1979-11-09</td>\n",
       "      <td>37</td>\n",
       "      <td>36</td>\n",
       "      <td>35.833333</td>\n",
       "      <td>1.166667</td>\n",
       "      <td>Female</td>\n",
       "      <td>162.0</td>\n",
       "      <td>58.4</td>\n",
       "      <td>2.92</td>\n",
       "      <td>2.9</td>\n",
       "    </tr>\n",
       "  </tbody>\n",
       "</table>\n",
       "</div>"
      ],
      "text/plain": [
       "      ID  Study Date         DOB  Age  Calc Age  Calc Age Exact  \\\n",
       "98   138  2015-08-06  1985-10-31   31        30       29.750000   \n",
       "100   80  2015-08-10  1994-08-16   22        21       20.916667   \n",
       "104  140  2015-09-11  1979-11-09   37        36       35.833333   \n",
       "\n",
       "     diff Age - Calc Age Exact     Sex  Height  Weight  Predicted FEV1  \\\n",
       "98                    1.250000    Male   172.0    66.6            4.06   \n",
       "100                   1.083333    Male   159.0    66.2            3.62   \n",
       "104                   1.166667  Female   162.0    58.4            2.92   \n",
       "\n",
       "     FEV1 Set As  \n",
       "98           4.0  \n",
       "100          3.6  \n",
       "104          2.9  "
      ]
     },
     "execution_count": 3,
     "metadata": {},
     "output_type": "execute_result"
    }
   ],
   "source": [
    "def get_years_decimal_delta(start_date, end_date):\n",
    "    return relativedelta(end_date, start_date).years + relativedelta(end_date, start_date).months/12\n",
    "\n",
    "df[\"Calc Age Exact\"] = df.apply(lambda row: get_years_decimal_delta(row.DOB, row[\"Study Date\"]), axis=1)\n",
    "df[\"Calc Age\"] = df.apply(lambda row: round(get_years_decimal_delta(row.DOB, row[\"Study Date\"])), axis=1)\n",
    "df[\"diff Age - Calc Age Exact\"] = df.apply(lambda row: row.Age - row[\"Calc Age Exact\"], axis=1)\n",
    "move_column_next_to(df, \"diff Age - Calc Age Exact\", \"Age\")\n",
    "move_column_next_to(df, \"Calc Age Exact\", \"Age\")\n",
    "move_column_next_to(df, \"Calc Age\", \"Age\")\n",
    "\n",
    "df[abs(df[\"diff Age - Calc Age Exact\"]) > 1]"
   ]
  },
  {
   "cell_type": "code",
   "execution_count": 8,
   "metadata": {},
   "outputs": [
    {
     "data": {
      "application/vnd.plotly.v1+json": {
       "config": {
        "plotlyServerURL": "https://plot.ly"
       },
       "data": [
        {
         "marker": {
          "size": 5
         },
         "mode": "markers",
         "name": "Predicted FEV1",
         "opacity": 0.9,
         "type": "scatter",
         "x": [
          "216",
          "229",
          "206",
          "214",
          "212",
          "227",
          "223",
          "213",
          "215",
          "130",
          "23",
          "65",
          "207",
          "143",
          "39",
          "102",
          "127",
          "74",
          "113",
          "56",
          "55",
          "195",
          "30",
          "233",
          "151",
          "68",
          "210",
          "194",
          "171",
          "66",
          "193",
          "40",
          "201",
          "134",
          "31",
          "140",
          "204",
          "125",
          "182",
          "75",
          "174",
          "200",
          "32",
          "58",
          "144",
          "241",
          "189",
          "101",
          "173",
          "35",
          "202",
          "197",
          "232",
          "61",
          "135",
          "72",
          "122",
          "36",
          "234",
          "115",
          "172",
          "178",
          "179",
          "52",
          "192",
          "191",
          "199",
          "139",
          "188",
          "137",
          "209",
          "129",
          "43",
          "44",
          "78",
          "186",
          "60",
          "59",
          "62",
          "53",
          "24",
          "231",
          "136",
          "82",
          "114",
          "45",
          "29",
          "92",
          "81",
          "123",
          "42",
          "228",
          "208",
          "100",
          "71",
          "80",
          "93",
          "28",
          "70",
          "236",
          "34",
          "79",
          "46",
          "57",
          "198",
          "67",
          "205",
          "47",
          "121",
          "38",
          "131",
          "99",
          "27",
          "180",
          "138",
          "196",
          "37",
          "64",
          "169",
          "73",
          "177",
          "69",
          "63",
          "152",
          "88",
          "190",
          "41",
          "126",
          "124",
          "187",
          "170",
          "133",
          "230",
          "107",
          "128",
          "176",
          "76",
          "33",
          "54",
          "141",
          "132",
          "203",
          "175",
          "181",
          "235",
          "142",
          "153"
         ],
         "y": [
          0.88,
          0.96,
          1.76,
          1.77,
          1.81,
          1.95,
          1.97,
          2.1,
          2.14,
          2.17,
          2.23,
          2.3,
          2.32,
          2.36,
          2.4,
          2.42,
          2.48,
          2.58,
          2.67,
          2.7,
          2.7,
          2.7,
          2.7,
          2.72,
          2.75,
          2.76,
          2.78,
          2.78,
          2.8,
          2.8,
          2.81,
          2.82,
          2.83,
          2.88,
          2.9,
          2.92,
          2.93,
          2.95,
          2.95,
          2.96,
          2.97,
          2.98,
          2.98,
          3,
          3.01,
          3.02,
          3.02,
          3.03,
          3.03,
          3.04,
          3.05,
          3.07,
          3.07,
          3.1,
          3.1,
          3.1,
          3.1,
          3.1,
          3.13,
          3.13,
          3.14,
          3.17,
          3.19,
          3.2,
          3.2,
          3.2,
          3.2,
          3.21,
          3.21,
          3.22,
          3.22,
          3.23,
          3.25,
          3.26,
          3.29,
          3.29,
          3.3,
          3.3,
          3.3,
          3.3,
          3.33,
          3.35,
          3.37,
          3.37,
          3.4,
          3.42,
          3.47,
          3.52,
          3.53,
          3.55,
          3.56,
          3.58,
          3.6,
          3.61,
          3.61,
          3.62,
          3.7,
          3.7,
          3.71,
          3.72,
          3.76,
          3.76,
          3.79,
          3.8,
          3.82,
          3.84,
          3.85,
          3.89,
          3.9,
          3.91,
          3.93,
          3.94,
          3.97,
          4,
          4.06,
          4.06,
          4.09,
          4.1,
          4.14,
          4.14,
          4.17,
          4.19,
          4.2,
          4.2,
          4.22,
          4.22,
          4.25,
          4.27,
          4.27,
          4.28,
          4.28,
          4.29,
          4.3,
          4.31,
          4.31,
          4.32,
          4.34,
          4.38,
          4.4,
          4.41,
          4.42,
          4.44,
          4.51,
          4.51,
          4.7,
          4.81,
          4.97
         ]
        },
        {
         "marker": {
          "size": 5
         },
         "mode": "markers",
         "name": "FEV1 Set As",
         "opacity": 0.9,
         "type": "scatter",
         "x": [
          "216",
          "229",
          "206",
          "214",
          "212",
          "227",
          "223",
          "213",
          "215",
          "130",
          "23",
          "65",
          "207",
          "143",
          "39",
          "102",
          "127",
          "74",
          "113",
          "56",
          "55",
          "195",
          "30",
          "233",
          "151",
          "68",
          "210",
          "194",
          "171",
          "66",
          "193",
          "40",
          "201",
          "134",
          "31",
          "140",
          "204",
          "125",
          "182",
          "75",
          "174",
          "200",
          "32",
          "58",
          "144",
          "241",
          "189",
          "101",
          "173",
          "35",
          "202",
          "197",
          "232",
          "61",
          "135",
          "72",
          "122",
          "36",
          "234",
          "115",
          "172",
          "178",
          "179",
          "52",
          "192",
          "191",
          "199",
          "139",
          "188",
          "137",
          "209",
          "129",
          "43",
          "44",
          "78",
          "186",
          "60",
          "59",
          "62",
          "53",
          "24",
          "231",
          "136",
          "82",
          "114",
          "45",
          "29",
          "92",
          "81",
          "123",
          "42",
          "228",
          "208",
          "100",
          "71",
          "80",
          "93",
          "28",
          "70",
          "236",
          "34",
          "79",
          "46",
          "57",
          "198",
          "67",
          "205",
          "47",
          "121",
          "38",
          "131",
          "99",
          "27",
          "180",
          "138",
          "196",
          "37",
          "64",
          "169",
          "73",
          "177",
          "69",
          "63",
          "152",
          "88",
          "190",
          "41",
          "126",
          "124",
          "187",
          "170",
          "133",
          "230",
          "107",
          "128",
          "176",
          "76",
          "33",
          "54",
          "141",
          "132",
          "203",
          "175",
          "181",
          "235",
          "142",
          "153"
         ],
         "y": [
          0.9,
          1,
          1.8,
          1.8,
          1.8,
          2,
          2,
          2.1,
          2.1,
          2.2,
          2.2,
          2.3,
          2.3,
          2.4,
          2.4,
          2.4,
          2.5,
          2.6,
          2.7,
          2.7,
          2.7,
          2.7,
          2.7,
          2.7,
          1.2,
          2.8,
          2.8,
          2.8,
          2.8,
          2.8,
          2.8,
          2.8,
          2.8,
          2.9,
          2.9,
          2.9,
          2.9,
          2.9,
          3,
          3,
          3,
          3,
          3,
          3,
          3,
          3,
          3,
          3,
          2.59,
          3,
          3,
          3.1,
          3.1,
          3.1,
          3.1,
          3.1,
          3.1,
          3.1,
          3.1,
          3.1,
          1.13,
          3.2,
          3.2,
          3.2,
          3.2,
          3.2,
          3.2,
          3.2,
          3.3,
          3.2,
          3.2,
          3.2,
          3.3,
          3.3,
          3.3,
          3.3,
          3.3,
          3.3,
          3.3,
          3.3,
          3.3,
          3.4,
          3.4,
          3.4,
          3.4,
          3.4,
          3.5,
          3.5,
          3.5,
          3.6,
          3.6,
          3.6,
          3.6,
          3.6,
          3.6,
          3.6,
          3.4,
          3.7,
          3.7,
          3.7,
          3.8,
          3.8,
          3.8,
          3.8,
          3.8,
          3.8,
          3.8,
          3.9,
          3.9,
          3.9,
          3.9,
          3.9,
          4,
          4,
          4,
          4.1,
          4.1,
          4.1,
          3.3,
          4.1,
          4.2,
          4.2,
          4.2,
          1.3,
          4.2,
          4.2,
          4.3,
          4.3,
          4.3,
          4.3,
          3.61,
          4.3,
          4.3,
          4.3,
          4.3,
          4.3,
          4.3,
          4.4,
          4.4,
          4.4,
          4.4,
          4.4,
          4.5,
          4.5,
          4.7,
          4.1,
          3.36
         ]
        },
        {
         "marker": {
          "size": 5
         },
         "mode": "markers",
         "name": "Calc Predicted FEV1",
         "opacity": 0.9,
         "type": "scatter",
         "x": [
          "216",
          "229",
          "206",
          "214",
          "212",
          "227",
          "223",
          "213",
          "215",
          "130",
          "23",
          "65",
          "207",
          "143",
          "39",
          "102",
          "127",
          "74",
          "113",
          "56",
          "55",
          "195",
          "30",
          "233",
          "151",
          "68",
          "210",
          "194",
          "171",
          "66",
          "193",
          "40",
          "201",
          "134",
          "31",
          "140",
          "204",
          "125",
          "182",
          "75",
          "174",
          "200",
          "32",
          "58",
          "144",
          "241",
          "189",
          "101",
          "173",
          "35",
          "202",
          "197",
          "232",
          "61",
          "135",
          "72",
          "122",
          "36",
          "234",
          "115",
          "172",
          "178",
          "179",
          "52",
          "192",
          "191",
          "199",
          "139",
          "188",
          "137",
          "209",
          "129",
          "43",
          "44",
          "78",
          "186",
          "60",
          "59",
          "62",
          "53",
          "24",
          "231",
          "136",
          "82",
          "114",
          "45",
          "29",
          "92",
          "81",
          "123",
          "42",
          "228",
          "208",
          "100",
          "71",
          "80",
          "93",
          "28",
          "70",
          "236",
          "34",
          "79",
          "46",
          "57",
          "198",
          "67",
          "205",
          "47",
          "121",
          "38",
          "131",
          "99",
          "27",
          "180",
          "138",
          "196",
          "37",
          "64",
          "169",
          "73",
          "177",
          "69",
          "63",
          "152",
          "88",
          "190",
          "41",
          "126",
          "124",
          "187",
          "170",
          "133",
          "230",
          "107",
          "128",
          "176",
          "76",
          "33",
          "54",
          "141",
          "132",
          "203",
          "175",
          "181",
          "235",
          "142",
          "153"
         ],
         "y": [
          2.3830000000000005,
          2.2644999999999995,
          3.0370000000000004,
          3.182000000000001,
          2.9950000000000006,
          3.7654999999999994,
          3.5169999999999995,
          3.8309999999999995,
          3.992,
          2.1410000000000005,
          2.2265,
          2.2725000000000004,
          3.1462500000000007,
          3.1134999999999997,
          2.39085,
          2.4985000000000004,
          2.483,
          2.5829999999999997,
          2.643500000000001,
          2.692300000000001,
          2.6355,
          2.5564999999999993,
          2.7133,
          2.7225000000000006,
          2.6487000000000003,
          2.7305000000000006,
          3.91,
          3.6480000000000006,
          2.850000000000001,
          2.7740000000000005,
          2.56875,
          2.7950000000000004,
          2.8355,
          2.8845000000000005,
          2.88325,
          2.8990000000000005,
          2.8750000000000004,
          2.945,
          2.908,
          2.9305000000000008,
          2.983,
          2.7725000000000004,
          2.978,
          2.9845,
          3.0475000000000008,
          3.0660000000000003,
          3.1410000000000005,
          3.0320000000000014,
          2.8345000000000007,
          3.0385000000000004,
          2.92046,
          2.9660000000000006,
          2.874000000000001,
          3.622,
          3.1700000000000004,
          3.199000000000001,
          2.9805000000000006,
          3.195,
          3.1095,
          3.2095000000000007,
          3.0555000000000008,
          3.4714999999999994,
          2.986,
          3.0555000000000008,
          3.145,
          2.992500000000001,
          3.0725000000000002,
          3.3030000000000004,
          3.2635,
          3.2190000000000007,
          4.047,
          3.2255,
          3.25825,
          3.2299999999999995,
          3.3425000000000007,
          3.417500000000001,
          3.2135000000000002,
          3.353,
          3.2125,
          3.228,
          3.332000000000001,
          3.1650500000000004,
          3.3714999999999997,
          3.5464999999999995,
          3.369999999999999,
          3.4255,
          3.4719999999999995,
          3.4909999999999997,
          3.4989999999999997,
          3.5180000000000007,
          3.5742500000000006,
          3.859,
          4.108,
          3.6085,
          3.5839999999999996,
          3.7379999999999995,
          3.3399999999999994,
          3.7139999999999995,
          3.6799999999999997,
          3.7189999999999994,
          3.7589999999999995,
          3.7359999999999998,
          4.0444,
          3.2741499999999992,
          3.83,
          3.805999999999999,
          3.779,
          3.863999999999999,
          3.860999999999999,
          3.9049999999999994,
          3.9029999999999996,
          3.9059999999999997,
          3.9369999999999994,
          3.7285,
          4.036,
          3.4282500000000007,
          4.092,
          4.093999999999999,
          3.461,
          4.106999999999999,
          4.167999999999999,
          4.192,
          4.16,
          3.9909999999999997,
          4.34,
          4.268,
          4.25,
          4.382999999999999,
          4.2669999999999995,
          4.25,
          4.225,
          4.2909999999999995,
          4.180999999999999,
          4.512999999999999,
          4.3389999999999995,
          4.178999999999999,
          4.3069999999999995,
          4.337,
          4.378,
          4.238099999999999,
          4.395,
          4.554,
          4.308999999999999,
          4.308999999999999,
          4.726,
          4.108,
          4.593
         ]
        }
       ],
       "layout": {
        "template": {
         "data": {
          "bar": [
           {
            "error_x": {
             "color": "#2a3f5f"
            },
            "error_y": {
             "color": "#2a3f5f"
            },
            "marker": {
             "line": {
              "color": "#E5ECF6",
              "width": 0.5
             },
             "pattern": {
              "fillmode": "overlay",
              "size": 10,
              "solidity": 0.2
             }
            },
            "type": "bar"
           }
          ],
          "barpolar": [
           {
            "marker": {
             "line": {
              "color": "#E5ECF6",
              "width": 0.5
             },
             "pattern": {
              "fillmode": "overlay",
              "size": 10,
              "solidity": 0.2
             }
            },
            "type": "barpolar"
           }
          ],
          "carpet": [
           {
            "aaxis": {
             "endlinecolor": "#2a3f5f",
             "gridcolor": "white",
             "linecolor": "white",
             "minorgridcolor": "white",
             "startlinecolor": "#2a3f5f"
            },
            "baxis": {
             "endlinecolor": "#2a3f5f",
             "gridcolor": "white",
             "linecolor": "white",
             "minorgridcolor": "white",
             "startlinecolor": "#2a3f5f"
            },
            "type": "carpet"
           }
          ],
          "choropleth": [
           {
            "colorbar": {
             "outlinewidth": 0,
             "ticks": ""
            },
            "type": "choropleth"
           }
          ],
          "contour": [
           {
            "colorbar": {
             "outlinewidth": 0,
             "ticks": ""
            },
            "colorscale": [
             [
              0,
              "#0d0887"
             ],
             [
              0.1111111111111111,
              "#46039f"
             ],
             [
              0.2222222222222222,
              "#7201a8"
             ],
             [
              0.3333333333333333,
              "#9c179e"
             ],
             [
              0.4444444444444444,
              "#bd3786"
             ],
             [
              0.5555555555555556,
              "#d8576b"
             ],
             [
              0.6666666666666666,
              "#ed7953"
             ],
             [
              0.7777777777777778,
              "#fb9f3a"
             ],
             [
              0.8888888888888888,
              "#fdca26"
             ],
             [
              1,
              "#f0f921"
             ]
            ],
            "type": "contour"
           }
          ],
          "contourcarpet": [
           {
            "colorbar": {
             "outlinewidth": 0,
             "ticks": ""
            },
            "type": "contourcarpet"
           }
          ],
          "heatmap": [
           {
            "colorbar": {
             "outlinewidth": 0,
             "ticks": ""
            },
            "colorscale": [
             [
              0,
              "#0d0887"
             ],
             [
              0.1111111111111111,
              "#46039f"
             ],
             [
              0.2222222222222222,
              "#7201a8"
             ],
             [
              0.3333333333333333,
              "#9c179e"
             ],
             [
              0.4444444444444444,
              "#bd3786"
             ],
             [
              0.5555555555555556,
              "#d8576b"
             ],
             [
              0.6666666666666666,
              "#ed7953"
             ],
             [
              0.7777777777777778,
              "#fb9f3a"
             ],
             [
              0.8888888888888888,
              "#fdca26"
             ],
             [
              1,
              "#f0f921"
             ]
            ],
            "type": "heatmap"
           }
          ],
          "heatmapgl": [
           {
            "colorbar": {
             "outlinewidth": 0,
             "ticks": ""
            },
            "colorscale": [
             [
              0,
              "#0d0887"
             ],
             [
              0.1111111111111111,
              "#46039f"
             ],
             [
              0.2222222222222222,
              "#7201a8"
             ],
             [
              0.3333333333333333,
              "#9c179e"
             ],
             [
              0.4444444444444444,
              "#bd3786"
             ],
             [
              0.5555555555555556,
              "#d8576b"
             ],
             [
              0.6666666666666666,
              "#ed7953"
             ],
             [
              0.7777777777777778,
              "#fb9f3a"
             ],
             [
              0.8888888888888888,
              "#fdca26"
             ],
             [
              1,
              "#f0f921"
             ]
            ],
            "type": "heatmapgl"
           }
          ],
          "histogram": [
           {
            "marker": {
             "pattern": {
              "fillmode": "overlay",
              "size": 10,
              "solidity": 0.2
             }
            },
            "type": "histogram"
           }
          ],
          "histogram2d": [
           {
            "colorbar": {
             "outlinewidth": 0,
             "ticks": ""
            },
            "colorscale": [
             [
              0,
              "#0d0887"
             ],
             [
              0.1111111111111111,
              "#46039f"
             ],
             [
              0.2222222222222222,
              "#7201a8"
             ],
             [
              0.3333333333333333,
              "#9c179e"
             ],
             [
              0.4444444444444444,
              "#bd3786"
             ],
             [
              0.5555555555555556,
              "#d8576b"
             ],
             [
              0.6666666666666666,
              "#ed7953"
             ],
             [
              0.7777777777777778,
              "#fb9f3a"
             ],
             [
              0.8888888888888888,
              "#fdca26"
             ],
             [
              1,
              "#f0f921"
             ]
            ],
            "type": "histogram2d"
           }
          ],
          "histogram2dcontour": [
           {
            "colorbar": {
             "outlinewidth": 0,
             "ticks": ""
            },
            "colorscale": [
             [
              0,
              "#0d0887"
             ],
             [
              0.1111111111111111,
              "#46039f"
             ],
             [
              0.2222222222222222,
              "#7201a8"
             ],
             [
              0.3333333333333333,
              "#9c179e"
             ],
             [
              0.4444444444444444,
              "#bd3786"
             ],
             [
              0.5555555555555556,
              "#d8576b"
             ],
             [
              0.6666666666666666,
              "#ed7953"
             ],
             [
              0.7777777777777778,
              "#fb9f3a"
             ],
             [
              0.8888888888888888,
              "#fdca26"
             ],
             [
              1,
              "#f0f921"
             ]
            ],
            "type": "histogram2dcontour"
           }
          ],
          "mesh3d": [
           {
            "colorbar": {
             "outlinewidth": 0,
             "ticks": ""
            },
            "type": "mesh3d"
           }
          ],
          "parcoords": [
           {
            "line": {
             "colorbar": {
              "outlinewidth": 0,
              "ticks": ""
             }
            },
            "type": "parcoords"
           }
          ],
          "pie": [
           {
            "automargin": true,
            "type": "pie"
           }
          ],
          "scatter": [
           {
            "fillpattern": {
             "fillmode": "overlay",
             "size": 10,
             "solidity": 0.2
            },
            "type": "scatter"
           }
          ],
          "scatter3d": [
           {
            "line": {
             "colorbar": {
              "outlinewidth": 0,
              "ticks": ""
             }
            },
            "marker": {
             "colorbar": {
              "outlinewidth": 0,
              "ticks": ""
             }
            },
            "type": "scatter3d"
           }
          ],
          "scattercarpet": [
           {
            "marker": {
             "colorbar": {
              "outlinewidth": 0,
              "ticks": ""
             }
            },
            "type": "scattercarpet"
           }
          ],
          "scattergeo": [
           {
            "marker": {
             "colorbar": {
              "outlinewidth": 0,
              "ticks": ""
             }
            },
            "type": "scattergeo"
           }
          ],
          "scattergl": [
           {
            "marker": {
             "colorbar": {
              "outlinewidth": 0,
              "ticks": ""
             }
            },
            "type": "scattergl"
           }
          ],
          "scattermapbox": [
           {
            "marker": {
             "colorbar": {
              "outlinewidth": 0,
              "ticks": ""
             }
            },
            "type": "scattermapbox"
           }
          ],
          "scatterpolar": [
           {
            "marker": {
             "colorbar": {
              "outlinewidth": 0,
              "ticks": ""
             }
            },
            "type": "scatterpolar"
           }
          ],
          "scatterpolargl": [
           {
            "marker": {
             "colorbar": {
              "outlinewidth": 0,
              "ticks": ""
             }
            },
            "type": "scatterpolargl"
           }
          ],
          "scatterternary": [
           {
            "marker": {
             "colorbar": {
              "outlinewidth": 0,
              "ticks": ""
             }
            },
            "type": "scatterternary"
           }
          ],
          "surface": [
           {
            "colorbar": {
             "outlinewidth": 0,
             "ticks": ""
            },
            "colorscale": [
             [
              0,
              "#0d0887"
             ],
             [
              0.1111111111111111,
              "#46039f"
             ],
             [
              0.2222222222222222,
              "#7201a8"
             ],
             [
              0.3333333333333333,
              "#9c179e"
             ],
             [
              0.4444444444444444,
              "#bd3786"
             ],
             [
              0.5555555555555556,
              "#d8576b"
             ],
             [
              0.6666666666666666,
              "#ed7953"
             ],
             [
              0.7777777777777778,
              "#fb9f3a"
             ],
             [
              0.8888888888888888,
              "#fdca26"
             ],
             [
              1,
              "#f0f921"
             ]
            ],
            "type": "surface"
           }
          ],
          "table": [
           {
            "cells": {
             "fill": {
              "color": "#EBF0F8"
             },
             "line": {
              "color": "white"
             }
            },
            "header": {
             "fill": {
              "color": "#C8D4E3"
             },
             "line": {
              "color": "white"
             }
            },
            "type": "table"
           }
          ]
         },
         "layout": {
          "annotationdefaults": {
           "arrowcolor": "#2a3f5f",
           "arrowhead": 0,
           "arrowwidth": 1
          },
          "autotypenumbers": "strict",
          "coloraxis": {
           "colorbar": {
            "outlinewidth": 0,
            "ticks": ""
           }
          },
          "colorscale": {
           "diverging": [
            [
             0,
             "#8e0152"
            ],
            [
             0.1,
             "#c51b7d"
            ],
            [
             0.2,
             "#de77ae"
            ],
            [
             0.3,
             "#f1b6da"
            ],
            [
             0.4,
             "#fde0ef"
            ],
            [
             0.5,
             "#f7f7f7"
            ],
            [
             0.6,
             "#e6f5d0"
            ],
            [
             0.7,
             "#b8e186"
            ],
            [
             0.8,
             "#7fbc41"
            ],
            [
             0.9,
             "#4d9221"
            ],
            [
             1,
             "#276419"
            ]
           ],
           "sequential": [
            [
             0,
             "#0d0887"
            ],
            [
             0.1111111111111111,
             "#46039f"
            ],
            [
             0.2222222222222222,
             "#7201a8"
            ],
            [
             0.3333333333333333,
             "#9c179e"
            ],
            [
             0.4444444444444444,
             "#bd3786"
            ],
            [
             0.5555555555555556,
             "#d8576b"
            ],
            [
             0.6666666666666666,
             "#ed7953"
            ],
            [
             0.7777777777777778,
             "#fb9f3a"
            ],
            [
             0.8888888888888888,
             "#fdca26"
            ],
            [
             1,
             "#f0f921"
            ]
           ],
           "sequentialminus": [
            [
             0,
             "#0d0887"
            ],
            [
             0.1111111111111111,
             "#46039f"
            ],
            [
             0.2222222222222222,
             "#7201a8"
            ],
            [
             0.3333333333333333,
             "#9c179e"
            ],
            [
             0.4444444444444444,
             "#bd3786"
            ],
            [
             0.5555555555555556,
             "#d8576b"
            ],
            [
             0.6666666666666666,
             "#ed7953"
            ],
            [
             0.7777777777777778,
             "#fb9f3a"
            ],
            [
             0.8888888888888888,
             "#fdca26"
            ],
            [
             1,
             "#f0f921"
            ]
           ]
          },
          "colorway": [
           "#636efa",
           "#EF553B",
           "#00cc96",
           "#ab63fa",
           "#FFA15A",
           "#19d3f3",
           "#FF6692",
           "#B6E880",
           "#FF97FF",
           "#FECB52"
          ],
          "font": {
           "color": "#2a3f5f"
          },
          "geo": {
           "bgcolor": "white",
           "lakecolor": "white",
           "landcolor": "#E5ECF6",
           "showlakes": true,
           "showland": true,
           "subunitcolor": "white"
          },
          "hoverlabel": {
           "align": "left"
          },
          "hovermode": "closest",
          "mapbox": {
           "style": "light"
          },
          "paper_bgcolor": "white",
          "plot_bgcolor": "#E5ECF6",
          "polar": {
           "angularaxis": {
            "gridcolor": "white",
            "linecolor": "white",
            "ticks": ""
           },
           "bgcolor": "#E5ECF6",
           "radialaxis": {
            "gridcolor": "white",
            "linecolor": "white",
            "ticks": ""
           }
          },
          "scene": {
           "xaxis": {
            "backgroundcolor": "#E5ECF6",
            "gridcolor": "white",
            "gridwidth": 2,
            "linecolor": "white",
            "showbackground": true,
            "ticks": "",
            "zerolinecolor": "white"
           },
           "yaxis": {
            "backgroundcolor": "#E5ECF6",
            "gridcolor": "white",
            "gridwidth": 2,
            "linecolor": "white",
            "showbackground": true,
            "ticks": "",
            "zerolinecolor": "white"
           },
           "zaxis": {
            "backgroundcolor": "#E5ECF6",
            "gridcolor": "white",
            "gridwidth": 2,
            "linecolor": "white",
            "showbackground": true,
            "ticks": "",
            "zerolinecolor": "white"
           }
          },
          "shapedefaults": {
           "line": {
            "color": "#2a3f5f"
           }
          },
          "ternary": {
           "aaxis": {
            "gridcolor": "white",
            "linecolor": "white",
            "ticks": ""
           },
           "baxis": {
            "gridcolor": "white",
            "linecolor": "white",
            "ticks": ""
           },
           "bgcolor": "#E5ECF6",
           "caxis": {
            "gridcolor": "white",
            "linecolor": "white",
            "ticks": ""
           }
          },
          "title": {
           "x": 0.05
          },
          "xaxis": {
           "automargin": true,
           "gridcolor": "white",
           "linecolor": "white",
           "ticks": "",
           "title": {
            "standoff": 15
           },
           "zerolinecolor": "white",
           "zerolinewidth": 2
          },
          "yaxis": {
           "automargin": true,
           "gridcolor": "white",
           "linecolor": "white",
           "ticks": "",
           "title": {
            "standoff": 15
           },
           "zerolinecolor": "white",
           "zerolinewidth": 2
          }
         }
        }
       }
      }
     },
     "metadata": {},
     "output_type": "display_data"
    },
    {
     "data": {
      "text/html": [
       "<div>\n",
       "<style scoped>\n",
       "    .dataframe tbody tr th:only-of-type {\n",
       "        vertical-align: middle;\n",
       "    }\n",
       "\n",
       "    .dataframe tbody tr th {\n",
       "        vertical-align: top;\n",
       "    }\n",
       "\n",
       "    .dataframe thead th {\n",
       "        text-align: right;\n",
       "    }\n",
       "</style>\n",
       "<table border=\"1\" class=\"dataframe\">\n",
       "  <thead>\n",
       "    <tr style=\"text-align: right;\">\n",
       "      <th></th>\n",
       "      <th>ID</th>\n",
       "      <th>Study Date</th>\n",
       "      <th>DOB</th>\n",
       "      <th>Age</th>\n",
       "      <th>Calc Age</th>\n",
       "      <th>Calc Age Exact</th>\n",
       "      <th>diff Age - Calc Age Exact</th>\n",
       "      <th>Sex</th>\n",
       "      <th>Height</th>\n",
       "      <th>Weight</th>\n",
       "      <th>Predicted FEV1</th>\n",
       "      <th>FEV1 Set As</th>\n",
       "      <th>Calc Predicted FEV1 (L)</th>\n",
       "      <th>diff Predicted FEV1 and FEV1 Set As</th>\n",
       "      <th>Calc Predicted FEV1</th>\n",
       "    </tr>\n",
       "  </thead>\n",
       "  <tbody>\n",
       "    <tr>\n",
       "      <th>6</th>\n",
       "      <td>152</td>\n",
       "      <td>2016-08-15</td>\n",
       "      <td>1980-05-23</td>\n",
       "      <td>36</td>\n",
       "      <td>36</td>\n",
       "      <td>36.166667</td>\n",
       "      <td>-0.166667</td>\n",
       "      <td>Male</td>\n",
       "      <td>175.0</td>\n",
       "      <td>73.9</td>\n",
       "      <td>4.20</td>\n",
       "      <td>1.30</td>\n",
       "      <td>3.9910</td>\n",
       "      <td>2.90</td>\n",
       "      <td>3.9910</td>\n",
       "    </tr>\n",
       "    <tr>\n",
       "      <th>12</th>\n",
       "      <td>172</td>\n",
       "      <td>2016-09-27</td>\n",
       "      <td>1991-06-18</td>\n",
       "      <td>25</td>\n",
       "      <td>25</td>\n",
       "      <td>25.250000</td>\n",
       "      <td>-0.250000</td>\n",
       "      <td>Female</td>\n",
       "      <td>159.0</td>\n",
       "      <td>51.4</td>\n",
       "      <td>3.14</td>\n",
       "      <td>1.13</td>\n",
       "      <td>3.0555</td>\n",
       "      <td>2.01</td>\n",
       "      <td>3.0555</td>\n",
       "    </tr>\n",
       "    <tr>\n",
       "      <th>8</th>\n",
       "      <td>153</td>\n",
       "      <td>2016-08-15</td>\n",
       "      <td>1980-12-14</td>\n",
       "      <td>36</td>\n",
       "      <td>36</td>\n",
       "      <td>35.666667</td>\n",
       "      <td>0.333333</td>\n",
       "      <td>Male</td>\n",
       "      <td>189.0</td>\n",
       "      <td>77.4</td>\n",
       "      <td>4.97</td>\n",
       "      <td>3.36</td>\n",
       "      <td>4.5930</td>\n",
       "      <td>1.61</td>\n",
       "      <td>4.5930</td>\n",
       "    </tr>\n",
       "    <tr>\n",
       "      <th>7</th>\n",
       "      <td>151</td>\n",
       "      <td>2016-07-27</td>\n",
       "      <td>1988-10-26</td>\n",
       "      <td>28</td>\n",
       "      <td>28</td>\n",
       "      <td>27.750000</td>\n",
       "      <td>0.250000</td>\n",
       "      <td>Female</td>\n",
       "      <td>150.6</td>\n",
       "      <td>69.1</td>\n",
       "      <td>2.75</td>\n",
       "      <td>1.20</td>\n",
       "      <td>2.6487</td>\n",
       "      <td>1.55</td>\n",
       "      <td>2.6487</td>\n",
       "    </tr>\n",
       "    <tr>\n",
       "      <th>9</th>\n",
       "      <td>169</td>\n",
       "      <td>2016-08-24</td>\n",
       "      <td>1993-11-11</td>\n",
       "      <td>23</td>\n",
       "      <td>23</td>\n",
       "      <td>22.750000</td>\n",
       "      <td>0.250000</td>\n",
       "      <td>Female</td>\n",
       "      <td>168.0</td>\n",
       "      <td>67.0</td>\n",
       "      <td>4.14</td>\n",
       "      <td>3.30</td>\n",
       "      <td>3.4610</td>\n",
       "      <td>0.84</td>\n",
       "      <td>3.4610</td>\n",
       "    </tr>\n",
       "    <tr>\n",
       "      <th>37</th>\n",
       "      <td>142</td>\n",
       "      <td>2016-02-09</td>\n",
       "      <td>1986-10-14</td>\n",
       "      <td>29</td>\n",
       "      <td>29</td>\n",
       "      <td>29.250000</td>\n",
       "      <td>0.750000</td>\n",
       "      <td>Male</td>\n",
       "      <td>173.0</td>\n",
       "      <td>73.0</td>\n",
       "      <td>4.81</td>\n",
       "      <td>4.10</td>\n",
       "      <td>4.1080</td>\n",
       "      <td>0.71</td>\n",
       "      <td>4.1080</td>\n",
       "    </tr>\n",
       "    <tr>\n",
       "      <th>10</th>\n",
       "      <td>170</td>\n",
       "      <td>2016-09-16</td>\n",
       "      <td>1994-03-10</td>\n",
       "      <td>22</td>\n",
       "      <td>22</td>\n",
       "      <td>22.500000</td>\n",
       "      <td>-0.500000</td>\n",
       "      <td>Male</td>\n",
       "      <td>171.0</td>\n",
       "      <td>75.0</td>\n",
       "      <td>4.28</td>\n",
       "      <td>3.61</td>\n",
       "      <td>4.2250</td>\n",
       "      <td>0.67</td>\n",
       "      <td>4.2250</td>\n",
       "    </tr>\n",
       "    <tr>\n",
       "      <th>13</th>\n",
       "      <td>173</td>\n",
       "      <td>2016-09-27</td>\n",
       "      <td>1980-01-17</td>\n",
       "      <td>37</td>\n",
       "      <td>37</td>\n",
       "      <td>36.666667</td>\n",
       "      <td>-0.666667</td>\n",
       "      <td>Female</td>\n",
       "      <td>161.0</td>\n",
       "      <td>61.6</td>\n",
       "      <td>3.03</td>\n",
       "      <td>2.59</td>\n",
       "      <td>2.8345</td>\n",
       "      <td>0.44</td>\n",
       "      <td>2.8345</td>\n",
       "    </tr>\n",
       "    <tr>\n",
       "      <th>108</th>\n",
       "      <td>93</td>\n",
       "      <td>2015-12-18</td>\n",
       "      <td>1985-01-27</td>\n",
       "      <td>31</td>\n",
       "      <td>31</td>\n",
       "      <td>30.833333</td>\n",
       "      <td>0.166667</td>\n",
       "      <td>Female</td>\n",
       "      <td>170.0</td>\n",
       "      <td>65.2</td>\n",
       "      <td>3.70</td>\n",
       "      <td>3.40</td>\n",
       "      <td>3.3400</td>\n",
       "      <td>0.30</td>\n",
       "      <td>3.3400</td>\n",
       "    </tr>\n",
       "  </tbody>\n",
       "</table>\n",
       "</div>"
      ],
      "text/plain": [
       "      ID  Study Date         DOB  Age  Calc Age  Calc Age Exact  \\\n",
       "6    152  2016-08-15  1980-05-23   36        36       36.166667   \n",
       "12   172  2016-09-27  1991-06-18   25        25       25.250000   \n",
       "8    153  2016-08-15  1980-12-14   36        36       35.666667   \n",
       "7    151  2016-07-27  1988-10-26   28        28       27.750000   \n",
       "9    169  2016-08-24  1993-11-11   23        23       22.750000   \n",
       "37   142  2016-02-09  1986-10-14   29        29       29.250000   \n",
       "10   170  2016-09-16  1994-03-10   22        22       22.500000   \n",
       "13   173  2016-09-27  1980-01-17   37        37       36.666667   \n",
       "108   93  2015-12-18  1985-01-27   31        31       30.833333   \n",
       "\n",
       "     diff Age - Calc Age Exact     Sex  Height  Weight  Predicted FEV1  \\\n",
       "6                    -0.166667    Male   175.0    73.9            4.20   \n",
       "12                   -0.250000  Female   159.0    51.4            3.14   \n",
       "8                     0.333333    Male   189.0    77.4            4.97   \n",
       "7                     0.250000  Female   150.6    69.1            2.75   \n",
       "9                     0.250000  Female   168.0    67.0            4.14   \n",
       "37                    0.750000    Male   173.0    73.0            4.81   \n",
       "10                   -0.500000    Male   171.0    75.0            4.28   \n",
       "13                   -0.666667  Female   161.0    61.6            3.03   \n",
       "108                   0.166667  Female   170.0    65.2            3.70   \n",
       "\n",
       "     FEV1 Set As  Calc Predicted FEV1 (L)  \\\n",
       "6           1.30                   3.9910   \n",
       "12          1.13                   3.0555   \n",
       "8           3.36                   4.5930   \n",
       "7           1.20                   2.6487   \n",
       "9           3.30                   3.4610   \n",
       "37          4.10                   4.1080   \n",
       "10          3.61                   4.2250   \n",
       "13          2.59                   2.8345   \n",
       "108         3.40                   3.3400   \n",
       "\n",
       "     diff Predicted FEV1 and FEV1 Set As  Calc Predicted FEV1  \n",
       "6                                   2.90               3.9910  \n",
       "12                                  2.01               3.0555  \n",
       "8                                   1.61               4.5930  \n",
       "7                                   1.55               2.6487  \n",
       "9                                   0.84               3.4610  \n",
       "37                                  0.71               4.1080  \n",
       "10                                  0.67               4.2250  \n",
       "13                                  0.44               2.8345  \n",
       "108                                 0.30               3.3400  "
      ]
     },
     "execution_count": 8,
     "metadata": {},
     "output_type": "execute_result"
    }
   ],
   "source": [
    "# Replace Age with Calc Age\n",
    "df[\"Age\"] = df[\"Calc Age\"]\n",
    "\n",
    "df['Calc Predicted FEV1'] = df.apply(lambda x: calc_predicted_fev1(x), axis=1)\n",
    "\n",
    "# Sort df by Predicted FEV1 Calc (L)\n",
    "df.sort_values(by=['Predicted FEV1'], inplace=True)\n",
    "# Use go.scatter to plot FEV1 Predicted in y with ID in x\n",
    "fig = go.Figure(data=go.Scatter(x=df['ID'], y=df['Predicted FEV1'], name=\"Predicted FEV1\", mode='markers', opacity=0.9))\n",
    "# Add the same with FEV1 Set As with name \"FEV1 Set As\"\n",
    "fig.add_trace(go.Scatter(x=df['ID'], y=df['FEV1 Set As'], name=\"FEV1 Set As\", mode='markers', opacity=0.9))\n",
    "# Add the same with FEV1 Predicted Calc (L) with name \"Predicted FEV1 Calc (L)\"\n",
    "fig.add_trace(go.Scatter(x=df['ID'], y=df['Calc Predicted FEV1'], name=\"Calc Predicted FEV1\", mode='markers', opacity=0.9))\n",
    "fig.update_traces(marker=dict(size=5),\n",
    "                  selector=dict(mode='markers'))  \n",
    "fig.show()\n",
    "\n",
    "# List idx where diff Predicted FEV1 and FEV1 Set As is > 0.1\n",
    "df['diff Predicted FEV1 and FEV1 Set As'] = df['Predicted FEV1'] - df['FEV1 Set As']\n",
    "\n",
    "df[df['diff Predicted FEV1 and FEV1 Set As'].abs() > 0.1].sort_values(by=['diff Predicted FEV1 and FEV1 Set As'], ascending=False)"
   ]
  },
  {
   "cell_type": "code",
   "execution_count": 4,
   "metadata": {},
   "outputs": [
    {
     "data": {
      "application/vnd.plotly.v1+json": {
       "config": {
        "plotlyServerURL": "https://plot.ly"
       },
       "data": [
        {
         "marker": {
          "size": 5
         },
         "mode": "markers",
         "name": "Predicted FEV1",
         "opacity": 0.9,
         "type": "scatter",
         "x": [
          "216",
          "229",
          "206",
          "214",
          "212",
          "227",
          "223",
          "213",
          "215",
          "130",
          "23",
          "65",
          "207",
          "143",
          "39",
          "102",
          "127",
          "74",
          "113",
          "55",
          "30",
          "195",
          "56",
          "233",
          "151",
          "68",
          "210",
          "194",
          "171",
          "66",
          "193",
          "40",
          "201",
          "134",
          "31",
          "140",
          "204",
          "182",
          "125",
          "75",
          "174",
          "200",
          "32",
          "58",
          "144",
          "189",
          "241",
          "101",
          "173",
          "35",
          "202",
          "232",
          "197",
          "61",
          "122",
          "36",
          "72",
          "135",
          "234",
          "115",
          "172",
          "178",
          "179",
          "52",
          "191",
          "192",
          "199",
          "188",
          "139",
          "137",
          "209",
          "129",
          "43",
          "44",
          "186",
          "78",
          "62",
          "60",
          "59",
          "53",
          "24",
          "231",
          "136",
          "82",
          "114",
          "45",
          "29",
          "92",
          "81",
          "123",
          "42",
          "228",
          "208",
          "100",
          "71",
          "80",
          "28",
          "93",
          "70",
          "236",
          "79",
          "34",
          "46",
          "57",
          "198",
          "67",
          "205",
          "47",
          "121",
          "38",
          "131",
          "99",
          "27",
          "180",
          "196",
          "138",
          "37",
          "64",
          "169",
          "73",
          "177",
          "69",
          "63",
          "152",
          "88",
          "190",
          "41",
          "126",
          "124",
          "170",
          "187",
          "133",
          "230",
          "128",
          "107",
          "176",
          "76",
          "33",
          "54",
          "141",
          "132",
          "203",
          "181",
          "175",
          "235",
          "142",
          "153"
         ],
         "y": [
          0.88,
          0.96,
          1.76,
          1.77,
          1.81,
          1.95,
          1.97,
          2.1,
          2.14,
          2.17,
          2.23,
          2.3,
          2.32,
          2.36,
          2.4,
          2.42,
          2.48,
          2.58,
          2.67,
          2.7,
          2.7,
          2.7,
          2.7,
          2.72,
          2.75,
          2.76,
          2.78,
          2.78,
          2.8,
          2.8,
          2.81,
          2.82,
          2.83,
          2.88,
          2.9,
          2.92,
          2.93,
          2.95,
          2.95,
          2.96,
          2.97,
          2.98,
          2.98,
          3,
          3.01,
          3.02,
          3.02,
          3.03,
          3.03,
          3.04,
          3.05,
          3.07,
          3.07,
          3.1,
          3.1,
          3.1,
          3.1,
          3.1,
          3.13,
          3.13,
          3.14,
          3.17,
          3.19,
          3.2,
          3.2,
          3.2,
          3.2,
          3.21,
          3.21,
          3.22,
          3.22,
          3.23,
          3.25,
          3.26,
          3.29,
          3.29,
          3.3,
          3.3,
          3.3,
          3.3,
          3.33,
          3.35,
          3.37,
          3.37,
          3.4,
          3.42,
          3.47,
          3.52,
          3.53,
          3.55,
          3.56,
          3.58,
          3.6,
          3.61,
          3.61,
          3.62,
          3.7,
          3.7,
          3.71,
          3.72,
          3.76,
          3.76,
          3.79,
          3.8,
          3.82,
          3.84,
          3.85,
          3.89,
          3.9,
          3.91,
          3.93,
          3.94,
          3.97,
          4,
          4.06,
          4.06,
          4.09,
          4.1,
          4.14,
          4.14,
          4.17,
          4.19,
          4.2,
          4.2,
          4.22,
          4.22,
          4.25,
          4.27,
          4.27,
          4.28,
          4.28,
          4.29,
          4.3,
          4.31,
          4.31,
          4.32,
          4.34,
          4.38,
          4.4,
          4.41,
          4.42,
          4.44,
          4.51,
          4.51,
          4.7,
          4.81,
          4.97
         ]
        },
        {
         "marker": {
          "size": 5
         },
         "mode": "markers",
         "name": "Calc Predicted FEV1",
         "opacity": 0.9,
         "type": "scatter",
         "x": [
          "216",
          "229",
          "206",
          "214",
          "212",
          "227",
          "223",
          "213",
          "215",
          "130",
          "23",
          "65",
          "207",
          "143",
          "39",
          "102",
          "127",
          "74",
          "113",
          "55",
          "30",
          "195",
          "56",
          "233",
          "151",
          "68",
          "210",
          "194",
          "171",
          "66",
          "193",
          "40",
          "201",
          "134",
          "31",
          "140",
          "204",
          "182",
          "125",
          "75",
          "174",
          "200",
          "32",
          "58",
          "144",
          "189",
          "241",
          "101",
          "173",
          "35",
          "202",
          "232",
          "197",
          "61",
          "122",
          "36",
          "72",
          "135",
          "234",
          "115",
          "172",
          "178",
          "179",
          "52",
          "191",
          "192",
          "199",
          "188",
          "139",
          "137",
          "209",
          "129",
          "43",
          "44",
          "186",
          "78",
          "62",
          "60",
          "59",
          "53",
          "24",
          "231",
          "136",
          "82",
          "114",
          "45",
          "29",
          "92",
          "81",
          "123",
          "42",
          "228",
          "208",
          "100",
          "71",
          "80",
          "28",
          "93",
          "70",
          "236",
          "79",
          "34",
          "46",
          "57",
          "198",
          "67",
          "205",
          "47",
          "121",
          "38",
          "131",
          "99",
          "27",
          "180",
          "196",
          "138",
          "37",
          "64",
          "169",
          "73",
          "177",
          "69",
          "63",
          "152",
          "88",
          "190",
          "41",
          "126",
          "124",
          "170",
          "187",
          "133",
          "230",
          "128",
          "107",
          "176",
          "76",
          "33",
          "54",
          "141",
          "132",
          "203",
          "181",
          "175",
          "235",
          "142",
          "153"
         ],
         "y": [
          2.3830000000000005,
          2.2644999999999995,
          3.0370000000000004,
          3.182000000000001,
          2.9950000000000006,
          3.7654999999999994,
          3.5169999999999995,
          3.8309999999999995,
          3.992,
          2.1410000000000005,
          2.2265,
          2.2725000000000004,
          3.1462500000000007,
          3.1134999999999997,
          2.39085,
          2.4985000000000004,
          2.483,
          2.5829999999999997,
          2.643500000000001,
          2.6355,
          2.7133,
          2.5564999999999993,
          2.692300000000001,
          2.7225000000000006,
          2.6487000000000003,
          2.7305000000000006,
          3.91,
          3.6480000000000006,
          2.850000000000001,
          2.7740000000000005,
          2.56875,
          2.7950000000000004,
          2.8355,
          2.8845000000000005,
          2.88325,
          2.8990000000000005,
          2.8750000000000004,
          2.908,
          2.945,
          2.9305000000000008,
          2.983,
          2.7725000000000004,
          2.978,
          2.9845,
          3.0475000000000008,
          3.1410000000000005,
          3.0660000000000003,
          3.0320000000000014,
          2.8345000000000007,
          3.0385000000000004,
          2.92046,
          2.874000000000001,
          2.9660000000000006,
          3.622,
          2.9805000000000006,
          3.195,
          3.199000000000001,
          3.1700000000000004,
          3.1095,
          3.2095000000000007,
          3.0555000000000008,
          3.4714999999999994,
          2.986,
          3.0555000000000008,
          2.992500000000001,
          3.145,
          3.0725000000000002,
          3.2635,
          3.3030000000000004,
          3.2190000000000007,
          4.047,
          3.2255,
          3.25825,
          3.2299999999999995,
          3.417500000000001,
          3.3425000000000007,
          3.2125,
          3.2135000000000002,
          3.353,
          3.228,
          3.332000000000001,
          3.1650500000000004,
          3.3714999999999997,
          3.5464999999999995,
          3.369999999999999,
          3.4255,
          3.4719999999999995,
          3.4909999999999997,
          3.4989999999999997,
          3.5180000000000007,
          3.5742500000000006,
          3.859,
          4.108,
          3.6085,
          3.5839999999999996,
          3.7379999999999995,
          3.7139999999999995,
          3.3399999999999994,
          3.6799999999999997,
          3.7189999999999994,
          3.7359999999999998,
          3.7589999999999995,
          4.0444,
          3.2741499999999992,
          3.83,
          3.805999999999999,
          3.779,
          3.863999999999999,
          3.860999999999999,
          3.9049999999999994,
          3.9029999999999996,
          3.9059999999999997,
          3.9369999999999994,
          3.7285,
          3.4282500000000007,
          4.036,
          4.092,
          4.093999999999999,
          3.461,
          4.106999999999999,
          4.167999999999999,
          4.192,
          4.16,
          3.9909999999999997,
          4.34,
          4.268,
          4.25,
          4.382999999999999,
          4.2669999999999995,
          4.225,
          4.25,
          4.2909999999999995,
          4.180999999999999,
          4.3389999999999995,
          4.512999999999999,
          4.178999999999999,
          4.3069999999999995,
          4.337,
          4.378,
          4.238099999999999,
          4.395,
          4.554,
          4.308999999999999,
          4.308999999999999,
          4.726,
          4.108,
          4.593
         ]
        }
       ],
       "layout": {
        "template": {
         "data": {
          "bar": [
           {
            "error_x": {
             "color": "#2a3f5f"
            },
            "error_y": {
             "color": "#2a3f5f"
            },
            "marker": {
             "line": {
              "color": "#E5ECF6",
              "width": 0.5
             },
             "pattern": {
              "fillmode": "overlay",
              "size": 10,
              "solidity": 0.2
             }
            },
            "type": "bar"
           }
          ],
          "barpolar": [
           {
            "marker": {
             "line": {
              "color": "#E5ECF6",
              "width": 0.5
             },
             "pattern": {
              "fillmode": "overlay",
              "size": 10,
              "solidity": 0.2
             }
            },
            "type": "barpolar"
           }
          ],
          "carpet": [
           {
            "aaxis": {
             "endlinecolor": "#2a3f5f",
             "gridcolor": "white",
             "linecolor": "white",
             "minorgridcolor": "white",
             "startlinecolor": "#2a3f5f"
            },
            "baxis": {
             "endlinecolor": "#2a3f5f",
             "gridcolor": "white",
             "linecolor": "white",
             "minorgridcolor": "white",
             "startlinecolor": "#2a3f5f"
            },
            "type": "carpet"
           }
          ],
          "choropleth": [
           {
            "colorbar": {
             "outlinewidth": 0,
             "ticks": ""
            },
            "type": "choropleth"
           }
          ],
          "contour": [
           {
            "colorbar": {
             "outlinewidth": 0,
             "ticks": ""
            },
            "colorscale": [
             [
              0,
              "#0d0887"
             ],
             [
              0.1111111111111111,
              "#46039f"
             ],
             [
              0.2222222222222222,
              "#7201a8"
             ],
             [
              0.3333333333333333,
              "#9c179e"
             ],
             [
              0.4444444444444444,
              "#bd3786"
             ],
             [
              0.5555555555555556,
              "#d8576b"
             ],
             [
              0.6666666666666666,
              "#ed7953"
             ],
             [
              0.7777777777777778,
              "#fb9f3a"
             ],
             [
              0.8888888888888888,
              "#fdca26"
             ],
             [
              1,
              "#f0f921"
             ]
            ],
            "type": "contour"
           }
          ],
          "contourcarpet": [
           {
            "colorbar": {
             "outlinewidth": 0,
             "ticks": ""
            },
            "type": "contourcarpet"
           }
          ],
          "heatmap": [
           {
            "colorbar": {
             "outlinewidth": 0,
             "ticks": ""
            },
            "colorscale": [
             [
              0,
              "#0d0887"
             ],
             [
              0.1111111111111111,
              "#46039f"
             ],
             [
              0.2222222222222222,
              "#7201a8"
             ],
             [
              0.3333333333333333,
              "#9c179e"
             ],
             [
              0.4444444444444444,
              "#bd3786"
             ],
             [
              0.5555555555555556,
              "#d8576b"
             ],
             [
              0.6666666666666666,
              "#ed7953"
             ],
             [
              0.7777777777777778,
              "#fb9f3a"
             ],
             [
              0.8888888888888888,
              "#fdca26"
             ],
             [
              1,
              "#f0f921"
             ]
            ],
            "type": "heatmap"
           }
          ],
          "heatmapgl": [
           {
            "colorbar": {
             "outlinewidth": 0,
             "ticks": ""
            },
            "colorscale": [
             [
              0,
              "#0d0887"
             ],
             [
              0.1111111111111111,
              "#46039f"
             ],
             [
              0.2222222222222222,
              "#7201a8"
             ],
             [
              0.3333333333333333,
              "#9c179e"
             ],
             [
              0.4444444444444444,
              "#bd3786"
             ],
             [
              0.5555555555555556,
              "#d8576b"
             ],
             [
              0.6666666666666666,
              "#ed7953"
             ],
             [
              0.7777777777777778,
              "#fb9f3a"
             ],
             [
              0.8888888888888888,
              "#fdca26"
             ],
             [
              1,
              "#f0f921"
             ]
            ],
            "type": "heatmapgl"
           }
          ],
          "histogram": [
           {
            "marker": {
             "pattern": {
              "fillmode": "overlay",
              "size": 10,
              "solidity": 0.2
             }
            },
            "type": "histogram"
           }
          ],
          "histogram2d": [
           {
            "colorbar": {
             "outlinewidth": 0,
             "ticks": ""
            },
            "colorscale": [
             [
              0,
              "#0d0887"
             ],
             [
              0.1111111111111111,
              "#46039f"
             ],
             [
              0.2222222222222222,
              "#7201a8"
             ],
             [
              0.3333333333333333,
              "#9c179e"
             ],
             [
              0.4444444444444444,
              "#bd3786"
             ],
             [
              0.5555555555555556,
              "#d8576b"
             ],
             [
              0.6666666666666666,
              "#ed7953"
             ],
             [
              0.7777777777777778,
              "#fb9f3a"
             ],
             [
              0.8888888888888888,
              "#fdca26"
             ],
             [
              1,
              "#f0f921"
             ]
            ],
            "type": "histogram2d"
           }
          ],
          "histogram2dcontour": [
           {
            "colorbar": {
             "outlinewidth": 0,
             "ticks": ""
            },
            "colorscale": [
             [
              0,
              "#0d0887"
             ],
             [
              0.1111111111111111,
              "#46039f"
             ],
             [
              0.2222222222222222,
              "#7201a8"
             ],
             [
              0.3333333333333333,
              "#9c179e"
             ],
             [
              0.4444444444444444,
              "#bd3786"
             ],
             [
              0.5555555555555556,
              "#d8576b"
             ],
             [
              0.6666666666666666,
              "#ed7953"
             ],
             [
              0.7777777777777778,
              "#fb9f3a"
             ],
             [
              0.8888888888888888,
              "#fdca26"
             ],
             [
              1,
              "#f0f921"
             ]
            ],
            "type": "histogram2dcontour"
           }
          ],
          "mesh3d": [
           {
            "colorbar": {
             "outlinewidth": 0,
             "ticks": ""
            },
            "type": "mesh3d"
           }
          ],
          "parcoords": [
           {
            "line": {
             "colorbar": {
              "outlinewidth": 0,
              "ticks": ""
             }
            },
            "type": "parcoords"
           }
          ],
          "pie": [
           {
            "automargin": true,
            "type": "pie"
           }
          ],
          "scatter": [
           {
            "fillpattern": {
             "fillmode": "overlay",
             "size": 10,
             "solidity": 0.2
            },
            "type": "scatter"
           }
          ],
          "scatter3d": [
           {
            "line": {
             "colorbar": {
              "outlinewidth": 0,
              "ticks": ""
             }
            },
            "marker": {
             "colorbar": {
              "outlinewidth": 0,
              "ticks": ""
             }
            },
            "type": "scatter3d"
           }
          ],
          "scattercarpet": [
           {
            "marker": {
             "colorbar": {
              "outlinewidth": 0,
              "ticks": ""
             }
            },
            "type": "scattercarpet"
           }
          ],
          "scattergeo": [
           {
            "marker": {
             "colorbar": {
              "outlinewidth": 0,
              "ticks": ""
             }
            },
            "type": "scattergeo"
           }
          ],
          "scattergl": [
           {
            "marker": {
             "colorbar": {
              "outlinewidth": 0,
              "ticks": ""
             }
            },
            "type": "scattergl"
           }
          ],
          "scattermapbox": [
           {
            "marker": {
             "colorbar": {
              "outlinewidth": 0,
              "ticks": ""
             }
            },
            "type": "scattermapbox"
           }
          ],
          "scatterpolar": [
           {
            "marker": {
             "colorbar": {
              "outlinewidth": 0,
              "ticks": ""
             }
            },
            "type": "scatterpolar"
           }
          ],
          "scatterpolargl": [
           {
            "marker": {
             "colorbar": {
              "outlinewidth": 0,
              "ticks": ""
             }
            },
            "type": "scatterpolargl"
           }
          ],
          "scatterternary": [
           {
            "marker": {
             "colorbar": {
              "outlinewidth": 0,
              "ticks": ""
             }
            },
            "type": "scatterternary"
           }
          ],
          "surface": [
           {
            "colorbar": {
             "outlinewidth": 0,
             "ticks": ""
            },
            "colorscale": [
             [
              0,
              "#0d0887"
             ],
             [
              0.1111111111111111,
              "#46039f"
             ],
             [
              0.2222222222222222,
              "#7201a8"
             ],
             [
              0.3333333333333333,
              "#9c179e"
             ],
             [
              0.4444444444444444,
              "#bd3786"
             ],
             [
              0.5555555555555556,
              "#d8576b"
             ],
             [
              0.6666666666666666,
              "#ed7953"
             ],
             [
              0.7777777777777778,
              "#fb9f3a"
             ],
             [
              0.8888888888888888,
              "#fdca26"
             ],
             [
              1,
              "#f0f921"
             ]
            ],
            "type": "surface"
           }
          ],
          "table": [
           {
            "cells": {
             "fill": {
              "color": "#EBF0F8"
             },
             "line": {
              "color": "white"
             }
            },
            "header": {
             "fill": {
              "color": "#C8D4E3"
             },
             "line": {
              "color": "white"
             }
            },
            "type": "table"
           }
          ]
         },
         "layout": {
          "annotationdefaults": {
           "arrowcolor": "#2a3f5f",
           "arrowhead": 0,
           "arrowwidth": 1
          },
          "autotypenumbers": "strict",
          "coloraxis": {
           "colorbar": {
            "outlinewidth": 0,
            "ticks": ""
           }
          },
          "colorscale": {
           "diverging": [
            [
             0,
             "#8e0152"
            ],
            [
             0.1,
             "#c51b7d"
            ],
            [
             0.2,
             "#de77ae"
            ],
            [
             0.3,
             "#f1b6da"
            ],
            [
             0.4,
             "#fde0ef"
            ],
            [
             0.5,
             "#f7f7f7"
            ],
            [
             0.6,
             "#e6f5d0"
            ],
            [
             0.7,
             "#b8e186"
            ],
            [
             0.8,
             "#7fbc41"
            ],
            [
             0.9,
             "#4d9221"
            ],
            [
             1,
             "#276419"
            ]
           ],
           "sequential": [
            [
             0,
             "#0d0887"
            ],
            [
             0.1111111111111111,
             "#46039f"
            ],
            [
             0.2222222222222222,
             "#7201a8"
            ],
            [
             0.3333333333333333,
             "#9c179e"
            ],
            [
             0.4444444444444444,
             "#bd3786"
            ],
            [
             0.5555555555555556,
             "#d8576b"
            ],
            [
             0.6666666666666666,
             "#ed7953"
            ],
            [
             0.7777777777777778,
             "#fb9f3a"
            ],
            [
             0.8888888888888888,
             "#fdca26"
            ],
            [
             1,
             "#f0f921"
            ]
           ],
           "sequentialminus": [
            [
             0,
             "#0d0887"
            ],
            [
             0.1111111111111111,
             "#46039f"
            ],
            [
             0.2222222222222222,
             "#7201a8"
            ],
            [
             0.3333333333333333,
             "#9c179e"
            ],
            [
             0.4444444444444444,
             "#bd3786"
            ],
            [
             0.5555555555555556,
             "#d8576b"
            ],
            [
             0.6666666666666666,
             "#ed7953"
            ],
            [
             0.7777777777777778,
             "#fb9f3a"
            ],
            [
             0.8888888888888888,
             "#fdca26"
            ],
            [
             1,
             "#f0f921"
            ]
           ]
          },
          "colorway": [
           "#636efa",
           "#EF553B",
           "#00cc96",
           "#ab63fa",
           "#FFA15A",
           "#19d3f3",
           "#FF6692",
           "#B6E880",
           "#FF97FF",
           "#FECB52"
          ],
          "font": {
           "color": "#2a3f5f"
          },
          "geo": {
           "bgcolor": "white",
           "lakecolor": "white",
           "landcolor": "#E5ECF6",
           "showlakes": true,
           "showland": true,
           "subunitcolor": "white"
          },
          "hoverlabel": {
           "align": "left"
          },
          "hovermode": "closest",
          "mapbox": {
           "style": "light"
          },
          "paper_bgcolor": "white",
          "plot_bgcolor": "#E5ECF6",
          "polar": {
           "angularaxis": {
            "gridcolor": "white",
            "linecolor": "white",
            "ticks": ""
           },
           "bgcolor": "#E5ECF6",
           "radialaxis": {
            "gridcolor": "white",
            "linecolor": "white",
            "ticks": ""
           }
          },
          "scene": {
           "xaxis": {
            "backgroundcolor": "#E5ECF6",
            "gridcolor": "white",
            "gridwidth": 2,
            "linecolor": "white",
            "showbackground": true,
            "ticks": "",
            "zerolinecolor": "white"
           },
           "yaxis": {
            "backgroundcolor": "#E5ECF6",
            "gridcolor": "white",
            "gridwidth": 2,
            "linecolor": "white",
            "showbackground": true,
            "ticks": "",
            "zerolinecolor": "white"
           },
           "zaxis": {
            "backgroundcolor": "#E5ECF6",
            "gridcolor": "white",
            "gridwidth": 2,
            "linecolor": "white",
            "showbackground": true,
            "ticks": "",
            "zerolinecolor": "white"
           }
          },
          "shapedefaults": {
           "line": {
            "color": "#2a3f5f"
           }
          },
          "ternary": {
           "aaxis": {
            "gridcolor": "white",
            "linecolor": "white",
            "ticks": ""
           },
           "baxis": {
            "gridcolor": "white",
            "linecolor": "white",
            "ticks": ""
           },
           "bgcolor": "#E5ECF6",
           "caxis": {
            "gridcolor": "white",
            "linecolor": "white",
            "ticks": ""
           }
          },
          "title": {
           "x": 0.05
          },
          "xaxis": {
           "automargin": true,
           "gridcolor": "white",
           "linecolor": "white",
           "ticks": "",
           "title": {
            "standoff": 15
           },
           "zerolinecolor": "white",
           "zerolinewidth": 2
          },
          "yaxis": {
           "automargin": true,
           "gridcolor": "white",
           "linecolor": "white",
           "ticks": "",
           "title": {
            "standoff": 15
           },
           "zerolinecolor": "white",
           "zerolinewidth": 2
          }
         }
        }
       }
      }
     },
     "metadata": {},
     "output_type": "display_data"
    },
    {
     "data": {
      "text/html": [
       "<div>\n",
       "<style scoped>\n",
       "    .dataframe tbody tr th:only-of-type {\n",
       "        vertical-align: middle;\n",
       "    }\n",
       "\n",
       "    .dataframe tbody tr th {\n",
       "        vertical-align: top;\n",
       "    }\n",
       "\n",
       "    .dataframe thead th {\n",
       "        text-align: right;\n",
       "    }\n",
       "</style>\n",
       "<table border=\"1\" class=\"dataframe\">\n",
       "  <thead>\n",
       "    <tr style=\"text-align: right;\">\n",
       "      <th></th>\n",
       "      <th>ID</th>\n",
       "      <th>Study Date</th>\n",
       "      <th>DOB</th>\n",
       "      <th>Age</th>\n",
       "      <th>Calc Age</th>\n",
       "      <th>Calc Age Exact</th>\n",
       "      <th>diff Age - Calc Age Exact</th>\n",
       "      <th>Sex</th>\n",
       "      <th>Height</th>\n",
       "      <th>Weight</th>\n",
       "      <th>Predicted FEV1</th>\n",
       "      <th>FEV1 Set As</th>\n",
       "      <th>Calc Predicted FEV1</th>\n",
       "      <th>diff Predicted FEV1 and Calc Predicted FEV1</th>\n",
       "    </tr>\n",
       "  </thead>\n",
       "  <tbody>\n",
       "    <tr>\n",
       "      <th>37</th>\n",
       "      <td>142</td>\n",
       "      <td>2016-02-09</td>\n",
       "      <td>1986-10-14</td>\n",
       "      <td>29</td>\n",
       "      <td>29</td>\n",
       "      <td>29.250000</td>\n",
       "      <td>0.750000</td>\n",
       "      <td>Male</td>\n",
       "      <td>173.00</td>\n",
       "      <td>73.0</td>\n",
       "      <td>4.81</td>\n",
       "      <td>4.10</td>\n",
       "      <td>4.10800</td>\n",
       "      <td>0.70200</td>\n",
       "    </tr>\n",
       "    <tr>\n",
       "      <th>9</th>\n",
       "      <td>169</td>\n",
       "      <td>2016-08-24</td>\n",
       "      <td>1993-11-11</td>\n",
       "      <td>23</td>\n",
       "      <td>23</td>\n",
       "      <td>22.750000</td>\n",
       "      <td>0.250000</td>\n",
       "      <td>Female</td>\n",
       "      <td>168.00</td>\n",
       "      <td>67.0</td>\n",
       "      <td>4.14</td>\n",
       "      <td>3.30</td>\n",
       "      <td>3.46100</td>\n",
       "      <td>0.67900</td>\n",
       "    </tr>\n",
       "    <tr>\n",
       "      <th>137</th>\n",
       "      <td>196</td>\n",
       "      <td>2016-08-02</td>\n",
       "      <td>1983-03-17</td>\n",
       "      <td>33</td>\n",
       "      <td>33</td>\n",
       "      <td>33.333333</td>\n",
       "      <td>0.666667</td>\n",
       "      <td>Female</td>\n",
       "      <td>173.50</td>\n",
       "      <td>77.4</td>\n",
       "      <td>4.06</td>\n",
       "      <td>4.10</td>\n",
       "      <td>3.42825</td>\n",
       "      <td>0.63175</td>\n",
       "    </tr>\n",
       "    <tr>\n",
       "      <th>54</th>\n",
       "      <td>57</td>\n",
       "      <td>2016-01-25</td>\n",
       "      <td>1985-10-24</td>\n",
       "      <td>30</td>\n",
       "      <td>30</td>\n",
       "      <td>30.250000</td>\n",
       "      <td>-0.250000</td>\n",
       "      <td>Female</td>\n",
       "      <td>167.70</td>\n",
       "      <td>70.2</td>\n",
       "      <td>3.80</td>\n",
       "      <td>3.80</td>\n",
       "      <td>3.27415</td>\n",
       "      <td>0.52585</td>\n",
       "    </tr>\n",
       "    <tr>\n",
       "      <th>8</th>\n",
       "      <td>153</td>\n",
       "      <td>2016-08-15</td>\n",
       "      <td>1980-12-14</td>\n",
       "      <td>36</td>\n",
       "      <td>36</td>\n",
       "      <td>35.666667</td>\n",
       "      <td>0.333333</td>\n",
       "      <td>Male</td>\n",
       "      <td>189.00</td>\n",
       "      <td>77.4</td>\n",
       "      <td>4.97</td>\n",
       "      <td>3.36</td>\n",
       "      <td>4.59300</td>\n",
       "      <td>0.37700</td>\n",
       "    </tr>\n",
       "    <tr>\n",
       "      <th>108</th>\n",
       "      <td>93</td>\n",
       "      <td>2015-12-18</td>\n",
       "      <td>1985-01-27</td>\n",
       "      <td>31</td>\n",
       "      <td>31</td>\n",
       "      <td>30.833333</td>\n",
       "      <td>0.166667</td>\n",
       "      <td>Female</td>\n",
       "      <td>170.00</td>\n",
       "      <td>65.2</td>\n",
       "      <td>3.70</td>\n",
       "      <td>3.40</td>\n",
       "      <td>3.34000</td>\n",
       "      <td>0.36000</td>\n",
       "    </tr>\n",
       "    <tr>\n",
       "      <th>20</th>\n",
       "      <td>180</td>\n",
       "      <td>2016-10-28</td>\n",
       "      <td>1980-11-21</td>\n",
       "      <td>36</td>\n",
       "      <td>36</td>\n",
       "      <td>35.916667</td>\n",
       "      <td>0.083333</td>\n",
       "      <td>Female</td>\n",
       "      <td>183.00</td>\n",
       "      <td>69.9</td>\n",
       "      <td>4.00</td>\n",
       "      <td>4.00</td>\n",
       "      <td>3.72850</td>\n",
       "      <td>0.27150</td>\n",
       "    </tr>\n",
       "    <tr>\n",
       "      <th>134</th>\n",
       "      <td>193</td>\n",
       "      <td>2016-07-22</td>\n",
       "      <td>1966-02-25</td>\n",
       "      <td>50</td>\n",
       "      <td>50</td>\n",
       "      <td>50.333333</td>\n",
       "      <td>0.666667</td>\n",
       "      <td>Female</td>\n",
       "      <td>162.50</td>\n",
       "      <td>69.3</td>\n",
       "      <td>2.81</td>\n",
       "      <td>2.80</td>\n",
       "      <td>2.56875</td>\n",
       "      <td>0.24125</td>\n",
       "    </tr>\n",
       "    <tr>\n",
       "      <th>6</th>\n",
       "      <td>152</td>\n",
       "      <td>2016-08-15</td>\n",
       "      <td>1980-05-23</td>\n",
       "      <td>36</td>\n",
       "      <td>36</td>\n",
       "      <td>36.166667</td>\n",
       "      <td>-0.166667</td>\n",
       "      <td>Male</td>\n",
       "      <td>175.00</td>\n",
       "      <td>73.9</td>\n",
       "      <td>4.20</td>\n",
       "      <td>1.30</td>\n",
       "      <td>3.99100</td>\n",
       "      <td>0.20900</td>\n",
       "    </tr>\n",
       "    <tr>\n",
       "      <th>141</th>\n",
       "      <td>200</td>\n",
       "      <td>2016-10-21</td>\n",
       "      <td>1987-02-27</td>\n",
       "      <td>30</td>\n",
       "      <td>30</td>\n",
       "      <td>29.583333</td>\n",
       "      <td>0.416667</td>\n",
       "      <td>Female</td>\n",
       "      <td>155.00</td>\n",
       "      <td>54.0</td>\n",
       "      <td>2.98</td>\n",
       "      <td>3.00</td>\n",
       "      <td>2.77250</td>\n",
       "      <td>0.20750</td>\n",
       "    </tr>\n",
       "    <tr>\n",
       "      <th>132</th>\n",
       "      <td>191</td>\n",
       "      <td>2016-07-18</td>\n",
       "      <td>1979-07-03</td>\n",
       "      <td>37</td>\n",
       "      <td>37</td>\n",
       "      <td>37.000000</td>\n",
       "      <td>0.000000</td>\n",
       "      <td>Female</td>\n",
       "      <td>165.00</td>\n",
       "      <td>55.4</td>\n",
       "      <td>3.20</td>\n",
       "      <td>3.20</td>\n",
       "      <td>2.99250</td>\n",
       "      <td>0.20750</td>\n",
       "    </tr>\n",
       "    <tr>\n",
       "      <th>19</th>\n",
       "      <td>179</td>\n",
       "      <td>2016-10-21</td>\n",
       "      <td>1975-02-21</td>\n",
       "      <td>42</td>\n",
       "      <td>42</td>\n",
       "      <td>41.666667</td>\n",
       "      <td>-0.666667</td>\n",
       "      <td>Female</td>\n",
       "      <td>168.00</td>\n",
       "      <td>57.9</td>\n",
       "      <td>3.19</td>\n",
       "      <td>3.20</td>\n",
       "      <td>2.98600</td>\n",
       "      <td>0.20400</td>\n",
       "    </tr>\n",
       "    <tr>\n",
       "      <th>15</th>\n",
       "      <td>175</td>\n",
       "      <td>2016-09-27</td>\n",
       "      <td>1988-12-17</td>\n",
       "      <td>28</td>\n",
       "      <td>28</td>\n",
       "      <td>27.750000</td>\n",
       "      <td>0.250000</td>\n",
       "      <td>Male</td>\n",
       "      <td>177.00</td>\n",
       "      <td>67.7</td>\n",
       "      <td>4.51</td>\n",
       "      <td>4.50</td>\n",
       "      <td>4.30900</td>\n",
       "      <td>0.20100</td>\n",
       "    </tr>\n",
       "    <tr>\n",
       "      <th>21</th>\n",
       "      <td>181</td>\n",
       "      <td>2016-11-04</td>\n",
       "      <td>1989-04-05</td>\n",
       "      <td>28</td>\n",
       "      <td>28</td>\n",
       "      <td>27.500000</td>\n",
       "      <td>-0.500000</td>\n",
       "      <td>Male</td>\n",
       "      <td>177.00</td>\n",
       "      <td>73.4</td>\n",
       "      <td>4.51</td>\n",
       "      <td>4.50</td>\n",
       "      <td>4.30900</td>\n",
       "      <td>0.20100</td>\n",
       "    </tr>\n",
       "    <tr>\n",
       "      <th>2</th>\n",
       "      <td>232</td>\n",
       "      <td>2016-06-02</td>\n",
       "      <td>1979-10-03</td>\n",
       "      <td>37</td>\n",
       "      <td>37</td>\n",
       "      <td>36.583333</td>\n",
       "      <td>0.416667</td>\n",
       "      <td>Female</td>\n",
       "      <td>162.00</td>\n",
       "      <td>51.9</td>\n",
       "      <td>3.07</td>\n",
       "      <td>3.10</td>\n",
       "      <td>2.87400</td>\n",
       "      <td>0.19600</td>\n",
       "    </tr>\n",
       "    <tr>\n",
       "      <th>13</th>\n",
       "      <td>173</td>\n",
       "      <td>2016-09-27</td>\n",
       "      <td>1980-01-17</td>\n",
       "      <td>37</td>\n",
       "      <td>37</td>\n",
       "      <td>36.666667</td>\n",
       "      <td>-0.666667</td>\n",
       "      <td>Female</td>\n",
       "      <td>161.00</td>\n",
       "      <td>61.6</td>\n",
       "      <td>3.03</td>\n",
       "      <td>2.59</td>\n",
       "      <td>2.83450</td>\n",
       "      <td>0.19550</td>\n",
       "    </tr>\n",
       "    <tr>\n",
       "      <th>1</th>\n",
       "      <td>231</td>\n",
       "      <td>2016-05-12</td>\n",
       "      <td>1974-11-26</td>\n",
       "      <td>41</td>\n",
       "      <td>41</td>\n",
       "      <td>41.416667</td>\n",
       "      <td>0.583333</td>\n",
       "      <td>Female</td>\n",
       "      <td>171.90</td>\n",
       "      <td>75.2</td>\n",
       "      <td>3.35</td>\n",
       "      <td>3.40</td>\n",
       "      <td>3.16505</td>\n",
       "      <td>0.18495</td>\n",
       "    </tr>\n",
       "    <tr>\n",
       "      <th>3</th>\n",
       "      <td>141</td>\n",
       "      <td>2016-06-16</td>\n",
       "      <td>1986-01-19</td>\n",
       "      <td>30</td>\n",
       "      <td>30</td>\n",
       "      <td>30.333333</td>\n",
       "      <td>-0.333333</td>\n",
       "      <td>Male</td>\n",
       "      <td>176.70</td>\n",
       "      <td>72.8</td>\n",
       "      <td>4.41</td>\n",
       "      <td>4.40</td>\n",
       "      <td>4.23810</td>\n",
       "      <td>0.17190</td>\n",
       "    </tr>\n",
       "    <tr>\n",
       "      <th>49</th>\n",
       "      <td>52</td>\n",
       "      <td>2016-01-08</td>\n",
       "      <td>1991-03-23</td>\n",
       "      <td>25</td>\n",
       "      <td>25</td>\n",
       "      <td>24.750000</td>\n",
       "      <td>0.250000</td>\n",
       "      <td>Female</td>\n",
       "      <td>159.00</td>\n",
       "      <td>56.0</td>\n",
       "      <td>3.20</td>\n",
       "      <td>3.20</td>\n",
       "      <td>3.05550</td>\n",
       "      <td>0.14450</td>\n",
       "    </tr>\n",
       "    <tr>\n",
       "      <th>136</th>\n",
       "      <td>195</td>\n",
       "      <td>2016-07-25</td>\n",
       "      <td>1990-07-04</td>\n",
       "      <td>26</td>\n",
       "      <td>26</td>\n",
       "      <td>26.000000</td>\n",
       "      <td>0.000000</td>\n",
       "      <td>Female</td>\n",
       "      <td>147.00</td>\n",
       "      <td>53.8</td>\n",
       "      <td>2.70</td>\n",
       "      <td>2.70</td>\n",
       "      <td>2.55650</td>\n",
       "      <td>0.14350</td>\n",
       "    </tr>\n",
       "    <tr>\n",
       "      <th>16</th>\n",
       "      <td>176</td>\n",
       "      <td>2016-10-03</td>\n",
       "      <td>1985-04-28</td>\n",
       "      <td>31</td>\n",
       "      <td>31</td>\n",
       "      <td>31.416667</td>\n",
       "      <td>-0.416667</td>\n",
       "      <td>Male</td>\n",
       "      <td>176.00</td>\n",
       "      <td>61.9</td>\n",
       "      <td>4.32</td>\n",
       "      <td>4.30</td>\n",
       "      <td>4.17900</td>\n",
       "      <td>0.14100</td>\n",
       "    </tr>\n",
       "    <tr>\n",
       "      <th>143</th>\n",
       "      <td>202</td>\n",
       "      <td>2016-10-20</td>\n",
       "      <td>1988-07-24</td>\n",
       "      <td>28</td>\n",
       "      <td>28</td>\n",
       "      <td>28.166667</td>\n",
       "      <td>-0.166667</td>\n",
       "      <td>Female</td>\n",
       "      <td>157.48</td>\n",
       "      <td>50.4</td>\n",
       "      <td>3.05</td>\n",
       "      <td>3.00</td>\n",
       "      <td>2.92046</td>\n",
       "      <td>0.12954</td>\n",
       "    </tr>\n",
       "    <tr>\n",
       "      <th>140</th>\n",
       "      <td>199</td>\n",
       "      <td>2016-09-30</td>\n",
       "      <td>1998-03-15</td>\n",
       "      <td>18</td>\n",
       "      <td>18</td>\n",
       "      <td>18.500000</td>\n",
       "      <td>0.500000</td>\n",
       "      <td>Female</td>\n",
       "      <td>155.00</td>\n",
       "      <td>45.8</td>\n",
       "      <td>3.20</td>\n",
       "      <td>3.20</td>\n",
       "      <td>3.07250</td>\n",
       "      <td>0.12750</td>\n",
       "    </tr>\n",
       "    <tr>\n",
       "      <th>64</th>\n",
       "      <td>122</td>\n",
       "      <td>2016-10-17</td>\n",
       "      <td>1988-06-25</td>\n",
       "      <td>28</td>\n",
       "      <td>28</td>\n",
       "      <td>28.250000</td>\n",
       "      <td>-0.250000</td>\n",
       "      <td>Female</td>\n",
       "      <td>159.00</td>\n",
       "      <td>52.2</td>\n",
       "      <td>3.10</td>\n",
       "      <td>3.10</td>\n",
       "      <td>2.98050</td>\n",
       "      <td>0.11950</td>\n",
       "    </tr>\n",
       "    <tr>\n",
       "      <th>0</th>\n",
       "      <td>230</td>\n",
       "      <td>2016-05-12</td>\n",
       "      <td>1991-04-30</td>\n",
       "      <td>25</td>\n",
       "      <td>25</td>\n",
       "      <td>25.000000</td>\n",
       "      <td>1.000000</td>\n",
       "      <td>Male</td>\n",
       "      <td>172.00</td>\n",
       "      <td>53.0</td>\n",
       "      <td>4.30</td>\n",
       "      <td>4.30</td>\n",
       "      <td>4.18100</td>\n",
       "      <td>0.11900</td>\n",
       "    </tr>\n",
       "    <tr>\n",
       "      <th>138</th>\n",
       "      <td>197</td>\n",
       "      <td>2016-08-01</td>\n",
       "      <td>1989-04-20</td>\n",
       "      <td>27</td>\n",
       "      <td>27</td>\n",
       "      <td>27.250000</td>\n",
       "      <td>-0.250000</td>\n",
       "      <td>Female</td>\n",
       "      <td>158.00</td>\n",
       "      <td>60.4</td>\n",
       "      <td>3.07</td>\n",
       "      <td>3.10</td>\n",
       "      <td>2.96600</td>\n",
       "      <td>0.10400</td>\n",
       "    </tr>\n",
       "    <tr>\n",
       "      <th>7</th>\n",
       "      <td>151</td>\n",
       "      <td>2016-07-27</td>\n",
       "      <td>1988-10-26</td>\n",
       "      <td>28</td>\n",
       "      <td>28</td>\n",
       "      <td>27.750000</td>\n",
       "      <td>0.250000</td>\n",
       "      <td>Female</td>\n",
       "      <td>150.60</td>\n",
       "      <td>69.1</td>\n",
       "      <td>2.75</td>\n",
       "      <td>1.20</td>\n",
       "      <td>2.64870</td>\n",
       "      <td>0.10130</td>\n",
       "    </tr>\n",
       "    <tr>\n",
       "      <th>118</th>\n",
       "      <td>126</td>\n",
       "      <td>2016-01-18</td>\n",
       "      <td>1994-10-15</td>\n",
       "      <td>21</td>\n",
       "      <td>21</td>\n",
       "      <td>21.250000</td>\n",
       "      <td>0.750000</td>\n",
       "      <td>Male</td>\n",
       "      <td>174.00</td>\n",
       "      <td>58.0</td>\n",
       "      <td>4.27</td>\n",
       "      <td>4.30</td>\n",
       "      <td>4.38300</td>\n",
       "      <td>-0.11300</td>\n",
       "    </tr>\n",
       "    <tr>\n",
       "      <th>144</th>\n",
       "      <td>203</td>\n",
       "      <td>2016-10-07</td>\n",
       "      <td>1992-08-19</td>\n",
       "      <td>24</td>\n",
       "      <td>24</td>\n",
       "      <td>24.083333</td>\n",
       "      <td>-0.083333</td>\n",
       "      <td>Male</td>\n",
       "      <td>180.00</td>\n",
       "      <td>64.2</td>\n",
       "      <td>4.44</td>\n",
       "      <td>4.40</td>\n",
       "      <td>4.55400</td>\n",
       "      <td>-0.11400</td>\n",
       "    </tr>\n",
       "    <tr>\n",
       "      <th>100</th>\n",
       "      <td>80</td>\n",
       "      <td>2015-08-10</td>\n",
       "      <td>1994-08-16</td>\n",
       "      <td>21</td>\n",
       "      <td>21</td>\n",
       "      <td>20.916667</td>\n",
       "      <td>1.083333</td>\n",
       "      <td>Male</td>\n",
       "      <td>159.00</td>\n",
       "      <td>66.2</td>\n",
       "      <td>3.62</td>\n",
       "      <td>3.60</td>\n",
       "      <td>3.73800</td>\n",
       "      <td>-0.11800</td>\n",
       "    </tr>\n",
       "    <tr>\n",
       "      <th>106</th>\n",
       "      <td>88</td>\n",
       "      <td>2015-10-02</td>\n",
       "      <td>1994-05-09</td>\n",
       "      <td>21</td>\n",
       "      <td>21</td>\n",
       "      <td>21.333333</td>\n",
       "      <td>0.666667</td>\n",
       "      <td>Male</td>\n",
       "      <td>173.00</td>\n",
       "      <td>75.4</td>\n",
       "      <td>4.22</td>\n",
       "      <td>4.20</td>\n",
       "      <td>4.34000</td>\n",
       "      <td>-0.12000</td>\n",
       "    </tr>\n",
       "    <tr>\n",
       "      <th>43</th>\n",
       "      <td>189</td>\n",
       "      <td>2016-04-18</td>\n",
       "      <td>1996-02-25</td>\n",
       "      <td>20</td>\n",
       "      <td>20</td>\n",
       "      <td>20.083333</td>\n",
       "      <td>0.916667</td>\n",
       "      <td>Female</td>\n",
       "      <td>158.00</td>\n",
       "      <td>52.2</td>\n",
       "      <td>3.02</td>\n",
       "      <td>3.00</td>\n",
       "      <td>3.14100</td>\n",
       "      <td>-0.12100</td>\n",
       "    </tr>\n",
       "    <tr>\n",
       "      <th>44</th>\n",
       "      <td>186</td>\n",
       "      <td>2016-06-02</td>\n",
       "      <td>1996-05-18</td>\n",
       "      <td>20</td>\n",
       "      <td>20</td>\n",
       "      <td>20.000000</td>\n",
       "      <td>0.000000</td>\n",
       "      <td>Female</td>\n",
       "      <td>165.00</td>\n",
       "      <td>54.2</td>\n",
       "      <td>3.29</td>\n",
       "      <td>3.30</td>\n",
       "      <td>3.41750</td>\n",
       "      <td>-0.12750</td>\n",
       "    </tr>\n",
       "    <tr>\n",
       "      <th>105</th>\n",
       "      <td>82</td>\n",
       "      <td>2015-09-25</td>\n",
       "      <td>1997-05-06</td>\n",
       "      <td>18</td>\n",
       "      <td>18</td>\n",
       "      <td>18.333333</td>\n",
       "      <td>0.666667</td>\n",
       "      <td>Female</td>\n",
       "      <td>167.00</td>\n",
       "      <td>96.0</td>\n",
       "      <td>3.37</td>\n",
       "      <td>3.40</td>\n",
       "      <td>3.54650</td>\n",
       "      <td>-0.17650</td>\n",
       "    </tr>\n",
       "    <tr>\n",
       "      <th>113</th>\n",
       "      <td>107</td>\n",
       "      <td>2015-12-21</td>\n",
       "      <td>1997-11-12</td>\n",
       "      <td>18</td>\n",
       "      <td>18</td>\n",
       "      <td>18.083333</td>\n",
       "      <td>-0.083333</td>\n",
       "      <td>Male</td>\n",
       "      <td>175.00</td>\n",
       "      <td>57.8</td>\n",
       "      <td>4.31</td>\n",
       "      <td>4.30</td>\n",
       "      <td>4.51300</td>\n",
       "      <td>-0.20300</td>\n",
       "    </tr>\n",
       "    <tr>\n",
       "      <th>68</th>\n",
       "      <td>46</td>\n",
       "      <td>2016-01-08</td>\n",
       "      <td>1993-10-03</td>\n",
       "      <td>22</td>\n",
       "      <td>22</td>\n",
       "      <td>22.250000</td>\n",
       "      <td>-0.250000</td>\n",
       "      <td>Male</td>\n",
       "      <td>166.80</td>\n",
       "      <td>59.0</td>\n",
       "      <td>3.79</td>\n",
       "      <td>3.80</td>\n",
       "      <td>4.04440</td>\n",
       "      <td>-0.25440</td>\n",
       "    </tr>\n",
       "    <tr>\n",
       "      <th>35</th>\n",
       "      <td>228</td>\n",
       "      <td>2016-10-21</td>\n",
       "      <td>1971-07-30</td>\n",
       "      <td>45</td>\n",
       "      <td>45</td>\n",
       "      <td>45.166667</td>\n",
       "      <td>-0.166667</td>\n",
       "      <td>Male</td>\n",
       "      <td>178.00</td>\n",
       "      <td>78.6</td>\n",
       "      <td>3.58</td>\n",
       "      <td>3.60</td>\n",
       "      <td>3.85900</td>\n",
       "      <td>-0.27900</td>\n",
       "    </tr>\n",
       "    <tr>\n",
       "      <th>18</th>\n",
       "      <td>178</td>\n",
       "      <td>2016-10-20</td>\n",
       "      <td>1995-09-28</td>\n",
       "      <td>21</td>\n",
       "      <td>21</td>\n",
       "      <td>21.000000</td>\n",
       "      <td>0.000000</td>\n",
       "      <td>Female</td>\n",
       "      <td>167.00</td>\n",
       "      <td>61.5</td>\n",
       "      <td>3.17</td>\n",
       "      <td>3.20</td>\n",
       "      <td>3.47150</td>\n",
       "      <td>-0.30150</td>\n",
       "    </tr>\n",
       "    <tr>\n",
       "      <th>25</th>\n",
       "      <td>208</td>\n",
       "      <td>2016-04-19</td>\n",
       "      <td>1987-07-10</td>\n",
       "      <td>29</td>\n",
       "      <td>29</td>\n",
       "      <td>28.750000</td>\n",
       "      <td>0.250000</td>\n",
       "      <td>Male</td>\n",
       "      <td>173.00</td>\n",
       "      <td>72.0</td>\n",
       "      <td>3.60</td>\n",
       "      <td>3.60</td>\n",
       "      <td>4.10800</td>\n",
       "      <td>-0.50800</td>\n",
       "    </tr>\n",
       "    <tr>\n",
       "      <th>58</th>\n",
       "      <td>61</td>\n",
       "      <td>2016-03-30</td>\n",
       "      <td>1991-04-03</td>\n",
       "      <td>25</td>\n",
       "      <td>25</td>\n",
       "      <td>24.916667</td>\n",
       "      <td>0.083333</td>\n",
       "      <td>Male</td>\n",
       "      <td>159.00</td>\n",
       "      <td>65.0</td>\n",
       "      <td>3.10</td>\n",
       "      <td>3.10</td>\n",
       "      <td>3.62200</td>\n",
       "      <td>-0.52200</td>\n",
       "    </tr>\n",
       "    <tr>\n",
       "      <th>4</th>\n",
       "      <td>143</td>\n",
       "      <td>2016-06-20</td>\n",
       "      <td>1987-09-01</td>\n",
       "      <td>29</td>\n",
       "      <td>29</td>\n",
       "      <td>28.750000</td>\n",
       "      <td>0.250000</td>\n",
       "      <td>Female</td>\n",
       "      <td>163.00</td>\n",
       "      <td>56.8</td>\n",
       "      <td>2.36</td>\n",
       "      <td>2.40</td>\n",
       "      <td>3.11350</td>\n",
       "      <td>-0.75350</td>\n",
       "    </tr>\n",
       "    <tr>\n",
       "      <th>24</th>\n",
       "      <td>207</td>\n",
       "      <td>2016-04-06</td>\n",
       "      <td>1996-12-07</td>\n",
       "      <td>19</td>\n",
       "      <td>19</td>\n",
       "      <td>19.250000</td>\n",
       "      <td>0.750000</td>\n",
       "      <td>Female</td>\n",
       "      <td>157.50</td>\n",
       "      <td>50.3</td>\n",
       "      <td>2.32</td>\n",
       "      <td>2.30</td>\n",
       "      <td>3.14625</td>\n",
       "      <td>-0.82625</td>\n",
       "    </tr>\n",
       "    <tr>\n",
       "      <th>26</th>\n",
       "      <td>209</td>\n",
       "      <td>2016-05-13</td>\n",
       "      <td>1975-12-03</td>\n",
       "      <td>40</td>\n",
       "      <td>40</td>\n",
       "      <td>40.416667</td>\n",
       "      <td>0.583333</td>\n",
       "      <td>Male</td>\n",
       "      <td>179.00</td>\n",
       "      <td>79.6</td>\n",
       "      <td>3.22</td>\n",
       "      <td>3.20</td>\n",
       "      <td>4.04700</td>\n",
       "      <td>-0.82700</td>\n",
       "    </tr>\n",
       "    <tr>\n",
       "      <th>135</th>\n",
       "      <td>194</td>\n",
       "      <td>2016-07-22</td>\n",
       "      <td>1983-05-20</td>\n",
       "      <td>33</td>\n",
       "      <td>33</td>\n",
       "      <td>33.166667</td>\n",
       "      <td>-0.166667</td>\n",
       "      <td>Male</td>\n",
       "      <td>165.00</td>\n",
       "      <td>54.5</td>\n",
       "      <td>2.78</td>\n",
       "      <td>2.80</td>\n",
       "      <td>3.64800</td>\n",
       "      <td>-0.86800</td>\n",
       "    </tr>\n",
       "    <tr>\n",
       "      <th>27</th>\n",
       "      <td>210</td>\n",
       "      <td>2016-07-07</td>\n",
       "      <td>1995-10-23</td>\n",
       "      <td>21</td>\n",
       "      <td>21</td>\n",
       "      <td>20.666667</td>\n",
       "      <td>0.333333</td>\n",
       "      <td>Male</td>\n",
       "      <td>163.00</td>\n",
       "      <td>70.0</td>\n",
       "      <td>2.78</td>\n",
       "      <td>2.80</td>\n",
       "      <td>3.91000</td>\n",
       "      <td>-1.13000</td>\n",
       "    </tr>\n",
       "    <tr>\n",
       "      <th>28</th>\n",
       "      <td>212</td>\n",
       "      <td>2016-07-07</td>\n",
       "      <td>1987-07-04</td>\n",
       "      <td>29</td>\n",
       "      <td>29</td>\n",
       "      <td>29.000000</td>\n",
       "      <td>0.000000</td>\n",
       "      <td>Female</td>\n",
       "      <td>160.00</td>\n",
       "      <td>41.0</td>\n",
       "      <td>1.81</td>\n",
       "      <td>1.80</td>\n",
       "      <td>2.99500</td>\n",
       "      <td>-1.18500</td>\n",
       "    </tr>\n",
       "    <tr>\n",
       "      <th>23</th>\n",
       "      <td>206</td>\n",
       "      <td>2016-03-23</td>\n",
       "      <td>1995-05-24</td>\n",
       "      <td>21</td>\n",
       "      <td>21</td>\n",
       "      <td>20.750000</td>\n",
       "      <td>0.250000</td>\n",
       "      <td>Female</td>\n",
       "      <td>156.00</td>\n",
       "      <td>59.7</td>\n",
       "      <td>1.76</td>\n",
       "      <td>1.80</td>\n",
       "      <td>3.03700</td>\n",
       "      <td>-1.27700</td>\n",
       "    </tr>\n",
       "    <tr>\n",
       "      <th>36</th>\n",
       "      <td>229</td>\n",
       "      <td>2016-10-27</td>\n",
       "      <td>1973-01-11</td>\n",
       "      <td>44</td>\n",
       "      <td>44</td>\n",
       "      <td>43.750000</td>\n",
       "      <td>0.250000</td>\n",
       "      <td>Female</td>\n",
       "      <td>151.00</td>\n",
       "      <td>50.0</td>\n",
       "      <td>0.96</td>\n",
       "      <td>1.00</td>\n",
       "      <td>2.26450</td>\n",
       "      <td>-1.30450</td>\n",
       "    </tr>\n",
       "    <tr>\n",
       "      <th>30</th>\n",
       "      <td>214</td>\n",
       "      <td>2016-08-19</td>\n",
       "      <td>1985-07-24</td>\n",
       "      <td>31</td>\n",
       "      <td>31</td>\n",
       "      <td>31.000000</td>\n",
       "      <td>0.000000</td>\n",
       "      <td>Female</td>\n",
       "      <td>166.00</td>\n",
       "      <td>54.2</td>\n",
       "      <td>1.77</td>\n",
       "      <td>1.80</td>\n",
       "      <td>3.18200</td>\n",
       "      <td>-1.41200</td>\n",
       "    </tr>\n",
       "    <tr>\n",
       "      <th>32</th>\n",
       "      <td>216</td>\n",
       "      <td>2016-09-16</td>\n",
       "      <td>1972-07-24</td>\n",
       "      <td>44</td>\n",
       "      <td>44</td>\n",
       "      <td>44.083333</td>\n",
       "      <td>-0.083333</td>\n",
       "      <td>Female</td>\n",
       "      <td>154.00</td>\n",
       "      <td>53.0</td>\n",
       "      <td>0.88</td>\n",
       "      <td>0.90</td>\n",
       "      <td>2.38300</td>\n",
       "      <td>-1.50300</td>\n",
       "    </tr>\n",
       "    <tr>\n",
       "      <th>33</th>\n",
       "      <td>223</td>\n",
       "      <td>2016-09-19</td>\n",
       "      <td>1977-11-24</td>\n",
       "      <td>39</td>\n",
       "      <td>39</td>\n",
       "      <td>38.750000</td>\n",
       "      <td>0.250000</td>\n",
       "      <td>Male</td>\n",
       "      <td>166.00</td>\n",
       "      <td>68.1</td>\n",
       "      <td>1.97</td>\n",
       "      <td>2.00</td>\n",
       "      <td>3.51700</td>\n",
       "      <td>-1.54700</td>\n",
       "    </tr>\n",
       "    <tr>\n",
       "      <th>29</th>\n",
       "      <td>213</td>\n",
       "      <td>2016-07-15</td>\n",
       "      <td>1973-06-07</td>\n",
       "      <td>43</td>\n",
       "      <td>43</td>\n",
       "      <td>43.083333</td>\n",
       "      <td>-0.083333</td>\n",
       "      <td>Male</td>\n",
       "      <td>176.00</td>\n",
       "      <td>77.9</td>\n",
       "      <td>2.10</td>\n",
       "      <td>2.10</td>\n",
       "      <td>3.83100</td>\n",
       "      <td>-1.73100</td>\n",
       "    </tr>\n",
       "    <tr>\n",
       "      <th>34</th>\n",
       "      <td>227</td>\n",
       "      <td>2016-10-07</td>\n",
       "      <td>1970-05-15</td>\n",
       "      <td>46</td>\n",
       "      <td>46</td>\n",
       "      <td>46.333333</td>\n",
       "      <td>-0.333333</td>\n",
       "      <td>Male</td>\n",
       "      <td>176.50</td>\n",
       "      <td>73.2</td>\n",
       "      <td>1.95</td>\n",
       "      <td>2.00</td>\n",
       "      <td>3.76550</td>\n",
       "      <td>-1.81550</td>\n",
       "    </tr>\n",
       "    <tr>\n",
       "      <th>31</th>\n",
       "      <td>215</td>\n",
       "      <td>2016-08-30</td>\n",
       "      <td>1983-12-07</td>\n",
       "      <td>33</td>\n",
       "      <td>33</td>\n",
       "      <td>32.666667</td>\n",
       "      <td>0.333333</td>\n",
       "      <td>Male</td>\n",
       "      <td>173.00</td>\n",
       "      <td>61.0</td>\n",
       "      <td>2.14</td>\n",
       "      <td>2.10</td>\n",
       "      <td>3.99200</td>\n",
       "      <td>-1.85200</td>\n",
       "    </tr>\n",
       "  </tbody>\n",
       "</table>\n",
       "</div>"
      ],
      "text/plain": [
       "      ID  Study Date         DOB  Age  Calc Age  Calc Age Exact  \\\n",
       "37   142  2016-02-09  1986-10-14   29        29       29.250000   \n",
       "9    169  2016-08-24  1993-11-11   23        23       22.750000   \n",
       "137  196  2016-08-02  1983-03-17   33        33       33.333333   \n",
       "54    57  2016-01-25  1985-10-24   30        30       30.250000   \n",
       "8    153  2016-08-15  1980-12-14   36        36       35.666667   \n",
       "108   93  2015-12-18  1985-01-27   31        31       30.833333   \n",
       "20   180  2016-10-28  1980-11-21   36        36       35.916667   \n",
       "134  193  2016-07-22  1966-02-25   50        50       50.333333   \n",
       "6    152  2016-08-15  1980-05-23   36        36       36.166667   \n",
       "141  200  2016-10-21  1987-02-27   30        30       29.583333   \n",
       "132  191  2016-07-18  1979-07-03   37        37       37.000000   \n",
       "19   179  2016-10-21  1975-02-21   42        42       41.666667   \n",
       "15   175  2016-09-27  1988-12-17   28        28       27.750000   \n",
       "21   181  2016-11-04  1989-04-05   28        28       27.500000   \n",
       "2    232  2016-06-02  1979-10-03   37        37       36.583333   \n",
       "13   173  2016-09-27  1980-01-17   37        37       36.666667   \n",
       "1    231  2016-05-12  1974-11-26   41        41       41.416667   \n",
       "3    141  2016-06-16  1986-01-19   30        30       30.333333   \n",
       "49    52  2016-01-08  1991-03-23   25        25       24.750000   \n",
       "136  195  2016-07-25  1990-07-04   26        26       26.000000   \n",
       "16   176  2016-10-03  1985-04-28   31        31       31.416667   \n",
       "143  202  2016-10-20  1988-07-24   28        28       28.166667   \n",
       "140  199  2016-09-30  1998-03-15   18        18       18.500000   \n",
       "64   122  2016-10-17  1988-06-25   28        28       28.250000   \n",
       "0    230  2016-05-12  1991-04-30   25        25       25.000000   \n",
       "138  197  2016-08-01  1989-04-20   27        27       27.250000   \n",
       "7    151  2016-07-27  1988-10-26   28        28       27.750000   \n",
       "118  126  2016-01-18  1994-10-15   21        21       21.250000   \n",
       "144  203  2016-10-07  1992-08-19   24        24       24.083333   \n",
       "100   80  2015-08-10  1994-08-16   21        21       20.916667   \n",
       "106   88  2015-10-02  1994-05-09   21        21       21.333333   \n",
       "43   189  2016-04-18  1996-02-25   20        20       20.083333   \n",
       "44   186  2016-06-02  1996-05-18   20        20       20.000000   \n",
       "105   82  2015-09-25  1997-05-06   18        18       18.333333   \n",
       "113  107  2015-12-21  1997-11-12   18        18       18.083333   \n",
       "68    46  2016-01-08  1993-10-03   22        22       22.250000   \n",
       "35   228  2016-10-21  1971-07-30   45        45       45.166667   \n",
       "18   178  2016-10-20  1995-09-28   21        21       21.000000   \n",
       "25   208  2016-04-19  1987-07-10   29        29       28.750000   \n",
       "58    61  2016-03-30  1991-04-03   25        25       24.916667   \n",
       "4    143  2016-06-20  1987-09-01   29        29       28.750000   \n",
       "24   207  2016-04-06  1996-12-07   19        19       19.250000   \n",
       "26   209  2016-05-13  1975-12-03   40        40       40.416667   \n",
       "135  194  2016-07-22  1983-05-20   33        33       33.166667   \n",
       "27   210  2016-07-07  1995-10-23   21        21       20.666667   \n",
       "28   212  2016-07-07  1987-07-04   29        29       29.000000   \n",
       "23   206  2016-03-23  1995-05-24   21        21       20.750000   \n",
       "36   229  2016-10-27  1973-01-11   44        44       43.750000   \n",
       "30   214  2016-08-19  1985-07-24   31        31       31.000000   \n",
       "32   216  2016-09-16  1972-07-24   44        44       44.083333   \n",
       "33   223  2016-09-19  1977-11-24   39        39       38.750000   \n",
       "29   213  2016-07-15  1973-06-07   43        43       43.083333   \n",
       "34   227  2016-10-07  1970-05-15   46        46       46.333333   \n",
       "31   215  2016-08-30  1983-12-07   33        33       32.666667   \n",
       "\n",
       "     diff Age - Calc Age Exact     Sex  Height  Weight  Predicted FEV1  \\\n",
       "37                    0.750000    Male  173.00    73.0            4.81   \n",
       "9                     0.250000  Female  168.00    67.0            4.14   \n",
       "137                   0.666667  Female  173.50    77.4            4.06   \n",
       "54                   -0.250000  Female  167.70    70.2            3.80   \n",
       "8                     0.333333    Male  189.00    77.4            4.97   \n",
       "108                   0.166667  Female  170.00    65.2            3.70   \n",
       "20                    0.083333  Female  183.00    69.9            4.00   \n",
       "134                   0.666667  Female  162.50    69.3            2.81   \n",
       "6                    -0.166667    Male  175.00    73.9            4.20   \n",
       "141                   0.416667  Female  155.00    54.0            2.98   \n",
       "132                   0.000000  Female  165.00    55.4            3.20   \n",
       "19                   -0.666667  Female  168.00    57.9            3.19   \n",
       "15                    0.250000    Male  177.00    67.7            4.51   \n",
       "21                   -0.500000    Male  177.00    73.4            4.51   \n",
       "2                     0.416667  Female  162.00    51.9            3.07   \n",
       "13                   -0.666667  Female  161.00    61.6            3.03   \n",
       "1                     0.583333  Female  171.90    75.2            3.35   \n",
       "3                    -0.333333    Male  176.70    72.8            4.41   \n",
       "49                    0.250000  Female  159.00    56.0            3.20   \n",
       "136                   0.000000  Female  147.00    53.8            2.70   \n",
       "16                   -0.416667    Male  176.00    61.9            4.32   \n",
       "143                  -0.166667  Female  157.48    50.4            3.05   \n",
       "140                   0.500000  Female  155.00    45.8            3.20   \n",
       "64                   -0.250000  Female  159.00    52.2            3.10   \n",
       "0                     1.000000    Male  172.00    53.0            4.30   \n",
       "138                  -0.250000  Female  158.00    60.4            3.07   \n",
       "7                     0.250000  Female  150.60    69.1            2.75   \n",
       "118                   0.750000    Male  174.00    58.0            4.27   \n",
       "144                  -0.083333    Male  180.00    64.2            4.44   \n",
       "100                   1.083333    Male  159.00    66.2            3.62   \n",
       "106                   0.666667    Male  173.00    75.4            4.22   \n",
       "43                    0.916667  Female  158.00    52.2            3.02   \n",
       "44                    0.000000  Female  165.00    54.2            3.29   \n",
       "105                   0.666667  Female  167.00    96.0            3.37   \n",
       "113                  -0.083333    Male  175.00    57.8            4.31   \n",
       "68                   -0.250000    Male  166.80    59.0            3.79   \n",
       "35                   -0.166667    Male  178.00    78.6            3.58   \n",
       "18                    0.000000  Female  167.00    61.5            3.17   \n",
       "25                    0.250000    Male  173.00    72.0            3.60   \n",
       "58                    0.083333    Male  159.00    65.0            3.10   \n",
       "4                     0.250000  Female  163.00    56.8            2.36   \n",
       "24                    0.750000  Female  157.50    50.3            2.32   \n",
       "26                    0.583333    Male  179.00    79.6            3.22   \n",
       "135                  -0.166667    Male  165.00    54.5            2.78   \n",
       "27                    0.333333    Male  163.00    70.0            2.78   \n",
       "28                    0.000000  Female  160.00    41.0            1.81   \n",
       "23                    0.250000  Female  156.00    59.7            1.76   \n",
       "36                    0.250000  Female  151.00    50.0            0.96   \n",
       "30                    0.000000  Female  166.00    54.2            1.77   \n",
       "32                   -0.083333  Female  154.00    53.0            0.88   \n",
       "33                    0.250000    Male  166.00    68.1            1.97   \n",
       "29                   -0.083333    Male  176.00    77.9            2.10   \n",
       "34                   -0.333333    Male  176.50    73.2            1.95   \n",
       "31                    0.333333    Male  173.00    61.0            2.14   \n",
       "\n",
       "     FEV1 Set As  Calc Predicted FEV1  \\\n",
       "37          4.10              4.10800   \n",
       "9           3.30              3.46100   \n",
       "137         4.10              3.42825   \n",
       "54          3.80              3.27415   \n",
       "8           3.36              4.59300   \n",
       "108         3.40              3.34000   \n",
       "20          4.00              3.72850   \n",
       "134         2.80              2.56875   \n",
       "6           1.30              3.99100   \n",
       "141         3.00              2.77250   \n",
       "132         3.20              2.99250   \n",
       "19          3.20              2.98600   \n",
       "15          4.50              4.30900   \n",
       "21          4.50              4.30900   \n",
       "2           3.10              2.87400   \n",
       "13          2.59              2.83450   \n",
       "1           3.40              3.16505   \n",
       "3           4.40              4.23810   \n",
       "49          3.20              3.05550   \n",
       "136         2.70              2.55650   \n",
       "16          4.30              4.17900   \n",
       "143         3.00              2.92046   \n",
       "140         3.20              3.07250   \n",
       "64          3.10              2.98050   \n",
       "0           4.30              4.18100   \n",
       "138         3.10              2.96600   \n",
       "7           1.20              2.64870   \n",
       "118         4.30              4.38300   \n",
       "144         4.40              4.55400   \n",
       "100         3.60              3.73800   \n",
       "106         4.20              4.34000   \n",
       "43          3.00              3.14100   \n",
       "44          3.30              3.41750   \n",
       "105         3.40              3.54650   \n",
       "113         4.30              4.51300   \n",
       "68          3.80              4.04440   \n",
       "35          3.60              3.85900   \n",
       "18          3.20              3.47150   \n",
       "25          3.60              4.10800   \n",
       "58          3.10              3.62200   \n",
       "4           2.40              3.11350   \n",
       "24          2.30              3.14625   \n",
       "26          3.20              4.04700   \n",
       "135         2.80              3.64800   \n",
       "27          2.80              3.91000   \n",
       "28          1.80              2.99500   \n",
       "23          1.80              3.03700   \n",
       "36          1.00              2.26450   \n",
       "30          1.80              3.18200   \n",
       "32          0.90              2.38300   \n",
       "33          2.00              3.51700   \n",
       "29          2.10              3.83100   \n",
       "34          2.00              3.76550   \n",
       "31          2.10              3.99200   \n",
       "\n",
       "     diff Predicted FEV1 and Calc Predicted FEV1  \n",
       "37                                       0.70200  \n",
       "9                                        0.67900  \n",
       "137                                      0.63175  \n",
       "54                                       0.52585  \n",
       "8                                        0.37700  \n",
       "108                                      0.36000  \n",
       "20                                       0.27150  \n",
       "134                                      0.24125  \n",
       "6                                        0.20900  \n",
       "141                                      0.20750  \n",
       "132                                      0.20750  \n",
       "19                                       0.20400  \n",
       "15                                       0.20100  \n",
       "21                                       0.20100  \n",
       "2                                        0.19600  \n",
       "13                                       0.19550  \n",
       "1                                        0.18495  \n",
       "3                                        0.17190  \n",
       "49                                       0.14450  \n",
       "136                                      0.14350  \n",
       "16                                       0.14100  \n",
       "143                                      0.12954  \n",
       "140                                      0.12750  \n",
       "64                                       0.11950  \n",
       "0                                        0.11900  \n",
       "138                                      0.10400  \n",
       "7                                        0.10130  \n",
       "118                                     -0.11300  \n",
       "144                                     -0.11400  \n",
       "100                                     -0.11800  \n",
       "106                                     -0.12000  \n",
       "43                                      -0.12100  \n",
       "44                                      -0.12750  \n",
       "105                                     -0.17650  \n",
       "113                                     -0.20300  \n",
       "68                                      -0.25440  \n",
       "35                                      -0.27900  \n",
       "18                                      -0.30150  \n",
       "25                                      -0.50800  \n",
       "58                                      -0.52200  \n",
       "4                                       -0.75350  \n",
       "24                                      -0.82625  \n",
       "26                                      -0.82700  \n",
       "135                                     -0.86800  \n",
       "27                                      -1.13000  \n",
       "28                                      -1.18500  \n",
       "23                                      -1.27700  \n",
       "36                                      -1.30450  \n",
       "30                                      -1.41200  \n",
       "32                                      -1.50300  \n",
       "33                                      -1.54700  \n",
       "29                                      -1.73100  \n",
       "34                                      -1.81550  \n",
       "31                                      -1.85200  "
      ]
     },
     "execution_count": 4,
     "metadata": {},
     "output_type": "execute_result"
    }
   ],
   "source": [
    "# Replace Age with Calc Age\n",
    "df[\"Age\"] = df[\"Calc Age\"]\n",
    "\n",
    "df['Calc Predicted FEV1'] = df.apply(lambda x: calc_predicted_fev1(x), axis=1)\n",
    "\n",
    "# Sort df by Predicted FEV1 Calc (L)\n",
    "df.sort_values(by=['Predicted FEV1'], inplace=True)\n",
    "# Use go.scatter to plot FEV1 Predicted in y with ID in x\n",
    "fig = go.Figure(data=go.Scatter(x=df['ID'], y=df['Predicted FEV1'], name=\"Predicted FEV1\", mode='markers', opacity=0.9))\n",
    "# Add the same with FEV1 Predicted Calc (L) with name \"Predicted FEV1 Calc (L)\"\n",
    "fig.add_trace(go.Scatter(x=df['ID'], y=df['Calc Predicted FEV1'], name=\"Calc Predicted FEV1\", mode='markers', opacity=0.9))\n",
    "fig.update_traces(marker=dict(size=5),\n",
    "                  selector=dict(mode='markers'))  \n",
    "fig.show()\n",
    "\n",
    "# List idx where diff Predicted FEV1 and FEV1 Set As is > 0.1\n",
    "df['diff Predicted FEV1 and Calc Predicted FEV1'] = df['Predicted FEV1'] - df['Calc Predicted FEV1']\n",
    "\n",
    "df[df['diff Predicted FEV1 and Calc Predicted FEV1'].abs() > 0.1].sort_values(by=['diff Predicted FEV1 and Calc Predicted FEV1'], ascending=False)"
   ]
  },
  {
   "cell_type": "code",
   "execution_count": null,
   "metadata": {},
   "outputs": [],
   "source": []
  }
 ],
 "metadata": {
  "kernelspec": {
   "display_name": "phd",
   "language": "python",
   "name": "python3"
  },
  "language_info": {
   "codemirror_mode": {
    "name": "ipython",
    "version": 3
   },
   "file_extension": ".py",
   "mimetype": "text/x-python",
   "name": "python",
   "nbconvert_exporter": "python",
   "pygments_lexer": "ipython3",
   "version": "3.10.0"
  },
  "orig_nbformat": 4,
  "vscode": {
   "interpreter": {
    "hash": "ffc9e18892ee3b9cbe53b18b7d355cfce0a42ae1aa2d5f5ea7529610a7030618"
   }
  }
 },
 "nbformat": 4,
 "nbformat_minor": 2
}
