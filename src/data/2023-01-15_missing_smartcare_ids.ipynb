{
 "cells": [
  {
   "attachments": {},
   "cell_type": "markdown",
   "metadata": {},
   "source": [
    "# We solved it on 18.01.2023.\n",
    "\n",
    "Let me start with the conclusion: It turns out that from the 12 IDs list, 7 are IDs used for testing (that's the best guess), and 5 are true individuals with clinical data. I believe someone did typo errors while creating the patient ID mapping file for those 5 patients, see excel file attached with the corrected User IDs.\n",
    "\n",
    "The remaining question is: do you think the typo was done in the measurements table or in the id mapping file? My guess is it's been done in the id mapping file, see my comment on the excel sheet.\n",
    "\n",
    "If you want more information, you can read below the summary of how I discovered it. To answer your question @Damian, the typos led to discarding ~400 FEV1 measurements and more in the other categories. It's quite an important gap given we have ~10k measurements per category in total.\n",
    "\n",
    "Investigations' summary:\n",
    "I had another look at the data for those individuals to verify that it's worth to investigate further. The conclusion is that 5 of the initial Patient IDs are worth keeping ['0HeWh64M_zc5U5l2xqzAs4', '1au5biSTt0bNWgfI0WItr5', '-TKpptiCA5cASNKU0VSmx4', '-Cujq-NEcld_Keu_W1-Nw5', '-Q0Wf614z94DSTy6nXjyw7'].  Finding their SmartCare IDs and  would increase the size of the current dataset by ~5%. Here's a summary of the measurements table with the number of recordings for each individual. --> see ## Number of recordings for USer IDs with missing SmartCare IDs\n",
    "\n",
    "I've found potential candidates: ['38' '101' '125' '232' '169' '204']. Those IDs have clinical data but no corresponding measurements data. --> See the first table in ## Potential candidates\n",
    "\n",
    "You can compare when first recording was made with the study start date of the potential candidates. Surprisingly there's a perfect mapping between the 4 individuals and 4 of potential candidates. The first recording is same date as the study date. \n",
    "\n",
    "This allows to associated each user ID with a smartcare ID, see below\n",
    "ID 101: 0HeWh64M_zc5U5l2xqzAs4\n",
    "ID 125: 1au5biSTt0bNWgfI0WItr5\n",
    "ID 232: -TKpptiCA5cASNKU0VSmx4\n",
    "ID 169: -Cujq-NEcld_Keu_W1-Nw5\n",
    "ID 38: -Q0Wf614z94DSTy6nXjyw7\n",
    "\n",
    "For each smartcare ID, I surfaced their associated User ID in the id mapping file, to compare it with the User ID from the measurements table. This revealed the typos that you can find in the excel file attached to this email."
   ]
  },
  {
   "cell_type": "code",
   "execution_count": 9,
   "metadata": {},
   "outputs": [
    {
     "name": "stdout",
     "output_type": "stream",
     "text": [
      "\n",
      "** Loading measurements data **\n"
     ]
    },
    {
     "name": "stderr",
     "output_type": "stream",
     "text": [
      "/Users/tristan.trebaol/Desktop/PhD/Code/phd/src/data/measurements_data.py:99: DtypeWarning: Columns (14) have mixed types. Specify dtype option on import or set low_memory=False.\n",
      "  df = pd.read_csv(datadir + \"mydata.csv\")\n"
     ]
    },
    {
     "name": "stdout",
     "output_type": "stream",
     "text": [
      "\n",
      "* Dropping unnecessary columns from measurements data *\n",
      "Columns filtered ['User ID', 'UserName', 'Recording Type', 'Date/Time recorded', 'FEV 1', 'FEV 1 %', 'Weight in Kg', 'O2 Saturation', 'Pulse (BPM)', 'Rating', 'Temp (deg C)', 'Activity - Steps', 'Activity - Points']\n",
      "Dropping columns {'FEV 10', 'Sputum sample taken?', 'Calories', 'Predicted FEV'}\n",
      "\n",
      "* Applying data sanity checks *\n",
      "O2 Saturation sanity check\n",
      "IDs with O2 Saturation outside 70-100 % range: \n",
      "          UserName  O2 Saturation\n",
      "50403     Kings001          127.0\n",
      "49087     Kings005          127.0\n",
      "53923     Kings007           48.0\n",
      "46706  Papworth001          127.0\n",
      "46119  Papworth002          127.0\n",
      "46782  Papworth010          104.0\n",
      "47102  Papworth010          103.0\n",
      "52484  Papworth027          127.0\n",
      "53781  Papworth028          127.0\n",
      "55379  Papworth028          127.0\n",
      "49622   leeds01222          127.0\n",
      "47510   leeds01320          127.0\n",
      "Removing 12 rows with O2 Saturation outside 70-100 % range\n",
      "\n",
      "* Looking for duplicates *\n",
      "Found 4649 duplicates, saving them in DataFiles/SmartCare/duplicates.xlsx\n",
      "Removing 4649 duplicated entries\n",
      "\n",
      "Loaded measurements data with 125180 entries (initially 129841, removed 4661)\n"
     ]
    },
    {
     "data": {
      "text/html": [
       "<div>\n",
       "<style scoped>\n",
       "    .dataframe tbody tr th:only-of-type {\n",
       "        vertical-align: middle;\n",
       "    }\n",
       "\n",
       "    .dataframe tbody tr th {\n",
       "        vertical-align: top;\n",
       "    }\n",
       "\n",
       "    .dataframe thead th {\n",
       "        text-align: right;\n",
       "    }\n",
       "</style>\n",
       "<table border=\"1\" class=\"dataframe\">\n",
       "  <thead>\n",
       "    <tr style=\"text-align: right;\">\n",
       "      <th></th>\n",
       "      <th>User ID</th>\n",
       "      <th>UserName</th>\n",
       "      <th>Recording Type</th>\n",
       "      <th>Date recorded</th>\n",
       "      <th>FEV1</th>\n",
       "      <th>FEV1 %</th>\n",
       "      <th>Weight (kg)</th>\n",
       "      <th>O2 Saturation</th>\n",
       "      <th>Pulse (BPM)</th>\n",
       "      <th>Rating</th>\n",
       "      <th>Temp (deg C)</th>\n",
       "      <th>Activity - Steps</th>\n",
       "      <th>Activity - Points</th>\n",
       "    </tr>\n",
       "  </thead>\n",
       "  <tbody>\n",
       "    <tr>\n",
       "      <th>0</th>\n",
       "      <td>o0egatM37za2ZZ2jfs3AJ5</td>\n",
       "      <td>davetest</td>\n",
       "      <td>ActivityRecording</td>\n",
       "      <td>2015-08-04</td>\n",
       "      <td>NaN</td>\n",
       "      <td>NaN</td>\n",
       "      <td>NaN</td>\n",
       "      <td>NaN</td>\n",
       "      <td>NaN</td>\n",
       "      <td>NaN</td>\n",
       "      <td>NaN</td>\n",
       "      <td>4.0</td>\n",
       "      <td>1.0</td>\n",
       "    </tr>\n",
       "    <tr>\n",
       "      <th>1</th>\n",
       "      <td>o0egatM37za2ZZ2jfs3AJ5</td>\n",
       "      <td>davetest</td>\n",
       "      <td>ActivityRecording</td>\n",
       "      <td>2015-08-05</td>\n",
       "      <td>NaN</td>\n",
       "      <td>NaN</td>\n",
       "      <td>NaN</td>\n",
       "      <td>NaN</td>\n",
       "      <td>NaN</td>\n",
       "      <td>NaN</td>\n",
       "      <td>NaN</td>\n",
       "      <td>NaN</td>\n",
       "      <td>NaN</td>\n",
       "    </tr>\n",
       "    <tr>\n",
       "      <th>2</th>\n",
       "      <td>VtussNQdJTdwKO4LuYroh4</td>\n",
       "      <td>Papworth004</td>\n",
       "      <td>ActivityRecording</td>\n",
       "      <td>2015-08-05</td>\n",
       "      <td>NaN</td>\n",
       "      <td>NaN</td>\n",
       "      <td>NaN</td>\n",
       "      <td>NaN</td>\n",
       "      <td>NaN</td>\n",
       "      <td>NaN</td>\n",
       "      <td>NaN</td>\n",
       "      <td>258.0</td>\n",
       "      <td>65.0</td>\n",
       "    </tr>\n",
       "    <tr>\n",
       "      <th>3</th>\n",
       "      <td>o0egatM37za2ZZ2jfs3AJ5</td>\n",
       "      <td>davetest</td>\n",
       "      <td>ActivityRecording</td>\n",
       "      <td>2015-08-06</td>\n",
       "      <td>NaN</td>\n",
       "      <td>NaN</td>\n",
       "      <td>NaN</td>\n",
       "      <td>NaN</td>\n",
       "      <td>NaN</td>\n",
       "      <td>NaN</td>\n",
       "      <td>NaN</td>\n",
       "      <td>NaN</td>\n",
       "      <td>NaN</td>\n",
       "    </tr>\n",
       "    <tr>\n",
       "      <th>4</th>\n",
       "      <td>RwennLW0OTb0BG61R5R-Z4</td>\n",
       "      <td>Papworth001</td>\n",
       "      <td>ActivityRecording</td>\n",
       "      <td>2015-08-06</td>\n",
       "      <td>NaN</td>\n",
       "      <td>NaN</td>\n",
       "      <td>NaN</td>\n",
       "      <td>NaN</td>\n",
       "      <td>NaN</td>\n",
       "      <td>NaN</td>\n",
       "      <td>NaN</td>\n",
       "      <td>2460.0</td>\n",
       "      <td>621.0</td>\n",
       "    </tr>\n",
       "  </tbody>\n",
       "</table>\n",
       "</div>"
      ],
      "text/plain": [
       "                  User ID     UserName     Recording Type Date recorded  FEV1  \\\n",
       "0  o0egatM37za2ZZ2jfs3AJ5     davetest  ActivityRecording    2015-08-04   NaN   \n",
       "1  o0egatM37za2ZZ2jfs3AJ5     davetest  ActivityRecording    2015-08-05   NaN   \n",
       "2  VtussNQdJTdwKO4LuYroh4  Papworth004  ActivityRecording    2015-08-05   NaN   \n",
       "3  o0egatM37za2ZZ2jfs3AJ5     davetest  ActivityRecording    2015-08-06   NaN   \n",
       "4  RwennLW0OTb0BG61R5R-Z4  Papworth001  ActivityRecording    2015-08-06   NaN   \n",
       "\n",
       "   FEV1 %  Weight (kg)  O2 Saturation  Pulse (BPM)  Rating  Temp (deg C)  \\\n",
       "0     NaN          NaN            NaN          NaN     NaN           NaN   \n",
       "1     NaN          NaN            NaN          NaN     NaN           NaN   \n",
       "2     NaN          NaN            NaN          NaN     NaN           NaN   \n",
       "3     NaN          NaN            NaN          NaN     NaN           NaN   \n",
       "4     NaN          NaN            NaN          NaN     NaN           NaN   \n",
       "\n",
       "   Activity - Steps  Activity - Points  \n",
       "0               4.0                1.0  \n",
       "1               NaN                NaN  \n",
       "2             258.0               65.0  \n",
       "3               NaN                NaN  \n",
       "4            2460.0              621.0  "
      ]
     },
     "execution_count": 9,
     "metadata": {},
     "output_type": "execute_result"
    }
   ],
   "source": [
    "# Using this because setup.py is not working\n",
    "import sys; sys.path.append(\"../../\")\n",
    "import sys; sys.path.append(\"../data\")\n",
    "\n",
    "import measurements_data\n",
    "from O2_FEV1_df import extract_measure\n",
    "import plotly.express as px\n",
    "\n",
    "df = measurements_data.load_measurements_without_smartcare_id()\n",
    "df.head()"
   ]
  },
  {
   "cell_type": "code",
   "execution_count": 2,
   "metadata": {},
   "outputs": [
    {
     "name": "stdout",
     "output_type": "stream",
     "text": [
      "FEV1 has 9949 measurements\n"
     ]
    },
    {
     "data": {
      "text/html": [
       "<div>\n",
       "<style scoped>\n",
       "    .dataframe tbody tr th:only-of-type {\n",
       "        vertical-align: middle;\n",
       "    }\n",
       "\n",
       "    .dataframe tbody tr th {\n",
       "        vertical-align: top;\n",
       "    }\n",
       "\n",
       "    .dataframe thead th {\n",
       "        text-align: right;\n",
       "    }\n",
       "</style>\n",
       "<table border=\"1\" class=\"dataframe\">\n",
       "  <thead>\n",
       "    <tr style=\"text-align: right;\">\n",
       "      <th></th>\n",
       "      <th>User ID</th>\n",
       "      <th>Date recorded</th>\n",
       "      <th>FEV1</th>\n",
       "    </tr>\n",
       "  </thead>\n",
       "  <tbody>\n",
       "    <tr>\n",
       "      <th>31197</th>\n",
       "      <td>RwennLW0OTb0BG61R5R-Z4</td>\n",
       "      <td>2015-08-05</td>\n",
       "      <td>1.49</td>\n",
       "    </tr>\n",
       "    <tr>\n",
       "      <th>31210</th>\n",
       "      <td>RwennLW0OTb0BG61R5R-Z4</td>\n",
       "      <td>2015-08-07</td>\n",
       "      <td>1.37</td>\n",
       "    </tr>\n",
       "    <tr>\n",
       "      <th>31221</th>\n",
       "      <td>CpKTBsn0Hn6KpvhVNdpX56</td>\n",
       "      <td>2015-08-10</td>\n",
       "      <td>1.28</td>\n",
       "    </tr>\n",
       "    <tr>\n",
       "      <th>31222</th>\n",
       "      <td>VtussNQdJTdwKO4LuYroh4</td>\n",
       "      <td>2015-08-13</td>\n",
       "      <td>1.63</td>\n",
       "    </tr>\n",
       "    <tr>\n",
       "      <th>31233</th>\n",
       "      <td>FauQ_rxd-p7d6tmPuHhd94</td>\n",
       "      <td>2015-08-15</td>\n",
       "      <td>2.45</td>\n",
       "    </tr>\n",
       "  </tbody>\n",
       "</table>\n",
       "</div>"
      ],
      "text/plain": [
       "                      User ID Date recorded  FEV1\n",
       "31197  RwennLW0OTb0BG61R5R-Z4    2015-08-05  1.49\n",
       "31210  RwennLW0OTb0BG61R5R-Z4    2015-08-07  1.37\n",
       "31221  CpKTBsn0Hn6KpvhVNdpX56    2015-08-10  1.28\n",
       "31222  VtussNQdJTdwKO4LuYroh4    2015-08-13  1.63\n",
       "31233  FauQ_rxd-p7d6tmPuHhd94    2015-08-15  2.45"
      ]
     },
     "execution_count": 2,
     "metadata": {},
     "output_type": "execute_result"
    }
   ],
   "source": [
    "missing_user_ids=['o0egatM37za2ZZ2jfs3AJ5', '-Q0Wf614z94DSTy6nXjyw7'\n",
    ", '31KnMK5Z4A6OKErB1C5-i6', '0HeWh64M_zc5U5l2xqzAs4'\n",
    ", 'GyK_hmIGxVaT7chwlGDio7', '1au5biSTt0bNWgfI0WItr5'\n",
    ", '-TKpptiCA5cASNKU0VSmx4', '-Cujq-NEcld_Keu_W1-Nw5'\n",
    ", 'ci0iszS3ov6G2U-dKDiAE4', '9YevbyBS8VdwRL3RRUGY86'\n",
    ", 'MB0_-sqQBxhrKyfoOxUaF4', '9MKCpOe_FO_LcU9C0oCPJ4']\n",
    "\n",
    "fev1 = extract_measure(df, \"FEV1\", with_patient_id=True)\n",
    "fev1.head()\n"
   ]
  },
  {
   "attachments": {},
   "cell_type": "markdown",
   "metadata": {},
   "source": [
    "## Number of recordings for USer IDs with missing SmartCare IDs"
   ]
  },
  {
   "cell_type": "code",
   "execution_count": 3,
   "metadata": {},
   "outputs": [
    {
     "ename": "NameError",
     "evalue": "name 'wished_ids' is not defined",
     "output_type": "error",
     "traceback": [
      "\u001b[0;31m---------------------------------------------------------------------------\u001b[0m",
      "\u001b[0;31mNameError\u001b[0m                                 Traceback (most recent call last)",
      "\u001b[1;32m/Users/tristan.trebaol/Desktop/PhD/Code/phd/src/data/2023-01-15_missing_smartcare_ids.ipynb Cell 5\u001b[0m in \u001b[0;36m<cell line: 8>\u001b[0;34m()\u001b[0m\n\u001b[1;32m      <a href='vscode-notebook-cell:/Users/tristan.trebaol/Desktop/PhD/Code/phd/src/data/2023-01-15_missing_smartcare_ids.ipynb#W4sZmlsZQ%3D%3D?line=5'>6</a>\u001b[0m \u001b[39m# Sort by First recording\u001b[39;00m\n\u001b[1;32m      <a href='vscode-notebook-cell:/Users/tristan.trebaol/Desktop/PhD/Code/phd/src/data/2023-01-15_missing_smartcare_ids.ipynb#W4sZmlsZQ%3D%3D?line=6'>7</a>\u001b[0m df_count\u001b[39m=\u001b[39mdf_count\u001b[39m.\u001b[39msort_values(by\u001b[39m=\u001b[39m\u001b[39m'\u001b[39m\u001b[39mFirst recording\u001b[39m\u001b[39m'\u001b[39m)\n\u001b[0;32m----> <a href='vscode-notebook-cell:/Users/tristan.trebaol/Desktop/PhD/Code/phd/src/data/2023-01-15_missing_smartcare_ids.ipynb#W4sZmlsZQ%3D%3D?line=7'>8</a>\u001b[0m df_count[df_count[\u001b[39m'\u001b[39m\u001b[39mUser ID\u001b[39m\u001b[39m'\u001b[39m]\u001b[39m.\u001b[39misin(wished_ids)]\n",
      "\u001b[0;31mNameError\u001b[0m: name 'wished_ids' is not defined"
     ]
    }
   ],
   "source": [
    "# Counts number of measurements of FEV1 for User ID ['0HeWh64M_zc5U5l2xqzAs4', '1au5biSTt0bNWgfI0WItr5', '-TKpptiCA5cASNKU0VSmx4', '-Cujq-NEcld_Keu_W1-Nw5']\n",
    "df_count=df[df[\"User ID\"].isin(missing_user_ids)].groupby(['User ID', 'UserName']).count()\n",
    "df_count=df_count[['FEV1', 'O2 Saturation', 'Weight (kg)', 'Pulse (BPM)', 'Temp (deg C)']].reset_index()\n",
    "df_count['First recording']=df[df['User ID'].isin(missing_user_ids)].groupby('User ID').agg([min])['Date recorded'].values\n",
    "df_count['Last recording']=df[df['User ID'].isin(missing_user_ids)].groupby('User ID').agg([max])['Date recorded'].values\n",
    "# Sort by First recording\n",
    "df_count=df_count.sort_values(by='First recording')\n",
    "df_count[df_count['User ID'].isin(wished_ids)]"
   ]
  },
  {
   "cell_type": "code",
   "execution_count": null,
   "metadata": {},
   "outputs": [
    {
     "data": {
      "application/vnd.plotly.v1+json": {
       "config": {
        "plotlyServerURL": "https://plot.ly"
       },
       "data": [
        {
         "hovertemplate": "Date recorded=%{x}<br>FEV1=%{y}<extra></extra>",
         "legendgroup": "",
         "marker": {
          "color": "#636efa",
          "symbol": "circle"
         },
         "mode": "markers",
         "name": "",
         "orientation": "v",
         "showlegend": false,
         "type": "scatter",
         "x": [
          "2015-12-15",
          "2015-12-14",
          "2015-12-16",
          "2015-12-31",
          "2016-01-01",
          "2015-12-22",
          "2015-12-23",
          "2015-12-21",
          "2015-12-17",
          "2015-12-26",
          "2015-12-18",
          "2015-12-29",
          "2015-12-19",
          "2015-12-20",
          "2016-01-08",
          "2016-01-05",
          "2016-01-02",
          "2016-01-11",
          "2016-01-12",
          "2015-12-24",
          "2016-01-04",
          "2015-12-25",
          "2016-01-07",
          "2015-12-27",
          "2016-01-10",
          "2016-01-09",
          "2015-12-28",
          "2015-12-30",
          "2016-01-13",
          "2016-01-15",
          "2016-01-03",
          "2016-01-16",
          "2016-01-30",
          "2016-01-06",
          "2016-01-20",
          "2016-01-21",
          "2016-01-23",
          "2016-01-26",
          "2016-01-24",
          "2016-01-14",
          "2016-01-27",
          "2016-01-17",
          "2016-01-18",
          "2016-01-19",
          "2016-02-01",
          "2016-01-31",
          "2016-02-02",
          "2016-02-04",
          "2016-02-17",
          "2016-02-07",
          "2016-02-06",
          "2016-02-09",
          "2016-01-28",
          "2016-02-12",
          "2016-02-13",
          "2016-02-03",
          "2016-02-21",
          "2016-02-18",
          "2016-02-08",
          "2016-02-23",
          "2016-03-08",
          "2016-02-27",
          "2016-02-25",
          "2016-03-12",
          "2016-03-14",
          "2016-02-16",
          "2016-03-05",
          "2016-03-10",
          "2016-03-07",
          "2016-03-18",
          "2016-03-21",
          "2016-03-03",
          "2016-03-20",
          "2016-03-17",
          "2016-03-25",
          "2016-03-23",
          "2016-03-16"
         ],
         "xaxis": "x",
         "y": [
          1.69,
          1.55,
          1.62,
          1.55,
          1.62,
          1.72,
          1.68,
          1.49,
          1.65,
          1.58,
          1.66,
          1.59,
          1.67,
          1.81,
          1.89,
          1.64,
          1.61,
          1.79,
          1.83,
          1.69,
          1.57,
          1.61,
          1.7,
          1.6,
          1.67,
          1.9,
          1.67,
          1.75,
          1.87,
          1.68,
          1.5,
          1.81,
          1.74,
          1.56,
          1.7,
          1.65,
          1.61,
          1.57,
          1.75,
          1.51,
          1.61,
          1.66,
          1.7,
          1.7,
          1.56,
          1.72,
          1.67,
          1.65,
          1.54,
          1.65,
          1.56,
          1.73,
          1.64,
          1.48,
          1.63,
          1.66,
          1.32,
          1.51,
          1.8,
          1.51,
          1.33,
          1.55,
          1.46,
          1.45,
          1.54,
          0.96,
          1.55,
          1.49,
          1.69,
          1.47,
          1.5,
          1.63,
          1.67,
          1.63,
          1.57,
          1.51,
          1.46
         ],
         "yaxis": "y"
        }
       ],
       "layout": {
        "legend": {
         "tracegroupgap": 0
        },
        "template": {
         "data": {
          "bar": [
           {
            "error_x": {
             "color": "#2a3f5f"
            },
            "error_y": {
             "color": "#2a3f5f"
            },
            "marker": {
             "line": {
              "color": "#E5ECF6",
              "width": 0.5
             },
             "pattern": {
              "fillmode": "overlay",
              "size": 10,
              "solidity": 0.2
             }
            },
            "type": "bar"
           }
          ],
          "barpolar": [
           {
            "marker": {
             "line": {
              "color": "#E5ECF6",
              "width": 0.5
             },
             "pattern": {
              "fillmode": "overlay",
              "size": 10,
              "solidity": 0.2
             }
            },
            "type": "barpolar"
           }
          ],
          "carpet": [
           {
            "aaxis": {
             "endlinecolor": "#2a3f5f",
             "gridcolor": "white",
             "linecolor": "white",
             "minorgridcolor": "white",
             "startlinecolor": "#2a3f5f"
            },
            "baxis": {
             "endlinecolor": "#2a3f5f",
             "gridcolor": "white",
             "linecolor": "white",
             "minorgridcolor": "white",
             "startlinecolor": "#2a3f5f"
            },
            "type": "carpet"
           }
          ],
          "choropleth": [
           {
            "colorbar": {
             "outlinewidth": 0,
             "ticks": ""
            },
            "type": "choropleth"
           }
          ],
          "contour": [
           {
            "colorbar": {
             "outlinewidth": 0,
             "ticks": ""
            },
            "colorscale": [
             [
              0,
              "#0d0887"
             ],
             [
              0.1111111111111111,
              "#46039f"
             ],
             [
              0.2222222222222222,
              "#7201a8"
             ],
             [
              0.3333333333333333,
              "#9c179e"
             ],
             [
              0.4444444444444444,
              "#bd3786"
             ],
             [
              0.5555555555555556,
              "#d8576b"
             ],
             [
              0.6666666666666666,
              "#ed7953"
             ],
             [
              0.7777777777777778,
              "#fb9f3a"
             ],
             [
              0.8888888888888888,
              "#fdca26"
             ],
             [
              1,
              "#f0f921"
             ]
            ],
            "type": "contour"
           }
          ],
          "contourcarpet": [
           {
            "colorbar": {
             "outlinewidth": 0,
             "ticks": ""
            },
            "type": "contourcarpet"
           }
          ],
          "heatmap": [
           {
            "colorbar": {
             "outlinewidth": 0,
             "ticks": ""
            },
            "colorscale": [
             [
              0,
              "#0d0887"
             ],
             [
              0.1111111111111111,
              "#46039f"
             ],
             [
              0.2222222222222222,
              "#7201a8"
             ],
             [
              0.3333333333333333,
              "#9c179e"
             ],
             [
              0.4444444444444444,
              "#bd3786"
             ],
             [
              0.5555555555555556,
              "#d8576b"
             ],
             [
              0.6666666666666666,
              "#ed7953"
             ],
             [
              0.7777777777777778,
              "#fb9f3a"
             ],
             [
              0.8888888888888888,
              "#fdca26"
             ],
             [
              1,
              "#f0f921"
             ]
            ],
            "type": "heatmap"
           }
          ],
          "heatmapgl": [
           {
            "colorbar": {
             "outlinewidth": 0,
             "ticks": ""
            },
            "colorscale": [
             [
              0,
              "#0d0887"
             ],
             [
              0.1111111111111111,
              "#46039f"
             ],
             [
              0.2222222222222222,
              "#7201a8"
             ],
             [
              0.3333333333333333,
              "#9c179e"
             ],
             [
              0.4444444444444444,
              "#bd3786"
             ],
             [
              0.5555555555555556,
              "#d8576b"
             ],
             [
              0.6666666666666666,
              "#ed7953"
             ],
             [
              0.7777777777777778,
              "#fb9f3a"
             ],
             [
              0.8888888888888888,
              "#fdca26"
             ],
             [
              1,
              "#f0f921"
             ]
            ],
            "type": "heatmapgl"
           }
          ],
          "histogram": [
           {
            "marker": {
             "pattern": {
              "fillmode": "overlay",
              "size": 10,
              "solidity": 0.2
             }
            },
            "type": "histogram"
           }
          ],
          "histogram2d": [
           {
            "colorbar": {
             "outlinewidth": 0,
             "ticks": ""
            },
            "colorscale": [
             [
              0,
              "#0d0887"
             ],
             [
              0.1111111111111111,
              "#46039f"
             ],
             [
              0.2222222222222222,
              "#7201a8"
             ],
             [
              0.3333333333333333,
              "#9c179e"
             ],
             [
              0.4444444444444444,
              "#bd3786"
             ],
             [
              0.5555555555555556,
              "#d8576b"
             ],
             [
              0.6666666666666666,
              "#ed7953"
             ],
             [
              0.7777777777777778,
              "#fb9f3a"
             ],
             [
              0.8888888888888888,
              "#fdca26"
             ],
             [
              1,
              "#f0f921"
             ]
            ],
            "type": "histogram2d"
           }
          ],
          "histogram2dcontour": [
           {
            "colorbar": {
             "outlinewidth": 0,
             "ticks": ""
            },
            "colorscale": [
             [
              0,
              "#0d0887"
             ],
             [
              0.1111111111111111,
              "#46039f"
             ],
             [
              0.2222222222222222,
              "#7201a8"
             ],
             [
              0.3333333333333333,
              "#9c179e"
             ],
             [
              0.4444444444444444,
              "#bd3786"
             ],
             [
              0.5555555555555556,
              "#d8576b"
             ],
             [
              0.6666666666666666,
              "#ed7953"
             ],
             [
              0.7777777777777778,
              "#fb9f3a"
             ],
             [
              0.8888888888888888,
              "#fdca26"
             ],
             [
              1,
              "#f0f921"
             ]
            ],
            "type": "histogram2dcontour"
           }
          ],
          "mesh3d": [
           {
            "colorbar": {
             "outlinewidth": 0,
             "ticks": ""
            },
            "type": "mesh3d"
           }
          ],
          "parcoords": [
           {
            "line": {
             "colorbar": {
              "outlinewidth": 0,
              "ticks": ""
             }
            },
            "type": "parcoords"
           }
          ],
          "pie": [
           {
            "automargin": true,
            "type": "pie"
           }
          ],
          "scatter": [
           {
            "fillpattern": {
             "fillmode": "overlay",
             "size": 10,
             "solidity": 0.2
            },
            "type": "scatter"
           }
          ],
          "scatter3d": [
           {
            "line": {
             "colorbar": {
              "outlinewidth": 0,
              "ticks": ""
             }
            },
            "marker": {
             "colorbar": {
              "outlinewidth": 0,
              "ticks": ""
             }
            },
            "type": "scatter3d"
           }
          ],
          "scattercarpet": [
           {
            "marker": {
             "colorbar": {
              "outlinewidth": 0,
              "ticks": ""
             }
            },
            "type": "scattercarpet"
           }
          ],
          "scattergeo": [
           {
            "marker": {
             "colorbar": {
              "outlinewidth": 0,
              "ticks": ""
             }
            },
            "type": "scattergeo"
           }
          ],
          "scattergl": [
           {
            "marker": {
             "colorbar": {
              "outlinewidth": 0,
              "ticks": ""
             }
            },
            "type": "scattergl"
           }
          ],
          "scattermapbox": [
           {
            "marker": {
             "colorbar": {
              "outlinewidth": 0,
              "ticks": ""
             }
            },
            "type": "scattermapbox"
           }
          ],
          "scatterpolar": [
           {
            "marker": {
             "colorbar": {
              "outlinewidth": 0,
              "ticks": ""
             }
            },
            "type": "scatterpolar"
           }
          ],
          "scatterpolargl": [
           {
            "marker": {
             "colorbar": {
              "outlinewidth": 0,
              "ticks": ""
             }
            },
            "type": "scatterpolargl"
           }
          ],
          "scatterternary": [
           {
            "marker": {
             "colorbar": {
              "outlinewidth": 0,
              "ticks": ""
             }
            },
            "type": "scatterternary"
           }
          ],
          "surface": [
           {
            "colorbar": {
             "outlinewidth": 0,
             "ticks": ""
            },
            "colorscale": [
             [
              0,
              "#0d0887"
             ],
             [
              0.1111111111111111,
              "#46039f"
             ],
             [
              0.2222222222222222,
              "#7201a8"
             ],
             [
              0.3333333333333333,
              "#9c179e"
             ],
             [
              0.4444444444444444,
              "#bd3786"
             ],
             [
              0.5555555555555556,
              "#d8576b"
             ],
             [
              0.6666666666666666,
              "#ed7953"
             ],
             [
              0.7777777777777778,
              "#fb9f3a"
             ],
             [
              0.8888888888888888,
              "#fdca26"
             ],
             [
              1,
              "#f0f921"
             ]
            ],
            "type": "surface"
           }
          ],
          "table": [
           {
            "cells": {
             "fill": {
              "color": "#EBF0F8"
             },
             "line": {
              "color": "white"
             }
            },
            "header": {
             "fill": {
              "color": "#C8D4E3"
             },
             "line": {
              "color": "white"
             }
            },
            "type": "table"
           }
          ]
         },
         "layout": {
          "annotationdefaults": {
           "arrowcolor": "#2a3f5f",
           "arrowhead": 0,
           "arrowwidth": 1
          },
          "autotypenumbers": "strict",
          "coloraxis": {
           "colorbar": {
            "outlinewidth": 0,
            "ticks": ""
           }
          },
          "colorscale": {
           "diverging": [
            [
             0,
             "#8e0152"
            ],
            [
             0.1,
             "#c51b7d"
            ],
            [
             0.2,
             "#de77ae"
            ],
            [
             0.3,
             "#f1b6da"
            ],
            [
             0.4,
             "#fde0ef"
            ],
            [
             0.5,
             "#f7f7f7"
            ],
            [
             0.6,
             "#e6f5d0"
            ],
            [
             0.7,
             "#b8e186"
            ],
            [
             0.8,
             "#7fbc41"
            ],
            [
             0.9,
             "#4d9221"
            ],
            [
             1,
             "#276419"
            ]
           ],
           "sequential": [
            [
             0,
             "#0d0887"
            ],
            [
             0.1111111111111111,
             "#46039f"
            ],
            [
             0.2222222222222222,
             "#7201a8"
            ],
            [
             0.3333333333333333,
             "#9c179e"
            ],
            [
             0.4444444444444444,
             "#bd3786"
            ],
            [
             0.5555555555555556,
             "#d8576b"
            ],
            [
             0.6666666666666666,
             "#ed7953"
            ],
            [
             0.7777777777777778,
             "#fb9f3a"
            ],
            [
             0.8888888888888888,
             "#fdca26"
            ],
            [
             1,
             "#f0f921"
            ]
           ],
           "sequentialminus": [
            [
             0,
             "#0d0887"
            ],
            [
             0.1111111111111111,
             "#46039f"
            ],
            [
             0.2222222222222222,
             "#7201a8"
            ],
            [
             0.3333333333333333,
             "#9c179e"
            ],
            [
             0.4444444444444444,
             "#bd3786"
            ],
            [
             0.5555555555555556,
             "#d8576b"
            ],
            [
             0.6666666666666666,
             "#ed7953"
            ],
            [
             0.7777777777777778,
             "#fb9f3a"
            ],
            [
             0.8888888888888888,
             "#fdca26"
            ],
            [
             1,
             "#f0f921"
            ]
           ]
          },
          "colorway": [
           "#636efa",
           "#EF553B",
           "#00cc96",
           "#ab63fa",
           "#FFA15A",
           "#19d3f3",
           "#FF6692",
           "#B6E880",
           "#FF97FF",
           "#FECB52"
          ],
          "font": {
           "color": "#2a3f5f"
          },
          "geo": {
           "bgcolor": "white",
           "lakecolor": "white",
           "landcolor": "#E5ECF6",
           "showlakes": true,
           "showland": true,
           "subunitcolor": "white"
          },
          "hoverlabel": {
           "align": "left"
          },
          "hovermode": "closest",
          "mapbox": {
           "style": "light"
          },
          "paper_bgcolor": "white",
          "plot_bgcolor": "#E5ECF6",
          "polar": {
           "angularaxis": {
            "gridcolor": "white",
            "linecolor": "white",
            "ticks": ""
           },
           "bgcolor": "#E5ECF6",
           "radialaxis": {
            "gridcolor": "white",
            "linecolor": "white",
            "ticks": ""
           }
          },
          "scene": {
           "xaxis": {
            "backgroundcolor": "#E5ECF6",
            "gridcolor": "white",
            "gridwidth": 2,
            "linecolor": "white",
            "showbackground": true,
            "ticks": "",
            "zerolinecolor": "white"
           },
           "yaxis": {
            "backgroundcolor": "#E5ECF6",
            "gridcolor": "white",
            "gridwidth": 2,
            "linecolor": "white",
            "showbackground": true,
            "ticks": "",
            "zerolinecolor": "white"
           },
           "zaxis": {
            "backgroundcolor": "#E5ECF6",
            "gridcolor": "white",
            "gridwidth": 2,
            "linecolor": "white",
            "showbackground": true,
            "ticks": "",
            "zerolinecolor": "white"
           }
          },
          "shapedefaults": {
           "line": {
            "color": "#2a3f5f"
           }
          },
          "ternary": {
           "aaxis": {
            "gridcolor": "white",
            "linecolor": "white",
            "ticks": ""
           },
           "baxis": {
            "gridcolor": "white",
            "linecolor": "white",
            "ticks": ""
           },
           "bgcolor": "#E5ECF6",
           "caxis": {
            "gridcolor": "white",
            "linecolor": "white",
            "ticks": ""
           }
          },
          "title": {
           "x": 0.05
          },
          "xaxis": {
           "automargin": true,
           "gridcolor": "white",
           "linecolor": "white",
           "ticks": "",
           "title": {
            "standoff": 15
           },
           "zerolinecolor": "white",
           "zerolinewidth": 2
          },
          "yaxis": {
           "automargin": true,
           "gridcolor": "white",
           "linecolor": "white",
           "ticks": "",
           "title": {
            "standoff": 15
           },
           "zerolinecolor": "white",
           "zerolinewidth": 2
          }
         }
        },
        "title": {
         "text": "FEV1 for id 0HeWh64M_zc5U5l2xqzAs4"
        },
        "xaxis": {
         "anchor": "y",
         "domain": [
          0,
          1
         ],
         "range": [
          "2015-08-05",
          "2017-04-29"
         ],
         "title": {
          "text": "Date recorded"
         }
        },
        "yaxis": {
         "anchor": "x",
         "domain": [
          0,
          1
         ],
         "title": {
          "text": "FEV1"
         }
        }
       }
      }
     },
     "metadata": {},
     "output_type": "display_data"
    },
    {
     "data": {
      "application/vnd.plotly.v1+json": {
       "config": {
        "plotlyServerURL": "https://plot.ly"
       },
       "data": [
        {
         "hovertemplate": "Date recorded=%{x}<br>FEV1=%{y}<extra></extra>",
         "legendgroup": "",
         "marker": {
          "color": "#636efa",
          "symbol": "circle"
         },
         "mode": "markers",
         "name": "",
         "orientation": "v",
         "showlegend": false,
         "type": "scatter",
         "x": [
          "2016-01-21",
          "2016-01-30",
          "2016-01-20",
          "2016-02-03",
          "2016-01-23",
          "2016-01-24",
          "2016-01-27",
          "2016-01-25",
          "2016-01-26",
          "2016-02-09",
          "2016-02-11",
          "2016-01-29",
          "2016-02-02",
          "2016-02-07",
          "2016-02-06",
          "2016-02-08",
          "2016-01-28",
          "2016-01-31",
          "2016-02-01",
          "2016-02-04",
          "2016-02-15",
          "2016-02-19",
          "2016-02-05",
          "2016-02-20",
          "2016-02-18",
          "2016-02-10",
          "2016-02-24",
          "2016-02-21",
          "2016-02-12",
          "2016-02-27",
          "2016-02-13",
          "2016-03-04",
          "2016-03-01",
          "2016-03-03",
          "2016-02-16",
          "2016-02-17",
          "2016-03-05",
          "2016-03-06",
          "2016-02-22",
          "2016-03-10",
          "2016-03-11",
          "2016-03-17",
          "2016-03-14",
          "2016-03-07",
          "2016-03-08",
          "2016-03-13",
          "2016-03-09",
          "2016-03-16",
          "2016-03-12",
          "2016-03-22",
          "2016-03-20",
          "2016-04-01",
          "2016-03-24",
          "2016-03-23",
          "2016-03-18",
          "2016-03-28",
          "2016-03-26",
          "2016-03-29",
          "2016-03-27",
          "2016-04-04",
          "2016-03-31",
          "2016-04-09",
          "2016-04-05",
          "2016-03-15",
          "2016-04-03",
          "2016-04-07",
          "2016-03-25",
          "2016-03-19",
          "2016-03-21",
          "2016-04-06",
          "2016-04-08",
          "2016-04-18",
          "2016-04-26",
          "2016-04-11",
          "2016-04-02",
          "2016-04-20",
          "2016-04-23",
          "2016-05-01",
          "2016-04-10",
          "2016-05-04",
          "2016-05-05",
          "2016-04-21",
          "2016-05-02",
          "2016-04-28",
          "2016-05-07",
          "2016-05-03",
          "2016-04-19",
          "2016-05-14",
          "2016-05-06",
          "2016-04-22",
          "2016-04-24",
          "2016-05-21",
          "2016-04-29",
          "2016-04-25",
          "2016-04-27",
          "2016-05-09",
          "2016-05-24",
          "2016-05-10",
          "2016-05-17",
          "2016-06-03",
          "2016-05-15",
          "2016-05-16",
          "2016-05-27",
          "2016-05-28",
          "2016-06-04",
          "2016-05-29",
          "2016-06-01",
          "2016-05-11",
          "2016-06-10",
          "2016-05-13",
          "2016-06-13",
          "2016-05-18",
          "2016-05-20",
          "2016-05-22",
          "2016-05-23",
          "2016-06-16",
          "2016-06-17",
          "2016-06-18",
          "2016-06-19",
          "2016-05-26",
          "2016-06-05",
          "2016-07-01",
          "2016-07-03",
          "2016-06-02",
          "2016-06-22",
          "2016-06-07",
          "2016-06-15",
          "2016-06-09",
          "2016-06-29",
          "2016-06-21",
          "2016-07-02",
          "2016-06-11",
          "2016-06-12",
          "2016-07-07",
          "2016-07-06",
          "2016-07-08",
          "2016-06-30",
          "2016-07-04",
          "2016-07-12",
          "2016-07-13",
          "2016-07-11",
          "2016-07-15",
          "2016-06-20",
          "2016-06-23",
          "2016-07-23",
          "2016-06-26",
          "2016-06-27",
          "2016-06-28",
          "2016-07-16",
          "2016-07-17"
         ],
         "xaxis": "x",
         "y": [
          1.87,
          1.89,
          1.86,
          1.91,
          1.86,
          1.74,
          1.82,
          1.88,
          1.83,
          1.92,
          1.89,
          1.84,
          1.9,
          1.84,
          1.84,
          1.91,
          1.91,
          1.89,
          1.93,
          1.87,
          1.93,
          1.9,
          1.9,
          1.95,
          1.98,
          1.99,
          1.79,
          1.94,
          1.83,
          1.73,
          1.97,
          1.73,
          1.81,
          1.77,
          1.9,
          1.92,
          1.83,
          1.76,
          1.94,
          1.87,
          1.86,
          1.9,
          1.86,
          1.72,
          1.91,
          1.82,
          1.86,
          1.83,
          1.86,
          1.88,
          1.89,
          1.76,
          1.86,
          1.89,
          1.85,
          1.84,
          1.87,
          1.79,
          1.77,
          1.82,
          1.71,
          1.7,
          1.89,
          1.76,
          1.68,
          1.91,
          1.79,
          1.93,
          1.88,
          1.86,
          1.8,
          1.77,
          1.91,
          1.67,
          1.82,
          1.82,
          1.75,
          1.88,
          1.83,
          1.86,
          1.79,
          1.9,
          1.79,
          1.81,
          1.81,
          1.8,
          1.77,
          1.8,
          1.92,
          1.95,
          1.87,
          1.88,
          1.82,
          1.84,
          1.82,
          1.86,
          1.87,
          1.75,
          1.89,
          1.94,
          1.79,
          1.82,
          1.9,
          1.89,
          1.87,
          1.93,
          1.89,
          1.76,
          1.95,
          1.88,
          1.87,
          1.92,
          1.9,
          1.86,
          1.83,
          1.89,
          1.89,
          1.9,
          1.75,
          1.92,
          1.8,
          1.93,
          1.99,
          1.86,
          1.87,
          1.94,
          1.91,
          1.86,
          1.88,
          1.95,
          1.92,
          1.84,
          1.91,
          1.91,
          1.9,
          1.86,
          1.97,
          1.87,
          1.95,
          1.89,
          1.89,
          1.82,
          1.92,
          1.91,
          1.83,
          1.81,
          1.9,
          1.96,
          1.92,
          1.91
         ],
         "yaxis": "y"
        }
       ],
       "layout": {
        "legend": {
         "tracegroupgap": 0
        },
        "template": {
         "data": {
          "bar": [
           {
            "error_x": {
             "color": "#2a3f5f"
            },
            "error_y": {
             "color": "#2a3f5f"
            },
            "marker": {
             "line": {
              "color": "#E5ECF6",
              "width": 0.5
             },
             "pattern": {
              "fillmode": "overlay",
              "size": 10,
              "solidity": 0.2
             }
            },
            "type": "bar"
           }
          ],
          "barpolar": [
           {
            "marker": {
             "line": {
              "color": "#E5ECF6",
              "width": 0.5
             },
             "pattern": {
              "fillmode": "overlay",
              "size": 10,
              "solidity": 0.2
             }
            },
            "type": "barpolar"
           }
          ],
          "carpet": [
           {
            "aaxis": {
             "endlinecolor": "#2a3f5f",
             "gridcolor": "white",
             "linecolor": "white",
             "minorgridcolor": "white",
             "startlinecolor": "#2a3f5f"
            },
            "baxis": {
             "endlinecolor": "#2a3f5f",
             "gridcolor": "white",
             "linecolor": "white",
             "minorgridcolor": "white",
             "startlinecolor": "#2a3f5f"
            },
            "type": "carpet"
           }
          ],
          "choropleth": [
           {
            "colorbar": {
             "outlinewidth": 0,
             "ticks": ""
            },
            "type": "choropleth"
           }
          ],
          "contour": [
           {
            "colorbar": {
             "outlinewidth": 0,
             "ticks": ""
            },
            "colorscale": [
             [
              0,
              "#0d0887"
             ],
             [
              0.1111111111111111,
              "#46039f"
             ],
             [
              0.2222222222222222,
              "#7201a8"
             ],
             [
              0.3333333333333333,
              "#9c179e"
             ],
             [
              0.4444444444444444,
              "#bd3786"
             ],
             [
              0.5555555555555556,
              "#d8576b"
             ],
             [
              0.6666666666666666,
              "#ed7953"
             ],
             [
              0.7777777777777778,
              "#fb9f3a"
             ],
             [
              0.8888888888888888,
              "#fdca26"
             ],
             [
              1,
              "#f0f921"
             ]
            ],
            "type": "contour"
           }
          ],
          "contourcarpet": [
           {
            "colorbar": {
             "outlinewidth": 0,
             "ticks": ""
            },
            "type": "contourcarpet"
           }
          ],
          "heatmap": [
           {
            "colorbar": {
             "outlinewidth": 0,
             "ticks": ""
            },
            "colorscale": [
             [
              0,
              "#0d0887"
             ],
             [
              0.1111111111111111,
              "#46039f"
             ],
             [
              0.2222222222222222,
              "#7201a8"
             ],
             [
              0.3333333333333333,
              "#9c179e"
             ],
             [
              0.4444444444444444,
              "#bd3786"
             ],
             [
              0.5555555555555556,
              "#d8576b"
             ],
             [
              0.6666666666666666,
              "#ed7953"
             ],
             [
              0.7777777777777778,
              "#fb9f3a"
             ],
             [
              0.8888888888888888,
              "#fdca26"
             ],
             [
              1,
              "#f0f921"
             ]
            ],
            "type": "heatmap"
           }
          ],
          "heatmapgl": [
           {
            "colorbar": {
             "outlinewidth": 0,
             "ticks": ""
            },
            "colorscale": [
             [
              0,
              "#0d0887"
             ],
             [
              0.1111111111111111,
              "#46039f"
             ],
             [
              0.2222222222222222,
              "#7201a8"
             ],
             [
              0.3333333333333333,
              "#9c179e"
             ],
             [
              0.4444444444444444,
              "#bd3786"
             ],
             [
              0.5555555555555556,
              "#d8576b"
             ],
             [
              0.6666666666666666,
              "#ed7953"
             ],
             [
              0.7777777777777778,
              "#fb9f3a"
             ],
             [
              0.8888888888888888,
              "#fdca26"
             ],
             [
              1,
              "#f0f921"
             ]
            ],
            "type": "heatmapgl"
           }
          ],
          "histogram": [
           {
            "marker": {
             "pattern": {
              "fillmode": "overlay",
              "size": 10,
              "solidity": 0.2
             }
            },
            "type": "histogram"
           }
          ],
          "histogram2d": [
           {
            "colorbar": {
             "outlinewidth": 0,
             "ticks": ""
            },
            "colorscale": [
             [
              0,
              "#0d0887"
             ],
             [
              0.1111111111111111,
              "#46039f"
             ],
             [
              0.2222222222222222,
              "#7201a8"
             ],
             [
              0.3333333333333333,
              "#9c179e"
             ],
             [
              0.4444444444444444,
              "#bd3786"
             ],
             [
              0.5555555555555556,
              "#d8576b"
             ],
             [
              0.6666666666666666,
              "#ed7953"
             ],
             [
              0.7777777777777778,
              "#fb9f3a"
             ],
             [
              0.8888888888888888,
              "#fdca26"
             ],
             [
              1,
              "#f0f921"
             ]
            ],
            "type": "histogram2d"
           }
          ],
          "histogram2dcontour": [
           {
            "colorbar": {
             "outlinewidth": 0,
             "ticks": ""
            },
            "colorscale": [
             [
              0,
              "#0d0887"
             ],
             [
              0.1111111111111111,
              "#46039f"
             ],
             [
              0.2222222222222222,
              "#7201a8"
             ],
             [
              0.3333333333333333,
              "#9c179e"
             ],
             [
              0.4444444444444444,
              "#bd3786"
             ],
             [
              0.5555555555555556,
              "#d8576b"
             ],
             [
              0.6666666666666666,
              "#ed7953"
             ],
             [
              0.7777777777777778,
              "#fb9f3a"
             ],
             [
              0.8888888888888888,
              "#fdca26"
             ],
             [
              1,
              "#f0f921"
             ]
            ],
            "type": "histogram2dcontour"
           }
          ],
          "mesh3d": [
           {
            "colorbar": {
             "outlinewidth": 0,
             "ticks": ""
            },
            "type": "mesh3d"
           }
          ],
          "parcoords": [
           {
            "line": {
             "colorbar": {
              "outlinewidth": 0,
              "ticks": ""
             }
            },
            "type": "parcoords"
           }
          ],
          "pie": [
           {
            "automargin": true,
            "type": "pie"
           }
          ],
          "scatter": [
           {
            "fillpattern": {
             "fillmode": "overlay",
             "size": 10,
             "solidity": 0.2
            },
            "type": "scatter"
           }
          ],
          "scatter3d": [
           {
            "line": {
             "colorbar": {
              "outlinewidth": 0,
              "ticks": ""
             }
            },
            "marker": {
             "colorbar": {
              "outlinewidth": 0,
              "ticks": ""
             }
            },
            "type": "scatter3d"
           }
          ],
          "scattercarpet": [
           {
            "marker": {
             "colorbar": {
              "outlinewidth": 0,
              "ticks": ""
             }
            },
            "type": "scattercarpet"
           }
          ],
          "scattergeo": [
           {
            "marker": {
             "colorbar": {
              "outlinewidth": 0,
              "ticks": ""
             }
            },
            "type": "scattergeo"
           }
          ],
          "scattergl": [
           {
            "marker": {
             "colorbar": {
              "outlinewidth": 0,
              "ticks": ""
             }
            },
            "type": "scattergl"
           }
          ],
          "scattermapbox": [
           {
            "marker": {
             "colorbar": {
              "outlinewidth": 0,
              "ticks": ""
             }
            },
            "type": "scattermapbox"
           }
          ],
          "scatterpolar": [
           {
            "marker": {
             "colorbar": {
              "outlinewidth": 0,
              "ticks": ""
             }
            },
            "type": "scatterpolar"
           }
          ],
          "scatterpolargl": [
           {
            "marker": {
             "colorbar": {
              "outlinewidth": 0,
              "ticks": ""
             }
            },
            "type": "scatterpolargl"
           }
          ],
          "scatterternary": [
           {
            "marker": {
             "colorbar": {
              "outlinewidth": 0,
              "ticks": ""
             }
            },
            "type": "scatterternary"
           }
          ],
          "surface": [
           {
            "colorbar": {
             "outlinewidth": 0,
             "ticks": ""
            },
            "colorscale": [
             [
              0,
              "#0d0887"
             ],
             [
              0.1111111111111111,
              "#46039f"
             ],
             [
              0.2222222222222222,
              "#7201a8"
             ],
             [
              0.3333333333333333,
              "#9c179e"
             ],
             [
              0.4444444444444444,
              "#bd3786"
             ],
             [
              0.5555555555555556,
              "#d8576b"
             ],
             [
              0.6666666666666666,
              "#ed7953"
             ],
             [
              0.7777777777777778,
              "#fb9f3a"
             ],
             [
              0.8888888888888888,
              "#fdca26"
             ],
             [
              1,
              "#f0f921"
             ]
            ],
            "type": "surface"
           }
          ],
          "table": [
           {
            "cells": {
             "fill": {
              "color": "#EBF0F8"
             },
             "line": {
              "color": "white"
             }
            },
            "header": {
             "fill": {
              "color": "#C8D4E3"
             },
             "line": {
              "color": "white"
             }
            },
            "type": "table"
           }
          ]
         },
         "layout": {
          "annotationdefaults": {
           "arrowcolor": "#2a3f5f",
           "arrowhead": 0,
           "arrowwidth": 1
          },
          "autotypenumbers": "strict",
          "coloraxis": {
           "colorbar": {
            "outlinewidth": 0,
            "ticks": ""
           }
          },
          "colorscale": {
           "diverging": [
            [
             0,
             "#8e0152"
            ],
            [
             0.1,
             "#c51b7d"
            ],
            [
             0.2,
             "#de77ae"
            ],
            [
             0.3,
             "#f1b6da"
            ],
            [
             0.4,
             "#fde0ef"
            ],
            [
             0.5,
             "#f7f7f7"
            ],
            [
             0.6,
             "#e6f5d0"
            ],
            [
             0.7,
             "#b8e186"
            ],
            [
             0.8,
             "#7fbc41"
            ],
            [
             0.9,
             "#4d9221"
            ],
            [
             1,
             "#276419"
            ]
           ],
           "sequential": [
            [
             0,
             "#0d0887"
            ],
            [
             0.1111111111111111,
             "#46039f"
            ],
            [
             0.2222222222222222,
             "#7201a8"
            ],
            [
             0.3333333333333333,
             "#9c179e"
            ],
            [
             0.4444444444444444,
             "#bd3786"
            ],
            [
             0.5555555555555556,
             "#d8576b"
            ],
            [
             0.6666666666666666,
             "#ed7953"
            ],
            [
             0.7777777777777778,
             "#fb9f3a"
            ],
            [
             0.8888888888888888,
             "#fdca26"
            ],
            [
             1,
             "#f0f921"
            ]
           ],
           "sequentialminus": [
            [
             0,
             "#0d0887"
            ],
            [
             0.1111111111111111,
             "#46039f"
            ],
            [
             0.2222222222222222,
             "#7201a8"
            ],
            [
             0.3333333333333333,
             "#9c179e"
            ],
            [
             0.4444444444444444,
             "#bd3786"
            ],
            [
             0.5555555555555556,
             "#d8576b"
            ],
            [
             0.6666666666666666,
             "#ed7953"
            ],
            [
             0.7777777777777778,
             "#fb9f3a"
            ],
            [
             0.8888888888888888,
             "#fdca26"
            ],
            [
             1,
             "#f0f921"
            ]
           ]
          },
          "colorway": [
           "#636efa",
           "#EF553B",
           "#00cc96",
           "#ab63fa",
           "#FFA15A",
           "#19d3f3",
           "#FF6692",
           "#B6E880",
           "#FF97FF",
           "#FECB52"
          ],
          "font": {
           "color": "#2a3f5f"
          },
          "geo": {
           "bgcolor": "white",
           "lakecolor": "white",
           "landcolor": "#E5ECF6",
           "showlakes": true,
           "showland": true,
           "subunitcolor": "white"
          },
          "hoverlabel": {
           "align": "left"
          },
          "hovermode": "closest",
          "mapbox": {
           "style": "light"
          },
          "paper_bgcolor": "white",
          "plot_bgcolor": "#E5ECF6",
          "polar": {
           "angularaxis": {
            "gridcolor": "white",
            "linecolor": "white",
            "ticks": ""
           },
           "bgcolor": "#E5ECF6",
           "radialaxis": {
            "gridcolor": "white",
            "linecolor": "white",
            "ticks": ""
           }
          },
          "scene": {
           "xaxis": {
            "backgroundcolor": "#E5ECF6",
            "gridcolor": "white",
            "gridwidth": 2,
            "linecolor": "white",
            "showbackground": true,
            "ticks": "",
            "zerolinecolor": "white"
           },
           "yaxis": {
            "backgroundcolor": "#E5ECF6",
            "gridcolor": "white",
            "gridwidth": 2,
            "linecolor": "white",
            "showbackground": true,
            "ticks": "",
            "zerolinecolor": "white"
           },
           "zaxis": {
            "backgroundcolor": "#E5ECF6",
            "gridcolor": "white",
            "gridwidth": 2,
            "linecolor": "white",
            "showbackground": true,
            "ticks": "",
            "zerolinecolor": "white"
           }
          },
          "shapedefaults": {
           "line": {
            "color": "#2a3f5f"
           }
          },
          "ternary": {
           "aaxis": {
            "gridcolor": "white",
            "linecolor": "white",
            "ticks": ""
           },
           "baxis": {
            "gridcolor": "white",
            "linecolor": "white",
            "ticks": ""
           },
           "bgcolor": "#E5ECF6",
           "caxis": {
            "gridcolor": "white",
            "linecolor": "white",
            "ticks": ""
           }
          },
          "title": {
           "x": 0.05
          },
          "xaxis": {
           "automargin": true,
           "gridcolor": "white",
           "linecolor": "white",
           "ticks": "",
           "title": {
            "standoff": 15
           },
           "zerolinecolor": "white",
           "zerolinewidth": 2
          },
          "yaxis": {
           "automargin": true,
           "gridcolor": "white",
           "linecolor": "white",
           "ticks": "",
           "title": {
            "standoff": 15
           },
           "zerolinecolor": "white",
           "zerolinewidth": 2
          }
         }
        },
        "title": {
         "text": "FEV1 for id 1au5biSTt0bNWgfI0WItr5"
        },
        "xaxis": {
         "anchor": "y",
         "domain": [
          0,
          1
         ],
         "range": [
          "2015-08-05",
          "2017-04-29"
         ],
         "title": {
          "text": "Date recorded"
         }
        },
        "yaxis": {
         "anchor": "x",
         "domain": [
          0,
          1
         ],
         "title": {
          "text": "FEV1"
         }
        }
       }
      }
     },
     "metadata": {},
     "output_type": "display_data"
    },
    {
     "data": {
      "application/vnd.plotly.v1+json": {
       "config": {
        "plotlyServerURL": "https://plot.ly"
       },
       "data": [
        {
         "hovertemplate": "Date recorded=%{x}<br>FEV1=%{y}<extra></extra>",
         "legendgroup": "",
         "marker": {
          "color": "#636efa",
          "symbol": "circle"
         },
         "mode": "markers",
         "name": "",
         "orientation": "v",
         "showlegend": false,
         "type": "scatter",
         "x": [
          "2016-06-02",
          "2016-06-09",
          "2016-06-05",
          "2016-06-12",
          "2016-06-16",
          "2016-06-17",
          "2016-06-03",
          "2016-06-24",
          "2016-06-08",
          "2016-06-18",
          "2016-06-21",
          "2016-06-04",
          "2016-06-23",
          "2016-06-13",
          "2016-07-03",
          "2016-06-26",
          "2016-06-22",
          "2016-07-05",
          "2016-06-25",
          "2016-06-19",
          "2016-06-07",
          "2016-06-10",
          "2016-07-11",
          "2016-06-11",
          "2016-06-20",
          "2016-06-28",
          "2016-06-14",
          "2016-07-02",
          "2016-07-09",
          "2016-07-10",
          "2016-07-08",
          "2016-07-04",
          "2016-06-15",
          "2016-07-06",
          "2016-07-13",
          "2016-07-14",
          "2016-07-16",
          "2016-07-12",
          "2016-07-07",
          "2016-07-19",
          "2016-07-27",
          "2016-07-20",
          "2016-07-30",
          "2016-07-18",
          "2016-07-24",
          "2016-08-15",
          "2016-08-22",
          "2016-07-17",
          "2016-08-17",
          "2016-08-01",
          "2016-08-19",
          "2016-08-29",
          "2016-08-31",
          "2016-08-18",
          "2016-08-21",
          "2016-07-31",
          "2016-09-08",
          "2016-08-26",
          "2016-09-09",
          "2016-08-25",
          "2016-08-16",
          "2016-08-20",
          "2016-08-23",
          "2016-09-20",
          "2016-08-14",
          "2016-09-11",
          "2016-08-30",
          "2016-09-13",
          "2016-09-07",
          "2016-09-27",
          "2016-09-14",
          "2016-09-15",
          "2016-09-05",
          "2016-09-12",
          "2016-09-21",
          "2016-09-22",
          "2016-08-27",
          "2016-09-26",
          "2016-10-10",
          "2016-09-29",
          "2016-10-14",
          "2016-09-04",
          "2016-09-18",
          "2016-10-06",
          "2016-10-15",
          "2016-09-19",
          "2016-09-28",
          "2016-10-17",
          "2016-10-05",
          "2016-10-19",
          "2016-09-24",
          "2016-10-26",
          "2016-10-21",
          "2016-10-31",
          "2016-10-09",
          "2016-11-01",
          "2016-10-25",
          "2016-10-12",
          "2016-09-30",
          "2016-10-13",
          "2016-11-10",
          "2016-10-16",
          "2016-10-02",
          "2016-11-13",
          "2016-10-08",
          "2016-11-20",
          "2016-11-11",
          "2016-11-15",
          "2016-11-09",
          "2016-11-05",
          "2016-11-12",
          "2016-11-22",
          "2016-11-25",
          "2016-10-29",
          "2016-11-17",
          "2016-11-03",
          "2016-11-21",
          "2016-11-23"
         ],
         "xaxis": "x",
         "y": [
          1.42,
          1.45,
          1.43,
          1.47,
          1.45,
          1.48,
          1.38,
          1.41,
          1.46,
          1.46,
          1.42,
          1.43,
          1.46,
          1.42,
          1.39,
          1.42,
          1.4,
          1.4,
          1.42,
          1.42,
          1.46,
          1.43,
          1.46,
          1.45,
          1.42,
          1.42,
          1.45,
          1.44,
          0.9,
          1.49,
          1.43,
          1.04,
          1.39,
          1.4,
          0.86,
          1.48,
          1.44,
          0.96,
          1.38,
          1.18,
          1.35,
          1.39,
          1.35,
          0.98,
          1.29,
          1.28,
          1.26,
          1.43,
          1.21,
          1.38,
          1.26,
          1.31,
          1.29,
          1.26,
          1.3,
          0.91,
          0.89,
          1.21,
          1.37,
          1.29,
          1.27,
          1.29,
          1.33,
          1.42,
          1.09,
          1.43,
          1.29,
          1.41,
          1.32,
          1.45,
          1.38,
          1.42,
          1.29,
          1.43,
          1.36,
          1.33,
          1.26,
          1.39,
          0.88,
          1.4,
          1.32,
          1.26,
          1.4,
          1.35,
          1.34,
          1.4,
          1.36,
          1.3,
          1.3,
          1.36,
          1.35,
          1.35,
          1.36,
          1.29,
          1.34,
          0.93,
          1.32,
          1.37,
          1.36,
          1.36,
          1.34,
          1.28,
          1.45,
          1.35,
          1.33,
          1.39,
          1.32,
          1.32,
          1.37,
          1.32,
          1.34,
          1.36,
          1.38,
          1.37,
          1.32,
          1.35,
          1.4,
          1.32
         ],
         "yaxis": "y"
        }
       ],
       "layout": {
        "legend": {
         "tracegroupgap": 0
        },
        "template": {
         "data": {
          "bar": [
           {
            "error_x": {
             "color": "#2a3f5f"
            },
            "error_y": {
             "color": "#2a3f5f"
            },
            "marker": {
             "line": {
              "color": "#E5ECF6",
              "width": 0.5
             },
             "pattern": {
              "fillmode": "overlay",
              "size": 10,
              "solidity": 0.2
             }
            },
            "type": "bar"
           }
          ],
          "barpolar": [
           {
            "marker": {
             "line": {
              "color": "#E5ECF6",
              "width": 0.5
             },
             "pattern": {
              "fillmode": "overlay",
              "size": 10,
              "solidity": 0.2
             }
            },
            "type": "barpolar"
           }
          ],
          "carpet": [
           {
            "aaxis": {
             "endlinecolor": "#2a3f5f",
             "gridcolor": "white",
             "linecolor": "white",
             "minorgridcolor": "white",
             "startlinecolor": "#2a3f5f"
            },
            "baxis": {
             "endlinecolor": "#2a3f5f",
             "gridcolor": "white",
             "linecolor": "white",
             "minorgridcolor": "white",
             "startlinecolor": "#2a3f5f"
            },
            "type": "carpet"
           }
          ],
          "choropleth": [
           {
            "colorbar": {
             "outlinewidth": 0,
             "ticks": ""
            },
            "type": "choropleth"
           }
          ],
          "contour": [
           {
            "colorbar": {
             "outlinewidth": 0,
             "ticks": ""
            },
            "colorscale": [
             [
              0,
              "#0d0887"
             ],
             [
              0.1111111111111111,
              "#46039f"
             ],
             [
              0.2222222222222222,
              "#7201a8"
             ],
             [
              0.3333333333333333,
              "#9c179e"
             ],
             [
              0.4444444444444444,
              "#bd3786"
             ],
             [
              0.5555555555555556,
              "#d8576b"
             ],
             [
              0.6666666666666666,
              "#ed7953"
             ],
             [
              0.7777777777777778,
              "#fb9f3a"
             ],
             [
              0.8888888888888888,
              "#fdca26"
             ],
             [
              1,
              "#f0f921"
             ]
            ],
            "type": "contour"
           }
          ],
          "contourcarpet": [
           {
            "colorbar": {
             "outlinewidth": 0,
             "ticks": ""
            },
            "type": "contourcarpet"
           }
          ],
          "heatmap": [
           {
            "colorbar": {
             "outlinewidth": 0,
             "ticks": ""
            },
            "colorscale": [
             [
              0,
              "#0d0887"
             ],
             [
              0.1111111111111111,
              "#46039f"
             ],
             [
              0.2222222222222222,
              "#7201a8"
             ],
             [
              0.3333333333333333,
              "#9c179e"
             ],
             [
              0.4444444444444444,
              "#bd3786"
             ],
             [
              0.5555555555555556,
              "#d8576b"
             ],
             [
              0.6666666666666666,
              "#ed7953"
             ],
             [
              0.7777777777777778,
              "#fb9f3a"
             ],
             [
              0.8888888888888888,
              "#fdca26"
             ],
             [
              1,
              "#f0f921"
             ]
            ],
            "type": "heatmap"
           }
          ],
          "heatmapgl": [
           {
            "colorbar": {
             "outlinewidth": 0,
             "ticks": ""
            },
            "colorscale": [
             [
              0,
              "#0d0887"
             ],
             [
              0.1111111111111111,
              "#46039f"
             ],
             [
              0.2222222222222222,
              "#7201a8"
             ],
             [
              0.3333333333333333,
              "#9c179e"
             ],
             [
              0.4444444444444444,
              "#bd3786"
             ],
             [
              0.5555555555555556,
              "#d8576b"
             ],
             [
              0.6666666666666666,
              "#ed7953"
             ],
             [
              0.7777777777777778,
              "#fb9f3a"
             ],
             [
              0.8888888888888888,
              "#fdca26"
             ],
             [
              1,
              "#f0f921"
             ]
            ],
            "type": "heatmapgl"
           }
          ],
          "histogram": [
           {
            "marker": {
             "pattern": {
              "fillmode": "overlay",
              "size": 10,
              "solidity": 0.2
             }
            },
            "type": "histogram"
           }
          ],
          "histogram2d": [
           {
            "colorbar": {
             "outlinewidth": 0,
             "ticks": ""
            },
            "colorscale": [
             [
              0,
              "#0d0887"
             ],
             [
              0.1111111111111111,
              "#46039f"
             ],
             [
              0.2222222222222222,
              "#7201a8"
             ],
             [
              0.3333333333333333,
              "#9c179e"
             ],
             [
              0.4444444444444444,
              "#bd3786"
             ],
             [
              0.5555555555555556,
              "#d8576b"
             ],
             [
              0.6666666666666666,
              "#ed7953"
             ],
             [
              0.7777777777777778,
              "#fb9f3a"
             ],
             [
              0.8888888888888888,
              "#fdca26"
             ],
             [
              1,
              "#f0f921"
             ]
            ],
            "type": "histogram2d"
           }
          ],
          "histogram2dcontour": [
           {
            "colorbar": {
             "outlinewidth": 0,
             "ticks": ""
            },
            "colorscale": [
             [
              0,
              "#0d0887"
             ],
             [
              0.1111111111111111,
              "#46039f"
             ],
             [
              0.2222222222222222,
              "#7201a8"
             ],
             [
              0.3333333333333333,
              "#9c179e"
             ],
             [
              0.4444444444444444,
              "#bd3786"
             ],
             [
              0.5555555555555556,
              "#d8576b"
             ],
             [
              0.6666666666666666,
              "#ed7953"
             ],
             [
              0.7777777777777778,
              "#fb9f3a"
             ],
             [
              0.8888888888888888,
              "#fdca26"
             ],
             [
              1,
              "#f0f921"
             ]
            ],
            "type": "histogram2dcontour"
           }
          ],
          "mesh3d": [
           {
            "colorbar": {
             "outlinewidth": 0,
             "ticks": ""
            },
            "type": "mesh3d"
           }
          ],
          "parcoords": [
           {
            "line": {
             "colorbar": {
              "outlinewidth": 0,
              "ticks": ""
             }
            },
            "type": "parcoords"
           }
          ],
          "pie": [
           {
            "automargin": true,
            "type": "pie"
           }
          ],
          "scatter": [
           {
            "fillpattern": {
             "fillmode": "overlay",
             "size": 10,
             "solidity": 0.2
            },
            "type": "scatter"
           }
          ],
          "scatter3d": [
           {
            "line": {
             "colorbar": {
              "outlinewidth": 0,
              "ticks": ""
             }
            },
            "marker": {
             "colorbar": {
              "outlinewidth": 0,
              "ticks": ""
             }
            },
            "type": "scatter3d"
           }
          ],
          "scattercarpet": [
           {
            "marker": {
             "colorbar": {
              "outlinewidth": 0,
              "ticks": ""
             }
            },
            "type": "scattercarpet"
           }
          ],
          "scattergeo": [
           {
            "marker": {
             "colorbar": {
              "outlinewidth": 0,
              "ticks": ""
             }
            },
            "type": "scattergeo"
           }
          ],
          "scattergl": [
           {
            "marker": {
             "colorbar": {
              "outlinewidth": 0,
              "ticks": ""
             }
            },
            "type": "scattergl"
           }
          ],
          "scattermapbox": [
           {
            "marker": {
             "colorbar": {
              "outlinewidth": 0,
              "ticks": ""
             }
            },
            "type": "scattermapbox"
           }
          ],
          "scatterpolar": [
           {
            "marker": {
             "colorbar": {
              "outlinewidth": 0,
              "ticks": ""
             }
            },
            "type": "scatterpolar"
           }
          ],
          "scatterpolargl": [
           {
            "marker": {
             "colorbar": {
              "outlinewidth": 0,
              "ticks": ""
             }
            },
            "type": "scatterpolargl"
           }
          ],
          "scatterternary": [
           {
            "marker": {
             "colorbar": {
              "outlinewidth": 0,
              "ticks": ""
             }
            },
            "type": "scatterternary"
           }
          ],
          "surface": [
           {
            "colorbar": {
             "outlinewidth": 0,
             "ticks": ""
            },
            "colorscale": [
             [
              0,
              "#0d0887"
             ],
             [
              0.1111111111111111,
              "#46039f"
             ],
             [
              0.2222222222222222,
              "#7201a8"
             ],
             [
              0.3333333333333333,
              "#9c179e"
             ],
             [
              0.4444444444444444,
              "#bd3786"
             ],
             [
              0.5555555555555556,
              "#d8576b"
             ],
             [
              0.6666666666666666,
              "#ed7953"
             ],
             [
              0.7777777777777778,
              "#fb9f3a"
             ],
             [
              0.8888888888888888,
              "#fdca26"
             ],
             [
              1,
              "#f0f921"
             ]
            ],
            "type": "surface"
           }
          ],
          "table": [
           {
            "cells": {
             "fill": {
              "color": "#EBF0F8"
             },
             "line": {
              "color": "white"
             }
            },
            "header": {
             "fill": {
              "color": "#C8D4E3"
             },
             "line": {
              "color": "white"
             }
            },
            "type": "table"
           }
          ]
         },
         "layout": {
          "annotationdefaults": {
           "arrowcolor": "#2a3f5f",
           "arrowhead": 0,
           "arrowwidth": 1
          },
          "autotypenumbers": "strict",
          "coloraxis": {
           "colorbar": {
            "outlinewidth": 0,
            "ticks": ""
           }
          },
          "colorscale": {
           "diverging": [
            [
             0,
             "#8e0152"
            ],
            [
             0.1,
             "#c51b7d"
            ],
            [
             0.2,
             "#de77ae"
            ],
            [
             0.3,
             "#f1b6da"
            ],
            [
             0.4,
             "#fde0ef"
            ],
            [
             0.5,
             "#f7f7f7"
            ],
            [
             0.6,
             "#e6f5d0"
            ],
            [
             0.7,
             "#b8e186"
            ],
            [
             0.8,
             "#7fbc41"
            ],
            [
             0.9,
             "#4d9221"
            ],
            [
             1,
             "#276419"
            ]
           ],
           "sequential": [
            [
             0,
             "#0d0887"
            ],
            [
             0.1111111111111111,
             "#46039f"
            ],
            [
             0.2222222222222222,
             "#7201a8"
            ],
            [
             0.3333333333333333,
             "#9c179e"
            ],
            [
             0.4444444444444444,
             "#bd3786"
            ],
            [
             0.5555555555555556,
             "#d8576b"
            ],
            [
             0.6666666666666666,
             "#ed7953"
            ],
            [
             0.7777777777777778,
             "#fb9f3a"
            ],
            [
             0.8888888888888888,
             "#fdca26"
            ],
            [
             1,
             "#f0f921"
            ]
           ],
           "sequentialminus": [
            [
             0,
             "#0d0887"
            ],
            [
             0.1111111111111111,
             "#46039f"
            ],
            [
             0.2222222222222222,
             "#7201a8"
            ],
            [
             0.3333333333333333,
             "#9c179e"
            ],
            [
             0.4444444444444444,
             "#bd3786"
            ],
            [
             0.5555555555555556,
             "#d8576b"
            ],
            [
             0.6666666666666666,
             "#ed7953"
            ],
            [
             0.7777777777777778,
             "#fb9f3a"
            ],
            [
             0.8888888888888888,
             "#fdca26"
            ],
            [
             1,
             "#f0f921"
            ]
           ]
          },
          "colorway": [
           "#636efa",
           "#EF553B",
           "#00cc96",
           "#ab63fa",
           "#FFA15A",
           "#19d3f3",
           "#FF6692",
           "#B6E880",
           "#FF97FF",
           "#FECB52"
          ],
          "font": {
           "color": "#2a3f5f"
          },
          "geo": {
           "bgcolor": "white",
           "lakecolor": "white",
           "landcolor": "#E5ECF6",
           "showlakes": true,
           "showland": true,
           "subunitcolor": "white"
          },
          "hoverlabel": {
           "align": "left"
          },
          "hovermode": "closest",
          "mapbox": {
           "style": "light"
          },
          "paper_bgcolor": "white",
          "plot_bgcolor": "#E5ECF6",
          "polar": {
           "angularaxis": {
            "gridcolor": "white",
            "linecolor": "white",
            "ticks": ""
           },
           "bgcolor": "#E5ECF6",
           "radialaxis": {
            "gridcolor": "white",
            "linecolor": "white",
            "ticks": ""
           }
          },
          "scene": {
           "xaxis": {
            "backgroundcolor": "#E5ECF6",
            "gridcolor": "white",
            "gridwidth": 2,
            "linecolor": "white",
            "showbackground": true,
            "ticks": "",
            "zerolinecolor": "white"
           },
           "yaxis": {
            "backgroundcolor": "#E5ECF6",
            "gridcolor": "white",
            "gridwidth": 2,
            "linecolor": "white",
            "showbackground": true,
            "ticks": "",
            "zerolinecolor": "white"
           },
           "zaxis": {
            "backgroundcolor": "#E5ECF6",
            "gridcolor": "white",
            "gridwidth": 2,
            "linecolor": "white",
            "showbackground": true,
            "ticks": "",
            "zerolinecolor": "white"
           }
          },
          "shapedefaults": {
           "line": {
            "color": "#2a3f5f"
           }
          },
          "ternary": {
           "aaxis": {
            "gridcolor": "white",
            "linecolor": "white",
            "ticks": ""
           },
           "baxis": {
            "gridcolor": "white",
            "linecolor": "white",
            "ticks": ""
           },
           "bgcolor": "#E5ECF6",
           "caxis": {
            "gridcolor": "white",
            "linecolor": "white",
            "ticks": ""
           }
          },
          "title": {
           "x": 0.05
          },
          "xaxis": {
           "automargin": true,
           "gridcolor": "white",
           "linecolor": "white",
           "ticks": "",
           "title": {
            "standoff": 15
           },
           "zerolinecolor": "white",
           "zerolinewidth": 2
          },
          "yaxis": {
           "automargin": true,
           "gridcolor": "white",
           "linecolor": "white",
           "ticks": "",
           "title": {
            "standoff": 15
           },
           "zerolinecolor": "white",
           "zerolinewidth": 2
          }
         }
        },
        "title": {
         "text": "FEV1 for id -TKpptiCA5cASNKU0VSmx4"
        },
        "xaxis": {
         "anchor": "y",
         "domain": [
          0,
          1
         ],
         "range": [
          "2015-08-05",
          "2017-04-29"
         ],
         "title": {
          "text": "Date recorded"
         }
        },
        "yaxis": {
         "anchor": "x",
         "domain": [
          0,
          1
         ],
         "title": {
          "text": "FEV1"
         }
        }
       }
      }
     },
     "metadata": {},
     "output_type": "display_data"
    },
    {
     "data": {
      "application/vnd.plotly.v1+json": {
       "config": {
        "plotlyServerURL": "https://plot.ly"
       },
       "data": [
        {
         "hovertemplate": "Date recorded=%{x}<br>FEV1=%{y}<extra></extra>",
         "legendgroup": "",
         "marker": {
          "color": "#636efa",
          "symbol": "circle"
         },
         "mode": "markers",
         "name": "",
         "orientation": "v",
         "showlegend": false,
         "type": "scatter",
         "x": [
          "2016-08-27",
          "2016-09-04",
          "2016-09-11",
          "2016-09-06",
          "2016-09-27",
          "2016-08-24",
          "2016-09-15",
          "2016-08-28",
          "2016-09-18",
          "2016-09-19",
          "2016-08-30",
          "2016-08-31",
          "2016-09-02",
          "2016-09-03",
          "2016-09-05",
          "2016-09-09",
          "2016-09-10",
          "2016-09-12",
          "2016-09-13",
          "2016-09-14",
          "2016-09-24",
          "2016-10-10",
          "2016-09-17",
          "2016-10-13",
          "2016-10-14",
          "2016-09-20",
          "2016-09-22",
          "2016-10-05",
          "2016-09-23",
          "2016-09-25",
          "2016-09-26",
          "2016-10-17",
          "2016-10-30",
          "2016-10-20",
          "2016-10-07",
          "2016-10-08",
          "2016-10-26",
          "2016-10-27",
          "2016-10-29",
          "2016-11-02",
          "2016-11-04",
          "2016-12-08",
          "2016-12-12",
          "2016-12-07",
          "2016-12-11",
          "2017-01-01",
          "2016-11-25",
          "2016-12-16",
          "2016-11-28",
          "2016-12-21",
          "2017-02-03",
          "2017-01-18"
         ],
         "xaxis": "x",
         "y": [
          2.94,
          2.82,
          3.25,
          2.99,
          3.19,
          2.97,
          3.09,
          2.7,
          3.28,
          3.04,
          2.91,
          3.03,
          3,
          2.78,
          3.08,
          3.06,
          3.17,
          3.03,
          3.06,
          3.12,
          3.35,
          3.1,
          3.31,
          3.04,
          3.2,
          3.0700000000000003,
          3.31,
          3.31,
          3.3200000000000003,
          3.27,
          3.04,
          3.03,
          2.94,
          3,
          3.28,
          3.26,
          3.12,
          3.06,
          2.98,
          3.0700000000000003,
          3.14,
          3.0700000000000003,
          3.5,
          3.26,
          3.13,
          3.3000000000000003,
          3.39,
          3.41,
          3.4,
          3.59,
          3.19,
          3.48
         ],
         "yaxis": "y"
        }
       ],
       "layout": {
        "legend": {
         "tracegroupgap": 0
        },
        "template": {
         "data": {
          "bar": [
           {
            "error_x": {
             "color": "#2a3f5f"
            },
            "error_y": {
             "color": "#2a3f5f"
            },
            "marker": {
             "line": {
              "color": "#E5ECF6",
              "width": 0.5
             },
             "pattern": {
              "fillmode": "overlay",
              "size": 10,
              "solidity": 0.2
             }
            },
            "type": "bar"
           }
          ],
          "barpolar": [
           {
            "marker": {
             "line": {
              "color": "#E5ECF6",
              "width": 0.5
             },
             "pattern": {
              "fillmode": "overlay",
              "size": 10,
              "solidity": 0.2
             }
            },
            "type": "barpolar"
           }
          ],
          "carpet": [
           {
            "aaxis": {
             "endlinecolor": "#2a3f5f",
             "gridcolor": "white",
             "linecolor": "white",
             "minorgridcolor": "white",
             "startlinecolor": "#2a3f5f"
            },
            "baxis": {
             "endlinecolor": "#2a3f5f",
             "gridcolor": "white",
             "linecolor": "white",
             "minorgridcolor": "white",
             "startlinecolor": "#2a3f5f"
            },
            "type": "carpet"
           }
          ],
          "choropleth": [
           {
            "colorbar": {
             "outlinewidth": 0,
             "ticks": ""
            },
            "type": "choropleth"
           }
          ],
          "contour": [
           {
            "colorbar": {
             "outlinewidth": 0,
             "ticks": ""
            },
            "colorscale": [
             [
              0,
              "#0d0887"
             ],
             [
              0.1111111111111111,
              "#46039f"
             ],
             [
              0.2222222222222222,
              "#7201a8"
             ],
             [
              0.3333333333333333,
              "#9c179e"
             ],
             [
              0.4444444444444444,
              "#bd3786"
             ],
             [
              0.5555555555555556,
              "#d8576b"
             ],
             [
              0.6666666666666666,
              "#ed7953"
             ],
             [
              0.7777777777777778,
              "#fb9f3a"
             ],
             [
              0.8888888888888888,
              "#fdca26"
             ],
             [
              1,
              "#f0f921"
             ]
            ],
            "type": "contour"
           }
          ],
          "contourcarpet": [
           {
            "colorbar": {
             "outlinewidth": 0,
             "ticks": ""
            },
            "type": "contourcarpet"
           }
          ],
          "heatmap": [
           {
            "colorbar": {
             "outlinewidth": 0,
             "ticks": ""
            },
            "colorscale": [
             [
              0,
              "#0d0887"
             ],
             [
              0.1111111111111111,
              "#46039f"
             ],
             [
              0.2222222222222222,
              "#7201a8"
             ],
             [
              0.3333333333333333,
              "#9c179e"
             ],
             [
              0.4444444444444444,
              "#bd3786"
             ],
             [
              0.5555555555555556,
              "#d8576b"
             ],
             [
              0.6666666666666666,
              "#ed7953"
             ],
             [
              0.7777777777777778,
              "#fb9f3a"
             ],
             [
              0.8888888888888888,
              "#fdca26"
             ],
             [
              1,
              "#f0f921"
             ]
            ],
            "type": "heatmap"
           }
          ],
          "heatmapgl": [
           {
            "colorbar": {
             "outlinewidth": 0,
             "ticks": ""
            },
            "colorscale": [
             [
              0,
              "#0d0887"
             ],
             [
              0.1111111111111111,
              "#46039f"
             ],
             [
              0.2222222222222222,
              "#7201a8"
             ],
             [
              0.3333333333333333,
              "#9c179e"
             ],
             [
              0.4444444444444444,
              "#bd3786"
             ],
             [
              0.5555555555555556,
              "#d8576b"
             ],
             [
              0.6666666666666666,
              "#ed7953"
             ],
             [
              0.7777777777777778,
              "#fb9f3a"
             ],
             [
              0.8888888888888888,
              "#fdca26"
             ],
             [
              1,
              "#f0f921"
             ]
            ],
            "type": "heatmapgl"
           }
          ],
          "histogram": [
           {
            "marker": {
             "pattern": {
              "fillmode": "overlay",
              "size": 10,
              "solidity": 0.2
             }
            },
            "type": "histogram"
           }
          ],
          "histogram2d": [
           {
            "colorbar": {
             "outlinewidth": 0,
             "ticks": ""
            },
            "colorscale": [
             [
              0,
              "#0d0887"
             ],
             [
              0.1111111111111111,
              "#46039f"
             ],
             [
              0.2222222222222222,
              "#7201a8"
             ],
             [
              0.3333333333333333,
              "#9c179e"
             ],
             [
              0.4444444444444444,
              "#bd3786"
             ],
             [
              0.5555555555555556,
              "#d8576b"
             ],
             [
              0.6666666666666666,
              "#ed7953"
             ],
             [
              0.7777777777777778,
              "#fb9f3a"
             ],
             [
              0.8888888888888888,
              "#fdca26"
             ],
             [
              1,
              "#f0f921"
             ]
            ],
            "type": "histogram2d"
           }
          ],
          "histogram2dcontour": [
           {
            "colorbar": {
             "outlinewidth": 0,
             "ticks": ""
            },
            "colorscale": [
             [
              0,
              "#0d0887"
             ],
             [
              0.1111111111111111,
              "#46039f"
             ],
             [
              0.2222222222222222,
              "#7201a8"
             ],
             [
              0.3333333333333333,
              "#9c179e"
             ],
             [
              0.4444444444444444,
              "#bd3786"
             ],
             [
              0.5555555555555556,
              "#d8576b"
             ],
             [
              0.6666666666666666,
              "#ed7953"
             ],
             [
              0.7777777777777778,
              "#fb9f3a"
             ],
             [
              0.8888888888888888,
              "#fdca26"
             ],
             [
              1,
              "#f0f921"
             ]
            ],
            "type": "histogram2dcontour"
           }
          ],
          "mesh3d": [
           {
            "colorbar": {
             "outlinewidth": 0,
             "ticks": ""
            },
            "type": "mesh3d"
           }
          ],
          "parcoords": [
           {
            "line": {
             "colorbar": {
              "outlinewidth": 0,
              "ticks": ""
             }
            },
            "type": "parcoords"
           }
          ],
          "pie": [
           {
            "automargin": true,
            "type": "pie"
           }
          ],
          "scatter": [
           {
            "fillpattern": {
             "fillmode": "overlay",
             "size": 10,
             "solidity": 0.2
            },
            "type": "scatter"
           }
          ],
          "scatter3d": [
           {
            "line": {
             "colorbar": {
              "outlinewidth": 0,
              "ticks": ""
             }
            },
            "marker": {
             "colorbar": {
              "outlinewidth": 0,
              "ticks": ""
             }
            },
            "type": "scatter3d"
           }
          ],
          "scattercarpet": [
           {
            "marker": {
             "colorbar": {
              "outlinewidth": 0,
              "ticks": ""
             }
            },
            "type": "scattercarpet"
           }
          ],
          "scattergeo": [
           {
            "marker": {
             "colorbar": {
              "outlinewidth": 0,
              "ticks": ""
             }
            },
            "type": "scattergeo"
           }
          ],
          "scattergl": [
           {
            "marker": {
             "colorbar": {
              "outlinewidth": 0,
              "ticks": ""
             }
            },
            "type": "scattergl"
           }
          ],
          "scattermapbox": [
           {
            "marker": {
             "colorbar": {
              "outlinewidth": 0,
              "ticks": ""
             }
            },
            "type": "scattermapbox"
           }
          ],
          "scatterpolar": [
           {
            "marker": {
             "colorbar": {
              "outlinewidth": 0,
              "ticks": ""
             }
            },
            "type": "scatterpolar"
           }
          ],
          "scatterpolargl": [
           {
            "marker": {
             "colorbar": {
              "outlinewidth": 0,
              "ticks": ""
             }
            },
            "type": "scatterpolargl"
           }
          ],
          "scatterternary": [
           {
            "marker": {
             "colorbar": {
              "outlinewidth": 0,
              "ticks": ""
             }
            },
            "type": "scatterternary"
           }
          ],
          "surface": [
           {
            "colorbar": {
             "outlinewidth": 0,
             "ticks": ""
            },
            "colorscale": [
             [
              0,
              "#0d0887"
             ],
             [
              0.1111111111111111,
              "#46039f"
             ],
             [
              0.2222222222222222,
              "#7201a8"
             ],
             [
              0.3333333333333333,
              "#9c179e"
             ],
             [
              0.4444444444444444,
              "#bd3786"
             ],
             [
              0.5555555555555556,
              "#d8576b"
             ],
             [
              0.6666666666666666,
              "#ed7953"
             ],
             [
              0.7777777777777778,
              "#fb9f3a"
             ],
             [
              0.8888888888888888,
              "#fdca26"
             ],
             [
              1,
              "#f0f921"
             ]
            ],
            "type": "surface"
           }
          ],
          "table": [
           {
            "cells": {
             "fill": {
              "color": "#EBF0F8"
             },
             "line": {
              "color": "white"
             }
            },
            "header": {
             "fill": {
              "color": "#C8D4E3"
             },
             "line": {
              "color": "white"
             }
            },
            "type": "table"
           }
          ]
         },
         "layout": {
          "annotationdefaults": {
           "arrowcolor": "#2a3f5f",
           "arrowhead": 0,
           "arrowwidth": 1
          },
          "autotypenumbers": "strict",
          "coloraxis": {
           "colorbar": {
            "outlinewidth": 0,
            "ticks": ""
           }
          },
          "colorscale": {
           "diverging": [
            [
             0,
             "#8e0152"
            ],
            [
             0.1,
             "#c51b7d"
            ],
            [
             0.2,
             "#de77ae"
            ],
            [
             0.3,
             "#f1b6da"
            ],
            [
             0.4,
             "#fde0ef"
            ],
            [
             0.5,
             "#f7f7f7"
            ],
            [
             0.6,
             "#e6f5d0"
            ],
            [
             0.7,
             "#b8e186"
            ],
            [
             0.8,
             "#7fbc41"
            ],
            [
             0.9,
             "#4d9221"
            ],
            [
             1,
             "#276419"
            ]
           ],
           "sequential": [
            [
             0,
             "#0d0887"
            ],
            [
             0.1111111111111111,
             "#46039f"
            ],
            [
             0.2222222222222222,
             "#7201a8"
            ],
            [
             0.3333333333333333,
             "#9c179e"
            ],
            [
             0.4444444444444444,
             "#bd3786"
            ],
            [
             0.5555555555555556,
             "#d8576b"
            ],
            [
             0.6666666666666666,
             "#ed7953"
            ],
            [
             0.7777777777777778,
             "#fb9f3a"
            ],
            [
             0.8888888888888888,
             "#fdca26"
            ],
            [
             1,
             "#f0f921"
            ]
           ],
           "sequentialminus": [
            [
             0,
             "#0d0887"
            ],
            [
             0.1111111111111111,
             "#46039f"
            ],
            [
             0.2222222222222222,
             "#7201a8"
            ],
            [
             0.3333333333333333,
             "#9c179e"
            ],
            [
             0.4444444444444444,
             "#bd3786"
            ],
            [
             0.5555555555555556,
             "#d8576b"
            ],
            [
             0.6666666666666666,
             "#ed7953"
            ],
            [
             0.7777777777777778,
             "#fb9f3a"
            ],
            [
             0.8888888888888888,
             "#fdca26"
            ],
            [
             1,
             "#f0f921"
            ]
           ]
          },
          "colorway": [
           "#636efa",
           "#EF553B",
           "#00cc96",
           "#ab63fa",
           "#FFA15A",
           "#19d3f3",
           "#FF6692",
           "#B6E880",
           "#FF97FF",
           "#FECB52"
          ],
          "font": {
           "color": "#2a3f5f"
          },
          "geo": {
           "bgcolor": "white",
           "lakecolor": "white",
           "landcolor": "#E5ECF6",
           "showlakes": true,
           "showland": true,
           "subunitcolor": "white"
          },
          "hoverlabel": {
           "align": "left"
          },
          "hovermode": "closest",
          "mapbox": {
           "style": "light"
          },
          "paper_bgcolor": "white",
          "plot_bgcolor": "#E5ECF6",
          "polar": {
           "angularaxis": {
            "gridcolor": "white",
            "linecolor": "white",
            "ticks": ""
           },
           "bgcolor": "#E5ECF6",
           "radialaxis": {
            "gridcolor": "white",
            "linecolor": "white",
            "ticks": ""
           }
          },
          "scene": {
           "xaxis": {
            "backgroundcolor": "#E5ECF6",
            "gridcolor": "white",
            "gridwidth": 2,
            "linecolor": "white",
            "showbackground": true,
            "ticks": "",
            "zerolinecolor": "white"
           },
           "yaxis": {
            "backgroundcolor": "#E5ECF6",
            "gridcolor": "white",
            "gridwidth": 2,
            "linecolor": "white",
            "showbackground": true,
            "ticks": "",
            "zerolinecolor": "white"
           },
           "zaxis": {
            "backgroundcolor": "#E5ECF6",
            "gridcolor": "white",
            "gridwidth": 2,
            "linecolor": "white",
            "showbackground": true,
            "ticks": "",
            "zerolinecolor": "white"
           }
          },
          "shapedefaults": {
           "line": {
            "color": "#2a3f5f"
           }
          },
          "ternary": {
           "aaxis": {
            "gridcolor": "white",
            "linecolor": "white",
            "ticks": ""
           },
           "baxis": {
            "gridcolor": "white",
            "linecolor": "white",
            "ticks": ""
           },
           "bgcolor": "#E5ECF6",
           "caxis": {
            "gridcolor": "white",
            "linecolor": "white",
            "ticks": ""
           }
          },
          "title": {
           "x": 0.05
          },
          "xaxis": {
           "automargin": true,
           "gridcolor": "white",
           "linecolor": "white",
           "ticks": "",
           "title": {
            "standoff": 15
           },
           "zerolinecolor": "white",
           "zerolinewidth": 2
          },
          "yaxis": {
           "automargin": true,
           "gridcolor": "white",
           "linecolor": "white",
           "ticks": "",
           "title": {
            "standoff": 15
           },
           "zerolinecolor": "white",
           "zerolinewidth": 2
          }
         }
        },
        "title": {
         "text": "FEV1 for id -Cujq-NEcld_Keu_W1-Nw5"
        },
        "xaxis": {
         "anchor": "y",
         "domain": [
          0,
          1
         ],
         "range": [
          "2015-08-05",
          "2017-04-29"
         ],
         "title": {
          "text": "Date recorded"
         }
        },
        "yaxis": {
         "anchor": "x",
         "domain": [
          0,
          1
         ],
         "title": {
          "text": "FEV1"
         }
        }
       }
      }
     },
     "metadata": {},
     "output_type": "display_data"
    },
    {
     "data": {
      "application/vnd.plotly.v1+json": {
       "config": {
        "plotlyServerURL": "https://plot.ly"
       },
       "data": [
        {
         "hovertemplate": "Date recorded=%{x}<br>FEV1=%{y}<extra></extra>",
         "legendgroup": "",
         "marker": {
          "color": "#636efa",
          "symbol": "circle"
         },
         "mode": "markers",
         "name": "",
         "orientation": "v",
         "showlegend": false,
         "type": "scatter",
         "x": [
          "2015-11-28",
          "2015-11-29",
          "2015-11-30",
          "2015-12-04",
          "2015-12-13",
          "2015-12-15",
          "2015-12-03",
          "2015-12-05",
          "2015-12-01",
          "2015-12-27",
          "2015-12-16",
          "2015-12-06",
          "2015-12-12",
          "2015-12-09",
          "2015-12-14",
          "2015-12-11",
          "2015-12-10",
          "2015-11-27",
          "2015-12-18",
          "2015-12-02",
          "2015-12-08",
          "2015-12-25",
          "2016-01-14",
          "2016-01-15",
          "2015-12-28",
          "2015-12-17",
          "2015-12-29",
          "2016-01-02",
          "2016-01-06",
          "2016-01-07",
          "2015-12-24",
          "2016-01-23",
          "2016-01-08",
          "2016-01-11",
          "2016-01-12",
          "2015-12-30",
          "2016-01-27",
          "2015-12-31",
          "2016-01-20",
          "2016-01-03",
          "2016-01-04",
          "2016-01-18",
          "2016-01-05",
          "2016-01-09",
          "2016-01-10",
          "2016-01-24",
          "2016-01-13",
          "2016-01-26",
          "2016-01-28",
          "2016-01-17",
          "2016-01-30",
          "2016-02-01",
          "2016-02-03",
          "2016-02-19",
          "2016-02-10",
          "2016-02-08",
          "2016-02-05",
          "2016-02-21",
          "2016-02-15",
          "2016-02-11",
          "2016-02-14",
          "2016-03-01",
          "2016-03-03",
          "2016-02-22",
          "2016-03-02",
          "2016-02-27",
          "2016-03-08",
          "2016-02-16",
          "2016-02-24",
          "2016-02-28",
          "2016-03-29",
          "2016-03-30",
          "2016-03-21",
          "2016-03-15",
          "2016-03-16",
          "2016-03-10",
          "2016-04-01",
          "2016-03-24",
          "2016-04-10",
          "2016-04-04",
          "2016-03-26",
          "2016-04-24",
          "2016-04-21",
          "2016-05-13",
          "2016-05-09",
          "2016-05-03",
          "2016-04-19",
          "2016-04-26",
          "2016-05-20",
          "2016-05-25",
          "2016-04-27",
          "2016-05-22",
          "2016-05-15",
          "2016-06-29",
          "2016-06-06",
          "2016-06-21",
          "2016-06-23",
          "2016-07-11"
         ],
         "xaxis": "x",
         "y": [
          1.16,
          1.2,
          1.22,
          1.2,
          1.18,
          1.19,
          1.28,
          1.16,
          1.19,
          1.27,
          1.12,
          1.22,
          0.95,
          1.2,
          1.16,
          1.18,
          1.17,
          1.1,
          1.09,
          1.25,
          1.17,
          1.24,
          1.1,
          1.1,
          1.16,
          1.18,
          1.27,
          0.85,
          0.97,
          1.15,
          1.18,
          1.17,
          1.26,
          1.3,
          1.16,
          1.24,
          1.09,
          1.22,
          1.19,
          1.08,
          1.04,
          1.2,
          1.21,
          1.13,
          1.29,
          1.13,
          1.18,
          1.1,
          1.16,
          1.17,
          1.17,
          1.2,
          1.2,
          1.24,
          1.1,
          1,
          1.19,
          1.26,
          1.12,
          1.1,
          1.14,
          1.09,
          1.19,
          1.23,
          1.23,
          1.17,
          1.12,
          1.11,
          1.18,
          1.24,
          1.11,
          1.15,
          1.14,
          1.08,
          1.18,
          1.12,
          1.21,
          1.12,
          1.19,
          1.17,
          1.17,
          1.17,
          1.11,
          1.08,
          1.21,
          1.19,
          1.13,
          1.1,
          1.2,
          1.18,
          1.22,
          1.21,
          1.1,
          1.11,
          1.16,
          1.13,
          1.29,
          1.21
         ],
         "yaxis": "y"
        }
       ],
       "layout": {
        "legend": {
         "tracegroupgap": 0
        },
        "template": {
         "data": {
          "bar": [
           {
            "error_x": {
             "color": "#2a3f5f"
            },
            "error_y": {
             "color": "#2a3f5f"
            },
            "marker": {
             "line": {
              "color": "#E5ECF6",
              "width": 0.5
             },
             "pattern": {
              "fillmode": "overlay",
              "size": 10,
              "solidity": 0.2
             }
            },
            "type": "bar"
           }
          ],
          "barpolar": [
           {
            "marker": {
             "line": {
              "color": "#E5ECF6",
              "width": 0.5
             },
             "pattern": {
              "fillmode": "overlay",
              "size": 10,
              "solidity": 0.2
             }
            },
            "type": "barpolar"
           }
          ],
          "carpet": [
           {
            "aaxis": {
             "endlinecolor": "#2a3f5f",
             "gridcolor": "white",
             "linecolor": "white",
             "minorgridcolor": "white",
             "startlinecolor": "#2a3f5f"
            },
            "baxis": {
             "endlinecolor": "#2a3f5f",
             "gridcolor": "white",
             "linecolor": "white",
             "minorgridcolor": "white",
             "startlinecolor": "#2a3f5f"
            },
            "type": "carpet"
           }
          ],
          "choropleth": [
           {
            "colorbar": {
             "outlinewidth": 0,
             "ticks": ""
            },
            "type": "choropleth"
           }
          ],
          "contour": [
           {
            "colorbar": {
             "outlinewidth": 0,
             "ticks": ""
            },
            "colorscale": [
             [
              0,
              "#0d0887"
             ],
             [
              0.1111111111111111,
              "#46039f"
             ],
             [
              0.2222222222222222,
              "#7201a8"
             ],
             [
              0.3333333333333333,
              "#9c179e"
             ],
             [
              0.4444444444444444,
              "#bd3786"
             ],
             [
              0.5555555555555556,
              "#d8576b"
             ],
             [
              0.6666666666666666,
              "#ed7953"
             ],
             [
              0.7777777777777778,
              "#fb9f3a"
             ],
             [
              0.8888888888888888,
              "#fdca26"
             ],
             [
              1,
              "#f0f921"
             ]
            ],
            "type": "contour"
           }
          ],
          "contourcarpet": [
           {
            "colorbar": {
             "outlinewidth": 0,
             "ticks": ""
            },
            "type": "contourcarpet"
           }
          ],
          "heatmap": [
           {
            "colorbar": {
             "outlinewidth": 0,
             "ticks": ""
            },
            "colorscale": [
             [
              0,
              "#0d0887"
             ],
             [
              0.1111111111111111,
              "#46039f"
             ],
             [
              0.2222222222222222,
              "#7201a8"
             ],
             [
              0.3333333333333333,
              "#9c179e"
             ],
             [
              0.4444444444444444,
              "#bd3786"
             ],
             [
              0.5555555555555556,
              "#d8576b"
             ],
             [
              0.6666666666666666,
              "#ed7953"
             ],
             [
              0.7777777777777778,
              "#fb9f3a"
             ],
             [
              0.8888888888888888,
              "#fdca26"
             ],
             [
              1,
              "#f0f921"
             ]
            ],
            "type": "heatmap"
           }
          ],
          "heatmapgl": [
           {
            "colorbar": {
             "outlinewidth": 0,
             "ticks": ""
            },
            "colorscale": [
             [
              0,
              "#0d0887"
             ],
             [
              0.1111111111111111,
              "#46039f"
             ],
             [
              0.2222222222222222,
              "#7201a8"
             ],
             [
              0.3333333333333333,
              "#9c179e"
             ],
             [
              0.4444444444444444,
              "#bd3786"
             ],
             [
              0.5555555555555556,
              "#d8576b"
             ],
             [
              0.6666666666666666,
              "#ed7953"
             ],
             [
              0.7777777777777778,
              "#fb9f3a"
             ],
             [
              0.8888888888888888,
              "#fdca26"
             ],
             [
              1,
              "#f0f921"
             ]
            ],
            "type": "heatmapgl"
           }
          ],
          "histogram": [
           {
            "marker": {
             "pattern": {
              "fillmode": "overlay",
              "size": 10,
              "solidity": 0.2
             }
            },
            "type": "histogram"
           }
          ],
          "histogram2d": [
           {
            "colorbar": {
             "outlinewidth": 0,
             "ticks": ""
            },
            "colorscale": [
             [
              0,
              "#0d0887"
             ],
             [
              0.1111111111111111,
              "#46039f"
             ],
             [
              0.2222222222222222,
              "#7201a8"
             ],
             [
              0.3333333333333333,
              "#9c179e"
             ],
             [
              0.4444444444444444,
              "#bd3786"
             ],
             [
              0.5555555555555556,
              "#d8576b"
             ],
             [
              0.6666666666666666,
              "#ed7953"
             ],
             [
              0.7777777777777778,
              "#fb9f3a"
             ],
             [
              0.8888888888888888,
              "#fdca26"
             ],
             [
              1,
              "#f0f921"
             ]
            ],
            "type": "histogram2d"
           }
          ],
          "histogram2dcontour": [
           {
            "colorbar": {
             "outlinewidth": 0,
             "ticks": ""
            },
            "colorscale": [
             [
              0,
              "#0d0887"
             ],
             [
              0.1111111111111111,
              "#46039f"
             ],
             [
              0.2222222222222222,
              "#7201a8"
             ],
             [
              0.3333333333333333,
              "#9c179e"
             ],
             [
              0.4444444444444444,
              "#bd3786"
             ],
             [
              0.5555555555555556,
              "#d8576b"
             ],
             [
              0.6666666666666666,
              "#ed7953"
             ],
             [
              0.7777777777777778,
              "#fb9f3a"
             ],
             [
              0.8888888888888888,
              "#fdca26"
             ],
             [
              1,
              "#f0f921"
             ]
            ],
            "type": "histogram2dcontour"
           }
          ],
          "mesh3d": [
           {
            "colorbar": {
             "outlinewidth": 0,
             "ticks": ""
            },
            "type": "mesh3d"
           }
          ],
          "parcoords": [
           {
            "line": {
             "colorbar": {
              "outlinewidth": 0,
              "ticks": ""
             }
            },
            "type": "parcoords"
           }
          ],
          "pie": [
           {
            "automargin": true,
            "type": "pie"
           }
          ],
          "scatter": [
           {
            "fillpattern": {
             "fillmode": "overlay",
             "size": 10,
             "solidity": 0.2
            },
            "type": "scatter"
           }
          ],
          "scatter3d": [
           {
            "line": {
             "colorbar": {
              "outlinewidth": 0,
              "ticks": ""
             }
            },
            "marker": {
             "colorbar": {
              "outlinewidth": 0,
              "ticks": ""
             }
            },
            "type": "scatter3d"
           }
          ],
          "scattercarpet": [
           {
            "marker": {
             "colorbar": {
              "outlinewidth": 0,
              "ticks": ""
             }
            },
            "type": "scattercarpet"
           }
          ],
          "scattergeo": [
           {
            "marker": {
             "colorbar": {
              "outlinewidth": 0,
              "ticks": ""
             }
            },
            "type": "scattergeo"
           }
          ],
          "scattergl": [
           {
            "marker": {
             "colorbar": {
              "outlinewidth": 0,
              "ticks": ""
             }
            },
            "type": "scattergl"
           }
          ],
          "scattermapbox": [
           {
            "marker": {
             "colorbar": {
              "outlinewidth": 0,
              "ticks": ""
             }
            },
            "type": "scattermapbox"
           }
          ],
          "scatterpolar": [
           {
            "marker": {
             "colorbar": {
              "outlinewidth": 0,
              "ticks": ""
             }
            },
            "type": "scatterpolar"
           }
          ],
          "scatterpolargl": [
           {
            "marker": {
             "colorbar": {
              "outlinewidth": 0,
              "ticks": ""
             }
            },
            "type": "scatterpolargl"
           }
          ],
          "scatterternary": [
           {
            "marker": {
             "colorbar": {
              "outlinewidth": 0,
              "ticks": ""
             }
            },
            "type": "scatterternary"
           }
          ],
          "surface": [
           {
            "colorbar": {
             "outlinewidth": 0,
             "ticks": ""
            },
            "colorscale": [
             [
              0,
              "#0d0887"
             ],
             [
              0.1111111111111111,
              "#46039f"
             ],
             [
              0.2222222222222222,
              "#7201a8"
             ],
             [
              0.3333333333333333,
              "#9c179e"
             ],
             [
              0.4444444444444444,
              "#bd3786"
             ],
             [
              0.5555555555555556,
              "#d8576b"
             ],
             [
              0.6666666666666666,
              "#ed7953"
             ],
             [
              0.7777777777777778,
              "#fb9f3a"
             ],
             [
              0.8888888888888888,
              "#fdca26"
             ],
             [
              1,
              "#f0f921"
             ]
            ],
            "type": "surface"
           }
          ],
          "table": [
           {
            "cells": {
             "fill": {
              "color": "#EBF0F8"
             },
             "line": {
              "color": "white"
             }
            },
            "header": {
             "fill": {
              "color": "#C8D4E3"
             },
             "line": {
              "color": "white"
             }
            },
            "type": "table"
           }
          ]
         },
         "layout": {
          "annotationdefaults": {
           "arrowcolor": "#2a3f5f",
           "arrowhead": 0,
           "arrowwidth": 1
          },
          "autotypenumbers": "strict",
          "coloraxis": {
           "colorbar": {
            "outlinewidth": 0,
            "ticks": ""
           }
          },
          "colorscale": {
           "diverging": [
            [
             0,
             "#8e0152"
            ],
            [
             0.1,
             "#c51b7d"
            ],
            [
             0.2,
             "#de77ae"
            ],
            [
             0.3,
             "#f1b6da"
            ],
            [
             0.4,
             "#fde0ef"
            ],
            [
             0.5,
             "#f7f7f7"
            ],
            [
             0.6,
             "#e6f5d0"
            ],
            [
             0.7,
             "#b8e186"
            ],
            [
             0.8,
             "#7fbc41"
            ],
            [
             0.9,
             "#4d9221"
            ],
            [
             1,
             "#276419"
            ]
           ],
           "sequential": [
            [
             0,
             "#0d0887"
            ],
            [
             0.1111111111111111,
             "#46039f"
            ],
            [
             0.2222222222222222,
             "#7201a8"
            ],
            [
             0.3333333333333333,
             "#9c179e"
            ],
            [
             0.4444444444444444,
             "#bd3786"
            ],
            [
             0.5555555555555556,
             "#d8576b"
            ],
            [
             0.6666666666666666,
             "#ed7953"
            ],
            [
             0.7777777777777778,
             "#fb9f3a"
            ],
            [
             0.8888888888888888,
             "#fdca26"
            ],
            [
             1,
             "#f0f921"
            ]
           ],
           "sequentialminus": [
            [
             0,
             "#0d0887"
            ],
            [
             0.1111111111111111,
             "#46039f"
            ],
            [
             0.2222222222222222,
             "#7201a8"
            ],
            [
             0.3333333333333333,
             "#9c179e"
            ],
            [
             0.4444444444444444,
             "#bd3786"
            ],
            [
             0.5555555555555556,
             "#d8576b"
            ],
            [
             0.6666666666666666,
             "#ed7953"
            ],
            [
             0.7777777777777778,
             "#fb9f3a"
            ],
            [
             0.8888888888888888,
             "#fdca26"
            ],
            [
             1,
             "#f0f921"
            ]
           ]
          },
          "colorway": [
           "#636efa",
           "#EF553B",
           "#00cc96",
           "#ab63fa",
           "#FFA15A",
           "#19d3f3",
           "#FF6692",
           "#B6E880",
           "#FF97FF",
           "#FECB52"
          ],
          "font": {
           "color": "#2a3f5f"
          },
          "geo": {
           "bgcolor": "white",
           "lakecolor": "white",
           "landcolor": "#E5ECF6",
           "showlakes": true,
           "showland": true,
           "subunitcolor": "white"
          },
          "hoverlabel": {
           "align": "left"
          },
          "hovermode": "closest",
          "mapbox": {
           "style": "light"
          },
          "paper_bgcolor": "white",
          "plot_bgcolor": "#E5ECF6",
          "polar": {
           "angularaxis": {
            "gridcolor": "white",
            "linecolor": "white",
            "ticks": ""
           },
           "bgcolor": "#E5ECF6",
           "radialaxis": {
            "gridcolor": "white",
            "linecolor": "white",
            "ticks": ""
           }
          },
          "scene": {
           "xaxis": {
            "backgroundcolor": "#E5ECF6",
            "gridcolor": "white",
            "gridwidth": 2,
            "linecolor": "white",
            "showbackground": true,
            "ticks": "",
            "zerolinecolor": "white"
           },
           "yaxis": {
            "backgroundcolor": "#E5ECF6",
            "gridcolor": "white",
            "gridwidth": 2,
            "linecolor": "white",
            "showbackground": true,
            "ticks": "",
            "zerolinecolor": "white"
           },
           "zaxis": {
            "backgroundcolor": "#E5ECF6",
            "gridcolor": "white",
            "gridwidth": 2,
            "linecolor": "white",
            "showbackground": true,
            "ticks": "",
            "zerolinecolor": "white"
           }
          },
          "shapedefaults": {
           "line": {
            "color": "#2a3f5f"
           }
          },
          "ternary": {
           "aaxis": {
            "gridcolor": "white",
            "linecolor": "white",
            "ticks": ""
           },
           "baxis": {
            "gridcolor": "white",
            "linecolor": "white",
            "ticks": ""
           },
           "bgcolor": "#E5ECF6",
           "caxis": {
            "gridcolor": "white",
            "linecolor": "white",
            "ticks": ""
           }
          },
          "title": {
           "x": 0.05
          },
          "xaxis": {
           "automargin": true,
           "gridcolor": "white",
           "linecolor": "white",
           "ticks": "",
           "title": {
            "standoff": 15
           },
           "zerolinecolor": "white",
           "zerolinewidth": 2
          },
          "yaxis": {
           "automargin": true,
           "gridcolor": "white",
           "linecolor": "white",
           "ticks": "",
           "title": {
            "standoff": 15
           },
           "zerolinecolor": "white",
           "zerolinewidth": 2
          }
         }
        },
        "title": {
         "text": "FEV1 for id -Q0Wf614z94DSTy6nXjyw7"
        },
        "xaxis": {
         "anchor": "y",
         "domain": [
          0,
          1
         ],
         "range": [
          "2015-08-05",
          "2017-04-29"
         ],
         "title": {
          "text": "Date recorded"
         }
        },
        "yaxis": {
         "anchor": "x",
         "domain": [
          0,
          1
         ],
         "title": {
          "text": "FEV1"
         }
        }
       }
      }
     },
     "metadata": {},
     "output_type": "display_data"
    }
   ],
   "source": [
    "# 303, 305, 306, 307 are the only IDs that are worht using -> with >5 measurements\n",
    "# '0HeWh64M_zc5U5l2xqzAs4', '1au5biSTt0bNWgfI0WItr5', '-TKpptiCA5cASNKU0VSmx4' '-Cujq-NEcld_Keu_W1-Nw5'\n",
    "\n",
    "# IDs with data\n",
    "wished_ids = ['0HeWh64M_zc5U5l2xqzAs4', '1au5biSTt0bNWgfI0WItr5', '-TKpptiCA5cASNKU0VSmx4', '-Cujq-NEcld_Keu_W1-Nw5', '-Q0Wf614z94DSTy6nXjyw7']\n",
    "\n",
    "# For each Patient_ID in missing_user_ids, plot FEV1\n",
    "for id in wished_ids:\n",
    "# for id in wished_ids:\n",
    "    # Scatter plot of FEV1 measurements for this id with px\n",
    "    fig = px.scatter(fev1[fev1[\"User ID\"] == id], x=\"Date recorded\", y=\"FEV1\", title=\"FEV1 for id \" + str(id))\n",
    "    # Update x axis to range of FEV1 measurements \n",
    "    fig.update_xaxes(range=[fev1[\"Date recorded\"].min(), fev1[\"Date recorded\"].max()])\n",
    "    fig.show()\n"
   ]
  },
  {
   "cell_type": "code",
   "execution_count": null,
   "metadata": {},
   "outputs": [
    {
     "name": "stdout",
     "output_type": "stream",
     "text": [
      "O2 Saturation has 14026 measurements\n"
     ]
    },
    {
     "data": {
      "application/vnd.plotly.v1+json": {
       "config": {
        "plotlyServerURL": "https://plot.ly"
       },
       "data": [
        {
         "hovertemplate": "Date recorded=%{x}<br>O2 Saturation=%{y}<extra></extra>",
         "legendgroup": "",
         "marker": {
          "color": "#636efa",
          "symbol": "circle"
         },
         "mode": "markers",
         "name": "",
         "orientation": "v",
         "showlegend": false,
         "type": "scatter",
         "x": [
          "2015-12-14",
          "2015-12-15",
          "2015-12-17",
          "2015-12-16",
          "2015-12-18",
          "2015-12-19",
          "2015-12-20",
          "2015-12-21",
          "2015-12-25",
          "2015-12-22",
          "2015-12-24",
          "2015-12-23",
          "2015-12-30",
          "2016-01-02",
          "2015-12-31",
          "2015-12-29",
          "2015-12-27",
          "2015-12-26",
          "2016-01-01",
          "2016-01-03",
          "2016-01-04",
          "2016-01-06",
          "2016-01-07",
          "2016-01-05",
          "2016-01-12",
          "2016-01-14",
          "2016-01-08",
          "2016-01-09",
          "2016-01-10",
          "2016-01-11",
          "2016-01-13",
          "2016-01-18",
          "2016-01-16",
          "2016-01-15",
          "2016-01-19",
          "2016-01-17",
          "2016-01-20",
          "2016-01-24",
          "2016-01-21",
          "2016-01-23",
          "2016-01-26",
          "2016-01-25",
          "2016-01-27",
          "2016-02-01",
          "2016-02-03",
          "2016-01-31",
          "2016-01-30",
          "2016-02-02",
          "2016-02-05",
          "2016-02-06",
          "2016-02-07",
          "2016-02-04",
          "2016-02-09",
          "2016-02-10",
          "2016-02-11",
          "2016-02-13",
          "2016-02-14",
          "2016-02-08",
          "2016-02-12",
          "2016-02-16",
          "2016-02-17",
          "2016-02-15",
          "2016-02-21",
          "2016-02-18",
          "2016-02-20",
          "2016-02-23",
          "2016-02-19",
          "2016-02-24",
          "2016-02-26",
          "2016-02-25",
          "2016-02-22",
          "2016-02-27",
          "2016-02-29",
          "2016-03-02",
          "2016-03-03",
          "2016-03-04",
          "2016-03-01",
          "2016-02-28",
          "2016-03-11",
          "2016-03-05",
          "2016-03-06",
          "2016-03-08",
          "2016-03-07",
          "2016-03-12",
          "2016-03-09",
          "2016-03-13",
          "2016-03-14",
          "2016-03-20",
          "2016-03-24",
          "2016-03-16",
          "2016-03-25",
          "2016-03-15",
          "2016-03-22",
          "2016-03-19",
          "2016-03-21",
          "2016-03-17",
          "2016-03-23",
          "2016-03-27",
          "2016-03-26",
          "2016-03-29",
          "2016-04-02",
          "2016-04-03",
          "2016-03-30",
          "2016-03-31",
          "2016-03-28",
          "2016-04-01",
          "2015-12-15",
          "2015-12-18",
          "2015-12-17",
          "2015-12-19",
          "2015-12-16",
          "2015-12-20",
          "2015-12-21",
          "2016-01-01",
          "2015-12-28",
          "2015-12-27",
          "2016-01-07",
          "2015-12-22",
          "2015-12-23",
          "2015-12-24",
          "2015-12-25",
          "2015-12-26",
          "2015-12-30",
          "2016-01-06",
          "2016-01-08",
          "2016-01-02",
          "2016-01-03",
          "2016-01-15",
          "2015-12-31",
          "2016-01-04",
          "2016-01-05",
          "2016-01-11",
          "2016-01-09",
          "2016-01-10",
          "2016-01-14",
          "2016-01-16",
          "2016-01-12",
          "2016-01-17",
          "2016-01-13",
          "2016-01-18",
          "2016-01-23",
          "2016-01-26",
          "2016-01-24",
          "2016-01-20",
          "2016-01-19",
          "2016-01-22",
          "2016-02-01",
          "2016-01-21",
          "2016-01-27",
          "2016-01-29",
          "2016-02-06",
          "2016-01-25",
          "2016-01-28",
          "2016-02-07",
          "2016-02-03",
          "2016-02-02",
          "2016-01-30",
          "2016-01-31",
          "2016-02-05",
          "2016-02-09",
          "2016-02-10",
          "2016-02-04",
          "2016-02-08",
          "2016-02-15",
          "2016-02-14",
          "2016-02-20",
          "2016-02-21",
          "2016-02-18",
          "2016-02-12",
          "2016-02-11",
          "2016-02-22",
          "2016-02-26",
          "2016-02-16",
          "2016-02-13",
          "2016-02-17",
          "2016-02-29",
          "2016-02-19",
          "2016-02-24",
          "2016-03-01",
          "2016-03-07",
          "2016-02-27",
          "2016-03-08",
          "2016-03-10",
          "2016-02-23",
          "2016-02-25",
          "2016-03-13",
          "2016-02-28",
          "2016-03-02",
          "2016-03-03",
          "2016-03-12",
          "2016-03-17",
          "2016-03-04",
          "2016-03-14",
          "2016-03-05",
          "2016-03-18",
          "2016-03-21",
          "2016-03-06",
          "2016-03-19",
          "2016-03-09",
          "2016-03-23",
          "2016-03-11",
          "2016-03-24",
          "2016-03-15",
          "2016-03-16",
          "2016-03-27",
          "2016-03-20",
          "2016-03-22",
          "2016-04-01",
          "2016-03-25",
          "2016-03-26",
          "2016-03-31",
          "2016-04-04",
          "2016-04-03",
          "2015-12-15",
          "2015-12-14",
          "2015-12-16",
          "2015-12-31",
          "2016-01-01",
          "2015-12-22",
          "2015-12-23",
          "2015-12-21",
          "2015-12-17",
          "2015-12-26",
          "2015-12-18",
          "2015-12-29",
          "2015-12-19",
          "2015-12-20",
          "2016-01-08",
          "2016-01-05",
          "2016-01-02",
          "2016-01-11",
          "2016-01-12",
          "2015-12-24",
          "2016-01-04",
          "2015-12-25",
          "2016-01-07",
          "2015-12-27",
          "2016-01-10",
          "2016-01-09",
          "2015-12-28",
          "2016-01-25",
          "2015-12-30",
          "2016-01-13",
          "2016-01-15",
          "2016-01-03",
          "2016-01-29",
          "2016-01-16",
          "2016-01-30",
          "2016-01-06",
          "2016-01-20",
          "2016-01-21",
          "2016-01-23",
          "2016-01-26",
          "2016-01-24",
          "2016-01-14",
          "2016-01-27",
          "2016-02-10",
          "2016-01-17",
          "2016-01-18",
          "2016-01-19",
          "2016-02-01",
          "2016-01-31",
          "2016-02-02",
          "2016-02-04",
          "2016-02-17",
          "2016-01-22",
          "2016-02-05",
          "2016-02-07",
          "2016-02-06",
          "2016-02-09",
          "2016-01-28",
          "2016-02-12",
          "2016-02-13",
          "2016-02-28",
          "2016-02-03",
          "2016-02-11",
          "2016-02-21",
          "2016-02-18",
          "2016-02-08",
          "2016-02-19",
          "2016-02-23",
          "2016-03-08",
          "2016-02-20",
          "2016-02-27",
          "2016-03-01",
          "2016-02-25",
          "2016-02-24",
          "2016-03-12",
          "2016-02-26",
          "2016-03-14",
          "2016-03-02",
          "2016-02-16",
          "2016-03-13",
          "2016-03-11",
          "2016-03-05",
          "2016-03-10",
          "2016-03-19",
          "2016-03-07",
          "2016-02-29",
          "2016-03-09",
          "2016-03-18",
          "2016-03-21",
          "2016-03-03",
          "2016-03-20",
          "2016-03-04",
          "2016-03-22",
          "2016-03-17",
          "2016-03-24",
          "2016-04-04",
          "2016-03-27",
          "2016-03-25",
          "2016-03-23",
          "2016-03-16",
          "2016-03-26",
          "2015-12-16",
          "2015-12-17",
          "2015-12-21",
          "2015-12-28",
          "2015-12-30",
          "2015-12-31",
          "2015-12-15",
          "2016-01-07",
          "2015-12-19",
          "2015-12-22",
          "2015-12-18",
          "2015-12-24",
          "2015-12-14",
          "2016-01-03",
          "2016-01-05",
          "2015-12-29",
          "2016-01-09",
          "2016-01-26",
          "2016-01-08",
          "2015-12-23",
          "2016-01-11",
          "2016-01-13",
          "2016-01-14",
          "2016-01-21",
          "2015-12-20",
          "2016-01-19",
          "2016-01-20",
          "2016-01-04",
          "2015-12-25",
          "2015-12-26",
          "2016-02-08",
          "2016-02-09",
          "2015-12-27",
          "2016-01-24",
          "2016-01-01",
          "2016-01-27",
          "2016-01-15",
          "2016-01-02",
          "2016-01-16",
          "2016-01-30",
          "2016-01-17",
          "2016-01-29",
          "2016-01-31",
          "2016-02-16",
          "2016-02-01",
          "2016-01-10",
          "2016-01-22",
          "2016-01-12",
          "2016-01-23",
          "2016-02-03",
          "2016-02-05",
          "2016-01-25",
          "2016-02-06",
          "2016-02-07",
          "2016-01-18",
          "2016-02-26",
          "2016-01-28",
          "2016-02-10",
          "2016-03-01",
          "2016-02-13",
          "2016-02-14",
          "2016-03-03",
          "2016-02-17",
          "2016-02-20",
          "2016-02-19",
          "2016-02-11",
          "2016-02-21",
          "2016-02-23",
          "2016-02-02",
          "2016-02-22",
          "2016-03-11",
          "2016-02-04",
          "2016-02-24",
          "2016-02-29",
          "2016-02-27",
          "2016-03-04",
          "2016-03-05",
          "2016-02-12",
          "2016-03-06",
          "2016-03-09",
          "2016-03-22",
          "2016-03-07",
          "2016-02-15",
          "2016-03-08",
          "2016-03-10",
          "2016-03-12",
          "2016-02-18",
          "2016-03-14",
          "2016-03-02",
          "2016-03-16",
          "2016-02-25",
          "2016-03-20",
          "2016-03-17",
          "2016-03-18",
          "2016-03-19",
          "2016-03-13",
          "2016-03-23",
          "2016-03-24",
          "2016-03-25",
          "2016-03-26",
          "2016-04-04",
          "2016-03-31",
          "2016-03-21",
          "2016-04-03",
          "2015-12-22",
          "2015-12-23",
          "2015-12-31",
          "2016-01-02",
          "2016-01-03",
          "2016-01-05",
          "2016-01-10",
          "2016-01-15",
          "2015-12-19",
          "2015-12-20",
          "2015-12-16",
          "2016-01-22",
          "2015-12-14",
          "2015-12-24",
          "2016-01-04",
          "2015-12-26",
          "2015-12-17",
          "2016-01-06",
          "2015-12-18",
          "2016-01-08",
          "2016-01-27",
          "2016-01-13",
          "2016-01-14",
          "2016-01-09",
          "2015-12-28",
          "2016-01-11",
          "2015-12-29",
          "2016-01-01",
          "2015-12-15",
          "2016-01-17",
          "2016-01-18",
          "2015-12-21",
          "2016-01-24",
          "2016-01-20",
          "2016-01-12",
          "2016-01-30",
          "2015-12-25",
          "2016-02-01",
          "2016-01-23",
          "2015-12-27",
          "2015-12-30",
          "2016-01-25",
          "2016-02-06",
          "2016-02-24",
          "2016-01-19",
          "2016-02-07",
          "2016-01-07",
          "2016-02-27",
          "2016-02-28",
          "2016-02-10",
          "2016-02-04",
          "2016-03-03",
          "2016-01-16",
          "2016-02-14",
          "2016-01-26",
          "2016-02-15",
          "2016-03-11",
          "2016-02-11",
          "2016-01-21",
          "2016-02-17",
          "2016-02-19",
          "2016-01-31",
          "2016-02-18",
          "2016-02-05",
          "2016-03-17",
          "2016-02-20",
          "2016-03-18",
          "2016-01-28",
          "2016-02-22",
          "2016-01-29",
          "2016-02-08",
          "2016-02-23",
          "2016-02-09",
          "2016-03-02",
          "2016-02-02",
          "2016-02-12",
          "2016-02-13",
          "2016-03-24",
          "2016-03-01",
          "2016-02-03",
          "2016-03-07",
          "2016-02-16",
          "2016-03-08",
          "2016-03-10",
          "2016-03-12",
          "2016-04-03",
          "2016-02-21",
          "2016-03-13",
          "2016-03-14",
          "2016-02-25",
          "2016-03-16",
          "2016-02-29",
          "2016-03-22",
          "2016-03-21",
          "2016-02-26",
          "2016-03-05",
          "2016-03-06",
          "2016-03-26",
          "2016-03-09",
          "2016-03-31",
          "2016-03-04",
          "2016-04-04",
          "2016-03-19",
          "2016-03-27",
          "2016-03-20",
          "2016-03-23",
          "2016-03-25",
          "2015-12-15",
          "2015-12-31",
          "2015-12-16",
          "2015-12-19",
          "2015-12-22",
          "2016-01-11",
          "2015-12-27",
          "2015-12-28",
          "2015-12-21",
          "2016-01-01",
          "2016-01-02",
          "2015-12-26",
          "2016-01-19",
          "2016-01-05",
          "2016-01-03",
          "2016-01-06",
          "2015-12-18",
          "2016-01-17",
          "2015-12-20",
          "2016-01-14",
          "2015-12-23",
          "2016-01-30",
          "2015-12-30",
          "2016-01-20",
          "2016-01-22",
          "2016-01-24",
          "2016-01-25",
          "2016-01-04",
          "2016-02-06",
          "2016-01-26",
          "2016-01-28",
          "2016-01-27",
          "2016-01-07",
          "2016-01-10",
          "2016-01-29",
          "2015-12-29",
          "2016-01-16",
          "2015-12-17",
          "2016-01-08",
          "2016-01-09",
          "2015-12-24",
          "2015-12-25",
          "2016-02-09",
          "2016-02-07",
          "2016-01-18",
          "2016-01-31",
          "2016-02-17",
          "2016-01-21",
          "2016-01-12",
          "2016-02-22",
          "2016-01-15",
          "2016-02-24",
          "2016-02-27",
          "2016-02-25",
          "2016-02-01",
          "2016-02-10",
          "2016-03-17",
          "2016-03-18",
          "2016-02-02",
          "2016-02-11",
          "2016-02-13",
          "2016-01-23",
          "2016-02-14",
          "2016-02-29",
          "2016-03-24",
          "2016-02-21",
          "2016-03-07",
          "2016-02-03",
          "2016-03-31",
          "2016-03-09",
          "2016-02-04",
          "2016-02-26",
          "2016-02-12",
          "2016-02-05",
          "2016-02-16",
          "2016-03-01",
          "2016-02-08",
          "2016-03-14",
          "2016-03-15",
          "2016-02-18",
          "2016-03-16",
          "2016-02-19",
          "2016-02-20",
          "2016-03-19",
          "2016-03-20",
          "2016-02-23",
          "2016-02-15",
          "2016-03-05",
          "2016-03-22",
          "2016-03-02",
          "2016-03-13",
          "2016-03-03",
          "2016-03-04",
          "2016-03-08",
          "2016-02-28",
          "2016-04-04",
          "2016-03-25",
          "2016-03-12",
          "2016-03-10",
          "2016-03-11",
          "2016-03-23",
          "2016-03-21",
          "2016-03-26",
          "2016-04-01",
          "2016-04-03",
          "2015-12-23",
          "2015-12-30",
          "2015-12-16",
          "2015-12-17",
          "2015-12-21",
          "2015-12-19",
          "2016-01-09",
          "2016-01-10",
          "2015-12-29",
          "2016-01-03",
          "2016-01-01",
          "2016-01-04",
          "2016-01-11",
          "2016-01-14",
          "2016-01-15",
          "2016-01-30",
          "2015-12-22",
          "2015-12-28",
          "2016-01-20",
          "2015-12-24",
          "2016-02-01",
          "2015-12-31",
          "2015-12-26",
          "2015-12-27",
          "2015-12-18",
          "2016-01-25",
          "2015-12-20",
          "2016-01-06",
          "2016-01-26",
          "2016-02-07",
          "2015-12-25",
          "2016-02-02",
          "2016-01-02",
          "2016-02-04",
          "2016-02-05",
          "2016-01-05",
          "2016-01-07",
          "2016-01-18",
          "2016-01-08",
          "2016-02-08",
          "2016-01-23",
          "2016-02-24",
          "2016-01-27",
          "2016-02-10",
          "2016-01-21",
          "2016-01-12",
          "2016-01-13",
          "2016-02-11",
          "2016-01-22",
          "2016-02-14",
          "2016-02-15",
          "2016-01-16",
          "2016-03-01",
          "2016-01-28",
          "2016-01-29",
          "2016-01-31",
          "2016-01-17",
          "2016-02-22",
          "2016-03-04",
          "2016-02-03",
          "2016-02-06",
          "2016-03-08",
          "2016-02-27",
          "2016-02-28",
          "2016-01-24",
          "2016-02-29",
          "2016-02-13",
          "2016-03-18",
          "2016-03-05",
          "2016-02-16",
          "2016-02-18",
          "2016-03-06",
          "2016-02-17",
          "2016-02-19",
          "2016-02-21",
          "2016-02-09",
          "2016-03-11",
          "2016-03-12",
          "2016-02-12",
          "2016-03-14",
          "2016-03-15",
          "2016-02-26",
          "2016-03-17",
          "2016-03-19",
          "2016-03-21",
          "2016-03-09",
          "2016-03-07",
          "2016-02-23",
          "2016-03-24",
          "2016-03-10",
          "2016-02-25",
          "2016-04-04",
          "2016-03-16",
          "2016-03-02",
          "2016-04-03",
          "2016-03-03",
          "2016-03-22",
          "2016-03-25",
          "2016-03-13",
          "2016-03-26",
          "2016-03-31",
          "2016-04-01",
          "2016-03-23",
          "2016-03-27",
          "2015-12-14",
          "2015-12-15",
          "2015-12-17",
          "2015-12-21",
          "2015-12-22",
          "2015-12-23",
          "2015-12-18",
          "2015-12-19",
          "2015-12-29",
          "2016-01-03",
          "2016-01-04",
          "2016-01-07",
          "2015-12-28",
          "2016-01-13",
          "2016-01-05",
          "2016-01-18",
          "2016-01-09",
          "2016-01-10",
          "2016-01-20",
          "2016-01-12",
          "2016-01-23",
          "2016-01-14",
          "2016-01-24",
          "2015-12-16",
          "2016-01-28",
          "2016-01-21",
          "2016-01-30",
          "2015-12-25",
          "2016-02-05",
          "2015-12-26",
          "2016-01-25",
          "2015-12-30",
          "2016-01-01",
          "2015-12-31",
          "2016-02-11",
          "2016-02-12",
          "2016-01-31",
          "2015-12-20",
          "2016-02-14",
          "2016-02-02",
          "2016-02-15",
          "2016-01-16",
          "2015-12-24",
          "2016-02-03",
          "2016-01-17",
          "2016-01-15",
          "2016-02-04",
          "2015-12-27",
          "2016-02-17",
          "2016-01-19",
          "2016-02-06",
          "2016-01-02",
          "2016-02-25",
          "2016-01-06",
          "2016-01-22",
          "2016-01-08",
          "2016-02-26",
          "2016-01-26",
          "2016-01-27",
          "2016-01-29",
          "2016-03-06",
          "2016-02-18",
          "2016-02-22",
          "2016-02-01",
          "2016-03-10",
          "2016-03-14",
          "2016-02-08",
          "2016-03-15",
          "2016-02-29",
          "2016-03-02",
          "2016-02-16",
          "2016-03-04",
          "2016-03-08",
          "2016-03-09",
          "2016-02-20",
          "2016-02-23",
          "2016-03-26",
          "2016-03-27",
          "2016-02-07",
          "2016-02-24",
          "2016-03-12",
          "2016-02-09",
          "2016-02-10",
          "2016-02-27",
          "2016-02-28",
          "2016-02-13",
          "2016-03-03",
          "2016-03-18",
          "2016-03-05",
          "2016-02-19",
          "2016-02-21",
          "2016-03-07",
          "2016-03-23",
          "2016-03-13",
          "2016-03-11",
          "2016-03-01",
          "2016-03-20",
          "2016-03-25",
          "2016-03-16",
          "2016-03-17",
          "2016-03-19",
          "2016-03-21",
          "2016-03-24",
          "2015-12-24",
          "2016-01-06",
          "2016-01-08",
          "2015-12-28",
          "2015-12-30",
          "2016-01-14",
          "2016-01-01",
          "2016-01-22",
          "2016-02-03",
          "2016-01-27",
          "2015-12-14",
          "2015-12-15",
          "2015-12-18",
          "2016-01-28",
          "2016-01-29",
          "2016-02-09",
          "2015-12-21",
          "2015-12-22",
          "2016-01-10",
          "2015-12-25",
          "2015-12-29",
          "2015-12-26",
          "2015-12-27",
          "2016-01-03",
          "2016-01-15",
          "2016-01-02",
          "2016-01-18",
          "2016-01-04",
          "2016-02-20",
          "2016-02-08",
          "2016-01-09",
          "2016-01-11",
          "2016-01-16",
          "2016-01-13",
          "2016-02-26",
          "2016-01-17",
          "2016-01-30",
          "2015-12-16",
          "2015-12-17",
          "2015-12-20",
          "2016-02-24",
          "2016-02-01",
          "2016-03-06",
          "2015-12-23",
          "2016-01-24",
          "2016-01-21",
          "2016-03-08",
          "2015-12-31",
          "2016-01-23",
          "2016-02-28",
          "2016-02-06",
          "2016-02-07",
          "2016-01-05",
          "2016-03-02",
          "2016-01-07",
          "2016-03-13",
          "2016-01-31",
          "2016-03-15",
          "2016-02-02",
          "2016-02-13",
          "2016-02-04",
          "2016-02-05",
          "2016-01-12",
          "2016-02-16",
          "2016-03-21",
          "2016-02-10",
          "2016-01-19",
          "2016-01-20",
          "2016-02-11",
          "2016-03-23",
          "2016-02-14",
          "2016-02-15",
          "2016-02-25",
          "2016-03-27",
          "2016-02-17",
          "2016-02-18",
          "2016-02-19",
          "2016-01-25",
          "2016-03-01",
          "2016-02-21",
          "2016-01-26",
          "2016-03-26",
          "2016-03-03",
          "2016-03-04",
          "2016-03-31",
          "2016-04-01",
          "2016-03-11",
          "2016-02-27",
          "2016-02-12",
          "2016-03-07",
          "2016-03-05",
          "2016-03-10",
          "2016-02-22",
          "2016-03-09",
          "2016-02-23",
          "2016-03-14",
          "2016-03-12",
          "2016-03-20",
          "2016-03-22",
          "2016-04-03",
          "2016-03-24",
          "2016-03-25",
          "2016-03-16",
          "2016-03-17",
          "2016-03-18",
          "2016-03-19",
          "2016-04-04"
         ],
         "xaxis": "x",
         "y": [
          null,
          null,
          null,
          null,
          null,
          null,
          null,
          null,
          null,
          null,
          null,
          null,
          null,
          null,
          null,
          null,
          null,
          null,
          null,
          null,
          null,
          null,
          null,
          null,
          null,
          null,
          null,
          null,
          null,
          null,
          null,
          null,
          null,
          null,
          null,
          null,
          null,
          null,
          null,
          null,
          null,
          null,
          null,
          null,
          null,
          null,
          null,
          null,
          null,
          null,
          null,
          null,
          null,
          null,
          null,
          null,
          null,
          null,
          null,
          null,
          null,
          null,
          null,
          null,
          null,
          null,
          null,
          null,
          null,
          null,
          null,
          null,
          null,
          null,
          null,
          null,
          null,
          null,
          null,
          null,
          null,
          null,
          null,
          null,
          null,
          null,
          null,
          null,
          null,
          null,
          null,
          null,
          null,
          null,
          null,
          null,
          null,
          null,
          null,
          null,
          null,
          null,
          null,
          null,
          null,
          null,
          null,
          null,
          null,
          null,
          null,
          null,
          null,
          null,
          null,
          null,
          null,
          null,
          null,
          null,
          null,
          null,
          null,
          null,
          null,
          null,
          null,
          null,
          null,
          null,
          null,
          null,
          null,
          null,
          null,
          null,
          null,
          null,
          null,
          null,
          null,
          null,
          null,
          null,
          null,
          null,
          null,
          null,
          null,
          null,
          null,
          null,
          null,
          null,
          null,
          null,
          null,
          null,
          null,
          null,
          null,
          null,
          null,
          null,
          null,
          null,
          null,
          null,
          null,
          null,
          null,
          null,
          null,
          null,
          null,
          null,
          null,
          null,
          null,
          null,
          null,
          null,
          null,
          null,
          null,
          null,
          null,
          null,
          null,
          null,
          null,
          null,
          null,
          null,
          null,
          null,
          null,
          null,
          null,
          null,
          null,
          null,
          null,
          null,
          null,
          null,
          null,
          null,
          null,
          null,
          null,
          null,
          null,
          null,
          null,
          null,
          null,
          null,
          null,
          null,
          null,
          null,
          null,
          null,
          null,
          null,
          null,
          null,
          null,
          null,
          null,
          null,
          null,
          null,
          null,
          null,
          null,
          null,
          null,
          null,
          null,
          null,
          null,
          null,
          null,
          null,
          null,
          null,
          null,
          null,
          null,
          null,
          null,
          null,
          null,
          null,
          null,
          null,
          null,
          null,
          null,
          null,
          null,
          null,
          null,
          null,
          null,
          null,
          null,
          null,
          null,
          null,
          null,
          null,
          null,
          null,
          null,
          null,
          null,
          null,
          null,
          null,
          null,
          null,
          null,
          null,
          null,
          null,
          null,
          null,
          null,
          null,
          null,
          null,
          null,
          null,
          null,
          null,
          null,
          null,
          null,
          null,
          null,
          null,
          null,
          null,
          null,
          null,
          null,
          null,
          null,
          null,
          null,
          null,
          98,
          96,
          98,
          96,
          96,
          97,
          97,
          99,
          95,
          97,
          98,
          97,
          96,
          98,
          97,
          98,
          97,
          97,
          97,
          96,
          97,
          98,
          96,
          97,
          98,
          98,
          97,
          97,
          96,
          96,
          97,
          97,
          96,
          97,
          97,
          98,
          98,
          96,
          97,
          98,
          98,
          98,
          98,
          98,
          98,
          98,
          97,
          98,
          98,
          96,
          98,
          98,
          96,
          98,
          98,
          98,
          98,
          97,
          97,
          97,
          95,
          97,
          98,
          98,
          98,
          98,
          97,
          98,
          97,
          97,
          98,
          98,
          97,
          98,
          98,
          97,
          98,
          98,
          95,
          96,
          96,
          98,
          97,
          96,
          97,
          97,
          98,
          96,
          96,
          97,
          98,
          98,
          98,
          98,
          97,
          96,
          98,
          96,
          96,
          98,
          95,
          96,
          97,
          95,
          null,
          null,
          null,
          null,
          null,
          null,
          null,
          null,
          null,
          null,
          null,
          null,
          null,
          null,
          null,
          null,
          null,
          null,
          null,
          null,
          null,
          null,
          null,
          null,
          null,
          null,
          null,
          null,
          null,
          null,
          null,
          null,
          null,
          null,
          null,
          null,
          null,
          null,
          null,
          null,
          null,
          null,
          null,
          null,
          null,
          null,
          null,
          null,
          null,
          null,
          null,
          null,
          null,
          null,
          null,
          null,
          null,
          null,
          null,
          null,
          null,
          null,
          null,
          null,
          null,
          null,
          null,
          null,
          null,
          null,
          null,
          null,
          null,
          null,
          null,
          null,
          null,
          null,
          null,
          null,
          null,
          null,
          null,
          null,
          null,
          null,
          null,
          null,
          null,
          null,
          null,
          null,
          null,
          null,
          null,
          null,
          null,
          null,
          null,
          null,
          null,
          null,
          null,
          null,
          null,
          null,
          null,
          null,
          null,
          null,
          null,
          null,
          null,
          null,
          null,
          null,
          null,
          null,
          null,
          null,
          null,
          null,
          null,
          null,
          null,
          null,
          null,
          null,
          null,
          null,
          null,
          null,
          null,
          null,
          null,
          null,
          null,
          null,
          null,
          null,
          null,
          null,
          null,
          null,
          null,
          null,
          null,
          null,
          null,
          null,
          null,
          null,
          null,
          null,
          null,
          null,
          null,
          null,
          null,
          null,
          null,
          null,
          null,
          null,
          null,
          null,
          null,
          null,
          null,
          null,
          null,
          null,
          null,
          null,
          null,
          null,
          null,
          null,
          null,
          null,
          null,
          null,
          null,
          null,
          null,
          null,
          null,
          null,
          null,
          null,
          null,
          null,
          null,
          null,
          null,
          null,
          null,
          null,
          null,
          null,
          null,
          null,
          null,
          null,
          null,
          null,
          null,
          null,
          null,
          null,
          null,
          null,
          null,
          null,
          null,
          null,
          null,
          null,
          null,
          null,
          null,
          null,
          null,
          null,
          null,
          null,
          null,
          null,
          null,
          null,
          null,
          null,
          null,
          null,
          null,
          null,
          null,
          null,
          null,
          null,
          null,
          null,
          null,
          null,
          null,
          null,
          null,
          null,
          null,
          null,
          null,
          null,
          null,
          null,
          null,
          null,
          null,
          null,
          null,
          null,
          null,
          null,
          null,
          null,
          null,
          null,
          null,
          null,
          null,
          null,
          null,
          null,
          null,
          null,
          null,
          null,
          null,
          null,
          null,
          null,
          null,
          null,
          null,
          null,
          null,
          null,
          null,
          null,
          null,
          null,
          null,
          null,
          null,
          null,
          null,
          null,
          null,
          null,
          null,
          null,
          null,
          null,
          null,
          null,
          null,
          null,
          null,
          null,
          null,
          null,
          null,
          null,
          null,
          null,
          null,
          null,
          null,
          null,
          null,
          null,
          null,
          null,
          null,
          null,
          null,
          null,
          null,
          null,
          null,
          null,
          null,
          null,
          null,
          null,
          null,
          null,
          null,
          null,
          null,
          null,
          null,
          null,
          null,
          null,
          null,
          null,
          null,
          null,
          null,
          null,
          null,
          null,
          null,
          null,
          null,
          null,
          null,
          null,
          null,
          null,
          null,
          null,
          null,
          null,
          null,
          null,
          null,
          null,
          null,
          null,
          null,
          null,
          null,
          null,
          null,
          null,
          null,
          null,
          null,
          null,
          null,
          null,
          null,
          null,
          null,
          null,
          null,
          null,
          null,
          null,
          null,
          null,
          null,
          null,
          null,
          null,
          null,
          null,
          null,
          null,
          null,
          null,
          null,
          null,
          null,
          null,
          null,
          null,
          null,
          null,
          null,
          null,
          null,
          null,
          null,
          null,
          null,
          null,
          null,
          null,
          null,
          null,
          null,
          null,
          null,
          null,
          null,
          null,
          null,
          null,
          null,
          null,
          null,
          null,
          null,
          null,
          null,
          null,
          null,
          null,
          null,
          null,
          null,
          null,
          null,
          null,
          null,
          null,
          null,
          null,
          null,
          null,
          null,
          null,
          null,
          null,
          null,
          null,
          null,
          null,
          null,
          null,
          null,
          null,
          null,
          null,
          null,
          null,
          null,
          null,
          null,
          null,
          null,
          null,
          null,
          null,
          null,
          null,
          null,
          null,
          null,
          null,
          null,
          null,
          null,
          null,
          null,
          null,
          null,
          null,
          null,
          null,
          null,
          null,
          null,
          null,
          null,
          null,
          null,
          null,
          null,
          null,
          null,
          null,
          null,
          null,
          null,
          null,
          null,
          null,
          null,
          null,
          null,
          null,
          null,
          null,
          null,
          null,
          null,
          null,
          null,
          null,
          null,
          null,
          null,
          null
         ],
         "yaxis": "y"
        }
       ],
       "layout": {
        "legend": {
         "tracegroupgap": 0
        },
        "template": {
         "data": {
          "bar": [
           {
            "error_x": {
             "color": "#2a3f5f"
            },
            "error_y": {
             "color": "#2a3f5f"
            },
            "marker": {
             "line": {
              "color": "#E5ECF6",
              "width": 0.5
             },
             "pattern": {
              "fillmode": "overlay",
              "size": 10,
              "solidity": 0.2
             }
            },
            "type": "bar"
           }
          ],
          "barpolar": [
           {
            "marker": {
             "line": {
              "color": "#E5ECF6",
              "width": 0.5
             },
             "pattern": {
              "fillmode": "overlay",
              "size": 10,
              "solidity": 0.2
             }
            },
            "type": "barpolar"
           }
          ],
          "carpet": [
           {
            "aaxis": {
             "endlinecolor": "#2a3f5f",
             "gridcolor": "white",
             "linecolor": "white",
             "minorgridcolor": "white",
             "startlinecolor": "#2a3f5f"
            },
            "baxis": {
             "endlinecolor": "#2a3f5f",
             "gridcolor": "white",
             "linecolor": "white",
             "minorgridcolor": "white",
             "startlinecolor": "#2a3f5f"
            },
            "type": "carpet"
           }
          ],
          "choropleth": [
           {
            "colorbar": {
             "outlinewidth": 0,
             "ticks": ""
            },
            "type": "choropleth"
           }
          ],
          "contour": [
           {
            "colorbar": {
             "outlinewidth": 0,
             "ticks": ""
            },
            "colorscale": [
             [
              0,
              "#0d0887"
             ],
             [
              0.1111111111111111,
              "#46039f"
             ],
             [
              0.2222222222222222,
              "#7201a8"
             ],
             [
              0.3333333333333333,
              "#9c179e"
             ],
             [
              0.4444444444444444,
              "#bd3786"
             ],
             [
              0.5555555555555556,
              "#d8576b"
             ],
             [
              0.6666666666666666,
              "#ed7953"
             ],
             [
              0.7777777777777778,
              "#fb9f3a"
             ],
             [
              0.8888888888888888,
              "#fdca26"
             ],
             [
              1,
              "#f0f921"
             ]
            ],
            "type": "contour"
           }
          ],
          "contourcarpet": [
           {
            "colorbar": {
             "outlinewidth": 0,
             "ticks": ""
            },
            "type": "contourcarpet"
           }
          ],
          "heatmap": [
           {
            "colorbar": {
             "outlinewidth": 0,
             "ticks": ""
            },
            "colorscale": [
             [
              0,
              "#0d0887"
             ],
             [
              0.1111111111111111,
              "#46039f"
             ],
             [
              0.2222222222222222,
              "#7201a8"
             ],
             [
              0.3333333333333333,
              "#9c179e"
             ],
             [
              0.4444444444444444,
              "#bd3786"
             ],
             [
              0.5555555555555556,
              "#d8576b"
             ],
             [
              0.6666666666666666,
              "#ed7953"
             ],
             [
              0.7777777777777778,
              "#fb9f3a"
             ],
             [
              0.8888888888888888,
              "#fdca26"
             ],
             [
              1,
              "#f0f921"
             ]
            ],
            "type": "heatmap"
           }
          ],
          "heatmapgl": [
           {
            "colorbar": {
             "outlinewidth": 0,
             "ticks": ""
            },
            "colorscale": [
             [
              0,
              "#0d0887"
             ],
             [
              0.1111111111111111,
              "#46039f"
             ],
             [
              0.2222222222222222,
              "#7201a8"
             ],
             [
              0.3333333333333333,
              "#9c179e"
             ],
             [
              0.4444444444444444,
              "#bd3786"
             ],
             [
              0.5555555555555556,
              "#d8576b"
             ],
             [
              0.6666666666666666,
              "#ed7953"
             ],
             [
              0.7777777777777778,
              "#fb9f3a"
             ],
             [
              0.8888888888888888,
              "#fdca26"
             ],
             [
              1,
              "#f0f921"
             ]
            ],
            "type": "heatmapgl"
           }
          ],
          "histogram": [
           {
            "marker": {
             "pattern": {
              "fillmode": "overlay",
              "size": 10,
              "solidity": 0.2
             }
            },
            "type": "histogram"
           }
          ],
          "histogram2d": [
           {
            "colorbar": {
             "outlinewidth": 0,
             "ticks": ""
            },
            "colorscale": [
             [
              0,
              "#0d0887"
             ],
             [
              0.1111111111111111,
              "#46039f"
             ],
             [
              0.2222222222222222,
              "#7201a8"
             ],
             [
              0.3333333333333333,
              "#9c179e"
             ],
             [
              0.4444444444444444,
              "#bd3786"
             ],
             [
              0.5555555555555556,
              "#d8576b"
             ],
             [
              0.6666666666666666,
              "#ed7953"
             ],
             [
              0.7777777777777778,
              "#fb9f3a"
             ],
             [
              0.8888888888888888,
              "#fdca26"
             ],
             [
              1,
              "#f0f921"
             ]
            ],
            "type": "histogram2d"
           }
          ],
          "histogram2dcontour": [
           {
            "colorbar": {
             "outlinewidth": 0,
             "ticks": ""
            },
            "colorscale": [
             [
              0,
              "#0d0887"
             ],
             [
              0.1111111111111111,
              "#46039f"
             ],
             [
              0.2222222222222222,
              "#7201a8"
             ],
             [
              0.3333333333333333,
              "#9c179e"
             ],
             [
              0.4444444444444444,
              "#bd3786"
             ],
             [
              0.5555555555555556,
              "#d8576b"
             ],
             [
              0.6666666666666666,
              "#ed7953"
             ],
             [
              0.7777777777777778,
              "#fb9f3a"
             ],
             [
              0.8888888888888888,
              "#fdca26"
             ],
             [
              1,
              "#f0f921"
             ]
            ],
            "type": "histogram2dcontour"
           }
          ],
          "mesh3d": [
           {
            "colorbar": {
             "outlinewidth": 0,
             "ticks": ""
            },
            "type": "mesh3d"
           }
          ],
          "parcoords": [
           {
            "line": {
             "colorbar": {
              "outlinewidth": 0,
              "ticks": ""
             }
            },
            "type": "parcoords"
           }
          ],
          "pie": [
           {
            "automargin": true,
            "type": "pie"
           }
          ],
          "scatter": [
           {
            "fillpattern": {
             "fillmode": "overlay",
             "size": 10,
             "solidity": 0.2
            },
            "type": "scatter"
           }
          ],
          "scatter3d": [
           {
            "line": {
             "colorbar": {
              "outlinewidth": 0,
              "ticks": ""
             }
            },
            "marker": {
             "colorbar": {
              "outlinewidth": 0,
              "ticks": ""
             }
            },
            "type": "scatter3d"
           }
          ],
          "scattercarpet": [
           {
            "marker": {
             "colorbar": {
              "outlinewidth": 0,
              "ticks": ""
             }
            },
            "type": "scattercarpet"
           }
          ],
          "scattergeo": [
           {
            "marker": {
             "colorbar": {
              "outlinewidth": 0,
              "ticks": ""
             }
            },
            "type": "scattergeo"
           }
          ],
          "scattergl": [
           {
            "marker": {
             "colorbar": {
              "outlinewidth": 0,
              "ticks": ""
             }
            },
            "type": "scattergl"
           }
          ],
          "scattermapbox": [
           {
            "marker": {
             "colorbar": {
              "outlinewidth": 0,
              "ticks": ""
             }
            },
            "type": "scattermapbox"
           }
          ],
          "scatterpolar": [
           {
            "marker": {
             "colorbar": {
              "outlinewidth": 0,
              "ticks": ""
             }
            },
            "type": "scatterpolar"
           }
          ],
          "scatterpolargl": [
           {
            "marker": {
             "colorbar": {
              "outlinewidth": 0,
              "ticks": ""
             }
            },
            "type": "scatterpolargl"
           }
          ],
          "scatterternary": [
           {
            "marker": {
             "colorbar": {
              "outlinewidth": 0,
              "ticks": ""
             }
            },
            "type": "scatterternary"
           }
          ],
          "surface": [
           {
            "colorbar": {
             "outlinewidth": 0,
             "ticks": ""
            },
            "colorscale": [
             [
              0,
              "#0d0887"
             ],
             [
              0.1111111111111111,
              "#46039f"
             ],
             [
              0.2222222222222222,
              "#7201a8"
             ],
             [
              0.3333333333333333,
              "#9c179e"
             ],
             [
              0.4444444444444444,
              "#bd3786"
             ],
             [
              0.5555555555555556,
              "#d8576b"
             ],
             [
              0.6666666666666666,
              "#ed7953"
             ],
             [
              0.7777777777777778,
              "#fb9f3a"
             ],
             [
              0.8888888888888888,
              "#fdca26"
             ],
             [
              1,
              "#f0f921"
             ]
            ],
            "type": "surface"
           }
          ],
          "table": [
           {
            "cells": {
             "fill": {
              "color": "#EBF0F8"
             },
             "line": {
              "color": "white"
             }
            },
            "header": {
             "fill": {
              "color": "#C8D4E3"
             },
             "line": {
              "color": "white"
             }
            },
            "type": "table"
           }
          ]
         },
         "layout": {
          "annotationdefaults": {
           "arrowcolor": "#2a3f5f",
           "arrowhead": 0,
           "arrowwidth": 1
          },
          "autotypenumbers": "strict",
          "coloraxis": {
           "colorbar": {
            "outlinewidth": 0,
            "ticks": ""
           }
          },
          "colorscale": {
           "diverging": [
            [
             0,
             "#8e0152"
            ],
            [
             0.1,
             "#c51b7d"
            ],
            [
             0.2,
             "#de77ae"
            ],
            [
             0.3,
             "#f1b6da"
            ],
            [
             0.4,
             "#fde0ef"
            ],
            [
             0.5,
             "#f7f7f7"
            ],
            [
             0.6,
             "#e6f5d0"
            ],
            [
             0.7,
             "#b8e186"
            ],
            [
             0.8,
             "#7fbc41"
            ],
            [
             0.9,
             "#4d9221"
            ],
            [
             1,
             "#276419"
            ]
           ],
           "sequential": [
            [
             0,
             "#0d0887"
            ],
            [
             0.1111111111111111,
             "#46039f"
            ],
            [
             0.2222222222222222,
             "#7201a8"
            ],
            [
             0.3333333333333333,
             "#9c179e"
            ],
            [
             0.4444444444444444,
             "#bd3786"
            ],
            [
             0.5555555555555556,
             "#d8576b"
            ],
            [
             0.6666666666666666,
             "#ed7953"
            ],
            [
             0.7777777777777778,
             "#fb9f3a"
            ],
            [
             0.8888888888888888,
             "#fdca26"
            ],
            [
             1,
             "#f0f921"
            ]
           ],
           "sequentialminus": [
            [
             0,
             "#0d0887"
            ],
            [
             0.1111111111111111,
             "#46039f"
            ],
            [
             0.2222222222222222,
             "#7201a8"
            ],
            [
             0.3333333333333333,
             "#9c179e"
            ],
            [
             0.4444444444444444,
             "#bd3786"
            ],
            [
             0.5555555555555556,
             "#d8576b"
            ],
            [
             0.6666666666666666,
             "#ed7953"
            ],
            [
             0.7777777777777778,
             "#fb9f3a"
            ],
            [
             0.8888888888888888,
             "#fdca26"
            ],
            [
             1,
             "#f0f921"
            ]
           ]
          },
          "colorway": [
           "#636efa",
           "#EF553B",
           "#00cc96",
           "#ab63fa",
           "#FFA15A",
           "#19d3f3",
           "#FF6692",
           "#B6E880",
           "#FF97FF",
           "#FECB52"
          ],
          "font": {
           "color": "#2a3f5f"
          },
          "geo": {
           "bgcolor": "white",
           "lakecolor": "white",
           "landcolor": "#E5ECF6",
           "showlakes": true,
           "showland": true,
           "subunitcolor": "white"
          },
          "hoverlabel": {
           "align": "left"
          },
          "hovermode": "closest",
          "mapbox": {
           "style": "light"
          },
          "paper_bgcolor": "white",
          "plot_bgcolor": "#E5ECF6",
          "polar": {
           "angularaxis": {
            "gridcolor": "white",
            "linecolor": "white",
            "ticks": ""
           },
           "bgcolor": "#E5ECF6",
           "radialaxis": {
            "gridcolor": "white",
            "linecolor": "white",
            "ticks": ""
           }
          },
          "scene": {
           "xaxis": {
            "backgroundcolor": "#E5ECF6",
            "gridcolor": "white",
            "gridwidth": 2,
            "linecolor": "white",
            "showbackground": true,
            "ticks": "",
            "zerolinecolor": "white"
           },
           "yaxis": {
            "backgroundcolor": "#E5ECF6",
            "gridcolor": "white",
            "gridwidth": 2,
            "linecolor": "white",
            "showbackground": true,
            "ticks": "",
            "zerolinecolor": "white"
           },
           "zaxis": {
            "backgroundcolor": "#E5ECF6",
            "gridcolor": "white",
            "gridwidth": 2,
            "linecolor": "white",
            "showbackground": true,
            "ticks": "",
            "zerolinecolor": "white"
           }
          },
          "shapedefaults": {
           "line": {
            "color": "#2a3f5f"
           }
          },
          "ternary": {
           "aaxis": {
            "gridcolor": "white",
            "linecolor": "white",
            "ticks": ""
           },
           "baxis": {
            "gridcolor": "white",
            "linecolor": "white",
            "ticks": ""
           },
           "bgcolor": "#E5ECF6",
           "caxis": {
            "gridcolor": "white",
            "linecolor": "white",
            "ticks": ""
           }
          },
          "title": {
           "x": 0.05
          },
          "xaxis": {
           "automargin": true,
           "gridcolor": "white",
           "linecolor": "white",
           "ticks": "",
           "title": {
            "standoff": 15
           },
           "zerolinecolor": "white",
           "zerolinewidth": 2
          },
          "yaxis": {
           "automargin": true,
           "gridcolor": "white",
           "linecolor": "white",
           "ticks": "",
           "title": {
            "standoff": 15
           },
           "zerolinecolor": "white",
           "zerolinewidth": 2
          }
         }
        },
        "title": {
         "text": "O2 Saturation for id 0HeWh64M_zc5U5l2xqzAs4"
        },
        "xaxis": {
         "anchor": "y",
         "domain": [
          0,
          1
         ],
         "range": [
          "2015-08-04",
          "2017-04-30"
         ],
         "title": {
          "text": "Date recorded"
         }
        },
        "yaxis": {
         "anchor": "x",
         "domain": [
          0,
          1
         ],
         "title": {
          "text": "O2 Saturation"
         }
        }
       }
      }
     },
     "metadata": {},
     "output_type": "display_data"
    },
    {
     "data": {
      "application/vnd.plotly.v1+json": {
       "config": {
        "plotlyServerURL": "https://plot.ly"
       },
       "data": [
        {
         "hovertemplate": "Date recorded=%{x}<br>O2 Saturation=%{y}<extra></extra>",
         "legendgroup": "",
         "marker": {
          "color": "#636efa",
          "symbol": "circle"
         },
         "mode": "markers",
         "name": "",
         "showlegend": false,
         "type": "scattergl",
         "x": [
          "2016-01-21",
          "2016-01-19",
          "2016-01-23",
          "2016-01-24",
          "2016-01-22",
          "2016-01-25",
          "2016-01-26",
          "2016-01-27",
          "2016-01-28",
          "2016-01-29",
          "2016-01-31",
          "2016-02-03",
          "2016-01-30",
          "2016-02-04",
          "2016-02-06",
          "2016-02-02",
          "2016-02-01",
          "2016-02-07",
          "2016-02-05",
          "2016-02-10",
          "2016-02-11",
          "2016-02-08",
          "2016-02-09",
          "2016-02-12",
          "2016-02-15",
          "2016-02-14",
          "2016-02-16",
          "2016-02-13",
          "2016-02-17",
          "2016-02-19",
          "2016-02-18",
          "2016-02-20",
          "2016-02-25",
          "2016-02-28",
          "2016-02-24",
          "2016-02-29",
          "2016-02-26",
          "2016-02-27",
          "2016-03-01",
          "2016-03-03",
          "2016-03-04",
          "2016-03-02",
          "2016-03-05",
          "2016-03-08",
          "2016-03-10",
          "2016-03-06",
          "2016-03-12",
          "2016-03-07",
          "2016-03-11",
          "2016-03-14",
          "2016-03-09",
          "2016-03-15",
          "2016-03-13",
          "2016-03-18",
          "2016-03-24",
          "2016-03-21",
          "2016-03-20",
          "2016-03-16",
          "2016-03-17",
          "2016-03-23",
          "2016-03-22",
          "2016-03-25",
          "2016-03-26",
          "2016-03-28",
          "2016-03-31",
          "2016-03-29",
          "2016-03-27",
          "2016-04-03",
          "2016-04-04",
          "2016-03-30",
          "2016-04-01",
          "2016-04-02",
          "2016-04-10",
          "2016-04-12",
          "2016-04-05",
          "2016-04-08",
          "2016-04-07",
          "2016-04-06",
          "2016-04-16",
          "2016-04-11",
          "2016-04-17",
          "2016-04-13",
          "2016-04-14",
          "2016-04-18",
          "2016-04-15",
          "2016-04-26",
          "2016-04-19",
          "2016-04-27",
          "2016-04-21",
          "2016-04-20",
          "2016-04-28",
          "2016-04-23",
          "2016-04-24",
          "2016-04-29",
          "2016-04-25",
          "2016-04-22",
          "2016-05-03",
          "2016-05-09",
          "2016-05-01",
          "2016-05-08",
          "2016-05-04",
          "2016-05-02",
          "2016-05-13",
          "2016-05-05",
          "2016-05-10",
          "2016-05-17",
          "2016-05-06",
          "2016-05-11",
          "2016-05-14",
          "2016-05-15",
          "2016-05-07",
          "2016-05-12",
          "2016-05-25",
          "2016-05-26",
          "2016-05-16",
          "2016-05-24",
          "2016-05-31",
          "2016-05-19",
          "2016-06-01",
          "2016-06-02",
          "2016-05-18",
          "2016-05-20",
          "2016-05-23",
          "2016-05-21",
          "2016-05-22",
          "2016-05-29",
          "2016-06-09",
          "2016-05-30",
          "2016-05-27",
          "2016-06-11",
          "2016-06-03",
          "2016-06-07",
          "2016-06-17",
          "2016-06-06",
          "2016-06-04",
          "2016-06-08",
          "2016-06-05",
          "2016-06-15",
          "2016-06-24",
          "2016-06-25",
          "2016-06-10",
          "2016-06-12",
          "2016-06-26",
          "2016-06-21",
          "2016-06-13",
          "2016-06-14",
          "2016-06-18",
          "2016-06-16",
          "2016-06-19",
          "2016-06-20",
          "2016-06-22",
          "2016-06-23",
          "2016-06-27",
          "2016-06-28",
          "2016-06-29",
          "2016-06-30",
          "2016-01-21",
          "2016-01-26",
          "2016-01-29",
          "2016-01-20",
          "2016-01-22",
          "2016-01-24",
          "2016-01-25",
          "2016-02-02",
          "2016-01-30",
          "2016-01-27",
          "2016-02-01",
          "2016-02-04",
          "2016-01-28",
          "2016-02-06",
          "2016-02-07",
          "2016-01-31",
          "2016-02-09",
          "2016-02-05",
          "2016-02-11",
          "2016-02-03",
          "2016-02-15",
          "2016-02-10",
          "2016-02-16",
          "2016-02-08",
          "2016-02-13",
          "2016-02-24",
          "2016-02-12",
          "2016-02-21",
          "2016-02-14",
          "2016-02-27",
          "2016-02-18",
          "2016-02-17",
          "2016-02-20",
          "2016-02-22",
          "2016-02-19",
          "2016-02-25",
          "2016-03-03",
          "2016-03-04",
          "2016-03-08",
          "2016-02-23",
          "2016-02-26",
          "2016-03-13",
          "2016-03-02",
          "2016-03-01",
          "2016-03-16",
          "2016-03-05",
          "2016-03-20",
          "2016-03-21",
          "2016-03-09",
          "2016-03-12",
          "2016-03-10",
          "2016-03-11",
          "2016-03-17",
          "2016-03-25",
          "2016-03-18",
          "2016-03-14",
          "2016-03-15",
          "2016-03-26",
          "2016-03-19",
          "2016-03-28",
          "2016-03-30",
          "2016-03-22",
          "2016-04-03",
          "2016-03-23",
          "2016-04-02",
          "2016-03-27",
          "2016-04-09",
          "2016-04-11",
          "2016-03-29",
          "2016-04-10",
          "2016-03-31",
          "2016-04-15",
          "2016-04-12",
          "2016-04-13",
          "2016-04-01",
          "2016-04-05",
          "2016-04-16",
          "2016-04-14",
          "2016-04-04",
          "2016-04-17",
          "2016-04-08",
          "2016-04-06",
          "2016-04-07",
          "2016-04-20",
          "2016-04-23",
          "2016-04-24",
          "2016-04-18",
          "2016-04-25",
          "2016-04-19",
          "2016-04-29",
          "2016-04-26",
          "2016-04-27",
          "2016-04-21",
          "2016-04-22",
          "2016-05-02",
          "2016-05-01",
          "2016-05-03",
          "2016-05-06",
          "2016-05-11",
          "2016-05-13",
          "2016-05-07",
          "2016-04-28",
          "2016-05-10",
          "2016-05-14",
          "2016-05-23",
          "2016-05-04",
          "2016-05-15",
          "2016-05-24",
          "2016-05-16",
          "2016-05-09",
          "2016-05-18",
          "2016-05-12",
          "2016-05-17",
          "2016-05-22",
          "2016-05-20",
          "2016-05-19",
          "2016-06-02",
          "2016-05-21",
          "2016-05-28",
          "2016-06-07",
          "2016-05-26",
          "2016-05-27",
          "2016-06-09",
          "2016-06-10",
          "2016-05-31",
          "2016-05-30",
          "2016-05-29",
          "2016-06-03",
          "2016-06-01",
          "2016-06-04",
          "2016-06-15",
          "2016-06-08",
          "2016-06-05",
          "2016-06-06",
          "2016-06-20",
          "2016-06-13",
          "2016-06-21",
          "2016-06-11",
          "2016-06-26",
          "2016-06-12",
          "2016-06-16",
          "2016-06-17",
          "2016-06-27",
          "2016-06-18",
          "2016-07-01",
          "2016-06-19",
          "2016-06-28",
          "2016-06-23",
          "2016-07-06",
          "2016-06-22",
          "2016-07-07",
          "2016-06-24",
          "2016-07-02",
          "2016-06-29",
          "2016-07-05",
          "2016-07-16",
          "2016-07-17",
          "2016-06-30",
          "2016-07-18",
          "2016-07-04",
          "2016-07-21",
          "2016-07-24",
          "2016-07-12",
          "2016-07-11",
          "2016-07-15",
          "2016-07-13",
          "2016-07-23",
          "2016-01-21",
          "2016-01-22",
          "2016-01-19",
          "2016-01-30",
          "2016-01-20",
          "2016-02-03",
          "2016-01-23",
          "2016-01-24",
          "2016-01-27",
          "2016-01-25",
          "2016-01-26",
          "2016-02-09",
          "2016-02-11",
          "2016-01-29",
          "2016-02-02",
          "2016-02-07",
          "2016-02-06",
          "2016-02-08",
          "2016-01-28",
          "2016-01-31",
          "2016-02-01",
          "2016-02-26",
          "2016-02-04",
          "2016-02-15",
          "2016-02-19",
          "2016-02-05",
          "2016-02-20",
          "2016-02-18",
          "2016-02-23",
          "2016-02-10",
          "2016-02-24",
          "2016-02-21",
          "2016-02-12",
          "2016-02-27",
          "2016-02-13",
          "2016-03-04",
          "2016-02-14",
          "2016-03-01",
          "2016-03-03",
          "2016-02-16",
          "2016-02-17",
          "2016-03-05",
          "2016-03-06",
          "2016-03-02",
          "2016-02-22",
          "2016-03-10",
          "2016-03-11",
          "2016-03-17",
          "2016-02-25",
          "2016-03-14",
          "2016-03-07",
          "2016-03-08",
          "2016-03-13",
          "2016-03-09",
          "2016-03-16",
          "2016-03-12",
          "2016-03-22",
          "2016-03-20",
          "2016-04-01",
          "2016-03-24",
          "2016-03-30",
          "2016-03-23",
          "2016-03-18",
          "2016-03-28",
          "2016-03-26",
          "2016-03-29",
          "2016-03-27",
          "2016-04-04",
          "2016-03-31",
          "2016-04-09",
          "2016-04-05",
          "2016-03-15",
          "2016-04-03",
          "2016-04-07",
          "2016-03-25",
          "2016-03-19",
          "2016-03-21",
          "2016-04-16",
          "2016-04-17",
          "2016-04-06",
          "2016-04-08",
          "2016-04-18",
          "2016-04-26",
          "2016-04-11",
          "2016-04-02",
          "2016-04-20",
          "2016-04-23",
          "2016-05-01",
          "2016-04-10",
          "2016-05-04",
          "2016-05-05",
          "2016-04-21",
          "2016-05-02",
          "2016-04-28",
          "2016-05-07",
          "2016-05-03",
          "2016-04-19",
          "2016-05-14",
          "2016-05-06",
          "2016-04-22",
          "2016-04-24",
          "2016-05-21",
          "2016-04-29",
          "2016-04-25",
          "2016-04-27",
          "2016-05-09",
          "2016-05-24",
          "2016-05-10",
          "2016-05-17",
          "2016-05-19",
          "2016-05-25",
          "2016-06-03",
          "2016-05-15",
          "2016-05-16",
          "2016-05-08",
          "2016-05-27",
          "2016-05-28",
          "2016-06-08",
          "2016-06-04",
          "2016-05-29",
          "2016-06-01",
          "2016-05-11",
          "2016-06-10",
          "2016-05-13",
          "2016-06-13",
          "2016-05-18",
          "2016-05-20",
          "2016-05-22",
          "2016-05-23",
          "2016-06-16",
          "2016-06-17",
          "2016-06-18",
          "2016-05-31",
          "2016-06-19",
          "2016-05-26",
          "2016-05-30",
          "2016-06-05",
          "2016-07-01",
          "2016-07-03",
          "2016-06-02",
          "2016-06-22",
          "2016-06-07",
          "2016-06-15",
          "2016-07-05",
          "2016-06-09",
          "2016-06-29",
          "2016-06-06",
          "2016-06-21",
          "2016-06-14",
          "2016-07-02",
          "2016-06-11",
          "2016-06-12",
          "2016-07-07",
          "2016-07-06",
          "2016-07-08",
          "2016-06-30",
          "2016-06-24",
          "2016-07-04",
          "2016-07-21",
          "2016-07-12",
          "2016-07-13",
          "2016-07-11",
          "2016-07-24",
          "2016-07-15",
          "2016-06-20",
          "2016-07-22",
          "2016-06-23",
          "2016-07-23",
          "2016-06-26",
          "2016-06-27",
          "2016-06-28",
          "2016-07-14",
          "2016-07-16",
          "2016-07-17",
          "2016-01-24",
          "2016-01-27",
          "2016-01-28",
          "2016-01-31",
          "2016-01-20",
          "2016-02-05",
          "2016-01-19",
          "2016-02-06",
          "2016-01-21",
          "2016-02-07",
          "2016-01-23",
          "2016-01-22",
          "2016-02-08",
          "2016-02-10",
          "2016-01-26",
          "2016-02-02",
          "2016-02-03",
          "2016-01-30",
          "2016-02-17",
          "2016-02-04",
          "2016-02-09",
          "2016-02-14",
          "2016-02-01",
          "2016-02-15",
          "2016-01-25",
          "2016-02-16",
          "2016-02-18",
          "2016-03-07",
          "2016-02-20",
          "2016-01-29",
          "2016-02-19",
          "2016-02-11",
          "2016-02-12",
          "2016-02-24",
          "2016-02-21",
          "2016-02-25",
          "2016-02-26",
          "2016-02-27",
          "2016-02-23",
          "2016-03-01",
          "2016-03-15",
          "2016-03-03",
          "2016-03-02",
          "2016-03-05",
          "2016-02-13",
          "2016-03-06",
          "2016-03-11",
          "2016-03-13",
          "2016-03-30",
          "2016-03-12",
          "2016-02-22",
          "2016-03-14",
          "2016-03-08",
          "2016-03-09",
          "2016-03-04",
          "2016-03-20",
          "2016-03-23",
          "2016-03-16",
          "2016-03-17",
          "2016-04-01",
          "2016-03-18",
          "2016-03-19",
          "2016-03-26",
          "2016-03-10",
          "2016-04-04",
          "2016-04-18",
          "2016-04-07",
          "2016-04-02",
          "2016-03-22",
          "2016-04-03",
          "2016-04-06",
          "2016-04-22",
          "2016-03-27",
          "2016-04-24",
          "2016-04-10",
          "2016-03-31",
          "2016-04-16",
          "2016-03-21",
          "2016-03-24",
          "2016-03-25",
          "2016-05-10",
          "2016-04-21",
          "2016-04-15",
          "2016-04-08",
          "2016-03-28",
          "2016-04-09",
          "2016-05-12",
          "2016-04-25",
          "2016-04-12",
          "2016-04-19",
          "2016-04-20",
          "2016-04-14",
          "2016-04-27",
          "2016-04-29",
          "2016-04-17",
          "2016-05-01",
          "2016-04-28",
          "2016-04-05",
          "2016-04-11",
          "2016-04-23",
          "2016-05-06",
          "2016-06-08",
          "2016-05-14",
          "2016-06-09",
          "2016-05-03",
          "2016-06-10",
          "2016-05-15",
          "2016-05-08",
          "2016-05-16",
          "2016-04-26",
          "2016-05-17",
          "2016-05-23",
          "2016-05-27",
          "2016-05-25",
          "2016-05-02",
          "2016-06-26",
          "2016-06-27",
          "2016-05-31",
          "2016-05-19",
          "2016-05-04",
          "2016-05-30",
          "2016-05-20",
          "2016-06-03",
          "2016-05-07",
          "2016-06-02",
          "2016-05-22",
          "2016-06-06",
          "2016-05-11",
          "2016-05-28",
          "2016-06-13",
          "2016-06-15",
          "2016-06-20",
          "2016-05-21",
          "2016-07-21",
          "2016-06-29",
          "2016-06-23",
          "2016-05-26",
          "2016-07-02",
          "2016-06-14",
          "2016-06-28",
          "2016-05-29",
          "2016-07-07",
          "2016-06-17",
          "2016-07-05",
          "2016-06-01",
          "2016-07-06",
          "2016-06-19",
          "2016-06-04",
          "2016-06-22",
          "2016-07-12",
          "2016-06-07",
          "2016-07-16",
          "2016-07-13",
          "2016-07-17",
          "2016-06-30",
          "2016-06-16",
          "2016-07-23",
          "2016-07-01",
          "2016-07-24",
          "2016-06-18",
          "2016-07-04",
          "2016-06-21",
          "2016-06-24",
          "2016-07-11",
          "2016-07-15",
          "2016-07-08",
          "2016-07-18",
          "2016-01-29",
          "2016-02-02",
          "2016-02-04",
          "2016-02-11",
          "2016-01-19",
          "2016-01-22",
          "2016-01-23",
          "2016-01-20",
          "2016-01-26",
          "2016-01-27",
          "2016-02-19",
          "2016-02-20",
          "2016-01-30",
          "2016-02-03",
          "2016-01-31",
          "2016-02-05",
          "2016-02-06",
          "2016-02-08",
          "2016-02-13",
          "2016-01-24",
          "2016-02-09",
          "2016-02-15",
          "2016-01-28",
          "2016-01-21",
          "2016-02-16",
          "2016-02-17",
          "2016-01-25",
          "2016-02-18",
          "2016-03-17",
          "2016-02-24",
          "2016-02-25",
          "2016-02-07",
          "2016-03-19",
          "2016-02-10",
          "2016-03-02",
          "2016-03-24",
          "2016-03-03",
          "2016-03-27",
          "2016-03-05",
          "2016-03-07",
          "2016-03-08",
          "2016-03-31",
          "2016-03-09",
          "2016-03-10",
          "2016-04-02",
          "2016-02-12",
          "2016-03-12",
          "2016-02-14",
          "2016-02-23",
          "2016-03-14",
          "2016-04-06",
          "2016-03-15",
          "2016-03-13",
          "2016-02-26",
          "2016-02-21",
          "2016-02-22",
          "2016-03-20",
          "2016-03-22",
          "2016-02-27",
          "2016-03-26",
          "2016-04-21",
          "2016-03-30",
          "2016-03-01",
          "2016-03-28",
          "2016-04-22",
          "2016-03-29",
          "2016-04-01",
          "2016-03-04",
          "2016-04-25",
          "2016-03-11",
          "2016-04-03",
          "2016-04-04",
          "2016-03-06",
          "2016-04-29",
          "2016-04-10",
          "2016-04-11",
          "2016-03-16",
          "2016-04-08",
          "2016-05-03",
          "2016-04-13",
          "2016-05-06",
          "2016-05-07",
          "2016-04-16",
          "2016-03-23",
          "2016-03-18",
          "2016-04-18",
          "2016-04-19",
          "2016-04-20",
          "2016-03-21",
          "2016-04-17",
          "2016-05-21",
          "2016-04-24",
          "2016-05-01",
          "2016-04-28",
          "2016-04-05",
          "2016-05-02",
          "2016-06-03",
          "2016-05-11",
          "2016-04-14",
          "2016-05-12",
          "2016-04-09",
          "2016-05-15",
          "2016-04-12",
          "2016-04-15",
          "2016-05-10",
          "2016-05-19",
          "2016-04-23",
          "2016-05-17",
          "2016-05-28",
          "2016-05-31",
          "2016-05-26",
          "2016-06-01",
          "2016-05-25",
          "2016-04-26",
          "2016-04-27",
          "2016-05-27",
          "2016-05-04",
          "2016-06-04",
          "2016-07-04",
          "2016-06-10",
          "2016-06-06",
          "2016-05-05",
          "2016-06-13",
          "2016-06-08",
          "2016-06-07",
          "2016-06-09",
          "2016-05-08",
          "2016-06-12",
          "2016-05-16",
          "2016-06-21",
          "2016-06-14",
          "2016-07-18",
          "2016-06-18",
          "2016-05-22",
          "2016-06-22",
          "2016-05-20",
          "2016-06-30",
          "2016-06-23",
          "2016-06-27",
          "2016-06-28",
          "2016-06-29",
          "2016-05-29",
          "2016-05-30",
          "2016-05-23",
          "2016-07-07",
          "2016-07-12",
          "2016-07-08",
          "2016-07-11",
          "2016-06-02",
          "2016-07-23",
          "2016-07-15",
          "2016-07-24",
          "2016-06-15",
          "2016-07-16",
          "2016-06-17",
          "2016-06-16",
          "2016-06-19",
          "2016-06-24",
          "2016-06-26",
          "2016-07-02",
          "2016-07-01",
          "2016-07-06",
          "2016-07-05",
          "2016-07-17",
          "2016-07-13",
          "2016-07-21",
          "2016-01-21",
          "2016-01-22",
          "2016-01-29",
          "2016-02-04",
          "2016-01-23",
          "2016-01-28",
          "2016-01-26",
          "2016-01-30",
          "2016-01-31",
          "2016-02-01",
          "2016-02-03",
          "2016-01-20",
          "2016-02-22",
          "2016-02-07",
          "2016-02-23",
          "2016-02-13",
          "2016-03-07",
          "2016-02-18",
          "2016-01-24",
          "2016-03-11",
          "2016-02-06",
          "2016-01-27",
          "2016-02-27",
          "2016-03-15",
          "2016-03-16",
          "2016-02-02",
          "2016-03-19",
          "2016-02-14",
          "2016-01-25",
          "2016-02-08",
          "2016-02-09",
          "2016-02-17",
          "2016-03-03",
          "2016-02-10",
          "2016-03-09",
          "2016-03-08",
          "2016-04-01",
          "2016-02-05",
          "2016-02-12",
          "2016-04-03",
          "2016-02-26",
          "2016-03-10",
          "2016-02-16",
          "2016-02-11",
          "2016-02-19",
          "2016-03-18",
          "2016-02-20",
          "2016-02-15",
          "2016-03-06",
          "2016-02-24",
          "2016-02-25",
          "2016-03-23",
          "2016-02-21",
          "2016-04-21",
          "2016-03-25",
          "2016-03-12",
          "2016-03-02",
          "2016-03-14",
          "2016-03-04",
          "2016-04-24",
          "2016-04-25",
          "2016-03-31",
          "2016-04-28",
          "2016-03-01",
          "2016-04-11",
          "2016-03-13",
          "2016-03-29",
          "2016-03-17",
          "2016-05-13",
          "2016-04-15",
          "2016-03-21",
          "2016-05-17",
          "2016-04-23",
          "2016-04-26",
          "2016-04-08",
          "2016-03-20",
          "2016-05-24",
          "2016-03-28",
          "2016-04-27",
          "2016-03-22",
          "2016-05-06",
          "2016-05-28",
          "2016-03-30",
          "2016-05-29",
          "2016-03-24",
          "2016-05-03",
          "2016-03-26",
          "2016-05-04",
          "2016-03-27",
          "2016-04-20",
          "2016-04-06",
          "2016-04-09",
          "2016-04-10",
          "2016-05-08",
          "2016-06-07",
          "2016-05-09",
          "2016-05-20",
          "2016-04-02",
          "2016-05-12",
          "2016-04-04",
          "2016-04-29",
          "2016-04-05",
          "2016-06-13",
          "2016-04-12",
          "2016-05-21",
          "2016-05-25",
          "2016-06-20",
          "2016-06-21",
          "2016-05-26",
          "2016-04-13",
          "2016-06-23",
          "2016-05-30",
          "2016-04-14",
          "2016-06-26",
          "2016-04-16",
          "2016-04-17",
          "2016-06-29",
          "2016-04-18",
          "2016-04-22",
          "2016-04-19",
          "2016-06-05",
          "2016-07-01",
          "2016-07-02",
          "2016-06-06",
          "2016-07-04",
          "2016-07-05",
          "2016-05-23",
          "2016-05-07",
          "2016-06-11",
          "2016-06-17",
          "2016-05-10",
          "2016-06-16",
          "2016-07-21",
          "2016-05-05",
          "2016-06-27",
          "2016-05-14",
          "2016-06-18",
          "2016-05-31",
          "2016-07-23",
          "2016-05-15",
          "2016-06-28",
          "2016-05-18",
          "2016-05-19",
          "2016-05-11",
          "2016-05-22",
          "2016-06-10",
          "2016-05-16",
          "2016-05-27",
          "2016-06-03",
          "2016-06-04",
          "2016-07-11",
          "2016-06-22",
          "2016-07-13",
          "2016-06-08",
          "2016-06-09",
          "2016-07-14",
          "2016-06-01",
          "2016-06-02",
          "2016-07-16",
          "2016-06-14",
          "2016-07-18",
          "2016-07-22",
          "2016-06-15",
          "2016-06-19",
          "2016-06-12",
          "2016-06-24",
          "2016-07-07",
          "2016-06-30",
          "2016-07-03",
          "2016-07-06",
          "2016-07-08",
          "2016-07-12",
          "2016-07-15",
          "2016-07-17",
          "2016-07-24",
          "2016-01-21",
          "2016-01-25",
          "2016-01-29",
          "2016-01-31",
          "2016-01-20",
          "2016-02-02",
          "2016-01-22",
          "2016-01-23",
          "2016-01-27",
          "2016-02-06",
          "2016-02-12",
          "2016-02-09",
          "2016-01-24",
          "2016-01-28",
          "2016-02-11",
          "2016-02-26",
          "2016-01-30",
          "2016-02-15",
          "2016-02-17",
          "2016-02-22",
          "2016-02-01",
          "2016-03-05",
          "2016-02-03",
          "2016-02-05",
          "2016-02-04",
          "2016-03-08",
          "2016-02-08",
          "2016-02-07",
          "2016-03-01",
          "2016-02-10",
          "2016-01-26",
          "2016-03-14",
          "2016-02-16",
          "2016-03-21",
          "2016-02-18",
          "2016-02-19",
          "2016-03-22",
          "2016-03-09",
          "2016-03-23",
          "2016-02-21",
          "2016-03-12",
          "2016-02-25",
          "2016-03-15",
          "2016-02-23",
          "2016-03-16",
          "2016-02-13",
          "2016-03-31",
          "2016-02-14",
          "2016-03-17",
          "2016-04-01",
          "2016-03-19",
          "2016-03-03",
          "2016-03-20",
          "2016-04-07",
          "2016-03-07",
          "2016-02-20",
          "2016-03-28",
          "2016-04-12",
          "2016-03-25",
          "2016-03-10",
          "2016-04-16",
          "2016-02-24",
          "2016-02-27",
          "2016-03-18",
          "2016-03-04",
          "2016-03-06",
          "2016-04-13",
          "2016-04-05",
          "2016-04-14",
          "2016-04-11",
          "2016-04-17",
          "2016-03-11",
          "2016-03-26",
          "2016-04-30",
          "2016-03-27",
          "2016-03-13",
          "2016-03-29",
          "2016-04-22",
          "2016-04-23",
          "2016-05-08",
          "2016-04-19",
          "2016-04-20",
          "2016-05-11",
          "2016-05-01",
          "2016-04-24",
          "2016-04-06",
          "2016-05-05",
          "2016-05-20",
          "2016-04-08",
          "2016-04-09",
          "2016-05-07",
          "2016-05-22",
          "2016-03-30",
          "2016-04-10",
          "2016-05-04",
          "2016-04-15",
          "2016-04-02",
          "2016-05-14",
          "2016-04-03",
          "2016-04-04",
          "2016-04-18",
          "2016-05-09",
          "2016-05-10",
          "2016-06-04",
          "2016-04-21",
          "2016-05-19",
          "2016-05-12",
          "2016-04-25",
          "2016-05-15",
          "2016-04-28",
          "2016-05-17",
          "2016-04-26",
          "2016-05-23",
          "2016-04-29",
          "2016-04-27",
          "2016-05-21",
          "2016-05-02",
          "2016-05-03",
          "2016-05-24",
          "2016-05-06",
          "2016-05-28",
          "2016-05-30",
          "2016-05-13",
          "2016-05-31",
          "2016-06-09",
          "2016-06-01",
          "2016-06-02",
          "2016-06-26",
          "2016-06-17",
          "2016-06-19",
          "2016-05-18",
          "2016-06-20",
          "2016-07-03",
          "2016-07-04",
          "2016-06-13",
          "2016-06-21",
          "2016-06-23",
          "2016-05-29",
          "2016-06-24",
          "2016-06-15",
          "2016-05-16",
          "2016-06-16",
          "2016-06-18",
          "2016-05-27",
          "2016-07-12",
          "2016-06-29",
          "2016-06-22",
          "2016-07-01",
          "2016-06-03",
          "2016-07-16",
          "2016-07-05",
          "2016-07-18",
          "2016-06-06",
          "2016-07-07",
          "2016-06-07",
          "2016-07-21",
          "2016-07-22",
          "2016-05-25",
          "2016-06-11",
          "2016-05-26",
          "2016-07-13",
          "2016-06-05",
          "2016-07-15",
          "2016-06-08",
          "2016-06-10",
          "2016-06-28",
          "2016-06-12",
          "2016-06-14",
          "2016-06-30",
          "2016-07-02",
          "2016-07-11",
          "2016-06-27",
          "2016-07-17",
          "2016-07-24",
          "2016-07-06",
          "2016-07-08",
          "2016-07-23",
          "2016-01-21",
          "2016-01-24",
          "2016-01-27",
          "2016-01-28",
          "2016-01-29",
          "2016-01-30",
          "2016-02-08",
          "2016-01-26",
          "2016-01-31",
          "2016-02-14",
          "2016-02-06",
          "2016-02-21",
          "2016-02-24",
          "2016-02-20",
          "2016-01-19",
          "2016-02-22",
          "2016-01-23",
          "2016-02-15",
          "2016-02-27",
          "2016-02-17",
          "2016-03-05",
          "2016-03-06",
          "2016-03-02",
          "2016-03-03",
          "2016-02-02",
          "2016-02-01",
          "2016-01-20",
          "2016-03-09",
          "2016-01-22",
          "2016-02-04",
          "2016-03-08",
          "2016-02-05",
          "2016-01-25",
          "2016-02-09",
          "2016-03-12",
          "2016-02-10",
          "2016-03-19",
          "2016-03-20",
          "2016-03-21",
          "2016-02-18",
          "2016-02-19",
          "2016-02-03",
          "2016-02-07",
          "2016-02-23",
          "2016-03-23",
          "2016-03-30",
          "2016-02-26",
          "2016-02-25",
          "2016-03-25",
          "2016-03-31",
          "2016-03-01",
          "2016-03-29",
          "2016-02-13",
          "2016-02-16",
          "2016-04-01",
          "2016-04-03",
          "2016-04-06",
          "2016-03-13",
          "2016-03-11",
          "2016-04-11",
          "2016-04-18",
          "2016-03-14",
          "2016-03-15",
          "2016-03-16",
          "2016-03-18",
          "2016-04-20",
          "2016-04-09",
          "2016-03-24",
          "2016-03-04",
          "2016-03-07",
          "2016-04-26",
          "2016-04-14",
          "2016-05-01",
          "2016-03-10",
          "2016-04-15",
          "2016-05-02",
          "2016-03-26",
          "2016-05-05",
          "2016-03-27",
          "2016-03-28",
          "2016-05-07",
          "2016-04-05",
          "2016-05-10",
          "2016-03-17",
          "2016-04-02",
          "2016-03-22",
          "2016-05-16",
          "2016-05-14",
          "2016-04-25",
          "2016-04-27",
          "2016-05-18",
          "2016-04-29",
          "2016-04-16",
          "2016-05-20",
          "2016-04-17",
          "2016-04-12",
          "2016-04-19",
          "2016-05-23",
          "2016-04-13",
          "2016-05-04",
          "2016-05-28",
          "2016-04-21",
          "2016-05-30",
          "2016-04-22",
          "2016-04-07",
          "2016-04-24",
          "2016-04-08",
          "2016-06-09",
          "2016-06-04",
          "2016-05-03",
          "2016-04-10",
          "2016-04-28",
          "2016-05-06",
          "2016-05-08",
          "2016-05-09",
          "2016-06-19",
          "2016-06-22",
          "2016-05-11",
          "2016-06-26",
          "2016-05-17",
          "2016-06-05",
          "2016-05-13",
          "2016-06-07",
          "2016-07-01",
          "2016-05-15",
          "2016-07-05",
          "2016-06-29",
          "2016-06-11",
          "2016-07-07",
          "2016-07-03",
          "2016-07-11",
          "2016-05-26",
          "2016-06-02",
          "2016-06-03",
          "2016-05-29",
          "2016-05-31",
          "2016-07-14",
          "2016-07-15",
          "2016-06-08",
          "2016-07-16",
          "2016-07-17",
          "2016-06-06",
          "2016-05-12",
          "2016-06-10",
          "2016-06-13",
          "2016-06-12",
          "2016-07-02",
          "2016-06-14",
          "2016-06-15",
          "2016-05-19",
          "2016-06-16",
          "2016-06-17",
          "2016-06-18",
          "2016-05-21",
          "2016-06-20",
          "2016-05-22",
          "2016-06-21",
          "2016-05-24",
          "2016-05-25",
          "2016-06-23",
          "2016-05-27",
          "2016-06-27",
          "2016-06-28",
          "2016-06-30",
          "2016-07-06",
          "2016-06-01",
          "2016-07-04",
          "2016-07-23",
          "2016-07-08",
          "2016-07-12",
          "2016-07-13",
          "2016-07-18",
          "2016-07-21",
          "2016-07-24",
          "2016-06-24",
          "2016-07-22",
          "2016-01-27",
          "2016-01-21",
          "2016-02-01",
          "2016-02-03",
          "2016-01-26",
          "2016-01-29",
          "2016-02-06",
          "2016-02-10",
          "2016-02-13",
          "2016-01-25",
          "2016-02-27",
          "2016-02-23",
          "2016-02-25",
          "2016-01-20",
          "2016-02-26",
          "2016-01-22",
          "2016-01-24",
          "2016-01-28",
          "2016-03-10",
          "2016-02-09",
          "2016-01-30",
          "2016-01-31",
          "2016-02-02",
          "2016-02-04",
          "2016-02-07",
          "2016-02-18",
          "2016-02-08",
          "2016-03-21",
          "2016-02-12",
          "2016-02-22",
          "2016-01-23",
          "2016-03-18",
          "2016-02-14",
          "2016-02-16",
          "2016-02-17",
          "2016-04-02",
          "2016-03-02",
          "2016-04-04",
          "2016-02-21",
          "2016-03-07",
          "2016-04-09",
          "2016-02-24",
          "2016-02-05",
          "2016-03-03",
          "2016-03-05",
          "2016-03-13",
          "2016-02-11",
          "2016-03-01",
          "2016-03-15",
          "2016-04-12",
          "2016-03-08",
          "2016-02-15",
          "2016-03-19",
          "2016-04-14",
          "2016-03-20",
          "2016-03-12",
          "2016-04-23",
          "2016-04-15",
          "2016-02-20",
          "2016-04-24",
          "2016-03-22",
          "2016-03-09",
          "2016-03-14",
          "2016-04-26",
          "2016-03-17",
          "2016-03-28",
          "2016-03-16",
          "2016-05-04",
          "2016-05-09",
          "2016-03-04",
          "2016-03-06",
          "2016-03-25",
          "2016-05-15",
          "2016-05-08",
          "2016-04-07",
          "2016-03-29",
          "2016-03-31",
          "2016-03-27",
          "2016-04-01",
          "2016-04-08",
          "2016-04-03",
          "2016-04-10",
          "2016-03-30",
          "2016-03-11",
          "2016-05-19",
          "2016-05-12",
          "2016-04-05",
          "2016-05-13",
          "2016-04-16",
          "2016-04-18",
          "2016-04-06",
          "2016-04-11",
          "2016-05-31",
          "2016-06-01",
          "2016-04-22",
          "2016-04-13",
          "2016-05-20",
          "2016-06-04",
          "2016-04-25",
          "2016-03-23",
          "2016-05-22",
          "2016-04-28",
          "2016-04-17",
          "2016-04-19",
          "2016-05-02",
          "2016-03-26",
          "2016-06-11",
          "2016-04-20",
          "2016-04-21",
          "2016-06-09",
          "2016-05-06",
          "2016-04-27",
          "2016-06-10",
          "2016-04-29",
          "2016-06-12",
          "2016-06-13",
          "2016-05-01",
          "2016-06-27",
          "2016-06-19",
          "2016-07-01",
          "2016-05-18",
          "2016-05-05",
          "2016-07-04",
          "2016-05-07",
          "2016-05-10",
          "2016-05-11",
          "2016-05-17",
          "2016-05-26",
          "2016-06-28",
          "2016-05-28",
          "2016-05-14",
          "2016-06-29",
          "2016-06-30",
          "2016-05-21",
          "2016-05-23",
          "2016-07-16",
          "2016-06-03",
          "2016-07-18",
          "2016-06-05",
          "2016-07-13",
          "2016-05-24",
          "2016-05-03",
          "2016-07-17",
          "2016-05-30",
          "2016-06-18",
          "2016-06-06",
          "2016-06-23",
          "2016-06-24",
          "2016-06-07",
          "2016-05-16",
          "2016-06-20",
          "2016-06-22",
          "2016-06-14",
          "2016-06-16",
          "2016-07-07",
          "2016-06-17",
          "2016-06-21",
          "2016-07-12",
          "2016-07-02",
          "2016-07-05",
          "2016-06-02",
          "2016-07-15",
          "2016-07-24",
          "2016-06-08",
          "2016-07-06",
          "2016-07-23",
          "2016-06-15",
          "2016-06-26",
          "2016-07-11",
          "2016-07-21"
         ],
         "xaxis": "x",
         "y": [
          null,
          null,
          null,
          null,
          null,
          null,
          null,
          null,
          null,
          null,
          null,
          null,
          null,
          null,
          null,
          null,
          null,
          null,
          null,
          null,
          null,
          null,
          null,
          null,
          null,
          null,
          null,
          null,
          null,
          null,
          null,
          null,
          null,
          null,
          null,
          null,
          null,
          null,
          null,
          null,
          null,
          null,
          null,
          null,
          null,
          null,
          null,
          null,
          null,
          null,
          null,
          null,
          null,
          null,
          null,
          null,
          null,
          null,
          null,
          null,
          null,
          null,
          null,
          null,
          null,
          null,
          null,
          null,
          null,
          null,
          null,
          null,
          null,
          null,
          null,
          null,
          null,
          null,
          null,
          null,
          null,
          null,
          null,
          null,
          null,
          null,
          null,
          null,
          null,
          null,
          null,
          null,
          null,
          null,
          null,
          null,
          null,
          null,
          null,
          null,
          null,
          null,
          null,
          null,
          null,
          null,
          null,
          null,
          null,
          null,
          null,
          null,
          null,
          null,
          null,
          null,
          null,
          null,
          null,
          null,
          null,
          null,
          null,
          null,
          null,
          null,
          null,
          null,
          null,
          null,
          null,
          null,
          null,
          null,
          null,
          null,
          null,
          null,
          null,
          null,
          null,
          null,
          null,
          null,
          null,
          null,
          null,
          null,
          null,
          null,
          null,
          null,
          null,
          null,
          null,
          null,
          null,
          null,
          null,
          null,
          null,
          null,
          null,
          null,
          null,
          null,
          null,
          null,
          null,
          null,
          null,
          null,
          null,
          null,
          null,
          null,
          null,
          null,
          null,
          null,
          null,
          null,
          null,
          null,
          null,
          null,
          null,
          null,
          null,
          null,
          null,
          null,
          null,
          null,
          null,
          null,
          null,
          null,
          null,
          null,
          null,
          null,
          null,
          null,
          null,
          null,
          null,
          null,
          null,
          null,
          null,
          null,
          null,
          null,
          null,
          null,
          null,
          null,
          null,
          null,
          null,
          null,
          null,
          null,
          null,
          null,
          null,
          null,
          null,
          null,
          null,
          null,
          null,
          null,
          null,
          null,
          null,
          null,
          null,
          null,
          null,
          null,
          null,
          null,
          null,
          null,
          null,
          null,
          null,
          null,
          null,
          null,
          null,
          null,
          null,
          null,
          null,
          null,
          null,
          null,
          null,
          null,
          null,
          null,
          null,
          null,
          null,
          null,
          null,
          null,
          null,
          null,
          null,
          null,
          null,
          null,
          null,
          null,
          null,
          null,
          null,
          null,
          null,
          null,
          null,
          null,
          null,
          null,
          null,
          null,
          null,
          null,
          null,
          null,
          null,
          null,
          null,
          null,
          null,
          null,
          null,
          null,
          null,
          null,
          null,
          null,
          null,
          null,
          null,
          null,
          null,
          null,
          null,
          null,
          null,
          null,
          null,
          null,
          null,
          null,
          null,
          null,
          null,
          null,
          null,
          null,
          null,
          null,
          null,
          null,
          null,
          null,
          null,
          null,
          null,
          null,
          null,
          null,
          null,
          null,
          null,
          null,
          null,
          null,
          null,
          null,
          null,
          null,
          null,
          null,
          null,
          null,
          null,
          null,
          null,
          null,
          null,
          null,
          null,
          null,
          null,
          null,
          null,
          null,
          null,
          null,
          null,
          null,
          null,
          null,
          null,
          null,
          null,
          null,
          null,
          null,
          null,
          null,
          null,
          null,
          null,
          null,
          null,
          null,
          null,
          null,
          null,
          null,
          null,
          null,
          null,
          null,
          null,
          null,
          null,
          null,
          null,
          null,
          null,
          null,
          null,
          null,
          null,
          null,
          null,
          null,
          null,
          null,
          null,
          null,
          null,
          null,
          null,
          null,
          null,
          null,
          null,
          null,
          null,
          null,
          null,
          null,
          null,
          null,
          null,
          null,
          null,
          null,
          null,
          null,
          null,
          null,
          null,
          null,
          null,
          null,
          null,
          null,
          null,
          null,
          null,
          null,
          null,
          null,
          null,
          null,
          null,
          null,
          null,
          null,
          null,
          null,
          null,
          null,
          null,
          null,
          null,
          null,
          null,
          null,
          null,
          null,
          null,
          null,
          null,
          null,
          null,
          null,
          null,
          null,
          null,
          null,
          null,
          null,
          null,
          null,
          null,
          null,
          null,
          null,
          null,
          null,
          null,
          null,
          null,
          null,
          null,
          null,
          null,
          null,
          null,
          null,
          null,
          null,
          null,
          null,
          null,
          97,
          96,
          96,
          97,
          97,
          96,
          98,
          98,
          97,
          97,
          98,
          98,
          99,
          96,
          98,
          98,
          98,
          98,
          95,
          99,
          97,
          96,
          98,
          97,
          99,
          96,
          94,
          96,
          96,
          98,
          97,
          96,
          97,
          97,
          96,
          98,
          96,
          97,
          97,
          97,
          98,
          98,
          97,
          96,
          98,
          97,
          96,
          98,
          95,
          97,
          98,
          98,
          98,
          97,
          98,
          96,
          97,
          97,
          98,
          96,
          96,
          97,
          96,
          95,
          98,
          95,
          95,
          94,
          97,
          94,
          95,
          98,
          98,
          97,
          96,
          98,
          95,
          98,
          97,
          99,
          98,
          98,
          99,
          97,
          95,
          97,
          98,
          98,
          98,
          94,
          97,
          98,
          96,
          98,
          96,
          98,
          98,
          95,
          96,
          98,
          97,
          98,
          98,
          98,
          98,
          99,
          98,
          97,
          96,
          98,
          98,
          98,
          98,
          98,
          99,
          98,
          98,
          98,
          99,
          98,
          98,
          99,
          98,
          98,
          98,
          97,
          97,
          99,
          97,
          98,
          97,
          98,
          98,
          98,
          99,
          98,
          98,
          98,
          97,
          97,
          97,
          98,
          98,
          99,
          98,
          97,
          99,
          97,
          98,
          97,
          98,
          97,
          98,
          98,
          98,
          97,
          96,
          98,
          97,
          98,
          97,
          98,
          96,
          98,
          97,
          98,
          97,
          null,
          null,
          null,
          null,
          null,
          null,
          null,
          null,
          null,
          null,
          null,
          null,
          null,
          null,
          null,
          null,
          null,
          null,
          null,
          null,
          null,
          null,
          null,
          null,
          null,
          null,
          null,
          null,
          null,
          null,
          null,
          null,
          null,
          null,
          null,
          null,
          null,
          null,
          null,
          null,
          null,
          null,
          null,
          null,
          null,
          null,
          null,
          null,
          null,
          null,
          null,
          null,
          null,
          null,
          null,
          null,
          null,
          null,
          null,
          null,
          null,
          null,
          null,
          null,
          null,
          null,
          null,
          null,
          null,
          null,
          null,
          null,
          null,
          null,
          null,
          null,
          null,
          null,
          null,
          null,
          null,
          null,
          null,
          null,
          null,
          null,
          null,
          null,
          null,
          null,
          null,
          null,
          null,
          null,
          null,
          null,
          null,
          null,
          null,
          null,
          null,
          null,
          null,
          null,
          null,
          null,
          null,
          null,
          null,
          null,
          null,
          null,
          null,
          null,
          null,
          null,
          null,
          null,
          null,
          null,
          null,
          null,
          null,
          null,
          null,
          null,
          null,
          null,
          null,
          null,
          null,
          null,
          null,
          null,
          null,
          null,
          null,
          null,
          null,
          null,
          null,
          null,
          null,
          null,
          null,
          null,
          null,
          null,
          null,
          null,
          null,
          null,
          null,
          null,
          null,
          null,
          null,
          null,
          null,
          null,
          null,
          null,
          null,
          null,
          null,
          null,
          null,
          null,
          null,
          null,
          null,
          null,
          null,
          null,
          null,
          null,
          null,
          null,
          null,
          null,
          null,
          null,
          null,
          null,
          null,
          null,
          null,
          null,
          null,
          null,
          null,
          null,
          null,
          null,
          null,
          null,
          null,
          null,
          null,
          null,
          null,
          null,
          null,
          null,
          null,
          null,
          null,
          null,
          null,
          null,
          null,
          null,
          null,
          null,
          null,
          null,
          null,
          null,
          null,
          null,
          null,
          null,
          null,
          null,
          null,
          null,
          null,
          null,
          null,
          null,
          null,
          null,
          null,
          null,
          null,
          null,
          null,
          null,
          null,
          null,
          null,
          null,
          null,
          null,
          null,
          null,
          null,
          null,
          null,
          null,
          null,
          null,
          null,
          null,
          null,
          null,
          null,
          null,
          null,
          null,
          null,
          null,
          null,
          null,
          null,
          null,
          null,
          null,
          null,
          null,
          null,
          null,
          null,
          null,
          null,
          null,
          null,
          null,
          null,
          null,
          null,
          null,
          null,
          null,
          null,
          null,
          null,
          null,
          null,
          null,
          null,
          null,
          null,
          null,
          null,
          null,
          null,
          null,
          null,
          null,
          null,
          null,
          null,
          null,
          null,
          null,
          null,
          null,
          null,
          null,
          null,
          null,
          null,
          null,
          null,
          null,
          null,
          null,
          null,
          null,
          null,
          null,
          null,
          null,
          null,
          null,
          null,
          null,
          null,
          null,
          null,
          null,
          null,
          null,
          null,
          null,
          null,
          null,
          null,
          null,
          null,
          null,
          null,
          null,
          null,
          null,
          null,
          null,
          null,
          null,
          null,
          null,
          null,
          null,
          null,
          null,
          null,
          null,
          null,
          null,
          null,
          null,
          null,
          null,
          null,
          null,
          null,
          null,
          null,
          null,
          null,
          null,
          null,
          null,
          null,
          null,
          null,
          null,
          null,
          null,
          null,
          null,
          null,
          null,
          null,
          null,
          null,
          null,
          null,
          null,
          null,
          null,
          null,
          null,
          null,
          null,
          null,
          null,
          null,
          null,
          null,
          null,
          null,
          null,
          null,
          null,
          null,
          null,
          null,
          null,
          null,
          null,
          null,
          null,
          null,
          null,
          null,
          null,
          null,
          null,
          null,
          null,
          null,
          null,
          null,
          null,
          null,
          null,
          null,
          null,
          null,
          null,
          null,
          null,
          null,
          null,
          null,
          null,
          null,
          null,
          null,
          null,
          null,
          null,
          null,
          null,
          null,
          null,
          null,
          null,
          null,
          null,
          null,
          null,
          null,
          null,
          null,
          null,
          null,
          null,
          null,
          null,
          null,
          null,
          null,
          null,
          null,
          null,
          null,
          null,
          null,
          null,
          null,
          null,
          null,
          null,
          null,
          null,
          null,
          null,
          null,
          null,
          null,
          null,
          null,
          null,
          null,
          null,
          null,
          null,
          null,
          null,
          null,
          null,
          null,
          null,
          null,
          null,
          null,
          null,
          null,
          null,
          null,
          null,
          null,
          null,
          null,
          null,
          null,
          null,
          null,
          null,
          null,
          null,
          null,
          null,
          null,
          null,
          null,
          null,
          null,
          null,
          null,
          null,
          null,
          null,
          null,
          null,
          null,
          null,
          null,
          null,
          null,
          null,
          null,
          null,
          null,
          null,
          null,
          null,
          null,
          null,
          null,
          null,
          null,
          null,
          null,
          null,
          null,
          null,
          null,
          null,
          null,
          null,
          null,
          null,
          null,
          null,
          null,
          null,
          null,
          null,
          null,
          null,
          null,
          null,
          null,
          null,
          null,
          null,
          null,
          null,
          null,
          null,
          null,
          null,
          null,
          null,
          null,
          null,
          null,
          null,
          null,
          null,
          null,
          null,
          null,
          null,
          null,
          null,
          null,
          null,
          null,
          null,
          null,
          null,
          null,
          null,
          null,
          null,
          null,
          null,
          null,
          null,
          null,
          null,
          null,
          null,
          null,
          null,
          null,
          null,
          null,
          null,
          null,
          null,
          null,
          null,
          null,
          null,
          null,
          null,
          null,
          null,
          null,
          null,
          null,
          null,
          null,
          null,
          null,
          null,
          null,
          null,
          null,
          null,
          null,
          null,
          null,
          null,
          null,
          null,
          null,
          null,
          null,
          null,
          null,
          null,
          null,
          null,
          null,
          null,
          null,
          null,
          null,
          null,
          null,
          null,
          null,
          null,
          null,
          null,
          null,
          null,
          null,
          null,
          null,
          null,
          null,
          null,
          null,
          null,
          null,
          null,
          null,
          null,
          null,
          null,
          null,
          null,
          null,
          null,
          null,
          null,
          null,
          null,
          null,
          null,
          null,
          null,
          null,
          null,
          null,
          null,
          null,
          null,
          null,
          null,
          null,
          null,
          null,
          null,
          null,
          null,
          null,
          null,
          null,
          null,
          null,
          null,
          null,
          null,
          null,
          null,
          null,
          null,
          null,
          null,
          null,
          null,
          null,
          null,
          null,
          null,
          null,
          null,
          null,
          null,
          null,
          null,
          null,
          null,
          null,
          null,
          null,
          null,
          null,
          null,
          null,
          null,
          null,
          null,
          null,
          null,
          null,
          null,
          null,
          null,
          null,
          null,
          null,
          null,
          null,
          null,
          null,
          null,
          null,
          null,
          null,
          null,
          null,
          null,
          null,
          null,
          null,
          null,
          null,
          null,
          null,
          null,
          null,
          null,
          null,
          null,
          null,
          null,
          null,
          null,
          null,
          null,
          null,
          null,
          null,
          null,
          null,
          null,
          null,
          null,
          null,
          null,
          null,
          null,
          null,
          null,
          null,
          null,
          null,
          null,
          null,
          null,
          null,
          null,
          null,
          null,
          null,
          null,
          null,
          null,
          null,
          null,
          null,
          null,
          null,
          null,
          null,
          null,
          null,
          null,
          null,
          null,
          null,
          null,
          null,
          null,
          null,
          null,
          null,
          null,
          null,
          null,
          null,
          null,
          null,
          null,
          null,
          null,
          null,
          null,
          null,
          null,
          null,
          null,
          null,
          null,
          null,
          null,
          null,
          null,
          null,
          null,
          null,
          null,
          null,
          null,
          null,
          null,
          null,
          null,
          null,
          null,
          null,
          null,
          null,
          null
         ],
         "yaxis": "y"
        }
       ],
       "layout": {
        "legend": {
         "tracegroupgap": 0
        },
        "template": {
         "data": {
          "bar": [
           {
            "error_x": {
             "color": "#2a3f5f"
            },
            "error_y": {
             "color": "#2a3f5f"
            },
            "marker": {
             "line": {
              "color": "#E5ECF6",
              "width": 0.5
             },
             "pattern": {
              "fillmode": "overlay",
              "size": 10,
              "solidity": 0.2
             }
            },
            "type": "bar"
           }
          ],
          "barpolar": [
           {
            "marker": {
             "line": {
              "color": "#E5ECF6",
              "width": 0.5
             },
             "pattern": {
              "fillmode": "overlay",
              "size": 10,
              "solidity": 0.2
             }
            },
            "type": "barpolar"
           }
          ],
          "carpet": [
           {
            "aaxis": {
             "endlinecolor": "#2a3f5f",
             "gridcolor": "white",
             "linecolor": "white",
             "minorgridcolor": "white",
             "startlinecolor": "#2a3f5f"
            },
            "baxis": {
             "endlinecolor": "#2a3f5f",
             "gridcolor": "white",
             "linecolor": "white",
             "minorgridcolor": "white",
             "startlinecolor": "#2a3f5f"
            },
            "type": "carpet"
           }
          ],
          "choropleth": [
           {
            "colorbar": {
             "outlinewidth": 0,
             "ticks": ""
            },
            "type": "choropleth"
           }
          ],
          "contour": [
           {
            "colorbar": {
             "outlinewidth": 0,
             "ticks": ""
            },
            "colorscale": [
             [
              0,
              "#0d0887"
             ],
             [
              0.1111111111111111,
              "#46039f"
             ],
             [
              0.2222222222222222,
              "#7201a8"
             ],
             [
              0.3333333333333333,
              "#9c179e"
             ],
             [
              0.4444444444444444,
              "#bd3786"
             ],
             [
              0.5555555555555556,
              "#d8576b"
             ],
             [
              0.6666666666666666,
              "#ed7953"
             ],
             [
              0.7777777777777778,
              "#fb9f3a"
             ],
             [
              0.8888888888888888,
              "#fdca26"
             ],
             [
              1,
              "#f0f921"
             ]
            ],
            "type": "contour"
           }
          ],
          "contourcarpet": [
           {
            "colorbar": {
             "outlinewidth": 0,
             "ticks": ""
            },
            "type": "contourcarpet"
           }
          ],
          "heatmap": [
           {
            "colorbar": {
             "outlinewidth": 0,
             "ticks": ""
            },
            "colorscale": [
             [
              0,
              "#0d0887"
             ],
             [
              0.1111111111111111,
              "#46039f"
             ],
             [
              0.2222222222222222,
              "#7201a8"
             ],
             [
              0.3333333333333333,
              "#9c179e"
             ],
             [
              0.4444444444444444,
              "#bd3786"
             ],
             [
              0.5555555555555556,
              "#d8576b"
             ],
             [
              0.6666666666666666,
              "#ed7953"
             ],
             [
              0.7777777777777778,
              "#fb9f3a"
             ],
             [
              0.8888888888888888,
              "#fdca26"
             ],
             [
              1,
              "#f0f921"
             ]
            ],
            "type": "heatmap"
           }
          ],
          "heatmapgl": [
           {
            "colorbar": {
             "outlinewidth": 0,
             "ticks": ""
            },
            "colorscale": [
             [
              0,
              "#0d0887"
             ],
             [
              0.1111111111111111,
              "#46039f"
             ],
             [
              0.2222222222222222,
              "#7201a8"
             ],
             [
              0.3333333333333333,
              "#9c179e"
             ],
             [
              0.4444444444444444,
              "#bd3786"
             ],
             [
              0.5555555555555556,
              "#d8576b"
             ],
             [
              0.6666666666666666,
              "#ed7953"
             ],
             [
              0.7777777777777778,
              "#fb9f3a"
             ],
             [
              0.8888888888888888,
              "#fdca26"
             ],
             [
              1,
              "#f0f921"
             ]
            ],
            "type": "heatmapgl"
           }
          ],
          "histogram": [
           {
            "marker": {
             "pattern": {
              "fillmode": "overlay",
              "size": 10,
              "solidity": 0.2
             }
            },
            "type": "histogram"
           }
          ],
          "histogram2d": [
           {
            "colorbar": {
             "outlinewidth": 0,
             "ticks": ""
            },
            "colorscale": [
             [
              0,
              "#0d0887"
             ],
             [
              0.1111111111111111,
              "#46039f"
             ],
             [
              0.2222222222222222,
              "#7201a8"
             ],
             [
              0.3333333333333333,
              "#9c179e"
             ],
             [
              0.4444444444444444,
              "#bd3786"
             ],
             [
              0.5555555555555556,
              "#d8576b"
             ],
             [
              0.6666666666666666,
              "#ed7953"
             ],
             [
              0.7777777777777778,
              "#fb9f3a"
             ],
             [
              0.8888888888888888,
              "#fdca26"
             ],
             [
              1,
              "#f0f921"
             ]
            ],
            "type": "histogram2d"
           }
          ],
          "histogram2dcontour": [
           {
            "colorbar": {
             "outlinewidth": 0,
             "ticks": ""
            },
            "colorscale": [
             [
              0,
              "#0d0887"
             ],
             [
              0.1111111111111111,
              "#46039f"
             ],
             [
              0.2222222222222222,
              "#7201a8"
             ],
             [
              0.3333333333333333,
              "#9c179e"
             ],
             [
              0.4444444444444444,
              "#bd3786"
             ],
             [
              0.5555555555555556,
              "#d8576b"
             ],
             [
              0.6666666666666666,
              "#ed7953"
             ],
             [
              0.7777777777777778,
              "#fb9f3a"
             ],
             [
              0.8888888888888888,
              "#fdca26"
             ],
             [
              1,
              "#f0f921"
             ]
            ],
            "type": "histogram2dcontour"
           }
          ],
          "mesh3d": [
           {
            "colorbar": {
             "outlinewidth": 0,
             "ticks": ""
            },
            "type": "mesh3d"
           }
          ],
          "parcoords": [
           {
            "line": {
             "colorbar": {
              "outlinewidth": 0,
              "ticks": ""
             }
            },
            "type": "parcoords"
           }
          ],
          "pie": [
           {
            "automargin": true,
            "type": "pie"
           }
          ],
          "scatter": [
           {
            "fillpattern": {
             "fillmode": "overlay",
             "size": 10,
             "solidity": 0.2
            },
            "type": "scatter"
           }
          ],
          "scatter3d": [
           {
            "line": {
             "colorbar": {
              "outlinewidth": 0,
              "ticks": ""
             }
            },
            "marker": {
             "colorbar": {
              "outlinewidth": 0,
              "ticks": ""
             }
            },
            "type": "scatter3d"
           }
          ],
          "scattercarpet": [
           {
            "marker": {
             "colorbar": {
              "outlinewidth": 0,
              "ticks": ""
             }
            },
            "type": "scattercarpet"
           }
          ],
          "scattergeo": [
           {
            "marker": {
             "colorbar": {
              "outlinewidth": 0,
              "ticks": ""
             }
            },
            "type": "scattergeo"
           }
          ],
          "scattergl": [
           {
            "marker": {
             "colorbar": {
              "outlinewidth": 0,
              "ticks": ""
             }
            },
            "type": "scattergl"
           }
          ],
          "scattermapbox": [
           {
            "marker": {
             "colorbar": {
              "outlinewidth": 0,
              "ticks": ""
             }
            },
            "type": "scattermapbox"
           }
          ],
          "scatterpolar": [
           {
            "marker": {
             "colorbar": {
              "outlinewidth": 0,
              "ticks": ""
             }
            },
            "type": "scatterpolar"
           }
          ],
          "scatterpolargl": [
           {
            "marker": {
             "colorbar": {
              "outlinewidth": 0,
              "ticks": ""
             }
            },
            "type": "scatterpolargl"
           }
          ],
          "scatterternary": [
           {
            "marker": {
             "colorbar": {
              "outlinewidth": 0,
              "ticks": ""
             }
            },
            "type": "scatterternary"
           }
          ],
          "surface": [
           {
            "colorbar": {
             "outlinewidth": 0,
             "ticks": ""
            },
            "colorscale": [
             [
              0,
              "#0d0887"
             ],
             [
              0.1111111111111111,
              "#46039f"
             ],
             [
              0.2222222222222222,
              "#7201a8"
             ],
             [
              0.3333333333333333,
              "#9c179e"
             ],
             [
              0.4444444444444444,
              "#bd3786"
             ],
             [
              0.5555555555555556,
              "#d8576b"
             ],
             [
              0.6666666666666666,
              "#ed7953"
             ],
             [
              0.7777777777777778,
              "#fb9f3a"
             ],
             [
              0.8888888888888888,
              "#fdca26"
             ],
             [
              1,
              "#f0f921"
             ]
            ],
            "type": "surface"
           }
          ],
          "table": [
           {
            "cells": {
             "fill": {
              "color": "#EBF0F8"
             },
             "line": {
              "color": "white"
             }
            },
            "header": {
             "fill": {
              "color": "#C8D4E3"
             },
             "line": {
              "color": "white"
             }
            },
            "type": "table"
           }
          ]
         },
         "layout": {
          "annotationdefaults": {
           "arrowcolor": "#2a3f5f",
           "arrowhead": 0,
           "arrowwidth": 1
          },
          "autotypenumbers": "strict",
          "coloraxis": {
           "colorbar": {
            "outlinewidth": 0,
            "ticks": ""
           }
          },
          "colorscale": {
           "diverging": [
            [
             0,
             "#8e0152"
            ],
            [
             0.1,
             "#c51b7d"
            ],
            [
             0.2,
             "#de77ae"
            ],
            [
             0.3,
             "#f1b6da"
            ],
            [
             0.4,
             "#fde0ef"
            ],
            [
             0.5,
             "#f7f7f7"
            ],
            [
             0.6,
             "#e6f5d0"
            ],
            [
             0.7,
             "#b8e186"
            ],
            [
             0.8,
             "#7fbc41"
            ],
            [
             0.9,
             "#4d9221"
            ],
            [
             1,
             "#276419"
            ]
           ],
           "sequential": [
            [
             0,
             "#0d0887"
            ],
            [
             0.1111111111111111,
             "#46039f"
            ],
            [
             0.2222222222222222,
             "#7201a8"
            ],
            [
             0.3333333333333333,
             "#9c179e"
            ],
            [
             0.4444444444444444,
             "#bd3786"
            ],
            [
             0.5555555555555556,
             "#d8576b"
            ],
            [
             0.6666666666666666,
             "#ed7953"
            ],
            [
             0.7777777777777778,
             "#fb9f3a"
            ],
            [
             0.8888888888888888,
             "#fdca26"
            ],
            [
             1,
             "#f0f921"
            ]
           ],
           "sequentialminus": [
            [
             0,
             "#0d0887"
            ],
            [
             0.1111111111111111,
             "#46039f"
            ],
            [
             0.2222222222222222,
             "#7201a8"
            ],
            [
             0.3333333333333333,
             "#9c179e"
            ],
            [
             0.4444444444444444,
             "#bd3786"
            ],
            [
             0.5555555555555556,
             "#d8576b"
            ],
            [
             0.6666666666666666,
             "#ed7953"
            ],
            [
             0.7777777777777778,
             "#fb9f3a"
            ],
            [
             0.8888888888888888,
             "#fdca26"
            ],
            [
             1,
             "#f0f921"
            ]
           ]
          },
          "colorway": [
           "#636efa",
           "#EF553B",
           "#00cc96",
           "#ab63fa",
           "#FFA15A",
           "#19d3f3",
           "#FF6692",
           "#B6E880",
           "#FF97FF",
           "#FECB52"
          ],
          "font": {
           "color": "#2a3f5f"
          },
          "geo": {
           "bgcolor": "white",
           "lakecolor": "white",
           "landcolor": "#E5ECF6",
           "showlakes": true,
           "showland": true,
           "subunitcolor": "white"
          },
          "hoverlabel": {
           "align": "left"
          },
          "hovermode": "closest",
          "mapbox": {
           "style": "light"
          },
          "paper_bgcolor": "white",
          "plot_bgcolor": "#E5ECF6",
          "polar": {
           "angularaxis": {
            "gridcolor": "white",
            "linecolor": "white",
            "ticks": ""
           },
           "bgcolor": "#E5ECF6",
           "radialaxis": {
            "gridcolor": "white",
            "linecolor": "white",
            "ticks": ""
           }
          },
          "scene": {
           "xaxis": {
            "backgroundcolor": "#E5ECF6",
            "gridcolor": "white",
            "gridwidth": 2,
            "linecolor": "white",
            "showbackground": true,
            "ticks": "",
            "zerolinecolor": "white"
           },
           "yaxis": {
            "backgroundcolor": "#E5ECF6",
            "gridcolor": "white",
            "gridwidth": 2,
            "linecolor": "white",
            "showbackground": true,
            "ticks": "",
            "zerolinecolor": "white"
           },
           "zaxis": {
            "backgroundcolor": "#E5ECF6",
            "gridcolor": "white",
            "gridwidth": 2,
            "linecolor": "white",
            "showbackground": true,
            "ticks": "",
            "zerolinecolor": "white"
           }
          },
          "shapedefaults": {
           "line": {
            "color": "#2a3f5f"
           }
          },
          "ternary": {
           "aaxis": {
            "gridcolor": "white",
            "linecolor": "white",
            "ticks": ""
           },
           "baxis": {
            "gridcolor": "white",
            "linecolor": "white",
            "ticks": ""
           },
           "bgcolor": "#E5ECF6",
           "caxis": {
            "gridcolor": "white",
            "linecolor": "white",
            "ticks": ""
           }
          },
          "title": {
           "x": 0.05
          },
          "xaxis": {
           "automargin": true,
           "gridcolor": "white",
           "linecolor": "white",
           "ticks": "",
           "title": {
            "standoff": 15
           },
           "zerolinecolor": "white",
           "zerolinewidth": 2
          },
          "yaxis": {
           "automargin": true,
           "gridcolor": "white",
           "linecolor": "white",
           "ticks": "",
           "title": {
            "standoff": 15
           },
           "zerolinecolor": "white",
           "zerolinewidth": 2
          }
         }
        },
        "title": {
         "text": "O2 Saturation for id 1au5biSTt0bNWgfI0WItr5"
        },
        "xaxis": {
         "anchor": "y",
         "domain": [
          0,
          1
         ],
         "range": [
          "2015-08-04",
          "2017-04-30"
         ],
         "title": {
          "text": "Date recorded"
         }
        },
        "yaxis": {
         "anchor": "x",
         "domain": [
          0,
          1
         ],
         "title": {
          "text": "O2 Saturation"
         }
        }
       }
      }
     },
     "metadata": {},
     "output_type": "display_data"
    },
    {
     "data": {
      "application/vnd.plotly.v1+json": {
       "config": {
        "plotlyServerURL": "https://plot.ly"
       },
       "data": [
        {
         "hovertemplate": "Date recorded=%{x}<br>O2 Saturation=%{y}<extra></extra>",
         "legendgroup": "",
         "marker": {
          "color": "#636efa",
          "symbol": "circle"
         },
         "mode": "markers",
         "name": "",
         "showlegend": false,
         "type": "scattergl",
         "x": [
          "2016-06-06",
          "2016-06-09",
          "2016-06-02",
          "2016-06-03",
          "2016-06-04",
          "2016-06-05",
          "2016-06-12",
          "2016-06-07",
          "2016-06-20",
          "2016-06-14",
          "2016-06-08",
          "2016-06-15",
          "2016-06-10",
          "2016-06-23",
          "2016-06-17",
          "2016-06-11",
          "2016-06-13",
          "2016-06-16",
          "2016-06-18",
          "2016-06-25",
          "2016-06-26",
          "2016-06-19",
          "2016-07-01",
          "2016-06-22",
          "2016-06-21",
          "2016-06-24",
          "2016-07-07",
          "2016-07-08",
          "2016-07-09",
          "2016-06-27",
          "2016-07-10",
          "2016-06-28",
          "2016-07-13",
          "2016-06-30",
          "2016-06-29",
          "2016-07-02",
          "2016-07-03",
          "2016-07-04",
          "2016-07-05",
          "2016-07-19",
          "2016-07-11",
          "2016-07-25",
          "2016-07-12",
          "2016-07-14",
          "2016-07-15",
          "2016-07-16",
          "2016-07-18",
          "2016-07-21",
          "2016-07-27",
          "2016-08-02",
          "2016-07-20",
          "2016-08-05",
          "2016-08-06",
          "2016-07-26",
          "2016-07-22",
          "2016-07-28",
          "2016-07-30",
          "2016-07-23",
          "2016-07-31",
          "2016-08-01",
          "2016-07-24",
          "2016-08-10",
          "2016-08-14",
          "2016-07-29",
          "2016-08-08",
          "2016-08-09",
          "2016-08-03",
          "2016-08-04",
          "2016-08-07",
          "2016-08-15",
          "2016-08-18",
          "2016-08-24",
          "2016-08-16",
          "2016-08-19",
          "2016-08-11",
          "2016-08-12",
          "2016-08-26",
          "2016-08-13",
          "2016-08-17",
          "2016-08-20",
          "2016-08-23",
          "2016-08-28",
          "2016-08-21",
          "2016-08-22",
          "2016-08-25",
          "2016-08-27",
          "2016-08-29",
          "2016-09-12",
          "2016-09-14",
          "2016-09-15",
          "2016-09-08",
          "2016-09-21",
          "2016-09-19",
          "2016-09-11",
          "2016-09-16",
          "2016-09-09",
          "2016-09-20",
          "2016-09-13",
          "2016-09-10",
          "2016-09-23",
          "2016-09-24",
          "2016-09-17",
          "2016-09-25",
          "2016-09-22",
          "2016-09-18",
          "2016-09-29",
          "2016-09-26",
          "2016-10-01",
          "2016-09-27",
          "2016-09-28",
          "2016-10-04",
          "2016-10-07",
          "2016-10-06",
          "2016-09-30",
          "2016-10-10",
          "2016-10-02",
          "2016-10-05",
          "2016-10-16",
          "2016-10-03",
          "2016-10-14",
          "2016-10-15",
          "2016-10-09",
          "2016-10-12",
          "2016-10-17",
          "2016-10-11",
          "2016-10-13",
          "2016-10-18",
          "2016-10-08",
          "2016-10-28",
          "2016-10-21",
          "2016-10-22",
          "2016-10-23",
          "2016-10-20",
          "2016-10-24",
          "2016-10-27",
          "2016-10-19",
          "2016-11-06",
          "2016-10-26",
          "2016-10-25",
          "2016-11-05",
          "2016-10-29",
          "2016-10-30",
          "2016-10-31",
          "2016-11-02",
          "2016-11-01",
          "2016-11-12",
          "2016-11-04",
          "2016-11-03",
          "2016-11-08",
          "2016-11-09",
          "2016-11-07",
          "2016-11-14",
          "2016-11-13",
          "2016-11-15",
          "2016-11-16",
          "2016-06-03",
          "2016-06-08",
          "2016-06-09",
          "2016-06-12",
          "2016-06-05",
          "2016-06-02",
          "2016-06-20",
          "2016-06-04",
          "2016-06-06",
          "2016-06-07",
          "2016-06-11",
          "2016-06-13",
          "2016-06-10",
          "2016-06-22",
          "2016-06-26",
          "2016-06-25",
          "2016-06-16",
          "2016-06-28",
          "2016-06-14",
          "2016-06-18",
          "2016-07-01",
          "2016-06-17",
          "2016-07-04",
          "2016-06-19",
          "2016-06-21",
          "2016-06-23",
          "2016-07-05",
          "2016-07-10",
          "2016-07-06",
          "2016-06-29",
          "2016-06-24",
          "2016-06-30",
          "2016-07-09",
          "2016-07-12",
          "2016-07-02",
          "2016-06-27",
          "2016-07-14",
          "2016-07-15",
          "2016-07-03",
          "2016-07-07",
          "2016-07-20",
          "2016-07-08",
          "2016-07-21",
          "2016-07-25",
          "2016-07-23",
          "2016-07-16",
          "2016-07-11",
          "2016-07-17",
          "2016-07-24",
          "2016-07-13",
          "2016-07-18",
          "2016-07-29",
          "2016-07-27",
          "2016-07-31",
          "2016-07-22",
          "2016-07-19",
          "2016-07-28",
          "2016-07-30",
          "2016-08-01",
          "2016-08-16",
          "2016-08-17",
          "2016-08-25",
          "2016-08-22",
          "2016-08-13",
          "2016-08-31",
          "2016-08-29",
          "2016-08-26",
          "2016-08-27",
          "2016-08-14",
          "2016-08-15",
          "2016-08-18",
          "2016-09-01",
          "2016-08-21",
          "2016-09-05",
          "2016-09-06",
          "2016-09-10",
          "2016-09-11",
          "2016-09-04",
          "2016-08-28",
          "2016-08-23",
          "2016-08-24",
          "2016-09-13",
          "2016-08-30",
          "2016-09-17",
          "2016-09-18",
          "2016-09-19",
          "2016-09-12",
          "2016-09-20",
          "2016-09-08",
          "2016-09-27",
          "2016-09-15",
          "2016-09-09",
          "2016-09-23",
          "2016-09-16",
          "2016-09-14",
          "2016-10-06",
          "2016-10-11",
          "2016-10-07",
          "2016-09-22",
          "2016-09-24",
          "2016-10-09",
          "2016-09-21",
          "2016-10-17",
          "2016-09-29",
          "2016-09-30",
          "2016-10-15",
          "2016-09-25",
          "2016-09-26",
          "2016-10-02",
          "2016-10-03",
          "2016-09-28",
          "2016-10-20",
          "2016-10-04",
          "2016-10-05",
          "2016-10-14",
          "2016-10-21",
          "2016-10-10",
          "2016-10-08",
          "2016-10-19",
          "2016-10-27",
          "2016-10-12",
          "2016-10-13",
          "2016-10-18",
          "2016-10-16",
          "2016-11-03",
          "2016-11-01",
          "2016-11-04",
          "2016-11-05",
          "2016-11-07",
          "2016-11-08",
          "2016-10-25",
          "2016-11-10",
          "2016-10-28",
          "2016-10-31",
          "2016-10-29",
          "2016-11-12",
          "2016-10-26",
          "2016-10-30",
          "2016-11-02",
          "2016-11-14",
          "2016-11-20",
          "2016-11-06",
          "2016-11-23",
          "2016-11-17",
          "2016-11-11",
          "2016-11-26",
          "2016-11-27",
          "2016-11-18",
          "2016-11-09",
          "2016-11-16",
          "2016-11-30",
          "2016-11-13",
          "2016-11-24",
          "2016-11-28",
          "2016-11-15",
          "2016-11-29",
          "2016-11-21",
          "2016-11-22",
          "2016-11-25",
          "2016-06-02",
          "2016-06-09",
          "2016-06-05",
          "2016-06-12",
          "2016-06-16",
          "2016-06-17",
          "2016-06-03",
          "2016-06-24",
          "2016-06-08",
          "2016-06-18",
          "2016-06-21",
          "2016-06-04",
          "2016-06-23",
          "2016-06-13",
          "2016-06-30",
          "2016-07-03",
          "2016-06-26",
          "2016-06-22",
          "2016-07-05",
          "2016-06-25",
          "2016-06-19",
          "2016-06-07",
          "2016-06-27",
          "2016-06-29",
          "2016-06-10",
          "2016-07-11",
          "2016-06-11",
          "2016-06-20",
          "2016-06-28",
          "2016-07-01",
          "2016-06-14",
          "2016-07-02",
          "2016-07-09",
          "2016-07-10",
          "2016-07-08",
          "2016-07-04",
          "2016-06-15",
          "2016-07-06",
          "2016-07-13",
          "2016-07-14",
          "2016-07-16",
          "2016-07-22",
          "2016-07-26",
          "2016-07-12",
          "2016-07-21",
          "2016-07-25",
          "2016-07-07",
          "2016-07-19",
          "2016-07-27",
          "2016-07-20",
          "2016-07-30",
          "2016-07-18",
          "2016-07-23",
          "2016-07-24",
          "2016-08-15",
          "2016-08-22",
          "2016-07-17",
          "2016-08-17",
          "2016-08-01",
          "2016-08-19",
          "2016-08-29",
          "2016-08-31",
          "2016-08-18",
          "2016-08-13",
          "2016-08-21",
          "2016-07-31",
          "2016-09-08",
          "2016-09-01",
          "2016-08-26",
          "2016-09-09",
          "2016-08-25",
          "2016-08-16",
          "2016-08-20",
          "2016-08-23",
          "2016-09-20",
          "2016-08-14",
          "2016-09-11",
          "2016-08-30",
          "2016-09-13",
          "2016-09-07",
          "2016-09-27",
          "2016-09-14",
          "2016-09-15",
          "2016-09-16",
          "2016-09-05",
          "2016-10-01",
          "2016-09-12",
          "2016-09-21",
          "2016-09-22",
          "2016-08-24",
          "2016-09-23",
          "2016-08-27",
          "2016-09-26",
          "2016-10-10",
          "2016-09-29",
          "2016-10-04",
          "2016-10-14",
          "2016-09-17",
          "2016-09-04",
          "2016-09-18",
          "2016-10-18",
          "2016-10-03",
          "2016-10-06",
          "2016-10-15",
          "2016-09-19",
          "2016-09-28",
          "2016-10-27",
          "2016-10-17",
          "2016-10-05",
          "2016-10-19",
          "2016-09-24",
          "2016-10-26",
          "2016-10-21",
          "2016-10-31",
          "2016-10-09",
          "2016-11-01",
          "2016-10-25",
          "2016-10-12",
          "2016-11-02",
          "2016-09-30",
          "2016-10-13",
          "2016-11-04",
          "2016-11-10",
          "2016-10-16",
          "2016-10-02",
          "2016-11-13",
          "2016-11-08",
          "2016-11-07",
          "2016-10-08",
          "2016-11-20",
          "2016-11-11",
          "2016-11-15",
          "2016-11-09",
          "2016-11-05",
          "2016-11-12",
          "2016-11-22",
          "2016-11-25",
          "2016-10-28",
          "2016-10-29",
          "2016-11-27",
          "2016-11-28",
          "2016-11-16",
          "2016-11-17",
          "2016-11-03",
          "2016-11-19",
          "2016-11-24",
          "2016-11-30",
          "2016-11-21",
          "2016-11-23",
          "2016-06-20",
          "2016-06-22",
          "2016-07-03",
          "2016-06-02",
          "2016-07-04",
          "2016-06-03",
          "2016-06-04",
          "2016-06-06",
          "2016-07-08",
          "2016-06-07",
          "2016-06-09",
          "2016-06-08",
          "2016-07-13",
          "2016-06-12",
          "2016-06-13",
          "2016-06-14",
          "2016-06-16",
          "2016-06-17",
          "2016-06-05",
          "2016-06-23",
          "2016-06-21",
          "2016-06-25",
          "2016-06-26",
          "2016-07-22",
          "2016-06-27",
          "2016-06-11",
          "2016-07-02",
          "2016-06-28",
          "2016-06-29",
          "2016-07-01",
          "2016-07-10",
          "2016-07-11",
          "2016-06-18",
          "2016-07-07",
          "2016-06-19",
          "2016-07-15",
          "2016-07-14",
          "2016-06-10",
          "2016-07-17",
          "2016-07-18",
          "2016-06-15",
          "2016-06-30",
          "2016-07-21",
          "2016-08-20",
          "2016-07-25",
          "2016-08-21",
          "2016-07-27",
          "2016-07-05",
          "2016-06-24",
          "2016-08-24",
          "2016-08-30",
          "2016-07-09",
          "2016-07-12",
          "2016-07-06",
          "2016-07-19",
          "2016-09-07",
          "2016-08-16",
          "2016-09-09",
          "2016-09-15",
          "2016-07-16",
          "2016-08-17",
          "2016-09-19",
          "2016-08-01",
          "2016-08-19",
          "2016-07-20",
          "2016-08-25",
          "2016-07-23",
          "2016-08-26",
          "2016-07-24",
          "2016-08-27",
          "2016-08-28",
          "2016-07-26",
          "2016-08-31",
          "2016-09-01",
          "2016-07-28",
          "2016-07-29",
          "2016-07-30",
          "2016-10-01",
          "2016-09-04",
          "2016-07-31",
          "2016-09-06",
          "2016-09-08",
          "2016-08-14",
          "2016-08-15",
          "2016-10-07",
          "2016-09-10",
          "2016-10-09",
          "2016-09-12",
          "2016-09-11",
          "2016-10-11",
          "2016-08-22",
          "2016-09-14",
          "2016-08-13",
          "2016-10-16",
          "2016-09-16",
          "2016-09-17",
          "2016-09-18",
          "2016-08-29",
          "2016-09-21",
          "2016-09-20",
          "2016-08-18",
          "2016-09-22",
          "2016-09-24",
          "2016-09-28",
          "2016-08-23",
          "2016-09-23",
          "2016-09-26",
          "2016-09-27",
          "2016-10-30",
          "2016-10-31",
          "2016-10-06",
          "2016-09-30",
          "2016-10-04",
          "2016-09-05",
          "2016-09-13",
          "2016-11-09",
          "2016-10-17",
          "2016-11-12",
          "2016-10-02",
          "2016-10-20",
          "2016-10-19",
          "2016-09-25",
          "2016-10-21",
          "2016-11-19",
          "2016-09-29",
          "2016-10-08",
          "2016-11-20",
          "2016-10-29",
          "2016-10-12",
          "2016-10-03",
          "2016-11-02",
          "2016-10-05",
          "2016-10-14",
          "2016-10-15",
          "2016-11-07",
          "2016-10-18",
          "2016-10-10",
          "2016-11-05",
          "2016-11-08",
          "2016-10-13",
          "2016-11-11",
          "2016-11-14",
          "2016-11-16",
          "2016-10-25",
          "2016-10-26",
          "2016-11-13",
          "2016-11-17",
          "2016-11-15",
          "2016-11-23",
          "2016-11-01",
          "2016-11-21",
          "2016-11-24",
          "2016-10-27",
          "2016-10-28",
          "2016-11-03",
          "2016-11-26",
          "2016-11-10",
          "2016-11-28",
          "2016-11-04",
          "2016-11-30",
          "2016-11-06",
          "2016-11-18",
          "2016-11-25",
          "2016-11-27",
          "2016-11-29",
          "2016-11-22",
          "2016-06-09",
          "2016-06-15",
          "2016-06-16",
          "2016-07-04",
          "2016-06-08",
          "2016-06-02",
          "2016-06-03",
          "2016-06-05",
          "2016-06-06",
          "2016-07-13",
          "2016-06-13",
          "2016-06-12",
          "2016-07-17",
          "2016-06-24",
          "2016-07-21",
          "2016-06-27",
          "2016-06-18",
          "2016-06-29",
          "2016-07-25",
          "2016-06-22",
          "2016-07-02",
          "2016-07-03",
          "2016-07-28",
          "2016-06-26",
          "2016-07-01",
          "2016-06-28",
          "2016-06-04",
          "2016-07-05",
          "2016-06-07",
          "2016-07-11",
          "2016-07-06",
          "2016-06-10",
          "2016-06-11",
          "2016-08-13",
          "2016-07-12",
          "2016-07-14",
          "2016-06-14",
          "2016-07-23",
          "2016-07-15",
          "2016-07-16",
          "2016-08-16",
          "2016-07-19",
          "2016-08-20",
          "2016-06-19",
          "2016-06-17",
          "2016-06-23",
          "2016-06-25",
          "2016-07-29",
          "2016-06-30",
          "2016-09-06",
          "2016-07-07",
          "2016-08-17",
          "2016-08-19",
          "2016-09-12",
          "2016-07-08",
          "2016-08-21",
          "2016-07-10",
          "2016-09-19",
          "2016-09-21",
          "2016-08-31",
          "2016-08-22",
          "2016-08-23",
          "2016-09-23",
          "2016-08-24",
          "2016-07-18",
          "2016-07-20",
          "2016-07-22",
          "2016-07-26",
          "2016-07-27",
          "2016-08-26",
          "2016-07-24",
          "2016-08-27",
          "2016-09-11",
          "2016-09-04",
          "2016-10-07",
          "2016-07-30",
          "2016-07-31",
          "2016-10-08",
          "2016-09-14",
          "2016-08-01",
          "2016-09-08",
          "2016-10-14",
          "2016-09-09",
          "2016-10-16",
          "2016-09-24",
          "2016-09-13",
          "2016-10-18",
          "2016-09-16",
          "2016-10-20",
          "2016-09-18",
          "2016-08-14",
          "2016-09-20",
          "2016-08-15",
          "2016-10-05",
          "2016-10-28",
          "2016-10-06",
          "2016-09-28",
          "2016-08-18",
          "2016-10-30",
          "2016-09-30",
          "2016-10-03",
          "2016-08-25",
          "2016-10-02",
          "2016-09-01",
          "2016-10-04",
          "2016-08-28",
          "2016-08-29",
          "2016-11-05",
          "2016-08-30",
          "2016-10-17",
          "2016-09-05",
          "2016-11-14",
          "2016-10-11",
          "2016-09-07",
          "2016-10-21",
          "2016-09-10",
          "2016-10-15",
          "2016-09-15",
          "2016-11-18",
          "2016-09-17",
          "2016-11-01",
          "2016-10-19",
          "2016-10-25",
          "2016-09-22",
          "2016-10-26",
          "2016-11-27",
          "2016-09-25",
          "2016-10-31",
          "2016-09-27",
          "2016-09-26",
          "2016-10-27",
          "2016-09-29",
          "2016-10-01",
          "2016-11-15",
          "2016-10-09",
          "2016-11-04",
          "2016-11-20",
          "2016-10-10",
          "2016-10-12",
          "2016-11-07",
          "2016-10-13",
          "2016-11-10",
          "2016-11-11",
          "2016-11-19",
          "2016-11-28",
          "2016-11-23",
          "2016-11-29",
          "2016-11-16",
          "2016-11-17",
          "2016-11-30",
          "2016-10-29",
          "2016-11-26",
          "2016-11-02",
          "2016-11-03",
          "2016-11-06",
          "2016-11-09",
          "2016-11-08",
          "2016-11-12",
          "2016-11-13",
          "2016-11-22",
          "2016-11-21",
          "2016-11-24",
          "2016-11-25",
          "2016-06-05",
          "2016-06-07",
          "2016-06-13",
          "2016-06-14",
          "2016-06-18",
          "2016-06-20",
          "2016-06-22",
          "2016-06-25",
          "2016-06-26",
          "2016-06-02",
          "2016-06-03",
          "2016-06-29",
          "2016-07-04",
          "2016-06-04",
          "2016-07-08",
          "2016-07-10",
          "2016-06-09",
          "2016-07-17",
          "2016-06-15",
          "2016-06-24",
          "2016-06-17",
          "2016-06-21",
          "2016-07-25",
          "2016-06-30",
          "2016-06-06",
          "2016-06-08",
          "2016-06-28",
          "2016-06-11",
          "2016-07-03",
          "2016-07-06",
          "2016-07-09",
          "2016-07-14",
          "2016-06-23",
          "2016-06-10",
          "2016-07-16",
          "2016-08-16",
          "2016-07-15",
          "2016-06-27",
          "2016-08-19",
          "2016-07-18",
          "2016-06-16",
          "2016-07-02",
          "2016-06-12",
          "2016-06-19",
          "2016-07-05",
          "2016-07-30",
          "2016-07-13",
          "2016-08-13",
          "2016-08-14",
          "2016-07-19",
          "2016-07-01",
          "2016-07-21",
          "2016-07-22",
          "2016-08-20",
          "2016-08-21",
          "2016-07-07",
          "2016-09-17",
          "2016-08-17",
          "2016-07-11",
          "2016-07-12",
          "2016-09-29",
          "2016-08-24",
          "2016-08-30",
          "2016-08-29",
          "2016-09-01",
          "2016-07-20",
          "2016-07-23",
          "2016-07-24",
          "2016-09-06",
          "2016-09-07",
          "2016-08-15",
          "2016-09-08",
          "2016-07-26",
          "2016-07-27",
          "2016-07-28",
          "2016-07-29",
          "2016-10-11",
          "2016-07-31",
          "2016-09-10",
          "2016-09-16",
          "2016-10-12",
          "2016-10-14",
          "2016-09-27",
          "2016-09-19",
          "2016-08-28",
          "2016-10-18",
          "2016-10-03",
          "2016-08-31",
          "2016-09-25",
          "2016-10-25",
          "2016-09-04",
          "2016-10-01",
          "2016-10-06",
          "2016-10-28",
          "2016-10-08",
          "2016-10-07",
          "2016-11-04",
          "2016-08-26",
          "2016-10-10",
          "2016-09-15",
          "2016-08-18",
          "2016-08-27",
          "2016-08-23",
          "2016-09-21",
          "2016-09-05",
          "2016-09-22",
          "2016-09-23",
          "2016-08-25",
          "2016-09-24",
          "2016-11-10",
          "2016-10-19",
          "2016-09-09",
          "2016-09-26",
          "2016-09-13",
          "2016-10-20",
          "2016-10-21",
          "2016-09-30",
          "2016-09-20",
          "2016-10-02",
          "2016-10-27",
          "2016-09-28",
          "2016-11-02",
          "2016-09-12",
          "2016-10-09",
          "2016-09-14",
          "2016-10-04",
          "2016-10-13",
          "2016-10-15",
          "2016-10-16",
          "2016-09-18",
          "2016-11-06",
          "2016-11-15",
          "2016-10-17",
          "2016-11-21",
          "2016-11-12",
          "2016-11-16",
          "2016-10-05",
          "2016-10-31",
          "2016-10-26",
          "2016-11-29",
          "2016-11-19",
          "2016-10-29",
          "2016-11-01",
          "2016-11-26",
          "2016-11-27",
          "2016-11-08",
          "2016-11-30",
          "2016-10-30",
          "2016-11-14",
          "2016-11-03",
          "2016-11-17",
          "2016-11-20",
          "2016-11-05",
          "2016-11-22",
          "2016-11-07",
          "2016-11-28",
          "2016-11-11",
          "2016-11-18",
          "2016-11-23",
          "2016-11-24",
          "2016-11-25",
          "2016-06-11",
          "2016-06-09",
          "2016-06-25",
          "2016-06-13",
          "2016-06-14",
          "2016-06-15",
          "2016-06-16",
          "2016-06-28",
          "2016-06-29",
          "2016-06-06",
          "2016-06-18",
          "2016-06-10",
          "2016-06-12",
          "2016-07-10",
          "2016-06-21",
          "2016-06-24",
          "2016-06-05",
          "2016-07-17",
          "2016-07-21",
          "2016-06-08",
          "2016-07-25",
          "2016-07-12",
          "2016-07-29",
          "2016-07-01",
          "2016-07-05",
          "2016-07-22",
          "2016-06-19",
          "2016-06-03",
          "2016-06-23",
          "2016-06-07",
          "2016-07-16",
          "2016-06-26",
          "2016-06-27",
          "2016-06-30",
          "2016-08-15",
          "2016-06-17",
          "2016-08-17",
          "2016-07-02",
          "2016-06-20",
          "2016-07-03",
          "2016-06-22",
          "2016-07-08",
          "2016-07-11",
          "2016-08-30",
          "2016-07-13",
          "2016-08-01",
          "2016-07-04",
          "2016-08-18",
          "2016-07-19",
          "2016-08-22",
          "2016-07-06",
          "2016-07-26",
          "2016-07-07",
          "2016-08-26",
          "2016-07-27",
          "2016-07-09",
          "2016-08-31",
          "2016-07-23",
          "2016-08-13",
          "2016-09-01",
          "2016-07-14",
          "2016-07-15",
          "2016-07-28",
          "2016-09-17",
          "2016-07-18",
          "2016-07-31",
          "2016-07-30",
          "2016-07-20",
          "2016-09-19",
          "2016-09-20",
          "2016-07-24",
          "2016-09-24",
          "2016-08-24",
          "2016-09-25",
          "2016-09-15",
          "2016-09-27",
          "2016-08-14",
          "2016-10-04",
          "2016-10-07",
          "2016-10-12",
          "2016-10-13",
          "2016-09-28",
          "2016-10-14",
          "2016-09-14",
          "2016-10-02",
          "2016-09-16",
          "2016-08-19",
          "2016-08-16",
          "2016-09-22",
          "2016-08-20",
          "2016-08-21",
          "2016-09-04",
          "2016-08-27",
          "2016-09-06",
          "2016-09-07",
          "2016-08-23",
          "2016-09-08",
          "2016-08-28",
          "2016-08-25",
          "2016-10-17",
          "2016-08-29",
          "2016-09-10",
          "2016-10-05",
          "2016-09-11",
          "2016-10-08",
          "2016-09-12",
          "2016-09-13",
          "2016-10-31",
          "2016-10-10",
          "2016-10-29",
          "2016-10-30",
          "2016-09-18",
          "2016-09-09",
          "2016-11-02",
          "2016-10-15",
          "2016-09-26",
          "2016-11-03",
          "2016-09-23",
          "2016-11-04",
          "2016-11-06",
          "2016-10-21",
          "2016-10-06",
          "2016-09-21",
          "2016-10-01",
          "2016-10-09",
          "2016-11-21",
          "2016-09-29",
          "2016-10-16",
          "2016-09-30",
          "2016-11-19",
          "2016-10-03",
          "2016-11-26",
          "2016-11-27",
          "2016-11-28",
          "2016-10-18",
          "2016-11-14",
          "2016-10-26",
          "2016-10-27",
          "2016-10-20",
          "2016-10-28",
          "2016-11-05",
          "2016-11-11",
          "2016-11-09",
          "2016-11-01",
          "2016-11-15",
          "2016-11-12",
          "2016-11-07",
          "2016-11-08",
          "2016-11-16",
          "2016-11-10",
          "2016-11-18",
          "2016-11-25",
          "2016-11-22",
          "2016-11-13",
          "2016-11-29",
          "2016-11-30",
          "2016-11-17",
          "2016-11-20",
          "2016-06-04",
          "2016-06-11",
          "2016-06-12",
          "2016-06-16",
          "2016-06-14",
          "2016-06-17",
          "2016-06-18",
          "2016-06-05",
          "2016-06-08",
          "2016-06-28",
          "2016-06-30",
          "2016-06-20",
          "2016-07-10",
          "2016-07-06",
          "2016-06-22",
          "2016-06-02",
          "2016-06-06",
          "2016-07-16",
          "2016-06-23",
          "2016-07-19",
          "2016-06-07",
          "2016-06-10",
          "2016-07-20",
          "2016-06-13",
          "2016-07-23",
          "2016-07-08",
          "2016-06-21",
          "2016-08-01",
          "2016-06-24",
          "2016-07-17",
          "2016-07-18",
          "2016-08-19",
          "2016-07-09",
          "2016-06-03",
          "2016-07-30",
          "2016-08-31",
          "2016-07-14",
          "2016-09-01",
          "2016-06-09",
          "2016-08-21",
          "2016-08-23",
          "2016-06-15",
          "2016-07-21",
          "2016-07-22",
          "2016-07-25",
          "2016-07-24",
          "2016-08-13",
          "2016-09-17",
          "2016-09-18",
          "2016-08-14",
          "2016-06-25",
          "2016-06-26",
          "2016-08-16",
          "2016-07-27",
          "2016-06-27",
          "2016-09-25",
          "2016-06-29",
          "2016-09-26",
          "2016-07-01",
          "2016-09-28",
          "2016-09-12",
          "2016-07-04",
          "2016-08-22",
          "2016-09-14",
          "2016-07-05",
          "2016-10-03",
          "2016-08-24",
          "2016-07-07",
          "2016-08-26",
          "2016-09-20",
          "2016-07-11",
          "2016-08-18",
          "2016-07-12",
          "2016-07-13",
          "2016-10-13",
          "2016-07-15",
          "2016-10-15",
          "2016-08-25",
          "2016-08-27",
          "2016-10-19",
          "2016-09-11",
          "2016-10-21",
          "2016-08-29",
          "2016-08-30",
          "2016-09-15",
          "2016-09-04",
          "2016-07-28",
          "2016-07-29",
          "2016-09-06",
          "2016-10-12",
          "2016-09-21",
          "2016-10-31",
          "2016-07-31",
          "2016-09-09",
          "2016-09-23",
          "2016-09-24",
          "2016-09-07",
          "2016-09-08",
          "2016-10-20",
          "2016-09-30",
          "2016-11-07",
          "2016-09-22",
          "2016-11-09",
          "2016-10-05",
          "2016-09-27",
          "2016-10-01",
          "2016-11-13",
          "2016-10-06",
          "2016-09-19",
          "2016-11-15",
          "2016-11-02",
          "2016-11-16",
          "2016-08-15",
          "2016-10-10",
          "2016-08-17",
          "2016-11-05",
          "2016-11-18",
          "2016-08-20",
          "2016-11-08",
          "2016-10-16",
          "2016-09-29",
          "2016-11-14",
          "2016-11-25",
          "2016-08-28",
          "2016-11-29",
          "2016-10-25",
          "2016-10-04",
          "2016-11-22",
          "2016-11-01",
          "2016-11-28",
          "2016-11-30",
          "2016-09-10",
          "2016-10-27",
          "2016-10-28",
          "2016-09-13",
          "2016-10-18",
          "2016-09-16",
          "2016-11-06",
          "2016-11-04",
          "2016-10-26",
          "2016-10-29",
          "2016-10-02",
          "2016-11-03",
          "2016-11-12",
          "2016-10-07",
          "2016-10-08",
          "2016-10-09",
          "2016-10-11",
          "2016-11-17",
          "2016-10-14",
          "2016-11-19",
          "2016-11-26",
          "2016-10-17",
          "2016-11-20",
          "2016-11-21",
          "2016-11-23",
          "2016-11-27",
          "2016-10-30",
          "2016-11-10",
          "2016-11-11",
          "2016-11-24",
          "2016-06-07",
          "2016-06-04",
          "2016-06-11",
          "2016-06-05",
          "2016-06-13",
          "2016-06-15",
          "2016-06-17",
          "2016-06-28",
          "2016-07-05",
          "2016-07-09",
          "2016-07-11",
          "2016-06-29",
          "2016-07-01",
          "2016-06-03",
          "2016-07-03",
          "2016-07-20",
          "2016-07-14",
          "2016-07-25",
          "2016-06-09",
          "2016-06-10",
          "2016-07-16",
          "2016-06-18",
          "2016-07-23",
          "2016-06-19",
          "2016-06-08",
          "2016-07-26",
          "2016-06-16",
          "2016-08-15",
          "2016-06-12",
          "2016-08-16",
          "2016-07-29",
          "2016-06-22",
          "2016-07-31",
          "2016-06-25",
          "2016-07-06",
          "2016-06-30",
          "2016-06-20",
          "2016-06-21",
          "2016-08-25",
          "2016-06-23",
          "2016-06-24",
          "2016-07-21",
          "2016-06-02",
          "2016-07-13",
          "2016-07-02",
          "2016-09-08",
          "2016-06-06",
          "2016-07-15",
          "2016-07-17",
          "2016-07-19",
          "2016-09-15",
          "2016-07-30",
          "2016-06-14",
          "2016-09-21",
          "2016-06-26",
          "2016-07-18",
          "2016-09-25",
          "2016-06-27",
          "2016-09-26",
          "2016-08-01",
          "2016-09-27",
          "2016-09-07",
          "2016-08-19",
          "2016-07-22",
          "2016-07-04",
          "2016-09-10",
          "2016-07-24",
          "2016-10-02",
          "2016-07-28",
          "2016-08-27",
          "2016-07-12",
          "2016-09-19",
          "2016-10-09",
          "2016-08-30",
          "2016-08-17",
          "2016-09-30",
          "2016-08-20",
          "2016-08-22",
          "2016-09-06",
          "2016-10-05",
          "2016-08-28",
          "2016-10-25",
          "2016-08-29",
          "2016-10-07",
          "2016-08-13",
          "2016-08-31",
          "2016-07-27",
          "2016-08-18",
          "2016-09-14",
          "2016-10-28",
          "2016-09-04",
          "2016-08-21",
          "2016-09-22",
          "2016-08-24",
          "2016-08-26",
          "2016-10-15",
          "2016-10-16",
          "2016-09-11",
          "2016-09-13",
          "2016-10-20",
          "2016-09-16",
          "2016-11-06",
          "2016-09-18",
          "2016-10-04",
          "2016-10-26",
          "2016-10-08",
          "2016-11-12",
          "2016-09-24",
          "2016-10-29",
          "2016-08-23",
          "2016-11-01",
          "2016-09-28",
          "2016-09-29",
          "2016-09-17",
          "2016-10-01",
          "2016-11-10",
          "2016-10-18",
          "2016-10-03",
          "2016-09-05",
          "2016-09-23",
          "2016-09-09",
          "2016-09-12",
          "2016-11-02",
          "2016-11-21",
          "2016-10-17",
          "2016-11-07",
          "2016-11-23",
          "2016-11-08",
          "2016-11-24",
          "2016-11-25",
          "2016-10-10",
          "2016-11-26",
          "2016-09-20",
          "2016-10-19",
          "2016-11-28",
          "2016-11-11",
          "2016-10-11",
          "2016-11-15",
          "2016-10-06",
          "2016-11-05",
          "2016-10-30",
          "2016-10-31",
          "2016-10-12",
          "2016-10-13",
          "2016-11-04",
          "2016-11-16",
          "2016-10-21",
          "2016-11-09",
          "2016-11-22",
          "2016-10-27",
          "2016-11-18",
          "2016-11-03",
          "2016-11-20",
          "2016-11-30",
          "2016-11-13",
          "2016-11-14",
          "2016-11-17",
          "2016-11-19",
          "2016-11-27",
          "2016-11-29"
         ],
         "xaxis": "x",
         "y": [
          null,
          null,
          null,
          null,
          null,
          null,
          null,
          null,
          null,
          null,
          null,
          null,
          null,
          null,
          null,
          null,
          null,
          null,
          null,
          null,
          null,
          null,
          null,
          null,
          null,
          null,
          null,
          null,
          null,
          null,
          null,
          null,
          null,
          null,
          null,
          null,
          null,
          null,
          null,
          null,
          null,
          null,
          null,
          null,
          null,
          null,
          null,
          null,
          null,
          null,
          null,
          null,
          null,
          null,
          null,
          null,
          null,
          null,
          null,
          null,
          null,
          null,
          null,
          null,
          null,
          null,
          null,
          null,
          null,
          null,
          null,
          null,
          null,
          null,
          null,
          null,
          null,
          null,
          null,
          null,
          null,
          null,
          null,
          null,
          null,
          null,
          null,
          null,
          null,
          null,
          null,
          null,
          null,
          null,
          null,
          null,
          null,
          null,
          null,
          null,
          null,
          null,
          null,
          null,
          null,
          null,
          null,
          null,
          null,
          null,
          null,
          null,
          null,
          null,
          null,
          null,
          null,
          null,
          null,
          null,
          null,
          null,
          null,
          null,
          null,
          null,
          null,
          null,
          null,
          null,
          null,
          null,
          null,
          null,
          null,
          null,
          null,
          null,
          null,
          null,
          null,
          null,
          null,
          null,
          null,
          null,
          null,
          null,
          null,
          null,
          null,
          null,
          null,
          null,
          null,
          null,
          null,
          null,
          null,
          null,
          null,
          null,
          null,
          null,
          null,
          null,
          null,
          null,
          null,
          null,
          null,
          null,
          null,
          null,
          null,
          null,
          null,
          null,
          null,
          null,
          null,
          null,
          null,
          null,
          null,
          null,
          null,
          null,
          null,
          null,
          null,
          null,
          null,
          null,
          null,
          null,
          null,
          null,
          null,
          null,
          null,
          null,
          null,
          null,
          null,
          null,
          null,
          null,
          null,
          null,
          null,
          null,
          null,
          null,
          null,
          null,
          null,
          null,
          null,
          null,
          null,
          null,
          null,
          null,
          null,
          null,
          null,
          null,
          null,
          null,
          null,
          null,
          null,
          null,
          null,
          null,
          null,
          null,
          null,
          null,
          null,
          null,
          null,
          null,
          null,
          null,
          null,
          null,
          null,
          null,
          null,
          null,
          null,
          null,
          null,
          null,
          null,
          null,
          null,
          null,
          null,
          null,
          null,
          null,
          null,
          null,
          null,
          null,
          null,
          null,
          null,
          null,
          null,
          null,
          null,
          null,
          null,
          null,
          null,
          null,
          null,
          null,
          null,
          null,
          null,
          null,
          null,
          null,
          null,
          null,
          null,
          null,
          null,
          null,
          null,
          null,
          null,
          null,
          null,
          null,
          null,
          null,
          null,
          null,
          null,
          null,
          null,
          null,
          null,
          null,
          null,
          null,
          null,
          null,
          null,
          null,
          null,
          null,
          null,
          null,
          null,
          null,
          null,
          null,
          null,
          null,
          null,
          null,
          null,
          null,
          null,
          null,
          null,
          null,
          null,
          null,
          null,
          null,
          null,
          null,
          null,
          null,
          null,
          null,
          null,
          null,
          null,
          null,
          null,
          null,
          null,
          null,
          null,
          null,
          null,
          null,
          null,
          null,
          null,
          null,
          null,
          null,
          null,
          null,
          null,
          null,
          null,
          null,
          null,
          null,
          null,
          null,
          null,
          null,
          null,
          null,
          null,
          null,
          null,
          null,
          null,
          null,
          null,
          null,
          null,
          null,
          null,
          null,
          null,
          null,
          null,
          null,
          null,
          null,
          null,
          null,
          null,
          null,
          null,
          null,
          null,
          null,
          null,
          null,
          null,
          null,
          null,
          null,
          null,
          null,
          null,
          null,
          null,
          null,
          null,
          null,
          null,
          null,
          null,
          null,
          null,
          null,
          null,
          null,
          null,
          null,
          null,
          null,
          null,
          null,
          null,
          null,
          null,
          null,
          null,
          null,
          null,
          null,
          null,
          null,
          null,
          null,
          null,
          null,
          null,
          null,
          null,
          null,
          null,
          null,
          null,
          null,
          null,
          null,
          null,
          null,
          null,
          null,
          null,
          null,
          null,
          null,
          null,
          97,
          97,
          97,
          94,
          98,
          97,
          97,
          96,
          96,
          97,
          90,
          92,
          98,
          97,
          97,
          97,
          97,
          97,
          98,
          97,
          96,
          97,
          97,
          97,
          98,
          96,
          98,
          98,
          97,
          97,
          97,
          97,
          97,
          97,
          98,
          98,
          97,
          98,
          96,
          95,
          97,
          97,
          96,
          98,
          98,
          98,
          98,
          97,
          97,
          97,
          98,
          96,
          97,
          97,
          97,
          97,
          96,
          98,
          97,
          97,
          97,
          97,
          97,
          98,
          98,
          97,
          97,
          98,
          97,
          96,
          97,
          98,
          98,
          98,
          96,
          97,
          97,
          98,
          97,
          97,
          98,
          97,
          98,
          98,
          95,
          97,
          97,
          97,
          98,
          98,
          96,
          97,
          97,
          96,
          97,
          96,
          98,
          97,
          96,
          98,
          97,
          96,
          97,
          98,
          98,
          98,
          97,
          98,
          97,
          96,
          95,
          98,
          98,
          96,
          97,
          97,
          97,
          97,
          96,
          97,
          97,
          97,
          97,
          98,
          97,
          96,
          96,
          96,
          96,
          97,
          97,
          97,
          98,
          96,
          98,
          97,
          97,
          98,
          97,
          97,
          95,
          94,
          97,
          97,
          97,
          98,
          96,
          97,
          99,
          98,
          96,
          98,
          97,
          97,
          98,
          97,
          97,
          98,
          97,
          97,
          97,
          97,
          97,
          97,
          98,
          98,
          null,
          null,
          null,
          null,
          null,
          null,
          null,
          null,
          null,
          null,
          null,
          null,
          null,
          null,
          null,
          null,
          null,
          null,
          null,
          null,
          null,
          null,
          null,
          null,
          null,
          null,
          null,
          null,
          null,
          null,
          null,
          null,
          null,
          null,
          null,
          null,
          null,
          null,
          null,
          null,
          null,
          null,
          null,
          null,
          null,
          null,
          null,
          null,
          null,
          null,
          null,
          null,
          null,
          null,
          null,
          null,
          null,
          null,
          null,
          null,
          null,
          null,
          null,
          null,
          null,
          null,
          null,
          null,
          null,
          null,
          null,
          null,
          null,
          null,
          null,
          null,
          null,
          null,
          null,
          null,
          null,
          null,
          null,
          null,
          null,
          null,
          null,
          null,
          null,
          null,
          null,
          null,
          null,
          null,
          null,
          null,
          null,
          null,
          null,
          null,
          null,
          null,
          null,
          null,
          null,
          null,
          null,
          null,
          null,
          null,
          null,
          null,
          null,
          null,
          null,
          null,
          null,
          null,
          null,
          null,
          null,
          null,
          null,
          null,
          null,
          null,
          null,
          null,
          null,
          null,
          null,
          null,
          null,
          null,
          null,
          null,
          null,
          null,
          null,
          null,
          null,
          null,
          null,
          null,
          null,
          null,
          null,
          null,
          null,
          null,
          null,
          null,
          null,
          null,
          null,
          null,
          null,
          null,
          null,
          null,
          null,
          null,
          null,
          null,
          null,
          null,
          null,
          null,
          null,
          null,
          null,
          null,
          null,
          null,
          null,
          null,
          null,
          null,
          null,
          null,
          null,
          null,
          null,
          null,
          null,
          null,
          null,
          null,
          null,
          null,
          null,
          null,
          null,
          null,
          null,
          null,
          null,
          null,
          null,
          null,
          null,
          null,
          null,
          null,
          null,
          null,
          null,
          null,
          null,
          null,
          null,
          null,
          null,
          null,
          null,
          null,
          null,
          null,
          null,
          null,
          null,
          null,
          null,
          null,
          null,
          null,
          null,
          null,
          null,
          null,
          null,
          null,
          null,
          null,
          null,
          null,
          null,
          null,
          null,
          null,
          null,
          null,
          null,
          null,
          null,
          null,
          null,
          null,
          null,
          null,
          null,
          null,
          null,
          null,
          null,
          null,
          null,
          null,
          null,
          null,
          null,
          null,
          null,
          null,
          null,
          null,
          null,
          null,
          null,
          null,
          null,
          null,
          null,
          null,
          null,
          null,
          null,
          null,
          null,
          null,
          null,
          null,
          null,
          null,
          null,
          null,
          null,
          null,
          null,
          null,
          null,
          null,
          null,
          null,
          null,
          null,
          null,
          null,
          null,
          null,
          null,
          null,
          null,
          null,
          null,
          null,
          null,
          null,
          null,
          null,
          null,
          null,
          null,
          null,
          null,
          null,
          null,
          null,
          null,
          null,
          null,
          null,
          null,
          null,
          null,
          null,
          null,
          null,
          null,
          null,
          null,
          null,
          null,
          null,
          null,
          null,
          null,
          null,
          null,
          null,
          null,
          null,
          null,
          null,
          null,
          null,
          null,
          null,
          null,
          null,
          null,
          null,
          null,
          null,
          null,
          null,
          null,
          null,
          null,
          null,
          null,
          null,
          null,
          null,
          null,
          null,
          null,
          null,
          null,
          null,
          null,
          null,
          null,
          null,
          null,
          null,
          null,
          null,
          null,
          null,
          null,
          null,
          null,
          null,
          null,
          null,
          null,
          null,
          null,
          null,
          null,
          null,
          null,
          null,
          null,
          null,
          null,
          null,
          null,
          null,
          null,
          null,
          null,
          null,
          null,
          null,
          null,
          null,
          null,
          null,
          null,
          null,
          null,
          null,
          null,
          null,
          null,
          null,
          null,
          null,
          null,
          null,
          null,
          null,
          null,
          null,
          null,
          null,
          null,
          null,
          null,
          null,
          null,
          null,
          null,
          null,
          null,
          null,
          null,
          null,
          null,
          null,
          null,
          null,
          null,
          null,
          null,
          null,
          null,
          null,
          null,
          null,
          null,
          null,
          null,
          null,
          null,
          null,
          null,
          null,
          null,
          null,
          null,
          null,
          null,
          null,
          null,
          null,
          null,
          null,
          null,
          null,
          null,
          null,
          null,
          null,
          null,
          null,
          null,
          null,
          null,
          null,
          null,
          null,
          null,
          null,
          null,
          null,
          null,
          null,
          null,
          null,
          null,
          null,
          null,
          null,
          null,
          null,
          null,
          null,
          null,
          null,
          null,
          null,
          null,
          null,
          null,
          null,
          null,
          null,
          null,
          null,
          null,
          null,
          null,
          null,
          null,
          null,
          null,
          null,
          null,
          null,
          null,
          null,
          null,
          null,
          null,
          null,
          null,
          null,
          null,
          null,
          null,
          null,
          null,
          null,
          null,
          null,
          null,
          null,
          null,
          null,
          null,
          null,
          null,
          null,
          null,
          null,
          null,
          null,
          null,
          null,
          null,
          null,
          null,
          null,
          null,
          null,
          null,
          null,
          null,
          null,
          null,
          null,
          null,
          null,
          null,
          null,
          null,
          null,
          null,
          null,
          null,
          null,
          null,
          null,
          null,
          null,
          null,
          null,
          null,
          null,
          null,
          null,
          null,
          null,
          null,
          null,
          null,
          null,
          null,
          null,
          null,
          null,
          null,
          null,
          null,
          null,
          null,
          null,
          null,
          null,
          null,
          null,
          null,
          null,
          null,
          null,
          null,
          null,
          null,
          null,
          null,
          null,
          null,
          null,
          null,
          null,
          null,
          null,
          null,
          null,
          null,
          null,
          null,
          null,
          null,
          null,
          null,
          null,
          null,
          null,
          null,
          null,
          null,
          null,
          null,
          null,
          null,
          null,
          null,
          null,
          null,
          null,
          null,
          null,
          null,
          null,
          null,
          null,
          null,
          null,
          null,
          null,
          null,
          null,
          null,
          null,
          null,
          null,
          null,
          null,
          null,
          null,
          null,
          null,
          null,
          null,
          null,
          null,
          null,
          null,
          null,
          null,
          null,
          null,
          null,
          null,
          null,
          null,
          null,
          null,
          null,
          null,
          null,
          null,
          null,
          null,
          null,
          null,
          null,
          null,
          null,
          null,
          null,
          null,
          null,
          null,
          null,
          null,
          null,
          null,
          null,
          null,
          null,
          null,
          null,
          null,
          null,
          null,
          null,
          null,
          null,
          null,
          null,
          null,
          null,
          null,
          null,
          null,
          null,
          null,
          null,
          null,
          null,
          null,
          null,
          null,
          null,
          null,
          null,
          null,
          null,
          null,
          null,
          null,
          null,
          null,
          null,
          null,
          null,
          null,
          null,
          null,
          null,
          null,
          null,
          null,
          null,
          null,
          null,
          null,
          null,
          null,
          null,
          null,
          null,
          null,
          null,
          null,
          null,
          null,
          null,
          null,
          null,
          null,
          null,
          null,
          null,
          null,
          null,
          null,
          null,
          null,
          null,
          null,
          null,
          null,
          null,
          null,
          null,
          null,
          null,
          null,
          null,
          null,
          null,
          null,
          null,
          null,
          null,
          null,
          null,
          null,
          null,
          null,
          null,
          null,
          null,
          null,
          null,
          null,
          null
         ],
         "yaxis": "y"
        }
       ],
       "layout": {
        "legend": {
         "tracegroupgap": 0
        },
        "template": {
         "data": {
          "bar": [
           {
            "error_x": {
             "color": "#2a3f5f"
            },
            "error_y": {
             "color": "#2a3f5f"
            },
            "marker": {
             "line": {
              "color": "#E5ECF6",
              "width": 0.5
             },
             "pattern": {
              "fillmode": "overlay",
              "size": 10,
              "solidity": 0.2
             }
            },
            "type": "bar"
           }
          ],
          "barpolar": [
           {
            "marker": {
             "line": {
              "color": "#E5ECF6",
              "width": 0.5
             },
             "pattern": {
              "fillmode": "overlay",
              "size": 10,
              "solidity": 0.2
             }
            },
            "type": "barpolar"
           }
          ],
          "carpet": [
           {
            "aaxis": {
             "endlinecolor": "#2a3f5f",
             "gridcolor": "white",
             "linecolor": "white",
             "minorgridcolor": "white",
             "startlinecolor": "#2a3f5f"
            },
            "baxis": {
             "endlinecolor": "#2a3f5f",
             "gridcolor": "white",
             "linecolor": "white",
             "minorgridcolor": "white",
             "startlinecolor": "#2a3f5f"
            },
            "type": "carpet"
           }
          ],
          "choropleth": [
           {
            "colorbar": {
             "outlinewidth": 0,
             "ticks": ""
            },
            "type": "choropleth"
           }
          ],
          "contour": [
           {
            "colorbar": {
             "outlinewidth": 0,
             "ticks": ""
            },
            "colorscale": [
             [
              0,
              "#0d0887"
             ],
             [
              0.1111111111111111,
              "#46039f"
             ],
             [
              0.2222222222222222,
              "#7201a8"
             ],
             [
              0.3333333333333333,
              "#9c179e"
             ],
             [
              0.4444444444444444,
              "#bd3786"
             ],
             [
              0.5555555555555556,
              "#d8576b"
             ],
             [
              0.6666666666666666,
              "#ed7953"
             ],
             [
              0.7777777777777778,
              "#fb9f3a"
             ],
             [
              0.8888888888888888,
              "#fdca26"
             ],
             [
              1,
              "#f0f921"
             ]
            ],
            "type": "contour"
           }
          ],
          "contourcarpet": [
           {
            "colorbar": {
             "outlinewidth": 0,
             "ticks": ""
            },
            "type": "contourcarpet"
           }
          ],
          "heatmap": [
           {
            "colorbar": {
             "outlinewidth": 0,
             "ticks": ""
            },
            "colorscale": [
             [
              0,
              "#0d0887"
             ],
             [
              0.1111111111111111,
              "#46039f"
             ],
             [
              0.2222222222222222,
              "#7201a8"
             ],
             [
              0.3333333333333333,
              "#9c179e"
             ],
             [
              0.4444444444444444,
              "#bd3786"
             ],
             [
              0.5555555555555556,
              "#d8576b"
             ],
             [
              0.6666666666666666,
              "#ed7953"
             ],
             [
              0.7777777777777778,
              "#fb9f3a"
             ],
             [
              0.8888888888888888,
              "#fdca26"
             ],
             [
              1,
              "#f0f921"
             ]
            ],
            "type": "heatmap"
           }
          ],
          "heatmapgl": [
           {
            "colorbar": {
             "outlinewidth": 0,
             "ticks": ""
            },
            "colorscale": [
             [
              0,
              "#0d0887"
             ],
             [
              0.1111111111111111,
              "#46039f"
             ],
             [
              0.2222222222222222,
              "#7201a8"
             ],
             [
              0.3333333333333333,
              "#9c179e"
             ],
             [
              0.4444444444444444,
              "#bd3786"
             ],
             [
              0.5555555555555556,
              "#d8576b"
             ],
             [
              0.6666666666666666,
              "#ed7953"
             ],
             [
              0.7777777777777778,
              "#fb9f3a"
             ],
             [
              0.8888888888888888,
              "#fdca26"
             ],
             [
              1,
              "#f0f921"
             ]
            ],
            "type": "heatmapgl"
           }
          ],
          "histogram": [
           {
            "marker": {
             "pattern": {
              "fillmode": "overlay",
              "size": 10,
              "solidity": 0.2
             }
            },
            "type": "histogram"
           }
          ],
          "histogram2d": [
           {
            "colorbar": {
             "outlinewidth": 0,
             "ticks": ""
            },
            "colorscale": [
             [
              0,
              "#0d0887"
             ],
             [
              0.1111111111111111,
              "#46039f"
             ],
             [
              0.2222222222222222,
              "#7201a8"
             ],
             [
              0.3333333333333333,
              "#9c179e"
             ],
             [
              0.4444444444444444,
              "#bd3786"
             ],
             [
              0.5555555555555556,
              "#d8576b"
             ],
             [
              0.6666666666666666,
              "#ed7953"
             ],
             [
              0.7777777777777778,
              "#fb9f3a"
             ],
             [
              0.8888888888888888,
              "#fdca26"
             ],
             [
              1,
              "#f0f921"
             ]
            ],
            "type": "histogram2d"
           }
          ],
          "histogram2dcontour": [
           {
            "colorbar": {
             "outlinewidth": 0,
             "ticks": ""
            },
            "colorscale": [
             [
              0,
              "#0d0887"
             ],
             [
              0.1111111111111111,
              "#46039f"
             ],
             [
              0.2222222222222222,
              "#7201a8"
             ],
             [
              0.3333333333333333,
              "#9c179e"
             ],
             [
              0.4444444444444444,
              "#bd3786"
             ],
             [
              0.5555555555555556,
              "#d8576b"
             ],
             [
              0.6666666666666666,
              "#ed7953"
             ],
             [
              0.7777777777777778,
              "#fb9f3a"
             ],
             [
              0.8888888888888888,
              "#fdca26"
             ],
             [
              1,
              "#f0f921"
             ]
            ],
            "type": "histogram2dcontour"
           }
          ],
          "mesh3d": [
           {
            "colorbar": {
             "outlinewidth": 0,
             "ticks": ""
            },
            "type": "mesh3d"
           }
          ],
          "parcoords": [
           {
            "line": {
             "colorbar": {
              "outlinewidth": 0,
              "ticks": ""
             }
            },
            "type": "parcoords"
           }
          ],
          "pie": [
           {
            "automargin": true,
            "type": "pie"
           }
          ],
          "scatter": [
           {
            "fillpattern": {
             "fillmode": "overlay",
             "size": 10,
             "solidity": 0.2
            },
            "type": "scatter"
           }
          ],
          "scatter3d": [
           {
            "line": {
             "colorbar": {
              "outlinewidth": 0,
              "ticks": ""
             }
            },
            "marker": {
             "colorbar": {
              "outlinewidth": 0,
              "ticks": ""
             }
            },
            "type": "scatter3d"
           }
          ],
          "scattercarpet": [
           {
            "marker": {
             "colorbar": {
              "outlinewidth": 0,
              "ticks": ""
             }
            },
            "type": "scattercarpet"
           }
          ],
          "scattergeo": [
           {
            "marker": {
             "colorbar": {
              "outlinewidth": 0,
              "ticks": ""
             }
            },
            "type": "scattergeo"
           }
          ],
          "scattergl": [
           {
            "marker": {
             "colorbar": {
              "outlinewidth": 0,
              "ticks": ""
             }
            },
            "type": "scattergl"
           }
          ],
          "scattermapbox": [
           {
            "marker": {
             "colorbar": {
              "outlinewidth": 0,
              "ticks": ""
             }
            },
            "type": "scattermapbox"
           }
          ],
          "scatterpolar": [
           {
            "marker": {
             "colorbar": {
              "outlinewidth": 0,
              "ticks": ""
             }
            },
            "type": "scatterpolar"
           }
          ],
          "scatterpolargl": [
           {
            "marker": {
             "colorbar": {
              "outlinewidth": 0,
              "ticks": ""
             }
            },
            "type": "scatterpolargl"
           }
          ],
          "scatterternary": [
           {
            "marker": {
             "colorbar": {
              "outlinewidth": 0,
              "ticks": ""
             }
            },
            "type": "scatterternary"
           }
          ],
          "surface": [
           {
            "colorbar": {
             "outlinewidth": 0,
             "ticks": ""
            },
            "colorscale": [
             [
              0,
              "#0d0887"
             ],
             [
              0.1111111111111111,
              "#46039f"
             ],
             [
              0.2222222222222222,
              "#7201a8"
             ],
             [
              0.3333333333333333,
              "#9c179e"
             ],
             [
              0.4444444444444444,
              "#bd3786"
             ],
             [
              0.5555555555555556,
              "#d8576b"
             ],
             [
              0.6666666666666666,
              "#ed7953"
             ],
             [
              0.7777777777777778,
              "#fb9f3a"
             ],
             [
              0.8888888888888888,
              "#fdca26"
             ],
             [
              1,
              "#f0f921"
             ]
            ],
            "type": "surface"
           }
          ],
          "table": [
           {
            "cells": {
             "fill": {
              "color": "#EBF0F8"
             },
             "line": {
              "color": "white"
             }
            },
            "header": {
             "fill": {
              "color": "#C8D4E3"
             },
             "line": {
              "color": "white"
             }
            },
            "type": "table"
           }
          ]
         },
         "layout": {
          "annotationdefaults": {
           "arrowcolor": "#2a3f5f",
           "arrowhead": 0,
           "arrowwidth": 1
          },
          "autotypenumbers": "strict",
          "coloraxis": {
           "colorbar": {
            "outlinewidth": 0,
            "ticks": ""
           }
          },
          "colorscale": {
           "diverging": [
            [
             0,
             "#8e0152"
            ],
            [
             0.1,
             "#c51b7d"
            ],
            [
             0.2,
             "#de77ae"
            ],
            [
             0.3,
             "#f1b6da"
            ],
            [
             0.4,
             "#fde0ef"
            ],
            [
             0.5,
             "#f7f7f7"
            ],
            [
             0.6,
             "#e6f5d0"
            ],
            [
             0.7,
             "#b8e186"
            ],
            [
             0.8,
             "#7fbc41"
            ],
            [
             0.9,
             "#4d9221"
            ],
            [
             1,
             "#276419"
            ]
           ],
           "sequential": [
            [
             0,
             "#0d0887"
            ],
            [
             0.1111111111111111,
             "#46039f"
            ],
            [
             0.2222222222222222,
             "#7201a8"
            ],
            [
             0.3333333333333333,
             "#9c179e"
            ],
            [
             0.4444444444444444,
             "#bd3786"
            ],
            [
             0.5555555555555556,
             "#d8576b"
            ],
            [
             0.6666666666666666,
             "#ed7953"
            ],
            [
             0.7777777777777778,
             "#fb9f3a"
            ],
            [
             0.8888888888888888,
             "#fdca26"
            ],
            [
             1,
             "#f0f921"
            ]
           ],
           "sequentialminus": [
            [
             0,
             "#0d0887"
            ],
            [
             0.1111111111111111,
             "#46039f"
            ],
            [
             0.2222222222222222,
             "#7201a8"
            ],
            [
             0.3333333333333333,
             "#9c179e"
            ],
            [
             0.4444444444444444,
             "#bd3786"
            ],
            [
             0.5555555555555556,
             "#d8576b"
            ],
            [
             0.6666666666666666,
             "#ed7953"
            ],
            [
             0.7777777777777778,
             "#fb9f3a"
            ],
            [
             0.8888888888888888,
             "#fdca26"
            ],
            [
             1,
             "#f0f921"
            ]
           ]
          },
          "colorway": [
           "#636efa",
           "#EF553B",
           "#00cc96",
           "#ab63fa",
           "#FFA15A",
           "#19d3f3",
           "#FF6692",
           "#B6E880",
           "#FF97FF",
           "#FECB52"
          ],
          "font": {
           "color": "#2a3f5f"
          },
          "geo": {
           "bgcolor": "white",
           "lakecolor": "white",
           "landcolor": "#E5ECF6",
           "showlakes": true,
           "showland": true,
           "subunitcolor": "white"
          },
          "hoverlabel": {
           "align": "left"
          },
          "hovermode": "closest",
          "mapbox": {
           "style": "light"
          },
          "paper_bgcolor": "white",
          "plot_bgcolor": "#E5ECF6",
          "polar": {
           "angularaxis": {
            "gridcolor": "white",
            "linecolor": "white",
            "ticks": ""
           },
           "bgcolor": "#E5ECF6",
           "radialaxis": {
            "gridcolor": "white",
            "linecolor": "white",
            "ticks": ""
           }
          },
          "scene": {
           "xaxis": {
            "backgroundcolor": "#E5ECF6",
            "gridcolor": "white",
            "gridwidth": 2,
            "linecolor": "white",
            "showbackground": true,
            "ticks": "",
            "zerolinecolor": "white"
           },
           "yaxis": {
            "backgroundcolor": "#E5ECF6",
            "gridcolor": "white",
            "gridwidth": 2,
            "linecolor": "white",
            "showbackground": true,
            "ticks": "",
            "zerolinecolor": "white"
           },
           "zaxis": {
            "backgroundcolor": "#E5ECF6",
            "gridcolor": "white",
            "gridwidth": 2,
            "linecolor": "white",
            "showbackground": true,
            "ticks": "",
            "zerolinecolor": "white"
           }
          },
          "shapedefaults": {
           "line": {
            "color": "#2a3f5f"
           }
          },
          "ternary": {
           "aaxis": {
            "gridcolor": "white",
            "linecolor": "white",
            "ticks": ""
           },
           "baxis": {
            "gridcolor": "white",
            "linecolor": "white",
            "ticks": ""
           },
           "bgcolor": "#E5ECF6",
           "caxis": {
            "gridcolor": "white",
            "linecolor": "white",
            "ticks": ""
           }
          },
          "title": {
           "x": 0.05
          },
          "xaxis": {
           "automargin": true,
           "gridcolor": "white",
           "linecolor": "white",
           "ticks": "",
           "title": {
            "standoff": 15
           },
           "zerolinecolor": "white",
           "zerolinewidth": 2
          },
          "yaxis": {
           "automargin": true,
           "gridcolor": "white",
           "linecolor": "white",
           "ticks": "",
           "title": {
            "standoff": 15
           },
           "zerolinecolor": "white",
           "zerolinewidth": 2
          }
         }
        },
        "title": {
         "text": "O2 Saturation for id -TKpptiCA5cASNKU0VSmx4"
        },
        "xaxis": {
         "anchor": "y",
         "domain": [
          0,
          1
         ],
         "range": [
          "2015-08-04",
          "2017-04-30"
         ],
         "title": {
          "text": "Date recorded"
         }
        },
        "yaxis": {
         "anchor": "x",
         "domain": [
          0,
          1
         ],
         "title": {
          "text": "O2 Saturation"
         }
        }
       }
      }
     },
     "metadata": {},
     "output_type": "display_data"
    },
    {
     "data": {
      "application/vnd.plotly.v1+json": {
       "config": {
        "plotlyServerURL": "https://plot.ly"
       },
       "data": [
        {
         "hovertemplate": "Date recorded=%{x}<br>O2 Saturation=%{y}<extra></extra>",
         "legendgroup": "",
         "marker": {
          "color": "#636efa",
          "symbol": "circle"
         },
         "mode": "markers",
         "name": "",
         "orientation": "v",
         "showlegend": false,
         "type": "scatter",
         "x": [
          "2016-08-24",
          "2016-08-26",
          "2016-08-30",
          "2016-08-25",
          "2016-09-02",
          "2016-09-04",
          "2016-08-27",
          "2016-09-05",
          "2016-09-08",
          "2016-09-03",
          "2016-08-28",
          "2016-08-29",
          "2016-09-10",
          "2016-09-11",
          "2016-09-07",
          "2016-09-14",
          "2016-09-01",
          "2016-08-31",
          "2016-09-15",
          "2016-09-06",
          "2016-09-17",
          "2016-09-09",
          "2016-09-20",
          "2016-09-22",
          "2016-09-13",
          "2016-09-18",
          "2016-09-12",
          "2016-09-24",
          "2016-09-16",
          "2016-09-29",
          "2016-09-21",
          "2016-10-01",
          "2016-09-19",
          "2016-09-23",
          "2016-09-25",
          "2016-09-30",
          "2016-09-27",
          "2016-10-05",
          "2016-10-06",
          "2016-10-09",
          "2016-10-08",
          "2016-10-02",
          "2016-10-07",
          "2016-10-10",
          "2016-09-28",
          "2016-10-03",
          "2016-10-12",
          "2016-10-14",
          "2016-10-15",
          "2016-10-04",
          "2016-10-20",
          "2016-10-21",
          "2016-10-24",
          "2016-10-16",
          "2016-10-11",
          "2016-10-13",
          "2016-10-19",
          "2016-10-18",
          "2016-10-17",
          "2016-10-22",
          "2016-10-26",
          "2016-10-23",
          "2016-10-27",
          "2016-10-28",
          "2016-10-29",
          "2016-10-25",
          "2016-11-02",
          "2016-11-01",
          "2016-11-06",
          "2016-12-04",
          "2016-12-05",
          "2016-12-07",
          "2016-12-10",
          "2016-11-30",
          "2016-11-29",
          "2016-12-02",
          "2016-12-14",
          "2016-12-01",
          "2016-12-19",
          "2016-12-03",
          "2016-12-08",
          "2016-12-22",
          "2016-12-09",
          "2016-12-06",
          "2016-12-12",
          "2016-12-13",
          "2016-12-16",
          "2016-12-17",
          "2016-12-15",
          "2016-12-11",
          "2016-12-23",
          "2016-12-18",
          "2016-12-24",
          "2016-12-20",
          "2017-01-06",
          "2017-01-04",
          "2016-12-21",
          "2017-01-11",
          "2017-01-12",
          "2017-01-15",
          "2017-01-02",
          "2017-01-03",
          "2017-01-05",
          "2017-01-01",
          "2017-01-17",
          "2017-01-20",
          "2017-01-08",
          "2017-01-23",
          "2017-01-07",
          "2017-01-09",
          "2017-01-10",
          "2017-01-28",
          "2017-01-30",
          "2017-01-13",
          "2017-01-29",
          "2017-01-19",
          "2017-01-14",
          "2017-01-16",
          "2017-02-03",
          "2017-01-31",
          "2017-01-26",
          "2017-01-18",
          "2017-01-22",
          "2017-02-04",
          "2017-01-21",
          "2017-01-24",
          "2017-02-07",
          "2017-01-25",
          "2017-02-02",
          "2017-01-27",
          "2017-02-05",
          "2017-02-06",
          "2017-02-01",
          "2017-02-08",
          "2017-02-09",
          "2016-08-24",
          "2016-08-26",
          "2016-08-31",
          "2016-09-02",
          "2016-09-03",
          "2016-09-08",
          "2016-08-25",
          "2016-09-11",
          "2016-08-27",
          "2016-09-04",
          "2016-09-12",
          "2016-09-13",
          "2016-08-28",
          "2016-09-15",
          "2016-09-07",
          "2016-09-17",
          "2016-09-18",
          "2016-09-10",
          "2016-09-01",
          "2016-08-30",
          "2016-09-20",
          "2016-09-23",
          "2016-09-05",
          "2016-09-24",
          "2016-09-06",
          "2016-09-27",
          "2016-09-21",
          "2016-09-14",
          "2016-09-09",
          "2016-10-01",
          "2016-10-07",
          "2016-09-19",
          "2016-10-05",
          "2016-09-22",
          "2016-09-25",
          "2016-09-26",
          "2016-10-06",
          "2016-10-08",
          "2016-10-17",
          "2016-10-26",
          "2016-10-14",
          "2016-10-10",
          "2016-10-15",
          "2016-10-13",
          "2016-10-16",
          "2016-10-27",
          "2016-10-20",
          "2016-11-02",
          "2016-11-07",
          "2016-10-29",
          "2016-11-04",
          "2016-10-30",
          "2016-11-20",
          "2016-11-21",
          "2016-11-23",
          "2016-11-25",
          "2016-11-17",
          "2016-11-30",
          "2016-11-22",
          "2016-11-28",
          "2016-12-12",
          "2016-12-01",
          "2016-12-08",
          "2016-12-07",
          "2016-12-11",
          "2017-01-01",
          "2016-12-16",
          "2017-01-07",
          "2016-12-21",
          "2017-01-06",
          "2016-12-23",
          "2016-12-13",
          "2017-01-20",
          "2017-01-15",
          "2017-01-10",
          "2017-01-22",
          "2017-01-16",
          "2017-01-13",
          "2017-01-19",
          "2017-02-03",
          "2017-01-17",
          "2017-02-04",
          "2017-02-09",
          "2017-01-18",
          "2017-02-02",
          "2016-09-08",
          "2016-08-27",
          "2016-09-07",
          "2016-09-04",
          "2016-09-11",
          "2016-09-01",
          "2016-09-06",
          "2016-09-27",
          "2016-08-24",
          "2016-08-26",
          "2016-09-15",
          "2016-08-28",
          "2016-09-18",
          "2016-09-19",
          "2016-08-30",
          "2016-08-31",
          "2016-09-02",
          "2016-09-03",
          "2016-09-05",
          "2016-09-09",
          "2016-09-10",
          "2016-09-12",
          "2016-09-21",
          "2016-09-13",
          "2016-09-14",
          "2016-09-24",
          "2016-10-10",
          "2016-09-17",
          "2016-10-13",
          "2016-10-14",
          "2016-09-20",
          "2016-10-16",
          "2016-09-22",
          "2016-10-05",
          "2016-09-23",
          "2016-10-06",
          "2016-09-25",
          "2016-09-26",
          "2016-10-01",
          "2016-10-17",
          "2016-10-30",
          "2016-10-20",
          "2016-10-07",
          "2016-10-08",
          "2016-11-07",
          "2016-12-01",
          "2016-10-26",
          "2016-11-23",
          "2016-10-27",
          "2016-11-17",
          "2016-11-13",
          "2016-10-29",
          "2016-11-21",
          "2016-11-02",
          "2016-11-20",
          "2016-11-04",
          "2016-12-08",
          "2016-12-13",
          "2016-12-12",
          "2016-12-23",
          "2016-12-07",
          "2017-01-13",
          "2016-11-22",
          "2017-01-17",
          "2016-12-11",
          "2017-01-01",
          "2017-01-22",
          "2016-11-25",
          "2016-12-16",
          "2016-11-28",
          "2016-12-21",
          "2017-01-20",
          "2016-11-30",
          "2017-01-15",
          "2017-01-12",
          "2017-01-16",
          "2017-02-03",
          "2017-01-18",
          "2017-01-19",
          "2017-02-09",
          "2017-02-02",
          "2016-08-25",
          "2016-09-12",
          "2016-09-14",
          "2016-08-26",
          "2016-08-30",
          "2016-10-07",
          "2016-09-13",
          "2016-09-15",
          "2016-09-18",
          "2016-10-17",
          "2016-09-20",
          "2016-08-28",
          "2016-09-19",
          "2016-10-26",
          "2016-10-27",
          "2016-09-25",
          "2016-09-26",
          "2016-08-24",
          "2016-09-27",
          "2016-08-27",
          "2016-09-17",
          "2016-10-08",
          "2016-10-10",
          "2016-10-16",
          "2016-09-23",
          "2016-10-13",
          "2016-10-15",
          "2016-09-22",
          "2016-10-06",
          "2016-10-29",
          "2016-11-21",
          "2016-10-01",
          "2016-10-30",
          "2016-10-05",
          "2016-11-07",
          "2016-11-04",
          "2016-12-13",
          "2016-10-20",
          "2016-11-22",
          "2016-11-17",
          "2016-11-02",
          "2017-01-07",
          "2016-11-25",
          "2017-01-12",
          "2016-11-13",
          "2017-01-17",
          "2017-01-20",
          "2016-12-16",
          "2016-11-20",
          "2016-12-08",
          "2016-11-23",
          "2016-12-21",
          "2016-12-23",
          "2016-12-12",
          "2017-01-01",
          "2016-12-07",
          "2016-11-28",
          "2016-11-30",
          "2016-12-11",
          "2017-01-10",
          "2017-01-05",
          "2017-01-06",
          "2017-01-13",
          "2017-01-22",
          "2017-01-16",
          "2017-02-02",
          "2017-01-19",
          "2017-02-03",
          "2017-01-15",
          "2017-01-18",
          "2017-02-04",
          "2017-02-09",
          "2016-08-27",
          "2016-09-18",
          "2016-09-19",
          "2016-08-25",
          "2016-08-26",
          "2016-09-20",
          "2016-08-28",
          "2016-09-14",
          "2016-09-12",
          "2016-09-22",
          "2016-09-24",
          "2016-09-26",
          "2016-09-17",
          "2016-10-30",
          "2016-09-27",
          "2016-11-02",
          "2016-08-24",
          "2016-10-01",
          "2016-08-30",
          "2016-10-13",
          "2016-10-06",
          "2016-10-05",
          "2016-10-10",
          "2016-09-13",
          "2016-10-15",
          "2016-09-15",
          "2016-10-26",
          "2016-10-16",
          "2016-10-29",
          "2016-11-21",
          "2016-10-17",
          "2016-09-21",
          "2016-09-23",
          "2016-09-25",
          "2016-12-01",
          "2016-10-27",
          "2016-10-07",
          "2016-10-08",
          "2016-10-14",
          "2016-11-17",
          "2016-11-25",
          "2016-10-20",
          "2016-11-23",
          "2016-12-12",
          "2016-11-22",
          "2016-12-07",
          "2016-11-28",
          "2016-11-04",
          "2016-11-07",
          "2016-12-16",
          "2017-01-06",
          "2017-01-10",
          "2017-01-12",
          "2016-12-23",
          "2016-11-13",
          "2016-11-20",
          "2017-01-01",
          "2016-11-30",
          "2017-02-09",
          "2017-01-13",
          "2017-01-17",
          "2016-12-13",
          "2017-02-02",
          "2017-02-03",
          "2017-01-19",
          "2016-12-08",
          "2017-01-05",
          "2016-12-21",
          "2017-01-15",
          "2017-01-16",
          "2017-01-18",
          "2017-01-07",
          "2017-01-22",
          "2017-01-20",
          "2017-02-04",
          "2016-08-30",
          "2016-09-02",
          "2016-09-11",
          "2016-09-24",
          "2016-09-25",
          "2016-08-25",
          "2016-09-01",
          "2016-09-03",
          "2016-09-06",
          "2016-09-07",
          "2016-10-10",
          "2016-09-12",
          "2016-09-14",
          "2016-09-18",
          "2016-09-20",
          "2016-09-17",
          "2016-10-14",
          "2016-08-26",
          "2016-08-27",
          "2016-08-28",
          "2016-09-21",
          "2016-09-23",
          "2016-08-31",
          "2016-09-08",
          "2016-09-09",
          "2016-10-29",
          "2016-08-24",
          "2016-10-08",
          "2016-10-13",
          "2016-09-13",
          "2016-10-15",
          "2016-09-04",
          "2016-09-05",
          "2016-11-13",
          "2016-09-15",
          "2016-09-19",
          "2016-10-05",
          "2016-09-26",
          "2016-10-26",
          "2016-10-27",
          "2016-09-27",
          "2016-10-01",
          "2016-10-30",
          "2016-10-16",
          "2016-11-30",
          "2016-10-06",
          "2016-12-01",
          "2016-10-20",
          "2016-09-22",
          "2016-11-21",
          "2016-10-07",
          "2016-11-04",
          "2016-11-22",
          "2016-10-17",
          "2016-11-02",
          "2016-12-11",
          "2017-01-05",
          "2016-12-12",
          "2016-12-13",
          "2016-11-20",
          "2016-11-23",
          "2017-01-06",
          "2016-11-07",
          "2016-11-25",
          "2016-11-28",
          "2017-01-12",
          "2017-01-20",
          "2017-01-15",
          "2017-01-19",
          "2016-12-16",
          "2017-02-04",
          "2016-12-07",
          "2016-12-08",
          "2017-01-01",
          "2017-01-10",
          "2017-01-16",
          "2016-12-21",
          "2016-12-23",
          "2017-01-18",
          "2017-02-09",
          "2017-02-02",
          "2017-02-03",
          "2017-01-07",
          "2017-01-17",
          "2017-01-22",
          "2016-08-27",
          "2016-09-05",
          "2016-09-13",
          "2016-08-26",
          "2016-09-26",
          "2016-09-14",
          "2016-10-07",
          "2016-09-11",
          "2016-09-12",
          "2016-10-13",
          "2016-08-25",
          "2016-10-16",
          "2016-08-30",
          "2016-08-31",
          "2016-10-08",
          "2016-10-20",
          "2016-09-23",
          "2016-08-24",
          "2016-09-02",
          "2016-09-25",
          "2016-09-03",
          "2016-10-10",
          "2016-09-07",
          "2016-09-08",
          "2016-08-28",
          "2016-09-09",
          "2016-10-26",
          "2016-09-04",
          "2016-09-15",
          "2016-09-06",
          "2016-10-30",
          "2016-09-18",
          "2016-09-10",
          "2016-11-07",
          "2016-09-27",
          "2016-09-24",
          "2016-09-17",
          "2016-11-13",
          "2016-09-19",
          "2016-09-20",
          "2016-11-17",
          "2016-09-22",
          "2016-10-01",
          "2016-10-29",
          "2016-10-14",
          "2016-11-22",
          "2016-11-23",
          "2016-10-17",
          "2016-11-25",
          "2016-10-05",
          "2016-10-06",
          "2016-11-30",
          "2016-11-02",
          "2016-12-13",
          "2016-11-04",
          "2016-10-27",
          "2016-12-23",
          "2016-12-08",
          "2017-01-13",
          "2017-01-17",
          "2017-01-18",
          "2017-01-16",
          "2017-01-19",
          "2016-11-28",
          "2017-01-07",
          "2016-11-20",
          "2017-02-09",
          "2016-12-11",
          "2017-01-22",
          "2016-12-01",
          "2016-12-16",
          "2016-12-21",
          "2017-02-03",
          "2016-12-12",
          "2017-01-01",
          "2017-01-15",
          "2017-01-12",
          "2017-02-02",
          "2016-08-24",
          "2016-09-09",
          "2016-09-04",
          "2016-09-08",
          "2016-10-05",
          "2016-08-26",
          "2016-10-08",
          "2016-09-19",
          "2016-09-01",
          "2016-09-07",
          "2016-09-10",
          "2016-08-27",
          "2016-10-06",
          "2016-09-13",
          "2016-08-31",
          "2016-10-27",
          "2016-09-17",
          "2016-09-05",
          "2016-09-02",
          "2016-10-13",
          "2016-09-22",
          "2016-09-23",
          "2016-09-06",
          "2016-10-16",
          "2016-09-12",
          "2016-09-14",
          "2016-09-15",
          "2016-10-01",
          "2016-09-18",
          "2016-10-07",
          "2016-09-24",
          "2016-09-25",
          "2016-11-20",
          "2016-10-10",
          "2016-08-25",
          "2016-08-28",
          "2016-08-30",
          "2016-10-26",
          "2016-12-07",
          "2016-11-23",
          "2016-12-11",
          "2016-09-11",
          "2016-10-15",
          "2016-10-29",
          "2016-10-17",
          "2016-11-04",
          "2016-09-20",
          "2016-09-21",
          "2016-11-07",
          "2016-09-26",
          "2016-10-30",
          "2016-11-02",
          "2017-01-16",
          "2017-01-18",
          "2017-01-19",
          "2016-12-21",
          "2017-01-20",
          "2016-12-23",
          "2016-11-13",
          "2016-11-30",
          "2016-10-14",
          "2016-12-01",
          "2017-01-15",
          "2016-11-25",
          "2017-02-09",
          "2016-11-28",
          "2016-11-21",
          "2016-10-20",
          "2016-11-22",
          "2017-02-03",
          "2016-12-13",
          "2016-12-16",
          "2017-01-06",
          "2017-01-01",
          "2016-12-12",
          "2017-01-07",
          "2016-11-17",
          "2017-01-13",
          "2017-01-17",
          "2017-02-02",
          "2017-01-05",
          "2017-01-22",
          "2017-01-12",
          "2016-12-08",
          "2017-01-10",
          "2017-02-04",
          "2016-09-05",
          "2016-09-06",
          "2016-09-10",
          "2016-08-26",
          "2016-08-30",
          "2016-09-18",
          "2016-09-24",
          "2016-09-25",
          "2016-08-28",
          "2016-08-31",
          "2016-08-24",
          "2016-10-26",
          "2016-09-11",
          "2016-10-08",
          "2016-10-27",
          "2016-09-03",
          "2016-09-19",
          "2016-10-30",
          "2016-10-14",
          "2016-09-12",
          "2016-09-14",
          "2016-08-27",
          "2016-09-15",
          "2016-11-04",
          "2016-09-17",
          "2016-10-07",
          "2016-09-07",
          "2016-09-09",
          "2016-10-10",
          "2016-09-26",
          "2016-08-25",
          "2016-10-15",
          "2016-09-02",
          "2016-09-04",
          "2016-10-20",
          "2016-09-23",
          "2016-09-27",
          "2016-10-06",
          "2016-11-13",
          "2016-09-08",
          "2016-10-05",
          "2016-09-13",
          "2016-10-17",
          "2016-11-23",
          "2016-11-07",
          "2016-11-25",
          "2016-12-16",
          "2016-09-20",
          "2016-09-21",
          "2016-09-22",
          "2016-10-16",
          "2016-12-23",
          "2016-10-01",
          "2017-01-13",
          "2017-01-19",
          "2017-01-22",
          "2016-12-01",
          "2016-10-13",
          "2017-01-01",
          "2016-11-02",
          "2017-01-07",
          "2017-02-02",
          "2017-02-03",
          "2016-12-11",
          "2016-11-17",
          "2016-12-13",
          "2016-10-29",
          "2016-11-28",
          "2016-11-30",
          "2017-01-05",
          "2016-12-12",
          "2017-01-16",
          "2017-01-18",
          "2016-12-21",
          "2016-11-21",
          "2016-11-22",
          "2017-02-09",
          "2017-01-10",
          "2017-01-06",
          "2016-12-07",
          "2016-12-08",
          "2017-01-17",
          "2017-01-20",
          "2017-02-04",
          "2017-01-15"
         ],
         "xaxis": "x",
         "y": [
          null,
          null,
          null,
          null,
          null,
          null,
          null,
          null,
          null,
          null,
          null,
          null,
          null,
          null,
          null,
          null,
          null,
          null,
          null,
          null,
          null,
          null,
          null,
          null,
          null,
          null,
          null,
          null,
          null,
          null,
          null,
          null,
          null,
          null,
          null,
          null,
          null,
          null,
          null,
          null,
          null,
          null,
          null,
          null,
          null,
          null,
          null,
          null,
          null,
          null,
          null,
          null,
          null,
          null,
          null,
          null,
          null,
          null,
          null,
          null,
          null,
          null,
          null,
          null,
          null,
          null,
          null,
          null,
          null,
          null,
          null,
          null,
          null,
          null,
          null,
          null,
          null,
          null,
          null,
          null,
          null,
          null,
          null,
          null,
          null,
          null,
          null,
          null,
          null,
          null,
          null,
          null,
          null,
          null,
          null,
          null,
          null,
          null,
          null,
          null,
          null,
          null,
          null,
          null,
          null,
          null,
          null,
          null,
          null,
          null,
          null,
          null,
          null,
          null,
          null,
          null,
          null,
          null,
          null,
          null,
          null,
          null,
          null,
          null,
          null,
          null,
          null,
          null,
          null,
          null,
          null,
          null,
          null,
          null,
          null,
          null,
          null,
          null,
          null,
          null,
          null,
          null,
          null,
          null,
          null,
          null,
          null,
          null,
          null,
          null,
          null,
          null,
          null,
          null,
          null,
          null,
          null,
          null,
          null,
          null,
          null,
          null,
          null,
          null,
          null,
          null,
          null,
          null,
          null,
          null,
          null,
          null,
          null,
          null,
          null,
          null,
          null,
          null,
          null,
          null,
          null,
          null,
          null,
          null,
          null,
          null,
          null,
          null,
          null,
          null,
          null,
          null,
          null,
          null,
          null,
          null,
          null,
          null,
          null,
          null,
          null,
          null,
          null,
          null,
          null,
          null,
          null,
          null,
          null,
          null,
          null,
          null,
          null,
          null,
          null,
          null,
          null,
          null,
          null,
          null,
          null,
          null,
          null,
          null,
          null,
          null,
          null,
          null,
          null,
          null,
          null,
          null,
          null,
          null,
          null,
          null,
          null,
          null,
          null,
          null,
          null,
          null,
          null,
          null,
          null,
          null,
          null,
          null,
          null,
          null,
          null,
          null,
          null,
          null,
          null,
          null,
          null,
          null,
          null,
          null,
          null,
          null,
          null,
          null,
          null,
          null,
          null,
          null,
          null,
          null,
          null,
          null,
          null,
          null,
          null,
          null,
          null,
          null,
          null,
          null,
          null,
          null,
          null,
          null,
          null,
          null,
          null,
          null,
          null,
          null,
          null,
          null,
          null,
          null,
          null,
          null,
          null,
          null,
          null,
          null,
          null,
          95,
          98,
          97,
          95,
          95,
          98,
          97,
          97,
          97,
          98,
          97,
          98,
          97,
          97,
          96,
          95,
          97,
          95,
          98,
          96,
          96,
          97,
          98,
          97,
          98,
          95,
          95,
          97,
          98,
          96,
          98,
          97,
          95,
          98,
          96,
          95,
          96,
          97,
          97,
          96,
          95,
          97,
          98,
          98,
          98,
          97,
          98,
          95,
          98,
          97,
          96,
          98,
          98,
          96,
          98,
          97,
          98,
          97,
          97,
          97,
          96,
          98,
          96,
          97,
          95,
          96,
          98,
          97,
          96,
          98,
          96,
          97,
          null,
          null,
          null,
          null,
          null,
          null,
          null,
          null,
          null,
          null,
          null,
          null,
          null,
          null,
          null,
          null,
          null,
          null,
          null,
          null,
          null,
          null,
          null,
          null,
          null,
          null,
          null,
          null,
          null,
          null,
          null,
          null,
          null,
          null,
          null,
          null,
          null,
          null,
          null,
          null,
          null,
          null,
          null,
          null,
          null,
          null,
          null,
          null,
          null,
          null,
          null,
          null,
          null,
          null,
          null,
          null,
          null,
          null,
          null,
          null,
          null,
          null,
          null,
          null,
          null,
          null,
          null,
          null,
          null,
          null,
          null,
          null,
          null,
          null,
          null,
          null,
          null,
          null,
          null,
          null,
          null,
          null,
          null,
          null,
          null,
          null,
          null,
          null,
          null,
          null,
          null,
          null,
          null,
          null,
          null,
          null,
          null,
          null,
          null,
          null,
          null,
          null,
          null,
          null,
          null,
          null,
          null,
          null,
          null,
          null,
          null,
          null,
          null,
          null,
          null,
          null,
          null,
          null,
          null,
          null,
          null,
          null,
          null,
          null,
          null,
          null,
          null,
          null,
          null,
          null,
          null,
          null,
          null,
          null,
          null,
          null,
          null,
          null,
          null,
          null,
          null,
          null,
          null,
          null,
          null,
          null,
          null,
          null,
          null,
          null,
          null,
          null,
          null,
          null,
          null,
          null,
          null,
          null,
          null,
          null,
          null,
          null,
          null,
          null,
          null,
          null,
          null,
          null,
          null,
          null,
          null,
          null,
          null,
          null,
          null,
          null,
          null,
          null,
          null,
          null,
          null,
          null,
          null,
          null,
          null,
          null,
          null,
          null,
          null,
          null,
          null,
          null,
          null,
          null,
          null,
          null,
          null,
          null,
          null,
          null,
          null,
          null,
          null,
          null,
          null,
          null,
          null,
          null,
          null,
          null,
          null,
          null,
          null,
          null,
          null,
          null,
          null,
          null,
          null,
          null,
          null,
          null,
          null,
          null,
          null,
          null,
          null,
          null,
          null,
          null,
          null,
          null,
          null,
          null,
          null,
          null,
          null,
          null,
          null,
          null,
          null,
          null,
          null,
          null,
          null,
          null,
          null,
          null,
          null,
          null,
          null,
          null,
          null,
          null,
          null,
          null,
          null,
          null,
          null,
          null,
          null,
          null,
          null,
          null,
          null,
          null,
          null,
          null,
          null,
          null,
          null,
          null,
          null,
          null,
          null,
          null,
          null,
          null,
          null,
          null,
          null,
          null,
          null,
          null,
          null,
          null,
          null,
          null,
          null,
          null,
          null,
          null,
          null,
          null,
          null,
          null,
          null,
          null,
          null,
          null,
          null,
          null,
          null,
          null,
          null,
          null,
          null,
          null,
          null,
          null,
          null,
          null,
          null,
          null,
          null,
          null,
          null,
          null,
          null,
          null,
          null,
          null,
          null,
          null,
          null,
          null,
          null,
          null,
          null,
          null,
          null,
          null,
          null,
          null,
          null,
          null,
          null,
          null,
          null,
          null,
          null,
          null,
          null,
          null,
          null,
          null,
          null,
          null,
          null,
          null,
          null,
          null,
          null,
          null,
          null,
          null,
          null,
          null,
          null,
          null,
          null,
          null,
          null,
          null,
          null,
          null,
          null,
          null,
          null,
          null,
          null,
          null,
          null,
          null,
          null,
          null,
          null,
          null,
          null,
          null,
          null,
          null,
          null,
          null,
          null,
          null,
          null,
          null,
          null,
          null,
          null,
          null,
          null,
          null,
          null,
          null,
          null,
          null,
          null,
          null,
          null,
          null,
          null,
          null,
          null,
          null,
          null,
          null,
          null
         ],
         "yaxis": "y"
        }
       ],
       "layout": {
        "legend": {
         "tracegroupgap": 0
        },
        "template": {
         "data": {
          "bar": [
           {
            "error_x": {
             "color": "#2a3f5f"
            },
            "error_y": {
             "color": "#2a3f5f"
            },
            "marker": {
             "line": {
              "color": "#E5ECF6",
              "width": 0.5
             },
             "pattern": {
              "fillmode": "overlay",
              "size": 10,
              "solidity": 0.2
             }
            },
            "type": "bar"
           }
          ],
          "barpolar": [
           {
            "marker": {
             "line": {
              "color": "#E5ECF6",
              "width": 0.5
             },
             "pattern": {
              "fillmode": "overlay",
              "size": 10,
              "solidity": 0.2
             }
            },
            "type": "barpolar"
           }
          ],
          "carpet": [
           {
            "aaxis": {
             "endlinecolor": "#2a3f5f",
             "gridcolor": "white",
             "linecolor": "white",
             "minorgridcolor": "white",
             "startlinecolor": "#2a3f5f"
            },
            "baxis": {
             "endlinecolor": "#2a3f5f",
             "gridcolor": "white",
             "linecolor": "white",
             "minorgridcolor": "white",
             "startlinecolor": "#2a3f5f"
            },
            "type": "carpet"
           }
          ],
          "choropleth": [
           {
            "colorbar": {
             "outlinewidth": 0,
             "ticks": ""
            },
            "type": "choropleth"
           }
          ],
          "contour": [
           {
            "colorbar": {
             "outlinewidth": 0,
             "ticks": ""
            },
            "colorscale": [
             [
              0,
              "#0d0887"
             ],
             [
              0.1111111111111111,
              "#46039f"
             ],
             [
              0.2222222222222222,
              "#7201a8"
             ],
             [
              0.3333333333333333,
              "#9c179e"
             ],
             [
              0.4444444444444444,
              "#bd3786"
             ],
             [
              0.5555555555555556,
              "#d8576b"
             ],
             [
              0.6666666666666666,
              "#ed7953"
             ],
             [
              0.7777777777777778,
              "#fb9f3a"
             ],
             [
              0.8888888888888888,
              "#fdca26"
             ],
             [
              1,
              "#f0f921"
             ]
            ],
            "type": "contour"
           }
          ],
          "contourcarpet": [
           {
            "colorbar": {
             "outlinewidth": 0,
             "ticks": ""
            },
            "type": "contourcarpet"
           }
          ],
          "heatmap": [
           {
            "colorbar": {
             "outlinewidth": 0,
             "ticks": ""
            },
            "colorscale": [
             [
              0,
              "#0d0887"
             ],
             [
              0.1111111111111111,
              "#46039f"
             ],
             [
              0.2222222222222222,
              "#7201a8"
             ],
             [
              0.3333333333333333,
              "#9c179e"
             ],
             [
              0.4444444444444444,
              "#bd3786"
             ],
             [
              0.5555555555555556,
              "#d8576b"
             ],
             [
              0.6666666666666666,
              "#ed7953"
             ],
             [
              0.7777777777777778,
              "#fb9f3a"
             ],
             [
              0.8888888888888888,
              "#fdca26"
             ],
             [
              1,
              "#f0f921"
             ]
            ],
            "type": "heatmap"
           }
          ],
          "heatmapgl": [
           {
            "colorbar": {
             "outlinewidth": 0,
             "ticks": ""
            },
            "colorscale": [
             [
              0,
              "#0d0887"
             ],
             [
              0.1111111111111111,
              "#46039f"
             ],
             [
              0.2222222222222222,
              "#7201a8"
             ],
             [
              0.3333333333333333,
              "#9c179e"
             ],
             [
              0.4444444444444444,
              "#bd3786"
             ],
             [
              0.5555555555555556,
              "#d8576b"
             ],
             [
              0.6666666666666666,
              "#ed7953"
             ],
             [
              0.7777777777777778,
              "#fb9f3a"
             ],
             [
              0.8888888888888888,
              "#fdca26"
             ],
             [
              1,
              "#f0f921"
             ]
            ],
            "type": "heatmapgl"
           }
          ],
          "histogram": [
           {
            "marker": {
             "pattern": {
              "fillmode": "overlay",
              "size": 10,
              "solidity": 0.2
             }
            },
            "type": "histogram"
           }
          ],
          "histogram2d": [
           {
            "colorbar": {
             "outlinewidth": 0,
             "ticks": ""
            },
            "colorscale": [
             [
              0,
              "#0d0887"
             ],
             [
              0.1111111111111111,
              "#46039f"
             ],
             [
              0.2222222222222222,
              "#7201a8"
             ],
             [
              0.3333333333333333,
              "#9c179e"
             ],
             [
              0.4444444444444444,
              "#bd3786"
             ],
             [
              0.5555555555555556,
              "#d8576b"
             ],
             [
              0.6666666666666666,
              "#ed7953"
             ],
             [
              0.7777777777777778,
              "#fb9f3a"
             ],
             [
              0.8888888888888888,
              "#fdca26"
             ],
             [
              1,
              "#f0f921"
             ]
            ],
            "type": "histogram2d"
           }
          ],
          "histogram2dcontour": [
           {
            "colorbar": {
             "outlinewidth": 0,
             "ticks": ""
            },
            "colorscale": [
             [
              0,
              "#0d0887"
             ],
             [
              0.1111111111111111,
              "#46039f"
             ],
             [
              0.2222222222222222,
              "#7201a8"
             ],
             [
              0.3333333333333333,
              "#9c179e"
             ],
             [
              0.4444444444444444,
              "#bd3786"
             ],
             [
              0.5555555555555556,
              "#d8576b"
             ],
             [
              0.6666666666666666,
              "#ed7953"
             ],
             [
              0.7777777777777778,
              "#fb9f3a"
             ],
             [
              0.8888888888888888,
              "#fdca26"
             ],
             [
              1,
              "#f0f921"
             ]
            ],
            "type": "histogram2dcontour"
           }
          ],
          "mesh3d": [
           {
            "colorbar": {
             "outlinewidth": 0,
             "ticks": ""
            },
            "type": "mesh3d"
           }
          ],
          "parcoords": [
           {
            "line": {
             "colorbar": {
              "outlinewidth": 0,
              "ticks": ""
             }
            },
            "type": "parcoords"
           }
          ],
          "pie": [
           {
            "automargin": true,
            "type": "pie"
           }
          ],
          "scatter": [
           {
            "fillpattern": {
             "fillmode": "overlay",
             "size": 10,
             "solidity": 0.2
            },
            "type": "scatter"
           }
          ],
          "scatter3d": [
           {
            "line": {
             "colorbar": {
              "outlinewidth": 0,
              "ticks": ""
             }
            },
            "marker": {
             "colorbar": {
              "outlinewidth": 0,
              "ticks": ""
             }
            },
            "type": "scatter3d"
           }
          ],
          "scattercarpet": [
           {
            "marker": {
             "colorbar": {
              "outlinewidth": 0,
              "ticks": ""
             }
            },
            "type": "scattercarpet"
           }
          ],
          "scattergeo": [
           {
            "marker": {
             "colorbar": {
              "outlinewidth": 0,
              "ticks": ""
             }
            },
            "type": "scattergeo"
           }
          ],
          "scattergl": [
           {
            "marker": {
             "colorbar": {
              "outlinewidth": 0,
              "ticks": ""
             }
            },
            "type": "scattergl"
           }
          ],
          "scattermapbox": [
           {
            "marker": {
             "colorbar": {
              "outlinewidth": 0,
              "ticks": ""
             }
            },
            "type": "scattermapbox"
           }
          ],
          "scatterpolar": [
           {
            "marker": {
             "colorbar": {
              "outlinewidth": 0,
              "ticks": ""
             }
            },
            "type": "scatterpolar"
           }
          ],
          "scatterpolargl": [
           {
            "marker": {
             "colorbar": {
              "outlinewidth": 0,
              "ticks": ""
             }
            },
            "type": "scatterpolargl"
           }
          ],
          "scatterternary": [
           {
            "marker": {
             "colorbar": {
              "outlinewidth": 0,
              "ticks": ""
             }
            },
            "type": "scatterternary"
           }
          ],
          "surface": [
           {
            "colorbar": {
             "outlinewidth": 0,
             "ticks": ""
            },
            "colorscale": [
             [
              0,
              "#0d0887"
             ],
             [
              0.1111111111111111,
              "#46039f"
             ],
             [
              0.2222222222222222,
              "#7201a8"
             ],
             [
              0.3333333333333333,
              "#9c179e"
             ],
             [
              0.4444444444444444,
              "#bd3786"
             ],
             [
              0.5555555555555556,
              "#d8576b"
             ],
             [
              0.6666666666666666,
              "#ed7953"
             ],
             [
              0.7777777777777778,
              "#fb9f3a"
             ],
             [
              0.8888888888888888,
              "#fdca26"
             ],
             [
              1,
              "#f0f921"
             ]
            ],
            "type": "surface"
           }
          ],
          "table": [
           {
            "cells": {
             "fill": {
              "color": "#EBF0F8"
             },
             "line": {
              "color": "white"
             }
            },
            "header": {
             "fill": {
              "color": "#C8D4E3"
             },
             "line": {
              "color": "white"
             }
            },
            "type": "table"
           }
          ]
         },
         "layout": {
          "annotationdefaults": {
           "arrowcolor": "#2a3f5f",
           "arrowhead": 0,
           "arrowwidth": 1
          },
          "autotypenumbers": "strict",
          "coloraxis": {
           "colorbar": {
            "outlinewidth": 0,
            "ticks": ""
           }
          },
          "colorscale": {
           "diverging": [
            [
             0,
             "#8e0152"
            ],
            [
             0.1,
             "#c51b7d"
            ],
            [
             0.2,
             "#de77ae"
            ],
            [
             0.3,
             "#f1b6da"
            ],
            [
             0.4,
             "#fde0ef"
            ],
            [
             0.5,
             "#f7f7f7"
            ],
            [
             0.6,
             "#e6f5d0"
            ],
            [
             0.7,
             "#b8e186"
            ],
            [
             0.8,
             "#7fbc41"
            ],
            [
             0.9,
             "#4d9221"
            ],
            [
             1,
             "#276419"
            ]
           ],
           "sequential": [
            [
             0,
             "#0d0887"
            ],
            [
             0.1111111111111111,
             "#46039f"
            ],
            [
             0.2222222222222222,
             "#7201a8"
            ],
            [
             0.3333333333333333,
             "#9c179e"
            ],
            [
             0.4444444444444444,
             "#bd3786"
            ],
            [
             0.5555555555555556,
             "#d8576b"
            ],
            [
             0.6666666666666666,
             "#ed7953"
            ],
            [
             0.7777777777777778,
             "#fb9f3a"
            ],
            [
             0.8888888888888888,
             "#fdca26"
            ],
            [
             1,
             "#f0f921"
            ]
           ],
           "sequentialminus": [
            [
             0,
             "#0d0887"
            ],
            [
             0.1111111111111111,
             "#46039f"
            ],
            [
             0.2222222222222222,
             "#7201a8"
            ],
            [
             0.3333333333333333,
             "#9c179e"
            ],
            [
             0.4444444444444444,
             "#bd3786"
            ],
            [
             0.5555555555555556,
             "#d8576b"
            ],
            [
             0.6666666666666666,
             "#ed7953"
            ],
            [
             0.7777777777777778,
             "#fb9f3a"
            ],
            [
             0.8888888888888888,
             "#fdca26"
            ],
            [
             1,
             "#f0f921"
            ]
           ]
          },
          "colorway": [
           "#636efa",
           "#EF553B",
           "#00cc96",
           "#ab63fa",
           "#FFA15A",
           "#19d3f3",
           "#FF6692",
           "#B6E880",
           "#FF97FF",
           "#FECB52"
          ],
          "font": {
           "color": "#2a3f5f"
          },
          "geo": {
           "bgcolor": "white",
           "lakecolor": "white",
           "landcolor": "#E5ECF6",
           "showlakes": true,
           "showland": true,
           "subunitcolor": "white"
          },
          "hoverlabel": {
           "align": "left"
          },
          "hovermode": "closest",
          "mapbox": {
           "style": "light"
          },
          "paper_bgcolor": "white",
          "plot_bgcolor": "#E5ECF6",
          "polar": {
           "angularaxis": {
            "gridcolor": "white",
            "linecolor": "white",
            "ticks": ""
           },
           "bgcolor": "#E5ECF6",
           "radialaxis": {
            "gridcolor": "white",
            "linecolor": "white",
            "ticks": ""
           }
          },
          "scene": {
           "xaxis": {
            "backgroundcolor": "#E5ECF6",
            "gridcolor": "white",
            "gridwidth": 2,
            "linecolor": "white",
            "showbackground": true,
            "ticks": "",
            "zerolinecolor": "white"
           },
           "yaxis": {
            "backgroundcolor": "#E5ECF6",
            "gridcolor": "white",
            "gridwidth": 2,
            "linecolor": "white",
            "showbackground": true,
            "ticks": "",
            "zerolinecolor": "white"
           },
           "zaxis": {
            "backgroundcolor": "#E5ECF6",
            "gridcolor": "white",
            "gridwidth": 2,
            "linecolor": "white",
            "showbackground": true,
            "ticks": "",
            "zerolinecolor": "white"
           }
          },
          "shapedefaults": {
           "line": {
            "color": "#2a3f5f"
           }
          },
          "ternary": {
           "aaxis": {
            "gridcolor": "white",
            "linecolor": "white",
            "ticks": ""
           },
           "baxis": {
            "gridcolor": "white",
            "linecolor": "white",
            "ticks": ""
           },
           "bgcolor": "#E5ECF6",
           "caxis": {
            "gridcolor": "white",
            "linecolor": "white",
            "ticks": ""
           }
          },
          "title": {
           "x": 0.05
          },
          "xaxis": {
           "automargin": true,
           "gridcolor": "white",
           "linecolor": "white",
           "ticks": "",
           "title": {
            "standoff": 15
           },
           "zerolinecolor": "white",
           "zerolinewidth": 2
          },
          "yaxis": {
           "automargin": true,
           "gridcolor": "white",
           "linecolor": "white",
           "ticks": "",
           "title": {
            "standoff": 15
           },
           "zerolinecolor": "white",
           "zerolinewidth": 2
          }
         }
        },
        "title": {
         "text": "O2 Saturation for id -Cujq-NEcld_Keu_W1-Nw5"
        },
        "xaxis": {
         "anchor": "y",
         "domain": [
          0,
          1
         ],
         "range": [
          "2015-08-04",
          "2017-04-30"
         ],
         "title": {
          "text": "Date recorded"
         }
        },
        "yaxis": {
         "anchor": "x",
         "domain": [
          0,
          1
         ],
         "title": {
          "text": "O2 Saturation"
         }
        }
       }
      }
     },
     "metadata": {},
     "output_type": "display_data"
    },
    {
     "data": {
      "application/vnd.plotly.v1+json": {
       "config": {
        "plotlyServerURL": "https://plot.ly"
       },
       "data": [
        {
         "hovertemplate": "Date recorded=%{x}<br>O2 Saturation=%{y}<extra></extra>",
         "legendgroup": "",
         "marker": {
          "color": "#636efa",
          "symbol": "circle"
         },
         "mode": "markers",
         "name": "",
         "showlegend": false,
         "type": "scattergl",
         "x": [
          "2015-11-30",
          "2015-12-09",
          "2015-11-28",
          "2015-12-04",
          "2015-11-29",
          "2015-12-02",
          "2015-12-01",
          "2015-12-03",
          "2015-12-08",
          "2015-12-13",
          "2015-12-07",
          "2015-12-10",
          "2015-12-11",
          "2015-12-05",
          "2015-12-17",
          "2015-12-12",
          "2015-12-14",
          "2015-12-16",
          "2015-12-18",
          "2015-12-15",
          "2015-12-22",
          "2015-12-26",
          "2015-12-27",
          "2015-12-28",
          "2015-12-30",
          "2015-12-31",
          "2016-01-02",
          "2015-12-25",
          "2016-01-03",
          "2016-01-05",
          "2016-01-06",
          "2016-01-01",
          "2015-12-29",
          "2016-01-09",
          "2016-01-10",
          "2016-01-04",
          "2016-01-11",
          "2016-01-13",
          "2016-01-08",
          "2016-01-16",
          "2016-01-07",
          "2016-01-14",
          "2016-01-15",
          "2016-01-12",
          "2016-01-20",
          "2016-01-17",
          "2016-01-18",
          "2016-01-22",
          "2016-01-24",
          "2016-01-19",
          "2016-01-21",
          "2016-01-23",
          "2016-01-26",
          "2016-01-25",
          "2016-01-27",
          "2016-01-28",
          "2016-01-29",
          "2016-01-30",
          "2016-02-03",
          "2016-01-31",
          "2016-02-02",
          "2016-02-06",
          "2016-02-05",
          "2016-02-04",
          "2016-02-07",
          "2016-02-12",
          "2016-02-08",
          "2016-02-09",
          "2016-02-10",
          "2016-02-13",
          "2016-02-14",
          "2016-02-11",
          "2016-02-16",
          "2016-02-18",
          "2016-02-17",
          "2016-02-15",
          "2016-02-20",
          "2016-02-19",
          "2016-02-22",
          "2016-02-23",
          "2016-02-25",
          "2016-02-27",
          "2016-03-01",
          "2016-02-24",
          "2016-02-28",
          "2016-02-29",
          "2016-03-04",
          "2016-03-02",
          "2016-03-05",
          "2016-03-03",
          "2016-03-08",
          "2016-03-06",
          "2016-03-13",
          "2016-03-10",
          "2016-03-09",
          "2016-03-11",
          "2016-03-17",
          "2016-03-12",
          "2016-03-16",
          "2016-03-15",
          "2016-03-18",
          "2016-03-19",
          "2016-03-20",
          "2016-03-21",
          "2016-03-23",
          "2016-03-22",
          "2016-03-24",
          "2016-03-27",
          "2016-03-25",
          "2016-04-01",
          "2016-04-02",
          "2016-04-04",
          "2016-03-28",
          "2016-03-29",
          "2016-04-05",
          "2016-04-06",
          "2016-03-31",
          "2016-03-30",
          "2016-04-10",
          "2016-04-12",
          "2016-04-13",
          "2016-04-08",
          "2016-04-07",
          "2016-04-16",
          "2016-04-15",
          "2016-04-09",
          "2016-04-17",
          "2016-04-18",
          "2016-04-11",
          "2016-04-14",
          "2016-04-22",
          "2016-04-19",
          "2016-04-20",
          "2016-04-27",
          "2016-04-21",
          "2016-05-01",
          "2016-04-26",
          "2016-04-23",
          "2016-04-24",
          "2016-05-02",
          "2016-04-28",
          "2016-04-25",
          "2016-05-10",
          "2016-05-09",
          "2016-05-06",
          "2016-05-03",
          "2016-05-07",
          "2016-05-05",
          "2016-04-30",
          "2016-05-12",
          "2016-05-04",
          "2016-05-08",
          "2016-05-14",
          "2016-05-21",
          "2016-05-11",
          "2016-05-16",
          "2016-05-13",
          "2016-05-15",
          "2016-05-17",
          "2016-05-18",
          "2016-05-28",
          "2016-05-19",
          "2016-05-22",
          "2016-05-24",
          "2016-05-20",
          "2016-05-23",
          "2016-05-26",
          "2016-05-25",
          "2016-05-29",
          "2016-05-31",
          "2016-05-30",
          "2016-05-27",
          "2016-06-02",
          "2016-06-01",
          "2016-06-03",
          "2016-06-08",
          "2016-06-06",
          "2016-06-04",
          "2016-06-07",
          "2016-06-05",
          "2016-06-09",
          "2015-12-05",
          "2015-11-28",
          "2015-11-30",
          "2015-11-29",
          "2015-11-27",
          "2015-12-02",
          "2015-12-01",
          "2015-12-04",
          "2015-12-03",
          "2015-12-08",
          "2015-12-14",
          "2015-12-09",
          "2015-12-07",
          "2015-12-06",
          "2015-12-16",
          "2015-12-10",
          "2015-12-18",
          "2015-12-15",
          "2015-12-11",
          "2015-12-12",
          "2015-12-13",
          "2015-12-27",
          "2015-12-25",
          "2015-12-17",
          "2016-01-09",
          "2015-12-24",
          "2015-12-31",
          "2016-01-02",
          "2016-01-04",
          "2015-12-29",
          "2015-12-30",
          "2015-12-28",
          "2016-01-07",
          "2016-01-03",
          "2016-01-12",
          "2016-01-06",
          "2016-01-05",
          "2016-01-08",
          "2016-01-11",
          "2016-01-16",
          "2016-01-10",
          "2016-01-13",
          "2016-01-19",
          "2016-01-14",
          "2016-01-15",
          "2016-01-24",
          "2016-01-23",
          "2016-01-17",
          "2016-01-18",
          "2016-01-21",
          "2016-01-20",
          "2016-01-22",
          "2016-01-27",
          "2016-02-05",
          "2016-01-25",
          "2016-02-07",
          "2016-02-02",
          "2016-01-26",
          "2016-01-28",
          "2016-01-30",
          "2016-01-31",
          "2016-02-01",
          "2016-02-06",
          "2016-02-09",
          "2016-02-15",
          "2016-02-03",
          "2016-02-08",
          "2016-02-12",
          "2016-02-10",
          "2016-02-17",
          "2016-02-11",
          "2016-02-24",
          "2016-02-22",
          "2016-02-14",
          "2016-02-23",
          "2016-02-19",
          "2016-02-16",
          "2016-02-20",
          "2016-02-27",
          "2016-02-29",
          "2016-02-21",
          "2016-03-02",
          "2016-02-25",
          "2016-02-26",
          "2016-03-09",
          "2016-02-28",
          "2016-03-01",
          "2016-03-11",
          "2016-03-13",
          "2016-03-03",
          "2016-03-16",
          "2016-03-07",
          "2016-03-08",
          "2016-03-17",
          "2016-03-10",
          "2016-03-22",
          "2016-03-12",
          "2016-03-14",
          "2016-03-15",
          "2016-03-29",
          "2016-03-18",
          "2016-03-25",
          "2016-03-30",
          "2016-03-26",
          "2016-03-24",
          "2016-03-21",
          "2016-03-23",
          "2016-03-27",
          "2016-04-11",
          "2016-03-31",
          "2016-04-04",
          "2016-04-15",
          "2016-04-01",
          "2016-04-14",
          "2016-04-05",
          "2016-04-18",
          "2016-04-10",
          "2016-04-20",
          "2016-04-06",
          "2016-04-19",
          "2016-04-07",
          "2016-04-13",
          "2016-04-21",
          "2016-04-24",
          "2016-04-17",
          "2016-04-26",
          "2016-04-30",
          "2016-04-25",
          "2016-04-23",
          "2016-05-02",
          "2016-05-05",
          "2016-04-27",
          "2016-05-06",
          "2016-05-03",
          "2016-04-29",
          "2016-05-13",
          "2016-05-15",
          "2016-05-04",
          "2016-05-01",
          "2016-05-12",
          "2016-05-16",
          "2016-05-09",
          "2016-05-10",
          "2016-05-11",
          "2016-05-26",
          "2016-05-23",
          "2016-05-20",
          "2016-05-25",
          "2016-06-03",
          "2016-06-05",
          "2016-05-22",
          "2016-06-08",
          "2016-05-27",
          "2016-06-09",
          "2016-06-07",
          "2016-06-06",
          "2016-06-22",
          "2016-06-26",
          "2016-07-02",
          "2016-06-30",
          "2016-07-06",
          "2016-06-20",
          "2016-07-05",
          "2016-07-04",
          "2016-06-21",
          "2016-07-07",
          "2016-06-23",
          "2016-07-10",
          "2016-06-29",
          "2016-06-28",
          "2016-07-09",
          "2016-07-11",
          "2016-07-13",
          "2015-11-28",
          "2015-11-29",
          "2015-11-30",
          "2015-12-04",
          "2015-12-13",
          "2015-12-15",
          "2015-12-03",
          "2015-12-05",
          "2015-12-01",
          "2015-12-27",
          "2015-12-16",
          "2015-12-06",
          "2015-12-12",
          "2015-12-09",
          "2015-12-14",
          "2015-12-11",
          "2015-12-10",
          "2015-11-27",
          "2015-12-18",
          "2015-12-02",
          "2015-12-08",
          "2015-12-25",
          "2016-01-14",
          "2016-01-15",
          "2015-12-28",
          "2015-12-17",
          "2015-12-29",
          "2016-01-19",
          "2016-01-02",
          "2016-01-06",
          "2016-01-21",
          "2016-01-07",
          "2015-12-24",
          "2016-01-22",
          "2016-01-23",
          "2016-01-08",
          "2016-01-11",
          "2016-01-12",
          "2015-12-30",
          "2016-01-27",
          "2015-12-31",
          "2016-01-20",
          "2016-01-03",
          "2016-01-04",
          "2016-01-16",
          "2016-01-18",
          "2016-01-05",
          "2016-01-09",
          "2016-01-10",
          "2016-01-24",
          "2016-01-13",
          "2016-01-26",
          "2016-01-28",
          "2016-01-17",
          "2016-01-29",
          "2016-01-30",
          "2016-02-01",
          "2016-02-07",
          "2016-02-03",
          "2016-02-19",
          "2016-02-10",
          "2016-02-08",
          "2016-02-05",
          "2016-02-20",
          "2016-02-21",
          "2016-02-12",
          "2016-02-15",
          "2016-02-23",
          "2016-02-02",
          "2016-02-11",
          "2016-02-17",
          "2016-02-29",
          "2016-02-04",
          "2016-02-14",
          "2016-03-01",
          "2016-03-03",
          "2016-02-06",
          "2016-02-09",
          "2016-02-22",
          "2016-03-09",
          "2016-03-02",
          "2016-02-27",
          "2016-02-26",
          "2016-03-07",
          "2016-03-08",
          "2016-02-16",
          "2016-03-17",
          "2016-02-24",
          "2016-03-11",
          "2016-03-13",
          "2016-03-12",
          "2016-02-28",
          "2016-03-25",
          "2016-03-27",
          "2016-03-29",
          "2016-03-30",
          "2016-03-21",
          "2016-03-15",
          "2016-03-16",
          "2016-03-23",
          "2016-03-18",
          "2016-03-10",
          "2016-04-01",
          "2016-04-06",
          "2016-03-31",
          "2016-03-22",
          "2016-03-14",
          "2016-03-24",
          "2016-04-07",
          "2016-04-10",
          "2016-04-04",
          "2016-03-26",
          "2016-04-05",
          "2016-04-18",
          "2016-04-24",
          "2016-04-29",
          "2016-05-04",
          "2016-05-10",
          "2016-04-21",
          "2016-05-06",
          "2016-05-13",
          "2016-05-02",
          "2016-05-09",
          "2016-05-03",
          "2016-04-17",
          "2016-04-19",
          "2016-04-26",
          "2016-04-20",
          "2016-05-11",
          "2016-05-20",
          "2016-05-25",
          "2016-04-27",
          "2016-05-08",
          "2016-04-30",
          "2016-05-23",
          "2016-05-12",
          "2016-05-22",
          "2016-05-27",
          "2016-05-26",
          "2016-06-08",
          "2016-05-15",
          "2016-06-09",
          "2016-06-03",
          "2016-06-20",
          "2016-06-05",
          "2016-06-22",
          "2016-06-29",
          "2016-06-06",
          "2016-06-30",
          "2016-06-07",
          "2016-07-05",
          "2016-06-21",
          "2016-06-23",
          "2016-07-11",
          "2016-07-13",
          "2016-07-09",
          "2016-06-28",
          "2016-07-10",
          "2016-07-06",
          "2016-07-07",
          "2016-07-02",
          "2016-07-04",
          "2015-12-02",
          "2015-12-03",
          "2015-12-12",
          "2015-12-16",
          "2015-12-17",
          "2015-12-18",
          "2015-11-30",
          "2015-12-24",
          "2015-12-05",
          "2015-12-06",
          "2015-12-08",
          "2015-12-29",
          "2015-12-14",
          "2015-12-04",
          "2016-01-03",
          "2016-01-06",
          "2015-12-13",
          "2016-01-11",
          "2015-11-29",
          "2015-12-01",
          "2016-01-14",
          "2015-12-25",
          "2015-12-30",
          "2016-01-17",
          "2015-12-15",
          "2016-01-05",
          "2016-01-19",
          "2015-12-27",
          "2016-01-07",
          "2016-01-20",
          "2015-12-31",
          "2015-11-27",
          "2015-11-28",
          "2016-01-10",
          "2016-01-04",
          "2016-01-12",
          "2015-12-07",
          "2015-12-09",
          "2016-01-13",
          "2015-12-10",
          "2015-12-11",
          "2016-01-16",
          "2016-01-15",
          "2016-01-18",
          "2016-02-03",
          "2016-02-04",
          "2016-01-02",
          "2016-01-09",
          "2016-01-25",
          "2015-12-28",
          "2016-01-22",
          "2016-01-26",
          "2016-01-29",
          "2016-01-27",
          "2016-01-28",
          "2016-02-01",
          "2016-01-30",
          "2016-01-08",
          "2016-02-02",
          "2016-02-19",
          "2016-01-23",
          "2016-01-24",
          "2016-02-20",
          "2016-02-06",
          "2016-02-07",
          "2016-02-09",
          "2016-02-11",
          "2016-02-12",
          "2016-01-21",
          "2016-02-05",
          "2016-02-16",
          "2016-02-08",
          "2016-02-17",
          "2016-02-21",
          "2016-02-23",
          "2016-02-14",
          "2016-02-24",
          "2016-02-22",
          "2016-02-26",
          "2016-03-11",
          "2016-02-27",
          "2016-02-28",
          "2016-03-14",
          "2016-02-10",
          "2016-02-29",
          "2016-03-17",
          "2016-03-02",
          "2016-03-03",
          "2016-02-15",
          "2016-03-23",
          "2016-03-09",
          "2016-03-08",
          "2016-03-25",
          "2016-03-01",
          "2016-03-16",
          "2016-03-13",
          "2016-03-15",
          "2016-03-21",
          "2016-03-22",
          "2016-03-10",
          "2016-03-18",
          "2016-03-26",
          "2016-03-31",
          "2016-03-07",
          "2016-03-24",
          "2016-04-01",
          "2016-03-29",
          "2016-03-30",
          "2016-04-17",
          "2016-04-06",
          "2016-04-07",
          "2016-03-12",
          "2016-04-19",
          "2016-04-05",
          "2016-04-11",
          "2016-04-24",
          "2016-04-14",
          "2016-05-02",
          "2016-04-04",
          "2016-05-10",
          "2016-05-11",
          "2016-05-16",
          "2016-04-21",
          "2016-05-23",
          "2016-04-29",
          "2016-05-03",
          "2016-04-20",
          "2016-04-10",
          "2016-05-27",
          "2016-04-13",
          "2016-05-06",
          "2016-05-09",
          "2016-04-26",
          "2016-06-03",
          "2016-04-15",
          "2016-05-12",
          "2016-04-18",
          "2016-06-08",
          "2016-05-15",
          "2016-04-25",
          "2016-04-27",
          "2016-05-13",
          "2016-05-22",
          "2016-04-30",
          "2016-05-01",
          "2016-05-04",
          "2016-05-05",
          "2016-07-06",
          "2016-05-08",
          "2016-06-06",
          "2016-07-09",
          "2016-06-05",
          "2016-06-09",
          "2016-07-11",
          "2016-06-20",
          "2016-05-20",
          "2016-06-22",
          "2016-06-23",
          "2016-05-25",
          "2016-05-26",
          "2016-06-28",
          "2016-06-29",
          "2016-06-30",
          "2016-07-04",
          "2016-07-05",
          "2016-06-21",
          "2016-07-13",
          "2016-07-02",
          "2016-07-07",
          "2016-07-10",
          "2015-11-27",
          "2015-12-01",
          "2015-12-10",
          "2015-12-25",
          "2016-01-05",
          "2015-11-29",
          "2015-12-03",
          "2016-01-10",
          "2015-12-06",
          "2015-12-08",
          "2015-12-11",
          "2015-12-04",
          "2015-12-05",
          "2015-12-12",
          "2015-12-09",
          "2015-12-13",
          "2015-12-14",
          "2015-12-02",
          "2015-12-24",
          "2015-12-17",
          "2015-12-18",
          "2016-01-22",
          "2015-12-28",
          "2015-12-07",
          "2015-12-31",
          "2016-01-02",
          "2015-12-15",
          "2016-01-04",
          "2015-12-16",
          "2015-12-27",
          "2015-11-30",
          "2016-01-06",
          "2016-01-07",
          "2016-01-14",
          "2016-02-04",
          "2016-01-15",
          "2016-02-08",
          "2016-01-17",
          "2016-02-09",
          "2016-01-11",
          "2015-12-29",
          "2015-12-30",
          "2016-02-11",
          "2016-01-16",
          "2016-01-19",
          "2016-01-09",
          "2016-01-12",
          "2016-01-20",
          "2016-01-26",
          "2016-01-29",
          "2016-01-13",
          "2016-01-21",
          "2016-01-27",
          "2016-01-23",
          "2016-01-30",
          "2016-01-18",
          "2016-02-02",
          "2016-02-07",
          "2016-02-24",
          "2016-01-08",
          "2016-02-05",
          "2016-02-03",
          "2016-01-24",
          "2016-01-25",
          "2016-02-14",
          "2016-02-10",
          "2016-03-11",
          "2016-02-16",
          "2016-02-01",
          "2016-02-17",
          "2016-02-21",
          "2016-02-19",
          "2016-02-22",
          "2016-03-17",
          "2016-01-28",
          "2016-02-27",
          "2016-02-28",
          "2016-02-06",
          "2016-03-02",
          "2016-02-15",
          "2016-03-03",
          "2016-03-10",
          "2016-02-12",
          "2016-03-12",
          "2016-03-13",
          "2016-02-23",
          "2016-03-15",
          "2016-02-20",
          "2016-02-26",
          "2016-03-14",
          "2016-03-18",
          "2016-03-16",
          "2016-02-29",
          "2016-03-01",
          "2016-03-22",
          "2016-03-21",
          "2016-03-26",
          "2016-03-25",
          "2016-03-07",
          "2016-03-27",
          "2016-03-30",
          "2016-03-09",
          "2016-03-31",
          "2016-04-25",
          "2016-04-06",
          "2016-04-04",
          "2016-04-07",
          "2016-03-08",
          "2016-04-10",
          "2016-05-04",
          "2016-04-11",
          "2016-04-15",
          "2016-05-06",
          "2016-05-16",
          "2016-04-18",
          "2016-04-17",
          "2016-04-19",
          "2016-03-23",
          "2016-04-26",
          "2016-04-27",
          "2016-04-24",
          "2016-03-29",
          "2016-04-29",
          "2016-04-30",
          "2016-04-01",
          "2016-05-02",
          "2016-04-05",
          "2016-05-08",
          "2016-04-13",
          "2016-05-09",
          "2016-05-10",
          "2016-05-05",
          "2016-06-06",
          "2016-06-08",
          "2016-04-14",
          "2016-05-20",
          "2016-04-20",
          "2016-04-21",
          "2016-05-22",
          "2016-05-23",
          "2016-06-28",
          "2016-07-02",
          "2016-06-03",
          "2016-05-03",
          "2016-06-05",
          "2016-05-01",
          "2016-06-09",
          "2016-07-11",
          "2016-05-12",
          "2016-06-20",
          "2016-06-21",
          "2016-06-29",
          "2016-06-22",
          "2016-05-25",
          "2016-05-26",
          "2016-05-27",
          "2016-07-05",
          "2016-07-09",
          "2016-07-13",
          "2016-06-23",
          "2016-06-30",
          "2016-07-04",
          "2016-07-06",
          "2016-07-07",
          "2016-07-10",
          "2015-12-02",
          "2015-12-07",
          "2015-12-09",
          "2015-11-30",
          "2015-12-03",
          "2015-12-24",
          "2015-12-25",
          "2015-12-29",
          "2015-11-29",
          "2015-12-12",
          "2015-12-01",
          "2015-12-14",
          "2016-01-03",
          "2015-12-18",
          "2016-01-08",
          "2015-12-17",
          "2015-12-31",
          "2016-01-18",
          "2016-01-06",
          "2015-12-30",
          "2016-01-04",
          "2016-01-05",
          "2016-01-09",
          "2016-01-07",
          "2016-01-13",
          "2016-01-25",
          "2015-12-15",
          "2016-01-10",
          "2015-12-16",
          "2015-12-27",
          "2015-12-28",
          "2015-12-04",
          "2015-12-05",
          "2015-12-06",
          "2015-12-08",
          "2016-01-02",
          "2016-01-24",
          "2016-01-26",
          "2015-12-13",
          "2015-11-28",
          "2016-01-11",
          "2016-01-30",
          "2015-12-10",
          "2015-12-11",
          "2016-01-14",
          "2016-02-04",
          "2016-02-02",
          "2016-01-17",
          "2016-02-22",
          "2016-02-03",
          "2016-01-21",
          "2016-02-07",
          "2016-02-05",
          "2016-02-08",
          "2016-02-06",
          "2016-02-24",
          "2016-01-15",
          "2016-02-11",
          "2016-01-16",
          "2016-02-12",
          "2016-03-02",
          "2016-02-14",
          "2016-01-31",
          "2016-02-16",
          "2016-03-08",
          "2016-01-22",
          "2016-01-23",
          "2016-02-21",
          "2016-02-23",
          "2016-01-29",
          "2016-01-19",
          "2016-01-20",
          "2016-02-29",
          "2016-03-22",
          "2016-02-15",
          "2016-03-25",
          "2016-03-03",
          "2016-03-07",
          "2016-02-10",
          "2016-03-09",
          "2016-03-31",
          "2016-02-25",
          "2016-03-13",
          "2016-03-14",
          "2016-02-09",
          "2016-03-01",
          "2016-03-16",
          "2016-03-17",
          "2016-03-18",
          "2016-02-17",
          "2016-03-24",
          "2016-02-19",
          "2016-02-20",
          "2016-03-23",
          "2016-04-20",
          "2016-02-26",
          "2016-03-10",
          "2016-03-30",
          "2016-02-27",
          "2016-04-24",
          "2016-03-27",
          "2016-04-26",
          "2016-04-06",
          "2016-02-28",
          "2016-04-10",
          "2016-03-11",
          "2016-04-13",
          "2016-03-15",
          "2016-05-09",
          "2016-05-11",
          "2016-04-14",
          "2016-03-12",
          "2016-04-15",
          "2016-05-16",
          "2016-04-04",
          "2016-04-23",
          "2016-05-02",
          "2016-03-21",
          "2016-03-29",
          "2016-05-01",
          "2016-03-26",
          "2016-05-12",
          "2016-04-19",
          "2016-04-05",
          "2016-06-05",
          "2016-05-06",
          "2016-04-11",
          "2016-04-01",
          "2016-05-10",
          "2016-04-27",
          "2016-04-29",
          "2016-05-20",
          "2016-04-07",
          "2016-05-25",
          "2016-05-23",
          "2016-04-18",
          "2016-05-27",
          "2016-06-28",
          "2016-04-17",
          "2016-06-30",
          "2016-07-02",
          "2016-04-21",
          "2016-04-25",
          "2016-05-03",
          "2016-07-13",
          "2016-06-06",
          "2016-05-04",
          "2016-06-07",
          "2016-05-22",
          "2016-05-08",
          "2016-06-20",
          "2016-06-22",
          "2016-05-13",
          "2016-05-05",
          "2016-05-15",
          "2016-06-03",
          "2016-06-26",
          "2016-07-06",
          "2016-07-05",
          "2016-05-26",
          "2016-07-10",
          "2016-07-11",
          "2016-06-08",
          "2016-06-09",
          "2016-06-21",
          "2016-06-23",
          "2016-06-29",
          "2016-07-04",
          "2016-07-09",
          "2016-07-07",
          "2015-11-29",
          "2015-12-13",
          "2015-12-14",
          "2015-12-02",
          "2015-12-28",
          "2015-12-07",
          "2015-12-30",
          "2015-12-15",
          "2016-01-03",
          "2015-12-18",
          "2015-12-24",
          "2015-12-25",
          "2015-12-27",
          "2016-01-11",
          "2015-12-29",
          "2016-01-04",
          "2015-12-01",
          "2016-01-05",
          "2016-01-07",
          "2015-12-05",
          "2015-12-08",
          "2016-01-09",
          "2015-11-28",
          "2016-01-12",
          "2015-12-04",
          "2015-12-16",
          "2015-11-30",
          "2015-12-03",
          "2015-12-10",
          "2015-12-11",
          "2015-12-12",
          "2015-12-06",
          "2015-12-09",
          "2016-01-21",
          "2016-02-02",
          "2015-12-17",
          "2015-12-31",
          "2016-01-24",
          "2016-01-06",
          "2016-01-31",
          "2016-01-08",
          "2016-01-15",
          "2016-02-11",
          "2016-02-03",
          "2016-01-18",
          "2016-01-02",
          "2016-02-05",
          "2016-01-19",
          "2016-02-07",
          "2016-02-20",
          "2016-01-22",
          "2016-01-23",
          "2016-01-10",
          "2016-01-26",
          "2016-01-27",
          "2016-01-13",
          "2016-01-28",
          "2016-02-12",
          "2016-02-26",
          "2016-01-14",
          "2016-02-17",
          "2016-01-16",
          "2016-02-01",
          "2016-02-25",
          "2016-01-20",
          "2016-02-27",
          "2016-02-08",
          "2016-02-09",
          "2016-01-25",
          "2016-02-29",
          "2016-02-10",
          "2016-03-03",
          "2016-02-14",
          "2016-01-29",
          "2016-02-15",
          "2016-03-21",
          "2016-02-04",
          "2016-03-08",
          "2016-02-06",
          "2016-02-19",
          "2016-02-23",
          "2016-02-22",
          "2016-02-24",
          "2016-03-27",
          "2016-03-12",
          "2016-03-16",
          "2016-02-28",
          "2016-03-02",
          "2016-02-16",
          "2016-03-22",
          "2016-04-06",
          "2016-03-07",
          "2016-02-21",
          "2016-03-29",
          "2016-03-24",
          "2016-03-26",
          "2016-03-11",
          "2016-03-09",
          "2016-04-01",
          "2016-03-10",
          "2016-03-15",
          "2016-03-17",
          "2016-03-01",
          "2016-03-25",
          "2016-03-13",
          "2016-04-18",
          "2016-03-14",
          "2016-04-15",
          "2016-03-30",
          "2016-03-18",
          "2016-04-17",
          "2016-04-21",
          "2016-03-31",
          "2016-05-08",
          "2016-04-19",
          "2016-04-25",
          "2016-05-13",
          "2016-04-05",
          "2016-05-15",
          "2016-03-23",
          "2016-04-07",
          "2016-04-27",
          "2016-05-22",
          "2016-04-10",
          "2016-05-02",
          "2016-04-11",
          "2016-05-16",
          "2016-04-04",
          "2016-05-09",
          "2016-05-10",
          "2016-05-11",
          "2016-06-05",
          "2016-06-06",
          "2016-05-12",
          "2016-04-23",
          "2016-04-13",
          "2016-04-14",
          "2016-04-24",
          "2016-05-20",
          "2016-04-30",
          "2016-04-20",
          "2016-05-01",
          "2016-05-03",
          "2016-05-27",
          "2016-06-07",
          "2016-06-08",
          "2016-04-29",
          "2016-06-03",
          "2016-05-04",
          "2016-05-05",
          "2016-05-06",
          "2016-06-09",
          "2016-07-05",
          "2016-06-20",
          "2016-06-22",
          "2016-05-23",
          "2016-05-26",
          "2016-06-23",
          "2016-06-28",
          "2016-07-11",
          "2016-06-29",
          "2016-06-30",
          "2016-07-09",
          "2016-06-26",
          "2016-07-04",
          "2016-07-02",
          "2016-06-21",
          "2016-07-06",
          "2016-07-07",
          "2016-07-10",
          "2016-07-13",
          "2016-07-13",
          "2015-12-02",
          "2015-12-03",
          "2015-11-27",
          "2015-11-28",
          "2015-12-05",
          "2015-12-06",
          "2015-12-10",
          "2015-12-13",
          "2015-12-15",
          "2015-12-16",
          "2015-11-30",
          "2015-12-01",
          "2015-12-07",
          "2015-12-09",
          "2015-12-14",
          "2015-12-31",
          "2016-01-05",
          "2015-12-24",
          "2016-01-02",
          "2016-01-04",
          "2016-01-09",
          "2015-12-30",
          "2016-01-14",
          "2016-01-03",
          "2016-01-17",
          "2016-01-06",
          "2016-01-18",
          "2015-12-04",
          "2016-01-25",
          "2015-12-18",
          "2016-01-19",
          "2015-11-29",
          "2015-12-27",
          "2015-12-28",
          "2016-01-24",
          "2015-12-29",
          "2016-02-06",
          "2015-12-08",
          "2016-01-26",
          "2016-01-07",
          "2015-12-11",
          "2015-12-12",
          "2016-02-11",
          "2016-01-10",
          "2016-01-11",
          "2015-12-17",
          "2016-02-01",
          "2015-12-25",
          "2016-02-03",
          "2016-02-07",
          "2016-01-21",
          "2016-02-10",
          "2016-01-22",
          "2016-01-23",
          "2016-02-15",
          "2016-01-12",
          "2016-02-26",
          "2016-03-01",
          "2016-01-27",
          "2016-01-13",
          "2016-02-16",
          "2016-01-28",
          "2016-01-15",
          "2016-02-28",
          "2016-01-16",
          "2016-02-29",
          "2016-03-02",
          "2016-01-30",
          "2016-02-22",
          "2016-01-20",
          "2016-03-09",
          "2016-02-02",
          "2016-02-23",
          "2016-02-04",
          "2016-02-05",
          "2016-03-08",
          "2016-02-27",
          "2016-03-15",
          "2016-02-09",
          "2016-03-16",
          "2016-01-29",
          "2016-02-14",
          "2016-03-21",
          "2016-02-17",
          "2016-02-19",
          "2016-02-20",
          "2016-03-10",
          "2016-02-24",
          "2016-02-08",
          "2016-03-31",
          "2016-03-25",
          "2016-03-13",
          "2016-03-27",
          "2016-04-05",
          "2016-04-07",
          "2016-03-03",
          "2016-04-01",
          "2016-04-06",
          "2016-02-21",
          "2016-03-11",
          "2016-03-22",
          "2016-04-15",
          "2016-04-11",
          "2016-03-14",
          "2016-03-29",
          "2016-03-17",
          "2016-03-18",
          "2016-04-20",
          "2016-04-21",
          "2016-03-26",
          "2016-04-24",
          "2016-03-07",
          "2016-04-27",
          "2016-03-23",
          "2016-03-24",
          "2016-04-14",
          "2016-05-01",
          "2016-04-17",
          "2016-05-04",
          "2016-03-12",
          "2016-04-19",
          "2016-05-06",
          "2016-03-30",
          "2016-05-10",
          "2016-04-04",
          "2016-05-20",
          "2016-04-13",
          "2016-05-03",
          "2016-05-26",
          "2016-04-29",
          "2016-06-08",
          "2016-05-02",
          "2016-04-10",
          "2016-06-05",
          "2016-06-09",
          "2016-05-05",
          "2016-04-18",
          "2016-05-15",
          "2016-06-22",
          "2016-05-16",
          "2016-05-12",
          "2016-04-25",
          "2016-04-26",
          "2016-05-23",
          "2016-07-02",
          "2016-05-25",
          "2016-05-22",
          "2016-04-30",
          "2016-07-04",
          "2016-06-21",
          "2016-05-27",
          "2016-07-13",
          "2016-07-10",
          "2016-05-08",
          "2016-06-03",
          "2016-06-07",
          "2016-05-09",
          "2016-06-06",
          "2016-05-11",
          "2016-05-13",
          "2016-06-28",
          "2016-07-05",
          "2016-07-06",
          "2016-06-20",
          "2016-06-23",
          "2016-06-30",
          "2016-07-07",
          "2016-07-11",
          "2016-06-29",
          "2016-07-09",
          "2015-11-28",
          "2015-12-07",
          "2015-12-12",
          "2015-12-13",
          "2015-12-15",
          "2015-12-06",
          "2015-12-29",
          "2016-01-08",
          "2016-01-15",
          "2016-01-18",
          "2015-12-01",
          "2016-01-05",
          "2016-01-23",
          "2015-12-09",
          "2016-01-25",
          "2016-01-14",
          "2015-11-27",
          "2016-01-27",
          "2015-12-16",
          "2015-12-02",
          "2016-01-31",
          "2015-12-05",
          "2015-12-27",
          "2015-12-11",
          "2015-12-31",
          "2016-01-02",
          "2016-01-28",
          "2015-12-28",
          "2015-12-25",
          "2015-12-30",
          "2016-01-03",
          "2016-01-04",
          "2016-01-06",
          "2015-11-29",
          "2016-02-09",
          "2015-11-30",
          "2015-12-03",
          "2016-01-11",
          "2016-01-12",
          "2016-01-13",
          "2015-12-08",
          "2015-12-10",
          "2016-01-24",
          "2016-02-15",
          "2015-12-14",
          "2016-02-20",
          "2016-01-19",
          "2016-01-17",
          "2015-12-17",
          "2016-01-20",
          "2016-02-26",
          "2015-12-24",
          "2016-01-21",
          "2016-01-26",
          "2016-02-08",
          "2016-01-07",
          "2016-01-30",
          "2016-03-03",
          "2016-01-09",
          "2016-02-01",
          "2016-01-10",
          "2016-02-03",
          "2016-03-10",
          "2016-02-06",
          "2016-02-16",
          "2016-02-19",
          "2016-02-22",
          "2016-01-22",
          "2016-03-17",
          "2016-02-23",
          "2016-02-27",
          "2016-03-02",
          "2016-02-21",
          "2016-04-04",
          "2016-02-02",
          "2016-02-28",
          "2016-03-29",
          "2016-02-29",
          "2016-02-04",
          "2016-02-05",
          "2016-03-08",
          "2016-04-11",
          "2016-03-09",
          "2016-02-24",
          "2016-02-25",
          "2016-02-07",
          "2016-04-15",
          "2016-02-10",
          "2016-02-11",
          "2016-04-17",
          "2016-02-12",
          "2016-03-07",
          "2016-03-15",
          "2016-02-14",
          "2016-04-19",
          "2016-04-13",
          "2016-04-20",
          "2016-03-22",
          "2016-03-14",
          "2016-03-13",
          "2016-03-16",
          "2016-03-30",
          "2016-04-25",
          "2016-03-18",
          "2016-05-08",
          "2016-03-01",
          "2016-05-09",
          "2016-03-24",
          "2016-03-21",
          "2016-03-25",
          "2016-05-05",
          "2016-04-05",
          "2016-05-06",
          "2016-05-12",
          "2016-04-06",
          "2016-03-27",
          "2016-03-26",
          "2016-03-11",
          "2016-03-12",
          "2016-03-31",
          "2016-04-01",
          "2016-05-15",
          "2016-05-25",
          "2016-05-16",
          "2016-04-14",
          "2016-04-10",
          "2016-06-09",
          "2016-04-18",
          "2016-06-03",
          "2016-06-06",
          "2016-04-23",
          "2016-06-07",
          "2016-04-26",
          "2016-04-29",
          "2016-04-07",
          "2016-05-02",
          "2016-05-04",
          "2016-07-04",
          "2016-05-20",
          "2016-06-22",
          "2016-06-23",
          "2016-07-07",
          "2016-05-10",
          "2016-05-13",
          "2016-04-21",
          "2016-04-24",
          "2016-05-22",
          "2016-04-27",
          "2016-04-30",
          "2016-05-03",
          "2016-06-05",
          "2016-06-21",
          "2016-05-11",
          "2016-06-08",
          "2016-06-26",
          "2016-06-20",
          "2016-06-28",
          "2016-05-23",
          "2016-06-30",
          "2016-05-26",
          "2016-07-06",
          "2016-07-11",
          "2016-07-02",
          "2016-07-10",
          "2016-07-13",
          "2016-06-29"
         ],
         "xaxis": "x",
         "y": [
          null,
          null,
          null,
          null,
          null,
          null,
          null,
          null,
          null,
          null,
          null,
          null,
          null,
          null,
          null,
          null,
          null,
          null,
          null,
          null,
          null,
          null,
          null,
          null,
          null,
          null,
          null,
          null,
          null,
          null,
          null,
          null,
          null,
          null,
          null,
          null,
          null,
          null,
          null,
          null,
          null,
          null,
          null,
          null,
          null,
          null,
          null,
          null,
          null,
          null,
          null,
          null,
          null,
          null,
          null,
          null,
          null,
          null,
          null,
          null,
          null,
          null,
          null,
          null,
          null,
          null,
          null,
          null,
          null,
          null,
          null,
          null,
          null,
          null,
          null,
          null,
          null,
          null,
          null,
          null,
          null,
          null,
          null,
          null,
          null,
          null,
          null,
          null,
          null,
          null,
          null,
          null,
          null,
          null,
          null,
          null,
          null,
          null,
          null,
          null,
          null,
          null,
          null,
          null,
          null,
          null,
          null,
          null,
          null,
          null,
          null,
          null,
          null,
          null,
          null,
          null,
          null,
          null,
          null,
          null,
          null,
          null,
          null,
          null,
          null,
          null,
          null,
          null,
          null,
          null,
          null,
          null,
          null,
          null,
          null,
          null,
          null,
          null,
          null,
          null,
          null,
          null,
          null,
          null,
          null,
          null,
          null,
          null,
          null,
          null,
          null,
          null,
          null,
          null,
          null,
          null,
          null,
          null,
          null,
          null,
          null,
          null,
          null,
          null,
          null,
          null,
          null,
          null,
          null,
          null,
          null,
          null,
          null,
          null,
          null,
          null,
          null,
          null,
          null,
          null,
          null,
          null,
          null,
          null,
          null,
          null,
          null,
          null,
          null,
          null,
          null,
          null,
          null,
          null,
          null,
          null,
          null,
          null,
          null,
          null,
          null,
          null,
          null,
          null,
          null,
          null,
          null,
          null,
          null,
          null,
          null,
          null,
          null,
          null,
          null,
          null,
          null,
          null,
          null,
          null,
          null,
          null,
          null,
          null,
          null,
          null,
          null,
          null,
          null,
          null,
          null,
          null,
          null,
          null,
          null,
          null,
          null,
          null,
          null,
          null,
          null,
          null,
          null,
          null,
          null,
          null,
          null,
          null,
          null,
          null,
          null,
          null,
          null,
          null,
          null,
          null,
          null,
          null,
          null,
          null,
          null,
          null,
          null,
          null,
          null,
          null,
          null,
          null,
          null,
          null,
          null,
          null,
          null,
          null,
          null,
          null,
          null,
          null,
          null,
          null,
          null,
          null,
          null,
          null,
          null,
          null,
          null,
          null,
          null,
          null,
          null,
          null,
          null,
          null,
          null,
          null,
          null,
          null,
          null,
          null,
          null,
          null,
          null,
          null,
          null,
          null,
          null,
          null,
          null,
          null,
          null,
          null,
          null,
          null,
          null,
          null,
          null,
          null,
          null,
          null,
          null,
          null,
          null,
          null,
          null,
          null,
          null,
          null,
          null,
          null,
          null,
          null,
          null,
          null,
          null,
          null,
          null,
          null,
          null,
          null,
          null,
          null,
          null,
          null,
          null,
          null,
          null,
          null,
          null,
          null,
          null,
          null,
          null,
          null,
          null,
          null,
          null,
          null,
          null,
          null,
          null,
          null,
          null,
          null,
          null,
          null,
          null,
          null,
          null,
          null,
          null,
          null,
          null,
          null,
          null,
          null,
          null,
          null,
          null,
          null,
          null,
          null,
          null,
          null,
          null,
          null,
          null,
          null,
          null,
          null,
          null,
          null,
          null,
          null,
          null,
          null,
          null,
          null,
          null,
          null,
          null,
          null,
          null,
          null,
          null,
          null,
          null,
          null,
          null,
          null,
          null,
          null,
          null,
          null,
          null,
          null,
          null,
          null,
          null,
          null,
          null,
          null,
          null,
          null,
          null,
          null,
          null,
          null,
          null,
          null,
          null,
          null,
          null,
          null,
          null,
          null,
          null,
          null,
          null,
          null,
          null,
          null,
          null,
          null,
          null,
          null,
          null,
          null,
          null,
          null,
          null,
          null,
          null,
          null,
          null,
          null,
          null,
          null,
          null,
          null,
          null,
          null,
          null,
          null,
          null,
          null,
          null,
          null,
          null,
          null,
          null,
          null,
          null,
          null,
          null,
          null,
          null,
          null,
          null,
          null,
          null,
          null,
          null,
          null,
          null,
          null,
          null,
          null,
          null,
          null,
          null,
          null,
          null,
          null,
          null,
          null,
          null,
          null,
          null,
          null,
          null,
          null,
          null,
          null,
          null,
          null,
          null,
          null,
          null,
          null,
          null,
          null,
          null,
          null,
          null,
          null,
          93,
          94,
          93,
          94,
          93,
          91,
          92,
          93,
          92,
          93,
          93,
          94,
          93,
          95,
          92,
          92,
          95,
          93,
          91,
          92,
          92,
          93,
          92,
          92,
          94,
          93,
          94,
          93,
          93,
          96,
          94,
          93,
          92,
          92,
          93,
          93,
          93,
          93,
          93,
          93,
          95,
          93,
          93,
          94,
          93,
          94,
          90,
          92,
          92,
          92,
          92,
          94,
          91,
          94,
          93,
          94,
          93,
          92,
          94,
          92,
          92,
          94,
          93,
          91,
          92,
          95,
          94,
          93,
          91,
          92,
          92,
          92,
          95,
          94,
          92,
          94,
          92,
          94,
          93,
          92,
          93,
          93,
          95,
          92,
          96,
          94,
          92,
          92,
          93,
          93,
          93,
          94,
          91,
          93,
          94,
          91,
          92,
          93,
          94,
          94,
          93,
          90,
          92,
          92,
          92,
          92,
          93,
          91,
          93,
          93,
          93,
          95,
          92,
          93,
          93,
          92,
          91,
          92,
          90,
          92,
          92,
          93,
          91,
          93,
          93,
          92,
          92,
          94,
          93,
          93,
          92,
          94,
          93,
          94,
          92,
          92,
          93,
          93,
          93,
          95,
          93,
          92,
          92,
          95,
          93,
          94,
          92,
          91,
          91,
          92,
          93,
          92,
          93,
          93,
          94,
          94,
          92,
          93,
          93,
          96,
          93,
          92,
          93,
          93,
          92,
          92,
          89,
          92,
          93,
          93,
          null,
          null,
          null,
          null,
          null,
          null,
          null,
          null,
          null,
          null,
          null,
          null,
          null,
          null,
          null,
          null,
          null,
          null,
          null,
          null,
          null,
          null,
          null,
          null,
          null,
          null,
          null,
          null,
          null,
          null,
          null,
          null,
          null,
          null,
          null,
          null,
          null,
          null,
          null,
          null,
          null,
          null,
          null,
          null,
          null,
          null,
          null,
          null,
          null,
          null,
          null,
          null,
          null,
          null,
          null,
          null,
          null,
          null,
          null,
          null,
          null,
          null,
          null,
          null,
          null,
          null,
          null,
          null,
          null,
          null,
          null,
          null,
          null,
          null,
          null,
          null,
          null,
          null,
          null,
          null,
          null,
          null,
          null,
          null,
          null,
          null,
          null,
          null,
          null,
          null,
          null,
          null,
          null,
          null,
          null,
          null,
          null,
          null,
          null,
          null,
          null,
          null,
          null,
          null,
          null,
          null,
          null,
          null,
          null,
          null,
          null,
          null,
          null,
          null,
          null,
          null,
          null,
          null,
          null,
          null,
          null,
          null,
          null,
          null,
          null,
          null,
          null,
          null,
          null,
          null,
          null,
          null,
          null,
          null,
          null,
          null,
          null,
          null,
          null,
          null,
          null,
          null,
          null,
          null,
          null,
          null,
          null,
          null,
          null,
          null,
          null,
          null,
          null,
          null,
          null,
          null,
          null,
          null,
          null,
          null,
          null,
          null,
          null,
          null,
          null,
          null,
          null,
          null,
          null,
          null,
          null,
          null,
          null,
          null,
          null,
          null,
          null,
          null,
          null,
          null,
          null,
          null,
          null,
          null,
          null,
          null,
          null,
          null,
          null,
          null,
          null,
          null,
          null,
          null,
          null,
          null,
          null,
          null,
          null,
          null,
          null,
          null,
          null,
          null,
          null,
          null,
          null,
          null,
          null,
          null,
          null,
          null,
          null,
          null,
          null,
          null,
          null,
          null,
          null,
          null,
          null,
          null,
          null,
          null,
          null,
          null,
          null,
          null,
          null,
          null,
          null,
          null,
          null,
          null,
          null,
          null,
          null,
          null,
          null,
          null,
          null,
          null,
          null,
          null,
          null,
          null,
          null,
          null,
          null,
          null,
          null,
          null,
          null,
          null,
          null,
          null,
          null,
          null,
          null,
          null,
          null,
          null,
          null,
          null,
          null,
          null,
          null,
          null,
          null,
          null,
          null,
          null,
          null,
          null,
          null,
          null,
          null,
          null,
          null,
          null,
          null,
          null,
          null,
          null,
          null,
          null,
          null,
          null,
          null,
          null,
          null,
          null,
          null,
          null,
          null,
          null,
          null,
          null,
          null,
          null,
          null,
          null,
          null,
          null,
          null,
          null,
          null,
          null,
          null,
          null,
          null,
          null,
          null,
          null,
          null,
          null,
          null,
          null,
          null,
          null,
          null,
          null,
          null,
          null,
          null,
          null,
          null,
          null,
          null,
          null,
          null,
          null,
          null,
          null,
          null,
          null,
          null,
          null,
          null,
          null,
          null,
          null,
          null,
          null,
          null,
          null,
          null,
          null,
          null,
          null,
          null,
          null,
          null,
          null,
          null,
          null,
          null,
          null,
          null,
          null,
          null,
          null,
          null,
          null,
          null,
          null,
          null,
          null,
          null,
          null,
          null,
          null,
          null,
          null,
          null,
          null,
          null,
          null,
          null,
          null,
          null,
          null,
          null,
          null,
          null,
          null,
          null,
          null,
          null,
          null,
          null,
          null,
          null,
          null,
          null,
          null,
          null,
          null,
          null,
          null,
          null,
          null,
          null,
          null,
          null,
          null,
          null,
          null,
          null,
          null,
          null,
          null,
          null,
          null,
          null,
          null,
          null,
          null,
          null,
          null,
          null,
          null,
          null,
          null,
          null,
          null,
          null,
          null,
          null,
          null,
          null,
          null,
          null,
          null,
          null,
          null,
          null,
          null,
          null,
          null,
          null,
          null,
          null,
          null,
          null,
          null,
          null,
          null,
          null,
          null,
          null,
          null,
          null,
          null,
          null,
          null,
          null,
          null,
          null,
          null,
          null,
          null,
          null,
          null,
          null,
          null,
          null,
          null,
          null,
          null,
          null,
          null,
          null,
          null,
          null,
          null,
          null,
          null,
          null,
          null,
          null,
          null,
          null,
          null,
          null,
          null,
          null,
          null,
          null,
          null,
          null,
          null,
          null,
          null,
          null,
          null,
          null,
          null,
          null,
          null,
          null,
          null,
          null,
          null,
          null,
          null,
          null,
          null,
          null,
          null,
          null,
          null,
          null,
          null,
          null,
          null,
          null,
          null,
          null,
          null,
          null,
          null,
          null,
          null,
          null,
          null,
          null,
          null,
          null,
          null,
          null,
          null,
          null,
          null,
          null,
          null,
          null,
          null,
          null,
          null,
          null,
          null,
          null,
          null,
          null,
          null,
          null,
          null,
          null,
          null,
          null,
          null,
          null,
          null,
          null,
          null,
          null,
          null,
          null,
          null,
          null,
          null,
          null,
          null,
          null,
          null,
          null,
          null,
          null,
          null,
          null,
          null,
          null,
          null,
          null,
          null,
          null,
          null,
          null,
          null,
          null,
          null,
          null,
          null,
          null,
          null,
          null,
          null,
          null,
          null,
          null,
          null,
          null,
          null,
          null,
          null,
          null,
          null,
          null,
          null,
          null,
          null,
          null,
          null,
          null,
          null,
          null,
          null,
          null,
          null,
          null,
          null,
          null,
          null,
          null,
          null,
          null,
          null,
          null,
          null,
          null,
          null,
          null,
          null,
          null,
          null,
          null,
          null,
          null,
          null,
          null,
          null,
          null,
          null,
          null,
          null,
          null,
          null,
          null,
          null,
          null,
          null,
          null,
          null,
          null,
          null,
          null,
          null,
          null,
          null,
          null,
          null,
          null,
          null,
          null,
          null,
          null,
          null,
          null,
          null,
          null,
          null,
          null,
          null,
          null,
          null,
          null,
          null,
          null,
          null,
          null,
          null,
          null,
          null,
          null,
          null,
          null,
          null,
          null,
          null,
          null,
          null,
          null,
          null,
          null,
          null,
          null,
          null,
          null,
          null,
          null,
          null,
          null,
          null,
          null,
          null,
          null,
          null,
          null,
          null,
          null,
          null,
          null,
          null,
          null,
          null,
          null,
          null,
          null,
          null,
          null,
          null,
          null,
          null,
          null,
          null,
          null,
          null,
          null,
          null,
          null,
          null,
          null,
          null,
          null,
          null,
          null,
          null,
          null,
          null,
          null,
          null,
          null,
          null,
          null,
          null,
          null,
          null,
          null,
          null,
          null,
          null,
          null,
          null,
          null,
          null,
          null,
          null,
          null,
          null,
          null,
          null,
          null,
          null,
          null,
          null,
          null,
          null,
          null,
          null,
          null,
          null,
          null,
          null,
          null,
          null,
          null,
          null,
          null,
          null,
          null,
          null,
          null,
          null,
          null,
          null,
          null,
          null,
          null,
          null,
          null,
          null,
          null,
          null,
          null,
          null,
          null,
          null,
          null,
          null,
          null,
          null,
          null,
          null,
          null,
          null,
          null,
          null,
          null,
          null,
          null,
          null,
          null,
          null,
          null,
          null,
          null,
          null,
          null,
          null,
          null,
          null,
          null,
          null,
          null,
          null,
          null,
          null,
          null,
          null,
          null,
          null,
          null,
          null,
          null,
          null,
          null,
          null,
          null,
          null,
          null,
          null,
          null,
          null,
          null,
          null,
          null,
          null,
          null,
          null,
          null,
          null,
          null
         ],
         "yaxis": "y"
        }
       ],
       "layout": {
        "legend": {
         "tracegroupgap": 0
        },
        "template": {
         "data": {
          "bar": [
           {
            "error_x": {
             "color": "#2a3f5f"
            },
            "error_y": {
             "color": "#2a3f5f"
            },
            "marker": {
             "line": {
              "color": "#E5ECF6",
              "width": 0.5
             },
             "pattern": {
              "fillmode": "overlay",
              "size": 10,
              "solidity": 0.2
             }
            },
            "type": "bar"
           }
          ],
          "barpolar": [
           {
            "marker": {
             "line": {
              "color": "#E5ECF6",
              "width": 0.5
             },
             "pattern": {
              "fillmode": "overlay",
              "size": 10,
              "solidity": 0.2
             }
            },
            "type": "barpolar"
           }
          ],
          "carpet": [
           {
            "aaxis": {
             "endlinecolor": "#2a3f5f",
             "gridcolor": "white",
             "linecolor": "white",
             "minorgridcolor": "white",
             "startlinecolor": "#2a3f5f"
            },
            "baxis": {
             "endlinecolor": "#2a3f5f",
             "gridcolor": "white",
             "linecolor": "white",
             "minorgridcolor": "white",
             "startlinecolor": "#2a3f5f"
            },
            "type": "carpet"
           }
          ],
          "choropleth": [
           {
            "colorbar": {
             "outlinewidth": 0,
             "ticks": ""
            },
            "type": "choropleth"
           }
          ],
          "contour": [
           {
            "colorbar": {
             "outlinewidth": 0,
             "ticks": ""
            },
            "colorscale": [
             [
              0,
              "#0d0887"
             ],
             [
              0.1111111111111111,
              "#46039f"
             ],
             [
              0.2222222222222222,
              "#7201a8"
             ],
             [
              0.3333333333333333,
              "#9c179e"
             ],
             [
              0.4444444444444444,
              "#bd3786"
             ],
             [
              0.5555555555555556,
              "#d8576b"
             ],
             [
              0.6666666666666666,
              "#ed7953"
             ],
             [
              0.7777777777777778,
              "#fb9f3a"
             ],
             [
              0.8888888888888888,
              "#fdca26"
             ],
             [
              1,
              "#f0f921"
             ]
            ],
            "type": "contour"
           }
          ],
          "contourcarpet": [
           {
            "colorbar": {
             "outlinewidth": 0,
             "ticks": ""
            },
            "type": "contourcarpet"
           }
          ],
          "heatmap": [
           {
            "colorbar": {
             "outlinewidth": 0,
             "ticks": ""
            },
            "colorscale": [
             [
              0,
              "#0d0887"
             ],
             [
              0.1111111111111111,
              "#46039f"
             ],
             [
              0.2222222222222222,
              "#7201a8"
             ],
             [
              0.3333333333333333,
              "#9c179e"
             ],
             [
              0.4444444444444444,
              "#bd3786"
             ],
             [
              0.5555555555555556,
              "#d8576b"
             ],
             [
              0.6666666666666666,
              "#ed7953"
             ],
             [
              0.7777777777777778,
              "#fb9f3a"
             ],
             [
              0.8888888888888888,
              "#fdca26"
             ],
             [
              1,
              "#f0f921"
             ]
            ],
            "type": "heatmap"
           }
          ],
          "heatmapgl": [
           {
            "colorbar": {
             "outlinewidth": 0,
             "ticks": ""
            },
            "colorscale": [
             [
              0,
              "#0d0887"
             ],
             [
              0.1111111111111111,
              "#46039f"
             ],
             [
              0.2222222222222222,
              "#7201a8"
             ],
             [
              0.3333333333333333,
              "#9c179e"
             ],
             [
              0.4444444444444444,
              "#bd3786"
             ],
             [
              0.5555555555555556,
              "#d8576b"
             ],
             [
              0.6666666666666666,
              "#ed7953"
             ],
             [
              0.7777777777777778,
              "#fb9f3a"
             ],
             [
              0.8888888888888888,
              "#fdca26"
             ],
             [
              1,
              "#f0f921"
             ]
            ],
            "type": "heatmapgl"
           }
          ],
          "histogram": [
           {
            "marker": {
             "pattern": {
              "fillmode": "overlay",
              "size": 10,
              "solidity": 0.2
             }
            },
            "type": "histogram"
           }
          ],
          "histogram2d": [
           {
            "colorbar": {
             "outlinewidth": 0,
             "ticks": ""
            },
            "colorscale": [
             [
              0,
              "#0d0887"
             ],
             [
              0.1111111111111111,
              "#46039f"
             ],
             [
              0.2222222222222222,
              "#7201a8"
             ],
             [
              0.3333333333333333,
              "#9c179e"
             ],
             [
              0.4444444444444444,
              "#bd3786"
             ],
             [
              0.5555555555555556,
              "#d8576b"
             ],
             [
              0.6666666666666666,
              "#ed7953"
             ],
             [
              0.7777777777777778,
              "#fb9f3a"
             ],
             [
              0.8888888888888888,
              "#fdca26"
             ],
             [
              1,
              "#f0f921"
             ]
            ],
            "type": "histogram2d"
           }
          ],
          "histogram2dcontour": [
           {
            "colorbar": {
             "outlinewidth": 0,
             "ticks": ""
            },
            "colorscale": [
             [
              0,
              "#0d0887"
             ],
             [
              0.1111111111111111,
              "#46039f"
             ],
             [
              0.2222222222222222,
              "#7201a8"
             ],
             [
              0.3333333333333333,
              "#9c179e"
             ],
             [
              0.4444444444444444,
              "#bd3786"
             ],
             [
              0.5555555555555556,
              "#d8576b"
             ],
             [
              0.6666666666666666,
              "#ed7953"
             ],
             [
              0.7777777777777778,
              "#fb9f3a"
             ],
             [
              0.8888888888888888,
              "#fdca26"
             ],
             [
              1,
              "#f0f921"
             ]
            ],
            "type": "histogram2dcontour"
           }
          ],
          "mesh3d": [
           {
            "colorbar": {
             "outlinewidth": 0,
             "ticks": ""
            },
            "type": "mesh3d"
           }
          ],
          "parcoords": [
           {
            "line": {
             "colorbar": {
              "outlinewidth": 0,
              "ticks": ""
             }
            },
            "type": "parcoords"
           }
          ],
          "pie": [
           {
            "automargin": true,
            "type": "pie"
           }
          ],
          "scatter": [
           {
            "fillpattern": {
             "fillmode": "overlay",
             "size": 10,
             "solidity": 0.2
            },
            "type": "scatter"
           }
          ],
          "scatter3d": [
           {
            "line": {
             "colorbar": {
              "outlinewidth": 0,
              "ticks": ""
             }
            },
            "marker": {
             "colorbar": {
              "outlinewidth": 0,
              "ticks": ""
             }
            },
            "type": "scatter3d"
           }
          ],
          "scattercarpet": [
           {
            "marker": {
             "colorbar": {
              "outlinewidth": 0,
              "ticks": ""
             }
            },
            "type": "scattercarpet"
           }
          ],
          "scattergeo": [
           {
            "marker": {
             "colorbar": {
              "outlinewidth": 0,
              "ticks": ""
             }
            },
            "type": "scattergeo"
           }
          ],
          "scattergl": [
           {
            "marker": {
             "colorbar": {
              "outlinewidth": 0,
              "ticks": ""
             }
            },
            "type": "scattergl"
           }
          ],
          "scattermapbox": [
           {
            "marker": {
             "colorbar": {
              "outlinewidth": 0,
              "ticks": ""
             }
            },
            "type": "scattermapbox"
           }
          ],
          "scatterpolar": [
           {
            "marker": {
             "colorbar": {
              "outlinewidth": 0,
              "ticks": ""
             }
            },
            "type": "scatterpolar"
           }
          ],
          "scatterpolargl": [
           {
            "marker": {
             "colorbar": {
              "outlinewidth": 0,
              "ticks": ""
             }
            },
            "type": "scatterpolargl"
           }
          ],
          "scatterternary": [
           {
            "marker": {
             "colorbar": {
              "outlinewidth": 0,
              "ticks": ""
             }
            },
            "type": "scatterternary"
           }
          ],
          "surface": [
           {
            "colorbar": {
             "outlinewidth": 0,
             "ticks": ""
            },
            "colorscale": [
             [
              0,
              "#0d0887"
             ],
             [
              0.1111111111111111,
              "#46039f"
             ],
             [
              0.2222222222222222,
              "#7201a8"
             ],
             [
              0.3333333333333333,
              "#9c179e"
             ],
             [
              0.4444444444444444,
              "#bd3786"
             ],
             [
              0.5555555555555556,
              "#d8576b"
             ],
             [
              0.6666666666666666,
              "#ed7953"
             ],
             [
              0.7777777777777778,
              "#fb9f3a"
             ],
             [
              0.8888888888888888,
              "#fdca26"
             ],
             [
              1,
              "#f0f921"
             ]
            ],
            "type": "surface"
           }
          ],
          "table": [
           {
            "cells": {
             "fill": {
              "color": "#EBF0F8"
             },
             "line": {
              "color": "white"
             }
            },
            "header": {
             "fill": {
              "color": "#C8D4E3"
             },
             "line": {
              "color": "white"
             }
            },
            "type": "table"
           }
          ]
         },
         "layout": {
          "annotationdefaults": {
           "arrowcolor": "#2a3f5f",
           "arrowhead": 0,
           "arrowwidth": 1
          },
          "autotypenumbers": "strict",
          "coloraxis": {
           "colorbar": {
            "outlinewidth": 0,
            "ticks": ""
           }
          },
          "colorscale": {
           "diverging": [
            [
             0,
             "#8e0152"
            ],
            [
             0.1,
             "#c51b7d"
            ],
            [
             0.2,
             "#de77ae"
            ],
            [
             0.3,
             "#f1b6da"
            ],
            [
             0.4,
             "#fde0ef"
            ],
            [
             0.5,
             "#f7f7f7"
            ],
            [
             0.6,
             "#e6f5d0"
            ],
            [
             0.7,
             "#b8e186"
            ],
            [
             0.8,
             "#7fbc41"
            ],
            [
             0.9,
             "#4d9221"
            ],
            [
             1,
             "#276419"
            ]
           ],
           "sequential": [
            [
             0,
             "#0d0887"
            ],
            [
             0.1111111111111111,
             "#46039f"
            ],
            [
             0.2222222222222222,
             "#7201a8"
            ],
            [
             0.3333333333333333,
             "#9c179e"
            ],
            [
             0.4444444444444444,
             "#bd3786"
            ],
            [
             0.5555555555555556,
             "#d8576b"
            ],
            [
             0.6666666666666666,
             "#ed7953"
            ],
            [
             0.7777777777777778,
             "#fb9f3a"
            ],
            [
             0.8888888888888888,
             "#fdca26"
            ],
            [
             1,
             "#f0f921"
            ]
           ],
           "sequentialminus": [
            [
             0,
             "#0d0887"
            ],
            [
             0.1111111111111111,
             "#46039f"
            ],
            [
             0.2222222222222222,
             "#7201a8"
            ],
            [
             0.3333333333333333,
             "#9c179e"
            ],
            [
             0.4444444444444444,
             "#bd3786"
            ],
            [
             0.5555555555555556,
             "#d8576b"
            ],
            [
             0.6666666666666666,
             "#ed7953"
            ],
            [
             0.7777777777777778,
             "#fb9f3a"
            ],
            [
             0.8888888888888888,
             "#fdca26"
            ],
            [
             1,
             "#f0f921"
            ]
           ]
          },
          "colorway": [
           "#636efa",
           "#EF553B",
           "#00cc96",
           "#ab63fa",
           "#FFA15A",
           "#19d3f3",
           "#FF6692",
           "#B6E880",
           "#FF97FF",
           "#FECB52"
          ],
          "font": {
           "color": "#2a3f5f"
          },
          "geo": {
           "bgcolor": "white",
           "lakecolor": "white",
           "landcolor": "#E5ECF6",
           "showlakes": true,
           "showland": true,
           "subunitcolor": "white"
          },
          "hoverlabel": {
           "align": "left"
          },
          "hovermode": "closest",
          "mapbox": {
           "style": "light"
          },
          "paper_bgcolor": "white",
          "plot_bgcolor": "#E5ECF6",
          "polar": {
           "angularaxis": {
            "gridcolor": "white",
            "linecolor": "white",
            "ticks": ""
           },
           "bgcolor": "#E5ECF6",
           "radialaxis": {
            "gridcolor": "white",
            "linecolor": "white",
            "ticks": ""
           }
          },
          "scene": {
           "xaxis": {
            "backgroundcolor": "#E5ECF6",
            "gridcolor": "white",
            "gridwidth": 2,
            "linecolor": "white",
            "showbackground": true,
            "ticks": "",
            "zerolinecolor": "white"
           },
           "yaxis": {
            "backgroundcolor": "#E5ECF6",
            "gridcolor": "white",
            "gridwidth": 2,
            "linecolor": "white",
            "showbackground": true,
            "ticks": "",
            "zerolinecolor": "white"
           },
           "zaxis": {
            "backgroundcolor": "#E5ECF6",
            "gridcolor": "white",
            "gridwidth": 2,
            "linecolor": "white",
            "showbackground": true,
            "ticks": "",
            "zerolinecolor": "white"
           }
          },
          "shapedefaults": {
           "line": {
            "color": "#2a3f5f"
           }
          },
          "ternary": {
           "aaxis": {
            "gridcolor": "white",
            "linecolor": "white",
            "ticks": ""
           },
           "baxis": {
            "gridcolor": "white",
            "linecolor": "white",
            "ticks": ""
           },
           "bgcolor": "#E5ECF6",
           "caxis": {
            "gridcolor": "white",
            "linecolor": "white",
            "ticks": ""
           }
          },
          "title": {
           "x": 0.05
          },
          "xaxis": {
           "automargin": true,
           "gridcolor": "white",
           "linecolor": "white",
           "ticks": "",
           "title": {
            "standoff": 15
           },
           "zerolinecolor": "white",
           "zerolinewidth": 2
          },
          "yaxis": {
           "automargin": true,
           "gridcolor": "white",
           "linecolor": "white",
           "ticks": "",
           "title": {
            "standoff": 15
           },
           "zerolinecolor": "white",
           "zerolinewidth": 2
          }
         }
        },
        "title": {
         "text": "O2 Saturation for id -Q0Wf614z94DSTy6nXjyw7"
        },
        "xaxis": {
         "anchor": "y",
         "domain": [
          0,
          1
         ],
         "range": [
          "2015-08-04",
          "2017-04-30"
         ],
         "title": {
          "text": "Date recorded"
         }
        },
        "yaxis": {
         "anchor": "x",
         "domain": [
          0,
          1
         ],
         "title": {
          "text": "O2 Saturation"
         }
        }
       }
      }
     },
     "metadata": {},
     "output_type": "display_data"
    }
   ],
   "source": [
    "o2_sat = extract_measure(df, \"O2 Saturation\", with_patient_id=True)\n",
    "o2_sat.head()\n",
    "\n",
    "\n",
    "# 303, 305, 306, 307 are the only IDs that are worht using -> with >5 measurements\n",
    "\n",
    "# For each ID in fake_ids, plot O2 saturation\n",
    "for id in wished_ids:\n",
    "    # Scatter plot of O2 saturation measurements for this id with px\n",
    "    fig = px.scatter(df[df[\"User ID\"] == id], x=\"Date recorded\", y=\"O2 Saturation\", title=\"O2 Saturation for id \" + str(id))\n",
    "    # Update x axis to range of O2 saturation measurements \n",
    "    fig.update_xaxes(range=[df[\"Date recorded\"].min(), df[\"Date recorded\"].max()])\n",
    "    fig.show()"
   ]
  },
  {
   "attachments": {},
   "cell_type": "markdown",
   "metadata": {},
   "source": [
    "## Compare measurements and clinical data for those patients"
   ]
  },
  {
   "cell_type": "code",
   "execution_count": 6,
   "metadata": {},
   "outputs": [
    {
     "name": "stdout",
     "output_type": "stream",
     "text": [
      "\n",
      "** Loading patient data **\n",
      "\n",
      "* Dropping unnecessary columns from patient data *\n",
      "Columns filtered: ['ID', 'Study Date', 'DOB', 'Age', 'Sex', 'Height', 'Weight', 'Predicted FEV1', 'FEV1 Set As']\n",
      "Columns dropped: {'Unable Sputum Samples', 'CFQR Quest Comp', 'Study Email', 'GP Letter Sent', 'Study Number', 'Sputum Samples', 'Hospital', 'Date Consent Obtained', 'Age 18 Years', 'Unable Informed Consent', 'Date Last PE Stop', 'Comments', 'Less Exacerbation', 'Freezer Required', 'Remote Monitoring App User ID', 'Date Last PE Start', 'Informed Consent', 'Transplant Recipients', 'Genetic Testing', 'Telemetric Measures', 'Inconvenience Payment', 'Pulmonary Exacerbation'}\n",
      "\n",
      "* Correcting patient data *\n",
      "ID 60: Corrected height 60 from 1.63 to 163.0\n",
      "ID 66: Corrected height for ID 66 from 1.62 to 162.0\n",
      "Replace Age by calculate age\n",
      "Replace Predicted FEV1 by the calculated version\n",
      "Drop FEV1 Set As\n",
      "\n",
      "* Applying data sanity checks *\n",
      "Loaded patient data with 147 entries (147 initially)\n"
     ]
    },
    {
     "name": "stderr",
     "output_type": "stream",
     "text": [
      "/Applications/anaconda3/envs/phd/lib/python3.10/site-packages/openpyxl/worksheet/_read_only.py:79: UserWarning:\n",
      "\n",
      "Unknown extension is not supported and will be removed\n",
      "\n",
      "/Users/tristan.trebaol/Desktop/PhD/Code/old_phd/src/data/patient_data.py:137: SettingWithCopyWarning:\n",
      "\n",
      "\n",
      "A value is trying to be set on a copy of a slice from a DataFrame\n",
      "\n",
      "See the caveats in the documentation: https://pandas.pydata.org/pandas-docs/stable/user_guide/indexing.html#returning-a-view-versus-a-copy\n",
      "\n"
     ]
    },
    {
     "data": {
      "text/html": [
       "<div>\n",
       "<style scoped>\n",
       "    .dataframe tbody tr th:only-of-type {\n",
       "        vertical-align: middle;\n",
       "    }\n",
       "\n",
       "    .dataframe tbody tr th {\n",
       "        vertical-align: top;\n",
       "    }\n",
       "\n",
       "    .dataframe thead th {\n",
       "        text-align: right;\n",
       "    }\n",
       "</style>\n",
       "<table border=\"1\" class=\"dataframe\">\n",
       "  <thead>\n",
       "    <tr style=\"text-align: right;\">\n",
       "      <th></th>\n",
       "      <th>ID</th>\n",
       "      <th>Study Date</th>\n",
       "      <th>DOB</th>\n",
       "      <th>Age</th>\n",
       "      <th>Sex</th>\n",
       "      <th>Height</th>\n",
       "      <th>Weight</th>\n",
       "      <th>Predicted FEV1</th>\n",
       "    </tr>\n",
       "  </thead>\n",
       "  <tbody>\n",
       "    <tr>\n",
       "      <th>0</th>\n",
       "      <td>36</td>\n",
       "      <td>2015-01-21</td>\n",
       "      <td>1993-11-16</td>\n",
       "      <td>21</td>\n",
       "      <td>Female</td>\n",
       "      <td>160.0</td>\n",
       "      <td>56.8</td>\n",
       "      <td>3.1950</td>\n",
       "    </tr>\n",
       "    <tr>\n",
       "      <th>1</th>\n",
       "      <td>23</td>\n",
       "      <td>2015-08-03</td>\n",
       "      <td>1960-07-05</td>\n",
       "      <td>55</td>\n",
       "      <td>Female</td>\n",
       "      <td>157.0</td>\n",
       "      <td>63.4</td>\n",
       "      <td>2.2265</td>\n",
       "    </tr>\n",
       "    <tr>\n",
       "      <th>2</th>\n",
       "      <td>24</td>\n",
       "      <td>2015-08-06</td>\n",
       "      <td>1990-11-25</td>\n",
       "      <td>25</td>\n",
       "      <td>Female</td>\n",
       "      <td>166.0</td>\n",
       "      <td>74.2</td>\n",
       "      <td>3.3320</td>\n",
       "    </tr>\n",
       "    <tr>\n",
       "      <th>3</th>\n",
       "      <td>138</td>\n",
       "      <td>2015-08-06</td>\n",
       "      <td>1985-10-31</td>\n",
       "      <td>30</td>\n",
       "      <td>Male</td>\n",
       "      <td>172.0</td>\n",
       "      <td>66.6</td>\n",
       "      <td>4.0360</td>\n",
       "    </tr>\n",
       "    <tr>\n",
       "      <th>4</th>\n",
       "      <td>80</td>\n",
       "      <td>2015-08-10</td>\n",
       "      <td>1994-08-16</td>\n",
       "      <td>21</td>\n",
       "      <td>Male</td>\n",
       "      <td>159.0</td>\n",
       "      <td>66.2</td>\n",
       "      <td>3.7380</td>\n",
       "    </tr>\n",
       "  </tbody>\n",
       "</table>\n",
       "</div>"
      ],
      "text/plain": [
       "    ID  Study Date         DOB  Age     Sex  Height  Weight  Predicted FEV1\n",
       "0   36  2015-01-21  1993-11-16   21  Female   160.0    56.8          3.1950\n",
       "1   23  2015-08-03  1960-07-05   55  Female   157.0    63.4          2.2265\n",
       "2   24  2015-08-06  1990-11-25   25  Female   166.0    74.2          3.3320\n",
       "3  138  2015-08-06  1985-10-31   30    Male   172.0    66.6          4.0360\n",
       "4   80  2015-08-10  1994-08-16   21    Male   159.0    66.2          3.7380"
      ]
     },
     "execution_count": 6,
     "metadata": {},
     "output_type": "execute_result"
    }
   ],
   "source": [
    "import patient_data\n",
    "\n",
    "df_patient = patient_data.load()"
   ]
  },
  {
   "cell_type": "code",
   "execution_count": 7,
   "metadata": {},
   "outputs": [
    {
     "name": "stdout",
     "output_type": "stream",
     "text": [
      "\n",
      "* Merging measurements data with ID map to retrieve SmartCare ID *\n",
      "List User IDs that have no SmartCare ID\n",
      "['username davetest, user id o0egatM37za2ZZ2jfs3AJ5'\n",
      " 'username leeds01253, user id -Q0Wf614z94DSTy6nXjyw7'\n",
      " 'username Ryan007, user id 31KnMK5Z4A6OKErB1C5-i6'\n",
      " 'username Papworth016, user id 0HeWh64M_zc5U5l2xqzAs4'\n",
      " 'username PapBen, user id GyK_hmIGxVaT7chwlGDio7'\n",
      " 'username Papworth025, user id 1au5biSTt0bNWgfI0WItr5'\n",
      " 'username BRISTOLSC003, user id -TKpptiCA5cASNKU0VSmx4'\n",
      " 'username BRISTOLSC010, user id -Cujq-NEcld_Keu_W1-Nw5'\n",
      " 'username scguest, user id ci0iszS3ov6G2U-dKDiAE4'\n",
      " 'username PapworthSummer, user id 9YevbyBS8VdwRL3RRUGY86'\n",
      " 'username Texas, user id MB0_-sqQBxhrKyfoOxUaF4'\n",
      " 'username EmemTest, user id 9MKCpOe_FO_LcU9C0oCPJ4']\n"
     ]
    },
    {
     "data": {
      "text/html": [
       "<div>\n",
       "<style scoped>\n",
       "    .dataframe tbody tr th:only-of-type {\n",
       "        vertical-align: middle;\n",
       "    }\n",
       "\n",
       "    .dataframe tbody tr th {\n",
       "        vertical-align: top;\n",
       "    }\n",
       "\n",
       "    .dataframe thead th {\n",
       "        text-align: right;\n",
       "    }\n",
       "</style>\n",
       "<table border=\"1\" class=\"dataframe\">\n",
       "  <thead>\n",
       "    <tr style=\"text-align: right;\">\n",
       "      <th></th>\n",
       "      <th>User ID</th>\n",
       "      <th>UserName</th>\n",
       "      <th>Recording Type</th>\n",
       "      <th>Date recorded</th>\n",
       "      <th>FEV1</th>\n",
       "      <th>Predicted FEV</th>\n",
       "      <th>FEV1 %</th>\n",
       "      <th>Weight (kg)</th>\n",
       "      <th>O2 Saturation</th>\n",
       "      <th>Pulse (BPM)</th>\n",
       "      <th>Rating</th>\n",
       "      <th>Temp (deg C)</th>\n",
       "      <th>Activity - Steps</th>\n",
       "      <th>Activity - Points</th>\n",
       "      <th>Patient_ID</th>\n",
       "      <th>Study_ID</th>\n",
       "      <th>ID</th>\n",
       "    </tr>\n",
       "  </thead>\n",
       "  <tbody>\n",
       "    <tr>\n",
       "      <th>0</th>\n",
       "      <td>o0egatM37za2ZZ2jfs3AJ5</td>\n",
       "      <td>davetest</td>\n",
       "      <td>ActivityRecording</td>\n",
       "      <td>2015-08-04</td>\n",
       "      <td>NaN</td>\n",
       "      <td>NaN</td>\n",
       "      <td>NaN</td>\n",
       "      <td>NaN</td>\n",
       "      <td>NaN</td>\n",
       "      <td>NaN</td>\n",
       "      <td>NaN</td>\n",
       "      <td>NaN</td>\n",
       "      <td>4.0</td>\n",
       "      <td>1.0</td>\n",
       "      <td>NaN</td>\n",
       "      <td>NaN</td>\n",
       "      <td>NaN</td>\n",
       "    </tr>\n",
       "    <tr>\n",
       "      <th>1</th>\n",
       "      <td>o0egatM37za2ZZ2jfs3AJ5</td>\n",
       "      <td>davetest</td>\n",
       "      <td>ActivityRecording</td>\n",
       "      <td>2015-08-05</td>\n",
       "      <td>NaN</td>\n",
       "      <td>NaN</td>\n",
       "      <td>NaN</td>\n",
       "      <td>NaN</td>\n",
       "      <td>NaN</td>\n",
       "      <td>NaN</td>\n",
       "      <td>NaN</td>\n",
       "      <td>NaN</td>\n",
       "      <td>NaN</td>\n",
       "      <td>NaN</td>\n",
       "      <td>NaN</td>\n",
       "      <td>NaN</td>\n",
       "      <td>NaN</td>\n",
       "    </tr>\n",
       "    <tr>\n",
       "      <th>2</th>\n",
       "      <td>VtussNQdJTdwKO4LuYroh4</td>\n",
       "      <td>Papworth004</td>\n",
       "      <td>ActivityRecording</td>\n",
       "      <td>2015-08-05</td>\n",
       "      <td>NaN</td>\n",
       "      <td>NaN</td>\n",
       "      <td>NaN</td>\n",
       "      <td>NaN</td>\n",
       "      <td>NaN</td>\n",
       "      <td>NaN</td>\n",
       "      <td>NaN</td>\n",
       "      <td>NaN</td>\n",
       "      <td>258.0</td>\n",
       "      <td>65.0</td>\n",
       "      <td>VtussNQdJTdwKO4LuYroh4</td>\n",
       "      <td>Papworth004</td>\n",
       "      <td>79</td>\n",
       "    </tr>\n",
       "    <tr>\n",
       "      <th>3</th>\n",
       "      <td>o0egatM37za2ZZ2jfs3AJ5</td>\n",
       "      <td>davetest</td>\n",
       "      <td>ActivityRecording</td>\n",
       "      <td>2015-08-06</td>\n",
       "      <td>NaN</td>\n",
       "      <td>NaN</td>\n",
       "      <td>NaN</td>\n",
       "      <td>NaN</td>\n",
       "      <td>NaN</td>\n",
       "      <td>NaN</td>\n",
       "      <td>NaN</td>\n",
       "      <td>NaN</td>\n",
       "      <td>NaN</td>\n",
       "      <td>NaN</td>\n",
       "      <td>NaN</td>\n",
       "      <td>NaN</td>\n",
       "      <td>NaN</td>\n",
       "    </tr>\n",
       "    <tr>\n",
       "      <th>4</th>\n",
       "      <td>RwennLW0OTb0BG61R5R-Z4</td>\n",
       "      <td>Papworth001</td>\n",
       "      <td>ActivityRecording</td>\n",
       "      <td>2015-08-06</td>\n",
       "      <td>NaN</td>\n",
       "      <td>NaN</td>\n",
       "      <td>NaN</td>\n",
       "      <td>NaN</td>\n",
       "      <td>NaN</td>\n",
       "      <td>NaN</td>\n",
       "      <td>NaN</td>\n",
       "      <td>NaN</td>\n",
       "      <td>2460.0</td>\n",
       "      <td>621.0</td>\n",
       "      <td>RwennLW0OTb0BG61R5R-Z4</td>\n",
       "      <td>Papworth001</td>\n",
       "      <td>23</td>\n",
       "    </tr>\n",
       "  </tbody>\n",
       "</table>\n",
       "</div>"
      ],
      "text/plain": [
       "                  User ID     UserName     Recording Type Date recorded  FEV1  \\\n",
       "0  o0egatM37za2ZZ2jfs3AJ5     davetest  ActivityRecording    2015-08-04   NaN   \n",
       "1  o0egatM37za2ZZ2jfs3AJ5     davetest  ActivityRecording    2015-08-05   NaN   \n",
       "2  VtussNQdJTdwKO4LuYroh4  Papworth004  ActivityRecording    2015-08-05   NaN   \n",
       "3  o0egatM37za2ZZ2jfs3AJ5     davetest  ActivityRecording    2015-08-06   NaN   \n",
       "4  RwennLW0OTb0BG61R5R-Z4  Papworth001  ActivityRecording    2015-08-06   NaN   \n",
       "\n",
       "   Predicted FEV  FEV1 %  Weight (kg)  O2 Saturation  Pulse (BPM)  Rating  \\\n",
       "0            NaN     NaN          NaN            NaN          NaN     NaN   \n",
       "1            NaN     NaN          NaN            NaN          NaN     NaN   \n",
       "2            NaN     NaN          NaN            NaN          NaN     NaN   \n",
       "3            NaN     NaN          NaN            NaN          NaN     NaN   \n",
       "4            NaN     NaN          NaN            NaN          NaN     NaN   \n",
       "\n",
       "   Temp (deg C)  Activity - Steps  Activity - Points              Patient_ID  \\\n",
       "0           NaN               4.0                1.0                     NaN   \n",
       "1           NaN               NaN                NaN                     NaN   \n",
       "2           NaN             258.0               65.0  VtussNQdJTdwKO4LuYroh4   \n",
       "3           NaN               NaN                NaN                     NaN   \n",
       "4           NaN            2460.0              621.0  RwennLW0OTb0BG61R5R-Z4   \n",
       "\n",
       "      Study_ID   ID  \n",
       "0          NaN  NaN  \n",
       "1          NaN  NaN  \n",
       "2  Papworth004   79  \n",
       "3          NaN  NaN  \n",
       "4  Papworth001   23  "
      ]
     },
     "execution_count": 7,
     "metadata": {},
     "output_type": "execute_result"
    }
   ],
   "source": [
    "df_id_map = measurements_data.load_id_map(with_correction=False)\n",
    "df = measurements_data.merge_with_id_mapping(df, df_id_map)\n",
    "df.head()"
   ]
  },
  {
   "cell_type": "code",
   "execution_count": 26,
   "metadata": {},
   "outputs": [
    {
     "name": "stdout",
     "output_type": "stream",
     "text": [
      "['38' '101' '125' '232' '169' '204']\n"
     ]
    },
    {
     "data": {
      "text/html": [
       "<div>\n",
       "<style scoped>\n",
       "    .dataframe tbody tr th:only-of-type {\n",
       "        vertical-align: middle;\n",
       "    }\n",
       "\n",
       "    .dataframe tbody tr th {\n",
       "        vertical-align: top;\n",
       "    }\n",
       "\n",
       "    .dataframe thead th {\n",
       "        text-align: right;\n",
       "    }\n",
       "</style>\n",
       "<table border=\"1\" class=\"dataframe\">\n",
       "  <thead>\n",
       "    <tr style=\"text-align: right;\">\n",
       "      <th></th>\n",
       "      <th>ID</th>\n",
       "      <th>Study Date</th>\n",
       "      <th>DOB</th>\n",
       "      <th>Age</th>\n",
       "      <th>Sex</th>\n",
       "      <th>Height</th>\n",
       "      <th>Weight</th>\n",
       "      <th>Predicted FEV1</th>\n",
       "    </tr>\n",
       "  </thead>\n",
       "  <tbody>\n",
       "    <tr>\n",
       "      <th>24</th>\n",
       "      <td>38</td>\n",
       "      <td>2015-11-27</td>\n",
       "      <td>1979-09-02</td>\n",
       "      <td>36</td>\n",
       "      <td>Male</td>\n",
       "      <td>173.0</td>\n",
       "      <td>76.3</td>\n",
       "      <td>3.905</td>\n",
       "    </tr>\n",
       "    <tr>\n",
       "      <th>29</th>\n",
       "      <td>101</td>\n",
       "      <td>2015-12-14</td>\n",
       "      <td>1978-09-09</td>\n",
       "      <td>37</td>\n",
       "      <td>Female</td>\n",
       "      <td>166.0</td>\n",
       "      <td>61.0</td>\n",
       "      <td>3.032</td>\n",
       "    </tr>\n",
       "    <tr>\n",
       "      <th>49</th>\n",
       "      <td>125</td>\n",
       "      <td>2016-01-19</td>\n",
       "      <td>1984-09-19</td>\n",
       "      <td>31</td>\n",
       "      <td>Female</td>\n",
       "      <td>160.0</td>\n",
       "      <td>51.6</td>\n",
       "      <td>2.945</td>\n",
       "    </tr>\n",
       "    <tr>\n",
       "      <th>87</th>\n",
       "      <td>232</td>\n",
       "      <td>2016-06-02</td>\n",
       "      <td>1979-10-03</td>\n",
       "      <td>37</td>\n",
       "      <td>Female</td>\n",
       "      <td>162.0</td>\n",
       "      <td>51.9</td>\n",
       "      <td>2.874</td>\n",
       "    </tr>\n",
       "    <tr>\n",
       "      <th>115</th>\n",
       "      <td>169</td>\n",
       "      <td>2016-08-24</td>\n",
       "      <td>1993-11-11</td>\n",
       "      <td>23</td>\n",
       "      <td>Female</td>\n",
       "      <td>168.0</td>\n",
       "      <td>67.0</td>\n",
       "      <td>3.461</td>\n",
       "    </tr>\n",
       "    <tr>\n",
       "      <th>139</th>\n",
       "      <td>204</td>\n",
       "      <td>2016-10-24</td>\n",
       "      <td>1998-04-01</td>\n",
       "      <td>18</td>\n",
       "      <td>Female</td>\n",
       "      <td>150.0</td>\n",
       "      <td>57.0</td>\n",
       "      <td>2.875</td>\n",
       "    </tr>\n",
       "  </tbody>\n",
       "</table>\n",
       "</div>"
      ],
      "text/plain": [
       "      ID  Study Date         DOB  Age     Sex  Height  Weight  Predicted FEV1\n",
       "24    38  2015-11-27  1979-09-02   36    Male   173.0    76.3           3.905\n",
       "29   101  2015-12-14  1978-09-09   37  Female   166.0    61.0           3.032\n",
       "49   125  2016-01-19  1984-09-19   31  Female   160.0    51.6           2.945\n",
       "87   232  2016-06-02  1979-10-03   37  Female   162.0    51.9           2.874\n",
       "115  169  2016-08-24  1993-11-11   23  Female   168.0    67.0           3.461\n",
       "139  204  2016-10-24  1998-04-01   18  Female   150.0    57.0           2.875"
      ]
     },
     "execution_count": 26,
     "metadata": {},
     "output_type": "execute_result"
    }
   ],
   "source": [
    "# Find IDs that are not in df but in df_patient\n",
    "print(df_patient[~df_patient.ID.isin(df.ID)].ID.unique())\n",
    "df_patient[~df_patient.ID.isin(df.ID)]"
   ]
  },
  {
   "cell_type": "code",
   "execution_count": 9,
   "metadata": {},
   "outputs": [
    {
     "data": {
      "text/plain": [
       "array([nan], dtype=object)"
      ]
     },
     "execution_count": 9,
     "metadata": {},
     "output_type": "execute_result"
    }
   ],
   "source": [
    "df[~df.ID.isin(df_patient.ID)].ID.unique()"
   ]
  },
  {
   "attachments": {},
   "cell_type": "markdown",
   "metadata": {},
   "source": [
    "## Potential candidates \n",
    "Found by crossing clinical and measurements data"
   ]
  },
  {
   "cell_type": "code",
   "execution_count": 27,
   "metadata": {},
   "outputs": [
    {
     "data": {
      "text/html": [
       "<div>\n",
       "<style scoped>\n",
       "    .dataframe tbody tr th:only-of-type {\n",
       "        vertical-align: middle;\n",
       "    }\n",
       "\n",
       "    .dataframe tbody tr th {\n",
       "        vertical-align: top;\n",
       "    }\n",
       "\n",
       "    .dataframe thead th {\n",
       "        text-align: right;\n",
       "    }\n",
       "</style>\n",
       "<table border=\"1\" class=\"dataframe\">\n",
       "  <thead>\n",
       "    <tr style=\"text-align: right;\">\n",
       "      <th></th>\n",
       "      <th>Patient_ID</th>\n",
       "      <th>Study_ID</th>\n",
       "      <th>ID</th>\n",
       "    </tr>\n",
       "  </thead>\n",
       "  <tbody>\n",
       "    <tr>\n",
       "      <th>2</th>\n",
       "      <td>TKpptiCA5cASNKU0VSmx4</td>\n",
       "      <td>BRISTOLSC003</td>\n",
       "      <td>232</td>\n",
       "    </tr>\n",
       "    <tr>\n",
       "      <th>9</th>\n",
       "      <td>Cujq-NEcld_Keu_W1-Nw5</td>\n",
       "      <td>BRISTOLSC010</td>\n",
       "      <td>169</td>\n",
       "    </tr>\n",
       "    <tr>\n",
       "      <th>69</th>\n",
       "      <td>Q0Wf614z94DSTy6nXjyw7</td>\n",
       "      <td>Leeds01253</td>\n",
       "      <td>38</td>\n",
       "    </tr>\n",
       "    <tr>\n",
       "      <th>111</th>\n",
       "      <td>0HeWh64M_zc5U512xqzAs4</td>\n",
       "      <td>Papworth016</td>\n",
       "      <td>101</td>\n",
       "    </tr>\n",
       "    <tr>\n",
       "      <th>120</th>\n",
       "      <td>1au5biSTt0bNWgfl0Wltr5</td>\n",
       "      <td>Papworth025</td>\n",
       "      <td>125</td>\n",
       "    </tr>\n",
       "    <tr>\n",
       "      <th>146</th>\n",
       "      <td>b4K6BRwqjMaI4QLGdM5ru7</td>\n",
       "      <td>Wessex016</td>\n",
       "      <td>204</td>\n",
       "    </tr>\n",
       "  </tbody>\n",
       "</table>\n",
       "</div>"
      ],
      "text/plain": [
       "                 Patient_ID      Study_ID   ID\n",
       "2     TKpptiCA5cASNKU0VSmx4  BRISTOLSC003  232\n",
       "9     Cujq-NEcld_Keu_W1-Nw5  BRISTOLSC010  169\n",
       "69    Q0Wf614z94DSTy6nXjyw7    Leeds01253   38\n",
       "111  0HeWh64M_zc5U512xqzAs4   Papworth016  101\n",
       "120  1au5biSTt0bNWgfl0Wltr5   Papworth025  125\n",
       "146  b4K6BRwqjMaI4QLGdM5ru7     Wessex016  204"
      ]
     },
     "execution_count": 27,
     "metadata": {},
     "output_type": "execute_result"
    }
   ],
   "source": [
    "import pandas as pd\n",
    "from measurements_data import *\n",
    "\n",
    "id_map = measurements_data.load_id_map(with_correction=False)\n",
    "\n",
    "# List Patient_ID for the IDs ['38' '101' '125' '232' '169' '204'] in id_map\n",
    "id_map[id_map.ID.isin(['38', '101', '125', '232', '169', '204'])]\n"
   ]
  },
  {
   "cell_type": "code",
   "execution_count": 13,
   "metadata": {},
   "outputs": [
    {
     "name": "stdout",
     "output_type": "stream",
     "text": [
      "True\n",
      "True\n"
     ]
    },
    {
     "data": {
      "text/html": [
       "<div>\n",
       "<style scoped>\n",
       "    .dataframe tbody tr th:only-of-type {\n",
       "        vertical-align: middle;\n",
       "    }\n",
       "\n",
       "    .dataframe tbody tr th {\n",
       "        vertical-align: top;\n",
       "    }\n",
       "\n",
       "    .dataframe thead th {\n",
       "        text-align: right;\n",
       "    }\n",
       "</style>\n",
       "<table border=\"1\" class=\"dataframe\">\n",
       "  <thead>\n",
       "    <tr style=\"text-align: right;\">\n",
       "      <th></th>\n",
       "      <th>Patient_ID</th>\n",
       "      <th>Study_ID</th>\n",
       "      <th>ID</th>\n",
       "    </tr>\n",
       "  </thead>\n",
       "  <tbody>\n",
       "    <tr>\n",
       "      <th>111</th>\n",
       "      <td>0HeWh64M_zc5U512xqzAs4</td>\n",
       "      <td>Papworth016</td>\n",
       "      <td>101</td>\n",
       "    </tr>\n",
       "  </tbody>\n",
       "</table>\n",
       "</div>"
      ],
      "text/plain": [
       "                 Patient_ID     Study_ID   ID\n",
       "111  0HeWh64M_zc5U512xqzAs4  Papworth016  101"
      ]
     },
     "execution_count": 13,
     "metadata": {},
     "output_type": "execute_result"
    }
   ],
   "source": [
    "# Check if '0HeWh64M_zc5U5l2xqzAs4' is as User ID in df\n",
    "print((df[\"User ID\"].eq('0HeWh64M_zc5U5l2xqzAs4')).any())\n",
    "# Check if '0HeWh64M_zc5U5l2xqzAs4' is a Patient_ID in id_map\n",
    "print((id_map[\"Patient_ID\"].str.contains('0HeWh64M_zc5U5')).any())\n",
    "id_map[id_map[\"Patient_ID\"].str.contains('0HeWh64M')]\n"
   ]
  },
  {
   "cell_type": "code",
   "execution_count": 14,
   "metadata": {},
   "outputs": [
    {
     "name": "stdout",
     "output_type": "stream",
     "text": [
      "True\n",
      "True\n"
     ]
    },
    {
     "data": {
      "text/html": [
       "<div>\n",
       "<style scoped>\n",
       "    .dataframe tbody tr th:only-of-type {\n",
       "        vertical-align: middle;\n",
       "    }\n",
       "\n",
       "    .dataframe tbody tr th {\n",
       "        vertical-align: top;\n",
       "    }\n",
       "\n",
       "    .dataframe thead th {\n",
       "        text-align: right;\n",
       "    }\n",
       "</style>\n",
       "<table border=\"1\" class=\"dataframe\">\n",
       "  <thead>\n",
       "    <tr style=\"text-align: right;\">\n",
       "      <th></th>\n",
       "      <th>Patient_ID</th>\n",
       "      <th>Study_ID</th>\n",
       "      <th>ID</th>\n",
       "    </tr>\n",
       "  </thead>\n",
       "  <tbody>\n",
       "    <tr>\n",
       "      <th>120</th>\n",
       "      <td>1au5biSTt0bNWgfl0Wltr5</td>\n",
       "      <td>Papworth025</td>\n",
       "      <td>125</td>\n",
       "    </tr>\n",
       "  </tbody>\n",
       "</table>\n",
       "</div>"
      ],
      "text/plain": [
       "                 Patient_ID     Study_ID   ID\n",
       "120  1au5biSTt0bNWgfl0Wltr5  Papworth025  125"
      ]
     },
     "execution_count": 14,
     "metadata": {},
     "output_type": "execute_result"
    }
   ],
   "source": [
    "# Check if '1au5biSTt0bNWgfl0Wltr5' is as User ID in df\n",
    "print((df[\"User ID\"].eq('1au5biSTt0bNWgfI0WItr5')).any())\n",
    "# Check if '0HeWh64M_zc5U5l2xqzAs4' is a Patient_ID in id_map\n",
    "print((id_map[\"Patient_ID\"].str.contains('1au5biSTt0bNWgf')).any())\n",
    "id_map[id_map[\"Patient_ID\"].str.contains('1au5biSTt0bNWgf')]"
   ]
  },
  {
   "attachments": {},
   "cell_type": "markdown",
   "metadata": {},
   "source": [
    "Bingo ! \n",
    "ID in clinical data and in id map file\t101\t125\t232\t169\n",
    "Patient_ID in id map file\t0HeWh64M_zc5U512xqzAs4\t1au5biSTt0bNWgfl0Wltr5\tTKpptiCA5cASNKU0VSmx4\tCujq-NEcld_Keu_W1-Nw5\n",
    "User ID in measurements data\t0HeWh64M_zc5U5l2xqzAs4\t1au5biSTt0bNWgfI0WItr5\t-TKpptiCA5cASNKU0VSmx4\t-Cujq-NEcld_Keu_W1-Nw5\n",
    "Comment\t1 instead of l\tl instead of I\tlacking a -\tlacking a -\n",
    "\n",
    "https://universityofcambridgecloud-my.sharepoint.com/:x:/r/personal/tpbt2_cam_ac_uk/Documents/2023-01-15_missing_smartcare_ids.xlsx?d=w661a7dcc9d8a40f5a18f2d1f9296fe48&csf=1&web=1&e=iMCJjk"
   ]
  },
  {
   "cell_type": "code",
   "execution_count": 15,
   "metadata": {},
   "outputs": [
    {
     "data": {
      "text/html": [
       "<div>\n",
       "<style scoped>\n",
       "    .dataframe tbody tr th:only-of-type {\n",
       "        vertical-align: middle;\n",
       "    }\n",
       "\n",
       "    .dataframe tbody tr th {\n",
       "        vertical-align: top;\n",
       "    }\n",
       "\n",
       "    .dataframe thead th {\n",
       "        text-align: right;\n",
       "    }\n",
       "</style>\n",
       "<table border=\"1\" class=\"dataframe\">\n",
       "  <thead>\n",
       "    <tr style=\"text-align: right;\">\n",
       "      <th></th>\n",
       "      <th>User ID</th>\n",
       "      <th>UserName</th>\n",
       "      <th>Recording Type</th>\n",
       "      <th>Date recorded</th>\n",
       "      <th>FEV1</th>\n",
       "      <th>Predicted FEV</th>\n",
       "      <th>FEV1 %</th>\n",
       "      <th>Weight (kg)</th>\n",
       "      <th>O2 Saturation</th>\n",
       "      <th>Pulse (BPM)</th>\n",
       "      <th>Rating</th>\n",
       "      <th>Temp (deg C)</th>\n",
       "      <th>Activity - Steps</th>\n",
       "      <th>Activity - Points</th>\n",
       "      <th>Patient_ID</th>\n",
       "      <th>Study_ID</th>\n",
       "      <th>ID</th>\n",
       "    </tr>\n",
       "  </thead>\n",
       "  <tbody>\n",
       "    <tr>\n",
       "      <th>0</th>\n",
       "      <td>o0egatM37za2ZZ2jfs3AJ5</td>\n",
       "      <td>davetest</td>\n",
       "      <td>ActivityRecording</td>\n",
       "      <td>2015-08-04</td>\n",
       "      <td>NaN</td>\n",
       "      <td>NaN</td>\n",
       "      <td>NaN</td>\n",
       "      <td>NaN</td>\n",
       "      <td>NaN</td>\n",
       "      <td>NaN</td>\n",
       "      <td>NaN</td>\n",
       "      <td>NaN</td>\n",
       "      <td>4.0</td>\n",
       "      <td>1.0</td>\n",
       "      <td>NaN</td>\n",
       "      <td>NaN</td>\n",
       "      <td>NaN</td>\n",
       "    </tr>\n",
       "  </tbody>\n",
       "</table>\n",
       "</div>"
      ],
      "text/plain": [
       "                  User ID  UserName     Recording Type Date recorded  FEV1  \\\n",
       "0  o0egatM37za2ZZ2jfs3AJ5  davetest  ActivityRecording    2015-08-04   NaN   \n",
       "\n",
       "   Predicted FEV  FEV1 %  Weight (kg)  O2 Saturation  Pulse (BPM)  Rating  \\\n",
       "0            NaN     NaN          NaN            NaN          NaN     NaN   \n",
       "\n",
       "   Temp (deg C)  Activity - Steps  Activity - Points Patient_ID Study_ID   ID  \n",
       "0           NaN               4.0                1.0        NaN      NaN  NaN  "
      ]
     },
     "execution_count": 15,
     "metadata": {},
     "output_type": "execute_result"
    }
   ],
   "source": [
    "# Let's check the others\n",
    "['o0egatM37za2ZZ2jfs3AJ5' '-Q0Wf614z94DSTy6nXjyw7'\n",
    " '31KnMK5Z4A6OKErB1C5-i6' '0HeWh64M_zc5U5l2xqzAs4'\n",
    " 'GyK_hmIGxVaT7chwlGDio7' '1au5biSTt0bNWgfI0WItr5'\n",
    " '-TKpptiCA5cASNKU0VSmx4' '-Cujq-NEcld_Keu_W1-Nw5'\n",
    " 'ci0iszS3ov6G2U-dKDiAE4' '9YevbyBS8VdwRL3RRUGY86'\n",
    " 'MB0_-sqQBxhrKyfoOxUaF4' '9MKCpOe_FO_LcU9C0oCPJ4']\n",
    "\n",
    "id_map[id_map[\"Patient_ID\"].str.contains('tM37za2ZZ')]\n",
    "df[df[\"User ID\"].eq('o0egatM37za2ZZ2jfs3AJ5')].head(1)"
   ]
  },
  {
   "cell_type": "code",
   "execution_count": 16,
   "metadata": {},
   "outputs": [
    {
     "data": {
      "text/html": [
       "<div>\n",
       "<style scoped>\n",
       "    .dataframe tbody tr th:only-of-type {\n",
       "        vertical-align: middle;\n",
       "    }\n",
       "\n",
       "    .dataframe tbody tr th {\n",
       "        vertical-align: top;\n",
       "    }\n",
       "\n",
       "    .dataframe thead th {\n",
       "        text-align: right;\n",
       "    }\n",
       "</style>\n",
       "<table border=\"1\" class=\"dataframe\">\n",
       "  <thead>\n",
       "    <tr style=\"text-align: right;\">\n",
       "      <th></th>\n",
       "      <th>Patient_ID</th>\n",
       "      <th>Study_ID</th>\n",
       "      <th>ID</th>\n",
       "    </tr>\n",
       "  </thead>\n",
       "  <tbody>\n",
       "    <tr>\n",
       "      <th>69</th>\n",
       "      <td>Q0Wf614z94DSTy6nXjyw7</td>\n",
       "      <td>Leeds01253</td>\n",
       "      <td>38</td>\n",
       "    </tr>\n",
       "  </tbody>\n",
       "</table>\n",
       "</div>"
      ],
      "text/plain": [
       "               Patient_ID    Study_ID  ID\n",
       "69  Q0Wf614z94DSTy6nXjyw7  Leeds01253  38"
      ]
     },
     "execution_count": 16,
     "metadata": {},
     "output_type": "execute_result"
    }
   ],
   "source": [
    "id_map[id_map[\"Patient_ID\"].str.contains('Q0Wf614z94DSTy6nXjyw7')]"
   ]
  },
  {
   "cell_type": "code",
   "execution_count": 17,
   "metadata": {},
   "outputs": [
    {
     "data": {
      "text/html": [
       "<div>\n",
       "<style scoped>\n",
       "    .dataframe tbody tr th:only-of-type {\n",
       "        vertical-align: middle;\n",
       "    }\n",
       "\n",
       "    .dataframe tbody tr th {\n",
       "        vertical-align: top;\n",
       "    }\n",
       "\n",
       "    .dataframe thead th {\n",
       "        text-align: right;\n",
       "    }\n",
       "</style>\n",
       "<table border=\"1\" class=\"dataframe\">\n",
       "  <thead>\n",
       "    <tr style=\"text-align: right;\">\n",
       "      <th></th>\n",
       "      <th>User ID</th>\n",
       "      <th>UserName</th>\n",
       "      <th>Recording Type</th>\n",
       "      <th>Date recorded</th>\n",
       "      <th>FEV1</th>\n",
       "      <th>Predicted FEV</th>\n",
       "      <th>FEV1 %</th>\n",
       "      <th>Weight (kg)</th>\n",
       "      <th>O2 Saturation</th>\n",
       "      <th>Pulse (BPM)</th>\n",
       "      <th>Rating</th>\n",
       "      <th>Temp (deg C)</th>\n",
       "      <th>Activity - Steps</th>\n",
       "      <th>Activity - Points</th>\n",
       "      <th>Patient_ID</th>\n",
       "      <th>Study_ID</th>\n",
       "      <th>ID</th>\n",
       "    </tr>\n",
       "  </thead>\n",
       "  <tbody>\n",
       "    <tr>\n",
       "      <th>1328</th>\n",
       "      <td>31KnMK5Z4A6OKErB1C5-i6</td>\n",
       "      <td>Ryan007</td>\n",
       "      <td>ActivityRecording</td>\n",
       "      <td>2015-12-10</td>\n",
       "      <td>NaN</td>\n",
       "      <td>NaN</td>\n",
       "      <td>NaN</td>\n",
       "      <td>NaN</td>\n",
       "      <td>NaN</td>\n",
       "      <td>NaN</td>\n",
       "      <td>NaN</td>\n",
       "      <td>NaN</td>\n",
       "      <td>336.0</td>\n",
       "      <td>85.0</td>\n",
       "      <td>NaN</td>\n",
       "      <td>NaN</td>\n",
       "      <td>NaN</td>\n",
       "    </tr>\n",
       "  </tbody>\n",
       "</table>\n",
       "</div>"
      ],
      "text/plain": [
       "                     User ID UserName     Recording Type Date recorded  FEV1  \\\n",
       "1328  31KnMK5Z4A6OKErB1C5-i6  Ryan007  ActivityRecording    2015-12-10   NaN   \n",
       "\n",
       "      Predicted FEV  FEV1 %  Weight (kg)  O2 Saturation  Pulse (BPM)  Rating  \\\n",
       "1328            NaN     NaN          NaN            NaN          NaN     NaN   \n",
       "\n",
       "      Temp (deg C)  Activity - Steps  Activity - Points Patient_ID Study_ID  \\\n",
       "1328           NaN             336.0               85.0        NaN      NaN   \n",
       "\n",
       "       ID  \n",
       "1328  NaN  "
      ]
     },
     "execution_count": 17,
     "metadata": {},
     "output_type": "execute_result"
    }
   ],
   "source": [
    "id_map[id_map[\"Patient_ID\"].str.contains('Z4A6OKErB1C')]\n",
    "df[df[\"User ID\"].eq('31KnMK5Z4A6OKErB1C5-i6')].head(1)"
   ]
  },
  {
   "cell_type": "code",
   "execution_count": 18,
   "metadata": {},
   "outputs": [
    {
     "data": {
      "text/html": [
       "<div>\n",
       "<style scoped>\n",
       "    .dataframe tbody tr th:only-of-type {\n",
       "        vertical-align: middle;\n",
       "    }\n",
       "\n",
       "    .dataframe tbody tr th {\n",
       "        vertical-align: top;\n",
       "    }\n",
       "\n",
       "    .dataframe thead th {\n",
       "        text-align: right;\n",
       "    }\n",
       "</style>\n",
       "<table border=\"1\" class=\"dataframe\">\n",
       "  <thead>\n",
       "    <tr style=\"text-align: right;\">\n",
       "      <th></th>\n",
       "      <th>User ID</th>\n",
       "      <th>UserName</th>\n",
       "      <th>Recording Type</th>\n",
       "      <th>Date recorded</th>\n",
       "      <th>FEV1</th>\n",
       "      <th>Predicted FEV</th>\n",
       "      <th>FEV1 %</th>\n",
       "      <th>Weight (kg)</th>\n",
       "      <th>O2 Saturation</th>\n",
       "      <th>Pulse (BPM)</th>\n",
       "      <th>Rating</th>\n",
       "      <th>Temp (deg C)</th>\n",
       "      <th>Activity - Steps</th>\n",
       "      <th>Activity - Points</th>\n",
       "      <th>Patient_ID</th>\n",
       "      <th>Study_ID</th>\n",
       "      <th>ID</th>\n",
       "    </tr>\n",
       "  </thead>\n",
       "  <tbody>\n",
       "    <tr>\n",
       "      <th>2030</th>\n",
       "      <td>GyK_hmIGxVaT7chwlGDio7</td>\n",
       "      <td>PapBen</td>\n",
       "      <td>ActivityRecording</td>\n",
       "      <td>2016-01-11</td>\n",
       "      <td>NaN</td>\n",
       "      <td>NaN</td>\n",
       "      <td>NaN</td>\n",
       "      <td>NaN</td>\n",
       "      <td>NaN</td>\n",
       "      <td>NaN</td>\n",
       "      <td>NaN</td>\n",
       "      <td>NaN</td>\n",
       "      <td>NaN</td>\n",
       "      <td>NaN</td>\n",
       "      <td>NaN</td>\n",
       "      <td>NaN</td>\n",
       "      <td>NaN</td>\n",
       "    </tr>\n",
       "  </tbody>\n",
       "</table>\n",
       "</div>"
      ],
      "text/plain": [
       "                     User ID UserName     Recording Type Date recorded  FEV1  \\\n",
       "2030  GyK_hmIGxVaT7chwlGDio7   PapBen  ActivityRecording    2016-01-11   NaN   \n",
       "\n",
       "      Predicted FEV  FEV1 %  Weight (kg)  O2 Saturation  Pulse (BPM)  Rating  \\\n",
       "2030            NaN     NaN          NaN            NaN          NaN     NaN   \n",
       "\n",
       "      Temp (deg C)  Activity - Steps  Activity - Points Patient_ID Study_ID  \\\n",
       "2030           NaN               NaN                NaN        NaN      NaN   \n",
       "\n",
       "       ID  \n",
       "2030  NaN  "
      ]
     },
     "execution_count": 18,
     "metadata": {},
     "output_type": "execute_result"
    }
   ],
   "source": [
    "id_map[id_map[\"Patient_ID\"].str.contains('IGxVa')]\n",
    "df[df[\"User ID\"].eq('GyK_hmIGxVaT7chwlGDio7')].head(1)"
   ]
  },
  {
   "cell_type": "code",
   "execution_count": 19,
   "metadata": {},
   "outputs": [
    {
     "data": {
      "text/html": [
       "<div>\n",
       "<style scoped>\n",
       "    .dataframe tbody tr th:only-of-type {\n",
       "        vertical-align: middle;\n",
       "    }\n",
       "\n",
       "    .dataframe tbody tr th {\n",
       "        vertical-align: top;\n",
       "    }\n",
       "\n",
       "    .dataframe thead th {\n",
       "        text-align: right;\n",
       "    }\n",
       "</style>\n",
       "<table border=\"1\" class=\"dataframe\">\n",
       "  <thead>\n",
       "    <tr style=\"text-align: right;\">\n",
       "      <th></th>\n",
       "      <th>User ID</th>\n",
       "      <th>UserName</th>\n",
       "      <th>Recording Type</th>\n",
       "      <th>Date recorded</th>\n",
       "      <th>FEV1</th>\n",
       "      <th>Predicted FEV</th>\n",
       "      <th>FEV1 %</th>\n",
       "      <th>Weight (kg)</th>\n",
       "      <th>O2 Saturation</th>\n",
       "      <th>Pulse (BPM)</th>\n",
       "      <th>Rating</th>\n",
       "      <th>Temp (deg C)</th>\n",
       "      <th>Activity - Steps</th>\n",
       "      <th>Activity - Points</th>\n",
       "      <th>Patient_ID</th>\n",
       "      <th>Study_ID</th>\n",
       "      <th>ID</th>\n",
       "    </tr>\n",
       "  </thead>\n",
       "  <tbody>\n",
       "    <tr>\n",
       "      <th>14745</th>\n",
       "      <td>ci0iszS3ov6G2U-dKDiAE4</td>\n",
       "      <td>scguest</td>\n",
       "      <td>ActivityRecording</td>\n",
       "      <td>2017-03-03</td>\n",
       "      <td>NaN</td>\n",
       "      <td>NaN</td>\n",
       "      <td>NaN</td>\n",
       "      <td>NaN</td>\n",
       "      <td>NaN</td>\n",
       "      <td>NaN</td>\n",
       "      <td>NaN</td>\n",
       "      <td>NaN</td>\n",
       "      <td>150.0</td>\n",
       "      <td>38.0</td>\n",
       "      <td>NaN</td>\n",
       "      <td>NaN</td>\n",
       "      <td>NaN</td>\n",
       "    </tr>\n",
       "  </tbody>\n",
       "</table>\n",
       "</div>"
      ],
      "text/plain": [
       "                      User ID UserName     Recording Type Date recorded  FEV1  \\\n",
       "14745  ci0iszS3ov6G2U-dKDiAE4  scguest  ActivityRecording    2017-03-03   NaN   \n",
       "\n",
       "       Predicted FEV  FEV1 %  Weight (kg)  O2 Saturation  Pulse (BPM)  Rating  \\\n",
       "14745            NaN     NaN          NaN            NaN          NaN     NaN   \n",
       "\n",
       "       Temp (deg C)  Activity - Steps  Activity - Points Patient_ID Study_ID  \\\n",
       "14745           NaN             150.0               38.0        NaN      NaN   \n",
       "\n",
       "        ID  \n",
       "14745  NaN  "
      ]
     },
     "execution_count": 19,
     "metadata": {},
     "output_type": "execute_result"
    }
   ],
   "source": [
    "id_map[id_map[\"Patient_ID\"].str.contains('sz')]\n",
    "df[df[\"User ID\"].eq('ci0iszS3ov6G2U-dKDiAE4')].head(1)"
   ]
  },
  {
   "cell_type": "code",
   "execution_count": 20,
   "metadata": {},
   "outputs": [
    {
     "data": {
      "text/html": [
       "<div>\n",
       "<style scoped>\n",
       "    .dataframe tbody tr th:only-of-type {\n",
       "        vertical-align: middle;\n",
       "    }\n",
       "\n",
       "    .dataframe tbody tr th {\n",
       "        vertical-align: top;\n",
       "    }\n",
       "\n",
       "    .dataframe thead th {\n",
       "        text-align: right;\n",
       "    }\n",
       "</style>\n",
       "<table border=\"1\" class=\"dataframe\">\n",
       "  <thead>\n",
       "    <tr style=\"text-align: right;\">\n",
       "      <th></th>\n",
       "      <th>User ID</th>\n",
       "      <th>UserName</th>\n",
       "      <th>Recording Type</th>\n",
       "      <th>Date recorded</th>\n",
       "      <th>FEV1</th>\n",
       "      <th>Predicted FEV</th>\n",
       "      <th>FEV1 %</th>\n",
       "      <th>Weight (kg)</th>\n",
       "      <th>O2 Saturation</th>\n",
       "      <th>Pulse (BPM)</th>\n",
       "      <th>Rating</th>\n",
       "      <th>Temp (deg C)</th>\n",
       "      <th>Activity - Steps</th>\n",
       "      <th>Activity - Points</th>\n",
       "      <th>Patient_ID</th>\n",
       "      <th>Study_ID</th>\n",
       "      <th>ID</th>\n",
       "    </tr>\n",
       "  </thead>\n",
       "  <tbody>\n",
       "    <tr>\n",
       "      <th>2030</th>\n",
       "      <td>GyK_hmIGxVaT7chwlGDio7</td>\n",
       "      <td>PapBen</td>\n",
       "      <td>ActivityRecording</td>\n",
       "      <td>2016-01-11</td>\n",
       "      <td>NaN</td>\n",
       "      <td>NaN</td>\n",
       "      <td>NaN</td>\n",
       "      <td>NaN</td>\n",
       "      <td>NaN</td>\n",
       "      <td>NaN</td>\n",
       "      <td>NaN</td>\n",
       "      <td>NaN</td>\n",
       "      <td>NaN</td>\n",
       "      <td>NaN</td>\n",
       "      <td>NaN</td>\n",
       "      <td>NaN</td>\n",
       "      <td>NaN</td>\n",
       "    </tr>\n",
       "  </tbody>\n",
       "</table>\n",
       "</div>"
      ],
      "text/plain": [
       "                     User ID UserName     Recording Type Date recorded  FEV1  \\\n",
       "2030  GyK_hmIGxVaT7chwlGDio7   PapBen  ActivityRecording    2016-01-11   NaN   \n",
       "\n",
       "      Predicted FEV  FEV1 %  Weight (kg)  O2 Saturation  Pulse (BPM)  Rating  \\\n",
       "2030            NaN     NaN          NaN            NaN          NaN     NaN   \n",
       "\n",
       "      Temp (deg C)  Activity - Steps  Activity - Points Patient_ID Study_ID  \\\n",
       "2030           NaN               NaN                NaN        NaN      NaN   \n",
       "\n",
       "       ID  \n",
       "2030  NaN  "
      ]
     },
     "execution_count": 20,
     "metadata": {},
     "output_type": "execute_result"
    }
   ],
   "source": [
    "id_map[id_map[\"Patient_ID\"].str.contains('IGxV')]\n",
    "df[df[\"User ID\"].eq('GyK_hmIGxVaT7chwlGDio7')].head(1)"
   ]
  },
  {
   "cell_type": "code",
   "execution_count": 21,
   "metadata": {},
   "outputs": [
    {
     "data": {
      "text/html": [
       "<div>\n",
       "<style scoped>\n",
       "    .dataframe tbody tr th:only-of-type {\n",
       "        vertical-align: middle;\n",
       "    }\n",
       "\n",
       "    .dataframe tbody tr th {\n",
       "        vertical-align: top;\n",
       "    }\n",
       "\n",
       "    .dataframe thead th {\n",
       "        text-align: right;\n",
       "    }\n",
       "</style>\n",
       "<table border=\"1\" class=\"dataframe\">\n",
       "  <thead>\n",
       "    <tr style=\"text-align: right;\">\n",
       "      <th></th>\n",
       "      <th>User ID</th>\n",
       "      <th>UserName</th>\n",
       "      <th>Recording Type</th>\n",
       "      <th>Date recorded</th>\n",
       "      <th>FEV1</th>\n",
       "      <th>Predicted FEV</th>\n",
       "      <th>FEV1 %</th>\n",
       "      <th>Weight (kg)</th>\n",
       "      <th>O2 Saturation</th>\n",
       "      <th>Pulse (BPM)</th>\n",
       "      <th>Rating</th>\n",
       "      <th>Temp (deg C)</th>\n",
       "      <th>Activity - Steps</th>\n",
       "      <th>Activity - Points</th>\n",
       "      <th>Patient_ID</th>\n",
       "      <th>Study_ID</th>\n",
       "      <th>ID</th>\n",
       "    </tr>\n",
       "  </thead>\n",
       "  <tbody>\n",
       "    <tr>\n",
       "      <th>14745</th>\n",
       "      <td>ci0iszS3ov6G2U-dKDiAE4</td>\n",
       "      <td>scguest</td>\n",
       "      <td>ActivityRecording</td>\n",
       "      <td>2017-03-03</td>\n",
       "      <td>NaN</td>\n",
       "      <td>NaN</td>\n",
       "      <td>NaN</td>\n",
       "      <td>NaN</td>\n",
       "      <td>NaN</td>\n",
       "      <td>NaN</td>\n",
       "      <td>NaN</td>\n",
       "      <td>NaN</td>\n",
       "      <td>150.0</td>\n",
       "      <td>38.0</td>\n",
       "      <td>NaN</td>\n",
       "      <td>NaN</td>\n",
       "      <td>NaN</td>\n",
       "    </tr>\n",
       "  </tbody>\n",
       "</table>\n",
       "</div>"
      ],
      "text/plain": [
       "                      User ID UserName     Recording Type Date recorded  FEV1  \\\n",
       "14745  ci0iszS3ov6G2U-dKDiAE4  scguest  ActivityRecording    2017-03-03   NaN   \n",
       "\n",
       "       Predicted FEV  FEV1 %  Weight (kg)  O2 Saturation  Pulse (BPM)  Rating  \\\n",
       "14745            NaN     NaN          NaN            NaN          NaN     NaN   \n",
       "\n",
       "       Temp (deg C)  Activity - Steps  Activity - Points Patient_ID Study_ID  \\\n",
       "14745           NaN             150.0               38.0        NaN      NaN   \n",
       "\n",
       "        ID  \n",
       "14745  NaN  "
      ]
     },
     "execution_count": 21,
     "metadata": {},
     "output_type": "execute_result"
    }
   ],
   "source": [
    "id_map[id_map[\"Patient_ID\"].str.contains('ov6')]\n",
    "df[df[\"User ID\"].eq('ci0iszS3ov6G2U-dKDiAE4')].head(1)"
   ]
  },
  {
   "cell_type": "code",
   "execution_count": 22,
   "metadata": {},
   "outputs": [
    {
     "data": {
      "text/html": [
       "<div>\n",
       "<style scoped>\n",
       "    .dataframe tbody tr th:only-of-type {\n",
       "        vertical-align: middle;\n",
       "    }\n",
       "\n",
       "    .dataframe tbody tr th {\n",
       "        vertical-align: top;\n",
       "    }\n",
       "\n",
       "    .dataframe thead th {\n",
       "        text-align: right;\n",
       "    }\n",
       "</style>\n",
       "<table border=\"1\" class=\"dataframe\">\n",
       "  <thead>\n",
       "    <tr style=\"text-align: right;\">\n",
       "      <th></th>\n",
       "      <th>User ID</th>\n",
       "      <th>UserName</th>\n",
       "      <th>Recording Type</th>\n",
       "      <th>Date recorded</th>\n",
       "      <th>FEV1</th>\n",
       "      <th>Predicted FEV</th>\n",
       "      <th>FEV1 %</th>\n",
       "      <th>Weight (kg)</th>\n",
       "      <th>O2 Saturation</th>\n",
       "      <th>Pulse (BPM)</th>\n",
       "      <th>Rating</th>\n",
       "      <th>Temp (deg C)</th>\n",
       "      <th>Activity - Steps</th>\n",
       "      <th>Activity - Points</th>\n",
       "      <th>Patient_ID</th>\n",
       "      <th>Study_ID</th>\n",
       "      <th>ID</th>\n",
       "    </tr>\n",
       "  </thead>\n",
       "  <tbody>\n",
       "    <tr>\n",
       "      <th>16195</th>\n",
       "      <td>9YevbyBS8VdwRL3RRUGY86</td>\n",
       "      <td>PapworthSummer</td>\n",
       "      <td>CoughRecording</td>\n",
       "      <td>2015-12-14</td>\n",
       "      <td>NaN</td>\n",
       "      <td>NaN</td>\n",
       "      <td>NaN</td>\n",
       "      <td>NaN</td>\n",
       "      <td>NaN</td>\n",
       "      <td>NaN</td>\n",
       "      <td>70.0</td>\n",
       "      <td>NaN</td>\n",
       "      <td>NaN</td>\n",
       "      <td>NaN</td>\n",
       "      <td>NaN</td>\n",
       "      <td>NaN</td>\n",
       "      <td>NaN</td>\n",
       "    </tr>\n",
       "  </tbody>\n",
       "</table>\n",
       "</div>"
      ],
      "text/plain": [
       "                      User ID        UserName  Recording Type Date recorded  \\\n",
       "16195  9YevbyBS8VdwRL3RRUGY86  PapworthSummer  CoughRecording    2015-12-14   \n",
       "\n",
       "       FEV1  Predicted FEV  FEV1 %  Weight (kg)  O2 Saturation  Pulse (BPM)  \\\n",
       "16195   NaN            NaN     NaN          NaN            NaN          NaN   \n",
       "\n",
       "       Rating  Temp (deg C)  Activity - Steps  Activity - Points Patient_ID  \\\n",
       "16195    70.0           NaN               NaN                NaN        NaN   \n",
       "\n",
       "      Study_ID   ID  \n",
       "16195      NaN  NaN  "
      ]
     },
     "execution_count": 22,
     "metadata": {},
     "output_type": "execute_result"
    }
   ],
   "source": [
    "id_map[id_map[\"Patient_ID\"].str.contains('Vdw')]\n",
    "df[df[\"User ID\"].eq('9YevbyBS8VdwRL3RRUGY86')].head(1)"
   ]
  },
  {
   "cell_type": "code",
   "execution_count": 23,
   "metadata": {},
   "outputs": [
    {
     "data": {
      "text/html": [
       "<div>\n",
       "<style scoped>\n",
       "    .dataframe tbody tr th:only-of-type {\n",
       "        vertical-align: middle;\n",
       "    }\n",
       "\n",
       "    .dataframe tbody tr th {\n",
       "        vertical-align: top;\n",
       "    }\n",
       "\n",
       "    .dataframe thead th {\n",
       "        text-align: right;\n",
       "    }\n",
       "</style>\n",
       "<table border=\"1\" class=\"dataframe\">\n",
       "  <thead>\n",
       "    <tr style=\"text-align: right;\">\n",
       "      <th></th>\n",
       "      <th>User ID</th>\n",
       "      <th>UserName</th>\n",
       "      <th>Recording Type</th>\n",
       "      <th>Date recorded</th>\n",
       "      <th>FEV1</th>\n",
       "      <th>Predicted FEV</th>\n",
       "      <th>FEV1 %</th>\n",
       "      <th>Weight (kg)</th>\n",
       "      <th>O2 Saturation</th>\n",
       "      <th>Pulse (BPM)</th>\n",
       "      <th>Rating</th>\n",
       "      <th>Temp (deg C)</th>\n",
       "      <th>Activity - Steps</th>\n",
       "      <th>Activity - Points</th>\n",
       "      <th>Patient_ID</th>\n",
       "      <th>Study_ID</th>\n",
       "      <th>ID</th>\n",
       "    </tr>\n",
       "  </thead>\n",
       "  <tbody>\n",
       "    <tr>\n",
       "      <th>33068</th>\n",
       "      <td>MB0_-sqQBxhrKyfoOxUaF4</td>\n",
       "      <td>Texas</td>\n",
       "      <td>LungFunctionRecording</td>\n",
       "      <td>2016-03-03</td>\n",
       "      <td>1.39</td>\n",
       "      <td>2.5</td>\n",
       "      <td>56.0</td>\n",
       "      <td>NaN</td>\n",
       "      <td>NaN</td>\n",
       "      <td>NaN</td>\n",
       "      <td>NaN</td>\n",
       "      <td>NaN</td>\n",
       "      <td>NaN</td>\n",
       "      <td>NaN</td>\n",
       "      <td>NaN</td>\n",
       "      <td>NaN</td>\n",
       "      <td>NaN</td>\n",
       "    </tr>\n",
       "  </tbody>\n",
       "</table>\n",
       "</div>"
      ],
      "text/plain": [
       "                      User ID UserName         Recording Type Date recorded  \\\n",
       "33068  MB0_-sqQBxhrKyfoOxUaF4    Texas  LungFunctionRecording    2016-03-03   \n",
       "\n",
       "       FEV1  Predicted FEV  FEV1 %  Weight (kg)  O2 Saturation  Pulse (BPM)  \\\n",
       "33068  1.39            2.5    56.0          NaN            NaN          NaN   \n",
       "\n",
       "       Rating  Temp (deg C)  Activity - Steps  Activity - Points Patient_ID  \\\n",
       "33068     NaN           NaN               NaN                NaN        NaN   \n",
       "\n",
       "      Study_ID   ID  \n",
       "33068      NaN  NaN  "
      ]
     },
     "execution_count": 23,
     "metadata": {},
     "output_type": "execute_result"
    }
   ],
   "source": [
    "id_map[id_map[\"Patient_ID\"].str.contains('QBx')]\n",
    "df[df[\"User ID\"].eq('MB0_-sqQBxhrKyfoOxUaF4')].head(1)"
   ]
  },
  {
   "cell_type": "code",
   "execution_count": 24,
   "metadata": {},
   "outputs": [
    {
     "data": {
      "text/html": [
       "<div>\n",
       "<style scoped>\n",
       "    .dataframe tbody tr th:only-of-type {\n",
       "        vertical-align: middle;\n",
       "    }\n",
       "\n",
       "    .dataframe tbody tr th {\n",
       "        vertical-align: top;\n",
       "    }\n",
       "\n",
       "    .dataframe thead th {\n",
       "        text-align: right;\n",
       "    }\n",
       "</style>\n",
       "<table border=\"1\" class=\"dataframe\">\n",
       "  <thead>\n",
       "    <tr style=\"text-align: right;\">\n",
       "      <th></th>\n",
       "      <th>User ID</th>\n",
       "      <th>UserName</th>\n",
       "      <th>Recording Type</th>\n",
       "      <th>Date recorded</th>\n",
       "      <th>FEV1</th>\n",
       "      <th>Predicted FEV</th>\n",
       "      <th>FEV1 %</th>\n",
       "      <th>Weight (kg)</th>\n",
       "      <th>O2 Saturation</th>\n",
       "      <th>Pulse (BPM)</th>\n",
       "      <th>Rating</th>\n",
       "      <th>Temp (deg C)</th>\n",
       "      <th>Activity - Steps</th>\n",
       "      <th>Activity - Points</th>\n",
       "      <th>Patient_ID</th>\n",
       "      <th>Study_ID</th>\n",
       "      <th>ID</th>\n",
       "    </tr>\n",
       "  </thead>\n",
       "  <tbody>\n",
       "    <tr>\n",
       "      <th>34164</th>\n",
       "      <td>9MKCpOe_FO_LcU9C0oCPJ4</td>\n",
       "      <td>EmemTest</td>\n",
       "      <td>LungFunctionRecording</td>\n",
       "      <td>2016-04-01</td>\n",
       "      <td>NaN</td>\n",
       "      <td>NaN</td>\n",
       "      <td>50.0</td>\n",
       "      <td>NaN</td>\n",
       "      <td>NaN</td>\n",
       "      <td>NaN</td>\n",
       "      <td>NaN</td>\n",
       "      <td>NaN</td>\n",
       "      <td>NaN</td>\n",
       "      <td>NaN</td>\n",
       "      <td>NaN</td>\n",
       "      <td>NaN</td>\n",
       "      <td>NaN</td>\n",
       "    </tr>\n",
       "  </tbody>\n",
       "</table>\n",
       "</div>"
      ],
      "text/plain": [
       "                      User ID  UserName         Recording Type Date recorded  \\\n",
       "34164  9MKCpOe_FO_LcU9C0oCPJ4  EmemTest  LungFunctionRecording    2016-04-01   \n",
       "\n",
       "       FEV1  Predicted FEV  FEV1 %  Weight (kg)  O2 Saturation  Pulse (BPM)  \\\n",
       "34164   NaN            NaN    50.0          NaN            NaN          NaN   \n",
       "\n",
       "       Rating  Temp (deg C)  Activity - Steps  Activity - Points Patient_ID  \\\n",
       "34164     NaN           NaN               NaN                NaN        NaN   \n",
       "\n",
       "      Study_ID   ID  \n",
       "34164      NaN  NaN  "
      ]
     },
     "execution_count": 24,
     "metadata": {},
     "output_type": "execute_result"
    }
   ],
   "source": [
    "id_map[id_map[\"Patient_ID\"].str.contains('_FO')]\n",
    "df[df[\"User ID\"].eq('9MKCpOe_FO_LcU9C0oCPJ4')].head(1)"
   ]
  },
  {
   "attachments": {},
   "cell_type": "markdown",
   "metadata": {},
   "source": [
    "# Did damian train the predictive algorithm on the missing patients?"
   ]
  },
  {
   "cell_type": "code",
   "execution_count": 11,
   "metadata": {},
   "outputs": [],
   "source": [
    "# Does the exacerbation labels data from the predictive classifier contain recording for the missing IDs?\n",
    "\n",
    "import sys; sys.path.append(\"../O2-FEV1 analysis/\")\n",
    "import exacerbation_periods as ex"
   ]
  },
  {
   "cell_type": "code",
   "execution_count": 30,
   "metadata": {},
   "outputs": [
    {
     "name": "stdout",
     "output_type": "stream",
     "text": [
      "Exacerbated labels data from the predictive classifier has 14452 entries (1445 exacerbated, 13006 not exacerbated measurements, 1 NaN)\n"
     ]
    }
   ],
   "source": [
    "id_list = list(ex.get_pred_ex_labels().reset_index().ID.unique())"
   ]
  },
  {
   "cell_type": "code",
   "execution_count": 32,
   "metadata": {},
   "outputs": [
    {
     "name": "stdout",
     "output_type": "stream",
     "text": [
      "Exacerbated labels data from the predictive classifier has 14452 entries (1445 exacerbated, 13006 not exacerbated measurements, 1 NaN)\n",
      "False\n",
      "1\n",
      "1\n",
      "1\n",
      "1\n",
      "1\n",
      "0\n"
     ]
    }
   ],
   "source": [
    "# Is 38, 101, 125, 232, 169, 204 in the list of IDs in the exacerbation labels data?\n",
    "print(set(['38', '101', '125', '232', '169', '204']).issubset(set(ex.get_pred_ex_labels().reset_index().ID.unique())))\n",
    "\n",
    "print(id_list.count('38'))\n",
    "print(id_list.count('101'))\n",
    "print(id_list.count('125'))\n",
    "print(id_list.count('232'))\n",
    "print(id_list.count('169'))\n",
    "print(id_list.count('204'))"
   ]
  },
  {
   "cell_type": "code",
   "execution_count": null,
   "metadata": {},
   "outputs": [],
   "source": []
  }
 ],
 "metadata": {
  "kernelspec": {
   "display_name": "phd",
   "language": "python",
   "name": "python3"
  },
  "language_info": {
   "codemirror_mode": {
    "name": "ipython",
    "version": 3
   },
   "file_extension": ".py",
   "mimetype": "text/x-python",
   "name": "python",
   "nbconvert_exporter": "python",
   "pygments_lexer": "ipython3",
   "version": "3.10.0 (default, Mar  3 2022, 03:57:21) [Clang 12.0.0 ]"
  },
  "orig_nbformat": 4,
  "vscode": {
   "interpreter": {
    "hash": "ffc9e18892ee3b9cbe53b18b7d355cfce0a42ae1aa2d5f5ea7529610a7030618"
   }
  }
 },
 "nbformat": 4,
 "nbformat_minor": 2
}
