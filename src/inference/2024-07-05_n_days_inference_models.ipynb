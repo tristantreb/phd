{
 "cells": [
  {
   "cell_type": "code",
   "execution_count": null,
   "metadata": {},
   "outputs": [],
   "source": [
    "import src.data.breathe_data as bd\n",
    "import src.inference.long_inf_slicing as slicing\n",
    "import src.models.builders as mb\n",
    "import src.models.var_builders as var_builders\n",
    "import src.inference.helpers as ih\n",
    "from plotly.subplots import make_subplots\n",
    "import src.data.helpers as dh\n",
    "import src.models.helpers as mh\n",
    "import plotly.graph_objects as go\n",
    "import logging\n",
    "\n",
    "logger = logging.getLogger()\n",
    "logger.setLevel(logging.CRITICAL)\n",
    "\n",
    "\n",
    "import pandas as pd\n",
    "import numpy as np"
   ]
  },
  {
   "cell_type": "code",
   "execution_count": null,
   "metadata": {},
   "outputs": [],
   "source": [
    "df = bd.load_meas_from_excel(\n",
    "    \"BR_O2_FEV1_FEF2575_with_idx_and_heighest_obs_per_id_light\"\n",
    ")"
   ]
  }
 ],
 "metadata": {
  "language_info": {
   "name": "python"
  }
 },
 "nbformat": 4,
 "nbformat_minor": 2
}
