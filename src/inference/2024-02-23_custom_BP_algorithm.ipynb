{
 "cells": [
  {
   "cell_type": "markdown",
   "metadata": {},
   "source": [
    "I've used this notebook to derive the BP algorithm on top of the PGMPY library, whose BP isn't a real BP algorithm"
   ]
  },
  {
   "cell_type": "code",
   "execution_count": 1,
   "metadata": {},
   "outputs": [],
   "source": [
    "import src.models.graph_builders as graph_builders\n",
    "import src.models.var_builders as var_builders\n",
    "import src.models.builders as mb\n",
    "import src.inference.helpers as ih\n",
    "\n",
    "from functools import reduce\n",
    "import numpy as np"
   ]
  },
  {
   "cell_type": "code",
   "execution_count": 2,
   "metadata": {},
   "outputs": [],
   "source": [
    "# Create factor graph\n",
    "height = 170\n",
    "age = 30\n",
    "sex = \"Male\"\n",
    "(\n",
    "    HFEV1,\n",
    "    ecFEV1,\n",
    "    AR,\n",
    "    HO2Sat,\n",
    "    O2SatFFA,\n",
    "    IA,\n",
    "    UO2Sat,\n",
    "    O2Sat,\n",
    ") = var_builders.o2sat_fev1_point_in_time(height, age, sex)\n",
    "\n",
    "model = graph_builders.fev1_o2sat_point_in_time_factor_graph(\n",
    "    HFEV1, ecFEV1, AR, HO2Sat, O2SatFFA, IA, UO2Sat, O2Sat, check_model=False\n",
    ")"
   ]
  },
  {
   "cell_type": "markdown",
   "metadata": {},
   "source": [
    "# BP message computation"
   ]
  },
  {
   "cell_type": "markdown",
   "metadata": {},
   "source": [
    "# Add this to the FactorGraph library\n",
    "def point_mass_message(self, var, obs):\n",
    "    \"\"\"\n",
    "    Returns the point mass message for the variable given the observed state.\n",
    "    \"\"\"\n",
    "    card = self.get_cardinality(var)\n",
    "    # Create an array with 1 at the index of the evidence and 0 elsewhere\n",
    "    message = np.zeros(card)\n",
    "    message[obs] = 1\n",
    "    return message"
   ]
  },
  {
   "cell_type": "code",
   "execution_count": 19,
   "metadata": {},
   "outputs": [
    {
     "name": "stdout",
     "output_type": "stream",
     "text": [
      "64\n"
     ]
    }
   ],
   "source": [
    "ecFEV1_obs = 3.2\n",
    "ecFEV1_idx = ecFEV1.get_bin_for_value(ecFEV1_obs)[1]\n",
    "print(ecFEV1_idx)\n",
    "\n",
    "var_to_infer = \"Healthy FEV1 (L)\"\n",
    "\n",
    "\n",
    "def variable_node_message(incoming_messages):\n",
    "    \"\"\"\n",
    "    The outgoing message is the element wise product of all incoming messages\n",
    "    \"\"\"\n",
    "    if len(incoming_messages) == 1:\n",
    "        return incoming_messages[0]\n",
    "    outgoing_message = np.multiply(*incoming_messages)\n",
    "    # Normalise\n",
    "    return outgoing_message / np.sum(outgoing_message)\n",
    "\n",
    "\n",
    "def factor_node_message(incoming_messages, factor, target_var):\n",
    "    \"\"\"\n",
    "    Returns the outgoing message for a factor node, which is the multiplication of the incoming messages with the factor function (CPT)\n",
    "\n",
    "    The variables' order in the incoming messages list must match the variable's order in the CPT's dimensions\n",
    "    \"\"\"\n",
    "    cpt = factor.values\n",
    "    vars = factor.variables\n",
    "\n",
    "    assert (\n",
    "        len(incoming_messages) == cpt.ndim - 1\n",
    "    ), f\"Error computing factor node message for {target_var}. The number of incoming messages must equal the card(CPT) - 1\"\n",
    "\n",
    "    # Ensure that the target var is on the CPT's 0th axis\n",
    "    # Find idx of target var in the vars list\n",
    "    target_var_idx = vars.index(target_var)\n",
    "    if target_var_idx != 0:\n",
    "        # Move target var to the 0th axis\n",
    "        cpt = np.moveaxis(cpt, target_var_idx, 0)\n",
    "\n",
    "    # Invert incoming_messages, so that the first message corresponds to the last dimension of the CPT\n",
    "    incoming_messages = list(reversed(incoming_messages))\n",
    "\n",
    "    # Reduce the CPT with the inverted list of incoming messages\n",
    "    return reduce(lambda matrix, m: np.matmul(matrix, m), incoming_messages, cpt)"
   ]
  },
  {
   "cell_type": "code",
   "execution_count": 20,
   "metadata": {},
   "outputs": [
    {
     "data": {
      "text/plain": [
       "(100,)"
      ]
     },
     "execution_count": 20,
     "metadata": {},
     "output_type": "execute_result"
    }
   ],
   "source": [
    "# ecFEV1 -> factor\n",
    "m = model.point_mass_message(ecFEV1.name, ecFEV1_idx)\n",
    "ecFEV1toF = variable_node_message([m])\n",
    "\n",
    "# AR -> factor\n",
    "artoF = variable_node_message([AR.cpt])\n",
    "\n",
    "# factor -> var_to_infer\n",
    "toHFEV1 = factor_node_message([ecFEV1toF, artoF], model.get_factors()[1], var_to_infer)\n",
    "\n",
    "# hfev1 posterior\n",
    "hfev1_posterior = variable_node_message([toHFEV1, HFEV1.cpt])\n",
    "hfev1_posterior.shape"
   ]
  },
  {
   "cell_type": "code",
   "execution_count": 21,
   "metadata": {},
   "outputs": [
    {
     "data": {
      "text/plain": [
       "(100,)"
      ]
     },
     "execution_count": 21,
     "metadata": {},
     "output_type": "execute_result"
    }
   ],
   "source": [
    "# Compare results against the bayes net model (factor graph model takes ages to compute)\n",
    "model1, inf_alg1, _, _, _ = mb.fev1_point_in_time_model(height, age, sex)\n",
    "res = ih.infer(inf_alg1, [HFEV1], [[ecFEV1, ecFEV1_obs]])\n",
    "res[HFEV1.name].values.shape"
   ]
  },
  {
   "cell_type": "code",
   "execution_count": 28,
   "metadata": {},
   "outputs": [
    {
     "data": {
      "application/vnd.plotly.v1+json": {
       "config": {
        "plotlyServerURL": "https://plot.ly"
       },
       "data": [
        {
         "name": "Factor Graph",
         "type": "bar",
         "x": [
          1,
          1.05,
          1.1,
          1.1500000000000001,
          1.2000000000000002,
          1.2500000000000002,
          1.3000000000000003,
          1.3500000000000003,
          1.4000000000000004,
          1.4500000000000004,
          1.5000000000000004,
          1.5500000000000005,
          1.6000000000000005,
          1.6500000000000006,
          1.7000000000000006,
          1.7500000000000007,
          1.8000000000000007,
          1.8500000000000008,
          1.9000000000000008,
          1.9500000000000008,
          2.000000000000001,
          2.0500000000000007,
          2.100000000000001,
          2.1500000000000012,
          2.200000000000001,
          2.250000000000001,
          2.300000000000001,
          2.3500000000000014,
          2.4000000000000012,
          2.450000000000001,
          2.5000000000000013,
          2.5500000000000016,
          2.6000000000000014,
          2.6500000000000012,
          2.7000000000000015,
          2.7500000000000018,
          2.8000000000000016,
          2.8500000000000014,
          2.9000000000000017,
          2.950000000000002,
          3.0000000000000018,
          3.0500000000000016,
          3.100000000000002,
          3.150000000000002,
          3.200000000000002,
          3.2500000000000018,
          3.300000000000002,
          3.3500000000000023,
          3.400000000000002,
          3.450000000000002,
          3.500000000000002,
          3.5500000000000025,
          3.6000000000000023,
          3.650000000000002,
          3.7000000000000024,
          3.7500000000000027,
          3.8000000000000025,
          3.8500000000000023,
          3.9000000000000026,
          3.950000000000003,
          4.000000000000003,
          4.0500000000000025,
          4.100000000000003,
          4.150000000000003,
          4.200000000000003,
          4.250000000000003,
          4.3000000000000025,
          4.350000000000003,
          4.400000000000003,
          4.450000000000003,
          4.5000000000000036,
          4.550000000000003,
          4.600000000000003,
          4.650000000000003,
          4.700000000000003,
          4.7500000000000036,
          4.800000000000003,
          4.850000000000003,
          4.900000000000004,
          4.950000000000004,
          5.0000000000000036,
          5.050000000000003,
          5.100000000000003,
          5.150000000000004,
          5.200000000000004,
          5.2500000000000036,
          5.300000000000004,
          5.350000000000004,
          5.400000000000004,
          5.450000000000004,
          5.5000000000000036,
          5.550000000000004,
          5.600000000000004,
          5.650000000000004,
          5.700000000000005,
          5.750000000000004,
          5.800000000000004,
          5.850000000000004,
          5.900000000000004,
          5.950000000000005
         ],
         "y": [
          0,
          0,
          0,
          0,
          0,
          0,
          0,
          0,
          0,
          0,
          0,
          0,
          0,
          0,
          0,
          0,
          0,
          0,
          0,
          0,
          0,
          0,
          0,
          0,
          0,
          0,
          0,
          0,
          0,
          0,
          0,
          0,
          0,
          0,
          0,
          0,
          0,
          0,
          0,
          0,
          0,
          0,
          0,
          0,
          0.006747449283451134,
          0.015556187630780427,
          0.017737109671387013,
          0.020052750100227303,
          0.022475987372998173,
          0.024972406887465437,
          0.02750062289292186,
          0.030013008830578013,
          0.03245685427571566,
          0.034775935360056194,
          0.036912454907147806,
          0.03880927583354364,
          0.040412339087766105,
          0.04167313325632058,
          0.04255106524885447,
          0.043015575671352536,
          0.04304784916688326,
          0.04264198987653024,
          0.041805564342243896,
          0.040559456377214934,
          0.03893702718846955,
          0.03698262498316296,
          0.03474953663512354,
          0.03229751506567521,
          0.029690045812150588,
          0.026991531985704868,
          0.024264577123758024,
          0.02156753064054413,
          0.018952432583399924,
          0.016463456453764493,
          0.014135905095496934,
          0.01199576961235183,
          0.010059819304571055,
          0.008336155400461235,
          0.0068251355522189975,
          0.005520561063800413,
          0.004411014733598103,
          0.0034812429826456236,
          0.002713489664287439,
          0.0020887081277242087,
          0.0015876000641494442,
          0.001191451878237861,
          0.0008827596903479083,
          0.0006456510575801992,
          0.00046612422285824374,
          0.00033213389791538633,
          0.00023355651677239338,
          0.0001620681977361515,
          0.00011096618148528936,
          0.00007496019953921114,
          0.000049954950206011994,
          0.000032839361215184935,
          0.000021293160606088837,
          0.000013616826819617551,
          0.000008587432919444208,
          0.000005340279263786495
         ]
        },
        {
         "name": "Bayes Net",
         "type": "bar",
         "x": [
          1,
          1.05,
          1.1,
          1.1500000000000001,
          1.2000000000000002,
          1.2500000000000002,
          1.3000000000000003,
          1.3500000000000003,
          1.4000000000000004,
          1.4500000000000004,
          1.5000000000000004,
          1.5500000000000005,
          1.6000000000000005,
          1.6500000000000006,
          1.7000000000000006,
          1.7500000000000007,
          1.8000000000000007,
          1.8500000000000008,
          1.9000000000000008,
          1.9500000000000008,
          2.000000000000001,
          2.0500000000000007,
          2.100000000000001,
          2.1500000000000012,
          2.200000000000001,
          2.250000000000001,
          2.300000000000001,
          2.3500000000000014,
          2.4000000000000012,
          2.450000000000001,
          2.5000000000000013,
          2.5500000000000016,
          2.6000000000000014,
          2.6500000000000012,
          2.7000000000000015,
          2.7500000000000018,
          2.8000000000000016,
          2.8500000000000014,
          2.9000000000000017,
          2.950000000000002,
          3.0000000000000018,
          3.0500000000000016,
          3.100000000000002,
          3.150000000000002,
          3.200000000000002,
          3.2500000000000018,
          3.300000000000002,
          3.3500000000000023,
          3.400000000000002,
          3.450000000000002,
          3.500000000000002,
          3.5500000000000025,
          3.6000000000000023,
          3.650000000000002,
          3.7000000000000024,
          3.7500000000000027,
          3.8000000000000025,
          3.8500000000000023,
          3.9000000000000026,
          3.950000000000003,
          4.000000000000003,
          4.0500000000000025,
          4.100000000000003,
          4.150000000000003,
          4.200000000000003,
          4.250000000000003,
          4.3000000000000025,
          4.350000000000003,
          4.400000000000003,
          4.450000000000003,
          4.5000000000000036,
          4.550000000000003,
          4.600000000000003,
          4.650000000000003,
          4.700000000000003,
          4.7500000000000036,
          4.800000000000003,
          4.850000000000003,
          4.900000000000004,
          4.950000000000004,
          5.0000000000000036,
          5.050000000000003,
          5.100000000000003,
          5.150000000000004,
          5.200000000000004,
          5.2500000000000036,
          5.300000000000004,
          5.350000000000004,
          5.400000000000004,
          5.450000000000004,
          5.5000000000000036,
          5.550000000000004,
          5.600000000000004,
          5.650000000000004,
          5.700000000000005,
          5.750000000000004,
          5.800000000000004,
          5.850000000000004,
          5.900000000000004,
          5.950000000000005
         ],
         "y": [
          0,
          0,
          0,
          0,
          0,
          0,
          0,
          0,
          0,
          0,
          0,
          0,
          0,
          0,
          0,
          0,
          0,
          0,
          0,
          0,
          0,
          0,
          0,
          0,
          0,
          0,
          0,
          0,
          0,
          0,
          0,
          0,
          0,
          0,
          0,
          0,
          0,
          0,
          0,
          0,
          0,
          0,
          0,
          0,
          0.006747449283451134,
          0.01555618763078043,
          0.017737109671387013,
          0.020052750100227303,
          0.022475987372998173,
          0.024972406887465434,
          0.02750062289292186,
          0.030013008830578013,
          0.03245685427571566,
          0.034775935360056194,
          0.036912454907147806,
          0.03880927583354364,
          0.040412339087766105,
          0.04167313325632058,
          0.04255106524885447,
          0.043015575671352536,
          0.04304784916688326,
          0.04264198987653024,
          0.04180556434224389,
          0.04055945637721493,
          0.03893702718846955,
          0.03698262498316296,
          0.03474953663512354,
          0.03229751506567521,
          0.029690045812150588,
          0.026991531985704868,
          0.024264577123758024,
          0.02156753064054413,
          0.018952432583399924,
          0.016463456453764493,
          0.014135905095496934,
          0.01199576961235183,
          0.010059819304571055,
          0.008336155400461235,
          0.0068251355522189975,
          0.005520561063800413,
          0.004411014733598103,
          0.0034812429826456236,
          0.002713489664287439,
          0.0020887081277242087,
          0.0015876000641494442,
          0.001191451878237861,
          0.0008827596903479084,
          0.0006456510575801992,
          0.0004661242228582438,
          0.00033213389791538633,
          0.00023355651677239338,
          0.0001620681977361515,
          0.00011096618148528936,
          0.00007496019953921114,
          0.000049954950206011994,
          0.000032839361215184935,
          0.000021293160606088837,
          0.000013616826819617551,
          0.000008587432919444208,
          0.000005340279263786495
         ]
        }
       ],
       "layout": {
        "barmode": "group",
        "height": 300,
        "template": {
         "data": {
          "bar": [
           {
            "error_x": {
             "color": "#2a3f5f"
            },
            "error_y": {
             "color": "#2a3f5f"
            },
            "marker": {
             "line": {
              "color": "#E5ECF6",
              "width": 0.5
             },
             "pattern": {
              "fillmode": "overlay",
              "size": 10,
              "solidity": 0.2
             }
            },
            "type": "bar"
           }
          ],
          "barpolar": [
           {
            "marker": {
             "line": {
              "color": "#E5ECF6",
              "width": 0.5
             },
             "pattern": {
              "fillmode": "overlay",
              "size": 10,
              "solidity": 0.2
             }
            },
            "type": "barpolar"
           }
          ],
          "carpet": [
           {
            "aaxis": {
             "endlinecolor": "#2a3f5f",
             "gridcolor": "white",
             "linecolor": "white",
             "minorgridcolor": "white",
             "startlinecolor": "#2a3f5f"
            },
            "baxis": {
             "endlinecolor": "#2a3f5f",
             "gridcolor": "white",
             "linecolor": "white",
             "minorgridcolor": "white",
             "startlinecolor": "#2a3f5f"
            },
            "type": "carpet"
           }
          ],
          "choropleth": [
           {
            "colorbar": {
             "outlinewidth": 0,
             "ticks": ""
            },
            "type": "choropleth"
           }
          ],
          "contour": [
           {
            "colorbar": {
             "outlinewidth": 0,
             "ticks": ""
            },
            "colorscale": [
             [
              0,
              "#0d0887"
             ],
             [
              0.1111111111111111,
              "#46039f"
             ],
             [
              0.2222222222222222,
              "#7201a8"
             ],
             [
              0.3333333333333333,
              "#9c179e"
             ],
             [
              0.4444444444444444,
              "#bd3786"
             ],
             [
              0.5555555555555556,
              "#d8576b"
             ],
             [
              0.6666666666666666,
              "#ed7953"
             ],
             [
              0.7777777777777778,
              "#fb9f3a"
             ],
             [
              0.8888888888888888,
              "#fdca26"
             ],
             [
              1,
              "#f0f921"
             ]
            ],
            "type": "contour"
           }
          ],
          "contourcarpet": [
           {
            "colorbar": {
             "outlinewidth": 0,
             "ticks": ""
            },
            "type": "contourcarpet"
           }
          ],
          "heatmap": [
           {
            "colorbar": {
             "outlinewidth": 0,
             "ticks": ""
            },
            "colorscale": [
             [
              0,
              "#0d0887"
             ],
             [
              0.1111111111111111,
              "#46039f"
             ],
             [
              0.2222222222222222,
              "#7201a8"
             ],
             [
              0.3333333333333333,
              "#9c179e"
             ],
             [
              0.4444444444444444,
              "#bd3786"
             ],
             [
              0.5555555555555556,
              "#d8576b"
             ],
             [
              0.6666666666666666,
              "#ed7953"
             ],
             [
              0.7777777777777778,
              "#fb9f3a"
             ],
             [
              0.8888888888888888,
              "#fdca26"
             ],
             [
              1,
              "#f0f921"
             ]
            ],
            "type": "heatmap"
           }
          ],
          "heatmapgl": [
           {
            "colorbar": {
             "outlinewidth": 0,
             "ticks": ""
            },
            "colorscale": [
             [
              0,
              "#0d0887"
             ],
             [
              0.1111111111111111,
              "#46039f"
             ],
             [
              0.2222222222222222,
              "#7201a8"
             ],
             [
              0.3333333333333333,
              "#9c179e"
             ],
             [
              0.4444444444444444,
              "#bd3786"
             ],
             [
              0.5555555555555556,
              "#d8576b"
             ],
             [
              0.6666666666666666,
              "#ed7953"
             ],
             [
              0.7777777777777778,
              "#fb9f3a"
             ],
             [
              0.8888888888888888,
              "#fdca26"
             ],
             [
              1,
              "#f0f921"
             ]
            ],
            "type": "heatmapgl"
           }
          ],
          "histogram": [
           {
            "marker": {
             "pattern": {
              "fillmode": "overlay",
              "size": 10,
              "solidity": 0.2
             }
            },
            "type": "histogram"
           }
          ],
          "histogram2d": [
           {
            "colorbar": {
             "outlinewidth": 0,
             "ticks": ""
            },
            "colorscale": [
             [
              0,
              "#0d0887"
             ],
             [
              0.1111111111111111,
              "#46039f"
             ],
             [
              0.2222222222222222,
              "#7201a8"
             ],
             [
              0.3333333333333333,
              "#9c179e"
             ],
             [
              0.4444444444444444,
              "#bd3786"
             ],
             [
              0.5555555555555556,
              "#d8576b"
             ],
             [
              0.6666666666666666,
              "#ed7953"
             ],
             [
              0.7777777777777778,
              "#fb9f3a"
             ],
             [
              0.8888888888888888,
              "#fdca26"
             ],
             [
              1,
              "#f0f921"
             ]
            ],
            "type": "histogram2d"
           }
          ],
          "histogram2dcontour": [
           {
            "colorbar": {
             "outlinewidth": 0,
             "ticks": ""
            },
            "colorscale": [
             [
              0,
              "#0d0887"
             ],
             [
              0.1111111111111111,
              "#46039f"
             ],
             [
              0.2222222222222222,
              "#7201a8"
             ],
             [
              0.3333333333333333,
              "#9c179e"
             ],
             [
              0.4444444444444444,
              "#bd3786"
             ],
             [
              0.5555555555555556,
              "#d8576b"
             ],
             [
              0.6666666666666666,
              "#ed7953"
             ],
             [
              0.7777777777777778,
              "#fb9f3a"
             ],
             [
              0.8888888888888888,
              "#fdca26"
             ],
             [
              1,
              "#f0f921"
             ]
            ],
            "type": "histogram2dcontour"
           }
          ],
          "mesh3d": [
           {
            "colorbar": {
             "outlinewidth": 0,
             "ticks": ""
            },
            "type": "mesh3d"
           }
          ],
          "parcoords": [
           {
            "line": {
             "colorbar": {
              "outlinewidth": 0,
              "ticks": ""
             }
            },
            "type": "parcoords"
           }
          ],
          "pie": [
           {
            "automargin": true,
            "type": "pie"
           }
          ],
          "scatter": [
           {
            "fillpattern": {
             "fillmode": "overlay",
             "size": 10,
             "solidity": 0.2
            },
            "type": "scatter"
           }
          ],
          "scatter3d": [
           {
            "line": {
             "colorbar": {
              "outlinewidth": 0,
              "ticks": ""
             }
            },
            "marker": {
             "colorbar": {
              "outlinewidth": 0,
              "ticks": ""
             }
            },
            "type": "scatter3d"
           }
          ],
          "scattercarpet": [
           {
            "marker": {
             "colorbar": {
              "outlinewidth": 0,
              "ticks": ""
             }
            },
            "type": "scattercarpet"
           }
          ],
          "scattergeo": [
           {
            "marker": {
             "colorbar": {
              "outlinewidth": 0,
              "ticks": ""
             }
            },
            "type": "scattergeo"
           }
          ],
          "scattergl": [
           {
            "marker": {
             "colorbar": {
              "outlinewidth": 0,
              "ticks": ""
             }
            },
            "type": "scattergl"
           }
          ],
          "scattermapbox": [
           {
            "marker": {
             "colorbar": {
              "outlinewidth": 0,
              "ticks": ""
             }
            },
            "type": "scattermapbox"
           }
          ],
          "scatterpolar": [
           {
            "marker": {
             "colorbar": {
              "outlinewidth": 0,
              "ticks": ""
             }
            },
            "type": "scatterpolar"
           }
          ],
          "scatterpolargl": [
           {
            "marker": {
             "colorbar": {
              "outlinewidth": 0,
              "ticks": ""
             }
            },
            "type": "scatterpolargl"
           }
          ],
          "scatterternary": [
           {
            "marker": {
             "colorbar": {
              "outlinewidth": 0,
              "ticks": ""
             }
            },
            "type": "scatterternary"
           }
          ],
          "surface": [
           {
            "colorbar": {
             "outlinewidth": 0,
             "ticks": ""
            },
            "colorscale": [
             [
              0,
              "#0d0887"
             ],
             [
              0.1111111111111111,
              "#46039f"
             ],
             [
              0.2222222222222222,
              "#7201a8"
             ],
             [
              0.3333333333333333,
              "#9c179e"
             ],
             [
              0.4444444444444444,
              "#bd3786"
             ],
             [
              0.5555555555555556,
              "#d8576b"
             ],
             [
              0.6666666666666666,
              "#ed7953"
             ],
             [
              0.7777777777777778,
              "#fb9f3a"
             ],
             [
              0.8888888888888888,
              "#fdca26"
             ],
             [
              1,
              "#f0f921"
             ]
            ],
            "type": "surface"
           }
          ],
          "table": [
           {
            "cells": {
             "fill": {
              "color": "#EBF0F8"
             },
             "line": {
              "color": "white"
             }
            },
            "header": {
             "fill": {
              "color": "#C8D4E3"
             },
             "line": {
              "color": "white"
             }
            },
            "type": "table"
           }
          ]
         },
         "layout": {
          "annotationdefaults": {
           "arrowcolor": "#2a3f5f",
           "arrowhead": 0,
           "arrowwidth": 1
          },
          "autotypenumbers": "strict",
          "coloraxis": {
           "colorbar": {
            "outlinewidth": 0,
            "ticks": ""
           }
          },
          "colorscale": {
           "diverging": [
            [
             0,
             "#8e0152"
            ],
            [
             0.1,
             "#c51b7d"
            ],
            [
             0.2,
             "#de77ae"
            ],
            [
             0.3,
             "#f1b6da"
            ],
            [
             0.4,
             "#fde0ef"
            ],
            [
             0.5,
             "#f7f7f7"
            ],
            [
             0.6,
             "#e6f5d0"
            ],
            [
             0.7,
             "#b8e186"
            ],
            [
             0.8,
             "#7fbc41"
            ],
            [
             0.9,
             "#4d9221"
            ],
            [
             1,
             "#276419"
            ]
           ],
           "sequential": [
            [
             0,
             "#0d0887"
            ],
            [
             0.1111111111111111,
             "#46039f"
            ],
            [
             0.2222222222222222,
             "#7201a8"
            ],
            [
             0.3333333333333333,
             "#9c179e"
            ],
            [
             0.4444444444444444,
             "#bd3786"
            ],
            [
             0.5555555555555556,
             "#d8576b"
            ],
            [
             0.6666666666666666,
             "#ed7953"
            ],
            [
             0.7777777777777778,
             "#fb9f3a"
            ],
            [
             0.8888888888888888,
             "#fdca26"
            ],
            [
             1,
             "#f0f921"
            ]
           ],
           "sequentialminus": [
            [
             0,
             "#0d0887"
            ],
            [
             0.1111111111111111,
             "#46039f"
            ],
            [
             0.2222222222222222,
             "#7201a8"
            ],
            [
             0.3333333333333333,
             "#9c179e"
            ],
            [
             0.4444444444444444,
             "#bd3786"
            ],
            [
             0.5555555555555556,
             "#d8576b"
            ],
            [
             0.6666666666666666,
             "#ed7953"
            ],
            [
             0.7777777777777778,
             "#fb9f3a"
            ],
            [
             0.8888888888888888,
             "#fdca26"
            ],
            [
             1,
             "#f0f921"
            ]
           ]
          },
          "colorway": [
           "#636efa",
           "#EF553B",
           "#00cc96",
           "#ab63fa",
           "#FFA15A",
           "#19d3f3",
           "#FF6692",
           "#B6E880",
           "#FF97FF",
           "#FECB52"
          ],
          "font": {
           "color": "#2a3f5f"
          },
          "geo": {
           "bgcolor": "white",
           "lakecolor": "white",
           "landcolor": "#E5ECF6",
           "showlakes": true,
           "showland": true,
           "subunitcolor": "white"
          },
          "hoverlabel": {
           "align": "left"
          },
          "hovermode": "closest",
          "mapbox": {
           "style": "light"
          },
          "paper_bgcolor": "white",
          "plot_bgcolor": "#E5ECF6",
          "polar": {
           "angularaxis": {
            "gridcolor": "white",
            "linecolor": "white",
            "ticks": ""
           },
           "bgcolor": "#E5ECF6",
           "radialaxis": {
            "gridcolor": "white",
            "linecolor": "white",
            "ticks": ""
           }
          },
          "scene": {
           "xaxis": {
            "backgroundcolor": "#E5ECF6",
            "gridcolor": "white",
            "gridwidth": 2,
            "linecolor": "white",
            "showbackground": true,
            "ticks": "",
            "zerolinecolor": "white"
           },
           "yaxis": {
            "backgroundcolor": "#E5ECF6",
            "gridcolor": "white",
            "gridwidth": 2,
            "linecolor": "white",
            "showbackground": true,
            "ticks": "",
            "zerolinecolor": "white"
           },
           "zaxis": {
            "backgroundcolor": "#E5ECF6",
            "gridcolor": "white",
            "gridwidth": 2,
            "linecolor": "white",
            "showbackground": true,
            "ticks": "",
            "zerolinecolor": "white"
           }
          },
          "shapedefaults": {
           "line": {
            "color": "#2a3f5f"
           }
          },
          "ternary": {
           "aaxis": {
            "gridcolor": "white",
            "linecolor": "white",
            "ticks": ""
           },
           "baxis": {
            "gridcolor": "white",
            "linecolor": "white",
            "ticks": ""
           },
           "bgcolor": "#E5ECF6",
           "caxis": {
            "gridcolor": "white",
            "linecolor": "white",
            "ticks": ""
           }
          },
          "title": {
           "x": 0.05
          },
          "xaxis": {
           "automargin": true,
           "gridcolor": "white",
           "linecolor": "white",
           "ticks": "",
           "title": {
            "standoff": 15
           },
           "zerolinecolor": "white",
           "zerolinewidth": 2
          },
          "yaxis": {
           "automargin": true,
           "gridcolor": "white",
           "linecolor": "white",
           "ticks": "",
           "title": {
            "standoff": 15
           },
           "zerolinecolor": "white",
           "zerolinewidth": 2
          }
         }
        },
        "title": {
         "text": "Comparison of HFEV1 posteriors"
        },
        "width": 800
       }
      }
     },
     "metadata": {},
     "output_type": "display_data"
    }
   ],
   "source": [
    "((hfev1_posterior - res[HFEV1.name].values) < 1e-5).all()\n",
    "# Plot the two posteriors with plotly go figure\n",
    "import plotly.graph_objs as go\n",
    "\n",
    "fig = go.Figure()\n",
    "# Add bar plot for the factor graph model\n",
    "fig.add_trace(go.Bar(x=HFEV1.bins, y=hfev1_posterior, name=\"Factor Graph\"))\n",
    "fig.add_trace(go.Bar(x=HFEV1.bins, y=res[HFEV1.name].values, name=\"Bayes Net\"))\n",
    "# Update layout\n",
    "fig.update_layout(\n",
    "    barmode=\"group\", title=\"Comparison of HFEV1 posteriors\", width=800, height=300\n",
    ")\n",
    "fig.show()"
   ]
  },
  {
   "cell_type": "code",
   "execution_count": null,
   "metadata": {},
   "outputs": [],
   "source": []
  }
 ],
 "metadata": {
  "kernelspec": {
   "display_name": "phd",
   "language": "python",
   "name": "python3"
  },
  "language_info": {
   "codemirror_mode": {
    "name": "ipython",
    "version": 3
   },
   "file_extension": ".py",
   "mimetype": "text/x-python",
   "name": "python",
   "nbconvert_exporter": "python",
   "pygments_lexer": "ipython3",
   "version": "3.1.0"
  }
 },
 "nbformat": 4,
 "nbformat_minor": 2
}
