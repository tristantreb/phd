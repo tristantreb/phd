{
 "cells": [
  {
   "cell_type": "markdown",
   "metadata": {},
   "source": [
    "I've used this notebook to derive the BP algorithm on top of the PGMPY library, whose BP isn't a real BP algorithm"
   ]
  },
  {
   "cell_type": "code",
   "execution_count": 2,
   "metadata": {},
   "outputs": [],
   "source": [
    "import src.models.builders as mb\n",
    "import src.inference.helpers as ih\n",
    "import numpy as np\n",
    "\n",
    "from functools import reduce"
   ]
  },
  {
   "cell_type": "code",
   "execution_count": 3,
   "metadata": {},
   "outputs": [
    {
     "name": "stdout",
     "output_type": "stream",
     "text": [
      "buidling custom model (work in progress)\n"
     ]
    }
   ],
   "source": [
    "# Create factor graph\n",
    "height = 170\n",
    "age = 30\n",
    "sex = \"Male\"\n",
    "model, inf_alg, HFEV1, ecFEV1, AR, HO2Sat, O2SatFFA, IA, UO2Sat, O2Sat = (\n",
    "    mb.o2sat_fev1_point_in_time_model_2(height, age, sex)\n",
    ")"
   ]
  },
  {
   "cell_type": "markdown",
   "metadata": {},
   "source": [
    "# BP message computation"
   ]
  },
  {
   "cell_type": "markdown",
   "metadata": {},
   "source": [
    "Add this to the FactorGraph library\n",
    "\n",
    "def point_mass_message(self, var, obs):\n",
    "    \"\"\"\n",
    "    Returns the point mass message for the variable given the observed state.\n",
    "    \"\"\"\n",
    "    card = self.get_cardinality(var)\n",
    "    # Create an array with 1 at the index of the evidence and 0 elsewhere\n",
    "    message = np.zeros(card)\n",
    "    message[obs] = 1\n",
    "    return message"
   ]
  },
  {
   "cell_type": "code",
   "execution_count": 3,
   "metadata": {},
   "outputs": [],
   "source": [
    "# Functions moved to the custom BP algorithm\n",
    "# def variable_node_message(incoming_messages):\n",
    "#     \"\"\"\n",
    "#     The outgoing message is the element wise product of all incoming messages\n",
    "#     \"\"\"\n",
    "#     if len(incoming_messages) == 1:\n",
    "#         return incoming_messages[0]\n",
    "#     outgoing_message = np.multiply(*incoming_messages)\n",
    "#     # Normalise\n",
    "#     return outgoing_message / np.sum(outgoing_message)\n",
    "\n",
    "\n",
    "# def factor_node_message(incoming_messages, factor, target_var):\n",
    "#     \"\"\"\n",
    "#     Returns the outgoing message for a factor node, which is the multiplication of the incoming messages with the factor function (CPT)\n",
    "\n",
    "#     The variables' order in the incoming messages list must match the variable's order in the CPT's dimensions\n",
    "#     \"\"\"\n",
    "#     cpt = factor.values\n",
    "#     vars = factor.variables\n",
    "\n",
    "#     assert (\n",
    "#         len(incoming_messages) == cpt.ndim - 1\n",
    "#     ), f\"Error computing factor node message for {target_var}. The number of incoming messages must equal the card(CPT) - 1\"\n",
    "\n",
    "#     # Ensure that the target var is on the CPT's 0th axis\n",
    "#     # Find idx of target var in the vars list\n",
    "#     target_var_idx = vars.index(target_var)\n",
    "#     if target_var_idx != 0:\n",
    "#         # Move target var to the 0th axis\n",
    "#         cpt = np.moveaxis(cpt, target_var_idx, 0)\n",
    "\n",
    "#     # Invert incoming_messages, so that the first message corresponds to the last dimension of the CPT\n",
    "#     incoming_messages = list(reversed(incoming_messages))\n",
    "\n",
    "#     # Reduce the CPT with the inverted list of incoming messages\n",
    "#     outgoing_message = reduce(\n",
    "#         lambda cpt_reduced, m: np.matmul(cpt_reduced, m), incoming_messages, cpt\n",
    "#     )\n",
    "\n",
    "#     # Normalise\n",
    "#     return outgoing_message / sum(outgoing_message)"
   ]
  },
  {
   "cell_type": "code",
   "execution_count": 4,
   "metadata": {},
   "outputs": [
    {
     "data": {
      "text/plain": [
       "(100,)"
      ]
     },
     "execution_count": 4,
     "metadata": {},
     "output_type": "execute_result"
    }
   ],
   "source": [
    "var_to_infer = \"Healthy FEV1 (L)\"\n",
    "\n",
    "\n",
    "ecFEV1_obs = 1\n",
    "ecFEV1_idx = ecFEV1.get_bin_for_value(ecFEV1_obs)[1]\n",
    "\n",
    "o2sat_obs = 100\n",
    "o2sat_idx = O2Sat.get_bin_for_value(o2sat_obs)[1]\n",
    "\n",
    "hfev1_factor = model.get_factors()[0]\n",
    "evfev1_factor = model.get_factors()[1]\n",
    "ar_factor = model.get_factors()[2]\n",
    "ho2sat_factor = model.get_factors()[3]\n",
    "o2satffa_factor = model.get_factors()[4]\n",
    "ia_factor = model.get_factors()[5]\n",
    "uo2sat_factor = model.get_factors()[6]\n",
    "o2sat_factor = model.get_factors()[7]\n",
    "\n",
    "# O2sat -> O2sat factor\n",
    "o2sat_obs_m = model.point_mass_message(O2Sat.name, o2sat_idx)\n",
    "o2sat_up = inf_alg.variable_node_message([o2sat_obs_m])\n",
    "\n",
    "# Only one message comes to UO2Sat\n",
    "to_uo2sat = inf_alg.factor_node_message([o2sat_up], o2sat_factor, UO2Sat.name)\n",
    "# Only one message incoming UO2Sat, hence\n",
    "uo2sat_up = inf_alg.variable_node_message([to_uo2sat])\n",
    "assert (uo2sat_up == to_uo2sat).all()\n",
    "\n",
    "# IA -> O2Sat factor\n",
    "ia_right = inf_alg.variable_node_message([IA.cpt])\n",
    "\n",
    "# uo2sat_factor -> o2satffa\n",
    "to_o2satffa = inf_alg.factor_node_message(\n",
    "    [uo2sat_up, ia_right], uo2sat_factor, O2SatFFA.name\n",
    ")\n",
    "\n",
    "# O2SatFFA to O2SatFFA factor\n",
    "o2satffa_up = inf_alg.variable_node_message([to_o2satffa])\n",
    "assert (o2satffa_up == to_o2satffa).all()\n",
    "\n",
    "# HO2Sat to O2SatFFA factor\n",
    "ho2sat_down = inf_alg.variable_node_message([HO2Sat.cpt])\n",
    "\n",
    "# O2SatFFA factor to AR\n",
    "to_ar = inf_alg.factor_node_message(\n",
    "    [o2satffa_up, ho2sat_down], o2satffa_factor, AR.name\n",
    ")\n",
    "\n",
    "# AR -> ecfev1 factor\n",
    "ar_left = inf_alg.variable_node_message([AR.cpt, to_ar])\n",
    "\n",
    "# ecFEV1 -> ecfev1 factor\n",
    "ecfev1_obs_m = model.point_mass_message(ecFEV1.name, ecFEV1_idx)\n",
    "ecfev1_up = inf_alg.variable_node_message([ecfev1_obs_m])\n",
    "\n",
    "# ecfev1 -> hfev1\n",
    "to_hfev1 = inf_alg.factor_node_message(\n",
    "    [ecfev1_up, ar_left], model.get_factors()[1], var_to_infer\n",
    ")\n",
    "\n",
    "# hfev1 posterior\n",
    "hfev1_posterior = inf_alg.variable_node_message([to_hfev1, HFEV1.cpt])\n",
    "hfev1_posterior.shape"
   ]
  },
  {
   "cell_type": "code",
   "execution_count": 5,
   "metadata": {},
   "outputs": [
    {
     "name": "stderr",
     "output_type": "stream",
     "text": [
      "/Users/tristan.trebaol/Desktop/PhD/Code/pgmpy/pgmpy/factors/discrete/DiscreteFactor.py:796: RuntimeWarning: invalid value encountered in divide\n",
      "  phi.values = phi.values / phi1.values\n"
     ]
    },
    {
     "data": {
      "text/plain": [
       "(100,)"
      ]
     },
     "execution_count": 5,
     "metadata": {},
     "output_type": "execute_result"
    }
   ],
   "source": [
    "# Compare results against the bayes net model (factor graph model takes ages to compute)\n",
    "model1, inf_alg1, _, _, _, _, _, _, _, _ = mb.o2sat_fev1_point_in_time_model(\n",
    "    height, age, sex\n",
    ")\n",
    "res = ih.infer(inf_alg1, [HFEV1], [[ecFEV1, ecFEV1_obs], [O2Sat, o2sat_obs]])\n",
    "res[HFEV1.name].values.shape"
   ]
  },
  {
   "cell_type": "code",
   "execution_count": 6,
   "metadata": {},
   "outputs": [
    {
     "data": {
      "application/vnd.plotly.v1+json": {
       "config": {
        "plotlyServerURL": "https://plot.ly"
       },
       "data": [
        {
         "name": "Factor Graph",
         "type": "bar",
         "x": [
          1,
          1.05,
          1.1,
          1.1500000000000001,
          1.2000000000000002,
          1.2500000000000002,
          1.3000000000000003,
          1.3500000000000003,
          1.4000000000000004,
          1.4500000000000004,
          1.5000000000000004,
          1.5500000000000005,
          1.6000000000000005,
          1.6500000000000006,
          1.7000000000000006,
          1.7500000000000007,
          1.8000000000000007,
          1.8500000000000008,
          1.9000000000000008,
          1.9500000000000008,
          2.000000000000001,
          2.0500000000000007,
          2.100000000000001,
          2.1500000000000012,
          2.200000000000001,
          2.250000000000001,
          2.300000000000001,
          2.3500000000000014,
          2.4000000000000012,
          2.450000000000001,
          2.5000000000000013,
          2.5500000000000016,
          2.6000000000000014,
          2.6500000000000012,
          2.7000000000000015,
          2.7500000000000018,
          2.8000000000000016,
          2.8500000000000014,
          2.9000000000000017,
          2.950000000000002,
          3.0000000000000018,
          3.0500000000000016,
          3.100000000000002,
          3.150000000000002,
          3.200000000000002,
          3.2500000000000018,
          3.300000000000002,
          3.3500000000000023,
          3.400000000000002,
          3.450000000000002,
          3.500000000000002,
          3.5500000000000025,
          3.6000000000000023,
          3.650000000000002,
          3.7000000000000024,
          3.7500000000000027,
          3.8000000000000025,
          3.8500000000000023,
          3.9000000000000026,
          3.950000000000003,
          4.000000000000003,
          4.0500000000000025,
          4.100000000000003,
          4.150000000000003,
          4.200000000000003,
          4.250000000000003,
          4.3000000000000025,
          4.350000000000003,
          4.400000000000003,
          4.450000000000003,
          4.5000000000000036,
          4.550000000000003,
          4.600000000000003,
          4.650000000000003,
          4.700000000000003,
          4.7500000000000036,
          4.800000000000003,
          4.850000000000003,
          4.900000000000004,
          4.950000000000004,
          5.0000000000000036,
          5.050000000000003,
          5.100000000000003,
          5.150000000000004,
          5.200000000000004,
          5.2500000000000036,
          5.300000000000004,
          5.350000000000004,
          5.400000000000004,
          5.450000000000004,
          5.5000000000000036,
          5.550000000000004,
          5.600000000000004,
          5.650000000000004,
          5.700000000000005,
          5.750000000000004,
          5.800000000000004,
          5.850000000000004,
          5.900000000000004,
          5.950000000000005
         ],
         "y": [
          0.00004152732662294285,
          0.00011563726157245023,
          0.00016004455251306923,
          0.00022187341022251707,
          0.00030794611245897456,
          0.00042770903647983025,
          0.0005942083975962541,
          0.0008254103005931939,
          0.0011459774645738723,
          0.0015896474865303913,
          0.002176741026657319,
          0.0027592255878582535,
          0.0030316406120257616,
          0.002927830505395782,
          0.002649175595526988,
          0.0026539015410818887,
          0.003076846774010252,
          0.0037267572348135877,
          0.00457692802092455,
          0.005623416065081236,
          0.006894349750515293,
          0.00852461192097138,
          0.0103202410794778,
          0.01249903133196438,
          0.014735199568558097,
          0.017091920941515838,
          0.018951683984349113,
          0.02058410226029709,
          0.023667370610992767,
          0.027980634595090467,
          0.032819693045267,
          0.03819455977106456,
          0.04397588799336384,
          0.04902710186622514,
          0.05258084065393275,
          0.05613985729502679,
          0.05536729268728491,
          0.04843125055616555,
          0.040478943403452115,
          0.04258016460536943,
          0.042537238234793336,
          0.040798617191277656,
          0.04333774083784342,
          0.04018717608294124,
          0.03271825838018184,
          0.02278691062823424,
          0.022152112351819235,
          0.02086936597379926,
          0.01736791544995355,
          0.012604593209856152,
          0.010186952081800938,
          0.01066222906392876,
          0.008780576358750186,
          0.006162063790684124,
          0.003095329831026184,
          0.0014391877094987269,
          0.0014975394534953324,
          0.0013241236223779838,
          0.000959674469796805,
          0.0005735232937855814,
          0.0001875421287200562,
          0.0000690970783234955,
          0.00006774173442838897,
          0.00006228743046575893,
          0.000045737564488107204,
          0.00002929984749640756,
          0.000014242617429279308,
          0.000002425129715886811,
          8.047790195734328e-7,
          7.316330458254398e-7,
          6.571213182212913e-7,
          5.087277913918939e-7,
          3.3402309972579054e-7,
          1.9197879061306514e-7,
          8.053964737241481e-8,
          7.416951912141197e-9,
          0,
          0,
          0,
          0,
          0,
          0,
          0,
          0,
          0,
          0,
          0,
          0,
          0,
          0,
          0,
          0,
          0,
          0,
          0,
          0,
          0,
          0,
          0,
          0
         ]
        },
        {
         "name": "Bayes Net",
         "type": "bar",
         "x": [
          1,
          1.05,
          1.1,
          1.1500000000000001,
          1.2000000000000002,
          1.2500000000000002,
          1.3000000000000003,
          1.3500000000000003,
          1.4000000000000004,
          1.4500000000000004,
          1.5000000000000004,
          1.5500000000000005,
          1.6000000000000005,
          1.6500000000000006,
          1.7000000000000006,
          1.7500000000000007,
          1.8000000000000007,
          1.8500000000000008,
          1.9000000000000008,
          1.9500000000000008,
          2.000000000000001,
          2.0500000000000007,
          2.100000000000001,
          2.1500000000000012,
          2.200000000000001,
          2.250000000000001,
          2.300000000000001,
          2.3500000000000014,
          2.4000000000000012,
          2.450000000000001,
          2.5000000000000013,
          2.5500000000000016,
          2.6000000000000014,
          2.6500000000000012,
          2.7000000000000015,
          2.7500000000000018,
          2.8000000000000016,
          2.8500000000000014,
          2.9000000000000017,
          2.950000000000002,
          3.0000000000000018,
          3.0500000000000016,
          3.100000000000002,
          3.150000000000002,
          3.200000000000002,
          3.2500000000000018,
          3.300000000000002,
          3.3500000000000023,
          3.400000000000002,
          3.450000000000002,
          3.500000000000002,
          3.5500000000000025,
          3.6000000000000023,
          3.650000000000002,
          3.7000000000000024,
          3.7500000000000027,
          3.8000000000000025,
          3.8500000000000023,
          3.9000000000000026,
          3.950000000000003,
          4.000000000000003,
          4.0500000000000025,
          4.100000000000003,
          4.150000000000003,
          4.200000000000003,
          4.250000000000003,
          4.3000000000000025,
          4.350000000000003,
          4.400000000000003,
          4.450000000000003,
          4.5000000000000036,
          4.550000000000003,
          4.600000000000003,
          4.650000000000003,
          4.700000000000003,
          4.7500000000000036,
          4.800000000000003,
          4.850000000000003,
          4.900000000000004,
          4.950000000000004,
          5.0000000000000036,
          5.050000000000003,
          5.100000000000003,
          5.150000000000004,
          5.200000000000004,
          5.2500000000000036,
          5.300000000000004,
          5.350000000000004,
          5.400000000000004,
          5.450000000000004,
          5.5000000000000036,
          5.550000000000004,
          5.600000000000004,
          5.650000000000004,
          5.700000000000005,
          5.750000000000004,
          5.800000000000004,
          5.850000000000004,
          5.900000000000004,
          5.950000000000005
         ],
         "y": [
          0.00004152732662294287,
          0.00011563726157245025,
          0.0001600445525130693,
          0.0002218734102225171,
          0.00030794611245897466,
          0.00042770903647983035,
          0.0005942083975962542,
          0.0008254103005931943,
          0.0011459774645738727,
          0.0015896474865303924,
          0.0021767410266573194,
          0.0027592255878582535,
          0.003031640612025761,
          0.0029278305053957814,
          0.002649175595526988,
          0.0026539015410818882,
          0.0030768467740102533,
          0.003726757234813589,
          0.004576928020924552,
          0.005623416065081236,
          0.00689434975051529,
          0.008524611920971377,
          0.010320241079477798,
          0.012499031331964382,
          0.0147351995685581,
          0.01709192094151584,
          0.01895168398434911,
          0.020584102260297086,
          0.023667370610992756,
          0.027980634595090464,
          0.03281969304526701,
          0.03819455977106457,
          0.04397588799336386,
          0.04902710186622514,
          0.05258084065393275,
          0.056139857295026775,
          0.05536729268728488,
          0.04843125055616555,
          0.040478943403452115,
          0.042580164605369446,
          0.04253723823479335,
          0.040798617191277656,
          0.04333774083784341,
          0.040187176082941256,
          0.03271825838018184,
          0.022786910628234246,
          0.02215211235181924,
          0.020869365973799268,
          0.017367915449953555,
          0.012604593209856152,
          0.010186952081800937,
          0.01066222906392876,
          0.008780576358750186,
          0.006162063790684124,
          0.0030953298310261836,
          0.0014391877094987267,
          0.0014975394534953324,
          0.0013241236223779835,
          0.0009596744697968049,
          0.0005735232937855814,
          0.0001875421287200562,
          0.00006909707832349547,
          0.00006774173442838895,
          0.00006228743046575891,
          0.0000457375644881072,
          0.000029299847496407554,
          0.000014242617429279306,
          0.0000024251297158868107,
          8.047790195734325e-7,
          7.316330458254397e-7,
          6.571213182212912e-7,
          5.087277913918938e-7,
          3.3402309972579044e-7,
          1.9197879061306512e-7,
          8.053964737241479e-8,
          7.416951912141196e-9,
          0,
          0,
          0,
          0,
          0,
          0,
          0,
          0,
          0,
          0,
          0,
          0,
          0,
          0,
          0,
          0,
          0,
          0,
          0,
          0,
          0,
          0,
          0,
          0
         ]
        }
       ],
       "layout": {
        "barmode": "group",
        "height": 300,
        "template": {
         "data": {
          "bar": [
           {
            "error_x": {
             "color": "#2a3f5f"
            },
            "error_y": {
             "color": "#2a3f5f"
            },
            "marker": {
             "line": {
              "color": "#E5ECF6",
              "width": 0.5
             },
             "pattern": {
              "fillmode": "overlay",
              "size": 10,
              "solidity": 0.2
             }
            },
            "type": "bar"
           }
          ],
          "barpolar": [
           {
            "marker": {
             "line": {
              "color": "#E5ECF6",
              "width": 0.5
             },
             "pattern": {
              "fillmode": "overlay",
              "size": 10,
              "solidity": 0.2
             }
            },
            "type": "barpolar"
           }
          ],
          "carpet": [
           {
            "aaxis": {
             "endlinecolor": "#2a3f5f",
             "gridcolor": "white",
             "linecolor": "white",
             "minorgridcolor": "white",
             "startlinecolor": "#2a3f5f"
            },
            "baxis": {
             "endlinecolor": "#2a3f5f",
             "gridcolor": "white",
             "linecolor": "white",
             "minorgridcolor": "white",
             "startlinecolor": "#2a3f5f"
            },
            "type": "carpet"
           }
          ],
          "choropleth": [
           {
            "colorbar": {
             "outlinewidth": 0,
             "ticks": ""
            },
            "type": "choropleth"
           }
          ],
          "contour": [
           {
            "colorbar": {
             "outlinewidth": 0,
             "ticks": ""
            },
            "colorscale": [
             [
              0,
              "#0d0887"
             ],
             [
              0.1111111111111111,
              "#46039f"
             ],
             [
              0.2222222222222222,
              "#7201a8"
             ],
             [
              0.3333333333333333,
              "#9c179e"
             ],
             [
              0.4444444444444444,
              "#bd3786"
             ],
             [
              0.5555555555555556,
              "#d8576b"
             ],
             [
              0.6666666666666666,
              "#ed7953"
             ],
             [
              0.7777777777777778,
              "#fb9f3a"
             ],
             [
              0.8888888888888888,
              "#fdca26"
             ],
             [
              1,
              "#f0f921"
             ]
            ],
            "type": "contour"
           }
          ],
          "contourcarpet": [
           {
            "colorbar": {
             "outlinewidth": 0,
             "ticks": ""
            },
            "type": "contourcarpet"
           }
          ],
          "heatmap": [
           {
            "colorbar": {
             "outlinewidth": 0,
             "ticks": ""
            },
            "colorscale": [
             [
              0,
              "#0d0887"
             ],
             [
              0.1111111111111111,
              "#46039f"
             ],
             [
              0.2222222222222222,
              "#7201a8"
             ],
             [
              0.3333333333333333,
              "#9c179e"
             ],
             [
              0.4444444444444444,
              "#bd3786"
             ],
             [
              0.5555555555555556,
              "#d8576b"
             ],
             [
              0.6666666666666666,
              "#ed7953"
             ],
             [
              0.7777777777777778,
              "#fb9f3a"
             ],
             [
              0.8888888888888888,
              "#fdca26"
             ],
             [
              1,
              "#f0f921"
             ]
            ],
            "type": "heatmap"
           }
          ],
          "heatmapgl": [
           {
            "colorbar": {
             "outlinewidth": 0,
             "ticks": ""
            },
            "colorscale": [
             [
              0,
              "#0d0887"
             ],
             [
              0.1111111111111111,
              "#46039f"
             ],
             [
              0.2222222222222222,
              "#7201a8"
             ],
             [
              0.3333333333333333,
              "#9c179e"
             ],
             [
              0.4444444444444444,
              "#bd3786"
             ],
             [
              0.5555555555555556,
              "#d8576b"
             ],
             [
              0.6666666666666666,
              "#ed7953"
             ],
             [
              0.7777777777777778,
              "#fb9f3a"
             ],
             [
              0.8888888888888888,
              "#fdca26"
             ],
             [
              1,
              "#f0f921"
             ]
            ],
            "type": "heatmapgl"
           }
          ],
          "histogram": [
           {
            "marker": {
             "pattern": {
              "fillmode": "overlay",
              "size": 10,
              "solidity": 0.2
             }
            },
            "type": "histogram"
           }
          ],
          "histogram2d": [
           {
            "colorbar": {
             "outlinewidth": 0,
             "ticks": ""
            },
            "colorscale": [
             [
              0,
              "#0d0887"
             ],
             [
              0.1111111111111111,
              "#46039f"
             ],
             [
              0.2222222222222222,
              "#7201a8"
             ],
             [
              0.3333333333333333,
              "#9c179e"
             ],
             [
              0.4444444444444444,
              "#bd3786"
             ],
             [
              0.5555555555555556,
              "#d8576b"
             ],
             [
              0.6666666666666666,
              "#ed7953"
             ],
             [
              0.7777777777777778,
              "#fb9f3a"
             ],
             [
              0.8888888888888888,
              "#fdca26"
             ],
             [
              1,
              "#f0f921"
             ]
            ],
            "type": "histogram2d"
           }
          ],
          "histogram2dcontour": [
           {
            "colorbar": {
             "outlinewidth": 0,
             "ticks": ""
            },
            "colorscale": [
             [
              0,
              "#0d0887"
             ],
             [
              0.1111111111111111,
              "#46039f"
             ],
             [
              0.2222222222222222,
              "#7201a8"
             ],
             [
              0.3333333333333333,
              "#9c179e"
             ],
             [
              0.4444444444444444,
              "#bd3786"
             ],
             [
              0.5555555555555556,
              "#d8576b"
             ],
             [
              0.6666666666666666,
              "#ed7953"
             ],
             [
              0.7777777777777778,
              "#fb9f3a"
             ],
             [
              0.8888888888888888,
              "#fdca26"
             ],
             [
              1,
              "#f0f921"
             ]
            ],
            "type": "histogram2dcontour"
           }
          ],
          "mesh3d": [
           {
            "colorbar": {
             "outlinewidth": 0,
             "ticks": ""
            },
            "type": "mesh3d"
           }
          ],
          "parcoords": [
           {
            "line": {
             "colorbar": {
              "outlinewidth": 0,
              "ticks": ""
             }
            },
            "type": "parcoords"
           }
          ],
          "pie": [
           {
            "automargin": true,
            "type": "pie"
           }
          ],
          "scatter": [
           {
            "fillpattern": {
             "fillmode": "overlay",
             "size": 10,
             "solidity": 0.2
            },
            "type": "scatter"
           }
          ],
          "scatter3d": [
           {
            "line": {
             "colorbar": {
              "outlinewidth": 0,
              "ticks": ""
             }
            },
            "marker": {
             "colorbar": {
              "outlinewidth": 0,
              "ticks": ""
             }
            },
            "type": "scatter3d"
           }
          ],
          "scattercarpet": [
           {
            "marker": {
             "colorbar": {
              "outlinewidth": 0,
              "ticks": ""
             }
            },
            "type": "scattercarpet"
           }
          ],
          "scattergeo": [
           {
            "marker": {
             "colorbar": {
              "outlinewidth": 0,
              "ticks": ""
             }
            },
            "type": "scattergeo"
           }
          ],
          "scattergl": [
           {
            "marker": {
             "colorbar": {
              "outlinewidth": 0,
              "ticks": ""
             }
            },
            "type": "scattergl"
           }
          ],
          "scattermapbox": [
           {
            "marker": {
             "colorbar": {
              "outlinewidth": 0,
              "ticks": ""
             }
            },
            "type": "scattermapbox"
           }
          ],
          "scatterpolar": [
           {
            "marker": {
             "colorbar": {
              "outlinewidth": 0,
              "ticks": ""
             }
            },
            "type": "scatterpolar"
           }
          ],
          "scatterpolargl": [
           {
            "marker": {
             "colorbar": {
              "outlinewidth": 0,
              "ticks": ""
             }
            },
            "type": "scatterpolargl"
           }
          ],
          "scatterternary": [
           {
            "marker": {
             "colorbar": {
              "outlinewidth": 0,
              "ticks": ""
             }
            },
            "type": "scatterternary"
           }
          ],
          "surface": [
           {
            "colorbar": {
             "outlinewidth": 0,
             "ticks": ""
            },
            "colorscale": [
             [
              0,
              "#0d0887"
             ],
             [
              0.1111111111111111,
              "#46039f"
             ],
             [
              0.2222222222222222,
              "#7201a8"
             ],
             [
              0.3333333333333333,
              "#9c179e"
             ],
             [
              0.4444444444444444,
              "#bd3786"
             ],
             [
              0.5555555555555556,
              "#d8576b"
             ],
             [
              0.6666666666666666,
              "#ed7953"
             ],
             [
              0.7777777777777778,
              "#fb9f3a"
             ],
             [
              0.8888888888888888,
              "#fdca26"
             ],
             [
              1,
              "#f0f921"
             ]
            ],
            "type": "surface"
           }
          ],
          "table": [
           {
            "cells": {
             "fill": {
              "color": "#EBF0F8"
             },
             "line": {
              "color": "white"
             }
            },
            "header": {
             "fill": {
              "color": "#C8D4E3"
             },
             "line": {
              "color": "white"
             }
            },
            "type": "table"
           }
          ]
         },
         "layout": {
          "annotationdefaults": {
           "arrowcolor": "#2a3f5f",
           "arrowhead": 0,
           "arrowwidth": 1
          },
          "autotypenumbers": "strict",
          "coloraxis": {
           "colorbar": {
            "outlinewidth": 0,
            "ticks": ""
           }
          },
          "colorscale": {
           "diverging": [
            [
             0,
             "#8e0152"
            ],
            [
             0.1,
             "#c51b7d"
            ],
            [
             0.2,
             "#de77ae"
            ],
            [
             0.3,
             "#f1b6da"
            ],
            [
             0.4,
             "#fde0ef"
            ],
            [
             0.5,
             "#f7f7f7"
            ],
            [
             0.6,
             "#e6f5d0"
            ],
            [
             0.7,
             "#b8e186"
            ],
            [
             0.8,
             "#7fbc41"
            ],
            [
             0.9,
             "#4d9221"
            ],
            [
             1,
             "#276419"
            ]
           ],
           "sequential": [
            [
             0,
             "#0d0887"
            ],
            [
             0.1111111111111111,
             "#46039f"
            ],
            [
             0.2222222222222222,
             "#7201a8"
            ],
            [
             0.3333333333333333,
             "#9c179e"
            ],
            [
             0.4444444444444444,
             "#bd3786"
            ],
            [
             0.5555555555555556,
             "#d8576b"
            ],
            [
             0.6666666666666666,
             "#ed7953"
            ],
            [
             0.7777777777777778,
             "#fb9f3a"
            ],
            [
             0.8888888888888888,
             "#fdca26"
            ],
            [
             1,
             "#f0f921"
            ]
           ],
           "sequentialminus": [
            [
             0,
             "#0d0887"
            ],
            [
             0.1111111111111111,
             "#46039f"
            ],
            [
             0.2222222222222222,
             "#7201a8"
            ],
            [
             0.3333333333333333,
             "#9c179e"
            ],
            [
             0.4444444444444444,
             "#bd3786"
            ],
            [
             0.5555555555555556,
             "#d8576b"
            ],
            [
             0.6666666666666666,
             "#ed7953"
            ],
            [
             0.7777777777777778,
             "#fb9f3a"
            ],
            [
             0.8888888888888888,
             "#fdca26"
            ],
            [
             1,
             "#f0f921"
            ]
           ]
          },
          "colorway": [
           "#636efa",
           "#EF553B",
           "#00cc96",
           "#ab63fa",
           "#FFA15A",
           "#19d3f3",
           "#FF6692",
           "#B6E880",
           "#FF97FF",
           "#FECB52"
          ],
          "font": {
           "color": "#2a3f5f"
          },
          "geo": {
           "bgcolor": "white",
           "lakecolor": "white",
           "landcolor": "#E5ECF6",
           "showlakes": true,
           "showland": true,
           "subunitcolor": "white"
          },
          "hoverlabel": {
           "align": "left"
          },
          "hovermode": "closest",
          "mapbox": {
           "style": "light"
          },
          "paper_bgcolor": "white",
          "plot_bgcolor": "#E5ECF6",
          "polar": {
           "angularaxis": {
            "gridcolor": "white",
            "linecolor": "white",
            "ticks": ""
           },
           "bgcolor": "#E5ECF6",
           "radialaxis": {
            "gridcolor": "white",
            "linecolor": "white",
            "ticks": ""
           }
          },
          "scene": {
           "xaxis": {
            "backgroundcolor": "#E5ECF6",
            "gridcolor": "white",
            "gridwidth": 2,
            "linecolor": "white",
            "showbackground": true,
            "ticks": "",
            "zerolinecolor": "white"
           },
           "yaxis": {
            "backgroundcolor": "#E5ECF6",
            "gridcolor": "white",
            "gridwidth": 2,
            "linecolor": "white",
            "showbackground": true,
            "ticks": "",
            "zerolinecolor": "white"
           },
           "zaxis": {
            "backgroundcolor": "#E5ECF6",
            "gridcolor": "white",
            "gridwidth": 2,
            "linecolor": "white",
            "showbackground": true,
            "ticks": "",
            "zerolinecolor": "white"
           }
          },
          "shapedefaults": {
           "line": {
            "color": "#2a3f5f"
           }
          },
          "ternary": {
           "aaxis": {
            "gridcolor": "white",
            "linecolor": "white",
            "ticks": ""
           },
           "baxis": {
            "gridcolor": "white",
            "linecolor": "white",
            "ticks": ""
           },
           "bgcolor": "#E5ECF6",
           "caxis": {
            "gridcolor": "white",
            "linecolor": "white",
            "ticks": ""
           }
          },
          "title": {
           "x": 0.05
          },
          "xaxis": {
           "automargin": true,
           "gridcolor": "white",
           "linecolor": "white",
           "ticks": "",
           "title": {
            "standoff": 15
           },
           "zerolinecolor": "white",
           "zerolinewidth": 2
          },
          "yaxis": {
           "automargin": true,
           "gridcolor": "white",
           "linecolor": "white",
           "ticks": "",
           "title": {
            "standoff": 15
           },
           "zerolinecolor": "white",
           "zerolinewidth": 2
          }
         }
        },
        "title": {
         "text": "Comparison of HFEV1 posteriors"
        },
        "width": 800
       }
      }
     },
     "metadata": {},
     "output_type": "display_data"
    }
   ],
   "source": [
    "((hfev1_posterior - res[HFEV1.name].values) < 1e-5).all()\n",
    "# Plot the two posteriors with plotly go figure\n",
    "import plotly.graph_objs as go\n",
    "\n",
    "fig = go.Figure()\n",
    "# Add bar plot for the factor graph model\n",
    "fig.add_trace(go.Bar(x=HFEV1.bins, y=hfev1_posterior, name=\"Factor Graph\"))\n",
    "fig.add_trace(go.Bar(x=HFEV1.bins, y=res[HFEV1.name].values, name=\"Bayes Net\"))\n",
    "# Update layout\n",
    "fig.update_layout(\n",
    "    barmode=\"group\", title=\"Comparison of HFEV1 posteriors\", width=800, height=300\n",
    ")\n",
    "fig.show()"
   ]
  }
 ],
 "metadata": {
  "kernelspec": {
   "display_name": "phd",
   "language": "python",
   "name": "python3"
  },
  "language_info": {
   "codemirror_mode": {
    "name": "ipython",
    "version": 3
   },
   "file_extension": ".py",
   "mimetype": "text/x-python",
   "name": "python",
   "nbconvert_exporter": "python",
   "pygments_lexer": "ipython3",
   "version": "3.10.13"
  }
 },
 "nbformat": 4,
 "nbformat_minor": 2
}
