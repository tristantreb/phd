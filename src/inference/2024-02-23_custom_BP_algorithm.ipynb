{
 "cells": [
  {
   "cell_type": "markdown",
   "metadata": {},
   "source": [
    "I've used this notebook to derive the BP algorithm on top of the PGMPY library, whose BP isn't a real BP algorithm"
   ]
  },
  {
   "cell_type": "code",
   "execution_count": 42,
   "metadata": {},
   "outputs": [],
   "source": [
    "import src.models.builders as mb\n",
    "import src.inference.helpers as ih"
   ]
  },
  {
   "cell_type": "code",
   "execution_count": 43,
   "metadata": {},
   "outputs": [
    {
     "name": "stdout",
     "output_type": "stream",
     "text": [
      "buidling custom model (work in progress)\n"
     ]
    }
   ],
   "source": [
    "# Create factor graph\n",
    "height = 170\n",
    "age = 30\n",
    "sex = \"Male\"\n",
    "model, inf_alg, HFEV1, ecFEV1, AR, HO2Sat, O2SatFFA, IA, UO2Sat, O2Sat = (\n",
    "    mb.o2sat_fev1_point_in_time_model_2(height, age, sex)\n",
    ")"
   ]
  },
  {
   "cell_type": "markdown",
   "metadata": {},
   "source": [
    "# BP message computation"
   ]
  },
  {
   "cell_type": "markdown",
   "metadata": {},
   "source": [
    "Add this to the FactorGraph library\n",
    "\n",
    "def point_mass_message(self, var, obs):\n",
    "    \"\"\"\n",
    "    Returns the point mass message for the variable given the observed state.\n",
    "    \"\"\"\n",
    "    card = self.get_cardinality(var)\n",
    "    # Create an array with 1 at the index of the evidence and 0 elsewhere\n",
    "    message = np.zeros(card)\n",
    "    message[obs] = 1\n",
    "    return message"
   ]
  },
  {
   "cell_type": "code",
   "execution_count": 44,
   "metadata": {},
   "outputs": [],
   "source": [
    "# Functions moved to the custom BP algorithm\n",
    "# def variable_node_message(incoming_messages):\n",
    "#     \"\"\"\n",
    "#     The outgoing message is the element wise product of all incoming messages\n",
    "#     \"\"\"\n",
    "#     if len(incoming_messages) == 1:\n",
    "#         return incoming_messages[0]\n",
    "#     outgoing_message = np.multiply(*incoming_messages)\n",
    "#     # Normalise\n",
    "#     return outgoing_message / np.sum(outgoing_message)\n",
    "\n",
    "\n",
    "# def factor_node_message(incoming_messages, factor, target_var):\n",
    "#     \"\"\"\n",
    "#     Returns the outgoing message for a factor node, which is the multiplication of the incoming messages with the factor function (CPT)\n",
    "\n",
    "#     The variables' order in the incoming messages list must match the variable's order in the CPT's dimensions\n",
    "#     \"\"\"\n",
    "#     cpt = factor.values\n",
    "#     vars = factor.variables\n",
    "\n",
    "#     assert (\n",
    "#         len(incoming_messages) == cpt.ndim - 1\n",
    "#     ), f\"Error computing factor node message for {target_var}. The number of incoming messages must equal the card(CPT) - 1\"\n",
    "\n",
    "#     # Ensure that the target var is on the CPT's 0th axis\n",
    "#     # Find idx of target var in the vars list\n",
    "#     target_var_idx = vars.index(target_var)\n",
    "#     if target_var_idx != 0:\n",
    "#         # Move target var to the 0th axis\n",
    "#         cpt = np.moveaxis(cpt, target_var_idx, 0)\n",
    "\n",
    "#     # Invert incoming_messages, so that the first message corresponds to the last dimension of the CPT\n",
    "#     incoming_messages = list(reversed(incoming_messages))\n",
    "\n",
    "#     # Reduce the CPT with the inverted list of incoming messages\n",
    "#     outgoing_message = reduce(\n",
    "#         lambda cpt_reduced, m: np.matmul(cpt_reduced, m), incoming_messages, cpt\n",
    "#     )\n",
    "\n",
    "#     # Normalise\n",
    "#     return outgoing_message / sum(outgoing_message)"
   ]
  },
  {
   "cell_type": "code",
   "execution_count": 45,
   "metadata": {},
   "outputs": [
    {
     "data": {
      "text/plain": [
       "(100,)"
      ]
     },
     "execution_count": 45,
     "metadata": {},
     "output_type": "execute_result"
    }
   ],
   "source": [
    "# Test implementation\n",
    "var_to_infer = \"Healthy FEV1 (L)\"\n",
    "\n",
    "ecFEV1_obs = 1\n",
    "ecFEV1_idx = ecFEV1.get_bin_for_value(ecFEV1_obs)[1]\n",
    "\n",
    "o2sat_obs = 100\n",
    "o2sat_idx = O2Sat.get_bin_for_value(o2sat_obs)[1]\n",
    "\n",
    "hfev1_factor = model.get_factors()[0]\n",
    "ecfev1_factor = model.get_factors()[1]\n",
    "ar_factor = model.get_factors()[2]\n",
    "ho2sat_factor = model.get_factors()[3]\n",
    "o2satffa_factor = model.get_factors()[4]\n",
    "ia_factor = model.get_factors()[5]\n",
    "uo2sat_factor = model.get_factors()[6]\n",
    "o2sat_factor = model.get_factors()[7]\n",
    "\n",
    "# O2sat -> O2sat factor\n",
    "o2sat_obs_m = model.point_mass_message(O2Sat.name, o2sat_idx)\n",
    "o2sat_up = inf_alg.variable_node_message([o2sat_obs_m])\n",
    "\n",
    "# Only one message comes to UO2Sat\n",
    "to_uo2sat = inf_alg.factor_node_message([o2sat_up], o2sat_factor, UO2Sat.name)\n",
    "# Only one message incoming UO2Sat, hence\n",
    "uo2sat_up = inf_alg.variable_node_message([to_uo2sat])\n",
    "assert (uo2sat_up == to_uo2sat).all()\n",
    "\n",
    "# IA -> O2Sat factor\n",
    "ia_right = inf_alg.variable_node_message([IA.cpt])\n",
    "\n",
    "# uo2sat_factor -> o2satffa\n",
    "to_o2satffa = inf_alg.factor_node_message(\n",
    "    [uo2sat_up, ia_right], uo2sat_factor, O2SatFFA.name\n",
    ")\n",
    "\n",
    "# O2SatFFA to O2SatFFA factor\n",
    "o2satffa_up = inf_alg.variable_node_message([to_o2satffa])\n",
    "assert (o2satffa_up == to_o2satffa).all()\n",
    "\n",
    "# HO2Sat to O2SatFFA factor\n",
    "ho2sat_down = inf_alg.variable_node_message([HO2Sat.cpt])\n",
    "\n",
    "# O2SatFFA factor to AR\n",
    "to_ar = inf_alg.factor_node_message(\n",
    "    [o2satffa_up, ho2sat_down], o2satffa_factor, AR.name\n",
    ")\n",
    "\n",
    "# AR -> ecfev1 factor\n",
    "ar_left = inf_alg.variable_node_message([AR.cpt, to_ar])\n",
    "\n",
    "# ecFEV1 -> ecfev1 factor\n",
    "ecfev1_obs_m = model.point_mass_message(ecFEV1.name, ecFEV1_idx)\n",
    "ecfev1_up = inf_alg.variable_node_message([ecfev1_obs_m])\n",
    "\n",
    "# ecfev1 -> hfev1\n",
    "to_hfev1 = inf_alg.factor_node_message(\n",
    "    [ecfev1_up, ar_left], model.get_factors()[1], var_to_infer\n",
    ")\n",
    "\n",
    "# hfev1 posterior\n",
    "hfev1_posterior = inf_alg.variable_node_message([to_hfev1, HFEV1.cpt])\n",
    "hfev1_posterior.shape"
   ]
  },
  {
   "cell_type": "code",
   "execution_count": 52,
   "metadata": {},
   "outputs": [
    {
     "data": {
      "application/vnd.plotly.v1+json": {
       "config": {
        "plotlyServerURL": "https://plot.ly"
       },
       "data": [
        {
         "name": "Factor Graph with custom<br>BP computation",
         "type": "bar",
         "x": [
          1,
          1.05,
          1.1,
          1.1500000000000001,
          1.2000000000000002,
          1.2500000000000002,
          1.3000000000000003,
          1.3500000000000003,
          1.4000000000000004,
          1.4500000000000004,
          1.5000000000000004,
          1.5500000000000005,
          1.6000000000000005,
          1.6500000000000006,
          1.7000000000000006,
          1.7500000000000007,
          1.8000000000000007,
          1.8500000000000008,
          1.9000000000000008,
          1.9500000000000008,
          2.000000000000001,
          2.0500000000000007,
          2.100000000000001,
          2.1500000000000012,
          2.200000000000001,
          2.250000000000001,
          2.300000000000001,
          2.3500000000000014,
          2.4000000000000012,
          2.450000000000001,
          2.5000000000000013,
          2.5500000000000016,
          2.6000000000000014,
          2.6500000000000012,
          2.7000000000000015,
          2.7500000000000018,
          2.8000000000000016,
          2.8500000000000014,
          2.9000000000000017,
          2.950000000000002,
          3.0000000000000018,
          3.0500000000000016,
          3.100000000000002,
          3.150000000000002,
          3.200000000000002,
          3.2500000000000018,
          3.300000000000002,
          3.3500000000000023,
          3.400000000000002,
          3.450000000000002,
          3.500000000000002,
          3.5500000000000025,
          3.6000000000000023,
          3.650000000000002,
          3.7000000000000024,
          3.7500000000000027,
          3.8000000000000025,
          3.8500000000000023,
          3.9000000000000026,
          3.950000000000003,
          4.000000000000003,
          4.0500000000000025,
          4.100000000000003,
          4.150000000000003,
          4.200000000000003,
          4.250000000000003,
          4.3000000000000025,
          4.350000000000003,
          4.400000000000003,
          4.450000000000003,
          4.5000000000000036,
          4.550000000000003,
          4.600000000000003,
          4.650000000000003,
          4.700000000000003,
          4.7500000000000036,
          4.800000000000003,
          4.850000000000003,
          4.900000000000004,
          4.950000000000004,
          5.0000000000000036,
          5.050000000000003,
          5.100000000000003,
          5.150000000000004,
          5.200000000000004,
          5.2500000000000036,
          5.300000000000004,
          5.350000000000004,
          5.400000000000004,
          5.450000000000004,
          5.5000000000000036,
          5.550000000000004,
          5.600000000000004,
          5.650000000000004,
          5.700000000000005,
          5.750000000000004,
          5.800000000000004,
          5.850000000000004,
          5.900000000000004,
          5.950000000000005
         ],
         "y": [
          0.00004152732662294285,
          0.00011563726157245023,
          0.00016004455251306923,
          0.00022187341022251707,
          0.00030794611245897456,
          0.00042770903647983025,
          0.0005942083975962541,
          0.0008254103005931939,
          0.0011459774645738723,
          0.0015896474865303913,
          0.002176741026657319,
          0.0027592255878582535,
          0.0030316406120257616,
          0.002927830505395782,
          0.002649175595526988,
          0.0026539015410818887,
          0.003076846774010252,
          0.0037267572348135877,
          0.00457692802092455,
          0.005623416065081236,
          0.006894349750515293,
          0.00852461192097138,
          0.0103202410794778,
          0.01249903133196438,
          0.014735199568558097,
          0.017091920941515838,
          0.018951683984349113,
          0.02058410226029709,
          0.023667370610992767,
          0.027980634595090467,
          0.032819693045267,
          0.03819455977106456,
          0.04397588799336384,
          0.04902710186622514,
          0.05258084065393275,
          0.05613985729502679,
          0.05536729268728491,
          0.04843125055616555,
          0.040478943403452115,
          0.04258016460536943,
          0.042537238234793336,
          0.040798617191277656,
          0.04333774083784342,
          0.04018717608294124,
          0.03271825838018184,
          0.02278691062823424,
          0.022152112351819235,
          0.02086936597379926,
          0.01736791544995355,
          0.012604593209856152,
          0.010186952081800938,
          0.01066222906392876,
          0.008780576358750186,
          0.006162063790684124,
          0.003095329831026184,
          0.0014391877094987269,
          0.0014975394534953324,
          0.0013241236223779838,
          0.000959674469796805,
          0.0005735232937855814,
          0.0001875421287200562,
          0.0000690970783234955,
          0.00006774173442838897,
          0.00006228743046575893,
          0.000045737564488107204,
          0.00002929984749640756,
          0.000014242617429279308,
          0.000002425129715886811,
          8.047790195734328e-7,
          7.316330458254398e-7,
          6.571213182212913e-7,
          5.087277913918939e-7,
          3.3402309972579054e-7,
          1.9197879061306514e-7,
          8.053964737241481e-8,
          7.416951912141197e-9,
          0,
          0,
          0,
          0,
          0,
          0,
          0,
          0,
          0,
          0,
          0,
          0,
          0,
          0,
          0,
          0,
          0,
          0,
          0,
          0,
          0,
          0,
          0,
          0
         ]
        },
        {
         "name": "Bayes Net",
         "type": "bar",
         "x": [
          1,
          1.05,
          1.1,
          1.1500000000000001,
          1.2000000000000002,
          1.2500000000000002,
          1.3000000000000003,
          1.3500000000000003,
          1.4000000000000004,
          1.4500000000000004,
          1.5000000000000004,
          1.5500000000000005,
          1.6000000000000005,
          1.6500000000000006,
          1.7000000000000006,
          1.7500000000000007,
          1.8000000000000007,
          1.8500000000000008,
          1.9000000000000008,
          1.9500000000000008,
          2.000000000000001,
          2.0500000000000007,
          2.100000000000001,
          2.1500000000000012,
          2.200000000000001,
          2.250000000000001,
          2.300000000000001,
          2.3500000000000014,
          2.4000000000000012,
          2.450000000000001,
          2.5000000000000013,
          2.5500000000000016,
          2.6000000000000014,
          2.6500000000000012,
          2.7000000000000015,
          2.7500000000000018,
          2.8000000000000016,
          2.8500000000000014,
          2.9000000000000017,
          2.950000000000002,
          3.0000000000000018,
          3.0500000000000016,
          3.100000000000002,
          3.150000000000002,
          3.200000000000002,
          3.2500000000000018,
          3.300000000000002,
          3.3500000000000023,
          3.400000000000002,
          3.450000000000002,
          3.500000000000002,
          3.5500000000000025,
          3.6000000000000023,
          3.650000000000002,
          3.7000000000000024,
          3.7500000000000027,
          3.8000000000000025,
          3.8500000000000023,
          3.9000000000000026,
          3.950000000000003,
          4.000000000000003,
          4.0500000000000025,
          4.100000000000003,
          4.150000000000003,
          4.200000000000003,
          4.250000000000003,
          4.3000000000000025,
          4.350000000000003,
          4.400000000000003,
          4.450000000000003,
          4.5000000000000036,
          4.550000000000003,
          4.600000000000003,
          4.650000000000003,
          4.700000000000003,
          4.7500000000000036,
          4.800000000000003,
          4.850000000000003,
          4.900000000000004,
          4.950000000000004,
          5.0000000000000036,
          5.050000000000003,
          5.100000000000003,
          5.150000000000004,
          5.200000000000004,
          5.2500000000000036,
          5.300000000000004,
          5.350000000000004,
          5.400000000000004,
          5.450000000000004,
          5.5000000000000036,
          5.550000000000004,
          5.600000000000004,
          5.650000000000004,
          5.700000000000005,
          5.750000000000004,
          5.800000000000004,
          5.850000000000004,
          5.900000000000004,
          5.950000000000005
         ],
         "y": [
          0.000041527326622942875,
          0.00011563726157245028,
          0.00016004455251306926,
          0.00022187341022251712,
          0.0003079461124589747,
          0.0004277090364798304,
          0.0005942083975962544,
          0.0008254103005931945,
          0.001145977464573873,
          0.0015896474865303922,
          0.0021767410266573194,
          0.002759225587858254,
          0.0030316406120257616,
          0.002927830505395782,
          0.0026491755955269885,
          0.0026539015410818887,
          0.0030768467740102537,
          0.0037267572348135894,
          0.004576928020924553,
          0.005623416065081237,
          0.006894349750515291,
          0.008524611920971379,
          0.0103202410794778,
          0.012499031331964382,
          0.0147351995685581,
          0.017091920941515844,
          0.018951683984349113,
          0.020584102260297096,
          0.023667370610992763,
          0.027980634595090474,
          0.032819693045267016,
          0.03819455977106457,
          0.04397588799336385,
          0.04902710186622512,
          0.052580840653932745,
          0.05613985729502679,
          0.055367292687284894,
          0.04843125055616556,
          0.040478943403452115,
          0.042580164605369446,
          0.042537238234793356,
          0.040798617191277656,
          0.04333774083784341,
          0.04018717608294125,
          0.03271825838018183,
          0.022786910628234246,
          0.022152112351819235,
          0.020869365973799264,
          0.01736791544995355,
          0.012604593209856154,
          0.010186952081800938,
          0.010662229063928762,
          0.008780576358750186,
          0.006162063790684125,
          0.003095329831026184,
          0.0014391877094987267,
          0.0014975394534953322,
          0.0013241236223779835,
          0.0009596744697968049,
          0.0005735232937855814,
          0.00018754212872005622,
          0.0000690970783234955,
          0.00006774173442838897,
          0.00006228743046575894,
          0.000045737564488107204,
          0.00002929984749640756,
          0.00001424261742927931,
          0.000002425129715886811,
          8.047790195734328e-7,
          7.316330458254398e-7,
          6.571213182212914e-7,
          5.087277913918939e-7,
          3.340230997257905e-7,
          1.9197879061306514e-7,
          8.053964737241481e-8,
          7.416951912141197e-9,
          0,
          0,
          0,
          0,
          0,
          0,
          0,
          0,
          0,
          0,
          0,
          0,
          0,
          0,
          0,
          0,
          0,
          0,
          0,
          0,
          0,
          0,
          0,
          0
         ]
        }
       ],
       "layout": {
        "barmode": "group",
        "height": 300,
        "template": {
         "data": {
          "bar": [
           {
            "error_x": {
             "color": "#2a3f5f"
            },
            "error_y": {
             "color": "#2a3f5f"
            },
            "marker": {
             "line": {
              "color": "#E5ECF6",
              "width": 0.5
             },
             "pattern": {
              "fillmode": "overlay",
              "size": 10,
              "solidity": 0.2
             }
            },
            "type": "bar"
           }
          ],
          "barpolar": [
           {
            "marker": {
             "line": {
              "color": "#E5ECF6",
              "width": 0.5
             },
             "pattern": {
              "fillmode": "overlay",
              "size": 10,
              "solidity": 0.2
             }
            },
            "type": "barpolar"
           }
          ],
          "carpet": [
           {
            "aaxis": {
             "endlinecolor": "#2a3f5f",
             "gridcolor": "white",
             "linecolor": "white",
             "minorgridcolor": "white",
             "startlinecolor": "#2a3f5f"
            },
            "baxis": {
             "endlinecolor": "#2a3f5f",
             "gridcolor": "white",
             "linecolor": "white",
             "minorgridcolor": "white",
             "startlinecolor": "#2a3f5f"
            },
            "type": "carpet"
           }
          ],
          "choropleth": [
           {
            "colorbar": {
             "outlinewidth": 0,
             "ticks": ""
            },
            "type": "choropleth"
           }
          ],
          "contour": [
           {
            "colorbar": {
             "outlinewidth": 0,
             "ticks": ""
            },
            "colorscale": [
             [
              0,
              "#0d0887"
             ],
             [
              0.1111111111111111,
              "#46039f"
             ],
             [
              0.2222222222222222,
              "#7201a8"
             ],
             [
              0.3333333333333333,
              "#9c179e"
             ],
             [
              0.4444444444444444,
              "#bd3786"
             ],
             [
              0.5555555555555556,
              "#d8576b"
             ],
             [
              0.6666666666666666,
              "#ed7953"
             ],
             [
              0.7777777777777778,
              "#fb9f3a"
             ],
             [
              0.8888888888888888,
              "#fdca26"
             ],
             [
              1,
              "#f0f921"
             ]
            ],
            "type": "contour"
           }
          ],
          "contourcarpet": [
           {
            "colorbar": {
             "outlinewidth": 0,
             "ticks": ""
            },
            "type": "contourcarpet"
           }
          ],
          "heatmap": [
           {
            "colorbar": {
             "outlinewidth": 0,
             "ticks": ""
            },
            "colorscale": [
             [
              0,
              "#0d0887"
             ],
             [
              0.1111111111111111,
              "#46039f"
             ],
             [
              0.2222222222222222,
              "#7201a8"
             ],
             [
              0.3333333333333333,
              "#9c179e"
             ],
             [
              0.4444444444444444,
              "#bd3786"
             ],
             [
              0.5555555555555556,
              "#d8576b"
             ],
             [
              0.6666666666666666,
              "#ed7953"
             ],
             [
              0.7777777777777778,
              "#fb9f3a"
             ],
             [
              0.8888888888888888,
              "#fdca26"
             ],
             [
              1,
              "#f0f921"
             ]
            ],
            "type": "heatmap"
           }
          ],
          "heatmapgl": [
           {
            "colorbar": {
             "outlinewidth": 0,
             "ticks": ""
            },
            "colorscale": [
             [
              0,
              "#0d0887"
             ],
             [
              0.1111111111111111,
              "#46039f"
             ],
             [
              0.2222222222222222,
              "#7201a8"
             ],
             [
              0.3333333333333333,
              "#9c179e"
             ],
             [
              0.4444444444444444,
              "#bd3786"
             ],
             [
              0.5555555555555556,
              "#d8576b"
             ],
             [
              0.6666666666666666,
              "#ed7953"
             ],
             [
              0.7777777777777778,
              "#fb9f3a"
             ],
             [
              0.8888888888888888,
              "#fdca26"
             ],
             [
              1,
              "#f0f921"
             ]
            ],
            "type": "heatmapgl"
           }
          ],
          "histogram": [
           {
            "marker": {
             "pattern": {
              "fillmode": "overlay",
              "size": 10,
              "solidity": 0.2
             }
            },
            "type": "histogram"
           }
          ],
          "histogram2d": [
           {
            "colorbar": {
             "outlinewidth": 0,
             "ticks": ""
            },
            "colorscale": [
             [
              0,
              "#0d0887"
             ],
             [
              0.1111111111111111,
              "#46039f"
             ],
             [
              0.2222222222222222,
              "#7201a8"
             ],
             [
              0.3333333333333333,
              "#9c179e"
             ],
             [
              0.4444444444444444,
              "#bd3786"
             ],
             [
              0.5555555555555556,
              "#d8576b"
             ],
             [
              0.6666666666666666,
              "#ed7953"
             ],
             [
              0.7777777777777778,
              "#fb9f3a"
             ],
             [
              0.8888888888888888,
              "#fdca26"
             ],
             [
              1,
              "#f0f921"
             ]
            ],
            "type": "histogram2d"
           }
          ],
          "histogram2dcontour": [
           {
            "colorbar": {
             "outlinewidth": 0,
             "ticks": ""
            },
            "colorscale": [
             [
              0,
              "#0d0887"
             ],
             [
              0.1111111111111111,
              "#46039f"
             ],
             [
              0.2222222222222222,
              "#7201a8"
             ],
             [
              0.3333333333333333,
              "#9c179e"
             ],
             [
              0.4444444444444444,
              "#bd3786"
             ],
             [
              0.5555555555555556,
              "#d8576b"
             ],
             [
              0.6666666666666666,
              "#ed7953"
             ],
             [
              0.7777777777777778,
              "#fb9f3a"
             ],
             [
              0.8888888888888888,
              "#fdca26"
             ],
             [
              1,
              "#f0f921"
             ]
            ],
            "type": "histogram2dcontour"
           }
          ],
          "mesh3d": [
           {
            "colorbar": {
             "outlinewidth": 0,
             "ticks": ""
            },
            "type": "mesh3d"
           }
          ],
          "parcoords": [
           {
            "line": {
             "colorbar": {
              "outlinewidth": 0,
              "ticks": ""
             }
            },
            "type": "parcoords"
           }
          ],
          "pie": [
           {
            "automargin": true,
            "type": "pie"
           }
          ],
          "scatter": [
           {
            "fillpattern": {
             "fillmode": "overlay",
             "size": 10,
             "solidity": 0.2
            },
            "type": "scatter"
           }
          ],
          "scatter3d": [
           {
            "line": {
             "colorbar": {
              "outlinewidth": 0,
              "ticks": ""
             }
            },
            "marker": {
             "colorbar": {
              "outlinewidth": 0,
              "ticks": ""
             }
            },
            "type": "scatter3d"
           }
          ],
          "scattercarpet": [
           {
            "marker": {
             "colorbar": {
              "outlinewidth": 0,
              "ticks": ""
             }
            },
            "type": "scattercarpet"
           }
          ],
          "scattergeo": [
           {
            "marker": {
             "colorbar": {
              "outlinewidth": 0,
              "ticks": ""
             }
            },
            "type": "scattergeo"
           }
          ],
          "scattergl": [
           {
            "marker": {
             "colorbar": {
              "outlinewidth": 0,
              "ticks": ""
             }
            },
            "type": "scattergl"
           }
          ],
          "scattermapbox": [
           {
            "marker": {
             "colorbar": {
              "outlinewidth": 0,
              "ticks": ""
             }
            },
            "type": "scattermapbox"
           }
          ],
          "scatterpolar": [
           {
            "marker": {
             "colorbar": {
              "outlinewidth": 0,
              "ticks": ""
             }
            },
            "type": "scatterpolar"
           }
          ],
          "scatterpolargl": [
           {
            "marker": {
             "colorbar": {
              "outlinewidth": 0,
              "ticks": ""
             }
            },
            "type": "scatterpolargl"
           }
          ],
          "scatterternary": [
           {
            "marker": {
             "colorbar": {
              "outlinewidth": 0,
              "ticks": ""
             }
            },
            "type": "scatterternary"
           }
          ],
          "surface": [
           {
            "colorbar": {
             "outlinewidth": 0,
             "ticks": ""
            },
            "colorscale": [
             [
              0,
              "#0d0887"
             ],
             [
              0.1111111111111111,
              "#46039f"
             ],
             [
              0.2222222222222222,
              "#7201a8"
             ],
             [
              0.3333333333333333,
              "#9c179e"
             ],
             [
              0.4444444444444444,
              "#bd3786"
             ],
             [
              0.5555555555555556,
              "#d8576b"
             ],
             [
              0.6666666666666666,
              "#ed7953"
             ],
             [
              0.7777777777777778,
              "#fb9f3a"
             ],
             [
              0.8888888888888888,
              "#fdca26"
             ],
             [
              1,
              "#f0f921"
             ]
            ],
            "type": "surface"
           }
          ],
          "table": [
           {
            "cells": {
             "fill": {
              "color": "#EBF0F8"
             },
             "line": {
              "color": "white"
             }
            },
            "header": {
             "fill": {
              "color": "#C8D4E3"
             },
             "line": {
              "color": "white"
             }
            },
            "type": "table"
           }
          ]
         },
         "layout": {
          "annotationdefaults": {
           "arrowcolor": "#2a3f5f",
           "arrowhead": 0,
           "arrowwidth": 1
          },
          "autotypenumbers": "strict",
          "coloraxis": {
           "colorbar": {
            "outlinewidth": 0,
            "ticks": ""
           }
          },
          "colorscale": {
           "diverging": [
            [
             0,
             "#8e0152"
            ],
            [
             0.1,
             "#c51b7d"
            ],
            [
             0.2,
             "#de77ae"
            ],
            [
             0.3,
             "#f1b6da"
            ],
            [
             0.4,
             "#fde0ef"
            ],
            [
             0.5,
             "#f7f7f7"
            ],
            [
             0.6,
             "#e6f5d0"
            ],
            [
             0.7,
             "#b8e186"
            ],
            [
             0.8,
             "#7fbc41"
            ],
            [
             0.9,
             "#4d9221"
            ],
            [
             1,
             "#276419"
            ]
           ],
           "sequential": [
            [
             0,
             "#0d0887"
            ],
            [
             0.1111111111111111,
             "#46039f"
            ],
            [
             0.2222222222222222,
             "#7201a8"
            ],
            [
             0.3333333333333333,
             "#9c179e"
            ],
            [
             0.4444444444444444,
             "#bd3786"
            ],
            [
             0.5555555555555556,
             "#d8576b"
            ],
            [
             0.6666666666666666,
             "#ed7953"
            ],
            [
             0.7777777777777778,
             "#fb9f3a"
            ],
            [
             0.8888888888888888,
             "#fdca26"
            ],
            [
             1,
             "#f0f921"
            ]
           ],
           "sequentialminus": [
            [
             0,
             "#0d0887"
            ],
            [
             0.1111111111111111,
             "#46039f"
            ],
            [
             0.2222222222222222,
             "#7201a8"
            ],
            [
             0.3333333333333333,
             "#9c179e"
            ],
            [
             0.4444444444444444,
             "#bd3786"
            ],
            [
             0.5555555555555556,
             "#d8576b"
            ],
            [
             0.6666666666666666,
             "#ed7953"
            ],
            [
             0.7777777777777778,
             "#fb9f3a"
            ],
            [
             0.8888888888888888,
             "#fdca26"
            ],
            [
             1,
             "#f0f921"
            ]
           ]
          },
          "colorway": [
           "#636efa",
           "#EF553B",
           "#00cc96",
           "#ab63fa",
           "#FFA15A",
           "#19d3f3",
           "#FF6692",
           "#B6E880",
           "#FF97FF",
           "#FECB52"
          ],
          "font": {
           "color": "#2a3f5f"
          },
          "geo": {
           "bgcolor": "white",
           "lakecolor": "white",
           "landcolor": "#E5ECF6",
           "showlakes": true,
           "showland": true,
           "subunitcolor": "white"
          },
          "hoverlabel": {
           "align": "left"
          },
          "hovermode": "closest",
          "mapbox": {
           "style": "light"
          },
          "paper_bgcolor": "white",
          "plot_bgcolor": "#E5ECF6",
          "polar": {
           "angularaxis": {
            "gridcolor": "white",
            "linecolor": "white",
            "ticks": ""
           },
           "bgcolor": "#E5ECF6",
           "radialaxis": {
            "gridcolor": "white",
            "linecolor": "white",
            "ticks": ""
           }
          },
          "scene": {
           "xaxis": {
            "backgroundcolor": "#E5ECF6",
            "gridcolor": "white",
            "gridwidth": 2,
            "linecolor": "white",
            "showbackground": true,
            "ticks": "",
            "zerolinecolor": "white"
           },
           "yaxis": {
            "backgroundcolor": "#E5ECF6",
            "gridcolor": "white",
            "gridwidth": 2,
            "linecolor": "white",
            "showbackground": true,
            "ticks": "",
            "zerolinecolor": "white"
           },
           "zaxis": {
            "backgroundcolor": "#E5ECF6",
            "gridcolor": "white",
            "gridwidth": 2,
            "linecolor": "white",
            "showbackground": true,
            "ticks": "",
            "zerolinecolor": "white"
           }
          },
          "shapedefaults": {
           "line": {
            "color": "#2a3f5f"
           }
          },
          "ternary": {
           "aaxis": {
            "gridcolor": "white",
            "linecolor": "white",
            "ticks": ""
           },
           "baxis": {
            "gridcolor": "white",
            "linecolor": "white",
            "ticks": ""
           },
           "bgcolor": "#E5ECF6",
           "caxis": {
            "gridcolor": "white",
            "linecolor": "white",
            "ticks": ""
           }
          },
          "title": {
           "x": 0.05
          },
          "xaxis": {
           "automargin": true,
           "gridcolor": "white",
           "linecolor": "white",
           "ticks": "",
           "title": {
            "standoff": 15
           },
           "zerolinecolor": "white",
           "zerolinewidth": 2
          },
          "yaxis": {
           "automargin": true,
           "gridcolor": "white",
           "linecolor": "white",
           "ticks": "",
           "title": {
            "standoff": 15
           },
           "zerolinecolor": "white",
           "zerolinewidth": 2
          }
         }
        },
        "title": {
         "text": "Comparison of HFEV1 posteriors"
        },
        "width": 800
       }
      }
     },
     "metadata": {},
     "output_type": "display_data"
    }
   ],
   "source": [
    "# Compare results against the bayes net model (factor graph model takes ages to compute)\n",
    "model1, inf_alg1, _, _, _, _, _, _, _, _ = mb.o2sat_fev1_point_in_time_model(\n",
    "    height, age, sex\n",
    ")\n",
    "res = ih.infer(inf_alg1, [HFEV1], [[ecFEV1, ecFEV1_obs], [O2Sat, o2sat_obs]])\n",
    "res[HFEV1.name].values.shape\n",
    "\n",
    "((hfev1_posterior - res[HFEV1.name].values) < 1e-5).all()\n",
    "# Plot the two posteriors with plotly go figure\n",
    "import plotly.graph_objs as go\n",
    "\n",
    "fig = go.Figure()\n",
    "# Add bar plot for the factor graph model\n",
    "fig.add_trace(go.Bar(x=HFEV1.bins, y=hfev1_posterior, name=\"Factor Graph with custom<br>BP computation\"))\n",
    "fig.add_trace(go.Bar(x=HFEV1.bins, y=res[HFEV1.name].values, name=\"Bayes Net\"))\n",
    "# Update layout\n",
    "fig.update_layout(\n",
    "    barmode=\"group\", title=\"Comparison of HFEV1 posteriors\", width=800, height=300\n",
    ")\n",
    "fig.show()"
   ]
  },
  {
   "cell_type": "code",
   "execution_count": 6,
   "metadata": {},
   "outputs": [
    {
     "data": {
      "application/vnd.plotly.v1+json": {
       "config": {
        "plotlyServerURL": "https://plot.ly"
       },
       "data": [
        {
         "name": "Factor Graph",
         "type": "bar",
         "x": [
          1,
          1.05,
          1.1,
          1.1500000000000001,
          1.2000000000000002,
          1.2500000000000002,
          1.3000000000000003,
          1.3500000000000003,
          1.4000000000000004,
          1.4500000000000004,
          1.5000000000000004,
          1.5500000000000005,
          1.6000000000000005,
          1.6500000000000006,
          1.7000000000000006,
          1.7500000000000007,
          1.8000000000000007,
          1.8500000000000008,
          1.9000000000000008,
          1.9500000000000008,
          2.000000000000001,
          2.0500000000000007,
          2.100000000000001,
          2.1500000000000012,
          2.200000000000001,
          2.250000000000001,
          2.300000000000001,
          2.3500000000000014,
          2.4000000000000012,
          2.450000000000001,
          2.5000000000000013,
          2.5500000000000016,
          2.6000000000000014,
          2.6500000000000012,
          2.7000000000000015,
          2.7500000000000018,
          2.8000000000000016,
          2.8500000000000014,
          2.9000000000000017,
          2.950000000000002,
          3.0000000000000018,
          3.0500000000000016,
          3.100000000000002,
          3.150000000000002,
          3.200000000000002,
          3.2500000000000018,
          3.300000000000002,
          3.3500000000000023,
          3.400000000000002,
          3.450000000000002,
          3.500000000000002,
          3.5500000000000025,
          3.6000000000000023,
          3.650000000000002,
          3.7000000000000024,
          3.7500000000000027,
          3.8000000000000025,
          3.8500000000000023,
          3.9000000000000026,
          3.950000000000003,
          4.000000000000003,
          4.0500000000000025,
          4.100000000000003,
          4.150000000000003,
          4.200000000000003,
          4.250000000000003,
          4.3000000000000025,
          4.350000000000003,
          4.400000000000003,
          4.450000000000003,
          4.5000000000000036,
          4.550000000000003,
          4.600000000000003,
          4.650000000000003,
          4.700000000000003,
          4.7500000000000036,
          4.800000000000003,
          4.850000000000003,
          4.900000000000004,
          4.950000000000004,
          5.0000000000000036,
          5.050000000000003,
          5.100000000000003,
          5.150000000000004,
          5.200000000000004,
          5.2500000000000036,
          5.300000000000004,
          5.350000000000004,
          5.400000000000004,
          5.450000000000004,
          5.5000000000000036,
          5.550000000000004,
          5.600000000000004,
          5.650000000000004,
          5.700000000000005,
          5.750000000000004,
          5.800000000000004,
          5.850000000000004,
          5.900000000000004,
          5.950000000000005
         ],
         "y": [
          0.00004152732662294285,
          0.00011563726157245023,
          0.00016004455251306923,
          0.00022187341022251707,
          0.00030794611245897456,
          0.00042770903647983025,
          0.0005942083975962541,
          0.0008254103005931939,
          0.0011459774645738723,
          0.0015896474865303913,
          0.002176741026657319,
          0.0027592255878582535,
          0.0030316406120257616,
          0.002927830505395782,
          0.002649175595526988,
          0.0026539015410818887,
          0.003076846774010252,
          0.0037267572348135877,
          0.00457692802092455,
          0.005623416065081236,
          0.006894349750515293,
          0.00852461192097138,
          0.0103202410794778,
          0.01249903133196438,
          0.014735199568558097,
          0.017091920941515838,
          0.018951683984349113,
          0.02058410226029709,
          0.023667370610992767,
          0.027980634595090467,
          0.032819693045267,
          0.03819455977106456,
          0.04397588799336384,
          0.04902710186622514,
          0.05258084065393275,
          0.05613985729502679,
          0.05536729268728491,
          0.04843125055616555,
          0.040478943403452115,
          0.04258016460536943,
          0.042537238234793336,
          0.040798617191277656,
          0.04333774083784342,
          0.04018717608294124,
          0.03271825838018184,
          0.02278691062823424,
          0.022152112351819235,
          0.02086936597379926,
          0.01736791544995355,
          0.012604593209856152,
          0.010186952081800938,
          0.01066222906392876,
          0.008780576358750186,
          0.006162063790684124,
          0.003095329831026184,
          0.0014391877094987269,
          0.0014975394534953324,
          0.0013241236223779838,
          0.000959674469796805,
          0.0005735232937855814,
          0.0001875421287200562,
          0.0000690970783234955,
          0.00006774173442838897,
          0.00006228743046575893,
          0.000045737564488107204,
          0.00002929984749640756,
          0.000014242617429279308,
          0.000002425129715886811,
          8.047790195734328e-7,
          7.316330458254398e-7,
          6.571213182212913e-7,
          5.087277913918939e-7,
          3.3402309972579054e-7,
          1.9197879061306514e-7,
          8.053964737241481e-8,
          7.416951912141197e-9,
          0,
          0,
          0,
          0,
          0,
          0,
          0,
          0,
          0,
          0,
          0,
          0,
          0,
          0,
          0,
          0,
          0,
          0,
          0,
          0,
          0,
          0,
          0,
          0
         ]
        },
        {
         "name": "Bayes Net",
         "type": "bar",
         "x": [
          1,
          1.05,
          1.1,
          1.1500000000000001,
          1.2000000000000002,
          1.2500000000000002,
          1.3000000000000003,
          1.3500000000000003,
          1.4000000000000004,
          1.4500000000000004,
          1.5000000000000004,
          1.5500000000000005,
          1.6000000000000005,
          1.6500000000000006,
          1.7000000000000006,
          1.7500000000000007,
          1.8000000000000007,
          1.8500000000000008,
          1.9000000000000008,
          1.9500000000000008,
          2.000000000000001,
          2.0500000000000007,
          2.100000000000001,
          2.1500000000000012,
          2.200000000000001,
          2.250000000000001,
          2.300000000000001,
          2.3500000000000014,
          2.4000000000000012,
          2.450000000000001,
          2.5000000000000013,
          2.5500000000000016,
          2.6000000000000014,
          2.6500000000000012,
          2.7000000000000015,
          2.7500000000000018,
          2.8000000000000016,
          2.8500000000000014,
          2.9000000000000017,
          2.950000000000002,
          3.0000000000000018,
          3.0500000000000016,
          3.100000000000002,
          3.150000000000002,
          3.200000000000002,
          3.2500000000000018,
          3.300000000000002,
          3.3500000000000023,
          3.400000000000002,
          3.450000000000002,
          3.500000000000002,
          3.5500000000000025,
          3.6000000000000023,
          3.650000000000002,
          3.7000000000000024,
          3.7500000000000027,
          3.8000000000000025,
          3.8500000000000023,
          3.9000000000000026,
          3.950000000000003,
          4.000000000000003,
          4.0500000000000025,
          4.100000000000003,
          4.150000000000003,
          4.200000000000003,
          4.250000000000003,
          4.3000000000000025,
          4.350000000000003,
          4.400000000000003,
          4.450000000000003,
          4.5000000000000036,
          4.550000000000003,
          4.600000000000003,
          4.650000000000003,
          4.700000000000003,
          4.7500000000000036,
          4.800000000000003,
          4.850000000000003,
          4.900000000000004,
          4.950000000000004,
          5.0000000000000036,
          5.050000000000003,
          5.100000000000003,
          5.150000000000004,
          5.200000000000004,
          5.2500000000000036,
          5.300000000000004,
          5.350000000000004,
          5.400000000000004,
          5.450000000000004,
          5.5000000000000036,
          5.550000000000004,
          5.600000000000004,
          5.650000000000004,
          5.700000000000005,
          5.750000000000004,
          5.800000000000004,
          5.850000000000004,
          5.900000000000004,
          5.950000000000005
         ],
         "y": [
          0.000041527326622942875,
          0.00011563726157245028,
          0.00016004455251306926,
          0.00022187341022251712,
          0.0003079461124589747,
          0.0004277090364798304,
          0.0005942083975962544,
          0.0008254103005931945,
          0.001145977464573873,
          0.0015896474865303922,
          0.0021767410266573194,
          0.002759225587858254,
          0.0030316406120257625,
          0.0029278305053957823,
          0.0026491755955269885,
          0.0026539015410818887,
          0.0030768467740102537,
          0.0037267572348135894,
          0.004576928020924553,
          0.005623416065081237,
          0.006894349750515293,
          0.008524611920971382,
          0.010320241079477804,
          0.012499031331964384,
          0.0147351995685581,
          0.017091920941515844,
          0.018951683984349113,
          0.020584102260297096,
          0.023667370610992763,
          0.027980634595090467,
          0.03281969304526701,
          0.038194559771064576,
          0.04397588799336385,
          0.04902710186622514,
          0.05258084065393276,
          0.05613985729502679,
          0.055367292687284894,
          0.04843125055616556,
          0.040478943403452115,
          0.042580164605369446,
          0.04253723823479335,
          0.04079861719127765,
          0.043337740837843405,
          0.04018717608294125,
          0.03271825838018183,
          0.022786910628234253,
          0.022152112351819242,
          0.02086936597379927,
          0.017367915449953558,
          0.012604593209856154,
          0.010186952081800938,
          0.010662229063928762,
          0.008780576358750186,
          0.006162063790684125,
          0.003095329831026184,
          0.0014391877094987269,
          0.0014975394534953326,
          0.0013241236223779838,
          0.0009596744697968051,
          0.0005735232937855815,
          0.00018754212872005622,
          0.00006909707832349548,
          0.00006774173442838898,
          0.00006228743046575893,
          0.000045737564488107204,
          0.00002929984749640756,
          0.00001424261742927931,
          0.000002425129715886811,
          8.047790195734328e-7,
          7.316330458254398e-7,
          6.571213182212914e-7,
          5.087277913918939e-7,
          3.340230997257905e-7,
          1.9197879061306514e-7,
          8.053964737241481e-8,
          7.416951912141197e-9,
          0,
          0,
          0,
          0,
          0,
          0,
          0,
          0,
          0,
          0,
          0,
          0,
          0,
          0,
          0,
          0,
          0,
          0,
          0,
          0,
          0,
          0,
          0,
          0
         ]
        }
       ],
       "layout": {
        "barmode": "group",
        "height": 300,
        "template": {
         "data": {
          "bar": [
           {
            "error_x": {
             "color": "#2a3f5f"
            },
            "error_y": {
             "color": "#2a3f5f"
            },
            "marker": {
             "line": {
              "color": "#E5ECF6",
              "width": 0.5
             },
             "pattern": {
              "fillmode": "overlay",
              "size": 10,
              "solidity": 0.2
             }
            },
            "type": "bar"
           }
          ],
          "barpolar": [
           {
            "marker": {
             "line": {
              "color": "#E5ECF6",
              "width": 0.5
             },
             "pattern": {
              "fillmode": "overlay",
              "size": 10,
              "solidity": 0.2
             }
            },
            "type": "barpolar"
           }
          ],
          "carpet": [
           {
            "aaxis": {
             "endlinecolor": "#2a3f5f",
             "gridcolor": "white",
             "linecolor": "white",
             "minorgridcolor": "white",
             "startlinecolor": "#2a3f5f"
            },
            "baxis": {
             "endlinecolor": "#2a3f5f",
             "gridcolor": "white",
             "linecolor": "white",
             "minorgridcolor": "white",
             "startlinecolor": "#2a3f5f"
            },
            "type": "carpet"
           }
          ],
          "choropleth": [
           {
            "colorbar": {
             "outlinewidth": 0,
             "ticks": ""
            },
            "type": "choropleth"
           }
          ],
          "contour": [
           {
            "colorbar": {
             "outlinewidth": 0,
             "ticks": ""
            },
            "colorscale": [
             [
              0,
              "#0d0887"
             ],
             [
              0.1111111111111111,
              "#46039f"
             ],
             [
              0.2222222222222222,
              "#7201a8"
             ],
             [
              0.3333333333333333,
              "#9c179e"
             ],
             [
              0.4444444444444444,
              "#bd3786"
             ],
             [
              0.5555555555555556,
              "#d8576b"
             ],
             [
              0.6666666666666666,
              "#ed7953"
             ],
             [
              0.7777777777777778,
              "#fb9f3a"
             ],
             [
              0.8888888888888888,
              "#fdca26"
             ],
             [
              1,
              "#f0f921"
             ]
            ],
            "type": "contour"
           }
          ],
          "contourcarpet": [
           {
            "colorbar": {
             "outlinewidth": 0,
             "ticks": ""
            },
            "type": "contourcarpet"
           }
          ],
          "heatmap": [
           {
            "colorbar": {
             "outlinewidth": 0,
             "ticks": ""
            },
            "colorscale": [
             [
              0,
              "#0d0887"
             ],
             [
              0.1111111111111111,
              "#46039f"
             ],
             [
              0.2222222222222222,
              "#7201a8"
             ],
             [
              0.3333333333333333,
              "#9c179e"
             ],
             [
              0.4444444444444444,
              "#bd3786"
             ],
             [
              0.5555555555555556,
              "#d8576b"
             ],
             [
              0.6666666666666666,
              "#ed7953"
             ],
             [
              0.7777777777777778,
              "#fb9f3a"
             ],
             [
              0.8888888888888888,
              "#fdca26"
             ],
             [
              1,
              "#f0f921"
             ]
            ],
            "type": "heatmap"
           }
          ],
          "heatmapgl": [
           {
            "colorbar": {
             "outlinewidth": 0,
             "ticks": ""
            },
            "colorscale": [
             [
              0,
              "#0d0887"
             ],
             [
              0.1111111111111111,
              "#46039f"
             ],
             [
              0.2222222222222222,
              "#7201a8"
             ],
             [
              0.3333333333333333,
              "#9c179e"
             ],
             [
              0.4444444444444444,
              "#bd3786"
             ],
             [
              0.5555555555555556,
              "#d8576b"
             ],
             [
              0.6666666666666666,
              "#ed7953"
             ],
             [
              0.7777777777777778,
              "#fb9f3a"
             ],
             [
              0.8888888888888888,
              "#fdca26"
             ],
             [
              1,
              "#f0f921"
             ]
            ],
            "type": "heatmapgl"
           }
          ],
          "histogram": [
           {
            "marker": {
             "pattern": {
              "fillmode": "overlay",
              "size": 10,
              "solidity": 0.2
             }
            },
            "type": "histogram"
           }
          ],
          "histogram2d": [
           {
            "colorbar": {
             "outlinewidth": 0,
             "ticks": ""
            },
            "colorscale": [
             [
              0,
              "#0d0887"
             ],
             [
              0.1111111111111111,
              "#46039f"
             ],
             [
              0.2222222222222222,
              "#7201a8"
             ],
             [
              0.3333333333333333,
              "#9c179e"
             ],
             [
              0.4444444444444444,
              "#bd3786"
             ],
             [
              0.5555555555555556,
              "#d8576b"
             ],
             [
              0.6666666666666666,
              "#ed7953"
             ],
             [
              0.7777777777777778,
              "#fb9f3a"
             ],
             [
              0.8888888888888888,
              "#fdca26"
             ],
             [
              1,
              "#f0f921"
             ]
            ],
            "type": "histogram2d"
           }
          ],
          "histogram2dcontour": [
           {
            "colorbar": {
             "outlinewidth": 0,
             "ticks": ""
            },
            "colorscale": [
             [
              0,
              "#0d0887"
             ],
             [
              0.1111111111111111,
              "#46039f"
             ],
             [
              0.2222222222222222,
              "#7201a8"
             ],
             [
              0.3333333333333333,
              "#9c179e"
             ],
             [
              0.4444444444444444,
              "#bd3786"
             ],
             [
              0.5555555555555556,
              "#d8576b"
             ],
             [
              0.6666666666666666,
              "#ed7953"
             ],
             [
              0.7777777777777778,
              "#fb9f3a"
             ],
             [
              0.8888888888888888,
              "#fdca26"
             ],
             [
              1,
              "#f0f921"
             ]
            ],
            "type": "histogram2dcontour"
           }
          ],
          "mesh3d": [
           {
            "colorbar": {
             "outlinewidth": 0,
             "ticks": ""
            },
            "type": "mesh3d"
           }
          ],
          "parcoords": [
           {
            "line": {
             "colorbar": {
              "outlinewidth": 0,
              "ticks": ""
             }
            },
            "type": "parcoords"
           }
          ],
          "pie": [
           {
            "automargin": true,
            "type": "pie"
           }
          ],
          "scatter": [
           {
            "fillpattern": {
             "fillmode": "overlay",
             "size": 10,
             "solidity": 0.2
            },
            "type": "scatter"
           }
          ],
          "scatter3d": [
           {
            "line": {
             "colorbar": {
              "outlinewidth": 0,
              "ticks": ""
             }
            },
            "marker": {
             "colorbar": {
              "outlinewidth": 0,
              "ticks": ""
             }
            },
            "type": "scatter3d"
           }
          ],
          "scattercarpet": [
           {
            "marker": {
             "colorbar": {
              "outlinewidth": 0,
              "ticks": ""
             }
            },
            "type": "scattercarpet"
           }
          ],
          "scattergeo": [
           {
            "marker": {
             "colorbar": {
              "outlinewidth": 0,
              "ticks": ""
             }
            },
            "type": "scattergeo"
           }
          ],
          "scattergl": [
           {
            "marker": {
             "colorbar": {
              "outlinewidth": 0,
              "ticks": ""
             }
            },
            "type": "scattergl"
           }
          ],
          "scattermapbox": [
           {
            "marker": {
             "colorbar": {
              "outlinewidth": 0,
              "ticks": ""
             }
            },
            "type": "scattermapbox"
           }
          ],
          "scatterpolar": [
           {
            "marker": {
             "colorbar": {
              "outlinewidth": 0,
              "ticks": ""
             }
            },
            "type": "scatterpolar"
           }
          ],
          "scatterpolargl": [
           {
            "marker": {
             "colorbar": {
              "outlinewidth": 0,
              "ticks": ""
             }
            },
            "type": "scatterpolargl"
           }
          ],
          "scatterternary": [
           {
            "marker": {
             "colorbar": {
              "outlinewidth": 0,
              "ticks": ""
             }
            },
            "type": "scatterternary"
           }
          ],
          "surface": [
           {
            "colorbar": {
             "outlinewidth": 0,
             "ticks": ""
            },
            "colorscale": [
             [
              0,
              "#0d0887"
             ],
             [
              0.1111111111111111,
              "#46039f"
             ],
             [
              0.2222222222222222,
              "#7201a8"
             ],
             [
              0.3333333333333333,
              "#9c179e"
             ],
             [
              0.4444444444444444,
              "#bd3786"
             ],
             [
              0.5555555555555556,
              "#d8576b"
             ],
             [
              0.6666666666666666,
              "#ed7953"
             ],
             [
              0.7777777777777778,
              "#fb9f3a"
             ],
             [
              0.8888888888888888,
              "#fdca26"
             ],
             [
              1,
              "#f0f921"
             ]
            ],
            "type": "surface"
           }
          ],
          "table": [
           {
            "cells": {
             "fill": {
              "color": "#EBF0F8"
             },
             "line": {
              "color": "white"
             }
            },
            "header": {
             "fill": {
              "color": "#C8D4E3"
             },
             "line": {
              "color": "white"
             }
            },
            "type": "table"
           }
          ]
         },
         "layout": {
          "annotationdefaults": {
           "arrowcolor": "#2a3f5f",
           "arrowhead": 0,
           "arrowwidth": 1
          },
          "autotypenumbers": "strict",
          "coloraxis": {
           "colorbar": {
            "outlinewidth": 0,
            "ticks": ""
           }
          },
          "colorscale": {
           "diverging": [
            [
             0,
             "#8e0152"
            ],
            [
             0.1,
             "#c51b7d"
            ],
            [
             0.2,
             "#de77ae"
            ],
            [
             0.3,
             "#f1b6da"
            ],
            [
             0.4,
             "#fde0ef"
            ],
            [
             0.5,
             "#f7f7f7"
            ],
            [
             0.6,
             "#e6f5d0"
            ],
            [
             0.7,
             "#b8e186"
            ],
            [
             0.8,
             "#7fbc41"
            ],
            [
             0.9,
             "#4d9221"
            ],
            [
             1,
             "#276419"
            ]
           ],
           "sequential": [
            [
             0,
             "#0d0887"
            ],
            [
             0.1111111111111111,
             "#46039f"
            ],
            [
             0.2222222222222222,
             "#7201a8"
            ],
            [
             0.3333333333333333,
             "#9c179e"
            ],
            [
             0.4444444444444444,
             "#bd3786"
            ],
            [
             0.5555555555555556,
             "#d8576b"
            ],
            [
             0.6666666666666666,
             "#ed7953"
            ],
            [
             0.7777777777777778,
             "#fb9f3a"
            ],
            [
             0.8888888888888888,
             "#fdca26"
            ],
            [
             1,
             "#f0f921"
            ]
           ],
           "sequentialminus": [
            [
             0,
             "#0d0887"
            ],
            [
             0.1111111111111111,
             "#46039f"
            ],
            [
             0.2222222222222222,
             "#7201a8"
            ],
            [
             0.3333333333333333,
             "#9c179e"
            ],
            [
             0.4444444444444444,
             "#bd3786"
            ],
            [
             0.5555555555555556,
             "#d8576b"
            ],
            [
             0.6666666666666666,
             "#ed7953"
            ],
            [
             0.7777777777777778,
             "#fb9f3a"
            ],
            [
             0.8888888888888888,
             "#fdca26"
            ],
            [
             1,
             "#f0f921"
            ]
           ]
          },
          "colorway": [
           "#636efa",
           "#EF553B",
           "#00cc96",
           "#ab63fa",
           "#FFA15A",
           "#19d3f3",
           "#FF6692",
           "#B6E880",
           "#FF97FF",
           "#FECB52"
          ],
          "font": {
           "color": "#2a3f5f"
          },
          "geo": {
           "bgcolor": "white",
           "lakecolor": "white",
           "landcolor": "#E5ECF6",
           "showlakes": true,
           "showland": true,
           "subunitcolor": "white"
          },
          "hoverlabel": {
           "align": "left"
          },
          "hovermode": "closest",
          "mapbox": {
           "style": "light"
          },
          "paper_bgcolor": "white",
          "plot_bgcolor": "#E5ECF6",
          "polar": {
           "angularaxis": {
            "gridcolor": "white",
            "linecolor": "white",
            "ticks": ""
           },
           "bgcolor": "#E5ECF6",
           "radialaxis": {
            "gridcolor": "white",
            "linecolor": "white",
            "ticks": ""
           }
          },
          "scene": {
           "xaxis": {
            "backgroundcolor": "#E5ECF6",
            "gridcolor": "white",
            "gridwidth": 2,
            "linecolor": "white",
            "showbackground": true,
            "ticks": "",
            "zerolinecolor": "white"
           },
           "yaxis": {
            "backgroundcolor": "#E5ECF6",
            "gridcolor": "white",
            "gridwidth": 2,
            "linecolor": "white",
            "showbackground": true,
            "ticks": "",
            "zerolinecolor": "white"
           },
           "zaxis": {
            "backgroundcolor": "#E5ECF6",
            "gridcolor": "white",
            "gridwidth": 2,
            "linecolor": "white",
            "showbackground": true,
            "ticks": "",
            "zerolinecolor": "white"
           }
          },
          "shapedefaults": {
           "line": {
            "color": "#2a3f5f"
           }
          },
          "ternary": {
           "aaxis": {
            "gridcolor": "white",
            "linecolor": "white",
            "ticks": ""
           },
           "baxis": {
            "gridcolor": "white",
            "linecolor": "white",
            "ticks": ""
           },
           "bgcolor": "#E5ECF6",
           "caxis": {
            "gridcolor": "white",
            "linecolor": "white",
            "ticks": ""
           }
          },
          "title": {
           "x": 0.05
          },
          "xaxis": {
           "automargin": true,
           "gridcolor": "white",
           "linecolor": "white",
           "ticks": "",
           "title": {
            "standoff": 15
           },
           "zerolinecolor": "white",
           "zerolinewidth": 2
          },
          "yaxis": {
           "automargin": true,
           "gridcolor": "white",
           "linecolor": "white",
           "ticks": "",
           "title": {
            "standoff": 15
           },
           "zerolinecolor": "white",
           "zerolinewidth": 2
          }
         }
        },
        "title": {
         "text": "Comparison of HFEV1 posteriors"
        },
        "width": 800
       }
      }
     },
     "metadata": {},
     "output_type": "display_data"
    }
   ],
   "source": [
    "((hfev1_posterior - res[HFEV1.name].values) < 1e-5).all()\n",
    "# Plot the two posteriors with plotly go figure\n",
    "import plotly.graph_objs as go\n",
    "\n",
    "fig = go.Figure()\n",
    "# Add bar plot for the factor graph model\n",
    "fig.add_trace(go.Bar(x=HFEV1.bins, y=hfev1_posterior, name=\"Factor Graph\"))\n",
    "fig.add_trace(go.Bar(x=HFEV1.bins, y=res[HFEV1.name].values, name=\"Bayes Net\"))\n",
    "# Update layout\n",
    "fig.update_layout(\n",
    "    barmode=\"group\", title=\"Comparison of HFEV1 posteriors\", width=800, height=300\n",
    ")\n",
    "fig.show()"
   ]
  },
  {
   "cell_type": "markdown",
   "metadata": {},
   "source": [
    "# BP scheduling with recursion"
   ]
  },
  {
   "cell_type": "code",
   "execution_count": 5,
   "metadata": {},
   "outputs": [],
   "source": [
    "var_to_infer = \"Healthy FEV1 (L)\"\n",
    "\n",
    "ecFEV1_obs = 1\n",
    "ecFEV1_idx = ecFEV1.get_bin_for_value(ecFEV1_obs)[1]\n",
    "o2sat_obs = 100\n",
    "o2sat_idx = O2Sat.get_bin_for_value(o2sat_obs)[1]\n",
    "\n",
    "evidences = {ecFEV1.name: ecFEV1_idx, O2Sat.name: o2sat_idx}\n",
    "evidences\n",
    "\n",
    "obs_vars = evidences.keys()"
   ]
  },
  {
   "cell_type": "code",
   "execution_count": 36,
   "metadata": {},
   "outputs": [],
   "source": [
    "# Returns the posterior distribution of the queried variable, recursively going through the graph until a node stopping criteria is met.\n",
    "\n",
    "\n",
    "def query(model, inf_alg, var, evidences):\n",
    "    \"\"\"\n",
    "    Returns the posterior distribution of the queried variable, recursively going through the graph until reaching a root variable (with no parent), or an observed variable.\n",
    "    \"\"\"\n",
    "    return process_var(model, inf_alg, evidences, var)\n",
    "\n",
    "\n",
    "def process_var(model, inf_alg, evidences, var, from_factor=None, debug=False):\n",
    "    \"\"\"\n",
    "    Returns the message outgoing from the variable node, given the incoming messages from its neighbouring factors.\n",
    "\n",
    "    evidences: dict with the observed variables and their values\n",
    "    var: str, the variable from which we want to compute the outgoing message\n",
    "    from_factor: str, the factor asking to process that variable, as part of the recursion.\n",
    "    from_factor is None for the first call, i.e. for the queried variable from which we want to compute the posterior.\n",
    "    \"\"\"\n",
    "    print(f\"Processing variable {var}\")\n",
    "    # Stopping criteria: if the variable is observed, return the point mass message of the observation\n",
    "    if var in evidences.keys():\n",
    "        print(f\"Returning point mass message for {var}\")\n",
    "        return model.point_mass_message(var, evidences[var])\n",
    "    # Else, get the incoming messages from all neighbouring factors\n",
    "    else:\n",
    "        print(f\"Variable {var} has multiple connections, going deeper in the graph\")\n",
    "        incoming_messages = []\n",
    "        for factor in model.neighbors(var):\n",
    "            if factor != from_factor:\n",
    "                incoming_messages.append(\n",
    "                    process_factor(model, inf_alg, evidences, factor, from_var=var)\n",
    "                )\n",
    "        print(f\"Computing outgoing message for the {var}\\n\")\n",
    "        return inf_alg.variable_node_message(incoming_messages)\n",
    "\n",
    "\n",
    "def process_factor(model, inf_alg, evidences, factor, from_var: str):\n",
    "    \"\"\"\n",
    "    Returns the message outgoing from the factor node, given the incoming messages from its neighbouring variables.\n",
    "\n",
    "    factor: str, the factor from which we want to compute the outgoing message\n",
    "    from_var: str, the variable asking to process that factor, as part of the recursion.\n",
    "    from_var is None for the first call, i.e. for the queried variable from which we want to compute the posterior.\n",
    "    \"\"\"\n",
    "    print(f\"Processing a factor of {from_var}\")\n",
    "    # from_var can't be null\n",
    "    assert from_var is not None, \"from_var must be specified\"\n",
    "\n",
    "    vars = factor.variables\n",
    "    # Stopping criteria: if the factor is connected to only one variable, return the factor function which is the prior of from_var\n",
    "    if len(vars) == 1:\n",
    "        print(f\"The factor is {from_var}'s prior, returning it as the message\")\n",
    "        prior = factor.values\n",
    "        assert prior.ndim == 1, \"The factor function must be a 1D array\"\n",
    "        return prior\n",
    "    # Else, get the incoming messages from all neighbouring variables\n",
    "    else:\n",
    "        print(\n",
    "            f\"This {from_var}'s factor has multiple connections, going deeper in the graph\"\n",
    "        )\n",
    "        incoming_messages = []\n",
    "        for var in vars:\n",
    "            if var != from_var:\n",
    "                incoming_messages.append(\n",
    "                    process_var(model, inf_alg, evidences, var, from_factor=factor)\n",
    "                )\n",
    "        return inf_alg.factor_node_message(incoming_messages, factor, from_var)"
   ]
  },
  {
   "cell_type": "code",
   "execution_count": 47,
   "metadata": {},
   "outputs": [
    {
     "name": "stdout",
     "output_type": "stream",
     "text": [
      "Processing variable Healthy FEV1 (L)\n",
      "Variable Healthy FEV1 (L) has multiple connections, going deeper in the graph\n",
      "Processing a factor of Healthy FEV1 (L)\n",
      "The factor is Healthy FEV1 (L)'s prior, returning it as the message\n",
      "Processing a factor of Healthy FEV1 (L)\n",
      "This Healthy FEV1 (L)'s factor has multiple connections, going deeper in the graph\n",
      "Processing variable ecFEV1 (L)\n",
      "Returning point mass message for ecFEV1 (L)\n",
      "Processing variable Airway resistance (%)\n",
      "Variable Airway resistance (%) has multiple connections, going deeper in the graph\n",
      "Processing a factor of Airway resistance (%)\n",
      "The factor is Airway resistance (%)'s prior, returning it as the message\n",
      "Processing a factor of Airway resistance (%)\n",
      "This Airway resistance (%)'s factor has multiple connections, going deeper in the graph\n",
      "Processing variable O2 saturation if fully functional alveoli (%)\n",
      "Variable O2 saturation if fully functional alveoli (%) has multiple connections, going deeper in the graph\n",
      "Processing a factor of O2 saturation if fully functional alveoli (%)\n",
      "This O2 saturation if fully functional alveoli (%)'s factor has multiple connections, going deeper in the graph\n",
      "Processing variable Underlying O2 saturation (%)\n",
      "Variable Underlying O2 saturation (%) has multiple connections, going deeper in the graph\n",
      "Processing a factor of Underlying O2 saturation (%)\n",
      "This Underlying O2 saturation (%)'s factor has multiple connections, going deeper in the graph\n",
      "Processing variable O2 saturation (%)\n",
      "Returning point mass message for O2 saturation (%)\n",
      "Computing outgoing message for the Underlying O2 saturation (%)\n",
      "\n",
      "Processing variable Inactive alveoli (%)\n",
      "Variable Inactive alveoli (%) has multiple connections, going deeper in the graph\n",
      "Processing a factor of Inactive alveoli (%)\n",
      "The factor is Inactive alveoli (%)'s prior, returning it as the message\n",
      "Computing outgoing message for the Inactive alveoli (%)\n",
      "\n",
      "Computing outgoing message for the O2 saturation if fully functional alveoli (%)\n",
      "\n",
      "Processing variable Healthy O2 saturation (%)\n",
      "Variable Healthy O2 saturation (%) has multiple connections, going deeper in the graph\n",
      "Processing a factor of Healthy O2 saturation (%)\n",
      "The factor is Healthy O2 saturation (%)'s prior, returning it as the message\n",
      "Computing outgoing message for the Healthy O2 saturation (%)\n",
      "\n",
      "Computing outgoing message for the Airway resistance (%)\n",
      "\n",
      "Computing outgoing message for the Healthy FEV1 (L)\n",
      "\n"
     ]
    }
   ],
   "source": [
    "# Test implementation\n",
    "hfev1_posterior_recursive = query(model, inf_alg, HFEV1.name, evidences)"
   ]
  },
  {
   "cell_type": "code",
   "execution_count": 51,
   "metadata": {},
   "outputs": [
    {
     "data": {
      "application/vnd.plotly.v1+json": {
       "config": {
        "plotlyServerURL": "https://plot.ly"
       },
       "data": [
        {
         "name": "Factor Graph with custom<br>BP computation and scheduling",
         "type": "bar",
         "x": [
          1,
          1.05,
          1.1,
          1.1500000000000001,
          1.2000000000000002,
          1.2500000000000002,
          1.3000000000000003,
          1.3500000000000003,
          1.4000000000000004,
          1.4500000000000004,
          1.5000000000000004,
          1.5500000000000005,
          1.6000000000000005,
          1.6500000000000006,
          1.7000000000000006,
          1.7500000000000007,
          1.8000000000000007,
          1.8500000000000008,
          1.9000000000000008,
          1.9500000000000008,
          2.000000000000001,
          2.0500000000000007,
          2.100000000000001,
          2.1500000000000012,
          2.200000000000001,
          2.250000000000001,
          2.300000000000001,
          2.3500000000000014,
          2.4000000000000012,
          2.450000000000001,
          2.5000000000000013,
          2.5500000000000016,
          2.6000000000000014,
          2.6500000000000012,
          2.7000000000000015,
          2.7500000000000018,
          2.8000000000000016,
          2.8500000000000014,
          2.9000000000000017,
          2.950000000000002,
          3.0000000000000018,
          3.0500000000000016,
          3.100000000000002,
          3.150000000000002,
          3.200000000000002,
          3.2500000000000018,
          3.300000000000002,
          3.3500000000000023,
          3.400000000000002,
          3.450000000000002,
          3.500000000000002,
          3.5500000000000025,
          3.6000000000000023,
          3.650000000000002,
          3.7000000000000024,
          3.7500000000000027,
          3.8000000000000025,
          3.8500000000000023,
          3.9000000000000026,
          3.950000000000003,
          4.000000000000003,
          4.0500000000000025,
          4.100000000000003,
          4.150000000000003,
          4.200000000000003,
          4.250000000000003,
          4.3000000000000025,
          4.350000000000003,
          4.400000000000003,
          4.450000000000003,
          4.5000000000000036,
          4.550000000000003,
          4.600000000000003,
          4.650000000000003,
          4.700000000000003,
          4.7500000000000036,
          4.800000000000003,
          4.850000000000003,
          4.900000000000004,
          4.950000000000004,
          5.0000000000000036,
          5.050000000000003,
          5.100000000000003,
          5.150000000000004,
          5.200000000000004,
          5.2500000000000036,
          5.300000000000004,
          5.350000000000004,
          5.400000000000004,
          5.450000000000004,
          5.5000000000000036,
          5.550000000000004,
          5.600000000000004,
          5.650000000000004,
          5.700000000000005,
          5.750000000000004,
          5.800000000000004,
          5.850000000000004,
          5.900000000000004,
          5.950000000000005
         ],
         "y": [
          0.00004152732662294285,
          0.00011563726157245023,
          0.00016004455251306923,
          0.00022187341022251707,
          0.00030794611245897456,
          0.00042770903647983025,
          0.0005942083975962541,
          0.0008254103005931939,
          0.0011459774645738723,
          0.0015896474865303913,
          0.002176741026657319,
          0.0027592255878582535,
          0.0030316406120257616,
          0.002927830505395782,
          0.002649175595526988,
          0.0026539015410818887,
          0.003076846774010252,
          0.0037267572348135877,
          0.00457692802092455,
          0.005623416065081236,
          0.006894349750515293,
          0.00852461192097138,
          0.0103202410794778,
          0.01249903133196438,
          0.014735199568558097,
          0.017091920941515838,
          0.018951683984349113,
          0.02058410226029709,
          0.023667370610992767,
          0.027980634595090467,
          0.032819693045267,
          0.03819455977106456,
          0.04397588799336384,
          0.04902710186622514,
          0.05258084065393275,
          0.05613985729502679,
          0.05536729268728491,
          0.04843125055616555,
          0.040478943403452115,
          0.04258016460536943,
          0.042537238234793336,
          0.040798617191277656,
          0.04333774083784342,
          0.04018717608294124,
          0.03271825838018184,
          0.02278691062823424,
          0.022152112351819235,
          0.02086936597379926,
          0.01736791544995355,
          0.012604593209856152,
          0.010186952081800938,
          0.01066222906392876,
          0.008780576358750186,
          0.006162063790684124,
          0.003095329831026184,
          0.0014391877094987269,
          0.0014975394534953324,
          0.0013241236223779838,
          0.000959674469796805,
          0.0005735232937855814,
          0.0001875421287200562,
          0.0000690970783234955,
          0.00006774173442838897,
          0.00006228743046575893,
          0.000045737564488107204,
          0.00002929984749640756,
          0.000014242617429279308,
          0.000002425129715886811,
          8.047790195734328e-7,
          7.316330458254398e-7,
          6.571213182212913e-7,
          5.087277913918939e-7,
          3.3402309972579054e-7,
          1.9197879061306514e-7,
          8.053964737241481e-8,
          7.416951912141197e-9,
          0,
          0,
          0,
          0,
          0,
          0,
          0,
          0,
          0,
          0,
          0,
          0,
          0,
          0,
          0,
          0,
          0,
          0,
          0,
          0,
          0,
          0,
          0,
          0
         ]
        },
        {
         "name": "Bayes Net",
         "type": "bar",
         "x": [
          1,
          1.05,
          1.1,
          1.1500000000000001,
          1.2000000000000002,
          1.2500000000000002,
          1.3000000000000003,
          1.3500000000000003,
          1.4000000000000004,
          1.4500000000000004,
          1.5000000000000004,
          1.5500000000000005,
          1.6000000000000005,
          1.6500000000000006,
          1.7000000000000006,
          1.7500000000000007,
          1.8000000000000007,
          1.8500000000000008,
          1.9000000000000008,
          1.9500000000000008,
          2.000000000000001,
          2.0500000000000007,
          2.100000000000001,
          2.1500000000000012,
          2.200000000000001,
          2.250000000000001,
          2.300000000000001,
          2.3500000000000014,
          2.4000000000000012,
          2.450000000000001,
          2.5000000000000013,
          2.5500000000000016,
          2.6000000000000014,
          2.6500000000000012,
          2.7000000000000015,
          2.7500000000000018,
          2.8000000000000016,
          2.8500000000000014,
          2.9000000000000017,
          2.950000000000002,
          3.0000000000000018,
          3.0500000000000016,
          3.100000000000002,
          3.150000000000002,
          3.200000000000002,
          3.2500000000000018,
          3.300000000000002,
          3.3500000000000023,
          3.400000000000002,
          3.450000000000002,
          3.500000000000002,
          3.5500000000000025,
          3.6000000000000023,
          3.650000000000002,
          3.7000000000000024,
          3.7500000000000027,
          3.8000000000000025,
          3.8500000000000023,
          3.9000000000000026,
          3.950000000000003,
          4.000000000000003,
          4.0500000000000025,
          4.100000000000003,
          4.150000000000003,
          4.200000000000003,
          4.250000000000003,
          4.3000000000000025,
          4.350000000000003,
          4.400000000000003,
          4.450000000000003,
          4.5000000000000036,
          4.550000000000003,
          4.600000000000003,
          4.650000000000003,
          4.700000000000003,
          4.7500000000000036,
          4.800000000000003,
          4.850000000000003,
          4.900000000000004,
          4.950000000000004,
          5.0000000000000036,
          5.050000000000003,
          5.100000000000003,
          5.150000000000004,
          5.200000000000004,
          5.2500000000000036,
          5.300000000000004,
          5.350000000000004,
          5.400000000000004,
          5.450000000000004,
          5.5000000000000036,
          5.550000000000004,
          5.600000000000004,
          5.650000000000004,
          5.700000000000005,
          5.750000000000004,
          5.800000000000004,
          5.850000000000004,
          5.900000000000004,
          5.950000000000005
         ],
         "y": [
          0.000041527326622942875,
          0.00011563726157245028,
          0.00016004455251306926,
          0.00022187341022251712,
          0.0003079461124589747,
          0.0004277090364798304,
          0.0005942083975962544,
          0.0008254103005931945,
          0.001145977464573873,
          0.0015896474865303922,
          0.0021767410266573194,
          0.002759225587858254,
          0.0030316406120257616,
          0.002927830505395782,
          0.0026491755955269885,
          0.0026539015410818887,
          0.0030768467740102537,
          0.0037267572348135894,
          0.004576928020924553,
          0.005623416065081237,
          0.006894349750515291,
          0.008524611920971379,
          0.0103202410794778,
          0.012499031331964382,
          0.0147351995685581,
          0.017091920941515844,
          0.018951683984349113,
          0.020584102260297096,
          0.023667370610992763,
          0.027980634595090474,
          0.032819693045267016,
          0.03819455977106457,
          0.04397588799336385,
          0.04902710186622512,
          0.052580840653932745,
          0.05613985729502679,
          0.055367292687284894,
          0.04843125055616556,
          0.040478943403452115,
          0.042580164605369446,
          0.042537238234793356,
          0.040798617191277656,
          0.04333774083784341,
          0.04018717608294125,
          0.03271825838018183,
          0.022786910628234246,
          0.022152112351819235,
          0.020869365973799264,
          0.01736791544995355,
          0.012604593209856154,
          0.010186952081800938,
          0.010662229063928762,
          0.008780576358750186,
          0.006162063790684125,
          0.003095329831026184,
          0.0014391877094987267,
          0.0014975394534953322,
          0.0013241236223779835,
          0.0009596744697968049,
          0.0005735232937855814,
          0.00018754212872005622,
          0.0000690970783234955,
          0.00006774173442838897,
          0.00006228743046575894,
          0.000045737564488107204,
          0.00002929984749640756,
          0.00001424261742927931,
          0.000002425129715886811,
          8.047790195734328e-7,
          7.316330458254398e-7,
          6.571213182212914e-7,
          5.087277913918939e-7,
          3.340230997257905e-7,
          1.9197879061306514e-7,
          8.053964737241481e-8,
          7.416951912141197e-9,
          0,
          0,
          0,
          0,
          0,
          0,
          0,
          0,
          0,
          0,
          0,
          0,
          0,
          0,
          0,
          0,
          0,
          0,
          0,
          0,
          0,
          0,
          0,
          0
         ]
        }
       ],
       "layout": {
        "barmode": "group",
        "height": 300,
        "template": {
         "data": {
          "bar": [
           {
            "error_x": {
             "color": "#2a3f5f"
            },
            "error_y": {
             "color": "#2a3f5f"
            },
            "marker": {
             "line": {
              "color": "#E5ECF6",
              "width": 0.5
             },
             "pattern": {
              "fillmode": "overlay",
              "size": 10,
              "solidity": 0.2
             }
            },
            "type": "bar"
           }
          ],
          "barpolar": [
           {
            "marker": {
             "line": {
              "color": "#E5ECF6",
              "width": 0.5
             },
             "pattern": {
              "fillmode": "overlay",
              "size": 10,
              "solidity": 0.2
             }
            },
            "type": "barpolar"
           }
          ],
          "carpet": [
           {
            "aaxis": {
             "endlinecolor": "#2a3f5f",
             "gridcolor": "white",
             "linecolor": "white",
             "minorgridcolor": "white",
             "startlinecolor": "#2a3f5f"
            },
            "baxis": {
             "endlinecolor": "#2a3f5f",
             "gridcolor": "white",
             "linecolor": "white",
             "minorgridcolor": "white",
             "startlinecolor": "#2a3f5f"
            },
            "type": "carpet"
           }
          ],
          "choropleth": [
           {
            "colorbar": {
             "outlinewidth": 0,
             "ticks": ""
            },
            "type": "choropleth"
           }
          ],
          "contour": [
           {
            "colorbar": {
             "outlinewidth": 0,
             "ticks": ""
            },
            "colorscale": [
             [
              0,
              "#0d0887"
             ],
             [
              0.1111111111111111,
              "#46039f"
             ],
             [
              0.2222222222222222,
              "#7201a8"
             ],
             [
              0.3333333333333333,
              "#9c179e"
             ],
             [
              0.4444444444444444,
              "#bd3786"
             ],
             [
              0.5555555555555556,
              "#d8576b"
             ],
             [
              0.6666666666666666,
              "#ed7953"
             ],
             [
              0.7777777777777778,
              "#fb9f3a"
             ],
             [
              0.8888888888888888,
              "#fdca26"
             ],
             [
              1,
              "#f0f921"
             ]
            ],
            "type": "contour"
           }
          ],
          "contourcarpet": [
           {
            "colorbar": {
             "outlinewidth": 0,
             "ticks": ""
            },
            "type": "contourcarpet"
           }
          ],
          "heatmap": [
           {
            "colorbar": {
             "outlinewidth": 0,
             "ticks": ""
            },
            "colorscale": [
             [
              0,
              "#0d0887"
             ],
             [
              0.1111111111111111,
              "#46039f"
             ],
             [
              0.2222222222222222,
              "#7201a8"
             ],
             [
              0.3333333333333333,
              "#9c179e"
             ],
             [
              0.4444444444444444,
              "#bd3786"
             ],
             [
              0.5555555555555556,
              "#d8576b"
             ],
             [
              0.6666666666666666,
              "#ed7953"
             ],
             [
              0.7777777777777778,
              "#fb9f3a"
             ],
             [
              0.8888888888888888,
              "#fdca26"
             ],
             [
              1,
              "#f0f921"
             ]
            ],
            "type": "heatmap"
           }
          ],
          "heatmapgl": [
           {
            "colorbar": {
             "outlinewidth": 0,
             "ticks": ""
            },
            "colorscale": [
             [
              0,
              "#0d0887"
             ],
             [
              0.1111111111111111,
              "#46039f"
             ],
             [
              0.2222222222222222,
              "#7201a8"
             ],
             [
              0.3333333333333333,
              "#9c179e"
             ],
             [
              0.4444444444444444,
              "#bd3786"
             ],
             [
              0.5555555555555556,
              "#d8576b"
             ],
             [
              0.6666666666666666,
              "#ed7953"
             ],
             [
              0.7777777777777778,
              "#fb9f3a"
             ],
             [
              0.8888888888888888,
              "#fdca26"
             ],
             [
              1,
              "#f0f921"
             ]
            ],
            "type": "heatmapgl"
           }
          ],
          "histogram": [
           {
            "marker": {
             "pattern": {
              "fillmode": "overlay",
              "size": 10,
              "solidity": 0.2
             }
            },
            "type": "histogram"
           }
          ],
          "histogram2d": [
           {
            "colorbar": {
             "outlinewidth": 0,
             "ticks": ""
            },
            "colorscale": [
             [
              0,
              "#0d0887"
             ],
             [
              0.1111111111111111,
              "#46039f"
             ],
             [
              0.2222222222222222,
              "#7201a8"
             ],
             [
              0.3333333333333333,
              "#9c179e"
             ],
             [
              0.4444444444444444,
              "#bd3786"
             ],
             [
              0.5555555555555556,
              "#d8576b"
             ],
             [
              0.6666666666666666,
              "#ed7953"
             ],
             [
              0.7777777777777778,
              "#fb9f3a"
             ],
             [
              0.8888888888888888,
              "#fdca26"
             ],
             [
              1,
              "#f0f921"
             ]
            ],
            "type": "histogram2d"
           }
          ],
          "histogram2dcontour": [
           {
            "colorbar": {
             "outlinewidth": 0,
             "ticks": ""
            },
            "colorscale": [
             [
              0,
              "#0d0887"
             ],
             [
              0.1111111111111111,
              "#46039f"
             ],
             [
              0.2222222222222222,
              "#7201a8"
             ],
             [
              0.3333333333333333,
              "#9c179e"
             ],
             [
              0.4444444444444444,
              "#bd3786"
             ],
             [
              0.5555555555555556,
              "#d8576b"
             ],
             [
              0.6666666666666666,
              "#ed7953"
             ],
             [
              0.7777777777777778,
              "#fb9f3a"
             ],
             [
              0.8888888888888888,
              "#fdca26"
             ],
             [
              1,
              "#f0f921"
             ]
            ],
            "type": "histogram2dcontour"
           }
          ],
          "mesh3d": [
           {
            "colorbar": {
             "outlinewidth": 0,
             "ticks": ""
            },
            "type": "mesh3d"
           }
          ],
          "parcoords": [
           {
            "line": {
             "colorbar": {
              "outlinewidth": 0,
              "ticks": ""
             }
            },
            "type": "parcoords"
           }
          ],
          "pie": [
           {
            "automargin": true,
            "type": "pie"
           }
          ],
          "scatter": [
           {
            "fillpattern": {
             "fillmode": "overlay",
             "size": 10,
             "solidity": 0.2
            },
            "type": "scatter"
           }
          ],
          "scatter3d": [
           {
            "line": {
             "colorbar": {
              "outlinewidth": 0,
              "ticks": ""
             }
            },
            "marker": {
             "colorbar": {
              "outlinewidth": 0,
              "ticks": ""
             }
            },
            "type": "scatter3d"
           }
          ],
          "scattercarpet": [
           {
            "marker": {
             "colorbar": {
              "outlinewidth": 0,
              "ticks": ""
             }
            },
            "type": "scattercarpet"
           }
          ],
          "scattergeo": [
           {
            "marker": {
             "colorbar": {
              "outlinewidth": 0,
              "ticks": ""
             }
            },
            "type": "scattergeo"
           }
          ],
          "scattergl": [
           {
            "marker": {
             "colorbar": {
              "outlinewidth": 0,
              "ticks": ""
             }
            },
            "type": "scattergl"
           }
          ],
          "scattermapbox": [
           {
            "marker": {
             "colorbar": {
              "outlinewidth": 0,
              "ticks": ""
             }
            },
            "type": "scattermapbox"
           }
          ],
          "scatterpolar": [
           {
            "marker": {
             "colorbar": {
              "outlinewidth": 0,
              "ticks": ""
             }
            },
            "type": "scatterpolar"
           }
          ],
          "scatterpolargl": [
           {
            "marker": {
             "colorbar": {
              "outlinewidth": 0,
              "ticks": ""
             }
            },
            "type": "scatterpolargl"
           }
          ],
          "scatterternary": [
           {
            "marker": {
             "colorbar": {
              "outlinewidth": 0,
              "ticks": ""
             }
            },
            "type": "scatterternary"
           }
          ],
          "surface": [
           {
            "colorbar": {
             "outlinewidth": 0,
             "ticks": ""
            },
            "colorscale": [
             [
              0,
              "#0d0887"
             ],
             [
              0.1111111111111111,
              "#46039f"
             ],
             [
              0.2222222222222222,
              "#7201a8"
             ],
             [
              0.3333333333333333,
              "#9c179e"
             ],
             [
              0.4444444444444444,
              "#bd3786"
             ],
             [
              0.5555555555555556,
              "#d8576b"
             ],
             [
              0.6666666666666666,
              "#ed7953"
             ],
             [
              0.7777777777777778,
              "#fb9f3a"
             ],
             [
              0.8888888888888888,
              "#fdca26"
             ],
             [
              1,
              "#f0f921"
             ]
            ],
            "type": "surface"
           }
          ],
          "table": [
           {
            "cells": {
             "fill": {
              "color": "#EBF0F8"
             },
             "line": {
              "color": "white"
             }
            },
            "header": {
             "fill": {
              "color": "#C8D4E3"
             },
             "line": {
              "color": "white"
             }
            },
            "type": "table"
           }
          ]
         },
         "layout": {
          "annotationdefaults": {
           "arrowcolor": "#2a3f5f",
           "arrowhead": 0,
           "arrowwidth": 1
          },
          "autotypenumbers": "strict",
          "coloraxis": {
           "colorbar": {
            "outlinewidth": 0,
            "ticks": ""
           }
          },
          "colorscale": {
           "diverging": [
            [
             0,
             "#8e0152"
            ],
            [
             0.1,
             "#c51b7d"
            ],
            [
             0.2,
             "#de77ae"
            ],
            [
             0.3,
             "#f1b6da"
            ],
            [
             0.4,
             "#fde0ef"
            ],
            [
             0.5,
             "#f7f7f7"
            ],
            [
             0.6,
             "#e6f5d0"
            ],
            [
             0.7,
             "#b8e186"
            ],
            [
             0.8,
             "#7fbc41"
            ],
            [
             0.9,
             "#4d9221"
            ],
            [
             1,
             "#276419"
            ]
           ],
           "sequential": [
            [
             0,
             "#0d0887"
            ],
            [
             0.1111111111111111,
             "#46039f"
            ],
            [
             0.2222222222222222,
             "#7201a8"
            ],
            [
             0.3333333333333333,
             "#9c179e"
            ],
            [
             0.4444444444444444,
             "#bd3786"
            ],
            [
             0.5555555555555556,
             "#d8576b"
            ],
            [
             0.6666666666666666,
             "#ed7953"
            ],
            [
             0.7777777777777778,
             "#fb9f3a"
            ],
            [
             0.8888888888888888,
             "#fdca26"
            ],
            [
             1,
             "#f0f921"
            ]
           ],
           "sequentialminus": [
            [
             0,
             "#0d0887"
            ],
            [
             0.1111111111111111,
             "#46039f"
            ],
            [
             0.2222222222222222,
             "#7201a8"
            ],
            [
             0.3333333333333333,
             "#9c179e"
            ],
            [
             0.4444444444444444,
             "#bd3786"
            ],
            [
             0.5555555555555556,
             "#d8576b"
            ],
            [
             0.6666666666666666,
             "#ed7953"
            ],
            [
             0.7777777777777778,
             "#fb9f3a"
            ],
            [
             0.8888888888888888,
             "#fdca26"
            ],
            [
             1,
             "#f0f921"
            ]
           ]
          },
          "colorway": [
           "#636efa",
           "#EF553B",
           "#00cc96",
           "#ab63fa",
           "#FFA15A",
           "#19d3f3",
           "#FF6692",
           "#B6E880",
           "#FF97FF",
           "#FECB52"
          ],
          "font": {
           "color": "#2a3f5f"
          },
          "geo": {
           "bgcolor": "white",
           "lakecolor": "white",
           "landcolor": "#E5ECF6",
           "showlakes": true,
           "showland": true,
           "subunitcolor": "white"
          },
          "hoverlabel": {
           "align": "left"
          },
          "hovermode": "closest",
          "mapbox": {
           "style": "light"
          },
          "paper_bgcolor": "white",
          "plot_bgcolor": "#E5ECF6",
          "polar": {
           "angularaxis": {
            "gridcolor": "white",
            "linecolor": "white",
            "ticks": ""
           },
           "bgcolor": "#E5ECF6",
           "radialaxis": {
            "gridcolor": "white",
            "linecolor": "white",
            "ticks": ""
           }
          },
          "scene": {
           "xaxis": {
            "backgroundcolor": "#E5ECF6",
            "gridcolor": "white",
            "gridwidth": 2,
            "linecolor": "white",
            "showbackground": true,
            "ticks": "",
            "zerolinecolor": "white"
           },
           "yaxis": {
            "backgroundcolor": "#E5ECF6",
            "gridcolor": "white",
            "gridwidth": 2,
            "linecolor": "white",
            "showbackground": true,
            "ticks": "",
            "zerolinecolor": "white"
           },
           "zaxis": {
            "backgroundcolor": "#E5ECF6",
            "gridcolor": "white",
            "gridwidth": 2,
            "linecolor": "white",
            "showbackground": true,
            "ticks": "",
            "zerolinecolor": "white"
           }
          },
          "shapedefaults": {
           "line": {
            "color": "#2a3f5f"
           }
          },
          "ternary": {
           "aaxis": {
            "gridcolor": "white",
            "linecolor": "white",
            "ticks": ""
           },
           "baxis": {
            "gridcolor": "white",
            "linecolor": "white",
            "ticks": ""
           },
           "bgcolor": "#E5ECF6",
           "caxis": {
            "gridcolor": "white",
            "linecolor": "white",
            "ticks": ""
           }
          },
          "title": {
           "x": 0.05
          },
          "xaxis": {
           "automargin": true,
           "gridcolor": "white",
           "linecolor": "white",
           "ticks": "",
           "title": {
            "standoff": 15
           },
           "zerolinecolor": "white",
           "zerolinewidth": 2
          },
          "yaxis": {
           "automargin": true,
           "gridcolor": "white",
           "linecolor": "white",
           "ticks": "",
           "title": {
            "standoff": 15
           },
           "zerolinecolor": "white",
           "zerolinewidth": 2
          }
         }
        },
        "title": {
         "text": "Comparison of HFEV1 posteriors"
        },
        "width": 800
       }
      }
     },
     "metadata": {},
     "output_type": "display_data"
    }
   ],
   "source": [
    "# Compare results against the bayes net model (factor graph model takes ages to compute)\n",
    "model1, inf_alg1, _, _, _, _, _, _, _, _ = mb.o2sat_fev1_point_in_time_model(\n",
    "    height, age, sex\n",
    ")\n",
    "res = ih.infer(inf_alg1, [HFEV1], [[ecFEV1, ecFEV1_obs], [O2Sat, o2sat_obs]])\n",
    "res[HFEV1.name].values.shape\n",
    "\n",
    "((hfev1_posterior_recursive - res[HFEV1.name].values) < 1e-5).all()\n",
    "# Plot the two posteriors with plotly go figure\n",
    "import plotly.graph_objs as go\n",
    "\n",
    "fig = go.Figure()\n",
    "# Add bar plot for the factor graph model\n",
    "fig.add_trace(go.Bar(x=HFEV1.bins, y=hfev1_posterior_recursive, name=\"Factor Graph with custom<br>BP computation and scheduling\"))\n",
    "fig.add_trace(go.Bar(x=HFEV1.bins, y=res[HFEV1.name].values, name=\"Bayes Net\"))\n",
    "# Update layout\n",
    "fig.update_layout(\n",
    "    barmode=\"group\", title=\"Comparison of HFEV1 posteriors\", width=800, height=300\n",
    ")\n",
    "fig.show()"
   ]
  },
  {
   "cell_type": "code",
   "execution_count": null,
   "metadata": {},
   "outputs": [],
   "source": []
  }
 ],
 "metadata": {
  "kernelspec": {
   "display_name": "phd",
   "language": "python",
   "name": "python3"
  },
  "language_info": {
   "codemirror_mode": {
    "name": "ipython",
    "version": 3
   },
   "file_extension": ".py",
   "mimetype": "text/x-python",
   "name": "python",
   "nbconvert_exporter": "python",
   "pygments_lexer": "ipython3",
   "version": "3.10.13"
  }
 },
 "nbformat": 4,
 "nbformat_minor": 2
}
