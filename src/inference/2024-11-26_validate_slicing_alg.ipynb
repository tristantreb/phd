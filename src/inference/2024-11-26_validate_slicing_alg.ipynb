{
 "cells": [
  {
   "cell_type": "code",
   "execution_count": 1,
   "metadata": {},
   "outputs": [],
   "source": [
    "import src.inference.long_inf_slicing as slicing\n",
    "import src.models.builders as mb\n",
    "import src.inference.helpers as ih\n",
    "from plotly.subplots import make_subplots\n",
    "import logging\n",
    "\n",
    "logger = logging.getLogger()\n",
    "logger.setLevel(logging.CRITICAL)\n",
    "from pgmpy.inference.ExactInference import VariableElimination\n",
    "from pgmpy.factors.discrete import TabularCPD\n",
    "\n",
    "\n",
    "import pandas as pd\n",
    "import numpy as np"
   ]
  },
  {
   "cell_type": "code",
   "execution_count": 2,
   "metadata": {},
   "outputs": [
    {
     "data": {
      "text/html": [
       "<div>\n",
       "<style scoped>\n",
       "    .dataframe tbody tr th:only-of-type {\n",
       "        vertical-align: middle;\n",
       "    }\n",
       "\n",
       "    .dataframe tbody tr th {\n",
       "        vertical-align: top;\n",
       "    }\n",
       "\n",
       "    .dataframe thead th {\n",
       "        text-align: right;\n",
       "    }\n",
       "</style>\n",
       "<table border=\"1\" class=\"dataframe\">\n",
       "  <thead>\n",
       "    <tr style=\"text-align: right;\">\n",
       "      <th></th>\n",
       "      <th>ID</th>\n",
       "      <th>Date Recorded</th>\n",
       "      <th>Height</th>\n",
       "      <th>Age</th>\n",
       "      <th>Sex</th>\n",
       "      <th>ecFEV1</th>\n",
       "      <th>ecFEF2575%ecFEV1</th>\n",
       "      <th>idx ecFEV1 (L)</th>\n",
       "      <th>idx ecFEF2575%ecFEV1</th>\n",
       "    </tr>\n",
       "  </thead>\n",
       "  <tbody>\n",
       "    <tr>\n",
       "      <th>0</th>\n",
       "      <td>1</td>\n",
       "      <td>2020-01-02</td>\n",
       "      <td>180</td>\n",
       "      <td>35</td>\n",
       "      <td>Male</td>\n",
       "      <td>1.8</td>\n",
       "      <td>12</td>\n",
       "      <td>1</td>\n",
       "      <td>0</td>\n",
       "    </tr>\n",
       "    <tr>\n",
       "      <th>1</th>\n",
       "      <td>1</td>\n",
       "      <td>2020-01-03</td>\n",
       "      <td>180</td>\n",
       "      <td>35</td>\n",
       "      <td>Male</td>\n",
       "      <td>3.5</td>\n",
       "      <td>120</td>\n",
       "      <td>3</td>\n",
       "      <td>6</td>\n",
       "    </tr>\n",
       "    <tr>\n",
       "      <th>2</th>\n",
       "      <td>1</td>\n",
       "      <td>2020-01-04</td>\n",
       "      <td>180</td>\n",
       "      <td>35</td>\n",
       "      <td>Male</td>\n",
       "      <td>0.1</td>\n",
       "      <td>150</td>\n",
       "      <td>0</td>\n",
       "      <td>7</td>\n",
       "    </tr>\n",
       "  </tbody>\n",
       "</table>\n",
       "</div>"
      ],
      "text/plain": [
       "  ID Date Recorded  Height  Age   Sex  ecFEV1  ecFEF2575%ecFEV1  \\\n",
       "0  1    2020-01-02     180   35  Male     1.8                12   \n",
       "1  1    2020-01-03     180   35  Male     3.5               120   \n",
       "2  1    2020-01-04     180   35  Male     0.1               150   \n",
       "\n",
       "   idx ecFEV1 (L)  idx ecFEF2575%ecFEV1  \n",
       "0               1                     0  \n",
       "1               3                     6  \n",
       "2               0                     7  "
      ]
     },
     "execution_count": 2,
     "metadata": {},
     "output_type": "execute_result"
    }
   ],
   "source": [
    "# Adapted code to see if the forward days inference alg with precomputed messages is valid\n",
    "\n",
    "df_mock = pd.DataFrame(\n",
    "    {\n",
    "        \"ID\": [\"1\", \"1\", \"1\"],\n",
    "        \"Date Recorded\": [1, 2, 3],\n",
    "        \"Height\": 180,\n",
    "        \"Age\": 35,\n",
    "        \"Sex\": \"Male\",\n",
    "        \"ecFEV1\": [1.8, 3.5, 0.1],\n",
    "        \"ecFEF2575%ecFEV1\": [12, 120, 150],\n",
    "        \"idx ecFEV1 (L)\": [1, 3, 0],\n",
    "        \"idx ecFEF2575%ecFEV1\": [0, 6, 7],\n",
    "    }\n",
    ")\n",
    "df_mock[\"Date Recorded\"] = pd.to_datetime(\n",
    "    df_mock[\"Date Recorded\"], unit=\"D\", origin=\"2020-01-01\"\n",
    ")\n",
    "df_mock"
   ]
  },
  {
   "cell_type": "markdown",
   "metadata": {},
   "source": [
    "## Validate query_forwardly_across_days() with precomp messages"
   ]
  },
  {
   "cell_type": "code",
   "execution_count": 3,
   "metadata": {},
   "outputs": [],
   "source": [
    "# Adapted code to see if the forward days inference alg with precomputed messages is valid\n",
    "# Uses model with FEV1 (with its noise model), FEF25-75\n",
    "\n",
    "ecfev1_noise_model_cpt_suffix = \"_std_0.7\"\n",
    "n_days = 3\n",
    "\n",
    "# Set values\n",
    "height = df_mock.Height.iloc[0]\n",
    "age = df_mock.Age.iloc[0]\n",
    "sex = df_mock.Sex.iloc[0]\n",
    "\n",
    "(\n",
    "    _,\n",
    "    inf_alg_approx,\n",
    "    HFEV1,\n",
    "    uecFEV1,\n",
    "    ecFEV1,\n",
    "    AR,\n",
    "    HO2Sat,\n",
    "    O2SatFFA,\n",
    "    IA,\n",
    "    UO2Sat,\n",
    "    O2Sat,\n",
    "    ecFEF2575prctecFEV1,\n",
    ") = mb.o2sat_fev1_fef2575_point_in_time_model_noise_shared_healthy_vars_light(\n",
    "    height,\n",
    "    age,\n",
    "    sex,\n",
    "    ecfev1_noise_model_cpt_suffix=ecfev1_noise_model_cpt_suffix,\n",
    ")\n",
    "\n",
    "# Set inputs for approximate inference\n",
    "shared_vars_approx = [HFEV1, HO2Sat]\n",
    "vars_approx = [AR]\n",
    "# obs_var_names_approx = [ecFEV1.name, O2Sat.name]\n",
    "obs_var_names_approx = [ecFEV1.name]\n",
    "\n",
    "# APPROXIMATE INFERENCE\n",
    "# Get precompupted messages to speedup inference\n",
    "arr = np.ones(AR.card)\n",
    "arr /= arr.sum()\n",
    "uniform_from_o2_side = {\n",
    "    \"['O2 saturation if fully functional alveoli (%)', 'Healthy O2 saturation (%)', 'Airway resistance (%)'] -> Airway resistance (%)\": arr\n",
    "}\n",
    "precomp_messages = uniform_from_o2_side\n",
    "df_query_res, df_res_before_convergence, shared_vars_final = (\n",
    "    slicing.query_forwardly_across_days(\n",
    "        df_mock,\n",
    "        inf_alg_approx,\n",
    "        shared_vars_approx,\n",
    "        vars_approx,\n",
    "        obs_var_names_approx,\n",
    "        1e-8,\n",
    "        days_specific_evidence=[],\n",
    "        precomp_messages=precomp_messages.copy(),\n",
    "        debug=False,\n",
    "        auto_reset_shared_vars=True,\n",
    "    )\n",
    ")\n",
    "hfev1_approx = df_query_res.loc[0, HFEV1.name]\n",
    "ho2sat_approx = df_query_res.loc[0, HO2Sat.name]\n",
    "\n",
    "# EXACT INFERENCE\n",
    "# (\n",
    "#     model_exact,\n",
    "#     inf_alg_exact,\n",
    "#     HFEV1,\n",
    "#     HO2Sat,\n",
    "#     AR_vars,\n",
    "#     ecFEV1_vars,\n",
    "#     O2SatFFA_vars,\n",
    "#     IA_vars,\n",
    "#     UO2Sat_vars,\n",
    "#     O2Sat_vars,\n",
    "# ) = mb.o2_sat_fev1_n_days_model_light(n_days, height, age, sex)\n",
    "(\n",
    "    model_exact,\n",
    "    # inf_alg_exact,\n",
    "    HFEV1,\n",
    "    HO2Sat,\n",
    "    AR_vars,\n",
    "    uecFEV1_vars,\n",
    "    ecFEV1_vars,\n",
    "    O2SatFFA_vars,\n",
    "    IA_vars,\n",
    "    UO2Sat_vars,\n",
    "    O2Sat_vars,\n",
    "    ecFEF2575prctecFEV1,\n",
    ") = mb.o2sat_fev1_fef2575_n_days_model_noise_shared_healthy_vars_light(\n",
    "    n_days,\n",
    "    height,\n",
    "    age,\n",
    "    sex,\n",
    "    ecfev1_noise_model_cpt_suffix=ecfev1_noise_model_cpt_suffix,\n",
    ")\n",
    "var_elim = VariableElimination(model_exact)\n",
    "\n",
    "shared_vars_exact = [HFEV1.name, HO2Sat.name]\n",
    "obs_vars_exact = {}\n",
    "for j in range(n_days):\n",
    "    ecfev1_obs = df_mock.loc[j, \"idx ecFEV1 (L)\"]\n",
    "    # o2sat_obs = df_n_days.reset_index().loc[j, \"O2 Saturation\"]\n",
    "    obs_vars_exact[ecFEV1_vars[j].name] = ecfev1_obs\n",
    "    # [O2Sat_vars[j], o2sat_obs],\n",
    "\n",
    "res_exact = var_elim.query(\n",
    "    variables=[HFEV1.name, AR_vars[0].name, AR_vars[1].name, AR_vars[2].name],\n",
    "    evidence=obs_vars_exact,\n",
    "    joint=False,\n",
    ")"
   ]
  },
  {
   "cell_type": "code",
   "execution_count": 4,
   "metadata": {},
   "outputs": [
    {
     "data": {
      "application/vnd.plotly.v1+json": {
       "config": {
        "plotlyServerURL": "https://plot.ly"
       },
       "data": [
        {
         "histfunc": "sum",
         "marker": {
          "color": "#636EFA"
         },
         "type": "histogram",
         "x": [
          1,
          2,
          3,
          4,
          5
         ],
         "xaxis": "x",
         "xbins": {
          "end": 6,
          "size": 1,
          "start": 1
         },
         "y": [
          3.4981242203943635e-7,
          0.0017105917899101167,
          0.20984282315416902,
          0.7230108635789047,
          0.06543537166459415
         ],
         "yaxis": "y"
        },
        {
         "histfunc": "sum",
         "marker": {
          "color": "#636EFA"
         },
         "type": "histogram",
         "x": [
          0,
          10,
          20,
          30,
          40,
          50,
          60,
          70,
          80
         ],
         "xaxis": "x2",
         "xbins": {
          "end": 90,
          "size": 10,
          "start": 0
         },
         "y": [
          0.005379335016064859,
          0.01440131974745345,
          0.028089731585083186,
          0.073070175943828,
          0.11727387738936704,
          0.1783021056570514,
          0.24111091291312065,
          0.2104067073289795,
          0.13196583441905185
         ],
         "yaxis": "y2"
        },
        {
         "histfunc": "sum",
         "marker": {
          "color": "#636EFA"
         },
         "type": "histogram",
         "x": [
          0,
          10,
          20,
          30,
          40,
          50,
          60,
          70,
          80
         ],
         "xaxis": "x3",
         "xbins": {
          "end": 90,
          "size": 10,
          "start": 0
         },
         "y": [
          0.1873295724226268,
          0.22778941637261696,
          0.2362405524895723,
          0.17111478706143352,
          0.10607075733344684,
          0.05525070246670727,
          0.010845955500507687,
          0.005262849614153366,
          0.00009540673893526103
         ],
         "yaxis": "y3"
        },
        {
         "histfunc": "sum",
         "marker": {
          "color": "#636EFA"
         },
         "type": "histogram",
         "x": [
          0,
          10,
          20,
          30,
          40,
          50,
          60,
          70,
          80
         ],
         "xaxis": "x4",
         "xbins": {
          "end": 90,
          "size": 10,
          "start": 0
         },
         "y": [
          0.00034384691020104027,
          0.0010723918208705655,
          0.0024445565946953286,
          0.009776541876241296,
          0.025625437468976633,
          0.08547225177860396,
          0.1565937298183309,
          0.25267401912680326,
          0.4659972246052769
         ],
         "yaxis": "y4"
        },
        {
         "histfunc": "sum",
         "marker": {
          "color": "#EF553B"
         },
         "type": "histogram",
         "x": [
          1,
          2,
          3,
          4,
          5
         ],
         "xaxis": "x",
         "xbins": {
          "end": 6,
          "size": 1,
          "start": 1
         },
         "y": [
          3.498124220394365e-7,
          0.0017105917899101159,
          0.20984282315416902,
          0.7230108635789045,
          0.06543537166459414
         ],
         "yaxis": "y"
        },
        {
         "histfunc": "sum",
         "marker": {
          "color": "#EF553B"
         },
         "type": "histogram",
         "x": [
          0,
          10,
          20,
          30,
          40,
          50,
          60,
          70,
          80
         ],
         "xaxis": "x2",
         "xbins": {
          "end": 90,
          "size": 10,
          "start": 0
         },
         "y": [
          0.005379335016064859,
          0.014401319747453449,
          0.028089731585083186,
          0.07307017594382798,
          0.11727387738936709,
          0.17830210565705149,
          0.24111091291312067,
          0.2104067073289795,
          0.1319658344190518
         ],
         "yaxis": "y2"
        },
        {
         "histfunc": "sum",
         "marker": {
          "color": "#EF553B"
         },
         "type": "histogram",
         "x": [
          0,
          10,
          20,
          30,
          40,
          50,
          60,
          70,
          80
         ],
         "xaxis": "x3",
         "xbins": {
          "end": 90,
          "size": 10,
          "start": 0
         },
         "y": [
          0.18732957242262677,
          0.2277894163726171,
          0.23624055248957218,
          0.17111478706143354,
          0.10607075733344681,
          0.05525070246670729,
          0.010845955500507685,
          0.005262849614153371,
          0.00009540673893526102
         ],
         "yaxis": "y3"
        },
        {
         "histfunc": "sum",
         "marker": {
          "color": "#EF553B"
         },
         "type": "histogram",
         "x": [
          0,
          10,
          20,
          30,
          40,
          50,
          60,
          70,
          80
         ],
         "xaxis": "x4",
         "xbins": {
          "end": 90,
          "size": 10,
          "start": 0
         },
         "y": [
          0.0003438469102010402,
          0.0010723918208705653,
          0.0024445565946953278,
          0.009776541876241298,
          0.025625437468976647,
          0.08547225177860397,
          0.15659372981833095,
          0.25267401912680315,
          0.465997224605277
         ],
         "yaxis": "y4"
        }
       ],
       "layout": {
        "annotations": [
         {
          "font": {
           "size": 8
          },
          "showarrow": false,
          "text": "4.35",
          "x": 4.352170315493338,
          "xref": "x",
          "y": 0.7953119499367951,
          "yref": "y"
         }
        ],
        "height": 550,
        "showlegend": false,
        "template": {
         "data": {
          "bar": [
           {
            "error_x": {
             "color": "#2a3f5f"
            },
            "error_y": {
             "color": "#2a3f5f"
            },
            "marker": {
             "line": {
              "color": "#E5ECF6",
              "width": 0.5
             },
             "pattern": {
              "fillmode": "overlay",
              "size": 10,
              "solidity": 0.2
             }
            },
            "type": "bar"
           }
          ],
          "barpolar": [
           {
            "marker": {
             "line": {
              "color": "#E5ECF6",
              "width": 0.5
             },
             "pattern": {
              "fillmode": "overlay",
              "size": 10,
              "solidity": 0.2
             }
            },
            "type": "barpolar"
           }
          ],
          "carpet": [
           {
            "aaxis": {
             "endlinecolor": "#2a3f5f",
             "gridcolor": "white",
             "linecolor": "white",
             "minorgridcolor": "white",
             "startlinecolor": "#2a3f5f"
            },
            "baxis": {
             "endlinecolor": "#2a3f5f",
             "gridcolor": "white",
             "linecolor": "white",
             "minorgridcolor": "white",
             "startlinecolor": "#2a3f5f"
            },
            "type": "carpet"
           }
          ],
          "choropleth": [
           {
            "colorbar": {
             "outlinewidth": 0,
             "ticks": ""
            },
            "type": "choropleth"
           }
          ],
          "contour": [
           {
            "colorbar": {
             "outlinewidth": 0,
             "ticks": ""
            },
            "colorscale": [
             [
              0,
              "#0d0887"
             ],
             [
              0.1111111111111111,
              "#46039f"
             ],
             [
              0.2222222222222222,
              "#7201a8"
             ],
             [
              0.3333333333333333,
              "#9c179e"
             ],
             [
              0.4444444444444444,
              "#bd3786"
             ],
             [
              0.5555555555555556,
              "#d8576b"
             ],
             [
              0.6666666666666666,
              "#ed7953"
             ],
             [
              0.7777777777777778,
              "#fb9f3a"
             ],
             [
              0.8888888888888888,
              "#fdca26"
             ],
             [
              1,
              "#f0f921"
             ]
            ],
            "type": "contour"
           }
          ],
          "contourcarpet": [
           {
            "colorbar": {
             "outlinewidth": 0,
             "ticks": ""
            },
            "type": "contourcarpet"
           }
          ],
          "heatmap": [
           {
            "colorbar": {
             "outlinewidth": 0,
             "ticks": ""
            },
            "colorscale": [
             [
              0,
              "#0d0887"
             ],
             [
              0.1111111111111111,
              "#46039f"
             ],
             [
              0.2222222222222222,
              "#7201a8"
             ],
             [
              0.3333333333333333,
              "#9c179e"
             ],
             [
              0.4444444444444444,
              "#bd3786"
             ],
             [
              0.5555555555555556,
              "#d8576b"
             ],
             [
              0.6666666666666666,
              "#ed7953"
             ],
             [
              0.7777777777777778,
              "#fb9f3a"
             ],
             [
              0.8888888888888888,
              "#fdca26"
             ],
             [
              1,
              "#f0f921"
             ]
            ],
            "type": "heatmap"
           }
          ],
          "heatmapgl": [
           {
            "colorbar": {
             "outlinewidth": 0,
             "ticks": ""
            },
            "colorscale": [
             [
              0,
              "#0d0887"
             ],
             [
              0.1111111111111111,
              "#46039f"
             ],
             [
              0.2222222222222222,
              "#7201a8"
             ],
             [
              0.3333333333333333,
              "#9c179e"
             ],
             [
              0.4444444444444444,
              "#bd3786"
             ],
             [
              0.5555555555555556,
              "#d8576b"
             ],
             [
              0.6666666666666666,
              "#ed7953"
             ],
             [
              0.7777777777777778,
              "#fb9f3a"
             ],
             [
              0.8888888888888888,
              "#fdca26"
             ],
             [
              1,
              "#f0f921"
             ]
            ],
            "type": "heatmapgl"
           }
          ],
          "histogram": [
           {
            "marker": {
             "pattern": {
              "fillmode": "overlay",
              "size": 10,
              "solidity": 0.2
             }
            },
            "type": "histogram"
           }
          ],
          "histogram2d": [
           {
            "colorbar": {
             "outlinewidth": 0,
             "ticks": ""
            },
            "colorscale": [
             [
              0,
              "#0d0887"
             ],
             [
              0.1111111111111111,
              "#46039f"
             ],
             [
              0.2222222222222222,
              "#7201a8"
             ],
             [
              0.3333333333333333,
              "#9c179e"
             ],
             [
              0.4444444444444444,
              "#bd3786"
             ],
             [
              0.5555555555555556,
              "#d8576b"
             ],
             [
              0.6666666666666666,
              "#ed7953"
             ],
             [
              0.7777777777777778,
              "#fb9f3a"
             ],
             [
              0.8888888888888888,
              "#fdca26"
             ],
             [
              1,
              "#f0f921"
             ]
            ],
            "type": "histogram2d"
           }
          ],
          "histogram2dcontour": [
           {
            "colorbar": {
             "outlinewidth": 0,
             "ticks": ""
            },
            "colorscale": [
             [
              0,
              "#0d0887"
             ],
             [
              0.1111111111111111,
              "#46039f"
             ],
             [
              0.2222222222222222,
              "#7201a8"
             ],
             [
              0.3333333333333333,
              "#9c179e"
             ],
             [
              0.4444444444444444,
              "#bd3786"
             ],
             [
              0.5555555555555556,
              "#d8576b"
             ],
             [
              0.6666666666666666,
              "#ed7953"
             ],
             [
              0.7777777777777778,
              "#fb9f3a"
             ],
             [
              0.8888888888888888,
              "#fdca26"
             ],
             [
              1,
              "#f0f921"
             ]
            ],
            "type": "histogram2dcontour"
           }
          ],
          "mesh3d": [
           {
            "colorbar": {
             "outlinewidth": 0,
             "ticks": ""
            },
            "type": "mesh3d"
           }
          ],
          "parcoords": [
           {
            "line": {
             "colorbar": {
              "outlinewidth": 0,
              "ticks": ""
             }
            },
            "type": "parcoords"
           }
          ],
          "pie": [
           {
            "automargin": true,
            "type": "pie"
           }
          ],
          "scatter": [
           {
            "fillpattern": {
             "fillmode": "overlay",
             "size": 10,
             "solidity": 0.2
            },
            "type": "scatter"
           }
          ],
          "scatter3d": [
           {
            "line": {
             "colorbar": {
              "outlinewidth": 0,
              "ticks": ""
             }
            },
            "marker": {
             "colorbar": {
              "outlinewidth": 0,
              "ticks": ""
             }
            },
            "type": "scatter3d"
           }
          ],
          "scattercarpet": [
           {
            "marker": {
             "colorbar": {
              "outlinewidth": 0,
              "ticks": ""
             }
            },
            "type": "scattercarpet"
           }
          ],
          "scattergeo": [
           {
            "marker": {
             "colorbar": {
              "outlinewidth": 0,
              "ticks": ""
             }
            },
            "type": "scattergeo"
           }
          ],
          "scattergl": [
           {
            "marker": {
             "colorbar": {
              "outlinewidth": 0,
              "ticks": ""
             }
            },
            "type": "scattergl"
           }
          ],
          "scattermapbox": [
           {
            "marker": {
             "colorbar": {
              "outlinewidth": 0,
              "ticks": ""
             }
            },
            "type": "scattermapbox"
           }
          ],
          "scatterpolar": [
           {
            "marker": {
             "colorbar": {
              "outlinewidth": 0,
              "ticks": ""
             }
            },
            "type": "scatterpolar"
           }
          ],
          "scatterpolargl": [
           {
            "marker": {
             "colorbar": {
              "outlinewidth": 0,
              "ticks": ""
             }
            },
            "type": "scatterpolargl"
           }
          ],
          "scatterternary": [
           {
            "marker": {
             "colorbar": {
              "outlinewidth": 0,
              "ticks": ""
             }
            },
            "type": "scatterternary"
           }
          ],
          "surface": [
           {
            "colorbar": {
             "outlinewidth": 0,
             "ticks": ""
            },
            "colorscale": [
             [
              0,
              "#0d0887"
             ],
             [
              0.1111111111111111,
              "#46039f"
             ],
             [
              0.2222222222222222,
              "#7201a8"
             ],
             [
              0.3333333333333333,
              "#9c179e"
             ],
             [
              0.4444444444444444,
              "#bd3786"
             ],
             [
              0.5555555555555556,
              "#d8576b"
             ],
             [
              0.6666666666666666,
              "#ed7953"
             ],
             [
              0.7777777777777778,
              "#fb9f3a"
             ],
             [
              0.8888888888888888,
              "#fdca26"
             ],
             [
              1,
              "#f0f921"
             ]
            ],
            "type": "surface"
           }
          ],
          "table": [
           {
            "cells": {
             "fill": {
              "color": "#EBF0F8"
             },
             "line": {
              "color": "white"
             }
            },
            "header": {
             "fill": {
              "color": "#C8D4E3"
             },
             "line": {
              "color": "white"
             }
            },
            "type": "table"
           }
          ]
         },
         "layout": {
          "annotationdefaults": {
           "arrowcolor": "#2a3f5f",
           "arrowhead": 0,
           "arrowwidth": 1
          },
          "autotypenumbers": "strict",
          "coloraxis": {
           "colorbar": {
            "outlinewidth": 0,
            "ticks": ""
           }
          },
          "colorscale": {
           "diverging": [
            [
             0,
             "#8e0152"
            ],
            [
             0.1,
             "#c51b7d"
            ],
            [
             0.2,
             "#de77ae"
            ],
            [
             0.3,
             "#f1b6da"
            ],
            [
             0.4,
             "#fde0ef"
            ],
            [
             0.5,
             "#f7f7f7"
            ],
            [
             0.6,
             "#e6f5d0"
            ],
            [
             0.7,
             "#b8e186"
            ],
            [
             0.8,
             "#7fbc41"
            ],
            [
             0.9,
             "#4d9221"
            ],
            [
             1,
             "#276419"
            ]
           ],
           "sequential": [
            [
             0,
             "#0d0887"
            ],
            [
             0.1111111111111111,
             "#46039f"
            ],
            [
             0.2222222222222222,
             "#7201a8"
            ],
            [
             0.3333333333333333,
             "#9c179e"
            ],
            [
             0.4444444444444444,
             "#bd3786"
            ],
            [
             0.5555555555555556,
             "#d8576b"
            ],
            [
             0.6666666666666666,
             "#ed7953"
            ],
            [
             0.7777777777777778,
             "#fb9f3a"
            ],
            [
             0.8888888888888888,
             "#fdca26"
            ],
            [
             1,
             "#f0f921"
            ]
           ],
           "sequentialminus": [
            [
             0,
             "#0d0887"
            ],
            [
             0.1111111111111111,
             "#46039f"
            ],
            [
             0.2222222222222222,
             "#7201a8"
            ],
            [
             0.3333333333333333,
             "#9c179e"
            ],
            [
             0.4444444444444444,
             "#bd3786"
            ],
            [
             0.5555555555555556,
             "#d8576b"
            ],
            [
             0.6666666666666666,
             "#ed7953"
            ],
            [
             0.7777777777777778,
             "#fb9f3a"
            ],
            [
             0.8888888888888888,
             "#fdca26"
            ],
            [
             1,
             "#f0f921"
            ]
           ]
          },
          "colorway": [
           "#636efa",
           "#EF553B",
           "#00cc96",
           "#ab63fa",
           "#FFA15A",
           "#19d3f3",
           "#FF6692",
           "#B6E880",
           "#FF97FF",
           "#FECB52"
          ],
          "font": {
           "color": "#2a3f5f"
          },
          "geo": {
           "bgcolor": "white",
           "lakecolor": "white",
           "landcolor": "#E5ECF6",
           "showlakes": true,
           "showland": true,
           "subunitcolor": "white"
          },
          "hoverlabel": {
           "align": "left"
          },
          "hovermode": "closest",
          "mapbox": {
           "style": "light"
          },
          "paper_bgcolor": "white",
          "plot_bgcolor": "#E5ECF6",
          "polar": {
           "angularaxis": {
            "gridcolor": "white",
            "linecolor": "white",
            "ticks": ""
           },
           "bgcolor": "#E5ECF6",
           "radialaxis": {
            "gridcolor": "white",
            "linecolor": "white",
            "ticks": ""
           }
          },
          "scene": {
           "xaxis": {
            "backgroundcolor": "#E5ECF6",
            "gridcolor": "white",
            "gridwidth": 2,
            "linecolor": "white",
            "showbackground": true,
            "ticks": "",
            "zerolinecolor": "white"
           },
           "yaxis": {
            "backgroundcolor": "#E5ECF6",
            "gridcolor": "white",
            "gridwidth": 2,
            "linecolor": "white",
            "showbackground": true,
            "ticks": "",
            "zerolinecolor": "white"
           },
           "zaxis": {
            "backgroundcolor": "#E5ECF6",
            "gridcolor": "white",
            "gridwidth": 2,
            "linecolor": "white",
            "showbackground": true,
            "ticks": "",
            "zerolinecolor": "white"
           }
          },
          "shapedefaults": {
           "line": {
            "color": "#2a3f5f"
           }
          },
          "ternary": {
           "aaxis": {
            "gridcolor": "white",
            "linecolor": "white",
            "ticks": ""
           },
           "baxis": {
            "gridcolor": "white",
            "linecolor": "white",
            "ticks": ""
           },
           "bgcolor": "#E5ECF6",
           "caxis": {
            "gridcolor": "white",
            "linecolor": "white",
            "ticks": ""
           }
          },
          "title": {
           "x": 0.05
          },
          "xaxis": {
           "automargin": true,
           "gridcolor": "white",
           "linecolor": "white",
           "ticks": "",
           "title": {
            "standoff": 15
           },
           "zerolinecolor": "white",
           "zerolinewidth": 2
          },
          "yaxis": {
           "automargin": true,
           "gridcolor": "white",
           "linecolor": "white",
           "ticks": "",
           "title": {
            "standoff": 15
           },
           "zerolinecolor": "white",
           "zerolinewidth": 2
          }
         }
        },
        "title": {
         "text": "Cutset conditioning (red) vs variable elimination (blue)"
        },
        "width": 800,
        "xaxis": {
         "anchor": "y",
         "domain": [
          0,
          1
         ],
         "nticks": 20,
         "range": [
          1,
          6
         ],
         "title": {
          "font": {
           "size": 12
          },
          "standoff": 7,
          "text": "Healthy FEV1 (L)"
         }
        },
        "xaxis2": {
         "anchor": "y2",
         "domain": [
          0,
          1
         ],
         "nticks": 20,
         "range": [
          0,
          90
         ],
         "title": {
          "font": {
           "size": 12
          },
          "standoff": 7,
          "text": "Airway resistance (%) day 1"
         }
        },
        "xaxis3": {
         "anchor": "y3",
         "domain": [
          0,
          1
         ],
         "nticks": 20,
         "range": [
          0,
          90
         ],
         "title": {
          "font": {
           "size": 12
          },
          "standoff": 7,
          "text": "Airway resistance (%) day 2"
         }
        },
        "xaxis4": {
         "anchor": "y4",
         "domain": [
          0,
          1
         ],
         "nticks": 20,
         "range": [
          0,
          90
         ],
         "title": {
          "font": {
           "size": 12
          },
          "standoff": 7,
          "text": "Airway resistance (%) day 3"
         }
        },
        "yaxis": {
         "anchor": "x",
         "domain": [
          0.8475,
          1
         ]
        },
        "yaxis2": {
         "anchor": "x2",
         "domain": [
          0.565,
          0.7174999999999999
         ]
        },
        "yaxis3": {
         "anchor": "x3",
         "domain": [
          0.2825,
          0.43499999999999994
         ]
        },
        "yaxis4": {
         "anchor": "x4",
         "domain": [
          0,
          0.1525
         ]
        }
       }
      }
     },
     "metadata": {},
     "output_type": "display_data"
    }
   ],
   "source": [
    "fig = make_subplots(rows=4, cols=1, vertical_spacing=0.13)\n",
    "# Add HFEV1\n",
    "ih.plot_histogram(\n",
    "    fig, HFEV1, res_exact[HFEV1.name].values, HFEV1.a, HFEV1.b, 1, 1, annot=False\n",
    ")\n",
    "ih.plot_histogram(\n",
    "    fig, AR, res_exact[AR_vars[0].name].values, AR.a, AR.b, 2, 1, annot=False\n",
    ")\n",
    "ih.plot_histogram(\n",
    "    fig, AR, res_exact[AR_vars[1].name].values, AR.a, AR.b, 3, 1, annot=False\n",
    ")\n",
    "ih.plot_histogram(\n",
    "    fig, AR, res_exact[AR_vars[2].name].values, AR.a, AR.b, 4, 1, annot=False\n",
    ")\n",
    "\n",
    "# Add HFEV1\n",
    "ih.plot_histogram(\n",
    "    fig,\n",
    "    HFEV1,\n",
    "    df_query_res.loc[0, HFEV1.name],\n",
    "    HFEV1.a,\n",
    "    HFEV1.b,\n",
    "    1,\n",
    "    1,\n",
    "    title=HFEV1.name,\n",
    ")\n",
    "ih.plot_histogram(\n",
    "    fig,\n",
    "    AR,\n",
    "    df_query_res.loc[0, AR.name],\n",
    "    AR.a,\n",
    "    AR.b,\n",
    "    2,\n",
    "    1,\n",
    "    title=f\"{AR.name} day 1\",\n",
    "    annot=False,\n",
    ")\n",
    "ih.plot_histogram(\n",
    "    fig,\n",
    "    AR,\n",
    "    df_query_res.loc[1, AR.name],\n",
    "    AR.a,\n",
    "    AR.b,\n",
    "    3,\n",
    "    1,\n",
    "    title=f\"{AR.name} day 2\",\n",
    "    annot=False,\n",
    ")\n",
    "ih.plot_histogram(\n",
    "    fig,\n",
    "    AR,\n",
    "    df_query_res.loc[2, AR.name],\n",
    "    AR.a,\n",
    "    AR.b,\n",
    "    4,\n",
    "    1,\n",
    "    title=f\"{AR.name} day 3\",\n",
    "    annot=False,\n",
    ")\n",
    "\n",
    "for i in range(4):\n",
    "    fig.data[i].marker.color = \"#636EFA\"\n",
    "    fig.data[i + 4].marker.color = \"#EF553B\"\n",
    "# Reduce x axis title font size\n",
    "fig.update_xaxes(title_font=dict(size=12), title_standoff=7)\n",
    "\n",
    "# Hide legend\n",
    "title = \"Cutset conditioning (red) vs variable elimination (blue)\"\n",
    "fig.update_layout(showlegend=False, height=550, width=800, title=title)\n",
    "fig.show()"
   ]
  },
  {
   "cell_type": "markdown",
   "metadata": {},
   "source": [
    "## Validate query_forwardly_across_days() with day specific evidence"
   ]
  },
  {
   "cell_type": "code",
   "execution_count": 5,
   "metadata": {},
   "outputs": [
    {
     "name": "stdout",
     "output_type": "stream",
     "text": [
      "Day specific evidence: [('Airway resistance (%)', [Timestamp('2020-01-03 00:00:00'), Timestamp('2020-01-04 00:00:00')])]\n"
     ]
    }
   ],
   "source": [
    "# Adapted code to see if the forward days inference alg with precomputed messages is valid\n",
    "# Uses model with FEV1 (with its noise model), FEF25-75\n",
    "\n",
    "ecfev1_noise_model_cpt_suffix = \"_std_0.7\"\n",
    "n_days = 3\n",
    "\n",
    "# Set values\n",
    "height = df_mock.Height.iloc[0]\n",
    "age = df_mock.Age.iloc[0]\n",
    "sex = df_mock.Sex.iloc[0]\n",
    "\n",
    "(\n",
    "    _,\n",
    "    inf_alg_approx,\n",
    "    HFEV1,\n",
    "    uecFEV1,\n",
    "    ecFEV1,\n",
    "    AR,\n",
    "    HO2Sat,\n",
    "    O2SatFFA,\n",
    "    IA,\n",
    "    UO2Sat,\n",
    "    O2Sat,\n",
    "    ecFEF2575prctecFEV1,\n",
    ") = mb.o2sat_fev1_fef2575_point_in_time_model_noise_shared_healthy_vars_light(\n",
    "    height,\n",
    "    age,\n",
    "    sex,\n",
    "    ecfev1_noise_model_cpt_suffix=ecfev1_noise_model_cpt_suffix,\n",
    ")\n",
    "\n",
    "# Set inputs for approximate inference\n",
    "shared_vars_approx = [HFEV1, HO2Sat]\n",
    "vars_approx = [AR]\n",
    "# obs_var_names_approx = [ecFEV1.name, O2Sat.name]\n",
    "obs_var_names_approx = [ecFEV1.name]\n",
    "\n",
    "# APPROXIMATE INFERENCE\n",
    "# Get precompupted messages to speedup inference\n",
    "arr = np.ones(AR.card)\n",
    "arr /= arr.sum()\n",
    "uniform_from_o2_side = {\n",
    "    \"['O2 saturation if fully functional alveoli (%)', 'Healthy O2 saturation (%)', 'Airway resistance (%)'] -> Airway resistance (%)\": arr\n",
    "}\n",
    "precomp_messages = uniform_from_o2_side\n",
    "\n",
    "# Day specific evidence\n",
    "# Create exp decreasing evidence\n",
    "# ar_obs_idx = np.exp(-np.arange(AR.card))\n",
    "\n",
    "df_mock[AR.name] = -1\n",
    "df_mock[f\"idx {AR.name}\"] = 1000\n",
    "df_mock.loc[1, AR.name] = 5\n",
    "ar_obs_idx_day_1 = AR.get_bin_idx_for_value(df_mock.loc[1, AR.name])\n",
    "df_mock.loc[1, f\"idx {AR.name}\"] = ar_obs_idx_day_1\n",
    "df_mock.loc[2, AR.name] = 12\n",
    "ar_obs_idx_day_2 = AR.get_bin_idx_for_value(df_mock.loc[2, AR.name])\n",
    "df_mock.loc[2, f\"idx {AR.name}\"] = ar_obs_idx_day_2\n",
    "\n",
    "days_specific_evidence = [\n",
    "    (AR.name, [df_mock.loc[1, \"Date Recorded\"], df_mock.loc[2, \"Date Recorded\"]])\n",
    "]\n",
    "print(f\"Day specific evidence: {days_specific_evidence}\")\n",
    "\n",
    "df_query_res, df_res_before_convergence, shared_vars_final = (\n",
    "    slicing.query_forwardly_across_days(\n",
    "        df_mock,\n",
    "        inf_alg_approx,\n",
    "        shared_vars_approx,\n",
    "        vars_approx,\n",
    "        obs_var_names_approx,\n",
    "        1e-8,\n",
    "        days_specific_evidence,\n",
    "        # precomp_messages={},\n",
    "        precomp_messages=precomp_messages.copy(),\n",
    "        debug=False,\n",
    "        auto_reset_shared_vars=True,\n",
    "    )\n",
    ")\n",
    "hfev1_approx = df_query_res.loc[0, HFEV1.name]\n",
    "ho2sat_approx = df_query_res.loc[0, HO2Sat.name]\n",
    "\n",
    "# EXACT INFERENCE\n",
    "# (\n",
    "#     model_exact,\n",
    "#     inf_alg_exact,\n",
    "#     HFEV1,\n",
    "#     HO2Sat,\n",
    "#     AR_vars,\n",
    "#     ecFEV1_vars,\n",
    "#     O2SatFFA_vars,\n",
    "#     IA_vars,\n",
    "#     UO2Sat_vars,\n",
    "#     O2Sat_vars,\n",
    "# ) = mb.o2_sat_fev1_n_days_model_light(n_days, height, age, sex)\n",
    "(\n",
    "    model_exact,\n",
    "    # inf_alg_exact,\n",
    "    HFEV1,\n",
    "    HO2Sat,\n",
    "    AR_vars,\n",
    "    uecFEV1_vars,\n",
    "    ecFEV1_vars,\n",
    "    O2SatFFA_vars,\n",
    "    IA_vars,\n",
    "    UO2Sat_vars,\n",
    "    O2Sat_vars,\n",
    "    ecFEF2575prctecFEV1,\n",
    ") = mb.o2sat_fev1_fef2575_n_days_model_noise_shared_healthy_vars_light(\n",
    "    n_days,\n",
    "    height,\n",
    "    age,\n",
    "    sex,\n",
    "    ecfev1_noise_model_cpt_suffix=ecfev1_noise_model_cpt_suffix,\n",
    ")\n",
    "var_elim = VariableElimination(model_exact)\n",
    "\n",
    "shared_vars_exact = [HFEV1.name, HO2Sat.name]\n",
    "obs_vars_exact = {}\n",
    "for j in range(n_days):\n",
    "    ecfev1_obs = df_mock.loc[j, \"idx ecFEV1 (L)\"]\n",
    "    # o2sat_obs = df_n_days.reset_index().loc[j, \"O2 Saturation\"]\n",
    "    obs_vars_exact[ecFEV1_vars[j].name] = ecfev1_obs\n",
    "    # [O2Sat_vars[j], o2sat_obs],\n",
    "obs_vars_exact[AR_vars[1].name] = ar_obs_idx_day_1\n",
    "obs_vars_exact[AR_vars[2].name] = ar_obs_idx_day_2\n",
    "\n",
    "res_exact = var_elim.query(\n",
    "    variables=[HFEV1.name, AR_vars[0].name], evidence=obs_vars_exact, joint=False\n",
    ")"
   ]
  },
  {
   "cell_type": "code",
   "execution_count": 7,
   "metadata": {},
   "outputs": [
    {
     "data": {
      "application/vnd.plotly.v1+json": {
       "config": {
        "plotlyServerURL": "https://plot.ly"
       },
       "data": [
        {
         "histfunc": "sum",
         "marker": {
          "color": "#636EFA"
         },
         "type": "histogram",
         "x": [
          1,
          2,
          3,
          4,
          5
         ],
         "xaxis": "x",
         "xbins": {
          "end": 6,
          "size": 1,
          "start": 1
         },
         "y": [
          0.000019519207697282215,
          0.059497240223525,
          0.9104939062080772,
          0.029989334360700594,
          0
         ],
         "yaxis": "y"
        },
        {
         "histfunc": "sum",
         "marker": {
          "color": "#636EFA"
         },
         "type": "histogram",
         "x": [
          0,
          10,
          20,
          30,
          40,
          50,
          60,
          70,
          80
         ],
         "xaxis": "x2",
         "xbins": {
          "end": 90,
          "size": 10,
          "start": 0
         },
         "y": [
          0.021621294363233384,
          0.04940450592898073,
          0.07981925327276737,
          0.09835922633602527,
          0.15362364897836028,
          0.19003032150813445,
          0.18533686440160463,
          0.11964983777559678,
          0.10215504743529713
         ],
         "yaxis": "y2"
        },
        {
         "histfunc": "sum",
         "marker": {
          "color": "#636EFA"
         },
         "type": "histogram",
         "x": [
          0,
          10,
          20,
          30,
          40,
          50,
          60,
          70,
          80
         ],
         "xaxis": "x3",
         "xbins": {
          "end": 90,
          "size": 10,
          "start": 0
         },
         "y": [
          1,
          0,
          0,
          0,
          0,
          0,
          0,
          0,
          0
         ],
         "yaxis": "y3"
        },
        {
         "histfunc": "sum",
         "marker": {
          "color": "#636EFA"
         },
         "type": "histogram",
         "x": [
          0,
          10,
          20,
          30,
          40,
          50,
          60,
          70,
          80
         ],
         "xaxis": "x4",
         "xbins": {
          "end": 90,
          "size": 10,
          "start": 0
         },
         "y": [
          0,
          1,
          0,
          0,
          0,
          0,
          0,
          0,
          0
         ],
         "yaxis": "y4"
        },
        {
         "histfunc": "sum",
         "marker": {
          "color": "#EF553B"
         },
         "type": "histogram",
         "x": [
          1,
          2,
          3,
          4,
          5
         ],
         "xaxis": "x",
         "xbins": {
          "end": 6,
          "size": 1,
          "start": 1
         },
         "y": [
          0.0000195192076972822,
          0.059497240223524955,
          0.9104939062080772,
          0.02998933436070058,
          0
         ],
         "yaxis": "y"
        },
        {
         "histfunc": "sum",
         "marker": {
          "color": "#EF553B"
         },
         "type": "histogram",
         "x": [
          0,
          10,
          20,
          30,
          40,
          50,
          60,
          70,
          80
         ],
         "xaxis": "x2",
         "xbins": {
          "end": 90,
          "size": 10,
          "start": 0
         },
         "y": [
          0.021621294363233384,
          0.04940450592898071,
          0.07981925327276734,
          0.09835922633602526,
          0.15362364897836023,
          0.19003032150813448,
          0.18533686440160468,
          0.11964983777559675,
          0.1021550474352971
         ],
         "yaxis": "y2"
        },
        {
         "histfunc": "sum",
         "marker": {
          "color": "#EF553B"
         },
         "type": "histogram",
         "x": [
          0,
          10,
          20,
          30,
          40,
          50,
          60,
          70,
          80
         ],
         "xaxis": "x3",
         "xbins": {
          "end": 90,
          "size": 10,
          "start": 0
         },
         "y": [
          1,
          0,
          0,
          0,
          0,
          0,
          0,
          0,
          0
         ],
         "yaxis": "y3"
        },
        {
         "histfunc": "sum",
         "marker": {
          "color": "#EF553B"
         },
         "type": "histogram",
         "x": [
          0,
          10,
          20,
          30,
          40,
          50,
          60,
          70,
          80
         ],
         "xaxis": "x4",
         "xbins": {
          "end": 90,
          "size": 10,
          "start": 0
         },
         "y": [
          0,
          1,
          0,
          0,
          0,
          0,
          0,
          0,
          0
         ],
         "yaxis": "y4"
        }
       ],
       "layout": {
        "annotations": [
         {
          "font": {
           "size": 8
          },
          "showarrow": false,
          "text": "3.47",
          "x": 3.4704530557217814,
          "xref": "x",
          "y": 1.001543296828885,
          "yref": "y"
         }
        ],
        "height": 550,
        "showlegend": false,
        "template": {
         "data": {
          "bar": [
           {
            "error_x": {
             "color": "#2a3f5f"
            },
            "error_y": {
             "color": "#2a3f5f"
            },
            "marker": {
             "line": {
              "color": "#E5ECF6",
              "width": 0.5
             },
             "pattern": {
              "fillmode": "overlay",
              "size": 10,
              "solidity": 0.2
             }
            },
            "type": "bar"
           }
          ],
          "barpolar": [
           {
            "marker": {
             "line": {
              "color": "#E5ECF6",
              "width": 0.5
             },
             "pattern": {
              "fillmode": "overlay",
              "size": 10,
              "solidity": 0.2
             }
            },
            "type": "barpolar"
           }
          ],
          "carpet": [
           {
            "aaxis": {
             "endlinecolor": "#2a3f5f",
             "gridcolor": "white",
             "linecolor": "white",
             "minorgridcolor": "white",
             "startlinecolor": "#2a3f5f"
            },
            "baxis": {
             "endlinecolor": "#2a3f5f",
             "gridcolor": "white",
             "linecolor": "white",
             "minorgridcolor": "white",
             "startlinecolor": "#2a3f5f"
            },
            "type": "carpet"
           }
          ],
          "choropleth": [
           {
            "colorbar": {
             "outlinewidth": 0,
             "ticks": ""
            },
            "type": "choropleth"
           }
          ],
          "contour": [
           {
            "colorbar": {
             "outlinewidth": 0,
             "ticks": ""
            },
            "colorscale": [
             [
              0,
              "#0d0887"
             ],
             [
              0.1111111111111111,
              "#46039f"
             ],
             [
              0.2222222222222222,
              "#7201a8"
             ],
             [
              0.3333333333333333,
              "#9c179e"
             ],
             [
              0.4444444444444444,
              "#bd3786"
             ],
             [
              0.5555555555555556,
              "#d8576b"
             ],
             [
              0.6666666666666666,
              "#ed7953"
             ],
             [
              0.7777777777777778,
              "#fb9f3a"
             ],
             [
              0.8888888888888888,
              "#fdca26"
             ],
             [
              1,
              "#f0f921"
             ]
            ],
            "type": "contour"
           }
          ],
          "contourcarpet": [
           {
            "colorbar": {
             "outlinewidth": 0,
             "ticks": ""
            },
            "type": "contourcarpet"
           }
          ],
          "heatmap": [
           {
            "colorbar": {
             "outlinewidth": 0,
             "ticks": ""
            },
            "colorscale": [
             [
              0,
              "#0d0887"
             ],
             [
              0.1111111111111111,
              "#46039f"
             ],
             [
              0.2222222222222222,
              "#7201a8"
             ],
             [
              0.3333333333333333,
              "#9c179e"
             ],
             [
              0.4444444444444444,
              "#bd3786"
             ],
             [
              0.5555555555555556,
              "#d8576b"
             ],
             [
              0.6666666666666666,
              "#ed7953"
             ],
             [
              0.7777777777777778,
              "#fb9f3a"
             ],
             [
              0.8888888888888888,
              "#fdca26"
             ],
             [
              1,
              "#f0f921"
             ]
            ],
            "type": "heatmap"
           }
          ],
          "heatmapgl": [
           {
            "colorbar": {
             "outlinewidth": 0,
             "ticks": ""
            },
            "colorscale": [
             [
              0,
              "#0d0887"
             ],
             [
              0.1111111111111111,
              "#46039f"
             ],
             [
              0.2222222222222222,
              "#7201a8"
             ],
             [
              0.3333333333333333,
              "#9c179e"
             ],
             [
              0.4444444444444444,
              "#bd3786"
             ],
             [
              0.5555555555555556,
              "#d8576b"
             ],
             [
              0.6666666666666666,
              "#ed7953"
             ],
             [
              0.7777777777777778,
              "#fb9f3a"
             ],
             [
              0.8888888888888888,
              "#fdca26"
             ],
             [
              1,
              "#f0f921"
             ]
            ],
            "type": "heatmapgl"
           }
          ],
          "histogram": [
           {
            "marker": {
             "pattern": {
              "fillmode": "overlay",
              "size": 10,
              "solidity": 0.2
             }
            },
            "type": "histogram"
           }
          ],
          "histogram2d": [
           {
            "colorbar": {
             "outlinewidth": 0,
             "ticks": ""
            },
            "colorscale": [
             [
              0,
              "#0d0887"
             ],
             [
              0.1111111111111111,
              "#46039f"
             ],
             [
              0.2222222222222222,
              "#7201a8"
             ],
             [
              0.3333333333333333,
              "#9c179e"
             ],
             [
              0.4444444444444444,
              "#bd3786"
             ],
             [
              0.5555555555555556,
              "#d8576b"
             ],
             [
              0.6666666666666666,
              "#ed7953"
             ],
             [
              0.7777777777777778,
              "#fb9f3a"
             ],
             [
              0.8888888888888888,
              "#fdca26"
             ],
             [
              1,
              "#f0f921"
             ]
            ],
            "type": "histogram2d"
           }
          ],
          "histogram2dcontour": [
           {
            "colorbar": {
             "outlinewidth": 0,
             "ticks": ""
            },
            "colorscale": [
             [
              0,
              "#0d0887"
             ],
             [
              0.1111111111111111,
              "#46039f"
             ],
             [
              0.2222222222222222,
              "#7201a8"
             ],
             [
              0.3333333333333333,
              "#9c179e"
             ],
             [
              0.4444444444444444,
              "#bd3786"
             ],
             [
              0.5555555555555556,
              "#d8576b"
             ],
             [
              0.6666666666666666,
              "#ed7953"
             ],
             [
              0.7777777777777778,
              "#fb9f3a"
             ],
             [
              0.8888888888888888,
              "#fdca26"
             ],
             [
              1,
              "#f0f921"
             ]
            ],
            "type": "histogram2dcontour"
           }
          ],
          "mesh3d": [
           {
            "colorbar": {
             "outlinewidth": 0,
             "ticks": ""
            },
            "type": "mesh3d"
           }
          ],
          "parcoords": [
           {
            "line": {
             "colorbar": {
              "outlinewidth": 0,
              "ticks": ""
             }
            },
            "type": "parcoords"
           }
          ],
          "pie": [
           {
            "automargin": true,
            "type": "pie"
           }
          ],
          "scatter": [
           {
            "fillpattern": {
             "fillmode": "overlay",
             "size": 10,
             "solidity": 0.2
            },
            "type": "scatter"
           }
          ],
          "scatter3d": [
           {
            "line": {
             "colorbar": {
              "outlinewidth": 0,
              "ticks": ""
             }
            },
            "marker": {
             "colorbar": {
              "outlinewidth": 0,
              "ticks": ""
             }
            },
            "type": "scatter3d"
           }
          ],
          "scattercarpet": [
           {
            "marker": {
             "colorbar": {
              "outlinewidth": 0,
              "ticks": ""
             }
            },
            "type": "scattercarpet"
           }
          ],
          "scattergeo": [
           {
            "marker": {
             "colorbar": {
              "outlinewidth": 0,
              "ticks": ""
             }
            },
            "type": "scattergeo"
           }
          ],
          "scattergl": [
           {
            "marker": {
             "colorbar": {
              "outlinewidth": 0,
              "ticks": ""
             }
            },
            "type": "scattergl"
           }
          ],
          "scattermapbox": [
           {
            "marker": {
             "colorbar": {
              "outlinewidth": 0,
              "ticks": ""
             }
            },
            "type": "scattermapbox"
           }
          ],
          "scatterpolar": [
           {
            "marker": {
             "colorbar": {
              "outlinewidth": 0,
              "ticks": ""
             }
            },
            "type": "scatterpolar"
           }
          ],
          "scatterpolargl": [
           {
            "marker": {
             "colorbar": {
              "outlinewidth": 0,
              "ticks": ""
             }
            },
            "type": "scatterpolargl"
           }
          ],
          "scatterternary": [
           {
            "marker": {
             "colorbar": {
              "outlinewidth": 0,
              "ticks": ""
             }
            },
            "type": "scatterternary"
           }
          ],
          "surface": [
           {
            "colorbar": {
             "outlinewidth": 0,
             "ticks": ""
            },
            "colorscale": [
             [
              0,
              "#0d0887"
             ],
             [
              0.1111111111111111,
              "#46039f"
             ],
             [
              0.2222222222222222,
              "#7201a8"
             ],
             [
              0.3333333333333333,
              "#9c179e"
             ],
             [
              0.4444444444444444,
              "#bd3786"
             ],
             [
              0.5555555555555556,
              "#d8576b"
             ],
             [
              0.6666666666666666,
              "#ed7953"
             ],
             [
              0.7777777777777778,
              "#fb9f3a"
             ],
             [
              0.8888888888888888,
              "#fdca26"
             ],
             [
              1,
              "#f0f921"
             ]
            ],
            "type": "surface"
           }
          ],
          "table": [
           {
            "cells": {
             "fill": {
              "color": "#EBF0F8"
             },
             "line": {
              "color": "white"
             }
            },
            "header": {
             "fill": {
              "color": "#C8D4E3"
             },
             "line": {
              "color": "white"
             }
            },
            "type": "table"
           }
          ]
         },
         "layout": {
          "annotationdefaults": {
           "arrowcolor": "#2a3f5f",
           "arrowhead": 0,
           "arrowwidth": 1
          },
          "autotypenumbers": "strict",
          "coloraxis": {
           "colorbar": {
            "outlinewidth": 0,
            "ticks": ""
           }
          },
          "colorscale": {
           "diverging": [
            [
             0,
             "#8e0152"
            ],
            [
             0.1,
             "#c51b7d"
            ],
            [
             0.2,
             "#de77ae"
            ],
            [
             0.3,
             "#f1b6da"
            ],
            [
             0.4,
             "#fde0ef"
            ],
            [
             0.5,
             "#f7f7f7"
            ],
            [
             0.6,
             "#e6f5d0"
            ],
            [
             0.7,
             "#b8e186"
            ],
            [
             0.8,
             "#7fbc41"
            ],
            [
             0.9,
             "#4d9221"
            ],
            [
             1,
             "#276419"
            ]
           ],
           "sequential": [
            [
             0,
             "#0d0887"
            ],
            [
             0.1111111111111111,
             "#46039f"
            ],
            [
             0.2222222222222222,
             "#7201a8"
            ],
            [
             0.3333333333333333,
             "#9c179e"
            ],
            [
             0.4444444444444444,
             "#bd3786"
            ],
            [
             0.5555555555555556,
             "#d8576b"
            ],
            [
             0.6666666666666666,
             "#ed7953"
            ],
            [
             0.7777777777777778,
             "#fb9f3a"
            ],
            [
             0.8888888888888888,
             "#fdca26"
            ],
            [
             1,
             "#f0f921"
            ]
           ],
           "sequentialminus": [
            [
             0,
             "#0d0887"
            ],
            [
             0.1111111111111111,
             "#46039f"
            ],
            [
             0.2222222222222222,
             "#7201a8"
            ],
            [
             0.3333333333333333,
             "#9c179e"
            ],
            [
             0.4444444444444444,
             "#bd3786"
            ],
            [
             0.5555555555555556,
             "#d8576b"
            ],
            [
             0.6666666666666666,
             "#ed7953"
            ],
            [
             0.7777777777777778,
             "#fb9f3a"
            ],
            [
             0.8888888888888888,
             "#fdca26"
            ],
            [
             1,
             "#f0f921"
            ]
           ]
          },
          "colorway": [
           "#636efa",
           "#EF553B",
           "#00cc96",
           "#ab63fa",
           "#FFA15A",
           "#19d3f3",
           "#FF6692",
           "#B6E880",
           "#FF97FF",
           "#FECB52"
          ],
          "font": {
           "color": "#2a3f5f"
          },
          "geo": {
           "bgcolor": "white",
           "lakecolor": "white",
           "landcolor": "#E5ECF6",
           "showlakes": true,
           "showland": true,
           "subunitcolor": "white"
          },
          "hoverlabel": {
           "align": "left"
          },
          "hovermode": "closest",
          "mapbox": {
           "style": "light"
          },
          "paper_bgcolor": "white",
          "plot_bgcolor": "#E5ECF6",
          "polar": {
           "angularaxis": {
            "gridcolor": "white",
            "linecolor": "white",
            "ticks": ""
           },
           "bgcolor": "#E5ECF6",
           "radialaxis": {
            "gridcolor": "white",
            "linecolor": "white",
            "ticks": ""
           }
          },
          "scene": {
           "xaxis": {
            "backgroundcolor": "#E5ECF6",
            "gridcolor": "white",
            "gridwidth": 2,
            "linecolor": "white",
            "showbackground": true,
            "ticks": "",
            "zerolinecolor": "white"
           },
           "yaxis": {
            "backgroundcolor": "#E5ECF6",
            "gridcolor": "white",
            "gridwidth": 2,
            "linecolor": "white",
            "showbackground": true,
            "ticks": "",
            "zerolinecolor": "white"
           },
           "zaxis": {
            "backgroundcolor": "#E5ECF6",
            "gridcolor": "white",
            "gridwidth": 2,
            "linecolor": "white",
            "showbackground": true,
            "ticks": "",
            "zerolinecolor": "white"
           }
          },
          "shapedefaults": {
           "line": {
            "color": "#2a3f5f"
           }
          },
          "ternary": {
           "aaxis": {
            "gridcolor": "white",
            "linecolor": "white",
            "ticks": ""
           },
           "baxis": {
            "gridcolor": "white",
            "linecolor": "white",
            "ticks": ""
           },
           "bgcolor": "#E5ECF6",
           "caxis": {
            "gridcolor": "white",
            "linecolor": "white",
            "ticks": ""
           }
          },
          "title": {
           "x": 0.05
          },
          "xaxis": {
           "automargin": true,
           "gridcolor": "white",
           "linecolor": "white",
           "ticks": "",
           "title": {
            "standoff": 15
           },
           "zerolinecolor": "white",
           "zerolinewidth": 2
          },
          "yaxis": {
           "automargin": true,
           "gridcolor": "white",
           "linecolor": "white",
           "ticks": "",
           "title": {
            "standoff": 15
           },
           "zerolinecolor": "white",
           "zerolinewidth": 2
          }
         }
        },
        "title": {
         "text": "Cutset conditioning (red) vs variable elimination (blue)"
        },
        "width": 800,
        "xaxis": {
         "anchor": "y",
         "domain": [
          0,
          1
         ],
         "nticks": 20,
         "range": [
          1,
          6
         ],
         "title": {
          "font": {
           "size": 12
          },
          "standoff": 7,
          "text": "Healthy FEV1 (L)"
         }
        },
        "xaxis2": {
         "anchor": "y2",
         "domain": [
          0,
          1
         ],
         "nticks": 20,
         "range": [
          0,
          90
         ],
         "title": {
          "font": {
           "size": 12
          },
          "standoff": 7,
          "text": "Airway resistance (%) day 1"
         }
        },
        "xaxis3": {
         "anchor": "y3",
         "domain": [
          0,
          1
         ],
         "nticks": 20,
         "range": [
          0,
          90
         ],
         "title": {
          "font": {
           "size": 12
          },
          "standoff": 7,
          "text": "Airway resistance (%) day 2"
         }
        },
        "xaxis4": {
         "anchor": "y4",
         "domain": [
          0,
          1
         ],
         "nticks": 20,
         "range": [
          0,
          90
         ],
         "title": {
          "font": {
           "size": 12
          },
          "standoff": 7,
          "text": "Airway resistance (%) day 3"
         }
        },
        "yaxis": {
         "anchor": "x",
         "domain": [
          0.825,
          1
         ]
        },
        "yaxis2": {
         "anchor": "x2",
         "domain": [
          0.55,
          0.7250000000000001
         ]
        },
        "yaxis3": {
         "anchor": "x3",
         "domain": [
          0.275,
          0.45
         ]
        },
        "yaxis4": {
         "anchor": "x4",
         "domain": [
          0,
          0.175
         ]
        }
       }
      }
     },
     "metadata": {},
     "output_type": "display_data"
    }
   ],
   "source": [
    "fig = make_subplots(rows=4, cols=1, vertical_spacing=0.1)\n",
    "# Add HFEV1\n",
    "ih.plot_histogram(\n",
    "    fig, HFEV1, res_exact[HFEV1.name].values, HFEV1.a, HFEV1.b, 1, 1, annot=False\n",
    ")\n",
    "ih.plot_histogram(\n",
    "    fig, AR, res_exact[AR_vars[0].name].values, AR.a, AR.b, 2, 1, annot=False\n",
    ")\n",
    "ih.plot_histogram(\n",
    "    fig,\n",
    "    AR,\n",
    "    AR.get_point_message(df_mock.loc[1, AR.name]),\n",
    "    AR.a,\n",
    "    AR.b,\n",
    "    3,\n",
    "    1,\n",
    "    annot=False,\n",
    ")\n",
    "ih.plot_histogram(\n",
    "    fig,\n",
    "    AR,\n",
    "    AR.get_point_message(df_mock.loc[2, AR.name]),\n",
    "    AR.a,\n",
    "    AR.b,\n",
    "    4,\n",
    "    1,\n",
    "    annot=False,\n",
    ")\n",
    "\n",
    "# Add HFEV1\n",
    "# ih.plot_histogram(fig, HFEV1, df_res_before_convergence.loc[5, HFEV1.name], HFEV1.a, HFEV1.b, 1, 1, title=HFEV1.name)\n",
    "ih.plot_histogram(\n",
    "    fig,\n",
    "    HFEV1,\n",
    "    df_query_res.loc[0, HFEV1.name],\n",
    "    HFEV1.a,\n",
    "    HFEV1.b,\n",
    "    1,\n",
    "    1,\n",
    "    title=HFEV1.name,\n",
    ")\n",
    "ih.plot_histogram(\n",
    "    fig,\n",
    "    AR,\n",
    "    df_query_res.loc[0, AR.name],\n",
    "    AR.a,\n",
    "    AR.b,\n",
    "    2,\n",
    "    1,\n",
    "    title=f\"{AR.name} day 1\",\n",
    "    annot=False,\n",
    ")\n",
    "ih.plot_histogram(\n",
    "    fig,\n",
    "    AR,\n",
    "    AR.get_point_message(df_mock.loc[1, AR.name]),\n",
    "    AR.a,\n",
    "    AR.b,\n",
    "    3,\n",
    "    1,\n",
    "    title=f\"{AR.name} day 2\",\n",
    "    annot=False,\n",
    ")\n",
    "ih.plot_histogram(\n",
    "    fig,\n",
    "    AR,\n",
    "    AR.get_point_message(df_mock.loc[2, AR.name]),\n",
    "    # df_query_res.loc[2, AR.name],\n",
    "    AR.a,\n",
    "    AR.b,\n",
    "    4,\n",
    "    1,\n",
    "    title=f\"{AR.name} day 3\",\n",
    "    annot=False,\n",
    ")\n",
    "\n",
    "for i in range(4):\n",
    "    fig.data[i].marker.color = \"#636EFA\"\n",
    "    fig.data[i + 4].marker.color = \"#EF553B\"\n",
    "# Reduce x axis title font size\n",
    "fig.update_xaxes(title_font=dict(size=12), title_standoff=7)\n",
    "\n",
    "# Hide legend\n",
    "title = \"Cutset conditioning (red) vs variable elimination (blue)\"\n",
    "fig.update_layout(showlegend=False, height=550, width=800, title=title)\n",
    "fig.show()"
   ]
  },
  {
   "cell_type": "markdown",
   "metadata": {},
   "source": [
    "## Validate sample_jointly_from_AR()"
   ]
  }
 ],
 "metadata": {
  "kernelspec": {
   "display_name": "phd",
   "language": "python",
   "name": "python3"
  },
  "language_info": {
   "codemirror_mode": {
    "name": "ipython",
    "version": 3
   },
   "file_extension": ".py",
   "mimetype": "text/x-python",
   "name": "python",
   "nbconvert_exporter": "python",
   "pygments_lexer": "ipython3",
   "version": "3.10.13"
  }
 },
 "nbformat": 4,
 "nbformat_minor": 2
}
