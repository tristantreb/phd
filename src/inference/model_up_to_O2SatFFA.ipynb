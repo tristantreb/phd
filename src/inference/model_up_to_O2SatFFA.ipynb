{
    "cells": [
        {
            "cell_type": "code",
            "execution_count": 1,
            "metadata": {},
            "outputs": [],
            "source": [
                "import pandas as pd\n",
                "import numpy as np\n",
                "import plotly.express as px\n",
                "import plotly.graph_objects as go\n",
                "from plotly.subplots import make_subplots\n",
                "import time\n",
                "\n",
                "from pgmpy.factors.discrete import TabularCPD\n",
                "from pgmpy.inference import BeliefPropagation\n",
                "from pgmpy.models import BayesianNetwork\n",
                "\n",
                "import modelling_o2.o2satffa as o2satffa\n",
                "import models.helpers as mh\n",
                "import models.builders as mb\n",
                "import inference.helpers as ih\n",
                "\n",
                "\n",
                "plotsdir = \"../../../../PlotsBreathe/O2_modelling/\""
            ]
        },
        {
            "cell_type": "code",
            "execution_count": 2,
            "metadata": {},
            "outputs": [],
            "source": [
                "df = pd.read_excel(plotsdir + \"/Breathe_O2_FEV1.xlsx\")\n",
                "# ID column as type string\n",
                "df[\"ID\"] = df[\"ID\"].astype(str)\n",
                "# Date Redocrded as datetime\n",
                "df[\"Date Recorded\"] = df[\"Date Recorded\"].dt.date"
            ]
        },
        {
            "cell_type": "code",
            "execution_count": 3,
            "metadata": {},
            "outputs": [
                {
                    "data": {
                        "text/html": [
                            "<div>\n",
                            "<style scoped>\n",
                            "    .dataframe tbody tr th:only-of-type {\n",
                            "        vertical-align: middle;\n",
                            "    }\n",
                            "\n",
                            "    .dataframe tbody tr th {\n",
                            "        vertical-align: top;\n",
                            "    }\n",
                            "\n",
                            "    .dataframe thead th {\n",
                            "        text-align: right;\n",
                            "    }\n",
                            "</style>\n",
                            "<table border=\"1\" class=\"dataframe\">\n",
                            "  <thead>\n",
                            "    <tr style=\"text-align: right;\">\n",
                            "      <th></th>\n",
                            "      <th>ID</th>\n",
                            "      <th>Date Recorded</th>\n",
                            "      <th>FEV1</th>\n",
                            "      <th>O2 Saturation</th>\n",
                            "      <th>ecFEV1</th>\n",
                            "      <th>Age</th>\n",
                            "      <th>Sex</th>\n",
                            "      <th>Height</th>\n",
                            "      <th>Predicted FEV1</th>\n",
                            "      <th>Healthy O2 Saturation</th>\n",
                            "      <th>ecFEV1 % Predicted</th>\n",
                            "      <th>FEV1 % Predicted</th>\n",
                            "      <th>O2 Saturation % Healthy</th>\n",
                            "    </tr>\n",
                            "  </thead>\n",
                            "  <tbody>\n",
                            "    <tr>\n",
                            "      <th>0</th>\n",
                            "      <td>101</td>\n",
                            "      <td>2019-02-20</td>\n",
                            "      <td>1.31</td>\n",
                            "      <td>97.0</td>\n",
                            "      <td>1.32</td>\n",
                            "      <td>53</td>\n",
                            "      <td>Male</td>\n",
                            "      <td>173.0</td>\n",
                            "      <td>3.610061</td>\n",
                            "      <td>97.22596</td>\n",
                            "      <td>36.564477</td>\n",
                            "      <td>36.287474</td>\n",
                            "      <td>99.767593</td>\n",
                            "    </tr>\n",
                            "    <tr>\n",
                            "      <th>1</th>\n",
                            "      <td>101</td>\n",
                            "      <td>2019-02-21</td>\n",
                            "      <td>1.29</td>\n",
                            "      <td>96.0</td>\n",
                            "      <td>1.32</td>\n",
                            "      <td>53</td>\n",
                            "      <td>Male</td>\n",
                            "      <td>173.0</td>\n",
                            "      <td>3.610061</td>\n",
                            "      <td>97.22596</td>\n",
                            "      <td>36.564477</td>\n",
                            "      <td>35.733466</td>\n",
                            "      <td>98.739061</td>\n",
                            "    </tr>\n",
                            "    <tr>\n",
                            "      <th>2</th>\n",
                            "      <td>101</td>\n",
                            "      <td>2019-02-22</td>\n",
                            "      <td>1.32</td>\n",
                            "      <td>96.0</td>\n",
                            "      <td>1.32</td>\n",
                            "      <td>53</td>\n",
                            "      <td>Male</td>\n",
                            "      <td>173.0</td>\n",
                            "      <td>3.610061</td>\n",
                            "      <td>97.22596</td>\n",
                            "      <td>36.564477</td>\n",
                            "      <td>36.564477</td>\n",
                            "      <td>98.739061</td>\n",
                            "    </tr>\n",
                            "    <tr>\n",
                            "      <th>3</th>\n",
                            "      <td>101</td>\n",
                            "      <td>2019-02-23</td>\n",
                            "      <td>1.28</td>\n",
                            "      <td>97.0</td>\n",
                            "      <td>1.33</td>\n",
                            "      <td>53</td>\n",
                            "      <td>Male</td>\n",
                            "      <td>173.0</td>\n",
                            "      <td>3.610061</td>\n",
                            "      <td>97.22596</td>\n",
                            "      <td>36.841481</td>\n",
                            "      <td>35.456463</td>\n",
                            "      <td>99.767593</td>\n",
                            "    </tr>\n",
                            "    <tr>\n",
                            "      <th>4</th>\n",
                            "      <td>101</td>\n",
                            "      <td>2019-02-24</td>\n",
                            "      <td>1.33</td>\n",
                            "      <td>98.0</td>\n",
                            "      <td>1.36</td>\n",
                            "      <td>53</td>\n",
                            "      <td>Male</td>\n",
                            "      <td>173.0</td>\n",
                            "      <td>3.610061</td>\n",
                            "      <td>97.22596</td>\n",
                            "      <td>37.672492</td>\n",
                            "      <td>36.841481</td>\n",
                            "      <td>100.796125</td>\n",
                            "    </tr>\n",
                            "  </tbody>\n",
                            "</table>\n",
                            "</div>"
                        ],
                        "text/plain": [
                            "    ID Date Recorded  FEV1  O2 Saturation  ecFEV1  Age   Sex  Height  \\\n",
                            "0  101    2019-02-20  1.31           97.0    1.32   53  Male   173.0   \n",
                            "1  101    2019-02-21  1.29           96.0    1.32   53  Male   173.0   \n",
                            "2  101    2019-02-22  1.32           96.0    1.32   53  Male   173.0   \n",
                            "3  101    2019-02-23  1.28           97.0    1.33   53  Male   173.0   \n",
                            "4  101    2019-02-24  1.33           98.0    1.36   53  Male   173.0   \n",
                            "\n",
                            "   Predicted FEV1  Healthy O2 Saturation  ecFEV1 % Predicted  \\\n",
                            "0        3.610061               97.22596           36.564477   \n",
                            "1        3.610061               97.22596           36.564477   \n",
                            "2        3.610061               97.22596           36.564477   \n",
                            "3        3.610061               97.22596           36.841481   \n",
                            "4        3.610061               97.22596           37.672492   \n",
                            "\n",
                            "   FEV1 % Predicted  O2 Saturation % Healthy  \n",
                            "0         36.287474                99.767593  \n",
                            "1         35.733466                98.739061  \n",
                            "2         36.564477                98.739061  \n",
                            "3         35.456463                99.767593  \n",
                            "4         36.841481               100.796125  "
                        ]
                    },
                    "execution_count": 3,
                    "metadata": {},
                    "output_type": "execute_result"
                }
            ],
            "source": [
                "df.head()"
            ]
        },
        {
            "cell_type": "markdown",
            "metadata": {},
            "source": [
                "## Infer O2SatFFA after observing FEV1"
            ]
        },
        {
            "cell_type": "code",
            "execution_count": 4,
            "metadata": {},
            "outputs": [],
            "source": [
                "def model_up_to_O2SatFFA(hfev1_prior, ho2sat_prior):\n",
                "    \"\"\"\n",
                "    This is a point in time model with\n",
                "    FEV1 = HFEV1 * (1-AR)\n",
                "    O2SatFFA = HO2Sat * drop_func(AR)\n",
                "\n",
                "    The model is the same as build_HFEV1_AB_FEV1(), with Airway Blockage renamed to Airway Resistance.\n",
                "    \"\"\"\n",
                "    print(\"*** Building FEV1 and O2 point in time model ***\")\n",
                "\n",
                "    # Setting resolution of 0.05 to avoud rounding errors for AR\n",
                "    HFEV1 = mh.VariableNode(\"Healthy FEV1 (L)\", 1, 6, 0.05, prior=hfev1_prior)\n",
                "    AR = mh.VariableNode(\"Airway resistance (%)\", 0, 90, 1, prior={\"type\": \"uniform\"})\n",
                "    ecFEV1 = mh.VariableNode(\"FEV1 (L)\", 0, 6, 0.05, prior=None)\n",
                "    # Lowest predicted FEV1 is 15% (AR = 1-predictedFEV1)\n",
                "    HO2Sat = mh.VariableNode(\n",
                "        \"Healthy O2 saturation (%)\", 90, 100, 0.5, prior=ho2sat_prior\n",
                "    )\n",
                "    # Highest drop is 93% (for AR = 90%), hence the lowest O2SatFFA is 90 * 0.93 = 83.7%\n",
                "    O2SatFFA = mh.VariableNode(\n",
                "        \"O2 sat if fully functional alveoli (%)\", 80, 100, 0.5, prior=None\n",
                "    )\n",
                "\n",
                "    prior_hfev1 = TabularCPD(\n",
                "        variable=HFEV1.name,\n",
                "        variable_card=HFEV1.card,\n",
                "        values=HFEV1.cpt,\n",
                "        evidence=[],\n",
                "        evidence_card=[],\n",
                "    )\n",
                "    prior_ho2sat = TabularCPD(\n",
                "        variable=HO2Sat.name,\n",
                "        variable_card=HO2Sat.card,\n",
                "        values=HO2Sat.cpt,\n",
                "        evidence=[],\n",
                "        evidence_card=[],\n",
                "    )\n",
                "    prior_ar = TabularCPD(\n",
                "        variable=AR.name,\n",
                "        variable_card=AR.card,\n",
                "        values=AR.cpt,\n",
                "        evidence=[],\n",
                "        evidence_card=[],\n",
                "    )\n",
                "    cpt_fev1 = TabularCPD(\n",
                "        variable=ecFEV1.name,\n",
                "        variable_card=ecFEV1.card,\n",
                "        values=mh.calc_pgmpy_cpt_X_x_1_minus_Y(HFEV1, AR, ecFEV1),\n",
                "        evidence=[HFEV1.name, AR.name],\n",
                "        evidence_card=[HFEV1.card, AR.card],\n",
                "    )\n",
                "    cpt_o2_sat_ffa = TabularCPD(\n",
                "        variable=O2SatFFA.name,\n",
                "        variable_card=O2SatFFA.card,\n",
                "        values=o2satffa.calc_cpt(O2SatFFA, HO2Sat, AR, debug=False),\n",
                "        evidence=[HO2Sat.name, AR.name],\n",
                "        evidence_card=[HO2Sat.card, AR.card],\n",
                "    )\n",
                "\n",
                "    model = BayesianNetwork(\n",
                "        [\n",
                "            (HFEV1.name, ecFEV1.name),\n",
                "            (AR.name, ecFEV1.name),\n",
                "            (HO2Sat.name, O2SatFFA.name),\n",
                "            (AR.name, O2SatFFA.name),\n",
                "        ]\n",
                "    )\n",
                "\n",
                "    model.add_cpds(cpt_fev1, prior_ar, prior_hfev1, prior_ho2sat, cpt_o2_sat_ffa)\n",
                "\n",
                "    model.check_model()\n",
                "    inf_alg = BeliefPropagation(model)\n",
                "    return (model, inf_alg, HFEV1, ecFEV1, AR, HO2Sat, O2SatFFA)"
            ]
        },
        {
            "cell_type": "code",
            "execution_count": 5,
            "metadata": {},
            "outputs": [
                {
                    "name": "stdout",
                    "output_type": "stream",
                    "text": [
                        "\n",
                        "Running for ID 101, with 816 observations\n",
                        "*** Building FEV1 and O2 point in time model ***\n"
                    ]
                },
                {
                    "name": "stderr",
                    "output_type": "stream",
                    "text": [
                        "/var/folders/zq/v2r6yn111s3gpdf8lzf72xvw0000gn/T/ipykernel_48157/847093712.py:24: DeprecationWarning: `product` is deprecated as of NumPy 1.25.0, and will be removed in NumPy 2.0. Please use `prod` instead.\n",
                        "  prior_hfev1 = TabularCPD(\n",
                        "/var/folders/zq/v2r6yn111s3gpdf8lzf72xvw0000gn/T/ipykernel_48157/847093712.py:31: DeprecationWarning: `product` is deprecated as of NumPy 1.25.0, and will be removed in NumPy 2.0. Please use `prod` instead.\n",
                        "  prior_ho2sat = TabularCPD(\n",
                        "/var/folders/zq/v2r6yn111s3gpdf8lzf72xvw0000gn/T/ipykernel_48157/847093712.py:38: DeprecationWarning: `product` is deprecated as of NumPy 1.25.0, and will be removed in NumPy 2.0. Please use `prod` instead.\n",
                        "  prior_ar = TabularCPD(\n",
                        "/Users/tristan.trebaol/Desktop/PhD/Code/phd/src/models/helpers.py:327: IntegrationWarning: The maximum number of subdivisions (50) has been achieved.\n",
                        "  If increasing the limit yields no improvement it is advised to analyze \n",
                        "  the integrand in order to determine the difficulties.  If the position of a \n",
                        "  local difficulty can be determined (singularity, discontinuity) one will \n",
                        "  probably gain from splitting up the interval and calling the integrator \n",
                        "  on the subranges.  Perhaps a special-purpose integrator should be used.\n",
                        "  val, abserr = integrate.quad(\n",
                        "/var/folders/zq/v2r6yn111s3gpdf8lzf72xvw0000gn/T/ipykernel_48157/847093712.py:45: DeprecationWarning: `product` is deprecated as of NumPy 1.25.0, and will be removed in NumPy 2.0. Please use `prod` instead.\n",
                        "  cpt_fev1 = TabularCPD(\n",
                        "/var/folders/zq/v2r6yn111s3gpdf8lzf72xvw0000gn/T/ipykernel_48157/847093712.py:52: DeprecationWarning: `product` is deprecated as of NumPy 1.25.0, and will be removed in NumPy 2.0. Please use `prod` instead.\n",
                        "  cpt_o2_sat_ffa = TabularCPD(\n"
                    ]
                },
                {
                    "name": "stdout",
                    "output_type": "stream",
                    "text": [
                        "model took 46.833966970443726 seconds to build\n",
                        "inference took 23.40282392501831 seconds to run\n",
                        "\n",
                        "Running for ID 102, with 151 observations\n",
                        "*** Building FEV1 and O2 point in time model ***\n"
                    ]
                },
                {
                    "name": "stderr",
                    "output_type": "stream",
                    "text": [
                        "/var/folders/zq/v2r6yn111s3gpdf8lzf72xvw0000gn/T/ipykernel_48157/847093712.py:24: DeprecationWarning: `product` is deprecated as of NumPy 1.25.0, and will be removed in NumPy 2.0. Please use `prod` instead.\n",
                        "  prior_hfev1 = TabularCPD(\n",
                        "/var/folders/zq/v2r6yn111s3gpdf8lzf72xvw0000gn/T/ipykernel_48157/847093712.py:31: DeprecationWarning: `product` is deprecated as of NumPy 1.25.0, and will be removed in NumPy 2.0. Please use `prod` instead.\n",
                        "  prior_ho2sat = TabularCPD(\n",
                        "/var/folders/zq/v2r6yn111s3gpdf8lzf72xvw0000gn/T/ipykernel_48157/847093712.py:38: DeprecationWarning: `product` is deprecated as of NumPy 1.25.0, and will be removed in NumPy 2.0. Please use `prod` instead.\n",
                        "  prior_ar = TabularCPD(\n",
                        "/Users/tristan.trebaol/Desktop/PhD/Code/phd/src/models/helpers.py:327: IntegrationWarning: The maximum number of subdivisions (50) has been achieved.\n",
                        "  If increasing the limit yields no improvement it is advised to analyze \n",
                        "  the integrand in order to determine the difficulties.  If the position of a \n",
                        "  local difficulty can be determined (singularity, discontinuity) one will \n",
                        "  probably gain from splitting up the interval and calling the integrator \n",
                        "  on the subranges.  Perhaps a special-purpose integrator should be used.\n",
                        "  val, abserr = integrate.quad(\n",
                        "/var/folders/zq/v2r6yn111s3gpdf8lzf72xvw0000gn/T/ipykernel_48157/847093712.py:45: DeprecationWarning: `product` is deprecated as of NumPy 1.25.0, and will be removed in NumPy 2.0. Please use `prod` instead.\n",
                        "  cpt_fev1 = TabularCPD(\n",
                        "/var/folders/zq/v2r6yn111s3gpdf8lzf72xvw0000gn/T/ipykernel_48157/847093712.py:52: DeprecationWarning: `product` is deprecated as of NumPy 1.25.0, and will be removed in NumPy 2.0. Please use `prod` instead.\n",
                        "  cpt_o2_sat_ffa = TabularCPD(\n"
                    ]
                },
                {
                    "name": "stdout",
                    "output_type": "stream",
                    "text": [
                        "model took 46.56610608100891 seconds to build\n",
                        "inference took 11.48368501663208 seconds to run\n",
                        "\n",
                        "Running for ID 103, with 511 observations\n",
                        "*** Building FEV1 and O2 point in time model ***\n"
                    ]
                },
                {
                    "name": "stderr",
                    "output_type": "stream",
                    "text": [
                        "/var/folders/zq/v2r6yn111s3gpdf8lzf72xvw0000gn/T/ipykernel_48157/847093712.py:24: DeprecationWarning: `product` is deprecated as of NumPy 1.25.0, and will be removed in NumPy 2.0. Please use `prod` instead.\n",
                        "  prior_hfev1 = TabularCPD(\n",
                        "/var/folders/zq/v2r6yn111s3gpdf8lzf72xvw0000gn/T/ipykernel_48157/847093712.py:31: DeprecationWarning: `product` is deprecated as of NumPy 1.25.0, and will be removed in NumPy 2.0. Please use `prod` instead.\n",
                        "  prior_ho2sat = TabularCPD(\n",
                        "/var/folders/zq/v2r6yn111s3gpdf8lzf72xvw0000gn/T/ipykernel_48157/847093712.py:38: DeprecationWarning: `product` is deprecated as of NumPy 1.25.0, and will be removed in NumPy 2.0. Please use `prod` instead.\n",
                        "  prior_ar = TabularCPD(\n",
                        "/Users/tristan.trebaol/Desktop/PhD/Code/phd/src/models/helpers.py:327: IntegrationWarning: The maximum number of subdivisions (50) has been achieved.\n",
                        "  If increasing the limit yields no improvement it is advised to analyze \n",
                        "  the integrand in order to determine the difficulties.  If the position of a \n",
                        "  local difficulty can be determined (singularity, discontinuity) one will \n",
                        "  probably gain from splitting up the interval and calling the integrator \n",
                        "  on the subranges.  Perhaps a special-purpose integrator should be used.\n",
                        "  val, abserr = integrate.quad(\n",
                        "/var/folders/zq/v2r6yn111s3gpdf8lzf72xvw0000gn/T/ipykernel_48157/847093712.py:45: DeprecationWarning: `product` is deprecated as of NumPy 1.25.0, and will be removed in NumPy 2.0. Please use `prod` instead.\n",
                        "  cpt_fev1 = TabularCPD(\n",
                        "/var/folders/zq/v2r6yn111s3gpdf8lzf72xvw0000gn/T/ipykernel_48157/847093712.py:52: DeprecationWarning: `product` is deprecated as of NumPy 1.25.0, and will be removed in NumPy 2.0. Please use `prod` instead.\n",
                        "  cpt_o2_sat_ffa = TabularCPD(\n"
                    ]
                },
                {
                    "name": "stdout",
                    "output_type": "stream",
                    "text": [
                        "model took 46.663954973220825 seconds to build\n",
                        "inference took 27.133225917816162 seconds to run\n",
                        "\n",
                        "Running for ID 104, with 161 observations\n",
                        "*** Building FEV1 and O2 point in time model ***\n"
                    ]
                },
                {
                    "name": "stderr",
                    "output_type": "stream",
                    "text": [
                        "/var/folders/zq/v2r6yn111s3gpdf8lzf72xvw0000gn/T/ipykernel_48157/847093712.py:24: DeprecationWarning: `product` is deprecated as of NumPy 1.25.0, and will be removed in NumPy 2.0. Please use `prod` instead.\n",
                        "  prior_hfev1 = TabularCPD(\n",
                        "/var/folders/zq/v2r6yn111s3gpdf8lzf72xvw0000gn/T/ipykernel_48157/847093712.py:31: DeprecationWarning: `product` is deprecated as of NumPy 1.25.0, and will be removed in NumPy 2.0. Please use `prod` instead.\n",
                        "  prior_ho2sat = TabularCPD(\n",
                        "/var/folders/zq/v2r6yn111s3gpdf8lzf72xvw0000gn/T/ipykernel_48157/847093712.py:38: DeprecationWarning: `product` is deprecated as of NumPy 1.25.0, and will be removed in NumPy 2.0. Please use `prod` instead.\n",
                        "  prior_ar = TabularCPD(\n",
                        "/Users/tristan.trebaol/Desktop/PhD/Code/phd/src/models/helpers.py:327: IntegrationWarning: The maximum number of subdivisions (50) has been achieved.\n",
                        "  If increasing the limit yields no improvement it is advised to analyze \n",
                        "  the integrand in order to determine the difficulties.  If the position of a \n",
                        "  local difficulty can be determined (singularity, discontinuity) one will \n",
                        "  probably gain from splitting up the interval and calling the integrator \n",
                        "  on the subranges.  Perhaps a special-purpose integrator should be used.\n",
                        "  val, abserr = integrate.quad(\n",
                        "/var/folders/zq/v2r6yn111s3gpdf8lzf72xvw0000gn/T/ipykernel_48157/847093712.py:45: DeprecationWarning: `product` is deprecated as of NumPy 1.25.0, and will be removed in NumPy 2.0. Please use `prod` instead.\n",
                        "  cpt_fev1 = TabularCPD(\n",
                        "/var/folders/zq/v2r6yn111s3gpdf8lzf72xvw0000gn/T/ipykernel_48157/847093712.py:52: DeprecationWarning: `product` is deprecated as of NumPy 1.25.0, and will be removed in NumPy 2.0. Please use `prod` instead.\n",
                        "  cpt_o2_sat_ffa = TabularCPD(\n"
                    ]
                },
                {
                    "name": "stdout",
                    "output_type": "stream",
                    "text": [
                        "model took 46.645402908325195 seconds to build\n",
                        "inference took 21.498578786849976 seconds to run\n",
                        "\n",
                        "Running for ID 106, with 228 observations\n",
                        "*** Building FEV1 and O2 point in time model ***\n"
                    ]
                },
                {
                    "name": "stderr",
                    "output_type": "stream",
                    "text": [
                        "/var/folders/zq/v2r6yn111s3gpdf8lzf72xvw0000gn/T/ipykernel_48157/847093712.py:24: DeprecationWarning: `product` is deprecated as of NumPy 1.25.0, and will be removed in NumPy 2.0. Please use `prod` instead.\n",
                        "  prior_hfev1 = TabularCPD(\n",
                        "/var/folders/zq/v2r6yn111s3gpdf8lzf72xvw0000gn/T/ipykernel_48157/847093712.py:31: DeprecationWarning: `product` is deprecated as of NumPy 1.25.0, and will be removed in NumPy 2.0. Please use `prod` instead.\n",
                        "  prior_ho2sat = TabularCPD(\n",
                        "/var/folders/zq/v2r6yn111s3gpdf8lzf72xvw0000gn/T/ipykernel_48157/847093712.py:38: DeprecationWarning: `product` is deprecated as of NumPy 1.25.0, and will be removed in NumPy 2.0. Please use `prod` instead.\n",
                        "  prior_ar = TabularCPD(\n",
                        "/Users/tristan.trebaol/Desktop/PhD/Code/phd/src/models/helpers.py:327: IntegrationWarning: The maximum number of subdivisions (50) has been achieved.\n",
                        "  If increasing the limit yields no improvement it is advised to analyze \n",
                        "  the integrand in order to determine the difficulties.  If the position of a \n",
                        "  local difficulty can be determined (singularity, discontinuity) one will \n",
                        "  probably gain from splitting up the interval and calling the integrator \n",
                        "  on the subranges.  Perhaps a special-purpose integrator should be used.\n",
                        "  val, abserr = integrate.quad(\n",
                        "/var/folders/zq/v2r6yn111s3gpdf8lzf72xvw0000gn/T/ipykernel_48157/847093712.py:45: DeprecationWarning: `product` is deprecated as of NumPy 1.25.0, and will be removed in NumPy 2.0. Please use `prod` instead.\n",
                        "  cpt_fev1 = TabularCPD(\n",
                        "/var/folders/zq/v2r6yn111s3gpdf8lzf72xvw0000gn/T/ipykernel_48157/847093712.py:52: DeprecationWarning: `product` is deprecated as of NumPy 1.25.0, and will be removed in NumPy 2.0. Please use `prod` instead.\n",
                        "  cpt_o2_sat_ffa = TabularCPD(\n"
                    ]
                },
                {
                    "name": "stdout",
                    "output_type": "stream",
                    "text": [
                        "model took 46.87136888504028 seconds to build\n",
                        "inference took 17.619889736175537 seconds to run\n",
                        "\n",
                        "Running for ID 107, with 36 observations\n",
                        "*** Building FEV1 and O2 point in time model ***\n"
                    ]
                },
                {
                    "name": "stderr",
                    "output_type": "stream",
                    "text": [
                        "/var/folders/zq/v2r6yn111s3gpdf8lzf72xvw0000gn/T/ipykernel_48157/847093712.py:24: DeprecationWarning: `product` is deprecated as of NumPy 1.25.0, and will be removed in NumPy 2.0. Please use `prod` instead.\n",
                        "  prior_hfev1 = TabularCPD(\n",
                        "/var/folders/zq/v2r6yn111s3gpdf8lzf72xvw0000gn/T/ipykernel_48157/847093712.py:31: DeprecationWarning: `product` is deprecated as of NumPy 1.25.0, and will be removed in NumPy 2.0. Please use `prod` instead.\n",
                        "  prior_ho2sat = TabularCPD(\n",
                        "/var/folders/zq/v2r6yn111s3gpdf8lzf72xvw0000gn/T/ipykernel_48157/847093712.py:38: DeprecationWarning: `product` is deprecated as of NumPy 1.25.0, and will be removed in NumPy 2.0. Please use `prod` instead.\n",
                        "  prior_ar = TabularCPD(\n",
                        "/Users/tristan.trebaol/Desktop/PhD/Code/phd/src/models/helpers.py:327: IntegrationWarning: The maximum number of subdivisions (50) has been achieved.\n",
                        "  If increasing the limit yields no improvement it is advised to analyze \n",
                        "  the integrand in order to determine the difficulties.  If the position of a \n",
                        "  local difficulty can be determined (singularity, discontinuity) one will \n",
                        "  probably gain from splitting up the interval and calling the integrator \n",
                        "  on the subranges.  Perhaps a special-purpose integrator should be used.\n",
                        "  val, abserr = integrate.quad(\n",
                        "/var/folders/zq/v2r6yn111s3gpdf8lzf72xvw0000gn/T/ipykernel_48157/847093712.py:45: DeprecationWarning: `product` is deprecated as of NumPy 1.25.0, and will be removed in NumPy 2.0. Please use `prod` instead.\n",
                        "  cpt_fev1 = TabularCPD(\n",
                        "/var/folders/zq/v2r6yn111s3gpdf8lzf72xvw0000gn/T/ipykernel_48157/847093712.py:52: DeprecationWarning: `product` is deprecated as of NumPy 1.25.0, and will be removed in NumPy 2.0. Please use `prod` instead.\n",
                        "  cpt_o2_sat_ffa = TabularCPD(\n"
                    ]
                },
                {
                    "name": "stdout",
                    "output_type": "stream",
                    "text": [
                        "model took 46.440396785736084 seconds to build\n",
                        "inference took 11.091177940368652 seconds to run\n",
                        "\n",
                        "Running for ID 108, with 212 observations\n",
                        "*** Building FEV1 and O2 point in time model ***\n"
                    ]
                },
                {
                    "name": "stderr",
                    "output_type": "stream",
                    "text": [
                        "/var/folders/zq/v2r6yn111s3gpdf8lzf72xvw0000gn/T/ipykernel_48157/847093712.py:24: DeprecationWarning: `product` is deprecated as of NumPy 1.25.0, and will be removed in NumPy 2.0. Please use `prod` instead.\n",
                        "  prior_hfev1 = TabularCPD(\n",
                        "/var/folders/zq/v2r6yn111s3gpdf8lzf72xvw0000gn/T/ipykernel_48157/847093712.py:31: DeprecationWarning: `product` is deprecated as of NumPy 1.25.0, and will be removed in NumPy 2.0. Please use `prod` instead.\n",
                        "  prior_ho2sat = TabularCPD(\n",
                        "/var/folders/zq/v2r6yn111s3gpdf8lzf72xvw0000gn/T/ipykernel_48157/847093712.py:38: DeprecationWarning: `product` is deprecated as of NumPy 1.25.0, and will be removed in NumPy 2.0. Please use `prod` instead.\n",
                        "  prior_ar = TabularCPD(\n",
                        "/Users/tristan.trebaol/Desktop/PhD/Code/phd/src/models/helpers.py:327: IntegrationWarning: The maximum number of subdivisions (50) has been achieved.\n",
                        "  If increasing the limit yields no improvement it is advised to analyze \n",
                        "  the integrand in order to determine the difficulties.  If the position of a \n",
                        "  local difficulty can be determined (singularity, discontinuity) one will \n",
                        "  probably gain from splitting up the interval and calling the integrator \n",
                        "  on the subranges.  Perhaps a special-purpose integrator should be used.\n",
                        "  val, abserr = integrate.quad(\n",
                        "/var/folders/zq/v2r6yn111s3gpdf8lzf72xvw0000gn/T/ipykernel_48157/847093712.py:45: DeprecationWarning: `product` is deprecated as of NumPy 1.25.0, and will be removed in NumPy 2.0. Please use `prod` instead.\n",
                        "  cpt_fev1 = TabularCPD(\n",
                        "/var/folders/zq/v2r6yn111s3gpdf8lzf72xvw0000gn/T/ipykernel_48157/847093712.py:52: DeprecationWarning: `product` is deprecated as of NumPy 1.25.0, and will be removed in NumPy 2.0. Please use `prod` instead.\n",
                        "  cpt_o2_sat_ffa = TabularCPD(\n"
                    ]
                },
                {
                    "name": "stdout",
                    "output_type": "stream",
                    "text": [
                        "model took 46.61395621299744 seconds to build\n",
                        "inference took 24.16120409965515 seconds to run\n",
                        "\n",
                        "Running for ID 109, with 51 observations\n",
                        "*** Building FEV1 and O2 point in time model ***\n"
                    ]
                },
                {
                    "name": "stderr",
                    "output_type": "stream",
                    "text": [
                        "/var/folders/zq/v2r6yn111s3gpdf8lzf72xvw0000gn/T/ipykernel_48157/847093712.py:24: DeprecationWarning: `product` is deprecated as of NumPy 1.25.0, and will be removed in NumPy 2.0. Please use `prod` instead.\n",
                        "  prior_hfev1 = TabularCPD(\n",
                        "/var/folders/zq/v2r6yn111s3gpdf8lzf72xvw0000gn/T/ipykernel_48157/847093712.py:31: DeprecationWarning: `product` is deprecated as of NumPy 1.25.0, and will be removed in NumPy 2.0. Please use `prod` instead.\n",
                        "  prior_ho2sat = TabularCPD(\n",
                        "/var/folders/zq/v2r6yn111s3gpdf8lzf72xvw0000gn/T/ipykernel_48157/847093712.py:38: DeprecationWarning: `product` is deprecated as of NumPy 1.25.0, and will be removed in NumPy 2.0. Please use `prod` instead.\n",
                        "  prior_ar = TabularCPD(\n",
                        "/Users/tristan.trebaol/Desktop/PhD/Code/phd/src/models/helpers.py:327: IntegrationWarning: The maximum number of subdivisions (50) has been achieved.\n",
                        "  If increasing the limit yields no improvement it is advised to analyze \n",
                        "  the integrand in order to determine the difficulties.  If the position of a \n",
                        "  local difficulty can be determined (singularity, discontinuity) one will \n",
                        "  probably gain from splitting up the interval and calling the integrator \n",
                        "  on the subranges.  Perhaps a special-purpose integrator should be used.\n",
                        "  val, abserr = integrate.quad(\n",
                        "/var/folders/zq/v2r6yn111s3gpdf8lzf72xvw0000gn/T/ipykernel_48157/847093712.py:45: DeprecationWarning: `product` is deprecated as of NumPy 1.25.0, and will be removed in NumPy 2.0. Please use `prod` instead.\n",
                        "  cpt_fev1 = TabularCPD(\n",
                        "/var/folders/zq/v2r6yn111s3gpdf8lzf72xvw0000gn/T/ipykernel_48157/847093712.py:52: DeprecationWarning: `product` is deprecated as of NumPy 1.25.0, and will be removed in NumPy 2.0. Please use `prod` instead.\n",
                        "  cpt_o2_sat_ffa = TabularCPD(\n"
                    ]
                },
                {
                    "name": "stdout",
                    "output_type": "stream",
                    "text": [
                        "model took 45.854570150375366 seconds to build\n",
                        "inference took 10.006164312362671 seconds to run\n",
                        "\n",
                        "Running for ID 110, with 9 observations\n",
                        "*** Building FEV1 and O2 point in time model ***\n"
                    ]
                },
                {
                    "name": "stderr",
                    "output_type": "stream",
                    "text": [
                        "/var/folders/zq/v2r6yn111s3gpdf8lzf72xvw0000gn/T/ipykernel_48157/847093712.py:24: DeprecationWarning: `product` is deprecated as of NumPy 1.25.0, and will be removed in NumPy 2.0. Please use `prod` instead.\n",
                        "  prior_hfev1 = TabularCPD(\n",
                        "/var/folders/zq/v2r6yn111s3gpdf8lzf72xvw0000gn/T/ipykernel_48157/847093712.py:31: DeprecationWarning: `product` is deprecated as of NumPy 1.25.0, and will be removed in NumPy 2.0. Please use `prod` instead.\n",
                        "  prior_ho2sat = TabularCPD(\n",
                        "/var/folders/zq/v2r6yn111s3gpdf8lzf72xvw0000gn/T/ipykernel_48157/847093712.py:38: DeprecationWarning: `product` is deprecated as of NumPy 1.25.0, and will be removed in NumPy 2.0. Please use `prod` instead.\n",
                        "  prior_ar = TabularCPD(\n",
                        "/Users/tristan.trebaol/Desktop/PhD/Code/phd/src/models/helpers.py:327: IntegrationWarning: The maximum number of subdivisions (50) has been achieved.\n",
                        "  If increasing the limit yields no improvement it is advised to analyze \n",
                        "  the integrand in order to determine the difficulties.  If the position of a \n",
                        "  local difficulty can be determined (singularity, discontinuity) one will \n",
                        "  probably gain from splitting up the interval and calling the integrator \n",
                        "  on the subranges.  Perhaps a special-purpose integrator should be used.\n",
                        "  val, abserr = integrate.quad(\n",
                        "/var/folders/zq/v2r6yn111s3gpdf8lzf72xvw0000gn/T/ipykernel_48157/847093712.py:45: DeprecationWarning: `product` is deprecated as of NumPy 1.25.0, and will be removed in NumPy 2.0. Please use `prod` instead.\n",
                        "  cpt_fev1 = TabularCPD(\n",
                        "/var/folders/zq/v2r6yn111s3gpdf8lzf72xvw0000gn/T/ipykernel_48157/847093712.py:52: DeprecationWarning: `product` is deprecated as of NumPy 1.25.0, and will be removed in NumPy 2.0. Please use `prod` instead.\n",
                        "  cpt_o2_sat_ffa = TabularCPD(\n"
                    ]
                },
                {
                    "name": "stdout",
                    "output_type": "stream",
                    "text": [
                        "model took 46.58674097061157 seconds to build\n",
                        "inference took 2.4342610836029053 seconds to run\n",
                        "\n",
                        "Running for ID 111, with 160 observations\n",
                        "*** Building FEV1 and O2 point in time model ***\n"
                    ]
                },
                {
                    "name": "stderr",
                    "output_type": "stream",
                    "text": [
                        "/var/folders/zq/v2r6yn111s3gpdf8lzf72xvw0000gn/T/ipykernel_48157/847093712.py:24: DeprecationWarning: `product` is deprecated as of NumPy 1.25.0, and will be removed in NumPy 2.0. Please use `prod` instead.\n",
                        "  prior_hfev1 = TabularCPD(\n",
                        "/var/folders/zq/v2r6yn111s3gpdf8lzf72xvw0000gn/T/ipykernel_48157/847093712.py:31: DeprecationWarning: `product` is deprecated as of NumPy 1.25.0, and will be removed in NumPy 2.0. Please use `prod` instead.\n",
                        "  prior_ho2sat = TabularCPD(\n",
                        "/var/folders/zq/v2r6yn111s3gpdf8lzf72xvw0000gn/T/ipykernel_48157/847093712.py:38: DeprecationWarning: `product` is deprecated as of NumPy 1.25.0, and will be removed in NumPy 2.0. Please use `prod` instead.\n",
                        "  prior_ar = TabularCPD(\n",
                        "/Users/tristan.trebaol/Desktop/PhD/Code/phd/src/models/helpers.py:327: IntegrationWarning: The maximum number of subdivisions (50) has been achieved.\n",
                        "  If increasing the limit yields no improvement it is advised to analyze \n",
                        "  the integrand in order to determine the difficulties.  If the position of a \n",
                        "  local difficulty can be determined (singularity, discontinuity) one will \n",
                        "  probably gain from splitting up the interval and calling the integrator \n",
                        "  on the subranges.  Perhaps a special-purpose integrator should be used.\n",
                        "  val, abserr = integrate.quad(\n",
                        "/var/folders/zq/v2r6yn111s3gpdf8lzf72xvw0000gn/T/ipykernel_48157/847093712.py:45: DeprecationWarning: `product` is deprecated as of NumPy 1.25.0, and will be removed in NumPy 2.0. Please use `prod` instead.\n",
                        "  cpt_fev1 = TabularCPD(\n",
                        "/var/folders/zq/v2r6yn111s3gpdf8lzf72xvw0000gn/T/ipykernel_48157/847093712.py:52: DeprecationWarning: `product` is deprecated as of NumPy 1.25.0, and will be removed in NumPy 2.0. Please use `prod` instead.\n",
                        "  cpt_o2_sat_ffa = TabularCPD(\n"
                    ]
                },
                {
                    "name": "stdout",
                    "output_type": "stream",
                    "text": [
                        "model took 46.126919984817505 seconds to build\n",
                        "inference took 21.978800296783447 seconds to run\n",
                        "\n",
                        "Running for ID 112, with 70 observations\n",
                        "*** Building FEV1 and O2 point in time model ***\n"
                    ]
                },
                {
                    "name": "stderr",
                    "output_type": "stream",
                    "text": [
                        "/var/folders/zq/v2r6yn111s3gpdf8lzf72xvw0000gn/T/ipykernel_48157/847093712.py:24: DeprecationWarning: `product` is deprecated as of NumPy 1.25.0, and will be removed in NumPy 2.0. Please use `prod` instead.\n",
                        "  prior_hfev1 = TabularCPD(\n",
                        "/var/folders/zq/v2r6yn111s3gpdf8lzf72xvw0000gn/T/ipykernel_48157/847093712.py:31: DeprecationWarning: `product` is deprecated as of NumPy 1.25.0, and will be removed in NumPy 2.0. Please use `prod` instead.\n",
                        "  prior_ho2sat = TabularCPD(\n",
                        "/var/folders/zq/v2r6yn111s3gpdf8lzf72xvw0000gn/T/ipykernel_48157/847093712.py:38: DeprecationWarning: `product` is deprecated as of NumPy 1.25.0, and will be removed in NumPy 2.0. Please use `prod` instead.\n",
                        "  prior_ar = TabularCPD(\n",
                        "/Users/tristan.trebaol/Desktop/PhD/Code/phd/src/models/helpers.py:327: IntegrationWarning: The maximum number of subdivisions (50) has been achieved.\n",
                        "  If increasing the limit yields no improvement it is advised to analyze \n",
                        "  the integrand in order to determine the difficulties.  If the position of a \n",
                        "  local difficulty can be determined (singularity, discontinuity) one will \n",
                        "  probably gain from splitting up the interval and calling the integrator \n",
                        "  on the subranges.  Perhaps a special-purpose integrator should be used.\n",
                        "  val, abserr = integrate.quad(\n",
                        "/var/folders/zq/v2r6yn111s3gpdf8lzf72xvw0000gn/T/ipykernel_48157/847093712.py:45: DeprecationWarning: `product` is deprecated as of NumPy 1.25.0, and will be removed in NumPy 2.0. Please use `prod` instead.\n",
                        "  cpt_fev1 = TabularCPD(\n",
                        "/var/folders/zq/v2r6yn111s3gpdf8lzf72xvw0000gn/T/ipykernel_48157/847093712.py:52: DeprecationWarning: `product` is deprecated as of NumPy 1.25.0, and will be removed in NumPy 2.0. Please use `prod` instead.\n",
                        "  cpt_o2_sat_ffa = TabularCPD(\n"
                    ]
                },
                {
                    "name": "stdout",
                    "output_type": "stream",
                    "text": [
                        "model took 45.86755108833313 seconds to build\n",
                        "inference took 17.15541911125183 seconds to run\n",
                        "\n",
                        "Running for ID 113, with 450 observations\n",
                        "*** Building FEV1 and O2 point in time model ***\n"
                    ]
                },
                {
                    "name": "stderr",
                    "output_type": "stream",
                    "text": [
                        "/var/folders/zq/v2r6yn111s3gpdf8lzf72xvw0000gn/T/ipykernel_48157/847093712.py:24: DeprecationWarning: `product` is deprecated as of NumPy 1.25.0, and will be removed in NumPy 2.0. Please use `prod` instead.\n",
                        "  prior_hfev1 = TabularCPD(\n",
                        "/var/folders/zq/v2r6yn111s3gpdf8lzf72xvw0000gn/T/ipykernel_48157/847093712.py:31: DeprecationWarning: `product` is deprecated as of NumPy 1.25.0, and will be removed in NumPy 2.0. Please use `prod` instead.\n",
                        "  prior_ho2sat = TabularCPD(\n",
                        "/var/folders/zq/v2r6yn111s3gpdf8lzf72xvw0000gn/T/ipykernel_48157/847093712.py:38: DeprecationWarning: `product` is deprecated as of NumPy 1.25.0, and will be removed in NumPy 2.0. Please use `prod` instead.\n",
                        "  prior_ar = TabularCPD(\n",
                        "/Users/tristan.trebaol/Desktop/PhD/Code/phd/src/models/helpers.py:327: IntegrationWarning: The maximum number of subdivisions (50) has been achieved.\n",
                        "  If increasing the limit yields no improvement it is advised to analyze \n",
                        "  the integrand in order to determine the difficulties.  If the position of a \n",
                        "  local difficulty can be determined (singularity, discontinuity) one will \n",
                        "  probably gain from splitting up the interval and calling the integrator \n",
                        "  on the subranges.  Perhaps a special-purpose integrator should be used.\n",
                        "  val, abserr = integrate.quad(\n",
                        "/var/folders/zq/v2r6yn111s3gpdf8lzf72xvw0000gn/T/ipykernel_48157/847093712.py:45: DeprecationWarning: `product` is deprecated as of NumPy 1.25.0, and will be removed in NumPy 2.0. Please use `prod` instead.\n",
                        "  cpt_fev1 = TabularCPD(\n",
                        "/var/folders/zq/v2r6yn111s3gpdf8lzf72xvw0000gn/T/ipykernel_48157/847093712.py:52: DeprecationWarning: `product` is deprecated as of NumPy 1.25.0, and will be removed in NumPy 2.0. Please use `prod` instead.\n",
                        "  cpt_o2_sat_ffa = TabularCPD(\n"
                    ]
                },
                {
                    "name": "stdout",
                    "output_type": "stream",
                    "text": [
                        "model took 46.107311964035034 seconds to build\n",
                        "inference took 48.37571406364441 seconds to run\n",
                        "\n",
                        "Running for ID 114, with 148 observations\n",
                        "*** Building FEV1 and O2 point in time model ***\n"
                    ]
                },
                {
                    "name": "stderr",
                    "output_type": "stream",
                    "text": [
                        "/var/folders/zq/v2r6yn111s3gpdf8lzf72xvw0000gn/T/ipykernel_48157/847093712.py:24: DeprecationWarning: `product` is deprecated as of NumPy 1.25.0, and will be removed in NumPy 2.0. Please use `prod` instead.\n",
                        "  prior_hfev1 = TabularCPD(\n",
                        "/var/folders/zq/v2r6yn111s3gpdf8lzf72xvw0000gn/T/ipykernel_48157/847093712.py:31: DeprecationWarning: `product` is deprecated as of NumPy 1.25.0, and will be removed in NumPy 2.0. Please use `prod` instead.\n",
                        "  prior_ho2sat = TabularCPD(\n",
                        "/var/folders/zq/v2r6yn111s3gpdf8lzf72xvw0000gn/T/ipykernel_48157/847093712.py:38: DeprecationWarning: `product` is deprecated as of NumPy 1.25.0, and will be removed in NumPy 2.0. Please use `prod` instead.\n",
                        "  prior_ar = TabularCPD(\n",
                        "/Users/tristan.trebaol/Desktop/PhD/Code/phd/src/models/helpers.py:327: IntegrationWarning: The maximum number of subdivisions (50) has been achieved.\n",
                        "  If increasing the limit yields no improvement it is advised to analyze \n",
                        "  the integrand in order to determine the difficulties.  If the position of a \n",
                        "  local difficulty can be determined (singularity, discontinuity) one will \n",
                        "  probably gain from splitting up the interval and calling the integrator \n",
                        "  on the subranges.  Perhaps a special-purpose integrator should be used.\n",
                        "  val, abserr = integrate.quad(\n",
                        "/var/folders/zq/v2r6yn111s3gpdf8lzf72xvw0000gn/T/ipykernel_48157/847093712.py:45: DeprecationWarning: `product` is deprecated as of NumPy 1.25.0, and will be removed in NumPy 2.0. Please use `prod` instead.\n",
                        "  cpt_fev1 = TabularCPD(\n",
                        "/var/folders/zq/v2r6yn111s3gpdf8lzf72xvw0000gn/T/ipykernel_48157/847093712.py:52: DeprecationWarning: `product` is deprecated as of NumPy 1.25.0, and will be removed in NumPy 2.0. Please use `prod` instead.\n",
                        "  cpt_o2_sat_ffa = TabularCPD(\n"
                    ]
                },
                {
                    "name": "stdout",
                    "output_type": "stream",
                    "text": [
                        "model took 46.445276975631714 seconds to build\n",
                        "inference took 27.22939705848694 seconds to run\n",
                        "\n",
                        "Running for ID 115, with 43 observations\n",
                        "*** Building FEV1 and O2 point in time model ***\n"
                    ]
                },
                {
                    "name": "stderr",
                    "output_type": "stream",
                    "text": [
                        "/var/folders/zq/v2r6yn111s3gpdf8lzf72xvw0000gn/T/ipykernel_48157/847093712.py:24: DeprecationWarning: `product` is deprecated as of NumPy 1.25.0, and will be removed in NumPy 2.0. Please use `prod` instead.\n",
                        "  prior_hfev1 = TabularCPD(\n",
                        "/var/folders/zq/v2r6yn111s3gpdf8lzf72xvw0000gn/T/ipykernel_48157/847093712.py:31: DeprecationWarning: `product` is deprecated as of NumPy 1.25.0, and will be removed in NumPy 2.0. Please use `prod` instead.\n",
                        "  prior_ho2sat = TabularCPD(\n",
                        "/var/folders/zq/v2r6yn111s3gpdf8lzf72xvw0000gn/T/ipykernel_48157/847093712.py:38: DeprecationWarning: `product` is deprecated as of NumPy 1.25.0, and will be removed in NumPy 2.0. Please use `prod` instead.\n",
                        "  prior_ar = TabularCPD(\n",
                        "/Users/tristan.trebaol/Desktop/PhD/Code/phd/src/models/helpers.py:327: IntegrationWarning: The maximum number of subdivisions (50) has been achieved.\n",
                        "  If increasing the limit yields no improvement it is advised to analyze \n",
                        "  the integrand in order to determine the difficulties.  If the position of a \n",
                        "  local difficulty can be determined (singularity, discontinuity) one will \n",
                        "  probably gain from splitting up the interval and calling the integrator \n",
                        "  on the subranges.  Perhaps a special-purpose integrator should be used.\n",
                        "  val, abserr = integrate.quad(\n",
                        "/var/folders/zq/v2r6yn111s3gpdf8lzf72xvw0000gn/T/ipykernel_48157/847093712.py:45: DeprecationWarning: `product` is deprecated as of NumPy 1.25.0, and will be removed in NumPy 2.0. Please use `prod` instead.\n",
                        "  cpt_fev1 = TabularCPD(\n",
                        "/var/folders/zq/v2r6yn111s3gpdf8lzf72xvw0000gn/T/ipykernel_48157/847093712.py:52: DeprecationWarning: `product` is deprecated as of NumPy 1.25.0, and will be removed in NumPy 2.0. Please use `prod` instead.\n",
                        "  cpt_o2_sat_ffa = TabularCPD(\n"
                    ]
                },
                {
                    "name": "stdout",
                    "output_type": "stream",
                    "text": [
                        "model took 46.480000019073486 seconds to build\n",
                        "inference took 12.038082122802734 seconds to run\n",
                        "\n",
                        "Running for ID 116, with 294 observations\n",
                        "*** Building FEV1 and O2 point in time model ***\n"
                    ]
                },
                {
                    "name": "stderr",
                    "output_type": "stream",
                    "text": [
                        "/var/folders/zq/v2r6yn111s3gpdf8lzf72xvw0000gn/T/ipykernel_48157/847093712.py:24: DeprecationWarning: `product` is deprecated as of NumPy 1.25.0, and will be removed in NumPy 2.0. Please use `prod` instead.\n",
                        "  prior_hfev1 = TabularCPD(\n",
                        "/var/folders/zq/v2r6yn111s3gpdf8lzf72xvw0000gn/T/ipykernel_48157/847093712.py:31: DeprecationWarning: `product` is deprecated as of NumPy 1.25.0, and will be removed in NumPy 2.0. Please use `prod` instead.\n",
                        "  prior_ho2sat = TabularCPD(\n",
                        "/var/folders/zq/v2r6yn111s3gpdf8lzf72xvw0000gn/T/ipykernel_48157/847093712.py:38: DeprecationWarning: `product` is deprecated as of NumPy 1.25.0, and will be removed in NumPy 2.0. Please use `prod` instead.\n",
                        "  prior_ar = TabularCPD(\n",
                        "/Users/tristan.trebaol/Desktop/PhD/Code/phd/src/models/helpers.py:327: IntegrationWarning: The maximum number of subdivisions (50) has been achieved.\n",
                        "  If increasing the limit yields no improvement it is advised to analyze \n",
                        "  the integrand in order to determine the difficulties.  If the position of a \n",
                        "  local difficulty can be determined (singularity, discontinuity) one will \n",
                        "  probably gain from splitting up the interval and calling the integrator \n",
                        "  on the subranges.  Perhaps a special-purpose integrator should be used.\n",
                        "  val, abserr = integrate.quad(\n",
                        "/var/folders/zq/v2r6yn111s3gpdf8lzf72xvw0000gn/T/ipykernel_48157/847093712.py:45: DeprecationWarning: `product` is deprecated as of NumPy 1.25.0, and will be removed in NumPy 2.0. Please use `prod` instead.\n",
                        "  cpt_fev1 = TabularCPD(\n",
                        "/var/folders/zq/v2r6yn111s3gpdf8lzf72xvw0000gn/T/ipykernel_48157/847093712.py:52: DeprecationWarning: `product` is deprecated as of NumPy 1.25.0, and will be removed in NumPy 2.0. Please use `prod` instead.\n",
                        "  cpt_o2_sat_ffa = TabularCPD(\n"
                    ]
                },
                {
                    "name": "stdout",
                    "output_type": "stream",
                    "text": [
                        "model took 46.19986414909363 seconds to build\n",
                        "inference took 24.159906148910522 seconds to run\n",
                        "\n",
                        "Running for ID 117, with 252 observations\n",
                        "*** Building FEV1 and O2 point in time model ***\n"
                    ]
                },
                {
                    "name": "stderr",
                    "output_type": "stream",
                    "text": [
                        "/var/folders/zq/v2r6yn111s3gpdf8lzf72xvw0000gn/T/ipykernel_48157/847093712.py:24: DeprecationWarning: `product` is deprecated as of NumPy 1.25.0, and will be removed in NumPy 2.0. Please use `prod` instead.\n",
                        "  prior_hfev1 = TabularCPD(\n",
                        "/var/folders/zq/v2r6yn111s3gpdf8lzf72xvw0000gn/T/ipykernel_48157/847093712.py:31: DeprecationWarning: `product` is deprecated as of NumPy 1.25.0, and will be removed in NumPy 2.0. Please use `prod` instead.\n",
                        "  prior_ho2sat = TabularCPD(\n",
                        "/var/folders/zq/v2r6yn111s3gpdf8lzf72xvw0000gn/T/ipykernel_48157/847093712.py:38: DeprecationWarning: `product` is deprecated as of NumPy 1.25.0, and will be removed in NumPy 2.0. Please use `prod` instead.\n",
                        "  prior_ar = TabularCPD(\n",
                        "/Users/tristan.trebaol/Desktop/PhD/Code/phd/src/models/helpers.py:327: IntegrationWarning: The maximum number of subdivisions (50) has been achieved.\n",
                        "  If increasing the limit yields no improvement it is advised to analyze \n",
                        "  the integrand in order to determine the difficulties.  If the position of a \n",
                        "  local difficulty can be determined (singularity, discontinuity) one will \n",
                        "  probably gain from splitting up the interval and calling the integrator \n",
                        "  on the subranges.  Perhaps a special-purpose integrator should be used.\n",
                        "  val, abserr = integrate.quad(\n",
                        "/var/folders/zq/v2r6yn111s3gpdf8lzf72xvw0000gn/T/ipykernel_48157/847093712.py:45: DeprecationWarning: `product` is deprecated as of NumPy 1.25.0, and will be removed in NumPy 2.0. Please use `prod` instead.\n",
                        "  cpt_fev1 = TabularCPD(\n",
                        "/var/folders/zq/v2r6yn111s3gpdf8lzf72xvw0000gn/T/ipykernel_48157/847093712.py:52: DeprecationWarning: `product` is deprecated as of NumPy 1.25.0, and will be removed in NumPy 2.0. Please use `prod` instead.\n",
                        "  cpt_o2_sat_ffa = TabularCPD(\n"
                    ]
                },
                {
                    "name": "stdout",
                    "output_type": "stream",
                    "text": [
                        "model took 46.257848024368286 seconds to build\n",
                        "inference took 38.434781074523926 seconds to run\n",
                        "\n",
                        "Running for ID 118, with 118 observations\n",
                        "*** Building FEV1 and O2 point in time model ***\n"
                    ]
                },
                {
                    "name": "stderr",
                    "output_type": "stream",
                    "text": [
                        "/var/folders/zq/v2r6yn111s3gpdf8lzf72xvw0000gn/T/ipykernel_48157/847093712.py:24: DeprecationWarning: `product` is deprecated as of NumPy 1.25.0, and will be removed in NumPy 2.0. Please use `prod` instead.\n",
                        "  prior_hfev1 = TabularCPD(\n",
                        "/var/folders/zq/v2r6yn111s3gpdf8lzf72xvw0000gn/T/ipykernel_48157/847093712.py:31: DeprecationWarning: `product` is deprecated as of NumPy 1.25.0, and will be removed in NumPy 2.0. Please use `prod` instead.\n",
                        "  prior_ho2sat = TabularCPD(\n",
                        "/var/folders/zq/v2r6yn111s3gpdf8lzf72xvw0000gn/T/ipykernel_48157/847093712.py:38: DeprecationWarning: `product` is deprecated as of NumPy 1.25.0, and will be removed in NumPy 2.0. Please use `prod` instead.\n",
                        "  prior_ar = TabularCPD(\n",
                        "/Users/tristan.trebaol/Desktop/PhD/Code/phd/src/models/helpers.py:327: IntegrationWarning: The maximum number of subdivisions (50) has been achieved.\n",
                        "  If increasing the limit yields no improvement it is advised to analyze \n",
                        "  the integrand in order to determine the difficulties.  If the position of a \n",
                        "  local difficulty can be determined (singularity, discontinuity) one will \n",
                        "  probably gain from splitting up the interval and calling the integrator \n",
                        "  on the subranges.  Perhaps a special-purpose integrator should be used.\n",
                        "  val, abserr = integrate.quad(\n",
                        "/var/folders/zq/v2r6yn111s3gpdf8lzf72xvw0000gn/T/ipykernel_48157/847093712.py:45: DeprecationWarning: `product` is deprecated as of NumPy 1.25.0, and will be removed in NumPy 2.0. Please use `prod` instead.\n",
                        "  cpt_fev1 = TabularCPD(\n",
                        "/var/folders/zq/v2r6yn111s3gpdf8lzf72xvw0000gn/T/ipykernel_48157/847093712.py:52: DeprecationWarning: `product` is deprecated as of NumPy 1.25.0, and will be removed in NumPy 2.0. Please use `prod` instead.\n",
                        "  cpt_o2_sat_ffa = TabularCPD(\n"
                    ]
                },
                {
                    "name": "stdout",
                    "output_type": "stream",
                    "text": [
                        "model took 46.932462215423584 seconds to build\n",
                        "inference took 17.02019500732422 seconds to run\n",
                        "\n",
                        "Running for ID 119, with 124 observations\n",
                        "*** Building FEV1 and O2 point in time model ***\n"
                    ]
                },
                {
                    "name": "stderr",
                    "output_type": "stream",
                    "text": [
                        "/var/folders/zq/v2r6yn111s3gpdf8lzf72xvw0000gn/T/ipykernel_48157/847093712.py:24: DeprecationWarning: `product` is deprecated as of NumPy 1.25.0, and will be removed in NumPy 2.0. Please use `prod` instead.\n",
                        "  prior_hfev1 = TabularCPD(\n",
                        "/var/folders/zq/v2r6yn111s3gpdf8lzf72xvw0000gn/T/ipykernel_48157/847093712.py:31: DeprecationWarning: `product` is deprecated as of NumPy 1.25.0, and will be removed in NumPy 2.0. Please use `prod` instead.\n",
                        "  prior_ho2sat = TabularCPD(\n",
                        "/var/folders/zq/v2r6yn111s3gpdf8lzf72xvw0000gn/T/ipykernel_48157/847093712.py:38: DeprecationWarning: `product` is deprecated as of NumPy 1.25.0, and will be removed in NumPy 2.0. Please use `prod` instead.\n",
                        "  prior_ar = TabularCPD(\n",
                        "/Users/tristan.trebaol/Desktop/PhD/Code/phd/src/models/helpers.py:327: IntegrationWarning: The maximum number of subdivisions (50) has been achieved.\n",
                        "  If increasing the limit yields no improvement it is advised to analyze \n",
                        "  the integrand in order to determine the difficulties.  If the position of a \n",
                        "  local difficulty can be determined (singularity, discontinuity) one will \n",
                        "  probably gain from splitting up the interval and calling the integrator \n",
                        "  on the subranges.  Perhaps a special-purpose integrator should be used.\n",
                        "  val, abserr = integrate.quad(\n",
                        "/var/folders/zq/v2r6yn111s3gpdf8lzf72xvw0000gn/T/ipykernel_48157/847093712.py:45: DeprecationWarning: `product` is deprecated as of NumPy 1.25.0, and will be removed in NumPy 2.0. Please use `prod` instead.\n",
                        "  cpt_fev1 = TabularCPD(\n",
                        "/var/folders/zq/v2r6yn111s3gpdf8lzf72xvw0000gn/T/ipykernel_48157/847093712.py:52: DeprecationWarning: `product` is deprecated as of NumPy 1.25.0, and will be removed in NumPy 2.0. Please use `prod` instead.\n",
                        "  cpt_o2_sat_ffa = TabularCPD(\n"
                    ]
                },
                {
                    "name": "stdout",
                    "output_type": "stream",
                    "text": [
                        "model took 46.8395619392395 seconds to build\n",
                        "inference took 10.19880986213684 seconds to run\n",
                        "\n",
                        "Running for ID 120, with 310 observations\n",
                        "*** Building FEV1 and O2 point in time model ***\n"
                    ]
                },
                {
                    "name": "stderr",
                    "output_type": "stream",
                    "text": [
                        "/var/folders/zq/v2r6yn111s3gpdf8lzf72xvw0000gn/T/ipykernel_48157/847093712.py:24: DeprecationWarning: `product` is deprecated as of NumPy 1.25.0, and will be removed in NumPy 2.0. Please use `prod` instead.\n",
                        "  prior_hfev1 = TabularCPD(\n",
                        "/var/folders/zq/v2r6yn111s3gpdf8lzf72xvw0000gn/T/ipykernel_48157/847093712.py:31: DeprecationWarning: `product` is deprecated as of NumPy 1.25.0, and will be removed in NumPy 2.0. Please use `prod` instead.\n",
                        "  prior_ho2sat = TabularCPD(\n",
                        "/var/folders/zq/v2r6yn111s3gpdf8lzf72xvw0000gn/T/ipykernel_48157/847093712.py:38: DeprecationWarning: `product` is deprecated as of NumPy 1.25.0, and will be removed in NumPy 2.0. Please use `prod` instead.\n",
                        "  prior_ar = TabularCPD(\n",
                        "/Users/tristan.trebaol/Desktop/PhD/Code/phd/src/models/helpers.py:327: IntegrationWarning: The maximum number of subdivisions (50) has been achieved.\n",
                        "  If increasing the limit yields no improvement it is advised to analyze \n",
                        "  the integrand in order to determine the difficulties.  If the position of a \n",
                        "  local difficulty can be determined (singularity, discontinuity) one will \n",
                        "  probably gain from splitting up the interval and calling the integrator \n",
                        "  on the subranges.  Perhaps a special-purpose integrator should be used.\n",
                        "  val, abserr = integrate.quad(\n",
                        "/var/folders/zq/v2r6yn111s3gpdf8lzf72xvw0000gn/T/ipykernel_48157/847093712.py:45: DeprecationWarning: `product` is deprecated as of NumPy 1.25.0, and will be removed in NumPy 2.0. Please use `prod` instead.\n",
                        "  cpt_fev1 = TabularCPD(\n",
                        "/var/folders/zq/v2r6yn111s3gpdf8lzf72xvw0000gn/T/ipykernel_48157/847093712.py:52: DeprecationWarning: `product` is deprecated as of NumPy 1.25.0, and will be removed in NumPy 2.0. Please use `prod` instead.\n",
                        "  cpt_o2_sat_ffa = TabularCPD(\n"
                    ]
                },
                {
                    "name": "stdout",
                    "output_type": "stream",
                    "text": [
                        "model took 46.347326040267944 seconds to build\n",
                        "inference took 27.046449899673462 seconds to run\n",
                        "\n",
                        "Running for ID 121, with 59 observations\n",
                        "*** Building FEV1 and O2 point in time model ***\n"
                    ]
                },
                {
                    "name": "stderr",
                    "output_type": "stream",
                    "text": [
                        "/var/folders/zq/v2r6yn111s3gpdf8lzf72xvw0000gn/T/ipykernel_48157/847093712.py:24: DeprecationWarning: `product` is deprecated as of NumPy 1.25.0, and will be removed in NumPy 2.0. Please use `prod` instead.\n",
                        "  prior_hfev1 = TabularCPD(\n",
                        "/var/folders/zq/v2r6yn111s3gpdf8lzf72xvw0000gn/T/ipykernel_48157/847093712.py:31: DeprecationWarning: `product` is deprecated as of NumPy 1.25.0, and will be removed in NumPy 2.0. Please use `prod` instead.\n",
                        "  prior_ho2sat = TabularCPD(\n",
                        "/var/folders/zq/v2r6yn111s3gpdf8lzf72xvw0000gn/T/ipykernel_48157/847093712.py:38: DeprecationWarning: `product` is deprecated as of NumPy 1.25.0, and will be removed in NumPy 2.0. Please use `prod` instead.\n",
                        "  prior_ar = TabularCPD(\n",
                        "/Users/tristan.trebaol/Desktop/PhD/Code/phd/src/models/helpers.py:327: IntegrationWarning: The maximum number of subdivisions (50) has been achieved.\n",
                        "  If increasing the limit yields no improvement it is advised to analyze \n",
                        "  the integrand in order to determine the difficulties.  If the position of a \n",
                        "  local difficulty can be determined (singularity, discontinuity) one will \n",
                        "  probably gain from splitting up the interval and calling the integrator \n",
                        "  on the subranges.  Perhaps a special-purpose integrator should be used.\n",
                        "  val, abserr = integrate.quad(\n",
                        "/var/folders/zq/v2r6yn111s3gpdf8lzf72xvw0000gn/T/ipykernel_48157/847093712.py:45: DeprecationWarning: `product` is deprecated as of NumPy 1.25.0, and will be removed in NumPy 2.0. Please use `prod` instead.\n",
                        "  cpt_fev1 = TabularCPD(\n",
                        "/var/folders/zq/v2r6yn111s3gpdf8lzf72xvw0000gn/T/ipykernel_48157/847093712.py:52: DeprecationWarning: `product` is deprecated as of NumPy 1.25.0, and will be removed in NumPy 2.0. Please use `prod` instead.\n",
                        "  cpt_o2_sat_ffa = TabularCPD(\n"
                    ]
                },
                {
                    "name": "stdout",
                    "output_type": "stream",
                    "text": [
                        "model took 46.62810206413269 seconds to build\n",
                        "inference took 13.182453155517578 seconds to run\n",
                        "\n",
                        "Running for ID 122, with 133 observations\n",
                        "*** Building FEV1 and O2 point in time model ***\n"
                    ]
                },
                {
                    "name": "stderr",
                    "output_type": "stream",
                    "text": [
                        "/var/folders/zq/v2r6yn111s3gpdf8lzf72xvw0000gn/T/ipykernel_48157/847093712.py:24: DeprecationWarning: `product` is deprecated as of NumPy 1.25.0, and will be removed in NumPy 2.0. Please use `prod` instead.\n",
                        "  prior_hfev1 = TabularCPD(\n",
                        "/var/folders/zq/v2r6yn111s3gpdf8lzf72xvw0000gn/T/ipykernel_48157/847093712.py:31: DeprecationWarning: `product` is deprecated as of NumPy 1.25.0, and will be removed in NumPy 2.0. Please use `prod` instead.\n",
                        "  prior_ho2sat = TabularCPD(\n",
                        "/var/folders/zq/v2r6yn111s3gpdf8lzf72xvw0000gn/T/ipykernel_48157/847093712.py:38: DeprecationWarning: `product` is deprecated as of NumPy 1.25.0, and will be removed in NumPy 2.0. Please use `prod` instead.\n",
                        "  prior_ar = TabularCPD(\n",
                        "/Users/tristan.trebaol/Desktop/PhD/Code/phd/src/models/helpers.py:327: IntegrationWarning: The maximum number of subdivisions (50) has been achieved.\n",
                        "  If increasing the limit yields no improvement it is advised to analyze \n",
                        "  the integrand in order to determine the difficulties.  If the position of a \n",
                        "  local difficulty can be determined (singularity, discontinuity) one will \n",
                        "  probably gain from splitting up the interval and calling the integrator \n",
                        "  on the subranges.  Perhaps a special-purpose integrator should be used.\n",
                        "  val, abserr = integrate.quad(\n",
                        "/var/folders/zq/v2r6yn111s3gpdf8lzf72xvw0000gn/T/ipykernel_48157/847093712.py:45: DeprecationWarning: `product` is deprecated as of NumPy 1.25.0, and will be removed in NumPy 2.0. Please use `prod` instead.\n",
                        "  cpt_fev1 = TabularCPD(\n",
                        "/var/folders/zq/v2r6yn111s3gpdf8lzf72xvw0000gn/T/ipykernel_48157/847093712.py:52: DeprecationWarning: `product` is deprecated as of NumPy 1.25.0, and will be removed in NumPy 2.0. Please use `prod` instead.\n",
                        "  cpt_o2_sat_ffa = TabularCPD(\n"
                    ]
                },
                {
                    "name": "stdout",
                    "output_type": "stream",
                    "text": [
                        "model took 46.46928095817566 seconds to build\n",
                        "inference took 13.073828220367432 seconds to run\n",
                        "\n",
                        "Running for ID 123, with 546 observations\n",
                        "*** Building FEV1 and O2 point in time model ***\n"
                    ]
                },
                {
                    "name": "stderr",
                    "output_type": "stream",
                    "text": [
                        "/var/folders/zq/v2r6yn111s3gpdf8lzf72xvw0000gn/T/ipykernel_48157/847093712.py:24: DeprecationWarning: `product` is deprecated as of NumPy 1.25.0, and will be removed in NumPy 2.0. Please use `prod` instead.\n",
                        "  prior_hfev1 = TabularCPD(\n",
                        "/var/folders/zq/v2r6yn111s3gpdf8lzf72xvw0000gn/T/ipykernel_48157/847093712.py:31: DeprecationWarning: `product` is deprecated as of NumPy 1.25.0, and will be removed in NumPy 2.0. Please use `prod` instead.\n",
                        "  prior_ho2sat = TabularCPD(\n",
                        "/var/folders/zq/v2r6yn111s3gpdf8lzf72xvw0000gn/T/ipykernel_48157/847093712.py:38: DeprecationWarning: `product` is deprecated as of NumPy 1.25.0, and will be removed in NumPy 2.0. Please use `prod` instead.\n",
                        "  prior_ar = TabularCPD(\n",
                        "/Users/tristan.trebaol/Desktop/PhD/Code/phd/src/models/helpers.py:327: IntegrationWarning: The maximum number of subdivisions (50) has been achieved.\n",
                        "  If increasing the limit yields no improvement it is advised to analyze \n",
                        "  the integrand in order to determine the difficulties.  If the position of a \n",
                        "  local difficulty can be determined (singularity, discontinuity) one will \n",
                        "  probably gain from splitting up the interval and calling the integrator \n",
                        "  on the subranges.  Perhaps a special-purpose integrator should be used.\n",
                        "  val, abserr = integrate.quad(\n",
                        "/var/folders/zq/v2r6yn111s3gpdf8lzf72xvw0000gn/T/ipykernel_48157/847093712.py:45: DeprecationWarning: `product` is deprecated as of NumPy 1.25.0, and will be removed in NumPy 2.0. Please use `prod` instead.\n",
                        "  cpt_fev1 = TabularCPD(\n",
                        "/var/folders/zq/v2r6yn111s3gpdf8lzf72xvw0000gn/T/ipykernel_48157/847093712.py:52: DeprecationWarning: `product` is deprecated as of NumPy 1.25.0, and will be removed in NumPy 2.0. Please use `prod` instead.\n",
                        "  cpt_o2_sat_ffa = TabularCPD(\n"
                    ]
                },
                {
                    "name": "stdout",
                    "output_type": "stream",
                    "text": [
                        "model took 46.42769408226013 seconds to build\n",
                        "inference took 36.81678915023804 seconds to run\n",
                        "\n",
                        "Running for ID 124, with 28 observations\n",
                        "*** Building FEV1 and O2 point in time model ***\n"
                    ]
                },
                {
                    "name": "stderr",
                    "output_type": "stream",
                    "text": [
                        "/var/folders/zq/v2r6yn111s3gpdf8lzf72xvw0000gn/T/ipykernel_48157/847093712.py:24: DeprecationWarning: `product` is deprecated as of NumPy 1.25.0, and will be removed in NumPy 2.0. Please use `prod` instead.\n",
                        "  prior_hfev1 = TabularCPD(\n",
                        "/var/folders/zq/v2r6yn111s3gpdf8lzf72xvw0000gn/T/ipykernel_48157/847093712.py:31: DeprecationWarning: `product` is deprecated as of NumPy 1.25.0, and will be removed in NumPy 2.0. Please use `prod` instead.\n",
                        "  prior_ho2sat = TabularCPD(\n",
                        "/var/folders/zq/v2r6yn111s3gpdf8lzf72xvw0000gn/T/ipykernel_48157/847093712.py:38: DeprecationWarning: `product` is deprecated as of NumPy 1.25.0, and will be removed in NumPy 2.0. Please use `prod` instead.\n",
                        "  prior_ar = TabularCPD(\n",
                        "/Users/tristan.trebaol/Desktop/PhD/Code/phd/src/models/helpers.py:327: IntegrationWarning: The maximum number of subdivisions (50) has been achieved.\n",
                        "  If increasing the limit yields no improvement it is advised to analyze \n",
                        "  the integrand in order to determine the difficulties.  If the position of a \n",
                        "  local difficulty can be determined (singularity, discontinuity) one will \n",
                        "  probably gain from splitting up the interval and calling the integrator \n",
                        "  on the subranges.  Perhaps a special-purpose integrator should be used.\n",
                        "  val, abserr = integrate.quad(\n",
                        "/var/folders/zq/v2r6yn111s3gpdf8lzf72xvw0000gn/T/ipykernel_48157/847093712.py:45: DeprecationWarning: `product` is deprecated as of NumPy 1.25.0, and will be removed in NumPy 2.0. Please use `prod` instead.\n",
                        "  cpt_fev1 = TabularCPD(\n",
                        "/var/folders/zq/v2r6yn111s3gpdf8lzf72xvw0000gn/T/ipykernel_48157/847093712.py:52: DeprecationWarning: `product` is deprecated as of NumPy 1.25.0, and will be removed in NumPy 2.0. Please use `prod` instead.\n",
                        "  cpt_o2_sat_ffa = TabularCPD(\n"
                    ]
                },
                {
                    "name": "stdout",
                    "output_type": "stream",
                    "text": [
                        "model took 46.63135480880737 seconds to build\n",
                        "inference took 6.779546022415161 seconds to run\n",
                        "\n",
                        "Running for ID 125, with 240 observations\n",
                        "*** Building FEV1 and O2 point in time model ***\n"
                    ]
                },
                {
                    "name": "stderr",
                    "output_type": "stream",
                    "text": [
                        "/var/folders/zq/v2r6yn111s3gpdf8lzf72xvw0000gn/T/ipykernel_48157/847093712.py:24: DeprecationWarning: `product` is deprecated as of NumPy 1.25.0, and will be removed in NumPy 2.0. Please use `prod` instead.\n",
                        "  prior_hfev1 = TabularCPD(\n",
                        "/var/folders/zq/v2r6yn111s3gpdf8lzf72xvw0000gn/T/ipykernel_48157/847093712.py:31: DeprecationWarning: `product` is deprecated as of NumPy 1.25.0, and will be removed in NumPy 2.0. Please use `prod` instead.\n",
                        "  prior_ho2sat = TabularCPD(\n",
                        "/var/folders/zq/v2r6yn111s3gpdf8lzf72xvw0000gn/T/ipykernel_48157/847093712.py:38: DeprecationWarning: `product` is deprecated as of NumPy 1.25.0, and will be removed in NumPy 2.0. Please use `prod` instead.\n",
                        "  prior_ar = TabularCPD(\n",
                        "/Users/tristan.trebaol/Desktop/PhD/Code/phd/src/models/helpers.py:327: IntegrationWarning: The maximum number of subdivisions (50) has been achieved.\n",
                        "  If increasing the limit yields no improvement it is advised to analyze \n",
                        "  the integrand in order to determine the difficulties.  If the position of a \n",
                        "  local difficulty can be determined (singularity, discontinuity) one will \n",
                        "  probably gain from splitting up the interval and calling the integrator \n",
                        "  on the subranges.  Perhaps a special-purpose integrator should be used.\n",
                        "  val, abserr = integrate.quad(\n",
                        "/var/folders/zq/v2r6yn111s3gpdf8lzf72xvw0000gn/T/ipykernel_48157/847093712.py:45: DeprecationWarning: `product` is deprecated as of NumPy 1.25.0, and will be removed in NumPy 2.0. Please use `prod` instead.\n",
                        "  cpt_fev1 = TabularCPD(\n",
                        "/var/folders/zq/v2r6yn111s3gpdf8lzf72xvw0000gn/T/ipykernel_48157/847093712.py:52: DeprecationWarning: `product` is deprecated as of NumPy 1.25.0, and will be removed in NumPy 2.0. Please use `prod` instead.\n",
                        "  cpt_o2_sat_ffa = TabularCPD(\n"
                    ]
                },
                {
                    "name": "stdout",
                    "output_type": "stream",
                    "text": [
                        "model took 46.605250120162964 seconds to build\n",
                        "inference took 22.889127016067505 seconds to run\n",
                        "\n",
                        "Running for ID 126, with 59 observations\n",
                        "*** Building FEV1 and O2 point in time model ***\n"
                    ]
                },
                {
                    "name": "stderr",
                    "output_type": "stream",
                    "text": [
                        "/var/folders/zq/v2r6yn111s3gpdf8lzf72xvw0000gn/T/ipykernel_48157/847093712.py:24: DeprecationWarning: `product` is deprecated as of NumPy 1.25.0, and will be removed in NumPy 2.0. Please use `prod` instead.\n",
                        "  prior_hfev1 = TabularCPD(\n",
                        "/var/folders/zq/v2r6yn111s3gpdf8lzf72xvw0000gn/T/ipykernel_48157/847093712.py:31: DeprecationWarning: `product` is deprecated as of NumPy 1.25.0, and will be removed in NumPy 2.0. Please use `prod` instead.\n",
                        "  prior_ho2sat = TabularCPD(\n",
                        "/var/folders/zq/v2r6yn111s3gpdf8lzf72xvw0000gn/T/ipykernel_48157/847093712.py:38: DeprecationWarning: `product` is deprecated as of NumPy 1.25.0, and will be removed in NumPy 2.0. Please use `prod` instead.\n",
                        "  prior_ar = TabularCPD(\n",
                        "/Users/tristan.trebaol/Desktop/PhD/Code/phd/src/models/helpers.py:327: IntegrationWarning: The maximum number of subdivisions (50) has been achieved.\n",
                        "  If increasing the limit yields no improvement it is advised to analyze \n",
                        "  the integrand in order to determine the difficulties.  If the position of a \n",
                        "  local difficulty can be determined (singularity, discontinuity) one will \n",
                        "  probably gain from splitting up the interval and calling the integrator \n",
                        "  on the subranges.  Perhaps a special-purpose integrator should be used.\n",
                        "  val, abserr = integrate.quad(\n",
                        "/var/folders/zq/v2r6yn111s3gpdf8lzf72xvw0000gn/T/ipykernel_48157/847093712.py:45: DeprecationWarning: `product` is deprecated as of NumPy 1.25.0, and will be removed in NumPy 2.0. Please use `prod` instead.\n",
                        "  cpt_fev1 = TabularCPD(\n",
                        "/var/folders/zq/v2r6yn111s3gpdf8lzf72xvw0000gn/T/ipykernel_48157/847093712.py:52: DeprecationWarning: `product` is deprecated as of NumPy 1.25.0, and will be removed in NumPy 2.0. Please use `prod` instead.\n",
                        "  cpt_o2_sat_ffa = TabularCPD(\n"
                    ]
                },
                {
                    "name": "stdout",
                    "output_type": "stream",
                    "text": [
                        "model took 46.71844935417175 seconds to build\n",
                        "inference took 13.261807203292847 seconds to run\n",
                        "\n",
                        "Running for ID 127, with 145 observations\n",
                        "*** Building FEV1 and O2 point in time model ***\n"
                    ]
                },
                {
                    "name": "stderr",
                    "output_type": "stream",
                    "text": [
                        "/var/folders/zq/v2r6yn111s3gpdf8lzf72xvw0000gn/T/ipykernel_48157/847093712.py:24: DeprecationWarning: `product` is deprecated as of NumPy 1.25.0, and will be removed in NumPy 2.0. Please use `prod` instead.\n",
                        "  prior_hfev1 = TabularCPD(\n",
                        "/var/folders/zq/v2r6yn111s3gpdf8lzf72xvw0000gn/T/ipykernel_48157/847093712.py:31: DeprecationWarning: `product` is deprecated as of NumPy 1.25.0, and will be removed in NumPy 2.0. Please use `prod` instead.\n",
                        "  prior_ho2sat = TabularCPD(\n",
                        "/var/folders/zq/v2r6yn111s3gpdf8lzf72xvw0000gn/T/ipykernel_48157/847093712.py:38: DeprecationWarning: `product` is deprecated as of NumPy 1.25.0, and will be removed in NumPy 2.0. Please use `prod` instead.\n",
                        "  prior_ar = TabularCPD(\n",
                        "/Users/tristan.trebaol/Desktop/PhD/Code/phd/src/models/helpers.py:327: IntegrationWarning: The maximum number of subdivisions (50) has been achieved.\n",
                        "  If increasing the limit yields no improvement it is advised to analyze \n",
                        "  the integrand in order to determine the difficulties.  If the position of a \n",
                        "  local difficulty can be determined (singularity, discontinuity) one will \n",
                        "  probably gain from splitting up the interval and calling the integrator \n",
                        "  on the subranges.  Perhaps a special-purpose integrator should be used.\n",
                        "  val, abserr = integrate.quad(\n",
                        "/var/folders/zq/v2r6yn111s3gpdf8lzf72xvw0000gn/T/ipykernel_48157/847093712.py:45: DeprecationWarning: `product` is deprecated as of NumPy 1.25.0, and will be removed in NumPy 2.0. Please use `prod` instead.\n",
                        "  cpt_fev1 = TabularCPD(\n",
                        "/var/folders/zq/v2r6yn111s3gpdf8lzf72xvw0000gn/T/ipykernel_48157/847093712.py:52: DeprecationWarning: `product` is deprecated as of NumPy 1.25.0, and will be removed in NumPy 2.0. Please use `prod` instead.\n",
                        "  cpt_o2_sat_ffa = TabularCPD(\n"
                    ]
                },
                {
                    "name": "stdout",
                    "output_type": "stream",
                    "text": [
                        "model took 47.11041617393494 seconds to build\n",
                        "inference took 15.149730920791626 seconds to run\n",
                        "\n",
                        "Running for ID 128, with 39 observations\n",
                        "*** Building FEV1 and O2 point in time model ***\n"
                    ]
                },
                {
                    "name": "stderr",
                    "output_type": "stream",
                    "text": [
                        "/var/folders/zq/v2r6yn111s3gpdf8lzf72xvw0000gn/T/ipykernel_48157/847093712.py:24: DeprecationWarning: `product` is deprecated as of NumPy 1.25.0, and will be removed in NumPy 2.0. Please use `prod` instead.\n",
                        "  prior_hfev1 = TabularCPD(\n",
                        "/var/folders/zq/v2r6yn111s3gpdf8lzf72xvw0000gn/T/ipykernel_48157/847093712.py:31: DeprecationWarning: `product` is deprecated as of NumPy 1.25.0, and will be removed in NumPy 2.0. Please use `prod` instead.\n",
                        "  prior_ho2sat = TabularCPD(\n",
                        "/var/folders/zq/v2r6yn111s3gpdf8lzf72xvw0000gn/T/ipykernel_48157/847093712.py:38: DeprecationWarning: `product` is deprecated as of NumPy 1.25.0, and will be removed in NumPy 2.0. Please use `prod` instead.\n",
                        "  prior_ar = TabularCPD(\n",
                        "/Users/tristan.trebaol/Desktop/PhD/Code/phd/src/models/helpers.py:327: IntegrationWarning: The maximum number of subdivisions (50) has been achieved.\n",
                        "  If increasing the limit yields no improvement it is advised to analyze \n",
                        "  the integrand in order to determine the difficulties.  If the position of a \n",
                        "  local difficulty can be determined (singularity, discontinuity) one will \n",
                        "  probably gain from splitting up the interval and calling the integrator \n",
                        "  on the subranges.  Perhaps a special-purpose integrator should be used.\n",
                        "  val, abserr = integrate.quad(\n",
                        "/var/folders/zq/v2r6yn111s3gpdf8lzf72xvw0000gn/T/ipykernel_48157/847093712.py:45: DeprecationWarning: `product` is deprecated as of NumPy 1.25.0, and will be removed in NumPy 2.0. Please use `prod` instead.\n",
                        "  cpt_fev1 = TabularCPD(\n",
                        "/var/folders/zq/v2r6yn111s3gpdf8lzf72xvw0000gn/T/ipykernel_48157/847093712.py:52: DeprecationWarning: `product` is deprecated as of NumPy 1.25.0, and will be removed in NumPy 2.0. Please use `prod` instead.\n",
                        "  cpt_o2_sat_ffa = TabularCPD(\n"
                    ]
                },
                {
                    "name": "stdout",
                    "output_type": "stream",
                    "text": [
                        "model took 46.781830072402954 seconds to build\n",
                        "inference took 8.597585201263428 seconds to run\n",
                        "\n",
                        "Running for ID 129, with 5 observations\n",
                        "*** Building FEV1 and O2 point in time model ***\n"
                    ]
                },
                {
                    "name": "stderr",
                    "output_type": "stream",
                    "text": [
                        "/var/folders/zq/v2r6yn111s3gpdf8lzf72xvw0000gn/T/ipykernel_48157/847093712.py:24: DeprecationWarning: `product` is deprecated as of NumPy 1.25.0, and will be removed in NumPy 2.0. Please use `prod` instead.\n",
                        "  prior_hfev1 = TabularCPD(\n",
                        "/var/folders/zq/v2r6yn111s3gpdf8lzf72xvw0000gn/T/ipykernel_48157/847093712.py:31: DeprecationWarning: `product` is deprecated as of NumPy 1.25.0, and will be removed in NumPy 2.0. Please use `prod` instead.\n",
                        "  prior_ho2sat = TabularCPD(\n",
                        "/var/folders/zq/v2r6yn111s3gpdf8lzf72xvw0000gn/T/ipykernel_48157/847093712.py:38: DeprecationWarning: `product` is deprecated as of NumPy 1.25.0, and will be removed in NumPy 2.0. Please use `prod` instead.\n",
                        "  prior_ar = TabularCPD(\n",
                        "/Users/tristan.trebaol/Desktop/PhD/Code/phd/src/models/helpers.py:327: IntegrationWarning: The maximum number of subdivisions (50) has been achieved.\n",
                        "  If increasing the limit yields no improvement it is advised to analyze \n",
                        "  the integrand in order to determine the difficulties.  If the position of a \n",
                        "  local difficulty can be determined (singularity, discontinuity) one will \n",
                        "  probably gain from splitting up the interval and calling the integrator \n",
                        "  on the subranges.  Perhaps a special-purpose integrator should be used.\n",
                        "  val, abserr = integrate.quad(\n",
                        "/var/folders/zq/v2r6yn111s3gpdf8lzf72xvw0000gn/T/ipykernel_48157/847093712.py:45: DeprecationWarning: `product` is deprecated as of NumPy 1.25.0, and will be removed in NumPy 2.0. Please use `prod` instead.\n",
                        "  cpt_fev1 = TabularCPD(\n",
                        "/var/folders/zq/v2r6yn111s3gpdf8lzf72xvw0000gn/T/ipykernel_48157/847093712.py:52: DeprecationWarning: `product` is deprecated as of NumPy 1.25.0, and will be removed in NumPy 2.0. Please use `prod` instead.\n",
                        "  cpt_o2_sat_ffa = TabularCPD(\n"
                    ]
                },
                {
                    "name": "stdout",
                    "output_type": "stream",
                    "text": [
                        "model took 46.28322768211365 seconds to build\n",
                        "inference took 1.2073979377746582 seconds to run\n",
                        "\n",
                        "Running for ID 130, with 279 observations\n",
                        "*** Building FEV1 and O2 point in time model ***\n"
                    ]
                },
                {
                    "name": "stderr",
                    "output_type": "stream",
                    "text": [
                        "/var/folders/zq/v2r6yn111s3gpdf8lzf72xvw0000gn/T/ipykernel_48157/847093712.py:24: DeprecationWarning: `product` is deprecated as of NumPy 1.25.0, and will be removed in NumPy 2.0. Please use `prod` instead.\n",
                        "  prior_hfev1 = TabularCPD(\n",
                        "/var/folders/zq/v2r6yn111s3gpdf8lzf72xvw0000gn/T/ipykernel_48157/847093712.py:31: DeprecationWarning: `product` is deprecated as of NumPy 1.25.0, and will be removed in NumPy 2.0. Please use `prod` instead.\n",
                        "  prior_ho2sat = TabularCPD(\n",
                        "/var/folders/zq/v2r6yn111s3gpdf8lzf72xvw0000gn/T/ipykernel_48157/847093712.py:38: DeprecationWarning: `product` is deprecated as of NumPy 1.25.0, and will be removed in NumPy 2.0. Please use `prod` instead.\n",
                        "  prior_ar = TabularCPD(\n",
                        "/Users/tristan.trebaol/Desktop/PhD/Code/phd/src/models/helpers.py:327: IntegrationWarning: The maximum number of subdivisions (50) has been achieved.\n",
                        "  If increasing the limit yields no improvement it is advised to analyze \n",
                        "  the integrand in order to determine the difficulties.  If the position of a \n",
                        "  local difficulty can be determined (singularity, discontinuity) one will \n",
                        "  probably gain from splitting up the interval and calling the integrator \n",
                        "  on the subranges.  Perhaps a special-purpose integrator should be used.\n",
                        "  val, abserr = integrate.quad(\n",
                        "/var/folders/zq/v2r6yn111s3gpdf8lzf72xvw0000gn/T/ipykernel_48157/847093712.py:45: DeprecationWarning: `product` is deprecated as of NumPy 1.25.0, and will be removed in NumPy 2.0. Please use `prod` instead.\n",
                        "  cpt_fev1 = TabularCPD(\n",
                        "/var/folders/zq/v2r6yn111s3gpdf8lzf72xvw0000gn/T/ipykernel_48157/847093712.py:52: DeprecationWarning: `product` is deprecated as of NumPy 1.25.0, and will be removed in NumPy 2.0. Please use `prod` instead.\n",
                        "  cpt_o2_sat_ffa = TabularCPD(\n"
                    ]
                },
                {
                    "name": "stdout",
                    "output_type": "stream",
                    "text": [
                        "model took 46.53470802307129 seconds to build\n",
                        "inference took 24.048439025878906 seconds to run\n",
                        "\n",
                        "Running for ID 131, with 29 observations\n",
                        "*** Building FEV1 and O2 point in time model ***\n"
                    ]
                },
                {
                    "name": "stderr",
                    "output_type": "stream",
                    "text": [
                        "/var/folders/zq/v2r6yn111s3gpdf8lzf72xvw0000gn/T/ipykernel_48157/847093712.py:24: DeprecationWarning: `product` is deprecated as of NumPy 1.25.0, and will be removed in NumPy 2.0. Please use `prod` instead.\n",
                        "  prior_hfev1 = TabularCPD(\n",
                        "/var/folders/zq/v2r6yn111s3gpdf8lzf72xvw0000gn/T/ipykernel_48157/847093712.py:31: DeprecationWarning: `product` is deprecated as of NumPy 1.25.0, and will be removed in NumPy 2.0. Please use `prod` instead.\n",
                        "  prior_ho2sat = TabularCPD(\n",
                        "/var/folders/zq/v2r6yn111s3gpdf8lzf72xvw0000gn/T/ipykernel_48157/847093712.py:38: DeprecationWarning: `product` is deprecated as of NumPy 1.25.0, and will be removed in NumPy 2.0. Please use `prod` instead.\n",
                        "  prior_ar = TabularCPD(\n",
                        "/Users/tristan.trebaol/Desktop/PhD/Code/phd/src/models/helpers.py:327: IntegrationWarning: The maximum number of subdivisions (50) has been achieved.\n",
                        "  If increasing the limit yields no improvement it is advised to analyze \n",
                        "  the integrand in order to determine the difficulties.  If the position of a \n",
                        "  local difficulty can be determined (singularity, discontinuity) one will \n",
                        "  probably gain from splitting up the interval and calling the integrator \n",
                        "  on the subranges.  Perhaps a special-purpose integrator should be used.\n",
                        "  val, abserr = integrate.quad(\n",
                        "/var/folders/zq/v2r6yn111s3gpdf8lzf72xvw0000gn/T/ipykernel_48157/847093712.py:45: DeprecationWarning: `product` is deprecated as of NumPy 1.25.0, and will be removed in NumPy 2.0. Please use `prod` instead.\n",
                        "  cpt_fev1 = TabularCPD(\n",
                        "/var/folders/zq/v2r6yn111s3gpdf8lzf72xvw0000gn/T/ipykernel_48157/847093712.py:52: DeprecationWarning: `product` is deprecated as of NumPy 1.25.0, and will be removed in NumPy 2.0. Please use `prod` instead.\n",
                        "  cpt_o2_sat_ffa = TabularCPD(\n"
                    ]
                },
                {
                    "name": "stdout",
                    "output_type": "stream",
                    "text": [
                        "model took 46.34452700614929 seconds to build\n",
                        "inference took 6.872721910476685 seconds to run\n",
                        "\n",
                        "Running for ID 132, with 28 observations\n",
                        "*** Building FEV1 and O2 point in time model ***\n"
                    ]
                },
                {
                    "name": "stderr",
                    "output_type": "stream",
                    "text": [
                        "/var/folders/zq/v2r6yn111s3gpdf8lzf72xvw0000gn/T/ipykernel_48157/847093712.py:24: DeprecationWarning: `product` is deprecated as of NumPy 1.25.0, and will be removed in NumPy 2.0. Please use `prod` instead.\n",
                        "  prior_hfev1 = TabularCPD(\n",
                        "/var/folders/zq/v2r6yn111s3gpdf8lzf72xvw0000gn/T/ipykernel_48157/847093712.py:31: DeprecationWarning: `product` is deprecated as of NumPy 1.25.0, and will be removed in NumPy 2.0. Please use `prod` instead.\n",
                        "  prior_ho2sat = TabularCPD(\n",
                        "/var/folders/zq/v2r6yn111s3gpdf8lzf72xvw0000gn/T/ipykernel_48157/847093712.py:38: DeprecationWarning: `product` is deprecated as of NumPy 1.25.0, and will be removed in NumPy 2.0. Please use `prod` instead.\n",
                        "  prior_ar = TabularCPD(\n",
                        "/Users/tristan.trebaol/Desktop/PhD/Code/phd/src/models/helpers.py:327: IntegrationWarning: The maximum number of subdivisions (50) has been achieved.\n",
                        "  If increasing the limit yields no improvement it is advised to analyze \n",
                        "  the integrand in order to determine the difficulties.  If the position of a \n",
                        "  local difficulty can be determined (singularity, discontinuity) one will \n",
                        "  probably gain from splitting up the interval and calling the integrator \n",
                        "  on the subranges.  Perhaps a special-purpose integrator should be used.\n",
                        "  val, abserr = integrate.quad(\n",
                        "/var/folders/zq/v2r6yn111s3gpdf8lzf72xvw0000gn/T/ipykernel_48157/847093712.py:45: DeprecationWarning: `product` is deprecated as of NumPy 1.25.0, and will be removed in NumPy 2.0. Please use `prod` instead.\n",
                        "  cpt_fev1 = TabularCPD(\n",
                        "/var/folders/zq/v2r6yn111s3gpdf8lzf72xvw0000gn/T/ipykernel_48157/847093712.py:52: DeprecationWarning: `product` is deprecated as of NumPy 1.25.0, and will be removed in NumPy 2.0. Please use `prod` instead.\n",
                        "  cpt_o2_sat_ffa = TabularCPD(\n"
                    ]
                },
                {
                    "name": "stdout",
                    "output_type": "stream",
                    "text": [
                        "model took 46.44826912879944 seconds to build\n",
                        "inference took 5.664845705032349 seconds to run\n",
                        "\n",
                        "Running for ID 133, with 604 observations\n",
                        "*** Building FEV1 and O2 point in time model ***\n"
                    ]
                },
                {
                    "name": "stderr",
                    "output_type": "stream",
                    "text": [
                        "/var/folders/zq/v2r6yn111s3gpdf8lzf72xvw0000gn/T/ipykernel_48157/847093712.py:24: DeprecationWarning: `product` is deprecated as of NumPy 1.25.0, and will be removed in NumPy 2.0. Please use `prod` instead.\n",
                        "  prior_hfev1 = TabularCPD(\n",
                        "/var/folders/zq/v2r6yn111s3gpdf8lzf72xvw0000gn/T/ipykernel_48157/847093712.py:31: DeprecationWarning: `product` is deprecated as of NumPy 1.25.0, and will be removed in NumPy 2.0. Please use `prod` instead.\n",
                        "  prior_ho2sat = TabularCPD(\n",
                        "/var/folders/zq/v2r6yn111s3gpdf8lzf72xvw0000gn/T/ipykernel_48157/847093712.py:38: DeprecationWarning: `product` is deprecated as of NumPy 1.25.0, and will be removed in NumPy 2.0. Please use `prod` instead.\n",
                        "  prior_ar = TabularCPD(\n",
                        "/Users/tristan.trebaol/Desktop/PhD/Code/phd/src/models/helpers.py:327: IntegrationWarning: The maximum number of subdivisions (50) has been achieved.\n",
                        "  If increasing the limit yields no improvement it is advised to analyze \n",
                        "  the integrand in order to determine the difficulties.  If the position of a \n",
                        "  local difficulty can be determined (singularity, discontinuity) one will \n",
                        "  probably gain from splitting up the interval and calling the integrator \n",
                        "  on the subranges.  Perhaps a special-purpose integrator should be used.\n",
                        "  val, abserr = integrate.quad(\n",
                        "/var/folders/zq/v2r6yn111s3gpdf8lzf72xvw0000gn/T/ipykernel_48157/847093712.py:45: DeprecationWarning: `product` is deprecated as of NumPy 1.25.0, and will be removed in NumPy 2.0. Please use `prod` instead.\n",
                        "  cpt_fev1 = TabularCPD(\n",
                        "/var/folders/zq/v2r6yn111s3gpdf8lzf72xvw0000gn/T/ipykernel_48157/847093712.py:52: DeprecationWarning: `product` is deprecated as of NumPy 1.25.0, and will be removed in NumPy 2.0. Please use `prod` instead.\n",
                        "  cpt_o2_sat_ffa = TabularCPD(\n"
                    ]
                },
                {
                    "name": "stdout",
                    "output_type": "stream",
                    "text": [
                        "model took 46.19368886947632 seconds to build\n",
                        "inference took 22.16434931755066 seconds to run\n",
                        "\n",
                        "Running for ID 134, with 83 observations\n",
                        "*** Building FEV1 and O2 point in time model ***\n"
                    ]
                },
                {
                    "name": "stderr",
                    "output_type": "stream",
                    "text": [
                        "/var/folders/zq/v2r6yn111s3gpdf8lzf72xvw0000gn/T/ipykernel_48157/847093712.py:24: DeprecationWarning: `product` is deprecated as of NumPy 1.25.0, and will be removed in NumPy 2.0. Please use `prod` instead.\n",
                        "  prior_hfev1 = TabularCPD(\n",
                        "/var/folders/zq/v2r6yn111s3gpdf8lzf72xvw0000gn/T/ipykernel_48157/847093712.py:31: DeprecationWarning: `product` is deprecated as of NumPy 1.25.0, and will be removed in NumPy 2.0. Please use `prod` instead.\n",
                        "  prior_ho2sat = TabularCPD(\n",
                        "/var/folders/zq/v2r6yn111s3gpdf8lzf72xvw0000gn/T/ipykernel_48157/847093712.py:38: DeprecationWarning: `product` is deprecated as of NumPy 1.25.0, and will be removed in NumPy 2.0. Please use `prod` instead.\n",
                        "  prior_ar = TabularCPD(\n",
                        "/Users/tristan.trebaol/Desktop/PhD/Code/phd/src/models/helpers.py:327: IntegrationWarning: The maximum number of subdivisions (50) has been achieved.\n",
                        "  If increasing the limit yields no improvement it is advised to analyze \n",
                        "  the integrand in order to determine the difficulties.  If the position of a \n",
                        "  local difficulty can be determined (singularity, discontinuity) one will \n",
                        "  probably gain from splitting up the interval and calling the integrator \n",
                        "  on the subranges.  Perhaps a special-purpose integrator should be used.\n",
                        "  val, abserr = integrate.quad(\n",
                        "/var/folders/zq/v2r6yn111s3gpdf8lzf72xvw0000gn/T/ipykernel_48157/847093712.py:45: DeprecationWarning: `product` is deprecated as of NumPy 1.25.0, and will be removed in NumPy 2.0. Please use `prod` instead.\n",
                        "  cpt_fev1 = TabularCPD(\n",
                        "/var/folders/zq/v2r6yn111s3gpdf8lzf72xvw0000gn/T/ipykernel_48157/847093712.py:52: DeprecationWarning: `product` is deprecated as of NumPy 1.25.0, and will be removed in NumPy 2.0. Please use `prod` instead.\n",
                        "  cpt_o2_sat_ffa = TabularCPD(\n"
                    ]
                },
                {
                    "name": "stdout",
                    "output_type": "stream",
                    "text": [
                        "model took 46.66053104400635 seconds to build\n",
                        "inference took 22.46956491470337 seconds to run\n",
                        "\n",
                        "Running for ID 135, with 26 observations\n",
                        "*** Building FEV1 and O2 point in time model ***\n"
                    ]
                },
                {
                    "name": "stderr",
                    "output_type": "stream",
                    "text": [
                        "/var/folders/zq/v2r6yn111s3gpdf8lzf72xvw0000gn/T/ipykernel_48157/847093712.py:24: DeprecationWarning: `product` is deprecated as of NumPy 1.25.0, and will be removed in NumPy 2.0. Please use `prod` instead.\n",
                        "  prior_hfev1 = TabularCPD(\n",
                        "/var/folders/zq/v2r6yn111s3gpdf8lzf72xvw0000gn/T/ipykernel_48157/847093712.py:31: DeprecationWarning: `product` is deprecated as of NumPy 1.25.0, and will be removed in NumPy 2.0. Please use `prod` instead.\n",
                        "  prior_ho2sat = TabularCPD(\n",
                        "/var/folders/zq/v2r6yn111s3gpdf8lzf72xvw0000gn/T/ipykernel_48157/847093712.py:38: DeprecationWarning: `product` is deprecated as of NumPy 1.25.0, and will be removed in NumPy 2.0. Please use `prod` instead.\n",
                        "  prior_ar = TabularCPD(\n",
                        "/Users/tristan.trebaol/Desktop/PhD/Code/phd/src/models/helpers.py:327: IntegrationWarning: The maximum number of subdivisions (50) has been achieved.\n",
                        "  If increasing the limit yields no improvement it is advised to analyze \n",
                        "  the integrand in order to determine the difficulties.  If the position of a \n",
                        "  local difficulty can be determined (singularity, discontinuity) one will \n",
                        "  probably gain from splitting up the interval and calling the integrator \n",
                        "  on the subranges.  Perhaps a special-purpose integrator should be used.\n",
                        "  val, abserr = integrate.quad(\n",
                        "/var/folders/zq/v2r6yn111s3gpdf8lzf72xvw0000gn/T/ipykernel_48157/847093712.py:45: DeprecationWarning: `product` is deprecated as of NumPy 1.25.0, and will be removed in NumPy 2.0. Please use `prod` instead.\n",
                        "  cpt_fev1 = TabularCPD(\n",
                        "/var/folders/zq/v2r6yn111s3gpdf8lzf72xvw0000gn/T/ipykernel_48157/847093712.py:52: DeprecationWarning: `product` is deprecated as of NumPy 1.25.0, and will be removed in NumPy 2.0. Please use `prod` instead.\n",
                        "  cpt_o2_sat_ffa = TabularCPD(\n"
                    ]
                },
                {
                    "name": "stdout",
                    "output_type": "stream",
                    "text": [
                        "model took 46.513705015182495 seconds to build\n",
                        "inference took 7.347090005874634 seconds to run\n",
                        "\n",
                        "Running for ID 138, with 199 observations\n",
                        "*** Building FEV1 and O2 point in time model ***\n"
                    ]
                },
                {
                    "name": "stderr",
                    "output_type": "stream",
                    "text": [
                        "/var/folders/zq/v2r6yn111s3gpdf8lzf72xvw0000gn/T/ipykernel_48157/847093712.py:24: DeprecationWarning: `product` is deprecated as of NumPy 1.25.0, and will be removed in NumPy 2.0. Please use `prod` instead.\n",
                        "  prior_hfev1 = TabularCPD(\n",
                        "/var/folders/zq/v2r6yn111s3gpdf8lzf72xvw0000gn/T/ipykernel_48157/847093712.py:31: DeprecationWarning: `product` is deprecated as of NumPy 1.25.0, and will be removed in NumPy 2.0. Please use `prod` instead.\n",
                        "  prior_ho2sat = TabularCPD(\n",
                        "/var/folders/zq/v2r6yn111s3gpdf8lzf72xvw0000gn/T/ipykernel_48157/847093712.py:38: DeprecationWarning: `product` is deprecated as of NumPy 1.25.0, and will be removed in NumPy 2.0. Please use `prod` instead.\n",
                        "  prior_ar = TabularCPD(\n",
                        "/Users/tristan.trebaol/Desktop/PhD/Code/phd/src/models/helpers.py:327: IntegrationWarning: The maximum number of subdivisions (50) has been achieved.\n",
                        "  If increasing the limit yields no improvement it is advised to analyze \n",
                        "  the integrand in order to determine the difficulties.  If the position of a \n",
                        "  local difficulty can be determined (singularity, discontinuity) one will \n",
                        "  probably gain from splitting up the interval and calling the integrator \n",
                        "  on the subranges.  Perhaps a special-purpose integrator should be used.\n",
                        "  val, abserr = integrate.quad(\n",
                        "/var/folders/zq/v2r6yn111s3gpdf8lzf72xvw0000gn/T/ipykernel_48157/847093712.py:45: DeprecationWarning: `product` is deprecated as of NumPy 1.25.0, and will be removed in NumPy 2.0. Please use `prod` instead.\n",
                        "  cpt_fev1 = TabularCPD(\n",
                        "/var/folders/zq/v2r6yn111s3gpdf8lzf72xvw0000gn/T/ipykernel_48157/847093712.py:52: DeprecationWarning: `product` is deprecated as of NumPy 1.25.0, and will be removed in NumPy 2.0. Please use `prod` instead.\n",
                        "  cpt_o2_sat_ffa = TabularCPD(\n"
                    ]
                },
                {
                    "name": "stdout",
                    "output_type": "stream",
                    "text": [
                        "model took 46.56395506858826 seconds to build\n",
                        "inference took 14.38964581489563 seconds to run\n",
                        "\n",
                        "Running for ID 139, with 267 observations\n",
                        "*** Building FEV1 and O2 point in time model ***\n"
                    ]
                },
                {
                    "name": "stderr",
                    "output_type": "stream",
                    "text": [
                        "/var/folders/zq/v2r6yn111s3gpdf8lzf72xvw0000gn/T/ipykernel_48157/847093712.py:24: DeprecationWarning: `product` is deprecated as of NumPy 1.25.0, and will be removed in NumPy 2.0. Please use `prod` instead.\n",
                        "  prior_hfev1 = TabularCPD(\n",
                        "/var/folders/zq/v2r6yn111s3gpdf8lzf72xvw0000gn/T/ipykernel_48157/847093712.py:31: DeprecationWarning: `product` is deprecated as of NumPy 1.25.0, and will be removed in NumPy 2.0. Please use `prod` instead.\n",
                        "  prior_ho2sat = TabularCPD(\n",
                        "/var/folders/zq/v2r6yn111s3gpdf8lzf72xvw0000gn/T/ipykernel_48157/847093712.py:38: DeprecationWarning: `product` is deprecated as of NumPy 1.25.0, and will be removed in NumPy 2.0. Please use `prod` instead.\n",
                        "  prior_ar = TabularCPD(\n",
                        "/Users/tristan.trebaol/Desktop/PhD/Code/phd/src/models/helpers.py:327: IntegrationWarning: The maximum number of subdivisions (50) has been achieved.\n",
                        "  If increasing the limit yields no improvement it is advised to analyze \n",
                        "  the integrand in order to determine the difficulties.  If the position of a \n",
                        "  local difficulty can be determined (singularity, discontinuity) one will \n",
                        "  probably gain from splitting up the interval and calling the integrator \n",
                        "  on the subranges.  Perhaps a special-purpose integrator should be used.\n",
                        "  val, abserr = integrate.quad(\n",
                        "/var/folders/zq/v2r6yn111s3gpdf8lzf72xvw0000gn/T/ipykernel_48157/847093712.py:45: DeprecationWarning: `product` is deprecated as of NumPy 1.25.0, and will be removed in NumPy 2.0. Please use `prod` instead.\n",
                        "  cpt_fev1 = TabularCPD(\n",
                        "/var/folders/zq/v2r6yn111s3gpdf8lzf72xvw0000gn/T/ipykernel_48157/847093712.py:52: DeprecationWarning: `product` is deprecated as of NumPy 1.25.0, and will be removed in NumPy 2.0. Please use `prod` instead.\n",
                        "  cpt_o2_sat_ffa = TabularCPD(\n"
                    ]
                },
                {
                    "name": "stdout",
                    "output_type": "stream",
                    "text": [
                        "model took 46.645949840545654 seconds to build\n",
                        "inference took 17.50370478630066 seconds to run\n",
                        "\n",
                        "Running for ID 140, with 115 observations\n",
                        "*** Building FEV1 and O2 point in time model ***\n"
                    ]
                },
                {
                    "name": "stderr",
                    "output_type": "stream",
                    "text": [
                        "/var/folders/zq/v2r6yn111s3gpdf8lzf72xvw0000gn/T/ipykernel_48157/847093712.py:24: DeprecationWarning: `product` is deprecated as of NumPy 1.25.0, and will be removed in NumPy 2.0. Please use `prod` instead.\n",
                        "  prior_hfev1 = TabularCPD(\n",
                        "/var/folders/zq/v2r6yn111s3gpdf8lzf72xvw0000gn/T/ipykernel_48157/847093712.py:31: DeprecationWarning: `product` is deprecated as of NumPy 1.25.0, and will be removed in NumPy 2.0. Please use `prod` instead.\n",
                        "  prior_ho2sat = TabularCPD(\n",
                        "/var/folders/zq/v2r6yn111s3gpdf8lzf72xvw0000gn/T/ipykernel_48157/847093712.py:38: DeprecationWarning: `product` is deprecated as of NumPy 1.25.0, and will be removed in NumPy 2.0. Please use `prod` instead.\n",
                        "  prior_ar = TabularCPD(\n",
                        "/Users/tristan.trebaol/Desktop/PhD/Code/phd/src/models/helpers.py:327: IntegrationWarning: The maximum number of subdivisions (50) has been achieved.\n",
                        "  If increasing the limit yields no improvement it is advised to analyze \n",
                        "  the integrand in order to determine the difficulties.  If the position of a \n",
                        "  local difficulty can be determined (singularity, discontinuity) one will \n",
                        "  probably gain from splitting up the interval and calling the integrator \n",
                        "  on the subranges.  Perhaps a special-purpose integrator should be used.\n",
                        "  val, abserr = integrate.quad(\n",
                        "/var/folders/zq/v2r6yn111s3gpdf8lzf72xvw0000gn/T/ipykernel_48157/847093712.py:45: DeprecationWarning: `product` is deprecated as of NumPy 1.25.0, and will be removed in NumPy 2.0. Please use `prod` instead.\n",
                        "  cpt_fev1 = TabularCPD(\n",
                        "/var/folders/zq/v2r6yn111s3gpdf8lzf72xvw0000gn/T/ipykernel_48157/847093712.py:52: DeprecationWarning: `product` is deprecated as of NumPy 1.25.0, and will be removed in NumPy 2.0. Please use `prod` instead.\n",
                        "  cpt_o2_sat_ffa = TabularCPD(\n"
                    ]
                },
                {
                    "name": "stdout",
                    "output_type": "stream",
                    "text": [
                        "model took 46.912954807281494 seconds to build\n",
                        "inference took 14.691611051559448 seconds to run\n",
                        "\n",
                        "Running for ID 141, with 141 observations\n",
                        "*** Building FEV1 and O2 point in time model ***\n"
                    ]
                },
                {
                    "name": "stderr",
                    "output_type": "stream",
                    "text": [
                        "/var/folders/zq/v2r6yn111s3gpdf8lzf72xvw0000gn/T/ipykernel_48157/847093712.py:24: DeprecationWarning: `product` is deprecated as of NumPy 1.25.0, and will be removed in NumPy 2.0. Please use `prod` instead.\n",
                        "  prior_hfev1 = TabularCPD(\n",
                        "/var/folders/zq/v2r6yn111s3gpdf8lzf72xvw0000gn/T/ipykernel_48157/847093712.py:31: DeprecationWarning: `product` is deprecated as of NumPy 1.25.0, and will be removed in NumPy 2.0. Please use `prod` instead.\n",
                        "  prior_ho2sat = TabularCPD(\n",
                        "/var/folders/zq/v2r6yn111s3gpdf8lzf72xvw0000gn/T/ipykernel_48157/847093712.py:38: DeprecationWarning: `product` is deprecated as of NumPy 1.25.0, and will be removed in NumPy 2.0. Please use `prod` instead.\n",
                        "  prior_ar = TabularCPD(\n",
                        "/Users/tristan.trebaol/Desktop/PhD/Code/phd/src/models/helpers.py:327: IntegrationWarning: The maximum number of subdivisions (50) has been achieved.\n",
                        "  If increasing the limit yields no improvement it is advised to analyze \n",
                        "  the integrand in order to determine the difficulties.  If the position of a \n",
                        "  local difficulty can be determined (singularity, discontinuity) one will \n",
                        "  probably gain from splitting up the interval and calling the integrator \n",
                        "  on the subranges.  Perhaps a special-purpose integrator should be used.\n",
                        "  val, abserr = integrate.quad(\n",
                        "/var/folders/zq/v2r6yn111s3gpdf8lzf72xvw0000gn/T/ipykernel_48157/847093712.py:45: DeprecationWarning: `product` is deprecated as of NumPy 1.25.0, and will be removed in NumPy 2.0. Please use `prod` instead.\n",
                        "  cpt_fev1 = TabularCPD(\n",
                        "/var/folders/zq/v2r6yn111s3gpdf8lzf72xvw0000gn/T/ipykernel_48157/847093712.py:52: DeprecationWarning: `product` is deprecated as of NumPy 1.25.0, and will be removed in NumPy 2.0. Please use `prod` instead.\n",
                        "  cpt_o2_sat_ffa = TabularCPD(\n"
                    ]
                },
                {
                    "name": "stdout",
                    "output_type": "stream",
                    "text": [
                        "model took 46.633188009262085 seconds to build\n",
                        "inference took 28.744900941848755 seconds to run\n",
                        "\n",
                        "Running for ID 142, with 24 observations\n",
                        "*** Building FEV1 and O2 point in time model ***\n"
                    ]
                },
                {
                    "name": "stderr",
                    "output_type": "stream",
                    "text": [
                        "/var/folders/zq/v2r6yn111s3gpdf8lzf72xvw0000gn/T/ipykernel_48157/847093712.py:24: DeprecationWarning: `product` is deprecated as of NumPy 1.25.0, and will be removed in NumPy 2.0. Please use `prod` instead.\n",
                        "  prior_hfev1 = TabularCPD(\n",
                        "/var/folders/zq/v2r6yn111s3gpdf8lzf72xvw0000gn/T/ipykernel_48157/847093712.py:31: DeprecationWarning: `product` is deprecated as of NumPy 1.25.0, and will be removed in NumPy 2.0. Please use `prod` instead.\n",
                        "  prior_ho2sat = TabularCPD(\n",
                        "/var/folders/zq/v2r6yn111s3gpdf8lzf72xvw0000gn/T/ipykernel_48157/847093712.py:38: DeprecationWarning: `product` is deprecated as of NumPy 1.25.0, and will be removed in NumPy 2.0. Please use `prod` instead.\n",
                        "  prior_ar = TabularCPD(\n",
                        "/Users/tristan.trebaol/Desktop/PhD/Code/phd/src/models/helpers.py:327: IntegrationWarning: The maximum number of subdivisions (50) has been achieved.\n",
                        "  If increasing the limit yields no improvement it is advised to analyze \n",
                        "  the integrand in order to determine the difficulties.  If the position of a \n",
                        "  local difficulty can be determined (singularity, discontinuity) one will \n",
                        "  probably gain from splitting up the interval and calling the integrator \n",
                        "  on the subranges.  Perhaps a special-purpose integrator should be used.\n",
                        "  val, abserr = integrate.quad(\n",
                        "/var/folders/zq/v2r6yn111s3gpdf8lzf72xvw0000gn/T/ipykernel_48157/847093712.py:45: DeprecationWarning: `product` is deprecated as of NumPy 1.25.0, and will be removed in NumPy 2.0. Please use `prod` instead.\n",
                        "  cpt_fev1 = TabularCPD(\n",
                        "/var/folders/zq/v2r6yn111s3gpdf8lzf72xvw0000gn/T/ipykernel_48157/847093712.py:52: DeprecationWarning: `product` is deprecated as of NumPy 1.25.0, and will be removed in NumPy 2.0. Please use `prod` instead.\n",
                        "  cpt_o2_sat_ffa = TabularCPD(\n"
                    ]
                },
                {
                    "name": "stdout",
                    "output_type": "stream",
                    "text": [
                        "model took 46.520288944244385 seconds to build\n",
                        "inference took 5.389350891113281 seconds to run\n",
                        "\n",
                        "Running for ID 143, with 146 observations\n",
                        "*** Building FEV1 and O2 point in time model ***\n"
                    ]
                },
                {
                    "name": "stderr",
                    "output_type": "stream",
                    "text": [
                        "/var/folders/zq/v2r6yn111s3gpdf8lzf72xvw0000gn/T/ipykernel_48157/847093712.py:24: DeprecationWarning: `product` is deprecated as of NumPy 1.25.0, and will be removed in NumPy 2.0. Please use `prod` instead.\n",
                        "  prior_hfev1 = TabularCPD(\n",
                        "/var/folders/zq/v2r6yn111s3gpdf8lzf72xvw0000gn/T/ipykernel_48157/847093712.py:31: DeprecationWarning: `product` is deprecated as of NumPy 1.25.0, and will be removed in NumPy 2.0. Please use `prod` instead.\n",
                        "  prior_ho2sat = TabularCPD(\n",
                        "/var/folders/zq/v2r6yn111s3gpdf8lzf72xvw0000gn/T/ipykernel_48157/847093712.py:38: DeprecationWarning: `product` is deprecated as of NumPy 1.25.0, and will be removed in NumPy 2.0. Please use `prod` instead.\n",
                        "  prior_ar = TabularCPD(\n",
                        "/Users/tristan.trebaol/Desktop/PhD/Code/phd/src/models/helpers.py:327: IntegrationWarning: The maximum number of subdivisions (50) has been achieved.\n",
                        "  If increasing the limit yields no improvement it is advised to analyze \n",
                        "  the integrand in order to determine the difficulties.  If the position of a \n",
                        "  local difficulty can be determined (singularity, discontinuity) one will \n",
                        "  probably gain from splitting up the interval and calling the integrator \n",
                        "  on the subranges.  Perhaps a special-purpose integrator should be used.\n",
                        "  val, abserr = integrate.quad(\n",
                        "/var/folders/zq/v2r6yn111s3gpdf8lzf72xvw0000gn/T/ipykernel_48157/847093712.py:45: DeprecationWarning: `product` is deprecated as of NumPy 1.25.0, and will be removed in NumPy 2.0. Please use `prod` instead.\n",
                        "  cpt_fev1 = TabularCPD(\n",
                        "/var/folders/zq/v2r6yn111s3gpdf8lzf72xvw0000gn/T/ipykernel_48157/847093712.py:52: DeprecationWarning: `product` is deprecated as of NumPy 1.25.0, and will be removed in NumPy 2.0. Please use `prod` instead.\n",
                        "  cpt_o2_sat_ffa = TabularCPD(\n"
                    ]
                },
                {
                    "name": "stdout",
                    "output_type": "stream",
                    "text": [
                        "model took 46.22570610046387 seconds to build\n",
                        "inference took 11.621908187866211 seconds to run\n",
                        "\n",
                        "Running for ID 144, with 64 observations\n",
                        "*** Building FEV1 and O2 point in time model ***\n"
                    ]
                },
                {
                    "name": "stderr",
                    "output_type": "stream",
                    "text": [
                        "/var/folders/zq/v2r6yn111s3gpdf8lzf72xvw0000gn/T/ipykernel_48157/847093712.py:24: DeprecationWarning: `product` is deprecated as of NumPy 1.25.0, and will be removed in NumPy 2.0. Please use `prod` instead.\n",
                        "  prior_hfev1 = TabularCPD(\n",
                        "/var/folders/zq/v2r6yn111s3gpdf8lzf72xvw0000gn/T/ipykernel_48157/847093712.py:31: DeprecationWarning: `product` is deprecated as of NumPy 1.25.0, and will be removed in NumPy 2.0. Please use `prod` instead.\n",
                        "  prior_ho2sat = TabularCPD(\n",
                        "/var/folders/zq/v2r6yn111s3gpdf8lzf72xvw0000gn/T/ipykernel_48157/847093712.py:38: DeprecationWarning: `product` is deprecated as of NumPy 1.25.0, and will be removed in NumPy 2.0. Please use `prod` instead.\n",
                        "  prior_ar = TabularCPD(\n",
                        "/Users/tristan.trebaol/Desktop/PhD/Code/phd/src/models/helpers.py:327: IntegrationWarning: The maximum number of subdivisions (50) has been achieved.\n",
                        "  If increasing the limit yields no improvement it is advised to analyze \n",
                        "  the integrand in order to determine the difficulties.  If the position of a \n",
                        "  local difficulty can be determined (singularity, discontinuity) one will \n",
                        "  probably gain from splitting up the interval and calling the integrator \n",
                        "  on the subranges.  Perhaps a special-purpose integrator should be used.\n",
                        "  val, abserr = integrate.quad(\n",
                        "/var/folders/zq/v2r6yn111s3gpdf8lzf72xvw0000gn/T/ipykernel_48157/847093712.py:45: DeprecationWarning: `product` is deprecated as of NumPy 1.25.0, and will be removed in NumPy 2.0. Please use `prod` instead.\n",
                        "  cpt_fev1 = TabularCPD(\n",
                        "/var/folders/zq/v2r6yn111s3gpdf8lzf72xvw0000gn/T/ipykernel_48157/847093712.py:52: DeprecationWarning: `product` is deprecated as of NumPy 1.25.0, and will be removed in NumPy 2.0. Please use `prod` instead.\n",
                        "  cpt_o2_sat_ffa = TabularCPD(\n"
                    ]
                },
                {
                    "name": "stdout",
                    "output_type": "stream",
                    "text": [
                        "model took 46.42087006568909 seconds to build\n",
                        "inference took 15.494353294372559 seconds to run\n",
                        "\n",
                        "Running for ID 145, with 535 observations\n",
                        "*** Building FEV1 and O2 point in time model ***\n"
                    ]
                },
                {
                    "name": "stderr",
                    "output_type": "stream",
                    "text": [
                        "/var/folders/zq/v2r6yn111s3gpdf8lzf72xvw0000gn/T/ipykernel_48157/847093712.py:24: DeprecationWarning: `product` is deprecated as of NumPy 1.25.0, and will be removed in NumPy 2.0. Please use `prod` instead.\n",
                        "  prior_hfev1 = TabularCPD(\n",
                        "/var/folders/zq/v2r6yn111s3gpdf8lzf72xvw0000gn/T/ipykernel_48157/847093712.py:31: DeprecationWarning: `product` is deprecated as of NumPy 1.25.0, and will be removed in NumPy 2.0. Please use `prod` instead.\n",
                        "  prior_ho2sat = TabularCPD(\n",
                        "/var/folders/zq/v2r6yn111s3gpdf8lzf72xvw0000gn/T/ipykernel_48157/847093712.py:38: DeprecationWarning: `product` is deprecated as of NumPy 1.25.0, and will be removed in NumPy 2.0. Please use `prod` instead.\n",
                        "  prior_ar = TabularCPD(\n",
                        "/Users/tristan.trebaol/Desktop/PhD/Code/phd/src/models/helpers.py:327: IntegrationWarning: The maximum number of subdivisions (50) has been achieved.\n",
                        "  If increasing the limit yields no improvement it is advised to analyze \n",
                        "  the integrand in order to determine the difficulties.  If the position of a \n",
                        "  local difficulty can be determined (singularity, discontinuity) one will \n",
                        "  probably gain from splitting up the interval and calling the integrator \n",
                        "  on the subranges.  Perhaps a special-purpose integrator should be used.\n",
                        "  val, abserr = integrate.quad(\n",
                        "/var/folders/zq/v2r6yn111s3gpdf8lzf72xvw0000gn/T/ipykernel_48157/847093712.py:45: DeprecationWarning: `product` is deprecated as of NumPy 1.25.0, and will be removed in NumPy 2.0. Please use `prod` instead.\n",
                        "  cpt_fev1 = TabularCPD(\n",
                        "/var/folders/zq/v2r6yn111s3gpdf8lzf72xvw0000gn/T/ipykernel_48157/847093712.py:52: DeprecationWarning: `product` is deprecated as of NumPy 1.25.0, and will be removed in NumPy 2.0. Please use `prod` instead.\n",
                        "  cpt_o2_sat_ffa = TabularCPD(\n"
                    ]
                },
                {
                    "name": "stdout",
                    "output_type": "stream",
                    "text": [
                        "model took 46.950913190841675 seconds to build\n",
                        "inference took 22.232490301132202 seconds to run\n",
                        "\n",
                        "Running for ID 146, with 282 observations\n",
                        "*** Building FEV1 and O2 point in time model ***\n"
                    ]
                },
                {
                    "name": "stderr",
                    "output_type": "stream",
                    "text": [
                        "/var/folders/zq/v2r6yn111s3gpdf8lzf72xvw0000gn/T/ipykernel_48157/847093712.py:24: DeprecationWarning: `product` is deprecated as of NumPy 1.25.0, and will be removed in NumPy 2.0. Please use `prod` instead.\n",
                        "  prior_hfev1 = TabularCPD(\n",
                        "/var/folders/zq/v2r6yn111s3gpdf8lzf72xvw0000gn/T/ipykernel_48157/847093712.py:31: DeprecationWarning: `product` is deprecated as of NumPy 1.25.0, and will be removed in NumPy 2.0. Please use `prod` instead.\n",
                        "  prior_ho2sat = TabularCPD(\n",
                        "/var/folders/zq/v2r6yn111s3gpdf8lzf72xvw0000gn/T/ipykernel_48157/847093712.py:38: DeprecationWarning: `product` is deprecated as of NumPy 1.25.0, and will be removed in NumPy 2.0. Please use `prod` instead.\n",
                        "  prior_ar = TabularCPD(\n",
                        "/Users/tristan.trebaol/Desktop/PhD/Code/phd/src/models/helpers.py:327: IntegrationWarning: The maximum number of subdivisions (50) has been achieved.\n",
                        "  If increasing the limit yields no improvement it is advised to analyze \n",
                        "  the integrand in order to determine the difficulties.  If the position of a \n",
                        "  local difficulty can be determined (singularity, discontinuity) one will \n",
                        "  probably gain from splitting up the interval and calling the integrator \n",
                        "  on the subranges.  Perhaps a special-purpose integrator should be used.\n",
                        "  val, abserr = integrate.quad(\n",
                        "/var/folders/zq/v2r6yn111s3gpdf8lzf72xvw0000gn/T/ipykernel_48157/847093712.py:45: DeprecationWarning: `product` is deprecated as of NumPy 1.25.0, and will be removed in NumPy 2.0. Please use `prod` instead.\n",
                        "  cpt_fev1 = TabularCPD(\n",
                        "/var/folders/zq/v2r6yn111s3gpdf8lzf72xvw0000gn/T/ipykernel_48157/847093712.py:52: DeprecationWarning: `product` is deprecated as of NumPy 1.25.0, and will be removed in NumPy 2.0. Please use `prod` instead.\n",
                        "  cpt_o2_sat_ffa = TabularCPD(\n"
                    ]
                },
                {
                    "name": "stdout",
                    "output_type": "stream",
                    "text": [
                        "model took 46.716546058654785 seconds to build\n",
                        "inference took 41.387110233306885 seconds to run\n",
                        "\n",
                        "Running for ID 147, with 217 observations\n",
                        "*** Building FEV1 and O2 point in time model ***\n"
                    ]
                },
                {
                    "name": "stderr",
                    "output_type": "stream",
                    "text": [
                        "/var/folders/zq/v2r6yn111s3gpdf8lzf72xvw0000gn/T/ipykernel_48157/847093712.py:24: DeprecationWarning: `product` is deprecated as of NumPy 1.25.0, and will be removed in NumPy 2.0. Please use `prod` instead.\n",
                        "  prior_hfev1 = TabularCPD(\n",
                        "/var/folders/zq/v2r6yn111s3gpdf8lzf72xvw0000gn/T/ipykernel_48157/847093712.py:31: DeprecationWarning: `product` is deprecated as of NumPy 1.25.0, and will be removed in NumPy 2.0. Please use `prod` instead.\n",
                        "  prior_ho2sat = TabularCPD(\n",
                        "/var/folders/zq/v2r6yn111s3gpdf8lzf72xvw0000gn/T/ipykernel_48157/847093712.py:38: DeprecationWarning: `product` is deprecated as of NumPy 1.25.0, and will be removed in NumPy 2.0. Please use `prod` instead.\n",
                        "  prior_ar = TabularCPD(\n",
                        "/Users/tristan.trebaol/Desktop/PhD/Code/phd/src/models/helpers.py:327: IntegrationWarning: The maximum number of subdivisions (50) has been achieved.\n",
                        "  If increasing the limit yields no improvement it is advised to analyze \n",
                        "  the integrand in order to determine the difficulties.  If the position of a \n",
                        "  local difficulty can be determined (singularity, discontinuity) one will \n",
                        "  probably gain from splitting up the interval and calling the integrator \n",
                        "  on the subranges.  Perhaps a special-purpose integrator should be used.\n",
                        "  val, abserr = integrate.quad(\n",
                        "/var/folders/zq/v2r6yn111s3gpdf8lzf72xvw0000gn/T/ipykernel_48157/847093712.py:45: DeprecationWarning: `product` is deprecated as of NumPy 1.25.0, and will be removed in NumPy 2.0. Please use `prod` instead.\n",
                        "  cpt_fev1 = TabularCPD(\n",
                        "/var/folders/zq/v2r6yn111s3gpdf8lzf72xvw0000gn/T/ipykernel_48157/847093712.py:52: DeprecationWarning: `product` is deprecated as of NumPy 1.25.0, and will be removed in NumPy 2.0. Please use `prod` instead.\n",
                        "  cpt_o2_sat_ffa = TabularCPD(\n"
                    ]
                },
                {
                    "name": "stdout",
                    "output_type": "stream",
                    "text": [
                        "model took 46.37771797180176 seconds to build\n",
                        "inference took 21.764408111572266 seconds to run\n",
                        "\n",
                        "Running for ID 148, with 206 observations\n",
                        "*** Building FEV1 and O2 point in time model ***\n"
                    ]
                },
                {
                    "name": "stderr",
                    "output_type": "stream",
                    "text": [
                        "/var/folders/zq/v2r6yn111s3gpdf8lzf72xvw0000gn/T/ipykernel_48157/847093712.py:24: DeprecationWarning: `product` is deprecated as of NumPy 1.25.0, and will be removed in NumPy 2.0. Please use `prod` instead.\n",
                        "  prior_hfev1 = TabularCPD(\n",
                        "/var/folders/zq/v2r6yn111s3gpdf8lzf72xvw0000gn/T/ipykernel_48157/847093712.py:31: DeprecationWarning: `product` is deprecated as of NumPy 1.25.0, and will be removed in NumPy 2.0. Please use `prod` instead.\n",
                        "  prior_ho2sat = TabularCPD(\n",
                        "/var/folders/zq/v2r6yn111s3gpdf8lzf72xvw0000gn/T/ipykernel_48157/847093712.py:38: DeprecationWarning: `product` is deprecated as of NumPy 1.25.0, and will be removed in NumPy 2.0. Please use `prod` instead.\n",
                        "  prior_ar = TabularCPD(\n",
                        "/Users/tristan.trebaol/Desktop/PhD/Code/phd/src/models/helpers.py:327: IntegrationWarning: The maximum number of subdivisions (50) has been achieved.\n",
                        "  If increasing the limit yields no improvement it is advised to analyze \n",
                        "  the integrand in order to determine the difficulties.  If the position of a \n",
                        "  local difficulty can be determined (singularity, discontinuity) one will \n",
                        "  probably gain from splitting up the interval and calling the integrator \n",
                        "  on the subranges.  Perhaps a special-purpose integrator should be used.\n",
                        "  val, abserr = integrate.quad(\n",
                        "/var/folders/zq/v2r6yn111s3gpdf8lzf72xvw0000gn/T/ipykernel_48157/847093712.py:45: DeprecationWarning: `product` is deprecated as of NumPy 1.25.0, and will be removed in NumPy 2.0. Please use `prod` instead.\n",
                        "  cpt_fev1 = TabularCPD(\n",
                        "/var/folders/zq/v2r6yn111s3gpdf8lzf72xvw0000gn/T/ipykernel_48157/847093712.py:52: DeprecationWarning: `product` is deprecated as of NumPy 1.25.0, and will be removed in NumPy 2.0. Please use `prod` instead.\n",
                        "  cpt_o2_sat_ffa = TabularCPD(\n"
                    ]
                },
                {
                    "name": "stdout",
                    "output_type": "stream",
                    "text": [
                        "model took 46.436776876449585 seconds to build\n",
                        "inference took 26.637487173080444 seconds to run\n",
                        "\n",
                        "Running for ID 149, with 357 observations\n",
                        "*** Building FEV1 and O2 point in time model ***\n"
                    ]
                },
                {
                    "name": "stderr",
                    "output_type": "stream",
                    "text": [
                        "/var/folders/zq/v2r6yn111s3gpdf8lzf72xvw0000gn/T/ipykernel_48157/847093712.py:24: DeprecationWarning: `product` is deprecated as of NumPy 1.25.0, and will be removed in NumPy 2.0. Please use `prod` instead.\n",
                        "  prior_hfev1 = TabularCPD(\n",
                        "/var/folders/zq/v2r6yn111s3gpdf8lzf72xvw0000gn/T/ipykernel_48157/847093712.py:31: DeprecationWarning: `product` is deprecated as of NumPy 1.25.0, and will be removed in NumPy 2.0. Please use `prod` instead.\n",
                        "  prior_ho2sat = TabularCPD(\n",
                        "/var/folders/zq/v2r6yn111s3gpdf8lzf72xvw0000gn/T/ipykernel_48157/847093712.py:38: DeprecationWarning: `product` is deprecated as of NumPy 1.25.0, and will be removed in NumPy 2.0. Please use `prod` instead.\n",
                        "  prior_ar = TabularCPD(\n",
                        "/Users/tristan.trebaol/Desktop/PhD/Code/phd/src/models/helpers.py:327: IntegrationWarning: The maximum number of subdivisions (50) has been achieved.\n",
                        "  If increasing the limit yields no improvement it is advised to analyze \n",
                        "  the integrand in order to determine the difficulties.  If the position of a \n",
                        "  local difficulty can be determined (singularity, discontinuity) one will \n",
                        "  probably gain from splitting up the interval and calling the integrator \n",
                        "  on the subranges.  Perhaps a special-purpose integrator should be used.\n",
                        "  val, abserr = integrate.quad(\n",
                        "/var/folders/zq/v2r6yn111s3gpdf8lzf72xvw0000gn/T/ipykernel_48157/847093712.py:45: DeprecationWarning: `product` is deprecated as of NumPy 1.25.0, and will be removed in NumPy 2.0. Please use `prod` instead.\n",
                        "  cpt_fev1 = TabularCPD(\n",
                        "/var/folders/zq/v2r6yn111s3gpdf8lzf72xvw0000gn/T/ipykernel_48157/847093712.py:52: DeprecationWarning: `product` is deprecated as of NumPy 1.25.0, and will be removed in NumPy 2.0. Please use `prod` instead.\n",
                        "  cpt_o2_sat_ffa = TabularCPD(\n"
                    ]
                },
                {
                    "name": "stdout",
                    "output_type": "stream",
                    "text": [
                        "model took 46.58709406852722 seconds to build\n",
                        "inference took 16.000874996185303 seconds to run\n",
                        "\n",
                        "Running for ID 150, with 23 observations\n",
                        "*** Building FEV1 and O2 point in time model ***\n"
                    ]
                },
                {
                    "name": "stderr",
                    "output_type": "stream",
                    "text": [
                        "/var/folders/zq/v2r6yn111s3gpdf8lzf72xvw0000gn/T/ipykernel_48157/847093712.py:24: DeprecationWarning: `product` is deprecated as of NumPy 1.25.0, and will be removed in NumPy 2.0. Please use `prod` instead.\n",
                        "  prior_hfev1 = TabularCPD(\n",
                        "/var/folders/zq/v2r6yn111s3gpdf8lzf72xvw0000gn/T/ipykernel_48157/847093712.py:31: DeprecationWarning: `product` is deprecated as of NumPy 1.25.0, and will be removed in NumPy 2.0. Please use `prod` instead.\n",
                        "  prior_ho2sat = TabularCPD(\n",
                        "/var/folders/zq/v2r6yn111s3gpdf8lzf72xvw0000gn/T/ipykernel_48157/847093712.py:38: DeprecationWarning: `product` is deprecated as of NumPy 1.25.0, and will be removed in NumPy 2.0. Please use `prod` instead.\n",
                        "  prior_ar = TabularCPD(\n",
                        "/Users/tristan.trebaol/Desktop/PhD/Code/phd/src/models/helpers.py:327: IntegrationWarning: The maximum number of subdivisions (50) has been achieved.\n",
                        "  If increasing the limit yields no improvement it is advised to analyze \n",
                        "  the integrand in order to determine the difficulties.  If the position of a \n",
                        "  local difficulty can be determined (singularity, discontinuity) one will \n",
                        "  probably gain from splitting up the interval and calling the integrator \n",
                        "  on the subranges.  Perhaps a special-purpose integrator should be used.\n",
                        "  val, abserr = integrate.quad(\n",
                        "/var/folders/zq/v2r6yn111s3gpdf8lzf72xvw0000gn/T/ipykernel_48157/847093712.py:45: DeprecationWarning: `product` is deprecated as of NumPy 1.25.0, and will be removed in NumPy 2.0. Please use `prod` instead.\n",
                        "  cpt_fev1 = TabularCPD(\n",
                        "/var/folders/zq/v2r6yn111s3gpdf8lzf72xvw0000gn/T/ipykernel_48157/847093712.py:52: DeprecationWarning: `product` is deprecated as of NumPy 1.25.0, and will be removed in NumPy 2.0. Please use `prod` instead.\n",
                        "  cpt_o2_sat_ffa = TabularCPD(\n"
                    ]
                },
                {
                    "name": "stdout",
                    "output_type": "stream",
                    "text": [
                        "model took 146.56564688682556 seconds to build\n",
                        "inference took 6.63437294960022 seconds to run\n",
                        "\n",
                        "Running for ID 151, with 202 observations\n",
                        "*** Building FEV1 and O2 point in time model ***\n"
                    ]
                },
                {
                    "name": "stderr",
                    "output_type": "stream",
                    "text": [
                        "/var/folders/zq/v2r6yn111s3gpdf8lzf72xvw0000gn/T/ipykernel_48157/847093712.py:24: DeprecationWarning: `product` is deprecated as of NumPy 1.25.0, and will be removed in NumPy 2.0. Please use `prod` instead.\n",
                        "  prior_hfev1 = TabularCPD(\n",
                        "/var/folders/zq/v2r6yn111s3gpdf8lzf72xvw0000gn/T/ipykernel_48157/847093712.py:31: DeprecationWarning: `product` is deprecated as of NumPy 1.25.0, and will be removed in NumPy 2.0. Please use `prod` instead.\n",
                        "  prior_ho2sat = TabularCPD(\n",
                        "/var/folders/zq/v2r6yn111s3gpdf8lzf72xvw0000gn/T/ipykernel_48157/847093712.py:38: DeprecationWarning: `product` is deprecated as of NumPy 1.25.0, and will be removed in NumPy 2.0. Please use `prod` instead.\n",
                        "  prior_ar = TabularCPD(\n",
                        "/Users/tristan.trebaol/Desktop/PhD/Code/phd/src/models/helpers.py:327: IntegrationWarning: The maximum number of subdivisions (50) has been achieved.\n",
                        "  If increasing the limit yields no improvement it is advised to analyze \n",
                        "  the integrand in order to determine the difficulties.  If the position of a \n",
                        "  local difficulty can be determined (singularity, discontinuity) one will \n",
                        "  probably gain from splitting up the interval and calling the integrator \n",
                        "  on the subranges.  Perhaps a special-purpose integrator should be used.\n",
                        "  val, abserr = integrate.quad(\n",
                        "/var/folders/zq/v2r6yn111s3gpdf8lzf72xvw0000gn/T/ipykernel_48157/847093712.py:45: DeprecationWarning: `product` is deprecated as of NumPy 1.25.0, and will be removed in NumPy 2.0. Please use `prod` instead.\n",
                        "  cpt_fev1 = TabularCPD(\n",
                        "/var/folders/zq/v2r6yn111s3gpdf8lzf72xvw0000gn/T/ipykernel_48157/847093712.py:52: DeprecationWarning: `product` is deprecated as of NumPy 1.25.0, and will be removed in NumPy 2.0. Please use `prod` instead.\n",
                        "  cpt_o2_sat_ffa = TabularCPD(\n"
                    ]
                },
                {
                    "name": "stdout",
                    "output_type": "stream",
                    "text": [
                        "model took 639.7200698852539 seconds to build\n",
                        "inference took 199.51726841926575 seconds to run\n",
                        "\n",
                        "Running for ID 152, with 37 observations\n",
                        "*** Building FEV1 and O2 point in time model ***\n"
                    ]
                },
                {
                    "name": "stderr",
                    "output_type": "stream",
                    "text": [
                        "/var/folders/zq/v2r6yn111s3gpdf8lzf72xvw0000gn/T/ipykernel_48157/847093712.py:24: DeprecationWarning: `product` is deprecated as of NumPy 1.25.0, and will be removed in NumPy 2.0. Please use `prod` instead.\n",
                        "  prior_hfev1 = TabularCPD(\n",
                        "/var/folders/zq/v2r6yn111s3gpdf8lzf72xvw0000gn/T/ipykernel_48157/847093712.py:31: DeprecationWarning: `product` is deprecated as of NumPy 1.25.0, and will be removed in NumPy 2.0. Please use `prod` instead.\n",
                        "  prior_ho2sat = TabularCPD(\n",
                        "/var/folders/zq/v2r6yn111s3gpdf8lzf72xvw0000gn/T/ipykernel_48157/847093712.py:38: DeprecationWarning: `product` is deprecated as of NumPy 1.25.0, and will be removed in NumPy 2.0. Please use `prod` instead.\n",
                        "  prior_ar = TabularCPD(\n",
                        "/Users/tristan.trebaol/Desktop/PhD/Code/phd/src/models/helpers.py:327: IntegrationWarning: The maximum number of subdivisions (50) has been achieved.\n",
                        "  If increasing the limit yields no improvement it is advised to analyze \n",
                        "  the integrand in order to determine the difficulties.  If the position of a \n",
                        "  local difficulty can be determined (singularity, discontinuity) one will \n",
                        "  probably gain from splitting up the interval and calling the integrator \n",
                        "  on the subranges.  Perhaps a special-purpose integrator should be used.\n",
                        "  val, abserr = integrate.quad(\n",
                        "/var/folders/zq/v2r6yn111s3gpdf8lzf72xvw0000gn/T/ipykernel_48157/847093712.py:45: DeprecationWarning: `product` is deprecated as of NumPy 1.25.0, and will be removed in NumPy 2.0. Please use `prod` instead.\n",
                        "  cpt_fev1 = TabularCPD(\n",
                        "/var/folders/zq/v2r6yn111s3gpdf8lzf72xvw0000gn/T/ipykernel_48157/847093712.py:52: DeprecationWarning: `product` is deprecated as of NumPy 1.25.0, and will be removed in NumPy 2.0. Please use `prod` instead.\n",
                        "  cpt_o2_sat_ffa = TabularCPD(\n"
                    ]
                },
                {
                    "name": "stdout",
                    "output_type": "stream",
                    "text": [
                        "model took 814.9663531780243 seconds to build\n",
                        "inference took 9.28036880493164 seconds to run\n",
                        "\n",
                        "Running for ID 153, with 1 observations\n",
                        "*** Building FEV1 and O2 point in time model ***\n"
                    ]
                },
                {
                    "name": "stderr",
                    "output_type": "stream",
                    "text": [
                        "/var/folders/zq/v2r6yn111s3gpdf8lzf72xvw0000gn/T/ipykernel_48157/847093712.py:24: DeprecationWarning: `product` is deprecated as of NumPy 1.25.0, and will be removed in NumPy 2.0. Please use `prod` instead.\n",
                        "  prior_hfev1 = TabularCPD(\n",
                        "/var/folders/zq/v2r6yn111s3gpdf8lzf72xvw0000gn/T/ipykernel_48157/847093712.py:31: DeprecationWarning: `product` is deprecated as of NumPy 1.25.0, and will be removed in NumPy 2.0. Please use `prod` instead.\n",
                        "  prior_ho2sat = TabularCPD(\n",
                        "/var/folders/zq/v2r6yn111s3gpdf8lzf72xvw0000gn/T/ipykernel_48157/847093712.py:38: DeprecationWarning: `product` is deprecated as of NumPy 1.25.0, and will be removed in NumPy 2.0. Please use `prod` instead.\n",
                        "  prior_ar = TabularCPD(\n",
                        "/Users/tristan.trebaol/Desktop/PhD/Code/phd/src/models/helpers.py:327: IntegrationWarning: The maximum number of subdivisions (50) has been achieved.\n",
                        "  If increasing the limit yields no improvement it is advised to analyze \n",
                        "  the integrand in order to determine the difficulties.  If the position of a \n",
                        "  local difficulty can be determined (singularity, discontinuity) one will \n",
                        "  probably gain from splitting up the interval and calling the integrator \n",
                        "  on the subranges.  Perhaps a special-purpose integrator should be used.\n",
                        "  val, abserr = integrate.quad(\n",
                        "/var/folders/zq/v2r6yn111s3gpdf8lzf72xvw0000gn/T/ipykernel_48157/847093712.py:45: DeprecationWarning: `product` is deprecated as of NumPy 1.25.0, and will be removed in NumPy 2.0. Please use `prod` instead.\n",
                        "  cpt_fev1 = TabularCPD(\n",
                        "/var/folders/zq/v2r6yn111s3gpdf8lzf72xvw0000gn/T/ipykernel_48157/847093712.py:52: DeprecationWarning: `product` is deprecated as of NumPy 1.25.0, and will be removed in NumPy 2.0. Please use `prod` instead.\n",
                        "  cpt_o2_sat_ffa = TabularCPD(\n"
                    ]
                },
                {
                    "name": "stdout",
                    "output_type": "stream",
                    "text": [
                        "model took 46.51449394226074 seconds to build\n",
                        "inference took 0.4144561290740967 seconds to run\n",
                        "\n",
                        "Running for ID 154, with 81 observations\n",
                        "*** Building FEV1 and O2 point in time model ***\n"
                    ]
                },
                {
                    "name": "stderr",
                    "output_type": "stream",
                    "text": [
                        "/var/folders/zq/v2r6yn111s3gpdf8lzf72xvw0000gn/T/ipykernel_48157/847093712.py:24: DeprecationWarning: `product` is deprecated as of NumPy 1.25.0, and will be removed in NumPy 2.0. Please use `prod` instead.\n",
                        "  prior_hfev1 = TabularCPD(\n",
                        "/var/folders/zq/v2r6yn111s3gpdf8lzf72xvw0000gn/T/ipykernel_48157/847093712.py:31: DeprecationWarning: `product` is deprecated as of NumPy 1.25.0, and will be removed in NumPy 2.0. Please use `prod` instead.\n",
                        "  prior_ho2sat = TabularCPD(\n",
                        "/var/folders/zq/v2r6yn111s3gpdf8lzf72xvw0000gn/T/ipykernel_48157/847093712.py:38: DeprecationWarning: `product` is deprecated as of NumPy 1.25.0, and will be removed in NumPy 2.0. Please use `prod` instead.\n",
                        "  prior_ar = TabularCPD(\n",
                        "/Users/tristan.trebaol/Desktop/PhD/Code/phd/src/models/helpers.py:327: IntegrationWarning: The maximum number of subdivisions (50) has been achieved.\n",
                        "  If increasing the limit yields no improvement it is advised to analyze \n",
                        "  the integrand in order to determine the difficulties.  If the position of a \n",
                        "  local difficulty can be determined (singularity, discontinuity) one will \n",
                        "  probably gain from splitting up the interval and calling the integrator \n",
                        "  on the subranges.  Perhaps a special-purpose integrator should be used.\n",
                        "  val, abserr = integrate.quad(\n",
                        "/var/folders/zq/v2r6yn111s3gpdf8lzf72xvw0000gn/T/ipykernel_48157/847093712.py:45: DeprecationWarning: `product` is deprecated as of NumPy 1.25.0, and will be removed in NumPy 2.0. Please use `prod` instead.\n",
                        "  cpt_fev1 = TabularCPD(\n",
                        "/var/folders/zq/v2r6yn111s3gpdf8lzf72xvw0000gn/T/ipykernel_48157/847093712.py:52: DeprecationWarning: `product` is deprecated as of NumPy 1.25.0, and will be removed in NumPy 2.0. Please use `prod` instead.\n",
                        "  cpt_o2_sat_ffa = TabularCPD(\n"
                    ]
                },
                {
                    "name": "stdout",
                    "output_type": "stream",
                    "text": [
                        "model took 46.14692568778992 seconds to build\n",
                        "inference took 16.80062699317932 seconds to run\n",
                        "\n",
                        "Running for ID 155, with 14 observations\n",
                        "*** Building FEV1 and O2 point in time model ***\n"
                    ]
                },
                {
                    "name": "stderr",
                    "output_type": "stream",
                    "text": [
                        "/var/folders/zq/v2r6yn111s3gpdf8lzf72xvw0000gn/T/ipykernel_48157/847093712.py:24: DeprecationWarning: `product` is deprecated as of NumPy 1.25.0, and will be removed in NumPy 2.0. Please use `prod` instead.\n",
                        "  prior_hfev1 = TabularCPD(\n",
                        "/var/folders/zq/v2r6yn111s3gpdf8lzf72xvw0000gn/T/ipykernel_48157/847093712.py:31: DeprecationWarning: `product` is deprecated as of NumPy 1.25.0, and will be removed in NumPy 2.0. Please use `prod` instead.\n",
                        "  prior_ho2sat = TabularCPD(\n",
                        "/var/folders/zq/v2r6yn111s3gpdf8lzf72xvw0000gn/T/ipykernel_48157/847093712.py:38: DeprecationWarning: `product` is deprecated as of NumPy 1.25.0, and will be removed in NumPy 2.0. Please use `prod` instead.\n",
                        "  prior_ar = TabularCPD(\n",
                        "/Users/tristan.trebaol/Desktop/PhD/Code/phd/src/models/helpers.py:327: IntegrationWarning: The maximum number of subdivisions (50) has been achieved.\n",
                        "  If increasing the limit yields no improvement it is advised to analyze \n",
                        "  the integrand in order to determine the difficulties.  If the position of a \n",
                        "  local difficulty can be determined (singularity, discontinuity) one will \n",
                        "  probably gain from splitting up the interval and calling the integrator \n",
                        "  on the subranges.  Perhaps a special-purpose integrator should be used.\n",
                        "  val, abserr = integrate.quad(\n",
                        "/var/folders/zq/v2r6yn111s3gpdf8lzf72xvw0000gn/T/ipykernel_48157/847093712.py:45: DeprecationWarning: `product` is deprecated as of NumPy 1.25.0, and will be removed in NumPy 2.0. Please use `prod` instead.\n",
                        "  cpt_fev1 = TabularCPD(\n",
                        "/var/folders/zq/v2r6yn111s3gpdf8lzf72xvw0000gn/T/ipykernel_48157/847093712.py:52: DeprecationWarning: `product` is deprecated as of NumPy 1.25.0, and will be removed in NumPy 2.0. Please use `prod` instead.\n",
                        "  cpt_o2_sat_ffa = TabularCPD(\n"
                    ]
                },
                {
                    "name": "stdout",
                    "output_type": "stream",
                    "text": [
                        "model took 46.35198712348938 seconds to build\n",
                        "inference took 3.480531930923462 seconds to run\n",
                        "\n",
                        "Running for ID 156, with 77 observations\n",
                        "*** Building FEV1 and O2 point in time model ***\n"
                    ]
                },
                {
                    "name": "stderr",
                    "output_type": "stream",
                    "text": [
                        "/var/folders/zq/v2r6yn111s3gpdf8lzf72xvw0000gn/T/ipykernel_48157/847093712.py:24: DeprecationWarning: `product` is deprecated as of NumPy 1.25.0, and will be removed in NumPy 2.0. Please use `prod` instead.\n",
                        "  prior_hfev1 = TabularCPD(\n",
                        "/var/folders/zq/v2r6yn111s3gpdf8lzf72xvw0000gn/T/ipykernel_48157/847093712.py:31: DeprecationWarning: `product` is deprecated as of NumPy 1.25.0, and will be removed in NumPy 2.0. Please use `prod` instead.\n",
                        "  prior_ho2sat = TabularCPD(\n",
                        "/var/folders/zq/v2r6yn111s3gpdf8lzf72xvw0000gn/T/ipykernel_48157/847093712.py:38: DeprecationWarning: `product` is deprecated as of NumPy 1.25.0, and will be removed in NumPy 2.0. Please use `prod` instead.\n",
                        "  prior_ar = TabularCPD(\n",
                        "/Users/tristan.trebaol/Desktop/PhD/Code/phd/src/models/helpers.py:327: IntegrationWarning: The maximum number of subdivisions (50) has been achieved.\n",
                        "  If increasing the limit yields no improvement it is advised to analyze \n",
                        "  the integrand in order to determine the difficulties.  If the position of a \n",
                        "  local difficulty can be determined (singularity, discontinuity) one will \n",
                        "  probably gain from splitting up the interval and calling the integrator \n",
                        "  on the subranges.  Perhaps a special-purpose integrator should be used.\n",
                        "  val, abserr = integrate.quad(\n",
                        "/var/folders/zq/v2r6yn111s3gpdf8lzf72xvw0000gn/T/ipykernel_48157/847093712.py:45: DeprecationWarning: `product` is deprecated as of NumPy 1.25.0, and will be removed in NumPy 2.0. Please use `prod` instead.\n",
                        "  cpt_fev1 = TabularCPD(\n",
                        "/var/folders/zq/v2r6yn111s3gpdf8lzf72xvw0000gn/T/ipykernel_48157/847093712.py:52: DeprecationWarning: `product` is deprecated as of NumPy 1.25.0, and will be removed in NumPy 2.0. Please use `prod` instead.\n",
                        "  cpt_o2_sat_ffa = TabularCPD(\n"
                    ]
                },
                {
                    "name": "stdout",
                    "output_type": "stream",
                    "text": [
                        "model took 46.202436685562134 seconds to build\n",
                        "inference took 18.561629056930542 seconds to run\n",
                        "\n",
                        "Running for ID 158, with 303 observations\n",
                        "*** Building FEV1 and O2 point in time model ***\n"
                    ]
                },
                {
                    "name": "stderr",
                    "output_type": "stream",
                    "text": [
                        "/var/folders/zq/v2r6yn111s3gpdf8lzf72xvw0000gn/T/ipykernel_48157/847093712.py:24: DeprecationWarning: `product` is deprecated as of NumPy 1.25.0, and will be removed in NumPy 2.0. Please use `prod` instead.\n",
                        "  prior_hfev1 = TabularCPD(\n",
                        "/var/folders/zq/v2r6yn111s3gpdf8lzf72xvw0000gn/T/ipykernel_48157/847093712.py:31: DeprecationWarning: `product` is deprecated as of NumPy 1.25.0, and will be removed in NumPy 2.0. Please use `prod` instead.\n",
                        "  prior_ho2sat = TabularCPD(\n",
                        "/var/folders/zq/v2r6yn111s3gpdf8lzf72xvw0000gn/T/ipykernel_48157/847093712.py:38: DeprecationWarning: `product` is deprecated as of NumPy 1.25.0, and will be removed in NumPy 2.0. Please use `prod` instead.\n",
                        "  prior_ar = TabularCPD(\n",
                        "/Users/tristan.trebaol/Desktop/PhD/Code/phd/src/models/helpers.py:327: IntegrationWarning: The maximum number of subdivisions (50) has been achieved.\n",
                        "  If increasing the limit yields no improvement it is advised to analyze \n",
                        "  the integrand in order to determine the difficulties.  If the position of a \n",
                        "  local difficulty can be determined (singularity, discontinuity) one will \n",
                        "  probably gain from splitting up the interval and calling the integrator \n",
                        "  on the subranges.  Perhaps a special-purpose integrator should be used.\n",
                        "  val, abserr = integrate.quad(\n",
                        "/var/folders/zq/v2r6yn111s3gpdf8lzf72xvw0000gn/T/ipykernel_48157/847093712.py:45: DeprecationWarning: `product` is deprecated as of NumPy 1.25.0, and will be removed in NumPy 2.0. Please use `prod` instead.\n",
                        "  cpt_fev1 = TabularCPD(\n",
                        "/var/folders/zq/v2r6yn111s3gpdf8lzf72xvw0000gn/T/ipykernel_48157/847093712.py:52: DeprecationWarning: `product` is deprecated as of NumPy 1.25.0, and will be removed in NumPy 2.0. Please use `prod` instead.\n",
                        "  cpt_o2_sat_ffa = TabularCPD(\n"
                    ]
                },
                {
                    "name": "stdout",
                    "output_type": "stream",
                    "text": [
                        "model took 46.25846004486084 seconds to build\n",
                        "inference took 25.518143892288208 seconds to run\n",
                        "\n",
                        "Running for ID 159, with 172 observations\n",
                        "*** Building FEV1 and O2 point in time model ***\n"
                    ]
                },
                {
                    "name": "stderr",
                    "output_type": "stream",
                    "text": [
                        "/var/folders/zq/v2r6yn111s3gpdf8lzf72xvw0000gn/T/ipykernel_48157/847093712.py:24: DeprecationWarning: `product` is deprecated as of NumPy 1.25.0, and will be removed in NumPy 2.0. Please use `prod` instead.\n",
                        "  prior_hfev1 = TabularCPD(\n",
                        "/var/folders/zq/v2r6yn111s3gpdf8lzf72xvw0000gn/T/ipykernel_48157/847093712.py:31: DeprecationWarning: `product` is deprecated as of NumPy 1.25.0, and will be removed in NumPy 2.0. Please use `prod` instead.\n",
                        "  prior_ho2sat = TabularCPD(\n",
                        "/var/folders/zq/v2r6yn111s3gpdf8lzf72xvw0000gn/T/ipykernel_48157/847093712.py:38: DeprecationWarning: `product` is deprecated as of NumPy 1.25.0, and will be removed in NumPy 2.0. Please use `prod` instead.\n",
                        "  prior_ar = TabularCPD(\n",
                        "/Users/tristan.trebaol/Desktop/PhD/Code/phd/src/models/helpers.py:327: IntegrationWarning: The maximum number of subdivisions (50) has been achieved.\n",
                        "  If increasing the limit yields no improvement it is advised to analyze \n",
                        "  the integrand in order to determine the difficulties.  If the position of a \n",
                        "  local difficulty can be determined (singularity, discontinuity) one will \n",
                        "  probably gain from splitting up the interval and calling the integrator \n",
                        "  on the subranges.  Perhaps a special-purpose integrator should be used.\n",
                        "  val, abserr = integrate.quad(\n",
                        "/var/folders/zq/v2r6yn111s3gpdf8lzf72xvw0000gn/T/ipykernel_48157/847093712.py:45: DeprecationWarning: `product` is deprecated as of NumPy 1.25.0, and will be removed in NumPy 2.0. Please use `prod` instead.\n",
                        "  cpt_fev1 = TabularCPD(\n",
                        "/var/folders/zq/v2r6yn111s3gpdf8lzf72xvw0000gn/T/ipykernel_48157/847093712.py:52: DeprecationWarning: `product` is deprecated as of NumPy 1.25.0, and will be removed in NumPy 2.0. Please use `prod` instead.\n",
                        "  cpt_o2_sat_ffa = TabularCPD(\n"
                    ]
                },
                {
                    "name": "stdout",
                    "output_type": "stream",
                    "text": [
                        "model took 46.31994819641113 seconds to build\n",
                        "inference took 30.070785760879517 seconds to run\n",
                        "\n",
                        "Running for ID 160, with 2 observations\n",
                        "*** Building FEV1 and O2 point in time model ***\n"
                    ]
                },
                {
                    "name": "stderr",
                    "output_type": "stream",
                    "text": [
                        "/var/folders/zq/v2r6yn111s3gpdf8lzf72xvw0000gn/T/ipykernel_48157/847093712.py:24: DeprecationWarning: `product` is deprecated as of NumPy 1.25.0, and will be removed in NumPy 2.0. Please use `prod` instead.\n",
                        "  prior_hfev1 = TabularCPD(\n",
                        "/var/folders/zq/v2r6yn111s3gpdf8lzf72xvw0000gn/T/ipykernel_48157/847093712.py:31: DeprecationWarning: `product` is deprecated as of NumPy 1.25.0, and will be removed in NumPy 2.0. Please use `prod` instead.\n",
                        "  prior_ho2sat = TabularCPD(\n",
                        "/var/folders/zq/v2r6yn111s3gpdf8lzf72xvw0000gn/T/ipykernel_48157/847093712.py:38: DeprecationWarning: `product` is deprecated as of NumPy 1.25.0, and will be removed in NumPy 2.0. Please use `prod` instead.\n",
                        "  prior_ar = TabularCPD(\n",
                        "/Users/tristan.trebaol/Desktop/PhD/Code/phd/src/models/helpers.py:327: IntegrationWarning: The maximum number of subdivisions (50) has been achieved.\n",
                        "  If increasing the limit yields no improvement it is advised to analyze \n",
                        "  the integrand in order to determine the difficulties.  If the position of a \n",
                        "  local difficulty can be determined (singularity, discontinuity) one will \n",
                        "  probably gain from splitting up the interval and calling the integrator \n",
                        "  on the subranges.  Perhaps a special-purpose integrator should be used.\n",
                        "  val, abserr = integrate.quad(\n",
                        "/var/folders/zq/v2r6yn111s3gpdf8lzf72xvw0000gn/T/ipykernel_48157/847093712.py:45: DeprecationWarning: `product` is deprecated as of NumPy 1.25.0, and will be removed in NumPy 2.0. Please use `prod` instead.\n",
                        "  cpt_fev1 = TabularCPD(\n",
                        "/var/folders/zq/v2r6yn111s3gpdf8lzf72xvw0000gn/T/ipykernel_48157/847093712.py:52: DeprecationWarning: `product` is deprecated as of NumPy 1.25.0, and will be removed in NumPy 2.0. Please use `prod` instead.\n",
                        "  cpt_o2_sat_ffa = TabularCPD(\n"
                    ]
                },
                {
                    "name": "stdout",
                    "output_type": "stream",
                    "text": [
                        "model took 46.11906981468201 seconds to build\n",
                        "inference took 0.6137490272521973 seconds to run\n",
                        "\n",
                        "Running for ID 162, with 90 observations\n",
                        "*** Building FEV1 and O2 point in time model ***\n"
                    ]
                },
                {
                    "name": "stderr",
                    "output_type": "stream",
                    "text": [
                        "/var/folders/zq/v2r6yn111s3gpdf8lzf72xvw0000gn/T/ipykernel_48157/847093712.py:24: DeprecationWarning: `product` is deprecated as of NumPy 1.25.0, and will be removed in NumPy 2.0. Please use `prod` instead.\n",
                        "  prior_hfev1 = TabularCPD(\n",
                        "/var/folders/zq/v2r6yn111s3gpdf8lzf72xvw0000gn/T/ipykernel_48157/847093712.py:31: DeprecationWarning: `product` is deprecated as of NumPy 1.25.0, and will be removed in NumPy 2.0. Please use `prod` instead.\n",
                        "  prior_ho2sat = TabularCPD(\n",
                        "/var/folders/zq/v2r6yn111s3gpdf8lzf72xvw0000gn/T/ipykernel_48157/847093712.py:38: DeprecationWarning: `product` is deprecated as of NumPy 1.25.0, and will be removed in NumPy 2.0. Please use `prod` instead.\n",
                        "  prior_ar = TabularCPD(\n",
                        "/Users/tristan.trebaol/Desktop/PhD/Code/phd/src/models/helpers.py:327: IntegrationWarning: The maximum number of subdivisions (50) has been achieved.\n",
                        "  If increasing the limit yields no improvement it is advised to analyze \n",
                        "  the integrand in order to determine the difficulties.  If the position of a \n",
                        "  local difficulty can be determined (singularity, discontinuity) one will \n",
                        "  probably gain from splitting up the interval and calling the integrator \n",
                        "  on the subranges.  Perhaps a special-purpose integrator should be used.\n",
                        "  val, abserr = integrate.quad(\n",
                        "/var/folders/zq/v2r6yn111s3gpdf8lzf72xvw0000gn/T/ipykernel_48157/847093712.py:45: DeprecationWarning: `product` is deprecated as of NumPy 1.25.0, and will be removed in NumPy 2.0. Please use `prod` instead.\n",
                        "  cpt_fev1 = TabularCPD(\n",
                        "/var/folders/zq/v2r6yn111s3gpdf8lzf72xvw0000gn/T/ipykernel_48157/847093712.py:52: DeprecationWarning: `product` is deprecated as of NumPy 1.25.0, and will be removed in NumPy 2.0. Please use `prod` instead.\n",
                        "  cpt_o2_sat_ffa = TabularCPD(\n"
                    ]
                },
                {
                    "name": "stdout",
                    "output_type": "stream",
                    "text": [
                        "model took 46.314817905426025 seconds to build\n",
                        "inference took 14.88215708732605 seconds to run\n",
                        "\n",
                        "Running for ID 163, with 9 observations\n",
                        "*** Building FEV1 and O2 point in time model ***\n"
                    ]
                },
                {
                    "name": "stderr",
                    "output_type": "stream",
                    "text": [
                        "/var/folders/zq/v2r6yn111s3gpdf8lzf72xvw0000gn/T/ipykernel_48157/847093712.py:24: DeprecationWarning: `product` is deprecated as of NumPy 1.25.0, and will be removed in NumPy 2.0. Please use `prod` instead.\n",
                        "  prior_hfev1 = TabularCPD(\n",
                        "/var/folders/zq/v2r6yn111s3gpdf8lzf72xvw0000gn/T/ipykernel_48157/847093712.py:31: DeprecationWarning: `product` is deprecated as of NumPy 1.25.0, and will be removed in NumPy 2.0. Please use `prod` instead.\n",
                        "  prior_ho2sat = TabularCPD(\n",
                        "/var/folders/zq/v2r6yn111s3gpdf8lzf72xvw0000gn/T/ipykernel_48157/847093712.py:38: DeprecationWarning: `product` is deprecated as of NumPy 1.25.0, and will be removed in NumPy 2.0. Please use `prod` instead.\n",
                        "  prior_ar = TabularCPD(\n",
                        "/Users/tristan.trebaol/Desktop/PhD/Code/phd/src/models/helpers.py:327: IntegrationWarning: The maximum number of subdivisions (50) has been achieved.\n",
                        "  If increasing the limit yields no improvement it is advised to analyze \n",
                        "  the integrand in order to determine the difficulties.  If the position of a \n",
                        "  local difficulty can be determined (singularity, discontinuity) one will \n",
                        "  probably gain from splitting up the interval and calling the integrator \n",
                        "  on the subranges.  Perhaps a special-purpose integrator should be used.\n",
                        "  val, abserr = integrate.quad(\n",
                        "/var/folders/zq/v2r6yn111s3gpdf8lzf72xvw0000gn/T/ipykernel_48157/847093712.py:45: DeprecationWarning: `product` is deprecated as of NumPy 1.25.0, and will be removed in NumPy 2.0. Please use `prod` instead.\n",
                        "  cpt_fev1 = TabularCPD(\n",
                        "/var/folders/zq/v2r6yn111s3gpdf8lzf72xvw0000gn/T/ipykernel_48157/847093712.py:52: DeprecationWarning: `product` is deprecated as of NumPy 1.25.0, and will be removed in NumPy 2.0. Please use `prod` instead.\n",
                        "  cpt_o2_sat_ffa = TabularCPD(\n"
                    ]
                },
                {
                    "name": "stdout",
                    "output_type": "stream",
                    "text": [
                        "model took 46.26951336860657 seconds to build\n",
                        "inference took 2.849705934524536 seconds to run\n",
                        "\n",
                        "Running for ID 164, with 103 observations\n",
                        "*** Building FEV1 and O2 point in time model ***\n"
                    ]
                },
                {
                    "name": "stderr",
                    "output_type": "stream",
                    "text": [
                        "/var/folders/zq/v2r6yn111s3gpdf8lzf72xvw0000gn/T/ipykernel_48157/847093712.py:24: DeprecationWarning: `product` is deprecated as of NumPy 1.25.0, and will be removed in NumPy 2.0. Please use `prod` instead.\n",
                        "  prior_hfev1 = TabularCPD(\n",
                        "/var/folders/zq/v2r6yn111s3gpdf8lzf72xvw0000gn/T/ipykernel_48157/847093712.py:31: DeprecationWarning: `product` is deprecated as of NumPy 1.25.0, and will be removed in NumPy 2.0. Please use `prod` instead.\n",
                        "  prior_ho2sat = TabularCPD(\n",
                        "/var/folders/zq/v2r6yn111s3gpdf8lzf72xvw0000gn/T/ipykernel_48157/847093712.py:38: DeprecationWarning: `product` is deprecated as of NumPy 1.25.0, and will be removed in NumPy 2.0. Please use `prod` instead.\n",
                        "  prior_ar = TabularCPD(\n",
                        "/Users/tristan.trebaol/Desktop/PhD/Code/phd/src/models/helpers.py:327: IntegrationWarning: The maximum number of subdivisions (50) has been achieved.\n",
                        "  If increasing the limit yields no improvement it is advised to analyze \n",
                        "  the integrand in order to determine the difficulties.  If the position of a \n",
                        "  local difficulty can be determined (singularity, discontinuity) one will \n",
                        "  probably gain from splitting up the interval and calling the integrator \n",
                        "  on the subranges.  Perhaps a special-purpose integrator should be used.\n",
                        "  val, abserr = integrate.quad(\n",
                        "/var/folders/zq/v2r6yn111s3gpdf8lzf72xvw0000gn/T/ipykernel_48157/847093712.py:45: DeprecationWarning: `product` is deprecated as of NumPy 1.25.0, and will be removed in NumPy 2.0. Please use `prod` instead.\n",
                        "  cpt_fev1 = TabularCPD(\n",
                        "/var/folders/zq/v2r6yn111s3gpdf8lzf72xvw0000gn/T/ipykernel_48157/847093712.py:52: DeprecationWarning: `product` is deprecated as of NumPy 1.25.0, and will be removed in NumPy 2.0. Please use `prod` instead.\n",
                        "  cpt_o2_sat_ffa = TabularCPD(\n"
                    ]
                },
                {
                    "name": "stdout",
                    "output_type": "stream",
                    "text": [
                        "model took 46.36261987686157 seconds to build\n",
                        "inference took 7.41157603263855 seconds to run\n",
                        "\n",
                        "Running for ID 165, with 56 observations\n",
                        "*** Building FEV1 and O2 point in time model ***\n"
                    ]
                },
                {
                    "name": "stderr",
                    "output_type": "stream",
                    "text": [
                        "/var/folders/zq/v2r6yn111s3gpdf8lzf72xvw0000gn/T/ipykernel_48157/847093712.py:24: DeprecationWarning: `product` is deprecated as of NumPy 1.25.0, and will be removed in NumPy 2.0. Please use `prod` instead.\n",
                        "  prior_hfev1 = TabularCPD(\n",
                        "/var/folders/zq/v2r6yn111s3gpdf8lzf72xvw0000gn/T/ipykernel_48157/847093712.py:31: DeprecationWarning: `product` is deprecated as of NumPy 1.25.0, and will be removed in NumPy 2.0. Please use `prod` instead.\n",
                        "  prior_ho2sat = TabularCPD(\n",
                        "/var/folders/zq/v2r6yn111s3gpdf8lzf72xvw0000gn/T/ipykernel_48157/847093712.py:38: DeprecationWarning: `product` is deprecated as of NumPy 1.25.0, and will be removed in NumPy 2.0. Please use `prod` instead.\n",
                        "  prior_ar = TabularCPD(\n",
                        "/Users/tristan.trebaol/Desktop/PhD/Code/phd/src/models/helpers.py:327: IntegrationWarning: The maximum number of subdivisions (50) has been achieved.\n",
                        "  If increasing the limit yields no improvement it is advised to analyze \n",
                        "  the integrand in order to determine the difficulties.  If the position of a \n",
                        "  local difficulty can be determined (singularity, discontinuity) one will \n",
                        "  probably gain from splitting up the interval and calling the integrator \n",
                        "  on the subranges.  Perhaps a special-purpose integrator should be used.\n",
                        "  val, abserr = integrate.quad(\n",
                        "/var/folders/zq/v2r6yn111s3gpdf8lzf72xvw0000gn/T/ipykernel_48157/847093712.py:45: DeprecationWarning: `product` is deprecated as of NumPy 1.25.0, and will be removed in NumPy 2.0. Please use `prod` instead.\n",
                        "  cpt_fev1 = TabularCPD(\n",
                        "/var/folders/zq/v2r6yn111s3gpdf8lzf72xvw0000gn/T/ipykernel_48157/847093712.py:52: DeprecationWarning: `product` is deprecated as of NumPy 1.25.0, and will be removed in NumPy 2.0. Please use `prod` instead.\n",
                        "  cpt_o2_sat_ffa = TabularCPD(\n"
                    ]
                },
                {
                    "name": "stdout",
                    "output_type": "stream",
                    "text": [
                        "model took 46.69366812705994 seconds to build\n",
                        "inference took 9.955704927444458 seconds to run\n",
                        "\n",
                        "Running for ID 166, with 10 observations\n",
                        "*** Building FEV1 and O2 point in time model ***\n"
                    ]
                },
                {
                    "name": "stderr",
                    "output_type": "stream",
                    "text": [
                        "/var/folders/zq/v2r6yn111s3gpdf8lzf72xvw0000gn/T/ipykernel_48157/847093712.py:24: DeprecationWarning: `product` is deprecated as of NumPy 1.25.0, and will be removed in NumPy 2.0. Please use `prod` instead.\n",
                        "  prior_hfev1 = TabularCPD(\n",
                        "/var/folders/zq/v2r6yn111s3gpdf8lzf72xvw0000gn/T/ipykernel_48157/847093712.py:31: DeprecationWarning: `product` is deprecated as of NumPy 1.25.0, and will be removed in NumPy 2.0. Please use `prod` instead.\n",
                        "  prior_ho2sat = TabularCPD(\n",
                        "/var/folders/zq/v2r6yn111s3gpdf8lzf72xvw0000gn/T/ipykernel_48157/847093712.py:38: DeprecationWarning: `product` is deprecated as of NumPy 1.25.0, and will be removed in NumPy 2.0. Please use `prod` instead.\n",
                        "  prior_ar = TabularCPD(\n",
                        "/Users/tristan.trebaol/Desktop/PhD/Code/phd/src/models/helpers.py:327: IntegrationWarning: The maximum number of subdivisions (50) has been achieved.\n",
                        "  If increasing the limit yields no improvement it is advised to analyze \n",
                        "  the integrand in order to determine the difficulties.  If the position of a \n",
                        "  local difficulty can be determined (singularity, discontinuity) one will \n",
                        "  probably gain from splitting up the interval and calling the integrator \n",
                        "  on the subranges.  Perhaps a special-purpose integrator should be used.\n",
                        "  val, abserr = integrate.quad(\n",
                        "/var/folders/zq/v2r6yn111s3gpdf8lzf72xvw0000gn/T/ipykernel_48157/847093712.py:45: DeprecationWarning: `product` is deprecated as of NumPy 1.25.0, and will be removed in NumPy 2.0. Please use `prod` instead.\n",
                        "  cpt_fev1 = TabularCPD(\n",
                        "/var/folders/zq/v2r6yn111s3gpdf8lzf72xvw0000gn/T/ipykernel_48157/847093712.py:52: DeprecationWarning: `product` is deprecated as of NumPy 1.25.0, and will be removed in NumPy 2.0. Please use `prod` instead.\n",
                        "  cpt_o2_sat_ffa = TabularCPD(\n"
                    ]
                },
                {
                    "name": "stdout",
                    "output_type": "stream",
                    "text": [
                        "model took 46.22741913795471 seconds to build\n",
                        "inference took 3.2562549114227295 seconds to run\n",
                        "\n",
                        "Running for ID 167, with 1 observations\n",
                        "*** Building FEV1 and O2 point in time model ***\n"
                    ]
                },
                {
                    "name": "stderr",
                    "output_type": "stream",
                    "text": [
                        "/var/folders/zq/v2r6yn111s3gpdf8lzf72xvw0000gn/T/ipykernel_48157/847093712.py:24: DeprecationWarning: `product` is deprecated as of NumPy 1.25.0, and will be removed in NumPy 2.0. Please use `prod` instead.\n",
                        "  prior_hfev1 = TabularCPD(\n",
                        "/var/folders/zq/v2r6yn111s3gpdf8lzf72xvw0000gn/T/ipykernel_48157/847093712.py:31: DeprecationWarning: `product` is deprecated as of NumPy 1.25.0, and will be removed in NumPy 2.0. Please use `prod` instead.\n",
                        "  prior_ho2sat = TabularCPD(\n",
                        "/var/folders/zq/v2r6yn111s3gpdf8lzf72xvw0000gn/T/ipykernel_48157/847093712.py:38: DeprecationWarning: `product` is deprecated as of NumPy 1.25.0, and will be removed in NumPy 2.0. Please use `prod` instead.\n",
                        "  prior_ar = TabularCPD(\n",
                        "/Users/tristan.trebaol/Desktop/PhD/Code/phd/src/models/helpers.py:327: IntegrationWarning: The maximum number of subdivisions (50) has been achieved.\n",
                        "  If increasing the limit yields no improvement it is advised to analyze \n",
                        "  the integrand in order to determine the difficulties.  If the position of a \n",
                        "  local difficulty can be determined (singularity, discontinuity) one will \n",
                        "  probably gain from splitting up the interval and calling the integrator \n",
                        "  on the subranges.  Perhaps a special-purpose integrator should be used.\n",
                        "  val, abserr = integrate.quad(\n",
                        "/var/folders/zq/v2r6yn111s3gpdf8lzf72xvw0000gn/T/ipykernel_48157/847093712.py:45: DeprecationWarning: `product` is deprecated as of NumPy 1.25.0, and will be removed in NumPy 2.0. Please use `prod` instead.\n",
                        "  cpt_fev1 = TabularCPD(\n",
                        "/var/folders/zq/v2r6yn111s3gpdf8lzf72xvw0000gn/T/ipykernel_48157/847093712.py:52: DeprecationWarning: `product` is deprecated as of NumPy 1.25.0, and will be removed in NumPy 2.0. Please use `prod` instead.\n",
                        "  cpt_o2_sat_ffa = TabularCPD(\n"
                    ]
                },
                {
                    "name": "stdout",
                    "output_type": "stream",
                    "text": [
                        "model took 46.10178208351135 seconds to build\n",
                        "inference took 0.40870118141174316 seconds to run\n",
                        "\n",
                        "Running for ID 168, with 4 observations\n",
                        "*** Building FEV1 and O2 point in time model ***\n"
                    ]
                },
                {
                    "name": "stderr",
                    "output_type": "stream",
                    "text": [
                        "/var/folders/zq/v2r6yn111s3gpdf8lzf72xvw0000gn/T/ipykernel_48157/847093712.py:24: DeprecationWarning: `product` is deprecated as of NumPy 1.25.0, and will be removed in NumPy 2.0. Please use `prod` instead.\n",
                        "  prior_hfev1 = TabularCPD(\n",
                        "/var/folders/zq/v2r6yn111s3gpdf8lzf72xvw0000gn/T/ipykernel_48157/847093712.py:31: DeprecationWarning: `product` is deprecated as of NumPy 1.25.0, and will be removed in NumPy 2.0. Please use `prod` instead.\n",
                        "  prior_ho2sat = TabularCPD(\n",
                        "/var/folders/zq/v2r6yn111s3gpdf8lzf72xvw0000gn/T/ipykernel_48157/847093712.py:38: DeprecationWarning: `product` is deprecated as of NumPy 1.25.0, and will be removed in NumPy 2.0. Please use `prod` instead.\n",
                        "  prior_ar = TabularCPD(\n",
                        "/Users/tristan.trebaol/Desktop/PhD/Code/phd/src/models/helpers.py:327: IntegrationWarning: The maximum number of subdivisions (50) has been achieved.\n",
                        "  If increasing the limit yields no improvement it is advised to analyze \n",
                        "  the integrand in order to determine the difficulties.  If the position of a \n",
                        "  local difficulty can be determined (singularity, discontinuity) one will \n",
                        "  probably gain from splitting up the interval and calling the integrator \n",
                        "  on the subranges.  Perhaps a special-purpose integrator should be used.\n",
                        "  val, abserr = integrate.quad(\n",
                        "/var/folders/zq/v2r6yn111s3gpdf8lzf72xvw0000gn/T/ipykernel_48157/847093712.py:45: DeprecationWarning: `product` is deprecated as of NumPy 1.25.0, and will be removed in NumPy 2.0. Please use `prod` instead.\n",
                        "  cpt_fev1 = TabularCPD(\n",
                        "/var/folders/zq/v2r6yn111s3gpdf8lzf72xvw0000gn/T/ipykernel_48157/847093712.py:52: DeprecationWarning: `product` is deprecated as of NumPy 1.25.0, and will be removed in NumPy 2.0. Please use `prod` instead.\n",
                        "  cpt_o2_sat_ffa = TabularCPD(\n"
                    ]
                },
                {
                    "name": "stdout",
                    "output_type": "stream",
                    "text": [
                        "model took 46.14550185203552 seconds to build\n",
                        "inference took 1.4128828048706055 seconds to run\n",
                        "\n",
                        "Running for ID 169, with 17 observations\n",
                        "*** Building FEV1 and O2 point in time model ***\n"
                    ]
                },
                {
                    "name": "stderr",
                    "output_type": "stream",
                    "text": [
                        "/var/folders/zq/v2r6yn111s3gpdf8lzf72xvw0000gn/T/ipykernel_48157/847093712.py:24: DeprecationWarning: `product` is deprecated as of NumPy 1.25.0, and will be removed in NumPy 2.0. Please use `prod` instead.\n",
                        "  prior_hfev1 = TabularCPD(\n",
                        "/var/folders/zq/v2r6yn111s3gpdf8lzf72xvw0000gn/T/ipykernel_48157/847093712.py:31: DeprecationWarning: `product` is deprecated as of NumPy 1.25.0, and will be removed in NumPy 2.0. Please use `prod` instead.\n",
                        "  prior_ho2sat = TabularCPD(\n",
                        "/var/folders/zq/v2r6yn111s3gpdf8lzf72xvw0000gn/T/ipykernel_48157/847093712.py:38: DeprecationWarning: `product` is deprecated as of NumPy 1.25.0, and will be removed in NumPy 2.0. Please use `prod` instead.\n",
                        "  prior_ar = TabularCPD(\n",
                        "/Users/tristan.trebaol/Desktop/PhD/Code/phd/src/models/helpers.py:327: IntegrationWarning: The maximum number of subdivisions (50) has been achieved.\n",
                        "  If increasing the limit yields no improvement it is advised to analyze \n",
                        "  the integrand in order to determine the difficulties.  If the position of a \n",
                        "  local difficulty can be determined (singularity, discontinuity) one will \n",
                        "  probably gain from splitting up the interval and calling the integrator \n",
                        "  on the subranges.  Perhaps a special-purpose integrator should be used.\n",
                        "  val, abserr = integrate.quad(\n",
                        "/var/folders/zq/v2r6yn111s3gpdf8lzf72xvw0000gn/T/ipykernel_48157/847093712.py:45: DeprecationWarning: `product` is deprecated as of NumPy 1.25.0, and will be removed in NumPy 2.0. Please use `prod` instead.\n",
                        "  cpt_fev1 = TabularCPD(\n",
                        "/var/folders/zq/v2r6yn111s3gpdf8lzf72xvw0000gn/T/ipykernel_48157/847093712.py:52: DeprecationWarning: `product` is deprecated as of NumPy 1.25.0, and will be removed in NumPy 2.0. Please use `prod` instead.\n",
                        "  cpt_o2_sat_ffa = TabularCPD(\n"
                    ]
                },
                {
                    "name": "stdout",
                    "output_type": "stream",
                    "text": [
                        "model took 46.23715281486511 seconds to build\n",
                        "inference took 5.12412428855896 seconds to run\n",
                        "\n",
                        "Running for ID 170, with 11 observations\n",
                        "*** Building FEV1 and O2 point in time model ***\n"
                    ]
                },
                {
                    "name": "stderr",
                    "output_type": "stream",
                    "text": [
                        "/var/folders/zq/v2r6yn111s3gpdf8lzf72xvw0000gn/T/ipykernel_48157/847093712.py:24: DeprecationWarning: `product` is deprecated as of NumPy 1.25.0, and will be removed in NumPy 2.0. Please use `prod` instead.\n",
                        "  prior_hfev1 = TabularCPD(\n",
                        "/var/folders/zq/v2r6yn111s3gpdf8lzf72xvw0000gn/T/ipykernel_48157/847093712.py:31: DeprecationWarning: `product` is deprecated as of NumPy 1.25.0, and will be removed in NumPy 2.0. Please use `prod` instead.\n",
                        "  prior_ho2sat = TabularCPD(\n",
                        "/var/folders/zq/v2r6yn111s3gpdf8lzf72xvw0000gn/T/ipykernel_48157/847093712.py:38: DeprecationWarning: `product` is deprecated as of NumPy 1.25.0, and will be removed in NumPy 2.0. Please use `prod` instead.\n",
                        "  prior_ar = TabularCPD(\n",
                        "/Users/tristan.trebaol/Desktop/PhD/Code/phd/src/models/helpers.py:327: IntegrationWarning: The maximum number of subdivisions (50) has been achieved.\n",
                        "  If increasing the limit yields no improvement it is advised to analyze \n",
                        "  the integrand in order to determine the difficulties.  If the position of a \n",
                        "  local difficulty can be determined (singularity, discontinuity) one will \n",
                        "  probably gain from splitting up the interval and calling the integrator \n",
                        "  on the subranges.  Perhaps a special-purpose integrator should be used.\n",
                        "  val, abserr = integrate.quad(\n",
                        "/var/folders/zq/v2r6yn111s3gpdf8lzf72xvw0000gn/T/ipykernel_48157/847093712.py:45: DeprecationWarning: `product` is deprecated as of NumPy 1.25.0, and will be removed in NumPy 2.0. Please use `prod` instead.\n",
                        "  cpt_fev1 = TabularCPD(\n",
                        "/var/folders/zq/v2r6yn111s3gpdf8lzf72xvw0000gn/T/ipykernel_48157/847093712.py:52: DeprecationWarning: `product` is deprecated as of NumPy 1.25.0, and will be removed in NumPy 2.0. Please use `prod` instead.\n",
                        "  cpt_o2_sat_ffa = TabularCPD(\n"
                    ]
                },
                {
                    "name": "stdout",
                    "output_type": "stream",
                    "text": [
                        "model took 46.278793811798096 seconds to build\n",
                        "inference took 3.3018670082092285 seconds to run\n",
                        "\n",
                        "Running for ID 171, with 67 observations\n",
                        "*** Building FEV1 and O2 point in time model ***\n"
                    ]
                },
                {
                    "name": "stderr",
                    "output_type": "stream",
                    "text": [
                        "/var/folders/zq/v2r6yn111s3gpdf8lzf72xvw0000gn/T/ipykernel_48157/847093712.py:24: DeprecationWarning: `product` is deprecated as of NumPy 1.25.0, and will be removed in NumPy 2.0. Please use `prod` instead.\n",
                        "  prior_hfev1 = TabularCPD(\n",
                        "/var/folders/zq/v2r6yn111s3gpdf8lzf72xvw0000gn/T/ipykernel_48157/847093712.py:31: DeprecationWarning: `product` is deprecated as of NumPy 1.25.0, and will be removed in NumPy 2.0. Please use `prod` instead.\n",
                        "  prior_ho2sat = TabularCPD(\n",
                        "/var/folders/zq/v2r6yn111s3gpdf8lzf72xvw0000gn/T/ipykernel_48157/847093712.py:38: DeprecationWarning: `product` is deprecated as of NumPy 1.25.0, and will be removed in NumPy 2.0. Please use `prod` instead.\n",
                        "  prior_ar = TabularCPD(\n",
                        "/Users/tristan.trebaol/Desktop/PhD/Code/phd/src/models/helpers.py:327: IntegrationWarning: The maximum number of subdivisions (50) has been achieved.\n",
                        "  If increasing the limit yields no improvement it is advised to analyze \n",
                        "  the integrand in order to determine the difficulties.  If the position of a \n",
                        "  local difficulty can be determined (singularity, discontinuity) one will \n",
                        "  probably gain from splitting up the interval and calling the integrator \n",
                        "  on the subranges.  Perhaps a special-purpose integrator should be used.\n",
                        "  val, abserr = integrate.quad(\n",
                        "/var/folders/zq/v2r6yn111s3gpdf8lzf72xvw0000gn/T/ipykernel_48157/847093712.py:45: DeprecationWarning: `product` is deprecated as of NumPy 1.25.0, and will be removed in NumPy 2.0. Please use `prod` instead.\n",
                        "  cpt_fev1 = TabularCPD(\n",
                        "/var/folders/zq/v2r6yn111s3gpdf8lzf72xvw0000gn/T/ipykernel_48157/847093712.py:52: DeprecationWarning: `product` is deprecated as of NumPy 1.25.0, and will be removed in NumPy 2.0. Please use `prod` instead.\n",
                        "  cpt_o2_sat_ffa = TabularCPD(\n"
                    ]
                },
                {
                    "name": "stdout",
                    "output_type": "stream",
                    "text": [
                        "model took 46.185044050216675 seconds to build\n",
                        "inference took 13.795114040374756 seconds to run\n",
                        "\n",
                        "Running for ID 172, with 461 observations\n",
                        "*** Building FEV1 and O2 point in time model ***\n"
                    ]
                },
                {
                    "name": "stderr",
                    "output_type": "stream",
                    "text": [
                        "/var/folders/zq/v2r6yn111s3gpdf8lzf72xvw0000gn/T/ipykernel_48157/847093712.py:24: DeprecationWarning: `product` is deprecated as of NumPy 1.25.0, and will be removed in NumPy 2.0. Please use `prod` instead.\n",
                        "  prior_hfev1 = TabularCPD(\n",
                        "/var/folders/zq/v2r6yn111s3gpdf8lzf72xvw0000gn/T/ipykernel_48157/847093712.py:31: DeprecationWarning: `product` is deprecated as of NumPy 1.25.0, and will be removed in NumPy 2.0. Please use `prod` instead.\n",
                        "  prior_ho2sat = TabularCPD(\n",
                        "/var/folders/zq/v2r6yn111s3gpdf8lzf72xvw0000gn/T/ipykernel_48157/847093712.py:38: DeprecationWarning: `product` is deprecated as of NumPy 1.25.0, and will be removed in NumPy 2.0. Please use `prod` instead.\n",
                        "  prior_ar = TabularCPD(\n",
                        "/Users/tristan.trebaol/Desktop/PhD/Code/phd/src/models/helpers.py:327: IntegrationWarning: The maximum number of subdivisions (50) has been achieved.\n",
                        "  If increasing the limit yields no improvement it is advised to analyze \n",
                        "  the integrand in order to determine the difficulties.  If the position of a \n",
                        "  local difficulty can be determined (singularity, discontinuity) one will \n",
                        "  probably gain from splitting up the interval and calling the integrator \n",
                        "  on the subranges.  Perhaps a special-purpose integrator should be used.\n",
                        "  val, abserr = integrate.quad(\n",
                        "/var/folders/zq/v2r6yn111s3gpdf8lzf72xvw0000gn/T/ipykernel_48157/847093712.py:45: DeprecationWarning: `product` is deprecated as of NumPy 1.25.0, and will be removed in NumPy 2.0. Please use `prod` instead.\n",
                        "  cpt_fev1 = TabularCPD(\n",
                        "/var/folders/zq/v2r6yn111s3gpdf8lzf72xvw0000gn/T/ipykernel_48157/847093712.py:52: DeprecationWarning: `product` is deprecated as of NumPy 1.25.0, and will be removed in NumPy 2.0. Please use `prod` instead.\n",
                        "  cpt_o2_sat_ffa = TabularCPD(\n"
                    ]
                },
                {
                    "name": "stdout",
                    "output_type": "stream",
                    "text": [
                        "model took 46.18143630027771 seconds to build\n",
                        "inference took 33.31082201004028 seconds to run\n",
                        "\n",
                        "Running for ID 173, with 26 observations\n",
                        "*** Building FEV1 and O2 point in time model ***\n"
                    ]
                },
                {
                    "name": "stderr",
                    "output_type": "stream",
                    "text": [
                        "/var/folders/zq/v2r6yn111s3gpdf8lzf72xvw0000gn/T/ipykernel_48157/847093712.py:24: DeprecationWarning: `product` is deprecated as of NumPy 1.25.0, and will be removed in NumPy 2.0. Please use `prod` instead.\n",
                        "  prior_hfev1 = TabularCPD(\n",
                        "/var/folders/zq/v2r6yn111s3gpdf8lzf72xvw0000gn/T/ipykernel_48157/847093712.py:31: DeprecationWarning: `product` is deprecated as of NumPy 1.25.0, and will be removed in NumPy 2.0. Please use `prod` instead.\n",
                        "  prior_ho2sat = TabularCPD(\n",
                        "/var/folders/zq/v2r6yn111s3gpdf8lzf72xvw0000gn/T/ipykernel_48157/847093712.py:38: DeprecationWarning: `product` is deprecated as of NumPy 1.25.0, and will be removed in NumPy 2.0. Please use `prod` instead.\n",
                        "  prior_ar = TabularCPD(\n",
                        "/Users/tristan.trebaol/Desktop/PhD/Code/phd/src/models/helpers.py:327: IntegrationWarning: The maximum number of subdivisions (50) has been achieved.\n",
                        "  If increasing the limit yields no improvement it is advised to analyze \n",
                        "  the integrand in order to determine the difficulties.  If the position of a \n",
                        "  local difficulty can be determined (singularity, discontinuity) one will \n",
                        "  probably gain from splitting up the interval and calling the integrator \n",
                        "  on the subranges.  Perhaps a special-purpose integrator should be used.\n",
                        "  val, abserr = integrate.quad(\n",
                        "/var/folders/zq/v2r6yn111s3gpdf8lzf72xvw0000gn/T/ipykernel_48157/847093712.py:45: DeprecationWarning: `product` is deprecated as of NumPy 1.25.0, and will be removed in NumPy 2.0. Please use `prod` instead.\n",
                        "  cpt_fev1 = TabularCPD(\n",
                        "/var/folders/zq/v2r6yn111s3gpdf8lzf72xvw0000gn/T/ipykernel_48157/847093712.py:52: DeprecationWarning: `product` is deprecated as of NumPy 1.25.0, and will be removed in NumPy 2.0. Please use `prod` instead.\n",
                        "  cpt_o2_sat_ffa = TabularCPD(\n"
                    ]
                },
                {
                    "name": "stdout",
                    "output_type": "stream",
                    "text": [
                        "model took 46.130504846572876 seconds to build\n",
                        "inference took 5.746652126312256 seconds to run\n",
                        "\n",
                        "Running for ID 174, with 15 observations\n",
                        "*** Building FEV1 and O2 point in time model ***\n"
                    ]
                },
                {
                    "name": "stderr",
                    "output_type": "stream",
                    "text": [
                        "/var/folders/zq/v2r6yn111s3gpdf8lzf72xvw0000gn/T/ipykernel_48157/847093712.py:24: DeprecationWarning: `product` is deprecated as of NumPy 1.25.0, and will be removed in NumPy 2.0. Please use `prod` instead.\n",
                        "  prior_hfev1 = TabularCPD(\n",
                        "/var/folders/zq/v2r6yn111s3gpdf8lzf72xvw0000gn/T/ipykernel_48157/847093712.py:31: DeprecationWarning: `product` is deprecated as of NumPy 1.25.0, and will be removed in NumPy 2.0. Please use `prod` instead.\n",
                        "  prior_ho2sat = TabularCPD(\n",
                        "/var/folders/zq/v2r6yn111s3gpdf8lzf72xvw0000gn/T/ipykernel_48157/847093712.py:38: DeprecationWarning: `product` is deprecated as of NumPy 1.25.0, and will be removed in NumPy 2.0. Please use `prod` instead.\n",
                        "  prior_ar = TabularCPD(\n",
                        "/Users/tristan.trebaol/Desktop/PhD/Code/phd/src/models/helpers.py:327: IntegrationWarning: The maximum number of subdivisions (50) has been achieved.\n",
                        "  If increasing the limit yields no improvement it is advised to analyze \n",
                        "  the integrand in order to determine the difficulties.  If the position of a \n",
                        "  local difficulty can be determined (singularity, discontinuity) one will \n",
                        "  probably gain from splitting up the interval and calling the integrator \n",
                        "  on the subranges.  Perhaps a special-purpose integrator should be used.\n",
                        "  val, abserr = integrate.quad(\n",
                        "/var/folders/zq/v2r6yn111s3gpdf8lzf72xvw0000gn/T/ipykernel_48157/847093712.py:45: DeprecationWarning: `product` is deprecated as of NumPy 1.25.0, and will be removed in NumPy 2.0. Please use `prod` instead.\n",
                        "  cpt_fev1 = TabularCPD(\n",
                        "/var/folders/zq/v2r6yn111s3gpdf8lzf72xvw0000gn/T/ipykernel_48157/847093712.py:52: DeprecationWarning: `product` is deprecated as of NumPy 1.25.0, and will be removed in NumPy 2.0. Please use `prod` instead.\n",
                        "  cpt_o2_sat_ffa = TabularCPD(\n"
                    ]
                },
                {
                    "name": "stdout",
                    "output_type": "stream",
                    "text": [
                        "model took 38.70245814323425 seconds to build\n",
                        "inference took 3.6482651233673096 seconds to run\n",
                        "\n",
                        "Running for ID 175, with 7 observations\n",
                        "*** Building FEV1 and O2 point in time model ***\n"
                    ]
                },
                {
                    "name": "stderr",
                    "output_type": "stream",
                    "text": [
                        "/var/folders/zq/v2r6yn111s3gpdf8lzf72xvw0000gn/T/ipykernel_48157/847093712.py:24: DeprecationWarning: `product` is deprecated as of NumPy 1.25.0, and will be removed in NumPy 2.0. Please use `prod` instead.\n",
                        "  prior_hfev1 = TabularCPD(\n",
                        "/var/folders/zq/v2r6yn111s3gpdf8lzf72xvw0000gn/T/ipykernel_48157/847093712.py:31: DeprecationWarning: `product` is deprecated as of NumPy 1.25.0, and will be removed in NumPy 2.0. Please use `prod` instead.\n",
                        "  prior_ho2sat = TabularCPD(\n",
                        "/var/folders/zq/v2r6yn111s3gpdf8lzf72xvw0000gn/T/ipykernel_48157/847093712.py:38: DeprecationWarning: `product` is deprecated as of NumPy 1.25.0, and will be removed in NumPy 2.0. Please use `prod` instead.\n",
                        "  prior_ar = TabularCPD(\n",
                        "/Users/tristan.trebaol/Desktop/PhD/Code/phd/src/models/helpers.py:327: IntegrationWarning: The maximum number of subdivisions (50) has been achieved.\n",
                        "  If increasing the limit yields no improvement it is advised to analyze \n",
                        "  the integrand in order to determine the difficulties.  If the position of a \n",
                        "  local difficulty can be determined (singularity, discontinuity) one will \n",
                        "  probably gain from splitting up the interval and calling the integrator \n",
                        "  on the subranges.  Perhaps a special-purpose integrator should be used.\n",
                        "  val, abserr = integrate.quad(\n",
                        "/var/folders/zq/v2r6yn111s3gpdf8lzf72xvw0000gn/T/ipykernel_48157/847093712.py:45: DeprecationWarning: `product` is deprecated as of NumPy 1.25.0, and will be removed in NumPy 2.0. Please use `prod` instead.\n",
                        "  cpt_fev1 = TabularCPD(\n",
                        "/var/folders/zq/v2r6yn111s3gpdf8lzf72xvw0000gn/T/ipykernel_48157/847093712.py:52: DeprecationWarning: `product` is deprecated as of NumPy 1.25.0, and will be removed in NumPy 2.0. Please use `prod` instead.\n",
                        "  cpt_o2_sat_ffa = TabularCPD(\n"
                    ]
                },
                {
                    "name": "stdout",
                    "output_type": "stream",
                    "text": [
                        "model took 38.45578122138977 seconds to build\n",
                        "inference took 1.7353901863098145 seconds to run\n",
                        "\n",
                        "Running for ID 176, with 308 observations\n",
                        "*** Building FEV1 and O2 point in time model ***\n"
                    ]
                },
                {
                    "name": "stderr",
                    "output_type": "stream",
                    "text": [
                        "/var/folders/zq/v2r6yn111s3gpdf8lzf72xvw0000gn/T/ipykernel_48157/847093712.py:24: DeprecationWarning: `product` is deprecated as of NumPy 1.25.0, and will be removed in NumPy 2.0. Please use `prod` instead.\n",
                        "  prior_hfev1 = TabularCPD(\n",
                        "/var/folders/zq/v2r6yn111s3gpdf8lzf72xvw0000gn/T/ipykernel_48157/847093712.py:31: DeprecationWarning: `product` is deprecated as of NumPy 1.25.0, and will be removed in NumPy 2.0. Please use `prod` instead.\n",
                        "  prior_ho2sat = TabularCPD(\n",
                        "/var/folders/zq/v2r6yn111s3gpdf8lzf72xvw0000gn/T/ipykernel_48157/847093712.py:38: DeprecationWarning: `product` is deprecated as of NumPy 1.25.0, and will be removed in NumPy 2.0. Please use `prod` instead.\n",
                        "  prior_ar = TabularCPD(\n",
                        "/Users/tristan.trebaol/Desktop/PhD/Code/phd/src/models/helpers.py:327: IntegrationWarning: The maximum number of subdivisions (50) has been achieved.\n",
                        "  If increasing the limit yields no improvement it is advised to analyze \n",
                        "  the integrand in order to determine the difficulties.  If the position of a \n",
                        "  local difficulty can be determined (singularity, discontinuity) one will \n",
                        "  probably gain from splitting up the interval and calling the integrator \n",
                        "  on the subranges.  Perhaps a special-purpose integrator should be used.\n",
                        "  val, abserr = integrate.quad(\n",
                        "/var/folders/zq/v2r6yn111s3gpdf8lzf72xvw0000gn/T/ipykernel_48157/847093712.py:45: DeprecationWarning: `product` is deprecated as of NumPy 1.25.0, and will be removed in NumPy 2.0. Please use `prod` instead.\n",
                        "  cpt_fev1 = TabularCPD(\n",
                        "/var/folders/zq/v2r6yn111s3gpdf8lzf72xvw0000gn/T/ipykernel_48157/847093712.py:52: DeprecationWarning: `product` is deprecated as of NumPy 1.25.0, and will be removed in NumPy 2.0. Please use `prod` instead.\n",
                        "  cpt_o2_sat_ffa = TabularCPD(\n"
                    ]
                },
                {
                    "name": "stdout",
                    "output_type": "stream",
                    "text": [
                        "model took 38.598973989486694 seconds to build\n",
                        "inference took 27.255261182785034 seconds to run\n",
                        "\n",
                        "Running for ID 177, with 207 observations\n",
                        "*** Building FEV1 and O2 point in time model ***\n"
                    ]
                },
                {
                    "name": "stderr",
                    "output_type": "stream",
                    "text": [
                        "/var/folders/zq/v2r6yn111s3gpdf8lzf72xvw0000gn/T/ipykernel_48157/847093712.py:24: DeprecationWarning: `product` is deprecated as of NumPy 1.25.0, and will be removed in NumPy 2.0. Please use `prod` instead.\n",
                        "  prior_hfev1 = TabularCPD(\n",
                        "/var/folders/zq/v2r6yn111s3gpdf8lzf72xvw0000gn/T/ipykernel_48157/847093712.py:31: DeprecationWarning: `product` is deprecated as of NumPy 1.25.0, and will be removed in NumPy 2.0. Please use `prod` instead.\n",
                        "  prior_ho2sat = TabularCPD(\n",
                        "/var/folders/zq/v2r6yn111s3gpdf8lzf72xvw0000gn/T/ipykernel_48157/847093712.py:38: DeprecationWarning: `product` is deprecated as of NumPy 1.25.0, and will be removed in NumPy 2.0. Please use `prod` instead.\n",
                        "  prior_ar = TabularCPD(\n",
                        "/Users/tristan.trebaol/Desktop/PhD/Code/phd/src/models/helpers.py:327: IntegrationWarning: The maximum number of subdivisions (50) has been achieved.\n",
                        "  If increasing the limit yields no improvement it is advised to analyze \n",
                        "  the integrand in order to determine the difficulties.  If the position of a \n",
                        "  local difficulty can be determined (singularity, discontinuity) one will \n",
                        "  probably gain from splitting up the interval and calling the integrator \n",
                        "  on the subranges.  Perhaps a special-purpose integrator should be used.\n",
                        "  val, abserr = integrate.quad(\n",
                        "/var/folders/zq/v2r6yn111s3gpdf8lzf72xvw0000gn/T/ipykernel_48157/847093712.py:45: DeprecationWarning: `product` is deprecated as of NumPy 1.25.0, and will be removed in NumPy 2.0. Please use `prod` instead.\n",
                        "  cpt_fev1 = TabularCPD(\n",
                        "/var/folders/zq/v2r6yn111s3gpdf8lzf72xvw0000gn/T/ipykernel_48157/847093712.py:52: DeprecationWarning: `product` is deprecated as of NumPy 1.25.0, and will be removed in NumPy 2.0. Please use `prod` instead.\n",
                        "  cpt_o2_sat_ffa = TabularCPD(\n"
                    ]
                },
                {
                    "name": "stdout",
                    "output_type": "stream",
                    "text": [
                        "model took 38.776511907577515 seconds to build\n",
                        "inference took 17.273743152618408 seconds to run\n",
                        "\n",
                        "Running for ID 178, with 13 observations\n",
                        "*** Building FEV1 and O2 point in time model ***\n"
                    ]
                },
                {
                    "name": "stderr",
                    "output_type": "stream",
                    "text": [
                        "/var/folders/zq/v2r6yn111s3gpdf8lzf72xvw0000gn/T/ipykernel_48157/847093712.py:24: DeprecationWarning: `product` is deprecated as of NumPy 1.25.0, and will be removed in NumPy 2.0. Please use `prod` instead.\n",
                        "  prior_hfev1 = TabularCPD(\n",
                        "/var/folders/zq/v2r6yn111s3gpdf8lzf72xvw0000gn/T/ipykernel_48157/847093712.py:31: DeprecationWarning: `product` is deprecated as of NumPy 1.25.0, and will be removed in NumPy 2.0. Please use `prod` instead.\n",
                        "  prior_ho2sat = TabularCPD(\n",
                        "/var/folders/zq/v2r6yn111s3gpdf8lzf72xvw0000gn/T/ipykernel_48157/847093712.py:38: DeprecationWarning: `product` is deprecated as of NumPy 1.25.0, and will be removed in NumPy 2.0. Please use `prod` instead.\n",
                        "  prior_ar = TabularCPD(\n",
                        "/Users/tristan.trebaol/Desktop/PhD/Code/phd/src/models/helpers.py:327: IntegrationWarning: The maximum number of subdivisions (50) has been achieved.\n",
                        "  If increasing the limit yields no improvement it is advised to analyze \n",
                        "  the integrand in order to determine the difficulties.  If the position of a \n",
                        "  local difficulty can be determined (singularity, discontinuity) one will \n",
                        "  probably gain from splitting up the interval and calling the integrator \n",
                        "  on the subranges.  Perhaps a special-purpose integrator should be used.\n",
                        "  val, abserr = integrate.quad(\n",
                        "/var/folders/zq/v2r6yn111s3gpdf8lzf72xvw0000gn/T/ipykernel_48157/847093712.py:45: DeprecationWarning: `product` is deprecated as of NumPy 1.25.0, and will be removed in NumPy 2.0. Please use `prod` instead.\n",
                        "  cpt_fev1 = TabularCPD(\n",
                        "/var/folders/zq/v2r6yn111s3gpdf8lzf72xvw0000gn/T/ipykernel_48157/847093712.py:52: DeprecationWarning: `product` is deprecated as of NumPy 1.25.0, and will be removed in NumPy 2.0. Please use `prod` instead.\n",
                        "  cpt_o2_sat_ffa = TabularCPD(\n"
                    ]
                },
                {
                    "name": "stdout",
                    "output_type": "stream",
                    "text": [
                        "model took 38.4594349861145 seconds to build\n",
                        "inference took 3.471320867538452 seconds to run\n",
                        "\n",
                        "Running for ID 179, with 16 observations\n",
                        "*** Building FEV1 and O2 point in time model ***\n"
                    ]
                },
                {
                    "name": "stderr",
                    "output_type": "stream",
                    "text": [
                        "/var/folders/zq/v2r6yn111s3gpdf8lzf72xvw0000gn/T/ipykernel_48157/847093712.py:24: DeprecationWarning: `product` is deprecated as of NumPy 1.25.0, and will be removed in NumPy 2.0. Please use `prod` instead.\n",
                        "  prior_hfev1 = TabularCPD(\n",
                        "/var/folders/zq/v2r6yn111s3gpdf8lzf72xvw0000gn/T/ipykernel_48157/847093712.py:31: DeprecationWarning: `product` is deprecated as of NumPy 1.25.0, and will be removed in NumPy 2.0. Please use `prod` instead.\n",
                        "  prior_ho2sat = TabularCPD(\n",
                        "/var/folders/zq/v2r6yn111s3gpdf8lzf72xvw0000gn/T/ipykernel_48157/847093712.py:38: DeprecationWarning: `product` is deprecated as of NumPy 1.25.0, and will be removed in NumPy 2.0. Please use `prod` instead.\n",
                        "  prior_ar = TabularCPD(\n",
                        "/Users/tristan.trebaol/Desktop/PhD/Code/phd/src/models/helpers.py:327: IntegrationWarning: The maximum number of subdivisions (50) has been achieved.\n",
                        "  If increasing the limit yields no improvement it is advised to analyze \n",
                        "  the integrand in order to determine the difficulties.  If the position of a \n",
                        "  local difficulty can be determined (singularity, discontinuity) one will \n",
                        "  probably gain from splitting up the interval and calling the integrator \n",
                        "  on the subranges.  Perhaps a special-purpose integrator should be used.\n",
                        "  val, abserr = integrate.quad(\n",
                        "/var/folders/zq/v2r6yn111s3gpdf8lzf72xvw0000gn/T/ipykernel_48157/847093712.py:45: DeprecationWarning: `product` is deprecated as of NumPy 1.25.0, and will be removed in NumPy 2.0. Please use `prod` instead.\n",
                        "  cpt_fev1 = TabularCPD(\n",
                        "/var/folders/zq/v2r6yn111s3gpdf8lzf72xvw0000gn/T/ipykernel_48157/847093712.py:52: DeprecationWarning: `product` is deprecated as of NumPy 1.25.0, and will be removed in NumPy 2.0. Please use `prod` instead.\n",
                        "  cpt_o2_sat_ffa = TabularCPD(\n"
                    ]
                },
                {
                    "name": "stdout",
                    "output_type": "stream",
                    "text": [
                        "model took 38.55575084686279 seconds to build\n",
                        "inference took 3.679420232772827 seconds to run\n",
                        "\n",
                        "Running for ID 180, with 219 observations\n",
                        "*** Building FEV1 and O2 point in time model ***\n"
                    ]
                },
                {
                    "name": "stderr",
                    "output_type": "stream",
                    "text": [
                        "/var/folders/zq/v2r6yn111s3gpdf8lzf72xvw0000gn/T/ipykernel_48157/847093712.py:24: DeprecationWarning: `product` is deprecated as of NumPy 1.25.0, and will be removed in NumPy 2.0. Please use `prod` instead.\n",
                        "  prior_hfev1 = TabularCPD(\n",
                        "/var/folders/zq/v2r6yn111s3gpdf8lzf72xvw0000gn/T/ipykernel_48157/847093712.py:31: DeprecationWarning: `product` is deprecated as of NumPy 1.25.0, and will be removed in NumPy 2.0. Please use `prod` instead.\n",
                        "  prior_ho2sat = TabularCPD(\n",
                        "/var/folders/zq/v2r6yn111s3gpdf8lzf72xvw0000gn/T/ipykernel_48157/847093712.py:38: DeprecationWarning: `product` is deprecated as of NumPy 1.25.0, and will be removed in NumPy 2.0. Please use `prod` instead.\n",
                        "  prior_ar = TabularCPD(\n",
                        "/Users/tristan.trebaol/Desktop/PhD/Code/phd/src/models/helpers.py:327: IntegrationWarning: The maximum number of subdivisions (50) has been achieved.\n",
                        "  If increasing the limit yields no improvement it is advised to analyze \n",
                        "  the integrand in order to determine the difficulties.  If the position of a \n",
                        "  local difficulty can be determined (singularity, discontinuity) one will \n",
                        "  probably gain from splitting up the interval and calling the integrator \n",
                        "  on the subranges.  Perhaps a special-purpose integrator should be used.\n",
                        "  val, abserr = integrate.quad(\n",
                        "/var/folders/zq/v2r6yn111s3gpdf8lzf72xvw0000gn/T/ipykernel_48157/847093712.py:45: DeprecationWarning: `product` is deprecated as of NumPy 1.25.0, and will be removed in NumPy 2.0. Please use `prod` instead.\n",
                        "  cpt_fev1 = TabularCPD(\n",
                        "/var/folders/zq/v2r6yn111s3gpdf8lzf72xvw0000gn/T/ipykernel_48157/847093712.py:52: DeprecationWarning: `product` is deprecated as of NumPy 1.25.0, and will be removed in NumPy 2.0. Please use `prod` instead.\n",
                        "  cpt_o2_sat_ffa = TabularCPD(\n"
                    ]
                },
                {
                    "name": "stdout",
                    "output_type": "stream",
                    "text": [
                        "model took 39.0810968875885 seconds to build\n",
                        "inference took 14.03252387046814 seconds to run\n",
                        "\n",
                        "Running for ID 181, with 17 observations\n",
                        "*** Building FEV1 and O2 point in time model ***\n"
                    ]
                },
                {
                    "name": "stderr",
                    "output_type": "stream",
                    "text": [
                        "/var/folders/zq/v2r6yn111s3gpdf8lzf72xvw0000gn/T/ipykernel_48157/847093712.py:24: DeprecationWarning: `product` is deprecated as of NumPy 1.25.0, and will be removed in NumPy 2.0. Please use `prod` instead.\n",
                        "  prior_hfev1 = TabularCPD(\n",
                        "/var/folders/zq/v2r6yn111s3gpdf8lzf72xvw0000gn/T/ipykernel_48157/847093712.py:31: DeprecationWarning: `product` is deprecated as of NumPy 1.25.0, and will be removed in NumPy 2.0. Please use `prod` instead.\n",
                        "  prior_ho2sat = TabularCPD(\n",
                        "/var/folders/zq/v2r6yn111s3gpdf8lzf72xvw0000gn/T/ipykernel_48157/847093712.py:38: DeprecationWarning: `product` is deprecated as of NumPy 1.25.0, and will be removed in NumPy 2.0. Please use `prod` instead.\n",
                        "  prior_ar = TabularCPD(\n",
                        "/Users/tristan.trebaol/Desktop/PhD/Code/phd/src/models/helpers.py:327: IntegrationWarning: The maximum number of subdivisions (50) has been achieved.\n",
                        "  If increasing the limit yields no improvement it is advised to analyze \n",
                        "  the integrand in order to determine the difficulties.  If the position of a \n",
                        "  local difficulty can be determined (singularity, discontinuity) one will \n",
                        "  probably gain from splitting up the interval and calling the integrator \n",
                        "  on the subranges.  Perhaps a special-purpose integrator should be used.\n",
                        "  val, abserr = integrate.quad(\n",
                        "/var/folders/zq/v2r6yn111s3gpdf8lzf72xvw0000gn/T/ipykernel_48157/847093712.py:45: DeprecationWarning: `product` is deprecated as of NumPy 1.25.0, and will be removed in NumPy 2.0. Please use `prod` instead.\n",
                        "  cpt_fev1 = TabularCPD(\n",
                        "/var/folders/zq/v2r6yn111s3gpdf8lzf72xvw0000gn/T/ipykernel_48157/847093712.py:52: DeprecationWarning: `product` is deprecated as of NumPy 1.25.0, and will be removed in NumPy 2.0. Please use `prod` instead.\n",
                        "  cpt_o2_sat_ffa = TabularCPD(\n"
                    ]
                },
                {
                    "name": "stdout",
                    "output_type": "stream",
                    "text": [
                        "model took 38.80771827697754 seconds to build\n",
                        "inference took 3.476461887359619 seconds to run\n",
                        "\n",
                        "Running for ID 182, with 452 observations\n",
                        "*** Building FEV1 and O2 point in time model ***\n"
                    ]
                },
                {
                    "name": "stderr",
                    "output_type": "stream",
                    "text": [
                        "/var/folders/zq/v2r6yn111s3gpdf8lzf72xvw0000gn/T/ipykernel_48157/847093712.py:24: DeprecationWarning: `product` is deprecated as of NumPy 1.25.0, and will be removed in NumPy 2.0. Please use `prod` instead.\n",
                        "  prior_hfev1 = TabularCPD(\n",
                        "/var/folders/zq/v2r6yn111s3gpdf8lzf72xvw0000gn/T/ipykernel_48157/847093712.py:31: DeprecationWarning: `product` is deprecated as of NumPy 1.25.0, and will be removed in NumPy 2.0. Please use `prod` instead.\n",
                        "  prior_ho2sat = TabularCPD(\n",
                        "/var/folders/zq/v2r6yn111s3gpdf8lzf72xvw0000gn/T/ipykernel_48157/847093712.py:38: DeprecationWarning: `product` is deprecated as of NumPy 1.25.0, and will be removed in NumPy 2.0. Please use `prod` instead.\n",
                        "  prior_ar = TabularCPD(\n",
                        "/Users/tristan.trebaol/Desktop/PhD/Code/phd/src/models/helpers.py:327: IntegrationWarning: The maximum number of subdivisions (50) has been achieved.\n",
                        "  If increasing the limit yields no improvement it is advised to analyze \n",
                        "  the integrand in order to determine the difficulties.  If the position of a \n",
                        "  local difficulty can be determined (singularity, discontinuity) one will \n",
                        "  probably gain from splitting up the interval and calling the integrator \n",
                        "  on the subranges.  Perhaps a special-purpose integrator should be used.\n",
                        "  val, abserr = integrate.quad(\n",
                        "/var/folders/zq/v2r6yn111s3gpdf8lzf72xvw0000gn/T/ipykernel_48157/847093712.py:45: DeprecationWarning: `product` is deprecated as of NumPy 1.25.0, and will be removed in NumPy 2.0. Please use `prod` instead.\n",
                        "  cpt_fev1 = TabularCPD(\n",
                        "/var/folders/zq/v2r6yn111s3gpdf8lzf72xvw0000gn/T/ipykernel_48157/847093712.py:52: DeprecationWarning: `product` is deprecated as of NumPy 1.25.0, and will be removed in NumPy 2.0. Please use `prod` instead.\n",
                        "  cpt_o2_sat_ffa = TabularCPD(\n"
                    ]
                },
                {
                    "name": "stdout",
                    "output_type": "stream",
                    "text": [
                        "model took 38.2716920375824 seconds to build\n",
                        "inference took 16.410178184509277 seconds to run\n",
                        "\n",
                        "Running for ID 183, with 6 observations\n",
                        "*** Building FEV1 and O2 point in time model ***\n"
                    ]
                },
                {
                    "name": "stderr",
                    "output_type": "stream",
                    "text": [
                        "/var/folders/zq/v2r6yn111s3gpdf8lzf72xvw0000gn/T/ipykernel_48157/847093712.py:24: DeprecationWarning: `product` is deprecated as of NumPy 1.25.0, and will be removed in NumPy 2.0. Please use `prod` instead.\n",
                        "  prior_hfev1 = TabularCPD(\n",
                        "/var/folders/zq/v2r6yn111s3gpdf8lzf72xvw0000gn/T/ipykernel_48157/847093712.py:31: DeprecationWarning: `product` is deprecated as of NumPy 1.25.0, and will be removed in NumPy 2.0. Please use `prod` instead.\n",
                        "  prior_ho2sat = TabularCPD(\n",
                        "/var/folders/zq/v2r6yn111s3gpdf8lzf72xvw0000gn/T/ipykernel_48157/847093712.py:38: DeprecationWarning: `product` is deprecated as of NumPy 1.25.0, and will be removed in NumPy 2.0. Please use `prod` instead.\n",
                        "  prior_ar = TabularCPD(\n",
                        "/Users/tristan.trebaol/Desktop/PhD/Code/phd/src/models/helpers.py:327: IntegrationWarning: The maximum number of subdivisions (50) has been achieved.\n",
                        "  If increasing the limit yields no improvement it is advised to analyze \n",
                        "  the integrand in order to determine the difficulties.  If the position of a \n",
                        "  local difficulty can be determined (singularity, discontinuity) one will \n",
                        "  probably gain from splitting up the interval and calling the integrator \n",
                        "  on the subranges.  Perhaps a special-purpose integrator should be used.\n",
                        "  val, abserr = integrate.quad(\n",
                        "/var/folders/zq/v2r6yn111s3gpdf8lzf72xvw0000gn/T/ipykernel_48157/847093712.py:45: DeprecationWarning: `product` is deprecated as of NumPy 1.25.0, and will be removed in NumPy 2.0. Please use `prod` instead.\n",
                        "  cpt_fev1 = TabularCPD(\n",
                        "/var/folders/zq/v2r6yn111s3gpdf8lzf72xvw0000gn/T/ipykernel_48157/847093712.py:52: DeprecationWarning: `product` is deprecated as of NumPy 1.25.0, and will be removed in NumPy 2.0. Please use `prod` instead.\n",
                        "  cpt_o2_sat_ffa = TabularCPD(\n"
                    ]
                },
                {
                    "name": "stdout",
                    "output_type": "stream",
                    "text": [
                        "model took 38.35253095626831 seconds to build\n",
                        "inference took 1.366034984588623 seconds to run\n",
                        "\n",
                        "Running for ID 184, with 370 observations\n",
                        "*** Building FEV1 and O2 point in time model ***\n"
                    ]
                },
                {
                    "name": "stderr",
                    "output_type": "stream",
                    "text": [
                        "/var/folders/zq/v2r6yn111s3gpdf8lzf72xvw0000gn/T/ipykernel_48157/847093712.py:24: DeprecationWarning: `product` is deprecated as of NumPy 1.25.0, and will be removed in NumPy 2.0. Please use `prod` instead.\n",
                        "  prior_hfev1 = TabularCPD(\n",
                        "/var/folders/zq/v2r6yn111s3gpdf8lzf72xvw0000gn/T/ipykernel_48157/847093712.py:31: DeprecationWarning: `product` is deprecated as of NumPy 1.25.0, and will be removed in NumPy 2.0. Please use `prod` instead.\n",
                        "  prior_ho2sat = TabularCPD(\n",
                        "/var/folders/zq/v2r6yn111s3gpdf8lzf72xvw0000gn/T/ipykernel_48157/847093712.py:38: DeprecationWarning: `product` is deprecated as of NumPy 1.25.0, and will be removed in NumPy 2.0. Please use `prod` instead.\n",
                        "  prior_ar = TabularCPD(\n",
                        "/Users/tristan.trebaol/Desktop/PhD/Code/phd/src/models/helpers.py:327: IntegrationWarning: The maximum number of subdivisions (50) has been achieved.\n",
                        "  If increasing the limit yields no improvement it is advised to analyze \n",
                        "  the integrand in order to determine the difficulties.  If the position of a \n",
                        "  local difficulty can be determined (singularity, discontinuity) one will \n",
                        "  probably gain from splitting up the interval and calling the integrator \n",
                        "  on the subranges.  Perhaps a special-purpose integrator should be used.\n",
                        "  val, abserr = integrate.quad(\n",
                        "/var/folders/zq/v2r6yn111s3gpdf8lzf72xvw0000gn/T/ipykernel_48157/847093712.py:45: DeprecationWarning: `product` is deprecated as of NumPy 1.25.0, and will be removed in NumPy 2.0. Please use `prod` instead.\n",
                        "  cpt_fev1 = TabularCPD(\n",
                        "/var/folders/zq/v2r6yn111s3gpdf8lzf72xvw0000gn/T/ipykernel_48157/847093712.py:52: DeprecationWarning: `product` is deprecated as of NumPy 1.25.0, and will be removed in NumPy 2.0. Please use `prod` instead.\n",
                        "  cpt_o2_sat_ffa = TabularCPD(\n"
                    ]
                },
                {
                    "name": "stdout",
                    "output_type": "stream",
                    "text": [
                        "model took 38.56483721733093 seconds to build\n",
                        "inference took 25.228441953659058 seconds to run\n",
                        "\n",
                        "Running for ID 185, with 117 observations\n",
                        "*** Building FEV1 and O2 point in time model ***\n"
                    ]
                },
                {
                    "name": "stderr",
                    "output_type": "stream",
                    "text": [
                        "/var/folders/zq/v2r6yn111s3gpdf8lzf72xvw0000gn/T/ipykernel_48157/847093712.py:24: DeprecationWarning: `product` is deprecated as of NumPy 1.25.0, and will be removed in NumPy 2.0. Please use `prod` instead.\n",
                        "  prior_hfev1 = TabularCPD(\n",
                        "/var/folders/zq/v2r6yn111s3gpdf8lzf72xvw0000gn/T/ipykernel_48157/847093712.py:31: DeprecationWarning: `product` is deprecated as of NumPy 1.25.0, and will be removed in NumPy 2.0. Please use `prod` instead.\n",
                        "  prior_ho2sat = TabularCPD(\n",
                        "/var/folders/zq/v2r6yn111s3gpdf8lzf72xvw0000gn/T/ipykernel_48157/847093712.py:38: DeprecationWarning: `product` is deprecated as of NumPy 1.25.0, and will be removed in NumPy 2.0. Please use `prod` instead.\n",
                        "  prior_ar = TabularCPD(\n",
                        "/Users/tristan.trebaol/Desktop/PhD/Code/phd/src/models/helpers.py:327: IntegrationWarning: The maximum number of subdivisions (50) has been achieved.\n",
                        "  If increasing the limit yields no improvement it is advised to analyze \n",
                        "  the integrand in order to determine the difficulties.  If the position of a \n",
                        "  local difficulty can be determined (singularity, discontinuity) one will \n",
                        "  probably gain from splitting up the interval and calling the integrator \n",
                        "  on the subranges.  Perhaps a special-purpose integrator should be used.\n",
                        "  val, abserr = integrate.quad(\n",
                        "/var/folders/zq/v2r6yn111s3gpdf8lzf72xvw0000gn/T/ipykernel_48157/847093712.py:45: DeprecationWarning: `product` is deprecated as of NumPy 1.25.0, and will be removed in NumPy 2.0. Please use `prod` instead.\n",
                        "  cpt_fev1 = TabularCPD(\n",
                        "/var/folders/zq/v2r6yn111s3gpdf8lzf72xvw0000gn/T/ipykernel_48157/847093712.py:52: DeprecationWarning: `product` is deprecated as of NumPy 1.25.0, and will be removed in NumPy 2.0. Please use `prod` instead.\n",
                        "  cpt_o2_sat_ffa = TabularCPD(\n"
                    ]
                },
                {
                    "name": "stdout",
                    "output_type": "stream",
                    "text": [
                        "model took 39.62059998512268 seconds to build\n",
                        "inference took 18.1007080078125 seconds to run\n",
                        "\n",
                        "Running for ID 186, with 32 observations\n",
                        "*** Building FEV1 and O2 point in time model ***\n"
                    ]
                },
                {
                    "name": "stderr",
                    "output_type": "stream",
                    "text": [
                        "/var/folders/zq/v2r6yn111s3gpdf8lzf72xvw0000gn/T/ipykernel_48157/847093712.py:24: DeprecationWarning: `product` is deprecated as of NumPy 1.25.0, and will be removed in NumPy 2.0. Please use `prod` instead.\n",
                        "  prior_hfev1 = TabularCPD(\n",
                        "/var/folders/zq/v2r6yn111s3gpdf8lzf72xvw0000gn/T/ipykernel_48157/847093712.py:31: DeprecationWarning: `product` is deprecated as of NumPy 1.25.0, and will be removed in NumPy 2.0. Please use `prod` instead.\n",
                        "  prior_ho2sat = TabularCPD(\n",
                        "/var/folders/zq/v2r6yn111s3gpdf8lzf72xvw0000gn/T/ipykernel_48157/847093712.py:38: DeprecationWarning: `product` is deprecated as of NumPy 1.25.0, and will be removed in NumPy 2.0. Please use `prod` instead.\n",
                        "  prior_ar = TabularCPD(\n",
                        "/Users/tristan.trebaol/Desktop/PhD/Code/phd/src/models/helpers.py:327: IntegrationWarning: The maximum number of subdivisions (50) has been achieved.\n",
                        "  If increasing the limit yields no improvement it is advised to analyze \n",
                        "  the integrand in order to determine the difficulties.  If the position of a \n",
                        "  local difficulty can be determined (singularity, discontinuity) one will \n",
                        "  probably gain from splitting up the interval and calling the integrator \n",
                        "  on the subranges.  Perhaps a special-purpose integrator should be used.\n",
                        "  val, abserr = integrate.quad(\n",
                        "/var/folders/zq/v2r6yn111s3gpdf8lzf72xvw0000gn/T/ipykernel_48157/847093712.py:45: DeprecationWarning: `product` is deprecated as of NumPy 1.25.0, and will be removed in NumPy 2.0. Please use `prod` instead.\n",
                        "  cpt_fev1 = TabularCPD(\n",
                        "/var/folders/zq/v2r6yn111s3gpdf8lzf72xvw0000gn/T/ipykernel_48157/847093712.py:52: DeprecationWarning: `product` is deprecated as of NumPy 1.25.0, and will be removed in NumPy 2.0. Please use `prod` instead.\n",
                        "  cpt_o2_sat_ffa = TabularCPD(\n"
                    ]
                },
                {
                    "name": "stdout",
                    "output_type": "stream",
                    "text": [
                        "model took 39.573107957839966 seconds to build\n",
                        "inference took 5.220810174942017 seconds to run\n",
                        "\n",
                        "Running for ID 187, with 52 observations\n",
                        "*** Building FEV1 and O2 point in time model ***\n"
                    ]
                },
                {
                    "name": "stderr",
                    "output_type": "stream",
                    "text": [
                        "/var/folders/zq/v2r6yn111s3gpdf8lzf72xvw0000gn/T/ipykernel_48157/847093712.py:24: DeprecationWarning: `product` is deprecated as of NumPy 1.25.0, and will be removed in NumPy 2.0. Please use `prod` instead.\n",
                        "  prior_hfev1 = TabularCPD(\n",
                        "/var/folders/zq/v2r6yn111s3gpdf8lzf72xvw0000gn/T/ipykernel_48157/847093712.py:31: DeprecationWarning: `product` is deprecated as of NumPy 1.25.0, and will be removed in NumPy 2.0. Please use `prod` instead.\n",
                        "  prior_ho2sat = TabularCPD(\n",
                        "/var/folders/zq/v2r6yn111s3gpdf8lzf72xvw0000gn/T/ipykernel_48157/847093712.py:38: DeprecationWarning: `product` is deprecated as of NumPy 1.25.0, and will be removed in NumPy 2.0. Please use `prod` instead.\n",
                        "  prior_ar = TabularCPD(\n",
                        "/Users/tristan.trebaol/Desktop/PhD/Code/phd/src/models/helpers.py:327: IntegrationWarning: The maximum number of subdivisions (50) has been achieved.\n",
                        "  If increasing the limit yields no improvement it is advised to analyze \n",
                        "  the integrand in order to determine the difficulties.  If the position of a \n",
                        "  local difficulty can be determined (singularity, discontinuity) one will \n",
                        "  probably gain from splitting up the interval and calling the integrator \n",
                        "  on the subranges.  Perhaps a special-purpose integrator should be used.\n",
                        "  val, abserr = integrate.quad(\n",
                        "/var/folders/zq/v2r6yn111s3gpdf8lzf72xvw0000gn/T/ipykernel_48157/847093712.py:45: DeprecationWarning: `product` is deprecated as of NumPy 1.25.0, and will be removed in NumPy 2.0. Please use `prod` instead.\n",
                        "  cpt_fev1 = TabularCPD(\n",
                        "/var/folders/zq/v2r6yn111s3gpdf8lzf72xvw0000gn/T/ipykernel_48157/847093712.py:52: DeprecationWarning: `product` is deprecated as of NumPy 1.25.0, and will be removed in NumPy 2.0. Please use `prod` instead.\n",
                        "  cpt_o2_sat_ffa = TabularCPD(\n"
                    ]
                },
                {
                    "name": "stdout",
                    "output_type": "stream",
                    "text": [
                        "model took 38.63186001777649 seconds to build\n",
                        "inference took 5.729578971862793 seconds to run\n",
                        "\n",
                        "Running for ID 188, with 23 observations\n",
                        "*** Building FEV1 and O2 point in time model ***\n"
                    ]
                },
                {
                    "name": "stderr",
                    "output_type": "stream",
                    "text": [
                        "/var/folders/zq/v2r6yn111s3gpdf8lzf72xvw0000gn/T/ipykernel_48157/847093712.py:24: DeprecationWarning: `product` is deprecated as of NumPy 1.25.0, and will be removed in NumPy 2.0. Please use `prod` instead.\n",
                        "  prior_hfev1 = TabularCPD(\n",
                        "/var/folders/zq/v2r6yn111s3gpdf8lzf72xvw0000gn/T/ipykernel_48157/847093712.py:31: DeprecationWarning: `product` is deprecated as of NumPy 1.25.0, and will be removed in NumPy 2.0. Please use `prod` instead.\n",
                        "  prior_ho2sat = TabularCPD(\n",
                        "/var/folders/zq/v2r6yn111s3gpdf8lzf72xvw0000gn/T/ipykernel_48157/847093712.py:38: DeprecationWarning: `product` is deprecated as of NumPy 1.25.0, and will be removed in NumPy 2.0. Please use `prod` instead.\n",
                        "  prior_ar = TabularCPD(\n",
                        "/Users/tristan.trebaol/Desktop/PhD/Code/phd/src/models/helpers.py:327: IntegrationWarning: The maximum number of subdivisions (50) has been achieved.\n",
                        "  If increasing the limit yields no improvement it is advised to analyze \n",
                        "  the integrand in order to determine the difficulties.  If the position of a \n",
                        "  local difficulty can be determined (singularity, discontinuity) one will \n",
                        "  probably gain from splitting up the interval and calling the integrator \n",
                        "  on the subranges.  Perhaps a special-purpose integrator should be used.\n",
                        "  val, abserr = integrate.quad(\n",
                        "/var/folders/zq/v2r6yn111s3gpdf8lzf72xvw0000gn/T/ipykernel_48157/847093712.py:45: DeprecationWarning: `product` is deprecated as of NumPy 1.25.0, and will be removed in NumPy 2.0. Please use `prod` instead.\n",
                        "  cpt_fev1 = TabularCPD(\n",
                        "/var/folders/zq/v2r6yn111s3gpdf8lzf72xvw0000gn/T/ipykernel_48157/847093712.py:52: DeprecationWarning: `product` is deprecated as of NumPy 1.25.0, and will be removed in NumPy 2.0. Please use `prod` instead.\n",
                        "  cpt_o2_sat_ffa = TabularCPD(\n"
                    ]
                },
                {
                    "name": "stdout",
                    "output_type": "stream",
                    "text": [
                        "model took 38.586848735809326 seconds to build\n",
                        "inference took 4.492861032485962 seconds to run\n",
                        "\n",
                        "Running for ID 189, with 6 observations\n",
                        "*** Building FEV1 and O2 point in time model ***\n"
                    ]
                },
                {
                    "name": "stderr",
                    "output_type": "stream",
                    "text": [
                        "/var/folders/zq/v2r6yn111s3gpdf8lzf72xvw0000gn/T/ipykernel_48157/847093712.py:24: DeprecationWarning: `product` is deprecated as of NumPy 1.25.0, and will be removed in NumPy 2.0. Please use `prod` instead.\n",
                        "  prior_hfev1 = TabularCPD(\n",
                        "/var/folders/zq/v2r6yn111s3gpdf8lzf72xvw0000gn/T/ipykernel_48157/847093712.py:31: DeprecationWarning: `product` is deprecated as of NumPy 1.25.0, and will be removed in NumPy 2.0. Please use `prod` instead.\n",
                        "  prior_ho2sat = TabularCPD(\n",
                        "/var/folders/zq/v2r6yn111s3gpdf8lzf72xvw0000gn/T/ipykernel_48157/847093712.py:38: DeprecationWarning: `product` is deprecated as of NumPy 1.25.0, and will be removed in NumPy 2.0. Please use `prod` instead.\n",
                        "  prior_ar = TabularCPD(\n",
                        "/Users/tristan.trebaol/Desktop/PhD/Code/phd/src/models/helpers.py:327: IntegrationWarning: The maximum number of subdivisions (50) has been achieved.\n",
                        "  If increasing the limit yields no improvement it is advised to analyze \n",
                        "  the integrand in order to determine the difficulties.  If the position of a \n",
                        "  local difficulty can be determined (singularity, discontinuity) one will \n",
                        "  probably gain from splitting up the interval and calling the integrator \n",
                        "  on the subranges.  Perhaps a special-purpose integrator should be used.\n",
                        "  val, abserr = integrate.quad(\n",
                        "/var/folders/zq/v2r6yn111s3gpdf8lzf72xvw0000gn/T/ipykernel_48157/847093712.py:45: DeprecationWarning: `product` is deprecated as of NumPy 1.25.0, and will be removed in NumPy 2.0. Please use `prod` instead.\n",
                        "  cpt_fev1 = TabularCPD(\n",
                        "/var/folders/zq/v2r6yn111s3gpdf8lzf72xvw0000gn/T/ipykernel_48157/847093712.py:52: DeprecationWarning: `product` is deprecated as of NumPy 1.25.0, and will be removed in NumPy 2.0. Please use `prod` instead.\n",
                        "  cpt_o2_sat_ffa = TabularCPD(\n"
                    ]
                },
                {
                    "name": "stdout",
                    "output_type": "stream",
                    "text": [
                        "model took 38.6915979385376 seconds to build\n",
                        "inference took 1.5720939636230469 seconds to run\n",
                        "\n",
                        "Running for ID 190, with 10 observations\n",
                        "*** Building FEV1 and O2 point in time model ***\n"
                    ]
                },
                {
                    "name": "stderr",
                    "output_type": "stream",
                    "text": [
                        "/var/folders/zq/v2r6yn111s3gpdf8lzf72xvw0000gn/T/ipykernel_48157/847093712.py:24: DeprecationWarning: `product` is deprecated as of NumPy 1.25.0, and will be removed in NumPy 2.0. Please use `prod` instead.\n",
                        "  prior_hfev1 = TabularCPD(\n",
                        "/var/folders/zq/v2r6yn111s3gpdf8lzf72xvw0000gn/T/ipykernel_48157/847093712.py:31: DeprecationWarning: `product` is deprecated as of NumPy 1.25.0, and will be removed in NumPy 2.0. Please use `prod` instead.\n",
                        "  prior_ho2sat = TabularCPD(\n",
                        "/var/folders/zq/v2r6yn111s3gpdf8lzf72xvw0000gn/T/ipykernel_48157/847093712.py:38: DeprecationWarning: `product` is deprecated as of NumPy 1.25.0, and will be removed in NumPy 2.0. Please use `prod` instead.\n",
                        "  prior_ar = TabularCPD(\n",
                        "/Users/tristan.trebaol/Desktop/PhD/Code/phd/src/models/helpers.py:327: IntegrationWarning: The maximum number of subdivisions (50) has been achieved.\n",
                        "  If increasing the limit yields no improvement it is advised to analyze \n",
                        "  the integrand in order to determine the difficulties.  If the position of a \n",
                        "  local difficulty can be determined (singularity, discontinuity) one will \n",
                        "  probably gain from splitting up the interval and calling the integrator \n",
                        "  on the subranges.  Perhaps a special-purpose integrator should be used.\n",
                        "  val, abserr = integrate.quad(\n",
                        "/var/folders/zq/v2r6yn111s3gpdf8lzf72xvw0000gn/T/ipykernel_48157/847093712.py:45: DeprecationWarning: `product` is deprecated as of NumPy 1.25.0, and will be removed in NumPy 2.0. Please use `prod` instead.\n",
                        "  cpt_fev1 = TabularCPD(\n",
                        "/var/folders/zq/v2r6yn111s3gpdf8lzf72xvw0000gn/T/ipykernel_48157/847093712.py:52: DeprecationWarning: `product` is deprecated as of NumPy 1.25.0, and will be removed in NumPy 2.0. Please use `prod` instead.\n",
                        "  cpt_o2_sat_ffa = TabularCPD(\n"
                    ]
                },
                {
                    "name": "stdout",
                    "output_type": "stream",
                    "text": [
                        "model took 38.699734926223755 seconds to build\n",
                        "inference took 2.4334347248077393 seconds to run\n",
                        "\n",
                        "Running for ID 191, with 231 observations\n",
                        "*** Building FEV1 and O2 point in time model ***\n"
                    ]
                },
                {
                    "name": "stderr",
                    "output_type": "stream",
                    "text": [
                        "/var/folders/zq/v2r6yn111s3gpdf8lzf72xvw0000gn/T/ipykernel_48157/847093712.py:24: DeprecationWarning: `product` is deprecated as of NumPy 1.25.0, and will be removed in NumPy 2.0. Please use `prod` instead.\n",
                        "  prior_hfev1 = TabularCPD(\n",
                        "/var/folders/zq/v2r6yn111s3gpdf8lzf72xvw0000gn/T/ipykernel_48157/847093712.py:31: DeprecationWarning: `product` is deprecated as of NumPy 1.25.0, and will be removed in NumPy 2.0. Please use `prod` instead.\n",
                        "  prior_ho2sat = TabularCPD(\n",
                        "/var/folders/zq/v2r6yn111s3gpdf8lzf72xvw0000gn/T/ipykernel_48157/847093712.py:38: DeprecationWarning: `product` is deprecated as of NumPy 1.25.0, and will be removed in NumPy 2.0. Please use `prod` instead.\n",
                        "  prior_ar = TabularCPD(\n",
                        "/Users/tristan.trebaol/Desktop/PhD/Code/phd/src/models/helpers.py:327: IntegrationWarning: The maximum number of subdivisions (50) has been achieved.\n",
                        "  If increasing the limit yields no improvement it is advised to analyze \n",
                        "  the integrand in order to determine the difficulties.  If the position of a \n",
                        "  local difficulty can be determined (singularity, discontinuity) one will \n",
                        "  probably gain from splitting up the interval and calling the integrator \n",
                        "  on the subranges.  Perhaps a special-purpose integrator should be used.\n",
                        "  val, abserr = integrate.quad(\n",
                        "/var/folders/zq/v2r6yn111s3gpdf8lzf72xvw0000gn/T/ipykernel_48157/847093712.py:45: DeprecationWarning: `product` is deprecated as of NumPy 1.25.0, and will be removed in NumPy 2.0. Please use `prod` instead.\n",
                        "  cpt_fev1 = TabularCPD(\n",
                        "/var/folders/zq/v2r6yn111s3gpdf8lzf72xvw0000gn/T/ipykernel_48157/847093712.py:52: DeprecationWarning: `product` is deprecated as of NumPy 1.25.0, and will be removed in NumPy 2.0. Please use `prod` instead.\n",
                        "  cpt_o2_sat_ffa = TabularCPD(\n"
                    ]
                },
                {
                    "name": "stdout",
                    "output_type": "stream",
                    "text": [
                        "model took 38.720752239227295 seconds to build\n",
                        "inference took 23.954642057418823 seconds to run\n",
                        "\n",
                        "Running for ID 192, with 21 observations\n",
                        "*** Building FEV1 and O2 point in time model ***\n"
                    ]
                },
                {
                    "name": "stderr",
                    "output_type": "stream",
                    "text": [
                        "/var/folders/zq/v2r6yn111s3gpdf8lzf72xvw0000gn/T/ipykernel_48157/847093712.py:24: DeprecationWarning: `product` is deprecated as of NumPy 1.25.0, and will be removed in NumPy 2.0. Please use `prod` instead.\n",
                        "  prior_hfev1 = TabularCPD(\n",
                        "/var/folders/zq/v2r6yn111s3gpdf8lzf72xvw0000gn/T/ipykernel_48157/847093712.py:31: DeprecationWarning: `product` is deprecated as of NumPy 1.25.0, and will be removed in NumPy 2.0. Please use `prod` instead.\n",
                        "  prior_ho2sat = TabularCPD(\n",
                        "/var/folders/zq/v2r6yn111s3gpdf8lzf72xvw0000gn/T/ipykernel_48157/847093712.py:38: DeprecationWarning: `product` is deprecated as of NumPy 1.25.0, and will be removed in NumPy 2.0. Please use `prod` instead.\n",
                        "  prior_ar = TabularCPD(\n",
                        "/Users/tristan.trebaol/Desktop/PhD/Code/phd/src/models/helpers.py:327: IntegrationWarning: The maximum number of subdivisions (50) has been achieved.\n",
                        "  If increasing the limit yields no improvement it is advised to analyze \n",
                        "  the integrand in order to determine the difficulties.  If the position of a \n",
                        "  local difficulty can be determined (singularity, discontinuity) one will \n",
                        "  probably gain from splitting up the interval and calling the integrator \n",
                        "  on the subranges.  Perhaps a special-purpose integrator should be used.\n",
                        "  val, abserr = integrate.quad(\n",
                        "/var/folders/zq/v2r6yn111s3gpdf8lzf72xvw0000gn/T/ipykernel_48157/847093712.py:45: DeprecationWarning: `product` is deprecated as of NumPy 1.25.0, and will be removed in NumPy 2.0. Please use `prod` instead.\n",
                        "  cpt_fev1 = TabularCPD(\n",
                        "/var/folders/zq/v2r6yn111s3gpdf8lzf72xvw0000gn/T/ipykernel_48157/847093712.py:52: DeprecationWarning: `product` is deprecated as of NumPy 1.25.0, and will be removed in NumPy 2.0. Please use `prod` instead.\n",
                        "  cpt_o2_sat_ffa = TabularCPD(\n"
                    ]
                },
                {
                    "name": "stdout",
                    "output_type": "stream",
                    "text": [
                        "model took 38.55237603187561 seconds to build\n",
                        "inference took 4.5158936977386475 seconds to run\n",
                        "\n",
                        "Running for ID 193, with 64 observations\n",
                        "*** Building FEV1 and O2 point in time model ***\n"
                    ]
                },
                {
                    "name": "stderr",
                    "output_type": "stream",
                    "text": [
                        "/var/folders/zq/v2r6yn111s3gpdf8lzf72xvw0000gn/T/ipykernel_48157/847093712.py:24: DeprecationWarning: `product` is deprecated as of NumPy 1.25.0, and will be removed in NumPy 2.0. Please use `prod` instead.\n",
                        "  prior_hfev1 = TabularCPD(\n",
                        "/var/folders/zq/v2r6yn111s3gpdf8lzf72xvw0000gn/T/ipykernel_48157/847093712.py:31: DeprecationWarning: `product` is deprecated as of NumPy 1.25.0, and will be removed in NumPy 2.0. Please use `prod` instead.\n",
                        "  prior_ho2sat = TabularCPD(\n",
                        "/var/folders/zq/v2r6yn111s3gpdf8lzf72xvw0000gn/T/ipykernel_48157/847093712.py:38: DeprecationWarning: `product` is deprecated as of NumPy 1.25.0, and will be removed in NumPy 2.0. Please use `prod` instead.\n",
                        "  prior_ar = TabularCPD(\n",
                        "/Users/tristan.trebaol/Desktop/PhD/Code/phd/src/models/helpers.py:327: IntegrationWarning: The maximum number of subdivisions (50) has been achieved.\n",
                        "  If increasing the limit yields no improvement it is advised to analyze \n",
                        "  the integrand in order to determine the difficulties.  If the position of a \n",
                        "  local difficulty can be determined (singularity, discontinuity) one will \n",
                        "  probably gain from splitting up the interval and calling the integrator \n",
                        "  on the subranges.  Perhaps a special-purpose integrator should be used.\n",
                        "  val, abserr = integrate.quad(\n",
                        "/var/folders/zq/v2r6yn111s3gpdf8lzf72xvw0000gn/T/ipykernel_48157/847093712.py:45: DeprecationWarning: `product` is deprecated as of NumPy 1.25.0, and will be removed in NumPy 2.0. Please use `prod` instead.\n",
                        "  cpt_fev1 = TabularCPD(\n",
                        "/var/folders/zq/v2r6yn111s3gpdf8lzf72xvw0000gn/T/ipykernel_48157/847093712.py:52: DeprecationWarning: `product` is deprecated as of NumPy 1.25.0, and will be removed in NumPy 2.0. Please use `prod` instead.\n",
                        "  cpt_o2_sat_ffa = TabularCPD(\n"
                    ]
                },
                {
                    "name": "stdout",
                    "output_type": "stream",
                    "text": [
                        "model took 38.75825619697571 seconds to build\n",
                        "inference took 9.763015747070312 seconds to run\n",
                        "\n",
                        "Running for ID 194, with 64 observations\n",
                        "*** Building FEV1 and O2 point in time model ***\n"
                    ]
                },
                {
                    "name": "stderr",
                    "output_type": "stream",
                    "text": [
                        "/var/folders/zq/v2r6yn111s3gpdf8lzf72xvw0000gn/T/ipykernel_48157/847093712.py:24: DeprecationWarning: `product` is deprecated as of NumPy 1.25.0, and will be removed in NumPy 2.0. Please use `prod` instead.\n",
                        "  prior_hfev1 = TabularCPD(\n",
                        "/var/folders/zq/v2r6yn111s3gpdf8lzf72xvw0000gn/T/ipykernel_48157/847093712.py:31: DeprecationWarning: `product` is deprecated as of NumPy 1.25.0, and will be removed in NumPy 2.0. Please use `prod` instead.\n",
                        "  prior_ho2sat = TabularCPD(\n",
                        "/var/folders/zq/v2r6yn111s3gpdf8lzf72xvw0000gn/T/ipykernel_48157/847093712.py:38: DeprecationWarning: `product` is deprecated as of NumPy 1.25.0, and will be removed in NumPy 2.0. Please use `prod` instead.\n",
                        "  prior_ar = TabularCPD(\n",
                        "/Users/tristan.trebaol/Desktop/PhD/Code/phd/src/models/helpers.py:327: IntegrationWarning: The maximum number of subdivisions (50) has been achieved.\n",
                        "  If increasing the limit yields no improvement it is advised to analyze \n",
                        "  the integrand in order to determine the difficulties.  If the position of a \n",
                        "  local difficulty can be determined (singularity, discontinuity) one will \n",
                        "  probably gain from splitting up the interval and calling the integrator \n",
                        "  on the subranges.  Perhaps a special-purpose integrator should be used.\n",
                        "  val, abserr = integrate.quad(\n",
                        "/var/folders/zq/v2r6yn111s3gpdf8lzf72xvw0000gn/T/ipykernel_48157/847093712.py:45: DeprecationWarning: `product` is deprecated as of NumPy 1.25.0, and will be removed in NumPy 2.0. Please use `prod` instead.\n",
                        "  cpt_fev1 = TabularCPD(\n",
                        "/var/folders/zq/v2r6yn111s3gpdf8lzf72xvw0000gn/T/ipykernel_48157/847093712.py:52: DeprecationWarning: `product` is deprecated as of NumPy 1.25.0, and will be removed in NumPy 2.0. Please use `prod` instead.\n",
                        "  cpt_o2_sat_ffa = TabularCPD(\n"
                    ]
                },
                {
                    "name": "stdout",
                    "output_type": "stream",
                    "text": [
                        "model took 40.468344926834106 seconds to build\n",
                        "inference took 10.645389080047607 seconds to run\n",
                        "\n",
                        "Running for ID 195, with 18 observations\n",
                        "*** Building FEV1 and O2 point in time model ***\n"
                    ]
                },
                {
                    "name": "stderr",
                    "output_type": "stream",
                    "text": [
                        "/var/folders/zq/v2r6yn111s3gpdf8lzf72xvw0000gn/T/ipykernel_48157/847093712.py:24: DeprecationWarning: `product` is deprecated as of NumPy 1.25.0, and will be removed in NumPy 2.0. Please use `prod` instead.\n",
                        "  prior_hfev1 = TabularCPD(\n",
                        "/var/folders/zq/v2r6yn111s3gpdf8lzf72xvw0000gn/T/ipykernel_48157/847093712.py:31: DeprecationWarning: `product` is deprecated as of NumPy 1.25.0, and will be removed in NumPy 2.0. Please use `prod` instead.\n",
                        "  prior_ho2sat = TabularCPD(\n",
                        "/var/folders/zq/v2r6yn111s3gpdf8lzf72xvw0000gn/T/ipykernel_48157/847093712.py:38: DeprecationWarning: `product` is deprecated as of NumPy 1.25.0, and will be removed in NumPy 2.0. Please use `prod` instead.\n",
                        "  prior_ar = TabularCPD(\n",
                        "/Users/tristan.trebaol/Desktop/PhD/Code/phd/src/models/helpers.py:327: IntegrationWarning: The maximum number of subdivisions (50) has been achieved.\n",
                        "  If increasing the limit yields no improvement it is advised to analyze \n",
                        "  the integrand in order to determine the difficulties.  If the position of a \n",
                        "  local difficulty can be determined (singularity, discontinuity) one will \n",
                        "  probably gain from splitting up the interval and calling the integrator \n",
                        "  on the subranges.  Perhaps a special-purpose integrator should be used.\n",
                        "  val, abserr = integrate.quad(\n",
                        "/var/folders/zq/v2r6yn111s3gpdf8lzf72xvw0000gn/T/ipykernel_48157/847093712.py:45: DeprecationWarning: `product` is deprecated as of NumPy 1.25.0, and will be removed in NumPy 2.0. Please use `prod` instead.\n",
                        "  cpt_fev1 = TabularCPD(\n",
                        "/var/folders/zq/v2r6yn111s3gpdf8lzf72xvw0000gn/T/ipykernel_48157/847093712.py:52: DeprecationWarning: `product` is deprecated as of NumPy 1.25.0, and will be removed in NumPy 2.0. Please use `prod` instead.\n",
                        "  cpt_o2_sat_ffa = TabularCPD(\n"
                    ]
                },
                {
                    "name": "stdout",
                    "output_type": "stream",
                    "text": [
                        "model took 38.448461055755615 seconds to build\n",
                        "inference took 3.293919086456299 seconds to run\n",
                        "\n",
                        "Running for ID 196, with 34 observations\n",
                        "*** Building FEV1 and O2 point in time model ***\n"
                    ]
                },
                {
                    "name": "stderr",
                    "output_type": "stream",
                    "text": [
                        "/var/folders/zq/v2r6yn111s3gpdf8lzf72xvw0000gn/T/ipykernel_48157/847093712.py:24: DeprecationWarning: `product` is deprecated as of NumPy 1.25.0, and will be removed in NumPy 2.0. Please use `prod` instead.\n",
                        "  prior_hfev1 = TabularCPD(\n",
                        "/var/folders/zq/v2r6yn111s3gpdf8lzf72xvw0000gn/T/ipykernel_48157/847093712.py:31: DeprecationWarning: `product` is deprecated as of NumPy 1.25.0, and will be removed in NumPy 2.0. Please use `prod` instead.\n",
                        "  prior_ho2sat = TabularCPD(\n",
                        "/var/folders/zq/v2r6yn111s3gpdf8lzf72xvw0000gn/T/ipykernel_48157/847093712.py:38: DeprecationWarning: `product` is deprecated as of NumPy 1.25.0, and will be removed in NumPy 2.0. Please use `prod` instead.\n",
                        "  prior_ar = TabularCPD(\n",
                        "/Users/tristan.trebaol/Desktop/PhD/Code/phd/src/models/helpers.py:327: IntegrationWarning: The maximum number of subdivisions (50) has been achieved.\n",
                        "  If increasing the limit yields no improvement it is advised to analyze \n",
                        "  the integrand in order to determine the difficulties.  If the position of a \n",
                        "  local difficulty can be determined (singularity, discontinuity) one will \n",
                        "  probably gain from splitting up the interval and calling the integrator \n",
                        "  on the subranges.  Perhaps a special-purpose integrator should be used.\n",
                        "  val, abserr = integrate.quad(\n",
                        "/var/folders/zq/v2r6yn111s3gpdf8lzf72xvw0000gn/T/ipykernel_48157/847093712.py:45: DeprecationWarning: `product` is deprecated as of NumPy 1.25.0, and will be removed in NumPy 2.0. Please use `prod` instead.\n",
                        "  cpt_fev1 = TabularCPD(\n",
                        "/var/folders/zq/v2r6yn111s3gpdf8lzf72xvw0000gn/T/ipykernel_48157/847093712.py:52: DeprecationWarning: `product` is deprecated as of NumPy 1.25.0, and will be removed in NumPy 2.0. Please use `prod` instead.\n",
                        "  cpt_o2_sat_ffa = TabularCPD(\n"
                    ]
                },
                {
                    "name": "stdout",
                    "output_type": "stream",
                    "text": [
                        "model took 38.575819969177246 seconds to build\n",
                        "inference took 7.921692848205566 seconds to run\n",
                        "\n",
                        "Running for ID 197, with 21 observations\n",
                        "*** Building FEV1 and O2 point in time model ***\n"
                    ]
                },
                {
                    "name": "stderr",
                    "output_type": "stream",
                    "text": [
                        "/var/folders/zq/v2r6yn111s3gpdf8lzf72xvw0000gn/T/ipykernel_48157/847093712.py:24: DeprecationWarning: `product` is deprecated as of NumPy 1.25.0, and will be removed in NumPy 2.0. Please use `prod` instead.\n",
                        "  prior_hfev1 = TabularCPD(\n",
                        "/var/folders/zq/v2r6yn111s3gpdf8lzf72xvw0000gn/T/ipykernel_48157/847093712.py:31: DeprecationWarning: `product` is deprecated as of NumPy 1.25.0, and will be removed in NumPy 2.0. Please use `prod` instead.\n",
                        "  prior_ho2sat = TabularCPD(\n",
                        "/var/folders/zq/v2r6yn111s3gpdf8lzf72xvw0000gn/T/ipykernel_48157/847093712.py:38: DeprecationWarning: `product` is deprecated as of NumPy 1.25.0, and will be removed in NumPy 2.0. Please use `prod` instead.\n",
                        "  prior_ar = TabularCPD(\n",
                        "/Users/tristan.trebaol/Desktop/PhD/Code/phd/src/models/helpers.py:327: IntegrationWarning: The maximum number of subdivisions (50) has been achieved.\n",
                        "  If increasing the limit yields no improvement it is advised to analyze \n",
                        "  the integrand in order to determine the difficulties.  If the position of a \n",
                        "  local difficulty can be determined (singularity, discontinuity) one will \n",
                        "  probably gain from splitting up the interval and calling the integrator \n",
                        "  on the subranges.  Perhaps a special-purpose integrator should be used.\n",
                        "  val, abserr = integrate.quad(\n",
                        "/var/folders/zq/v2r6yn111s3gpdf8lzf72xvw0000gn/T/ipykernel_48157/847093712.py:45: DeprecationWarning: `product` is deprecated as of NumPy 1.25.0, and will be removed in NumPy 2.0. Please use `prod` instead.\n",
                        "  cpt_fev1 = TabularCPD(\n",
                        "/var/folders/zq/v2r6yn111s3gpdf8lzf72xvw0000gn/T/ipykernel_48157/847093712.py:52: DeprecationWarning: `product` is deprecated as of NumPy 1.25.0, and will be removed in NumPy 2.0. Please use `prod` instead.\n",
                        "  cpt_o2_sat_ffa = TabularCPD(\n"
                    ]
                },
                {
                    "name": "stdout",
                    "output_type": "stream",
                    "text": [
                        "model took 38.80157399177551 seconds to build\n",
                        "inference took 4.818892955780029 seconds to run\n",
                        "\n",
                        "Running for ID 198, with 273 observations\n",
                        "*** Building FEV1 and O2 point in time model ***\n"
                    ]
                },
                {
                    "name": "stderr",
                    "output_type": "stream",
                    "text": [
                        "/var/folders/zq/v2r6yn111s3gpdf8lzf72xvw0000gn/T/ipykernel_48157/847093712.py:24: DeprecationWarning: `product` is deprecated as of NumPy 1.25.0, and will be removed in NumPy 2.0. Please use `prod` instead.\n",
                        "  prior_hfev1 = TabularCPD(\n",
                        "/var/folders/zq/v2r6yn111s3gpdf8lzf72xvw0000gn/T/ipykernel_48157/847093712.py:31: DeprecationWarning: `product` is deprecated as of NumPy 1.25.0, and will be removed in NumPy 2.0. Please use `prod` instead.\n",
                        "  prior_ho2sat = TabularCPD(\n",
                        "/var/folders/zq/v2r6yn111s3gpdf8lzf72xvw0000gn/T/ipykernel_48157/847093712.py:38: DeprecationWarning: `product` is deprecated as of NumPy 1.25.0, and will be removed in NumPy 2.0. Please use `prod` instead.\n",
                        "  prior_ar = TabularCPD(\n",
                        "/Users/tristan.trebaol/Desktop/PhD/Code/phd/src/models/helpers.py:327: IntegrationWarning: The maximum number of subdivisions (50) has been achieved.\n",
                        "  If increasing the limit yields no improvement it is advised to analyze \n",
                        "  the integrand in order to determine the difficulties.  If the position of a \n",
                        "  local difficulty can be determined (singularity, discontinuity) one will \n",
                        "  probably gain from splitting up the interval and calling the integrator \n",
                        "  on the subranges.  Perhaps a special-purpose integrator should be used.\n",
                        "  val, abserr = integrate.quad(\n",
                        "/var/folders/zq/v2r6yn111s3gpdf8lzf72xvw0000gn/T/ipykernel_48157/847093712.py:45: DeprecationWarning: `product` is deprecated as of NumPy 1.25.0, and will be removed in NumPy 2.0. Please use `prod` instead.\n",
                        "  cpt_fev1 = TabularCPD(\n",
                        "/var/folders/zq/v2r6yn111s3gpdf8lzf72xvw0000gn/T/ipykernel_48157/847093712.py:52: DeprecationWarning: `product` is deprecated as of NumPy 1.25.0, and will be removed in NumPy 2.0. Please use `prod` instead.\n",
                        "  cpt_o2_sat_ffa = TabularCPD(\n"
                    ]
                },
                {
                    "name": "stdout",
                    "output_type": "stream",
                    "text": [
                        "model took 38.667102098464966 seconds to build\n",
                        "inference took 18.769458293914795 seconds to run\n",
                        "\n",
                        "Running for ID 199, with 34 observations\n",
                        "*** Building FEV1 and O2 point in time model ***\n"
                    ]
                },
                {
                    "name": "stderr",
                    "output_type": "stream",
                    "text": [
                        "/var/folders/zq/v2r6yn111s3gpdf8lzf72xvw0000gn/T/ipykernel_48157/847093712.py:24: DeprecationWarning: `product` is deprecated as of NumPy 1.25.0, and will be removed in NumPy 2.0. Please use `prod` instead.\n",
                        "  prior_hfev1 = TabularCPD(\n",
                        "/var/folders/zq/v2r6yn111s3gpdf8lzf72xvw0000gn/T/ipykernel_48157/847093712.py:31: DeprecationWarning: `product` is deprecated as of NumPy 1.25.0, and will be removed in NumPy 2.0. Please use `prod` instead.\n",
                        "  prior_ho2sat = TabularCPD(\n",
                        "/var/folders/zq/v2r6yn111s3gpdf8lzf72xvw0000gn/T/ipykernel_48157/847093712.py:38: DeprecationWarning: `product` is deprecated as of NumPy 1.25.0, and will be removed in NumPy 2.0. Please use `prod` instead.\n",
                        "  prior_ar = TabularCPD(\n",
                        "/Users/tristan.trebaol/Desktop/PhD/Code/phd/src/models/helpers.py:327: IntegrationWarning: The maximum number of subdivisions (50) has been achieved.\n",
                        "  If increasing the limit yields no improvement it is advised to analyze \n",
                        "  the integrand in order to determine the difficulties.  If the position of a \n",
                        "  local difficulty can be determined (singularity, discontinuity) one will \n",
                        "  probably gain from splitting up the interval and calling the integrator \n",
                        "  on the subranges.  Perhaps a special-purpose integrator should be used.\n",
                        "  val, abserr = integrate.quad(\n",
                        "/var/folders/zq/v2r6yn111s3gpdf8lzf72xvw0000gn/T/ipykernel_48157/847093712.py:45: DeprecationWarning: `product` is deprecated as of NumPy 1.25.0, and will be removed in NumPy 2.0. Please use `prod` instead.\n",
                        "  cpt_fev1 = TabularCPD(\n",
                        "/var/folders/zq/v2r6yn111s3gpdf8lzf72xvw0000gn/T/ipykernel_48157/847093712.py:52: DeprecationWarning: `product` is deprecated as of NumPy 1.25.0, and will be removed in NumPy 2.0. Please use `prod` instead.\n",
                        "  cpt_o2_sat_ffa = TabularCPD(\n"
                    ]
                },
                {
                    "name": "stdout",
                    "output_type": "stream",
                    "text": [
                        "model took 38.860992193222046 seconds to build\n",
                        "inference took 6.650768995285034 seconds to run\n",
                        "\n",
                        "Running for ID 201, with 290 observations\n",
                        "*** Building FEV1 and O2 point in time model ***\n"
                    ]
                },
                {
                    "name": "stderr",
                    "output_type": "stream",
                    "text": [
                        "/var/folders/zq/v2r6yn111s3gpdf8lzf72xvw0000gn/T/ipykernel_48157/847093712.py:24: DeprecationWarning: `product` is deprecated as of NumPy 1.25.0, and will be removed in NumPy 2.0. Please use `prod` instead.\n",
                        "  prior_hfev1 = TabularCPD(\n",
                        "/var/folders/zq/v2r6yn111s3gpdf8lzf72xvw0000gn/T/ipykernel_48157/847093712.py:31: DeprecationWarning: `product` is deprecated as of NumPy 1.25.0, and will be removed in NumPy 2.0. Please use `prod` instead.\n",
                        "  prior_ho2sat = TabularCPD(\n",
                        "/var/folders/zq/v2r6yn111s3gpdf8lzf72xvw0000gn/T/ipykernel_48157/847093712.py:38: DeprecationWarning: `product` is deprecated as of NumPy 1.25.0, and will be removed in NumPy 2.0. Please use `prod` instead.\n",
                        "  prior_ar = TabularCPD(\n",
                        "/Users/tristan.trebaol/Desktop/PhD/Code/phd/src/models/helpers.py:327: IntegrationWarning: The maximum number of subdivisions (50) has been achieved.\n",
                        "  If increasing the limit yields no improvement it is advised to analyze \n",
                        "  the integrand in order to determine the difficulties.  If the position of a \n",
                        "  local difficulty can be determined (singularity, discontinuity) one will \n",
                        "  probably gain from splitting up the interval and calling the integrator \n",
                        "  on the subranges.  Perhaps a special-purpose integrator should be used.\n",
                        "  val, abserr = integrate.quad(\n",
                        "/var/folders/zq/v2r6yn111s3gpdf8lzf72xvw0000gn/T/ipykernel_48157/847093712.py:45: DeprecationWarning: `product` is deprecated as of NumPy 1.25.0, and will be removed in NumPy 2.0. Please use `prod` instead.\n",
                        "  cpt_fev1 = TabularCPD(\n",
                        "/var/folders/zq/v2r6yn111s3gpdf8lzf72xvw0000gn/T/ipykernel_48157/847093712.py:52: DeprecationWarning: `product` is deprecated as of NumPy 1.25.0, and will be removed in NumPy 2.0. Please use `prod` instead.\n",
                        "  cpt_o2_sat_ffa = TabularCPD(\n"
                    ]
                },
                {
                    "name": "stdout",
                    "output_type": "stream",
                    "text": [
                        "model took 38.12501502037048 seconds to build\n",
                        "inference took 33.584248065948486 seconds to run\n",
                        "\n",
                        "Running for ID 202, with 39 observations\n",
                        "*** Building FEV1 and O2 point in time model ***\n"
                    ]
                },
                {
                    "name": "stderr",
                    "output_type": "stream",
                    "text": [
                        "/var/folders/zq/v2r6yn111s3gpdf8lzf72xvw0000gn/T/ipykernel_48157/847093712.py:24: DeprecationWarning: `product` is deprecated as of NumPy 1.25.0, and will be removed in NumPy 2.0. Please use `prod` instead.\n",
                        "  prior_hfev1 = TabularCPD(\n",
                        "/var/folders/zq/v2r6yn111s3gpdf8lzf72xvw0000gn/T/ipykernel_48157/847093712.py:31: DeprecationWarning: `product` is deprecated as of NumPy 1.25.0, and will be removed in NumPy 2.0. Please use `prod` instead.\n",
                        "  prior_ho2sat = TabularCPD(\n",
                        "/var/folders/zq/v2r6yn111s3gpdf8lzf72xvw0000gn/T/ipykernel_48157/847093712.py:38: DeprecationWarning: `product` is deprecated as of NumPy 1.25.0, and will be removed in NumPy 2.0. Please use `prod` instead.\n",
                        "  prior_ar = TabularCPD(\n",
                        "/Users/tristan.trebaol/Desktop/PhD/Code/phd/src/models/helpers.py:327: IntegrationWarning: The maximum number of subdivisions (50) has been achieved.\n",
                        "  If increasing the limit yields no improvement it is advised to analyze \n",
                        "  the integrand in order to determine the difficulties.  If the position of a \n",
                        "  local difficulty can be determined (singularity, discontinuity) one will \n",
                        "  probably gain from splitting up the interval and calling the integrator \n",
                        "  on the subranges.  Perhaps a special-purpose integrator should be used.\n",
                        "  val, abserr = integrate.quad(\n",
                        "/var/folders/zq/v2r6yn111s3gpdf8lzf72xvw0000gn/T/ipykernel_48157/847093712.py:45: DeprecationWarning: `product` is deprecated as of NumPy 1.25.0, and will be removed in NumPy 2.0. Please use `prod` instead.\n",
                        "  cpt_fev1 = TabularCPD(\n",
                        "/var/folders/zq/v2r6yn111s3gpdf8lzf72xvw0000gn/T/ipykernel_48157/847093712.py:52: DeprecationWarning: `product` is deprecated as of NumPy 1.25.0, and will be removed in NumPy 2.0. Please use `prod` instead.\n",
                        "  cpt_o2_sat_ffa = TabularCPD(\n"
                    ]
                },
                {
                    "name": "stdout",
                    "output_type": "stream",
                    "text": [
                        "model took 38.050750970840454 seconds to build\n",
                        "inference took 6.651363134384155 seconds to run\n",
                        "\n",
                        "Running for ID 203, with 240 observations\n",
                        "*** Building FEV1 and O2 point in time model ***\n"
                    ]
                },
                {
                    "name": "stderr",
                    "output_type": "stream",
                    "text": [
                        "/var/folders/zq/v2r6yn111s3gpdf8lzf72xvw0000gn/T/ipykernel_48157/847093712.py:24: DeprecationWarning: `product` is deprecated as of NumPy 1.25.0, and will be removed in NumPy 2.0. Please use `prod` instead.\n",
                        "  prior_hfev1 = TabularCPD(\n",
                        "/var/folders/zq/v2r6yn111s3gpdf8lzf72xvw0000gn/T/ipykernel_48157/847093712.py:31: DeprecationWarning: `product` is deprecated as of NumPy 1.25.0, and will be removed in NumPy 2.0. Please use `prod` instead.\n",
                        "  prior_ho2sat = TabularCPD(\n",
                        "/var/folders/zq/v2r6yn111s3gpdf8lzf72xvw0000gn/T/ipykernel_48157/847093712.py:38: DeprecationWarning: `product` is deprecated as of NumPy 1.25.0, and will be removed in NumPy 2.0. Please use `prod` instead.\n",
                        "  prior_ar = TabularCPD(\n",
                        "/Users/tristan.trebaol/Desktop/PhD/Code/phd/src/models/helpers.py:327: IntegrationWarning: The maximum number of subdivisions (50) has been achieved.\n",
                        "  If increasing the limit yields no improvement it is advised to analyze \n",
                        "  the integrand in order to determine the difficulties.  If the position of a \n",
                        "  local difficulty can be determined (singularity, discontinuity) one will \n",
                        "  probably gain from splitting up the interval and calling the integrator \n",
                        "  on the subranges.  Perhaps a special-purpose integrator should be used.\n",
                        "  val, abserr = integrate.quad(\n",
                        "/var/folders/zq/v2r6yn111s3gpdf8lzf72xvw0000gn/T/ipykernel_48157/847093712.py:45: DeprecationWarning: `product` is deprecated as of NumPy 1.25.0, and will be removed in NumPy 2.0. Please use `prod` instead.\n",
                        "  cpt_fev1 = TabularCPD(\n",
                        "/var/folders/zq/v2r6yn111s3gpdf8lzf72xvw0000gn/T/ipykernel_48157/847093712.py:52: DeprecationWarning: `product` is deprecated as of NumPy 1.25.0, and will be removed in NumPy 2.0. Please use `prod` instead.\n",
                        "  cpt_o2_sat_ffa = TabularCPD(\n"
                    ]
                },
                {
                    "name": "stdout",
                    "output_type": "stream",
                    "text": [
                        "model took 37.998584032058716 seconds to build\n",
                        "inference took 5.795837879180908 seconds to run\n",
                        "\n",
                        "Running for ID 204, with 121 observations\n",
                        "*** Building FEV1 and O2 point in time model ***\n"
                    ]
                },
                {
                    "name": "stderr",
                    "output_type": "stream",
                    "text": [
                        "/var/folders/zq/v2r6yn111s3gpdf8lzf72xvw0000gn/T/ipykernel_48157/847093712.py:24: DeprecationWarning: `product` is deprecated as of NumPy 1.25.0, and will be removed in NumPy 2.0. Please use `prod` instead.\n",
                        "  prior_hfev1 = TabularCPD(\n",
                        "/var/folders/zq/v2r6yn111s3gpdf8lzf72xvw0000gn/T/ipykernel_48157/847093712.py:31: DeprecationWarning: `product` is deprecated as of NumPy 1.25.0, and will be removed in NumPy 2.0. Please use `prod` instead.\n",
                        "  prior_ho2sat = TabularCPD(\n",
                        "/var/folders/zq/v2r6yn111s3gpdf8lzf72xvw0000gn/T/ipykernel_48157/847093712.py:38: DeprecationWarning: `product` is deprecated as of NumPy 1.25.0, and will be removed in NumPy 2.0. Please use `prod` instead.\n",
                        "  prior_ar = TabularCPD(\n",
                        "/Users/tristan.trebaol/Desktop/PhD/Code/phd/src/models/helpers.py:327: IntegrationWarning: The maximum number of subdivisions (50) has been achieved.\n",
                        "  If increasing the limit yields no improvement it is advised to analyze \n",
                        "  the integrand in order to determine the difficulties.  If the position of a \n",
                        "  local difficulty can be determined (singularity, discontinuity) one will \n",
                        "  probably gain from splitting up the interval and calling the integrator \n",
                        "  on the subranges.  Perhaps a special-purpose integrator should be used.\n",
                        "  val, abserr = integrate.quad(\n",
                        "/var/folders/zq/v2r6yn111s3gpdf8lzf72xvw0000gn/T/ipykernel_48157/847093712.py:45: DeprecationWarning: `product` is deprecated as of NumPy 1.25.0, and will be removed in NumPy 2.0. Please use `prod` instead.\n",
                        "  cpt_fev1 = TabularCPD(\n",
                        "/var/folders/zq/v2r6yn111s3gpdf8lzf72xvw0000gn/T/ipykernel_48157/847093712.py:52: DeprecationWarning: `product` is deprecated as of NumPy 1.25.0, and will be removed in NumPy 2.0. Please use `prod` instead.\n",
                        "  cpt_o2_sat_ffa = TabularCPD(\n"
                    ]
                },
                {
                    "name": "stdout",
                    "output_type": "stream",
                    "text": [
                        "model took 38.18750596046448 seconds to build\n",
                        "inference took 11.51398515701294 seconds to run\n",
                        "\n",
                        "Running for ID 205, with 7 observations\n",
                        "*** Building FEV1 and O2 point in time model ***\n"
                    ]
                },
                {
                    "name": "stderr",
                    "output_type": "stream",
                    "text": [
                        "/var/folders/zq/v2r6yn111s3gpdf8lzf72xvw0000gn/T/ipykernel_48157/847093712.py:24: DeprecationWarning: `product` is deprecated as of NumPy 1.25.0, and will be removed in NumPy 2.0. Please use `prod` instead.\n",
                        "  prior_hfev1 = TabularCPD(\n",
                        "/var/folders/zq/v2r6yn111s3gpdf8lzf72xvw0000gn/T/ipykernel_48157/847093712.py:31: DeprecationWarning: `product` is deprecated as of NumPy 1.25.0, and will be removed in NumPy 2.0. Please use `prod` instead.\n",
                        "  prior_ho2sat = TabularCPD(\n",
                        "/var/folders/zq/v2r6yn111s3gpdf8lzf72xvw0000gn/T/ipykernel_48157/847093712.py:38: DeprecationWarning: `product` is deprecated as of NumPy 1.25.0, and will be removed in NumPy 2.0. Please use `prod` instead.\n",
                        "  prior_ar = TabularCPD(\n",
                        "/Users/tristan.trebaol/Desktop/PhD/Code/phd/src/models/helpers.py:327: IntegrationWarning: The maximum number of subdivisions (50) has been achieved.\n",
                        "  If increasing the limit yields no improvement it is advised to analyze \n",
                        "  the integrand in order to determine the difficulties.  If the position of a \n",
                        "  local difficulty can be determined (singularity, discontinuity) one will \n",
                        "  probably gain from splitting up the interval and calling the integrator \n",
                        "  on the subranges.  Perhaps a special-purpose integrator should be used.\n",
                        "  val, abserr = integrate.quad(\n",
                        "/var/folders/zq/v2r6yn111s3gpdf8lzf72xvw0000gn/T/ipykernel_48157/847093712.py:45: DeprecationWarning: `product` is deprecated as of NumPy 1.25.0, and will be removed in NumPy 2.0. Please use `prod` instead.\n",
                        "  cpt_fev1 = TabularCPD(\n",
                        "/var/folders/zq/v2r6yn111s3gpdf8lzf72xvw0000gn/T/ipykernel_48157/847093712.py:52: DeprecationWarning: `product` is deprecated as of NumPy 1.25.0, and will be removed in NumPy 2.0. Please use `prod` instead.\n",
                        "  cpt_o2_sat_ffa = TabularCPD(\n"
                    ]
                },
                {
                    "name": "stdout",
                    "output_type": "stream",
                    "text": [
                        "model took 38.40568017959595 seconds to build\n",
                        "inference took 1.8642921447753906 seconds to run\n",
                        "\n",
                        "Running for ID 206, with 8 observations\n",
                        "*** Building FEV1 and O2 point in time model ***\n"
                    ]
                },
                {
                    "name": "stderr",
                    "output_type": "stream",
                    "text": [
                        "/var/folders/zq/v2r6yn111s3gpdf8lzf72xvw0000gn/T/ipykernel_48157/847093712.py:24: DeprecationWarning: `product` is deprecated as of NumPy 1.25.0, and will be removed in NumPy 2.0. Please use `prod` instead.\n",
                        "  prior_hfev1 = TabularCPD(\n",
                        "/var/folders/zq/v2r6yn111s3gpdf8lzf72xvw0000gn/T/ipykernel_48157/847093712.py:31: DeprecationWarning: `product` is deprecated as of NumPy 1.25.0, and will be removed in NumPy 2.0. Please use `prod` instead.\n",
                        "  prior_ho2sat = TabularCPD(\n",
                        "/var/folders/zq/v2r6yn111s3gpdf8lzf72xvw0000gn/T/ipykernel_48157/847093712.py:38: DeprecationWarning: `product` is deprecated as of NumPy 1.25.0, and will be removed in NumPy 2.0. Please use `prod` instead.\n",
                        "  prior_ar = TabularCPD(\n",
                        "/Users/tristan.trebaol/Desktop/PhD/Code/phd/src/models/helpers.py:327: IntegrationWarning: The maximum number of subdivisions (50) has been achieved.\n",
                        "  If increasing the limit yields no improvement it is advised to analyze \n",
                        "  the integrand in order to determine the difficulties.  If the position of a \n",
                        "  local difficulty can be determined (singularity, discontinuity) one will \n",
                        "  probably gain from splitting up the interval and calling the integrator \n",
                        "  on the subranges.  Perhaps a special-purpose integrator should be used.\n",
                        "  val, abserr = integrate.quad(\n",
                        "/var/folders/zq/v2r6yn111s3gpdf8lzf72xvw0000gn/T/ipykernel_48157/847093712.py:45: DeprecationWarning: `product` is deprecated as of NumPy 1.25.0, and will be removed in NumPy 2.0. Please use `prod` instead.\n",
                        "  cpt_fev1 = TabularCPD(\n",
                        "/var/folders/zq/v2r6yn111s3gpdf8lzf72xvw0000gn/T/ipykernel_48157/847093712.py:52: DeprecationWarning: `product` is deprecated as of NumPy 1.25.0, and will be removed in NumPy 2.0. Please use `prod` instead.\n",
                        "  cpt_o2_sat_ffa = TabularCPD(\n"
                    ]
                },
                {
                    "name": "stdout",
                    "output_type": "stream",
                    "text": [
                        "model took 38.130560874938965 seconds to build\n",
                        "inference took 1.8646142482757568 seconds to run\n",
                        "\n",
                        "Running for ID 207, with 4 observations\n",
                        "*** Building FEV1 and O2 point in time model ***\n"
                    ]
                },
                {
                    "name": "stderr",
                    "output_type": "stream",
                    "text": [
                        "/var/folders/zq/v2r6yn111s3gpdf8lzf72xvw0000gn/T/ipykernel_48157/847093712.py:24: DeprecationWarning: `product` is deprecated as of NumPy 1.25.0, and will be removed in NumPy 2.0. Please use `prod` instead.\n",
                        "  prior_hfev1 = TabularCPD(\n",
                        "/var/folders/zq/v2r6yn111s3gpdf8lzf72xvw0000gn/T/ipykernel_48157/847093712.py:31: DeprecationWarning: `product` is deprecated as of NumPy 1.25.0, and will be removed in NumPy 2.0. Please use `prod` instead.\n",
                        "  prior_ho2sat = TabularCPD(\n",
                        "/var/folders/zq/v2r6yn111s3gpdf8lzf72xvw0000gn/T/ipykernel_48157/847093712.py:38: DeprecationWarning: `product` is deprecated as of NumPy 1.25.0, and will be removed in NumPy 2.0. Please use `prod` instead.\n",
                        "  prior_ar = TabularCPD(\n",
                        "/Users/tristan.trebaol/Desktop/PhD/Code/phd/src/models/helpers.py:327: IntegrationWarning: The maximum number of subdivisions (50) has been achieved.\n",
                        "  If increasing the limit yields no improvement it is advised to analyze \n",
                        "  the integrand in order to determine the difficulties.  If the position of a \n",
                        "  local difficulty can be determined (singularity, discontinuity) one will \n",
                        "  probably gain from splitting up the interval and calling the integrator \n",
                        "  on the subranges.  Perhaps a special-purpose integrator should be used.\n",
                        "  val, abserr = integrate.quad(\n",
                        "/var/folders/zq/v2r6yn111s3gpdf8lzf72xvw0000gn/T/ipykernel_48157/847093712.py:45: DeprecationWarning: `product` is deprecated as of NumPy 1.25.0, and will be removed in NumPy 2.0. Please use `prod` instead.\n",
                        "  cpt_fev1 = TabularCPD(\n",
                        "/var/folders/zq/v2r6yn111s3gpdf8lzf72xvw0000gn/T/ipykernel_48157/847093712.py:52: DeprecationWarning: `product` is deprecated as of NumPy 1.25.0, and will be removed in NumPy 2.0. Please use `prod` instead.\n",
                        "  cpt_o2_sat_ffa = TabularCPD(\n"
                    ]
                },
                {
                    "name": "stdout",
                    "output_type": "stream",
                    "text": [
                        "model took 38.28316068649292 seconds to build\n",
                        "inference took 1.034135103225708 seconds to run\n",
                        "\n",
                        "Running for ID 208, with 3 observations\n",
                        "*** Building FEV1 and O2 point in time model ***\n"
                    ]
                },
                {
                    "name": "stderr",
                    "output_type": "stream",
                    "text": [
                        "/var/folders/zq/v2r6yn111s3gpdf8lzf72xvw0000gn/T/ipykernel_48157/847093712.py:24: DeprecationWarning: `product` is deprecated as of NumPy 1.25.0, and will be removed in NumPy 2.0. Please use `prod` instead.\n",
                        "  prior_hfev1 = TabularCPD(\n",
                        "/var/folders/zq/v2r6yn111s3gpdf8lzf72xvw0000gn/T/ipykernel_48157/847093712.py:31: DeprecationWarning: `product` is deprecated as of NumPy 1.25.0, and will be removed in NumPy 2.0. Please use `prod` instead.\n",
                        "  prior_ho2sat = TabularCPD(\n",
                        "/var/folders/zq/v2r6yn111s3gpdf8lzf72xvw0000gn/T/ipykernel_48157/847093712.py:38: DeprecationWarning: `product` is deprecated as of NumPy 1.25.0, and will be removed in NumPy 2.0. Please use `prod` instead.\n",
                        "  prior_ar = TabularCPD(\n",
                        "/Users/tristan.trebaol/Desktop/PhD/Code/phd/src/models/helpers.py:327: IntegrationWarning: The maximum number of subdivisions (50) has been achieved.\n",
                        "  If increasing the limit yields no improvement it is advised to analyze \n",
                        "  the integrand in order to determine the difficulties.  If the position of a \n",
                        "  local difficulty can be determined (singularity, discontinuity) one will \n",
                        "  probably gain from splitting up the interval and calling the integrator \n",
                        "  on the subranges.  Perhaps a special-purpose integrator should be used.\n",
                        "  val, abserr = integrate.quad(\n",
                        "/var/folders/zq/v2r6yn111s3gpdf8lzf72xvw0000gn/T/ipykernel_48157/847093712.py:45: DeprecationWarning: `product` is deprecated as of NumPy 1.25.0, and will be removed in NumPy 2.0. Please use `prod` instead.\n",
                        "  cpt_fev1 = TabularCPD(\n",
                        "/var/folders/zq/v2r6yn111s3gpdf8lzf72xvw0000gn/T/ipykernel_48157/847093712.py:52: DeprecationWarning: `product` is deprecated as of NumPy 1.25.0, and will be removed in NumPy 2.0. Please use `prod` instead.\n",
                        "  cpt_o2_sat_ffa = TabularCPD(\n"
                    ]
                },
                {
                    "name": "stdout",
                    "output_type": "stream",
                    "text": [
                        "model took 38.21686887741089 seconds to build\n",
                        "inference took 0.9077482223510742 seconds to run\n",
                        "\n",
                        "Running for ID 209, with 38 observations\n",
                        "*** Building FEV1 and O2 point in time model ***\n"
                    ]
                },
                {
                    "name": "stderr",
                    "output_type": "stream",
                    "text": [
                        "/var/folders/zq/v2r6yn111s3gpdf8lzf72xvw0000gn/T/ipykernel_48157/847093712.py:24: DeprecationWarning: `product` is deprecated as of NumPy 1.25.0, and will be removed in NumPy 2.0. Please use `prod` instead.\n",
                        "  prior_hfev1 = TabularCPD(\n",
                        "/var/folders/zq/v2r6yn111s3gpdf8lzf72xvw0000gn/T/ipykernel_48157/847093712.py:31: DeprecationWarning: `product` is deprecated as of NumPy 1.25.0, and will be removed in NumPy 2.0. Please use `prod` instead.\n",
                        "  prior_ho2sat = TabularCPD(\n",
                        "/var/folders/zq/v2r6yn111s3gpdf8lzf72xvw0000gn/T/ipykernel_48157/847093712.py:38: DeprecationWarning: `product` is deprecated as of NumPy 1.25.0, and will be removed in NumPy 2.0. Please use `prod` instead.\n",
                        "  prior_ar = TabularCPD(\n",
                        "/Users/tristan.trebaol/Desktop/PhD/Code/phd/src/models/helpers.py:327: IntegrationWarning: The maximum number of subdivisions (50) has been achieved.\n",
                        "  If increasing the limit yields no improvement it is advised to analyze \n",
                        "  the integrand in order to determine the difficulties.  If the position of a \n",
                        "  local difficulty can be determined (singularity, discontinuity) one will \n",
                        "  probably gain from splitting up the interval and calling the integrator \n",
                        "  on the subranges.  Perhaps a special-purpose integrator should be used.\n",
                        "  val, abserr = integrate.quad(\n",
                        "/var/folders/zq/v2r6yn111s3gpdf8lzf72xvw0000gn/T/ipykernel_48157/847093712.py:45: DeprecationWarning: `product` is deprecated as of NumPy 1.25.0, and will be removed in NumPy 2.0. Please use `prod` instead.\n",
                        "  cpt_fev1 = TabularCPD(\n",
                        "/var/folders/zq/v2r6yn111s3gpdf8lzf72xvw0000gn/T/ipykernel_48157/847093712.py:52: DeprecationWarning: `product` is deprecated as of NumPy 1.25.0, and will be removed in NumPy 2.0. Please use `prod` instead.\n",
                        "  cpt_o2_sat_ffa = TabularCPD(\n"
                    ]
                },
                {
                    "name": "stdout",
                    "output_type": "stream",
                    "text": [
                        "model took 38.33554983139038 seconds to build\n",
                        "inference took 7.342203855514526 seconds to run\n",
                        "\n",
                        "Running for ID 210, with 17 observations\n",
                        "*** Building FEV1 and O2 point in time model ***\n"
                    ]
                },
                {
                    "name": "stderr",
                    "output_type": "stream",
                    "text": [
                        "/var/folders/zq/v2r6yn111s3gpdf8lzf72xvw0000gn/T/ipykernel_48157/847093712.py:24: DeprecationWarning: `product` is deprecated as of NumPy 1.25.0, and will be removed in NumPy 2.0. Please use `prod` instead.\n",
                        "  prior_hfev1 = TabularCPD(\n",
                        "/var/folders/zq/v2r6yn111s3gpdf8lzf72xvw0000gn/T/ipykernel_48157/847093712.py:31: DeprecationWarning: `product` is deprecated as of NumPy 1.25.0, and will be removed in NumPy 2.0. Please use `prod` instead.\n",
                        "  prior_ho2sat = TabularCPD(\n",
                        "/var/folders/zq/v2r6yn111s3gpdf8lzf72xvw0000gn/T/ipykernel_48157/847093712.py:38: DeprecationWarning: `product` is deprecated as of NumPy 1.25.0, and will be removed in NumPy 2.0. Please use `prod` instead.\n",
                        "  prior_ar = TabularCPD(\n",
                        "/Users/tristan.trebaol/Desktop/PhD/Code/phd/src/models/helpers.py:327: IntegrationWarning: The maximum number of subdivisions (50) has been achieved.\n",
                        "  If increasing the limit yields no improvement it is advised to analyze \n",
                        "  the integrand in order to determine the difficulties.  If the position of a \n",
                        "  local difficulty can be determined (singularity, discontinuity) one will \n",
                        "  probably gain from splitting up the interval and calling the integrator \n",
                        "  on the subranges.  Perhaps a special-purpose integrator should be used.\n",
                        "  val, abserr = integrate.quad(\n",
                        "/var/folders/zq/v2r6yn111s3gpdf8lzf72xvw0000gn/T/ipykernel_48157/847093712.py:45: DeprecationWarning: `product` is deprecated as of NumPy 1.25.0, and will be removed in NumPy 2.0. Please use `prod` instead.\n",
                        "  cpt_fev1 = TabularCPD(\n",
                        "/var/folders/zq/v2r6yn111s3gpdf8lzf72xvw0000gn/T/ipykernel_48157/847093712.py:52: DeprecationWarning: `product` is deprecated as of NumPy 1.25.0, and will be removed in NumPy 2.0. Please use `prod` instead.\n",
                        "  cpt_o2_sat_ffa = TabularCPD(\n"
                    ]
                },
                {
                    "name": "stdout",
                    "output_type": "stream",
                    "text": [
                        "model took 38.10557007789612 seconds to build\n",
                        "inference took 3.062217950820923 seconds to run\n",
                        "\n",
                        "Running for ID 213, with 1 observations\n",
                        "*** Building FEV1 and O2 point in time model ***\n"
                    ]
                },
                {
                    "name": "stderr",
                    "output_type": "stream",
                    "text": [
                        "/var/folders/zq/v2r6yn111s3gpdf8lzf72xvw0000gn/T/ipykernel_48157/847093712.py:24: DeprecationWarning: `product` is deprecated as of NumPy 1.25.0, and will be removed in NumPy 2.0. Please use `prod` instead.\n",
                        "  prior_hfev1 = TabularCPD(\n",
                        "/var/folders/zq/v2r6yn111s3gpdf8lzf72xvw0000gn/T/ipykernel_48157/847093712.py:31: DeprecationWarning: `product` is deprecated as of NumPy 1.25.0, and will be removed in NumPy 2.0. Please use `prod` instead.\n",
                        "  prior_ho2sat = TabularCPD(\n",
                        "/var/folders/zq/v2r6yn111s3gpdf8lzf72xvw0000gn/T/ipykernel_48157/847093712.py:38: DeprecationWarning: `product` is deprecated as of NumPy 1.25.0, and will be removed in NumPy 2.0. Please use `prod` instead.\n",
                        "  prior_ar = TabularCPD(\n",
                        "/Users/tristan.trebaol/Desktop/PhD/Code/phd/src/models/helpers.py:327: IntegrationWarning: The maximum number of subdivisions (50) has been achieved.\n",
                        "  If increasing the limit yields no improvement it is advised to analyze \n",
                        "  the integrand in order to determine the difficulties.  If the position of a \n",
                        "  local difficulty can be determined (singularity, discontinuity) one will \n",
                        "  probably gain from splitting up the interval and calling the integrator \n",
                        "  on the subranges.  Perhaps a special-purpose integrator should be used.\n",
                        "  val, abserr = integrate.quad(\n",
                        "/var/folders/zq/v2r6yn111s3gpdf8lzf72xvw0000gn/T/ipykernel_48157/847093712.py:45: DeprecationWarning: `product` is deprecated as of NumPy 1.25.0, and will be removed in NumPy 2.0. Please use `prod` instead.\n",
                        "  cpt_fev1 = TabularCPD(\n",
                        "/var/folders/zq/v2r6yn111s3gpdf8lzf72xvw0000gn/T/ipykernel_48157/847093712.py:52: DeprecationWarning: `product` is deprecated as of NumPy 1.25.0, and will be removed in NumPy 2.0. Please use `prod` instead.\n",
                        "  cpt_o2_sat_ffa = TabularCPD(\n"
                    ]
                },
                {
                    "name": "stdout",
                    "output_type": "stream",
                    "text": [
                        "model took 38.26481580734253 seconds to build\n",
                        "inference took 0.3417060375213623 seconds to run\n",
                        "\n",
                        "Running for ID 215, with 176 observations\n",
                        "*** Building FEV1 and O2 point in time model ***\n"
                    ]
                },
                {
                    "name": "stderr",
                    "output_type": "stream",
                    "text": [
                        "/var/folders/zq/v2r6yn111s3gpdf8lzf72xvw0000gn/T/ipykernel_48157/847093712.py:24: DeprecationWarning: `product` is deprecated as of NumPy 1.25.0, and will be removed in NumPy 2.0. Please use `prod` instead.\n",
                        "  prior_hfev1 = TabularCPD(\n",
                        "/var/folders/zq/v2r6yn111s3gpdf8lzf72xvw0000gn/T/ipykernel_48157/847093712.py:31: DeprecationWarning: `product` is deprecated as of NumPy 1.25.0, and will be removed in NumPy 2.0. Please use `prod` instead.\n",
                        "  prior_ho2sat = TabularCPD(\n",
                        "/var/folders/zq/v2r6yn111s3gpdf8lzf72xvw0000gn/T/ipykernel_48157/847093712.py:38: DeprecationWarning: `product` is deprecated as of NumPy 1.25.0, and will be removed in NumPy 2.0. Please use `prod` instead.\n",
                        "  prior_ar = TabularCPD(\n",
                        "/Users/tristan.trebaol/Desktop/PhD/Code/phd/src/models/helpers.py:327: IntegrationWarning: The maximum number of subdivisions (50) has been achieved.\n",
                        "  If increasing the limit yields no improvement it is advised to analyze \n",
                        "  the integrand in order to determine the difficulties.  If the position of a \n",
                        "  local difficulty can be determined (singularity, discontinuity) one will \n",
                        "  probably gain from splitting up the interval and calling the integrator \n",
                        "  on the subranges.  Perhaps a special-purpose integrator should be used.\n",
                        "  val, abserr = integrate.quad(\n",
                        "/var/folders/zq/v2r6yn111s3gpdf8lzf72xvw0000gn/T/ipykernel_48157/847093712.py:45: DeprecationWarning: `product` is deprecated as of NumPy 1.25.0, and will be removed in NumPy 2.0. Please use `prod` instead.\n",
                        "  cpt_fev1 = TabularCPD(\n",
                        "/var/folders/zq/v2r6yn111s3gpdf8lzf72xvw0000gn/T/ipykernel_48157/847093712.py:52: DeprecationWarning: `product` is deprecated as of NumPy 1.25.0, and will be removed in NumPy 2.0. Please use `prod` instead.\n",
                        "  cpt_o2_sat_ffa = TabularCPD(\n"
                    ]
                },
                {
                    "name": "stdout",
                    "output_type": "stream",
                    "text": [
                        "model took 38.33002805709839 seconds to build\n",
                        "inference took 8.986976861953735 seconds to run\n",
                        "\n",
                        "Running for ID 216, with 3 observations\n",
                        "*** Building FEV1 and O2 point in time model ***\n"
                    ]
                },
                {
                    "name": "stderr",
                    "output_type": "stream",
                    "text": [
                        "/var/folders/zq/v2r6yn111s3gpdf8lzf72xvw0000gn/T/ipykernel_48157/847093712.py:24: DeprecationWarning: `product` is deprecated as of NumPy 1.25.0, and will be removed in NumPy 2.0. Please use `prod` instead.\n",
                        "  prior_hfev1 = TabularCPD(\n",
                        "/var/folders/zq/v2r6yn111s3gpdf8lzf72xvw0000gn/T/ipykernel_48157/847093712.py:31: DeprecationWarning: `product` is deprecated as of NumPy 1.25.0, and will be removed in NumPy 2.0. Please use `prod` instead.\n",
                        "  prior_ho2sat = TabularCPD(\n",
                        "/var/folders/zq/v2r6yn111s3gpdf8lzf72xvw0000gn/T/ipykernel_48157/847093712.py:38: DeprecationWarning: `product` is deprecated as of NumPy 1.25.0, and will be removed in NumPy 2.0. Please use `prod` instead.\n",
                        "  prior_ar = TabularCPD(\n",
                        "/Users/tristan.trebaol/Desktop/PhD/Code/phd/src/models/helpers.py:327: IntegrationWarning: The maximum number of subdivisions (50) has been achieved.\n",
                        "  If increasing the limit yields no improvement it is advised to analyze \n",
                        "  the integrand in order to determine the difficulties.  If the position of a \n",
                        "  local difficulty can be determined (singularity, discontinuity) one will \n",
                        "  probably gain from splitting up the interval and calling the integrator \n",
                        "  on the subranges.  Perhaps a special-purpose integrator should be used.\n",
                        "  val, abserr = integrate.quad(\n",
                        "/var/folders/zq/v2r6yn111s3gpdf8lzf72xvw0000gn/T/ipykernel_48157/847093712.py:45: DeprecationWarning: `product` is deprecated as of NumPy 1.25.0, and will be removed in NumPy 2.0. Please use `prod` instead.\n",
                        "  cpt_fev1 = TabularCPD(\n",
                        "/var/folders/zq/v2r6yn111s3gpdf8lzf72xvw0000gn/T/ipykernel_48157/847093712.py:52: DeprecationWarning: `product` is deprecated as of NumPy 1.25.0, and will be removed in NumPy 2.0. Please use `prod` instead.\n",
                        "  cpt_o2_sat_ffa = TabularCPD(\n"
                    ]
                },
                {
                    "name": "stdout",
                    "output_type": "stream",
                    "text": [
                        "model took 38.4780650138855 seconds to build\n",
                        "inference took 0.6787378787994385 seconds to run\n",
                        "\n",
                        "Running for ID 220, with 97 observations\n",
                        "*** Building FEV1 and O2 point in time model ***\n"
                    ]
                },
                {
                    "name": "stderr",
                    "output_type": "stream",
                    "text": [
                        "/var/folders/zq/v2r6yn111s3gpdf8lzf72xvw0000gn/T/ipykernel_48157/847093712.py:24: DeprecationWarning: `product` is deprecated as of NumPy 1.25.0, and will be removed in NumPy 2.0. Please use `prod` instead.\n",
                        "  prior_hfev1 = TabularCPD(\n",
                        "/var/folders/zq/v2r6yn111s3gpdf8lzf72xvw0000gn/T/ipykernel_48157/847093712.py:31: DeprecationWarning: `product` is deprecated as of NumPy 1.25.0, and will be removed in NumPy 2.0. Please use `prod` instead.\n",
                        "  prior_ho2sat = TabularCPD(\n",
                        "/var/folders/zq/v2r6yn111s3gpdf8lzf72xvw0000gn/T/ipykernel_48157/847093712.py:38: DeprecationWarning: `product` is deprecated as of NumPy 1.25.0, and will be removed in NumPy 2.0. Please use `prod` instead.\n",
                        "  prior_ar = TabularCPD(\n",
                        "/Users/tristan.trebaol/Desktop/PhD/Code/phd/src/models/helpers.py:327: IntegrationWarning: The maximum number of subdivisions (50) has been achieved.\n",
                        "  If increasing the limit yields no improvement it is advised to analyze \n",
                        "  the integrand in order to determine the difficulties.  If the position of a \n",
                        "  local difficulty can be determined (singularity, discontinuity) one will \n",
                        "  probably gain from splitting up the interval and calling the integrator \n",
                        "  on the subranges.  Perhaps a special-purpose integrator should be used.\n",
                        "  val, abserr = integrate.quad(\n",
                        "/var/folders/zq/v2r6yn111s3gpdf8lzf72xvw0000gn/T/ipykernel_48157/847093712.py:45: DeprecationWarning: `product` is deprecated as of NumPy 1.25.0, and will be removed in NumPy 2.0. Please use `prod` instead.\n",
                        "  cpt_fev1 = TabularCPD(\n",
                        "/var/folders/zq/v2r6yn111s3gpdf8lzf72xvw0000gn/T/ipykernel_48157/847093712.py:52: DeprecationWarning: `product` is deprecated as of NumPy 1.25.0, and will be removed in NumPy 2.0. Please use `prod` instead.\n",
                        "  cpt_o2_sat_ffa = TabularCPD(\n"
                    ]
                },
                {
                    "name": "stdout",
                    "output_type": "stream",
                    "text": [
                        "model took 38.163962841033936 seconds to build\n",
                        "inference took 12.73704218864441 seconds to run\n",
                        "\n",
                        "Running for ID 221, with 30 observations\n",
                        "*** Building FEV1 and O2 point in time model ***\n"
                    ]
                },
                {
                    "name": "stderr",
                    "output_type": "stream",
                    "text": [
                        "/var/folders/zq/v2r6yn111s3gpdf8lzf72xvw0000gn/T/ipykernel_48157/847093712.py:24: DeprecationWarning: `product` is deprecated as of NumPy 1.25.0, and will be removed in NumPy 2.0. Please use `prod` instead.\n",
                        "  prior_hfev1 = TabularCPD(\n",
                        "/var/folders/zq/v2r6yn111s3gpdf8lzf72xvw0000gn/T/ipykernel_48157/847093712.py:31: DeprecationWarning: `product` is deprecated as of NumPy 1.25.0, and will be removed in NumPy 2.0. Please use `prod` instead.\n",
                        "  prior_ho2sat = TabularCPD(\n",
                        "/var/folders/zq/v2r6yn111s3gpdf8lzf72xvw0000gn/T/ipykernel_48157/847093712.py:38: DeprecationWarning: `product` is deprecated as of NumPy 1.25.0, and will be removed in NumPy 2.0. Please use `prod` instead.\n",
                        "  prior_ar = TabularCPD(\n",
                        "/Users/tristan.trebaol/Desktop/PhD/Code/phd/src/models/helpers.py:327: IntegrationWarning: The maximum number of subdivisions (50) has been achieved.\n",
                        "  If increasing the limit yields no improvement it is advised to analyze \n",
                        "  the integrand in order to determine the difficulties.  If the position of a \n",
                        "  local difficulty can be determined (singularity, discontinuity) one will \n",
                        "  probably gain from splitting up the interval and calling the integrator \n",
                        "  on the subranges.  Perhaps a special-purpose integrator should be used.\n",
                        "  val, abserr = integrate.quad(\n",
                        "/var/folders/zq/v2r6yn111s3gpdf8lzf72xvw0000gn/T/ipykernel_48157/847093712.py:45: DeprecationWarning: `product` is deprecated as of NumPy 1.25.0, and will be removed in NumPy 2.0. Please use `prod` instead.\n",
                        "  cpt_fev1 = TabularCPD(\n",
                        "/var/folders/zq/v2r6yn111s3gpdf8lzf72xvw0000gn/T/ipykernel_48157/847093712.py:52: DeprecationWarning: `product` is deprecated as of NumPy 1.25.0, and will be removed in NumPy 2.0. Please use `prod` instead.\n",
                        "  cpt_o2_sat_ffa = TabularCPD(\n"
                    ]
                },
                {
                    "name": "stdout",
                    "output_type": "stream",
                    "text": [
                        "model took 38.31469511985779 seconds to build\n",
                        "inference took 6.9587318897247314 seconds to run\n",
                        "\n",
                        "Running for ID 222, with 3 observations\n",
                        "*** Building FEV1 and O2 point in time model ***\n"
                    ]
                },
                {
                    "name": "stderr",
                    "output_type": "stream",
                    "text": [
                        "/var/folders/zq/v2r6yn111s3gpdf8lzf72xvw0000gn/T/ipykernel_48157/847093712.py:24: DeprecationWarning: `product` is deprecated as of NumPy 1.25.0, and will be removed in NumPy 2.0. Please use `prod` instead.\n",
                        "  prior_hfev1 = TabularCPD(\n",
                        "/var/folders/zq/v2r6yn111s3gpdf8lzf72xvw0000gn/T/ipykernel_48157/847093712.py:31: DeprecationWarning: `product` is deprecated as of NumPy 1.25.0, and will be removed in NumPy 2.0. Please use `prod` instead.\n",
                        "  prior_ho2sat = TabularCPD(\n",
                        "/var/folders/zq/v2r6yn111s3gpdf8lzf72xvw0000gn/T/ipykernel_48157/847093712.py:38: DeprecationWarning: `product` is deprecated as of NumPy 1.25.0, and will be removed in NumPy 2.0. Please use `prod` instead.\n",
                        "  prior_ar = TabularCPD(\n",
                        "/Users/tristan.trebaol/Desktop/PhD/Code/phd/src/models/helpers.py:327: IntegrationWarning: The maximum number of subdivisions (50) has been achieved.\n",
                        "  If increasing the limit yields no improvement it is advised to analyze \n",
                        "  the integrand in order to determine the difficulties.  If the position of a \n",
                        "  local difficulty can be determined (singularity, discontinuity) one will \n",
                        "  probably gain from splitting up the interval and calling the integrator \n",
                        "  on the subranges.  Perhaps a special-purpose integrator should be used.\n",
                        "  val, abserr = integrate.quad(\n",
                        "/var/folders/zq/v2r6yn111s3gpdf8lzf72xvw0000gn/T/ipykernel_48157/847093712.py:45: DeprecationWarning: `product` is deprecated as of NumPy 1.25.0, and will be removed in NumPy 2.0. Please use `prod` instead.\n",
                        "  cpt_fev1 = TabularCPD(\n",
                        "/var/folders/zq/v2r6yn111s3gpdf8lzf72xvw0000gn/T/ipykernel_48157/847093712.py:52: DeprecationWarning: `product` is deprecated as of NumPy 1.25.0, and will be removed in NumPy 2.0. Please use `prod` instead.\n",
                        "  cpt_o2_sat_ffa = TabularCPD(\n"
                    ]
                },
                {
                    "name": "stdout",
                    "output_type": "stream",
                    "text": [
                        "model took 38.20374417304993 seconds to build\n",
                        "inference took 0.8451440334320068 seconds to run\n",
                        "\n",
                        "Running for ID 224, with 113 observations\n",
                        "*** Building FEV1 and O2 point in time model ***\n"
                    ]
                },
                {
                    "name": "stderr",
                    "output_type": "stream",
                    "text": [
                        "/var/folders/zq/v2r6yn111s3gpdf8lzf72xvw0000gn/T/ipykernel_48157/847093712.py:24: DeprecationWarning: `product` is deprecated as of NumPy 1.25.0, and will be removed in NumPy 2.0. Please use `prod` instead.\n",
                        "  prior_hfev1 = TabularCPD(\n",
                        "/var/folders/zq/v2r6yn111s3gpdf8lzf72xvw0000gn/T/ipykernel_48157/847093712.py:31: DeprecationWarning: `product` is deprecated as of NumPy 1.25.0, and will be removed in NumPy 2.0. Please use `prod` instead.\n",
                        "  prior_ho2sat = TabularCPD(\n",
                        "/var/folders/zq/v2r6yn111s3gpdf8lzf72xvw0000gn/T/ipykernel_48157/847093712.py:38: DeprecationWarning: `product` is deprecated as of NumPy 1.25.0, and will be removed in NumPy 2.0. Please use `prod` instead.\n",
                        "  prior_ar = TabularCPD(\n",
                        "/Users/tristan.trebaol/Desktop/PhD/Code/phd/src/models/helpers.py:327: IntegrationWarning: The maximum number of subdivisions (50) has been achieved.\n",
                        "  If increasing the limit yields no improvement it is advised to analyze \n",
                        "  the integrand in order to determine the difficulties.  If the position of a \n",
                        "  local difficulty can be determined (singularity, discontinuity) one will \n",
                        "  probably gain from splitting up the interval and calling the integrator \n",
                        "  on the subranges.  Perhaps a special-purpose integrator should be used.\n",
                        "  val, abserr = integrate.quad(\n",
                        "/var/folders/zq/v2r6yn111s3gpdf8lzf72xvw0000gn/T/ipykernel_48157/847093712.py:45: DeprecationWarning: `product` is deprecated as of NumPy 1.25.0, and will be removed in NumPy 2.0. Please use `prod` instead.\n",
                        "  cpt_fev1 = TabularCPD(\n",
                        "/var/folders/zq/v2r6yn111s3gpdf8lzf72xvw0000gn/T/ipykernel_48157/847093712.py:52: DeprecationWarning: `product` is deprecated as of NumPy 1.25.0, and will be removed in NumPy 2.0. Please use `prod` instead.\n",
                        "  cpt_o2_sat_ffa = TabularCPD(\n"
                    ]
                },
                {
                    "name": "stdout",
                    "output_type": "stream",
                    "text": [
                        "model took 38.24813103675842 seconds to build\n",
                        "inference took 19.68860125541687 seconds to run\n",
                        "\n",
                        "Running for ID 225, with 1 observations\n",
                        "*** Building FEV1 and O2 point in time model ***\n"
                    ]
                },
                {
                    "name": "stderr",
                    "output_type": "stream",
                    "text": [
                        "/var/folders/zq/v2r6yn111s3gpdf8lzf72xvw0000gn/T/ipykernel_48157/847093712.py:24: DeprecationWarning: `product` is deprecated as of NumPy 1.25.0, and will be removed in NumPy 2.0. Please use `prod` instead.\n",
                        "  prior_hfev1 = TabularCPD(\n",
                        "/var/folders/zq/v2r6yn111s3gpdf8lzf72xvw0000gn/T/ipykernel_48157/847093712.py:31: DeprecationWarning: `product` is deprecated as of NumPy 1.25.0, and will be removed in NumPy 2.0. Please use `prod` instead.\n",
                        "  prior_ho2sat = TabularCPD(\n",
                        "/var/folders/zq/v2r6yn111s3gpdf8lzf72xvw0000gn/T/ipykernel_48157/847093712.py:38: DeprecationWarning: `product` is deprecated as of NumPy 1.25.0, and will be removed in NumPy 2.0. Please use `prod` instead.\n",
                        "  prior_ar = TabularCPD(\n",
                        "/Users/tristan.trebaol/Desktop/PhD/Code/phd/src/models/helpers.py:327: IntegrationWarning: The maximum number of subdivisions (50) has been achieved.\n",
                        "  If increasing the limit yields no improvement it is advised to analyze \n",
                        "  the integrand in order to determine the difficulties.  If the position of a \n",
                        "  local difficulty can be determined (singularity, discontinuity) one will \n",
                        "  probably gain from splitting up the interval and calling the integrator \n",
                        "  on the subranges.  Perhaps a special-purpose integrator should be used.\n",
                        "  val, abserr = integrate.quad(\n",
                        "/var/folders/zq/v2r6yn111s3gpdf8lzf72xvw0000gn/T/ipykernel_48157/847093712.py:45: DeprecationWarning: `product` is deprecated as of NumPy 1.25.0, and will be removed in NumPy 2.0. Please use `prod` instead.\n",
                        "  cpt_fev1 = TabularCPD(\n",
                        "/var/folders/zq/v2r6yn111s3gpdf8lzf72xvw0000gn/T/ipykernel_48157/847093712.py:52: DeprecationWarning: `product` is deprecated as of NumPy 1.25.0, and will be removed in NumPy 2.0. Please use `prod` instead.\n",
                        "  cpt_o2_sat_ffa = TabularCPD(\n"
                    ]
                },
                {
                    "name": "stdout",
                    "output_type": "stream",
                    "text": [
                        "model took 38.09804892539978 seconds to build\n",
                        "inference took 0.36455297470092773 seconds to run\n",
                        "\n",
                        "Running for ID 229, with 212 observations\n",
                        "*** Building FEV1 and O2 point in time model ***\n"
                    ]
                },
                {
                    "name": "stderr",
                    "output_type": "stream",
                    "text": [
                        "/var/folders/zq/v2r6yn111s3gpdf8lzf72xvw0000gn/T/ipykernel_48157/847093712.py:24: DeprecationWarning: `product` is deprecated as of NumPy 1.25.0, and will be removed in NumPy 2.0. Please use `prod` instead.\n",
                        "  prior_hfev1 = TabularCPD(\n",
                        "/var/folders/zq/v2r6yn111s3gpdf8lzf72xvw0000gn/T/ipykernel_48157/847093712.py:31: DeprecationWarning: `product` is deprecated as of NumPy 1.25.0, and will be removed in NumPy 2.0. Please use `prod` instead.\n",
                        "  prior_ho2sat = TabularCPD(\n",
                        "/var/folders/zq/v2r6yn111s3gpdf8lzf72xvw0000gn/T/ipykernel_48157/847093712.py:38: DeprecationWarning: `product` is deprecated as of NumPy 1.25.0, and will be removed in NumPy 2.0. Please use `prod` instead.\n",
                        "  prior_ar = TabularCPD(\n",
                        "/Users/tristan.trebaol/Desktop/PhD/Code/phd/src/models/helpers.py:327: IntegrationWarning: The maximum number of subdivisions (50) has been achieved.\n",
                        "  If increasing the limit yields no improvement it is advised to analyze \n",
                        "  the integrand in order to determine the difficulties.  If the position of a \n",
                        "  local difficulty can be determined (singularity, discontinuity) one will \n",
                        "  probably gain from splitting up the interval and calling the integrator \n",
                        "  on the subranges.  Perhaps a special-purpose integrator should be used.\n",
                        "  val, abserr = integrate.quad(\n",
                        "/var/folders/zq/v2r6yn111s3gpdf8lzf72xvw0000gn/T/ipykernel_48157/847093712.py:45: DeprecationWarning: `product` is deprecated as of NumPy 1.25.0, and will be removed in NumPy 2.0. Please use `prod` instead.\n",
                        "  cpt_fev1 = TabularCPD(\n",
                        "/var/folders/zq/v2r6yn111s3gpdf8lzf72xvw0000gn/T/ipykernel_48157/847093712.py:52: DeprecationWarning: `product` is deprecated as of NumPy 1.25.0, and will be removed in NumPy 2.0. Please use `prod` instead.\n",
                        "  cpt_o2_sat_ffa = TabularCPD(\n"
                    ]
                },
                {
                    "name": "stdout",
                    "output_type": "stream",
                    "text": [
                        "model took 38.17288088798523 seconds to build\n",
                        "inference took 6.471527099609375 seconds to run\n",
                        "\n",
                        "Running for ID 230, with 192 observations\n",
                        "*** Building FEV1 and O2 point in time model ***\n"
                    ]
                },
                {
                    "name": "stderr",
                    "output_type": "stream",
                    "text": [
                        "/var/folders/zq/v2r6yn111s3gpdf8lzf72xvw0000gn/T/ipykernel_48157/847093712.py:24: DeprecationWarning: `product` is deprecated as of NumPy 1.25.0, and will be removed in NumPy 2.0. Please use `prod` instead.\n",
                        "  prior_hfev1 = TabularCPD(\n",
                        "/var/folders/zq/v2r6yn111s3gpdf8lzf72xvw0000gn/T/ipykernel_48157/847093712.py:31: DeprecationWarning: `product` is deprecated as of NumPy 1.25.0, and will be removed in NumPy 2.0. Please use `prod` instead.\n",
                        "  prior_ho2sat = TabularCPD(\n",
                        "/var/folders/zq/v2r6yn111s3gpdf8lzf72xvw0000gn/T/ipykernel_48157/847093712.py:38: DeprecationWarning: `product` is deprecated as of NumPy 1.25.0, and will be removed in NumPy 2.0. Please use `prod` instead.\n",
                        "  prior_ar = TabularCPD(\n",
                        "/Users/tristan.trebaol/Desktop/PhD/Code/phd/src/models/helpers.py:327: IntegrationWarning: The maximum number of subdivisions (50) has been achieved.\n",
                        "  If increasing the limit yields no improvement it is advised to analyze \n",
                        "  the integrand in order to determine the difficulties.  If the position of a \n",
                        "  local difficulty can be determined (singularity, discontinuity) one will \n",
                        "  probably gain from splitting up the interval and calling the integrator \n",
                        "  on the subranges.  Perhaps a special-purpose integrator should be used.\n",
                        "  val, abserr = integrate.quad(\n",
                        "/var/folders/zq/v2r6yn111s3gpdf8lzf72xvw0000gn/T/ipykernel_48157/847093712.py:45: DeprecationWarning: `product` is deprecated as of NumPy 1.25.0, and will be removed in NumPy 2.0. Please use `prod` instead.\n",
                        "  cpt_fev1 = TabularCPD(\n",
                        "/var/folders/zq/v2r6yn111s3gpdf8lzf72xvw0000gn/T/ipykernel_48157/847093712.py:52: DeprecationWarning: `product` is deprecated as of NumPy 1.25.0, and will be removed in NumPy 2.0. Please use `prod` instead.\n",
                        "  cpt_o2_sat_ffa = TabularCPD(\n"
                    ]
                },
                {
                    "name": "stdout",
                    "output_type": "stream",
                    "text": [
                        "model took 38.09384799003601 seconds to build\n",
                        "inference took 8.969795942306519 seconds to run\n",
                        "\n",
                        "Running for ID 231, with 111 observations\n",
                        "*** Building FEV1 and O2 point in time model ***\n"
                    ]
                },
                {
                    "name": "stderr",
                    "output_type": "stream",
                    "text": [
                        "/var/folders/zq/v2r6yn111s3gpdf8lzf72xvw0000gn/T/ipykernel_48157/847093712.py:24: DeprecationWarning: `product` is deprecated as of NumPy 1.25.0, and will be removed in NumPy 2.0. Please use `prod` instead.\n",
                        "  prior_hfev1 = TabularCPD(\n",
                        "/var/folders/zq/v2r6yn111s3gpdf8lzf72xvw0000gn/T/ipykernel_48157/847093712.py:31: DeprecationWarning: `product` is deprecated as of NumPy 1.25.0, and will be removed in NumPy 2.0. Please use `prod` instead.\n",
                        "  prior_ho2sat = TabularCPD(\n",
                        "/var/folders/zq/v2r6yn111s3gpdf8lzf72xvw0000gn/T/ipykernel_48157/847093712.py:38: DeprecationWarning: `product` is deprecated as of NumPy 1.25.0, and will be removed in NumPy 2.0. Please use `prod` instead.\n",
                        "  prior_ar = TabularCPD(\n",
                        "/Users/tristan.trebaol/Desktop/PhD/Code/phd/src/models/helpers.py:327: IntegrationWarning: The maximum number of subdivisions (50) has been achieved.\n",
                        "  If increasing the limit yields no improvement it is advised to analyze \n",
                        "  the integrand in order to determine the difficulties.  If the position of a \n",
                        "  local difficulty can be determined (singularity, discontinuity) one will \n",
                        "  probably gain from splitting up the interval and calling the integrator \n",
                        "  on the subranges.  Perhaps a special-purpose integrator should be used.\n",
                        "  val, abserr = integrate.quad(\n",
                        "/var/folders/zq/v2r6yn111s3gpdf8lzf72xvw0000gn/T/ipykernel_48157/847093712.py:45: DeprecationWarning: `product` is deprecated as of NumPy 1.25.0, and will be removed in NumPy 2.0. Please use `prod` instead.\n",
                        "  cpt_fev1 = TabularCPD(\n",
                        "/var/folders/zq/v2r6yn111s3gpdf8lzf72xvw0000gn/T/ipykernel_48157/847093712.py:52: DeprecationWarning: `product` is deprecated as of NumPy 1.25.0, and will be removed in NumPy 2.0. Please use `prod` instead.\n",
                        "  cpt_o2_sat_ffa = TabularCPD(\n"
                    ]
                },
                {
                    "name": "stdout",
                    "output_type": "stream",
                    "text": [
                        "model took 38.163981914520264 seconds to build\n",
                        "inference took 11.10203504562378 seconds to run\n",
                        "\n",
                        "Running for ID 232, with 16 observations\n",
                        "*** Building FEV1 and O2 point in time model ***\n"
                    ]
                },
                {
                    "name": "stderr",
                    "output_type": "stream",
                    "text": [
                        "/var/folders/zq/v2r6yn111s3gpdf8lzf72xvw0000gn/T/ipykernel_48157/847093712.py:24: DeprecationWarning: `product` is deprecated as of NumPy 1.25.0, and will be removed in NumPy 2.0. Please use `prod` instead.\n",
                        "  prior_hfev1 = TabularCPD(\n",
                        "/var/folders/zq/v2r6yn111s3gpdf8lzf72xvw0000gn/T/ipykernel_48157/847093712.py:31: DeprecationWarning: `product` is deprecated as of NumPy 1.25.0, and will be removed in NumPy 2.0. Please use `prod` instead.\n",
                        "  prior_ho2sat = TabularCPD(\n",
                        "/var/folders/zq/v2r6yn111s3gpdf8lzf72xvw0000gn/T/ipykernel_48157/847093712.py:38: DeprecationWarning: `product` is deprecated as of NumPy 1.25.0, and will be removed in NumPy 2.0. Please use `prod` instead.\n",
                        "  prior_ar = TabularCPD(\n",
                        "/Users/tristan.trebaol/Desktop/PhD/Code/phd/src/models/helpers.py:327: IntegrationWarning: The maximum number of subdivisions (50) has been achieved.\n",
                        "  If increasing the limit yields no improvement it is advised to analyze \n",
                        "  the integrand in order to determine the difficulties.  If the position of a \n",
                        "  local difficulty can be determined (singularity, discontinuity) one will \n",
                        "  probably gain from splitting up the interval and calling the integrator \n",
                        "  on the subranges.  Perhaps a special-purpose integrator should be used.\n",
                        "  val, abserr = integrate.quad(\n",
                        "/var/folders/zq/v2r6yn111s3gpdf8lzf72xvw0000gn/T/ipykernel_48157/847093712.py:45: DeprecationWarning: `product` is deprecated as of NumPy 1.25.0, and will be removed in NumPy 2.0. Please use `prod` instead.\n",
                        "  cpt_fev1 = TabularCPD(\n",
                        "/var/folders/zq/v2r6yn111s3gpdf8lzf72xvw0000gn/T/ipykernel_48157/847093712.py:52: DeprecationWarning: `product` is deprecated as of NumPy 1.25.0, and will be removed in NumPy 2.0. Please use `prod` instead.\n",
                        "  cpt_o2_sat_ffa = TabularCPD(\n"
                    ]
                },
                {
                    "name": "stdout",
                    "output_type": "stream",
                    "text": [
                        "model took 38.46127676963806 seconds to build\n",
                        "inference took 3.5933938026428223 seconds to run\n",
                        "\n",
                        "Running for ID 233, with 73 observations\n",
                        "*** Building FEV1 and O2 point in time model ***\n"
                    ]
                },
                {
                    "name": "stderr",
                    "output_type": "stream",
                    "text": [
                        "/var/folders/zq/v2r6yn111s3gpdf8lzf72xvw0000gn/T/ipykernel_48157/847093712.py:24: DeprecationWarning: `product` is deprecated as of NumPy 1.25.0, and will be removed in NumPy 2.0. Please use `prod` instead.\n",
                        "  prior_hfev1 = TabularCPD(\n",
                        "/var/folders/zq/v2r6yn111s3gpdf8lzf72xvw0000gn/T/ipykernel_48157/847093712.py:31: DeprecationWarning: `product` is deprecated as of NumPy 1.25.0, and will be removed in NumPy 2.0. Please use `prod` instead.\n",
                        "  prior_ho2sat = TabularCPD(\n",
                        "/var/folders/zq/v2r6yn111s3gpdf8lzf72xvw0000gn/T/ipykernel_48157/847093712.py:38: DeprecationWarning: `product` is deprecated as of NumPy 1.25.0, and will be removed in NumPy 2.0. Please use `prod` instead.\n",
                        "  prior_ar = TabularCPD(\n",
                        "/Users/tristan.trebaol/Desktop/PhD/Code/phd/src/models/helpers.py:327: IntegrationWarning: The maximum number of subdivisions (50) has been achieved.\n",
                        "  If increasing the limit yields no improvement it is advised to analyze \n",
                        "  the integrand in order to determine the difficulties.  If the position of a \n",
                        "  local difficulty can be determined (singularity, discontinuity) one will \n",
                        "  probably gain from splitting up the interval and calling the integrator \n",
                        "  on the subranges.  Perhaps a special-purpose integrator should be used.\n",
                        "  val, abserr = integrate.quad(\n",
                        "/var/folders/zq/v2r6yn111s3gpdf8lzf72xvw0000gn/T/ipykernel_48157/847093712.py:45: DeprecationWarning: `product` is deprecated as of NumPy 1.25.0, and will be removed in NumPy 2.0. Please use `prod` instead.\n",
                        "  cpt_fev1 = TabularCPD(\n",
                        "/var/folders/zq/v2r6yn111s3gpdf8lzf72xvw0000gn/T/ipykernel_48157/847093712.py:52: DeprecationWarning: `product` is deprecated as of NumPy 1.25.0, and will be removed in NumPy 2.0. Please use `prod` instead.\n",
                        "  cpt_o2_sat_ffa = TabularCPD(\n"
                    ]
                },
                {
                    "name": "stdout",
                    "output_type": "stream",
                    "text": [
                        "model took 38.12611770629883 seconds to build\n",
                        "inference took 11.37292194366455 seconds to run\n",
                        "\n",
                        "Running for ID 236, with 2 observations\n",
                        "*** Building FEV1 and O2 point in time model ***\n"
                    ]
                },
                {
                    "name": "stderr",
                    "output_type": "stream",
                    "text": [
                        "/var/folders/zq/v2r6yn111s3gpdf8lzf72xvw0000gn/T/ipykernel_48157/847093712.py:24: DeprecationWarning: `product` is deprecated as of NumPy 1.25.0, and will be removed in NumPy 2.0. Please use `prod` instead.\n",
                        "  prior_hfev1 = TabularCPD(\n",
                        "/var/folders/zq/v2r6yn111s3gpdf8lzf72xvw0000gn/T/ipykernel_48157/847093712.py:31: DeprecationWarning: `product` is deprecated as of NumPy 1.25.0, and will be removed in NumPy 2.0. Please use `prod` instead.\n",
                        "  prior_ho2sat = TabularCPD(\n",
                        "/var/folders/zq/v2r6yn111s3gpdf8lzf72xvw0000gn/T/ipykernel_48157/847093712.py:38: DeprecationWarning: `product` is deprecated as of NumPy 1.25.0, and will be removed in NumPy 2.0. Please use `prod` instead.\n",
                        "  prior_ar = TabularCPD(\n",
                        "/Users/tristan.trebaol/Desktop/PhD/Code/phd/src/models/helpers.py:327: IntegrationWarning: The maximum number of subdivisions (50) has been achieved.\n",
                        "  If increasing the limit yields no improvement it is advised to analyze \n",
                        "  the integrand in order to determine the difficulties.  If the position of a \n",
                        "  local difficulty can be determined (singularity, discontinuity) one will \n",
                        "  probably gain from splitting up the interval and calling the integrator \n",
                        "  on the subranges.  Perhaps a special-purpose integrator should be used.\n",
                        "  val, abserr = integrate.quad(\n",
                        "/var/folders/zq/v2r6yn111s3gpdf8lzf72xvw0000gn/T/ipykernel_48157/847093712.py:45: DeprecationWarning: `product` is deprecated as of NumPy 1.25.0, and will be removed in NumPy 2.0. Please use `prod` instead.\n",
                        "  cpt_fev1 = TabularCPD(\n",
                        "/var/folders/zq/v2r6yn111s3gpdf8lzf72xvw0000gn/T/ipykernel_48157/847093712.py:52: DeprecationWarning: `product` is deprecated as of NumPy 1.25.0, and will be removed in NumPy 2.0. Please use `prod` instead.\n",
                        "  cpt_o2_sat_ffa = TabularCPD(\n"
                    ]
                },
                {
                    "name": "stdout",
                    "output_type": "stream",
                    "text": [
                        "model took 38.126914739608765 seconds to build\n",
                        "inference took 0.5203871726989746 seconds to run\n",
                        "\n",
                        "Running for ID 237, with 181 observations\n",
                        "*** Building FEV1 and O2 point in time model ***\n"
                    ]
                },
                {
                    "name": "stderr",
                    "output_type": "stream",
                    "text": [
                        "/var/folders/zq/v2r6yn111s3gpdf8lzf72xvw0000gn/T/ipykernel_48157/847093712.py:24: DeprecationWarning: `product` is deprecated as of NumPy 1.25.0, and will be removed in NumPy 2.0. Please use `prod` instead.\n",
                        "  prior_hfev1 = TabularCPD(\n",
                        "/var/folders/zq/v2r6yn111s3gpdf8lzf72xvw0000gn/T/ipykernel_48157/847093712.py:31: DeprecationWarning: `product` is deprecated as of NumPy 1.25.0, and will be removed in NumPy 2.0. Please use `prod` instead.\n",
                        "  prior_ho2sat = TabularCPD(\n",
                        "/var/folders/zq/v2r6yn111s3gpdf8lzf72xvw0000gn/T/ipykernel_48157/847093712.py:38: DeprecationWarning: `product` is deprecated as of NumPy 1.25.0, and will be removed in NumPy 2.0. Please use `prod` instead.\n",
                        "  prior_ar = TabularCPD(\n",
                        "/Users/tristan.trebaol/Desktop/PhD/Code/phd/src/models/helpers.py:327: IntegrationWarning: The maximum number of subdivisions (50) has been achieved.\n",
                        "  If increasing the limit yields no improvement it is advised to analyze \n",
                        "  the integrand in order to determine the difficulties.  If the position of a \n",
                        "  local difficulty can be determined (singularity, discontinuity) one will \n",
                        "  probably gain from splitting up the interval and calling the integrator \n",
                        "  on the subranges.  Perhaps a special-purpose integrator should be used.\n",
                        "  val, abserr = integrate.quad(\n",
                        "/var/folders/zq/v2r6yn111s3gpdf8lzf72xvw0000gn/T/ipykernel_48157/847093712.py:45: DeprecationWarning: `product` is deprecated as of NumPy 1.25.0, and will be removed in NumPy 2.0. Please use `prod` instead.\n",
                        "  cpt_fev1 = TabularCPD(\n",
                        "/var/folders/zq/v2r6yn111s3gpdf8lzf72xvw0000gn/T/ipykernel_48157/847093712.py:52: DeprecationWarning: `product` is deprecated as of NumPy 1.25.0, and will be removed in NumPy 2.0. Please use `prod` instead.\n",
                        "  cpt_o2_sat_ffa = TabularCPD(\n"
                    ]
                },
                {
                    "name": "stdout",
                    "output_type": "stream",
                    "text": [
                        "model took 38.23798608779907 seconds to build\n",
                        "inference took 15.618605136871338 seconds to run\n",
                        "\n",
                        "Running for ID 238, with 125 observations\n",
                        "*** Building FEV1 and O2 point in time model ***\n"
                    ]
                },
                {
                    "name": "stderr",
                    "output_type": "stream",
                    "text": [
                        "/var/folders/zq/v2r6yn111s3gpdf8lzf72xvw0000gn/T/ipykernel_48157/847093712.py:24: DeprecationWarning: `product` is deprecated as of NumPy 1.25.0, and will be removed in NumPy 2.0. Please use `prod` instead.\n",
                        "  prior_hfev1 = TabularCPD(\n",
                        "/var/folders/zq/v2r6yn111s3gpdf8lzf72xvw0000gn/T/ipykernel_48157/847093712.py:31: DeprecationWarning: `product` is deprecated as of NumPy 1.25.0, and will be removed in NumPy 2.0. Please use `prod` instead.\n",
                        "  prior_ho2sat = TabularCPD(\n",
                        "/var/folders/zq/v2r6yn111s3gpdf8lzf72xvw0000gn/T/ipykernel_48157/847093712.py:38: DeprecationWarning: `product` is deprecated as of NumPy 1.25.0, and will be removed in NumPy 2.0. Please use `prod` instead.\n",
                        "  prior_ar = TabularCPD(\n",
                        "/Users/tristan.trebaol/Desktop/PhD/Code/phd/src/models/helpers.py:327: IntegrationWarning: The maximum number of subdivisions (50) has been achieved.\n",
                        "  If increasing the limit yields no improvement it is advised to analyze \n",
                        "  the integrand in order to determine the difficulties.  If the position of a \n",
                        "  local difficulty can be determined (singularity, discontinuity) one will \n",
                        "  probably gain from splitting up the interval and calling the integrator \n",
                        "  on the subranges.  Perhaps a special-purpose integrator should be used.\n",
                        "  val, abserr = integrate.quad(\n",
                        "/var/folders/zq/v2r6yn111s3gpdf8lzf72xvw0000gn/T/ipykernel_48157/847093712.py:45: DeprecationWarning: `product` is deprecated as of NumPy 1.25.0, and will be removed in NumPy 2.0. Please use `prod` instead.\n",
                        "  cpt_fev1 = TabularCPD(\n",
                        "/var/folders/zq/v2r6yn111s3gpdf8lzf72xvw0000gn/T/ipykernel_48157/847093712.py:52: DeprecationWarning: `product` is deprecated as of NumPy 1.25.0, and will be removed in NumPy 2.0. Please use `prod` instead.\n",
                        "  cpt_o2_sat_ffa = TabularCPD(\n"
                    ]
                },
                {
                    "name": "stdout",
                    "output_type": "stream",
                    "text": [
                        "model took 38.16551876068115 seconds to build\n",
                        "inference took 9.58603811264038 seconds to run\n",
                        "\n",
                        "Running for ID 239, with 36 observations\n",
                        "*** Building FEV1 and O2 point in time model ***\n"
                    ]
                },
                {
                    "name": "stderr",
                    "output_type": "stream",
                    "text": [
                        "/var/folders/zq/v2r6yn111s3gpdf8lzf72xvw0000gn/T/ipykernel_48157/847093712.py:24: DeprecationWarning: `product` is deprecated as of NumPy 1.25.0, and will be removed in NumPy 2.0. Please use `prod` instead.\n",
                        "  prior_hfev1 = TabularCPD(\n",
                        "/var/folders/zq/v2r6yn111s3gpdf8lzf72xvw0000gn/T/ipykernel_48157/847093712.py:31: DeprecationWarning: `product` is deprecated as of NumPy 1.25.0, and will be removed in NumPy 2.0. Please use `prod` instead.\n",
                        "  prior_ho2sat = TabularCPD(\n",
                        "/var/folders/zq/v2r6yn111s3gpdf8lzf72xvw0000gn/T/ipykernel_48157/847093712.py:38: DeprecationWarning: `product` is deprecated as of NumPy 1.25.0, and will be removed in NumPy 2.0. Please use `prod` instead.\n",
                        "  prior_ar = TabularCPD(\n",
                        "/Users/tristan.trebaol/Desktop/PhD/Code/phd/src/models/helpers.py:327: IntegrationWarning: The maximum number of subdivisions (50) has been achieved.\n",
                        "  If increasing the limit yields no improvement it is advised to analyze \n",
                        "  the integrand in order to determine the difficulties.  If the position of a \n",
                        "  local difficulty can be determined (singularity, discontinuity) one will \n",
                        "  probably gain from splitting up the interval and calling the integrator \n",
                        "  on the subranges.  Perhaps a special-purpose integrator should be used.\n",
                        "  val, abserr = integrate.quad(\n",
                        "/var/folders/zq/v2r6yn111s3gpdf8lzf72xvw0000gn/T/ipykernel_48157/847093712.py:45: DeprecationWarning: `product` is deprecated as of NumPy 1.25.0, and will be removed in NumPy 2.0. Please use `prod` instead.\n",
                        "  cpt_fev1 = TabularCPD(\n",
                        "/var/folders/zq/v2r6yn111s3gpdf8lzf72xvw0000gn/T/ipykernel_48157/847093712.py:52: DeprecationWarning: `product` is deprecated as of NumPy 1.25.0, and will be removed in NumPy 2.0. Please use `prod` instead.\n",
                        "  cpt_o2_sat_ffa = TabularCPD(\n"
                    ]
                },
                {
                    "name": "stdout",
                    "output_type": "stream",
                    "text": [
                        "model took 38.217472076416016 seconds to build\n",
                        "inference took 6.123104095458984 seconds to run\n",
                        "\n",
                        "Running for ID 240, with 323 observations\n",
                        "*** Building FEV1 and O2 point in time model ***\n"
                    ]
                },
                {
                    "name": "stderr",
                    "output_type": "stream",
                    "text": [
                        "/var/folders/zq/v2r6yn111s3gpdf8lzf72xvw0000gn/T/ipykernel_48157/847093712.py:24: DeprecationWarning: `product` is deprecated as of NumPy 1.25.0, and will be removed in NumPy 2.0. Please use `prod` instead.\n",
                        "  prior_hfev1 = TabularCPD(\n",
                        "/var/folders/zq/v2r6yn111s3gpdf8lzf72xvw0000gn/T/ipykernel_48157/847093712.py:31: DeprecationWarning: `product` is deprecated as of NumPy 1.25.0, and will be removed in NumPy 2.0. Please use `prod` instead.\n",
                        "  prior_ho2sat = TabularCPD(\n",
                        "/var/folders/zq/v2r6yn111s3gpdf8lzf72xvw0000gn/T/ipykernel_48157/847093712.py:38: DeprecationWarning: `product` is deprecated as of NumPy 1.25.0, and will be removed in NumPy 2.0. Please use `prod` instead.\n",
                        "  prior_ar = TabularCPD(\n",
                        "/Users/tristan.trebaol/Desktop/PhD/Code/phd/src/models/helpers.py:327: IntegrationWarning: The maximum number of subdivisions (50) has been achieved.\n",
                        "  If increasing the limit yields no improvement it is advised to analyze \n",
                        "  the integrand in order to determine the difficulties.  If the position of a \n",
                        "  local difficulty can be determined (singularity, discontinuity) one will \n",
                        "  probably gain from splitting up the interval and calling the integrator \n",
                        "  on the subranges.  Perhaps a special-purpose integrator should be used.\n",
                        "  val, abserr = integrate.quad(\n",
                        "/var/folders/zq/v2r6yn111s3gpdf8lzf72xvw0000gn/T/ipykernel_48157/847093712.py:45: DeprecationWarning: `product` is deprecated as of NumPy 1.25.0, and will be removed in NumPy 2.0. Please use `prod` instead.\n",
                        "  cpt_fev1 = TabularCPD(\n",
                        "/var/folders/zq/v2r6yn111s3gpdf8lzf72xvw0000gn/T/ipykernel_48157/847093712.py:52: DeprecationWarning: `product` is deprecated as of NumPy 1.25.0, and will be removed in NumPy 2.0. Please use `prod` instead.\n",
                        "  cpt_o2_sat_ffa = TabularCPD(\n"
                    ]
                },
                {
                    "name": "stdout",
                    "output_type": "stream",
                    "text": [
                        "model took 38.31364989280701 seconds to build\n",
                        "inference took 7.560369968414307 seconds to run\n",
                        "\n",
                        "Running for ID 241, with 4 observations\n",
                        "*** Building FEV1 and O2 point in time model ***\n"
                    ]
                },
                {
                    "name": "stderr",
                    "output_type": "stream",
                    "text": [
                        "/var/folders/zq/v2r6yn111s3gpdf8lzf72xvw0000gn/T/ipykernel_48157/847093712.py:24: DeprecationWarning: `product` is deprecated as of NumPy 1.25.0, and will be removed in NumPy 2.0. Please use `prod` instead.\n",
                        "  prior_hfev1 = TabularCPD(\n",
                        "/var/folders/zq/v2r6yn111s3gpdf8lzf72xvw0000gn/T/ipykernel_48157/847093712.py:31: DeprecationWarning: `product` is deprecated as of NumPy 1.25.0, and will be removed in NumPy 2.0. Please use `prod` instead.\n",
                        "  prior_ho2sat = TabularCPD(\n",
                        "/var/folders/zq/v2r6yn111s3gpdf8lzf72xvw0000gn/T/ipykernel_48157/847093712.py:38: DeprecationWarning: `product` is deprecated as of NumPy 1.25.0, and will be removed in NumPy 2.0. Please use `prod` instead.\n",
                        "  prior_ar = TabularCPD(\n",
                        "/Users/tristan.trebaol/Desktop/PhD/Code/phd/src/models/helpers.py:327: IntegrationWarning: The maximum number of subdivisions (50) has been achieved.\n",
                        "  If increasing the limit yields no improvement it is advised to analyze \n",
                        "  the integrand in order to determine the difficulties.  If the position of a \n",
                        "  local difficulty can be determined (singularity, discontinuity) one will \n",
                        "  probably gain from splitting up the interval and calling the integrator \n",
                        "  on the subranges.  Perhaps a special-purpose integrator should be used.\n",
                        "  val, abserr = integrate.quad(\n",
                        "/var/folders/zq/v2r6yn111s3gpdf8lzf72xvw0000gn/T/ipykernel_48157/847093712.py:45: DeprecationWarning: `product` is deprecated as of NumPy 1.25.0, and will be removed in NumPy 2.0. Please use `prod` instead.\n",
                        "  cpt_fev1 = TabularCPD(\n",
                        "/var/folders/zq/v2r6yn111s3gpdf8lzf72xvw0000gn/T/ipykernel_48157/847093712.py:52: DeprecationWarning: `product` is deprecated as of NumPy 1.25.0, and will be removed in NumPy 2.0. Please use `prod` instead.\n",
                        "  cpt_o2_sat_ffa = TabularCPD(\n"
                    ]
                },
                {
                    "name": "stdout",
                    "output_type": "stream",
                    "text": [
                        "model took 38.44370985031128 seconds to build\n",
                        "inference took 1.0240888595581055 seconds to run\n",
                        "\n",
                        "Running for ID 242, with 154 observations\n",
                        "*** Building FEV1 and O2 point in time model ***\n"
                    ]
                },
                {
                    "name": "stderr",
                    "output_type": "stream",
                    "text": [
                        "/var/folders/zq/v2r6yn111s3gpdf8lzf72xvw0000gn/T/ipykernel_48157/847093712.py:24: DeprecationWarning: `product` is deprecated as of NumPy 1.25.0, and will be removed in NumPy 2.0. Please use `prod` instead.\n",
                        "  prior_hfev1 = TabularCPD(\n",
                        "/var/folders/zq/v2r6yn111s3gpdf8lzf72xvw0000gn/T/ipykernel_48157/847093712.py:31: DeprecationWarning: `product` is deprecated as of NumPy 1.25.0, and will be removed in NumPy 2.0. Please use `prod` instead.\n",
                        "  prior_ho2sat = TabularCPD(\n",
                        "/var/folders/zq/v2r6yn111s3gpdf8lzf72xvw0000gn/T/ipykernel_48157/847093712.py:38: DeprecationWarning: `product` is deprecated as of NumPy 1.25.0, and will be removed in NumPy 2.0. Please use `prod` instead.\n",
                        "  prior_ar = TabularCPD(\n",
                        "/Users/tristan.trebaol/Desktop/PhD/Code/phd/src/models/helpers.py:327: IntegrationWarning: The maximum number of subdivisions (50) has been achieved.\n",
                        "  If increasing the limit yields no improvement it is advised to analyze \n",
                        "  the integrand in order to determine the difficulties.  If the position of a \n",
                        "  local difficulty can be determined (singularity, discontinuity) one will \n",
                        "  probably gain from splitting up the interval and calling the integrator \n",
                        "  on the subranges.  Perhaps a special-purpose integrator should be used.\n",
                        "  val, abserr = integrate.quad(\n",
                        "/var/folders/zq/v2r6yn111s3gpdf8lzf72xvw0000gn/T/ipykernel_48157/847093712.py:45: DeprecationWarning: `product` is deprecated as of NumPy 1.25.0, and will be removed in NumPy 2.0. Please use `prod` instead.\n",
                        "  cpt_fev1 = TabularCPD(\n",
                        "/var/folders/zq/v2r6yn111s3gpdf8lzf72xvw0000gn/T/ipykernel_48157/847093712.py:52: DeprecationWarning: `product` is deprecated as of NumPy 1.25.0, and will be removed in NumPy 2.0. Please use `prod` instead.\n",
                        "  cpt_o2_sat_ffa = TabularCPD(\n"
                    ]
                },
                {
                    "name": "stdout",
                    "output_type": "stream",
                    "text": [
                        "model took 38.20956492424011 seconds to build\n",
                        "inference took 10.253261089324951 seconds to run\n",
                        "\n",
                        "Running for ID 243, with 16 observations\n",
                        "*** Building FEV1 and O2 point in time model ***\n"
                    ]
                },
                {
                    "name": "stderr",
                    "output_type": "stream",
                    "text": [
                        "/var/folders/zq/v2r6yn111s3gpdf8lzf72xvw0000gn/T/ipykernel_48157/847093712.py:24: DeprecationWarning: `product` is deprecated as of NumPy 1.25.0, and will be removed in NumPy 2.0. Please use `prod` instead.\n",
                        "  prior_hfev1 = TabularCPD(\n",
                        "/var/folders/zq/v2r6yn111s3gpdf8lzf72xvw0000gn/T/ipykernel_48157/847093712.py:31: DeprecationWarning: `product` is deprecated as of NumPy 1.25.0, and will be removed in NumPy 2.0. Please use `prod` instead.\n",
                        "  prior_ho2sat = TabularCPD(\n",
                        "/var/folders/zq/v2r6yn111s3gpdf8lzf72xvw0000gn/T/ipykernel_48157/847093712.py:38: DeprecationWarning: `product` is deprecated as of NumPy 1.25.0, and will be removed in NumPy 2.0. Please use `prod` instead.\n",
                        "  prior_ar = TabularCPD(\n",
                        "/Users/tristan.trebaol/Desktop/PhD/Code/phd/src/models/helpers.py:327: IntegrationWarning: The maximum number of subdivisions (50) has been achieved.\n",
                        "  If increasing the limit yields no improvement it is advised to analyze \n",
                        "  the integrand in order to determine the difficulties.  If the position of a \n",
                        "  local difficulty can be determined (singularity, discontinuity) one will \n",
                        "  probably gain from splitting up the interval and calling the integrator \n",
                        "  on the subranges.  Perhaps a special-purpose integrator should be used.\n",
                        "  val, abserr = integrate.quad(\n",
                        "/var/folders/zq/v2r6yn111s3gpdf8lzf72xvw0000gn/T/ipykernel_48157/847093712.py:45: DeprecationWarning: `product` is deprecated as of NumPy 1.25.0, and will be removed in NumPy 2.0. Please use `prod` instead.\n",
                        "  cpt_fev1 = TabularCPD(\n",
                        "/var/folders/zq/v2r6yn111s3gpdf8lzf72xvw0000gn/T/ipykernel_48157/847093712.py:52: DeprecationWarning: `product` is deprecated as of NumPy 1.25.0, and will be removed in NumPy 2.0. Please use `prod` instead.\n",
                        "  cpt_o2_sat_ffa = TabularCPD(\n"
                    ]
                },
                {
                    "name": "stdout",
                    "output_type": "stream",
                    "text": [
                        "model took 38.207967042922974 seconds to build\n",
                        "inference took 2.8848721981048584 seconds to run\n",
                        "\n",
                        "Running for ID 245, with 10 observations\n",
                        "*** Building FEV1 and O2 point in time model ***\n"
                    ]
                },
                {
                    "name": "stderr",
                    "output_type": "stream",
                    "text": [
                        "/var/folders/zq/v2r6yn111s3gpdf8lzf72xvw0000gn/T/ipykernel_48157/847093712.py:24: DeprecationWarning: `product` is deprecated as of NumPy 1.25.0, and will be removed in NumPy 2.0. Please use `prod` instead.\n",
                        "  prior_hfev1 = TabularCPD(\n",
                        "/var/folders/zq/v2r6yn111s3gpdf8lzf72xvw0000gn/T/ipykernel_48157/847093712.py:31: DeprecationWarning: `product` is deprecated as of NumPy 1.25.0, and will be removed in NumPy 2.0. Please use `prod` instead.\n",
                        "  prior_ho2sat = TabularCPD(\n",
                        "/var/folders/zq/v2r6yn111s3gpdf8lzf72xvw0000gn/T/ipykernel_48157/847093712.py:38: DeprecationWarning: `product` is deprecated as of NumPy 1.25.0, and will be removed in NumPy 2.0. Please use `prod` instead.\n",
                        "  prior_ar = TabularCPD(\n",
                        "/Users/tristan.trebaol/Desktop/PhD/Code/phd/src/models/helpers.py:327: IntegrationWarning: The maximum number of subdivisions (50) has been achieved.\n",
                        "  If increasing the limit yields no improvement it is advised to analyze \n",
                        "  the integrand in order to determine the difficulties.  If the position of a \n",
                        "  local difficulty can be determined (singularity, discontinuity) one will \n",
                        "  probably gain from splitting up the interval and calling the integrator \n",
                        "  on the subranges.  Perhaps a special-purpose integrator should be used.\n",
                        "  val, abserr = integrate.quad(\n",
                        "/var/folders/zq/v2r6yn111s3gpdf8lzf72xvw0000gn/T/ipykernel_48157/847093712.py:45: DeprecationWarning: `product` is deprecated as of NumPy 1.25.0, and will be removed in NumPy 2.0. Please use `prod` instead.\n",
                        "  cpt_fev1 = TabularCPD(\n",
                        "/var/folders/zq/v2r6yn111s3gpdf8lzf72xvw0000gn/T/ipykernel_48157/847093712.py:52: DeprecationWarning: `product` is deprecated as of NumPy 1.25.0, and will be removed in NumPy 2.0. Please use `prod` instead.\n",
                        "  cpt_o2_sat_ffa = TabularCPD(\n"
                    ]
                },
                {
                    "name": "stdout",
                    "output_type": "stream",
                    "text": [
                        "model took 38.03589987754822 seconds to build\n",
                        "inference took 2.376811981201172 seconds to run\n",
                        "\n",
                        "Running for ID 247, with 27 observations\n",
                        "*** Building FEV1 and O2 point in time model ***\n"
                    ]
                },
                {
                    "name": "stderr",
                    "output_type": "stream",
                    "text": [
                        "/var/folders/zq/v2r6yn111s3gpdf8lzf72xvw0000gn/T/ipykernel_48157/847093712.py:24: DeprecationWarning: `product` is deprecated as of NumPy 1.25.0, and will be removed in NumPy 2.0. Please use `prod` instead.\n",
                        "  prior_hfev1 = TabularCPD(\n",
                        "/var/folders/zq/v2r6yn111s3gpdf8lzf72xvw0000gn/T/ipykernel_48157/847093712.py:31: DeprecationWarning: `product` is deprecated as of NumPy 1.25.0, and will be removed in NumPy 2.0. Please use `prod` instead.\n",
                        "  prior_ho2sat = TabularCPD(\n",
                        "/var/folders/zq/v2r6yn111s3gpdf8lzf72xvw0000gn/T/ipykernel_48157/847093712.py:38: DeprecationWarning: `product` is deprecated as of NumPy 1.25.0, and will be removed in NumPy 2.0. Please use `prod` instead.\n",
                        "  prior_ar = TabularCPD(\n",
                        "/Users/tristan.trebaol/Desktop/PhD/Code/phd/src/models/helpers.py:327: IntegrationWarning: The maximum number of subdivisions (50) has been achieved.\n",
                        "  If increasing the limit yields no improvement it is advised to analyze \n",
                        "  the integrand in order to determine the difficulties.  If the position of a \n",
                        "  local difficulty can be determined (singularity, discontinuity) one will \n",
                        "  probably gain from splitting up the interval and calling the integrator \n",
                        "  on the subranges.  Perhaps a special-purpose integrator should be used.\n",
                        "  val, abserr = integrate.quad(\n",
                        "/var/folders/zq/v2r6yn111s3gpdf8lzf72xvw0000gn/T/ipykernel_48157/847093712.py:45: DeprecationWarning: `product` is deprecated as of NumPy 1.25.0, and will be removed in NumPy 2.0. Please use `prod` instead.\n",
                        "  cpt_fev1 = TabularCPD(\n",
                        "/var/folders/zq/v2r6yn111s3gpdf8lzf72xvw0000gn/T/ipykernel_48157/847093712.py:52: DeprecationWarning: `product` is deprecated as of NumPy 1.25.0, and will be removed in NumPy 2.0. Please use `prod` instead.\n",
                        "  cpt_o2_sat_ffa = TabularCPD(\n"
                    ]
                },
                {
                    "name": "stdout",
                    "output_type": "stream",
                    "text": [
                        "model took 38.12485384941101 seconds to build\n",
                        "inference took 4.250004053115845 seconds to run\n",
                        "\n",
                        "Running for ID 248, with 1 observations\n",
                        "*** Building FEV1 and O2 point in time model ***\n"
                    ]
                },
                {
                    "name": "stderr",
                    "output_type": "stream",
                    "text": [
                        "/var/folders/zq/v2r6yn111s3gpdf8lzf72xvw0000gn/T/ipykernel_48157/847093712.py:24: DeprecationWarning: `product` is deprecated as of NumPy 1.25.0, and will be removed in NumPy 2.0. Please use `prod` instead.\n",
                        "  prior_hfev1 = TabularCPD(\n",
                        "/var/folders/zq/v2r6yn111s3gpdf8lzf72xvw0000gn/T/ipykernel_48157/847093712.py:31: DeprecationWarning: `product` is deprecated as of NumPy 1.25.0, and will be removed in NumPy 2.0. Please use `prod` instead.\n",
                        "  prior_ho2sat = TabularCPD(\n",
                        "/var/folders/zq/v2r6yn111s3gpdf8lzf72xvw0000gn/T/ipykernel_48157/847093712.py:38: DeprecationWarning: `product` is deprecated as of NumPy 1.25.0, and will be removed in NumPy 2.0. Please use `prod` instead.\n",
                        "  prior_ar = TabularCPD(\n",
                        "/Users/tristan.trebaol/Desktop/PhD/Code/phd/src/models/helpers.py:327: IntegrationWarning: The maximum number of subdivisions (50) has been achieved.\n",
                        "  If increasing the limit yields no improvement it is advised to analyze \n",
                        "  the integrand in order to determine the difficulties.  If the position of a \n",
                        "  local difficulty can be determined (singularity, discontinuity) one will \n",
                        "  probably gain from splitting up the interval and calling the integrator \n",
                        "  on the subranges.  Perhaps a special-purpose integrator should be used.\n",
                        "  val, abserr = integrate.quad(\n",
                        "/var/folders/zq/v2r6yn111s3gpdf8lzf72xvw0000gn/T/ipykernel_48157/847093712.py:45: DeprecationWarning: `product` is deprecated as of NumPy 1.25.0, and will be removed in NumPy 2.0. Please use `prod` instead.\n",
                        "  cpt_fev1 = TabularCPD(\n",
                        "/var/folders/zq/v2r6yn111s3gpdf8lzf72xvw0000gn/T/ipykernel_48157/847093712.py:52: DeprecationWarning: `product` is deprecated as of NumPy 1.25.0, and will be removed in NumPy 2.0. Please use `prod` instead.\n",
                        "  cpt_o2_sat_ffa = TabularCPD(\n"
                    ]
                },
                {
                    "name": "stdout",
                    "output_type": "stream",
                    "text": [
                        "model took 38.26104974746704 seconds to build\n",
                        "inference took 0.5427320003509521 seconds to run\n",
                        "\n",
                        "Running for ID 249, with 73 observations\n",
                        "*** Building FEV1 and O2 point in time model ***\n"
                    ]
                },
                {
                    "name": "stderr",
                    "output_type": "stream",
                    "text": [
                        "/var/folders/zq/v2r6yn111s3gpdf8lzf72xvw0000gn/T/ipykernel_48157/847093712.py:24: DeprecationWarning: `product` is deprecated as of NumPy 1.25.0, and will be removed in NumPy 2.0. Please use `prod` instead.\n",
                        "  prior_hfev1 = TabularCPD(\n",
                        "/var/folders/zq/v2r6yn111s3gpdf8lzf72xvw0000gn/T/ipykernel_48157/847093712.py:31: DeprecationWarning: `product` is deprecated as of NumPy 1.25.0, and will be removed in NumPy 2.0. Please use `prod` instead.\n",
                        "  prior_ho2sat = TabularCPD(\n",
                        "/var/folders/zq/v2r6yn111s3gpdf8lzf72xvw0000gn/T/ipykernel_48157/847093712.py:38: DeprecationWarning: `product` is deprecated as of NumPy 1.25.0, and will be removed in NumPy 2.0. Please use `prod` instead.\n",
                        "  prior_ar = TabularCPD(\n",
                        "/Users/tristan.trebaol/Desktop/PhD/Code/phd/src/models/helpers.py:327: IntegrationWarning: The maximum number of subdivisions (50) has been achieved.\n",
                        "  If increasing the limit yields no improvement it is advised to analyze \n",
                        "  the integrand in order to determine the difficulties.  If the position of a \n",
                        "  local difficulty can be determined (singularity, discontinuity) one will \n",
                        "  probably gain from splitting up the interval and calling the integrator \n",
                        "  on the subranges.  Perhaps a special-purpose integrator should be used.\n",
                        "  val, abserr = integrate.quad(\n",
                        "/var/folders/zq/v2r6yn111s3gpdf8lzf72xvw0000gn/T/ipykernel_48157/847093712.py:45: DeprecationWarning: `product` is deprecated as of NumPy 1.25.0, and will be removed in NumPy 2.0. Please use `prod` instead.\n",
                        "  cpt_fev1 = TabularCPD(\n",
                        "/var/folders/zq/v2r6yn111s3gpdf8lzf72xvw0000gn/T/ipykernel_48157/847093712.py:52: DeprecationWarning: `product` is deprecated as of NumPy 1.25.0, and will be removed in NumPy 2.0. Please use `prod` instead.\n",
                        "  cpt_o2_sat_ffa = TabularCPD(\n"
                    ]
                },
                {
                    "name": "stdout",
                    "output_type": "stream",
                    "text": [
                        "model took 38.15407991409302 seconds to build\n",
                        "inference took 8.684422016143799 seconds to run\n",
                        "\n",
                        "Running for ID 250, with 212 observations\n",
                        "*** Building FEV1 and O2 point in time model ***\n"
                    ]
                },
                {
                    "name": "stderr",
                    "output_type": "stream",
                    "text": [
                        "/var/folders/zq/v2r6yn111s3gpdf8lzf72xvw0000gn/T/ipykernel_48157/847093712.py:24: DeprecationWarning: `product` is deprecated as of NumPy 1.25.0, and will be removed in NumPy 2.0. Please use `prod` instead.\n",
                        "  prior_hfev1 = TabularCPD(\n",
                        "/var/folders/zq/v2r6yn111s3gpdf8lzf72xvw0000gn/T/ipykernel_48157/847093712.py:31: DeprecationWarning: `product` is deprecated as of NumPy 1.25.0, and will be removed in NumPy 2.0. Please use `prod` instead.\n",
                        "  prior_ho2sat = TabularCPD(\n",
                        "/var/folders/zq/v2r6yn111s3gpdf8lzf72xvw0000gn/T/ipykernel_48157/847093712.py:38: DeprecationWarning: `product` is deprecated as of NumPy 1.25.0, and will be removed in NumPy 2.0. Please use `prod` instead.\n",
                        "  prior_ar = TabularCPD(\n",
                        "/Users/tristan.trebaol/Desktop/PhD/Code/phd/src/models/helpers.py:327: IntegrationWarning: The maximum number of subdivisions (50) has been achieved.\n",
                        "  If increasing the limit yields no improvement it is advised to analyze \n",
                        "  the integrand in order to determine the difficulties.  If the position of a \n",
                        "  local difficulty can be determined (singularity, discontinuity) one will \n",
                        "  probably gain from splitting up the interval and calling the integrator \n",
                        "  on the subranges.  Perhaps a special-purpose integrator should be used.\n",
                        "  val, abserr = integrate.quad(\n",
                        "/var/folders/zq/v2r6yn111s3gpdf8lzf72xvw0000gn/T/ipykernel_48157/847093712.py:45: DeprecationWarning: `product` is deprecated as of NumPy 1.25.0, and will be removed in NumPy 2.0. Please use `prod` instead.\n",
                        "  cpt_fev1 = TabularCPD(\n",
                        "/var/folders/zq/v2r6yn111s3gpdf8lzf72xvw0000gn/T/ipykernel_48157/847093712.py:52: DeprecationWarning: `product` is deprecated as of NumPy 1.25.0, and will be removed in NumPy 2.0. Please use `prod` instead.\n",
                        "  cpt_o2_sat_ffa = TabularCPD(\n"
                    ]
                },
                {
                    "name": "stdout",
                    "output_type": "stream",
                    "text": [
                        "model took 38.22203516960144 seconds to build\n",
                        "inference took 16.359591007232666 seconds to run\n",
                        "\n",
                        "Running for ID 251, with 94 observations\n",
                        "*** Building FEV1 and O2 point in time model ***\n"
                    ]
                },
                {
                    "name": "stderr",
                    "output_type": "stream",
                    "text": [
                        "/var/folders/zq/v2r6yn111s3gpdf8lzf72xvw0000gn/T/ipykernel_48157/847093712.py:24: DeprecationWarning: `product` is deprecated as of NumPy 1.25.0, and will be removed in NumPy 2.0. Please use `prod` instead.\n",
                        "  prior_hfev1 = TabularCPD(\n",
                        "/var/folders/zq/v2r6yn111s3gpdf8lzf72xvw0000gn/T/ipykernel_48157/847093712.py:31: DeprecationWarning: `product` is deprecated as of NumPy 1.25.0, and will be removed in NumPy 2.0. Please use `prod` instead.\n",
                        "  prior_ho2sat = TabularCPD(\n",
                        "/var/folders/zq/v2r6yn111s3gpdf8lzf72xvw0000gn/T/ipykernel_48157/847093712.py:38: DeprecationWarning: `product` is deprecated as of NumPy 1.25.0, and will be removed in NumPy 2.0. Please use `prod` instead.\n",
                        "  prior_ar = TabularCPD(\n",
                        "/Users/tristan.trebaol/Desktop/PhD/Code/phd/src/models/helpers.py:327: IntegrationWarning: The maximum number of subdivisions (50) has been achieved.\n",
                        "  If increasing the limit yields no improvement it is advised to analyze \n",
                        "  the integrand in order to determine the difficulties.  If the position of a \n",
                        "  local difficulty can be determined (singularity, discontinuity) one will \n",
                        "  probably gain from splitting up the interval and calling the integrator \n",
                        "  on the subranges.  Perhaps a special-purpose integrator should be used.\n",
                        "  val, abserr = integrate.quad(\n",
                        "/var/folders/zq/v2r6yn111s3gpdf8lzf72xvw0000gn/T/ipykernel_48157/847093712.py:45: DeprecationWarning: `product` is deprecated as of NumPy 1.25.0, and will be removed in NumPy 2.0. Please use `prod` instead.\n",
                        "  cpt_fev1 = TabularCPD(\n",
                        "/var/folders/zq/v2r6yn111s3gpdf8lzf72xvw0000gn/T/ipykernel_48157/847093712.py:52: DeprecationWarning: `product` is deprecated as of NumPy 1.25.0, and will be removed in NumPy 2.0. Please use `prod` instead.\n",
                        "  cpt_o2_sat_ffa = TabularCPD(\n"
                    ]
                },
                {
                    "name": "stdout",
                    "output_type": "stream",
                    "text": [
                        "model took 38.021620988845825 seconds to build\n",
                        "inference took 15.099957942962646 seconds to run\n",
                        "\n",
                        "Running for ID 252, with 28 observations\n",
                        "*** Building FEV1 and O2 point in time model ***\n"
                    ]
                },
                {
                    "name": "stderr",
                    "output_type": "stream",
                    "text": [
                        "/var/folders/zq/v2r6yn111s3gpdf8lzf72xvw0000gn/T/ipykernel_48157/847093712.py:24: DeprecationWarning: `product` is deprecated as of NumPy 1.25.0, and will be removed in NumPy 2.0. Please use `prod` instead.\n",
                        "  prior_hfev1 = TabularCPD(\n",
                        "/var/folders/zq/v2r6yn111s3gpdf8lzf72xvw0000gn/T/ipykernel_48157/847093712.py:31: DeprecationWarning: `product` is deprecated as of NumPy 1.25.0, and will be removed in NumPy 2.0. Please use `prod` instead.\n",
                        "  prior_ho2sat = TabularCPD(\n",
                        "/var/folders/zq/v2r6yn111s3gpdf8lzf72xvw0000gn/T/ipykernel_48157/847093712.py:38: DeprecationWarning: `product` is deprecated as of NumPy 1.25.0, and will be removed in NumPy 2.0. Please use `prod` instead.\n",
                        "  prior_ar = TabularCPD(\n",
                        "/Users/tristan.trebaol/Desktop/PhD/Code/phd/src/models/helpers.py:327: IntegrationWarning: The maximum number of subdivisions (50) has been achieved.\n",
                        "  If increasing the limit yields no improvement it is advised to analyze \n",
                        "  the integrand in order to determine the difficulties.  If the position of a \n",
                        "  local difficulty can be determined (singularity, discontinuity) one will \n",
                        "  probably gain from splitting up the interval and calling the integrator \n",
                        "  on the subranges.  Perhaps a special-purpose integrator should be used.\n",
                        "  val, abserr = integrate.quad(\n",
                        "/var/folders/zq/v2r6yn111s3gpdf8lzf72xvw0000gn/T/ipykernel_48157/847093712.py:45: DeprecationWarning: `product` is deprecated as of NumPy 1.25.0, and will be removed in NumPy 2.0. Please use `prod` instead.\n",
                        "  cpt_fev1 = TabularCPD(\n",
                        "/var/folders/zq/v2r6yn111s3gpdf8lzf72xvw0000gn/T/ipykernel_48157/847093712.py:52: DeprecationWarning: `product` is deprecated as of NumPy 1.25.0, and will be removed in NumPy 2.0. Please use `prod` instead.\n",
                        "  cpt_o2_sat_ffa = TabularCPD(\n"
                    ]
                },
                {
                    "name": "stdout",
                    "output_type": "stream",
                    "text": [
                        "model took 38.227099895477295 seconds to build\n",
                        "inference took 6.270084857940674 seconds to run\n",
                        "\n",
                        "Running for ID 253, with 49 observations\n",
                        "*** Building FEV1 and O2 point in time model ***\n"
                    ]
                },
                {
                    "name": "stderr",
                    "output_type": "stream",
                    "text": [
                        "/var/folders/zq/v2r6yn111s3gpdf8lzf72xvw0000gn/T/ipykernel_48157/847093712.py:24: DeprecationWarning: `product` is deprecated as of NumPy 1.25.0, and will be removed in NumPy 2.0. Please use `prod` instead.\n",
                        "  prior_hfev1 = TabularCPD(\n",
                        "/var/folders/zq/v2r6yn111s3gpdf8lzf72xvw0000gn/T/ipykernel_48157/847093712.py:31: DeprecationWarning: `product` is deprecated as of NumPy 1.25.0, and will be removed in NumPy 2.0. Please use `prod` instead.\n",
                        "  prior_ho2sat = TabularCPD(\n",
                        "/var/folders/zq/v2r6yn111s3gpdf8lzf72xvw0000gn/T/ipykernel_48157/847093712.py:38: DeprecationWarning: `product` is deprecated as of NumPy 1.25.0, and will be removed in NumPy 2.0. Please use `prod` instead.\n",
                        "  prior_ar = TabularCPD(\n",
                        "/Users/tristan.trebaol/Desktop/PhD/Code/phd/src/models/helpers.py:327: IntegrationWarning: The maximum number of subdivisions (50) has been achieved.\n",
                        "  If increasing the limit yields no improvement it is advised to analyze \n",
                        "  the integrand in order to determine the difficulties.  If the position of a \n",
                        "  local difficulty can be determined (singularity, discontinuity) one will \n",
                        "  probably gain from splitting up the interval and calling the integrator \n",
                        "  on the subranges.  Perhaps a special-purpose integrator should be used.\n",
                        "  val, abserr = integrate.quad(\n",
                        "/var/folders/zq/v2r6yn111s3gpdf8lzf72xvw0000gn/T/ipykernel_48157/847093712.py:45: DeprecationWarning: `product` is deprecated as of NumPy 1.25.0, and will be removed in NumPy 2.0. Please use `prod` instead.\n",
                        "  cpt_fev1 = TabularCPD(\n",
                        "/var/folders/zq/v2r6yn111s3gpdf8lzf72xvw0000gn/T/ipykernel_48157/847093712.py:52: DeprecationWarning: `product` is deprecated as of NumPy 1.25.0, and will be removed in NumPy 2.0. Please use `prod` instead.\n",
                        "  cpt_o2_sat_ffa = TabularCPD(\n"
                    ]
                },
                {
                    "name": "stdout",
                    "output_type": "stream",
                    "text": [
                        "model took 38.05496287345886 seconds to build\n",
                        "inference took 4.595752954483032 seconds to run\n",
                        "\n",
                        "Running for ID 254, with 196 observations\n",
                        "*** Building FEV1 and O2 point in time model ***\n"
                    ]
                },
                {
                    "name": "stderr",
                    "output_type": "stream",
                    "text": [
                        "/var/folders/zq/v2r6yn111s3gpdf8lzf72xvw0000gn/T/ipykernel_48157/847093712.py:24: DeprecationWarning: `product` is deprecated as of NumPy 1.25.0, and will be removed in NumPy 2.0. Please use `prod` instead.\n",
                        "  prior_hfev1 = TabularCPD(\n",
                        "/var/folders/zq/v2r6yn111s3gpdf8lzf72xvw0000gn/T/ipykernel_48157/847093712.py:31: DeprecationWarning: `product` is deprecated as of NumPy 1.25.0, and will be removed in NumPy 2.0. Please use `prod` instead.\n",
                        "  prior_ho2sat = TabularCPD(\n",
                        "/var/folders/zq/v2r6yn111s3gpdf8lzf72xvw0000gn/T/ipykernel_48157/847093712.py:38: DeprecationWarning: `product` is deprecated as of NumPy 1.25.0, and will be removed in NumPy 2.0. Please use `prod` instead.\n",
                        "  prior_ar = TabularCPD(\n",
                        "/Users/tristan.trebaol/Desktop/PhD/Code/phd/src/models/helpers.py:327: IntegrationWarning: The maximum number of subdivisions (50) has been achieved.\n",
                        "  If increasing the limit yields no improvement it is advised to analyze \n",
                        "  the integrand in order to determine the difficulties.  If the position of a \n",
                        "  local difficulty can be determined (singularity, discontinuity) one will \n",
                        "  probably gain from splitting up the interval and calling the integrator \n",
                        "  on the subranges.  Perhaps a special-purpose integrator should be used.\n",
                        "  val, abserr = integrate.quad(\n",
                        "/var/folders/zq/v2r6yn111s3gpdf8lzf72xvw0000gn/T/ipykernel_48157/847093712.py:45: DeprecationWarning: `product` is deprecated as of NumPy 1.25.0, and will be removed in NumPy 2.0. Please use `prod` instead.\n",
                        "  cpt_fev1 = TabularCPD(\n",
                        "/var/folders/zq/v2r6yn111s3gpdf8lzf72xvw0000gn/T/ipykernel_48157/847093712.py:52: DeprecationWarning: `product` is deprecated as of NumPy 1.25.0, and will be removed in NumPy 2.0. Please use `prod` instead.\n",
                        "  cpt_o2_sat_ffa = TabularCPD(\n"
                    ]
                },
                {
                    "name": "stdout",
                    "output_type": "stream",
                    "text": [
                        "model took 38.13272428512573 seconds to build\n",
                        "inference took 22.988367795944214 seconds to run\n",
                        "\n",
                        "Running for ID 255, with 52 observations\n",
                        "*** Building FEV1 and O2 point in time model ***\n"
                    ]
                },
                {
                    "name": "stderr",
                    "output_type": "stream",
                    "text": [
                        "/var/folders/zq/v2r6yn111s3gpdf8lzf72xvw0000gn/T/ipykernel_48157/847093712.py:24: DeprecationWarning: `product` is deprecated as of NumPy 1.25.0, and will be removed in NumPy 2.0. Please use `prod` instead.\n",
                        "  prior_hfev1 = TabularCPD(\n",
                        "/var/folders/zq/v2r6yn111s3gpdf8lzf72xvw0000gn/T/ipykernel_48157/847093712.py:31: DeprecationWarning: `product` is deprecated as of NumPy 1.25.0, and will be removed in NumPy 2.0. Please use `prod` instead.\n",
                        "  prior_ho2sat = TabularCPD(\n",
                        "/var/folders/zq/v2r6yn111s3gpdf8lzf72xvw0000gn/T/ipykernel_48157/847093712.py:38: DeprecationWarning: `product` is deprecated as of NumPy 1.25.0, and will be removed in NumPy 2.0. Please use `prod` instead.\n",
                        "  prior_ar = TabularCPD(\n",
                        "/Users/tristan.trebaol/Desktop/PhD/Code/phd/src/models/helpers.py:327: IntegrationWarning: The maximum number of subdivisions (50) has been achieved.\n",
                        "  If increasing the limit yields no improvement it is advised to analyze \n",
                        "  the integrand in order to determine the difficulties.  If the position of a \n",
                        "  local difficulty can be determined (singularity, discontinuity) one will \n",
                        "  probably gain from splitting up the interval and calling the integrator \n",
                        "  on the subranges.  Perhaps a special-purpose integrator should be used.\n",
                        "  val, abserr = integrate.quad(\n",
                        "/var/folders/zq/v2r6yn111s3gpdf8lzf72xvw0000gn/T/ipykernel_48157/847093712.py:45: DeprecationWarning: `product` is deprecated as of NumPy 1.25.0, and will be removed in NumPy 2.0. Please use `prod` instead.\n",
                        "  cpt_fev1 = TabularCPD(\n",
                        "/var/folders/zq/v2r6yn111s3gpdf8lzf72xvw0000gn/T/ipykernel_48157/847093712.py:52: DeprecationWarning: `product` is deprecated as of NumPy 1.25.0, and will be removed in NumPy 2.0. Please use `prod` instead.\n",
                        "  cpt_o2_sat_ffa = TabularCPD(\n"
                    ]
                },
                {
                    "name": "stdout",
                    "output_type": "stream",
                    "text": [
                        "model took 38.18864989280701 seconds to build\n",
                        "inference took 6.9830641746521 seconds to run\n",
                        "\n",
                        "Running for ID 256, with 18 observations\n",
                        "*** Building FEV1 and O2 point in time model ***\n"
                    ]
                },
                {
                    "name": "stderr",
                    "output_type": "stream",
                    "text": [
                        "/var/folders/zq/v2r6yn111s3gpdf8lzf72xvw0000gn/T/ipykernel_48157/847093712.py:24: DeprecationWarning: `product` is deprecated as of NumPy 1.25.0, and will be removed in NumPy 2.0. Please use `prod` instead.\n",
                        "  prior_hfev1 = TabularCPD(\n",
                        "/var/folders/zq/v2r6yn111s3gpdf8lzf72xvw0000gn/T/ipykernel_48157/847093712.py:31: DeprecationWarning: `product` is deprecated as of NumPy 1.25.0, and will be removed in NumPy 2.0. Please use `prod` instead.\n",
                        "  prior_ho2sat = TabularCPD(\n",
                        "/var/folders/zq/v2r6yn111s3gpdf8lzf72xvw0000gn/T/ipykernel_48157/847093712.py:38: DeprecationWarning: `product` is deprecated as of NumPy 1.25.0, and will be removed in NumPy 2.0. Please use `prod` instead.\n",
                        "  prior_ar = TabularCPD(\n",
                        "/Users/tristan.trebaol/Desktop/PhD/Code/phd/src/models/helpers.py:327: IntegrationWarning: The maximum number of subdivisions (50) has been achieved.\n",
                        "  If increasing the limit yields no improvement it is advised to analyze \n",
                        "  the integrand in order to determine the difficulties.  If the position of a \n",
                        "  local difficulty can be determined (singularity, discontinuity) one will \n",
                        "  probably gain from splitting up the interval and calling the integrator \n",
                        "  on the subranges.  Perhaps a special-purpose integrator should be used.\n",
                        "  val, abserr = integrate.quad(\n",
                        "/var/folders/zq/v2r6yn111s3gpdf8lzf72xvw0000gn/T/ipykernel_48157/847093712.py:45: DeprecationWarning: `product` is deprecated as of NumPy 1.25.0, and will be removed in NumPy 2.0. Please use `prod` instead.\n",
                        "  cpt_fev1 = TabularCPD(\n",
                        "/var/folders/zq/v2r6yn111s3gpdf8lzf72xvw0000gn/T/ipykernel_48157/847093712.py:52: DeprecationWarning: `product` is deprecated as of NumPy 1.25.0, and will be removed in NumPy 2.0. Please use `prod` instead.\n",
                        "  cpt_o2_sat_ffa = TabularCPD(\n"
                    ]
                },
                {
                    "name": "stdout",
                    "output_type": "stream",
                    "text": [
                        "model took 38.18191623687744 seconds to build\n",
                        "inference took 4.061208009719849 seconds to run\n",
                        "\n",
                        "Running for ID 257, with 38 observations\n",
                        "*** Building FEV1 and O2 point in time model ***\n"
                    ]
                },
                {
                    "name": "stderr",
                    "output_type": "stream",
                    "text": [
                        "/var/folders/zq/v2r6yn111s3gpdf8lzf72xvw0000gn/T/ipykernel_48157/847093712.py:24: DeprecationWarning: `product` is deprecated as of NumPy 1.25.0, and will be removed in NumPy 2.0. Please use `prod` instead.\n",
                        "  prior_hfev1 = TabularCPD(\n",
                        "/var/folders/zq/v2r6yn111s3gpdf8lzf72xvw0000gn/T/ipykernel_48157/847093712.py:31: DeprecationWarning: `product` is deprecated as of NumPy 1.25.0, and will be removed in NumPy 2.0. Please use `prod` instead.\n",
                        "  prior_ho2sat = TabularCPD(\n",
                        "/var/folders/zq/v2r6yn111s3gpdf8lzf72xvw0000gn/T/ipykernel_48157/847093712.py:38: DeprecationWarning: `product` is deprecated as of NumPy 1.25.0, and will be removed in NumPy 2.0. Please use `prod` instead.\n",
                        "  prior_ar = TabularCPD(\n",
                        "/Users/tristan.trebaol/Desktop/PhD/Code/phd/src/models/helpers.py:327: IntegrationWarning: The maximum number of subdivisions (50) has been achieved.\n",
                        "  If increasing the limit yields no improvement it is advised to analyze \n",
                        "  the integrand in order to determine the difficulties.  If the position of a \n",
                        "  local difficulty can be determined (singularity, discontinuity) one will \n",
                        "  probably gain from splitting up the interval and calling the integrator \n",
                        "  on the subranges.  Perhaps a special-purpose integrator should be used.\n",
                        "  val, abserr = integrate.quad(\n",
                        "/var/folders/zq/v2r6yn111s3gpdf8lzf72xvw0000gn/T/ipykernel_48157/847093712.py:45: DeprecationWarning: `product` is deprecated as of NumPy 1.25.0, and will be removed in NumPy 2.0. Please use `prod` instead.\n",
                        "  cpt_fev1 = TabularCPD(\n",
                        "/var/folders/zq/v2r6yn111s3gpdf8lzf72xvw0000gn/T/ipykernel_48157/847093712.py:52: DeprecationWarning: `product` is deprecated as of NumPy 1.25.0, and will be removed in NumPy 2.0. Please use `prod` instead.\n",
                        "  cpt_o2_sat_ffa = TabularCPD(\n"
                    ]
                },
                {
                    "name": "stdout",
                    "output_type": "stream",
                    "text": [
                        "model took 38.014400005340576 seconds to build\n",
                        "inference took 6.630475044250488 seconds to run\n",
                        "\n",
                        "Running for ID 258, with 87 observations\n",
                        "*** Building FEV1 and O2 point in time model ***\n"
                    ]
                },
                {
                    "name": "stderr",
                    "output_type": "stream",
                    "text": [
                        "/var/folders/zq/v2r6yn111s3gpdf8lzf72xvw0000gn/T/ipykernel_48157/847093712.py:24: DeprecationWarning: `product` is deprecated as of NumPy 1.25.0, and will be removed in NumPy 2.0. Please use `prod` instead.\n",
                        "  prior_hfev1 = TabularCPD(\n",
                        "/var/folders/zq/v2r6yn111s3gpdf8lzf72xvw0000gn/T/ipykernel_48157/847093712.py:31: DeprecationWarning: `product` is deprecated as of NumPy 1.25.0, and will be removed in NumPy 2.0. Please use `prod` instead.\n",
                        "  prior_ho2sat = TabularCPD(\n",
                        "/var/folders/zq/v2r6yn111s3gpdf8lzf72xvw0000gn/T/ipykernel_48157/847093712.py:38: DeprecationWarning: `product` is deprecated as of NumPy 1.25.0, and will be removed in NumPy 2.0. Please use `prod` instead.\n",
                        "  prior_ar = TabularCPD(\n",
                        "/Users/tristan.trebaol/Desktop/PhD/Code/phd/src/models/helpers.py:327: IntegrationWarning: The maximum number of subdivisions (50) has been achieved.\n",
                        "  If increasing the limit yields no improvement it is advised to analyze \n",
                        "  the integrand in order to determine the difficulties.  If the position of a \n",
                        "  local difficulty can be determined (singularity, discontinuity) one will \n",
                        "  probably gain from splitting up the interval and calling the integrator \n",
                        "  on the subranges.  Perhaps a special-purpose integrator should be used.\n",
                        "  val, abserr = integrate.quad(\n",
                        "/var/folders/zq/v2r6yn111s3gpdf8lzf72xvw0000gn/T/ipykernel_48157/847093712.py:45: DeprecationWarning: `product` is deprecated as of NumPy 1.25.0, and will be removed in NumPy 2.0. Please use `prod` instead.\n",
                        "  cpt_fev1 = TabularCPD(\n",
                        "/var/folders/zq/v2r6yn111s3gpdf8lzf72xvw0000gn/T/ipykernel_48157/847093712.py:52: DeprecationWarning: `product` is deprecated as of NumPy 1.25.0, and will be removed in NumPy 2.0. Please use `prod` instead.\n",
                        "  cpt_o2_sat_ffa = TabularCPD(\n"
                    ]
                },
                {
                    "name": "stdout",
                    "output_type": "stream",
                    "text": [
                        "model took 38.09873414039612 seconds to build\n",
                        "inference took 5.836774110794067 seconds to run\n",
                        "\n",
                        "Running for ID 260, with 1 observations\n",
                        "*** Building FEV1 and O2 point in time model ***\n"
                    ]
                },
                {
                    "name": "stderr",
                    "output_type": "stream",
                    "text": [
                        "/var/folders/zq/v2r6yn111s3gpdf8lzf72xvw0000gn/T/ipykernel_48157/847093712.py:24: DeprecationWarning: `product` is deprecated as of NumPy 1.25.0, and will be removed in NumPy 2.0. Please use `prod` instead.\n",
                        "  prior_hfev1 = TabularCPD(\n",
                        "/var/folders/zq/v2r6yn111s3gpdf8lzf72xvw0000gn/T/ipykernel_48157/847093712.py:31: DeprecationWarning: `product` is deprecated as of NumPy 1.25.0, and will be removed in NumPy 2.0. Please use `prod` instead.\n",
                        "  prior_ho2sat = TabularCPD(\n",
                        "/var/folders/zq/v2r6yn111s3gpdf8lzf72xvw0000gn/T/ipykernel_48157/847093712.py:38: DeprecationWarning: `product` is deprecated as of NumPy 1.25.0, and will be removed in NumPy 2.0. Please use `prod` instead.\n",
                        "  prior_ar = TabularCPD(\n",
                        "/Users/tristan.trebaol/Desktop/PhD/Code/phd/src/models/helpers.py:327: IntegrationWarning: The maximum number of subdivisions (50) has been achieved.\n",
                        "  If increasing the limit yields no improvement it is advised to analyze \n",
                        "  the integrand in order to determine the difficulties.  If the position of a \n",
                        "  local difficulty can be determined (singularity, discontinuity) one will \n",
                        "  probably gain from splitting up the interval and calling the integrator \n",
                        "  on the subranges.  Perhaps a special-purpose integrator should be used.\n",
                        "  val, abserr = integrate.quad(\n",
                        "/var/folders/zq/v2r6yn111s3gpdf8lzf72xvw0000gn/T/ipykernel_48157/847093712.py:45: DeprecationWarning: `product` is deprecated as of NumPy 1.25.0, and will be removed in NumPy 2.0. Please use `prod` instead.\n",
                        "  cpt_fev1 = TabularCPD(\n",
                        "/var/folders/zq/v2r6yn111s3gpdf8lzf72xvw0000gn/T/ipykernel_48157/847093712.py:52: DeprecationWarning: `product` is deprecated as of NumPy 1.25.0, and will be removed in NumPy 2.0. Please use `prod` instead.\n",
                        "  cpt_o2_sat_ffa = TabularCPD(\n"
                    ]
                },
                {
                    "name": "stdout",
                    "output_type": "stream",
                    "text": [
                        "model took 38.037631034851074 seconds to build\n",
                        "inference took 0.3320960998535156 seconds to run\n",
                        "\n",
                        "Running for ID 261, with 27 observations\n",
                        "*** Building FEV1 and O2 point in time model ***\n"
                    ]
                },
                {
                    "name": "stderr",
                    "output_type": "stream",
                    "text": [
                        "/var/folders/zq/v2r6yn111s3gpdf8lzf72xvw0000gn/T/ipykernel_48157/847093712.py:24: DeprecationWarning: `product` is deprecated as of NumPy 1.25.0, and will be removed in NumPy 2.0. Please use `prod` instead.\n",
                        "  prior_hfev1 = TabularCPD(\n",
                        "/var/folders/zq/v2r6yn111s3gpdf8lzf72xvw0000gn/T/ipykernel_48157/847093712.py:31: DeprecationWarning: `product` is deprecated as of NumPy 1.25.0, and will be removed in NumPy 2.0. Please use `prod` instead.\n",
                        "  prior_ho2sat = TabularCPD(\n",
                        "/var/folders/zq/v2r6yn111s3gpdf8lzf72xvw0000gn/T/ipykernel_48157/847093712.py:38: DeprecationWarning: `product` is deprecated as of NumPy 1.25.0, and will be removed in NumPy 2.0. Please use `prod` instead.\n",
                        "  prior_ar = TabularCPD(\n",
                        "/Users/tristan.trebaol/Desktop/PhD/Code/phd/src/models/helpers.py:327: IntegrationWarning: The maximum number of subdivisions (50) has been achieved.\n",
                        "  If increasing the limit yields no improvement it is advised to analyze \n",
                        "  the integrand in order to determine the difficulties.  If the position of a \n",
                        "  local difficulty can be determined (singularity, discontinuity) one will \n",
                        "  probably gain from splitting up the interval and calling the integrator \n",
                        "  on the subranges.  Perhaps a special-purpose integrator should be used.\n",
                        "  val, abserr = integrate.quad(\n",
                        "/var/folders/zq/v2r6yn111s3gpdf8lzf72xvw0000gn/T/ipykernel_48157/847093712.py:45: DeprecationWarning: `product` is deprecated as of NumPy 1.25.0, and will be removed in NumPy 2.0. Please use `prod` instead.\n",
                        "  cpt_fev1 = TabularCPD(\n",
                        "/var/folders/zq/v2r6yn111s3gpdf8lzf72xvw0000gn/T/ipykernel_48157/847093712.py:52: DeprecationWarning: `product` is deprecated as of NumPy 1.25.0, and will be removed in NumPy 2.0. Please use `prod` instead.\n",
                        "  cpt_o2_sat_ffa = TabularCPD(\n"
                    ]
                },
                {
                    "name": "stdout",
                    "output_type": "stream",
                    "text": [
                        "model took 38.12071132659912 seconds to build\n",
                        "inference took 4.23168683052063 seconds to run\n",
                        "\n",
                        "Running for ID 262, with 14 observations\n",
                        "*** Building FEV1 and O2 point in time model ***\n"
                    ]
                },
                {
                    "name": "stderr",
                    "output_type": "stream",
                    "text": [
                        "/var/folders/zq/v2r6yn111s3gpdf8lzf72xvw0000gn/T/ipykernel_48157/847093712.py:24: DeprecationWarning: `product` is deprecated as of NumPy 1.25.0, and will be removed in NumPy 2.0. Please use `prod` instead.\n",
                        "  prior_hfev1 = TabularCPD(\n",
                        "/var/folders/zq/v2r6yn111s3gpdf8lzf72xvw0000gn/T/ipykernel_48157/847093712.py:31: DeprecationWarning: `product` is deprecated as of NumPy 1.25.0, and will be removed in NumPy 2.0. Please use `prod` instead.\n",
                        "  prior_ho2sat = TabularCPD(\n",
                        "/var/folders/zq/v2r6yn111s3gpdf8lzf72xvw0000gn/T/ipykernel_48157/847093712.py:38: DeprecationWarning: `product` is deprecated as of NumPy 1.25.0, and will be removed in NumPy 2.0. Please use `prod` instead.\n",
                        "  prior_ar = TabularCPD(\n",
                        "/Users/tristan.trebaol/Desktop/PhD/Code/phd/src/models/helpers.py:327: IntegrationWarning: The maximum number of subdivisions (50) has been achieved.\n",
                        "  If increasing the limit yields no improvement it is advised to analyze \n",
                        "  the integrand in order to determine the difficulties.  If the position of a \n",
                        "  local difficulty can be determined (singularity, discontinuity) one will \n",
                        "  probably gain from splitting up the interval and calling the integrator \n",
                        "  on the subranges.  Perhaps a special-purpose integrator should be used.\n",
                        "  val, abserr = integrate.quad(\n",
                        "/var/folders/zq/v2r6yn111s3gpdf8lzf72xvw0000gn/T/ipykernel_48157/847093712.py:45: DeprecationWarning: `product` is deprecated as of NumPy 1.25.0, and will be removed in NumPy 2.0. Please use `prod` instead.\n",
                        "  cpt_fev1 = TabularCPD(\n",
                        "/var/folders/zq/v2r6yn111s3gpdf8lzf72xvw0000gn/T/ipykernel_48157/847093712.py:52: DeprecationWarning: `product` is deprecated as of NumPy 1.25.0, and will be removed in NumPy 2.0. Please use `prod` instead.\n",
                        "  cpt_o2_sat_ffa = TabularCPD(\n"
                    ]
                },
                {
                    "name": "stdout",
                    "output_type": "stream",
                    "text": [
                        "model took 38.2095422744751 seconds to build\n",
                        "inference took 3.406352996826172 seconds to run\n",
                        "\n",
                        "Running for ID 263, with 46 observations\n",
                        "*** Building FEV1 and O2 point in time model ***\n"
                    ]
                },
                {
                    "name": "stderr",
                    "output_type": "stream",
                    "text": [
                        "/var/folders/zq/v2r6yn111s3gpdf8lzf72xvw0000gn/T/ipykernel_48157/847093712.py:24: DeprecationWarning: `product` is deprecated as of NumPy 1.25.0, and will be removed in NumPy 2.0. Please use `prod` instead.\n",
                        "  prior_hfev1 = TabularCPD(\n",
                        "/var/folders/zq/v2r6yn111s3gpdf8lzf72xvw0000gn/T/ipykernel_48157/847093712.py:31: DeprecationWarning: `product` is deprecated as of NumPy 1.25.0, and will be removed in NumPy 2.0. Please use `prod` instead.\n",
                        "  prior_ho2sat = TabularCPD(\n",
                        "/var/folders/zq/v2r6yn111s3gpdf8lzf72xvw0000gn/T/ipykernel_48157/847093712.py:38: DeprecationWarning: `product` is deprecated as of NumPy 1.25.0, and will be removed in NumPy 2.0. Please use `prod` instead.\n",
                        "  prior_ar = TabularCPD(\n",
                        "/Users/tristan.trebaol/Desktop/PhD/Code/phd/src/models/helpers.py:327: IntegrationWarning: The maximum number of subdivisions (50) has been achieved.\n",
                        "  If increasing the limit yields no improvement it is advised to analyze \n",
                        "  the integrand in order to determine the difficulties.  If the position of a \n",
                        "  local difficulty can be determined (singularity, discontinuity) one will \n",
                        "  probably gain from splitting up the interval and calling the integrator \n",
                        "  on the subranges.  Perhaps a special-purpose integrator should be used.\n",
                        "  val, abserr = integrate.quad(\n",
                        "/var/folders/zq/v2r6yn111s3gpdf8lzf72xvw0000gn/T/ipykernel_48157/847093712.py:45: DeprecationWarning: `product` is deprecated as of NumPy 1.25.0, and will be removed in NumPy 2.0. Please use `prod` instead.\n",
                        "  cpt_fev1 = TabularCPD(\n",
                        "/var/folders/zq/v2r6yn111s3gpdf8lzf72xvw0000gn/T/ipykernel_48157/847093712.py:52: DeprecationWarning: `product` is deprecated as of NumPy 1.25.0, and will be removed in NumPy 2.0. Please use `prod` instead.\n",
                        "  cpt_o2_sat_ffa = TabularCPD(\n"
                    ]
                },
                {
                    "name": "stdout",
                    "output_type": "stream",
                    "text": [
                        "model took 38.239445209503174 seconds to build\n",
                        "inference took 6.3132569789886475 seconds to run\n",
                        "\n",
                        "Running for ID 264, with 25 observations\n",
                        "*** Building FEV1 and O2 point in time model ***\n"
                    ]
                },
                {
                    "name": "stderr",
                    "output_type": "stream",
                    "text": [
                        "/var/folders/zq/v2r6yn111s3gpdf8lzf72xvw0000gn/T/ipykernel_48157/847093712.py:24: DeprecationWarning: `product` is deprecated as of NumPy 1.25.0, and will be removed in NumPy 2.0. Please use `prod` instead.\n",
                        "  prior_hfev1 = TabularCPD(\n",
                        "/var/folders/zq/v2r6yn111s3gpdf8lzf72xvw0000gn/T/ipykernel_48157/847093712.py:31: DeprecationWarning: `product` is deprecated as of NumPy 1.25.0, and will be removed in NumPy 2.0. Please use `prod` instead.\n",
                        "  prior_ho2sat = TabularCPD(\n",
                        "/var/folders/zq/v2r6yn111s3gpdf8lzf72xvw0000gn/T/ipykernel_48157/847093712.py:38: DeprecationWarning: `product` is deprecated as of NumPy 1.25.0, and will be removed in NumPy 2.0. Please use `prod` instead.\n",
                        "  prior_ar = TabularCPD(\n",
                        "/Users/tristan.trebaol/Desktop/PhD/Code/phd/src/models/helpers.py:327: IntegrationWarning: The maximum number of subdivisions (50) has been achieved.\n",
                        "  If increasing the limit yields no improvement it is advised to analyze \n",
                        "  the integrand in order to determine the difficulties.  If the position of a \n",
                        "  local difficulty can be determined (singularity, discontinuity) one will \n",
                        "  probably gain from splitting up the interval and calling the integrator \n",
                        "  on the subranges.  Perhaps a special-purpose integrator should be used.\n",
                        "  val, abserr = integrate.quad(\n",
                        "/var/folders/zq/v2r6yn111s3gpdf8lzf72xvw0000gn/T/ipykernel_48157/847093712.py:45: DeprecationWarning: `product` is deprecated as of NumPy 1.25.0, and will be removed in NumPy 2.0. Please use `prod` instead.\n",
                        "  cpt_fev1 = TabularCPD(\n",
                        "/var/folders/zq/v2r6yn111s3gpdf8lzf72xvw0000gn/T/ipykernel_48157/847093712.py:52: DeprecationWarning: `product` is deprecated as of NumPy 1.25.0, and will be removed in NumPy 2.0. Please use `prod` instead.\n",
                        "  cpt_o2_sat_ffa = TabularCPD(\n"
                    ]
                },
                {
                    "name": "stdout",
                    "output_type": "stream",
                    "text": [
                        "model took 38.08094000816345 seconds to build\n",
                        "inference took 4.0856077671051025 seconds to run\n",
                        "\n",
                        "Running for ID 265, with 29 observations\n",
                        "*** Building FEV1 and O2 point in time model ***\n"
                    ]
                },
                {
                    "name": "stderr",
                    "output_type": "stream",
                    "text": [
                        "/var/folders/zq/v2r6yn111s3gpdf8lzf72xvw0000gn/T/ipykernel_48157/847093712.py:24: DeprecationWarning: `product` is deprecated as of NumPy 1.25.0, and will be removed in NumPy 2.0. Please use `prod` instead.\n",
                        "  prior_hfev1 = TabularCPD(\n",
                        "/var/folders/zq/v2r6yn111s3gpdf8lzf72xvw0000gn/T/ipykernel_48157/847093712.py:31: DeprecationWarning: `product` is deprecated as of NumPy 1.25.0, and will be removed in NumPy 2.0. Please use `prod` instead.\n",
                        "  prior_ho2sat = TabularCPD(\n",
                        "/var/folders/zq/v2r6yn111s3gpdf8lzf72xvw0000gn/T/ipykernel_48157/847093712.py:38: DeprecationWarning: `product` is deprecated as of NumPy 1.25.0, and will be removed in NumPy 2.0. Please use `prod` instead.\n",
                        "  prior_ar = TabularCPD(\n",
                        "/Users/tristan.trebaol/Desktop/PhD/Code/phd/src/models/helpers.py:327: IntegrationWarning: The maximum number of subdivisions (50) has been achieved.\n",
                        "  If increasing the limit yields no improvement it is advised to analyze \n",
                        "  the integrand in order to determine the difficulties.  If the position of a \n",
                        "  local difficulty can be determined (singularity, discontinuity) one will \n",
                        "  probably gain from splitting up the interval and calling the integrator \n",
                        "  on the subranges.  Perhaps a special-purpose integrator should be used.\n",
                        "  val, abserr = integrate.quad(\n",
                        "/var/folders/zq/v2r6yn111s3gpdf8lzf72xvw0000gn/T/ipykernel_48157/847093712.py:45: DeprecationWarning: `product` is deprecated as of NumPy 1.25.0, and will be removed in NumPy 2.0. Please use `prod` instead.\n",
                        "  cpt_fev1 = TabularCPD(\n",
                        "/var/folders/zq/v2r6yn111s3gpdf8lzf72xvw0000gn/T/ipykernel_48157/847093712.py:52: DeprecationWarning: `product` is deprecated as of NumPy 1.25.0, and will be removed in NumPy 2.0. Please use `prod` instead.\n",
                        "  cpt_o2_sat_ffa = TabularCPD(\n"
                    ]
                },
                {
                    "name": "stdout",
                    "output_type": "stream",
                    "text": [
                        "model took 38.071820974349976 seconds to build\n",
                        "inference took 5.612732887268066 seconds to run\n",
                        "\n",
                        "Running for ID 266, with 66 observations\n",
                        "*** Building FEV1 and O2 point in time model ***\n"
                    ]
                },
                {
                    "name": "stderr",
                    "output_type": "stream",
                    "text": [
                        "/var/folders/zq/v2r6yn111s3gpdf8lzf72xvw0000gn/T/ipykernel_48157/847093712.py:24: DeprecationWarning: `product` is deprecated as of NumPy 1.25.0, and will be removed in NumPy 2.0. Please use `prod` instead.\n",
                        "  prior_hfev1 = TabularCPD(\n",
                        "/var/folders/zq/v2r6yn111s3gpdf8lzf72xvw0000gn/T/ipykernel_48157/847093712.py:31: DeprecationWarning: `product` is deprecated as of NumPy 1.25.0, and will be removed in NumPy 2.0. Please use `prod` instead.\n",
                        "  prior_ho2sat = TabularCPD(\n",
                        "/var/folders/zq/v2r6yn111s3gpdf8lzf72xvw0000gn/T/ipykernel_48157/847093712.py:38: DeprecationWarning: `product` is deprecated as of NumPy 1.25.0, and will be removed in NumPy 2.0. Please use `prod` instead.\n",
                        "  prior_ar = TabularCPD(\n",
                        "/Users/tristan.trebaol/Desktop/PhD/Code/phd/src/models/helpers.py:327: IntegrationWarning: The maximum number of subdivisions (50) has been achieved.\n",
                        "  If increasing the limit yields no improvement it is advised to analyze \n",
                        "  the integrand in order to determine the difficulties.  If the position of a \n",
                        "  local difficulty can be determined (singularity, discontinuity) one will \n",
                        "  probably gain from splitting up the interval and calling the integrator \n",
                        "  on the subranges.  Perhaps a special-purpose integrator should be used.\n",
                        "  val, abserr = integrate.quad(\n",
                        "/var/folders/zq/v2r6yn111s3gpdf8lzf72xvw0000gn/T/ipykernel_48157/847093712.py:45: DeprecationWarning: `product` is deprecated as of NumPy 1.25.0, and will be removed in NumPy 2.0. Please use `prod` instead.\n",
                        "  cpt_fev1 = TabularCPD(\n",
                        "/var/folders/zq/v2r6yn111s3gpdf8lzf72xvw0000gn/T/ipykernel_48157/847093712.py:52: DeprecationWarning: `product` is deprecated as of NumPy 1.25.0, and will be removed in NumPy 2.0. Please use `prod` instead.\n",
                        "  cpt_o2_sat_ffa = TabularCPD(\n"
                    ]
                },
                {
                    "name": "stdout",
                    "output_type": "stream",
                    "text": [
                        "model took 38.07025599479675 seconds to build\n",
                        "inference took 13.079700946807861 seconds to run\n",
                        "\n",
                        "Running for ID 267, with 5 observations\n",
                        "*** Building FEV1 and O2 point in time model ***\n"
                    ]
                },
                {
                    "name": "stderr",
                    "output_type": "stream",
                    "text": [
                        "/var/folders/zq/v2r6yn111s3gpdf8lzf72xvw0000gn/T/ipykernel_48157/847093712.py:24: DeprecationWarning: `product` is deprecated as of NumPy 1.25.0, and will be removed in NumPy 2.0. Please use `prod` instead.\n",
                        "  prior_hfev1 = TabularCPD(\n",
                        "/var/folders/zq/v2r6yn111s3gpdf8lzf72xvw0000gn/T/ipykernel_48157/847093712.py:31: DeprecationWarning: `product` is deprecated as of NumPy 1.25.0, and will be removed in NumPy 2.0. Please use `prod` instead.\n",
                        "  prior_ho2sat = TabularCPD(\n",
                        "/var/folders/zq/v2r6yn111s3gpdf8lzf72xvw0000gn/T/ipykernel_48157/847093712.py:38: DeprecationWarning: `product` is deprecated as of NumPy 1.25.0, and will be removed in NumPy 2.0. Please use `prod` instead.\n",
                        "  prior_ar = TabularCPD(\n",
                        "/Users/tristan.trebaol/Desktop/PhD/Code/phd/src/models/helpers.py:327: IntegrationWarning: The maximum number of subdivisions (50) has been achieved.\n",
                        "  If increasing the limit yields no improvement it is advised to analyze \n",
                        "  the integrand in order to determine the difficulties.  If the position of a \n",
                        "  local difficulty can be determined (singularity, discontinuity) one will \n",
                        "  probably gain from splitting up the interval and calling the integrator \n",
                        "  on the subranges.  Perhaps a special-purpose integrator should be used.\n",
                        "  val, abserr = integrate.quad(\n",
                        "/var/folders/zq/v2r6yn111s3gpdf8lzf72xvw0000gn/T/ipykernel_48157/847093712.py:45: DeprecationWarning: `product` is deprecated as of NumPy 1.25.0, and will be removed in NumPy 2.0. Please use `prod` instead.\n",
                        "  cpt_fev1 = TabularCPD(\n",
                        "/var/folders/zq/v2r6yn111s3gpdf8lzf72xvw0000gn/T/ipykernel_48157/847093712.py:52: DeprecationWarning: `product` is deprecated as of NumPy 1.25.0, and will be removed in NumPy 2.0. Please use `prod` instead.\n",
                        "  cpt_o2_sat_ffa = TabularCPD(\n"
                    ]
                },
                {
                    "name": "stdout",
                    "output_type": "stream",
                    "text": [
                        "model took 38.43244791030884 seconds to build\n",
                        "inference took 1.2052600383758545 seconds to run\n",
                        "\n",
                        "Running for ID 268, with 5 observations\n",
                        "*** Building FEV1 and O2 point in time model ***\n"
                    ]
                },
                {
                    "name": "stderr",
                    "output_type": "stream",
                    "text": [
                        "/var/folders/zq/v2r6yn111s3gpdf8lzf72xvw0000gn/T/ipykernel_48157/847093712.py:24: DeprecationWarning: `product` is deprecated as of NumPy 1.25.0, and will be removed in NumPy 2.0. Please use `prod` instead.\n",
                        "  prior_hfev1 = TabularCPD(\n",
                        "/var/folders/zq/v2r6yn111s3gpdf8lzf72xvw0000gn/T/ipykernel_48157/847093712.py:31: DeprecationWarning: `product` is deprecated as of NumPy 1.25.0, and will be removed in NumPy 2.0. Please use `prod` instead.\n",
                        "  prior_ho2sat = TabularCPD(\n",
                        "/var/folders/zq/v2r6yn111s3gpdf8lzf72xvw0000gn/T/ipykernel_48157/847093712.py:38: DeprecationWarning: `product` is deprecated as of NumPy 1.25.0, and will be removed in NumPy 2.0. Please use `prod` instead.\n",
                        "  prior_ar = TabularCPD(\n",
                        "/Users/tristan.trebaol/Desktop/PhD/Code/phd/src/models/helpers.py:327: IntegrationWarning: The maximum number of subdivisions (50) has been achieved.\n",
                        "  If increasing the limit yields no improvement it is advised to analyze \n",
                        "  the integrand in order to determine the difficulties.  If the position of a \n",
                        "  local difficulty can be determined (singularity, discontinuity) one will \n",
                        "  probably gain from splitting up the interval and calling the integrator \n",
                        "  on the subranges.  Perhaps a special-purpose integrator should be used.\n",
                        "  val, abserr = integrate.quad(\n",
                        "/var/folders/zq/v2r6yn111s3gpdf8lzf72xvw0000gn/T/ipykernel_48157/847093712.py:45: DeprecationWarning: `product` is deprecated as of NumPy 1.25.0, and will be removed in NumPy 2.0. Please use `prod` instead.\n",
                        "  cpt_fev1 = TabularCPD(\n",
                        "/var/folders/zq/v2r6yn111s3gpdf8lzf72xvw0000gn/T/ipykernel_48157/847093712.py:52: DeprecationWarning: `product` is deprecated as of NumPy 1.25.0, and will be removed in NumPy 2.0. Please use `prod` instead.\n",
                        "  cpt_o2_sat_ffa = TabularCPD(\n"
                    ]
                },
                {
                    "name": "stdout",
                    "output_type": "stream",
                    "text": [
                        "model took 38.162558794021606 seconds to build\n",
                        "inference took 1.3523907661437988 seconds to run\n",
                        "\n",
                        "Running for ID 270, with 93 observations\n",
                        "*** Building FEV1 and O2 point in time model ***\n"
                    ]
                },
                {
                    "name": "stderr",
                    "output_type": "stream",
                    "text": [
                        "/var/folders/zq/v2r6yn111s3gpdf8lzf72xvw0000gn/T/ipykernel_48157/847093712.py:24: DeprecationWarning: `product` is deprecated as of NumPy 1.25.0, and will be removed in NumPy 2.0. Please use `prod` instead.\n",
                        "  prior_hfev1 = TabularCPD(\n",
                        "/var/folders/zq/v2r6yn111s3gpdf8lzf72xvw0000gn/T/ipykernel_48157/847093712.py:31: DeprecationWarning: `product` is deprecated as of NumPy 1.25.0, and will be removed in NumPy 2.0. Please use `prod` instead.\n",
                        "  prior_ho2sat = TabularCPD(\n",
                        "/var/folders/zq/v2r6yn111s3gpdf8lzf72xvw0000gn/T/ipykernel_48157/847093712.py:38: DeprecationWarning: `product` is deprecated as of NumPy 1.25.0, and will be removed in NumPy 2.0. Please use `prod` instead.\n",
                        "  prior_ar = TabularCPD(\n",
                        "/Users/tristan.trebaol/Desktop/PhD/Code/phd/src/models/helpers.py:327: IntegrationWarning: The maximum number of subdivisions (50) has been achieved.\n",
                        "  If increasing the limit yields no improvement it is advised to analyze \n",
                        "  the integrand in order to determine the difficulties.  If the position of a \n",
                        "  local difficulty can be determined (singularity, discontinuity) one will \n",
                        "  probably gain from splitting up the interval and calling the integrator \n",
                        "  on the subranges.  Perhaps a special-purpose integrator should be used.\n",
                        "  val, abserr = integrate.quad(\n",
                        "/var/folders/zq/v2r6yn111s3gpdf8lzf72xvw0000gn/T/ipykernel_48157/847093712.py:45: DeprecationWarning: `product` is deprecated as of NumPy 1.25.0, and will be removed in NumPy 2.0. Please use `prod` instead.\n",
                        "  cpt_fev1 = TabularCPD(\n",
                        "/var/folders/zq/v2r6yn111s3gpdf8lzf72xvw0000gn/T/ipykernel_48157/847093712.py:52: DeprecationWarning: `product` is deprecated as of NumPy 1.25.0, and will be removed in NumPy 2.0. Please use `prod` instead.\n",
                        "  cpt_o2_sat_ffa = TabularCPD(\n"
                    ]
                },
                {
                    "name": "stdout",
                    "output_type": "stream",
                    "text": [
                        "model took 38.12816309928894 seconds to build\n",
                        "inference took 5.667942762374878 seconds to run\n",
                        "\n",
                        "Running for ID 271, with 183 observations\n",
                        "*** Building FEV1 and O2 point in time model ***\n"
                    ]
                },
                {
                    "name": "stderr",
                    "output_type": "stream",
                    "text": [
                        "/var/folders/zq/v2r6yn111s3gpdf8lzf72xvw0000gn/T/ipykernel_48157/847093712.py:24: DeprecationWarning: `product` is deprecated as of NumPy 1.25.0, and will be removed in NumPy 2.0. Please use `prod` instead.\n",
                        "  prior_hfev1 = TabularCPD(\n",
                        "/var/folders/zq/v2r6yn111s3gpdf8lzf72xvw0000gn/T/ipykernel_48157/847093712.py:31: DeprecationWarning: `product` is deprecated as of NumPy 1.25.0, and will be removed in NumPy 2.0. Please use `prod` instead.\n",
                        "  prior_ho2sat = TabularCPD(\n",
                        "/var/folders/zq/v2r6yn111s3gpdf8lzf72xvw0000gn/T/ipykernel_48157/847093712.py:38: DeprecationWarning: `product` is deprecated as of NumPy 1.25.0, and will be removed in NumPy 2.0. Please use `prod` instead.\n",
                        "  prior_ar = TabularCPD(\n",
                        "/Users/tristan.trebaol/Desktop/PhD/Code/phd/src/models/helpers.py:327: IntegrationWarning: The maximum number of subdivisions (50) has been achieved.\n",
                        "  If increasing the limit yields no improvement it is advised to analyze \n",
                        "  the integrand in order to determine the difficulties.  If the position of a \n",
                        "  local difficulty can be determined (singularity, discontinuity) one will \n",
                        "  probably gain from splitting up the interval and calling the integrator \n",
                        "  on the subranges.  Perhaps a special-purpose integrator should be used.\n",
                        "  val, abserr = integrate.quad(\n",
                        "/var/folders/zq/v2r6yn111s3gpdf8lzf72xvw0000gn/T/ipykernel_48157/847093712.py:45: DeprecationWarning: `product` is deprecated as of NumPy 1.25.0, and will be removed in NumPy 2.0. Please use `prod` instead.\n",
                        "  cpt_fev1 = TabularCPD(\n",
                        "/var/folders/zq/v2r6yn111s3gpdf8lzf72xvw0000gn/T/ipykernel_48157/847093712.py:52: DeprecationWarning: `product` is deprecated as of NumPy 1.25.0, and will be removed in NumPy 2.0. Please use `prod` instead.\n",
                        "  cpt_o2_sat_ffa = TabularCPD(\n"
                    ]
                },
                {
                    "name": "stdout",
                    "output_type": "stream",
                    "text": [
                        "model took 38.12058973312378 seconds to build\n",
                        "inference took 14.669623851776123 seconds to run\n",
                        "\n",
                        "Running for ID 272, with 249 observations\n",
                        "*** Building FEV1 and O2 point in time model ***\n"
                    ]
                },
                {
                    "name": "stderr",
                    "output_type": "stream",
                    "text": [
                        "/var/folders/zq/v2r6yn111s3gpdf8lzf72xvw0000gn/T/ipykernel_48157/847093712.py:24: DeprecationWarning: `product` is deprecated as of NumPy 1.25.0, and will be removed in NumPy 2.0. Please use `prod` instead.\n",
                        "  prior_hfev1 = TabularCPD(\n",
                        "/var/folders/zq/v2r6yn111s3gpdf8lzf72xvw0000gn/T/ipykernel_48157/847093712.py:31: DeprecationWarning: `product` is deprecated as of NumPy 1.25.0, and will be removed in NumPy 2.0. Please use `prod` instead.\n",
                        "  prior_ho2sat = TabularCPD(\n",
                        "/var/folders/zq/v2r6yn111s3gpdf8lzf72xvw0000gn/T/ipykernel_48157/847093712.py:38: DeprecationWarning: `product` is deprecated as of NumPy 1.25.0, and will be removed in NumPy 2.0. Please use `prod` instead.\n",
                        "  prior_ar = TabularCPD(\n",
                        "/Users/tristan.trebaol/Desktop/PhD/Code/phd/src/models/helpers.py:327: IntegrationWarning: The maximum number of subdivisions (50) has been achieved.\n",
                        "  If increasing the limit yields no improvement it is advised to analyze \n",
                        "  the integrand in order to determine the difficulties.  If the position of a \n",
                        "  local difficulty can be determined (singularity, discontinuity) one will \n",
                        "  probably gain from splitting up the interval and calling the integrator \n",
                        "  on the subranges.  Perhaps a special-purpose integrator should be used.\n",
                        "  val, abserr = integrate.quad(\n",
                        "/var/folders/zq/v2r6yn111s3gpdf8lzf72xvw0000gn/T/ipykernel_48157/847093712.py:45: DeprecationWarning: `product` is deprecated as of NumPy 1.25.0, and will be removed in NumPy 2.0. Please use `prod` instead.\n",
                        "  cpt_fev1 = TabularCPD(\n",
                        "/var/folders/zq/v2r6yn111s3gpdf8lzf72xvw0000gn/T/ipykernel_48157/847093712.py:52: DeprecationWarning: `product` is deprecated as of NumPy 1.25.0, and will be removed in NumPy 2.0. Please use `prod` instead.\n",
                        "  cpt_o2_sat_ffa = TabularCPD(\n"
                    ]
                },
                {
                    "name": "stdout",
                    "output_type": "stream",
                    "text": [
                        "model took 38.09206819534302 seconds to build\n",
                        "inference took 14.09927487373352 seconds to run\n",
                        "\n",
                        "Running for ID 273, with 58 observations\n",
                        "*** Building FEV1 and O2 point in time model ***\n"
                    ]
                },
                {
                    "name": "stderr",
                    "output_type": "stream",
                    "text": [
                        "/var/folders/zq/v2r6yn111s3gpdf8lzf72xvw0000gn/T/ipykernel_48157/847093712.py:24: DeprecationWarning: `product` is deprecated as of NumPy 1.25.0, and will be removed in NumPy 2.0. Please use `prod` instead.\n",
                        "  prior_hfev1 = TabularCPD(\n",
                        "/var/folders/zq/v2r6yn111s3gpdf8lzf72xvw0000gn/T/ipykernel_48157/847093712.py:31: DeprecationWarning: `product` is deprecated as of NumPy 1.25.0, and will be removed in NumPy 2.0. Please use `prod` instead.\n",
                        "  prior_ho2sat = TabularCPD(\n",
                        "/var/folders/zq/v2r6yn111s3gpdf8lzf72xvw0000gn/T/ipykernel_48157/847093712.py:38: DeprecationWarning: `product` is deprecated as of NumPy 1.25.0, and will be removed in NumPy 2.0. Please use `prod` instead.\n",
                        "  prior_ar = TabularCPD(\n",
                        "/Users/tristan.trebaol/Desktop/PhD/Code/phd/src/models/helpers.py:327: IntegrationWarning: The maximum number of subdivisions (50) has been achieved.\n",
                        "  If increasing the limit yields no improvement it is advised to analyze \n",
                        "  the integrand in order to determine the difficulties.  If the position of a \n",
                        "  local difficulty can be determined (singularity, discontinuity) one will \n",
                        "  probably gain from splitting up the interval and calling the integrator \n",
                        "  on the subranges.  Perhaps a special-purpose integrator should be used.\n",
                        "  val, abserr = integrate.quad(\n",
                        "/var/folders/zq/v2r6yn111s3gpdf8lzf72xvw0000gn/T/ipykernel_48157/847093712.py:45: DeprecationWarning: `product` is deprecated as of NumPy 1.25.0, and will be removed in NumPy 2.0. Please use `prod` instead.\n",
                        "  cpt_fev1 = TabularCPD(\n",
                        "/var/folders/zq/v2r6yn111s3gpdf8lzf72xvw0000gn/T/ipykernel_48157/847093712.py:52: DeprecationWarning: `product` is deprecated as of NumPy 1.25.0, and will be removed in NumPy 2.0. Please use `prod` instead.\n",
                        "  cpt_o2_sat_ffa = TabularCPD(\n"
                    ]
                },
                {
                    "name": "stdout",
                    "output_type": "stream",
                    "text": [
                        "model took 38.473926305770874 seconds to build\n",
                        "inference took 12.203887224197388 seconds to run\n",
                        "\n",
                        "Running for ID 274, with 5 observations\n",
                        "*** Building FEV1 and O2 point in time model ***\n"
                    ]
                },
                {
                    "name": "stderr",
                    "output_type": "stream",
                    "text": [
                        "/var/folders/zq/v2r6yn111s3gpdf8lzf72xvw0000gn/T/ipykernel_48157/847093712.py:24: DeprecationWarning: `product` is deprecated as of NumPy 1.25.0, and will be removed in NumPy 2.0. Please use `prod` instead.\n",
                        "  prior_hfev1 = TabularCPD(\n",
                        "/var/folders/zq/v2r6yn111s3gpdf8lzf72xvw0000gn/T/ipykernel_48157/847093712.py:31: DeprecationWarning: `product` is deprecated as of NumPy 1.25.0, and will be removed in NumPy 2.0. Please use `prod` instead.\n",
                        "  prior_ho2sat = TabularCPD(\n",
                        "/var/folders/zq/v2r6yn111s3gpdf8lzf72xvw0000gn/T/ipykernel_48157/847093712.py:38: DeprecationWarning: `product` is deprecated as of NumPy 1.25.0, and will be removed in NumPy 2.0. Please use `prod` instead.\n",
                        "  prior_ar = TabularCPD(\n",
                        "/Users/tristan.trebaol/Desktop/PhD/Code/phd/src/models/helpers.py:327: IntegrationWarning: The maximum number of subdivisions (50) has been achieved.\n",
                        "  If increasing the limit yields no improvement it is advised to analyze \n",
                        "  the integrand in order to determine the difficulties.  If the position of a \n",
                        "  local difficulty can be determined (singularity, discontinuity) one will \n",
                        "  probably gain from splitting up the interval and calling the integrator \n",
                        "  on the subranges.  Perhaps a special-purpose integrator should be used.\n",
                        "  val, abserr = integrate.quad(\n",
                        "/var/folders/zq/v2r6yn111s3gpdf8lzf72xvw0000gn/T/ipykernel_48157/847093712.py:45: DeprecationWarning: `product` is deprecated as of NumPy 1.25.0, and will be removed in NumPy 2.0. Please use `prod` instead.\n",
                        "  cpt_fev1 = TabularCPD(\n",
                        "/var/folders/zq/v2r6yn111s3gpdf8lzf72xvw0000gn/T/ipykernel_48157/847093712.py:52: DeprecationWarning: `product` is deprecated as of NumPy 1.25.0, and will be removed in NumPy 2.0. Please use `prod` instead.\n",
                        "  cpt_o2_sat_ffa = TabularCPD(\n"
                    ]
                },
                {
                    "name": "stdout",
                    "output_type": "stream",
                    "text": [
                        "model took 38.80545091629028 seconds to build\n",
                        "inference took 1.2393362522125244 seconds to run\n",
                        "\n",
                        "Running for ID 275, with 32 observations\n",
                        "*** Building FEV1 and O2 point in time model ***\n"
                    ]
                },
                {
                    "name": "stderr",
                    "output_type": "stream",
                    "text": [
                        "/var/folders/zq/v2r6yn111s3gpdf8lzf72xvw0000gn/T/ipykernel_48157/847093712.py:24: DeprecationWarning: `product` is deprecated as of NumPy 1.25.0, and will be removed in NumPy 2.0. Please use `prod` instead.\n",
                        "  prior_hfev1 = TabularCPD(\n",
                        "/var/folders/zq/v2r6yn111s3gpdf8lzf72xvw0000gn/T/ipykernel_48157/847093712.py:31: DeprecationWarning: `product` is deprecated as of NumPy 1.25.0, and will be removed in NumPy 2.0. Please use `prod` instead.\n",
                        "  prior_ho2sat = TabularCPD(\n",
                        "/var/folders/zq/v2r6yn111s3gpdf8lzf72xvw0000gn/T/ipykernel_48157/847093712.py:38: DeprecationWarning: `product` is deprecated as of NumPy 1.25.0, and will be removed in NumPy 2.0. Please use `prod` instead.\n",
                        "  prior_ar = TabularCPD(\n",
                        "/Users/tristan.trebaol/Desktop/PhD/Code/phd/src/models/helpers.py:327: IntegrationWarning: The maximum number of subdivisions (50) has been achieved.\n",
                        "  If increasing the limit yields no improvement it is advised to analyze \n",
                        "  the integrand in order to determine the difficulties.  If the position of a \n",
                        "  local difficulty can be determined (singularity, discontinuity) one will \n",
                        "  probably gain from splitting up the interval and calling the integrator \n",
                        "  on the subranges.  Perhaps a special-purpose integrator should be used.\n",
                        "  val, abserr = integrate.quad(\n",
                        "/var/folders/zq/v2r6yn111s3gpdf8lzf72xvw0000gn/T/ipykernel_48157/847093712.py:45: DeprecationWarning: `product` is deprecated as of NumPy 1.25.0, and will be removed in NumPy 2.0. Please use `prod` instead.\n",
                        "  cpt_fev1 = TabularCPD(\n",
                        "/var/folders/zq/v2r6yn111s3gpdf8lzf72xvw0000gn/T/ipykernel_48157/847093712.py:52: DeprecationWarning: `product` is deprecated as of NumPy 1.25.0, and will be removed in NumPy 2.0. Please use `prod` instead.\n",
                        "  cpt_o2_sat_ffa = TabularCPD(\n"
                    ]
                },
                {
                    "name": "stdout",
                    "output_type": "stream",
                    "text": [
                        "model took 944.3833999633789 seconds to build\n",
                        "inference took 7.088730812072754 seconds to run\n",
                        "\n",
                        "Running for ID 276, with 139 observations\n",
                        "*** Building FEV1 and O2 point in time model ***\n"
                    ]
                },
                {
                    "name": "stderr",
                    "output_type": "stream",
                    "text": [
                        "/var/folders/zq/v2r6yn111s3gpdf8lzf72xvw0000gn/T/ipykernel_48157/847093712.py:24: DeprecationWarning: `product` is deprecated as of NumPy 1.25.0, and will be removed in NumPy 2.0. Please use `prod` instead.\n",
                        "  prior_hfev1 = TabularCPD(\n",
                        "/var/folders/zq/v2r6yn111s3gpdf8lzf72xvw0000gn/T/ipykernel_48157/847093712.py:31: DeprecationWarning: `product` is deprecated as of NumPy 1.25.0, and will be removed in NumPy 2.0. Please use `prod` instead.\n",
                        "  prior_ho2sat = TabularCPD(\n",
                        "/var/folders/zq/v2r6yn111s3gpdf8lzf72xvw0000gn/T/ipykernel_48157/847093712.py:38: DeprecationWarning: `product` is deprecated as of NumPy 1.25.0, and will be removed in NumPy 2.0. Please use `prod` instead.\n",
                        "  prior_ar = TabularCPD(\n",
                        "/Users/tristan.trebaol/Desktop/PhD/Code/phd/src/models/helpers.py:327: IntegrationWarning: The maximum number of subdivisions (50) has been achieved.\n",
                        "  If increasing the limit yields no improvement it is advised to analyze \n",
                        "  the integrand in order to determine the difficulties.  If the position of a \n",
                        "  local difficulty can be determined (singularity, discontinuity) one will \n",
                        "  probably gain from splitting up the interval and calling the integrator \n",
                        "  on the subranges.  Perhaps a special-purpose integrator should be used.\n",
                        "  val, abserr = integrate.quad(\n",
                        "/var/folders/zq/v2r6yn111s3gpdf8lzf72xvw0000gn/T/ipykernel_48157/847093712.py:45: DeprecationWarning: `product` is deprecated as of NumPy 1.25.0, and will be removed in NumPy 2.0. Please use `prod` instead.\n",
                        "  cpt_fev1 = TabularCPD(\n",
                        "/var/folders/zq/v2r6yn111s3gpdf8lzf72xvw0000gn/T/ipykernel_48157/847093712.py:52: DeprecationWarning: `product` is deprecated as of NumPy 1.25.0, and will be removed in NumPy 2.0. Please use `prod` instead.\n",
                        "  cpt_o2_sat_ffa = TabularCPD(\n"
                    ]
                },
                {
                    "name": "stdout",
                    "output_type": "stream",
                    "text": [
                        "model took 39.466333866119385 seconds to build\n",
                        "inference took 14.50063705444336 seconds to run\n",
                        "\n",
                        "Running for ID 278, with 39 observations\n",
                        "*** Building FEV1 and O2 point in time model ***\n"
                    ]
                },
                {
                    "name": "stderr",
                    "output_type": "stream",
                    "text": [
                        "/var/folders/zq/v2r6yn111s3gpdf8lzf72xvw0000gn/T/ipykernel_48157/847093712.py:24: DeprecationWarning: `product` is deprecated as of NumPy 1.25.0, and will be removed in NumPy 2.0. Please use `prod` instead.\n",
                        "  prior_hfev1 = TabularCPD(\n",
                        "/var/folders/zq/v2r6yn111s3gpdf8lzf72xvw0000gn/T/ipykernel_48157/847093712.py:31: DeprecationWarning: `product` is deprecated as of NumPy 1.25.0, and will be removed in NumPy 2.0. Please use `prod` instead.\n",
                        "  prior_ho2sat = TabularCPD(\n",
                        "/var/folders/zq/v2r6yn111s3gpdf8lzf72xvw0000gn/T/ipykernel_48157/847093712.py:38: DeprecationWarning: `product` is deprecated as of NumPy 1.25.0, and will be removed in NumPy 2.0. Please use `prod` instead.\n",
                        "  prior_ar = TabularCPD(\n",
                        "/Users/tristan.trebaol/Desktop/PhD/Code/phd/src/models/helpers.py:327: IntegrationWarning: The maximum number of subdivisions (50) has been achieved.\n",
                        "  If increasing the limit yields no improvement it is advised to analyze \n",
                        "  the integrand in order to determine the difficulties.  If the position of a \n",
                        "  local difficulty can be determined (singularity, discontinuity) one will \n",
                        "  probably gain from splitting up the interval and calling the integrator \n",
                        "  on the subranges.  Perhaps a special-purpose integrator should be used.\n",
                        "  val, abserr = integrate.quad(\n",
                        "/var/folders/zq/v2r6yn111s3gpdf8lzf72xvw0000gn/T/ipykernel_48157/847093712.py:45: DeprecationWarning: `product` is deprecated as of NumPy 1.25.0, and will be removed in NumPy 2.0. Please use `prod` instead.\n",
                        "  cpt_fev1 = TabularCPD(\n",
                        "/var/folders/zq/v2r6yn111s3gpdf8lzf72xvw0000gn/T/ipykernel_48157/847093712.py:52: DeprecationWarning: `product` is deprecated as of NumPy 1.25.0, and will be removed in NumPy 2.0. Please use `prod` instead.\n",
                        "  cpt_o2_sat_ffa = TabularCPD(\n"
                    ]
                },
                {
                    "name": "stdout",
                    "output_type": "stream",
                    "text": [
                        "model took 164.89203786849976 seconds to build\n",
                        "inference took 6.297864198684692 seconds to run\n",
                        "\n",
                        "Running for ID 279, with 74 observations\n",
                        "*** Building FEV1 and O2 point in time model ***\n"
                    ]
                },
                {
                    "name": "stderr",
                    "output_type": "stream",
                    "text": [
                        "/var/folders/zq/v2r6yn111s3gpdf8lzf72xvw0000gn/T/ipykernel_48157/847093712.py:24: DeprecationWarning: `product` is deprecated as of NumPy 1.25.0, and will be removed in NumPy 2.0. Please use `prod` instead.\n",
                        "  prior_hfev1 = TabularCPD(\n",
                        "/var/folders/zq/v2r6yn111s3gpdf8lzf72xvw0000gn/T/ipykernel_48157/847093712.py:31: DeprecationWarning: `product` is deprecated as of NumPy 1.25.0, and will be removed in NumPy 2.0. Please use `prod` instead.\n",
                        "  prior_ho2sat = TabularCPD(\n",
                        "/var/folders/zq/v2r6yn111s3gpdf8lzf72xvw0000gn/T/ipykernel_48157/847093712.py:38: DeprecationWarning: `product` is deprecated as of NumPy 1.25.0, and will be removed in NumPy 2.0. Please use `prod` instead.\n",
                        "  prior_ar = TabularCPD(\n",
                        "/Users/tristan.trebaol/Desktop/PhD/Code/phd/src/models/helpers.py:327: IntegrationWarning: The maximum number of subdivisions (50) has been achieved.\n",
                        "  If increasing the limit yields no improvement it is advised to analyze \n",
                        "  the integrand in order to determine the difficulties.  If the position of a \n",
                        "  local difficulty can be determined (singularity, discontinuity) one will \n",
                        "  probably gain from splitting up the interval and calling the integrator \n",
                        "  on the subranges.  Perhaps a special-purpose integrator should be used.\n",
                        "  val, abserr = integrate.quad(\n",
                        "/var/folders/zq/v2r6yn111s3gpdf8lzf72xvw0000gn/T/ipykernel_48157/847093712.py:45: DeprecationWarning: `product` is deprecated as of NumPy 1.25.0, and will be removed in NumPy 2.0. Please use `prod` instead.\n",
                        "  cpt_fev1 = TabularCPD(\n",
                        "/var/folders/zq/v2r6yn111s3gpdf8lzf72xvw0000gn/T/ipykernel_48157/847093712.py:52: DeprecationWarning: `product` is deprecated as of NumPy 1.25.0, and will be removed in NumPy 2.0. Please use `prod` instead.\n",
                        "  cpt_o2_sat_ffa = TabularCPD(\n"
                    ]
                },
                {
                    "name": "stdout",
                    "output_type": "stream",
                    "text": [
                        "model took 39.50320506095886 seconds to build\n",
                        "inference took 16.06914472579956 seconds to run\n",
                        "\n",
                        "Running for ID 280, with 43 observations\n",
                        "*** Building FEV1 and O2 point in time model ***\n"
                    ]
                },
                {
                    "name": "stderr",
                    "output_type": "stream",
                    "text": [
                        "/var/folders/zq/v2r6yn111s3gpdf8lzf72xvw0000gn/T/ipykernel_48157/847093712.py:24: DeprecationWarning: `product` is deprecated as of NumPy 1.25.0, and will be removed in NumPy 2.0. Please use `prod` instead.\n",
                        "  prior_hfev1 = TabularCPD(\n",
                        "/var/folders/zq/v2r6yn111s3gpdf8lzf72xvw0000gn/T/ipykernel_48157/847093712.py:31: DeprecationWarning: `product` is deprecated as of NumPy 1.25.0, and will be removed in NumPy 2.0. Please use `prod` instead.\n",
                        "  prior_ho2sat = TabularCPD(\n",
                        "/var/folders/zq/v2r6yn111s3gpdf8lzf72xvw0000gn/T/ipykernel_48157/847093712.py:38: DeprecationWarning: `product` is deprecated as of NumPy 1.25.0, and will be removed in NumPy 2.0. Please use `prod` instead.\n",
                        "  prior_ar = TabularCPD(\n",
                        "/Users/tristan.trebaol/Desktop/PhD/Code/phd/src/models/helpers.py:327: IntegrationWarning: The maximum number of subdivisions (50) has been achieved.\n",
                        "  If increasing the limit yields no improvement it is advised to analyze \n",
                        "  the integrand in order to determine the difficulties.  If the position of a \n",
                        "  local difficulty can be determined (singularity, discontinuity) one will \n",
                        "  probably gain from splitting up the interval and calling the integrator \n",
                        "  on the subranges.  Perhaps a special-purpose integrator should be used.\n",
                        "  val, abserr = integrate.quad(\n",
                        "/var/folders/zq/v2r6yn111s3gpdf8lzf72xvw0000gn/T/ipykernel_48157/847093712.py:45: DeprecationWarning: `product` is deprecated as of NumPy 1.25.0, and will be removed in NumPy 2.0. Please use `prod` instead.\n",
                        "  cpt_fev1 = TabularCPD(\n",
                        "/var/folders/zq/v2r6yn111s3gpdf8lzf72xvw0000gn/T/ipykernel_48157/847093712.py:52: DeprecationWarning: `product` is deprecated as of NumPy 1.25.0, and will be removed in NumPy 2.0. Please use `prod` instead.\n",
                        "  cpt_o2_sat_ffa = TabularCPD(\n"
                    ]
                },
                {
                    "name": "stdout",
                    "output_type": "stream",
                    "text": [
                        "model took 38.75285792350769 seconds to build\n",
                        "inference took 8.011108160018921 seconds to run\n",
                        "\n",
                        "Running for ID 281, with 21 observations\n",
                        "*** Building FEV1 and O2 point in time model ***\n"
                    ]
                },
                {
                    "name": "stderr",
                    "output_type": "stream",
                    "text": [
                        "/var/folders/zq/v2r6yn111s3gpdf8lzf72xvw0000gn/T/ipykernel_48157/847093712.py:24: DeprecationWarning: `product` is deprecated as of NumPy 1.25.0, and will be removed in NumPy 2.0. Please use `prod` instead.\n",
                        "  prior_hfev1 = TabularCPD(\n",
                        "/var/folders/zq/v2r6yn111s3gpdf8lzf72xvw0000gn/T/ipykernel_48157/847093712.py:31: DeprecationWarning: `product` is deprecated as of NumPy 1.25.0, and will be removed in NumPy 2.0. Please use `prod` instead.\n",
                        "  prior_ho2sat = TabularCPD(\n",
                        "/var/folders/zq/v2r6yn111s3gpdf8lzf72xvw0000gn/T/ipykernel_48157/847093712.py:38: DeprecationWarning: `product` is deprecated as of NumPy 1.25.0, and will be removed in NumPy 2.0. Please use `prod` instead.\n",
                        "  prior_ar = TabularCPD(\n",
                        "/Users/tristan.trebaol/Desktop/PhD/Code/phd/src/models/helpers.py:327: IntegrationWarning: The maximum number of subdivisions (50) has been achieved.\n",
                        "  If increasing the limit yields no improvement it is advised to analyze \n",
                        "  the integrand in order to determine the difficulties.  If the position of a \n",
                        "  local difficulty can be determined (singularity, discontinuity) one will \n",
                        "  probably gain from splitting up the interval and calling the integrator \n",
                        "  on the subranges.  Perhaps a special-purpose integrator should be used.\n",
                        "  val, abserr = integrate.quad(\n",
                        "/var/folders/zq/v2r6yn111s3gpdf8lzf72xvw0000gn/T/ipykernel_48157/847093712.py:45: DeprecationWarning: `product` is deprecated as of NumPy 1.25.0, and will be removed in NumPy 2.0. Please use `prod` instead.\n",
                        "  cpt_fev1 = TabularCPD(\n",
                        "/var/folders/zq/v2r6yn111s3gpdf8lzf72xvw0000gn/T/ipykernel_48157/847093712.py:52: DeprecationWarning: `product` is deprecated as of NumPy 1.25.0, and will be removed in NumPy 2.0. Please use `prod` instead.\n",
                        "  cpt_o2_sat_ffa = TabularCPD(\n"
                    ]
                },
                {
                    "name": "stdout",
                    "output_type": "stream",
                    "text": [
                        "model took 38.59728217124939 seconds to build\n",
                        "inference took 5.211093902587891 seconds to run\n",
                        "\n",
                        "Running for ID 282, with 246 observations\n",
                        "*** Building FEV1 and O2 point in time model ***\n"
                    ]
                },
                {
                    "name": "stderr",
                    "output_type": "stream",
                    "text": [
                        "/var/folders/zq/v2r6yn111s3gpdf8lzf72xvw0000gn/T/ipykernel_48157/847093712.py:24: DeprecationWarning: `product` is deprecated as of NumPy 1.25.0, and will be removed in NumPy 2.0. Please use `prod` instead.\n",
                        "  prior_hfev1 = TabularCPD(\n",
                        "/var/folders/zq/v2r6yn111s3gpdf8lzf72xvw0000gn/T/ipykernel_48157/847093712.py:31: DeprecationWarning: `product` is deprecated as of NumPy 1.25.0, and will be removed in NumPy 2.0. Please use `prod` instead.\n",
                        "  prior_ho2sat = TabularCPD(\n",
                        "/var/folders/zq/v2r6yn111s3gpdf8lzf72xvw0000gn/T/ipykernel_48157/847093712.py:38: DeprecationWarning: `product` is deprecated as of NumPy 1.25.0, and will be removed in NumPy 2.0. Please use `prod` instead.\n",
                        "  prior_ar = TabularCPD(\n",
                        "/Users/tristan.trebaol/Desktop/PhD/Code/phd/src/models/helpers.py:327: IntegrationWarning: The maximum number of subdivisions (50) has been achieved.\n",
                        "  If increasing the limit yields no improvement it is advised to analyze \n",
                        "  the integrand in order to determine the difficulties.  If the position of a \n",
                        "  local difficulty can be determined (singularity, discontinuity) one will \n",
                        "  probably gain from splitting up the interval and calling the integrator \n",
                        "  on the subranges.  Perhaps a special-purpose integrator should be used.\n",
                        "  val, abserr = integrate.quad(\n",
                        "/var/folders/zq/v2r6yn111s3gpdf8lzf72xvw0000gn/T/ipykernel_48157/847093712.py:45: DeprecationWarning: `product` is deprecated as of NumPy 1.25.0, and will be removed in NumPy 2.0. Please use `prod` instead.\n",
                        "  cpt_fev1 = TabularCPD(\n",
                        "/var/folders/zq/v2r6yn111s3gpdf8lzf72xvw0000gn/T/ipykernel_48157/847093712.py:52: DeprecationWarning: `product` is deprecated as of NumPy 1.25.0, and will be removed in NumPy 2.0. Please use `prod` instead.\n",
                        "  cpt_o2_sat_ffa = TabularCPD(\n"
                    ]
                },
                {
                    "name": "stdout",
                    "output_type": "stream",
                    "text": [
                        "model took 38.65957689285278 seconds to build\n",
                        "inference took 16.264806032180786 seconds to run\n",
                        "\n",
                        "Running for ID 283, with 69 observations\n",
                        "*** Building FEV1 and O2 point in time model ***\n"
                    ]
                },
                {
                    "name": "stderr",
                    "output_type": "stream",
                    "text": [
                        "/var/folders/zq/v2r6yn111s3gpdf8lzf72xvw0000gn/T/ipykernel_48157/847093712.py:24: DeprecationWarning: `product` is deprecated as of NumPy 1.25.0, and will be removed in NumPy 2.0. Please use `prod` instead.\n",
                        "  prior_hfev1 = TabularCPD(\n",
                        "/var/folders/zq/v2r6yn111s3gpdf8lzf72xvw0000gn/T/ipykernel_48157/847093712.py:31: DeprecationWarning: `product` is deprecated as of NumPy 1.25.0, and will be removed in NumPy 2.0. Please use `prod` instead.\n",
                        "  prior_ho2sat = TabularCPD(\n",
                        "/var/folders/zq/v2r6yn111s3gpdf8lzf72xvw0000gn/T/ipykernel_48157/847093712.py:38: DeprecationWarning: `product` is deprecated as of NumPy 1.25.0, and will be removed in NumPy 2.0. Please use `prod` instead.\n",
                        "  prior_ar = TabularCPD(\n",
                        "/Users/tristan.trebaol/Desktop/PhD/Code/phd/src/models/helpers.py:327: IntegrationWarning: The maximum number of subdivisions (50) has been achieved.\n",
                        "  If increasing the limit yields no improvement it is advised to analyze \n",
                        "  the integrand in order to determine the difficulties.  If the position of a \n",
                        "  local difficulty can be determined (singularity, discontinuity) one will \n",
                        "  probably gain from splitting up the interval and calling the integrator \n",
                        "  on the subranges.  Perhaps a special-purpose integrator should be used.\n",
                        "  val, abserr = integrate.quad(\n",
                        "/var/folders/zq/v2r6yn111s3gpdf8lzf72xvw0000gn/T/ipykernel_48157/847093712.py:45: DeprecationWarning: `product` is deprecated as of NumPy 1.25.0, and will be removed in NumPy 2.0. Please use `prod` instead.\n",
                        "  cpt_fev1 = TabularCPD(\n",
                        "/var/folders/zq/v2r6yn111s3gpdf8lzf72xvw0000gn/T/ipykernel_48157/847093712.py:52: DeprecationWarning: `product` is deprecated as of NumPy 1.25.0, and will be removed in NumPy 2.0. Please use `prod` instead.\n",
                        "  cpt_o2_sat_ffa = TabularCPD(\n"
                    ]
                },
                {
                    "name": "stdout",
                    "output_type": "stream",
                    "text": [
                        "model took 38.69296479225159 seconds to build\n",
                        "inference took 6.554741144180298 seconds to run\n",
                        "\n",
                        "Running for ID 284, with 49 observations\n",
                        "*** Building FEV1 and O2 point in time model ***\n"
                    ]
                },
                {
                    "name": "stderr",
                    "output_type": "stream",
                    "text": [
                        "/var/folders/zq/v2r6yn111s3gpdf8lzf72xvw0000gn/T/ipykernel_48157/847093712.py:24: DeprecationWarning: `product` is deprecated as of NumPy 1.25.0, and will be removed in NumPy 2.0. Please use `prod` instead.\n",
                        "  prior_hfev1 = TabularCPD(\n",
                        "/var/folders/zq/v2r6yn111s3gpdf8lzf72xvw0000gn/T/ipykernel_48157/847093712.py:31: DeprecationWarning: `product` is deprecated as of NumPy 1.25.0, and will be removed in NumPy 2.0. Please use `prod` instead.\n",
                        "  prior_ho2sat = TabularCPD(\n",
                        "/var/folders/zq/v2r6yn111s3gpdf8lzf72xvw0000gn/T/ipykernel_48157/847093712.py:38: DeprecationWarning: `product` is deprecated as of NumPy 1.25.0, and will be removed in NumPy 2.0. Please use `prod` instead.\n",
                        "  prior_ar = TabularCPD(\n",
                        "/Users/tristan.trebaol/Desktop/PhD/Code/phd/src/models/helpers.py:327: IntegrationWarning: The maximum number of subdivisions (50) has been achieved.\n",
                        "  If increasing the limit yields no improvement it is advised to analyze \n",
                        "  the integrand in order to determine the difficulties.  If the position of a \n",
                        "  local difficulty can be determined (singularity, discontinuity) one will \n",
                        "  probably gain from splitting up the interval and calling the integrator \n",
                        "  on the subranges.  Perhaps a special-purpose integrator should be used.\n",
                        "  val, abserr = integrate.quad(\n",
                        "/var/folders/zq/v2r6yn111s3gpdf8lzf72xvw0000gn/T/ipykernel_48157/847093712.py:45: DeprecationWarning: `product` is deprecated as of NumPy 1.25.0, and will be removed in NumPy 2.0. Please use `prod` instead.\n",
                        "  cpt_fev1 = TabularCPD(\n",
                        "/var/folders/zq/v2r6yn111s3gpdf8lzf72xvw0000gn/T/ipykernel_48157/847093712.py:52: DeprecationWarning: `product` is deprecated as of NumPy 1.25.0, and will be removed in NumPy 2.0. Please use `prod` instead.\n",
                        "  cpt_o2_sat_ffa = TabularCPD(\n"
                    ]
                },
                {
                    "name": "stdout",
                    "output_type": "stream",
                    "text": [
                        "model took 38.814197063446045 seconds to build\n",
                        "inference took 10.342321872711182 seconds to run\n",
                        "\n",
                        "Running for ID 286, with 64 observations\n",
                        "*** Building FEV1 and O2 point in time model ***\n"
                    ]
                },
                {
                    "name": "stderr",
                    "output_type": "stream",
                    "text": [
                        "/var/folders/zq/v2r6yn111s3gpdf8lzf72xvw0000gn/T/ipykernel_48157/847093712.py:24: DeprecationWarning: `product` is deprecated as of NumPy 1.25.0, and will be removed in NumPy 2.0. Please use `prod` instead.\n",
                        "  prior_hfev1 = TabularCPD(\n",
                        "/var/folders/zq/v2r6yn111s3gpdf8lzf72xvw0000gn/T/ipykernel_48157/847093712.py:31: DeprecationWarning: `product` is deprecated as of NumPy 1.25.0, and will be removed in NumPy 2.0. Please use `prod` instead.\n",
                        "  prior_ho2sat = TabularCPD(\n",
                        "/var/folders/zq/v2r6yn111s3gpdf8lzf72xvw0000gn/T/ipykernel_48157/847093712.py:38: DeprecationWarning: `product` is deprecated as of NumPy 1.25.0, and will be removed in NumPy 2.0. Please use `prod` instead.\n",
                        "  prior_ar = TabularCPD(\n",
                        "/Users/tristan.trebaol/Desktop/PhD/Code/phd/src/models/helpers.py:327: IntegrationWarning: The maximum number of subdivisions (50) has been achieved.\n",
                        "  If increasing the limit yields no improvement it is advised to analyze \n",
                        "  the integrand in order to determine the difficulties.  If the position of a \n",
                        "  local difficulty can be determined (singularity, discontinuity) one will \n",
                        "  probably gain from splitting up the interval and calling the integrator \n",
                        "  on the subranges.  Perhaps a special-purpose integrator should be used.\n",
                        "  val, abserr = integrate.quad(\n",
                        "/var/folders/zq/v2r6yn111s3gpdf8lzf72xvw0000gn/T/ipykernel_48157/847093712.py:45: DeprecationWarning: `product` is deprecated as of NumPy 1.25.0, and will be removed in NumPy 2.0. Please use `prod` instead.\n",
                        "  cpt_fev1 = TabularCPD(\n",
                        "/var/folders/zq/v2r6yn111s3gpdf8lzf72xvw0000gn/T/ipykernel_48157/847093712.py:52: DeprecationWarning: `product` is deprecated as of NumPy 1.25.0, and will be removed in NumPy 2.0. Please use `prod` instead.\n",
                        "  cpt_o2_sat_ffa = TabularCPD(\n"
                    ]
                },
                {
                    "name": "stdout",
                    "output_type": "stream",
                    "text": [
                        "model took 38.730831146240234 seconds to build\n",
                        "inference took 2.3095808029174805 seconds to run\n",
                        "\n",
                        "Running for ID 287, with 45 observations\n",
                        "*** Building FEV1 and O2 point in time model ***\n"
                    ]
                },
                {
                    "name": "stderr",
                    "output_type": "stream",
                    "text": [
                        "/var/folders/zq/v2r6yn111s3gpdf8lzf72xvw0000gn/T/ipykernel_48157/847093712.py:24: DeprecationWarning: `product` is deprecated as of NumPy 1.25.0, and will be removed in NumPy 2.0. Please use `prod` instead.\n",
                        "  prior_hfev1 = TabularCPD(\n",
                        "/var/folders/zq/v2r6yn111s3gpdf8lzf72xvw0000gn/T/ipykernel_48157/847093712.py:31: DeprecationWarning: `product` is deprecated as of NumPy 1.25.0, and will be removed in NumPy 2.0. Please use `prod` instead.\n",
                        "  prior_ho2sat = TabularCPD(\n",
                        "/var/folders/zq/v2r6yn111s3gpdf8lzf72xvw0000gn/T/ipykernel_48157/847093712.py:38: DeprecationWarning: `product` is deprecated as of NumPy 1.25.0, and will be removed in NumPy 2.0. Please use `prod` instead.\n",
                        "  prior_ar = TabularCPD(\n",
                        "/Users/tristan.trebaol/Desktop/PhD/Code/phd/src/models/helpers.py:327: IntegrationWarning: The maximum number of subdivisions (50) has been achieved.\n",
                        "  If increasing the limit yields no improvement it is advised to analyze \n",
                        "  the integrand in order to determine the difficulties.  If the position of a \n",
                        "  local difficulty can be determined (singularity, discontinuity) one will \n",
                        "  probably gain from splitting up the interval and calling the integrator \n",
                        "  on the subranges.  Perhaps a special-purpose integrator should be used.\n",
                        "  val, abserr = integrate.quad(\n",
                        "/var/folders/zq/v2r6yn111s3gpdf8lzf72xvw0000gn/T/ipykernel_48157/847093712.py:45: DeprecationWarning: `product` is deprecated as of NumPy 1.25.0, and will be removed in NumPy 2.0. Please use `prod` instead.\n",
                        "  cpt_fev1 = TabularCPD(\n",
                        "/var/folders/zq/v2r6yn111s3gpdf8lzf72xvw0000gn/T/ipykernel_48157/847093712.py:52: DeprecationWarning: `product` is deprecated as of NumPy 1.25.0, and will be removed in NumPy 2.0. Please use `prod` instead.\n",
                        "  cpt_o2_sat_ffa = TabularCPD(\n"
                    ]
                },
                {
                    "name": "stdout",
                    "output_type": "stream",
                    "text": [
                        "model took 38.70742201805115 seconds to build\n",
                        "inference took 8.810304880142212 seconds to run\n",
                        "\n",
                        "Running for ID 288, with 7 observations\n",
                        "*** Building FEV1 and O2 point in time model ***\n"
                    ]
                },
                {
                    "name": "stderr",
                    "output_type": "stream",
                    "text": [
                        "/var/folders/zq/v2r6yn111s3gpdf8lzf72xvw0000gn/T/ipykernel_48157/847093712.py:24: DeprecationWarning: `product` is deprecated as of NumPy 1.25.0, and will be removed in NumPy 2.0. Please use `prod` instead.\n",
                        "  prior_hfev1 = TabularCPD(\n",
                        "/var/folders/zq/v2r6yn111s3gpdf8lzf72xvw0000gn/T/ipykernel_48157/847093712.py:31: DeprecationWarning: `product` is deprecated as of NumPy 1.25.0, and will be removed in NumPy 2.0. Please use `prod` instead.\n",
                        "  prior_ho2sat = TabularCPD(\n",
                        "/var/folders/zq/v2r6yn111s3gpdf8lzf72xvw0000gn/T/ipykernel_48157/847093712.py:38: DeprecationWarning: `product` is deprecated as of NumPy 1.25.0, and will be removed in NumPy 2.0. Please use `prod` instead.\n",
                        "  prior_ar = TabularCPD(\n",
                        "/Users/tristan.trebaol/Desktop/PhD/Code/phd/src/models/helpers.py:327: IntegrationWarning: The maximum number of subdivisions (50) has been achieved.\n",
                        "  If increasing the limit yields no improvement it is advised to analyze \n",
                        "  the integrand in order to determine the difficulties.  If the position of a \n",
                        "  local difficulty can be determined (singularity, discontinuity) one will \n",
                        "  probably gain from splitting up the interval and calling the integrator \n",
                        "  on the subranges.  Perhaps a special-purpose integrator should be used.\n",
                        "  val, abserr = integrate.quad(\n",
                        "/var/folders/zq/v2r6yn111s3gpdf8lzf72xvw0000gn/T/ipykernel_48157/847093712.py:45: DeprecationWarning: `product` is deprecated as of NumPy 1.25.0, and will be removed in NumPy 2.0. Please use `prod` instead.\n",
                        "  cpt_fev1 = TabularCPD(\n",
                        "/var/folders/zq/v2r6yn111s3gpdf8lzf72xvw0000gn/T/ipykernel_48157/847093712.py:52: DeprecationWarning: `product` is deprecated as of NumPy 1.25.0, and will be removed in NumPy 2.0. Please use `prod` instead.\n",
                        "  cpt_o2_sat_ffa = TabularCPD(\n"
                    ]
                },
                {
                    "name": "stdout",
                    "output_type": "stream",
                    "text": [
                        "model took 38.633967876434326 seconds to build\n",
                        "inference took 1.5538368225097656 seconds to run\n",
                        "\n",
                        "Running for ID 289, with 110 observations\n",
                        "*** Building FEV1 and O2 point in time model ***\n"
                    ]
                },
                {
                    "name": "stderr",
                    "output_type": "stream",
                    "text": [
                        "/var/folders/zq/v2r6yn111s3gpdf8lzf72xvw0000gn/T/ipykernel_48157/847093712.py:24: DeprecationWarning: `product` is deprecated as of NumPy 1.25.0, and will be removed in NumPy 2.0. Please use `prod` instead.\n",
                        "  prior_hfev1 = TabularCPD(\n",
                        "/var/folders/zq/v2r6yn111s3gpdf8lzf72xvw0000gn/T/ipykernel_48157/847093712.py:31: DeprecationWarning: `product` is deprecated as of NumPy 1.25.0, and will be removed in NumPy 2.0. Please use `prod` instead.\n",
                        "  prior_ho2sat = TabularCPD(\n",
                        "/var/folders/zq/v2r6yn111s3gpdf8lzf72xvw0000gn/T/ipykernel_48157/847093712.py:38: DeprecationWarning: `product` is deprecated as of NumPy 1.25.0, and will be removed in NumPy 2.0. Please use `prod` instead.\n",
                        "  prior_ar = TabularCPD(\n",
                        "/Users/tristan.trebaol/Desktop/PhD/Code/phd/src/models/helpers.py:327: IntegrationWarning: The maximum number of subdivisions (50) has been achieved.\n",
                        "  If increasing the limit yields no improvement it is advised to analyze \n",
                        "  the integrand in order to determine the difficulties.  If the position of a \n",
                        "  local difficulty can be determined (singularity, discontinuity) one will \n",
                        "  probably gain from splitting up the interval and calling the integrator \n",
                        "  on the subranges.  Perhaps a special-purpose integrator should be used.\n",
                        "  val, abserr = integrate.quad(\n",
                        "/var/folders/zq/v2r6yn111s3gpdf8lzf72xvw0000gn/T/ipykernel_48157/847093712.py:45: DeprecationWarning: `product` is deprecated as of NumPy 1.25.0, and will be removed in NumPy 2.0. Please use `prod` instead.\n",
                        "  cpt_fev1 = TabularCPD(\n",
                        "/var/folders/zq/v2r6yn111s3gpdf8lzf72xvw0000gn/T/ipykernel_48157/847093712.py:52: DeprecationWarning: `product` is deprecated as of NumPy 1.25.0, and will be removed in NumPy 2.0. Please use `prod` instead.\n",
                        "  cpt_o2_sat_ffa = TabularCPD(\n"
                    ]
                },
                {
                    "name": "stdout",
                    "output_type": "stream",
                    "text": [
                        "model took 38.71337699890137 seconds to build\n",
                        "inference took 14.676886081695557 seconds to run\n",
                        "\n",
                        "Running for ID 290, with 85 observations\n",
                        "*** Building FEV1 and O2 point in time model ***\n"
                    ]
                },
                {
                    "name": "stderr",
                    "output_type": "stream",
                    "text": [
                        "/var/folders/zq/v2r6yn111s3gpdf8lzf72xvw0000gn/T/ipykernel_48157/847093712.py:24: DeprecationWarning: `product` is deprecated as of NumPy 1.25.0, and will be removed in NumPy 2.0. Please use `prod` instead.\n",
                        "  prior_hfev1 = TabularCPD(\n",
                        "/var/folders/zq/v2r6yn111s3gpdf8lzf72xvw0000gn/T/ipykernel_48157/847093712.py:31: DeprecationWarning: `product` is deprecated as of NumPy 1.25.0, and will be removed in NumPy 2.0. Please use `prod` instead.\n",
                        "  prior_ho2sat = TabularCPD(\n",
                        "/var/folders/zq/v2r6yn111s3gpdf8lzf72xvw0000gn/T/ipykernel_48157/847093712.py:38: DeprecationWarning: `product` is deprecated as of NumPy 1.25.0, and will be removed in NumPy 2.0. Please use `prod` instead.\n",
                        "  prior_ar = TabularCPD(\n",
                        "/Users/tristan.trebaol/Desktop/PhD/Code/phd/src/models/helpers.py:327: IntegrationWarning: The maximum number of subdivisions (50) has been achieved.\n",
                        "  If increasing the limit yields no improvement it is advised to analyze \n",
                        "  the integrand in order to determine the difficulties.  If the position of a \n",
                        "  local difficulty can be determined (singularity, discontinuity) one will \n",
                        "  probably gain from splitting up the interval and calling the integrator \n",
                        "  on the subranges.  Perhaps a special-purpose integrator should be used.\n",
                        "  val, abserr = integrate.quad(\n",
                        "/var/folders/zq/v2r6yn111s3gpdf8lzf72xvw0000gn/T/ipykernel_48157/847093712.py:45: DeprecationWarning: `product` is deprecated as of NumPy 1.25.0, and will be removed in NumPy 2.0. Please use `prod` instead.\n",
                        "  cpt_fev1 = TabularCPD(\n",
                        "/var/folders/zq/v2r6yn111s3gpdf8lzf72xvw0000gn/T/ipykernel_48157/847093712.py:52: DeprecationWarning: `product` is deprecated as of NumPy 1.25.0, and will be removed in NumPy 2.0. Please use `prod` instead.\n",
                        "  cpt_o2_sat_ffa = TabularCPD(\n"
                    ]
                },
                {
                    "name": "stdout",
                    "output_type": "stream",
                    "text": [
                        "model took 38.628581047058105 seconds to build\n",
                        "inference took 11.615345239639282 seconds to run\n",
                        "\n",
                        "Running for ID 291, with 42 observations\n",
                        "*** Building FEV1 and O2 point in time model ***\n"
                    ]
                },
                {
                    "name": "stderr",
                    "output_type": "stream",
                    "text": [
                        "/var/folders/zq/v2r6yn111s3gpdf8lzf72xvw0000gn/T/ipykernel_48157/847093712.py:24: DeprecationWarning: `product` is deprecated as of NumPy 1.25.0, and will be removed in NumPy 2.0. Please use `prod` instead.\n",
                        "  prior_hfev1 = TabularCPD(\n",
                        "/var/folders/zq/v2r6yn111s3gpdf8lzf72xvw0000gn/T/ipykernel_48157/847093712.py:31: DeprecationWarning: `product` is deprecated as of NumPy 1.25.0, and will be removed in NumPy 2.0. Please use `prod` instead.\n",
                        "  prior_ho2sat = TabularCPD(\n",
                        "/var/folders/zq/v2r6yn111s3gpdf8lzf72xvw0000gn/T/ipykernel_48157/847093712.py:38: DeprecationWarning: `product` is deprecated as of NumPy 1.25.0, and will be removed in NumPy 2.0. Please use `prod` instead.\n",
                        "  prior_ar = TabularCPD(\n",
                        "/Users/tristan.trebaol/Desktop/PhD/Code/phd/src/models/helpers.py:327: IntegrationWarning: The maximum number of subdivisions (50) has been achieved.\n",
                        "  If increasing the limit yields no improvement it is advised to analyze \n",
                        "  the integrand in order to determine the difficulties.  If the position of a \n",
                        "  local difficulty can be determined (singularity, discontinuity) one will \n",
                        "  probably gain from splitting up the interval and calling the integrator \n",
                        "  on the subranges.  Perhaps a special-purpose integrator should be used.\n",
                        "  val, abserr = integrate.quad(\n",
                        "/var/folders/zq/v2r6yn111s3gpdf8lzf72xvw0000gn/T/ipykernel_48157/847093712.py:45: DeprecationWarning: `product` is deprecated as of NumPy 1.25.0, and will be removed in NumPy 2.0. Please use `prod` instead.\n",
                        "  cpt_fev1 = TabularCPD(\n",
                        "/var/folders/zq/v2r6yn111s3gpdf8lzf72xvw0000gn/T/ipykernel_48157/847093712.py:52: DeprecationWarning: `product` is deprecated as of NumPy 1.25.0, and will be removed in NumPy 2.0. Please use `prod` instead.\n",
                        "  cpt_o2_sat_ffa = TabularCPD(\n"
                    ]
                },
                {
                    "name": "stdout",
                    "output_type": "stream",
                    "text": [
                        "model took 38.52360391616821 seconds to build\n",
                        "inference took 8.0746169090271 seconds to run\n",
                        "\n",
                        "Running for ID 292, with 133 observations\n",
                        "*** Building FEV1 and O2 point in time model ***\n"
                    ]
                },
                {
                    "name": "stderr",
                    "output_type": "stream",
                    "text": [
                        "/var/folders/zq/v2r6yn111s3gpdf8lzf72xvw0000gn/T/ipykernel_48157/847093712.py:24: DeprecationWarning: `product` is deprecated as of NumPy 1.25.0, and will be removed in NumPy 2.0. Please use `prod` instead.\n",
                        "  prior_hfev1 = TabularCPD(\n",
                        "/var/folders/zq/v2r6yn111s3gpdf8lzf72xvw0000gn/T/ipykernel_48157/847093712.py:31: DeprecationWarning: `product` is deprecated as of NumPy 1.25.0, and will be removed in NumPy 2.0. Please use `prod` instead.\n",
                        "  prior_ho2sat = TabularCPD(\n",
                        "/var/folders/zq/v2r6yn111s3gpdf8lzf72xvw0000gn/T/ipykernel_48157/847093712.py:38: DeprecationWarning: `product` is deprecated as of NumPy 1.25.0, and will be removed in NumPy 2.0. Please use `prod` instead.\n",
                        "  prior_ar = TabularCPD(\n",
                        "/Users/tristan.trebaol/Desktop/PhD/Code/phd/src/models/helpers.py:327: IntegrationWarning: The maximum number of subdivisions (50) has been achieved.\n",
                        "  If increasing the limit yields no improvement it is advised to analyze \n",
                        "  the integrand in order to determine the difficulties.  If the position of a \n",
                        "  local difficulty can be determined (singularity, discontinuity) one will \n",
                        "  probably gain from splitting up the interval and calling the integrator \n",
                        "  on the subranges.  Perhaps a special-purpose integrator should be used.\n",
                        "  val, abserr = integrate.quad(\n",
                        "/var/folders/zq/v2r6yn111s3gpdf8lzf72xvw0000gn/T/ipykernel_48157/847093712.py:45: DeprecationWarning: `product` is deprecated as of NumPy 1.25.0, and will be removed in NumPy 2.0. Please use `prod` instead.\n",
                        "  cpt_fev1 = TabularCPD(\n",
                        "/var/folders/zq/v2r6yn111s3gpdf8lzf72xvw0000gn/T/ipykernel_48157/847093712.py:52: DeprecationWarning: `product` is deprecated as of NumPy 1.25.0, and will be removed in NumPy 2.0. Please use `prod` instead.\n",
                        "  cpt_o2_sat_ffa = TabularCPD(\n"
                    ]
                },
                {
                    "name": "stdout",
                    "output_type": "stream",
                    "text": [
                        "model took 38.603798627853394 seconds to build\n",
                        "inference took 19.68445086479187 seconds to run\n",
                        "\n",
                        "Running for ID 293, with 64 observations\n",
                        "*** Building FEV1 and O2 point in time model ***\n"
                    ]
                },
                {
                    "name": "stderr",
                    "output_type": "stream",
                    "text": [
                        "/var/folders/zq/v2r6yn111s3gpdf8lzf72xvw0000gn/T/ipykernel_48157/847093712.py:24: DeprecationWarning: `product` is deprecated as of NumPy 1.25.0, and will be removed in NumPy 2.0. Please use `prod` instead.\n",
                        "  prior_hfev1 = TabularCPD(\n",
                        "/var/folders/zq/v2r6yn111s3gpdf8lzf72xvw0000gn/T/ipykernel_48157/847093712.py:31: DeprecationWarning: `product` is deprecated as of NumPy 1.25.0, and will be removed in NumPy 2.0. Please use `prod` instead.\n",
                        "  prior_ho2sat = TabularCPD(\n",
                        "/var/folders/zq/v2r6yn111s3gpdf8lzf72xvw0000gn/T/ipykernel_48157/847093712.py:38: DeprecationWarning: `product` is deprecated as of NumPy 1.25.0, and will be removed in NumPy 2.0. Please use `prod` instead.\n",
                        "  prior_ar = TabularCPD(\n",
                        "/Users/tristan.trebaol/Desktop/PhD/Code/phd/src/models/helpers.py:327: IntegrationWarning: The maximum number of subdivisions (50) has been achieved.\n",
                        "  If increasing the limit yields no improvement it is advised to analyze \n",
                        "  the integrand in order to determine the difficulties.  If the position of a \n",
                        "  local difficulty can be determined (singularity, discontinuity) one will \n",
                        "  probably gain from splitting up the interval and calling the integrator \n",
                        "  on the subranges.  Perhaps a special-purpose integrator should be used.\n",
                        "  val, abserr = integrate.quad(\n",
                        "/var/folders/zq/v2r6yn111s3gpdf8lzf72xvw0000gn/T/ipykernel_48157/847093712.py:45: DeprecationWarning: `product` is deprecated as of NumPy 1.25.0, and will be removed in NumPy 2.0. Please use `prod` instead.\n",
                        "  cpt_fev1 = TabularCPD(\n",
                        "/var/folders/zq/v2r6yn111s3gpdf8lzf72xvw0000gn/T/ipykernel_48157/847093712.py:52: DeprecationWarning: `product` is deprecated as of NumPy 1.25.0, and will be removed in NumPy 2.0. Please use `prod` instead.\n",
                        "  cpt_o2_sat_ffa = TabularCPD(\n"
                    ]
                },
                {
                    "name": "stdout",
                    "output_type": "stream",
                    "text": [
                        "model took 38.52002501487732 seconds to build\n",
                        "inference took 10.884451866149902 seconds to run\n",
                        "\n",
                        "Running for ID 294, with 63 observations\n",
                        "*** Building FEV1 and O2 point in time model ***\n"
                    ]
                },
                {
                    "name": "stderr",
                    "output_type": "stream",
                    "text": [
                        "/var/folders/zq/v2r6yn111s3gpdf8lzf72xvw0000gn/T/ipykernel_48157/847093712.py:24: DeprecationWarning: `product` is deprecated as of NumPy 1.25.0, and will be removed in NumPy 2.0. Please use `prod` instead.\n",
                        "  prior_hfev1 = TabularCPD(\n",
                        "/var/folders/zq/v2r6yn111s3gpdf8lzf72xvw0000gn/T/ipykernel_48157/847093712.py:31: DeprecationWarning: `product` is deprecated as of NumPy 1.25.0, and will be removed in NumPy 2.0. Please use `prod` instead.\n",
                        "  prior_ho2sat = TabularCPD(\n",
                        "/var/folders/zq/v2r6yn111s3gpdf8lzf72xvw0000gn/T/ipykernel_48157/847093712.py:38: DeprecationWarning: `product` is deprecated as of NumPy 1.25.0, and will be removed in NumPy 2.0. Please use `prod` instead.\n",
                        "  prior_ar = TabularCPD(\n",
                        "/Users/tristan.trebaol/Desktop/PhD/Code/phd/src/models/helpers.py:327: IntegrationWarning: The maximum number of subdivisions (50) has been achieved.\n",
                        "  If increasing the limit yields no improvement it is advised to analyze \n",
                        "  the integrand in order to determine the difficulties.  If the position of a \n",
                        "  local difficulty can be determined (singularity, discontinuity) one will \n",
                        "  probably gain from splitting up the interval and calling the integrator \n",
                        "  on the subranges.  Perhaps a special-purpose integrator should be used.\n",
                        "  val, abserr = integrate.quad(\n",
                        "/var/folders/zq/v2r6yn111s3gpdf8lzf72xvw0000gn/T/ipykernel_48157/847093712.py:45: DeprecationWarning: `product` is deprecated as of NumPy 1.25.0, and will be removed in NumPy 2.0. Please use `prod` instead.\n",
                        "  cpt_fev1 = TabularCPD(\n",
                        "/var/folders/zq/v2r6yn111s3gpdf8lzf72xvw0000gn/T/ipykernel_48157/847093712.py:52: DeprecationWarning: `product` is deprecated as of NumPy 1.25.0, and will be removed in NumPy 2.0. Please use `prod` instead.\n",
                        "  cpt_o2_sat_ffa = TabularCPD(\n"
                    ]
                },
                {
                    "name": "stdout",
                    "output_type": "stream",
                    "text": [
                        "model took 38.66635513305664 seconds to build\n",
                        "inference took 11.346373081207275 seconds to run\n",
                        "\n",
                        "Running for ID 295, with 99 observations\n",
                        "*** Building FEV1 and O2 point in time model ***\n"
                    ]
                },
                {
                    "name": "stderr",
                    "output_type": "stream",
                    "text": [
                        "/var/folders/zq/v2r6yn111s3gpdf8lzf72xvw0000gn/T/ipykernel_48157/847093712.py:24: DeprecationWarning: `product` is deprecated as of NumPy 1.25.0, and will be removed in NumPy 2.0. Please use `prod` instead.\n",
                        "  prior_hfev1 = TabularCPD(\n",
                        "/var/folders/zq/v2r6yn111s3gpdf8lzf72xvw0000gn/T/ipykernel_48157/847093712.py:31: DeprecationWarning: `product` is deprecated as of NumPy 1.25.0, and will be removed in NumPy 2.0. Please use `prod` instead.\n",
                        "  prior_ho2sat = TabularCPD(\n",
                        "/var/folders/zq/v2r6yn111s3gpdf8lzf72xvw0000gn/T/ipykernel_48157/847093712.py:38: DeprecationWarning: `product` is deprecated as of NumPy 1.25.0, and will be removed in NumPy 2.0. Please use `prod` instead.\n",
                        "  prior_ar = TabularCPD(\n",
                        "/Users/tristan.trebaol/Desktop/PhD/Code/phd/src/models/helpers.py:327: IntegrationWarning: The maximum number of subdivisions (50) has been achieved.\n",
                        "  If increasing the limit yields no improvement it is advised to analyze \n",
                        "  the integrand in order to determine the difficulties.  If the position of a \n",
                        "  local difficulty can be determined (singularity, discontinuity) one will \n",
                        "  probably gain from splitting up the interval and calling the integrator \n",
                        "  on the subranges.  Perhaps a special-purpose integrator should be used.\n",
                        "  val, abserr = integrate.quad(\n",
                        "/var/folders/zq/v2r6yn111s3gpdf8lzf72xvw0000gn/T/ipykernel_48157/847093712.py:45: DeprecationWarning: `product` is deprecated as of NumPy 1.25.0, and will be removed in NumPy 2.0. Please use `prod` instead.\n",
                        "  cpt_fev1 = TabularCPD(\n",
                        "/var/folders/zq/v2r6yn111s3gpdf8lzf72xvw0000gn/T/ipykernel_48157/847093712.py:52: DeprecationWarning: `product` is deprecated as of NumPy 1.25.0, and will be removed in NumPy 2.0. Please use `prod` instead.\n",
                        "  cpt_o2_sat_ffa = TabularCPD(\n"
                    ]
                },
                {
                    "name": "stdout",
                    "output_type": "stream",
                    "text": [
                        "model took 38.746565103530884 seconds to build\n",
                        "inference took 12.861595869064331 seconds to run\n",
                        "\n",
                        "Running for ID 296, with 50 observations\n",
                        "*** Building FEV1 and O2 point in time model ***\n"
                    ]
                },
                {
                    "name": "stderr",
                    "output_type": "stream",
                    "text": [
                        "/var/folders/zq/v2r6yn111s3gpdf8lzf72xvw0000gn/T/ipykernel_48157/847093712.py:24: DeprecationWarning: `product` is deprecated as of NumPy 1.25.0, and will be removed in NumPy 2.0. Please use `prod` instead.\n",
                        "  prior_hfev1 = TabularCPD(\n",
                        "/var/folders/zq/v2r6yn111s3gpdf8lzf72xvw0000gn/T/ipykernel_48157/847093712.py:31: DeprecationWarning: `product` is deprecated as of NumPy 1.25.0, and will be removed in NumPy 2.0. Please use `prod` instead.\n",
                        "  prior_ho2sat = TabularCPD(\n",
                        "/var/folders/zq/v2r6yn111s3gpdf8lzf72xvw0000gn/T/ipykernel_48157/847093712.py:38: DeprecationWarning: `product` is deprecated as of NumPy 1.25.0, and will be removed in NumPy 2.0. Please use `prod` instead.\n",
                        "  prior_ar = TabularCPD(\n",
                        "/Users/tristan.trebaol/Desktop/PhD/Code/phd/src/models/helpers.py:327: IntegrationWarning: The maximum number of subdivisions (50) has been achieved.\n",
                        "  If increasing the limit yields no improvement it is advised to analyze \n",
                        "  the integrand in order to determine the difficulties.  If the position of a \n",
                        "  local difficulty can be determined (singularity, discontinuity) one will \n",
                        "  probably gain from splitting up the interval and calling the integrator \n",
                        "  on the subranges.  Perhaps a special-purpose integrator should be used.\n",
                        "  val, abserr = integrate.quad(\n",
                        "/var/folders/zq/v2r6yn111s3gpdf8lzf72xvw0000gn/T/ipykernel_48157/847093712.py:45: DeprecationWarning: `product` is deprecated as of NumPy 1.25.0, and will be removed in NumPy 2.0. Please use `prod` instead.\n",
                        "  cpt_fev1 = TabularCPD(\n",
                        "/var/folders/zq/v2r6yn111s3gpdf8lzf72xvw0000gn/T/ipykernel_48157/847093712.py:52: DeprecationWarning: `product` is deprecated as of NumPy 1.25.0, and will be removed in NumPy 2.0. Please use `prod` instead.\n",
                        "  cpt_o2_sat_ffa = TabularCPD(\n"
                    ]
                },
                {
                    "name": "stdout",
                    "output_type": "stream",
                    "text": [
                        "model took 38.770607233047485 seconds to build\n",
                        "inference took 8.52806282043457 seconds to run\n",
                        "\n",
                        "Running for ID 297, with 38 observations\n",
                        "*** Building FEV1 and O2 point in time model ***\n"
                    ]
                },
                {
                    "name": "stderr",
                    "output_type": "stream",
                    "text": [
                        "/var/folders/zq/v2r6yn111s3gpdf8lzf72xvw0000gn/T/ipykernel_48157/847093712.py:24: DeprecationWarning: `product` is deprecated as of NumPy 1.25.0, and will be removed in NumPy 2.0. Please use `prod` instead.\n",
                        "  prior_hfev1 = TabularCPD(\n",
                        "/var/folders/zq/v2r6yn111s3gpdf8lzf72xvw0000gn/T/ipykernel_48157/847093712.py:31: DeprecationWarning: `product` is deprecated as of NumPy 1.25.0, and will be removed in NumPy 2.0. Please use `prod` instead.\n",
                        "  prior_ho2sat = TabularCPD(\n",
                        "/var/folders/zq/v2r6yn111s3gpdf8lzf72xvw0000gn/T/ipykernel_48157/847093712.py:38: DeprecationWarning: `product` is deprecated as of NumPy 1.25.0, and will be removed in NumPy 2.0. Please use `prod` instead.\n",
                        "  prior_ar = TabularCPD(\n",
                        "/Users/tristan.trebaol/Desktop/PhD/Code/phd/src/models/helpers.py:327: IntegrationWarning: The maximum number of subdivisions (50) has been achieved.\n",
                        "  If increasing the limit yields no improvement it is advised to analyze \n",
                        "  the integrand in order to determine the difficulties.  If the position of a \n",
                        "  local difficulty can be determined (singularity, discontinuity) one will \n",
                        "  probably gain from splitting up the interval and calling the integrator \n",
                        "  on the subranges.  Perhaps a special-purpose integrator should be used.\n",
                        "  val, abserr = integrate.quad(\n",
                        "/var/folders/zq/v2r6yn111s3gpdf8lzf72xvw0000gn/T/ipykernel_48157/847093712.py:45: DeprecationWarning: `product` is deprecated as of NumPy 1.25.0, and will be removed in NumPy 2.0. Please use `prod` instead.\n",
                        "  cpt_fev1 = TabularCPD(\n",
                        "/var/folders/zq/v2r6yn111s3gpdf8lzf72xvw0000gn/T/ipykernel_48157/847093712.py:52: DeprecationWarning: `product` is deprecated as of NumPy 1.25.0, and will be removed in NumPy 2.0. Please use `prod` instead.\n",
                        "  cpt_o2_sat_ffa = TabularCPD(\n"
                    ]
                },
                {
                    "name": "stdout",
                    "output_type": "stream",
                    "text": [
                        "model took 38.74114680290222 seconds to build\n",
                        "inference took 8.909339904785156 seconds to run\n",
                        "\n",
                        "Running for ID 298, with 43 observations\n",
                        "*** Building FEV1 and O2 point in time model ***\n"
                    ]
                },
                {
                    "name": "stderr",
                    "output_type": "stream",
                    "text": [
                        "/var/folders/zq/v2r6yn111s3gpdf8lzf72xvw0000gn/T/ipykernel_48157/847093712.py:24: DeprecationWarning: `product` is deprecated as of NumPy 1.25.0, and will be removed in NumPy 2.0. Please use `prod` instead.\n",
                        "  prior_hfev1 = TabularCPD(\n",
                        "/var/folders/zq/v2r6yn111s3gpdf8lzf72xvw0000gn/T/ipykernel_48157/847093712.py:31: DeprecationWarning: `product` is deprecated as of NumPy 1.25.0, and will be removed in NumPy 2.0. Please use `prod` instead.\n",
                        "  prior_ho2sat = TabularCPD(\n",
                        "/var/folders/zq/v2r6yn111s3gpdf8lzf72xvw0000gn/T/ipykernel_48157/847093712.py:38: DeprecationWarning: `product` is deprecated as of NumPy 1.25.0, and will be removed in NumPy 2.0. Please use `prod` instead.\n",
                        "  prior_ar = TabularCPD(\n",
                        "/Users/tristan.trebaol/Desktop/PhD/Code/phd/src/models/helpers.py:327: IntegrationWarning: The maximum number of subdivisions (50) has been achieved.\n",
                        "  If increasing the limit yields no improvement it is advised to analyze \n",
                        "  the integrand in order to determine the difficulties.  If the position of a \n",
                        "  local difficulty can be determined (singularity, discontinuity) one will \n",
                        "  probably gain from splitting up the interval and calling the integrator \n",
                        "  on the subranges.  Perhaps a special-purpose integrator should be used.\n",
                        "  val, abserr = integrate.quad(\n",
                        "/var/folders/zq/v2r6yn111s3gpdf8lzf72xvw0000gn/T/ipykernel_48157/847093712.py:45: DeprecationWarning: `product` is deprecated as of NumPy 1.25.0, and will be removed in NumPy 2.0. Please use `prod` instead.\n",
                        "  cpt_fev1 = TabularCPD(\n",
                        "/var/folders/zq/v2r6yn111s3gpdf8lzf72xvw0000gn/T/ipykernel_48157/847093712.py:52: DeprecationWarning: `product` is deprecated as of NumPy 1.25.0, and will be removed in NumPy 2.0. Please use `prod` instead.\n",
                        "  cpt_o2_sat_ffa = TabularCPD(\n"
                    ]
                },
                {
                    "name": "stdout",
                    "output_type": "stream",
                    "text": [
                        "model took 38.646652936935425 seconds to build\n",
                        "inference took 6.017454147338867 seconds to run\n",
                        "\n",
                        "Running for ID 299, with 18 observations\n",
                        "*** Building FEV1 and O2 point in time model ***\n"
                    ]
                },
                {
                    "name": "stderr",
                    "output_type": "stream",
                    "text": [
                        "/var/folders/zq/v2r6yn111s3gpdf8lzf72xvw0000gn/T/ipykernel_48157/847093712.py:24: DeprecationWarning: `product` is deprecated as of NumPy 1.25.0, and will be removed in NumPy 2.0. Please use `prod` instead.\n",
                        "  prior_hfev1 = TabularCPD(\n",
                        "/var/folders/zq/v2r6yn111s3gpdf8lzf72xvw0000gn/T/ipykernel_48157/847093712.py:31: DeprecationWarning: `product` is deprecated as of NumPy 1.25.0, and will be removed in NumPy 2.0. Please use `prod` instead.\n",
                        "  prior_ho2sat = TabularCPD(\n",
                        "/var/folders/zq/v2r6yn111s3gpdf8lzf72xvw0000gn/T/ipykernel_48157/847093712.py:38: DeprecationWarning: `product` is deprecated as of NumPy 1.25.0, and will be removed in NumPy 2.0. Please use `prod` instead.\n",
                        "  prior_ar = TabularCPD(\n",
                        "/Users/tristan.trebaol/Desktop/PhD/Code/phd/src/models/helpers.py:327: IntegrationWarning: The maximum number of subdivisions (50) has been achieved.\n",
                        "  If increasing the limit yields no improvement it is advised to analyze \n",
                        "  the integrand in order to determine the difficulties.  If the position of a \n",
                        "  local difficulty can be determined (singularity, discontinuity) one will \n",
                        "  probably gain from splitting up the interval and calling the integrator \n",
                        "  on the subranges.  Perhaps a special-purpose integrator should be used.\n",
                        "  val, abserr = integrate.quad(\n",
                        "/var/folders/zq/v2r6yn111s3gpdf8lzf72xvw0000gn/T/ipykernel_48157/847093712.py:45: DeprecationWarning: `product` is deprecated as of NumPy 1.25.0, and will be removed in NumPy 2.0. Please use `prod` instead.\n",
                        "  cpt_fev1 = TabularCPD(\n",
                        "/var/folders/zq/v2r6yn111s3gpdf8lzf72xvw0000gn/T/ipykernel_48157/847093712.py:52: DeprecationWarning: `product` is deprecated as of NumPy 1.25.0, and will be removed in NumPy 2.0. Please use `prod` instead.\n",
                        "  cpt_o2_sat_ffa = TabularCPD(\n"
                    ]
                },
                {
                    "name": "stdout",
                    "output_type": "stream",
                    "text": [
                        "model took 38.53371286392212 seconds to build\n",
                        "inference took 3.4142367839813232 seconds to run\n",
                        "\n",
                        "Running for ID 300, with 48 observations\n",
                        "*** Building FEV1 and O2 point in time model ***\n"
                    ]
                },
                {
                    "name": "stderr",
                    "output_type": "stream",
                    "text": [
                        "/var/folders/zq/v2r6yn111s3gpdf8lzf72xvw0000gn/T/ipykernel_48157/847093712.py:24: DeprecationWarning: `product` is deprecated as of NumPy 1.25.0, and will be removed in NumPy 2.0. Please use `prod` instead.\n",
                        "  prior_hfev1 = TabularCPD(\n",
                        "/var/folders/zq/v2r6yn111s3gpdf8lzf72xvw0000gn/T/ipykernel_48157/847093712.py:31: DeprecationWarning: `product` is deprecated as of NumPy 1.25.0, and will be removed in NumPy 2.0. Please use `prod` instead.\n",
                        "  prior_ho2sat = TabularCPD(\n",
                        "/var/folders/zq/v2r6yn111s3gpdf8lzf72xvw0000gn/T/ipykernel_48157/847093712.py:38: DeprecationWarning: `product` is deprecated as of NumPy 1.25.0, and will be removed in NumPy 2.0. Please use `prod` instead.\n",
                        "  prior_ar = TabularCPD(\n",
                        "/Users/tristan.trebaol/Desktop/PhD/Code/phd/src/models/helpers.py:327: IntegrationWarning: The maximum number of subdivisions (50) has been achieved.\n",
                        "  If increasing the limit yields no improvement it is advised to analyze \n",
                        "  the integrand in order to determine the difficulties.  If the position of a \n",
                        "  local difficulty can be determined (singularity, discontinuity) one will \n",
                        "  probably gain from splitting up the interval and calling the integrator \n",
                        "  on the subranges.  Perhaps a special-purpose integrator should be used.\n",
                        "  val, abserr = integrate.quad(\n",
                        "/var/folders/zq/v2r6yn111s3gpdf8lzf72xvw0000gn/T/ipykernel_48157/847093712.py:45: DeprecationWarning: `product` is deprecated as of NumPy 1.25.0, and will be removed in NumPy 2.0. Please use `prod` instead.\n",
                        "  cpt_fev1 = TabularCPD(\n",
                        "/var/folders/zq/v2r6yn111s3gpdf8lzf72xvw0000gn/T/ipykernel_48157/847093712.py:52: DeprecationWarning: `product` is deprecated as of NumPy 1.25.0, and will be removed in NumPy 2.0. Please use `prod` instead.\n",
                        "  cpt_o2_sat_ffa = TabularCPD(\n"
                    ]
                },
                {
                    "name": "stdout",
                    "output_type": "stream",
                    "text": [
                        "model took 38.70455718040466 seconds to build\n",
                        "inference took 5.185197830200195 seconds to run\n",
                        "\n",
                        "Running for ID 301, with 33 observations\n",
                        "*** Building FEV1 and O2 point in time model ***\n"
                    ]
                },
                {
                    "name": "stderr",
                    "output_type": "stream",
                    "text": [
                        "/var/folders/zq/v2r6yn111s3gpdf8lzf72xvw0000gn/T/ipykernel_48157/847093712.py:24: DeprecationWarning: `product` is deprecated as of NumPy 1.25.0, and will be removed in NumPy 2.0. Please use `prod` instead.\n",
                        "  prior_hfev1 = TabularCPD(\n",
                        "/var/folders/zq/v2r6yn111s3gpdf8lzf72xvw0000gn/T/ipykernel_48157/847093712.py:31: DeprecationWarning: `product` is deprecated as of NumPy 1.25.0, and will be removed in NumPy 2.0. Please use `prod` instead.\n",
                        "  prior_ho2sat = TabularCPD(\n",
                        "/var/folders/zq/v2r6yn111s3gpdf8lzf72xvw0000gn/T/ipykernel_48157/847093712.py:38: DeprecationWarning: `product` is deprecated as of NumPy 1.25.0, and will be removed in NumPy 2.0. Please use `prod` instead.\n",
                        "  prior_ar = TabularCPD(\n",
                        "/Users/tristan.trebaol/Desktop/PhD/Code/phd/src/models/helpers.py:327: IntegrationWarning: The maximum number of subdivisions (50) has been achieved.\n",
                        "  If increasing the limit yields no improvement it is advised to analyze \n",
                        "  the integrand in order to determine the difficulties.  If the position of a \n",
                        "  local difficulty can be determined (singularity, discontinuity) one will \n",
                        "  probably gain from splitting up the interval and calling the integrator \n",
                        "  on the subranges.  Perhaps a special-purpose integrator should be used.\n",
                        "  val, abserr = integrate.quad(\n",
                        "/var/folders/zq/v2r6yn111s3gpdf8lzf72xvw0000gn/T/ipykernel_48157/847093712.py:45: DeprecationWarning: `product` is deprecated as of NumPy 1.25.0, and will be removed in NumPy 2.0. Please use `prod` instead.\n",
                        "  cpt_fev1 = TabularCPD(\n",
                        "/var/folders/zq/v2r6yn111s3gpdf8lzf72xvw0000gn/T/ipykernel_48157/847093712.py:52: DeprecationWarning: `product` is deprecated as of NumPy 1.25.0, and will be removed in NumPy 2.0. Please use `prod` instead.\n",
                        "  cpt_o2_sat_ffa = TabularCPD(\n"
                    ]
                },
                {
                    "name": "stdout",
                    "output_type": "stream",
                    "text": [
                        "model took 38.60035014152527 seconds to build\n",
                        "inference took 3.252902030944824 seconds to run\n",
                        "\n",
                        "Running for ID 302, with 91 observations\n",
                        "*** Building FEV1 and O2 point in time model ***\n"
                    ]
                },
                {
                    "name": "stderr",
                    "output_type": "stream",
                    "text": [
                        "/var/folders/zq/v2r6yn111s3gpdf8lzf72xvw0000gn/T/ipykernel_48157/847093712.py:24: DeprecationWarning: `product` is deprecated as of NumPy 1.25.0, and will be removed in NumPy 2.0. Please use `prod` instead.\n",
                        "  prior_hfev1 = TabularCPD(\n",
                        "/var/folders/zq/v2r6yn111s3gpdf8lzf72xvw0000gn/T/ipykernel_48157/847093712.py:31: DeprecationWarning: `product` is deprecated as of NumPy 1.25.0, and will be removed in NumPy 2.0. Please use `prod` instead.\n",
                        "  prior_ho2sat = TabularCPD(\n",
                        "/var/folders/zq/v2r6yn111s3gpdf8lzf72xvw0000gn/T/ipykernel_48157/847093712.py:38: DeprecationWarning: `product` is deprecated as of NumPy 1.25.0, and will be removed in NumPy 2.0. Please use `prod` instead.\n",
                        "  prior_ar = TabularCPD(\n",
                        "/Users/tristan.trebaol/Desktop/PhD/Code/phd/src/models/helpers.py:327: IntegrationWarning: The maximum number of subdivisions (50) has been achieved.\n",
                        "  If increasing the limit yields no improvement it is advised to analyze \n",
                        "  the integrand in order to determine the difficulties.  If the position of a \n",
                        "  local difficulty can be determined (singularity, discontinuity) one will \n",
                        "  probably gain from splitting up the interval and calling the integrator \n",
                        "  on the subranges.  Perhaps a special-purpose integrator should be used.\n",
                        "  val, abserr = integrate.quad(\n",
                        "/var/folders/zq/v2r6yn111s3gpdf8lzf72xvw0000gn/T/ipykernel_48157/847093712.py:45: DeprecationWarning: `product` is deprecated as of NumPy 1.25.0, and will be removed in NumPy 2.0. Please use `prod` instead.\n",
                        "  cpt_fev1 = TabularCPD(\n",
                        "/var/folders/zq/v2r6yn111s3gpdf8lzf72xvw0000gn/T/ipykernel_48157/847093712.py:52: DeprecationWarning: `product` is deprecated as of NumPy 1.25.0, and will be removed in NumPy 2.0. Please use `prod` instead.\n",
                        "  cpt_o2_sat_ffa = TabularCPD(\n"
                    ]
                },
                {
                    "name": "stdout",
                    "output_type": "stream",
                    "text": [
                        "model took 38.44999289512634 seconds to build\n",
                        "inference took 14.044543027877808 seconds to run\n",
                        "\n",
                        "Running for ID 303, with 27 observations\n",
                        "*** Building FEV1 and O2 point in time model ***\n"
                    ]
                },
                {
                    "name": "stderr",
                    "output_type": "stream",
                    "text": [
                        "/var/folders/zq/v2r6yn111s3gpdf8lzf72xvw0000gn/T/ipykernel_48157/847093712.py:24: DeprecationWarning: `product` is deprecated as of NumPy 1.25.0, and will be removed in NumPy 2.0. Please use `prod` instead.\n",
                        "  prior_hfev1 = TabularCPD(\n",
                        "/var/folders/zq/v2r6yn111s3gpdf8lzf72xvw0000gn/T/ipykernel_48157/847093712.py:31: DeprecationWarning: `product` is deprecated as of NumPy 1.25.0, and will be removed in NumPy 2.0. Please use `prod` instead.\n",
                        "  prior_ho2sat = TabularCPD(\n",
                        "/var/folders/zq/v2r6yn111s3gpdf8lzf72xvw0000gn/T/ipykernel_48157/847093712.py:38: DeprecationWarning: `product` is deprecated as of NumPy 1.25.0, and will be removed in NumPy 2.0. Please use `prod` instead.\n",
                        "  prior_ar = TabularCPD(\n",
                        "/Users/tristan.trebaol/Desktop/PhD/Code/phd/src/models/helpers.py:327: IntegrationWarning: The maximum number of subdivisions (50) has been achieved.\n",
                        "  If increasing the limit yields no improvement it is advised to analyze \n",
                        "  the integrand in order to determine the difficulties.  If the position of a \n",
                        "  local difficulty can be determined (singularity, discontinuity) one will \n",
                        "  probably gain from splitting up the interval and calling the integrator \n",
                        "  on the subranges.  Perhaps a special-purpose integrator should be used.\n",
                        "  val, abserr = integrate.quad(\n",
                        "/var/folders/zq/v2r6yn111s3gpdf8lzf72xvw0000gn/T/ipykernel_48157/847093712.py:45: DeprecationWarning: `product` is deprecated as of NumPy 1.25.0, and will be removed in NumPy 2.0. Please use `prod` instead.\n",
                        "  cpt_fev1 = TabularCPD(\n",
                        "/var/folders/zq/v2r6yn111s3gpdf8lzf72xvw0000gn/T/ipykernel_48157/847093712.py:52: DeprecationWarning: `product` is deprecated as of NumPy 1.25.0, and will be removed in NumPy 2.0. Please use `prod` instead.\n",
                        "  cpt_o2_sat_ffa = TabularCPD(\n"
                    ]
                },
                {
                    "name": "stdout",
                    "output_type": "stream",
                    "text": [
                        "model took 39.72306513786316 seconds to build\n",
                        "inference took 6.513102054595947 seconds to run\n",
                        "\n",
                        "Running for ID 304, with 21 observations\n",
                        "*** Building FEV1 and O2 point in time model ***\n"
                    ]
                },
                {
                    "name": "stderr",
                    "output_type": "stream",
                    "text": [
                        "/var/folders/zq/v2r6yn111s3gpdf8lzf72xvw0000gn/T/ipykernel_48157/847093712.py:24: DeprecationWarning: `product` is deprecated as of NumPy 1.25.0, and will be removed in NumPy 2.0. Please use `prod` instead.\n",
                        "  prior_hfev1 = TabularCPD(\n",
                        "/var/folders/zq/v2r6yn111s3gpdf8lzf72xvw0000gn/T/ipykernel_48157/847093712.py:31: DeprecationWarning: `product` is deprecated as of NumPy 1.25.0, and will be removed in NumPy 2.0. Please use `prod` instead.\n",
                        "  prior_ho2sat = TabularCPD(\n",
                        "/var/folders/zq/v2r6yn111s3gpdf8lzf72xvw0000gn/T/ipykernel_48157/847093712.py:38: DeprecationWarning: `product` is deprecated as of NumPy 1.25.0, and will be removed in NumPy 2.0. Please use `prod` instead.\n",
                        "  prior_ar = TabularCPD(\n",
                        "/Users/tristan.trebaol/Desktop/PhD/Code/phd/src/models/helpers.py:327: IntegrationWarning: The maximum number of subdivisions (50) has been achieved.\n",
                        "  If increasing the limit yields no improvement it is advised to analyze \n",
                        "  the integrand in order to determine the difficulties.  If the position of a \n",
                        "  local difficulty can be determined (singularity, discontinuity) one will \n",
                        "  probably gain from splitting up the interval and calling the integrator \n",
                        "  on the subranges.  Perhaps a special-purpose integrator should be used.\n",
                        "  val, abserr = integrate.quad(\n",
                        "/var/folders/zq/v2r6yn111s3gpdf8lzf72xvw0000gn/T/ipykernel_48157/847093712.py:45: DeprecationWarning: `product` is deprecated as of NumPy 1.25.0, and will be removed in NumPy 2.0. Please use `prod` instead.\n",
                        "  cpt_fev1 = TabularCPD(\n",
                        "/var/folders/zq/v2r6yn111s3gpdf8lzf72xvw0000gn/T/ipykernel_48157/847093712.py:52: DeprecationWarning: `product` is deprecated as of NumPy 1.25.0, and will be removed in NumPy 2.0. Please use `prod` instead.\n",
                        "  cpt_o2_sat_ffa = TabularCPD(\n"
                    ]
                },
                {
                    "name": "stdout",
                    "output_type": "stream",
                    "text": [
                        "model took 38.50370979309082 seconds to build\n",
                        "inference took 5.162606954574585 seconds to run\n",
                        "\n",
                        "Running for ID 305, with 2 observations\n",
                        "*** Building FEV1 and O2 point in time model ***\n"
                    ]
                },
                {
                    "name": "stderr",
                    "output_type": "stream",
                    "text": [
                        "/var/folders/zq/v2r6yn111s3gpdf8lzf72xvw0000gn/T/ipykernel_48157/847093712.py:24: DeprecationWarning: `product` is deprecated as of NumPy 1.25.0, and will be removed in NumPy 2.0. Please use `prod` instead.\n",
                        "  prior_hfev1 = TabularCPD(\n",
                        "/var/folders/zq/v2r6yn111s3gpdf8lzf72xvw0000gn/T/ipykernel_48157/847093712.py:31: DeprecationWarning: `product` is deprecated as of NumPy 1.25.0, and will be removed in NumPy 2.0. Please use `prod` instead.\n",
                        "  prior_ho2sat = TabularCPD(\n",
                        "/var/folders/zq/v2r6yn111s3gpdf8lzf72xvw0000gn/T/ipykernel_48157/847093712.py:38: DeprecationWarning: `product` is deprecated as of NumPy 1.25.0, and will be removed in NumPy 2.0. Please use `prod` instead.\n",
                        "  prior_ar = TabularCPD(\n",
                        "/Users/tristan.trebaol/Desktop/PhD/Code/phd/src/models/helpers.py:327: IntegrationWarning: The maximum number of subdivisions (50) has been achieved.\n",
                        "  If increasing the limit yields no improvement it is advised to analyze \n",
                        "  the integrand in order to determine the difficulties.  If the position of a \n",
                        "  local difficulty can be determined (singularity, discontinuity) one will \n",
                        "  probably gain from splitting up the interval and calling the integrator \n",
                        "  on the subranges.  Perhaps a special-purpose integrator should be used.\n",
                        "  val, abserr = integrate.quad(\n",
                        "/var/folders/zq/v2r6yn111s3gpdf8lzf72xvw0000gn/T/ipykernel_48157/847093712.py:45: DeprecationWarning: `product` is deprecated as of NumPy 1.25.0, and will be removed in NumPy 2.0. Please use `prod` instead.\n",
                        "  cpt_fev1 = TabularCPD(\n",
                        "/var/folders/zq/v2r6yn111s3gpdf8lzf72xvw0000gn/T/ipykernel_48157/847093712.py:52: DeprecationWarning: `product` is deprecated as of NumPy 1.25.0, and will be removed in NumPy 2.0. Please use `prod` instead.\n",
                        "  cpt_o2_sat_ffa = TabularCPD(\n"
                    ]
                },
                {
                    "name": "stdout",
                    "output_type": "stream",
                    "text": [
                        "model took 38.518593072891235 seconds to build\n",
                        "inference took 0.5239040851593018 seconds to run\n",
                        "\n",
                        "Running for ID 306, with 23 observations\n",
                        "*** Building FEV1 and O2 point in time model ***\n"
                    ]
                },
                {
                    "name": "stderr",
                    "output_type": "stream",
                    "text": [
                        "/var/folders/zq/v2r6yn111s3gpdf8lzf72xvw0000gn/T/ipykernel_48157/847093712.py:24: DeprecationWarning: `product` is deprecated as of NumPy 1.25.0, and will be removed in NumPy 2.0. Please use `prod` instead.\n",
                        "  prior_hfev1 = TabularCPD(\n",
                        "/var/folders/zq/v2r6yn111s3gpdf8lzf72xvw0000gn/T/ipykernel_48157/847093712.py:31: DeprecationWarning: `product` is deprecated as of NumPy 1.25.0, and will be removed in NumPy 2.0. Please use `prod` instead.\n",
                        "  prior_ho2sat = TabularCPD(\n",
                        "/var/folders/zq/v2r6yn111s3gpdf8lzf72xvw0000gn/T/ipykernel_48157/847093712.py:38: DeprecationWarning: `product` is deprecated as of NumPy 1.25.0, and will be removed in NumPy 2.0. Please use `prod` instead.\n",
                        "  prior_ar = TabularCPD(\n",
                        "/Users/tristan.trebaol/Desktop/PhD/Code/phd/src/models/helpers.py:327: IntegrationWarning: The maximum number of subdivisions (50) has been achieved.\n",
                        "  If increasing the limit yields no improvement it is advised to analyze \n",
                        "  the integrand in order to determine the difficulties.  If the position of a \n",
                        "  local difficulty can be determined (singularity, discontinuity) one will \n",
                        "  probably gain from splitting up the interval and calling the integrator \n",
                        "  on the subranges.  Perhaps a special-purpose integrator should be used.\n",
                        "  val, abserr = integrate.quad(\n",
                        "/var/folders/zq/v2r6yn111s3gpdf8lzf72xvw0000gn/T/ipykernel_48157/847093712.py:45: DeprecationWarning: `product` is deprecated as of NumPy 1.25.0, and will be removed in NumPy 2.0. Please use `prod` instead.\n",
                        "  cpt_fev1 = TabularCPD(\n",
                        "/var/folders/zq/v2r6yn111s3gpdf8lzf72xvw0000gn/T/ipykernel_48157/847093712.py:52: DeprecationWarning: `product` is deprecated as of NumPy 1.25.0, and will be removed in NumPy 2.0. Please use `prod` instead.\n",
                        "  cpt_o2_sat_ffa = TabularCPD(\n"
                    ]
                },
                {
                    "name": "stdout",
                    "output_type": "stream",
                    "text": [
                        "model took 38.397950887680054 seconds to build\n",
                        "inference took 5.691456079483032 seconds to run\n",
                        "\n",
                        "Running for ID 307, with 55 observations\n",
                        "*** Building FEV1 and O2 point in time model ***\n"
                    ]
                },
                {
                    "name": "stderr",
                    "output_type": "stream",
                    "text": [
                        "/var/folders/zq/v2r6yn111s3gpdf8lzf72xvw0000gn/T/ipykernel_48157/847093712.py:24: DeprecationWarning: `product` is deprecated as of NumPy 1.25.0, and will be removed in NumPy 2.0. Please use `prod` instead.\n",
                        "  prior_hfev1 = TabularCPD(\n",
                        "/var/folders/zq/v2r6yn111s3gpdf8lzf72xvw0000gn/T/ipykernel_48157/847093712.py:31: DeprecationWarning: `product` is deprecated as of NumPy 1.25.0, and will be removed in NumPy 2.0. Please use `prod` instead.\n",
                        "  prior_ho2sat = TabularCPD(\n",
                        "/var/folders/zq/v2r6yn111s3gpdf8lzf72xvw0000gn/T/ipykernel_48157/847093712.py:38: DeprecationWarning: `product` is deprecated as of NumPy 1.25.0, and will be removed in NumPy 2.0. Please use `prod` instead.\n",
                        "  prior_ar = TabularCPD(\n",
                        "/Users/tristan.trebaol/Desktop/PhD/Code/phd/src/models/helpers.py:327: IntegrationWarning: The maximum number of subdivisions (50) has been achieved.\n",
                        "  If increasing the limit yields no improvement it is advised to analyze \n",
                        "  the integrand in order to determine the difficulties.  If the position of a \n",
                        "  local difficulty can be determined (singularity, discontinuity) one will \n",
                        "  probably gain from splitting up the interval and calling the integrator \n",
                        "  on the subranges.  Perhaps a special-purpose integrator should be used.\n",
                        "  val, abserr = integrate.quad(\n",
                        "/var/folders/zq/v2r6yn111s3gpdf8lzf72xvw0000gn/T/ipykernel_48157/847093712.py:45: DeprecationWarning: `product` is deprecated as of NumPy 1.25.0, and will be removed in NumPy 2.0. Please use `prod` instead.\n",
                        "  cpt_fev1 = TabularCPD(\n",
                        "/var/folders/zq/v2r6yn111s3gpdf8lzf72xvw0000gn/T/ipykernel_48157/847093712.py:52: DeprecationWarning: `product` is deprecated as of NumPy 1.25.0, and will be removed in NumPy 2.0. Please use `prod` instead.\n",
                        "  cpt_o2_sat_ffa = TabularCPD(\n"
                    ]
                },
                {
                    "name": "stdout",
                    "output_type": "stream",
                    "text": [
                        "model took 38.4394371509552 seconds to build\n",
                        "inference took 7.582748889923096 seconds to run\n",
                        "\n",
                        "Running for ID 308, with 2 observations\n",
                        "*** Building FEV1 and O2 point in time model ***\n"
                    ]
                },
                {
                    "name": "stderr",
                    "output_type": "stream",
                    "text": [
                        "/var/folders/zq/v2r6yn111s3gpdf8lzf72xvw0000gn/T/ipykernel_48157/847093712.py:24: DeprecationWarning: `product` is deprecated as of NumPy 1.25.0, and will be removed in NumPy 2.0. Please use `prod` instead.\n",
                        "  prior_hfev1 = TabularCPD(\n",
                        "/var/folders/zq/v2r6yn111s3gpdf8lzf72xvw0000gn/T/ipykernel_48157/847093712.py:31: DeprecationWarning: `product` is deprecated as of NumPy 1.25.0, and will be removed in NumPy 2.0. Please use `prod` instead.\n",
                        "  prior_ho2sat = TabularCPD(\n",
                        "/var/folders/zq/v2r6yn111s3gpdf8lzf72xvw0000gn/T/ipykernel_48157/847093712.py:38: DeprecationWarning: `product` is deprecated as of NumPy 1.25.0, and will be removed in NumPy 2.0. Please use `prod` instead.\n",
                        "  prior_ar = TabularCPD(\n",
                        "/Users/tristan.trebaol/Desktop/PhD/Code/phd/src/models/helpers.py:327: IntegrationWarning: The maximum number of subdivisions (50) has been achieved.\n",
                        "  If increasing the limit yields no improvement it is advised to analyze \n",
                        "  the integrand in order to determine the difficulties.  If the position of a \n",
                        "  local difficulty can be determined (singularity, discontinuity) one will \n",
                        "  probably gain from splitting up the interval and calling the integrator \n",
                        "  on the subranges.  Perhaps a special-purpose integrator should be used.\n",
                        "  val, abserr = integrate.quad(\n",
                        "/var/folders/zq/v2r6yn111s3gpdf8lzf72xvw0000gn/T/ipykernel_48157/847093712.py:45: DeprecationWarning: `product` is deprecated as of NumPy 1.25.0, and will be removed in NumPy 2.0. Please use `prod` instead.\n",
                        "  cpt_fev1 = TabularCPD(\n",
                        "/var/folders/zq/v2r6yn111s3gpdf8lzf72xvw0000gn/T/ipykernel_48157/847093712.py:52: DeprecationWarning: `product` is deprecated as of NumPy 1.25.0, and will be removed in NumPy 2.0. Please use `prod` instead.\n",
                        "  cpt_o2_sat_ffa = TabularCPD(\n"
                    ]
                },
                {
                    "name": "stdout",
                    "output_type": "stream",
                    "text": [
                        "model took 38.728646993637085 seconds to build\n",
                        "inference took 0.5121030807495117 seconds to run\n",
                        "\n",
                        "Running for ID 309, with 10 observations\n",
                        "*** Building FEV1 and O2 point in time model ***\n"
                    ]
                },
                {
                    "name": "stderr",
                    "output_type": "stream",
                    "text": [
                        "/var/folders/zq/v2r6yn111s3gpdf8lzf72xvw0000gn/T/ipykernel_48157/847093712.py:24: DeprecationWarning: `product` is deprecated as of NumPy 1.25.0, and will be removed in NumPy 2.0. Please use `prod` instead.\n",
                        "  prior_hfev1 = TabularCPD(\n",
                        "/var/folders/zq/v2r6yn111s3gpdf8lzf72xvw0000gn/T/ipykernel_48157/847093712.py:31: DeprecationWarning: `product` is deprecated as of NumPy 1.25.0, and will be removed in NumPy 2.0. Please use `prod` instead.\n",
                        "  prior_ho2sat = TabularCPD(\n",
                        "/var/folders/zq/v2r6yn111s3gpdf8lzf72xvw0000gn/T/ipykernel_48157/847093712.py:38: DeprecationWarning: `product` is deprecated as of NumPy 1.25.0, and will be removed in NumPy 2.0. Please use `prod` instead.\n",
                        "  prior_ar = TabularCPD(\n",
                        "/Users/tristan.trebaol/Desktop/PhD/Code/phd/src/models/helpers.py:327: IntegrationWarning: The maximum number of subdivisions (50) has been achieved.\n",
                        "  If increasing the limit yields no improvement it is advised to analyze \n",
                        "  the integrand in order to determine the difficulties.  If the position of a \n",
                        "  local difficulty can be determined (singularity, discontinuity) one will \n",
                        "  probably gain from splitting up the interval and calling the integrator \n",
                        "  on the subranges.  Perhaps a special-purpose integrator should be used.\n",
                        "  val, abserr = integrate.quad(\n",
                        "/var/folders/zq/v2r6yn111s3gpdf8lzf72xvw0000gn/T/ipykernel_48157/847093712.py:45: DeprecationWarning: `product` is deprecated as of NumPy 1.25.0, and will be removed in NumPy 2.0. Please use `prod` instead.\n",
                        "  cpt_fev1 = TabularCPD(\n",
                        "/var/folders/zq/v2r6yn111s3gpdf8lzf72xvw0000gn/T/ipykernel_48157/847093712.py:52: DeprecationWarning: `product` is deprecated as of NumPy 1.25.0, and will be removed in NumPy 2.0. Please use `prod` instead.\n",
                        "  cpt_o2_sat_ffa = TabularCPD(\n"
                    ]
                },
                {
                    "name": "stdout",
                    "output_type": "stream",
                    "text": [
                        "model took 39.19088792800903 seconds to build\n",
                        "inference took 2.7726762294769287 seconds to run\n",
                        "\n",
                        "Running for ID 310, with 72 observations\n",
                        "*** Building FEV1 and O2 point in time model ***\n"
                    ]
                },
                {
                    "name": "stderr",
                    "output_type": "stream",
                    "text": [
                        "/var/folders/zq/v2r6yn111s3gpdf8lzf72xvw0000gn/T/ipykernel_48157/847093712.py:24: DeprecationWarning: `product` is deprecated as of NumPy 1.25.0, and will be removed in NumPy 2.0. Please use `prod` instead.\n",
                        "  prior_hfev1 = TabularCPD(\n",
                        "/var/folders/zq/v2r6yn111s3gpdf8lzf72xvw0000gn/T/ipykernel_48157/847093712.py:31: DeprecationWarning: `product` is deprecated as of NumPy 1.25.0, and will be removed in NumPy 2.0. Please use `prod` instead.\n",
                        "  prior_ho2sat = TabularCPD(\n",
                        "/var/folders/zq/v2r6yn111s3gpdf8lzf72xvw0000gn/T/ipykernel_48157/847093712.py:38: DeprecationWarning: `product` is deprecated as of NumPy 1.25.0, and will be removed in NumPy 2.0. Please use `prod` instead.\n",
                        "  prior_ar = TabularCPD(\n",
                        "/Users/tristan.trebaol/Desktop/PhD/Code/phd/src/models/helpers.py:327: IntegrationWarning: The maximum number of subdivisions (50) has been achieved.\n",
                        "  If increasing the limit yields no improvement it is advised to analyze \n",
                        "  the integrand in order to determine the difficulties.  If the position of a \n",
                        "  local difficulty can be determined (singularity, discontinuity) one will \n",
                        "  probably gain from splitting up the interval and calling the integrator \n",
                        "  on the subranges.  Perhaps a special-purpose integrator should be used.\n",
                        "  val, abserr = integrate.quad(\n",
                        "/var/folders/zq/v2r6yn111s3gpdf8lzf72xvw0000gn/T/ipykernel_48157/847093712.py:45: DeprecationWarning: `product` is deprecated as of NumPy 1.25.0, and will be removed in NumPy 2.0. Please use `prod` instead.\n",
                        "  cpt_fev1 = TabularCPD(\n",
                        "/var/folders/zq/v2r6yn111s3gpdf8lzf72xvw0000gn/T/ipykernel_48157/847093712.py:52: DeprecationWarning: `product` is deprecated as of NumPy 1.25.0, and will be removed in NumPy 2.0. Please use `prod` instead.\n",
                        "  cpt_o2_sat_ffa = TabularCPD(\n"
                    ]
                },
                {
                    "name": "stdout",
                    "output_type": "stream",
                    "text": [
                        "model took 39.037070751190186 seconds to build\n",
                        "inference took 6.67693305015564 seconds to run\n",
                        "\n",
                        "Running for ID 311, with 126 observations\n",
                        "*** Building FEV1 and O2 point in time model ***\n"
                    ]
                },
                {
                    "name": "stderr",
                    "output_type": "stream",
                    "text": [
                        "/var/folders/zq/v2r6yn111s3gpdf8lzf72xvw0000gn/T/ipykernel_48157/847093712.py:24: DeprecationWarning: `product` is deprecated as of NumPy 1.25.0, and will be removed in NumPy 2.0. Please use `prod` instead.\n",
                        "  prior_hfev1 = TabularCPD(\n",
                        "/var/folders/zq/v2r6yn111s3gpdf8lzf72xvw0000gn/T/ipykernel_48157/847093712.py:31: DeprecationWarning: `product` is deprecated as of NumPy 1.25.0, and will be removed in NumPy 2.0. Please use `prod` instead.\n",
                        "  prior_ho2sat = TabularCPD(\n",
                        "/var/folders/zq/v2r6yn111s3gpdf8lzf72xvw0000gn/T/ipykernel_48157/847093712.py:38: DeprecationWarning: `product` is deprecated as of NumPy 1.25.0, and will be removed in NumPy 2.0. Please use `prod` instead.\n",
                        "  prior_ar = TabularCPD(\n",
                        "/Users/tristan.trebaol/Desktop/PhD/Code/phd/src/models/helpers.py:327: IntegrationWarning: The maximum number of subdivisions (50) has been achieved.\n",
                        "  If increasing the limit yields no improvement it is advised to analyze \n",
                        "  the integrand in order to determine the difficulties.  If the position of a \n",
                        "  local difficulty can be determined (singularity, discontinuity) one will \n",
                        "  probably gain from splitting up the interval and calling the integrator \n",
                        "  on the subranges.  Perhaps a special-purpose integrator should be used.\n",
                        "  val, abserr = integrate.quad(\n",
                        "/var/folders/zq/v2r6yn111s3gpdf8lzf72xvw0000gn/T/ipykernel_48157/847093712.py:45: DeprecationWarning: `product` is deprecated as of NumPy 1.25.0, and will be removed in NumPy 2.0. Please use `prod` instead.\n",
                        "  cpt_fev1 = TabularCPD(\n",
                        "/var/folders/zq/v2r6yn111s3gpdf8lzf72xvw0000gn/T/ipykernel_48157/847093712.py:52: DeprecationWarning: `product` is deprecated as of NumPy 1.25.0, and will be removed in NumPy 2.0. Please use `prod` instead.\n",
                        "  cpt_o2_sat_ffa = TabularCPD(\n"
                    ]
                },
                {
                    "name": "stdout",
                    "output_type": "stream",
                    "text": [
                        "model took 38.27619504928589 seconds to build\n",
                        "inference took 11.44260025024414 seconds to run\n",
                        "\n",
                        "Running for ID 312, with 30 observations\n",
                        "*** Building FEV1 and O2 point in time model ***\n"
                    ]
                },
                {
                    "name": "stderr",
                    "output_type": "stream",
                    "text": [
                        "/var/folders/zq/v2r6yn111s3gpdf8lzf72xvw0000gn/T/ipykernel_48157/847093712.py:24: DeprecationWarning: `product` is deprecated as of NumPy 1.25.0, and will be removed in NumPy 2.0. Please use `prod` instead.\n",
                        "  prior_hfev1 = TabularCPD(\n",
                        "/var/folders/zq/v2r6yn111s3gpdf8lzf72xvw0000gn/T/ipykernel_48157/847093712.py:31: DeprecationWarning: `product` is deprecated as of NumPy 1.25.0, and will be removed in NumPy 2.0. Please use `prod` instead.\n",
                        "  prior_ho2sat = TabularCPD(\n",
                        "/var/folders/zq/v2r6yn111s3gpdf8lzf72xvw0000gn/T/ipykernel_48157/847093712.py:38: DeprecationWarning: `product` is deprecated as of NumPy 1.25.0, and will be removed in NumPy 2.0. Please use `prod` instead.\n",
                        "  prior_ar = TabularCPD(\n",
                        "/Users/tristan.trebaol/Desktop/PhD/Code/phd/src/models/helpers.py:327: IntegrationWarning: The maximum number of subdivisions (50) has been achieved.\n",
                        "  If increasing the limit yields no improvement it is advised to analyze \n",
                        "  the integrand in order to determine the difficulties.  If the position of a \n",
                        "  local difficulty can be determined (singularity, discontinuity) one will \n",
                        "  probably gain from splitting up the interval and calling the integrator \n",
                        "  on the subranges.  Perhaps a special-purpose integrator should be used.\n",
                        "  val, abserr = integrate.quad(\n",
                        "/var/folders/zq/v2r6yn111s3gpdf8lzf72xvw0000gn/T/ipykernel_48157/847093712.py:45: DeprecationWarning: `product` is deprecated as of NumPy 1.25.0, and will be removed in NumPy 2.0. Please use `prod` instead.\n",
                        "  cpt_fev1 = TabularCPD(\n",
                        "/var/folders/zq/v2r6yn111s3gpdf8lzf72xvw0000gn/T/ipykernel_48157/847093712.py:52: DeprecationWarning: `product` is deprecated as of NumPy 1.25.0, and will be removed in NumPy 2.0. Please use `prod` instead.\n",
                        "  cpt_o2_sat_ffa = TabularCPD(\n"
                    ]
                },
                {
                    "name": "stdout",
                    "output_type": "stream",
                    "text": [
                        "model took 38.12339401245117 seconds to build\n",
                        "inference took 6.6479411125183105 seconds to run\n",
                        "\n",
                        "Running for ID 313, with 8 observations\n",
                        "*** Building FEV1 and O2 point in time model ***\n"
                    ]
                },
                {
                    "name": "stderr",
                    "output_type": "stream",
                    "text": [
                        "/var/folders/zq/v2r6yn111s3gpdf8lzf72xvw0000gn/T/ipykernel_48157/847093712.py:24: DeprecationWarning: `product` is deprecated as of NumPy 1.25.0, and will be removed in NumPy 2.0. Please use `prod` instead.\n",
                        "  prior_hfev1 = TabularCPD(\n",
                        "/var/folders/zq/v2r6yn111s3gpdf8lzf72xvw0000gn/T/ipykernel_48157/847093712.py:31: DeprecationWarning: `product` is deprecated as of NumPy 1.25.0, and will be removed in NumPy 2.0. Please use `prod` instead.\n",
                        "  prior_ho2sat = TabularCPD(\n",
                        "/var/folders/zq/v2r6yn111s3gpdf8lzf72xvw0000gn/T/ipykernel_48157/847093712.py:38: DeprecationWarning: `product` is deprecated as of NumPy 1.25.0, and will be removed in NumPy 2.0. Please use `prod` instead.\n",
                        "  prior_ar = TabularCPD(\n",
                        "/Users/tristan.trebaol/Desktop/PhD/Code/phd/src/models/helpers.py:327: IntegrationWarning: The maximum number of subdivisions (50) has been achieved.\n",
                        "  If increasing the limit yields no improvement it is advised to analyze \n",
                        "  the integrand in order to determine the difficulties.  If the position of a \n",
                        "  local difficulty can be determined (singularity, discontinuity) one will \n",
                        "  probably gain from splitting up the interval and calling the integrator \n",
                        "  on the subranges.  Perhaps a special-purpose integrator should be used.\n",
                        "  val, abserr = integrate.quad(\n",
                        "/var/folders/zq/v2r6yn111s3gpdf8lzf72xvw0000gn/T/ipykernel_48157/847093712.py:45: DeprecationWarning: `product` is deprecated as of NumPy 1.25.0, and will be removed in NumPy 2.0. Please use `prod` instead.\n",
                        "  cpt_fev1 = TabularCPD(\n",
                        "/var/folders/zq/v2r6yn111s3gpdf8lzf72xvw0000gn/T/ipykernel_48157/847093712.py:52: DeprecationWarning: `product` is deprecated as of NumPy 1.25.0, and will be removed in NumPy 2.0. Please use `prod` instead.\n",
                        "  cpt_o2_sat_ffa = TabularCPD(\n"
                    ]
                },
                {
                    "name": "stdout",
                    "output_type": "stream",
                    "text": [
                        "model took 38.16926908493042 seconds to build\n",
                        "inference took 1.8712687492370605 seconds to run\n",
                        "\n",
                        "Running for ID 314, with 19 observations\n",
                        "*** Building FEV1 and O2 point in time model ***\n"
                    ]
                },
                {
                    "name": "stderr",
                    "output_type": "stream",
                    "text": [
                        "/var/folders/zq/v2r6yn111s3gpdf8lzf72xvw0000gn/T/ipykernel_48157/847093712.py:24: DeprecationWarning: `product` is deprecated as of NumPy 1.25.0, and will be removed in NumPy 2.0. Please use `prod` instead.\n",
                        "  prior_hfev1 = TabularCPD(\n",
                        "/var/folders/zq/v2r6yn111s3gpdf8lzf72xvw0000gn/T/ipykernel_48157/847093712.py:31: DeprecationWarning: `product` is deprecated as of NumPy 1.25.0, and will be removed in NumPy 2.0. Please use `prod` instead.\n",
                        "  prior_ho2sat = TabularCPD(\n",
                        "/var/folders/zq/v2r6yn111s3gpdf8lzf72xvw0000gn/T/ipykernel_48157/847093712.py:38: DeprecationWarning: `product` is deprecated as of NumPy 1.25.0, and will be removed in NumPy 2.0. Please use `prod` instead.\n",
                        "  prior_ar = TabularCPD(\n",
                        "/Users/tristan.trebaol/Desktop/PhD/Code/phd/src/models/helpers.py:327: IntegrationWarning: The maximum number of subdivisions (50) has been achieved.\n",
                        "  If increasing the limit yields no improvement it is advised to analyze \n",
                        "  the integrand in order to determine the difficulties.  If the position of a \n",
                        "  local difficulty can be determined (singularity, discontinuity) one will \n",
                        "  probably gain from splitting up the interval and calling the integrator \n",
                        "  on the subranges.  Perhaps a special-purpose integrator should be used.\n",
                        "  val, abserr = integrate.quad(\n",
                        "/var/folders/zq/v2r6yn111s3gpdf8lzf72xvw0000gn/T/ipykernel_48157/847093712.py:45: DeprecationWarning: `product` is deprecated as of NumPy 1.25.0, and will be removed in NumPy 2.0. Please use `prod` instead.\n",
                        "  cpt_fev1 = TabularCPD(\n",
                        "/var/folders/zq/v2r6yn111s3gpdf8lzf72xvw0000gn/T/ipykernel_48157/847093712.py:52: DeprecationWarning: `product` is deprecated as of NumPy 1.25.0, and will be removed in NumPy 2.0. Please use `prod` instead.\n",
                        "  cpt_o2_sat_ffa = TabularCPD(\n"
                    ]
                },
                {
                    "name": "stdout",
                    "output_type": "stream",
                    "text": [
                        "model took 38.0378212928772 seconds to build\n",
                        "inference took 3.7232072353363037 seconds to run\n",
                        "\n",
                        "Running for ID 315, with 42 observations\n",
                        "*** Building FEV1 and O2 point in time model ***\n"
                    ]
                },
                {
                    "name": "stderr",
                    "output_type": "stream",
                    "text": [
                        "/var/folders/zq/v2r6yn111s3gpdf8lzf72xvw0000gn/T/ipykernel_48157/847093712.py:24: DeprecationWarning: `product` is deprecated as of NumPy 1.25.0, and will be removed in NumPy 2.0. Please use `prod` instead.\n",
                        "  prior_hfev1 = TabularCPD(\n",
                        "/var/folders/zq/v2r6yn111s3gpdf8lzf72xvw0000gn/T/ipykernel_48157/847093712.py:31: DeprecationWarning: `product` is deprecated as of NumPy 1.25.0, and will be removed in NumPy 2.0. Please use `prod` instead.\n",
                        "  prior_ho2sat = TabularCPD(\n",
                        "/var/folders/zq/v2r6yn111s3gpdf8lzf72xvw0000gn/T/ipykernel_48157/847093712.py:38: DeprecationWarning: `product` is deprecated as of NumPy 1.25.0, and will be removed in NumPy 2.0. Please use `prod` instead.\n",
                        "  prior_ar = TabularCPD(\n",
                        "/Users/tristan.trebaol/Desktop/PhD/Code/phd/src/models/helpers.py:327: IntegrationWarning: The maximum number of subdivisions (50) has been achieved.\n",
                        "  If increasing the limit yields no improvement it is advised to analyze \n",
                        "  the integrand in order to determine the difficulties.  If the position of a \n",
                        "  local difficulty can be determined (singularity, discontinuity) one will \n",
                        "  probably gain from splitting up the interval and calling the integrator \n",
                        "  on the subranges.  Perhaps a special-purpose integrator should be used.\n",
                        "  val, abserr = integrate.quad(\n",
                        "/var/folders/zq/v2r6yn111s3gpdf8lzf72xvw0000gn/T/ipykernel_48157/847093712.py:45: DeprecationWarning: `product` is deprecated as of NumPy 1.25.0, and will be removed in NumPy 2.0. Please use `prod` instead.\n",
                        "  cpt_fev1 = TabularCPD(\n",
                        "/var/folders/zq/v2r6yn111s3gpdf8lzf72xvw0000gn/T/ipykernel_48157/847093712.py:52: DeprecationWarning: `product` is deprecated as of NumPy 1.25.0, and will be removed in NumPy 2.0. Please use `prod` instead.\n",
                        "  cpt_o2_sat_ffa = TabularCPD(\n"
                    ]
                },
                {
                    "name": "stdout",
                    "output_type": "stream",
                    "text": [
                        "model took 38.19898796081543 seconds to build\n",
                        "inference took 5.14602518081665 seconds to run\n",
                        "\n",
                        "Running for ID 317, with 59 observations\n",
                        "*** Building FEV1 and O2 point in time model ***\n"
                    ]
                },
                {
                    "name": "stderr",
                    "output_type": "stream",
                    "text": [
                        "/var/folders/zq/v2r6yn111s3gpdf8lzf72xvw0000gn/T/ipykernel_48157/847093712.py:24: DeprecationWarning: `product` is deprecated as of NumPy 1.25.0, and will be removed in NumPy 2.0. Please use `prod` instead.\n",
                        "  prior_hfev1 = TabularCPD(\n",
                        "/var/folders/zq/v2r6yn111s3gpdf8lzf72xvw0000gn/T/ipykernel_48157/847093712.py:31: DeprecationWarning: `product` is deprecated as of NumPy 1.25.0, and will be removed in NumPy 2.0. Please use `prod` instead.\n",
                        "  prior_ho2sat = TabularCPD(\n",
                        "/var/folders/zq/v2r6yn111s3gpdf8lzf72xvw0000gn/T/ipykernel_48157/847093712.py:38: DeprecationWarning: `product` is deprecated as of NumPy 1.25.0, and will be removed in NumPy 2.0. Please use `prod` instead.\n",
                        "  prior_ar = TabularCPD(\n",
                        "/Users/tristan.trebaol/Desktop/PhD/Code/phd/src/models/helpers.py:327: IntegrationWarning: The maximum number of subdivisions (50) has been achieved.\n",
                        "  If increasing the limit yields no improvement it is advised to analyze \n",
                        "  the integrand in order to determine the difficulties.  If the position of a \n",
                        "  local difficulty can be determined (singularity, discontinuity) one will \n",
                        "  probably gain from splitting up the interval and calling the integrator \n",
                        "  on the subranges.  Perhaps a special-purpose integrator should be used.\n",
                        "  val, abserr = integrate.quad(\n",
                        "/var/folders/zq/v2r6yn111s3gpdf8lzf72xvw0000gn/T/ipykernel_48157/847093712.py:45: DeprecationWarning: `product` is deprecated as of NumPy 1.25.0, and will be removed in NumPy 2.0. Please use `prod` instead.\n",
                        "  cpt_fev1 = TabularCPD(\n",
                        "/var/folders/zq/v2r6yn111s3gpdf8lzf72xvw0000gn/T/ipykernel_48157/847093712.py:52: DeprecationWarning: `product` is deprecated as of NumPy 1.25.0, and will be removed in NumPy 2.0. Please use `prod` instead.\n",
                        "  cpt_o2_sat_ffa = TabularCPD(\n"
                    ]
                },
                {
                    "name": "stdout",
                    "output_type": "stream",
                    "text": [
                        "model took 38.06709384918213 seconds to build\n",
                        "inference took 9.227080821990967 seconds to run\n",
                        "\n",
                        "Running for ID 318, with 18 observations\n",
                        "*** Building FEV1 and O2 point in time model ***\n"
                    ]
                },
                {
                    "name": "stderr",
                    "output_type": "stream",
                    "text": [
                        "/var/folders/zq/v2r6yn111s3gpdf8lzf72xvw0000gn/T/ipykernel_48157/847093712.py:24: DeprecationWarning: `product` is deprecated as of NumPy 1.25.0, and will be removed in NumPy 2.0. Please use `prod` instead.\n",
                        "  prior_hfev1 = TabularCPD(\n",
                        "/var/folders/zq/v2r6yn111s3gpdf8lzf72xvw0000gn/T/ipykernel_48157/847093712.py:31: DeprecationWarning: `product` is deprecated as of NumPy 1.25.0, and will be removed in NumPy 2.0. Please use `prod` instead.\n",
                        "  prior_ho2sat = TabularCPD(\n",
                        "/var/folders/zq/v2r6yn111s3gpdf8lzf72xvw0000gn/T/ipykernel_48157/847093712.py:38: DeprecationWarning: `product` is deprecated as of NumPy 1.25.0, and will be removed in NumPy 2.0. Please use `prod` instead.\n",
                        "  prior_ar = TabularCPD(\n",
                        "/Users/tristan.trebaol/Desktop/PhD/Code/phd/src/models/helpers.py:327: IntegrationWarning: The maximum number of subdivisions (50) has been achieved.\n",
                        "  If increasing the limit yields no improvement it is advised to analyze \n",
                        "  the integrand in order to determine the difficulties.  If the position of a \n",
                        "  local difficulty can be determined (singularity, discontinuity) one will \n",
                        "  probably gain from splitting up the interval and calling the integrator \n",
                        "  on the subranges.  Perhaps a special-purpose integrator should be used.\n",
                        "  val, abserr = integrate.quad(\n",
                        "/var/folders/zq/v2r6yn111s3gpdf8lzf72xvw0000gn/T/ipykernel_48157/847093712.py:45: DeprecationWarning: `product` is deprecated as of NumPy 1.25.0, and will be removed in NumPy 2.0. Please use `prod` instead.\n",
                        "  cpt_fev1 = TabularCPD(\n",
                        "/var/folders/zq/v2r6yn111s3gpdf8lzf72xvw0000gn/T/ipykernel_48157/847093712.py:52: DeprecationWarning: `product` is deprecated as of NumPy 1.25.0, and will be removed in NumPy 2.0. Please use `prod` instead.\n",
                        "  cpt_o2_sat_ffa = TabularCPD(\n"
                    ]
                },
                {
                    "name": "stdout",
                    "output_type": "stream",
                    "text": [
                        "model took 38.14534401893616 seconds to build\n",
                        "inference took 4.604953765869141 seconds to run\n",
                        "\n",
                        "Running for ID 319, with 66 observations\n",
                        "*** Building FEV1 and O2 point in time model ***\n"
                    ]
                },
                {
                    "name": "stderr",
                    "output_type": "stream",
                    "text": [
                        "/var/folders/zq/v2r6yn111s3gpdf8lzf72xvw0000gn/T/ipykernel_48157/847093712.py:24: DeprecationWarning: `product` is deprecated as of NumPy 1.25.0, and will be removed in NumPy 2.0. Please use `prod` instead.\n",
                        "  prior_hfev1 = TabularCPD(\n",
                        "/var/folders/zq/v2r6yn111s3gpdf8lzf72xvw0000gn/T/ipykernel_48157/847093712.py:31: DeprecationWarning: `product` is deprecated as of NumPy 1.25.0, and will be removed in NumPy 2.0. Please use `prod` instead.\n",
                        "  prior_ho2sat = TabularCPD(\n",
                        "/var/folders/zq/v2r6yn111s3gpdf8lzf72xvw0000gn/T/ipykernel_48157/847093712.py:38: DeprecationWarning: `product` is deprecated as of NumPy 1.25.0, and will be removed in NumPy 2.0. Please use `prod` instead.\n",
                        "  prior_ar = TabularCPD(\n",
                        "/Users/tristan.trebaol/Desktop/PhD/Code/phd/src/models/helpers.py:327: IntegrationWarning: The maximum number of subdivisions (50) has been achieved.\n",
                        "  If increasing the limit yields no improvement it is advised to analyze \n",
                        "  the integrand in order to determine the difficulties.  If the position of a \n",
                        "  local difficulty can be determined (singularity, discontinuity) one will \n",
                        "  probably gain from splitting up the interval and calling the integrator \n",
                        "  on the subranges.  Perhaps a special-purpose integrator should be used.\n",
                        "  val, abserr = integrate.quad(\n",
                        "/var/folders/zq/v2r6yn111s3gpdf8lzf72xvw0000gn/T/ipykernel_48157/847093712.py:45: DeprecationWarning: `product` is deprecated as of NumPy 1.25.0, and will be removed in NumPy 2.0. Please use `prod` instead.\n",
                        "  cpt_fev1 = TabularCPD(\n",
                        "/var/folders/zq/v2r6yn111s3gpdf8lzf72xvw0000gn/T/ipykernel_48157/847093712.py:52: DeprecationWarning: `product` is deprecated as of NumPy 1.25.0, and will be removed in NumPy 2.0. Please use `prod` instead.\n",
                        "  cpt_o2_sat_ffa = TabularCPD(\n"
                    ]
                },
                {
                    "name": "stdout",
                    "output_type": "stream",
                    "text": [
                        "model took 38.15934920310974 seconds to build\n",
                        "inference took 8.6906578540802 seconds to run\n",
                        "\n",
                        "Running for ID 320, with 3 observations\n",
                        "*** Building FEV1 and O2 point in time model ***\n"
                    ]
                },
                {
                    "name": "stderr",
                    "output_type": "stream",
                    "text": [
                        "/var/folders/zq/v2r6yn111s3gpdf8lzf72xvw0000gn/T/ipykernel_48157/847093712.py:24: DeprecationWarning: `product` is deprecated as of NumPy 1.25.0, and will be removed in NumPy 2.0. Please use `prod` instead.\n",
                        "  prior_hfev1 = TabularCPD(\n",
                        "/var/folders/zq/v2r6yn111s3gpdf8lzf72xvw0000gn/T/ipykernel_48157/847093712.py:31: DeprecationWarning: `product` is deprecated as of NumPy 1.25.0, and will be removed in NumPy 2.0. Please use `prod` instead.\n",
                        "  prior_ho2sat = TabularCPD(\n",
                        "/var/folders/zq/v2r6yn111s3gpdf8lzf72xvw0000gn/T/ipykernel_48157/847093712.py:38: DeprecationWarning: `product` is deprecated as of NumPy 1.25.0, and will be removed in NumPy 2.0. Please use `prod` instead.\n",
                        "  prior_ar = TabularCPD(\n",
                        "/Users/tristan.trebaol/Desktop/PhD/Code/phd/src/models/helpers.py:327: IntegrationWarning: The maximum number of subdivisions (50) has been achieved.\n",
                        "  If increasing the limit yields no improvement it is advised to analyze \n",
                        "  the integrand in order to determine the difficulties.  If the position of a \n",
                        "  local difficulty can be determined (singularity, discontinuity) one will \n",
                        "  probably gain from splitting up the interval and calling the integrator \n",
                        "  on the subranges.  Perhaps a special-purpose integrator should be used.\n",
                        "  val, abserr = integrate.quad(\n",
                        "/var/folders/zq/v2r6yn111s3gpdf8lzf72xvw0000gn/T/ipykernel_48157/847093712.py:45: DeprecationWarning: `product` is deprecated as of NumPy 1.25.0, and will be removed in NumPy 2.0. Please use `prod` instead.\n",
                        "  cpt_fev1 = TabularCPD(\n",
                        "/var/folders/zq/v2r6yn111s3gpdf8lzf72xvw0000gn/T/ipykernel_48157/847093712.py:52: DeprecationWarning: `product` is deprecated as of NumPy 1.25.0, and will be removed in NumPy 2.0. Please use `prod` instead.\n",
                        "  cpt_o2_sat_ffa = TabularCPD(\n"
                    ]
                },
                {
                    "name": "stdout",
                    "output_type": "stream",
                    "text": [
                        "model took 38.20976495742798 seconds to build\n",
                        "inference took 0.6704609394073486 seconds to run\n",
                        "\n",
                        "Running for ID 325, with 7 observations\n",
                        "*** Building FEV1 and O2 point in time model ***\n"
                    ]
                },
                {
                    "name": "stderr",
                    "output_type": "stream",
                    "text": [
                        "/var/folders/zq/v2r6yn111s3gpdf8lzf72xvw0000gn/T/ipykernel_48157/847093712.py:24: DeprecationWarning: `product` is deprecated as of NumPy 1.25.0, and will be removed in NumPy 2.0. Please use `prod` instead.\n",
                        "  prior_hfev1 = TabularCPD(\n",
                        "/var/folders/zq/v2r6yn111s3gpdf8lzf72xvw0000gn/T/ipykernel_48157/847093712.py:31: DeprecationWarning: `product` is deprecated as of NumPy 1.25.0, and will be removed in NumPy 2.0. Please use `prod` instead.\n",
                        "  prior_ho2sat = TabularCPD(\n",
                        "/var/folders/zq/v2r6yn111s3gpdf8lzf72xvw0000gn/T/ipykernel_48157/847093712.py:38: DeprecationWarning: `product` is deprecated as of NumPy 1.25.0, and will be removed in NumPy 2.0. Please use `prod` instead.\n",
                        "  prior_ar = TabularCPD(\n",
                        "/Users/tristan.trebaol/Desktop/PhD/Code/phd/src/models/helpers.py:327: IntegrationWarning: The maximum number of subdivisions (50) has been achieved.\n",
                        "  If increasing the limit yields no improvement it is advised to analyze \n",
                        "  the integrand in order to determine the difficulties.  If the position of a \n",
                        "  local difficulty can be determined (singularity, discontinuity) one will \n",
                        "  probably gain from splitting up the interval and calling the integrator \n",
                        "  on the subranges.  Perhaps a special-purpose integrator should be used.\n",
                        "  val, abserr = integrate.quad(\n",
                        "/var/folders/zq/v2r6yn111s3gpdf8lzf72xvw0000gn/T/ipykernel_48157/847093712.py:45: DeprecationWarning: `product` is deprecated as of NumPy 1.25.0, and will be removed in NumPy 2.0. Please use `prod` instead.\n",
                        "  cpt_fev1 = TabularCPD(\n",
                        "/var/folders/zq/v2r6yn111s3gpdf8lzf72xvw0000gn/T/ipykernel_48157/847093712.py:52: DeprecationWarning: `product` is deprecated as of NumPy 1.25.0, and will be removed in NumPy 2.0. Please use `prod` instead.\n",
                        "  cpt_o2_sat_ffa = TabularCPD(\n"
                    ]
                },
                {
                    "name": "stdout",
                    "output_type": "stream",
                    "text": [
                        "model took 38.19118785858154 seconds to build\n",
                        "inference took 1.5394790172576904 seconds to run\n",
                        "\n",
                        "Running for ID 327, with 2 observations\n",
                        "*** Building FEV1 and O2 point in time model ***\n"
                    ]
                },
                {
                    "name": "stderr",
                    "output_type": "stream",
                    "text": [
                        "/var/folders/zq/v2r6yn111s3gpdf8lzf72xvw0000gn/T/ipykernel_48157/847093712.py:24: DeprecationWarning: `product` is deprecated as of NumPy 1.25.0, and will be removed in NumPy 2.0. Please use `prod` instead.\n",
                        "  prior_hfev1 = TabularCPD(\n",
                        "/var/folders/zq/v2r6yn111s3gpdf8lzf72xvw0000gn/T/ipykernel_48157/847093712.py:31: DeprecationWarning: `product` is deprecated as of NumPy 1.25.0, and will be removed in NumPy 2.0. Please use `prod` instead.\n",
                        "  prior_ho2sat = TabularCPD(\n",
                        "/var/folders/zq/v2r6yn111s3gpdf8lzf72xvw0000gn/T/ipykernel_48157/847093712.py:38: DeprecationWarning: `product` is deprecated as of NumPy 1.25.0, and will be removed in NumPy 2.0. Please use `prod` instead.\n",
                        "  prior_ar = TabularCPD(\n",
                        "/Users/tristan.trebaol/Desktop/PhD/Code/phd/src/models/helpers.py:327: IntegrationWarning: The maximum number of subdivisions (50) has been achieved.\n",
                        "  If increasing the limit yields no improvement it is advised to analyze \n",
                        "  the integrand in order to determine the difficulties.  If the position of a \n",
                        "  local difficulty can be determined (singularity, discontinuity) one will \n",
                        "  probably gain from splitting up the interval and calling the integrator \n",
                        "  on the subranges.  Perhaps a special-purpose integrator should be used.\n",
                        "  val, abserr = integrate.quad(\n",
                        "/var/folders/zq/v2r6yn111s3gpdf8lzf72xvw0000gn/T/ipykernel_48157/847093712.py:45: DeprecationWarning: `product` is deprecated as of NumPy 1.25.0, and will be removed in NumPy 2.0. Please use `prod` instead.\n",
                        "  cpt_fev1 = TabularCPD(\n",
                        "/var/folders/zq/v2r6yn111s3gpdf8lzf72xvw0000gn/T/ipykernel_48157/847093712.py:52: DeprecationWarning: `product` is deprecated as of NumPy 1.25.0, and will be removed in NumPy 2.0. Please use `prod` instead.\n",
                        "  cpt_o2_sat_ffa = TabularCPD(\n"
                    ]
                },
                {
                    "name": "stdout",
                    "output_type": "stream",
                    "text": [
                        "model took 38.232677936553955 seconds to build\n",
                        "inference took 0.5040011405944824 seconds to run\n",
                        "\n",
                        "Running for ID 331, with 63 observations\n",
                        "*** Building FEV1 and O2 point in time model ***\n"
                    ]
                },
                {
                    "name": "stderr",
                    "output_type": "stream",
                    "text": [
                        "/var/folders/zq/v2r6yn111s3gpdf8lzf72xvw0000gn/T/ipykernel_48157/847093712.py:24: DeprecationWarning: `product` is deprecated as of NumPy 1.25.0, and will be removed in NumPy 2.0. Please use `prod` instead.\n",
                        "  prior_hfev1 = TabularCPD(\n",
                        "/var/folders/zq/v2r6yn111s3gpdf8lzf72xvw0000gn/T/ipykernel_48157/847093712.py:31: DeprecationWarning: `product` is deprecated as of NumPy 1.25.0, and will be removed in NumPy 2.0. Please use `prod` instead.\n",
                        "  prior_ho2sat = TabularCPD(\n",
                        "/var/folders/zq/v2r6yn111s3gpdf8lzf72xvw0000gn/T/ipykernel_48157/847093712.py:38: DeprecationWarning: `product` is deprecated as of NumPy 1.25.0, and will be removed in NumPy 2.0. Please use `prod` instead.\n",
                        "  prior_ar = TabularCPD(\n",
                        "/Users/tristan.trebaol/Desktop/PhD/Code/phd/src/models/helpers.py:327: IntegrationWarning: The maximum number of subdivisions (50) has been achieved.\n",
                        "  If increasing the limit yields no improvement it is advised to analyze \n",
                        "  the integrand in order to determine the difficulties.  If the position of a \n",
                        "  local difficulty can be determined (singularity, discontinuity) one will \n",
                        "  probably gain from splitting up the interval and calling the integrator \n",
                        "  on the subranges.  Perhaps a special-purpose integrator should be used.\n",
                        "  val, abserr = integrate.quad(\n",
                        "/var/folders/zq/v2r6yn111s3gpdf8lzf72xvw0000gn/T/ipykernel_48157/847093712.py:45: DeprecationWarning: `product` is deprecated as of NumPy 1.25.0, and will be removed in NumPy 2.0. Please use `prod` instead.\n",
                        "  cpt_fev1 = TabularCPD(\n",
                        "/var/folders/zq/v2r6yn111s3gpdf8lzf72xvw0000gn/T/ipykernel_48157/847093712.py:52: DeprecationWarning: `product` is deprecated as of NumPy 1.25.0, and will be removed in NumPy 2.0. Please use `prod` instead.\n",
                        "  cpt_o2_sat_ffa = TabularCPD(\n"
                    ]
                },
                {
                    "name": "stdout",
                    "output_type": "stream",
                    "text": [
                        "model took 38.21821188926697 seconds to build\n",
                        "inference took 8.933790922164917 seconds to run\n",
                        "\n",
                        "Running for ID 333, with 1 observations\n",
                        "*** Building FEV1 and O2 point in time model ***\n"
                    ]
                },
                {
                    "name": "stderr",
                    "output_type": "stream",
                    "text": [
                        "/var/folders/zq/v2r6yn111s3gpdf8lzf72xvw0000gn/T/ipykernel_48157/847093712.py:24: DeprecationWarning: `product` is deprecated as of NumPy 1.25.0, and will be removed in NumPy 2.0. Please use `prod` instead.\n",
                        "  prior_hfev1 = TabularCPD(\n",
                        "/var/folders/zq/v2r6yn111s3gpdf8lzf72xvw0000gn/T/ipykernel_48157/847093712.py:31: DeprecationWarning: `product` is deprecated as of NumPy 1.25.0, and will be removed in NumPy 2.0. Please use `prod` instead.\n",
                        "  prior_ho2sat = TabularCPD(\n",
                        "/var/folders/zq/v2r6yn111s3gpdf8lzf72xvw0000gn/T/ipykernel_48157/847093712.py:38: DeprecationWarning: `product` is deprecated as of NumPy 1.25.0, and will be removed in NumPy 2.0. Please use `prod` instead.\n",
                        "  prior_ar = TabularCPD(\n",
                        "/Users/tristan.trebaol/Desktop/PhD/Code/phd/src/models/helpers.py:327: IntegrationWarning: The maximum number of subdivisions (50) has been achieved.\n",
                        "  If increasing the limit yields no improvement it is advised to analyze \n",
                        "  the integrand in order to determine the difficulties.  If the position of a \n",
                        "  local difficulty can be determined (singularity, discontinuity) one will \n",
                        "  probably gain from splitting up the interval and calling the integrator \n",
                        "  on the subranges.  Perhaps a special-purpose integrator should be used.\n",
                        "  val, abserr = integrate.quad(\n",
                        "/var/folders/zq/v2r6yn111s3gpdf8lzf72xvw0000gn/T/ipykernel_48157/847093712.py:45: DeprecationWarning: `product` is deprecated as of NumPy 1.25.0, and will be removed in NumPy 2.0. Please use `prod` instead.\n",
                        "  cpt_fev1 = TabularCPD(\n",
                        "/var/folders/zq/v2r6yn111s3gpdf8lzf72xvw0000gn/T/ipykernel_48157/847093712.py:52: DeprecationWarning: `product` is deprecated as of NumPy 1.25.0, and will be removed in NumPy 2.0. Please use `prod` instead.\n",
                        "  cpt_o2_sat_ffa = TabularCPD(\n"
                    ]
                },
                {
                    "name": "stdout",
                    "output_type": "stream",
                    "text": [
                        "model took 38.25399708747864 seconds to build\n",
                        "inference took 0.35427308082580566 seconds to run\n",
                        "\n",
                        "Running for ID 334, with 6 observations\n",
                        "*** Building FEV1 and O2 point in time model ***\n"
                    ]
                },
                {
                    "name": "stderr",
                    "output_type": "stream",
                    "text": [
                        "/var/folders/zq/v2r6yn111s3gpdf8lzf72xvw0000gn/T/ipykernel_48157/847093712.py:24: DeprecationWarning: `product` is deprecated as of NumPy 1.25.0, and will be removed in NumPy 2.0. Please use `prod` instead.\n",
                        "  prior_hfev1 = TabularCPD(\n",
                        "/var/folders/zq/v2r6yn111s3gpdf8lzf72xvw0000gn/T/ipykernel_48157/847093712.py:31: DeprecationWarning: `product` is deprecated as of NumPy 1.25.0, and will be removed in NumPy 2.0. Please use `prod` instead.\n",
                        "  prior_ho2sat = TabularCPD(\n",
                        "/var/folders/zq/v2r6yn111s3gpdf8lzf72xvw0000gn/T/ipykernel_48157/847093712.py:38: DeprecationWarning: `product` is deprecated as of NumPy 1.25.0, and will be removed in NumPy 2.0. Please use `prod` instead.\n",
                        "  prior_ar = TabularCPD(\n",
                        "/Users/tristan.trebaol/Desktop/PhD/Code/phd/src/models/helpers.py:327: IntegrationWarning: The maximum number of subdivisions (50) has been achieved.\n",
                        "  If increasing the limit yields no improvement it is advised to analyze \n",
                        "  the integrand in order to determine the difficulties.  If the position of a \n",
                        "  local difficulty can be determined (singularity, discontinuity) one will \n",
                        "  probably gain from splitting up the interval and calling the integrator \n",
                        "  on the subranges.  Perhaps a special-purpose integrator should be used.\n",
                        "  val, abserr = integrate.quad(\n",
                        "/var/folders/zq/v2r6yn111s3gpdf8lzf72xvw0000gn/T/ipykernel_48157/847093712.py:45: DeprecationWarning: `product` is deprecated as of NumPy 1.25.0, and will be removed in NumPy 2.0. Please use `prod` instead.\n",
                        "  cpt_fev1 = TabularCPD(\n",
                        "/var/folders/zq/v2r6yn111s3gpdf8lzf72xvw0000gn/T/ipykernel_48157/847093712.py:52: DeprecationWarning: `product` is deprecated as of NumPy 1.25.0, and will be removed in NumPy 2.0. Please use `prod` instead.\n",
                        "  cpt_o2_sat_ffa = TabularCPD(\n"
                    ]
                },
                {
                    "name": "stdout",
                    "output_type": "stream",
                    "text": [
                        "model took 38.39962983131409 seconds to build\n",
                        "inference took 1.527698040008545 seconds to run\n",
                        "\n",
                        "Running for ID 336, with 44 observations\n",
                        "*** Building FEV1 and O2 point in time model ***\n"
                    ]
                },
                {
                    "name": "stderr",
                    "output_type": "stream",
                    "text": [
                        "/var/folders/zq/v2r6yn111s3gpdf8lzf72xvw0000gn/T/ipykernel_48157/847093712.py:24: DeprecationWarning: `product` is deprecated as of NumPy 1.25.0, and will be removed in NumPy 2.0. Please use `prod` instead.\n",
                        "  prior_hfev1 = TabularCPD(\n",
                        "/var/folders/zq/v2r6yn111s3gpdf8lzf72xvw0000gn/T/ipykernel_48157/847093712.py:31: DeprecationWarning: `product` is deprecated as of NumPy 1.25.0, and will be removed in NumPy 2.0. Please use `prod` instead.\n",
                        "  prior_ho2sat = TabularCPD(\n",
                        "/var/folders/zq/v2r6yn111s3gpdf8lzf72xvw0000gn/T/ipykernel_48157/847093712.py:38: DeprecationWarning: `product` is deprecated as of NumPy 1.25.0, and will be removed in NumPy 2.0. Please use `prod` instead.\n",
                        "  prior_ar = TabularCPD(\n",
                        "/Users/tristan.trebaol/Desktop/PhD/Code/phd/src/models/helpers.py:327: IntegrationWarning: The maximum number of subdivisions (50) has been achieved.\n",
                        "  If increasing the limit yields no improvement it is advised to analyze \n",
                        "  the integrand in order to determine the difficulties.  If the position of a \n",
                        "  local difficulty can be determined (singularity, discontinuity) one will \n",
                        "  probably gain from splitting up the interval and calling the integrator \n",
                        "  on the subranges.  Perhaps a special-purpose integrator should be used.\n",
                        "  val, abserr = integrate.quad(\n",
                        "/var/folders/zq/v2r6yn111s3gpdf8lzf72xvw0000gn/T/ipykernel_48157/847093712.py:45: DeprecationWarning: `product` is deprecated as of NumPy 1.25.0, and will be removed in NumPy 2.0. Please use `prod` instead.\n",
                        "  cpt_fev1 = TabularCPD(\n",
                        "/var/folders/zq/v2r6yn111s3gpdf8lzf72xvw0000gn/T/ipykernel_48157/847093712.py:52: DeprecationWarning: `product` is deprecated as of NumPy 1.25.0, and will be removed in NumPy 2.0. Please use `prod` instead.\n",
                        "  cpt_o2_sat_ffa = TabularCPD(\n"
                    ]
                },
                {
                    "name": "stdout",
                    "output_type": "stream",
                    "text": [
                        "model took 38.15874481201172 seconds to build\n",
                        "inference took 5.446460962295532 seconds to run\n",
                        "\n",
                        "Running for ID 339, with 22 observations\n",
                        "*** Building FEV1 and O2 point in time model ***\n"
                    ]
                },
                {
                    "name": "stderr",
                    "output_type": "stream",
                    "text": [
                        "/var/folders/zq/v2r6yn111s3gpdf8lzf72xvw0000gn/T/ipykernel_48157/847093712.py:24: DeprecationWarning: `product` is deprecated as of NumPy 1.25.0, and will be removed in NumPy 2.0. Please use `prod` instead.\n",
                        "  prior_hfev1 = TabularCPD(\n",
                        "/var/folders/zq/v2r6yn111s3gpdf8lzf72xvw0000gn/T/ipykernel_48157/847093712.py:31: DeprecationWarning: `product` is deprecated as of NumPy 1.25.0, and will be removed in NumPy 2.0. Please use `prod` instead.\n",
                        "  prior_ho2sat = TabularCPD(\n",
                        "/var/folders/zq/v2r6yn111s3gpdf8lzf72xvw0000gn/T/ipykernel_48157/847093712.py:38: DeprecationWarning: `product` is deprecated as of NumPy 1.25.0, and will be removed in NumPy 2.0. Please use `prod` instead.\n",
                        "  prior_ar = TabularCPD(\n",
                        "/Users/tristan.trebaol/Desktop/PhD/Code/phd/src/models/helpers.py:327: IntegrationWarning: The maximum number of subdivisions (50) has been achieved.\n",
                        "  If increasing the limit yields no improvement it is advised to analyze \n",
                        "  the integrand in order to determine the difficulties.  If the position of a \n",
                        "  local difficulty can be determined (singularity, discontinuity) one will \n",
                        "  probably gain from splitting up the interval and calling the integrator \n",
                        "  on the subranges.  Perhaps a special-purpose integrator should be used.\n",
                        "  val, abserr = integrate.quad(\n",
                        "/var/folders/zq/v2r6yn111s3gpdf8lzf72xvw0000gn/T/ipykernel_48157/847093712.py:45: DeprecationWarning: `product` is deprecated as of NumPy 1.25.0, and will be removed in NumPy 2.0. Please use `prod` instead.\n",
                        "  cpt_fev1 = TabularCPD(\n",
                        "/var/folders/zq/v2r6yn111s3gpdf8lzf72xvw0000gn/T/ipykernel_48157/847093712.py:52: DeprecationWarning: `product` is deprecated as of NumPy 1.25.0, and will be removed in NumPy 2.0. Please use `prod` instead.\n",
                        "  cpt_o2_sat_ffa = TabularCPD(\n"
                    ]
                },
                {
                    "name": "stdout",
                    "output_type": "stream",
                    "text": [
                        "model took 38.15427803993225 seconds to build\n",
                        "inference took 3.7548651695251465 seconds to run\n",
                        "\n",
                        "Running for ID 340, with 1 observations\n",
                        "*** Building FEV1 and O2 point in time model ***\n"
                    ]
                },
                {
                    "name": "stderr",
                    "output_type": "stream",
                    "text": [
                        "/var/folders/zq/v2r6yn111s3gpdf8lzf72xvw0000gn/T/ipykernel_48157/847093712.py:24: DeprecationWarning: `product` is deprecated as of NumPy 1.25.0, and will be removed in NumPy 2.0. Please use `prod` instead.\n",
                        "  prior_hfev1 = TabularCPD(\n",
                        "/var/folders/zq/v2r6yn111s3gpdf8lzf72xvw0000gn/T/ipykernel_48157/847093712.py:31: DeprecationWarning: `product` is deprecated as of NumPy 1.25.0, and will be removed in NumPy 2.0. Please use `prod` instead.\n",
                        "  prior_ho2sat = TabularCPD(\n",
                        "/var/folders/zq/v2r6yn111s3gpdf8lzf72xvw0000gn/T/ipykernel_48157/847093712.py:38: DeprecationWarning: `product` is deprecated as of NumPy 1.25.0, and will be removed in NumPy 2.0. Please use `prod` instead.\n",
                        "  prior_ar = TabularCPD(\n",
                        "/Users/tristan.trebaol/Desktop/PhD/Code/phd/src/models/helpers.py:327: IntegrationWarning: The maximum number of subdivisions (50) has been achieved.\n",
                        "  If increasing the limit yields no improvement it is advised to analyze \n",
                        "  the integrand in order to determine the difficulties.  If the position of a \n",
                        "  local difficulty can be determined (singularity, discontinuity) one will \n",
                        "  probably gain from splitting up the interval and calling the integrator \n",
                        "  on the subranges.  Perhaps a special-purpose integrator should be used.\n",
                        "  val, abserr = integrate.quad(\n",
                        "/var/folders/zq/v2r6yn111s3gpdf8lzf72xvw0000gn/T/ipykernel_48157/847093712.py:45: DeprecationWarning: `product` is deprecated as of NumPy 1.25.0, and will be removed in NumPy 2.0. Please use `prod` instead.\n",
                        "  cpt_fev1 = TabularCPD(\n",
                        "/var/folders/zq/v2r6yn111s3gpdf8lzf72xvw0000gn/T/ipykernel_48157/847093712.py:52: DeprecationWarning: `product` is deprecated as of NumPy 1.25.0, and will be removed in NumPy 2.0. Please use `prod` instead.\n",
                        "  cpt_o2_sat_ffa = TabularCPD(\n"
                    ]
                },
                {
                    "name": "stdout",
                    "output_type": "stream",
                    "text": [
                        "model took 38.13248896598816 seconds to build\n",
                        "inference took 0.3416008949279785 seconds to run\n",
                        "\n",
                        "Running for ID 342, with 12 observations\n",
                        "*** Building FEV1 and O2 point in time model ***\n"
                    ]
                },
                {
                    "name": "stderr",
                    "output_type": "stream",
                    "text": [
                        "/var/folders/zq/v2r6yn111s3gpdf8lzf72xvw0000gn/T/ipykernel_48157/847093712.py:24: DeprecationWarning: `product` is deprecated as of NumPy 1.25.0, and will be removed in NumPy 2.0. Please use `prod` instead.\n",
                        "  prior_hfev1 = TabularCPD(\n",
                        "/var/folders/zq/v2r6yn111s3gpdf8lzf72xvw0000gn/T/ipykernel_48157/847093712.py:31: DeprecationWarning: `product` is deprecated as of NumPy 1.25.0, and will be removed in NumPy 2.0. Please use `prod` instead.\n",
                        "  prior_ho2sat = TabularCPD(\n",
                        "/var/folders/zq/v2r6yn111s3gpdf8lzf72xvw0000gn/T/ipykernel_48157/847093712.py:38: DeprecationWarning: `product` is deprecated as of NumPy 1.25.0, and will be removed in NumPy 2.0. Please use `prod` instead.\n",
                        "  prior_ar = TabularCPD(\n",
                        "/Users/tristan.trebaol/Desktop/PhD/Code/phd/src/models/helpers.py:327: IntegrationWarning: The maximum number of subdivisions (50) has been achieved.\n",
                        "  If increasing the limit yields no improvement it is advised to analyze \n",
                        "  the integrand in order to determine the difficulties.  If the position of a \n",
                        "  local difficulty can be determined (singularity, discontinuity) one will \n",
                        "  probably gain from splitting up the interval and calling the integrator \n",
                        "  on the subranges.  Perhaps a special-purpose integrator should be used.\n",
                        "  val, abserr = integrate.quad(\n",
                        "/var/folders/zq/v2r6yn111s3gpdf8lzf72xvw0000gn/T/ipykernel_48157/847093712.py:45: DeprecationWarning: `product` is deprecated as of NumPy 1.25.0, and will be removed in NumPy 2.0. Please use `prod` instead.\n",
                        "  cpt_fev1 = TabularCPD(\n",
                        "/var/folders/zq/v2r6yn111s3gpdf8lzf72xvw0000gn/T/ipykernel_48157/847093712.py:52: DeprecationWarning: `product` is deprecated as of NumPy 1.25.0, and will be removed in NumPy 2.0. Please use `prod` instead.\n",
                        "  cpt_o2_sat_ffa = TabularCPD(\n"
                    ]
                },
                {
                    "name": "stdout",
                    "output_type": "stream",
                    "text": [
                        "model took 38.154253005981445 seconds to build\n",
                        "inference took 2.5637879371643066 seconds to run\n",
                        "\n",
                        "Running for ID 343, with 17 observations\n",
                        "*** Building FEV1 and O2 point in time model ***\n"
                    ]
                },
                {
                    "name": "stderr",
                    "output_type": "stream",
                    "text": [
                        "/var/folders/zq/v2r6yn111s3gpdf8lzf72xvw0000gn/T/ipykernel_48157/847093712.py:24: DeprecationWarning: `product` is deprecated as of NumPy 1.25.0, and will be removed in NumPy 2.0. Please use `prod` instead.\n",
                        "  prior_hfev1 = TabularCPD(\n",
                        "/var/folders/zq/v2r6yn111s3gpdf8lzf72xvw0000gn/T/ipykernel_48157/847093712.py:31: DeprecationWarning: `product` is deprecated as of NumPy 1.25.0, and will be removed in NumPy 2.0. Please use `prod` instead.\n",
                        "  prior_ho2sat = TabularCPD(\n",
                        "/var/folders/zq/v2r6yn111s3gpdf8lzf72xvw0000gn/T/ipykernel_48157/847093712.py:38: DeprecationWarning: `product` is deprecated as of NumPy 1.25.0, and will be removed in NumPy 2.0. Please use `prod` instead.\n",
                        "  prior_ar = TabularCPD(\n",
                        "/Users/tristan.trebaol/Desktop/PhD/Code/phd/src/models/helpers.py:327: IntegrationWarning: The maximum number of subdivisions (50) has been achieved.\n",
                        "  If increasing the limit yields no improvement it is advised to analyze \n",
                        "  the integrand in order to determine the difficulties.  If the position of a \n",
                        "  local difficulty can be determined (singularity, discontinuity) one will \n",
                        "  probably gain from splitting up the interval and calling the integrator \n",
                        "  on the subranges.  Perhaps a special-purpose integrator should be used.\n",
                        "  val, abserr = integrate.quad(\n",
                        "/var/folders/zq/v2r6yn111s3gpdf8lzf72xvw0000gn/T/ipykernel_48157/847093712.py:45: DeprecationWarning: `product` is deprecated as of NumPy 1.25.0, and will be removed in NumPy 2.0. Please use `prod` instead.\n",
                        "  cpt_fev1 = TabularCPD(\n",
                        "/var/folders/zq/v2r6yn111s3gpdf8lzf72xvw0000gn/T/ipykernel_48157/847093712.py:52: DeprecationWarning: `product` is deprecated as of NumPy 1.25.0, and will be removed in NumPy 2.0. Please use `prod` instead.\n",
                        "  cpt_o2_sat_ffa = TabularCPD(\n"
                    ]
                },
                {
                    "name": "stdout",
                    "output_type": "stream",
                    "text": [
                        "model took 38.147605895996094 seconds to build\n",
                        "inference took 3.738830089569092 seconds to run\n",
                        "\n",
                        "Running for ID 345, with 1 observations\n",
                        "*** Building FEV1 and O2 point in time model ***\n"
                    ]
                },
                {
                    "name": "stderr",
                    "output_type": "stream",
                    "text": [
                        "/var/folders/zq/v2r6yn111s3gpdf8lzf72xvw0000gn/T/ipykernel_48157/847093712.py:24: DeprecationWarning: `product` is deprecated as of NumPy 1.25.0, and will be removed in NumPy 2.0. Please use `prod` instead.\n",
                        "  prior_hfev1 = TabularCPD(\n",
                        "/var/folders/zq/v2r6yn111s3gpdf8lzf72xvw0000gn/T/ipykernel_48157/847093712.py:31: DeprecationWarning: `product` is deprecated as of NumPy 1.25.0, and will be removed in NumPy 2.0. Please use `prod` instead.\n",
                        "  prior_ho2sat = TabularCPD(\n",
                        "/var/folders/zq/v2r6yn111s3gpdf8lzf72xvw0000gn/T/ipykernel_48157/847093712.py:38: DeprecationWarning: `product` is deprecated as of NumPy 1.25.0, and will be removed in NumPy 2.0. Please use `prod` instead.\n",
                        "  prior_ar = TabularCPD(\n",
                        "/Users/tristan.trebaol/Desktop/PhD/Code/phd/src/models/helpers.py:327: IntegrationWarning: The maximum number of subdivisions (50) has been achieved.\n",
                        "  If increasing the limit yields no improvement it is advised to analyze \n",
                        "  the integrand in order to determine the difficulties.  If the position of a \n",
                        "  local difficulty can be determined (singularity, discontinuity) one will \n",
                        "  probably gain from splitting up the interval and calling the integrator \n",
                        "  on the subranges.  Perhaps a special-purpose integrator should be used.\n",
                        "  val, abserr = integrate.quad(\n",
                        "/var/folders/zq/v2r6yn111s3gpdf8lzf72xvw0000gn/T/ipykernel_48157/847093712.py:45: DeprecationWarning: `product` is deprecated as of NumPy 1.25.0, and will be removed in NumPy 2.0. Please use `prod` instead.\n",
                        "  cpt_fev1 = TabularCPD(\n",
                        "/var/folders/zq/v2r6yn111s3gpdf8lzf72xvw0000gn/T/ipykernel_48157/847093712.py:52: DeprecationWarning: `product` is deprecated as of NumPy 1.25.0, and will be removed in NumPy 2.0. Please use `prod` instead.\n",
                        "  cpt_o2_sat_ffa = TabularCPD(\n"
                    ]
                },
                {
                    "name": "stdout",
                    "output_type": "stream",
                    "text": [
                        "model took 38.29681587219238 seconds to build\n",
                        "inference took 0.3435540199279785 seconds to run\n",
                        "\n",
                        "Running for ID 351, with 44 observations\n",
                        "*** Building FEV1 and O2 point in time model ***\n"
                    ]
                },
                {
                    "name": "stderr",
                    "output_type": "stream",
                    "text": [
                        "/var/folders/zq/v2r6yn111s3gpdf8lzf72xvw0000gn/T/ipykernel_48157/847093712.py:24: DeprecationWarning: `product` is deprecated as of NumPy 1.25.0, and will be removed in NumPy 2.0. Please use `prod` instead.\n",
                        "  prior_hfev1 = TabularCPD(\n",
                        "/var/folders/zq/v2r6yn111s3gpdf8lzf72xvw0000gn/T/ipykernel_48157/847093712.py:31: DeprecationWarning: `product` is deprecated as of NumPy 1.25.0, and will be removed in NumPy 2.0. Please use `prod` instead.\n",
                        "  prior_ho2sat = TabularCPD(\n",
                        "/var/folders/zq/v2r6yn111s3gpdf8lzf72xvw0000gn/T/ipykernel_48157/847093712.py:38: DeprecationWarning: `product` is deprecated as of NumPy 1.25.0, and will be removed in NumPy 2.0. Please use `prod` instead.\n",
                        "  prior_ar = TabularCPD(\n",
                        "/Users/tristan.trebaol/Desktop/PhD/Code/phd/src/models/helpers.py:327: IntegrationWarning: The maximum number of subdivisions (50) has been achieved.\n",
                        "  If increasing the limit yields no improvement it is advised to analyze \n",
                        "  the integrand in order to determine the difficulties.  If the position of a \n",
                        "  local difficulty can be determined (singularity, discontinuity) one will \n",
                        "  probably gain from splitting up the interval and calling the integrator \n",
                        "  on the subranges.  Perhaps a special-purpose integrator should be used.\n",
                        "  val, abserr = integrate.quad(\n",
                        "/var/folders/zq/v2r6yn111s3gpdf8lzf72xvw0000gn/T/ipykernel_48157/847093712.py:45: DeprecationWarning: `product` is deprecated as of NumPy 1.25.0, and will be removed in NumPy 2.0. Please use `prod` instead.\n",
                        "  cpt_fev1 = TabularCPD(\n",
                        "/var/folders/zq/v2r6yn111s3gpdf8lzf72xvw0000gn/T/ipykernel_48157/847093712.py:52: DeprecationWarning: `product` is deprecated as of NumPy 1.25.0, and will be removed in NumPy 2.0. Please use `prod` instead.\n",
                        "  cpt_o2_sat_ffa = TabularCPD(\n"
                    ]
                },
                {
                    "name": "stdout",
                    "output_type": "stream",
                    "text": [
                        "model took 38.24881601333618 seconds to build\n",
                        "inference took 3.9362030029296875 seconds to run\n",
                        "\n",
                        "Running for ID 352, with 75 observations\n",
                        "*** Building FEV1 and O2 point in time model ***\n"
                    ]
                },
                {
                    "name": "stderr",
                    "output_type": "stream",
                    "text": [
                        "/var/folders/zq/v2r6yn111s3gpdf8lzf72xvw0000gn/T/ipykernel_48157/847093712.py:24: DeprecationWarning: `product` is deprecated as of NumPy 1.25.0, and will be removed in NumPy 2.0. Please use `prod` instead.\n",
                        "  prior_hfev1 = TabularCPD(\n",
                        "/var/folders/zq/v2r6yn111s3gpdf8lzf72xvw0000gn/T/ipykernel_48157/847093712.py:31: DeprecationWarning: `product` is deprecated as of NumPy 1.25.0, and will be removed in NumPy 2.0. Please use `prod` instead.\n",
                        "  prior_ho2sat = TabularCPD(\n",
                        "/var/folders/zq/v2r6yn111s3gpdf8lzf72xvw0000gn/T/ipykernel_48157/847093712.py:38: DeprecationWarning: `product` is deprecated as of NumPy 1.25.0, and will be removed in NumPy 2.0. Please use `prod` instead.\n",
                        "  prior_ar = TabularCPD(\n",
                        "/Users/tristan.trebaol/Desktop/PhD/Code/phd/src/models/helpers.py:327: IntegrationWarning: The maximum number of subdivisions (50) has been achieved.\n",
                        "  If increasing the limit yields no improvement it is advised to analyze \n",
                        "  the integrand in order to determine the difficulties.  If the position of a \n",
                        "  local difficulty can be determined (singularity, discontinuity) one will \n",
                        "  probably gain from splitting up the interval and calling the integrator \n",
                        "  on the subranges.  Perhaps a special-purpose integrator should be used.\n",
                        "  val, abserr = integrate.quad(\n",
                        "/var/folders/zq/v2r6yn111s3gpdf8lzf72xvw0000gn/T/ipykernel_48157/847093712.py:45: DeprecationWarning: `product` is deprecated as of NumPy 1.25.0, and will be removed in NumPy 2.0. Please use `prod` instead.\n",
                        "  cpt_fev1 = TabularCPD(\n",
                        "/var/folders/zq/v2r6yn111s3gpdf8lzf72xvw0000gn/T/ipykernel_48157/847093712.py:52: DeprecationWarning: `product` is deprecated as of NumPy 1.25.0, and will be removed in NumPy 2.0. Please use `prod` instead.\n",
                        "  cpt_o2_sat_ffa = TabularCPD(\n"
                    ]
                },
                {
                    "name": "stdout",
                    "output_type": "stream",
                    "text": [
                        "model took 38.25396394729614 seconds to build\n",
                        "inference took 8.71015191078186 seconds to run\n",
                        "\n",
                        "Running for ID 353, with 34 observations\n",
                        "*** Building FEV1 and O2 point in time model ***\n"
                    ]
                },
                {
                    "name": "stderr",
                    "output_type": "stream",
                    "text": [
                        "/var/folders/zq/v2r6yn111s3gpdf8lzf72xvw0000gn/T/ipykernel_48157/847093712.py:24: DeprecationWarning: `product` is deprecated as of NumPy 1.25.0, and will be removed in NumPy 2.0. Please use `prod` instead.\n",
                        "  prior_hfev1 = TabularCPD(\n",
                        "/var/folders/zq/v2r6yn111s3gpdf8lzf72xvw0000gn/T/ipykernel_48157/847093712.py:31: DeprecationWarning: `product` is deprecated as of NumPy 1.25.0, and will be removed in NumPy 2.0. Please use `prod` instead.\n",
                        "  prior_ho2sat = TabularCPD(\n",
                        "/var/folders/zq/v2r6yn111s3gpdf8lzf72xvw0000gn/T/ipykernel_48157/847093712.py:38: DeprecationWarning: `product` is deprecated as of NumPy 1.25.0, and will be removed in NumPy 2.0. Please use `prod` instead.\n",
                        "  prior_ar = TabularCPD(\n",
                        "/Users/tristan.trebaol/Desktop/PhD/Code/phd/src/models/helpers.py:327: IntegrationWarning: The maximum number of subdivisions (50) has been achieved.\n",
                        "  If increasing the limit yields no improvement it is advised to analyze \n",
                        "  the integrand in order to determine the difficulties.  If the position of a \n",
                        "  local difficulty can be determined (singularity, discontinuity) one will \n",
                        "  probably gain from splitting up the interval and calling the integrator \n",
                        "  on the subranges.  Perhaps a special-purpose integrator should be used.\n",
                        "  val, abserr = integrate.quad(\n",
                        "/var/folders/zq/v2r6yn111s3gpdf8lzf72xvw0000gn/T/ipykernel_48157/847093712.py:45: DeprecationWarning: `product` is deprecated as of NumPy 1.25.0, and will be removed in NumPy 2.0. Please use `prod` instead.\n",
                        "  cpt_fev1 = TabularCPD(\n",
                        "/var/folders/zq/v2r6yn111s3gpdf8lzf72xvw0000gn/T/ipykernel_48157/847093712.py:52: DeprecationWarning: `product` is deprecated as of NumPy 1.25.0, and will be removed in NumPy 2.0. Please use `prod` instead.\n",
                        "  cpt_o2_sat_ffa = TabularCPD(\n"
                    ]
                },
                {
                    "name": "stdout",
                    "output_type": "stream",
                    "text": [
                        "model took 38.103545904159546 seconds to build\n",
                        "inference took 7.301450967788696 seconds to run\n",
                        "\n",
                        "Running for ID 354, with 1 observations\n",
                        "*** Building FEV1 and O2 point in time model ***\n"
                    ]
                },
                {
                    "name": "stderr",
                    "output_type": "stream",
                    "text": [
                        "/var/folders/zq/v2r6yn111s3gpdf8lzf72xvw0000gn/T/ipykernel_48157/847093712.py:24: DeprecationWarning: `product` is deprecated as of NumPy 1.25.0, and will be removed in NumPy 2.0. Please use `prod` instead.\n",
                        "  prior_hfev1 = TabularCPD(\n",
                        "/var/folders/zq/v2r6yn111s3gpdf8lzf72xvw0000gn/T/ipykernel_48157/847093712.py:31: DeprecationWarning: `product` is deprecated as of NumPy 1.25.0, and will be removed in NumPy 2.0. Please use `prod` instead.\n",
                        "  prior_ho2sat = TabularCPD(\n",
                        "/var/folders/zq/v2r6yn111s3gpdf8lzf72xvw0000gn/T/ipykernel_48157/847093712.py:38: DeprecationWarning: `product` is deprecated as of NumPy 1.25.0, and will be removed in NumPy 2.0. Please use `prod` instead.\n",
                        "  prior_ar = TabularCPD(\n",
                        "/Users/tristan.trebaol/Desktop/PhD/Code/phd/src/models/helpers.py:327: IntegrationWarning: The maximum number of subdivisions (50) has been achieved.\n",
                        "  If increasing the limit yields no improvement it is advised to analyze \n",
                        "  the integrand in order to determine the difficulties.  If the position of a \n",
                        "  local difficulty can be determined (singularity, discontinuity) one will \n",
                        "  probably gain from splitting up the interval and calling the integrator \n",
                        "  on the subranges.  Perhaps a special-purpose integrator should be used.\n",
                        "  val, abserr = integrate.quad(\n",
                        "/var/folders/zq/v2r6yn111s3gpdf8lzf72xvw0000gn/T/ipykernel_48157/847093712.py:45: DeprecationWarning: `product` is deprecated as of NumPy 1.25.0, and will be removed in NumPy 2.0. Please use `prod` instead.\n",
                        "  cpt_fev1 = TabularCPD(\n",
                        "/var/folders/zq/v2r6yn111s3gpdf8lzf72xvw0000gn/T/ipykernel_48157/847093712.py:52: DeprecationWarning: `product` is deprecated as of NumPy 1.25.0, and will be removed in NumPy 2.0. Please use `prod` instead.\n",
                        "  cpt_o2_sat_ffa = TabularCPD(\n"
                    ]
                },
                {
                    "name": "stdout",
                    "output_type": "stream",
                    "text": [
                        "model took 38.176116943359375 seconds to build\n",
                        "inference took 0.3452739715576172 seconds to run\n",
                        "\n",
                        "Running for ID 355, with 1 observations\n",
                        "*** Building FEV1 and O2 point in time model ***\n"
                    ]
                },
                {
                    "name": "stderr",
                    "output_type": "stream",
                    "text": [
                        "/var/folders/zq/v2r6yn111s3gpdf8lzf72xvw0000gn/T/ipykernel_48157/847093712.py:24: DeprecationWarning: `product` is deprecated as of NumPy 1.25.0, and will be removed in NumPy 2.0. Please use `prod` instead.\n",
                        "  prior_hfev1 = TabularCPD(\n",
                        "/var/folders/zq/v2r6yn111s3gpdf8lzf72xvw0000gn/T/ipykernel_48157/847093712.py:31: DeprecationWarning: `product` is deprecated as of NumPy 1.25.0, and will be removed in NumPy 2.0. Please use `prod` instead.\n",
                        "  prior_ho2sat = TabularCPD(\n",
                        "/var/folders/zq/v2r6yn111s3gpdf8lzf72xvw0000gn/T/ipykernel_48157/847093712.py:38: DeprecationWarning: `product` is deprecated as of NumPy 1.25.0, and will be removed in NumPy 2.0. Please use `prod` instead.\n",
                        "  prior_ar = TabularCPD(\n",
                        "/Users/tristan.trebaol/Desktop/PhD/Code/phd/src/models/helpers.py:327: IntegrationWarning: The maximum number of subdivisions (50) has been achieved.\n",
                        "  If increasing the limit yields no improvement it is advised to analyze \n",
                        "  the integrand in order to determine the difficulties.  If the position of a \n",
                        "  local difficulty can be determined (singularity, discontinuity) one will \n",
                        "  probably gain from splitting up the interval and calling the integrator \n",
                        "  on the subranges.  Perhaps a special-purpose integrator should be used.\n",
                        "  val, abserr = integrate.quad(\n",
                        "/var/folders/zq/v2r6yn111s3gpdf8lzf72xvw0000gn/T/ipykernel_48157/847093712.py:45: DeprecationWarning: `product` is deprecated as of NumPy 1.25.0, and will be removed in NumPy 2.0. Please use `prod` instead.\n",
                        "  cpt_fev1 = TabularCPD(\n",
                        "/var/folders/zq/v2r6yn111s3gpdf8lzf72xvw0000gn/T/ipykernel_48157/847093712.py:52: DeprecationWarning: `product` is deprecated as of NumPy 1.25.0, and will be removed in NumPy 2.0. Please use `prod` instead.\n",
                        "  cpt_o2_sat_ffa = TabularCPD(\n"
                    ]
                },
                {
                    "name": "stdout",
                    "output_type": "stream",
                    "text": [
                        "model took 38.31896781921387 seconds to build\n",
                        "inference took 0.33847784996032715 seconds to run\n",
                        "\n",
                        "Running for ID 357, with 3 observations\n",
                        "*** Building FEV1 and O2 point in time model ***\n"
                    ]
                },
                {
                    "name": "stderr",
                    "output_type": "stream",
                    "text": [
                        "/var/folders/zq/v2r6yn111s3gpdf8lzf72xvw0000gn/T/ipykernel_48157/847093712.py:24: DeprecationWarning: `product` is deprecated as of NumPy 1.25.0, and will be removed in NumPy 2.0. Please use `prod` instead.\n",
                        "  prior_hfev1 = TabularCPD(\n",
                        "/var/folders/zq/v2r6yn111s3gpdf8lzf72xvw0000gn/T/ipykernel_48157/847093712.py:31: DeprecationWarning: `product` is deprecated as of NumPy 1.25.0, and will be removed in NumPy 2.0. Please use `prod` instead.\n",
                        "  prior_ho2sat = TabularCPD(\n",
                        "/var/folders/zq/v2r6yn111s3gpdf8lzf72xvw0000gn/T/ipykernel_48157/847093712.py:38: DeprecationWarning: `product` is deprecated as of NumPy 1.25.0, and will be removed in NumPy 2.0. Please use `prod` instead.\n",
                        "  prior_ar = TabularCPD(\n",
                        "/Users/tristan.trebaol/Desktop/PhD/Code/phd/src/models/helpers.py:327: IntegrationWarning: The maximum number of subdivisions (50) has been achieved.\n",
                        "  If increasing the limit yields no improvement it is advised to analyze \n",
                        "  the integrand in order to determine the difficulties.  If the position of a \n",
                        "  local difficulty can be determined (singularity, discontinuity) one will \n",
                        "  probably gain from splitting up the interval and calling the integrator \n",
                        "  on the subranges.  Perhaps a special-purpose integrator should be used.\n",
                        "  val, abserr = integrate.quad(\n",
                        "/var/folders/zq/v2r6yn111s3gpdf8lzf72xvw0000gn/T/ipykernel_48157/847093712.py:45: DeprecationWarning: `product` is deprecated as of NumPy 1.25.0, and will be removed in NumPy 2.0. Please use `prod` instead.\n",
                        "  cpt_fev1 = TabularCPD(\n",
                        "/var/folders/zq/v2r6yn111s3gpdf8lzf72xvw0000gn/T/ipykernel_48157/847093712.py:52: DeprecationWarning: `product` is deprecated as of NumPy 1.25.0, and will be removed in NumPy 2.0. Please use `prod` instead.\n",
                        "  cpt_o2_sat_ffa = TabularCPD(\n"
                    ]
                },
                {
                    "name": "stdout",
                    "output_type": "stream",
                    "text": [
                        "model took 38.119850158691406 seconds to build\n",
                        "inference took 0.8445069789886475 seconds to run\n",
                        "\n",
                        "Running for ID 358, with 11 observations\n",
                        "*** Building FEV1 and O2 point in time model ***\n"
                    ]
                },
                {
                    "name": "stderr",
                    "output_type": "stream",
                    "text": [
                        "/var/folders/zq/v2r6yn111s3gpdf8lzf72xvw0000gn/T/ipykernel_48157/847093712.py:24: DeprecationWarning: `product` is deprecated as of NumPy 1.25.0, and will be removed in NumPy 2.0. Please use `prod` instead.\n",
                        "  prior_hfev1 = TabularCPD(\n",
                        "/var/folders/zq/v2r6yn111s3gpdf8lzf72xvw0000gn/T/ipykernel_48157/847093712.py:31: DeprecationWarning: `product` is deprecated as of NumPy 1.25.0, and will be removed in NumPy 2.0. Please use `prod` instead.\n",
                        "  prior_ho2sat = TabularCPD(\n",
                        "/var/folders/zq/v2r6yn111s3gpdf8lzf72xvw0000gn/T/ipykernel_48157/847093712.py:38: DeprecationWarning: `product` is deprecated as of NumPy 1.25.0, and will be removed in NumPy 2.0. Please use `prod` instead.\n",
                        "  prior_ar = TabularCPD(\n",
                        "/Users/tristan.trebaol/Desktop/PhD/Code/phd/src/models/helpers.py:327: IntegrationWarning: The maximum number of subdivisions (50) has been achieved.\n",
                        "  If increasing the limit yields no improvement it is advised to analyze \n",
                        "  the integrand in order to determine the difficulties.  If the position of a \n",
                        "  local difficulty can be determined (singularity, discontinuity) one will \n",
                        "  probably gain from splitting up the interval and calling the integrator \n",
                        "  on the subranges.  Perhaps a special-purpose integrator should be used.\n",
                        "  val, abserr = integrate.quad(\n",
                        "/var/folders/zq/v2r6yn111s3gpdf8lzf72xvw0000gn/T/ipykernel_48157/847093712.py:45: DeprecationWarning: `product` is deprecated as of NumPy 1.25.0, and will be removed in NumPy 2.0. Please use `prod` instead.\n",
                        "  cpt_fev1 = TabularCPD(\n",
                        "/var/folders/zq/v2r6yn111s3gpdf8lzf72xvw0000gn/T/ipykernel_48157/847093712.py:52: DeprecationWarning: `product` is deprecated as of NumPy 1.25.0, and will be removed in NumPy 2.0. Please use `prod` instead.\n",
                        "  cpt_o2_sat_ffa = TabularCPD(\n"
                    ]
                },
                {
                    "name": "stdout",
                    "output_type": "stream",
                    "text": [
                        "model took 38.24770927429199 seconds to build\n",
                        "inference took 2.5634076595306396 seconds to run\n"
                    ]
                }
            ],
            "source": [
                "# Infer airway resistance using the model\n",
                "for id in df.ID.unique():\n",
                "    # for id in [\"101\"]:\n",
                "    df_for_ID = df[df.ID == id].copy().reset_index()\n",
                "    print(f\"\\nRunning for ID {id}, with {len(df_for_ID)} observations\")\n",
                "    # Take one element of the df for ID at column height\n",
                "    height = df_for_ID.Height[0]\n",
                "    sex = df_for_ID.Sex[0]\n",
                "    hfev1_prior = {\n",
                "        \"type\": \"default\",\n",
                "        \"height\": height,\n",
                "        \"age\": df_for_ID.Age[0],\n",
                "        \"sex\": sex,\n",
                "    }\n",
                "    ho2sat_prior = {\n",
                "        \"type\": \"default\",\n",
                "        \"height\": height,\n",
                "        \"sex\": sex,\n",
                "    }\n",
                "    tic = time.time()\n",
                "    (\n",
                "        model,\n",
                "        inf_alg,\n",
                "        HFEV1,\n",
                "        ecFEV1,\n",
                "        AR,\n",
                "        HO2Sat,\n",
                "        O2SatFFA,\n",
                "    ) = model_up_to_O2SatFFA(hfev1_prior, ho2sat_prior)\n",
                "    print(f\"model took {time.time() - tic} seconds to build\")\n",
                "\n",
                "    tic = time.time()\n",
                "    df_for_ID[\"AR from FEV1\"] = np.nan\n",
                "    df_for_ID[\"AR from ecFEV1\"] = np.nan\n",
                "    df_for_ID[\"O2SatFFA from FEV1\"] = np.nan\n",
                "    df_for_ID[\"O2SatFFA from ecFEV1\"] = np.nan\n",
                "    fev1s_tmp = []\n",
                "    ecfev1s_tmp = []\n",
                "    for i in range(len(df_for_ID)):\n",
                "        fev1_obs = df_for_ID.loc[i, \"FEV1\"]\n",
                "        ecfev1_obs = df_for_ID.loc[i, \"ecFEV1\"]\n",
                "\n",
                "        # FEV1\n",
                "        if fev1_obs in fev1s_tmp:\n",
                "            df_for_ID.loc[i, \"AR from FEV1\"] = df_for_ID.loc[\n",
                "                df_for_ID[\"FEV1\"] == fev1_obs, \"AR from FEV1\"\n",
                "            ].values[0]\n",
                "            df_for_ID.loc[i, \"O2SatFFA from FEV1\"] = df_for_ID.loc[\n",
                "                df_for_ID[\"FEV1\"] == fev1_obs, \"O2SatFFA from FEV1\"\n",
                "            ].values[0]\n",
                "        else:\n",
                "            res_ar_for_fev1 = ih.infer(\n",
                "                inf_alg, [AR], [[ecFEV1, fev1_obs]], show_progress=False\n",
                "            )\n",
                "            df_for_ID.loc[i, \"AR from FEV1\"] = AR.get_mean(res_ar_for_fev1.values)\n",
                "\n",
                "            res_o2satffa_for_fev1 = ih.infer(\n",
                "                inf_alg, [O2SatFFA], [[ecFEV1, fev1_obs]], show_progress=False\n",
                "            )\n",
                "            df_for_ID.loc[i, \"O2SatFFA from FEV1\"] = O2SatFFA.get_mean(\n",
                "                res_o2satffa_for_fev1.values\n",
                "            )\n",
                "\n",
                "        # ecFEV1\n",
                "        if ecfev1_obs in ecfev1s_tmp:\n",
                "            df_for_ID.loc[i, \"AR from ecFEV1\"] = df_for_ID.loc[\n",
                "                df_for_ID[\"ecFEV1\"] == ecfev1_obs, \"AR from ecFEV1\"\n",
                "            ].values[0]\n",
                "\n",
                "            df_for_ID.loc[i, \"O2SatFFA from ecFEV1\"] = df_for_ID.loc[\n",
                "                df_for_ID[\"ecFEV1\"] == ecfev1_obs, \"O2SatFFA from ecFEV1\"\n",
                "            ].values[0]\n",
                "        else:\n",
                "            res_ar_for_ecfev1 = ih.infer(\n",
                "                inf_alg, [AR], [[ecFEV1, ecfev1_obs]], show_progress=False\n",
                "            )\n",
                "            df_for_ID.loc[i, \"AR from ecFEV1\"] = AR.get_mean(res_ar_for_ecfev1.values)\n",
                "\n",
                "            res_o2satffa_for_ecfev1 = ih.infer(\n",
                "                inf_alg, [O2SatFFA], [[ecFEV1, ecfev1_obs]], show_progress=False\n",
                "            )\n",
                "            df_for_ID.loc[i, \"O2SatFFA from ecFEV1\"] = O2SatFFA.get_mean(\n",
                "                res_o2satffa_for_ecfev1.values\n",
                "            )\n",
                "\n",
                "        fev1s_tmp = np.append(fev1s_tmp, fev1_obs)\n",
                "        ecfev1s_tmp = np.append(ecfev1s_tmp, ecfev1_obs)\n",
                "    print(f\"inference took {time.time() - tic} seconds to run\")\n",
                "\n",
                "    # Add to df\n",
                "    df.loc[df.ID == id, \"AR from ecFEV1 (%)\"] = df_for_ID[\"AR from ecFEV1\"].values\n",
                "    df.loc[df.ID == id, \"AR from FEV1 (%)\"] = df_for_ID[\"AR from FEV1\"].values\n",
                "\n",
                "    df.loc[df.ID == id, \"O2SatFFA from ecFEV1 (%)\"] = df_for_ID[\n",
                "        \"O2SatFFA from ecFEV1\"\n",
                "    ].values\n",
                "    df.loc[df.ID == id, \"O2SatFFA from FEV1 (%)\"] = df_for_ID[\n",
                "        \"O2SatFFA from FEV1\"\n",
                "    ].values\n",
                "\n",
                "# IntegrationWarning: The maximum number of subdivisions (50) has been achieved.\n",
                "# Happens when the results becomes too close to 0"
            ]
        },
        {
            "cell_type": "code",
            "execution_count": 6,
            "metadata": {},
            "outputs": [],
            "source": [
                "df.to_excel(f\"{plotsdir}airwayresistance_o2satffa_df.xlsx\")"
            ]
        },
        {
            "cell_type": "code",
            "execution_count": null,
            "metadata": {},
            "outputs": [],
            "source": []
        }
    ],
    "metadata": {
        "kernelspec": {
            "display_name": "phd",
            "language": "python",
            "name": "python3"
        },
        "language_info": {
            "codemirror_mode": {
                "name": "ipython",
                "version": 3
            },
            "file_extension": ".py",
            "mimetype": "text/x-python",
            "name": "python",
            "nbconvert_exporter": "python",
            "pygments_lexer": "ipython3",
            "version": "3.10.13"
        }
    },
    "nbformat": 4,
    "nbformat_minor": 2
}