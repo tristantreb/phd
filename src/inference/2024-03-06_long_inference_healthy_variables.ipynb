{
    "cells": [
        {
            "cell_type": "code",
            "execution_count": 5,
            "metadata": {},
            "outputs": [],
            "source": [
                "import src.data.breathe_data as breathe_data\n",
                "import src.inference.long_inf_slicing as slicing\n",
                "import src.models.builders as mb\n",
                "import src.models.var_builders as var_builders\n",
                "import src.inference.helpers as ih\n",
                "from plotly.subplots import make_subplots\n",
                "import src.models.helpers as mh\n",
                "\n",
                "\n",
                "import pandas as pd\n",
                "import numpy as np"
            ]
        },
        {
            "cell_type": "markdown",
            "metadata": {},
            "source": [
                "## Breathe data processing\n",
                "Applied get_bin_for_value to all inputs and updated excel file"
            ]
        },
        {
            "cell_type": "markdown",
            "metadata": {},
            "source": [
                "## Slicing algorithm handling convergence (loops)"
            ]
        },
        {
            "cell_type": "code",
            "execution_count": 6,
            "metadata": {},
            "outputs": [
                {
                    "name": "stderr",
                    "output_type": "stream",
                    "text": [
                        "INFO:root:* Checking for same day measurements *\n"
                    ]
                }
            ],
            "source": [
                "df = breathe_data.load_meas_from_excel(\"BR_O2_FEV1_FEF2575_with_idx\")"
            ]
        },
        {
            "cell_type": "code",
            "execution_count": 10,
            "metadata": {},
            "outputs": [
                {
                    "name": "stdout",
                    "output_type": "stream",
                    "text": [
                        "\n",
                        "ID: 101\n",
                        "Amount of data: 592\n",
                        "\n",
                        "ID: 405\n",
                        "Amount of data: 1035\n",
                        "\n",
                        "ID: 272\n",
                        "Amount of data: 417\n",
                        "\n",
                        "ID: 201\n",
                        "Amount of data: 289\n",
                        "\n",
                        "ID: 203\n",
                        "Amount of data: 285\n"
                    ]
                }
            ],
            "source": [
                "# ar_prior = \"uniform\"\n",
                "ar_prior = \"uniform message to HFEV1\"\n",
                "save = True\n",
                "passes = \"forward\"\n",
                "# passes = \"back and forth\"\n",
                "\n",
                "\n",
                "def infer_and_plot_for_id(df_for_ID, diff_threshold=1e-8):\n",
                "    df_for_ID = df_for_ID.reset_index(drop=True)\n",
                "    print(f\"\\nID: {df_for_ID.ID.iloc[0]}\")\n",
                "    print(f\"Amount of data: {len(df_for_ID)}\")\n",
                "\n",
                "    height = df_for_ID.Height.iloc[0]\n",
                "    age = df_for_ID.Age.iloc[0]\n",
                "    sex = df_for_ID.Sex.iloc[0]\n",
                "    (\n",
                "        _,\n",
                "        inf_alg,\n",
                "        HFEV1,\n",
                "        ecFEV1,\n",
                "        AR,\n",
                "        HO2Sat,\n",
                "        O2SatFFA,\n",
                "        IA,\n",
                "        UO2Sat,\n",
                "        O2Sat,\n",
                "        ecFEF2575prctecFEV1,\n",
                "    ) = mb.o2sat_fev1_fef2575_point_in_time_model_shared_healthy_vars(\n",
                "        height, age, sex, ia_prior=\"uniform\", ar_prior=ar_prior\n",
                "    )\n",
                "\n",
                "    key_hfev1 = f\"['{ecFEV1.name}', '{HFEV1.name}', '{AR.name}'] -> {HFEV1.name}\"\n",
                "    key_ho2sat = f\"['{O2SatFFA.name}', '{HO2Sat.name}', '{AR.name}'] -> {HO2Sat.name}\"\n",
                "    HFEV1.set_factor_node_key(key_hfev1)\n",
                "    HO2Sat.set_factor_node_key(key_ho2sat)\n",
                "\n",
                "    vars = [AR, IA]\n",
                "    shared_vars = [HFEV1, HO2Sat]\n",
                "    # obs_vars = [ecFEV1.name, O2Sat.name, ecFEF2575prctecFEV1.name]\n",
                "    # obs_vars = [ecFEV1.name, O2Sat.name]\n",
                "    obs_vars = [ecFEV1.name]\n",
                "\n",
                "    if passes == \"forward\":\n",
                "        df_query_res, df_res_before_convergence, shared_vars_final = (\n",
                "            slicing.query_forwardly_across_days(\n",
                "                df_for_ID,\n",
                "                inf_alg,\n",
                "                shared_vars,\n",
                "                vars,\n",
                "                obs_vars,\n",
                "                diff_threshold,\n",
                "                debug=False,\n",
                "            )\n",
                "        )\n",
                "    if passes == \"back and forth\":\n",
                "        df_query_res, df_res_before_convergence, shared_vars_final = (\n",
                "            slicing.query_back_and_forth_across_days(\n",
                "                df_for_ID,\n",
                "                inf_alg,\n",
                "                shared_vars,\n",
                "                vars,\n",
                "                obs_vars,\n",
                "                diff_threshold,\n",
                "                debug=False,\n",
                "                max_passes=20,\n",
                "            )\n",
                "        )\n",
                "\n",
                "    colorscale = [\n",
                "        [0, \"white\"],\n",
                "        [0.01, \"red\"],\n",
                "        [0.05, \"yellow\"],\n",
                "        [0.1, \"cyan\"],\n",
                "        [0.6, \"blue\"],\n",
                "        [1, \"black\"],\n",
                "    ]\n",
                "\n",
                "    obs_vars_str = \", \".join([mh.name_to_abbr(var) for var in obs_vars])\n",
                "    ar_prior_str = f\"AR {ar_prior}\"\n",
                "\n",
                "    title = f\"ID {df_for_ID.ID[0]} - obs. {obs_vars_str}, {passes}, {ar_prior_str} ({df_for_ID.Sex[0]}, {df_for_ID.Age[0]}yr, {df_for_ID.Height[0]}cm)\"\n",
                "    slicing.plot_posterior_validation(\n",
                "        df_res_before_convergence,\n",
                "        HFEV1,\n",
                "        AR,\n",
                "        # HO2Sat,\n",
                "        df_for_ID,\n",
                "        title,\n",
                "        colorscale,\n",
                "        save,\n",
                "    )\n",
                "\n",
                "    title = f\"ID {df_for_ID.ID[0]} - obs. {obs_vars_str}, {passes}, {ar_prior_str} ({df_for_ID.Sex[0]}, {df_for_ID.Age[0]}yr, {df_for_ID.Height[0]}cm)\"\n",
                "    slicing.plot_query_res(\n",
                "        df_for_ID,\n",
                "        ecFEV1,\n",
                "        O2Sat,\n",
                "        df_query_res,\n",
                "        AR,\n",
                "        IA,\n",
                "        HFEV1,\n",
                "        HO2Sat,\n",
                "        title,\n",
                "        colorscale,\n",
                "        save,\n",
                "    )\n",
                "    return df_query_res, df_res_before_convergence, shared_vars_final\n",
                "\n",
                "\n",
                "interesting_ids = [\n",
                "    \"132\",\n",
                "    \"146\",\n",
                "    \"177\",\n",
                "    \"180\",\n",
                "    \"202\",\n",
                "    \"527\",\n",
                "    \"117\",\n",
                "    \"131\",\n",
                "    \"134\",\n",
                "    \"191\",\n",
                "    \"139\",\n",
                "    \"253\",\n",
                "    \"101\",\n",
                "]\n",
                "# df_for_ID = df[df[\"ID\"] == \"101\"]\n",
                "df_for_ID = df[df[\"ID\"] == \"101\"].iloc[:592]\n",
                "df_query_res, df_res_before_convergence, shared_vars_final = infer_and_plot_for_id(\n",
                "    df_for_ID, diff_threshold=1e-2\n",
                ")\n",
                "df_for_ID = df[df[\"ID\"] == \"405\"]\n",
                "df_query_res, df_res_before_convergence, shared_vars_final = infer_and_plot_for_id(\n",
                "    df_for_ID, diff_threshold=1e-2\n",
                ")\n",
                "df_for_ID = df[df[\"ID\"] == \"272\"].iloc[:417]\n",
                "df_query_res, df_res_before_convergence, shared_vars_final = infer_and_plot_for_id(\n",
                "    df_for_ID, diff_threshold=1e-2\n",
                ")\n",
                "df_for_ID = df[df[\"ID\"] == \"201\"].iloc[:289]\n",
                "df_query_res, df_res_before_convergence, shared_vars_final = infer_and_plot_for_id(\n",
                "    df_for_ID, diff_threshold=1e-2\n",
                ")\n",
                "df_for_ID = df[df[\"ID\"] == \"203\"].iloc[:285]\n",
                "df_query_res, df_res_before_convergence, shared_vars_final = infer_and_plot_for_id(\n",
                "    df_for_ID, diff_threshold=1e-2\n",
                ")\n",
                "# df[df.ID.isin(interesting_ids)].groupby(\"ID\").apply(\n",
                "#     lambda df_for_ID: infer_and_plot_for_id(\n",
                "#         df_for_ID, shared_vars, vars, obs_vars, diff_threshold=1e-6\n",
                "#     )\n",
                "# )"
            ]
        },
        {
            "cell_type": "code",
            "execution_count": 30,
            "metadata": {},
            "outputs": [
                {
                    "data": {
                        "application/vnd.plotly.v1+json": {
                            "config": {
                                "plotlyServerURL": "https://plot.ly"
                            },
                            "data": [
                                {
                                    "histfunc": "sum",
                                    "type": "histogram",
                                    "x": [
                                        1,
                                        1.05,
                                        1.1,
                                        1.1500000000000001,
                                        1.2000000000000002,
                                        1.2500000000000002,
                                        1.3000000000000003,
                                        1.3500000000000003,
                                        1.4000000000000004,
                                        1.4500000000000004,
                                        1.5000000000000004,
                                        1.5500000000000005,
                                        1.6000000000000005,
                                        1.6500000000000006,
                                        1.7000000000000006,
                                        1.7500000000000007,
                                        1.8000000000000007,
                                        1.8500000000000008,
                                        1.9000000000000008,
                                        1.9500000000000008,
                                        2.000000000000001,
                                        2.0500000000000007,
                                        2.100000000000001,
                                        2.1500000000000012,
                                        2.200000000000001,
                                        2.250000000000001,
                                        2.300000000000001,
                                        2.3500000000000014,
                                        2.4000000000000012,
                                        2.450000000000001,
                                        2.5000000000000013,
                                        2.5500000000000016,
                                        2.6000000000000014,
                                        2.6500000000000012,
                                        2.7000000000000015,
                                        2.7500000000000018,
                                        2.8000000000000016,
                                        2.8500000000000014,
                                        2.9000000000000017,
                                        2.950000000000002,
                                        3.0000000000000018,
                                        3.0500000000000016,
                                        3.100000000000002,
                                        3.150000000000002,
                                        3.200000000000002,
                                        3.2500000000000018,
                                        3.300000000000002,
                                        3.3500000000000023,
                                        3.400000000000002,
                                        3.450000000000002,
                                        3.500000000000002,
                                        3.5500000000000025,
                                        3.6000000000000023,
                                        3.650000000000002,
                                        3.7000000000000024,
                                        3.7500000000000027,
                                        3.8000000000000025,
                                        3.8500000000000023,
                                        3.9000000000000026,
                                        3.950000000000003,
                                        4.000000000000003,
                                        4.0500000000000025,
                                        4.100000000000003,
                                        4.150000000000003,
                                        4.200000000000003,
                                        4.250000000000003,
                                        4.3000000000000025,
                                        4.350000000000003,
                                        4.400000000000003,
                                        4.450000000000003,
                                        4.5000000000000036,
                                        4.550000000000003,
                                        4.600000000000003,
                                        4.650000000000003,
                                        4.700000000000003,
                                        4.7500000000000036,
                                        4.800000000000003,
                                        4.850000000000003,
                                        4.900000000000004,
                                        4.950000000000004,
                                        5.0000000000000036,
                                        5.050000000000003,
                                        5.100000000000003,
                                        5.150000000000004,
                                        5.200000000000004,
                                        5.2500000000000036,
                                        5.300000000000004,
                                        5.350000000000004,
                                        5.400000000000004,
                                        5.450000000000004,
                                        5.5000000000000036,
                                        5.550000000000004,
                                        5.600000000000004,
                                        5.650000000000004,
                                        5.700000000000005,
                                        5.750000000000004,
                                        5.800000000000004,
                                        5.850000000000004,
                                        5.900000000000004,
                                        5.950000000000005
                                    ],
                                    "xaxis": "x",
                                    "xbins": {
                                        "end": 6,
                                        "size": 0.05,
                                        "start": 1
                                    },
                                    "y": [
                                        0,
                                        0,
                                        0,
                                        0,
                                        0,
                                        0,
                                        0,
                                        0,
                                        0,
                                        0,
                                        0,
                                        0,
                                        0,
                                        0.00019219861865790358,
                                        0.0007321336567936531,
                                        0.0006914622550326058,
                                        0.0006540882549941918,
                                        0.000619664597388165,
                                        0.0005878887123774148,
                                        0.0005584958466660915,
                                        0.0005312535309119912,
                                        0.0005059569678363743,
                                        0.00048242517144466226,
                                        0.00046049772041261534,
                                        0.0004400320163624366,
                                        0.00042090095969097365,
                                        0.00040299097086602526,
                                        0.0003862003007570314,
                                        0.0003704375816061651,
                                        0.0003556205821930145,
                                        0.0003405981992579722,
                                        0.00032512341949238644,
                                        0.0003079795304660442,
                                        0.00029156202626015934,
                                        0.0002754713301866159,
                                        0.00026164098509527764,
                                        0.00024865434709876337,
                                        0.00023568226914455712,
                                        0.000222409019259717,
                                        0.0002114560605399914,
                                        0.00020049248525167283,
                                        0.00019178147424194172,
                                        0.00018275803185449174,
                                        0.00017539789145456605,
                                        0.0001680545238311198,
                                        0.00016125595307940607,
                                        0.00015541598732348737,
                                        0.0001491490463374775,
                                        0.00014395468634154264,
                                        0.00013873611906862796,
                                        0.0001333586539780415,
                                        0.00012909861540376437,
                                        0.00012445857960977048,
                                        0.00011962948800020305,
                                        0.00011584365504274176,
                                        0.00011202838727770205,
                                        0.0001076291872559414,
                                        0.00010380717007590886,
                                        0.00010085359581912321,
                                        0.00009591325269753598,
                                        0.0000907649292145764,
                                        0.00008733048284247522,
                                        0.000084828390917895,
                                        0.00008010673194140802,
                                        0.00007525848675754565,
                                        0.00007207924258183301,
                                        0.00007038051882454848,
                                        0.0000666771074539207,
                                        0.00006205116786811799,
                                        0.00005809653413371528,
                                        0.00005649462231138212,
                                        0.00005508775601835023,
                                        0.00005147622535762107,
                                        0.00004740498926749891,
                                        0.00004401100913038572,
                                        0.0000428233445965842,
                                        0.00004194039693932813,
                                        0.000039331951356687405,
                                        0.00003479741790247167,
                                        0.000030617463255817694,
                                        0.000028369968708456924,
                                        0.000027813699311856255,
                                        0.000027273631764319093,
                                        0.000025423024952909168,
                                        0.000021714922134121814,
                                        0.000018338597706813754,
                                        0.000016036422028553746,
                                        0.000015658111300442656,
                                        0.000015370808539721876,
                                        0.000015091341235892231,
                                        0.000013613053347327944,
                                        0.000011147971107799598,
                                        0.000008966213800839453,
                                        0.000007426238210023479,
                                        0.000007204226493789942,
                                        0.000007080016468091922,
                                        0.000006958991288660702,
                                        0.000006825849285430567,
                                        0.000005814970806248779,
                                        0.000004452650999953992
                                    ],
                                    "yaxis": "y"
                                }
                            ],
                            "layout": {
                                "annotations": [
                                    {
                                        "font": {
                                            "size": 6
                                        },
                                        "showarrow": false,
                                        "text": "0.04",
                                        "x": 0.04101812614745794,
                                        "xref": "x",
                                        "y": 0.0008053470224730185,
                                        "yref": "y"
                                    }
                                ],
                                "template": {
                                    "data": {
                                        "bar": [
                                            {
                                                "error_x": {
                                                    "color": "#2a3f5f"
                                                },
                                                "error_y": {
                                                    "color": "#2a3f5f"
                                                },
                                                "marker": {
                                                    "line": {
                                                        "color": "#E5ECF6",
                                                        "width": 0.5
                                                    },
                                                    "pattern": {
                                                        "fillmode": "overlay",
                                                        "size": 10,
                                                        "solidity": 0.2
                                                    }
                                                },
                                                "type": "bar"
                                            }
                                        ],
                                        "barpolar": [
                                            {
                                                "marker": {
                                                    "line": {
                                                        "color": "#E5ECF6",
                                                        "width": 0.5
                                                    },
                                                    "pattern": {
                                                        "fillmode": "overlay",
                                                        "size": 10,
                                                        "solidity": 0.2
                                                    }
                                                },
                                                "type": "barpolar"
                                            }
                                        ],
                                        "carpet": [
                                            {
                                                "aaxis": {
                                                    "endlinecolor": "#2a3f5f",
                                                    "gridcolor": "white",
                                                    "linecolor": "white",
                                                    "minorgridcolor": "white",
                                                    "startlinecolor": "#2a3f5f"
                                                },
                                                "baxis": {
                                                    "endlinecolor": "#2a3f5f",
                                                    "gridcolor": "white",
                                                    "linecolor": "white",
                                                    "minorgridcolor": "white",
                                                    "startlinecolor": "#2a3f5f"
                                                },
                                                "type": "carpet"
                                            }
                                        ],
                                        "choropleth": [
                                            {
                                                "colorbar": {
                                                    "outlinewidth": 0,
                                                    "ticks": ""
                                                },
                                                "type": "choropleth"
                                            }
                                        ],
                                        "contour": [
                                            {
                                                "colorbar": {
                                                    "outlinewidth": 0,
                                                    "ticks": ""
                                                },
                                                "colorscale": [
                                                    [
                                                        0,
                                                        "#0d0887"
                                                    ],
                                                    [
                                                        0.1111111111111111,
                                                        "#46039f"
                                                    ],
                                                    [
                                                        0.2222222222222222,
                                                        "#7201a8"
                                                    ],
                                                    [
                                                        0.3333333333333333,
                                                        "#9c179e"
                                                    ],
                                                    [
                                                        0.4444444444444444,
                                                        "#bd3786"
                                                    ],
                                                    [
                                                        0.5555555555555556,
                                                        "#d8576b"
                                                    ],
                                                    [
                                                        0.6666666666666666,
                                                        "#ed7953"
                                                    ],
                                                    [
                                                        0.7777777777777778,
                                                        "#fb9f3a"
                                                    ],
                                                    [
                                                        0.8888888888888888,
                                                        "#fdca26"
                                                    ],
                                                    [
                                                        1,
                                                        "#f0f921"
                                                    ]
                                                ],
                                                "type": "contour"
                                            }
                                        ],
                                        "contourcarpet": [
                                            {
                                                "colorbar": {
                                                    "outlinewidth": 0,
                                                    "ticks": ""
                                                },
                                                "type": "contourcarpet"
                                            }
                                        ],
                                        "heatmap": [
                                            {
                                                "colorbar": {
                                                    "outlinewidth": 0,
                                                    "ticks": ""
                                                },
                                                "colorscale": [
                                                    [
                                                        0,
                                                        "#0d0887"
                                                    ],
                                                    [
                                                        0.1111111111111111,
                                                        "#46039f"
                                                    ],
                                                    [
                                                        0.2222222222222222,
                                                        "#7201a8"
                                                    ],
                                                    [
                                                        0.3333333333333333,
                                                        "#9c179e"
                                                    ],
                                                    [
                                                        0.4444444444444444,
                                                        "#bd3786"
                                                    ],
                                                    [
                                                        0.5555555555555556,
                                                        "#d8576b"
                                                    ],
                                                    [
                                                        0.6666666666666666,
                                                        "#ed7953"
                                                    ],
                                                    [
                                                        0.7777777777777778,
                                                        "#fb9f3a"
                                                    ],
                                                    [
                                                        0.8888888888888888,
                                                        "#fdca26"
                                                    ],
                                                    [
                                                        1,
                                                        "#f0f921"
                                                    ]
                                                ],
                                                "type": "heatmap"
                                            }
                                        ],
                                        "heatmapgl": [
                                            {
                                                "colorbar": {
                                                    "outlinewidth": 0,
                                                    "ticks": ""
                                                },
                                                "colorscale": [
                                                    [
                                                        0,
                                                        "#0d0887"
                                                    ],
                                                    [
                                                        0.1111111111111111,
                                                        "#46039f"
                                                    ],
                                                    [
                                                        0.2222222222222222,
                                                        "#7201a8"
                                                    ],
                                                    [
                                                        0.3333333333333333,
                                                        "#9c179e"
                                                    ],
                                                    [
                                                        0.4444444444444444,
                                                        "#bd3786"
                                                    ],
                                                    [
                                                        0.5555555555555556,
                                                        "#d8576b"
                                                    ],
                                                    [
                                                        0.6666666666666666,
                                                        "#ed7953"
                                                    ],
                                                    [
                                                        0.7777777777777778,
                                                        "#fb9f3a"
                                                    ],
                                                    [
                                                        0.8888888888888888,
                                                        "#fdca26"
                                                    ],
                                                    [
                                                        1,
                                                        "#f0f921"
                                                    ]
                                                ],
                                                "type": "heatmapgl"
                                            }
                                        ],
                                        "histogram": [
                                            {
                                                "marker": {
                                                    "pattern": {
                                                        "fillmode": "overlay",
                                                        "size": 10,
                                                        "solidity": 0.2
                                                    }
                                                },
                                                "type": "histogram"
                                            }
                                        ],
                                        "histogram2d": [
                                            {
                                                "colorbar": {
                                                    "outlinewidth": 0,
                                                    "ticks": ""
                                                },
                                                "colorscale": [
                                                    [
                                                        0,
                                                        "#0d0887"
                                                    ],
                                                    [
                                                        0.1111111111111111,
                                                        "#46039f"
                                                    ],
                                                    [
                                                        0.2222222222222222,
                                                        "#7201a8"
                                                    ],
                                                    [
                                                        0.3333333333333333,
                                                        "#9c179e"
                                                    ],
                                                    [
                                                        0.4444444444444444,
                                                        "#bd3786"
                                                    ],
                                                    [
                                                        0.5555555555555556,
                                                        "#d8576b"
                                                    ],
                                                    [
                                                        0.6666666666666666,
                                                        "#ed7953"
                                                    ],
                                                    [
                                                        0.7777777777777778,
                                                        "#fb9f3a"
                                                    ],
                                                    [
                                                        0.8888888888888888,
                                                        "#fdca26"
                                                    ],
                                                    [
                                                        1,
                                                        "#f0f921"
                                                    ]
                                                ],
                                                "type": "histogram2d"
                                            }
                                        ],
                                        "histogram2dcontour": [
                                            {
                                                "colorbar": {
                                                    "outlinewidth": 0,
                                                    "ticks": ""
                                                },
                                                "colorscale": [
                                                    [
                                                        0,
                                                        "#0d0887"
                                                    ],
                                                    [
                                                        0.1111111111111111,
                                                        "#46039f"
                                                    ],
                                                    [
                                                        0.2222222222222222,
                                                        "#7201a8"
                                                    ],
                                                    [
                                                        0.3333333333333333,
                                                        "#9c179e"
                                                    ],
                                                    [
                                                        0.4444444444444444,
                                                        "#bd3786"
                                                    ],
                                                    [
                                                        0.5555555555555556,
                                                        "#d8576b"
                                                    ],
                                                    [
                                                        0.6666666666666666,
                                                        "#ed7953"
                                                    ],
                                                    [
                                                        0.7777777777777778,
                                                        "#fb9f3a"
                                                    ],
                                                    [
                                                        0.8888888888888888,
                                                        "#fdca26"
                                                    ],
                                                    [
                                                        1,
                                                        "#f0f921"
                                                    ]
                                                ],
                                                "type": "histogram2dcontour"
                                            }
                                        ],
                                        "mesh3d": [
                                            {
                                                "colorbar": {
                                                    "outlinewidth": 0,
                                                    "ticks": ""
                                                },
                                                "type": "mesh3d"
                                            }
                                        ],
                                        "parcoords": [
                                            {
                                                "line": {
                                                    "colorbar": {
                                                        "outlinewidth": 0,
                                                        "ticks": ""
                                                    }
                                                },
                                                "type": "parcoords"
                                            }
                                        ],
                                        "pie": [
                                            {
                                                "automargin": true,
                                                "type": "pie"
                                            }
                                        ],
                                        "scatter": [
                                            {
                                                "fillpattern": {
                                                    "fillmode": "overlay",
                                                    "size": 10,
                                                    "solidity": 0.2
                                                },
                                                "type": "scatter"
                                            }
                                        ],
                                        "scatter3d": [
                                            {
                                                "line": {
                                                    "colorbar": {
                                                        "outlinewidth": 0,
                                                        "ticks": ""
                                                    }
                                                },
                                                "marker": {
                                                    "colorbar": {
                                                        "outlinewidth": 0,
                                                        "ticks": ""
                                                    }
                                                },
                                                "type": "scatter3d"
                                            }
                                        ],
                                        "scattercarpet": [
                                            {
                                                "marker": {
                                                    "colorbar": {
                                                        "outlinewidth": 0,
                                                        "ticks": ""
                                                    }
                                                },
                                                "type": "scattercarpet"
                                            }
                                        ],
                                        "scattergeo": [
                                            {
                                                "marker": {
                                                    "colorbar": {
                                                        "outlinewidth": 0,
                                                        "ticks": ""
                                                    }
                                                },
                                                "type": "scattergeo"
                                            }
                                        ],
                                        "scattergl": [
                                            {
                                                "marker": {
                                                    "colorbar": {
                                                        "outlinewidth": 0,
                                                        "ticks": ""
                                                    }
                                                },
                                                "type": "scattergl"
                                            }
                                        ],
                                        "scattermapbox": [
                                            {
                                                "marker": {
                                                    "colorbar": {
                                                        "outlinewidth": 0,
                                                        "ticks": ""
                                                    }
                                                },
                                                "type": "scattermapbox"
                                            }
                                        ],
                                        "scatterpolar": [
                                            {
                                                "marker": {
                                                    "colorbar": {
                                                        "outlinewidth": 0,
                                                        "ticks": ""
                                                    }
                                                },
                                                "type": "scatterpolar"
                                            }
                                        ],
                                        "scatterpolargl": [
                                            {
                                                "marker": {
                                                    "colorbar": {
                                                        "outlinewidth": 0,
                                                        "ticks": ""
                                                    }
                                                },
                                                "type": "scatterpolargl"
                                            }
                                        ],
                                        "scatterternary": [
                                            {
                                                "marker": {
                                                    "colorbar": {
                                                        "outlinewidth": 0,
                                                        "ticks": ""
                                                    }
                                                },
                                                "type": "scatterternary"
                                            }
                                        ],
                                        "surface": [
                                            {
                                                "colorbar": {
                                                    "outlinewidth": 0,
                                                    "ticks": ""
                                                },
                                                "colorscale": [
                                                    [
                                                        0,
                                                        "#0d0887"
                                                    ],
                                                    [
                                                        0.1111111111111111,
                                                        "#46039f"
                                                    ],
                                                    [
                                                        0.2222222222222222,
                                                        "#7201a8"
                                                    ],
                                                    [
                                                        0.3333333333333333,
                                                        "#9c179e"
                                                    ],
                                                    [
                                                        0.4444444444444444,
                                                        "#bd3786"
                                                    ],
                                                    [
                                                        0.5555555555555556,
                                                        "#d8576b"
                                                    ],
                                                    [
                                                        0.6666666666666666,
                                                        "#ed7953"
                                                    ],
                                                    [
                                                        0.7777777777777778,
                                                        "#fb9f3a"
                                                    ],
                                                    [
                                                        0.8888888888888888,
                                                        "#fdca26"
                                                    ],
                                                    [
                                                        1,
                                                        "#f0f921"
                                                    ]
                                                ],
                                                "type": "surface"
                                            }
                                        ],
                                        "table": [
                                            {
                                                "cells": {
                                                    "fill": {
                                                        "color": "#EBF0F8"
                                                    },
                                                    "line": {
                                                        "color": "white"
                                                    }
                                                },
                                                "header": {
                                                    "fill": {
                                                        "color": "#C8D4E3"
                                                    },
                                                    "line": {
                                                        "color": "white"
                                                    }
                                                },
                                                "type": "table"
                                            }
                                        ]
                                    },
                                    "layout": {
                                        "annotationdefaults": {
                                            "arrowcolor": "#2a3f5f",
                                            "arrowhead": 0,
                                            "arrowwidth": 1
                                        },
                                        "autotypenumbers": "strict",
                                        "coloraxis": {
                                            "colorbar": {
                                                "outlinewidth": 0,
                                                "ticks": ""
                                            }
                                        },
                                        "colorscale": {
                                            "diverging": [
                                                [
                                                    0,
                                                    "#8e0152"
                                                ],
                                                [
                                                    0.1,
                                                    "#c51b7d"
                                                ],
                                                [
                                                    0.2,
                                                    "#de77ae"
                                                ],
                                                [
                                                    0.3,
                                                    "#f1b6da"
                                                ],
                                                [
                                                    0.4,
                                                    "#fde0ef"
                                                ],
                                                [
                                                    0.5,
                                                    "#f7f7f7"
                                                ],
                                                [
                                                    0.6,
                                                    "#e6f5d0"
                                                ],
                                                [
                                                    0.7,
                                                    "#b8e186"
                                                ],
                                                [
                                                    0.8,
                                                    "#7fbc41"
                                                ],
                                                [
                                                    0.9,
                                                    "#4d9221"
                                                ],
                                                [
                                                    1,
                                                    "#276419"
                                                ]
                                            ],
                                            "sequential": [
                                                [
                                                    0,
                                                    "#0d0887"
                                                ],
                                                [
                                                    0.1111111111111111,
                                                    "#46039f"
                                                ],
                                                [
                                                    0.2222222222222222,
                                                    "#7201a8"
                                                ],
                                                [
                                                    0.3333333333333333,
                                                    "#9c179e"
                                                ],
                                                [
                                                    0.4444444444444444,
                                                    "#bd3786"
                                                ],
                                                [
                                                    0.5555555555555556,
                                                    "#d8576b"
                                                ],
                                                [
                                                    0.6666666666666666,
                                                    "#ed7953"
                                                ],
                                                [
                                                    0.7777777777777778,
                                                    "#fb9f3a"
                                                ],
                                                [
                                                    0.8888888888888888,
                                                    "#fdca26"
                                                ],
                                                [
                                                    1,
                                                    "#f0f921"
                                                ]
                                            ],
                                            "sequentialminus": [
                                                [
                                                    0,
                                                    "#0d0887"
                                                ],
                                                [
                                                    0.1111111111111111,
                                                    "#46039f"
                                                ],
                                                [
                                                    0.2222222222222222,
                                                    "#7201a8"
                                                ],
                                                [
                                                    0.3333333333333333,
                                                    "#9c179e"
                                                ],
                                                [
                                                    0.4444444444444444,
                                                    "#bd3786"
                                                ],
                                                [
                                                    0.5555555555555556,
                                                    "#d8576b"
                                                ],
                                                [
                                                    0.6666666666666666,
                                                    "#ed7953"
                                                ],
                                                [
                                                    0.7777777777777778,
                                                    "#fb9f3a"
                                                ],
                                                [
                                                    0.8888888888888888,
                                                    "#fdca26"
                                                ],
                                                [
                                                    1,
                                                    "#f0f921"
                                                ]
                                            ]
                                        },
                                        "colorway": [
                                            "#636efa",
                                            "#EF553B",
                                            "#00cc96",
                                            "#ab63fa",
                                            "#FFA15A",
                                            "#19d3f3",
                                            "#FF6692",
                                            "#B6E880",
                                            "#FF97FF",
                                            "#FECB52"
                                        ],
                                        "font": {
                                            "color": "#2a3f5f"
                                        },
                                        "geo": {
                                            "bgcolor": "white",
                                            "lakecolor": "white",
                                            "landcolor": "#E5ECF6",
                                            "showlakes": true,
                                            "showland": true,
                                            "subunitcolor": "white"
                                        },
                                        "hoverlabel": {
                                            "align": "left"
                                        },
                                        "hovermode": "closest",
                                        "mapbox": {
                                            "style": "light"
                                        },
                                        "paper_bgcolor": "white",
                                        "plot_bgcolor": "#E5ECF6",
                                        "polar": {
                                            "angularaxis": {
                                                "gridcolor": "white",
                                                "linecolor": "white",
                                                "ticks": ""
                                            },
                                            "bgcolor": "#E5ECF6",
                                            "radialaxis": {
                                                "gridcolor": "white",
                                                "linecolor": "white",
                                                "ticks": ""
                                            }
                                        },
                                        "scene": {
                                            "xaxis": {
                                                "backgroundcolor": "#E5ECF6",
                                                "gridcolor": "white",
                                                "gridwidth": 2,
                                                "linecolor": "white",
                                                "showbackground": true,
                                                "ticks": "",
                                                "zerolinecolor": "white"
                                            },
                                            "yaxis": {
                                                "backgroundcolor": "#E5ECF6",
                                                "gridcolor": "white",
                                                "gridwidth": 2,
                                                "linecolor": "white",
                                                "showbackground": true,
                                                "ticks": "",
                                                "zerolinecolor": "white"
                                            },
                                            "zaxis": {
                                                "backgroundcolor": "#E5ECF6",
                                                "gridcolor": "white",
                                                "gridwidth": 2,
                                                "linecolor": "white",
                                                "showbackground": true,
                                                "ticks": "",
                                                "zerolinecolor": "white"
                                            }
                                        },
                                        "shapedefaults": {
                                            "line": {
                                                "color": "#2a3f5f"
                                            }
                                        },
                                        "ternary": {
                                            "aaxis": {
                                                "gridcolor": "white",
                                                "linecolor": "white",
                                                "ticks": ""
                                            },
                                            "baxis": {
                                                "gridcolor": "white",
                                                "linecolor": "white",
                                                "ticks": ""
                                            },
                                            "bgcolor": "#E5ECF6",
                                            "caxis": {
                                                "gridcolor": "white",
                                                "linecolor": "white",
                                                "ticks": ""
                                            }
                                        },
                                        "title": {
                                            "x": 0.05
                                        },
                                        "xaxis": {
                                            "automargin": true,
                                            "gridcolor": "white",
                                            "linecolor": "white",
                                            "ticks": "",
                                            "title": {
                                                "standoff": 15
                                            },
                                            "zerolinecolor": "white",
                                            "zerolinewidth": 2
                                        },
                                        "yaxis": {
                                            "automargin": true,
                                            "gridcolor": "white",
                                            "linecolor": "white",
                                            "ticks": "",
                                            "title": {
                                                "standoff": 15
                                            },
                                            "zerolinecolor": "white",
                                            "zerolinewidth": 2
                                        }
                                    }
                                },
                                "xaxis": {
                                    "anchor": "y",
                                    "domain": [
                                        0,
                                        1
                                    ],
                                    "nticks": 20,
                                    "range": [
                                        1,
                                        6
                                    ],
                                    "title": {
                                        "text": "Healthy FEV1 (L)"
                                    }
                                },
                                "yaxis": {
                                    "anchor": "x",
                                    "domain": [
                                        0,
                                        1
                                    ]
                                }
                            }
                        }
                    },
                    "metadata": {},
                    "output_type": "display_data"
                }
            ],
            "source": [
                "fig = make_subplots(rows=1, cols=1)\n",
                "p = np.multiply(HFEV1.vmessages[\"2021-05-25\"], HFEV1.vmessages[\"2021-05-25\"])\n",
                "ih.plot_histogram(fig, HFEV1, p, HFEV1.a, HFEV1.b, 1, 1, HFEV1.name)\n",
                "fig.show()"
            ]
        },
        {
            "cell_type": "code",
            "execution_count": 33,
            "metadata": {},
            "outputs": [
                {
                    "data": {
                        "application/vnd.plotly.v1+json": {
                            "config": {
                                "plotlyServerURL": "https://plot.ly"
                            },
                            "data": [
                                {
                                    "histfunc": "sum",
                                    "type": "histogram",
                                    "x": [
                                        90,
                                        90.5,
                                        91,
                                        91.5,
                                        92,
                                        92.5,
                                        93,
                                        93.5,
                                        94,
                                        94.5,
                                        95,
                                        95.5,
                                        96,
                                        96.5,
                                        97,
                                        97.5,
                                        98,
                                        98.5,
                                        99,
                                        99.5
                                    ],
                                    "xaxis": "x",
                                    "xbins": {
                                        "end": 100,
                                        "size": 0.5,
                                        "start": 90
                                    },
                                    "y": [
                                        0,
                                        0,
                                        0,
                                        0,
                                        0,
                                        0,
                                        0,
                                        0,
                                        0,
                                        4.7120167683745755e-9,
                                        2.391197534414895e-7,
                                        0.000005075590365079338,
                                        0.00007182400406204261,
                                        0.0006256923420625432,
                                        0.0032432984949692296,
                                        0.01081810212963206,
                                        0.02410255641773619,
                                        0.038390666636447086,
                                        0.04851690456289945,
                                        0.0534949513064634
                                    ],
                                    "yaxis": "y"
                                }
                            ],
                            "layout": {
                                "annotations": [
                                    {
                                        "font": {
                                            "size": 6
                                        },
                                        "showarrow": false,
                                        "text": "17.75",
                                        "x": 17.751416935769598,
                                        "xref": "x",
                                        "y": 0.058844446437109746,
                                        "yref": "y"
                                    }
                                ],
                                "template": {
                                    "data": {
                                        "bar": [
                                            {
                                                "error_x": {
                                                    "color": "#2a3f5f"
                                                },
                                                "error_y": {
                                                    "color": "#2a3f5f"
                                                },
                                                "marker": {
                                                    "line": {
                                                        "color": "#E5ECF6",
                                                        "width": 0.5
                                                    },
                                                    "pattern": {
                                                        "fillmode": "overlay",
                                                        "size": 10,
                                                        "solidity": 0.2
                                                    }
                                                },
                                                "type": "bar"
                                            }
                                        ],
                                        "barpolar": [
                                            {
                                                "marker": {
                                                    "line": {
                                                        "color": "#E5ECF6",
                                                        "width": 0.5
                                                    },
                                                    "pattern": {
                                                        "fillmode": "overlay",
                                                        "size": 10,
                                                        "solidity": 0.2
                                                    }
                                                },
                                                "type": "barpolar"
                                            }
                                        ],
                                        "carpet": [
                                            {
                                                "aaxis": {
                                                    "endlinecolor": "#2a3f5f",
                                                    "gridcolor": "white",
                                                    "linecolor": "white",
                                                    "minorgridcolor": "white",
                                                    "startlinecolor": "#2a3f5f"
                                                },
                                                "baxis": {
                                                    "endlinecolor": "#2a3f5f",
                                                    "gridcolor": "white",
                                                    "linecolor": "white",
                                                    "minorgridcolor": "white",
                                                    "startlinecolor": "#2a3f5f"
                                                },
                                                "type": "carpet"
                                            }
                                        ],
                                        "choropleth": [
                                            {
                                                "colorbar": {
                                                    "outlinewidth": 0,
                                                    "ticks": ""
                                                },
                                                "type": "choropleth"
                                            }
                                        ],
                                        "contour": [
                                            {
                                                "colorbar": {
                                                    "outlinewidth": 0,
                                                    "ticks": ""
                                                },
                                                "colorscale": [
                                                    [
                                                        0,
                                                        "#0d0887"
                                                    ],
                                                    [
                                                        0.1111111111111111,
                                                        "#46039f"
                                                    ],
                                                    [
                                                        0.2222222222222222,
                                                        "#7201a8"
                                                    ],
                                                    [
                                                        0.3333333333333333,
                                                        "#9c179e"
                                                    ],
                                                    [
                                                        0.4444444444444444,
                                                        "#bd3786"
                                                    ],
                                                    [
                                                        0.5555555555555556,
                                                        "#d8576b"
                                                    ],
                                                    [
                                                        0.6666666666666666,
                                                        "#ed7953"
                                                    ],
                                                    [
                                                        0.7777777777777778,
                                                        "#fb9f3a"
                                                    ],
                                                    [
                                                        0.8888888888888888,
                                                        "#fdca26"
                                                    ],
                                                    [
                                                        1,
                                                        "#f0f921"
                                                    ]
                                                ],
                                                "type": "contour"
                                            }
                                        ],
                                        "contourcarpet": [
                                            {
                                                "colorbar": {
                                                    "outlinewidth": 0,
                                                    "ticks": ""
                                                },
                                                "type": "contourcarpet"
                                            }
                                        ],
                                        "heatmap": [
                                            {
                                                "colorbar": {
                                                    "outlinewidth": 0,
                                                    "ticks": ""
                                                },
                                                "colorscale": [
                                                    [
                                                        0,
                                                        "#0d0887"
                                                    ],
                                                    [
                                                        0.1111111111111111,
                                                        "#46039f"
                                                    ],
                                                    [
                                                        0.2222222222222222,
                                                        "#7201a8"
                                                    ],
                                                    [
                                                        0.3333333333333333,
                                                        "#9c179e"
                                                    ],
                                                    [
                                                        0.4444444444444444,
                                                        "#bd3786"
                                                    ],
                                                    [
                                                        0.5555555555555556,
                                                        "#d8576b"
                                                    ],
                                                    [
                                                        0.6666666666666666,
                                                        "#ed7953"
                                                    ],
                                                    [
                                                        0.7777777777777778,
                                                        "#fb9f3a"
                                                    ],
                                                    [
                                                        0.8888888888888888,
                                                        "#fdca26"
                                                    ],
                                                    [
                                                        1,
                                                        "#f0f921"
                                                    ]
                                                ],
                                                "type": "heatmap"
                                            }
                                        ],
                                        "heatmapgl": [
                                            {
                                                "colorbar": {
                                                    "outlinewidth": 0,
                                                    "ticks": ""
                                                },
                                                "colorscale": [
                                                    [
                                                        0,
                                                        "#0d0887"
                                                    ],
                                                    [
                                                        0.1111111111111111,
                                                        "#46039f"
                                                    ],
                                                    [
                                                        0.2222222222222222,
                                                        "#7201a8"
                                                    ],
                                                    [
                                                        0.3333333333333333,
                                                        "#9c179e"
                                                    ],
                                                    [
                                                        0.4444444444444444,
                                                        "#bd3786"
                                                    ],
                                                    [
                                                        0.5555555555555556,
                                                        "#d8576b"
                                                    ],
                                                    [
                                                        0.6666666666666666,
                                                        "#ed7953"
                                                    ],
                                                    [
                                                        0.7777777777777778,
                                                        "#fb9f3a"
                                                    ],
                                                    [
                                                        0.8888888888888888,
                                                        "#fdca26"
                                                    ],
                                                    [
                                                        1,
                                                        "#f0f921"
                                                    ]
                                                ],
                                                "type": "heatmapgl"
                                            }
                                        ],
                                        "histogram": [
                                            {
                                                "marker": {
                                                    "pattern": {
                                                        "fillmode": "overlay",
                                                        "size": 10,
                                                        "solidity": 0.2
                                                    }
                                                },
                                                "type": "histogram"
                                            }
                                        ],
                                        "histogram2d": [
                                            {
                                                "colorbar": {
                                                    "outlinewidth": 0,
                                                    "ticks": ""
                                                },
                                                "colorscale": [
                                                    [
                                                        0,
                                                        "#0d0887"
                                                    ],
                                                    [
                                                        0.1111111111111111,
                                                        "#46039f"
                                                    ],
                                                    [
                                                        0.2222222222222222,
                                                        "#7201a8"
                                                    ],
                                                    [
                                                        0.3333333333333333,
                                                        "#9c179e"
                                                    ],
                                                    [
                                                        0.4444444444444444,
                                                        "#bd3786"
                                                    ],
                                                    [
                                                        0.5555555555555556,
                                                        "#d8576b"
                                                    ],
                                                    [
                                                        0.6666666666666666,
                                                        "#ed7953"
                                                    ],
                                                    [
                                                        0.7777777777777778,
                                                        "#fb9f3a"
                                                    ],
                                                    [
                                                        0.8888888888888888,
                                                        "#fdca26"
                                                    ],
                                                    [
                                                        1,
                                                        "#f0f921"
                                                    ]
                                                ],
                                                "type": "histogram2d"
                                            }
                                        ],
                                        "histogram2dcontour": [
                                            {
                                                "colorbar": {
                                                    "outlinewidth": 0,
                                                    "ticks": ""
                                                },
                                                "colorscale": [
                                                    [
                                                        0,
                                                        "#0d0887"
                                                    ],
                                                    [
                                                        0.1111111111111111,
                                                        "#46039f"
                                                    ],
                                                    [
                                                        0.2222222222222222,
                                                        "#7201a8"
                                                    ],
                                                    [
                                                        0.3333333333333333,
                                                        "#9c179e"
                                                    ],
                                                    [
                                                        0.4444444444444444,
                                                        "#bd3786"
                                                    ],
                                                    [
                                                        0.5555555555555556,
                                                        "#d8576b"
                                                    ],
                                                    [
                                                        0.6666666666666666,
                                                        "#ed7953"
                                                    ],
                                                    [
                                                        0.7777777777777778,
                                                        "#fb9f3a"
                                                    ],
                                                    [
                                                        0.8888888888888888,
                                                        "#fdca26"
                                                    ],
                                                    [
                                                        1,
                                                        "#f0f921"
                                                    ]
                                                ],
                                                "type": "histogram2dcontour"
                                            }
                                        ],
                                        "mesh3d": [
                                            {
                                                "colorbar": {
                                                    "outlinewidth": 0,
                                                    "ticks": ""
                                                },
                                                "type": "mesh3d"
                                            }
                                        ],
                                        "parcoords": [
                                            {
                                                "line": {
                                                    "colorbar": {
                                                        "outlinewidth": 0,
                                                        "ticks": ""
                                                    }
                                                },
                                                "type": "parcoords"
                                            }
                                        ],
                                        "pie": [
                                            {
                                                "automargin": true,
                                                "type": "pie"
                                            }
                                        ],
                                        "scatter": [
                                            {
                                                "fillpattern": {
                                                    "fillmode": "overlay",
                                                    "size": 10,
                                                    "solidity": 0.2
                                                },
                                                "type": "scatter"
                                            }
                                        ],
                                        "scatter3d": [
                                            {
                                                "line": {
                                                    "colorbar": {
                                                        "outlinewidth": 0,
                                                        "ticks": ""
                                                    }
                                                },
                                                "marker": {
                                                    "colorbar": {
                                                        "outlinewidth": 0,
                                                        "ticks": ""
                                                    }
                                                },
                                                "type": "scatter3d"
                                            }
                                        ],
                                        "scattercarpet": [
                                            {
                                                "marker": {
                                                    "colorbar": {
                                                        "outlinewidth": 0,
                                                        "ticks": ""
                                                    }
                                                },
                                                "type": "scattercarpet"
                                            }
                                        ],
                                        "scattergeo": [
                                            {
                                                "marker": {
                                                    "colorbar": {
                                                        "outlinewidth": 0,
                                                        "ticks": ""
                                                    }
                                                },
                                                "type": "scattergeo"
                                            }
                                        ],
                                        "scattergl": [
                                            {
                                                "marker": {
                                                    "colorbar": {
                                                        "outlinewidth": 0,
                                                        "ticks": ""
                                                    }
                                                },
                                                "type": "scattergl"
                                            }
                                        ],
                                        "scattermapbox": [
                                            {
                                                "marker": {
                                                    "colorbar": {
                                                        "outlinewidth": 0,
                                                        "ticks": ""
                                                    }
                                                },
                                                "type": "scattermapbox"
                                            }
                                        ],
                                        "scatterpolar": [
                                            {
                                                "marker": {
                                                    "colorbar": {
                                                        "outlinewidth": 0,
                                                        "ticks": ""
                                                    }
                                                },
                                                "type": "scatterpolar"
                                            }
                                        ],
                                        "scatterpolargl": [
                                            {
                                                "marker": {
                                                    "colorbar": {
                                                        "outlinewidth": 0,
                                                        "ticks": ""
                                                    }
                                                },
                                                "type": "scatterpolargl"
                                            }
                                        ],
                                        "scatterternary": [
                                            {
                                                "marker": {
                                                    "colorbar": {
                                                        "outlinewidth": 0,
                                                        "ticks": ""
                                                    }
                                                },
                                                "type": "scatterternary"
                                            }
                                        ],
                                        "surface": [
                                            {
                                                "colorbar": {
                                                    "outlinewidth": 0,
                                                    "ticks": ""
                                                },
                                                "colorscale": [
                                                    [
                                                        0,
                                                        "#0d0887"
                                                    ],
                                                    [
                                                        0.1111111111111111,
                                                        "#46039f"
                                                    ],
                                                    [
                                                        0.2222222222222222,
                                                        "#7201a8"
                                                    ],
                                                    [
                                                        0.3333333333333333,
                                                        "#9c179e"
                                                    ],
                                                    [
                                                        0.4444444444444444,
                                                        "#bd3786"
                                                    ],
                                                    [
                                                        0.5555555555555556,
                                                        "#d8576b"
                                                    ],
                                                    [
                                                        0.6666666666666666,
                                                        "#ed7953"
                                                    ],
                                                    [
                                                        0.7777777777777778,
                                                        "#fb9f3a"
                                                    ],
                                                    [
                                                        0.8888888888888888,
                                                        "#fdca26"
                                                    ],
                                                    [
                                                        1,
                                                        "#f0f921"
                                                    ]
                                                ],
                                                "type": "surface"
                                            }
                                        ],
                                        "table": [
                                            {
                                                "cells": {
                                                    "fill": {
                                                        "color": "#EBF0F8"
                                                    },
                                                    "line": {
                                                        "color": "white"
                                                    }
                                                },
                                                "header": {
                                                    "fill": {
                                                        "color": "#C8D4E3"
                                                    },
                                                    "line": {
                                                        "color": "white"
                                                    }
                                                },
                                                "type": "table"
                                            }
                                        ]
                                    },
                                    "layout": {
                                        "annotationdefaults": {
                                            "arrowcolor": "#2a3f5f",
                                            "arrowhead": 0,
                                            "arrowwidth": 1
                                        },
                                        "autotypenumbers": "strict",
                                        "coloraxis": {
                                            "colorbar": {
                                                "outlinewidth": 0,
                                                "ticks": ""
                                            }
                                        },
                                        "colorscale": {
                                            "diverging": [
                                                [
                                                    0,
                                                    "#8e0152"
                                                ],
                                                [
                                                    0.1,
                                                    "#c51b7d"
                                                ],
                                                [
                                                    0.2,
                                                    "#de77ae"
                                                ],
                                                [
                                                    0.3,
                                                    "#f1b6da"
                                                ],
                                                [
                                                    0.4,
                                                    "#fde0ef"
                                                ],
                                                [
                                                    0.5,
                                                    "#f7f7f7"
                                                ],
                                                [
                                                    0.6,
                                                    "#e6f5d0"
                                                ],
                                                [
                                                    0.7,
                                                    "#b8e186"
                                                ],
                                                [
                                                    0.8,
                                                    "#7fbc41"
                                                ],
                                                [
                                                    0.9,
                                                    "#4d9221"
                                                ],
                                                [
                                                    1,
                                                    "#276419"
                                                ]
                                            ],
                                            "sequential": [
                                                [
                                                    0,
                                                    "#0d0887"
                                                ],
                                                [
                                                    0.1111111111111111,
                                                    "#46039f"
                                                ],
                                                [
                                                    0.2222222222222222,
                                                    "#7201a8"
                                                ],
                                                [
                                                    0.3333333333333333,
                                                    "#9c179e"
                                                ],
                                                [
                                                    0.4444444444444444,
                                                    "#bd3786"
                                                ],
                                                [
                                                    0.5555555555555556,
                                                    "#d8576b"
                                                ],
                                                [
                                                    0.6666666666666666,
                                                    "#ed7953"
                                                ],
                                                [
                                                    0.7777777777777778,
                                                    "#fb9f3a"
                                                ],
                                                [
                                                    0.8888888888888888,
                                                    "#fdca26"
                                                ],
                                                [
                                                    1,
                                                    "#f0f921"
                                                ]
                                            ],
                                            "sequentialminus": [
                                                [
                                                    0,
                                                    "#0d0887"
                                                ],
                                                [
                                                    0.1111111111111111,
                                                    "#46039f"
                                                ],
                                                [
                                                    0.2222222222222222,
                                                    "#7201a8"
                                                ],
                                                [
                                                    0.3333333333333333,
                                                    "#9c179e"
                                                ],
                                                [
                                                    0.4444444444444444,
                                                    "#bd3786"
                                                ],
                                                [
                                                    0.5555555555555556,
                                                    "#d8576b"
                                                ],
                                                [
                                                    0.6666666666666666,
                                                    "#ed7953"
                                                ],
                                                [
                                                    0.7777777777777778,
                                                    "#fb9f3a"
                                                ],
                                                [
                                                    0.8888888888888888,
                                                    "#fdca26"
                                                ],
                                                [
                                                    1,
                                                    "#f0f921"
                                                ]
                                            ]
                                        },
                                        "colorway": [
                                            "#636efa",
                                            "#EF553B",
                                            "#00cc96",
                                            "#ab63fa",
                                            "#FFA15A",
                                            "#19d3f3",
                                            "#FF6692",
                                            "#B6E880",
                                            "#FF97FF",
                                            "#FECB52"
                                        ],
                                        "font": {
                                            "color": "#2a3f5f"
                                        },
                                        "geo": {
                                            "bgcolor": "white",
                                            "lakecolor": "white",
                                            "landcolor": "#E5ECF6",
                                            "showlakes": true,
                                            "showland": true,
                                            "subunitcolor": "white"
                                        },
                                        "hoverlabel": {
                                            "align": "left"
                                        },
                                        "hovermode": "closest",
                                        "mapbox": {
                                            "style": "light"
                                        },
                                        "paper_bgcolor": "white",
                                        "plot_bgcolor": "#E5ECF6",
                                        "polar": {
                                            "angularaxis": {
                                                "gridcolor": "white",
                                                "linecolor": "white",
                                                "ticks": ""
                                            },
                                            "bgcolor": "#E5ECF6",
                                            "radialaxis": {
                                                "gridcolor": "white",
                                                "linecolor": "white",
                                                "ticks": ""
                                            }
                                        },
                                        "scene": {
                                            "xaxis": {
                                                "backgroundcolor": "#E5ECF6",
                                                "gridcolor": "white",
                                                "gridwidth": 2,
                                                "linecolor": "white",
                                                "showbackground": true,
                                                "ticks": "",
                                                "zerolinecolor": "white"
                                            },
                                            "yaxis": {
                                                "backgroundcolor": "#E5ECF6",
                                                "gridcolor": "white",
                                                "gridwidth": 2,
                                                "linecolor": "white",
                                                "showbackground": true,
                                                "ticks": "",
                                                "zerolinecolor": "white"
                                            },
                                            "zaxis": {
                                                "backgroundcolor": "#E5ECF6",
                                                "gridcolor": "white",
                                                "gridwidth": 2,
                                                "linecolor": "white",
                                                "showbackground": true,
                                                "ticks": "",
                                                "zerolinecolor": "white"
                                            }
                                        },
                                        "shapedefaults": {
                                            "line": {
                                                "color": "#2a3f5f"
                                            }
                                        },
                                        "ternary": {
                                            "aaxis": {
                                                "gridcolor": "white",
                                                "linecolor": "white",
                                                "ticks": ""
                                            },
                                            "baxis": {
                                                "gridcolor": "white",
                                                "linecolor": "white",
                                                "ticks": ""
                                            },
                                            "bgcolor": "#E5ECF6",
                                            "caxis": {
                                                "gridcolor": "white",
                                                "linecolor": "white",
                                                "ticks": ""
                                            }
                                        },
                                        "title": {
                                            "x": 0.05
                                        },
                                        "xaxis": {
                                            "automargin": true,
                                            "gridcolor": "white",
                                            "linecolor": "white",
                                            "ticks": "",
                                            "title": {
                                                "standoff": 15
                                            },
                                            "zerolinecolor": "white",
                                            "zerolinewidth": 2
                                        },
                                        "yaxis": {
                                            "automargin": true,
                                            "gridcolor": "white",
                                            "linecolor": "white",
                                            "ticks": "",
                                            "title": {
                                                "standoff": 15
                                            },
                                            "zerolinecolor": "white",
                                            "zerolinewidth": 2
                                        }
                                    }
                                },
                                "xaxis": {
                                    "anchor": "y",
                                    "domain": [
                                        0,
                                        1
                                    ],
                                    "nticks": 20,
                                    "range": [
                                        90,
                                        100
                                    ],
                                    "title": {
                                        "text": "Healthy O2 saturation (%)"
                                    }
                                },
                                "yaxis": {
                                    "anchor": "x",
                                    "domain": [
                                        0,
                                        1
                                    ]
                                }
                            }
                        }
                    },
                    "metadata": {},
                    "output_type": "display_data"
                }
            ],
            "source": [
                "fig = make_subplots(rows=1, cols=1)\n",
                "p = np.multiply(HO2Sat.vmessages[\"2021-05-25\"], HO2Sat.vmessages[\"2021-05-22\"])\n",
                "ih.plot_histogram(fig, HO2Sat, p, HO2Sat.a, HO2Sat.b, 1, 1, HO2Sat.name)\n",
                "fig.show()"
            ]
        },
        {
            "cell_type": "markdown",
            "metadata": {},
            "source": [
                "# Selecting the stopping criteria"
            ]
        },
        {
            "cell_type": "code",
            "execution_count": null,
            "metadata": {},
            "outputs": [],
            "source": [
                "# Algorithm used to select the stopping criteria\n",
                "# Moved to src.inference.long_inf_slicing and updated to be general to any shared variables input\n",
                "\n",
                "# def query_forwardly_across_days(\n",
                "#     df,\n",
                "#     belief_propagation,\n",
                "#     shared_variables: List[SharedVariableNode],\n",
                "#     variables: List[str],\n",
                "#     n_epochs,\n",
                "# ):\n",
                "#     epoch = 0\n",
                "#     df_res_hfev1 = pd.DataFrame(index=HFEV1.get_bins_str())\n",
                "\n",
                "#     df_res = pd.DataFrame(\n",
                "#         columns=[\"Epoch\"] + list(map(lambda v: v.name, shared_variables))\n",
                "#     )\n",
                "\n",
                "#     post_hfev1_old_epoch = HFEV1._uniform_prior()\n",
                "#     post_ho2sat_old_epoch = HO2Sat._uniform_prior()\n",
                "#     while True:\n",
                "#         print(f\"epoch {epoch}\")\n",
                "\n",
                "#         post_hfev1_old_day = HFEV1._uniform_prior()\n",
                "#         post_ho2sat_old_day = HO2Sat._uniform_prior()\n",
                "#         diffs_hfev1_day = np.array([])\n",
                "#         diffs_ho2sat_day = np.array([])\n",
                "#         for i in range(len(df)):\n",
                "#             day = df[\"Date Recorded\"].iloc[i].strftime(\"%Y-%m-%d\")\n",
                "\n",
                "#             def build_evidence(variables):\n",
                "#                 evidence = {}\n",
                "#                 for variable in variables:\n",
                "#                     idx_obs = df[variable].iloc[i]\n",
                "#                     evidence[variable] = idx_obs\n",
                "#                 return evidence\n",
                "\n",
                "#             evidence = build_evidence(variables)\n",
                "\n",
                "#             def build_virtual_evidence(shared_variables):\n",
                "#                 virtual_evidence = {}\n",
                "#                 for shared_var in shared_variables:\n",
                "#                     virtual_message = shared_var.get_virtual_message(day)\n",
                "#                     if virtual_message is not None:\n",
                "#                         virtual_evidence[shared_var.name] = virtual_message\n",
                "#                 return virtual_evidence\n",
                "\n",
                "#             virtual_evidence = build_virtual_evidence(shared_variables)\n",
                "\n",
                "#             var_to_infer = list(map(lambda v: v.name, shared_variables))\n",
                "\n",
                "#             # Query the graph\n",
                "#             res, messages = belief_propagation.query(\n",
                "#                 var_to_infer, evidence, virtual_evidence, get_messages=True\n",
                "#             )\n",
                "\n",
                "#             # Save message for current day\n",
                "#             for shared_var in shared_variables:\n",
                "#                 shared_var.add_message(day, messages[shared_var.graph_key])\n",
                "\n",
                "#             post_hfev1_old_day, diff_hfev1_day = get_diff(\n",
                "#                 res, post_hfev1_old_day, HFEV1\n",
                "#             )\n",
                "#             post_ho2sat_old_day, diff_ho2sat_day = get_diff(\n",
                "#                 res, post_ho2sat_old_day, HO2Sat\n",
                "#             )\n",
                "#             # print(\n",
                "#             #     f\"Epoch {epoch}, day {i} - Diff hfev1 {diff_hfev1_day}, diff ho2sat {diff_ho2sat_day}\"\n",
                "#             # )\n",
                "#             diffs_hfev1_day = np.append(diffs_hfev1_day, post_ho2sat_old_day)\n",
                "#             diffs_ho2sat_day = np.append(diffs_ho2sat_day, diff_ho2sat_day)\n",
                "\n",
                "#         # print(\n",
                "#         #     f\"Epoch {epoch} - Sum daily diffs for HFEV1: {diffs_hfev1_day.sum()}, and HO2Sat: {diffs_ho2sat_day.sum()}\"\n",
                "#         # )\n",
                "#         post_hfev1_old_epoch, diff_hfev1_epoch = get_diff(\n",
                "#             res, post_hfev1_old_epoch, HFEV1\n",
                "#         )\n",
                "#         post_ho2sat_old_epoch, diff_ho2sat_epoch = get_diff(\n",
                "#             res, post_ho2sat_old_epoch, HO2Sat\n",
                "#         )\n",
                "#         print(\n",
                "#             f\"Epoch {epoch} - Posteriors' diff for HFEV1: {diff_hfev1_epoch}, and HO2Sat: {diff_ho2sat_epoch}\"\n",
                "#         )\n",
                "\n",
                "#         # Create new row df with epoch, and on shared variables array per row cel\n",
                "#         new_row = [epoch] + list(map(lambda v: res[v.name].values, shared_variables))\n",
                "#         # Same but as df\n",
                "#         new_row = pd.DataFrame(\n",
                "#             [new_row], columns=[\"Epoch\"] + list(map(lambda v: v.name, shared_variables))\n",
                "#         )\n",
                "\n",
                "#         df_res = pd.concat([df_res, new_row], ignore_index=True)\n",
                "#         df_res_hfev1[f\"{epoch}\"] = res[HFEV1.name].values\n",
                "\n",
                "#         if epoch >= n_epochs:\n",
                "#             return df_res, df_res_hfev1\n",
                "#         epoch += 1\n",
                "\n",
                "\n",
                "# def get_diff(res, old, var):\n",
                "#     new = res[var.name].values\n",
                "#     diff = np.abs(new - old).sum()\n",
                "#     return new, diff"
            ]
        },
        {
            "cell_type": "markdown",
            "metadata": {},
            "source": [
                "# Check that using aggregate message and using messages multiplication gives the same result"
            ]
        },
        {
            "cell_type": "code",
            "execution_count": 17,
            "metadata": {},
            "outputs": [],
            "source": [
                "import src.data.helpers as dh"
            ]
        },
        {
            "cell_type": "code",
            "execution_count": 19,
            "metadata": {},
            "outputs": [],
            "source": [
                "df_mult = dh.load_excel(\n",
                "    dh.get_path_to_main()\n",
                "    + \"/ExcelFiles/BR/long_inf_res_ID101_messages_multiplication.xlsx\",\n",
                "    [HFEV1.name, HO2Sat.name],\n",
                ")\n",
                "df_agg = dh.load_excel(\n",
                "    dh.get_path_to_main() + \"/ExcelFiles/BR/long_inf_res_ID101_using_agg_m.xlsx\",\n",
                "    [HFEV1.name, HO2Sat.name],\n",
                ")"
            ]
        },
        {
            "cell_type": "code",
            "execution_count": 22,
            "metadata": {},
            "outputs": [],
            "source": [
                "for i in range(len(df_mult)):\n",
                "    assert np.allclose(df_mult.loc[i, HFEV1.name], df_agg.loc[i, HFEV1.name], atol=1e-8)"
            ]
        },
        {
            "cell_type": "code",
            "execution_count": 23,
            "metadata": {},
            "outputs": [],
            "source": [
                "for i in range(len(df_mult)):\n",
                "    assert np.allclose(\n",
                "        df_mult.loc[i, HO2Sat.name], df_agg.loc[i, HO2Sat.name], atol=1e-8\n",
                "    )"
            ]
        },
        {
            "cell_type": "code",
            "execution_count": null,
            "metadata": {},
            "outputs": [],
            "source": []
        }
    ],
    "metadata": {
        "kernelspec": {
            "display_name": "phd",
            "language": "python",
            "name": "python3"
        },
        "language_info": {
            "codemirror_mode": {
                "name": "ipython",
                "version": 3
            },
            "file_extension": ".py",
            "mimetype": "text/x-python",
            "name": "python",
            "nbconvert_exporter": "python",
            "pygments_lexer": "ipython3",
            "version": "3.10.13"
        }
    },
    "nbformat": 4,
    "nbformat_minor": 2
}
