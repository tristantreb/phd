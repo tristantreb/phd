{
 "cells": [
  {
   "cell_type": "markdown",
   "metadata": {},
   "source": []
  },
  {
   "cell_type": "code",
   "execution_count": 1,
   "metadata": {},
   "outputs": [],
   "source": [
    "import src.models.builders as mb\n",
    "import src.inference.helpers as ih\n",
    "import plotly.graph_objs as go\n",
    "import numpy as np\n",
    "import pandas as pd\n",
    "import src.models.var_builders as var_builders\n",
    "\n",
    "import src.data.breathe_data as breathe_data\n",
    "from typing import List\n",
    "\n",
    "from src.inference.long_inf_slicing import SharedNodeVariable"
   ]
  },
  {
   "cell_type": "markdown",
   "metadata": {},
   "source": [
    "## Breathe data processing"
   ]
  },
  {
   "cell_type": "code",
   "execution_count": 2,
   "metadata": {},
   "outputs": [
    {
     "data": {
      "text/html": [
       "<div>\n",
       "<style scoped>\n",
       "    .dataframe tbody tr th:only-of-type {\n",
       "        vertical-align: middle;\n",
       "    }\n",
       "\n",
       "    .dataframe tbody tr th {\n",
       "        vertical-align: top;\n",
       "    }\n",
       "\n",
       "    .dataframe thead th {\n",
       "        text-align: right;\n",
       "    }\n",
       "</style>\n",
       "<table border=\"1\" class=\"dataframe\">\n",
       "  <thead>\n",
       "    <tr style=\"text-align: right;\">\n",
       "      <th></th>\n",
       "      <th>ID</th>\n",
       "      <th>Date Recorded</th>\n",
       "      <th>FEV1</th>\n",
       "      <th>O2 Saturation</th>\n",
       "      <th>ecFEV1</th>\n",
       "      <th>Age</th>\n",
       "      <th>Sex</th>\n",
       "      <th>Height</th>\n",
       "      <th>Predicted FEV1</th>\n",
       "      <th>Healthy O2 Saturation</th>\n",
       "      <th>ecFEV1 % Predicted</th>\n",
       "      <th>FEV1 % Predicted</th>\n",
       "      <th>O2 Saturation % Healthy</th>\n",
       "    </tr>\n",
       "  </thead>\n",
       "  <tbody>\n",
       "    <tr>\n",
       "      <th>0</th>\n",
       "      <td>101</td>\n",
       "      <td>2019-02-20</td>\n",
       "      <td>1.31</td>\n",
       "      <td>97.0</td>\n",
       "      <td>1.32</td>\n",
       "      <td>53</td>\n",
       "      <td>Male</td>\n",
       "      <td>173.0</td>\n",
       "      <td>3.610061</td>\n",
       "      <td>97.22596</td>\n",
       "      <td>36.564477</td>\n",
       "      <td>36.287474</td>\n",
       "      <td>99.767593</td>\n",
       "    </tr>\n",
       "    <tr>\n",
       "      <th>1</th>\n",
       "      <td>101</td>\n",
       "      <td>2019-02-21</td>\n",
       "      <td>1.29</td>\n",
       "      <td>96.0</td>\n",
       "      <td>1.32</td>\n",
       "      <td>53</td>\n",
       "      <td>Male</td>\n",
       "      <td>173.0</td>\n",
       "      <td>3.610061</td>\n",
       "      <td>97.22596</td>\n",
       "      <td>36.564477</td>\n",
       "      <td>35.733466</td>\n",
       "      <td>98.739061</td>\n",
       "    </tr>\n",
       "    <tr>\n",
       "      <th>2</th>\n",
       "      <td>101</td>\n",
       "      <td>2019-02-22</td>\n",
       "      <td>1.32</td>\n",
       "      <td>96.0</td>\n",
       "      <td>1.32</td>\n",
       "      <td>53</td>\n",
       "      <td>Male</td>\n",
       "      <td>173.0</td>\n",
       "      <td>3.610061</td>\n",
       "      <td>97.22596</td>\n",
       "      <td>36.564477</td>\n",
       "      <td>36.564477</td>\n",
       "      <td>98.739061</td>\n",
       "    </tr>\n",
       "    <tr>\n",
       "      <th>3</th>\n",
       "      <td>101</td>\n",
       "      <td>2019-02-23</td>\n",
       "      <td>1.28</td>\n",
       "      <td>97.0</td>\n",
       "      <td>1.33</td>\n",
       "      <td>53</td>\n",
       "      <td>Male</td>\n",
       "      <td>173.0</td>\n",
       "      <td>3.610061</td>\n",
       "      <td>97.22596</td>\n",
       "      <td>36.841481</td>\n",
       "      <td>35.456463</td>\n",
       "      <td>99.767593</td>\n",
       "    </tr>\n",
       "    <tr>\n",
       "      <th>4</th>\n",
       "      <td>101</td>\n",
       "      <td>2019-02-24</td>\n",
       "      <td>1.33</td>\n",
       "      <td>98.0</td>\n",
       "      <td>1.36</td>\n",
       "      <td>53</td>\n",
       "      <td>Male</td>\n",
       "      <td>173.0</td>\n",
       "      <td>3.610061</td>\n",
       "      <td>97.22596</td>\n",
       "      <td>37.672492</td>\n",
       "      <td>36.841481</td>\n",
       "      <td>100.796125</td>\n",
       "    </tr>\n",
       "  </tbody>\n",
       "</table>\n",
       "</div>"
      ],
      "text/plain": [
       "    ID Date Recorded  FEV1  O2 Saturation  ecFEV1  Age   Sex  Height  \\\n",
       "0  101    2019-02-20  1.31           97.0    1.32   53  Male   173.0   \n",
       "1  101    2019-02-21  1.29           96.0    1.32   53  Male   173.0   \n",
       "2  101    2019-02-22  1.32           96.0    1.32   53  Male   173.0   \n",
       "3  101    2019-02-23  1.28           97.0    1.33   53  Male   173.0   \n",
       "4  101    2019-02-24  1.33           98.0    1.36   53  Male   173.0   \n",
       "\n",
       "   Predicted FEV1  Healthy O2 Saturation  ecFEV1 % Predicted  \\\n",
       "0        3.610061               97.22596           36.564477   \n",
       "1        3.610061               97.22596           36.564477   \n",
       "2        3.610061               97.22596           36.564477   \n",
       "3        3.610061               97.22596           36.841481   \n",
       "4        3.610061               97.22596           37.672492   \n",
       "\n",
       "   FEV1 % Predicted  O2 Saturation % Healthy  \n",
       "0         36.287474                99.767593  \n",
       "1         35.733466                98.739061  \n",
       "2         36.564477                98.739061  \n",
       "3         35.456463                99.767593  \n",
       "4         36.841481               100.796125  "
      ]
     },
     "execution_count": 2,
     "metadata": {},
     "output_type": "execute_result"
    }
   ],
   "source": [
    "df = breathe_data.load_o2_fev1_df_from_excel()\n",
    "df.head()"
   ]
  },
  {
   "cell_type": "code",
   "execution_count": 3,
   "metadata": {},
   "outputs": [
    {
     "data": {
      "text/html": [
       "<div>\n",
       "<style scoped>\n",
       "    .dataframe tbody tr th:only-of-type {\n",
       "        vertical-align: middle;\n",
       "    }\n",
       "\n",
       "    .dataframe tbody tr th {\n",
       "        vertical-align: top;\n",
       "    }\n",
       "\n",
       "    .dataframe thead th {\n",
       "        text-align: right;\n",
       "    }\n",
       "</style>\n",
       "<table border=\"1\" class=\"dataframe\">\n",
       "  <thead>\n",
       "    <tr style=\"text-align: right;\">\n",
       "      <th></th>\n",
       "      <th>ID</th>\n",
       "      <th>Date Recorded</th>\n",
       "      <th>FEV1</th>\n",
       "      <th>O2 Saturation</th>\n",
       "      <th>ecFEV1</th>\n",
       "      <th>Age</th>\n",
       "      <th>Sex</th>\n",
       "      <th>Height</th>\n",
       "      <th>Predicted FEV1</th>\n",
       "      <th>Healthy O2 Saturation</th>\n",
       "      <th>ecFEV1 % Predicted</th>\n",
       "      <th>FEV1 % Predicted</th>\n",
       "      <th>O2 Saturation % Healthy</th>\n",
       "      <th>ecFEV1 (L)</th>\n",
       "      <th>O2 saturation (%)</th>\n",
       "    </tr>\n",
       "  </thead>\n",
       "  <tbody>\n",
       "    <tr>\n",
       "      <th>0</th>\n",
       "      <td>101</td>\n",
       "      <td>2019-02-20</td>\n",
       "      <td>1.31</td>\n",
       "      <td>97.0</td>\n",
       "      <td>1.32</td>\n",
       "      <td>53</td>\n",
       "      <td>Male</td>\n",
       "      <td>173.0</td>\n",
       "      <td>3.610061</td>\n",
       "      <td>97.22596</td>\n",
       "      <td>36.564477</td>\n",
       "      <td>36.287474</td>\n",
       "      <td>99.767593</td>\n",
       "      <td>26</td>\n",
       "      <td>47</td>\n",
       "    </tr>\n",
       "    <tr>\n",
       "      <th>1</th>\n",
       "      <td>101</td>\n",
       "      <td>2019-02-21</td>\n",
       "      <td>1.29</td>\n",
       "      <td>96.0</td>\n",
       "      <td>1.32</td>\n",
       "      <td>53</td>\n",
       "      <td>Male</td>\n",
       "      <td>173.0</td>\n",
       "      <td>3.610061</td>\n",
       "      <td>97.22596</td>\n",
       "      <td>36.564477</td>\n",
       "      <td>35.733466</td>\n",
       "      <td>98.739061</td>\n",
       "      <td>26</td>\n",
       "      <td>46</td>\n",
       "    </tr>\n",
       "    <tr>\n",
       "      <th>2</th>\n",
       "      <td>101</td>\n",
       "      <td>2019-02-22</td>\n",
       "      <td>1.32</td>\n",
       "      <td>96.0</td>\n",
       "      <td>1.32</td>\n",
       "      <td>53</td>\n",
       "      <td>Male</td>\n",
       "      <td>173.0</td>\n",
       "      <td>3.610061</td>\n",
       "      <td>97.22596</td>\n",
       "      <td>36.564477</td>\n",
       "      <td>36.564477</td>\n",
       "      <td>98.739061</td>\n",
       "      <td>26</td>\n",
       "      <td>46</td>\n",
       "    </tr>\n",
       "    <tr>\n",
       "      <th>3</th>\n",
       "      <td>101</td>\n",
       "      <td>2019-02-23</td>\n",
       "      <td>1.28</td>\n",
       "      <td>97.0</td>\n",
       "      <td>1.33</td>\n",
       "      <td>53</td>\n",
       "      <td>Male</td>\n",
       "      <td>173.0</td>\n",
       "      <td>3.610061</td>\n",
       "      <td>97.22596</td>\n",
       "      <td>36.841481</td>\n",
       "      <td>35.456463</td>\n",
       "      <td>99.767593</td>\n",
       "      <td>26</td>\n",
       "      <td>47</td>\n",
       "    </tr>\n",
       "    <tr>\n",
       "      <th>4</th>\n",
       "      <td>101</td>\n",
       "      <td>2019-02-24</td>\n",
       "      <td>1.33</td>\n",
       "      <td>98.0</td>\n",
       "      <td>1.36</td>\n",
       "      <td>53</td>\n",
       "      <td>Male</td>\n",
       "      <td>173.0</td>\n",
       "      <td>3.610061</td>\n",
       "      <td>97.22596</td>\n",
       "      <td>37.672492</td>\n",
       "      <td>36.841481</td>\n",
       "      <td>100.796125</td>\n",
       "      <td>27</td>\n",
       "      <td>48</td>\n",
       "    </tr>\n",
       "  </tbody>\n",
       "</table>\n",
       "</div>"
      ],
      "text/plain": [
       "    ID Date Recorded  FEV1  O2 Saturation  ecFEV1  Age   Sex  Height  \\\n",
       "0  101    2019-02-20  1.31           97.0    1.32   53  Male   173.0   \n",
       "1  101    2019-02-21  1.29           96.0    1.32   53  Male   173.0   \n",
       "2  101    2019-02-22  1.32           96.0    1.32   53  Male   173.0   \n",
       "3  101    2019-02-23  1.28           97.0    1.33   53  Male   173.0   \n",
       "4  101    2019-02-24  1.33           98.0    1.36   53  Male   173.0   \n",
       "\n",
       "   Predicted FEV1  Healthy O2 Saturation  ecFEV1 % Predicted  \\\n",
       "0        3.610061               97.22596           36.564477   \n",
       "1        3.610061               97.22596           36.564477   \n",
       "2        3.610061               97.22596           36.564477   \n",
       "3        3.610061               97.22596           36.841481   \n",
       "4        3.610061               97.22596           37.672492   \n",
       "\n",
       "   FEV1 % Predicted  O2 Saturation % Healthy  ecFEV1 (L)  O2 saturation (%)  \n",
       "0         36.287474                99.767593          26                 47  \n",
       "1         35.733466                98.739061          26                 46  \n",
       "2         36.564477                98.739061          26                 46  \n",
       "3         35.456463                99.767593          26                 47  \n",
       "4         36.841481               100.796125          27                 48  "
      ]
     },
     "execution_count": 3,
     "metadata": {},
     "output_type": "execute_result"
    }
   ],
   "source": [
    "# Create factor graph\n",
    "height = 170\n",
    "age = 30\n",
    "sex = \"Male\"\n",
    "(\n",
    "    HFEV1,\n",
    "    ecFEV1,\n",
    "    AR,\n",
    "    HO2Sat,\n",
    "    O2SatFFA,\n",
    "    IA,\n",
    "    UO2Sat,\n",
    "    O2Sat,\n",
    ") = var_builders.o2sat_fev1_point_in_time(height, age, sex)\n",
    "\n",
    "var_to_colname = {\n",
    "    ecFEV1.name: \"ecFEV1\",\n",
    "    O2Sat.name: \"O2 Saturation\",\n",
    "}\n",
    "\n",
    "df[ecFEV1.name] = df.apply(\n",
    "    lambda row: ecFEV1.get_bin_for_value(row[var_to_colname[ecFEV1.name]])[1], axis=1\n",
    ")\n",
    "df[O2Sat.name] = df.apply(\n",
    "    lambda row: O2Sat.get_bin_for_value(row[var_to_colname[O2Sat.name]])[1], axis=1\n",
    ")\n",
    "df.head()"
   ]
  },
  {
   "cell_type": "markdown",
   "metadata": {},
   "source": [
    "## Slicing algorithm"
   ]
  },
  {
   "cell_type": "code",
   "execution_count": 23,
   "metadata": {},
   "outputs": [],
   "source": [
    "def query_across_days(\n",
    "    df,\n",
    "    belief_propagation,\n",
    "    shared_variables: List[SharedNodeVariable],\n",
    "    variables: List[str],\n",
    "    n_epochs,\n",
    "):\n",
    "    epoch = 0\n",
    "    df_res_hfev1 = pd.DataFrame(index=HFEV1.bins_str)\n",
    "\n",
    "    df_res = pd.DataFrame(\n",
    "        columns=[\"Epoch\"] + list(map(lambda v: v.name, shared_variables))\n",
    "    )\n",
    "\n",
    "    post_hfev1_old_epoch = HFEV1._uniform_prior()\n",
    "    post_ho2sat_old_epoch = HO2Sat._uniform_prior()\n",
    "    while True:\n",
    "        print(f\"epoch {epoch}\")\n",
    "\n",
    "        post_hfev1_old_day = HFEV1._uniform_prior()\n",
    "        post_ho2sat_old_day = HO2Sat._uniform_prior()\n",
    "        diffs_hfev1_day = np.array([])\n",
    "        diffs_ho2sat_day = np.array([])\n",
    "        for i in range(len(df)):\n",
    "            day = df[\"Date Recorded\"].iloc[i].strftime(\"%Y-%m-%d\")\n",
    "\n",
    "            def build_evidence(variables):\n",
    "                evidence = {}\n",
    "                for variable in variables:\n",
    "                    idx_obs = df[variable].iloc[i]\n",
    "                    evidence[variable] = idx_obs\n",
    "                return evidence\n",
    "\n",
    "            evidence = build_evidence(variables)\n",
    "\n",
    "            def build_virtual_evidence(shared_variables):\n",
    "                virtual_evidence = {}\n",
    "                for shared_var in shared_variables:\n",
    "                    virtual_message = shared_var.get_virtual_message(day)\n",
    "                    if virtual_message is not None:\n",
    "                        virtual_evidence[shared_var.name] = virtual_message\n",
    "                return virtual_evidence\n",
    "\n",
    "            virtual_evidence = build_virtual_evidence(shared_variables)\n",
    "\n",
    "            var_to_infer = list(map(lambda v: v.name, shared_variables))\n",
    "\n",
    "            # Query the graph\n",
    "            res, messages = belief_propagation.query(\n",
    "                var_to_infer, evidence, virtual_evidence, get_messages=True\n",
    "            )\n",
    "\n",
    "            # Save message for current day\n",
    "            for shared_var in shared_variables:\n",
    "                shared_var.add_message(day, messages[shared_var.graph_key])\n",
    "\n",
    "            post_hfev1_old_day, diff_hfev1_day = get_diff(\n",
    "                res, post_hfev1_old_day, HFEV1\n",
    "            )\n",
    "            post_ho2sat_old_day, diff_ho2sat_day = get_diff(\n",
    "                res, post_ho2sat_old_day, HO2Sat\n",
    "            )\n",
    "            # print(\n",
    "            #     f\"Epoch {epoch}, day {i} - Diff hfev1 {diff_hfev1_day}, diff ho2sat {diff_ho2sat_day}\"\n",
    "            # )\n",
    "            diffs_hfev1_day = np.append(diffs_hfev1_day, post_ho2sat_old_day)\n",
    "            diffs_ho2sat_day = np.append(diffs_ho2sat_day, diff_ho2sat_day)\n",
    "\n",
    "        # print(\n",
    "        #     f\"Epoch {epoch} - Sum daily diffs for HFEV1: {diffs_hfev1_day.sum()}, and HO2Sat: {diffs_ho2sat_day.sum()}\"\n",
    "        # )\n",
    "        post_hfev1_old_epoch, diff_hfev1_epoch = get_diff(\n",
    "            res, post_hfev1_old_epoch, HFEV1\n",
    "        )\n",
    "        post_ho2sat_old_epoch, diff_ho2sat_epoch = get_diff(\n",
    "            res, post_ho2sat_old_epoch, HO2Sat\n",
    "        )\n",
    "        print(\n",
    "            f\"Epoch {epoch} - Posteriors' diff for HFEV1: {diff_hfev1_epoch}, and HO2Sat: {diff_ho2sat_epoch}\"\n",
    "        )\n",
    "\n",
    "        # Create new row df with epoch, and on shared variables array per row cel\n",
    "        new_row = [epoch] + list(map(lambda v: res[v.name].values, shared_variables))\n",
    "        # Same but as df\n",
    "        new_row = pd.DataFrame(\n",
    "            [new_row], columns=[\"Epoch\"] + list(map(lambda v: v.name, shared_variables))\n",
    "        )\n",
    "\n",
    "        df_res = pd.concat([df_res, new_row], ignore_index=True)\n",
    "        df_res_hfev1[f\"{epoch}\"] = res[HFEV1.name].values\n",
    "\n",
    "        if epoch >= n_epochs:\n",
    "            return df_res, df_res_hfev1\n",
    "        epoch += 1\n",
    "\n",
    "\n",
    "def get_diff(res, old, var):\n",
    "    new = res[var.name].values\n",
    "    diff = np.abs(new - old).sum()\n",
    "    return new, diff"
   ]
  },
  {
   "cell_type": "code",
   "execution_count": 24,
   "metadata": {},
   "outputs": [
    {
     "name": "stdout",
     "output_type": "stream",
     "text": [
      "epoch 0\n",
      "Epoch 0 - Posteriors' diff for HFEV1: 1.113643328496882, and HO2Sat: 1.5164763809838036\n",
      "epoch 1\n",
      "Epoch 1 - Posteriors' diff for HFEV1: 0.0, and HO2Sat: 0.0\n",
      "epoch 2\n",
      "Epoch 2 - Posteriors' diff for HFEV1: 0.0, and HO2Sat: 0.0\n",
      "epoch 3\n",
      "Epoch 3 - Posteriors' diff for HFEV1: 0.0, and HO2Sat: 0.0\n",
      "epoch 4\n",
      "Epoch 4 - Posteriors' diff for HFEV1: 0.0, and HO2Sat: 0.0\n",
      "epoch 5\n",
      "Epoch 5 - Posteriors' diff for HFEV1: 0.0, and HO2Sat: 0.0\n"
     ]
    }
   ],
   "source": [
    "# Meta\n",
    "key_hfev1 = f\"['{ecFEV1.name}', '{HFEV1.name}', '{AR.name}'] -> {HFEV1.name}\"\n",
    "key_ho2sat = f\"['{O2SatFFA.name}', '{HO2Sat.name}', '{AR.name}'] -> {HO2Sat.name}\"\n",
    "\n",
    "# Specific to ID 101\n",
    "HFEV1shared = SharedNodeVariable(HFEV1.name, len(HFEV1.bins), key_hfev1)\n",
    "HO2Satshared = SharedNodeVariable(HO2Sat.name, len(HO2Sat.bins), key_ho2sat)\n",
    "\n",
    "shared_vars = [HFEV1shared, HO2Satshared]\n",
    "obs_vars = [ecFEV1.name, O2Sat.name]\n",
    "\n",
    "df_for_ID = df[df[\"ID\"] == \"101\"]\n",
    "\n",
    "height = df_for_ID.Height.iloc[0]\n",
    "age = df_for_ID.Age.iloc[0]\n",
    "sex = df_for_ID.Sex.iloc[0]\n",
    "model, inf_alg, HFEV1, ecFEV1, AR, HO2Sat, O2SatFFA, IA, UO2Sat, O2Sat = (\n",
    "    mb.o2sat_fev1_point_in_time_model_2(height, age, sex)\n",
    ")\n",
    "\n",
    "n_epochs = 5\n",
    "df_res, df_res_hfev1 = query_across_days(\n",
    "    df_for_ID, inf_alg, shared_vars, obs_vars, n_epochs\n",
    ")"
   ]
  },
  {
   "cell_type": "markdown",
   "metadata": {},
   "source": [
    "## When to stop the loopy BF?"
   ]
  },
  {
   "cell_type": "code",
   "execution_count": 113,
   "metadata": {},
   "outputs": [
    {
     "data": {
      "text/html": [
       "<div>\n",
       "<style scoped>\n",
       "    .dataframe tbody tr th:only-of-type {\n",
       "        vertical-align: middle;\n",
       "    }\n",
       "\n",
       "    .dataframe tbody tr th {\n",
       "        vertical-align: top;\n",
       "    }\n",
       "\n",
       "    .dataframe thead th {\n",
       "        text-align: right;\n",
       "    }\n",
       "</style>\n",
       "<table border=\"1\" class=\"dataframe\">\n",
       "  <thead>\n",
       "    <tr style=\"text-align: right;\">\n",
       "      <th></th>\n",
       "      <th>Epoch</th>\n",
       "      <th>Healthy FEV1 (L)</th>\n",
       "      <th>Healthy O2 saturation (%)</th>\n",
       "    </tr>\n",
       "  </thead>\n",
       "  <tbody>\n",
       "    <tr>\n",
       "      <th>0</th>\n",
       "      <td>0</td>\n",
       "      <td>[0.0, 0.0, 0.0, 0.0, 0.0, 0.0, 0.0, 0.0, 0.0, ...</td>\n",
       "      <td>[0.0, 0.0, 0.0, 0.0, 0.0, 0.0, 0.0, 0.0, 0.0, ...</td>\n",
       "    </tr>\n",
       "    <tr>\n",
       "      <th>1</th>\n",
       "      <td>1</td>\n",
       "      <td>[0.0, 0.0, 0.0, 0.0, 0.0, 0.0, 0.0, 0.0, 0.0, ...</td>\n",
       "      <td>[0.0, 0.0, 0.0, 0.0, 0.0, 0.0, 0.0, 0.0, 0.0, ...</td>\n",
       "    </tr>\n",
       "  </tbody>\n",
       "</table>\n",
       "</div>"
      ],
      "text/plain": [
       "  Epoch                                   Healthy FEV1 (L)  \\\n",
       "0     0  [0.0, 0.0, 0.0, 0.0, 0.0, 0.0, 0.0, 0.0, 0.0, ...   \n",
       "1     1  [0.0, 0.0, 0.0, 0.0, 0.0, 0.0, 0.0, 0.0, 0.0, ...   \n",
       "\n",
       "                           Healthy O2 saturation (%)  \n",
       "0  [0.0, 0.0, 0.0, 0.0, 0.0, 0.0, 0.0, 0.0, 0.0, ...  \n",
       "1  [0.0, 0.0, 0.0, 0.0, 0.0, 0.0, 0.0, 0.0, 0.0, ...  "
      ]
     },
     "execution_count": 113,
     "metadata": {},
     "output_type": "execute_result"
    }
   ],
   "source": [
    "df_res"
   ]
  },
  {
   "cell_type": "code",
   "execution_count": 121,
   "metadata": {},
   "outputs": [
    {
     "data": {
      "application/vnd.plotly.v1+json": {
       "config": {
        "plotlyServerURL": "https://plot.ly"
       },
       "data": [
        {
         "histfunc": "sum",
         "marker": {
          "color": "blue"
         },
         "type": "histogram",
         "x": [
          1,
          1.05,
          1.1,
          1.1500000000000001,
          1.2000000000000002,
          1.2500000000000002,
          1.3000000000000003,
          1.3500000000000003,
          1.4000000000000004,
          1.4500000000000004,
          1.5000000000000004,
          1.5500000000000005,
          1.6000000000000005,
          1.6500000000000006,
          1.7000000000000006,
          1.7500000000000007,
          1.8000000000000007,
          1.8500000000000008,
          1.9000000000000008,
          1.9500000000000008,
          2.000000000000001,
          2.0500000000000007,
          2.100000000000001,
          2.1500000000000012,
          2.200000000000001,
          2.250000000000001,
          2.300000000000001,
          2.3500000000000014,
          2.4000000000000012,
          2.450000000000001,
          2.5000000000000013,
          2.5500000000000016,
          2.6000000000000014,
          2.6500000000000012,
          2.7000000000000015,
          2.7500000000000018,
          2.8000000000000016,
          2.8500000000000014,
          2.9000000000000017,
          2.950000000000002,
          3.0000000000000018,
          3.0500000000000016,
          3.100000000000002,
          3.150000000000002,
          3.200000000000002,
          3.2500000000000018,
          3.300000000000002,
          3.3500000000000023,
          3.400000000000002,
          3.450000000000002,
          3.500000000000002,
          3.5500000000000025,
          3.6000000000000023,
          3.650000000000002,
          3.7000000000000024,
          3.7500000000000027,
          3.8000000000000025,
          3.8500000000000023,
          3.9000000000000026,
          3.950000000000003,
          4.000000000000003,
          4.0500000000000025,
          4.100000000000003,
          4.150000000000003,
          4.200000000000003,
          4.250000000000003,
          4.3000000000000025,
          4.350000000000003,
          4.400000000000003,
          4.450000000000003,
          4.5000000000000036,
          4.550000000000003,
          4.600000000000003,
          4.650000000000003,
          4.700000000000003,
          4.7500000000000036,
          4.800000000000003,
          4.850000000000003,
          4.900000000000004,
          4.950000000000004,
          5.0000000000000036,
          5.050000000000003,
          5.100000000000003,
          5.150000000000004,
          5.200000000000004,
          5.2500000000000036,
          5.300000000000004,
          5.350000000000004,
          5.400000000000004,
          5.450000000000004,
          5.5000000000000036,
          5.550000000000004,
          5.600000000000004,
          5.650000000000004,
          5.700000000000005,
          5.750000000000004,
          5.800000000000004,
          5.850000000000004,
          5.900000000000004,
          5.950000000000005
         ],
         "xaxis": "x",
         "xbins": {
          "end": 6,
          "size": 0.05,
          "start": 1
         },
         "y": [
          0,
          0,
          0,
          0,
          0,
          0,
          0,
          0,
          0,
          0,
          0,
          0,
          0,
          0.00020587180730363816,
          0.0005341942172997627,
          0.0006875899200526262,
          0.0008821850323467387,
          0.001127896693408323,
          0.001436619037624932,
          0.001822481373144461,
          0.002302095738748716,
          0.0028947758418501157,
          0.003622704479141884,
          0.004511021527119957,
          0.005587799879481188,
          0.006883872848727655,
          0.008432474198062359,
          0.010268651937661358,
          0.012428420089077947,
          0.014947619697018131,
          0.01757387354514591,
          0.02007539638267347,
          0.021684025332753553,
          0.022885538591844876,
          0.02326768418438282,
          0.023916631190928427,
          0.02406760753441915,
          0.02527751033551696,
          0.026424612498281985,
          0.028102787258198397,
          0.02937118787468243,
          0.03113589619079616,
          0.03223827555768197,
          0.03373941117927817,
          0.0347075870509023,
          0.03545158409855012,
          0.03634241643078605,
          0.03624640409648776,
          0.03647220275563581,
          0.03605434259053825,
          0.03483011360096642,
          0.03418002853980737,
          0.03256178311349765,
          0.030208152674941646,
          0.028564473322154185,
          0.02645016089296657,
          0.023350840659567922,
          0.020696610428433782,
          0.019015867350838996,
          0.016663316308097142,
          0.01427506155809948,
          0.012438322254168712,
          0.010907267141659262,
          0.00901354517091577,
          0.007272257739672077,
          0.0059815295328067555,
          0.0050277775191480915,
          0.003943864817552926,
          0.0029379660344509818,
          0.002171804391006475,
          0.0017147864022651887,
          0.001343175686206961,
          0.000935896190683934,
          0.0006102610751976817,
          0.000392784832406153,
          0.0002876292329104635,
          0.00021216806600601626,
          0.00014691340703572474,
          0.00009334767773277092,
          0.00005749147025109329,
          0.000037106236129228726,
          0.000025501334902361697,
          0.00001727295580084836,
          0.000010818799049656977,
          0.000005901766312965399,
          0.000003031496847389757,
          0.0000015710183797809406,
          9.776859779096363e-7,
          6.053277548978219e-7,
          3.6905604169173664e-7,
          2.0439638774741626e-7,
          1.0049869808099506e-7,
          4.665750080113679e-8,
          2.1453303600279155e-8,
          1.1875857582282106e-8,
          6.5845790295550646e-9,
          3.592000910933459e-9,
          1.923905492214349e-9,
          8.911427163632465e-10,
          3.604247212474154e-10
         ],
         "yaxis": "y"
        },
        {
         "histfunc": "sum",
         "marker": {
          "color": "blue"
         },
         "type": "histogram",
         "x": [
          90,
          90.5,
          91,
          91.5,
          92,
          92.5,
          93,
          93.5,
          94,
          94.5,
          95,
          95.5,
          96,
          96.5,
          97,
          97.5,
          98,
          98.5,
          99,
          99.5
         ],
         "xaxis": "x2",
         "xbins": {
          "end": 100,
          "size": 0.5,
          "start": 90
         },
         "y": [
          0,
          0,
          0,
          0,
          0,
          0,
          0,
          0,
          0,
          5.307830244613158e-9,
          0.0000023825227499712176,
          0.00023793359873526754,
          0.007325163341992472,
          0.07842404997964769,
          0.29686260436335676,
          0.39564214058964875,
          0.18730939555924853,
          0.03211463245661231,
          0.0020327324146058555,
          0.00004895986557218236
         ],
         "yaxis": "y2"
        },
        {
         "histfunc": "sum",
         "marker": {
          "color": "blue"
         },
         "type": "histogram",
         "x": [
          1,
          1.05,
          1.1,
          1.1500000000000001,
          1.2000000000000002,
          1.2500000000000002,
          1.3000000000000003,
          1.3500000000000003,
          1.4000000000000004,
          1.4500000000000004,
          1.5000000000000004,
          1.5500000000000005,
          1.6000000000000005,
          1.6500000000000006,
          1.7000000000000006,
          1.7500000000000007,
          1.8000000000000007,
          1.8500000000000008,
          1.9000000000000008,
          1.9500000000000008,
          2.000000000000001,
          2.0500000000000007,
          2.100000000000001,
          2.1500000000000012,
          2.200000000000001,
          2.250000000000001,
          2.300000000000001,
          2.3500000000000014,
          2.4000000000000012,
          2.450000000000001,
          2.5000000000000013,
          2.5500000000000016,
          2.6000000000000014,
          2.6500000000000012,
          2.7000000000000015,
          2.7500000000000018,
          2.8000000000000016,
          2.8500000000000014,
          2.9000000000000017,
          2.950000000000002,
          3.0000000000000018,
          3.0500000000000016,
          3.100000000000002,
          3.150000000000002,
          3.200000000000002,
          3.2500000000000018,
          3.300000000000002,
          3.3500000000000023,
          3.400000000000002,
          3.450000000000002,
          3.500000000000002,
          3.5500000000000025,
          3.6000000000000023,
          3.650000000000002,
          3.7000000000000024,
          3.7500000000000027,
          3.8000000000000025,
          3.8500000000000023,
          3.9000000000000026,
          3.950000000000003,
          4.000000000000003,
          4.0500000000000025,
          4.100000000000003,
          4.150000000000003,
          4.200000000000003,
          4.250000000000003,
          4.3000000000000025,
          4.350000000000003,
          4.400000000000003,
          4.450000000000003,
          4.5000000000000036,
          4.550000000000003,
          4.600000000000003,
          4.650000000000003,
          4.700000000000003,
          4.7500000000000036,
          4.800000000000003,
          4.850000000000003,
          4.900000000000004,
          4.950000000000004,
          5.0000000000000036,
          5.050000000000003,
          5.100000000000003,
          5.150000000000004,
          5.200000000000004,
          5.2500000000000036,
          5.300000000000004,
          5.350000000000004,
          5.400000000000004,
          5.450000000000004,
          5.5000000000000036,
          5.550000000000004,
          5.600000000000004,
          5.650000000000004,
          5.700000000000005,
          5.750000000000004,
          5.800000000000004,
          5.850000000000004,
          5.900000000000004,
          5.950000000000005
         ],
         "xaxis": "x3",
         "xbins": {
          "end": 6,
          "size": 0.05,
          "start": 1
         },
         "y": [
          0,
          0,
          0,
          0,
          0,
          0,
          0,
          0,
          0,
          0,
          0,
          0,
          0,
          0.00020587180730363816,
          0.0005341942172997627,
          0.0006875899200526262,
          0.0008821850323467387,
          0.001127896693408323,
          0.001436619037624932,
          0.001822481373144461,
          0.002302095738748716,
          0.0028947758418501157,
          0.003622704479141884,
          0.004511021527119957,
          0.005587799879481188,
          0.006883872848727655,
          0.008432474198062359,
          0.010268651937661358,
          0.012428420089077947,
          0.014947619697018131,
          0.01757387354514591,
          0.02007539638267347,
          0.021684025332753553,
          0.022885538591844876,
          0.02326768418438282,
          0.023916631190928427,
          0.02406760753441915,
          0.02527751033551696,
          0.026424612498281985,
          0.028102787258198397,
          0.02937118787468243,
          0.03113589619079616,
          0.03223827555768197,
          0.03373941117927817,
          0.0347075870509023,
          0.03545158409855012,
          0.03634241643078605,
          0.03624640409648776,
          0.03647220275563581,
          0.03605434259053825,
          0.03483011360096642,
          0.03418002853980737,
          0.03256178311349765,
          0.030208152674941646,
          0.028564473322154185,
          0.02645016089296657,
          0.023350840659567922,
          0.020696610428433782,
          0.019015867350838996,
          0.016663316308097142,
          0.01427506155809948,
          0.012438322254168712,
          0.010907267141659262,
          0.00901354517091577,
          0.007272257739672077,
          0.0059815295328067555,
          0.0050277775191480915,
          0.003943864817552926,
          0.0029379660344509818,
          0.002171804391006475,
          0.0017147864022651887,
          0.001343175686206961,
          0.000935896190683934,
          0.0006102610751976817,
          0.000392784832406153,
          0.0002876292329104635,
          0.00021216806600601626,
          0.00014691340703572474,
          0.00009334767773277092,
          0.00005749147025109329,
          0.000037106236129228726,
          0.000025501334902361697,
          0.00001727295580084836,
          0.000010818799049656977,
          0.000005901766312965399,
          0.000003031496847389757,
          0.0000015710183797809406,
          9.776859779096363e-7,
          6.053277548978219e-7,
          3.6905604169173664e-7,
          2.0439638774741626e-7,
          1.0049869808099506e-7,
          4.665750080113679e-8,
          2.1453303600279155e-8,
          1.1875857582282106e-8,
          6.5845790295550646e-9,
          3.592000910933459e-9,
          1.923905492214349e-9,
          8.911427163632465e-10,
          3.604247212474154e-10
         ],
         "yaxis": "y3"
        },
        {
         "histfunc": "sum",
         "marker": {
          "color": "blue"
         },
         "type": "histogram",
         "x": [
          90,
          90.5,
          91,
          91.5,
          92,
          92.5,
          93,
          93.5,
          94,
          94.5,
          95,
          95.5,
          96,
          96.5,
          97,
          97.5,
          98,
          98.5,
          99,
          99.5
         ],
         "xaxis": "x4",
         "xbins": {
          "end": 100,
          "size": 0.5,
          "start": 90
         },
         "y": [
          0,
          0,
          0,
          0,
          0,
          0,
          0,
          0,
          0,
          5.307830244613158e-9,
          0.0000023825227499712176,
          0.00023793359873526754,
          0.007325163341992472,
          0.07842404997964769,
          0.29686260436335676,
          0.39564214058964875,
          0.18730939555924853,
          0.03211463245661231,
          0.0020327324146058555,
          0.00004895986557218236
         ],
         "yaxis": "y4"
        }
       ],
       "layout": {
        "annotations": [
         {
          "font": {
           "size": 6
          },
          "showarrow": false,
          "text": "3.27",
          "x": 3.2661638185352295,
          "xref": "x",
          "y": 0.0401194230311994,
          "yref": "y"
         },
         {
          "font": {
           "size": 6
          },
          "showarrow": false,
          "text": "97.64",
          "x": 97.64059141198715,
          "xref": "x2",
          "y": 0.4352063546486137,
          "yref": "y2"
         },
         {
          "font": {
           "size": 6
          },
          "showarrow": false,
          "text": "3.27",
          "x": 3.2661638185352295,
          "xref": "x3",
          "y": 0.0401194230311994,
          "yref": "y3"
         },
         {
          "font": {
           "size": 6
          },
          "showarrow": false,
          "text": "97.64",
          "x": 97.64059141198715,
          "xref": "x4",
          "y": 0.4352063546486137,
          "yref": "y4"
         }
        ],
        "font": {
         "size": 10
        },
        "height": 400,
        "showlegend": false,
        "template": {
         "data": {
          "bar": [
           {
            "error_x": {
             "color": "#2a3f5f"
            },
            "error_y": {
             "color": "#2a3f5f"
            },
            "marker": {
             "line": {
              "color": "#E5ECF6",
              "width": 0.5
             },
             "pattern": {
              "fillmode": "overlay",
              "size": 10,
              "solidity": 0.2
             }
            },
            "type": "bar"
           }
          ],
          "barpolar": [
           {
            "marker": {
             "line": {
              "color": "#E5ECF6",
              "width": 0.5
             },
             "pattern": {
              "fillmode": "overlay",
              "size": 10,
              "solidity": 0.2
             }
            },
            "type": "barpolar"
           }
          ],
          "carpet": [
           {
            "aaxis": {
             "endlinecolor": "#2a3f5f",
             "gridcolor": "white",
             "linecolor": "white",
             "minorgridcolor": "white",
             "startlinecolor": "#2a3f5f"
            },
            "baxis": {
             "endlinecolor": "#2a3f5f",
             "gridcolor": "white",
             "linecolor": "white",
             "minorgridcolor": "white",
             "startlinecolor": "#2a3f5f"
            },
            "type": "carpet"
           }
          ],
          "choropleth": [
           {
            "colorbar": {
             "outlinewidth": 0,
             "ticks": ""
            },
            "type": "choropleth"
           }
          ],
          "contour": [
           {
            "colorbar": {
             "outlinewidth": 0,
             "ticks": ""
            },
            "colorscale": [
             [
              0,
              "#0d0887"
             ],
             [
              0.1111111111111111,
              "#46039f"
             ],
             [
              0.2222222222222222,
              "#7201a8"
             ],
             [
              0.3333333333333333,
              "#9c179e"
             ],
             [
              0.4444444444444444,
              "#bd3786"
             ],
             [
              0.5555555555555556,
              "#d8576b"
             ],
             [
              0.6666666666666666,
              "#ed7953"
             ],
             [
              0.7777777777777778,
              "#fb9f3a"
             ],
             [
              0.8888888888888888,
              "#fdca26"
             ],
             [
              1,
              "#f0f921"
             ]
            ],
            "type": "contour"
           }
          ],
          "contourcarpet": [
           {
            "colorbar": {
             "outlinewidth": 0,
             "ticks": ""
            },
            "type": "contourcarpet"
           }
          ],
          "heatmap": [
           {
            "colorbar": {
             "outlinewidth": 0,
             "ticks": ""
            },
            "colorscale": [
             [
              0,
              "#0d0887"
             ],
             [
              0.1111111111111111,
              "#46039f"
             ],
             [
              0.2222222222222222,
              "#7201a8"
             ],
             [
              0.3333333333333333,
              "#9c179e"
             ],
             [
              0.4444444444444444,
              "#bd3786"
             ],
             [
              0.5555555555555556,
              "#d8576b"
             ],
             [
              0.6666666666666666,
              "#ed7953"
             ],
             [
              0.7777777777777778,
              "#fb9f3a"
             ],
             [
              0.8888888888888888,
              "#fdca26"
             ],
             [
              1,
              "#f0f921"
             ]
            ],
            "type": "heatmap"
           }
          ],
          "heatmapgl": [
           {
            "colorbar": {
             "outlinewidth": 0,
             "ticks": ""
            },
            "colorscale": [
             [
              0,
              "#0d0887"
             ],
             [
              0.1111111111111111,
              "#46039f"
             ],
             [
              0.2222222222222222,
              "#7201a8"
             ],
             [
              0.3333333333333333,
              "#9c179e"
             ],
             [
              0.4444444444444444,
              "#bd3786"
             ],
             [
              0.5555555555555556,
              "#d8576b"
             ],
             [
              0.6666666666666666,
              "#ed7953"
             ],
             [
              0.7777777777777778,
              "#fb9f3a"
             ],
             [
              0.8888888888888888,
              "#fdca26"
             ],
             [
              1,
              "#f0f921"
             ]
            ],
            "type": "heatmapgl"
           }
          ],
          "histogram": [
           {
            "marker": {
             "pattern": {
              "fillmode": "overlay",
              "size": 10,
              "solidity": 0.2
             }
            },
            "type": "histogram"
           }
          ],
          "histogram2d": [
           {
            "colorbar": {
             "outlinewidth": 0,
             "ticks": ""
            },
            "colorscale": [
             [
              0,
              "#0d0887"
             ],
             [
              0.1111111111111111,
              "#46039f"
             ],
             [
              0.2222222222222222,
              "#7201a8"
             ],
             [
              0.3333333333333333,
              "#9c179e"
             ],
             [
              0.4444444444444444,
              "#bd3786"
             ],
             [
              0.5555555555555556,
              "#d8576b"
             ],
             [
              0.6666666666666666,
              "#ed7953"
             ],
             [
              0.7777777777777778,
              "#fb9f3a"
             ],
             [
              0.8888888888888888,
              "#fdca26"
             ],
             [
              1,
              "#f0f921"
             ]
            ],
            "type": "histogram2d"
           }
          ],
          "histogram2dcontour": [
           {
            "colorbar": {
             "outlinewidth": 0,
             "ticks": ""
            },
            "colorscale": [
             [
              0,
              "#0d0887"
             ],
             [
              0.1111111111111111,
              "#46039f"
             ],
             [
              0.2222222222222222,
              "#7201a8"
             ],
             [
              0.3333333333333333,
              "#9c179e"
             ],
             [
              0.4444444444444444,
              "#bd3786"
             ],
             [
              0.5555555555555556,
              "#d8576b"
             ],
             [
              0.6666666666666666,
              "#ed7953"
             ],
             [
              0.7777777777777778,
              "#fb9f3a"
             ],
             [
              0.8888888888888888,
              "#fdca26"
             ],
             [
              1,
              "#f0f921"
             ]
            ],
            "type": "histogram2dcontour"
           }
          ],
          "mesh3d": [
           {
            "colorbar": {
             "outlinewidth": 0,
             "ticks": ""
            },
            "type": "mesh3d"
           }
          ],
          "parcoords": [
           {
            "line": {
             "colorbar": {
              "outlinewidth": 0,
              "ticks": ""
             }
            },
            "type": "parcoords"
           }
          ],
          "pie": [
           {
            "automargin": true,
            "type": "pie"
           }
          ],
          "scatter": [
           {
            "fillpattern": {
             "fillmode": "overlay",
             "size": 10,
             "solidity": 0.2
            },
            "type": "scatter"
           }
          ],
          "scatter3d": [
           {
            "line": {
             "colorbar": {
              "outlinewidth": 0,
              "ticks": ""
             }
            },
            "marker": {
             "colorbar": {
              "outlinewidth": 0,
              "ticks": ""
             }
            },
            "type": "scatter3d"
           }
          ],
          "scattercarpet": [
           {
            "marker": {
             "colorbar": {
              "outlinewidth": 0,
              "ticks": ""
             }
            },
            "type": "scattercarpet"
           }
          ],
          "scattergeo": [
           {
            "marker": {
             "colorbar": {
              "outlinewidth": 0,
              "ticks": ""
             }
            },
            "type": "scattergeo"
           }
          ],
          "scattergl": [
           {
            "marker": {
             "colorbar": {
              "outlinewidth": 0,
              "ticks": ""
             }
            },
            "type": "scattergl"
           }
          ],
          "scattermapbox": [
           {
            "marker": {
             "colorbar": {
              "outlinewidth": 0,
              "ticks": ""
             }
            },
            "type": "scattermapbox"
           }
          ],
          "scatterpolar": [
           {
            "marker": {
             "colorbar": {
              "outlinewidth": 0,
              "ticks": ""
             }
            },
            "type": "scatterpolar"
           }
          ],
          "scatterpolargl": [
           {
            "marker": {
             "colorbar": {
              "outlinewidth": 0,
              "ticks": ""
             }
            },
            "type": "scatterpolargl"
           }
          ],
          "scatterternary": [
           {
            "marker": {
             "colorbar": {
              "outlinewidth": 0,
              "ticks": ""
             }
            },
            "type": "scatterternary"
           }
          ],
          "surface": [
           {
            "colorbar": {
             "outlinewidth": 0,
             "ticks": ""
            },
            "colorscale": [
             [
              0,
              "#0d0887"
             ],
             [
              0.1111111111111111,
              "#46039f"
             ],
             [
              0.2222222222222222,
              "#7201a8"
             ],
             [
              0.3333333333333333,
              "#9c179e"
             ],
             [
              0.4444444444444444,
              "#bd3786"
             ],
             [
              0.5555555555555556,
              "#d8576b"
             ],
             [
              0.6666666666666666,
              "#ed7953"
             ],
             [
              0.7777777777777778,
              "#fb9f3a"
             ],
             [
              0.8888888888888888,
              "#fdca26"
             ],
             [
              1,
              "#f0f921"
             ]
            ],
            "type": "surface"
           }
          ],
          "table": [
           {
            "cells": {
             "fill": {
              "color": "#EBF0F8"
             },
             "line": {
              "color": "white"
             }
            },
            "header": {
             "fill": {
              "color": "#C8D4E3"
             },
             "line": {
              "color": "white"
             }
            },
            "type": "table"
           }
          ]
         },
         "layout": {
          "annotationdefaults": {
           "arrowcolor": "#2a3f5f",
           "arrowhead": 0,
           "arrowwidth": 1
          },
          "autotypenumbers": "strict",
          "coloraxis": {
           "colorbar": {
            "outlinewidth": 0,
            "ticks": ""
           }
          },
          "colorscale": {
           "diverging": [
            [
             0,
             "#8e0152"
            ],
            [
             0.1,
             "#c51b7d"
            ],
            [
             0.2,
             "#de77ae"
            ],
            [
             0.3,
             "#f1b6da"
            ],
            [
             0.4,
             "#fde0ef"
            ],
            [
             0.5,
             "#f7f7f7"
            ],
            [
             0.6,
             "#e6f5d0"
            ],
            [
             0.7,
             "#b8e186"
            ],
            [
             0.8,
             "#7fbc41"
            ],
            [
             0.9,
             "#4d9221"
            ],
            [
             1,
             "#276419"
            ]
           ],
           "sequential": [
            [
             0,
             "#0d0887"
            ],
            [
             0.1111111111111111,
             "#46039f"
            ],
            [
             0.2222222222222222,
             "#7201a8"
            ],
            [
             0.3333333333333333,
             "#9c179e"
            ],
            [
             0.4444444444444444,
             "#bd3786"
            ],
            [
             0.5555555555555556,
             "#d8576b"
            ],
            [
             0.6666666666666666,
             "#ed7953"
            ],
            [
             0.7777777777777778,
             "#fb9f3a"
            ],
            [
             0.8888888888888888,
             "#fdca26"
            ],
            [
             1,
             "#f0f921"
            ]
           ],
           "sequentialminus": [
            [
             0,
             "#0d0887"
            ],
            [
             0.1111111111111111,
             "#46039f"
            ],
            [
             0.2222222222222222,
             "#7201a8"
            ],
            [
             0.3333333333333333,
             "#9c179e"
            ],
            [
             0.4444444444444444,
             "#bd3786"
            ],
            [
             0.5555555555555556,
             "#d8576b"
            ],
            [
             0.6666666666666666,
             "#ed7953"
            ],
            [
             0.7777777777777778,
             "#fb9f3a"
            ],
            [
             0.8888888888888888,
             "#fdca26"
            ],
            [
             1,
             "#f0f921"
            ]
           ]
          },
          "colorway": [
           "#636efa",
           "#EF553B",
           "#00cc96",
           "#ab63fa",
           "#FFA15A",
           "#19d3f3",
           "#FF6692",
           "#B6E880",
           "#FF97FF",
           "#FECB52"
          ],
          "font": {
           "color": "#2a3f5f"
          },
          "geo": {
           "bgcolor": "white",
           "lakecolor": "white",
           "landcolor": "#E5ECF6",
           "showlakes": true,
           "showland": true,
           "subunitcolor": "white"
          },
          "hoverlabel": {
           "align": "left"
          },
          "hovermode": "closest",
          "mapbox": {
           "style": "light"
          },
          "paper_bgcolor": "white",
          "plot_bgcolor": "#E5ECF6",
          "polar": {
           "angularaxis": {
            "gridcolor": "white",
            "linecolor": "white",
            "ticks": ""
           },
           "bgcolor": "#E5ECF6",
           "radialaxis": {
            "gridcolor": "white",
            "linecolor": "white",
            "ticks": ""
           }
          },
          "scene": {
           "xaxis": {
            "backgroundcolor": "#E5ECF6",
            "gridcolor": "white",
            "gridwidth": 2,
            "linecolor": "white",
            "showbackground": true,
            "ticks": "",
            "zerolinecolor": "white"
           },
           "yaxis": {
            "backgroundcolor": "#E5ECF6",
            "gridcolor": "white",
            "gridwidth": 2,
            "linecolor": "white",
            "showbackground": true,
            "ticks": "",
            "zerolinecolor": "white"
           },
           "zaxis": {
            "backgroundcolor": "#E5ECF6",
            "gridcolor": "white",
            "gridwidth": 2,
            "linecolor": "white",
            "showbackground": true,
            "ticks": "",
            "zerolinecolor": "white"
           }
          },
          "shapedefaults": {
           "line": {
            "color": "#2a3f5f"
           }
          },
          "ternary": {
           "aaxis": {
            "gridcolor": "white",
            "linecolor": "white",
            "ticks": ""
           },
           "baxis": {
            "gridcolor": "white",
            "linecolor": "white",
            "ticks": ""
           },
           "bgcolor": "#E5ECF6",
           "caxis": {
            "gridcolor": "white",
            "linecolor": "white",
            "ticks": ""
           }
          },
          "title": {
           "x": 0.05
          },
          "xaxis": {
           "automargin": true,
           "gridcolor": "white",
           "linecolor": "white",
           "ticks": "",
           "title": {
            "standoff": 15
           },
           "zerolinecolor": "white",
           "zerolinewidth": 2
          },
          "yaxis": {
           "automargin": true,
           "gridcolor": "white",
           "linecolor": "white",
           "ticks": "",
           "title": {
            "standoff": 15
           },
           "zerolinecolor": "white",
           "zerolinewidth": 2
          }
         }
        },
        "title": {
         "text": "HFEV1 and HO2Sat posterior distributions over time for ID 101 (816 data-points)"
        },
        "width": 1000,
        "xaxis": {
         "anchor": "y",
         "domain": [
          0,
          0.45
         ],
         "nticks": 20,
         "range": [
          1,
          6
         ],
         "title": {}
        },
        "xaxis2": {
         "anchor": "y2",
         "domain": [
          0.55,
          1
         ],
         "nticks": 20,
         "range": [
          90,
          100
         ],
         "title": {}
        },
        "xaxis3": {
         "anchor": "y3",
         "domain": [
          0,
          0.45
         ],
         "nticks": 20,
         "range": [
          1,
          6
         ],
         "title": {}
        },
        "xaxis4": {
         "anchor": "y4",
         "domain": [
          0.55,
          1
         ],
         "nticks": 20,
         "range": [
          90,
          100
         ],
         "title": {}
        },
        "yaxis": {
         "anchor": "x",
         "domain": [
          0.575,
          1
         ]
        },
        "yaxis2": {
         "anchor": "x2",
         "domain": [
          0.575,
          1
         ]
        },
        "yaxis3": {
         "anchor": "x3",
         "domain": [
          0,
          0.425
         ]
        },
        "yaxis4": {
         "anchor": "x4",
         "domain": [
          0,
          0.425
         ]
        }
       }
      }
     },
     "metadata": {},
     "output_type": "display_data"
    }
   ],
   "source": [
    "# Plot final resutls for an ID\n",
    "from plotly.subplots import make_subplots\n",
    "import plotly.graph_objects as go\n",
    "\n",
    "fig = go.Figure()\n",
    "fig = make_subplots(rows=n_epochs, cols=2)\n",
    "for epoch in range(n_epochs):\n",
    "    ih.plot_histogram(\n",
    "        fig,\n",
    "        HFEV1,\n",
    "        df_res[HFEV1.name].iloc[epoch],\n",
    "        HFEV1.a,\n",
    "        HFEV1.b,\n",
    "        epoch + 1,\n",
    "        1,\n",
    "        \"blue\",\n",
    "        False,\n",
    "    )\n",
    "    ih.plot_histogram(\n",
    "        fig,\n",
    "        HO2Sat,\n",
    "        df_res[HO2Sat.name].iloc[epoch],\n",
    "        HO2Sat.a,\n",
    "        HO2Sat.b,\n",
    "        epoch + 1,\n",
    "        2,\n",
    "        \"blue\",\n",
    "        False,\n",
    "    )\n",
    "\n",
    "fig.update_layout(\n",
    "    title=f\"HFEV1 and HO2Sat posterior distributions over time for ID 101 ({len(df_for_ID)} data-points)\",\n",
    "    width=1000,\n",
    "    height=400,\n",
    "    font=dict(size=10),\n",
    "    showlegend=False,\n",
    ")\n",
    "fig.show()"
   ]
  },
  {
   "cell_type": "code",
   "execution_count": null,
   "metadata": {},
   "outputs": [],
   "source": []
  },
  {
   "cell_type": "code",
   "execution_count": 91,
   "metadata": {},
   "outputs": [
    {
     "data": {
      "application/vnd.plotly.v1+json": {
       "config": {
        "plotlyServerURL": "https://plot.ly"
       },
       "data": [
        {
         "colorscale": [
          [
           0,
           "white"
          ],
          [
           1,
           "blue"
          ]
         ],
         "type": "heatmap",
         "x": [
          "0",
          "1",
          "2",
          "3",
          "4"
         ],
         "y": [
          "[1.0, 1.05)",
          "[1.05, 1.1)",
          "[1.1, 1.15)",
          "[1.15, 1.2)",
          "[1.2, 1.25)",
          "[1.25, 1.3)",
          "[1.3, 1.35)",
          "[1.35, 1.4)",
          "[1.4, 1.45)",
          "[1.45, 1.5)",
          "[1.5, 1.55)",
          "[1.55, 1.6)",
          "[1.6, 1.65)",
          "[1.65, 1.7)",
          "[1.7, 1.75)",
          "[1.75, 1.8)",
          "[1.8, 1.85)",
          "[1.85, 1.9)",
          "[1.9, 1.95)",
          "[1.95, 2.0)",
          "[2.0, 2.05)",
          "[2.05, 2.1)",
          "[2.1, 2.15)",
          "[2.15, 2.2)",
          "[2.2, 2.25)",
          "[2.25, 2.3)",
          "[2.3, 2.35)",
          "[2.35, 2.4)",
          "[2.4, 2.45)",
          "[2.45, 2.5)",
          "[2.5, 2.55)",
          "[2.55, 2.6)",
          "[2.6, 2.65)",
          "[2.65, 2.7)",
          "[2.7, 2.75)",
          "[2.75, 2.8)",
          "[2.8, 2.85)",
          "[2.85, 2.9)",
          "[2.9, 2.95)",
          "[2.95, 3.0)",
          "[3.0, 3.05)",
          "[3.05, 3.1)",
          "[3.1, 3.15)",
          "[3.15, 3.2)",
          "[3.2, 3.25)",
          "[3.25, 3.3)",
          "[3.3, 3.35)",
          "[3.35, 3.4)",
          "[3.4, 3.45)",
          "[3.45, 3.5)",
          "[3.5, 3.55)",
          "[3.55, 3.6)",
          "[3.6, 3.65)",
          "[3.65, 3.7)",
          "[3.7, 3.75)",
          "[3.75, 3.8)",
          "[3.8, 3.85)",
          "[3.85, 3.9)",
          "[3.9, 3.95)",
          "[3.95, 4.0)",
          "[4.0, 4.05)",
          "[4.05, 4.1)",
          "[4.1, 4.15)",
          "[4.15, 4.2)",
          "[4.2, 4.25)",
          "[4.25, 4.3)",
          "[4.3, 4.35)",
          "[4.35, 4.4)",
          "[4.4, 4.45)",
          "[4.45, 4.5)",
          "[4.5, 4.55)",
          "[4.55, 4.6)",
          "[4.6, 4.65)",
          "[4.65, 4.7)",
          "[4.7, 4.75)",
          "[4.75, 4.8)",
          "[4.8, 4.85)",
          "[4.85, 4.9)",
          "[4.9, 4.95)",
          "[4.95, 5.0)",
          "[5.0, 5.05)",
          "[5.05, 5.1)",
          "[5.1, 5.15)",
          "[5.15, 5.2)",
          "[5.2, 5.25)",
          "[5.25, 5.3)",
          "[5.3, 5.35)",
          "[5.35, 5.4)",
          "[5.4, 5.45)",
          "[5.45, 5.5)",
          "[5.5, 5.55)",
          "[5.55, 5.6)",
          "[5.6, 5.65)",
          "[5.65, 5.7)",
          "[5.7, 5.75)",
          "[5.75, 5.8)",
          "[5.8, 5.85)",
          "[5.85, 5.9)",
          "[5.9, 5.95)",
          "[5.95, 6.0)"
         ],
         "z": [
          [
           0,
           0,
           0,
           0,
           0
          ],
          [
           0,
           0,
           0,
           0,
           0
          ],
          [
           0,
           0,
           0,
           0,
           0
          ],
          [
           0,
           0,
           0,
           0,
           0
          ],
          [
           0,
           0,
           0,
           0,
           0
          ],
          [
           0,
           0,
           0,
           0,
           0
          ],
          [
           0,
           0,
           0,
           0,
           0
          ],
          [
           0,
           0,
           0,
           0,
           0
          ],
          [
           0,
           0,
           0,
           0,
           0
          ],
          [
           0,
           0,
           0,
           0,
           0
          ],
          [
           0,
           0,
           0,
           0,
           0
          ],
          [
           0,
           0,
           0,
           0,
           0
          ],
          [
           0,
           0,
           0,
           0,
           0
          ],
          [
           0.00020587180730363816,
           0.00020587180730363816,
           0.00020587180730363816,
           0.00020587180730363816,
           0.00020587180730363816
          ],
          [
           0.0005341942172997627,
           0.0005341942172997627,
           0.0005341942172997627,
           0.0005341942172997627,
           0.0005341942172997627
          ],
          [
           0.0006875899200526262,
           0.0006875899200526262,
           0.0006875899200526262,
           0.0006875899200526262,
           0.0006875899200526262
          ],
          [
           0.0008821850323467387,
           0.0008821850323467387,
           0.0008821850323467387,
           0.0008821850323467387,
           0.0008821850323467387
          ],
          [
           0.001127896693408323,
           0.001127896693408323,
           0.001127896693408323,
           0.001127896693408323,
           0.001127896693408323
          ],
          [
           0.001436619037624932,
           0.001436619037624932,
           0.001436619037624932,
           0.001436619037624932,
           0.001436619037624932
          ],
          [
           0.001822481373144461,
           0.001822481373144461,
           0.001822481373144461,
           0.001822481373144461,
           0.001822481373144461
          ],
          [
           0.002302095738748716,
           0.002302095738748716,
           0.002302095738748716,
           0.002302095738748716,
           0.002302095738748716
          ],
          [
           0.0028947758418501157,
           0.0028947758418501157,
           0.0028947758418501157,
           0.0028947758418501157,
           0.0028947758418501157
          ],
          [
           0.003622704479141884,
           0.003622704479141884,
           0.003622704479141884,
           0.003622704479141884,
           0.003622704479141884
          ],
          [
           0.004511021527119957,
           0.004511021527119957,
           0.004511021527119957,
           0.004511021527119957,
           0.004511021527119957
          ],
          [
           0.005587799879481188,
           0.005587799879481188,
           0.005587799879481188,
           0.005587799879481188,
           0.005587799879481188
          ],
          [
           0.006883872848727655,
           0.006883872848727655,
           0.006883872848727655,
           0.006883872848727655,
           0.006883872848727655
          ],
          [
           0.008432474198062359,
           0.008432474198062359,
           0.008432474198062359,
           0.008432474198062359,
           0.008432474198062359
          ],
          [
           0.010268651937661358,
           0.010268651937661358,
           0.010268651937661358,
           0.010268651937661358,
           0.010268651937661358
          ],
          [
           0.012428420089077947,
           0.012428420089077947,
           0.012428420089077947,
           0.012428420089077947,
           0.012428420089077947
          ],
          [
           0.014947619697018131,
           0.014947619697018131,
           0.014947619697018131,
           0.014947619697018131,
           0.014947619697018131
          ],
          [
           0.01757387354514591,
           0.01757387354514591,
           0.01757387354514591,
           0.01757387354514591,
           0.01757387354514591
          ],
          [
           0.02007539638267347,
           0.02007539638267347,
           0.02007539638267347,
           0.02007539638267347,
           0.02007539638267347
          ],
          [
           0.021684025332753553,
           0.021684025332753553,
           0.021684025332753553,
           0.021684025332753553,
           0.021684025332753553
          ],
          [
           0.022885538591844876,
           0.022885538591844876,
           0.022885538591844876,
           0.022885538591844876,
           0.022885538591844876
          ],
          [
           0.02326768418438282,
           0.02326768418438282,
           0.02326768418438282,
           0.02326768418438282,
           0.02326768418438282
          ],
          [
           0.023916631190928427,
           0.023916631190928427,
           0.023916631190928427,
           0.023916631190928427,
           0.023916631190928427
          ],
          [
           0.02406760753441915,
           0.02406760753441915,
           0.02406760753441915,
           0.02406760753441915,
           0.02406760753441915
          ],
          [
           0.02527751033551696,
           0.02527751033551696,
           0.02527751033551696,
           0.02527751033551696,
           0.02527751033551696
          ],
          [
           0.026424612498281985,
           0.026424612498281985,
           0.026424612498281985,
           0.026424612498281985,
           0.026424612498281985
          ],
          [
           0.028102787258198397,
           0.028102787258198397,
           0.028102787258198397,
           0.028102787258198397,
           0.028102787258198397
          ],
          [
           0.02937118787468243,
           0.02937118787468243,
           0.02937118787468243,
           0.02937118787468243,
           0.02937118787468243
          ],
          [
           0.03113589619079616,
           0.03113589619079616,
           0.03113589619079616,
           0.03113589619079616,
           0.03113589619079616
          ],
          [
           0.03223827555768197,
           0.03223827555768197,
           0.03223827555768197,
           0.03223827555768197,
           0.03223827555768197
          ],
          [
           0.03373941117927817,
           0.03373941117927817,
           0.03373941117927817,
           0.03373941117927817,
           0.03373941117927817
          ],
          [
           0.0347075870509023,
           0.0347075870509023,
           0.0347075870509023,
           0.0347075870509023,
           0.0347075870509023
          ],
          [
           0.03545158409855012,
           0.03545158409855012,
           0.03545158409855012,
           0.03545158409855012,
           0.03545158409855012
          ],
          [
           0.03634241643078605,
           0.03634241643078605,
           0.03634241643078605,
           0.03634241643078605,
           0.03634241643078605
          ],
          [
           0.03624640409648776,
           0.03624640409648776,
           0.03624640409648776,
           0.03624640409648776,
           0.03624640409648776
          ],
          [
           0.03647220275563581,
           0.03647220275563581,
           0.03647220275563581,
           0.03647220275563581,
           0.03647220275563581
          ],
          [
           0.03605434259053825,
           0.03605434259053825,
           0.03605434259053825,
           0.03605434259053825,
           0.03605434259053825
          ],
          [
           0.03483011360096642,
           0.03483011360096642,
           0.03483011360096642,
           0.03483011360096642,
           0.03483011360096642
          ],
          [
           0.03418002853980737,
           0.03418002853980737,
           0.03418002853980737,
           0.03418002853980737,
           0.03418002853980737
          ],
          [
           0.03256178311349765,
           0.03256178311349765,
           0.03256178311349765,
           0.03256178311349765,
           0.03256178311349765
          ],
          [
           0.030208152674941646,
           0.030208152674941646,
           0.030208152674941646,
           0.030208152674941646,
           0.030208152674941646
          ],
          [
           0.028564473322154185,
           0.028564473322154185,
           0.028564473322154185,
           0.028564473322154185,
           0.028564473322154185
          ],
          [
           0.02645016089296657,
           0.02645016089296657,
           0.02645016089296657,
           0.02645016089296657,
           0.02645016089296657
          ],
          [
           0.023350840659567922,
           0.023350840659567922,
           0.023350840659567922,
           0.023350840659567922,
           0.023350840659567922
          ],
          [
           0.020696610428433782,
           0.020696610428433782,
           0.020696610428433782,
           0.020696610428433782,
           0.020696610428433782
          ],
          [
           0.019015867350838996,
           0.019015867350838996,
           0.019015867350838996,
           0.019015867350838996,
           0.019015867350838996
          ],
          [
           0.016663316308097142,
           0.016663316308097142,
           0.016663316308097142,
           0.016663316308097142,
           0.016663316308097142
          ],
          [
           0.01427506155809948,
           0.01427506155809948,
           0.01427506155809948,
           0.01427506155809948,
           0.01427506155809948
          ],
          [
           0.012438322254168712,
           0.012438322254168712,
           0.012438322254168712,
           0.012438322254168712,
           0.012438322254168712
          ],
          [
           0.010907267141659262,
           0.010907267141659262,
           0.010907267141659262,
           0.010907267141659262,
           0.010907267141659262
          ],
          [
           0.00901354517091577,
           0.00901354517091577,
           0.00901354517091577,
           0.00901354517091577,
           0.00901354517091577
          ],
          [
           0.007272257739672077,
           0.007272257739672077,
           0.007272257739672077,
           0.007272257739672077,
           0.007272257739672077
          ],
          [
           0.0059815295328067555,
           0.0059815295328067555,
           0.0059815295328067555,
           0.0059815295328067555,
           0.0059815295328067555
          ],
          [
           0.0050277775191480915,
           0.0050277775191480915,
           0.0050277775191480915,
           0.0050277775191480915,
           0.0050277775191480915
          ],
          [
           0.003943864817552926,
           0.003943864817552926,
           0.003943864817552926,
           0.003943864817552926,
           0.003943864817552926
          ],
          [
           0.0029379660344509818,
           0.0029379660344509818,
           0.0029379660344509818,
           0.0029379660344509818,
           0.0029379660344509818
          ],
          [
           0.002171804391006475,
           0.002171804391006475,
           0.002171804391006475,
           0.002171804391006475,
           0.002171804391006475
          ],
          [
           0.0017147864022651887,
           0.0017147864022651887,
           0.0017147864022651887,
           0.0017147864022651887,
           0.0017147864022651887
          ],
          [
           0.001343175686206961,
           0.001343175686206961,
           0.001343175686206961,
           0.001343175686206961,
           0.001343175686206961
          ],
          [
           0.000935896190683934,
           0.000935896190683934,
           0.000935896190683934,
           0.000935896190683934,
           0.000935896190683934
          ],
          [
           0.0006102610751976817,
           0.0006102610751976817,
           0.0006102610751976817,
           0.0006102610751976817,
           0.0006102610751976817
          ],
          [
           0.000392784832406153,
           0.000392784832406153,
           0.000392784832406153,
           0.000392784832406153,
           0.000392784832406153
          ],
          [
           0.0002876292329104635,
           0.0002876292329104635,
           0.0002876292329104635,
           0.0002876292329104635,
           0.0002876292329104635
          ],
          [
           0.00021216806600601626,
           0.00021216806600601626,
           0.00021216806600601626,
           0.00021216806600601626,
           0.00021216806600601626
          ],
          [
           0.00014691340703572474,
           0.00014691340703572474,
           0.00014691340703572474,
           0.00014691340703572474,
           0.00014691340703572474
          ],
          [
           0.00009334767773277092,
           0.00009334767773277092,
           0.00009334767773277092,
           0.00009334767773277092,
           0.00009334767773277092
          ],
          [
           0.00005749147025109329,
           0.00005749147025109329,
           0.00005749147025109329,
           0.00005749147025109329,
           0.00005749147025109329
          ],
          [
           0.000037106236129228726,
           0.000037106236129228726,
           0.000037106236129228726,
           0.000037106236129228726,
           0.000037106236129228726
          ],
          [
           0.000025501334902361697,
           0.000025501334902361697,
           0.000025501334902361697,
           0.000025501334902361697,
           0.000025501334902361697
          ],
          [
           0.00001727295580084836,
           0.00001727295580084836,
           0.00001727295580084836,
           0.00001727295580084836,
           0.00001727295580084836
          ],
          [
           0.000010818799049656977,
           0.000010818799049656977,
           0.000010818799049656977,
           0.000010818799049656977,
           0.000010818799049656977
          ],
          [
           0.000005901766312965399,
           0.000005901766312965399,
           0.000005901766312965399,
           0.000005901766312965399,
           0.000005901766312965399
          ],
          [
           0.000003031496847389757,
           0.000003031496847389757,
           0.000003031496847389757,
           0.000003031496847389757,
           0.000003031496847389757
          ],
          [
           0.0000015710183797809406,
           0.0000015710183797809406,
           0.0000015710183797809406,
           0.0000015710183797809406,
           0.0000015710183797809406
          ],
          [
           9.776859779096363e-7,
           9.776859779096363e-7,
           9.776859779096363e-7,
           9.776859779096363e-7,
           9.776859779096363e-7
          ],
          [
           6.053277548978219e-7,
           6.053277548978219e-7,
           6.053277548978219e-7,
           6.053277548978219e-7,
           6.053277548978219e-7
          ],
          [
           3.6905604169173664e-7,
           3.6905604169173664e-7,
           3.6905604169173664e-7,
           3.6905604169173664e-7,
           3.6905604169173664e-7
          ],
          [
           2.0439638774741626e-7,
           2.0439638774741626e-7,
           2.0439638774741626e-7,
           2.0439638774741626e-7,
           2.0439638774741626e-7
          ],
          [
           1.0049869808099506e-7,
           1.0049869808099506e-7,
           1.0049869808099506e-7,
           1.0049869808099506e-7,
           1.0049869808099506e-7
          ],
          [
           4.665750080113679e-8,
           4.665750080113679e-8,
           4.665750080113679e-8,
           4.665750080113679e-8,
           4.665750080113679e-8
          ],
          [
           2.1453303600279155e-8,
           2.1453303600279155e-8,
           2.1453303600279155e-8,
           2.1453303600279155e-8,
           2.1453303600279155e-8
          ],
          [
           1.1875857582282106e-8,
           1.1875857582282106e-8,
           1.1875857582282106e-8,
           1.1875857582282106e-8,
           1.1875857582282106e-8
          ],
          [
           6.5845790295550646e-9,
           6.5845790295550646e-9,
           6.5845790295550646e-9,
           6.5845790295550646e-9,
           6.5845790295550646e-9
          ],
          [
           3.592000910933459e-9,
           3.592000910933459e-9,
           3.592000910933459e-9,
           3.592000910933459e-9,
           3.592000910933459e-9
          ],
          [
           1.923905492214349e-9,
           1.923905492214349e-9,
           1.923905492214349e-9,
           1.923905492214349e-9,
           1.923905492214349e-9
          ],
          [
           8.911427163632465e-10,
           8.911427163632465e-10,
           8.911427163632465e-10,
           8.911427163632465e-10,
           8.911427163632465e-10
          ],
          [
           3.604247212474154e-10,
           3.604247212474154e-10,
           3.604247212474154e-10,
           3.604247212474154e-10,
           3.604247212474154e-10
          ]
         ]
        }
       ],
       "layout": {
        "font": {
         "size": 5
        },
        "height": 800,
        "template": {
         "data": {
          "bar": [
           {
            "error_x": {
             "color": "#2a3f5f"
            },
            "error_y": {
             "color": "#2a3f5f"
            },
            "marker": {
             "line": {
              "color": "#E5ECF6",
              "width": 0.5
             },
             "pattern": {
              "fillmode": "overlay",
              "size": 10,
              "solidity": 0.2
             }
            },
            "type": "bar"
           }
          ],
          "barpolar": [
           {
            "marker": {
             "line": {
              "color": "#E5ECF6",
              "width": 0.5
             },
             "pattern": {
              "fillmode": "overlay",
              "size": 10,
              "solidity": 0.2
             }
            },
            "type": "barpolar"
           }
          ],
          "carpet": [
           {
            "aaxis": {
             "endlinecolor": "#2a3f5f",
             "gridcolor": "white",
             "linecolor": "white",
             "minorgridcolor": "white",
             "startlinecolor": "#2a3f5f"
            },
            "baxis": {
             "endlinecolor": "#2a3f5f",
             "gridcolor": "white",
             "linecolor": "white",
             "minorgridcolor": "white",
             "startlinecolor": "#2a3f5f"
            },
            "type": "carpet"
           }
          ],
          "choropleth": [
           {
            "colorbar": {
             "outlinewidth": 0,
             "ticks": ""
            },
            "type": "choropleth"
           }
          ],
          "contour": [
           {
            "colorbar": {
             "outlinewidth": 0,
             "ticks": ""
            },
            "colorscale": [
             [
              0,
              "#0d0887"
             ],
             [
              0.1111111111111111,
              "#46039f"
             ],
             [
              0.2222222222222222,
              "#7201a8"
             ],
             [
              0.3333333333333333,
              "#9c179e"
             ],
             [
              0.4444444444444444,
              "#bd3786"
             ],
             [
              0.5555555555555556,
              "#d8576b"
             ],
             [
              0.6666666666666666,
              "#ed7953"
             ],
             [
              0.7777777777777778,
              "#fb9f3a"
             ],
             [
              0.8888888888888888,
              "#fdca26"
             ],
             [
              1,
              "#f0f921"
             ]
            ],
            "type": "contour"
           }
          ],
          "contourcarpet": [
           {
            "colorbar": {
             "outlinewidth": 0,
             "ticks": ""
            },
            "type": "contourcarpet"
           }
          ],
          "heatmap": [
           {
            "colorbar": {
             "outlinewidth": 0,
             "ticks": ""
            },
            "colorscale": [
             [
              0,
              "#0d0887"
             ],
             [
              0.1111111111111111,
              "#46039f"
             ],
             [
              0.2222222222222222,
              "#7201a8"
             ],
             [
              0.3333333333333333,
              "#9c179e"
             ],
             [
              0.4444444444444444,
              "#bd3786"
             ],
             [
              0.5555555555555556,
              "#d8576b"
             ],
             [
              0.6666666666666666,
              "#ed7953"
             ],
             [
              0.7777777777777778,
              "#fb9f3a"
             ],
             [
              0.8888888888888888,
              "#fdca26"
             ],
             [
              1,
              "#f0f921"
             ]
            ],
            "type": "heatmap"
           }
          ],
          "heatmapgl": [
           {
            "colorbar": {
             "outlinewidth": 0,
             "ticks": ""
            },
            "colorscale": [
             [
              0,
              "#0d0887"
             ],
             [
              0.1111111111111111,
              "#46039f"
             ],
             [
              0.2222222222222222,
              "#7201a8"
             ],
             [
              0.3333333333333333,
              "#9c179e"
             ],
             [
              0.4444444444444444,
              "#bd3786"
             ],
             [
              0.5555555555555556,
              "#d8576b"
             ],
             [
              0.6666666666666666,
              "#ed7953"
             ],
             [
              0.7777777777777778,
              "#fb9f3a"
             ],
             [
              0.8888888888888888,
              "#fdca26"
             ],
             [
              1,
              "#f0f921"
             ]
            ],
            "type": "heatmapgl"
           }
          ],
          "histogram": [
           {
            "marker": {
             "pattern": {
              "fillmode": "overlay",
              "size": 10,
              "solidity": 0.2
             }
            },
            "type": "histogram"
           }
          ],
          "histogram2d": [
           {
            "colorbar": {
             "outlinewidth": 0,
             "ticks": ""
            },
            "colorscale": [
             [
              0,
              "#0d0887"
             ],
             [
              0.1111111111111111,
              "#46039f"
             ],
             [
              0.2222222222222222,
              "#7201a8"
             ],
             [
              0.3333333333333333,
              "#9c179e"
             ],
             [
              0.4444444444444444,
              "#bd3786"
             ],
             [
              0.5555555555555556,
              "#d8576b"
             ],
             [
              0.6666666666666666,
              "#ed7953"
             ],
             [
              0.7777777777777778,
              "#fb9f3a"
             ],
             [
              0.8888888888888888,
              "#fdca26"
             ],
             [
              1,
              "#f0f921"
             ]
            ],
            "type": "histogram2d"
           }
          ],
          "histogram2dcontour": [
           {
            "colorbar": {
             "outlinewidth": 0,
             "ticks": ""
            },
            "colorscale": [
             [
              0,
              "#0d0887"
             ],
             [
              0.1111111111111111,
              "#46039f"
             ],
             [
              0.2222222222222222,
              "#7201a8"
             ],
             [
              0.3333333333333333,
              "#9c179e"
             ],
             [
              0.4444444444444444,
              "#bd3786"
             ],
             [
              0.5555555555555556,
              "#d8576b"
             ],
             [
              0.6666666666666666,
              "#ed7953"
             ],
             [
              0.7777777777777778,
              "#fb9f3a"
             ],
             [
              0.8888888888888888,
              "#fdca26"
             ],
             [
              1,
              "#f0f921"
             ]
            ],
            "type": "histogram2dcontour"
           }
          ],
          "mesh3d": [
           {
            "colorbar": {
             "outlinewidth": 0,
             "ticks": ""
            },
            "type": "mesh3d"
           }
          ],
          "parcoords": [
           {
            "line": {
             "colorbar": {
              "outlinewidth": 0,
              "ticks": ""
             }
            },
            "type": "parcoords"
           }
          ],
          "pie": [
           {
            "automargin": true,
            "type": "pie"
           }
          ],
          "scatter": [
           {
            "fillpattern": {
             "fillmode": "overlay",
             "size": 10,
             "solidity": 0.2
            },
            "type": "scatter"
           }
          ],
          "scatter3d": [
           {
            "line": {
             "colorbar": {
              "outlinewidth": 0,
              "ticks": ""
             }
            },
            "marker": {
             "colorbar": {
              "outlinewidth": 0,
              "ticks": ""
             }
            },
            "type": "scatter3d"
           }
          ],
          "scattercarpet": [
           {
            "marker": {
             "colorbar": {
              "outlinewidth": 0,
              "ticks": ""
             }
            },
            "type": "scattercarpet"
           }
          ],
          "scattergeo": [
           {
            "marker": {
             "colorbar": {
              "outlinewidth": 0,
              "ticks": ""
             }
            },
            "type": "scattergeo"
           }
          ],
          "scattergl": [
           {
            "marker": {
             "colorbar": {
              "outlinewidth": 0,
              "ticks": ""
             }
            },
            "type": "scattergl"
           }
          ],
          "scattermapbox": [
           {
            "marker": {
             "colorbar": {
              "outlinewidth": 0,
              "ticks": ""
             }
            },
            "type": "scattermapbox"
           }
          ],
          "scatterpolar": [
           {
            "marker": {
             "colorbar": {
              "outlinewidth": 0,
              "ticks": ""
             }
            },
            "type": "scatterpolar"
           }
          ],
          "scatterpolargl": [
           {
            "marker": {
             "colorbar": {
              "outlinewidth": 0,
              "ticks": ""
             }
            },
            "type": "scatterpolargl"
           }
          ],
          "scatterternary": [
           {
            "marker": {
             "colorbar": {
              "outlinewidth": 0,
              "ticks": ""
             }
            },
            "type": "scatterternary"
           }
          ],
          "surface": [
           {
            "colorbar": {
             "outlinewidth": 0,
             "ticks": ""
            },
            "colorscale": [
             [
              0,
              "#0d0887"
             ],
             [
              0.1111111111111111,
              "#46039f"
             ],
             [
              0.2222222222222222,
              "#7201a8"
             ],
             [
              0.3333333333333333,
              "#9c179e"
             ],
             [
              0.4444444444444444,
              "#bd3786"
             ],
             [
              0.5555555555555556,
              "#d8576b"
             ],
             [
              0.6666666666666666,
              "#ed7953"
             ],
             [
              0.7777777777777778,
              "#fb9f3a"
             ],
             [
              0.8888888888888888,
              "#fdca26"
             ],
             [
              1,
              "#f0f921"
             ]
            ],
            "type": "surface"
           }
          ],
          "table": [
           {
            "cells": {
             "fill": {
              "color": "#EBF0F8"
             },
             "line": {
              "color": "white"
             }
            },
            "header": {
             "fill": {
              "color": "#C8D4E3"
             },
             "line": {
              "color": "white"
             }
            },
            "type": "table"
           }
          ]
         },
         "layout": {
          "annotationdefaults": {
           "arrowcolor": "#2a3f5f",
           "arrowhead": 0,
           "arrowwidth": 1
          },
          "autotypenumbers": "strict",
          "coloraxis": {
           "colorbar": {
            "outlinewidth": 0,
            "ticks": ""
           }
          },
          "colorscale": {
           "diverging": [
            [
             0,
             "#8e0152"
            ],
            [
             0.1,
             "#c51b7d"
            ],
            [
             0.2,
             "#de77ae"
            ],
            [
             0.3,
             "#f1b6da"
            ],
            [
             0.4,
             "#fde0ef"
            ],
            [
             0.5,
             "#f7f7f7"
            ],
            [
             0.6,
             "#e6f5d0"
            ],
            [
             0.7,
             "#b8e186"
            ],
            [
             0.8,
             "#7fbc41"
            ],
            [
             0.9,
             "#4d9221"
            ],
            [
             1,
             "#276419"
            ]
           ],
           "sequential": [
            [
             0,
             "#0d0887"
            ],
            [
             0.1111111111111111,
             "#46039f"
            ],
            [
             0.2222222222222222,
             "#7201a8"
            ],
            [
             0.3333333333333333,
             "#9c179e"
            ],
            [
             0.4444444444444444,
             "#bd3786"
            ],
            [
             0.5555555555555556,
             "#d8576b"
            ],
            [
             0.6666666666666666,
             "#ed7953"
            ],
            [
             0.7777777777777778,
             "#fb9f3a"
            ],
            [
             0.8888888888888888,
             "#fdca26"
            ],
            [
             1,
             "#f0f921"
            ]
           ],
           "sequentialminus": [
            [
             0,
             "#0d0887"
            ],
            [
             0.1111111111111111,
             "#46039f"
            ],
            [
             0.2222222222222222,
             "#7201a8"
            ],
            [
             0.3333333333333333,
             "#9c179e"
            ],
            [
             0.4444444444444444,
             "#bd3786"
            ],
            [
             0.5555555555555556,
             "#d8576b"
            ],
            [
             0.6666666666666666,
             "#ed7953"
            ],
            [
             0.7777777777777778,
             "#fb9f3a"
            ],
            [
             0.8888888888888888,
             "#fdca26"
            ],
            [
             1,
             "#f0f921"
            ]
           ]
          },
          "colorway": [
           "#636efa",
           "#EF553B",
           "#00cc96",
           "#ab63fa",
           "#FFA15A",
           "#19d3f3",
           "#FF6692",
           "#B6E880",
           "#FF97FF",
           "#FECB52"
          ],
          "font": {
           "color": "#2a3f5f"
          },
          "geo": {
           "bgcolor": "white",
           "lakecolor": "white",
           "landcolor": "#E5ECF6",
           "showlakes": true,
           "showland": true,
           "subunitcolor": "white"
          },
          "hoverlabel": {
           "align": "left"
          },
          "hovermode": "closest",
          "mapbox": {
           "style": "light"
          },
          "paper_bgcolor": "white",
          "plot_bgcolor": "#E5ECF6",
          "polar": {
           "angularaxis": {
            "gridcolor": "white",
            "linecolor": "white",
            "ticks": ""
           },
           "bgcolor": "#E5ECF6",
           "radialaxis": {
            "gridcolor": "white",
            "linecolor": "white",
            "ticks": ""
           }
          },
          "scene": {
           "xaxis": {
            "backgroundcolor": "#E5ECF6",
            "gridcolor": "white",
            "gridwidth": 2,
            "linecolor": "white",
            "showbackground": true,
            "ticks": "",
            "zerolinecolor": "white"
           },
           "yaxis": {
            "backgroundcolor": "#E5ECF6",
            "gridcolor": "white",
            "gridwidth": 2,
            "linecolor": "white",
            "showbackground": true,
            "ticks": "",
            "zerolinecolor": "white"
           },
           "zaxis": {
            "backgroundcolor": "#E5ECF6",
            "gridcolor": "white",
            "gridwidth": 2,
            "linecolor": "white",
            "showbackground": true,
            "ticks": "",
            "zerolinecolor": "white"
           }
          },
          "shapedefaults": {
           "line": {
            "color": "#2a3f5f"
           }
          },
          "ternary": {
           "aaxis": {
            "gridcolor": "white",
            "linecolor": "white",
            "ticks": ""
           },
           "baxis": {
            "gridcolor": "white",
            "linecolor": "white",
            "ticks": ""
           },
           "bgcolor": "#E5ECF6",
           "caxis": {
            "gridcolor": "white",
            "linecolor": "white",
            "ticks": ""
           }
          },
          "title": {
           "x": 0.05
          },
          "xaxis": {
           "automargin": true,
           "gridcolor": "white",
           "linecolor": "white",
           "ticks": "",
           "title": {
            "standoff": 15
           },
           "zerolinecolor": "white",
           "zerolinewidth": 2
          },
          "yaxis": {
           "automargin": true,
           "gridcolor": "white",
           "linecolor": "white",
           "ticks": "",
           "title": {
            "standoff": 15
           },
           "zerolinecolor": "white",
           "zerolinewidth": 2
          }
         }
        },
        "width": 300,
        "xaxis": {
         "title": {
          "text": "Epoch"
         }
        },
        "yaxis": {
         "title": {
          "text": "Healthy FEV1 (L)"
         }
        }
       }
      }
     },
     "metadata": {},
     "output_type": "display_data"
    }
   ],
   "source": [
    "# Create one heatmap for each day, with the HFEV1shared.name as the y axis, the day as the x axis and the probability as the value\n",
    "# def create_heatmap(df, shared_var):\n",
    "x = df_res_hfev1.columns\n",
    "y = df_res_hfev1.index\n",
    "z = df_res_hfev1\n",
    "\n",
    "fig = go.Figure()\n",
    "colorscale = [[0, \"white\"], [1, \"blue\"]]\n",
    "fig.add_trace(go.Heatmap(z=z, x=x, y=y, colorscale=colorscale))\n",
    "fig.update_layout(\n",
    "    # title=f\"Probability of {shared_var.name} given {', '.join(shared_var.parents)}\",\n",
    "    yaxis_title=HFEV1.name,\n",
    "    xaxis_title=\"Epoch\",\n",
    "    width=300,\n",
    "    height=800,\n",
    "    font=dict(size=5),\n",
    ")\n",
    "fig.show()"
   ]
  },
  {
   "cell_type": "code",
   "execution_count": 55,
   "metadata": {},
   "outputs": [
    {
     "data": {
      "text/html": [
       "<div>\n",
       "<style scoped>\n",
       "    .dataframe tbody tr th:only-of-type {\n",
       "        vertical-align: middle;\n",
       "    }\n",
       "\n",
       "    .dataframe tbody tr th {\n",
       "        vertical-align: top;\n",
       "    }\n",
       "\n",
       "    .dataframe thead th {\n",
       "        text-align: right;\n",
       "    }\n",
       "</style>\n",
       "<table border=\"1\" class=\"dataframe\">\n",
       "  <thead>\n",
       "    <tr style=\"text-align: right;\">\n",
       "      <th></th>\n",
       "      <th>sepal_length</th>\n",
       "      <th>sepal_width</th>\n",
       "      <th>petal_length</th>\n",
       "      <th>petal_width</th>\n",
       "      <th>species_id</th>\n",
       "    </tr>\n",
       "  </thead>\n",
       "  <tbody>\n",
       "    <tr>\n",
       "      <th>sepal_length</th>\n",
       "      <td>1.000000</td>\n",
       "      <td>-0.109369</td>\n",
       "      <td>0.871754</td>\n",
       "      <td>0.817954</td>\n",
       "      <td>0.782561</td>\n",
       "    </tr>\n",
       "    <tr>\n",
       "      <th>sepal_width</th>\n",
       "      <td>-0.109369</td>\n",
       "      <td>1.000000</td>\n",
       "      <td>-0.420516</td>\n",
       "      <td>-0.356544</td>\n",
       "      <td>-0.419446</td>\n",
       "    </tr>\n",
       "    <tr>\n",
       "      <th>petal_length</th>\n",
       "      <td>0.871754</td>\n",
       "      <td>-0.420516</td>\n",
       "      <td>1.000000</td>\n",
       "      <td>0.962757</td>\n",
       "      <td>0.949043</td>\n",
       "    </tr>\n",
       "    <tr>\n",
       "      <th>petal_width</th>\n",
       "      <td>0.817954</td>\n",
       "      <td>-0.356544</td>\n",
       "      <td>0.962757</td>\n",
       "      <td>1.000000</td>\n",
       "      <td>0.956464</td>\n",
       "    </tr>\n",
       "    <tr>\n",
       "      <th>species_id</th>\n",
       "      <td>0.782561</td>\n",
       "      <td>-0.419446</td>\n",
       "      <td>0.949043</td>\n",
       "      <td>0.956464</td>\n",
       "      <td>1.000000</td>\n",
       "    </tr>\n",
       "  </tbody>\n",
       "</table>\n",
       "</div>"
      ],
      "text/plain": [
       "              sepal_length  sepal_width  petal_length  petal_width  species_id\n",
       "sepal_length      1.000000    -0.109369      0.871754     0.817954    0.782561\n",
       "sepal_width      -0.109369     1.000000     -0.420516    -0.356544   -0.419446\n",
       "petal_length      0.871754    -0.420516      1.000000     0.962757    0.949043\n",
       "petal_width       0.817954    -0.356544      0.962757     1.000000    0.956464\n",
       "species_id        0.782561    -0.419446      0.949043     0.956464    1.000000"
      ]
     },
     "execution_count": 55,
     "metadata": {},
     "output_type": "execute_result"
    }
   ],
   "source": [
    "df.corr(numeric_only=True)"
   ]
  },
  {
   "cell_type": "markdown",
   "metadata": {},
   "source": [
    "## Plot final results for an ID"
   ]
  },
  {
   "cell_type": "code",
   "execution_count": null,
   "metadata": {},
   "outputs": [],
   "source": [
    "# Plot final resutls for an ID\n",
    "from plotly.subplots import make_subplots\n",
    "import plotly.graph_objects as go\n",
    "\n",
    "fig = go.Figure()\n",
    "fig = make_subplots(rows=4, cols=1)\n",
    "ih.plot_histogram(fig, HFEV1, res[HFEV1.name].values, HFEV1.a, HFEV1.b, 1, 1, \"blue\")\n",
    "ih.plot_histogram(\n",
    "    fig, HO2Sat, res[HO2Sat.name].values, HO2Sat.a, HO2Sat.b, 2, 1, \"blue\"\n",
    ")\n",
    "\n",
    "\n",
    "def plot_scatter(fig, x, y, row, col, colour, title=None):\n",
    "    fig.add_trace(\n",
    "        go.Scatter(\n",
    "            x=x,\n",
    "            y=y,\n",
    "            mode=\"markers\",\n",
    "        ),\n",
    "        row=row,\n",
    "        col=col,\n",
    "    )\n",
    "    fig.update_traces(marker=dict(size=2), row=row, col=col)\n",
    "    if colour:\n",
    "        fig.update_traces(marker=dict(color=colour), row=row, col=col)\n",
    "    # Add x axis title\n",
    "    fig.update_yaxes(title_text=title, row=row, col=col)\n",
    "    fig.update_xaxes(title_text=\"Days\", row=row, col=col)\n",
    "\n",
    "\n",
    "plot_scatter(\n",
    "    fig, df_for_ID[\"Date Recorded\"], df_for_ID[ecFEV1.name], 3, 1, \"black\", ecFEV1.name\n",
    ")\n",
    "plot_scatter(\n",
    "    fig, df_for_ID[\"Date Recorded\"], df_for_ID[O2Sat.name], 4, 1, \"black\", O2Sat.name\n",
    ")\n",
    "fig.update_layout(\n",
    "    title=f\"HFEV1 and HO2Sat posterior distributions over time for ID 101 ({len(df_for_ID)} data-points)\",\n",
    "    width=1000,\n",
    "    height=800,\n",
    "    font=dict(size=10),\n",
    "    showlegend=False,\n",
    ")\n",
    "fig.show()"
   ]
  }
 ],
 "metadata": {
  "kernelspec": {
   "display_name": "phd",
   "language": "python",
   "name": "python3"
  },
  "language_info": {
   "codemirror_mode": {
    "name": "ipython",
    "version": 3
   },
   "file_extension": ".py",
   "mimetype": "text/x-python",
   "name": "python",
   "nbconvert_exporter": "python",
   "pygments_lexer": "ipython3",
   "version": "3.10.13"
  }
 },
 "nbformat": 4,
 "nbformat_minor": 2
}
