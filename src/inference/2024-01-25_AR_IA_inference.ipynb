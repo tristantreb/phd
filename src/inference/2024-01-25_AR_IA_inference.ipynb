{
 "cells": [
  {
   "cell_type": "code",
   "execution_count": null,
   "metadata": {},
   "outputs": [],
   "source": [
    "import src.models.helpers as mh\n",
    "import src.models.builders as mb\n",
    "import src.inference.helpers as ih\n",
    "import src.data.breathe_data as breathe_data\n",
    "\n",
    "import pandas as pd"
   ]
  },
  {
   "cell_type": "code",
   "execution_count": null,
   "metadata": {},
   "outputs": [],
   "source": [
    "df = breathe_data.load_from_excel()\n",
    "df.head()"
   ]
  },
  {
   "cell_type": "code",
   "execution_count": null,
   "metadata": {},
   "outputs": [],
   "source": [
    "# Infer AR and IA for all data points given an individuals' age, sex, height, FEV1 and O2 saturation measurements\n",
    "def infer_AR_IA_for_ID(df):\n",
    "    df.reset_index(inplace=True)\n",
    "    _, inf_alg, _, ecFEV1, AR, _, _, IA, _, O2Sat = mb.o2sat_fev1_point_in_time_model(df.Height[0], df.Age[0], df.Sex[0])\n",
    "    # _, inf_alg, AR, IA, ecFEV1, O2Sat = build_model(173, 53, \"Male\")\n",
    "\n",
    "    # inf_res = ih.infer(inf_alg, [AR, IA], [[ecFEV1, 1.31], [O2Sat, 97.0]], show_progress=False, joint=False, get_time=True)\n",
    "\n",
    "    def infer_and_unpack(ecfev1_obs, o2sat_obs):\n",
    "        res = ih.infer(\n",
    "            inf_alg,\n",
    "            [AR, IA],\n",
    "            [[ecFEV1, ecfev1_obs], [O2Sat, o2sat_obs]],\n",
    "            show_progress=False,\n",
    "            joint=False,\n",
    "            get_time=False,\n",
    "        )\n",
    "        # mean_ar = AR.get_mean(res[AR.name].values)\n",
    "        # mean_ia = IA.get_mean(res[IA.name].values)\n",
    "        # return mean_ar, mean_ia\n",
    "        return res[AR.name].values, res[IA.name].values\n",
    "\n",
    "    res = df.apply(\n",
    "        lambda row: infer_and_unpack(row[\"ecFEV1\"], row[\"O2 Saturation\"]),\n",
    "        axis=1,\n",
    "    )\n",
    "    return res\n",
    "\n",
    "\n",
    "resraw = df.groupby(\"ID\").apply(infer_AR_IA_for_ID)\n",
    "# resraw = df.iloc[np.r_[10:13, 1000:1007]].groupby(\"ID\").apply(infer_AR_IA_for_ID)\n",
    "res = (\n",
    "    resraw.apply(pd.Series)\n",
    "    .reset_index()\n",
    "    .rename(columns={0: \"AR\", 1: \"IA\"})\n",
    "    .drop(columns=\"level_1\")\n",
    ")\n",
    "res"
   ]
  },
  {
   "cell_type": "code",
   "execution_count": null,
   "metadata": {},
   "outputs": [],
   "source": [
    "AR = mh.variableNode(\"Airway resistance (%)\", 0, 90, 2, prior={\"type\": \"uniform\"})\n",
    "IA = mh.variableNode(\"Inactive alveoli (%)\", 0, 30, 1, prior={\"type\": \"uniform\"})\n",
    "\n",
    "res[\"AR mean\"] = res[\"AR\"].apply(lambda x: AR.get_mean(x))\n",
    "res[\"IA mean\"] = res[\"IA\"].apply(lambda x: IA.get_mean(x))"
   ]
  },
  {
   "cell_type": "code",
   "execution_count": null,
   "metadata": {},
   "outputs": [],
   "source": [
    "res"
   ]
  },
  {
   "cell_type": "code",
   "execution_count": null,
   "metadata": {},
   "outputs": [],
   "source": [
    "# Save rawres as excel to ../../../../ExcelFiles\n",
    "res.to_excel(\n",
    "    \"../../../../ExcelFiles/inferred_AR_IA_with_FEV1_O2Sat_no_AR-IA_factor.xlsx\"\n",
    ")"
   ]
  },
  {
   "cell_type": "markdown",
   "metadata": {},
   "source": [
    "# Save arrays as objects\n",
    "Arrays are currently saved as strings which is painful to process when reading from the file"
   ]
  },
  {
   "cell_type": "code",
   "execution_count": null,
   "metadata": {},
   "outputs": [],
   "source": [
    "import pandas as pd\n",
    "import numpy as np\n",
    "import src.data.helpers as data_helpers"
   ]
  },
  {
   "cell_type": "code",
   "execution_count": null,
   "metadata": {},
   "outputs": [],
   "source": [
    "data_helpers.load_excel(\"../../../../ExcelFiles/inferred_AR_IA_with_FEV1_O2Sat_no_AR-IA_factor_1.xlsx\", [\"AR\", \"IA\"]).iloc[0].AR"
   ]
  },
  {
   "cell_type": "code",
   "execution_count": null,
   "metadata": {},
   "outputs": [],
   "source": [
    "df = pd.read_excel(\"../../../../ExcelFiles/inferred_AR_IA_with_FEV1_O2Sat_no_AR-IA_factor_1.xlsx\")"
   ]
  },
  {
   "cell_type": "code",
   "execution_count": null,
   "metadata": {},
   "outputs": [],
   "source": [
    "# Convert back to arrays\n",
    "def str_to_array(s):\n",
    "    s_cleaned = s.replace('\\\\n', '')\n",
    "    return np.fromstring(s_cleaned[1:-1], sep=' ')\n",
    "\n",
    "df[\"AR\"] = df.AR.apply(str_to_array)\n",
    "df[\"IA\"] = df.IA.apply(str_to_array)"
   ]
  },
  {
   "cell_type": "code",
   "execution_count": null,
   "metadata": {},
   "outputs": [],
   "source": [
    "df.iloc[0].AR"
   ]
  },
  {
   "cell_type": "code",
   "execution_count": null,
   "metadata": {},
   "outputs": [],
   "source": [
    "df.to_excel(\n",
    "    \"../../../../ExcelFiles/inferred_AR_IA_with_FEV1_O2Sat_no_AR-IA_factor_1.xlsx\", index=False\n",
    ")"
   ]
  },
  {
   "cell_type": "code",
   "execution_count": null,
   "metadata": {},
   "outputs": [],
   "source": [
    "df = pd.read_excel(\"../../../../ExcelFiles/inferred_AR_IA_with_FEV1_O2Sat_no_AR-IA_factor.xlsx\")"
   ]
  },
  {
   "cell_type": "code",
   "execution_count": null,
   "metadata": {},
   "outputs": [],
   "source": [
    "df.AR.apply(json.loads)[0]"
   ]
  },
  {
   "cell_type": "code",
   "execution_count": null,
   "metadata": {},
   "outputs": [],
   "source": []
  }
 ],
 "metadata": {
  "kernelspec": {
   "display_name": "phd",
   "language": "python",
   "name": "python3"
  },
  "language_info": {
   "codemirror_mode": {
    "name": "ipython",
    "version": 3
   },
   "file_extension": ".py",
   "mimetype": "text/x-python",
   "name": "python",
   "nbconvert_exporter": "python",
   "pygments_lexer": "ipython3",
   "version": "3.10.13"
  }
 },
 "nbformat": 4,
 "nbformat_minor": 2
}
