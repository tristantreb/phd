{
 "cells": [
  {
   "cell_type": "code",
   "execution_count": 1,
   "metadata": {},
   "outputs": [],
   "source": [
    "import src.models.builders as mb\n",
    "import src.models.helpers as mh\n",
    "import src.inference.helpers as ih\n",
    "import plotly.graph_objects as go\n",
    "import src.modelling_o2.fit_ho2sat_ar as fit_ho2sat_ar\n",
    "import src.models.o2_fev1_point_in_time as model\n",
    "\n",
    "import numpy as np"
   ]
  },
  {
   "cell_type": "code",
   "execution_count": 2,
   "metadata": {},
   "outputs": [
    {
     "name": "stderr",
     "output_type": "stream",
     "text": [
      "/Users/tristan.trebaol/Desktop/PhD/Code/phd/src/models/helpers.py:331: IntegrationWarning: The maximum number of subdivisions (50) has been achieved.\n",
      "  If increasing the limit yields no improvement it is advised to analyze \n",
      "  the integrand in order to determine the difficulties.  If the position of a \n",
      "  local difficulty can be determined (singularity, discontinuity) one will \n",
      "  probably gain from splitting up the interval and calling the integrator \n",
      "  on the subranges.  Perhaps a special-purpose integrator should be used.\n",
      "  val, abserr = integrate.quad(\n"
     ]
    }
   ],
   "source": [
    "height = 175\n",
    "age = 30\n",
    "sex = \"Male\"\n",
    "hfev1_prior = {\"type\": \"default\", \"height\": height, \"age\": age, \"sex\": sex}\n",
    "ho2sat_prior = {\n",
    "    \"type\": \"default\",\n",
    "    \"height\": height,\n",
    "    \"sex\": sex,\n",
    "}\n",
    "(\n",
    "    # model,\n",
    "    # inf_alg,\n",
    "    HFEV1,\n",
    "    ecFEV1,\n",
    "    AR,\n",
    "    HO2Sat,\n",
    "    O2SatFFA,\n",
    "    IA,\n",
    "    UO2Sat\n",
    "    # ) = model.build(hfev1_prior, ho2sat_prior)\n",
    ") = model.calc_cpts(hfev1_prior, ho2sat_prior)"
   ]
  },
  {
   "cell_type": "code",
   "execution_count": 7,
   "metadata": {},
   "outputs": [
    {
     "data": {
      "application/vnd.plotly.v1+json": {
       "config": {
        "plotlyServerURL": "https://plot.ly"
       },
       "data": [
        {
         "mode": "lines",
         "type": "scatter",
         "x": [
          0.5,
          1.5,
          2.5,
          3.5,
          4.5,
          5.5,
          6.5,
          7.5,
          8.5,
          9.5,
          10.5,
          11.5,
          12.5,
          13.5,
          14.5,
          15.5,
          16.5,
          17.5,
          18.5,
          19.5,
          20.5,
          21.5,
          22.5,
          23.5,
          24.5,
          25.5,
          26.5,
          27.5,
          28.5,
          29.5,
          30.5,
          31.5,
          32.5,
          33.5,
          34.5,
          35.5,
          36.5,
          37.5,
          38.5,
          39.5,
          40.5,
          41.5,
          42.5,
          43.5,
          44.5,
          45.5,
          46.5,
          47.5,
          48.5,
          49.5,
          50.5,
          51.5,
          52.5,
          53.5,
          54.5,
          55.5,
          56.5,
          57.5,
          58.5,
          59.5,
          60.5,
          61.5,
          62.5,
          63.5,
          64.5,
          65.5,
          66.5,
          67.5,
          68.5,
          69.5,
          70.5,
          71.5,
          72.5,
          73.5,
          74.5,
          75.5,
          76.5,
          77.5,
          78.5,
          79.5,
          80.5,
          81.5,
          82.5,
          83.5,
          84.5,
          85.5,
          86.5,
          87.5,
          88.5,
          89.5,
          90.5,
          91.5,
          92.5,
          93.5,
          94.5,
          95.5,
          96.5,
          97.5,
          98.5,
          99.5
         ],
         "y": [
          0.1636119954765995,
          0.15680455479680275,
          0.14402760475631127,
          0.1267874697781992,
          0.10696715965608959,
          0.0864904437229575,
          0.06702384191137077,
          0.04977761041453371,
          0.03543090963499014,
          0.024169857646021333,
          0.015801903852805804,
          0.009901209952047579,
          0.00594580492812946,
          0.0034219729784399637,
          0.0018874959448517102,
          0.000997789687241215,
          0.0005055167227592118,
          0.00024545708652993055,
          0.00011422447100639451,
          0.00005094320544054394,
          0.000021774937292670512,
          0.000008920128077911593,
          0.0000035021020696035293,
          0.0000013177409468014022,
          4.751982308122492e-7,
          1.6423401918729251e-7,
          5.4399506460905916e-8,
          1.726912488519823e-8,
          5.25398989378057e-9,
          1.5319749647099087e-9,
          4.281122309062528e-10,
          1.1465873213193417e-10,
          2.943067121344001e-11,
          7.239969407425723e-12,
          1.7069343864931073e-12,
          3.856918447239373e-13,
          8.352329459438061e-14,
          1.733477902693902e-14,
          3.44804190455799e-15,
          6.573100806923105e-16,
          1.200913100856599e-16,
          2.1027924288324047e-17,
          3.528781427005097e-18,
          5.675402217049293e-19,
          8.748066269360098e-20,
          1.29232282628469e-20,
          1.8296730811301665e-21,
          2.482672959946854e-22,
          3.228561487601311e-23,
          4.023853327083286e-24,
          4.806387197577547e-25,
          5.502232004553536e-26,
          6.036741446814562e-27,
          6.3476034052243e-28,
          6.396766907382062e-29,
          6.178098087784685e-30,
          5.718637988347977e-31,
          5.073106071458949e-32,
          4.313192219477265e-33,
          3.5145296826584323e-34,
          2.744600576979686e-35,
          2.0541616515558086e-36,
          1.4734439384213378e-37,
          1.012922336073378e-38,
          6.673631334172626e-40,
          4.2139735716118e-41,
          2.550145357213413e-42,
          1.47904571024379e-43,
          8.221324471146515e-45,
          4.379711602231719e-46,
          2.2361079772203403e-47,
          1.0941668690026662e-48,
          5.131187469308402e-50,
          2.306193458405205e-51,
          9.933839115637097e-53,
          4.100927018048685e-54,
          1.6225216149044e-55,
          6.152370399186748e-57,
          2.2358259327259284e-58,
          7.787123034369835e-60,
          2.5993192081490314e-61,
          8.31544945310633e-63,
          2.549502088547838e-64,
          7.491495939016316e-66,
          2.1097221231310805e-67,
          5.694105348108102e-69,
          1.4728864639976418e-70,
          3.651376165066444e-72,
          8.67535816631658e-74,
          1.975430631303338e-75,
          4.3110165070539266e-77,
          9.016565046942156e-79,
          1.8073659107492177e-80,
          3.472118873150889e-82,
          6.392733743875971e-84,
          1.1280339738736335e-85,
          1.9076613261184916e-87,
          3.091889063879829e-89,
          4.802750912568004e-91,
          7.1498965059113535e-93
         ]
        }
       ],
       "layout": {
        "template": {
         "data": {
          "bar": [
           {
            "error_x": {
             "color": "#2a3f5f"
            },
            "error_y": {
             "color": "#2a3f5f"
            },
            "marker": {
             "line": {
              "color": "#E5ECF6",
              "width": 0.5
             },
             "pattern": {
              "fillmode": "overlay",
              "size": 10,
              "solidity": 0.2
             }
            },
            "type": "bar"
           }
          ],
          "barpolar": [
           {
            "marker": {
             "line": {
              "color": "#E5ECF6",
              "width": 0.5
             },
             "pattern": {
              "fillmode": "overlay",
              "size": 10,
              "solidity": 0.2
             }
            },
            "type": "barpolar"
           }
          ],
          "carpet": [
           {
            "aaxis": {
             "endlinecolor": "#2a3f5f",
             "gridcolor": "white",
             "linecolor": "white",
             "minorgridcolor": "white",
             "startlinecolor": "#2a3f5f"
            },
            "baxis": {
             "endlinecolor": "#2a3f5f",
             "gridcolor": "white",
             "linecolor": "white",
             "minorgridcolor": "white",
             "startlinecolor": "#2a3f5f"
            },
            "type": "carpet"
           }
          ],
          "choropleth": [
           {
            "colorbar": {
             "outlinewidth": 0,
             "ticks": ""
            },
            "type": "choropleth"
           }
          ],
          "contour": [
           {
            "colorbar": {
             "outlinewidth": 0,
             "ticks": ""
            },
            "colorscale": [
             [
              0,
              "#0d0887"
             ],
             [
              0.1111111111111111,
              "#46039f"
             ],
             [
              0.2222222222222222,
              "#7201a8"
             ],
             [
              0.3333333333333333,
              "#9c179e"
             ],
             [
              0.4444444444444444,
              "#bd3786"
             ],
             [
              0.5555555555555556,
              "#d8576b"
             ],
             [
              0.6666666666666666,
              "#ed7953"
             ],
             [
              0.7777777777777778,
              "#fb9f3a"
             ],
             [
              0.8888888888888888,
              "#fdca26"
             ],
             [
              1,
              "#f0f921"
             ]
            ],
            "type": "contour"
           }
          ],
          "contourcarpet": [
           {
            "colorbar": {
             "outlinewidth": 0,
             "ticks": ""
            },
            "type": "contourcarpet"
           }
          ],
          "heatmap": [
           {
            "colorbar": {
             "outlinewidth": 0,
             "ticks": ""
            },
            "colorscale": [
             [
              0,
              "#0d0887"
             ],
             [
              0.1111111111111111,
              "#46039f"
             ],
             [
              0.2222222222222222,
              "#7201a8"
             ],
             [
              0.3333333333333333,
              "#9c179e"
             ],
             [
              0.4444444444444444,
              "#bd3786"
             ],
             [
              0.5555555555555556,
              "#d8576b"
             ],
             [
              0.6666666666666666,
              "#ed7953"
             ],
             [
              0.7777777777777778,
              "#fb9f3a"
             ],
             [
              0.8888888888888888,
              "#fdca26"
             ],
             [
              1,
              "#f0f921"
             ]
            ],
            "type": "heatmap"
           }
          ],
          "heatmapgl": [
           {
            "colorbar": {
             "outlinewidth": 0,
             "ticks": ""
            },
            "colorscale": [
             [
              0,
              "#0d0887"
             ],
             [
              0.1111111111111111,
              "#46039f"
             ],
             [
              0.2222222222222222,
              "#7201a8"
             ],
             [
              0.3333333333333333,
              "#9c179e"
             ],
             [
              0.4444444444444444,
              "#bd3786"
             ],
             [
              0.5555555555555556,
              "#d8576b"
             ],
             [
              0.6666666666666666,
              "#ed7953"
             ],
             [
              0.7777777777777778,
              "#fb9f3a"
             ],
             [
              0.8888888888888888,
              "#fdca26"
             ],
             [
              1,
              "#f0f921"
             ]
            ],
            "type": "heatmapgl"
           }
          ],
          "histogram": [
           {
            "marker": {
             "pattern": {
              "fillmode": "overlay",
              "size": 10,
              "solidity": 0.2
             }
            },
            "type": "histogram"
           }
          ],
          "histogram2d": [
           {
            "colorbar": {
             "outlinewidth": 0,
             "ticks": ""
            },
            "colorscale": [
             [
              0,
              "#0d0887"
             ],
             [
              0.1111111111111111,
              "#46039f"
             ],
             [
              0.2222222222222222,
              "#7201a8"
             ],
             [
              0.3333333333333333,
              "#9c179e"
             ],
             [
              0.4444444444444444,
              "#bd3786"
             ],
             [
              0.5555555555555556,
              "#d8576b"
             ],
             [
              0.6666666666666666,
              "#ed7953"
             ],
             [
              0.7777777777777778,
              "#fb9f3a"
             ],
             [
              0.8888888888888888,
              "#fdca26"
             ],
             [
              1,
              "#f0f921"
             ]
            ],
            "type": "histogram2d"
           }
          ],
          "histogram2dcontour": [
           {
            "colorbar": {
             "outlinewidth": 0,
             "ticks": ""
            },
            "colorscale": [
             [
              0,
              "#0d0887"
             ],
             [
              0.1111111111111111,
              "#46039f"
             ],
             [
              0.2222222222222222,
              "#7201a8"
             ],
             [
              0.3333333333333333,
              "#9c179e"
             ],
             [
              0.4444444444444444,
              "#bd3786"
             ],
             [
              0.5555555555555556,
              "#d8576b"
             ],
             [
              0.6666666666666666,
              "#ed7953"
             ],
             [
              0.7777777777777778,
              "#fb9f3a"
             ],
             [
              0.8888888888888888,
              "#fdca26"
             ],
             [
              1,
              "#f0f921"
             ]
            ],
            "type": "histogram2dcontour"
           }
          ],
          "mesh3d": [
           {
            "colorbar": {
             "outlinewidth": 0,
             "ticks": ""
            },
            "type": "mesh3d"
           }
          ],
          "parcoords": [
           {
            "line": {
             "colorbar": {
              "outlinewidth": 0,
              "ticks": ""
             }
            },
            "type": "parcoords"
           }
          ],
          "pie": [
           {
            "automargin": true,
            "type": "pie"
           }
          ],
          "scatter": [
           {
            "fillpattern": {
             "fillmode": "overlay",
             "size": 10,
             "solidity": 0.2
            },
            "type": "scatter"
           }
          ],
          "scatter3d": [
           {
            "line": {
             "colorbar": {
              "outlinewidth": 0,
              "ticks": ""
             }
            },
            "marker": {
             "colorbar": {
              "outlinewidth": 0,
              "ticks": ""
             }
            },
            "type": "scatter3d"
           }
          ],
          "scattercarpet": [
           {
            "marker": {
             "colorbar": {
              "outlinewidth": 0,
              "ticks": ""
             }
            },
            "type": "scattercarpet"
           }
          ],
          "scattergeo": [
           {
            "marker": {
             "colorbar": {
              "outlinewidth": 0,
              "ticks": ""
             }
            },
            "type": "scattergeo"
           }
          ],
          "scattergl": [
           {
            "marker": {
             "colorbar": {
              "outlinewidth": 0,
              "ticks": ""
             }
            },
            "type": "scattergl"
           }
          ],
          "scattermapbox": [
           {
            "marker": {
             "colorbar": {
              "outlinewidth": 0,
              "ticks": ""
             }
            },
            "type": "scattermapbox"
           }
          ],
          "scatterpolar": [
           {
            "marker": {
             "colorbar": {
              "outlinewidth": 0,
              "ticks": ""
             }
            },
            "type": "scatterpolar"
           }
          ],
          "scatterpolargl": [
           {
            "marker": {
             "colorbar": {
              "outlinewidth": 0,
              "ticks": ""
             }
            },
            "type": "scatterpolargl"
           }
          ],
          "scatterternary": [
           {
            "marker": {
             "colorbar": {
              "outlinewidth": 0,
              "ticks": ""
             }
            },
            "type": "scatterternary"
           }
          ],
          "surface": [
           {
            "colorbar": {
             "outlinewidth": 0,
             "ticks": ""
            },
            "colorscale": [
             [
              0,
              "#0d0887"
             ],
             [
              0.1111111111111111,
              "#46039f"
             ],
             [
              0.2222222222222222,
              "#7201a8"
             ],
             [
              0.3333333333333333,
              "#9c179e"
             ],
             [
              0.4444444444444444,
              "#bd3786"
             ],
             [
              0.5555555555555556,
              "#d8576b"
             ],
             [
              0.6666666666666666,
              "#ed7953"
             ],
             [
              0.7777777777777778,
              "#fb9f3a"
             ],
             [
              0.8888888888888888,
              "#fdca26"
             ],
             [
              1,
              "#f0f921"
             ]
            ],
            "type": "surface"
           }
          ],
          "table": [
           {
            "cells": {
             "fill": {
              "color": "#EBF0F8"
             },
             "line": {
              "color": "white"
             }
            },
            "header": {
             "fill": {
              "color": "#C8D4E3"
             },
             "line": {
              "color": "white"
             }
            },
            "type": "table"
           }
          ]
         },
         "layout": {
          "annotationdefaults": {
           "arrowcolor": "#2a3f5f",
           "arrowhead": 0,
           "arrowwidth": 1
          },
          "autotypenumbers": "strict",
          "coloraxis": {
           "colorbar": {
            "outlinewidth": 0,
            "ticks": ""
           }
          },
          "colorscale": {
           "diverging": [
            [
             0,
             "#8e0152"
            ],
            [
             0.1,
             "#c51b7d"
            ],
            [
             0.2,
             "#de77ae"
            ],
            [
             0.3,
             "#f1b6da"
            ],
            [
             0.4,
             "#fde0ef"
            ],
            [
             0.5,
             "#f7f7f7"
            ],
            [
             0.6,
             "#e6f5d0"
            ],
            [
             0.7,
             "#b8e186"
            ],
            [
             0.8,
             "#7fbc41"
            ],
            [
             0.9,
             "#4d9221"
            ],
            [
             1,
             "#276419"
            ]
           ],
           "sequential": [
            [
             0,
             "#0d0887"
            ],
            [
             0.1111111111111111,
             "#46039f"
            ],
            [
             0.2222222222222222,
             "#7201a8"
            ],
            [
             0.3333333333333333,
             "#9c179e"
            ],
            [
             0.4444444444444444,
             "#bd3786"
            ],
            [
             0.5555555555555556,
             "#d8576b"
            ],
            [
             0.6666666666666666,
             "#ed7953"
            ],
            [
             0.7777777777777778,
             "#fb9f3a"
            ],
            [
             0.8888888888888888,
             "#fdca26"
            ],
            [
             1,
             "#f0f921"
            ]
           ],
           "sequentialminus": [
            [
             0,
             "#0d0887"
            ],
            [
             0.1111111111111111,
             "#46039f"
            ],
            [
             0.2222222222222222,
             "#7201a8"
            ],
            [
             0.3333333333333333,
             "#9c179e"
            ],
            [
             0.4444444444444444,
             "#bd3786"
            ],
            [
             0.5555555555555556,
             "#d8576b"
            ],
            [
             0.6666666666666666,
             "#ed7953"
            ],
            [
             0.7777777777777778,
             "#fb9f3a"
            ],
            [
             0.8888888888888888,
             "#fdca26"
            ],
            [
             1,
             "#f0f921"
            ]
           ]
          },
          "colorway": [
           "#636efa",
           "#EF553B",
           "#00cc96",
           "#ab63fa",
           "#FFA15A",
           "#19d3f3",
           "#FF6692",
           "#B6E880",
           "#FF97FF",
           "#FECB52"
          ],
          "font": {
           "color": "#2a3f5f"
          },
          "geo": {
           "bgcolor": "white",
           "lakecolor": "white",
           "landcolor": "#E5ECF6",
           "showlakes": true,
           "showland": true,
           "subunitcolor": "white"
          },
          "hoverlabel": {
           "align": "left"
          },
          "hovermode": "closest",
          "mapbox": {
           "style": "light"
          },
          "paper_bgcolor": "white",
          "plot_bgcolor": "#E5ECF6",
          "polar": {
           "angularaxis": {
            "gridcolor": "white",
            "linecolor": "white",
            "ticks": ""
           },
           "bgcolor": "#E5ECF6",
           "radialaxis": {
            "gridcolor": "white",
            "linecolor": "white",
            "ticks": ""
           }
          },
          "scene": {
           "xaxis": {
            "backgroundcolor": "#E5ECF6",
            "gridcolor": "white",
            "gridwidth": 2,
            "linecolor": "white",
            "showbackground": true,
            "ticks": "",
            "zerolinecolor": "white"
           },
           "yaxis": {
            "backgroundcolor": "#E5ECF6",
            "gridcolor": "white",
            "gridwidth": 2,
            "linecolor": "white",
            "showbackground": true,
            "ticks": "",
            "zerolinecolor": "white"
           },
           "zaxis": {
            "backgroundcolor": "#E5ECF6",
            "gridcolor": "white",
            "gridwidth": 2,
            "linecolor": "white",
            "showbackground": true,
            "ticks": "",
            "zerolinecolor": "white"
           }
          },
          "shapedefaults": {
           "line": {
            "color": "#2a3f5f"
           }
          },
          "ternary": {
           "aaxis": {
            "gridcolor": "white",
            "linecolor": "white",
            "ticks": ""
           },
           "baxis": {
            "gridcolor": "white",
            "linecolor": "white",
            "ticks": ""
           },
           "bgcolor": "#E5ECF6",
           "caxis": {
            "gridcolor": "white",
            "linecolor": "white",
            "ticks": ""
           }
          },
          "title": {
           "x": 0.05
          },
          "xaxis": {
           "automargin": true,
           "gridcolor": "white",
           "linecolor": "white",
           "ticks": "",
           "title": {
            "standoff": 15
           },
           "zerolinecolor": "white",
           "zerolinewidth": 2
          },
          "yaxis": {
           "automargin": true,
           "gridcolor": "white",
           "linecolor": "white",
           "ticks": "",
           "title": {
            "standoff": 15
           },
           "zerolinecolor": "white",
           "zerolinewidth": 2
          }
         }
        },
        "title": {
         "text": "IA.prior[:, 0] against IA.midbins"
        },
        "xaxis": {
         "title": {
          "text": "IA.midbins (%)"
         }
        },
        "yaxis": {
         "title": {
          "text": "IA.prior[:, 0]"
         }
        }
       }
      }
     },
     "metadata": {},
     "output_type": "display_data"
    }
   ],
   "source": [
    "# Plot the IA.prior[:, 0] against IA.midbins\n",
    "fig = go.Figure()\n",
    "fig.add_trace(go.Scatter(x=IA.midbins, y=IA.prior[:, 0], mode=\"lines\"))\n",
    "fig.update_layout(\n",
    "    title=\"IA.prior[:, 0] against IA.midbins\",\n",
    "    xaxis_title=\"IA.midbins (%)\",\n",
    "    yaxis_title=\"IA.prior[:, 0]\",\n",
    ")\n",
    "fig.show()"
   ]
  },
  {
   "cell_type": "code",
   "execution_count": null,
   "metadata": {},
   "outputs": [],
   "source": [
    "UO2Sat"
   ]
  },
  {
   "cell_type": "code",
   "execution_count": null,
   "metadata": {},
   "outputs": [],
   "source": [
    "res = ih.infer(inf_alg, [HFEV1], [[ecFEV1, 4.3]], True)\n",
    "res.values"
   ]
  },
  {
   "cell_type": "code",
   "execution_count": null,
   "metadata": {},
   "outputs": [],
   "source": [
    "fig = go.Figure()\n",
    "fig.add_trace(go.Bar(y=HFEV1.prior[:, 0], x=HFEV1.bins))\n",
    "# fig.add_trace(go.Histogram(x=np.repeat(bins, p), histnorm='probability', nbinsx=len(HFEV1.bins)))\n",
    "# fig.add_trace(go.Histogram(x=np.repeat(HFEV1.bins, (HFEV1.prior[:,0]*10000).astype(int)), histnorm='probability', xbins=dict(\n",
    "#         start=0,\n",
    "#         end=6,\n",
    "#         size=HFEV1.bin_width\n",
    "#     )))\n",
    "fig.update_layout(bargap=0.01)\n",
    "fig.update_xaxes(range=[0, 6])\n",
    "fig.update_traces(marker_line_width=0)\n",
    "fig.show()"
   ]
  },
  {
   "cell_type": "code",
   "execution_count": null,
   "metadata": {},
   "outputs": [],
   "source": [
    "fig = go.Figure()\n",
    "# 0.04 * 0.001 = 0.00004 - include probabilities 1000 times smaller than the max probability\n",
    "# fig.add_trace(go.Histogram(x=np.repeat(bins, p), histnorm='probability', nbinsx=len(HFEV1.bins)))\n",
    "# fig.add_trace(go.Histogram(x=np.repeat(HFEV1.bins, (HFEV1.prior[:,0]*1000).astype(int)), histnorm='probability', xbins=dict(\n",
    "#         start=0,\n",
    "#         end=6,\n",
    "#         size=HFEV1.bin_width\n",
    "#     )))\n",
    "fig.add_trace(\n",
    "    go.Histogram(\n",
    "        x=HFEV1.bins,\n",
    "        y=HFEV1.prior[:, 0],\n",
    "        histfunc=\"sum\",  # Use 'sum' to represent pre-counted data\n",
    "        xbins=dict(start=0, end=6, size=HFEV1.bin_width),\n",
    "    )\n",
    ")\n",
    "# fig.update_layout(bargap=0.01)\n",
    "fig.update_xaxes(range=[0, 6], title=\"FEV1 (L)\")\n",
    "fig.show()"
   ]
  },
  {
   "cell_type": "code",
   "execution_count": null,
   "metadata": {},
   "outputs": [],
   "source": [
    "HFEV1.bins"
   ]
  },
  {
   "cell_type": "code",
   "execution_count": null,
   "metadata": {},
   "outputs": [],
   "source": [
    "cpt_ecfev1 = mh.calc_pgmpy_cpt_X_x_1_minus_Y(HFEV1, AR, ecFEV1)"
   ]
  },
  {
   "cell_type": "code",
   "execution_count": null,
   "metadata": {},
   "outputs": [],
   "source": []
  }
 ],
 "metadata": {
  "kernelspec": {
   "display_name": "phd",
   "language": "python",
   "name": "python3"
  },
  "language_info": {
   "codemirror_mode": {
    "name": "ipython",
    "version": 3
   },
   "file_extension": ".py",
   "mimetype": "text/x-python",
   "name": "python",
   "nbconvert_exporter": "python",
   "pygments_lexer": "ipython3",
   "version": "3.10.13"
  }
 },
 "nbformat": 4,
 "nbformat_minor": 2
}
