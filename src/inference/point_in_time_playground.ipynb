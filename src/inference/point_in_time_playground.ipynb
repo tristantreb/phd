{
 "cells": [
  {
   "cell_type": "code",
   "execution_count": 1,
   "metadata": {},
   "outputs": [],
   "source": [
    "import src.models.builders as mb\n",
    "import src.inference.helpers as ih\n",
    "import src.modelling_o2.fit_ho2sat_ar as fit_ho2sat_ar\n",
    "\n",
    "import numpy as np"
   ]
  },
  {
   "cell_type": "code",
   "execution_count": 2,
   "metadata": {},
   "outputs": [
    {
     "name": "stdout",
     "output_type": "stream",
     "text": [
      "*** Building FEV1 and O2 point in time model ***\n"
     ]
    },
    {
     "name": "stderr",
     "output_type": "stream",
     "text": [
      "/Users/tristan.trebaol/Desktop/PhD/Code/phd/src/models/helpers.py:310: IntegrationWarning: The maximum number of subdivisions (50) has been achieved.\n",
      "  If increasing the limit yields no improvement it is advised to analyze \n",
      "  the integrand in order to determine the difficulties.  If the position of a \n",
      "  local difficulty can be determined (singularity, discontinuity) one will \n",
      "  probably gain from splitting up the interval and calling the integrator \n",
      "  on the subranges.  Perhaps a special-purpose integrator should be used.\n",
      "  val, abserr = integrate.quad(\n"
     ]
    }
   ],
   "source": [
    "height = 165\n",
    "age = 26\n",
    "sex = \"Male\"\n",
    "hfev1_prior = {\"type\": \"default\", \"height\": height, \"age\": age, \"sex\": sex}\n",
    "ho2sat_prior = {\n",
    "    \"type\": \"default\",\n",
    "    \"height\": height,\n",
    "    \"sex\": sex,\n",
    "}\n",
    "(\n",
    "    model,\n",
    "    inf_alg,\n",
    "    HFEV1,\n",
    "    FEV1,\n",
    "    AR,\n",
    "    # model,\n",
    "    # inf_alg,\n",
    "    # HFEV1,\n",
    "    # FEV1,\n",
    "    # HO2Sat,\n",
    "    # O2SatFFA,\n",
    "    # AR,\n",
    ") = mb.build_FEV1_O2_point_in_time_model(hfev1_prior, ho2sat_prior)"
   ]
  },
  {
   "cell_type": "code",
   "execution_count": 4,
   "metadata": {},
   "outputs": [],
   "source": [
    "res_ar = ih.infer(inf_alg, [AR], [[FEV1, 5.28]])"
   ]
  },
  {
   "cell_type": "code",
   "execution_count": 20,
   "metadata": {},
   "outputs": [
    {
     "data": {
      "text/plain": [
       "0.01684066758499086"
      ]
     },
     "execution_count": 20,
     "metadata": {},
     "output_type": "execute_result"
    }
   ],
   "source": [
    "np.multiply(res_ar.values, (AR.bins)).sum()"
   ]
  },
  {
   "cell_type": "code",
   "execution_count": 18,
   "metadata": {},
   "outputs": [
    {
     "data": {
      "text/plain": [
       "0.005"
      ]
     },
     "execution_count": 18,
     "metadata": {},
     "output_type": "execute_result"
    }
   ],
   "source": [
    "# find argmax\n",
    "idx = np.argmax(res_ar.values)\n",
    "AR.bins[idx] + AR.bin_width / 2"
   ]
  },
  {
   "cell_type": "code",
   "execution_count": 9,
   "metadata": {},
   "outputs": [
    {
     "data": {
      "text/plain": [
       "array([0.03934144, 0.04882917, 0.05986138, 0.07248572, 0.0866955 ,\n",
       "       0.10241863, 0.11950875, 0.1377396 , 0.15680368, 0.17631612])"
      ]
     },
     "execution_count": 9,
     "metadata": {},
     "output_type": "execute_result"
    }
   ],
   "source": [
    "from scipy.stats import norm\n",
    "\n",
    "bins = np.linspace(0, 1, 10)\n",
    "p_arr = norm.pdf(bins, loc=2, scale=1)\n",
    "p_arr / sum(p_arr)"
   ]
  },
  {
   "cell_type": "code",
   "execution_count": 10,
   "metadata": {},
   "outputs": [
    {
     "data": {
      "text/plain": [
       "array([[0.        , 0.1       ],\n",
       "       [0.11111111, 0.21      ],\n",
       "       [0.22222222, 0.32      ],\n",
       "       [0.33333333, 0.43      ],\n",
       "       [0.44444444, 0.54      ],\n",
       "       [0.55555556, 0.66      ],\n",
       "       [0.66666667, 0.77      ],\n",
       "       [0.77777778, 0.88      ],\n",
       "       [0.88888889, 0.99      ],\n",
       "       [1.        , 1.1       ]])"
      ]
     },
     "execution_count": 10,
     "metadata": {},
     "output_type": "execute_result"
    }
   ],
   "source": [
    "np.array(list(map(lambda x: [x, round(x, 2) + round(0.1, 2)], bins)))"
   ]
  },
  {
   "cell_type": "code",
   "execution_count": null,
   "metadata": {},
   "outputs": [],
   "source": []
  }
 ],
 "metadata": {
  "kernelspec": {
   "display_name": "phd",
   "language": "python",
   "name": "python3"
  },
  "language_info": {
   "codemirror_mode": {
    "name": "ipython",
    "version": 3
   },
   "file_extension": ".py",
   "mimetype": "text/x-python",
   "name": "python",
   "nbconvert_exporter": "python",
   "pygments_lexer": "ipython3",
   "version": "3.10.13"
  }
 },
 "nbformat": 4,
 "nbformat_minor": 2
}
