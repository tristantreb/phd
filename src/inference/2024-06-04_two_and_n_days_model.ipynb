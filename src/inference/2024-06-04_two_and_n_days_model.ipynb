{
    "cells": [
        {
            "cell_type": "code",
            "execution_count": 1,
            "metadata": {},
            "outputs": [],
            "source": [
                "import src.data.breathe_data as bd\n",
                "import src.inference.long_inf_slicing as slicing\n",
                "import src.models.builders as mb\n",
                "import src.models.var_builders as var_builders\n",
                "import src.inference.helpers as ih\n",
                "from plotly.subplots import make_subplots\n",
                "import src.data.helpers as dh\n",
                "import src.models.helpers as mh\n",
                "import plotly.graph_objects as go\n",
                "import logging\n",
                "\n",
                "logger = logging.getLogger()\n",
                "logger.setLevel(logging.CRITICAL)\n",
                "from pgmpy.inference.ExactInference import VariableElimination\n",
                "\n",
                "import pandas as pd\n",
                "import numpy as np"
            ]
        },
        {
            "cell_type": "markdown",
            "metadata": {},
            "source": [
                "# Data\n",
                "## Run this to bypass the two next sections (get unblocked fev1 and preprocessd data)"
            ]
        },
        {
            "cell_type": "code",
            "execution_count": 2,
            "metadata": {},
            "outputs": [],
            "source": [
                "# df = bd.load_meas_from_excel(\n",
                "#     \"BR_O2_FEV1_FEF2575_with_idx_and_heighest_obs_per_id_light\"\n",
                "# )\n",
                "# df = bd.load_meas_from_excel(\"BR_O2_FEV1_FEF2575_with_idx_and_heighest_obs_per_id\")\n",
                "# df = bd.load_meas_from_excel(\"BR_O2_FEV1_FEF2575_with_idx\")\n",
                "# df = bd.load_meas_from_excel(\"BR_O2_FEV1_FEF2575_conservative_smoothing_with_idx\")\n",
                "df = bd.load_meas_from_excel(\"BR_O2_FEV1_FEF2575_conservative_smoothing_with_idx_light\")\n",
                "# df = bd.load_meas_from_excel(\"BR_O2_FEV1_FEF2575_with_idx_and_heighest_obs_per_id_light\")"
            ]
        },
        {
            "cell_type": "markdown",
            "metadata": {},
            "source": [
                "## Get max FEV1"
            ]
        },
        {
            "cell_type": "code",
            "execution_count": 2,
            "metadata": {},
            "outputs": [],
            "source": [
                "df = bd.load_meas_from_excel(\"BR_O2_FEV1_FEF2575_PEF_Nan_conservative_smoothing\")"
            ]
        },
        {
            "cell_type": "code",
            "execution_count": 3,
            "metadata": {},
            "outputs": [
                {
                    "name": "stdout",
                    "output_type": "stream",
                    "text": [
                        "(41260, 16)\n",
                        "IDs:  352\n"
                    ]
                },
                {
                    "data": {
                        "text/html": [
                            "<div>\n",
                            "<style scoped>\n",
                            "    .dataframe tbody tr th:only-of-type {\n",
                            "        vertical-align: middle;\n",
                            "    }\n",
                            "\n",
                            "    .dataframe tbody tr th {\n",
                            "        vertical-align: top;\n",
                            "    }\n",
                            "\n",
                            "    .dataframe thead th {\n",
                            "        text-align: right;\n",
                            "    }\n",
                            "</style>\n",
                            "<table border=\"1\" class=\"dataframe\">\n",
                            "  <thead>\n",
                            "    <tr style=\"text-align: right;\">\n",
                            "      <th></th>\n",
                            "      <th>ID</th>\n",
                            "      <th>Date Recorded</th>\n",
                            "      <th>FEV1</th>\n",
                            "      <th>O2 Saturation</th>\n",
                            "      <th>FEF2575</th>\n",
                            "      <th>ecFEV1</th>\n",
                            "      <th>ecFEF2575</th>\n",
                            "      <th>Sex</th>\n",
                            "      <th>Height</th>\n",
                            "      <th>Age</th>\n",
                            "      <th>Predicted FEV1</th>\n",
                            "      <th>Healthy O2 Saturation</th>\n",
                            "      <th>ecFEV1 % Predicted</th>\n",
                            "      <th>FEV1 % Predicted</th>\n",
                            "      <th>O2 Saturation % Healthy</th>\n",
                            "      <th>ecFEF2575%ecFEV1</th>\n",
                            "    </tr>\n",
                            "  </thead>\n",
                            "  <tbody>\n",
                            "    <tr>\n",
                            "      <th>0</th>\n",
                            "      <td>101</td>\n",
                            "      <td>2019-01-25</td>\n",
                            "      <td>1.31</td>\n",
                            "      <td>97.0</td>\n",
                            "      <td>0.54</td>\n",
                            "      <td>1.31</td>\n",
                            "      <td>0.54</td>\n",
                            "      <td>Male</td>\n",
                            "      <td>173.0</td>\n",
                            "      <td>53</td>\n",
                            "      <td>3.610061</td>\n",
                            "      <td>97.150104</td>\n",
                            "      <td>36.287474</td>\n",
                            "      <td>36.287474</td>\n",
                            "      <td>99.845492</td>\n",
                            "      <td>41.221374</td>\n",
                            "    </tr>\n",
                            "    <tr>\n",
                            "      <th>1</th>\n",
                            "      <td>101</td>\n",
                            "      <td>2019-01-26</td>\n",
                            "      <td>1.31</td>\n",
                            "      <td>98.0</td>\n",
                            "      <td>0.57</td>\n",
                            "      <td>1.31</td>\n",
                            "      <td>0.57</td>\n",
                            "      <td>Male</td>\n",
                            "      <td>173.0</td>\n",
                            "      <td>53</td>\n",
                            "      <td>3.610061</td>\n",
                            "      <td>97.150104</td>\n",
                            "      <td>36.287474</td>\n",
                            "      <td>36.287474</td>\n",
                            "      <td>100.874827</td>\n",
                            "      <td>43.511450</td>\n",
                            "    </tr>\n",
                            "    <tr>\n",
                            "      <th>2</th>\n",
                            "      <td>101</td>\n",
                            "      <td>2019-01-27</td>\n",
                            "      <td>1.31</td>\n",
                            "      <td>96.0</td>\n",
                            "      <td>0.67</td>\n",
                            "      <td>1.31</td>\n",
                            "      <td>0.67</td>\n",
                            "      <td>Male</td>\n",
                            "      <td>173.0</td>\n",
                            "      <td>53</td>\n",
                            "      <td>3.610061</td>\n",
                            "      <td>97.150104</td>\n",
                            "      <td>36.287474</td>\n",
                            "      <td>36.287474</td>\n",
                            "      <td>98.816157</td>\n",
                            "      <td>51.145038</td>\n",
                            "    </tr>\n",
                            "    <tr>\n",
                            "      <th>3</th>\n",
                            "      <td>101</td>\n",
                            "      <td>2019-01-28</td>\n",
                            "      <td>1.30</td>\n",
                            "      <td>96.0</td>\n",
                            "      <td>0.69</td>\n",
                            "      <td>1.30</td>\n",
                            "      <td>0.69</td>\n",
                            "      <td>Male</td>\n",
                            "      <td>173.0</td>\n",
                            "      <td>53</td>\n",
                            "      <td>3.610061</td>\n",
                            "      <td>97.150104</td>\n",
                            "      <td>36.010470</td>\n",
                            "      <td>36.010470</td>\n",
                            "      <td>98.816157</td>\n",
                            "      <td>53.076923</td>\n",
                            "    </tr>\n",
                            "    <tr>\n",
                            "      <th>4</th>\n",
                            "      <td>101</td>\n",
                            "      <td>2019-01-29</td>\n",
                            "      <td>1.28</td>\n",
                            "      <td>98.0</td>\n",
                            "      <td>0.60</td>\n",
                            "      <td>1.28</td>\n",
                            "      <td>0.60</td>\n",
                            "      <td>Male</td>\n",
                            "      <td>173.0</td>\n",
                            "      <td>53</td>\n",
                            "      <td>3.610061</td>\n",
                            "      <td>97.150104</td>\n",
                            "      <td>35.456463</td>\n",
                            "      <td>35.456463</td>\n",
                            "      <td>100.874827</td>\n",
                            "      <td>46.875000</td>\n",
                            "    </tr>\n",
                            "  </tbody>\n",
                            "</table>\n",
                            "</div>"
                        ],
                        "text/plain": [
                            "    ID Date Recorded  FEV1  O2 Saturation  FEF2575  ecFEV1  ecFEF2575   Sex  \\\n",
                            "0  101    2019-01-25  1.31           97.0     0.54    1.31       0.54  Male   \n",
                            "1  101    2019-01-26  1.31           98.0     0.57    1.31       0.57  Male   \n",
                            "2  101    2019-01-27  1.31           96.0     0.67    1.31       0.67  Male   \n",
                            "3  101    2019-01-28  1.30           96.0     0.69    1.30       0.69  Male   \n",
                            "4  101    2019-01-29  1.28           98.0     0.60    1.28       0.60  Male   \n",
                            "\n",
                            "   Height  Age  Predicted FEV1  Healthy O2 Saturation  ecFEV1 % Predicted  \\\n",
                            "0   173.0   53        3.610061              97.150104           36.287474   \n",
                            "1   173.0   53        3.610061              97.150104           36.287474   \n",
                            "2   173.0   53        3.610061              97.150104           36.287474   \n",
                            "3   173.0   53        3.610061              97.150104           36.010470   \n",
                            "4   173.0   53        3.610061              97.150104           35.456463   \n",
                            "\n",
                            "   FEV1 % Predicted  O2 Saturation % Healthy  ecFEF2575%ecFEV1  \n",
                            "0         36.287474                99.845492         41.221374  \n",
                            "1         36.287474               100.874827         43.511450  \n",
                            "2         36.287474                98.816157         51.145038  \n",
                            "3         36.010470                98.816157         53.076923  \n",
                            "4         35.456463               100.874827         46.875000  "
                        ]
                    },
                    "execution_count": 3,
                    "metadata": {},
                    "output_type": "execute_result"
                }
            ],
            "source": [
                "df = df.drop(columns=[\"PEF\", \"ecPEF (L/s)\", \"PEF (L/s)\"])\n",
                "df = df.dropna(subset=[\"FEV1\", \"O2 Saturation\", \"FEF2575\"])\n",
                "df[\"ecFEF2575%ecFEV1\"] = df[\"FEF2575\"] / df[\"FEV1\"] * 100\n",
                "print(df.shape)\n",
                "print(\"IDs: \", df[\"ID\"].nunique())\n",
                "df.head()"
            ]
        },
        {
            "cell_type": "code",
            "execution_count": 4,
            "metadata": {},
            "outputs": [],
            "source": [
                "# Add unblocked FEV1\n",
                "def get_unblocked_fev1_for_ID(df):\n",
                "    # Find index where ecFEV1 is max\n",
                "    idx = df[\"ecFEV1\"].idxmax()\n",
                "    df[\"Max ecFEV1\"] = df.loc[idx, \"ecFEV1\"]\n",
                "    df[\"Max ecFEF2575\"] = df.loc[idx, \"ecFEF2575\"]\n",
                "    return df\n",
                "\n",
                "\n",
                "df = (\n",
                "    df.groupby(\"ID\")\n",
                "    .apply(get_unblocked_fev1_for_ID)\n",
                "    .drop(columns=[\"ID\"])\n",
                "    .reset_index()\n",
                "    .drop(columns=[\"level_1\"])\n",
                ")"
            ]
        },
        {
            "cell_type": "code",
            "execution_count": 5,
            "metadata": {},
            "outputs": [
                {
                    "data": {
                        "text/plain": [
                            "Drop from max ecFEF2575\n",
                            "True     373\n",
                            "False     49\n",
                            "Name: count, dtype: int64"
                        ]
                    },
                    "execution_count": 5,
                    "metadata": {},
                    "output_type": "execute_result"
                }
            ],
            "source": [
                "# How often is max ecFEV1 obtained at the same time as max ecFEF2575?\n",
                "# Filter idx where max ecFEV1 = ecFEV1\n",
                "idx_max = df[\"Max ecFEV1\"] == df[\"ecFEV1\"]\n",
                "df_tmp = df[idx_max].copy()\n",
                "df_tmp[\"Drop from max ecFEF2575\"] = np.abs(\n",
                "    df_tmp[\"Max ecFEF2575\"] - df_tmp[\"ecFEF2575\"]\n",
                ")\n",
                "\n",
                "(df_tmp[\"Drop from max ecFEF2575\"] == 0).value_counts()\n",
                "# Most of the time, max ecFEV1 is obtained at the same time as max ecFEF2575"
            ]
        },
        {
            "cell_type": "markdown",
            "metadata": {},
            "source": [
                "## Preprocess breathe Data"
            ]
        },
        {
            "cell_type": "code",
            "execution_count": 5,
            "metadata": {},
            "outputs": [],
            "source": [
                "# Process the data for the usual variable resolution\n",
                "# (HFEV1, ecFEV1, AR, HO2Sat, O2SatFFA, IA, UO2Sat, O2Sat, ecFEF2575prctecFEV1) = (\n",
                "#     var_builders.o2sat_fev1_fef2575_point_in_time_model_shared_healthy_vars(\n",
                "#         160, 40, \"Male\"\n",
                "#     )\n",
                "# )\n",
                "\n",
                "# Process the data for the light model\n",
                "(\n",
                "    HFEV1,\n",
                "    uecFEV1,\n",
                "    ecFEV1,\n",
                "    AR,\n",
                "    HO2Sat,\n",
                "    O2SatFFA,\n",
                "    IA,\n",
                "    UO2Sat,\n",
                "    O2Sat,\n",
                "    ecFEF2575prctecFEV1,\n",
                ") = var_builders.o2sat_fev1_fef2575_point_in_time_model_noise_shared_healthy_vars_light(\n",
                "    160, 40, \"Male\", ecfev1_noise_model_cpt_suffix=\"_std_0.7\"\n",
                ")"
            ]
        },
        {
            "cell_type": "code",
            "execution_count": 6,
            "metadata": {},
            "outputs": [],
            "source": [
                "# Applied get_bin_for_value to all inputs and updated excel file\n",
                "# BEWARE: USING FEV1 INSTEAD OF ECFEV1 HERE, to change\n",
                "df[f\"idx {ecFEV1.name}\"] = df.apply(\n",
                "    lambda row: ecFEV1.get_bin_idx_for_value(row[\"ecFEV1\"]), axis=1\n",
                ")\n",
                "df[f\"idx {ecFEF2575prctecFEV1.name}\"] = df.apply(\n",
                "    lambda row: ecFEF2575prctecFEV1.get_bin_idx_for_value(row[\"ecFEF2575%ecFEV1\"]),\n",
                "    axis=1,\n",
                ")\n",
                "df[f\"idx {O2Sat.name}\"] = df.apply(\n",
                "    lambda row: O2Sat.get_bin_for_value(row[\"O2 Saturation\"]), axis=1\n",
                ")"
            ]
        },
        {
            "cell_type": "code",
            "execution_count": 8,
            "metadata": {},
            "outputs": [],
            "source": [
                "df.to_excel(\n",
                "    dh.get_path_to_main()\n",
                "    + \"/ExcelFiles/BR/BR_O2_FEV1_FEF2575_conservative_smoothing_with_idx_light.xlsx\",\n",
                "    index=False,\n",
                ")"
            ]
        },
        {
            "cell_type": "markdown",
            "metadata": {},
            "source": [
                "# Two days model with approximate inference (slicing)"
            ]
        },
        {
            "cell_type": "markdown",
            "metadata": {},
            "source": [
                "## Plot 3 examples of the two days inference for each ID"
            ]
        },
        {
            "cell_type": "markdown",
            "metadata": {},
            "source": [
                "### Detailed plot"
            ]
        },
        {
            "cell_type": "code",
            "execution_count": 8,
            "metadata": {},
            "outputs": [],
            "source": [
                "# Plot function\n",
                "def plot_one_and_two_days_models_res(\n",
                "    df_query_res_one_day,\n",
                "    df_query_res_one_day_fef,\n",
                "    df_query_res_two_days,\n",
                "    df_query_res_two_days_fef,\n",
                "    HFEV1,\n",
                "    HO2Sat,\n",
                "    AR,\n",
                "    IA,\n",
                "    df,\n",
                "    save=False,\n",
                "):\n",
                "\n",
                "    lay_row = [{}, {}, {}, {}]\n",
                "    lay_full_row = [{\"colspan\": 4}, None, None, None]\n",
                "    # 4 rows: prior, posterior for healthy var, then ar day 1, ar day 3\n",
                "    fig = make_subplots(\n",
                "        rows=8,\n",
                "        cols=4,\n",
                "        specs=[\n",
                "            lay_row,\n",
                "            lay_row,\n",
                "            lay_row,\n",
                "            lay_row,\n",
                "            lay_row,\n",
                "            lay_row,\n",
                "            lay_full_row,\n",
                "            lay_full_row,\n",
                "        ],\n",
                "    )\n",
                "\n",
                "    # Day\n",
                "    title_day = f\"ecFEV1={df_query_res_two_days_fef.loc[0, 'ecFEV1']:.2g}, O2 Saturation={df_query_res_two_days_fef.loc[0, 'O2 Saturation']:.2g}%, ecFEF2575%ecFEV1={df_query_res_two_days_fef.loc[0, 'ecFEF2575%ecFEV1']:.2f}%\"\n",
                "    # Max\n",
                "    title_max_FEV1_day = f\"ecFEV1={df_query_res_two_days_fef.loc[1, 'ecFEV1']:.2g}, O2 Saturation={df_query_res_two_days_fef.loc[1, 'O2 Saturation']:.2g}%, ecFEF2575%ecFEV1={df_query_res_two_days_fef.loc[1, 'ecFEF2575%ecFEV1']:.2f}%\"\n",
                "\n",
                "    title_prefix = f\"Comparing one vs two days model ID={df_query_res_two_days_fef.loc[0, 'ID']}, {df_query_res_two_days_fef.loc[0, 'Age']}y, {df_query_res_two_days_fef.loc[0, 'Height']}cm, {df_query_res_two_days_fef.loc[0, 'Sex']}\"\n",
                "\n",
                "    # One day\n",
                "    hfev1_one_day = df_query_res_one_day.loc[0, HFEV1.name]\n",
                "    ho2sat_one_day = df_query_res_one_day.loc[0, HO2Sat.name]\n",
                "    ar_one_day = df_query_res_one_day.loc[0, AR.name]\n",
                "    ia_one_day = df_query_res_one_day.loc[0, IA.name]\n",
                "\n",
                "    # One day fef\n",
                "    hfev1_one_day_fef = df_query_res_one_day_fef.loc[0, HFEV1.name]\n",
                "    ho2sat_one_day_fef = df_query_res_one_day_fef.loc[0, HO2Sat.name]\n",
                "    ar_one_day_fef = df_query_res_one_day_fef.loc[0, AR.name]\n",
                "    ia_one_day_fef = df_query_res_one_day_fef.loc[0, IA.name]\n",
                "\n",
                "    # Two days\n",
                "    ar_day_1 = df_query_res_two_days.loc[0, AR.name]\n",
                "    ar_max = df_query_res_two_days.loc[1, AR.name]\n",
                "    ia_day_1 = df_query_res_two_days.loc[0, IA.name]\n",
                "    ia_max = df_query_res_two_days.loc[1, IA.name]\n",
                "    hfev1_two_days = df_query_res_two_days.loc[0, HFEV1.name]\n",
                "    ho2sat_two_days = df_query_res_two_days.loc[0, HO2Sat.name]\n",
                "\n",
                "    # Two days fef\n",
                "    ar_day_1_fef = df_query_res_two_days_fef.loc[0, AR.name]\n",
                "    ar_max_fef = df_query_res_two_days_fef.loc[1, AR.name]\n",
                "    ia_day_1_fef = df_query_res_two_days_fef.loc[0, IA.name]\n",
                "    ia_max_fef = df_query_res_two_days_fef.loc[1, IA.name]\n",
                "    hfev1_two_days_fef = df_query_res_two_days_fef.loc[0, HFEV1.name]\n",
                "    ho2sat_two_days_fef = df_query_res_two_days_fef.loc[0, HO2Sat.name]\n",
                "\n",
                "    # Priors\n",
                "    ih.plot_histogram(\n",
                "        fig, HFEV1, HFEV1.cpt, HFEV1.a, HFEV1.b, 1, 1, HFEV1.name + \" prior\", \"#009e73\"\n",
                "    )\n",
                "    ih.plot_histogram(\n",
                "        fig,\n",
                "        HO2Sat,\n",
                "        HO2Sat.cpt,\n",
                "        HO2Sat.a,\n",
                "        HO2Sat.b,\n",
                "        1,\n",
                "        2,\n",
                "        HO2Sat.name + \" prior\",\n",
                "        \"#0072b2\",\n",
                "    )\n",
                "    # Posteriors\n",
                "    # One days HFEV1\n",
                "    ih.plot_histogram(\n",
                "        fig,\n",
                "        HFEV1,\n",
                "        hfev1_one_day,\n",
                "        HFEV1.a,\n",
                "        HFEV1.b,\n",
                "        2,\n",
                "        1,\n",
                "        \"HFEV1\" + \" one day\",\n",
                "        \"#009e73\",\n",
                "    )\n",
                "    ih.plot_histogram(\n",
                "        fig,\n",
                "        HFEV1,\n",
                "        hfev1_one_day_fef,\n",
                "        HFEV1.a,\n",
                "        HFEV1.b,\n",
                "        2,\n",
                "        3,\n",
                "        \"HFEV1\" + \" one day with FEF25-75\",\n",
                "        \"#009e73\",\n",
                "    )\n",
                "    # One days HO2Sat\n",
                "    ih.plot_histogram(\n",
                "        fig,\n",
                "        HO2Sat,\n",
                "        ho2sat_one_day,\n",
                "        HO2Sat.a,\n",
                "        HO2Sat.b,\n",
                "        2,\n",
                "        2,\n",
                "        \"HO2Sat\" + \" one day\",\n",
                "        \"#0072b2\",\n",
                "    )\n",
                "    ih.plot_histogram(\n",
                "        fig,\n",
                "        HO2Sat,\n",
                "        ho2sat_one_day_fef,\n",
                "        HO2Sat.a,\n",
                "        HO2Sat.b,\n",
                "        2,\n",
                "        4,\n",
                "        \"HO2Sat\" + \" one day with FEF25-75\",\n",
                "        \"#0072b2\",\n",
                "    )\n",
                "    # One days AR\n",
                "    ih.plot_histogram(\n",
                "        fig,\n",
                "        AR,\n",
                "        ar_one_day,\n",
                "        AR.a,\n",
                "        AR.b,\n",
                "        3,\n",
                "        1,\n",
                "        \"AR\" + \" one day\",\n",
                "        colour=\"#d55e00\",\n",
                "    )\n",
                "    ih.plot_histogram(\n",
                "        fig,\n",
                "        AR,\n",
                "        ar_one_day_fef,\n",
                "        AR.a,\n",
                "        AR.b,\n",
                "        3,\n",
                "        3,\n",
                "        \"AR\" + \" one day with FEF25-75\",\n",
                "        colour=\"#d55e00\",\n",
                "    )\n",
                "    # One days IA\n",
                "    ih.plot_histogram(\n",
                "        fig,\n",
                "        IA,\n",
                "        ia_one_day,\n",
                "        IA.a,\n",
                "        IA.b,\n",
                "        3,\n",
                "        2,\n",
                "        IA.name + \" one day\",\n",
                "        \"#cc79a7\",\n",
                "    )\n",
                "    ih.plot_histogram(\n",
                "        fig,\n",
                "        IA,\n",
                "        ia_one_day_fef,\n",
                "        IA.a,\n",
                "        IA.b,\n",
                "        3,\n",
                "        4,\n",
                "        IA.name + \" one day with FEF25-75\",\n",
                "        \"#cc79a7\",\n",
                "    )\n",
                "    # Two days HFEV1\n",
                "    ih.plot_histogram(\n",
                "        fig,\n",
                "        HFEV1,\n",
                "        hfev1_two_days,\n",
                "        HFEV1.a,\n",
                "        HFEV1.b,\n",
                "        4,\n",
                "        1,\n",
                "        \"HFEV1\" + \" shared posterior\",\n",
                "        \"#009e73\",\n",
                "    )\n",
                "    ih.plot_histogram(\n",
                "        fig,\n",
                "        HFEV1,\n",
                "        hfev1_two_days_fef,\n",
                "        HFEV1.a,\n",
                "        HFEV1.b,\n",
                "        4,\n",
                "        3,\n",
                "        \"HFEV1\" + \" shared posterior with FEF25-75\",\n",
                "        \"#009e73\",\n",
                "    )\n",
                "    # Two days HO2Sat\n",
                "    ih.plot_histogram(\n",
                "        fig,\n",
                "        HO2Sat,\n",
                "        ho2sat_two_days,\n",
                "        HO2Sat.a,\n",
                "        HO2Sat.b,\n",
                "        4,\n",
                "        2,\n",
                "        \"HO2Sat\" + \" shared posterior\",\n",
                "        \"#0072b2\",\n",
                "    )\n",
                "    ih.plot_histogram(\n",
                "        fig,\n",
                "        HO2Sat,\n",
                "        ho2sat_two_days_fef,\n",
                "        HO2Sat.a,\n",
                "        HO2Sat.b,\n",
                "        4,\n",
                "        4,\n",
                "        \"HO2Sat\" + \" shared posterior with FEF25-75\",\n",
                "        \"#0072b2\",\n",
                "    )\n",
                "    # Two days AR\n",
                "    ih.plot_histogram(\n",
                "        fig,\n",
                "        AR,\n",
                "        ar_day_1,\n",
                "        AR.a,\n",
                "        AR.b,\n",
                "        5,\n",
                "        1,\n",
                "        \"AR\" + \" day 1\",\n",
                "        colour=\"#d55e00\",\n",
                "    )\n",
                "    ih.plot_histogram(\n",
                "        fig,\n",
                "        AR,\n",
                "        ar_max,\n",
                "        AR.a,\n",
                "        AR.b,\n",
                "        6,\n",
                "        1,\n",
                "        \"AR\" + \" max\",\n",
                "        colour=\"#d55e00\",\n",
                "    )\n",
                "    ih.plot_histogram(\n",
                "        fig,\n",
                "        AR,\n",
                "        ar_day_1_fef,\n",
                "        AR.a,\n",
                "        AR.b,\n",
                "        5,\n",
                "        3,\n",
                "        \"AR\" + \" day 1 with FEF25-75\",\n",
                "        colour=\"#d55e00\",\n",
                "    )\n",
                "    ih.plot_histogram(\n",
                "        fig,\n",
                "        AR,\n",
                "        ar_max_fef,\n",
                "        AR.a,\n",
                "        AR.b,\n",
                "        6,\n",
                "        3,\n",
                "        \"AR\" + \" max with FEF25-75\",\n",
                "        colour=\"#d55e00\",\n",
                "    )\n",
                "    # Two days IA\n",
                "    ih.plot_histogram(\n",
                "        fig,\n",
                "        IA,\n",
                "        ia_day_1,\n",
                "        IA.a,\n",
                "        IA.b,\n",
                "        5,\n",
                "        2,\n",
                "        \"IA\" + \" day 1\",\n",
                "        \"#cc79a7\",\n",
                "    )\n",
                "    ih.plot_histogram(\n",
                "        fig,\n",
                "        IA,\n",
                "        ia_max,\n",
                "        IA.a,\n",
                "        IA.b,\n",
                "        6,\n",
                "        2,\n",
                "        \"IA\" + \" max\",\n",
                "        \"#cc79a7\",\n",
                "    )\n",
                "    ih.plot_histogram(\n",
                "        fig,\n",
                "        IA,\n",
                "        ia_day_1_fef,\n",
                "        IA.a,\n",
                "        IA.b,\n",
                "        5,\n",
                "        4,\n",
                "        \"IA\" + \" day 1 with FEF25-75\",\n",
                "        \"#cc79a7\",\n",
                "    )\n",
                "    ih.plot_histogram(\n",
                "        fig,\n",
                "        IA,\n",
                "        ia_max_fef,\n",
                "        IA.a,\n",
                "        IA.b,\n",
                "        6,\n",
                "        4,\n",
                "        \"IA\" + \" max with FEF25-75\",\n",
                "        \"#cc79a7\",\n",
                "    )\n",
                "    # Plot ecFEV1 profile\n",
                "    fig.add_trace(\n",
                "        go.Scatter(y=df[\"ecFEV1\"], x=df[\"Date Recorded\"], mode=\"markers\"),\n",
                "        row=7,\n",
                "        col=1,\n",
                "    )\n",
                "    fig.update_yaxes(\n",
                "        # nticks=20,\n",
                "        title=\"ecFEV1 (L)\",\n",
                "        row=7,\n",
                "        col=1,\n",
                "    )\n",
                "    fig.add_trace(\n",
                "        go.Scatter(y=df[\"O2 Saturation\"], x=df[\"Date Recorded\"], mode=\"markers\"),\n",
                "        row=8,\n",
                "        col=1,\n",
                "    )\n",
                "    fig.update_yaxes(\n",
                "        # nticks=20,\n",
                "        title=\"O2 saturation (%)\",\n",
                "        row=8,\n",
                "        col=1,\n",
                "    )\n",
                "    # Add drug therapy\n",
                "    drug_df = bd.load_drug_therapies()\n",
                "    drug_df = drug_df[drug_df[\"DrugTherapyType\"] != \"Unknown\"]\n",
                "    drug_df_for_ID = drug_df[drug_df.ID == df_query_res_one_day.loc[0, \"ID\"]]\n",
                "\n",
                "    def drug_therapy_color_dict():\n",
                "        return {\n",
                "            \"Trikafta\": \"green\",\n",
                "            \"Ivacaftor\": \"purple\",\n",
                "            \"Symkevi\": \"purple\",\n",
                "            \"Orkambi\": \"purple\",\n",
                "        }\n",
                "\n",
                "    for _, row in drug_df_for_ID.iterrows():\n",
                "        start_date = row.DrugTherapyStartDate\n",
                "        stop_date = row.DrugTherapyStopDate\n",
                "        if pd.isnull(stop_date):\n",
                "            stop_date = df[\"Date Recorded\"].max()\n",
                "        fig.add_vrect(\n",
                "            x0=start_date,\n",
                "            # y0=0,\n",
                "            x1=stop_date,\n",
                "            # y1=100,\n",
                "            fillcolor=drug_therapy_color_dict()[row.DrugTherapyType],\n",
                "            opacity=0.08,\n",
                "            layer=\"below\",\n",
                "            line_width=0,\n",
                "            name=row.DrugTherapyType,\n",
                "            row=7,\n",
                "            col=1,\n",
                "        )\n",
                "        fig.add_vrect(\n",
                "            x0=start_date,\n",
                "            # y0=0,\n",
                "            x1=stop_date,\n",
                "            # y1=100,\n",
                "            fillcolor=drug_therapy_color_dict()[row.DrugTherapyType],\n",
                "            opacity=0.08,\n",
                "            layer=\"below\",\n",
                "            line_width=0,\n",
                "            name=row.DrugTherapyType,\n",
                "            row=8,\n",
                "            col=1,\n",
                "        )\n",
                "        # Add annotation\n",
                "        fig.add_annotation(\n",
                "            x=start_date,\n",
                "            y=df[\"ecFEV1\"].max() * 1.02,\n",
                "            # xref=\"x\",\n",
                "            # yref=\"paper\",\n",
                "            text=row.DrugTherapyType,\n",
                "            showarrow=False,\n",
                "            font=dict(size=8),\n",
                "            row=7,\n",
                "            col=1,\n",
                "        )\n",
                "\n",
                "    # Change marker size for plot row 7\n",
                "    fig.update_traces(marker=dict(size=3), selector=dict(mode=\"markers\"))\n",
                "\n",
                "    fig.update_xaxes(title_standoff=5)\n",
                "\n",
                "    fig.update_layout(\n",
                "        title=f\"{title_prefix}<br><br>Current day:   {title_day}<br>Max FEV1 day:{title_max_FEV1_day}\",\n",
                "        width=1000,\n",
                "        height=1000,\n",
                "        font=dict(size=8),\n",
                "        showlegend=False,\n",
                "    )\n",
                "\n",
                "    path = f\"{dh.get_path_to_main()}PlotsBreathe/Two days model/{title_prefix}, {title_day}.pdf\"\n",
                "    if save:\n",
                "        fig.write_image(path)\n",
                "    else:\n",
                "        fig.show()\n",
                "\n",
                "    return -1"
            ]
        },
        {
            "cell_type": "markdown",
            "metadata": {},
            "source": [
                "### AR, HFEV1 specific plots"
            ]
        },
        {
            "cell_type": "code",
            "execution_count": 22,
            "metadata": {},
            "outputs": [],
            "source": [
                "# Plot function\n",
                "def plot_one_and_two_days_models_res(\n",
                "    df_query_res_one_day,\n",
                "    df_query_res_one_day_fef,\n",
                "    df_query_res_two_days,\n",
                "    df_query_res_two_days_fef,\n",
                "    HFEV1,\n",
                "    HO2Sat,\n",
                "    AR,\n",
                "    IA,\n",
                "    df,\n",
                "    save=False,\n",
                "    plot_type_title=\"\",\n",
                "):\n",
                "\n",
                "    fig = make_subplots(rows=2, cols=4, vertical_spacing=0.25)\n",
                "\n",
                "    # Day\n",
                "    title_day = f\"ecFEV1={df_query_res_two_days_fef.loc[0, 'ecFEV1']:.2g}, O2 Saturation={df_query_res_two_days_fef.loc[0, 'O2 Saturation']:.2g}%, ecFEF2575%ecFEV1={df_query_res_two_days_fef.loc[0, 'ecFEF2575%ecFEV1']:.2f}%\"\n",
                "    # Max\n",
                "    title_max_FEV1_day = f\"ecFEV1={df_query_res_two_days_fef.loc[1, 'ecFEV1']:.2g}, O2 Saturation={df_query_res_two_days_fef.loc[1, 'O2 Saturation']:.2g}%, ecFEF2575%ecFEV1={df_query_res_two_days_fef.loc[1, 'ecFEF2575%ecFEV1']:.2f}%\"\n",
                "\n",
                "    title_prefix = f\"Comparing one vs two days model ID={df_query_res_two_days_fef.loc[0, 'ID']}, {df_query_res_two_days_fef.loc[0, 'Age']}y, {df_query_res_two_days_fef.loc[0, 'Height']}cm, {df_query_res_two_days_fef.loc[0, 'Sex']}\"\n",
                "\n",
                "    # One day\n",
                "    hfev1_one_day = df_query_res_one_day.loc[0, HFEV1.name]\n",
                "    ho2sat_one_day = df_query_res_one_day.loc[0, HO2Sat.name]\n",
                "    ar_one_day = df_query_res_one_day.loc[0, AR.name]\n",
                "    ia_one_day = df_query_res_one_day.loc[0, IA.name]\n",
                "\n",
                "    # One day fef\n",
                "    hfev1_one_day_fef = df_query_res_one_day_fef.loc[0, HFEV1.name]\n",
                "    ho2sat_one_day_fef = df_query_res_one_day_fef.loc[0, HO2Sat.name]\n",
                "    ar_one_day_fef = df_query_res_one_day_fef.loc[0, AR.name]\n",
                "    ia_one_day_fef = df_query_res_one_day_fef.loc[0, IA.name]\n",
                "\n",
                "    # Two days\n",
                "    ar_day_1 = df_query_res_two_days.loc[0, AR.name]\n",
                "    ar_max = df_query_res_two_days.loc[1, AR.name]\n",
                "    ia_day_1 = df_query_res_two_days.loc[0, IA.name]\n",
                "    ia_max = df_query_res_two_days.loc[1, IA.name]\n",
                "    hfev1_two_days = df_query_res_two_days.loc[0, HFEV1.name]\n",
                "    ho2sat_two_days = df_query_res_two_days.loc[0, HO2Sat.name]\n",
                "\n",
                "    # Two days fef\n",
                "    ar_day_1_fef = df_query_res_two_days_fef.loc[0, AR.name]\n",
                "    ar_max_fef = df_query_res_two_days_fef.loc[1, AR.name]\n",
                "    ia_day_1_fef = df_query_res_two_days_fef.loc[0, IA.name]\n",
                "    ia_max_fef = df_query_res_two_days_fef.loc[1, IA.name]\n",
                "    hfev1_two_days_fef = df_query_res_two_days_fef.loc[0, HFEV1.name]\n",
                "    ho2sat_two_days_fef = df_query_res_two_days_fef.loc[0, HO2Sat.name]\n",
                "\n",
                "    # Priors\n",
                "    ih.plot_histogram(\n",
                "        fig, HFEV1, HFEV1.cpt, HFEV1.a, HFEV1.b, 1, 1, HFEV1.name + \" prior\", \"#009e73\"\n",
                "    )\n",
                "    ih.plot_histogram(\n",
                "        fig,\n",
                "        AR,\n",
                "        AR.cpt,\n",
                "        AR.a,\n",
                "        AR.b,\n",
                "        2,\n",
                "        1,\n",
                "        AR.name + \" prior\",\n",
                "        \"#d55e00\",\n",
                "        clean_ticks=True,\n",
                "    )\n",
                "    # One days HFEV1\n",
                "    ih.plot_histogram(\n",
                "        fig,\n",
                "        HFEV1,\n",
                "        hfev1_one_day,\n",
                "        HFEV1.a,\n",
                "        HFEV1.b,\n",
                "        1,\n",
                "        2,\n",
                "        \"HFEV1\",\n",
                "        \"#009e73\",\n",
                "    )\n",
                "    ih.plot_histogram(\n",
                "        fig,\n",
                "        HFEV1,\n",
                "        hfev1_one_day_fef,\n",
                "        HFEV1.a,\n",
                "        HFEV1.b,\n",
                "        1,\n",
                "        3,\n",
                "        \"HFEV1\" + \" with FEF25-75\",\n",
                "        \"#009e73\",\n",
                "    )\n",
                "    # One days AR\n",
                "    ih.plot_histogram(\n",
                "        fig, AR, ar_one_day, AR.a, AR.b, 2, 2, \"AR\", colour=\"#d55e00\", clean_ticks=True\n",
                "    )\n",
                "    ih.plot_histogram(\n",
                "        fig,\n",
                "        AR,\n",
                "        ar_one_day_fef,\n",
                "        AR.a,\n",
                "        AR.b,\n",
                "        2,\n",
                "        3,\n",
                "        \"AR\" + \" with FEF25-75\",\n",
                "        colour=\"#d55e00\",\n",
                "        clean_ticks=True,\n",
                "    )\n",
                "    # Two days HFEV1\n",
                "    ih.plot_histogram(\n",
                "        fig,\n",
                "        HFEV1,\n",
                "        hfev1_two_days_fef,\n",
                "        HFEV1.a,\n",
                "        HFEV1.b,\n",
                "        1,\n",
                "        4,\n",
                "        \"HFEV1\" + \" with FEF25-75\",\n",
                "        \"#009e73\",\n",
                "    )\n",
                "    ih.plot_histogram(\n",
                "        fig,\n",
                "        AR,\n",
                "        ar_day_1_fef,\n",
                "        AR.a,\n",
                "        AR.b,\n",
                "        2,\n",
                "        4,\n",
                "        \"AR\" + \" day 1 with FEF25-75\",\n",
                "        colour=\"#d55e00\",\n",
                "        clean_ticks=True,\n",
                "    )\n",
                "\n",
                "    # Change marker size for plot row 7\n",
                "    fig.update_traces(marker=dict(size=3), selector=dict(mode=\"markers\"))\n",
                "\n",
                "    fig.update_xaxes(title_standoff=5)\n",
                "\n",
                "    fig.update_layout(\n",
                "        title=f\"{title_prefix}<br><br>Current day:   {title_day}<br>Max FEV1 day:{title_max_FEV1_day}\",\n",
                "        width=800,\n",
                "        height=350,\n",
                "        font=dict(size=8),\n",
                "        showlegend=False,\n",
                "        xaxis=dict(showgrid=False),\n",
                "        yaxis=dict(showgrid=False),\n",
                "    )\n",
                "\n",
                "    path = f\"{dh.get_path_to_main()}PlotsBreathe/Two days model/{plot_type_title} - {title_prefix}, {title_day}.pdf\"\n",
                "    if save:\n",
                "        fig.write_image(path)\n",
                "    else:\n",
                "        fig.show()\n",
                "\n",
                "    return -1"
            ]
        },
        {
            "cell_type": "markdown",
            "metadata": {},
            "source": [
                "### Run plotting fn"
            ]
        },
        {
            "cell_type": "code",
            "execution_count": 24,
            "metadata": {},
            "outputs": [
                {
                    "name": "stdout",
                    "output_type": "stream",
                    "text": [
                        "\n",
                        "ID: 101\n",
                        "#datapoints: 1680\n",
                        "\n",
                        "ID: 117\n",
                        "#datapoints: 270\n",
                        "\n",
                        "ID: 131\n",
                        "#datapoints: 29\n",
                        "\n",
                        "ID: 132\n",
                        "#datapoints: 27\n",
                        "\n",
                        "ID: 134\n",
                        "#datapoints: 97\n",
                        "\n",
                        "ID: 139\n",
                        "#datapoints: 276\n",
                        "\n",
                        "ID: 146\n",
                        "#datapoints: 278\n",
                        "\n",
                        "ID: 177\n",
                        "#datapoints: 251\n",
                        "\n",
                        "ID: 180\n",
                        "#datapoints: 262\n",
                        "\n",
                        "ID: 191\n",
                        "#datapoints: 213\n",
                        "\n",
                        "ID: 202\n",
                        "#datapoints: 130\n",
                        "\n",
                        "ID: 253\n",
                        "#datapoints: 60\n",
                        "\n",
                        "ID: 527\n",
                        "#datapoints: 5\n"
                    ]
                }
            ],
            "source": [
                "# Code to plot 3 examples of the two days inference for each ID\n",
                "def infer_and_plot_for_id(df_for_ID, debug, diff_threshold=1e-8):\n",
                "    df_for_ID = df_for_ID.reset_index(drop=True)\n",
                "    print(f\"\\nID: {df_for_ID.ID.iloc[0]}\")\n",
                "    print(f\"#datapoints: {len(df_for_ID)}\")\n",
                "\n",
                "    height = df_for_ID.Height.iloc[0]\n",
                "    age = df_for_ID.Age.iloc[0]\n",
                "    sex = df_for_ID.Sex.iloc[0]\n",
                "    (\n",
                "        _,\n",
                "        inf_alg,\n",
                "        HFEV1,\n",
                "        ecFEV1,\n",
                "        AR,\n",
                "        HO2Sat,\n",
                "        O2SatFFA,\n",
                "        IA,\n",
                "        UO2Sat,\n",
                "        O2Sat,\n",
                "        ecFEF2575prctecFEV1,\n",
                "    ) = mb.o2sat_fev1_fef2575_point_in_time_model_shared_healthy_vars(height, age, sex)\n",
                "    # (\n",
                "    #     _,\n",
                "    #     inf_alg,\n",
                "    #     HFEV1,\n",
                "    #     uecFEV1,\n",
                "    #     ecFEV1,\n",
                "    #     AR,\n",
                "    #     HO2Sat,\n",
                "    #     O2SatFFA,\n",
                "    #     IA,\n",
                "    #     UO2Sat,\n",
                "    #     O2Sat,\n",
                "    #     ecFEF2575prctecFEV1,\n",
                "    # ) = mb.o2sat_fev1_fef2575_point_in_time_model_noise_shared_healthy_vars(\n",
                "    #     height, age, sex\n",
                "    # )\n",
                "\n",
                "    # Set variables parametrisation\n",
                "    key_hfev1 = f\"['{ecFEV1.name}', '{HFEV1.name}', '{AR.name}'] -> {HFEV1.name}\"\n",
                "    # key_hfev1 = f\"['{uecFEV1.name}', '{HFEV1.name}', '{AR.name}'] -> {HFEV1.name}\"\n",
                "    key_ho2sat = f\"['{O2SatFFA.name}', '{HO2Sat.name}', '{AR.name}'] -> {HO2Sat.name}\"\n",
                "    HFEV1.set_factor_node_key(key_hfev1)\n",
                "    HO2Sat.set_factor_node_key(key_ho2sat)\n",
                "\n",
                "    vars = [AR, IA]\n",
                "    shared_vars = [HFEV1, HO2Sat]\n",
                "    obs_vars = [ecFEV1.name, O2Sat.name]\n",
                "    obs_vars_fef = [ecFEV1.name, O2Sat.name, ecFEF2575prctecFEV1.name]\n",
                "\n",
                "    # Find the max FEV1 values\n",
                "    # Given an ID, get the data which maximises ecFEV1, then ecFEF2575, then O2 Saturation\n",
                "    idx_max_FEV1 = df_for_ID.sort_values(\n",
                "        by=[\"ecFEV1\", \"ecFEF2575\", \"O2 Saturation\"], ascending=False\n",
                "    ).index[0]\n",
                "\n",
                "    # Randomly select 4 entries for this ID\n",
                "    # Select 1 entry's index in the bottom 10 percentile of ecFEV1\n",
                "    bottom_10 = (df_for_ID[\"ecFEV1\"] == df_for_ID[\"ecFEV1\"].quantile(0.1)).argmax()\n",
                "    # Select 1 entry's index in the 50% percentile\n",
                "    # median = (df_for_ID[\"ecFEV1\"] == df_for_ID[\"ecFEV1\"].quantile(0.5)).argmax()\n",
                "    # Select 1 entry's index in the top 10% percentile\n",
                "    # top_10 = (df_for_ID[\"ecFEV1\"] == df_for_ID[\"ecFEV1\"].quantile(0.2)).argmax()\n",
                "    # idx_list = [bottom_10, median, top_10]\n",
                "    idx_list = [bottom_10]\n",
                "    # idx_list = list(np.random.choice(df_for_ID.index, 4))\n",
                "\n",
                "    for i, _ in df_for_ID.iloc[idx_list].iterrows():\n",
                "        df_one_day = df_for_ID.iloc[[i]]\n",
                "        df_two_days = df_for_ID.iloc[[i, idx_max_FEV1]]\n",
                "\n",
                "        df_query_res_one_day, _, _ = slicing.query_forwardly_across_days(\n",
                "            df_one_day, inf_alg, shared_vars, vars, obs_vars, diff_threshold, debug\n",
                "        )\n",
                "        df_query_res_one_day_fef, _, _ = slicing.query_forwardly_across_days(\n",
                "            df_one_day, inf_alg, shared_vars, vars, obs_vars_fef, diff_threshold, debug\n",
                "        )\n",
                "        df_query_res_two_days, _, _ = slicing.query_forwardly_across_days(\n",
                "            df_two_days, inf_alg, shared_vars, vars, obs_vars, diff_threshold, debug\n",
                "        )\n",
                "        df_query_res_two_days_fef, _, _ = slicing.query_forwardly_across_days(\n",
                "            df_two_days, inf_alg, shared_vars, vars, obs_vars_fef, diff_threshold, debug\n",
                "        )\n",
                "        plot_one_and_two_days_models_res(\n",
                "            df_query_res_one_day,\n",
                "            df_query_res_one_day_fef,\n",
                "            df_query_res_two_days,\n",
                "            df_query_res_two_days_fef,\n",
                "            HFEV1,\n",
                "            HO2Sat,\n",
                "            AR,\n",
                "            IA,\n",
                "            df_for_ID,\n",
                "            save=True,\n",
                "            plot_type_title=\"Summary\",\n",
                "        )\n",
                "\n",
                "    return (\n",
                "        df_query_res_one_day,\n",
                "        df_query_res_one_day_fef,\n",
                "        df_query_res_two_days,\n",
                "        df_query_res_two_days_fef,\n",
                "    )\n",
                "\n",
                "\n",
                "# df_for_ID = df[df[\"ID\"] == \"113\"]\n",
                "# (\n",
                "#     df_query_res_one_day,\n",
                "#     df_query_res_one_day_fef,\n",
                "#     df_query_res_two_days,\n",
                "#     df_query_res_two_days_fef,\n",
                "# ) = infer_and_plot_for_id(df_for_ID, debug=False, diff_threshold=1e-2)\n",
                "\n",
                "\n",
                "res = (\n",
                "    df[\n",
                "        df.ID.isin(\n",
                "            [\n",
                "                \"132\",\n",
                "                \"146\",\n",
                "                \"177\",\n",
                "                \"180\",\n",
                "                \"202\",\n",
                "                \"527\",\n",
                "                \"101\",\n",
                "                \"117\",\n",
                "                \"131\",\n",
                "                \"134\",\n",
                "                \"191\",\n",
                "                \"139\",\n",
                "                \"253\",\n",
                "            ]\n",
                "        )\n",
                "    ]\n",
                "    .groupby(\"ID\")\n",
                "    .apply(\n",
                "        lambda df_for_ID: infer_and_plot_for_id(\n",
                "            df_for_ID, debug=False, diff_threshold=1e-6\n",
                "        )\n",
                "    )\n",
                ")"
            ]
        },
        {
            "cell_type": "code",
            "execution_count": null,
            "metadata": {},
            "outputs": [],
            "source": [
                "print(\n",
                "    f\"HFEV1 max diff between 2 days: {max(df_query_res_two_days.loc[0, HFEV1.name] - df_query_res_two_days.loc[1, HFEV1.name]):.2g}\"\n",
                ")\n",
                "print(\n",
                "    f\"HO2Sat max diff between 2 days: {max(df_query_res_two_days.loc[0, HO2Sat.name] - df_query_res_two_days.loc[1, HO2Sat.name]):.2g}\"\n",
                ")\n",
                "# Stop criteria: difference of the last HFEV1 inferred between two epochs is les than a threshold (1e-6)"
            ]
        },
        {
            "cell_type": "markdown",
            "metadata": {},
            "source": [
                "## Save the airway resistance for each day using the two days model\n",
                "The airway resistance inferred using the two days model is believed to be the best estimate of the true ariway resistance that we can have. I will use it to redefine F3 (the CPT linking FEF25-75 to airway resistance). "
            ]
        },
        {
            "cell_type": "code",
            "execution_count": 3,
            "metadata": {},
            "outputs": [
                {
                    "name": "stdout",
                    "output_type": "stream",
                    "text": [
                        "\n",
                        "ID: 101\n",
                        "#datapoints: 1680\n",
                        "\n",
                        "ID: 102\n",
                        "#datapoints: 263\n",
                        "\n",
                        "ID: 103\n",
                        "#datapoints: 375\n",
                        "\n",
                        "ID: 104\n",
                        "#datapoints: 222\n",
                        "\n",
                        "ID: 105\n",
                        "#datapoints: 6\n",
                        "\n",
                        "ID: 106\n",
                        "#datapoints: 335\n",
                        "\n",
                        "ID: 107\n",
                        "#datapoints: 126\n",
                        "\n",
                        "ID: 108\n",
                        "#datapoints: 289\n",
                        "\n",
                        "ID: 109\n",
                        "#datapoints: 94\n",
                        "\n",
                        "ID: 110\n",
                        "#datapoints: 8\n",
                        "\n",
                        "ID: 111\n",
                        "#datapoints: 124\n",
                        "\n",
                        "ID: 112\n",
                        "#datapoints: 114\n",
                        "\n",
                        "ID: 113\n",
                        "#datapoints: 714\n",
                        "\n",
                        "ID: 114\n",
                        "#datapoints: 133\n",
                        "\n",
                        "ID: 115\n",
                        "#datapoints: 43\n",
                        "\n",
                        "ID: 116\n",
                        "#datapoints: 619\n",
                        "\n",
                        "ID: 117\n",
                        "#datapoints: 270\n",
                        "\n",
                        "ID: 118\n",
                        "#datapoints: 108\n",
                        "\n",
                        "ID: 119\n",
                        "#datapoints: 88\n",
                        "\n",
                        "ID: 120\n",
                        "#datapoints: 388\n",
                        "\n",
                        "ID: 121\n",
                        "#datapoints: 87\n",
                        "\n",
                        "ID: 122\n",
                        "#datapoints: 257\n",
                        "\n",
                        "ID: 123\n",
                        "#datapoints: 1128\n",
                        "\n",
                        "ID: 124\n",
                        "#datapoints: 33\n",
                        "\n",
                        "ID: 125\n",
                        "#datapoints: 334\n",
                        "\n",
                        "ID: 126\n",
                        "#datapoints: 60\n",
                        "\n",
                        "ID: 127\n",
                        "#datapoints: 165\n",
                        "\n",
                        "ID: 128\n",
                        "#datapoints: 39\n",
                        "\n",
                        "ID: 129\n",
                        "#datapoints: 5\n",
                        "\n",
                        "ID: 130\n",
                        "#datapoints: 282\n",
                        "\n",
                        "ID: 131\n",
                        "#datapoints: 29\n",
                        "\n",
                        "ID: 132\n",
                        "#datapoints: 27\n",
                        "\n",
                        "ID: 133\n",
                        "#datapoints: 1066\n",
                        "\n",
                        "ID: 134\n",
                        "#datapoints: 97\n",
                        "\n",
                        "ID: 135\n",
                        "#datapoints: 26\n",
                        "\n",
                        "ID: 138\n",
                        "#datapoints: 195\n",
                        "\n",
                        "ID: 139\n",
                        "#datapoints: 276\n",
                        "\n",
                        "ID: 140\n",
                        "#datapoints: 116\n",
                        "\n",
                        "ID: 141\n",
                        "#datapoints: 201\n",
                        "\n",
                        "ID: 142\n",
                        "#datapoints: 24\n",
                        "\n",
                        "ID: 143\n",
                        "#datapoints: 146\n",
                        "\n",
                        "ID: 144\n",
                        "#datapoints: 72\n",
                        "\n",
                        "ID: 145\n",
                        "#datapoints: 37\n",
                        "\n",
                        "ID: 146\n",
                        "#datapoints: 278\n",
                        "\n",
                        "ID: 147\n",
                        "#datapoints: 212\n",
                        "\n",
                        "ID: 148\n",
                        "#datapoints: 237\n",
                        "\n",
                        "ID: 149\n",
                        "#datapoints: 139\n",
                        "\n",
                        "ID: 150\n",
                        "#datapoints: 23\n",
                        "\n",
                        "ID: 151\n",
                        "#datapoints: 282\n",
                        "\n",
                        "ID: 152\n",
                        "#datapoints: 42\n",
                        "\n",
                        "ID: 153\n",
                        "#datapoints: 55\n",
                        "\n",
                        "ID: 154\n",
                        "#datapoints: 2\n",
                        "\n",
                        "ID: 155\n",
                        "#datapoints: 12\n",
                        "\n",
                        "ID: 156\n",
                        "#datapoints: 120\n",
                        "\n",
                        "ID: 158\n",
                        "#datapoints: 275\n",
                        "\n",
                        "ID: 159\n",
                        "#datapoints: 158\n",
                        "\n",
                        "ID: 160\n",
                        "#datapoints: 1\n",
                        "\n",
                        "ID: 162\n",
                        "#datapoints: 117\n",
                        "\n",
                        "ID: 163\n",
                        "#datapoints: 51\n",
                        "\n",
                        "ID: 164\n",
                        "#datapoints: 148\n",
                        "\n",
                        "ID: 165\n",
                        "#datapoints: 130\n",
                        "\n",
                        "ID: 166\n",
                        "#datapoints: 9\n",
                        "\n",
                        "ID: 167\n",
                        "#datapoints: 1\n",
                        "\n",
                        "ID: 168\n",
                        "#datapoints: 4\n",
                        "\n",
                        "ID: 169\n",
                        "#datapoints: 20\n",
                        "\n",
                        "ID: 170\n",
                        "#datapoints: 58\n",
                        "\n",
                        "ID: 171\n",
                        "#datapoints: 65\n",
                        "\n",
                        "ID: 172\n",
                        "#datapoints: 982\n",
                        "\n",
                        "ID: 173\n",
                        "#datapoints: 22\n",
                        "\n",
                        "ID: 174\n",
                        "#datapoints: 15\n",
                        "\n",
                        "ID: 175\n",
                        "#datapoints: 3\n",
                        "\n",
                        "ID: 176\n",
                        "#datapoints: 357\n",
                        "\n",
                        "ID: 177\n",
                        "#datapoints: 251\n",
                        "\n",
                        "ID: 178\n",
                        "#datapoints: 36\n",
                        "\n",
                        "ID: 179\n",
                        "#datapoints: 16\n",
                        "\n",
                        "ID: 180\n",
                        "#datapoints: 262\n",
                        "\n",
                        "ID: 181\n",
                        "#datapoints: 17\n",
                        "\n",
                        "ID: 182\n",
                        "#datapoints: 686\n",
                        "\n",
                        "ID: 183\n",
                        "#datapoints: 5\n",
                        "\n",
                        "ID: 184\n",
                        "#datapoints: 414\n",
                        "\n",
                        "ID: 185\n",
                        "#datapoints: 96\n",
                        "\n",
                        "ID: 186\n",
                        "#datapoints: 33\n",
                        "\n",
                        "ID: 187\n",
                        "#datapoints: 47\n",
                        "\n",
                        "ID: 188\n",
                        "#datapoints: 23\n",
                        "\n",
                        "ID: 189\n",
                        "#datapoints: 6\n",
                        "\n",
                        "ID: 190\n",
                        "#datapoints: 10\n",
                        "\n",
                        "ID: 191\n",
                        "#datapoints: 213\n",
                        "\n",
                        "ID: 192\n",
                        "#datapoints: 21\n",
                        "\n",
                        "ID: 193\n",
                        "#datapoints: 64\n",
                        "\n",
                        "ID: 194\n",
                        "#datapoints: 56\n",
                        "\n",
                        "ID: 195\n",
                        "#datapoints: 1\n",
                        "\n",
                        "ID: 196\n",
                        "#datapoints: 40\n",
                        "\n",
                        "ID: 197\n",
                        "#datapoints: 75\n",
                        "\n",
                        "ID: 198\n",
                        "#datapoints: 953\n",
                        "\n",
                        "ID: 199\n",
                        "#datapoints: 30\n",
                        "\n",
                        "ID: 201\n",
                        "#datapoints: 509\n",
                        "\n",
                        "ID: 202\n",
                        "#datapoints: 130\n",
                        "\n",
                        "ID: 203\n",
                        "#datapoints: 845\n",
                        "\n",
                        "ID: 204\n",
                        "#datapoints: 248\n",
                        "\n",
                        "ID: 205\n",
                        "#datapoints: 18\n",
                        "\n",
                        "ID: 206\n",
                        "#datapoints: 9\n",
                        "\n",
                        "ID: 207\n",
                        "#datapoints: 53\n",
                        "\n",
                        "ID: 208\n",
                        "#datapoints: 7\n",
                        "\n",
                        "ID: 209\n",
                        "#datapoints: 111\n",
                        "\n",
                        "ID: 210\n",
                        "#datapoints: 17\n",
                        "\n",
                        "ID: 211\n",
                        "#datapoints: 2\n",
                        "\n",
                        "ID: 212\n",
                        "#datapoints: 14\n",
                        "\n",
                        "ID: 213\n",
                        "#datapoints: 1\n",
                        "\n",
                        "ID: 215\n",
                        "#datapoints: 305\n",
                        "\n",
                        "ID: 216\n",
                        "#datapoints: 3\n",
                        "\n",
                        "ID: 220\n",
                        "#datapoints: 223\n",
                        "\n",
                        "ID: 221\n",
                        "#datapoints: 82\n",
                        "\n",
                        "ID: 222\n",
                        "#datapoints: 1\n",
                        "\n",
                        "ID: 223\n",
                        "#datapoints: 54\n",
                        "\n",
                        "ID: 224\n",
                        "#datapoints: 183\n",
                        "\n",
                        "ID: 225\n",
                        "#datapoints: 1\n",
                        "\n",
                        "ID: 229\n",
                        "#datapoints: 391\n",
                        "\n",
                        "ID: 230\n",
                        "#datapoints: 382\n",
                        "\n",
                        "ID: 231\n",
                        "#datapoints: 340\n",
                        "\n",
                        "ID: 232\n",
                        "#datapoints: 17\n",
                        "\n",
                        "ID: 233\n",
                        "#datapoints: 81\n",
                        "\n",
                        "ID: 236\n",
                        "#datapoints: 2\n",
                        "\n",
                        "ID: 237\n",
                        "#datapoints: 206\n",
                        "\n",
                        "ID: 238\n",
                        "#datapoints: 266\n",
                        "\n",
                        "ID: 239\n",
                        "#datapoints: 41\n",
                        "\n",
                        "ID: 240\n",
                        "#datapoints: 1101\n",
                        "\n",
                        "ID: 241\n",
                        "#datapoints: 4\n",
                        "\n",
                        "ID: 242\n",
                        "#datapoints: 314\n",
                        "\n",
                        "ID: 243\n",
                        "#datapoints: 16\n",
                        "\n",
                        "ID: 244\n",
                        "#datapoints: 77\n",
                        "\n",
                        "ID: 245\n",
                        "#datapoints: 16\n",
                        "\n",
                        "ID: 248\n",
                        "#datapoints: 45\n",
                        "\n",
                        "ID: 249\n",
                        "#datapoints: 94\n",
                        "\n",
                        "ID: 250\n",
                        "#datapoints: 590\n",
                        "\n",
                        "ID: 251\n",
                        "#datapoints: 78\n",
                        "\n",
                        "ID: 252\n",
                        "#datapoints: 34\n",
                        "\n",
                        "ID: 253\n",
                        "#datapoints: 60\n",
                        "\n",
                        "ID: 254\n",
                        "#datapoints: 435\n",
                        "\n",
                        "ID: 255\n",
                        "#datapoints: 54\n",
                        "\n",
                        "ID: 256\n",
                        "#datapoints: 19\n",
                        "\n",
                        "ID: 257\n",
                        "#datapoints: 69\n",
                        "\n",
                        "ID: 258\n",
                        "#datapoints: 131\n",
                        "\n",
                        "ID: 260\n",
                        "#datapoints: 1\n",
                        "\n",
                        "ID: 261\n",
                        "#datapoints: 30\n",
                        "\n",
                        "ID: 262\n",
                        "#datapoints: 18\n",
                        "\n",
                        "ID: 263\n",
                        "#datapoints: 43\n",
                        "\n",
                        "ID: 264\n",
                        "#datapoints: 25\n",
                        "\n",
                        "ID: 265\n",
                        "#datapoints: 21\n",
                        "\n",
                        "ID: 266\n",
                        "#datapoints: 52\n",
                        "\n",
                        "ID: 267\n",
                        "#datapoints: 1\n",
                        "\n",
                        "ID: 270\n",
                        "#datapoints: 305\n",
                        "\n",
                        "ID: 271\n",
                        "#datapoints: 486\n",
                        "\n",
                        "ID: 272\n",
                        "#datapoints: 800\n",
                        "\n",
                        "ID: 273\n",
                        "#datapoints: 78\n",
                        "\n",
                        "ID: 274\n",
                        "#datapoints: 5\n",
                        "\n",
                        "ID: 275\n",
                        "#datapoints: 34\n",
                        "\n",
                        "ID: 276\n",
                        "#datapoints: 81\n",
                        "\n",
                        "ID: 278\n",
                        "#datapoints: 92\n",
                        "\n",
                        "ID: 279\n",
                        "#datapoints: 242\n",
                        "\n",
                        "ID: 280\n",
                        "#datapoints: 68\n",
                        "\n",
                        "ID: 281\n",
                        "#datapoints: 48\n",
                        "\n",
                        "ID: 282\n",
                        "#datapoints: 375\n",
                        "\n",
                        "ID: 283\n",
                        "#datapoints: 111\n",
                        "\n",
                        "ID: 284\n",
                        "#datapoints: 59\n",
                        "\n",
                        "ID: 285\n",
                        "#datapoints: 4\n",
                        "\n",
                        "ID: 287\n",
                        "#datapoints: 39\n",
                        "\n",
                        "ID: 288\n",
                        "#datapoints: 1\n",
                        "\n",
                        "ID: 289\n",
                        "#datapoints: 242\n",
                        "\n",
                        "ID: 290\n",
                        "#datapoints: 183\n",
                        "\n",
                        "ID: 291\n",
                        "#datapoints: 190\n",
                        "\n",
                        "ID: 292\n",
                        "#datapoints: 270\n",
                        "\n",
                        "ID: 293\n",
                        "#datapoints: 76\n",
                        "\n",
                        "ID: 294\n",
                        "#datapoints: 72\n",
                        "\n",
                        "ID: 295\n",
                        "#datapoints: 229\n",
                        "\n",
                        "ID: 296\n",
                        "#datapoints: 57\n",
                        "\n",
                        "ID: 297\n",
                        "#datapoints: 48\n",
                        "\n",
                        "ID: 298\n",
                        "#datapoints: 169\n",
                        "\n",
                        "ID: 299\n",
                        "#datapoints: 22\n",
                        "\n",
                        "ID: 300\n",
                        "#datapoints: 48\n",
                        "\n",
                        "ID: 301\n",
                        "#datapoints: 33\n",
                        "\n",
                        "ID: 302\n",
                        "#datapoints: 101\n",
                        "\n",
                        "ID: 303\n",
                        "#datapoints: 17\n",
                        "\n",
                        "ID: 305\n",
                        "#datapoints: 2\n",
                        "\n",
                        "ID: 306\n",
                        "#datapoints: 23\n",
                        "\n",
                        "ID: 307\n",
                        "#datapoints: 54\n",
                        "\n",
                        "ID: 308\n",
                        "#datapoints: 2\n",
                        "\n",
                        "ID: 309\n",
                        "#datapoints: 10\n",
                        "\n",
                        "ID: 310\n",
                        "#datapoints: 103\n",
                        "\n",
                        "ID: 311\n",
                        "#datapoints: 131\n",
                        "\n",
                        "ID: 312\n",
                        "#datapoints: 72\n",
                        "\n",
                        "ID: 313\n",
                        "#datapoints: 8\n",
                        "\n",
                        "ID: 314\n",
                        "#datapoints: 19\n",
                        "\n",
                        "ID: 315\n",
                        "#datapoints: 63\n",
                        "\n",
                        "ID: 316\n",
                        "#datapoints: 2\n",
                        "\n",
                        "ID: 317\n",
                        "#datapoints: 93\n",
                        "\n",
                        "ID: 318\n",
                        "#datapoints: 8\n",
                        "\n",
                        "ID: 319\n",
                        "#datapoints: 195\n",
                        "\n",
                        "ID: 320\n",
                        "#datapoints: 3\n",
                        "\n",
                        "ID: 321\n",
                        "#datapoints: 1\n",
                        "\n",
                        "ID: 325\n",
                        "#datapoints: 13\n",
                        "\n",
                        "ID: 327\n",
                        "#datapoints: 4\n",
                        "\n",
                        "ID: 331\n",
                        "#datapoints: 263\n",
                        "\n",
                        "ID: 333\n",
                        "#datapoints: 2\n",
                        "\n",
                        "ID: 334\n",
                        "#datapoints: 95\n",
                        "\n",
                        "ID: 336\n",
                        "#datapoints: 469\n",
                        "\n",
                        "ID: 337\n",
                        "#datapoints: 2\n",
                        "\n",
                        "ID: 338\n",
                        "#datapoints: 3\n",
                        "\n",
                        "ID: 339\n",
                        "#datapoints: 253\n",
                        "\n",
                        "ID: 340\n",
                        "#datapoints: 2\n",
                        "\n",
                        "ID: 342\n",
                        "#datapoints: 30\n",
                        "\n",
                        "ID: 343\n",
                        "#datapoints: 54\n",
                        "\n",
                        "ID: 345\n",
                        "#datapoints: 4\n",
                        "\n",
                        "ID: 351\n",
                        "#datapoints: 94\n",
                        "\n",
                        "ID: 352\n",
                        "#datapoints: 222\n",
                        "\n",
                        "ID: 353\n",
                        "#datapoints: 75\n",
                        "\n",
                        "ID: 354\n",
                        "#datapoints: 1\n",
                        "\n",
                        "ID: 355\n",
                        "#datapoints: 1\n",
                        "\n",
                        "ID: 357\n",
                        "#datapoints: 4\n",
                        "\n",
                        "ID: 358\n",
                        "#datapoints: 4\n",
                        "\n",
                        "ID: 359\n",
                        "#datapoints: 4\n",
                        "\n",
                        "ID: 361\n",
                        "#datapoints: 130\n",
                        "\n",
                        "ID: 362\n",
                        "#datapoints: 25\n",
                        "\n",
                        "ID: 363\n",
                        "#datapoints: 9\n",
                        "\n",
                        "ID: 365\n",
                        "#datapoints: 167\n",
                        "\n",
                        "ID: 367\n",
                        "#datapoints: 3\n",
                        "\n",
                        "ID: 370\n",
                        "#datapoints: 10\n",
                        "\n",
                        "ID: 371\n",
                        "#datapoints: 130\n",
                        "\n",
                        "ID: 372\n",
                        "#datapoints: 41\n",
                        "\n",
                        "ID: 376\n",
                        "#datapoints: 1\n",
                        "\n",
                        "ID: 377\n",
                        "#datapoints: 66\n",
                        "\n",
                        "ID: 380\n",
                        "#datapoints: 13\n",
                        "\n",
                        "ID: 381\n",
                        "#datapoints: 57\n",
                        "\n",
                        "ID: 382\n",
                        "#datapoints: 1\n",
                        "\n",
                        "ID: 383\n",
                        "#datapoints: 17\n",
                        "\n",
                        "ID: 385\n",
                        "#datapoints: 2\n",
                        "\n",
                        "ID: 386\n",
                        "#datapoints: 2\n",
                        "\n",
                        "ID: 387\n",
                        "#datapoints: 36\n",
                        "\n",
                        "ID: 389\n",
                        "#datapoints: 10\n",
                        "\n",
                        "ID: 392\n",
                        "#datapoints: 1\n",
                        "\n",
                        "ID: 394\n",
                        "#datapoints: 9\n",
                        "\n",
                        "ID: 395\n",
                        "#datapoints: 59\n",
                        "\n",
                        "ID: 396\n",
                        "#datapoints: 3\n",
                        "\n",
                        "ID: 401\n",
                        "#datapoints: 29\n",
                        "\n",
                        "ID: 402\n",
                        "#datapoints: 3\n",
                        "\n",
                        "ID: 403\n",
                        "#datapoints: 15\n",
                        "\n",
                        "ID: 404\n",
                        "#datapoints: 207\n",
                        "\n",
                        "ID: 405\n",
                        "#datapoints: 1035\n",
                        "\n",
                        "ID: 406\n",
                        "#datapoints: 106\n",
                        "\n",
                        "ID: 407\n",
                        "#datapoints: 13\n",
                        "\n",
                        "ID: 408\n",
                        "#datapoints: 83\n",
                        "\n",
                        "ID: 409\n",
                        "#datapoints: 13\n",
                        "\n",
                        "ID: 411\n",
                        "#datapoints: 77\n",
                        "\n",
                        "ID: 412\n",
                        "#datapoints: 76\n",
                        "\n",
                        "ID: 413\n",
                        "#datapoints: 162\n",
                        "\n",
                        "ID: 414\n",
                        "#datapoints: 9\n",
                        "\n",
                        "ID: 415\n",
                        "#datapoints: 5\n",
                        "\n",
                        "ID: 416\n",
                        "#datapoints: 77\n",
                        "\n",
                        "ID: 417\n",
                        "#datapoints: 20\n",
                        "\n",
                        "ID: 419\n",
                        "#datapoints: 23\n",
                        "\n",
                        "ID: 420\n",
                        "#datapoints: 217\n",
                        "\n",
                        "ID: 421\n",
                        "#datapoints: 15\n",
                        "\n",
                        "ID: 422\n",
                        "#datapoints: 36\n",
                        "\n",
                        "ID: 424\n",
                        "#datapoints: 93\n",
                        "\n",
                        "ID: 425\n",
                        "#datapoints: 45\n",
                        "\n",
                        "ID: 426\n",
                        "#datapoints: 202\n",
                        "\n",
                        "ID: 427\n",
                        "#datapoints: 76\n",
                        "\n",
                        "ID: 428\n",
                        "#datapoints: 1\n",
                        "\n",
                        "ID: 429\n",
                        "#datapoints: 1\n",
                        "\n",
                        "ID: 430\n",
                        "#datapoints: 175\n",
                        "\n",
                        "ID: 431\n",
                        "#datapoints: 72\n",
                        "\n",
                        "ID: 432\n",
                        "#datapoints: 122\n",
                        "\n",
                        "ID: 433\n",
                        "#datapoints: 60\n",
                        "\n",
                        "ID: 434\n",
                        "#datapoints: 45\n",
                        "\n",
                        "ID: 439\n",
                        "#datapoints: 39\n",
                        "\n",
                        "ID: 440\n",
                        "#datapoints: 10\n",
                        "\n",
                        "ID: 441\n",
                        "#datapoints: 5\n",
                        "\n",
                        "ID: 442\n",
                        "#datapoints: 8\n",
                        "\n",
                        "ID: 443\n",
                        "#datapoints: 14\n",
                        "\n",
                        "ID: 444\n",
                        "#datapoints: 10\n",
                        "\n",
                        "ID: 447\n",
                        "#datapoints: 28\n",
                        "\n",
                        "ID: 448\n",
                        "#datapoints: 7\n",
                        "\n",
                        "ID: 451\n",
                        "#datapoints: 1\n",
                        "\n",
                        "ID: 452\n",
                        "#datapoints: 130\n",
                        "\n",
                        "ID: 453\n",
                        "#datapoints: 41\n",
                        "\n",
                        "ID: 454\n",
                        "#datapoints: 1\n",
                        "\n",
                        "ID: 455\n",
                        "#datapoints: 13\n",
                        "\n",
                        "ID: 461\n",
                        "#datapoints: 9\n",
                        "\n",
                        "ID: 464\n",
                        "#datapoints: 30\n",
                        "\n",
                        "ID: 467\n",
                        "#datapoints: 14\n",
                        "\n",
                        "ID: 469\n",
                        "#datapoints: 148\n",
                        "\n",
                        "ID: 480\n",
                        "#datapoints: 141\n",
                        "\n",
                        "ID: 481\n",
                        "#datapoints: 77\n",
                        "\n",
                        "ID: 482\n",
                        "#datapoints: 30\n",
                        "\n",
                        "ID: 483\n",
                        "#datapoints: 129\n",
                        "\n",
                        "ID: 484\n",
                        "#datapoints: 69\n",
                        "\n",
                        "ID: 485\n",
                        "#datapoints: 31\n",
                        "\n",
                        "ID: 486\n",
                        "#datapoints: 39\n",
                        "\n",
                        "ID: 487\n",
                        "#datapoints: 1\n",
                        "\n",
                        "ID: 488\n",
                        "#datapoints: 109\n",
                        "\n",
                        "ID: 489\n",
                        "#datapoints: 1\n",
                        "\n",
                        "ID: 490\n",
                        "#datapoints: 17\n",
                        "\n",
                        "ID: 491\n",
                        "#datapoints: 31\n",
                        "\n",
                        "ID: 492\n",
                        "#datapoints: 42\n",
                        "\n",
                        "ID: 493\n",
                        "#datapoints: 176\n",
                        "\n",
                        "ID: 494\n",
                        "#datapoints: 51\n",
                        "\n",
                        "ID: 495\n",
                        "#datapoints: 36\n",
                        "\n",
                        "ID: 497\n",
                        "#datapoints: 6\n",
                        "\n",
                        "ID: 498\n",
                        "#datapoints: 1\n",
                        "\n",
                        "ID: 499\n",
                        "#datapoints: 7\n",
                        "\n",
                        "ID: 500\n",
                        "#datapoints: 130\n",
                        "\n",
                        "ID: 502\n",
                        "#datapoints: 429\n",
                        "\n",
                        "ID: 504\n",
                        "#datapoints: 13\n",
                        "\n",
                        "ID: 505\n",
                        "#datapoints: 19\n",
                        "\n",
                        "ID: 506\n",
                        "#datapoints: 193\n",
                        "\n",
                        "ID: 507\n",
                        "#datapoints: 3\n",
                        "\n",
                        "ID: 508\n",
                        "#datapoints: 507\n",
                        "\n",
                        "ID: 509\n",
                        "#datapoints: 194\n",
                        "\n",
                        "ID: 510\n",
                        "#datapoints: 3\n",
                        "\n",
                        "ID: 511\n",
                        "#datapoints: 62\n",
                        "\n",
                        "ID: 512\n",
                        "#datapoints: 10\n",
                        "\n",
                        "ID: 513\n",
                        "#datapoints: 16\n",
                        "\n",
                        "ID: 514\n",
                        "#datapoints: 86\n",
                        "\n",
                        "ID: 515\n",
                        "#datapoints: 169\n",
                        "\n",
                        "ID: 516\n",
                        "#datapoints: 1\n",
                        "\n",
                        "ID: 517\n",
                        "#datapoints: 179\n",
                        "\n",
                        "ID: 518\n",
                        "#datapoints: 6\n",
                        "\n",
                        "ID: 519\n",
                        "#datapoints: 4\n",
                        "\n",
                        "ID: 520\n",
                        "#datapoints: 348\n",
                        "\n",
                        "ID: 521\n",
                        "#datapoints: 61\n",
                        "\n",
                        "ID: 522\n",
                        "#datapoints: 2\n",
                        "\n",
                        "ID: 523\n",
                        "#datapoints: 118\n",
                        "\n",
                        "ID: 525\n",
                        "#datapoints: 18\n",
                        "\n",
                        "ID: 527\n",
                        "#datapoints: 5\n",
                        "\n",
                        "ID: 529\n",
                        "#datapoints: 8\n",
                        "\n",
                        "ID: 530\n",
                        "#datapoints: 205\n",
                        "\n",
                        "ID: 531\n",
                        "#datapoints: 4\n",
                        "\n",
                        "ID: 532\n",
                        "#datapoints: 48\n",
                        "\n",
                        "ID: 533\n",
                        "#datapoints: 1\n",
                        "\n",
                        "ID: 535\n",
                        "#datapoints: 35\n",
                        "\n",
                        "ID: 536\n",
                        "#datapoints: 2\n",
                        "\n",
                        "ID: 537\n",
                        "#datapoints: 46\n",
                        "\n",
                        "ID: 538\n",
                        "#datapoints: 6\n",
                        "\n",
                        "ID: 541\n",
                        "#datapoints: 8\n",
                        "\n",
                        "ID: 543\n",
                        "#datapoints: 16\n",
                        "\n",
                        "ID: 544\n",
                        "#datapoints: 101\n",
                        "\n",
                        "ID: 545\n",
                        "#datapoints: 1\n",
                        "\n",
                        "ID: 546\n",
                        "#datapoints: 1\n",
                        "\n",
                        "ID: 548\n",
                        "#datapoints: 3\n",
                        "\n",
                        "ID: 549\n",
                        "#datapoints: 7\n",
                        "\n",
                        "ID: 550\n",
                        "#datapoints: 7\n",
                        "\n",
                        "ID: 551\n",
                        "#datapoints: 18\n",
                        "\n",
                        "ID: 553\n",
                        "#datapoints: 43\n"
                    ]
                }
            ],
            "source": [
                "# Code to save the airway resistance for each day using the two days model\n",
                "def infer_for_id(df_for_ID, debug, diff_threshold=1e-8):\n",
                "    df_for_ID = df_for_ID.reset_index(drop=True)\n",
                "    print(f\"\\nID: {df_for_ID.ID.iloc[0]}\")\n",
                "    print(f\"#datapoints: {len(df_for_ID)}\")\n",
                "\n",
                "    height = df_for_ID.Height.iloc[0]\n",
                "    age = df_for_ID.Age.iloc[0]\n",
                "    sex = df_for_ID.Sex.iloc[0]\n",
                "    ecfev1_noise_model_cpt_suffix = \"_std_0.23\"\n",
                "    (\n",
                "        _,\n",
                "        inf_alg,\n",
                "        HFEV1,\n",
                "        uecFEV1,\n",
                "        ecFEV1,\n",
                "        AR,\n",
                "        HO2Sat,\n",
                "        O2SatFFA,\n",
                "        IA,\n",
                "        UO2Sat,\n",
                "        O2Sat,\n",
                "        ecFEF2575prctecFEV1,\n",
                "    ) = mb.o2sat_fev1_fef2575_point_in_time_model_noise_shared_healthy_vars(\n",
                "        height, age, sex, ecfev1_noise_model_cpt_suffix=ecfev1_noise_model_cpt_suffix\n",
                "    )\n",
                "\n",
                "    # Set variables parametrisation\n",
                "    key_hfev1 = f\"['{uecFEV1.name}', '{HFEV1.name}', '{AR.name}'] -> {HFEV1.name}\"\n",
                "    # key_hfev1 = f\"['{ecFEV1.name}', '{HFEV1.name}', '{AR.name}'] -> {HFEV1.name}\"\n",
                "    key_ho2sat = f\"['{O2SatFFA.name}', '{HO2Sat.name}', '{AR.name}'] -> {HO2Sat.name}\"\n",
                "    HFEV1.set_factor_node_key(key_hfev1)\n",
                "    HO2Sat.set_factor_node_key(key_ho2sat)\n",
                "\n",
                "    vars = [AR]\n",
                "    shared_vars = [HFEV1, HO2Sat]\n",
                "    # obs_vars = [ecFEV1.name]\n",
                "    # obs_vars = [ecFEV1.name, O2Sat.name]\n",
                "    obs_vars = [ecFEV1.name, ecFEF2575prctecFEV1.name]\n",
                "    # obs_vars = [ecFEV1.name, O2Sat.name, ecFEF2575prctecFEV1.name]\n",
                "\n",
                "    # Find the max FEV1 values\n",
                "    # Given an ID, get the data which maximises ecFEV1, then ecFEF2575, then O2 Saturation\n",
                "    idx_max_FEV1 = df_for_ID.sort_values(\n",
                "        by=[\"ecFEV1\", \"ecFEF2575\", \"O2 Saturation\"], ascending=False\n",
                "    ).index[0]\n",
                "\n",
                "    # For each entry, create a two_days data structure that hold the current day as well as the day where the max FEV1 is observed\n",
                "    # If the two idx are the same, then run a one day model.\n",
                "    # Adding the max FEV1 information to the model input allows a better estimation of the HFEV1, hereby reducing the shared uncertainty between AR and HFEV1.\n",
                "\n",
                "    # Save information into a df\n",
                "    df_current_day_res = pd.DataFrame({})\n",
                "\n",
                "    # Get precompupted messages to speedup inference\n",
                "    arr = np.ones(AR.card)\n",
                "    arr /= arr.sum()\n",
                "    uniform_from_o2_side = {\n",
                "        \"['O2 saturation if fully functional alveoli (%)', 'Healthy O2 saturation (%)', 'Airway resistance (%)'] -> Airway resistance (%)\": arr\n",
                "    }\n",
                "    precomp_messages = uniform_from_o2_side\n",
                "\n",
                "    for i, _ in df_for_ID.iterrows():\n",
                "        if i != idx_max_FEV1:\n",
                "            df_two_days = df_for_ID.iloc[[i, idx_max_FEV1]]\n",
                "        else:\n",
                "            df_two_days = df_for_ID.iloc[[i]]\n",
                "\n",
                "        df_query_res_two_days, _, _ = slicing.query_forwardly_across_days(\n",
                "            df_two_days,\n",
                "            inf_alg,\n",
                "            shared_vars,\n",
                "            vars,\n",
                "            obs_vars,\n",
                "            diff_threshold,\n",
                "            precomp_messages.copy(),\n",
                "            debug,\n",
                "        )\n",
                "\n",
                "        new_row = df_query_res_two_days.loc[\n",
                "            # 0, [\"ID\", \"Day\", HFEV1.name, HO2Sat.name, AR.name, IA.name]\n",
                "            0,\n",
                "            [\"ID\", \"Day\", HFEV1.name, HO2Sat.name, AR.name],\n",
                "        ]\n",
                "        df_current_day_res = pd.concat([df_current_day_res, pd.DataFrame(new_row).T])\n",
                "\n",
                "    return df_current_day_res\n",
                "\n",
                "\n",
                "# df_for_ID = df[df[\"ID\"] == \"101\"]\n",
                "# res = infer_for_id(df_for_ID, debug=False, diff_threshold=1e-6).reset_index(drop=True)\n",
                "\n",
                "res = df.groupby(\"ID\").apply(\n",
                "    lambda df_for_ID: infer_for_id(\n",
                "        df_for_ID, debug=False, diff_threshold=1e-6\n",
                "    ).reset_index(drop=True)\n",
                ")"
            ]
        },
        {
            "cell_type": "code",
            "execution_count": 4,
            "metadata": {},
            "outputs": [],
            "source": [
                "res = res.reset_index(drop=True)"
            ]
        },
        {
            "cell_type": "code",
            "execution_count": 5,
            "metadata": {},
            "outputs": [],
            "source": [
                "res.to_excel(\n",
                "    f\"{dh.get_path_to_main()}ExcelFiles/BR/Refining_F3/infer_AR_with_two_days_model_ecFEV1_ecFEF2575_ecfev1noisestd0.23.xlsx\",\n",
                "    index=False,\n",
                ")"
            ]
        },
        {
            "cell_type": "code",
            "execution_count": 6,
            "metadata": {},
            "outputs": [
                {
                    "data": {
                        "text/html": [
                            "<div>\n",
                            "<style scoped>\n",
                            "    .dataframe tbody tr th:only-of-type {\n",
                            "        vertical-align: middle;\n",
                            "    }\n",
                            "\n",
                            "    .dataframe tbody tr th {\n",
                            "        vertical-align: top;\n",
                            "    }\n",
                            "\n",
                            "    .dataframe thead th {\n",
                            "        text-align: right;\n",
                            "    }\n",
                            "</style>\n",
                            "<table border=\"1\" class=\"dataframe\">\n",
                            "  <thead>\n",
                            "    <tr style=\"text-align: right;\">\n",
                            "      <th></th>\n",
                            "      <th>ID</th>\n",
                            "      <th>Day</th>\n",
                            "      <th>Healthy FEV1 (L)</th>\n",
                            "      <th>Healthy O2 saturation (%)</th>\n",
                            "      <th>Airway resistance (%)</th>\n",
                            "    </tr>\n",
                            "  </thead>\n",
                            "  <tbody>\n",
                            "    <tr>\n",
                            "      <th>0</th>\n",
                            "      <td>101</td>\n",
                            "      <td>2019-01-25</td>\n",
                            "      <td>[8.888450155689279e-05, 0.00010466336733997926...</td>\n",
                            "      <td>[1.301313441818203e-35, 8.428052860278614e-31,...</td>\n",
                            "      <td>[8.201938384420302e-11, 4.845853906070325e-10,...</td>\n",
                            "    </tr>\n",
                            "    <tr>\n",
                            "      <th>1</th>\n",
                            "      <td>101</td>\n",
                            "      <td>2019-01-26</td>\n",
                            "      <td>[8.888450155689279e-05, 0.00010466336733997926...</td>\n",
                            "      <td>[1.301313441818203e-35, 8.428052860278614e-31,...</td>\n",
                            "      <td>[8.201938384420302e-11, 4.845853906070325e-10,...</td>\n",
                            "    </tr>\n",
                            "    <tr>\n",
                            "      <th>2</th>\n",
                            "      <td>101</td>\n",
                            "      <td>2019-01-27</td>\n",
                            "      <td>[8.888450155689279e-05, 0.00010466336733997926...</td>\n",
                            "      <td>[1.301313441818203e-35, 8.428052860278614e-31,...</td>\n",
                            "      <td>[8.201938384420302e-11, 4.845853906070325e-10,...</td>\n",
                            "    </tr>\n",
                            "    <tr>\n",
                            "      <th>3</th>\n",
                            "      <td>101</td>\n",
                            "      <td>2019-01-28</td>\n",
                            "      <td>[8.888450155689279e-05, 0.00010466336733997926...</td>\n",
                            "      <td>[1.301313441818203e-35, 8.428052860278614e-31,...</td>\n",
                            "      <td>[8.201938384420302e-11, 4.845853906070325e-10,...</td>\n",
                            "    </tr>\n",
                            "    <tr>\n",
                            "      <th>4</th>\n",
                            "      <td>101</td>\n",
                            "      <td>2019-01-29</td>\n",
                            "      <td>[8.888450155689279e-05, 0.00010466336733997926...</td>\n",
                            "      <td>[1.301313441818203e-35, 8.428052860278614e-31,...</td>\n",
                            "      <td>[8.201938384420302e-11, 4.845853906070325e-10,...</td>\n",
                            "    </tr>\n",
                            "    <tr>\n",
                            "      <th>...</th>\n",
                            "      <td>...</td>\n",
                            "      <td>...</td>\n",
                            "      <td>...</td>\n",
                            "      <td>...</td>\n",
                            "      <td>...</td>\n",
                            "    </tr>\n",
                            "    <tr>\n",
                            "      <th>41255</th>\n",
                            "      <td>553</td>\n",
                            "      <td>2023-10-08</td>\n",
                            "      <td>[5.4333570954118006e-08, 7.32922355066062e-08,...</td>\n",
                            "      <td>[1.515464415190392e-34, 8.2040210808894e-30, 1...</td>\n",
                            "      <td>[3.586353045071328e-13, 1.7485851234805522e-12...</td>\n",
                            "    </tr>\n",
                            "    <tr>\n",
                            "      <th>41256</th>\n",
                            "      <td>553</td>\n",
                            "      <td>2023-10-11</td>\n",
                            "      <td>[5.816215361310191e-08, 7.77132899197018e-08, ...</td>\n",
                            "      <td>[1.515464415190391e-34, 8.204021080889399e-30,...</td>\n",
                            "      <td>[4.0364040356365383e-13, 2.0683874143639004e-1...</td>\n",
                            "    </tr>\n",
                            "    <tr>\n",
                            "      <th>41257</th>\n",
                            "      <td>553</td>\n",
                            "      <td>2023-11-06</td>\n",
                            "      <td>[5.4333570954118006e-08, 7.32922355066062e-08,...</td>\n",
                            "      <td>[1.515464415190392e-34, 8.2040210808894e-30, 1...</td>\n",
                            "      <td>[3.586353045071328e-13, 1.7485851234805522e-12...</td>\n",
                            "    </tr>\n",
                            "    <tr>\n",
                            "      <th>41258</th>\n",
                            "      <td>553</td>\n",
                            "      <td>2023-11-08</td>\n",
                            "      <td>[5.4333570954118006e-08, 7.32922355066062e-08,...</td>\n",
                            "      <td>[1.515464415190392e-34, 8.2040210808894e-30, 1...</td>\n",
                            "      <td>[3.586353045071328e-13, 1.7485851234805522e-12...</td>\n",
                            "    </tr>\n",
                            "    <tr>\n",
                            "      <th>41259</th>\n",
                            "      <td>553</td>\n",
                            "      <td>2023-11-10</td>\n",
                            "      <td>[5.4333570954118006e-08, 7.32922355066062e-08,...</td>\n",
                            "      <td>[1.515464415190392e-34, 8.2040210808894e-30, 1...</td>\n",
                            "      <td>[3.586353045071328e-13, 1.7485851234805522e-12...</td>\n",
                            "    </tr>\n",
                            "  </tbody>\n",
                            "</table>\n",
                            "<p>41260 rows × 5 columns</p>\n",
                            "</div>"
                        ],
                        "text/plain": [
                            "        ID         Day                                   Healthy FEV1 (L)  \\\n",
                            "0      101  2019-01-25  [8.888450155689279e-05, 0.00010466336733997926...   \n",
                            "1      101  2019-01-26  [8.888450155689279e-05, 0.00010466336733997926...   \n",
                            "2      101  2019-01-27  [8.888450155689279e-05, 0.00010466336733997926...   \n",
                            "3      101  2019-01-28  [8.888450155689279e-05, 0.00010466336733997926...   \n",
                            "4      101  2019-01-29  [8.888450155689279e-05, 0.00010466336733997926...   \n",
                            "...    ...         ...                                                ...   \n",
                            "41255  553  2023-10-08  [5.4333570954118006e-08, 7.32922355066062e-08,...   \n",
                            "41256  553  2023-10-11  [5.816215361310191e-08, 7.77132899197018e-08, ...   \n",
                            "41257  553  2023-11-06  [5.4333570954118006e-08, 7.32922355066062e-08,...   \n",
                            "41258  553  2023-11-08  [5.4333570954118006e-08, 7.32922355066062e-08,...   \n",
                            "41259  553  2023-11-10  [5.4333570954118006e-08, 7.32922355066062e-08,...   \n",
                            "\n",
                            "                               Healthy O2 saturation (%)  \\\n",
                            "0      [1.301313441818203e-35, 8.428052860278614e-31,...   \n",
                            "1      [1.301313441818203e-35, 8.428052860278614e-31,...   \n",
                            "2      [1.301313441818203e-35, 8.428052860278614e-31,...   \n",
                            "3      [1.301313441818203e-35, 8.428052860278614e-31,...   \n",
                            "4      [1.301313441818203e-35, 8.428052860278614e-31,...   \n",
                            "...                                                  ...   \n",
                            "41255  [1.515464415190392e-34, 8.2040210808894e-30, 1...   \n",
                            "41256  [1.515464415190391e-34, 8.204021080889399e-30,...   \n",
                            "41257  [1.515464415190392e-34, 8.2040210808894e-30, 1...   \n",
                            "41258  [1.515464415190392e-34, 8.2040210808894e-30, 1...   \n",
                            "41259  [1.515464415190392e-34, 8.2040210808894e-30, 1...   \n",
                            "\n",
                            "                                   Airway resistance (%)  \n",
                            "0      [8.201938384420302e-11, 4.845853906070325e-10,...  \n",
                            "1      [8.201938384420302e-11, 4.845853906070325e-10,...  \n",
                            "2      [8.201938384420302e-11, 4.845853906070325e-10,...  \n",
                            "3      [8.201938384420302e-11, 4.845853906070325e-10,...  \n",
                            "4      [8.201938384420302e-11, 4.845853906070325e-10,...  \n",
                            "...                                                  ...  \n",
                            "41255  [3.586353045071328e-13, 1.7485851234805522e-12...  \n",
                            "41256  [4.0364040356365383e-13, 2.0683874143639004e-1...  \n",
                            "41257  [3.586353045071328e-13, 1.7485851234805522e-12...  \n",
                            "41258  [3.586353045071328e-13, 1.7485851234805522e-12...  \n",
                            "41259  [3.586353045071328e-13, 1.7485851234805522e-12...  \n",
                            "\n",
                            "[41260 rows x 5 columns]"
                        ]
                    },
                    "execution_count": 6,
                    "metadata": {},
                    "output_type": "execute_result"
                }
            ],
            "source": [
                "res"
            ]
        },
        {
            "cell_type": "markdown",
            "metadata": {},
            "source": [
                "# Two days model with exact inference"
            ]
        },
        {
            "cell_type": "code",
            "execution_count": null,
            "metadata": {},
            "outputs": [],
            "source": [
                "import src.data.breathe_data as bd\n",
                "import src.inference.long_inf_slicing as slicing\n",
                "import src.models.builders as mb\n",
                "import src.models.var_builders as var_builders\n",
                "import src.inference.helpers as ih\n",
                "from plotly.subplots import make_subplots\n",
                "\n",
                "import pandas as pd\n",
                "import numpy as np\n",
                "\n",
                "# df = bd.load_meas_from_excel(\"BR_O2_FEV1_FEF2575_with_idx_and_heighest_obs_per_id\")\n",
                "df_for_ID = df[df[\"ID\"] == \"101\"]\n",
                "idx_max_FEV1 = df_for_ID.sort_values(\n",
                "    by=[\"ecFEV1\", \"ecFEF2575\", \"O2 Saturation\"], ascending=False\n",
                ").index[0]\n",
                "\n",
                "df_for_ID.iloc[[0, idx_max_FEV1]]"
            ]
        },
        {
            "cell_type": "code",
            "execution_count": null,
            "metadata": {},
            "outputs": [],
            "source": [
                "height = df_for_ID.Height.iloc[0]\n",
                "age = df_for_ID.Age.iloc[0]\n",
                "sex = df_for_ID.Sex.iloc[0]\n",
                "(\n",
                "    model,\n",
                "    inf_alg,\n",
                "    HFEV1,\n",
                "    HO2Sat,\n",
                "    ecFEV1,\n",
                "    AR,\n",
                "    O2SatFFA,\n",
                "    IA,\n",
                "    UO2Sat,\n",
                "    O2Sat,\n",
                "    # ecFEF2575prctecFEV1,\n",
                "    ecFEV1_2,\n",
                "    AR_2,\n",
                "    O2SatFFA_2,\n",
                "    IA_2,\n",
                "    UO2Sat_2,\n",
                "    O2Sat_2,\n",
                "    # ecFEF2575prctecFEV1_2,\n",
                ") = mb.o2_sat_fev1_two_days_model_light(height, age, sex)"
            ]
        },
        {
            "cell_type": "code",
            "execution_count": null,
            "metadata": {},
            "outputs": [],
            "source": [
                "# vars = [HFEV1, HO2Sat, AR, IA, AR_2, IA_2]\n",
                "vars = [AR, IA]\n",
                "obs_vars = [[ecFEV1, 1.31], [O2Sat, 97], [ecFEV1_2, 1.79], [O2Sat_2, 98]]\n",
                "\n",
                "res = ih.infer(inference_alg=inf_alg, variables=vars, evidence=obs_vars)"
            ]
        },
        {
            "cell_type": "markdown",
            "metadata": {},
            "source": [
                "# 1 day, exact vs approximate inference"
            ]
        },
        {
            "cell_type": "code",
            "execution_count": null,
            "metadata": {},
            "outputs": [],
            "source": [
                "df1 = df.copy()"
            ]
        },
        {
            "cell_type": "code",
            "execution_count": null,
            "metadata": {},
            "outputs": [],
            "source": [
                "df1.columns"
            ]
        },
        {
            "cell_type": "code",
            "execution_count": null,
            "metadata": {},
            "outputs": [],
            "source": [
                "df_res = pd.DataFrame({})\n",
                "\n",
                "for id in df1.ID.unique():\n",
                "    df_for_ID = df1[df1[\"ID\"] == id].reset_index()\n",
                "    idx_init = df_for_ID.index[0]\n",
                "\n",
                "    # Set values\n",
                "    height = df_for_ID.Height.iloc[0]\n",
                "    age = df_for_ID.Age.iloc[0]\n",
                "    sex = df_for_ID.Sex.iloc[0]\n",
                "\n",
                "    idx_max_FEV1 = df_for_ID.sort_values(\n",
                "        by=[\"ecFEV1\", \"ecFEF2575\", \"O2 Saturation\"], ascending=False\n",
                "    ).index[0]\n",
                "\n",
                "    (\n",
                "        _,\n",
                "        inf_alg_approx,\n",
                "        HFEV1,\n",
                "        ecFEV1,\n",
                "        AR,\n",
                "        HO2Sat,\n",
                "        O2SatFFA,\n",
                "        IA,\n",
                "        UO2Sat,\n",
                "        O2Sat,\n",
                "    ) = mb.o2sat_fev1_point_in_time_model_shared_healthy_vars_light(height, age, sex)\n",
                "\n",
                "    # Set variables parametrisation\n",
                "    key_hfev1 = f\"['{ecFEV1.name}', '{HFEV1.name}', '{AR.name}'] -> {HFEV1.name}\"\n",
                "    key_ho2sat = f\"['{O2SatFFA.name}', '{HO2Sat.name}', '{AR.name}'] -> {HO2Sat.name}\"\n",
                "    HFEV1.set_factor_node_key(key_hfev1)\n",
                "    HO2Sat.set_factor_node_key(key_ho2sat)\n",
                "\n",
                "    # Set inputs for approximate inference\n",
                "    shared_vars_approx = [HFEV1, HO2Sat]\n",
                "    vars_approx = []\n",
                "    obs_var_names_approx = [ecFEV1.name, O2Sat.name]\n",
                "\n",
                "    (\n",
                "        model,\n",
                "        inf_alg_exact,\n",
                "        HFEV1_exact,\n",
                "        HO2Sat,\n",
                "        ecFEV1,\n",
                "        AR,\n",
                "        O2SatFFA,\n",
                "        IA,\n",
                "        UO2Sat,\n",
                "        O2Sat,\n",
                "        ecFEV1_2,\n",
                "        AR_2,\n",
                "        O2SatFFA_2,\n",
                "        IA_2,\n",
                "        UO2Sat_2,\n",
                "        O2Sat_2,\n",
                "    ) = mb.o2_sat_fev1_two_days_model_light(height, age, sex)\n",
                "    shared_vars_exact = [HFEV1, HO2Sat]\n",
                "\n",
                "    # Take random element from df_for_ID.index\n",
                "    chosen_idx_list = np.random.choice(df_for_ID.index, 1)\n",
                "\n",
                "    for i in chosen_idx_list:  # df_for_ID.iterrows():\n",
                "        if i == idx_max_FEV1:\n",
                "            print(f\"Max FEV1 entry found (index {i}), skipping to avo\")\n",
                "            continue\n",
                "        df_two_days = df_for_ID.iloc[[i, idx_max_FEV1]]\n",
                "\n",
                "        # Approximate inference\n",
                "        df_query_res, df_res_before_convergence, shared_vars_final = (\n",
                "            slicing.query_forwardly_across_days(\n",
                "                df_two_days,\n",
                "                inf_alg_approx,\n",
                "                shared_vars_approx,\n",
                "                vars_approx,\n",
                "                obs_var_names_approx,\n",
                "                1e-8,\n",
                "                debug=False,\n",
                "                auto_reset_shared_vars=True,\n",
                "            )\n",
                "        )\n",
                "        hfev1_approx = df_query_res.loc[0, HFEV1.name]\n",
                "        ho2sat_approx = df_query_res.loc[0, HO2Sat.name]\n",
                "\n",
                "        # Exact inference\n",
                "        fev1 = df_two_days.reset_index().loc[0, \"ecFEV1\"]\n",
                "        fev1_max = df_two_days.reset_index().loc[1, \"ecFEV1\"]\n",
                "        o2sat = df_two_days.reset_index().loc[0, \"O2 Saturation\"]\n",
                "        o2sat_max = df_two_days.reset_index().loc[1, \"O2 Saturation\"]\n",
                "        obs_vars = [\n",
                "            [ecFEV1, fev1],\n",
                "            [O2Sat, o2sat],\n",
                "            [ecFEV1_2, fev1_max],\n",
                "            [O2Sat_2, o2sat_max],\n",
                "        ]\n",
                "\n",
                "        res_exact = ih.infer(\n",
                "            inference_alg=inf_alg_exact,\n",
                "            variables=shared_vars_exact,\n",
                "            evidence=obs_vars,\n",
                "            debug=False,\n",
                "        )\n",
                "        hfev1_exact = res_exact[HFEV1.name].values\n",
                "        ho2sat_exact = res_exact[HO2Sat.name].values\n",
                "\n",
                "        # Add row to df_res\n",
                "        row = {\n",
                "            \"ID\": df_for_ID.loc[i, \"ID\"],\n",
                "            \"Date Recorded\": df_for_ID.loc[i, \"Date Recorded\"],\n",
                "            \"Age\": df_for_ID.loc[i, \"Age\"],\n",
                "            \"Height\": df_for_ID.loc[i, \"Height\"],\n",
                "            \"Sex\": df_for_ID.loc[i, \"Sex\"],\n",
                "            \"HFEV1 exact inf\": hfev1_exact,\n",
                "            \"HFEV1 approx inf\": hfev1_approx,\n",
                "            \"HO2Sat exact inf\": ho2sat_exact,\n",
                "            \"HO2Sat approx inf\": ho2sat_approx,\n",
                "        }\n",
                "\n",
                "        dt_tmp = pd.Series(row).to_frame().T\n",
                "\n",
                "        df_res = pd.concat([df_res, dt_tmp])"
            ]
        },
        {
            "cell_type": "code",
            "execution_count": null,
            "metadata": {},
            "outputs": [],
            "source": [
                "# Metrics to compare the models\n",
                "\n",
                "\n",
                "# Kullback–Leibler divergence\n",
                "# it is the expectation of the logarithmic difference between the probabilities P and Q, where the expectation is taken using the probabilities P.\n",
                "def calc_kullback_leibler_divergence(p, q):\n",
                "    # Replace 0s in q with 1e-10\n",
                "    q[q == 0] = 1e-20\n",
                "    p[p == 0] = 1e-20\n",
                "    return sum(np.log(p / q) * p)\n",
                "\n",
                "\n",
                "def calc_relative_diff(exact, approx):\n",
                "    exact_bis = exact.copy()\n",
                "    exact_bis[np.abs(exact) < 0.0001] = 0\n",
                "    approx_bis = approx.copy()\n",
                "    approx_bis[np.abs(approx) < 0.0001] = 0\n",
                "    # To perform a safe division, if hfev1_exact_bis is 0, then we divide by 1\n",
                "    denominator_exact = exact_bis.copy()\n",
                "    denominator_exact[np.abs(exact) < 0.0001] = 1\n",
                "    return np.sum(np.abs((np.divide(exact_bis - approx_bis, denominator_exact) * 100)))\n",
                "\n",
                "\n",
                "def max_diff(exact, approx):\n",
                "    \"\"\"\n",
                "    In the end I will just apply the max diff because 1/ it's easiest to interpret,\n",
                "    and 2/ it reveals the changes in the highest values, which is what we are interested in\n",
                "    \"\"\"\n",
                "    return max(np.abs(exact - approx))\n",
                "\n",
                "\n",
                "df_res[\"HFEV1 max diff\"] = df_res.apply(\n",
                "    lambda row: max_diff(row[\"HFEV1 exact inf\"], row[\"HFEV1 approx inf\"]), axis=1\n",
                ")\n",
                "df_res[\"HO2Sat max diff\"] = df_res.apply(\n",
                "    lambda row: max_diff(row[\"HO2Sat exact inf\"], row[\"HO2Sat approx inf\"]), axis=1\n",
                ")\n",
                "\n",
                "# df1.loc[df_for_ID.loc[i, \"index\"], \"HFEV1 relative diff\"] = calc_relative_diff(\n",
                "#     hfev1_exact, hfev1_approx\n",
                "# )\n",
                "# df1.loc[df_for_ID.loc[i, \"index\"], \"HO2Sat relative diff\"] = calc_relative_diff(\n",
                "#     ho2sat_exact, ho2sat_approx\n",
                "# )\n",
                "\n",
                "# kl_div_hfev1 = calc_kullback_leibler_divergence(hfev1_exact, hfev1_approx)\n",
                "# kl_div_ho2sat = calc_kullback_leibler_divergence(ho2sat_exact, ho2sat_approx)\n",
                "# df1.loc[df_for_ID.loc[i, \"index\"], \"HFEV1 KL div\"] = kl_div_hfev1\n",
                "# df1.loc[df_for_ID.loc[i, \"index\"], \"HO2Sat KL div\"] = kl_div_ho2sat"
            ]
        },
        {
            "cell_type": "code",
            "execution_count": null,
            "metadata": {},
            "outputs": [],
            "source": [
                "df_res.sort_values(by=\"HFEV1 max diff\", ascending=False)"
            ]
        },
        {
            "cell_type": "code",
            "execution_count": null,
            "metadata": {},
            "outputs": [],
            "source": [
                "df1.sort_values(by=\"HFEV1 max diff\", ascending=False).head(10)\n",
                "# df1.sort_values(by=\"HFEV1 relative diff\", ascending=False).head(10)\n",
                "# df1.sort_values(by=\"HFEV1 KL div\", ascending=False).head(10)\n",
                "# The same 8 entries are in the top 10. Meaning that both are similar indicators of the difference between the two models\n",
                "# The difference is small"
            ]
        },
        {
            "cell_type": "code",
            "execution_count": null,
            "metadata": {},
            "outputs": [],
            "source": [
                "# Spot cases where the error is high\n",
                "# The lower the value, the higher the error -> remove the lowest probabilities"
            ]
        },
        {
            "cell_type": "markdown",
            "metadata": {},
            "source": [
                "# N days, exact vs approximate inference"
            ]
        },
        {
            "cell_type": "code",
            "execution_count": null,
            "metadata": {},
            "outputs": [],
            "source": [
                "# Exact inference: I need a modular way to create Bayesian Networks - that get bigger with the number of days\n",
                "# Approx inference: just add more days as input"
            ]
        },
        {
            "cell_type": "code",
            "execution_count": 3,
            "metadata": {},
            "outputs": [
                {
                    "name": "stdout",
                    "output_type": "stream",
                    "text": [
                        "days concse 1 days total 1\n"
                    ]
                },
                {
                    "ename": "IndexError",
                    "evalue": "only integers, slices (`:`), ellipsis (`...`), numpy.newaxis (`None`) and integer or boolean arrays are valid indices",
                    "output_type": "error",
                    "traceback": [
                        "\u001b[0;31m---------------------------------------------------------------------------\u001b[0m",
                        "\u001b[0;31mIndexError\u001b[0m                                Traceback (most recent call last)",
                        "Cell \u001b[0;32mIn[3], line 115\u001b[0m\n\u001b[1;32m    111\u001b[0m     df_n_days \u001b[38;5;241m=\u001b[39m df_for_ID\u001b[38;5;241m.\u001b[39miloc[chosen_idx_sequence]\n\u001b[1;32m    113\u001b[0m \u001b[38;5;66;03m# Approximate inference\u001b[39;00m\n\u001b[1;32m    114\u001b[0m df_query_res, df_res_before_convergence, shared_vars_final \u001b[38;5;241m=\u001b[39m (\n\u001b[0;32m--> 115\u001b[0m     \u001b[43mslicing\u001b[49m\u001b[38;5;241;43m.\u001b[39;49m\u001b[43mquery_forwardly_across_days\u001b[49m\u001b[43m(\u001b[49m\n\u001b[1;32m    116\u001b[0m \u001b[43m        \u001b[49m\u001b[43mdf_n_days\u001b[49m\u001b[43m,\u001b[49m\n\u001b[1;32m    117\u001b[0m \u001b[43m        \u001b[49m\u001b[43minf_alg_approx\u001b[49m\u001b[43m,\u001b[49m\n\u001b[1;32m    118\u001b[0m \u001b[43m        \u001b[49m\u001b[43mshared_vars_approx\u001b[49m\u001b[43m,\u001b[49m\n\u001b[1;32m    119\u001b[0m \u001b[43m        \u001b[49m\u001b[43mvars_approx\u001b[49m\u001b[43m,\u001b[49m\n\u001b[1;32m    120\u001b[0m \u001b[43m        \u001b[49m\u001b[43mobs_var_names_approx\u001b[49m\u001b[43m,\u001b[49m\n\u001b[1;32m    121\u001b[0m \u001b[43m        \u001b[49m\u001b[38;5;241;43m1e-8\u001b[39;49m\u001b[43m,\u001b[49m\n\u001b[1;32m    122\u001b[0m \u001b[43m        \u001b[49m\u001b[43mdebug\u001b[49m\u001b[38;5;241;43m=\u001b[39;49m\u001b[38;5;28;43;01mFalse\u001b[39;49;00m\u001b[43m,\u001b[49m\n\u001b[1;32m    123\u001b[0m \u001b[43m        \u001b[49m\u001b[43mauto_reset_shared_vars\u001b[49m\u001b[38;5;241;43m=\u001b[39;49m\u001b[38;5;28;43;01mTrue\u001b[39;49;00m\u001b[43m,\u001b[49m\n\u001b[1;32m    124\u001b[0m \u001b[43m    \u001b[49m\u001b[43m)\u001b[49m\n\u001b[1;32m    125\u001b[0m )\n\u001b[1;32m    126\u001b[0m hfev1_approx \u001b[38;5;241m=\u001b[39m df_query_res\u001b[38;5;241m.\u001b[39mloc[\u001b[38;5;241m0\u001b[39m, HFEV1\u001b[38;5;241m.\u001b[39mname]\n\u001b[1;32m    127\u001b[0m ho2sat_approx \u001b[38;5;241m=\u001b[39m df_query_res\u001b[38;5;241m.\u001b[39mloc[\u001b[38;5;241m0\u001b[39m, HO2Sat\u001b[38;5;241m.\u001b[39mname]\n",
                        "File \u001b[0;32m~/Desktop/PhD/Code/phd/src/inference/long_inf_slicing.py:184\u001b[0m, in \u001b[0;36mquery_forwardly_across_days\u001b[0;34m(df, belief_propagation, shared_variables, variables, evidence_variables, diff_threshold, precomp_messages, debug, auto_reset_shared_vars)\u001b[0m\n\u001b[1;32m    180\u001b[0m \u001b[38;5;28;01mif\u001b[39;00m ref \u001b[38;5;129;01min\u001b[39;00m m_from_ecfev1_dict:\n\u001b[1;32m    181\u001b[0m     precomp_messages[m_from_ecfev1_key] \u001b[38;5;241m=\u001b[39m m_from_ecfev1_dict[ref][\n\u001b[1;32m    182\u001b[0m         m_from_ecfev1_key\n\u001b[1;32m    183\u001b[0m     ]\n\u001b[0;32m--> 184\u001b[0m query_res, query_messages \u001b[38;5;241m=\u001b[39m \u001b[43mbelief_propagation\u001b[49m\u001b[38;5;241;43m.\u001b[39;49m\u001b[43mquery\u001b[49m\u001b[43m(\u001b[49m\n\u001b[1;32m    185\u001b[0m \u001b[43m    \u001b[49m\u001b[43mvars_to_infer\u001b[49m\u001b[43m,\u001b[49m\u001b[43m \u001b[49m\u001b[43mevidence_dict\u001b[49m\u001b[43m,\u001b[49m\u001b[43m \u001b[49m\u001b[43mvevidence\u001b[49m\u001b[43m,\u001b[49m\u001b[43m \u001b[49m\u001b[38;5;28;43;01mTrue\u001b[39;49;00m\u001b[43m,\u001b[49m\u001b[43m \u001b[49m\u001b[43mprecomp_messages\u001b[49m\n\u001b[1;32m    186\u001b[0m \u001b[43m\u001b[49m\u001b[43m)\u001b[49m\n\u001b[1;32m    187\u001b[0m df_res_before_convergence \u001b[38;5;241m=\u001b[39m save_res_to_df(\n\u001b[1;32m    188\u001b[0m     df_res_before_convergence,\n\u001b[1;32m    189\u001b[0m     \u001b[38;5;124mf\u001b[39m\u001b[38;5;124m\"\u001b[39m\u001b[38;5;132;01m{\u001b[39;00mepoch\u001b[38;5;132;01m}\u001b[39;00m\u001b[38;5;124m, \u001b[39m\u001b[38;5;132;01m{\u001b[39;00mday\u001b[38;5;132;01m}\u001b[39;00m\u001b[38;5;124m\"\u001b[39m,\n\u001b[0;32m   (...)\u001b[0m\n\u001b[1;32m    193\u001b[0m     evidence_variables,\n\u001b[1;32m    194\u001b[0m )\n\u001b[1;32m    195\u001b[0m \u001b[38;5;28;01mfor\u001b[39;00m shared_var \u001b[38;5;129;01min\u001b[39;00m shared_variables:\n\u001b[1;32m    196\u001b[0m     \u001b[38;5;66;03m# Get newly computed message from the query output\u001b[39;00m\n",
                        "File \u001b[0;32m~/Desktop/PhD/Code/pgmpy/pgmpy/inference/ExactInference.py:1534\u001b[0m, in \u001b[0;36mBeliefPropagationWithMessageParsing.query\u001b[0;34m(self, variables, evidence, virtual_evidence, get_messages, precomp_messages)\u001b[0m\n\u001b[1;32m   1522\u001b[0m         \u001b[38;5;28;01mraise\u001b[39;00m \u001b[38;5;167;01mValueError\u001b[39;00m(\n\u001b[1;32m   1523\u001b[0m             \u001b[38;5;124mf\u001b[39m\u001b[38;5;124m\"\u001b[39m\u001b[38;5;124mCan\u001b[39m\u001b[38;5;124m'\u001b[39m\u001b[38;5;124mt have the same variables in both `evidence` and `virtual_evidence`. Found in both: \u001b[39m\u001b[38;5;132;01m{\u001b[39;00mcommon_vars\u001b[38;5;132;01m}\u001b[39;00m\u001b[38;5;124m\"\u001b[39m\n\u001b[1;32m   1524\u001b[0m         )\n\u001b[1;32m   1526\u001b[0m query \u001b[38;5;241m=\u001b[39m \u001b[38;5;28mself\u001b[39m\u001b[38;5;241m.\u001b[39m_RecursiveMessageSchedulingQuery(\n\u001b[1;32m   1527\u001b[0m     \u001b[38;5;28mself\u001b[39m,\n\u001b[1;32m   1528\u001b[0m     variables,\n\u001b[0;32m   (...)\u001b[0m\n\u001b[1;32m   1532\u001b[0m     precomp_messages,\n\u001b[1;32m   1533\u001b[0m )\n\u001b[0;32m-> 1534\u001b[0m \u001b[38;5;28;01mreturn\u001b[39;00m \u001b[43mquery\u001b[49m\u001b[38;5;241;43m.\u001b[39;49m\u001b[43mrun\u001b[49m\u001b[43m(\u001b[49m\u001b[43m)\u001b[49m\n",
                        "File \u001b[0;32m~/Desktop/PhD/Code/pgmpy/pgmpy/inference/ExactInference.py:1305\u001b[0m, in \u001b[0;36mBeliefPropagationWithMessageParsing._RecursiveMessageSchedulingQuery.run\u001b[0;34m(self)\u001b[0m\n\u001b[1;32m   1303\u001b[0m agg_res \u001b[38;5;241m=\u001b[39m {}\n\u001b[1;32m   1304\u001b[0m \u001b[38;5;28;01mfor\u001b[39;00m variable \u001b[38;5;129;01min\u001b[39;00m \u001b[38;5;28mself\u001b[39m\u001b[38;5;241m.\u001b[39mvariables:\n\u001b[0;32m-> 1305\u001b[0m     res \u001b[38;5;241m=\u001b[39m \u001b[38;5;28;43mself\u001b[39;49m\u001b[38;5;241;43m.\u001b[39;49m\u001b[43mschedule_variable_node_messages\u001b[49m\u001b[43m(\u001b[49m\n\u001b[1;32m   1306\u001b[0m \u001b[43m        \u001b[49m\u001b[43mvariable\u001b[49m\u001b[43m,\u001b[49m\n\u001b[1;32m   1307\u001b[0m \u001b[43m        \u001b[49m\u001b[43mfrom_factor\u001b[49m\u001b[38;5;241;43m=\u001b[39;49m\u001b[38;5;28;43;01mNone\u001b[39;49;00m\u001b[43m,\u001b[49m\n\u001b[1;32m   1308\u001b[0m \u001b[43m    \u001b[49m\u001b[43m)\u001b[49m\n\u001b[1;32m   1309\u001b[0m     agg_res[variable] \u001b[38;5;241m=\u001b[39m DiscreteFactor([variable], [\u001b[38;5;28mlen\u001b[39m(res)], res)\n\u001b[1;32m   1310\u001b[0m \u001b[38;5;28;01mif\u001b[39;00m \u001b[38;5;28mself\u001b[39m\u001b[38;5;241m.\u001b[39mget_messages:\n",
                        "File \u001b[0;32m~/Desktop/PhD/Code/pgmpy/pgmpy/inference/ExactInference.py:1375\u001b[0m, in \u001b[0;36mBeliefPropagationWithMessageParsing._RecursiveMessageSchedulingQuery.schedule_variable_node_messages\u001b[0;34m(self, variable, from_factor)\u001b[0m\n\u001b[1;32m   1372\u001b[0m         incoming_message \u001b[38;5;241m=\u001b[39m \u001b[38;5;28mself\u001b[39m\u001b[38;5;241m.\u001b[39mall_messages[factor_node_key]\n\u001b[1;32m   1373\u001b[0m     \u001b[38;5;28;01melse\u001b[39;00m:\n\u001b[1;32m   1374\u001b[0m         \u001b[38;5;66;03m# If not compute it and store it\u001b[39;00m\n\u001b[0;32m-> 1375\u001b[0m         incoming_message \u001b[38;5;241m=\u001b[39m \u001b[38;5;28;43mself\u001b[39;49m\u001b[38;5;241;43m.\u001b[39;49m\u001b[43mschedule_factor_node_messages\u001b[49m\u001b[43m(\u001b[49m\n\u001b[1;32m   1376\u001b[0m \u001b[43m            \u001b[49m\u001b[43mfactor\u001b[49m\u001b[43m,\u001b[49m\u001b[43m \u001b[49m\u001b[43mvariable\u001b[49m\n\u001b[1;32m   1377\u001b[0m \u001b[43m        \u001b[49m\u001b[43m)\u001b[49m\n\u001b[1;32m   1378\u001b[0m         \u001b[38;5;28mself\u001b[39m\u001b[38;5;241m.\u001b[39mall_messages[factor_node_key] \u001b[38;5;241m=\u001b[39m incoming_message\n\u001b[1;32m   1379\u001b[0m \u001b[38;5;28;01melse\u001b[39;00m:\n",
                        "File \u001b[0;32m~/Desktop/PhD/Code/pgmpy/pgmpy/inference/ExactInference.py:1417\u001b[0m, in \u001b[0;36mBeliefPropagationWithMessageParsing._RecursiveMessageSchedulingQuery.schedule_factor_node_messages\u001b[0;34m(self, factor, from_variable)\u001b[0m\n\u001b[1;32m   1414\u001b[0m         incoming_message \u001b[38;5;241m=\u001b[39m \u001b[38;5;28mself\u001b[39m\u001b[38;5;241m.\u001b[39mall_messages[node_factor_key]\n\u001b[1;32m   1415\u001b[0m     \u001b[38;5;28;01melse\u001b[39;00m:\n\u001b[1;32m   1416\u001b[0m         \u001b[38;5;66;03m# If not compute it and store it\u001b[39;00m\n\u001b[0;32m-> 1417\u001b[0m         incoming_message \u001b[38;5;241m=\u001b[39m \u001b[38;5;28;43mself\u001b[39;49m\u001b[38;5;241;43m.\u001b[39;49m\u001b[43mschedule_variable_node_messages\u001b[49m\u001b[43m(\u001b[49m\n\u001b[1;32m   1418\u001b[0m \u001b[43m            \u001b[49m\u001b[43mvar\u001b[49m\u001b[43m,\u001b[49m\u001b[43m \u001b[49m\u001b[43mfactor\u001b[49m\n\u001b[1;32m   1419\u001b[0m \u001b[43m        \u001b[49m\u001b[43m)\u001b[49m\n\u001b[1;32m   1420\u001b[0m         \u001b[38;5;28mself\u001b[39m\u001b[38;5;241m.\u001b[39mall_messages[node_factor_key] \u001b[38;5;241m=\u001b[39m incoming_message\n\u001b[1;32m   1421\u001b[0m \u001b[38;5;28;01melse\u001b[39;00m:\n",
                        "File \u001b[0;32m~/Desktop/PhD/Code/pgmpy/pgmpy/inference/ExactInference.py:1375\u001b[0m, in \u001b[0;36mBeliefPropagationWithMessageParsing._RecursiveMessageSchedulingQuery.schedule_variable_node_messages\u001b[0;34m(self, variable, from_factor)\u001b[0m\n\u001b[1;32m   1372\u001b[0m         incoming_message \u001b[38;5;241m=\u001b[39m \u001b[38;5;28mself\u001b[39m\u001b[38;5;241m.\u001b[39mall_messages[factor_node_key]\n\u001b[1;32m   1373\u001b[0m     \u001b[38;5;28;01melse\u001b[39;00m:\n\u001b[1;32m   1374\u001b[0m         \u001b[38;5;66;03m# If not compute it and store it\u001b[39;00m\n\u001b[0;32m-> 1375\u001b[0m         incoming_message \u001b[38;5;241m=\u001b[39m \u001b[38;5;28;43mself\u001b[39;49m\u001b[38;5;241;43m.\u001b[39;49m\u001b[43mschedule_factor_node_messages\u001b[49m\u001b[43m(\u001b[49m\n\u001b[1;32m   1376\u001b[0m \u001b[43m            \u001b[49m\u001b[43mfactor\u001b[49m\u001b[43m,\u001b[49m\u001b[43m \u001b[49m\u001b[43mvariable\u001b[49m\n\u001b[1;32m   1377\u001b[0m \u001b[43m        \u001b[49m\u001b[43m)\u001b[49m\n\u001b[1;32m   1378\u001b[0m         \u001b[38;5;28mself\u001b[39m\u001b[38;5;241m.\u001b[39mall_messages[factor_node_key] \u001b[38;5;241m=\u001b[39m incoming_message\n\u001b[1;32m   1379\u001b[0m \u001b[38;5;28;01melse\u001b[39;00m:\n",
                        "File \u001b[0;32m~/Desktop/PhD/Code/pgmpy/pgmpy/inference/ExactInference.py:1417\u001b[0m, in \u001b[0;36mBeliefPropagationWithMessageParsing._RecursiveMessageSchedulingQuery.schedule_factor_node_messages\u001b[0;34m(self, factor, from_variable)\u001b[0m\n\u001b[1;32m   1414\u001b[0m         incoming_message \u001b[38;5;241m=\u001b[39m \u001b[38;5;28mself\u001b[39m\u001b[38;5;241m.\u001b[39mall_messages[node_factor_key]\n\u001b[1;32m   1415\u001b[0m     \u001b[38;5;28;01melse\u001b[39;00m:\n\u001b[1;32m   1416\u001b[0m         \u001b[38;5;66;03m# If not compute it and store it\u001b[39;00m\n\u001b[0;32m-> 1417\u001b[0m         incoming_message \u001b[38;5;241m=\u001b[39m \u001b[38;5;28;43mself\u001b[39;49m\u001b[38;5;241;43m.\u001b[39;49m\u001b[43mschedule_variable_node_messages\u001b[49m\u001b[43m(\u001b[49m\n\u001b[1;32m   1418\u001b[0m \u001b[43m            \u001b[49m\u001b[43mvar\u001b[49m\u001b[43m,\u001b[49m\u001b[43m \u001b[49m\u001b[43mfactor\u001b[49m\n\u001b[1;32m   1419\u001b[0m \u001b[43m        \u001b[49m\u001b[43m)\u001b[49m\n\u001b[1;32m   1420\u001b[0m         \u001b[38;5;28mself\u001b[39m\u001b[38;5;241m.\u001b[39mall_messages[node_factor_key] \u001b[38;5;241m=\u001b[39m incoming_message\n\u001b[1;32m   1421\u001b[0m \u001b[38;5;28;01melse\u001b[39;00m:\n",
                        "    \u001b[0;31m[... skipping similar frames: BeliefPropagationWithMessageParsing._RecursiveMessageSchedulingQuery.schedule_factor_node_messages at line 1417 (1 times), BeliefPropagationWithMessageParsing._RecursiveMessageSchedulingQuery.schedule_variable_node_messages at line 1375 (1 times)]\u001b[0m\n",
                        "File \u001b[0;32m~/Desktop/PhD/Code/pgmpy/pgmpy/inference/ExactInference.py:1375\u001b[0m, in \u001b[0;36mBeliefPropagationWithMessageParsing._RecursiveMessageSchedulingQuery.schedule_variable_node_messages\u001b[0;34m(self, variable, from_factor)\u001b[0m\n\u001b[1;32m   1372\u001b[0m         incoming_message \u001b[38;5;241m=\u001b[39m \u001b[38;5;28mself\u001b[39m\u001b[38;5;241m.\u001b[39mall_messages[factor_node_key]\n\u001b[1;32m   1373\u001b[0m     \u001b[38;5;28;01melse\u001b[39;00m:\n\u001b[1;32m   1374\u001b[0m         \u001b[38;5;66;03m# If not compute it and store it\u001b[39;00m\n\u001b[0;32m-> 1375\u001b[0m         incoming_message \u001b[38;5;241m=\u001b[39m \u001b[38;5;28;43mself\u001b[39;49m\u001b[38;5;241;43m.\u001b[39;49m\u001b[43mschedule_factor_node_messages\u001b[49m\u001b[43m(\u001b[49m\n\u001b[1;32m   1376\u001b[0m \u001b[43m            \u001b[49m\u001b[43mfactor\u001b[49m\u001b[43m,\u001b[49m\u001b[43m \u001b[49m\u001b[43mvariable\u001b[49m\n\u001b[1;32m   1377\u001b[0m \u001b[43m        \u001b[49m\u001b[43m)\u001b[49m\n\u001b[1;32m   1378\u001b[0m         \u001b[38;5;28mself\u001b[39m\u001b[38;5;241m.\u001b[39mall_messages[factor_node_key] \u001b[38;5;241m=\u001b[39m incoming_message\n\u001b[1;32m   1379\u001b[0m \u001b[38;5;28;01melse\u001b[39;00m:\n",
                        "File \u001b[0;32m~/Desktop/PhD/Code/pgmpy/pgmpy/inference/ExactInference.py:1417\u001b[0m, in \u001b[0;36mBeliefPropagationWithMessageParsing._RecursiveMessageSchedulingQuery.schedule_factor_node_messages\u001b[0;34m(self, factor, from_variable)\u001b[0m\n\u001b[1;32m   1414\u001b[0m         incoming_message \u001b[38;5;241m=\u001b[39m \u001b[38;5;28mself\u001b[39m\u001b[38;5;241m.\u001b[39mall_messages[node_factor_key]\n\u001b[1;32m   1415\u001b[0m     \u001b[38;5;28;01melse\u001b[39;00m:\n\u001b[1;32m   1416\u001b[0m         \u001b[38;5;66;03m# If not compute it and store it\u001b[39;00m\n\u001b[0;32m-> 1417\u001b[0m         incoming_message \u001b[38;5;241m=\u001b[39m \u001b[38;5;28;43mself\u001b[39;49m\u001b[38;5;241;43m.\u001b[39;49m\u001b[43mschedule_variable_node_messages\u001b[49m\u001b[43m(\u001b[49m\n\u001b[1;32m   1418\u001b[0m \u001b[43m            \u001b[49m\u001b[43mvar\u001b[49m\u001b[43m,\u001b[49m\u001b[43m \u001b[49m\u001b[43mfactor\u001b[49m\n\u001b[1;32m   1419\u001b[0m \u001b[43m        \u001b[49m\u001b[43m)\u001b[49m\n\u001b[1;32m   1420\u001b[0m         \u001b[38;5;28mself\u001b[39m\u001b[38;5;241m.\u001b[39mall_messages[node_factor_key] \u001b[38;5;241m=\u001b[39m incoming_message\n\u001b[1;32m   1421\u001b[0m \u001b[38;5;28;01melse\u001b[39;00m:\n",
                        "File \u001b[0;32m~/Desktop/PhD/Code/pgmpy/pgmpy/inference/ExactInference.py:1335\u001b[0m, in \u001b[0;36mBeliefPropagationWithMessageParsing._RecursiveMessageSchedulingQuery.schedule_variable_node_messages\u001b[0;34m(self, variable, from_factor)\u001b[0m\n\u001b[1;32m   1320\u001b[0m \u001b[38;5;250m\u001b[39m\u001b[38;5;124;03m\"\"\"\u001b[39;00m\n\u001b[1;32m   1321\u001b[0m \u001b[38;5;124;03mReturns the message sent by the variable to the factor requesting it.\u001b[39;00m\n\u001b[1;32m   1322\u001b[0m \u001b[38;5;124;03mFor that, the variable requests the messages coming from its neighbouring\u001b[39;00m\n\u001b[0;32m   (...)\u001b[0m\n\u001b[1;32m   1331\u001b[0m \u001b[38;5;124;03m    None for the first time this function is called.\u001b[39;00m\n\u001b[1;32m   1332\u001b[0m \u001b[38;5;124;03m\"\"\"\u001b[39;00m\n\u001b[1;32m   1333\u001b[0m \u001b[38;5;28;01mif\u001b[39;00m \u001b[38;5;28mself\u001b[39m\u001b[38;5;241m.\u001b[39mevidence \u001b[38;5;129;01mis\u001b[39;00m \u001b[38;5;129;01mnot\u001b[39;00m \u001b[38;5;28;01mNone\u001b[39;00m \u001b[38;5;129;01mand\u001b[39;00m variable \u001b[38;5;129;01min\u001b[39;00m \u001b[38;5;28mself\u001b[39m\u001b[38;5;241m.\u001b[39mevidence\u001b[38;5;241m.\u001b[39mkeys():\n\u001b[1;32m   1334\u001b[0m     \u001b[38;5;66;03m# Is an observed variable\u001b[39;00m\n\u001b[0;32m-> 1335\u001b[0m     \u001b[38;5;28;01mreturn\u001b[39;00m \u001b[38;5;28;43mself\u001b[39;49m\u001b[38;5;241;43m.\u001b[39;49m\u001b[43mbp\u001b[49m\u001b[38;5;241;43m.\u001b[39;49m\u001b[43mmodel\u001b[49m\u001b[38;5;241;43m.\u001b[39;49m\u001b[43mget_point_mass_message\u001b[49m\u001b[43m(\u001b[49m\n\u001b[1;32m   1336\u001b[0m \u001b[43m        \u001b[49m\u001b[43mvariable\u001b[49m\u001b[43m,\u001b[49m\u001b[43m \u001b[49m\u001b[38;5;28;43mself\u001b[39;49m\u001b[38;5;241;43m.\u001b[39;49m\u001b[43mevidence\u001b[49m\u001b[43m[\u001b[49m\u001b[43mvariable\u001b[49m\u001b[43m]\u001b[49m\n\u001b[1;32m   1337\u001b[0m \u001b[43m    \u001b[49m\u001b[43m)\u001b[49m\n\u001b[1;32m   1339\u001b[0m virtual_messages \u001b[38;5;241m=\u001b[39m []\n\u001b[1;32m   1340\u001b[0m \u001b[38;5;28;01mif\u001b[39;00m (\n\u001b[1;32m   1341\u001b[0m     \u001b[38;5;28mself\u001b[39m\u001b[38;5;241m.\u001b[39mvirtual_evidence \u001b[38;5;129;01mis\u001b[39;00m \u001b[38;5;129;01mnot\u001b[39;00m \u001b[38;5;28;01mNone\u001b[39;00m\n\u001b[1;32m   1342\u001b[0m     \u001b[38;5;129;01mand\u001b[39;00m variable\n\u001b[1;32m   1343\u001b[0m     \u001b[38;5;129;01min\u001b[39;00m \u001b[38;5;28mself\u001b[39m\u001b[38;5;241m.\u001b[39mbp\u001b[38;5;241m.\u001b[39m_get_virtual_evidence_var_list(\u001b[38;5;28mself\u001b[39m\u001b[38;5;241m.\u001b[39mvirtual_evidence)\n\u001b[1;32m   1344\u001b[0m ):\n",
                        "File \u001b[0;32m~/Desktop/PhD/Code/pgmpy/pgmpy/models/FactorGraph.py:500\u001b[0m, in \u001b[0;36mFactorGraph.get_point_mass_message\u001b[0;34m(self, variable, observation)\u001b[0m\n\u001b[1;32m    498\u001b[0m \u001b[38;5;66;03m# Create an array with 1 at the index of the evidence and 0 elsewhere\u001b[39;00m\n\u001b[1;32m    499\u001b[0m message \u001b[38;5;241m=\u001b[39m np\u001b[38;5;241m.\u001b[39mzeros(card)\n\u001b[0;32m--> 500\u001b[0m message[observation] \u001b[38;5;241m=\u001b[39m \u001b[38;5;241m1\u001b[39m\n\u001b[1;32m    501\u001b[0m \u001b[38;5;28;01mreturn\u001b[39;00m message\n",
                        "\u001b[0;31mIndexError\u001b[0m: only integers, slices (`:`), ellipsis (`...`), numpy.newaxis (`None`) and integer or boolean arrays are valid indices"
                    ]
                }
            ],
            "source": [
                "# Obj: study HFEV1, HO2Sat approx posteriors deviation from exact value with increasing number of days\n",
                "# Uses model with FEV1, O2Sat\n",
                "\n",
                "n_days_consec_max = 3\n",
                "with_max_FEV1_after_first_round = True\n",
                "with_max_FEV1_at_first_round = False\n",
                "\n",
                "df_diffs = pd.DataFrame({})\n",
                "first_run = True\n",
                "debug = False\n",
                "n_days_total_max = (\n",
                "    n_days_consec_max + 1 if with_max_FEV1_after_first_round else n_days_consec_max\n",
                ")\n",
                "\n",
                "with_max_FEV1 = with_max_FEV1_at_first_round\n",
                "\n",
                "# Run the first twice, once without the max FEV1 index, then with\n",
                "for n_days_consec in [1] + list(range(1, n_days_consec_max + 1)):\n",
                "    # for n_days_consec in list(range(1, n_days_consec_max + 1)):\n",
                "    df_res = pd.DataFrame({})\n",
                "    n_days_total = n_days_consec + 1 if with_max_FEV1 else n_days_consec\n",
                "    print(\"days concse\", n_days_consec, \"days total\", n_days_total)\n",
                "    if debug:\n",
                "        print(f\"{n_days_total} days, {n_days_consec} consecutive days\")\n",
                "\n",
                "    for id in df.ID.unique():\n",
                "        # for id in [\"101\", \"102\"]:\n",
                "        if debug:\n",
                "            print(f\"ID: {id}\")\n",
                "        df_for_ID = df[df[\"ID\"] == id].reset_index()\n",
                "\n",
                "        # Set values\n",
                "        height = df_for_ID.Height.iloc[0]\n",
                "        age = df_for_ID.Age.iloc[0]\n",
                "        sex = df_for_ID.Sex.iloc[0]\n",
                "\n",
                "        idx_max_FEV1 = df_for_ID.sort_values(\n",
                "            by=[\"ecFEV1\", \"ecFEF2575\", \"O2 Saturation\"], ascending=False\n",
                "        ).index[0]\n",
                "\n",
                "        # If df length is less than n_days, skip\n",
                "        if len(df_for_ID) < n_days_total_max:\n",
                "            print(f\"Too few data, skipping ID {id}\")\n",
                "            continue\n",
                "\n",
                "        # If idx_max_FEV1 is in the first n_days, skip\n",
                "        if idx_max_FEV1 < n_days_total_max:\n",
                "            print(f\"Max FEV1 in the first {n_days_total_max} days, skipping ID {id}\")\n",
                "            continue\n",
                "\n",
                "        # Variable listing used the set up parameters, not to infer\n",
                "        (\n",
                "            _,\n",
                "            inf_alg_approx,\n",
                "            HFEV1,\n",
                "            ecFEV1,\n",
                "            AR,\n",
                "            HO2Sat,\n",
                "            O2SatFFA,\n",
                "            IA,\n",
                "            UO2Sat,\n",
                "            O2Sat,\n",
                "        ) = mb.o2sat_fev1_point_in_time_model_shared_healthy_vars_light(\n",
                "            height, age, sex\n",
                "        )\n",
                "\n",
                "        # Set variables parametrisation\n",
                "        key_hfev1 = f\"['{ecFEV1.name}', '{HFEV1.name}', '{AR.name}'] -> {HFEV1.name}\"\n",
                "        key_ho2sat = (\n",
                "            f\"['{O2SatFFA.name}', '{HO2Sat.name}', '{AR.name}'] -> {HO2Sat.name}\"\n",
                "        )\n",
                "        HFEV1.set_factor_node_key(key_hfev1)\n",
                "        HO2Sat.set_factor_node_key(key_ho2sat)\n",
                "\n",
                "        # Set inputs for approximate inference\n",
                "        shared_vars_approx = [HFEV1, HO2Sat]\n",
                "        vars_approx = []\n",
                "        obs_var_names_approx = [ecFEV1.name, O2Sat.name]\n",
                "\n",
                "        (\n",
                "            model_exact,\n",
                "            inf_alg_exact,\n",
                "            HFEV1,\n",
                "            HO2Sat,\n",
                "            AR_vars,\n",
                "            ecFEV1_vars,\n",
                "            O2SatFFA_vars,\n",
                "            IA_vars,\n",
                "            UO2Sat_vars,\n",
                "            O2Sat_vars,\n",
                "        ) = mb.o2_sat_fev1_n_days_model_light(n_days_total, height, age, sex)\n",
                "        shared_vars_exact = [HFEV1, HO2Sat]\n",
                "\n",
                "        # Take random element from df_for_ID.index\n",
                "        np.random.seed(0)\n",
                "\n",
                "        chosen_idx_sequence = [idx_max_FEV1]\n",
                "        # !!! BEWARE THIS IS SEQUENTIAL INDICES, NOT SEQUENTIAL DAYS !!!\n",
                "        while idx_max_FEV1 in chosen_idx_sequence:\n",
                "            chosen_idx_sequence = np.random.choice(\n",
                "                list(range(0, len(df_for_ID) - n_days_total)), 1\n",
                "            )\n",
                "            # For each entry in idx_list, add consecutive idx to get n_days\n",
                "            chosen_idx_sequence = list(\n",
                "                range(chosen_idx_sequence[0], chosen_idx_sequence[0] + n_days_consec)\n",
                "            )\n",
                "\n",
                "        if with_max_FEV1:\n",
                "            df_n_days = df_for_ID.iloc[chosen_idx_sequence + [idx_max_FEV1]]\n",
                "        else:\n",
                "            df_n_days = df_for_ID.iloc[chosen_idx_sequence]\n",
                "\n",
                "        # Approximate inference\n",
                "        df_query_res, df_res_before_convergence, shared_vars_final = (\n",
                "            slicing.query_forwardly_across_days(\n",
                "                df_n_days,\n",
                "                inf_alg_approx,\n",
                "                shared_vars_approx,\n",
                "                vars_approx,\n",
                "                obs_var_names_approx,\n",
                "                1e-8,\n",
                "                debug=False,\n",
                "                auto_reset_shared_vars=True,\n",
                "            )\n",
                "        )\n",
                "        hfev1_approx = df_query_res.loc[0, HFEV1.name]\n",
                "        ho2sat_approx = df_query_res.loc[0, HO2Sat.name]\n",
                "\n",
                "        # Exact inference\n",
                "        obs_vars_exact = []\n",
                "        for j in range(n_days_total):\n",
                "            ecfev1_obs = df_n_days.reset_index().loc[j, \"ecFEV1\"]\n",
                "            o2sat_obs = df_n_days.reset_index().loc[j, \"O2 Saturation\"]\n",
                "            obs_vars_exact = obs_vars_exact + [\n",
                "                [ecFEV1_vars[j], ecfev1_obs],\n",
                "                [O2Sat_vars[j], o2sat_obs],\n",
                "            ]\n",
                "\n",
                "        res_exact = ih.infer(\n",
                "            inference_alg=inf_alg_exact,\n",
                "            variables=shared_vars_exact,\n",
                "            evidence=obs_vars_exact,\n",
                "            debug=False,\n",
                "        )\n",
                "        hfev1_exact = res_exact[HFEV1.name].values\n",
                "        ho2sat_exact = res_exact[HO2Sat.name].values\n",
                "\n",
                "        # Add row to df_res\n",
                "        row = {\n",
                "            \"ID\": df_for_ID.loc[chosen_idx_sequence[0], \"ID\"],\n",
                "            \"Day 1\": df_for_ID.loc[chosen_idx_sequence[0], \"Date Recorded\"],\n",
                "            f\"{n_days_total} days HFEV1 exact inf\": hfev1_exact,\n",
                "            f\"{n_days_total} days HFEV1 approx inf\": hfev1_approx,\n",
                "            f\"{n_days_total} days HO2Sat exact inf\": ho2sat_exact,\n",
                "            f\"{n_days_total} days HO2Sat approx inf\": ho2sat_approx,\n",
                "        }\n",
                "\n",
                "        dt_tmp = pd.Series(row).to_frame().T\n",
                "\n",
                "        df_res = pd.concat([df_res, dt_tmp])\n",
                "\n",
                "        def max_diff(exact, approx):\n",
                "            \"\"\"\n",
                "            In the end I will just apply the max diff because 1/ it's easiest to interpret,\n",
                "            and 2/ it reveals the changes in the highest values, which is what we are interested in\n",
                "            \"\"\"\n",
                "            return max(np.abs(exact - approx))\n",
                "\n",
                "        df_res[f\"{n_days_total} days HFEV1 max diff\"] = df_res.apply(\n",
                "            lambda row: max_diff(\n",
                "                row[f\"{n_days_total} days HFEV1 exact inf\"],\n",
                "                row[f\"{n_days_total} days HFEV1 approx inf\"],\n",
                "            ),\n",
                "            axis=1,\n",
                "        )\n",
                "        df_res[f\"{n_days_total} days HO2Sat max diff\"] = df_res.apply(\n",
                "            lambda row: max_diff(\n",
                "                row[f\"{n_days_total} days HO2Sat exact inf\"],\n",
                "                row[f\"{n_days_total} days HO2Sat approx inf\"],\n",
                "            ),\n",
                "            axis=1,\n",
                "        )\n",
                "\n",
                "    if first_run:\n",
                "        df_diffs = df_res[\n",
                "            [\n",
                "                \"ID\",\n",
                "                \"Day 1\",\n",
                "                f\"{n_days_total} days HFEV1 exact inf\",\n",
                "                f\"{n_days_total} days HFEV1 approx inf\",\n",
                "                f\"{n_days_total} days HFEV1 max diff\",\n",
                "                f\"{n_days_total} days HO2Sat max diff\",\n",
                "            ]\n",
                "        ]\n",
                "        first_run = False\n",
                "        if with_max_FEV1_after_first_round:\n",
                "            with_max_FEV1 = True\n",
                "        else:\n",
                "            with_max_FEV1 = False\n",
                "    else:\n",
                "        # Merge df_res with df_diffs\n",
                "        df_diffs = pd.concat(\n",
                "            [\n",
                "                df_diffs,\n",
                "                df_res[\n",
                "                    [\n",
                "                        f\"{n_days_total} days HFEV1 exact inf\",\n",
                "                        f\"{n_days_total} days HFEV1 approx inf\",\n",
                "                        f\"{n_days_total} days HFEV1 max diff\",\n",
                "                        f\"{n_days_total} days HO2Sat max diff\",\n",
                "                    ]\n",
                "                ],\n",
                "            ],\n",
                "            axis=1,\n",
                "        )"
            ]
        },
        {
            "cell_type": "markdown",
            "metadata": {},
            "source": [
                "### Create and save full df_diffs"
            ]
        },
        {
            "cell_type": "code",
            "execution_count": null,
            "metadata": {},
            "outputs": [],
            "source": [
                "right_cols = [\n",
                "    \"ecFEV1\",\n",
                "    \"O2 Saturation\",\n",
                "    \"idx ecFEV1 (L)\",\n",
                "    \"idx O2 saturation (%)\",\n",
                "    \"Max ecFEV1\",\n",
                "    \"ID\",\n",
                "    \"Date Recorded\",\n",
                "    \"Age\",\n",
                "    \"Sex\",\n",
                "    \"Height\",\n",
                "]\n",
                "df_diffs1 = df_diffs\n",
                "df_diffs = df_diffs1.merge(\n",
                "    df[right_cols], right_on=[\"ID\", \"Date Recorded\"], left_on=[\"ID\", \"Day 1\"]\n",
                ").drop(columns=[\"Date Recorded\"])"
            ]
        },
        {
            "cell_type": "code",
            "execution_count": null,
            "metadata": {},
            "outputs": [],
            "source": [
                "df_diffs[f\"idx Max ecFEV1\"] = df_diffs.apply(\n",
                "    lambda row: ih.get_bin_for_value(row[\"Max ecFEV1\"], ecFEV1)[1], axis=1\n",
                ")"
            ]
        },
        {
            "cell_type": "code",
            "execution_count": null,
            "metadata": {},
            "outputs": [],
            "source": [
                "# if merged two times\n",
                "# df_diffs = df_diffs.drop(columns=['ecFEV1_x',\n",
                "#        'O2 Saturation_x', 'idx ecFEV1 (L)_x', 'idx O2 saturation (%)_x',\n",
                "#        'Age_x', 'Sex_x', 'Height_x'])\n",
                "# Rename columns\n",
                "df_diffs = df_diffs.rename(\n",
                "    columns={\n",
                "        \"ecFEV1_y\": \"ecFEV1\",\n",
                "        \"O2 Saturation_y\": \"O2 Saturation\",\n",
                "        \"idx ecFEV1 (L)_y\": \"idx ecFEV1 (L)\",\n",
                "        \"idx O2 saturation (%)_y\": \"idx O2 saturation (%)\",\n",
                "        \"Age_y\": \"Age\",\n",
                "        \"Sex_y\": \"Sex\",\n",
                "        \"Height_y\": \"Height\",\n",
                "    }\n",
                ")"
            ]
        },
        {
            "cell_type": "code",
            "execution_count": null,
            "metadata": {},
            "outputs": [],
            "source": [
                "# df_diffs.to_excel(\n",
                "#     dh.get_path_to_main()\n",
                "#     + \"ExcelFiles/BR/n_days_model_approx_vs_exact_inference_diffs - with max FEV1.xlsx\",\n",
                "#     index=False,\n",
                "# )"
            ]
        },
        {
            "cell_type": "code",
            "execution_count": null,
            "metadata": {},
            "outputs": [],
            "source": [
                "# Load diff data\n",
                "df_diffs = bd.load_meas_from_excel(\n",
                "    \"n_days_model_approx_vs_exact_inference_diffs - with max FEV1\",\n",
                "    bypass_sanity_checks=True,\n",
                "    str_cols_to_arrays=[\n",
                "        \"1 days HFEV1 exact inf\",\n",
                "        \"1 days HFEV1 approx inf\",\n",
                "        \"2 days HFEV1 exact inf\",\n",
                "        \"2 days HFEV1 approx inf\",\n",
                "        \"3 days HFEV1 exact inf\",\n",
                "        \"3 days HFEV1 approx inf\",\n",
                "        \"4 days HFEV1 exact inf\",\n",
                "        \"4 days HFEV1 approx inf\",\n",
                "    ],\n",
                "    date_cols=[\"Day 1\"],\n",
                ")"
            ]
        },
        {
            "cell_type": "markdown",
            "metadata": {},
            "source": [
                "### Stability of the approximate inference"
            ]
        },
        {
            "cell_type": "code",
            "execution_count": null,
            "metadata": {},
            "outputs": [
                {
                    "ename": "NameError",
                    "evalue": "name 'with_max_FEV1_after_first_round' is not defined",
                    "output_type": "error",
                    "traceback": [
                        "\u001b[0;31m---------------------------------------------------------------------------\u001b[0m",
                        "\u001b[0;31mNameError\u001b[0m                                 Traceback (most recent call last)",
                        "Cell \u001b[0;32mIn[8], line 7\u001b[0m\n\u001b[1;32m      4\u001b[0m var \u001b[38;5;241m=\u001b[39m \u001b[38;5;124m\"\u001b[39m\u001b[38;5;124mHO2Sat\u001b[39m\u001b[38;5;124m\"\u001b[39m\n\u001b[1;32m      5\u001b[0m \u001b[38;5;66;03m# var = \"HFEV1\"\u001b[39;00m\n\u001b[0;32m----> 7\u001b[0m maxfev1 \u001b[38;5;241m=\u001b[39m \u001b[38;5;124m\"\u001b[39m\u001b[38;5;124m (max FEV1)\u001b[39m\u001b[38;5;124m\"\u001b[39m \u001b[38;5;28;01mif\u001b[39;00m \u001b[43mwith_max_FEV1_after_first_round\u001b[49m \u001b[38;5;28;01melse\u001b[39;00m \u001b[38;5;124m\"\u001b[39m\u001b[38;5;124m\"\u001b[39m\n\u001b[1;32m      9\u001b[0m ref_cols \u001b[38;5;241m=\u001b[39m [\u001b[38;5;124m\"\u001b[39m\u001b[38;5;124mID\u001b[39m\u001b[38;5;124m\"\u001b[39m, \u001b[38;5;124m\"\u001b[39m\u001b[38;5;124mDay 1\u001b[39m\u001b[38;5;124m\"\u001b[39m, \u001b[38;5;124m\"\u001b[39m\u001b[38;5;124mAge\u001b[39m\u001b[38;5;124m\"\u001b[39m, \u001b[38;5;124m\"\u001b[39m\u001b[38;5;124mSex\u001b[39m\u001b[38;5;124m\"\u001b[39m, \u001b[38;5;124m\"\u001b[39m\u001b[38;5;124mHeight\u001b[39m\u001b[38;5;124m\"\u001b[39m]\n\u001b[1;32m     11\u001b[0m col_to_plot \u001b[38;5;241m=\u001b[39m ref_cols \u001b[38;5;241m+\u001b[39m [\n\u001b[1;32m     12\u001b[0m     \u001b[38;5;124mf\u001b[39m\u001b[38;5;124m\"\u001b[39m\u001b[38;5;132;01m{\u001b[39;00mn_days\u001b[38;5;132;01m}\u001b[39;00m\u001b[38;5;124m days \u001b[39m\u001b[38;5;132;01m{\u001b[39;00mvar\u001b[38;5;132;01m}\u001b[39;00m\u001b[38;5;124m max diff\u001b[39m\u001b[38;5;124m\"\u001b[39m \u001b[38;5;28;01mfor\u001b[39;00m n_days \u001b[38;5;129;01min\u001b[39;00m \u001b[38;5;28mrange\u001b[39m(\u001b[38;5;241m1\u001b[39m, n_days_total_max \u001b[38;5;241m+\u001b[39m \u001b[38;5;241m1\u001b[39m)\n\u001b[1;32m     13\u001b[0m ]\n",
                        "\u001b[0;31mNameError\u001b[0m: name 'with_max_FEV1_after_first_round' is not defined"
                    ]
                }
            ],
            "source": [
                "# Create boxplots for each n days models\n",
                "import plotly.express as px\n",
                "\n",
                "var = \"HO2Sat\"\n",
                "# var = \"HFEV1\"\n",
                "\n",
                "maxfev1 = \" (max FEV1)\" if with_max_FEV1_after_first_round else \"\"\n",
                "\n",
                "ref_cols = [\"ID\", \"Day 1\", \"Age\", \"Sex\", \"Height\"]\n",
                "\n",
                "col_to_plot = ref_cols + [\n",
                "    f\"{n_days} days {var} max diff\" for n_days in range(1, n_days_total_max + 1)\n",
                "]\n",
                "new_col_names = (\n",
                "    ref_cols\n",
                "    + [\"1 day\"]\n",
                "    + [f\"{n_days} days{maxfev1}\" for n_days in range(2, n_days_total_max + 1)]\n",
                ")\n",
                "\n",
                "df_diffs_plot = df_diffs[col_to_plot]\n",
                "# Rename columns\n",
                "df_diffs_plot.columns = new_col_names\n",
                "\n",
                "df_diffs_melted = df_diffs_plot.melt(\n",
                "    # id_vars=[\"ID\", \"Day 1\", \"Day 1 idx\", \"Age\", \"Sex\", \"Height\"],\n",
                "    id_vars=ref_cols,\n",
                "    value_vars=new_col_names,\n",
                "    var_name=\"N days model\",\n",
                "    value_name=f\"Max absolute difference for {var}\",\n",
                ")\n",
                "\n",
                "title = f\"Exact vs approximate inference for {var} ({len(df_diffs_plot)} datapoints)\"\n",
                "\n",
                "fig = px.box(\n",
                "    df_diffs_melted,\n",
                "    x=\"N days model\",\n",
                "    y=f\"Max absolute difference for {var}\",\n",
                "    color=\"N days model\",\n",
                "    title=title,\n",
                "    hover_data=ref_cols,\n",
                ")\n",
                "# fig.update_yaxes(type=\"log\")\n",
                "fig.update_layout(showlegend=False, width=800, height=400)\n",
                "fig.update_yaxes(tickvals=[1e-4, 0.001, 0.003, 0.005, 0.007])\n",
                "fig.show()\n",
                "fig.write_image(\n",
                "    dh.get_path_to_main() + f\"PlotsBreathe/N days model/{title}{maxfev1}.pdf\"\n",
                ")"
            ]
        },
        {
            "cell_type": "markdown",
            "metadata": {},
            "source": [
                "### Why are some values 1000x higher?"
            ]
        },
        {
            "cell_type": "code",
            "execution_count": null,
            "metadata": {},
            "outputs": [
                {
                    "data": {
                        "text/html": [
                            "<div>\n",
                            "<style scoped>\n",
                            "    .dataframe tbody tr th:only-of-type {\n",
                            "        vertical-align: middle;\n",
                            "    }\n",
                            "\n",
                            "    .dataframe tbody tr th {\n",
                            "        vertical-align: top;\n",
                            "    }\n",
                            "\n",
                            "    .dataframe thead th {\n",
                            "        text-align: right;\n",
                            "    }\n",
                            "</style>\n",
                            "<table border=\"1\" class=\"dataframe\">\n",
                            "  <thead>\n",
                            "    <tr style=\"text-align: right;\">\n",
                            "      <th></th>\n",
                            "      <th>ID</th>\n",
                            "      <th>Day 1</th>\n",
                            "      <th>4 days HFEV1 exact inf</th>\n",
                            "      <th>4 days HFEV1 approx inf</th>\n",
                            "      <th>4 days HO2Sat exact inf</th>\n",
                            "      <th>4 days HO2Sat approx inf</th>\n",
                            "      <th>4 days HFEV1 max diff</th>\n",
                            "      <th>4 days HO2Sat max diff</th>\n",
                            "    </tr>\n",
                            "  </thead>\n",
                            "  <tbody>\n",
                            "    <tr>\n",
                            "      <th>0</th>\n",
                            "      <td>331</td>\n",
                            "      <td>2022-06-24</td>\n",
                            "      <td>[0.0, 0.9692460478872158, 0.0307539506935627, ...</td>\n",
                            "      <td>[0.0, 0.969246048778613, 0.030753949802166513,...</td>\n",
                            "      <td>[0.0, 0.0, 1.3200912938369406e-19, 4.288186805...</td>\n",
                            "      <td>[0.0, 0.0, 1.320066007473432e-19, 4.2880918256...</td>\n",
                            "      <td>8.913972e-10</td>\n",
                            "      <td>9.497991e-10</td>\n",
                            "    </tr>\n",
                            "  </tbody>\n",
                            "</table>\n",
                            "</div>"
                        ],
                        "text/plain": [
                            "    ID       Day 1                             4 days HFEV1 exact inf  \\\n",
                            "0  331  2022-06-24  [0.0, 0.9692460478872158, 0.0307539506935627, ...   \n",
                            "\n",
                            "                             4 days HFEV1 approx inf  \\\n",
                            "0  [0.0, 0.969246048778613, 0.030753949802166513,...   \n",
                            "\n",
                            "                             4 days HO2Sat exact inf  \\\n",
                            "0  [0.0, 0.0, 1.3200912938369406e-19, 4.288186805...   \n",
                            "\n",
                            "                            4 days HO2Sat approx inf  4 days HFEV1 max diff  \\\n",
                            "0  [0.0, 0.0, 1.320066007473432e-19, 4.2880918256...           8.913972e-10   \n",
                            "\n",
                            "   4 days HO2Sat max diff  \n",
                            "0            9.497991e-10  "
                        ]
                    },
                    "execution_count": 94,
                    "metadata": {},
                    "output_type": "execute_result"
                }
            ],
            "source": [
                "id = \"331\"\n",
                "a = df_res[df_res.ID == id].loc[0, \"4 days HFEV1 approx inf\"]\n",
                "e = df_res[df_res.ID == id].loc[0, \"4 days HFEV1 exact inf\"]\n",
                "df_res[df_res.ID == id]"
            ]
        },
        {
            "cell_type": "code",
            "execution_count": null,
            "metadata": {},
            "outputs": [],
            "source": [
                "# select ID 122 and date recorded 2021-12-28\n",
                "import datetime\n",
                "\n",
                "df[(df.ID == id) & (df[\"Date Recorded\"] == datetime.date(2021, 6, 28))]\n",
                "# Find the max FEV1 index for id 122\n",
                "# df[df.ID == id].sort_values(by=[\"ecFEV1\", \"O2 Saturation\"], ascending=False).iloc[0:2]"
            ]
        },
        {
            "cell_type": "code",
            "execution_count": null,
            "metadata": {},
            "outputs": [],
            "source": [
                "# highest diffs\n",
                "# 122\n",
                "df.iloc[[6258, 6259, 6260, 6120]]\n",
                "# 232\n",
                "df.iloc[[21815, 21816, 21817, 21819]]\n",
                "\n",
                "# 0 diff (if max ecFEV1 is > 5L)\n",
                "df.iloc[[4320, 4321, 4322, 4106]]\n",
                "\n",
                "# smallest nonzero diff\n",
                "# 331\n",
                "df.iloc[[31307, 31308, 31309, 31205]]\n",
                "# 261\n",
                "df.iloc[[25566, 25567, 25568, 25573]]\n",
                "\n",
                "# When max FEV1 is over 5 L, then probability of HFEV1 in range 5-6L is 1\n",
                "# The most uncertain HFEV1 is the biggest the difference between the two models? -> when one bin overly wins, the max diff is low\n",
                "\n",
                "# The approximate model is most accurate when the exact answer has strong beliefs for one bin"
            ]
        },
        {
            "cell_type": "code",
            "execution_count": null,
            "metadata": {},
            "outputs": [],
            "source": [
                "np.set_printoptions(precision=2)\n",
                "e = df_res[df_res.ID == \"122\"].loc[0, \"HFEV1 exact inf\"]\n",
                "a = df_res[df_res.ID == \"122\"].loc[0, \"HFEV1 approx inf\"]\n",
                "print(\"exact inference \", e)\n",
                "print(\"approx inference\", a)\n",
                "print(\"absolute diff   \", np.abs(e - a))\n",
                "print(f\"relative diff (%)\", np.abs(e - a) / e * 100)\n",
                "# How to print array with 2 decimal values only"
            ]
        },
        {
            "cell_type": "code",
            "execution_count": null,
            "metadata": {},
            "outputs": [],
            "source": [
                "df_diffs[df_diffs[\"4 days HFEV1 max diff\"] != 0].sort_values(\n",
                "    by=f\"{n_days_total_max} days HFEV1 max diff\", ascending=True\n",
                ")\n",
                "# df_diffs.drop(columns=[\"1 days HFEV1 max diff\", \"1 days HO2Sat max diff\"])"
            ]
        },
        {
            "cell_type": "markdown",
            "metadata": {},
            "source": [
                "#### Does HFEV1 diff correlates with max ecFEV1 ?"
            ]
        },
        {
            "cell_type": "code",
            "execution_count": null,
            "metadata": {},
            "outputs": [
                {
                    "data": {
                        "application/vnd.plotly.v1+json": {
                            "config": {
                                "plotlyServerURL": "https://plot.ly"
                            },
                            "data": [
                                {
                                    "alignmentgroup": "True",
                                    "hovertemplate": "idx Max ecFEV1=%{x}<br>4 days HFEV1 max diff=%{y}<extra></extra>",
                                    "legendgroup": "",
                                    "marker": {
                                        "color": "#636efa"
                                    },
                                    "name": "",
                                    "notched": false,
                                    "offsetgroup": "",
                                    "orientation": "v",
                                    "showlegend": false,
                                    "type": "box",
                                    "x": [
                                        1,
                                        1,
                                        1,
                                        2,
                                        1,
                                        3,
                                        2,
                                        3,
                                        0,
                                        1,
                                        2,
                                        5,
                                        2,
                                        3,
                                        2,
                                        2,
                                        1,
                                        1,
                                        2,
                                        3,
                                        1,
                                        4,
                                        3,
                                        3,
                                        5,
                                        1,
                                        2,
                                        3,
                                        2,
                                        1,
                                        2,
                                        4,
                                        3,
                                        1,
                                        1,
                                        1,
                                        3,
                                        1,
                                        1,
                                        3,
                                        2,
                                        2,
                                        2,
                                        2,
                                        1,
                                        2,
                                        3,
                                        3,
                                        2,
                                        1,
                                        4,
                                        1,
                                        2,
                                        1,
                                        2,
                                        2,
                                        2,
                                        3,
                                        2,
                                        4,
                                        3,
                                        3,
                                        2,
                                        2,
                                        3,
                                        3,
                                        4,
                                        1,
                                        2,
                                        2,
                                        2,
                                        4,
                                        2,
                                        1,
                                        2,
                                        4,
                                        3,
                                        2,
                                        3,
                                        1,
                                        3,
                                        3,
                                        1,
                                        3,
                                        2,
                                        2,
                                        2,
                                        2,
                                        4,
                                        2,
                                        2,
                                        2,
                                        3,
                                        2,
                                        2,
                                        1,
                                        3,
                                        2,
                                        1,
                                        3,
                                        3,
                                        1,
                                        2,
                                        2,
                                        3,
                                        2,
                                        3,
                                        3,
                                        2,
                                        4,
                                        3,
                                        2,
                                        1,
                                        3,
                                        3,
                                        2,
                                        3,
                                        1,
                                        2,
                                        3,
                                        3,
                                        1,
                                        2,
                                        3,
                                        1,
                                        2,
                                        1,
                                        3,
                                        3,
                                        3,
                                        3,
                                        2,
                                        3,
                                        3,
                                        4,
                                        1,
                                        1,
                                        3,
                                        2,
                                        2,
                                        3,
                                        3,
                                        3,
                                        2,
                                        2,
                                        2,
                                        3,
                                        4,
                                        1,
                                        3,
                                        3,
                                        2,
                                        4,
                                        3,
                                        2,
                                        2,
                                        1,
                                        2,
                                        2,
                                        3,
                                        2,
                                        2,
                                        2,
                                        3,
                                        1,
                                        3,
                                        1,
                                        2,
                                        1,
                                        1,
                                        3,
                                        3,
                                        2,
                                        3,
                                        1,
                                        1,
                                        2,
                                        2,
                                        5,
                                        1,
                                        2,
                                        3,
                                        2,
                                        2,
                                        2,
                                        1,
                                        3,
                                        4,
                                        1,
                                        1,
                                        2,
                                        3,
                                        3,
                                        1,
                                        1,
                                        2,
                                        1,
                                        2,
                                        2,
                                        0,
                                        3,
                                        1,
                                        1,
                                        2,
                                        3,
                                        3,
                                        2,
                                        1,
                                        2,
                                        3,
                                        0,
                                        1,
                                        2,
                                        2,
                                        3,
                                        2,
                                        4,
                                        2,
                                        5,
                                        4,
                                        3,
                                        4,
                                        2,
                                        1,
                                        3,
                                        1,
                                        1,
                                        4,
                                        2,
                                        3,
                                        2,
                                        1,
                                        3,
                                        2,
                                        1,
                                        3,
                                        3,
                                        2,
                                        2,
                                        2,
                                        3,
                                        1,
                                        1,
                                        1,
                                        3,
                                        2,
                                        1,
                                        4,
                                        3,
                                        2,
                                        3,
                                        5,
                                        4,
                                        1,
                                        1,
                                        2
                                    ],
                                    "x0": " ",
                                    "xaxis": "x",
                                    "y": [
                                        0.006368351452482712,
                                        0.005494064683597366,
                                        0.0002181159809860889,
                                        3.874478171628226e-8,
                                        0.000277445219691197,
                                        5.106723592884777e-7,
                                        0.0003856694528557858,
                                        6.150716234110121e-7,
                                        0.00008992321823242388,
                                        5.796967940396858e-12,
                                        0.0001415204053186736,
                                        0,
                                        0.00002999977350048866,
                                        0.00001983279309281105,
                                        2.204301285946286e-8,
                                        3.375662749327546e-9,
                                        0.000008606993565085652,
                                        0.00006447492388783616,
                                        3.45945042334872e-8,
                                        5.281824977387828e-10,
                                        0.007271827176979828,
                                        0.00002098181628290563,
                                        1.138804003320004e-7,
                                        7.188194484086807e-11,
                                        0,
                                        0.0003710511395196292,
                                        0.00002405388668924591,
                                        6.275574504499559e-10,
                                        1.667872611132992e-7,
                                        0.0007312952326710143,
                                        2.396675832239126e-7,
                                        0.000230755576257069,
                                        0.0003118786782836391,
                                        5.050894136271467e-8,
                                        2.52479883666723e-8,
                                        0.003980264195117322,
                                        7.37854222165879e-12,
                                        0.000005958051441323775,
                                        0.000137801872621246,
                                        0.000005400132658595069,
                                        0.0004403295446575584,
                                        0.0005111758118686582,
                                        0.00000575033630412225,
                                        0.000008833334456448405,
                                        0.00002110762679174982,
                                        0.00003892035898167556,
                                        0.00003363668896949612,
                                        5.056942435910372e-7,
                                        6.954529396807629e-9,
                                        0.00109452629581952,
                                        0.00001167078905173202,
                                        0.000005368919533177419,
                                        0.000006390330492878071,
                                        0.0002728979776867035,
                                        0.000001455379525672207,
                                        0.000002422112469480098,
                                        0.000008054802078105716,
                                        0.00001172133588666496,
                                        0.00001204809835597676,
                                        1.491649681550911e-8,
                                        0.0003244478677756346,
                                        0.000004507046121871028,
                                        0.000005131667332292089,
                                        7.958905068328193e-8,
                                        0.000341480531886873,
                                        3.349443281324554e-11,
                                        5.611165326824263e-8,
                                        0.0002460800258300422,
                                        1.147304473647637e-11,
                                        1.774469460258388e-12,
                                        0.00005477377989926424,
                                        0.00004064865821024055,
                                        5.046750906068098e-9,
                                        0.0005166857133476199,
                                        2.074335774260305e-7,
                                        1.60739387355946e-8,
                                        0.00000944090896625241,
                                        5.955884596620109e-8,
                                        1.976754154808802e-7,
                                        5.594457643809392e-7,
                                        6.307128883609181e-7,
                                        0.00000923454401957624,
                                        0.00002201983279037645,
                                        0.00003393344673197074,
                                        5.08356828077261e-7,
                                        0.00007281801202374538,
                                        1.059720777796258e-7,
                                        6.674167596365521e-8,
                                        3.279901988895162e-9,
                                        9.829965247343253e-7,
                                        0.00003208367485729724,
                                        0.000007003448220133102,
                                        1.821444167368624e-11,
                                        1.725640358385405e-7,
                                        0.0001602231937717358,
                                        3.050033731133439e-7,
                                        1.871824917287768e-11,
                                        0.000001170260123251055,
                                        0.00722319043502051,
                                        1.506128555206487e-12,
                                        6.228319870960064e-8,
                                        5.612103138874502e-7,
                                        7.23117044021393e-9,
                                        0.00008492783084868005,
                                        2.74869453864568e-8,
                                        4.115580654051598e-9,
                                        1.541590210520083e-10,
                                        0.00001993624770479929,
                                        0.000511717482305607,
                                        2.417889555239583e-8,
                                        0.00001872947372827394,
                                        0.0003248184429328616,
                                        0.0003526436095278029,
                                        0.00003286655669169913,
                                        1.838862395686647e-12,
                                        0.000008329020024344658,
                                        5.214468866698851e-7,
                                        0.000001248129309905366,
                                        2.714495295208508e-13,
                                        4.774384221306605e-10,
                                        2.205562310564346e-8,
                                        0.00001041971351645188,
                                        0.000002513712383911404,
                                        0.00002008348430146412,
                                        4.173775680627045e-7,
                                        8.548302998789836e-8,
                                        0.0001286959263301357,
                                        8.230823000943133e-8,
                                        0.000008647456209209814,
                                        0.00000880848657763833,
                                        0.00000214009867127718,
                                        0.00001561192664167876,
                                        0.0001412464052514828,
                                        0.0001281607828920173,
                                        2.649681966199191e-8,
                                        0.0001320995797616797,
                                        0.00009528555731197486,
                                        0.00004084274720531772,
                                        0.00001513120507457,
                                        0.0006195574720417873,
                                        0.00001374210849547364,
                                        0.0001224356374246449,
                                        2.247767494356623e-8,
                                        0.00001092567901350705,
                                        0.000001636098806434561,
                                        0.0005807163678130944,
                                        0.000004994459529616968,
                                        0.00003777871302376029,
                                        0.00009250271960881129,
                                        4.324473001915408e-10,
                                        9.596513084186853e-8,
                                        4.329991920570819e-11,
                                        5.699386751434332e-8,
                                        0.000015871494382768,
                                        0.001158645287204552,
                                        1.653932546474834e-11,
                                        0.0006415970194348919,
                                        1.255315296155857e-9,
                                        0.0004647999820159843,
                                        0.000004065481012394123,
                                        8.144536722820561e-8,
                                        0.00006228093748839036,
                                        0.00001601360490122161,
                                        0.00006064594835353265,
                                        5.016253856737762e-9,
                                        4.984901380566953e-14,
                                        0.00005556973964737644,
                                        0.00003639211101402751,
                                        0.00001752612927496955,
                                        0.00009641272338323237,
                                        1.028189755558628e-10,
                                        0.00001817828162797852,
                                        0.000004930622774401705,
                                        7.388623208814948e-7,
                                        0.0003060929455247496,
                                        0.0008633800192673347,
                                        0.0002883534914319696,
                                        0.00001484484441427458,
                                        0,
                                        0.00001077059599774444,
                                        0.00001049550384135678,
                                        2.453464515994597e-7,
                                        0.000001382514774217469,
                                        0.0003885043749646266,
                                        5.770429867268945e-8,
                                        7.088038587177437e-7,
                                        0.00001025192201054015,
                                        1.241395874984619e-12,
                                        0.000001722222753519631,
                                        0.000156090068482273,
                                        0.00007060680967840849,
                                        0.000005861503163728798,
                                        3.6338709819006e-12,
                                        0.00000529227722356751,
                                        0.0008846544660544575,
                                        0.000002297896828484802,
                                        0.001682026593932795,
                                        7.018401149139208e-8,
                                        7.117830624903121e-8,
                                        0.0005389757448988064,
                                        3.580262974978154e-8,
                                        0.004622520434519162,
                                        0.00005086296706066813,
                                        0.00007175041881168909,
                                        1.177942945407295e-7,
                                        0.00006249304034555703,
                                        0.000003709219122183249,
                                        0.000008368452209750465,
                                        0.00006248778295681046,
                                        0.00021837198226482,
                                        0.0008197914505146953,
                                        0.000005407563980486252,
                                        0.0007689862469996145,
                                        0.000007316174098548345,
                                        0.00001165692370919125,
                                        0.000002294395430646468,
                                        0.000001151365654150638,
                                        0.00001642895951481371,
                                        0,
                                        0.00001513656181997836,
                                        0.00001080126355338176,
                                        1.898793461352355e-8,
                                        0.0002124284400010432,
                                        0.005198275378347939,
                                        0.00005462631452765598,
                                        0.00007747922453027467,
                                        0.0001446160486878734,
                                        0.000001563792772163453,
                                        9.860875227474253e-9,
                                        3.350396626800034e-10,
                                        0.0001438819896292243,
                                        2.850626364958586e-7,
                                        0.0005271603581169515,
                                        0.0001184407820569167,
                                        0.002976578499321536,
                                        0.0001712306226629989,
                                        2.96925040110807e-9,
                                        0.0005590293822410608,
                                        0.000008671523520020763,
                                        4.583790220724637e-7,
                                        1.289922946234867e-9,
                                        0.000002248729141229866,
                                        1.624171430680832e-7,
                                        0.0003464674064368456,
                                        0.000007114462604040916,
                                        0.0007638351204296567,
                                        0.002921093537589847,
                                        0.000009820056070603683,
                                        9.315548332722301e-12,
                                        0.000001308134930710914,
                                        0.0004807889902734841,
                                        0,
                                        1.694067922053399e-8,
                                        0.000189838915826801,
                                        0.004285074602386807,
                                        1.22607101582517e-7
                                    ],
                                    "y0": " ",
                                    "yaxis": "y"
                                }
                            ],
                            "layout": {
                                "boxmode": "group",
                                "height": 400,
                                "legend": {
                                    "tracegroupgap": 0
                                },
                                "margin": {
                                    "t": 60
                                },
                                "showlegend": false,
                                "template": {
                                    "data": {
                                        "bar": [
                                            {
                                                "error_x": {
                                                    "color": "#2a3f5f"
                                                },
                                                "error_y": {
                                                    "color": "#2a3f5f"
                                                },
                                                "marker": {
                                                    "line": {
                                                        "color": "#E5ECF6",
                                                        "width": 0.5
                                                    },
                                                    "pattern": {
                                                        "fillmode": "overlay",
                                                        "size": 10,
                                                        "solidity": 0.2
                                                    }
                                                },
                                                "type": "bar"
                                            }
                                        ],
                                        "barpolar": [
                                            {
                                                "marker": {
                                                    "line": {
                                                        "color": "#E5ECF6",
                                                        "width": 0.5
                                                    },
                                                    "pattern": {
                                                        "fillmode": "overlay",
                                                        "size": 10,
                                                        "solidity": 0.2
                                                    }
                                                },
                                                "type": "barpolar"
                                            }
                                        ],
                                        "carpet": [
                                            {
                                                "aaxis": {
                                                    "endlinecolor": "#2a3f5f",
                                                    "gridcolor": "white",
                                                    "linecolor": "white",
                                                    "minorgridcolor": "white",
                                                    "startlinecolor": "#2a3f5f"
                                                },
                                                "baxis": {
                                                    "endlinecolor": "#2a3f5f",
                                                    "gridcolor": "white",
                                                    "linecolor": "white",
                                                    "minorgridcolor": "white",
                                                    "startlinecolor": "#2a3f5f"
                                                },
                                                "type": "carpet"
                                            }
                                        ],
                                        "choropleth": [
                                            {
                                                "colorbar": {
                                                    "outlinewidth": 0,
                                                    "ticks": ""
                                                },
                                                "type": "choropleth"
                                            }
                                        ],
                                        "contour": [
                                            {
                                                "colorbar": {
                                                    "outlinewidth": 0,
                                                    "ticks": ""
                                                },
                                                "colorscale": [
                                                    [
                                                        0,
                                                        "#0d0887"
                                                    ],
                                                    [
                                                        0.1111111111111111,
                                                        "#46039f"
                                                    ],
                                                    [
                                                        0.2222222222222222,
                                                        "#7201a8"
                                                    ],
                                                    [
                                                        0.3333333333333333,
                                                        "#9c179e"
                                                    ],
                                                    [
                                                        0.4444444444444444,
                                                        "#bd3786"
                                                    ],
                                                    [
                                                        0.5555555555555556,
                                                        "#d8576b"
                                                    ],
                                                    [
                                                        0.6666666666666666,
                                                        "#ed7953"
                                                    ],
                                                    [
                                                        0.7777777777777778,
                                                        "#fb9f3a"
                                                    ],
                                                    [
                                                        0.8888888888888888,
                                                        "#fdca26"
                                                    ],
                                                    [
                                                        1,
                                                        "#f0f921"
                                                    ]
                                                ],
                                                "type": "contour"
                                            }
                                        ],
                                        "contourcarpet": [
                                            {
                                                "colorbar": {
                                                    "outlinewidth": 0,
                                                    "ticks": ""
                                                },
                                                "type": "contourcarpet"
                                            }
                                        ],
                                        "heatmap": [
                                            {
                                                "colorbar": {
                                                    "outlinewidth": 0,
                                                    "ticks": ""
                                                },
                                                "colorscale": [
                                                    [
                                                        0,
                                                        "#0d0887"
                                                    ],
                                                    [
                                                        0.1111111111111111,
                                                        "#46039f"
                                                    ],
                                                    [
                                                        0.2222222222222222,
                                                        "#7201a8"
                                                    ],
                                                    [
                                                        0.3333333333333333,
                                                        "#9c179e"
                                                    ],
                                                    [
                                                        0.4444444444444444,
                                                        "#bd3786"
                                                    ],
                                                    [
                                                        0.5555555555555556,
                                                        "#d8576b"
                                                    ],
                                                    [
                                                        0.6666666666666666,
                                                        "#ed7953"
                                                    ],
                                                    [
                                                        0.7777777777777778,
                                                        "#fb9f3a"
                                                    ],
                                                    [
                                                        0.8888888888888888,
                                                        "#fdca26"
                                                    ],
                                                    [
                                                        1,
                                                        "#f0f921"
                                                    ]
                                                ],
                                                "type": "heatmap"
                                            }
                                        ],
                                        "heatmapgl": [
                                            {
                                                "colorbar": {
                                                    "outlinewidth": 0,
                                                    "ticks": ""
                                                },
                                                "colorscale": [
                                                    [
                                                        0,
                                                        "#0d0887"
                                                    ],
                                                    [
                                                        0.1111111111111111,
                                                        "#46039f"
                                                    ],
                                                    [
                                                        0.2222222222222222,
                                                        "#7201a8"
                                                    ],
                                                    [
                                                        0.3333333333333333,
                                                        "#9c179e"
                                                    ],
                                                    [
                                                        0.4444444444444444,
                                                        "#bd3786"
                                                    ],
                                                    [
                                                        0.5555555555555556,
                                                        "#d8576b"
                                                    ],
                                                    [
                                                        0.6666666666666666,
                                                        "#ed7953"
                                                    ],
                                                    [
                                                        0.7777777777777778,
                                                        "#fb9f3a"
                                                    ],
                                                    [
                                                        0.8888888888888888,
                                                        "#fdca26"
                                                    ],
                                                    [
                                                        1,
                                                        "#f0f921"
                                                    ]
                                                ],
                                                "type": "heatmapgl"
                                            }
                                        ],
                                        "histogram": [
                                            {
                                                "marker": {
                                                    "pattern": {
                                                        "fillmode": "overlay",
                                                        "size": 10,
                                                        "solidity": 0.2
                                                    }
                                                },
                                                "type": "histogram"
                                            }
                                        ],
                                        "histogram2d": [
                                            {
                                                "colorbar": {
                                                    "outlinewidth": 0,
                                                    "ticks": ""
                                                },
                                                "colorscale": [
                                                    [
                                                        0,
                                                        "#0d0887"
                                                    ],
                                                    [
                                                        0.1111111111111111,
                                                        "#46039f"
                                                    ],
                                                    [
                                                        0.2222222222222222,
                                                        "#7201a8"
                                                    ],
                                                    [
                                                        0.3333333333333333,
                                                        "#9c179e"
                                                    ],
                                                    [
                                                        0.4444444444444444,
                                                        "#bd3786"
                                                    ],
                                                    [
                                                        0.5555555555555556,
                                                        "#d8576b"
                                                    ],
                                                    [
                                                        0.6666666666666666,
                                                        "#ed7953"
                                                    ],
                                                    [
                                                        0.7777777777777778,
                                                        "#fb9f3a"
                                                    ],
                                                    [
                                                        0.8888888888888888,
                                                        "#fdca26"
                                                    ],
                                                    [
                                                        1,
                                                        "#f0f921"
                                                    ]
                                                ],
                                                "type": "histogram2d"
                                            }
                                        ],
                                        "histogram2dcontour": [
                                            {
                                                "colorbar": {
                                                    "outlinewidth": 0,
                                                    "ticks": ""
                                                },
                                                "colorscale": [
                                                    [
                                                        0,
                                                        "#0d0887"
                                                    ],
                                                    [
                                                        0.1111111111111111,
                                                        "#46039f"
                                                    ],
                                                    [
                                                        0.2222222222222222,
                                                        "#7201a8"
                                                    ],
                                                    [
                                                        0.3333333333333333,
                                                        "#9c179e"
                                                    ],
                                                    [
                                                        0.4444444444444444,
                                                        "#bd3786"
                                                    ],
                                                    [
                                                        0.5555555555555556,
                                                        "#d8576b"
                                                    ],
                                                    [
                                                        0.6666666666666666,
                                                        "#ed7953"
                                                    ],
                                                    [
                                                        0.7777777777777778,
                                                        "#fb9f3a"
                                                    ],
                                                    [
                                                        0.8888888888888888,
                                                        "#fdca26"
                                                    ],
                                                    [
                                                        1,
                                                        "#f0f921"
                                                    ]
                                                ],
                                                "type": "histogram2dcontour"
                                            }
                                        ],
                                        "mesh3d": [
                                            {
                                                "colorbar": {
                                                    "outlinewidth": 0,
                                                    "ticks": ""
                                                },
                                                "type": "mesh3d"
                                            }
                                        ],
                                        "parcoords": [
                                            {
                                                "line": {
                                                    "colorbar": {
                                                        "outlinewidth": 0,
                                                        "ticks": ""
                                                    }
                                                },
                                                "type": "parcoords"
                                            }
                                        ],
                                        "pie": [
                                            {
                                                "automargin": true,
                                                "type": "pie"
                                            }
                                        ],
                                        "scatter": [
                                            {
                                                "fillpattern": {
                                                    "fillmode": "overlay",
                                                    "size": 10,
                                                    "solidity": 0.2
                                                },
                                                "type": "scatter"
                                            }
                                        ],
                                        "scatter3d": [
                                            {
                                                "line": {
                                                    "colorbar": {
                                                        "outlinewidth": 0,
                                                        "ticks": ""
                                                    }
                                                },
                                                "marker": {
                                                    "colorbar": {
                                                        "outlinewidth": 0,
                                                        "ticks": ""
                                                    }
                                                },
                                                "type": "scatter3d"
                                            }
                                        ],
                                        "scattercarpet": [
                                            {
                                                "marker": {
                                                    "colorbar": {
                                                        "outlinewidth": 0,
                                                        "ticks": ""
                                                    }
                                                },
                                                "type": "scattercarpet"
                                            }
                                        ],
                                        "scattergeo": [
                                            {
                                                "marker": {
                                                    "colorbar": {
                                                        "outlinewidth": 0,
                                                        "ticks": ""
                                                    }
                                                },
                                                "type": "scattergeo"
                                            }
                                        ],
                                        "scattergl": [
                                            {
                                                "marker": {
                                                    "colorbar": {
                                                        "outlinewidth": 0,
                                                        "ticks": ""
                                                    }
                                                },
                                                "type": "scattergl"
                                            }
                                        ],
                                        "scattermapbox": [
                                            {
                                                "marker": {
                                                    "colorbar": {
                                                        "outlinewidth": 0,
                                                        "ticks": ""
                                                    }
                                                },
                                                "type": "scattermapbox"
                                            }
                                        ],
                                        "scatterpolar": [
                                            {
                                                "marker": {
                                                    "colorbar": {
                                                        "outlinewidth": 0,
                                                        "ticks": ""
                                                    }
                                                },
                                                "type": "scatterpolar"
                                            }
                                        ],
                                        "scatterpolargl": [
                                            {
                                                "marker": {
                                                    "colorbar": {
                                                        "outlinewidth": 0,
                                                        "ticks": ""
                                                    }
                                                },
                                                "type": "scatterpolargl"
                                            }
                                        ],
                                        "scatterternary": [
                                            {
                                                "marker": {
                                                    "colorbar": {
                                                        "outlinewidth": 0,
                                                        "ticks": ""
                                                    }
                                                },
                                                "type": "scatterternary"
                                            }
                                        ],
                                        "surface": [
                                            {
                                                "colorbar": {
                                                    "outlinewidth": 0,
                                                    "ticks": ""
                                                },
                                                "colorscale": [
                                                    [
                                                        0,
                                                        "#0d0887"
                                                    ],
                                                    [
                                                        0.1111111111111111,
                                                        "#46039f"
                                                    ],
                                                    [
                                                        0.2222222222222222,
                                                        "#7201a8"
                                                    ],
                                                    [
                                                        0.3333333333333333,
                                                        "#9c179e"
                                                    ],
                                                    [
                                                        0.4444444444444444,
                                                        "#bd3786"
                                                    ],
                                                    [
                                                        0.5555555555555556,
                                                        "#d8576b"
                                                    ],
                                                    [
                                                        0.6666666666666666,
                                                        "#ed7953"
                                                    ],
                                                    [
                                                        0.7777777777777778,
                                                        "#fb9f3a"
                                                    ],
                                                    [
                                                        0.8888888888888888,
                                                        "#fdca26"
                                                    ],
                                                    [
                                                        1,
                                                        "#f0f921"
                                                    ]
                                                ],
                                                "type": "surface"
                                            }
                                        ],
                                        "table": [
                                            {
                                                "cells": {
                                                    "fill": {
                                                        "color": "#EBF0F8"
                                                    },
                                                    "line": {
                                                        "color": "white"
                                                    }
                                                },
                                                "header": {
                                                    "fill": {
                                                        "color": "#C8D4E3"
                                                    },
                                                    "line": {
                                                        "color": "white"
                                                    }
                                                },
                                                "type": "table"
                                            }
                                        ]
                                    },
                                    "layout": {
                                        "annotationdefaults": {
                                            "arrowcolor": "#2a3f5f",
                                            "arrowhead": 0,
                                            "arrowwidth": 1
                                        },
                                        "autotypenumbers": "strict",
                                        "coloraxis": {
                                            "colorbar": {
                                                "outlinewidth": 0,
                                                "ticks": ""
                                            }
                                        },
                                        "colorscale": {
                                            "diverging": [
                                                [
                                                    0,
                                                    "#8e0152"
                                                ],
                                                [
                                                    0.1,
                                                    "#c51b7d"
                                                ],
                                                [
                                                    0.2,
                                                    "#de77ae"
                                                ],
                                                [
                                                    0.3,
                                                    "#f1b6da"
                                                ],
                                                [
                                                    0.4,
                                                    "#fde0ef"
                                                ],
                                                [
                                                    0.5,
                                                    "#f7f7f7"
                                                ],
                                                [
                                                    0.6,
                                                    "#e6f5d0"
                                                ],
                                                [
                                                    0.7,
                                                    "#b8e186"
                                                ],
                                                [
                                                    0.8,
                                                    "#7fbc41"
                                                ],
                                                [
                                                    0.9,
                                                    "#4d9221"
                                                ],
                                                [
                                                    1,
                                                    "#276419"
                                                ]
                                            ],
                                            "sequential": [
                                                [
                                                    0,
                                                    "#0d0887"
                                                ],
                                                [
                                                    0.1111111111111111,
                                                    "#46039f"
                                                ],
                                                [
                                                    0.2222222222222222,
                                                    "#7201a8"
                                                ],
                                                [
                                                    0.3333333333333333,
                                                    "#9c179e"
                                                ],
                                                [
                                                    0.4444444444444444,
                                                    "#bd3786"
                                                ],
                                                [
                                                    0.5555555555555556,
                                                    "#d8576b"
                                                ],
                                                [
                                                    0.6666666666666666,
                                                    "#ed7953"
                                                ],
                                                [
                                                    0.7777777777777778,
                                                    "#fb9f3a"
                                                ],
                                                [
                                                    0.8888888888888888,
                                                    "#fdca26"
                                                ],
                                                [
                                                    1,
                                                    "#f0f921"
                                                ]
                                            ],
                                            "sequentialminus": [
                                                [
                                                    0,
                                                    "#0d0887"
                                                ],
                                                [
                                                    0.1111111111111111,
                                                    "#46039f"
                                                ],
                                                [
                                                    0.2222222222222222,
                                                    "#7201a8"
                                                ],
                                                [
                                                    0.3333333333333333,
                                                    "#9c179e"
                                                ],
                                                [
                                                    0.4444444444444444,
                                                    "#bd3786"
                                                ],
                                                [
                                                    0.5555555555555556,
                                                    "#d8576b"
                                                ],
                                                [
                                                    0.6666666666666666,
                                                    "#ed7953"
                                                ],
                                                [
                                                    0.7777777777777778,
                                                    "#fb9f3a"
                                                ],
                                                [
                                                    0.8888888888888888,
                                                    "#fdca26"
                                                ],
                                                [
                                                    1,
                                                    "#f0f921"
                                                ]
                                            ]
                                        },
                                        "colorway": [
                                            "#636efa",
                                            "#EF553B",
                                            "#00cc96",
                                            "#ab63fa",
                                            "#FFA15A",
                                            "#19d3f3",
                                            "#FF6692",
                                            "#B6E880",
                                            "#FF97FF",
                                            "#FECB52"
                                        ],
                                        "font": {
                                            "color": "#2a3f5f"
                                        },
                                        "geo": {
                                            "bgcolor": "white",
                                            "lakecolor": "white",
                                            "landcolor": "#E5ECF6",
                                            "showlakes": true,
                                            "showland": true,
                                            "subunitcolor": "white"
                                        },
                                        "hoverlabel": {
                                            "align": "left"
                                        },
                                        "hovermode": "closest",
                                        "mapbox": {
                                            "style": "light"
                                        },
                                        "paper_bgcolor": "white",
                                        "plot_bgcolor": "#E5ECF6",
                                        "polar": {
                                            "angularaxis": {
                                                "gridcolor": "white",
                                                "linecolor": "white",
                                                "ticks": ""
                                            },
                                            "bgcolor": "#E5ECF6",
                                            "radialaxis": {
                                                "gridcolor": "white",
                                                "linecolor": "white",
                                                "ticks": ""
                                            }
                                        },
                                        "scene": {
                                            "xaxis": {
                                                "backgroundcolor": "#E5ECF6",
                                                "gridcolor": "white",
                                                "gridwidth": 2,
                                                "linecolor": "white",
                                                "showbackground": true,
                                                "ticks": "",
                                                "zerolinecolor": "white"
                                            },
                                            "yaxis": {
                                                "backgroundcolor": "#E5ECF6",
                                                "gridcolor": "white",
                                                "gridwidth": 2,
                                                "linecolor": "white",
                                                "showbackground": true,
                                                "ticks": "",
                                                "zerolinecolor": "white"
                                            },
                                            "zaxis": {
                                                "backgroundcolor": "#E5ECF6",
                                                "gridcolor": "white",
                                                "gridwidth": 2,
                                                "linecolor": "white",
                                                "showbackground": true,
                                                "ticks": "",
                                                "zerolinecolor": "white"
                                            }
                                        },
                                        "shapedefaults": {
                                            "line": {
                                                "color": "#2a3f5f"
                                            }
                                        },
                                        "ternary": {
                                            "aaxis": {
                                                "gridcolor": "white",
                                                "linecolor": "white",
                                                "ticks": ""
                                            },
                                            "baxis": {
                                                "gridcolor": "white",
                                                "linecolor": "white",
                                                "ticks": ""
                                            },
                                            "bgcolor": "#E5ECF6",
                                            "caxis": {
                                                "gridcolor": "white",
                                                "linecolor": "white",
                                                "ticks": ""
                                            }
                                        },
                                        "title": {
                                            "x": 0.05
                                        },
                                        "xaxis": {
                                            "automargin": true,
                                            "gridcolor": "white",
                                            "linecolor": "white",
                                            "ticks": "",
                                            "title": {
                                                "standoff": 15
                                            },
                                            "zerolinecolor": "white",
                                            "zerolinewidth": 2
                                        },
                                        "yaxis": {
                                            "automargin": true,
                                            "gridcolor": "white",
                                            "linecolor": "white",
                                            "ticks": "",
                                            "title": {
                                                "standoff": 15
                                            },
                                            "zerolinecolor": "white",
                                            "zerolinewidth": 2
                                        }
                                    }
                                },
                                "title": {
                                    "text": "Does the HFEV1 diff correlates with max ecFEV1 values?"
                                },
                                "width": 800,
                                "xaxis": {
                                    "anchor": "y",
                                    "domain": [
                                        0,
                                        1
                                    ],
                                    "ticktext": [
                                        "0 (#3)",
                                        "1 (#63)",
                                        "2 (#91)",
                                        "3 (#75)",
                                        "4 (#19)",
                                        "5 (#5)"
                                    ],
                                    "tickvals": [
                                        0,
                                        1,
                                        2,
                                        3,
                                        4,
                                        5
                                    ],
                                    "title": {
                                        "text": "idx Max ecFEV1"
                                    }
                                },
                                "yaxis": {
                                    "anchor": "x",
                                    "domain": [
                                        0,
                                        1
                                    ],
                                    "tickvals": [
                                        0.0001,
                                        0.001,
                                        0.003,
                                        0.005,
                                        0.007
                                    ],
                                    "title": {
                                        "text": "4 days HFEV1 max diff"
                                    }
                                }
                            }
                        }
                    },
                    "metadata": {},
                    "output_type": "display_data"
                },
                {
                    "name": "stdout",
                    "output_type": "stream",
                    "text": [
                        "Value counts for day 1 idx\n"
                    ]
                }
            ],
            "source": [
                "# Does HFEV1 diff correlates with high max ecFEV1?\n",
                "title = f\"Does the HFEV1 diff correlates with max ecFEV1 values?\"\n",
                "var = \"HFEV1\"\n",
                "idx_col = \"idx Max ecFEV1\"\n",
                "# idx_col = \"idx ecFEV1 (L)\"\n",
                "\n",
                "fig = px.box(\n",
                "    df_diffs,\n",
                "    x=idx_col,\n",
                "    y=f\"4 days {var} max diff\",\n",
                "    # color=\"N days model\",\n",
                "    # title=title,\n",
                "    # hover_data=ref_cols,\n",
                ")\n",
                "val_counts = df_diffs.value_counts(idx_col).sort_index()\n",
                "xaxislabels = list(\n",
                "    map(lambda x: f\"{x[0]} (#{x[1]})\", zip(val_counts.index, val_counts.values))\n",
                ")\n",
                "# Update x axis labels\n",
                "fig.update_xaxes(tickvals=val_counts.index, ticktext=xaxislabels)\n",
                "# Add 10e-4 p on y axis label\n",
                "fig.update_yaxes(tickvals=[0.0001, 0.001, 0.003, 0.005, 0.007])\n",
                "fig.update_layout(title=title, showlegend=False, width=800, height=400)\n",
                "fig.show()\n",
                "print(\"Value counts for day 1 idx\")\n",
                "\n",
                "# Save image\n",
                "fig.write_image(dh.get_path_to_main() + f\"PlotsBreathe/N days model/{title}.pdf\")"
            ]
        },
        {
            "cell_type": "markdown",
            "metadata": {},
            "source": [
                "#### Further analysis within the 2nd FEV1 bin"
            ]
        },
        {
            "cell_type": "code",
            "execution_count": null,
            "metadata": {},
            "outputs": [],
            "source": [
                "df_diffs_2nd_bin = df_diffs[df_diffs[\"idx Max ecFEV1\"] == 1]"
            ]
        },
        {
            "cell_type": "code",
            "execution_count": null,
            "metadata": {},
            "outputs": [],
            "source": [
                "height = df_diffs.Height.iloc[0]\n",
                "age = df_diffs.Age.iloc[0]\n",
                "sex = df_diffs.Sex.iloc[0]\n",
                "(\n",
                "    model,\n",
                "    inf_alg,\n",
                "    HFEV1,\n",
                "    HO2Sat,\n",
                "    ecFEV1,\n",
                "    AR,\n",
                "    O2SatFFA,\n",
                "    IA,\n",
                "    UO2Sat,\n",
                "    O2Sat,\n",
                "    # ecFEF2575prctecFEV1,\n",
                "    ecFEV1_2,\n",
                "    AR_2,\n",
                "    O2SatFFA_2,\n",
                "    IA_2,\n",
                "    UO2Sat_2,\n",
                "    O2Sat_2,\n",
                "    # ecFEF2575prctecFEV1_2,\n",
                ") = mb.o2_sat_fev1_two_days_model_light(height, age, sex)"
            ]
        },
        {
            "cell_type": "code",
            "execution_count": null,
            "metadata": {},
            "outputs": [
                {
                    "name": "stderr",
                    "output_type": "stream",
                    "text": [
                        "/var/folders/zq/v2r6yn111s3gpdf8lzf72xvw0000gn/T/ipykernel_75509/2915796623.py:2: SettingWithCopyWarning:\n",
                        "\n",
                        "\n",
                        "A value is trying to be set on a copy of a slice from a DataFrame.\n",
                        "Try using .loc[row_indexer,col_indexer] = value instead\n",
                        "\n",
                        "See the caveats in the documentation: https://pandas.pydata.org/pandas-docs/stable/user_guide/indexing.html#returning-a-view-versus-a-copy\n",
                        "\n"
                    ]
                },
                {
                    "data": {
                        "application/vnd.plotly.v1+json": {
                            "config": {
                                "plotlyServerURL": "https://plot.ly"
                            },
                            "data": [
                                {
                                    "histfunc": "sum",
                                    "name": "Above 0.001 (#12)",
                                    "type": "histogram",
                                    "x": [
                                        1,
                                        2,
                                        3,
                                        4,
                                        5
                                    ],
                                    "xaxis": "x",
                                    "xbins": {
                                        "end": 6,
                                        "size": 1,
                                        "start": 1
                                    },
                                    "y": [
                                        0.028127895998025,
                                        0.4485278386666667,
                                        0.4950395272833334,
                                        0.028266127544219328,
                                        0.000038610584714950115
                                    ],
                                    "yaxis": "y"
                                },
                                {
                                    "histfunc": "sum",
                                    "name": "Below 0.001 (#51)",
                                    "type": "histogram",
                                    "x": [
                                        1,
                                        2,
                                        3,
                                        4,
                                        5
                                    ],
                                    "xaxis": "x2",
                                    "xbins": {
                                        "end": 6,
                                        "size": 1,
                                        "start": 1
                                    },
                                    "y": [
                                        0.006475027849149018,
                                        0.8162529482411767,
                                        0.16440561434623724,
                                        0.012809892625569828,
                                        0.00005651689437874772
                                    ],
                                    "yaxis": "y2"
                                }
                            ],
                            "layout": {
                                "font": {
                                    "size": 9
                                },
                                "height": 300,
                                "legend": {
                                    "title": {
                                        "text": "Absolute max difference:"
                                    }
                                },
                                "showlegend": true,
                                "template": {
                                    "data": {
                                        "bar": [
                                            {
                                                "error_x": {
                                                    "color": "#2a3f5f"
                                                },
                                                "error_y": {
                                                    "color": "#2a3f5f"
                                                },
                                                "marker": {
                                                    "line": {
                                                        "color": "#E5ECF6",
                                                        "width": 0.5
                                                    },
                                                    "pattern": {
                                                        "fillmode": "overlay",
                                                        "size": 10,
                                                        "solidity": 0.2
                                                    }
                                                },
                                                "type": "bar"
                                            }
                                        ],
                                        "barpolar": [
                                            {
                                                "marker": {
                                                    "line": {
                                                        "color": "#E5ECF6",
                                                        "width": 0.5
                                                    },
                                                    "pattern": {
                                                        "fillmode": "overlay",
                                                        "size": 10,
                                                        "solidity": 0.2
                                                    }
                                                },
                                                "type": "barpolar"
                                            }
                                        ],
                                        "carpet": [
                                            {
                                                "aaxis": {
                                                    "endlinecolor": "#2a3f5f",
                                                    "gridcolor": "white",
                                                    "linecolor": "white",
                                                    "minorgridcolor": "white",
                                                    "startlinecolor": "#2a3f5f"
                                                },
                                                "baxis": {
                                                    "endlinecolor": "#2a3f5f",
                                                    "gridcolor": "white",
                                                    "linecolor": "white",
                                                    "minorgridcolor": "white",
                                                    "startlinecolor": "#2a3f5f"
                                                },
                                                "type": "carpet"
                                            }
                                        ],
                                        "choropleth": [
                                            {
                                                "colorbar": {
                                                    "outlinewidth": 0,
                                                    "ticks": ""
                                                },
                                                "type": "choropleth"
                                            }
                                        ],
                                        "contour": [
                                            {
                                                "colorbar": {
                                                    "outlinewidth": 0,
                                                    "ticks": ""
                                                },
                                                "colorscale": [
                                                    [
                                                        0,
                                                        "#0d0887"
                                                    ],
                                                    [
                                                        0.1111111111111111,
                                                        "#46039f"
                                                    ],
                                                    [
                                                        0.2222222222222222,
                                                        "#7201a8"
                                                    ],
                                                    [
                                                        0.3333333333333333,
                                                        "#9c179e"
                                                    ],
                                                    [
                                                        0.4444444444444444,
                                                        "#bd3786"
                                                    ],
                                                    [
                                                        0.5555555555555556,
                                                        "#d8576b"
                                                    ],
                                                    [
                                                        0.6666666666666666,
                                                        "#ed7953"
                                                    ],
                                                    [
                                                        0.7777777777777778,
                                                        "#fb9f3a"
                                                    ],
                                                    [
                                                        0.8888888888888888,
                                                        "#fdca26"
                                                    ],
                                                    [
                                                        1,
                                                        "#f0f921"
                                                    ]
                                                ],
                                                "type": "contour"
                                            }
                                        ],
                                        "contourcarpet": [
                                            {
                                                "colorbar": {
                                                    "outlinewidth": 0,
                                                    "ticks": ""
                                                },
                                                "type": "contourcarpet"
                                            }
                                        ],
                                        "heatmap": [
                                            {
                                                "colorbar": {
                                                    "outlinewidth": 0,
                                                    "ticks": ""
                                                },
                                                "colorscale": [
                                                    [
                                                        0,
                                                        "#0d0887"
                                                    ],
                                                    [
                                                        0.1111111111111111,
                                                        "#46039f"
                                                    ],
                                                    [
                                                        0.2222222222222222,
                                                        "#7201a8"
                                                    ],
                                                    [
                                                        0.3333333333333333,
                                                        "#9c179e"
                                                    ],
                                                    [
                                                        0.4444444444444444,
                                                        "#bd3786"
                                                    ],
                                                    [
                                                        0.5555555555555556,
                                                        "#d8576b"
                                                    ],
                                                    [
                                                        0.6666666666666666,
                                                        "#ed7953"
                                                    ],
                                                    [
                                                        0.7777777777777778,
                                                        "#fb9f3a"
                                                    ],
                                                    [
                                                        0.8888888888888888,
                                                        "#fdca26"
                                                    ],
                                                    [
                                                        1,
                                                        "#f0f921"
                                                    ]
                                                ],
                                                "type": "heatmap"
                                            }
                                        ],
                                        "heatmapgl": [
                                            {
                                                "colorbar": {
                                                    "outlinewidth": 0,
                                                    "ticks": ""
                                                },
                                                "colorscale": [
                                                    [
                                                        0,
                                                        "#0d0887"
                                                    ],
                                                    [
                                                        0.1111111111111111,
                                                        "#46039f"
                                                    ],
                                                    [
                                                        0.2222222222222222,
                                                        "#7201a8"
                                                    ],
                                                    [
                                                        0.3333333333333333,
                                                        "#9c179e"
                                                    ],
                                                    [
                                                        0.4444444444444444,
                                                        "#bd3786"
                                                    ],
                                                    [
                                                        0.5555555555555556,
                                                        "#d8576b"
                                                    ],
                                                    [
                                                        0.6666666666666666,
                                                        "#ed7953"
                                                    ],
                                                    [
                                                        0.7777777777777778,
                                                        "#fb9f3a"
                                                    ],
                                                    [
                                                        0.8888888888888888,
                                                        "#fdca26"
                                                    ],
                                                    [
                                                        1,
                                                        "#f0f921"
                                                    ]
                                                ],
                                                "type": "heatmapgl"
                                            }
                                        ],
                                        "histogram": [
                                            {
                                                "marker": {
                                                    "pattern": {
                                                        "fillmode": "overlay",
                                                        "size": 10,
                                                        "solidity": 0.2
                                                    }
                                                },
                                                "type": "histogram"
                                            }
                                        ],
                                        "histogram2d": [
                                            {
                                                "colorbar": {
                                                    "outlinewidth": 0,
                                                    "ticks": ""
                                                },
                                                "colorscale": [
                                                    [
                                                        0,
                                                        "#0d0887"
                                                    ],
                                                    [
                                                        0.1111111111111111,
                                                        "#46039f"
                                                    ],
                                                    [
                                                        0.2222222222222222,
                                                        "#7201a8"
                                                    ],
                                                    [
                                                        0.3333333333333333,
                                                        "#9c179e"
                                                    ],
                                                    [
                                                        0.4444444444444444,
                                                        "#bd3786"
                                                    ],
                                                    [
                                                        0.5555555555555556,
                                                        "#d8576b"
                                                    ],
                                                    [
                                                        0.6666666666666666,
                                                        "#ed7953"
                                                    ],
                                                    [
                                                        0.7777777777777778,
                                                        "#fb9f3a"
                                                    ],
                                                    [
                                                        0.8888888888888888,
                                                        "#fdca26"
                                                    ],
                                                    [
                                                        1,
                                                        "#f0f921"
                                                    ]
                                                ],
                                                "type": "histogram2d"
                                            }
                                        ],
                                        "histogram2dcontour": [
                                            {
                                                "colorbar": {
                                                    "outlinewidth": 0,
                                                    "ticks": ""
                                                },
                                                "colorscale": [
                                                    [
                                                        0,
                                                        "#0d0887"
                                                    ],
                                                    [
                                                        0.1111111111111111,
                                                        "#46039f"
                                                    ],
                                                    [
                                                        0.2222222222222222,
                                                        "#7201a8"
                                                    ],
                                                    [
                                                        0.3333333333333333,
                                                        "#9c179e"
                                                    ],
                                                    [
                                                        0.4444444444444444,
                                                        "#bd3786"
                                                    ],
                                                    [
                                                        0.5555555555555556,
                                                        "#d8576b"
                                                    ],
                                                    [
                                                        0.6666666666666666,
                                                        "#ed7953"
                                                    ],
                                                    [
                                                        0.7777777777777778,
                                                        "#fb9f3a"
                                                    ],
                                                    [
                                                        0.8888888888888888,
                                                        "#fdca26"
                                                    ],
                                                    [
                                                        1,
                                                        "#f0f921"
                                                    ]
                                                ],
                                                "type": "histogram2dcontour"
                                            }
                                        ],
                                        "mesh3d": [
                                            {
                                                "colorbar": {
                                                    "outlinewidth": 0,
                                                    "ticks": ""
                                                },
                                                "type": "mesh3d"
                                            }
                                        ],
                                        "parcoords": [
                                            {
                                                "line": {
                                                    "colorbar": {
                                                        "outlinewidth": 0,
                                                        "ticks": ""
                                                    }
                                                },
                                                "type": "parcoords"
                                            }
                                        ],
                                        "pie": [
                                            {
                                                "automargin": true,
                                                "type": "pie"
                                            }
                                        ],
                                        "scatter": [
                                            {
                                                "fillpattern": {
                                                    "fillmode": "overlay",
                                                    "size": 10,
                                                    "solidity": 0.2
                                                },
                                                "type": "scatter"
                                            }
                                        ],
                                        "scatter3d": [
                                            {
                                                "line": {
                                                    "colorbar": {
                                                        "outlinewidth": 0,
                                                        "ticks": ""
                                                    }
                                                },
                                                "marker": {
                                                    "colorbar": {
                                                        "outlinewidth": 0,
                                                        "ticks": ""
                                                    }
                                                },
                                                "type": "scatter3d"
                                            }
                                        ],
                                        "scattercarpet": [
                                            {
                                                "marker": {
                                                    "colorbar": {
                                                        "outlinewidth": 0,
                                                        "ticks": ""
                                                    }
                                                },
                                                "type": "scattercarpet"
                                            }
                                        ],
                                        "scattergeo": [
                                            {
                                                "marker": {
                                                    "colorbar": {
                                                        "outlinewidth": 0,
                                                        "ticks": ""
                                                    }
                                                },
                                                "type": "scattergeo"
                                            }
                                        ],
                                        "scattergl": [
                                            {
                                                "marker": {
                                                    "colorbar": {
                                                        "outlinewidth": 0,
                                                        "ticks": ""
                                                    }
                                                },
                                                "type": "scattergl"
                                            }
                                        ],
                                        "scattermapbox": [
                                            {
                                                "marker": {
                                                    "colorbar": {
                                                        "outlinewidth": 0,
                                                        "ticks": ""
                                                    }
                                                },
                                                "type": "scattermapbox"
                                            }
                                        ],
                                        "scatterpolar": [
                                            {
                                                "marker": {
                                                    "colorbar": {
                                                        "outlinewidth": 0,
                                                        "ticks": ""
                                                    }
                                                },
                                                "type": "scatterpolar"
                                            }
                                        ],
                                        "scatterpolargl": [
                                            {
                                                "marker": {
                                                    "colorbar": {
                                                        "outlinewidth": 0,
                                                        "ticks": ""
                                                    }
                                                },
                                                "type": "scatterpolargl"
                                            }
                                        ],
                                        "scatterternary": [
                                            {
                                                "marker": {
                                                    "colorbar": {
                                                        "outlinewidth": 0,
                                                        "ticks": ""
                                                    }
                                                },
                                                "type": "scatterternary"
                                            }
                                        ],
                                        "surface": [
                                            {
                                                "colorbar": {
                                                    "outlinewidth": 0,
                                                    "ticks": ""
                                                },
                                                "colorscale": [
                                                    [
                                                        0,
                                                        "#0d0887"
                                                    ],
                                                    [
                                                        0.1111111111111111,
                                                        "#46039f"
                                                    ],
                                                    [
                                                        0.2222222222222222,
                                                        "#7201a8"
                                                    ],
                                                    [
                                                        0.3333333333333333,
                                                        "#9c179e"
                                                    ],
                                                    [
                                                        0.4444444444444444,
                                                        "#bd3786"
                                                    ],
                                                    [
                                                        0.5555555555555556,
                                                        "#d8576b"
                                                    ],
                                                    [
                                                        0.6666666666666666,
                                                        "#ed7953"
                                                    ],
                                                    [
                                                        0.7777777777777778,
                                                        "#fb9f3a"
                                                    ],
                                                    [
                                                        0.8888888888888888,
                                                        "#fdca26"
                                                    ],
                                                    [
                                                        1,
                                                        "#f0f921"
                                                    ]
                                                ],
                                                "type": "surface"
                                            }
                                        ],
                                        "table": [
                                            {
                                                "cells": {
                                                    "fill": {
                                                        "color": "#EBF0F8"
                                                    },
                                                    "line": {
                                                        "color": "white"
                                                    }
                                                },
                                                "header": {
                                                    "fill": {
                                                        "color": "#C8D4E3"
                                                    },
                                                    "line": {
                                                        "color": "white"
                                                    }
                                                },
                                                "type": "table"
                                            }
                                        ]
                                    },
                                    "layout": {
                                        "annotationdefaults": {
                                            "arrowcolor": "#2a3f5f",
                                            "arrowhead": 0,
                                            "arrowwidth": 1
                                        },
                                        "autotypenumbers": "strict",
                                        "coloraxis": {
                                            "colorbar": {
                                                "outlinewidth": 0,
                                                "ticks": ""
                                            }
                                        },
                                        "colorscale": {
                                            "diverging": [
                                                [
                                                    0,
                                                    "#8e0152"
                                                ],
                                                [
                                                    0.1,
                                                    "#c51b7d"
                                                ],
                                                [
                                                    0.2,
                                                    "#de77ae"
                                                ],
                                                [
                                                    0.3,
                                                    "#f1b6da"
                                                ],
                                                [
                                                    0.4,
                                                    "#fde0ef"
                                                ],
                                                [
                                                    0.5,
                                                    "#f7f7f7"
                                                ],
                                                [
                                                    0.6,
                                                    "#e6f5d0"
                                                ],
                                                [
                                                    0.7,
                                                    "#b8e186"
                                                ],
                                                [
                                                    0.8,
                                                    "#7fbc41"
                                                ],
                                                [
                                                    0.9,
                                                    "#4d9221"
                                                ],
                                                [
                                                    1,
                                                    "#276419"
                                                ]
                                            ],
                                            "sequential": [
                                                [
                                                    0,
                                                    "#0d0887"
                                                ],
                                                [
                                                    0.1111111111111111,
                                                    "#46039f"
                                                ],
                                                [
                                                    0.2222222222222222,
                                                    "#7201a8"
                                                ],
                                                [
                                                    0.3333333333333333,
                                                    "#9c179e"
                                                ],
                                                [
                                                    0.4444444444444444,
                                                    "#bd3786"
                                                ],
                                                [
                                                    0.5555555555555556,
                                                    "#d8576b"
                                                ],
                                                [
                                                    0.6666666666666666,
                                                    "#ed7953"
                                                ],
                                                [
                                                    0.7777777777777778,
                                                    "#fb9f3a"
                                                ],
                                                [
                                                    0.8888888888888888,
                                                    "#fdca26"
                                                ],
                                                [
                                                    1,
                                                    "#f0f921"
                                                ]
                                            ],
                                            "sequentialminus": [
                                                [
                                                    0,
                                                    "#0d0887"
                                                ],
                                                [
                                                    0.1111111111111111,
                                                    "#46039f"
                                                ],
                                                [
                                                    0.2222222222222222,
                                                    "#7201a8"
                                                ],
                                                [
                                                    0.3333333333333333,
                                                    "#9c179e"
                                                ],
                                                [
                                                    0.4444444444444444,
                                                    "#bd3786"
                                                ],
                                                [
                                                    0.5555555555555556,
                                                    "#d8576b"
                                                ],
                                                [
                                                    0.6666666666666666,
                                                    "#ed7953"
                                                ],
                                                [
                                                    0.7777777777777778,
                                                    "#fb9f3a"
                                                ],
                                                [
                                                    0.8888888888888888,
                                                    "#fdca26"
                                                ],
                                                [
                                                    1,
                                                    "#f0f921"
                                                ]
                                            ]
                                        },
                                        "colorway": [
                                            "#636efa",
                                            "#EF553B",
                                            "#00cc96",
                                            "#ab63fa",
                                            "#FFA15A",
                                            "#19d3f3",
                                            "#FF6692",
                                            "#B6E880",
                                            "#FF97FF",
                                            "#FECB52"
                                        ],
                                        "font": {
                                            "color": "#2a3f5f"
                                        },
                                        "geo": {
                                            "bgcolor": "white",
                                            "lakecolor": "white",
                                            "landcolor": "#E5ECF6",
                                            "showlakes": true,
                                            "showland": true,
                                            "subunitcolor": "white"
                                        },
                                        "hoverlabel": {
                                            "align": "left"
                                        },
                                        "hovermode": "closest",
                                        "mapbox": {
                                            "style": "light"
                                        },
                                        "paper_bgcolor": "white",
                                        "plot_bgcolor": "#E5ECF6",
                                        "polar": {
                                            "angularaxis": {
                                                "gridcolor": "white",
                                                "linecolor": "white",
                                                "ticks": ""
                                            },
                                            "bgcolor": "#E5ECF6",
                                            "radialaxis": {
                                                "gridcolor": "white",
                                                "linecolor": "white",
                                                "ticks": ""
                                            }
                                        },
                                        "scene": {
                                            "xaxis": {
                                                "backgroundcolor": "#E5ECF6",
                                                "gridcolor": "white",
                                                "gridwidth": 2,
                                                "linecolor": "white",
                                                "showbackground": true,
                                                "ticks": "",
                                                "zerolinecolor": "white"
                                            },
                                            "yaxis": {
                                                "backgroundcolor": "#E5ECF6",
                                                "gridcolor": "white",
                                                "gridwidth": 2,
                                                "linecolor": "white",
                                                "showbackground": true,
                                                "ticks": "",
                                                "zerolinecolor": "white"
                                            },
                                            "zaxis": {
                                                "backgroundcolor": "#E5ECF6",
                                                "gridcolor": "white",
                                                "gridwidth": 2,
                                                "linecolor": "white",
                                                "showbackground": true,
                                                "ticks": "",
                                                "zerolinecolor": "white"
                                            }
                                        },
                                        "shapedefaults": {
                                            "line": {
                                                "color": "#2a3f5f"
                                            }
                                        },
                                        "ternary": {
                                            "aaxis": {
                                                "gridcolor": "white",
                                                "linecolor": "white",
                                                "ticks": ""
                                            },
                                            "baxis": {
                                                "gridcolor": "white",
                                                "linecolor": "white",
                                                "ticks": ""
                                            },
                                            "bgcolor": "#E5ECF6",
                                            "caxis": {
                                                "gridcolor": "white",
                                                "linecolor": "white",
                                                "ticks": ""
                                            }
                                        },
                                        "title": {
                                            "x": 0.05
                                        },
                                        "xaxis": {
                                            "automargin": true,
                                            "gridcolor": "white",
                                            "linecolor": "white",
                                            "ticks": "",
                                            "title": {
                                                "standoff": 15
                                            },
                                            "zerolinecolor": "white",
                                            "zerolinewidth": 2
                                        },
                                        "yaxis": {
                                            "automargin": true,
                                            "gridcolor": "white",
                                            "linecolor": "white",
                                            "ticks": "",
                                            "title": {
                                                "standoff": 15
                                            },
                                            "zerolinecolor": "white",
                                            "zerolinewidth": 2
                                        }
                                    }
                                },
                                "title": {
                                    "text": "What characterises the outlying HFEV1 max diff values?<br>Comparing the HFEV1 exact posteriors averages for 2 groups<br> given max ecFEV1 in bin 1-2L, using the 4 days model"
                                },
                                "width": 600,
                                "xaxis": {
                                    "anchor": "y",
                                    "domain": [
                                        0,
                                        1
                                    ],
                                    "matches": "x2",
                                    "nticks": 20,
                                    "range": [
                                        1,
                                        6
                                    ],
                                    "showticklabels": false,
                                    "title": {}
                                },
                                "xaxis2": {
                                    "anchor": "y2",
                                    "domain": [
                                        0,
                                        1
                                    ],
                                    "nticks": 20,
                                    "range": [
                                        1,
                                        6
                                    ],
                                    "title": {
                                        "text": "Healthy FEV1 (L)"
                                    }
                                },
                                "yaxis": {
                                    "anchor": "x",
                                    "domain": [
                                        0.55,
                                        1
                                    ]
                                },
                                "yaxis2": {
                                    "anchor": "x2",
                                    "domain": [
                                        0,
                                        0.45
                                    ]
                                }
                            }
                        }
                    },
                    "metadata": {},
                    "output_type": "display_data"
                }
            ],
            "source": [
                "# Show avg exact FEV1 above and below 0.001 of diff probability\n",
                "df_diffs_2nd_bin[\"Outlying max diff\"] = (\n",
                "    df_diffs_2nd_bin[f\"4 days HFEV1 max diff\"] >= 0.001\n",
                ")\n",
                "\n",
                "# Compute average 4 days exact FEV1 for below and above 0.001 diff\n",
                "avg_below = df_diffs_2nd_bin[df_diffs_2nd_bin[\"Outlying max diff\"] == False][\n",
                "    f\"4 days HFEV1 exact inf\"\n",
                "].mean()\n",
                "n_below = len(df_diffs_2nd_bin[df_diffs_2nd_bin[\"Outlying max diff\"] == False])\n",
                "avg_above = df_diffs_2nd_bin[df_diffs_2nd_bin[\"Outlying max diff\"] == True][\n",
                "    f\"4 days HFEV1 exact inf\"\n",
                "].mean()\n",
                "n_above = len(df_diffs_2nd_bin[df_diffs_2nd_bin[\"Outlying max diff\"] == True])\n",
                "\n",
                "# Plot those two averages on a histogram\n",
                "title = \"What characterises the outlying HFEV1 max diff values?<br>Comparing the HFEV1 exact posteriors averages for 2 groups<br> given max ecFEV1 in bin 1-2L, using the 4 days model\"\n",
                "fig = make_subplots(rows=2, cols=1, shared_xaxes=True, vertical_spacing=0.1)\n",
                "ih.plot_histogram(\n",
                "    fig,\n",
                "    HFEV1,\n",
                "    avg_above,\n",
                "    HFEV1.a,\n",
                "    HFEV1.b,\n",
                "    1,\n",
                "    1,\n",
                "    name=f\"Above 0.001 (#{n_above})\",\n",
                "    annot=False,\n",
                ")\n",
                "ih.plot_histogram(\n",
                "    fig,\n",
                "    HFEV1,\n",
                "    avg_below,\n",
                "    HFEV1.a,\n",
                "    HFEV1.b,\n",
                "    2,\n",
                "    1,\n",
                "    name=f\"Below 0.001 (#{n_below})\",\n",
                "    annot=False,\n",
                ")\n",
                "# Ad legend title\n",
                "fig.update_layout(legend_title_text=\"Absolute max difference:\")\n",
                "fig.update_xaxes(title_standoff=1, title=HFEV1.name, row=2, col=1)\n",
                "fig.update_layout(\n",
                "    width=600, height=300, showlegend=True, font=dict(size=9), title=title\n",
                ")\n",
                "fig.show()\n",
                "# Write image\n",
                "fig.write_image(dh.get_path_to_main() + f\"PlotsBreathe/N days model/{title}.pdf\")"
            ]
        },
        {
            "cell_type": "code",
            "execution_count": null,
            "metadata": {},
            "outputs": [
                {
                    "data": {
                        "application/vnd.plotly.v1+json": {
                            "config": {
                                "plotlyServerURL": "https://plot.ly"
                            },
                            "data": [
                                {
                                    "alignmentgroup": "True",
                                    "hovertemplate": "idx O2 saturation (%)=%{x}<br>4 days HFEV1 max diff=%{y}<extra></extra>",
                                    "legendgroup": "",
                                    "marker": {
                                        "color": "#636efa"
                                    },
                                    "name": "",
                                    "notched": false,
                                    "offsetgroup": "",
                                    "orientation": "v",
                                    "showlegend": false,
                                    "type": "box",
                                    "x": [
                                        24,
                                        24,
                                        23,
                                        22,
                                        15,
                                        23,
                                        24,
                                        24,
                                        23,
                                        22,
                                        24,
                                        24,
                                        23,
                                        23,
                                        23,
                                        25,
                                        22,
                                        23,
                                        23,
                                        25,
                                        23,
                                        24,
                                        22,
                                        24,
                                        23,
                                        24,
                                        23,
                                        25,
                                        23,
                                        24,
                                        22,
                                        22,
                                        24,
                                        24,
                                        23,
                                        25,
                                        24,
                                        24,
                                        23,
                                        24,
                                        24,
                                        19,
                                        24,
                                        24,
                                        23,
                                        24,
                                        24,
                                        21,
                                        23,
                                        23,
                                        24,
                                        24,
                                        23,
                                        23,
                                        24,
                                        23,
                                        24,
                                        24,
                                        24,
                                        22,
                                        23,
                                        24,
                                        24
                                    ],
                                    "x0": " ",
                                    "xaxis": "x",
                                    "y": [
                                        0.006368351452482712,
                                        0.005494064683597366,
                                        0.0002181159809860889,
                                        0.000277445219691197,
                                        5.796967940396858e-12,
                                        0.000008606993565085652,
                                        0.00006447492388783616,
                                        0.007271827176979828,
                                        0.0003710511395196292,
                                        0.0007312952326710143,
                                        5.050894136271467e-8,
                                        2.52479883666723e-8,
                                        0.003980264195117322,
                                        0.000005958051441323775,
                                        0.000137801872621246,
                                        0.00002110762679174982,
                                        0.00109452629581952,
                                        0.000005368919533177419,
                                        0.0002728979776867035,
                                        0.0002460800258300422,
                                        0.0005166857133476199,
                                        5.594457643809392e-7,
                                        0.00002201983279037645,
                                        3.050033731133439e-7,
                                        0.00722319043502051,
                                        5.612103138874502e-7,
                                        0.0003526436095278029,
                                        0.000001248129309905366,
                                        0.00001041971351645188,
                                        4.173775680627045e-7,
                                        0.0001286959263301357,
                                        0.0001320995797616797,
                                        0.00009528555731197486,
                                        0.00009250271960881129,
                                        0.0006415970194348919,
                                        5.016253856737762e-9,
                                        0.00005556973964737644,
                                        0.00001752612927496955,
                                        0.00009641272338323237,
                                        0.0003060929455247496,
                                        0.0008633800192673347,
                                        0.00001077059599774444,
                                        7.088038587177437e-7,
                                        0.000001722222753519631,
                                        0.000156090068482273,
                                        0.00000529227722356751,
                                        0.0008846544660544575,
                                        0.001682026593932795,
                                        0.004622520434519162,
                                        0.00005086296706066813,
                                        0.000008368452209750465,
                                        0.000005407563980486252,
                                        0.005198275378347939,
                                        0.00007747922453027467,
                                        0.0001446160486878734,
                                        2.850626364958586e-7,
                                        0.002976578499321536,
                                        0.000002248729141229866,
                                        1.624171430680832e-7,
                                        0.0003464674064368456,
                                        0.002921093537589847,
                                        0.000189838915826801,
                                        0.004285074602386807
                                    ],
                                    "y0": " ",
                                    "yaxis": "y"
                                }
                            ],
                            "layout": {
                                "boxmode": "group",
                                "height": 400,
                                "legend": {
                                    "tracegroupgap": 0
                                },
                                "margin": {
                                    "t": 60
                                },
                                "showlegend": false,
                                "template": {
                                    "data": {
                                        "bar": [
                                            {
                                                "error_x": {
                                                    "color": "#2a3f5f"
                                                },
                                                "error_y": {
                                                    "color": "#2a3f5f"
                                                },
                                                "marker": {
                                                    "line": {
                                                        "color": "#E5ECF6",
                                                        "width": 0.5
                                                    },
                                                    "pattern": {
                                                        "fillmode": "overlay",
                                                        "size": 10,
                                                        "solidity": 0.2
                                                    }
                                                },
                                                "type": "bar"
                                            }
                                        ],
                                        "barpolar": [
                                            {
                                                "marker": {
                                                    "line": {
                                                        "color": "#E5ECF6",
                                                        "width": 0.5
                                                    },
                                                    "pattern": {
                                                        "fillmode": "overlay",
                                                        "size": 10,
                                                        "solidity": 0.2
                                                    }
                                                },
                                                "type": "barpolar"
                                            }
                                        ],
                                        "carpet": [
                                            {
                                                "aaxis": {
                                                    "endlinecolor": "#2a3f5f",
                                                    "gridcolor": "white",
                                                    "linecolor": "white",
                                                    "minorgridcolor": "white",
                                                    "startlinecolor": "#2a3f5f"
                                                },
                                                "baxis": {
                                                    "endlinecolor": "#2a3f5f",
                                                    "gridcolor": "white",
                                                    "linecolor": "white",
                                                    "minorgridcolor": "white",
                                                    "startlinecolor": "#2a3f5f"
                                                },
                                                "type": "carpet"
                                            }
                                        ],
                                        "choropleth": [
                                            {
                                                "colorbar": {
                                                    "outlinewidth": 0,
                                                    "ticks": ""
                                                },
                                                "type": "choropleth"
                                            }
                                        ],
                                        "contour": [
                                            {
                                                "colorbar": {
                                                    "outlinewidth": 0,
                                                    "ticks": ""
                                                },
                                                "colorscale": [
                                                    [
                                                        0,
                                                        "#0d0887"
                                                    ],
                                                    [
                                                        0.1111111111111111,
                                                        "#46039f"
                                                    ],
                                                    [
                                                        0.2222222222222222,
                                                        "#7201a8"
                                                    ],
                                                    [
                                                        0.3333333333333333,
                                                        "#9c179e"
                                                    ],
                                                    [
                                                        0.4444444444444444,
                                                        "#bd3786"
                                                    ],
                                                    [
                                                        0.5555555555555556,
                                                        "#d8576b"
                                                    ],
                                                    [
                                                        0.6666666666666666,
                                                        "#ed7953"
                                                    ],
                                                    [
                                                        0.7777777777777778,
                                                        "#fb9f3a"
                                                    ],
                                                    [
                                                        0.8888888888888888,
                                                        "#fdca26"
                                                    ],
                                                    [
                                                        1,
                                                        "#f0f921"
                                                    ]
                                                ],
                                                "type": "contour"
                                            }
                                        ],
                                        "contourcarpet": [
                                            {
                                                "colorbar": {
                                                    "outlinewidth": 0,
                                                    "ticks": ""
                                                },
                                                "type": "contourcarpet"
                                            }
                                        ],
                                        "heatmap": [
                                            {
                                                "colorbar": {
                                                    "outlinewidth": 0,
                                                    "ticks": ""
                                                },
                                                "colorscale": [
                                                    [
                                                        0,
                                                        "#0d0887"
                                                    ],
                                                    [
                                                        0.1111111111111111,
                                                        "#46039f"
                                                    ],
                                                    [
                                                        0.2222222222222222,
                                                        "#7201a8"
                                                    ],
                                                    [
                                                        0.3333333333333333,
                                                        "#9c179e"
                                                    ],
                                                    [
                                                        0.4444444444444444,
                                                        "#bd3786"
                                                    ],
                                                    [
                                                        0.5555555555555556,
                                                        "#d8576b"
                                                    ],
                                                    [
                                                        0.6666666666666666,
                                                        "#ed7953"
                                                    ],
                                                    [
                                                        0.7777777777777778,
                                                        "#fb9f3a"
                                                    ],
                                                    [
                                                        0.8888888888888888,
                                                        "#fdca26"
                                                    ],
                                                    [
                                                        1,
                                                        "#f0f921"
                                                    ]
                                                ],
                                                "type": "heatmap"
                                            }
                                        ],
                                        "heatmapgl": [
                                            {
                                                "colorbar": {
                                                    "outlinewidth": 0,
                                                    "ticks": ""
                                                },
                                                "colorscale": [
                                                    [
                                                        0,
                                                        "#0d0887"
                                                    ],
                                                    [
                                                        0.1111111111111111,
                                                        "#46039f"
                                                    ],
                                                    [
                                                        0.2222222222222222,
                                                        "#7201a8"
                                                    ],
                                                    [
                                                        0.3333333333333333,
                                                        "#9c179e"
                                                    ],
                                                    [
                                                        0.4444444444444444,
                                                        "#bd3786"
                                                    ],
                                                    [
                                                        0.5555555555555556,
                                                        "#d8576b"
                                                    ],
                                                    [
                                                        0.6666666666666666,
                                                        "#ed7953"
                                                    ],
                                                    [
                                                        0.7777777777777778,
                                                        "#fb9f3a"
                                                    ],
                                                    [
                                                        0.8888888888888888,
                                                        "#fdca26"
                                                    ],
                                                    [
                                                        1,
                                                        "#f0f921"
                                                    ]
                                                ],
                                                "type": "heatmapgl"
                                            }
                                        ],
                                        "histogram": [
                                            {
                                                "marker": {
                                                    "pattern": {
                                                        "fillmode": "overlay",
                                                        "size": 10,
                                                        "solidity": 0.2
                                                    }
                                                },
                                                "type": "histogram"
                                            }
                                        ],
                                        "histogram2d": [
                                            {
                                                "colorbar": {
                                                    "outlinewidth": 0,
                                                    "ticks": ""
                                                },
                                                "colorscale": [
                                                    [
                                                        0,
                                                        "#0d0887"
                                                    ],
                                                    [
                                                        0.1111111111111111,
                                                        "#46039f"
                                                    ],
                                                    [
                                                        0.2222222222222222,
                                                        "#7201a8"
                                                    ],
                                                    [
                                                        0.3333333333333333,
                                                        "#9c179e"
                                                    ],
                                                    [
                                                        0.4444444444444444,
                                                        "#bd3786"
                                                    ],
                                                    [
                                                        0.5555555555555556,
                                                        "#d8576b"
                                                    ],
                                                    [
                                                        0.6666666666666666,
                                                        "#ed7953"
                                                    ],
                                                    [
                                                        0.7777777777777778,
                                                        "#fb9f3a"
                                                    ],
                                                    [
                                                        0.8888888888888888,
                                                        "#fdca26"
                                                    ],
                                                    [
                                                        1,
                                                        "#f0f921"
                                                    ]
                                                ],
                                                "type": "histogram2d"
                                            }
                                        ],
                                        "histogram2dcontour": [
                                            {
                                                "colorbar": {
                                                    "outlinewidth": 0,
                                                    "ticks": ""
                                                },
                                                "colorscale": [
                                                    [
                                                        0,
                                                        "#0d0887"
                                                    ],
                                                    [
                                                        0.1111111111111111,
                                                        "#46039f"
                                                    ],
                                                    [
                                                        0.2222222222222222,
                                                        "#7201a8"
                                                    ],
                                                    [
                                                        0.3333333333333333,
                                                        "#9c179e"
                                                    ],
                                                    [
                                                        0.4444444444444444,
                                                        "#bd3786"
                                                    ],
                                                    [
                                                        0.5555555555555556,
                                                        "#d8576b"
                                                    ],
                                                    [
                                                        0.6666666666666666,
                                                        "#ed7953"
                                                    ],
                                                    [
                                                        0.7777777777777778,
                                                        "#fb9f3a"
                                                    ],
                                                    [
                                                        0.8888888888888888,
                                                        "#fdca26"
                                                    ],
                                                    [
                                                        1,
                                                        "#f0f921"
                                                    ]
                                                ],
                                                "type": "histogram2dcontour"
                                            }
                                        ],
                                        "mesh3d": [
                                            {
                                                "colorbar": {
                                                    "outlinewidth": 0,
                                                    "ticks": ""
                                                },
                                                "type": "mesh3d"
                                            }
                                        ],
                                        "parcoords": [
                                            {
                                                "line": {
                                                    "colorbar": {
                                                        "outlinewidth": 0,
                                                        "ticks": ""
                                                    }
                                                },
                                                "type": "parcoords"
                                            }
                                        ],
                                        "pie": [
                                            {
                                                "automargin": true,
                                                "type": "pie"
                                            }
                                        ],
                                        "scatter": [
                                            {
                                                "fillpattern": {
                                                    "fillmode": "overlay",
                                                    "size": 10,
                                                    "solidity": 0.2
                                                },
                                                "type": "scatter"
                                            }
                                        ],
                                        "scatter3d": [
                                            {
                                                "line": {
                                                    "colorbar": {
                                                        "outlinewidth": 0,
                                                        "ticks": ""
                                                    }
                                                },
                                                "marker": {
                                                    "colorbar": {
                                                        "outlinewidth": 0,
                                                        "ticks": ""
                                                    }
                                                },
                                                "type": "scatter3d"
                                            }
                                        ],
                                        "scattercarpet": [
                                            {
                                                "marker": {
                                                    "colorbar": {
                                                        "outlinewidth": 0,
                                                        "ticks": ""
                                                    }
                                                },
                                                "type": "scattercarpet"
                                            }
                                        ],
                                        "scattergeo": [
                                            {
                                                "marker": {
                                                    "colorbar": {
                                                        "outlinewidth": 0,
                                                        "ticks": ""
                                                    }
                                                },
                                                "type": "scattergeo"
                                            }
                                        ],
                                        "scattergl": [
                                            {
                                                "marker": {
                                                    "colorbar": {
                                                        "outlinewidth": 0,
                                                        "ticks": ""
                                                    }
                                                },
                                                "type": "scattergl"
                                            }
                                        ],
                                        "scattermapbox": [
                                            {
                                                "marker": {
                                                    "colorbar": {
                                                        "outlinewidth": 0,
                                                        "ticks": ""
                                                    }
                                                },
                                                "type": "scattermapbox"
                                            }
                                        ],
                                        "scatterpolar": [
                                            {
                                                "marker": {
                                                    "colorbar": {
                                                        "outlinewidth": 0,
                                                        "ticks": ""
                                                    }
                                                },
                                                "type": "scatterpolar"
                                            }
                                        ],
                                        "scatterpolargl": [
                                            {
                                                "marker": {
                                                    "colorbar": {
                                                        "outlinewidth": 0,
                                                        "ticks": ""
                                                    }
                                                },
                                                "type": "scatterpolargl"
                                            }
                                        ],
                                        "scatterternary": [
                                            {
                                                "marker": {
                                                    "colorbar": {
                                                        "outlinewidth": 0,
                                                        "ticks": ""
                                                    }
                                                },
                                                "type": "scatterternary"
                                            }
                                        ],
                                        "surface": [
                                            {
                                                "colorbar": {
                                                    "outlinewidth": 0,
                                                    "ticks": ""
                                                },
                                                "colorscale": [
                                                    [
                                                        0,
                                                        "#0d0887"
                                                    ],
                                                    [
                                                        0.1111111111111111,
                                                        "#46039f"
                                                    ],
                                                    [
                                                        0.2222222222222222,
                                                        "#7201a8"
                                                    ],
                                                    [
                                                        0.3333333333333333,
                                                        "#9c179e"
                                                    ],
                                                    [
                                                        0.4444444444444444,
                                                        "#bd3786"
                                                    ],
                                                    [
                                                        0.5555555555555556,
                                                        "#d8576b"
                                                    ],
                                                    [
                                                        0.6666666666666666,
                                                        "#ed7953"
                                                    ],
                                                    [
                                                        0.7777777777777778,
                                                        "#fb9f3a"
                                                    ],
                                                    [
                                                        0.8888888888888888,
                                                        "#fdca26"
                                                    ],
                                                    [
                                                        1,
                                                        "#f0f921"
                                                    ]
                                                ],
                                                "type": "surface"
                                            }
                                        ],
                                        "table": [
                                            {
                                                "cells": {
                                                    "fill": {
                                                        "color": "#EBF0F8"
                                                    },
                                                    "line": {
                                                        "color": "white"
                                                    }
                                                },
                                                "header": {
                                                    "fill": {
                                                        "color": "#C8D4E3"
                                                    },
                                                    "line": {
                                                        "color": "white"
                                                    }
                                                },
                                                "type": "table"
                                            }
                                        ]
                                    },
                                    "layout": {
                                        "annotationdefaults": {
                                            "arrowcolor": "#2a3f5f",
                                            "arrowhead": 0,
                                            "arrowwidth": 1
                                        },
                                        "autotypenumbers": "strict",
                                        "coloraxis": {
                                            "colorbar": {
                                                "outlinewidth": 0,
                                                "ticks": ""
                                            }
                                        },
                                        "colorscale": {
                                            "diverging": [
                                                [
                                                    0,
                                                    "#8e0152"
                                                ],
                                                [
                                                    0.1,
                                                    "#c51b7d"
                                                ],
                                                [
                                                    0.2,
                                                    "#de77ae"
                                                ],
                                                [
                                                    0.3,
                                                    "#f1b6da"
                                                ],
                                                [
                                                    0.4,
                                                    "#fde0ef"
                                                ],
                                                [
                                                    0.5,
                                                    "#f7f7f7"
                                                ],
                                                [
                                                    0.6,
                                                    "#e6f5d0"
                                                ],
                                                [
                                                    0.7,
                                                    "#b8e186"
                                                ],
                                                [
                                                    0.8,
                                                    "#7fbc41"
                                                ],
                                                [
                                                    0.9,
                                                    "#4d9221"
                                                ],
                                                [
                                                    1,
                                                    "#276419"
                                                ]
                                            ],
                                            "sequential": [
                                                [
                                                    0,
                                                    "#0d0887"
                                                ],
                                                [
                                                    0.1111111111111111,
                                                    "#46039f"
                                                ],
                                                [
                                                    0.2222222222222222,
                                                    "#7201a8"
                                                ],
                                                [
                                                    0.3333333333333333,
                                                    "#9c179e"
                                                ],
                                                [
                                                    0.4444444444444444,
                                                    "#bd3786"
                                                ],
                                                [
                                                    0.5555555555555556,
                                                    "#d8576b"
                                                ],
                                                [
                                                    0.6666666666666666,
                                                    "#ed7953"
                                                ],
                                                [
                                                    0.7777777777777778,
                                                    "#fb9f3a"
                                                ],
                                                [
                                                    0.8888888888888888,
                                                    "#fdca26"
                                                ],
                                                [
                                                    1,
                                                    "#f0f921"
                                                ]
                                            ],
                                            "sequentialminus": [
                                                [
                                                    0,
                                                    "#0d0887"
                                                ],
                                                [
                                                    0.1111111111111111,
                                                    "#46039f"
                                                ],
                                                [
                                                    0.2222222222222222,
                                                    "#7201a8"
                                                ],
                                                [
                                                    0.3333333333333333,
                                                    "#9c179e"
                                                ],
                                                [
                                                    0.4444444444444444,
                                                    "#bd3786"
                                                ],
                                                [
                                                    0.5555555555555556,
                                                    "#d8576b"
                                                ],
                                                [
                                                    0.6666666666666666,
                                                    "#ed7953"
                                                ],
                                                [
                                                    0.7777777777777778,
                                                    "#fb9f3a"
                                                ],
                                                [
                                                    0.8888888888888888,
                                                    "#fdca26"
                                                ],
                                                [
                                                    1,
                                                    "#f0f921"
                                                ]
                                            ]
                                        },
                                        "colorway": [
                                            "#636efa",
                                            "#EF553B",
                                            "#00cc96",
                                            "#ab63fa",
                                            "#FFA15A",
                                            "#19d3f3",
                                            "#FF6692",
                                            "#B6E880",
                                            "#FF97FF",
                                            "#FECB52"
                                        ],
                                        "font": {
                                            "color": "#2a3f5f"
                                        },
                                        "geo": {
                                            "bgcolor": "white",
                                            "lakecolor": "white",
                                            "landcolor": "#E5ECF6",
                                            "showlakes": true,
                                            "showland": true,
                                            "subunitcolor": "white"
                                        },
                                        "hoverlabel": {
                                            "align": "left"
                                        },
                                        "hovermode": "closest",
                                        "mapbox": {
                                            "style": "light"
                                        },
                                        "paper_bgcolor": "white",
                                        "plot_bgcolor": "#E5ECF6",
                                        "polar": {
                                            "angularaxis": {
                                                "gridcolor": "white",
                                                "linecolor": "white",
                                                "ticks": ""
                                            },
                                            "bgcolor": "#E5ECF6",
                                            "radialaxis": {
                                                "gridcolor": "white",
                                                "linecolor": "white",
                                                "ticks": ""
                                            }
                                        },
                                        "scene": {
                                            "xaxis": {
                                                "backgroundcolor": "#E5ECF6",
                                                "gridcolor": "white",
                                                "gridwidth": 2,
                                                "linecolor": "white",
                                                "showbackground": true,
                                                "ticks": "",
                                                "zerolinecolor": "white"
                                            },
                                            "yaxis": {
                                                "backgroundcolor": "#E5ECF6",
                                                "gridcolor": "white",
                                                "gridwidth": 2,
                                                "linecolor": "white",
                                                "showbackground": true,
                                                "ticks": "",
                                                "zerolinecolor": "white"
                                            },
                                            "zaxis": {
                                                "backgroundcolor": "#E5ECF6",
                                                "gridcolor": "white",
                                                "gridwidth": 2,
                                                "linecolor": "white",
                                                "showbackground": true,
                                                "ticks": "",
                                                "zerolinecolor": "white"
                                            }
                                        },
                                        "shapedefaults": {
                                            "line": {
                                                "color": "#2a3f5f"
                                            }
                                        },
                                        "ternary": {
                                            "aaxis": {
                                                "gridcolor": "white",
                                                "linecolor": "white",
                                                "ticks": ""
                                            },
                                            "baxis": {
                                                "gridcolor": "white",
                                                "linecolor": "white",
                                                "ticks": ""
                                            },
                                            "bgcolor": "#E5ECF6",
                                            "caxis": {
                                                "gridcolor": "white",
                                                "linecolor": "white",
                                                "ticks": ""
                                            }
                                        },
                                        "title": {
                                            "x": 0.05
                                        },
                                        "xaxis": {
                                            "automargin": true,
                                            "gridcolor": "white",
                                            "linecolor": "white",
                                            "ticks": "",
                                            "title": {
                                                "standoff": 15
                                            },
                                            "zerolinecolor": "white",
                                            "zerolinewidth": 2
                                        },
                                        "yaxis": {
                                            "automargin": true,
                                            "gridcolor": "white",
                                            "linecolor": "white",
                                            "ticks": "",
                                            "title": {
                                                "standoff": 15
                                            },
                                            "zerolinecolor": "white",
                                            "zerolinewidth": 2
                                        }
                                    }
                                },
                                "title": {
                                    "text": "Does the HFEV1 diff correlates with max ecFEV1 values?"
                                },
                                "width": 800,
                                "xaxis": {
                                    "anchor": "y",
                                    "domain": [
                                        0,
                                        1
                                    ],
                                    "ticktext": [
                                        "15 (#1)",
                                        "19 (#1)",
                                        "20 (#1)",
                                        "21 (#3)",
                                        "22 (#13)",
                                        "23 (#50)",
                                        "24 (#158)",
                                        "25 (#29)"
                                    ],
                                    "tickvals": [
                                        15,
                                        19,
                                        20,
                                        21,
                                        22,
                                        23,
                                        24,
                                        25
                                    ],
                                    "title": {
                                        "text": "idx O2 saturation (%)"
                                    }
                                },
                                "yaxis": {
                                    "anchor": "x",
                                    "domain": [
                                        0,
                                        1
                                    ],
                                    "tickvals": [
                                        0.0001,
                                        0.001,
                                        0.003,
                                        0.005,
                                        0.007
                                    ],
                                    "title": {
                                        "text": "4 days HFEV1 max diff"
                                    }
                                }
                            }
                        }
                    },
                    "metadata": {},
                    "output_type": "display_data"
                },
                {
                    "name": "stdout",
                    "output_type": "stream",
                    "text": [
                        "Value counts for day 1 idx\n"
                    ]
                }
            ],
            "source": [
                "# Does HFEV1 diff correlates with high max ecFEV1?\n",
                "title = f\"Does the HFEV1 diff correlates with max ecFEV1 values?\"\n",
                "var = \"HFEV1\"\n",
                "# idx_col = \"\"idx Max ecFEV1\"\"\n",
                "idx_col = \"idx ecFEV1 (L)\"\n",
                "idx_col = \"idx O2 saturation (%)\"\n",
                "\n",
                "fig = px.box(\n",
                "    df_diffs_2nd_bin,\n",
                "    x=idx_col,\n",
                "    y=f\"4 days {var} max diff\",\n",
                "    # color=\"N days model\",\n",
                "    # title=title,\n",
                "    # hover_data=ref_cols,\n",
                ")\n",
                "val_counts = df_diffs.value_counts(idx_col).sort_index()\n",
                "xaxislabels = list(\n",
                "    map(lambda x: f\"{x[0]} (#{x[1]})\", zip(val_counts.index, val_counts.values))\n",
                ")\n",
                "# Update x axis labels\n",
                "fig.update_xaxes(tickvals=val_counts.index, ticktext=xaxislabels)\n",
                "# Add 10e-4 p on y axis label\n",
                "fig.update_yaxes(tickvals=[0.0001, 0.001, 0.003, 0.005, 0.007])\n",
                "fig.update_layout(title=title, showlegend=False, width=800, height=400)\n",
                "fig.show()\n",
                "print(\"Value counts for day 1 idx\")\n",
                "\n",
                "# Save image\n",
                "# fig.write_image(dh.get_path_to_main() + f\"PlotsBreathe/N days model/{title}.pdf\")"
            ]
        },
        {
            "cell_type": "markdown",
            "metadata": {},
            "source": [
                "## For how many days does the inference run in finite time?"
            ]
        },
        {
            "cell_type": "code",
            "execution_count": null,
            "metadata": {},
            "outputs": [],
            "source": [
                "res_exact = ih.infer(\n",
                "    inference_alg=inf_alg_exact,\n",
                "    variables=shared_vars_exact,\n",
                "    evidence=obs_vars_exact,\n",
                "    debug=False,\n",
                ")"
            ]
        }
    ],
    "metadata": {
        "kernelspec": {
            "display_name": "phd",
            "language": "python",
            "name": "python3"
        },
        "language_info": {
            "codemirror_mode": {
                "name": "ipython",
                "version": 3
            },
            "file_extension": ".py",
            "mimetype": "text/x-python",
            "name": "python",
            "nbconvert_exporter": "python",
            "pygments_lexer": "ipython3",
            "version": "3.10.13"
        }
    },
    "nbformat": 4,
    "nbformat_minor": 2
}
