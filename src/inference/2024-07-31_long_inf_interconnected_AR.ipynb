{
 "cells": [
  {
   "cell_type": "code",
   "execution_count": 1,
   "metadata": {},
   "outputs": [],
   "source": [
    "import src.data.breathe_data as breathe_data\n",
    "import src.inference.long_inf_slicing as slicing\n",
    "import src.models.builders as mb\n",
    "import src.models.var_builders as var_builders\n",
    "import src.inference.helpers as ih\n",
    "from plotly.subplots import make_subplots\n",
    "\n",
    "\n",
    "import pandas as pd\n",
    "import numpy as np"
   ]
  },
  {
   "cell_type": "code",
   "execution_count": 2,
   "metadata": {},
   "outputs": [
    {
     "name": "stderr",
     "output_type": "stream",
     "text": [
      "INFO:root:* Checking for same day measurements *\n"
     ]
    }
   ],
   "source": [
    "df = breathe_data.load_meas_from_excel(\"BR_O2_FEV1_FEF2575_with_idx\")"
   ]
  },
  {
   "cell_type": "code",
   "execution_count": 5,
   "metadata": {},
   "outputs": [
    {
     "name": "stdout",
     "output_type": "stream",
     "text": [
      "\n",
      "ID: 101\n",
      "Number of datapoints: 1680\n"
     ]
    }
   ],
   "source": [
    "# Initialize variables (not used for inference)\n",
    "(HFEV1, ecFEV1, AR, HO2Sat, O2SatFFA, IA, UO2Sat, O2Sat, ecFEF2575prctecFEV1) = (\n",
    "    var_builders.o2sat_fev1_fef2575_point_in_time_model_shared_healthy_vars(\n",
    "        160, 40, \"Male\"\n",
    "    )\n",
    ")\n",
    "\n",
    "key_hfev1 = f\"['{ecFEV1.name}', '{HFEV1.name}', '{AR.name}'] -> {HFEV1.name}\"\n",
    "key_ho2sat = f\"['{O2SatFFA.name}', '{HO2Sat.name}', '{AR.name}'] -> {HO2Sat.name}\"\n",
    "HFEV1.set_factor_node_key(key_hfev1)\n",
    "HO2Sat.set_factor_node_key(key_ho2sat)\n",
    "\n",
    "vars = [AR, IA]\n",
    "shared_vars = [HFEV1, HO2Sat]\n",
    "# obs_vars = [ecFEV1.name, O2Sat.name, ecFEF2575prctecFEV1.name]\n",
    "obs_vars = [ecFEV1.name, O2Sat.name]\n",
    "# obs_vars = [ecFEV1.name]\n",
    "\n",
    "\n",
    "def infer_and_plot_for_id(df_for_ID, shared_vars, vars, obs_vars, diff_threshold=1e-8):\n",
    "    df_for_ID = df_for_ID.reset_index(drop=True)\n",
    "    print(f\"\\nID: {df_for_ID.ID.iloc[0]}\")\n",
    "    print(f\"Number of datapoints: {len(df_for_ID)}\")\n",
    "\n",
    "    height = df_for_ID.Height.iloc[0]\n",
    "    age = df_for_ID.Age.iloc[0]\n",
    "    sex = df_for_ID.Sex.iloc[0]\n",
    "    (\n",
    "        _,\n",
    "        inf_alg,\n",
    "        HFEV1,\n",
    "        ecFEV1,\n",
    "        AR,\n",
    "        HO2Sat,\n",
    "        O2SatFFA,\n",
    "        IA,\n",
    "        UO2Sat,\n",
    "        O2Sat,\n",
    "        ecFEF2575prctecFEV1,\n",
    "    ) = mb.o2sat_fev1_fef2575_point_in_time_model_shared_healthy_vars(\n",
    "        height, age, sex, ia_prior=\"uniform\", ar_prior=\"uniform message to HFEV1\"\n",
    "    )\n",
    "\n",
    "    df_query_res, df_res_before_convergence, shared_vars_final = (\n",
    "        slicing.query_back_and_forth_across_days(\n",
    "            df_for_ID, inf_alg, shared_vars, vars, obs_vars, diff_threshold, debug=False\n",
    "        )\n",
    "    )\n",
    "\n",
    "    save = True\n",
    "\n",
    "    colorscale = [\n",
    "        [0, \"white\"],\n",
    "        [0.01, \"red\"],\n",
    "        [0.05, \"yellow\"],\n",
    "        [0.1, \"cyan\"],\n",
    "        [0.6, \"blue\"],\n",
    "        [1, \"black\"],\n",
    "    ]\n",
    "\n",
    "    slicing.plot_posterior_validation(\n",
    "        df_res_before_convergence,\n",
    "        HFEV1,\n",
    "        HO2Sat,\n",
    "        df_for_ID,\n",
    "        ecFEV1,\n",
    "        O2Sat,\n",
    "        colorscale,\n",
    "        save,\n",
    "    )\n",
    "\n",
    "    slicing.plot_query_res(\n",
    "        df_for_ID, ecFEV1, O2Sat, df_query_res, AR, IA, HFEV1, HO2Sat, colorscale, save\n",
    "    )\n",
    "    return df_query_res, df_res_before_convergence, shared_vars_final\n",
    "\n",
    "\n",
    "interesting_ids = [\n",
    "    \"132\",\n",
    "    \"146\",\n",
    "    \"177\",\n",
    "    \"180\",\n",
    "    \"202\",\n",
    "    \"527\",\n",
    "    \"117\",\n",
    "    \"131\",\n",
    "    \"134\",\n",
    "    \"191\",\n",
    "    \"139\",\n",
    "    \"253\",\n",
    "    \"101\",\n",
    "]\n",
    "df_for_ID = df[df[\"ID\"] == \"101\"]\n",
    "df_query_res, df_res_before_convergence, shared_vars_final = infer_and_plot_for_id(\n",
    "    df_for_ID, shared_vars, vars, obs_vars, diff_threshold=1e-2\n",
    ")\n",
    "# df[df.ID.isin(interesting_ids)].groupby(\"ID\").apply(\n",
    "#     lambda df_for_ID: infer_and_plot_for_id(\n",
    "#         df_for_ID, shared_vars, vars, obs_vars, diff_threshold=1e-6\n",
    "#     )\n",
    "# )"
   ]
  },
  {
   "cell_type": "code",
   "execution_count": null,
   "metadata": {},
   "outputs": [],
   "source": []
  }
 ],
 "metadata": {
  "kernelspec": {
   "display_name": "phd",
   "language": "python",
   "name": "python3"
  },
  "language_info": {
   "codemirror_mode": {
    "name": "ipython",
    "version": 3
   },
   "file_extension": ".py",
   "mimetype": "text/x-python",
   "name": "python",
   "nbconvert_exporter": "python",
   "pygments_lexer": "ipython3",
   "version": "3.10.13"
  }
 },
 "nbformat": 4,
 "nbformat_minor": 2
}
