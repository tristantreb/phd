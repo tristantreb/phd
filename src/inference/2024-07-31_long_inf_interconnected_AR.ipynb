{
    "cells": [
        {
            "cell_type": "code",
            "execution_count": 15,
            "metadata": {},
            "outputs": [],
            "source": [
                "import src.data.breathe_data as bd\n",
                "import src.inference.long_inf_slicing as slicing\n",
                "import src.models.builders as mb\n",
                "import src.models.var_builders as var_builders\n",
                "import src.inference.helpers as ih\n",
                "from plotly.subplots import make_subplots\n",
                "import src.models.helpers as mh\n",
                "\n",
                "import pandas as pd\n",
                "import numpy as np"
            ]
        },
        {
            "cell_type": "code",
            "execution_count": 16,
            "metadata": {},
            "outputs": [
                {
                    "name": "stderr",
                    "output_type": "stream",
                    "text": [
                        "INFO:root:* Checking for same day measurements *\n"
                    ]
                }
            ],
            "source": [
                "df = bd.load_meas_from_excel(\"BR_O2_FEV1_FEF2575_conservative_smoothing_with_idx\")"
            ]
        },
        {
            "cell_type": "markdown",
            "metadata": {},
            "source": [
                "## Calc consecutive days"
            ]
        },
        {
            "cell_type": "code",
            "execution_count": 17,
            "metadata": {},
            "outputs": [
                {
                    "name": "stdout",
                    "output_type": "stream",
                    "text": [
                        "Index([], dtype='int64')\n"
                    ]
                }
            ],
            "source": [
                "def get_consec_days(df):\n",
                "    df = df.sort_values(by=\"Date Recorded\")\n",
                "    df[\"Prev day\"] = df[\"Date Recorded\"].shift(1)\n",
                "    # Compute n days between measurements\n",
                "    df[\"Days elapsed\"] = df[\"Date Recorded\"] - df[\"Prev day\"]\n",
                "    # Remove nan\n",
                "    df = df.dropna(subset=[\"Days elapsed\"])\n",
                "\n",
                "    # Get first idx where Days elapsed is greater than 1\n",
                "    idx = df[df[\"Days elapsed\"] > pd.Timedelta(days=3)].index\n",
                "    print(idx)\n",
                "\n",
                "    return df\n",
                "\n",
                "\n",
                "df_tmp = df[df.ID == \"405\"]\n",
                "df_tmp = get_consec_days(df_tmp)\n",
                "# Not finished"
            ]
        },
        {
            "cell_type": "code",
            "execution_count": 12,
            "metadata": {},
            "outputs": [
                {
                    "data": {
                        "text/plain": [
                            "Days elapsed\n",
                            "1 days    1012\n",
                            "2 days      22\n",
                            "Name: count, dtype: int64"
                        ]
                    },
                    "execution_count": 12,
                    "metadata": {},
                    "output_type": "execute_result"
                }
            ],
            "source": [
                "df_tmp['Days elapsed'].value_counts()"
            ]
        },
        {
            "cell_type": "markdown",
            "metadata": {},
            "source": [
                "## Inference through time"
            ]
        },
        {
            "cell_type": "code",
            "execution_count": 5,
            "metadata": {},
            "outputs": [
                {
                    "name": "stdout",
                    "output_type": "stream",
                    "text": [
                        "\n",
                        "ID: 101\n",
                        "Number of datapoints: 591\n",
                        "Pass 1 - Posteriors' diff for Healthy FEV1 (L): 1.1598247730123832\n",
                        "Pass 1 - Posteriors' diff for Healthy O2 saturation (%): 1.4626076335118903\n",
                        "Pass 2 - Posteriors' diff for Healthy FEV1 (L): 0.1822192562395705\n",
                        "Pass 2 - Posteriors' diff for Healthy O2 saturation (%): 3.612553237819037e-11\n",
                        "\n",
                        "ID: 405\n",
                        "Number of datapoints: 1035\n",
                        "Pass 1 - Posteriors' diff for Healthy FEV1 (L): 1.1029346856259064\n",
                        "Pass 1 - Posteriors' diff for Healthy O2 saturation (%): 1.481342110311506\n",
                        "Pass 2 - Posteriors' diff for Healthy FEV1 (L): 0.2709656906997049\n",
                        "Pass 2 - Posteriors' diff for Healthy O2 saturation (%): 2.964134792857958e-12\n",
                        "\n",
                        "ID: 272\n",
                        "Number of datapoints: 417\n",
                        "Pass 1 - Posteriors' diff for Healthy FEV1 (L): 1.3493082800195373\n",
                        "Pass 1 - Posteriors' diff for Healthy O2 saturation (%): 1.4714769810290058\n",
                        "Pass 2 - Posteriors' diff for Healthy FEV1 (L): 0.30242080708763597\n",
                        "Pass 2 - Posteriors' diff for Healthy O2 saturation (%): 3.3863207227479266e-11\n",
                        "\n",
                        "ID: 201\n",
                        "Number of datapoints: 289\n",
                        "Pass 1 - Posteriors' diff for Healthy FEV1 (L): 1.4036761005691876\n",
                        "Pass 1 - Posteriors' diff for Healthy O2 saturation (%): 1.4823345137474486\n",
                        "Pass 2 - Posteriors' diff for Healthy FEV1 (L): 0.5778786353380145\n",
                        "Pass 2 - Posteriors' diff for Healthy O2 saturation (%): 2.6110356771263558e-11\n",
                        "\n",
                        "ID: 203\n",
                        "Number of datapoints: 285\n"
                    ]
                },
                {
                    "ename": "KeyboardInterrupt",
                    "evalue": "",
                    "output_type": "error",
                    "traceback": [
                        "\u001b[0;31m---------------------------------------------------------------------------\u001b[0m",
                        "\u001b[0;31mKeyboardInterrupt\u001b[0m                         Traceback (most recent call last)",
                        "Cell \u001b[0;32mIn[5], line 141\u001b[0m\n\u001b[1;32m    137\u001b[0m df_query_res, df_res_before_convergence, shared_vars_final \u001b[38;5;241m=\u001b[39m infer_and_plot_for_id(\n\u001b[1;32m    138\u001b[0m     df_for_ID, diff_threshold\u001b[38;5;241m=\u001b[39m\u001b[38;5;241m1e-2\u001b[39m\n\u001b[1;32m    139\u001b[0m )\n\u001b[1;32m    140\u001b[0m df_for_ID \u001b[38;5;241m=\u001b[39m df[df[\u001b[38;5;124m\"\u001b[39m\u001b[38;5;124mID\u001b[39m\u001b[38;5;124m\"\u001b[39m] \u001b[38;5;241m==\u001b[39m \u001b[38;5;124m\"\u001b[39m\u001b[38;5;124m203\u001b[39m\u001b[38;5;124m\"\u001b[39m]\u001b[38;5;241m.\u001b[39miloc[:\u001b[38;5;241m285\u001b[39m]\n\u001b[0;32m--> 141\u001b[0m df_query_res, df_res_before_convergence, shared_vars_final \u001b[38;5;241m=\u001b[39m \u001b[43minfer_and_plot_for_id\u001b[49m\u001b[43m(\u001b[49m\n\u001b[1;32m    142\u001b[0m \u001b[43m    \u001b[49m\u001b[43mdf_for_ID\u001b[49m\u001b[43m,\u001b[49m\u001b[43m \u001b[49m\u001b[43mdiff_threshold\u001b[49m\u001b[38;5;241;43m=\u001b[39;49m\u001b[38;5;241;43m1e-2\u001b[39;49m\n\u001b[1;32m    143\u001b[0m \u001b[43m)\u001b[49m\n",
                        "Cell \u001b[0;32mIn[5], line 50\u001b[0m, in \u001b[0;36minfer_and_plot_for_id\u001b[0;34m(df_for_ID, diff_threshold)\u001b[0m\n\u001b[1;32m     44\u001b[0m \u001b[38;5;66;03m# obs_vars = [ecFEV1.name, O2Sat.name]\u001b[39;00m\n\u001b[1;32m     45\u001b[0m \u001b[38;5;66;03m# obs_vars = [ecFEV1.name, O2Sat.name, ecFEF2575prctecFEV1.name]\u001b[39;00m\n\u001b[1;32m     46\u001b[0m \u001b[38;5;66;03m# obs_vars = [ecFEV1.name, ecFEF2575prctecFEV1.name]\u001b[39;00m\n\u001b[1;32m     47\u001b[0m obs_vars \u001b[38;5;241m=\u001b[39m [ecFEV1\u001b[38;5;241m.\u001b[39mname]\n\u001b[1;32m     49\u001b[0m df_query_res, df_res_before_convergence, shared_vars_final \u001b[38;5;241m=\u001b[39m (\n\u001b[0;32m---> 50\u001b[0m     \u001b[43mslicing\u001b[49m\u001b[38;5;241;43m.\u001b[39;49m\u001b[43mquery_back_and_forth_across_days_AR\u001b[49m\u001b[43m(\u001b[49m\n\u001b[1;32m     51\u001b[0m \u001b[43m        \u001b[49m\u001b[43mdf_for_ID\u001b[49m\u001b[43m,\u001b[49m\n\u001b[1;32m     52\u001b[0m \u001b[43m        \u001b[49m\u001b[43minf_alg\u001b[49m\u001b[43m,\u001b[49m\n\u001b[1;32m     53\u001b[0m \u001b[43m        \u001b[49m\u001b[43mshared_vars\u001b[49m\u001b[43m,\u001b[49m\n\u001b[1;32m     54\u001b[0m \u001b[43m        \u001b[49m\u001b[38;5;28;43mvars\u001b[39;49m\u001b[43m,\u001b[49m\n\u001b[1;32m     55\u001b[0m \u001b[43m        \u001b[49m\u001b[43mobs_vars\u001b[49m\u001b[43m,\u001b[49m\n\u001b[1;32m     56\u001b[0m \u001b[43m        \u001b[49m\u001b[43mdiff_threshold\u001b[49m\u001b[43m,\u001b[49m\n\u001b[1;32m     57\u001b[0m \u001b[43m        \u001b[49m\u001b[43mdebug\u001b[49m\u001b[38;5;241;43m=\u001b[39;49m\u001b[38;5;28;43;01mFalse\u001b[39;49;00m\u001b[43m,\u001b[49m\n\u001b[1;32m     58\u001b[0m \u001b[43m        \u001b[49m\u001b[43mmax_passes\u001b[49m\u001b[38;5;241;43m=\u001b[39;49m\u001b[38;5;241;43m1\u001b[39;49m\u001b[43m,\u001b[49m\n\u001b[1;32m     59\u001b[0m \u001b[43m        \u001b[49m\u001b[43minterconnect_AR\u001b[49m\u001b[38;5;241;43m=\u001b[39;49m\u001b[43minterconnected_AR\u001b[49m\u001b[43m,\u001b[49m\n\u001b[1;32m     60\u001b[0m \u001b[43m        \u001b[49m\u001b[43mauto_reset_shared_vars\u001b[49m\u001b[38;5;241;43m=\u001b[39;49m\u001b[38;5;28;43;01mFalse\u001b[39;49;00m\n\u001b[1;32m     61\u001b[0m \u001b[43m    \u001b[49m\u001b[43m)\u001b[49m\n\u001b[1;32m     62\u001b[0m )\n\u001b[1;32m     64\u001b[0m colorscale \u001b[38;5;241m=\u001b[39m [\n\u001b[1;32m     65\u001b[0m     [\u001b[38;5;241m0\u001b[39m, \u001b[38;5;124m\"\u001b[39m\u001b[38;5;124mwhite\u001b[39m\u001b[38;5;124m\"\u001b[39m],\n\u001b[1;32m     66\u001b[0m     [\u001b[38;5;241m0.01\u001b[39m, \u001b[38;5;124m\"\u001b[39m\u001b[38;5;124mred\u001b[39m\u001b[38;5;124m\"\u001b[39m],\n\u001b[0;32m   (...)\u001b[0m\n\u001b[1;32m     70\u001b[0m     [\u001b[38;5;241m1\u001b[39m, \u001b[38;5;124m\"\u001b[39m\u001b[38;5;124mblack\u001b[39m\u001b[38;5;124m\"\u001b[39m],\n\u001b[1;32m     71\u001b[0m ]\n\u001b[1;32m     73\u001b[0m obs_vars_str \u001b[38;5;241m=\u001b[39m \u001b[38;5;124m\"\u001b[39m\u001b[38;5;124m, \u001b[39m\u001b[38;5;124m\"\u001b[39m\u001b[38;5;241m.\u001b[39mjoin([mh\u001b[38;5;241m.\u001b[39mname_to_abbr(var) \u001b[38;5;28;01mfor\u001b[39;00m var \u001b[38;5;129;01min\u001b[39;00m obs_vars])\n",
                        "File \u001b[0;32m~/Desktop/PhD/Code/phd/src/inference/long_inf_slicing.py:494\u001b[0m, in \u001b[0;36mquery_back_and_forth_across_days_AR\u001b[0;34m(df, belief_propagation, shared_variables, variables, evidence_variables, diff_threshold, debug, auto_reset_shared_vars, max_passes, interconnect_AR)\u001b[0m\n\u001b[1;32m    490\u001b[0m     vevidence_str \u001b[38;5;241m=\u001b[39m [(cpd\u001b[38;5;241m.\u001b[39mvariable, cpd\u001b[38;5;241m.\u001b[39mvalues) \u001b[38;5;28;01mfor\u001b[39;00m cpd \u001b[38;5;129;01min\u001b[39;00m vevidence]\n\u001b[1;32m    491\u001b[0m     \u001b[38;5;28mprint\u001b[39m(\n\u001b[1;32m    492\u001b[0m         \u001b[38;5;124mf\u001b[39m\u001b[38;5;124m\"\u001b[39m\u001b[38;5;124mQuerying all variables: \u001b[39m\u001b[38;5;132;01m{\u001b[39;00mvars_to_infer\u001b[38;5;132;01m}\u001b[39;00m\u001b[38;5;124m with evidence: \u001b[39m\u001b[38;5;132;01m{\u001b[39;00mevidence_dict\u001b[38;5;132;01m}\u001b[39;00m\u001b[38;5;124m and virtual evidence: \u001b[39m\u001b[38;5;132;01m{\u001b[39;00mvevidence_str\u001b[38;5;132;01m}\u001b[39;00m\u001b[38;5;124m\"\u001b[39m\n\u001b[1;32m    493\u001b[0m     )\n\u001b[0;32m--> 494\u001b[0m query_res, query_messages \u001b[38;5;241m=\u001b[39m \u001b[43mbelief_propagation\u001b[49m\u001b[38;5;241;43m.\u001b[39;49m\u001b[43mquery\u001b[49m\u001b[43m(\u001b[49m\n\u001b[1;32m    495\u001b[0m \u001b[43m    \u001b[49m\u001b[43mvars_to_infer\u001b[49m\u001b[43m,\u001b[49m\n\u001b[1;32m    496\u001b[0m \u001b[43m    \u001b[49m\u001b[43mevidence_dict\u001b[49m\u001b[43m,\u001b[49m\n\u001b[1;32m    497\u001b[0m \u001b[43m    \u001b[49m\u001b[43mvevidence\u001b[49m\u001b[43m,\u001b[49m\n\u001b[1;32m    498\u001b[0m \u001b[43m    \u001b[49m\u001b[43mget_messages\u001b[49m\u001b[38;5;241;43m=\u001b[39;49m\u001b[38;5;28;43;01mTrue\u001b[39;49;00m\u001b[43m,\u001b[49m\n\u001b[1;32m    499\u001b[0m \u001b[43m\u001b[49m\u001b[43m)\u001b[49m\n\u001b[1;32m    501\u001b[0m \u001b[38;5;66;03m# Get newly computed message from the query output\u001b[39;00m\n\u001b[1;32m    502\u001b[0m \u001b[38;5;28;01mfor\u001b[39;00m shared_var \u001b[38;5;129;01min\u001b[39;00m shared_variables:\n",
                        "File \u001b[0;32m~/Desktop/PhD/Code/pgmpy/pgmpy/inference/ExactInference.py:1497\u001b[0m, in \u001b[0;36mBeliefPropagationWithMessageParsing.query\u001b[0;34m(self, variables, evidence, virtual_evidence, get_messages)\u001b[0m\n\u001b[1;32m   1490\u001b[0m         \u001b[38;5;28;01mraise\u001b[39;00m \u001b[38;5;167;01mValueError\u001b[39;00m(\n\u001b[1;32m   1491\u001b[0m             \u001b[38;5;124mf\u001b[39m\u001b[38;5;124m\"\u001b[39m\u001b[38;5;124mCan\u001b[39m\u001b[38;5;124m'\u001b[39m\u001b[38;5;124mt have the same variables in both `evidence` and `virtual_evidence`. Found in both: \u001b[39m\u001b[38;5;132;01m{\u001b[39;00mcommon_vars\u001b[38;5;132;01m}\u001b[39;00m\u001b[38;5;124m\"\u001b[39m\n\u001b[1;32m   1492\u001b[0m         )\n\u001b[1;32m   1494\u001b[0m query \u001b[38;5;241m=\u001b[39m \u001b[38;5;28mself\u001b[39m\u001b[38;5;241m.\u001b[39m_RecursiveMessageSchedulingQuery(\n\u001b[1;32m   1495\u001b[0m     \u001b[38;5;28mself\u001b[39m, variables, evidence, virtual_evidence, get_messages\n\u001b[1;32m   1496\u001b[0m )\n\u001b[0;32m-> 1497\u001b[0m \u001b[38;5;28;01mreturn\u001b[39;00m \u001b[43mquery\u001b[49m\u001b[38;5;241;43m.\u001b[39;49m\u001b[43mrun\u001b[49m\u001b[43m(\u001b[49m\u001b[43m)\u001b[49m\n",
                        "File \u001b[0;32m~/Desktop/PhD/Code/pgmpy/pgmpy/inference/ExactInference.py:1297\u001b[0m, in \u001b[0;36mBeliefPropagationWithMessageParsing._RecursiveMessageSchedulingQuery.run\u001b[0;34m(self)\u001b[0m\n\u001b[1;32m   1295\u001b[0m agg_res \u001b[38;5;241m=\u001b[39m {}\n\u001b[1;32m   1296\u001b[0m \u001b[38;5;28;01mfor\u001b[39;00m variable \u001b[38;5;129;01min\u001b[39;00m \u001b[38;5;28mself\u001b[39m\u001b[38;5;241m.\u001b[39mvariables:\n\u001b[0;32m-> 1297\u001b[0m     res \u001b[38;5;241m=\u001b[39m \u001b[38;5;28;43mself\u001b[39;49m\u001b[38;5;241;43m.\u001b[39;49m\u001b[43mschedule_variable_node_messages\u001b[49m\u001b[43m(\u001b[49m\n\u001b[1;32m   1298\u001b[0m \u001b[43m        \u001b[49m\u001b[43mvariable\u001b[49m\u001b[43m,\u001b[49m\n\u001b[1;32m   1299\u001b[0m \u001b[43m        \u001b[49m\u001b[43mfrom_factor\u001b[49m\u001b[38;5;241;43m=\u001b[39;49m\u001b[38;5;28;43;01mNone\u001b[39;49;00m\u001b[43m,\u001b[49m\n\u001b[1;32m   1300\u001b[0m \u001b[43m    \u001b[49m\u001b[43m)\u001b[49m\n\u001b[1;32m   1301\u001b[0m     agg_res[variable] \u001b[38;5;241m=\u001b[39m DiscreteFactor([variable], [\u001b[38;5;28mlen\u001b[39m(res)], res)\n\u001b[1;32m   1302\u001b[0m \u001b[38;5;28;01mif\u001b[39;00m \u001b[38;5;28mself\u001b[39m\u001b[38;5;241m.\u001b[39mall_messages \u001b[38;5;129;01mis\u001b[39;00m \u001b[38;5;28;01mNone\u001b[39;00m:\n",
                        "File \u001b[0;32m~/Desktop/PhD/Code/pgmpy/pgmpy/inference/ExactInference.py:1360\u001b[0m, in \u001b[0;36mBeliefPropagationWithMessageParsing._RecursiveMessageSchedulingQuery.schedule_variable_node_messages\u001b[0;34m(self, variable, from_factor)\u001b[0m\n\u001b[1;32m   1358\u001b[0m incoming_messages \u001b[38;5;241m=\u001b[39m []\n\u001b[1;32m   1359\u001b[0m \u001b[38;5;28;01mfor\u001b[39;00m factor \u001b[38;5;129;01min\u001b[39;00m incoming_factors:\n\u001b[0;32m-> 1360\u001b[0m     incoming_message \u001b[38;5;241m=\u001b[39m \u001b[38;5;28;43mself\u001b[39;49m\u001b[38;5;241;43m.\u001b[39;49m\u001b[43mschedule_factor_node_messages\u001b[49m\u001b[43m(\u001b[49m\n\u001b[1;32m   1361\u001b[0m \u001b[43m        \u001b[49m\u001b[43mfactor\u001b[49m\u001b[43m,\u001b[49m\u001b[43m \u001b[49m\u001b[43mvariable\u001b[49m\n\u001b[1;32m   1362\u001b[0m \u001b[43m    \u001b[49m\u001b[43m)\u001b[49m\n\u001b[1;32m   1364\u001b[0m     \u001b[38;5;28;01mif\u001b[39;00m \u001b[38;5;28mself\u001b[39m\u001b[38;5;241m.\u001b[39mall_messages \u001b[38;5;129;01mis\u001b[39;00m \u001b[38;5;129;01mnot\u001b[39;00m \u001b[38;5;28;01mNone\u001b[39;00m:\n\u001b[1;32m   1365\u001b[0m         \u001b[38;5;66;03m# Store the message if it's not already stored\u001b[39;00m\n\u001b[1;32m   1366\u001b[0m         factor_node_key \u001b[38;5;241m=\u001b[39m \u001b[38;5;124mf\u001b[39m\u001b[38;5;124m\"\u001b[39m\u001b[38;5;132;01m{\u001b[39;00mfactor\u001b[38;5;241m.\u001b[39mvariables\u001b[38;5;132;01m}\u001b[39;00m\u001b[38;5;124m -> \u001b[39m\u001b[38;5;132;01m{\u001b[39;00mvariable\u001b[38;5;132;01m}\u001b[39;00m\u001b[38;5;124m\"\u001b[39m\n",
                        "File \u001b[0;32m~/Desktop/PhD/Code/pgmpy/pgmpy/inference/ExactInference.py:1398\u001b[0m, in \u001b[0;36mBeliefPropagationWithMessageParsing._RecursiveMessageSchedulingQuery.schedule_factor_node_messages\u001b[0;34m(self, factor, from_variable)\u001b[0m\n\u001b[1;32m   1396\u001b[0m incoming_messages \u001b[38;5;241m=\u001b[39m []\n\u001b[1;32m   1397\u001b[0m \u001b[38;5;28;01mfor\u001b[39;00m var \u001b[38;5;129;01min\u001b[39;00m incoming_vars:\n\u001b[0;32m-> 1398\u001b[0m     incoming_message \u001b[38;5;241m=\u001b[39m \u001b[38;5;28;43mself\u001b[39;49m\u001b[38;5;241;43m.\u001b[39;49m\u001b[43mschedule_variable_node_messages\u001b[49m\u001b[43m(\u001b[49m\u001b[43mvar\u001b[49m\u001b[43m,\u001b[49m\u001b[43m \u001b[49m\u001b[43mfactor\u001b[49m\u001b[43m)\u001b[49m\n\u001b[1;32m   1400\u001b[0m     \u001b[38;5;28;01mif\u001b[39;00m \u001b[38;5;28mself\u001b[39m\u001b[38;5;241m.\u001b[39mall_messages \u001b[38;5;129;01mis\u001b[39;00m \u001b[38;5;129;01mnot\u001b[39;00m \u001b[38;5;28;01mNone\u001b[39;00m:\n\u001b[1;32m   1401\u001b[0m         \u001b[38;5;66;03m# Store the message if it's not already stored\u001b[39;00m\n\u001b[1;32m   1402\u001b[0m         node_factor_key \u001b[38;5;241m=\u001b[39m \u001b[38;5;124mf\u001b[39m\u001b[38;5;124m\"\u001b[39m\u001b[38;5;132;01m{\u001b[39;00mvar\u001b[38;5;132;01m}\u001b[39;00m\u001b[38;5;124m -> \u001b[39m\u001b[38;5;132;01m{\u001b[39;00mfactor\u001b[38;5;241m.\u001b[39mvariables\u001b[38;5;132;01m}\u001b[39;00m\u001b[38;5;124m\"\u001b[39m\n",
                        "File \u001b[0;32m~/Desktop/PhD/Code/pgmpy/pgmpy/inference/ExactInference.py:1360\u001b[0m, in \u001b[0;36mBeliefPropagationWithMessageParsing._RecursiveMessageSchedulingQuery.schedule_variable_node_messages\u001b[0;34m(self, variable, from_factor)\u001b[0m\n\u001b[1;32m   1358\u001b[0m incoming_messages \u001b[38;5;241m=\u001b[39m []\n\u001b[1;32m   1359\u001b[0m \u001b[38;5;28;01mfor\u001b[39;00m factor \u001b[38;5;129;01min\u001b[39;00m incoming_factors:\n\u001b[0;32m-> 1360\u001b[0m     incoming_message \u001b[38;5;241m=\u001b[39m \u001b[38;5;28;43mself\u001b[39;49m\u001b[38;5;241;43m.\u001b[39;49m\u001b[43mschedule_factor_node_messages\u001b[49m\u001b[43m(\u001b[49m\n\u001b[1;32m   1361\u001b[0m \u001b[43m        \u001b[49m\u001b[43mfactor\u001b[49m\u001b[43m,\u001b[49m\u001b[43m \u001b[49m\u001b[43mvariable\u001b[49m\n\u001b[1;32m   1362\u001b[0m \u001b[43m    \u001b[49m\u001b[43m)\u001b[49m\n\u001b[1;32m   1364\u001b[0m     \u001b[38;5;28;01mif\u001b[39;00m \u001b[38;5;28mself\u001b[39m\u001b[38;5;241m.\u001b[39mall_messages \u001b[38;5;129;01mis\u001b[39;00m \u001b[38;5;129;01mnot\u001b[39;00m \u001b[38;5;28;01mNone\u001b[39;00m:\n\u001b[1;32m   1365\u001b[0m         \u001b[38;5;66;03m# Store the message if it's not already stored\u001b[39;00m\n\u001b[1;32m   1366\u001b[0m         factor_node_key \u001b[38;5;241m=\u001b[39m \u001b[38;5;124mf\u001b[39m\u001b[38;5;124m\"\u001b[39m\u001b[38;5;132;01m{\u001b[39;00mfactor\u001b[38;5;241m.\u001b[39mvariables\u001b[38;5;132;01m}\u001b[39;00m\u001b[38;5;124m -> \u001b[39m\u001b[38;5;132;01m{\u001b[39;00mvariable\u001b[38;5;132;01m}\u001b[39;00m\u001b[38;5;124m\"\u001b[39m\n",
                        "File \u001b[0;32m~/Desktop/PhD/Code/pgmpy/pgmpy/inference/ExactInference.py:1398\u001b[0m, in \u001b[0;36mBeliefPropagationWithMessageParsing._RecursiveMessageSchedulingQuery.schedule_factor_node_messages\u001b[0;34m(self, factor, from_variable)\u001b[0m\n\u001b[1;32m   1396\u001b[0m incoming_messages \u001b[38;5;241m=\u001b[39m []\n\u001b[1;32m   1397\u001b[0m \u001b[38;5;28;01mfor\u001b[39;00m var \u001b[38;5;129;01min\u001b[39;00m incoming_vars:\n\u001b[0;32m-> 1398\u001b[0m     incoming_message \u001b[38;5;241m=\u001b[39m \u001b[38;5;28;43mself\u001b[39;49m\u001b[38;5;241;43m.\u001b[39;49m\u001b[43mschedule_variable_node_messages\u001b[49m\u001b[43m(\u001b[49m\u001b[43mvar\u001b[49m\u001b[43m,\u001b[49m\u001b[43m \u001b[49m\u001b[43mfactor\u001b[49m\u001b[43m)\u001b[49m\n\u001b[1;32m   1400\u001b[0m     \u001b[38;5;28;01mif\u001b[39;00m \u001b[38;5;28mself\u001b[39m\u001b[38;5;241m.\u001b[39mall_messages \u001b[38;5;129;01mis\u001b[39;00m \u001b[38;5;129;01mnot\u001b[39;00m \u001b[38;5;28;01mNone\u001b[39;00m:\n\u001b[1;32m   1401\u001b[0m         \u001b[38;5;66;03m# Store the message if it's not already stored\u001b[39;00m\n\u001b[1;32m   1402\u001b[0m         node_factor_key \u001b[38;5;241m=\u001b[39m \u001b[38;5;124mf\u001b[39m\u001b[38;5;124m\"\u001b[39m\u001b[38;5;132;01m{\u001b[39;00mvar\u001b[38;5;132;01m}\u001b[39;00m\u001b[38;5;124m -> \u001b[39m\u001b[38;5;132;01m{\u001b[39;00mfactor\u001b[38;5;241m.\u001b[39mvariables\u001b[38;5;132;01m}\u001b[39;00m\u001b[38;5;124m\"\u001b[39m\n",
                        "File \u001b[0;32m~/Desktop/PhD/Code/pgmpy/pgmpy/inference/ExactInference.py:1343\u001b[0m, in \u001b[0;36mBeliefPropagationWithMessageParsing._RecursiveMessageSchedulingQuery.schedule_variable_node_messages\u001b[0;34m(self, variable, from_factor)\u001b[0m\n\u001b[1;32m   1332\u001b[0m \u001b[38;5;28;01mif\u001b[39;00m (\n\u001b[1;32m   1333\u001b[0m     \u001b[38;5;28mself\u001b[39m\u001b[38;5;241m.\u001b[39mvirtual_evidence \u001b[38;5;129;01mis\u001b[39;00m \u001b[38;5;129;01mnot\u001b[39;00m \u001b[38;5;28;01mNone\u001b[39;00m\n\u001b[1;32m   1334\u001b[0m     \u001b[38;5;129;01mand\u001b[39;00m variable\n\u001b[1;32m   1335\u001b[0m     \u001b[38;5;129;01min\u001b[39;00m \u001b[38;5;28mself\u001b[39m\u001b[38;5;241m.\u001b[39mbp\u001b[38;5;241m.\u001b[39m_get_virtual_evidence_var_list(\u001b[38;5;28mself\u001b[39m\u001b[38;5;241m.\u001b[39mvirtual_evidence)\n\u001b[1;32m   1336\u001b[0m ):\n\u001b[1;32m   1337\u001b[0m     virtual_messages \u001b[38;5;241m=\u001b[39m [\n\u001b[1;32m   1338\u001b[0m         cpd\u001b[38;5;241m.\u001b[39mvalues\n\u001b[1;32m   1339\u001b[0m         \u001b[38;5;28;01mfor\u001b[39;00m cpd \u001b[38;5;129;01min\u001b[39;00m \u001b[38;5;28mself\u001b[39m\u001b[38;5;241m.\u001b[39mvirtual_evidence\n\u001b[1;32m   1340\u001b[0m         \u001b[38;5;28;01mif\u001b[39;00m cpd\u001b[38;5;241m.\u001b[39mvariables[\u001b[38;5;241m0\u001b[39m] \u001b[38;5;241m==\u001b[39m variable\n\u001b[1;32m   1341\u001b[0m     ]\n\u001b[0;32m-> 1343\u001b[0m incoming_factors \u001b[38;5;241m=\u001b[39m [\n\u001b[1;32m   1344\u001b[0m     factor\n\u001b[1;32m   1345\u001b[0m     \u001b[38;5;28;01mfor\u001b[39;00m factor \u001b[38;5;129;01min\u001b[39;00m \u001b[38;5;28mlist\u001b[39m(\u001b[38;5;28mself\u001b[39m\u001b[38;5;241m.\u001b[39mbp\u001b[38;5;241m.\u001b[39mmodel\u001b[38;5;241m.\u001b[39mneighbors(variable))\n\u001b[1;32m   1346\u001b[0m     \u001b[38;5;28;01mif\u001b[39;00m factor \u001b[38;5;241m!=\u001b[39m from_factor\n\u001b[1;32m   1347\u001b[0m ]\n\u001b[1;32m   1349\u001b[0m \u001b[38;5;28;01mif\u001b[39;00m \u001b[38;5;28mlen\u001b[39m(incoming_factors) \u001b[38;5;241m==\u001b[39m \u001b[38;5;241m0\u001b[39m:\n\u001b[1;32m   1350\u001b[0m     \u001b[38;5;66;03m# Is an unobserved leaf variable\u001b[39;00m\n\u001b[1;32m   1351\u001b[0m     message \u001b[38;5;241m=\u001b[39m \u001b[38;5;28mself\u001b[39m\u001b[38;5;241m.\u001b[39mbp\u001b[38;5;241m.\u001b[39mmodel\u001b[38;5;241m.\u001b[39mget_uniform_message(variable)\n",
                        "File \u001b[0;32m~/Desktop/PhD/Code/pgmpy/pgmpy/inference/ExactInference.py:1346\u001b[0m, in \u001b[0;36m<listcomp>\u001b[0;34m(.0)\u001b[0m\n\u001b[1;32m   1332\u001b[0m \u001b[38;5;28;01mif\u001b[39;00m (\n\u001b[1;32m   1333\u001b[0m     \u001b[38;5;28mself\u001b[39m\u001b[38;5;241m.\u001b[39mvirtual_evidence \u001b[38;5;129;01mis\u001b[39;00m \u001b[38;5;129;01mnot\u001b[39;00m \u001b[38;5;28;01mNone\u001b[39;00m\n\u001b[1;32m   1334\u001b[0m     \u001b[38;5;129;01mand\u001b[39;00m variable\n\u001b[1;32m   1335\u001b[0m     \u001b[38;5;129;01min\u001b[39;00m \u001b[38;5;28mself\u001b[39m\u001b[38;5;241m.\u001b[39mbp\u001b[38;5;241m.\u001b[39m_get_virtual_evidence_var_list(\u001b[38;5;28mself\u001b[39m\u001b[38;5;241m.\u001b[39mvirtual_evidence)\n\u001b[1;32m   1336\u001b[0m ):\n\u001b[1;32m   1337\u001b[0m     virtual_messages \u001b[38;5;241m=\u001b[39m [\n\u001b[1;32m   1338\u001b[0m         cpd\u001b[38;5;241m.\u001b[39mvalues\n\u001b[1;32m   1339\u001b[0m         \u001b[38;5;28;01mfor\u001b[39;00m cpd \u001b[38;5;129;01min\u001b[39;00m \u001b[38;5;28mself\u001b[39m\u001b[38;5;241m.\u001b[39mvirtual_evidence\n\u001b[1;32m   1340\u001b[0m         \u001b[38;5;28;01mif\u001b[39;00m cpd\u001b[38;5;241m.\u001b[39mvariables[\u001b[38;5;241m0\u001b[39m] \u001b[38;5;241m==\u001b[39m variable\n\u001b[1;32m   1341\u001b[0m     ]\n\u001b[1;32m   1343\u001b[0m incoming_factors \u001b[38;5;241m=\u001b[39m [\n\u001b[1;32m   1344\u001b[0m     factor\n\u001b[1;32m   1345\u001b[0m     \u001b[38;5;28;01mfor\u001b[39;00m factor \u001b[38;5;129;01min\u001b[39;00m \u001b[38;5;28mlist\u001b[39m(\u001b[38;5;28mself\u001b[39m\u001b[38;5;241m.\u001b[39mbp\u001b[38;5;241m.\u001b[39mmodel\u001b[38;5;241m.\u001b[39mneighbors(variable))\n\u001b[0;32m-> 1346\u001b[0m     \u001b[38;5;28;01mif\u001b[39;00m \u001b[43mfactor\u001b[49m\u001b[43m \u001b[49m\u001b[38;5;241;43m!=\u001b[39;49m\u001b[43m \u001b[49m\u001b[43mfrom_factor\u001b[49m\n\u001b[1;32m   1347\u001b[0m ]\n\u001b[1;32m   1349\u001b[0m \u001b[38;5;28;01mif\u001b[39;00m \u001b[38;5;28mlen\u001b[39m(incoming_factors) \u001b[38;5;241m==\u001b[39m \u001b[38;5;241m0\u001b[39m:\n\u001b[1;32m   1350\u001b[0m     \u001b[38;5;66;03m# Is an unobserved leaf variable\u001b[39;00m\n\u001b[1;32m   1351\u001b[0m     message \u001b[38;5;241m=\u001b[39m \u001b[38;5;28mself\u001b[39m\u001b[38;5;241m.\u001b[39mbp\u001b[38;5;241m.\u001b[39mmodel\u001b[38;5;241m.\u001b[39mget_uniform_message(variable)\n",
                        "File \u001b[0;32m~/Desktop/PhD/Code/pgmpy/pgmpy/factors/discrete/DiscreteFactor.py:1015\u001b[0m, in \u001b[0;36mDiscreteFactor.__ne__\u001b[0;34m(self, other)\u001b[0m\n\u001b[1;32m   1014\u001b[0m \u001b[38;5;28;01mdef\u001b[39;00m \u001b[38;5;21m__ne__\u001b[39m(\u001b[38;5;28mself\u001b[39m, other):\n\u001b[0;32m-> 1015\u001b[0m     \u001b[38;5;28;01mreturn\u001b[39;00m \u001b[38;5;129;01mnot\u001b[39;00m \u001b[38;5;28;43mself\u001b[39;49m\u001b[38;5;241;43m.\u001b[39;49m\u001b[38;5;21;43m__eq__\u001b[39;49m\u001b[43m(\u001b[49m\u001b[43mother\u001b[49m\u001b[43m)\u001b[49m\n",
                        "File \u001b[0;32m~/Desktop/PhD/Code/pgmpy/pgmpy/factors/discrete/DiscreteFactor.py:1005\u001b[0m, in \u001b[0;36mDiscreteFactor.__eq__\u001b[0;34m(self, other, atol)\u001b[0m\n\u001b[1;32m   1003\u001b[0m \u001b[38;5;28;01mif\u001b[39;00m phi\u001b[38;5;241m.\u001b[39mvalues\u001b[38;5;241m.\u001b[39mshape \u001b[38;5;241m!=\u001b[39m \u001b[38;5;28mself\u001b[39m\u001b[38;5;241m.\u001b[39mvalues\u001b[38;5;241m.\u001b[39mshape:\n\u001b[1;32m   1004\u001b[0m     \u001b[38;5;28;01mreturn\u001b[39;00m \u001b[38;5;28;01mFalse\u001b[39;00m\n\u001b[0;32m-> 1005\u001b[0m \u001b[38;5;28;01melif\u001b[39;00m \u001b[38;5;129;01mnot\u001b[39;00m \u001b[43mconfig\u001b[49m\u001b[38;5;241;43m.\u001b[39;49m\u001b[43mget_compute_backend\u001b[49m\u001b[43m(\u001b[49m\u001b[43m)\u001b[49m\u001b[38;5;241;43m.\u001b[39;49m\u001b[43mallclose\u001b[49m\u001b[43m(\u001b[49m\n\u001b[1;32m   1006\u001b[0m \u001b[43m    \u001b[49m\u001b[43mphi\u001b[49m\u001b[38;5;241;43m.\u001b[39;49m\u001b[43mvalues\u001b[49m\u001b[43m,\u001b[49m\u001b[43m \u001b[49m\u001b[38;5;28;43mself\u001b[39;49m\u001b[38;5;241;43m.\u001b[39;49m\u001b[43mvalues\u001b[49m\u001b[43m,\u001b[49m\u001b[43m \u001b[49m\u001b[43matol\u001b[49m\u001b[38;5;241;43m=\u001b[39;49m\u001b[43matol\u001b[49m\n\u001b[1;32m   1007\u001b[0m \u001b[43m\u001b[49m\u001b[43m)\u001b[49m:\n\u001b[1;32m   1008\u001b[0m     \u001b[38;5;28;01mreturn\u001b[39;00m \u001b[38;5;28;01mFalse\u001b[39;00m\n\u001b[1;32m   1009\u001b[0m \u001b[38;5;28;01melif\u001b[39;00m \u001b[38;5;129;01mnot\u001b[39;00m \u001b[38;5;28mall\u001b[39m(\u001b[38;5;28mself\u001b[39m\u001b[38;5;241m.\u001b[39mcardinality \u001b[38;5;241m==\u001b[39m phi\u001b[38;5;241m.\u001b[39mcardinality):\n",
                        "File \u001b[0;32m/Applications/anaconda3/envs/phd/lib/python3.10/site-packages/numpy/core/numeric.py:2241\u001b[0m, in \u001b[0;36mallclose\u001b[0;34m(a, b, rtol, atol, equal_nan)\u001b[0m\n\u001b[1;32m   2170\u001b[0m \u001b[38;5;129m@array_function_dispatch\u001b[39m(_allclose_dispatcher)\n\u001b[1;32m   2171\u001b[0m \u001b[38;5;28;01mdef\u001b[39;00m \u001b[38;5;21mallclose\u001b[39m(a, b, rtol\u001b[38;5;241m=\u001b[39m\u001b[38;5;241m1.e-5\u001b[39m, atol\u001b[38;5;241m=\u001b[39m\u001b[38;5;241m1.e-8\u001b[39m, equal_nan\u001b[38;5;241m=\u001b[39m\u001b[38;5;28;01mFalse\u001b[39;00m):\n\u001b[1;32m   2172\u001b[0m \u001b[38;5;250m    \u001b[39m\u001b[38;5;124;03m\"\"\"\u001b[39;00m\n\u001b[1;32m   2173\u001b[0m \u001b[38;5;124;03m    Returns True if two arrays are element-wise equal within a tolerance.\u001b[39;00m\n\u001b[1;32m   2174\u001b[0m \n\u001b[0;32m   (...)\u001b[0m\n\u001b[1;32m   2239\u001b[0m \n\u001b[1;32m   2240\u001b[0m \u001b[38;5;124;03m    \"\"\"\u001b[39;00m\n\u001b[0;32m-> 2241\u001b[0m     res \u001b[38;5;241m=\u001b[39m \u001b[38;5;28mall\u001b[39m(\u001b[43misclose\u001b[49m\u001b[43m(\u001b[49m\u001b[43ma\u001b[49m\u001b[43m,\u001b[49m\u001b[43m \u001b[49m\u001b[43mb\u001b[49m\u001b[43m,\u001b[49m\u001b[43m \u001b[49m\u001b[43mrtol\u001b[49m\u001b[38;5;241;43m=\u001b[39;49m\u001b[43mrtol\u001b[49m\u001b[43m,\u001b[49m\u001b[43m \u001b[49m\u001b[43matol\u001b[49m\u001b[38;5;241;43m=\u001b[39;49m\u001b[43matol\u001b[49m\u001b[43m,\u001b[49m\u001b[43m \u001b[49m\u001b[43mequal_nan\u001b[49m\u001b[38;5;241;43m=\u001b[39;49m\u001b[43mequal_nan\u001b[49m\u001b[43m)\u001b[49m)\n\u001b[1;32m   2242\u001b[0m     \u001b[38;5;28;01mreturn\u001b[39;00m \u001b[38;5;28mbool\u001b[39m(res)\n",
                        "File \u001b[0;32m/Applications/anaconda3/envs/phd/lib/python3.10/site-packages/numpy/core/numeric.py:2350\u001b[0m, in \u001b[0;36misclose\u001b[0;34m(a, b, rtol, atol, equal_nan)\u001b[0m\n\u001b[1;32m   2348\u001b[0m xfin \u001b[38;5;241m=\u001b[39m isfinite(x)\n\u001b[1;32m   2349\u001b[0m yfin \u001b[38;5;241m=\u001b[39m isfinite(y)\n\u001b[0;32m-> 2350\u001b[0m \u001b[38;5;28;01mif\u001b[39;00m \u001b[38;5;28;43mall\u001b[39;49m\u001b[43m(\u001b[49m\u001b[43mxfin\u001b[49m\u001b[43m)\u001b[49m \u001b[38;5;129;01mand\u001b[39;00m \u001b[38;5;28mall\u001b[39m(yfin):\n\u001b[1;32m   2351\u001b[0m     \u001b[38;5;28;01mreturn\u001b[39;00m within_tol(x, y, atol, rtol)\n\u001b[1;32m   2352\u001b[0m \u001b[38;5;28;01melse\u001b[39;00m:\n",
                        "File \u001b[0;32m/Applications/anaconda3/envs/phd/lib/python3.10/site-packages/numpy/core/fromnumeric.py:2504\u001b[0m, in \u001b[0;36mall\u001b[0;34m(a, axis, out, keepdims, where)\u001b[0m\n\u001b[1;32m   2421\u001b[0m \u001b[38;5;129m@array_function_dispatch\u001b[39m(_all_dispatcher)\n\u001b[1;32m   2422\u001b[0m \u001b[38;5;28;01mdef\u001b[39;00m \u001b[38;5;21mall\u001b[39m(a, axis\u001b[38;5;241m=\u001b[39m\u001b[38;5;28;01mNone\u001b[39;00m, out\u001b[38;5;241m=\u001b[39m\u001b[38;5;28;01mNone\u001b[39;00m, keepdims\u001b[38;5;241m=\u001b[39mnp\u001b[38;5;241m.\u001b[39m_NoValue, \u001b[38;5;241m*\u001b[39m, where\u001b[38;5;241m=\u001b[39mnp\u001b[38;5;241m.\u001b[39m_NoValue):\n\u001b[1;32m   2423\u001b[0m \u001b[38;5;250m    \u001b[39m\u001b[38;5;124;03m\"\"\"\u001b[39;00m\n\u001b[1;32m   2424\u001b[0m \u001b[38;5;124;03m    Test whether all array elements along a given axis evaluate to True.\u001b[39;00m\n\u001b[1;32m   2425\u001b[0m \n\u001b[0;32m   (...)\u001b[0m\n\u001b[1;32m   2502\u001b[0m \n\u001b[1;32m   2503\u001b[0m \u001b[38;5;124;03m    \"\"\"\u001b[39;00m\n\u001b[0;32m-> 2504\u001b[0m     \u001b[38;5;28;01mreturn\u001b[39;00m \u001b[43m_wrapreduction\u001b[49m\u001b[43m(\u001b[49m\u001b[43ma\u001b[49m\u001b[43m,\u001b[49m\u001b[43m \u001b[49m\u001b[43mnp\u001b[49m\u001b[38;5;241;43m.\u001b[39;49m\u001b[43mlogical_and\u001b[49m\u001b[43m,\u001b[49m\u001b[43m \u001b[49m\u001b[38;5;124;43m'\u001b[39;49m\u001b[38;5;124;43mall\u001b[39;49m\u001b[38;5;124;43m'\u001b[39;49m\u001b[43m,\u001b[49m\u001b[43m \u001b[49m\u001b[43maxis\u001b[49m\u001b[43m,\u001b[49m\u001b[43m \u001b[49m\u001b[38;5;28;43;01mNone\u001b[39;49;00m\u001b[43m,\u001b[49m\u001b[43m \u001b[49m\u001b[43mout\u001b[49m\u001b[43m,\u001b[49m\n\u001b[1;32m   2505\u001b[0m \u001b[43m                          \u001b[49m\u001b[43mkeepdims\u001b[49m\u001b[38;5;241;43m=\u001b[39;49m\u001b[43mkeepdims\u001b[49m\u001b[43m,\u001b[49m\u001b[43m \u001b[49m\u001b[43mwhere\u001b[49m\u001b[38;5;241;43m=\u001b[39;49m\u001b[43mwhere\u001b[49m\u001b[43m)\u001b[49m\n",
                        "File \u001b[0;32m/Applications/anaconda3/envs/phd/lib/python3.10/site-packages/numpy/core/fromnumeric.py:88\u001b[0m, in \u001b[0;36m_wrapreduction\u001b[0;34m(obj, ufunc, method, axis, dtype, out, **kwargs)\u001b[0m\n\u001b[1;32m     85\u001b[0m         \u001b[38;5;28;01melse\u001b[39;00m:\n\u001b[1;32m     86\u001b[0m             \u001b[38;5;28;01mreturn\u001b[39;00m reduction(axis\u001b[38;5;241m=\u001b[39maxis, out\u001b[38;5;241m=\u001b[39mout, \u001b[38;5;241m*\u001b[39m\u001b[38;5;241m*\u001b[39mpasskwargs)\n\u001b[0;32m---> 88\u001b[0m \u001b[38;5;28;01mreturn\u001b[39;00m \u001b[43mufunc\u001b[49m\u001b[38;5;241;43m.\u001b[39;49m\u001b[43mreduce\u001b[49m\u001b[43m(\u001b[49m\u001b[43mobj\u001b[49m\u001b[43m,\u001b[49m\u001b[43m \u001b[49m\u001b[43maxis\u001b[49m\u001b[43m,\u001b[49m\u001b[43m \u001b[49m\u001b[43mdtype\u001b[49m\u001b[43m,\u001b[49m\u001b[43m \u001b[49m\u001b[43mout\u001b[49m\u001b[43m,\u001b[49m\u001b[43m \u001b[49m\u001b[38;5;241;43m*\u001b[39;49m\u001b[38;5;241;43m*\u001b[39;49m\u001b[43mpasskwargs\u001b[49m\u001b[43m)\u001b[49m\n",
                        "\u001b[0;31mKeyboardInterrupt\u001b[0m: "
                    ]
                }
            ],
            "source": [
                "# Initialize variables (not used for inference)\n",
                "# interconnected_AR = True\n",
                "interconnected_AR = \"fix message up to HFEV1 to truncated uniform\"\n",
                "# ar_change_cpt_suffix = \"_padded_identity_15\"\n",
                "ar_change_cpt_suffix = \"_shift_span_[-20;20]_samples\"\n",
                "save = True\n",
                "if interconnected_AR == \"fix message up to HFEV1 to truncated uniform\":\n",
                "    inteconnected_AR_str = \"interdays AR v2 with trunc uni message to HFEV1, \"\n",
                "else:\n",
                "    inteconnected_AR_str = \"\"\n",
                "\n",
                "\n",
                "def infer_and_plot_for_id(df_for_ID, diff_threshold=1e-8):\n",
                "    df_for_ID = df_for_ID.reset_index(drop=True)\n",
                "    print(f\"\\nID: {df_for_ID.ID.iloc[0]}\")\n",
                "    print(f\"Number of datapoints: {len(df_for_ID)}\")\n",
                "\n",
                "    height = df_for_ID.Height.iloc[0]\n",
                "    age = df_for_ID.Age.iloc[0]\n",
                "    sex = df_for_ID.Sex.iloc[0]\n",
                "    (\n",
                "        _,\n",
                "        inf_alg,\n",
                "        HFEV1,\n",
                "        ecFEV1,\n",
                "        AR,\n",
                "        HO2Sat,\n",
                "        O2SatFFA,\n",
                "        IA,\n",
                "        UO2Sat,\n",
                "        O2Sat,\n",
                "        ecFEF2575prctecFEV1,\n",
                "    ) = mb.o2sat_fev1_fef2575_long_model_shared_healthy_vars_and_temporal_ar(\n",
                "        height, age, sex, ia_prior=\"breathe\", ar_change_cpt_suffix=ar_change_cpt_suffix\n",
                "    )\n",
                "\n",
                "    vars = [AR, IA]\n",
                "    shared_vars = [HFEV1, HO2Sat]\n",
                "    # obs_vars = [ecFEV1.name, O2Sat.name]\n",
                "    # obs_vars = [ecFEV1.name, O2Sat.name, ecFEF2575prctecFEV1.name]\n",
                "    # obs_vars = [ecFEV1.name, ecFEF2575prctecFEV1.name]\n",
                "    obs_vars = [ecFEV1.name]\n",
                "\n",
                "    df_query_res, df_res_before_convergence, shared_vars_final = (\n",
                "        slicing.query_back_and_forth_across_days_AR(\n",
                "            df_for_ID,\n",
                "            inf_alg,\n",
                "            shared_vars,\n",
                "            vars,\n",
                "            obs_vars,\n",
                "            diff_threshold,\n",
                "            debug=False,\n",
                "            max_passes=1,\n",
                "            interconnect_AR=interconnected_AR,\n",
                "            auto_reset_shared_vars=False\n",
                "        )\n",
                "    )\n",
                "\n",
                "    colorscale = [\n",
                "        [0, \"white\"],\n",
                "        [0.01, \"red\"],\n",
                "        [0.05, \"yellow\"],\n",
                "        [0.1, \"cyan\"],\n",
                "        [0.6, \"blue\"],\n",
                "        [1, \"black\"],\n",
                "    ]\n",
                "\n",
                "    obs_vars_str = \", \".join([mh.name_to_abbr(var) for var in obs_vars])\n",
                "    ar_prior_str = f\"AR {ar_change_cpt_suffix}\"\n",
                "    passes = \"back and forth\"\n",
                "\n",
                "    title = f\"ID {df_for_ID.ID[0]} - obs. {obs_vars_str}, {passes}, {inteconnected_AR_str}{ar_prior_str} ({df_for_ID.Sex[0]}, {df_for_ID.Age[0]}yr, {df_for_ID.Height[0]}cm)\"\n",
                "    slicing.plot_posterior_validation(\n",
                "        df_res_before_convergence,\n",
                "        HFEV1,\n",
                "        AR,\n",
                "        df_for_ID,\n",
                "        title,\n",
                "        colorscale,\n",
                "        save,\n",
                "    )\n",
                "\n",
                "    title = f\"ID {df_for_ID.ID[0]} - obs. {obs_vars_str}, {inteconnected_AR_str}{ar_prior_str} ({df_for_ID.Sex[0]}, {df_for_ID.Age[0]}yr, {df_for_ID.Height[0]}cm)\"\n",
                "    slicing.plot_query_res(\n",
                "        df_for_ID,\n",
                "        ecFEV1,\n",
                "        O2Sat,\n",
                "        df_query_res,\n",
                "        AR,\n",
                "        IA,\n",
                "        HFEV1,\n",
                "        HO2Sat,\n",
                "        title,\n",
                "        colorscale,\n",
                "        save,\n",
                "    )\n",
                "    return df_query_res, df_res_before_convergence, shared_vars_final\n",
                "\n",
                "\n",
                "# interesting_ids = [\n",
                "#     \"132\",\n",
                "#     \"146\",\n",
                "#     \"177\",\n",
                "#     \"180\",\n",
                "#     \"202\",\n",
                "#     \"527\",\n",
                "#     \"117\",\n",
                "#     \"131\",\n",
                "#     \"134\",\n",
                "#     \"191\",\n",
                "#     \"139\",\n",
                "#     \"253\",\n",
                "#     \"101\",\n",
                "# ]\n",
                "\n",
                "# Consecutive entries are less than 3 days apart until\n",
                "# 101     (592, 1680)\n",
                "\n",
                "df_for_ID = df[df[\"ID\"] == \"101\"].iloc[:591]\n",
                "df_query_res, df_res_before_convergence, shared_vars_final = infer_and_plot_for_id(\n",
                "    df_for_ID, diff_threshold=1e-2\n",
                ")\n",
                "df_for_ID = df[df[\"ID\"] == \"405\"]\n",
                "df_query_res, df_res_before_convergence, shared_vars_final = infer_and_plot_for_id(\n",
                "    df_for_ID, diff_threshold=1e-2\n",
                ")\n",
                "df_for_ID = df[df[\"ID\"] == \"272\"].iloc[:417]\n",
                "df_query_res, df_res_before_convergence, shared_vars_final = infer_and_plot_for_id(\n",
                "    df_for_ID, diff_threshold=1e-2\n",
                ")\n",
                "df_for_ID = df[df[\"ID\"] == \"201\"].iloc[:289]\n",
                "df_query_res, df_res_before_convergence, shared_vars_final = infer_and_plot_for_id(\n",
                "    df_for_ID, diff_threshold=1e-2\n",
                ")\n",
                "df_for_ID = df[df[\"ID\"] == \"203\"].iloc[:285]\n",
                "df_query_res, df_res_before_convergence, shared_vars_final = infer_and_plot_for_id(\n",
                "    df_for_ID, diff_threshold=1e-2\n",
                ")\n",
                "# df[df.ID.isin(interesting_ids)].groupby(\"ID\").apply(\n",
                "#     lambda df_for_ID: infer_and_plot_for_id(\n",
                "#         df_for_ID, diff_threshold=1e-6\n",
                "#     )\n",
                "# )"
            ]
        },
        {
            "cell_type": "code",
            "execution_count": 22,
            "metadata": {},
            "outputs": [
                {
                    "data": {
                        "text/html": [
                            "<div>\n",
                            "<style scoped>\n",
                            "    .dataframe tbody tr th:only-of-type {\n",
                            "        vertical-align: middle;\n",
                            "    }\n",
                            "\n",
                            "    .dataframe tbody tr th {\n",
                            "        vertical-align: top;\n",
                            "    }\n",
                            "\n",
                            "    .dataframe thead th {\n",
                            "        text-align: right;\n",
                            "    }\n",
                            "</style>\n",
                            "<table border=\"1\" class=\"dataframe\">\n",
                            "  <thead>\n",
                            "    <tr style=\"text-align: right;\">\n",
                            "      <th></th>\n",
                            "      <th>ID</th>\n",
                            "      <th>Day</th>\n",
                            "      <th>Age</th>\n",
                            "      <th>Height</th>\n",
                            "      <th>Sex</th>\n",
                            "      <th>ecFEV1</th>\n",
                            "      <th>ecFEF2575%ecFEV1</th>\n",
                            "      <th>Healthy FEV1 (L)</th>\n",
                            "      <th>Healthy O2 saturation (%)</th>\n",
                            "      <th>Airway resistance (%)</th>\n",
                            "      <th>Inactive alveoli (%)</th>\n",
                            "    </tr>\n",
                            "  </thead>\n",
                            "  <tbody>\n",
                            "    <tr>\n",
                            "      <th>0</th>\n",
                            "      <td>101</td>\n",
                            "      <td>1, 2019-01-25</td>\n",
                            "      <td>53</td>\n",
                            "      <td>173.0</td>\n",
                            "      <td>Male</td>\n",
                            "      <td>1.31</td>\n",
                            "      <td>41.221374</td>\n",
                            "      <td>[0.0, 0.0, 0.0, 0.0, 0.0, 0.0, 5.7676005717732...</td>\n",
                            "      <td>[1.301313441850872e-35, 8.428052859720377e-31,...</td>\n",
                            "      <td>[3.2633986430657008e-09, 2.513419355016359e-08...</td>\n",
                            "      <td>[0.5363556749812803, 0.2667678589813558, 0.113...</td>\n",
                            "    </tr>\n",
                            "    <tr>\n",
                            "      <th>1</th>\n",
                            "      <td>101</td>\n",
                            "      <td>1, 2019-01-26</td>\n",
                            "      <td>53</td>\n",
                            "      <td>173.0</td>\n",
                            "      <td>Male</td>\n",
                            "      <td>1.31</td>\n",
                            "      <td>43.511450</td>\n",
                            "      <td>[0.0, 0.0, 0.0, 0.0, 0.0, 0.0, 1.8316610157043...</td>\n",
                            "      <td>[1.301313441848166e-35, 8.428052859470501e-31,...</td>\n",
                            "      <td>[8.003498293561854e-20, 9.049728942049443e-19,...</td>\n",
                            "      <td>[0.5363556749812385, 0.2667678589826388, 0.113...</td>\n",
                            "    </tr>\n",
                            "    <tr>\n",
                            "      <th>2</th>\n",
                            "      <td>101</td>\n",
                            "      <td>1, 2019-01-27</td>\n",
                            "      <td>53</td>\n",
                            "      <td>173.0</td>\n",
                            "      <td>Male</td>\n",
                            "      <td>1.31</td>\n",
                            "      <td>51.145038</td>\n",
                            "      <td>[0.0, 0.0, 0.0, 0.0, 0.0, 0.0, 8.1711740278564...</td>\n",
                            "      <td>[1.301313441833957e-35, 8.428052859445306e-31,...</td>\n",
                            "      <td>[6.988551642309672e-34, 5.336074797061693e-32,...</td>\n",
                            "      <td>[0.5363556749817887, 0.2667678589828187, 0.113...</td>\n",
                            "    </tr>\n",
                            "    <tr>\n",
                            "      <th>3</th>\n",
                            "      <td>101</td>\n",
                            "      <td>1, 2019-01-28</td>\n",
                            "      <td>53</td>\n",
                            "      <td>173.0</td>\n",
                            "      <td>Male</td>\n",
                            "      <td>1.31</td>\n",
                            "      <td>53.076923</td>\n",
                            "      <td>[0.0, 0.0, 0.0, 0.0, 0.0, 0.0, 9.7751201819768...</td>\n",
                            "      <td>[1.3013134418254516e-35, 8.428052859451708e-31...</td>\n",
                            "      <td>[2.124891438415337e-45, 6.752071129113207e-42,...</td>\n",
                            "      <td>[0.536355674982094, 0.26676785898283173, 0.113...</td>\n",
                            "    </tr>\n",
                            "    <tr>\n",
                            "      <th>4</th>\n",
                            "      <td>101</td>\n",
                            "      <td>1, 2019-01-29</td>\n",
                            "      <td>53</td>\n",
                            "      <td>173.0</td>\n",
                            "      <td>Male</td>\n",
                            "      <td>1.30</td>\n",
                            "      <td>46.875000</td>\n",
                            "      <td>[0.0, 0.0, 0.0, 0.0, 0.0, 0.0, 7.4588691072000...</td>\n",
                            "      <td>[1.3013134418287196e-35, 8.428052859450828e-31...</td>\n",
                            "      <td>[2.0189591764699957e-48, 5.158563715540386e-44...</td>\n",
                            "      <td>[0.5363556749819469, 0.2667678589828348, 0.113...</td>\n",
                            "    </tr>\n",
                            "  </tbody>\n",
                            "</table>\n",
                            "</div>"
                        ],
                        "text/plain": [
                            "    ID            Day  Age  Height   Sex  ecFEV1  ecFEF2575%ecFEV1  \\\n",
                            "0  101  1, 2019-01-25   53   173.0  Male    1.31         41.221374   \n",
                            "1  101  1, 2019-01-26   53   173.0  Male    1.31         43.511450   \n",
                            "2  101  1, 2019-01-27   53   173.0  Male    1.31         51.145038   \n",
                            "3  101  1, 2019-01-28   53   173.0  Male    1.31         53.076923   \n",
                            "4  101  1, 2019-01-29   53   173.0  Male    1.30         46.875000   \n",
                            "\n",
                            "                                    Healthy FEV1 (L)  \\\n",
                            "0  [0.0, 0.0, 0.0, 0.0, 0.0, 0.0, 5.7676005717732...   \n",
                            "1  [0.0, 0.0, 0.0, 0.0, 0.0, 0.0, 1.8316610157043...   \n",
                            "2  [0.0, 0.0, 0.0, 0.0, 0.0, 0.0, 8.1711740278564...   \n",
                            "3  [0.0, 0.0, 0.0, 0.0, 0.0, 0.0, 9.7751201819768...   \n",
                            "4  [0.0, 0.0, 0.0, 0.0, 0.0, 0.0, 7.4588691072000...   \n",
                            "\n",
                            "                           Healthy O2 saturation (%)  \\\n",
                            "0  [1.301313441850872e-35, 8.428052859720377e-31,...   \n",
                            "1  [1.301313441848166e-35, 8.428052859470501e-31,...   \n",
                            "2  [1.301313441833957e-35, 8.428052859445306e-31,...   \n",
                            "3  [1.3013134418254516e-35, 8.428052859451708e-31...   \n",
                            "4  [1.3013134418287196e-35, 8.428052859450828e-31...   \n",
                            "\n",
                            "                               Airway resistance (%)  \\\n",
                            "0  [3.2633986430657008e-09, 2.513419355016359e-08...   \n",
                            "1  [8.003498293561854e-20, 9.049728942049443e-19,...   \n",
                            "2  [6.988551642309672e-34, 5.336074797061693e-32,...   \n",
                            "3  [2.124891438415337e-45, 6.752071129113207e-42,...   \n",
                            "4  [2.0189591764699957e-48, 5.158563715540386e-44...   \n",
                            "\n",
                            "                                Inactive alveoli (%)  \n",
                            "0  [0.5363556749812803, 0.2667678589813558, 0.113...  \n",
                            "1  [0.5363556749812385, 0.2667678589826388, 0.113...  \n",
                            "2  [0.5363556749817887, 0.2667678589828187, 0.113...  \n",
                            "3  [0.536355674982094, 0.26676785898283173, 0.113...  \n",
                            "4  [0.5363556749819469, 0.2667678589828348, 0.113...  "
                        ]
                    },
                    "execution_count": 22,
                    "metadata": {},
                    "output_type": "execute_result"
                }
            ],
            "source": [
                "df_res_before_convergence.head()"
            ]
        },
        {
            "cell_type": "code",
            "execution_count": 13,
            "metadata": {},
            "outputs": [
                {
                    "data": {
                        "application/vnd.plotly.v1+json": {
                            "config": {
                                "plotlyServerURL": "https://plot.ly"
                            },
                            "data": [
                                {
                                    "histfunc": "sum",
                                    "marker": {
                                        "color": "#636EFA"
                                    },
                                    "type": "histogram",
                                    "x": [
                                        0,
                                        2,
                                        4,
                                        6,
                                        8,
                                        10,
                                        12,
                                        14,
                                        16,
                                        18,
                                        20,
                                        22,
                                        24,
                                        26,
                                        28,
                                        30,
                                        32,
                                        34,
                                        36,
                                        38,
                                        40,
                                        42,
                                        44,
                                        46,
                                        48,
                                        50,
                                        52,
                                        54,
                                        56,
                                        58,
                                        60,
                                        62,
                                        64,
                                        66,
                                        68,
                                        70,
                                        72,
                                        74,
                                        76,
                                        78,
                                        80,
                                        82,
                                        84,
                                        86,
                                        88
                                    ],
                                    "xaxis": "x",
                                    "xbins": {
                                        "end": 90,
                                        "size": 2,
                                        "start": 0
                                    },
                                    "y": [
                                        3.2633986430657008e-9,
                                        2.513419355016359e-8,
                                        6.315565730509072e-8,
                                        1.12390096478429e-7,
                                        2.1768274275157995e-7,
                                        3.7227459644969994e-7,
                                        6.364979110029678e-7,
                                        0.0000010624356686271413,
                                        0.0000018240057429303498,
                                        0.0000029304017269873533,
                                        0.0000050014753195327865,
                                        0.000008351231344114235,
                                        0.00001392508637414652,
                                        0.00002356012592075302,
                                        0.00004022189859447033,
                                        0.00006848654473009318,
                                        0.00011620549323287832,
                                        0.00020401599157280292,
                                        0.0003540840343210565,
                                        0.0006063021774623007,
                                        0.0010400526310198573,
                                        0.0017691001046425715,
                                        0.0029686537815432857,
                                        0.0049103226663770655,
                                        0.007818871718344889,
                                        0.012726047808068543,
                                        0.02104831143468437,
                                        0.03562166353510411,
                                        0.057931213727866804,
                                        0.09031834381554572,
                                        0.13143264331275945,
                                        0.16779274283836385,
                                        0.17022559988503763,
                                        0.14949619696740396,
                                        0.09476767675476126,
                                        0.04016759825396593,
                                        0.008025434764005216,
                                        0.0004874124560998279,
                                        0.000004711139692648188,
                                        1.1041061403040637e-9,
                                        0,
                                        0,
                                        0,
                                        0,
                                        0
                                    ],
                                    "yaxis": "y"
                                },
                                {
                                    "histfunc": "sum",
                                    "marker": {
                                        "color": "#636EFA"
                                    },
                                    "type": "histogram",
                                    "x": [
                                        0,
                                        2,
                                        4,
                                        6,
                                        8,
                                        10,
                                        12,
                                        14,
                                        16,
                                        18,
                                        20,
                                        22,
                                        24,
                                        26,
                                        28,
                                        30,
                                        32,
                                        34,
                                        36,
                                        38,
                                        40,
                                        42,
                                        44,
                                        46,
                                        48,
                                        50,
                                        52,
                                        54,
                                        56,
                                        58,
                                        60,
                                        62,
                                        64,
                                        66,
                                        68,
                                        70,
                                        72,
                                        74,
                                        76,
                                        78,
                                        80,
                                        82,
                                        84,
                                        86,
                                        88
                                    ],
                                    "xaxis": "x2",
                                    "xbins": {
                                        "end": 90,
                                        "size": 2,
                                        "start": 0
                                    },
                                    "y": [
                                        3.0953098128495506e-47,
                                        1.9733715133451972e-42,
                                        8.512192763387895e-39,
                                        1.1252800353156557e-35,
                                        9.084364337320644e-33,
                                        4.3015028485270625e-30,
                                        1.4960840869787117e-27,
                                        3.866214573635298e-25,
                                        7.607621276925456e-23,
                                        9.737309120400527e-21,
                                        8.960863891295212e-19,
                                        5.307103422747916e-17,
                                        2.107861692340106e-15,
                                        6.131053497447048e-14,
                                        1.3657757936801556e-12,
                                        2.4900309860773018e-11,
                                        3.799173894880857e-10,
                                        5.027151818591364e-9,
                                        5.5346669615720395e-8,
                                        4.996025688580548e-7,
                                        0.0000036167136035004744,
                                        0.000020517358937705242,
                                        0.00009180189260100282,
                                        0.0003381526807798575,
                                        0.0010582283188377102,
                                        0.003104265463848657,
                                        0.00860971706722233,
                                        0.022696423560035255,
                                        0.05288211695742112,
                                        0.10695562372179764,
                                        0.17908735319427826,
                                        0.2285715213306144,
                                        0.19894621574897772,
                                        0.12932602463768664,
                                        0.05346038322203821,
                                        0.01335496275035227,
                                        0.00144807003089975,
                                        0.000044246525715190655,
                                        1.9842222958315022e-7,
                                        1.94861114959264e-11,
                                        0,
                                        0,
                                        0,
                                        0,
                                        0
                                    ],
                                    "yaxis": "y2"
                                },
                                {
                                    "histfunc": "sum",
                                    "marker": {
                                        "color": "#EF553B"
                                    },
                                    "type": "histogram",
                                    "x": [
                                        1,
                                        1.05,
                                        1.1,
                                        1.1500000000000001,
                                        1.2000000000000002,
                                        1.2500000000000002,
                                        1.3000000000000003,
                                        1.3500000000000003,
                                        1.4000000000000004,
                                        1.4500000000000004,
                                        1.5000000000000004,
                                        1.5500000000000005,
                                        1.6000000000000005,
                                        1.6500000000000006,
                                        1.7000000000000006,
                                        1.7500000000000007,
                                        1.8000000000000007,
                                        1.8500000000000008,
                                        1.9000000000000008,
                                        1.9500000000000008,
                                        2.000000000000001,
                                        2.0500000000000007,
                                        2.100000000000001,
                                        2.1500000000000012,
                                        2.200000000000001,
                                        2.250000000000001,
                                        2.300000000000001,
                                        2.3500000000000014,
                                        2.4000000000000012,
                                        2.450000000000001,
                                        2.5000000000000013,
                                        2.5500000000000016,
                                        2.6000000000000014,
                                        2.6500000000000012,
                                        2.7000000000000015,
                                        2.7500000000000018,
                                        2.8000000000000016,
                                        2.8500000000000014,
                                        2.9000000000000017,
                                        2.950000000000002,
                                        3.0000000000000018,
                                        3.0500000000000016,
                                        3.100000000000002,
                                        3.150000000000002,
                                        3.200000000000002,
                                        3.2500000000000018,
                                        3.300000000000002,
                                        3.3500000000000023,
                                        3.400000000000002,
                                        3.450000000000002,
                                        3.500000000000002,
                                        3.5500000000000025,
                                        3.6000000000000023,
                                        3.650000000000002,
                                        3.7000000000000024,
                                        3.7500000000000027,
                                        3.8000000000000025,
                                        3.8500000000000023,
                                        3.9000000000000026,
                                        3.950000000000003,
                                        4.000000000000003,
                                        4.0500000000000025,
                                        4.100000000000003,
                                        4.150000000000003,
                                        4.200000000000003,
                                        4.250000000000003,
                                        4.3000000000000025,
                                        4.350000000000003,
                                        4.400000000000003,
                                        4.450000000000003,
                                        4.5000000000000036,
                                        4.550000000000003,
                                        4.600000000000003,
                                        4.650000000000003,
                                        4.700000000000003,
                                        4.7500000000000036,
                                        4.800000000000003,
                                        4.850000000000003,
                                        4.900000000000004,
                                        4.950000000000004,
                                        5.0000000000000036,
                                        5.050000000000003,
                                        5.100000000000003,
                                        5.150000000000004,
                                        5.200000000000004,
                                        5.2500000000000036,
                                        5.300000000000004,
                                        5.350000000000004,
                                        5.400000000000004,
                                        5.450000000000004,
                                        5.5000000000000036,
                                        5.550000000000004,
                                        5.600000000000004,
                                        5.650000000000004,
                                        5.700000000000005,
                                        5.750000000000004,
                                        5.800000000000004,
                                        5.850000000000004,
                                        5.900000000000004,
                                        5.950000000000005
                                    ],
                                    "xaxis": "x3",
                                    "xbins": {
                                        "end": 6,
                                        "size": 0.05,
                                        "start": 1
                                    },
                                    "y": [
                                        4.2860573089124737e-7,
                                        6.218824608474819e-7,
                                        9.002115613660661e-7,
                                        0.0000012996481914707333,
                                        0.0000018707609261567473,
                                        0.0000026840766951450515,
                                        0.000003837377266474798,
                                        0.0000054653902211183765,
                                        0.000007752539263381287,
                                        0.00001094955227049777,
                                        0.000015394864544729547,
                                        0.000021541889083245688,
                                        0.000029993339971415547,
                                        0.000041543867685081546,
                                        0.00005723226758138452,
                                        0.00007840441919475706,
                                        0.0001067878611738371,
                                        0.000144578456391345,
                                        0.00019453890315911565,
                                        0.00026010785340828684,
                                        0.00034551706867961353,
                                        0.00045591236034625386,
                                        0.0005974720324186282,
                                        0.0007775142269591943,
                                        0.001004582071985723,
                                        0.0012884930237072058,
                                        0.0016403365247255374,
                                        0.002072402384139775,
                                        0.002598021501303443,
                                        0.003231301116514186,
                                        0.003986739093492325,
                                        0.004878706183528489,
                                        0.005920792039323967,
                                        0.00712502000421248,
                                        0.008500947214333244,
                                        0.010054679823553648,
                                        0.011787847358026054,
                                        0.013696594155245724,
                                        0.015770658078896604,
                                        0.01799261557780573,
                                        0.020337375997830788,
                                        0.022772005353198222,
                                        0.025255949409421285,
                                        0.027741707436380377,
                                        0.030175981683378237,
                                        0.03250129476777914,
                                        0.03465802996733677,
                                        0.03658681092134113,
                                        0.03823110114161548,
                                        0.0395398739225235,
                                        0.04047018343146837,
                                        0.04098946098949318,
                                        0.04107736871687701,
                                        0.040727066242693004,
                                        0.03994578381521468,
                                        0.038754644009528195,
                                        0.03718773001072212,
                                        0.03529045589396605,
                                        0.033117347798877206,
                                        0.03072938908154252,
                                        0.028191113055911873,
                                        0.025567640932866082,
                                        0.022921858993991105,
                                        0.020311908801148845,
                                        0.01778913002942464,
                                        0.015396551405507091,
                                        0.013167976165844851,
                                        0.011127659555712483,
                                        0.00929053188900419,
                                        0.007662885350266374,
                                        0.00624341850915949,
                                        0.005024520432064328,
                                        0.0039936758973297265,
                                        0.0031348829383291876,
                                        0.0024299912974598005,
                                        0.0018598924863769265,
                                        0.0014055160961419884,
                                        0.0010486101840380267,
                                        0.0007723039416582804,
                                        0.000561467074086518,
                                        0.00040289175632555774,
                                        0.0002853296809066734,
                                        0.0001994190678739098,
                                        0.00013753540036330096,
                                        0.00009359605628347521,
                                        0.0000628439149299344,
                                        0.00004162930476161154,
                                        0.000027204025031725095,
                                        0.00001753611208142524,
                                        0.00001114982035048379,
                                        0.000006992062799187747,
                                        0.000004324285435336551,
                                        0.0000026373262697247032,
                                        0.0000015860721378758511,
                                        9.405044782647756e-7,
                                        5.498536821344346e-7,
                                        3.1692129147656184e-7,
                                        1.8007091181199323e-7,
                                        1.0085411406571396e-7,
                                        5.567648428014707e-8
                                    ],
                                    "yaxis": "y3"
                                },
                                {
                                    "histfunc": "sum",
                                    "marker": {
                                        "color": "#EF553B"
                                    },
                                    "type": "histogram",
                                    "x": [
                                        1,
                                        1.05,
                                        1.1,
                                        1.1500000000000001,
                                        1.2000000000000002,
                                        1.2500000000000002,
                                        1.3000000000000003,
                                        1.3500000000000003,
                                        1.4000000000000004,
                                        1.4500000000000004,
                                        1.5000000000000004,
                                        1.5500000000000005,
                                        1.6000000000000005,
                                        1.6500000000000006,
                                        1.7000000000000006,
                                        1.7500000000000007,
                                        1.8000000000000007,
                                        1.8500000000000008,
                                        1.9000000000000008,
                                        1.9500000000000008,
                                        2.000000000000001,
                                        2.0500000000000007,
                                        2.100000000000001,
                                        2.1500000000000012,
                                        2.200000000000001,
                                        2.250000000000001,
                                        2.300000000000001,
                                        2.3500000000000014,
                                        2.4000000000000012,
                                        2.450000000000001,
                                        2.5000000000000013,
                                        2.5500000000000016,
                                        2.6000000000000014,
                                        2.6500000000000012,
                                        2.7000000000000015,
                                        2.7500000000000018,
                                        2.8000000000000016,
                                        2.8500000000000014,
                                        2.9000000000000017,
                                        2.950000000000002,
                                        3.0000000000000018,
                                        3.0500000000000016,
                                        3.100000000000002,
                                        3.150000000000002,
                                        3.200000000000002,
                                        3.2500000000000018,
                                        3.300000000000002,
                                        3.3500000000000023,
                                        3.400000000000002,
                                        3.450000000000002,
                                        3.500000000000002,
                                        3.5500000000000025,
                                        3.6000000000000023,
                                        3.650000000000002,
                                        3.7000000000000024,
                                        3.7500000000000027,
                                        3.8000000000000025,
                                        3.8500000000000023,
                                        3.9000000000000026,
                                        3.950000000000003,
                                        4.000000000000003,
                                        4.0500000000000025,
                                        4.100000000000003,
                                        4.150000000000003,
                                        4.200000000000003,
                                        4.250000000000003,
                                        4.3000000000000025,
                                        4.350000000000003,
                                        4.400000000000003,
                                        4.450000000000003,
                                        4.5000000000000036,
                                        4.550000000000003,
                                        4.600000000000003,
                                        4.650000000000003,
                                        4.700000000000003,
                                        4.7500000000000036,
                                        4.800000000000003,
                                        4.850000000000003,
                                        4.900000000000004,
                                        4.950000000000004,
                                        5.0000000000000036,
                                        5.050000000000003,
                                        5.100000000000003,
                                        5.150000000000004,
                                        5.200000000000004,
                                        5.2500000000000036,
                                        5.300000000000004,
                                        5.350000000000004,
                                        5.400000000000004,
                                        5.450000000000004,
                                        5.5000000000000036,
                                        5.550000000000004,
                                        5.600000000000004,
                                        5.650000000000004,
                                        5.700000000000005,
                                        5.750000000000004,
                                        5.800000000000004,
                                        5.850000000000004,
                                        5.900000000000004,
                                        5.950000000000005
                                    ],
                                    "xaxis": "x4",
                                    "xbins": {
                                        "end": 6,
                                        "size": 0.05,
                                        "start": 1
                                    },
                                    "y": [
                                        0,
                                        0,
                                        0,
                                        0,
                                        0,
                                        0,
                                        0.0000038374072181502285,
                                        0.000005465432879836203,
                                        0.000007752599773861144,
                                        0.000010949637734452172,
                                        0.00001539498470544196,
                                        0.00002154205722299979,
                                        0.000029993574076827012,
                                        0.000041544191945208873,
                                        0.000057232714293340036,
                                        0.00007840503116057459,
                                        0.00010678869467941544,
                                        0.00014457958486183392,
                                        0.00019454042158320622,
                                        0.0002601098836141961,
                                        0.0003455197655255003,
                                        0.0004559159188546031,
                                        0.0005974766958351107,
                                        0.0007775202956493833,
                                        0.0010045899129964117,
                                        0.0012885030807128534,
                                        0.0016403493279564354,
                                        0.002072418559751205,
                                        0.002598041779501641,
                                        0.0032313263376158763,
                                        0.0039867702109736315,
                                        0.0048787442630327926,
                                        0.005920838252565236,
                                        0.007125075616749842,
                                        0.00850101356632163,
                                        0.010054758302808024,
                                        0.011787939365080241,
                                        0.013696701060539145,
                                        0.015770781172770185,
                                        0.01799275601460527,
                                        0.020337534736063364,
                                        0.02277218309431302,
                                        0.025256146538331702,
                                        0.027741923967244907,
                                        0.030176217214353283,
                                        0.032501548448395964,
                                        0.03465830048180344,
                                        0.03658709649041857,
                                        0.038231399544783384,
                                        0.03954018254098555,
                                        0.04047049931122545,
                                        0.0409897809223396,
                                        0.04107768933586491,
                                        0.040727384127483744,
                                        0.0399460956019035,
                                        0.03875494649907723,
                                        0.03718802027012117,
                                        0.03529073134467297,
                                        0.03311760628793979,
                                        0.030729628931998713,
                                        0.028191333094498033,
                                        0.025567840494605667,
                                        0.022922037904750506,
                                        0.020312067340603673,
                                        0.01778926887796932,
                                        0.01539667157938587,
                                        0.013168078945144568,
                                        0.011127746409838145,
                                        0.009290604403895585,
                                        0.00766294516097534,
                                        0.00624346724057988,
                                        0.005024559649684782,
                                        0.003993707068954497,
                                        0.003134907406863231,
                                        0.00243001026414084,
                                        0.0018599070032962232,
                                        0.001405527066541561,
                                        0.0010486183686989824,
                                        0.0007723099696809085,
                                        0.0005614714564754259,
                                        0.0004028949009950237,
                                        0.00028533190797516315,
                                        0.00019942062438888888,
                                        0.00013753647386100158,
                                        0.00009359678682376477,
                                        0.00006284440544218067,
                                        0.00004162962968859631,
                                        0.000027204237365845924,
                                        0.00001753624895510247,
                                        0.000011149907377579917,
                                        0.000006992117373961352,
                                        0.000004324319187450256,
                                        0.000002637346854706307,
                                        0.0000015860845175598344,
                                        9.405118191340513e-7,
                                        5.498579738779558e-7,
                                        3.1692376512535903e-7,
                                        1.8007231730984517e-7,
                                        1.0085490125693352e-7,
                                        5.567691884883044e-8
                                    ],
                                    "yaxis": "y4"
                                },
                                {
                                    "histfunc": "sum",
                                    "marker": {
                                        "color": "#EF553B"
                                    },
                                    "type": "histogram",
                                    "x": [
                                        1,
                                        1.05,
                                        1.1,
                                        1.1500000000000001,
                                        1.2000000000000002,
                                        1.2500000000000002,
                                        1.3000000000000003,
                                        1.3500000000000003,
                                        1.4000000000000004,
                                        1.4500000000000004,
                                        1.5000000000000004,
                                        1.5500000000000005,
                                        1.6000000000000005,
                                        1.6500000000000006,
                                        1.7000000000000006,
                                        1.7500000000000007,
                                        1.8000000000000007,
                                        1.8500000000000008,
                                        1.9000000000000008,
                                        1.9500000000000008,
                                        2.000000000000001,
                                        2.0500000000000007,
                                        2.100000000000001,
                                        2.1500000000000012,
                                        2.200000000000001,
                                        2.250000000000001,
                                        2.300000000000001,
                                        2.3500000000000014,
                                        2.4000000000000012,
                                        2.450000000000001,
                                        2.5000000000000013,
                                        2.5500000000000016,
                                        2.6000000000000014,
                                        2.6500000000000012,
                                        2.7000000000000015,
                                        2.7500000000000018,
                                        2.8000000000000016,
                                        2.8500000000000014,
                                        2.9000000000000017,
                                        2.950000000000002,
                                        3.0000000000000018,
                                        3.0500000000000016,
                                        3.100000000000002,
                                        3.150000000000002,
                                        3.200000000000002,
                                        3.2500000000000018,
                                        3.300000000000002,
                                        3.3500000000000023,
                                        3.400000000000002,
                                        3.450000000000002,
                                        3.500000000000002,
                                        3.5500000000000025,
                                        3.6000000000000023,
                                        3.650000000000002,
                                        3.7000000000000024,
                                        3.7500000000000027,
                                        3.8000000000000025,
                                        3.8500000000000023,
                                        3.9000000000000026,
                                        3.950000000000003,
                                        4.000000000000003,
                                        4.0500000000000025,
                                        4.100000000000003,
                                        4.150000000000003,
                                        4.200000000000003,
                                        4.250000000000003,
                                        4.3000000000000025,
                                        4.350000000000003,
                                        4.400000000000003,
                                        4.450000000000003,
                                        4.5000000000000036,
                                        4.550000000000003,
                                        4.600000000000003,
                                        4.650000000000003,
                                        4.700000000000003,
                                        4.7500000000000036,
                                        4.800000000000003,
                                        4.850000000000003,
                                        4.900000000000004,
                                        4.950000000000004,
                                        5.0000000000000036,
                                        5.050000000000003,
                                        5.100000000000003,
                                        5.150000000000004,
                                        5.200000000000004,
                                        5.2500000000000036,
                                        5.300000000000004,
                                        5.350000000000004,
                                        5.400000000000004,
                                        5.450000000000004,
                                        5.5000000000000036,
                                        5.550000000000004,
                                        5.600000000000004,
                                        5.650000000000004,
                                        5.700000000000005,
                                        5.750000000000004,
                                        5.800000000000004,
                                        5.850000000000004,
                                        5.900000000000004,
                                        5.950000000000005
                                    ],
                                    "xaxis": "x5",
                                    "xbins": {
                                        "end": 6,
                                        "size": 0.05,
                                        "start": 1
                                    },
                                    "y": [
                                        0,
                                        0,
                                        0,
                                        0,
                                        0,
                                        0,
                                        5.767600571773259e-9,
                                        6.166292991125559e-8,
                                        1.9217577002621178e-7,
                                        4.5356114753174174e-7,
                                        9.275882977198683e-7,
                                        0.0000017877590695167127,
                                        0.000003222338628153237,
                                        0.000005669615200779818,
                                        0.000009642458299956598,
                                        0.000015892856824639346,
                                        0.00002575197270142394,
                                        0.00004083588755794826,
                                        0.00006305879027984241,
                                        0.0000954781161574777,
                                        0.00014389876166023214,
                                        0.00021173310392207597,
                                        0.0003046101188900386,
                                        0.0004269690544310129,
                                        0.000589389770720011,
                                        0.0008028129181425955,
                                        0.0010688505813199868,
                                        0.0013979537270452415,
                                        0.0018019525265432952,
                                        0.002285413448005329,
                                        0.002841048359075223,
                                        0.00346619183535189,
                                        0.0042154811371140945,
                                        0.005120045904465001,
                                        0.0061660834874517605,
                                        0.007446377443383528,
                                        0.008875882804795678,
                                        0.010674719958263707,
                                        0.012742838819617382,
                                        0.014804611555285365,
                                        0.017321813176031802,
                                        0.01984846736791684,
                                        0.022428839947349812,
                                        0.025528948839341144,
                                        0.02836146551522432,
                                        0.030953588187340956,
                                        0.03422404489066561,
                                        0.03715318014933635,
                                        0.03875035959407523,
                                        0.04096844154422242,
                                        0.04296390425667755,
                                        0.04380376578715983,
                                        0.043418849574924846,
                                        0.04285643701744905,
                                        0.04186060885586398,
                                        0.040261795706742404,
                                        0.038319776945593374,
                                        0.03703424935264754,
                                        0.035498054729916344,
                                        0.03342424068117034,
                                        0.030366360136720384,
                                        0.027415076982997843,
                                        0.024930478823721798,
                                        0.022415043812097645,
                                        0.019808416670059097,
                                        0.016974459668602133,
                                        0.014379588142982505,
                                        0.012364016884850648,
                                        0.010579371075409185,
                                        0.008932842237752833,
                                        0.007320575345171691,
                                        0.005826996711436089,
                                        0.004581241609544055,
                                        0.003547930230151151,
                                        0.0027092763472354184,
                                        0.002043015649337474,
                                        0.001522314127764383,
                                        0.0011236462010368754,
                                        0.000819166297838055,
                                        0.0005895507459079664,
                                        0.000403568005743262,
                                        0.0002615467161115668,
                                        0.00016617103054955402,
                                        0.0001034793334042867,
                                        0.00006729498307837092,
                                        0.000044756090019345754,
                                        0.000029369114717123428,
                                        0.000019013669819715873,
                                        0.000011759684179560363,
                                        0.000006378582045750077,
                                        0.000003285832730835437,
                                        0.000001598376468755465,
                                        7.46287711438657e-7,
                                        4.2608723101155267e-7,
                                        2.504533108585341e-7,
                                        1.4515650466083883e-7,
                                        8.294625714822114e-8,
                                        4.672797425750957e-8,
                                        2.4392824702911157e-8,
                                        1.0843101945259976e-8
                                    ],
                                    "yaxis": "y5"
                                }
                            ],
                            "layout": {
                                "annotations": [
                                    {
                                        "font": {
                                            "size": 6
                                        },
                                        "showarrow": false,
                                        "text": "62.96",
                                        "x": 62.95615383271392,
                                        "xref": "x",
                                        "y": 0.1872481598735414,
                                        "yref": "y"
                                    },
                                    {
                                        "font": {
                                            "size": 6
                                        },
                                        "showarrow": false,
                                        "text": "62.93",
                                        "x": 62.927221749705936,
                                        "xref": "x2",
                                        "y": 0.25142867346367587,
                                        "yref": "y2"
                                    },
                                    {
                                        "font": {
                                            "size": 6
                                        },
                                        "showarrow": false,
                                        "text": "3.59",
                                        "x": 3.5875201047478393,
                                        "xref": "x3",
                                        "y": 0.045185105588564714,
                                        "yref": "y3"
                                    },
                                    {
                                        "font": {
                                            "size": 6
                                        },
                                        "showarrow": false,
                                        "text": "3.59",
                                        "x": 3.587538744604395,
                                        "xref": "x4",
                                        "y": 0.04518545826945141,
                                        "yref": "y4"
                                    },
                                    {
                                        "font": {
                                            "size": 6
                                        },
                                        "showarrow": false,
                                        "text": "3.64",
                                        "x": 3.6373194468170014,
                                        "xref": "x5",
                                        "y": 0.04818414236587582,
                                        "yref": "y5"
                                    }
                                ],
                                "height": 600,
                                "template": {
                                    "data": {
                                        "bar": [
                                            {
                                                "error_x": {
                                                    "color": "#2a3f5f"
                                                },
                                                "error_y": {
                                                    "color": "#2a3f5f"
                                                },
                                                "marker": {
                                                    "line": {
                                                        "color": "#E5ECF6",
                                                        "width": 0.5
                                                    },
                                                    "pattern": {
                                                        "fillmode": "overlay",
                                                        "size": 10,
                                                        "solidity": 0.2
                                                    }
                                                },
                                                "type": "bar"
                                            }
                                        ],
                                        "barpolar": [
                                            {
                                                "marker": {
                                                    "line": {
                                                        "color": "#E5ECF6",
                                                        "width": 0.5
                                                    },
                                                    "pattern": {
                                                        "fillmode": "overlay",
                                                        "size": 10,
                                                        "solidity": 0.2
                                                    }
                                                },
                                                "type": "barpolar"
                                            }
                                        ],
                                        "carpet": [
                                            {
                                                "aaxis": {
                                                    "endlinecolor": "#2a3f5f",
                                                    "gridcolor": "white",
                                                    "linecolor": "white",
                                                    "minorgridcolor": "white",
                                                    "startlinecolor": "#2a3f5f"
                                                },
                                                "baxis": {
                                                    "endlinecolor": "#2a3f5f",
                                                    "gridcolor": "white",
                                                    "linecolor": "white",
                                                    "minorgridcolor": "white",
                                                    "startlinecolor": "#2a3f5f"
                                                },
                                                "type": "carpet"
                                            }
                                        ],
                                        "choropleth": [
                                            {
                                                "colorbar": {
                                                    "outlinewidth": 0,
                                                    "ticks": ""
                                                },
                                                "type": "choropleth"
                                            }
                                        ],
                                        "contour": [
                                            {
                                                "colorbar": {
                                                    "outlinewidth": 0,
                                                    "ticks": ""
                                                },
                                                "colorscale": [
                                                    [
                                                        0,
                                                        "#0d0887"
                                                    ],
                                                    [
                                                        0.1111111111111111,
                                                        "#46039f"
                                                    ],
                                                    [
                                                        0.2222222222222222,
                                                        "#7201a8"
                                                    ],
                                                    [
                                                        0.3333333333333333,
                                                        "#9c179e"
                                                    ],
                                                    [
                                                        0.4444444444444444,
                                                        "#bd3786"
                                                    ],
                                                    [
                                                        0.5555555555555556,
                                                        "#d8576b"
                                                    ],
                                                    [
                                                        0.6666666666666666,
                                                        "#ed7953"
                                                    ],
                                                    [
                                                        0.7777777777777778,
                                                        "#fb9f3a"
                                                    ],
                                                    [
                                                        0.8888888888888888,
                                                        "#fdca26"
                                                    ],
                                                    [
                                                        1,
                                                        "#f0f921"
                                                    ]
                                                ],
                                                "type": "contour"
                                            }
                                        ],
                                        "contourcarpet": [
                                            {
                                                "colorbar": {
                                                    "outlinewidth": 0,
                                                    "ticks": ""
                                                },
                                                "type": "contourcarpet"
                                            }
                                        ],
                                        "heatmap": [
                                            {
                                                "colorbar": {
                                                    "outlinewidth": 0,
                                                    "ticks": ""
                                                },
                                                "colorscale": [
                                                    [
                                                        0,
                                                        "#0d0887"
                                                    ],
                                                    [
                                                        0.1111111111111111,
                                                        "#46039f"
                                                    ],
                                                    [
                                                        0.2222222222222222,
                                                        "#7201a8"
                                                    ],
                                                    [
                                                        0.3333333333333333,
                                                        "#9c179e"
                                                    ],
                                                    [
                                                        0.4444444444444444,
                                                        "#bd3786"
                                                    ],
                                                    [
                                                        0.5555555555555556,
                                                        "#d8576b"
                                                    ],
                                                    [
                                                        0.6666666666666666,
                                                        "#ed7953"
                                                    ],
                                                    [
                                                        0.7777777777777778,
                                                        "#fb9f3a"
                                                    ],
                                                    [
                                                        0.8888888888888888,
                                                        "#fdca26"
                                                    ],
                                                    [
                                                        1,
                                                        "#f0f921"
                                                    ]
                                                ],
                                                "type": "heatmap"
                                            }
                                        ],
                                        "heatmapgl": [
                                            {
                                                "colorbar": {
                                                    "outlinewidth": 0,
                                                    "ticks": ""
                                                },
                                                "colorscale": [
                                                    [
                                                        0,
                                                        "#0d0887"
                                                    ],
                                                    [
                                                        0.1111111111111111,
                                                        "#46039f"
                                                    ],
                                                    [
                                                        0.2222222222222222,
                                                        "#7201a8"
                                                    ],
                                                    [
                                                        0.3333333333333333,
                                                        "#9c179e"
                                                    ],
                                                    [
                                                        0.4444444444444444,
                                                        "#bd3786"
                                                    ],
                                                    [
                                                        0.5555555555555556,
                                                        "#d8576b"
                                                    ],
                                                    [
                                                        0.6666666666666666,
                                                        "#ed7953"
                                                    ],
                                                    [
                                                        0.7777777777777778,
                                                        "#fb9f3a"
                                                    ],
                                                    [
                                                        0.8888888888888888,
                                                        "#fdca26"
                                                    ],
                                                    [
                                                        1,
                                                        "#f0f921"
                                                    ]
                                                ],
                                                "type": "heatmapgl"
                                            }
                                        ],
                                        "histogram": [
                                            {
                                                "marker": {
                                                    "pattern": {
                                                        "fillmode": "overlay",
                                                        "size": 10,
                                                        "solidity": 0.2
                                                    }
                                                },
                                                "type": "histogram"
                                            }
                                        ],
                                        "histogram2d": [
                                            {
                                                "colorbar": {
                                                    "outlinewidth": 0,
                                                    "ticks": ""
                                                },
                                                "colorscale": [
                                                    [
                                                        0,
                                                        "#0d0887"
                                                    ],
                                                    [
                                                        0.1111111111111111,
                                                        "#46039f"
                                                    ],
                                                    [
                                                        0.2222222222222222,
                                                        "#7201a8"
                                                    ],
                                                    [
                                                        0.3333333333333333,
                                                        "#9c179e"
                                                    ],
                                                    [
                                                        0.4444444444444444,
                                                        "#bd3786"
                                                    ],
                                                    [
                                                        0.5555555555555556,
                                                        "#d8576b"
                                                    ],
                                                    [
                                                        0.6666666666666666,
                                                        "#ed7953"
                                                    ],
                                                    [
                                                        0.7777777777777778,
                                                        "#fb9f3a"
                                                    ],
                                                    [
                                                        0.8888888888888888,
                                                        "#fdca26"
                                                    ],
                                                    [
                                                        1,
                                                        "#f0f921"
                                                    ]
                                                ],
                                                "type": "histogram2d"
                                            }
                                        ],
                                        "histogram2dcontour": [
                                            {
                                                "colorbar": {
                                                    "outlinewidth": 0,
                                                    "ticks": ""
                                                },
                                                "colorscale": [
                                                    [
                                                        0,
                                                        "#0d0887"
                                                    ],
                                                    [
                                                        0.1111111111111111,
                                                        "#46039f"
                                                    ],
                                                    [
                                                        0.2222222222222222,
                                                        "#7201a8"
                                                    ],
                                                    [
                                                        0.3333333333333333,
                                                        "#9c179e"
                                                    ],
                                                    [
                                                        0.4444444444444444,
                                                        "#bd3786"
                                                    ],
                                                    [
                                                        0.5555555555555556,
                                                        "#d8576b"
                                                    ],
                                                    [
                                                        0.6666666666666666,
                                                        "#ed7953"
                                                    ],
                                                    [
                                                        0.7777777777777778,
                                                        "#fb9f3a"
                                                    ],
                                                    [
                                                        0.8888888888888888,
                                                        "#fdca26"
                                                    ],
                                                    [
                                                        1,
                                                        "#f0f921"
                                                    ]
                                                ],
                                                "type": "histogram2dcontour"
                                            }
                                        ],
                                        "mesh3d": [
                                            {
                                                "colorbar": {
                                                    "outlinewidth": 0,
                                                    "ticks": ""
                                                },
                                                "type": "mesh3d"
                                            }
                                        ],
                                        "parcoords": [
                                            {
                                                "line": {
                                                    "colorbar": {
                                                        "outlinewidth": 0,
                                                        "ticks": ""
                                                    }
                                                },
                                                "type": "parcoords"
                                            }
                                        ],
                                        "pie": [
                                            {
                                                "automargin": true,
                                                "type": "pie"
                                            }
                                        ],
                                        "scatter": [
                                            {
                                                "fillpattern": {
                                                    "fillmode": "overlay",
                                                    "size": 10,
                                                    "solidity": 0.2
                                                },
                                                "type": "scatter"
                                            }
                                        ],
                                        "scatter3d": [
                                            {
                                                "line": {
                                                    "colorbar": {
                                                        "outlinewidth": 0,
                                                        "ticks": ""
                                                    }
                                                },
                                                "marker": {
                                                    "colorbar": {
                                                        "outlinewidth": 0,
                                                        "ticks": ""
                                                    }
                                                },
                                                "type": "scatter3d"
                                            }
                                        ],
                                        "scattercarpet": [
                                            {
                                                "marker": {
                                                    "colorbar": {
                                                        "outlinewidth": 0,
                                                        "ticks": ""
                                                    }
                                                },
                                                "type": "scattercarpet"
                                            }
                                        ],
                                        "scattergeo": [
                                            {
                                                "marker": {
                                                    "colorbar": {
                                                        "outlinewidth": 0,
                                                        "ticks": ""
                                                    }
                                                },
                                                "type": "scattergeo"
                                            }
                                        ],
                                        "scattergl": [
                                            {
                                                "marker": {
                                                    "colorbar": {
                                                        "outlinewidth": 0,
                                                        "ticks": ""
                                                    }
                                                },
                                                "type": "scattergl"
                                            }
                                        ],
                                        "scattermapbox": [
                                            {
                                                "marker": {
                                                    "colorbar": {
                                                        "outlinewidth": 0,
                                                        "ticks": ""
                                                    }
                                                },
                                                "type": "scattermapbox"
                                            }
                                        ],
                                        "scatterpolar": [
                                            {
                                                "marker": {
                                                    "colorbar": {
                                                        "outlinewidth": 0,
                                                        "ticks": ""
                                                    }
                                                },
                                                "type": "scatterpolar"
                                            }
                                        ],
                                        "scatterpolargl": [
                                            {
                                                "marker": {
                                                    "colorbar": {
                                                        "outlinewidth": 0,
                                                        "ticks": ""
                                                    }
                                                },
                                                "type": "scatterpolargl"
                                            }
                                        ],
                                        "scatterternary": [
                                            {
                                                "marker": {
                                                    "colorbar": {
                                                        "outlinewidth": 0,
                                                        "ticks": ""
                                                    }
                                                },
                                                "type": "scatterternary"
                                            }
                                        ],
                                        "surface": [
                                            {
                                                "colorbar": {
                                                    "outlinewidth": 0,
                                                    "ticks": ""
                                                },
                                                "colorscale": [
                                                    [
                                                        0,
                                                        "#0d0887"
                                                    ],
                                                    [
                                                        0.1111111111111111,
                                                        "#46039f"
                                                    ],
                                                    [
                                                        0.2222222222222222,
                                                        "#7201a8"
                                                    ],
                                                    [
                                                        0.3333333333333333,
                                                        "#9c179e"
                                                    ],
                                                    [
                                                        0.4444444444444444,
                                                        "#bd3786"
                                                    ],
                                                    [
                                                        0.5555555555555556,
                                                        "#d8576b"
                                                    ],
                                                    [
                                                        0.6666666666666666,
                                                        "#ed7953"
                                                    ],
                                                    [
                                                        0.7777777777777778,
                                                        "#fb9f3a"
                                                    ],
                                                    [
                                                        0.8888888888888888,
                                                        "#fdca26"
                                                    ],
                                                    [
                                                        1,
                                                        "#f0f921"
                                                    ]
                                                ],
                                                "type": "surface"
                                            }
                                        ],
                                        "table": [
                                            {
                                                "cells": {
                                                    "fill": {
                                                        "color": "#EBF0F8"
                                                    },
                                                    "line": {
                                                        "color": "white"
                                                    }
                                                },
                                                "header": {
                                                    "fill": {
                                                        "color": "#C8D4E3"
                                                    },
                                                    "line": {
                                                        "color": "white"
                                                    }
                                                },
                                                "type": "table"
                                            }
                                        ]
                                    },
                                    "layout": {
                                        "annotationdefaults": {
                                            "arrowcolor": "#2a3f5f",
                                            "arrowhead": 0,
                                            "arrowwidth": 1
                                        },
                                        "autotypenumbers": "strict",
                                        "coloraxis": {
                                            "colorbar": {
                                                "outlinewidth": 0,
                                                "ticks": ""
                                            }
                                        },
                                        "colorscale": {
                                            "diverging": [
                                                [
                                                    0,
                                                    "#8e0152"
                                                ],
                                                [
                                                    0.1,
                                                    "#c51b7d"
                                                ],
                                                [
                                                    0.2,
                                                    "#de77ae"
                                                ],
                                                [
                                                    0.3,
                                                    "#f1b6da"
                                                ],
                                                [
                                                    0.4,
                                                    "#fde0ef"
                                                ],
                                                [
                                                    0.5,
                                                    "#f7f7f7"
                                                ],
                                                [
                                                    0.6,
                                                    "#e6f5d0"
                                                ],
                                                [
                                                    0.7,
                                                    "#b8e186"
                                                ],
                                                [
                                                    0.8,
                                                    "#7fbc41"
                                                ],
                                                [
                                                    0.9,
                                                    "#4d9221"
                                                ],
                                                [
                                                    1,
                                                    "#276419"
                                                ]
                                            ],
                                            "sequential": [
                                                [
                                                    0,
                                                    "#0d0887"
                                                ],
                                                [
                                                    0.1111111111111111,
                                                    "#46039f"
                                                ],
                                                [
                                                    0.2222222222222222,
                                                    "#7201a8"
                                                ],
                                                [
                                                    0.3333333333333333,
                                                    "#9c179e"
                                                ],
                                                [
                                                    0.4444444444444444,
                                                    "#bd3786"
                                                ],
                                                [
                                                    0.5555555555555556,
                                                    "#d8576b"
                                                ],
                                                [
                                                    0.6666666666666666,
                                                    "#ed7953"
                                                ],
                                                [
                                                    0.7777777777777778,
                                                    "#fb9f3a"
                                                ],
                                                [
                                                    0.8888888888888888,
                                                    "#fdca26"
                                                ],
                                                [
                                                    1,
                                                    "#f0f921"
                                                ]
                                            ],
                                            "sequentialminus": [
                                                [
                                                    0,
                                                    "#0d0887"
                                                ],
                                                [
                                                    0.1111111111111111,
                                                    "#46039f"
                                                ],
                                                [
                                                    0.2222222222222222,
                                                    "#7201a8"
                                                ],
                                                [
                                                    0.3333333333333333,
                                                    "#9c179e"
                                                ],
                                                [
                                                    0.4444444444444444,
                                                    "#bd3786"
                                                ],
                                                [
                                                    0.5555555555555556,
                                                    "#d8576b"
                                                ],
                                                [
                                                    0.6666666666666666,
                                                    "#ed7953"
                                                ],
                                                [
                                                    0.7777777777777778,
                                                    "#fb9f3a"
                                                ],
                                                [
                                                    0.8888888888888888,
                                                    "#fdca26"
                                                ],
                                                [
                                                    1,
                                                    "#f0f921"
                                                ]
                                            ]
                                        },
                                        "colorway": [
                                            "#636efa",
                                            "#EF553B",
                                            "#00cc96",
                                            "#ab63fa",
                                            "#FFA15A",
                                            "#19d3f3",
                                            "#FF6692",
                                            "#B6E880",
                                            "#FF97FF",
                                            "#FECB52"
                                        ],
                                        "font": {
                                            "color": "#2a3f5f"
                                        },
                                        "geo": {
                                            "bgcolor": "white",
                                            "lakecolor": "white",
                                            "landcolor": "#E5ECF6",
                                            "showlakes": true,
                                            "showland": true,
                                            "subunitcolor": "white"
                                        },
                                        "hoverlabel": {
                                            "align": "left"
                                        },
                                        "hovermode": "closest",
                                        "mapbox": {
                                            "style": "light"
                                        },
                                        "paper_bgcolor": "white",
                                        "plot_bgcolor": "#E5ECF6",
                                        "polar": {
                                            "angularaxis": {
                                                "gridcolor": "white",
                                                "linecolor": "white",
                                                "ticks": ""
                                            },
                                            "bgcolor": "#E5ECF6",
                                            "radialaxis": {
                                                "gridcolor": "white",
                                                "linecolor": "white",
                                                "ticks": ""
                                            }
                                        },
                                        "scene": {
                                            "xaxis": {
                                                "backgroundcolor": "#E5ECF6",
                                                "gridcolor": "white",
                                                "gridwidth": 2,
                                                "linecolor": "white",
                                                "showbackground": true,
                                                "ticks": "",
                                                "zerolinecolor": "white"
                                            },
                                            "yaxis": {
                                                "backgroundcolor": "#E5ECF6",
                                                "gridcolor": "white",
                                                "gridwidth": 2,
                                                "linecolor": "white",
                                                "showbackground": true,
                                                "ticks": "",
                                                "zerolinecolor": "white"
                                            },
                                            "zaxis": {
                                                "backgroundcolor": "#E5ECF6",
                                                "gridcolor": "white",
                                                "gridwidth": 2,
                                                "linecolor": "white",
                                                "showbackground": true,
                                                "ticks": "",
                                                "zerolinecolor": "white"
                                            }
                                        },
                                        "shapedefaults": {
                                            "line": {
                                                "color": "#2a3f5f"
                                            }
                                        },
                                        "ternary": {
                                            "aaxis": {
                                                "gridcolor": "white",
                                                "linecolor": "white",
                                                "ticks": ""
                                            },
                                            "baxis": {
                                                "gridcolor": "white",
                                                "linecolor": "white",
                                                "ticks": ""
                                            },
                                            "bgcolor": "#E5ECF6",
                                            "caxis": {
                                                "gridcolor": "white",
                                                "linecolor": "white",
                                                "ticks": ""
                                            }
                                        },
                                        "title": {
                                            "x": 0.05
                                        },
                                        "xaxis": {
                                            "automargin": true,
                                            "gridcolor": "white",
                                            "linecolor": "white",
                                            "ticks": "",
                                            "title": {
                                                "standoff": 15
                                            },
                                            "zerolinecolor": "white",
                                            "zerolinewidth": 2
                                        },
                                        "yaxis": {
                                            "automargin": true,
                                            "gridcolor": "white",
                                            "linecolor": "white",
                                            "ticks": "",
                                            "title": {
                                                "standoff": 15
                                            },
                                            "zerolinecolor": "white",
                                            "zerolinewidth": 2
                                        }
                                    }
                                },
                                "title": {
                                    "text": "AR and FEV1 posterior distribution"
                                },
                                "width": 800,
                                "xaxis": {
                                    "anchor": "y",
                                    "domain": [
                                        0,
                                        1
                                    ],
                                    "nticks": 20,
                                    "range": [
                                        0,
                                        90
                                    ],
                                    "title": {}
                                },
                                "xaxis2": {
                                    "anchor": "y2",
                                    "domain": [
                                        0,
                                        1
                                    ],
                                    "nticks": 20,
                                    "range": [
                                        0,
                                        90
                                    ],
                                    "title": {}
                                },
                                "xaxis3": {
                                    "anchor": "y3",
                                    "domain": [
                                        0,
                                        1
                                    ],
                                    "nticks": 20,
                                    "range": [
                                        1,
                                        6
                                    ],
                                    "title": {}
                                },
                                "xaxis4": {
                                    "anchor": "y4",
                                    "domain": [
                                        0,
                                        1
                                    ],
                                    "nticks": 20,
                                    "range": [
                                        1,
                                        6
                                    ],
                                    "title": {}
                                },
                                "xaxis5": {
                                    "anchor": "y5",
                                    "domain": [
                                        0,
                                        1
                                    ],
                                    "nticks": 20,
                                    "range": [
                                        1,
                                        6
                                    ],
                                    "title": {}
                                },
                                "yaxis": {
                                    "anchor": "x",
                                    "domain": [
                                        0.816,
                                        1
                                    ]
                                },
                                "yaxis2": {
                                    "anchor": "x2",
                                    "domain": [
                                        0.6120000000000001,
                                        0.796
                                    ]
                                },
                                "yaxis3": {
                                    "anchor": "x3",
                                    "domain": [
                                        0.408,
                                        0.592
                                    ]
                                },
                                "yaxis4": {
                                    "anchor": "x4",
                                    "domain": [
                                        0.204,
                                        0.388
                                    ]
                                },
                                "yaxis5": {
                                    "anchor": "x5",
                                    "domain": [
                                        0,
                                        0.184
                                    ]
                                }
                            }
                        }
                    },
                    "metadata": {},
                    "output_type": "display_data"
                }
            ],
            "source": [
                "(\n",
                "        _,\n",
                "        inf_alg,\n",
                "        HFEV1,\n",
                "        ecFEV1,\n",
                "        AR,\n",
                "        HO2Sat,\n",
                "        O2SatFFA,\n",
                "        IA,\n",
                "        UO2Sat,\n",
                "        O2Sat,\n",
                "        ecFEF2575prctecFEV1,\n",
                "    ) = mb.o2sat_fev1_fef2575_long_model_shared_healthy_vars_and_temporal_ar(\n",
                "        df.loc[0, \"Height\"], df.loc[0, \"Age\"], df.loc[0, \"Sex\"], ia_prior=\"breathe\", ar_change_cpt_suffix=ar_change_cpt_suffix\n",
                "    )\n",
                "\n",
                "HFEV1_final, HO2Sat_final = shared_vars_final\n",
                "first_m = HFEV1_final.vmessages['2019-01-25']\n",
                "\n",
                "idx2 = 10\n",
                "ar1 = df_res_before_convergence.loc[0, \"Airway resistance (%)\"]\n",
                "ar2 = df_res_before_convergence.loc[idx2, \"Airway resistance (%)\"]\n",
                "\n",
                "fev11 = df_res_before_convergence.loc[0, \"Healthy FEV1 (L)\"]\n",
                "fev12 = df_res_before_convergence.loc[idx2, \"Healthy FEV1 (L)\"]\n",
                "\n",
                "fig = make_subplots(\n",
                "    rows=5, cols=1, vertical_spacing=0.02,\n",
                ")\n",
                "ih.plot_histogram(\n",
                "    fig, AR, ar1, AR.a, AR.b, 1, 1, None, \"#636EFA\"\n",
                ")\n",
                "ih.plot_histogram(\n",
                "    fig, AR, ar2, AR.a, AR.b, 2, 1, None, \"#636EFA\"\n",
                ")\n",
                "ih.plot_histogram(\n",
                "    fig, HFEV1, HFEV1.cpt, HFEV1.a, HFEV1.b, 3, 1, None, \"#EF553B\"\n",
                ")\n",
                "m = first_m * HFEV1.cpt\n",
                "m = m / np.sum(m)\n",
                "ih.plot_histogram(\n",
                "    fig, HFEV1, m, HFEV1.a, HFEV1.b, 4, 1, None, \"#EF553B\"\n",
                ")\n",
                "ih.plot_histogram(\n",
                "    fig, HFEV1, fev11, HFEV1.a, HFEV1.b, 5, 1, None, \"#EF553B\"\n",
                ")\n",
                "fig.update_layout(\n",
                "    title_text=\"AR and FEV1 posterior distribution\",\n",
                "    height=600,\n",
                "    width=800,\n",
                ")\n",
                "fig.show()"
            ]
        },
        {
            "cell_type": "code",
            "execution_count": 5,
            "metadata": {},
            "outputs": [
                {
                    "data": {
                        "text/html": [
                            "<div>\n",
                            "<style scoped>\n",
                            "    .dataframe tbody tr th:only-of-type {\n",
                            "        vertical-align: middle;\n",
                            "    }\n",
                            "\n",
                            "    .dataframe tbody tr th {\n",
                            "        vertical-align: top;\n",
                            "    }\n",
                            "\n",
                            "    .dataframe thead th {\n",
                            "        text-align: right;\n",
                            "    }\n",
                            "</style>\n",
                            "<table border=\"1\" class=\"dataframe\">\n",
                            "  <thead>\n",
                            "    <tr style=\"text-align: right;\">\n",
                            "      <th></th>\n",
                            "      <th>ID</th>\n",
                            "      <th>Date Recorded</th>\n",
                            "      <th>FEV1</th>\n",
                            "      <th>O2 Saturation</th>\n",
                            "      <th>FEF2575</th>\n",
                            "      <th>ecFEV1</th>\n",
                            "      <th>ecFEF2575</th>\n",
                            "      <th>Sex</th>\n",
                            "      <th>Height</th>\n",
                            "      <th>Age</th>\n",
                            "      <th>Predicted FEV1</th>\n",
                            "      <th>Healthy O2 Saturation</th>\n",
                            "      <th>ecFEV1 % Predicted</th>\n",
                            "      <th>FEV1 % Predicted</th>\n",
                            "      <th>O2 Saturation % Healthy</th>\n",
                            "      <th>ecFEF2575%ecFEV1</th>\n",
                            "      <th>idx ecFEV1 (L)</th>\n",
                            "      <th>idx ecFEF25-75 % ecFEV1 (%)</th>\n",
                            "      <th>idx O2 saturation (%)</th>\n",
                            "    </tr>\n",
                            "  </thead>\n",
                            "  <tbody>\n",
                            "    <tr>\n",
                            "      <th>0</th>\n",
                            "      <td>101</td>\n",
                            "      <td>2019-01-25</td>\n",
                            "      <td>1.31</td>\n",
                            "      <td>97</td>\n",
                            "      <td>0.54</td>\n",
                            "      <td>1.31</td>\n",
                            "      <td>0.67</td>\n",
                            "      <td>Male</td>\n",
                            "      <td>173.0</td>\n",
                            "      <td>53</td>\n",
                            "      <td>3.610061</td>\n",
                            "      <td>97.150104</td>\n",
                            "      <td>36.287474</td>\n",
                            "      <td>36.287474</td>\n",
                            "      <td>99.845492</td>\n",
                            "      <td>41.221374</td>\n",
                            "      <td>26</td>\n",
                            "      <td>20</td>\n",
                            "      <td>47</td>\n",
                            "    </tr>\n",
                            "    <tr>\n",
                            "      <th>1</th>\n",
                            "      <td>101</td>\n",
                            "      <td>2019-01-26</td>\n",
                            "      <td>1.31</td>\n",
                            "      <td>98</td>\n",
                            "      <td>0.57</td>\n",
                            "      <td>1.31</td>\n",
                            "      <td>0.67</td>\n",
                            "      <td>Male</td>\n",
                            "      <td>173.0</td>\n",
                            "      <td>53</td>\n",
                            "      <td>3.610061</td>\n",
                            "      <td>97.150104</td>\n",
                            "      <td>36.287474</td>\n",
                            "      <td>36.287474</td>\n",
                            "      <td>100.874827</td>\n",
                            "      <td>43.511450</td>\n",
                            "      <td>26</td>\n",
                            "      <td>21</td>\n",
                            "      <td>48</td>\n",
                            "    </tr>\n",
                            "    <tr>\n",
                            "      <th>2</th>\n",
                            "      <td>101</td>\n",
                            "      <td>2019-01-27</td>\n",
                            "      <td>1.31</td>\n",
                            "      <td>96</td>\n",
                            "      <td>0.67</td>\n",
                            "      <td>1.31</td>\n",
                            "      <td>0.69</td>\n",
                            "      <td>Male</td>\n",
                            "      <td>173.0</td>\n",
                            "      <td>53</td>\n",
                            "      <td>3.610061</td>\n",
                            "      <td>97.150104</td>\n",
                            "      <td>36.287474</td>\n",
                            "      <td>36.287474</td>\n",
                            "      <td>98.816157</td>\n",
                            "      <td>51.145038</td>\n",
                            "      <td>26</td>\n",
                            "      <td>25</td>\n",
                            "      <td>46</td>\n",
                            "    </tr>\n",
                            "    <tr>\n",
                            "      <th>3</th>\n",
                            "      <td>101</td>\n",
                            "      <td>2019-01-28</td>\n",
                            "      <td>1.30</td>\n",
                            "      <td>96</td>\n",
                            "      <td>0.69</td>\n",
                            "      <td>1.31</td>\n",
                            "      <td>0.69</td>\n",
                            "      <td>Male</td>\n",
                            "      <td>173.0</td>\n",
                            "      <td>53</td>\n",
                            "      <td>3.610061</td>\n",
                            "      <td>97.150104</td>\n",
                            "      <td>36.287474</td>\n",
                            "      <td>36.010470</td>\n",
                            "      <td>98.816157</td>\n",
                            "      <td>53.076923</td>\n",
                            "      <td>26</td>\n",
                            "      <td>26</td>\n",
                            "      <td>46</td>\n",
                            "    </tr>\n",
                            "    <tr>\n",
                            "      <th>4</th>\n",
                            "      <td>101</td>\n",
                            "      <td>2019-01-29</td>\n",
                            "      <td>1.28</td>\n",
                            "      <td>98</td>\n",
                            "      <td>0.60</td>\n",
                            "      <td>1.30</td>\n",
                            "      <td>0.69</td>\n",
                            "      <td>Male</td>\n",
                            "      <td>173.0</td>\n",
                            "      <td>53</td>\n",
                            "      <td>3.610061</td>\n",
                            "      <td>97.150104</td>\n",
                            "      <td>36.010470</td>\n",
                            "      <td>35.456463</td>\n",
                            "      <td>100.874827</td>\n",
                            "      <td>46.875000</td>\n",
                            "      <td>26</td>\n",
                            "      <td>23</td>\n",
                            "      <td>48</td>\n",
                            "    </tr>\n",
                            "    <tr>\n",
                            "      <th>...</th>\n",
                            "      <td>...</td>\n",
                            "      <td>...</td>\n",
                            "      <td>...</td>\n",
                            "      <td>...</td>\n",
                            "      <td>...</td>\n",
                            "      <td>...</td>\n",
                            "      <td>...</td>\n",
                            "      <td>...</td>\n",
                            "      <td>...</td>\n",
                            "      <td>...</td>\n",
                            "      <td>...</td>\n",
                            "      <td>...</td>\n",
                            "      <td>...</td>\n",
                            "      <td>...</td>\n",
                            "      <td>...</td>\n",
                            "      <td>...</td>\n",
                            "      <td>...</td>\n",
                            "      <td>...</td>\n",
                            "      <td>...</td>\n",
                            "    </tr>\n",
                            "    <tr>\n",
                            "      <th>41255</th>\n",
                            "      <td>553</td>\n",
                            "      <td>2023-10-08</td>\n",
                            "      <td>4.12</td>\n",
                            "      <td>98</td>\n",
                            "      <td>4.20</td>\n",
                            "      <td>4.15</td>\n",
                            "      <td>4.42</td>\n",
                            "      <td>Male</td>\n",
                            "      <td>179.0</td>\n",
                            "      <td>18</td>\n",
                            "      <td>4.619116</td>\n",
                            "      <td>97.042483</td>\n",
                            "      <td>89.844024</td>\n",
                            "      <td>89.194549</td>\n",
                            "      <td>100.986699</td>\n",
                            "      <td>101.941748</td>\n",
                            "      <td>83</td>\n",
                            "      <td>50</td>\n",
                            "      <td>48</td>\n",
                            "    </tr>\n",
                            "    <tr>\n",
                            "      <th>41256</th>\n",
                            "      <td>553</td>\n",
                            "      <td>2023-10-11</td>\n",
                            "      <td>4.15</td>\n",
                            "      <td>97</td>\n",
                            "      <td>4.06</td>\n",
                            "      <td>4.15</td>\n",
                            "      <td>4.84</td>\n",
                            "      <td>Male</td>\n",
                            "      <td>179.0</td>\n",
                            "      <td>18</td>\n",
                            "      <td>4.619116</td>\n",
                            "      <td>97.042483</td>\n",
                            "      <td>89.844024</td>\n",
                            "      <td>89.844024</td>\n",
                            "      <td>99.956223</td>\n",
                            "      <td>97.831325</td>\n",
                            "      <td>83</td>\n",
                            "      <td>48</td>\n",
                            "      <td>47</td>\n",
                            "    </tr>\n",
                            "    <tr>\n",
                            "      <th>41257</th>\n",
                            "      <td>553</td>\n",
                            "      <td>2023-11-06</td>\n",
                            "      <td>4.13</td>\n",
                            "      <td>97</td>\n",
                            "      <td>4.84</td>\n",
                            "      <td>4.15</td>\n",
                            "      <td>4.84</td>\n",
                            "      <td>Male</td>\n",
                            "      <td>179.0</td>\n",
                            "      <td>18</td>\n",
                            "      <td>4.619116</td>\n",
                            "      <td>97.042483</td>\n",
                            "      <td>89.844024</td>\n",
                            "      <td>89.411041</td>\n",
                            "      <td>99.956223</td>\n",
                            "      <td>117.191283</td>\n",
                            "      <td>83</td>\n",
                            "      <td>58</td>\n",
                            "      <td>47</td>\n",
                            "    </tr>\n",
                            "    <tr>\n",
                            "      <th>41258</th>\n",
                            "      <td>553</td>\n",
                            "      <td>2023-11-08</td>\n",
                            "      <td>4.05</td>\n",
                            "      <td>96</td>\n",
                            "      <td>4.71</td>\n",
                            "      <td>4.16</td>\n",
                            "      <td>4.99</td>\n",
                            "      <td>Male</td>\n",
                            "      <td>179.0</td>\n",
                            "      <td>18</td>\n",
                            "      <td>4.619116</td>\n",
                            "      <td>97.042483</td>\n",
                            "      <td>90.060516</td>\n",
                            "      <td>87.679108</td>\n",
                            "      <td>98.925746</td>\n",
                            "      <td>116.296296</td>\n",
                            "      <td>83</td>\n",
                            "      <td>58</td>\n",
                            "      <td>46</td>\n",
                            "    </tr>\n",
                            "    <tr>\n",
                            "      <th>41259</th>\n",
                            "      <td>553</td>\n",
                            "      <td>2023-11-10</td>\n",
                            "      <td>4.16</td>\n",
                            "      <td>99</td>\n",
                            "      <td>4.99</td>\n",
                            "      <td>4.16</td>\n",
                            "      <td>4.99</td>\n",
                            "      <td>Male</td>\n",
                            "      <td>179.0</td>\n",
                            "      <td>18</td>\n",
                            "      <td>4.619116</td>\n",
                            "      <td>97.042483</td>\n",
                            "      <td>90.060516</td>\n",
                            "      <td>90.060516</td>\n",
                            "      <td>102.017176</td>\n",
                            "      <td>119.951923</td>\n",
                            "      <td>83</td>\n",
                            "      <td>59</td>\n",
                            "      <td>49</td>\n",
                            "    </tr>\n",
                            "  </tbody>\n",
                            "</table>\n",
                            "<p>41260 rows × 19 columns</p>\n",
                            "</div>"
                        ],
                        "text/plain": [
                            "        ID Date Recorded  FEV1  O2 Saturation  FEF2575  ecFEV1  ecFEF2575  \\\n",
                            "0      101    2019-01-25  1.31             97     0.54    1.31       0.67   \n",
                            "1      101    2019-01-26  1.31             98     0.57    1.31       0.67   \n",
                            "2      101    2019-01-27  1.31             96     0.67    1.31       0.69   \n",
                            "3      101    2019-01-28  1.30             96     0.69    1.31       0.69   \n",
                            "4      101    2019-01-29  1.28             98     0.60    1.30       0.69   \n",
                            "...    ...           ...   ...            ...      ...     ...        ...   \n",
                            "41255  553    2023-10-08  4.12             98     4.20    4.15       4.42   \n",
                            "41256  553    2023-10-11  4.15             97     4.06    4.15       4.84   \n",
                            "41257  553    2023-11-06  4.13             97     4.84    4.15       4.84   \n",
                            "41258  553    2023-11-08  4.05             96     4.71    4.16       4.99   \n",
                            "41259  553    2023-11-10  4.16             99     4.99    4.16       4.99   \n",
                            "\n",
                            "        Sex  Height  Age  Predicted FEV1  Healthy O2 Saturation  \\\n",
                            "0      Male   173.0   53        3.610061              97.150104   \n",
                            "1      Male   173.0   53        3.610061              97.150104   \n",
                            "2      Male   173.0   53        3.610061              97.150104   \n",
                            "3      Male   173.0   53        3.610061              97.150104   \n",
                            "4      Male   173.0   53        3.610061              97.150104   \n",
                            "...     ...     ...  ...             ...                    ...   \n",
                            "41255  Male   179.0   18        4.619116              97.042483   \n",
                            "41256  Male   179.0   18        4.619116              97.042483   \n",
                            "41257  Male   179.0   18        4.619116              97.042483   \n",
                            "41258  Male   179.0   18        4.619116              97.042483   \n",
                            "41259  Male   179.0   18        4.619116              97.042483   \n",
                            "\n",
                            "       ecFEV1 % Predicted  FEV1 % Predicted  O2 Saturation % Healthy  \\\n",
                            "0               36.287474         36.287474                99.845492   \n",
                            "1               36.287474         36.287474               100.874827   \n",
                            "2               36.287474         36.287474                98.816157   \n",
                            "3               36.287474         36.010470                98.816157   \n",
                            "4               36.010470         35.456463               100.874827   \n",
                            "...                   ...               ...                      ...   \n",
                            "41255           89.844024         89.194549               100.986699   \n",
                            "41256           89.844024         89.844024                99.956223   \n",
                            "41257           89.844024         89.411041                99.956223   \n",
                            "41258           90.060516         87.679108                98.925746   \n",
                            "41259           90.060516         90.060516               102.017176   \n",
                            "\n",
                            "       ecFEF2575%ecFEV1  idx ecFEV1 (L)  idx ecFEF25-75 % ecFEV1 (%)  \\\n",
                            "0             41.221374              26                           20   \n",
                            "1             43.511450              26                           21   \n",
                            "2             51.145038              26                           25   \n",
                            "3             53.076923              26                           26   \n",
                            "4             46.875000              26                           23   \n",
                            "...                 ...             ...                          ...   \n",
                            "41255        101.941748              83                           50   \n",
                            "41256         97.831325              83                           48   \n",
                            "41257        117.191283              83                           58   \n",
                            "41258        116.296296              83                           58   \n",
                            "41259        119.951923              83                           59   \n",
                            "\n",
                            "       idx O2 saturation (%)  \n",
                            "0                         47  \n",
                            "1                         48  \n",
                            "2                         46  \n",
                            "3                         46  \n",
                            "4                         48  \n",
                            "...                      ...  \n",
                            "41255                     48  \n",
                            "41256                     47  \n",
                            "41257                     47  \n",
                            "41258                     46  \n",
                            "41259                     49  \n",
                            "\n",
                            "[41260 rows x 19 columns]"
                        ]
                    },
                    "execution_count": 5,
                    "metadata": {},
                    "output_type": "execute_result"
                }
            ],
            "source": [
                "df.iloc[0]"
            ]
        },
        {
            "cell_type": "code",
            "execution_count": 11,
            "metadata": {},
            "outputs": [
                {
                    "data": {
                        "text/plain": [
                            "array([0.       , 0.       , 0.       , 0.       , 0.       , 0.       ,\n",
                            "       0.0106383, 0.0106383, 0.0106383, 0.0106383, 0.0106383, 0.0106383,\n",
                            "       0.0106383, 0.0106383, 0.0106383, 0.0106383, 0.0106383, 0.0106383,\n",
                            "       0.0106383, 0.0106383, 0.0106383, 0.0106383, 0.0106383, 0.0106383,\n",
                            "       0.0106383, 0.0106383, 0.0106383, 0.0106383, 0.0106383, 0.0106383,\n",
                            "       0.0106383, 0.0106383, 0.0106383, 0.0106383, 0.0106383, 0.0106383,\n",
                            "       0.0106383, 0.0106383, 0.0106383, 0.0106383, 0.0106383, 0.0106383,\n",
                            "       0.0106383, 0.0106383, 0.0106383, 0.0106383, 0.0106383, 0.0106383,\n",
                            "       0.0106383, 0.0106383, 0.0106383, 0.0106383, 0.0106383, 0.0106383,\n",
                            "       0.0106383, 0.0106383, 0.0106383, 0.0106383, 0.0106383, 0.0106383,\n",
                            "       0.0106383, 0.0106383, 0.0106383, 0.0106383, 0.0106383, 0.0106383,\n",
                            "       0.0106383, 0.0106383, 0.0106383, 0.0106383, 0.0106383, 0.0106383,\n",
                            "       0.0106383, 0.0106383, 0.0106383, 0.0106383, 0.0106383, 0.0106383,\n",
                            "       0.0106383, 0.0106383, 0.0106383, 0.0106383, 0.0106383, 0.0106383,\n",
                            "       0.0106383, 0.0106383, 0.0106383, 0.0106383, 0.0106383, 0.0106383,\n",
                            "       0.0106383, 0.0106383, 0.0106383, 0.0106383, 0.0106383, 0.0106383,\n",
                            "       0.0106383, 0.0106383, 0.0106383, 0.0106383])"
                        ]
                    },
                    "execution_count": 11,
                    "metadata": {},
                    "output_type": "execute_result"
                }
            ],
            "source": []
        },
        {
            "cell_type": "code",
            "execution_count": 9,
            "metadata": {},
            "outputs": [
                {
                    "data": {
                        "text/plain": [
                            "array([[1.  , 1.05],\n",
                            "       [1.05, 1.1 ],\n",
                            "       [1.1 , 1.15],\n",
                            "       [1.15, 1.2 ],\n",
                            "       [1.2 , 1.25],\n",
                            "       [1.25, 1.3 ],\n",
                            "       [1.3 , 1.35],\n",
                            "       [1.35, 1.4 ],\n",
                            "       [1.4 , 1.45],\n",
                            "       [1.45, 1.5 ],\n",
                            "       [1.5 , 1.55],\n",
                            "       [1.55, 1.6 ],\n",
                            "       [1.6 , 1.65],\n",
                            "       [1.65, 1.7 ],\n",
                            "       [1.7 , 1.75],\n",
                            "       [1.75, 1.8 ],\n",
                            "       [1.8 , 1.85],\n",
                            "       [1.85, 1.9 ],\n",
                            "       [1.9 , 1.95],\n",
                            "       [1.95, 2.  ],\n",
                            "       [2.  , 2.05],\n",
                            "       [2.05, 2.1 ],\n",
                            "       [2.1 , 2.15],\n",
                            "       [2.15, 2.2 ],\n",
                            "       [2.2 , 2.25],\n",
                            "       [2.25, 2.3 ],\n",
                            "       [2.3 , 2.35],\n",
                            "       [2.35, 2.4 ],\n",
                            "       [2.4 , 2.45],\n",
                            "       [2.45, 2.5 ],\n",
                            "       [2.5 , 2.55],\n",
                            "       [2.55, 2.6 ],\n",
                            "       [2.6 , 2.65],\n",
                            "       [2.65, 2.7 ],\n",
                            "       [2.7 , 2.75],\n",
                            "       [2.75, 2.8 ],\n",
                            "       [2.8 , 2.85],\n",
                            "       [2.85, 2.9 ],\n",
                            "       [2.9 , 2.95],\n",
                            "       [2.95, 3.  ],\n",
                            "       [3.  , 3.05],\n",
                            "       [3.05, 3.1 ],\n",
                            "       [3.1 , 3.15],\n",
                            "       [3.15, 3.2 ],\n",
                            "       [3.2 , 3.25],\n",
                            "       [3.25, 3.3 ],\n",
                            "       [3.3 , 3.35],\n",
                            "       [3.35, 3.4 ],\n",
                            "       [3.4 , 3.45],\n",
                            "       [3.45, 3.5 ],\n",
                            "       [3.5 , 3.55],\n",
                            "       [3.55, 3.6 ],\n",
                            "       [3.6 , 3.65],\n",
                            "       [3.65, 3.7 ],\n",
                            "       [3.7 , 3.75],\n",
                            "       [3.75, 3.8 ],\n",
                            "       [3.8 , 3.85],\n",
                            "       [3.85, 3.9 ],\n",
                            "       [3.9 , 3.95],\n",
                            "       [3.95, 4.  ],\n",
                            "       [4.  , 4.05],\n",
                            "       [4.05, 4.1 ],\n",
                            "       [4.1 , 4.15],\n",
                            "       [4.15, 4.2 ],\n",
                            "       [4.2 , 4.25],\n",
                            "       [4.25, 4.3 ],\n",
                            "       [4.3 , 4.35],\n",
                            "       [4.35, 4.4 ],\n",
                            "       [4.4 , 4.45],\n",
                            "       [4.45, 4.5 ],\n",
                            "       [4.5 , 4.55],\n",
                            "       [4.55, 4.6 ],\n",
                            "       [4.6 , 4.65],\n",
                            "       [4.65, 4.7 ],\n",
                            "       [4.7 , 4.75],\n",
                            "       [4.75, 4.8 ],\n",
                            "       [4.8 , 4.85],\n",
                            "       [4.85, 4.9 ],\n",
                            "       [4.9 , 4.95],\n",
                            "       [4.95, 5.  ],\n",
                            "       [5.  , 5.05],\n",
                            "       [5.05, 5.1 ],\n",
                            "       [5.1 , 5.15],\n",
                            "       [5.15, 5.2 ],\n",
                            "       [5.2 , 5.25],\n",
                            "       [5.25, 5.3 ],\n",
                            "       [5.3 , 5.35],\n",
                            "       [5.35, 5.4 ],\n",
                            "       [5.4 , 5.45],\n",
                            "       [5.45, 5.5 ],\n",
                            "       [5.5 , 5.55],\n",
                            "       [5.55, 5.6 ],\n",
                            "       [5.6 , 5.65],\n",
                            "       [5.65, 5.7 ],\n",
                            "       [5.7 , 5.75],\n",
                            "       [5.75, 5.8 ],\n",
                            "       [5.8 , 5.85],\n",
                            "       [5.85, 5.9 ],\n",
                            "       [5.9 , 5.95],\n",
                            "       [5.95, 6.  ]])"
                        ]
                    },
                    "execution_count": 9,
                    "metadata": {},
                    "output_type": "execute_result"
                }
            ],
            "source": [
                "HFEV1.get_bins_arr()"
            ]
        },
        {
            "cell_type": "code",
            "execution_count": 7,
            "metadata": {},
            "outputs": [],
            "source": [
                "import src.data.helpers as dh\n",
                "\n",
                "dftmp = dh.load_excel(\n",
                "    f\"{dh.get_path_to_main()}/ExcelFiles/BR/Refining_F3/infer_AR_with_two_days_model_O2Sat_FEV1.xlsx\",\n",
                "    # f\"{dh.get_path_to_main()}/ExcelFiles/BR/Refining_F3/infer_AR_with_two_days_model_O2Sat_ecFEV1.xlsx\",\n",
                "    [AR.name],\n",
                "    [\"Day\"],\n",
                ").drop(columns=[\"Unnamed: 0\", HO2Sat.name, IA.name, HFEV1.name])"
            ]
        },
        {
            "cell_type": "code",
            "execution_count": 14,
            "metadata": {},
            "outputs": [],
            "source": []
        },
        {
            "cell_type": "code",
            "execution_count": null,
            "metadata": {},
            "outputs": [],
            "source": []
        }
    ],
    "metadata": {
        "kernelspec": {
            "display_name": "phd",
            "language": "python",
            "name": "python3"
        },
        "language_info": {
            "codemirror_mode": {
                "name": "ipython",
                "version": 3
            },
            "file_extension": ".py",
            "mimetype": "text/x-python",
            "name": "python",
            "nbconvert_exporter": "python",
            "pygments_lexer": "ipython3",
            "version": "3.10.13"
        }
    },
    "nbformat": 4,
    "nbformat_minor": 2
}
