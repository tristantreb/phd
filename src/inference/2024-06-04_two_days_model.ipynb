{
 "cells": [
  {
   "cell_type": "code",
   "execution_count": null,
   "metadata": {},
   "outputs": [],
   "source": [
    "import src.data.breathe_data as bd\n",
    "import src.inference.long_inf_slicing as slicing\n",
    "import src.models.builders as mb\n",
    "import src.models.var_builders as var_builders\n",
    "import src.inference.helpers as ih\n",
    "from plotly.subplots import make_subplots\n",
    "import src.data.helpers as dh\n",
    "import src.models.helpers as mh\n",
    "import plotly.graph_objects as go\n",
    "import logging\n",
    "\n",
    "logger = logging.getLogger()\n",
    "logger.setLevel(logging.CRITICAL)\n",
    "\n",
    "\n",
    "import pandas as pd\n",
    "import numpy as np"
   ]
  },
  {
   "cell_type": "markdown",
   "metadata": {},
   "source": [
    "# Data\n",
    "## Run this to bypass the two next sections (get unblocked fev1 and preprocessd data)"
   ]
  },
  {
   "cell_type": "code",
   "execution_count": null,
   "metadata": {},
   "outputs": [],
   "source": [
    "df = bd.load_meas_from_excel(\n",
    "    \"BR_O2_FEV1_FEF2575_with_idx_and_heighest_obs_per_id_light\"\n",
    ")\n",
    "# df = bd.load_meas_from_excel(\"BR_O2_FEV1_FEF2575_with_idx_and_heighest_obs_per_id\")"
   ]
  },
  {
   "cell_type": "markdown",
   "metadata": {},
   "source": [
    "## Get max FEV1"
   ]
  },
  {
   "cell_type": "code",
   "execution_count": null,
   "metadata": {},
   "outputs": [],
   "source": [
    "# df = bd.load_meas_from_excel(\"BR_O2_FEV1_FEF2575_PEF_Nan\")"
   ]
  },
  {
   "cell_type": "code",
   "execution_count": null,
   "metadata": {},
   "outputs": [],
   "source": [
    "df = df.drop(columns=[\"PEF\", \"ecPEF (L/s)\", \"PEF (L/s)\"])\n",
    "df = df.dropna(subset=[\"FEV1\", \"O2 Saturation\", \"FEF2575\"])\n",
    "df[\"ecFEF2575%ecFEV1\"] = df[\"FEF2575\"] / df[\"FEV1\"] * 100\n",
    "print(df.shape)\n",
    "print(\"IDs: \", df[\"ID\"].nunique())\n",
    "df.head()"
   ]
  },
  {
   "cell_type": "code",
   "execution_count": null,
   "metadata": {},
   "outputs": [],
   "source": [
    "# Add unblocked FEV1\n",
    "def get_unblocked_fev1_for_ID(df):\n",
    "    # Find index where ecFEV1 is max\n",
    "    idx = df[\"ecFEV1\"].idxmax()\n",
    "    df[\"Max ecFEV1\"] = df.loc[idx, \"ecFEV1\"]\n",
    "    df[\"Max ecFEF2575\"] = df.loc[idx, \"ecFEF2575\"]\n",
    "    return df\n",
    "\n",
    "\n",
    "df = (\n",
    "    df.groupby(\"ID\")\n",
    "    .apply(get_unblocked_fev1_for_ID)\n",
    "    .drop(columns=[\"ID\"])\n",
    "    .reset_index()\n",
    "    .drop(columns=[\"level_1\"])\n",
    ")"
   ]
  },
  {
   "cell_type": "code",
   "execution_count": null,
   "metadata": {},
   "outputs": [],
   "source": [
    "# How often is max ecFEV1 obtained at the same time as max ecFEF2575?\n",
    "# Filter idx where max ecFEV1 = ecFEV1\n",
    "idx_max = df[\"Max ecFEV1\"] == df[\"ecFEV1\"]\n",
    "df_tmp = df[idx_max].copy()\n",
    "df_tmp[\"Drop from max ecFEF2575\"] = np.abs(\n",
    "    df_tmp[\"Max ecFEF2575\"] - df_tmp[\"ecFEF2575\"]\n",
    ")\n",
    "\n",
    "(df_tmp[\"Drop from max ecFEF2575\"] == 0).value_counts()\n",
    "# Most of the time, max ecFEV1 is obtained at the same time as max ecFEF2575"
   ]
  },
  {
   "cell_type": "markdown",
   "metadata": {},
   "source": [
    "## Preprocess breathe Data"
   ]
  },
  {
   "cell_type": "code",
   "execution_count": null,
   "metadata": {},
   "outputs": [],
   "source": [
    "# Process the data for the usual variable resolution\n",
    "# (HFEV1, ecFEV1, AR, HO2Sat, O2SatFFA, IA, UO2Sat, O2Sat, ecFEF2575prctecFEV1) = (\n",
    "#     var_builders.o2sat_fev1_fef2575_point_in_time_model_shared_healthy_vars(\n",
    "#         160, 40, \"Male\"\n",
    "#     )\n",
    "# )\n",
    "\n",
    "# Process the data for the light model\n",
    "(HFEV1, ecFEV1, AR, HO2Sat, O2SatFFA, IA, UO2Sat, O2Sat) = (\n",
    "    var_builders.o2sat_fev1_point_in_time_model_shared_healthy_vars_light(\n",
    "        160, 40, \"Male\"\n",
    "    )\n",
    ")"
   ]
  },
  {
   "cell_type": "code",
   "execution_count": null,
   "metadata": {},
   "outputs": [],
   "source": [
    "# Applied get_bin_for_value to all inputs and updated excel file\n",
    "df[f\"idx {ecFEV1.name}\"] = df.apply(\n",
    "    lambda row: ih.get_bin_for_value(row[\"ecFEV1\"], ecFEV1)[1], axis=1\n",
    ")\n",
    "# df[f\"idx {ecFEF2575prctecFEV1.name}\"] = df.apply(\n",
    "#     lambda row: ih.get_bin_for_value(row[\"ecFEF2575%ecFEV1\"], ecFEF2575prctecFEV1)[1],\n",
    "#     axis=1,\n",
    "# )\n",
    "df[f\"idx {O2Sat.name}\"] = df.apply(\n",
    "    lambda row: ih.get_bin_for_value(row[\"O2 Saturation\"], O2Sat)[1], axis=1\n",
    ")"
   ]
  },
  {
   "cell_type": "code",
   "execution_count": null,
   "metadata": {},
   "outputs": [],
   "source": [
    "# df.to_excel(\n",
    "#     dh.get_path_to_main()\n",
    "#     + \"/ExcelFiles/BR/BR_O2_FEV1_FEF2575_with_idx_and_heighest_obs_per_id_light.xlsx\",\n",
    "#     index=False,\n",
    "# )"
   ]
  },
  {
   "cell_type": "markdown",
   "metadata": {},
   "source": [
    "# Two days model with approximate inference (slicing)"
   ]
  },
  {
   "cell_type": "code",
   "execution_count": null,
   "metadata": {},
   "outputs": [],
   "source": [
    "# Plot function\n",
    "def plot_one_and_two_days_models_res(\n",
    "    df_query_res_one_day,\n",
    "    df_query_res_one_day_fef,\n",
    "    df_query_res_two_days,\n",
    "    df_query_res_two_days_fef,\n",
    "    HFEV1,\n",
    "    HO2Sat,\n",
    "    AR,\n",
    "    IA,\n",
    "    df,\n",
    "    save=False,\n",
    "):\n",
    "\n",
    "    lay_row = [{}, {}, {}, {}]\n",
    "    lay_full_row = [{\"colspan\": 4}, None, None, None]\n",
    "    # 4 rows: prior, posterior for healthy var, then ar day 1, ar day 3\n",
    "    fig = make_subplots(\n",
    "        rows=8,\n",
    "        cols=4,\n",
    "        specs=[\n",
    "            lay_row,\n",
    "            lay_row,\n",
    "            lay_row,\n",
    "            lay_row,\n",
    "            lay_row,\n",
    "            lay_row,\n",
    "            lay_full_row,\n",
    "            lay_full_row,\n",
    "        ],\n",
    "    )\n",
    "\n",
    "    # Day\n",
    "    title_day = f\"ecFEV1={df_query_res_two_days_fef.loc[0, 'ecFEV1']:.2g}, O2 Saturation={df_query_res_two_days_fef.loc[0, 'O2 Saturation']:.2g}%, ecFEF2575%ecFEV1={df_query_res_two_days_fef.loc[0, 'ecFEF2575%ecFEV1']:.2f}%\"\n",
    "    # Max\n",
    "    title_max_FEV1_day = f\"ecFEV1={df_query_res_two_days_fef.loc[1, 'ecFEV1']:.2g}, O2 Saturation={df_query_res_two_days_fef.loc[1, 'O2 Saturation']:.2g}%, ecFEF2575%ecFEV1={df_query_res_two_days_fef.loc[1, 'ecFEF2575%ecFEV1']:.2f}%\"\n",
    "\n",
    "    title_prefix = f\"Comparing one vs two days model ID={df_query_res_two_days_fef.loc[0, 'ID']}, {df_query_res_two_days_fef.loc[0, 'Age']}y, {df_query_res_two_days_fef.loc[0, 'Height']}cm, {df_query_res_two_days_fef.loc[0, 'Sex']}\"\n",
    "\n",
    "    # One day\n",
    "    hfev1_one_day = df_query_res_one_day.loc[0, HFEV1.name]\n",
    "    ho2sat_one_day = df_query_res_one_day.loc[0, HO2Sat.name]\n",
    "    ar_one_day = df_query_res_one_day.loc[0, AR.name]\n",
    "    ia_one_day = df_query_res_one_day.loc[0, IA.name]\n",
    "\n",
    "    # One day fef\n",
    "    hfev1_one_day_fef = df_query_res_one_day_fef.loc[0, HFEV1.name]\n",
    "    ho2sat_one_day_fef = df_query_res_one_day_fef.loc[0, HO2Sat.name]\n",
    "    ar_one_day_fef = df_query_res_one_day_fef.loc[0, AR.name]\n",
    "    ia_one_day_fef = df_query_res_one_day_fef.loc[0, IA.name]\n",
    "\n",
    "    # Two days\n",
    "    ar_day_1 = df_query_res_two_days.loc[0, AR.name]\n",
    "    ar_max = df_query_res_two_days.loc[1, AR.name]\n",
    "    ia_day_1 = df_query_res_two_days.loc[0, IA.name]\n",
    "    ia_max = df_query_res_two_days.loc[1, IA.name]\n",
    "    hfev1_two_days = df_query_res_two_days.loc[0, HFEV1.name]\n",
    "    ho2sat_two_days = df_query_res_two_days.loc[0, HO2Sat.name]\n",
    "\n",
    "    # Two days fef\n",
    "    ar_day_1_fef = df_query_res_two_days_fef.loc[0, AR.name]\n",
    "    ar_max_fef = df_query_res_two_days_fef.loc[1, AR.name]\n",
    "    ia_day_1_fef = df_query_res_two_days_fef.loc[0, IA.name]\n",
    "    ia_max_fef = df_query_res_two_days_fef.loc[1, IA.name]\n",
    "    hfev1_two_days_fef = df_query_res_two_days_fef.loc[0, HFEV1.name]\n",
    "    ho2sat_two_days_fef = df_query_res_two_days_fef.loc[0, HO2Sat.name]\n",
    "\n",
    "    # Priors\n",
    "    ih.plot_histogram(\n",
    "        fig, HFEV1, HFEV1.cpt, HFEV1.a, HFEV1.b, 1, 1, HFEV1.name + \" prior\", \"#009e73\"\n",
    "    )\n",
    "    ih.plot_histogram(\n",
    "        fig,\n",
    "        HO2Sat,\n",
    "        HO2Sat.cpt,\n",
    "        HO2Sat.a,\n",
    "        HO2Sat.b,\n",
    "        1,\n",
    "        2,\n",
    "        HO2Sat.name + \" prior\",\n",
    "        \"#0072b2\",\n",
    "    )\n",
    "    # Posteriors\n",
    "    # One days HFEV1\n",
    "    ih.plot_histogram(\n",
    "        fig,\n",
    "        HFEV1,\n",
    "        hfev1_one_day,\n",
    "        HFEV1.a,\n",
    "        HFEV1.b,\n",
    "        2,\n",
    "        1,\n",
    "        \"HFEV1\" + \" one day\",\n",
    "        \"#009e73\",\n",
    "    )\n",
    "    ih.plot_histogram(\n",
    "        fig,\n",
    "        HFEV1,\n",
    "        hfev1_one_day_fef,\n",
    "        HFEV1.a,\n",
    "        HFEV1.b,\n",
    "        2,\n",
    "        3,\n",
    "        \"HFEV1\" + \" one day with FEF25-75\",\n",
    "        \"#009e73\",\n",
    "    )\n",
    "    # One days HO2Sat\n",
    "    ih.plot_histogram(\n",
    "        fig,\n",
    "        HO2Sat,\n",
    "        ho2sat_one_day,\n",
    "        HO2Sat.a,\n",
    "        HO2Sat.b,\n",
    "        2,\n",
    "        2,\n",
    "        \"HO2Sat\" + \" one day\",\n",
    "        \"#0072b2\",\n",
    "    )\n",
    "    ih.plot_histogram(\n",
    "        fig,\n",
    "        HO2Sat,\n",
    "        ho2sat_one_day_fef,\n",
    "        HO2Sat.a,\n",
    "        HO2Sat.b,\n",
    "        2,\n",
    "        4,\n",
    "        \"HO2Sat\" + \" one day with FEF25-75\",\n",
    "        \"#0072b2\",\n",
    "    )\n",
    "    # One days AR\n",
    "    ih.plot_histogram(\n",
    "        fig,\n",
    "        AR,\n",
    "        ar_one_day,\n",
    "        AR.a,\n",
    "        AR.b,\n",
    "        3,\n",
    "        1,\n",
    "        \"AR\" + \" one day\",\n",
    "        colour=\"#d55e00\",\n",
    "    )\n",
    "    ih.plot_histogram(\n",
    "        fig,\n",
    "        AR,\n",
    "        ar_one_day_fef,\n",
    "        AR.a,\n",
    "        AR.b,\n",
    "        3,\n",
    "        3,\n",
    "        \"AR\" + \" one day with FEF25-75\",\n",
    "        colour=\"#d55e00\",\n",
    "    )\n",
    "    # One days IA\n",
    "    ih.plot_histogram(\n",
    "        fig,\n",
    "        IA,\n",
    "        ia_one_day,\n",
    "        IA.a,\n",
    "        IA.b,\n",
    "        3,\n",
    "        2,\n",
    "        IA.name + \" one day\",\n",
    "        \"#cc79a7\",\n",
    "    )\n",
    "    ih.plot_histogram(\n",
    "        fig,\n",
    "        IA,\n",
    "        ia_one_day_fef,\n",
    "        IA.a,\n",
    "        IA.b,\n",
    "        3,\n",
    "        4,\n",
    "        IA.name + \" one day with FEF25-75\",\n",
    "        \"#cc79a7\",\n",
    "    )\n",
    "    # Two days HFEV1\n",
    "    ih.plot_histogram(\n",
    "        fig,\n",
    "        HFEV1,\n",
    "        hfev1_two_days,\n",
    "        HFEV1.a,\n",
    "        HFEV1.b,\n",
    "        4,\n",
    "        1,\n",
    "        \"HFEV1\" + \" shared posterior\",\n",
    "        \"#009e73\",\n",
    "    )\n",
    "    ih.plot_histogram(\n",
    "        fig,\n",
    "        HFEV1,\n",
    "        hfev1_two_days_fef,\n",
    "        HFEV1.a,\n",
    "        HFEV1.b,\n",
    "        4,\n",
    "        3,\n",
    "        \"HFEV1\" + \" shared posterior with FEF25-75\",\n",
    "        \"#009e73\",\n",
    "    )\n",
    "    # Two days HO2Sat\n",
    "    ih.plot_histogram(\n",
    "        fig,\n",
    "        HO2Sat,\n",
    "        ho2sat_two_days,\n",
    "        HO2Sat.a,\n",
    "        HO2Sat.b,\n",
    "        4,\n",
    "        2,\n",
    "        \"HO2Sat\" + \" shared posterior\",\n",
    "        \"#0072b2\",\n",
    "    )\n",
    "    ih.plot_histogram(\n",
    "        fig,\n",
    "        HO2Sat,\n",
    "        ho2sat_two_days_fef,\n",
    "        HO2Sat.a,\n",
    "        HO2Sat.b,\n",
    "        4,\n",
    "        4,\n",
    "        \"HO2Sat\" + \" shared posterior with FEF25-75\",\n",
    "        \"#0072b2\",\n",
    "    )\n",
    "    # Two days AR\n",
    "    ih.plot_histogram(\n",
    "        fig,\n",
    "        AR,\n",
    "        ar_day_1,\n",
    "        AR.a,\n",
    "        AR.b,\n",
    "        5,\n",
    "        1,\n",
    "        \"AR\" + \" day 1\",\n",
    "        colour=\"#d55e00\",\n",
    "    )\n",
    "    ih.plot_histogram(\n",
    "        fig,\n",
    "        AR,\n",
    "        ar_max,\n",
    "        AR.a,\n",
    "        AR.b,\n",
    "        6,\n",
    "        1,\n",
    "        \"AR\" + \" max\",\n",
    "        colour=\"#d55e00\",\n",
    "    )\n",
    "    ih.plot_histogram(\n",
    "        fig,\n",
    "        AR,\n",
    "        ar_day_1_fef,\n",
    "        AR.a,\n",
    "        AR.b,\n",
    "        5,\n",
    "        3,\n",
    "        \"AR\" + \" day 1 with FEF25-75\",\n",
    "        colour=\"#d55e00\",\n",
    "    )\n",
    "    ih.plot_histogram(\n",
    "        fig,\n",
    "        AR,\n",
    "        ar_max_fef,\n",
    "        AR.a,\n",
    "        AR.b,\n",
    "        6,\n",
    "        3,\n",
    "        \"AR\" + \" max with FEF25-75\",\n",
    "        colour=\"#d55e00\",\n",
    "    )\n",
    "    # Two days IA\n",
    "    ih.plot_histogram(\n",
    "        fig,\n",
    "        IA,\n",
    "        ia_day_1,\n",
    "        IA.a,\n",
    "        IA.b,\n",
    "        5,\n",
    "        2,\n",
    "        \"IA\" + \" day 1\",\n",
    "        \"#cc79a7\",\n",
    "    )\n",
    "    ih.plot_histogram(\n",
    "        fig,\n",
    "        IA,\n",
    "        ia_max,\n",
    "        IA.a,\n",
    "        IA.b,\n",
    "        6,\n",
    "        2,\n",
    "        \"IA\" + \" max\",\n",
    "        \"#cc79a7\",\n",
    "    )\n",
    "    ih.plot_histogram(\n",
    "        fig,\n",
    "        IA,\n",
    "        ia_day_1_fef,\n",
    "        IA.a,\n",
    "        IA.b,\n",
    "        5,\n",
    "        4,\n",
    "        \"IA\" + \" day 1 with FEF25-75\",\n",
    "        \"#cc79a7\",\n",
    "    )\n",
    "    ih.plot_histogram(\n",
    "        fig,\n",
    "        IA,\n",
    "        ia_max_fef,\n",
    "        IA.a,\n",
    "        IA.b,\n",
    "        6,\n",
    "        4,\n",
    "        \"IA\" + \" max with FEF25-75\",\n",
    "        \"#cc79a7\",\n",
    "    )\n",
    "    # Plot ecFEV1 profile\n",
    "    fig.add_trace(\n",
    "        go.Scatter(y=df[\"ecFEV1\"], x=df[\"Date Recorded\"], mode=\"markers\"),\n",
    "        row=7,\n",
    "        col=1,\n",
    "    )\n",
    "    fig.update_yaxes(\n",
    "        # nticks=20,\n",
    "        title=\"ecFEV1 (L)\",\n",
    "        row=7,\n",
    "        col=1,\n",
    "    )\n",
    "    fig.add_trace(\n",
    "        go.Scatter(y=df[\"O2 Saturation\"], x=df[\"Date Recorded\"], mode=\"markers\"),\n",
    "        row=8,\n",
    "        col=1,\n",
    "    )\n",
    "    fig.update_yaxes(\n",
    "        # nticks=20,\n",
    "        title=\"O2 saturation (%)\",\n",
    "        row=8,\n",
    "        col=1,\n",
    "    )\n",
    "    # Add drug therapy\n",
    "    drug_df = bd.load_drug_therapies()\n",
    "    drug_df = drug_df[drug_df[\"DrugTherapyType\"] != \"Unknown\"]\n",
    "    drug_df_for_ID = drug_df[drug_df.ID == df_query_res_one_day.loc[0, \"ID\"]]\n",
    "\n",
    "    def drug_therapy_color_dict():\n",
    "        return {\n",
    "            \"Trikafta\": \"green\",\n",
    "            \"Ivacaftor\": \"purple\",\n",
    "            \"Symkevi\": \"purple\",\n",
    "            \"Orkambi\": \"purple\",\n",
    "        }\n",
    "\n",
    "    for _, row in drug_df_for_ID.iterrows():\n",
    "        start_date = row.DrugTherapyStartDate\n",
    "        stop_date = row.DrugTherapyStopDate\n",
    "        if pd.isnull(stop_date):\n",
    "            stop_date = df[\"Date Recorded\"].max()\n",
    "        fig.add_vrect(\n",
    "            x0=start_date,\n",
    "            # y0=0,\n",
    "            x1=stop_date,\n",
    "            # y1=100,\n",
    "            fillcolor=drug_therapy_color_dict()[row.DrugTherapyType],\n",
    "            opacity=0.08,\n",
    "            layer=\"below\",\n",
    "            line_width=0,\n",
    "            name=row.DrugTherapyType,\n",
    "            row=7,\n",
    "            col=1,\n",
    "        )\n",
    "        fig.add_vrect(\n",
    "            x0=start_date,\n",
    "            # y0=0,\n",
    "            x1=stop_date,\n",
    "            # y1=100,\n",
    "            fillcolor=drug_therapy_color_dict()[row.DrugTherapyType],\n",
    "            opacity=0.08,\n",
    "            layer=\"below\",\n",
    "            line_width=0,\n",
    "            name=row.DrugTherapyType,\n",
    "            row=8,\n",
    "            col=1,\n",
    "        )\n",
    "        # Add annotation\n",
    "        fig.add_annotation(\n",
    "            x=start_date,\n",
    "            y=df[\"ecFEV1\"].max() * 1.02,\n",
    "            # xref=\"x\",\n",
    "            # yref=\"paper\",\n",
    "            text=row.DrugTherapyType,\n",
    "            showarrow=False,\n",
    "            font=dict(size=8),\n",
    "            row=7,\n",
    "            col=1,\n",
    "        )\n",
    "\n",
    "    # Change marker size for plot row 7\n",
    "    fig.update_traces(marker=dict(size=3), selector=dict(mode=\"markers\"))\n",
    "\n",
    "    fig.update_xaxes(title_standoff=5)\n",
    "\n",
    "    fig.update_layout(\n",
    "        title=f\"{title_prefix}<br><br>Current day:   {title_day}<br>Max FEV1 day:{title_max_FEV1_day}\",\n",
    "        width=1000,\n",
    "        height=1000,\n",
    "        font=dict(size=8),\n",
    "        showlegend=False,\n",
    "    )\n",
    "\n",
    "    if save:\n",
    "        fig.write_image(\n",
    "            dh.get_path_to_main()\n",
    "            + f\"PlotsBreathe/Two days model/{title_prefix}, {title_day}.pdf\"\n",
    "        )\n",
    "    else:\n",
    "        fig.show()\n",
    "    return -1"
   ]
  },
  {
   "cell_type": "code",
   "execution_count": null,
   "metadata": {},
   "outputs": [],
   "source": [
    "def infer_and_plot_for_id(df_for_ID, debug, diff_threshold=1e-8):\n",
    "    df_for_ID = df_for_ID.reset_index(drop=True)\n",
    "    print(f\"\\nID: {df_for_ID.ID.iloc[0]}\")\n",
    "    print(f\"#datapoints: {len(df_for_ID)}\")\n",
    "\n",
    "    height = df_for_ID.Height.iloc[0]\n",
    "    age = df_for_ID.Age.iloc[0]\n",
    "    sex = df_for_ID.Sex.iloc[0]\n",
    "    (\n",
    "        _,\n",
    "        inf_alg,\n",
    "        HFEV1,\n",
    "        ecFEV1,\n",
    "        AR,\n",
    "        HO2Sat,\n",
    "        O2SatFFA,\n",
    "        IA,\n",
    "        UO2Sat,\n",
    "        O2Sat,\n",
    "        ecFEF2575prctecFEV1,\n",
    "    ) = mb.o2sat_fev1_fef2575_point_in_time_model_shared_healthy_vars(height, age, sex)\n",
    "\n",
    "    # Set variables parametrisation\n",
    "    key_hfev1 = f\"['{ecFEV1.name}', '{HFEV1.name}', '{AR.name}'] -> {HFEV1.name}\"\n",
    "    key_ho2sat = f\"['{O2SatFFA.name}', '{HO2Sat.name}', '{AR.name}'] -> {HO2Sat.name}\"\n",
    "    HFEV1.set_factor_node_key(key_hfev1)\n",
    "    HO2Sat.set_factor_node_key(key_ho2sat)\n",
    "\n",
    "    vars = [AR, IA]\n",
    "    shared_vars = [HFEV1, HO2Sat]\n",
    "    obs_vars = [ecFEV1.name, O2Sat.name]\n",
    "    obs_vars_fef = [ecFEV1.name, O2Sat.name, ecFEF2575prctecFEV1.name]\n",
    "\n",
    "    # Find the max FEV1 values\n",
    "    # Given an ID, get the data which maximises ecFEV1, then ecFEF2575, then O2 Saturation\n",
    "    idx_max_FEV1 = df_for_ID.sort_values(\n",
    "        by=[\"ecFEV1\", \"ecFEF2575\", \"O2 Saturation\"], ascending=False\n",
    "    ).index[0]\n",
    "\n",
    "    # Randomly select 4 entries for this ID\n",
    "    # Select 1 entry's index in the bottom 10 percentile of ecFEV1\n",
    "    bottom_10 = (df_for_ID[\"ecFEV1\"] == df_for_ID[\"ecFEV1\"].quantile(0.1)).argmax()\n",
    "    # Select 1 entry's index in the 50% percentile\n",
    "    median = (df_for_ID[\"ecFEV1\"] == df_for_ID[\"ecFEV1\"].quantile(0.5)).argmax()\n",
    "    # Select 1 entry's index in the top 10% percentile\n",
    "    top_10 = (df_for_ID[\"ecFEV1\"] == df_for_ID[\"ecFEV1\"].quantile(0.8)).argmax()\n",
    "    idx_list = [bottom_10, median, top_10]\n",
    "    # idx_list = list(np.random.choice(df_for_ID.index, 4))\n",
    "\n",
    "    for i, _ in df_for_ID.iloc[idx_list].iterrows():\n",
    "        df_one_day = df_for_ID.iloc[[i]]\n",
    "        df_two_days = df_for_ID.iloc[[i, idx_max_FEV1]]\n",
    "\n",
    "        df_query_res_one_day, _, _ = slicing.query_across_days(\n",
    "            df_one_day, inf_alg, shared_vars, vars, obs_vars, diff_threshold, debug\n",
    "        )\n",
    "        # reset shared vars\n",
    "        for var in shared_vars:\n",
    "            var.reset()\n",
    "        df_query_res_one_day_fef, _, _ = slicing.query_across_days(\n",
    "            df_one_day, inf_alg, shared_vars, vars, obs_vars_fef, diff_threshold, debug\n",
    "        )\n",
    "        for var in shared_vars:\n",
    "            var.reset()\n",
    "        df_query_res_two_days, _, _ = slicing.query_across_days(\n",
    "            df_two_days, inf_alg, shared_vars, vars, obs_vars, diff_threshold, debug\n",
    "        )\n",
    "        for var in shared_vars:\n",
    "            var.reset()\n",
    "        df_query_res_two_days_fef, _, _ = slicing.query_across_days(\n",
    "            df_two_days, inf_alg, shared_vars, vars, obs_vars_fef, diff_threshold, debug\n",
    "        )\n",
    "        for var in shared_vars:\n",
    "            var.reset()\n",
    "\n",
    "        plot_one_and_two_days_models_res(\n",
    "            df_query_res_one_day,\n",
    "            df_query_res_one_day_fef,\n",
    "            df_query_res_two_days,\n",
    "            df_query_res_two_days_fef,\n",
    "            HFEV1,\n",
    "            HO2Sat,\n",
    "            AR,\n",
    "            IA,\n",
    "            df_for_ID,\n",
    "            save=True,\n",
    "        )\n",
    "\n",
    "    return (\n",
    "        df_query_res_one_day,\n",
    "        df_query_res_one_day_fef,\n",
    "        df_query_res_two_days,\n",
    "        df_query_res_two_days_fef,\n",
    "    )\n",
    "\n",
    "\n",
    "# df_for_ID = df[df[\"ID\"] == \"113\"]\n",
    "# (\n",
    "#     df_query_res_one_day,\n",
    "#     df_query_res_one_day_fef,\n",
    "#     df_query_res_two_days,\n",
    "#     df_query_res_two_days_fef,\n",
    "# ) = infer_and_plot_for_id(df_for_ID, debug=False, diff_threshold=1e-2)\n",
    "\n",
    "\n",
    "df.groupby(\"ID\").apply(\n",
    "    lambda df_for_ID: infer_and_plot_for_id(df_for_ID, debug=False, diff_threshold=1e-6)\n",
    ")"
   ]
  },
  {
   "cell_type": "code",
   "execution_count": null,
   "metadata": {},
   "outputs": [],
   "source": [
    "(\n",
    "    _,\n",
    "    inf_alg,\n",
    "    HFEV1,\n",
    "    ecFEV1,\n",
    "    AR,\n",
    "    HO2Sat,\n",
    "    O2SatFFA,\n",
    "    IA,\n",
    "    UO2Sat,\n",
    "    O2Sat,\n",
    "    ecFEF2575prctecFEV1,\n",
    ") = mb.o2sat_fev1_fef2575_point_in_time_model_shared_healthy_vars(170, 30, \"Female\")\n",
    "\n",
    "plot_one_and_two_days_models_res(\n",
    "    df_query_res_one_day,\n",
    "    df_query_res_one_day_fef,\n",
    "    df_query_res_two_days,\n",
    "    df_query_res_two_days_fef,\n",
    "    HFEV1,\n",
    "    HO2Sat,\n",
    "    AR,\n",
    "    IA,\n",
    "    df_for_ID,\n",
    ")"
   ]
  },
  {
   "cell_type": "code",
   "execution_count": null,
   "metadata": {},
   "outputs": [],
   "source": [
    "print(\n",
    "    f\"HFEV1 max diff between 2 days: {max(df_query_res_two_days.loc[0, HFEV1.name] - df_query_res_two_days.loc[1, HFEV1.name]):.2g}\"\n",
    ")\n",
    "print(\n",
    "    f\"HO2Sat max diff between 2 days: {max(df_query_res_two_days.loc[0, HO2Sat.name] - df_query_res_two_days.loc[1, HO2Sat.name]):.2g}\"\n",
    ")\n",
    "# Stop criteria: difference of the last HFEV1 inferred between two epochs is les than a threshold (1e-6)"
   ]
  },
  {
   "cell_type": "markdown",
   "metadata": {},
   "source": [
    "# Two days model with exact inference"
   ]
  },
  {
   "cell_type": "code",
   "execution_count": null,
   "metadata": {},
   "outputs": [],
   "source": [
    "import src.data.breathe_data as bd\n",
    "import src.inference.long_inf_slicing as slicing\n",
    "import src.models.builders as mb\n",
    "import src.models.var_builders as var_builders\n",
    "import src.inference.helpers as ih\n",
    "from plotly.subplots import make_subplots\n",
    "\n",
    "import pandas as pd\n",
    "import numpy as np\n",
    "\n",
    "# df = bd.load_meas_from_excel(\"BR_O2_FEV1_FEF2575_with_idx_and_heighest_obs_per_id\")\n",
    "df_for_ID = df[df[\"ID\"] == \"101\"]\n",
    "idx_max_FEV1 = df_for_ID.sort_values(\n",
    "    by=[\"ecFEV1\", \"ecFEF2575\", \"O2 Saturation\"], ascending=False\n",
    ").index[0]\n",
    "\n",
    "df_for_ID.iloc[[0, idx_max_FEV1]]"
   ]
  },
  {
   "cell_type": "code",
   "execution_count": null,
   "metadata": {},
   "outputs": [],
   "source": [
    "height = df_for_ID.Height.iloc[0]\n",
    "age = df_for_ID.Age.iloc[0]\n",
    "sex = df_for_ID.Sex.iloc[0]\n",
    "(\n",
    "    model,\n",
    "    inf_alg,\n",
    "    HFEV1,\n",
    "    HO2Sat,\n",
    "    ecFEV1,\n",
    "    AR,\n",
    "    O2SatFFA,\n",
    "    IA,\n",
    "    UO2Sat,\n",
    "    O2Sat,\n",
    "    # ecFEF2575prctecFEV1,\n",
    "    ecFEV1_2,\n",
    "    AR_2,\n",
    "    O2SatFFA_2,\n",
    "    IA_2,\n",
    "    UO2Sat_2,\n",
    "    O2Sat_2,\n",
    "    # ecFEF2575prctecFEV1_2,\n",
    ") = mb.o2_sat_fev1_two_days_model_light(height, age, sex)"
   ]
  },
  {
   "cell_type": "code",
   "execution_count": null,
   "metadata": {},
   "outputs": [],
   "source": [
    "# vars = [HFEV1, HO2Sat, AR, IA, AR_2, IA_2]\n",
    "vars = [AR, IA]\n",
    "obs_vars = [[ecFEV1, 1.31], [O2Sat, 97], [ecFEV1_2, 1.79], [O2Sat_2, 98]]\n",
    "\n",
    "res = ih.infer(inference_alg=inf_alg, variables=vars, evidences=obs_vars)"
   ]
  },
  {
   "cell_type": "markdown",
   "metadata": {},
   "source": [
    "# 1 day, exact vs approximate inference"
   ]
  },
  {
   "cell_type": "code",
   "execution_count": null,
   "metadata": {},
   "outputs": [],
   "source": [
    "df1 = df.copy()"
   ]
  },
  {
   "cell_type": "code",
   "execution_count": null,
   "metadata": {},
   "outputs": [],
   "source": [
    "df1.columns"
   ]
  },
  {
   "cell_type": "code",
   "execution_count": null,
   "metadata": {},
   "outputs": [],
   "source": [
    "df_res = pd.DataFrame({})\n",
    "\n",
    "for id in df1.ID.unique():\n",
    "    df_for_ID = df1[df1[\"ID\"] == id].reset_index()\n",
    "    idx_init = df_for_ID.index[0]\n",
    "\n",
    "    # Set values\n",
    "    height = df_for_ID.Height.iloc[0]\n",
    "    age = df_for_ID.Age.iloc[0]\n",
    "    sex = df_for_ID.Sex.iloc[0]\n",
    "\n",
    "    idx_max_FEV1 = df_for_ID.sort_values(\n",
    "        by=[\"ecFEV1\", \"ecFEF2575\", \"O2 Saturation\"], ascending=False\n",
    "    ).index[0]\n",
    "\n",
    "    (\n",
    "        _,\n",
    "        inf_alg_approx,\n",
    "        HFEV1,\n",
    "        ecFEV1,\n",
    "        AR,\n",
    "        HO2Sat,\n",
    "        O2SatFFA,\n",
    "        IA,\n",
    "        UO2Sat,\n",
    "        O2Sat,\n",
    "    ) = mb.o2sat_fev1_point_in_time_model_shared_healthy_vars_light(height, age, sex)\n",
    "\n",
    "    # Set variables parametrisation\n",
    "    key_hfev1 = f\"['{ecFEV1.name}', '{HFEV1.name}', '{AR.name}'] -> {HFEV1.name}\"\n",
    "    key_ho2sat = f\"['{O2SatFFA.name}', '{HO2Sat.name}', '{AR.name}'] -> {HO2Sat.name}\"\n",
    "    HFEV1.set_factor_node_key(key_hfev1)\n",
    "    HO2Sat.set_factor_node_key(key_ho2sat)\n",
    "\n",
    "    # Set inputs for approximate inference\n",
    "    shared_vars_approx = [HFEV1, HO2Sat]\n",
    "    vars_approx = []\n",
    "    obs_var_names_approx = [ecFEV1.name, O2Sat.name]\n",
    "\n",
    "    (\n",
    "        model,\n",
    "        inf_alg_exact,\n",
    "        HFEV1_exact,\n",
    "        HO2Sat,\n",
    "        ecFEV1,\n",
    "        AR,\n",
    "        O2SatFFA,\n",
    "        IA,\n",
    "        UO2Sat,\n",
    "        O2Sat,\n",
    "        ecFEV1_2,\n",
    "        AR_2,\n",
    "        O2SatFFA_2,\n",
    "        IA_2,\n",
    "        UO2Sat_2,\n",
    "        O2Sat_2,\n",
    "    ) = mb.o2_sat_fev1_two_days_model_light(height, age, sex)\n",
    "    shared_vars_exact = [HFEV1, HO2Sat]\n",
    "\n",
    "    # Take random element from df_for_ID.index\n",
    "    chosen_idx_list = np.random.choice(df_for_ID.index, 1)\n",
    "\n",
    "    for i in chosen_idx_list:  # df_for_ID.iterrows():\n",
    "        if i == idx_max_FEV1:\n",
    "            print(f\"Max FEV1 entry found (index {i}), skipping to avo\")\n",
    "            continue\n",
    "        df_two_days = df_for_ID.iloc[[i, idx_max_FEV1]]\n",
    "\n",
    "        # Approximate inference\n",
    "        df_query_res, df_res_before_convergence, shared_vars_final = (\n",
    "            slicing.query_across_days(\n",
    "                df_two_days,\n",
    "                inf_alg_approx,\n",
    "                shared_vars_approx,\n",
    "                vars_approx,\n",
    "                obs_var_names_approx,\n",
    "                1e-8,\n",
    "                debug=False,\n",
    "                auto_reset_shared_vars=True,\n",
    "            )\n",
    "        )\n",
    "        hfev1_approx = df_query_res.loc[0, HFEV1.name]\n",
    "        ho2sat_approx = df_query_res.loc[0, HO2Sat.name]\n",
    "\n",
    "        # Exact inference\n",
    "        fev1 = df_two_days.reset_index().loc[0, \"ecFEV1\"]\n",
    "        fev1_max = df_two_days.reset_index().loc[1, \"ecFEV1\"]\n",
    "        o2sat = df_two_days.reset_index().loc[0, \"O2 Saturation\"]\n",
    "        o2sat_max = df_two_days.reset_index().loc[1, \"O2 Saturation\"]\n",
    "        obs_vars = [\n",
    "            [ecFEV1, fev1],\n",
    "            [O2Sat, o2sat],\n",
    "            [ecFEV1_2, fev1_max],\n",
    "            [O2Sat_2, o2sat_max],\n",
    "        ]\n",
    "\n",
    "        res_exact = ih.infer(\n",
    "            inference_alg=inf_alg_exact,\n",
    "            variables=shared_vars_exact,\n",
    "            evidences=obs_vars,\n",
    "            debug=False,\n",
    "        )\n",
    "        hfev1_exact = res_exact[HFEV1.name].values\n",
    "        ho2sat_exact = res_exact[HO2Sat.name].values\n",
    "\n",
    "        # Add row to df_res\n",
    "        row = {\n",
    "            \"ID\": df_for_ID.loc[i, \"ID\"],\n",
    "            \"Date Recorded\": df_for_ID.loc[i, \"Date Recorded\"],\n",
    "            \"Age\": df_for_ID.loc[i, \"Age\"],\n",
    "            \"Height\": df_for_ID.loc[i, \"Height\"],\n",
    "            \"Sex\": df_for_ID.loc[i, \"Sex\"],\n",
    "            \"HFEV1 exact inf\": hfev1_exact,\n",
    "            \"HFEV1 approx inf\": hfev1_approx,\n",
    "            \"HO2Sat exact inf\": ho2sat_exact,\n",
    "            \"HO2Sat approx inf\": ho2sat_approx,\n",
    "        }\n",
    "\n",
    "        dt_tmp = pd.Series(row).to_frame().T\n",
    "\n",
    "        df_res = pd.concat([df_res, dt_tmp])"
   ]
  },
  {
   "cell_type": "code",
   "execution_count": null,
   "metadata": {},
   "outputs": [],
   "source": [
    "# Metrics to compare the models\n",
    "\n",
    "\n",
    "# Kullback–Leibler divergence\n",
    "# it is the expectation of the logarithmic difference between the probabilities P and Q, where the expectation is taken using the probabilities P.\n",
    "def calc_kullback_leibler_divergence(p, q):\n",
    "    # Replace 0s in q with 1e-10\n",
    "    q[q == 0] = 1e-20\n",
    "    p[p == 0] = 1e-20\n",
    "    return sum(np.log(p / q) * p)\n",
    "\n",
    "\n",
    "def calc_relative_diff(exact, approx):\n",
    "    exact_bis = exact.copy()\n",
    "    exact_bis[np.abs(exact) < 0.0001] = 0\n",
    "    approx_bis = approx.copy()\n",
    "    approx_bis[np.abs(approx) < 0.0001] = 0\n",
    "    # To perform a safe division, if hfev1_exact_bis is 0, then we divide by 1\n",
    "    denominator_exact = exact_bis.copy()\n",
    "    denominator_exact[np.abs(exact) < 0.0001] = 1\n",
    "    return np.sum(np.abs((np.divide(exact_bis - approx_bis, denominator_exact) * 100)))\n",
    "\n",
    "\n",
    "def max_diff(exact, approx):\n",
    "    \"\"\"\n",
    "    In the end I will just apply the max diff because 1/ it's easiest to interpret,\n",
    "    and 2/ it reveals the changes in the highest values, which is what we are interested in\n",
    "    \"\"\"\n",
    "    return max(np.abs(exact - approx))\n",
    "\n",
    "\n",
    "df_res[\"HFEV1 max diff\"] = df_res.apply(\n",
    "    lambda row: max_diff(row[\"HFEV1 exact inf\"], row[\"HFEV1 approx inf\"]), axis=1\n",
    ")\n",
    "df_res[\"HO2Sat max diff\"] = df_res.apply(\n",
    "    lambda row: max_diff(row[\"HO2Sat exact inf\"], row[\"HO2Sat approx inf\"]), axis=1\n",
    ")\n",
    "\n",
    "# df1.loc[df_for_ID.loc[i, \"index\"], \"HFEV1 relative diff\"] = calc_relative_diff(\n",
    "#     hfev1_exact, hfev1_approx\n",
    "# )\n",
    "# df1.loc[df_for_ID.loc[i, \"index\"], \"HO2Sat relative diff\"] = calc_relative_diff(\n",
    "#     ho2sat_exact, ho2sat_approx\n",
    "# )\n",
    "\n",
    "# kl_div_hfev1 = calc_kullback_leibler_divergence(hfev1_exact, hfev1_approx)\n",
    "# kl_div_ho2sat = calc_kullback_leibler_divergence(ho2sat_exact, ho2sat_approx)\n",
    "# df1.loc[df_for_ID.loc[i, \"index\"], \"HFEV1 KL div\"] = kl_div_hfev1\n",
    "# df1.loc[df_for_ID.loc[i, \"index\"], \"HO2Sat KL div\"] = kl_div_ho2sat"
   ]
  },
  {
   "cell_type": "code",
   "execution_count": null,
   "metadata": {},
   "outputs": [],
   "source": [
    "df_res.sort_values(by=\"HFEV1 max diff\", ascending=False)"
   ]
  },
  {
   "cell_type": "code",
   "execution_count": null,
   "metadata": {},
   "outputs": [],
   "source": [
    "df1.sort_values(by=\"HFEV1 max diff\", ascending=False).head(10)\n",
    "# df1.sort_values(by=\"HFEV1 relative diff\", ascending=False).head(10)\n",
    "# df1.sort_values(by=\"HFEV1 KL div\", ascending=False).head(10)\n",
    "# The same 8 entries are in the top 10. Meaning that both are similar indicators of the difference between the two models\n",
    "# The difference is small"
   ]
  },
  {
   "cell_type": "code",
   "execution_count": null,
   "metadata": {},
   "outputs": [],
   "source": [
    "# Spot cases where the error is high\n",
    "# The lower the value, the higher the error -> remove the lowest probabilities"
   ]
  },
  {
   "cell_type": "markdown",
   "metadata": {},
   "source": [
    "# N days, exact vs approximate inference"
   ]
  },
  {
   "cell_type": "code",
   "execution_count": null,
   "metadata": {},
   "outputs": [],
   "source": [
    "# Exact inference: I need a modular way to create Bayesian Networks - that get bigger with the number of days\n",
    "# Approx inference: just add more days as input"
   ]
  },
  {
   "cell_type": "code",
   "execution_count": 101,
   "metadata": {},
   "outputs": [
    {
     "name": "stdout",
     "output_type": "stream",
     "text": [
      "days concse 1 days total 1\n",
      "Max FEV1 in the first 4 days, skipping ID 105\n"
     ]
    },
    {
     "name": "stderr",
     "output_type": "stream",
     "text": [
      "/Users/tristan.trebaol/Desktop/PhD/Code/pgmpy/pgmpy/factors/discrete/DiscreteFactor.py:796: RuntimeWarning:\n",
      "\n",
      "invalid value encountered in divide\n",
      "\n",
      "/Users/tristan.trebaol/Desktop/PhD/Code/pgmpy/pgmpy/factors/discrete/DiscreteFactor.py:796: RuntimeWarning:\n",
      "\n",
      "invalid value encountered in divide\n",
      "\n",
      "/Users/tristan.trebaol/Desktop/PhD/Code/pgmpy/pgmpy/factors/discrete/DiscreteFactor.py:796: RuntimeWarning:\n",
      "\n",
      "invalid value encountered in divide\n",
      "\n",
      "/Users/tristan.trebaol/Desktop/PhD/Code/pgmpy/pgmpy/factors/discrete/DiscreteFactor.py:796: RuntimeWarning:\n",
      "\n",
      "invalid value encountered in divide\n",
      "\n",
      "/Users/tristan.trebaol/Desktop/PhD/Code/pgmpy/pgmpy/factors/discrete/DiscreteFactor.py:796: RuntimeWarning:\n",
      "\n",
      "invalid value encountered in divide\n",
      "\n",
      "/Users/tristan.trebaol/Desktop/PhD/Code/pgmpy/pgmpy/factors/discrete/DiscreteFactor.py:796: RuntimeWarning:\n",
      "\n",
      "invalid value encountered in divide\n",
      "\n",
      "/Users/tristan.trebaol/Desktop/PhD/Code/pgmpy/pgmpy/factors/discrete/DiscreteFactor.py:796: RuntimeWarning:\n",
      "\n",
      "invalid value encountered in divide\n",
      "\n",
      "/Users/tristan.trebaol/Desktop/PhD/Code/pgmpy/pgmpy/factors/discrete/DiscreteFactor.py:796: RuntimeWarning:\n",
      "\n",
      "invalid value encountered in divide\n",
      "\n",
      "/Users/tristan.trebaol/Desktop/PhD/Code/pgmpy/pgmpy/factors/discrete/DiscreteFactor.py:796: RuntimeWarning:\n",
      "\n",
      "invalid value encountered in divide\n",
      "\n",
      "/Users/tristan.trebaol/Desktop/PhD/Code/pgmpy/pgmpy/factors/discrete/DiscreteFactor.py:796: RuntimeWarning:\n",
      "\n",
      "invalid value encountered in divide\n",
      "\n",
      "/Users/tristan.trebaol/Desktop/PhD/Code/pgmpy/pgmpy/factors/discrete/DiscreteFactor.py:796: RuntimeWarning:\n",
      "\n",
      "invalid value encountered in divide\n",
      "\n",
      "/Users/tristan.trebaol/Desktop/PhD/Code/pgmpy/pgmpy/factors/discrete/DiscreteFactor.py:796: RuntimeWarning:\n",
      "\n",
      "invalid value encountered in divide\n",
      "\n",
      "/Users/tristan.trebaol/Desktop/PhD/Code/pgmpy/pgmpy/factors/discrete/DiscreteFactor.py:796: RuntimeWarning:\n",
      "\n",
      "invalid value encountered in divide\n",
      "\n",
      "/Users/tristan.trebaol/Desktop/PhD/Code/pgmpy/pgmpy/factors/discrete/DiscreteFactor.py:796: RuntimeWarning:\n",
      "\n",
      "invalid value encountered in divide\n",
      "\n",
      "/Users/tristan.trebaol/Desktop/PhD/Code/pgmpy/pgmpy/factors/discrete/DiscreteFactor.py:796: RuntimeWarning:\n",
      "\n",
      "invalid value encountered in divide\n",
      "\n",
      "/Users/tristan.trebaol/Desktop/PhD/Code/pgmpy/pgmpy/factors/discrete/DiscreteFactor.py:796: RuntimeWarning:\n",
      "\n",
      "invalid value encountered in divide\n",
      "\n",
      "/Users/tristan.trebaol/Desktop/PhD/Code/pgmpy/pgmpy/factors/discrete/DiscreteFactor.py:796: RuntimeWarning:\n",
      "\n",
      "invalid value encountered in divide\n",
      "\n",
      "/Users/tristan.trebaol/Desktop/PhD/Code/pgmpy/pgmpy/factors/discrete/DiscreteFactor.py:796: RuntimeWarning:\n",
      "\n",
      "invalid value encountered in divide\n",
      "\n",
      "/Users/tristan.trebaol/Desktop/PhD/Code/pgmpy/pgmpy/factors/discrete/DiscreteFactor.py:796: RuntimeWarning:\n",
      "\n",
      "invalid value encountered in divide\n",
      "\n",
      "/Users/tristan.trebaol/Desktop/PhD/Code/pgmpy/pgmpy/factors/discrete/DiscreteFactor.py:796: RuntimeWarning:\n",
      "\n",
      "invalid value encountered in divide\n",
      "\n",
      "/Users/tristan.trebaol/Desktop/PhD/Code/pgmpy/pgmpy/factors/discrete/DiscreteFactor.py:796: RuntimeWarning:\n",
      "\n",
      "invalid value encountered in divide\n",
      "\n",
      "/Users/tristan.trebaol/Desktop/PhD/Code/pgmpy/pgmpy/factors/discrete/DiscreteFactor.py:796: RuntimeWarning:\n",
      "\n",
      "invalid value encountered in divide\n",
      "\n",
      "/Users/tristan.trebaol/Desktop/PhD/Code/pgmpy/pgmpy/factors/discrete/DiscreteFactor.py:796: RuntimeWarning:\n",
      "\n",
      "invalid value encountered in divide\n",
      "\n",
      "/Users/tristan.trebaol/Desktop/PhD/Code/pgmpy/pgmpy/factors/discrete/DiscreteFactor.py:796: RuntimeWarning:\n",
      "\n",
      "invalid value encountered in divide\n",
      "\n",
      "/Users/tristan.trebaol/Desktop/PhD/Code/pgmpy/pgmpy/factors/discrete/DiscreteFactor.py:796: RuntimeWarning:\n",
      "\n",
      "invalid value encountered in divide\n",
      "\n",
      "/Users/tristan.trebaol/Desktop/PhD/Code/pgmpy/pgmpy/factors/discrete/DiscreteFactor.py:796: RuntimeWarning:\n",
      "\n",
      "invalid value encountered in divide\n",
      "\n",
      "/Users/tristan.trebaol/Desktop/PhD/Code/pgmpy/pgmpy/factors/discrete/DiscreteFactor.py:796: RuntimeWarning:\n",
      "\n",
      "invalid value encountered in divide\n",
      "\n",
      "/Users/tristan.trebaol/Desktop/PhD/Code/pgmpy/pgmpy/factors/discrete/DiscreteFactor.py:796: RuntimeWarning:\n",
      "\n",
      "invalid value encountered in divide\n",
      "\n",
      "/Users/tristan.trebaol/Desktop/PhD/Code/pgmpy/pgmpy/factors/discrete/DiscreteFactor.py:796: RuntimeWarning:\n",
      "\n",
      "invalid value encountered in divide\n",
      "\n",
      "/Users/tristan.trebaol/Desktop/PhD/Code/pgmpy/pgmpy/factors/discrete/DiscreteFactor.py:796: RuntimeWarning:\n",
      "\n",
      "invalid value encountered in divide\n",
      "\n"
     ]
    },
    {
     "name": "stdout",
     "output_type": "stream",
     "text": [
      "Max FEV1 in the first 4 days, skipping ID 129\n"
     ]
    },
    {
     "name": "stderr",
     "output_type": "stream",
     "text": [
      "/Users/tristan.trebaol/Desktop/PhD/Code/pgmpy/pgmpy/factors/discrete/DiscreteFactor.py:796: RuntimeWarning:\n",
      "\n",
      "invalid value encountered in divide\n",
      "\n",
      "/Users/tristan.trebaol/Desktop/PhD/Code/pgmpy/pgmpy/factors/discrete/DiscreteFactor.py:796: RuntimeWarning:\n",
      "\n",
      "invalid value encountered in divide\n",
      "\n",
      "/Users/tristan.trebaol/Desktop/PhD/Code/pgmpy/pgmpy/factors/discrete/DiscreteFactor.py:796: RuntimeWarning:\n",
      "\n",
      "invalid value encountered in divide\n",
      "\n",
      "/Users/tristan.trebaol/Desktop/PhD/Code/pgmpy/pgmpy/factors/discrete/DiscreteFactor.py:796: RuntimeWarning:\n",
      "\n",
      "invalid value encountered in divide\n",
      "\n",
      "/Users/tristan.trebaol/Desktop/PhD/Code/pgmpy/pgmpy/factors/discrete/DiscreteFactor.py:796: RuntimeWarning:\n",
      "\n",
      "invalid value encountered in divide\n",
      "\n",
      "/Users/tristan.trebaol/Desktop/PhD/Code/pgmpy/pgmpy/factors/discrete/DiscreteFactor.py:796: RuntimeWarning:\n",
      "\n",
      "invalid value encountered in divide\n",
      "\n",
      "/Users/tristan.trebaol/Desktop/PhD/Code/pgmpy/pgmpy/factors/discrete/DiscreteFactor.py:796: RuntimeWarning:\n",
      "\n",
      "invalid value encountered in divide\n",
      "\n",
      "/Users/tristan.trebaol/Desktop/PhD/Code/pgmpy/pgmpy/factors/discrete/DiscreteFactor.py:796: RuntimeWarning:\n",
      "\n",
      "invalid value encountered in divide\n",
      "\n",
      "/Users/tristan.trebaol/Desktop/PhD/Code/pgmpy/pgmpy/factors/discrete/DiscreteFactor.py:796: RuntimeWarning:\n",
      "\n",
      "invalid value encountered in divide\n",
      "\n",
      "/Users/tristan.trebaol/Desktop/PhD/Code/pgmpy/pgmpy/factors/discrete/DiscreteFactor.py:796: RuntimeWarning:\n",
      "\n",
      "invalid value encountered in divide\n",
      "\n",
      "/Users/tristan.trebaol/Desktop/PhD/Code/pgmpy/pgmpy/factors/discrete/DiscreteFactor.py:796: RuntimeWarning:\n",
      "\n",
      "invalid value encountered in divide\n",
      "\n",
      "/Users/tristan.trebaol/Desktop/PhD/Code/pgmpy/pgmpy/factors/discrete/DiscreteFactor.py:796: RuntimeWarning:\n",
      "\n",
      "invalid value encountered in divide\n",
      "\n",
      "/Users/tristan.trebaol/Desktop/PhD/Code/pgmpy/pgmpy/factors/discrete/DiscreteFactor.py:796: RuntimeWarning:\n",
      "\n",
      "invalid value encountered in divide\n",
      "\n",
      "/Users/tristan.trebaol/Desktop/PhD/Code/pgmpy/pgmpy/factors/discrete/DiscreteFactor.py:796: RuntimeWarning:\n",
      "\n",
      "invalid value encountered in divide\n",
      "\n",
      "/Users/tristan.trebaol/Desktop/PhD/Code/pgmpy/pgmpy/factors/discrete/DiscreteFactor.py:796: RuntimeWarning:\n",
      "\n",
      "invalid value encountered in divide\n",
      "\n",
      "/Users/tristan.trebaol/Desktop/PhD/Code/pgmpy/pgmpy/factors/discrete/DiscreteFactor.py:796: RuntimeWarning:\n",
      "\n",
      "invalid value encountered in divide\n",
      "\n",
      "/Users/tristan.trebaol/Desktop/PhD/Code/pgmpy/pgmpy/factors/discrete/DiscreteFactor.py:796: RuntimeWarning:\n",
      "\n",
      "invalid value encountered in divide\n",
      "\n",
      "/Users/tristan.trebaol/Desktop/PhD/Code/pgmpy/pgmpy/factors/discrete/DiscreteFactor.py:796: RuntimeWarning:\n",
      "\n",
      "invalid value encountered in divide\n",
      "\n",
      "/Users/tristan.trebaol/Desktop/PhD/Code/pgmpy/pgmpy/factors/discrete/DiscreteFactor.py:796: RuntimeWarning:\n",
      "\n",
      "invalid value encountered in divide\n",
      "\n",
      "/Users/tristan.trebaol/Desktop/PhD/Code/pgmpy/pgmpy/factors/discrete/DiscreteFactor.py:796: RuntimeWarning:\n",
      "\n",
      "invalid value encountered in divide\n",
      "\n"
     ]
    },
    {
     "name": "stdout",
     "output_type": "stream",
     "text": [
      "Too few data, skipping ID 154\n",
      "Too few data, skipping ID 160\n",
      "Too few data, skipping ID 167\n",
      "Max FEV1 in the first 4 days, skipping ID 168\n"
     ]
    },
    {
     "name": "stderr",
     "output_type": "stream",
     "text": [
      "/Users/tristan.trebaol/Desktop/PhD/Code/pgmpy/pgmpy/factors/discrete/DiscreteFactor.py:796: RuntimeWarning:\n",
      "\n",
      "invalid value encountered in divide\n",
      "\n",
      "/Users/tristan.trebaol/Desktop/PhD/Code/pgmpy/pgmpy/factors/discrete/DiscreteFactor.py:796: RuntimeWarning:\n",
      "\n",
      "invalid value encountered in divide\n",
      "\n",
      "/Users/tristan.trebaol/Desktop/PhD/Code/pgmpy/pgmpy/factors/discrete/DiscreteFactor.py:796: RuntimeWarning:\n",
      "\n",
      "invalid value encountered in divide\n",
      "\n",
      "/Users/tristan.trebaol/Desktop/PhD/Code/pgmpy/pgmpy/factors/discrete/DiscreteFactor.py:796: RuntimeWarning:\n",
      "\n",
      "invalid value encountered in divide\n",
      "\n",
      "/Users/tristan.trebaol/Desktop/PhD/Code/pgmpy/pgmpy/factors/discrete/DiscreteFactor.py:796: RuntimeWarning:\n",
      "\n",
      "invalid value encountered in divide\n",
      "\n",
      "/Users/tristan.trebaol/Desktop/PhD/Code/pgmpy/pgmpy/factors/discrete/DiscreteFactor.py:796: RuntimeWarning:\n",
      "\n",
      "invalid value encountered in divide\n",
      "\n",
      "/Users/tristan.trebaol/Desktop/PhD/Code/pgmpy/pgmpy/factors/discrete/DiscreteFactor.py:796: RuntimeWarning:\n",
      "\n",
      "invalid value encountered in divide\n",
      "\n",
      "/Users/tristan.trebaol/Desktop/PhD/Code/pgmpy/pgmpy/factors/discrete/DiscreteFactor.py:796: RuntimeWarning:\n",
      "\n",
      "invalid value encountered in divide\n",
      "\n",
      "/Users/tristan.trebaol/Desktop/PhD/Code/pgmpy/pgmpy/factors/discrete/DiscreteFactor.py:796: RuntimeWarning:\n",
      "\n",
      "invalid value encountered in divide\n",
      "\n",
      "/Users/tristan.trebaol/Desktop/PhD/Code/pgmpy/pgmpy/factors/discrete/DiscreteFactor.py:796: RuntimeWarning:\n",
      "\n",
      "invalid value encountered in divide\n",
      "\n",
      "/Users/tristan.trebaol/Desktop/PhD/Code/pgmpy/pgmpy/factors/discrete/DiscreteFactor.py:796: RuntimeWarning:\n",
      "\n",
      "invalid value encountered in divide\n",
      "\n",
      "/Users/tristan.trebaol/Desktop/PhD/Code/pgmpy/pgmpy/factors/discrete/DiscreteFactor.py:796: RuntimeWarning:\n",
      "\n",
      "invalid value encountered in divide\n",
      "\n",
      "/Users/tristan.trebaol/Desktop/PhD/Code/pgmpy/pgmpy/factors/discrete/DiscreteFactor.py:796: RuntimeWarning:\n",
      "\n",
      "invalid value encountered in divide\n",
      "\n",
      "/Users/tristan.trebaol/Desktop/PhD/Code/pgmpy/pgmpy/factors/discrete/DiscreteFactor.py:796: RuntimeWarning:\n",
      "\n",
      "invalid value encountered in divide\n",
      "\n",
      "/Users/tristan.trebaol/Desktop/PhD/Code/pgmpy/pgmpy/factors/discrete/DiscreteFactor.py:796: RuntimeWarning:\n",
      "\n",
      "invalid value encountered in divide\n",
      "\n",
      "/Users/tristan.trebaol/Desktop/PhD/Code/pgmpy/pgmpy/factors/discrete/DiscreteFactor.py:796: RuntimeWarning:\n",
      "\n",
      "invalid value encountered in divide\n",
      "\n",
      "/Users/tristan.trebaol/Desktop/PhD/Code/pgmpy/pgmpy/factors/discrete/DiscreteFactor.py:796: RuntimeWarning:\n",
      "\n",
      "invalid value encountered in divide\n",
      "\n",
      "/Users/tristan.trebaol/Desktop/PhD/Code/pgmpy/pgmpy/factors/discrete/DiscreteFactor.py:796: RuntimeWarning:\n",
      "\n",
      "invalid value encountered in divide\n",
      "\n",
      "/Users/tristan.trebaol/Desktop/PhD/Code/pgmpy/pgmpy/factors/discrete/DiscreteFactor.py:796: RuntimeWarning:\n",
      "\n",
      "invalid value encountered in divide\n",
      "\n"
     ]
    },
    {
     "name": "stdout",
     "output_type": "stream",
     "text": [
      "Too few data, skipping ID 175\n",
      "Max FEV1 in the first 4 days, skipping ID 181\n",
      "Max FEV1 in the first 4 days, skipping ID 183\n"
     ]
    },
    {
     "name": "stderr",
     "output_type": "stream",
     "text": [
      "/Users/tristan.trebaol/Desktop/PhD/Code/pgmpy/pgmpy/factors/discrete/DiscreteFactor.py:796: RuntimeWarning:\n",
      "\n",
      "invalid value encountered in divide\n",
      "\n",
      "/Users/tristan.trebaol/Desktop/PhD/Code/pgmpy/pgmpy/factors/discrete/DiscreteFactor.py:796: RuntimeWarning:\n",
      "\n",
      "invalid value encountered in divide\n",
      "\n",
      "/Users/tristan.trebaol/Desktop/PhD/Code/pgmpy/pgmpy/factors/discrete/DiscreteFactor.py:796: RuntimeWarning:\n",
      "\n",
      "invalid value encountered in divide\n",
      "\n",
      "/Users/tristan.trebaol/Desktop/PhD/Code/pgmpy/pgmpy/factors/discrete/DiscreteFactor.py:796: RuntimeWarning:\n",
      "\n",
      "invalid value encountered in divide\n",
      "\n",
      "/Users/tristan.trebaol/Desktop/PhD/Code/pgmpy/pgmpy/factors/discrete/DiscreteFactor.py:796: RuntimeWarning:\n",
      "\n",
      "invalid value encountered in divide\n",
      "\n",
      "/Users/tristan.trebaol/Desktop/PhD/Code/pgmpy/pgmpy/factors/discrete/DiscreteFactor.py:796: RuntimeWarning:\n",
      "\n",
      "invalid value encountered in divide\n",
      "\n",
      "/Users/tristan.trebaol/Desktop/PhD/Code/pgmpy/pgmpy/factors/discrete/DiscreteFactor.py:796: RuntimeWarning:\n",
      "\n",
      "invalid value encountered in divide\n",
      "\n",
      "/Users/tristan.trebaol/Desktop/PhD/Code/pgmpy/pgmpy/factors/discrete/DiscreteFactor.py:796: RuntimeWarning:\n",
      "\n",
      "invalid value encountered in divide\n",
      "\n",
      "/Users/tristan.trebaol/Desktop/PhD/Code/pgmpy/pgmpy/factors/discrete/DiscreteFactor.py:796: RuntimeWarning:\n",
      "\n",
      "invalid value encountered in divide\n",
      "\n"
     ]
    },
    {
     "name": "stdout",
     "output_type": "stream",
     "text": [
      "Max FEV1 in the first 4 days, skipping ID 189\n",
      "Too few data, skipping ID 195\n"
     ]
    },
    {
     "name": "stderr",
     "output_type": "stream",
     "text": [
      "/Users/tristan.trebaol/Desktop/PhD/Code/pgmpy/pgmpy/factors/discrete/DiscreteFactor.py:796: RuntimeWarning:\n",
      "\n",
      "invalid value encountered in divide\n",
      "\n",
      "/Users/tristan.trebaol/Desktop/PhD/Code/pgmpy/pgmpy/factors/discrete/DiscreteFactor.py:796: RuntimeWarning:\n",
      "\n",
      "invalid value encountered in divide\n",
      "\n",
      "/Users/tristan.trebaol/Desktop/PhD/Code/pgmpy/pgmpy/factors/discrete/DiscreteFactor.py:796: RuntimeWarning:\n",
      "\n",
      "invalid value encountered in divide\n",
      "\n",
      "/Users/tristan.trebaol/Desktop/PhD/Code/pgmpy/pgmpy/factors/discrete/DiscreteFactor.py:796: RuntimeWarning:\n",
      "\n",
      "invalid value encountered in divide\n",
      "\n",
      "/Users/tristan.trebaol/Desktop/PhD/Code/pgmpy/pgmpy/factors/discrete/DiscreteFactor.py:796: RuntimeWarning:\n",
      "\n",
      "invalid value encountered in divide\n",
      "\n",
      "/Users/tristan.trebaol/Desktop/PhD/Code/pgmpy/pgmpy/factors/discrete/DiscreteFactor.py:796: RuntimeWarning:\n",
      "\n",
      "invalid value encountered in divide\n",
      "\n",
      "/Users/tristan.trebaol/Desktop/PhD/Code/pgmpy/pgmpy/factors/discrete/DiscreteFactor.py:796: RuntimeWarning:\n",
      "\n",
      "invalid value encountered in divide\n",
      "\n",
      "/Users/tristan.trebaol/Desktop/PhD/Code/pgmpy/pgmpy/factors/discrete/DiscreteFactor.py:796: RuntimeWarning:\n",
      "\n",
      "invalid value encountered in divide\n",
      "\n",
      "/Users/tristan.trebaol/Desktop/PhD/Code/pgmpy/pgmpy/factors/discrete/DiscreteFactor.py:796: RuntimeWarning:\n",
      "\n",
      "invalid value encountered in divide\n",
      "\n"
     ]
    },
    {
     "name": "stdout",
     "output_type": "stream",
     "text": [
      "Max FEV1 in the first 4 days, skipping ID 202\n",
      "Max FEV1 in the first 4 days, skipping ID 206\n",
      "Max FEV1 in the first 4 days, skipping ID 207\n",
      "Max FEV1 in the first 4 days, skipping ID 208\n",
      "Too few data, skipping ID 211\n",
      "Max FEV1 in the first 4 days, skipping ID 212\n",
      "Too few data, skipping ID 213\n",
      "Too few data, skipping ID 216\n"
     ]
    },
    {
     "name": "stderr",
     "output_type": "stream",
     "text": [
      "/Users/tristan.trebaol/Desktop/PhD/Code/pgmpy/pgmpy/factors/discrete/DiscreteFactor.py:796: RuntimeWarning:\n",
      "\n",
      "invalid value encountered in divide\n",
      "\n",
      "/Users/tristan.trebaol/Desktop/PhD/Code/pgmpy/pgmpy/factors/discrete/DiscreteFactor.py:796: RuntimeWarning:\n",
      "\n",
      "invalid value encountered in divide\n",
      "\n",
      "/Users/tristan.trebaol/Desktop/PhD/Code/pgmpy/pgmpy/factors/discrete/DiscreteFactor.py:796: RuntimeWarning:\n",
      "\n",
      "invalid value encountered in divide\n",
      "\n",
      "/Users/tristan.trebaol/Desktop/PhD/Code/pgmpy/pgmpy/factors/discrete/DiscreteFactor.py:796: RuntimeWarning:\n",
      "\n",
      "invalid value encountered in divide\n",
      "\n",
      "/Users/tristan.trebaol/Desktop/PhD/Code/pgmpy/pgmpy/factors/discrete/DiscreteFactor.py:796: RuntimeWarning:\n",
      "\n",
      "invalid value encountered in divide\n",
      "\n",
      "/Users/tristan.trebaol/Desktop/PhD/Code/pgmpy/pgmpy/factors/discrete/DiscreteFactor.py:796: RuntimeWarning:\n",
      "\n",
      "invalid value encountered in divide\n",
      "\n",
      "/Users/tristan.trebaol/Desktop/PhD/Code/pgmpy/pgmpy/factors/discrete/DiscreteFactor.py:796: RuntimeWarning:\n",
      "\n",
      "invalid value encountered in divide\n",
      "\n",
      "/Users/tristan.trebaol/Desktop/PhD/Code/pgmpy/pgmpy/factors/discrete/DiscreteFactor.py:796: RuntimeWarning:\n",
      "\n",
      "invalid value encountered in divide\n",
      "\n"
     ]
    },
    {
     "name": "stdout",
     "output_type": "stream",
     "text": [
      "Too few data, skipping ID 222\n",
      "Too few data, skipping ID 225\n",
      "Too few data, skipping ID 236\n"
     ]
    },
    {
     "name": "stderr",
     "output_type": "stream",
     "text": [
      "/Users/tristan.trebaol/Desktop/PhD/Code/pgmpy/pgmpy/factors/discrete/DiscreteFactor.py:796: RuntimeWarning:\n",
      "\n",
      "invalid value encountered in divide\n",
      "\n",
      "/Users/tristan.trebaol/Desktop/PhD/Code/pgmpy/pgmpy/factors/discrete/DiscreteFactor.py:796: RuntimeWarning:\n",
      "\n",
      "invalid value encountered in divide\n",
      "\n",
      "/Users/tristan.trebaol/Desktop/PhD/Code/pgmpy/pgmpy/factors/discrete/DiscreteFactor.py:796: RuntimeWarning:\n",
      "\n",
      "invalid value encountered in divide\n",
      "\n",
      "/Users/tristan.trebaol/Desktop/PhD/Code/pgmpy/pgmpy/factors/discrete/DiscreteFactor.py:796: RuntimeWarning:\n",
      "\n",
      "invalid value encountered in divide\n",
      "\n",
      "/Users/tristan.trebaol/Desktop/PhD/Code/pgmpy/pgmpy/factors/discrete/DiscreteFactor.py:796: RuntimeWarning:\n",
      "\n",
      "invalid value encountered in divide\n",
      "\n",
      "/Users/tristan.trebaol/Desktop/PhD/Code/pgmpy/pgmpy/factors/discrete/DiscreteFactor.py:796: RuntimeWarning:\n",
      "\n",
      "invalid value encountered in divide\n",
      "\n",
      "/Users/tristan.trebaol/Desktop/PhD/Code/pgmpy/pgmpy/factors/discrete/DiscreteFactor.py:796: RuntimeWarning:\n",
      "\n",
      "invalid value encountered in divide\n",
      "\n",
      "/Users/tristan.trebaol/Desktop/PhD/Code/pgmpy/pgmpy/factors/discrete/DiscreteFactor.py:796: RuntimeWarning:\n",
      "\n",
      "invalid value encountered in divide\n",
      "\n",
      "/Users/tristan.trebaol/Desktop/PhD/Code/pgmpy/pgmpy/factors/discrete/DiscreteFactor.py:796: RuntimeWarning:\n",
      "\n",
      "invalid value encountered in divide\n",
      "\n"
     ]
    },
    {
     "name": "stdout",
     "output_type": "stream",
     "text": [
      "Max FEV1 in the first 4 days, skipping ID 241\n",
      "Max FEV1 in the first 4 days, skipping ID 248\n"
     ]
    },
    {
     "name": "stderr",
     "output_type": "stream",
     "text": [
      "/Users/tristan.trebaol/Desktop/PhD/Code/pgmpy/pgmpy/factors/discrete/DiscreteFactor.py:796: RuntimeWarning:\n",
      "\n",
      "invalid value encountered in divide\n",
      "\n",
      "/Users/tristan.trebaol/Desktop/PhD/Code/pgmpy/pgmpy/factors/discrete/DiscreteFactor.py:796: RuntimeWarning:\n",
      "\n",
      "invalid value encountered in divide\n",
      "\n",
      "/Users/tristan.trebaol/Desktop/PhD/Code/pgmpy/pgmpy/factors/discrete/DiscreteFactor.py:796: RuntimeWarning:\n",
      "\n",
      "invalid value encountered in divide\n",
      "\n",
      "/Users/tristan.trebaol/Desktop/PhD/Code/pgmpy/pgmpy/factors/discrete/DiscreteFactor.py:796: RuntimeWarning:\n",
      "\n",
      "invalid value encountered in divide\n",
      "\n",
      "/Users/tristan.trebaol/Desktop/PhD/Code/pgmpy/pgmpy/factors/discrete/DiscreteFactor.py:796: RuntimeWarning:\n",
      "\n",
      "invalid value encountered in divide\n",
      "\n",
      "/Users/tristan.trebaol/Desktop/PhD/Code/pgmpy/pgmpy/factors/discrete/DiscreteFactor.py:796: RuntimeWarning:\n",
      "\n",
      "invalid value encountered in divide\n",
      "\n",
      "/Users/tristan.trebaol/Desktop/PhD/Code/pgmpy/pgmpy/factors/discrete/DiscreteFactor.py:796: RuntimeWarning:\n",
      "\n",
      "invalid value encountered in divide\n",
      "\n",
      "/Users/tristan.trebaol/Desktop/PhD/Code/pgmpy/pgmpy/factors/discrete/DiscreteFactor.py:796: RuntimeWarning:\n",
      "\n",
      "invalid value encountered in divide\n",
      "\n",
      "/Users/tristan.trebaol/Desktop/PhD/Code/pgmpy/pgmpy/factors/discrete/DiscreteFactor.py:796: RuntimeWarning:\n",
      "\n",
      "invalid value encountered in divide\n",
      "\n",
      "/Users/tristan.trebaol/Desktop/PhD/Code/pgmpy/pgmpy/factors/discrete/DiscreteFactor.py:796: RuntimeWarning:\n",
      "\n",
      "invalid value encountered in divide\n",
      "\n",
      "/Users/tristan.trebaol/Desktop/PhD/Code/pgmpy/pgmpy/factors/discrete/DiscreteFactor.py:796: RuntimeWarning:\n",
      "\n",
      "invalid value encountered in divide\n",
      "\n",
      "/Users/tristan.trebaol/Desktop/PhD/Code/pgmpy/pgmpy/factors/discrete/DiscreteFactor.py:796: RuntimeWarning:\n",
      "\n",
      "invalid value encountered in divide\n",
      "\n",
      "/Users/tristan.trebaol/Desktop/PhD/Code/pgmpy/pgmpy/factors/discrete/DiscreteFactor.py:796: RuntimeWarning:\n",
      "\n",
      "invalid value encountered in divide\n",
      "\n",
      "/Users/tristan.trebaol/Desktop/PhD/Code/pgmpy/pgmpy/factors/discrete/DiscreteFactor.py:796: RuntimeWarning:\n",
      "\n",
      "invalid value encountered in divide\n",
      "\n",
      "/Users/tristan.trebaol/Desktop/PhD/Code/pgmpy/pgmpy/factors/discrete/DiscreteFactor.py:796: RuntimeWarning:\n",
      "\n",
      "invalid value encountered in divide\n",
      "\n",
      "/Users/tristan.trebaol/Desktop/PhD/Code/pgmpy/pgmpy/factors/discrete/DiscreteFactor.py:796: RuntimeWarning:\n",
      "\n",
      "invalid value encountered in divide\n",
      "\n",
      "/Users/tristan.trebaol/Desktop/PhD/Code/pgmpy/pgmpy/factors/discrete/DiscreteFactor.py:796: RuntimeWarning:\n",
      "\n",
      "invalid value encountered in divide\n",
      "\n",
      "/Users/tristan.trebaol/Desktop/PhD/Code/pgmpy/pgmpy/factors/discrete/DiscreteFactor.py:796: RuntimeWarning:\n",
      "\n",
      "invalid value encountered in divide\n",
      "\n",
      "/Users/tristan.trebaol/Desktop/PhD/Code/pgmpy/pgmpy/factors/discrete/DiscreteFactor.py:796: RuntimeWarning:\n",
      "\n",
      "invalid value encountered in divide\n",
      "\n"
     ]
    },
    {
     "name": "stdout",
     "output_type": "stream",
     "text": [
      "Too few data, skipping ID 260\n",
      "Too few data, skipping ID 267\n"
     ]
    },
    {
     "name": "stderr",
     "output_type": "stream",
     "text": [
      "/Users/tristan.trebaol/Desktop/PhD/Code/pgmpy/pgmpy/factors/discrete/DiscreteFactor.py:796: RuntimeWarning:\n",
      "\n",
      "invalid value encountered in divide\n",
      "\n",
      "/Users/tristan.trebaol/Desktop/PhD/Code/pgmpy/pgmpy/factors/discrete/DiscreteFactor.py:796: RuntimeWarning:\n",
      "\n",
      "invalid value encountered in divide\n",
      "\n",
      "/Users/tristan.trebaol/Desktop/PhD/Code/pgmpy/pgmpy/factors/discrete/DiscreteFactor.py:796: RuntimeWarning:\n",
      "\n",
      "invalid value encountered in divide\n",
      "\n",
      "/Users/tristan.trebaol/Desktop/PhD/Code/pgmpy/pgmpy/factors/discrete/DiscreteFactor.py:796: RuntimeWarning:\n",
      "\n",
      "invalid value encountered in divide\n",
      "\n",
      "/Users/tristan.trebaol/Desktop/PhD/Code/pgmpy/pgmpy/factors/discrete/DiscreteFactor.py:796: RuntimeWarning:\n",
      "\n",
      "invalid value encountered in divide\n",
      "\n",
      "/Users/tristan.trebaol/Desktop/PhD/Code/pgmpy/pgmpy/factors/discrete/DiscreteFactor.py:796: RuntimeWarning:\n",
      "\n",
      "invalid value encountered in divide\n",
      "\n",
      "/Users/tristan.trebaol/Desktop/PhD/Code/pgmpy/pgmpy/factors/discrete/DiscreteFactor.py:796: RuntimeWarning:\n",
      "\n",
      "invalid value encountered in divide\n",
      "\n",
      "/Users/tristan.trebaol/Desktop/PhD/Code/pgmpy/pgmpy/factors/discrete/DiscreteFactor.py:796: RuntimeWarning:\n",
      "\n",
      "invalid value encountered in divide\n",
      "\n",
      "/Users/tristan.trebaol/Desktop/PhD/Code/pgmpy/pgmpy/factors/discrete/DiscreteFactor.py:796: RuntimeWarning:\n",
      "\n",
      "invalid value encountered in divide\n",
      "\n",
      "/Users/tristan.trebaol/Desktop/PhD/Code/pgmpy/pgmpy/factors/discrete/DiscreteFactor.py:796: RuntimeWarning:\n",
      "\n",
      "invalid value encountered in divide\n",
      "\n",
      "/Users/tristan.trebaol/Desktop/PhD/Code/pgmpy/pgmpy/factors/discrete/DiscreteFactor.py:796: RuntimeWarning:\n",
      "\n",
      "invalid value encountered in divide\n",
      "\n",
      "/Users/tristan.trebaol/Desktop/PhD/Code/pgmpy/pgmpy/factors/discrete/DiscreteFactor.py:796: RuntimeWarning:\n",
      "\n",
      "invalid value encountered in divide\n",
      "\n",
      "/Users/tristan.trebaol/Desktop/PhD/Code/pgmpy/pgmpy/factors/discrete/DiscreteFactor.py:796: RuntimeWarning:\n",
      "\n",
      "invalid value encountered in divide\n",
      "\n",
      "/Users/tristan.trebaol/Desktop/PhD/Code/pgmpy/pgmpy/factors/discrete/DiscreteFactor.py:796: RuntimeWarning:\n",
      "\n",
      "invalid value encountered in divide\n",
      "\n",
      "/Users/tristan.trebaol/Desktop/PhD/Code/pgmpy/pgmpy/factors/discrete/DiscreteFactor.py:796: RuntimeWarning:\n",
      "\n",
      "invalid value encountered in divide\n",
      "\n",
      "/Users/tristan.trebaol/Desktop/PhD/Code/pgmpy/pgmpy/factors/discrete/DiscreteFactor.py:796: RuntimeWarning:\n",
      "\n",
      "invalid value encountered in divide\n",
      "\n",
      "/Users/tristan.trebaol/Desktop/PhD/Code/pgmpy/pgmpy/factors/discrete/DiscreteFactor.py:796: RuntimeWarning:\n",
      "\n",
      "invalid value encountered in divide\n",
      "\n",
      "/Users/tristan.trebaol/Desktop/PhD/Code/pgmpy/pgmpy/factors/discrete/DiscreteFactor.py:796: RuntimeWarning:\n",
      "\n",
      "invalid value encountered in divide\n",
      "\n",
      "/Users/tristan.trebaol/Desktop/PhD/Code/pgmpy/pgmpy/factors/discrete/DiscreteFactor.py:796: RuntimeWarning:\n",
      "\n",
      "invalid value encountered in divide\n",
      "\n"
     ]
    },
    {
     "name": "stdout",
     "output_type": "stream",
     "text": [
      "Max FEV1 in the first 4 days, skipping ID 285\n",
      "Too few data, skipping ID 288\n"
     ]
    },
    {
     "name": "stderr",
     "output_type": "stream",
     "text": [
      "/Users/tristan.trebaol/Desktop/PhD/Code/pgmpy/pgmpy/factors/discrete/DiscreteFactor.py:796: RuntimeWarning:\n",
      "\n",
      "invalid value encountered in divide\n",
      "\n",
      "/Users/tristan.trebaol/Desktop/PhD/Code/pgmpy/pgmpy/factors/discrete/DiscreteFactor.py:796: RuntimeWarning:\n",
      "\n",
      "invalid value encountered in divide\n",
      "\n",
      "/Users/tristan.trebaol/Desktop/PhD/Code/pgmpy/pgmpy/factors/discrete/DiscreteFactor.py:796: RuntimeWarning:\n",
      "\n",
      "invalid value encountered in divide\n",
      "\n",
      "/Users/tristan.trebaol/Desktop/PhD/Code/pgmpy/pgmpy/factors/discrete/DiscreteFactor.py:796: RuntimeWarning:\n",
      "\n",
      "invalid value encountered in divide\n",
      "\n",
      "/Users/tristan.trebaol/Desktop/PhD/Code/pgmpy/pgmpy/factors/discrete/DiscreteFactor.py:796: RuntimeWarning:\n",
      "\n",
      "invalid value encountered in divide\n",
      "\n",
      "/Users/tristan.trebaol/Desktop/PhD/Code/pgmpy/pgmpy/factors/discrete/DiscreteFactor.py:796: RuntimeWarning:\n",
      "\n",
      "invalid value encountered in divide\n",
      "\n",
      "/Users/tristan.trebaol/Desktop/PhD/Code/pgmpy/pgmpy/factors/discrete/DiscreteFactor.py:796: RuntimeWarning:\n",
      "\n",
      "invalid value encountered in divide\n",
      "\n",
      "/Users/tristan.trebaol/Desktop/PhD/Code/pgmpy/pgmpy/factors/discrete/DiscreteFactor.py:796: RuntimeWarning:\n",
      "\n",
      "invalid value encountered in divide\n",
      "\n",
      "/Users/tristan.trebaol/Desktop/PhD/Code/pgmpy/pgmpy/factors/discrete/DiscreteFactor.py:796: RuntimeWarning:\n",
      "\n",
      "invalid value encountered in divide\n",
      "\n",
      "/Users/tristan.trebaol/Desktop/PhD/Code/pgmpy/pgmpy/factors/discrete/DiscreteFactor.py:796: RuntimeWarning:\n",
      "\n",
      "invalid value encountered in divide\n",
      "\n",
      "/Users/tristan.trebaol/Desktop/PhD/Code/pgmpy/pgmpy/factors/discrete/DiscreteFactor.py:796: RuntimeWarning:\n",
      "\n",
      "invalid value encountered in divide\n",
      "\n",
      "/Users/tristan.trebaol/Desktop/PhD/Code/pgmpy/pgmpy/factors/discrete/DiscreteFactor.py:796: RuntimeWarning:\n",
      "\n",
      "invalid value encountered in divide\n",
      "\n",
      "/Users/tristan.trebaol/Desktop/PhD/Code/pgmpy/pgmpy/factors/discrete/DiscreteFactor.py:796: RuntimeWarning:\n",
      "\n",
      "invalid value encountered in divide\n",
      "\n",
      "/Users/tristan.trebaol/Desktop/PhD/Code/pgmpy/pgmpy/factors/discrete/DiscreteFactor.py:796: RuntimeWarning:\n",
      "\n",
      "invalid value encountered in divide\n",
      "\n",
      "/Users/tristan.trebaol/Desktop/PhD/Code/pgmpy/pgmpy/factors/discrete/DiscreteFactor.py:796: RuntimeWarning:\n",
      "\n",
      "invalid value encountered in divide\n",
      "\n",
      "/Users/tristan.trebaol/Desktop/PhD/Code/pgmpy/pgmpy/factors/discrete/DiscreteFactor.py:796: RuntimeWarning:\n",
      "\n",
      "invalid value encountered in divide\n",
      "\n",
      "/Users/tristan.trebaol/Desktop/PhD/Code/pgmpy/pgmpy/factors/discrete/DiscreteFactor.py:796: RuntimeWarning:\n",
      "\n",
      "invalid value encountered in divide\n",
      "\n",
      "/Users/tristan.trebaol/Desktop/PhD/Code/pgmpy/pgmpy/factors/discrete/DiscreteFactor.py:796: RuntimeWarning:\n",
      "\n",
      "invalid value encountered in divide\n",
      "\n"
     ]
    },
    {
     "name": "stdout",
     "output_type": "stream",
     "text": [
      "Too few data, skipping ID 305\n",
      "Too few data, skipping ID 308\n",
      "Max FEV1 in the first 4 days, skipping ID 313\n",
      "Too few data, skipping ID 316\n"
     ]
    },
    {
     "name": "stderr",
     "output_type": "stream",
     "text": [
      "/Users/tristan.trebaol/Desktop/PhD/Code/pgmpy/pgmpy/factors/discrete/DiscreteFactor.py:796: RuntimeWarning:\n",
      "\n",
      "invalid value encountered in divide\n",
      "\n",
      "/Users/tristan.trebaol/Desktop/PhD/Code/pgmpy/pgmpy/factors/discrete/DiscreteFactor.py:796: RuntimeWarning:\n",
      "\n",
      "invalid value encountered in divide\n",
      "\n",
      "/Users/tristan.trebaol/Desktop/PhD/Code/pgmpy/pgmpy/factors/discrete/DiscreteFactor.py:796: RuntimeWarning:\n",
      "\n",
      "invalid value encountered in divide\n",
      "\n",
      "/Users/tristan.trebaol/Desktop/PhD/Code/pgmpy/pgmpy/factors/discrete/DiscreteFactor.py:796: RuntimeWarning:\n",
      "\n",
      "invalid value encountered in divide\n",
      "\n",
      "/Users/tristan.trebaol/Desktop/PhD/Code/pgmpy/pgmpy/factors/discrete/DiscreteFactor.py:796: RuntimeWarning:\n",
      "\n",
      "invalid value encountered in divide\n",
      "\n",
      "/Users/tristan.trebaol/Desktop/PhD/Code/pgmpy/pgmpy/factors/discrete/DiscreteFactor.py:796: RuntimeWarning:\n",
      "\n",
      "invalid value encountered in divide\n",
      "\n",
      "/Users/tristan.trebaol/Desktop/PhD/Code/pgmpy/pgmpy/factors/discrete/DiscreteFactor.py:796: RuntimeWarning:\n",
      "\n",
      "invalid value encountered in divide\n",
      "\n",
      "/Users/tristan.trebaol/Desktop/PhD/Code/pgmpy/pgmpy/factors/discrete/DiscreteFactor.py:796: RuntimeWarning:\n",
      "\n",
      "invalid value encountered in divide\n",
      "\n"
     ]
    },
    {
     "name": "stdout",
     "output_type": "stream",
     "text": [
      "Max FEV1 in the first 4 days, skipping ID 318\n",
      "Too few data, skipping ID 320\n",
      "Too few data, skipping ID 321\n",
      "Max FEV1 in the first 4 days, skipping ID 327\n",
      "Too few data, skipping ID 333\n",
      "Too few data, skipping ID 337\n",
      "Too few data, skipping ID 338\n",
      "Too few data, skipping ID 340\n"
     ]
    },
    {
     "name": "stderr",
     "output_type": "stream",
     "text": [
      "/Users/tristan.trebaol/Desktop/PhD/Code/pgmpy/pgmpy/factors/discrete/DiscreteFactor.py:796: RuntimeWarning:\n",
      "\n",
      "invalid value encountered in divide\n",
      "\n",
      "/Users/tristan.trebaol/Desktop/PhD/Code/pgmpy/pgmpy/factors/discrete/DiscreteFactor.py:796: RuntimeWarning:\n",
      "\n",
      "invalid value encountered in divide\n",
      "\n",
      "/Users/tristan.trebaol/Desktop/PhD/Code/pgmpy/pgmpy/factors/discrete/DiscreteFactor.py:796: RuntimeWarning:\n",
      "\n",
      "invalid value encountered in divide\n",
      "\n",
      "/Users/tristan.trebaol/Desktop/PhD/Code/pgmpy/pgmpy/factors/discrete/DiscreteFactor.py:796: RuntimeWarning:\n",
      "\n",
      "invalid value encountered in divide\n",
      "\n",
      "/Users/tristan.trebaol/Desktop/PhD/Code/pgmpy/pgmpy/factors/discrete/DiscreteFactor.py:796: RuntimeWarning:\n",
      "\n",
      "invalid value encountered in divide\n",
      "\n",
      "/Users/tristan.trebaol/Desktop/PhD/Code/pgmpy/pgmpy/factors/discrete/DiscreteFactor.py:796: RuntimeWarning:\n",
      "\n",
      "invalid value encountered in divide\n",
      "\n",
      "/Users/tristan.trebaol/Desktop/PhD/Code/pgmpy/pgmpy/factors/discrete/DiscreteFactor.py:796: RuntimeWarning:\n",
      "\n",
      "invalid value encountered in divide\n",
      "\n",
      "/Users/tristan.trebaol/Desktop/PhD/Code/pgmpy/pgmpy/factors/discrete/DiscreteFactor.py:796: RuntimeWarning:\n",
      "\n",
      "invalid value encountered in divide\n",
      "\n"
     ]
    },
    {
     "name": "stdout",
     "output_type": "stream",
     "text": [
      "Max FEV1 in the first 4 days, skipping ID 345\n",
      "Too few data, skipping ID 354\n",
      "Too few data, skipping ID 355\n",
      "Max FEV1 in the first 4 days, skipping ID 357\n",
      "Max FEV1 in the first 4 days, skipping ID 358\n",
      "Max FEV1 in the first 4 days, skipping ID 359\n",
      "Max FEV1 in the first 4 days, skipping ID 361\n",
      "Too few data, skipping ID 367\n",
      "Max FEV1 in the first 4 days, skipping ID 370\n"
     ]
    },
    {
     "name": "stderr",
     "output_type": "stream",
     "text": [
      "/Users/tristan.trebaol/Desktop/PhD/Code/pgmpy/pgmpy/factors/discrete/DiscreteFactor.py:796: RuntimeWarning:\n",
      "\n",
      "invalid value encountered in divide\n",
      "\n",
      "/Users/tristan.trebaol/Desktop/PhD/Code/pgmpy/pgmpy/factors/discrete/DiscreteFactor.py:796: RuntimeWarning:\n",
      "\n",
      "invalid value encountered in divide\n",
      "\n",
      "/Users/tristan.trebaol/Desktop/PhD/Code/pgmpy/pgmpy/factors/discrete/DiscreteFactor.py:796: RuntimeWarning:\n",
      "\n",
      "invalid value encountered in divide\n",
      "\n",
      "/Users/tristan.trebaol/Desktop/PhD/Code/pgmpy/pgmpy/factors/discrete/DiscreteFactor.py:796: RuntimeWarning:\n",
      "\n",
      "invalid value encountered in divide\n",
      "\n",
      "/Users/tristan.trebaol/Desktop/PhD/Code/pgmpy/pgmpy/factors/discrete/DiscreteFactor.py:796: RuntimeWarning:\n",
      "\n",
      "invalid value encountered in divide\n",
      "\n",
      "/Users/tristan.trebaol/Desktop/PhD/Code/pgmpy/pgmpy/factors/discrete/DiscreteFactor.py:796: RuntimeWarning:\n",
      "\n",
      "invalid value encountered in divide\n",
      "\n",
      "/Users/tristan.trebaol/Desktop/PhD/Code/pgmpy/pgmpy/factors/discrete/DiscreteFactor.py:796: RuntimeWarning:\n",
      "\n",
      "invalid value encountered in divide\n",
      "\n",
      "/Users/tristan.trebaol/Desktop/PhD/Code/pgmpy/pgmpy/factors/discrete/DiscreteFactor.py:796: RuntimeWarning:\n",
      "\n",
      "invalid value encountered in divide\n",
      "\n"
     ]
    },
    {
     "name": "stdout",
     "output_type": "stream",
     "text": [
      "Too few data, skipping ID 376\n",
      "Too few data, skipping ID 382\n",
      "Too few data, skipping ID 385\n",
      "Too few data, skipping ID 386\n",
      "Too few data, skipping ID 392\n",
      "Too few data, skipping ID 396\n"
     ]
    },
    {
     "name": "stderr",
     "output_type": "stream",
     "text": [
      "/Users/tristan.trebaol/Desktop/PhD/Code/pgmpy/pgmpy/factors/discrete/DiscreteFactor.py:796: RuntimeWarning:\n",
      "\n",
      "invalid value encountered in divide\n",
      "\n",
      "/Users/tristan.trebaol/Desktop/PhD/Code/pgmpy/pgmpy/factors/discrete/DiscreteFactor.py:796: RuntimeWarning:\n",
      "\n",
      "invalid value encountered in divide\n",
      "\n",
      "/Users/tristan.trebaol/Desktop/PhD/Code/pgmpy/pgmpy/factors/discrete/DiscreteFactor.py:796: RuntimeWarning:\n",
      "\n",
      "invalid value encountered in divide\n",
      "\n",
      "/Users/tristan.trebaol/Desktop/PhD/Code/pgmpy/pgmpy/factors/discrete/DiscreteFactor.py:796: RuntimeWarning:\n",
      "\n",
      "invalid value encountered in divide\n",
      "\n",
      "/Users/tristan.trebaol/Desktop/PhD/Code/pgmpy/pgmpy/factors/discrete/DiscreteFactor.py:796: RuntimeWarning:\n",
      "\n",
      "invalid value encountered in divide\n",
      "\n",
      "/Users/tristan.trebaol/Desktop/PhD/Code/pgmpy/pgmpy/factors/discrete/DiscreteFactor.py:796: RuntimeWarning:\n",
      "\n",
      "invalid value encountered in divide\n",
      "\n",
      "/Users/tristan.trebaol/Desktop/PhD/Code/pgmpy/pgmpy/factors/discrete/DiscreteFactor.py:796: RuntimeWarning:\n",
      "\n",
      "invalid value encountered in divide\n",
      "\n",
      "/Users/tristan.trebaol/Desktop/PhD/Code/pgmpy/pgmpy/factors/discrete/DiscreteFactor.py:796: RuntimeWarning:\n",
      "\n",
      "invalid value encountered in divide\n",
      "\n",
      "/Users/tristan.trebaol/Desktop/PhD/Code/pgmpy/pgmpy/factors/discrete/DiscreteFactor.py:796: RuntimeWarning:\n",
      "\n",
      "invalid value encountered in divide\n",
      "\n"
     ]
    },
    {
     "name": "stdout",
     "output_type": "stream",
     "text": [
      "Too few data, skipping ID 402\n",
      "Max FEV1 in the first 4 days, skipping ID 411\n"
     ]
    },
    {
     "name": "stderr",
     "output_type": "stream",
     "text": [
      "/Users/tristan.trebaol/Desktop/PhD/Code/pgmpy/pgmpy/factors/discrete/DiscreteFactor.py:796: RuntimeWarning:\n",
      "\n",
      "invalid value encountered in divide\n",
      "\n",
      "/Users/tristan.trebaol/Desktop/PhD/Code/pgmpy/pgmpy/factors/discrete/DiscreteFactor.py:796: RuntimeWarning:\n",
      "\n",
      "invalid value encountered in divide\n",
      "\n",
      "/Users/tristan.trebaol/Desktop/PhD/Code/pgmpy/pgmpy/factors/discrete/DiscreteFactor.py:796: RuntimeWarning:\n",
      "\n",
      "invalid value encountered in divide\n",
      "\n",
      "/Users/tristan.trebaol/Desktop/PhD/Code/pgmpy/pgmpy/factors/discrete/DiscreteFactor.py:796: RuntimeWarning:\n",
      "\n",
      "invalid value encountered in divide\n",
      "\n",
      "/Users/tristan.trebaol/Desktop/PhD/Code/pgmpy/pgmpy/factors/discrete/DiscreteFactor.py:796: RuntimeWarning:\n",
      "\n",
      "invalid value encountered in divide\n",
      "\n",
      "/Users/tristan.trebaol/Desktop/PhD/Code/pgmpy/pgmpy/factors/discrete/DiscreteFactor.py:796: RuntimeWarning:\n",
      "\n",
      "invalid value encountered in divide\n",
      "\n",
      "/Users/tristan.trebaol/Desktop/PhD/Code/pgmpy/pgmpy/factors/discrete/DiscreteFactor.py:796: RuntimeWarning:\n",
      "\n",
      "invalid value encountered in divide\n",
      "\n",
      "/Users/tristan.trebaol/Desktop/PhD/Code/pgmpy/pgmpy/factors/discrete/DiscreteFactor.py:796: RuntimeWarning:\n",
      "\n",
      "invalid value encountered in divide\n",
      "\n"
     ]
    },
    {
     "name": "stdout",
     "output_type": "stream",
     "text": [
      "Max FEV1 in the first 4 days, skipping ID 414\n",
      "Max FEV1 in the first 4 days, skipping ID 419\n"
     ]
    },
    {
     "name": "stderr",
     "output_type": "stream",
     "text": [
      "/Users/tristan.trebaol/Desktop/PhD/Code/pgmpy/pgmpy/factors/discrete/DiscreteFactor.py:796: RuntimeWarning:\n",
      "\n",
      "invalid value encountered in divide\n",
      "\n",
      "/Users/tristan.trebaol/Desktop/PhD/Code/pgmpy/pgmpy/factors/discrete/DiscreteFactor.py:796: RuntimeWarning:\n",
      "\n",
      "invalid value encountered in divide\n",
      "\n",
      "/Users/tristan.trebaol/Desktop/PhD/Code/pgmpy/pgmpy/factors/discrete/DiscreteFactor.py:796: RuntimeWarning:\n",
      "\n",
      "invalid value encountered in divide\n",
      "\n",
      "/Users/tristan.trebaol/Desktop/PhD/Code/pgmpy/pgmpy/factors/discrete/DiscreteFactor.py:796: RuntimeWarning:\n",
      "\n",
      "invalid value encountered in divide\n",
      "\n",
      "/Users/tristan.trebaol/Desktop/PhD/Code/pgmpy/pgmpy/factors/discrete/DiscreteFactor.py:796: RuntimeWarning:\n",
      "\n",
      "invalid value encountered in divide\n",
      "\n",
      "/Users/tristan.trebaol/Desktop/PhD/Code/pgmpy/pgmpy/factors/discrete/DiscreteFactor.py:796: RuntimeWarning:\n",
      "\n",
      "invalid value encountered in divide\n",
      "\n",
      "/Users/tristan.trebaol/Desktop/PhD/Code/pgmpy/pgmpy/factors/discrete/DiscreteFactor.py:796: RuntimeWarning:\n",
      "\n",
      "invalid value encountered in divide\n",
      "\n",
      "/Users/tristan.trebaol/Desktop/PhD/Code/pgmpy/pgmpy/factors/discrete/DiscreteFactor.py:796: RuntimeWarning:\n",
      "\n",
      "invalid value encountered in divide\n",
      "\n",
      "/Users/tristan.trebaol/Desktop/PhD/Code/pgmpy/pgmpy/factors/discrete/DiscreteFactor.py:796: RuntimeWarning:\n",
      "\n",
      "invalid value encountered in divide\n",
      "\n"
     ]
    },
    {
     "name": "stdout",
     "output_type": "stream",
     "text": [
      "Too few data, skipping ID 428\n",
      "Too few data, skipping ID 429\n",
      "Max FEV1 in the first 4 days, skipping ID 440\n",
      "Max FEV1 in the first 4 days, skipping ID 441\n",
      "Max FEV1 in the first 4 days, skipping ID 443\n",
      "Max FEV1 in the first 4 days, skipping ID 444\n",
      "Max FEV1 in the first 4 days, skipping ID 448\n",
      "Too few data, skipping ID 451\n"
     ]
    },
    {
     "name": "stderr",
     "output_type": "stream",
     "text": [
      "/Users/tristan.trebaol/Desktop/PhD/Code/pgmpy/pgmpy/factors/discrete/DiscreteFactor.py:796: RuntimeWarning:\n",
      "\n",
      "invalid value encountered in divide\n",
      "\n",
      "/Users/tristan.trebaol/Desktop/PhD/Code/pgmpy/pgmpy/factors/discrete/DiscreteFactor.py:796: RuntimeWarning:\n",
      "\n",
      "invalid value encountered in divide\n",
      "\n",
      "/Users/tristan.trebaol/Desktop/PhD/Code/pgmpy/pgmpy/factors/discrete/DiscreteFactor.py:796: RuntimeWarning:\n",
      "\n",
      "invalid value encountered in divide\n",
      "\n",
      "/Users/tristan.trebaol/Desktop/PhD/Code/pgmpy/pgmpy/factors/discrete/DiscreteFactor.py:796: RuntimeWarning:\n",
      "\n",
      "invalid value encountered in divide\n",
      "\n",
      "/Users/tristan.trebaol/Desktop/PhD/Code/pgmpy/pgmpy/factors/discrete/DiscreteFactor.py:796: RuntimeWarning:\n",
      "\n",
      "invalid value encountered in divide\n",
      "\n",
      "/Users/tristan.trebaol/Desktop/PhD/Code/pgmpy/pgmpy/factors/discrete/DiscreteFactor.py:796: RuntimeWarning:\n",
      "\n",
      "invalid value encountered in divide\n",
      "\n",
      "/Users/tristan.trebaol/Desktop/PhD/Code/pgmpy/pgmpy/factors/discrete/DiscreteFactor.py:796: RuntimeWarning:\n",
      "\n",
      "invalid value encountered in divide\n",
      "\n"
     ]
    },
    {
     "name": "stdout",
     "output_type": "stream",
     "text": [
      "Max FEV1 in the first 4 days, skipping ID 452\n",
      "Too few data, skipping ID 454\n",
      "Max FEV1 in the first 4 days, skipping ID 461\n",
      "Max FEV1 in the first 4 days, skipping ID 467\n"
     ]
    },
    {
     "name": "stderr",
     "output_type": "stream",
     "text": [
      "/Users/tristan.trebaol/Desktop/PhD/Code/pgmpy/pgmpy/factors/discrete/DiscreteFactor.py:796: RuntimeWarning:\n",
      "\n",
      "invalid value encountered in divide\n",
      "\n",
      "/Users/tristan.trebaol/Desktop/PhD/Code/pgmpy/pgmpy/factors/discrete/DiscreteFactor.py:796: RuntimeWarning:\n",
      "\n",
      "invalid value encountered in divide\n",
      "\n",
      "/Users/tristan.trebaol/Desktop/PhD/Code/pgmpy/pgmpy/factors/discrete/DiscreteFactor.py:796: RuntimeWarning:\n",
      "\n",
      "invalid value encountered in divide\n",
      "\n",
      "/Users/tristan.trebaol/Desktop/PhD/Code/pgmpy/pgmpy/factors/discrete/DiscreteFactor.py:796: RuntimeWarning:\n",
      "\n",
      "invalid value encountered in divide\n",
      "\n",
      "/Users/tristan.trebaol/Desktop/PhD/Code/pgmpy/pgmpy/factors/discrete/DiscreteFactor.py:796: RuntimeWarning:\n",
      "\n",
      "invalid value encountered in divide\n",
      "\n",
      "/Users/tristan.trebaol/Desktop/PhD/Code/pgmpy/pgmpy/factors/discrete/DiscreteFactor.py:796: RuntimeWarning:\n",
      "\n",
      "invalid value encountered in divide\n",
      "\n",
      "/Users/tristan.trebaol/Desktop/PhD/Code/pgmpy/pgmpy/factors/discrete/DiscreteFactor.py:796: RuntimeWarning:\n",
      "\n",
      "invalid value encountered in divide\n",
      "\n",
      "/Users/tristan.trebaol/Desktop/PhD/Code/pgmpy/pgmpy/factors/discrete/DiscreteFactor.py:796: RuntimeWarning:\n",
      "\n",
      "invalid value encountered in divide\n",
      "\n",
      "/Users/tristan.trebaol/Desktop/PhD/Code/pgmpy/pgmpy/factors/discrete/DiscreteFactor.py:796: RuntimeWarning:\n",
      "\n",
      "invalid value encountered in divide\n",
      "\n"
     ]
    },
    {
     "name": "stdout",
     "output_type": "stream",
     "text": [
      "Too few data, skipping ID 487\n",
      "Too few data, skipping ID 489\n",
      "Max FEV1 in the first 4 days, skipping ID 497\n",
      "Too few data, skipping ID 498\n",
      "Max FEV1 in the first 4 days, skipping ID 499\n"
     ]
    },
    {
     "name": "stderr",
     "output_type": "stream",
     "text": [
      "/Users/tristan.trebaol/Desktop/PhD/Code/pgmpy/pgmpy/factors/discrete/DiscreteFactor.py:796: RuntimeWarning:\n",
      "\n",
      "invalid value encountered in divide\n",
      "\n",
      "/Users/tristan.trebaol/Desktop/PhD/Code/pgmpy/pgmpy/factors/discrete/DiscreteFactor.py:796: RuntimeWarning:\n",
      "\n",
      "invalid value encountered in divide\n",
      "\n",
      "/Users/tristan.trebaol/Desktop/PhD/Code/pgmpy/pgmpy/factors/discrete/DiscreteFactor.py:796: RuntimeWarning:\n",
      "\n",
      "invalid value encountered in divide\n",
      "\n",
      "/Users/tristan.trebaol/Desktop/PhD/Code/pgmpy/pgmpy/factors/discrete/DiscreteFactor.py:796: RuntimeWarning:\n",
      "\n",
      "invalid value encountered in divide\n",
      "\n",
      "/Users/tristan.trebaol/Desktop/PhD/Code/pgmpy/pgmpy/factors/discrete/DiscreteFactor.py:796: RuntimeWarning:\n",
      "\n",
      "invalid value encountered in divide\n",
      "\n",
      "/Users/tristan.trebaol/Desktop/PhD/Code/pgmpy/pgmpy/factors/discrete/DiscreteFactor.py:796: RuntimeWarning:\n",
      "\n",
      "invalid value encountered in divide\n",
      "\n",
      "/Users/tristan.trebaol/Desktop/PhD/Code/pgmpy/pgmpy/factors/discrete/DiscreteFactor.py:796: RuntimeWarning:\n",
      "\n",
      "invalid value encountered in divide\n",
      "\n",
      "/Users/tristan.trebaol/Desktop/PhD/Code/pgmpy/pgmpy/factors/discrete/DiscreteFactor.py:796: RuntimeWarning:\n",
      "\n",
      "invalid value encountered in divide\n",
      "\n",
      "/Users/tristan.trebaol/Desktop/PhD/Code/pgmpy/pgmpy/factors/discrete/DiscreteFactor.py:796: RuntimeWarning:\n",
      "\n",
      "invalid value encountered in divide\n",
      "\n",
      "/Users/tristan.trebaol/Desktop/PhD/Code/pgmpy/pgmpy/factors/discrete/DiscreteFactor.py:796: RuntimeWarning:\n",
      "\n",
      "invalid value encountered in divide\n",
      "\n",
      "/Users/tristan.trebaol/Desktop/PhD/Code/pgmpy/pgmpy/factors/discrete/DiscreteFactor.py:796: RuntimeWarning:\n",
      "\n",
      "invalid value encountered in divide\n",
      "\n",
      "/Users/tristan.trebaol/Desktop/PhD/Code/pgmpy/pgmpy/factors/discrete/DiscreteFactor.py:796: RuntimeWarning:\n",
      "\n",
      "invalid value encountered in divide\n",
      "\n",
      "/Users/tristan.trebaol/Desktop/PhD/Code/pgmpy/pgmpy/factors/discrete/DiscreteFactor.py:796: RuntimeWarning:\n",
      "\n",
      "invalid value encountered in divide\n",
      "\n",
      "/Users/tristan.trebaol/Desktop/PhD/Code/pgmpy/pgmpy/factors/discrete/DiscreteFactor.py:796: RuntimeWarning:\n",
      "\n",
      "invalid value encountered in divide\n",
      "\n",
      "/Users/tristan.trebaol/Desktop/PhD/Code/pgmpy/pgmpy/factors/discrete/DiscreteFactor.py:796: RuntimeWarning:\n",
      "\n",
      "invalid value encountered in divide\n",
      "\n",
      "/Users/tristan.trebaol/Desktop/PhD/Code/pgmpy/pgmpy/factors/discrete/DiscreteFactor.py:796: RuntimeWarning:\n",
      "\n",
      "invalid value encountered in divide\n",
      "\n",
      "/Users/tristan.trebaol/Desktop/PhD/Code/pgmpy/pgmpy/factors/discrete/DiscreteFactor.py:796: RuntimeWarning:\n",
      "\n",
      "invalid value encountered in divide\n",
      "\n"
     ]
    },
    {
     "name": "stdout",
     "output_type": "stream",
     "text": [
      "Max FEV1 in the first 4 days, skipping ID 505\n",
      "Too few data, skipping ID 507\n",
      "Too few data, skipping ID 510\n",
      "Max FEV1 in the first 4 days, skipping ID 513\n",
      "Too few data, skipping ID 516\n",
      "Max FEV1 in the first 4 days, skipping ID 517\n",
      "Max FEV1 in the first 4 days, skipping ID 518\n",
      "Max FEV1 in the first 4 days, skipping ID 519\n"
     ]
    },
    {
     "name": "stderr",
     "output_type": "stream",
     "text": [
      "/Users/tristan.trebaol/Desktop/PhD/Code/pgmpy/pgmpy/factors/discrete/DiscreteFactor.py:796: RuntimeWarning:\n",
      "\n",
      "invalid value encountered in divide\n",
      "\n",
      "/Users/tristan.trebaol/Desktop/PhD/Code/pgmpy/pgmpy/factors/discrete/DiscreteFactor.py:796: RuntimeWarning:\n",
      "\n",
      "invalid value encountered in divide\n",
      "\n",
      "/Users/tristan.trebaol/Desktop/PhD/Code/pgmpy/pgmpy/factors/discrete/DiscreteFactor.py:796: RuntimeWarning:\n",
      "\n",
      "invalid value encountered in divide\n",
      "\n",
      "/Users/tristan.trebaol/Desktop/PhD/Code/pgmpy/pgmpy/factors/discrete/DiscreteFactor.py:796: RuntimeWarning:\n",
      "\n",
      "invalid value encountered in divide\n",
      "\n"
     ]
    },
    {
     "name": "stdout",
     "output_type": "stream",
     "text": [
      "Max FEV1 in the first 4 days, skipping ID 521\n",
      "Too few data, skipping ID 522\n",
      "Max FEV1 in the first 4 days, skipping ID 527\n"
     ]
    },
    {
     "name": "stderr",
     "output_type": "stream",
     "text": [
      "/Users/tristan.trebaol/Desktop/PhD/Code/pgmpy/pgmpy/factors/discrete/DiscreteFactor.py:796: RuntimeWarning:\n",
      "\n",
      "invalid value encountered in divide\n",
      "\n",
      "/Users/tristan.trebaol/Desktop/PhD/Code/pgmpy/pgmpy/factors/discrete/DiscreteFactor.py:796: RuntimeWarning:\n",
      "\n",
      "invalid value encountered in divide\n",
      "\n",
      "/Users/tristan.trebaol/Desktop/PhD/Code/pgmpy/pgmpy/factors/discrete/DiscreteFactor.py:796: RuntimeWarning:\n",
      "\n",
      "invalid value encountered in divide\n",
      "\n"
     ]
    },
    {
     "name": "stdout",
     "output_type": "stream",
     "text": [
      "Max FEV1 in the first 4 days, skipping ID 531\n",
      "Too few data, skipping ID 533\n",
      "Too few data, skipping ID 536\n"
     ]
    },
    {
     "name": "stderr",
     "output_type": "stream",
     "text": [
      "/Users/tristan.trebaol/Desktop/PhD/Code/pgmpy/pgmpy/factors/discrete/DiscreteFactor.py:796: RuntimeWarning:\n",
      "\n",
      "invalid value encountered in divide\n",
      "\n",
      "/Users/tristan.trebaol/Desktop/PhD/Code/pgmpy/pgmpy/factors/discrete/DiscreteFactor.py:796: RuntimeWarning:\n",
      "\n",
      "invalid value encountered in divide\n",
      "\n",
      "/Users/tristan.trebaol/Desktop/PhD/Code/pgmpy/pgmpy/factors/discrete/DiscreteFactor.py:796: RuntimeWarning:\n",
      "\n",
      "invalid value encountered in divide\n",
      "\n",
      "/Users/tristan.trebaol/Desktop/PhD/Code/pgmpy/pgmpy/factors/discrete/DiscreteFactor.py:796: RuntimeWarning:\n",
      "\n",
      "invalid value encountered in divide\n",
      "\n",
      "/Users/tristan.trebaol/Desktop/PhD/Code/pgmpy/pgmpy/factors/discrete/DiscreteFactor.py:796: RuntimeWarning:\n",
      "\n",
      "invalid value encountered in divide\n",
      "\n",
      "/Users/tristan.trebaol/Desktop/PhD/Code/pgmpy/pgmpy/factors/discrete/DiscreteFactor.py:796: RuntimeWarning:\n",
      "\n",
      "invalid value encountered in divide\n",
      "\n",
      "/Users/tristan.trebaol/Desktop/PhD/Code/pgmpy/pgmpy/factors/discrete/DiscreteFactor.py:796: RuntimeWarning:\n",
      "\n",
      "invalid value encountered in divide\n",
      "\n"
     ]
    },
    {
     "name": "stdout",
     "output_type": "stream",
     "text": [
      "Max FEV1 in the first 4 days, skipping ID 538\n",
      "Max FEV1 in the first 4 days, skipping ID 543\n",
      "Too few data, skipping ID 545\n",
      "Too few data, skipping ID 546\n",
      "Too few data, skipping ID 548\n",
      "Max FEV1 in the first 4 days, skipping ID 553\n",
      "days concse 1 days total 2\n"
     ]
    },
    {
     "name": "stderr",
     "output_type": "stream",
     "text": [
      "/Users/tristan.trebaol/Desktop/PhD/Code/pgmpy/pgmpy/factors/discrete/DiscreteFactor.py:796: RuntimeWarning:\n",
      "\n",
      "invalid value encountered in divide\n",
      "\n",
      "/Users/tristan.trebaol/Desktop/PhD/Code/pgmpy/pgmpy/factors/discrete/DiscreteFactor.py:796: RuntimeWarning:\n",
      "\n",
      "invalid value encountered in divide\n",
      "\n",
      "/Users/tristan.trebaol/Desktop/PhD/Code/pgmpy/pgmpy/factors/discrete/DiscreteFactor.py:796: RuntimeWarning:\n",
      "\n",
      "invalid value encountered in divide\n",
      "\n"
     ]
    },
    {
     "name": "stdout",
     "output_type": "stream",
     "text": [
      "Max FEV1 in the first 4 days, skipping ID 105\n"
     ]
    },
    {
     "name": "stderr",
     "output_type": "stream",
     "text": [
      "/Users/tristan.trebaol/Desktop/PhD/Code/pgmpy/pgmpy/factors/discrete/DiscreteFactor.py:796: RuntimeWarning:\n",
      "\n",
      "invalid value encountered in divide\n",
      "\n",
      "/Users/tristan.trebaol/Desktop/PhD/Code/pgmpy/pgmpy/factors/discrete/DiscreteFactor.py:796: RuntimeWarning:\n",
      "\n",
      "invalid value encountered in divide\n",
      "\n",
      "/Users/tristan.trebaol/Desktop/PhD/Code/pgmpy/pgmpy/factors/discrete/DiscreteFactor.py:796: RuntimeWarning:\n",
      "\n",
      "invalid value encountered in divide\n",
      "\n",
      "/Users/tristan.trebaol/Desktop/PhD/Code/pgmpy/pgmpy/factors/discrete/DiscreteFactor.py:796: RuntimeWarning:\n",
      "\n",
      "invalid value encountered in divide\n",
      "\n",
      "/Users/tristan.trebaol/Desktop/PhD/Code/pgmpy/pgmpy/factors/discrete/DiscreteFactor.py:796: RuntimeWarning:\n",
      "\n",
      "invalid value encountered in divide\n",
      "\n",
      "/Users/tristan.trebaol/Desktop/PhD/Code/pgmpy/pgmpy/factors/discrete/DiscreteFactor.py:796: RuntimeWarning:\n",
      "\n",
      "invalid value encountered in divide\n",
      "\n",
      "/Users/tristan.trebaol/Desktop/PhD/Code/pgmpy/pgmpy/factors/discrete/DiscreteFactor.py:796: RuntimeWarning:\n",
      "\n",
      "invalid value encountered in divide\n",
      "\n",
      "/Users/tristan.trebaol/Desktop/PhD/Code/pgmpy/pgmpy/factors/discrete/DiscreteFactor.py:796: RuntimeWarning:\n",
      "\n",
      "invalid value encountered in divide\n",
      "\n",
      "/Users/tristan.trebaol/Desktop/PhD/Code/pgmpy/pgmpy/factors/discrete/DiscreteFactor.py:796: RuntimeWarning:\n",
      "\n",
      "invalid value encountered in divide\n",
      "\n",
      "/Users/tristan.trebaol/Desktop/PhD/Code/pgmpy/pgmpy/factors/discrete/DiscreteFactor.py:796: RuntimeWarning:\n",
      "\n",
      "invalid value encountered in divide\n",
      "\n",
      "/Users/tristan.trebaol/Desktop/PhD/Code/pgmpy/pgmpy/factors/discrete/DiscreteFactor.py:796: RuntimeWarning:\n",
      "\n",
      "invalid value encountered in divide\n",
      "\n",
      "/Users/tristan.trebaol/Desktop/PhD/Code/pgmpy/pgmpy/factors/discrete/DiscreteFactor.py:796: RuntimeWarning:\n",
      "\n",
      "invalid value encountered in divide\n",
      "\n",
      "/Users/tristan.trebaol/Desktop/PhD/Code/pgmpy/pgmpy/factors/discrete/DiscreteFactor.py:796: RuntimeWarning:\n",
      "\n",
      "invalid value encountered in divide\n",
      "\n",
      "/Users/tristan.trebaol/Desktop/PhD/Code/pgmpy/pgmpy/factors/discrete/DiscreteFactor.py:796: RuntimeWarning:\n",
      "\n",
      "invalid value encountered in divide\n",
      "\n",
      "/Users/tristan.trebaol/Desktop/PhD/Code/pgmpy/pgmpy/factors/discrete/DiscreteFactor.py:796: RuntimeWarning:\n",
      "\n",
      "invalid value encountered in divide\n",
      "\n",
      "/Users/tristan.trebaol/Desktop/PhD/Code/pgmpy/pgmpy/factors/discrete/DiscreteFactor.py:796: RuntimeWarning:\n",
      "\n",
      "invalid value encountered in divide\n",
      "\n",
      "/Users/tristan.trebaol/Desktop/PhD/Code/pgmpy/pgmpy/factors/discrete/DiscreteFactor.py:796: RuntimeWarning:\n",
      "\n",
      "invalid value encountered in divide\n",
      "\n",
      "/Users/tristan.trebaol/Desktop/PhD/Code/pgmpy/pgmpy/factors/discrete/DiscreteFactor.py:796: RuntimeWarning:\n",
      "\n",
      "invalid value encountered in divide\n",
      "\n",
      "/Users/tristan.trebaol/Desktop/PhD/Code/pgmpy/pgmpy/factors/discrete/DiscreteFactor.py:796: RuntimeWarning:\n",
      "\n",
      "invalid value encountered in divide\n",
      "\n",
      "/Users/tristan.trebaol/Desktop/PhD/Code/pgmpy/pgmpy/factors/discrete/DiscreteFactor.py:796: RuntimeWarning:\n",
      "\n",
      "invalid value encountered in divide\n",
      "\n",
      "/Users/tristan.trebaol/Desktop/PhD/Code/pgmpy/pgmpy/factors/discrete/DiscreteFactor.py:796: RuntimeWarning:\n",
      "\n",
      "invalid value encountered in divide\n",
      "\n",
      "/Users/tristan.trebaol/Desktop/PhD/Code/pgmpy/pgmpy/factors/discrete/DiscreteFactor.py:796: RuntimeWarning:\n",
      "\n",
      "invalid value encountered in divide\n",
      "\n",
      "/Users/tristan.trebaol/Desktop/PhD/Code/pgmpy/pgmpy/factors/discrete/DiscreteFactor.py:796: RuntimeWarning:\n",
      "\n",
      "invalid value encountered in divide\n",
      "\n",
      "/Users/tristan.trebaol/Desktop/PhD/Code/pgmpy/pgmpy/factors/discrete/DiscreteFactor.py:796: RuntimeWarning:\n",
      "\n",
      "invalid value encountered in divide\n",
      "\n"
     ]
    },
    {
     "name": "stdout",
     "output_type": "stream",
     "text": [
      "Max FEV1 in the first 4 days, skipping ID 129\n"
     ]
    },
    {
     "name": "stderr",
     "output_type": "stream",
     "text": [
      "/Users/tristan.trebaol/Desktop/PhD/Code/pgmpy/pgmpy/factors/discrete/DiscreteFactor.py:796: RuntimeWarning:\n",
      "\n",
      "invalid value encountered in divide\n",
      "\n",
      "/Users/tristan.trebaol/Desktop/PhD/Code/pgmpy/pgmpy/factors/discrete/DiscreteFactor.py:796: RuntimeWarning:\n",
      "\n",
      "invalid value encountered in divide\n",
      "\n",
      "/Users/tristan.trebaol/Desktop/PhD/Code/pgmpy/pgmpy/factors/discrete/DiscreteFactor.py:796: RuntimeWarning:\n",
      "\n",
      "invalid value encountered in divide\n",
      "\n",
      "/Users/tristan.trebaol/Desktop/PhD/Code/pgmpy/pgmpy/factors/discrete/DiscreteFactor.py:796: RuntimeWarning:\n",
      "\n",
      "invalid value encountered in divide\n",
      "\n",
      "/Users/tristan.trebaol/Desktop/PhD/Code/pgmpy/pgmpy/factors/discrete/DiscreteFactor.py:796: RuntimeWarning:\n",
      "\n",
      "invalid value encountered in divide\n",
      "\n",
      "/Users/tristan.trebaol/Desktop/PhD/Code/pgmpy/pgmpy/factors/discrete/DiscreteFactor.py:796: RuntimeWarning:\n",
      "\n",
      "invalid value encountered in divide\n",
      "\n",
      "/Users/tristan.trebaol/Desktop/PhD/Code/pgmpy/pgmpy/factors/discrete/DiscreteFactor.py:796: RuntimeWarning:\n",
      "\n",
      "invalid value encountered in divide\n",
      "\n",
      "/Users/tristan.trebaol/Desktop/PhD/Code/pgmpy/pgmpy/factors/discrete/DiscreteFactor.py:796: RuntimeWarning:\n",
      "\n",
      "invalid value encountered in divide\n",
      "\n",
      "/Users/tristan.trebaol/Desktop/PhD/Code/pgmpy/pgmpy/factors/discrete/DiscreteFactor.py:796: RuntimeWarning:\n",
      "\n",
      "invalid value encountered in divide\n",
      "\n",
      "/Users/tristan.trebaol/Desktop/PhD/Code/pgmpy/pgmpy/factors/discrete/DiscreteFactor.py:796: RuntimeWarning:\n",
      "\n",
      "invalid value encountered in divide\n",
      "\n",
      "/Users/tristan.trebaol/Desktop/PhD/Code/pgmpy/pgmpy/factors/discrete/DiscreteFactor.py:796: RuntimeWarning:\n",
      "\n",
      "invalid value encountered in divide\n",
      "\n",
      "/Users/tristan.trebaol/Desktop/PhD/Code/pgmpy/pgmpy/factors/discrete/DiscreteFactor.py:796: RuntimeWarning:\n",
      "\n",
      "invalid value encountered in divide\n",
      "\n",
      "/Users/tristan.trebaol/Desktop/PhD/Code/pgmpy/pgmpy/factors/discrete/DiscreteFactor.py:796: RuntimeWarning:\n",
      "\n",
      "invalid value encountered in divide\n",
      "\n",
      "/Users/tristan.trebaol/Desktop/PhD/Code/pgmpy/pgmpy/factors/discrete/DiscreteFactor.py:796: RuntimeWarning:\n",
      "\n",
      "invalid value encountered in divide\n",
      "\n",
      "/Users/tristan.trebaol/Desktop/PhD/Code/pgmpy/pgmpy/factors/discrete/DiscreteFactor.py:796: RuntimeWarning:\n",
      "\n",
      "invalid value encountered in divide\n",
      "\n",
      "/Users/tristan.trebaol/Desktop/PhD/Code/pgmpy/pgmpy/factors/discrete/DiscreteFactor.py:796: RuntimeWarning:\n",
      "\n",
      "invalid value encountered in divide\n",
      "\n",
      "/Users/tristan.trebaol/Desktop/PhD/Code/pgmpy/pgmpy/factors/discrete/DiscreteFactor.py:796: RuntimeWarning:\n",
      "\n",
      "invalid value encountered in divide\n",
      "\n",
      "/Users/tristan.trebaol/Desktop/PhD/Code/pgmpy/pgmpy/factors/discrete/DiscreteFactor.py:796: RuntimeWarning:\n",
      "\n",
      "invalid value encountered in divide\n",
      "\n",
      "/Users/tristan.trebaol/Desktop/PhD/Code/pgmpy/pgmpy/factors/discrete/DiscreteFactor.py:796: RuntimeWarning:\n",
      "\n",
      "invalid value encountered in divide\n",
      "\n",
      "/Users/tristan.trebaol/Desktop/PhD/Code/pgmpy/pgmpy/factors/discrete/DiscreteFactor.py:796: RuntimeWarning:\n",
      "\n",
      "invalid value encountered in divide\n",
      "\n",
      "/Users/tristan.trebaol/Desktop/PhD/Code/pgmpy/pgmpy/factors/discrete/DiscreteFactor.py:796: RuntimeWarning:\n",
      "\n",
      "invalid value encountered in divide\n",
      "\n"
     ]
    },
    {
     "name": "stdout",
     "output_type": "stream",
     "text": [
      "Too few data, skipping ID 154\n"
     ]
    },
    {
     "name": "stderr",
     "output_type": "stream",
     "text": [
      "/Users/tristan.trebaol/Desktop/PhD/Code/pgmpy/pgmpy/factors/discrete/DiscreteFactor.py:796: RuntimeWarning:\n",
      "\n",
      "invalid value encountered in divide\n",
      "\n",
      "/Users/tristan.trebaol/Desktop/PhD/Code/pgmpy/pgmpy/factors/discrete/DiscreteFactor.py:796: RuntimeWarning:\n",
      "\n",
      "invalid value encountered in divide\n",
      "\n",
      "/Users/tristan.trebaol/Desktop/PhD/Code/pgmpy/pgmpy/factors/discrete/DiscreteFactor.py:796: RuntimeWarning:\n",
      "\n",
      "invalid value encountered in divide\n",
      "\n",
      "/Users/tristan.trebaol/Desktop/PhD/Code/pgmpy/pgmpy/factors/discrete/DiscreteFactor.py:796: RuntimeWarning:\n",
      "\n",
      "invalid value encountered in divide\n",
      "\n",
      "/Users/tristan.trebaol/Desktop/PhD/Code/pgmpy/pgmpy/factors/discrete/DiscreteFactor.py:796: RuntimeWarning:\n",
      "\n",
      "invalid value encountered in divide\n",
      "\n",
      "/Users/tristan.trebaol/Desktop/PhD/Code/pgmpy/pgmpy/factors/discrete/DiscreteFactor.py:796: RuntimeWarning:\n",
      "\n",
      "invalid value encountered in divide\n",
      "\n"
     ]
    },
    {
     "name": "stdout",
     "output_type": "stream",
     "text": [
      "Too few data, skipping ID 160\n"
     ]
    },
    {
     "name": "stderr",
     "output_type": "stream",
     "text": [
      "/Users/tristan.trebaol/Desktop/PhD/Code/pgmpy/pgmpy/factors/discrete/DiscreteFactor.py:796: RuntimeWarning:\n",
      "\n",
      "invalid value encountered in divide\n",
      "\n",
      "/Users/tristan.trebaol/Desktop/PhD/Code/pgmpy/pgmpy/factors/discrete/DiscreteFactor.py:796: RuntimeWarning:\n",
      "\n",
      "invalid value encountered in divide\n",
      "\n",
      "/Users/tristan.trebaol/Desktop/PhD/Code/pgmpy/pgmpy/factors/discrete/DiscreteFactor.py:796: RuntimeWarning:\n",
      "\n",
      "invalid value encountered in divide\n",
      "\n"
     ]
    },
    {
     "name": "stdout",
     "output_type": "stream",
     "text": [
      "Too few data, skipping ID 167\n",
      "Max FEV1 in the first 4 days, skipping ID 168\n"
     ]
    },
    {
     "name": "stderr",
     "output_type": "stream",
     "text": [
      "/Users/tristan.trebaol/Desktop/PhD/Code/pgmpy/pgmpy/factors/discrete/DiscreteFactor.py:796: RuntimeWarning:\n",
      "\n",
      "invalid value encountered in divide\n",
      "\n",
      "/Users/tristan.trebaol/Desktop/PhD/Code/pgmpy/pgmpy/factors/discrete/DiscreteFactor.py:796: RuntimeWarning:\n",
      "\n",
      "invalid value encountered in divide\n",
      "\n",
      "/Users/tristan.trebaol/Desktop/PhD/Code/pgmpy/pgmpy/factors/discrete/DiscreteFactor.py:796: RuntimeWarning:\n",
      "\n",
      "invalid value encountered in divide\n",
      "\n",
      "/Users/tristan.trebaol/Desktop/PhD/Code/pgmpy/pgmpy/factors/discrete/DiscreteFactor.py:796: RuntimeWarning:\n",
      "\n",
      "invalid value encountered in divide\n",
      "\n",
      "/Users/tristan.trebaol/Desktop/PhD/Code/pgmpy/pgmpy/factors/discrete/DiscreteFactor.py:796: RuntimeWarning:\n",
      "\n",
      "invalid value encountered in divide\n",
      "\n",
      "/Users/tristan.trebaol/Desktop/PhD/Code/pgmpy/pgmpy/factors/discrete/DiscreteFactor.py:796: RuntimeWarning:\n",
      "\n",
      "invalid value encountered in divide\n",
      "\n"
     ]
    },
    {
     "name": "stdout",
     "output_type": "stream",
     "text": [
      "Too few data, skipping ID 175\n"
     ]
    },
    {
     "name": "stderr",
     "output_type": "stream",
     "text": [
      "/Users/tristan.trebaol/Desktop/PhD/Code/pgmpy/pgmpy/factors/discrete/DiscreteFactor.py:796: RuntimeWarning:\n",
      "\n",
      "invalid value encountered in divide\n",
      "\n",
      "/Users/tristan.trebaol/Desktop/PhD/Code/pgmpy/pgmpy/factors/discrete/DiscreteFactor.py:796: RuntimeWarning:\n",
      "\n",
      "invalid value encountered in divide\n",
      "\n",
      "/Users/tristan.trebaol/Desktop/PhD/Code/pgmpy/pgmpy/factors/discrete/DiscreteFactor.py:796: RuntimeWarning:\n",
      "\n",
      "invalid value encountered in divide\n",
      "\n",
      "/Users/tristan.trebaol/Desktop/PhD/Code/pgmpy/pgmpy/factors/discrete/DiscreteFactor.py:796: RuntimeWarning:\n",
      "\n",
      "invalid value encountered in divide\n",
      "\n",
      "/Users/tristan.trebaol/Desktop/PhD/Code/pgmpy/pgmpy/factors/discrete/DiscreteFactor.py:796: RuntimeWarning:\n",
      "\n",
      "invalid value encountered in divide\n",
      "\n",
      "/Users/tristan.trebaol/Desktop/PhD/Code/pgmpy/pgmpy/factors/discrete/DiscreteFactor.py:796: RuntimeWarning:\n",
      "\n",
      "invalid value encountered in divide\n",
      "\n"
     ]
    },
    {
     "name": "stdout",
     "output_type": "stream",
     "text": [
      "Max FEV1 in the first 4 days, skipping ID 181\n",
      "Max FEV1 in the first 4 days, skipping ID 183\n"
     ]
    },
    {
     "name": "stderr",
     "output_type": "stream",
     "text": [
      "/Users/tristan.trebaol/Desktop/PhD/Code/pgmpy/pgmpy/factors/discrete/DiscreteFactor.py:796: RuntimeWarning:\n",
      "\n",
      "invalid value encountered in divide\n",
      "\n",
      "/Users/tristan.trebaol/Desktop/PhD/Code/pgmpy/pgmpy/factors/discrete/DiscreteFactor.py:796: RuntimeWarning:\n",
      "\n",
      "invalid value encountered in divide\n",
      "\n",
      "/Users/tristan.trebaol/Desktop/PhD/Code/pgmpy/pgmpy/factors/discrete/DiscreteFactor.py:796: RuntimeWarning:\n",
      "\n",
      "invalid value encountered in divide\n",
      "\n",
      "/Users/tristan.trebaol/Desktop/PhD/Code/pgmpy/pgmpy/factors/discrete/DiscreteFactor.py:796: RuntimeWarning:\n",
      "\n",
      "invalid value encountered in divide\n",
      "\n",
      "/Users/tristan.trebaol/Desktop/PhD/Code/pgmpy/pgmpy/factors/discrete/DiscreteFactor.py:796: RuntimeWarning:\n",
      "\n",
      "invalid value encountered in divide\n",
      "\n",
      "/Users/tristan.trebaol/Desktop/PhD/Code/pgmpy/pgmpy/factors/discrete/DiscreteFactor.py:796: RuntimeWarning:\n",
      "\n",
      "invalid value encountered in divide\n",
      "\n"
     ]
    },
    {
     "name": "stdout",
     "output_type": "stream",
     "text": [
      "Max FEV1 in the first 4 days, skipping ID 189\n"
     ]
    },
    {
     "name": "stderr",
     "output_type": "stream",
     "text": [
      "/Users/tristan.trebaol/Desktop/PhD/Code/pgmpy/pgmpy/factors/discrete/DiscreteFactor.py:796: RuntimeWarning:\n",
      "\n",
      "invalid value encountered in divide\n",
      "\n",
      "/Users/tristan.trebaol/Desktop/PhD/Code/pgmpy/pgmpy/factors/discrete/DiscreteFactor.py:796: RuntimeWarning:\n",
      "\n",
      "invalid value encountered in divide\n",
      "\n",
      "/Users/tristan.trebaol/Desktop/PhD/Code/pgmpy/pgmpy/factors/discrete/DiscreteFactor.py:796: RuntimeWarning:\n",
      "\n",
      "invalid value encountered in divide\n",
      "\n",
      "/Users/tristan.trebaol/Desktop/PhD/Code/pgmpy/pgmpy/factors/discrete/DiscreteFactor.py:796: RuntimeWarning:\n",
      "\n",
      "invalid value encountered in divide\n",
      "\n",
      "/Users/tristan.trebaol/Desktop/PhD/Code/pgmpy/pgmpy/factors/discrete/DiscreteFactor.py:796: RuntimeWarning:\n",
      "\n",
      "invalid value encountered in divide\n",
      "\n",
      "/Users/tristan.trebaol/Desktop/PhD/Code/pgmpy/pgmpy/factors/discrete/DiscreteFactor.py:796: RuntimeWarning:\n",
      "\n",
      "invalid value encountered in divide\n",
      "\n"
     ]
    },
    {
     "name": "stdout",
     "output_type": "stream",
     "text": [
      "Too few data, skipping ID 195\n"
     ]
    },
    {
     "name": "stderr",
     "output_type": "stream",
     "text": [
      "/Users/tristan.trebaol/Desktop/PhD/Code/pgmpy/pgmpy/factors/discrete/DiscreteFactor.py:796: RuntimeWarning:\n",
      "\n",
      "invalid value encountered in divide\n",
      "\n",
      "/Users/tristan.trebaol/Desktop/PhD/Code/pgmpy/pgmpy/factors/discrete/DiscreteFactor.py:796: RuntimeWarning:\n",
      "\n",
      "invalid value encountered in divide\n",
      "\n",
      "/Users/tristan.trebaol/Desktop/PhD/Code/pgmpy/pgmpy/factors/discrete/DiscreteFactor.py:796: RuntimeWarning:\n",
      "\n",
      "invalid value encountered in divide\n",
      "\n"
     ]
    },
    {
     "name": "stdout",
     "output_type": "stream",
     "text": [
      "Max FEV1 in the first 4 days, skipping ID 202\n"
     ]
    },
    {
     "name": "stderr",
     "output_type": "stream",
     "text": [
      "/Users/tristan.trebaol/Desktop/PhD/Code/pgmpy/pgmpy/factors/discrete/DiscreteFactor.py:796: RuntimeWarning:\n",
      "\n",
      "invalid value encountered in divide\n",
      "\n",
      "/Users/tristan.trebaol/Desktop/PhD/Code/pgmpy/pgmpy/factors/discrete/DiscreteFactor.py:796: RuntimeWarning:\n",
      "\n",
      "invalid value encountered in divide\n",
      "\n",
      "/Users/tristan.trebaol/Desktop/PhD/Code/pgmpy/pgmpy/factors/discrete/DiscreteFactor.py:796: RuntimeWarning:\n",
      "\n",
      "invalid value encountered in divide\n",
      "\n"
     ]
    },
    {
     "name": "stdout",
     "output_type": "stream",
     "text": [
      "Max FEV1 in the first 4 days, skipping ID 206\n",
      "Max FEV1 in the first 4 days, skipping ID 207\n",
      "Max FEV1 in the first 4 days, skipping ID 208\n",
      "Too few data, skipping ID 211\n",
      "Max FEV1 in the first 4 days, skipping ID 212\n",
      "Too few data, skipping ID 213\n"
     ]
    },
    {
     "name": "stderr",
     "output_type": "stream",
     "text": [
      "/Users/tristan.trebaol/Desktop/PhD/Code/pgmpy/pgmpy/factors/discrete/DiscreteFactor.py:796: RuntimeWarning:\n",
      "\n",
      "invalid value encountered in divide\n",
      "\n",
      "/Users/tristan.trebaol/Desktop/PhD/Code/pgmpy/pgmpy/factors/discrete/DiscreteFactor.py:796: RuntimeWarning:\n",
      "\n",
      "invalid value encountered in divide\n",
      "\n",
      "/Users/tristan.trebaol/Desktop/PhD/Code/pgmpy/pgmpy/factors/discrete/DiscreteFactor.py:796: RuntimeWarning:\n",
      "\n",
      "invalid value encountered in divide\n",
      "\n"
     ]
    },
    {
     "name": "stdout",
     "output_type": "stream",
     "text": [
      "Too few data, skipping ID 216\n",
      "Too few data, skipping ID 222\n"
     ]
    },
    {
     "name": "stderr",
     "output_type": "stream",
     "text": [
      "/Users/tristan.trebaol/Desktop/PhD/Code/pgmpy/pgmpy/factors/discrete/DiscreteFactor.py:796: RuntimeWarning:\n",
      "\n",
      "invalid value encountered in divide\n",
      "\n",
      "/Users/tristan.trebaol/Desktop/PhD/Code/pgmpy/pgmpy/factors/discrete/DiscreteFactor.py:796: RuntimeWarning:\n",
      "\n",
      "invalid value encountered in divide\n",
      "\n",
      "/Users/tristan.trebaol/Desktop/PhD/Code/pgmpy/pgmpy/factors/discrete/DiscreteFactor.py:796: RuntimeWarning:\n",
      "\n",
      "invalid value encountered in divide\n",
      "\n",
      "/Users/tristan.trebaol/Desktop/PhD/Code/pgmpy/pgmpy/factors/discrete/DiscreteFactor.py:796: RuntimeWarning:\n",
      "\n",
      "invalid value encountered in divide\n",
      "\n",
      "/Users/tristan.trebaol/Desktop/PhD/Code/pgmpy/pgmpy/factors/discrete/DiscreteFactor.py:796: RuntimeWarning:\n",
      "\n",
      "invalid value encountered in divide\n",
      "\n",
      "/Users/tristan.trebaol/Desktop/PhD/Code/pgmpy/pgmpy/factors/discrete/DiscreteFactor.py:796: RuntimeWarning:\n",
      "\n",
      "invalid value encountered in divide\n",
      "\n"
     ]
    },
    {
     "name": "stdout",
     "output_type": "stream",
     "text": [
      "Too few data, skipping ID 225\n"
     ]
    },
    {
     "name": "stderr",
     "output_type": "stream",
     "text": [
      "/Users/tristan.trebaol/Desktop/PhD/Code/pgmpy/pgmpy/factors/discrete/DiscreteFactor.py:796: RuntimeWarning:\n",
      "\n",
      "invalid value encountered in divide\n",
      "\n",
      "/Users/tristan.trebaol/Desktop/PhD/Code/pgmpy/pgmpy/factors/discrete/DiscreteFactor.py:796: RuntimeWarning:\n",
      "\n",
      "invalid value encountered in divide\n",
      "\n",
      "/Users/tristan.trebaol/Desktop/PhD/Code/pgmpy/pgmpy/factors/discrete/DiscreteFactor.py:796: RuntimeWarning:\n",
      "\n",
      "invalid value encountered in divide\n",
      "\n"
     ]
    },
    {
     "name": "stdout",
     "output_type": "stream",
     "text": [
      "Too few data, skipping ID 236\n"
     ]
    },
    {
     "name": "stderr",
     "output_type": "stream",
     "text": [
      "/Users/tristan.trebaol/Desktop/PhD/Code/pgmpy/pgmpy/factors/discrete/DiscreteFactor.py:796: RuntimeWarning:\n",
      "\n",
      "invalid value encountered in divide\n",
      "\n",
      "/Users/tristan.trebaol/Desktop/PhD/Code/pgmpy/pgmpy/factors/discrete/DiscreteFactor.py:796: RuntimeWarning:\n",
      "\n",
      "invalid value encountered in divide\n",
      "\n",
      "/Users/tristan.trebaol/Desktop/PhD/Code/pgmpy/pgmpy/factors/discrete/DiscreteFactor.py:796: RuntimeWarning:\n",
      "\n",
      "invalid value encountered in divide\n",
      "\n",
      "/Users/tristan.trebaol/Desktop/PhD/Code/pgmpy/pgmpy/factors/discrete/DiscreteFactor.py:796: RuntimeWarning:\n",
      "\n",
      "invalid value encountered in divide\n",
      "\n",
      "/Users/tristan.trebaol/Desktop/PhD/Code/pgmpy/pgmpy/factors/discrete/DiscreteFactor.py:796: RuntimeWarning:\n",
      "\n",
      "invalid value encountered in divide\n",
      "\n",
      "/Users/tristan.trebaol/Desktop/PhD/Code/pgmpy/pgmpy/factors/discrete/DiscreteFactor.py:796: RuntimeWarning:\n",
      "\n",
      "invalid value encountered in divide\n",
      "\n"
     ]
    },
    {
     "name": "stdout",
     "output_type": "stream",
     "text": [
      "Max FEV1 in the first 4 days, skipping ID 241\n"
     ]
    },
    {
     "name": "stderr",
     "output_type": "stream",
     "text": [
      "/Users/tristan.trebaol/Desktop/PhD/Code/pgmpy/pgmpy/factors/discrete/DiscreteFactor.py:796: RuntimeWarning:\n",
      "\n",
      "invalid value encountered in divide\n",
      "\n",
      "/Users/tristan.trebaol/Desktop/PhD/Code/pgmpy/pgmpy/factors/discrete/DiscreteFactor.py:796: RuntimeWarning:\n",
      "\n",
      "invalid value encountered in divide\n",
      "\n",
      "/Users/tristan.trebaol/Desktop/PhD/Code/pgmpy/pgmpy/factors/discrete/DiscreteFactor.py:796: RuntimeWarning:\n",
      "\n",
      "invalid value encountered in divide\n",
      "\n"
     ]
    },
    {
     "name": "stdout",
     "output_type": "stream",
     "text": [
      "Max FEV1 in the first 4 days, skipping ID 248\n"
     ]
    },
    {
     "name": "stderr",
     "output_type": "stream",
     "text": [
      "/Users/tristan.trebaol/Desktop/PhD/Code/pgmpy/pgmpy/factors/discrete/DiscreteFactor.py:796: RuntimeWarning:\n",
      "\n",
      "invalid value encountered in divide\n",
      "\n",
      "/Users/tristan.trebaol/Desktop/PhD/Code/pgmpy/pgmpy/factors/discrete/DiscreteFactor.py:796: RuntimeWarning:\n",
      "\n",
      "invalid value encountered in divide\n",
      "\n",
      "/Users/tristan.trebaol/Desktop/PhD/Code/pgmpy/pgmpy/factors/discrete/DiscreteFactor.py:796: RuntimeWarning:\n",
      "\n",
      "invalid value encountered in divide\n",
      "\n",
      "/Users/tristan.trebaol/Desktop/PhD/Code/pgmpy/pgmpy/factors/discrete/DiscreteFactor.py:796: RuntimeWarning:\n",
      "\n",
      "invalid value encountered in divide\n",
      "\n",
      "/Users/tristan.trebaol/Desktop/PhD/Code/pgmpy/pgmpy/factors/discrete/DiscreteFactor.py:796: RuntimeWarning:\n",
      "\n",
      "invalid value encountered in divide\n",
      "\n",
      "/Users/tristan.trebaol/Desktop/PhD/Code/pgmpy/pgmpy/factors/discrete/DiscreteFactor.py:796: RuntimeWarning:\n",
      "\n",
      "invalid value encountered in divide\n",
      "\n",
      "/Users/tristan.trebaol/Desktop/PhD/Code/pgmpy/pgmpy/factors/discrete/DiscreteFactor.py:796: RuntimeWarning:\n",
      "\n",
      "invalid value encountered in divide\n",
      "\n",
      "/Users/tristan.trebaol/Desktop/PhD/Code/pgmpy/pgmpy/factors/discrete/DiscreteFactor.py:796: RuntimeWarning:\n",
      "\n",
      "invalid value encountered in divide\n",
      "\n",
      "/Users/tristan.trebaol/Desktop/PhD/Code/pgmpy/pgmpy/factors/discrete/DiscreteFactor.py:796: RuntimeWarning:\n",
      "\n",
      "invalid value encountered in divide\n",
      "\n"
     ]
    },
    {
     "name": "stdout",
     "output_type": "stream",
     "text": [
      "Too few data, skipping ID 260\n"
     ]
    },
    {
     "name": "stderr",
     "output_type": "stream",
     "text": [
      "/Users/tristan.trebaol/Desktop/PhD/Code/pgmpy/pgmpy/factors/discrete/DiscreteFactor.py:796: RuntimeWarning:\n",
      "\n",
      "invalid value encountered in divide\n",
      "\n",
      "/Users/tristan.trebaol/Desktop/PhD/Code/pgmpy/pgmpy/factors/discrete/DiscreteFactor.py:796: RuntimeWarning:\n",
      "\n",
      "invalid value encountered in divide\n",
      "\n",
      "/Users/tristan.trebaol/Desktop/PhD/Code/pgmpy/pgmpy/factors/discrete/DiscreteFactor.py:796: RuntimeWarning:\n",
      "\n",
      "invalid value encountered in divide\n",
      "\n",
      "/Users/tristan.trebaol/Desktop/PhD/Code/pgmpy/pgmpy/factors/discrete/DiscreteFactor.py:796: RuntimeWarning:\n",
      "\n",
      "invalid value encountered in divide\n",
      "\n",
      "/Users/tristan.trebaol/Desktop/PhD/Code/pgmpy/pgmpy/factors/discrete/DiscreteFactor.py:796: RuntimeWarning:\n",
      "\n",
      "invalid value encountered in divide\n",
      "\n",
      "/Users/tristan.trebaol/Desktop/PhD/Code/pgmpy/pgmpy/factors/discrete/DiscreteFactor.py:796: RuntimeWarning:\n",
      "\n",
      "invalid value encountered in divide\n",
      "\n"
     ]
    },
    {
     "name": "stdout",
     "output_type": "stream",
     "text": [
      "Too few data, skipping ID 267\n"
     ]
    },
    {
     "name": "stderr",
     "output_type": "stream",
     "text": [
      "/Users/tristan.trebaol/Desktop/PhD/Code/pgmpy/pgmpy/factors/discrete/DiscreteFactor.py:796: RuntimeWarning:\n",
      "\n",
      "invalid value encountered in divide\n",
      "\n",
      "/Users/tristan.trebaol/Desktop/PhD/Code/pgmpy/pgmpy/factors/discrete/DiscreteFactor.py:796: RuntimeWarning:\n",
      "\n",
      "invalid value encountered in divide\n",
      "\n",
      "/Users/tristan.trebaol/Desktop/PhD/Code/pgmpy/pgmpy/factors/discrete/DiscreteFactor.py:796: RuntimeWarning:\n",
      "\n",
      "invalid value encountered in divide\n",
      "\n",
      "/Users/tristan.trebaol/Desktop/PhD/Code/pgmpy/pgmpy/factors/discrete/DiscreteFactor.py:796: RuntimeWarning:\n",
      "\n",
      "invalid value encountered in divide\n",
      "\n",
      "/Users/tristan.trebaol/Desktop/PhD/Code/pgmpy/pgmpy/factors/discrete/DiscreteFactor.py:796: RuntimeWarning:\n",
      "\n",
      "invalid value encountered in divide\n",
      "\n",
      "/Users/tristan.trebaol/Desktop/PhD/Code/pgmpy/pgmpy/factors/discrete/DiscreteFactor.py:796: RuntimeWarning:\n",
      "\n",
      "invalid value encountered in divide\n",
      "\n",
      "/Users/tristan.trebaol/Desktop/PhD/Code/pgmpy/pgmpy/factors/discrete/DiscreteFactor.py:796: RuntimeWarning:\n",
      "\n",
      "invalid value encountered in divide\n",
      "\n",
      "/Users/tristan.trebaol/Desktop/PhD/Code/pgmpy/pgmpy/factors/discrete/DiscreteFactor.py:796: RuntimeWarning:\n",
      "\n",
      "invalid value encountered in divide\n",
      "\n",
      "/Users/tristan.trebaol/Desktop/PhD/Code/pgmpy/pgmpy/factors/discrete/DiscreteFactor.py:796: RuntimeWarning:\n",
      "\n",
      "invalid value encountered in divide\n",
      "\n",
      "/Users/tristan.trebaol/Desktop/PhD/Code/pgmpy/pgmpy/factors/discrete/DiscreteFactor.py:796: RuntimeWarning:\n",
      "\n",
      "invalid value encountered in divide\n",
      "\n",
      "/Users/tristan.trebaol/Desktop/PhD/Code/pgmpy/pgmpy/factors/discrete/DiscreteFactor.py:796: RuntimeWarning:\n",
      "\n",
      "invalid value encountered in divide\n",
      "\n",
      "/Users/tristan.trebaol/Desktop/PhD/Code/pgmpy/pgmpy/factors/discrete/DiscreteFactor.py:796: RuntimeWarning:\n",
      "\n",
      "invalid value encountered in divide\n",
      "\n",
      "/Users/tristan.trebaol/Desktop/PhD/Code/pgmpy/pgmpy/factors/discrete/DiscreteFactor.py:796: RuntimeWarning:\n",
      "\n",
      "invalid value encountered in divide\n",
      "\n",
      "/Users/tristan.trebaol/Desktop/PhD/Code/pgmpy/pgmpy/factors/discrete/DiscreteFactor.py:796: RuntimeWarning:\n",
      "\n",
      "invalid value encountered in divide\n",
      "\n",
      "/Users/tristan.trebaol/Desktop/PhD/Code/pgmpy/pgmpy/factors/discrete/DiscreteFactor.py:796: RuntimeWarning:\n",
      "\n",
      "invalid value encountered in divide\n",
      "\n"
     ]
    },
    {
     "name": "stdout",
     "output_type": "stream",
     "text": [
      "Max FEV1 in the first 4 days, skipping ID 285\n",
      "Too few data, skipping ID 288\n"
     ]
    },
    {
     "name": "stderr",
     "output_type": "stream",
     "text": [
      "/Users/tristan.trebaol/Desktop/PhD/Code/pgmpy/pgmpy/factors/discrete/DiscreteFactor.py:796: RuntimeWarning:\n",
      "\n",
      "invalid value encountered in divide\n",
      "\n",
      "/Users/tristan.trebaol/Desktop/PhD/Code/pgmpy/pgmpy/factors/discrete/DiscreteFactor.py:796: RuntimeWarning:\n",
      "\n",
      "invalid value encountered in divide\n",
      "\n",
      "/Users/tristan.trebaol/Desktop/PhD/Code/pgmpy/pgmpy/factors/discrete/DiscreteFactor.py:796: RuntimeWarning:\n",
      "\n",
      "invalid value encountered in divide\n",
      "\n",
      "/Users/tristan.trebaol/Desktop/PhD/Code/pgmpy/pgmpy/factors/discrete/DiscreteFactor.py:796: RuntimeWarning:\n",
      "\n",
      "invalid value encountered in divide\n",
      "\n",
      "/Users/tristan.trebaol/Desktop/PhD/Code/pgmpy/pgmpy/factors/discrete/DiscreteFactor.py:796: RuntimeWarning:\n",
      "\n",
      "invalid value encountered in divide\n",
      "\n",
      "/Users/tristan.trebaol/Desktop/PhD/Code/pgmpy/pgmpy/factors/discrete/DiscreteFactor.py:796: RuntimeWarning:\n",
      "\n",
      "invalid value encountered in divide\n",
      "\n",
      "/Users/tristan.trebaol/Desktop/PhD/Code/pgmpy/pgmpy/factors/discrete/DiscreteFactor.py:796: RuntimeWarning:\n",
      "\n",
      "invalid value encountered in divide\n",
      "\n",
      "/Users/tristan.trebaol/Desktop/PhD/Code/pgmpy/pgmpy/factors/discrete/DiscreteFactor.py:796: RuntimeWarning:\n",
      "\n",
      "invalid value encountered in divide\n",
      "\n",
      "/Users/tristan.trebaol/Desktop/PhD/Code/pgmpy/pgmpy/factors/discrete/DiscreteFactor.py:796: RuntimeWarning:\n",
      "\n",
      "invalid value encountered in divide\n",
      "\n",
      "/Users/tristan.trebaol/Desktop/PhD/Code/pgmpy/pgmpy/factors/discrete/DiscreteFactor.py:796: RuntimeWarning:\n",
      "\n",
      "invalid value encountered in divide\n",
      "\n",
      "/Users/tristan.trebaol/Desktop/PhD/Code/pgmpy/pgmpy/factors/discrete/DiscreteFactor.py:796: RuntimeWarning:\n",
      "\n",
      "invalid value encountered in divide\n",
      "\n",
      "/Users/tristan.trebaol/Desktop/PhD/Code/pgmpy/pgmpy/factors/discrete/DiscreteFactor.py:796: RuntimeWarning:\n",
      "\n",
      "invalid value encountered in divide\n",
      "\n",
      "/Users/tristan.trebaol/Desktop/PhD/Code/pgmpy/pgmpy/factors/discrete/DiscreteFactor.py:796: RuntimeWarning:\n",
      "\n",
      "invalid value encountered in divide\n",
      "\n",
      "/Users/tristan.trebaol/Desktop/PhD/Code/pgmpy/pgmpy/factors/discrete/DiscreteFactor.py:796: RuntimeWarning:\n",
      "\n",
      "invalid value encountered in divide\n",
      "\n",
      "/Users/tristan.trebaol/Desktop/PhD/Code/pgmpy/pgmpy/factors/discrete/DiscreteFactor.py:796: RuntimeWarning:\n",
      "\n",
      "invalid value encountered in divide\n",
      "\n"
     ]
    },
    {
     "name": "stdout",
     "output_type": "stream",
     "text": [
      "Too few data, skipping ID 305\n",
      "Too few data, skipping ID 308\n"
     ]
    },
    {
     "name": "stderr",
     "output_type": "stream",
     "text": [
      "/Users/tristan.trebaol/Desktop/PhD/Code/pgmpy/pgmpy/factors/discrete/DiscreteFactor.py:796: RuntimeWarning:\n",
      "\n",
      "invalid value encountered in divide\n",
      "\n",
      "/Users/tristan.trebaol/Desktop/PhD/Code/pgmpy/pgmpy/factors/discrete/DiscreteFactor.py:796: RuntimeWarning:\n",
      "\n",
      "invalid value encountered in divide\n",
      "\n",
      "/Users/tristan.trebaol/Desktop/PhD/Code/pgmpy/pgmpy/factors/discrete/DiscreteFactor.py:796: RuntimeWarning:\n",
      "\n",
      "invalid value encountered in divide\n",
      "\n",
      "/Users/tristan.trebaol/Desktop/PhD/Code/pgmpy/pgmpy/factors/discrete/DiscreteFactor.py:796: RuntimeWarning:\n",
      "\n",
      "invalid value encountered in divide\n",
      "\n",
      "/Users/tristan.trebaol/Desktop/PhD/Code/pgmpy/pgmpy/factors/discrete/DiscreteFactor.py:796: RuntimeWarning:\n",
      "\n",
      "invalid value encountered in divide\n",
      "\n",
      "/Users/tristan.trebaol/Desktop/PhD/Code/pgmpy/pgmpy/factors/discrete/DiscreteFactor.py:796: RuntimeWarning:\n",
      "\n",
      "invalid value encountered in divide\n",
      "\n"
     ]
    },
    {
     "name": "stdout",
     "output_type": "stream",
     "text": [
      "Max FEV1 in the first 4 days, skipping ID 313\n",
      "Too few data, skipping ID 316\n"
     ]
    },
    {
     "name": "stderr",
     "output_type": "stream",
     "text": [
      "/Users/tristan.trebaol/Desktop/PhD/Code/pgmpy/pgmpy/factors/discrete/DiscreteFactor.py:796: RuntimeWarning:\n",
      "\n",
      "invalid value encountered in divide\n",
      "\n",
      "/Users/tristan.trebaol/Desktop/PhD/Code/pgmpy/pgmpy/factors/discrete/DiscreteFactor.py:796: RuntimeWarning:\n",
      "\n",
      "invalid value encountered in divide\n",
      "\n",
      "/Users/tristan.trebaol/Desktop/PhD/Code/pgmpy/pgmpy/factors/discrete/DiscreteFactor.py:796: RuntimeWarning:\n",
      "\n",
      "invalid value encountered in divide\n",
      "\n"
     ]
    },
    {
     "name": "stdout",
     "output_type": "stream",
     "text": [
      "Max FEV1 in the first 4 days, skipping ID 318\n",
      "Too few data, skipping ID 320\n",
      "Too few data, skipping ID 321\n",
      "Max FEV1 in the first 4 days, skipping ID 327\n"
     ]
    },
    {
     "name": "stderr",
     "output_type": "stream",
     "text": [
      "/Users/tristan.trebaol/Desktop/PhD/Code/pgmpy/pgmpy/factors/discrete/DiscreteFactor.py:796: RuntimeWarning:\n",
      "\n",
      "invalid value encountered in divide\n",
      "\n",
      "/Users/tristan.trebaol/Desktop/PhD/Code/pgmpy/pgmpy/factors/discrete/DiscreteFactor.py:796: RuntimeWarning:\n",
      "\n",
      "invalid value encountered in divide\n",
      "\n",
      "/Users/tristan.trebaol/Desktop/PhD/Code/pgmpy/pgmpy/factors/discrete/DiscreteFactor.py:796: RuntimeWarning:\n",
      "\n",
      "invalid value encountered in divide\n",
      "\n"
     ]
    },
    {
     "name": "stdout",
     "output_type": "stream",
     "text": [
      "Too few data, skipping ID 333\n",
      "Too few data, skipping ID 337\n",
      "Too few data, skipping ID 338\n"
     ]
    },
    {
     "name": "stderr",
     "output_type": "stream",
     "text": [
      "/Users/tristan.trebaol/Desktop/PhD/Code/pgmpy/pgmpy/factors/discrete/DiscreteFactor.py:796: RuntimeWarning:\n",
      "\n",
      "invalid value encountered in divide\n",
      "\n",
      "/Users/tristan.trebaol/Desktop/PhD/Code/pgmpy/pgmpy/factors/discrete/DiscreteFactor.py:796: RuntimeWarning:\n",
      "\n",
      "invalid value encountered in divide\n",
      "\n",
      "/Users/tristan.trebaol/Desktop/PhD/Code/pgmpy/pgmpy/factors/discrete/DiscreteFactor.py:796: RuntimeWarning:\n",
      "\n",
      "invalid value encountered in divide\n",
      "\n"
     ]
    },
    {
     "name": "stdout",
     "output_type": "stream",
     "text": [
      "Too few data, skipping ID 340\n",
      "Max FEV1 in the first 4 days, skipping ID 345\n"
     ]
    },
    {
     "name": "stderr",
     "output_type": "stream",
     "text": [
      "/Users/tristan.trebaol/Desktop/PhD/Code/pgmpy/pgmpy/factors/discrete/DiscreteFactor.py:796: RuntimeWarning:\n",
      "\n",
      "invalid value encountered in divide\n",
      "\n",
      "/Users/tristan.trebaol/Desktop/PhD/Code/pgmpy/pgmpy/factors/discrete/DiscreteFactor.py:796: RuntimeWarning:\n",
      "\n",
      "invalid value encountered in divide\n",
      "\n",
      "/Users/tristan.trebaol/Desktop/PhD/Code/pgmpy/pgmpy/factors/discrete/DiscreteFactor.py:796: RuntimeWarning:\n",
      "\n",
      "invalid value encountered in divide\n",
      "\n",
      "/Users/tristan.trebaol/Desktop/PhD/Code/pgmpy/pgmpy/factors/discrete/DiscreteFactor.py:796: RuntimeWarning:\n",
      "\n",
      "invalid value encountered in divide\n",
      "\n",
      "/Users/tristan.trebaol/Desktop/PhD/Code/pgmpy/pgmpy/factors/discrete/DiscreteFactor.py:796: RuntimeWarning:\n",
      "\n",
      "invalid value encountered in divide\n",
      "\n",
      "/Users/tristan.trebaol/Desktop/PhD/Code/pgmpy/pgmpy/factors/discrete/DiscreteFactor.py:796: RuntimeWarning:\n",
      "\n",
      "invalid value encountered in divide\n",
      "\n"
     ]
    },
    {
     "name": "stdout",
     "output_type": "stream",
     "text": [
      "Too few data, skipping ID 354\n",
      "Too few data, skipping ID 355\n",
      "Max FEV1 in the first 4 days, skipping ID 357\n",
      "Max FEV1 in the first 4 days, skipping ID 358\n",
      "Max FEV1 in the first 4 days, skipping ID 359\n",
      "Max FEV1 in the first 4 days, skipping ID 361\n"
     ]
    },
    {
     "name": "stderr",
     "output_type": "stream",
     "text": [
      "/Users/tristan.trebaol/Desktop/PhD/Code/pgmpy/pgmpy/factors/discrete/DiscreteFactor.py:796: RuntimeWarning:\n",
      "\n",
      "invalid value encountered in divide\n",
      "\n",
      "/Users/tristan.trebaol/Desktop/PhD/Code/pgmpy/pgmpy/factors/discrete/DiscreteFactor.py:796: RuntimeWarning:\n",
      "\n",
      "invalid value encountered in divide\n",
      "\n",
      "/Users/tristan.trebaol/Desktop/PhD/Code/pgmpy/pgmpy/factors/discrete/DiscreteFactor.py:796: RuntimeWarning:\n",
      "\n",
      "invalid value encountered in divide\n",
      "\n"
     ]
    },
    {
     "name": "stdout",
     "output_type": "stream",
     "text": [
      "Too few data, skipping ID 367\n",
      "Max FEV1 in the first 4 days, skipping ID 370\n",
      "Too few data, skipping ID 376\n"
     ]
    },
    {
     "name": "stderr",
     "output_type": "stream",
     "text": [
      "/Users/tristan.trebaol/Desktop/PhD/Code/pgmpy/pgmpy/factors/discrete/DiscreteFactor.py:796: RuntimeWarning:\n",
      "\n",
      "invalid value encountered in divide\n",
      "\n",
      "/Users/tristan.trebaol/Desktop/PhD/Code/pgmpy/pgmpy/factors/discrete/DiscreteFactor.py:796: RuntimeWarning:\n",
      "\n",
      "invalid value encountered in divide\n",
      "\n",
      "/Users/tristan.trebaol/Desktop/PhD/Code/pgmpy/pgmpy/factors/discrete/DiscreteFactor.py:796: RuntimeWarning:\n",
      "\n",
      "invalid value encountered in divide\n",
      "\n",
      "/Users/tristan.trebaol/Desktop/PhD/Code/pgmpy/pgmpy/factors/discrete/DiscreteFactor.py:796: RuntimeWarning:\n",
      "\n",
      "invalid value encountered in divide\n",
      "\n",
      "/Users/tristan.trebaol/Desktop/PhD/Code/pgmpy/pgmpy/factors/discrete/DiscreteFactor.py:796: RuntimeWarning:\n",
      "\n",
      "invalid value encountered in divide\n",
      "\n",
      "/Users/tristan.trebaol/Desktop/PhD/Code/pgmpy/pgmpy/factors/discrete/DiscreteFactor.py:796: RuntimeWarning:\n",
      "\n",
      "invalid value encountered in divide\n",
      "\n"
     ]
    },
    {
     "name": "stdout",
     "output_type": "stream",
     "text": [
      "Too few data, skipping ID 382\n",
      "Too few data, skipping ID 385\n",
      "Too few data, skipping ID 386\n"
     ]
    },
    {
     "name": "stderr",
     "output_type": "stream",
     "text": [
      "/Users/tristan.trebaol/Desktop/PhD/Code/pgmpy/pgmpy/factors/discrete/DiscreteFactor.py:796: RuntimeWarning:\n",
      "\n",
      "invalid value encountered in divide\n",
      "\n",
      "/Users/tristan.trebaol/Desktop/PhD/Code/pgmpy/pgmpy/factors/discrete/DiscreteFactor.py:796: RuntimeWarning:\n",
      "\n",
      "invalid value encountered in divide\n",
      "\n",
      "/Users/tristan.trebaol/Desktop/PhD/Code/pgmpy/pgmpy/factors/discrete/DiscreteFactor.py:796: RuntimeWarning:\n",
      "\n",
      "invalid value encountered in divide\n",
      "\n"
     ]
    },
    {
     "name": "stdout",
     "output_type": "stream",
     "text": [
      "Too few data, skipping ID 392\n",
      "Too few data, skipping ID 396\n"
     ]
    },
    {
     "name": "stderr",
     "output_type": "stream",
     "text": [
      "/Users/tristan.trebaol/Desktop/PhD/Code/pgmpy/pgmpy/factors/discrete/DiscreteFactor.py:796: RuntimeWarning:\n",
      "\n",
      "invalid value encountered in divide\n",
      "\n",
      "/Users/tristan.trebaol/Desktop/PhD/Code/pgmpy/pgmpy/factors/discrete/DiscreteFactor.py:796: RuntimeWarning:\n",
      "\n",
      "invalid value encountered in divide\n",
      "\n",
      "/Users/tristan.trebaol/Desktop/PhD/Code/pgmpy/pgmpy/factors/discrete/DiscreteFactor.py:796: RuntimeWarning:\n",
      "\n",
      "invalid value encountered in divide\n",
      "\n"
     ]
    },
    {
     "name": "stdout",
     "output_type": "stream",
     "text": [
      "Too few data, skipping ID 402\n"
     ]
    },
    {
     "name": "stderr",
     "output_type": "stream",
     "text": [
      "/Users/tristan.trebaol/Desktop/PhD/Code/pgmpy/pgmpy/factors/discrete/DiscreteFactor.py:796: RuntimeWarning:\n",
      "\n",
      "invalid value encountered in divide\n",
      "\n",
      "/Users/tristan.trebaol/Desktop/PhD/Code/pgmpy/pgmpy/factors/discrete/DiscreteFactor.py:796: RuntimeWarning:\n",
      "\n",
      "invalid value encountered in divide\n",
      "\n",
      "/Users/tristan.trebaol/Desktop/PhD/Code/pgmpy/pgmpy/factors/discrete/DiscreteFactor.py:796: RuntimeWarning:\n",
      "\n",
      "invalid value encountered in divide\n",
      "\n",
      "/Users/tristan.trebaol/Desktop/PhD/Code/pgmpy/pgmpy/factors/discrete/DiscreteFactor.py:796: RuntimeWarning:\n",
      "\n",
      "invalid value encountered in divide\n",
      "\n",
      "/Users/tristan.trebaol/Desktop/PhD/Code/pgmpy/pgmpy/factors/discrete/DiscreteFactor.py:796: RuntimeWarning:\n",
      "\n",
      "invalid value encountered in divide\n",
      "\n",
      "/Users/tristan.trebaol/Desktop/PhD/Code/pgmpy/pgmpy/factors/discrete/DiscreteFactor.py:796: RuntimeWarning:\n",
      "\n",
      "invalid value encountered in divide\n",
      "\n"
     ]
    },
    {
     "name": "stdout",
     "output_type": "stream",
     "text": [
      "Max FEV1 in the first 4 days, skipping ID 411\n",
      "Max FEV1 in the first 4 days, skipping ID 414\n"
     ]
    },
    {
     "name": "stderr",
     "output_type": "stream",
     "text": [
      "/Users/tristan.trebaol/Desktop/PhD/Code/pgmpy/pgmpy/factors/discrete/DiscreteFactor.py:796: RuntimeWarning:\n",
      "\n",
      "invalid value encountered in divide\n",
      "\n",
      "/Users/tristan.trebaol/Desktop/PhD/Code/pgmpy/pgmpy/factors/discrete/DiscreteFactor.py:796: RuntimeWarning:\n",
      "\n",
      "invalid value encountered in divide\n",
      "\n",
      "/Users/tristan.trebaol/Desktop/PhD/Code/pgmpy/pgmpy/factors/discrete/DiscreteFactor.py:796: RuntimeWarning:\n",
      "\n",
      "invalid value encountered in divide\n",
      "\n",
      "/Users/tristan.trebaol/Desktop/PhD/Code/pgmpy/pgmpy/factors/discrete/DiscreteFactor.py:796: RuntimeWarning:\n",
      "\n",
      "invalid value encountered in divide\n",
      "\n",
      "/Users/tristan.trebaol/Desktop/PhD/Code/pgmpy/pgmpy/factors/discrete/DiscreteFactor.py:796: RuntimeWarning:\n",
      "\n",
      "invalid value encountered in divide\n",
      "\n",
      "/Users/tristan.trebaol/Desktop/PhD/Code/pgmpy/pgmpy/factors/discrete/DiscreteFactor.py:796: RuntimeWarning:\n",
      "\n",
      "invalid value encountered in divide\n",
      "\n"
     ]
    },
    {
     "name": "stdout",
     "output_type": "stream",
     "text": [
      "Max FEV1 in the first 4 days, skipping ID 419\n"
     ]
    },
    {
     "name": "stderr",
     "output_type": "stream",
     "text": [
      "/Users/tristan.trebaol/Desktop/PhD/Code/pgmpy/pgmpy/factors/discrete/DiscreteFactor.py:796: RuntimeWarning:\n",
      "\n",
      "invalid value encountered in divide\n",
      "\n",
      "/Users/tristan.trebaol/Desktop/PhD/Code/pgmpy/pgmpy/factors/discrete/DiscreteFactor.py:796: RuntimeWarning:\n",
      "\n",
      "invalid value encountered in divide\n",
      "\n",
      "/Users/tristan.trebaol/Desktop/PhD/Code/pgmpy/pgmpy/factors/discrete/DiscreteFactor.py:796: RuntimeWarning:\n",
      "\n",
      "invalid value encountered in divide\n",
      "\n",
      "/Users/tristan.trebaol/Desktop/PhD/Code/pgmpy/pgmpy/factors/discrete/DiscreteFactor.py:796: RuntimeWarning:\n",
      "\n",
      "invalid value encountered in divide\n",
      "\n",
      "/Users/tristan.trebaol/Desktop/PhD/Code/pgmpy/pgmpy/factors/discrete/DiscreteFactor.py:796: RuntimeWarning:\n",
      "\n",
      "invalid value encountered in divide\n",
      "\n",
      "/Users/tristan.trebaol/Desktop/PhD/Code/pgmpy/pgmpy/factors/discrete/DiscreteFactor.py:796: RuntimeWarning:\n",
      "\n",
      "invalid value encountered in divide\n",
      "\n"
     ]
    },
    {
     "name": "stdout",
     "output_type": "stream",
     "text": [
      "Too few data, skipping ID 428\n",
      "Too few data, skipping ID 429\n"
     ]
    },
    {
     "name": "stderr",
     "output_type": "stream",
     "text": [
      "/Users/tristan.trebaol/Desktop/PhD/Code/pgmpy/pgmpy/factors/discrete/DiscreteFactor.py:796: RuntimeWarning:\n",
      "\n",
      "invalid value encountered in divide\n",
      "\n",
      "/Users/tristan.trebaol/Desktop/PhD/Code/pgmpy/pgmpy/factors/discrete/DiscreteFactor.py:796: RuntimeWarning:\n",
      "\n",
      "invalid value encountered in divide\n",
      "\n",
      "/Users/tristan.trebaol/Desktop/PhD/Code/pgmpy/pgmpy/factors/discrete/DiscreteFactor.py:796: RuntimeWarning:\n",
      "\n",
      "invalid value encountered in divide\n",
      "\n",
      "/Users/tristan.trebaol/Desktop/PhD/Code/pgmpy/pgmpy/factors/discrete/DiscreteFactor.py:796: RuntimeWarning:\n",
      "\n",
      "invalid value encountered in divide\n",
      "\n",
      "/Users/tristan.trebaol/Desktop/PhD/Code/pgmpy/pgmpy/factors/discrete/DiscreteFactor.py:796: RuntimeWarning:\n",
      "\n",
      "invalid value encountered in divide\n",
      "\n",
      "/Users/tristan.trebaol/Desktop/PhD/Code/pgmpy/pgmpy/factors/discrete/DiscreteFactor.py:796: RuntimeWarning:\n",
      "\n",
      "invalid value encountered in divide\n",
      "\n"
     ]
    },
    {
     "name": "stdout",
     "output_type": "stream",
     "text": [
      "Max FEV1 in the first 4 days, skipping ID 440\n",
      "Max FEV1 in the first 4 days, skipping ID 441\n",
      "Max FEV1 in the first 4 days, skipping ID 443\n",
      "Max FEV1 in the first 4 days, skipping ID 444\n",
      "Max FEV1 in the first 4 days, skipping ID 448\n",
      "Too few data, skipping ID 451\n",
      "Max FEV1 in the first 4 days, skipping ID 452\n"
     ]
    },
    {
     "name": "stderr",
     "output_type": "stream",
     "text": [
      "/Users/tristan.trebaol/Desktop/PhD/Code/pgmpy/pgmpy/factors/discrete/DiscreteFactor.py:796: RuntimeWarning:\n",
      "\n",
      "invalid value encountered in divide\n",
      "\n",
      "/Users/tristan.trebaol/Desktop/PhD/Code/pgmpy/pgmpy/factors/discrete/DiscreteFactor.py:796: RuntimeWarning:\n",
      "\n",
      "invalid value encountered in divide\n",
      "\n",
      "/Users/tristan.trebaol/Desktop/PhD/Code/pgmpy/pgmpy/factors/discrete/DiscreteFactor.py:796: RuntimeWarning:\n",
      "\n",
      "invalid value encountered in divide\n",
      "\n"
     ]
    },
    {
     "name": "stdout",
     "output_type": "stream",
     "text": [
      "Too few data, skipping ID 454\n",
      "Max FEV1 in the first 4 days, skipping ID 461\n",
      "Max FEV1 in the first 4 days, skipping ID 467\n"
     ]
    },
    {
     "name": "stderr",
     "output_type": "stream",
     "text": [
      "/Users/tristan.trebaol/Desktop/PhD/Code/pgmpy/pgmpy/factors/discrete/DiscreteFactor.py:796: RuntimeWarning:\n",
      "\n",
      "invalid value encountered in divide\n",
      "\n",
      "/Users/tristan.trebaol/Desktop/PhD/Code/pgmpy/pgmpy/factors/discrete/DiscreteFactor.py:796: RuntimeWarning:\n",
      "\n",
      "invalid value encountered in divide\n",
      "\n",
      "/Users/tristan.trebaol/Desktop/PhD/Code/pgmpy/pgmpy/factors/discrete/DiscreteFactor.py:796: RuntimeWarning:\n",
      "\n",
      "invalid value encountered in divide\n",
      "\n",
      "/Users/tristan.trebaol/Desktop/PhD/Code/pgmpy/pgmpy/factors/discrete/DiscreteFactor.py:796: RuntimeWarning:\n",
      "\n",
      "invalid value encountered in divide\n",
      "\n",
      "/Users/tristan.trebaol/Desktop/PhD/Code/pgmpy/pgmpy/factors/discrete/DiscreteFactor.py:796: RuntimeWarning:\n",
      "\n",
      "invalid value encountered in divide\n",
      "\n",
      "/Users/tristan.trebaol/Desktop/PhD/Code/pgmpy/pgmpy/factors/discrete/DiscreteFactor.py:796: RuntimeWarning:\n",
      "\n",
      "invalid value encountered in divide\n",
      "\n",
      "/Users/tristan.trebaol/Desktop/PhD/Code/pgmpy/pgmpy/factors/discrete/DiscreteFactor.py:796: RuntimeWarning:\n",
      "\n",
      "invalid value encountered in divide\n",
      "\n",
      "/Users/tristan.trebaol/Desktop/PhD/Code/pgmpy/pgmpy/factors/discrete/DiscreteFactor.py:796: RuntimeWarning:\n",
      "\n",
      "invalid value encountered in divide\n",
      "\n",
      "/Users/tristan.trebaol/Desktop/PhD/Code/pgmpy/pgmpy/factors/discrete/DiscreteFactor.py:796: RuntimeWarning:\n",
      "\n",
      "invalid value encountered in divide\n",
      "\n"
     ]
    },
    {
     "name": "stdout",
     "output_type": "stream",
     "text": [
      "Too few data, skipping ID 487\n",
      "Too few data, skipping ID 489\n"
     ]
    },
    {
     "name": "stderr",
     "output_type": "stream",
     "text": [
      "/Users/tristan.trebaol/Desktop/PhD/Code/pgmpy/pgmpy/factors/discrete/DiscreteFactor.py:796: RuntimeWarning:\n",
      "\n",
      "invalid value encountered in divide\n",
      "\n",
      "/Users/tristan.trebaol/Desktop/PhD/Code/pgmpy/pgmpy/factors/discrete/DiscreteFactor.py:796: RuntimeWarning:\n",
      "\n",
      "invalid value encountered in divide\n",
      "\n",
      "/Users/tristan.trebaol/Desktop/PhD/Code/pgmpy/pgmpy/factors/discrete/DiscreteFactor.py:796: RuntimeWarning:\n",
      "\n",
      "invalid value encountered in divide\n",
      "\n",
      "/Users/tristan.trebaol/Desktop/PhD/Code/pgmpy/pgmpy/factors/discrete/DiscreteFactor.py:796: RuntimeWarning:\n",
      "\n",
      "invalid value encountered in divide\n",
      "\n",
      "/Users/tristan.trebaol/Desktop/PhD/Code/pgmpy/pgmpy/factors/discrete/DiscreteFactor.py:796: RuntimeWarning:\n",
      "\n",
      "invalid value encountered in divide\n",
      "\n",
      "/Users/tristan.trebaol/Desktop/PhD/Code/pgmpy/pgmpy/factors/discrete/DiscreteFactor.py:796: RuntimeWarning:\n",
      "\n",
      "invalid value encountered in divide\n",
      "\n",
      "/Users/tristan.trebaol/Desktop/PhD/Code/pgmpy/pgmpy/factors/discrete/DiscreteFactor.py:796: RuntimeWarning:\n",
      "\n",
      "invalid value encountered in divide\n",
      "\n",
      "/Users/tristan.trebaol/Desktop/PhD/Code/pgmpy/pgmpy/factors/discrete/DiscreteFactor.py:796: RuntimeWarning:\n",
      "\n",
      "invalid value encountered in divide\n",
      "\n",
      "/Users/tristan.trebaol/Desktop/PhD/Code/pgmpy/pgmpy/factors/discrete/DiscreteFactor.py:796: RuntimeWarning:\n",
      "\n",
      "invalid value encountered in divide\n",
      "\n"
     ]
    },
    {
     "name": "stdout",
     "output_type": "stream",
     "text": [
      "Max FEV1 in the first 4 days, skipping ID 497\n",
      "Too few data, skipping ID 498\n",
      "Max FEV1 in the first 4 days, skipping ID 499\n"
     ]
    },
    {
     "name": "stderr",
     "output_type": "stream",
     "text": [
      "/Users/tristan.trebaol/Desktop/PhD/Code/pgmpy/pgmpy/factors/discrete/DiscreteFactor.py:796: RuntimeWarning:\n",
      "\n",
      "invalid value encountered in divide\n",
      "\n",
      "/Users/tristan.trebaol/Desktop/PhD/Code/pgmpy/pgmpy/factors/discrete/DiscreteFactor.py:796: RuntimeWarning:\n",
      "\n",
      "invalid value encountered in divide\n",
      "\n",
      "/Users/tristan.trebaol/Desktop/PhD/Code/pgmpy/pgmpy/factors/discrete/DiscreteFactor.py:796: RuntimeWarning:\n",
      "\n",
      "invalid value encountered in divide\n",
      "\n"
     ]
    },
    {
     "name": "stdout",
     "output_type": "stream",
     "text": [
      "Max FEV1 in the first 4 days, skipping ID 505\n",
      "Too few data, skipping ID 507\n"
     ]
    },
    {
     "name": "stderr",
     "output_type": "stream",
     "text": [
      "/Users/tristan.trebaol/Desktop/PhD/Code/pgmpy/pgmpy/factors/discrete/DiscreteFactor.py:796: RuntimeWarning:\n",
      "\n",
      "invalid value encountered in divide\n",
      "\n",
      "/Users/tristan.trebaol/Desktop/PhD/Code/pgmpy/pgmpy/factors/discrete/DiscreteFactor.py:796: RuntimeWarning:\n",
      "\n",
      "invalid value encountered in divide\n",
      "\n",
      "/Users/tristan.trebaol/Desktop/PhD/Code/pgmpy/pgmpy/factors/discrete/DiscreteFactor.py:796: RuntimeWarning:\n",
      "\n",
      "invalid value encountered in divide\n",
      "\n"
     ]
    },
    {
     "name": "stdout",
     "output_type": "stream",
     "text": [
      "Too few data, skipping ID 510\n",
      "Max FEV1 in the first 4 days, skipping ID 513\n"
     ]
    },
    {
     "name": "stderr",
     "output_type": "stream",
     "text": [
      "/Users/tristan.trebaol/Desktop/PhD/Code/pgmpy/pgmpy/factors/discrete/DiscreteFactor.py:796: RuntimeWarning:\n",
      "\n",
      "invalid value encountered in divide\n",
      "\n",
      "/Users/tristan.trebaol/Desktop/PhD/Code/pgmpy/pgmpy/factors/discrete/DiscreteFactor.py:796: RuntimeWarning:\n",
      "\n",
      "invalid value encountered in divide\n",
      "\n"
     ]
    },
    {
     "name": "stdout",
     "output_type": "stream",
     "text": [
      "Too few data, skipping ID 516\n",
      "Max FEV1 in the first 4 days, skipping ID 517\n",
      "Max FEV1 in the first 4 days, skipping ID 518\n",
      "Max FEV1 in the first 4 days, skipping ID 519\n",
      "Max FEV1 in the first 4 days, skipping ID 521\n",
      "Too few data, skipping ID 522\n"
     ]
    },
    {
     "name": "stderr",
     "output_type": "stream",
     "text": [
      "/Users/tristan.trebaol/Desktop/PhD/Code/pgmpy/pgmpy/factors/discrete/DiscreteFactor.py:796: RuntimeWarning:\n",
      "\n",
      "invalid value encountered in divide\n",
      "\n",
      "/Users/tristan.trebaol/Desktop/PhD/Code/pgmpy/pgmpy/factors/discrete/DiscreteFactor.py:796: RuntimeWarning:\n",
      "\n",
      "invalid value encountered in divide\n",
      "\n",
      "/Users/tristan.trebaol/Desktop/PhD/Code/pgmpy/pgmpy/factors/discrete/DiscreteFactor.py:796: RuntimeWarning:\n",
      "\n",
      "invalid value encountered in divide\n",
      "\n"
     ]
    },
    {
     "name": "stdout",
     "output_type": "stream",
     "text": [
      "Max FEV1 in the first 4 days, skipping ID 527\n",
      "Max FEV1 in the first 4 days, skipping ID 531\n"
     ]
    },
    {
     "name": "stderr",
     "output_type": "stream",
     "text": [
      "/Users/tristan.trebaol/Desktop/PhD/Code/pgmpy/pgmpy/factors/discrete/DiscreteFactor.py:796: RuntimeWarning:\n",
      "\n",
      "invalid value encountered in divide\n",
      "\n",
      "/Users/tristan.trebaol/Desktop/PhD/Code/pgmpy/pgmpy/factors/discrete/DiscreteFactor.py:796: RuntimeWarning:\n",
      "\n",
      "invalid value encountered in divide\n",
      "\n",
      "/Users/tristan.trebaol/Desktop/PhD/Code/pgmpy/pgmpy/factors/discrete/DiscreteFactor.py:796: RuntimeWarning:\n",
      "\n",
      "invalid value encountered in divide\n",
      "\n"
     ]
    },
    {
     "name": "stdout",
     "output_type": "stream",
     "text": [
      "Too few data, skipping ID 533\n",
      "Too few data, skipping ID 536\n",
      "Max FEV1 in the first 4 days, skipping ID 538\n"
     ]
    },
    {
     "name": "stderr",
     "output_type": "stream",
     "text": [
      "/Users/tristan.trebaol/Desktop/PhD/Code/pgmpy/pgmpy/factors/discrete/DiscreteFactor.py:796: RuntimeWarning:\n",
      "\n",
      "invalid value encountered in divide\n",
      "\n",
      "/Users/tristan.trebaol/Desktop/PhD/Code/pgmpy/pgmpy/factors/discrete/DiscreteFactor.py:796: RuntimeWarning:\n",
      "\n",
      "invalid value encountered in divide\n",
      "\n",
      "/Users/tristan.trebaol/Desktop/PhD/Code/pgmpy/pgmpy/factors/discrete/DiscreteFactor.py:796: RuntimeWarning:\n",
      "\n",
      "invalid value encountered in divide\n",
      "\n"
     ]
    },
    {
     "name": "stdout",
     "output_type": "stream",
     "text": [
      "Max FEV1 in the first 4 days, skipping ID 543\n",
      "Too few data, skipping ID 545\n",
      "Too few data, skipping ID 546\n",
      "Too few data, skipping ID 548\n"
     ]
    },
    {
     "name": "stderr",
     "output_type": "stream",
     "text": [
      "/Users/tristan.trebaol/Desktop/PhD/Code/pgmpy/pgmpy/factors/discrete/DiscreteFactor.py:796: RuntimeWarning:\n",
      "\n",
      "invalid value encountered in divide\n",
      "\n",
      "/Users/tristan.trebaol/Desktop/PhD/Code/pgmpy/pgmpy/factors/discrete/DiscreteFactor.py:796: RuntimeWarning:\n",
      "\n",
      "invalid value encountered in divide\n",
      "\n",
      "/Users/tristan.trebaol/Desktop/PhD/Code/pgmpy/pgmpy/factors/discrete/DiscreteFactor.py:796: RuntimeWarning:\n",
      "\n",
      "invalid value encountered in divide\n",
      "\n",
      "/Users/tristan.trebaol/Desktop/PhD/Code/pgmpy/pgmpy/factors/discrete/DiscreteFactor.py:796: RuntimeWarning:\n",
      "\n",
      "invalid value encountered in divide\n",
      "\n",
      "/Users/tristan.trebaol/Desktop/PhD/Code/pgmpy/pgmpy/factors/discrete/DiscreteFactor.py:796: RuntimeWarning:\n",
      "\n",
      "invalid value encountered in divide\n",
      "\n"
     ]
    },
    {
     "name": "stdout",
     "output_type": "stream",
     "text": [
      "Max FEV1 in the first 4 days, skipping ID 553\n",
      "days concse 2 days total 3\n"
     ]
    },
    {
     "name": "stderr",
     "output_type": "stream",
     "text": [
      "/Users/tristan.trebaol/Desktop/PhD/Code/pgmpy/pgmpy/factors/discrete/DiscreteFactor.py:796: RuntimeWarning:\n",
      "\n",
      "invalid value encountered in divide\n",
      "\n",
      "/Users/tristan.trebaol/Desktop/PhD/Code/pgmpy/pgmpy/factors/discrete/DiscreteFactor.py:796: RuntimeWarning:\n",
      "\n",
      "invalid value encountered in divide\n",
      "\n",
      "/Users/tristan.trebaol/Desktop/PhD/Code/pgmpy/pgmpy/factors/discrete/DiscreteFactor.py:796: RuntimeWarning:\n",
      "\n",
      "invalid value encountered in divide\n",
      "\n",
      "/Users/tristan.trebaol/Desktop/PhD/Code/pgmpy/pgmpy/factors/discrete/DiscreteFactor.py:796: RuntimeWarning:\n",
      "\n",
      "invalid value encountered in divide\n",
      "\n"
     ]
    },
    {
     "name": "stdout",
     "output_type": "stream",
     "text": [
      "Max FEV1 in the first 4 days, skipping ID 105\n"
     ]
    },
    {
     "name": "stderr",
     "output_type": "stream",
     "text": [
      "/Users/tristan.trebaol/Desktop/PhD/Code/pgmpy/pgmpy/factors/discrete/DiscreteFactor.py:796: RuntimeWarning:\n",
      "\n",
      "invalid value encountered in divide\n",
      "\n",
      "/Users/tristan.trebaol/Desktop/PhD/Code/pgmpy/pgmpy/factors/discrete/DiscreteFactor.py:796: RuntimeWarning:\n",
      "\n",
      "invalid value encountered in divide\n",
      "\n",
      "/Users/tristan.trebaol/Desktop/PhD/Code/pgmpy/pgmpy/factors/discrete/DiscreteFactor.py:796: RuntimeWarning:\n",
      "\n",
      "invalid value encountered in divide\n",
      "\n",
      "/Users/tristan.trebaol/Desktop/PhD/Code/pgmpy/pgmpy/factors/discrete/DiscreteFactor.py:796: RuntimeWarning:\n",
      "\n",
      "invalid value encountered in divide\n",
      "\n",
      "/Users/tristan.trebaol/Desktop/PhD/Code/pgmpy/pgmpy/factors/discrete/DiscreteFactor.py:796: RuntimeWarning:\n",
      "\n",
      "invalid value encountered in divide\n",
      "\n",
      "/Users/tristan.trebaol/Desktop/PhD/Code/pgmpy/pgmpy/factors/discrete/DiscreteFactor.py:796: RuntimeWarning:\n",
      "\n",
      "invalid value encountered in divide\n",
      "\n",
      "/Users/tristan.trebaol/Desktop/PhD/Code/pgmpy/pgmpy/factors/discrete/DiscreteFactor.py:796: RuntimeWarning:\n",
      "\n",
      "invalid value encountered in divide\n",
      "\n",
      "/Users/tristan.trebaol/Desktop/PhD/Code/pgmpy/pgmpy/factors/discrete/DiscreteFactor.py:796: RuntimeWarning:\n",
      "\n",
      "invalid value encountered in divide\n",
      "\n",
      "/Users/tristan.trebaol/Desktop/PhD/Code/pgmpy/pgmpy/factors/discrete/DiscreteFactor.py:796: RuntimeWarning:\n",
      "\n",
      "invalid value encountered in divide\n",
      "\n",
      "/Users/tristan.trebaol/Desktop/PhD/Code/pgmpy/pgmpy/factors/discrete/DiscreteFactor.py:796: RuntimeWarning:\n",
      "\n",
      "invalid value encountered in divide\n",
      "\n",
      "/Users/tristan.trebaol/Desktop/PhD/Code/pgmpy/pgmpy/factors/discrete/DiscreteFactor.py:796: RuntimeWarning:\n",
      "\n",
      "invalid value encountered in divide\n",
      "\n",
      "/Users/tristan.trebaol/Desktop/PhD/Code/pgmpy/pgmpy/factors/discrete/DiscreteFactor.py:796: RuntimeWarning:\n",
      "\n",
      "invalid value encountered in divide\n",
      "\n",
      "/Users/tristan.trebaol/Desktop/PhD/Code/pgmpy/pgmpy/factors/discrete/DiscreteFactor.py:796: RuntimeWarning:\n",
      "\n",
      "invalid value encountered in divide\n",
      "\n",
      "/Users/tristan.trebaol/Desktop/PhD/Code/pgmpy/pgmpy/factors/discrete/DiscreteFactor.py:796: RuntimeWarning:\n",
      "\n",
      "invalid value encountered in divide\n",
      "\n",
      "/Users/tristan.trebaol/Desktop/PhD/Code/pgmpy/pgmpy/factors/discrete/DiscreteFactor.py:796: RuntimeWarning:\n",
      "\n",
      "invalid value encountered in divide\n",
      "\n",
      "/Users/tristan.trebaol/Desktop/PhD/Code/pgmpy/pgmpy/factors/discrete/DiscreteFactor.py:796: RuntimeWarning:\n",
      "\n",
      "invalid value encountered in divide\n",
      "\n",
      "/Users/tristan.trebaol/Desktop/PhD/Code/pgmpy/pgmpy/factors/discrete/DiscreteFactor.py:796: RuntimeWarning:\n",
      "\n",
      "invalid value encountered in divide\n",
      "\n",
      "/Users/tristan.trebaol/Desktop/PhD/Code/pgmpy/pgmpy/factors/discrete/DiscreteFactor.py:796: RuntimeWarning:\n",
      "\n",
      "invalid value encountered in divide\n",
      "\n",
      "/Users/tristan.trebaol/Desktop/PhD/Code/pgmpy/pgmpy/factors/discrete/DiscreteFactor.py:796: RuntimeWarning:\n",
      "\n",
      "invalid value encountered in divide\n",
      "\n",
      "/Users/tristan.trebaol/Desktop/PhD/Code/pgmpy/pgmpy/factors/discrete/DiscreteFactor.py:796: RuntimeWarning:\n",
      "\n",
      "invalid value encountered in divide\n",
      "\n",
      "/Users/tristan.trebaol/Desktop/PhD/Code/pgmpy/pgmpy/factors/discrete/DiscreteFactor.py:796: RuntimeWarning:\n",
      "\n",
      "invalid value encountered in divide\n",
      "\n",
      "/Users/tristan.trebaol/Desktop/PhD/Code/pgmpy/pgmpy/factors/discrete/DiscreteFactor.py:796: RuntimeWarning:\n",
      "\n",
      "invalid value encountered in divide\n",
      "\n"
     ]
    },
    {
     "name": "stdout",
     "output_type": "stream",
     "text": [
      "Max FEV1 in the first 4 days, skipping ID 129\n"
     ]
    },
    {
     "name": "stderr",
     "output_type": "stream",
     "text": [
      "/Users/tristan.trebaol/Desktop/PhD/Code/pgmpy/pgmpy/factors/discrete/DiscreteFactor.py:796: RuntimeWarning:\n",
      "\n",
      "invalid value encountered in divide\n",
      "\n",
      "/Users/tristan.trebaol/Desktop/PhD/Code/pgmpy/pgmpy/factors/discrete/DiscreteFactor.py:796: RuntimeWarning:\n",
      "\n",
      "invalid value encountered in divide\n",
      "\n",
      "/Users/tristan.trebaol/Desktop/PhD/Code/pgmpy/pgmpy/factors/discrete/DiscreteFactor.py:796: RuntimeWarning:\n",
      "\n",
      "invalid value encountered in divide\n",
      "\n",
      "/Users/tristan.trebaol/Desktop/PhD/Code/pgmpy/pgmpy/factors/discrete/DiscreteFactor.py:796: RuntimeWarning:\n",
      "\n",
      "invalid value encountered in divide\n",
      "\n",
      "/Users/tristan.trebaol/Desktop/PhD/Code/pgmpy/pgmpy/factors/discrete/DiscreteFactor.py:796: RuntimeWarning:\n",
      "\n",
      "invalid value encountered in divide\n",
      "\n",
      "/Users/tristan.trebaol/Desktop/PhD/Code/pgmpy/pgmpy/factors/discrete/DiscreteFactor.py:796: RuntimeWarning:\n",
      "\n",
      "invalid value encountered in divide\n",
      "\n",
      "/Users/tristan.trebaol/Desktop/PhD/Code/pgmpy/pgmpy/factors/discrete/DiscreteFactor.py:796: RuntimeWarning:\n",
      "\n",
      "invalid value encountered in divide\n",
      "\n",
      "/Users/tristan.trebaol/Desktop/PhD/Code/pgmpy/pgmpy/factors/discrete/DiscreteFactor.py:796: RuntimeWarning:\n",
      "\n",
      "invalid value encountered in divide\n",
      "\n",
      "/Users/tristan.trebaol/Desktop/PhD/Code/pgmpy/pgmpy/factors/discrete/DiscreteFactor.py:796: RuntimeWarning:\n",
      "\n",
      "invalid value encountered in divide\n",
      "\n",
      "/Users/tristan.trebaol/Desktop/PhD/Code/pgmpy/pgmpy/factors/discrete/DiscreteFactor.py:796: RuntimeWarning:\n",
      "\n",
      "invalid value encountered in divide\n",
      "\n",
      "/Users/tristan.trebaol/Desktop/PhD/Code/pgmpy/pgmpy/factors/discrete/DiscreteFactor.py:796: RuntimeWarning:\n",
      "\n",
      "invalid value encountered in divide\n",
      "\n",
      "/Users/tristan.trebaol/Desktop/PhD/Code/pgmpy/pgmpy/factors/discrete/DiscreteFactor.py:796: RuntimeWarning:\n",
      "\n",
      "invalid value encountered in divide\n",
      "\n",
      "/Users/tristan.trebaol/Desktop/PhD/Code/pgmpy/pgmpy/factors/discrete/DiscreteFactor.py:796: RuntimeWarning:\n",
      "\n",
      "invalid value encountered in divide\n",
      "\n",
      "/Users/tristan.trebaol/Desktop/PhD/Code/pgmpy/pgmpy/factors/discrete/DiscreteFactor.py:796: RuntimeWarning:\n",
      "\n",
      "invalid value encountered in divide\n",
      "\n",
      "/Users/tristan.trebaol/Desktop/PhD/Code/pgmpy/pgmpy/factors/discrete/DiscreteFactor.py:796: RuntimeWarning:\n",
      "\n",
      "invalid value encountered in divide\n",
      "\n",
      "/Users/tristan.trebaol/Desktop/PhD/Code/pgmpy/pgmpy/factors/discrete/DiscreteFactor.py:796: RuntimeWarning:\n",
      "\n",
      "invalid value encountered in divide\n",
      "\n",
      "/Users/tristan.trebaol/Desktop/PhD/Code/pgmpy/pgmpy/factors/discrete/DiscreteFactor.py:796: RuntimeWarning:\n",
      "\n",
      "invalid value encountered in divide\n",
      "\n",
      "/Users/tristan.trebaol/Desktop/PhD/Code/pgmpy/pgmpy/factors/discrete/DiscreteFactor.py:796: RuntimeWarning:\n",
      "\n",
      "invalid value encountered in divide\n",
      "\n",
      "/Users/tristan.trebaol/Desktop/PhD/Code/pgmpy/pgmpy/factors/discrete/DiscreteFactor.py:796: RuntimeWarning:\n",
      "\n",
      "invalid value encountered in divide\n",
      "\n",
      "/Users/tristan.trebaol/Desktop/PhD/Code/pgmpy/pgmpy/factors/discrete/DiscreteFactor.py:796: RuntimeWarning:\n",
      "\n",
      "invalid value encountered in divide\n",
      "\n",
      "/Users/tristan.trebaol/Desktop/PhD/Code/pgmpy/pgmpy/factors/discrete/DiscreteFactor.py:796: RuntimeWarning:\n",
      "\n",
      "invalid value encountered in divide\n",
      "\n",
      "/Users/tristan.trebaol/Desktop/PhD/Code/pgmpy/pgmpy/factors/discrete/DiscreteFactor.py:796: RuntimeWarning:\n",
      "\n",
      "invalid value encountered in divide\n",
      "\n"
     ]
    },
    {
     "name": "stdout",
     "output_type": "stream",
     "text": [
      "Too few data, skipping ID 154\n"
     ]
    },
    {
     "name": "stderr",
     "output_type": "stream",
     "text": [
      "/Users/tristan.trebaol/Desktop/PhD/Code/pgmpy/pgmpy/factors/discrete/DiscreteFactor.py:796: RuntimeWarning:\n",
      "\n",
      "invalid value encountered in divide\n",
      "\n",
      "/Users/tristan.trebaol/Desktop/PhD/Code/pgmpy/pgmpy/factors/discrete/DiscreteFactor.py:796: RuntimeWarning:\n",
      "\n",
      "invalid value encountered in divide\n",
      "\n",
      "/Users/tristan.trebaol/Desktop/PhD/Code/pgmpy/pgmpy/factors/discrete/DiscreteFactor.py:796: RuntimeWarning:\n",
      "\n",
      "invalid value encountered in divide\n",
      "\n",
      "/Users/tristan.trebaol/Desktop/PhD/Code/pgmpy/pgmpy/factors/discrete/DiscreteFactor.py:796: RuntimeWarning:\n",
      "\n",
      "invalid value encountered in divide\n",
      "\n"
     ]
    },
    {
     "name": "stdout",
     "output_type": "stream",
     "text": [
      "Too few data, skipping ID 160\n"
     ]
    },
    {
     "name": "stderr",
     "output_type": "stream",
     "text": [
      "/Users/tristan.trebaol/Desktop/PhD/Code/pgmpy/pgmpy/factors/discrete/DiscreteFactor.py:796: RuntimeWarning:\n",
      "\n",
      "invalid value encountered in divide\n",
      "\n",
      "/Users/tristan.trebaol/Desktop/PhD/Code/pgmpy/pgmpy/factors/discrete/DiscreteFactor.py:796: RuntimeWarning:\n",
      "\n",
      "invalid value encountered in divide\n",
      "\n",
      "/Users/tristan.trebaol/Desktop/PhD/Code/pgmpy/pgmpy/factors/discrete/DiscreteFactor.py:796: RuntimeWarning:\n",
      "\n",
      "invalid value encountered in divide\n",
      "\n",
      "/Users/tristan.trebaol/Desktop/PhD/Code/pgmpy/pgmpy/factors/discrete/DiscreteFactor.py:796: RuntimeWarning:\n",
      "\n",
      "invalid value encountered in divide\n",
      "\n",
      "/Users/tristan.trebaol/Desktop/PhD/Code/pgmpy/pgmpy/factors/discrete/DiscreteFactor.py:796: RuntimeWarning:\n",
      "\n",
      "invalid value encountered in divide\n",
      "\n",
      "/Users/tristan.trebaol/Desktop/PhD/Code/pgmpy/pgmpy/factors/discrete/DiscreteFactor.py:796: RuntimeWarning:\n",
      "\n",
      "invalid value encountered in divide\n",
      "\n"
     ]
    },
    {
     "name": "stdout",
     "output_type": "stream",
     "text": [
      "Too few data, skipping ID 167\n",
      "Max FEV1 in the first 4 days, skipping ID 168\n"
     ]
    },
    {
     "name": "stderr",
     "output_type": "stream",
     "text": [
      "/Users/tristan.trebaol/Desktop/PhD/Code/pgmpy/pgmpy/factors/discrete/DiscreteFactor.py:796: RuntimeWarning:\n",
      "\n",
      "invalid value encountered in divide\n",
      "\n",
      "/Users/tristan.trebaol/Desktop/PhD/Code/pgmpy/pgmpy/factors/discrete/DiscreteFactor.py:796: RuntimeWarning:\n",
      "\n",
      "invalid value encountered in divide\n",
      "\n",
      "/Users/tristan.trebaol/Desktop/PhD/Code/pgmpy/pgmpy/factors/discrete/DiscreteFactor.py:796: RuntimeWarning:\n",
      "\n",
      "invalid value encountered in divide\n",
      "\n",
      "/Users/tristan.trebaol/Desktop/PhD/Code/pgmpy/pgmpy/factors/discrete/DiscreteFactor.py:796: RuntimeWarning:\n",
      "\n",
      "invalid value encountered in divide\n",
      "\n",
      "/Users/tristan.trebaol/Desktop/PhD/Code/pgmpy/pgmpy/factors/discrete/DiscreteFactor.py:796: RuntimeWarning:\n",
      "\n",
      "invalid value encountered in divide\n",
      "\n",
      "/Users/tristan.trebaol/Desktop/PhD/Code/pgmpy/pgmpy/factors/discrete/DiscreteFactor.py:796: RuntimeWarning:\n",
      "\n",
      "invalid value encountered in divide\n",
      "\n"
     ]
    },
    {
     "name": "stdout",
     "output_type": "stream",
     "text": [
      "Too few data, skipping ID 175\n"
     ]
    },
    {
     "name": "stderr",
     "output_type": "stream",
     "text": [
      "/Users/tristan.trebaol/Desktop/PhD/Code/pgmpy/pgmpy/factors/discrete/DiscreteFactor.py:796: RuntimeWarning:\n",
      "\n",
      "invalid value encountered in divide\n",
      "\n",
      "/Users/tristan.trebaol/Desktop/PhD/Code/pgmpy/pgmpy/factors/discrete/DiscreteFactor.py:796: RuntimeWarning:\n",
      "\n",
      "invalid value encountered in divide\n",
      "\n",
      "/Users/tristan.trebaol/Desktop/PhD/Code/pgmpy/pgmpy/factors/discrete/DiscreteFactor.py:796: RuntimeWarning:\n",
      "\n",
      "invalid value encountered in divide\n",
      "\n",
      "/Users/tristan.trebaol/Desktop/PhD/Code/pgmpy/pgmpy/factors/discrete/DiscreteFactor.py:796: RuntimeWarning:\n",
      "\n",
      "invalid value encountered in divide\n",
      "\n"
     ]
    },
    {
     "name": "stdout",
     "output_type": "stream",
     "text": [
      "Max FEV1 in the first 4 days, skipping ID 181\n",
      "Max FEV1 in the first 4 days, skipping ID 183\n"
     ]
    },
    {
     "name": "stderr",
     "output_type": "stream",
     "text": [
      "/Users/tristan.trebaol/Desktop/PhD/Code/pgmpy/pgmpy/factors/discrete/DiscreteFactor.py:796: RuntimeWarning:\n",
      "\n",
      "invalid value encountered in divide\n",
      "\n",
      "/Users/tristan.trebaol/Desktop/PhD/Code/pgmpy/pgmpy/factors/discrete/DiscreteFactor.py:796: RuntimeWarning:\n",
      "\n",
      "invalid value encountered in divide\n",
      "\n",
      "/Users/tristan.trebaol/Desktop/PhD/Code/pgmpy/pgmpy/factors/discrete/DiscreteFactor.py:796: RuntimeWarning:\n",
      "\n",
      "invalid value encountered in divide\n",
      "\n",
      "/Users/tristan.trebaol/Desktop/PhD/Code/pgmpy/pgmpy/factors/discrete/DiscreteFactor.py:796: RuntimeWarning:\n",
      "\n",
      "invalid value encountered in divide\n",
      "\n",
      "/Users/tristan.trebaol/Desktop/PhD/Code/pgmpy/pgmpy/factors/discrete/DiscreteFactor.py:796: RuntimeWarning:\n",
      "\n",
      "invalid value encountered in divide\n",
      "\n",
      "/Users/tristan.trebaol/Desktop/PhD/Code/pgmpy/pgmpy/factors/discrete/DiscreteFactor.py:796: RuntimeWarning:\n",
      "\n",
      "invalid value encountered in divide\n",
      "\n"
     ]
    },
    {
     "name": "stdout",
     "output_type": "stream",
     "text": [
      "Max FEV1 in the first 4 days, skipping ID 189\n"
     ]
    },
    {
     "name": "stderr",
     "output_type": "stream",
     "text": [
      "/Users/tristan.trebaol/Desktop/PhD/Code/pgmpy/pgmpy/factors/discrete/DiscreteFactor.py:796: RuntimeWarning:\n",
      "\n",
      "invalid value encountered in divide\n",
      "\n",
      "/Users/tristan.trebaol/Desktop/PhD/Code/pgmpy/pgmpy/factors/discrete/DiscreteFactor.py:796: RuntimeWarning:\n",
      "\n",
      "invalid value encountered in divide\n",
      "\n",
      "/Users/tristan.trebaol/Desktop/PhD/Code/pgmpy/pgmpy/factors/discrete/DiscreteFactor.py:796: RuntimeWarning:\n",
      "\n",
      "invalid value encountered in divide\n",
      "\n",
      "/Users/tristan.trebaol/Desktop/PhD/Code/pgmpy/pgmpy/factors/discrete/DiscreteFactor.py:796: RuntimeWarning:\n",
      "\n",
      "invalid value encountered in divide\n",
      "\n",
      "/Users/tristan.trebaol/Desktop/PhD/Code/pgmpy/pgmpy/factors/discrete/DiscreteFactor.py:796: RuntimeWarning:\n",
      "\n",
      "invalid value encountered in divide\n",
      "\n",
      "/Users/tristan.trebaol/Desktop/PhD/Code/pgmpy/pgmpy/factors/discrete/DiscreteFactor.py:796: RuntimeWarning:\n",
      "\n",
      "invalid value encountered in divide\n",
      "\n"
     ]
    },
    {
     "name": "stdout",
     "output_type": "stream",
     "text": [
      "Too few data, skipping ID 195\n"
     ]
    },
    {
     "name": "stderr",
     "output_type": "stream",
     "text": [
      "/Users/tristan.trebaol/Desktop/PhD/Code/pgmpy/pgmpy/factors/discrete/DiscreteFactor.py:796: RuntimeWarning:\n",
      "\n",
      "invalid value encountered in divide\n",
      "\n",
      "/Users/tristan.trebaol/Desktop/PhD/Code/pgmpy/pgmpy/factors/discrete/DiscreteFactor.py:796: RuntimeWarning:\n",
      "\n",
      "invalid value encountered in divide\n",
      "\n",
      "/Users/tristan.trebaol/Desktop/PhD/Code/pgmpy/pgmpy/factors/discrete/DiscreteFactor.py:796: RuntimeWarning:\n",
      "\n",
      "invalid value encountered in divide\n",
      "\n",
      "/Users/tristan.trebaol/Desktop/PhD/Code/pgmpy/pgmpy/factors/discrete/DiscreteFactor.py:796: RuntimeWarning:\n",
      "\n",
      "invalid value encountered in divide\n",
      "\n"
     ]
    },
    {
     "name": "stdout",
     "output_type": "stream",
     "text": [
      "Max FEV1 in the first 4 days, skipping ID 202\n"
     ]
    },
    {
     "name": "stderr",
     "output_type": "stream",
     "text": [
      "/Users/tristan.trebaol/Desktop/PhD/Code/pgmpy/pgmpy/factors/discrete/DiscreteFactor.py:796: RuntimeWarning:\n",
      "\n",
      "invalid value encountered in divide\n",
      "\n",
      "/Users/tristan.trebaol/Desktop/PhD/Code/pgmpy/pgmpy/factors/discrete/DiscreteFactor.py:796: RuntimeWarning:\n",
      "\n",
      "invalid value encountered in divide\n",
      "\n",
      "/Users/tristan.trebaol/Desktop/PhD/Code/pgmpy/pgmpy/factors/discrete/DiscreteFactor.py:796: RuntimeWarning:\n",
      "\n",
      "invalid value encountered in divide\n",
      "\n",
      "/Users/tristan.trebaol/Desktop/PhD/Code/pgmpy/pgmpy/factors/discrete/DiscreteFactor.py:796: RuntimeWarning:\n",
      "\n",
      "invalid value encountered in divide\n",
      "\n"
     ]
    },
    {
     "name": "stdout",
     "output_type": "stream",
     "text": [
      "Max FEV1 in the first 4 days, skipping ID 206\n",
      "Max FEV1 in the first 4 days, skipping ID 207\n",
      "Max FEV1 in the first 4 days, skipping ID 208\n"
     ]
    },
    {
     "name": "stderr",
     "output_type": "stream",
     "text": [
      "/Users/tristan.trebaol/Desktop/PhD/Code/pgmpy/pgmpy/factors/discrete/DiscreteFactor.py:796: RuntimeWarning:\n",
      "\n",
      "invalid value encountered in divide\n",
      "\n",
      "/Users/tristan.trebaol/Desktop/PhD/Code/pgmpy/pgmpy/factors/discrete/DiscreteFactor.py:796: RuntimeWarning:\n",
      "\n",
      "invalid value encountered in divide\n",
      "\n"
     ]
    },
    {
     "name": "stdout",
     "output_type": "stream",
     "text": [
      "Too few data, skipping ID 211\n",
      "Max FEV1 in the first 4 days, skipping ID 212\n",
      "Too few data, skipping ID 213\n",
      "Too few data, skipping ID 216\n"
     ]
    },
    {
     "name": "stderr",
     "output_type": "stream",
     "text": [
      "/Users/tristan.trebaol/Desktop/PhD/Code/pgmpy/pgmpy/factors/discrete/DiscreteFactor.py:796: RuntimeWarning:\n",
      "\n",
      "invalid value encountered in divide\n",
      "\n",
      "/Users/tristan.trebaol/Desktop/PhD/Code/pgmpy/pgmpy/factors/discrete/DiscreteFactor.py:796: RuntimeWarning:\n",
      "\n",
      "invalid value encountered in divide\n",
      "\n"
     ]
    },
    {
     "name": "stdout",
     "output_type": "stream",
     "text": [
      "Too few data, skipping ID 222\n"
     ]
    },
    {
     "name": "stderr",
     "output_type": "stream",
     "text": [
      "/Users/tristan.trebaol/Desktop/PhD/Code/pgmpy/pgmpy/factors/discrete/DiscreteFactor.py:796: RuntimeWarning:\n",
      "\n",
      "invalid value encountered in divide\n",
      "\n",
      "/Users/tristan.trebaol/Desktop/PhD/Code/pgmpy/pgmpy/factors/discrete/DiscreteFactor.py:796: RuntimeWarning:\n",
      "\n",
      "invalid value encountered in divide\n",
      "\n"
     ]
    },
    {
     "name": "stdout",
     "output_type": "stream",
     "text": [
      "Too few data, skipping ID 225\n"
     ]
    },
    {
     "name": "stderr",
     "output_type": "stream",
     "text": [
      "/Users/tristan.trebaol/Desktop/PhD/Code/pgmpy/pgmpy/factors/discrete/DiscreteFactor.py:796: RuntimeWarning:\n",
      "\n",
      "invalid value encountered in divide\n",
      "\n",
      "/Users/tristan.trebaol/Desktop/PhD/Code/pgmpy/pgmpy/factors/discrete/DiscreteFactor.py:796: RuntimeWarning:\n",
      "\n",
      "invalid value encountered in divide\n",
      "\n",
      "/Users/tristan.trebaol/Desktop/PhD/Code/pgmpy/pgmpy/factors/discrete/DiscreteFactor.py:796: RuntimeWarning:\n",
      "\n",
      "invalid value encountered in divide\n",
      "\n",
      "/Users/tristan.trebaol/Desktop/PhD/Code/pgmpy/pgmpy/factors/discrete/DiscreteFactor.py:796: RuntimeWarning:\n",
      "\n",
      "invalid value encountered in divide\n",
      "\n",
      "/Users/tristan.trebaol/Desktop/PhD/Code/pgmpy/pgmpy/factors/discrete/DiscreteFactor.py:796: RuntimeWarning:\n",
      "\n",
      "invalid value encountered in divide\n",
      "\n",
      "/Users/tristan.trebaol/Desktop/PhD/Code/pgmpy/pgmpy/factors/discrete/DiscreteFactor.py:796: RuntimeWarning:\n",
      "\n",
      "invalid value encountered in divide\n",
      "\n"
     ]
    },
    {
     "name": "stdout",
     "output_type": "stream",
     "text": [
      "Too few data, skipping ID 236\n"
     ]
    },
    {
     "name": "stderr",
     "output_type": "stream",
     "text": [
      "/Users/tristan.trebaol/Desktop/PhD/Code/pgmpy/pgmpy/factors/discrete/DiscreteFactor.py:796: RuntimeWarning:\n",
      "\n",
      "invalid value encountered in divide\n",
      "\n",
      "/Users/tristan.trebaol/Desktop/PhD/Code/pgmpy/pgmpy/factors/discrete/DiscreteFactor.py:796: RuntimeWarning:\n",
      "\n",
      "invalid value encountered in divide\n",
      "\n",
      "/Users/tristan.trebaol/Desktop/PhD/Code/pgmpy/pgmpy/factors/discrete/DiscreteFactor.py:796: RuntimeWarning:\n",
      "\n",
      "invalid value encountered in divide\n",
      "\n",
      "/Users/tristan.trebaol/Desktop/PhD/Code/pgmpy/pgmpy/factors/discrete/DiscreteFactor.py:796: RuntimeWarning:\n",
      "\n",
      "invalid value encountered in divide\n",
      "\n"
     ]
    },
    {
     "name": "stdout",
     "output_type": "stream",
     "text": [
      "Max FEV1 in the first 4 days, skipping ID 241\n"
     ]
    },
    {
     "name": "stderr",
     "output_type": "stream",
     "text": [
      "/Users/tristan.trebaol/Desktop/PhD/Code/pgmpy/pgmpy/factors/discrete/DiscreteFactor.py:796: RuntimeWarning:\n",
      "\n",
      "invalid value encountered in divide\n",
      "\n",
      "/Users/tristan.trebaol/Desktop/PhD/Code/pgmpy/pgmpy/factors/discrete/DiscreteFactor.py:796: RuntimeWarning:\n",
      "\n",
      "invalid value encountered in divide\n",
      "\n",
      "/Users/tristan.trebaol/Desktop/PhD/Code/pgmpy/pgmpy/factors/discrete/DiscreteFactor.py:796: RuntimeWarning:\n",
      "\n",
      "invalid value encountered in divide\n",
      "\n",
      "/Users/tristan.trebaol/Desktop/PhD/Code/pgmpy/pgmpy/factors/discrete/DiscreteFactor.py:796: RuntimeWarning:\n",
      "\n",
      "invalid value encountered in divide\n",
      "\n"
     ]
    },
    {
     "name": "stdout",
     "output_type": "stream",
     "text": [
      "Max FEV1 in the first 4 days, skipping ID 248\n"
     ]
    },
    {
     "name": "stderr",
     "output_type": "stream",
     "text": [
      "/Users/tristan.trebaol/Desktop/PhD/Code/pgmpy/pgmpy/factors/discrete/DiscreteFactor.py:796: RuntimeWarning:\n",
      "\n",
      "invalid value encountered in divide\n",
      "\n",
      "/Users/tristan.trebaol/Desktop/PhD/Code/pgmpy/pgmpy/factors/discrete/DiscreteFactor.py:796: RuntimeWarning:\n",
      "\n",
      "invalid value encountered in divide\n",
      "\n",
      "/Users/tristan.trebaol/Desktop/PhD/Code/pgmpy/pgmpy/factors/discrete/DiscreteFactor.py:796: RuntimeWarning:\n",
      "\n",
      "invalid value encountered in divide\n",
      "\n",
      "/Users/tristan.trebaol/Desktop/PhD/Code/pgmpy/pgmpy/factors/discrete/DiscreteFactor.py:796: RuntimeWarning:\n",
      "\n",
      "invalid value encountered in divide\n",
      "\n",
      "/Users/tristan.trebaol/Desktop/PhD/Code/pgmpy/pgmpy/factors/discrete/DiscreteFactor.py:796: RuntimeWarning:\n",
      "\n",
      "invalid value encountered in divide\n",
      "\n",
      "/Users/tristan.trebaol/Desktop/PhD/Code/pgmpy/pgmpy/factors/discrete/DiscreteFactor.py:796: RuntimeWarning:\n",
      "\n",
      "invalid value encountered in divide\n",
      "\n",
      "/Users/tristan.trebaol/Desktop/PhD/Code/pgmpy/pgmpy/factors/discrete/DiscreteFactor.py:796: RuntimeWarning:\n",
      "\n",
      "invalid value encountered in divide\n",
      "\n",
      "/Users/tristan.trebaol/Desktop/PhD/Code/pgmpy/pgmpy/factors/discrete/DiscreteFactor.py:796: RuntimeWarning:\n",
      "\n",
      "invalid value encountered in divide\n",
      "\n",
      "/Users/tristan.trebaol/Desktop/PhD/Code/pgmpy/pgmpy/factors/discrete/DiscreteFactor.py:796: RuntimeWarning:\n",
      "\n",
      "invalid value encountered in divide\n",
      "\n",
      "/Users/tristan.trebaol/Desktop/PhD/Code/pgmpy/pgmpy/factors/discrete/DiscreteFactor.py:796: RuntimeWarning:\n",
      "\n",
      "invalid value encountered in divide\n",
      "\n"
     ]
    },
    {
     "name": "stdout",
     "output_type": "stream",
     "text": [
      "Too few data, skipping ID 260\n"
     ]
    },
    {
     "name": "stderr",
     "output_type": "stream",
     "text": [
      "/Users/tristan.trebaol/Desktop/PhD/Code/pgmpy/pgmpy/factors/discrete/DiscreteFactor.py:796: RuntimeWarning:\n",
      "\n",
      "invalid value encountered in divide\n",
      "\n",
      "/Users/tristan.trebaol/Desktop/PhD/Code/pgmpy/pgmpy/factors/discrete/DiscreteFactor.py:796: RuntimeWarning:\n",
      "\n",
      "invalid value encountered in divide\n",
      "\n",
      "/Users/tristan.trebaol/Desktop/PhD/Code/pgmpy/pgmpy/factors/discrete/DiscreteFactor.py:796: RuntimeWarning:\n",
      "\n",
      "invalid value encountered in divide\n",
      "\n",
      "/Users/tristan.trebaol/Desktop/PhD/Code/pgmpy/pgmpy/factors/discrete/DiscreteFactor.py:796: RuntimeWarning:\n",
      "\n",
      "invalid value encountered in divide\n",
      "\n",
      "/Users/tristan.trebaol/Desktop/PhD/Code/pgmpy/pgmpy/factors/discrete/DiscreteFactor.py:796: RuntimeWarning:\n",
      "\n",
      "invalid value encountered in divide\n",
      "\n",
      "/Users/tristan.trebaol/Desktop/PhD/Code/pgmpy/pgmpy/factors/discrete/DiscreteFactor.py:796: RuntimeWarning:\n",
      "\n",
      "invalid value encountered in divide\n",
      "\n"
     ]
    },
    {
     "name": "stdout",
     "output_type": "stream",
     "text": [
      "Too few data, skipping ID 267\n"
     ]
    },
    {
     "name": "stderr",
     "output_type": "stream",
     "text": [
      "/Users/tristan.trebaol/Desktop/PhD/Code/pgmpy/pgmpy/factors/discrete/DiscreteFactor.py:796: RuntimeWarning:\n",
      "\n",
      "invalid value encountered in divide\n",
      "\n",
      "/Users/tristan.trebaol/Desktop/PhD/Code/pgmpy/pgmpy/factors/discrete/DiscreteFactor.py:796: RuntimeWarning:\n",
      "\n",
      "invalid value encountered in divide\n",
      "\n",
      "/Users/tristan.trebaol/Desktop/PhD/Code/pgmpy/pgmpy/factors/discrete/DiscreteFactor.py:796: RuntimeWarning:\n",
      "\n",
      "invalid value encountered in divide\n",
      "\n",
      "/Users/tristan.trebaol/Desktop/PhD/Code/pgmpy/pgmpy/factors/discrete/DiscreteFactor.py:796: RuntimeWarning:\n",
      "\n",
      "invalid value encountered in divide\n",
      "\n",
      "/Users/tristan.trebaol/Desktop/PhD/Code/pgmpy/pgmpy/factors/discrete/DiscreteFactor.py:796: RuntimeWarning:\n",
      "\n",
      "invalid value encountered in divide\n",
      "\n",
      "/Users/tristan.trebaol/Desktop/PhD/Code/pgmpy/pgmpy/factors/discrete/DiscreteFactor.py:796: RuntimeWarning:\n",
      "\n",
      "invalid value encountered in divide\n",
      "\n",
      "/Users/tristan.trebaol/Desktop/PhD/Code/pgmpy/pgmpy/factors/discrete/DiscreteFactor.py:796: RuntimeWarning:\n",
      "\n",
      "invalid value encountered in divide\n",
      "\n",
      "/Users/tristan.trebaol/Desktop/PhD/Code/pgmpy/pgmpy/factors/discrete/DiscreteFactor.py:796: RuntimeWarning:\n",
      "\n",
      "invalid value encountered in divide\n",
      "\n",
      "/Users/tristan.trebaol/Desktop/PhD/Code/pgmpy/pgmpy/factors/discrete/DiscreteFactor.py:796: RuntimeWarning:\n",
      "\n",
      "invalid value encountered in divide\n",
      "\n",
      "/Users/tristan.trebaol/Desktop/PhD/Code/pgmpy/pgmpy/factors/discrete/DiscreteFactor.py:796: RuntimeWarning:\n",
      "\n",
      "invalid value encountered in divide\n",
      "\n",
      "/Users/tristan.trebaol/Desktop/PhD/Code/pgmpy/pgmpy/factors/discrete/DiscreteFactor.py:796: RuntimeWarning:\n",
      "\n",
      "invalid value encountered in divide\n",
      "\n",
      "/Users/tristan.trebaol/Desktop/PhD/Code/pgmpy/pgmpy/factors/discrete/DiscreteFactor.py:796: RuntimeWarning:\n",
      "\n",
      "invalid value encountered in divide\n",
      "\n",
      "/Users/tristan.trebaol/Desktop/PhD/Code/pgmpy/pgmpy/factors/discrete/DiscreteFactor.py:796: RuntimeWarning:\n",
      "\n",
      "invalid value encountered in divide\n",
      "\n",
      "/Users/tristan.trebaol/Desktop/PhD/Code/pgmpy/pgmpy/factors/discrete/DiscreteFactor.py:796: RuntimeWarning:\n",
      "\n",
      "invalid value encountered in divide\n",
      "\n"
     ]
    },
    {
     "name": "stdout",
     "output_type": "stream",
     "text": [
      "Max FEV1 in the first 4 days, skipping ID 285\n",
      "Too few data, skipping ID 288\n"
     ]
    },
    {
     "name": "stderr",
     "output_type": "stream",
     "text": [
      "/Users/tristan.trebaol/Desktop/PhD/Code/pgmpy/pgmpy/factors/discrete/DiscreteFactor.py:796: RuntimeWarning:\n",
      "\n",
      "invalid value encountered in divide\n",
      "\n",
      "/Users/tristan.trebaol/Desktop/PhD/Code/pgmpy/pgmpy/factors/discrete/DiscreteFactor.py:796: RuntimeWarning:\n",
      "\n",
      "invalid value encountered in divide\n",
      "\n",
      "/Users/tristan.trebaol/Desktop/PhD/Code/pgmpy/pgmpy/factors/discrete/DiscreteFactor.py:796: RuntimeWarning:\n",
      "\n",
      "invalid value encountered in divide\n",
      "\n",
      "/Users/tristan.trebaol/Desktop/PhD/Code/pgmpy/pgmpy/factors/discrete/DiscreteFactor.py:796: RuntimeWarning:\n",
      "\n",
      "invalid value encountered in divide\n",
      "\n",
      "/Users/tristan.trebaol/Desktop/PhD/Code/pgmpy/pgmpy/factors/discrete/DiscreteFactor.py:796: RuntimeWarning:\n",
      "\n",
      "invalid value encountered in divide\n",
      "\n",
      "/Users/tristan.trebaol/Desktop/PhD/Code/pgmpy/pgmpy/factors/discrete/DiscreteFactor.py:796: RuntimeWarning:\n",
      "\n",
      "invalid value encountered in divide\n",
      "\n",
      "/Users/tristan.trebaol/Desktop/PhD/Code/pgmpy/pgmpy/factors/discrete/DiscreteFactor.py:796: RuntimeWarning:\n",
      "\n",
      "invalid value encountered in divide\n",
      "\n",
      "/Users/tristan.trebaol/Desktop/PhD/Code/pgmpy/pgmpy/factors/discrete/DiscreteFactor.py:796: RuntimeWarning:\n",
      "\n",
      "invalid value encountered in divide\n",
      "\n",
      "/Users/tristan.trebaol/Desktop/PhD/Code/pgmpy/pgmpy/factors/discrete/DiscreteFactor.py:796: RuntimeWarning:\n",
      "\n",
      "invalid value encountered in divide\n",
      "\n",
      "/Users/tristan.trebaol/Desktop/PhD/Code/pgmpy/pgmpy/factors/discrete/DiscreteFactor.py:796: RuntimeWarning:\n",
      "\n",
      "invalid value encountered in divide\n",
      "\n",
      "/Users/tristan.trebaol/Desktop/PhD/Code/pgmpy/pgmpy/factors/discrete/DiscreteFactor.py:796: RuntimeWarning:\n",
      "\n",
      "invalid value encountered in divide\n",
      "\n",
      "/Users/tristan.trebaol/Desktop/PhD/Code/pgmpy/pgmpy/factors/discrete/DiscreteFactor.py:796: RuntimeWarning:\n",
      "\n",
      "invalid value encountered in divide\n",
      "\n",
      "/Users/tristan.trebaol/Desktop/PhD/Code/pgmpy/pgmpy/factors/discrete/DiscreteFactor.py:796: RuntimeWarning:\n",
      "\n",
      "invalid value encountered in divide\n",
      "\n",
      "/Users/tristan.trebaol/Desktop/PhD/Code/pgmpy/pgmpy/factors/discrete/DiscreteFactor.py:796: RuntimeWarning:\n",
      "\n",
      "invalid value encountered in divide\n",
      "\n",
      "/Users/tristan.trebaol/Desktop/PhD/Code/pgmpy/pgmpy/factors/discrete/DiscreteFactor.py:796: RuntimeWarning:\n",
      "\n",
      "invalid value encountered in divide\n",
      "\n",
      "/Users/tristan.trebaol/Desktop/PhD/Code/pgmpy/pgmpy/factors/discrete/DiscreteFactor.py:796: RuntimeWarning:\n",
      "\n",
      "invalid value encountered in divide\n",
      "\n"
     ]
    },
    {
     "name": "stdout",
     "output_type": "stream",
     "text": [
      "Too few data, skipping ID 305\n"
     ]
    },
    {
     "name": "stderr",
     "output_type": "stream",
     "text": [
      "/Users/tristan.trebaol/Desktop/PhD/Code/pgmpy/pgmpy/factors/discrete/DiscreteFactor.py:796: RuntimeWarning:\n",
      "\n",
      "invalid value encountered in divide\n",
      "\n",
      "/Users/tristan.trebaol/Desktop/PhD/Code/pgmpy/pgmpy/factors/discrete/DiscreteFactor.py:796: RuntimeWarning:\n",
      "\n",
      "invalid value encountered in divide\n",
      "\n"
     ]
    },
    {
     "name": "stdout",
     "output_type": "stream",
     "text": [
      "Too few data, skipping ID 308\n"
     ]
    },
    {
     "name": "stderr",
     "output_type": "stream",
     "text": [
      "/Users/tristan.trebaol/Desktop/PhD/Code/pgmpy/pgmpy/factors/discrete/DiscreteFactor.py:796: RuntimeWarning:\n",
      "\n",
      "invalid value encountered in divide\n",
      "\n",
      "/Users/tristan.trebaol/Desktop/PhD/Code/pgmpy/pgmpy/factors/discrete/DiscreteFactor.py:796: RuntimeWarning:\n",
      "\n",
      "invalid value encountered in divide\n",
      "\n",
      "/Users/tristan.trebaol/Desktop/PhD/Code/pgmpy/pgmpy/factors/discrete/DiscreteFactor.py:796: RuntimeWarning:\n",
      "\n",
      "invalid value encountered in divide\n",
      "\n",
      "/Users/tristan.trebaol/Desktop/PhD/Code/pgmpy/pgmpy/factors/discrete/DiscreteFactor.py:796: RuntimeWarning:\n",
      "\n",
      "invalid value encountered in divide\n",
      "\n"
     ]
    },
    {
     "name": "stdout",
     "output_type": "stream",
     "text": [
      "Max FEV1 in the first 4 days, skipping ID 313\n"
     ]
    },
    {
     "name": "stderr",
     "output_type": "stream",
     "text": [
      "/Users/tristan.trebaol/Desktop/PhD/Code/pgmpy/pgmpy/factors/discrete/DiscreteFactor.py:796: RuntimeWarning:\n",
      "\n",
      "invalid value encountered in divide\n",
      "\n",
      "/Users/tristan.trebaol/Desktop/PhD/Code/pgmpy/pgmpy/factors/discrete/DiscreteFactor.py:796: RuntimeWarning:\n",
      "\n",
      "invalid value encountered in divide\n",
      "\n"
     ]
    },
    {
     "name": "stdout",
     "output_type": "stream",
     "text": [
      "Too few data, skipping ID 316\n",
      "Max FEV1 in the first 4 days, skipping ID 318\n"
     ]
    },
    {
     "name": "stderr",
     "output_type": "stream",
     "text": [
      "/Users/tristan.trebaol/Desktop/PhD/Code/pgmpy/pgmpy/factors/discrete/DiscreteFactor.py:796: RuntimeWarning:\n",
      "\n",
      "invalid value encountered in divide\n",
      "\n",
      "/Users/tristan.trebaol/Desktop/PhD/Code/pgmpy/pgmpy/factors/discrete/DiscreteFactor.py:796: RuntimeWarning:\n",
      "\n",
      "invalid value encountered in divide\n",
      "\n"
     ]
    },
    {
     "name": "stdout",
     "output_type": "stream",
     "text": [
      "Too few data, skipping ID 320\n",
      "Too few data, skipping ID 321\n",
      "Max FEV1 in the first 4 days, skipping ID 327\n"
     ]
    },
    {
     "name": "stderr",
     "output_type": "stream",
     "text": [
      "/Users/tristan.trebaol/Desktop/PhD/Code/pgmpy/pgmpy/factors/discrete/DiscreteFactor.py:796: RuntimeWarning:\n",
      "\n",
      "invalid value encountered in divide\n",
      "\n",
      "/Users/tristan.trebaol/Desktop/PhD/Code/pgmpy/pgmpy/factors/discrete/DiscreteFactor.py:796: RuntimeWarning:\n",
      "\n",
      "invalid value encountered in divide\n",
      "\n"
     ]
    },
    {
     "name": "stdout",
     "output_type": "stream",
     "text": [
      "Too few data, skipping ID 333\n"
     ]
    },
    {
     "name": "stderr",
     "output_type": "stream",
     "text": [
      "/Users/tristan.trebaol/Desktop/PhD/Code/pgmpy/pgmpy/factors/discrete/DiscreteFactor.py:796: RuntimeWarning:\n",
      "\n",
      "invalid value encountered in divide\n",
      "\n",
      "/Users/tristan.trebaol/Desktop/PhD/Code/pgmpy/pgmpy/factors/discrete/DiscreteFactor.py:796: RuntimeWarning:\n",
      "\n",
      "invalid value encountered in divide\n",
      "\n"
     ]
    },
    {
     "name": "stdout",
     "output_type": "stream",
     "text": [
      "Too few data, skipping ID 337\n",
      "Too few data, skipping ID 338\n",
      "Too few data, skipping ID 340\n"
     ]
    },
    {
     "name": "stderr",
     "output_type": "stream",
     "text": [
      "/Users/tristan.trebaol/Desktop/PhD/Code/pgmpy/pgmpy/factors/discrete/DiscreteFactor.py:796: RuntimeWarning:\n",
      "\n",
      "invalid value encountered in divide\n",
      "\n",
      "/Users/tristan.trebaol/Desktop/PhD/Code/pgmpy/pgmpy/factors/discrete/DiscreteFactor.py:796: RuntimeWarning:\n",
      "\n",
      "invalid value encountered in divide\n",
      "\n"
     ]
    },
    {
     "name": "stdout",
     "output_type": "stream",
     "text": [
      "Max FEV1 in the first 4 days, skipping ID 345\n"
     ]
    },
    {
     "name": "stderr",
     "output_type": "stream",
     "text": [
      "/Users/tristan.trebaol/Desktop/PhD/Code/pgmpy/pgmpy/factors/discrete/DiscreteFactor.py:796: RuntimeWarning:\n",
      "\n",
      "invalid value encountered in divide\n",
      "\n",
      "/Users/tristan.trebaol/Desktop/PhD/Code/pgmpy/pgmpy/factors/discrete/DiscreteFactor.py:796: RuntimeWarning:\n",
      "\n",
      "invalid value encountered in divide\n",
      "\n",
      "/Users/tristan.trebaol/Desktop/PhD/Code/pgmpy/pgmpy/factors/discrete/DiscreteFactor.py:796: RuntimeWarning:\n",
      "\n",
      "invalid value encountered in divide\n",
      "\n",
      "/Users/tristan.trebaol/Desktop/PhD/Code/pgmpy/pgmpy/factors/discrete/DiscreteFactor.py:796: RuntimeWarning:\n",
      "\n",
      "invalid value encountered in divide\n",
      "\n"
     ]
    },
    {
     "name": "stdout",
     "output_type": "stream",
     "text": [
      "Too few data, skipping ID 354\n",
      "Too few data, skipping ID 355\n",
      "Max FEV1 in the first 4 days, skipping ID 357\n",
      "Max FEV1 in the first 4 days, skipping ID 358\n",
      "Max FEV1 in the first 4 days, skipping ID 359\n",
      "Max FEV1 in the first 4 days, skipping ID 361\n"
     ]
    },
    {
     "name": "stderr",
     "output_type": "stream",
     "text": [
      "/Users/tristan.trebaol/Desktop/PhD/Code/pgmpy/pgmpy/factors/discrete/DiscreteFactor.py:796: RuntimeWarning:\n",
      "\n",
      "invalid value encountered in divide\n",
      "\n",
      "/Users/tristan.trebaol/Desktop/PhD/Code/pgmpy/pgmpy/factors/discrete/DiscreteFactor.py:796: RuntimeWarning:\n",
      "\n",
      "invalid value encountered in divide\n",
      "\n"
     ]
    },
    {
     "name": "stdout",
     "output_type": "stream",
     "text": [
      "Too few data, skipping ID 367\n",
      "Max FEV1 in the first 4 days, skipping ID 370\n"
     ]
    },
    {
     "name": "stderr",
     "output_type": "stream",
     "text": [
      "/Users/tristan.trebaol/Desktop/PhD/Code/pgmpy/pgmpy/factors/discrete/DiscreteFactor.py:796: RuntimeWarning:\n",
      "\n",
      "invalid value encountered in divide\n",
      "\n",
      "/Users/tristan.trebaol/Desktop/PhD/Code/pgmpy/pgmpy/factors/discrete/DiscreteFactor.py:796: RuntimeWarning:\n",
      "\n",
      "invalid value encountered in divide\n",
      "\n"
     ]
    },
    {
     "name": "stdout",
     "output_type": "stream",
     "text": [
      "Too few data, skipping ID 376\n"
     ]
    },
    {
     "name": "stderr",
     "output_type": "stream",
     "text": [
      "/Users/tristan.trebaol/Desktop/PhD/Code/pgmpy/pgmpy/factors/discrete/DiscreteFactor.py:796: RuntimeWarning:\n",
      "\n",
      "invalid value encountered in divide\n",
      "\n",
      "/Users/tristan.trebaol/Desktop/PhD/Code/pgmpy/pgmpy/factors/discrete/DiscreteFactor.py:796: RuntimeWarning:\n",
      "\n",
      "invalid value encountered in divide\n",
      "\n",
      "/Users/tristan.trebaol/Desktop/PhD/Code/pgmpy/pgmpy/factors/discrete/DiscreteFactor.py:796: RuntimeWarning:\n",
      "\n",
      "invalid value encountered in divide\n",
      "\n",
      "/Users/tristan.trebaol/Desktop/PhD/Code/pgmpy/pgmpy/factors/discrete/DiscreteFactor.py:796: RuntimeWarning:\n",
      "\n",
      "invalid value encountered in divide\n",
      "\n"
     ]
    },
    {
     "name": "stdout",
     "output_type": "stream",
     "text": [
      "Too few data, skipping ID 382\n",
      "Too few data, skipping ID 385\n",
      "Too few data, skipping ID 386\n"
     ]
    },
    {
     "name": "stderr",
     "output_type": "stream",
     "text": [
      "/Users/tristan.trebaol/Desktop/PhD/Code/pgmpy/pgmpy/factors/discrete/DiscreteFactor.py:796: RuntimeWarning:\n",
      "\n",
      "invalid value encountered in divide\n",
      "\n",
      "/Users/tristan.trebaol/Desktop/PhD/Code/pgmpy/pgmpy/factors/discrete/DiscreteFactor.py:796: RuntimeWarning:\n",
      "\n",
      "invalid value encountered in divide\n",
      "\n"
     ]
    },
    {
     "name": "stdout",
     "output_type": "stream",
     "text": [
      "Too few data, skipping ID 392\n"
     ]
    },
    {
     "name": "stderr",
     "output_type": "stream",
     "text": [
      "/Users/tristan.trebaol/Desktop/PhD/Code/pgmpy/pgmpy/factors/discrete/DiscreteFactor.py:796: RuntimeWarning:\n",
      "\n",
      "invalid value encountered in divide\n",
      "\n",
      "/Users/tristan.trebaol/Desktop/PhD/Code/pgmpy/pgmpy/factors/discrete/DiscreteFactor.py:796: RuntimeWarning:\n",
      "\n",
      "invalid value encountered in divide\n",
      "\n"
     ]
    },
    {
     "name": "stdout",
     "output_type": "stream",
     "text": [
      "Too few data, skipping ID 396\n",
      "Too few data, skipping ID 402\n"
     ]
    },
    {
     "name": "stderr",
     "output_type": "stream",
     "text": [
      "/Users/tristan.trebaol/Desktop/PhD/Code/pgmpy/pgmpy/factors/discrete/DiscreteFactor.py:796: RuntimeWarning:\n",
      "\n",
      "invalid value encountered in divide\n",
      "\n",
      "/Users/tristan.trebaol/Desktop/PhD/Code/pgmpy/pgmpy/factors/discrete/DiscreteFactor.py:796: RuntimeWarning:\n",
      "\n",
      "invalid value encountered in divide\n",
      "\n",
      "/Users/tristan.trebaol/Desktop/PhD/Code/pgmpy/pgmpy/factors/discrete/DiscreteFactor.py:796: RuntimeWarning:\n",
      "\n",
      "invalid value encountered in divide\n",
      "\n",
      "/Users/tristan.trebaol/Desktop/PhD/Code/pgmpy/pgmpy/factors/discrete/DiscreteFactor.py:796: RuntimeWarning:\n",
      "\n",
      "invalid value encountered in divide\n",
      "\n",
      "/Users/tristan.trebaol/Desktop/PhD/Code/pgmpy/pgmpy/factors/discrete/DiscreteFactor.py:796: RuntimeWarning:\n",
      "\n",
      "invalid value encountered in divide\n",
      "\n",
      "/Users/tristan.trebaol/Desktop/PhD/Code/pgmpy/pgmpy/factors/discrete/DiscreteFactor.py:796: RuntimeWarning:\n",
      "\n",
      "invalid value encountered in divide\n",
      "\n",
      "/Users/tristan.trebaol/Desktop/PhD/Code/pgmpy/pgmpy/factors/discrete/DiscreteFactor.py:796: RuntimeWarning:\n",
      "\n",
      "invalid value encountered in divide\n",
      "\n",
      "/Users/tristan.trebaol/Desktop/PhD/Code/pgmpy/pgmpy/factors/discrete/DiscreteFactor.py:796: RuntimeWarning:\n",
      "\n",
      "invalid value encountered in divide\n",
      "\n"
     ]
    },
    {
     "name": "stdout",
     "output_type": "stream",
     "text": [
      "Max FEV1 in the first 4 days, skipping ID 411\n"
     ]
    },
    {
     "name": "stderr",
     "output_type": "stream",
     "text": [
      "/Users/tristan.trebaol/Desktop/PhD/Code/pgmpy/pgmpy/factors/discrete/DiscreteFactor.py:796: RuntimeWarning:\n",
      "\n",
      "invalid value encountered in divide\n",
      "\n",
      "/Users/tristan.trebaol/Desktop/PhD/Code/pgmpy/pgmpy/factors/discrete/DiscreteFactor.py:796: RuntimeWarning:\n",
      "\n",
      "invalid value encountered in divide\n",
      "\n"
     ]
    },
    {
     "name": "stdout",
     "output_type": "stream",
     "text": [
      "Max FEV1 in the first 4 days, skipping ID 414\n"
     ]
    },
    {
     "name": "stderr",
     "output_type": "stream",
     "text": [
      "/Users/tristan.trebaol/Desktop/PhD/Code/pgmpy/pgmpy/factors/discrete/DiscreteFactor.py:796: RuntimeWarning:\n",
      "\n",
      "invalid value encountered in divide\n",
      "\n",
      "/Users/tristan.trebaol/Desktop/PhD/Code/pgmpy/pgmpy/factors/discrete/DiscreteFactor.py:796: RuntimeWarning:\n",
      "\n",
      "invalid value encountered in divide\n",
      "\n",
      "/Users/tristan.trebaol/Desktop/PhD/Code/pgmpy/pgmpy/factors/discrete/DiscreteFactor.py:796: RuntimeWarning:\n",
      "\n",
      "invalid value encountered in divide\n",
      "\n",
      "/Users/tristan.trebaol/Desktop/PhD/Code/pgmpy/pgmpy/factors/discrete/DiscreteFactor.py:796: RuntimeWarning:\n",
      "\n",
      "invalid value encountered in divide\n",
      "\n"
     ]
    },
    {
     "name": "stdout",
     "output_type": "stream",
     "text": [
      "Max FEV1 in the first 4 days, skipping ID 419\n"
     ]
    },
    {
     "name": "stderr",
     "output_type": "stream",
     "text": [
      "/Users/tristan.trebaol/Desktop/PhD/Code/pgmpy/pgmpy/factors/discrete/DiscreteFactor.py:796: RuntimeWarning:\n",
      "\n",
      "invalid value encountered in divide\n",
      "\n",
      "/Users/tristan.trebaol/Desktop/PhD/Code/pgmpy/pgmpy/factors/discrete/DiscreteFactor.py:796: RuntimeWarning:\n",
      "\n",
      "invalid value encountered in divide\n",
      "\n",
      "/Users/tristan.trebaol/Desktop/PhD/Code/pgmpy/pgmpy/factors/discrete/DiscreteFactor.py:796: RuntimeWarning:\n",
      "\n",
      "invalid value encountered in divide\n",
      "\n",
      "/Users/tristan.trebaol/Desktop/PhD/Code/pgmpy/pgmpy/factors/discrete/DiscreteFactor.py:796: RuntimeWarning:\n",
      "\n",
      "invalid value encountered in divide\n",
      "\n",
      "/Users/tristan.trebaol/Desktop/PhD/Code/pgmpy/pgmpy/factors/discrete/DiscreteFactor.py:796: RuntimeWarning:\n",
      "\n",
      "invalid value encountered in divide\n",
      "\n",
      "/Users/tristan.trebaol/Desktop/PhD/Code/pgmpy/pgmpy/factors/discrete/DiscreteFactor.py:796: RuntimeWarning:\n",
      "\n",
      "invalid value encountered in divide\n",
      "\n"
     ]
    },
    {
     "name": "stdout",
     "output_type": "stream",
     "text": [
      "Too few data, skipping ID 428\n",
      "Too few data, skipping ID 429\n"
     ]
    },
    {
     "name": "stderr",
     "output_type": "stream",
     "text": [
      "/Users/tristan.trebaol/Desktop/PhD/Code/pgmpy/pgmpy/factors/discrete/DiscreteFactor.py:796: RuntimeWarning:\n",
      "\n",
      "invalid value encountered in divide\n",
      "\n",
      "/Users/tristan.trebaol/Desktop/PhD/Code/pgmpy/pgmpy/factors/discrete/DiscreteFactor.py:796: RuntimeWarning:\n",
      "\n",
      "invalid value encountered in divide\n",
      "\n",
      "/Users/tristan.trebaol/Desktop/PhD/Code/pgmpy/pgmpy/factors/discrete/DiscreteFactor.py:796: RuntimeWarning:\n",
      "\n",
      "invalid value encountered in divide\n",
      "\n",
      "/Users/tristan.trebaol/Desktop/PhD/Code/pgmpy/pgmpy/factors/discrete/DiscreteFactor.py:796: RuntimeWarning:\n",
      "\n",
      "invalid value encountered in divide\n",
      "\n",
      "/Users/tristan.trebaol/Desktop/PhD/Code/pgmpy/pgmpy/factors/discrete/DiscreteFactor.py:796: RuntimeWarning:\n",
      "\n",
      "invalid value encountered in divide\n",
      "\n",
      "/Users/tristan.trebaol/Desktop/PhD/Code/pgmpy/pgmpy/factors/discrete/DiscreteFactor.py:796: RuntimeWarning:\n",
      "\n",
      "invalid value encountered in divide\n",
      "\n"
     ]
    },
    {
     "name": "stdout",
     "output_type": "stream",
     "text": [
      "Max FEV1 in the first 4 days, skipping ID 440\n",
      "Max FEV1 in the first 4 days, skipping ID 441\n",
      "Max FEV1 in the first 4 days, skipping ID 443\n",
      "Max FEV1 in the first 4 days, skipping ID 444\n"
     ]
    },
    {
     "name": "stderr",
     "output_type": "stream",
     "text": [
      "/Users/tristan.trebaol/Desktop/PhD/Code/pgmpy/pgmpy/factors/discrete/DiscreteFactor.py:796: RuntimeWarning:\n",
      "\n",
      "invalid value encountered in divide\n",
      "\n",
      "/Users/tristan.trebaol/Desktop/PhD/Code/pgmpy/pgmpy/factors/discrete/DiscreteFactor.py:796: RuntimeWarning:\n",
      "\n",
      "invalid value encountered in divide\n",
      "\n"
     ]
    },
    {
     "name": "stdout",
     "output_type": "stream",
     "text": [
      "Max FEV1 in the first 4 days, skipping ID 448\n",
      "Too few data, skipping ID 451\n",
      "Max FEV1 in the first 4 days, skipping ID 452\n",
      "Too few data, skipping ID 454\n"
     ]
    },
    {
     "name": "stderr",
     "output_type": "stream",
     "text": [
      "/Users/tristan.trebaol/Desktop/PhD/Code/pgmpy/pgmpy/factors/discrete/DiscreteFactor.py:796: RuntimeWarning:\n",
      "\n",
      "invalid value encountered in divide\n",
      "\n",
      "/Users/tristan.trebaol/Desktop/PhD/Code/pgmpy/pgmpy/factors/discrete/DiscreteFactor.py:796: RuntimeWarning:\n",
      "\n",
      "invalid value encountered in divide\n",
      "\n"
     ]
    },
    {
     "name": "stdout",
     "output_type": "stream",
     "text": [
      "Max FEV1 in the first 4 days, skipping ID 461\n",
      "Max FEV1 in the first 4 days, skipping ID 467\n"
     ]
    },
    {
     "name": "stderr",
     "output_type": "stream",
     "text": [
      "/Users/tristan.trebaol/Desktop/PhD/Code/pgmpy/pgmpy/factors/discrete/DiscreteFactor.py:796: RuntimeWarning:\n",
      "\n",
      "invalid value encountered in divide\n",
      "\n",
      "/Users/tristan.trebaol/Desktop/PhD/Code/pgmpy/pgmpy/factors/discrete/DiscreteFactor.py:796: RuntimeWarning:\n",
      "\n",
      "invalid value encountered in divide\n",
      "\n",
      "/Users/tristan.trebaol/Desktop/PhD/Code/pgmpy/pgmpy/factors/discrete/DiscreteFactor.py:796: RuntimeWarning:\n",
      "\n",
      "invalid value encountered in divide\n",
      "\n",
      "/Users/tristan.trebaol/Desktop/PhD/Code/pgmpy/pgmpy/factors/discrete/DiscreteFactor.py:796: RuntimeWarning:\n",
      "\n",
      "invalid value encountered in divide\n",
      "\n",
      "/Users/tristan.trebaol/Desktop/PhD/Code/pgmpy/pgmpy/factors/discrete/DiscreteFactor.py:796: RuntimeWarning:\n",
      "\n",
      "invalid value encountered in divide\n",
      "\n",
      "/Users/tristan.trebaol/Desktop/PhD/Code/pgmpy/pgmpy/factors/discrete/DiscreteFactor.py:796: RuntimeWarning:\n",
      "\n",
      "invalid value encountered in divide\n",
      "\n",
      "/Users/tristan.trebaol/Desktop/PhD/Code/pgmpy/pgmpy/factors/discrete/DiscreteFactor.py:796: RuntimeWarning:\n",
      "\n",
      "invalid value encountered in divide\n",
      "\n",
      "/Users/tristan.trebaol/Desktop/PhD/Code/pgmpy/pgmpy/factors/discrete/DiscreteFactor.py:796: RuntimeWarning:\n",
      "\n",
      "invalid value encountered in divide\n",
      "\n",
      "/Users/tristan.trebaol/Desktop/PhD/Code/pgmpy/pgmpy/factors/discrete/DiscreteFactor.py:796: RuntimeWarning:\n",
      "\n",
      "invalid value encountered in divide\n",
      "\n",
      "/Users/tristan.trebaol/Desktop/PhD/Code/pgmpy/pgmpy/factors/discrete/DiscreteFactor.py:796: RuntimeWarning:\n",
      "\n",
      "invalid value encountered in divide\n",
      "\n"
     ]
    },
    {
     "name": "stdout",
     "output_type": "stream",
     "text": [
      "Too few data, skipping ID 487\n",
      "Too few data, skipping ID 489\n"
     ]
    },
    {
     "name": "stderr",
     "output_type": "stream",
     "text": [
      "/Users/tristan.trebaol/Desktop/PhD/Code/pgmpy/pgmpy/factors/discrete/DiscreteFactor.py:796: RuntimeWarning:\n",
      "\n",
      "invalid value encountered in divide\n",
      "\n",
      "/Users/tristan.trebaol/Desktop/PhD/Code/pgmpy/pgmpy/factors/discrete/DiscreteFactor.py:796: RuntimeWarning:\n",
      "\n",
      "invalid value encountered in divide\n",
      "\n",
      "/Users/tristan.trebaol/Desktop/PhD/Code/pgmpy/pgmpy/factors/discrete/DiscreteFactor.py:796: RuntimeWarning:\n",
      "\n",
      "invalid value encountered in divide\n",
      "\n",
      "/Users/tristan.trebaol/Desktop/PhD/Code/pgmpy/pgmpy/factors/discrete/DiscreteFactor.py:796: RuntimeWarning:\n",
      "\n",
      "invalid value encountered in divide\n",
      "\n",
      "/Users/tristan.trebaol/Desktop/PhD/Code/pgmpy/pgmpy/factors/discrete/DiscreteFactor.py:796: RuntimeWarning:\n",
      "\n",
      "invalid value encountered in divide\n",
      "\n",
      "/Users/tristan.trebaol/Desktop/PhD/Code/pgmpy/pgmpy/factors/discrete/DiscreteFactor.py:796: RuntimeWarning:\n",
      "\n",
      "invalid value encountered in divide\n",
      "\n"
     ]
    },
    {
     "name": "stdout",
     "output_type": "stream",
     "text": [
      "Max FEV1 in the first 4 days, skipping ID 497\n",
      "Too few data, skipping ID 498\n",
      "Max FEV1 in the first 4 days, skipping ID 499\n"
     ]
    },
    {
     "name": "stderr",
     "output_type": "stream",
     "text": [
      "/Users/tristan.trebaol/Desktop/PhD/Code/pgmpy/pgmpy/factors/discrete/DiscreteFactor.py:796: RuntimeWarning:\n",
      "\n",
      "invalid value encountered in divide\n",
      "\n",
      "/Users/tristan.trebaol/Desktop/PhD/Code/pgmpy/pgmpy/factors/discrete/DiscreteFactor.py:796: RuntimeWarning:\n",
      "\n",
      "invalid value encountered in divide\n",
      "\n",
      "/Users/tristan.trebaol/Desktop/PhD/Code/pgmpy/pgmpy/factors/discrete/DiscreteFactor.py:796: RuntimeWarning:\n",
      "\n",
      "invalid value encountered in divide\n",
      "\n",
      "/Users/tristan.trebaol/Desktop/PhD/Code/pgmpy/pgmpy/factors/discrete/DiscreteFactor.py:796: RuntimeWarning:\n",
      "\n",
      "invalid value encountered in divide\n",
      "\n"
     ]
    },
    {
     "name": "stdout",
     "output_type": "stream",
     "text": [
      "Max FEV1 in the first 4 days, skipping ID 505\n",
      "Too few data, skipping ID 507\n"
     ]
    },
    {
     "name": "stderr",
     "output_type": "stream",
     "text": [
      "/Users/tristan.trebaol/Desktop/PhD/Code/pgmpy/pgmpy/factors/discrete/DiscreteFactor.py:796: RuntimeWarning:\n",
      "\n",
      "invalid value encountered in divide\n",
      "\n",
      "/Users/tristan.trebaol/Desktop/PhD/Code/pgmpy/pgmpy/factors/discrete/DiscreteFactor.py:796: RuntimeWarning:\n",
      "\n",
      "invalid value encountered in divide\n",
      "\n"
     ]
    },
    {
     "name": "stdout",
     "output_type": "stream",
     "text": [
      "Too few data, skipping ID 510\n"
     ]
    },
    {
     "name": "stderr",
     "output_type": "stream",
     "text": [
      "/Users/tristan.trebaol/Desktop/PhD/Code/pgmpy/pgmpy/factors/discrete/DiscreteFactor.py:796: RuntimeWarning:\n",
      "\n",
      "invalid value encountered in divide\n",
      "\n",
      "/Users/tristan.trebaol/Desktop/PhD/Code/pgmpy/pgmpy/factors/discrete/DiscreteFactor.py:796: RuntimeWarning:\n",
      "\n",
      "invalid value encountered in divide\n",
      "\n"
     ]
    },
    {
     "name": "stdout",
     "output_type": "stream",
     "text": [
      "Max FEV1 in the first 4 days, skipping ID 513\n"
     ]
    },
    {
     "name": "stderr",
     "output_type": "stream",
     "text": [
      "/Users/tristan.trebaol/Desktop/PhD/Code/pgmpy/pgmpy/factors/discrete/DiscreteFactor.py:796: RuntimeWarning:\n",
      "\n",
      "invalid value encountered in divide\n",
      "\n",
      "/Users/tristan.trebaol/Desktop/PhD/Code/pgmpy/pgmpy/factors/discrete/DiscreteFactor.py:796: RuntimeWarning:\n",
      "\n",
      "invalid value encountered in divide\n",
      "\n"
     ]
    },
    {
     "name": "stdout",
     "output_type": "stream",
     "text": [
      "Too few data, skipping ID 516\n",
      "Max FEV1 in the first 4 days, skipping ID 517\n",
      "Max FEV1 in the first 4 days, skipping ID 518\n",
      "Max FEV1 in the first 4 days, skipping ID 519\n",
      "Max FEV1 in the first 4 days, skipping ID 521\n",
      "Too few data, skipping ID 522\n"
     ]
    },
    {
     "name": "stderr",
     "output_type": "stream",
     "text": [
      "/Users/tristan.trebaol/Desktop/PhD/Code/pgmpy/pgmpy/factors/discrete/DiscreteFactor.py:796: RuntimeWarning:\n",
      "\n",
      "invalid value encountered in divide\n",
      "\n",
      "/Users/tristan.trebaol/Desktop/PhD/Code/pgmpy/pgmpy/factors/discrete/DiscreteFactor.py:796: RuntimeWarning:\n",
      "\n",
      "invalid value encountered in divide\n",
      "\n",
      "/Users/tristan.trebaol/Desktop/PhD/Code/pgmpy/pgmpy/factors/discrete/DiscreteFactor.py:796: RuntimeWarning:\n",
      "\n",
      "invalid value encountered in divide\n",
      "\n",
      "/Users/tristan.trebaol/Desktop/PhD/Code/pgmpy/pgmpy/factors/discrete/DiscreteFactor.py:796: RuntimeWarning:\n",
      "\n",
      "invalid value encountered in divide\n",
      "\n"
     ]
    },
    {
     "name": "stdout",
     "output_type": "stream",
     "text": [
      "Max FEV1 in the first 4 days, skipping ID 527\n"
     ]
    },
    {
     "name": "stderr",
     "output_type": "stream",
     "text": [
      "/Users/tristan.trebaol/Desktop/PhD/Code/pgmpy/pgmpy/factors/discrete/DiscreteFactor.py:796: RuntimeWarning:\n",
      "\n",
      "invalid value encountered in divide\n",
      "\n",
      "/Users/tristan.trebaol/Desktop/PhD/Code/pgmpy/pgmpy/factors/discrete/DiscreteFactor.py:796: RuntimeWarning:\n",
      "\n",
      "invalid value encountered in divide\n",
      "\n"
     ]
    },
    {
     "name": "stdout",
     "output_type": "stream",
     "text": [
      "Max FEV1 in the first 4 days, skipping ID 531\n",
      "Too few data, skipping ID 533\n"
     ]
    },
    {
     "name": "stderr",
     "output_type": "stream",
     "text": [
      "/Users/tristan.trebaol/Desktop/PhD/Code/pgmpy/pgmpy/factors/discrete/DiscreteFactor.py:796: RuntimeWarning:\n",
      "\n",
      "invalid value encountered in divide\n",
      "\n",
      "/Users/tristan.trebaol/Desktop/PhD/Code/pgmpy/pgmpy/factors/discrete/DiscreteFactor.py:796: RuntimeWarning:\n",
      "\n",
      "invalid value encountered in divide\n",
      "\n"
     ]
    },
    {
     "name": "stdout",
     "output_type": "stream",
     "text": [
      "Too few data, skipping ID 536\n",
      "Max FEV1 in the first 4 days, skipping ID 538\n"
     ]
    },
    {
     "name": "stderr",
     "output_type": "stream",
     "text": [
      "/Users/tristan.trebaol/Desktop/PhD/Code/pgmpy/pgmpy/factors/discrete/DiscreteFactor.py:796: RuntimeWarning:\n",
      "\n",
      "invalid value encountered in divide\n",
      "\n",
      "/Users/tristan.trebaol/Desktop/PhD/Code/pgmpy/pgmpy/factors/discrete/DiscreteFactor.py:796: RuntimeWarning:\n",
      "\n",
      "invalid value encountered in divide\n",
      "\n"
     ]
    },
    {
     "name": "stdout",
     "output_type": "stream",
     "text": [
      "Max FEV1 in the first 4 days, skipping ID 543\n",
      "Too few data, skipping ID 545\n",
      "Too few data, skipping ID 546\n",
      "Too few data, skipping ID 548\n"
     ]
    },
    {
     "name": "stderr",
     "output_type": "stream",
     "text": [
      "/Users/tristan.trebaol/Desktop/PhD/Code/pgmpy/pgmpy/factors/discrete/DiscreteFactor.py:796: RuntimeWarning:\n",
      "\n",
      "invalid value encountered in divide\n",
      "\n",
      "/Users/tristan.trebaol/Desktop/PhD/Code/pgmpy/pgmpy/factors/discrete/DiscreteFactor.py:796: RuntimeWarning:\n",
      "\n",
      "invalid value encountered in divide\n",
      "\n",
      "/Users/tristan.trebaol/Desktop/PhD/Code/pgmpy/pgmpy/factors/discrete/DiscreteFactor.py:796: RuntimeWarning:\n",
      "\n",
      "invalid value encountered in divide\n",
      "\n"
     ]
    },
    {
     "name": "stdout",
     "output_type": "stream",
     "text": [
      "Max FEV1 in the first 4 days, skipping ID 553\n",
      "days concse 3 days total 4\n"
     ]
    },
    {
     "name": "stderr",
     "output_type": "stream",
     "text": [
      "/Users/tristan.trebaol/Desktop/PhD/Code/pgmpy/pgmpy/factors/discrete/DiscreteFactor.py:796: RuntimeWarning:\n",
      "\n",
      "invalid value encountered in divide\n",
      "\n",
      "/Users/tristan.trebaol/Desktop/PhD/Code/pgmpy/pgmpy/factors/discrete/DiscreteFactor.py:796: RuntimeWarning:\n",
      "\n",
      "invalid value encountered in divide\n",
      "\n",
      "/Users/tristan.trebaol/Desktop/PhD/Code/pgmpy/pgmpy/factors/discrete/DiscreteFactor.py:796: RuntimeWarning:\n",
      "\n",
      "invalid value encountered in divide\n",
      "\n",
      "/Users/tristan.trebaol/Desktop/PhD/Code/pgmpy/pgmpy/factors/discrete/DiscreteFactor.py:796: RuntimeWarning:\n",
      "\n",
      "invalid value encountered in divide\n",
      "\n"
     ]
    },
    {
     "name": "stdout",
     "output_type": "stream",
     "text": [
      "Max FEV1 in the first 4 days, skipping ID 105\n"
     ]
    },
    {
     "name": "stderr",
     "output_type": "stream",
     "text": [
      "/Users/tristan.trebaol/Desktop/PhD/Code/pgmpy/pgmpy/factors/discrete/DiscreteFactor.py:796: RuntimeWarning:\n",
      "\n",
      "invalid value encountered in divide\n",
      "\n",
      "/Users/tristan.trebaol/Desktop/PhD/Code/pgmpy/pgmpy/factors/discrete/DiscreteFactor.py:796: RuntimeWarning:\n",
      "\n",
      "invalid value encountered in divide\n",
      "\n",
      "/Users/tristan.trebaol/Desktop/PhD/Code/pgmpy/pgmpy/factors/discrete/DiscreteFactor.py:796: RuntimeWarning:\n",
      "\n",
      "invalid value encountered in divide\n",
      "\n",
      "/Users/tristan.trebaol/Desktop/PhD/Code/pgmpy/pgmpy/factors/discrete/DiscreteFactor.py:796: RuntimeWarning:\n",
      "\n",
      "invalid value encountered in divide\n",
      "\n",
      "/Users/tristan.trebaol/Desktop/PhD/Code/pgmpy/pgmpy/factors/discrete/DiscreteFactor.py:796: RuntimeWarning:\n",
      "\n",
      "invalid value encountered in divide\n",
      "\n",
      "/Users/tristan.trebaol/Desktop/PhD/Code/pgmpy/pgmpy/factors/discrete/DiscreteFactor.py:796: RuntimeWarning:\n",
      "\n",
      "invalid value encountered in divide\n",
      "\n",
      "/Users/tristan.trebaol/Desktop/PhD/Code/pgmpy/pgmpy/factors/discrete/DiscreteFactor.py:796: RuntimeWarning:\n",
      "\n",
      "invalid value encountered in divide\n",
      "\n",
      "/Users/tristan.trebaol/Desktop/PhD/Code/pgmpy/pgmpy/factors/discrete/DiscreteFactor.py:796: RuntimeWarning:\n",
      "\n",
      "invalid value encountered in divide\n",
      "\n",
      "/Users/tristan.trebaol/Desktop/PhD/Code/pgmpy/pgmpy/factors/discrete/DiscreteFactor.py:796: RuntimeWarning:\n",
      "\n",
      "invalid value encountered in divide\n",
      "\n",
      "/Users/tristan.trebaol/Desktop/PhD/Code/pgmpy/pgmpy/factors/discrete/DiscreteFactor.py:796: RuntimeWarning:\n",
      "\n",
      "invalid value encountered in divide\n",
      "\n",
      "/Users/tristan.trebaol/Desktop/PhD/Code/pgmpy/pgmpy/factors/discrete/DiscreteFactor.py:796: RuntimeWarning:\n",
      "\n",
      "invalid value encountered in divide\n",
      "\n",
      "/Users/tristan.trebaol/Desktop/PhD/Code/pgmpy/pgmpy/factors/discrete/DiscreteFactor.py:796: RuntimeWarning:\n",
      "\n",
      "invalid value encountered in divide\n",
      "\n",
      "/Users/tristan.trebaol/Desktop/PhD/Code/pgmpy/pgmpy/factors/discrete/DiscreteFactor.py:796: RuntimeWarning:\n",
      "\n",
      "invalid value encountered in divide\n",
      "\n",
      "/Users/tristan.trebaol/Desktop/PhD/Code/pgmpy/pgmpy/factors/discrete/DiscreteFactor.py:796: RuntimeWarning:\n",
      "\n",
      "invalid value encountered in divide\n",
      "\n",
      "/Users/tristan.trebaol/Desktop/PhD/Code/pgmpy/pgmpy/factors/discrete/DiscreteFactor.py:796: RuntimeWarning:\n",
      "\n",
      "invalid value encountered in divide\n",
      "\n",
      "/Users/tristan.trebaol/Desktop/PhD/Code/pgmpy/pgmpy/factors/discrete/DiscreteFactor.py:796: RuntimeWarning:\n",
      "\n",
      "invalid value encountered in divide\n",
      "\n",
      "/Users/tristan.trebaol/Desktop/PhD/Code/pgmpy/pgmpy/factors/discrete/DiscreteFactor.py:796: RuntimeWarning:\n",
      "\n",
      "invalid value encountered in divide\n",
      "\n",
      "/Users/tristan.trebaol/Desktop/PhD/Code/pgmpy/pgmpy/factors/discrete/DiscreteFactor.py:796: RuntimeWarning:\n",
      "\n",
      "invalid value encountered in divide\n",
      "\n",
      "/Users/tristan.trebaol/Desktop/PhD/Code/pgmpy/pgmpy/factors/discrete/DiscreteFactor.py:796: RuntimeWarning:\n",
      "\n",
      "invalid value encountered in divide\n",
      "\n",
      "/Users/tristan.trebaol/Desktop/PhD/Code/pgmpy/pgmpy/factors/discrete/DiscreteFactor.py:796: RuntimeWarning:\n",
      "\n",
      "invalid value encountered in divide\n",
      "\n",
      "/Users/tristan.trebaol/Desktop/PhD/Code/pgmpy/pgmpy/factors/discrete/DiscreteFactor.py:796: RuntimeWarning:\n",
      "\n",
      "invalid value encountered in divide\n",
      "\n",
      "/Users/tristan.trebaol/Desktop/PhD/Code/pgmpy/pgmpy/factors/discrete/DiscreteFactor.py:796: RuntimeWarning:\n",
      "\n",
      "invalid value encountered in divide\n",
      "\n",
      "/Users/tristan.trebaol/Desktop/PhD/Code/pgmpy/pgmpy/factors/discrete/DiscreteFactor.py:796: RuntimeWarning:\n",
      "\n",
      "invalid value encountered in divide\n",
      "\n"
     ]
    },
    {
     "name": "stdout",
     "output_type": "stream",
     "text": [
      "Max FEV1 in the first 4 days, skipping ID 129\n"
     ]
    },
    {
     "name": "stderr",
     "output_type": "stream",
     "text": [
      "/Users/tristan.trebaol/Desktop/PhD/Code/pgmpy/pgmpy/factors/discrete/DiscreteFactor.py:796: RuntimeWarning:\n",
      "\n",
      "invalid value encountered in divide\n",
      "\n",
      "/Users/tristan.trebaol/Desktop/PhD/Code/pgmpy/pgmpy/factors/discrete/DiscreteFactor.py:796: RuntimeWarning:\n",
      "\n",
      "invalid value encountered in divide\n",
      "\n",
      "/Users/tristan.trebaol/Desktop/PhD/Code/pgmpy/pgmpy/factors/discrete/DiscreteFactor.py:796: RuntimeWarning:\n",
      "\n",
      "invalid value encountered in divide\n",
      "\n",
      "/Users/tristan.trebaol/Desktop/PhD/Code/pgmpy/pgmpy/factors/discrete/DiscreteFactor.py:796: RuntimeWarning:\n",
      "\n",
      "invalid value encountered in divide\n",
      "\n",
      "/Users/tristan.trebaol/Desktop/PhD/Code/pgmpy/pgmpy/factors/discrete/DiscreteFactor.py:796: RuntimeWarning:\n",
      "\n",
      "invalid value encountered in divide\n",
      "\n",
      "/Users/tristan.trebaol/Desktop/PhD/Code/pgmpy/pgmpy/factors/discrete/DiscreteFactor.py:796: RuntimeWarning:\n",
      "\n",
      "invalid value encountered in divide\n",
      "\n",
      "/Users/tristan.trebaol/Desktop/PhD/Code/pgmpy/pgmpy/factors/discrete/DiscreteFactor.py:796: RuntimeWarning:\n",
      "\n",
      "invalid value encountered in divide\n",
      "\n",
      "/Users/tristan.trebaol/Desktop/PhD/Code/pgmpy/pgmpy/factors/discrete/DiscreteFactor.py:796: RuntimeWarning:\n",
      "\n",
      "invalid value encountered in divide\n",
      "\n",
      "/Users/tristan.trebaol/Desktop/PhD/Code/pgmpy/pgmpy/factors/discrete/DiscreteFactor.py:796: RuntimeWarning:\n",
      "\n",
      "invalid value encountered in divide\n",
      "\n",
      "/Users/tristan.trebaol/Desktop/PhD/Code/pgmpy/pgmpy/factors/discrete/DiscreteFactor.py:796: RuntimeWarning:\n",
      "\n",
      "invalid value encountered in divide\n",
      "\n",
      "/Users/tristan.trebaol/Desktop/PhD/Code/pgmpy/pgmpy/factors/discrete/DiscreteFactor.py:796: RuntimeWarning:\n",
      "\n",
      "invalid value encountered in divide\n",
      "\n",
      "/Users/tristan.trebaol/Desktop/PhD/Code/pgmpy/pgmpy/factors/discrete/DiscreteFactor.py:796: RuntimeWarning:\n",
      "\n",
      "invalid value encountered in divide\n",
      "\n",
      "/Users/tristan.trebaol/Desktop/PhD/Code/pgmpy/pgmpy/factors/discrete/DiscreteFactor.py:796: RuntimeWarning:\n",
      "\n",
      "invalid value encountered in divide\n",
      "\n",
      "/Users/tristan.trebaol/Desktop/PhD/Code/pgmpy/pgmpy/factors/discrete/DiscreteFactor.py:796: RuntimeWarning:\n",
      "\n",
      "invalid value encountered in divide\n",
      "\n",
      "/Users/tristan.trebaol/Desktop/PhD/Code/pgmpy/pgmpy/factors/discrete/DiscreteFactor.py:796: RuntimeWarning:\n",
      "\n",
      "invalid value encountered in divide\n",
      "\n",
      "/Users/tristan.trebaol/Desktop/PhD/Code/pgmpy/pgmpy/factors/discrete/DiscreteFactor.py:796: RuntimeWarning:\n",
      "\n",
      "invalid value encountered in divide\n",
      "\n",
      "/Users/tristan.trebaol/Desktop/PhD/Code/pgmpy/pgmpy/factors/discrete/DiscreteFactor.py:796: RuntimeWarning:\n",
      "\n",
      "invalid value encountered in divide\n",
      "\n",
      "/Users/tristan.trebaol/Desktop/PhD/Code/pgmpy/pgmpy/factors/discrete/DiscreteFactor.py:796: RuntimeWarning:\n",
      "\n",
      "invalid value encountered in divide\n",
      "\n",
      "/Users/tristan.trebaol/Desktop/PhD/Code/pgmpy/pgmpy/factors/discrete/DiscreteFactor.py:796: RuntimeWarning:\n",
      "\n",
      "invalid value encountered in divide\n",
      "\n",
      "/Users/tristan.trebaol/Desktop/PhD/Code/pgmpy/pgmpy/factors/discrete/DiscreteFactor.py:796: RuntimeWarning:\n",
      "\n",
      "invalid value encountered in divide\n",
      "\n",
      "/Users/tristan.trebaol/Desktop/PhD/Code/pgmpy/pgmpy/factors/discrete/DiscreteFactor.py:796: RuntimeWarning:\n",
      "\n",
      "invalid value encountered in divide\n",
      "\n",
      "/Users/tristan.trebaol/Desktop/PhD/Code/pgmpy/pgmpy/factors/discrete/DiscreteFactor.py:796: RuntimeWarning:\n",
      "\n",
      "invalid value encountered in divide\n",
      "\n"
     ]
    },
    {
     "name": "stdout",
     "output_type": "stream",
     "text": [
      "Too few data, skipping ID 154\n"
     ]
    },
    {
     "name": "stderr",
     "output_type": "stream",
     "text": [
      "/Users/tristan.trebaol/Desktop/PhD/Code/pgmpy/pgmpy/factors/discrete/DiscreteFactor.py:796: RuntimeWarning:\n",
      "\n",
      "invalid value encountered in divide\n",
      "\n",
      "/Users/tristan.trebaol/Desktop/PhD/Code/pgmpy/pgmpy/factors/discrete/DiscreteFactor.py:796: RuntimeWarning:\n",
      "\n",
      "invalid value encountered in divide\n",
      "\n",
      "/Users/tristan.trebaol/Desktop/PhD/Code/pgmpy/pgmpy/factors/discrete/DiscreteFactor.py:796: RuntimeWarning:\n",
      "\n",
      "invalid value encountered in divide\n",
      "\n",
      "/Users/tristan.trebaol/Desktop/PhD/Code/pgmpy/pgmpy/factors/discrete/DiscreteFactor.py:796: RuntimeWarning:\n",
      "\n",
      "invalid value encountered in divide\n",
      "\n"
     ]
    },
    {
     "name": "stdout",
     "output_type": "stream",
     "text": [
      "Too few data, skipping ID 160\n"
     ]
    },
    {
     "name": "stderr",
     "output_type": "stream",
     "text": [
      "/Users/tristan.trebaol/Desktop/PhD/Code/pgmpy/pgmpy/factors/discrete/DiscreteFactor.py:796: RuntimeWarning:\n",
      "\n",
      "invalid value encountered in divide\n",
      "\n",
      "/Users/tristan.trebaol/Desktop/PhD/Code/pgmpy/pgmpy/factors/discrete/DiscreteFactor.py:796: RuntimeWarning:\n",
      "\n",
      "invalid value encountered in divide\n",
      "\n",
      "/Users/tristan.trebaol/Desktop/PhD/Code/pgmpy/pgmpy/factors/discrete/DiscreteFactor.py:796: RuntimeWarning:\n",
      "\n",
      "invalid value encountered in divide\n",
      "\n",
      "/Users/tristan.trebaol/Desktop/PhD/Code/pgmpy/pgmpy/factors/discrete/DiscreteFactor.py:796: RuntimeWarning:\n",
      "\n",
      "invalid value encountered in divide\n",
      "\n",
      "/Users/tristan.trebaol/Desktop/PhD/Code/pgmpy/pgmpy/factors/discrete/DiscreteFactor.py:796: RuntimeWarning:\n",
      "\n",
      "invalid value encountered in divide\n",
      "\n"
     ]
    },
    {
     "name": "stdout",
     "output_type": "stream",
     "text": [
      "Too few data, skipping ID 167\n",
      "Max FEV1 in the first 4 days, skipping ID 168\n"
     ]
    },
    {
     "name": "stderr",
     "output_type": "stream",
     "text": [
      "/Users/tristan.trebaol/Desktop/PhD/Code/pgmpy/pgmpy/factors/discrete/DiscreteFactor.py:796: RuntimeWarning:\n",
      "\n",
      "invalid value encountered in divide\n",
      "\n",
      "/Users/tristan.trebaol/Desktop/PhD/Code/pgmpy/pgmpy/factors/discrete/DiscreteFactor.py:796: RuntimeWarning:\n",
      "\n",
      "invalid value encountered in divide\n",
      "\n",
      "/Users/tristan.trebaol/Desktop/PhD/Code/pgmpy/pgmpy/factors/discrete/DiscreteFactor.py:796: RuntimeWarning:\n",
      "\n",
      "invalid value encountered in divide\n",
      "\n",
      "/Users/tristan.trebaol/Desktop/PhD/Code/pgmpy/pgmpy/factors/discrete/DiscreteFactor.py:796: RuntimeWarning:\n",
      "\n",
      "invalid value encountered in divide\n",
      "\n",
      "/Users/tristan.trebaol/Desktop/PhD/Code/pgmpy/pgmpy/factors/discrete/DiscreteFactor.py:796: RuntimeWarning:\n",
      "\n",
      "invalid value encountered in divide\n",
      "\n",
      "/Users/tristan.trebaol/Desktop/PhD/Code/pgmpy/pgmpy/factors/discrete/DiscreteFactor.py:796: RuntimeWarning:\n",
      "\n",
      "invalid value encountered in divide\n",
      "\n"
     ]
    },
    {
     "name": "stdout",
     "output_type": "stream",
     "text": [
      "Too few data, skipping ID 175\n"
     ]
    },
    {
     "name": "stderr",
     "output_type": "stream",
     "text": [
      "/Users/tristan.trebaol/Desktop/PhD/Code/pgmpy/pgmpy/factors/discrete/DiscreteFactor.py:796: RuntimeWarning:\n",
      "\n",
      "invalid value encountered in divide\n",
      "\n",
      "/Users/tristan.trebaol/Desktop/PhD/Code/pgmpy/pgmpy/factors/discrete/DiscreteFactor.py:796: RuntimeWarning:\n",
      "\n",
      "invalid value encountered in divide\n",
      "\n",
      "/Users/tristan.trebaol/Desktop/PhD/Code/pgmpy/pgmpy/factors/discrete/DiscreteFactor.py:796: RuntimeWarning:\n",
      "\n",
      "invalid value encountered in divide\n",
      "\n",
      "/Users/tristan.trebaol/Desktop/PhD/Code/pgmpy/pgmpy/factors/discrete/DiscreteFactor.py:796: RuntimeWarning:\n",
      "\n",
      "invalid value encountered in divide\n",
      "\n",
      "/Users/tristan.trebaol/Desktop/PhD/Code/pgmpy/pgmpy/factors/discrete/DiscreteFactor.py:796: RuntimeWarning:\n",
      "\n",
      "invalid value encountered in divide\n",
      "\n"
     ]
    },
    {
     "name": "stdout",
     "output_type": "stream",
     "text": [
      "Max FEV1 in the first 4 days, skipping ID 181\n"
     ]
    },
    {
     "name": "stderr",
     "output_type": "stream",
     "text": [
      "/Users/tristan.trebaol/Desktop/PhD/Code/pgmpy/pgmpy/factors/discrete/DiscreteFactor.py:796: RuntimeWarning:\n",
      "\n",
      "invalid value encountered in divide\n",
      "\n"
     ]
    },
    {
     "name": "stdout",
     "output_type": "stream",
     "text": [
      "Max FEV1 in the first 4 days, skipping ID 183\n"
     ]
    },
    {
     "name": "stderr",
     "output_type": "stream",
     "text": [
      "/Users/tristan.trebaol/Desktop/PhD/Code/pgmpy/pgmpy/factors/discrete/DiscreteFactor.py:796: RuntimeWarning:\n",
      "\n",
      "invalid value encountered in divide\n",
      "\n",
      "/Users/tristan.trebaol/Desktop/PhD/Code/pgmpy/pgmpy/factors/discrete/DiscreteFactor.py:796: RuntimeWarning:\n",
      "\n",
      "invalid value encountered in divide\n",
      "\n",
      "/Users/tristan.trebaol/Desktop/PhD/Code/pgmpy/pgmpy/factors/discrete/DiscreteFactor.py:796: RuntimeWarning:\n",
      "\n",
      "invalid value encountered in divide\n",
      "\n",
      "/Users/tristan.trebaol/Desktop/PhD/Code/pgmpy/pgmpy/factors/discrete/DiscreteFactor.py:796: RuntimeWarning:\n",
      "\n",
      "invalid value encountered in divide\n",
      "\n",
      "/Users/tristan.trebaol/Desktop/PhD/Code/pgmpy/pgmpy/factors/discrete/DiscreteFactor.py:796: RuntimeWarning:\n",
      "\n",
      "invalid value encountered in divide\n",
      "\n"
     ]
    },
    {
     "name": "stdout",
     "output_type": "stream",
     "text": [
      "Max FEV1 in the first 4 days, skipping ID 189\n"
     ]
    },
    {
     "name": "stderr",
     "output_type": "stream",
     "text": [
      "/Users/tristan.trebaol/Desktop/PhD/Code/pgmpy/pgmpy/factors/discrete/DiscreteFactor.py:796: RuntimeWarning:\n",
      "\n",
      "invalid value encountered in divide\n",
      "\n",
      "/Users/tristan.trebaol/Desktop/PhD/Code/pgmpy/pgmpy/factors/discrete/DiscreteFactor.py:796: RuntimeWarning:\n",
      "\n",
      "invalid value encountered in divide\n",
      "\n",
      "/Users/tristan.trebaol/Desktop/PhD/Code/pgmpy/pgmpy/factors/discrete/DiscreteFactor.py:796: RuntimeWarning:\n",
      "\n",
      "invalid value encountered in divide\n",
      "\n",
      "/Users/tristan.trebaol/Desktop/PhD/Code/pgmpy/pgmpy/factors/discrete/DiscreteFactor.py:796: RuntimeWarning:\n",
      "\n",
      "invalid value encountered in divide\n",
      "\n",
      "/Users/tristan.trebaol/Desktop/PhD/Code/pgmpy/pgmpy/factors/discrete/DiscreteFactor.py:796: RuntimeWarning:\n",
      "\n",
      "invalid value encountered in divide\n",
      "\n"
     ]
    },
    {
     "name": "stdout",
     "output_type": "stream",
     "text": [
      "Too few data, skipping ID 195\n"
     ]
    },
    {
     "name": "stderr",
     "output_type": "stream",
     "text": [
      "/Users/tristan.trebaol/Desktop/PhD/Code/pgmpy/pgmpy/factors/discrete/DiscreteFactor.py:796: RuntimeWarning:\n",
      "\n",
      "invalid value encountered in divide\n",
      "\n",
      "/Users/tristan.trebaol/Desktop/PhD/Code/pgmpy/pgmpy/factors/discrete/DiscreteFactor.py:796: RuntimeWarning:\n",
      "\n",
      "invalid value encountered in divide\n",
      "\n",
      "/Users/tristan.trebaol/Desktop/PhD/Code/pgmpy/pgmpy/factors/discrete/DiscreteFactor.py:796: RuntimeWarning:\n",
      "\n",
      "invalid value encountered in divide\n",
      "\n",
      "/Users/tristan.trebaol/Desktop/PhD/Code/pgmpy/pgmpy/factors/discrete/DiscreteFactor.py:796: RuntimeWarning:\n",
      "\n",
      "invalid value encountered in divide\n",
      "\n",
      "/Users/tristan.trebaol/Desktop/PhD/Code/pgmpy/pgmpy/factors/discrete/DiscreteFactor.py:796: RuntimeWarning:\n",
      "\n",
      "invalid value encountered in divide\n",
      "\n"
     ]
    },
    {
     "name": "stdout",
     "output_type": "stream",
     "text": [
      "Max FEV1 in the first 4 days, skipping ID 202\n"
     ]
    },
    {
     "name": "stderr",
     "output_type": "stream",
     "text": [
      "/Users/tristan.trebaol/Desktop/PhD/Code/pgmpy/pgmpy/factors/discrete/DiscreteFactor.py:796: RuntimeWarning:\n",
      "\n",
      "invalid value encountered in divide\n",
      "\n",
      "/Users/tristan.trebaol/Desktop/PhD/Code/pgmpy/pgmpy/factors/discrete/DiscreteFactor.py:796: RuntimeWarning:\n",
      "\n",
      "invalid value encountered in divide\n",
      "\n",
      "/Users/tristan.trebaol/Desktop/PhD/Code/pgmpy/pgmpy/factors/discrete/DiscreteFactor.py:796: RuntimeWarning:\n",
      "\n",
      "invalid value encountered in divide\n",
      "\n"
     ]
    },
    {
     "name": "stdout",
     "output_type": "stream",
     "text": [
      "Max FEV1 in the first 4 days, skipping ID 206\n",
      "Max FEV1 in the first 4 days, skipping ID 207\n",
      "Max FEV1 in the first 4 days, skipping ID 208\n"
     ]
    },
    {
     "name": "stderr",
     "output_type": "stream",
     "text": [
      "/Users/tristan.trebaol/Desktop/PhD/Code/pgmpy/pgmpy/factors/discrete/DiscreteFactor.py:796: RuntimeWarning:\n",
      "\n",
      "invalid value encountered in divide\n",
      "\n",
      "/Users/tristan.trebaol/Desktop/PhD/Code/pgmpy/pgmpy/factors/discrete/DiscreteFactor.py:796: RuntimeWarning:\n",
      "\n",
      "invalid value encountered in divide\n",
      "\n"
     ]
    },
    {
     "name": "stdout",
     "output_type": "stream",
     "text": [
      "Too few data, skipping ID 211\n",
      "Max FEV1 in the first 4 days, skipping ID 212\n",
      "Too few data, skipping ID 213\n"
     ]
    },
    {
     "name": "stderr",
     "output_type": "stream",
     "text": [
      "/Users/tristan.trebaol/Desktop/PhD/Code/pgmpy/pgmpy/factors/discrete/DiscreteFactor.py:796: RuntimeWarning:\n",
      "\n",
      "invalid value encountered in divide\n",
      "\n"
     ]
    },
    {
     "name": "stdout",
     "output_type": "stream",
     "text": [
      "Too few data, skipping ID 216\n"
     ]
    },
    {
     "name": "stderr",
     "output_type": "stream",
     "text": [
      "/Users/tristan.trebaol/Desktop/PhD/Code/pgmpy/pgmpy/factors/discrete/DiscreteFactor.py:796: RuntimeWarning:\n",
      "\n",
      "invalid value encountered in divide\n",
      "\n",
      "/Users/tristan.trebaol/Desktop/PhD/Code/pgmpy/pgmpy/factors/discrete/DiscreteFactor.py:796: RuntimeWarning:\n",
      "\n",
      "invalid value encountered in divide\n",
      "\n"
     ]
    },
    {
     "name": "stdout",
     "output_type": "stream",
     "text": [
      "Too few data, skipping ID 222\n"
     ]
    },
    {
     "name": "stderr",
     "output_type": "stream",
     "text": [
      "/Users/tristan.trebaol/Desktop/PhD/Code/pgmpy/pgmpy/factors/discrete/DiscreteFactor.py:796: RuntimeWarning:\n",
      "\n",
      "invalid value encountered in divide\n",
      "\n",
      "/Users/tristan.trebaol/Desktop/PhD/Code/pgmpy/pgmpy/factors/discrete/DiscreteFactor.py:796: RuntimeWarning:\n",
      "\n",
      "invalid value encountered in divide\n",
      "\n"
     ]
    },
    {
     "name": "stdout",
     "output_type": "stream",
     "text": [
      "Too few data, skipping ID 225\n"
     ]
    },
    {
     "name": "stderr",
     "output_type": "stream",
     "text": [
      "/Users/tristan.trebaol/Desktop/PhD/Code/pgmpy/pgmpy/factors/discrete/DiscreteFactor.py:796: RuntimeWarning:\n",
      "\n",
      "invalid value encountered in divide\n",
      "\n",
      "/Users/tristan.trebaol/Desktop/PhD/Code/pgmpy/pgmpy/factors/discrete/DiscreteFactor.py:796: RuntimeWarning:\n",
      "\n",
      "invalid value encountered in divide\n",
      "\n",
      "/Users/tristan.trebaol/Desktop/PhD/Code/pgmpy/pgmpy/factors/discrete/DiscreteFactor.py:796: RuntimeWarning:\n",
      "\n",
      "invalid value encountered in divide\n",
      "\n",
      "/Users/tristan.trebaol/Desktop/PhD/Code/pgmpy/pgmpy/factors/discrete/DiscreteFactor.py:796: RuntimeWarning:\n",
      "\n",
      "invalid value encountered in divide\n",
      "\n",
      "/Users/tristan.trebaol/Desktop/PhD/Code/pgmpy/pgmpy/factors/discrete/DiscreteFactor.py:796: RuntimeWarning:\n",
      "\n",
      "invalid value encountered in divide\n",
      "\n"
     ]
    },
    {
     "name": "stdout",
     "output_type": "stream",
     "text": [
      "Too few data, skipping ID 236\n"
     ]
    },
    {
     "name": "stderr",
     "output_type": "stream",
     "text": [
      "/Users/tristan.trebaol/Desktop/PhD/Code/pgmpy/pgmpy/factors/discrete/DiscreteFactor.py:796: RuntimeWarning:\n",
      "\n",
      "invalid value encountered in divide\n",
      "\n",
      "/Users/tristan.trebaol/Desktop/PhD/Code/pgmpy/pgmpy/factors/discrete/DiscreteFactor.py:796: RuntimeWarning:\n",
      "\n",
      "invalid value encountered in divide\n",
      "\n",
      "/Users/tristan.trebaol/Desktop/PhD/Code/pgmpy/pgmpy/factors/discrete/DiscreteFactor.py:796: RuntimeWarning:\n",
      "\n",
      "invalid value encountered in divide\n",
      "\n",
      "/Users/tristan.trebaol/Desktop/PhD/Code/pgmpy/pgmpy/factors/discrete/DiscreteFactor.py:796: RuntimeWarning:\n",
      "\n",
      "invalid value encountered in divide\n",
      "\n"
     ]
    },
    {
     "name": "stdout",
     "output_type": "stream",
     "text": [
      "Max FEV1 in the first 4 days, skipping ID 241\n"
     ]
    },
    {
     "name": "stderr",
     "output_type": "stream",
     "text": [
      "/Users/tristan.trebaol/Desktop/PhD/Code/pgmpy/pgmpy/factors/discrete/DiscreteFactor.py:796: RuntimeWarning:\n",
      "\n",
      "invalid value encountered in divide\n",
      "\n",
      "/Users/tristan.trebaol/Desktop/PhD/Code/pgmpy/pgmpy/factors/discrete/DiscreteFactor.py:796: RuntimeWarning:\n",
      "\n",
      "invalid value encountered in divide\n",
      "\n",
      "/Users/tristan.trebaol/Desktop/PhD/Code/pgmpy/pgmpy/factors/discrete/DiscreteFactor.py:796: RuntimeWarning:\n",
      "\n",
      "invalid value encountered in divide\n",
      "\n",
      "/Users/tristan.trebaol/Desktop/PhD/Code/pgmpy/pgmpy/factors/discrete/DiscreteFactor.py:796: RuntimeWarning:\n",
      "\n",
      "invalid value encountered in divide\n",
      "\n"
     ]
    },
    {
     "name": "stdout",
     "output_type": "stream",
     "text": [
      "Max FEV1 in the first 4 days, skipping ID 248\n"
     ]
    },
    {
     "name": "stderr",
     "output_type": "stream",
     "text": [
      "/Users/tristan.trebaol/Desktop/PhD/Code/pgmpy/pgmpy/factors/discrete/DiscreteFactor.py:796: RuntimeWarning:\n",
      "\n",
      "invalid value encountered in divide\n",
      "\n",
      "/Users/tristan.trebaol/Desktop/PhD/Code/pgmpy/pgmpy/factors/discrete/DiscreteFactor.py:796: RuntimeWarning:\n",
      "\n",
      "invalid value encountered in divide\n",
      "\n",
      "/Users/tristan.trebaol/Desktop/PhD/Code/pgmpy/pgmpy/factors/discrete/DiscreteFactor.py:796: RuntimeWarning:\n",
      "\n",
      "invalid value encountered in divide\n",
      "\n",
      "/Users/tristan.trebaol/Desktop/PhD/Code/pgmpy/pgmpy/factors/discrete/DiscreteFactor.py:796: RuntimeWarning:\n",
      "\n",
      "invalid value encountered in divide\n",
      "\n",
      "/Users/tristan.trebaol/Desktop/PhD/Code/pgmpy/pgmpy/factors/discrete/DiscreteFactor.py:796: RuntimeWarning:\n",
      "\n",
      "invalid value encountered in divide\n",
      "\n",
      "/Users/tristan.trebaol/Desktop/PhD/Code/pgmpy/pgmpy/factors/discrete/DiscreteFactor.py:796: RuntimeWarning:\n",
      "\n",
      "invalid value encountered in divide\n",
      "\n",
      "/Users/tristan.trebaol/Desktop/PhD/Code/pgmpy/pgmpy/factors/discrete/DiscreteFactor.py:796: RuntimeWarning:\n",
      "\n",
      "invalid value encountered in divide\n",
      "\n",
      "/Users/tristan.trebaol/Desktop/PhD/Code/pgmpy/pgmpy/factors/discrete/DiscreteFactor.py:796: RuntimeWarning:\n",
      "\n",
      "invalid value encountered in divide\n",
      "\n",
      "/Users/tristan.trebaol/Desktop/PhD/Code/pgmpy/pgmpy/factors/discrete/DiscreteFactor.py:796: RuntimeWarning:\n",
      "\n",
      "invalid value encountered in divide\n",
      "\n",
      "/Users/tristan.trebaol/Desktop/PhD/Code/pgmpy/pgmpy/factors/discrete/DiscreteFactor.py:796: RuntimeWarning:\n",
      "\n",
      "invalid value encountered in divide\n",
      "\n"
     ]
    },
    {
     "name": "stdout",
     "output_type": "stream",
     "text": [
      "Too few data, skipping ID 260\n"
     ]
    },
    {
     "name": "stderr",
     "output_type": "stream",
     "text": [
      "/Users/tristan.trebaol/Desktop/PhD/Code/pgmpy/pgmpy/factors/discrete/DiscreteFactor.py:796: RuntimeWarning:\n",
      "\n",
      "invalid value encountered in divide\n",
      "\n",
      "/Users/tristan.trebaol/Desktop/PhD/Code/pgmpy/pgmpy/factors/discrete/DiscreteFactor.py:796: RuntimeWarning:\n",
      "\n",
      "invalid value encountered in divide\n",
      "\n",
      "/Users/tristan.trebaol/Desktop/PhD/Code/pgmpy/pgmpy/factors/discrete/DiscreteFactor.py:796: RuntimeWarning:\n",
      "\n",
      "invalid value encountered in divide\n",
      "\n",
      "/Users/tristan.trebaol/Desktop/PhD/Code/pgmpy/pgmpy/factors/discrete/DiscreteFactor.py:796: RuntimeWarning:\n",
      "\n",
      "invalid value encountered in divide\n",
      "\n",
      "/Users/tristan.trebaol/Desktop/PhD/Code/pgmpy/pgmpy/factors/discrete/DiscreteFactor.py:796: RuntimeWarning:\n",
      "\n",
      "invalid value encountered in divide\n",
      "\n",
      "/Users/tristan.trebaol/Desktop/PhD/Code/pgmpy/pgmpy/factors/discrete/DiscreteFactor.py:796: RuntimeWarning:\n",
      "\n",
      "invalid value encountered in divide\n",
      "\n"
     ]
    },
    {
     "name": "stdout",
     "output_type": "stream",
     "text": [
      "Too few data, skipping ID 267\n"
     ]
    },
    {
     "name": "stderr",
     "output_type": "stream",
     "text": [
      "/Users/tristan.trebaol/Desktop/PhD/Code/pgmpy/pgmpy/factors/discrete/DiscreteFactor.py:796: RuntimeWarning:\n",
      "\n",
      "invalid value encountered in divide\n",
      "\n",
      "/Users/tristan.trebaol/Desktop/PhD/Code/pgmpy/pgmpy/factors/discrete/DiscreteFactor.py:796: RuntimeWarning:\n",
      "\n",
      "invalid value encountered in divide\n",
      "\n",
      "/Users/tristan.trebaol/Desktop/PhD/Code/pgmpy/pgmpy/factors/discrete/DiscreteFactor.py:796: RuntimeWarning:\n",
      "\n",
      "invalid value encountered in divide\n",
      "\n",
      "/Users/tristan.trebaol/Desktop/PhD/Code/pgmpy/pgmpy/factors/discrete/DiscreteFactor.py:796: RuntimeWarning:\n",
      "\n",
      "invalid value encountered in divide\n",
      "\n",
      "/Users/tristan.trebaol/Desktop/PhD/Code/pgmpy/pgmpy/factors/discrete/DiscreteFactor.py:796: RuntimeWarning:\n",
      "\n",
      "invalid value encountered in divide\n",
      "\n",
      "/Users/tristan.trebaol/Desktop/PhD/Code/pgmpy/pgmpy/factors/discrete/DiscreteFactor.py:796: RuntimeWarning:\n",
      "\n",
      "invalid value encountered in divide\n",
      "\n",
      "/Users/tristan.trebaol/Desktop/PhD/Code/pgmpy/pgmpy/factors/discrete/DiscreteFactor.py:796: RuntimeWarning:\n",
      "\n",
      "invalid value encountered in divide\n",
      "\n",
      "/Users/tristan.trebaol/Desktop/PhD/Code/pgmpy/pgmpy/factors/discrete/DiscreteFactor.py:796: RuntimeWarning:\n",
      "\n",
      "invalid value encountered in divide\n",
      "\n",
      "/Users/tristan.trebaol/Desktop/PhD/Code/pgmpy/pgmpy/factors/discrete/DiscreteFactor.py:796: RuntimeWarning:\n",
      "\n",
      "invalid value encountered in divide\n",
      "\n",
      "/Users/tristan.trebaol/Desktop/PhD/Code/pgmpy/pgmpy/factors/discrete/DiscreteFactor.py:796: RuntimeWarning:\n",
      "\n",
      "invalid value encountered in divide\n",
      "\n",
      "/Users/tristan.trebaol/Desktop/PhD/Code/pgmpy/pgmpy/factors/discrete/DiscreteFactor.py:796: RuntimeWarning:\n",
      "\n",
      "invalid value encountered in divide\n",
      "\n",
      "/Users/tristan.trebaol/Desktop/PhD/Code/pgmpy/pgmpy/factors/discrete/DiscreteFactor.py:796: RuntimeWarning:\n",
      "\n",
      "invalid value encountered in divide\n",
      "\n",
      "/Users/tristan.trebaol/Desktop/PhD/Code/pgmpy/pgmpy/factors/discrete/DiscreteFactor.py:796: RuntimeWarning:\n",
      "\n",
      "invalid value encountered in divide\n",
      "\n",
      "/Users/tristan.trebaol/Desktop/PhD/Code/pgmpy/pgmpy/factors/discrete/DiscreteFactor.py:796: RuntimeWarning:\n",
      "\n",
      "invalid value encountered in divide\n",
      "\n"
     ]
    },
    {
     "name": "stdout",
     "output_type": "stream",
     "text": [
      "Max FEV1 in the first 4 days, skipping ID 285\n"
     ]
    },
    {
     "name": "stderr",
     "output_type": "stream",
     "text": [
      "/Users/tristan.trebaol/Desktop/PhD/Code/pgmpy/pgmpy/factors/discrete/DiscreteFactor.py:796: RuntimeWarning:\n",
      "\n",
      "invalid value encountered in divide\n",
      "\n"
     ]
    },
    {
     "name": "stdout",
     "output_type": "stream",
     "text": [
      "Too few data, skipping ID 288\n"
     ]
    },
    {
     "name": "stderr",
     "output_type": "stream",
     "text": [
      "/Users/tristan.trebaol/Desktop/PhD/Code/pgmpy/pgmpy/factors/discrete/DiscreteFactor.py:796: RuntimeWarning:\n",
      "\n",
      "invalid value encountered in divide\n",
      "\n",
      "/Users/tristan.trebaol/Desktop/PhD/Code/pgmpy/pgmpy/factors/discrete/DiscreteFactor.py:796: RuntimeWarning:\n",
      "\n",
      "invalid value encountered in divide\n",
      "\n",
      "/Users/tristan.trebaol/Desktop/PhD/Code/pgmpy/pgmpy/factors/discrete/DiscreteFactor.py:796: RuntimeWarning:\n",
      "\n",
      "invalid value encountered in divide\n",
      "\n",
      "/Users/tristan.trebaol/Desktop/PhD/Code/pgmpy/pgmpy/factors/discrete/DiscreteFactor.py:796: RuntimeWarning:\n",
      "\n",
      "invalid value encountered in divide\n",
      "\n",
      "/Users/tristan.trebaol/Desktop/PhD/Code/pgmpy/pgmpy/factors/discrete/DiscreteFactor.py:796: RuntimeWarning:\n",
      "\n",
      "invalid value encountered in divide\n",
      "\n",
      "/Users/tristan.trebaol/Desktop/PhD/Code/pgmpy/pgmpy/factors/discrete/DiscreteFactor.py:796: RuntimeWarning:\n",
      "\n",
      "invalid value encountered in divide\n",
      "\n",
      "/Users/tristan.trebaol/Desktop/PhD/Code/pgmpy/pgmpy/factors/discrete/DiscreteFactor.py:796: RuntimeWarning:\n",
      "\n",
      "invalid value encountered in divide\n",
      "\n",
      "/Users/tristan.trebaol/Desktop/PhD/Code/pgmpy/pgmpy/factors/discrete/DiscreteFactor.py:796: RuntimeWarning:\n",
      "\n",
      "invalid value encountered in divide\n",
      "\n",
      "/Users/tristan.trebaol/Desktop/PhD/Code/pgmpy/pgmpy/factors/discrete/DiscreteFactor.py:796: RuntimeWarning:\n",
      "\n",
      "invalid value encountered in divide\n",
      "\n",
      "/Users/tristan.trebaol/Desktop/PhD/Code/pgmpy/pgmpy/factors/discrete/DiscreteFactor.py:796: RuntimeWarning:\n",
      "\n",
      "invalid value encountered in divide\n",
      "\n",
      "/Users/tristan.trebaol/Desktop/PhD/Code/pgmpy/pgmpy/factors/discrete/DiscreteFactor.py:796: RuntimeWarning:\n",
      "\n",
      "invalid value encountered in divide\n",
      "\n",
      "/Users/tristan.trebaol/Desktop/PhD/Code/pgmpy/pgmpy/factors/discrete/DiscreteFactor.py:796: RuntimeWarning:\n",
      "\n",
      "invalid value encountered in divide\n",
      "\n",
      "/Users/tristan.trebaol/Desktop/PhD/Code/pgmpy/pgmpy/factors/discrete/DiscreteFactor.py:796: RuntimeWarning:\n",
      "\n",
      "invalid value encountered in divide\n",
      "\n",
      "/Users/tristan.trebaol/Desktop/PhD/Code/pgmpy/pgmpy/factors/discrete/DiscreteFactor.py:796: RuntimeWarning:\n",
      "\n",
      "invalid value encountered in divide\n",
      "\n",
      "/Users/tristan.trebaol/Desktop/PhD/Code/pgmpy/pgmpy/factors/discrete/DiscreteFactor.py:796: RuntimeWarning:\n",
      "\n",
      "invalid value encountered in divide\n",
      "\n"
     ]
    },
    {
     "name": "stdout",
     "output_type": "stream",
     "text": [
      "Too few data, skipping ID 305\n"
     ]
    },
    {
     "name": "stderr",
     "output_type": "stream",
     "text": [
      "/Users/tristan.trebaol/Desktop/PhD/Code/pgmpy/pgmpy/factors/discrete/DiscreteFactor.py:796: RuntimeWarning:\n",
      "\n",
      "invalid value encountered in divide\n",
      "\n",
      "/Users/tristan.trebaol/Desktop/PhD/Code/pgmpy/pgmpy/factors/discrete/DiscreteFactor.py:796: RuntimeWarning:\n",
      "\n",
      "invalid value encountered in divide\n",
      "\n"
     ]
    },
    {
     "name": "stdout",
     "output_type": "stream",
     "text": [
      "Too few data, skipping ID 308\n"
     ]
    },
    {
     "name": "stderr",
     "output_type": "stream",
     "text": [
      "/Users/tristan.trebaol/Desktop/PhD/Code/pgmpy/pgmpy/factors/discrete/DiscreteFactor.py:796: RuntimeWarning:\n",
      "\n",
      "invalid value encountered in divide\n",
      "\n",
      "/Users/tristan.trebaol/Desktop/PhD/Code/pgmpy/pgmpy/factors/discrete/DiscreteFactor.py:796: RuntimeWarning:\n",
      "\n",
      "invalid value encountered in divide\n",
      "\n",
      "/Users/tristan.trebaol/Desktop/PhD/Code/pgmpy/pgmpy/factors/discrete/DiscreteFactor.py:796: RuntimeWarning:\n",
      "\n",
      "invalid value encountered in divide\n",
      "\n",
      "/Users/tristan.trebaol/Desktop/PhD/Code/pgmpy/pgmpy/factors/discrete/DiscreteFactor.py:796: RuntimeWarning:\n",
      "\n",
      "invalid value encountered in divide\n",
      "\n"
     ]
    },
    {
     "name": "stdout",
     "output_type": "stream",
     "text": [
      "Max FEV1 in the first 4 days, skipping ID 313\n"
     ]
    },
    {
     "name": "stderr",
     "output_type": "stream",
     "text": [
      "/Users/tristan.trebaol/Desktop/PhD/Code/pgmpy/pgmpy/factors/discrete/DiscreteFactor.py:796: RuntimeWarning:\n",
      "\n",
      "invalid value encountered in divide\n",
      "\n",
      "/Users/tristan.trebaol/Desktop/PhD/Code/pgmpy/pgmpy/factors/discrete/DiscreteFactor.py:796: RuntimeWarning:\n",
      "\n",
      "invalid value encountered in divide\n",
      "\n"
     ]
    },
    {
     "name": "stdout",
     "output_type": "stream",
     "text": [
      "Too few data, skipping ID 316\n"
     ]
    },
    {
     "name": "stderr",
     "output_type": "stream",
     "text": [
      "/Users/tristan.trebaol/Desktop/PhD/Code/pgmpy/pgmpy/factors/discrete/DiscreteFactor.py:796: RuntimeWarning:\n",
      "\n",
      "invalid value encountered in divide\n",
      "\n"
     ]
    },
    {
     "name": "stdout",
     "output_type": "stream",
     "text": [
      "Max FEV1 in the first 4 days, skipping ID 318\n"
     ]
    },
    {
     "name": "stderr",
     "output_type": "stream",
     "text": [
      "/Users/tristan.trebaol/Desktop/PhD/Code/pgmpy/pgmpy/factors/discrete/DiscreteFactor.py:796: RuntimeWarning:\n",
      "\n",
      "invalid value encountered in divide\n",
      "\n"
     ]
    },
    {
     "name": "stdout",
     "output_type": "stream",
     "text": [
      "Too few data, skipping ID 320\n",
      "Too few data, skipping ID 321\n"
     ]
    },
    {
     "name": "stderr",
     "output_type": "stream",
     "text": [
      "/Users/tristan.trebaol/Desktop/PhD/Code/pgmpy/pgmpy/factors/discrete/DiscreteFactor.py:796: RuntimeWarning:\n",
      "\n",
      "invalid value encountered in divide\n",
      "\n"
     ]
    },
    {
     "name": "stdout",
     "output_type": "stream",
     "text": [
      "Max FEV1 in the first 4 days, skipping ID 327\n"
     ]
    },
    {
     "name": "stderr",
     "output_type": "stream",
     "text": [
      "/Users/tristan.trebaol/Desktop/PhD/Code/pgmpy/pgmpy/factors/discrete/DiscreteFactor.py:796: RuntimeWarning:\n",
      "\n",
      "invalid value encountered in divide\n",
      "\n"
     ]
    },
    {
     "name": "stdout",
     "output_type": "stream",
     "text": [
      "Too few data, skipping ID 333\n"
     ]
    },
    {
     "name": "stderr",
     "output_type": "stream",
     "text": [
      "/Users/tristan.trebaol/Desktop/PhD/Code/pgmpy/pgmpy/factors/discrete/DiscreteFactor.py:796: RuntimeWarning:\n",
      "\n",
      "invalid value encountered in divide\n",
      "\n",
      "/Users/tristan.trebaol/Desktop/PhD/Code/pgmpy/pgmpy/factors/discrete/DiscreteFactor.py:796: RuntimeWarning:\n",
      "\n",
      "invalid value encountered in divide\n",
      "\n"
     ]
    },
    {
     "name": "stdout",
     "output_type": "stream",
     "text": [
      "Too few data, skipping ID 337\n",
      "Too few data, skipping ID 338\n"
     ]
    },
    {
     "name": "stderr",
     "output_type": "stream",
     "text": [
      "/Users/tristan.trebaol/Desktop/PhD/Code/pgmpy/pgmpy/factors/discrete/DiscreteFactor.py:796: RuntimeWarning:\n",
      "\n",
      "invalid value encountered in divide\n",
      "\n"
     ]
    },
    {
     "name": "stdout",
     "output_type": "stream",
     "text": [
      "Too few data, skipping ID 340\n"
     ]
    },
    {
     "name": "stderr",
     "output_type": "stream",
     "text": [
      "/Users/tristan.trebaol/Desktop/PhD/Code/pgmpy/pgmpy/factors/discrete/DiscreteFactor.py:796: RuntimeWarning:\n",
      "\n",
      "invalid value encountered in divide\n",
      "\n",
      "/Users/tristan.trebaol/Desktop/PhD/Code/pgmpy/pgmpy/factors/discrete/DiscreteFactor.py:796: RuntimeWarning:\n",
      "\n",
      "invalid value encountered in divide\n",
      "\n"
     ]
    },
    {
     "name": "stdout",
     "output_type": "stream",
     "text": [
      "Max FEV1 in the first 4 days, skipping ID 345\n"
     ]
    },
    {
     "name": "stderr",
     "output_type": "stream",
     "text": [
      "/Users/tristan.trebaol/Desktop/PhD/Code/pgmpy/pgmpy/factors/discrete/DiscreteFactor.py:796: RuntimeWarning:\n",
      "\n",
      "invalid value encountered in divide\n",
      "\n",
      "/Users/tristan.trebaol/Desktop/PhD/Code/pgmpy/pgmpy/factors/discrete/DiscreteFactor.py:796: RuntimeWarning:\n",
      "\n",
      "invalid value encountered in divide\n",
      "\n",
      "/Users/tristan.trebaol/Desktop/PhD/Code/pgmpy/pgmpy/factors/discrete/DiscreteFactor.py:796: RuntimeWarning:\n",
      "\n",
      "invalid value encountered in divide\n",
      "\n"
     ]
    },
    {
     "name": "stdout",
     "output_type": "stream",
     "text": [
      "Too few data, skipping ID 354\n",
      "Too few data, skipping ID 355\n",
      "Max FEV1 in the first 4 days, skipping ID 357\n",
      "Max FEV1 in the first 4 days, skipping ID 358\n",
      "Max FEV1 in the first 4 days, skipping ID 359\n",
      "Max FEV1 in the first 4 days, skipping ID 361\n"
     ]
    },
    {
     "name": "stderr",
     "output_type": "stream",
     "text": [
      "/Users/tristan.trebaol/Desktop/PhD/Code/pgmpy/pgmpy/factors/discrete/DiscreteFactor.py:796: RuntimeWarning:\n",
      "\n",
      "invalid value encountered in divide\n",
      "\n",
      "/Users/tristan.trebaol/Desktop/PhD/Code/pgmpy/pgmpy/factors/discrete/DiscreteFactor.py:796: RuntimeWarning:\n",
      "\n",
      "invalid value encountered in divide\n",
      "\n",
      "/Users/tristan.trebaol/Desktop/PhD/Code/pgmpy/pgmpy/factors/discrete/DiscreteFactor.py:796: RuntimeWarning:\n",
      "\n",
      "invalid value encountered in divide\n",
      "\n"
     ]
    },
    {
     "name": "stdout",
     "output_type": "stream",
     "text": [
      "Too few data, skipping ID 367\n",
      "Max FEV1 in the first 4 days, skipping ID 370\n"
     ]
    },
    {
     "name": "stderr",
     "output_type": "stream",
     "text": [
      "/Users/tristan.trebaol/Desktop/PhD/Code/pgmpy/pgmpy/factors/discrete/DiscreteFactor.py:796: RuntimeWarning:\n",
      "\n",
      "invalid value encountered in divide\n",
      "\n",
      "/Users/tristan.trebaol/Desktop/PhD/Code/pgmpy/pgmpy/factors/discrete/DiscreteFactor.py:796: RuntimeWarning:\n",
      "\n",
      "invalid value encountered in divide\n",
      "\n"
     ]
    },
    {
     "name": "stdout",
     "output_type": "stream",
     "text": [
      "Too few data, skipping ID 376\n"
     ]
    },
    {
     "name": "stderr",
     "output_type": "stream",
     "text": [
      "/Users/tristan.trebaol/Desktop/PhD/Code/pgmpy/pgmpy/factors/discrete/DiscreteFactor.py:796: RuntimeWarning:\n",
      "\n",
      "invalid value encountered in divide\n",
      "\n",
      "/Users/tristan.trebaol/Desktop/PhD/Code/pgmpy/pgmpy/factors/discrete/DiscreteFactor.py:796: RuntimeWarning:\n",
      "\n",
      "invalid value encountered in divide\n",
      "\n",
      "/Users/tristan.trebaol/Desktop/PhD/Code/pgmpy/pgmpy/factors/discrete/DiscreteFactor.py:796: RuntimeWarning:\n",
      "\n",
      "invalid value encountered in divide\n",
      "\n"
     ]
    },
    {
     "name": "stdout",
     "output_type": "stream",
     "text": [
      "Too few data, skipping ID 382\n"
     ]
    },
    {
     "name": "stderr",
     "output_type": "stream",
     "text": [
      "/Users/tristan.trebaol/Desktop/PhD/Code/pgmpy/pgmpy/factors/discrete/DiscreteFactor.py:796: RuntimeWarning:\n",
      "\n",
      "invalid value encountered in divide\n",
      "\n"
     ]
    },
    {
     "name": "stdout",
     "output_type": "stream",
     "text": [
      "Too few data, skipping ID 385\n",
      "Too few data, skipping ID 386\n"
     ]
    },
    {
     "name": "stderr",
     "output_type": "stream",
     "text": [
      "/Users/tristan.trebaol/Desktop/PhD/Code/pgmpy/pgmpy/factors/discrete/DiscreteFactor.py:796: RuntimeWarning:\n",
      "\n",
      "invalid value encountered in divide\n",
      "\n",
      "/Users/tristan.trebaol/Desktop/PhD/Code/pgmpy/pgmpy/factors/discrete/DiscreteFactor.py:796: RuntimeWarning:\n",
      "\n",
      "invalid value encountered in divide\n",
      "\n"
     ]
    },
    {
     "name": "stdout",
     "output_type": "stream",
     "text": [
      "Too few data, skipping ID 392\n"
     ]
    },
    {
     "name": "stderr",
     "output_type": "stream",
     "text": [
      "/Users/tristan.trebaol/Desktop/PhD/Code/pgmpy/pgmpy/factors/discrete/DiscreteFactor.py:796: RuntimeWarning:\n",
      "\n",
      "invalid value encountered in divide\n",
      "\n",
      "/Users/tristan.trebaol/Desktop/PhD/Code/pgmpy/pgmpy/factors/discrete/DiscreteFactor.py:796: RuntimeWarning:\n",
      "\n",
      "invalid value encountered in divide\n",
      "\n"
     ]
    },
    {
     "name": "stdout",
     "output_type": "stream",
     "text": [
      "Too few data, skipping ID 396\n"
     ]
    },
    {
     "name": "stderr",
     "output_type": "stream",
     "text": [
      "/Users/tristan.trebaol/Desktop/PhD/Code/pgmpy/pgmpy/factors/discrete/DiscreteFactor.py:796: RuntimeWarning:\n",
      "\n",
      "invalid value encountered in divide\n",
      "\n"
     ]
    },
    {
     "name": "stdout",
     "output_type": "stream",
     "text": [
      "Too few data, skipping ID 402\n"
     ]
    },
    {
     "name": "stderr",
     "output_type": "stream",
     "text": [
      "/Users/tristan.trebaol/Desktop/PhD/Code/pgmpy/pgmpy/factors/discrete/DiscreteFactor.py:796: RuntimeWarning:\n",
      "\n",
      "invalid value encountered in divide\n",
      "\n",
      "/Users/tristan.trebaol/Desktop/PhD/Code/pgmpy/pgmpy/factors/discrete/DiscreteFactor.py:796: RuntimeWarning:\n",
      "\n",
      "invalid value encountered in divide\n",
      "\n",
      "/Users/tristan.trebaol/Desktop/PhD/Code/pgmpy/pgmpy/factors/discrete/DiscreteFactor.py:796: RuntimeWarning:\n",
      "\n",
      "invalid value encountered in divide\n",
      "\n",
      "/Users/tristan.trebaol/Desktop/PhD/Code/pgmpy/pgmpy/factors/discrete/DiscreteFactor.py:796: RuntimeWarning:\n",
      "\n",
      "invalid value encountered in divide\n",
      "\n",
      "/Users/tristan.trebaol/Desktop/PhD/Code/pgmpy/pgmpy/factors/discrete/DiscreteFactor.py:796: RuntimeWarning:\n",
      "\n",
      "invalid value encountered in divide\n",
      "\n",
      "/Users/tristan.trebaol/Desktop/PhD/Code/pgmpy/pgmpy/factors/discrete/DiscreteFactor.py:796: RuntimeWarning:\n",
      "\n",
      "invalid value encountered in divide\n",
      "\n",
      "/Users/tristan.trebaol/Desktop/PhD/Code/pgmpy/pgmpy/factors/discrete/DiscreteFactor.py:796: RuntimeWarning:\n",
      "\n",
      "invalid value encountered in divide\n",
      "\n"
     ]
    },
    {
     "name": "stdout",
     "output_type": "stream",
     "text": [
      "Max FEV1 in the first 4 days, skipping ID 411\n"
     ]
    },
    {
     "name": "stderr",
     "output_type": "stream",
     "text": [
      "/Users/tristan.trebaol/Desktop/PhD/Code/pgmpy/pgmpy/factors/discrete/DiscreteFactor.py:796: RuntimeWarning:\n",
      "\n",
      "invalid value encountered in divide\n",
      "\n",
      "/Users/tristan.trebaol/Desktop/PhD/Code/pgmpy/pgmpy/factors/discrete/DiscreteFactor.py:796: RuntimeWarning:\n",
      "\n",
      "invalid value encountered in divide\n",
      "\n"
     ]
    },
    {
     "name": "stdout",
     "output_type": "stream",
     "text": [
      "Max FEV1 in the first 4 days, skipping ID 414\n"
     ]
    },
    {
     "name": "stderr",
     "output_type": "stream",
     "text": [
      "/Users/tristan.trebaol/Desktop/PhD/Code/pgmpy/pgmpy/factors/discrete/DiscreteFactor.py:796: RuntimeWarning:\n",
      "\n",
      "invalid value encountered in divide\n",
      "\n",
      "/Users/tristan.trebaol/Desktop/PhD/Code/pgmpy/pgmpy/factors/discrete/DiscreteFactor.py:796: RuntimeWarning:\n",
      "\n",
      "invalid value encountered in divide\n",
      "\n",
      "/Users/tristan.trebaol/Desktop/PhD/Code/pgmpy/pgmpy/factors/discrete/DiscreteFactor.py:796: RuntimeWarning:\n",
      "\n",
      "invalid value encountered in divide\n",
      "\n"
     ]
    },
    {
     "name": "stdout",
     "output_type": "stream",
     "text": [
      "Max FEV1 in the first 4 days, skipping ID 419\n"
     ]
    },
    {
     "name": "stderr",
     "output_type": "stream",
     "text": [
      "/Users/tristan.trebaol/Desktop/PhD/Code/pgmpy/pgmpy/factors/discrete/DiscreteFactor.py:796: RuntimeWarning:\n",
      "\n",
      "invalid value encountered in divide\n",
      "\n",
      "/Users/tristan.trebaol/Desktop/PhD/Code/pgmpy/pgmpy/factors/discrete/DiscreteFactor.py:796: RuntimeWarning:\n",
      "\n",
      "invalid value encountered in divide\n",
      "\n",
      "/Users/tristan.trebaol/Desktop/PhD/Code/pgmpy/pgmpy/factors/discrete/DiscreteFactor.py:796: RuntimeWarning:\n",
      "\n",
      "invalid value encountered in divide\n",
      "\n",
      "/Users/tristan.trebaol/Desktop/PhD/Code/pgmpy/pgmpy/factors/discrete/DiscreteFactor.py:796: RuntimeWarning:\n",
      "\n",
      "invalid value encountered in divide\n",
      "\n",
      "/Users/tristan.trebaol/Desktop/PhD/Code/pgmpy/pgmpy/factors/discrete/DiscreteFactor.py:796: RuntimeWarning:\n",
      "\n",
      "invalid value encountered in divide\n",
      "\n",
      "/Users/tristan.trebaol/Desktop/PhD/Code/pgmpy/pgmpy/factors/discrete/DiscreteFactor.py:796: RuntimeWarning:\n",
      "\n",
      "invalid value encountered in divide\n",
      "\n",
      "/Users/tristan.trebaol/Desktop/PhD/Code/pgmpy/pgmpy/factors/discrete/DiscreteFactor.py:796: RuntimeWarning:\n",
      "\n",
      "invalid value encountered in divide\n",
      "\n"
     ]
    },
    {
     "name": "stdout",
     "output_type": "stream",
     "text": [
      "Too few data, skipping ID 428\n",
      "Too few data, skipping ID 429\n"
     ]
    },
    {
     "name": "stderr",
     "output_type": "stream",
     "text": [
      "/Users/tristan.trebaol/Desktop/PhD/Code/pgmpy/pgmpy/factors/discrete/DiscreteFactor.py:796: RuntimeWarning:\n",
      "\n",
      "invalid value encountered in divide\n",
      "\n",
      "/Users/tristan.trebaol/Desktop/PhD/Code/pgmpy/pgmpy/factors/discrete/DiscreteFactor.py:796: RuntimeWarning:\n",
      "\n",
      "invalid value encountered in divide\n",
      "\n",
      "/Users/tristan.trebaol/Desktop/PhD/Code/pgmpy/pgmpy/factors/discrete/DiscreteFactor.py:796: RuntimeWarning:\n",
      "\n",
      "invalid value encountered in divide\n",
      "\n",
      "/Users/tristan.trebaol/Desktop/PhD/Code/pgmpy/pgmpy/factors/discrete/DiscreteFactor.py:796: RuntimeWarning:\n",
      "\n",
      "invalid value encountered in divide\n",
      "\n",
      "/Users/tristan.trebaol/Desktop/PhD/Code/pgmpy/pgmpy/factors/discrete/DiscreteFactor.py:796: RuntimeWarning:\n",
      "\n",
      "invalid value encountered in divide\n",
      "\n",
      "/Users/tristan.trebaol/Desktop/PhD/Code/pgmpy/pgmpy/factors/discrete/DiscreteFactor.py:796: RuntimeWarning:\n",
      "\n",
      "invalid value encountered in divide\n",
      "\n"
     ]
    },
    {
     "name": "stdout",
     "output_type": "stream",
     "text": [
      "Max FEV1 in the first 4 days, skipping ID 440\n",
      "Max FEV1 in the first 4 days, skipping ID 441\n"
     ]
    },
    {
     "name": "stderr",
     "output_type": "stream",
     "text": [
      "/Users/tristan.trebaol/Desktop/PhD/Code/pgmpy/pgmpy/factors/discrete/DiscreteFactor.py:796: RuntimeWarning:\n",
      "\n",
      "invalid value encountered in divide\n",
      "\n"
     ]
    },
    {
     "name": "stdout",
     "output_type": "stream",
     "text": [
      "Max FEV1 in the first 4 days, skipping ID 443\n",
      "Max FEV1 in the first 4 days, skipping ID 444\n"
     ]
    },
    {
     "name": "stderr",
     "output_type": "stream",
     "text": [
      "/Users/tristan.trebaol/Desktop/PhD/Code/pgmpy/pgmpy/factors/discrete/DiscreteFactor.py:796: RuntimeWarning:\n",
      "\n",
      "invalid value encountered in divide\n",
      "\n"
     ]
    },
    {
     "name": "stdout",
     "output_type": "stream",
     "text": [
      "Max FEV1 in the first 4 days, skipping ID 448\n",
      "Too few data, skipping ID 451\n",
      "Max FEV1 in the first 4 days, skipping ID 452\n"
     ]
    },
    {
     "name": "stderr",
     "output_type": "stream",
     "text": [
      "/Users/tristan.trebaol/Desktop/PhD/Code/pgmpy/pgmpy/factors/discrete/DiscreteFactor.py:796: RuntimeWarning:\n",
      "\n",
      "invalid value encountered in divide\n",
      "\n"
     ]
    },
    {
     "name": "stdout",
     "output_type": "stream",
     "text": [
      "Too few data, skipping ID 454\n"
     ]
    },
    {
     "name": "stderr",
     "output_type": "stream",
     "text": [
      "/Users/tristan.trebaol/Desktop/PhD/Code/pgmpy/pgmpy/factors/discrete/DiscreteFactor.py:796: RuntimeWarning:\n",
      "\n",
      "invalid value encountered in divide\n",
      "\n"
     ]
    },
    {
     "name": "stdout",
     "output_type": "stream",
     "text": [
      "Max FEV1 in the first 4 days, skipping ID 461\n"
     ]
    },
    {
     "name": "stderr",
     "output_type": "stream",
     "text": [
      "/Users/tristan.trebaol/Desktop/PhD/Code/pgmpy/pgmpy/factors/discrete/DiscreteFactor.py:796: RuntimeWarning:\n",
      "\n",
      "invalid value encountered in divide\n",
      "\n"
     ]
    },
    {
     "name": "stdout",
     "output_type": "stream",
     "text": [
      "Max FEV1 in the first 4 days, skipping ID 467\n"
     ]
    },
    {
     "name": "stderr",
     "output_type": "stream",
     "text": [
      "/Users/tristan.trebaol/Desktop/PhD/Code/pgmpy/pgmpy/factors/discrete/DiscreteFactor.py:796: RuntimeWarning:\n",
      "\n",
      "invalid value encountered in divide\n",
      "\n",
      "/Users/tristan.trebaol/Desktop/PhD/Code/pgmpy/pgmpy/factors/discrete/DiscreteFactor.py:796: RuntimeWarning:\n",
      "\n",
      "invalid value encountered in divide\n",
      "\n",
      "/Users/tristan.trebaol/Desktop/PhD/Code/pgmpy/pgmpy/factors/discrete/DiscreteFactor.py:796: RuntimeWarning:\n",
      "\n",
      "invalid value encountered in divide\n",
      "\n",
      "/Users/tristan.trebaol/Desktop/PhD/Code/pgmpy/pgmpy/factors/discrete/DiscreteFactor.py:796: RuntimeWarning:\n",
      "\n",
      "invalid value encountered in divide\n",
      "\n",
      "/Users/tristan.trebaol/Desktop/PhD/Code/pgmpy/pgmpy/factors/discrete/DiscreteFactor.py:796: RuntimeWarning:\n",
      "\n",
      "invalid value encountered in divide\n",
      "\n",
      "/Users/tristan.trebaol/Desktop/PhD/Code/pgmpy/pgmpy/factors/discrete/DiscreteFactor.py:796: RuntimeWarning:\n",
      "\n",
      "invalid value encountered in divide\n",
      "\n",
      "/Users/tristan.trebaol/Desktop/PhD/Code/pgmpy/pgmpy/factors/discrete/DiscreteFactor.py:796: RuntimeWarning:\n",
      "\n",
      "invalid value encountered in divide\n",
      "\n",
      "/Users/tristan.trebaol/Desktop/PhD/Code/pgmpy/pgmpy/factors/discrete/DiscreteFactor.py:796: RuntimeWarning:\n",
      "\n",
      "invalid value encountered in divide\n",
      "\n"
     ]
    },
    {
     "name": "stdout",
     "output_type": "stream",
     "text": [
      "Too few data, skipping ID 487\n"
     ]
    },
    {
     "name": "stderr",
     "output_type": "stream",
     "text": [
      "/Users/tristan.trebaol/Desktop/PhD/Code/pgmpy/pgmpy/factors/discrete/DiscreteFactor.py:796: RuntimeWarning:\n",
      "\n",
      "invalid value encountered in divide\n",
      "\n"
     ]
    },
    {
     "name": "stdout",
     "output_type": "stream",
     "text": [
      "Too few data, skipping ID 489\n"
     ]
    },
    {
     "name": "stderr",
     "output_type": "stream",
     "text": [
      "/Users/tristan.trebaol/Desktop/PhD/Code/pgmpy/pgmpy/factors/discrete/DiscreteFactor.py:796: RuntimeWarning:\n",
      "\n",
      "invalid value encountered in divide\n",
      "\n",
      "/Users/tristan.trebaol/Desktop/PhD/Code/pgmpy/pgmpy/factors/discrete/DiscreteFactor.py:796: RuntimeWarning:\n",
      "\n",
      "invalid value encountered in divide\n",
      "\n",
      "/Users/tristan.trebaol/Desktop/PhD/Code/pgmpy/pgmpy/factors/discrete/DiscreteFactor.py:796: RuntimeWarning:\n",
      "\n",
      "invalid value encountered in divide\n",
      "\n",
      "/Users/tristan.trebaol/Desktop/PhD/Code/pgmpy/pgmpy/factors/discrete/DiscreteFactor.py:796: RuntimeWarning:\n",
      "\n",
      "invalid value encountered in divide\n",
      "\n",
      "/Users/tristan.trebaol/Desktop/PhD/Code/pgmpy/pgmpy/factors/discrete/DiscreteFactor.py:796: RuntimeWarning:\n",
      "\n",
      "invalid value encountered in divide\n",
      "\n",
      "/Users/tristan.trebaol/Desktop/PhD/Code/pgmpy/pgmpy/factors/discrete/DiscreteFactor.py:796: RuntimeWarning:\n",
      "\n",
      "invalid value encountered in divide\n",
      "\n"
     ]
    },
    {
     "name": "stdout",
     "output_type": "stream",
     "text": [
      "Max FEV1 in the first 4 days, skipping ID 497\n",
      "Too few data, skipping ID 498\n",
      "Max FEV1 in the first 4 days, skipping ID 499\n"
     ]
    },
    {
     "name": "stderr",
     "output_type": "stream",
     "text": [
      "/Users/tristan.trebaol/Desktop/PhD/Code/pgmpy/pgmpy/factors/discrete/DiscreteFactor.py:796: RuntimeWarning:\n",
      "\n",
      "invalid value encountered in divide\n",
      "\n",
      "/Users/tristan.trebaol/Desktop/PhD/Code/pgmpy/pgmpy/factors/discrete/DiscreteFactor.py:796: RuntimeWarning:\n",
      "\n",
      "invalid value encountered in divide\n",
      "\n",
      "/Users/tristan.trebaol/Desktop/PhD/Code/pgmpy/pgmpy/factors/discrete/DiscreteFactor.py:796: RuntimeWarning:\n",
      "\n",
      "invalid value encountered in divide\n",
      "\n"
     ]
    },
    {
     "name": "stdout",
     "output_type": "stream",
     "text": [
      "Max FEV1 in the first 4 days, skipping ID 505\n"
     ]
    },
    {
     "name": "stderr",
     "output_type": "stream",
     "text": [
      "/Users/tristan.trebaol/Desktop/PhD/Code/pgmpy/pgmpy/factors/discrete/DiscreteFactor.py:796: RuntimeWarning:\n",
      "\n",
      "invalid value encountered in divide\n",
      "\n"
     ]
    },
    {
     "name": "stdout",
     "output_type": "stream",
     "text": [
      "Too few data, skipping ID 507\n"
     ]
    },
    {
     "name": "stderr",
     "output_type": "stream",
     "text": [
      "/Users/tristan.trebaol/Desktop/PhD/Code/pgmpy/pgmpy/factors/discrete/DiscreteFactor.py:796: RuntimeWarning:\n",
      "\n",
      "invalid value encountered in divide\n",
      "\n",
      "/Users/tristan.trebaol/Desktop/PhD/Code/pgmpy/pgmpy/factors/discrete/DiscreteFactor.py:796: RuntimeWarning:\n",
      "\n",
      "invalid value encountered in divide\n",
      "\n"
     ]
    },
    {
     "name": "stdout",
     "output_type": "stream",
     "text": [
      "Too few data, skipping ID 510\n"
     ]
    },
    {
     "name": "stderr",
     "output_type": "stream",
     "text": [
      "/Users/tristan.trebaol/Desktop/PhD/Code/pgmpy/pgmpy/factors/discrete/DiscreteFactor.py:796: RuntimeWarning:\n",
      "\n",
      "invalid value encountered in divide\n",
      "\n",
      "/Users/tristan.trebaol/Desktop/PhD/Code/pgmpy/pgmpy/factors/discrete/DiscreteFactor.py:796: RuntimeWarning:\n",
      "\n",
      "invalid value encountered in divide\n",
      "\n"
     ]
    },
    {
     "name": "stdout",
     "output_type": "stream",
     "text": [
      "Max FEV1 in the first 4 days, skipping ID 513\n"
     ]
    },
    {
     "name": "stderr",
     "output_type": "stream",
     "text": [
      "/Users/tristan.trebaol/Desktop/PhD/Code/pgmpy/pgmpy/factors/discrete/DiscreteFactor.py:796: RuntimeWarning:\n",
      "\n",
      "invalid value encountered in divide\n",
      "\n",
      "/Users/tristan.trebaol/Desktop/PhD/Code/pgmpy/pgmpy/factors/discrete/DiscreteFactor.py:796: RuntimeWarning:\n",
      "\n",
      "invalid value encountered in divide\n",
      "\n"
     ]
    },
    {
     "name": "stdout",
     "output_type": "stream",
     "text": [
      "Too few data, skipping ID 516\n",
      "Max FEV1 in the first 4 days, skipping ID 517\n",
      "Max FEV1 in the first 4 days, skipping ID 518\n",
      "Max FEV1 in the first 4 days, skipping ID 519\n"
     ]
    },
    {
     "name": "stderr",
     "output_type": "stream",
     "text": [
      "/Users/tristan.trebaol/Desktop/PhD/Code/pgmpy/pgmpy/factors/discrete/DiscreteFactor.py:796: RuntimeWarning:\n",
      "\n",
      "invalid value encountered in divide\n",
      "\n"
     ]
    },
    {
     "name": "stdout",
     "output_type": "stream",
     "text": [
      "Max FEV1 in the first 4 days, skipping ID 521\n",
      "Too few data, skipping ID 522\n"
     ]
    },
    {
     "name": "stderr",
     "output_type": "stream",
     "text": [
      "/Users/tristan.trebaol/Desktop/PhD/Code/pgmpy/pgmpy/factors/discrete/DiscreteFactor.py:796: RuntimeWarning:\n",
      "\n",
      "invalid value encountered in divide\n",
      "\n",
      "/Users/tristan.trebaol/Desktop/PhD/Code/pgmpy/pgmpy/factors/discrete/DiscreteFactor.py:796: RuntimeWarning:\n",
      "\n",
      "invalid value encountered in divide\n",
      "\n"
     ]
    },
    {
     "name": "stdout",
     "output_type": "stream",
     "text": [
      "Max FEV1 in the first 4 days, skipping ID 527\n"
     ]
    },
    {
     "name": "stderr",
     "output_type": "stream",
     "text": [
      "/Users/tristan.trebaol/Desktop/PhD/Code/pgmpy/pgmpy/factors/discrete/DiscreteFactor.py:796: RuntimeWarning:\n",
      "\n",
      "invalid value encountered in divide\n",
      "\n",
      "/Users/tristan.trebaol/Desktop/PhD/Code/pgmpy/pgmpy/factors/discrete/DiscreteFactor.py:796: RuntimeWarning:\n",
      "\n",
      "invalid value encountered in divide\n",
      "\n"
     ]
    },
    {
     "name": "stdout",
     "output_type": "stream",
     "text": [
      "Max FEV1 in the first 4 days, skipping ID 531\n"
     ]
    },
    {
     "name": "stderr",
     "output_type": "stream",
     "text": [
      "/Users/tristan.trebaol/Desktop/PhD/Code/pgmpy/pgmpy/factors/discrete/DiscreteFactor.py:796: RuntimeWarning:\n",
      "\n",
      "invalid value encountered in divide\n",
      "\n"
     ]
    },
    {
     "name": "stdout",
     "output_type": "stream",
     "text": [
      "Too few data, skipping ID 533\n"
     ]
    },
    {
     "name": "stderr",
     "output_type": "stream",
     "text": [
      "/Users/tristan.trebaol/Desktop/PhD/Code/pgmpy/pgmpy/factors/discrete/DiscreteFactor.py:796: RuntimeWarning:\n",
      "\n",
      "invalid value encountered in divide\n",
      "\n"
     ]
    },
    {
     "name": "stdout",
     "output_type": "stream",
     "text": [
      "Too few data, skipping ID 536\n"
     ]
    },
    {
     "name": "stderr",
     "output_type": "stream",
     "text": [
      "/Users/tristan.trebaol/Desktop/PhD/Code/pgmpy/pgmpy/factors/discrete/DiscreteFactor.py:796: RuntimeWarning:\n",
      "\n",
      "invalid value encountered in divide\n",
      "\n"
     ]
    },
    {
     "name": "stdout",
     "output_type": "stream",
     "text": [
      "Max FEV1 in the first 4 days, skipping ID 538\n"
     ]
    },
    {
     "name": "stderr",
     "output_type": "stream",
     "text": [
      "/Users/tristan.trebaol/Desktop/PhD/Code/pgmpy/pgmpy/factors/discrete/DiscreteFactor.py:796: RuntimeWarning:\n",
      "\n",
      "invalid value encountered in divide\n",
      "\n"
     ]
    },
    {
     "name": "stdout",
     "output_type": "stream",
     "text": [
      "Max FEV1 in the first 4 days, skipping ID 543\n"
     ]
    },
    {
     "name": "stderr",
     "output_type": "stream",
     "text": [
      "/Users/tristan.trebaol/Desktop/PhD/Code/pgmpy/pgmpy/factors/discrete/DiscreteFactor.py:796: RuntimeWarning:\n",
      "\n",
      "invalid value encountered in divide\n",
      "\n"
     ]
    },
    {
     "name": "stdout",
     "output_type": "stream",
     "text": [
      "Too few data, skipping ID 545\n",
      "Too few data, skipping ID 546\n",
      "Too few data, skipping ID 548\n"
     ]
    },
    {
     "name": "stderr",
     "output_type": "stream",
     "text": [
      "/Users/tristan.trebaol/Desktop/PhD/Code/pgmpy/pgmpy/factors/discrete/DiscreteFactor.py:796: RuntimeWarning:\n",
      "\n",
      "invalid value encountered in divide\n",
      "\n",
      "/Users/tristan.trebaol/Desktop/PhD/Code/pgmpy/pgmpy/factors/discrete/DiscreteFactor.py:796: RuntimeWarning:\n",
      "\n",
      "invalid value encountered in divide\n",
      "\n",
      "/Users/tristan.trebaol/Desktop/PhD/Code/pgmpy/pgmpy/factors/discrete/DiscreteFactor.py:796: RuntimeWarning:\n",
      "\n",
      "invalid value encountered in divide\n",
      "\n"
     ]
    },
    {
     "name": "stdout",
     "output_type": "stream",
     "text": [
      "Max FEV1 in the first 4 days, skipping ID 553\n"
     ]
    }
   ],
   "source": [
    "# Run one n days inference per ID\n",
    "# For now the n days contain is consecutive indices, not consecutive days, and the max FEV1 index\n",
    "\n",
    "n_days_consec_max = 3\n",
    "with_max_FEV1_after_first_round = True\n",
    "with_max_FEV1_at_first_round = False\n",
    "\n",
    "df_diffs = pd.DataFrame({})\n",
    "first_run = True\n",
    "debug = False\n",
    "n_days_total_max = (\n",
    "    n_days_consec_max + 1 if with_max_FEV1_after_first_round else n_days_consec_max\n",
    ")\n",
    "\n",
    "with_max_FEV1 = with_max_FEV1_at_first_round\n",
    "\n",
    "# Run the first twice, once without the max FEV1 index, then with\n",
    "for n_days_consec in [1] + list(range(1, n_days_consec_max + 1)):\n",
    "# for n_days_consec in list(range(1, n_days_consec_max + 1)):\n",
    "    df_res = pd.DataFrame({})\n",
    "    n_days_total = n_days_consec + 1 if with_max_FEV1 else n_days_consec\n",
    "    print(\"days concse\", n_days_consec, \"days total\", n_days_total)\n",
    "    if debug:\n",
    "        print(f\"{n_days_total} days, {n_days_consec} consecutive days\")\n",
    "\n",
    "    for id in df.ID.unique():\n",
    "    # for id in [\"101\", \"102\"]:\n",
    "        if debug:\n",
    "            print(f\"ID: {id}\")\n",
    "        df_for_ID = df[df[\"ID\"] == id].reset_index()\n",
    "\n",
    "        # Set values\n",
    "        height = df_for_ID.Height.iloc[0]\n",
    "        age = df_for_ID.Age.iloc[0]\n",
    "        sex = df_for_ID.Sex.iloc[0]\n",
    "\n",
    "        idx_max_FEV1 = df_for_ID.sort_values(\n",
    "            by=[\"ecFEV1\", \"ecFEF2575\", \"O2 Saturation\"], ascending=False\n",
    "        ).index[0]\n",
    "\n",
    "        # If df length is less than n_days, skip\n",
    "        if len(df_for_ID) < n_days_total_max:\n",
    "            print(f\"Too few data, skipping ID {id}\")\n",
    "            continue\n",
    "\n",
    "        # If idx_max_FEV1 is in the first n_days, skip\n",
    "        if idx_max_FEV1 < n_days_total_max:\n",
    "            print(f\"Max FEV1 in the first {n_days_total_max} days, skipping ID {id}\")\n",
    "            continue\n",
    "\n",
    "        # Variable listing used the set up parameters, not to infer\n",
    "        (\n",
    "            _,\n",
    "            inf_alg_approx,\n",
    "            HFEV1,\n",
    "            ecFEV1,\n",
    "            AR,\n",
    "            HO2Sat,\n",
    "            O2SatFFA,\n",
    "            IA,\n",
    "            UO2Sat,\n",
    "            O2Sat,\n",
    "        ) = mb.o2sat_fev1_point_in_time_model_shared_healthy_vars_light(\n",
    "            height, age, sex\n",
    "        )\n",
    "\n",
    "        # Set variables parametrisation\n",
    "        key_hfev1 = f\"['{ecFEV1.name}', '{HFEV1.name}', '{AR.name}'] -> {HFEV1.name}\"\n",
    "        key_ho2sat = (\n",
    "            f\"['{O2SatFFA.name}', '{HO2Sat.name}', '{AR.name}'] -> {HO2Sat.name}\"\n",
    "        )\n",
    "        HFEV1.set_factor_node_key(key_hfev1)\n",
    "        HO2Sat.set_factor_node_key(key_ho2sat)\n",
    "\n",
    "        # Set inputs for approximate inference\n",
    "        shared_vars_approx = [HFEV1, HO2Sat]\n",
    "        vars_approx = []\n",
    "        obs_var_names_approx = [ecFEV1.name, O2Sat.name]\n",
    "\n",
    "        (\n",
    "            model_exact,\n",
    "            inf_alg_exact,\n",
    "            HFEV1,\n",
    "            HO2Sat,\n",
    "            AR_vars,\n",
    "            ecFEV1_vars,\n",
    "            O2SatFFA_vars,\n",
    "            IA_vars,\n",
    "            UO2Sat_vars,\n",
    "            O2Sat_vars,\n",
    "        ) = mb.o2_sat_fev1_n_days_model_light(n_days_total, height, age, sex)\n",
    "        shared_vars_exact = [HFEV1, HO2Sat]\n",
    "\n",
    "        # Take random element from df_for_ID.index\n",
    "        np.random.seed(0)\n",
    "\n",
    "        chosen_idx_sequence = [idx_max_FEV1]\n",
    "        # !!! BEWARE THIS IS SEQUENTIAL INDICES, NOT SEQUENTIAL DAYS !!!\n",
    "        while idx_max_FEV1 in chosen_idx_sequence:\n",
    "            chosen_idx_sequence = np.random.choice(\n",
    "                list(range(0, len(df_for_ID) - n_days_total)), 1\n",
    "            )\n",
    "            # For each entry in idx_list, add consecutive idx to get n_days\n",
    "            chosen_idx_sequence = list(\n",
    "                range(chosen_idx_sequence[0], chosen_idx_sequence[0] + n_days_consec)\n",
    "            )\n",
    "\n",
    "        if with_max_FEV1:\n",
    "            df_n_days = df_for_ID.iloc[chosen_idx_sequence + [idx_max_FEV1]]\n",
    "        else:\n",
    "            df_n_days = df_for_ID.iloc[chosen_idx_sequence]\n",
    "\n",
    "        # Approximate inference\n",
    "        df_query_res, df_res_before_convergence, shared_vars_final = (\n",
    "            slicing.query_across_days(\n",
    "                df_n_days,\n",
    "                inf_alg_approx,\n",
    "                shared_vars_approx,\n",
    "                vars_approx,\n",
    "                obs_var_names_approx,\n",
    "                1e-8,\n",
    "                debug=False,\n",
    "                auto_reset_shared_vars=True,\n",
    "            )\n",
    "        )\n",
    "        hfev1_approx = df_query_res.loc[0, HFEV1.name]\n",
    "        ho2sat_approx = df_query_res.loc[0, HO2Sat.name]\n",
    "\n",
    "        # Exact inference\n",
    "        obs_vars_exact = []\n",
    "        for j in range(n_days_total):\n",
    "            ecfev1_obs = df_n_days.reset_index().loc[j, \"ecFEV1\"]\n",
    "            o2sat_obs = df_n_days.reset_index().loc[j, \"O2 Saturation\"]\n",
    "            obs_vars_exact = obs_vars_exact + [\n",
    "                [ecFEV1_vars[j], ecfev1_obs],\n",
    "                [O2Sat_vars[j], o2sat_obs],\n",
    "            ]\n",
    "\n",
    "        res_exact = ih.infer(\n",
    "            inference_alg=inf_alg_exact,\n",
    "            variables=shared_vars_exact,\n",
    "            evidences=obs_vars_exact,\n",
    "            debug=False,\n",
    "        )\n",
    "        hfev1_exact = res_exact[HFEV1.name].values\n",
    "        ho2sat_exact = res_exact[HO2Sat.name].values\n",
    "\n",
    "        # Add row to df_res\n",
    "        row = {\n",
    "            \"ID\": df_for_ID.loc[chosen_idx_sequence[0], \"ID\"],\n",
    "            \"Day 1\": df_for_ID.loc[chosen_idx_sequence[0], \"Date Recorded\"],\n",
    "            f\"{n_days_total} days HFEV1 exact inf\": hfev1_exact,\n",
    "            f\"{n_days_total} days HFEV1 approx inf\": hfev1_approx,\n",
    "            f\"{n_days_total} days HO2Sat exact inf\": ho2sat_exact,\n",
    "            f\"{n_days_total} days HO2Sat approx inf\": ho2sat_approx,\n",
    "        }\n",
    "\n",
    "        dt_tmp = pd.Series(row).to_frame().T\n",
    "\n",
    "        df_res = pd.concat([df_res, dt_tmp])\n",
    "\n",
    "        def max_diff(exact, approx):\n",
    "            \"\"\"\n",
    "            In the end I will just apply the max diff because 1/ it's easiest to interpret,\n",
    "            and 2/ it reveals the changes in the highest values, which is what we are interested in\n",
    "            \"\"\"\n",
    "            return max(np.abs(exact - approx))\n",
    "\n",
    "        df_res[f\"{n_days_total} days HFEV1 max diff\"] = df_res.apply(\n",
    "            lambda row: max_diff(\n",
    "                row[f\"{n_days_total} days HFEV1 exact inf\"],\n",
    "                row[f\"{n_days_total} days HFEV1 approx inf\"],\n",
    "            ),\n",
    "            axis=1,\n",
    "        )\n",
    "        df_res[f\"{n_days_total} days HO2Sat max diff\"] = df_res.apply(\n",
    "            lambda row: max_diff(\n",
    "                row[f\"{n_days_total} days HO2Sat exact inf\"],\n",
    "                row[f\"{n_days_total} days HO2Sat approx inf\"],\n",
    "            ),\n",
    "            axis=1,\n",
    "        )\n",
    "\n",
    "    if first_run:\n",
    "        df_diffs = df_res[\n",
    "            [\n",
    "                \"ID\",\n",
    "                \"Day 1\",\n",
    "                f\"{n_days_total} days HFEV1 exact inf\",\n",
    "                f\"{n_days_total} days HFEV1 approx inf\",\n",
    "                f\"{n_days_total} days HFEV1 max diff\",\n",
    "                f\"{n_days_total} days HO2Sat max diff\",\n",
    "            ]\n",
    "        ]\n",
    "        first_run = False\n",
    "        if with_max_FEV1_after_first_round:\n",
    "            with_max_FEV1 = True\n",
    "        else:\n",
    "            with_max_FEV1 = False\n",
    "    else:\n",
    "        # Merge df_res with df_diffs\n",
    "        df_diffs = pd.concat(\n",
    "            [\n",
    "                df_diffs,\n",
    "                df_res[\n",
    "                    [\n",
    "                        f\"{n_days_total} days HFEV1 exact inf\",\n",
    "                        f\"{n_days_total} days HFEV1 approx inf\",\n",
    "                        f\"{n_days_total} days HFEV1 max diff\",\n",
    "                        f\"{n_days_total} days HO2Sat max diff\",\n",
    "                    ]\n",
    "                ],\n",
    "            ],\n",
    "            axis=1,\n",
    "        )"
   ]
  },
  {
   "cell_type": "code",
   "execution_count": null,
   "metadata": {},
   "outputs": [],
   "source": [
    "df_diffs.sort_values(by=f\"3 days HFEV1 max diff\", ascending=False)"
   ]
  },
  {
   "cell_type": "code",
   "execution_count": 100,
   "metadata": {},
   "outputs": [
    {
     "data": {
      "text/plain": [
       "Index(['ID', 'Day 1', '1 days HFEV1 exact inf', '1 days HFEV1 approx inf',\n",
       "       '1 days HFEV1 max diff', '1 days HO2Sat max diff',\n",
       "       '3 days HFEV1 exact inf', '3 days HFEV1 approx inf',\n",
       "       '3 days HFEV1 max diff', '3 days HO2Sat max diff',\n",
       "       '4 days HFEV1 exact inf', '4 days HFEV1 approx inf',\n",
       "       '4 days HFEV1 max diff', '4 days HO2Sat max diff', 'ecFEV1',\n",
       "       'O2 Saturation', 'idx ecFEV1 (L)', 'idx O2 saturation (%)', 'Age',\n",
       "       'Sex', 'Height'],\n",
       "      dtype='object')"
      ]
     },
     "execution_count": 100,
     "metadata": {},
     "output_type": "execute_result"
    }
   ],
   "source": [
    "df_diffs.columns"
   ]
  },
  {
   "cell_type": "markdown",
   "metadata": {},
   "source": [
    "### Stability of the approximate inference"
   ]
  },
  {
   "cell_type": "code",
   "execution_count": 102,
   "metadata": {},
   "outputs": [],
   "source": [
    "right_cols = [\n",
    "    \"ecFEV1\",\n",
    "    \"O2 Saturation\",\n",
    "    \"idx ecFEV1 (L)\",\n",
    "    \"idx O2 saturation (%)\",\n",
    "    \"ID\",\n",
    "    \"Date Recorded\",\n",
    "    \"Age\",\n",
    "    \"Sex\",\n",
    "    \"Height\",\n",
    "]\n",
    "df_diffs1 = df_diffs\n",
    "df_diffs = df_diffs1.merge(\n",
    "    df[right_cols], right_on=[\"ID\", \"Date Recorded\"], left_on=[\"ID\", \"Day 1\"]\n",
    ").drop(columns=[\"Date Recorded\"])"
   ]
  },
  {
   "cell_type": "code",
   "execution_count": null,
   "metadata": {},
   "outputs": [],
   "source": [
    "# if merged two times\n",
    "# df_diffs = df_diffs.drop(columns=['ecFEV1_x',\n",
    "#        'O2 Saturation_x', 'idx ecFEV1 (L)_x', 'idx O2 saturation (%)_x',\n",
    "#        'Age_x', 'Sex_x', 'Height_x'])\n",
    "# Rename columns\n",
    "# df_diffs = df_diffs.rename(columns={'ecFEV1_y': 'ecFEV1', 'O2 Saturation_y': 'O2 Saturation', 'idx ecFEV1 (L)_y': 'idx ecFEV1 (L)', 'idx O2 saturation (%)_y': 'idx O2 saturation (%)', 'Age_y': 'Age', 'Sex_y': 'Sex', 'Height_y': 'Height'})"
   ]
  },
  {
   "cell_type": "code",
   "execution_count": 113,
   "metadata": {},
   "outputs": [],
   "source": [
    "df_diffs.to_excel(\n",
    "    dh.get_path_to_main()\n",
    "    + \"ExcelFiles/BR/n_days_model_approx_vs_exact_inference_diffs - with max FEV1.xlsx\",\n",
    "    index=False,\n",
    ")"
   ]
  },
  {
   "cell_type": "code",
   "execution_count": 112,
   "metadata": {},
   "outputs": [],
   "source": [
    "# df_diffs = dh.load_excel(dh.get_path_to_main() + \"ExcelFiles/BR/n_days_model_approx_vs_exact_inference_diffs - with max FEV1.xlsx\")"
   ]
  },
  {
   "cell_type": "code",
   "execution_count": 111,
   "metadata": {},
   "outputs": [
    {
     "data": {
      "application/vnd.plotly.v1+json": {
       "config": {
        "plotlyServerURL": "https://plot.ly"
       },
       "data": [
        {
         "alignmentgroup": "True",
         "customdata": [
          [
           "101",
           "2020-12-15",
           53,
           "Male",
           173
          ],
          [
           "102",
           "2022-01-26",
           44,
           "Male",
           176
          ],
          [
           "103",
           "2021-05-11",
           39,
           "Female",
           161
          ],
          [
           "104",
           "2023-05-06",
           25,
           "Female",
           143
          ],
          [
           "106",
           "2020-02-08",
           27,
           "Female",
           154
          ],
          [
           "107",
           "2019-07-19",
           26,
           "Female",
           167
          ],
          [
           "108",
           "2020-12-06",
           29,
           "Male",
           170
          ],
          [
           "109",
           "2022-01-31",
           28,
           "Female",
           170
          ],
          [
           "110",
           "2020-05-26",
           21,
           "Female",
           149
          ],
          [
           "111",
           "2022-05-14",
           37,
           "Female",
           167
          ],
          [
           "112",
           "2020-10-23",
           32,
           "Male",
           193
          ],
          [
           "113",
           "2023-03-06",
           25,
           "Male",
           165.5
          ],
          [
           "114",
           "2019-06-08",
           33,
           "Female",
           163
          ],
          [
           "115",
           "2019-03-26",
           28,
           "Male",
           172
          ],
          [
           "116",
           "2023-02-05",
           52,
           "Female",
           164
          ],
          [
           "117",
           "2020-08-31",
           31,
           "Female",
           162
          ],
          [
           "118",
           "2019-07-26",
           29,
           "Female",
           152
          ],
          [
           "119",
           "2020-01-25",
           34,
           "Female",
           160
          ],
          [
           "120",
           "2021-09-27",
           30,
           "Male",
           182
          ],
          [
           "121",
           "2020-10-11",
           24,
           "Female",
           159
          ],
          [
           "122",
           "2021-12-28",
           37,
           "Male",
           171
          ],
          [
           "123",
           "2021-12-29",
           19,
           "Male",
           175
          ],
          [
           "124",
           "2019-09-04",
           20,
           "Female",
           163
          ],
          [
           "125",
           "2020-12-05",
           25,
           "Female",
           165
          ],
          [
           "126",
           "2019-10-11",
           20,
           "Male",
           172
          ],
          [
           "127",
           "2019-10-10",
           37,
           "Male",
           177
          ],
          [
           "128",
           "2019-08-09",
           18,
           "Male",
           181
          ],
          [
           "130",
           "2020-05-16",
           24,
           "Female",
           167
          ],
          [
           "131",
           "2019-09-16",
           27,
           "Female",
           157
          ],
          [
           "132",
           "2019-09-17",
           38,
           "Male",
           176
          ],
          [
           "133",
           "2022-01-22",
           35,
           "Female",
           160
          ],
          [
           "134",
           "2020-02-10",
           31,
           "Male",
           179
          ],
          [
           "135",
           "2019-12-08",
           20,
           "Male",
           187
          ],
          [
           "138",
           "2020-07-14",
           22,
           "Female",
           148
          ],
          [
           "139",
           "2020-08-31",
           28,
           "Female",
           148
          ],
          [
           "140",
           "2019-10-28",
           29,
           "Male",
           169
          ],
          [
           "141",
           "2022-06-28",
           19,
           "Female",
           167
          ],
          [
           "142",
           "2019-10-22",
           32,
           "Female",
           148
          ],
          [
           "143",
           "2020-01-14",
           25,
           "Female",
           156
          ],
          [
           "144",
           "2020-11-06",
           25,
           "Male",
           156
          ],
          [
           "145",
           "2019-10-12",
           41,
           "Male",
           180
          ],
          [
           "146",
           "2020-06-18",
           36,
           "Male",
           158
          ],
          [
           "147",
           "2020-06-10",
           28,
           "Female",
           166
          ],
          [
           "148",
           "2020-12-29",
           28,
           "Female",
           169
          ],
          [
           "149",
           "2021-01-18",
           43,
           "Female",
           171
          ],
          [
           "150",
           "2020-02-08",
           21,
           "Male",
           174
          ],
          [
           "151",
           "2020-10-10",
           18,
           "Male",
           171.5
          ],
          [
           "152",
           "2019-11-13",
           24,
           "Female",
           162
          ],
          [
           "153",
           "2022-01-01",
           22,
           "Male",
           172
          ],
          [
           "155",
           "2019-11-25",
           34,
           "Male",
           174
          ],
          [
           "156",
           "2020-09-14",
           24,
           "Male",
           181
          ],
          [
           "158",
           "2021-03-27",
           35,
           "Female",
           151
          ],
          [
           "159",
           "2020-03-23",
           25,
           "Male",
           175.5
          ],
          [
           "162",
           "2020-08-12",
           32,
           "Female",
           160
          ],
          [
           "163",
           "2022-08-10",
           29,
           "Female",
           157
          ],
          [
           "164",
           "2020-06-25",
           38,
           "Female",
           164
          ],
          [
           "165",
           "2020-09-16",
           22,
           "Female",
           157
          ],
          [
           "166",
           "2019-12-14",
           35,
           "Male",
           180
          ],
          [
           "169",
           "2020-08-23",
           20,
           "Female",
           163
          ],
          [
           "170",
           "2022-09-25",
           23,
           "Male",
           175
          ],
          [
           "171",
           "2020-07-28",
           38,
           "Male",
           168
          ],
          [
           "172",
           "2022-05-31",
           31,
           "Male",
           167
          ],
          [
           "173",
           "2020-03-14",
           25,
           "Female",
           167
          ],
          [
           "174",
           "2020-10-14",
           28,
           "Female",
           159
          ],
          [
           "176",
           "2021-05-06",
           34,
           "Male",
           165
          ],
          [
           "177",
           "2021-03-29",
           24,
           "Female",
           155
          ],
          [
           "178",
           "2020-01-06",
           19,
           "Male",
           178
          ],
          [
           "179",
           "2020-01-24",
           25,
           "Female",
           161
          ],
          [
           "180",
           "2021-01-07",
           37,
           "Female",
           157
          ],
          [
           "182",
           "2022-12-13",
           42,
           "Female",
           159
          ],
          [
           "184",
           "2020-08-14",
           43,
           "Male",
           184
          ],
          [
           "185",
           "2020-03-30",
           18,
           "Male",
           186
          ],
          [
           "186",
           "2020-04-09",
           30,
           "Female",
           166
          ],
          [
           "187",
           "2020-12-19",
           28,
           "Female",
           167
          ],
          [
           "188",
           "2020-02-19",
           21,
           "Female",
           150
          ],
          [
           "190",
           "2020-02-18",
           25,
           "Male",
           181
          ],
          [
           "191",
           "2022-05-20",
           31,
           "Male",
           175
          ],
          [
           "192",
           "2020-04-07",
           20,
           "Female",
           158
          ],
          [
           "193",
           "2020-06-21",
           28,
           "Female",
           166
          ],
          [
           "194",
           "2020-10-15",
           24,
           "Female",
           150
          ],
          [
           "196",
           "2020-02-28",
           22,
           "Female",
           165
          ],
          [
           "197",
           "2022-07-17",
           36,
           "Female",
           171
          ],
          [
           "198",
           "2023-01-16",
           36,
           "Female",
           151
          ],
          [
           "199",
           "2020-12-05",
           34,
           "Male",
           179
          ],
          [
           "201",
           "2021-02-20",
           53,
           "Female",
           173
          ],
          [
           "203",
           "2023-03-29",
           38,
           "Female",
           164
          ],
          [
           "204",
           "2022-01-05",
           46,
           "Female",
           163
          ],
          [
           "205",
           "2022-07-29",
           25,
           "Female",
           160
          ],
          [
           "209",
           "2021-09-20",
           34,
           "Male",
           191
          ],
          [
           "210",
           "2020-11-06",
           29,
           "Female",
           163
          ],
          [
           "215",
           "2021-07-14",
           42,
           "Female",
           173
          ],
          [
           "220",
           "2023-01-07",
           41,
           "Female",
           166
          ],
          [
           "221",
           "2022-05-30",
           23,
           "Female",
           162
          ],
          [
           "223",
           "2023-01-03",
           31,
           "Female",
           154
          ],
          [
           "224",
           "2023-04-28",
           46,
           "Male",
           174
          ],
          [
           "229",
           "2021-03-31",
           52,
           "Female",
           159
          ],
          [
           "230",
           "2021-06-01",
           19,
           "Female",
           152
          ],
          [
           "231",
           "2022-04-14",
           52,
           "Female",
           164
          ],
          [
           "232",
           "2020-10-10",
           20,
           "Male",
           163
          ],
          [
           "233",
           "2020-12-22",
           37,
           "Female",
           170.5
          ],
          [
           "237",
           "2021-04-22",
           25,
           "Male",
           159
          ],
          [
           "238",
           "2022-09-13",
           59,
           "Female",
           165
          ],
          [
           "239",
           "2020-09-01",
           30,
           "Female",
           157
          ],
          [
           "240",
           "2022-07-28",
           48,
           "Male",
           158
          ],
          [
           "242",
           "2021-08-27",
           39,
           "Female",
           165
          ],
          [
           "243",
           "2020-12-01",
           22,
           "Female",
           164
          ],
          [
           "244",
           "2022-09-15",
           35,
           "Female",
           160
          ],
          [
           "245",
           "2021-08-10",
           23,
           "Male",
           171
          ],
          [
           "249",
           "2021-03-09",
           33,
           "Male",
           173
          ],
          [
           "250",
           "2023-08-31",
           37,
           "Male",
           169
          ],
          [
           "251",
           "2021-01-25",
           23,
           "Male",
           172
          ],
          [
           "252",
           "2020-10-05",
           32,
           "Male",
           167
          ],
          [
           "253",
           "2021-05-31",
           23,
           "Female",
           160
          ],
          [
           "254",
           "2021-06-03",
           28,
           "Male",
           179
          ],
          [
           "255",
           "2021-03-30",
           21,
           "Female",
           170
          ],
          [
           "256",
           "2021-01-16",
           27,
           "Female",
           177
          ],
          [
           "257",
           "2021-12-06",
           47,
           "Male",
           176
          ],
          [
           "258",
           "2021-02-25",
           45,
           "Female",
           153
          ],
          [
           "261",
           "2021-01-11",
           34,
           "Female",
           157
          ],
          [
           "262",
           "2021-10-29",
           29,
           "Female",
           166.5
          ],
          [
           "263",
           "2020-09-24",
           32,
           "Female",
           159
          ],
          [
           "264",
           "2020-12-02",
           41,
           "Female",
           153
          ],
          [
           "265",
           "2021-07-12",
           24,
           "Female",
           158
          ],
          [
           "266",
           "2021-02-18",
           26,
           "Male",
           183
          ],
          [
           "270",
           "2022-03-16",
           41,
           "Female",
           166
          ],
          [
           "271",
           "2021-07-05",
           38,
           "Female",
           159
          ],
          [
           "272",
           "2023-05-02",
           57,
           "Female",
           165
          ],
          [
           "273",
           "2021-02-16",
           33,
           "Female",
           165
          ],
          [
           "274",
           "2020-12-31",
           27,
           "Male",
           172
          ],
          [
           "275",
           "2020-10-02",
           32,
           "Male",
           181
          ],
          [
           "276",
           "2021-01-26",
           25,
           "Male",
           172
          ],
          [
           "278",
           "2021-08-14",
           39,
           "Male",
           160
          ],
          [
           "279",
           "2022-07-22",
           34,
           "Male",
           178
          ],
          [
           "280",
           "2021-06-08",
           25,
           "Male",
           163
          ],
          [
           "281",
           "2022-12-05",
           39,
           "Male",
           171
          ],
          [
           "282",
           "2021-04-25",
           32,
           "Male",
           173
          ],
          [
           "283",
           "2021-04-11",
           36,
           "Female",
           162
          ],
          [
           "284",
           "2021-06-07",
           24,
           "Male",
           174
          ],
          [
           "287",
           "2020-12-05",
           28,
           "Female",
           152
          ],
          [
           "289",
           "2022-01-24",
           39,
           "Male",
           171
          ],
          [
           "290",
           "2023-09-02",
           35,
           "Male",
           174
          ],
          [
           "291",
           "2023-07-09",
           30,
           "Male",
           177
          ],
          [
           "292",
           "2022-01-08",
           27,
           "Female",
           163
          ],
          [
           "293",
           "2021-01-08",
           29,
           "Female",
           166
          ],
          [
           "294",
           "2021-01-08",
           31,
           "Female",
           160
          ],
          [
           "295",
           "2022-01-19",
           57,
           "Female",
           169
          ],
          [
           "296",
           "2021-05-24",
           29,
           "Male",
           168
          ],
          [
           "297",
           "2021-11-08",
           26,
           "Male",
           174
          ],
          [
           "298",
           "2021-07-14",
           32,
           "Female",
           161
          ],
          [
           "299",
           "2021-04-05",
           28,
           "Female",
           166
          ],
          [
           "300",
           "2021-05-05",
           22,
           "Female",
           170
          ],
          [
           "301",
           "2020-12-04",
           32,
           "Female",
           158
          ],
          [
           "302",
           "2021-01-24",
           27,
           "Male",
           180
          ],
          [
           "303",
           "2021-01-22",
           34,
           "Male",
           177
          ],
          [
           "306",
           "2021-01-17",
           22,
           "Male",
           167
          ],
          [
           "307",
           "2021-03-21",
           27,
           "Female",
           154
          ],
          [
           "309",
           "2021-01-21",
           37,
           "Female",
           166
          ],
          [
           "310",
           "2021-03-02",
           28,
           "Female",
           151
          ],
          [
           "311",
           "2021-02-17",
           41,
           "Male",
           170
          ],
          [
           "312",
           "2021-10-05",
           33,
           "Male",
           174
          ],
          [
           "314",
           "2021-04-17",
           30,
           "Female",
           162
          ],
          [
           "315",
           "2021-07-30",
           44,
           "Male",
           165
          ],
          [
           "317",
           "2021-04-13",
           42,
           "Male",
           160
          ],
          [
           "319",
           "2023-09-04",
           54,
           "Male",
           170
          ],
          [
           "325",
           "2020-12-21",
           32,
           "Female",
           162
          ],
          [
           "331",
           "2022-06-24",
           54,
           "Female",
           157
          ],
          [
           "334",
           "2022-10-04",
           32,
           "Female",
           159
          ],
          [
           "336",
           "2022-05-13",
           55,
           "Male",
           186
          ],
          [
           "339",
           "2023-06-13",
           60,
           "Female",
           155
          ],
          [
           "342",
           "2021-04-08",
           44,
           "Male",
           165
          ],
          [
           "343",
           "2022-02-17",
           18,
           "Female",
           161.5
          ],
          [
           "351",
           "2021-07-03",
           20,
           "Male",
           171
          ],
          [
           "352",
           "2023-07-05",
           54,
           "Female",
           159
          ],
          [
           "353",
           "2021-09-16",
           38,
           "Male",
           177
          ],
          [
           "362",
           "2022-11-15",
           49,
           "Female",
           160
          ],
          [
           "363",
           "2023-03-06",
           67,
           "Male",
           182
          ],
          [
           "365",
           "2023-04-29",
           32,
           "Male",
           169
          ],
          [
           "371",
           "2023-05-23",
           47,
           "Female",
           165
          ],
          [
           "372",
           "2021-06-28",
           18,
           "Female",
           165
          ],
          [
           "377",
           "2022-09-07",
           61,
           "Male",
           176
          ],
          [
           "380",
           "2022-09-08",
           34,
           "Male",
           165.5
          ],
          [
           "381",
           "2022-12-05",
           18,
           "Male",
           161.5
          ],
          [
           "383",
           "2022-10-03",
           27,
           "Female",
           159
          ],
          [
           "387",
           "2022-09-09",
           35,
           "Male",
           175
          ],
          [
           "389",
           "2022-03-01",
           18,
           "Female",
           160
          ],
          [
           "394",
           "2021-08-14",
           43,
           "Female",
           153
          ],
          [
           "395",
           "2022-07-26",
           22,
           "Male",
           170
          ],
          [
           "401",
           "2022-05-04",
           25,
           "Male",
           178
          ],
          [
           "403",
           "2022-05-27",
           37,
           "Female",
           159
          ],
          [
           "404",
           "2023-03-14",
           25,
           "Female",
           155
          ],
          [
           "405",
           "2022-11-28",
           39,
           "Male",
           179
          ],
          [
           "406",
           "2021-11-21",
           47,
           "Male",
           193
          ],
          [
           "407",
           "2021-01-17",
           28,
           "Female",
           165
          ],
          [
           "408",
           "2022-02-07",
           51,
           "Female",
           168
          ],
          [
           "409",
           "2021-05-27",
           35,
           "Male",
           177
          ],
          [
           "412",
           "2021-05-21",
           40,
           "Female",
           155
          ],
          [
           "413",
           "2021-09-01",
           55,
           "Female",
           168
          ],
          [
           "415",
           "2021-01-05",
           27,
           "Female",
           156
          ],
          [
           "416",
           "2023-02-06",
           30,
           "Female",
           173
          ],
          [
           "417",
           "2021-08-01",
           47,
           "Female",
           165
          ],
          [
           "420",
           "2022-11-18",
           51,
           "Male",
           178
          ],
          [
           "421",
           "2022-03-08",
           29,
           "Male",
           170
          ],
          [
           "422",
           "2022-01-31",
           58,
           "Male",
           178
          ],
          [
           "424",
           "2022-11-26",
           53,
           "Male",
           163
          ],
          [
           "425",
           "2022-02-01",
           25,
           "Female",
           167
          ],
          [
           "426",
           "2022-09-04",
           32,
           "Male",
           178
          ],
          [
           "427",
           "2022-07-08",
           33,
           "Female",
           160
          ],
          [
           "430",
           "2023-11-03",
           52,
           "Female",
           154
          ],
          [
           "431",
           "2023-01-30",
           55,
           "Male",
           185
          ],
          [
           "432",
           "2022-09-28",
           28,
           "Male",
           171
          ],
          [
           "433",
           "2023-03-14",
           65,
           "Female",
           156
          ],
          [
           "434",
           "2022-09-08",
           44,
           "Female",
           165
          ],
          [
           "439",
           "2022-09-08",
           40,
           "Male",
           176
          ],
          [
           "442",
           "2022-12-02",
           43,
           "Female",
           166
          ],
          [
           "447",
           "2023-04-20",
           44,
           "Male",
           180
          ],
          [
           "453",
           "2023-01-16",
           37,
           "Female",
           162
          ],
          [
           "455",
           "2023-03-02",
           45,
           "Male",
           175
          ],
          [
           "464",
           "2023-06-07",
           57,
           "Female",
           161
          ],
          [
           "469",
           "2023-07-12",
           25,
           "Male",
           179
          ],
          [
           "480",
           "2021-12-24",
           37,
           "Male",
           179
          ],
          [
           "481",
           "2022-06-20",
           39,
           "Male",
           178.5
          ],
          [
           "482",
           "2022-02-03",
           19,
           "Male",
           179
          ],
          [
           "483",
           "2022-02-03",
           32,
           "Male",
           181
          ],
          [
           "484",
           "2022-08-18",
           35,
           "Male",
           174
          ],
          [
           "485",
           "2022-03-09",
           22,
           "Male",
           181
          ],
          [
           "486",
           "2022-02-17",
           26,
           "Female",
           153
          ],
          [
           "488",
           "2022-08-12",
           57,
           "Female",
           172
          ],
          [
           "490",
           "2022-06-01",
           24,
           "Male",
           173.5
          ],
          [
           "491",
           "2022-03-21",
           34,
           "Female",
           169
          ],
          [
           "492",
           "2022-03-08",
           20,
           "Female",
           164
          ],
          [
           "493",
           "2023-09-10",
           49,
           "Male",
           179
          ],
          [
           "494",
           "2023-05-01",
           46,
           "Female",
           157
          ],
          [
           "495",
           "2022-03-12",
           28,
           "Male",
           163
          ],
          [
           "500",
           "2022-07-25",
           49,
           "Female",
           167
          ],
          [
           "502",
           "2022-09-30",
           58,
           "Male",
           177
          ],
          [
           "504",
           "2022-05-13",
           42,
           "Male",
           166
          ],
          [
           "506",
           "2023-07-14",
           22,
           "Female",
           170
          ],
          [
           "508",
           "2022-11-16",
           43,
           "Male",
           177
          ],
          [
           "509",
           "2023-06-08",
           58,
           "Male",
           172.7
          ],
          [
           "511",
           "2022-11-08",
           42,
           "Female",
           152.5
          ],
          [
           "512",
           "2022-06-05",
           19,
           "Female",
           160
          ],
          [
           "514",
           "2022-08-24",
           53,
           "Female",
           166.5
          ],
          [
           "515",
           "2022-08-16",
           54,
           "Female",
           159.5
          ],
          [
           "520",
           "2023-01-18",
           38,
           "Female",
           159
          ],
          [
           "523",
           "2022-07-19",
           22,
           "Female",
           166
          ],
          [
           "525",
           "2022-07-19",
           34,
           "Female",
           180.3
          ],
          [
           "529",
           "2022-06-13",
           33,
           "Male",
           159.5
          ],
          [
           "530",
           "2023-03-23",
           18,
           "Male",
           170.6
          ],
          [
           "532",
           "2023-01-07",
           26,
           "Female",
           173
          ],
          [
           "535",
           "2022-06-13",
           27,
           "Female",
           161.5
          ],
          [
           "537",
           "2022-08-31",
           38,
           "Male",
           171
          ],
          [
           "541",
           "2022-07-13",
           31,
           "Male",
           186.7
          ],
          [
           "544",
           "2022-10-05",
           30,
           "Male",
           184.6
          ],
          [
           "549",
           "2022-11-07",
           27,
           "Female",
           163
          ],
          [
           "550",
           "2022-12-12",
           59,
           "Male",
           170
          ],
          [
           "551",
           "2023-01-14",
           32,
           "Female",
           155
          ]
         ],
         "hovertemplate": "N days model=%{x}<br>Max absolute difference for HO2Sat=%{y}<br>ID=%{customdata[0]}<br>Day 1=%{customdata[1]}<br>Age=%{customdata[2]}<br>Sex=%{customdata[3]}<br>Height=%{customdata[4]}<extra></extra>",
         "legendgroup": "1 day",
         "marker": {
          "color": "#636efa"
         },
         "name": "1 day",
         "notched": false,
         "offsetgroup": "1 day",
         "orientation": "v",
         "showlegend": true,
         "type": "box",
         "x": [
          "1 day",
          "1 day",
          "1 day",
          "1 day",
          "1 day",
          "1 day",
          "1 day",
          "1 day",
          "1 day",
          "1 day",
          "1 day",
          "1 day",
          "1 day",
          "1 day",
          "1 day",
          "1 day",
          "1 day",
          "1 day",
          "1 day",
          "1 day",
          "1 day",
          "1 day",
          "1 day",
          "1 day",
          "1 day",
          "1 day",
          "1 day",
          "1 day",
          "1 day",
          "1 day",
          "1 day",
          "1 day",
          "1 day",
          "1 day",
          "1 day",
          "1 day",
          "1 day",
          "1 day",
          "1 day",
          "1 day",
          "1 day",
          "1 day",
          "1 day",
          "1 day",
          "1 day",
          "1 day",
          "1 day",
          "1 day",
          "1 day",
          "1 day",
          "1 day",
          "1 day",
          "1 day",
          "1 day",
          "1 day",
          "1 day",
          "1 day",
          "1 day",
          "1 day",
          "1 day",
          "1 day",
          "1 day",
          "1 day",
          "1 day",
          "1 day",
          "1 day",
          "1 day",
          "1 day",
          "1 day",
          "1 day",
          "1 day",
          "1 day",
          "1 day",
          "1 day",
          "1 day",
          "1 day",
          "1 day",
          "1 day",
          "1 day",
          "1 day",
          "1 day",
          "1 day",
          "1 day",
          "1 day",
          "1 day",
          "1 day",
          "1 day",
          "1 day",
          "1 day",
          "1 day",
          "1 day",
          "1 day",
          "1 day",
          "1 day",
          "1 day",
          "1 day",
          "1 day",
          "1 day",
          "1 day",
          "1 day",
          "1 day",
          "1 day",
          "1 day",
          "1 day",
          "1 day",
          "1 day",
          "1 day",
          "1 day",
          "1 day",
          "1 day",
          "1 day",
          "1 day",
          "1 day",
          "1 day",
          "1 day",
          "1 day",
          "1 day",
          "1 day",
          "1 day",
          "1 day",
          "1 day",
          "1 day",
          "1 day",
          "1 day",
          "1 day",
          "1 day",
          "1 day",
          "1 day",
          "1 day",
          "1 day",
          "1 day",
          "1 day",
          "1 day",
          "1 day",
          "1 day",
          "1 day",
          "1 day",
          "1 day",
          "1 day",
          "1 day",
          "1 day",
          "1 day",
          "1 day",
          "1 day",
          "1 day",
          "1 day",
          "1 day",
          "1 day",
          "1 day",
          "1 day",
          "1 day",
          "1 day",
          "1 day",
          "1 day",
          "1 day",
          "1 day",
          "1 day",
          "1 day",
          "1 day",
          "1 day",
          "1 day",
          "1 day",
          "1 day",
          "1 day",
          "1 day",
          "1 day",
          "1 day",
          "1 day",
          "1 day",
          "1 day",
          "1 day",
          "1 day",
          "1 day",
          "1 day",
          "1 day",
          "1 day",
          "1 day",
          "1 day",
          "1 day",
          "1 day",
          "1 day",
          "1 day",
          "1 day",
          "1 day",
          "1 day",
          "1 day",
          "1 day",
          "1 day",
          "1 day",
          "1 day",
          "1 day",
          "1 day",
          "1 day",
          "1 day",
          "1 day",
          "1 day",
          "1 day",
          "1 day",
          "1 day",
          "1 day",
          "1 day",
          "1 day",
          "1 day",
          "1 day",
          "1 day",
          "1 day",
          "1 day",
          "1 day",
          "1 day",
          "1 day",
          "1 day",
          "1 day",
          "1 day",
          "1 day",
          "1 day",
          "1 day",
          "1 day",
          "1 day",
          "1 day",
          "1 day",
          "1 day",
          "1 day",
          "1 day",
          "1 day",
          "1 day",
          "1 day",
          "1 day",
          "1 day",
          "1 day",
          "1 day",
          "1 day",
          "1 day",
          "1 day",
          "1 day",
          "1 day",
          "1 day",
          "1 day",
          "1 day",
          "1 day",
          "1 day",
          "1 day",
          "1 day",
          "1 day",
          "1 day",
          "1 day",
          "1 day",
          "1 day",
          "1 day",
          "1 day",
          "1 day",
          "1 day",
          "1 day",
          "1 day",
          "1 day",
          "1 day",
          "1 day"
         ],
         "x0": " ",
         "xaxis": "x",
         "y": [
          1.1102230246251565e-16,
          1.1102230246251565e-16,
          1.1102230246251565e-16,
          1.1102230246251565e-16,
          1.3877787807814457e-17,
          1.1102230246251565e-16,
          1.1102230246251565e-16,
          4.963083675318166e-24,
          1.734723475976807e-18,
          1.1102230246251565e-16,
          1.1102230246251565e-16,
          1.1102230246251565e-16,
          1.1102230246251565e-16,
          1.1102230246251565e-16,
          6.462348535570529e-27,
          1.0339757656912846e-24,
          1.1102230246251565e-16,
          1.1102230246251565e-16,
          1.1102230246251565e-16,
          2.0679515313825692e-25,
          3.469446951953614e-18,
          1.1102230246251565e-16,
          6.938893903907228e-17,
          1.1102230246251565e-16,
          3.469446951953614e-18,
          1.734723475976807e-18,
          1.1102230246251565e-16,
          0,
          1.1102230246251565e-16,
          4.336808689942018e-19,
          1.3877787807814457e-17,
          1.1102230246251565e-16,
          2.220446049250313e-16,
          1.1102230246251565e-16,
          2.220446049250313e-16,
          1.1102230246251565e-16,
          3.469446951953614e-18,
          6.938893903907228e-18,
          1.3877787807814457e-17,
          1.1102230246251565e-16,
          2.220446049250313e-16,
          0,
          1.1102230246251565e-16,
          1.1102230246251565e-16,
          1.1102230246251565e-16,
          1.1102230246251565e-16,
          1.1102230246251565e-16,
          5.551115123125783e-17,
          1.1102230246251565e-16,
          2.220446049250313e-16,
          4.336808689942018e-19,
          6.938893903907228e-18,
          8.673617379884035e-19,
          3.308722450212111e-24,
          1.1102230246251565e-16,
          2.7755575615628914e-17,
          2.220446049250313e-16,
          1.1102230246251565e-16,
          5.551115123125783e-17,
          8.673617379884035e-19,
          1.1102230246251565e-16,
          1.734723475976807e-18,
          2.7755575615628914e-17,
          1.1102230246251565e-16,
          2.220446049250313e-16,
          2.7755575615628914e-17,
          6.776263578034403e-21,
          1.1102230246251565e-16,
          1.1102230246251565e-16,
          1.734723475976807e-18,
          1.1102230246251565e-16,
          4.336808689942018e-19,
          1.1102230246251565e-16,
          2.220446049250313e-16,
          3.469446951953614e-18,
          4.336808689942018e-19,
          1.1102230246251565e-16,
          1.3877787807814457e-17,
          1.1102230246251565e-16,
          1.1102230246251565e-16,
          1.1102230246251565e-16,
          1.1102230246251565e-16,
          1.3877787807814457e-17,
          8.673617379884035e-19,
          1.1102230246251565e-16,
          1.1102230246251565e-16,
          3.469446951953614e-18,
          1.1102230246251565e-16,
          4.0657581468206416e-20,
          5.204170427930421e-18,
          5.551115123125783e-17,
          1.1102230246251565e-16,
          1.1102230246251565e-16,
          2.0816681711721685e-17,
          1.1102230246251565e-16,
          1.1102230246251565e-16,
          2.220446049250313e-16,
          1.2407709188295415e-24,
          2.220446049250313e-16,
          0,
          1.1102230246251565e-16,
          4.1359030627651384e-25,
          1.1102230246251565e-16,
          1.1102230246251565e-16,
          2.7755575615628914e-17,
          2.7755575615628914e-17,
          1.3877787807814457e-17,
          1.734723475976807e-18,
          6.776263578034403e-21,
          5.204170427930421e-18,
          5.204170427930421e-18,
          1.1102230246251565e-16,
          1.1102230246251565e-16,
          8.673617379884035e-19,
          1.1102230246251565e-16,
          1.6653345369377348e-16,
          1.1102230246251565e-16,
          1.1102230246251565e-16,
          1.1102230246251565e-16,
          8.326672684688674e-17,
          2.7755575615628914e-17,
          1.3877787807814457e-17,
          3.101927297073854e-25,
          6.505213034913027e-19,
          8.326672684688674e-17,
          1.1102230246251565e-16,
          1.6653345369377348e-16,
          2.7755575615628914e-17,
          8.673617379884035e-19,
          1.1102230246251565e-16,
          1.734723475976807e-18,
          1.1102230246251565e-16,
          1.1102230246251565e-16,
          2.220446049250313e-16,
          1.1102230246251565e-16,
          8.673617379884035e-19,
          2.0679515313825692e-25,
          1.1102230246251565e-16,
          1.3877787807814457e-17,
          1.214306433183765e-17,
          2.220446049250313e-16,
          1.1102230246251565e-16,
          9.71445146547012e-17,
          1.1102230246251565e-16,
          0,
          5.551115123125783e-17,
          1.1102230246251565e-16,
          1.734723475976807e-18,
          1.1102230246251565e-16,
          1.1102230246251565e-16,
          8.326672684688674e-17,
          1.734723475976807e-18,
          1.1102230246251565e-16,
          1.1102230246251565e-16,
          2.220446049250313e-16,
          1.1102230246251565e-16,
          1.1102230246251565e-16,
          1.1102230246251565e-16,
          1.1102230246251565e-16,
          2.6020852139652106e-18,
          2.7755575615628914e-17,
          1.1102230246251565e-16,
          1.1102230246251565e-16,
          1.1102230246251565e-16,
          3.469446951953614e-18,
          1.1102230246251565e-16,
          1.1102230246251565e-16,
          4.0657581468206416e-20,
          6.938893903907228e-18,
          1.734723475976807e-18,
          1.3877787807814457e-17,
          1.1102230246251565e-16,
          1.3877787807814457e-17,
          8.673617379884035e-19,
          1.3877787807814457e-17,
          2.220446049250313e-16,
          1.1102230246251565e-16,
          1.1102230246251565e-16,
          2.220446049250313e-16,
          4.336808689942018e-19,
          1.1102230246251565e-16,
          1.1102230246251565e-16,
          1.1102230246251565e-16,
          1.1102230246251565e-16,
          3.469446951953614e-18,
          1.1102230246251565e-16,
          3.469446951953614e-18,
          1.1102230246251565e-16,
          1.3877787807814457e-17,
          2.7755575615628914e-17,
          2.6020852139652106e-18,
          2.710505431213761e-20,
          1.1102230246251565e-16,
          1.1102230246251565e-16,
          1.1102230246251565e-16,
          1.1102230246251565e-16,
          1.1102230246251565e-16,
          2.4233807008389483e-27,
          6.938893903907228e-18,
          1.1102230246251565e-16,
          2.0816681711721685e-17,
          1.1102230246251565e-16,
          1.1102230246251565e-16,
          3.469446951953614e-18,
          1.1102230246251565e-16,
          2.220446049250313e-16,
          1.1102230246251565e-16,
          1.0339757656912846e-25,
          1.1102230246251565e-16,
          1.734723475976807e-18,
          1.1102230246251565e-16,
          8.326672684688674e-17,
          1.1102230246251565e-16,
          1.2924697071141057e-26,
          1.1102230246251565e-16,
          1.3877787807814457e-17,
          1.1102230246251565e-16,
          1.1102230246251565e-16,
          2.220446049250313e-16,
          1.734723475976807e-18,
          1.1102230246251565e-16,
          2.220446049250313e-16,
          1.1102230246251565e-16,
          2.6020852139652106e-18,
          1.0842021724855044e-18,
          6.938893903907228e-18,
          1.1102230246251565e-16,
          1.734723475976807e-18,
          1.1102230246251565e-16,
          2.7755575615628914e-17,
          8.673617379884035e-19,
          1.3877787807814457e-17,
          6.938893903907228e-18,
          1.1102230246251565e-16,
          1.1102230246251565e-16,
          3.469446951953614e-18,
          8.326672684688674e-17,
          1.1102230246251565e-16,
          1.1102230246251565e-16,
          1.1102230246251565e-16,
          1.1102230246251565e-16,
          1.1102230246251565e-16,
          1.1102230246251565e-16,
          6.617444900424222e-24,
          1.1102230246251565e-16,
          1.1102230246251565e-16,
          1.1102230246251565e-16,
          1.1102230246251565e-16,
          5.551115123125783e-17,
          1.1102230246251565e-16,
          1.1102230246251565e-16,
          1.1102230246251565e-16,
          1.1102230246251565e-16,
          1.1102230246251565e-16,
          8.470329472543003e-21,
          1.3877787807814457e-17
         ],
         "y0": " ",
         "yaxis": "y"
        },
        {
         "alignmentgroup": "True",
         "customdata": [
          [
           "101",
           "2020-12-15",
           53,
           "Male",
           173
          ],
          [
           "102",
           "2022-01-26",
           44,
           "Male",
           176
          ],
          [
           "103",
           "2021-05-11",
           39,
           "Female",
           161
          ],
          [
           "104",
           "2023-05-06",
           25,
           "Female",
           143
          ],
          [
           "106",
           "2020-02-08",
           27,
           "Female",
           154
          ],
          [
           "107",
           "2019-07-19",
           26,
           "Female",
           167
          ],
          [
           "108",
           "2020-12-06",
           29,
           "Male",
           170
          ],
          [
           "109",
           "2022-01-31",
           28,
           "Female",
           170
          ],
          [
           "110",
           "2020-05-26",
           21,
           "Female",
           149
          ],
          [
           "111",
           "2022-05-14",
           37,
           "Female",
           167
          ],
          [
           "112",
           "2020-10-23",
           32,
           "Male",
           193
          ],
          [
           "113",
           "2023-03-06",
           25,
           "Male",
           165.5
          ],
          [
           "114",
           "2019-06-08",
           33,
           "Female",
           163
          ],
          [
           "115",
           "2019-03-26",
           28,
           "Male",
           172
          ],
          [
           "116",
           "2023-02-05",
           52,
           "Female",
           164
          ],
          [
           "117",
           "2020-08-31",
           31,
           "Female",
           162
          ],
          [
           "118",
           "2019-07-26",
           29,
           "Female",
           152
          ],
          [
           "119",
           "2020-01-25",
           34,
           "Female",
           160
          ],
          [
           "120",
           "2021-09-27",
           30,
           "Male",
           182
          ],
          [
           "121",
           "2020-10-11",
           24,
           "Female",
           159
          ],
          [
           "122",
           "2021-12-28",
           37,
           "Male",
           171
          ],
          [
           "123",
           "2021-12-29",
           19,
           "Male",
           175
          ],
          [
           "124",
           "2019-09-04",
           20,
           "Female",
           163
          ],
          [
           "125",
           "2020-12-05",
           25,
           "Female",
           165
          ],
          [
           "126",
           "2019-10-11",
           20,
           "Male",
           172
          ],
          [
           "127",
           "2019-10-10",
           37,
           "Male",
           177
          ],
          [
           "128",
           "2019-08-09",
           18,
           "Male",
           181
          ],
          [
           "130",
           "2020-05-16",
           24,
           "Female",
           167
          ],
          [
           "131",
           "2019-09-16",
           27,
           "Female",
           157
          ],
          [
           "132",
           "2019-09-17",
           38,
           "Male",
           176
          ],
          [
           "133",
           "2022-01-22",
           35,
           "Female",
           160
          ],
          [
           "134",
           "2020-02-10",
           31,
           "Male",
           179
          ],
          [
           "135",
           "2019-12-08",
           20,
           "Male",
           187
          ],
          [
           "138",
           "2020-07-14",
           22,
           "Female",
           148
          ],
          [
           "139",
           "2020-08-31",
           28,
           "Female",
           148
          ],
          [
           "140",
           "2019-10-28",
           29,
           "Male",
           169
          ],
          [
           "141",
           "2022-06-28",
           19,
           "Female",
           167
          ],
          [
           "142",
           "2019-10-22",
           32,
           "Female",
           148
          ],
          [
           "143",
           "2020-01-14",
           25,
           "Female",
           156
          ],
          [
           "144",
           "2020-11-06",
           25,
           "Male",
           156
          ],
          [
           "145",
           "2019-10-12",
           41,
           "Male",
           180
          ],
          [
           "146",
           "2020-06-18",
           36,
           "Male",
           158
          ],
          [
           "147",
           "2020-06-10",
           28,
           "Female",
           166
          ],
          [
           "148",
           "2020-12-29",
           28,
           "Female",
           169
          ],
          [
           "149",
           "2021-01-18",
           43,
           "Female",
           171
          ],
          [
           "150",
           "2020-02-08",
           21,
           "Male",
           174
          ],
          [
           "151",
           "2020-10-10",
           18,
           "Male",
           171.5
          ],
          [
           "152",
           "2019-11-13",
           24,
           "Female",
           162
          ],
          [
           "153",
           "2022-01-01",
           22,
           "Male",
           172
          ],
          [
           "155",
           "2019-11-25",
           34,
           "Male",
           174
          ],
          [
           "156",
           "2020-09-14",
           24,
           "Male",
           181
          ],
          [
           "158",
           "2021-03-27",
           35,
           "Female",
           151
          ],
          [
           "159",
           "2020-03-23",
           25,
           "Male",
           175.5
          ],
          [
           "162",
           "2020-08-12",
           32,
           "Female",
           160
          ],
          [
           "163",
           "2022-08-10",
           29,
           "Female",
           157
          ],
          [
           "164",
           "2020-06-25",
           38,
           "Female",
           164
          ],
          [
           "165",
           "2020-09-16",
           22,
           "Female",
           157
          ],
          [
           "166",
           "2019-12-14",
           35,
           "Male",
           180
          ],
          [
           "169",
           "2020-08-23",
           20,
           "Female",
           163
          ],
          [
           "170",
           "2022-09-25",
           23,
           "Male",
           175
          ],
          [
           "171",
           "2020-07-28",
           38,
           "Male",
           168
          ],
          [
           "172",
           "2022-05-31",
           31,
           "Male",
           167
          ],
          [
           "173",
           "2020-03-14",
           25,
           "Female",
           167
          ],
          [
           "174",
           "2020-10-14",
           28,
           "Female",
           159
          ],
          [
           "176",
           "2021-05-06",
           34,
           "Male",
           165
          ],
          [
           "177",
           "2021-03-29",
           24,
           "Female",
           155
          ],
          [
           "178",
           "2020-01-06",
           19,
           "Male",
           178
          ],
          [
           "179",
           "2020-01-24",
           25,
           "Female",
           161
          ],
          [
           "180",
           "2021-01-07",
           37,
           "Female",
           157
          ],
          [
           "182",
           "2022-12-13",
           42,
           "Female",
           159
          ],
          [
           "184",
           "2020-08-14",
           43,
           "Male",
           184
          ],
          [
           "185",
           "2020-03-30",
           18,
           "Male",
           186
          ],
          [
           "186",
           "2020-04-09",
           30,
           "Female",
           166
          ],
          [
           "187",
           "2020-12-19",
           28,
           "Female",
           167
          ],
          [
           "188",
           "2020-02-19",
           21,
           "Female",
           150
          ],
          [
           "190",
           "2020-02-18",
           25,
           "Male",
           181
          ],
          [
           "191",
           "2022-05-20",
           31,
           "Male",
           175
          ],
          [
           "192",
           "2020-04-07",
           20,
           "Female",
           158
          ],
          [
           "193",
           "2020-06-21",
           28,
           "Female",
           166
          ],
          [
           "194",
           "2020-10-15",
           24,
           "Female",
           150
          ],
          [
           "196",
           "2020-02-28",
           22,
           "Female",
           165
          ],
          [
           "197",
           "2022-07-17",
           36,
           "Female",
           171
          ],
          [
           "198",
           "2023-01-16",
           36,
           "Female",
           151
          ],
          [
           "199",
           "2020-12-05",
           34,
           "Male",
           179
          ],
          [
           "201",
           "2021-02-20",
           53,
           "Female",
           173
          ],
          [
           "203",
           "2023-03-29",
           38,
           "Female",
           164
          ],
          [
           "204",
           "2022-01-05",
           46,
           "Female",
           163
          ],
          [
           "205",
           "2022-07-29",
           25,
           "Female",
           160
          ],
          [
           "209",
           "2021-09-20",
           34,
           "Male",
           191
          ],
          [
           "210",
           "2020-11-06",
           29,
           "Female",
           163
          ],
          [
           "215",
           "2021-07-14",
           42,
           "Female",
           173
          ],
          [
           "220",
           "2023-01-07",
           41,
           "Female",
           166
          ],
          [
           "221",
           "2022-05-30",
           23,
           "Female",
           162
          ],
          [
           "223",
           "2023-01-03",
           31,
           "Female",
           154
          ],
          [
           "224",
           "2023-04-28",
           46,
           "Male",
           174
          ],
          [
           "229",
           "2021-03-31",
           52,
           "Female",
           159
          ],
          [
           "230",
           "2021-06-01",
           19,
           "Female",
           152
          ],
          [
           "231",
           "2022-04-14",
           52,
           "Female",
           164
          ],
          [
           "232",
           "2020-10-10",
           20,
           "Male",
           163
          ],
          [
           "233",
           "2020-12-22",
           37,
           "Female",
           170.5
          ],
          [
           "237",
           "2021-04-22",
           25,
           "Male",
           159
          ],
          [
           "238",
           "2022-09-13",
           59,
           "Female",
           165
          ],
          [
           "239",
           "2020-09-01",
           30,
           "Female",
           157
          ],
          [
           "240",
           "2022-07-28",
           48,
           "Male",
           158
          ],
          [
           "242",
           "2021-08-27",
           39,
           "Female",
           165
          ],
          [
           "243",
           "2020-12-01",
           22,
           "Female",
           164
          ],
          [
           "244",
           "2022-09-15",
           35,
           "Female",
           160
          ],
          [
           "245",
           "2021-08-10",
           23,
           "Male",
           171
          ],
          [
           "249",
           "2021-03-09",
           33,
           "Male",
           173
          ],
          [
           "250",
           "2023-08-31",
           37,
           "Male",
           169
          ],
          [
           "251",
           "2021-01-25",
           23,
           "Male",
           172
          ],
          [
           "252",
           "2020-10-05",
           32,
           "Male",
           167
          ],
          [
           "253",
           "2021-05-31",
           23,
           "Female",
           160
          ],
          [
           "254",
           "2021-06-03",
           28,
           "Male",
           179
          ],
          [
           "255",
           "2021-03-30",
           21,
           "Female",
           170
          ],
          [
           "256",
           "2021-01-16",
           27,
           "Female",
           177
          ],
          [
           "257",
           "2021-12-06",
           47,
           "Male",
           176
          ],
          [
           "258",
           "2021-02-25",
           45,
           "Female",
           153
          ],
          [
           "261",
           "2021-01-11",
           34,
           "Female",
           157
          ],
          [
           "262",
           "2021-10-29",
           29,
           "Female",
           166.5
          ],
          [
           "263",
           "2020-09-24",
           32,
           "Female",
           159
          ],
          [
           "264",
           "2020-12-02",
           41,
           "Female",
           153
          ],
          [
           "265",
           "2021-07-12",
           24,
           "Female",
           158
          ],
          [
           "266",
           "2021-02-18",
           26,
           "Male",
           183
          ],
          [
           "270",
           "2022-03-16",
           41,
           "Female",
           166
          ],
          [
           "271",
           "2021-07-05",
           38,
           "Female",
           159
          ],
          [
           "272",
           "2023-05-02",
           57,
           "Female",
           165
          ],
          [
           "273",
           "2021-02-16",
           33,
           "Female",
           165
          ],
          [
           "274",
           "2020-12-31",
           27,
           "Male",
           172
          ],
          [
           "275",
           "2020-10-02",
           32,
           "Male",
           181
          ],
          [
           "276",
           "2021-01-26",
           25,
           "Male",
           172
          ],
          [
           "278",
           "2021-08-14",
           39,
           "Male",
           160
          ],
          [
           "279",
           "2022-07-22",
           34,
           "Male",
           178
          ],
          [
           "280",
           "2021-06-08",
           25,
           "Male",
           163
          ],
          [
           "281",
           "2022-12-05",
           39,
           "Male",
           171
          ],
          [
           "282",
           "2021-04-25",
           32,
           "Male",
           173
          ],
          [
           "283",
           "2021-04-11",
           36,
           "Female",
           162
          ],
          [
           "284",
           "2021-06-07",
           24,
           "Male",
           174
          ],
          [
           "287",
           "2020-12-05",
           28,
           "Female",
           152
          ],
          [
           "289",
           "2022-01-24",
           39,
           "Male",
           171
          ],
          [
           "290",
           "2023-09-02",
           35,
           "Male",
           174
          ],
          [
           "291",
           "2023-07-09",
           30,
           "Male",
           177
          ],
          [
           "292",
           "2022-01-08",
           27,
           "Female",
           163
          ],
          [
           "293",
           "2021-01-08",
           29,
           "Female",
           166
          ],
          [
           "294",
           "2021-01-08",
           31,
           "Female",
           160
          ],
          [
           "295",
           "2022-01-19",
           57,
           "Female",
           169
          ],
          [
           "296",
           "2021-05-24",
           29,
           "Male",
           168
          ],
          [
           "297",
           "2021-11-08",
           26,
           "Male",
           174
          ],
          [
           "298",
           "2021-07-14",
           32,
           "Female",
           161
          ],
          [
           "299",
           "2021-04-05",
           28,
           "Female",
           166
          ],
          [
           "300",
           "2021-05-05",
           22,
           "Female",
           170
          ],
          [
           "301",
           "2020-12-04",
           32,
           "Female",
           158
          ],
          [
           "302",
           "2021-01-24",
           27,
           "Male",
           180
          ],
          [
           "303",
           "2021-01-22",
           34,
           "Male",
           177
          ],
          [
           "306",
           "2021-01-17",
           22,
           "Male",
           167
          ],
          [
           "307",
           "2021-03-21",
           27,
           "Female",
           154
          ],
          [
           "309",
           "2021-01-21",
           37,
           "Female",
           166
          ],
          [
           "310",
           "2021-03-02",
           28,
           "Female",
           151
          ],
          [
           "311",
           "2021-02-17",
           41,
           "Male",
           170
          ],
          [
           "312",
           "2021-10-05",
           33,
           "Male",
           174
          ],
          [
           "314",
           "2021-04-17",
           30,
           "Female",
           162
          ],
          [
           "315",
           "2021-07-30",
           44,
           "Male",
           165
          ],
          [
           "317",
           "2021-04-13",
           42,
           "Male",
           160
          ],
          [
           "319",
           "2023-09-04",
           54,
           "Male",
           170
          ],
          [
           "325",
           "2020-12-21",
           32,
           "Female",
           162
          ],
          [
           "331",
           "2022-06-24",
           54,
           "Female",
           157
          ],
          [
           "334",
           "2022-10-04",
           32,
           "Female",
           159
          ],
          [
           "336",
           "2022-05-13",
           55,
           "Male",
           186
          ],
          [
           "339",
           "2023-06-13",
           60,
           "Female",
           155
          ],
          [
           "342",
           "2021-04-08",
           44,
           "Male",
           165
          ],
          [
           "343",
           "2022-02-17",
           18,
           "Female",
           161.5
          ],
          [
           "351",
           "2021-07-03",
           20,
           "Male",
           171
          ],
          [
           "352",
           "2023-07-05",
           54,
           "Female",
           159
          ],
          [
           "353",
           "2021-09-16",
           38,
           "Male",
           177
          ],
          [
           "362",
           "2022-11-15",
           49,
           "Female",
           160
          ],
          [
           "363",
           "2023-03-06",
           67,
           "Male",
           182
          ],
          [
           "365",
           "2023-04-29",
           32,
           "Male",
           169
          ],
          [
           "371",
           "2023-05-23",
           47,
           "Female",
           165
          ],
          [
           "372",
           "2021-06-28",
           18,
           "Female",
           165
          ],
          [
           "377",
           "2022-09-07",
           61,
           "Male",
           176
          ],
          [
           "380",
           "2022-09-08",
           34,
           "Male",
           165.5
          ],
          [
           "381",
           "2022-12-05",
           18,
           "Male",
           161.5
          ],
          [
           "383",
           "2022-10-03",
           27,
           "Female",
           159
          ],
          [
           "387",
           "2022-09-09",
           35,
           "Male",
           175
          ],
          [
           "389",
           "2022-03-01",
           18,
           "Female",
           160
          ],
          [
           "394",
           "2021-08-14",
           43,
           "Female",
           153
          ],
          [
           "395",
           "2022-07-26",
           22,
           "Male",
           170
          ],
          [
           "401",
           "2022-05-04",
           25,
           "Male",
           178
          ],
          [
           "403",
           "2022-05-27",
           37,
           "Female",
           159
          ],
          [
           "404",
           "2023-03-14",
           25,
           "Female",
           155
          ],
          [
           "405",
           "2022-11-28",
           39,
           "Male",
           179
          ],
          [
           "406",
           "2021-11-21",
           47,
           "Male",
           193
          ],
          [
           "407",
           "2021-01-17",
           28,
           "Female",
           165
          ],
          [
           "408",
           "2022-02-07",
           51,
           "Female",
           168
          ],
          [
           "409",
           "2021-05-27",
           35,
           "Male",
           177
          ],
          [
           "412",
           "2021-05-21",
           40,
           "Female",
           155
          ],
          [
           "413",
           "2021-09-01",
           55,
           "Female",
           168
          ],
          [
           "415",
           "2021-01-05",
           27,
           "Female",
           156
          ],
          [
           "416",
           "2023-02-06",
           30,
           "Female",
           173
          ],
          [
           "417",
           "2021-08-01",
           47,
           "Female",
           165
          ],
          [
           "420",
           "2022-11-18",
           51,
           "Male",
           178
          ],
          [
           "421",
           "2022-03-08",
           29,
           "Male",
           170
          ],
          [
           "422",
           "2022-01-31",
           58,
           "Male",
           178
          ],
          [
           "424",
           "2022-11-26",
           53,
           "Male",
           163
          ],
          [
           "425",
           "2022-02-01",
           25,
           "Female",
           167
          ],
          [
           "426",
           "2022-09-04",
           32,
           "Male",
           178
          ],
          [
           "427",
           "2022-07-08",
           33,
           "Female",
           160
          ],
          [
           "430",
           "2023-11-03",
           52,
           "Female",
           154
          ],
          [
           "431",
           "2023-01-30",
           55,
           "Male",
           185
          ],
          [
           "432",
           "2022-09-28",
           28,
           "Male",
           171
          ],
          [
           "433",
           "2023-03-14",
           65,
           "Female",
           156
          ],
          [
           "434",
           "2022-09-08",
           44,
           "Female",
           165
          ],
          [
           "439",
           "2022-09-08",
           40,
           "Male",
           176
          ],
          [
           "442",
           "2022-12-02",
           43,
           "Female",
           166
          ],
          [
           "447",
           "2023-04-20",
           44,
           "Male",
           180
          ],
          [
           "453",
           "2023-01-16",
           37,
           "Female",
           162
          ],
          [
           "455",
           "2023-03-02",
           45,
           "Male",
           175
          ],
          [
           "464",
           "2023-06-07",
           57,
           "Female",
           161
          ],
          [
           "469",
           "2023-07-12",
           25,
           "Male",
           179
          ],
          [
           "480",
           "2021-12-24",
           37,
           "Male",
           179
          ],
          [
           "481",
           "2022-06-20",
           39,
           "Male",
           178.5
          ],
          [
           "482",
           "2022-02-03",
           19,
           "Male",
           179
          ],
          [
           "483",
           "2022-02-03",
           32,
           "Male",
           181
          ],
          [
           "484",
           "2022-08-18",
           35,
           "Male",
           174
          ],
          [
           "485",
           "2022-03-09",
           22,
           "Male",
           181
          ],
          [
           "486",
           "2022-02-17",
           26,
           "Female",
           153
          ],
          [
           "488",
           "2022-08-12",
           57,
           "Female",
           172
          ],
          [
           "490",
           "2022-06-01",
           24,
           "Male",
           173.5
          ],
          [
           "491",
           "2022-03-21",
           34,
           "Female",
           169
          ],
          [
           "492",
           "2022-03-08",
           20,
           "Female",
           164
          ],
          [
           "493",
           "2023-09-10",
           49,
           "Male",
           179
          ],
          [
           "494",
           "2023-05-01",
           46,
           "Female",
           157
          ],
          [
           "495",
           "2022-03-12",
           28,
           "Male",
           163
          ],
          [
           "500",
           "2022-07-25",
           49,
           "Female",
           167
          ],
          [
           "502",
           "2022-09-30",
           58,
           "Male",
           177
          ],
          [
           "504",
           "2022-05-13",
           42,
           "Male",
           166
          ],
          [
           "506",
           "2023-07-14",
           22,
           "Female",
           170
          ],
          [
           "508",
           "2022-11-16",
           43,
           "Male",
           177
          ],
          [
           "509",
           "2023-06-08",
           58,
           "Male",
           172.7
          ],
          [
           "511",
           "2022-11-08",
           42,
           "Female",
           152.5
          ],
          [
           "512",
           "2022-06-05",
           19,
           "Female",
           160
          ],
          [
           "514",
           "2022-08-24",
           53,
           "Female",
           166.5
          ],
          [
           "515",
           "2022-08-16",
           54,
           "Female",
           159.5
          ],
          [
           "520",
           "2023-01-18",
           38,
           "Female",
           159
          ],
          [
           "523",
           "2022-07-19",
           22,
           "Female",
           166
          ],
          [
           "525",
           "2022-07-19",
           34,
           "Female",
           180.3
          ],
          [
           "529",
           "2022-06-13",
           33,
           "Male",
           159.5
          ],
          [
           "530",
           "2023-03-23",
           18,
           "Male",
           170.6
          ],
          [
           "532",
           "2023-01-07",
           26,
           "Female",
           173
          ],
          [
           "535",
           "2022-06-13",
           27,
           "Female",
           161.5
          ],
          [
           "537",
           "2022-08-31",
           38,
           "Male",
           171
          ],
          [
           "541",
           "2022-07-13",
           31,
           "Male",
           186.7
          ],
          [
           "544",
           "2022-10-05",
           30,
           "Male",
           184.6
          ],
          [
           "549",
           "2022-11-07",
           27,
           "Female",
           163
          ],
          [
           "550",
           "2022-12-12",
           59,
           "Male",
           170
          ],
          [
           "551",
           "2023-01-14",
           32,
           "Female",
           155
          ]
         ],
         "hovertemplate": "N days model=%{x}<br>Max absolute difference for HO2Sat=%{y}<br>ID=%{customdata[0]}<br>Day 1=%{customdata[1]}<br>Age=%{customdata[2]}<br>Sex=%{customdata[3]}<br>Height=%{customdata[4]}<extra></extra>",
         "legendgroup": "2 days (max FEV1)",
         "marker": {
          "color": "#EF553B"
         },
         "name": "2 days (max FEV1)",
         "notched": false,
         "offsetgroup": "2 days (max FEV1)",
         "orientation": "v",
         "showlegend": true,
         "type": "box",
         "x": [
          "2 days (max FEV1)",
          "2 days (max FEV1)",
          "2 days (max FEV1)",
          "2 days (max FEV1)",
          "2 days (max FEV1)",
          "2 days (max FEV1)",
          "2 days (max FEV1)",
          "2 days (max FEV1)",
          "2 days (max FEV1)",
          "2 days (max FEV1)",
          "2 days (max FEV1)",
          "2 days (max FEV1)",
          "2 days (max FEV1)",
          "2 days (max FEV1)",
          "2 days (max FEV1)",
          "2 days (max FEV1)",
          "2 days (max FEV1)",
          "2 days (max FEV1)",
          "2 days (max FEV1)",
          "2 days (max FEV1)",
          "2 days (max FEV1)",
          "2 days (max FEV1)",
          "2 days (max FEV1)",
          "2 days (max FEV1)",
          "2 days (max FEV1)",
          "2 days (max FEV1)",
          "2 days (max FEV1)",
          "2 days (max FEV1)",
          "2 days (max FEV1)",
          "2 days (max FEV1)",
          "2 days (max FEV1)",
          "2 days (max FEV1)",
          "2 days (max FEV1)",
          "2 days (max FEV1)",
          "2 days (max FEV1)",
          "2 days (max FEV1)",
          "2 days (max FEV1)",
          "2 days (max FEV1)",
          "2 days (max FEV1)",
          "2 days (max FEV1)",
          "2 days (max FEV1)",
          "2 days (max FEV1)",
          "2 days (max FEV1)",
          "2 days (max FEV1)",
          "2 days (max FEV1)",
          "2 days (max FEV1)",
          "2 days (max FEV1)",
          "2 days (max FEV1)",
          "2 days (max FEV1)",
          "2 days (max FEV1)",
          "2 days (max FEV1)",
          "2 days (max FEV1)",
          "2 days (max FEV1)",
          "2 days (max FEV1)",
          "2 days (max FEV1)",
          "2 days (max FEV1)",
          "2 days (max FEV1)",
          "2 days (max FEV1)",
          "2 days (max FEV1)",
          "2 days (max FEV1)",
          "2 days (max FEV1)",
          "2 days (max FEV1)",
          "2 days (max FEV1)",
          "2 days (max FEV1)",
          "2 days (max FEV1)",
          "2 days (max FEV1)",
          "2 days (max FEV1)",
          "2 days (max FEV1)",
          "2 days (max FEV1)",
          "2 days (max FEV1)",
          "2 days (max FEV1)",
          "2 days (max FEV1)",
          "2 days (max FEV1)",
          "2 days (max FEV1)",
          "2 days (max FEV1)",
          "2 days (max FEV1)",
          "2 days (max FEV1)",
          "2 days (max FEV1)",
          "2 days (max FEV1)",
          "2 days (max FEV1)",
          "2 days (max FEV1)",
          "2 days (max FEV1)",
          "2 days (max FEV1)",
          "2 days (max FEV1)",
          "2 days (max FEV1)",
          "2 days (max FEV1)",
          "2 days (max FEV1)",
          "2 days (max FEV1)",
          "2 days (max FEV1)",
          "2 days (max FEV1)",
          "2 days (max FEV1)",
          "2 days (max FEV1)",
          "2 days (max FEV1)",
          "2 days (max FEV1)",
          "2 days (max FEV1)",
          "2 days (max FEV1)",
          "2 days (max FEV1)",
          "2 days (max FEV1)",
          "2 days (max FEV1)",
          "2 days (max FEV1)",
          "2 days (max FEV1)",
          "2 days (max FEV1)",
          "2 days (max FEV1)",
          "2 days (max FEV1)",
          "2 days (max FEV1)",
          "2 days (max FEV1)",
          "2 days (max FEV1)",
          "2 days (max FEV1)",
          "2 days (max FEV1)",
          "2 days (max FEV1)",
          "2 days (max FEV1)",
          "2 days (max FEV1)",
          "2 days (max FEV1)",
          "2 days (max FEV1)",
          "2 days (max FEV1)",
          "2 days (max FEV1)",
          "2 days (max FEV1)",
          "2 days (max FEV1)",
          "2 days (max FEV1)",
          "2 days (max FEV1)",
          "2 days (max FEV1)",
          "2 days (max FEV1)",
          "2 days (max FEV1)",
          "2 days (max FEV1)",
          "2 days (max FEV1)",
          "2 days (max FEV1)",
          "2 days (max FEV1)",
          "2 days (max FEV1)",
          "2 days (max FEV1)",
          "2 days (max FEV1)",
          "2 days (max FEV1)",
          "2 days (max FEV1)",
          "2 days (max FEV1)",
          "2 days (max FEV1)",
          "2 days (max FEV1)",
          "2 days (max FEV1)",
          "2 days (max FEV1)",
          "2 days (max FEV1)",
          "2 days (max FEV1)",
          "2 days (max FEV1)",
          "2 days (max FEV1)",
          "2 days (max FEV1)",
          "2 days (max FEV1)",
          "2 days (max FEV1)",
          "2 days (max FEV1)",
          "2 days (max FEV1)",
          "2 days (max FEV1)",
          "2 days (max FEV1)",
          "2 days (max FEV1)",
          "2 days (max FEV1)",
          "2 days (max FEV1)",
          "2 days (max FEV1)",
          "2 days (max FEV1)",
          "2 days (max FEV1)",
          "2 days (max FEV1)",
          "2 days (max FEV1)",
          "2 days (max FEV1)",
          "2 days (max FEV1)",
          "2 days (max FEV1)",
          "2 days (max FEV1)",
          "2 days (max FEV1)",
          "2 days (max FEV1)",
          "2 days (max FEV1)",
          "2 days (max FEV1)",
          "2 days (max FEV1)",
          "2 days (max FEV1)",
          "2 days (max FEV1)",
          "2 days (max FEV1)",
          "2 days (max FEV1)",
          "2 days (max FEV1)",
          "2 days (max FEV1)",
          "2 days (max FEV1)",
          "2 days (max FEV1)",
          "2 days (max FEV1)",
          "2 days (max FEV1)",
          "2 days (max FEV1)",
          "2 days (max FEV1)",
          "2 days (max FEV1)",
          "2 days (max FEV1)",
          "2 days (max FEV1)",
          "2 days (max FEV1)",
          "2 days (max FEV1)",
          "2 days (max FEV1)",
          "2 days (max FEV1)",
          "2 days (max FEV1)",
          "2 days (max FEV1)",
          "2 days (max FEV1)",
          "2 days (max FEV1)",
          "2 days (max FEV1)",
          "2 days (max FEV1)",
          "2 days (max FEV1)",
          "2 days (max FEV1)",
          "2 days (max FEV1)",
          "2 days (max FEV1)",
          "2 days (max FEV1)",
          "2 days (max FEV1)",
          "2 days (max FEV1)",
          "2 days (max FEV1)",
          "2 days (max FEV1)",
          "2 days (max FEV1)",
          "2 days (max FEV1)",
          "2 days (max FEV1)",
          "2 days (max FEV1)",
          "2 days (max FEV1)",
          "2 days (max FEV1)",
          "2 days (max FEV1)",
          "2 days (max FEV1)",
          "2 days (max FEV1)",
          "2 days (max FEV1)",
          "2 days (max FEV1)",
          "2 days (max FEV1)",
          "2 days (max FEV1)",
          "2 days (max FEV1)",
          "2 days (max FEV1)",
          "2 days (max FEV1)",
          "2 days (max FEV1)",
          "2 days (max FEV1)",
          "2 days (max FEV1)",
          "2 days (max FEV1)",
          "2 days (max FEV1)",
          "2 days (max FEV1)",
          "2 days (max FEV1)",
          "2 days (max FEV1)",
          "2 days (max FEV1)",
          "2 days (max FEV1)",
          "2 days (max FEV1)",
          "2 days (max FEV1)",
          "2 days (max FEV1)",
          "2 days (max FEV1)",
          "2 days (max FEV1)",
          "2 days (max FEV1)",
          "2 days (max FEV1)",
          "2 days (max FEV1)",
          "2 days (max FEV1)",
          "2 days (max FEV1)",
          "2 days (max FEV1)",
          "2 days (max FEV1)",
          "2 days (max FEV1)",
          "2 days (max FEV1)",
          "2 days (max FEV1)",
          "2 days (max FEV1)",
          "2 days (max FEV1)",
          "2 days (max FEV1)",
          "2 days (max FEV1)",
          "2 days (max FEV1)",
          "2 days (max FEV1)",
          "2 days (max FEV1)",
          "2 days (max FEV1)",
          "2 days (max FEV1)",
          "2 days (max FEV1)",
          "2 days (max FEV1)",
          "2 days (max FEV1)",
          "2 days (max FEV1)",
          "2 days (max FEV1)",
          "2 days (max FEV1)",
          "2 days (max FEV1)"
         ],
         "x0": " ",
         "xaxis": "x",
         "y": [
          0.000520818096389139,
          0.00017634824957221684,
          0.00036422157231330576,
          4.13259556610035e-8,
          0.00014297052100131769,
          7.74165588406095e-9,
          0.00007759917387508558,
          0.000003231388647662037,
          0.00003066757072989201,
          2.8066438062523957e-13,
          0.000023279529220475784,
          5.551115123125783e-17,
          0.00004720180269301988,
          0.0000011650436050891777,
          1.9012270791041175e-7,
          1.7924460249396645e-8,
          0.000038123806454848364,
          0.00026289977821791766,
          4.4180211322686347e-7,
          1.9697576902899527e-11,
          0.0008359730352673761,
          2.1447979753341784e-8,
          1.7530844354310404e-9,
          1.6521783940959267e-11,
          1.1102230246251565e-16,
          0.00012812057722355608,
          0.000011746856194094768,
          1.3816409127898055e-9,
          1.5608353598484115e-7,
          0.000055466277444238266,
          2.2282198863798897e-7,
          8.283873204062431e-8,
          0.000006059736923580417,
          3.217572501392884e-8,
          1.5080654613974787e-8,
          0.0005397337119985579,
          7.992638235282401e-12,
          0.0000050057696545646735,
          0.00025230288466038253,
          2.318501408915541e-7,
          0.00003478460491197939,
          0.00009509165535953601,
          0.000005497507878149399,
          0.000016014113691231735,
          0.000010350021610983084,
          0.00006857674940327976,
          9.631090605206893e-7,
          1.3766547024562925e-7,
          6.364124404689697e-7,
          0.00006859124967506514,
          1.0252785955476573e-7,
          0.000009144299386365518,
          4.3363344259805814e-7,
          0.0004637188715860274,
          0.0000034521468273984723,
          0.0000046872209691350974,
          2.44454411491013e-7,
          0.000001763527966321815,
          0.00003745551094369581,
          3.2459703015741415e-9,
          0.000004458241003917063,
          3.311361393976142e-7,
          0.000010038622713093304,
          1.6780459657222968e-8,
          0.0000048314353030196044,
          1.2251324087164672e-12,
          1.0685695226407554e-7,
          0.000003196586605080931,
          1.8963772552282876e-8,
          2.2251044598433495e-8,
          0.000009649549744805697,
          2.187648177193191e-8,
          3.0577755473493173e-8,
          0.0011496338238615733,
          0.000005104431873403925,
          1.1505064678729582e-9,
          5.150839349488123e-7,
          1.2489807410531739e-8,
          0.0000010823058318454315,
          8.071181551122346e-8,
          4.506606907095367e-9,
          0.0000017966907052135994,
          0.000010756469303263572,
          0.0000017566227942713425,
          0.000011771631526213966,
          0.00005971687866102027,
          4.0190266567020905e-8,
          0.0000025457011333385182,
          3.9372608862456304e-10,
          4.037417010716027e-7,
          0.000013228760345040946,
          6.510348122684695e-7,
          4.2058927954974346e-12,
          0.000002516527881524233,
          0.000017207276298392138,
          6.834444232772796e-8,
          1.0155841011910693e-12,
          0.000005976213344860426,
          0.0004962967426404008,
          4.7086716036676135e-11,
          8.031132842090116e-10,
          2.5682880144817233e-7,
          1.4860032993002648e-7,
          0.000010071447700404912,
          9.286913488226745e-9,
          2.558182043976842e-8,
          5.625055976565818e-12,
          0.0000013938744053733354,
          0.00006229189557001649,
          3.1586293303131896e-10,
          0.0000016897257264468502,
          0.00003623933562657555,
          0.0005047960043038646,
          0.0000029062987543099217,
          2.1483109995806826e-11,
          0.0000019601397679945565,
          9.899908082200426e-8,
          2.49249743505299e-8,
          9.561290246953152e-11,
          6.656799556026272e-10,
          6.336651224569945e-9,
          0.000008112585917152693,
          0.000005212061605863738,
          0.000002049405620319078,
          0.000005076728158748267,
          2.5353130892868253e-8,
          0.00006279849087165168,
          3.0342274248695844e-8,
          4.815480926234628e-7,
          0.0000014318125421963757,
          2.87471127929928e-7,
          0.000008185333588997534,
          0.0000060475731157999535,
          4.16030213723495e-7,
          3.8895460116594727e-10,
          0.000031951589101186784,
          0.00036651047670732684,
          0.000002282287652925069,
          0.000012529958933193974,
          0.00004597252736683252,
          7.787742091966421e-7,
          0.000003727193455094202,
          1.580613542273568e-7,
          0.00000840494634213318,
          0.0000034528310283166164,
          0.00007780550340252823,
          5.881185591513627e-7,
          2.8398861491585325e-9,
          0.0003546847435423883,
          5.874360997637496e-10,
          5.98244242588919e-7,
          9.841594206250193e-11,
          2.239353145624956e-9,
          0.000001382256234040355,
          0.00009991497157783163,
          1.391775572567866e-8,
          0.000925992668864728,
          2.702952306963581e-11,
          0.00003590626119093221,
          5.942643677148141e-7,
          0.0000029998848916079623,
          0.000007239538878933693,
          0.0000021581061149245073,
          0.0000010753277564085062,
          2.4673202205080166e-8,
          2.180070360346953e-14,
          0.00023059900603950023,
          0.000008167913654988368,
          0.000008726160245275949,
          0.0000657329306672505,
          1.0894363189350997e-10,
          2.1481055201277854e-7,
          0.0000013168927400775132,
          3.170118612061401e-10,
          0.00003626625622110691,
          0.00020500133235636792,
          0.000027773242241790896,
          0.000014410779380802374,
          1.3877787807814457e-17,
          5.23114918049572e-9,
          0.0000027295219646172875,
          5.188369083392042e-7,
          0.0000029536040073718794,
          0.000006438826411714338,
          0.000004187142258138543,
          0.0000028635538047439013,
          9.192170605243355e-7,
          6.05899531935794e-10,
          0.00014774924741500772,
          0.0002429706127813347,
          0.000020442797438513516,
          5.715297655140006e-7,
          1.6945334024853764e-12,
          0.00036666457401868247,
          0.000912405302834346,
          0.0000014628801866534147,
          0.00029477991359905253,
          1.6646556080194413e-8,
          2.3853683123794406e-9,
          0.0006014644197706032,
          9.736006445493217e-10,
          0.0005432805622199721,
          0.00006489800254472211,
          0.000006562794928915983,
          1.984248043651604e-7,
          0.0000034467110909819354,
          0.000007377390695784136,
          0.000004417747920260062,
          0.000014499429218273185,
          0.000006288398387913063,
          0.0005049100678332641,
          0.0003831548924304595,
          0.000011113179440913612,
          4.211610022883394e-8,
          6.028904687236519e-7,
          0.000004720507575939337,
          6.91886548054299e-11,
          0.000004649555800484428,
          1.734723475976807e-18,
          1.7634057547510906e-9,
          5.637694563409568e-7,
          2.5079046738624156e-9,
          0.00004506950084119318,
          0.0001609929259295262,
          9.163494509856207e-7,
          0.00009932231133802372,
          0.00044580059073351386,
          8.641652297219915e-8,
          6.18954892894763e-8,
          7.875148544389532e-8,
          0.000026243263777998155,
          1.5559196554076893e-7,
          0.000006150247802788611,
          0.0000752850840026742,
          0.000377469327286023,
          0.000002398884534189627,
          4.333408631929103e-9,
          0.00003713651694330425,
          0.000001934760705091243,
          2.7665034862955906e-7,
          4.968059297283389e-11,
          0.0000013540333510366279,
          0.00000954053825985568,
          0.00016576078813368422,
          0.000002186142219251508,
          0.000007553257178383177,
          0.0006592753156522413,
          3.3446393158526044e-8,
          8.704336740272822e-7,
          0.00000269243465134128,
          0.000004584071518508315,
          2.6020852139652106e-18,
          4.3039630887031777e-10,
          0.0006168833917938876,
          0.0005885411432629481,
          0.000008477340662449429
         ],
         "y0": " ",
         "yaxis": "y"
        },
        {
         "alignmentgroup": "True",
         "customdata": [
          [
           "101",
           "2020-12-15",
           53,
           "Male",
           173
          ],
          [
           "102",
           "2022-01-26",
           44,
           "Male",
           176
          ],
          [
           "103",
           "2021-05-11",
           39,
           "Female",
           161
          ],
          [
           "104",
           "2023-05-06",
           25,
           "Female",
           143
          ],
          [
           "106",
           "2020-02-08",
           27,
           "Female",
           154
          ],
          [
           "107",
           "2019-07-19",
           26,
           "Female",
           167
          ],
          [
           "108",
           "2020-12-06",
           29,
           "Male",
           170
          ],
          [
           "109",
           "2022-01-31",
           28,
           "Female",
           170
          ],
          [
           "110",
           "2020-05-26",
           21,
           "Female",
           149
          ],
          [
           "111",
           "2022-05-14",
           37,
           "Female",
           167
          ],
          [
           "112",
           "2020-10-23",
           32,
           "Male",
           193
          ],
          [
           "113",
           "2023-03-06",
           25,
           "Male",
           165.5
          ],
          [
           "114",
           "2019-06-08",
           33,
           "Female",
           163
          ],
          [
           "115",
           "2019-03-26",
           28,
           "Male",
           172
          ],
          [
           "116",
           "2023-02-05",
           52,
           "Female",
           164
          ],
          [
           "117",
           "2020-08-31",
           31,
           "Female",
           162
          ],
          [
           "118",
           "2019-07-26",
           29,
           "Female",
           152
          ],
          [
           "119",
           "2020-01-25",
           34,
           "Female",
           160
          ],
          [
           "120",
           "2021-09-27",
           30,
           "Male",
           182
          ],
          [
           "121",
           "2020-10-11",
           24,
           "Female",
           159
          ],
          [
           "122",
           "2021-12-28",
           37,
           "Male",
           171
          ],
          [
           "123",
           "2021-12-29",
           19,
           "Male",
           175
          ],
          [
           "124",
           "2019-09-04",
           20,
           "Female",
           163
          ],
          [
           "125",
           "2020-12-05",
           25,
           "Female",
           165
          ],
          [
           "126",
           "2019-10-11",
           20,
           "Male",
           172
          ],
          [
           "127",
           "2019-10-10",
           37,
           "Male",
           177
          ],
          [
           "128",
           "2019-08-09",
           18,
           "Male",
           181
          ],
          [
           "130",
           "2020-05-16",
           24,
           "Female",
           167
          ],
          [
           "131",
           "2019-09-16",
           27,
           "Female",
           157
          ],
          [
           "132",
           "2019-09-17",
           38,
           "Male",
           176
          ],
          [
           "133",
           "2022-01-22",
           35,
           "Female",
           160
          ],
          [
           "134",
           "2020-02-10",
           31,
           "Male",
           179
          ],
          [
           "135",
           "2019-12-08",
           20,
           "Male",
           187
          ],
          [
           "138",
           "2020-07-14",
           22,
           "Female",
           148
          ],
          [
           "139",
           "2020-08-31",
           28,
           "Female",
           148
          ],
          [
           "140",
           "2019-10-28",
           29,
           "Male",
           169
          ],
          [
           "141",
           "2022-06-28",
           19,
           "Female",
           167
          ],
          [
           "142",
           "2019-10-22",
           32,
           "Female",
           148
          ],
          [
           "143",
           "2020-01-14",
           25,
           "Female",
           156
          ],
          [
           "144",
           "2020-11-06",
           25,
           "Male",
           156
          ],
          [
           "145",
           "2019-10-12",
           41,
           "Male",
           180
          ],
          [
           "146",
           "2020-06-18",
           36,
           "Male",
           158
          ],
          [
           "147",
           "2020-06-10",
           28,
           "Female",
           166
          ],
          [
           "148",
           "2020-12-29",
           28,
           "Female",
           169
          ],
          [
           "149",
           "2021-01-18",
           43,
           "Female",
           171
          ],
          [
           "150",
           "2020-02-08",
           21,
           "Male",
           174
          ],
          [
           "151",
           "2020-10-10",
           18,
           "Male",
           171.5
          ],
          [
           "152",
           "2019-11-13",
           24,
           "Female",
           162
          ],
          [
           "153",
           "2022-01-01",
           22,
           "Male",
           172
          ],
          [
           "155",
           "2019-11-25",
           34,
           "Male",
           174
          ],
          [
           "156",
           "2020-09-14",
           24,
           "Male",
           181
          ],
          [
           "158",
           "2021-03-27",
           35,
           "Female",
           151
          ],
          [
           "159",
           "2020-03-23",
           25,
           "Male",
           175.5
          ],
          [
           "162",
           "2020-08-12",
           32,
           "Female",
           160
          ],
          [
           "163",
           "2022-08-10",
           29,
           "Female",
           157
          ],
          [
           "164",
           "2020-06-25",
           38,
           "Female",
           164
          ],
          [
           "165",
           "2020-09-16",
           22,
           "Female",
           157
          ],
          [
           "166",
           "2019-12-14",
           35,
           "Male",
           180
          ],
          [
           "169",
           "2020-08-23",
           20,
           "Female",
           163
          ],
          [
           "170",
           "2022-09-25",
           23,
           "Male",
           175
          ],
          [
           "171",
           "2020-07-28",
           38,
           "Male",
           168
          ],
          [
           "172",
           "2022-05-31",
           31,
           "Male",
           167
          ],
          [
           "173",
           "2020-03-14",
           25,
           "Female",
           167
          ],
          [
           "174",
           "2020-10-14",
           28,
           "Female",
           159
          ],
          [
           "176",
           "2021-05-06",
           34,
           "Male",
           165
          ],
          [
           "177",
           "2021-03-29",
           24,
           "Female",
           155
          ],
          [
           "178",
           "2020-01-06",
           19,
           "Male",
           178
          ],
          [
           "179",
           "2020-01-24",
           25,
           "Female",
           161
          ],
          [
           "180",
           "2021-01-07",
           37,
           "Female",
           157
          ],
          [
           "182",
           "2022-12-13",
           42,
           "Female",
           159
          ],
          [
           "184",
           "2020-08-14",
           43,
           "Male",
           184
          ],
          [
           "185",
           "2020-03-30",
           18,
           "Male",
           186
          ],
          [
           "186",
           "2020-04-09",
           30,
           "Female",
           166
          ],
          [
           "187",
           "2020-12-19",
           28,
           "Female",
           167
          ],
          [
           "188",
           "2020-02-19",
           21,
           "Female",
           150
          ],
          [
           "190",
           "2020-02-18",
           25,
           "Male",
           181
          ],
          [
           "191",
           "2022-05-20",
           31,
           "Male",
           175
          ],
          [
           "192",
           "2020-04-07",
           20,
           "Female",
           158
          ],
          [
           "193",
           "2020-06-21",
           28,
           "Female",
           166
          ],
          [
           "194",
           "2020-10-15",
           24,
           "Female",
           150
          ],
          [
           "196",
           "2020-02-28",
           22,
           "Female",
           165
          ],
          [
           "197",
           "2022-07-17",
           36,
           "Female",
           171
          ],
          [
           "198",
           "2023-01-16",
           36,
           "Female",
           151
          ],
          [
           "199",
           "2020-12-05",
           34,
           "Male",
           179
          ],
          [
           "201",
           "2021-02-20",
           53,
           "Female",
           173
          ],
          [
           "203",
           "2023-03-29",
           38,
           "Female",
           164
          ],
          [
           "204",
           "2022-01-05",
           46,
           "Female",
           163
          ],
          [
           "205",
           "2022-07-29",
           25,
           "Female",
           160
          ],
          [
           "209",
           "2021-09-20",
           34,
           "Male",
           191
          ],
          [
           "210",
           "2020-11-06",
           29,
           "Female",
           163
          ],
          [
           "215",
           "2021-07-14",
           42,
           "Female",
           173
          ],
          [
           "220",
           "2023-01-07",
           41,
           "Female",
           166
          ],
          [
           "221",
           "2022-05-30",
           23,
           "Female",
           162
          ],
          [
           "223",
           "2023-01-03",
           31,
           "Female",
           154
          ],
          [
           "224",
           "2023-04-28",
           46,
           "Male",
           174
          ],
          [
           "229",
           "2021-03-31",
           52,
           "Female",
           159
          ],
          [
           "230",
           "2021-06-01",
           19,
           "Female",
           152
          ],
          [
           "231",
           "2022-04-14",
           52,
           "Female",
           164
          ],
          [
           "232",
           "2020-10-10",
           20,
           "Male",
           163
          ],
          [
           "233",
           "2020-12-22",
           37,
           "Female",
           170.5
          ],
          [
           "237",
           "2021-04-22",
           25,
           "Male",
           159
          ],
          [
           "238",
           "2022-09-13",
           59,
           "Female",
           165
          ],
          [
           "239",
           "2020-09-01",
           30,
           "Female",
           157
          ],
          [
           "240",
           "2022-07-28",
           48,
           "Male",
           158
          ],
          [
           "242",
           "2021-08-27",
           39,
           "Female",
           165
          ],
          [
           "243",
           "2020-12-01",
           22,
           "Female",
           164
          ],
          [
           "244",
           "2022-09-15",
           35,
           "Female",
           160
          ],
          [
           "245",
           "2021-08-10",
           23,
           "Male",
           171
          ],
          [
           "249",
           "2021-03-09",
           33,
           "Male",
           173
          ],
          [
           "250",
           "2023-08-31",
           37,
           "Male",
           169
          ],
          [
           "251",
           "2021-01-25",
           23,
           "Male",
           172
          ],
          [
           "252",
           "2020-10-05",
           32,
           "Male",
           167
          ],
          [
           "253",
           "2021-05-31",
           23,
           "Female",
           160
          ],
          [
           "254",
           "2021-06-03",
           28,
           "Male",
           179
          ],
          [
           "255",
           "2021-03-30",
           21,
           "Female",
           170
          ],
          [
           "256",
           "2021-01-16",
           27,
           "Female",
           177
          ],
          [
           "257",
           "2021-12-06",
           47,
           "Male",
           176
          ],
          [
           "258",
           "2021-02-25",
           45,
           "Female",
           153
          ],
          [
           "261",
           "2021-01-11",
           34,
           "Female",
           157
          ],
          [
           "262",
           "2021-10-29",
           29,
           "Female",
           166.5
          ],
          [
           "263",
           "2020-09-24",
           32,
           "Female",
           159
          ],
          [
           "264",
           "2020-12-02",
           41,
           "Female",
           153
          ],
          [
           "265",
           "2021-07-12",
           24,
           "Female",
           158
          ],
          [
           "266",
           "2021-02-18",
           26,
           "Male",
           183
          ],
          [
           "270",
           "2022-03-16",
           41,
           "Female",
           166
          ],
          [
           "271",
           "2021-07-05",
           38,
           "Female",
           159
          ],
          [
           "272",
           "2023-05-02",
           57,
           "Female",
           165
          ],
          [
           "273",
           "2021-02-16",
           33,
           "Female",
           165
          ],
          [
           "274",
           "2020-12-31",
           27,
           "Male",
           172
          ],
          [
           "275",
           "2020-10-02",
           32,
           "Male",
           181
          ],
          [
           "276",
           "2021-01-26",
           25,
           "Male",
           172
          ],
          [
           "278",
           "2021-08-14",
           39,
           "Male",
           160
          ],
          [
           "279",
           "2022-07-22",
           34,
           "Male",
           178
          ],
          [
           "280",
           "2021-06-08",
           25,
           "Male",
           163
          ],
          [
           "281",
           "2022-12-05",
           39,
           "Male",
           171
          ],
          [
           "282",
           "2021-04-25",
           32,
           "Male",
           173
          ],
          [
           "283",
           "2021-04-11",
           36,
           "Female",
           162
          ],
          [
           "284",
           "2021-06-07",
           24,
           "Male",
           174
          ],
          [
           "287",
           "2020-12-05",
           28,
           "Female",
           152
          ],
          [
           "289",
           "2022-01-24",
           39,
           "Male",
           171
          ],
          [
           "290",
           "2023-09-02",
           35,
           "Male",
           174
          ],
          [
           "291",
           "2023-07-09",
           30,
           "Male",
           177
          ],
          [
           "292",
           "2022-01-08",
           27,
           "Female",
           163
          ],
          [
           "293",
           "2021-01-08",
           29,
           "Female",
           166
          ],
          [
           "294",
           "2021-01-08",
           31,
           "Female",
           160
          ],
          [
           "295",
           "2022-01-19",
           57,
           "Female",
           169
          ],
          [
           "296",
           "2021-05-24",
           29,
           "Male",
           168
          ],
          [
           "297",
           "2021-11-08",
           26,
           "Male",
           174
          ],
          [
           "298",
           "2021-07-14",
           32,
           "Female",
           161
          ],
          [
           "299",
           "2021-04-05",
           28,
           "Female",
           166
          ],
          [
           "300",
           "2021-05-05",
           22,
           "Female",
           170
          ],
          [
           "301",
           "2020-12-04",
           32,
           "Female",
           158
          ],
          [
           "302",
           "2021-01-24",
           27,
           "Male",
           180
          ],
          [
           "303",
           "2021-01-22",
           34,
           "Male",
           177
          ],
          [
           "306",
           "2021-01-17",
           22,
           "Male",
           167
          ],
          [
           "307",
           "2021-03-21",
           27,
           "Female",
           154
          ],
          [
           "309",
           "2021-01-21",
           37,
           "Female",
           166
          ],
          [
           "310",
           "2021-03-02",
           28,
           "Female",
           151
          ],
          [
           "311",
           "2021-02-17",
           41,
           "Male",
           170
          ],
          [
           "312",
           "2021-10-05",
           33,
           "Male",
           174
          ],
          [
           "314",
           "2021-04-17",
           30,
           "Female",
           162
          ],
          [
           "315",
           "2021-07-30",
           44,
           "Male",
           165
          ],
          [
           "317",
           "2021-04-13",
           42,
           "Male",
           160
          ],
          [
           "319",
           "2023-09-04",
           54,
           "Male",
           170
          ],
          [
           "325",
           "2020-12-21",
           32,
           "Female",
           162
          ],
          [
           "331",
           "2022-06-24",
           54,
           "Female",
           157
          ],
          [
           "334",
           "2022-10-04",
           32,
           "Female",
           159
          ],
          [
           "336",
           "2022-05-13",
           55,
           "Male",
           186
          ],
          [
           "339",
           "2023-06-13",
           60,
           "Female",
           155
          ],
          [
           "342",
           "2021-04-08",
           44,
           "Male",
           165
          ],
          [
           "343",
           "2022-02-17",
           18,
           "Female",
           161.5
          ],
          [
           "351",
           "2021-07-03",
           20,
           "Male",
           171
          ],
          [
           "352",
           "2023-07-05",
           54,
           "Female",
           159
          ],
          [
           "353",
           "2021-09-16",
           38,
           "Male",
           177
          ],
          [
           "362",
           "2022-11-15",
           49,
           "Female",
           160
          ],
          [
           "363",
           "2023-03-06",
           67,
           "Male",
           182
          ],
          [
           "365",
           "2023-04-29",
           32,
           "Male",
           169
          ],
          [
           "371",
           "2023-05-23",
           47,
           "Female",
           165
          ],
          [
           "372",
           "2021-06-28",
           18,
           "Female",
           165
          ],
          [
           "377",
           "2022-09-07",
           61,
           "Male",
           176
          ],
          [
           "380",
           "2022-09-08",
           34,
           "Male",
           165.5
          ],
          [
           "381",
           "2022-12-05",
           18,
           "Male",
           161.5
          ],
          [
           "383",
           "2022-10-03",
           27,
           "Female",
           159
          ],
          [
           "387",
           "2022-09-09",
           35,
           "Male",
           175
          ],
          [
           "389",
           "2022-03-01",
           18,
           "Female",
           160
          ],
          [
           "394",
           "2021-08-14",
           43,
           "Female",
           153
          ],
          [
           "395",
           "2022-07-26",
           22,
           "Male",
           170
          ],
          [
           "401",
           "2022-05-04",
           25,
           "Male",
           178
          ],
          [
           "403",
           "2022-05-27",
           37,
           "Female",
           159
          ],
          [
           "404",
           "2023-03-14",
           25,
           "Female",
           155
          ],
          [
           "405",
           "2022-11-28",
           39,
           "Male",
           179
          ],
          [
           "406",
           "2021-11-21",
           47,
           "Male",
           193
          ],
          [
           "407",
           "2021-01-17",
           28,
           "Female",
           165
          ],
          [
           "408",
           "2022-02-07",
           51,
           "Female",
           168
          ],
          [
           "409",
           "2021-05-27",
           35,
           "Male",
           177
          ],
          [
           "412",
           "2021-05-21",
           40,
           "Female",
           155
          ],
          [
           "413",
           "2021-09-01",
           55,
           "Female",
           168
          ],
          [
           "415",
           "2021-01-05",
           27,
           "Female",
           156
          ],
          [
           "416",
           "2023-02-06",
           30,
           "Female",
           173
          ],
          [
           "417",
           "2021-08-01",
           47,
           "Female",
           165
          ],
          [
           "420",
           "2022-11-18",
           51,
           "Male",
           178
          ],
          [
           "421",
           "2022-03-08",
           29,
           "Male",
           170
          ],
          [
           "422",
           "2022-01-31",
           58,
           "Male",
           178
          ],
          [
           "424",
           "2022-11-26",
           53,
           "Male",
           163
          ],
          [
           "425",
           "2022-02-01",
           25,
           "Female",
           167
          ],
          [
           "426",
           "2022-09-04",
           32,
           "Male",
           178
          ],
          [
           "427",
           "2022-07-08",
           33,
           "Female",
           160
          ],
          [
           "430",
           "2023-11-03",
           52,
           "Female",
           154
          ],
          [
           "431",
           "2023-01-30",
           55,
           "Male",
           185
          ],
          [
           "432",
           "2022-09-28",
           28,
           "Male",
           171
          ],
          [
           "433",
           "2023-03-14",
           65,
           "Female",
           156
          ],
          [
           "434",
           "2022-09-08",
           44,
           "Female",
           165
          ],
          [
           "439",
           "2022-09-08",
           40,
           "Male",
           176
          ],
          [
           "442",
           "2022-12-02",
           43,
           "Female",
           166
          ],
          [
           "447",
           "2023-04-20",
           44,
           "Male",
           180
          ],
          [
           "453",
           "2023-01-16",
           37,
           "Female",
           162
          ],
          [
           "455",
           "2023-03-02",
           45,
           "Male",
           175
          ],
          [
           "464",
           "2023-06-07",
           57,
           "Female",
           161
          ],
          [
           "469",
           "2023-07-12",
           25,
           "Male",
           179
          ],
          [
           "480",
           "2021-12-24",
           37,
           "Male",
           179
          ],
          [
           "481",
           "2022-06-20",
           39,
           "Male",
           178.5
          ],
          [
           "482",
           "2022-02-03",
           19,
           "Male",
           179
          ],
          [
           "483",
           "2022-02-03",
           32,
           "Male",
           181
          ],
          [
           "484",
           "2022-08-18",
           35,
           "Male",
           174
          ],
          [
           "485",
           "2022-03-09",
           22,
           "Male",
           181
          ],
          [
           "486",
           "2022-02-17",
           26,
           "Female",
           153
          ],
          [
           "488",
           "2022-08-12",
           57,
           "Female",
           172
          ],
          [
           "490",
           "2022-06-01",
           24,
           "Male",
           173.5
          ],
          [
           "491",
           "2022-03-21",
           34,
           "Female",
           169
          ],
          [
           "492",
           "2022-03-08",
           20,
           "Female",
           164
          ],
          [
           "493",
           "2023-09-10",
           49,
           "Male",
           179
          ],
          [
           "494",
           "2023-05-01",
           46,
           "Female",
           157
          ],
          [
           "495",
           "2022-03-12",
           28,
           "Male",
           163
          ],
          [
           "500",
           "2022-07-25",
           49,
           "Female",
           167
          ],
          [
           "502",
           "2022-09-30",
           58,
           "Male",
           177
          ],
          [
           "504",
           "2022-05-13",
           42,
           "Male",
           166
          ],
          [
           "506",
           "2023-07-14",
           22,
           "Female",
           170
          ],
          [
           "508",
           "2022-11-16",
           43,
           "Male",
           177
          ],
          [
           "509",
           "2023-06-08",
           58,
           "Male",
           172.7
          ],
          [
           "511",
           "2022-11-08",
           42,
           "Female",
           152.5
          ],
          [
           "512",
           "2022-06-05",
           19,
           "Female",
           160
          ],
          [
           "514",
           "2022-08-24",
           53,
           "Female",
           166.5
          ],
          [
           "515",
           "2022-08-16",
           54,
           "Female",
           159.5
          ],
          [
           "520",
           "2023-01-18",
           38,
           "Female",
           159
          ],
          [
           "523",
           "2022-07-19",
           22,
           "Female",
           166
          ],
          [
           "525",
           "2022-07-19",
           34,
           "Female",
           180.3
          ],
          [
           "529",
           "2022-06-13",
           33,
           "Male",
           159.5
          ],
          [
           "530",
           "2023-03-23",
           18,
           "Male",
           170.6
          ],
          [
           "532",
           "2023-01-07",
           26,
           "Female",
           173
          ],
          [
           "535",
           "2022-06-13",
           27,
           "Female",
           161.5
          ],
          [
           "537",
           "2022-08-31",
           38,
           "Male",
           171
          ],
          [
           "541",
           "2022-07-13",
           31,
           "Male",
           186.7
          ],
          [
           "544",
           "2022-10-05",
           30,
           "Male",
           184.6
          ],
          [
           "549",
           "2022-11-07",
           27,
           "Female",
           163
          ],
          [
           "550",
           "2022-12-12",
           59,
           "Male",
           170
          ],
          [
           "551",
           "2023-01-14",
           32,
           "Female",
           155
          ]
         ],
         "hovertemplate": "N days model=%{x}<br>Max absolute difference for HO2Sat=%{y}<br>ID=%{customdata[0]}<br>Day 1=%{customdata[1]}<br>Age=%{customdata[2]}<br>Sex=%{customdata[3]}<br>Height=%{customdata[4]}<extra></extra>",
         "legendgroup": "3 days (max FEV1)",
         "marker": {
          "color": "#00cc96"
         },
         "name": "3 days (max FEV1)",
         "notched": false,
         "offsetgroup": "3 days (max FEV1)",
         "orientation": "v",
         "showlegend": true,
         "type": "box",
         "x": [
          "3 days (max FEV1)",
          "3 days (max FEV1)",
          "3 days (max FEV1)",
          "3 days (max FEV1)",
          "3 days (max FEV1)",
          "3 days (max FEV1)",
          "3 days (max FEV1)",
          "3 days (max FEV1)",
          "3 days (max FEV1)",
          "3 days (max FEV1)",
          "3 days (max FEV1)",
          "3 days (max FEV1)",
          "3 days (max FEV1)",
          "3 days (max FEV1)",
          "3 days (max FEV1)",
          "3 days (max FEV1)",
          "3 days (max FEV1)",
          "3 days (max FEV1)",
          "3 days (max FEV1)",
          "3 days (max FEV1)",
          "3 days (max FEV1)",
          "3 days (max FEV1)",
          "3 days (max FEV1)",
          "3 days (max FEV1)",
          "3 days (max FEV1)",
          "3 days (max FEV1)",
          "3 days (max FEV1)",
          "3 days (max FEV1)",
          "3 days (max FEV1)",
          "3 days (max FEV1)",
          "3 days (max FEV1)",
          "3 days (max FEV1)",
          "3 days (max FEV1)",
          "3 days (max FEV1)",
          "3 days (max FEV1)",
          "3 days (max FEV1)",
          "3 days (max FEV1)",
          "3 days (max FEV1)",
          "3 days (max FEV1)",
          "3 days (max FEV1)",
          "3 days (max FEV1)",
          "3 days (max FEV1)",
          "3 days (max FEV1)",
          "3 days (max FEV1)",
          "3 days (max FEV1)",
          "3 days (max FEV1)",
          "3 days (max FEV1)",
          "3 days (max FEV1)",
          "3 days (max FEV1)",
          "3 days (max FEV1)",
          "3 days (max FEV1)",
          "3 days (max FEV1)",
          "3 days (max FEV1)",
          "3 days (max FEV1)",
          "3 days (max FEV1)",
          "3 days (max FEV1)",
          "3 days (max FEV1)",
          "3 days (max FEV1)",
          "3 days (max FEV1)",
          "3 days (max FEV1)",
          "3 days (max FEV1)",
          "3 days (max FEV1)",
          "3 days (max FEV1)",
          "3 days (max FEV1)",
          "3 days (max FEV1)",
          "3 days (max FEV1)",
          "3 days (max FEV1)",
          "3 days (max FEV1)",
          "3 days (max FEV1)",
          "3 days (max FEV1)",
          "3 days (max FEV1)",
          "3 days (max FEV1)",
          "3 days (max FEV1)",
          "3 days (max FEV1)",
          "3 days (max FEV1)",
          "3 days (max FEV1)",
          "3 days (max FEV1)",
          "3 days (max FEV1)",
          "3 days (max FEV1)",
          "3 days (max FEV1)",
          "3 days (max FEV1)",
          "3 days (max FEV1)",
          "3 days (max FEV1)",
          "3 days (max FEV1)",
          "3 days (max FEV1)",
          "3 days (max FEV1)",
          "3 days (max FEV1)",
          "3 days (max FEV1)",
          "3 days (max FEV1)",
          "3 days (max FEV1)",
          "3 days (max FEV1)",
          "3 days (max FEV1)",
          "3 days (max FEV1)",
          "3 days (max FEV1)",
          "3 days (max FEV1)",
          "3 days (max FEV1)",
          "3 days (max FEV1)",
          "3 days (max FEV1)",
          "3 days (max FEV1)",
          "3 days (max FEV1)",
          "3 days (max FEV1)",
          "3 days (max FEV1)",
          "3 days (max FEV1)",
          "3 days (max FEV1)",
          "3 days (max FEV1)",
          "3 days (max FEV1)",
          "3 days (max FEV1)",
          "3 days (max FEV1)",
          "3 days (max FEV1)",
          "3 days (max FEV1)",
          "3 days (max FEV1)",
          "3 days (max FEV1)",
          "3 days (max FEV1)",
          "3 days (max FEV1)",
          "3 days (max FEV1)",
          "3 days (max FEV1)",
          "3 days (max FEV1)",
          "3 days (max FEV1)",
          "3 days (max FEV1)",
          "3 days (max FEV1)",
          "3 days (max FEV1)",
          "3 days (max FEV1)",
          "3 days (max FEV1)",
          "3 days (max FEV1)",
          "3 days (max FEV1)",
          "3 days (max FEV1)",
          "3 days (max FEV1)",
          "3 days (max FEV1)",
          "3 days (max FEV1)",
          "3 days (max FEV1)",
          "3 days (max FEV1)",
          "3 days (max FEV1)",
          "3 days (max FEV1)",
          "3 days (max FEV1)",
          "3 days (max FEV1)",
          "3 days (max FEV1)",
          "3 days (max FEV1)",
          "3 days (max FEV1)",
          "3 days (max FEV1)",
          "3 days (max FEV1)",
          "3 days (max FEV1)",
          "3 days (max FEV1)",
          "3 days (max FEV1)",
          "3 days (max FEV1)",
          "3 days (max FEV1)",
          "3 days (max FEV1)",
          "3 days (max FEV1)",
          "3 days (max FEV1)",
          "3 days (max FEV1)",
          "3 days (max FEV1)",
          "3 days (max FEV1)",
          "3 days (max FEV1)",
          "3 days (max FEV1)",
          "3 days (max FEV1)",
          "3 days (max FEV1)",
          "3 days (max FEV1)",
          "3 days (max FEV1)",
          "3 days (max FEV1)",
          "3 days (max FEV1)",
          "3 days (max FEV1)",
          "3 days (max FEV1)",
          "3 days (max FEV1)",
          "3 days (max FEV1)",
          "3 days (max FEV1)",
          "3 days (max FEV1)",
          "3 days (max FEV1)",
          "3 days (max FEV1)",
          "3 days (max FEV1)",
          "3 days (max FEV1)",
          "3 days (max FEV1)",
          "3 days (max FEV1)",
          "3 days (max FEV1)",
          "3 days (max FEV1)",
          "3 days (max FEV1)",
          "3 days (max FEV1)",
          "3 days (max FEV1)",
          "3 days (max FEV1)",
          "3 days (max FEV1)",
          "3 days (max FEV1)",
          "3 days (max FEV1)",
          "3 days (max FEV1)",
          "3 days (max FEV1)",
          "3 days (max FEV1)",
          "3 days (max FEV1)",
          "3 days (max FEV1)",
          "3 days (max FEV1)",
          "3 days (max FEV1)",
          "3 days (max FEV1)",
          "3 days (max FEV1)",
          "3 days (max FEV1)",
          "3 days (max FEV1)",
          "3 days (max FEV1)",
          "3 days (max FEV1)",
          "3 days (max FEV1)",
          "3 days (max FEV1)",
          "3 days (max FEV1)",
          "3 days (max FEV1)",
          "3 days (max FEV1)",
          "3 days (max FEV1)",
          "3 days (max FEV1)",
          "3 days (max FEV1)",
          "3 days (max FEV1)",
          "3 days (max FEV1)",
          "3 days (max FEV1)",
          "3 days (max FEV1)",
          "3 days (max FEV1)",
          "3 days (max FEV1)",
          "3 days (max FEV1)",
          "3 days (max FEV1)",
          "3 days (max FEV1)",
          "3 days (max FEV1)",
          "3 days (max FEV1)",
          "3 days (max FEV1)",
          "3 days (max FEV1)",
          "3 days (max FEV1)",
          "3 days (max FEV1)",
          "3 days (max FEV1)",
          "3 days (max FEV1)",
          "3 days (max FEV1)",
          "3 days (max FEV1)",
          "3 days (max FEV1)",
          "3 days (max FEV1)",
          "3 days (max FEV1)",
          "3 days (max FEV1)",
          "3 days (max FEV1)",
          "3 days (max FEV1)",
          "3 days (max FEV1)",
          "3 days (max FEV1)",
          "3 days (max FEV1)",
          "3 days (max FEV1)",
          "3 days (max FEV1)",
          "3 days (max FEV1)",
          "3 days (max FEV1)",
          "3 days (max FEV1)",
          "3 days (max FEV1)",
          "3 days (max FEV1)",
          "3 days (max FEV1)",
          "3 days (max FEV1)",
          "3 days (max FEV1)",
          "3 days (max FEV1)",
          "3 days (max FEV1)",
          "3 days (max FEV1)",
          "3 days (max FEV1)",
          "3 days (max FEV1)",
          "3 days (max FEV1)",
          "3 days (max FEV1)",
          "3 days (max FEV1)",
          "3 days (max FEV1)",
          "3 days (max FEV1)",
          "3 days (max FEV1)",
          "3 days (max FEV1)",
          "3 days (max FEV1)",
          "3 days (max FEV1)",
          "3 days (max FEV1)",
          "3 days (max FEV1)",
          "3 days (max FEV1)"
         ],
         "x0": " ",
         "xaxis": "x",
         "y": [
          0.0034897252776257964,
          0.0014767085265670055,
          0.00029020719009387186,
          8.134134044102126e-8,
          0.00028151134425058455,
          6.948788314527915e-7,
          0.00025951030785700824,
          2.410396940932813e-7,
          0.00007494757206749636,
          1.3633538742396922e-12,
          0.0000914155245722581,
          1.1102230246251565e-16,
          0.00023206578362799934,
          0.0000058436186721883,
          9.055466828646053e-9,
          1.1072570638148704e-9,
          0.000023384521018021687,
          0.0001902856001508857,
          0.000001382000209160239,
          2.580824443043639e-12,
          0.0042748992415954645,
          0.000023151029458379213,
          1.5380492358971903e-7,
          1.514767755672608e-9,
          6.938893903907228e-18,
          0.0003116117268044949,
          0.000023619675133645934,
          1.8913673738296666e-8,
          6.577229591644756e-8,
          0.0003131681382886331,
          9.472044881775332e-8,
          0.00002782247178581554,
          0.00008280435971885769,
          1.0082398049782171e-7,
          4.838965606142852e-8,
          0.0018830574928417887,
          1.3253545735393037e-12,
          0.000006604504149021473,
          0.0003685634510302016,
          9.486643967049346e-7,
          0.00022965111074266242,
          0.0009375560603782085,
          0.000009693546268674247,
          0.000015760487357074915,
          0.00005621804936761787,
          0.00014075931447832257,
          0.000012387993994167346,
          6.824544641105545e-7,
          2.9931334266652954e-7,
          0.00019444687433955998,
          0.000012534718082057167,
          0.000005483275207107674,
          0.0000010041432741969558,
          0.0007542326977258984,
          0.000003648192592969543,
          0.000004779902989082707,
          0.000017188472054896486,
          0.00000590649018328282,
          0.000027389963805690698,
          1.6203922648116986e-8,
          0.00008311751577838589,
          0.0000018150583964010591,
          0.000009364813103984737,
          1.2060165645419625e-7,
          0.00011382905576429181,
          1.8520461097897012e-11,
          0.000011422061113798565,
          0.0000031805425121378406,
          1.6330222012015056e-9,
          2.00783714207251e-9,
          0.00003617012209933268,
          0.00003495181142432191,
          1.6714155501806015e-9,
          0.0016083010925452834,
          0.00001123192777319204,
          3.9654001193767385e-9,
          0.000002745176758134349,
          8.669361452177428e-8,
          0.000006082783185812346,
          5.093126461686026e-7,
          8.518139892332854e-7,
          0.000011322155042181592,
          0.00001804006969619021,
          0.000009752408354633119,
          7.941796900971451e-7,
          0.0002649454533092399,
          3.733393108391013e-7,
          9.496137559541346e-8,
          2.080500103793237e-9,
          0.000004224589728818451,
          0.000022243393629994834,
          0.000008096553978487186,
          3.827592687244419e-10,
          0.000003311930261170812,
          0.00009118740103603376,
          2.5078707923103377e-7,
          1.4731966406326957e-11,
          0.000009355083838924472,
          0.0017233803556740979,
          2.2292945267565756e-11,
          4.375167905745769e-8,
          9.435109287192489e-7,
          0.0000013871235637896717,
          0.000026947667185528434,
          2.064562032444428e-8,
          1.3719382296883964e-9,
          8.5351660418162e-11,
          0.000006803495466986553,
          0.00021669696911463115,
          3.2396490629027497e-9,
          0.0000054378257527687435,
          0.00010988595920025102,
          0.0009660444293025927,
          0.000016475544465124198,
          3.0329190493696284e-12,
          0.00001297184642778948,
          3.2303884034412533e-7,
          0.000002676154376213269,
          1.1006973110738727e-11,
          9.657636468318742e-9,
          3.0219618918359004e-8,
          0.000010630979426995424,
          0.000005123200871204325,
          0.000012980327205092124,
          0.00002202966744213608,
          2.234727050076657e-7,
          0.0001472691832192785,
          6.661091322968105e-8,
          0.0000025320559616792693,
          0.00000478188079222619,
          0.0000026598355845619537,
          0.000021785584072037123,
          0.00011750126544881473,
          0.000023247614148624862,
          4.145897736229642e-9,
          0.00010539107400886483,
          0.0002877751086706182,
          0.000011833083667790734,
          0.000030002359441727577,
          0.0002172485781319622,
          0.000004071595279001028,
          0.00007161016159085154,
          8.595184008974854e-9,
          0.000015645904564043356,
          0.000003402382535044879,
          0.0004256183462314489,
          9.076843404676183e-8,
          2.5096968336857373e-8,
          0.0002916982775111876,
          8.545010921068297e-9,
          0.000001131489380301609,
          1.0249827533628146e-11,
          8.867475198570673e-9,
          0.00000747180948169196,
          0.0004681637671995059,
          1.1369466479393964e-9,
          0.0024008960287634773,
          5.78601055956085e-10,
          0.00015798063204446045,
          0.0000010884555018408903,
          1.149791070606792e-7,
          0.00003023235572130467,
          0.000007444438409720533,
          8.893478221083662e-7,
          1.8343815355592596e-9,
          1.8844374845283784e-12,
          0.00016396636864179914,
          0.00002861352106364734,
          0.000014431571413009436,
          0.00047612001212626875,
          1.4167556017241623e-11,
          0.000001469127174302809,
          0.0000047995235975539785,
          2.6070116720955383e-7,
          0.00016203032606121326,
          0.0006419307658627194,
          0.00009354837548036787,
          0.000020321384406885024,
          4.163336342344337e-17,
          0.00007142650399993844,
          0.000003051561944675263,
          8.553392848442698e-7,
          0.0000028509838725983977,
          0.000031134362763030055,
          8.071461529810149e-8,
          0.000001712304386281005,
          0.0000058640329972936556,
          2.5235744771645585e-8,
          0.0000035480068633075845,
          0.0002772518564695403,
          0.000040938894117714675,
          0.0000020317988329576764,
          4.6178738513213274e-11,
          0.00026698560064530863,
          0.0010135389454855037,
          0.000002308331172262701,
          0.0007270324444422771,
          1.345708392497258e-7,
          2.5210492582417032e-8,
          0.0009163740878880278,
          9.259672867356628e-8,
          0.004929619612548675,
          0.00014750893129600318,
          0.000023967765465177093,
          1.739310229176283e-8,
          0.000033845814772059946,
          0.000007801824417508207,
          0.000007386911234918969,
          0.00004505115968422846,
          0.00018857396540412907,
          0.0009193357593773044,
          0.00001126417400232338,
          0.00019036620320916908,
          3.109370243980711e-7,
          0.000003355234999478235,
          0.000004889293033119579,
          8.91337127995051e-8,
          0.000005186743642693337,
          1.1102230246251565e-16,
          3.6860909782832074e-7,
          0.00000310853860219229,
          1.71615363170341e-8,
          0.00030253956437188353,
          0.001512322881275896,
          0.00003529671839135051,
          0.00007464271590618132,
          0.00036020644173084815,
          5.808895422662608e-7,
          3.624415112167545e-7,
          6.577676847641101e-9,
          0.00008636822888041795,
          5.161617114995444e-7,
          0.00010730592998553501,
          0.00025342649752713164,
          0.0013665921151245763,
          0.000040285597414646546,
          4.9871197367080955e-8,
          0.0002163378553480949,
          0.000007059785033569632,
          4.7370426049363895e-7,
          1.9291970465573627e-8,
          0.000004500946759411484,
          2.4986891096760895e-7,
          0.00029165586020329926,
          0.00001769077437308031,
          0.000016146825613794213,
          0.003733197656872078,
          0.000002840481242993853,
          7.875415630742566e-8,
          0.0000025018558661438206,
          0.00014790416363960612,
          1.1102230246251565e-16,
          1.4990494567879153e-8,
          0.0008254390748454465,
          0.0020533417601765747,
          3.58482779239111e-7
         ],
         "y0": " ",
         "yaxis": "y"
        },
        {
         "alignmentgroup": "True",
         "customdata": [
          [
           "101",
           "2020-12-15",
           53,
           "Male",
           173
          ],
          [
           "102",
           "2022-01-26",
           44,
           "Male",
           176
          ],
          [
           "103",
           "2021-05-11",
           39,
           "Female",
           161
          ],
          [
           "104",
           "2023-05-06",
           25,
           "Female",
           143
          ],
          [
           "106",
           "2020-02-08",
           27,
           "Female",
           154
          ],
          [
           "107",
           "2019-07-19",
           26,
           "Female",
           167
          ],
          [
           "108",
           "2020-12-06",
           29,
           "Male",
           170
          ],
          [
           "109",
           "2022-01-31",
           28,
           "Female",
           170
          ],
          [
           "110",
           "2020-05-26",
           21,
           "Female",
           149
          ],
          [
           "111",
           "2022-05-14",
           37,
           "Female",
           167
          ],
          [
           "112",
           "2020-10-23",
           32,
           "Male",
           193
          ],
          [
           "113",
           "2023-03-06",
           25,
           "Male",
           165.5
          ],
          [
           "114",
           "2019-06-08",
           33,
           "Female",
           163
          ],
          [
           "115",
           "2019-03-26",
           28,
           "Male",
           172
          ],
          [
           "116",
           "2023-02-05",
           52,
           "Female",
           164
          ],
          [
           "117",
           "2020-08-31",
           31,
           "Female",
           162
          ],
          [
           "118",
           "2019-07-26",
           29,
           "Female",
           152
          ],
          [
           "119",
           "2020-01-25",
           34,
           "Female",
           160
          ],
          [
           "120",
           "2021-09-27",
           30,
           "Male",
           182
          ],
          [
           "121",
           "2020-10-11",
           24,
           "Female",
           159
          ],
          [
           "122",
           "2021-12-28",
           37,
           "Male",
           171
          ],
          [
           "123",
           "2021-12-29",
           19,
           "Male",
           175
          ],
          [
           "124",
           "2019-09-04",
           20,
           "Female",
           163
          ],
          [
           "125",
           "2020-12-05",
           25,
           "Female",
           165
          ],
          [
           "126",
           "2019-10-11",
           20,
           "Male",
           172
          ],
          [
           "127",
           "2019-10-10",
           37,
           "Male",
           177
          ],
          [
           "128",
           "2019-08-09",
           18,
           "Male",
           181
          ],
          [
           "130",
           "2020-05-16",
           24,
           "Female",
           167
          ],
          [
           "131",
           "2019-09-16",
           27,
           "Female",
           157
          ],
          [
           "132",
           "2019-09-17",
           38,
           "Male",
           176
          ],
          [
           "133",
           "2022-01-22",
           35,
           "Female",
           160
          ],
          [
           "134",
           "2020-02-10",
           31,
           "Male",
           179
          ],
          [
           "135",
           "2019-12-08",
           20,
           "Male",
           187
          ],
          [
           "138",
           "2020-07-14",
           22,
           "Female",
           148
          ],
          [
           "139",
           "2020-08-31",
           28,
           "Female",
           148
          ],
          [
           "140",
           "2019-10-28",
           29,
           "Male",
           169
          ],
          [
           "141",
           "2022-06-28",
           19,
           "Female",
           167
          ],
          [
           "142",
           "2019-10-22",
           32,
           "Female",
           148
          ],
          [
           "143",
           "2020-01-14",
           25,
           "Female",
           156
          ],
          [
           "144",
           "2020-11-06",
           25,
           "Male",
           156
          ],
          [
           "145",
           "2019-10-12",
           41,
           "Male",
           180
          ],
          [
           "146",
           "2020-06-18",
           36,
           "Male",
           158
          ],
          [
           "147",
           "2020-06-10",
           28,
           "Female",
           166
          ],
          [
           "148",
           "2020-12-29",
           28,
           "Female",
           169
          ],
          [
           "149",
           "2021-01-18",
           43,
           "Female",
           171
          ],
          [
           "150",
           "2020-02-08",
           21,
           "Male",
           174
          ],
          [
           "151",
           "2020-10-10",
           18,
           "Male",
           171.5
          ],
          [
           "152",
           "2019-11-13",
           24,
           "Female",
           162
          ],
          [
           "153",
           "2022-01-01",
           22,
           "Male",
           172
          ],
          [
           "155",
           "2019-11-25",
           34,
           "Male",
           174
          ],
          [
           "156",
           "2020-09-14",
           24,
           "Male",
           181
          ],
          [
           "158",
           "2021-03-27",
           35,
           "Female",
           151
          ],
          [
           "159",
           "2020-03-23",
           25,
           "Male",
           175.5
          ],
          [
           "162",
           "2020-08-12",
           32,
           "Female",
           160
          ],
          [
           "163",
           "2022-08-10",
           29,
           "Female",
           157
          ],
          [
           "164",
           "2020-06-25",
           38,
           "Female",
           164
          ],
          [
           "165",
           "2020-09-16",
           22,
           "Female",
           157
          ],
          [
           "166",
           "2019-12-14",
           35,
           "Male",
           180
          ],
          [
           "169",
           "2020-08-23",
           20,
           "Female",
           163
          ],
          [
           "170",
           "2022-09-25",
           23,
           "Male",
           175
          ],
          [
           "171",
           "2020-07-28",
           38,
           "Male",
           168
          ],
          [
           "172",
           "2022-05-31",
           31,
           "Male",
           167
          ],
          [
           "173",
           "2020-03-14",
           25,
           "Female",
           167
          ],
          [
           "174",
           "2020-10-14",
           28,
           "Female",
           159
          ],
          [
           "176",
           "2021-05-06",
           34,
           "Male",
           165
          ],
          [
           "177",
           "2021-03-29",
           24,
           "Female",
           155
          ],
          [
           "178",
           "2020-01-06",
           19,
           "Male",
           178
          ],
          [
           "179",
           "2020-01-24",
           25,
           "Female",
           161
          ],
          [
           "180",
           "2021-01-07",
           37,
           "Female",
           157
          ],
          [
           "182",
           "2022-12-13",
           42,
           "Female",
           159
          ],
          [
           "184",
           "2020-08-14",
           43,
           "Male",
           184
          ],
          [
           "185",
           "2020-03-30",
           18,
           "Male",
           186
          ],
          [
           "186",
           "2020-04-09",
           30,
           "Female",
           166
          ],
          [
           "187",
           "2020-12-19",
           28,
           "Female",
           167
          ],
          [
           "188",
           "2020-02-19",
           21,
           "Female",
           150
          ],
          [
           "190",
           "2020-02-18",
           25,
           "Male",
           181
          ],
          [
           "191",
           "2022-05-20",
           31,
           "Male",
           175
          ],
          [
           "192",
           "2020-04-07",
           20,
           "Female",
           158
          ],
          [
           "193",
           "2020-06-21",
           28,
           "Female",
           166
          ],
          [
           "194",
           "2020-10-15",
           24,
           "Female",
           150
          ],
          [
           "196",
           "2020-02-28",
           22,
           "Female",
           165
          ],
          [
           "197",
           "2022-07-17",
           36,
           "Female",
           171
          ],
          [
           "198",
           "2023-01-16",
           36,
           "Female",
           151
          ],
          [
           "199",
           "2020-12-05",
           34,
           "Male",
           179
          ],
          [
           "201",
           "2021-02-20",
           53,
           "Female",
           173
          ],
          [
           "203",
           "2023-03-29",
           38,
           "Female",
           164
          ],
          [
           "204",
           "2022-01-05",
           46,
           "Female",
           163
          ],
          [
           "205",
           "2022-07-29",
           25,
           "Female",
           160
          ],
          [
           "209",
           "2021-09-20",
           34,
           "Male",
           191
          ],
          [
           "210",
           "2020-11-06",
           29,
           "Female",
           163
          ],
          [
           "215",
           "2021-07-14",
           42,
           "Female",
           173
          ],
          [
           "220",
           "2023-01-07",
           41,
           "Female",
           166
          ],
          [
           "221",
           "2022-05-30",
           23,
           "Female",
           162
          ],
          [
           "223",
           "2023-01-03",
           31,
           "Female",
           154
          ],
          [
           "224",
           "2023-04-28",
           46,
           "Male",
           174
          ],
          [
           "229",
           "2021-03-31",
           52,
           "Female",
           159
          ],
          [
           "230",
           "2021-06-01",
           19,
           "Female",
           152
          ],
          [
           "231",
           "2022-04-14",
           52,
           "Female",
           164
          ],
          [
           "232",
           "2020-10-10",
           20,
           "Male",
           163
          ],
          [
           "233",
           "2020-12-22",
           37,
           "Female",
           170.5
          ],
          [
           "237",
           "2021-04-22",
           25,
           "Male",
           159
          ],
          [
           "238",
           "2022-09-13",
           59,
           "Female",
           165
          ],
          [
           "239",
           "2020-09-01",
           30,
           "Female",
           157
          ],
          [
           "240",
           "2022-07-28",
           48,
           "Male",
           158
          ],
          [
           "242",
           "2021-08-27",
           39,
           "Female",
           165
          ],
          [
           "243",
           "2020-12-01",
           22,
           "Female",
           164
          ],
          [
           "244",
           "2022-09-15",
           35,
           "Female",
           160
          ],
          [
           "245",
           "2021-08-10",
           23,
           "Male",
           171
          ],
          [
           "249",
           "2021-03-09",
           33,
           "Male",
           173
          ],
          [
           "250",
           "2023-08-31",
           37,
           "Male",
           169
          ],
          [
           "251",
           "2021-01-25",
           23,
           "Male",
           172
          ],
          [
           "252",
           "2020-10-05",
           32,
           "Male",
           167
          ],
          [
           "253",
           "2021-05-31",
           23,
           "Female",
           160
          ],
          [
           "254",
           "2021-06-03",
           28,
           "Male",
           179
          ],
          [
           "255",
           "2021-03-30",
           21,
           "Female",
           170
          ],
          [
           "256",
           "2021-01-16",
           27,
           "Female",
           177
          ],
          [
           "257",
           "2021-12-06",
           47,
           "Male",
           176
          ],
          [
           "258",
           "2021-02-25",
           45,
           "Female",
           153
          ],
          [
           "261",
           "2021-01-11",
           34,
           "Female",
           157
          ],
          [
           "262",
           "2021-10-29",
           29,
           "Female",
           166.5
          ],
          [
           "263",
           "2020-09-24",
           32,
           "Female",
           159
          ],
          [
           "264",
           "2020-12-02",
           41,
           "Female",
           153
          ],
          [
           "265",
           "2021-07-12",
           24,
           "Female",
           158
          ],
          [
           "266",
           "2021-02-18",
           26,
           "Male",
           183
          ],
          [
           "270",
           "2022-03-16",
           41,
           "Female",
           166
          ],
          [
           "271",
           "2021-07-05",
           38,
           "Female",
           159
          ],
          [
           "272",
           "2023-05-02",
           57,
           "Female",
           165
          ],
          [
           "273",
           "2021-02-16",
           33,
           "Female",
           165
          ],
          [
           "274",
           "2020-12-31",
           27,
           "Male",
           172
          ],
          [
           "275",
           "2020-10-02",
           32,
           "Male",
           181
          ],
          [
           "276",
           "2021-01-26",
           25,
           "Male",
           172
          ],
          [
           "278",
           "2021-08-14",
           39,
           "Male",
           160
          ],
          [
           "279",
           "2022-07-22",
           34,
           "Male",
           178
          ],
          [
           "280",
           "2021-06-08",
           25,
           "Male",
           163
          ],
          [
           "281",
           "2022-12-05",
           39,
           "Male",
           171
          ],
          [
           "282",
           "2021-04-25",
           32,
           "Male",
           173
          ],
          [
           "283",
           "2021-04-11",
           36,
           "Female",
           162
          ],
          [
           "284",
           "2021-06-07",
           24,
           "Male",
           174
          ],
          [
           "287",
           "2020-12-05",
           28,
           "Female",
           152
          ],
          [
           "289",
           "2022-01-24",
           39,
           "Male",
           171
          ],
          [
           "290",
           "2023-09-02",
           35,
           "Male",
           174
          ],
          [
           "291",
           "2023-07-09",
           30,
           "Male",
           177
          ],
          [
           "292",
           "2022-01-08",
           27,
           "Female",
           163
          ],
          [
           "293",
           "2021-01-08",
           29,
           "Female",
           166
          ],
          [
           "294",
           "2021-01-08",
           31,
           "Female",
           160
          ],
          [
           "295",
           "2022-01-19",
           57,
           "Female",
           169
          ],
          [
           "296",
           "2021-05-24",
           29,
           "Male",
           168
          ],
          [
           "297",
           "2021-11-08",
           26,
           "Male",
           174
          ],
          [
           "298",
           "2021-07-14",
           32,
           "Female",
           161
          ],
          [
           "299",
           "2021-04-05",
           28,
           "Female",
           166
          ],
          [
           "300",
           "2021-05-05",
           22,
           "Female",
           170
          ],
          [
           "301",
           "2020-12-04",
           32,
           "Female",
           158
          ],
          [
           "302",
           "2021-01-24",
           27,
           "Male",
           180
          ],
          [
           "303",
           "2021-01-22",
           34,
           "Male",
           177
          ],
          [
           "306",
           "2021-01-17",
           22,
           "Male",
           167
          ],
          [
           "307",
           "2021-03-21",
           27,
           "Female",
           154
          ],
          [
           "309",
           "2021-01-21",
           37,
           "Female",
           166
          ],
          [
           "310",
           "2021-03-02",
           28,
           "Female",
           151
          ],
          [
           "311",
           "2021-02-17",
           41,
           "Male",
           170
          ],
          [
           "312",
           "2021-10-05",
           33,
           "Male",
           174
          ],
          [
           "314",
           "2021-04-17",
           30,
           "Female",
           162
          ],
          [
           "315",
           "2021-07-30",
           44,
           "Male",
           165
          ],
          [
           "317",
           "2021-04-13",
           42,
           "Male",
           160
          ],
          [
           "319",
           "2023-09-04",
           54,
           "Male",
           170
          ],
          [
           "325",
           "2020-12-21",
           32,
           "Female",
           162
          ],
          [
           "331",
           "2022-06-24",
           54,
           "Female",
           157
          ],
          [
           "334",
           "2022-10-04",
           32,
           "Female",
           159
          ],
          [
           "336",
           "2022-05-13",
           55,
           "Male",
           186
          ],
          [
           "339",
           "2023-06-13",
           60,
           "Female",
           155
          ],
          [
           "342",
           "2021-04-08",
           44,
           "Male",
           165
          ],
          [
           "343",
           "2022-02-17",
           18,
           "Female",
           161.5
          ],
          [
           "351",
           "2021-07-03",
           20,
           "Male",
           171
          ],
          [
           "352",
           "2023-07-05",
           54,
           "Female",
           159
          ],
          [
           "353",
           "2021-09-16",
           38,
           "Male",
           177
          ],
          [
           "362",
           "2022-11-15",
           49,
           "Female",
           160
          ],
          [
           "363",
           "2023-03-06",
           67,
           "Male",
           182
          ],
          [
           "365",
           "2023-04-29",
           32,
           "Male",
           169
          ],
          [
           "371",
           "2023-05-23",
           47,
           "Female",
           165
          ],
          [
           "372",
           "2021-06-28",
           18,
           "Female",
           165
          ],
          [
           "377",
           "2022-09-07",
           61,
           "Male",
           176
          ],
          [
           "380",
           "2022-09-08",
           34,
           "Male",
           165.5
          ],
          [
           "381",
           "2022-12-05",
           18,
           "Male",
           161.5
          ],
          [
           "383",
           "2022-10-03",
           27,
           "Female",
           159
          ],
          [
           "387",
           "2022-09-09",
           35,
           "Male",
           175
          ],
          [
           "389",
           "2022-03-01",
           18,
           "Female",
           160
          ],
          [
           "394",
           "2021-08-14",
           43,
           "Female",
           153
          ],
          [
           "395",
           "2022-07-26",
           22,
           "Male",
           170
          ],
          [
           "401",
           "2022-05-04",
           25,
           "Male",
           178
          ],
          [
           "403",
           "2022-05-27",
           37,
           "Female",
           159
          ],
          [
           "404",
           "2023-03-14",
           25,
           "Female",
           155
          ],
          [
           "405",
           "2022-11-28",
           39,
           "Male",
           179
          ],
          [
           "406",
           "2021-11-21",
           47,
           "Male",
           193
          ],
          [
           "407",
           "2021-01-17",
           28,
           "Female",
           165
          ],
          [
           "408",
           "2022-02-07",
           51,
           "Female",
           168
          ],
          [
           "409",
           "2021-05-27",
           35,
           "Male",
           177
          ],
          [
           "412",
           "2021-05-21",
           40,
           "Female",
           155
          ],
          [
           "413",
           "2021-09-01",
           55,
           "Female",
           168
          ],
          [
           "415",
           "2021-01-05",
           27,
           "Female",
           156
          ],
          [
           "416",
           "2023-02-06",
           30,
           "Female",
           173
          ],
          [
           "417",
           "2021-08-01",
           47,
           "Female",
           165
          ],
          [
           "420",
           "2022-11-18",
           51,
           "Male",
           178
          ],
          [
           "421",
           "2022-03-08",
           29,
           "Male",
           170
          ],
          [
           "422",
           "2022-01-31",
           58,
           "Male",
           178
          ],
          [
           "424",
           "2022-11-26",
           53,
           "Male",
           163
          ],
          [
           "425",
           "2022-02-01",
           25,
           "Female",
           167
          ],
          [
           "426",
           "2022-09-04",
           32,
           "Male",
           178
          ],
          [
           "427",
           "2022-07-08",
           33,
           "Female",
           160
          ],
          [
           "430",
           "2023-11-03",
           52,
           "Female",
           154
          ],
          [
           "431",
           "2023-01-30",
           55,
           "Male",
           185
          ],
          [
           "432",
           "2022-09-28",
           28,
           "Male",
           171
          ],
          [
           "433",
           "2023-03-14",
           65,
           "Female",
           156
          ],
          [
           "434",
           "2022-09-08",
           44,
           "Female",
           165
          ],
          [
           "439",
           "2022-09-08",
           40,
           "Male",
           176
          ],
          [
           "442",
           "2022-12-02",
           43,
           "Female",
           166
          ],
          [
           "447",
           "2023-04-20",
           44,
           "Male",
           180
          ],
          [
           "453",
           "2023-01-16",
           37,
           "Female",
           162
          ],
          [
           "455",
           "2023-03-02",
           45,
           "Male",
           175
          ],
          [
           "464",
           "2023-06-07",
           57,
           "Female",
           161
          ],
          [
           "469",
           "2023-07-12",
           25,
           "Male",
           179
          ],
          [
           "480",
           "2021-12-24",
           37,
           "Male",
           179
          ],
          [
           "481",
           "2022-06-20",
           39,
           "Male",
           178.5
          ],
          [
           "482",
           "2022-02-03",
           19,
           "Male",
           179
          ],
          [
           "483",
           "2022-02-03",
           32,
           "Male",
           181
          ],
          [
           "484",
           "2022-08-18",
           35,
           "Male",
           174
          ],
          [
           "485",
           "2022-03-09",
           22,
           "Male",
           181
          ],
          [
           "486",
           "2022-02-17",
           26,
           "Female",
           153
          ],
          [
           "488",
           "2022-08-12",
           57,
           "Female",
           172
          ],
          [
           "490",
           "2022-06-01",
           24,
           "Male",
           173.5
          ],
          [
           "491",
           "2022-03-21",
           34,
           "Female",
           169
          ],
          [
           "492",
           "2022-03-08",
           20,
           "Female",
           164
          ],
          [
           "493",
           "2023-09-10",
           49,
           "Male",
           179
          ],
          [
           "494",
           "2023-05-01",
           46,
           "Female",
           157
          ],
          [
           "495",
           "2022-03-12",
           28,
           "Male",
           163
          ],
          [
           "500",
           "2022-07-25",
           49,
           "Female",
           167
          ],
          [
           "502",
           "2022-09-30",
           58,
           "Male",
           177
          ],
          [
           "504",
           "2022-05-13",
           42,
           "Male",
           166
          ],
          [
           "506",
           "2023-07-14",
           22,
           "Female",
           170
          ],
          [
           "508",
           "2022-11-16",
           43,
           "Male",
           177
          ],
          [
           "509",
           "2023-06-08",
           58,
           "Male",
           172.7
          ],
          [
           "511",
           "2022-11-08",
           42,
           "Female",
           152.5
          ],
          [
           "512",
           "2022-06-05",
           19,
           "Female",
           160
          ],
          [
           "514",
           "2022-08-24",
           53,
           "Female",
           166.5
          ],
          [
           "515",
           "2022-08-16",
           54,
           "Female",
           159.5
          ],
          [
           "520",
           "2023-01-18",
           38,
           "Female",
           159
          ],
          [
           "523",
           "2022-07-19",
           22,
           "Female",
           166
          ],
          [
           "525",
           "2022-07-19",
           34,
           "Female",
           180.3
          ],
          [
           "529",
           "2022-06-13",
           33,
           "Male",
           159.5
          ],
          [
           "530",
           "2023-03-23",
           18,
           "Male",
           170.6
          ],
          [
           "532",
           "2023-01-07",
           26,
           "Female",
           173
          ],
          [
           "535",
           "2022-06-13",
           27,
           "Female",
           161.5
          ],
          [
           "537",
           "2022-08-31",
           38,
           "Male",
           171
          ],
          [
           "541",
           "2022-07-13",
           31,
           "Male",
           186.7
          ],
          [
           "544",
           "2022-10-05",
           30,
           "Male",
           184.6
          ],
          [
           "549",
           "2022-11-07",
           27,
           "Female",
           163
          ],
          [
           "550",
           "2022-12-12",
           59,
           "Male",
           170
          ],
          [
           "551",
           "2023-01-14",
           32,
           "Female",
           155
          ]
         ],
         "hovertemplate": "N days model=%{x}<br>Max absolute difference for HO2Sat=%{y}<br>ID=%{customdata[0]}<br>Day 1=%{customdata[1]}<br>Age=%{customdata[2]}<br>Sex=%{customdata[3]}<br>Height=%{customdata[4]}<extra></extra>",
         "legendgroup": "4 days (max FEV1)",
         "marker": {
          "color": "#ab63fa"
         },
         "name": "4 days (max FEV1)",
         "notched": false,
         "offsetgroup": "4 days (max FEV1)",
         "orientation": "v",
         "showlegend": true,
         "type": "box",
         "x": [
          "4 days (max FEV1)",
          "4 days (max FEV1)",
          "4 days (max FEV1)",
          "4 days (max FEV1)",
          "4 days (max FEV1)",
          "4 days (max FEV1)",
          "4 days (max FEV1)",
          "4 days (max FEV1)",
          "4 days (max FEV1)",
          "4 days (max FEV1)",
          "4 days (max FEV1)",
          "4 days (max FEV1)",
          "4 days (max FEV1)",
          "4 days (max FEV1)",
          "4 days (max FEV1)",
          "4 days (max FEV1)",
          "4 days (max FEV1)",
          "4 days (max FEV1)",
          "4 days (max FEV1)",
          "4 days (max FEV1)",
          "4 days (max FEV1)",
          "4 days (max FEV1)",
          "4 days (max FEV1)",
          "4 days (max FEV1)",
          "4 days (max FEV1)",
          "4 days (max FEV1)",
          "4 days (max FEV1)",
          "4 days (max FEV1)",
          "4 days (max FEV1)",
          "4 days (max FEV1)",
          "4 days (max FEV1)",
          "4 days (max FEV1)",
          "4 days (max FEV1)",
          "4 days (max FEV1)",
          "4 days (max FEV1)",
          "4 days (max FEV1)",
          "4 days (max FEV1)",
          "4 days (max FEV1)",
          "4 days (max FEV1)",
          "4 days (max FEV1)",
          "4 days (max FEV1)",
          "4 days (max FEV1)",
          "4 days (max FEV1)",
          "4 days (max FEV1)",
          "4 days (max FEV1)",
          "4 days (max FEV1)",
          "4 days (max FEV1)",
          "4 days (max FEV1)",
          "4 days (max FEV1)",
          "4 days (max FEV1)",
          "4 days (max FEV1)",
          "4 days (max FEV1)",
          "4 days (max FEV1)",
          "4 days (max FEV1)",
          "4 days (max FEV1)",
          "4 days (max FEV1)",
          "4 days (max FEV1)",
          "4 days (max FEV1)",
          "4 days (max FEV1)",
          "4 days (max FEV1)",
          "4 days (max FEV1)",
          "4 days (max FEV1)",
          "4 days (max FEV1)",
          "4 days (max FEV1)",
          "4 days (max FEV1)",
          "4 days (max FEV1)",
          "4 days (max FEV1)",
          "4 days (max FEV1)",
          "4 days (max FEV1)",
          "4 days (max FEV1)",
          "4 days (max FEV1)",
          "4 days (max FEV1)",
          "4 days (max FEV1)",
          "4 days (max FEV1)",
          "4 days (max FEV1)",
          "4 days (max FEV1)",
          "4 days (max FEV1)",
          "4 days (max FEV1)",
          "4 days (max FEV1)",
          "4 days (max FEV1)",
          "4 days (max FEV1)",
          "4 days (max FEV1)",
          "4 days (max FEV1)",
          "4 days (max FEV1)",
          "4 days (max FEV1)",
          "4 days (max FEV1)",
          "4 days (max FEV1)",
          "4 days (max FEV1)",
          "4 days (max FEV1)",
          "4 days (max FEV1)",
          "4 days (max FEV1)",
          "4 days (max FEV1)",
          "4 days (max FEV1)",
          "4 days (max FEV1)",
          "4 days (max FEV1)",
          "4 days (max FEV1)",
          "4 days (max FEV1)",
          "4 days (max FEV1)",
          "4 days (max FEV1)",
          "4 days (max FEV1)",
          "4 days (max FEV1)",
          "4 days (max FEV1)",
          "4 days (max FEV1)",
          "4 days (max FEV1)",
          "4 days (max FEV1)",
          "4 days (max FEV1)",
          "4 days (max FEV1)",
          "4 days (max FEV1)",
          "4 days (max FEV1)",
          "4 days (max FEV1)",
          "4 days (max FEV1)",
          "4 days (max FEV1)",
          "4 days (max FEV1)",
          "4 days (max FEV1)",
          "4 days (max FEV1)",
          "4 days (max FEV1)",
          "4 days (max FEV1)",
          "4 days (max FEV1)",
          "4 days (max FEV1)",
          "4 days (max FEV1)",
          "4 days (max FEV1)",
          "4 days (max FEV1)",
          "4 days (max FEV1)",
          "4 days (max FEV1)",
          "4 days (max FEV1)",
          "4 days (max FEV1)",
          "4 days (max FEV1)",
          "4 days (max FEV1)",
          "4 days (max FEV1)",
          "4 days (max FEV1)",
          "4 days (max FEV1)",
          "4 days (max FEV1)",
          "4 days (max FEV1)",
          "4 days (max FEV1)",
          "4 days (max FEV1)",
          "4 days (max FEV1)",
          "4 days (max FEV1)",
          "4 days (max FEV1)",
          "4 days (max FEV1)",
          "4 days (max FEV1)",
          "4 days (max FEV1)",
          "4 days (max FEV1)",
          "4 days (max FEV1)",
          "4 days (max FEV1)",
          "4 days (max FEV1)",
          "4 days (max FEV1)",
          "4 days (max FEV1)",
          "4 days (max FEV1)",
          "4 days (max FEV1)",
          "4 days (max FEV1)",
          "4 days (max FEV1)",
          "4 days (max FEV1)",
          "4 days (max FEV1)",
          "4 days (max FEV1)",
          "4 days (max FEV1)",
          "4 days (max FEV1)",
          "4 days (max FEV1)",
          "4 days (max FEV1)",
          "4 days (max FEV1)",
          "4 days (max FEV1)",
          "4 days (max FEV1)",
          "4 days (max FEV1)",
          "4 days (max FEV1)",
          "4 days (max FEV1)",
          "4 days (max FEV1)",
          "4 days (max FEV1)",
          "4 days (max FEV1)",
          "4 days (max FEV1)",
          "4 days (max FEV1)",
          "4 days (max FEV1)",
          "4 days (max FEV1)",
          "4 days (max FEV1)",
          "4 days (max FEV1)",
          "4 days (max FEV1)",
          "4 days (max FEV1)",
          "4 days (max FEV1)",
          "4 days (max FEV1)",
          "4 days (max FEV1)",
          "4 days (max FEV1)",
          "4 days (max FEV1)",
          "4 days (max FEV1)",
          "4 days (max FEV1)",
          "4 days (max FEV1)",
          "4 days (max FEV1)",
          "4 days (max FEV1)",
          "4 days (max FEV1)",
          "4 days (max FEV1)",
          "4 days (max FEV1)",
          "4 days (max FEV1)",
          "4 days (max FEV1)",
          "4 days (max FEV1)",
          "4 days (max FEV1)",
          "4 days (max FEV1)",
          "4 days (max FEV1)",
          "4 days (max FEV1)",
          "4 days (max FEV1)",
          "4 days (max FEV1)",
          "4 days (max FEV1)",
          "4 days (max FEV1)",
          "4 days (max FEV1)",
          "4 days (max FEV1)",
          "4 days (max FEV1)",
          "4 days (max FEV1)",
          "4 days (max FEV1)",
          "4 days (max FEV1)",
          "4 days (max FEV1)",
          "4 days (max FEV1)",
          "4 days (max FEV1)",
          "4 days (max FEV1)",
          "4 days (max FEV1)",
          "4 days (max FEV1)",
          "4 days (max FEV1)",
          "4 days (max FEV1)",
          "4 days (max FEV1)",
          "4 days (max FEV1)",
          "4 days (max FEV1)",
          "4 days (max FEV1)",
          "4 days (max FEV1)",
          "4 days (max FEV1)",
          "4 days (max FEV1)",
          "4 days (max FEV1)",
          "4 days (max FEV1)",
          "4 days (max FEV1)",
          "4 days (max FEV1)",
          "4 days (max FEV1)",
          "4 days (max FEV1)",
          "4 days (max FEV1)",
          "4 days (max FEV1)",
          "4 days (max FEV1)",
          "4 days (max FEV1)",
          "4 days (max FEV1)",
          "4 days (max FEV1)",
          "4 days (max FEV1)",
          "4 days (max FEV1)",
          "4 days (max FEV1)",
          "4 days (max FEV1)",
          "4 days (max FEV1)",
          "4 days (max FEV1)",
          "4 days (max FEV1)",
          "4 days (max FEV1)",
          "4 days (max FEV1)",
          "4 days (max FEV1)",
          "4 days (max FEV1)",
          "4 days (max FEV1)",
          "4 days (max FEV1)",
          "4 days (max FEV1)",
          "4 days (max FEV1)",
          "4 days (max FEV1)",
          "4 days (max FEV1)",
          "4 days (max FEV1)",
          "4 days (max FEV1)",
          "4 days (max FEV1)",
          "4 days (max FEV1)",
          "4 days (max FEV1)",
          "4 days (max FEV1)",
          "4 days (max FEV1)"
         ],
         "x0": " ",
         "xaxis": "x",
         "y": [
          0.007986157925277099,
          0.0008668550637898065,
          0.0002550484176213619,
          3.873460197034717e-8,
          0.00029749274807555626,
          5.261442219683943e-7,
          0.0005378855011830552,
          6.552936141920006e-7,
          0.00009122015365770064,
          2.832956091936012e-12,
          0.00023782983720177509,
          1.3877787807814457e-16,
          0.00021015007800329055,
          0.00001517048062696369,
          2.3014375516439145e-8,
          3.8700199995046584e-9,
          0.000008795967394209687,
          0.00007949934496842559,
          1.1039116164365467e-7,
          5.365258807978751e-10,
          0.006862957829020189,
          0.000017549554791052024,
          1.1497355734135795e-7,
          7.286406816755695e-11,
          3.3306690738754696e-16,
          0.0005527045612550019,
          0.00003886613894932278,
          1.1123951759728357e-9,
          2.4175826641416944e-7,
          0.0009711097482141273,
          3.4911632442514203e-7,
          0.00022516980043472967,
          0.00046634457258235354,
          5.0847260510313973e-8,
          2.5327144827694118e-8,
          0.004660304169998297,
          1.548561279207661e-11,
          0.00000581042915215324,
          0.00017167543704399435,
          5.154713948463119e-7,
          0.0008292637627994037,
          0.003056247325491257,
          0.000005643447310021976,
          0.000008794829197245058,
          0.00003984315884781892,
          0.00023276984440812054,
          0.00005691631415882803,
          5.011752903716013e-7,
          2.1662764471130913e-8,
          0.0014016608989136925,
          0.000025755979404018525,
          0.000005334646115406905,
          0.000017140854034480846,
          0.0003973882792828176,
          0.0000023373909094569732,
          0.000002879990498340368,
          0.00002826248142751009,
          0.000012551691791706787,
          0.000012981019171857261,
          4.912388518185651e-8,
          0.00031292602145616133,
          0.0000050160367512097626,
          0.000005120571996752865,
          1.007861762936102e-7,
          0.0002675054721892056,
          3.352784716526003e-11,
          1.7166362775711264e-8,
          0.0008044607805978155,
          9.818246216042326e-11,
          1.263900390274889e-10,
          0.0001564768498347746,
          0.00017356335252263766,
          5.217864230979926e-9,
          0.0009014077612620186,
          2.1794746146226078e-7,
          2.402092750403151e-8,
          0.000009554254434052112,
          7.064784401933366e-8,
          1.998964267498765e-7,
          5.702733127151008e-7,
          6.445051217163211e-7,
          0.00000918398457922312,
          0.000020564672498224468,
          0.00003194772918457822,
          6.867794122597352e-7,
          0.0002134506364105393,
          3.884033780154894e-7,
          7.610144515187052e-8,
          3.830909034441277e-9,
          0.0000024815719443793682,
          0.00002709248500476491,
          0.00005545227504133443,
          1.8302803717062943e-11,
          0.0000026320566817172875,
          0.00017658720407787154,
          3.069158570751223e-7,
          1.8712045313836606e-11,
          0.000008353633750290967,
          0.004800689625122256,
          1.5342171977295038e-12,
          2.909220645497257e-7,
          5.683641579601328e-7,
          5.6984543667540724e-8,
          0.0000011557634700398722,
          2.7529439616813534e-8,
          4.230912176161894e-9,
          1.5462477262126462e-10,
          0.0000064915595059389375,
          0.000727030313889418,
          1.578149200209822e-8,
          0.00001675706774607877,
          0.00032222635487277884,
          0.001135326590289032,
          0.00003527871843587299,
          6.522149487153683e-11,
          0.000010321351267117591,
          6.666567675672752e-7,
          0.0000012453204699413613,
          7.953911398819495e-13,
          6.173931887379271e-10,
          2.1842795905335777e-8,
          0.000010106020528422022,
          0.0000030375994207968576,
          0.000029901919742503225,
          5.17564973934195e-7,
          2.2178367498071339e-7,
          0.00011249281931824395,
          8.706569995520219e-8,
          0.000008492955145267267,
          0.000010272727411830829,
          0.0000020236196707212883,
          0.000012359862138766609,
          0.00041123857723986135,
          0.0002227675101673654,
          8.764939551930695e-9,
          0.00021996624819808908,
          0.00012646874948509142,
          0.00003345193747464337,
          0.000016388736514216795,
          0.0004846648453056823,
          0.000011504627104266807,
          0.0002600864392865443,
          2.2552915890177404e-8,
          0.000010294940995914104,
          0.000002038697910380742,
          0.0005638157557806833,
          0.0000028525351106756247,
          0.000032227780764768066,
          0.00013311968575724364,
          5.489640372596978e-10,
          0.000002100978148567023,
          7.37873008814548e-11,
          5.803020222683308e-8,
          0.000015524529570570822,
          0.0008261803590956518,
          6.506059085598524e-11,
          0.0033246067207411967,
          3.334589493420026e-9,
          0.0003233682525282666,
          0.000004181981656969924,
          9.158453404000972e-8,
          0.00005159730125048334,
          0.00001452823783987256,
          0.00002414899803404591,
          6.216877013187627e-9,
          4.9738323540122337e-14,
          0.00006785207772164181,
          0.00006328317943860018,
          0.00001852672836044622,
          0.0009016571335525025,
          1.1025780288775877e-10,
          0.0000059138885838416755,
          0.00000560831745433088,
          7.950539424594893e-7,
          0.0004251089517504081,
          0.001234038580438579,
          0.00034231312524146684,
          0.000028671057041851356,
          1.1102230246251565e-16,
          0.00006623406286021538,
          0.000010918212805188787,
          0.0000032062192493187425,
          0.0000016881451763324506,
          0.0005601742041030366,
          6.360067871956279e-8,
          7.089235782929259e-7,
          0.0001005734752429488,
          3.203326492950964e-12,
          0.0000018556355044105311,
          0.00015805284440584266,
          0.0002041314095788671,
          0.00000823722208720401,
          4.253699462095409e-12,
          0.000005712368935650858,
          0.0011985158347722624,
          0.00000469938046188112,
          0.0012356149872160271,
          1.2377287742887074e-7,
          7.516092870307745e-8,
          0.0012085879215119055,
          4.514506517921957e-8,
          0.004753700805938288,
          0.00025314671615939144,
          0.000025763416076296508,
          1.4476774701233097e-7,
          0.00012729646242004566,
          0.00000482507509469432,
          0.000008274112773598574,
          0.00008667181879029595,
          0.0007857542965912512,
          0.0009766032356325338,
          0.000006137986069520984,
          0.00009773833951254307,
          0.000009097544989566941,
          0.000011119048897091643,
          0.0000030160516911736934,
          9.794480813341e-7,
          0.000014339916300731836,
          1.1102230246251565e-16,
          0.000017702403353400675,
          0.000010766063273590087,
          3.9231474686929335e-8,
          0.0007137425709352677,
          0.0065452901543021635,
          0.00003881475592104611,
          0.00008112946842542268,
          0.00015258347920033,
          0.0000022270881934738362,
          1.0106596414632702e-8,
          4.2239287245573586e-10,
          0.00019033217720765272,
          2.867284025239022e-7,
          0.00019588209302734416,
          0.000159050089328594,
          0.004903755145889879,
          0.00012721952055336216,
          6.098374849550225e-8,
          0.0006647476807030567,
          0.000008943639935976577,
          5.218017210639574e-7,
          1.3380744589598648e-9,
          0.0000023261363272242264,
          1.641710441570082e-7,
          0.00036382595056883016,
          0.000007162465553260666,
          0.00012631303529342386,
          0.006342954322026362,
          0.000008226805993258313,
          4.067803822190193e-11,
          0.0000014249875691652036,
          0.0005325092850440027,
          2.220446049250313e-16,
          1.3694828465693476e-8,
          0.000975262750260053,
          0.006287881391962125,
          3.3778123376126956e-7
         ],
         "y0": " ",
         "yaxis": "y"
        }
       ],
       "layout": {
        "boxmode": "overlay",
        "height": 400,
        "legend": {
         "title": {
          "text": "N days model"
         },
         "tracegroupgap": 0
        },
        "showlegend": false,
        "template": {
         "data": {
          "bar": [
           {
            "error_x": {
             "color": "#2a3f5f"
            },
            "error_y": {
             "color": "#2a3f5f"
            },
            "marker": {
             "line": {
              "color": "#E5ECF6",
              "width": 0.5
             },
             "pattern": {
              "fillmode": "overlay",
              "size": 10,
              "solidity": 0.2
             }
            },
            "type": "bar"
           }
          ],
          "barpolar": [
           {
            "marker": {
             "line": {
              "color": "#E5ECF6",
              "width": 0.5
             },
             "pattern": {
              "fillmode": "overlay",
              "size": 10,
              "solidity": 0.2
             }
            },
            "type": "barpolar"
           }
          ],
          "carpet": [
           {
            "aaxis": {
             "endlinecolor": "#2a3f5f",
             "gridcolor": "white",
             "linecolor": "white",
             "minorgridcolor": "white",
             "startlinecolor": "#2a3f5f"
            },
            "baxis": {
             "endlinecolor": "#2a3f5f",
             "gridcolor": "white",
             "linecolor": "white",
             "minorgridcolor": "white",
             "startlinecolor": "#2a3f5f"
            },
            "type": "carpet"
           }
          ],
          "choropleth": [
           {
            "colorbar": {
             "outlinewidth": 0,
             "ticks": ""
            },
            "type": "choropleth"
           }
          ],
          "contour": [
           {
            "colorbar": {
             "outlinewidth": 0,
             "ticks": ""
            },
            "colorscale": [
             [
              0,
              "#0d0887"
             ],
             [
              0.1111111111111111,
              "#46039f"
             ],
             [
              0.2222222222222222,
              "#7201a8"
             ],
             [
              0.3333333333333333,
              "#9c179e"
             ],
             [
              0.4444444444444444,
              "#bd3786"
             ],
             [
              0.5555555555555556,
              "#d8576b"
             ],
             [
              0.6666666666666666,
              "#ed7953"
             ],
             [
              0.7777777777777778,
              "#fb9f3a"
             ],
             [
              0.8888888888888888,
              "#fdca26"
             ],
             [
              1,
              "#f0f921"
             ]
            ],
            "type": "contour"
           }
          ],
          "contourcarpet": [
           {
            "colorbar": {
             "outlinewidth": 0,
             "ticks": ""
            },
            "type": "contourcarpet"
           }
          ],
          "heatmap": [
           {
            "colorbar": {
             "outlinewidth": 0,
             "ticks": ""
            },
            "colorscale": [
             [
              0,
              "#0d0887"
             ],
             [
              0.1111111111111111,
              "#46039f"
             ],
             [
              0.2222222222222222,
              "#7201a8"
             ],
             [
              0.3333333333333333,
              "#9c179e"
             ],
             [
              0.4444444444444444,
              "#bd3786"
             ],
             [
              0.5555555555555556,
              "#d8576b"
             ],
             [
              0.6666666666666666,
              "#ed7953"
             ],
             [
              0.7777777777777778,
              "#fb9f3a"
             ],
             [
              0.8888888888888888,
              "#fdca26"
             ],
             [
              1,
              "#f0f921"
             ]
            ],
            "type": "heatmap"
           }
          ],
          "heatmapgl": [
           {
            "colorbar": {
             "outlinewidth": 0,
             "ticks": ""
            },
            "colorscale": [
             [
              0,
              "#0d0887"
             ],
             [
              0.1111111111111111,
              "#46039f"
             ],
             [
              0.2222222222222222,
              "#7201a8"
             ],
             [
              0.3333333333333333,
              "#9c179e"
             ],
             [
              0.4444444444444444,
              "#bd3786"
             ],
             [
              0.5555555555555556,
              "#d8576b"
             ],
             [
              0.6666666666666666,
              "#ed7953"
             ],
             [
              0.7777777777777778,
              "#fb9f3a"
             ],
             [
              0.8888888888888888,
              "#fdca26"
             ],
             [
              1,
              "#f0f921"
             ]
            ],
            "type": "heatmapgl"
           }
          ],
          "histogram": [
           {
            "marker": {
             "pattern": {
              "fillmode": "overlay",
              "size": 10,
              "solidity": 0.2
             }
            },
            "type": "histogram"
           }
          ],
          "histogram2d": [
           {
            "colorbar": {
             "outlinewidth": 0,
             "ticks": ""
            },
            "colorscale": [
             [
              0,
              "#0d0887"
             ],
             [
              0.1111111111111111,
              "#46039f"
             ],
             [
              0.2222222222222222,
              "#7201a8"
             ],
             [
              0.3333333333333333,
              "#9c179e"
             ],
             [
              0.4444444444444444,
              "#bd3786"
             ],
             [
              0.5555555555555556,
              "#d8576b"
             ],
             [
              0.6666666666666666,
              "#ed7953"
             ],
             [
              0.7777777777777778,
              "#fb9f3a"
             ],
             [
              0.8888888888888888,
              "#fdca26"
             ],
             [
              1,
              "#f0f921"
             ]
            ],
            "type": "histogram2d"
           }
          ],
          "histogram2dcontour": [
           {
            "colorbar": {
             "outlinewidth": 0,
             "ticks": ""
            },
            "colorscale": [
             [
              0,
              "#0d0887"
             ],
             [
              0.1111111111111111,
              "#46039f"
             ],
             [
              0.2222222222222222,
              "#7201a8"
             ],
             [
              0.3333333333333333,
              "#9c179e"
             ],
             [
              0.4444444444444444,
              "#bd3786"
             ],
             [
              0.5555555555555556,
              "#d8576b"
             ],
             [
              0.6666666666666666,
              "#ed7953"
             ],
             [
              0.7777777777777778,
              "#fb9f3a"
             ],
             [
              0.8888888888888888,
              "#fdca26"
             ],
             [
              1,
              "#f0f921"
             ]
            ],
            "type": "histogram2dcontour"
           }
          ],
          "mesh3d": [
           {
            "colorbar": {
             "outlinewidth": 0,
             "ticks": ""
            },
            "type": "mesh3d"
           }
          ],
          "parcoords": [
           {
            "line": {
             "colorbar": {
              "outlinewidth": 0,
              "ticks": ""
             }
            },
            "type": "parcoords"
           }
          ],
          "pie": [
           {
            "automargin": true,
            "type": "pie"
           }
          ],
          "scatter": [
           {
            "fillpattern": {
             "fillmode": "overlay",
             "size": 10,
             "solidity": 0.2
            },
            "type": "scatter"
           }
          ],
          "scatter3d": [
           {
            "line": {
             "colorbar": {
              "outlinewidth": 0,
              "ticks": ""
             }
            },
            "marker": {
             "colorbar": {
              "outlinewidth": 0,
              "ticks": ""
             }
            },
            "type": "scatter3d"
           }
          ],
          "scattercarpet": [
           {
            "marker": {
             "colorbar": {
              "outlinewidth": 0,
              "ticks": ""
             }
            },
            "type": "scattercarpet"
           }
          ],
          "scattergeo": [
           {
            "marker": {
             "colorbar": {
              "outlinewidth": 0,
              "ticks": ""
             }
            },
            "type": "scattergeo"
           }
          ],
          "scattergl": [
           {
            "marker": {
             "colorbar": {
              "outlinewidth": 0,
              "ticks": ""
             }
            },
            "type": "scattergl"
           }
          ],
          "scattermapbox": [
           {
            "marker": {
             "colorbar": {
              "outlinewidth": 0,
              "ticks": ""
             }
            },
            "type": "scattermapbox"
           }
          ],
          "scatterpolar": [
           {
            "marker": {
             "colorbar": {
              "outlinewidth": 0,
              "ticks": ""
             }
            },
            "type": "scatterpolar"
           }
          ],
          "scatterpolargl": [
           {
            "marker": {
             "colorbar": {
              "outlinewidth": 0,
              "ticks": ""
             }
            },
            "type": "scatterpolargl"
           }
          ],
          "scatterternary": [
           {
            "marker": {
             "colorbar": {
              "outlinewidth": 0,
              "ticks": ""
             }
            },
            "type": "scatterternary"
           }
          ],
          "surface": [
           {
            "colorbar": {
             "outlinewidth": 0,
             "ticks": ""
            },
            "colorscale": [
             [
              0,
              "#0d0887"
             ],
             [
              0.1111111111111111,
              "#46039f"
             ],
             [
              0.2222222222222222,
              "#7201a8"
             ],
             [
              0.3333333333333333,
              "#9c179e"
             ],
             [
              0.4444444444444444,
              "#bd3786"
             ],
             [
              0.5555555555555556,
              "#d8576b"
             ],
             [
              0.6666666666666666,
              "#ed7953"
             ],
             [
              0.7777777777777778,
              "#fb9f3a"
             ],
             [
              0.8888888888888888,
              "#fdca26"
             ],
             [
              1,
              "#f0f921"
             ]
            ],
            "type": "surface"
           }
          ],
          "table": [
           {
            "cells": {
             "fill": {
              "color": "#EBF0F8"
             },
             "line": {
              "color": "white"
             }
            },
            "header": {
             "fill": {
              "color": "#C8D4E3"
             },
             "line": {
              "color": "white"
             }
            },
            "type": "table"
           }
          ]
         },
         "layout": {
          "annotationdefaults": {
           "arrowcolor": "#2a3f5f",
           "arrowhead": 0,
           "arrowwidth": 1
          },
          "autotypenumbers": "strict",
          "coloraxis": {
           "colorbar": {
            "outlinewidth": 0,
            "ticks": ""
           }
          },
          "colorscale": {
           "diverging": [
            [
             0,
             "#8e0152"
            ],
            [
             0.1,
             "#c51b7d"
            ],
            [
             0.2,
             "#de77ae"
            ],
            [
             0.3,
             "#f1b6da"
            ],
            [
             0.4,
             "#fde0ef"
            ],
            [
             0.5,
             "#f7f7f7"
            ],
            [
             0.6,
             "#e6f5d0"
            ],
            [
             0.7,
             "#b8e186"
            ],
            [
             0.8,
             "#7fbc41"
            ],
            [
             0.9,
             "#4d9221"
            ],
            [
             1,
             "#276419"
            ]
           ],
           "sequential": [
            [
             0,
             "#0d0887"
            ],
            [
             0.1111111111111111,
             "#46039f"
            ],
            [
             0.2222222222222222,
             "#7201a8"
            ],
            [
             0.3333333333333333,
             "#9c179e"
            ],
            [
             0.4444444444444444,
             "#bd3786"
            ],
            [
             0.5555555555555556,
             "#d8576b"
            ],
            [
             0.6666666666666666,
             "#ed7953"
            ],
            [
             0.7777777777777778,
             "#fb9f3a"
            ],
            [
             0.8888888888888888,
             "#fdca26"
            ],
            [
             1,
             "#f0f921"
            ]
           ],
           "sequentialminus": [
            [
             0,
             "#0d0887"
            ],
            [
             0.1111111111111111,
             "#46039f"
            ],
            [
             0.2222222222222222,
             "#7201a8"
            ],
            [
             0.3333333333333333,
             "#9c179e"
            ],
            [
             0.4444444444444444,
             "#bd3786"
            ],
            [
             0.5555555555555556,
             "#d8576b"
            ],
            [
             0.6666666666666666,
             "#ed7953"
            ],
            [
             0.7777777777777778,
             "#fb9f3a"
            ],
            [
             0.8888888888888888,
             "#fdca26"
            ],
            [
             1,
             "#f0f921"
            ]
           ]
          },
          "colorway": [
           "#636efa",
           "#EF553B",
           "#00cc96",
           "#ab63fa",
           "#FFA15A",
           "#19d3f3",
           "#FF6692",
           "#B6E880",
           "#FF97FF",
           "#FECB52"
          ],
          "font": {
           "color": "#2a3f5f"
          },
          "geo": {
           "bgcolor": "white",
           "lakecolor": "white",
           "landcolor": "#E5ECF6",
           "showlakes": true,
           "showland": true,
           "subunitcolor": "white"
          },
          "hoverlabel": {
           "align": "left"
          },
          "hovermode": "closest",
          "mapbox": {
           "style": "light"
          },
          "paper_bgcolor": "white",
          "plot_bgcolor": "#E5ECF6",
          "polar": {
           "angularaxis": {
            "gridcolor": "white",
            "linecolor": "white",
            "ticks": ""
           },
           "bgcolor": "#E5ECF6",
           "radialaxis": {
            "gridcolor": "white",
            "linecolor": "white",
            "ticks": ""
           }
          },
          "scene": {
           "xaxis": {
            "backgroundcolor": "#E5ECF6",
            "gridcolor": "white",
            "gridwidth": 2,
            "linecolor": "white",
            "showbackground": true,
            "ticks": "",
            "zerolinecolor": "white"
           },
           "yaxis": {
            "backgroundcolor": "#E5ECF6",
            "gridcolor": "white",
            "gridwidth": 2,
            "linecolor": "white",
            "showbackground": true,
            "ticks": "",
            "zerolinecolor": "white"
           },
           "zaxis": {
            "backgroundcolor": "#E5ECF6",
            "gridcolor": "white",
            "gridwidth": 2,
            "linecolor": "white",
            "showbackground": true,
            "ticks": "",
            "zerolinecolor": "white"
           }
          },
          "shapedefaults": {
           "line": {
            "color": "#2a3f5f"
           }
          },
          "ternary": {
           "aaxis": {
            "gridcolor": "white",
            "linecolor": "white",
            "ticks": ""
           },
           "baxis": {
            "gridcolor": "white",
            "linecolor": "white",
            "ticks": ""
           },
           "bgcolor": "#E5ECF6",
           "caxis": {
            "gridcolor": "white",
            "linecolor": "white",
            "ticks": ""
           }
          },
          "title": {
           "x": 0.05
          },
          "xaxis": {
           "automargin": true,
           "gridcolor": "white",
           "linecolor": "white",
           "ticks": "",
           "title": {
            "standoff": 15
           },
           "zerolinecolor": "white",
           "zerolinewidth": 2
          },
          "yaxis": {
           "automargin": true,
           "gridcolor": "white",
           "linecolor": "white",
           "ticks": "",
           "title": {
            "standoff": 15
           },
           "zerolinecolor": "white",
           "zerolinewidth": 2
          }
         }
        },
        "title": {
         "text": "Exact vs approximate inference for HO2Sat (256 datapoints)"
        },
        "width": 800,
        "xaxis": {
         "anchor": "y",
         "categoryarray": [
          "1 day",
          "2 days (max FEV1)",
          "3 days (max FEV1)",
          "4 days (max FEV1)"
         ],
         "categoryorder": "array",
         "domain": [
          0,
          1
         ],
         "title": {
          "text": "N days model"
         }
        },
        "yaxis": {
         "anchor": "x",
         "domain": [
          0,
          1
         ],
         "tickvals": [
          0.0001,
          0.001,
          0.003,
          0.005,
          0.007
         ],
         "title": {
          "text": "Max absolute difference for HO2Sat"
         }
        }
       }
      }
     },
     "metadata": {},
     "output_type": "display_data"
    }
   ],
   "source": [
    "# Create boxplots for each n days models\n",
    "import plotly.express as px\n",
    "\n",
    "var = \"HO2Sat\"\n",
    "# var = \"HFEV1\"\n",
    "\n",
    "maxfev1 = \" (max FEV1)\" if with_max_FEV1_after_first_round else \"\"\n",
    "\n",
    "ref_cols = [\"ID\", \"Day 1\", \"Age\", \"Sex\", \"Height\"]\n",
    "\n",
    "col_to_plot = ref_cols + [\n",
    "    f\"{n_days} days {var} max diff\" for n_days in range(1, n_days_total_max + 1)\n",
    "]\n",
    "new_col_names = (\n",
    "    ref_cols\n",
    "    + [\"1 day\"]\n",
    "    + [f\"{n_days} days{maxfev1}\" for n_days in range(2, n_days_total_max + 1)]\n",
    ")\n",
    "\n",
    "df_diffs_plot = df_diffs[col_to_plot]\n",
    "# Rename columns\n",
    "df_diffs_plot.columns = new_col_names\n",
    "\n",
    "df_diffs_melted = df_diffs_plot.melt(\n",
    "    # id_vars=[\"ID\", \"Day 1\", \"Day 1 idx\", \"Age\", \"Sex\", \"Height\"],\n",
    "    id_vars=ref_cols,\n",
    "    value_vars=new_col_names,\n",
    "    var_name=\"N days model\",\n",
    "    value_name=f\"Max absolute difference for {var}\",\n",
    ")\n",
    "\n",
    "title = f\"Exact vs approximate inference for {var} ({len(df_diffs_plot)} datapoints)\"\n",
    "\n",
    "fig = px.box(\n",
    "    df_diffs_melted,\n",
    "    x=\"N days model\",\n",
    "    y=f\"Max absolute difference for {var}\",\n",
    "    color=\"N days model\",\n",
    "    title=title,\n",
    "    hover_data=ref_cols,\n",
    ")\n",
    "# fig.update_yaxes(type=\"log\")\n",
    "fig.update_layout(showlegend=False, width=800, height=400)\n",
    "fig.update_yaxes(tickvals=[1e-4, 0.001, 0.003, 0.005, 0.007])\n",
    "fig.show()\n",
    "fig.write_image(dh.get_path_to_main() + f\"PlotsBreathe/N days model/{title}{maxfev1}.pdf\")"
   ]
  },
  {
   "cell_type": "code",
   "execution_count": 94,
   "metadata": {},
   "outputs": [
    {
     "data": {
      "text/html": [
       "<div>\n",
       "<style scoped>\n",
       "    .dataframe tbody tr th:only-of-type {\n",
       "        vertical-align: middle;\n",
       "    }\n",
       "\n",
       "    .dataframe tbody tr th {\n",
       "        vertical-align: top;\n",
       "    }\n",
       "\n",
       "    .dataframe thead th {\n",
       "        text-align: right;\n",
       "    }\n",
       "</style>\n",
       "<table border=\"1\" class=\"dataframe\">\n",
       "  <thead>\n",
       "    <tr style=\"text-align: right;\">\n",
       "      <th></th>\n",
       "      <th>ID</th>\n",
       "      <th>Day 1</th>\n",
       "      <th>4 days HFEV1 exact inf</th>\n",
       "      <th>4 days HFEV1 approx inf</th>\n",
       "      <th>4 days HO2Sat exact inf</th>\n",
       "      <th>4 days HO2Sat approx inf</th>\n",
       "      <th>4 days HFEV1 max diff</th>\n",
       "      <th>4 days HO2Sat max diff</th>\n",
       "    </tr>\n",
       "  </thead>\n",
       "  <tbody>\n",
       "    <tr>\n",
       "      <th>0</th>\n",
       "      <td>331</td>\n",
       "      <td>2022-06-24</td>\n",
       "      <td>[0.0, 0.9692460478872158, 0.0307539506935627, ...</td>\n",
       "      <td>[0.0, 0.969246048778613, 0.030753949802166513,...</td>\n",
       "      <td>[0.0, 0.0, 1.3200912938369406e-19, 4.288186805...</td>\n",
       "      <td>[0.0, 0.0, 1.320066007473432e-19, 4.2880918256...</td>\n",
       "      <td>8.913972e-10</td>\n",
       "      <td>9.497991e-10</td>\n",
       "    </tr>\n",
       "  </tbody>\n",
       "</table>\n",
       "</div>"
      ],
      "text/plain": [
       "    ID       Day 1                             4 days HFEV1 exact inf  \\\n",
       "0  331  2022-06-24  [0.0, 0.9692460478872158, 0.0307539506935627, ...   \n",
       "\n",
       "                             4 days HFEV1 approx inf  \\\n",
       "0  [0.0, 0.969246048778613, 0.030753949802166513,...   \n",
       "\n",
       "                             4 days HO2Sat exact inf  \\\n",
       "0  [0.0, 0.0, 1.3200912938369406e-19, 4.288186805...   \n",
       "\n",
       "                            4 days HO2Sat approx inf  4 days HFEV1 max diff  \\\n",
       "0  [0.0, 0.0, 1.320066007473432e-19, 4.2880918256...           8.913972e-10   \n",
       "\n",
       "   4 days HO2Sat max diff  \n",
       "0            9.497991e-10  "
      ]
     },
     "execution_count": 94,
     "metadata": {},
     "output_type": "execute_result"
    }
   ],
   "source": [
    "id = \"331\"\n",
    "a = df_res[df_res.ID == id].loc[0, \"4 days HFEV1 approx inf\"]\n",
    "e = df_res[df_res.ID == id].loc[0, \"4 days HFEV1 exact inf\"]\n",
    "df_res[df_res.ID == id]"
   ]
  },
  {
   "cell_type": "code",
   "execution_count": null,
   "metadata": {},
   "outputs": [],
   "source": [
    "# select ID 122 and date recorded 2021-12-28\n",
    "import datetime\n",
    "\n",
    "df[(df.ID == id) & (df[\"Date Recorded\"] == datetime.date(2021, 6, 28))]\n",
    "# Find the max FEV1 index for id 122\n",
    "# df[df.ID == id].sort_values(by=[\"ecFEV1\", \"O2 Saturation\"], ascending=False).iloc[0:2]"
   ]
  },
  {
   "cell_type": "code",
   "execution_count": null,
   "metadata": {},
   "outputs": [],
   "source": [
    "# highest diffs\n",
    "# 122\n",
    "df.iloc[[6258, 6259, 6260, 6120]]\n",
    "# 232\n",
    "df.iloc[[21815, 21816, 21817, 21819]]\n",
    "\n",
    "# 0 diff (if max ecFEV1 is > 5L)\n",
    "df.iloc[[4320, 4321, 4322, 4106]]\n",
    "\n",
    "# smallest nonzero diff\n",
    "# 331\n",
    "df.iloc[[31307, 31308, 31309, 31205]]\n",
    "# 261\n",
    "df.iloc[[25566, 25567, 25568, 25573]]\n",
    "\n",
    "# When max FEV1 is over 5 L, then probability of HFEV1 in range 5-6L is 1\n",
    "# The most uncertain HFEV1 is the biggest the difference between the two models? -> when one bin overly wins, the max diff is low\n",
    "\n",
    "# The approximate model is most accurate when the exact answer has strong beliefs for one bin"
   ]
  },
  {
   "cell_type": "code",
   "execution_count": null,
   "metadata": {},
   "outputs": [],
   "source": [
    "np.set_printoptions(precision=2)\n",
    "e = df_res[df_res.ID == \"122\"].loc[0, \"HFEV1 exact inf\"]\n",
    "a = df_res[df_res.ID == \"122\"].loc[0, \"HFEV1 approx inf\"]\n",
    "print(\"exact inference \", e)\n",
    "print(\"approx inference\", a)\n",
    "print(\"absolute diff   \", np.abs(e - a))\n",
    "print(f\"relative diff (%)\", np.abs(e - a) / e * 100)\n",
    "# How to print array with 2 decimal values only"
   ]
  },
  {
   "cell_type": "code",
   "execution_count": null,
   "metadata": {},
   "outputs": [],
   "source": [
    "df_diffs[df_diffs[\"4 days HFEV1 max diff\"] != 0].sort_values(\n",
    "    by=f\"{n_days_total_max} days HFEV1 max diff\", ascending=True\n",
    ")\n",
    "# df_diffs.drop(columns=[\"1 days HFEV1 max diff\", \"1 days HO2Sat max diff\"])"
   ]
  },
  {
   "cell_type": "code",
   "execution_count": 119,
   "metadata": {},
   "outputs": [
    {
     "data": {
      "application/vnd.plotly.v1+json": {
       "config": {
        "plotlyServerURL": "https://plot.ly"
       },
       "data": [
        {
         "alignmentgroup": "True",
         "hovertemplate": "idx ecFEV1 (L)=%{x}<br>4 days HFEV1 max diff=%{y}<extra></extra>",
         "legendgroup": "",
         "marker": {
          "color": "#636efa"
         },
         "name": "",
         "notched": false,
         "offsetgroup": "",
         "orientation": "v",
         "showlegend": false,
         "type": "box",
         "x": [
          1,
          1,
          1,
          1,
          1,
          2,
          2,
          2,
          0,
          1,
          2,
          4,
          1,
          3,
          1,
          2,
          1,
          1,
          2,
          3,
          1,
          3,
          2,
          2,
          4,
          1,
          2,
          3,
          1,
          1,
          1,
          3,
          2,
          1,
          1,
          1,
          3,
          1,
          1,
          3,
          2,
          1,
          2,
          2,
          1,
          2,
          3,
          2,
          2,
          1,
          3,
          1,
          2,
          1,
          2,
          2,
          1,
          3,
          1,
          4,
          2,
          3,
          2,
          2,
          2,
          3,
          3,
          1,
          2,
          2,
          1,
          3,
          2,
          0,
          1,
          4,
          3,
          2,
          2,
          1,
          2,
          2,
          1,
          3,
          2,
          1,
          2,
          2,
          4,
          1,
          2,
          1,
          2,
          2,
          2,
          1,
          2,
          2,
          1,
          2,
          3,
          1,
          1,
          2,
          3,
          2,
          3,
          3,
          2,
          4,
          3,
          1,
          1,
          3,
          3,
          2,
          3,
          1,
          2,
          3,
          2,
          1,
          2,
          3,
          1,
          2,
          1,
          3,
          3,
          3,
          3,
          2,
          2,
          3,
          4,
          1,
          1,
          3,
          1,
          2,
          3,
          2,
          2,
          2,
          2,
          1,
          3,
          4,
          1,
          3,
          3,
          2,
          4,
          3,
          2,
          2,
          1,
          2,
          2,
          3,
          2,
          2,
          2,
          2,
          1,
          2,
          1,
          2,
          1,
          1,
          3,
          3,
          2,
          3,
          0,
          1,
          1,
          2,
          3,
          1,
          2,
          3,
          2,
          2,
          2,
          1,
          2,
          4,
          1,
          0,
          2,
          3,
          3,
          1,
          1,
          2,
          0,
          2,
          2,
          0,
          3,
          1,
          1,
          2,
          3,
          2,
          2,
          1,
          1,
          2,
          0,
          1,
          2,
          2,
          3,
          2,
          3,
          1,
          5,
          4,
          3,
          4,
          2,
          1,
          3,
          0,
          1,
          3,
          2,
          3,
          2,
          1,
          2,
          1,
          1,
          2,
          3,
          2,
          2,
          2,
          3,
          1,
          1,
          1,
          1,
          2,
          1,
          3,
          3,
          2,
          3,
          5,
          4,
          1,
          1,
          2
         ],
         "x0": " ",
         "xaxis": "x",
         "y": [
          0.006368351452482712,
          0.005494064683597366,
          0.0002181159809860889,
          3.874478171628226e-8,
          0.000277445219691197,
          5.106723592884777e-7,
          0.0003856694528557858,
          6.150716234110121e-7,
          0.00008992321823242388,
          5.796967940396858e-12,
          0.0001415204053186736,
          0,
          0.00002999977350048866,
          0.00001983279309281105,
          2.204301285946286e-8,
          3.375662749327546e-9,
          0.000008606993565085652,
          0.00006447492388783616,
          3.45945042334872e-8,
          5.281824977387828e-10,
          0.007271827176979828,
          0.00002098181628290563,
          1.138804003320004e-7,
          7.188194484086807e-11,
          0,
          0.0003710511395196292,
          0.00002405388668924591,
          6.275574504499559e-10,
          1.667872611132992e-7,
          0.0007312952326710143,
          2.396675832239126e-7,
          0.000230755576257069,
          0.0003118786782836391,
          5.050894136271467e-8,
          2.52479883666723e-8,
          0.003980264195117322,
          7.37854222165879e-12,
          0.000005958051441323775,
          0.000137801872621246,
          0.000005400132658595069,
          0.0004403295446575584,
          0.0005111758118686582,
          0.00000575033630412225,
          0.000008833334456448405,
          0.00002110762679174982,
          0.00003892035898167556,
          0.00003363668896949612,
          5.056942435910372e-7,
          6.954529396807629e-9,
          0.00109452629581952,
          0.00001167078905173202,
          0.000005368919533177419,
          0.000006390330492878071,
          0.0002728979776867035,
          0.000001455379525672207,
          0.000002422112469480098,
          0.000008054802078105716,
          0.00001172133588666496,
          0.00001204809835597676,
          1.491649681550911e-8,
          0.0003244478677756346,
          0.000004507046121871028,
          0.000005131667332292089,
          7.958905068328193e-8,
          0.000341480531886873,
          3.349443281324554e-11,
          5.611165326824263e-8,
          0.0002460800258300422,
          1.147304473647637e-11,
          1.774469460258388e-12,
          0.00005477377989926424,
          0.00004064865821024055,
          5.046750906068098e-9,
          0.0005166857133476199,
          2.074335774260305e-7,
          1.60739387355946e-8,
          0.00000944090896625241,
          5.955884596620109e-8,
          1.976754154808802e-7,
          5.594457643809392e-7,
          6.307128883609181e-7,
          0.00000923454401957624,
          0.00002201983279037645,
          0.00003393344673197074,
          5.08356828077261e-7,
          0.00007281801202374538,
          1.059720777796258e-7,
          6.674167596365521e-8,
          3.279901988895162e-9,
          9.829965247343253e-7,
          0.00003208367485729724,
          0.000007003448220133102,
          1.821444167368624e-11,
          1.725640358385405e-7,
          0.0001602231937717358,
          3.050033731133439e-7,
          1.871824917287768e-11,
          0.000001170260123251055,
          0.00722319043502051,
          1.506128555206487e-12,
          6.228319870960064e-8,
          5.612103138874502e-7,
          7.23117044021393e-9,
          0.00008492783084868005,
          2.74869453864568e-8,
          4.115580654051598e-9,
          1.541590210520083e-10,
          0.00001993624770479929,
          0.000511717482305607,
          2.417889555239583e-8,
          0.00001872947372827394,
          0.0003248184429328616,
          0.0003526436095278029,
          0.00003286655669169913,
          1.838862395686647e-12,
          0.000008329020024344658,
          5.214468866698851e-7,
          0.000001248129309905366,
          2.714495295208508e-13,
          4.774384221306605e-10,
          2.205562310564346e-8,
          0.00001041971351645188,
          0.000002513712383911404,
          0.00002008348430146412,
          4.173775680627045e-7,
          8.548302998789836e-8,
          0.0001286959263301357,
          8.230823000943133e-8,
          0.000008647456209209814,
          0.00000880848657763833,
          0.00000214009867127718,
          0.00001561192664167876,
          0.0001412464052514828,
          0.0001281607828920173,
          2.649681966199191e-8,
          0.0001320995797616797,
          0.00009528555731197486,
          0.00004084274720531772,
          0.00001513120507457,
          0.0006195574720417873,
          0.00001374210849547364,
          0.0001224356374246449,
          2.247767494356623e-8,
          0.00001092567901350705,
          0.000001636098806434561,
          0.0005807163678130944,
          0.000004994459529616968,
          0.00003777871302376029,
          0.00009250271960881129,
          4.324473001915408e-10,
          9.596513084186853e-8,
          4.329991920570819e-11,
          5.699386751434332e-8,
          0.000015871494382768,
          0.001158645287204552,
          1.653932546474834e-11,
          0.0006415970194348919,
          1.255315296155857e-9,
          0.0004647999820159843,
          0.000004065481012394123,
          8.144536722820561e-8,
          0.00006228093748839036,
          0.00001601360490122161,
          0.00006064594835353265,
          5.016253856737762e-9,
          4.984901380566953e-14,
          0.00005556973964737644,
          0.00003639211101402751,
          0.00001752612927496955,
          0.00009641272338323237,
          1.028189755558628e-10,
          0.00001817828162797852,
          0.000004930622774401705,
          7.388623208814948e-7,
          0.0003060929455247496,
          0.0008633800192673347,
          0.0002883534914319696,
          0.00001484484441427458,
          0,
          0.00001077059599774444,
          0.00001049550384135678,
          2.453464515994597e-7,
          0.000001382514774217469,
          0.0003885043749646266,
          5.770429867268945e-8,
          7.088038587177437e-7,
          0.00001025192201054015,
          1.241395874984619e-12,
          0.000001722222753519631,
          0.000156090068482273,
          0.00007060680967840849,
          0.000005861503163728798,
          3.6338709819006e-12,
          0.00000529227722356751,
          0.0008846544660544575,
          0.000002297896828484802,
          0.001682026593932795,
          7.018401149139208e-8,
          7.117830624903121e-8,
          0.0005389757448988064,
          3.580262974978154e-8,
          0.004622520434519162,
          0.00005086296706066813,
          0.00007175041881168909,
          1.177942945407295e-7,
          0.00006249304034555703,
          0.000003709219122183249,
          0.000008368452209750465,
          0.00006248778295681046,
          0.00021837198226482,
          0.0008197914505146953,
          0.000005407563980486252,
          0.0007689862469996145,
          0.000007316174098548345,
          0.00001165692370919125,
          0.000002294395430646468,
          0.000001151365654150638,
          0.00001642895951481371,
          0,
          0.00001513656181997836,
          0.00001080126355338176,
          1.898793461352355e-8,
          0.0002124284400010432,
          0.005198275378347939,
          0.00005462631452765598,
          0.00007747922453027467,
          0.0001446160486878734,
          0.000001563792772163453,
          9.860875227474253e-9,
          3.350396626800034e-10,
          0.0001438819896292243,
          2.850626364958586e-7,
          0.0005271603581169515,
          0.0001184407820569167,
          0.002976578499321536,
          0.0001712306226629989,
          2.96925040110807e-9,
          0.0005590293822410608,
          0.000008671523520020763,
          4.583790220724637e-7,
          1.289922946234867e-9,
          0.000002248729141229866,
          1.624171430680832e-7,
          0.0003464674064368456,
          0.000007114462604040916,
          0.0007638351204296567,
          0.002921093537589847,
          0.000009820056070603683,
          9.315548332722301e-12,
          0.000001308134930710914,
          0.0004807889902734841,
          0,
          1.694067922053399e-8,
          0.000189838915826801,
          0.004285074602386807,
          1.22607101582517e-7
         ],
         "y0": " ",
         "yaxis": "y"
        }
       ],
       "layout": {
        "boxmode": "group",
        "height": 400,
        "legend": {
         "tracegroupgap": 0
        },
        "margin": {
         "t": 60
        },
        "showlegend": false,
        "template": {
         "data": {
          "bar": [
           {
            "error_x": {
             "color": "#2a3f5f"
            },
            "error_y": {
             "color": "#2a3f5f"
            },
            "marker": {
             "line": {
              "color": "#E5ECF6",
              "width": 0.5
             },
             "pattern": {
              "fillmode": "overlay",
              "size": 10,
              "solidity": 0.2
             }
            },
            "type": "bar"
           }
          ],
          "barpolar": [
           {
            "marker": {
             "line": {
              "color": "#E5ECF6",
              "width": 0.5
             },
             "pattern": {
              "fillmode": "overlay",
              "size": 10,
              "solidity": 0.2
             }
            },
            "type": "barpolar"
           }
          ],
          "carpet": [
           {
            "aaxis": {
             "endlinecolor": "#2a3f5f",
             "gridcolor": "white",
             "linecolor": "white",
             "minorgridcolor": "white",
             "startlinecolor": "#2a3f5f"
            },
            "baxis": {
             "endlinecolor": "#2a3f5f",
             "gridcolor": "white",
             "linecolor": "white",
             "minorgridcolor": "white",
             "startlinecolor": "#2a3f5f"
            },
            "type": "carpet"
           }
          ],
          "choropleth": [
           {
            "colorbar": {
             "outlinewidth": 0,
             "ticks": ""
            },
            "type": "choropleth"
           }
          ],
          "contour": [
           {
            "colorbar": {
             "outlinewidth": 0,
             "ticks": ""
            },
            "colorscale": [
             [
              0,
              "#0d0887"
             ],
             [
              0.1111111111111111,
              "#46039f"
             ],
             [
              0.2222222222222222,
              "#7201a8"
             ],
             [
              0.3333333333333333,
              "#9c179e"
             ],
             [
              0.4444444444444444,
              "#bd3786"
             ],
             [
              0.5555555555555556,
              "#d8576b"
             ],
             [
              0.6666666666666666,
              "#ed7953"
             ],
             [
              0.7777777777777778,
              "#fb9f3a"
             ],
             [
              0.8888888888888888,
              "#fdca26"
             ],
             [
              1,
              "#f0f921"
             ]
            ],
            "type": "contour"
           }
          ],
          "contourcarpet": [
           {
            "colorbar": {
             "outlinewidth": 0,
             "ticks": ""
            },
            "type": "contourcarpet"
           }
          ],
          "heatmap": [
           {
            "colorbar": {
             "outlinewidth": 0,
             "ticks": ""
            },
            "colorscale": [
             [
              0,
              "#0d0887"
             ],
             [
              0.1111111111111111,
              "#46039f"
             ],
             [
              0.2222222222222222,
              "#7201a8"
             ],
             [
              0.3333333333333333,
              "#9c179e"
             ],
             [
              0.4444444444444444,
              "#bd3786"
             ],
             [
              0.5555555555555556,
              "#d8576b"
             ],
             [
              0.6666666666666666,
              "#ed7953"
             ],
             [
              0.7777777777777778,
              "#fb9f3a"
             ],
             [
              0.8888888888888888,
              "#fdca26"
             ],
             [
              1,
              "#f0f921"
             ]
            ],
            "type": "heatmap"
           }
          ],
          "heatmapgl": [
           {
            "colorbar": {
             "outlinewidth": 0,
             "ticks": ""
            },
            "colorscale": [
             [
              0,
              "#0d0887"
             ],
             [
              0.1111111111111111,
              "#46039f"
             ],
             [
              0.2222222222222222,
              "#7201a8"
             ],
             [
              0.3333333333333333,
              "#9c179e"
             ],
             [
              0.4444444444444444,
              "#bd3786"
             ],
             [
              0.5555555555555556,
              "#d8576b"
             ],
             [
              0.6666666666666666,
              "#ed7953"
             ],
             [
              0.7777777777777778,
              "#fb9f3a"
             ],
             [
              0.8888888888888888,
              "#fdca26"
             ],
             [
              1,
              "#f0f921"
             ]
            ],
            "type": "heatmapgl"
           }
          ],
          "histogram": [
           {
            "marker": {
             "pattern": {
              "fillmode": "overlay",
              "size": 10,
              "solidity": 0.2
             }
            },
            "type": "histogram"
           }
          ],
          "histogram2d": [
           {
            "colorbar": {
             "outlinewidth": 0,
             "ticks": ""
            },
            "colorscale": [
             [
              0,
              "#0d0887"
             ],
             [
              0.1111111111111111,
              "#46039f"
             ],
             [
              0.2222222222222222,
              "#7201a8"
             ],
             [
              0.3333333333333333,
              "#9c179e"
             ],
             [
              0.4444444444444444,
              "#bd3786"
             ],
             [
              0.5555555555555556,
              "#d8576b"
             ],
             [
              0.6666666666666666,
              "#ed7953"
             ],
             [
              0.7777777777777778,
              "#fb9f3a"
             ],
             [
              0.8888888888888888,
              "#fdca26"
             ],
             [
              1,
              "#f0f921"
             ]
            ],
            "type": "histogram2d"
           }
          ],
          "histogram2dcontour": [
           {
            "colorbar": {
             "outlinewidth": 0,
             "ticks": ""
            },
            "colorscale": [
             [
              0,
              "#0d0887"
             ],
             [
              0.1111111111111111,
              "#46039f"
             ],
             [
              0.2222222222222222,
              "#7201a8"
             ],
             [
              0.3333333333333333,
              "#9c179e"
             ],
             [
              0.4444444444444444,
              "#bd3786"
             ],
             [
              0.5555555555555556,
              "#d8576b"
             ],
             [
              0.6666666666666666,
              "#ed7953"
             ],
             [
              0.7777777777777778,
              "#fb9f3a"
             ],
             [
              0.8888888888888888,
              "#fdca26"
             ],
             [
              1,
              "#f0f921"
             ]
            ],
            "type": "histogram2dcontour"
           }
          ],
          "mesh3d": [
           {
            "colorbar": {
             "outlinewidth": 0,
             "ticks": ""
            },
            "type": "mesh3d"
           }
          ],
          "parcoords": [
           {
            "line": {
             "colorbar": {
              "outlinewidth": 0,
              "ticks": ""
             }
            },
            "type": "parcoords"
           }
          ],
          "pie": [
           {
            "automargin": true,
            "type": "pie"
           }
          ],
          "scatter": [
           {
            "fillpattern": {
             "fillmode": "overlay",
             "size": 10,
             "solidity": 0.2
            },
            "type": "scatter"
           }
          ],
          "scatter3d": [
           {
            "line": {
             "colorbar": {
              "outlinewidth": 0,
              "ticks": ""
             }
            },
            "marker": {
             "colorbar": {
              "outlinewidth": 0,
              "ticks": ""
             }
            },
            "type": "scatter3d"
           }
          ],
          "scattercarpet": [
           {
            "marker": {
             "colorbar": {
              "outlinewidth": 0,
              "ticks": ""
             }
            },
            "type": "scattercarpet"
           }
          ],
          "scattergeo": [
           {
            "marker": {
             "colorbar": {
              "outlinewidth": 0,
              "ticks": ""
             }
            },
            "type": "scattergeo"
           }
          ],
          "scattergl": [
           {
            "marker": {
             "colorbar": {
              "outlinewidth": 0,
              "ticks": ""
             }
            },
            "type": "scattergl"
           }
          ],
          "scattermapbox": [
           {
            "marker": {
             "colorbar": {
              "outlinewidth": 0,
              "ticks": ""
             }
            },
            "type": "scattermapbox"
           }
          ],
          "scatterpolar": [
           {
            "marker": {
             "colorbar": {
              "outlinewidth": 0,
              "ticks": ""
             }
            },
            "type": "scatterpolar"
           }
          ],
          "scatterpolargl": [
           {
            "marker": {
             "colorbar": {
              "outlinewidth": 0,
              "ticks": ""
             }
            },
            "type": "scatterpolargl"
           }
          ],
          "scatterternary": [
           {
            "marker": {
             "colorbar": {
              "outlinewidth": 0,
              "ticks": ""
             }
            },
            "type": "scatterternary"
           }
          ],
          "surface": [
           {
            "colorbar": {
             "outlinewidth": 0,
             "ticks": ""
            },
            "colorscale": [
             [
              0,
              "#0d0887"
             ],
             [
              0.1111111111111111,
              "#46039f"
             ],
             [
              0.2222222222222222,
              "#7201a8"
             ],
             [
              0.3333333333333333,
              "#9c179e"
             ],
             [
              0.4444444444444444,
              "#bd3786"
             ],
             [
              0.5555555555555556,
              "#d8576b"
             ],
             [
              0.6666666666666666,
              "#ed7953"
             ],
             [
              0.7777777777777778,
              "#fb9f3a"
             ],
             [
              0.8888888888888888,
              "#fdca26"
             ],
             [
              1,
              "#f0f921"
             ]
            ],
            "type": "surface"
           }
          ],
          "table": [
           {
            "cells": {
             "fill": {
              "color": "#EBF0F8"
             },
             "line": {
              "color": "white"
             }
            },
            "header": {
             "fill": {
              "color": "#C8D4E3"
             },
             "line": {
              "color": "white"
             }
            },
            "type": "table"
           }
          ]
         },
         "layout": {
          "annotationdefaults": {
           "arrowcolor": "#2a3f5f",
           "arrowhead": 0,
           "arrowwidth": 1
          },
          "autotypenumbers": "strict",
          "coloraxis": {
           "colorbar": {
            "outlinewidth": 0,
            "ticks": ""
           }
          },
          "colorscale": {
           "diverging": [
            [
             0,
             "#8e0152"
            ],
            [
             0.1,
             "#c51b7d"
            ],
            [
             0.2,
             "#de77ae"
            ],
            [
             0.3,
             "#f1b6da"
            ],
            [
             0.4,
             "#fde0ef"
            ],
            [
             0.5,
             "#f7f7f7"
            ],
            [
             0.6,
             "#e6f5d0"
            ],
            [
             0.7,
             "#b8e186"
            ],
            [
             0.8,
             "#7fbc41"
            ],
            [
             0.9,
             "#4d9221"
            ],
            [
             1,
             "#276419"
            ]
           ],
           "sequential": [
            [
             0,
             "#0d0887"
            ],
            [
             0.1111111111111111,
             "#46039f"
            ],
            [
             0.2222222222222222,
             "#7201a8"
            ],
            [
             0.3333333333333333,
             "#9c179e"
            ],
            [
             0.4444444444444444,
             "#bd3786"
            ],
            [
             0.5555555555555556,
             "#d8576b"
            ],
            [
             0.6666666666666666,
             "#ed7953"
            ],
            [
             0.7777777777777778,
             "#fb9f3a"
            ],
            [
             0.8888888888888888,
             "#fdca26"
            ],
            [
             1,
             "#f0f921"
            ]
           ],
           "sequentialminus": [
            [
             0,
             "#0d0887"
            ],
            [
             0.1111111111111111,
             "#46039f"
            ],
            [
             0.2222222222222222,
             "#7201a8"
            ],
            [
             0.3333333333333333,
             "#9c179e"
            ],
            [
             0.4444444444444444,
             "#bd3786"
            ],
            [
             0.5555555555555556,
             "#d8576b"
            ],
            [
             0.6666666666666666,
             "#ed7953"
            ],
            [
             0.7777777777777778,
             "#fb9f3a"
            ],
            [
             0.8888888888888888,
             "#fdca26"
            ],
            [
             1,
             "#f0f921"
            ]
           ]
          },
          "colorway": [
           "#636efa",
           "#EF553B",
           "#00cc96",
           "#ab63fa",
           "#FFA15A",
           "#19d3f3",
           "#FF6692",
           "#B6E880",
           "#FF97FF",
           "#FECB52"
          ],
          "font": {
           "color": "#2a3f5f"
          },
          "geo": {
           "bgcolor": "white",
           "lakecolor": "white",
           "landcolor": "#E5ECF6",
           "showlakes": true,
           "showland": true,
           "subunitcolor": "white"
          },
          "hoverlabel": {
           "align": "left"
          },
          "hovermode": "closest",
          "mapbox": {
           "style": "light"
          },
          "paper_bgcolor": "white",
          "plot_bgcolor": "#E5ECF6",
          "polar": {
           "angularaxis": {
            "gridcolor": "white",
            "linecolor": "white",
            "ticks": ""
           },
           "bgcolor": "#E5ECF6",
           "radialaxis": {
            "gridcolor": "white",
            "linecolor": "white",
            "ticks": ""
           }
          },
          "scene": {
           "xaxis": {
            "backgroundcolor": "#E5ECF6",
            "gridcolor": "white",
            "gridwidth": 2,
            "linecolor": "white",
            "showbackground": true,
            "ticks": "",
            "zerolinecolor": "white"
           },
           "yaxis": {
            "backgroundcolor": "#E5ECF6",
            "gridcolor": "white",
            "gridwidth": 2,
            "linecolor": "white",
            "showbackground": true,
            "ticks": "",
            "zerolinecolor": "white"
           },
           "zaxis": {
            "backgroundcolor": "#E5ECF6",
            "gridcolor": "white",
            "gridwidth": 2,
            "linecolor": "white",
            "showbackground": true,
            "ticks": "",
            "zerolinecolor": "white"
           }
          },
          "shapedefaults": {
           "line": {
            "color": "#2a3f5f"
           }
          },
          "ternary": {
           "aaxis": {
            "gridcolor": "white",
            "linecolor": "white",
            "ticks": ""
           },
           "baxis": {
            "gridcolor": "white",
            "linecolor": "white",
            "ticks": ""
           },
           "bgcolor": "#E5ECF6",
           "caxis": {
            "gridcolor": "white",
            "linecolor": "white",
            "ticks": ""
           }
          },
          "title": {
           "x": 0.05
          },
          "xaxis": {
           "automargin": true,
           "gridcolor": "white",
           "linecolor": "white",
           "ticks": "",
           "title": {
            "standoff": 15
           },
           "zerolinecolor": "white",
           "zerolinewidth": 2
          },
          "yaxis": {
           "automargin": true,
           "gridcolor": "white",
           "linecolor": "white",
           "ticks": "",
           "title": {
            "standoff": 15
           },
           "zerolinecolor": "white",
           "zerolinewidth": 2
          }
         }
        },
        "title": {
         "text": "Does the HFEV1 diff in the 4 days model correlates with the measured ecFEV1?"
        },
        "width": 800,
        "xaxis": {
         "anchor": "y",
         "domain": [
          0,
          1
         ],
         "ticktext": [
          "0 (#8)",
          "1 (#80)",
          "2 (#95)",
          "3 (#58)",
          "4 (#13)",
          "5 (#2)"
         ],
         "tickvals": [
          0,
          1,
          2,
          3,
          4,
          5
         ],
         "title": {
          "text": "idx ecFEV1 (L)"
         }
        },
        "yaxis": {
         "anchor": "x",
         "domain": [
          0,
          1
         ],
         "tickvals": [
          0.0001,
          0.001,
          0.003,
          0.005,
          0.007
         ],
         "title": {
          "text": "4 days HFEV1 max diff"
         }
        }
       }
      }
     },
     "metadata": {},
     "output_type": "display_data"
    },
    {
     "name": "stdout",
     "output_type": "stream",
     "text": [
      "Value counts for day 1 idx\n"
     ]
    }
   ],
   "source": [
    "# Does HFEV1 diff correlates with high idx ecFEV1?\n",
    "title=f\"Does the HFEV1 diff in the 4 days model correlates with the measured ecFEV1?\"\n",
    "var = \"HFEV1\"\n",
    "fig = px.box(\n",
    "    df_diffs,\n",
    "    x=\"idx ecFEV1 (L)\",\n",
    "    y=f\"4 days {var} max diff\",\n",
    "    # color=\"N days model\",\n",
    "    # title=title,\n",
    "    # hover_data=ref_cols,\n",
    ")\n",
    "val_counts = df_diffs.value_counts(\"idx ecFEV1 (L)\").sort_index()\n",
    "xaxislabels = list(\n",
    "    map(lambda x: f\"{x[0]} (#{x[1]})\", zip(val_counts.index, val_counts.values))\n",
    ")\n",
    "# Update x axis labels\n",
    "fig.update_xaxes(tickvals=val_counts.index, ticktext=xaxislabels)\n",
    "# Add 10e-4 p on y axis label\n",
    "fig.update_yaxes(tickvals=[0.0001, 0.001, 0.003, 0.005, 0.007])\n",
    "fig.update_layout(title=title, showlegend=False, width=800, height=400)\n",
    "fig.show()\n",
    "print(\"Value counts for day 1 idx\")\n",
    "# Update layout\n",
    "\n",
    "# Save image \n",
    "fig.write_image(dh.get_path_to_main() + f\"PlotsBreathe/N days model/{title}.pdf\")"
   ]
  },
  {
   "cell_type": "markdown",
   "metadata": {},
   "source": [
    "## For how many days does the inference run in finite time?"
   ]
  },
  {
   "cell_type": "code",
   "execution_count": null,
   "metadata": {},
   "outputs": [],
   "source": [
    "res_exact = ih.infer(\n",
    "    inference_alg=inf_alg_exact,\n",
    "    variables=shared_vars_exact,\n",
    "    evidences=obs_vars_exact,\n",
    "    debug=False,\n",
    ")"
   ]
  }
 ],
 "metadata": {
  "kernelspec": {
   "display_name": "phd",
   "language": "python",
   "name": "python3"
  },
  "language_info": {
   "codemirror_mode": {
    "name": "ipython",
    "version": 3
   },
   "file_extension": ".py",
   "mimetype": "text/x-python",
   "name": "python",
   "nbconvert_exporter": "python",
   "pygments_lexer": "ipython3",
   "version": "3.10.13"
  }
 },
 "nbformat": 4,
 "nbformat_minor": 2
}
