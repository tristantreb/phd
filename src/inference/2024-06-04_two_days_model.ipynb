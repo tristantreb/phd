{
 "cells": [
  {
   "cell_type": "code",
   "execution_count": 1,
   "metadata": {},
   "outputs": [],
   "source": [
    "import src.data.breathe_data as bd\n",
    "import src.inference.long_inf_slicing as slicing\n",
    "import src.models.builders as mb\n",
    "import src.models.var_builders as var_builders\n",
    "import src.inference.helpers as ih\n",
    "from plotly.subplots import make_subplots\n",
    "\n",
    "\n",
    "import pandas as pd\n",
    "import numpy as np"
   ]
  },
  {
   "cell_type": "markdown",
   "metadata": {},
   "source": [
    "### Run this to bypass the two next sections (get unblocked fev1 and preprocessd data)"
   ]
  },
  {
   "cell_type": "code",
   "execution_count": 2,
   "metadata": {},
   "outputs": [],
   "source": [
    "df = bd.load_meas_from_excel(\"BR_O2_FEV1_FEF2575_with_idx_and_heighest_obs_per_id\")"
   ]
  },
  {
   "cell_type": "markdown",
   "metadata": {},
   "source": [
    "# Get unblocked FEV1"
   ]
  },
  {
   "cell_type": "code",
   "execution_count": 3,
   "metadata": {},
   "outputs": [],
   "source": [
    "df = bd.load_meas_from_excel(\"BR_O2_FEV1_FEF2575_PEF_Nan\")"
   ]
  },
  {
   "cell_type": "code",
   "execution_count": null,
   "metadata": {},
   "outputs": [
    {
     "name": "stdout",
     "output_type": "stream",
     "text": [
      "(41272, 16)\n",
      "IDs:  353\n"
     ]
    },
    {
     "data": {
      "text/html": [
       "<div>\n",
       "<style scoped>\n",
       "    .dataframe tbody tr th:only-of-type {\n",
       "        vertical-align: middle;\n",
       "    }\n",
       "\n",
       "    .dataframe tbody tr th {\n",
       "        vertical-align: top;\n",
       "    }\n",
       "\n",
       "    .dataframe thead th {\n",
       "        text-align: right;\n",
       "    }\n",
       "</style>\n",
       "<table border=\"1\" class=\"dataframe\">\n",
       "  <thead>\n",
       "    <tr style=\"text-align: right;\">\n",
       "      <th></th>\n",
       "      <th>ID</th>\n",
       "      <th>Date Recorded</th>\n",
       "      <th>FEV1</th>\n",
       "      <th>O2 Saturation</th>\n",
       "      <th>FEF2575</th>\n",
       "      <th>ecFEV1</th>\n",
       "      <th>ecFEF2575</th>\n",
       "      <th>Sex</th>\n",
       "      <th>Height</th>\n",
       "      <th>Age</th>\n",
       "      <th>Predicted FEV1</th>\n",
       "      <th>Healthy O2 Saturation</th>\n",
       "      <th>ecFEV1 % Predicted</th>\n",
       "      <th>FEV1 % Predicted</th>\n",
       "      <th>O2 Saturation % Healthy</th>\n",
       "      <th>ecFEF2575%ecFEV1</th>\n",
       "    </tr>\n",
       "  </thead>\n",
       "  <tbody>\n",
       "    <tr>\n",
       "      <th>0</th>\n",
       "      <td>101</td>\n",
       "      <td>2019-01-25</td>\n",
       "      <td>1.31</td>\n",
       "      <td>97.0</td>\n",
       "      <td>0.54</td>\n",
       "      <td>1.31</td>\n",
       "      <td>0.67</td>\n",
       "      <td>Male</td>\n",
       "      <td>173.0</td>\n",
       "      <td>53</td>\n",
       "      <td>3.610061</td>\n",
       "      <td>97.150104</td>\n",
       "      <td>36.287474</td>\n",
       "      <td>36.287474</td>\n",
       "      <td>99.845492</td>\n",
       "      <td>41.221374</td>\n",
       "    </tr>\n",
       "    <tr>\n",
       "      <th>1</th>\n",
       "      <td>101</td>\n",
       "      <td>2019-01-26</td>\n",
       "      <td>1.31</td>\n",
       "      <td>98.0</td>\n",
       "      <td>0.57</td>\n",
       "      <td>1.31</td>\n",
       "      <td>0.67</td>\n",
       "      <td>Male</td>\n",
       "      <td>173.0</td>\n",
       "      <td>53</td>\n",
       "      <td>3.610061</td>\n",
       "      <td>97.150104</td>\n",
       "      <td>36.287474</td>\n",
       "      <td>36.287474</td>\n",
       "      <td>100.874827</td>\n",
       "      <td>43.511450</td>\n",
       "    </tr>\n",
       "    <tr>\n",
       "      <th>2</th>\n",
       "      <td>101</td>\n",
       "      <td>2019-01-27</td>\n",
       "      <td>1.31</td>\n",
       "      <td>96.0</td>\n",
       "      <td>0.67</td>\n",
       "      <td>1.31</td>\n",
       "      <td>0.69</td>\n",
       "      <td>Male</td>\n",
       "      <td>173.0</td>\n",
       "      <td>53</td>\n",
       "      <td>3.610061</td>\n",
       "      <td>97.150104</td>\n",
       "      <td>36.287474</td>\n",
       "      <td>36.287474</td>\n",
       "      <td>98.816157</td>\n",
       "      <td>51.145038</td>\n",
       "    </tr>\n",
       "    <tr>\n",
       "      <th>3</th>\n",
       "      <td>101</td>\n",
       "      <td>2019-01-28</td>\n",
       "      <td>1.30</td>\n",
       "      <td>96.0</td>\n",
       "      <td>0.69</td>\n",
       "      <td>1.31</td>\n",
       "      <td>0.69</td>\n",
       "      <td>Male</td>\n",
       "      <td>173.0</td>\n",
       "      <td>53</td>\n",
       "      <td>3.610061</td>\n",
       "      <td>97.150104</td>\n",
       "      <td>36.287474</td>\n",
       "      <td>36.010470</td>\n",
       "      <td>98.816157</td>\n",
       "      <td>53.076923</td>\n",
       "    </tr>\n",
       "    <tr>\n",
       "      <th>4</th>\n",
       "      <td>101</td>\n",
       "      <td>2019-01-29</td>\n",
       "      <td>1.28</td>\n",
       "      <td>98.0</td>\n",
       "      <td>0.60</td>\n",
       "      <td>1.30</td>\n",
       "      <td>0.69</td>\n",
       "      <td>Male</td>\n",
       "      <td>173.0</td>\n",
       "      <td>53</td>\n",
       "      <td>3.610061</td>\n",
       "      <td>97.150104</td>\n",
       "      <td>36.010470</td>\n",
       "      <td>35.456463</td>\n",
       "      <td>100.874827</td>\n",
       "      <td>46.875000</td>\n",
       "    </tr>\n",
       "  </tbody>\n",
       "</table>\n",
       "</div>"
      ],
      "text/plain": [
       "    ID Date Recorded  FEV1  O2 Saturation  FEF2575  ecFEV1  ecFEF2575   Sex  \\\n",
       "0  101    2019-01-25  1.31           97.0     0.54    1.31       0.67  Male   \n",
       "1  101    2019-01-26  1.31           98.0     0.57    1.31       0.67  Male   \n",
       "2  101    2019-01-27  1.31           96.0     0.67    1.31       0.69  Male   \n",
       "3  101    2019-01-28  1.30           96.0     0.69    1.31       0.69  Male   \n",
       "4  101    2019-01-29  1.28           98.0     0.60    1.30       0.69  Male   \n",
       "\n",
       "   Height  Age  Predicted FEV1  Healthy O2 Saturation  ecFEV1 % Predicted  \\\n",
       "0   173.0   53        3.610061              97.150104           36.287474   \n",
       "1   173.0   53        3.610061              97.150104           36.287474   \n",
       "2   173.0   53        3.610061              97.150104           36.287474   \n",
       "3   173.0   53        3.610061              97.150104           36.287474   \n",
       "4   173.0   53        3.610061              97.150104           36.010470   \n",
       "\n",
       "   FEV1 % Predicted  O2 Saturation % Healthy  ecFEF2575%ecFEV1  \n",
       "0         36.287474                99.845492         41.221374  \n",
       "1         36.287474               100.874827         43.511450  \n",
       "2         36.287474                98.816157         51.145038  \n",
       "3         36.010470                98.816157         53.076923  \n",
       "4         35.456463               100.874827         46.875000  "
      ]
     },
     "execution_count": 3,
     "metadata": {},
     "output_type": "execute_result"
    }
   ],
   "source": [
    "df = df.drop(columns=[\"PEF\", \"ecPEF (L/s)\", \"PEF (L/s)\"])\n",
    "df = df.dropna(subset=[\"FEV1\", \"O2 Saturation\", \"FEF2575\"])\n",
    "df[\"ecFEF2575%ecFEV1\"] = df[\"FEF2575\"] / df[\"FEV1\"] * 100\n",
    "print(df.shape)\n",
    "print(\"IDs: \", df[\"ID\"].nunique())\n",
    "df.head()"
   ]
  },
  {
   "cell_type": "code",
   "execution_count": 4,
   "metadata": {},
   "outputs": [],
   "source": [
    "# Add unblocked FEV1\n",
    "def get_unblocked_fev1_for_ID(df):\n",
    "    # Find index where ecFEV1 is max\n",
    "    idx = df[\"ecFEV1\"].idxmax()\n",
    "    df[\"Max ecFEV1\"] = df.loc[idx, \"ecFEV1\"]\n",
    "    df[\"Max ecFEF2575\"] = df.loc[idx, \"ecFEF2575\"]\n",
    "    return df\n",
    "\n",
    "\n",
    "df = (\n",
    "    df.groupby(\"ID\")\n",
    "    .apply(get_unblocked_fev1_for_ID)\n",
    "    .drop(columns=[\"ID\"])\n",
    "    .reset_index()\n",
    "    .drop(columns=[\"level_1\"])\n",
    ")"
   ]
  },
  {
   "cell_type": "code",
   "execution_count": 5,
   "metadata": {},
   "outputs": [
    {
     "data": {
      "text/plain": [
       "Drop from max ecFEF2575\n",
       "True     669\n",
       "False    271\n",
       "Name: count, dtype: int64"
      ]
     },
     "execution_count": 5,
     "metadata": {},
     "output_type": "execute_result"
    }
   ],
   "source": [
    "# How often is max ecFEV1 obtained at the same time as max ecFEF2575?\n",
    "# Filter idx where max ecFEV1 = ecFEV1\n",
    "idx_max = df[\"Max ecFEV1\"] == df[\"ecFEV1\"]\n",
    "df_tmp = df[idx_max].copy()\n",
    "df_tmp[\"Drop from max ecFEF2575\"] = np.abs(\n",
    "    df_tmp[\"Max ecFEF2575\"] - df_tmp[\"ecFEF2575\"]\n",
    ")\n",
    "\n",
    "(df_tmp[\"Drop from max ecFEF2575\"] == 0).value_counts()\n",
    "# Most of the time, max ecFEV1 is obtained at the same time as max ecFEF2575"
   ]
  },
  {
   "cell_type": "code",
   "execution_count": 6,
   "metadata": {},
   "outputs": [
    {
     "data": {
      "text/plain": [
       "Index(['ID', 'Date Recorded', 'FEV1', 'O2 Saturation', 'FEF2575', 'ecFEV1',\n",
       "       'ecFEF2575', 'Sex', 'Height', 'Age', 'Predicted FEV1',\n",
       "       'Healthy O2 Saturation', 'ecFEV1 % Predicted', 'FEV1 % Predicted',\n",
       "       'O2 Saturation % Healthy', 'ecFEF2575%ecFEV1', 'Max ecFEV1',\n",
       "       'Max ecFEF2575'],\n",
       "      dtype='object')"
      ]
     },
     "execution_count": 6,
     "metadata": {},
     "output_type": "execute_result"
    }
   ],
   "source": [
    "df.columns"
   ]
  },
  {
   "cell_type": "markdown",
   "metadata": {},
   "source": [
    "# Preprocess breathe Data"
   ]
  },
  {
   "cell_type": "code",
   "execution_count": 7,
   "metadata": {},
   "outputs": [],
   "source": [
    "(HFEV1, ecFEV1, AR, HO2Sat, O2SatFFA, IA, UO2Sat, O2Sat, ecFEF2575prctecFEV1) = (\n",
    "    var_builders.o2sat_fev1_fef2575_point_in_time_model_shared_healthy_vars(\n",
    "        160, 40, \"Male\"\n",
    "    )\n",
    ")"
   ]
  },
  {
   "cell_type": "code",
   "execution_count": 9,
   "metadata": {},
   "outputs": [],
   "source": [
    "# Applied get_bin_for_value to all inputs and updated excel file\n",
    "df[f\"idx {ecFEV1.name}\"] = df.apply(\n",
    "    lambda row: ih.get_bin_for_value(row[\"ecFEV1\"], ecFEV1)[1], axis=1\n",
    ")\n",
    "df[f\"idx {ecFEF2575prctecFEV1.name}\"] = df.apply(\n",
    "    lambda row: ih.get_bin_for_value(row[\"ecFEF2575%ecFEV1\"], ecFEF2575prctecFEV1)[1],\n",
    "    axis=1,\n",
    ")\n",
    "df[f\"idx {O2Sat.name}\"] = df.apply(\n",
    "    lambda row: ih.get_bin_for_value(row[\"O2 Saturation\"], O2Sat)[1], axis=1\n",
    ")"
   ]
  },
  {
   "cell_type": "code",
   "execution_count": 10,
   "metadata": {},
   "outputs": [
    {
     "data": {
      "text/html": [
       "<div>\n",
       "<style scoped>\n",
       "    .dataframe tbody tr th:only-of-type {\n",
       "        vertical-align: middle;\n",
       "    }\n",
       "\n",
       "    .dataframe tbody tr th {\n",
       "        vertical-align: top;\n",
       "    }\n",
       "\n",
       "    .dataframe thead th {\n",
       "        text-align: right;\n",
       "    }\n",
       "</style>\n",
       "<table border=\"1\" class=\"dataframe\">\n",
       "  <thead>\n",
       "    <tr style=\"text-align: right;\">\n",
       "      <th></th>\n",
       "      <th>ID</th>\n",
       "      <th>Date Recorded</th>\n",
       "      <th>FEV1</th>\n",
       "      <th>O2 Saturation</th>\n",
       "      <th>FEF2575</th>\n",
       "      <th>ecFEV1</th>\n",
       "      <th>ecFEF2575</th>\n",
       "      <th>Sex</th>\n",
       "      <th>Height</th>\n",
       "      <th>Age</th>\n",
       "      <th>...</th>\n",
       "      <th>Healthy O2 Saturation</th>\n",
       "      <th>ecFEV1 % Predicted</th>\n",
       "      <th>FEV1 % Predicted</th>\n",
       "      <th>O2 Saturation % Healthy</th>\n",
       "      <th>ecFEF2575%ecFEV1</th>\n",
       "      <th>Max ecFEV1</th>\n",
       "      <th>Max ecFEF2575</th>\n",
       "      <th>idx ecFEV1 (L)</th>\n",
       "      <th>idx ecFEF25-75 % ecFEV1 (%)</th>\n",
       "      <th>idx O2 saturation (%)</th>\n",
       "    </tr>\n",
       "  </thead>\n",
       "  <tbody>\n",
       "    <tr>\n",
       "      <th>0</th>\n",
       "      <td>101</td>\n",
       "      <td>2019-01-25</td>\n",
       "      <td>1.31</td>\n",
       "      <td>97.0</td>\n",
       "      <td>0.54</td>\n",
       "      <td>1.31</td>\n",
       "      <td>0.67</td>\n",
       "      <td>Male</td>\n",
       "      <td>173.0</td>\n",
       "      <td>53</td>\n",
       "      <td>...</td>\n",
       "      <td>97.150104</td>\n",
       "      <td>36.287474</td>\n",
       "      <td>36.287474</td>\n",
       "      <td>99.845492</td>\n",
       "      <td>41.221374</td>\n",
       "      <td>1.79</td>\n",
       "      <td>1.14</td>\n",
       "      <td>26</td>\n",
       "      <td>20</td>\n",
       "      <td>47</td>\n",
       "    </tr>\n",
       "    <tr>\n",
       "      <th>1</th>\n",
       "      <td>101</td>\n",
       "      <td>2019-01-26</td>\n",
       "      <td>1.31</td>\n",
       "      <td>98.0</td>\n",
       "      <td>0.57</td>\n",
       "      <td>1.31</td>\n",
       "      <td>0.67</td>\n",
       "      <td>Male</td>\n",
       "      <td>173.0</td>\n",
       "      <td>53</td>\n",
       "      <td>...</td>\n",
       "      <td>97.150104</td>\n",
       "      <td>36.287474</td>\n",
       "      <td>36.287474</td>\n",
       "      <td>100.874827</td>\n",
       "      <td>43.511450</td>\n",
       "      <td>1.79</td>\n",
       "      <td>1.14</td>\n",
       "      <td>26</td>\n",
       "      <td>21</td>\n",
       "      <td>48</td>\n",
       "    </tr>\n",
       "    <tr>\n",
       "      <th>2</th>\n",
       "      <td>101</td>\n",
       "      <td>2019-01-27</td>\n",
       "      <td>1.31</td>\n",
       "      <td>96.0</td>\n",
       "      <td>0.67</td>\n",
       "      <td>1.31</td>\n",
       "      <td>0.69</td>\n",
       "      <td>Male</td>\n",
       "      <td>173.0</td>\n",
       "      <td>53</td>\n",
       "      <td>...</td>\n",
       "      <td>97.150104</td>\n",
       "      <td>36.287474</td>\n",
       "      <td>36.287474</td>\n",
       "      <td>98.816157</td>\n",
       "      <td>51.145038</td>\n",
       "      <td>1.79</td>\n",
       "      <td>1.14</td>\n",
       "      <td>26</td>\n",
       "      <td>25</td>\n",
       "      <td>46</td>\n",
       "    </tr>\n",
       "    <tr>\n",
       "      <th>3</th>\n",
       "      <td>101</td>\n",
       "      <td>2019-01-28</td>\n",
       "      <td>1.30</td>\n",
       "      <td>96.0</td>\n",
       "      <td>0.69</td>\n",
       "      <td>1.31</td>\n",
       "      <td>0.69</td>\n",
       "      <td>Male</td>\n",
       "      <td>173.0</td>\n",
       "      <td>53</td>\n",
       "      <td>...</td>\n",
       "      <td>97.150104</td>\n",
       "      <td>36.287474</td>\n",
       "      <td>36.010470</td>\n",
       "      <td>98.816157</td>\n",
       "      <td>53.076923</td>\n",
       "      <td>1.79</td>\n",
       "      <td>1.14</td>\n",
       "      <td>26</td>\n",
       "      <td>26</td>\n",
       "      <td>46</td>\n",
       "    </tr>\n",
       "    <tr>\n",
       "      <th>4</th>\n",
       "      <td>101</td>\n",
       "      <td>2019-01-29</td>\n",
       "      <td>1.28</td>\n",
       "      <td>98.0</td>\n",
       "      <td>0.60</td>\n",
       "      <td>1.30</td>\n",
       "      <td>0.69</td>\n",
       "      <td>Male</td>\n",
       "      <td>173.0</td>\n",
       "      <td>53</td>\n",
       "      <td>...</td>\n",
       "      <td>97.150104</td>\n",
       "      <td>36.010470</td>\n",
       "      <td>35.456463</td>\n",
       "      <td>100.874827</td>\n",
       "      <td>46.875000</td>\n",
       "      <td>1.79</td>\n",
       "      <td>1.14</td>\n",
       "      <td>26</td>\n",
       "      <td>23</td>\n",
       "      <td>48</td>\n",
       "    </tr>\n",
       "  </tbody>\n",
       "</table>\n",
       "<p>5 rows × 21 columns</p>\n",
       "</div>"
      ],
      "text/plain": [
       "    ID Date Recorded  FEV1  O2 Saturation  FEF2575  ecFEV1  ecFEF2575   Sex  \\\n",
       "0  101    2019-01-25  1.31           97.0     0.54    1.31       0.67  Male   \n",
       "1  101    2019-01-26  1.31           98.0     0.57    1.31       0.67  Male   \n",
       "2  101    2019-01-27  1.31           96.0     0.67    1.31       0.69  Male   \n",
       "3  101    2019-01-28  1.30           96.0     0.69    1.31       0.69  Male   \n",
       "4  101    2019-01-29  1.28           98.0     0.60    1.30       0.69  Male   \n",
       "\n",
       "   Height  Age  ...  Healthy O2 Saturation  ecFEV1 % Predicted  \\\n",
       "0   173.0   53  ...              97.150104           36.287474   \n",
       "1   173.0   53  ...              97.150104           36.287474   \n",
       "2   173.0   53  ...              97.150104           36.287474   \n",
       "3   173.0   53  ...              97.150104           36.287474   \n",
       "4   173.0   53  ...              97.150104           36.010470   \n",
       "\n",
       "   FEV1 % Predicted  O2 Saturation % Healthy  ecFEF2575%ecFEV1  Max ecFEV1  \\\n",
       "0         36.287474                99.845492         41.221374        1.79   \n",
       "1         36.287474               100.874827         43.511450        1.79   \n",
       "2         36.287474                98.816157         51.145038        1.79   \n",
       "3         36.010470                98.816157         53.076923        1.79   \n",
       "4         35.456463               100.874827         46.875000        1.79   \n",
       "\n",
       "   Max ecFEF2575  idx ecFEV1 (L)  idx ecFEF25-75 % ecFEV1 (%)  \\\n",
       "0           1.14              26                           20   \n",
       "1           1.14              26                           21   \n",
       "2           1.14              26                           25   \n",
       "3           1.14              26                           26   \n",
       "4           1.14              26                           23   \n",
       "\n",
       "   idx O2 saturation (%)  \n",
       "0                     47  \n",
       "1                     48  \n",
       "2                     46  \n",
       "3                     46  \n",
       "4                     48  \n",
       "\n",
       "[5 rows x 21 columns]"
      ]
     },
     "execution_count": 10,
     "metadata": {},
     "output_type": "execute_result"
    }
   ],
   "source": [
    "df.head()"
   ]
  },
  {
   "cell_type": "code",
   "execution_count": 11,
   "metadata": {},
   "outputs": [],
   "source": [
    "# df.to_excel(\"BR_O2_FEV1_FEF2575_with_idx.xlsx\", index=False)"
   ]
  },
  {
   "cell_type": "markdown",
   "metadata": {},
   "source": [
    "# Use approximate inference (slicing)"
   ]
  },
  {
   "cell_type": "code",
   "execution_count": 55,
   "metadata": {},
   "outputs": [
    {
     "data": {
      "text/plain": [
       "ID                                    101\n",
       "Date Recorded                  2019-01-25\n",
       "FEV1                                 1.31\n",
       "O2 Saturation                        97.0\n",
       "FEF2575                              0.54\n",
       "ecFEV1                               1.31\n",
       "ecFEF2575                            0.67\n",
       "Sex                                  Male\n",
       "Height                              173.0\n",
       "Age                                    53\n",
       "Predicted FEV1                   3.610061\n",
       "Healthy O2 Saturation           97.150104\n",
       "ecFEV1 % Predicted              36.287474\n",
       "FEV1 % Predicted                36.287474\n",
       "O2 Saturation % Healthy         99.845492\n",
       "ecFEF2575%ecFEV1                41.221374\n",
       "Max ecFEV1                           1.79\n",
       "Max ecFEF2575                        1.14\n",
       "idx ecFEV1 (L)                         26\n",
       "idx ecFEF25-75 % ecFEV1 (%)            20\n",
       "idx O2 saturation (%)                  47\n",
       "Name: 0, dtype: object"
      ]
     },
     "execution_count": 55,
     "metadata": {},
     "output_type": "execute_result"
    }
   ],
   "source": [
    "df_for_ID.iloc[0]"
   ]
  },
  {
   "cell_type": "code",
   "execution_count": 67,
   "metadata": {},
   "outputs": [
    {
     "data": {
      "text/html": [
       "<div>\n",
       "<style scoped>\n",
       "    .dataframe tbody tr th:only-of-type {\n",
       "        vertical-align: middle;\n",
       "    }\n",
       "\n",
       "    .dataframe tbody tr th {\n",
       "        vertical-align: top;\n",
       "    }\n",
       "\n",
       "    .dataframe thead th {\n",
       "        text-align: right;\n",
       "    }\n",
       "</style>\n",
       "<table border=\"1\" class=\"dataframe\">\n",
       "  <thead>\n",
       "    <tr style=\"text-align: right;\">\n",
       "      <th></th>\n",
       "      <th>ID</th>\n",
       "      <th>Date Recorded</th>\n",
       "      <th>FEV1</th>\n",
       "      <th>O2 Saturation</th>\n",
       "      <th>FEF2575</th>\n",
       "      <th>ecFEV1</th>\n",
       "      <th>ecFEF2575</th>\n",
       "      <th>Sex</th>\n",
       "      <th>Height</th>\n",
       "      <th>Age</th>\n",
       "      <th>...</th>\n",
       "      <th>Healthy O2 Saturation</th>\n",
       "      <th>ecFEV1 % Predicted</th>\n",
       "      <th>FEV1 % Predicted</th>\n",
       "      <th>O2 Saturation % Healthy</th>\n",
       "      <th>ecFEF2575%ecFEV1</th>\n",
       "      <th>Max ecFEV1</th>\n",
       "      <th>Max ecFEF2575</th>\n",
       "      <th>idx ecFEV1 (L)</th>\n",
       "      <th>idx ecFEF25-75 % ecFEV1 (%)</th>\n",
       "      <th>idx O2 saturation (%)</th>\n",
       "    </tr>\n",
       "  </thead>\n",
       "  <tbody>\n",
       "    <tr>\n",
       "      <th>0</th>\n",
       "      <td>101</td>\n",
       "      <td>2019-01-25</td>\n",
       "      <td>1.31</td>\n",
       "      <td>97.0</td>\n",
       "      <td>0.54</td>\n",
       "      <td>1.31</td>\n",
       "      <td>0.67</td>\n",
       "      <td>Male</td>\n",
       "      <td>173.0</td>\n",
       "      <td>53</td>\n",
       "      <td>...</td>\n",
       "      <td>97.150104</td>\n",
       "      <td>36.287474</td>\n",
       "      <td>36.287474</td>\n",
       "      <td>99.845492</td>\n",
       "      <td>41.221374</td>\n",
       "      <td>1.79</td>\n",
       "      <td>1.14</td>\n",
       "      <td>26</td>\n",
       "      <td>20</td>\n",
       "      <td>47</td>\n",
       "    </tr>\n",
       "    <tr>\n",
       "      <th>1576</th>\n",
       "      <td>101</td>\n",
       "      <td>2023-07-31</td>\n",
       "      <td>1.79</td>\n",
       "      <td>98.0</td>\n",
       "      <td>1.14</td>\n",
       "      <td>1.79</td>\n",
       "      <td>1.15</td>\n",
       "      <td>Male</td>\n",
       "      <td>173.0</td>\n",
       "      <td>53</td>\n",
       "      <td>...</td>\n",
       "      <td>97.150104</td>\n",
       "      <td>49.583647</td>\n",
       "      <td>49.583647</td>\n",
       "      <td>100.874827</td>\n",
       "      <td>63.687151</td>\n",
       "      <td>1.79</td>\n",
       "      <td>1.14</td>\n",
       "      <td>35</td>\n",
       "      <td>31</td>\n",
       "      <td>48</td>\n",
       "    </tr>\n",
       "  </tbody>\n",
       "</table>\n",
       "<p>2 rows × 21 columns</p>\n",
       "</div>"
      ],
      "text/plain": [
       "       ID Date Recorded  FEV1  O2 Saturation  FEF2575  ecFEV1  ecFEF2575  \\\n",
       "0     101    2019-01-25  1.31           97.0     0.54    1.31       0.67   \n",
       "1576  101    2023-07-31  1.79           98.0     1.14    1.79       1.15   \n",
       "\n",
       "       Sex  Height  Age  ...  Healthy O2 Saturation  ecFEV1 % Predicted  \\\n",
       "0     Male   173.0   53  ...              97.150104           36.287474   \n",
       "1576  Male   173.0   53  ...              97.150104           49.583647   \n",
       "\n",
       "      FEV1 % Predicted  O2 Saturation % Healthy  ecFEF2575%ecFEV1  Max ecFEV1  \\\n",
       "0            36.287474                99.845492         41.221374        1.79   \n",
       "1576         49.583647               100.874827         63.687151        1.79   \n",
       "\n",
       "      Max ecFEF2575  idx ecFEV1 (L)  idx ecFEF25-75 % ecFEV1 (%)  \\\n",
       "0              1.14              26                           20   \n",
       "1576           1.14              35                           31   \n",
       "\n",
       "      idx O2 saturation (%)  \n",
       "0                        47  \n",
       "1576                     48  \n",
       "\n",
       "[2 rows x 21 columns]"
      ]
     },
     "execution_count": 67,
     "metadata": {},
     "output_type": "execute_result"
    }
   ],
   "source": [
    "idx = df_for_ID.sort_values(\n",
    "    by=[\"ecFEV1\", \"ecFEF2575\", \"O2 Saturation\"], ascending=False\n",
    ").index[0]\n",
    "\n",
    "df_for_ID.loc[idx]\n",
    "\n",
    "# pd.concat([df_for_ID.iloc[0], df_for_ID.iloc[idx]], axis=1)"
   ]
  },
  {
   "cell_type": "code",
   "execution_count": 5,
   "metadata": {},
   "outputs": [],
   "source": [
    "(HFEV1, ecFEV1, AR, HO2Sat, O2SatFFA, IA, UO2Sat, O2Sat, ecFEF2575prctecFEV1) = (\n",
    "    var_builders.o2sat_fev1_fef2575_point_in_time_model_shared_healthy_vars(\n",
    "        160, 40, \"Male\"\n",
    "    )\n",
    ")\n",
    "\n",
    "key_hfev1 = f\"['{ecFEV1.name}', '{HFEV1.name}', '{AR.name}'] -> {HFEV1.name}\"\n",
    "key_ho2sat = f\"['{O2SatFFA.name}', '{HO2Sat.name}', '{AR.name}'] -> {HO2Sat.name}\"\n",
    "HFEV1.set_factor_node_key(key_hfev1)\n",
    "HO2Sat.set_factor_node_key(key_ho2sat)\n",
    "\n",
    "vars = [AR, IA]\n",
    "shared_vars = [HFEV1, HO2Sat]\n",
    "obs_vars = [ecFEV1.name, O2Sat.name]\n",
    "# obs_vars = [ecFEV1.name, O2Sat.name, ecFEF2575prctecFEV1.name]\n",
    "\n",
    "\n",
    "def infer_and_plot_for_id(df_for_ID, shared_vars, vars, obs_vars, diff_threshold=1e-8):\n",
    "    for shared_var in shared_vars:\n",
    "        shared_var.reset()\n",
    "    df_for_ID = df_for_ID.reset_index(drop=True)\n",
    "    print(f\"\\nID: {df_for_ID.ID.iloc[0]}\")\n",
    "    print(f\"#datapoints: {len(df_for_ID)}\")\n",
    "\n",
    "    height = df_for_ID.Height.iloc[0]\n",
    "    age = df_for_ID.Age.iloc[0]\n",
    "    sex = df_for_ID.Sex.iloc[0]\n",
    "    (\n",
    "        _,\n",
    "        inf_alg,\n",
    "        HFEV1,\n",
    "        ecFEV1,\n",
    "        AR,\n",
    "        HO2Sat,\n",
    "        O2SatFFA,\n",
    "        IA,\n",
    "        UO2Sat,\n",
    "        O2Sat,\n",
    "        ecFEF2575prctecFEV1,\n",
    "    ) = mb.o2sat_fev1_fef2575_point_in_time_model_shared_healthy_vars(height, age, sex)\n",
    "\n",
    "    # Given an ID, get the data which maximises ecFEV1, then ecFEF2575, then O2 Saturation\n",
    "    idx_unblocked_FEV1 = df_for_ID.sort_values(\n",
    "        by=[\"ecFEV1\", \"ecFEF2575\", \"O2 Saturation\"], ascending=False\n",
    "    ).index[0]\n",
    "\n",
    "    for i, _ in df_for_ID[0:1].iterrows():\n",
    "        df_two_days = df_for_ID.iloc[[i, idx_unblocked_FEV1]]\n",
    "\n",
    "        df_query_res, df_res_before_convergence, shared_vars_final = (\n",
    "            slicing.query_across_days(\n",
    "                df_two_days, inf_alg, shared_vars, vars, obs_vars, diff_threshold\n",
    "            )\n",
    "        )\n",
    "\n",
    "    return df_query_res, df_res_before_convergence, shared_vars_final\n",
    "\n",
    "\n",
    "df_for_ID = df[df[\"ID\"] == \"101\"]\n",
    "df_query_res, df_res_before_convergence, shared_vars_final = infer_and_plot_for_id(\n",
    "    df_for_ID, shared_vars, vars, obs_vars, diff_threshold=1e-2\n",
    ")\n",
    "\n",
    "# df.groupby(\"ID\").apply(\n",
    "#     lambda df_for_ID: infer_and_plot_for_id(\n",
    "#         df_for_ID, shared_vars, vars, obs_vars, diff_threshold=1e-6\n",
    "#     )\n",
    "# )"
   ]
  },
  {
   "cell_type": "code",
   "execution_count": 109,
   "metadata": {},
   "outputs": [
    {
     "data": {
      "text/html": [
       "<div>\n",
       "<style scoped>\n",
       "    .dataframe tbody tr th:only-of-type {\n",
       "        vertical-align: middle;\n",
       "    }\n",
       "\n",
       "    .dataframe tbody tr th {\n",
       "        vertical-align: top;\n",
       "    }\n",
       "\n",
       "    .dataframe thead th {\n",
       "        text-align: right;\n",
       "    }\n",
       "</style>\n",
       "<table border=\"1\" class=\"dataframe\">\n",
       "  <thead>\n",
       "    <tr style=\"text-align: right;\">\n",
       "      <th></th>\n",
       "      <th>Day</th>\n",
       "      <th>Airway resistance (%)</th>\n",
       "      <th>Inactive alveoli (%)</th>\n",
       "      <th>Healthy FEV1 (L)</th>\n",
       "      <th>Healthy O2 saturation (%)</th>\n",
       "    </tr>\n",
       "  </thead>\n",
       "  <tbody>\n",
       "    <tr>\n",
       "      <th>0</th>\n",
       "      <td>2019-01-25</td>\n",
       "      <td>[0.0, 0.0, 0.0, 0.0, 0.0, 0.0, 0.0, 0.0, 0.0, ...</td>\n",
       "      <td>[0.7285264891441958, 0.2334362304876964, 0.035...</td>\n",
       "      <td>[0.0, 0.0, 0.0, 0.0, 0.0, 0.0, 0.0, 0.0, 0.0, ...</td>\n",
       "      <td>[0.0, 0.0, 0.0, 0.0, 0.0, 0.0, 0.0, 0.0, 0.0, ...</td>\n",
       "    </tr>\n",
       "    <tr>\n",
       "      <th>1</th>\n",
       "      <td>2023-07-31</td>\n",
       "      <td>[1.149777912333138e-05, 3.459197720488003e-05,...</td>\n",
       "      <td>[0.8111381584522424, 0.17105992825686503, 0.01...</td>\n",
       "      <td>[0.0, 0.0, 0.0, 0.0, 0.0, 0.0, 0.0, 0.0, 0.0, ...</td>\n",
       "      <td>[0.0, 0.0, 0.0, 0.0, 0.0, 0.0, 0.0, 0.0, 0.0, ...</td>\n",
       "    </tr>\n",
       "  </tbody>\n",
       "</table>\n",
       "</div>"
      ],
      "text/plain": [
       "          Day                              Airway resistance (%)  \\\n",
       "0  2019-01-25  [0.0, 0.0, 0.0, 0.0, 0.0, 0.0, 0.0, 0.0, 0.0, ...   \n",
       "1  2023-07-31  [1.149777912333138e-05, 3.459197720488003e-05,...   \n",
       "\n",
       "                                Inactive alveoli (%)  \\\n",
       "0  [0.7285264891441958, 0.2334362304876964, 0.035...   \n",
       "1  [0.8111381584522424, 0.17105992825686503, 0.01...   \n",
       "\n",
       "                                    Healthy FEV1 (L)  \\\n",
       "0  [0.0, 0.0, 0.0, 0.0, 0.0, 0.0, 0.0, 0.0, 0.0, ...   \n",
       "1  [0.0, 0.0, 0.0, 0.0, 0.0, 0.0, 0.0, 0.0, 0.0, ...   \n",
       "\n",
       "                           Healthy O2 saturation (%)  \n",
       "0  [0.0, 0.0, 0.0, 0.0, 0.0, 0.0, 0.0, 0.0, 0.0, ...  \n",
       "1  [0.0, 0.0, 0.0, 0.0, 0.0, 0.0, 0.0, 0.0, 0.0, ...  "
      ]
     },
     "execution_count": 109,
     "metadata": {},
     "output_type": "execute_result"
    }
   ],
   "source": [
    "df_query_res"
   ]
  },
  {
   "cell_type": "code",
   "execution_count": 112,
   "metadata": {},
   "outputs": [
    {
     "data": {
      "application/vnd.plotly.v1+json": {
       "config": {
        "plotlyServerURL": "https://plot.ly"
       },
       "data": [
        {
         "histfunc": "sum",
         "marker": {
          "color": "#0072b2"
         },
         "type": "histogram",
         "x": [
          1,
          1.05,
          1.1,
          1.1500000000000001,
          1.2000000000000002,
          1.2500000000000002,
          1.3000000000000003,
          1.3500000000000003,
          1.4000000000000004,
          1.4500000000000004,
          1.5000000000000004,
          1.5500000000000005,
          1.6000000000000005,
          1.6500000000000006,
          1.7000000000000006,
          1.7500000000000007,
          1.8000000000000007,
          1.8500000000000008,
          1.9000000000000008,
          1.9500000000000008,
          2.000000000000001,
          2.0500000000000007,
          2.100000000000001,
          2.1500000000000012,
          2.200000000000001,
          2.250000000000001,
          2.300000000000001,
          2.3500000000000014,
          2.4000000000000012,
          2.450000000000001,
          2.5000000000000013,
          2.5500000000000016,
          2.6000000000000014,
          2.6500000000000012,
          2.7000000000000015,
          2.7500000000000018,
          2.8000000000000016,
          2.8500000000000014,
          2.9000000000000017,
          2.950000000000002,
          3.0000000000000018,
          3.0500000000000016,
          3.100000000000002,
          3.150000000000002,
          3.200000000000002,
          3.2500000000000018,
          3.300000000000002,
          3.3500000000000023,
          3.400000000000002,
          3.450000000000002,
          3.500000000000002,
          3.5500000000000025,
          3.6000000000000023,
          3.650000000000002,
          3.7000000000000024,
          3.7500000000000027,
          3.8000000000000025,
          3.8500000000000023,
          3.9000000000000026,
          3.950000000000003,
          4.000000000000003,
          4.0500000000000025,
          4.100000000000003,
          4.150000000000003,
          4.200000000000003,
          4.250000000000003,
          4.3000000000000025,
          4.350000000000003,
          4.400000000000003,
          4.450000000000003,
          4.5000000000000036,
          4.550000000000003,
          4.600000000000003,
          4.650000000000003,
          4.700000000000003,
          4.7500000000000036,
          4.800000000000003,
          4.850000000000003,
          4.900000000000004,
          4.950000000000004,
          5.0000000000000036,
          5.050000000000003,
          5.100000000000003,
          5.150000000000004,
          5.200000000000004,
          5.2500000000000036,
          5.300000000000004,
          5.350000000000004,
          5.400000000000004,
          5.450000000000004,
          5.5000000000000036,
          5.550000000000004,
          5.600000000000004,
          5.650000000000004,
          5.700000000000005,
          5.750000000000004,
          5.800000000000004,
          5.850000000000004,
          5.900000000000004,
          5.950000000000005
         ],
         "xaxis": "x",
         "xbins": {
          "end": 6,
          "size": 0.05,
          "start": 1
         },
         "y": [
          9.970244999001579e-8,
          1.6229071958263915e-7,
          2.6290082613821056e-7,
          4.2366208381784595e-7,
          6.788989532442225e-7,
          0.000001081398187778667,
          0.0000017116141262489085,
          0.000002691023916203299,
          0.000004201252747548069,
          0.000006511086902802889,
          0.000010014073636408045,
          0.000015280048231342625,
          0.000023124580807018207,
          0.00003470091375558528,
          0.0000516193349600835,
          0.00007609891905426881,
          0.00011115592995659887,
          0.0001608316240933955,
          0.00023045940640784818,
          0.0003269669593862322,
          0.00045920284474697075,
          0.0006382690721904335,
          0.0008778313915368628,
          0.0011943681006169348,
          0.001607306930348414,
          0.0021389895420437554,
          0.002814396326906728,
          0.003660562907925625,
          0.004705626546243417,
          0.005977457873496175,
          0.0075018626293652585,
          0.009300379728449895,
          0.011387754537742082,
          0.013769226001440413,
          0.016437827108093658,
          0.019371951939177703,
          0.0225334795775096,
          0.025866755765996948,
          0.029298709173547453,
          0.03274031554107239,
          0.03608951992039346,
          0.039235590877073054,
          0.04206472348192063,
          0.044466548255938605,
          0.046341062503744174,
          0.04760540060275092,
          0.04819981949700704,
          0.04809230675543156,
          0.04728132339087858,
          0.04579636357229583,
          0.043696229363186546,
          0.04106515368552337,
          0.03800712790730409,
          0.034638971855247294,
          0.031082799650970883,
          0.027458570408980358,
          0.023877366424132938,
          0.02043592301079025,
          0.017212763624060535,
          0.014266097519984654,
          0.011633442834848729,
          0.009332770476822162,
          0.007364841928390408,
          0.005716346536102888,
          0.004363431589154318,
          0.003275254049446975,
          0.0024172532801990856,
          0.0017539340449494471,
          0.001251043215408526,
          0.0008771093919418103,
          0.0006043833049902978,
          0.00040926410937269336,
          0.0002723221792484681,
          0.00017803547656537852,
          0.00011434855525196359,
          0.00007214598735948755,
          0.00004471036199306097,
          0.000027212985137622733,
          0.000016265746881448175,
          0.000009546844154315619,
          0.000005501639840565625,
          0.0000031126465329508825,
          0.000001728748933239878,
          9.424492430132081e-7,
          5.042753052228507e-7,
          2.648019496478799e-7,
          1.3645163890003298e-7,
          6.899237208801047e-8,
          3.422544203353802e-8,
          1.665650677005147e-8,
          7.95183082358867e-9,
          3.723577757703489e-9,
          1.7101169775635414e-9,
          7.702391146595134e-10,
          3.401905127982234e-10,
          1.4732568574059673e-10,
          6.255433358136172e-11,
          2.6038876541281417e-11,
          1.0625184582562716e-11,
          4.2497545485007945e-12
         ],
         "yaxis": "y"
        },
        {
         "histfunc": "sum",
         "marker": {
          "color": "#009e73"
         },
         "type": "histogram",
         "x": [
          90,
          90.5,
          91,
          91.5,
          92,
          92.5,
          93,
          93.5,
          94,
          94.5,
          95,
          95.5,
          96,
          96.5,
          97,
          97.5,
          98,
          98.5,
          99,
          99.5
         ],
         "xaxis": "x2",
         "xbins": {
          "end": 100,
          "size": 0.5,
          "start": 90
         },
         "y": [
          5.582966273322775e-38,
          5.332321732299337e-33,
          2.2142062681463996e-28,
          3.997331778468794e-24,
          3.1374203286902577e-20,
          1.0705959740650122e-16,
          1.5882866856413226e-13,
          1.0244306752321821e-10,
          2.8726759806626877e-8,
          0.0000035022012732975554,
          0.00018562905327416113,
          0.0042776100118100254,
          0.042855524536968795,
          0.1866649732039658,
          0.35348357545541254,
          0.2910221439222484,
          0.10416773523850709,
          0.0162102905087362,
          0.0010967275765346484,
          0.000032259461907143574
         ],
         "yaxis": "y2"
        },
        {
         "histfunc": "sum",
         "marker": {
          "color": "#0072b2"
         },
         "type": "histogram",
         "x": [
          1,
          1.05,
          1.1,
          1.1500000000000001,
          1.2000000000000002,
          1.2500000000000002,
          1.3000000000000003,
          1.3500000000000003,
          1.4000000000000004,
          1.4500000000000004,
          1.5000000000000004,
          1.5500000000000005,
          1.6000000000000005,
          1.6500000000000006,
          1.7000000000000006,
          1.7500000000000007,
          1.8000000000000007,
          1.8500000000000008,
          1.9000000000000008,
          1.9500000000000008,
          2.000000000000001,
          2.0500000000000007,
          2.100000000000001,
          2.1500000000000012,
          2.200000000000001,
          2.250000000000001,
          2.300000000000001,
          2.3500000000000014,
          2.4000000000000012,
          2.450000000000001,
          2.5000000000000013,
          2.5500000000000016,
          2.6000000000000014,
          2.6500000000000012,
          2.7000000000000015,
          2.7500000000000018,
          2.8000000000000016,
          2.8500000000000014,
          2.9000000000000017,
          2.950000000000002,
          3.0000000000000018,
          3.0500000000000016,
          3.100000000000002,
          3.150000000000002,
          3.200000000000002,
          3.2500000000000018,
          3.300000000000002,
          3.3500000000000023,
          3.400000000000002,
          3.450000000000002,
          3.500000000000002,
          3.5500000000000025,
          3.6000000000000023,
          3.650000000000002,
          3.7000000000000024,
          3.7500000000000027,
          3.8000000000000025,
          3.8500000000000023,
          3.9000000000000026,
          3.950000000000003,
          4.000000000000003,
          4.0500000000000025,
          4.100000000000003,
          4.150000000000003,
          4.200000000000003,
          4.250000000000003,
          4.3000000000000025,
          4.350000000000003,
          4.400000000000003,
          4.450000000000003,
          4.5000000000000036,
          4.550000000000003,
          4.600000000000003,
          4.650000000000003,
          4.700000000000003,
          4.7500000000000036,
          4.800000000000003,
          4.850000000000003,
          4.900000000000004,
          4.950000000000004,
          5.0000000000000036,
          5.050000000000003,
          5.100000000000003,
          5.150000000000004,
          5.200000000000004,
          5.2500000000000036,
          5.300000000000004,
          5.350000000000004,
          5.400000000000004,
          5.450000000000004,
          5.5000000000000036,
          5.550000000000004,
          5.600000000000004,
          5.650000000000004,
          5.700000000000005,
          5.750000000000004,
          5.800000000000004,
          5.850000000000004,
          5.900000000000004,
          5.950000000000005
         ],
         "xaxis": "x3",
         "xbins": {
          "end": 6,
          "size": 0.05,
          "start": 1
         },
         "y": [
          0,
          0,
          0,
          0,
          0,
          0,
          0,
          0,
          0,
          0,
          0,
          0,
          0,
          0,
          0,
          0.0007010045950708565,
          0.0018148633485952322,
          0.002327801584997972,
          0.0029715789719552657,
          0.003763841121322657,
          0.0046738433903416345,
          0.005628142822462203,
          0.006613362240652572,
          0.007725242178184437,
          0.009043165560970312,
          0.010559708321181792,
          0.01235486110535204,
          0.014435395075482488,
          0.016806307614097876,
          0.01953830921069146,
          0.022609064263886935,
          0.026030320816747048,
          0.02982221543336853,
          0.033428488693736644,
          0.036656287749256736,
          0.03820971810482692,
          0.039115529892632984,
          0.038634893100729026,
          0.03826859679484046,
          0.03742378424626713,
          0.036972868373079226,
          0.03669642706033739,
          0.03684534049834745,
          0.03627913633389044,
          0.035805159630489816,
          0.035456348583507845,
          0.03370125999103663,
          0.03261643683598065,
          0.03143072415653986,
          0.029197135318157638,
          0.026896743772535932,
          0.024689806794436952,
          0.02308457443760643,
          0.02019290095532145,
          0.017041650200877976,
          0.015082165994101544,
          0.013695660363903043,
          0.011285905848339146,
          0.00916090683776763,
          0.007622024367362124,
          0.00643707161671898,
          0.005196694267934288,
          0.003963800682299111,
          0.0029645857780629748,
          0.002142105547608896,
          0.0017073347827927113,
          0.0013993252931747255,
          0.0010446878357354655,
          0.0007071130993575475,
          0.000457995698267748,
          0.0003231521348658432,
          0.00025440988203520186,
          0.00019115033750590691,
          0.00012206130754423991,
          0.00007072146305894624,
          0.00004156681795244,
          0.000024578505133318648,
          0.000016813082540249253,
          0.000010611511644658346,
          0.000006448942732948303,
          0.0000037981948661530666,
          0.000002155550690107343,
          0.0000011470142988365081,
          5.236318350282057e-7,
          2.666534876781142e-7,
          1.5440587376795898e-7,
          9.494346441510608e-8,
          6.089494625114733e-8,
          3.702079546712883e-8,
          1.851369602852345e-8,
          7.545923607790896e-9,
          2.656286442122723e-9,
          8.226453885224036e-10,
          4.3193146633429686e-10,
          2.5167114641700894e-10,
          1.4459943865717664e-10,
          8.124853811790684e-11,
          4.012769869024297e-11,
          1.7283883246231677e-11,
          6.0920539749911926e-12
         ],
         "yaxis": "y3"
        },
        {
         "histfunc": "sum",
         "marker": {
          "color": "#009e73"
         },
         "type": "histogram",
         "x": [
          90,
          90.5,
          91,
          91.5,
          92,
          92.5,
          93,
          93.5,
          94,
          94.5,
          95,
          95.5,
          96,
          96.5,
          97,
          97.5,
          98,
          98.5,
          99,
          99.5
         ],
         "xaxis": "x4",
         "xbins": {
          "end": 100,
          "size": 0.5,
          "start": 90
         },
         "y": [
          0,
          0,
          0,
          0,
          0,
          0,
          0,
          0,
          0,
          2.121844872666738e-11,
          3.3596453607126906e-8,
          0.00001147282546609026,
          0.0010467762650669928,
          0.02717635403139439,
          0.20042302176046126,
          0.43034280043619927,
          0.2794881488712093,
          0.057451196017019424,
          0.003961912288789392,
          0.00009828388672165745
         ],
         "yaxis": "y4"
        },
        {
         "histfunc": "sum",
         "marker": {
          "color": "#d55e00"
         },
         "type": "histogram",
         "x": [
          0,
          2,
          4,
          6,
          8,
          10,
          12,
          14,
          16,
          18,
          20,
          22,
          24,
          26,
          28,
          30,
          32,
          34,
          36,
          38,
          40,
          42,
          44,
          46,
          48,
          50,
          52,
          54,
          56,
          58,
          60,
          62,
          64,
          66,
          68,
          70,
          72,
          74,
          76,
          78,
          80,
          82,
          84,
          86,
          88
         ],
         "xaxis": "x5",
         "xbins": {
          "end": 90,
          "size": 2,
          "start": 0
         },
         "y": [
          0,
          0,
          0,
          0,
          0,
          0,
          0,
          0,
          0,
          0,
          0,
          0.00007446681221355724,
          0.000594086072311831,
          0.0015453383108651286,
          0.0023769663994353592,
          0.0032810643117064543,
          0.00457080559236376,
          0.006282688367240935,
          0.008385863787770257,
          0.011035741204764941,
          0.014841044111586515,
          0.020356654837215684,
          0.02840785825423005,
          0.040114655082848616,
          0.05696928327310321,
          0.07755639881285441,
          0.09269638902279792,
          0.09940481672513604,
          0.10565554047948211,
          0.11270711679700238,
          0.11103149378478265,
          0.09463771731816362,
          0.06339422844639171,
          0.03223672328791984,
          0.009920088963561929,
          0.0018015229438154347,
          0.00011934849489775965,
          0.0000020916777413219655,
          6.827092917965948e-9,
          7.035880405794353e-13,
          0,
          0,
          0,
          0,
          0
         ],
         "yaxis": "y5"
        },
        {
         "histfunc": "sum",
         "marker": {
          "color": "#d55e00"
         },
         "type": "histogram",
         "x": [
          0,
          2,
          4,
          6,
          8,
          10,
          12,
          14,
          16,
          18,
          20,
          22,
          24,
          26,
          28,
          30,
          32,
          34,
          36,
          38,
          40,
          42,
          44,
          46,
          48,
          50,
          52,
          54,
          56,
          58,
          60,
          62,
          64,
          66,
          68,
          70,
          72,
          74,
          76,
          78,
          80,
          82,
          84,
          86,
          88
         ],
         "xaxis": "x7",
         "xbins": {
          "end": 90,
          "size": 2,
          "start": 0
         },
         "y": [
          0.0011286972120282816,
          0.001415695739241656,
          0.0017869024926082245,
          0.0022691463518929975,
          0.002899595587087967,
          0.003702582398059033,
          0.00466989009912063,
          0.005799893406877668,
          0.007143910129209773,
          0.008843695153849277,
          0.011062100620075,
          0.014009950740005826,
          0.017891065839947925,
          0.022946924592401836,
          0.02979614467084522,
          0.03878126359822097,
          0.050463669719721056,
          0.06253552808630858,
          0.0700141084664978,
          0.07302750604921471,
          0.07502072575210801,
          0.07990218097359823,
          0.08377444835947663,
          0.08382941682744037,
          0.07853059282783813,
          0.06677407854233433,
          0.04878144288528639,
          0.030617573722040454,
          0.015162541845977156,
          0.005693030950003809,
          0.0014748771103185484,
          0.0002326746892121723,
          0.00001760298883177455,
          5.361321359213514e-7,
          5.42256187884993e-9,
          1.762172867089265e-11,
          0,
          0,
          0,
          0,
          0,
          0,
          0,
          0,
          0
         ],
         "yaxis": "y7"
        },
        {
         "histfunc": "sum",
         "marker": {
          "color": "#d55e00"
         },
         "type": "histogram",
         "x": [
          0,
          1,
          2,
          3,
          4,
          5,
          6,
          7,
          8,
          9,
          10,
          11,
          12,
          13,
          14,
          15,
          16,
          17,
          18,
          19,
          20,
          21,
          22,
          23,
          24,
          25,
          26,
          27,
          28,
          29
         ],
         "xaxis": "x6",
         "xbins": {
          "end": 30,
          "size": 1,
          "start": 0
         },
         "y": [
          0.7096781291009916,
          0.24579384615574595,
          0.04102648188888809,
          0.003340064328237711,
          0.00015837106230524707,
          0.000003098662285554616,
          8.801545985592286e-9,
          0,
          0,
          0,
          0,
          0,
          0,
          0,
          0,
          0,
          0,
          0,
          0,
          0,
          0,
          0,
          0,
          0,
          0,
          0,
          0,
          0,
          0,
          0
         ],
         "yaxis": "y6"
        },
        {
         "histfunc": "sum",
         "marker": {
          "color": "#d55e00"
         },
         "type": "histogram",
         "x": [
          0,
          1,
          2,
          3,
          4,
          5,
          6,
          7,
          8,
          9,
          10,
          11,
          12,
          13,
          14,
          15,
          16,
          17,
          18,
          19,
          20,
          21,
          22,
          23,
          24,
          25,
          26,
          27,
          28,
          29
         ],
         "xaxis": "x8",
         "xbins": {
          "end": 30,
          "size": 1,
          "start": 0
         },
         "y": [
          0.7968573829498137,
          0.18247438856020826,
          0.0197282598649216,
          0.0009296606600221761,
          0.000010301019129179606,
          6.945905082622641e-9,
          0,
          0,
          0,
          0,
          0,
          0,
          0,
          0,
          0,
          0,
          0,
          0,
          0,
          0,
          0,
          0,
          0,
          0,
          0,
          0,
          0,
          0,
          0,
          0
         ],
         "yaxis": "y8"
        }
       ],
       "layout": {
        "annotations": [
         {
          "font": {
           "size": 6
          },
          "showarrow": false,
          "text": "3.33",
          "x": 3.326728987760962,
          "xref": "x",
          "y": 0.053019801446707746,
          "yref": "y"
         },
         {
          "font": {
           "size": 6
          },
          "showarrow": false,
          "text": "97.38",
          "x": 97.3832838204647,
          "xref": "x2",
          "y": 0.3888319330009538,
          "yref": "y2"
         },
         {
          "font": {
           "size": 6
          },
          "showarrow": false,
          "text": "3.07",
          "x": 3.0674398487050607,
          "xref": "x3",
          "y": 0.043027082881896286,
          "yref": "y3"
         },
         {
          "font": {
           "size": 6
          },
          "showarrow": false,
          "text": "97.82",
          "x": 97.82435364764429,
          "xref": "x4",
          "y": 0.47337708047981925,
          "yref": "y4"
         },
         {
          "font": {
           "size": 6
          },
          "showarrow": false,
          "text": "55.62",
          "x": 55.62387415027362,
          "xref": "x5",
          "y": 0.12397782847670262,
          "yref": "y5"
         },
         {
          "font": {
           "size": 6
          },
          "showarrow": false,
          "text": "40.56",
          "x": 40.56482262809455,
          "xref": "x7",
          "y": 0.09221235851018442,
          "yref": "y7"
         },
         {
          "font": {
           "size": 6
          },
          "showarrow": false,
          "text": "0.84",
          "x": 0.83851603328816,
          "xref": "x6",
          "y": 0.7806459420110908,
          "yref": "y6"
         },
         {
          "font": {
           "size": 6
          },
          "showarrow": false,
          "text": "0.72",
          "x": 0.72476112907616,
          "xref": "x8",
          "y": 0.8765431212447952,
          "yref": "y8"
         }
        ],
        "font": {
         "size": 8
        },
        "height": 600,
        "showlegend": false,
        "template": {
         "data": {
          "bar": [
           {
            "error_x": {
             "color": "#2a3f5f"
            },
            "error_y": {
             "color": "#2a3f5f"
            },
            "marker": {
             "line": {
              "color": "#E5ECF6",
              "width": 0.5
             },
             "pattern": {
              "fillmode": "overlay",
              "size": 10,
              "solidity": 0.2
             }
            },
            "type": "bar"
           }
          ],
          "barpolar": [
           {
            "marker": {
             "line": {
              "color": "#E5ECF6",
              "width": 0.5
             },
             "pattern": {
              "fillmode": "overlay",
              "size": 10,
              "solidity": 0.2
             }
            },
            "type": "barpolar"
           }
          ],
          "carpet": [
           {
            "aaxis": {
             "endlinecolor": "#2a3f5f",
             "gridcolor": "white",
             "linecolor": "white",
             "minorgridcolor": "white",
             "startlinecolor": "#2a3f5f"
            },
            "baxis": {
             "endlinecolor": "#2a3f5f",
             "gridcolor": "white",
             "linecolor": "white",
             "minorgridcolor": "white",
             "startlinecolor": "#2a3f5f"
            },
            "type": "carpet"
           }
          ],
          "choropleth": [
           {
            "colorbar": {
             "outlinewidth": 0,
             "ticks": ""
            },
            "type": "choropleth"
           }
          ],
          "contour": [
           {
            "colorbar": {
             "outlinewidth": 0,
             "ticks": ""
            },
            "colorscale": [
             [
              0,
              "#0d0887"
             ],
             [
              0.1111111111111111,
              "#46039f"
             ],
             [
              0.2222222222222222,
              "#7201a8"
             ],
             [
              0.3333333333333333,
              "#9c179e"
             ],
             [
              0.4444444444444444,
              "#bd3786"
             ],
             [
              0.5555555555555556,
              "#d8576b"
             ],
             [
              0.6666666666666666,
              "#ed7953"
             ],
             [
              0.7777777777777778,
              "#fb9f3a"
             ],
             [
              0.8888888888888888,
              "#fdca26"
             ],
             [
              1,
              "#f0f921"
             ]
            ],
            "type": "contour"
           }
          ],
          "contourcarpet": [
           {
            "colorbar": {
             "outlinewidth": 0,
             "ticks": ""
            },
            "type": "contourcarpet"
           }
          ],
          "heatmap": [
           {
            "colorbar": {
             "outlinewidth": 0,
             "ticks": ""
            },
            "colorscale": [
             [
              0,
              "#0d0887"
             ],
             [
              0.1111111111111111,
              "#46039f"
             ],
             [
              0.2222222222222222,
              "#7201a8"
             ],
             [
              0.3333333333333333,
              "#9c179e"
             ],
             [
              0.4444444444444444,
              "#bd3786"
             ],
             [
              0.5555555555555556,
              "#d8576b"
             ],
             [
              0.6666666666666666,
              "#ed7953"
             ],
             [
              0.7777777777777778,
              "#fb9f3a"
             ],
             [
              0.8888888888888888,
              "#fdca26"
             ],
             [
              1,
              "#f0f921"
             ]
            ],
            "type": "heatmap"
           }
          ],
          "heatmapgl": [
           {
            "colorbar": {
             "outlinewidth": 0,
             "ticks": ""
            },
            "colorscale": [
             [
              0,
              "#0d0887"
             ],
             [
              0.1111111111111111,
              "#46039f"
             ],
             [
              0.2222222222222222,
              "#7201a8"
             ],
             [
              0.3333333333333333,
              "#9c179e"
             ],
             [
              0.4444444444444444,
              "#bd3786"
             ],
             [
              0.5555555555555556,
              "#d8576b"
             ],
             [
              0.6666666666666666,
              "#ed7953"
             ],
             [
              0.7777777777777778,
              "#fb9f3a"
             ],
             [
              0.8888888888888888,
              "#fdca26"
             ],
             [
              1,
              "#f0f921"
             ]
            ],
            "type": "heatmapgl"
           }
          ],
          "histogram": [
           {
            "marker": {
             "pattern": {
              "fillmode": "overlay",
              "size": 10,
              "solidity": 0.2
             }
            },
            "type": "histogram"
           }
          ],
          "histogram2d": [
           {
            "colorbar": {
             "outlinewidth": 0,
             "ticks": ""
            },
            "colorscale": [
             [
              0,
              "#0d0887"
             ],
             [
              0.1111111111111111,
              "#46039f"
             ],
             [
              0.2222222222222222,
              "#7201a8"
             ],
             [
              0.3333333333333333,
              "#9c179e"
             ],
             [
              0.4444444444444444,
              "#bd3786"
             ],
             [
              0.5555555555555556,
              "#d8576b"
             ],
             [
              0.6666666666666666,
              "#ed7953"
             ],
             [
              0.7777777777777778,
              "#fb9f3a"
             ],
             [
              0.8888888888888888,
              "#fdca26"
             ],
             [
              1,
              "#f0f921"
             ]
            ],
            "type": "histogram2d"
           }
          ],
          "histogram2dcontour": [
           {
            "colorbar": {
             "outlinewidth": 0,
             "ticks": ""
            },
            "colorscale": [
             [
              0,
              "#0d0887"
             ],
             [
              0.1111111111111111,
              "#46039f"
             ],
             [
              0.2222222222222222,
              "#7201a8"
             ],
             [
              0.3333333333333333,
              "#9c179e"
             ],
             [
              0.4444444444444444,
              "#bd3786"
             ],
             [
              0.5555555555555556,
              "#d8576b"
             ],
             [
              0.6666666666666666,
              "#ed7953"
             ],
             [
              0.7777777777777778,
              "#fb9f3a"
             ],
             [
              0.8888888888888888,
              "#fdca26"
             ],
             [
              1,
              "#f0f921"
             ]
            ],
            "type": "histogram2dcontour"
           }
          ],
          "mesh3d": [
           {
            "colorbar": {
             "outlinewidth": 0,
             "ticks": ""
            },
            "type": "mesh3d"
           }
          ],
          "parcoords": [
           {
            "line": {
             "colorbar": {
              "outlinewidth": 0,
              "ticks": ""
             }
            },
            "type": "parcoords"
           }
          ],
          "pie": [
           {
            "automargin": true,
            "type": "pie"
           }
          ],
          "scatter": [
           {
            "fillpattern": {
             "fillmode": "overlay",
             "size": 10,
             "solidity": 0.2
            },
            "type": "scatter"
           }
          ],
          "scatter3d": [
           {
            "line": {
             "colorbar": {
              "outlinewidth": 0,
              "ticks": ""
             }
            },
            "marker": {
             "colorbar": {
              "outlinewidth": 0,
              "ticks": ""
             }
            },
            "type": "scatter3d"
           }
          ],
          "scattercarpet": [
           {
            "marker": {
             "colorbar": {
              "outlinewidth": 0,
              "ticks": ""
             }
            },
            "type": "scattercarpet"
           }
          ],
          "scattergeo": [
           {
            "marker": {
             "colorbar": {
              "outlinewidth": 0,
              "ticks": ""
             }
            },
            "type": "scattergeo"
           }
          ],
          "scattergl": [
           {
            "marker": {
             "colorbar": {
              "outlinewidth": 0,
              "ticks": ""
             }
            },
            "type": "scattergl"
           }
          ],
          "scattermapbox": [
           {
            "marker": {
             "colorbar": {
              "outlinewidth": 0,
              "ticks": ""
             }
            },
            "type": "scattermapbox"
           }
          ],
          "scatterpolar": [
           {
            "marker": {
             "colorbar": {
              "outlinewidth": 0,
              "ticks": ""
             }
            },
            "type": "scatterpolar"
           }
          ],
          "scatterpolargl": [
           {
            "marker": {
             "colorbar": {
              "outlinewidth": 0,
              "ticks": ""
             }
            },
            "type": "scatterpolargl"
           }
          ],
          "scatterternary": [
           {
            "marker": {
             "colorbar": {
              "outlinewidth": 0,
              "ticks": ""
             }
            },
            "type": "scatterternary"
           }
          ],
          "surface": [
           {
            "colorbar": {
             "outlinewidth": 0,
             "ticks": ""
            },
            "colorscale": [
             [
              0,
              "#0d0887"
             ],
             [
              0.1111111111111111,
              "#46039f"
             ],
             [
              0.2222222222222222,
              "#7201a8"
             ],
             [
              0.3333333333333333,
              "#9c179e"
             ],
             [
              0.4444444444444444,
              "#bd3786"
             ],
             [
              0.5555555555555556,
              "#d8576b"
             ],
             [
              0.6666666666666666,
              "#ed7953"
             ],
             [
              0.7777777777777778,
              "#fb9f3a"
             ],
             [
              0.8888888888888888,
              "#fdca26"
             ],
             [
              1,
              "#f0f921"
             ]
            ],
            "type": "surface"
           }
          ],
          "table": [
           {
            "cells": {
             "fill": {
              "color": "#EBF0F8"
             },
             "line": {
              "color": "white"
             }
            },
            "header": {
             "fill": {
              "color": "#C8D4E3"
             },
             "line": {
              "color": "white"
             }
            },
            "type": "table"
           }
          ]
         },
         "layout": {
          "annotationdefaults": {
           "arrowcolor": "#2a3f5f",
           "arrowhead": 0,
           "arrowwidth": 1
          },
          "autotypenumbers": "strict",
          "coloraxis": {
           "colorbar": {
            "outlinewidth": 0,
            "ticks": ""
           }
          },
          "colorscale": {
           "diverging": [
            [
             0,
             "#8e0152"
            ],
            [
             0.1,
             "#c51b7d"
            ],
            [
             0.2,
             "#de77ae"
            ],
            [
             0.3,
             "#f1b6da"
            ],
            [
             0.4,
             "#fde0ef"
            ],
            [
             0.5,
             "#f7f7f7"
            ],
            [
             0.6,
             "#e6f5d0"
            ],
            [
             0.7,
             "#b8e186"
            ],
            [
             0.8,
             "#7fbc41"
            ],
            [
             0.9,
             "#4d9221"
            ],
            [
             1,
             "#276419"
            ]
           ],
           "sequential": [
            [
             0,
             "#0d0887"
            ],
            [
             0.1111111111111111,
             "#46039f"
            ],
            [
             0.2222222222222222,
             "#7201a8"
            ],
            [
             0.3333333333333333,
             "#9c179e"
            ],
            [
             0.4444444444444444,
             "#bd3786"
            ],
            [
             0.5555555555555556,
             "#d8576b"
            ],
            [
             0.6666666666666666,
             "#ed7953"
            ],
            [
             0.7777777777777778,
             "#fb9f3a"
            ],
            [
             0.8888888888888888,
             "#fdca26"
            ],
            [
             1,
             "#f0f921"
            ]
           ],
           "sequentialminus": [
            [
             0,
             "#0d0887"
            ],
            [
             0.1111111111111111,
             "#46039f"
            ],
            [
             0.2222222222222222,
             "#7201a8"
            ],
            [
             0.3333333333333333,
             "#9c179e"
            ],
            [
             0.4444444444444444,
             "#bd3786"
            ],
            [
             0.5555555555555556,
             "#d8576b"
            ],
            [
             0.6666666666666666,
             "#ed7953"
            ],
            [
             0.7777777777777778,
             "#fb9f3a"
            ],
            [
             0.8888888888888888,
             "#fdca26"
            ],
            [
             1,
             "#f0f921"
            ]
           ]
          },
          "colorway": [
           "#636efa",
           "#EF553B",
           "#00cc96",
           "#ab63fa",
           "#FFA15A",
           "#19d3f3",
           "#FF6692",
           "#B6E880",
           "#FF97FF",
           "#FECB52"
          ],
          "font": {
           "color": "#2a3f5f"
          },
          "geo": {
           "bgcolor": "white",
           "lakecolor": "white",
           "landcolor": "#E5ECF6",
           "showlakes": true,
           "showland": true,
           "subunitcolor": "white"
          },
          "hoverlabel": {
           "align": "left"
          },
          "hovermode": "closest",
          "mapbox": {
           "style": "light"
          },
          "paper_bgcolor": "white",
          "plot_bgcolor": "#E5ECF6",
          "polar": {
           "angularaxis": {
            "gridcolor": "white",
            "linecolor": "white",
            "ticks": ""
           },
           "bgcolor": "#E5ECF6",
           "radialaxis": {
            "gridcolor": "white",
            "linecolor": "white",
            "ticks": ""
           }
          },
          "scene": {
           "xaxis": {
            "backgroundcolor": "#E5ECF6",
            "gridcolor": "white",
            "gridwidth": 2,
            "linecolor": "white",
            "showbackground": true,
            "ticks": "",
            "zerolinecolor": "white"
           },
           "yaxis": {
            "backgroundcolor": "#E5ECF6",
            "gridcolor": "white",
            "gridwidth": 2,
            "linecolor": "white",
            "showbackground": true,
            "ticks": "",
            "zerolinecolor": "white"
           },
           "zaxis": {
            "backgroundcolor": "#E5ECF6",
            "gridcolor": "white",
            "gridwidth": 2,
            "linecolor": "white",
            "showbackground": true,
            "ticks": "",
            "zerolinecolor": "white"
           }
          },
          "shapedefaults": {
           "line": {
            "color": "#2a3f5f"
           }
          },
          "ternary": {
           "aaxis": {
            "gridcolor": "white",
            "linecolor": "white",
            "ticks": ""
           },
           "baxis": {
            "gridcolor": "white",
            "linecolor": "white",
            "ticks": ""
           },
           "bgcolor": "#E5ECF6",
           "caxis": {
            "gridcolor": "white",
            "linecolor": "white",
            "ticks": ""
           }
          },
          "title": {
           "x": 0.05
          },
          "xaxis": {
           "automargin": true,
           "gridcolor": "white",
           "linecolor": "white",
           "ticks": "",
           "title": {
            "standoff": 15
           },
           "zerolinecolor": "white",
           "zerolinewidth": 2
          },
          "yaxis": {
           "automargin": true,
           "gridcolor": "white",
           "linecolor": "white",
           "ticks": "",
           "title": {
            "standoff": 15
           },
           "zerolinecolor": "white",
           "zerolinewidth": 2
          }
         }
        },
        "title": {
         "text": "hello"
        },
        "width": 800,
        "xaxis": {
         "anchor": "y",
         "domain": [
          0,
          0.45
         ],
         "nticks": 20,
         "range": [
          1,
          6
         ],
         "title": {
          "standoff": 5,
          "text": "Healthy FEV1 (L) prior"
         }
        },
        "xaxis2": {
         "anchor": "y2",
         "domain": [
          0.55,
          1
         ],
         "nticks": 20,
         "range": [
          90,
          100
         ],
         "title": {
          "standoff": 5,
          "text": "Healthy O2 saturation (%) prior"
         }
        },
        "xaxis3": {
         "anchor": "y3",
         "domain": [
          0,
          0.45
         ],
         "nticks": 20,
         "range": [
          1,
          6
         ],
         "title": {
          "standoff": 5,
          "text": "Healthy FEV1 (L) shared posterior"
         }
        },
        "xaxis4": {
         "anchor": "y4",
         "domain": [
          0.55,
          1
         ],
         "nticks": 20,
         "range": [
          90,
          100
         ],
         "title": {
          "standoff": 5,
          "text": "Healthy O2 saturation (%) shared posterior"
         }
        },
        "xaxis5": {
         "anchor": "y5",
         "domain": [
          0,
          0.45
         ],
         "nticks": 20,
         "range": [
          0,
          90
         ],
         "title": {
          "standoff": 5,
          "text": "Airway resistance (%) day 1"
         }
        },
        "xaxis6": {
         "anchor": "y6",
         "domain": [
          0.55,
          1
         ],
         "nticks": 20,
         "range": [
          0,
          30
         ],
         "title": {
          "standoff": 5,
          "text": "Inactive alveoli (%) day 1"
         }
        },
        "xaxis7": {
         "anchor": "y7",
         "domain": [
          0,
          0.45
         ],
         "nticks": 20,
         "range": [
          0,
          90
         ],
         "title": {
          "standoff": 5,
          "text": "Airway resistance (%) day 2"
         }
        },
        "xaxis8": {
         "anchor": "y8",
         "domain": [
          0.55,
          1
         ],
         "nticks": 20,
         "range": [
          0,
          30
         ],
         "title": {
          "standoff": 5,
          "text": "Inactive alveoli (%) day 2"
         }
        },
        "yaxis": {
         "anchor": "x",
         "domain": [
          0.80625,
          1
         ]
        },
        "yaxis2": {
         "anchor": "x2",
         "domain": [
          0.80625,
          1
         ]
        },
        "yaxis3": {
         "anchor": "x3",
         "domain": [
          0.5375,
          0.73125
         ]
        },
        "yaxis4": {
         "anchor": "x4",
         "domain": [
          0.5375,
          0.73125
         ]
        },
        "yaxis5": {
         "anchor": "x5",
         "domain": [
          0.26875,
          0.4625
         ]
        },
        "yaxis6": {
         "anchor": "x6",
         "domain": [
          0.26875,
          0.4625
         ]
        },
        "yaxis7": {
         "anchor": "x7",
         "domain": [
          0,
          0.19375
         ]
        },
        "yaxis8": {
         "anchor": "x8",
         "domain": [
          0,
          0.19375
         ]
        }
       }
      }
     },
     "metadata": {},
     "output_type": "display_data"
    }
   ],
   "source": [
    "# 4 rows: prior, posterior for healthy var, then ar day 1, ar day 3\n",
    "fig = make_subplots(rows=4, cols=2)\n",
    "ar_day_1 = df_query_res.loc[0, AR.name]\n",
    "ar_day_2 = df_query_res.loc[1, AR.name]\n",
    "ia_day_1 = df_query_res.loc[0, IA.name]\n",
    "ia_day_2 = df_query_res.loc[1, IA.name]\n",
    "hfev1 = df_query_res.loc[0, HFEV1.name]\n",
    "ho2sat = df_query_res.loc[0, HO2Sat.name]\n",
    "\n",
    "# Priors\n",
    "ih.plot_histogram(\n",
    "    fig, HFEV1, HFEV1.cpt, HFEV1.a, HFEV1.b, 1, 1, HFEV1.name + \" prior\", \"#0072b2\"\n",
    ")\n",
    "ih.plot_histogram(\n",
    "    fig, HO2Sat, HO2Sat.cpt, HO2Sat.a, HO2Sat.b, 1, 2, HO2Sat.name + \" prior\", \"#009e73\"\n",
    ")\n",
    "# Posteriors\n",
    "ih.plot_histogram(\n",
    "    fig,\n",
    "    HFEV1,\n",
    "    hfev1,\n",
    "    HFEV1.a,\n",
    "    HFEV1.b,\n",
    "    2,\n",
    "    1,\n",
    "    HFEV1.name + \" shared posterior\",\n",
    "    \"#0072b2\",\n",
    ")\n",
    "ih.plot_histogram(\n",
    "    fig,\n",
    "    HO2Sat,\n",
    "    ho2sat,\n",
    "    HO2Sat.a,\n",
    "    HO2Sat.b,\n",
    "    2,\n",
    "    2,\n",
    "    HO2Sat.name + \" shared posterior\",\n",
    "    \"#009e73\",\n",
    ")\n",
    "# AR\n",
    "ih.plot_histogram(\n",
    "    fig,\n",
    "    AR,\n",
    "    ar_day_1,\n",
    "    AR.a,\n",
    "    AR.b,\n",
    "    3,\n",
    "    1,\n",
    "    AR.name + \" day 1\",\n",
    "    colour=\"#d55e00\",\n",
    ")\n",
    "ih.plot_histogram(\n",
    "    fig,\n",
    "    AR,\n",
    "    ar_day_2,\n",
    "    AR.a,\n",
    "    AR.b,\n",
    "    4,\n",
    "    1,\n",
    "    AR.name + \" day 2\",\n",
    "    colour=\"#d55e00\",\n",
    ")\n",
    "# IA\n",
    "ih.plot_histogram(\n",
    "    fig,\n",
    "    IA,\n",
    "    ia_day_1,\n",
    "    IA.a,\n",
    "    IA.b,\n",
    "    3,\n",
    "    2,\n",
    "    IA.name + \" day 1\",\n",
    "    \"#d55e00\",\n",
    ")\n",
    "ih.plot_histogram(\n",
    "    fig,\n",
    "    IA,\n",
    "    ia_day_2,\n",
    "    IA.a,\n",
    "    IA.b,\n",
    "    4,\n",
    "    2,\n",
    "    IA.name + \" day 2\",\n",
    "    \"#d55e00\",\n",
    ")\n",
    "fig.update_xaxes(title_standoff=5)\n",
    "\n",
    "fig.update_layout(\n",
    "    title=\"hello\", width=800, height=600, font=dict(size=8), showlegend=False\n",
    ")\n",
    "\n",
    "fig.show()"
   ]
  },
  {
   "cell_type": "code",
   "execution_count": 81,
   "metadata": {},
   "outputs": [
    {
     "name": "stdout",
     "output_type": "stream",
     "text": [
      "HFEV1 max diff between 2 days: 2.2e-07\n",
      "HO2Sat max diff between 2 days: 1.6e-06\n"
     ]
    }
   ],
   "source": [
    "print(\n",
    "    f\"HFEV1 max diff between 2 days: {max(df_query_res.loc[0, HFEV1.name] - df_query_res.loc[1, HFEV1.name]):.2g}\"\n",
    ")\n",
    "print(\n",
    "    f\"HO2Sat max diff between 2 days: {max(df_query_res.loc[0, HO2Sat.name] - df_query_res.loc[1, HO2Sat.name]):.2g}\"\n",
    ")\n",
    "# Stop criteria: difference of the last HFEV1 inferred between two epochs is les than a threshold (1e-6)"
   ]
  },
  {
   "cell_type": "markdown",
   "metadata": {},
   "source": [
    "# Use exact inference"
   ]
  },
  {
   "cell_type": "code",
   "execution_count": 1,
   "metadata": {},
   "outputs": [
    {
     "data": {
      "text/html": [
       "<div>\n",
       "<style scoped>\n",
       "    .dataframe tbody tr th:only-of-type {\n",
       "        vertical-align: middle;\n",
       "    }\n",
       "\n",
       "    .dataframe tbody tr th {\n",
       "        vertical-align: top;\n",
       "    }\n",
       "\n",
       "    .dataframe thead th {\n",
       "        text-align: right;\n",
       "    }\n",
       "</style>\n",
       "<table border=\"1\" class=\"dataframe\">\n",
       "  <thead>\n",
       "    <tr style=\"text-align: right;\">\n",
       "      <th></th>\n",
       "      <th>ID</th>\n",
       "      <th>Date Recorded</th>\n",
       "      <th>FEV1</th>\n",
       "      <th>O2 Saturation</th>\n",
       "      <th>FEF2575</th>\n",
       "      <th>ecFEV1</th>\n",
       "      <th>ecFEF2575</th>\n",
       "      <th>Sex</th>\n",
       "      <th>Height</th>\n",
       "      <th>Age</th>\n",
       "      <th>...</th>\n",
       "      <th>Healthy O2 Saturation</th>\n",
       "      <th>ecFEV1 % Predicted</th>\n",
       "      <th>FEV1 % Predicted</th>\n",
       "      <th>O2 Saturation % Healthy</th>\n",
       "      <th>ecFEF2575%ecFEV1</th>\n",
       "      <th>Max ecFEV1</th>\n",
       "      <th>Max ecFEF2575</th>\n",
       "      <th>idx ecFEV1 (L)</th>\n",
       "      <th>idx ecFEF25-75 % ecFEV1 (%)</th>\n",
       "      <th>idx O2 saturation (%)</th>\n",
       "    </tr>\n",
       "  </thead>\n",
       "  <tbody>\n",
       "    <tr>\n",
       "      <th>0</th>\n",
       "      <td>101</td>\n",
       "      <td>2019-01-25</td>\n",
       "      <td>1.31</td>\n",
       "      <td>97</td>\n",
       "      <td>0.54</td>\n",
       "      <td>1.31</td>\n",
       "      <td>0.67</td>\n",
       "      <td>Male</td>\n",
       "      <td>173.0</td>\n",
       "      <td>53</td>\n",
       "      <td>...</td>\n",
       "      <td>97.150104</td>\n",
       "      <td>36.287474</td>\n",
       "      <td>36.287474</td>\n",
       "      <td>99.845492</td>\n",
       "      <td>41.221374</td>\n",
       "      <td>1.79</td>\n",
       "      <td>1.14</td>\n",
       "      <td>26</td>\n",
       "      <td>20</td>\n",
       "      <td>47</td>\n",
       "    </tr>\n",
       "    <tr>\n",
       "      <th>1576</th>\n",
       "      <td>101</td>\n",
       "      <td>2023-07-31</td>\n",
       "      <td>1.79</td>\n",
       "      <td>98</td>\n",
       "      <td>1.14</td>\n",
       "      <td>1.79</td>\n",
       "      <td>1.15</td>\n",
       "      <td>Male</td>\n",
       "      <td>173.0</td>\n",
       "      <td>53</td>\n",
       "      <td>...</td>\n",
       "      <td>97.150104</td>\n",
       "      <td>49.583647</td>\n",
       "      <td>49.583647</td>\n",
       "      <td>100.874827</td>\n",
       "      <td>63.687151</td>\n",
       "      <td>1.79</td>\n",
       "      <td>1.14</td>\n",
       "      <td>35</td>\n",
       "      <td>31</td>\n",
       "      <td>48</td>\n",
       "    </tr>\n",
       "  </tbody>\n",
       "</table>\n",
       "<p>2 rows × 21 columns</p>\n",
       "</div>"
      ],
      "text/plain": [
       "       ID Date Recorded  FEV1  O2 Saturation  FEF2575  ecFEV1  ecFEF2575  \\\n",
       "0     101    2019-01-25  1.31             97     0.54    1.31       0.67   \n",
       "1576  101    2023-07-31  1.79             98     1.14    1.79       1.15   \n",
       "\n",
       "       Sex  Height  Age  ...  Healthy O2 Saturation  ecFEV1 % Predicted  \\\n",
       "0     Male   173.0   53  ...              97.150104           36.287474   \n",
       "1576  Male   173.0   53  ...              97.150104           49.583647   \n",
       "\n",
       "      FEV1 % Predicted  O2 Saturation % Healthy  ecFEF2575%ecFEV1  Max ecFEV1  \\\n",
       "0            36.287474                99.845492         41.221374        1.79   \n",
       "1576         49.583647               100.874827         63.687151        1.79   \n",
       "\n",
       "      Max ecFEF2575  idx ecFEV1 (L)  idx ecFEF25-75 % ecFEV1 (%)  \\\n",
       "0              1.14              26                           20   \n",
       "1576           1.14              35                           31   \n",
       "\n",
       "      idx O2 saturation (%)  \n",
       "0                        47  \n",
       "1576                     48  \n",
       "\n",
       "[2 rows x 21 columns]"
      ]
     },
     "execution_count": 1,
     "metadata": {},
     "output_type": "execute_result"
    }
   ],
   "source": [
    "import src.data.breathe_data as bd\n",
    "import src.inference.long_inf_slicing as slicing\n",
    "import src.models.builders as mb\n",
    "import src.models.var_builders as var_builders\n",
    "import src.inference.helpers as ih\n",
    "from plotly.subplots import make_subplots\n",
    "\n",
    "import pandas as pd\n",
    "import numpy as np\n",
    "df = bd.load_meas_from_excel(\"BR_O2_FEV1_FEF2575_with_idx_and_heighest_obs_per_id\")\n",
    "df_for_ID = df[df[\"ID\"] == \"101\"]\n",
    "idx_unblocked_FEV1 = df_for_ID.sort_values(\n",
    "        by=[\"ecFEV1\", \"ecFEF2575\", \"O2 Saturation\"], ascending=False\n",
    "    ).index[0]\n",
    "\n",
    "df_for_ID.iloc[[0, idx_unblocked_FEV1]]"
   ]
  },
  {
   "cell_type": "code",
   "execution_count": 2,
   "metadata": {},
   "outputs": [],
   "source": [
    "height = df_for_ID.Height.iloc[0]\n",
    "age = df_for_ID.Age.iloc[0]\n",
    "sex = df_for_ID.Sex.iloc[0]\n",
    "(\n",
    "    model,\n",
    "    inf_alg,\n",
    "    HFEV1,\n",
    "    HO2Sat,\n",
    "    ecFEV1,\n",
    "    AR,\n",
    "    O2SatFFA,\n",
    "    IA,\n",
    "    UO2Sat,\n",
    "    O2Sat,\n",
    "    # ecFEF2575prctecFEV1,\n",
    "    ecFEV1_2,\n",
    "    AR_2,\n",
    "    O2SatFFA_2,\n",
    "    IA_2,\n",
    "    UO2Sat_2,\n",
    "    O2Sat_2,\n",
    "    # ecFEF2575prctecFEV1_2,\n",
    ") = mb.o2_sat_fev1_fef2575_two_days_model(height, age, sex)"
   ]
  },
  {
   "cell_type": "code",
   "execution_count": 3,
   "metadata": {},
   "outputs": [
    {
     "name": "stderr",
     "output_type": "stream",
     "text": [
      "/Users/tristan.trebaol/Desktop/PhD/Code/pgmpy/pgmpy/factors/discrete/DiscreteFactor.py:796: RuntimeWarning: invalid value encountered in divide\n",
      "  phi.values = phi.values / phi1.values\n"
     ]
    }
   ],
   "source": [
    "# vars = [HFEV1, HO2Sat, AR, IA, AR_2, IA_2]\n",
    "vars = [AR]\n",
    "obs_vars = [[ecFEV1, 1.31], [O2Sat, 97], [ecFEV1_2, 1.79], [O2Sat_2, 98]]\n",
    "\n",
    "res = ih.infer(\n",
    "    inference_alg=inf_alg,\n",
    "    variables=vars,\n",
    "    evidences=obs_vars\n",
    ")"
   ]
  },
  {
   "cell_type": "code",
   "execution_count": 7,
   "metadata": {},
   "outputs": [
    {
     "data": {
      "text/plain": [
       "{'Healthy FEV1 (L)': <DiscreteFactor representing phi(Healthy FEV1 (L):100) at 0x7fd7d1e6b970>,\n",
       " 'Healthy O2 saturation (%)': <DiscreteFactor representing phi(Healthy O2 saturation (%):20) at 0x7fd7d1e6ad70>,\n",
       " 'Airway resistance (%)': <DiscreteFactor representing phi(Airway resistance (%):45) at 0x7fd7d1e6afe0>,\n",
       " 'Inactive alveoli (%)': <DiscreteFactor representing phi(Inactive alveoli (%):30) at 0x7fd7d1e6ad10>,\n",
       " 'Airway resistance (%) day 2': <DiscreteFactor representing phi(Airway resistance (%) day 2:45) at 0x7fd7d1e6b4f0>}"
      ]
     },
     "execution_count": 7,
     "metadata": {},
     "output_type": "execute_result"
    }
   ],
   "source": [
    "res"
   ]
  },
  {
   "cell_type": "code",
   "execution_count": null,
   "metadata": {},
   "outputs": [],
   "source": []
  }
 ],
 "metadata": {
  "kernelspec": {
   "display_name": "phd",
   "language": "python",
   "name": "python3"
  },
  "language_info": {
   "codemirror_mode": {
    "name": "ipython",
    "version": 3
   },
   "file_extension": ".py",
   "mimetype": "text/x-python",
   "name": "python",
   "nbconvert_exporter": "python",
   "pygments_lexer": "ipython3",
   "version": "3.10.13"
  }
 },
 "nbformat": 4,
 "nbformat_minor": 2
}
