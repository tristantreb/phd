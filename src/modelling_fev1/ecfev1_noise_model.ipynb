{
 "cells": [
  {
   "cell_type": "code",
   "execution_count": 7,
   "metadata": {},
   "outputs": [],
   "source": [
    "import numpy as np\n",
    "from scipy.stats import truncnorm\n",
    "import src.models.helpers as mh\n"
   ]
  },
  {
   "cell_type": "code",
   "execution_count": 19,
   "metadata": {},
   "outputs": [],
   "source": [
    "def get_noise_model_CPT(pVar: mh.VariableNode, cVar: mh.VariableNode, c_resolution: int, std_gauss: float, n: int, debug=False):\n",
    "    \"\"\"\n",
    "    pVar: parent variable, corresponds to the true value that would be obtained for that variable if we had a magic measurement devive\n",
    "    cVar: child variable, corresponds to the measured value, or a value that could be obtained with a measurement device from clinical practice\n",
    "    c_resolution: number of decimals, correspond to the resolution of the measurement device\n",
    "    std_gauss: standard deviation of the gaussian noise of the measurement device\n",
    "    n: number of samples to generate per bin of the parent variable\n",
    "    \"\"\"\n",
    "    cpt = np.zeros((cVar.card, pVar.card))\n",
    "    for i, pVar_bin in enumerate(pVar.get_bins_arr()):\n",
    "        real_arr = pVar.sample_from_bin(pVar_bin, n)\n",
    "        # Add gaussian noise\n",
    "        # Truncnorm ensures that sampled values are plausible (within the possible values of the child variable)\n",
    "        noisy_real_arr = [truncnorm(cVar.a, cVar.b, loc, scale=1).rvs(1) for loc in real_arr]\n",
    "        # Round to measurement resolution\n",
    "        rounded_arr = np.round(noisy_real_arr, c_resolution)\n",
    "        # Discard generated values that are outside the measurement device boundaries\n",
    "        rounded_arr = rounded_arr[(rounded_arr >= cVar.a) & (rounded_arr <= cVar.b)]\n",
    "        # bin up the rounded values to the child variable\n",
    "        p_cVar_given_pVar_obs = cVar.bin_up(rounded_arr, normalise=True)\n",
    "        print(f\"p_cVar_given_pVar_obs: {p_cVar_given_pVar_obs.shape}\")\n",
    "        # Add to the CPT\n",
    "        cpt[:, i] = p_cVar_given_pVar_obs\n",
    "\n",
    "        assert np.isclose(\n",
    "            cpt[:, i].sum(), 1, atol=cVar.tol\n",
    "        ), f\"The sum of probabilities should be 1, got {cpt[:, i].sum()} while calculating P({cVar.name}|{pVar.name}={pVar_bin})\"\n",
    "    return cpt\n"
   ]
  },
  {
   "cell_type": "code",
   "execution_count": 20,
   "metadata": {},
   "outputs": [
    {
     "name": "stdout",
     "output_type": "stream",
     "text": [
      "p_cVar_given_pVar_obs: (119,)\n"
     ]
    },
    {
     "ename": "ValueError",
     "evalue": "could not broadcast input array from shape (119,) into shape (120,)",
     "output_type": "error",
     "traceback": [
      "\u001b[0;31m---------------------------------------------------------------------------\u001b[0m",
      "\u001b[0;31mValueError\u001b[0m                                Traceback (most recent call last)",
      "Cell \u001b[0;32mIn[20], line 6\u001b[0m\n\u001b[1;32m      3\u001b[0m std_gauss \u001b[38;5;241m=\u001b[39m \u001b[38;5;241m0.3\u001b[39m\n\u001b[1;32m      4\u001b[0m n_decimals \u001b[38;5;241m=\u001b[39m \u001b[38;5;241m2\u001b[39m\n\u001b[0;32m----> 6\u001b[0m \u001b[43mget_noise_model_CPT\u001b[49m\u001b[43m(\u001b[49m\u001b[43muecFEV1\u001b[49m\u001b[43m,\u001b[49m\u001b[43m \u001b[49m\u001b[43mecFEV1\u001b[49m\u001b[43m,\u001b[49m\u001b[43m \u001b[49m\u001b[43mn_decimals\u001b[49m\u001b[43m,\u001b[49m\u001b[43m \u001b[49m\u001b[43mstd_gauss\u001b[49m\u001b[43m,\u001b[49m\u001b[43m \u001b[49m\u001b[38;5;241;43m1000\u001b[39;49m\u001b[43m,\u001b[49m\u001b[43m \u001b[49m\u001b[43mdebug\u001b[49m\u001b[38;5;241;43m=\u001b[39;49m\u001b[38;5;28;43;01mTrue\u001b[39;49;00m\u001b[43m)\u001b[49m\n",
      "Cell \u001b[0;32mIn[19], line 23\u001b[0m, in \u001b[0;36mget_noise_model_CPT\u001b[0;34m(pVar, cVar, c_resolution, std_gauss, n, debug)\u001b[0m\n\u001b[1;32m     21\u001b[0m     \u001b[38;5;28mprint\u001b[39m(\u001b[38;5;124mf\u001b[39m\u001b[38;5;124m\"\u001b[39m\u001b[38;5;124mp_cVar_given_pVar_obs: \u001b[39m\u001b[38;5;132;01m{\u001b[39;00mp_cVar_given_pVar_obs\u001b[38;5;241m.\u001b[39mshape\u001b[38;5;132;01m}\u001b[39;00m\u001b[38;5;124m\"\u001b[39m)\n\u001b[1;32m     22\u001b[0m     \u001b[38;5;66;03m# Add to the CPT\u001b[39;00m\n\u001b[0;32m---> 23\u001b[0m     cpt[:, i] \u001b[38;5;241m=\u001b[39m p_cVar_given_pVar_obs\n\u001b[1;32m     25\u001b[0m     \u001b[38;5;28;01massert\u001b[39;00m np\u001b[38;5;241m.\u001b[39misclose(\n\u001b[1;32m     26\u001b[0m         cpt[:, i]\u001b[38;5;241m.\u001b[39msum(), \u001b[38;5;241m1\u001b[39m, atol\u001b[38;5;241m=\u001b[39mcVar\u001b[38;5;241m.\u001b[39mtol\n\u001b[1;32m     27\u001b[0m     ), \u001b[38;5;124mf\u001b[39m\u001b[38;5;124m\"\u001b[39m\u001b[38;5;124mThe sum of probabilities should be 1, got \u001b[39m\u001b[38;5;132;01m{\u001b[39;00mcpt[:,\u001b[38;5;250m \u001b[39mi]\u001b[38;5;241m.\u001b[39msum()\u001b[38;5;132;01m}\u001b[39;00m\u001b[38;5;124m while calculating P(\u001b[39m\u001b[38;5;132;01m{\u001b[39;00mcVar\u001b[38;5;241m.\u001b[39mname\u001b[38;5;132;01m}\u001b[39;00m\u001b[38;5;124m|\u001b[39m\u001b[38;5;132;01m{\u001b[39;00mpVar\u001b[38;5;241m.\u001b[39mname\u001b[38;5;132;01m}\u001b[39;00m\u001b[38;5;124m=\u001b[39m\u001b[38;5;132;01m{\u001b[39;00mpVar_bin\u001b[38;5;132;01m}\u001b[39;00m\u001b[38;5;124m)\u001b[39m\u001b[38;5;124m\"\u001b[39m\n\u001b[1;32m     28\u001b[0m \u001b[38;5;28;01mreturn\u001b[39;00m cpt\n",
      "\u001b[0;31mValueError\u001b[0m: could not broadcast input array from shape (119,) into shape (120,)"
     ]
    }
   ],
   "source": [
    "ecFEV1 = mh.VariableNode(\"ecFEV1 (L)\", 0, 6, 0.05, prior={\"type\": \"uniform\"})\n",
    "uecFEV1 = mh.VariableNode(\"Underlying ecFEV1 (L)\", 0, 6, 0.05, prior=None)\n",
    "std_gauss = 0.3\n",
    "n_decimals = 2\n",
    "\n",
    "get_noise_model_CPT(uecFEV1, ecFEV1, n_decimals, std_gauss, 1000, debug=True)"
   ]
  },
  {
   "cell_type": "code",
   "execution_count": 24,
   "metadata": {},
   "outputs": [
    {
     "data": {
      "text/plain": [
       "array([0.  , 0.05, 0.1 , 0.15, 0.2 , 0.25, 0.3 , 0.35, 0.4 , 0.45, 0.5 ,\n",
       "       0.55, 0.6 , 0.65, 0.7 , 0.75, 0.8 , 0.85, 0.9 , 0.95, 1.  , 1.05,\n",
       "       1.1 , 1.15, 1.2 , 1.25, 1.3 , 1.35, 1.4 , 1.45, 1.5 , 1.55, 1.6 ,\n",
       "       1.65, 1.7 , 1.75, 1.8 , 1.85, 1.9 , 1.95, 2.  , 2.05, 2.1 , 2.15,\n",
       "       2.2 , 2.25, 2.3 , 2.35, 2.4 , 2.45, 2.5 , 2.55, 2.6 , 2.65, 2.7 ,\n",
       "       2.75, 2.8 , 2.85, 2.9 , 2.95, 3.  , 3.05, 3.1 , 3.15, 3.2 , 3.25,\n",
       "       3.3 , 3.35, 3.4 , 3.45, 3.5 , 3.55, 3.6 , 3.65, 3.7 , 3.75, 3.8 ,\n",
       "       3.85, 3.9 , 3.95, 4.  , 4.05, 4.1 , 4.15, 4.2 , 4.25, 4.3 , 4.35,\n",
       "       4.4 , 4.45, 4.5 , 4.55, 4.6 , 4.65, 4.7 , 4.75, 4.8 , 4.85, 4.9 ,\n",
       "       4.95, 5.  , 5.05, 5.1 , 5.15, 5.2 , 5.25, 5.3 , 5.35, 5.4 , 5.45,\n",
       "       5.5 , 5.55, 5.6 , 5.65, 5.7 , 5.75, 5.8 , 5.85, 5.9 , 5.95])"
      ]
     },
     "execution_count": 24,
     "metadata": {},
     "output_type": "execute_result"
    }
   ],
   "source": [
    "ecFEV1.bins"
   ]
  },
  {
   "cell_type": "code",
   "execution_count": 14,
   "metadata": {},
   "outputs": [
    {
     "data": {
      "text/plain": [
       "array([0.5863966 , 0.79719265, 0.45352517, 0.44620108, 1.4103153 ,\n",
       "       0.98355876, 1.99514937, 0.08067985, 0.04122751, 1.73382982,\n",
       "       1.48368782, 0.02052026, 1.25439054, 1.04572573, 1.46228047,\n",
       "       2.97239652, 1.33975757, 0.55570181, 1.49220099, 0.62864993,\n",
       "       0.42100405, 0.32379648, 0.49904411, 3.44427336, 0.65011594,\n",
       "       0.43890812, 1.17707563, 0.34548403, 0.88327586, 0.99093691,\n",
       "       0.46816499, 1.13532727, 1.63202868, 2.14361015, 0.9835354 ,\n",
       "       1.18543274, 0.28065774, 0.28366307, 1.88067664, 0.39993263,\n",
       "       1.04052175, 0.60987415, 0.91105782, 0.8575957 , 1.67733063,\n",
       "       0.56134619, 0.53759807, 0.15347993, 1.76850208, 1.2276485 ,\n",
       "       0.04722612, 1.59827263, 1.10075014, 0.41855256, 1.00980843,\n",
       "       0.3966443 , 1.76349627, 0.1532164 , 3.29427437, 1.9626444 ,\n",
       "       1.31981906, 0.23877987, 1.20797685, 0.12012817, 0.34875067,\n",
       "       1.00669862, 0.18260326, 1.22800898, 1.37299755, 1.29081516,\n",
       "       3.41007208, 0.7055521 , 0.03436142, 2.48382423, 1.79251438,\n",
       "       0.18707846, 0.37212523, 0.57264154, 0.03182304, 0.28909863,\n",
       "       0.11379072, 0.80650881, 0.01317709, 0.34752439, 0.03733995,\n",
       "       0.14103386, 0.25870929, 1.13270497, 0.61119686, 0.58752066,\n",
       "       0.69537492, 0.06628705, 0.59613427, 0.53211192, 0.17187451,\n",
       "       1.53397412, 1.50718993, 1.07866562, 0.78170544, 0.64559534])"
      ]
     },
     "execution_count": 14,
     "metadata": {},
     "output_type": "execute_result"
    }
   ],
   "source": [
    "truncnorm(0, 6, loc=0, scale=1).rvs(100)"
   ]
  },
  {
   "cell_type": "code",
   "execution_count": null,
   "metadata": {},
   "outputs": [],
   "source": []
  }
 ],
 "metadata": {
  "kernelspec": {
   "display_name": "phd",
   "language": "python",
   "name": "python3"
  },
  "language_info": {
   "codemirror_mode": {
    "name": "ipython",
    "version": 3
   },
   "file_extension": ".py",
   "mimetype": "text/x-python",
   "name": "python",
   "nbconvert_exporter": "python",
   "pygments_lexer": "ipython3",
   "version": "3.10.13"
  }
 },
 "nbformat": 4,
 "nbformat_minor": 2
}
