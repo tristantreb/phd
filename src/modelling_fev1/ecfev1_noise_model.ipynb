{
 "cells": [
  {
   "cell_type": "code",
   "execution_count": 1,
   "metadata": {},
   "outputs": [],
   "source": [
    "import numpy as np\n",
    "import src.models.helpers as mh\n",
    "import plotly.graph_objects as go\n",
    "import src.modelling_fev1.uecfev1 as uecfev1"
   ]
  },
  {
   "cell_type": "code",
   "execution_count": 38,
   "metadata": {},
   "outputs": [
    {
     "name": "stdout",
     "output_type": "stream",
     "text": [
      "uecFEV1 bin [3.   3.05]\n"
     ]
    },
    {
     "data": {
      "application/vnd.plotly.v1+json": {
       "config": {
        "plotlyServerURL": "https://plot.ly"
       },
       "data": [
        {
         "type": "bar",
         "x": [
          0.025,
          0.07500000000000001,
          0.125,
          0.17500000000000002,
          0.225,
          0.275,
          0.32500000000000007,
          0.37500000000000006,
          0.42500000000000004,
          0.47500000000000003,
          0.525,
          0.5750000000000001,
          0.6250000000000001,
          0.675,
          0.7250000000000001,
          0.775,
          0.8250000000000001,
          0.8750000000000001,
          0.925,
          0.9750000000000001,
          1.025,
          1.075,
          1.125,
          1.175,
          1.225,
          1.275,
          1.325,
          1.375,
          1.425,
          1.475,
          1.525,
          1.575,
          1.625,
          1.675,
          1.725,
          1.775,
          1.825,
          1.875,
          1.925,
          1.975,
          2.025,
          2.075,
          2.125,
          2.175,
          2.225,
          2.275,
          2.325,
          2.375,
          2.4250000000000003,
          2.475,
          2.525,
          2.575,
          2.625,
          2.6750000000000003,
          2.725,
          2.775,
          2.825,
          2.875,
          2.9250000000000003,
          2.975,
          3.025,
          3.075,
          3.125,
          3.1750000000000003,
          3.225,
          3.275,
          3.325,
          3.375,
          3.4250000000000003,
          3.475,
          3.525,
          3.575,
          3.625,
          3.6750000000000003,
          3.725,
          3.775,
          3.825,
          3.875,
          3.9250000000000003,
          3.975,
          4.025,
          4.075,
          4.125000000000001,
          4.175000000000001,
          4.2250000000000005,
          4.275,
          4.325,
          4.375000000000001,
          4.425000000000001,
          4.4750000000000005,
          4.525,
          4.575,
          4.625000000000001,
          4.675000000000001,
          4.7250000000000005,
          4.775,
          4.825000000000001,
          4.875000000000001,
          4.925000000000001,
          4.9750000000000005,
          5.025,
          5.075000000000001,
          5.125000000000001,
          5.175000000000001,
          5.2250000000000005,
          5.275,
          5.325000000000001,
          5.375000000000001,
          5.425000000000001,
          5.4750000000000005,
          5.525,
          5.575000000000001,
          5.625000000000001,
          5.675000000000001,
          5.7250000000000005,
          5.775,
          5.825000000000001,
          5.875000000000001,
          5.925000000000001,
          5.9750000000000005
         ],
         "y": [
          1.4374479838052215e-23,
          7.477917966643826e-23,
          3.7838157516005845e-22,
          1.8622590519307016e-21,
          8.914790431915116e-21,
          4.150909023600545e-20,
          1.879907255298226e-19,
          8.281154061427299e-19,
          3.548188087436354e-18,
          1.4787127859199664e-17,
          5.994080115779998e-17,
          2.363321866334623e-16,
          9.063269840962968e-16,
          3.3807164461127996e-15,
          1.226576022958886e-14,
          4.3285473509539514e-14,
          1.4857712113577186e-13,
          4.960481745775425e-13,
          1.6108607776183773e-12,
          5.088086383058512e-12,
          1.5631956705809422e-11,
          4.6712669825672063e-11,
          1.3577461899104142e-10,
          3.838531679339399e-10,
          1.0555392182977313e-9,
          2.8232309131555953e-9,
          7.344822095628957e-9,
          1.858570692600208e-8,
          4.5744604811789855e-8,
          1.0951251023869717e-7,
          2.550061831925525e-7,
          5.775650090522283e-7,
          0.0000012723725318313631,
          0.000002726408972980625,
          0.000005682390613458437,
          0.000011519525386592878,
          0.00002271441530019374,
          0.00004356443275337041,
          0.00008126922922334867,
          0.0001474632638082137,
          0.00026025867409924894,
          0.00044677647566573154,
          0.0007460005352769162,
          0.001211579109714552,
          0.0019139396888548813,
          0.002940820998349247,
          0.00439514125700461,
          0.006389119645098819,
          0.009033856149946116,
          0.012424225205828622,
          0.016619941055311716,
          0.02162487905050852,
          0.027367930627274224,
          0.03368948082300678,
          0.04033766717279281,
          0.04697765731378261,
          0.05321524465423649,
          0.05863337751510449,
          0.06283735714282178,
          0.06550207628750362,
          0.0664135023056171,
          0.06549706868902559,
          0.06282775011576848,
          0.05861993245327072,
          0.05319897654491604,
          0.04695970850439637,
          0.0403191762558495,
          0.033671467252783686,
          0.027351210510633533,
          0.021610019954820207,
          0.016607255677254802,
          0.012413797167224698,
          0.009025587193566678,
          0.00638278641466209,
          0.004390451229138919,
          0.002937460087018708,
          0.0019116075353232417,
          0.0012100112385306618,
          0.0007449788639688894,
          0.0004461309367151791,
          0.0002598630507464638,
          0.00014722802596238448,
          0.00008113349184806547,
          0.00004348840951775942,
          0.000022673079688355986,
          0.000011497703082304755,
          0.000005671203082293875,
          0.000002720838682882162,
          0.0000012696786531491416,
          5.762994665029832e-7,
          2.5442860399582455e-7,
          1.0925640628508613e-7,
          4.5634267697965914e-8,
          1.8539516138447387e-8,
          7.3260314004971684e-9,
          2.8158023097289915e-9,
          1.0526851161576974e-9,
          3.8278743281824576e-10,
          1.353878387040164e-10,
          4.65762331446333e-11,
          1.5585176197542532e-11,
          5.0724951742756306e-12,
          1.6058096450654803e-12,
          4.944574169576982e-13,
          1.4809011231281506e-13,
          4.314053033986436e-14,
          1.222382330016802e-14,
          3.3689202317490094e-15,
          9.0310113195679e-16,
          2.354745365833971e-16,
          5.971911058277585e-17,
          1.4731414039413362e-17,
          3.534574770511415e-18,
          8.248812824457263e-19,
          1.8724368024665384e-19,
          4.134131011342302e-20,
          8.878151508385241e-21,
          1.854479428472592e-21,
          3.767753999736754e-22,
          7.445673867150985e-23
         ]
        }
       ],
       "layout": {
        "height": 300,
        "template": {
         "data": {
          "bar": [
           {
            "error_x": {
             "color": "#2a3f5f"
            },
            "error_y": {
             "color": "#2a3f5f"
            },
            "marker": {
             "line": {
              "color": "#E5ECF6",
              "width": 0.5
             },
             "pattern": {
              "fillmode": "overlay",
              "size": 10,
              "solidity": 0.2
             }
            },
            "type": "bar"
           }
          ],
          "barpolar": [
           {
            "marker": {
             "line": {
              "color": "#E5ECF6",
              "width": 0.5
             },
             "pattern": {
              "fillmode": "overlay",
              "size": 10,
              "solidity": 0.2
             }
            },
            "type": "barpolar"
           }
          ],
          "carpet": [
           {
            "aaxis": {
             "endlinecolor": "#2a3f5f",
             "gridcolor": "white",
             "linecolor": "white",
             "minorgridcolor": "white",
             "startlinecolor": "#2a3f5f"
            },
            "baxis": {
             "endlinecolor": "#2a3f5f",
             "gridcolor": "white",
             "linecolor": "white",
             "minorgridcolor": "white",
             "startlinecolor": "#2a3f5f"
            },
            "type": "carpet"
           }
          ],
          "choropleth": [
           {
            "colorbar": {
             "outlinewidth": 0,
             "ticks": ""
            },
            "type": "choropleth"
           }
          ],
          "contour": [
           {
            "colorbar": {
             "outlinewidth": 0,
             "ticks": ""
            },
            "colorscale": [
             [
              0,
              "#0d0887"
             ],
             [
              0.1111111111111111,
              "#46039f"
             ],
             [
              0.2222222222222222,
              "#7201a8"
             ],
             [
              0.3333333333333333,
              "#9c179e"
             ],
             [
              0.4444444444444444,
              "#bd3786"
             ],
             [
              0.5555555555555556,
              "#d8576b"
             ],
             [
              0.6666666666666666,
              "#ed7953"
             ],
             [
              0.7777777777777778,
              "#fb9f3a"
             ],
             [
              0.8888888888888888,
              "#fdca26"
             ],
             [
              1,
              "#f0f921"
             ]
            ],
            "type": "contour"
           }
          ],
          "contourcarpet": [
           {
            "colorbar": {
             "outlinewidth": 0,
             "ticks": ""
            },
            "type": "contourcarpet"
           }
          ],
          "heatmap": [
           {
            "colorbar": {
             "outlinewidth": 0,
             "ticks": ""
            },
            "colorscale": [
             [
              0,
              "#0d0887"
             ],
             [
              0.1111111111111111,
              "#46039f"
             ],
             [
              0.2222222222222222,
              "#7201a8"
             ],
             [
              0.3333333333333333,
              "#9c179e"
             ],
             [
              0.4444444444444444,
              "#bd3786"
             ],
             [
              0.5555555555555556,
              "#d8576b"
             ],
             [
              0.6666666666666666,
              "#ed7953"
             ],
             [
              0.7777777777777778,
              "#fb9f3a"
             ],
             [
              0.8888888888888888,
              "#fdca26"
             ],
             [
              1,
              "#f0f921"
             ]
            ],
            "type": "heatmap"
           }
          ],
          "heatmapgl": [
           {
            "colorbar": {
             "outlinewidth": 0,
             "ticks": ""
            },
            "colorscale": [
             [
              0,
              "#0d0887"
             ],
             [
              0.1111111111111111,
              "#46039f"
             ],
             [
              0.2222222222222222,
              "#7201a8"
             ],
             [
              0.3333333333333333,
              "#9c179e"
             ],
             [
              0.4444444444444444,
              "#bd3786"
             ],
             [
              0.5555555555555556,
              "#d8576b"
             ],
             [
              0.6666666666666666,
              "#ed7953"
             ],
             [
              0.7777777777777778,
              "#fb9f3a"
             ],
             [
              0.8888888888888888,
              "#fdca26"
             ],
             [
              1,
              "#f0f921"
             ]
            ],
            "type": "heatmapgl"
           }
          ],
          "histogram": [
           {
            "marker": {
             "pattern": {
              "fillmode": "overlay",
              "size": 10,
              "solidity": 0.2
             }
            },
            "type": "histogram"
           }
          ],
          "histogram2d": [
           {
            "colorbar": {
             "outlinewidth": 0,
             "ticks": ""
            },
            "colorscale": [
             [
              0,
              "#0d0887"
             ],
             [
              0.1111111111111111,
              "#46039f"
             ],
             [
              0.2222222222222222,
              "#7201a8"
             ],
             [
              0.3333333333333333,
              "#9c179e"
             ],
             [
              0.4444444444444444,
              "#bd3786"
             ],
             [
              0.5555555555555556,
              "#d8576b"
             ],
             [
              0.6666666666666666,
              "#ed7953"
             ],
             [
              0.7777777777777778,
              "#fb9f3a"
             ],
             [
              0.8888888888888888,
              "#fdca26"
             ],
             [
              1,
              "#f0f921"
             ]
            ],
            "type": "histogram2d"
           }
          ],
          "histogram2dcontour": [
           {
            "colorbar": {
             "outlinewidth": 0,
             "ticks": ""
            },
            "colorscale": [
             [
              0,
              "#0d0887"
             ],
             [
              0.1111111111111111,
              "#46039f"
             ],
             [
              0.2222222222222222,
              "#7201a8"
             ],
             [
              0.3333333333333333,
              "#9c179e"
             ],
             [
              0.4444444444444444,
              "#bd3786"
             ],
             [
              0.5555555555555556,
              "#d8576b"
             ],
             [
              0.6666666666666666,
              "#ed7953"
             ],
             [
              0.7777777777777778,
              "#fb9f3a"
             ],
             [
              0.8888888888888888,
              "#fdca26"
             ],
             [
              1,
              "#f0f921"
             ]
            ],
            "type": "histogram2dcontour"
           }
          ],
          "mesh3d": [
           {
            "colorbar": {
             "outlinewidth": 0,
             "ticks": ""
            },
            "type": "mesh3d"
           }
          ],
          "parcoords": [
           {
            "line": {
             "colorbar": {
              "outlinewidth": 0,
              "ticks": ""
             }
            },
            "type": "parcoords"
           }
          ],
          "pie": [
           {
            "automargin": true,
            "type": "pie"
           }
          ],
          "scatter": [
           {
            "fillpattern": {
             "fillmode": "overlay",
             "size": 10,
             "solidity": 0.2
            },
            "type": "scatter"
           }
          ],
          "scatter3d": [
           {
            "line": {
             "colorbar": {
              "outlinewidth": 0,
              "ticks": ""
             }
            },
            "marker": {
             "colorbar": {
              "outlinewidth": 0,
              "ticks": ""
             }
            },
            "type": "scatter3d"
           }
          ],
          "scattercarpet": [
           {
            "marker": {
             "colorbar": {
              "outlinewidth": 0,
              "ticks": ""
             }
            },
            "type": "scattercarpet"
           }
          ],
          "scattergeo": [
           {
            "marker": {
             "colorbar": {
              "outlinewidth": 0,
              "ticks": ""
             }
            },
            "type": "scattergeo"
           }
          ],
          "scattergl": [
           {
            "marker": {
             "colorbar": {
              "outlinewidth": 0,
              "ticks": ""
             }
            },
            "type": "scattergl"
           }
          ],
          "scattermapbox": [
           {
            "marker": {
             "colorbar": {
              "outlinewidth": 0,
              "ticks": ""
             }
            },
            "type": "scattermapbox"
           }
          ],
          "scatterpolar": [
           {
            "marker": {
             "colorbar": {
              "outlinewidth": 0,
              "ticks": ""
             }
            },
            "type": "scatterpolar"
           }
          ],
          "scatterpolargl": [
           {
            "marker": {
             "colorbar": {
              "outlinewidth": 0,
              "ticks": ""
             }
            },
            "type": "scatterpolargl"
           }
          ],
          "scatterternary": [
           {
            "marker": {
             "colorbar": {
              "outlinewidth": 0,
              "ticks": ""
             }
            },
            "type": "scatterternary"
           }
          ],
          "surface": [
           {
            "colorbar": {
             "outlinewidth": 0,
             "ticks": ""
            },
            "colorscale": [
             [
              0,
              "#0d0887"
             ],
             [
              0.1111111111111111,
              "#46039f"
             ],
             [
              0.2222222222222222,
              "#7201a8"
             ],
             [
              0.3333333333333333,
              "#9c179e"
             ],
             [
              0.4444444444444444,
              "#bd3786"
             ],
             [
              0.5555555555555556,
              "#d8576b"
             ],
             [
              0.6666666666666666,
              "#ed7953"
             ],
             [
              0.7777777777777778,
              "#fb9f3a"
             ],
             [
              0.8888888888888888,
              "#fdca26"
             ],
             [
              1,
              "#f0f921"
             ]
            ],
            "type": "surface"
           }
          ],
          "table": [
           {
            "cells": {
             "fill": {
              "color": "#EBF0F8"
             },
             "line": {
              "color": "white"
             }
            },
            "header": {
             "fill": {
              "color": "#C8D4E3"
             },
             "line": {
              "color": "white"
             }
            },
            "type": "table"
           }
          ]
         },
         "layout": {
          "annotationdefaults": {
           "arrowcolor": "#2a3f5f",
           "arrowhead": 0,
           "arrowwidth": 1
          },
          "autotypenumbers": "strict",
          "coloraxis": {
           "colorbar": {
            "outlinewidth": 0,
            "ticks": ""
           }
          },
          "colorscale": {
           "diverging": [
            [
             0,
             "#8e0152"
            ],
            [
             0.1,
             "#c51b7d"
            ],
            [
             0.2,
             "#de77ae"
            ],
            [
             0.3,
             "#f1b6da"
            ],
            [
             0.4,
             "#fde0ef"
            ],
            [
             0.5,
             "#f7f7f7"
            ],
            [
             0.6,
             "#e6f5d0"
            ],
            [
             0.7,
             "#b8e186"
            ],
            [
             0.8,
             "#7fbc41"
            ],
            [
             0.9,
             "#4d9221"
            ],
            [
             1,
             "#276419"
            ]
           ],
           "sequential": [
            [
             0,
             "#0d0887"
            ],
            [
             0.1111111111111111,
             "#46039f"
            ],
            [
             0.2222222222222222,
             "#7201a8"
            ],
            [
             0.3333333333333333,
             "#9c179e"
            ],
            [
             0.4444444444444444,
             "#bd3786"
            ],
            [
             0.5555555555555556,
             "#d8576b"
            ],
            [
             0.6666666666666666,
             "#ed7953"
            ],
            [
             0.7777777777777778,
             "#fb9f3a"
            ],
            [
             0.8888888888888888,
             "#fdca26"
            ],
            [
             1,
             "#f0f921"
            ]
           ],
           "sequentialminus": [
            [
             0,
             "#0d0887"
            ],
            [
             0.1111111111111111,
             "#46039f"
            ],
            [
             0.2222222222222222,
             "#7201a8"
            ],
            [
             0.3333333333333333,
             "#9c179e"
            ],
            [
             0.4444444444444444,
             "#bd3786"
            ],
            [
             0.5555555555555556,
             "#d8576b"
            ],
            [
             0.6666666666666666,
             "#ed7953"
            ],
            [
             0.7777777777777778,
             "#fb9f3a"
            ],
            [
             0.8888888888888888,
             "#fdca26"
            ],
            [
             1,
             "#f0f921"
            ]
           ]
          },
          "colorway": [
           "#636efa",
           "#EF553B",
           "#00cc96",
           "#ab63fa",
           "#FFA15A",
           "#19d3f3",
           "#FF6692",
           "#B6E880",
           "#FF97FF",
           "#FECB52"
          ],
          "font": {
           "color": "#2a3f5f"
          },
          "geo": {
           "bgcolor": "white",
           "lakecolor": "white",
           "landcolor": "#E5ECF6",
           "showlakes": true,
           "showland": true,
           "subunitcolor": "white"
          },
          "hoverlabel": {
           "align": "left"
          },
          "hovermode": "closest",
          "mapbox": {
           "style": "light"
          },
          "paper_bgcolor": "white",
          "plot_bgcolor": "#E5ECF6",
          "polar": {
           "angularaxis": {
            "gridcolor": "white",
            "linecolor": "white",
            "ticks": ""
           },
           "bgcolor": "#E5ECF6",
           "radialaxis": {
            "gridcolor": "white",
            "linecolor": "white",
            "ticks": ""
           }
          },
          "scene": {
           "xaxis": {
            "backgroundcolor": "#E5ECF6",
            "gridcolor": "white",
            "gridwidth": 2,
            "linecolor": "white",
            "showbackground": true,
            "ticks": "",
            "zerolinecolor": "white"
           },
           "yaxis": {
            "backgroundcolor": "#E5ECF6",
            "gridcolor": "white",
            "gridwidth": 2,
            "linecolor": "white",
            "showbackground": true,
            "ticks": "",
            "zerolinecolor": "white"
           },
           "zaxis": {
            "backgroundcolor": "#E5ECF6",
            "gridcolor": "white",
            "gridwidth": 2,
            "linecolor": "white",
            "showbackground": true,
            "ticks": "",
            "zerolinecolor": "white"
           }
          },
          "shapedefaults": {
           "line": {
            "color": "#2a3f5f"
           }
          },
          "ternary": {
           "aaxis": {
            "gridcolor": "white",
            "linecolor": "white",
            "ticks": ""
           },
           "baxis": {
            "gridcolor": "white",
            "linecolor": "white",
            "ticks": ""
           },
           "bgcolor": "#E5ECF6",
           "caxis": {
            "gridcolor": "white",
            "linecolor": "white",
            "ticks": ""
           }
          },
          "title": {
           "x": 0.05
          },
          "xaxis": {
           "automargin": true,
           "gridcolor": "white",
           "linecolor": "white",
           "ticks": "",
           "title": {
            "standoff": 15
           },
           "zerolinecolor": "white",
           "zerolinewidth": 2
          },
          "yaxis": {
           "automargin": true,
           "gridcolor": "white",
           "linecolor": "white",
           "ticks": "",
           "title": {
            "standoff": 15
           },
           "zerolinecolor": "white",
           "zerolinewidth": 2
          }
         }
        },
        "title": {
         "text": "P(ecFEV1 | uecFEV1=[3.   3.05] L)"
        },
        "width": 650,
        "xaxis": {
         "title": {
          "text": "ecFEV1 (L)"
         }
        }
       }
      }
     },
     "metadata": {},
     "output_type": "display_data"
    }
   ],
   "source": [
    "ecFEV1 = mh.VariableNode(\"ecFEV1 (L)\", 0, 6, 0.05, prior={\"type\": \"uniform\"})\n",
    "uecFEV1 = mh.VariableNode(\"Underlying ecFEV1 (L)\", 0, 6, 0.05, prior=None)\n",
    "std_gauss = 0.3\n",
    "\n",
    "# Plot the PDF of ecFEV1 given the middle bin of uecFEV1\n",
    "uecfev1_bin = uecFEV1.get_bins_arr()[uecFEV1.card // 2]\n",
    "print(\"uecFEV1 bin\", uecfev1_bin)\n",
    "# Get the PDF\n",
    "pdf = np.zeros(ecFEV1.card)\n",
    "for i, z in enumerate(ecFEV1.midbins):\n",
    "    pdf[i] = uecfev1.PDF_conv_uni_gausian(z, uecfev1_bin[0], uecfev1_bin[1], std_gauss)\n",
    "# Norm the pdf\n",
    "pdf /= np.sum(pdf)\n",
    "# Plot pdf with graph objects library\n",
    "fig = go.Figure()\n",
    "fig.add_trace(go.Bar(x=ecFEV1.midbins, y=pdf))\n",
    "title = f\"P(ecFEV1 | uecFEV1={uecfev1_bin} L)\"\n",
    "fig.update_layout(title=title, height=300, width=650)\n",
    "fig.update_xaxes(title_text=ecFEV1.name)\n",
    "fig.show()"
   ]
  },
  {
   "cell_type": "code",
   "execution_count": 39,
   "metadata": {},
   "outputs": [
    {
     "name": "stdout",
     "output_type": "stream",
     "text": [
      "uecFEV1 bin [3.   3.05]\n"
     ]
    }
   ],
   "source": [
    "ecFEV1 = mh.VariableNode(\"ecFEV1 (L)\", 0, 6, 0.05, prior={\"type\": \"uniform\"})\n",
    "uecFEV1 = mh.VariableNode(\"Underlying ecFEV1 (L)\", 0, 6, 0.05, prior=None)\n",
    "std_gauss = 0.23\n",
    "\n",
    "# Select bin that's no troubled by borders\n",
    "uecfev1_bin = uecFEV1.get_bins_arr()[uecFEV1.card // 2]\n",
    "print(\"uecFEV1 bin\", uecfev1_bin)\n",
    "# Get the PDF\n",
    "pdf = np.zeros(ecFEV1.card)\n",
    "for i, z in enumerate(ecFEV1.midbins):\n",
    "    pdf[i] = uecfev1.PDF_conv_uni_gausian(z, uecfev1_bin[0], uecfev1_bin[1], std_gauss)\n",
    "# Norm the pdf\n",
    "pdf /= np.sum(pdf)\n",
    "\n",
    "# The same PDF will be shifted across all uecFEV1/ ecFEV1 pairs\n",
    "# When hitting a border, the PDF will be truncated\n",
    "cpt = np.zeros((ecFEV1.card, uecFEV1.card))\n",
    "pdf_peek_idx = uecFEV1.card // 2\n",
    "for uecFEV1_idx, uecfev1_bin in enumerate(uecFEV1.get_bins_arr()):\n",
    "    pdf_trunc = np.zeros(len(pdf))\n",
    "    ecFEV1_idx_peek = uecFEV1_idx\n",
    "    peek_diff = pdf_peek_idx - ecFEV1_idx_peek\n",
    "    if peek_diff == 0:\n",
    "        pdf_trunc = pdf\n",
    "    elif peek_diff > 0:\n",
    "        pdf_trunc[0:-peek_diff] = pdf[peek_diff:]\n",
    "    else:\n",
    "        pdf_trunc[-peek_diff:] = pdf[:peek_diff]\n",
    "    # Norm the pdf\n",
    "    pdf_trunc /= np.sum(pdf_trunc)\n",
    "    cpt[:, uecFEV1_idx] = pdf_trunc"
   ]
  },
  {
   "cell_type": "code",
   "execution_count": 50,
   "metadata": {},
   "outputs": [],
   "source": [
    "import src.models.cpts.helpers as cpth\n",
    "import src.data.helpers as dh\n",
    "\n",
    "fig, title = cpth.plot_2d_cpt(cpt, ecFEV1, uecFEV1, height=6000, y_label_two_lines=True, p_range=[0, 0.16], vspace=0.002, invert=False)\n",
    "title = title + f\" for an ecFEV1 variability of {std_gauss}\"\n",
    "fig.update_layout(title=title)\n",
    "\n",
    "fig.write_image(f\"{dh.get_path_to_main()}PlotsBreathe/CPTs/{title}.pdf\")"
   ]
  },
  {
   "cell_type": "code",
   "execution_count": null,
   "metadata": {},
   "outputs": [],
   "source": [
    "# NOTE: THIS IMPLEMENTATION TAKES TOO LONG TO RUN, WHEN WITH ANALYTICAL SOLUTION INSTEAD\n",
    "def get_noise_model_CPT(\n",
    "    pVar: mh.VariableNode,\n",
    "    cVar: mh.VariableNode,\n",
    "    c_resolution: int,\n",
    "    std_gauss: float,\n",
    "    n: int,\n",
    "    debug=False,\n",
    "):\n",
    "    \"\"\"\n",
    "    pVar: parent variable, corresponds to the true value that would be obtained for that variable if we had a magic measurement devive\n",
    "    cVar: child variable, corresponds to the measured value, or a value that could be obtained with a measurement device from clinical practice\n",
    "    c_resolution: number of decimals, correspond to the resolution of the measurement device\n",
    "    std_gauss: standard deviation of the gaussian noise of the measurement device\n",
    "    n: number of samples to generate per bin of the parent variable\n",
    "    \"\"\"\n",
    "    cpt = np.zeros((cVar.card, pVar.card))\n",
    "    # Do it for one bin that's central,\n",
    "    # Then shift the values to the other bins\n",
    "\n",
    "    middle_bin = pVar.get_bins_arr()[pVar.card // 2]\n",
    "    real_arr = pVar.sample_from_bin(middle_bin, n)\n",
    "    # Add gaussian noise\n",
    "    # Truncnorm ensures that sampled values are plausible (within the possible values of the child variable)\n",
    "    # noisy_real_arr = [truncnorm(cVar.a, cVar.b, loc, std_gauss).rvs(1) for loc in real_arr]\n",
    "    noisy_real_arr = np.random.normal(real_arr, std_gauss)\n",
    "    # Round to measurement resolution\n",
    "    rounded_arr = np.round(noisy_real_arr, c_resolution)\n",
    "    # Discard values that are out of the possible values of the child variable\n",
    "    rounded_arr = rounded_arr[(rounded_arr >= cVar.a) & (rounded_arr <= cVar.b)]\n",
    "    # bin up the rounded values to the child variable\n",
    "    p_cVar_given_pVar_obs = cVar.bin_up(rounded_arr, normalise=True)\n",
    "\n",
    "    # # Get\n",
    "    # # Add to the CPT\n",
    "    # cpt[:, pVar.card // 2] = p_cVar_given_pVar_obs\n",
    "\n",
    "    # assert np.isclose(\n",
    "    #     cpt[:, i].sum(), 1, atol=cVar.tol\n",
    "    # ), f\"The sum of probabilities should be 1, got {cpt[:, i].sum()} while calculating P({cVar.name}|{pVar.name}={pVar_bin})\"\n",
    "    return p_cVar_given_pVar_obs\n",
    "\n",
    "ecFEV1 = mh.VariableNode(\"ecFEV1 (L)\", 0, 6, 0.05, prior={\"type\": \"uniform\"})\n",
    "uecFEV1 = mh.VariableNode(\"Underlying ecFEV1 (L)\", 0, 6, 0.05, prior=None)\n",
    "std_gauss = 0.3\n",
    "n_decimals = 2\n",
    "n = 100000000\n",
    "\n",
    "p = get_noise_model_CPT(uecFEV1, ecFEV1, n_decimals, std_gauss, n, debug=False)"
   ]
  }
 ],
 "metadata": {
  "kernelspec": {
   "display_name": "phd",
   "language": "python",
   "name": "python3"
  },
  "language_info": {
   "codemirror_mode": {
    "name": "ipython",
    "version": 3
   },
   "file_extension": ".py",
   "mimetype": "text/x-python",
   "name": "python",
   "nbconvert_exporter": "python",
   "pygments_lexer": "ipython3",
   "version": "3.10.13"
  }
 },
 "nbformat": 4,
 "nbformat_minor": 2
}
