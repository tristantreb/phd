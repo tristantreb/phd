{
 "cells": [
  {
   "cell_type": "markdown",
   "metadata": {},
   "source": [
    "Given discretised hfev1 variable node, define the prior distribution from LMS model"
   ]
  },
  {
   "cell_type": "code",
   "execution_count": 1,
   "metadata": {},
   "outputs": [],
   "source": [
    "import src.modelling_fev1.pred_fev1 as pred_fev1\n",
    "import numpy as np\n",
    "import src.models.helpers as mh\n",
    "from scipy.stats import norm"
   ]
  },
  {
   "cell_type": "code",
   "execution_count": 2,
   "metadata": {},
   "outputs": [
    {
     "data": {
      "text/plain": [
       "array([2. , 2.1, 2.2, 2.3, 2.4, 2.5, 2.6, 2.7, 2.8, 2.9, 3. , 3.1, 3.2,\n",
       "       3.3, 3.4, 3.5, 3.6, 3.7, 3.8, 3.9, 4. , 4.1, 4.2, 4.3, 4.4, 4.5,\n",
       "       4.6, 4.7, 4.8, 4.9, 5. , 5.1, 5.2, 5.3, 5.4, 5.5, 5.6, 5.7, 5.8,\n",
       "       5.9])"
      ]
     },
     "execution_count": 2,
     "metadata": {},
     "output_type": "execute_result"
    }
   ],
   "source": [
    "# Define hfev1 variable node\n",
    "HFEV1 = mh.VariableNode(\"HFEV1\", 2, 6, 0.1)\n",
    "HFEV1.bins"
   ]
  },
  {
   "cell_type": "code",
   "execution_count": 46,
   "metadata": {},
   "outputs": [],
   "source": [
    "def calc_hfev1_prior(hfev1_bins, height, age, sex):\n",
    "    \"\"\"\n",
    "    Computes the prior fo hfev1 given its bins\n",
    "    This model uses the inversed LMS function to compute the zscores of each bin given an array of hfev1/predictedFEV1 bin values\n",
    "    \"\"\"\n",
    "    # Compute the predicted FEV1 for the individual\n",
    "    fev1 = pred_fev1.calc_predicted_FEV1_LMS_straight(height, age, sex)\n",
    "    S = fev1[\"S\"]\n",
    "    M = fev1[\"mean\"]\n",
    "    L = fev1[\"L\"]\n",
    "\n",
    "    # Define inverse LMS function\n",
    "    def inverse_lms_pred_fev1(fev1_values, S, M, L):\n",
    "        return (np.exp(L * np.log(fev1_values / M)) - 1) / (S * L)\n",
    "\n",
    "    # Compute zscores for each bin\n",
    "    zscores = inverse_lms_pred_fev1(hfev1_bins, S, M, L)\n",
    "\n",
    "    # Get probabilities for each bin\n",
    "    p = norm.pdf(zscores)\n",
    "    p = p / p.sum()\n",
    "\n",
    "    return p"
   ]
  },
  {
   "cell_type": "code",
   "execution_count": 48,
   "metadata": {},
   "outputs": [
    {
     "name": "stdout",
     "output_type": "stream",
     "text": [
      "z=1, a=12.0\n",
      "z_bis=1.0000000000000002, a=12.0\n"
     ]
    }
   ],
   "source": [
    "# Validate inverse function\n",
    "S = 2\n",
    "L = 1\n",
    "M = 4\n",
    "\n",
    "z = 300\n",
    "a = np.exp(np.log(1 + z * S * L) / L + np.log(M))\n",
    "print(f\"z={z}, a={a}\")\n",
    "\n",
    "z_bis = (np.exp(L * np.log(a / M)) - 1) / (S * L)\n",
    "print(f\"z_bis={z_bis}, a={a}\")"
   ]
  },
  {
   "cell_type": "code",
   "execution_count": 60,
   "metadata": {},
   "outputs": [
    {
     "name": "stdout",
     "output_type": "stream",
     "text": [
      "predicted FEV1: 4.17065185293416\n",
      "sum of lms p = 1.0000000000000002, len(p) = 41\n",
      "41\n",
      "sum of p_gauss = 1.0000000000000002, len(p_gauss) = 41\n"
     ]
    },
    {
     "data": {
      "application/vnd.plotly.v1+json": {
       "config": {
        "plotlyServerURL": "https://plot.ly"
       },
       "data": [
        {
         "mode": "lines+markers",
         "name": "N(4.17, 0.45)",
         "type": "scatter",
         "x": [
          2,
          2.1,
          2.2,
          2.3000000000000003,
          2.4000000000000004,
          2.5000000000000004,
          2.6000000000000005,
          2.7000000000000006,
          2.8000000000000007,
          2.900000000000001,
          3.000000000000001,
          3.100000000000001,
          3.200000000000001,
          3.300000000000001,
          3.4000000000000012,
          3.5000000000000013,
          3.6000000000000014,
          3.7000000000000015,
          3.8000000000000016,
          3.9000000000000017,
          4.000000000000002,
          4.100000000000001,
          4.200000000000002,
          4.3000000000000025,
          4.400000000000002,
          4.500000000000002,
          4.600000000000002,
          4.700000000000003,
          4.8000000000000025,
          4.900000000000002,
          5.000000000000003,
          5.100000000000003,
          5.200000000000003,
          5.3000000000000025,
          5.400000000000003,
          5.5000000000000036,
          5.600000000000003,
          5.700000000000003,
          5.800000000000003,
          5.900000000000004,
          6.0000000000000036
         ],
         "y": [
          7.910418582351553e-7,
          0.0000022535554877270426,
          0.000006110692160261729,
          0.0000157712426796342,
          0.00003874313699083427,
          0.00009058932189723277,
          0.00020161024356667038,
          0.0004270724325893268,
          0.000861080674031798,
          0.001652492527786739,
          0.0030184815495314797,
          0.00524796470671152,
          0.008684536498580022,
          0.013679043879249392,
          0.020507758736439577,
          0.029264022047391862,
          0.039746893398557366,
          0.05138374143903879,
          0.06322686028762464,
          0.07405098976329819,
          0.08254931580495072,
          0.0875889756554716,
          0.08845833803891609,
          0.08503181764737025,
          0.07779962591033869,
          0.06775274786864521,
          0.05616033343295681,
          0.04430837272953486,
          0.03327325452219741,
          0.023782533807768583,
          0.01617984371524923,
          0.010477167348850392,
          0.0064575354385061085,
          0.003788288752351666,
          0.002115303606180182,
          0.0011242313815810576,
          0.0005687115612045874,
          0.0002738304682153428,
          0.00012549454257584257,
          0.0000547420768165717,
          0.000022728514847631345
         ]
        },
        {
         "mode": "lines+markers",
         "name": "LMS HO2Sat",
         "type": "scatter",
         "x": [
          2,
          2.1,
          2.2,
          2.3000000000000003,
          2.4000000000000004,
          2.5000000000000004,
          2.6000000000000005,
          2.7000000000000006,
          2.8000000000000007,
          2.900000000000001,
          3.000000000000001,
          3.100000000000001,
          3.200000000000001,
          3.300000000000001,
          3.4000000000000012,
          3.5000000000000013,
          3.6000000000000014,
          3.7000000000000015,
          3.8000000000000016,
          3.9000000000000017,
          4.000000000000002,
          4.100000000000001,
          4.200000000000002,
          4.3000000000000025,
          4.400000000000002,
          4.500000000000002,
          4.600000000000002,
          4.700000000000003,
          4.8000000000000025,
          4.900000000000002,
          5.000000000000003,
          5.100000000000003,
          5.200000000000003,
          5.3000000000000025,
          5.400000000000003,
          5.5000000000000036,
          5.600000000000003,
          5.700000000000003,
          5.800000000000003,
          5.900000000000004,
          6.0000000000000036
         ],
         "y": [
          0.00003209660001382562,
          0.000060261998716248724,
          0.00011108095527975761,
          0.00020075138773966797,
          0.0003552503165398557,
          0.0006147832532171866,
          0.0010391890718024301,
          0.0017137303270412442,
          0.0027540494995284964,
          0.004308267562220292,
          0.006553432115958559,
          0.009683134159830565,
          0.013883573485551791,
          0.01929712020450435,
          0.025975702856984507,
          0.03383082417831438,
          0.04259159426779543,
          0.05178512316089036,
          0.060752950463710265,
          0.06871154133252798,
          0.07485443677929171,
          0.0784807309120252,
          0.07912330930040445,
          0.0766453672909023,
          0.07127827509049059,
          0.06358773143196503,
          0.05437440539498448,
          0.04453339185795464,
          0.03490734100691948,
          0.026167464211529396,
          0.018745576201648094,
          0.012823623182347955,
          0.008371127489916877,
          0.0052108511593665285,
          0.00309085609445055,
          0.001745788896905999,
          0.0009383142373826802,
          0.0004795706655693656,
          0.0002329227402238901,
          0.00010743269150132182,
          0.00004702616605224816
         ]
        }
       ],
       "layout": {
        "template": {
         "data": {
          "bar": [
           {
            "error_x": {
             "color": "#2a3f5f"
            },
            "error_y": {
             "color": "#2a3f5f"
            },
            "marker": {
             "line": {
              "color": "#E5ECF6",
              "width": 0.5
             },
             "pattern": {
              "fillmode": "overlay",
              "size": 10,
              "solidity": 0.2
             }
            },
            "type": "bar"
           }
          ],
          "barpolar": [
           {
            "marker": {
             "line": {
              "color": "#E5ECF6",
              "width": 0.5
             },
             "pattern": {
              "fillmode": "overlay",
              "size": 10,
              "solidity": 0.2
             }
            },
            "type": "barpolar"
           }
          ],
          "carpet": [
           {
            "aaxis": {
             "endlinecolor": "#2a3f5f",
             "gridcolor": "white",
             "linecolor": "white",
             "minorgridcolor": "white",
             "startlinecolor": "#2a3f5f"
            },
            "baxis": {
             "endlinecolor": "#2a3f5f",
             "gridcolor": "white",
             "linecolor": "white",
             "minorgridcolor": "white",
             "startlinecolor": "#2a3f5f"
            },
            "type": "carpet"
           }
          ],
          "choropleth": [
           {
            "colorbar": {
             "outlinewidth": 0,
             "ticks": ""
            },
            "type": "choropleth"
           }
          ],
          "contour": [
           {
            "colorbar": {
             "outlinewidth": 0,
             "ticks": ""
            },
            "colorscale": [
             [
              0,
              "#0d0887"
             ],
             [
              0.1111111111111111,
              "#46039f"
             ],
             [
              0.2222222222222222,
              "#7201a8"
             ],
             [
              0.3333333333333333,
              "#9c179e"
             ],
             [
              0.4444444444444444,
              "#bd3786"
             ],
             [
              0.5555555555555556,
              "#d8576b"
             ],
             [
              0.6666666666666666,
              "#ed7953"
             ],
             [
              0.7777777777777778,
              "#fb9f3a"
             ],
             [
              0.8888888888888888,
              "#fdca26"
             ],
             [
              1,
              "#f0f921"
             ]
            ],
            "type": "contour"
           }
          ],
          "contourcarpet": [
           {
            "colorbar": {
             "outlinewidth": 0,
             "ticks": ""
            },
            "type": "contourcarpet"
           }
          ],
          "heatmap": [
           {
            "colorbar": {
             "outlinewidth": 0,
             "ticks": ""
            },
            "colorscale": [
             [
              0,
              "#0d0887"
             ],
             [
              0.1111111111111111,
              "#46039f"
             ],
             [
              0.2222222222222222,
              "#7201a8"
             ],
             [
              0.3333333333333333,
              "#9c179e"
             ],
             [
              0.4444444444444444,
              "#bd3786"
             ],
             [
              0.5555555555555556,
              "#d8576b"
             ],
             [
              0.6666666666666666,
              "#ed7953"
             ],
             [
              0.7777777777777778,
              "#fb9f3a"
             ],
             [
              0.8888888888888888,
              "#fdca26"
             ],
             [
              1,
              "#f0f921"
             ]
            ],
            "type": "heatmap"
           }
          ],
          "heatmapgl": [
           {
            "colorbar": {
             "outlinewidth": 0,
             "ticks": ""
            },
            "colorscale": [
             [
              0,
              "#0d0887"
             ],
             [
              0.1111111111111111,
              "#46039f"
             ],
             [
              0.2222222222222222,
              "#7201a8"
             ],
             [
              0.3333333333333333,
              "#9c179e"
             ],
             [
              0.4444444444444444,
              "#bd3786"
             ],
             [
              0.5555555555555556,
              "#d8576b"
             ],
             [
              0.6666666666666666,
              "#ed7953"
             ],
             [
              0.7777777777777778,
              "#fb9f3a"
             ],
             [
              0.8888888888888888,
              "#fdca26"
             ],
             [
              1,
              "#f0f921"
             ]
            ],
            "type": "heatmapgl"
           }
          ],
          "histogram": [
           {
            "marker": {
             "pattern": {
              "fillmode": "overlay",
              "size": 10,
              "solidity": 0.2
             }
            },
            "type": "histogram"
           }
          ],
          "histogram2d": [
           {
            "colorbar": {
             "outlinewidth": 0,
             "ticks": ""
            },
            "colorscale": [
             [
              0,
              "#0d0887"
             ],
             [
              0.1111111111111111,
              "#46039f"
             ],
             [
              0.2222222222222222,
              "#7201a8"
             ],
             [
              0.3333333333333333,
              "#9c179e"
             ],
             [
              0.4444444444444444,
              "#bd3786"
             ],
             [
              0.5555555555555556,
              "#d8576b"
             ],
             [
              0.6666666666666666,
              "#ed7953"
             ],
             [
              0.7777777777777778,
              "#fb9f3a"
             ],
             [
              0.8888888888888888,
              "#fdca26"
             ],
             [
              1,
              "#f0f921"
             ]
            ],
            "type": "histogram2d"
           }
          ],
          "histogram2dcontour": [
           {
            "colorbar": {
             "outlinewidth": 0,
             "ticks": ""
            },
            "colorscale": [
             [
              0,
              "#0d0887"
             ],
             [
              0.1111111111111111,
              "#46039f"
             ],
             [
              0.2222222222222222,
              "#7201a8"
             ],
             [
              0.3333333333333333,
              "#9c179e"
             ],
             [
              0.4444444444444444,
              "#bd3786"
             ],
             [
              0.5555555555555556,
              "#d8576b"
             ],
             [
              0.6666666666666666,
              "#ed7953"
             ],
             [
              0.7777777777777778,
              "#fb9f3a"
             ],
             [
              0.8888888888888888,
              "#fdca26"
             ],
             [
              1,
              "#f0f921"
             ]
            ],
            "type": "histogram2dcontour"
           }
          ],
          "mesh3d": [
           {
            "colorbar": {
             "outlinewidth": 0,
             "ticks": ""
            },
            "type": "mesh3d"
           }
          ],
          "parcoords": [
           {
            "line": {
             "colorbar": {
              "outlinewidth": 0,
              "ticks": ""
             }
            },
            "type": "parcoords"
           }
          ],
          "pie": [
           {
            "automargin": true,
            "type": "pie"
           }
          ],
          "scatter": [
           {
            "fillpattern": {
             "fillmode": "overlay",
             "size": 10,
             "solidity": 0.2
            },
            "type": "scatter"
           }
          ],
          "scatter3d": [
           {
            "line": {
             "colorbar": {
              "outlinewidth": 0,
              "ticks": ""
             }
            },
            "marker": {
             "colorbar": {
              "outlinewidth": 0,
              "ticks": ""
             }
            },
            "type": "scatter3d"
           }
          ],
          "scattercarpet": [
           {
            "marker": {
             "colorbar": {
              "outlinewidth": 0,
              "ticks": ""
             }
            },
            "type": "scattercarpet"
           }
          ],
          "scattergeo": [
           {
            "marker": {
             "colorbar": {
              "outlinewidth": 0,
              "ticks": ""
             }
            },
            "type": "scattergeo"
           }
          ],
          "scattergl": [
           {
            "marker": {
             "colorbar": {
              "outlinewidth": 0,
              "ticks": ""
             }
            },
            "type": "scattergl"
           }
          ],
          "scattermapbox": [
           {
            "marker": {
             "colorbar": {
              "outlinewidth": 0,
              "ticks": ""
             }
            },
            "type": "scattermapbox"
           }
          ],
          "scatterpolar": [
           {
            "marker": {
             "colorbar": {
              "outlinewidth": 0,
              "ticks": ""
             }
            },
            "type": "scatterpolar"
           }
          ],
          "scatterpolargl": [
           {
            "marker": {
             "colorbar": {
              "outlinewidth": 0,
              "ticks": ""
             }
            },
            "type": "scatterpolargl"
           }
          ],
          "scatterternary": [
           {
            "marker": {
             "colorbar": {
              "outlinewidth": 0,
              "ticks": ""
             }
            },
            "type": "scatterternary"
           }
          ],
          "surface": [
           {
            "colorbar": {
             "outlinewidth": 0,
             "ticks": ""
            },
            "colorscale": [
             [
              0,
              "#0d0887"
             ],
             [
              0.1111111111111111,
              "#46039f"
             ],
             [
              0.2222222222222222,
              "#7201a8"
             ],
             [
              0.3333333333333333,
              "#9c179e"
             ],
             [
              0.4444444444444444,
              "#bd3786"
             ],
             [
              0.5555555555555556,
              "#d8576b"
             ],
             [
              0.6666666666666666,
              "#ed7953"
             ],
             [
              0.7777777777777778,
              "#fb9f3a"
             ],
             [
              0.8888888888888888,
              "#fdca26"
             ],
             [
              1,
              "#f0f921"
             ]
            ],
            "type": "surface"
           }
          ],
          "table": [
           {
            "cells": {
             "fill": {
              "color": "#EBF0F8"
             },
             "line": {
              "color": "white"
             }
            },
            "header": {
             "fill": {
              "color": "#C8D4E3"
             },
             "line": {
              "color": "white"
             }
            },
            "type": "table"
           }
          ]
         },
         "layout": {
          "annotationdefaults": {
           "arrowcolor": "#2a3f5f",
           "arrowhead": 0,
           "arrowwidth": 1
          },
          "autotypenumbers": "strict",
          "coloraxis": {
           "colorbar": {
            "outlinewidth": 0,
            "ticks": ""
           }
          },
          "colorscale": {
           "diverging": [
            [
             0,
             "#8e0152"
            ],
            [
             0.1,
             "#c51b7d"
            ],
            [
             0.2,
             "#de77ae"
            ],
            [
             0.3,
             "#f1b6da"
            ],
            [
             0.4,
             "#fde0ef"
            ],
            [
             0.5,
             "#f7f7f7"
            ],
            [
             0.6,
             "#e6f5d0"
            ],
            [
             0.7,
             "#b8e186"
            ],
            [
             0.8,
             "#7fbc41"
            ],
            [
             0.9,
             "#4d9221"
            ],
            [
             1,
             "#276419"
            ]
           ],
           "sequential": [
            [
             0,
             "#0d0887"
            ],
            [
             0.1111111111111111,
             "#46039f"
            ],
            [
             0.2222222222222222,
             "#7201a8"
            ],
            [
             0.3333333333333333,
             "#9c179e"
            ],
            [
             0.4444444444444444,
             "#bd3786"
            ],
            [
             0.5555555555555556,
             "#d8576b"
            ],
            [
             0.6666666666666666,
             "#ed7953"
            ],
            [
             0.7777777777777778,
             "#fb9f3a"
            ],
            [
             0.8888888888888888,
             "#fdca26"
            ],
            [
             1,
             "#f0f921"
            ]
           ],
           "sequentialminus": [
            [
             0,
             "#0d0887"
            ],
            [
             0.1111111111111111,
             "#46039f"
            ],
            [
             0.2222222222222222,
             "#7201a8"
            ],
            [
             0.3333333333333333,
             "#9c179e"
            ],
            [
             0.4444444444444444,
             "#bd3786"
            ],
            [
             0.5555555555555556,
             "#d8576b"
            ],
            [
             0.6666666666666666,
             "#ed7953"
            ],
            [
             0.7777777777777778,
             "#fb9f3a"
            ],
            [
             0.8888888888888888,
             "#fdca26"
            ],
            [
             1,
             "#f0f921"
            ]
           ]
          },
          "colorway": [
           "#636efa",
           "#EF553B",
           "#00cc96",
           "#ab63fa",
           "#FFA15A",
           "#19d3f3",
           "#FF6692",
           "#B6E880",
           "#FF97FF",
           "#FECB52"
          ],
          "font": {
           "color": "#2a3f5f"
          },
          "geo": {
           "bgcolor": "white",
           "lakecolor": "white",
           "landcolor": "#E5ECF6",
           "showlakes": true,
           "showland": true,
           "subunitcolor": "white"
          },
          "hoverlabel": {
           "align": "left"
          },
          "hovermode": "closest",
          "mapbox": {
           "style": "light"
          },
          "paper_bgcolor": "white",
          "plot_bgcolor": "#E5ECF6",
          "polar": {
           "angularaxis": {
            "gridcolor": "white",
            "linecolor": "white",
            "ticks": ""
           },
           "bgcolor": "#E5ECF6",
           "radialaxis": {
            "gridcolor": "white",
            "linecolor": "white",
            "ticks": ""
           }
          },
          "scene": {
           "xaxis": {
            "backgroundcolor": "#E5ECF6",
            "gridcolor": "white",
            "gridwidth": 2,
            "linecolor": "white",
            "showbackground": true,
            "ticks": "",
            "zerolinecolor": "white"
           },
           "yaxis": {
            "backgroundcolor": "#E5ECF6",
            "gridcolor": "white",
            "gridwidth": 2,
            "linecolor": "white",
            "showbackground": true,
            "ticks": "",
            "zerolinecolor": "white"
           },
           "zaxis": {
            "backgroundcolor": "#E5ECF6",
            "gridcolor": "white",
            "gridwidth": 2,
            "linecolor": "white",
            "showbackground": true,
            "ticks": "",
            "zerolinecolor": "white"
           }
          },
          "shapedefaults": {
           "line": {
            "color": "#2a3f5f"
           }
          },
          "ternary": {
           "aaxis": {
            "gridcolor": "white",
            "linecolor": "white",
            "ticks": ""
           },
           "baxis": {
            "gridcolor": "white",
            "linecolor": "white",
            "ticks": ""
           },
           "bgcolor": "#E5ECF6",
           "caxis": {
            "gridcolor": "white",
            "linecolor": "white",
            "ticks": ""
           }
          },
          "title": {
           "x": 0.05
          },
          "xaxis": {
           "automargin": true,
           "gridcolor": "white",
           "linecolor": "white",
           "ticks": "",
           "title": {
            "standoff": 15
           },
           "zerolinecolor": "white",
           "zerolinewidth": 2
          },
          "yaxis": {
           "automargin": true,
           "gridcolor": "white",
           "linecolor": "white",
           "ticks": "",
           "title": {
            "standoff": 15
           },
           "zerolinecolor": "white",
           "zerolinewidth": 2
          }
         }
        },
        "title": {
         "text": "Probability distribution for HO2Sat"
        }
       }
      }
     },
     "metadata": {},
     "output_type": "display_data"
    }
   ],
   "source": [
    "p, z = pred_fev1.calc_proba_for_hfev1(HFEV1.bins, 172, 30, \"Male\")\n",
    "print(f\"sum of lms p = {sum(p)}, len(p) = {len(p)}\")\n",
    "\n",
    "print(len(HFEV1.bins))\n",
    "\n",
    "p_gauss = norm(4.17, 0.45).pdf(HFEV1.bins)\n",
    "# Normalise p_gauss\n",
    "p_gauss = p_gauss / p_gauss.sum()\n",
    "print(f\"sum of p_gauss = {sum(p_gauss)}, len(p_gauss) = {len(p_gauss)}\")\n",
    "\n",
    "\n",
    "# Using plotly go, plot the probability distribution\n",
    "import plotly.graph_objects as go\n",
    "\n",
    "fig = go.Figure()\n",
    "# Add trace with values from normal distribution centered on 4.17 and sigma 0.45\n",
    "fig.add_trace(\n",
    "    go.Scatter(x=HFEV1.bins, y=p_gauss, mode=\"lines+markers\", name=\"N(4.17, 0.45)\")\n",
    ")\n",
    "fig.add_trace(go.Scatter(x=HFEV1.bins, y=p, mode=\"lines+markers\", name=\"LMS hfev1\"))\n",
    "fig.update_layout(title=\"Probability distribution for hfev1\")\n",
    "fig.show()"
   ]
  },
  {
   "cell_type": "code",
   "execution_count": 57,
   "metadata": {},
   "outputs": [
    {
     "name": "stdout",
     "output_type": "stream",
     "text": [
      "Area under curve for p = 0.09999604386169679\n"
     ]
    }
   ],
   "source": [
    "# Calculate area under curve for p\n",
    "print(f\"Area under curve for p = {np.trapz(p, HFEV1.bins)}\")"
   ]
  },
  {
   "cell_type": "code",
   "execution_count": 6,
   "metadata": {},
   "outputs": [
    {
     "data": {
      "text/plain": [
       "'[2.0; 2.1)'"
      ]
     },
     "execution_count": 6,
     "metadata": {},
     "output_type": "execute_result"
    }
   ],
   "source": [
    "HFEV1.bins_str[0]"
   ]
  },
  {
   "cell_type": "code",
   "execution_count": 10,
   "metadata": {},
   "outputs": [
    {
     "data": {
      "text/plain": [
       "['[2.0; 2.1)',\n",
       " '[2.1; 2.2)',\n",
       " '[2.2; 2.3)',\n",
       " '[2.3; 2.4)',\n",
       " '[2.4; 2.5)',\n",
       " '[2.5; 2.6)',\n",
       " '[2.6; 2.7)',\n",
       " '[2.7; 2.8)',\n",
       " '[2.8; 2.9)',\n",
       " '[2.9; 3.0)',\n",
       " '[3.0; 3.1)',\n",
       " '[3.1; 3.2)',\n",
       " '[3.2; 3.3)',\n",
       " '[3.3; 3.4)',\n",
       " '[3.4; 3.5)',\n",
       " '[3.5; 3.6)',\n",
       " '[3.6; 3.7)',\n",
       " '[3.7; 3.8)',\n",
       " '[3.8; 3.9)',\n",
       " '[3.9; 4.0)',\n",
       " '[4.0; 4.1)',\n",
       " '[4.1; 4.2)',\n",
       " '[4.2; 4.3)',\n",
       " '[4.3; 4.4)',\n",
       " '[4.4; 4.5)',\n",
       " '[4.5; 4.6)',\n",
       " '[4.6; 4.7)',\n",
       " '[4.7; 4.8)',\n",
       " '[4.8; 4.9)',\n",
       " '[4.9; 5.0)',\n",
       " '[5.0; 5.1)',\n",
       " '[5.1; 5.2)',\n",
       " '[5.2; 5.3)',\n",
       " '[5.3; 5.4)',\n",
       " '[5.4; 5.5)',\n",
       " '[5.5; 5.6)',\n",
       " '[5.6; 5.7)',\n",
       " '[5.7; 5.8)',\n",
       " '[5.8; 5.9)',\n",
       " '[5.9; 6)']"
      ]
     },
     "execution_count": 10,
     "metadata": {},
     "output_type": "execute_result"
    }
   ],
   "source": [
    "last_elem = 6\n",
    "bins_str = []\n",
    "bins_arr = np.array([])\n",
    "for i in range(len(HFEV1.bins)):\n",
    "    low = round(HFEV1.bins[i], 2)\n",
    "    up = HFEV1.b if i == (len(HFEV1.bins) - 1) else round(HFEV1.bins[i + 1], 2)\n",
    "\n",
    "[\n",
    "    f\"[{round(HFEV1.bins[i], 2)}; {last_elem if i == (len(HFEV1.bins)-1) else round(HFEV1.bins[i+1], 2)})\"\n",
    "    for i in range(len(HFEV1.bins))\n",
    "]"
   ]
  },
  {
   "cell_type": "code",
   "execution_count": null,
   "metadata": {},
   "outputs": [],
   "source": []
  }
 ],
 "metadata": {
  "kernelspec": {
   "display_name": "phd",
   "language": "python",
   "name": "python3"
  },
  "language_info": {
   "codemirror_mode": {
    "name": "ipython",
    "version": 3
   },
   "file_extension": ".py",
   "mimetype": "text/x-python",
   "name": "python",
   "nbconvert_exporter": "python",
   "pygments_lexer": "ipython3",
   "version": "3.10.13"
  },
  "orig_nbformat": 4
 },
 "nbformat": 4,
 "nbformat_minor": 2
}
