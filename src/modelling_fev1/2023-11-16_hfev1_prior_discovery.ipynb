{
    "cells": [
        {
            "cell_type": "markdown",
            "metadata": {},
            "source": [
                "Given discretised hfev1 variable node, define the prior distribution from LMS model"
            ]
        },
        {
            "cell_type": "code",
            "execution_count": 2,
            "metadata": {},
            "outputs": [],
            "source": [
                "import src.modelling_fev1.pred_fev1 as pred_fev1\n",
                "import numpy as np\n",
                "import src.models.helpers as mh\n",
                "from scipy.stats import norm\n",
                "import plotly.graph_objects as go"
            ]
        },
        {
            "cell_type": "markdown",
            "metadata": {},
            "source": [
                "## Compare implementation with real example"
            ]
        },
        {
            "cell_type": "code",
            "execution_count": 3,
            "metadata": {},
            "outputs": [
                {
                    "name": "stdout",
                    "output_type": "stream",
                    "text": [
                        "M = exp(-10.342 + 2.2196*ln(107) + 0.0574*ln(5) + -0.0752420061)\n",
                        "S = exp(-2.3268 + 0.0798*ln(5) + 0.1534965724)\n",
                        "L = 0.8866 + 0.085*ln(5)\n",
                        "LMS pred for zscore -1.644 = exp(ln(1 + -1.644 * 1.0234022225568986 * 0.12939697398113087) / 1.0234022225568986 + ln(1.0480702447075994)) = 0.8245143022244273\n"
                    ]
                },
                {
                    "data": {
                        "text/plain": [
                            "{'M': 1.0480702447075994,\n",
                            " 'sigma_up': 0.13542047783272881,\n",
                            " 'sigma_down': 0.13583240112542327,\n",
                            " 'LLN': 0.8245143022244273,\n",
                            " 'L': 1.0234022225568986,\n",
                            " 'S': 0.12939697398113087}"
                        ]
                    },
                    "execution_count": 3,
                    "metadata": {},
                    "output_type": "execute_result"
                }
            ],
            "source": [
                "pred_fev1.calc_predicted_FEV1_LMS_straight(107, 5, \"Male\", True)"
            ]
        },
        {
            "cell_type": "code",
            "execution_count": 4,
            "metadata": {},
            "outputs": [
                {
                    "name": "stdout",
                    "output_type": "stream",
                    "text": [
                        "{'M': {'Intercept': -10.342, 'Height': 2.2196, 'Age': 0.0574}, 'S': {'Intercept': -2.3268, 'Age': 0.0798}, 'L': {'Intercept': 0.8866, 'Age': 0.085}}\n",
                        "M = exp(-10.342 + 2.2196*ln(107) + 0.0574*ln(4.8) + -0.0766)\n",
                        "S = exp(-2.3268 + 0.0798*ln(4.8) + 0.1581)\n",
                        "L = 0.8866 + 0.085*ln(4.8)\n",
                        "LMS pred for zscore -1.644 = exp(ln(1 + -1.644 * 1.019932353022677 * 0.12957123786469144) / 1.019932353022677 + ln(1.0441983216227528)) = 0.8212568103815278\n"
                    ]
                },
                {
                    "data": {
                        "text/plain": [
                            "{'M': 1.0441983216227528,\n",
                            " 'sigma_up': 0.135130716328544,\n",
                            " 'sigma_down': 0.1354811997810803,\n",
                            " 'LLN': 0.8212568103815278,\n",
                            " 'L': 1.019932353022677,\n",
                            " 'S': 0.12957123786469144}"
                        ]
                    },
                    "execution_count": 4,
                    "metadata": {},
                    "output_type": "execute_result"
                }
            ],
            "source": [
                "# Young white boy\n",
                "age = 4.8\n",
                "sex=\"Male\"\n",
                "height=107\n",
                "spline_vals = {\n",
                "    \"Mspline\": -0.0766,\n",
                "    \"Sspline\": 0.1581,\n",
                "}\n",
                "coeffs = pred_fev1.load_LMS_coeffs(sex)\n",
                "print(coeffs)\n",
                "pred_fev1.calc_predicted_FEV1_LMS(spline_vals, coeffs, height, age, sex, True)"
            ]
        },
        {
            "cell_type": "code",
            "execution_count": 5,
            "metadata": {},
            "outputs": [
                {
                    "data": {
                        "text/plain": [
                            "{'M': 4.063772841379649,\n",
                            " 'sigma_up': 0.4839054202339641,\n",
                            " 'sigma_down': 0.49427898234144285,\n",
                            " 'LLN': 3.2447818928058143,\n",
                            " 'L': 1.1757017774412832,\n",
                            " 'S': 0.12028487464044268}"
                        ]
                    },
                    "execution_count": 5,
                    "metadata": {},
                    "output_type": "execute_result"
                }
            ],
            "source": [
                "pred_fev1.calc_predicted_FEV1_LMS(\n",
                "        pred_fev1.load_LMS_spline_vals(30, \"Male\"),\n",
                "        pred_fev1.load_LMS_coeffs(\"Male\"),\n",
                "        170,\n",
                "        30,\n",
                "        \"Male\",\n",
                "    )"
            ]
        },
        {
            "cell_type": "markdown",
            "metadata": {},
            "source": [
                "## Archive"
            ]
        },
        {
            "cell_type": "code",
            "execution_count": 7,
            "metadata": {},
            "outputs": [
                {
                    "data": {
                        "text/plain": [
                            "array([2. , 2.1, 2.2, 2.3, 2.4, 2.5, 2.6, 2.7, 2.8, 2.9, 3. , 3.1, 3.2,\n",
                            "       3.3, 3.4, 3.5, 3.6, 3.7, 3.8, 3.9, 4. , 4.1, 4.2, 4.3, 4.4, 4.5,\n",
                            "       4.6, 4.7, 4.8, 4.9, 5. , 5.1, 5.2, 5.3, 5.4, 5.5, 5.6, 5.7, 5.8,\n",
                            "       5.9])"
                        ]
                    },
                    "execution_count": 7,
                    "metadata": {},
                    "output_type": "execute_result"
                }
            ],
            "source": [
                "# Define hfev1 variable node\n",
                "HFEV1 = mh.VariableNode(\"HFEV1\", 2, 6, 0.1, prior=None)\n",
                "HFEV1.bins"
            ]
        },
        {
            "cell_type": "code",
            "execution_count": 8,
            "metadata": {},
            "outputs": [],
            "source": [
                "def calc_hfev1_prior(hfev1_bins, height, age, sex):\n",
                "    \"\"\"\n",
                "    Computes the prior fo hfev1 given its bins\n",
                "    This model uses the inversed LMS function to compute the zscores of each bin given an array of hfev1/predictedFEV1 bin values\n",
                "    \"\"\"\n",
                "    # Compute the predicted FEV1 for the individual\n",
                "    fev1 = pred_fev1.calc_predicted_FEV1_LMS_straight(height, age, sex)\n",
                "    S = fev1[\"S\"]\n",
                "    M = fev1[\"mean\"]\n",
                "    L = fev1[\"L\"]\n",
                "\n",
                "    # Define inverse LMS function\n",
                "    def inverse_lms_pred_fev1(fev1_values, S, M, L):\n",
                "        return (np.exp(L * np.log(fev1_values / M)) - 1) / (S * L)\n",
                "\n",
                "    # Compute zscores for each bin\n",
                "    zscores = inverse_lms_pred_fev1(hfev1_bins, S, M, L)\n",
                "\n",
                "    # Get probabilities for each bin\n",
                "    p = norm.pdf(zscores)\n",
                "    p = p / p.sum()\n",
                "\n",
                "    return p"
            ]
        },
        {
            "cell_type": "code",
            "execution_count": 9,
            "metadata": {},
            "outputs": [
                {
                    "name": "stdout",
                    "output_type": "stream",
                    "text": [
                        "z=300, a=2404.0000000000005\n",
                        "z_bis=300.0, a=2404.0000000000005\n"
                    ]
                }
            ],
            "source": [
                "# Validate inverse function\n",
                "S = 2\n",
                "L = 1\n",
                "M = 4\n",
                "\n",
                "z = 300\n",
                "a = np.exp(np.log(1 + z * S * L) / L + np.log(M))\n",
                "print(f\"z={z}, a={a}\")\n",
                "\n",
                "z_bis = (np.exp(L * np.log(a / M)) - 1) / (S * L)\n",
                "print(f\"z_bis={z_bis}, a={a}\")"
            ]
        },
        {
            "cell_type": "code",
            "execution_count": 10,
            "metadata": {},
            "outputs": [
                {
                    "ename": "AttributeError",
                    "evalue": "module 'src.modelling_fev1.pred_fev1' has no attribute 'calc_proba_for_hfev1'",
                    "output_type": "error",
                    "traceback": [
                        "\u001b[0;31m---------------------------------------------------------------------------\u001b[0m",
                        "\u001b[0;31mAttributeError\u001b[0m                            Traceback (most recent call last)",
                        "Cell \u001b[0;32mIn[10], line 1\u001b[0m\n\u001b[0;32m----> 1\u001b[0m p, z \u001b[38;5;241m=\u001b[39m \u001b[43mpred_fev1\u001b[49m\u001b[38;5;241;43m.\u001b[39;49m\u001b[43mcalc_proba_for_hfev1\u001b[49m(HFEV1\u001b[38;5;241m.\u001b[39mbins, \u001b[38;5;241m172\u001b[39m, \u001b[38;5;241m30\u001b[39m, \u001b[38;5;124m\"\u001b[39m\u001b[38;5;124mMale\u001b[39m\u001b[38;5;124m\"\u001b[39m)\n\u001b[1;32m      2\u001b[0m \u001b[38;5;28mprint\u001b[39m(\u001b[38;5;124mf\u001b[39m\u001b[38;5;124m\"\u001b[39m\u001b[38;5;124msum of lms p = \u001b[39m\u001b[38;5;132;01m{\u001b[39;00m\u001b[38;5;28msum\u001b[39m(p)\u001b[38;5;132;01m}\u001b[39;00m\u001b[38;5;124m, len(p) = \u001b[39m\u001b[38;5;132;01m{\u001b[39;00m\u001b[38;5;28mlen\u001b[39m(p)\u001b[38;5;132;01m}\u001b[39;00m\u001b[38;5;124m\"\u001b[39m)\n\u001b[1;32m      4\u001b[0m \u001b[38;5;28mprint\u001b[39m(HFEV1\u001b[38;5;241m.\u001b[39mcard)\n",
                        "\u001b[0;31mAttributeError\u001b[0m: module 'src.modelling_fev1.pred_fev1' has no attribute 'calc_proba_for_hfev1'"
                    ]
                }
            ],
            "source": [
                "p, z = pred_fev1.calc_proba_for_hfev1(HFEV1.bins, 172, 30, \"Male\")\n",
                "print(f\"sum of lms p = {sum(p)}, len(p) = {len(p)}\")\n",
                "\n",
                "print(HFEV1.card)\n",
                "\n",
                "p_gauss = norm(4.17, 0.45).pdf(HFEV1.bins)\n",
                "# Normalise p_gauss\n",
                "p_gauss = p_gauss / p_gauss.sum()\n",
                "print(f\"sum of p_gauss = {sum(p_gauss)}, len(p_gauss) = {len(p_gauss)}\")\n",
                "\n",
                "\n",
                "# Using plotly go, plot the probability distribution\n",
                "\n",
                "fig = go.Figure()\n",
                "# Add trace with values from normal distribution centered on 4.17 and sigma 0.45\n",
                "fig.add_trace(\n",
                "    go.Scatter(x=HFEV1.bins, y=p_gauss, mode=\"lines+markers\", name=\"N(4.17, 0.45)\")\n",
                ")\n",
                "fig.add_trace(go.Scatter(x=HFEV1.bins, y=p, mode=\"lines+markers\", name=\"LMS hfev1\"))\n",
                "fig.update_layout(title=\"Probability distribution for hfev1\")\n",
                "fig.show()"
            ]
        },
        {
            "cell_type": "code",
            "execution_count": 57,
            "metadata": {},
            "outputs": [
                {
                    "name": "stdout",
                    "output_type": "stream",
                    "text": [
                        "Area under curve for p = 0.09999604386169679\n"
                    ]
                }
            ],
            "source": [
                "# Calculate area under curve for p\n",
                "print(f\"Area under curve for p = {np.trapz(p, HFEV1.bins)}\")"
            ]
        },
        {
            "cell_type": "code",
            "execution_count": 6,
            "metadata": {},
            "outputs": [
                {
                    "data": {
                        "text/plain": [
                            "'[2.0; 2.1)'"
                        ]
                    },
                    "execution_count": 6,
                    "metadata": {},
                    "output_type": "execute_result"
                }
            ],
            "source": [
                "HFEV1.get_bins_str()[0]"
            ]
        },
        {
            "cell_type": "code",
            "execution_count": 10,
            "metadata": {},
            "outputs": [
                {
                    "data": {
                        "text/plain": [
                            "['[2.0; 2.1)',\n",
                            " '[2.1; 2.2)',\n",
                            " '[2.2; 2.3)',\n",
                            " '[2.3; 2.4)',\n",
                            " '[2.4; 2.5)',\n",
                            " '[2.5; 2.6)',\n",
                            " '[2.6; 2.7)',\n",
                            " '[2.7; 2.8)',\n",
                            " '[2.8; 2.9)',\n",
                            " '[2.9; 3.0)',\n",
                            " '[3.0; 3.1)',\n",
                            " '[3.1; 3.2)',\n",
                            " '[3.2; 3.3)',\n",
                            " '[3.3; 3.4)',\n",
                            " '[3.4; 3.5)',\n",
                            " '[3.5; 3.6)',\n",
                            " '[3.6; 3.7)',\n",
                            " '[3.7; 3.8)',\n",
                            " '[3.8; 3.9)',\n",
                            " '[3.9; 4.0)',\n",
                            " '[4.0; 4.1)',\n",
                            " '[4.1; 4.2)',\n",
                            " '[4.2; 4.3)',\n",
                            " '[4.3; 4.4)',\n",
                            " '[4.4; 4.5)',\n",
                            " '[4.5; 4.6)',\n",
                            " '[4.6; 4.7)',\n",
                            " '[4.7; 4.8)',\n",
                            " '[4.8; 4.9)',\n",
                            " '[4.9; 5.0)',\n",
                            " '[5.0; 5.1)',\n",
                            " '[5.1; 5.2)',\n",
                            " '[5.2; 5.3)',\n",
                            " '[5.3; 5.4)',\n",
                            " '[5.4; 5.5)',\n",
                            " '[5.5; 5.6)',\n",
                            " '[5.6; 5.7)',\n",
                            " '[5.7; 5.8)',\n",
                            " '[5.8; 5.9)',\n",
                            " '[5.9; 6)']"
                        ]
                    },
                    "execution_count": 10,
                    "metadata": {},
                    "output_type": "execute_result"
                }
            ],
            "source": [
                "last_elem = 6\n",
                "bins_str = []\n",
                "bins_arr = np.array([])\n",
                "for i in range(HFEV1.card):\n",
                "    low = round(HFEV1.bins[i], 2)\n",
                "    up = HFEV1.b if i == (HFEV1.card - 1) else round(HFEV1.bins[i + 1], 2)\n",
                "\n",
                "[\n",
                "    f\"[{round(HFEV1.bins[i], 2)}; {last_elem if i == (HFEV1.card-1) else round(HFEV1.bins[i+1], 2)})\"\n",
                "    for i in range(HFEV1.card)\n",
                "]"
            ]
        },
        {
            "cell_type": "code",
            "execution_count": null,
            "metadata": {},
            "outputs": [],
            "source": []
        }
    ],
    "metadata": {
        "kernelspec": {
            "display_name": "phd",
            "language": "python",
            "name": "python3"
        },
        "language_info": {
            "codemirror_mode": {
                "name": "ipython",
                "version": 3
            },
            "file_extension": ".py",
            "mimetype": "text/x-python",
            "name": "python",
            "nbconvert_exporter": "python",
            "pygments_lexer": "ipython3",
            "version": "3.10.13"
        },
        "orig_nbformat": 4
    },
    "nbformat": 4,
    "nbformat_minor": 2
}
