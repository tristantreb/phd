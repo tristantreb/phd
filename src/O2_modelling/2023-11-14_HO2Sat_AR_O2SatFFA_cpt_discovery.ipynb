{
 "cells": [
  {
   "cell_type": "markdown",
   "metadata": {},
   "source": [
    "This notebook contains the discovery for how to calculate the CPT for P(O2 Saturation Fully Functional Alveoli | Healthy O2 Saturation, Airway Resistance)"
   ]
  },
  {
   "cell_type": "code",
   "execution_count": 1,
   "metadata": {},
   "outputs": [],
   "source": [
    "import numpy as np\n",
    "import sys\n",
    "\n",
    "sys.path.append(\"../milestone_model\")\n",
    "import lung_health_models\n",
    "\n",
    "# Import import model_helpers as mh\n",
    "sys.path.append(\"../model_helpers\")\n",
    "import model_helpers as mh"
   ]
  },
  {
   "cell_type": "code",
   "execution_count": 2,
   "metadata": {},
   "outputs": [
    {
     "data": {
      "text/plain": [
       "array([[0.1 , 0.2 , 0.3 , 0.4 , 0.5 , 0.6 ],\n",
       "       [0.7 , 0.8 , 0.9 , 0.11, 0.12, 0.13]])"
      ]
     },
     "execution_count": 2,
     "metadata": {},
     "output_type": "execute_result"
    }
   ],
   "source": [
    "# How to use reshape to convert a 3D CPT to a 2D that can be ingested by PGMPY?\n",
    "\n",
    "CPT_i_j_k = np.array(\n",
    "    [[[0.1, 0.2, 0.3], [0.4, 0.5, 0.6]], [[0.7, 0.8, 0.9], [0.11, 0.12, 0.13]]]\n",
    ")\n",
    "CPT_i_j_k.shape\n",
    "# Reshape to 2D\n",
    "CPT_i_j_k.reshape(2, 6)"
   ]
  },
  {
   "cell_type": "code",
   "execution_count": 3,
   "metadata": {},
   "outputs": [
    {
     "name": "stdout",
     "output_type": "stream",
     "text": [
      "*** Building lung model with HFEV1 and AB ***\n",
      "Defining gaussian prior with mu = 3.50, sigma = 0.4\n",
      "Defining gaussian prior with mu = 0.98, sigma = 0.01\n"
     ]
    },
    {
     "name": "stderr",
     "output_type": "stream",
     "text": [
      "/Users/tristan.trebaol/Desktop/PhD/Code/phd/src/O2_modelling/../milestone_model/model_helpers.py:289: IntegrationWarning: The maximum number of subdivisions (50) has been achieved.\n",
      "  If increasing the limit yields no improvement it is advised to analyze \n",
      "  the integrand in order to determine the difficulties.  If the position of a \n",
      "  local difficulty can be determined (singularity, discontinuity) one will \n",
      "  probably gain from splitting up the interval and calling the integrator \n",
      "  on the subranges.  Perhaps a special-purpose integrator should be used.\n",
      "  val, abserr = integrate.quad(\n"
     ]
    }
   ],
   "source": [
    "healthy_FEV1_prior = {\n",
    "    \"type\": \"gaussian\",\n",
    "    \"mu\": 3.5,\n",
    "    \"sigma\": 0.4,\n",
    "}\n",
    "healthy_o2sat_prior = {\n",
    "    \"type\": \"gaussian\",\n",
    "    \"mu\": 0.98,\n",
    "    \"sigma\": 0.01,\n",
    "}\n",
    "(\n",
    "    model,\n",
    "    HFEV1,\n",
    "    prior_hfev1,\n",
    "    FEV1,\n",
    "    HO2Sat,\n",
    "    prior_ho2sat,\n",
    "    O2SatFFA,\n",
    "    AR,\n",
    "    prior_ar,\n",
    ") = lung_health_models.build_FEV1_O2_point_in_time_model(\n",
    "    healthy_FEV1_prior, healthy_o2sat_prior\n",
    ")"
   ]
  },
  {
   "cell_type": "code",
   "execution_count": 4,
   "metadata": {},
   "outputs": [
    {
     "data": {
      "text/plain": [
       "array([0.8 , 0.81, 0.82, 0.83, 0.84, 0.85, 0.86, 0.87, 0.88, 0.89, 0.9 ,\n",
       "       0.91, 0.92, 0.93, 0.94, 0.95, 0.96, 0.97, 0.98, 0.99, 1.  ])"
      ]
     },
     "execution_count": 4,
     "metadata": {},
     "output_type": "execute_result"
    }
   ],
   "source": [
    "HO2Sat.bins"
   ]
  },
  {
   "cell_type": "code",
   "execution_count": 106,
   "metadata": {},
   "outputs": [
    {
     "data": {
      "text/plain": [
       "(31,)"
      ]
     },
     "execution_count": 106,
     "metadata": {},
     "output_type": "execute_result"
    }
   ],
   "source": [
    "O2SatFFA.bins.shape"
   ]
  },
  {
   "cell_type": "code",
   "execution_count": 6,
   "metadata": {},
   "outputs": [
    {
     "data": {
      "text/plain": [
       "array([0.  , 0.01, 0.02, 0.03, 0.04, 0.05, 0.06, 0.07, 0.08, 0.09, 0.1 ,\n",
       "       0.11, 0.12, 0.13, 0.14, 0.15, 0.16, 0.17, 0.18, 0.19, 0.2 , 0.21,\n",
       "       0.22, 0.23, 0.24, 0.25, 0.26, 0.27, 0.28, 0.29, 0.3 , 0.31, 0.32,\n",
       "       0.33, 0.34, 0.35, 0.36, 0.37, 0.38, 0.39, 0.4 , 0.41, 0.42, 0.43,\n",
       "       0.44, 0.45, 0.46, 0.47, 0.48, 0.49, 0.5 , 0.51, 0.52, 0.53, 0.54,\n",
       "       0.55, 0.56, 0.57, 0.58, 0.59, 0.6 , 0.61, 0.62, 0.63, 0.64, 0.65,\n",
       "       0.66, 0.67, 0.68, 0.69, 0.7 , 0.71, 0.72, 0.73, 0.74, 0.75, 0.76,\n",
       "       0.77, 0.78, 0.79, 0.8 , 0.81, 0.82, 0.83, 0.84, 0.85, 0.86, 0.87,\n",
       "       0.88, 0.89, 0.9 ])"
      ]
     },
     "execution_count": 6,
     "metadata": {},
     "output_type": "execute_result"
    }
   ],
   "source": [
    "AR.bins"
   ]
  },
  {
   "cell_type": "code",
   "execution_count": 17,
   "metadata": {},
   "outputs": [],
   "source": [
    "def get_intersecting_bins_idx(intersecting_bin, bin_list, debug=False):\n",
    "    \"\"\"\n",
    "    Returns the indices of the bins in bin_list that intersect with bin\n",
    "    Assumes that the bins are sorted in increasing order and with same bin_width\n",
    "    \"\"\"\n",
    "    bin_list_width = bin_list[1] - bin_list[0]\n",
    "    # Width of intersecting bin can't be 0\n",
    "    if intersecting_bin[1] - intersecting_bin[0] == 0:\n",
    "        raise ValueError(\"Intersecting bin width should be non-zero\")\n",
    "\n",
    "    # Checks that the bin falls strictly within the range [bin_list[0]; bin_list[-1]]\n",
    "    overlap_error = ValueError(\n",
    "        f\"Shifted X bin {intersecting_bin} intersects none of the Z bins {bin_list}\"\n",
    "    )\n",
    "    if intersecting_bin[1] < bin_list[0]:\n",
    "        raise overlap_error\n",
    "    # Raise if X_shifted_bin_low is larger than the largest Z bin\n",
    "    if intersecting_bin[0] >= bin_list[-1] + bin_list_width:\n",
    "        raise overlap_error\n",
    "    left_away_error = ValueError(\"A portion of the shifted X bin is outside the Z bins\")\n",
    "    if intersecting_bin[0] < bin_list[0]:\n",
    "        raise left_away_error\n",
    "    if intersecting_bin[1] > bin_list[-1] + bin_list_width:\n",
    "        raise left_away_error\n",
    "\n",
    "    idx1, idxn = np.searchsorted(bin_list, [intersecting_bin[0], intersecting_bin[1]])\n",
    "    if debug:\n",
    "        print(\"Idx from searchsorted func\", idx1, \",\", idxn)\n",
    "\n",
    "    k1 = idx1 - 1\n",
    "    if idx1 <= len(bin_list) - 1 and bin_list[idx1] == intersecting_bin[0]:\n",
    "        k1 = idx1\n",
    "\n",
    "    kn = idxn - 1\n",
    "\n",
    "    if debug:\n",
    "        print(\n",
    "            \"Bins idx\",\n",
    "            k1,\n",
    "            \",\",\n",
    "            kn,\n",
    "            \"corresponding to values\",\n",
    "            bin_list[k1],\n",
    "            bin_list[kn],\n",
    "        )\n",
    "    return (k1, kn)\n",
    "\n",
    "\n",
    "def get_bin_contribution_to_cpt(shifted_X_bin, Z_bins, debug=False, tol=1e-6):\n",
    "    \"\"\"\n",
    "    Returns a vector of probabilities representing the contribution of the shifted X bin to a set of Z_bins (i.e. cpt[:, i, j])\n",
    "\n",
    "    Each element in Z_bins correspond to the interval [Z_bins[i]; Z_bins[i] + Z_bins_width]\n",
    "    \"\"\"\n",
    "\n",
    "    shifted_X_binwidth = shifted_X_bin[1] - shifted_X_bin[0]\n",
    "    if shifted_X_binwidth == 0:\n",
    "        raise ValueError(\"Shifted X bin width should be non-zero\")\n",
    "    Z_bins_width = Z_bins[1] - Z_bins[0]\n",
    "\n",
    "    p_vect = np.zeros(len(Z_bins))\n",
    "    (k1, kn) = get_intersecting_bins_idx(shifted_X_bin, Z_bins)\n",
    "\n",
    "    for k in range(k1, kn + 1):\n",
    "        # Find the overlapping region between the shifted X bin and the Z bin\n",
    "        # The overlapping region is the intersection of the two intervals\n",
    "        # The intersection is the max of the lower bounds and the min of the upper bounds\n",
    "        # The intersection is empty if the lower bound is larger than the upper bound\n",
    "        intersection = max(shifted_X_bin[0], Z_bins[k]), min(\n",
    "            shifted_X_bin[1], Z_bins[k] + Z_bins_width\n",
    "        )\n",
    "\n",
    "        # The probability mass is the length of the intersection divided by the length of the shifted X bin\n",
    "        p = (intersection[1] - intersection[0]) / shifted_X_binwidth\n",
    "        p_vect[k] = p\n",
    "\n",
    "        if debug:\n",
    "            print(\n",
    "                f\"k={k}, bin=[{Z_bins[k]};{Z_bins[k] + Z_bins_width}], p={p} (={intersection[1] - intersection[0]}/{shifted_X_binwidth})\"\n",
    "            )\n",
    "    # Raise if sum of probabilities is larger than 1\n",
    "    total = np.sum(p_vect)\n",
    "    assert (\n",
    "        abs(total - 1) < tol\n",
    "    ), f\"The sum of the probabilities should be 1, got {total}\\np_vect={p_vect}\"\n",
    "\n",
    "    return p_vect"
   ]
  },
  {
   "cell_type": "code",
   "execution_count": 111,
   "metadata": {},
   "outputs": [
    {
     "data": {
      "text/plain": [
       "array([[[0., 0., 0., ..., 0., 0., 0.],\n",
       "        [0., 0., 0., ..., 0., 0., 0.],\n",
       "        [0., 0., 0., ..., 0., 0., 0.],\n",
       "        ...,\n",
       "        [0., 0., 0., ..., 0., 0., 0.],\n",
       "        [0., 0., 0., ..., 0., 0., 0.],\n",
       "        [0., 0., 0., ..., 0., 0., 0.]],\n",
       "\n",
       "       [[0., 0., 0., ..., 0., 0., 0.],\n",
       "        [0., 0., 0., ..., 0., 0., 0.],\n",
       "        [0., 0., 0., ..., 0., 0., 0.],\n",
       "        ...,\n",
       "        [0., 0., 0., ..., 0., 0., 0.],\n",
       "        [0., 0., 0., ..., 0., 0., 0.],\n",
       "        [0., 0., 0., ..., 0., 0., 0.]],\n",
       "\n",
       "       [[1., 1., 1., ..., 1., 1., 1.],\n",
       "        [0., 0., 0., ..., 0., 0., 0.],\n",
       "        [0., 0., 0., ..., 0., 0., 0.],\n",
       "        ...,\n",
       "        [0., 0., 0., ..., 0., 0., 0.],\n",
       "        [0., 0., 0., ..., 0., 0., 0.],\n",
       "        [0., 0., 0., ..., 0., 0., 0.]],\n",
       "\n",
       "       ...,\n",
       "\n",
       "       [[0., 0., 0., ..., 0., 0., 0.],\n",
       "        [0., 0., 0., ..., 0., 0., 0.],\n",
       "        [0., 0., 0., ..., 0., 0., 0.],\n",
       "        ...,\n",
       "        [0., 0., 0., ..., 0., 0., 0.],\n",
       "        [0., 0., 0., ..., 0., 0., 0.],\n",
       "        [0., 0., 0., ..., 0., 0., 0.]],\n",
       "\n",
       "       [[0., 0., 0., ..., 0., 0., 0.],\n",
       "        [0., 0., 0., ..., 0., 0., 0.],\n",
       "        [0., 0., 0., ..., 0., 0., 0.],\n",
       "        ...,\n",
       "        [0., 0., 0., ..., 0., 0., 0.],\n",
       "        [0., 0., 0., ..., 0., 0., 0.],\n",
       "        [0., 0., 0., ..., 0., 0., 0.]],\n",
       "\n",
       "       [[0., 0., 0., ..., 0., 0., 0.],\n",
       "        [0., 0., 0., ..., 0., 0., 0.],\n",
       "        [0., 0., 0., ..., 0., 0., 0.],\n",
       "        ...,\n",
       "        [0., 0., 0., ..., 0., 0., 0.],\n",
       "        [0., 0., 0., ..., 0., 0., 0.],\n",
       "        [0., 0., 0., ..., 0., 0., 0.]]])"
      ]
     },
     "execution_count": 111,
     "metadata": {},
     "output_type": "execute_result"
    }
   ],
   "source": [
    "def calc_cpt_O2SatFFA_HO2Sat_AR(O2SatFFA, HO2Sat, AR, debug=False):\n",
    "    \"\"\"\n",
    "    Computes the CPT for P(O2SatFFA|HO2Sat, AR)\n",
    "    \"\"\"\n",
    "\n",
    "    def drop_func(x):\n",
    "        return 0.08\n",
    "\n",
    "    return calc_cpt_X_Yfunc(O2SatFFA, HO2Sat, AR, drop_func, debug=debug)\n",
    "\n",
    "\n",
    "def calc_cpt_X_Yfunc(\n",
    "    Z: mh.variableNode,\n",
    "    X: mh.variableNode,\n",
    "    Y: mh.variableNode,\n",
    "    func,\n",
    "    tol=1e-6,\n",
    "    debug=False,\n",
    "):\n",
    "    \"\"\"\n",
    "    Computes the CPT for P(Z|X, Y), when Z is shifted from X by a function of Y\n",
    "    Z = X - f(Y)\n",
    "    X: parent variable\n",
    "    Y: drop variable - the drop amount is given by f(Y) = X - Z\n",
    "    Z: child variable\n",
    "    func: must be a monotonous continuous function that has values in Y and returns values in Z\n",
    "\n",
    "    We compute the CPT with a shift and conquer method:\n",
    "    1) Start with a CPT zeroed out probabilities\n",
    "    2) Shift all X bin intervals by the drop amount\n",
    "    3) For each shifted X bin, evenly spread the X bin  onto the overlapping Z bins\n",
    "    4) Normalise the CPT\n",
    "\n",
    "    This allows the function to be agnostic of how X and Z are binned.\n",
    "\n",
    "    - What happens when the function is shifted outside the boundary?\n",
    "    \"\"\"\n",
    "    nbinsX = len(X.bins) - 1\n",
    "    nbinsY = len(Y.bins) - 1\n",
    "    nbinsZ = len(Z.bins) - 1\n",
    "\n",
    "    cpt = np.zeros([nbinsZ, nbinsX, nbinsY])\n",
    "    if debug:\n",
    "        print(f\"Shape of cpt: {cpt.shape}\")\n",
    "\n",
    "    for j in range(nbinsY):\n",
    "        # The drop amount for a Y bin is the average of the function over the bin\n",
    "        # Simplified to avg( f(bin_up) - f(bin_low) )\n",
    "        drop = np.mean([func(Y.bins[j] + Y.bin_width), func(Y.bins[j])])\n",
    "        if debug:\n",
    "            print(f\"Drop for Y bin {j} ([{Y.bins[j]};{Y.bins[j]+Y.bin_width}]): {drop}\")\n",
    "\n",
    "        # For computational efficiency, we want to store least information in memory\n",
    "        # Hence, we will compute the shifted bins of X and directly reallocate the probability mass to the overlapping Z bins\n",
    "\n",
    "        for i in range(nbinsX):\n",
    "            shifted_X_bin_low = X.bins[i] - drop\n",
    "            shifted_X_bin_up = X.bins[i] + X.bin_width - drop\n",
    "            if debug:\n",
    "                print(\n",
    "                    f\"Shifting X bin {i} from [{X.bins[i]};{X.bins[i]+X.bin_width}] to [{shifted_X_bin_low};{shifted_X_bin_up}]\"\n",
    "                )\n",
    "\n",
    "            bin_contribution = get_bin_contribution_to_cpt(\n",
    "                [shifted_X_bin_low, shifted_X_bin_up], Z.bins[:-1], debug=debug\n",
    "            )\n",
    "            if debug:\n",
    "                print(f\"i={i}/{nbinsX-1}, j={j}/{nbinsY-1}, z={bin_contribution}\")\n",
    "            cpt[:, i, j] += bin_contribution\n",
    "\n",
    "        # Normalise all cpt(:, i, j) to 1\n",
    "        total = np.sum(cpt[:, i, j])\n",
    "        if debug:\n",
    "            print(f\"Results before normalisation sum(cpt[:, {i}, {j}])={total}\")\n",
    "        cpt[:, i, j] /= total\n",
    "\n",
    "        # Raise if sum of probabilities is larger than 1\n",
    "        total = np.sum(cpt[:, i, j])\n",
    "        assert (\n",
    "            abs(total - 1) < tol\n",
    "        ), f\"The sum of the probabilities should be 1, got sum(cpt[:, {i}, {j}])={total}])\"\n",
    "\n",
    "    return cpt\n",
    "\n",
    "\n",
    "calc_cpt_O2SatFFA_HO2Sat_AR(O2SatFFA, HO2Sat, AR, debug=False)"
   ]
  },
  {
   "cell_type": "code",
   "execution_count": 82,
   "metadata": {},
   "outputs": [
    {
     "name": "stdout",
     "output_type": "stream",
     "text": [
      "[6 4]\n",
      "[[1. 1.]\n",
      " [1. 1.]]\n"
     ]
    },
    {
     "data": {
      "text/plain": [
       "array([False, False])"
      ]
     },
     "execution_count": 82,
     "metadata": {},
     "output_type": "execute_result"
    }
   ],
   "source": [
    "a = np.array([[[1, 1], [2, 1]], [[1, 1], [2, 1]]])\n",
    "print(np.sum(np.sum(a, axis=0), axis=0))\n",
    "normed_a = a / np.sum(a, axis=0)\n",
    "totals = np.sum(normed_a, axis=0)\n",
    "print(totals)\n",
    "sum(abs(totals - 1) < 1e-6) == 0"
   ]
  },
  {
   "cell_type": "code",
   "execution_count": 20,
   "metadata": {},
   "outputs": [
    {
     "name": "stdout",
     "output_type": "stream",
     "text": [
      "k=3, bin=[104;105], p=1.0 (=0.09999999999999432/0.09999999999999432)\n"
     ]
    },
    {
     "data": {
      "text/plain": [
       "array([0., 0., 0., 1.])"
      ]
     },
     "execution_count": 20,
     "metadata": {},
     "output_type": "execute_result"
    }
   ],
   "source": [
    "# Testing get_bin_contribution_to_cpt\n",
    "zbins = np.array([101, 102, 103, 104])\n",
    "\n",
    "# shifted_x_bin = [101, 101]\n",
    "# ValueError: Shifted X bin width should be non-zero\n",
    "\n",
    "# shifted_x_bin = [101.5, 106]\n",
    "# ValueError: A portion of the shifted X bin is outside the Z bins\n",
    "\n",
    "shifted_x_bin = [101.5, 103.5]  # array([0.25, 0.5 , 0.25, 0.  ])\n",
    "shifted_x_bin = [102, 103.5]  # array([0.        , 0.66666667, 0.33333333, 0.        ])\n",
    "shifted_x_bin = [101.5, 104]  # array([0.2, 0.4, 0.4, 0. ])\n",
    "shifted_x_bin = [102, 104]  # array([0. , 0.5, 0.5, 0. ])\n",
    "shifted_x_bin = [101, 101]  # ValueError: Intersecting bin width should be non-zero\n",
    "shifted_x_bin = [102, 102.1]  # array([0., 1., 0., 0.])\n",
    "shifted_x_bin = [\n",
    "    101.5,\n",
    "    104.1,\n",
    "]  # array([0.19230769, 0.38461538, 0.38461538, 0.03846154])\n",
    "shifted_x_bin = [104.2, 104.3]  # array([0., 0., 0., 1.])\n",
    "\n",
    "get_bin_contribution_to_cpt(shifted_x_bin, zbins, debug=True)"
   ]
  },
  {
   "cell_type": "code",
   "execution_count": 390,
   "metadata": {},
   "outputs": [
    {
     "name": "stdout",
     "output_type": "stream",
     "text": [
      "Idx from searchsorted func 4 , 4\n",
      "Bins idx 3 , 3 corresponding to values 104 104\n"
     ]
    }
   ],
   "source": [
    "# Testing get_intersecting_bins_idx\n",
    "zbins = np.array([101, 102, 103, 104])\n",
    "zbinwidth = zbins[1] - zbins[0]\n",
    "shifted_x_bin = [101.5, 103.5]  # 101, 103\n",
    "shifted_x_bin = [102, 103.5]  # 102, 103\n",
    "shifted_x_bin = [101.5, 104]  # 101, 103\n",
    "shifted_x_bin = [102, 104]  # 102, 103\n",
    "shifted_x_bin = [101, 101]  # ValueError: Intersecting bin width should be non-zero\n",
    "shifted_x_bin = [102, 102.1]  # 102, 102\n",
    "shifted_x_bin = [101.5, 104.1]  # 101, 104\n",
    "shifted_x_bin = [104.2, 104.3]  # 104, 104\n",
    "(k1, kn) = get_intersecting_bins_idx(shifted_x_bin, zbins, debug=True)"
   ]
  },
  {
   "cell_type": "code",
   "execution_count": null,
   "metadata": {},
   "outputs": [],
   "source": []
  }
 ],
 "metadata": {
  "kernelspec": {
   "display_name": "phd",
   "language": "python",
   "name": "python3"
  },
  "language_info": {
   "codemirror_mode": {
    "name": "ipython",
    "version": 3
   },
   "file_extension": ".py",
   "mimetype": "text/x-python",
   "name": "python",
   "nbconvert_exporter": "python",
   "pygments_lexer": "ipython3",
   "version": "3.10.13"
  },
  "orig_nbformat": 4
 },
 "nbformat": 4,
 "nbformat_minor": 2
}
