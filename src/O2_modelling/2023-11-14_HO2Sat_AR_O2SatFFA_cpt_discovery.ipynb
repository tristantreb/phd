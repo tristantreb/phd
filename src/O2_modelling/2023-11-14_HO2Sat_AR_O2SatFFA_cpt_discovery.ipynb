{
 "cells": [
  {
   "cell_type": "markdown",
   "metadata": {},
   "source": [
    "This notebook contains the discovery for how to calculate the CPT for P(O2 Saturation Fully Functional Alveoli | Healthy O2 Saturation, Airway Resistance)"
   ]
  },
  {
   "cell_type": "code",
   "execution_count": 1,
   "metadata": {},
   "outputs": [],
   "source": [
    "import numpy as np\n",
    "import sys\n",
    "\n",
    "sys.path.append(\"../milestone_model\")\n",
    "import lung_health_models"
   ]
  },
  {
   "cell_type": "code",
   "execution_count": 2,
   "metadata": {},
   "outputs": [
    {
     "data": {
      "text/plain": [
       "array([[0.1 , 0.2 , 0.3 , 0.4 , 0.5 , 0.6 ],\n",
       "       [0.7 , 0.8 , 0.9 , 0.11, 0.12, 0.13]])"
      ]
     },
     "execution_count": 2,
     "metadata": {},
     "output_type": "execute_result"
    }
   ],
   "source": [
    "# How to use reshape to convert a 3D CPT to a 2D that can be ingested by PGMPY?\n",
    "\n",
    "CPT_i_j_k = np.array([[[0.1, 0.2, 0.3], [0.4, 0.5, 0.6]], [[0.7, 0.8, 0.9], [0.11, 0.12, 0.13]]])\n",
    "CPT_i_j_k.shape\n",
    "# Reshape to 2D\n",
    "CPT_i_j_k.reshape(2, 6)"
   ]
  },
  {
   "cell_type": "code",
   "execution_count": 3,
   "metadata": {},
   "outputs": [
    {
     "name": "stdout",
     "output_type": "stream",
     "text": [
      "*** Building lung model with HFEV1 and AB ***\n",
      "Defining gaussian prior with mu = 3.50, sigma = 0.4\n",
      "Defining gaussian prior with mu = 0.98, sigma = 0.01\n"
     ]
    },
    {
     "name": "stderr",
     "output_type": "stream",
     "text": [
      "/Users/tristan.trebaol/Desktop/PhD/Code/phd/src/O2_modelling/../milestone_model/model_helpers.py:289: IntegrationWarning: The maximum number of subdivisions (50) has been achieved.\n",
      "  If increasing the limit yields no improvement it is advised to analyze \n",
      "  the integrand in order to determine the difficulties.  If the position of a \n",
      "  local difficulty can be determined (singularity, discontinuity) one will \n",
      "  probably gain from splitting up the interval and calling the integrator \n",
      "  on the subranges.  Perhaps a special-purpose integrator should be used.\n",
      "  val, abserr = integrate.quad(\n"
     ]
    }
   ],
   "source": [
    "healthy_FEV1_prior = {\n",
    "    \"type\": \"gaussian\",\n",
    "    \"mu\": 3.5,\n",
    "    \"sigma\": 0.4,\n",
    "}\n",
    "healthy_o2sat_prior = {\n",
    "    \"type\": \"gaussian\",\n",
    "    \"mu\": 0.98,\n",
    "    \"sigma\": 0.01,\n",
    "}\n",
    "(\n",
    "    model,\n",
    "    HFEV1,\n",
    "    prior_hfev1,\n",
    "    FEV1,\n",
    "    HO2Sat,\n",
    "    prior_ho2sat,\n",
    "    O2SatFFA,\n",
    "    AR,\n",
    "    prior_ar,\n",
    ") = lung_health_models.build_FEV1_O2_point_in_time_model(\n",
    "    healthy_FEV1_prior, healthy_o2sat_prior\n",
    ")"
   ]
  },
  {
   "cell_type": "code",
   "execution_count": null,
   "metadata": {},
   "outputs": [],
   "source": []
  }
 ],
 "metadata": {
  "kernelspec": {
   "display_name": "phd",
   "language": "python",
   "name": "python3"
  },
  "language_info": {
   "codemirror_mode": {
    "name": "ipython",
    "version": 3
   },
   "file_extension": ".py",
   "mimetype": "text/x-python",
   "name": "python",
   "nbconvert_exporter": "python",
   "pygments_lexer": "ipython3",
   "version": "3.10.13"
  },
  "orig_nbformat": 4
 },
 "nbformat": 4,
 "nbformat_minor": 2
}
