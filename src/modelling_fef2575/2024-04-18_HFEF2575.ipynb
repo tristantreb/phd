{
 "cells": [
  {
   "cell_type": "code",
   "execution_count": 1,
   "metadata": {},
   "outputs": [],
   "source": [
    "import src.modelling_fef2575.hfef2575 as hfef2575"
   ]
  },
  {
   "cell_type": "code",
   "execution_count": 3,
   "metadata": {},
   "outputs": [
    {
     "data": {
      "text/plain": [
       "{'M': 3.317372040327587,\n",
       " 'sigma_up': 1.159093104486248,\n",
       " 'sigma_down': 0.9853413667702027,\n",
       " 'LLN': 1.7893704396171894,\n",
       " 'L': 0.4986,\n",
       " 'S': 0.323204918679946}"
      ]
     },
     "execution_count": 3,
     "metadata": {},
     "output_type": "execute_result"
    }
   ],
   "source": [
    "hfef2575.calc_predicted_FEV1_LMS_straight(170, 50, \"Male\")"
   ]
  },
  {
   "cell_type": "code",
   "execution_count": 2,
   "metadata": {},
   "outputs": [
    {
     "name": "stdout",
     "output_type": "stream",
     "text": [
      "hello\n",
      "get age for\n"
     ]
    },
    {
     "data": {
      "text/plain": [
       "{'Mspline': 0.1047, 'Sspline': -0.0523}"
      ]
     },
     "execution_count": 2,
     "metadata": {},
     "output_type": "execute_result"
    }
   ],
   "source": [
    "hfef2575.load_LMS_spline_vals(40, \"Male\")"
   ]
  },
  {
   "cell_type": "code",
   "execution_count": null,
   "metadata": {},
   "outputs": [],
   "source": []
  }
 ],
 "metadata": {
  "kernelspec": {
   "display_name": "phd",
   "language": "python",
   "name": "python3"
  },
  "language_info": {
   "codemirror_mode": {
    "name": "ipython",
    "version": 3
   },
   "file_extension": ".py",
   "mimetype": "text/x-python",
   "name": "python",
   "nbconvert_exporter": "python",
   "pygments_lexer": "ipython3",
   "version": "3.10.13"
  }
 },
 "nbformat": 4,
 "nbformat_minor": 2
}
