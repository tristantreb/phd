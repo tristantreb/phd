{
 "cells": [
  {
   "cell_type": "markdown",
   "metadata": {},
   "source": [
    "In this notebook, I will use the information about IA to refine F3. Initially, I buildt F3 using FEF25-75%FEV1 against FEV1-based-AR. The latter variable contains only the aspect of AR as measured by FEV1. In CF, high AR usually correlates with high IA. We can use this correlation to refine the uncertainty present in the FEV1-based-AR. The corrected FEV1-based-AR can therefore be closer to the true AR. We can use it to improve the model fo F3."
   ]
  },
  {
   "cell_type": "code",
   "execution_count": 1,
   "metadata": {},
   "outputs": [],
   "source": [
    "import src.data.breathe_data as br\n",
    "import src.data.helpers as dh\n",
    "import src.models.helpers as mh\n",
    "import src.inference.helpers as ih\n",
    "import src.modelling_fef2575.cpt_and_plots as cpt_and_plots\n",
    "import src.models.var_builders as var_builders\n",
    "import src.models.graph_builders as graph_builders\n",
    "from src.inference.inf_algs import apply_bayes_net_bp, apply_factor_graph_bp\n",
    "\n",
    "import numpy as np\n",
    "import pandas as pd\n",
    "import plotly.express as px\n",
    "import plotly.graph_objects as go\n",
    "from plotly.subplots import make_subplots"
   ]
  },
  {
   "cell_type": "code",
   "execution_count": 4,
   "metadata": {},
   "outputs": [],
   "source": [
    "(\n",
    "    HFEV1,\n",
    "    ecFEV1,\n",
    "    AR,\n",
    "    HO2Sat,\n",
    "    O2SatFFA,\n",
    "    IA,\n",
    "    UO2Sat,\n",
    "    O2Sat,\n",
    "    ecFEF2575prctecFEV1,\n",
    ") = var_builders.o2sat_fev1_fef2575_point_in_time_model_shared_healthy_vars(\n",
    "    180, 10, \"Male\"\n",
    ")\n",
    "# (\n",
    "#     HFEV1,\n",
    "#     uecFEV1,\n",
    "#     ecFEV1,\n",
    "#     AR,\n",
    "#     HO2Sat,\n",
    "#     O2SatFFA,\n",
    "#     IA,\n",
    "#     UO2Sat,\n",
    "#     O2Sat,\n",
    "#     ecFEF2575prctecFEV1\n",
    "# ) = var_builders.o2sat_fev1_fef2575_point_in_time_model_noise_shared_healthy_vars_light(\n",
    "#     180, 10, \"Male\"\n",
    "# )"
   ]
  },
  {
   "cell_type": "markdown",
   "metadata": {},
   "source": [
    "# Plan to refine F3"
   ]
  },
  {
   "cell_type": "code",
   "execution_count": null,
   "metadata": {},
   "outputs": [],
   "source": [
    "# Need dataset with O2sat, FEV1, FEF25-75. Use as many datapoints as possible\n",
    "# Infer FEV1-based-AR using FEV1\n",
    "# Model F3 using FEV1-based-AR\n",
    "# Infer FEV1-FEF2575-based-AR using FEV1 and FEF25-75\n",
    "# Model F3 using FEV1-FEF2575-based-AR\n",
    "# Infer IA using FEV1-FEF2575-based-AR\n",
    "# Model AR-IA\n",
    "# Infer IA-FEV1-FEF2575-based-AR using FEV1, FEF25-75, IA\n",
    "# Model F3 using this new AR\n",
    "# Compare the two models: compare the mean, median, std-percentiles plots of both -> std should be smaller\n",
    "\n",
    "# Optionally repeat until std doesn't change"
   ]
  },
  {
   "cell_type": "markdown",
   "metadata": {},
   "source": [
    "# Load data"
   ]
  },
  {
   "cell_type": "code",
   "execution_count": 3,
   "metadata": {},
   "outputs": [
    {
     "name": "stderr",
     "output_type": "stream",
     "text": [
      "INFO:root:* Checking for same day measurements *\n"
     ]
    }
   ],
   "source": [
    "df = br.load_meas_from_excel(\n",
    "    \"BR_O2_FEV1_FEF2575_with_idx_and_heighest_obs_per_id_light\"\n",
    ")"
   ]
  },
  {
   "cell_type": "code",
   "execution_count": null,
   "metadata": {},
   "outputs": [],
   "source": [
    "# df = br.load_meas_from_excel(\"BR_O2_FEV1_FEF2575_PEF_Nan\")\n",
    "df = df.drop(columns=[\"PEF\", \"ecPEF (L/s)\", \"PEF (L/s)\"])\n",
    "df = df.dropna(subset=[\"FEV1\", \"O2 Saturation\", \"FEF2575\"])\n",
    "df[\"ecFEF2575%ecFEV1\"] = df[\"FEF2575\"] / df[\"FEV1\"] * 100\n",
    "df.head()"
   ]
  },
  {
   "cell_type": "markdown",
   "metadata": {},
   "source": [
    "# Inference"
   ]
  },
  {
   "cell_type": "code",
   "execution_count": 4,
   "metadata": {},
   "outputs": [],
   "source": [
    "def infer_vars_and_get_back_df(\n",
    "    df,\n",
    "    variables_to_infer,\n",
    "    observed_variables,\n",
    "    ecFEF2575prctecFEV1_cpt=None,\n",
    "    IA_cpt=None,\n",
    "):\n",
    "    \"\"\"\n",
    "    Infer AR, IA, HFEV1, HO2Sat fo each entry in the dataset, for the given observed variables as evidence\n",
    "    \"\"\"\n",
    "\n",
    "    def infer_vars_for_ID(df):\n",
    "        df.reset_index(inplace=True)\n",
    "\n",
    "        # (\n",
    "        #     HFEV1,\n",
    "        #     ecFEV1,\n",
    "        #     AR,\n",
    "        #     HO2Sat,\n",
    "        #     O2SatFFA,\n",
    "        #     IA,\n",
    "        #     UO2Sat,\n",
    "        #     O2Sat,\n",
    "        #     ecFEF2575prctecFEV1,\n",
    "        # ) = var_builders.o2sat_fev1_fef2575_point_in_time_model_shared_healthy_vars(\n",
    "        #     df.Height[0], df.Age[0], df.Sex[0]\n",
    "        # )\n",
    "\n",
    "        # If with noise model\n",
    "        (\n",
    "            HFEV1,\n",
    "            uecFEV1,\n",
    "            ecFEV1,\n",
    "            AR,\n",
    "            HO2Sat,\n",
    "            O2SatFFA,\n",
    "            IA,\n",
    "            UO2Sat,\n",
    "            O2Sat,\n",
    "            ecFEF2575prctecFEV1,\n",
    "        ) = var_builders.o2sat_fev1_fef2575_point_in_time_model_noise_shared_healthy_vars_light(\n",
    "            df.Height[0], df.Age[0], df.Sex[0]\n",
    "        )\n",
    "\n",
    "        # Update cpt to custom one if provided\n",
    "        if ecFEF2575prctecFEV1_cpt is not None:\n",
    "            ecFEF2575prctecFEV1.set_cpt(ecFEF2575prctecFEV1_cpt)\n",
    "        if IA_cpt is None:\n",
    "            # model = graph_builders.fev1_fef2575_o2sat_point_in_time_factor_graph(\n",
    "            #     HFEV1,\n",
    "            #     ecFEV1,\n",
    "            #     AR,\n",
    "            #     HO2Sat,\n",
    "            #     O2SatFFA,\n",
    "            #     IA,\n",
    "            #     UO2Sat,\n",
    "            #     O2Sat,\n",
    "            #     ecFEF2575prctecFEV1,\n",
    "            #     False,\n",
    "            # )\n",
    "            model = graph_builders.fev1_fef2575_o2sat_point_in_time_noise_factor_graph(\n",
    "                HFEV1,\n",
    "                uecFEV1,\n",
    "                ecFEV1,\n",
    "                AR,\n",
    "                HO2Sat,\n",
    "                O2SatFFA,\n",
    "                IA,\n",
    "                UO2Sat,\n",
    "                O2Sat,\n",
    "                ecFEF2575prctecFEV1,\n",
    "                False,\n",
    "            )\n",
    "            inf_alg = apply_factor_graph_bp(model)\n",
    "        else:\n",
    "            # Else we model AR causing IA with the given CPT\n",
    "            IA.set_cpt(IA_cpt)\n",
    "            # Since this introduces a loop we have to use a Bayes Net to run the inference\n",
    "            # model = graph_builders.fev1_o2sat_fef2575_point_in_time_model(\n",
    "            #     HFEV1,\n",
    "            #     ecFEV1,\n",
    "            #     AR,\n",
    "            #     HO2Sat,\n",
    "            #     O2SatFFA,\n",
    "            #     IA,\n",
    "            #     UO2Sat,\n",
    "            #     O2Sat,\n",
    "            #     ecFEF2575prctecFEV1,\n",
    "            #     False,\n",
    "            # )\n",
    "            model = graph_builders.fev1_fef2575_o2sat_point_in_time_noise_factor_graph(\n",
    "                HFEV1,\n",
    "                uecFEV1,\n",
    "                ecFEV1,\n",
    "                AR,\n",
    "                HO2Sat,\n",
    "                O2SatFFA,\n",
    "                IA,\n",
    "                UO2Sat,\n",
    "                O2Sat,\n",
    "                ecFEF2575prctecFEV1,\n",
    "                False,\n",
    "            )\n",
    "            inf_alg = apply_bayes_net_bp(model)\n",
    "\n",
    "        def infer_and_unpack(row):\n",
    "            # Build evidence\n",
    "            evidence = [\n",
    "                [obs_var, row[obs_var.get_colname()]] for obs_var in observed_variables\n",
    "            ]\n",
    "\n",
    "            if IA_cpt is None:\n",
    "                res = ih.infer_on_factor_graph(\n",
    "                    inf_alg,\n",
    "                    variables_to_infer,\n",
    "                    evidence,\n",
    "                )\n",
    "            else:\n",
    "                # Infer on Bayes net\n",
    "                res = ih.infer(\n",
    "                    inf_alg,\n",
    "                    variables_to_infer,\n",
    "                    evidence,\n",
    "                )\n",
    "\n",
    "            res_values = (res[var.name].values for var in variables_to_infer)\n",
    "\n",
    "            return row[\"Date Recorded\"], *res_values\n",
    "\n",
    "        res = df.apply(infer_and_unpack, axis=1)\n",
    "        return res\n",
    "\n",
    "    variables_to_infer_dict = {\n",
    "        i + 1: variables_to_infer[i].get_abbr() for i in range(len(variables_to_infer))\n",
    "    }\n",
    "    variables_to_infer_dict[0] = \"Date Recorded\"\n",
    "\n",
    "    resraw = df.groupby(\"ID\").apply(infer_vars_for_ID)\n",
    "    # resraw = df.iloc[np.r_[10:13, 3000:3007]].groupby(\"ID\").apply(infer_vars_for_ID)\n",
    "    res = (\n",
    "        resraw.apply(pd.Series)\n",
    "        .reset_index()\n",
    "        .rename(columns=variables_to_infer_dict)\n",
    "        .drop(columns=\"level_1\")\n",
    "    )\n",
    "\n",
    "    for var in variables_to_infer:\n",
    "        res[f\"{var.get_abbr()} mean\"] = res[var.get_abbr()].apply(\n",
    "            lambda x: var.get_mean(x)\n",
    "        )\n",
    "\n",
    "    return res"
   ]
  },
  {
   "cell_type": "markdown",
   "metadata": {},
   "source": [
    "## Model F3 using AR inferred from FEV1"
   ]
  },
  {
   "cell_type": "code",
   "execution_count": 5,
   "metadata": {},
   "outputs": [],
   "source": [
    "# Infer FEV1-based-AR using FEV1\n",
    "\n",
    "# inf_res_df = infer_vars_and_get_back_df(\n",
    "#     df,\n",
    "#     # df.iloc[np.r_[10:1300, 3000:4007, 10000:11000]],\n",
    "#     variables_to_infer=[AR, IA],\n",
    "#     observed_variables=[ecFEV1, O2Sat],\n",
    "#     ecFEF2575prctecFEV1_cpt=None,\n",
    "# )\n",
    "# # Merge the inferred AR back to the original dataframe\n",
    "# df1 = pd.merge(df, inf_res_df, on=[\"ID\", \"Date Recorded\"], how=\"inner\")\n",
    "# df1.to_excel(\n",
    "#     dh.get_path_to_main()\n",
    "#     + \"ExcelFiles/BR/Refining_F3/infer_FEV1-based-AR_using_O2Sat_FEV1_noise_light.xlsx\",\n",
    "#     index=False,\n",
    "# )\n",
    "\n",
    "df1 = dh.load_excel(\n",
    "    dh.get_path_to_main()\n",
    "    + \"ExcelFiles/BR/Refining_F3/infer_AR_using_O2Sat_ecFEV1.xlsx\",\n",
    "    [\"AR\"],\n",
    ")"
   ]
  },
  {
   "cell_type": "code",
   "execution_count": 4,
   "metadata": {},
   "outputs": [
    {
     "name": "stdout",
     "output_type": "stream",
     "text": [
      "Max sampled AR values: 87.99\n"
     ]
    },
    {
     "name": "stderr",
     "output_type": "stream",
     "text": [
      "/Users/tristan.trebaol/Desktop/PhD/Code/phd/src/modelling_fef2575/cpt_and_plots.py:305: FutureWarning: The default of observed=False is deprecated and will be changed to True in a future version of pandas. Pass observed=False to retain current behavior or observed=True to adopt the future default and silence this warning.\n",
      "  df_sampled.groupby(\"AR bin\")\n"
     ]
    }
   ],
   "source": [
    "# Model F3 using FEV1-based-AR\n",
    "cpt_f3, df_f3, _ = cpt_and_plots.model_f3(\n",
    "    df1,\n",
    "    AR,\n",
    "    \"Airway resistance midbin in % (obs. var.: ecFEV1, O2 saturation)\",\n",
    "    save=True,\n",
    ")"
   ]
  },
  {
   "cell_type": "markdown",
   "metadata": {},
   "source": [
    "## Model F3 using AR inferred from FEV1 and FEF25-75 (using F3 to model F3)"
   ]
  },
  {
   "cell_type": "code",
   "execution_count": null,
   "metadata": {},
   "outputs": [],
   "source": [
    "# Infer FEV1-FEF2575-based-AR\n",
    "# inf_res_df_2 = infer_vars_and_get_back_df(\n",
    "#     df,\n",
    "#     # df.iloc[np.r_[10:1300, 3000:4007, 10000:11000]],\n",
    "#     variables_to_infer=[AR, IA],\n",
    "#     observed_variables=[ecFEV1, O2Sat, ecFEF2575prctecFEV1],\n",
    "#     ecFEF2575prctecFEV1_cpt=cpt_f3,\n",
    "# )\n",
    "# # # Merge the inferred AR back to the original dataframe\n",
    "# df2 = pd.merge(df, inf_res_df_2, on=[\"ID\", \"Date Recorded\"], how=\"inner\")\n",
    "# df2.to_excel(\n",
    "#     dh.get_path_to_main()\n",
    "#     + \"ExcelFiles/BR/Refining_F3/infer_FEV1-FEF2575-based-AR_using_O2Sat_FEV1_FEF2575.xlsx\",\n",
    "#     index=False,\n",
    "# )\n",
    "\n",
    "df2 = dh.load_excel(\n",
    "    dh.get_path_to_main()\n",
    "    + \"ExcelFiles/BR/Refining_F3/infer_FEV1-FEF2575-based-AR_using_O2Sat_FEV1_FEF2575.xlsx\",\n",
    "    [\"AR\"],\n",
    ")"
   ]
  },
  {
   "cell_type": "code",
   "execution_count": null,
   "metadata": {},
   "outputs": [],
   "source": [
    "# Model F3 using FEV1-FEF2575-based-AR\n",
    "\n",
    "## TODO: why it gives nan when it's the first time I run it?\n",
    "cpt_f3_2, df_f3_2, _ = cpt_and_plots.model_f3(df2, AR, \"FEV1-FEF2575-based-AR\")"
   ]
  },
  {
   "cell_type": "markdown",
   "metadata": {},
   "source": [
    "## Model AR-IA using AR inferred with FEV1 and FEF25-75 (using F3 refined with F3 once)"
   ]
  },
  {
   "cell_type": "code",
   "execution_count": null,
   "metadata": {},
   "outputs": [],
   "source": [
    "# Infer IA, AR using FEV1-FEF2575-based-AR\n",
    "\n",
    "# inf_res_df_3 = infer_vars_and_get_back_df(\n",
    "#     df,\n",
    "#     # df.iloc[np.r_[10:1300, 3000:4007, 10000:11000]],\n",
    "#     variables_to_infer=[IA, AR],\n",
    "#     observed_variables=[ecFEV1, O2Sat, ecFEF2575prctecFEV1],\n",
    "#     ecFEF2575prctecFEV1_cpt=cpt_f3_2,\n",
    "# )\n",
    "# df3 = pd.merge(df, inf_res_df_3, on=[\"ID\", \"Date Recorded\"], how=\"inner\")\n",
    "# df3.to_excel(\n",
    "#     dh.get_path_to_main()\n",
    "#     + \"ExcelFiles/BR/Refining_F3/infer_FEV1-FEF2575-based-AR-and-IA_using_O2Sat_FEV1_FEF2575.xlsx\",\n",
    "#     index=False,\n",
    "# )\n",
    "\n",
    "df3 = dh.load_excel(\n",
    "    dh.get_path_to_main()\n",
    "    + \"ExcelFiles/BR/Refining_F3/infer_FEV1-FEF2575-based-AR-and-IA_using_O2Sat_FEV1_FEF2575.xlsx\",\n",
    "    [\"AR\", \"IA\"],\n",
    ")"
   ]
  },
  {
   "cell_type": "code",
   "execution_count": null,
   "metadata": {},
   "outputs": [],
   "source": [
    "# Model the relationship between AR and IA, and add it to the model\n",
    "\n",
    "AR_bin_width = 4\n",
    "n_samples = 100\n",
    "\n",
    "df_sampled_3 = cpt_and_plots.get_sampled_df_and_statistics_df_for_IA(\n",
    "    df3, n_samples, AR, AR_bin_width, IA\n",
    ")\n",
    "\n",
    "# cpt_and_plots.plot_F3_mean_and_percentiles_per_AR_bin(df_f3, ar_col, y_col, save=True)\n",
    "\n",
    "ar_col = \"FEV1-FEF2575-based-AR\"\n",
    "cpt_ia_ar = cpt_and_plots.calc_plot_cpt_IA_given_AR(\n",
    "    df_sampled_3, AR, AR_bin_width, ar_col, IA, n_samples, save=True, debug=True\n",
    ")\n",
    "\n",
    "# The four last histograms have too few data to be reliable\n",
    "# Replacing them by the -11th\n",
    "idx_sixty_six_from_back = AR.card - AR.get_bin_for_value(66)[1]\n",
    "print(AR.get_bins_str()[-idx_sixty_six_from_back])\n",
    "for j in range(idx_sixty_six_from_back - 1):\n",
    "    cpt_ia_ar[:, -j - 1] = cpt_ia_ar[:, -idx_sixty_six_from_back]\n",
    "\n",
    "# Renormalise the CPT\n",
    "cpt_ia_ar = cpt_ia_ar / cpt_ia_ar.sum(axis=0)\n",
    "\n",
    "cpt_and_plots.check_IA_cpt(cpt_ia_ar, IA, AR, True)"
   ]
  },
  {
   "cell_type": "code",
   "execution_count": null,
   "metadata": {},
   "outputs": [],
   "source": [
    "import src.models.cpts.helpers as cpt\n",
    "\n",
    "\n",
    "def get_cpt(vars, suffix=None):\n",
    "    path_to_folder = dh.get_path_to_src() + \"models/cpts/\"\n",
    "    var_spec = map(\n",
    "        lambda var: f\"{cpt.name_to_abbr(var.name)}_{var.a}_{var.b}_{var.bin_width}\",\n",
    "        vars,\n",
    "    )\n",
    "    filename = \"_\".join(var_spec)\n",
    "\n",
    "    if suffix is not None:\n",
    "        filename = filename + suffix\n",
    "\n",
    "    arr = np.load(f\"{path_to_folder}{filename}.npy\")\n",
    "\n",
    "    assert len(vars) == len(arr.shape)\n",
    "    return arr"
   ]
  },
  {
   "cell_type": "markdown",
   "metadata": {},
   "source": [
    "## Model F3 using AR inferred from AR-IA factor and FEV1"
   ]
  },
  {
   "cell_type": "code",
   "execution_count": 6,
   "metadata": {},
   "outputs": [
    {
     "ename": "FileNotFoundError",
     "evalue": "[Errno 2] No such file or directory: '/Users/tristan.trebaol/Desktop/PhD/ExcelFiles/BR/infer_FEV1-based-AR_using_O2Sat_FEV1_F4-with-dirichlet-prior.xlsx'",
     "output_type": "error",
     "traceback": [
      "\u001b[0;31m---------------------------------------------------------------------------\u001b[0m",
      "\u001b[0;31mFileNotFoundError\u001b[0m                         Traceback (most recent call last)",
      "Cell \u001b[0;32mIn[6], line 19\u001b[0m\n\u001b[1;32m      1\u001b[0m \u001b[38;5;66;03m# # Infer FEV1-based-AR with IA factor using FEV1\u001b[39;00m\n\u001b[1;32m      2\u001b[0m \n\u001b[1;32m      3\u001b[0m \u001b[38;5;66;03m# # Longer inference because of bayes net\u001b[39;00m\n\u001b[0;32m   (...)\u001b[0m\n\u001b[1;32m     16\u001b[0m \u001b[38;5;66;03m#     index=False,\u001b[39;00m\n\u001b[1;32m     17\u001b[0m \u001b[38;5;66;03m# )\u001b[39;00m\n\u001b[0;32m---> 19\u001b[0m df4 \u001b[38;5;241m=\u001b[39m \u001b[43mdh\u001b[49m\u001b[38;5;241;43m.\u001b[39;49m\u001b[43mload_excel\u001b[49m\u001b[43m(\u001b[49m\n\u001b[1;32m     20\u001b[0m \u001b[43m    \u001b[49m\u001b[43mdh\u001b[49m\u001b[38;5;241;43m.\u001b[39;49m\u001b[43mget_path_to_main\u001b[49m\u001b[43m(\u001b[49m\u001b[43m)\u001b[49m\n\u001b[1;32m     21\u001b[0m \u001b[43m    \u001b[49m\u001b[38;5;241;43m+\u001b[39;49m\u001b[43m \u001b[49m\u001b[38;5;124;43m\"\u001b[39;49m\u001b[38;5;124;43mExcelFiles/BR/infer_FEV1-based-AR_using_O2Sat_FEV1_F4-with-dirichlet-prior.xlsx\u001b[39;49m\u001b[38;5;124;43m\"\u001b[39;49m\u001b[43m,\u001b[49m\n\u001b[1;32m     22\u001b[0m \u001b[43m    \u001b[49m\u001b[43m[\u001b[49m\u001b[38;5;124;43m\"\u001b[39;49m\u001b[38;5;124;43mAR\u001b[39;49m\u001b[38;5;124;43m\"\u001b[39;49m\u001b[43m]\u001b[49m\u001b[43m,\u001b[49m\n\u001b[1;32m     23\u001b[0m \u001b[43m)\u001b[49m\n",
      "File \u001b[0;32m~/Desktop/PhD/Code/phd/src/data/helpers.py:35\u001b[0m, in \u001b[0;36mload_excel\u001b[0;34m(file_path, str_cols_to_arrays, date_cols)\u001b[0m\n\u001b[1;32m     30\u001b[0m \u001b[38;5;28;01mdef\u001b[39;00m \u001b[38;5;21mload_excel\u001b[39m(file_path, str_cols_to_arrays\u001b[38;5;241m=\u001b[39m\u001b[38;5;28;01mNone\u001b[39;00m, date_cols\u001b[38;5;241m=\u001b[39m[]):\n\u001b[1;32m     31\u001b[0m \u001b[38;5;250m    \u001b[39m\u001b[38;5;124;03m\"\"\"\u001b[39;00m\n\u001b[1;32m     32\u001b[0m \u001b[38;5;124;03m    Load excel file\u001b[39;00m\n\u001b[1;32m     33\u001b[0m \u001b[38;5;124;03m    Optionally convert string columns to arrays\u001b[39;00m\n\u001b[1;32m     34\u001b[0m \u001b[38;5;124;03m    \"\"\"\u001b[39;00m\n\u001b[0;32m---> 35\u001b[0m     df \u001b[38;5;241m=\u001b[39m \u001b[43mpd\u001b[49m\u001b[38;5;241;43m.\u001b[39;49m\u001b[43mread_excel\u001b[49m\u001b[43m(\u001b[49m\u001b[43mfile_path\u001b[49m\u001b[43m)\u001b[49m\n\u001b[1;32m     37\u001b[0m     \u001b[38;5;66;03m# If ID in columns set type to str\u001b[39;00m\n\u001b[1;32m     38\u001b[0m     \u001b[38;5;28;01mif\u001b[39;00m \u001b[38;5;124m\"\u001b[39m\u001b[38;5;124mID\u001b[39m\u001b[38;5;124m\"\u001b[39m \u001b[38;5;129;01min\u001b[39;00m df\u001b[38;5;241m.\u001b[39mcolumns:\n",
      "File \u001b[0;32m/Applications/anaconda3/envs/phd/lib/python3.10/site-packages/pandas/io/excel/_base.py:504\u001b[0m, in \u001b[0;36mread_excel\u001b[0;34m(io, sheet_name, header, names, index_col, usecols, dtype, engine, converters, true_values, false_values, skiprows, nrows, na_values, keep_default_na, na_filter, verbose, parse_dates, date_parser, date_format, thousands, decimal, comment, skipfooter, storage_options, dtype_backend, engine_kwargs)\u001b[0m\n\u001b[1;32m    502\u001b[0m \u001b[38;5;28;01mif\u001b[39;00m \u001b[38;5;129;01mnot\u001b[39;00m \u001b[38;5;28misinstance\u001b[39m(io, ExcelFile):\n\u001b[1;32m    503\u001b[0m     should_close \u001b[38;5;241m=\u001b[39m \u001b[38;5;28;01mTrue\u001b[39;00m\n\u001b[0;32m--> 504\u001b[0m     io \u001b[38;5;241m=\u001b[39m \u001b[43mExcelFile\u001b[49m\u001b[43m(\u001b[49m\n\u001b[1;32m    505\u001b[0m \u001b[43m        \u001b[49m\u001b[43mio\u001b[49m\u001b[43m,\u001b[49m\n\u001b[1;32m    506\u001b[0m \u001b[43m        \u001b[49m\u001b[43mstorage_options\u001b[49m\u001b[38;5;241;43m=\u001b[39;49m\u001b[43mstorage_options\u001b[49m\u001b[43m,\u001b[49m\n\u001b[1;32m    507\u001b[0m \u001b[43m        \u001b[49m\u001b[43mengine\u001b[49m\u001b[38;5;241;43m=\u001b[39;49m\u001b[43mengine\u001b[49m\u001b[43m,\u001b[49m\n\u001b[1;32m    508\u001b[0m \u001b[43m        \u001b[49m\u001b[43mengine_kwargs\u001b[49m\u001b[38;5;241;43m=\u001b[39;49m\u001b[43mengine_kwargs\u001b[49m\u001b[43m,\u001b[49m\n\u001b[1;32m    509\u001b[0m \u001b[43m    \u001b[49m\u001b[43m)\u001b[49m\n\u001b[1;32m    510\u001b[0m \u001b[38;5;28;01melif\u001b[39;00m engine \u001b[38;5;129;01mand\u001b[39;00m engine \u001b[38;5;241m!=\u001b[39m io\u001b[38;5;241m.\u001b[39mengine:\n\u001b[1;32m    511\u001b[0m     \u001b[38;5;28;01mraise\u001b[39;00m \u001b[38;5;167;01mValueError\u001b[39;00m(\n\u001b[1;32m    512\u001b[0m         \u001b[38;5;124m\"\u001b[39m\u001b[38;5;124mEngine should not be specified when passing \u001b[39m\u001b[38;5;124m\"\u001b[39m\n\u001b[1;32m    513\u001b[0m         \u001b[38;5;124m\"\u001b[39m\u001b[38;5;124man ExcelFile - ExcelFile already has the engine set\u001b[39m\u001b[38;5;124m\"\u001b[39m\n\u001b[1;32m    514\u001b[0m     )\n",
      "File \u001b[0;32m/Applications/anaconda3/envs/phd/lib/python3.10/site-packages/pandas/io/excel/_base.py:1563\u001b[0m, in \u001b[0;36mExcelFile.__init__\u001b[0;34m(self, path_or_buffer, engine, storage_options, engine_kwargs)\u001b[0m\n\u001b[1;32m   1561\u001b[0m     ext \u001b[38;5;241m=\u001b[39m \u001b[38;5;124m\"\u001b[39m\u001b[38;5;124mxls\u001b[39m\u001b[38;5;124m\"\u001b[39m\n\u001b[1;32m   1562\u001b[0m \u001b[38;5;28;01melse\u001b[39;00m:\n\u001b[0;32m-> 1563\u001b[0m     ext \u001b[38;5;241m=\u001b[39m \u001b[43minspect_excel_format\u001b[49m\u001b[43m(\u001b[49m\n\u001b[1;32m   1564\u001b[0m \u001b[43m        \u001b[49m\u001b[43mcontent_or_path\u001b[49m\u001b[38;5;241;43m=\u001b[39;49m\u001b[43mpath_or_buffer\u001b[49m\u001b[43m,\u001b[49m\u001b[43m \u001b[49m\u001b[43mstorage_options\u001b[49m\u001b[38;5;241;43m=\u001b[39;49m\u001b[43mstorage_options\u001b[49m\n\u001b[1;32m   1565\u001b[0m \u001b[43m    \u001b[49m\u001b[43m)\u001b[49m\n\u001b[1;32m   1566\u001b[0m     \u001b[38;5;28;01mif\u001b[39;00m ext \u001b[38;5;129;01mis\u001b[39;00m \u001b[38;5;28;01mNone\u001b[39;00m:\n\u001b[1;32m   1567\u001b[0m         \u001b[38;5;28;01mraise\u001b[39;00m \u001b[38;5;167;01mValueError\u001b[39;00m(\n\u001b[1;32m   1568\u001b[0m             \u001b[38;5;124m\"\u001b[39m\u001b[38;5;124mExcel file format cannot be determined, you must specify \u001b[39m\u001b[38;5;124m\"\u001b[39m\n\u001b[1;32m   1569\u001b[0m             \u001b[38;5;124m\"\u001b[39m\u001b[38;5;124man engine manually.\u001b[39m\u001b[38;5;124m\"\u001b[39m\n\u001b[1;32m   1570\u001b[0m         )\n",
      "File \u001b[0;32m/Applications/anaconda3/envs/phd/lib/python3.10/site-packages/pandas/io/excel/_base.py:1419\u001b[0m, in \u001b[0;36minspect_excel_format\u001b[0;34m(content_or_path, storage_options)\u001b[0m\n\u001b[1;32m   1416\u001b[0m \u001b[38;5;28;01mif\u001b[39;00m \u001b[38;5;28misinstance\u001b[39m(content_or_path, \u001b[38;5;28mbytes\u001b[39m):\n\u001b[1;32m   1417\u001b[0m     content_or_path \u001b[38;5;241m=\u001b[39m BytesIO(content_or_path)\n\u001b[0;32m-> 1419\u001b[0m \u001b[38;5;28;01mwith\u001b[39;00m \u001b[43mget_handle\u001b[49m\u001b[43m(\u001b[49m\n\u001b[1;32m   1420\u001b[0m \u001b[43m    \u001b[49m\u001b[43mcontent_or_path\u001b[49m\u001b[43m,\u001b[49m\u001b[43m \u001b[49m\u001b[38;5;124;43m\"\u001b[39;49m\u001b[38;5;124;43mrb\u001b[39;49m\u001b[38;5;124;43m\"\u001b[39;49m\u001b[43m,\u001b[49m\u001b[43m \u001b[49m\u001b[43mstorage_options\u001b[49m\u001b[38;5;241;43m=\u001b[39;49m\u001b[43mstorage_options\u001b[49m\u001b[43m,\u001b[49m\u001b[43m \u001b[49m\u001b[43mis_text\u001b[49m\u001b[38;5;241;43m=\u001b[39;49m\u001b[38;5;28;43;01mFalse\u001b[39;49;00m\n\u001b[1;32m   1421\u001b[0m \u001b[43m\u001b[49m\u001b[43m)\u001b[49m \u001b[38;5;28;01mas\u001b[39;00m handle:\n\u001b[1;32m   1422\u001b[0m     stream \u001b[38;5;241m=\u001b[39m handle\u001b[38;5;241m.\u001b[39mhandle\n\u001b[1;32m   1423\u001b[0m     stream\u001b[38;5;241m.\u001b[39mseek(\u001b[38;5;241m0\u001b[39m)\n",
      "File \u001b[0;32m/Applications/anaconda3/envs/phd/lib/python3.10/site-packages/pandas/io/common.py:872\u001b[0m, in \u001b[0;36mget_handle\u001b[0;34m(path_or_buf, mode, encoding, compression, memory_map, is_text, errors, storage_options)\u001b[0m\n\u001b[1;32m    863\u001b[0m         handle \u001b[38;5;241m=\u001b[39m \u001b[38;5;28mopen\u001b[39m(\n\u001b[1;32m    864\u001b[0m             handle,\n\u001b[1;32m    865\u001b[0m             ioargs\u001b[38;5;241m.\u001b[39mmode,\n\u001b[0;32m   (...)\u001b[0m\n\u001b[1;32m    868\u001b[0m             newline\u001b[38;5;241m=\u001b[39m\u001b[38;5;124m\"\u001b[39m\u001b[38;5;124m\"\u001b[39m,\n\u001b[1;32m    869\u001b[0m         )\n\u001b[1;32m    870\u001b[0m     \u001b[38;5;28;01melse\u001b[39;00m:\n\u001b[1;32m    871\u001b[0m         \u001b[38;5;66;03m# Binary mode\u001b[39;00m\n\u001b[0;32m--> 872\u001b[0m         handle \u001b[38;5;241m=\u001b[39m \u001b[38;5;28;43mopen\u001b[39;49m\u001b[43m(\u001b[49m\u001b[43mhandle\u001b[49m\u001b[43m,\u001b[49m\u001b[43m \u001b[49m\u001b[43mioargs\u001b[49m\u001b[38;5;241;43m.\u001b[39;49m\u001b[43mmode\u001b[49m\u001b[43m)\u001b[49m\n\u001b[1;32m    873\u001b[0m     handles\u001b[38;5;241m.\u001b[39mappend(handle)\n\u001b[1;32m    875\u001b[0m \u001b[38;5;66;03m# Convert BytesIO or file objects passed with an encoding\u001b[39;00m\n",
      "\u001b[0;31mFileNotFoundError\u001b[0m: [Errno 2] No such file or directory: '/Users/tristan.trebaol/Desktop/PhD/ExcelFiles/BR/infer_FEV1-based-AR_using_O2Sat_FEV1_F4-with-dirichlet-prior.xlsx'"
     ]
    }
   ],
   "source": [
    "# # Infer FEV1-based-AR with IA factor using FEV1\n",
    "\n",
    "# # Longer inference because of bayes net\n",
    "# inf_res_df_4 = infer_vars_and_get_back_df(\n",
    "#     df,\n",
    "#     variables_to_infer=[AR],\n",
    "#     observed_variables=[ecFEV1, O2Sat],\n",
    "#     ecFEF2575prctecFEV1_cpt=None,\n",
    "#     IA_cpt=get_cpt([IA, AR], \"_Dirichlet_prior\"),\n",
    "# )\n",
    "# df4 = pd.merge(df, inf_res_df_4, on=[\"ID\", \"Date Recorded\"], how=\"inner\")\n",
    "# # F4 is the IA-AR factor\n",
    "# df4.to_excel(\n",
    "#     dh.get_path_to_main()\n",
    "#     + \"ExcelFiles/BR/Refining_F3/infer_FEV1-based-AR_using_O2Sat_FEV1_F4-with-dirichlet-prior.xlsx\",\n",
    "#     index=False,\n",
    "# )\n",
    "\n",
    "df4 = dh.load_excel(\n",
    "    dh.get_path_to_main()\n",
    "    + \"ExcelFiles/BR/infer_FEV1-based-AR_using_O2Sat_FEV1_F4-with-dirichlet-prior.xlsx\",\n",
    "    [\"AR\"],\n",
    ")"
   ]
  },
  {
   "cell_type": "code",
   "execution_count": null,
   "metadata": {},
   "outputs": [],
   "source": [
    "# Model F3 using FEV1-based-AR with IA factor\n",
    "cpt_f3_4, df_f3_4, _ = cpt_and_plots.model_f3(df4, AR, \"FEV1-based-AR with F4\")"
   ]
  },
  {
   "cell_type": "markdown",
   "metadata": {},
   "source": [
    "## Model F3 using AR inferred from FEV1, FEF25-75 (refined with itself once), and the AR-IA factor"
   ]
  },
  {
   "cell_type": "code",
   "execution_count": null,
   "metadata": {},
   "outputs": [],
   "source": [
    "# Infer FEV1-FEF2575-based-AR with IA factor using FEV1 and F4\n",
    "\n",
    "inf_res_df_5 = infer_vars_and_get_back_df(\n",
    "    df,\n",
    "    # df.iloc[np.r_[10:1300, 3000:4007]],\n",
    "    variables_to_infer=[AR, IA],\n",
    "    observed_variables=[ecFEV1, O2Sat, ecFEF2575prctecFEV1],\n",
    "    ecFEF2575prctecFEV1_cpt=cpt_f3_2,\n",
    "    IA_cpt=cpt_ia_ar,\n",
    ")\n",
    "df5 = pd.merge(df, inf_res_df_5, on=[\"ID\", \"Date Recorded\"], how=\"inner\")\n",
    "df5.to_excel(\n",
    "    dh.get_path_to_main()\n",
    "    + \"ExcelFiles/BR/Refining_F3/infer_FEV1-FEF2575-based-AR_using_O2Sat_FEV1_F4-with-dirichlet-prior.xlsx\",\n",
    "    index=False,\n",
    ")"
   ]
  },
  {
   "cell_type": "code",
   "execution_count": null,
   "metadata": {},
   "outputs": [],
   "source": [
    "df5 = pd.merge(df, inf_res_df_5, on=[\"ID\", \"Date Recorded\"], how=\"inner\")\n",
    "df5.to_excel(\n",
    "    dh.get_path_to_main()\n",
    "    + \"ExcelFiles/BR/Refining_F3/infer_FEV1-FEF2575-based-AR_using_O2Sat_FEV1_F4.xlsx\",\n",
    "    index=False,\n",
    ")"
   ]
  },
  {
   "cell_type": "code",
   "execution_count": null,
   "metadata": {},
   "outputs": [],
   "source": [
    "# Model F3 using FEV1-based-AR with IA factor\n",
    "cpt_f3_5, df_f3_5, _ = cpt_and_plots.model_f3(df5, AR, \"FEV1-FEF2575-based-AR with F4\")"
   ]
  },
  {
   "cell_type": "markdown",
   "metadata": {},
   "source": [
    "## Model F3 using AR from the two days model (FEV1, O2Sat)"
   ]
  },
  {
   "cell_type": "code",
   "execution_count": 21,
   "metadata": {},
   "outputs": [
    {
     "name": "stderr",
     "output_type": "stream",
     "text": [
      "INFO:root:* Checking for same day measurements *\n"
     ]
    }
   ],
   "source": [
    "df_meas = br.load_meas_from_excel(\"BR_O2_FEV1_FEF2575_with_idx\")"
   ]
  },
  {
   "cell_type": "code",
   "execution_count": 17,
   "metadata": {},
   "outputs": [],
   "source": [
    "df6_tmp = dh.load_excel(\n",
    "    f\"{dh.get_path_to_main()}/ExcelFiles/BR/Refining_F3/infer_AR_with_two_days_model_O2Sat_FEV1.xlsx\",\n",
    "    [AR.name],\n",
    "    [\"Day\"],\n",
    ").drop(columns=[\"Unnamed: 0\", HO2Sat.name, IA.name, HFEV1.name])"
   ]
  },
  {
   "cell_type": "code",
   "execution_count": 22,
   "metadata": {},
   "outputs": [
    {
     "name": "stdout",
     "output_type": "stream",
     "text": [
      "(41260, 19) length raw meas\n",
      "(41260, 3) length two days model output\n",
      "(41260, 21) length merged\n"
     ]
    }
   ],
   "source": [
    "df6 = df6_tmp.merge(\n",
    "    df_meas, left_on=[\"ID\", \"Day\"], right_on=[\"ID\", \"Date Recorded\"], how=\"inner\"\n",
    ")\n",
    "print(df_meas.shape, \"length raw meas\")\n",
    "print(df6_tmp.shape, \"length two days model output\")\n",
    "print(df6.shape, \"length merged\")\n",
    "df6 = df6.drop(\n",
    "    columns=[\n",
    "        \"Day\",\n",
    "        \"FEV1\",\n",
    "        \"O2 Saturation\",\n",
    "        \"FEF2575\",\n",
    "        # \"ecFEV1\",\n",
    "        # \"ecFEF2575\",\n",
    "        \"Sex\",\n",
    "        \"Height\",\n",
    "        \"Age\",\n",
    "        \"Predicted FEV1\",\n",
    "        \"Healthy O2 Saturation\",\n",
    "        \"ecFEV1 % Predicted\",\n",
    "        \"FEV1 % Predicted\",\n",
    "        \"O2 Saturation % Healthy\",\n",
    "        \"idx ecFEV1 (L)\",\n",
    "        \"idx ecFEF25-75 % ecFEV1 (%)\",\n",
    "        \"idx O2 saturation (%)\",\n",
    "    ]\n",
    ").rename(columns={AR.name: \"AR\"})"
   ]
  },
  {
   "cell_type": "code",
   "execution_count": 23,
   "metadata": {},
   "outputs": [
    {
     "data": {
      "text/plain": [
       "Index(['ID', 'AR', 'Date Recorded', 'ecFEV1', 'ecFEF2575', 'ecFEF2575%ecFEV1'], dtype='object')"
      ]
     },
     "execution_count": 23,
     "metadata": {},
     "output_type": "execute_result"
    }
   ],
   "source": [
    "df6.columns"
   ]
  },
  {
   "cell_type": "code",
   "execution_count": 24,
   "metadata": {},
   "outputs": [
    {
     "name": "stdout",
     "output_type": "stream",
     "text": [
      "Max sampled AR values: 90.00\n"
     ]
    },
    {
     "name": "stderr",
     "output_type": "stream",
     "text": [
      "/Users/tristan.trebaol/Desktop/PhD/Code/phd/src/modelling_fef2575/cpt_and_plots.py:305: FutureWarning:\n",
      "\n",
      "The default of observed=False is deprecated and will be changed to True in a future version of pandas. Pass observed=False to retain current behavior or observed=True to adopt the future default and silence this warning.\n",
      "\n"
     ]
    }
   ],
   "source": [
    "# Model F3\n",
    "cpt_f3_6, df_f3_6, _ = cpt_and_plots.model_f3(\n",
    "    df6,\n",
    "    AR,\n",
    "    \"Airway resistance midbin in %<br>Inferred using the two days model (Obs. var.: ecFEV1, O2 saturation)\",\n",
    ")"
   ]
  },
  {
   "cell_type": "markdown",
   "metadata": {},
   "source": [
    "## Model F3 using AR from two days model (ecFEV1), with add mult ecfev1 noise"
   ]
  },
  {
   "cell_type": "code",
   "execution_count": 5,
   "metadata": {},
   "outputs": [],
   "source": [
    "df7_tmp = dh.load_excel(\n",
    "    f\"{dh.get_path_to_main()}/ExcelFiles/BR/Refining_F3/infer_AR_using_two_days_model_ecFEV1_ecfev1noiseaddmult.xlsx\",\n",
    "    [AR.name],\n",
    "    [\"Day\"],\n",
    ").drop(columns=[HO2Sat.name, HFEV1.name])"
   ]
  },
  {
   "cell_type": "code",
   "execution_count": 9,
   "metadata": {},
   "outputs": [],
   "source": [
    "# df7_tmp.to_excel(\n",
    "#     f\"{dh.get_path_to_main()}/ExcelFiles/BR/Refining_F3/infer_AR_using_two_days_model_ecFEV1_ecfev1noiseaddmult.xlsx\",\n",
    "#     index=False,\n",
    "# )"
   ]
  },
  {
   "cell_type": "code",
   "execution_count": 10,
   "metadata": {},
   "outputs": [
    {
     "name": "stderr",
     "output_type": "stream",
     "text": [
      "INFO:root:* Checking for same day measurements *\n"
     ]
    }
   ],
   "source": [
    "df_meas = br.load_meas_from_excel(\"BR_O2_FEV1_FEF2575_conservative_smoothing_with_idx\")"
   ]
  },
  {
   "cell_type": "code",
   "execution_count": 12,
   "metadata": {},
   "outputs": [
    {
     "name": "stdout",
     "output_type": "stream",
     "text": [
      "(41260, 20) length raw meas\n",
      "(41260, 3) length two days model output\n",
      "(41260, 22) length merged\n"
     ]
    }
   ],
   "source": [
    "df7 = df7_tmp.merge(\n",
    "    df_meas, left_on=[\"ID\", \"Day\"], right_on=[\"ID\", \"Date Recorded\"], how=\"inner\"\n",
    ")\n",
    "print(df_meas.shape, \"length raw meas\")\n",
    "print(df7_tmp.shape, \"length two days model output\")\n",
    "print(df7.shape, \"length merged\")\n",
    "df7 = df7.drop(\n",
    "    columns=[\n",
    "        \"Day\",\n",
    "        \"FEV1\",\n",
    "        \"O2 Saturation\",\n",
    "        \"FEF2575\",\n",
    "        # \"ecFEV1\",\n",
    "        # \"ecFEF2575\",\n",
    "        \"Sex\",\n",
    "        \"Height\",\n",
    "        \"Age\",\n",
    "        \"Predicted FEV1\",\n",
    "        \"Healthy O2 Saturation\",\n",
    "        \"ecFEV1 % Predicted\",\n",
    "        \"FEV1 % Predicted\",\n",
    "        \"O2 Saturation % Healthy\",\n",
    "        \"idx ecFEV1 (L)\",\n",
    "        \"idx ecFEF25-75 % ecFEV1 (%)\",\n",
    "        \"idx O2 saturation (%)\",\n",
    "    ]\n",
    ").rename(columns={AR.name: \"AR\"})"
   ]
  },
  {
   "cell_type": "code",
   "execution_count": 14,
   "metadata": {},
   "outputs": [
    {
     "name": "stdout",
     "output_type": "stream",
     "text": [
      "Max sampled AR values: 89.99\n"
     ]
    },
    {
     "name": "stderr",
     "output_type": "stream",
     "text": [
      "/Users/tristan.trebaol/Desktop/PhD/Code/phd/src/modelling_fef2575/cpt_and_plots.py:305: FutureWarning: The default of observed=False is deprecated and will be changed to True in a future version of pandas. Pass observed=False to retain current behavior or observed=True to adopt the future default and silence this warning.\n",
      "  df_sampled.groupby(\"AR bin\")\n"
     ]
    }
   ],
   "source": [
    "# Model F3\n",
    "cpt_f3_7, df_f3_7, _ = cpt_and_plots.model_f3(\n",
    "    df7,\n",
    "    AR,\n",
    "    \"Airway resistance midbin in %<br>Two days model (ecFEV1, addmult ecfev1 noise)\",\n",
    ")"
   ]
  },
  {
   "cell_type": "markdown",
   "metadata": {},
   "source": [
    "## Plot results"
   ]
  },
  {
   "cell_type": "code",
   "execution_count": null,
   "metadata": {},
   "outputs": [],
   "source": [
    "def add_traces_F3_mean_and_percentiles_per_AR_bin(fig, df_f3, dash_style=\"solid\"):\n",
    "    fig.add_traces(\n",
    "        go.Scatter(\n",
    "            x=df_f3[\"AR midbin\"],\n",
    "            y=df_f3[\"mean\"],\n",
    "            mode=\"lines+markers\",\n",
    "            line=dict(color=\"blue\", dash=dash_style),\n",
    "            name=f\"Mean\",\n",
    "        )\n",
    "    )\n",
    "    fig.add_traces(\n",
    "        go.Scatter(\n",
    "            x=df_f3[\"AR midbin\"],\n",
    "            y=df_f3[\"median\"],\n",
    "            mode=\"lines+markers\",\n",
    "            line=dict(color=\"purple\", dash=dash_style),\n",
    "            name=f\"Median\",\n",
    "        )\n",
    "    )\n",
    "    fig.add_traces(\n",
    "        go.Scatter(\n",
    "            x=df_f3[\"AR midbin\"],\n",
    "            y=df_f3[\"p16\"],\n",
    "            mode=\"lines+markers\",\n",
    "            line=dict(color=\"red\", dash=dash_style),\n",
    "            name=f\"16th prctile\",\n",
    "        )\n",
    "    )\n",
    "    fig.add_traces(\n",
    "        go.Scatter(\n",
    "            x=df_f3[\"AR midbin\"],\n",
    "            y=df_f3[\"p84\"],\n",
    "            mode=\"lines+markers\",\n",
    "            line=dict(color=\"red\", dash=dash_style),\n",
    "            name=f\"84th prctile\",\n",
    "        )\n",
    "    )\n",
    "    fig.add_traces(\n",
    "        go.Scatter(\n",
    "            x=df_f3[\"AR midbin\"],\n",
    "            y=df_f3[\"p3\"],\n",
    "            mode=\"lines+markers\",\n",
    "            line=dict(color=\"green\", dash=dash_style),\n",
    "            name=f\"3th prctile\",\n",
    "        )\n",
    "    )\n",
    "    fig.add_traces(\n",
    "        go.Scatter(\n",
    "            x=df_f3[\"AR midbin\"],\n",
    "            y=df_f3[\"p97\"],\n",
    "            mode=\"lines+markers\",\n",
    "            line=dict(color=\"green\", dash=dash_style),\n",
    "            name=f\"97th prctile\",\n",
    "        )\n",
    "    )\n",
    "    return -1"
   ]
  },
  {
   "cell_type": "code",
   "execution_count": null,
   "metadata": {},
   "outputs": [],
   "source": [
    "# Conclusion\n",
    "# df_f3 - F3 from FEV1-based-AR\n",
    "# df_f3_2 - F3 from FEV1-FEF2575-based-AR\n",
    "# df_f3_4 - F3 from FEV1-based-AR with IA-AR factor\n",
    "# F3 from FEV1-FEF2575-based-AR\n",
    "\n",
    "# ['solid', 'dot', 'dash', 'longdash', 'dashdot', 'longdashdot']\n",
    "\n",
    "fig = go.Figure()\n",
    "add_traces_F3_mean_and_percentiles_per_AR_bin(fig, df_f3, \"dot\")\n",
    "dot_name = \"AR from FEV1\"\n",
    "add_traces_F3_mean_and_percentiles_per_AR_bin(fig, df_f3_2, \"dash\")\n",
    "dash_name = \"AR from FEV1 and FEF25-75\"\n",
    "add_traces_F3_mean_and_percentiles_per_AR_bin(fig, df_f3_6, \"solid\")\n",
    "solid_name = \"AR from two days model (FEV1 and O2sat)\"\n",
    "fig.add_annotation(\n",
    "    x=1.1,\n",
    "    y=1.15,\n",
    "    text=f\"dot: {dot_name}<br>dash: {dash_name}<br>solid: {solid_name}\",\n",
    "    xref=\"paper\",\n",
    "    yref=\"paper\",\n",
    "    showarrow=False,\n",
    "    font=dict(size=12),\n",
    ")\n",
    "fig.update_xaxes(\n",
    "    title=f\"Airway resistance midbin (%)\",\n",
    "    tickvals=np.floor(list(df_f3[\"AR midbin\"].values)),\n",
    ")\n",
    "fig.update_traces(marker=dict(size=2))\n",
    "fig.update_yaxes(title=\"ecFEF2575prctecFEV1 (%)\")\n",
    "title = f\"F3 statistics\"\n",
    "fig.update_layout(title=title, width=1200, height=700)\n",
    "# fig.write_image(\n",
    "#     f\"{dh.get_path_to_main()}PlotsBreathe/AR_modelling/CPT - Refined F3 - with Dirichlet prior.pdf\"\n",
    "# )"
   ]
  },
  {
   "cell_type": "markdown",
   "metadata": {},
   "source": [
    "# Sanitize and save CPT P(ecFEF25-75|AR)"
   ]
  },
  {
   "cell_type": "code",
   "execution_count": 17,
   "metadata": {},
   "outputs": [
    {
     "data": {
      "text/plain": [
       "(100, 45)"
      ]
     },
     "execution_count": 17,
     "metadata": {},
     "output_type": "execute_result"
    }
   ],
   "source": [
    "cpt_f3_7.shape"
   ]
  },
  {
   "cell_type": "code",
   "execution_count": 18,
   "metadata": {},
   "outputs": [],
   "source": [
    "import src.models.cpts.helpers as cpth"
   ]
  },
  {
   "cell_type": "code",
   "execution_count": 20,
   "metadata": {},
   "outputs": [],
   "source": [
    "# From graph, the dat is safe until 71% AR included (after too few data, and curve go up)\n",
    "idx_cut = AR.get_bin_for_value(73)[1]\n",
    "cptsave = cpt_f3_7[:, :idx_cut]\n",
    "# Replicate the last column to 100%\n",
    "cptsave = np.hstack(\n",
    "    (\n",
    "        cptsave,\n",
    "        np.tile(\n",
    "            cptsave[:, -1].reshape(-1, 1), AR.get_bin_for_value(100)[1] - idx_cut + 1\n",
    "        ),\n",
    "    )\n",
    ")"
   ]
  },
  {
   "cell_type": "code",
   "execution_count": 21,
   "metadata": {},
   "outputs": [
    {
     "data": {
      "text/plain": [
       "(100, 45)"
      ]
     },
     "execution_count": 21,
     "metadata": {},
     "output_type": "execute_result"
    }
   ],
   "source": [
    "cptsave.shape"
   ]
  },
  {
   "cell_type": "code",
   "execution_count": 31,
   "metadata": {},
   "outputs": [
    {
     "data": {
      "application/vnd.plotly.v1+json": {
       "config": {
        "plotlyServerURL": "https://plot.ly"
       },
       "data": [
        {
         "histfunc": "sum",
         "marker": {
          "color": "#0072b2"
         },
         "type": "histogram",
         "x": [
          0,
          2,
          4,
          6,
          8,
          10,
          12,
          14,
          16,
          18,
          20,
          22,
          24,
          26,
          28,
          30,
          32,
          34,
          36,
          38,
          40,
          42,
          44,
          46,
          48,
          50,
          52,
          54,
          56,
          58,
          60,
          62,
          64,
          66,
          68,
          70,
          72,
          74,
          76,
          78,
          80,
          82,
          84,
          86,
          88
         ],
         "xaxis": "x",
         "xbins": {
          "end": 90,
          "size": 2,
          "start": 0
         },
         "y": [
          7.848102073631093e-9,
          1.0253311573480554e-7,
          7.733386363757506e-7,
          0.0000017177599890302972,
          0.0000032844323271578606,
          0.0000048118340292565145,
          0.000007258617955804284,
          0.000009900948334950212,
          0.000011846581280789663,
          0.000015013033273638065,
          0.000021655096977179527,
          0.00003108613026888098,
          0.00004125742431722374,
          0.00005378032520943073,
          0.00005977660098454497,
          0.0000717314456904703,
          0.00008324867213261188,
          0.00009612563369339387,
          0.00011617479500938482,
          0.00017244931045763465,
          0.00021747902553474077,
          0.0002319132439455782,
          0.00020035144489256577,
          0.00016331507789506334,
          0.00009055561048778969,
          0.000045574133404990127,
          0.000026213280101331267,
          0.000014784369587635826,
          0.000007988094800222626,
          0.000006471393232770861,
          0.000004352243835575969,
          0.000004276976394356961,
          0.000004034528190794863,
          0.0000037825853535462737,
          0.000006317057872161535,
          0.000015100804210646385,
          0.000015100804210646385,
          0.000015100804210646385,
          0.000015100804210646385,
          0.000015100804210646385,
          0.000015100804210646385,
          0.000015100804210646385,
          0.000015100804210646385,
          0.000015100804210646385,
          0.000015100804210646385
         ],
         "yaxis": "y"
        },
        {
         "histfunc": "sum",
         "marker": {
          "color": "#0072b2"
         },
         "type": "histogram",
         "x": [
          0,
          2,
          4,
          6,
          8,
          10,
          12,
          14,
          16,
          18,
          20,
          22,
          24,
          26,
          28,
          30,
          32,
          34,
          36,
          38,
          40,
          42,
          44,
          46,
          48,
          50,
          52,
          54,
          56,
          58,
          60,
          62,
          64,
          66,
          68,
          70,
          72,
          74,
          76,
          78,
          80,
          82,
          84,
          86,
          88
         ],
         "xaxis": "x2",
         "xbins": {
          "end": 90,
          "size": 2,
          "start": 0
         },
         "y": [
          1.3934355599013071e-8,
          1.6599852376330643e-7,
          0.0000011634645355576443,
          0.000002524067145964837,
          0.00000474346137859582,
          0.000006894497146727752,
          0.000010310101881851469,
          0.000013975060477919951,
          0.00001671290547588096,
          0.000021118643214057683,
          0.000030245704696765235,
          0.00004313711688920053,
          0.00005702256060424234,
          0.00007410030806690736,
          0.00008267104069836206,
          0.0000991041709084326,
          0.00011498121405693826,
          0.00013268892923055676,
          0.0001599490527902953,
          0.0002338224419699837,
          0.0002931397260117338,
          0.00031365092831649004,
          0.000276360718691152,
          0.00023066203901520951,
          0.0001344245810796443,
          0.00007163293878481414,
          0.00004325291954949332,
          0.0000256700333819086,
          0.000014670866489557455,
          0.000012202956446480394,
          0.000008545787758906135,
          0.000008450252631269137,
          0.000008048394133766836,
          0.000007605384785179409,
          0.000012247449616392042,
          0.00002764099727419291,
          0.00002764099727419291,
          0.00002764099727419291,
          0.00002764099727419291,
          0.00002764099727419291,
          0.00002764099727419291,
          0.00002764099727419291,
          0.00002764099727419291,
          0.00002764099727419291,
          0.00002764099727419291
         ],
         "yaxis": "y2"
        },
        {
         "histfunc": "sum",
         "marker": {
          "color": "#0072b2"
         },
         "type": "histogram",
         "x": [
          0,
          2,
          4,
          6,
          8,
          10,
          12,
          14,
          16,
          18,
          20,
          22,
          24,
          26,
          28,
          30,
          32,
          34,
          36,
          38,
          40,
          42,
          44,
          46,
          48,
          50,
          52,
          54,
          56,
          58,
          60,
          62,
          64,
          66,
          68,
          70,
          72,
          74,
          76,
          78,
          80,
          82,
          84,
          86,
          88
         ],
         "xaxis": "x3",
         "xbins": {
          "end": 90,
          "size": 2,
          "start": 0
         },
         "y": [
          2.4473657234341066e-8,
          2.6628110376856255e-7,
          0.0000017365855370686266,
          0.0000036807107190573545,
          0.000006799808059800479,
          0.000009805371052163308,
          0.000014535998554641953,
          0.00001957936507547553,
          0.000023400126260781354,
          0.00002948006598474268,
          0.00004191898663524481,
          0.00005939398176007116,
          0.00007818863036616632,
          0.00010127436095935123,
          0.00011337692686313941,
          0.0001357513330040668,
          0.0001574224905041112,
          0.00018152931387641004,
          0.00021822664893429125,
          0.00031424085231628306,
          0.0003916194715355246,
          0.0004203125691318416,
          0.00037738643547169414,
          0.00032218916752644797,
          0.0001969753363939472,
          0.00011090021189577225,
          0.00007016049927625534,
          0.00004372519364987813,
          0.000026371129483982664,
          0.00002249189533040495,
          0.00001637135052835245,
          0.0000162826279027604,
          0.00001565001075090213,
          0.000014899461130648635,
          0.000023165647228283988,
          0.000049450632731451275,
          0.000049450632731451275,
          0.000049450632731451275,
          0.000049450632731451275,
          0.000049450632731451275,
          0.000049450632731451275,
          0.000049450632731451275,
          0.000049450632731451275,
          0.000049450632731451275,
          0.000049450632731451275
         ],
         "yaxis": "y3"
        },
        {
         "histfunc": "sum",
         "marker": {
          "color": "#0072b2"
         },
         "type": "histogram",
         "x": [
          0,
          2,
          4,
          6,
          8,
          10,
          12,
          14,
          16,
          18,
          20,
          22,
          24,
          26,
          28,
          30,
          32,
          34,
          36,
          38,
          40,
          42,
          44,
          46,
          48,
          50,
          52,
          54,
          56,
          58,
          60,
          62,
          64,
          66,
          68,
          70,
          72,
          74,
          76,
          78,
          80,
          82,
          84,
          86,
          88
         ],
         "xaxis": "x4",
         "xbins": {
          "end": 90,
          "size": 2,
          "start": 0
         },
         "y": [
          4.2520718507628695e-8,
          4.2322617819246263e-7,
          0.000002571572650144486,
          0.000005326658184461829,
          0.00000967529405494904,
          0.00001384187582400065,
          0.000020342282507514597,
          0.000027227735254751497,
          0.000032515599827681803,
          0.00004083718161558839,
          0.000057650268727652766,
          0.00008114105323444398,
          0.00010636353978222582,
          0.00013729727506135218,
          0.00015418603680240347,
          0.00018435974312614294,
          0.00021364708996910099,
          0.0002461361742503722,
          0.0002950463513475816,
          0.0004185918986166889,
          0.0005185446724716312,
          0.0005580883429584951,
          0.0005101787870296268,
          0.0004450724436728855,
          0.00028491468893799285,
          0.0001691130962355607,
          0.00011188016508831665,
          0.00007306657245083556,
          0.0000463940310905505,
          0.000040521057240764036,
          0.0000305992254213214,
          0.000030598579783920195,
          0.000029662583074705975,
          0.000028440475073062045,
          0.000042747545828124854,
          0.00008646782022836237,
          0.00008646782022836237,
          0.00008646782022836237,
          0.00008646782022836237,
          0.00008646782022836237,
          0.00008646782022836237,
          0.00008646782022836237,
          0.00008646782022836237,
          0.00008646782022836237,
          0.00008646782022836237
         ],
         "yaxis": "y4"
        },
        {
         "histfunc": "sum",
         "marker": {
          "color": "#0072b2"
         },
         "type": "histogram",
         "x": [
          0,
          2,
          4,
          6,
          8,
          10,
          12,
          14,
          16,
          18,
          20,
          22,
          24,
          26,
          28,
          30,
          32,
          34,
          36,
          38,
          40,
          42,
          44,
          46,
          48,
          50,
          52,
          54,
          56,
          58,
          60,
          62,
          64,
          66,
          68,
          70,
          72,
          74,
          76,
          78,
          80,
          82,
          84,
          86,
          88
         ],
         "xaxis": "x5",
         "xbins": {
          "end": 90,
          "size": 2,
          "start": 0
         },
         "y": [
          7.307890869217865e-8,
          6.665009125708226e-7,
          0.0000037779917493047816,
          0.000007650156720588897,
          0.000013664631566693466,
          0.000019395248326520903,
          0.00002825708692815191,
          0.000037583086244706596,
          0.00004484072901709509,
          0.0000561368376571967,
          0.00007867475330118955,
          0.00010998810345052879,
          0.0001435470412051873,
          0.00018463210994740635,
          0.0002079287285932345,
          0.00024823208047744164,
          0.0002874203399128521,
          0.00033076589915864815,
          0.00039530204989420296,
          0.0005526761404480661,
          0.000680519190218161,
          0.0007342404370069644,
          0.0006827860599597623,
          0.0006080446071049531,
          0.0004068062902073821,
          0.0002540079817473569,
          0.0001753867216830366,
          0.00011978085645512677,
          0.00007988328189407016,
          0.00007135578760349052,
          0.00005579944505282819,
          0.00005607896714220337,
          0.000054801471209107336,
          0.000052895660779349295,
          0.00007695660596912878,
          0.00014777524308917832,
          0.00014777524308917832,
          0.00014777524308917832,
          0.00014777524308917832,
          0.00014777524308917832,
          0.00014777524308917832,
          0.00014777524308917832,
          0.00014777524308917832,
          0.00014777524308917832,
          0.00014777524308917832
         ],
         "yaxis": "y5"
        },
        {
         "histfunc": "sum",
         "marker": {
          "color": "#0072b2"
         },
         "type": "histogram",
         "x": [
          0,
          2,
          4,
          6,
          8,
          10,
          12,
          14,
          16,
          18,
          20,
          22,
          24,
          26,
          28,
          30,
          32,
          34,
          36,
          38,
          40,
          42,
          44,
          46,
          48,
          50,
          52,
          54,
          56,
          58,
          60,
          62,
          64,
          66,
          68,
          70,
          72,
          74,
          76,
          78,
          80,
          82,
          84,
          86,
          88
         ],
         "xaxis": "x6",
         "xbins": {
          "end": 90,
          "size": 2,
          "start": 0
         },
         "y": [
          1.2424337763804157e-7,
          0.0000010399800915633333,
          0.000005506590745821169,
          0.00001090380802001886,
          0.000019155695023468145,
          0.000026975233928737877,
          0.000038960811133079594,
          0.00005149219065467829,
          0.00006137067285606746,
          0.0000765781726147385,
          0.00010654005988362732,
          0.00014793047769393077,
          0.00019219761521474323,
          0.0002462835789937654,
          0.00027805649158761853,
          0.0003313748478904657,
          0.00038329074206258705,
          0.0004405372281838689,
          0.0005248367505765834,
          0.0007232731379878979,
          0.0008851703875500612,
          0.0009571465097780963,
          0.0009046342633578384,
          0.0008215332385382491,
          0.0005733638519448241,
          0.00037578785864541804,
          0.0002702859721433179,
          0.00019263614490007338,
          0.00013462015939588666,
          0.00012282064163946974,
          0.00009927567472322381,
          0.00010023530328566621,
          0.0000986880098295398,
          0.00009585618975501908,
          0.00013516012845525351,
          0.0002468387663723488,
          0.0002468387663723488,
          0.0002468387663723488,
          0.0002468387663723488,
          0.0002468387663723488,
          0.0002468387663723488,
          0.0002468387663723488,
          0.0002468387663723488,
          0.0002468387663723488,
          0.0002468387663723488
         ],
         "yaxis": "y6"
        },
        {
         "histfunc": "sum",
         "marker": {
          "color": "#0072b2"
         },
         "type": "histogram",
         "x": [
          0,
          2,
          4,
          6,
          8,
          10,
          12,
          14,
          16,
          18,
          20,
          22,
          24,
          26,
          28,
          30,
          32,
          34,
          36,
          38,
          40,
          42,
          44,
          46,
          48,
          50,
          52,
          54,
          56,
          58,
          60,
          62,
          64,
          66,
          68,
          70,
          72,
          74,
          76,
          78,
          80,
          82,
          84,
          86,
          88
         ],
         "xaxis": "x7",
         "xbins": {
          "end": 90,
          "size": 2,
          "start": 0
         },
         "y": [
          2.0895086967869376e-7,
          0.000001607849350079532,
          0.000007962770237063157,
          0.000015423339605198148,
          0.00002665410693644185,
          0.000037239562848368425,
          0.00005332139320268452,
          0.00007002583613826914,
          0.00008335975516282312,
          0.00010366375240012171,
          0.0001431640502023655,
          0.00019741333224127753,
          0.0002553018903314453,
          0.0003258716562845356,
          0.0003687233725962314,
          0.00043858219515444856,
          0.0005066749978518345,
          0.000581515244184707,
          0.0006905192067675631,
          0.0009381789367381085,
          0.0011411577312956374,
          0.0012362984219525268,
          0.0011865541370199813,
          0.0010977407876299851,
          0.0007977058718387455,
          0.0005475999284336695,
          0.00040948074671024354,
          0.0003039273813588943,
          0.00022203667424275462,
          0.00020663659718210707,
          0.00017232541619931658,
          0.00017472835050402467,
          0.00017323094999853114,
          0.00016925331838838674,
          0.0002315897090291538,
          0.00040298563510225536,
          0.00040298563510225536,
          0.00040298563510225536,
          0.00040298563510225536,
          0.00040298563510225536,
          0.00040298563510225536,
          0.00040298563510225536,
          0.00040298563510225536,
          0.00040298563510225536,
          0.00040298563510225536
         ],
         "yaxis": "y7"
        },
        {
         "histfunc": "sum",
         "marker": {
          "color": "#0072b2"
         },
         "type": "histogram",
         "x": [
          0,
          2,
          4,
          6,
          8,
          10,
          12,
          14,
          16,
          18,
          20,
          22,
          24,
          26,
          28,
          30,
          32,
          34,
          36,
          38,
          40,
          42,
          44,
          46,
          48,
          50,
          52,
          54,
          56,
          58,
          60,
          62,
          64,
          66,
          68,
          70,
          72,
          74,
          76,
          78,
          80,
          82,
          84,
          86,
          88
         ],
         "xaxis": "x8",
         "xbins": {
          "end": 90,
          "size": 2,
          "start": 0
         },
         "y": [
          3.476200791424411e-7,
          0.0000024629848175909036,
          0.000011423657056394388,
          0.00002165065337770126,
          0.00003681260845988202,
          0.00005102857121074049,
          0.00007243490296763284,
          0.00009452425091403015,
          0.00011237230812879001,
          0.00013925593839105921,
          0.00019089673881781126,
          0.00026139794693188557,
          0.0003364436630107894,
          0.00042770135711283643,
          0.0004848611468604023,
          0.0005755092042425751,
          0.0006639279212279307,
          0.0007607749362231902,
          0.0009002925190645366,
          0.0012062039412538516,
          0.0014581317864773452,
          0.0015822422729734331,
          0.0015407359676283627,
          0.0014506392581604018,
          0.0010955320785162805,
          0.000785975988979263,
          0.0006098550872798133,
          0.00047041760166355133,
          0.00035842619232437215,
          0.0003398105378941121,
          0.00029184304348816664,
          0.0002970489427810046,
          0.0002963981619290922,
          0.00029118643378648983,
          0.00038713094649611186,
          0.0006430285816000594,
          0.0006430285816000594,
          0.0006430285816000594,
          0.0006430285816000594,
          0.0006430285816000594,
          0.0006430285816000594,
          0.0006430285816000594,
          0.0006430285816000594,
          0.0006430285816000594,
          0.0006430285816000594
         ],
         "yaxis": "y8"
        },
        {
         "histfunc": "sum",
         "marker": {
          "color": "#0072b2"
         },
         "type": "histogram",
         "x": [
          0,
          2,
          4,
          6,
          8,
          10,
          12,
          14,
          16,
          18,
          20,
          22,
          24,
          26,
          28,
          30,
          32,
          34,
          36,
          38,
          40,
          42,
          44,
          46,
          48,
          50,
          52,
          54,
          56,
          58,
          60,
          62,
          64,
          66,
          68,
          70,
          72,
          74,
          76,
          78,
          80,
          82,
          84,
          86,
          88
         ],
         "xaxis": "x9",
         "xbins": {
          "end": 90,
          "size": 2,
          "start": 0
         },
         "y": [
          5.720780208774208e-7,
          0.000003738300136694058,
          0.0000162594450186377,
          0.000030161709557296065,
          0.00005046558148765131,
          0.00006940515397156564,
          0.00009767134607995172,
          0.00012664737483125669,
          0.00015033825249820127,
          0.00018563736497073983,
          0.0002525844062223604,
          0.0003434272391989559,
          0.00043986860032762284,
          0.0005568235272726783,
          0.0006322417768037456,
          0.0007487267886299516,
          0.000862388002246728,
          0.0009864336791134643,
          0.0011631825366236683,
          0.001537119140926923,
          0.001846631239184765,
          0.002006445767579404,
          0.0019805920082591423,
          0.0018958501848121928,
          0.0014851736617806856,
          0.0011111698086570352,
          0.0008929003630139126,
          0.0007142972597331749,
          0.0005662851529542836,
          0.0005462106524529638,
          0.00048221739915065015,
          0.0004925094985645395,
          0.0004943271319442681,
          0.0004881148247178437,
          0.000631341725241581,
          0.0010028488989027896,
          0.0010028488989027896,
          0.0010028488989027896,
          0.0010028488989027896,
          0.0010028488989027896,
          0.0010028488989027896,
          0.0010028488989027896,
          0.0010028488989027896,
          0.0010028488989027896,
          0.0010028488989027896
         ],
         "yaxis": "y9"
        },
        {
         "histfunc": "sum",
         "marker": {
          "color": "#0072b2"
         },
         "type": "histogram",
         "x": [
          0,
          2,
          4,
          6,
          8,
          10,
          12,
          14,
          16,
          18,
          20,
          22,
          24,
          26,
          28,
          30,
          32,
          34,
          36,
          38,
          40,
          42,
          44,
          46,
          48,
          50,
          52,
          54,
          56,
          58,
          60,
          62,
          64,
          66,
          68,
          70,
          72,
          74,
          76,
          78,
          80,
          82,
          84,
          86,
          88
         ],
         "xaxis": "x10",
         "xbins": {
          "end": 90,
          "size": 2,
          "start": 0
         },
         "y": [
          9.313124494424954e-7,
          0.000005621893964158746,
          0.000022959681923499474,
          0.000041699731711039634,
          0.00006866891825914006,
          0.00009369998367005952,
          0.0001307252134195512,
          0.00016842910713483073,
          0.00019961217170622766,
          0.0002455737478848805,
          0.00033163324001637615,
          0.0004476866854867145,
          0.0005705396828292574,
          0.0007190803718858423,
          0.0008175194286059608,
          0.0009657490542816043,
          0.00111038808411992,
          0.001267640745292445,
          0.0014892529143720457,
          0.0019415386509137361,
          0.0023179063173386864,
          0.0025210800835922267,
          0.002520507312212511,
          0.002450380724490271,
          0.001987463717220981,
          0.0015473082619312424,
          0.0012851757797048527,
          0.0010640354320770513,
          0.0008756509510893503,
          0.0008581776711134763,
          0.0007773738510666659,
          0.0007963851920440773,
          0.0008036044129205442,
          0.0007972412720962968,
          0.001004474849385346,
          0.0015286400728805405,
          0.0015286400728805405,
          0.0015286400728805405,
          0.0015286400728805405,
          0.0015286400728805405,
          0.0015286400728805405,
          0.0015286400728805405,
          0.0015286400728805405,
          0.0015286400728805405,
          0.0015286400728805405
         ],
         "yaxis": "y10"
        },
        {
         "histfunc": "sum",
         "marker": {
          "color": "#0072b2"
         },
         "type": "histogram",
         "x": [
          0,
          2,
          4,
          6,
          8,
          10,
          12,
          14,
          16,
          18,
          20,
          22,
          24,
          26,
          28,
          30,
          32,
          34,
          36,
          38,
          40,
          42,
          44,
          46,
          48,
          50,
          52,
          54,
          56,
          58,
          60,
          62,
          64,
          66,
          68,
          70,
          72,
          74,
          76,
          78,
          80,
          82,
          84,
          86,
          88
         ],
         "xaxis": "x11",
         "xbins": {
          "end": 90,
          "size": 2,
          "start": 0
         },
         "y": [
          0.000001499772174536356,
          0.000008376974336643123,
          0.000032165151778372925,
          0.000057214081301400065,
          0.00009274518341751709,
          0.00012556158459916029,
          0.00017366985512074257,
          0.00022233411562883585,
          0.0002630339863844812,
          0.0003223764835178907,
          0.0004320689583173921,
          0.0005790559006784312,
          0.0007341774442924404,
          0.0009211284583933773,
          0.0010482432243383577,
          0.001235022962494796,
          0.0014172197414656067,
          0.0016145113098920267,
          0.0018894934791689288,
          0.00243072749302618,
          0.0028836588515355945,
          0.0031387059527386066,
          0.0031754628713186,
          0.0031321898887894375,
          0.002625372968662859,
          0.002122259635135765,
          0.0018184662671376836,
          0.0015549444606176312,
          0.0013252178710387852,
          0.0013179167478470626,
          0.001222673502950641,
          0.0012558960870722121,
          0.001273383155939222,
          0.0012687453512406778,
          0.001559127431213075,
          0.0022774009212237737,
          0.0022774009212237737,
          0.0022774009212237737,
          0.0022774009212237737,
          0.0022774009212237737,
          0.0022774009212237737,
          0.0022774009212237737,
          0.0022774009212237737,
          0.0022774009212237737,
          0.0022774009212237737
         ],
         "yaxis": "y11"
        },
        {
         "histfunc": "sum",
         "marker": {
          "color": "#0072b2"
         },
         "type": "histogram",
         "x": [
          0,
          2,
          4,
          6,
          8,
          10,
          12,
          14,
          16,
          18,
          20,
          22,
          24,
          26,
          28,
          30,
          32,
          34,
          36,
          38,
          40,
          42,
          44,
          46,
          48,
          50,
          52,
          54,
          56,
          58,
          60,
          62,
          64,
          66,
          68,
          70,
          72,
          74,
          76,
          78,
          80,
          82,
          84,
          86,
          88
         ],
         "xaxis": "x12",
         "xbins": {
          "end": 90,
          "size": 2,
          "start": 0
         },
         "y": [
          0.00000238915822602593,
          0.000012367666661088552,
          0.000044705909169994044,
          0.00007790493283591785,
          0.00012433367113962504,
          0.00016701040920198107,
          0.00022901420470803314,
          0.0002913151525635234,
          0.0003439885917692531,
          0.0004199616575424917,
          0.0005585879603499877,
          0.0007431452017709644,
          0.0009372781777423024,
          0.0011704311572328853,
          0.0013328311471609133,
          0.0015658696067724005,
          0.0017930397103752306,
          0.0020379925698929967,
          0.002375629391231444,
          0.0030163256568439345,
          0.003555692385380507,
          0.0038718577597528477,
          0.003960520401184043,
          0.003959565781995447,
          0.0034233605358548274,
          0.0028671171679805724,
          0.0025294794202545493,
          0.002229232461043544,
          0.00196292612757938,
          0.001978301431270427,
          0.0018762235986736083,
          0.0019315511095002525,
          0.0019668208863632655,
          0.0019673248131216845,
          0.002360979026471018,
          0.003316181231723681,
          0.003316181231723681,
          0.003316181231723681,
          0.003316181231723681,
          0.003316181231723681,
          0.003316181231723681,
          0.003316181231723681,
          0.003316181231723681,
          0.003316181231723681,
          0.003316181231723681
         ],
         "yaxis": "y12"
        },
        {
         "histfunc": "sum",
         "marker": {
          "color": "#0072b2"
         },
         "type": "histogram",
         "x": [
          0,
          2,
          4,
          6,
          8,
          10,
          12,
          14,
          16,
          18,
          20,
          22,
          24,
          26,
          28,
          30,
          32,
          34,
          36,
          38,
          40,
          42,
          44,
          46,
          48,
          50,
          52,
          54,
          56,
          58,
          60,
          62,
          64,
          66,
          68,
          70,
          72,
          74,
          76,
          78,
          80,
          82,
          84,
          86,
          88
         ],
         "xaxis": "x13",
         "xbins": {
          "end": 90,
          "size": 2,
          "start": 0
         },
         "y": [
          0.0000037649071558145894,
          0.000018091909616941346,
          0.00006164585015089839,
          0.00010527356906027428,
          0.00016544451892157533,
          0.00022049552096454382,
          0.00029975973421185876,
          0.0003788681076569131,
          0.0004464610103771933,
          0.0005429011989810622,
          0.0007165946620753166,
          0.0009463106722573282,
          0.00118710261017539,
          0.0014752120698406357,
          0.0016804952560210411,
          0.0019683665593051678,
          0.002248707335519964,
          0.0025496508030976583,
          0.0029598406841425604,
          0.0037099828825524627,
          0.004345470272849502,
          0.004732525156000871,
          0.004890166074461009,
          0.004950305541732022,
          0.004406401846006442,
          0.003815202783668382,
          0.0034589177553433982,
          0.0031352885809931568,
          0.0028456470924645,
          0.0029026232871101816,
          0.002809003036451329,
          0.002897214611550773,
          0.002961143438748986,
          0.0029723133372935293,
          0.003487952939405299,
          0.004719560258479921,
          0.004719560258479921,
          0.004719560258479921,
          0.004719560258479921,
          0.004719560258479921,
          0.004719560258479921,
          0.004719560258479921,
          0.004719560258479921,
          0.004719560258479921,
          0.004719560258479921
         ],
         "yaxis": "y13"
        },
        {
         "histfunc": "sum",
         "marker": {
          "color": "#0072b2"
         },
         "type": "histogram",
         "x": [
          0,
          2,
          4,
          6,
          8,
          10,
          12,
          14,
          16,
          18,
          20,
          22,
          24,
          26,
          28,
          30,
          32,
          34,
          36,
          38,
          40,
          42,
          44,
          46,
          48,
          50,
          52,
          54,
          56,
          58,
          60,
          62,
          64,
          66,
          68,
          70,
          72,
          74,
          76,
          78,
          80,
          82,
          84,
          86,
          88
         ],
         "xaxis": "x14",
         "xbins": {
          "end": 90,
          "size": 2,
          "start": 0
         },
         "y": [
          0.0000058688548209632855,
          0.000026222681435546903,
          0.00008433393203494367,
          0.00014117769832862472,
          0.00021851549822845764,
          0.00028895185249140816,
          0.0003894548042253193,
          0.0004890812678989779,
          0.0005750827771518141,
          0.0006964610488588146,
          0.0009122188868860576,
          0.0011956406481478114,
          0.0014916272219658096,
          0.0018443610761831094,
          0.0021011087746104916,
          0.002453161741874801,
          0.0027955436592588317,
          0.0031613706351313114,
          0.0036543852944440256,
          0.0045229033352534335,
          0.005263585539143941,
          0.00573153886565814,
          0.005977520857298494,
          0.006120704479937893,
          0.00559867672309716,
          0.005000518854590747,
          0.004649781070991405,
          0.004325948734455665,
          0.004037555774513801,
          0.004162771829498013,
          0.00410311173934962,
          0.0042381575297881025,
          0.004345532495553475,
          0.004375523553299136,
          0.005027094801650349,
          0.006564918323381773,
          0.006564918323381773,
          0.006564918323381773,
          0.006564918323381773,
          0.006564918323381773,
          0.006564918323381773,
          0.006564918323381773,
          0.006564918323381773,
          0.006564918323381773,
          0.006564918323381773
         ],
         "yaxis": "y14"
        },
        {
         "histfunc": "sum",
         "marker": {
          "color": "#0072b2"
         },
         "type": "histogram",
         "x": [
          0,
          2,
          4,
          6,
          8,
          10,
          12,
          14,
          16,
          18,
          20,
          22,
          24,
          26,
          28,
          30,
          32,
          34,
          36,
          38,
          40,
          42,
          44,
          46,
          48,
          50,
          52,
          54,
          56,
          58,
          60,
          62,
          64,
          66,
          68,
          70,
          72,
          74,
          76,
          78,
          80,
          82,
          84,
          86,
          88
         ],
         "xaxis": "x15",
         "xbins": {
          "end": 90,
          "size": 2,
          "start": 0
         },
         "y": [
          0.000009049867057757689,
          0.00003765874476370397,
          0.00011446176578590813,
          0.00018789066698676808,
          0.00028646946691712315,
          0.00037585529583508367,
          0.0005022428145725586,
          0.0006266744904798263,
          0.0007351644710392811,
          0.0008866204343494636,
          0.0011523065852220371,
          0.001498906276031363,
          0.0018594505258772598,
          0.0022872853473863467,
          0.0026050068535339557,
          0.003031211286117514,
          0.0034450056284861938,
          0.0038849615863040437,
          0.004471123718581258,
          0.005465305317365222,
          0.006319153239454118,
          0.006877875749719162,
          0.007233437445101231,
          0.007484379163999137,
          0.007021930267304556,
          0.0064556171958622816,
          0.006144802925328246,
          0.005855539319428272,
          0.005606817778535119,
          0.005835368146849735,
          0.00584746997765878,
          0.00604638071225051,
          0.006216064059836328,
          0.006275991934300981,
          0.007068569052915196,
          0.008925275538239746,
          0.008925275538239746,
          0.008925275538239746,
          0.008925275538239746,
          0.008925275538239746,
          0.008925275538239746,
          0.008925275538239746,
          0.008925275538239746,
          0.008925275538239746,
          0.008925275538239746
         ],
         "yaxis": "y15"
        },
        {
         "histfunc": "sum",
         "marker": {
          "color": "#0072b2"
         },
         "type": "histogram",
         "x": [
          0,
          2,
          4,
          6,
          8,
          10,
          12,
          14,
          16,
          18,
          20,
          22,
          24,
          26,
          28,
          30,
          32,
          34,
          36,
          38,
          40,
          42,
          44,
          46,
          48,
          50,
          52,
          54,
          56,
          58,
          60,
          62,
          64,
          66,
          68,
          70,
          72,
          74,
          76,
          78,
          80,
          82,
          84,
          86,
          88
         ],
         "xaxis": "x16",
         "xbins": {
          "end": 90,
          "size": 2,
          "start": 0
         },
         "y": [
          0.000013804502825603395,
          0.000053585912759430094,
          0.00015412678584374715,
          0.0002481627995470364,
          0.0003727697558132906,
          0.00048527212373745184,
          0.0006428998060879177,
          0.0007970232866177763,
          0.0009327086077337297,
          0.0011200657375982706,
          0.001444376855927111,
          0.001864468962531801,
          0.0022996473440698856,
          0.0028136991279036853,
          0.0032027149874438478,
          0.003713436970171072,
          0.004208273006235865,
          0.004731672156545656,
          0.005420949896293605,
          0.006545808171224643,
          0.007519143779297065,
          0.008177907309250538,
          0.008665517386855063,
          0.00905096976665073,
          0.008693556148647093,
          0.008208914421796866,
          0.007983008592565618,
          0.007775603742486649,
          0.007620347223757886,
          0.007995536968124967,
          0.008130479857184045,
          0.008412708656354094,
          0.008667161397291998,
          0.008771051128869438,
          0.009696475528230398,
          0.011859829646633326,
          0.011859829646633326,
          0.011859829646633326,
          0.011859829646633326,
          0.011859829646633326,
          0.011859829646633326,
          0.011859829646633326,
          0.011859829646633326,
          0.011859829646633326,
          0.011859829646633326
         ],
         "yaxis": "y16"
        },
        {
         "histfunc": "sum",
         "marker": {
          "color": "#0072b2"
         },
         "type": "histogram",
         "x": [
          0,
          2,
          4,
          6,
          8,
          10,
          12,
          14,
          16,
          18,
          20,
          22,
          24,
          26,
          28,
          30,
          32,
          34,
          36,
          38,
          40,
          42,
          44,
          46,
          48,
          50,
          52,
          54,
          56,
          58,
          60,
          62,
          64,
          66,
          68,
          70,
          72,
          74,
          76,
          78,
          80,
          82,
          84,
          86,
          88
         ],
         "xaxis": "x17",
         "xbins": {
          "end": 90,
          "size": 2,
          "start": 0
         },
         "y": [
          0.000020829990789075946,
          0.00007554947954398374,
          0.00020589954672051288,
          0.00032528236003514436,
          0.0004814700009993884,
          0.0006218984780224462,
          0.0008168564702698042,
          0.0010061622305575716,
          0.0011743965983657104,
          0.0014041521223793951,
          0.001796538344184395,
          0.0023011382511901398,
          0.002821565529506337,
          0.003433348374358154,
          0.0039046022673302283,
          0.004510303074585925,
          0.0050957509119205205,
          0.005711618166044379,
          0.0065131405904942895,
          0.007770766185450351,
          0.008867683657332781,
          0.009634624994016966,
          0.01027709577936739,
          0.010824788280253966,
          0.010624493733496351,
          0.010281558344452007,
          0.010195497413101265,
          0.010129383737755326,
          0.010136627587174948,
          0.010708305001792087,
          0.01102955210492559,
          0.011415585061030931,
          0.011779509570606425,
          0.011943670773062806,
          0.012976700387355053,
          0.01540280377748772,
          0.01540280377748772,
          0.01540280377748772,
          0.01540280377748772,
          0.01540280377748772,
          0.01540280377748772,
          0.01540280377748772,
          0.01540280377748772,
          0.01540280377748772,
          0.01540280377748772
         ],
         "yaxis": "y17"
        },
        {
         "histfunc": "sum",
         "marker": {
          "color": "#0072b2"
         },
         "type": "histogram",
         "x": [
          0,
          2,
          4,
          6,
          8,
          10,
          12,
          14,
          16,
          18,
          20,
          22,
          24,
          26,
          28,
          30,
          32,
          34,
          36,
          38,
          40,
          42,
          44,
          46,
          48,
          50,
          52,
          54,
          56,
          58,
          60,
          62,
          64,
          66,
          68,
          70,
          72,
          74,
          76,
          78,
          80,
          82,
          84,
          86,
          88
         ],
         "xaxis": "x18",
         "xbins": {
          "end": 90,
          "size": 2,
          "start": 0
         },
         "y": [
          0.000031091890051498376,
          0.00010553788159044747,
          0.00027289290708753773,
          0.00042313281324985445,
          0.0006172541667819242,
          0.000791084951690206,
          0.0010301989623134043,
          0.0012607617303695474,
          0.0014675432524600797,
          0.0017468261355402174,
          0.0022173586992832108,
          0.0028179750171091786,
          0.0034345617368070156,
          0.004155669469312616,
          0.0047204608519914775,
          0.005431317809691731,
          0.006116497314079002,
          0.006833139539120457,
          0.0077546440136477355,
          0.009143577114824364,
          0.010365357716613842,
          0.011246884123193137,
          0.012066253583776079,
          0.012803498972062495,
          0.012817072948959325,
          0.012684034607665486,
          0.012800691321179426,
          0.01294534453465397,
          0.013196921500074975,
          0.014018048276015561,
          0.014597991154338536,
          0.015107147366776581,
          0.01560509646707033,
          0.015846776018462457,
          0.016942699977969683,
          0.019551749666930168,
          0.019551749666930168,
          0.019551749666930168,
          0.019551749666930168,
          0.019551749666930168,
          0.019551749666930168,
          0.019551749666930168,
          0.019551749666930168,
          0.019551749666930168,
          0.019551749666930168
         ],
         "yaxis": "y18"
        },
        {
         "histfunc": "sum",
         "marker": {
          "color": "#0072b2"
         },
         "type": "histogram",
         "x": [
          0,
          2,
          4,
          6,
          8,
          10,
          12,
          14,
          16,
          18,
          20,
          22,
          24,
          26,
          28,
          30,
          32,
          34,
          36,
          38,
          40,
          42,
          44,
          46,
          48,
          50,
          52,
          54,
          56,
          58,
          60,
          62,
          64,
          66,
          68,
          70,
          72,
          74,
          76,
          78,
          80,
          82,
          84,
          86,
          88
         ],
         "xaxis": "x19",
         "xbins": {
          "end": 90,
          "size": 2,
          "start": 0
         },
         "y": [
          0.00004590869059887034,
          0.00014607682464370443,
          0.0003588299574483735,
          0.0005462422136231786,
          0.0007854617885266555,
          0.0009988407040888798,
          0.0012896425652902466,
          0.0015680721123405746,
          0.0018200124576735846,
          0.002156503034528053,
          0.0027156819780072157,
          0.003424036919726086,
          0.004147675773815542,
          0.004989385162617329,
          0.005659018145926184,
          0.006484470629795047,
          0.007277591958471545,
          0.008102107775053826,
          0.00914933716536419,
          0.010664000206907715,
          0.012008553504691166,
          0.013008715012676876,
          0.014024927678504545,
          0.01497693326130693,
          0.015262978684698331,
          0.015412786056628864,
          0.015799437143895544,
          0.016230275368778385,
          0.01681559300377973,
          0.017936929110598323,
          0.018850454965795578,
          0.01949793968527559,
          0.020150908407051336,
          0.020486177468612147,
          0.0215808692896831,
          0.024256938476043353,
          0.024256938476043353,
          0.024256938476043353,
          0.024256938476043353,
          0.024256938476043353,
          0.024256938476043353,
          0.024256938476043353,
          0.024256938476043353,
          0.024256938476043353,
          0.024256938476043353
         ],
         "yaxis": "y19"
        },
        {
         "histfunc": "sum",
         "marker": {
          "color": "#0072b2"
         },
         "type": "histogram",
         "x": [
          0,
          2,
          4,
          6,
          8,
          10,
          12,
          14,
          16,
          18,
          20,
          22,
          24,
          26,
          28,
          30,
          32,
          34,
          36,
          38,
          40,
          42,
          44,
          46,
          48,
          50,
          52,
          54,
          56,
          58,
          60,
          62,
          64,
          66,
          68,
          70,
          72,
          74,
          76,
          78,
          80,
          82,
          84,
          86,
          88
         ],
         "xaxis": "x20",
         "xbins": {
          "end": 90,
          "size": 2,
          "start": 0
         },
         "y": [
          0.0000670551944567336,
          0.00020033199619780745,
          0.00046810656057557997,
          0.0006998197166478662,
          0.000992092869329381,
          0.0012518111642263194,
          0.0016024722055673034,
          0.0019358292655365186,
          0.0022400882953346494,
          0.002641893694061103,
          0.0033003907357372136,
          0.004128065812438368,
          0.0049692467128087895,
          0.005942045503246149,
          0.006727393959167406,
          0.007675623440006598,
          0.008583470685190412,
          0.009521214414296531,
          0.010697289570619592,
          0.012327524667239945,
          0.013788892968382555,
          0.014908754113697301,
          0.01613819470183728,
          0.0173261504648282,
          0.017941533876304178,
          0.018447186546873228,
          0.01917048013142498,
          0.019962726121642863,
          0.020970662610375133,
          0.022433774697806434,
          0.023748932767691945,
          0.024542395206480046,
          0.025363648342068893,
          0.0258046430977875,
          0.0268178044280715,
          0.029413781278860525,
          0.029413781278860525,
          0.029413781278860525,
          0.029413781278860525,
          0.029413781278860525,
          0.029413781278860525,
          0.029413781278860525,
          0.029413781278860525,
          0.029413781278860525,
          0.029413781278860525
         ],
         "yaxis": "y20"
        },
        {
         "histfunc": "sum",
         "marker": {
          "color": "#0072b2"
         },
         "type": "histogram",
         "x": [
          0,
          2,
          4,
          6,
          8,
          10,
          12,
          14,
          16,
          18,
          20,
          22,
          24,
          26,
          28,
          30,
          32,
          34,
          36,
          38,
          40,
          42,
          44,
          46,
          48,
          50,
          52,
          54,
          56,
          58,
          60,
          62,
          64,
          66,
          68,
          70,
          72,
          74,
          76,
          78,
          80,
          82,
          84,
          86,
          88
         ],
         "xaxis": "x21",
         "xbins": {
          "end": 90,
          "size": 2,
          "start": 0
         },
         "y": [
          0.00009688570056818717,
          0.0002722170785857803,
          0.0006058433574908102,
          0.0008897734640433886,
          0.0012437864703196372,
          0.0015572232824435375,
          0.001976444157602113,
          0.002372116846299827,
          0.0027362970259418814,
          0.0032117776753845364,
          0.003980112076202413,
          0.004938120229191655,
          0.00590647818959067,
          0.007019526594217317,
          0.007930521071828843,
          0.009007880470159234,
          0.010035256295954946,
          0.011089278178249149,
          0.012394078013473512,
          0.014124833532063867,
          0.015692798700964856,
          0.016929848756365645,
          0.01838380518969938,
          0.01982285627569989,
          0.02081851133808854,
          0.02174725199659933,
          0.022866913496687766,
          0.0240877089037093,
          0.025596025287146038,
          0.027425233753548585,
          0.02919173315448071,
          0.030127780159408642,
          0.031118434492826568,
          0.03167026504453435,
          0.032512133933873866,
          0.03486022966925235,
          0.03486022966925235,
          0.03486022966925235,
          0.03486022966925235,
          0.03486022966925235,
          0.03486022966925235,
          0.03486022966925235,
          0.03486022966925235,
          0.03486022966925235,
          0.03486022966925235
         ],
         "yaxis": "y21"
        },
        {
         "histfunc": "sum",
         "marker": {
          "color": "#0072b2"
         },
         "type": "histogram",
         "x": [
          0,
          2,
          4,
          6,
          8,
          10,
          12,
          14,
          16,
          18,
          20,
          22,
          24,
          26,
          28,
          30,
          32,
          34,
          36,
          38,
          40,
          42,
          44,
          46,
          48,
          50,
          52,
          54,
          56,
          58,
          60,
          62,
          64,
          66,
          68,
          70,
          72,
          74,
          76,
          78,
          80,
          82,
          84,
          86,
          88
         ],
         "xaxis": "x22",
         "xbins": {
          "end": 90,
          "size": 2,
          "start": 0
         },
         "y": [
          0.0001384766915785161,
          0.00036650210276439925,
          0.000777921118967403,
          0.0011227035236662838,
          0.001547766928244414,
          0.001922792572029816,
          0.002419644076745482,
          0.0028851813154236556,
          0.0033171771523286646,
          0.0038747214237370505,
          0.0047628700982367544,
          0.005861160039866671,
          0.006964964970585459,
          0.008225505227985971,
          0.009270553702466846,
          0.010480967885283996,
          0.01163012340647278,
          0.012800614354841927,
          0.01423020158184919,
          0.016041409246266094,
          0.01770124069219829,
          0.0190488858032624,
          0.020732038456548006,
          0.022429280703627014,
          0.02384567405902127,
          0.025252471636930035,
          0.026814227630611347,
          0.028513650709200387,
          0.030576890623679708,
          0.0327711772954114,
          0.03500815182745698,
          0.03606943070536438,
          0.03721454216755369,
          0.03787236744402252,
          0.03845348472213496,
          0.04038072785657493,
          0.04038072785657493,
          0.04038072785657493,
          0.04038072785657493,
          0.04038072785657493,
          0.04038072785657493,
          0.04038072785657493,
          0.04038072785657493,
          0.04038072785657493,
          0.04038072785657493
         ],
         "yaxis": "y22"
        },
        {
         "histfunc": "sum",
         "marker": {
          "color": "#0072b2"
         },
         "type": "histogram",
         "x": [
          0,
          2,
          4,
          6,
          8,
          10,
          12,
          14,
          16,
          18,
          20,
          22,
          24,
          26,
          28,
          30,
          32,
          34,
          36,
          38,
          40,
          42,
          44,
          46,
          48,
          50,
          52,
          54,
          56,
          58,
          60,
          62,
          64,
          66,
          68,
          70,
          72,
          74,
          76,
          78,
          80,
          82,
          84,
          86,
          88
         ],
         "xaxis": "x23",
         "xbins": {
          "end": 90,
          "size": 2,
          "start": 0
         },
         "y": [
          0.00019578680150906784,
          0.0004889152953771201,
          0.0009909924860815019,
          0.0014058632637242614,
          0.001911751903163824,
          0.002356586918863621,
          0.0029402978201119112,
          0.003483197907540897,
          0.003990997152187491,
          0.004638743567298444,
          0.0056556908878924155,
          0.006902594703586727,
          0.008148197645691921,
          0.009560932458088159,
          0.010746293872231458,
          0.012090659403761202,
          0.013360739343421434,
          0.014644513629942743,
          0.016190648058878526,
          0.01805732529041669,
          0.01978970458331459,
          0.02123688678588423,
          0.023145935597798033,
          0.02509859575180612,
          0.026961209159358738,
          0.02888209252045434,
          0.030910513443475333,
          0.03311249011774168,
          0.035749874427058285,
          0.03827608153175294,
          0.040961137462404616,
          0.04211467054170029,
          0.04338069878706282,
          0.044127581479927486,
          0.04437045687581735,
          0.045717508559054904,
          0.045717508559054904,
          0.045717508559054904,
          0.045717508559054904,
          0.045717508559054904,
          0.045717508559054904,
          0.045717508559054904,
          0.045717508559054904,
          0.045717508559054904,
          0.045717508559054904
         ],
         "yaxis": "y23"
        },
        {
         "histfunc": "sum",
         "marker": {
          "color": "#0072b2"
         },
         "type": "histogram",
         "x": [
          0,
          2,
          4,
          6,
          8,
          10,
          12,
          14,
          16,
          18,
          20,
          22,
          24,
          26,
          28,
          30,
          32,
          34,
          36,
          38,
          40,
          42,
          44,
          46,
          48,
          50,
          52,
          54,
          56,
          58,
          60,
          62,
          64,
          66,
          68,
          70,
          72,
          74,
          76,
          78,
          80,
          82,
          84,
          86,
          88
         ],
         "xaxis": "x24",
         "xbins": {
          "end": 90,
          "size": 2,
          "start": 0
         },
         "y": [
          0.0002738292781128209,
          0.0006462295737616798,
          0.0012524625527261563,
          0.0017470826076925342,
          0.002343817183382549,
          0.002866843390741647,
          0.0035465333882377745,
          0.004173988009713916,
          0.004765423430028125,
          0.005510932838795905,
          0.006664170293563496,
          0.00806581099656906,
          0.009457066863385722,
          0.0110235334971525,
          0.012352670005461457,
          0.013828287664779693,
          0.015214825426775496,
          0.016604878207261777,
          0.018254660745443737,
          0.020147262604926688,
          0.02192841365950374,
          0.02345939993047443,
          0.0255819480768004,
          0.027775920770373046,
          0.030091161942234934,
          0.032537087521634665,
          0.035029208986675414,
          0.037723548959947825,
          0.04090874282539394,
          0.043697502931588396,
          0.04675933795473173,
          0.04795672235079538,
          0.049291192982183575,
          0.05009734519241827,
          0.04994822619805259,
          0.05058892843189468,
          0.05058892843189468,
          0.05058892843189468,
          0.05058892843189468,
          0.05058892843189468,
          0.05058892843189468,
          0.05058892843189468,
          0.05058892843189468,
          0.05058892843189468,
          0.05058892843189468
         ],
         "yaxis": "y24"
        },
        {
         "histfunc": "sum",
         "marker": {
          "color": "#0072b2"
         },
         "type": "histogram",
         "x": [
          0,
          2,
          4,
          6,
          8,
          10,
          12,
          14,
          16,
          18,
          20,
          22,
          24,
          26,
          28,
          30,
          32,
          34,
          36,
          38,
          40,
          42,
          44,
          46,
          48,
          50,
          52,
          54,
          56,
          58,
          60,
          62,
          64,
          66,
          68,
          70,
          72,
          74,
          76,
          78,
          80,
          82,
          84,
          86,
          88
         ],
         "xaxis": "x25",
         "xbins": {
          "end": 90,
          "size": 2,
          "start": 0
         },
         "y": [
          0.0003788489508453151,
          0.0008463228866978122,
          0.0015704305188391967,
          0.0021546471474315305,
          0.0028522144171009623,
          0.0034617360836503392,
          0.0042460947366060355,
          0.004964691305404224,
          0.005647144479382818,
          0.006497028079516754,
          0.007792018960291513,
          0.009351700332064701,
          0.010889392470665792,
          0.012607364538970257,
          0.014080304749508533,
          0.015680382231553814,
          0.01717488231777211,
          0.018660060158208185,
          0.020395748749283998,
          0.022280780248059854,
          0.024082824419626597,
          0.02567720332036545,
          0.02799101351562546,
          0.03039992199051083,
          0.03315189669708452,
          0.036103886395743474,
          0.03902452502966244,
          0.04216139100982701,
          0.045816104186452815,
          0.048761773304840765,
          0.052078470378818464,
          0.05325833001437448,
          0.054592255569765054,
          0.05541613254425142,
          0.054854746208845354,
          0.05471330118324898,
          0.05471330118324898,
          0.05471330118324898,
          0.05471330118324898,
          0.05471330118324898,
          0.05471330118324898,
          0.05471330118324898,
          0.05471330118324898,
          0.05471330118324898,
          0.05471330118324898
         ],
         "yaxis": "y25"
        },
        {
         "histfunc": "sum",
         "marker": {
          "color": "#0072b2"
         },
         "type": "histogram",
         "x": [
          0,
          2,
          4,
          6,
          8,
          10,
          12,
          14,
          16,
          18,
          20,
          22,
          24,
          26,
          28,
          30,
          32,
          34,
          36,
          38,
          40,
          42,
          44,
          46,
          48,
          50,
          52,
          54,
          56,
          58,
          60,
          62,
          64,
          66,
          68,
          70,
          72,
          74,
          76,
          78,
          80,
          82,
          84,
          86,
          88
         ],
         "xaxis": "x26",
         "xbins": {
          "end": 90,
          "size": 2,
          "start": 0
         },
         "y": [
          0.0005184919687354467,
          0.0010981998838428058,
          0.0019535849085752857,
          0.002637128169801533,
          0.003445139736826679,
          0.004149095397979302,
          0.005046011112554056,
          0.005861399320244659,
          0.006641461016960362,
          0.00760097390039581,
          0.009040603197514138,
          0.010758209463173733,
          0.012439505838839451,
          0.014302458734975095,
          0.01591520942355832,
          0.017628473452181402,
          0.019218119087200586,
          0.020782940184898843,
          0.022581973527959338,
          0.02442285696096161,
          0.02621440011111288,
          0.027847314174981375,
          0.030320040207136013,
          0.03290496529738505,
          0.03605351673509223,
          0.039459764607245415,
          0.04273936896798189,
          0.046227350593532966,
          0.05022044929758823,
          0.05318584747212528,
          0.05659024930491225,
          0.05768296310010324,
          0.058936137501230924,
          0.05972754028636676,
          0.05877279187382372,
          0.05783555018880513,
          0.05783555018880513,
          0.05783555018880513,
          0.05783555018880513,
          0.05783555018880513,
          0.05783555018880513,
          0.05783555018880513,
          0.05783555018880513,
          0.05783555018880513,
          0.05783555018880513
         ],
         "yaxis": "y26"
        },
        {
         "histfunc": "sum",
         "marker": {
          "color": "#0072b2"
         },
         "type": "histogram",
         "x": [
          0,
          2,
          4,
          6,
          8,
          10,
          12,
          14,
          16,
          18,
          20,
          22,
          24,
          26,
          28,
          30,
          32,
          34,
          36,
          38,
          40,
          42,
          44,
          46,
          48,
          50,
          52,
          54,
          56,
          58,
          60,
          62,
          64,
          66,
          68,
          70,
          72,
          74,
          76,
          78,
          80,
          82,
          84,
          86,
          88
         ],
         "xaxis": "x27",
         "xbins": {
          "end": 90,
          "size": 2,
          "start": 0
         },
         "y": [
          0.0007019524851937622,
          0.001411961168410254,
          0.002411045717274855,
          0.0032031603342006754,
          0.004130453592740083,
          0.004936081996338805,
          0.0059522288642189156,
          0.006868760532479195,
          0.007751855739966588,
          0.008824469593186998,
          0.010408503877690555,
          0.012279941084465828,
          0.01409791514531222,
          0.016094593224842788,
          0.017838640322664044,
          0.019649096620423332,
          0.021316618090645098,
          0.022941274368034916,
          0.02477653031313477,
          0.026534704716626032,
          0.0282816490280923,
          0.029924278144994168,
          0.03251374983541453,
          0.03522373203376029,
          0.038704077079926916,
          0.04247958684834346,
          0.046015248273053984,
          0.04972385161671833,
          0.05387700452660008,
          0.05670304717643814,
          0.059995477678639816,
          0.06092977076095665,
          0.06201849525610947,
          0.06272345339408604,
          0.06143366197908518,
          0.059753223205857575,
          0.059753223205857575,
          0.059753223205857575,
          0.059753223205857575,
          0.059753223205857575,
          0.059753223205857575,
          0.059753223205857575,
          0.059753223205857575,
          0.059753223205857575,
          0.059753223205857575
         ],
         "yaxis": "y27"
        },
        {
         "histfunc": "sum",
         "marker": {
          "color": "#0072b2"
         },
         "type": "histogram",
         "x": [
          0,
          2,
          4,
          6,
          8,
          10,
          12,
          14,
          16,
          18,
          20,
          22,
          24,
          26,
          28,
          30,
          32,
          34,
          36,
          38,
          40,
          42,
          44,
          46,
          48,
          50,
          52,
          54,
          56,
          58,
          60,
          62,
          64,
          66,
          68,
          70,
          72,
          74,
          76,
          78,
          80,
          82,
          84,
          86,
          88
         ],
         "xaxis": "x28",
         "xbins": {
          "end": 90,
          "size": 2,
          "start": 0
         },
         "y": [
          0.0009400763685947166,
          0.0017987059199733363,
          0.002952148417113591,
          0.003861166046095456,
          0.004915354968940249,
          0.00582882195747827,
          0.006969216184976633,
          0.007989570776958188,
          0.008979560102016991,
          0.01016653248813349,
          0.01189111835422619,
          0.013907832257183363,
          0.01585108309334139,
          0.017965206545079236,
          0.01982714708419737,
          0.021714022914998302,
          0.02343775675145981,
          0.02509832237392968,
          0.026938625671372465,
          0.02857483785995661,
          0.030241395869619526,
          0.031861691243511424,
          0.034516796732385696,
          0.037290161432034806,
          0.04101433070605434,
          0.04504341775181593,
          0.048703325668499005,
          0.05247013787080709,
          0.056570068058858246,
          0.05908951621818297,
          0.06205673821884024,
          0.06276730652944396,
          0.06361356027054137,
          0.06418036876824058,
          0.06264760277302643,
          0.06033819522918133,
          0.06033819522918133,
          0.06033819522918133,
          0.06033819522918133,
          0.06033819522918133,
          0.06033819522918133,
          0.06033819522918133,
          0.06033819522918133,
          0.06033819522918133,
          0.06033819522918133
         ],
         "yaxis": "y28"
        },
        {
         "histfunc": "sum",
         "marker": {
          "color": "#0072b2"
         },
         "type": "histogram",
         "x": [
          0,
          2,
          4,
          6,
          8,
          10,
          12,
          14,
          16,
          18,
          20,
          22,
          24,
          26,
          28,
          30,
          32,
          34,
          36,
          38,
          40,
          42,
          44,
          46,
          48,
          50,
          52,
          54,
          56,
          58,
          60,
          62,
          64,
          66,
          68,
          70,
          72,
          74,
          76,
          78,
          80,
          82,
          84,
          86,
          88
         ],
         "xaxis": "x29",
         "xbins": {
          "end": 90,
          "size": 2,
          "start": 0
         },
         "y": [
          0.0012453983693522547,
          0.0022703542495393658,
          0.0035861670689239884,
          0.00461902847857567,
          0.0058060164241124914,
          0.006832013155063979,
          0.008099554789498002,
          0.00922436602667528,
          0.010323138799056742,
          0.01162309979950997,
          0.013480331994321873,
          0.015628938355268553,
          0.017681344232436058,
          0.0198914907862799,
          0.021852835463079007,
          0.023790732657526494,
          0.02554489340559549,
          0.027213753754494634,
          0.029024632964568156,
          0.030500363344771072,
          0.032050236484934616,
          0.03361388735587157,
          0.03627605471174229,
          0.03904254520852298,
          0.04290267505353837,
          0.0470443687595781,
          0.050675570889999966,
          0.05431769527421335,
          0.05813402225458911,
          0.0601877616155516,
          0.06262574352020077,
          0.06306078995127619,
          0.06360146262147005,
          0.06398694414573976,
          0.06232617600459909,
          0.059550828529936824,
          0.059550828529936824,
          0.059550828529936824,
          0.059550828529936824,
          0.059550828529936824,
          0.059550828529936824,
          0.059550828529936824,
          0.059550828529936824,
          0.059550828529936824,
          0.059550828529936824
         ],
         "yaxis": "y29"
        },
        {
         "histfunc": "sum",
         "marker": {
          "color": "#0072b2"
         },
         "type": "histogram",
         "x": [
          0,
          2,
          4,
          6,
          8,
          10,
          12,
          14,
          16,
          18,
          20,
          22,
          24,
          26,
          28,
          30,
          32,
          34,
          36,
          38,
          40,
          42,
          44,
          46,
          48,
          50,
          52,
          54,
          56,
          58,
          60,
          62,
          64,
          66,
          68,
          70,
          72,
          74,
          76,
          78,
          80,
          82,
          84,
          86,
          88
         ],
         "xaxis": "x30",
         "xbins": {
          "end": 90,
          "size": 2,
          "start": 0
         },
         "y": [
          0.0016320865556683052,
          0.0028393775275943178,
          0.004321976860092183,
          0.005483718617910021,
          0.0068071899236440735,
          0.007948516451229935,
          0.009343535813895826,
          0.010571037499276806,
          0.01177811518243348,
          0.013186694744812637,
          0.015164286032745016,
          0.017426348130633377,
          0.019566984570598786,
          0.021846675591291054,
          0.023883856403631366,
          0.025843133021245464,
          0.02759830824212931,
          0.029244810480628526,
          0.030989487281435413,
          0.0322684402711904,
          0.03366611042840259,
          0.035137708014080164,
          0.03774294198765517,
          0.04042657452644468,
          0.044299920341658784,
          0.048395971567100834,
          0.0518348524275719,
          0.0551635425969091,
          0.05847018333513942,
          0.059923844978846154,
          0.0616609719698456,
          0.06178844798704985,
          0.061983119057356484,
          0.06215805932750029,
          0.06049291009187043,
          0.057444415373487705,
          0.057444415373487705,
          0.057444415373487705,
          0.057444415373487705,
          0.057444415373487705,
          0.057444415373487705,
          0.057444415373487705,
          0.057444415373487705,
          0.057444415373487705,
          0.057444415373487705
         ],
         "yaxis": "y30"
        },
        {
         "histfunc": "sum",
         "marker": {
          "color": "#0072b2"
         },
         "type": "histogram",
         "x": [
          0,
          2,
          4,
          6,
          8,
          10,
          12,
          14,
          16,
          18,
          20,
          22,
          24,
          26,
          28,
          30,
          32,
          34,
          36,
          38,
          40,
          42,
          44,
          46,
          48,
          50,
          52,
          54,
          56,
          58,
          60,
          62,
          64,
          66,
          68,
          70,
          72,
          74,
          76,
          78,
          80,
          82,
          84,
          86,
          88
         ],
         "xaxis": "x31",
         "xbins": {
          "end": 90,
          "size": 2,
          "start": 0
         },
         "y": [
          0.0021157669035013755,
          0.003518428309877339,
          0.005167660153797208,
          0.006460885506326686,
          0.007921797009323253,
          0.009178948654224424,
          0.010698780012018355,
          0.012024491115939385,
          0.013336662255916126,
          0.014846183057620957,
          0.016927266826200625,
          0.019279251410741462,
          0.02148249958779716,
          0.02380051173961448,
          0.0258851207442712,
          0.027832507234170502,
          0.02955637315826823,
          0.031147685069997412,
          0.032788262156946364,
          0.03383784191725846,
          0.03504991338824254,
          0.03639425993455469,
          0.03887564332794817,
          0.04139813048462617,
          0.04515349263267637,
          0.049038371346395535,
          0.052122863542964075,
          0.05495973734803632,
          0.05755710614367511,
          0.05831561676434954,
          0.05923267667810305,
          0.05904418499520486,
          0.05888011818917477,
          0.05883292469253586,
          0.0572804530041896,
          0.05415921150670443,
          0.05415921150670443,
          0.05415921150670443,
          0.05415921150670443,
          0.05415921150670443,
          0.05415921150670443,
          0.05415921150670443,
          0.05415921150670443,
          0.05415921150670443,
          0.05415921150670443
         ],
         "yaxis": "y31"
        },
        {
         "histfunc": "sum",
         "marker": {
          "color": "#0072b2"
         },
         "type": "histogram",
         "x": [
          0,
          2,
          4,
          6,
          8,
          10,
          12,
          14,
          16,
          18,
          20,
          22,
          24,
          26,
          28,
          30,
          32,
          34,
          36,
          38,
          40,
          42,
          44,
          46,
          48,
          50,
          52,
          54,
          56,
          58,
          60,
          62,
          64,
          66,
          68,
          70,
          72,
          74,
          76,
          78,
          80,
          82,
          84,
          86,
          88
         ],
         "xaxis": "x32",
         "xbins": {
          "end": 90,
          "size": 2,
          "start": 0
         },
         "y": [
          0.002713202375800821,
          0.004319866479584705,
          0.006130064456732131,
          0.007554422820542,
          0.009150520236568578,
          0.010521297067818415,
          0.012159904293457056,
          0.013576374357188933,
          0.014987383986588897,
          0.016586644694343428,
          0.01874973809120584,
          0.021163174901891072,
          0.02339903829130441,
          0.025719951112093003,
          0.027819224995234326,
          0.029718666580491816,
          0.031376907333005376,
          0.032879056138734264,
          0.03437785378637298,
          0.035170542155452164,
          0.03616706401343312,
          0.03735056099435088,
          0.039641088065704155,
          0.04192561847460425,
          0.04543071608831592,
          0.04894272217271994,
          0.05152498238224601,
          0.053717876177794686,
          0.055452848113659026,
          0.055470719152858866,
          0.05551442830086774,
          0.05502612667566407,
          0.054519622802412564,
          0.054257570753625584,
          0.05291470528634779,
          0.04990698861234168,
          0.04990698861234168,
          0.04990698861234168,
          0.04990698861234168,
          0.04990698861234168,
          0.04990698861234168,
          0.04990698861234168,
          0.04990698861234168,
          0.04990698861234168,
          0.04990698861234168
         ],
         "yaxis": "y32"
        },
        {
         "histfunc": "sum",
         "marker": {
          "color": "#0072b2"
         },
         "type": "histogram",
         "x": [
          0,
          2,
          4,
          6,
          8,
          10,
          12,
          14,
          16,
          18,
          20,
          22,
          24,
          26,
          28,
          30,
          32,
          34,
          36,
          38,
          40,
          42,
          44,
          46,
          48,
          50,
          52,
          54,
          56,
          58,
          60,
          62,
          64,
          66,
          68,
          70,
          72,
          74,
          76,
          78,
          80,
          82,
          84,
          86,
          88
         ],
         "xaxis": "x33",
         "xbins": {
          "end": 90,
          "size": 2,
          "start": 0
         },
         "y": [
          0.003441805272310079,
          0.005255184796134205,
          0.007214325375819131,
          0.008766028796907372,
          0.010491415717415754,
          0.011970577566333759,
          0.013718257541902012,
          0.01521489327428719,
          0.016715210151720894,
          0.018389382415016677,
          0.02060853234095152,
          0.023050393774350936,
          0.025285031005501214,
          0.027570007927130227,
          0.029647559338077417,
          0.03146126130698042,
          0.033018659914559635,
          0.034397708485420675,
          0.035718686082889674,
          0.036233241733830794,
          0.036988937865943615,
          0.03798097764484247,
          0.04001655355268484,
          0.04199167420044645,
          0.04512088881763684,
          0.04811333504083079,
          0.050071502209343394,
          0.05150800206901262,
          0.05228886019631359,
          0.051574668027735734,
          0.05076260559526926,
          0.05001297863289591,
          0.04920689197304294,
          0.04875477621934557,
          0.04768856896583226,
          0.04494846976490978,
          0.04494846976490978,
          0.04494846976490978,
          0.04494846976490978,
          0.04494846976490978,
          0.04494846976490978,
          0.04494846976490978,
          0.04494846976490978,
          0.04494846976490978,
          0.04494846976490978
         ],
         "yaxis": "y33"
        },
        {
         "histfunc": "sum",
         "marker": {
          "color": "#0072b2"
         },
         "type": "histogram",
         "x": [
          0,
          2,
          4,
          6,
          8,
          10,
          12,
          14,
          16,
          18,
          20,
          22,
          24,
          26,
          28,
          30,
          32,
          34,
          36,
          38,
          40,
          42,
          44,
          46,
          48,
          50,
          52,
          54,
          56,
          58,
          60,
          62,
          64,
          66,
          68,
          70,
          72,
          74,
          76,
          78,
          80,
          82,
          84,
          86,
          88
         ],
         "xaxis": "x34",
         "xbins": {
          "end": 90,
          "size": 2,
          "start": 0
         },
         "y": [
          0.004318969526549191,
          0.0063343449877302175,
          0.008423372349019489,
          0.010094779989207117,
          0.011939568747577343,
          0.013518559183753274,
          0.015361748231984074,
          0.016924740651404573,
          0.01850142473547104,
          0.02023208397698248,
          0.02247721065026154,
          0.0249105175152839,
          0.02710698773811721,
          0.02931477408783861,
          0.03133155538844848,
          0.03302119314658943,
          0.03444284879882715,
          0.035666154340184435,
          0.03677634315999523,
          0.036998749207126376,
          0.037494085630857515,
          0.038268366394535715,
          0.03999078560348374,
          0.04159411287305207,
          0.044235968480220184,
          0.0465873556526525,
          0.04783508766441023,
          0.04845206158323964,
          0.048256398365935343,
          0.04687084766192895,
          0.045287199057759006,
          0.044332116257142874,
          0.043290036308033186,
          0.042686535124015566,
          0.041929546978186905,
          0.03956698608635443,
          0.03956698608635443,
          0.03956698608635443,
          0.03956698608635443,
          0.03956698608635443,
          0.03956698608635443,
          0.03956698608635443,
          0.03956698608635443,
          0.03956698608635443,
          0.03956698608635443
         ],
         "yaxis": "y34"
        },
        {
         "histfunc": "sum",
         "marker": {
          "color": "#0072b2"
         },
         "type": "histogram",
         "x": [
          0,
          2,
          4,
          6,
          8,
          10,
          12,
          14,
          16,
          18,
          20,
          22,
          24,
          26,
          28,
          30,
          32,
          34,
          36,
          38,
          40,
          42,
          44,
          46,
          48,
          50,
          52,
          54,
          56,
          58,
          60,
          62,
          64,
          66,
          68,
          70,
          72,
          74,
          76,
          78,
          80,
          82,
          84,
          86,
          88
         ],
         "xaxis": "x35",
         "xbins": {
          "end": 90,
          "size": 2,
          "start": 0
         },
         "y": [
          0.005361221141249957,
          0.007565044456048725,
          0.009757439347331575,
          0.011536742094872682,
          0.01348681558616655,
          0.015153577966919336,
          0.017074784463539182,
          0.018687152989540688,
          0.02032384298040497,
          0.0220891480407664,
          0.024326591381996446,
          0.026711238471800458,
          0.02883044292386556,
          0.030918550171766247,
          0.032834019460526054,
          0.03436206178776614,
          0.035614676276881946,
          0.0366521673360547,
          0.03752303555328904,
          0.037447136683713536,
          0.03766916325084161,
          0.038204848426756303,
          0.039564558841900625,
          0.04074604920382635,
          0.04280980641654026,
          0.044432005523933005,
          0.04492475440754759,
          0.04471276241922308,
          0.04358740830411382,
          0.041635414842187544,
          0.039418540233265596,
          0.038324471269358215,
          0.037122642947369125,
          0.03641510416328215,
          0.03596615578031127,
          0.03404203726389422,
          0.03404203726389422,
          0.03404203726389422,
          0.03404203726389422,
          0.03404203726389422,
          0.03404203726389422,
          0.03404203726389422,
          0.03404203726389422,
          0.03404203726389422,
          0.03404203726389422
         ],
         "yaxis": "y35"
        },
        {
         "histfunc": "sum",
         "marker": {
          "color": "#0072b2"
         },
         "type": "histogram",
         "x": [
          0,
          2,
          4,
          6,
          8,
          10,
          12,
          14,
          16,
          18,
          20,
          22,
          24,
          26,
          28,
          30,
          32,
          34,
          36,
          38,
          40,
          42,
          44,
          46,
          48,
          50,
          52,
          54,
          56,
          58,
          60,
          62,
          64,
          66,
          68,
          70,
          72,
          74,
          76,
          78,
          80,
          82,
          84,
          86,
          88
         ],
         "xaxis": "x36",
         "xbins": {
          "end": 90,
          "size": 2,
          "start": 0
         },
         "y": [
          0.006583199868508108,
          0.008951942992336571,
          0.011213606457789843,
          0.013084642782559556,
          0.015121554252994534,
          0.016860461134780208,
          0.01883834358147342,
          0.020480109125588546,
          0.02215714572444754,
          0.023932175824923057,
          0.02612543906195911,
          0.028419221214796224,
          0.03042101191200042,
          0.032347043941723254,
          0.03412048813013177,
          0.035451571281668835,
          0.03650473928593887,
          0.03733014182201533,
          0.037938813096221005,
          0.037566601843285634,
          0.037509517688286,
          0.037792168501181056,
          0.03875063801995683,
          0.039475179005097664,
          0.040895998685622235,
          0.04173967185470703,
          0.04147706652217348,
          0.04047924735839002,
          0.0385325366515407,
          0.03615069959775107,
          0.03347488813433197,
          0.03231140524564855,
          0.0310297837803971,
          0.03026837624554633,
          0.030097875605315978,
          0.028626129304611576,
          0.028626129304611576,
          0.028626129304611576,
          0.028626129304611576,
          0.028626129304611576,
          0.028626129304611576,
          0.028626129304611576,
          0.028626129304611576,
          0.028626129304611576,
          0.028626129304611576
         ],
         "yaxis": "y36"
        },
        {
         "histfunc": "sum",
         "marker": {
          "color": "#0072b2"
         },
         "type": "histogram",
         "x": [
          0,
          2,
          4,
          6,
          8,
          10,
          12,
          14,
          16,
          18,
          20,
          22,
          24,
          26,
          28,
          30,
          32,
          34,
          36,
          38,
          40,
          42,
          44,
          46,
          48,
          50,
          52,
          54,
          56,
          58,
          60,
          62,
          64,
          66,
          68,
          70,
          72,
          74,
          76,
          78,
          80,
          82,
          84,
          86,
          88
         ],
         "xaxis": "x37",
         "xbins": {
          "end": 90,
          "size": 2,
          "start": 0
         },
         "y": [
          0.007996502865583949,
          0.01049588787886081,
          0.012785400860247528,
          0.014727631802134707,
          0.016828665531205968,
          0.018620579321394524,
          0.020630183585734655,
          0.022278677059853126,
          0.02397337189005643,
          0.025730621482118136,
          0.02784129477677468,
          0.030001101060773184,
          0.03184551555456619,
          0.03356858110378188,
          0.03516053770404377,
          0.03626282084281,
          0.037090254645393304,
          0.03768219756122608,
          0.03801245058634932,
          0.03735398417833755,
          0.03701939242290657,
          0.037041615320328694,
          0.03757314300469628,
          0.03782227728926452,
          0.038564544182185155,
          0.038621345722908686,
          0.037645540675112804,
          0.035951336604047826,
          0.033339153245498174,
          0.030680627521130276,
          0.027735196841433104,
          0.026567915796390416,
          0.02528177334117009,
          0.024513967500548475,
          0.02457229020979141,
          0.02352741580418637,
          0.02352741580418637,
          0.02352741580418637,
          0.02352741580418637,
          0.02352741580418637,
          0.02352741580418637,
          0.02352741580418637,
          0.02352741580418637,
          0.02352741580418637,
          0.02352741580418637
         ],
         "yaxis": "y37"
        },
        {
         "histfunc": "sum",
         "marker": {
          "color": "#0072b2"
         },
         "type": "histogram",
         "x": [
          0,
          2,
          4,
          6,
          8,
          10,
          12,
          14,
          16,
          18,
          20,
          22,
          24,
          26,
          28,
          30,
          32,
          34,
          36,
          38,
          40,
          42,
          44,
          46,
          48,
          50,
          52,
          54,
          56,
          58,
          60,
          62,
          64,
          66,
          68,
          70,
          72,
          74,
          76,
          78,
          80,
          82,
          84,
          86,
          88
         ],
         "xaxis": "x38",
         "xbins": {
          "end": 90,
          "size": 2,
          "start": 0
         },
         "y": [
          0.009608440192157227,
          0.012193183485051001,
          0.014462486815496181,
          0.01645115242265134,
          0.018589562122777924,
          0.02041203988341206,
          0.02242520222076083,
          0.024055508219129176,
          0.02574256134857383,
          0.027452584648820885,
          0.029441419961374518,
          0.03142455154420843,
          0.03307312243460218,
          0.03455526908654184,
          0.0359289783929349,
          0.03677540813988131,
          0.03735602805634208,
          0.03769896330483071,
          0.037741951364681704,
          0.03681490393906916,
          0.03621174001637988,
          0.03597350843394159,
          0.036066361512005,
          0.03583902647039383,
          0.03589760025230764,
          0.0351990572601931,
          0.03358939866420811,
          0.031324153177352765,
          0.028232019298563935,
          0.025451037551399727,
          0.02242006625059035,
          0.021304978085959506,
          0.02007822147296064,
          0.01934438839394066,
          0.01957146790303608,
          0.018899501122219546,
          0.018899501122219546,
          0.018899501122219546,
          0.018899501122219546,
          0.018899501122219546,
          0.018899501122219546,
          0.018899501122219546,
          0.018899501122219546,
          0.018899501122219546,
          0.018899501122219546
         ],
         "yaxis": "y38"
        },
        {
         "histfunc": "sum",
         "marker": {
          "color": "#0072b2"
         },
         "type": "histogram",
         "x": [
          0,
          2,
          4,
          6,
          8,
          10,
          12,
          14,
          16,
          18,
          20,
          22,
          24,
          26,
          28,
          30,
          32,
          34,
          36,
          38,
          40,
          42,
          44,
          46,
          48,
          50,
          52,
          54,
          56,
          58,
          60,
          62,
          64,
          66,
          68,
          70,
          72,
          74,
          76,
          78,
          80,
          82,
          84,
          86,
          88
         ],
         "xaxis": "x39",
         "xbins": {
          "end": 90,
          "size": 2,
          "start": 0
         },
         "y": [
          0.011420770977581192,
          0.01403495702468821,
          0.01623047356230654,
          0.01823694528281447,
          0.020382379121745474,
          0.022210028069112635,
          0.024195942252764547,
          0.025781470323088664,
          0.027433531381136935,
          0.029065719282811875,
          0.03089381694682587,
          0.03265937404790304,
          0.034076454293128305,
          0.03528405434448791,
          0.03640686784453388,
          0.03697628194071283,
          0.03729510934338081,
          0.03737999131055385,
          0.03713463727520413,
          0.03596351525502516,
          0.03510765330051903,
          0.034616284231775735,
          0.03427309112987156,
          0.03358533597625011,
          0.03298469416977264,
          0.03159802361100982,
          0.029462805793296253,
          0.026774743696230854,
          0.023398592330069835,
          0.020636710276986145,
          0.017682189950988886,
          0.016661982086718305,
          0.015542893467721669,
          0.01487350472262582,
          0.015207896037916393,
          0.014838532987951642,
          0.014838532987951642,
          0.014838532987951642,
          0.014838532987951642,
          0.014838532987951642,
          0.014838532987951642,
          0.014838532987951642,
          0.014838532987951642,
          0.014838532987951642,
          0.014838532987951642
         ],
         "yaxis": "y39"
        },
        {
         "histfunc": "sum",
         "marker": {
          "color": "#0072b2"
         },
         "type": "histogram",
         "x": [
          0,
          2,
          4,
          6,
          8,
          10,
          12,
          14,
          16,
          18,
          20,
          22,
          24,
          26,
          28,
          30,
          32,
          34,
          36,
          38,
          40,
          42,
          44,
          46,
          48,
          50,
          52,
          54,
          56,
          58,
          60,
          62,
          64,
          66,
          68,
          70,
          72,
          74,
          76,
          78,
          80,
          82,
          84,
          86,
          88
         ],
         "xaxis": "x40",
         "xbins": {
          "end": 90,
          "size": 2,
          "start": 0
         },
         "y": [
          0.013428505813447962,
          0.01600667461511772,
          0.018070867251885833,
          0.020063201028271103,
          0.022182312788786317,
          0.0239872955472781,
          0.025913233395993884,
          0.027426401737905448,
          0.029014761199605252,
          0.03053822442710284,
          0.03216828284005048,
          0.033678558778452994,
          0.034832599526824715,
          0.0357376173022554,
          0.036582287129813526,
          0.03686029437202169,
          0.036909094494536415,
          0.03673377721241113,
          0.03620681934728108,
          0.034821888571279734,
          0.03373545005702629,
          0.03300523840597639,
          0.03224262246040281,
          0.031126346939704865,
          0.029917778088192314,
          0.027939206298703993,
          0.02540558276534962,
          0.02245189439417745,
          0.018980075305036835,
          0.016355701058809607,
          0.013605945679029603,
          0.012708497280999806,
          0.011728093595403383,
          0.011142651384311567,
          0.01152876644528792,
          0.011386653520279417,
          0.011386653520279417,
          0.011386653520279417,
          0.011386653520279417,
          0.011386653520279417,
          0.011386653520279417,
          0.011386653520279417,
          0.011386653520279417,
          0.011386653520279417,
          0.011386653520279417
         ],
         "yaxis": "y40"
        },
        {
         "histfunc": "sum",
         "marker": {
          "color": "#0072b2"
         },
         "type": "histogram",
         "x": [
          0,
          2,
          4,
          6,
          8,
          10,
          12,
          14,
          16,
          18,
          20,
          22,
          24,
          26,
          28,
          30,
          32,
          34,
          36,
          38,
          40,
          42,
          44,
          46,
          48,
          50,
          52,
          54,
          56,
          58,
          60,
          62,
          64,
          66,
          68,
          70,
          72,
          74,
          76,
          78,
          80,
          82,
          84,
          86,
          88
         ],
         "xaxis": "x41",
         "xbins": {
          "end": 90,
          "size": 2,
          "start": 0
         },
         "y": [
          0.01561887315191581,
          0.018087860407721784,
          0.019961188144095397,
          0.02190487176420201,
          0.02396210730103779,
          0.025714787768430666,
          0.027546953127690555,
          0.028959962245280604,
          0.030455351112952316,
          0.031839875595047834,
          0.03323744880542539,
          0.034459265258420836,
          0.03532398245153116,
          0.035905056452480814,
          0.036450834805912324,
          0.036430420170879246,
          0.0362080561762406,
          0.035777384010712183,
          0.03498306987524024,
          0.033419060011557915,
          0.03212946662838357,
          0.03118100247753489,
          0.030028495834422575,
          0.028529330097032124,
          0.026786504337517187,
          0.02433287736919996,
          0.021536117098002,
          0.018469806467430048,
          0.01506837928554296,
          0.012670436682598218,
          0.01021444877439513,
          0.009453305719571264,
          0.008626048565808609,
          0.00813356020422482,
          0.008526376744121218,
          0.008540155110140056,
          0.008540155110140056,
          0.008540155110140056,
          0.008540155110140056,
          0.008540155110140056,
          0.008540155110140056,
          0.008540155110140056,
          0.008540155110140056,
          0.008540155110140056,
          0.008540155110140056
         ],
         "yaxis": "y41"
        },
        {
         "histfunc": "sum",
         "marker": {
          "color": "#0072b2"
         },
         "type": "histogram",
         "x": [
          0,
          2,
          4,
          6,
          8,
          10,
          12,
          14,
          16,
          18,
          20,
          22,
          24,
          26,
          28,
          30,
          32,
          34,
          36,
          38,
          40,
          42,
          44,
          46,
          48,
          50,
          52,
          54,
          56,
          58,
          60,
          62,
          64,
          66,
          68,
          70,
          72,
          74,
          76,
          78,
          80,
          82,
          84,
          86,
          88
         ],
         "xaxis": "x42",
         "xbins": {
          "end": 90,
          "size": 2,
          "start": 0
         },
         "y": [
          0.017970552994910467,
          0.02025206582415719,
          0.021875267330832206,
          0.023734143628150666,
          0.0256926811005762,
          0.027362393362897905,
          0.02906688078772813,
          0.030352548102928867,
          0.03172601654605983,
          0.03294305065823912,
          0.03407775507367087,
          0.034983672722235404,
          0.035539042305534244,
          0.03578232388278911,
          0.036015810463835854,
          0.03569762989176639,
          0.035210106946304304,
          0.03453569341212735,
          0.03349514123733578,
          0.031789804818638655,
          0.030328632166761814,
          0.029187846059595044,
          0.02768617354517389,
          0.025860681030040945,
          0.023674050877709064,
          0.020873637071278293,
          0.017946874697370274,
          0.014905734598528583,
          0.011708346513735934,
          0.009594176937301918,
          0.007481602974382582,
          0.0068579635380093835,
          0.006184225221793476,
          0.005784818577359884,
          0.0061519694000056425,
          0.006260368891381207,
          0.006260368891381207,
          0.006260368891381207,
          0.006260368891381207,
          0.006260368891381207,
          0.006260368891381207,
          0.006260368891381207,
          0.006260368891381207,
          0.006260368891381207,
          0.006260368891381207
         ],
         "yaxis": "y42"
        },
        {
         "histfunc": "sum",
         "marker": {
          "color": "#0072b2"
         },
         "type": "histogram",
         "x": [
          0,
          2,
          4,
          6,
          8,
          10,
          12,
          14,
          16,
          18,
          20,
          22,
          24,
          26,
          28,
          30,
          32,
          34,
          36,
          38,
          40,
          42,
          44,
          46,
          48,
          50,
          52,
          54,
          56,
          58,
          60,
          62,
          64,
          66,
          68,
          70,
          72,
          74,
          76,
          78,
          80,
          82,
          84,
          86,
          88
         ],
         "xaxis": "x43",
         "xbins": {
          "end": 90,
          "size": 2,
          "start": 0
         },
         "y": [
          0.0204532780662505,
          0.02246712566244912,
          0.023783728499763748,
          0.025521064084243542,
          0.027343876159248274,
          0.028899790819313532,
          0.030443612463558718,
          0.031576233676378636,
          0.032800072787602046,
          0.033823701908125385,
          0.03467031328516992,
          0.03523965623140884,
          0.03547268536879281,
          0.03537238793762284,
          0.03528807707481151,
          0.0346804246137502,
          0.03394062160488681,
          0.03304033037046361,
          0.03178059784376996,
          0.029973207156401758,
          0.02837490603393713,
          0.027071903546764815,
          0.025270767577081167,
          0.023183195884805163,
          0.02065375123762299,
          0.01763713530544058,
          0.014702576288104724,
          0.011801198327379575,
          0.008903996951508243,
          0.007100968495492055,
          0.005346479449088651,
          0.004852087298236383,
          0.004321630374702822,
          0.004008812240992,
          0.00433043760967574,
          0.004485373410122985,
          0.004485373410122985,
          0.004485373410122985,
          0.004485373410122985,
          0.004485373410122985,
          0.004485373410122985,
          0.004485373410122985,
          0.004485373410122985,
          0.004485373410122985,
          0.004485373410122985
         ],
         "yaxis": "y43"
        },
        {
         "histfunc": "sum",
         "marker": {
          "color": "#0072b2"
         },
         "type": "histogram",
         "x": [
          0,
          2,
          4,
          6,
          8,
          10,
          12,
          14,
          16,
          18,
          20,
          22,
          24,
          26,
          28,
          30,
          32,
          34,
          36,
          38,
          40,
          42,
          44,
          46,
          48,
          50,
          52,
          54,
          56,
          58,
          60,
          62,
          64,
          66,
          68,
          70,
          72,
          74,
          76,
          78,
          80,
          82,
          84,
          86,
          88
         ],
         "xaxis": "x44",
         "xbins": {
          "end": 90,
          "size": 2,
          "start": 0
         },
         "y": [
          0.02302788973817177,
          0.02469572327398628,
          0.02565465014783492,
          0.027234308373810787,
          0.028885305468050917,
          0.030297360607653794,
          0.031649498757348786,
          0.03260569826251016,
          0.03365436448808441,
          0.03446222665070919,
          0.035001612129125156,
          0.03522125269529487,
          0.03512648550926115,
          0.03468511388846431,
          0.03428561015267568,
          0.03340405969743338,
          0.03243116528867194,
          0.031328325700049356,
          0.029881243426147126,
          0.028011108234164802,
          0.026311665559690375,
          0.0248794236092232,
          0.022834950162822075,
          0.020553775819920326,
          0.017786690057700144,
          0.01467855224561599,
          0.011840805207185138,
          0.009166014064621223,
          0.006627272830310828,
          0.005137137260373107,
          0.0037276460379009895,
          0.0033479888738154047,
          0.002943736032841902,
          0.0027068151812578182,
          0.0029738384772243416,
          0.0031409555976212636,
          0.0031409555976212636,
          0.0031409555976212636,
          0.0031409555976212636,
          0.0031409555976212636,
          0.0031409555976212636,
          0.0031409555976212636,
          0.0031409555976212636,
          0.0031409555976212636,
          0.0031409555976212636
         ],
         "yaxis": "y44"
        },
        {
         "histfunc": "sum",
         "marker": {
          "color": "#0072b2"
         },
         "type": "histogram",
         "x": [
          0,
          2,
          4,
          6,
          8,
          10,
          12,
          14,
          16,
          18,
          20,
          22,
          24,
          26,
          28,
          30,
          32,
          34,
          36,
          38,
          40,
          42,
          44,
          46,
          48,
          50,
          52,
          54,
          56,
          58,
          60,
          62,
          64,
          66,
          68,
          70,
          72,
          74,
          76,
          78,
          80,
          82,
          84,
          86,
          88
         ],
         "xaxis": "x45",
         "xbins": {
          "end": 90,
          "size": 2,
          "start": 0
         },
         "y": [
          0.025646912926308902,
          0.026896268849691218,
          0.027454392801534146,
          0.028842060534750802,
          0.0302872669232306,
          0.03152712526525209,
          0.032659564088348594,
          0.03341909536724032,
          0.03427009480848268,
          0.03484419236748945,
          0.03506402947577598,
          0.034928891786623215,
          0.034508622131290946,
          0.03373686931044262,
          0.033032759854472495,
          0.03189950305514671,
          0.030718190498125197,
          0.02944059563973246,
          0.027841435375210347,
          0.025946518380578567,
          0.024182129849309432,
          0.022655132628524616,
          0.020427152956519406,
          0.018021664045577555,
          0.015120326281589961,
          0.012032715739223824,
          0.009374588554374967,
          0.006984199157630823,
          0.004827753739511905,
          0.0036326075035777792,
          0.0025356829636208516,
          0.002253000934144867,
          0.0019545151061797178,
          0.0017808133648574503,
          0.0019923743306814734,
          0.0021497576506104934,
          0.0021497576506104934,
          0.0021497576506104934,
          0.0021497576506104934,
          0.0021497576506104934,
          0.0021497576506104934,
          0.0021497576506104934,
          0.0021497576506104934,
          0.0021497576506104934,
          0.0021497576506104934
         ],
         "yaxis": "y45"
        },
        {
         "histfunc": "sum",
         "marker": {
          "color": "#0072b2"
         },
         "type": "histogram",
         "x": [
          0,
          2,
          4,
          6,
          8,
          10,
          12,
          14,
          16,
          18,
          20,
          22,
          24,
          26,
          28,
          30,
          32,
          34,
          36,
          38,
          40,
          42,
          44,
          46,
          48,
          50,
          52,
          54,
          56,
          58,
          60,
          62,
          64,
          66,
          68,
          70,
          72,
          74,
          76,
          78,
          80,
          82,
          84,
          86,
          88
         ],
         "xaxis": "x46",
         "xbins": {
          "end": 90,
          "size": 2,
          "start": 0
         },
         "y": [
          0.028255681777464823,
          0.029024074220636166,
          0.029148564926823734,
          0.030312976172616992,
          0.03152168607522676,
          0.03256367623546976,
          0.033452365049040665,
          0.03399882285433216,
          0.03463351279789638,
          0.03496087899401548,
          0.03485612389566414,
          0.034369379265381264,
          0.03363355894214046,
          0.03254987620567734,
          0.03155926830564942,
          0.030202187898096044,
          0.02884157805829318,
          0.027420325293286595,
          0.02570638048963417,
          0.023822076335252206,
          0.02202789803926589,
          0.020440790022277822,
          0.018090132662237197,
          0.01562727040527183,
          0.012688112440284442,
          0.009715593796850665,
          0.007296362108808699,
          0.0052207680188864555,
          0.003442038943472826,
          0.0025107848717954967,
          0.0016828629912595398,
          0.0014786340511430158,
          0.0012649347448796904,
          0.0011415504883906934,
          0.0013022443151632145,
          0.0014380756170570424,
          0.0014380756170570424,
          0.0014380756170570424,
          0.0014380756170570424,
          0.0014380756170570424,
          0.0014380756170570424,
          0.0014380756170570424,
          0.0014380756170570424,
          0.0014380756170570424,
          0.0014380756170570424
         ],
         "yaxis": "y46"
        },
        {
         "histfunc": "sum",
         "marker": {
          "color": "#0072b2"
         },
         "type": "histogram",
         "x": [
          0,
          2,
          4,
          6,
          8,
          10,
          12,
          14,
          16,
          18,
          20,
          22,
          24,
          26,
          28,
          30,
          32,
          34,
          36,
          38,
          40,
          42,
          44,
          46,
          48,
          50,
          52,
          54,
          56,
          58,
          60,
          62,
          64,
          66,
          68,
          70,
          72,
          74,
          76,
          78,
          80,
          82,
          84,
          86,
          88
         ],
         "xaxis": "x47",
         "xbins": {
          "end": 90,
          "size": 2,
          "start": 0
         },
         "y": [
          0.030794008242538008,
          0.03103278597584227,
          0.0307030911139201,
          0.031617187372008276,
          0.03256304641813016,
          0.033385044805435,
          0.03401074670304207,
          0.034332156081778906,
          0.034736423907695185,
          0.03480960986494555,
          0.03438268999648297,
          0.03355563361480456,
          0.03252148115251383,
          0.03115134567760776,
          0.029899097493668248,
          0.028350630000918434,
          0.026843103296028147,
          0.02531134456628818,
          0.023520502425470557,
          0.021678631139112944,
          0.019887668238393486,
          0.01827399570978227,
          0.015859949520112625,
          0.01340159002375732,
          0.010509999721994755,
          0.007726811163016725,
          0.005582692754440181,
          0.003828545938931616,
          0.0024018554237990467,
          0.0016962671536213875,
          0.001089672743114731,
          0.000946415840082526,
          0.0007979692117674739,
          0.0007129987313314255,
          0.0008303897385364597,
          0.0009402394210002168,
          0.0009402394210002168,
          0.0009402394210002168,
          0.0009402394210002168,
          0.0009402394210002168,
          0.0009402394210002168,
          0.0009402394210002168,
          0.0009402394210002168,
          0.0009402394210002168,
          0.0009402394210002168
         ],
         "yaxis": "y47"
        },
        {
         "histfunc": "sum",
         "marker": {
          "color": "#0072b2"
         },
         "type": "histogram",
         "x": [
          0,
          2,
          4,
          6,
          8,
          10,
          12,
          14,
          16,
          18,
          20,
          22,
          24,
          26,
          28,
          30,
          32,
          34,
          36,
          38,
          40,
          42,
          44,
          46,
          48,
          50,
          52,
          54,
          56,
          58,
          60,
          62,
          64,
          66,
          68,
          70,
          72,
          74,
          76,
          78,
          80,
          82,
          84,
          86,
          88
         ],
         "xaxis": "x48",
         "xbins": {
          "end": 90,
          "size": 2,
          "start": 0
         },
         "y": [
          0.03319834164891364,
          0.03287601788411117,
          0.03208533760466014,
          0.0327273053552454,
          0.03338926439982177,
          0.03397347554822089,
          0.03432245960188709,
          0.034411712229525986,
          0.034576497175674833,
          0.03439385378624016,
          0.03365457461097533,
          0.03250619022061761,
          0.03119752168816975,
          0.029572442187404176,
          0.02808913213651819,
          0.026384984564969197,
          0.02476490921266088,
          0.023156580729278547,
          0.021325961023493194,
          0.019554009527204097,
          0.017796187619839463,
          0.016187289501921914,
          0.013765373120094602,
          0.011366179034346769,
          0.008593661055635759,
          0.006052802537302671,
          0.004199177751760028,
          0.0027543239247179115,
          0.0016403569247428515,
          0.001120141076738101,
          0.0006883937783990054,
          0.0005907792910768646,
          0.000490674028743248,
          0.00043390964627466785,
          0.0005165822129531208,
          0.0006008411961119092,
          0.0006008411961119092,
          0.0006008411961119092,
          0.0006008411961119092,
          0.0006008411961119092,
          0.0006008411961119092,
          0.0006008411961119092,
          0.0006008411961119092,
          0.0006008411961119092,
          0.0006008411961119092
         ],
         "yaxis": "y48"
        },
        {
         "histfunc": "sum",
         "marker": {
          "color": "#0072b2"
         },
         "type": "histogram",
         "x": [
          0,
          2,
          4,
          6,
          8,
          10,
          12,
          14,
          16,
          18,
          20,
          22,
          24,
          26,
          28,
          30,
          32,
          34,
          36,
          38,
          40,
          42,
          44,
          46,
          48,
          50,
          52,
          54,
          56,
          58,
          60,
          62,
          64,
          66,
          68,
          70,
          72,
          74,
          76,
          78,
          80,
          82,
          84,
          86,
          88
         ],
         "xaxis": "x49",
         "xbins": {
          "end": 90,
          "size": 2,
          "start": 0
         },
         "y": [
          0.035404323124141795,
          0.03450910543164538,
          0.03326524403149228,
          0.03361937418661492,
          0.033982467347613315,
          0.03431606427504818,
          0.03438060653467525,
          0.03423572215706741,
          0.03415735299938434,
          0.03372309279895639,
          0.032688263676223246,
          0.031244499665892135,
          0.02969081782054219,
          0.027847132373891758,
          0.0261678264638244,
          0.024345617594931205,
          0.02264806338304533,
          0.020996661752910685,
          0.019161388712764568,
          0.017482015924501666,
          0.01578346622062099,
          0.014207560789482562,
          0.011827700338588463,
          0.009533615239281328,
          0.00693623129707382,
          0.004670226794800968,
          0.003105045544710357,
          0.001943917600125792,
          0.001096453611214058,
          0.0007230110192482909,
          0.00042429831442490396,
          0.00035965863522902986,
          0.00029409587337516225,
          0.0002572922874719705,
          0.00031351974270547097,
          0.0003752713950283824,
          0.0003752713950283824,
          0.0003752713950283824,
          0.0003752713950283824,
          0.0003752713950283824,
          0.0003752713950283824,
          0.0003752713950283824,
          0.0003752713950283824,
          0.0003752713950283824,
          0.0003752713950283824
         ],
         "yaxis": "y49"
        },
        {
         "histfunc": "sum",
         "marker": {
          "color": "#0072b2"
         },
         "type": "histogram",
         "x": [
          0,
          2,
          4,
          6,
          8,
          10,
          12,
          14,
          16,
          18,
          20,
          22,
          24,
          26,
          28,
          30,
          32,
          34,
          36,
          38,
          40,
          42,
          44,
          46,
          48,
          50,
          52,
          54,
          56,
          58,
          60,
          62,
          64,
          66,
          68,
          70,
          72,
          74,
          76,
          78,
          80,
          82,
          84,
          86,
          88
         ],
         "xaxis": "x50",
         "xbins": {
          "end": 90,
          "size": 2,
          "start": 0
         },
         "y": [
          0.03734959861574961,
          0.03589089152093943,
          0.034216406959710705,
          0.034273729280493534,
          0.0343296360738459,
          0.03440522849483717,
          0.034183896256736554,
          0.03380809581059833,
          0.03348842688305608,
          0.03281246267415319,
          0.03150526177596462,
          0.02979805722892535,
          0.02803344761447697,
          0.026010977630909617,
          0.02417386369931855,
          0.02227176159567736,
          0.02053126541520597,
          0.0188687302011731,
          0.0170608908564646,
          0.015491694467599959,
          0.01387426849597727,
          0.012355766306489505,
          0.010060945029986732,
          0.007908346911252223,
          0.005526354536980507,
          0.0035493162236732607,
          0.002257121174414317,
          0.0013459296938705435,
          0.0007173028888780883,
          0.00045615331026484674,
          0.00025515212953531273,
          0.00021353923685460172,
          0.00017181999928096419,
          0.00014865213332837507,
          0.00018563433679258157,
          0.00022908451538945668,
          0.00022908451538945668,
          0.00022908451538945668,
          0.00022908451538945668,
          0.00022908451538945668,
          0.00022908451538945668,
          0.00022908451538945668,
          0.00022908451538945668,
          0.00022908451538945668,
          0.00022908451538945668
         ],
         "yaxis": "y50"
        },
        {
         "histfunc": "sum",
         "marker": {
          "color": "#0072b2"
         },
         "type": "histogram",
         "x": [
          0,
          2,
          4,
          6,
          8,
          10,
          12,
          14,
          16,
          18,
          20,
          22,
          24,
          26,
          28,
          30,
          32,
          34,
          36,
          38,
          40,
          42,
          44,
          46,
          48,
          50,
          52,
          54,
          56,
          58,
          60,
          62,
          64,
          66,
          68,
          70,
          72,
          74,
          76,
          78,
          80,
          82,
          84,
          86,
          88
         ],
         "xaxis": "x51",
         "xbins": {
          "end": 90,
          "size": 2,
          "start": 0
         },
         "y": [
          0.03897672272366168,
          0.03698544451026086,
          0.03491706087269372,
          0.03467571779793348,
          0.03442307990350434,
          0.03423898642861912,
          0.03373669116193287,
          0.03313827780262793,
          0.03258461631911289,
          0.03168218517287083,
          0.03013129695029463,
          0.02819740867334317,
          0.02625930026757542,
          0.02409992995869198,
          0.022144892441351784,
          0.020200316007231,
          0.018449758119016696,
          0.016805510147790553,
          0.01505333690654116,
          0.013606864412833933,
          0.012087879014600357,
          0.010646935471238897,
          0.008472340030348543,
          0.006487819623638468,
          0.004346340529377013,
          0.002656908969745172,
          0.0016129650582546314,
          0.0009142155054321108,
          0.00045927764748437066,
          0.00028130047603778884,
          0.00014969958942728857,
          0.0001236479289136084,
          0.00009784697821242744,
          0.0000836820747796251,
          0.00010723083765231061,
          0.0001366817470088166,
          0.0001366817470088166,
          0.0001366817470088166,
          0.0001366817470088166,
          0.0001366817470088166,
          0.0001366817470088166,
          0.0001366817470088166,
          0.0001366817470088166,
          0.0001366817470088166,
          0.0001366817470088166
         ],
         "yaxis": "y51"
        },
        {
         "histfunc": "sum",
         "marker": {
          "color": "#0072b2"
         },
         "type": "histogram",
         "x": [
          0,
          2,
          4,
          6,
          8,
          10,
          12,
          14,
          16,
          18,
          20,
          22,
          24,
          26,
          28,
          30,
          32,
          34,
          36,
          38,
          40,
          42,
          44,
          46,
          48,
          50,
          52,
          54,
          56,
          58,
          60,
          62,
          64,
          66,
          68,
          70,
          72,
          74,
          76,
          78,
          80,
          82,
          84,
          86,
          88
         ],
         "xaxis": "x52",
         "xbins": {
          "end": 90,
          "size": 2,
          "start": 0
         },
         "y": [
          0.04023596647558086,
          0.03776360884720988,
          0.03535090577265666,
          0.034816244090479315,
          0.03426071991975764,
          0.03382103024049198,
          0.03304884644060368,
          0.03224090061381169,
          0.03146572925909735,
          0.03035682180721523,
          0.0285953918128769,
          0.02647508242874011,
          0.024402935575934304,
          0.02214918719711597,
          0.020116395685860836,
          0.018164840095640306,
          0.016434479359964983,
          0.014834650855263545,
          0.01316194925352831,
          0.011845923233523343,
          0.010438123107366972,
          0.009090428011279761,
          0.007063079863815854,
          0.005263768555996795,
          0.003374260331546304,
          0.0019589976433888306,
          0.0011331260605315883,
          0.0006091952051176185,
          0.0002878117037963494,
          0.00016956016289473033,
          0.00008569106532348096,
          0.00006982612992569393,
          0.00005431378214775111,
          0.00004589978461523486,
          0.000060429507867851195,
          0.00007970578087534897,
          0.00007970578087534897,
          0.00007970578087534897,
          0.00007970578087534897,
          0.00007970578087534897,
          0.00007970578087534897,
          0.00007970578087534897,
          0.00007970578087534897,
          0.00007970578087534897,
          0.00007970578087534897
         ],
         "yaxis": "y52"
        },
        {
         "histfunc": "sum",
         "marker": {
          "color": "#0072b2"
         },
         "type": "histogram",
         "x": [
          0,
          2,
          4,
          6,
          8,
          10,
          12,
          14,
          16,
          18,
          20,
          22,
          24,
          26,
          28,
          30,
          32,
          34,
          36,
          38,
          40,
          42,
          44,
          46,
          48,
          50,
          52,
          54,
          56,
          58,
          60,
          62,
          64,
          66,
          68,
          70,
          72,
          74,
          76,
          78,
          80,
          82,
          84,
          86,
          88
         ],
         "xaxis": "x53",
         "xbins": {
          "end": 90,
          "size": 2,
          "start": 0
         },
         "y": [
          0.04108783831950837,
          0.03820429501783064,
          0.03550773747464206,
          0.034692111839549386,
          0.03384616585884157,
          0.03316058970600653,
          0.032135349005097416,
          0.031135253200749568,
          0.03015576268578689,
          0.028864387543440485,
          0.02692884773666821,
          0.02466450003906397,
          0.022498485480825843,
          0.020192157049338893,
          0.01812073678174253,
          0.016194771180662277,
          0.014511474323952942,
          0.012978352369238704,
          0.011404178225521092,
          0.010221896826021789,
          0.008933610732771512,
          0.007690397986124624,
          0.005829227357992938,
          0.004223570689614262,
          0.0025858495499271445,
          0.0014227100844802947,
          0.0007825546576826191,
          0.00039824107852489294,
          0.00017652328600495924,
          0.00009990124598889281,
          0.000047856837494124205,
          0.000038456615820217946,
          0.000029387429276095846,
          0.000024530464442916977,
          0.000033223576891072324,
          0.000045429047802690695,
          0.000045429047802690695,
          0.000045429047802690695,
          0.000045429047802690695,
          0.000045429047802690695,
          0.000045429047802690695,
          0.000045429047802690695,
          0.000045429047802690695,
          0.000045429047802690695,
          0.000045429047802690695
         ],
         "yaxis": "y53"
        },
        {
         "histfunc": "sum",
         "marker": {
          "color": "#0072b2"
         },
         "type": "histogram",
         "x": [
          0,
          2,
          4,
          6,
          8,
          10,
          12,
          14,
          16,
          18,
          20,
          22,
          24,
          26,
          28,
          30,
          32,
          34,
          36,
          38,
          40,
          42,
          44,
          46,
          48,
          50,
          52,
          54,
          56,
          58,
          60,
          62,
          64,
          66,
          68,
          70,
          72,
          74,
          76,
          78,
          80,
          82,
          84,
          86,
          88
         ],
         "xaxis": "x54",
         "xbins": {
          "end": 90,
          "size": 2,
          "start": 0
         },
         "y": [
          0.041505140278872726,
          0.03829542918317188,
          0.03538384656462135,
          0.03430614491911797,
          0.03318858268225393,
          0.032272093348197244,
          0.031015774657821363,
          0.029844591957872747,
          0.02868204796502135,
          0.02723536905428606,
          0.025164191576042043,
          0.022798915320416984,
          0.020578645264865667,
          0.018259569984782682,
          0.016186413191818617,
          0.014314885365047386,
          0.0127015709696167,
          0.011253261121910177,
          0.009791836049093668,
          0.00874270440385387,
          0.007578162878119332,
          0.006446412214164481,
          0.00476270859484888,
          0.00335156551125526,
          0.00195613016419196,
          0.0010177102861552397,
          0.0005312932736067275,
          0.0002553978987637974,
          0.00010596342025814025,
          0.00005753229602133757,
          0.000026076300113308725,
          0.000020655995054266622,
          0.000015498942634901887,
          0.000012773732267852569,
          0.000017820163659869882,
          0.00002530707548994637,
          0.00002530707548994637,
          0.00002530707548994637,
          0.00002530707548994637,
          0.00002530707548994637,
          0.00002530707548994637,
          0.00002530707548994637,
          0.00002530707548994637,
          0.00002530707548994637,
          0.00002530707548994637
         ],
         "yaxis": "y54"
        },
        {
         "histfunc": "sum",
         "marker": {
          "color": "#0072b2"
         },
         "type": "histogram",
         "x": [
          0,
          2,
          4,
          6,
          8,
          10,
          12,
          14,
          16,
          18,
          20,
          22,
          24,
          26,
          28,
          30,
          32,
          34,
          36,
          38,
          40,
          42,
          44,
          46,
          48,
          50,
          52,
          54,
          56,
          58,
          60,
          62,
          64,
          66,
          68,
          70,
          72,
          74,
          76,
          78,
          80,
          82,
          84,
          86,
          88
         ],
         "xaxis": "x55",
         "xbins": {
          "end": 90,
          "size": 2,
          "start": 0
         },
         "y": [
          0.04147440997617807,
          0.038034502823800116,
          0.0349821642414776,
          0.033667080599576786,
          0.032302353713934896,
          0.03117464441584038,
          0.02971359095734827,
          0.028395328393349115,
          0.027074305431928836,
          0.02550169541867333,
          0.023334134023392846,
          0.02091042827702624,
          0.018673794027046275,
          0.01637876999933014,
          0.014337534670975113,
          0.01254500255742873,
          0.011020306021480969,
          0.009670609228464667,
          0.008331450607235127,
          0.007411597380872904,
          0.00637137469136171,
          0.005354169353814333,
          0.0038523271711395496,
          0.0026302717566395717,
          0.0014607035246876937,
          0.0007170627724306611,
          0.00035459869969291127,
          0.00016068312512235267,
          0.00006225444191520555,
          0.00003238517361360397,
          0.000013862497042507185,
          0.000010820395719100301,
          0.00000796767237068778,
          0.000006481070754540896,
          0.000009324916686294278,
          0.000013778908001009322,
          0.000013778908001009322,
          0.000013778908001009322,
          0.000013778908001009322,
          0.000013778908001009322,
          0.000013778908001009322,
          0.000013778908001009322,
          0.000013778908001009322,
          0.000013778908001009322,
          0.000013778908001009322
         ],
         "yaxis": "y55"
        },
        {
         "histfunc": "sum",
         "marker": {
          "color": "#0072b2"
         },
         "type": "histogram",
         "x": [
          0,
          2,
          4,
          6,
          8,
          10,
          12,
          14,
          16,
          18,
          20,
          22,
          24,
          26,
          28,
          30,
          32,
          34,
          36,
          38,
          40,
          42,
          44,
          46,
          48,
          50,
          52,
          54,
          56,
          58,
          60,
          62,
          64,
          66,
          68,
          70,
          72,
          74,
          76,
          78,
          80,
          82,
          84,
          86,
          88
         ],
         "xaxis": "x56",
         "xbins": {
          "end": 90,
          "size": 2,
          "start": 0
         },
         "y": [
          0.04099664187438688,
          0.03742868746852842,
          0.03431214703629547,
          0.03278924073299931,
          0.031206557633800112,
          0.029891338280337753,
          0.028255340437890963,
          0.026816133094168502,
          0.025363653741224075,
          0.023695709470857106,
          0.02147058542132866,
          0.019029112938962523,
          0.016811274285049874,
          0.014573200213965378,
          0.012593528457992062,
          0.010899923633232687,
          0.009478075937575646,
          0.00823656017961999,
          0.007024791977648851,
          0.006227726993136106,
          0.0053092681084152245,
          0.004406268001261189,
          0.0030847392234346896,
          0.0020414488083620097,
          0.0010767037719685187,
          0.0004976401881575482,
          0.0002326607608663631,
          0.00009917561562378639,
          0.00003579687640564329,
          0.000017818636757105005,
          0.000007190026371323735,
          0.000005527924878609888,
          0.000003992544702569999,
          0.000003204000913373698,
          0.000004760430218388047,
          0.000007332501385276379,
          0.000007332501385276379,
          0.000007332501385276379,
          0.000007332501385276379,
          0.000007332501385276379,
          0.000007332501385276379,
          0.000007332501385276379,
          0.000007332501385276379,
          0.000007332501385276379,
          0.000007332501385276379
         ],
         "yaxis": "y56"
        },
        {
         "histfunc": "sum",
         "marker": {
          "color": "#0072b2"
         },
         "type": "histogram",
         "x": [
          0,
          2,
          4,
          6,
          8,
          10,
          12,
          14,
          16,
          18,
          20,
          22,
          24,
          26,
          28,
          30,
          32,
          34,
          36,
          38,
          40,
          42,
          44,
          46,
          48,
          50,
          52,
          54,
          56,
          58,
          60,
          62,
          64,
          66,
          68,
          70,
          72,
          74,
          76,
          78,
          80,
          82,
          84,
          86,
          88
         ],
         "xaxis": "x57",
         "xbins": {
          "end": 90,
          "size": 2,
          "start": 0
         },
         "y": [
          0.04008723383343812,
          0.03649450718371931,
          0.03338940673970055,
          0.03169199820035631,
          0.0299242858843346,
          0.028448455300900687,
          0.02666974382876986,
          0.02513699830134672,
          0.02358161978373608,
          0.0218491854331318,
          0.019603769044353795,
          0.017182289530845062,
          0.015014849730985703,
          0.012862088311872704,
          0.010969061281611629,
          0.009389575914796649,
          0.00808047753576788,
          0.006952716485807562,
          0.005869521068541062,
          0.005186794425100512,
          0.0043849885946998035,
          0.0035929774120856584,
          0.0024453435679551907,
          0.001566972337777954,
          0.000783430043112011,
          0.00034017232089728056,
          0.00015006946473860726,
          0.00006005113575577272,
          0.000020145605819412788,
          0.0000095828886388812,
          0.000003638421598032642,
          0.0000027542482806745034,
          0.000001950100663665402,
          0.000001543317976230473,
          0.000002370911905614379,
          0.000003813765803793663,
          0.000003813765803793663,
          0.000003813765803793663,
          0.000003813765803793663,
          0.000003813765803793663,
          0.000003813765803793663,
          0.000003813765803793663,
          0.000003813765803793663,
          0.000003813765803793663,
          0.000003813765803793663
         ],
         "yaxis": "y57"
        },
        {
         "histfunc": "sum",
         "marker": {
          "color": "#0072b2"
         },
         "type": "histogram",
         "x": [
          0,
          2,
          4,
          6,
          8,
          10,
          12,
          14,
          16,
          18,
          20,
          22,
          24,
          26,
          28,
          30,
          32,
          34,
          36,
          38,
          40,
          42,
          44,
          46,
          48,
          50,
          52,
          54,
          56,
          58,
          60,
          62,
          64,
          66,
          68,
          70,
          72,
          74,
          76,
          78,
          80,
          82,
          84,
          86,
          88
         ],
         "xaxis": "x58",
         "xbins": {
          "end": 90,
          "size": 2,
          "start": 0
         },
         "y": [
          0.038775162988425885,
          0.035257089698855125,
          0.032235105759487376,
          0.03039906637685992,
          0.028481834582965174,
          0.02687456850351313,
          0.024986765447225615,
          0.023388301607231158,
          0.021759192549477398,
          0.019992433347725727,
          0.017761464068908606,
          0.015393961477114679,
          0.013304349119859015,
          0.011260325668887025,
          0.009474157185317921,
          0.008019334356922399,
          0.006828796715710798,
          0.005816741552903466,
          0.004859909891231414,
          0.004281739361062814,
          0.00358950513914994,
          0.002902971946522218,
          0.0019190551408709538,
          0.0011895128257800138,
          0.0005626962741515598,
          0.00022903811372928474,
          0.00009515786888439607,
          0.00003567132421415414,
          0.000011096242607480961,
          0.000005037466021642152,
          0.0000017963422298925803,
          0.0000013383386098143256,
          9.284386164386642e-7,
          7.243277324405371e-7,
          0.0000011520003278366993,
          0.0000019387437032737877,
          0.0000019387437032737877,
          0.0000019387437032737877,
          0.0000019387437032737877,
          0.0000019387437032737877,
          0.0000019387437032737877,
          0.0000019387437032737877,
          0.0000019387437032737877,
          0.0000019387437032737877,
          0.0000019387437032737877
         ],
         "yaxis": "y58"
        },
        {
         "histfunc": "sum",
         "marker": {
          "color": "#0072b2"
         },
         "type": "histogram",
         "x": [
          0,
          2,
          4,
          6,
          8,
          10,
          12,
          14,
          16,
          18,
          20,
          22,
          24,
          26,
          28,
          30,
          32,
          34,
          36,
          38,
          40,
          42,
          44,
          46,
          48,
          50,
          52,
          54,
          56,
          58,
          60,
          62,
          64,
          66,
          68,
          70,
          72,
          74,
          76,
          78,
          80,
          82,
          84,
          86,
          88
         ],
         "xaxis": "x59",
         "xbins": {
          "end": 90,
          "size": 2,
          "start": 0
         },
         "y": [
          0.0371014524802956,
          0.033749043537805924,
          0.03087515060525054,
          0.0289376479955727,
          0.026907810385917382,
          0.02519960825826009,
          0.023236682930444758,
          0.021599911025212117,
          0.019925959500973152,
          0.01815352364584839,
          0.015968401321432943,
          0.013684427447440292,
          0.011695493762982383,
          0.009778524402268732,
          0.008114481920389731,
          0.006790480185583624,
          0.005720600975202513,
          0.004823048381107584,
          0.003987586541642224,
          0.003503427557518849,
          0.0029122790833252736,
          0.0023239991487446943,
          0.0014909434100475651,
          0.0008930214527570198,
          0.0003989492815026734,
          0.00015189441352461133,
          0.000059317148452617815,
          0.00002078734018424846,
          0.0000059818010796837075,
          0.000002588341287713864,
          8.652839726099551e-7,
          6.342360051362125e-7,
          4.3086209049610587e-7,
          3.3123157305143785e-7,
          5.460818709985978e-7,
          9.632772280698105e-7,
          9.632772280698105e-7,
          9.632772280698105e-7,
          9.632772280698105e-7,
          9.632772280698105e-7,
          9.632772280698105e-7,
          9.632772280698105e-7,
          9.632772280698105e-7,
          9.632772280698105e-7,
          9.632772280698105e-7
         ],
         "yaxis": "y59"
        },
        {
         "histfunc": "sum",
         "marker": {
          "color": "#0072b2"
         },
         "type": "histogram",
         "x": [
          0,
          2,
          4,
          6,
          8,
          10,
          12,
          14,
          16,
          18,
          20,
          22,
          24,
          26,
          28,
          30,
          32,
          34,
          36,
          38,
          40,
          42,
          44,
          46,
          48,
          50,
          52,
          54,
          56,
          58,
          60,
          62,
          64,
          66,
          68,
          70,
          72,
          74,
          76,
          78,
          80,
          82,
          84,
          86,
          88
         ],
         "xaxis": "x60",
         "xbins": {
          "end": 90,
          "size": 2,
          "start": 0
         },
         "y": [
          0.035117042208725975,
          0.032009031178324744,
          0.029339226404022856,
          0.02733748602532321,
          0.025232192635891694,
          0.023453926429546686,
          0.021449201046227658,
          0.01980036724062201,
          0.01810935726625279,
          0.016357656566217526,
          0.014245825135185314,
          0.01207006866400139,
          0.010199896784905368,
          0.008423228942971444,
          0.006891759224551747,
          0.005700756257899859,
          0.004750391914389779,
          0.003963511039621722,
          0.0032422640402446647,
          0.002841304497324484,
          0.0023418749588069417,
          0.0018434606172476338,
          0.0011467295500844328,
          0.000663039830247669,
          0.0002792101263420453,
          0.00009922042939593946,
          0.00003634954735198671,
          0.000011883935890412454,
          0.000003156082896995817,
          0.0000012999440841937692,
          4.066509209444859e-7,
          2.931282967921941e-7,
          1.9490020492194259e-7,
          1.4758603180303002e-7,
          2.5254041292085936e-7,
          4.6778544030288486e-7,
          4.6778544030288486e-7,
          4.6778544030288486e-7,
          4.6778544030288486e-7,
          4.6778544030288486e-7,
          4.6778544030288486e-7,
          4.6778544030288486e-7,
          4.6778544030288486e-7,
          4.6778544030288486e-7,
          4.6778544030288486e-7
         ],
         "yaxis": "y60"
        },
        {
         "histfunc": "sum",
         "marker": {
          "color": "#0072b2"
         },
         "type": "histogram",
         "x": [
          0,
          2,
          4,
          6,
          8,
          10,
          12,
          14,
          16,
          18,
          20,
          22,
          24,
          26,
          28,
          30,
          32,
          34,
          36,
          38,
          40,
          42,
          44,
          46,
          48,
          50,
          52,
          54,
          56,
          58,
          60,
          62,
          64,
          66,
          68,
          70,
          72,
          74,
          76,
          78,
          80,
          82,
          84,
          86,
          88
         ],
         "xaxis": "x61",
         "xbins": {
          "end": 90,
          "size": 2,
          "start": 0
         },
         "y": [
          0.0328802177150394,
          0.03008012531915641,
          0.027659722632491782,
          0.025629862681478342,
          0.023485394450582817,
          0.021667400309142257,
          0.019652644759037843,
          0.01801617264369828,
          0.016334060337579684,
          0.01462669173580404,
          0.012611224952485513,
          0.01056330266151163,
          0.008825214682461405,
          0.007197253416038578,
          0.005804281722079643,
          0.004744978843447237,
          0.0039102771511890615,
          0.0032281605732712004,
          0.002612419946657486,
          0.002283989685405645,
          0.0018664945011459375,
          0.0014488937432631053,
          0.0008731462362820344,
          0.00048685799695174635,
          0.00019289211419230417,
          0.00006383893905143807,
          0.000021897822611962964,
          0.0000066650492461268845,
          0.0000016297659816895335,
          6.381481663341748e-7,
          1.8645686669591746e-7,
          1.321254750697725e-7,
          8.593601882224071e-8,
          6.407309455080498e-8,
          1.1393889010006675e-7,
          2.220274241406299e-7,
          2.220274241406299e-7,
          2.220274241406299e-7,
          2.220274241406299e-7,
          2.220274241406299e-7,
          2.220274241406299e-7,
          2.220274241406299e-7,
          2.220274241406299e-7,
          2.220274241406299e-7,
          2.220274241406299e-7
         ],
         "yaxis": "y61"
        },
        {
         "histfunc": "sum",
         "marker": {
          "color": "#0072b2"
         },
         "type": "histogram",
         "x": [
          0,
          2,
          4,
          6,
          8,
          10,
          12,
          14,
          16,
          18,
          20,
          22,
          24,
          26,
          28,
          30,
          32,
          34,
          36,
          38,
          40,
          42,
          44,
          46,
          48,
          50,
          52,
          54,
          56,
          58,
          60,
          62,
          64,
          66,
          68,
          70,
          72,
          74,
          76,
          78,
          80,
          82,
          84,
          86,
          88
         ],
         "xaxis": "x62",
         "xbins": {
          "end": 90,
          "size": 2,
          "start": 0
         },
         "y": [
          0.030453777957558943,
          0.028008045584044287,
          0.025870604191793652,
          0.023846593325373318,
          0.021697363264567743,
          0.019868612288827085,
          0.017873260448446938,
          0.016271209284594673,
          0.014621522597457142,
          0.012978843730156623,
          0.011078231309707783,
          0.009172687111131034,
          0.007575426119856169,
          0.006100113175261761,
          0.0048474792543114625,
          0.003915668428217525,
          0.0031906263934002124,
          0.002605834255859922,
          0.00208590226658363,
          0.0018197939646662615,
          0.0014744227625024147,
          0.0011283503909496567,
          0.0006581715516510333,
          0.00035354928330418235,
          0.0001315429603645405,
          0.000040457167839666416,
          0.000012968389436964571,
          0.000003667145236327125,
          8.236875599097434e-7,
          3.062048752948423e-7,
          8.341199807466266e-8,
          5.80814359476647e-8,
          3.6934063157051014e-8,
          2.7103355316729096e-8,
          5.0151168231766086e-8,
          1.0299853651171916e-7,
          1.0299853651171916e-7,
          1.0299853651171916e-7,
          1.0299853651171916e-7,
          1.0299853651171916e-7,
          1.0299853651171916e-7,
          1.0299853651171916e-7,
          1.0299853651171916e-7,
          1.0299853651171916e-7,
          1.0299853651171916e-7
         ],
         "yaxis": "y62"
        },
        {
         "histfunc": "sum",
         "marker": {
          "color": "#0072b2"
         },
         "type": "histogram",
         "x": [
          0,
          2,
          4,
          6,
          8,
          10,
          12,
          14,
          16,
          18,
          20,
          22,
          24,
          26,
          28,
          30,
          32,
          34,
          36,
          38,
          40,
          42,
          44,
          46,
          48,
          50,
          52,
          54,
          56,
          58,
          60,
          62,
          64,
          66,
          68,
          70,
          72,
          74,
          76,
          78,
          80,
          82,
          84,
          86,
          88
         ],
         "xaxis": "x63",
         "xbins": {
          "end": 90,
          "size": 2,
          "start": 0
         },
         "y": [
          0.027902133141479886,
          0.025839375872003335,
          0.024006282405565547,
          0.022019059864625934,
          0.0198967569888128,
          0.01808413509527646,
          0.01613464669510092,
          0.014586299743273643,
          0.012989677520585738,
          0.011428540467331586,
          0.009656663058294932,
          0.00790315153337249,
          0.006451209440900668,
          0.005128518176100645,
          0.004014509802884873,
          0.0032036669414996204,
          0.002580683116623382,
          0.0020847551338438308,
          0.0016504458287872569,
          0.0014371497543177664,
          0.0011543822475947913,
          0.0008706752596001725,
          0.0004911536379960318,
          0.0002539116209123916,
          0.00008855041068959183,
          0.000025254021818642785,
          0.0000075501284162248446,
          0.0000019794044560661517,
          4.074367294916227e-7,
          1.43613874265955e-7,
          3.640593490153212e-8,
          2.4900616153760633e-8,
          1.5472762799456158e-8,
          1.117087861120806e-8,
          2.1535655459928327e-8,
          4.6700335518129967e-8,
          4.6700335518129967e-8,
          4.6700335518129967e-8,
          4.6700335518129967e-8,
          4.6700335518129967e-8,
          4.6700335518129967e-8,
          4.6700335518129967e-8,
          4.6700335518129967e-8,
          4.6700335518129967e-8,
          4.6700335518129967e-8
         ],
         "yaxis": "y63"
        },
        {
         "histfunc": "sum",
         "marker": {
          "color": "#0072b2"
         },
         "type": "histogram",
         "x": [
          0,
          2,
          4,
          6,
          8,
          10,
          12,
          14,
          16,
          18,
          20,
          22,
          24,
          26,
          28,
          30,
          32,
          34,
          36,
          38,
          40,
          42,
          44,
          46,
          48,
          50,
          52,
          54,
          56,
          58,
          60,
          62,
          64,
          66,
          68,
          70,
          72,
          74,
          76,
          78,
          80,
          82,
          84,
          86,
          88
         ],
         "xaxis": "x64",
         "xbins": {
          "end": 90,
          "size": 2,
          "start": 0
         },
         "y": [
          0.025288517715783575,
          0.02361985818886608,
          0.022100537618920436,
          0.020177323626524923,
          0.018110225808313878,
          0.01633794500369338,
          0.014457327929379662,
          0.012978916645813878,
          0.011452794406896847,
          0.009986433390148887,
          0.008352706486685969,
          0.006756330906988783,
          0.005450389040525373,
          0.004276897223653763,
          0.0032968423056391905,
          0.0025987148700732337,
          0.0020691106767325995,
          0.0016530268891748665,
          0.0012940913856625618,
          0.0011249508602198678,
          0.0008957968935948222,
          0.0006656917858509207,
          0.00036284551712544494,
          0.00018034336054483186,
          0.000058841451622611414,
          0.00001552711906580737,
          0.00000432121442501199,
          0.000001048148126121657,
          1.9725056641671465e-7,
          6.583766461506888e-8,
          1.5502772461052024e-8,
          1.04112963398292e-8,
          6.318261128500437e-9,
          4.486095572106046e-9,
          9.02200588480178e-9,
          2.0695382659626064e-8,
          2.0695382659626064e-8,
          2.0695382659626064e-8,
          2.0695382659626064e-8,
          2.0695382659626064e-8,
          2.0695382659626064e-8,
          2.0695382659626064e-8,
          2.0695382659626064e-8,
          2.0695382659626064e-8,
          2.0695382659626064e-8
         ],
         "yaxis": "y64"
        },
        {
         "histfunc": "sum",
         "marker": {
          "color": "#0072b2"
         },
         "type": "histogram",
         "x": [
          0,
          2,
          4,
          6,
          8,
          10,
          12,
          14,
          16,
          18,
          20,
          22,
          24,
          26,
          28,
          30,
          32,
          34,
          36,
          38,
          40,
          42,
          44,
          46,
          48,
          50,
          52,
          54,
          56,
          58,
          60,
          62,
          64,
          66,
          68,
          70,
          72,
          74,
          76,
          78,
          80,
          82,
          84,
          86,
          88
         ],
         "xaxis": "x65",
         "xbins": {
          "end": 90,
          "size": 2,
          "start": 0
         },
         "y": [
          0.022672482670876005,
          0.02139284791694483,
          0.020185539192829928,
          0.01834935099133876,
          0.01636182221006797,
          0.014650977332697889,
          0.012858476045852843,
          0.011463038715991037,
          0.01002148048672866,
          0.008659541959310008,
          0.007169202639928182,
          0.005730973341848311,
          0.004568421324676884,
          0.0035379251252110576,
          0.002684806028786486,
          0.0020899684233844588,
          0.0016444591013169867,
          0.0012990366000480492,
          0.0010055067064436486,
          0.00087280414852804,
          0.0006889723054175323,
          0.0005043069644836971,
          0.0002653702884733491,
          0.00012667843861487743,
          0.00003859632963965784,
          0.000009403217313871696,
          0.00000243131080510365,
          5.44493207413411e-7,
          9.3462362045308e-8,
          2.950163991746753e-8,
          6.440803926851183e-9,
          4.2454280821400755e-9,
          2.5148738040118413e-9,
          1.7553617297809292e-9,
          3.68736465644358e-9,
          8.96378506733938e-9,
          8.96378506733938e-9,
          8.96378506733938e-9,
          8.96378506733938e-9,
          8.96378506733938e-9,
          8.96378506733938e-9,
          8.96378506733938e-9,
          8.96378506733938e-9,
          8.96378506733938e-9,
          8.96378506733938e-9
         ],
         "yaxis": "y65"
        },
        {
         "histfunc": "sum",
         "marker": {
          "color": "#0072b2"
         },
         "type": "histogram",
         "x": [
          0,
          2,
          4,
          6,
          8,
          10,
          12,
          14,
          16,
          18,
          20,
          22,
          24,
          26,
          28,
          30,
          32,
          34,
          36,
          38,
          40,
          42,
          44,
          46,
          48,
          50,
          52,
          54,
          56,
          58,
          60,
          62,
          64,
          66,
          68,
          70,
          72,
          74,
          76,
          78,
          80,
          82,
          84,
          86,
          88
         ],
         "xaxis": "x66",
         "xbins": {
          "end": 90,
          "size": 2,
          "start": 0
         },
         "y": [
          0.020107798324604246,
          0.01919799937566129,
          0.018291000407266386,
          0.01656037691378508,
          0.014672553687531084,
          0.013040830272467998,
          0.011351777346345342,
          0.010049144282624283,
          0.008702812586425577,
          0.007451510270324938,
          0.006106016654122616,
          0.004823393990930941,
          0.0037988931973956313,
          0.002903028967643304,
          0.0021680871845984333,
          0.0016664436736327647,
          0.0012955457257875541,
          0.0010117645526340217,
          0.0007742145882536942,
          0.0006711997314667787,
          0.0005252018872750107,
          0.00037854848043442763,
          0.00019213609922548485,
          0.00008800152717848708,
          0.000024990702570673916,
          0.000005609024287436945,
          0.0000013448019411825457,
          2.7748783961242947e-7,
          4.334266967206993e-8,
          1.2921460977006978e-8,
          2.6107440987357025e-9,
          1.6883408721985087e-9,
          9.757167177483777e-10,
          6.692396213788988e-10,
          1.4702698188603086e-9,
          3.794669192673615e-9,
          3.794669192673615e-9,
          3.794669192673615e-9,
          3.794669192673615e-9,
          3.794669192673615e-9,
          3.794669192673615e-9,
          3.794669192673615e-9,
          3.794669192673615e-9,
          3.794669192673615e-9,
          3.794669192673615e-9
         ],
         "yaxis": "y66"
        },
        {
         "histfunc": "sum",
         "marker": {
          "color": "#0072b2"
         },
         "type": "histogram",
         "x": [
          0,
          2,
          4,
          6,
          8,
          10,
          12,
          14,
          16,
          18,
          20,
          22,
          24,
          26,
          28,
          30,
          32,
          34,
          36,
          38,
          40,
          42,
          44,
          46,
          48,
          50,
          52,
          54,
          56,
          58,
          60,
          62,
          64,
          66,
          68,
          70,
          72,
          74,
          76,
          78,
          80,
          82,
          84,
          86,
          88
         ],
         "xaxis": "x67",
         "xbins": {
          "end": 90,
          "size": 2,
          "start": 0
         },
         "y": [
          0.01764085784299645,
          0.017070230844480137,
          0.01644349583343527,
          0.014832422468367122,
          0.013060084278629494,
          0.011521615244923771,
          0.00994743533102902,
          0.00874432741985825,
          0.007500577496675858,
          0.00636295072399878,
          0.00516046225660912,
          0.004027948981411935,
          0.003134009467891069,
          0.0023628546653666808,
          0.0017361596495817366,
          0.001317380936760778,
          0.001011748872024332,
          0.0007810055772099697,
          0.0005907368767366892,
          0.0005116093452250119,
          0.0003968104413634445,
          0.00028154824348691293,
          0.00013771834031306234,
          0.000060459239443737256,
          0.000015972789001063,
          0.0000032955160099719326,
          7.312390212341562e-7,
          1.3873215440804603e-7,
          1.9672292587467826e-8,
          5.531855211141147e-9,
          1.0324809624051836e-9,
          6.548182062964055e-10,
          3.689947763768392e-10,
          2.48607129487164e-10,
          5.71934068486687e-10,
          1.5700768918147774e-9,
          1.5700768918147774e-9,
          1.5700768918147774e-9,
          1.5700768918147774e-9,
          1.5700768918147774e-9,
          1.5700768918147774e-9,
          1.5700768918147774e-9,
          1.5700768918147774e-9,
          1.5700768918147774e-9,
          1.5700768918147774e-9
         ],
         "yaxis": "y67"
        },
        {
         "histfunc": "sum",
         "marker": {
          "color": "#0072b2"
         },
         "type": "histogram",
         "x": [
          0,
          2,
          4,
          6,
          8,
          10,
          12,
          14,
          16,
          18,
          20,
          22,
          24,
          26,
          28,
          30,
          32,
          34,
          36,
          38,
          40,
          42,
          44,
          46,
          48,
          50,
          52,
          54,
          56,
          58,
          60,
          62,
          64,
          66,
          68,
          70,
          72,
          74,
          76,
          78,
          80,
          82,
          84,
          86,
          88
         ],
         "xaxis": "x68",
         "xbins": {
          "end": 90,
          "size": 2,
          "start": 0
         },
         "y": [
          0.015309627262539415,
          0.015038996793994086,
          0.014665957910487004,
          0.013183973378716567,
          0.011538583199607743,
          0.01010394499716272,
          0.008652294249974213,
          0.0075525176086165486,
          0.006415597351634278,
          0.0053918485848917395,
          0.004327755535141006,
          0.00333750601867133,
          0.0025650498561258024,
          0.0019076801410695201,
          0.0013786425005587147,
          0.001032528223677687,
          0.0007832186599947475,
          0.0005975103242750394,
          0.00044666628051610895,
          0.0003865243746136909,
          0.00029714758490180786,
          0.00020748605382976882,
          0.00009772388618736394,
          0.000041079023727032374,
          0.00001007750155494908,
          0.0000019071497218175867,
          3.90880112130232e-7,
          6.804433763782287e-8,
          8.738858431777282e-9,
          2.3148545626782207e-9,
          3.983761417142965e-10,
          2.4768706286956687e-10,
          1.3602089029642244e-10,
          8.998340611349938e-11,
          2.1705153561820463e-10,
          6.349396312389446e-10,
          6.349396312389446e-10,
          6.349396312389446e-10,
          6.349396312389446e-10,
          6.349396312389446e-10,
          6.349396312389446e-10,
          6.349396312389446e-10,
          6.349396312389446e-10,
          6.349396312389446e-10,
          6.349396312389446e-10
         ],
         "yaxis": "y68"
        },
        {
         "histfunc": "sum",
         "marker": {
          "color": "#0072b2"
         },
         "type": "histogram",
         "x": [
          0,
          2,
          4,
          6,
          8,
          10,
          12,
          14,
          16,
          18,
          20,
          22,
          24,
          26,
          28,
          30,
          32,
          34,
          36,
          38,
          40,
          42,
          44,
          46,
          48,
          50,
          52,
          54,
          56,
          58,
          60,
          62,
          64,
          66,
          68,
          70,
          72,
          74,
          76,
          78,
          80,
          82,
          84,
          86,
          88
         ],
         "xaxis": "x69",
         "xbins": {
          "end": 90,
          "size": 2,
          "start": 0
         },
         "y": [
          0.013143144164989668,
          0.013127873730125658,
          0.01297735856749664,
          0.01162981774243777,
          0.010118711798232849,
          0.008795044841943666,
          0.007470064175531643,
          0.006474781076267744,
          0.005446115176468461,
          0.00453400179420521,
          0.0036014743666437496,
          0.0027438920881268504,
          0.0020827809838210366,
          0.0015277666169939623,
          0.0010855823034456695,
          0.0008023471422778912,
          0.0006010126829404215,
          0.00045305747002243393,
          0.0003346791114604525,
          0.00028944564930779855,
          0.00022054317299817857,
          0.0001515059794304967,
          0.0000686492530737302,
          0.0000276033957102836,
          0.000006276171799011362,
          0.0000010871047910774424,
          2.054049824459813e-7,
          3.2740743435581614e-8,
          3.799398478329524e-9,
          9.468263550620484e-10,
          1.499678311387502e-10,
          9.137089233787176e-11,
          4.8874230303549106e-11,
          3.173424663539295e-11,
          8.036144357470872e-11,
          2.5096228645752065e-10,
          2.5096228645752065e-10,
          2.5096228645752065e-10,
          2.5096228645752065e-10,
          2.5096228645752065e-10,
          2.5096228645752065e-10,
          2.5096228645752065e-10,
          2.5096228645752065e-10,
          2.5096228645752065e-10,
          2.5096228645752065e-10
         ],
         "yaxis": "y69"
        },
        {
         "histfunc": "sum",
         "marker": {
          "color": "#0072b2"
         },
         "type": "histogram",
         "x": [
          0,
          2,
          4,
          6,
          8,
          10,
          12,
          14,
          16,
          18,
          20,
          22,
          24,
          26,
          28,
          30,
          32,
          34,
          36,
          38,
          40,
          42,
          44,
          46,
          48,
          50,
          52,
          54,
          56,
          58,
          60,
          62,
          64,
          66,
          68,
          70,
          72,
          74,
          76,
          78,
          80,
          82,
          84,
          86,
          88
         ],
         "xaxis": "x70",
         "xbins": {
          "end": 90,
          "size": 2,
          "start": 0
         },
         "y": [
          0.011161528266928279,
          0.01135444645025249,
          0.011392571505629561,
          0.010181033365639839,
          0.008807734224686612,
          0.007598968115722115,
          0.006401625752520541,
          0.005509680781783596,
          0.004588216152049504,
          0.0037834723086985194,
          0.002974003180407697,
          0.0022383029685014936,
          0.00167781349535334,
          0.0012136441921422698,
          0.0008476624314376707,
          0.0006181480589610565,
          0.0004571666714765654,
          0.00034046916077569607,
          0.00024850229267539965,
          0.00021483690561094337,
          0.00016223603826989952,
          0.00010961636830075044,
          0.00004774160788974097,
          0.000018343823894618396,
          0.000003858394257489381,
          6.103560986850128e-7,
          1.0611128109232936e-7,
          1.545492022702708e-8,
          1.616722180921067e-9,
          3.785390496661502e-10,
          5.5080315748944545e-11,
          3.2872624214910055e-11,
          1.7117611749127264e-11,
          1.0904628438567293e-11,
          2.9026894034437932e-11,
          9.69502655283609e-11,
          9.69502655283609e-11,
          9.69502655283609e-11,
          9.69502655283609e-11,
          9.69502655283609e-11,
          9.69502655283609e-11,
          9.69502655283609e-11,
          9.69502655283609e-11,
          9.69502655283609e-11,
          9.69502655283609e-11
         ],
         "yaxis": "y70"
        },
        {
         "histfunc": "sum",
         "marker": {
          "color": "#0072b2"
         },
         "type": "histogram",
         "x": [
          0,
          2,
          4,
          6,
          8,
          10,
          12,
          14,
          16,
          18,
          20,
          22,
          24,
          26,
          28,
          30,
          32,
          34,
          36,
          38,
          40,
          42,
          44,
          46,
          48,
          50,
          52,
          54,
          56,
          58,
          60,
          62,
          64,
          66,
          68,
          70,
          72,
          74,
          76,
          78,
          80,
          82,
          84,
          86,
          88
         ],
         "xaxis": "x71",
         "xbins": {
          "end": 90,
          "size": 2,
          "start": 0
         },
         "y": [
          0.009376435980201542,
          0.009730464971450933,
          0.009922401818018947,
          0.008845108680984232,
          0.007609732843185513,
          0.006516894133811822,
          0.0054453917044539404,
          0.004653672244898018,
          0.0038362618467178648,
          0.003133028199852046,
          0.002436946653218367,
          0.0018116637200438076,
          0.0013408989452070054,
          0.0009563319300192978,
          0.0006563450347823721,
          0.0004721636298916364,
          0.0003447115225837447,
          0.00025358226002410525,
          0.00018284729753868323,
          0.00015805290165434285,
          0.00011828600024020538,
          0.00007858249599699422,
          0.0000328688420800178,
          0.000012055971064677544,
          0.00000234146792085658,
          3.375362528930427e-7,
          5.3888404564952e-8,
          7.15692859518501e-9,
          6.733120094185915e-10,
          1.4792608337392588e-10,
          1.9737323196260488e-11,
          1.153407708651628e-11,
          5.843799884206799e-12,
          3.650988513635823e-12,
          1.0228722025581997e-11,
          3.660615014024931e-11,
          3.660615014024931e-11,
          3.660615014024931e-11,
          3.660615014024931e-11,
          3.660615014024931e-11,
          3.660615014024931e-11,
          3.660615014024931e-11,
          3.660615014024931e-11,
          3.660615014024931e-11,
          3.660615014024931e-11
         ],
         "yaxis": "y71"
        },
        {
         "histfunc": "sum",
         "marker": {
          "color": "#0072b2"
         },
         "type": "histogram",
         "x": [
          0,
          2,
          4,
          6,
          8,
          10,
          12,
          14,
          16,
          18,
          20,
          22,
          24,
          26,
          28,
          30,
          32,
          34,
          36,
          38,
          40,
          42,
          44,
          46,
          48,
          50,
          52,
          54,
          56,
          58,
          60,
          62,
          64,
          66,
          68,
          70,
          72,
          74,
          76,
          78,
          80,
          82,
          84,
          86,
          88
         ],
         "xaxis": "x72",
         "xbins": {
          "end": 90,
          "size": 2,
          "start": 0
         },
         "y": [
          0.007791869305297499,
          0.008262229843456235,
          0.008573762437976125,
          0.007626176406615933,
          0.006525906591836255,
          0.005547485672147367,
          0.004597702494068528,
          0.003901513867604664,
          0.0031833173856776076,
          0.0025745594235934395,
          0.001981500146829373,
          0.0014549336129237977,
          0.001063165074586177,
          0.0007474959415363178,
          0.0005039536104038344,
          0.0003575710693851348,
          0.00025764834289958993,
          0.00018718737718106558,
          0.00013332237617097486,
          0.00011525181696182637,
          0.00008547747035600098,
          0.000055818865130536105,
          0.000022402573259003614,
          0.00000783609125660963,
          0.0000014026187877444649,
          1.8385812169822704e-7,
          2.6903716518976524e-8,
          3.2513841646105152e-9,
          2.744465252062711e-10,
          5.6503135882667674e-11,
          6.900389492420176e-12,
          3.946874251630537e-12,
          1.944627495945421e-12,
          1.1910417251762066e-12,
          3.5164962323917054e-12,
          1.3509013129662951e-11,
          1.3509013129662951e-11,
          1.3509013129662951e-11,
          1.3509013129662951e-11,
          1.3509013129662951e-11,
          1.3509013129662951e-11,
          1.3509013129662951e-11,
          1.3509013129662951e-11,
          1.3509013129662951e-11,
          1.3509013129662951e-11
         ],
         "yaxis": "y72"
        },
        {
         "histfunc": "sum",
         "marker": {
          "color": "#0072b2"
         },
         "type": "histogram",
         "x": [
          0,
          2,
          4,
          6,
          8,
          10,
          12,
          14,
          16,
          18,
          20,
          22,
          24,
          26,
          28,
          30,
          32,
          34,
          36,
          38,
          40,
          42,
          44,
          46,
          48,
          50,
          52,
          54,
          56,
          58,
          60,
          62,
          64,
          66,
          68,
          70,
          72,
          74,
          76,
          78,
          80,
          82,
          84,
          86,
          88
         ],
         "xaxis": "x73",
         "xbins": {
          "end": 90,
          "size": 2,
          "start": 0
         },
         "y": [
          0.006405237882664412,
          0.006951155476479826,
          0.0073499717528308995,
          0.00652533603306603,
          0.0055549292317398635,
          0.004687283179657747,
          0.0038532350498616252,
          0.003246672806493475,
          0.002621554949050907,
          0.002099454218863583,
          0.0015987688887255432,
          0.001159352868273971,
          0.0008362914180011387,
          0.0005795513613437967,
          0.00038370548354377406,
          0.0002684738786314485,
          0.00019089265593177115,
          0.00013694647349044616,
          0.00009633273671136513,
          0.00008329996345014599,
          0.00006122126169737663,
          0.000039286284696985946,
          0.000015116023056345452,
          0.00000503711349666911,
          8.293940620656842e-7,
          9.864395377727638e-8,
          1.3204209755315097e-8,
          1.4490773680478465e-9,
          1.0948623561319979e-10,
          2.1095706090233782e-11,
          2.3537074319097387e-12,
          1.3171817229466688e-12,
          6.30763321928331e-13,
          3.785823831821358e-13,
          1.1794157077026493e-12,
          4.872565706565405e-12,
          4.872565706565405e-12,
          4.872565706565405e-12,
          4.872565706565405e-12,
          4.872565706565405e-12,
          4.872565706565405e-12,
          4.872565706565405e-12,
          4.872565706565405e-12,
          4.872565706565405e-12,
          4.872565706565405e-12
         ],
         "yaxis": "y73"
        },
        {
         "histfunc": "sum",
         "marker": {
          "color": "#0072b2"
         },
         "type": "histogram",
         "x": [
          0,
          2,
          4,
          6,
          8,
          10,
          12,
          14,
          16,
          18,
          20,
          22,
          24,
          26,
          28,
          30,
          32,
          34,
          36,
          38,
          40,
          42,
          44,
          46,
          48,
          50,
          52,
          54,
          56,
          58,
          60,
          62,
          64,
          66,
          68,
          70,
          72,
          74,
          76,
          78,
          80,
          82,
          84,
          86,
          88
         ],
         "xaxis": "x74",
         "xbins": {
          "end": 90,
          "size": 2,
          "start": 0
         },
         "y": [
          0.0052085711982777045,
          0.005794457532033383,
          0.006251143702042211,
          0.005541039885678986,
          0.004693344592745364,
          0.003931114325486392,
          0.0032054059182458506,
          0.0026817105378821537,
          0.0021426207900892224,
          0.0016989271996383456,
          0.0012800318064131204,
          0.0009166319220475365,
          0.0006526297470537176,
          0.0004457156979484139,
          0.00028970403141462617,
          0.00019985339129406052,
          0.00014019786539293955,
          0.00009929828560383633,
          0.00006897649222382458,
          0.00005967515605702893,
          0.00004345954653095981,
          0.000027397169099319422,
          0.000010097254976945863,
          0.0000032022036744502764,
          4.841188821506347e-7,
          5.212947855958398e-8,
          6.370825876091278e-9,
          6.335728323670566e-10,
          4.274858295931479e-11,
          7.698556519458631e-12,
          7.832941320433452e-13,
          4.287064992872693e-13,
          1.994276465879668e-13,
          1.1724943010239144e-13,
          3.8591497358972795e-13,
          1.7177355275743036e-12,
          1.7177355275743036e-12,
          1.7177355275743036e-12,
          1.7177355275743036e-12,
          1.7177355275743036e-12,
          1.7177355275743036e-12,
          1.7177355275743036e-12,
          1.7177355275743036e-12,
          1.7177355275743036e-12,
          1.7177355275743036e-12
         ],
         "yaxis": "y74"
        },
        {
         "histfunc": "sum",
         "marker": {
          "color": "#0072b2"
         },
         "type": "histogram",
         "x": [
          0,
          2,
          4,
          6,
          8,
          10,
          12,
          14,
          16,
          18,
          20,
          22,
          24,
          26,
          28,
          30,
          32,
          34,
          36,
          38,
          40,
          42,
          44,
          46,
          48,
          50,
          52,
          54,
          56,
          58,
          60,
          62,
          64,
          66,
          68,
          70,
          72,
          74,
          76,
          78,
          80,
          82,
          84,
          86,
          88
         ],
         "xaxis": "x75",
         "xbins": {
          "end": 90,
          "size": 2,
          "start": 0
         },
         "y": [
          0.004189784483863937,
          0.004785910993707745,
          0.005274640726600934,
          0.004669517765958456,
          0.003935977322958674,
          0.0032724998553981676,
          0.002646753297663387,
          0.002198635724253001,
          0.0017379568495733012,
          0.0013642941038020551,
          0.0010169493589899966,
          0.0007190865867505956,
          0.0005052756584092879,
          0.0003400218596466951,
          0.00021690030355856475,
          0.0001474995952501047,
          0.00010206665830089923,
          0.00007135908139350608,
          0.00004894233265337122,
          0.00004237347080969478,
          0.00003057738950602588,
          0.000018931071452199594,
          0.000006677213133374273,
          0.0000020132658645035786,
          2.7894138441207155e-7,
          2.713448281680802e-8,
          3.021775809548378e-9,
          2.7175854248545503e-10,
          1.633594769267121e-11,
          2.7461120930084234e-12,
          2.5432601622980374e-13,
          1.3608065937909904e-13,
          6.14600939359723e-14,
          3.538164292413565e-14,
          1.231925153631244e-13,
          5.918605664046321e-13,
          5.918605664046321e-13,
          5.918605664046321e-13,
          5.918605664046321e-13,
          5.918605664046321e-13,
          5.918605664046321e-13,
          5.918605664046321e-13,
          5.918605664046321e-13,
          5.918605664046321e-13,
          5.918605664046321e-13
         ],
         "yaxis": "y75"
        },
        {
         "histfunc": "sum",
         "marker": {
          "color": "#0072b2"
         },
         "type": "histogram",
         "x": [
          0,
          2,
          4,
          6,
          8,
          10,
          12,
          14,
          16,
          18,
          20,
          22,
          24,
          26,
          28,
          30,
          32,
          34,
          36,
          38,
          40,
          42,
          44,
          46,
          48,
          50,
          52,
          54,
          56,
          58,
          60,
          62,
          64,
          66,
          68,
          70,
          72,
          74,
          76,
          78,
          80,
          82,
          84,
          86,
          88
         ],
         "xaxis": "x76",
         "xbins": {
          "end": 90,
          "size": 2,
          "start": 0
         },
         "y": [
          0.0033339148269767123,
          0.003916629605261466,
          0.004415560842302362,
          0.0039052167968295698,
          0.003276340025182708,
          0.002704039786059683,
          0.002169285869371206,
          0.001789215568885428,
          0.0013990717575803515,
          0.001087191647346202,
          0.0008017175408094294,
          0.0005597244412407652,
          0.00038809868798447535,
          0.00025729932979243994,
          0.00016103299453023619,
          0.00010792944811059544,
          0.00007365745427066778,
          0.00005082452800462013,
          0.00003441316191248154,
          0.000029822650308800296,
          0.0000213229810393864,
          0.000012961327155232075,
          0.0000043713269728499704,
          0.0000012518095832350774,
          1.5865132823129604e-7,
          1.3911852796353955e-8,
          1.4090030370376579e-9,
          1.1435404945634064e-10,
          6.109805102125071e-12,
          9.574606638080896e-13,
          8.056570743620853e-14,
          4.2126435013323435e-14,
          1.8462478309031968e-14,
          1.0403085432997889e-14,
          3.8365864359659494e-14,
          1.9931823191282036e-13,
          1.9931823191282036e-13,
          1.9931823191282036e-13,
          1.9931823191282036e-13,
          1.9931823191282036e-13,
          1.9931823191282036e-13,
          1.9931823191282036e-13,
          1.9931823191282036e-13,
          1.9931823191282036e-13,
          1.9931823191282036e-13
         ],
         "yaxis": "y76"
        },
        {
         "histfunc": "sum",
         "marker": {
          "color": "#0072b2"
         },
         "type": "histogram",
         "x": [
          0,
          2,
          4,
          6,
          8,
          10,
          12,
          14,
          16,
          18,
          20,
          22,
          24,
          26,
          28,
          30,
          32,
          34,
          36,
          38,
          40,
          42,
          44,
          46,
          48,
          50,
          52,
          54,
          56,
          58,
          60,
          62,
          64,
          66,
          68,
          70,
          72,
          74,
          76,
          78,
          80,
          82,
          84,
          86,
          88
         ],
         "xaxis": "x77",
         "xbins": {
          "end": 90,
          "size": 2,
          "start": 0
         },
         "y": [
          0.0026242611696806186,
          0.0031758240902289604,
          0.0036672325556145555,
          0.003241235790584624,
          0.0027070207287853056,
          0.0022177674146475253,
          0.0017647898924664648,
          0.0014452403005684612,
          0.0011177593605552992,
          0.0008597438626121825,
          0.0006271723990375366,
          0.00043228904362288464,
          0.0002957387676715819,
          0.00019313161855337216,
          0.00011855467010553519,
          0.00007829948497211519,
          0.00005269141088249883,
          0.00003587682982838139,
          0.000023978435550527007,
          0.00002080415861788056,
          0.000014737632958461887,
          0.000008792826919505274,
          0.0000028330711695232427,
          7.697689293414969e-7,
          8.907263557753816e-8,
          7.025442065834668e-9,
          6.458695388947038e-10,
          4.720647557555236e-11,
          2.2365097263973483e-12,
          3.2630020160446947e-13,
          2.4900219891086217e-14,
          1.2718473135784796e-14,
          5.405995743276599e-15,
          2.980322420452736e-15,
          1.1656646395233638e-14,
          6.560533538461351e-14,
          6.560533538461351e-14,
          6.560533538461351e-14,
          6.560533538461351e-14,
          6.560533538461351e-14,
          6.560533538461351e-14,
          6.560533538461351e-14,
          6.560533538461351e-14,
          6.560533538461351e-14,
          6.560533538461351e-14
         ],
         "yaxis": "y77"
        },
        {
         "histfunc": "sum",
         "marker": {
          "color": "#0072b2"
         },
         "type": "histogram",
         "x": [
          0,
          2,
          4,
          6,
          8,
          10,
          12,
          14,
          16,
          18,
          20,
          22,
          24,
          26,
          28,
          30,
          32,
          34,
          36,
          38,
          40,
          42,
          44,
          46,
          48,
          50,
          52,
          54,
          56,
          58,
          60,
          62,
          64,
          66,
          68,
          70,
          72,
          74,
          76,
          78,
          80,
          82,
          84,
          86,
          88
         ],
         "xaxis": "x78",
         "xbins": {
          "end": 90,
          "size": 2,
          "start": 0
         },
         "y": [
          0.002043380975547712,
          0.0025515050170952145,
          0.0030216949443279233,
          0.0026697368980987766,
          0.0022200381086100967,
          0.0018054621926299227,
          0.0014250894475763259,
          0.0011587385742152536,
          0.0008862657509792758,
          0.0006746785975284059,
          0.0004868509056354931,
          0.00033126919996519043,
          0.00022357674525473253,
          0.0001437973934284425,
          0.0000865508927442612,
          0.000056318058663171534,
          0.00003736399146842496,
          0.000025099864113117518,
          0.000016556687996350705,
          0.000014384865284512817,
          0.000010095779388699318,
          0.000005910338433848702,
          0.000001817723469031258,
          4.6813104844076544e-7,
          4.936449784332231e-8,
          3.494520541519152e-9,
          2.9104548055917706e-10,
          1.9117596532157774e-11,
          8.012621672063504e-13,
          1.0869447406136168e-13,
          7.508439066892156e-15,
          3.744874013566895e-15,
          1.5429445673272938e-15,
          8.319193959892309e-16,
          3.4551764319080724e-15,
          2.110550787742641e-14,
          2.110550787742641e-14,
          2.110550787742641e-14,
          2.110550787742641e-14,
          2.110550787742641e-14,
          2.110550787742641e-14,
          2.110550787742641e-14,
          2.110550787742641e-14,
          2.110550787742641e-14,
          2.110550787742641e-14
         ],
         "yaxis": "y78"
        },
        {
         "histfunc": "sum",
         "marker": {
          "color": "#0072b2"
         },
         "type": "histogram",
         "x": [
          0,
          2,
          4,
          6,
          8,
          10,
          12,
          14,
          16,
          18,
          20,
          22,
          24,
          26,
          28,
          30,
          32,
          34,
          36,
          38,
          40,
          42,
          44,
          46,
          48,
          50,
          52,
          54,
          56,
          58,
          60,
          62,
          64,
          66,
          68,
          70,
          72,
          74,
          76,
          78,
          80,
          82,
          84,
          86,
          88
         ],
         "xaxis": "x79",
         "xbins": {
          "end": 90,
          "size": 2,
          "start": 0
         },
         "y": [
          0.0015739153623908525,
          0.0020311054246691536,
          0.0024701445760866537,
          0.0021823211548105126,
          0.0018071554500368626,
          0.0014589159701200605,
          0.001142257811646164,
          0.0009221442716971848,
          0.0006974080295218818,
          0.0005253994996576616,
          0.0003750148971388072,
          0.00025188062522319896,
          0.00016768618592903414,
          0.00010620172133530134,
          0.00006265756674779632,
          0.00004016116178428598,
          0.00002626376688123103,
          0.000017403848055041338,
          0.000011328761619016662,
          0.000009858552744224606,
          0.000006854633952259688,
          0.000003936415642640761,
          0.0000011545806708639602,
          2.815525588650734e-7,
          2.7005671115318058e-8,
          1.7120908110306653e-9,
          1.2893181649668432e-10,
          7.59533076863217e-12,
          2.8095637783968375e-13,
          3.539087584327204e-14,
          2.2089691978164703e-15,
          1.0753786547684287e-15,
          4.2925352556867876e-16,
          2.2626436697659114e-16,
          9.991594634083388e-16,
          6.636161827880022e-15,
          6.636161827880022e-15,
          6.636161827880022e-15,
          6.636161827880022e-15,
          6.636161827880022e-15,
          6.636161827880022e-15,
          6.636161827880022e-15,
          6.636161827880022e-15,
          6.636161827880022e-15,
          6.636161827880022e-15
         ],
         "yaxis": "y79"
        },
        {
         "histfunc": "sum",
         "marker": {
          "color": "#0072b2"
         },
         "type": "histogram",
         "x": [
          0,
          2,
          4,
          6,
          8,
          10,
          12,
          14,
          16,
          18,
          20,
          22,
          24,
          26,
          28,
          30,
          32,
          34,
          36,
          38,
          40,
          42,
          44,
          46,
          48,
          50,
          52,
          54,
          56,
          58,
          60,
          62,
          64,
          66,
          68,
          70,
          72,
          74,
          76,
          78,
          80,
          82,
          84,
          86,
          88
         ],
         "xaxis": "x80",
         "xbins": {
          "end": 90,
          "size": 2,
          "start": 0
         },
         "y": [
          0.0011992318120457514,
          0.0016020075446182022,
          0.002003335636318972,
          0.0017703585066104702,
          0.0014601478332239121,
          0.0011701502714876163,
          0.0009087805955679652,
          0.0007284173596503955,
          0.0005446496705746215,
          0.0004060198331555304,
          0.00028664511893098364,
          0.00019002701213007754,
          0.00012477288880573424,
          0.00007780276052990691,
          0.0000449805319431879,
          0.0000283945297572112,
          0.000018299999571324392,
          0.000011960127208334917,
          0.000007681530610413477,
          0.000006696875915585985,
          0.000004612761326023024,
          0.0000025977318652406726,
          7.260171650546095e-7,
          1.6746978957221685e-7,
          1.4583610456192665e-8,
          8.262115327718402e-10,
          5.6149064796995645e-11,
          2.9603412515820397e-12,
          9.641920911395387e-14,
          1.1263383656047142e-14,
          6.340495233282643e-16,
          3.0116713527919503e-16,
          1.1640358097889962e-16,
          5.996087957839332e-17,
          2.818820067085567e-16,
          2.039401066931947e-15,
          2.039401066931947e-15,
          2.039401066931947e-15,
          2.039401066931947e-15,
          2.039401066931947e-15,
          2.039401066931947e-15,
          2.039401066931947e-15,
          2.039401066931947e-15,
          2.039401066931947e-15,
          2.039401066931947e-15
         ],
         "yaxis": "y80"
        },
        {
         "histfunc": "sum",
         "marker": {
          "color": "#0072b2"
         },
         "type": "histogram",
         "x": [
          0,
          2,
          4,
          6,
          8,
          10,
          12,
          14,
          16,
          18,
          20,
          22,
          24,
          26,
          28,
          30,
          32,
          34,
          36,
          38,
          40,
          42,
          44,
          46,
          48,
          50,
          52,
          54,
          56,
          58,
          60,
          62,
          64,
          66,
          68,
          70,
          72,
          74,
          76,
          78,
          80,
          82,
          84,
          86,
          88
         ],
         "xaxis": "x81",
         "xbins": {
          "end": 90,
          "size": 2,
          "start": 0
         },
         "y": [
          0.000903888048637723,
          0.0012519664750582835,
          0.0016119243229044107,
          0.0014252667130504927,
          0.001171020179269394,
          0.0009315849775175921,
          0.0007176734002979327,
          0.0005711230766380341,
          0.0004221384126481129,
          0.00031136494364967593,
          0.00021741228213793975,
          0.00014224689339703122,
          0.00009210759870084081,
          0.00005653812030258249,
          0.000032020251369941824,
          0.000019903658662581053,
          0.000012639661931115684,
          0.000008145972090585239,
          0.000005161422920721204,
          0.0000045090293523690075,
          0.000003076592664397292,
          0.0000016986052736869157,
          4.519554554196353e-7,
          9.851410904993929e-8,
          7.774007700035062e-9,
          3.927181444282219e-10,
          2.4038542779595775e-11,
          1.1319273346100368e-12,
          3.238535381555238e-14,
          3.503806919765502e-15,
          1.7756207914357579e-16,
          8.225753855461623e-17,
          3.0768599863624196e-17,
          1.548234497570058e-17,
          7.758323314317472e-17,
          6.125659177210304e-16,
          6.125659177210304e-16,
          6.125659177210304e-16,
          6.125659177210304e-16,
          6.125659177210304e-16,
          6.125659177210304e-16,
          6.125659177210304e-16,
          6.125659177210304e-16,
          6.125659177210304e-16,
          6.125659177210304e-16
         ],
         "yaxis": "y81"
        },
        {
         "histfunc": "sum",
         "marker": {
          "color": "#0072b2"
         },
         "type": "histogram",
         "x": [
          0,
          2,
          4,
          6,
          8,
          10,
          12,
          14,
          16,
          18,
          20,
          22,
          24,
          26,
          28,
          30,
          32,
          34,
          36,
          38,
          40,
          42,
          44,
          46,
          48,
          50,
          52,
          54,
          56,
          58,
          60,
          62,
          64,
          66,
          68,
          70,
          72,
          74,
          76,
          78,
          80,
          82,
          84,
          86,
          88
         ],
         "xaxis": "x82",
         "xbins": {
          "end": 90,
          "size": 2,
          "start": 0
         },
         "y": [
          0.000673931700298581,
          0.0009694309784577897,
          0.0012867529396085066,
          0.0011387369772235686,
          0.0009321765291661488,
          0.0007361609815998169,
          0.0005625583179860201,
          0.00044447479286522734,
          0.0003247131117982094,
          0.00023695018489450816,
          0.00016363156786739955,
          0.0001056518520071064,
          0.00006745637147450961,
          0.00004075403678867358,
          0.00002260341063490485,
          0.000013832509301510502,
          0.000008653865693762716,
          0.000005498783740691237,
          0.000003436746350051618,
          0.0000030091621832572554,
          0.000002033814394433993,
          0.0000011005135349297737,
          2.7852906120407086e-7,
          5.731197263843699e-8,
          4.090672467438595e-9,
          1.8386367615118951e-10,
          1.0117120699778555e-11,
          4.2459708068557596e-13,
          1.064618819979979e-14,
          1.0653815617884744e-15,
          4.8514413335595033e-17,
          2.191118204749231e-17,
          7.927532842947819e-18,
          3.895133977736989e-18,
          2.08322589197293e-17,
          1.7983223028664715e-16,
          1.7983223028664715e-16,
          1.7983223028664715e-16,
          1.7983223028664715e-16,
          1.7983223028664715e-16,
          1.7983223028664715e-16,
          1.7983223028664715e-16,
          1.7983223028664715e-16,
          1.7983223028664715e-16,
          1.7983223028664715e-16
         ],
         "yaxis": "y82"
        },
        {
         "histfunc": "sum",
         "marker": {
          "color": "#0072b2"
         },
         "type": "histogram",
         "x": [
          0,
          2,
          4,
          6,
          8,
          10,
          12,
          14,
          16,
          18,
          20,
          22,
          24,
          26,
          28,
          30,
          32,
          34,
          36,
          38,
          40,
          42,
          44,
          46,
          48,
          50,
          52,
          54,
          56,
          58,
          60,
          62,
          64,
          66,
          68,
          70,
          72,
          74,
          76,
          78,
          80,
          82,
          84,
          86,
          88
         ],
         "xaxis": "x83",
         "xbins": {
          "end": 90,
          "size": 2,
          "start": 0
         },
         "y": [
          0.0004970577660027359,
          0.00074376740049361,
          0.0010190729596944274,
          0.0009029070937243782,
          0.0007365431296775184,
          0.0005774210244821153,
          0.00043770463668248513,
          0.0003433464571990052,
          0.0002478860595844906,
          0.00017894075355020042,
          0.00012220630177663285,
          0.0000778607014009516,
          0.00004901203999353274,
          0.00002913954788502733,
          0.000015822397866197137,
          0.000009531008306219908,
          0.000005873204965673759,
          0.000003678806667973403,
          0.0000022676805106212603,
          0.0000019904893155182636,
          0.0000013325543566776913,
          7.0648522213958e-7,
          1.699305784629092e-7,
          3.2974425910441504e-8,
          2.1247815135528794e-9,
          8.478834707832076e-11,
          4.185900584494592e-12,
          1.5624896362295417e-13,
          3.425311274206252e-15,
          3.166386377201813e-16,
          1.2932570878523843e-17,
          5.69217010897072e-18,
          1.9909359508784073e-18,
          9.548276252750221e-19,
          5.457237142464896e-18,
          5.159964867200837e-17,
          5.159964867200837e-17,
          5.159964867200837e-17,
          5.159964867200837e-17,
          5.159964867200837e-17,
          5.159964867200837e-17,
          5.159964867200837e-17,
          5.159964867200837e-17,
          5.159964867200837e-17,
          5.159964867200837e-17
         ],
         "yaxis": "y83"
        },
        {
         "histfunc": "sum",
         "marker": {
          "color": "#0072b2"
         },
         "type": "histogram",
         "x": [
          0,
          2,
          4,
          6,
          8,
          10,
          12,
          14,
          16,
          18,
          20,
          22,
          24,
          26,
          28,
          30,
          32,
          34,
          36,
          38,
          40,
          42,
          44,
          46,
          48,
          50,
          52,
          54,
          56,
          58,
          60,
          62,
          64,
          66,
          68,
          70,
          72,
          74,
          76,
          78,
          80,
          82,
          84,
          86,
          88
         ],
         "xaxis": "x84",
         "xbins": {
          "end": 90,
          "size": 2,
          "start": 0
         },
         "y": [
          0.00036264991454416505,
          0.0005653969173853044,
          0.0008007094895860407,
          0.0007104852522406057,
          0.0005776495456106137,
          0.0004495540042729701,
          0.00033803964727723533,
          0.0002632606876606285,
          0.00018780697072986856,
          0.00013409924849407687,
          0.00009056567004826978,
          0.0000569333032881176,
          0.00003532928664109706,
          0.00002066702161523762,
          0.000010982967922382164,
          0.000006510982776033897,
          0.0000039512133256064615,
          0.0000024392925717166406,
          0.0000014827659639646986,
          0.0000013050460265199587,
          8.653481120245661e-7,
          4.4938187232775445e-7,
          1.0263575806421972e-7,
          1.8762646357119116e-8,
          1.0894409129075364e-9,
          3.85124951388423e-11,
          1.702566453820225e-12,
          5.640777539459089e-14,
          1.078614763879614e-15,
          9.19848622265724e-17,
          3.3635080509634103e-18,
          1.4421548648260603e-18,
          4.873774716811754e-19,
          2.2805755605601576e-19,
          1.3946886255885765e-18,
          1.4470731060470422e-17,
          1.4470731060470422e-17,
          1.4470731060470422e-17,
          1.4470731060470422e-17,
          1.4470731060470422e-17,
          1.4470731060470422e-17,
          1.4470731060470422e-17,
          1.4470731060470422e-17,
          1.4470731060470422e-17,
          1.4470731060470422e-17
         ],
         "yaxis": "y84"
        },
        {
         "histfunc": "sum",
         "marker": {
          "color": "#0072b2"
         },
         "type": "histogram",
         "x": [
          0,
          2,
          4,
          6,
          8,
          10,
          12,
          14,
          16,
          18,
          20,
          22,
          24,
          26,
          28,
          30,
          32,
          34,
          36,
          38,
          40,
          42,
          44,
          46,
          48,
          50,
          52,
          54,
          56,
          58,
          60,
          62,
          64,
          66,
          68,
          70,
          72,
          74,
          76,
          78,
          80,
          82,
          84,
          86,
          88
         ],
         "xaxis": "x85",
         "xbins": {
          "end": 90,
          "size": 2,
          "start": 0
         },
         "y": [
          0.0002617327285996814,
          0.0004258589559152434,
          0.000624171969789888,
          0.0005548293550966781,
          0.0004496731156478194,
          0.00034740864979480884,
          0.00025913556909559705,
          0.0002003583556792097,
          0.00014121428677051512,
          0.00009972597667506912,
          0.00006660044033832427,
          0.00004130677857077924,
          0.00002526499658844692,
          0.000014539714761808433,
          0.000007559902901124605,
          0.000004409852528010863,
          0.0000026349726533994633,
          0.0000016030144034591306,
          9.60770595290051e-7,
          8.480930987235805e-7,
          5.569664914630202e-7,
          2.8322578584266854e-7,
          6.136941606980929e-8,
          1.0558346398461706e-8,
          5.513951128091054e-10,
          1.7230282653799526e-11,
          6.807731502506071e-13,
          1.9977561890655738e-14,
          3.324245494355273e-16,
          2.6119360391627717e-17,
          8.5348048788575265e-19,
          3.5634272268344967e-19,
          1.1629539963950004e-19,
          5.307388405795396e-20,
          3.4773600692145435e-19,
          3.9664201264721966e-18,
          3.9664201264721966e-18,
          3.9664201264721966e-18,
          3.9664201264721966e-18,
          3.9664201264721966e-18,
          3.9664201264721966e-18,
          3.9664201264721966e-18,
          3.9664201264721966e-18,
          3.9664201264721966e-18,
          3.9664201264721966e-18
         ],
         "yaxis": "y85"
        },
        {
         "histfunc": "sum",
         "marker": {
          "color": "#0072b2"
         },
         "type": "histogram",
         "x": [
          0,
          2,
          4,
          6,
          8,
          10,
          12,
          14,
          16,
          18,
          20,
          22,
          24,
          26,
          28,
          30,
          32,
          34,
          36,
          38,
          40,
          42,
          44,
          46,
          48,
          50,
          52,
          54,
          56,
          58,
          60,
          62,
          64,
          66,
          68,
          70,
          72,
          74,
          76,
          78,
          80,
          82,
          84,
          86,
          88
         ],
         "xaxis": "x86",
         "xbins": {
          "end": 90,
          "size": 2,
          "start": 0
         },
         "y": [
          0.00018686080846424107,
          0.0003178148494871831,
          0.00048271760268929774,
          0.00042998782101419354,
          0.0003474526632853461,
          0.0002664826041727683,
          0.000197178388697779,
          0.00015135504893992242,
          0.00010537871331675535,
          0.00007359615488630954,
          0.000048599756084287843,
          0.00002973604080919487,
          0.000017924865512038985,
          0.00001014651234578947,
          0.000005160143841051583,
          0.0000029612250009842495,
          0.000001741855245760787,
          0.000001044065052518349,
          6.169119042530055e-7,
          5.46277045928499e-7,
          3.5530358137648426e-7,
          1.768702563345913e-7,
          3.632715824317262e-8,
          5.8760121213615056e-9,
          2.7548120525234603e-10,
          7.59291267305676e-12,
          2.67598669437331e-13,
          6.941090111691218e-15,
          1.0027212731475372e-16,
          7.249406202980107e-18,
          2.1129452458254903e-19,
          8.587086829139568e-20,
          2.704883365893158e-20,
          1.2034670159785314e-20,
          8.458435415519763e-20,
          1.0626040514364895e-18,
          1.0626040514364895e-18,
          1.0626040514364895e-18,
          1.0626040514364895e-18,
          1.0626040514364895e-18,
          1.0626040514364895e-18,
          1.0626040514364895e-18,
          1.0626040514364895e-18,
          1.0626040514364895e-18,
          1.0626040514364895e-18
         ],
         "yaxis": "y86"
        },
        {
         "histfunc": "sum",
         "marker": {
          "color": "#0072b2"
         },
         "type": "histogram",
         "x": [
          0,
          2,
          4,
          6,
          8,
          10,
          12,
          14,
          16,
          18,
          20,
          22,
          24,
          26,
          28,
          30,
          32,
          34,
          36,
          38,
          40,
          42,
          44,
          46,
          48,
          50,
          52,
          54,
          56,
          58,
          60,
          62,
          64,
          66,
          68,
          70,
          72,
          74,
          76,
          78,
          80,
          82,
          84,
          86,
          88
         ],
         "xaxis": "x87",
         "xbins": {
          "end": 90,
          "size": 2,
          "start": 0
         },
         "y": [
          0.00013196785315956224,
          0.00023500583031960576,
          0.00037037494411724855,
          0.00033070841018103235,
          0.0002664775339870288,
          0.00020289277391740763,
          0.00014892393194279892,
          0.00011348915787724708,
          0.00007804309273726146,
          0.00005389727687575755,
          0.00003519124014002395,
          0.00002123986905775834,
          0.000012616673207554116,
          0.000007023613389298851,
          0.000003492661415897741,
          0.0000019714627235345427,
          0.0000011414011958387633,
          6.739602716275025e-7,
          3.9253912673348913e-7,
          3.4876596576306794e-7,
          2.246479204557768e-7,
          1.094413883221296e-7,
          2.128810475165889e-8,
          3.2341072894333133e-9,
          1.3585976731288315e-10,
          3.295715131609811e-12,
          1.0340669666031169e-13,
          2.3658900938104986e-15,
          2.9602458469217013e-17,
          1.9666906547630493e-18,
          5.1035974320875586e-20,
          2.018114396095535e-20,
          6.132301141272403e-21,
          2.658914836726157e-21,
          2.0072357503083422e-20,
          2.782330618964182e-19,
          2.782330618964182e-19,
          2.782330618964182e-19,
          2.782330618964182e-19,
          2.782330618964182e-19,
          2.782330618964182e-19,
          2.782330618964182e-19,
          2.782330618964182e-19,
          2.782330618964182e-19,
          2.782330618964182e-19
         ],
         "yaxis": "y87"
        },
        {
         "histfunc": "sum",
         "marker": {
          "color": "#0072b2"
         },
         "type": "histogram",
         "x": [
          0,
          2,
          4,
          6,
          8,
          10,
          12,
          14,
          16,
          18,
          20,
          22,
          24,
          26,
          28,
          30,
          32,
          34,
          36,
          38,
          40,
          42,
          44,
          46,
          48,
          50,
          52,
          54,
          56,
          58,
          60,
          62,
          64,
          66,
          68,
          70,
          72,
          74,
          76,
          78,
          80,
          82,
          84,
          86,
          88
         ],
         "xaxis": "x88",
         "xbins": {
          "end": 90,
          "size": 2,
          "start": 0
         },
         "y": [
          0.00009219509524211572,
          0.0001721785873103818,
          0.00028193542648445607,
          0.00025242169866619257,
          0.00020285783706486024,
          0.000153332344172046,
          0.00011164584650283767,
          0.00008446559400760154,
          0.00005736188005126225,
          0.00003916908207652287,
          0.00002528590760740124,
          0.000015053150349041674,
          0.00000881020652450463,
          0.000004822667456327513,
          0.0000023442301818719256,
          0.0000013012943783799655,
          7.414039570359911e-7,
          4.311790361121391e-7,
          2.475136227051869e-7,
          2.207023542967341e-7,
          1.4077888480469892e-7,
          6.709855318353637e-8,
          1.235004981888682e-8,
          1.7603990558805028e-9,
          6.613929916108111e-11,
          1.409016843383976e-12,
          3.928226888286721e-14,
          7.911214037513665e-16,
          8.553340160005187e-18,
          5.215109059513133e-19,
          1.2027021807458789e-20,
          4.6255957175019215e-21,
          1.3551498686455657e-21,
          5.723893940380383e-22,
          4.6470216990911826e-21,
          7.120500415705657e-20,
          7.120500415705657e-20,
          7.120500415705657e-20,
          7.120500415705657e-20,
          7.120500415705657e-20,
          7.120500415705657e-20,
          7.120500415705657e-20,
          7.120500415705657e-20,
          7.120500415705657e-20,
          7.120500415705657e-20
         ],
         "yaxis": "y88"
        },
        {
         "histfunc": "sum",
         "marker": {
          "color": "#0072b2"
         },
         "type": "histogram",
         "x": [
          0,
          2,
          4,
          6,
          8,
          10,
          12,
          14,
          16,
          18,
          20,
          22,
          24,
          26,
          28,
          30,
          32,
          34,
          36,
          38,
          40,
          42,
          44,
          46,
          48,
          50,
          52,
          54,
          56,
          58,
          60,
          62,
          64,
          66,
          68,
          70,
          72,
          74,
          76,
          78,
          80,
          82,
          84,
          86,
          88
         ],
         "xaxis": "x89",
         "xbins": {
          "end": 90,
          "size": 2,
          "start": 0
         },
         "y": [
          0.00006371434463859526,
          0.0001249901228762137,
          0.0002129204083087479,
          0.00019120554872192376,
          0.0001532813139751255,
          0.00011501922852945494,
          0.0000830794367924273,
          0.00006239837996558121,
          0.00004184269106559797,
          0.000028247813477731525,
          0.000018028766535090845,
          0.000010585462477375147,
          0.0000061035092941555704,
          0.000003284709324660455,
          0.000001560246108205173,
          8.515935408638846e-7,
          4.773773287831721e-7,
          2.7339941509766464e-7,
          1.5465772409035183e-7,
          1.3843042638717226e-7,
          8.743895097249263e-8,
          4.076143750304321e-8,
          7.0929444490973275e-9,
          9.476605333056603e-10,
          3.178323807263025e-11,
          5.933459211039748e-13,
          1.4669916688341167e-14,
          2.59521527401295e-16,
          2.418823164680899e-18,
          1.3517128968172086e-19,
          2.7652430381671527e-21,
          1.0339785510076656e-21,
          2.9190403871568917e-22,
          1.2005925487823648e-22,
          1.0495883181688475e-21,
          1.7810528658142462e-20,
          1.7810528658142462e-20,
          1.7810528658142462e-20,
          1.7810528658142462e-20,
          1.7810528658142462e-20,
          1.7810528658142462e-20,
          1.7810528658142462e-20,
          1.7810528658142462e-20,
          1.7810528658142462e-20,
          1.7810528658142462e-20
         ],
         "yaxis": "y89"
        },
        {
         "histfunc": "sum",
         "marker": {
          "color": "#0072b2"
         },
         "type": "histogram",
         "x": [
          0,
          2,
          4,
          6,
          8,
          10,
          12,
          14,
          16,
          18,
          20,
          22,
          24,
          26,
          28,
          30,
          32,
          34,
          36,
          38,
          40,
          42,
          44,
          46,
          48,
          50,
          52,
          54,
          56,
          58,
          60,
          62,
          64,
          66,
          68,
          70,
          72,
          74,
          76,
          78,
          80,
          82,
          84,
          86,
          88
         ],
         "xaxis": "x90",
         "xbins": {
          "end": 90,
          "size": 2,
          "start": 0
         },
         "y": [
          0.000043556839615613256,
          0.00008990178223007784,
          0.00015953079106925439,
          0.00014373636517877328,
          0.0001149616194187028,
          0.00008563998939857824,
          0.00006136453004916536,
          0.000045754603338344104,
          0.000030291666325411654,
          0.000020215810220011425,
          0.000012755484988009226,
          0.000007385827293839654,
          0.000004194936757487488,
          0.000002219164409870981,
          0.000001029757706704671,
          5.525339718500727e-7,
          3.0469055672658864e-7,
          1.7181225108825756e-7,
          9.576360277769218e-8,
          8.606129361052113e-8,
          5.382755543750792e-8,
          2.4535256408465376e-8,
          4.032835855006011e-9,
          5.04521205619323e-10,
          1.5076707994632332e-11,
          2.461075831192969e-13,
          5.385696984924272e-15,
          8.351900813545053e-17,
          6.694727526300005e-19,
          3.4245163318120386e-20,
          6.2030036650291775e-22,
          2.254121664475934e-22,
          6.128889667684744e-23,
          2.4536726633565765e-23,
          2.312763621199931e-22,
          4.354192428786636e-21,
          4.354192428786636e-21,
          4.354192428786636e-21,
          4.354192428786636e-21,
          4.354192428786636e-21,
          4.354192428786636e-21,
          4.354192428786636e-21,
          4.354192428786636e-21,
          4.354192428786636e-21,
          4.354192428786636e-21
         ],
         "yaxis": "y90"
        },
        {
         "histfunc": "sum",
         "marker": {
          "color": "#0072b2"
         },
         "type": "histogram",
         "x": [
          0,
          2,
          4,
          6,
          8,
          10,
          12,
          14,
          16,
          18,
          20,
          22,
          24,
          26,
          28,
          30,
          32,
          34,
          36,
          38,
          40,
          42,
          44,
          46,
          48,
          50,
          52,
          54,
          56,
          58,
          60,
          62,
          64,
          66,
          68,
          70,
          72,
          74,
          76,
          78,
          80,
          82,
          84,
          86,
          88
         ],
         "xaxis": "x91",
         "xbins": {
          "end": 90,
          "size": 2,
          "start": 0
         },
         "y": [
          0.00002945542129342837,
          0.0000640703297591585,
          0.00011858543080297735,
          0.00010723219252412855,
          0.00008558206578953835,
          0.00006329249834470088,
          0.000044989811907631606,
          0.00003330153724135508,
          0.000021763765910678238,
          0.000014356954997449093,
          0.000008955120418451282,
          0.0000051132300505557595,
          0.0000028603785448869602,
          0.0000014871847471253496,
          6.739475237530657e-7,
          3.554311060534063e-7,
          1.9277313609194807e-7,
          1.0701071799740035e-7,
          5.876052828456452e-8,
          5.30317435100328e-8,
          3.2842535302075764e-8,
          1.4633104838363962e-8,
          2.2699728920022486e-9,
          2.656384998882851e-10,
          7.059675453350351e-12,
          1.0054657641054741e-13,
          1.9437453476883422e-15,
          2.6368107035944255e-17,
          1.8135189778221861e-19,
          8.48023227392304e-21,
          1.3575764289791444e-22,
          4.7925333316362856e-23,
          1.2543317794939736e-23,
          4.8860118982722894e-24,
          4.9717751298172714e-23,
          1.0404062188161384e-21,
          1.0404062188161384e-21,
          1.0404062188161384e-21,
          1.0404062188161384e-21,
          1.0404062188161384e-21,
          1.0404062188161384e-21,
          1.0404062188161384e-21,
          1.0404062188161384e-21,
          1.0404062188161384e-21,
          1.0404062188161384e-21
         ],
         "yaxis": "y91"
        },
        {
         "histfunc": "sum",
         "marker": {
          "color": "#0072b2"
         },
         "type": "histogram",
         "x": [
          0,
          2,
          4,
          6,
          8,
          10,
          12,
          14,
          16,
          18,
          20,
          22,
          24,
          26,
          28,
          30,
          32,
          34,
          36,
          38,
          40,
          42,
          44,
          46,
          48,
          50,
          52,
          54,
          56,
          58,
          60,
          62,
          64,
          66,
          68,
          70,
          72,
          74,
          76,
          78,
          80,
          82,
          84,
          86,
          88
         ],
         "xaxis": "x92",
         "xbins": {
          "end": 90,
          "size": 2,
          "start": 0
         },
         "y": [
          0.000019704428989589806,
          0.00004524198679591733,
          0.00008745360992036472,
          0.00007939187784021657,
          0.00006323811149130277,
          0.000046429857685778545,
          0.00003274038924818637,
          0.000024058124888289793,
          0.000015518589784486314,
          0.000010118086744346246,
          0.000006238632126272136,
          0.000003512354887722238,
          0.0000019349684681302225,
          9.886060750212384e-7,
          4.373873326618666e-7,
          2.2668443567591565e-7,
          1.2089945550801866e-7,
          6.605672392437875e-8,
          3.572952644867244e-8,
          3.2390351709994495e-8,
          1.9860994635935313e-8,
          8.647431707255716e-9,
          1.2649021600260557e-9,
          1.3832082694194093e-10,
          3.2631180005709804e-12,
          4.046083464898556e-14,
          6.896361249505188e-16,
          8.166844062748644e-18,
          4.808080331205343e-20,
          2.0526267082505498e-21,
          2.898812070473316e-23,
          9.937448632132392e-24,
          2.5022573344164853e-24,
          9.480021692185262e-25,
          1.0427007327075357e-23,
          2.429756619369503e-22,
          2.429756619369503e-22,
          2.429756619369503e-22,
          2.429756619369503e-22,
          2.429756619369503e-22,
          2.429756619369503e-22,
          2.429756619369503e-22,
          2.429756619369503e-22,
          2.429756619369503e-22,
          2.429756619369503e-22
         ],
         "yaxis": "y92"
        },
        {
         "histfunc": "sum",
         "marker": {
          "color": "#0072b2"
         },
         "type": "histogram",
         "x": [
          0,
          2,
          4,
          6,
          8,
          10,
          12,
          14,
          16,
          18,
          20,
          22,
          24,
          26,
          28,
          30,
          32,
          34,
          36,
          38,
          40,
          42,
          44,
          46,
          48,
          50,
          52,
          54,
          56,
          58,
          60,
          62,
          64,
          66,
          68,
          70,
          72,
          74,
          76,
          78,
          80,
          82,
          84,
          86,
          88
         ],
         "xaxis": "x93",
         "xbins": {
          "end": 90,
          "size": 2,
          "start": 0
         },
         "y": [
          0.000013039237832576956,
          0.00003165355041229683,
          0.00006398581925920279,
          0.00005833367310204822,
          0.000046381122245159174,
          0.00003380741350520893,
          0.000023649741350110786,
          0.000017251516388231317,
          0.000010981907613799884,
          0.000007076187464332522,
          0.000004312715578097663,
          0.0000023939127718255114,
          0.0000012986034700927891,
          6.518753150752957e-7,
          2.8148509828615845e-7,
          1.4333682905710053e-7,
          7.516098988307665e-8,
          4.041321369584393e-8,
          2.1529065655850088e-8,
          1.960862516187083e-8,
          1.1904128686095848e-8,
          5.063403894763904e-9,
          6.977813146389318e-10,
          7.123100925468178e-11,
          1.4888489944929286e-12,
          1.6037166754820954e-14,
          2.4053807059479325e-16,
          2.4814827412278365e-18,
          1.2476183023344998e-20,
          4.856304667663523e-22,
          6.039060134081411e-24,
          2.0095860956701335e-24,
          4.865645220859441e-25,
          1.7921776501431045e-25,
          2.1334174889170532e-24,
          5.546092668260325e-23,
          5.546092668260325e-23,
          5.546092668260325e-23,
          5.546092668260325e-23,
          5.546092668260325e-23,
          5.546092668260325e-23,
          5.546092668260325e-23,
          5.546092668260325e-23,
          5.546092668260325e-23,
          5.546092668260325e-23
         ],
         "yaxis": "y93"
        },
        {
         "histfunc": "sum",
         "marker": {
          "color": "#0072b2"
         },
         "type": "histogram",
         "x": [
          0,
          2,
          4,
          6,
          8,
          10,
          12,
          14,
          16,
          18,
          20,
          22,
          24,
          26,
          28,
          30,
          32,
          34,
          36,
          38,
          40,
          42,
          44,
          46,
          48,
          50,
          52,
          54,
          56,
          58,
          60,
          62,
          64,
          66,
          68,
          70,
          72,
          74,
          76,
          78,
          80,
          82,
          84,
          86,
          88
         ],
         "xaxis": "x94",
         "xbins": {
          "end": 90,
          "size": 2,
          "start": 0
         },
         "y": [
          0.000008535526146352226,
          0.000021943163652948543,
          0.00004644610688728327,
          0.00004253583214620206,
          0.00003376524051657758,
          0.000024434081503257746,
          0.000016956719978705637,
          0.000012278937298732156,
          0.000007712774676207034,
          0.000004910945714202237,
          0.000002958392213731052,
          0.000001618919023648539,
          8.646324132099783e-7,
          4.2637202775129214e-7,
          1.7963613561701956e-7,
          8.985943931498962e-8,
          4.6318122972135377e-8,
          2.450452828014759e-8,
          1.2855218349604314e-8,
          1.1766040745238161e-8,
          7.071744024931739e-9,
          2.937668425672109e-9,
          3.8107273338948415e-10,
          3.62773522843963e-11,
          6.705610987204778e-13,
          6.261028929044188e-15,
          8.247661482903677e-17,
          7.396903282698561e-19,
          3.1684887611329525e-21,
          1.1230409599794638e-22,
          1.227473622451676e-24,
          3.9633306269567035e-25,
          9.222269944190434e-26,
          3.3011837454040865e-26,
          4.258532776630272e-25,
          1.2373027639092855e-23,
          1.2373027639092855e-23,
          1.2373027639092855e-23,
          1.2373027639092855e-23,
          1.2373027639092855e-23,
          1.2373027639092855e-23,
          1.2373027639092855e-23,
          1.2373027639092855e-23,
          1.2373027639092855e-23,
          1.2373027639092855e-23
         ],
         "yaxis": "y94"
        },
        {
         "histfunc": "sum",
         "marker": {
          "color": "#0072b2"
         },
         "type": "histogram",
         "x": [
          0,
          2,
          4,
          6,
          8,
          10,
          12,
          14,
          16,
          18,
          20,
          22,
          24,
          26,
          28,
          30,
          32,
          34,
          36,
          38,
          40,
          42,
          44,
          46,
          48,
          50,
          52,
          54,
          56,
          58,
          60,
          62,
          64,
          66,
          68,
          70,
          72,
          74,
          76,
          78,
          80,
          82,
          84,
          86,
          88
         ],
         "xaxis": "x95",
         "xbins": {
          "end": 90,
          "size": 2,
          "start": 0
         },
         "y": [
          0.000005527110212636855,
          0.00001507204236350442,
          0.00003344833376233679,
          0.00003078101270877566,
          0.000024398587059865092,
          0.000017528694433486496,
          0.000012067858168736587,
          0.000008674856409763486,
          0.000005375895615885981,
          0.0000033821729297144926,
          0.000002013743618028297,
          0.0000010862975610670867,
          5.711349693671641e-7,
          2.7662777442601425e-7,
          1.1367922060390255e-7,
          5.585209108402728e-8,
          2.8294350272788636e-8,
          1.4726037736165396e-8,
          7.60659137371266e-9,
          6.997860390067942e-9,
          4.1637797770558885e-9,
          1.6887592982131003e-9,
          2.0602624762002866e-10,
          1.8272039713682285e-11,
          2.981232783548356e-13,
          2.40762604993774e-15,
          2.780103829784288e-17,
          2.1630686686874623e-19,
          7.87558850745735e-22,
          2.5385106472794297e-23,
          2.4341565350387944e-25,
          7.623176150308077e-26,
          1.7038216968361741e-26,
          5.924821273898498e-27,
          8.293008462768402e-26,
          2.6979218018557463e-24,
          2.6979218018557463e-24,
          2.6979218018557463e-24,
          2.6979218018557463e-24,
          2.6979218018557463e-24,
          2.6979218018557463e-24,
          2.6979218018557463e-24,
          2.6979218018557463e-24,
          2.6979218018557463e-24,
          2.6979218018557463e-24
         ],
         "yaxis": "y95"
        },
        {
         "histfunc": "sum",
         "marker": {
          "color": "#0072b2"
         },
         "type": "histogram",
         "x": [
          0,
          2,
          4,
          6,
          8,
          10,
          12,
          14,
          16,
          18,
          20,
          22,
          24,
          26,
          28,
          30,
          32,
          34,
          36,
          38,
          40,
          42,
          44,
          46,
          48,
          50,
          52,
          54,
          56,
          58,
          60,
          62,
          64,
          66,
          68,
          70,
          72,
          74,
          76,
          78,
          80,
          82,
          84,
          86,
          88
         ],
         "xaxis": "x96",
         "xbins": {
          "end": 90,
          "size": 2,
          "start": 0
         },
         "y": [
          0.0000035404273719213168,
          0.000010257488097676213,
          0.000023897872925971668,
          0.000022105647257736333,
          0.000017499504027533248,
          0.000012481667291981848,
          0.000008524942185920657,
          0.00000608319607048896,
          0.0000037187615875773016,
          0.000002311486477541429,
          0.0000013601790968885447,
          7.232348681569062e-7,
          3.7428142813392743e-7,
          1.7802695715201294e-7,
          7.133744636320217e-8,
          3.4417949425116676e-8,
          1.7133212988990845e-8,
          8.770857893337612e-9,
          4.460228094383261e-9,
          4.1252656669736875e-9,
          2.42986010812669e-9,
          9.619167886758868e-10,
          1.1027152189404024e-10,
          9.101719393569614e-12,
          1.3083479305300534e-13,
          9.119218351374638e-16,
          9.212433984353707e-18,
          6.205436827112152e-20,
          1.9159063368520286e-22,
          5.608621133047788e-24,
          4.709538584183586e-26,
          1.4299918846954914e-26,
          3.0683110305720608e-27,
          1.036090580158576e-27,
          1.5755500142332583e-26,
          5.749727278006673e-25,
          5.749727278006673e-25,
          5.749727278006673e-25,
          5.749727278006673e-25,
          5.749727278006673e-25,
          5.749727278006673e-25,
          5.749727278006673e-25,
          5.749727278006673e-25,
          5.749727278006673e-25,
          5.749727278006673e-25
         ],
         "yaxis": "y96"
        },
        {
         "histfunc": "sum",
         "marker": {
          "color": "#0072b2"
         },
         "type": "histogram",
         "x": [
          0,
          2,
          4,
          6,
          8,
          10,
          12,
          14,
          16,
          18,
          20,
          22,
          24,
          26,
          28,
          30,
          32,
          34,
          36,
          38,
          40,
          42,
          44,
          46,
          48,
          50,
          52,
          54,
          56,
          58,
          60,
          62,
          64,
          66,
          68,
          70,
          72,
          74,
          76,
          78,
          80,
          82,
          84,
          86,
          88
         ],
         "xaxis": "x97",
         "xbins": {
          "end": 90,
          "size": 2,
          "start": 0
         },
         "y": [
          0.0000022433807668672197,
          0.000006916812273268628,
          0.00001693961733130066,
          0.000015754910045110177,
          0.000012458135138055241,
          0.000008821960585526656,
          0.000005977582564633993,
          0.0000042341802392899225,
          0.000002553013849056719,
          0.0000015676596391125714,
          9.116570791767736e-7,
          4.777676948147855e-7,
          2.433380874735861e-7,
          1.136471799591457e-7,
          4.439183716935751e-8,
          2.102811618401492e-8,
          1.0284145583174923e-8,
          5.177437240476222e-9,
          2.591674196367492e-9,
          2.410406519509336e-9,
          1.4054231111572254e-9,
          5.428902347268946e-10,
          5.842925141781708e-11,
          4.483785385564437e-12,
          5.66787737116297e-14,
          3.402134299168371e-16,
          3.001034206772094e-18,
          1.7464497572968477e-20,
          4.5616918319179917e-23,
          1.2112308968062224e-24,
          8.889999496103298e-27,
          2.61609286385833e-27,
          5.385965178885125e-28,
          1.765375566319926e-28,
          2.920251464639997e-27,
          1.197649250393339e-25,
          1.197649250393339e-25,
          1.197649250393339e-25,
          1.197649250393339e-25,
          1.197649250393339e-25,
          1.197649250393339e-25,
          1.197649250393339e-25,
          1.197649250393339e-25,
          1.197649250393339e-25,
          1.197649250393339e-25
         ],
         "yaxis": "y97"
        },
        {
         "histfunc": "sum",
         "marker": {
          "color": "#0072b2"
         },
         "type": "histogram",
         "x": [
          0,
          2,
          4,
          6,
          8,
          10,
          12,
          14,
          16,
          18,
          20,
          22,
          24,
          26,
          28,
          30,
          32,
          34,
          36,
          38,
          40,
          42,
          44,
          46,
          48,
          50,
          52,
          54,
          56,
          58,
          60,
          62,
          64,
          66,
          68,
          70,
          72,
          74,
          76,
          78,
          80,
          82,
          84,
          86,
          88
         ],
         "xaxis": "x98",
         "xbins": {
          "end": 90,
          "size": 2,
          "start": 0
         },
         "y": [
          0.00000140617713597042,
          0.000004621330273632568,
          0.000011912626670202888,
          0.000011143483665284181,
          0.00000880332163073726,
          0.000006189094356068272,
          0.000004160376365756263,
          0.0000029253300601493594,
          0.0000017394635412419419,
          0.000001055059784317265,
          6.063318949087221e-7,
          3.1315624651130977e-7,
          1.569546508735237e-7,
          7.196386278133585e-8,
          2.7392884523445588e-8,
          1.273754012382984e-8,
          6.1191053740286966e-9,
          3.0290344655086302e-9,
          1.4923135901693264e-9,
          1.3959838269637455e-9,
          8.056848752779904e-10,
          3.0359270283028017e-10,
          3.0649501419178094e-11,
          2.1844955061298107e-12,
          2.4237480301696867e-14,
          1.2501742513875122e-16,
          9.610604089851348e-19,
          4.821936856747877e-21,
          1.0630116487150024e-23,
          2.5567690399789115e-25,
          1.6372637046673833e-27,
          4.66761154312167e-28,
          9.215451635055465e-29,
          2.930848790381359e-29,
          5.280514967246894e-28,
          2.4382406175902032e-26,
          2.4382406175902032e-26,
          2.4382406175902032e-26,
          2.4382406175902032e-26,
          2.4382406175902032e-26,
          2.4382406175902032e-26,
          2.4382406175902032e-26,
          2.4382406175902032e-26,
          2.4382406175902032e-26,
          2.4382406175902032e-26
         ],
         "yaxis": "y98"
        },
        {
         "histfunc": "sum",
         "marker": {
          "color": "#0072b2"
         },
         "type": "histogram",
         "x": [
          0,
          2,
          4,
          6,
          8,
          10,
          12,
          14,
          16,
          18,
          20,
          22,
          24,
          26,
          28,
          30,
          32,
          34,
          36,
          38,
          40,
          42,
          44,
          46,
          48,
          50,
          52,
          54,
          56,
          58,
          60,
          62,
          64,
          66,
          68,
          70,
          72,
          74,
          76,
          78,
          80,
          82,
          84,
          86,
          88
         ],
         "xaxis": "x99",
         "xbins": {
          "end": 90,
          "size": 2,
          "start": 0
         },
         "y": [
          8.71900264712908e-7,
          0.000003059314165548546,
          0.000008311340146842198,
          0.000007822010497881717,
          0.000006174564547216347,
          0.000004309814460536885,
          0.000002874170673135417,
          0.00000200608076329662,
          0.0000011762098599246455,
          7.046399038751106e-7,
          4.0015920579943084e-7,
          2.0366305339526707e-7,
          1.0043626975869991e-7,
          4.5201534495913306e-8,
          1.6761832741981467e-8,
          7.649632712643215e-9,
          3.609092076669742e-9,
          1.7563464602135987e-9,
          8.515225173096589e-10,
          8.013499292126676e-10,
          4.577787523308629e-10,
          1.6821913718230598e-10,
          1.5916319342126576e-11,
          1.0525493263713445e-12,
          1.0231146962670541e-14,
          4.524961664861789e-17,
          3.025614634280813e-19,
          1.3060765357896803e-21,
          2.4244348387980545e-24,
          5.275331779528251e-26,
          2.9419077704152676e-28,
          8.121910883817951e-29,
          1.5369460742703394e-29,
          4.740963688638901e-30,
          9.315373583360961e-29,
          4.851633540791142e-27,
          4.851633540791142e-27,
          4.851633540791142e-27,
          4.851633540791142e-27,
          4.851633540791142e-27,
          4.851633540791142e-27,
          4.851633540791142e-27,
          4.851633540791142e-27,
          4.851633540791142e-27,
          4.851633540791142e-27
         ],
         "yaxis": "y99"
        },
        {
         "histfunc": "sum",
         "marker": {
          "color": "#0072b2"
         },
         "type": "histogram",
         "x": [
          0,
          2,
          4,
          6,
          8,
          10,
          12,
          14,
          16,
          18,
          20,
          22,
          24,
          26,
          28,
          30,
          32,
          34,
          36,
          38,
          40,
          42,
          44,
          46,
          48,
          50,
          52,
          54,
          56,
          58,
          60,
          62,
          64,
          66,
          68,
          70,
          72,
          74,
          76,
          78,
          80,
          82,
          84,
          86,
          88
         ],
         "xaxis": "x100",
         "xbins": {
          "end": 90,
          "size": 2,
          "start": 0
         },
         "y": [
          5.347900572442219e-7,
          0.0000020066757358486046,
          0.000005752997293947353,
          0.000005448891609542696,
          0.0000042986524653302275,
          0.000002978924688050946,
          0.0000019709036004583782,
          0.0000013654945134088624,
          7.893354834446856e-7,
          4.6700579555567473e-7,
          2.6205877336052475e-7,
          1.3142267286691352e-7,
          6.376160582258299e-8,
          2.8162733048381393e-8,
          1.0170781557658564e-8,
          4.554759217392421e-9,
          2.1100770120519182e-9,
          1.009329037534863e-9,
          4.81491398239821e-10,
          4.5594844773492397e-10,
          2.577972923253043e-10,
          9.235581544785788e-11,
          8.182537649552475e-12,
          5.015551834803726e-13,
          4.263153861667036e-15,
          1.6131862675057362e-17,
          9.363963702779772e-20,
          3.4705429299500677e-22,
          5.411820960219243e-25,
          1.063902380116088e-26,
          5.157425857567798e-29,
          1.378299823241631e-29,
          2.4985587098431716e-30,
          7.472342337803869e-31,
          1.6032167667287436e-29,
          9.435478540869378e-28,
          9.435478540869378e-28,
          9.435478540869378e-28,
          9.435478540869378e-28,
          9.435478540869378e-28,
          9.435478540869378e-28,
          9.435478540869378e-28,
          9.435478540869378e-28,
          9.435478540869378e-28,
          9.435478540869378e-28
         ],
         "yaxis": "y100"
        }
       ],
       "layout": {
        "font": {
         "size": 8
        },
        "height": 4000,
        "showlegend": false,
        "template": {
         "data": {
          "bar": [
           {
            "error_x": {
             "color": "#2a3f5f"
            },
            "error_y": {
             "color": "#2a3f5f"
            },
            "marker": {
             "line": {
              "color": "#E5ECF6",
              "width": 0.5
             },
             "pattern": {
              "fillmode": "overlay",
              "size": 10,
              "solidity": 0.2
             }
            },
            "type": "bar"
           }
          ],
          "barpolar": [
           {
            "marker": {
             "line": {
              "color": "#E5ECF6",
              "width": 0.5
             },
             "pattern": {
              "fillmode": "overlay",
              "size": 10,
              "solidity": 0.2
             }
            },
            "type": "barpolar"
           }
          ],
          "carpet": [
           {
            "aaxis": {
             "endlinecolor": "#2a3f5f",
             "gridcolor": "white",
             "linecolor": "white",
             "minorgridcolor": "white",
             "startlinecolor": "#2a3f5f"
            },
            "baxis": {
             "endlinecolor": "#2a3f5f",
             "gridcolor": "white",
             "linecolor": "white",
             "minorgridcolor": "white",
             "startlinecolor": "#2a3f5f"
            },
            "type": "carpet"
           }
          ],
          "choropleth": [
           {
            "colorbar": {
             "outlinewidth": 0,
             "ticks": ""
            },
            "type": "choropleth"
           }
          ],
          "contour": [
           {
            "colorbar": {
             "outlinewidth": 0,
             "ticks": ""
            },
            "colorscale": [
             [
              0,
              "#0d0887"
             ],
             [
              0.1111111111111111,
              "#46039f"
             ],
             [
              0.2222222222222222,
              "#7201a8"
             ],
             [
              0.3333333333333333,
              "#9c179e"
             ],
             [
              0.4444444444444444,
              "#bd3786"
             ],
             [
              0.5555555555555556,
              "#d8576b"
             ],
             [
              0.6666666666666666,
              "#ed7953"
             ],
             [
              0.7777777777777778,
              "#fb9f3a"
             ],
             [
              0.8888888888888888,
              "#fdca26"
             ],
             [
              1,
              "#f0f921"
             ]
            ],
            "type": "contour"
           }
          ],
          "contourcarpet": [
           {
            "colorbar": {
             "outlinewidth": 0,
             "ticks": ""
            },
            "type": "contourcarpet"
           }
          ],
          "heatmap": [
           {
            "colorbar": {
             "outlinewidth": 0,
             "ticks": ""
            },
            "colorscale": [
             [
              0,
              "#0d0887"
             ],
             [
              0.1111111111111111,
              "#46039f"
             ],
             [
              0.2222222222222222,
              "#7201a8"
             ],
             [
              0.3333333333333333,
              "#9c179e"
             ],
             [
              0.4444444444444444,
              "#bd3786"
             ],
             [
              0.5555555555555556,
              "#d8576b"
             ],
             [
              0.6666666666666666,
              "#ed7953"
             ],
             [
              0.7777777777777778,
              "#fb9f3a"
             ],
             [
              0.8888888888888888,
              "#fdca26"
             ],
             [
              1,
              "#f0f921"
             ]
            ],
            "type": "heatmap"
           }
          ],
          "heatmapgl": [
           {
            "colorbar": {
             "outlinewidth": 0,
             "ticks": ""
            },
            "colorscale": [
             [
              0,
              "#0d0887"
             ],
             [
              0.1111111111111111,
              "#46039f"
             ],
             [
              0.2222222222222222,
              "#7201a8"
             ],
             [
              0.3333333333333333,
              "#9c179e"
             ],
             [
              0.4444444444444444,
              "#bd3786"
             ],
             [
              0.5555555555555556,
              "#d8576b"
             ],
             [
              0.6666666666666666,
              "#ed7953"
             ],
             [
              0.7777777777777778,
              "#fb9f3a"
             ],
             [
              0.8888888888888888,
              "#fdca26"
             ],
             [
              1,
              "#f0f921"
             ]
            ],
            "type": "heatmapgl"
           }
          ],
          "histogram": [
           {
            "marker": {
             "pattern": {
              "fillmode": "overlay",
              "size": 10,
              "solidity": 0.2
             }
            },
            "type": "histogram"
           }
          ],
          "histogram2d": [
           {
            "colorbar": {
             "outlinewidth": 0,
             "ticks": ""
            },
            "colorscale": [
             [
              0,
              "#0d0887"
             ],
             [
              0.1111111111111111,
              "#46039f"
             ],
             [
              0.2222222222222222,
              "#7201a8"
             ],
             [
              0.3333333333333333,
              "#9c179e"
             ],
             [
              0.4444444444444444,
              "#bd3786"
             ],
             [
              0.5555555555555556,
              "#d8576b"
             ],
             [
              0.6666666666666666,
              "#ed7953"
             ],
             [
              0.7777777777777778,
              "#fb9f3a"
             ],
             [
              0.8888888888888888,
              "#fdca26"
             ],
             [
              1,
              "#f0f921"
             ]
            ],
            "type": "histogram2d"
           }
          ],
          "histogram2dcontour": [
           {
            "colorbar": {
             "outlinewidth": 0,
             "ticks": ""
            },
            "colorscale": [
             [
              0,
              "#0d0887"
             ],
             [
              0.1111111111111111,
              "#46039f"
             ],
             [
              0.2222222222222222,
              "#7201a8"
             ],
             [
              0.3333333333333333,
              "#9c179e"
             ],
             [
              0.4444444444444444,
              "#bd3786"
             ],
             [
              0.5555555555555556,
              "#d8576b"
             ],
             [
              0.6666666666666666,
              "#ed7953"
             ],
             [
              0.7777777777777778,
              "#fb9f3a"
             ],
             [
              0.8888888888888888,
              "#fdca26"
             ],
             [
              1,
              "#f0f921"
             ]
            ],
            "type": "histogram2dcontour"
           }
          ],
          "mesh3d": [
           {
            "colorbar": {
             "outlinewidth": 0,
             "ticks": ""
            },
            "type": "mesh3d"
           }
          ],
          "parcoords": [
           {
            "line": {
             "colorbar": {
              "outlinewidth": 0,
              "ticks": ""
             }
            },
            "type": "parcoords"
           }
          ],
          "pie": [
           {
            "automargin": true,
            "type": "pie"
           }
          ],
          "scatter": [
           {
            "fillpattern": {
             "fillmode": "overlay",
             "size": 10,
             "solidity": 0.2
            },
            "type": "scatter"
           }
          ],
          "scatter3d": [
           {
            "line": {
             "colorbar": {
              "outlinewidth": 0,
              "ticks": ""
             }
            },
            "marker": {
             "colorbar": {
              "outlinewidth": 0,
              "ticks": ""
             }
            },
            "type": "scatter3d"
           }
          ],
          "scattercarpet": [
           {
            "marker": {
             "colorbar": {
              "outlinewidth": 0,
              "ticks": ""
             }
            },
            "type": "scattercarpet"
           }
          ],
          "scattergeo": [
           {
            "marker": {
             "colorbar": {
              "outlinewidth": 0,
              "ticks": ""
             }
            },
            "type": "scattergeo"
           }
          ],
          "scattergl": [
           {
            "marker": {
             "colorbar": {
              "outlinewidth": 0,
              "ticks": ""
             }
            },
            "type": "scattergl"
           }
          ],
          "scattermapbox": [
           {
            "marker": {
             "colorbar": {
              "outlinewidth": 0,
              "ticks": ""
             }
            },
            "type": "scattermapbox"
           }
          ],
          "scatterpolar": [
           {
            "marker": {
             "colorbar": {
              "outlinewidth": 0,
              "ticks": ""
             }
            },
            "type": "scatterpolar"
           }
          ],
          "scatterpolargl": [
           {
            "marker": {
             "colorbar": {
              "outlinewidth": 0,
              "ticks": ""
             }
            },
            "type": "scatterpolargl"
           }
          ],
          "scatterternary": [
           {
            "marker": {
             "colorbar": {
              "outlinewidth": 0,
              "ticks": ""
             }
            },
            "type": "scatterternary"
           }
          ],
          "surface": [
           {
            "colorbar": {
             "outlinewidth": 0,
             "ticks": ""
            },
            "colorscale": [
             [
              0,
              "#0d0887"
             ],
             [
              0.1111111111111111,
              "#46039f"
             ],
             [
              0.2222222222222222,
              "#7201a8"
             ],
             [
              0.3333333333333333,
              "#9c179e"
             ],
             [
              0.4444444444444444,
              "#bd3786"
             ],
             [
              0.5555555555555556,
              "#d8576b"
             ],
             [
              0.6666666666666666,
              "#ed7953"
             ],
             [
              0.7777777777777778,
              "#fb9f3a"
             ],
             [
              0.8888888888888888,
              "#fdca26"
             ],
             [
              1,
              "#f0f921"
             ]
            ],
            "type": "surface"
           }
          ],
          "table": [
           {
            "cells": {
             "fill": {
              "color": "#EBF0F8"
             },
             "line": {
              "color": "white"
             }
            },
            "header": {
             "fill": {
              "color": "#C8D4E3"
             },
             "line": {
              "color": "white"
             }
            },
            "type": "table"
           }
          ]
         },
         "layout": {
          "annotationdefaults": {
           "arrowcolor": "#2a3f5f",
           "arrowhead": 0,
           "arrowwidth": 1
          },
          "autotypenumbers": "strict",
          "coloraxis": {
           "colorbar": {
            "outlinewidth": 0,
            "ticks": ""
           }
          },
          "colorscale": {
           "diverging": [
            [
             0,
             "#8e0152"
            ],
            [
             0.1,
             "#c51b7d"
            ],
            [
             0.2,
             "#de77ae"
            ],
            [
             0.3,
             "#f1b6da"
            ],
            [
             0.4,
             "#fde0ef"
            ],
            [
             0.5,
             "#f7f7f7"
            ],
            [
             0.6,
             "#e6f5d0"
            ],
            [
             0.7,
             "#b8e186"
            ],
            [
             0.8,
             "#7fbc41"
            ],
            [
             0.9,
             "#4d9221"
            ],
            [
             1,
             "#276419"
            ]
           ],
           "sequential": [
            [
             0,
             "#0d0887"
            ],
            [
             0.1111111111111111,
             "#46039f"
            ],
            [
             0.2222222222222222,
             "#7201a8"
            ],
            [
             0.3333333333333333,
             "#9c179e"
            ],
            [
             0.4444444444444444,
             "#bd3786"
            ],
            [
             0.5555555555555556,
             "#d8576b"
            ],
            [
             0.6666666666666666,
             "#ed7953"
            ],
            [
             0.7777777777777778,
             "#fb9f3a"
            ],
            [
             0.8888888888888888,
             "#fdca26"
            ],
            [
             1,
             "#f0f921"
            ]
           ],
           "sequentialminus": [
            [
             0,
             "#0d0887"
            ],
            [
             0.1111111111111111,
             "#46039f"
            ],
            [
             0.2222222222222222,
             "#7201a8"
            ],
            [
             0.3333333333333333,
             "#9c179e"
            ],
            [
             0.4444444444444444,
             "#bd3786"
            ],
            [
             0.5555555555555556,
             "#d8576b"
            ],
            [
             0.6666666666666666,
             "#ed7953"
            ],
            [
             0.7777777777777778,
             "#fb9f3a"
            ],
            [
             0.8888888888888888,
             "#fdca26"
            ],
            [
             1,
             "#f0f921"
            ]
           ]
          },
          "colorway": [
           "#636efa",
           "#EF553B",
           "#00cc96",
           "#ab63fa",
           "#FFA15A",
           "#19d3f3",
           "#FF6692",
           "#B6E880",
           "#FF97FF",
           "#FECB52"
          ],
          "font": {
           "color": "#2a3f5f"
          },
          "geo": {
           "bgcolor": "white",
           "lakecolor": "white",
           "landcolor": "#E5ECF6",
           "showlakes": true,
           "showland": true,
           "subunitcolor": "white"
          },
          "hoverlabel": {
           "align": "left"
          },
          "hovermode": "closest",
          "mapbox": {
           "style": "light"
          },
          "paper_bgcolor": "white",
          "plot_bgcolor": "#E5ECF6",
          "polar": {
           "angularaxis": {
            "gridcolor": "white",
            "linecolor": "white",
            "ticks": ""
           },
           "bgcolor": "#E5ECF6",
           "radialaxis": {
            "gridcolor": "white",
            "linecolor": "white",
            "ticks": ""
           }
          },
          "scene": {
           "xaxis": {
            "backgroundcolor": "#E5ECF6",
            "gridcolor": "white",
            "gridwidth": 2,
            "linecolor": "white",
            "showbackground": true,
            "ticks": "",
            "zerolinecolor": "white"
           },
           "yaxis": {
            "backgroundcolor": "#E5ECF6",
            "gridcolor": "white",
            "gridwidth": 2,
            "linecolor": "white",
            "showbackground": true,
            "ticks": "",
            "zerolinecolor": "white"
           },
           "zaxis": {
            "backgroundcolor": "#E5ECF6",
            "gridcolor": "white",
            "gridwidth": 2,
            "linecolor": "white",
            "showbackground": true,
            "ticks": "",
            "zerolinecolor": "white"
           }
          },
          "shapedefaults": {
           "line": {
            "color": "#2a3f5f"
           }
          },
          "ternary": {
           "aaxis": {
            "gridcolor": "white",
            "linecolor": "white",
            "ticks": ""
           },
           "baxis": {
            "gridcolor": "white",
            "linecolor": "white",
            "ticks": ""
           },
           "bgcolor": "#E5ECF6",
           "caxis": {
            "gridcolor": "white",
            "linecolor": "white",
            "ticks": ""
           }
          },
          "title": {
           "x": 0.05
          },
          "xaxis": {
           "automargin": true,
           "gridcolor": "white",
           "linecolor": "white",
           "ticks": "",
           "title": {
            "standoff": 15
           },
           "zerolinecolor": "white",
           "zerolinewidth": 2
          },
          "yaxis": {
           "automargin": true,
           "gridcolor": "white",
           "linecolor": "white",
           "ticks": "",
           "title": {
            "standoff": 15
           },
           "zerolinecolor": "white",
           "zerolinewidth": 2
          }
         }
        },
        "title": {
         "text": "CPT - P(AR|ecFEF25-75%ecFEV1)"
        },
        "width": 500,
        "xaxis": {
         "anchor": "y",
         "domain": [
          0,
          1
         ],
         "matches": "x100",
         "nticks": 20,
         "range": [
          0,
          90
         ],
         "showticklabels": false,
         "title": {}
        },
        "xaxis10": {
         "anchor": "y10",
         "domain": [
          0,
          1
         ],
         "matches": "x100",
         "nticks": 20,
         "range": [
          0,
          90
         ],
         "showticklabels": false,
         "title": {}
        },
        "xaxis100": {
         "anchor": "y100",
         "domain": [
          0,
          1
         ],
         "nticks": 20,
         "range": [
          0,
          90
         ],
         "title": {
          "text": "Airway resistance (%)"
         }
        },
        "xaxis11": {
         "anchor": "y11",
         "domain": [
          0,
          1
         ],
         "matches": "x100",
         "nticks": 20,
         "range": [
          0,
          90
         ],
         "showticklabels": false,
         "title": {}
        },
        "xaxis12": {
         "anchor": "y12",
         "domain": [
          0,
          1
         ],
         "matches": "x100",
         "nticks": 20,
         "range": [
          0,
          90
         ],
         "showticklabels": false,
         "title": {}
        },
        "xaxis13": {
         "anchor": "y13",
         "domain": [
          0,
          1
         ],
         "matches": "x100",
         "nticks": 20,
         "range": [
          0,
          90
         ],
         "showticklabels": false,
         "title": {}
        },
        "xaxis14": {
         "anchor": "y14",
         "domain": [
          0,
          1
         ],
         "matches": "x100",
         "nticks": 20,
         "range": [
          0,
          90
         ],
         "showticklabels": false,
         "title": {}
        },
        "xaxis15": {
         "anchor": "y15",
         "domain": [
          0,
          1
         ],
         "matches": "x100",
         "nticks": 20,
         "range": [
          0,
          90
         ],
         "showticklabels": false,
         "title": {}
        },
        "xaxis16": {
         "anchor": "y16",
         "domain": [
          0,
          1
         ],
         "matches": "x100",
         "nticks": 20,
         "range": [
          0,
          90
         ],
         "showticklabels": false,
         "title": {}
        },
        "xaxis17": {
         "anchor": "y17",
         "domain": [
          0,
          1
         ],
         "matches": "x100",
         "nticks": 20,
         "range": [
          0,
          90
         ],
         "showticklabels": false,
         "title": {}
        },
        "xaxis18": {
         "anchor": "y18",
         "domain": [
          0,
          1
         ],
         "matches": "x100",
         "nticks": 20,
         "range": [
          0,
          90
         ],
         "showticklabels": false,
         "title": {}
        },
        "xaxis19": {
         "anchor": "y19",
         "domain": [
          0,
          1
         ],
         "matches": "x100",
         "nticks": 20,
         "range": [
          0,
          90
         ],
         "showticklabels": false,
         "title": {}
        },
        "xaxis2": {
         "anchor": "y2",
         "domain": [
          0,
          1
         ],
         "matches": "x100",
         "nticks": 20,
         "range": [
          0,
          90
         ],
         "showticklabels": false,
         "title": {}
        },
        "xaxis20": {
         "anchor": "y20",
         "domain": [
          0,
          1
         ],
         "matches": "x100",
         "nticks": 20,
         "range": [
          0,
          90
         ],
         "showticklabels": false,
         "title": {}
        },
        "xaxis21": {
         "anchor": "y21",
         "domain": [
          0,
          1
         ],
         "matches": "x100",
         "nticks": 20,
         "range": [
          0,
          90
         ],
         "showticklabels": false,
         "title": {}
        },
        "xaxis22": {
         "anchor": "y22",
         "domain": [
          0,
          1
         ],
         "matches": "x100",
         "nticks": 20,
         "range": [
          0,
          90
         ],
         "showticklabels": false,
         "title": {}
        },
        "xaxis23": {
         "anchor": "y23",
         "domain": [
          0,
          1
         ],
         "matches": "x100",
         "nticks": 20,
         "range": [
          0,
          90
         ],
         "showticklabels": false,
         "title": {}
        },
        "xaxis24": {
         "anchor": "y24",
         "domain": [
          0,
          1
         ],
         "matches": "x100",
         "nticks": 20,
         "range": [
          0,
          90
         ],
         "showticklabels": false,
         "title": {}
        },
        "xaxis25": {
         "anchor": "y25",
         "domain": [
          0,
          1
         ],
         "matches": "x100",
         "nticks": 20,
         "range": [
          0,
          90
         ],
         "showticklabels": false,
         "title": {}
        },
        "xaxis26": {
         "anchor": "y26",
         "domain": [
          0,
          1
         ],
         "matches": "x100",
         "nticks": 20,
         "range": [
          0,
          90
         ],
         "showticklabels": false,
         "title": {}
        },
        "xaxis27": {
         "anchor": "y27",
         "domain": [
          0,
          1
         ],
         "matches": "x100",
         "nticks": 20,
         "range": [
          0,
          90
         ],
         "showticklabels": false,
         "title": {}
        },
        "xaxis28": {
         "anchor": "y28",
         "domain": [
          0,
          1
         ],
         "matches": "x100",
         "nticks": 20,
         "range": [
          0,
          90
         ],
         "showticklabels": false,
         "title": {}
        },
        "xaxis29": {
         "anchor": "y29",
         "domain": [
          0,
          1
         ],
         "matches": "x100",
         "nticks": 20,
         "range": [
          0,
          90
         ],
         "showticklabels": false,
         "title": {}
        },
        "xaxis3": {
         "anchor": "y3",
         "domain": [
          0,
          1
         ],
         "matches": "x100",
         "nticks": 20,
         "range": [
          0,
          90
         ],
         "showticklabels": false,
         "title": {}
        },
        "xaxis30": {
         "anchor": "y30",
         "domain": [
          0,
          1
         ],
         "matches": "x100",
         "nticks": 20,
         "range": [
          0,
          90
         ],
         "showticklabels": false,
         "title": {}
        },
        "xaxis31": {
         "anchor": "y31",
         "domain": [
          0,
          1
         ],
         "matches": "x100",
         "nticks": 20,
         "range": [
          0,
          90
         ],
         "showticklabels": false,
         "title": {}
        },
        "xaxis32": {
         "anchor": "y32",
         "domain": [
          0,
          1
         ],
         "matches": "x100",
         "nticks": 20,
         "range": [
          0,
          90
         ],
         "showticklabels": false,
         "title": {}
        },
        "xaxis33": {
         "anchor": "y33",
         "domain": [
          0,
          1
         ],
         "matches": "x100",
         "nticks": 20,
         "range": [
          0,
          90
         ],
         "showticklabels": false,
         "title": {}
        },
        "xaxis34": {
         "anchor": "y34",
         "domain": [
          0,
          1
         ],
         "matches": "x100",
         "nticks": 20,
         "range": [
          0,
          90
         ],
         "showticklabels": false,
         "title": {}
        },
        "xaxis35": {
         "anchor": "y35",
         "domain": [
          0,
          1
         ],
         "matches": "x100",
         "nticks": 20,
         "range": [
          0,
          90
         ],
         "showticklabels": false,
         "title": {}
        },
        "xaxis36": {
         "anchor": "y36",
         "domain": [
          0,
          1
         ],
         "matches": "x100",
         "nticks": 20,
         "range": [
          0,
          90
         ],
         "showticklabels": false,
         "title": {}
        },
        "xaxis37": {
         "anchor": "y37",
         "domain": [
          0,
          1
         ],
         "matches": "x100",
         "nticks": 20,
         "range": [
          0,
          90
         ],
         "showticklabels": false,
         "title": {}
        },
        "xaxis38": {
         "anchor": "y38",
         "domain": [
          0,
          1
         ],
         "matches": "x100",
         "nticks": 20,
         "range": [
          0,
          90
         ],
         "showticklabels": false,
         "title": {}
        },
        "xaxis39": {
         "anchor": "y39",
         "domain": [
          0,
          1
         ],
         "matches": "x100",
         "nticks": 20,
         "range": [
          0,
          90
         ],
         "showticklabels": false,
         "title": {}
        },
        "xaxis4": {
         "anchor": "y4",
         "domain": [
          0,
          1
         ],
         "matches": "x100",
         "nticks": 20,
         "range": [
          0,
          90
         ],
         "showticklabels": false,
         "title": {}
        },
        "xaxis40": {
         "anchor": "y40",
         "domain": [
          0,
          1
         ],
         "matches": "x100",
         "nticks": 20,
         "range": [
          0,
          90
         ],
         "showticklabels": false,
         "title": {}
        },
        "xaxis41": {
         "anchor": "y41",
         "domain": [
          0,
          1
         ],
         "matches": "x100",
         "nticks": 20,
         "range": [
          0,
          90
         ],
         "showticklabels": false,
         "title": {}
        },
        "xaxis42": {
         "anchor": "y42",
         "domain": [
          0,
          1
         ],
         "matches": "x100",
         "nticks": 20,
         "range": [
          0,
          90
         ],
         "showticklabels": false,
         "title": {}
        },
        "xaxis43": {
         "anchor": "y43",
         "domain": [
          0,
          1
         ],
         "matches": "x100",
         "nticks": 20,
         "range": [
          0,
          90
         ],
         "showticklabels": false,
         "title": {}
        },
        "xaxis44": {
         "anchor": "y44",
         "domain": [
          0,
          1
         ],
         "matches": "x100",
         "nticks": 20,
         "range": [
          0,
          90
         ],
         "showticklabels": false,
         "title": {}
        },
        "xaxis45": {
         "anchor": "y45",
         "domain": [
          0,
          1
         ],
         "matches": "x100",
         "nticks": 20,
         "range": [
          0,
          90
         ],
         "showticklabels": false,
         "title": {}
        },
        "xaxis46": {
         "anchor": "y46",
         "domain": [
          0,
          1
         ],
         "matches": "x100",
         "nticks": 20,
         "range": [
          0,
          90
         ],
         "showticklabels": false,
         "title": {}
        },
        "xaxis47": {
         "anchor": "y47",
         "domain": [
          0,
          1
         ],
         "matches": "x100",
         "nticks": 20,
         "range": [
          0,
          90
         ],
         "showticklabels": false,
         "title": {}
        },
        "xaxis48": {
         "anchor": "y48",
         "domain": [
          0,
          1
         ],
         "matches": "x100",
         "nticks": 20,
         "range": [
          0,
          90
         ],
         "showticklabels": false,
         "title": {}
        },
        "xaxis49": {
         "anchor": "y49",
         "domain": [
          0,
          1
         ],
         "matches": "x100",
         "nticks": 20,
         "range": [
          0,
          90
         ],
         "showticklabels": false,
         "title": {}
        },
        "xaxis5": {
         "anchor": "y5",
         "domain": [
          0,
          1
         ],
         "matches": "x100",
         "nticks": 20,
         "range": [
          0,
          90
         ],
         "showticklabels": false,
         "title": {}
        },
        "xaxis50": {
         "anchor": "y50",
         "domain": [
          0,
          1
         ],
         "matches": "x100",
         "nticks": 20,
         "range": [
          0,
          90
         ],
         "showticklabels": false,
         "title": {}
        },
        "xaxis51": {
         "anchor": "y51",
         "domain": [
          0,
          1
         ],
         "matches": "x100",
         "nticks": 20,
         "range": [
          0,
          90
         ],
         "showticklabels": false,
         "title": {}
        },
        "xaxis52": {
         "anchor": "y52",
         "domain": [
          0,
          1
         ],
         "matches": "x100",
         "nticks": 20,
         "range": [
          0,
          90
         ],
         "showticklabels": false,
         "title": {}
        },
        "xaxis53": {
         "anchor": "y53",
         "domain": [
          0,
          1
         ],
         "matches": "x100",
         "nticks": 20,
         "range": [
          0,
          90
         ],
         "showticklabels": false,
         "title": {}
        },
        "xaxis54": {
         "anchor": "y54",
         "domain": [
          0,
          1
         ],
         "matches": "x100",
         "nticks": 20,
         "range": [
          0,
          90
         ],
         "showticklabels": false,
         "title": {}
        },
        "xaxis55": {
         "anchor": "y55",
         "domain": [
          0,
          1
         ],
         "matches": "x100",
         "nticks": 20,
         "range": [
          0,
          90
         ],
         "showticklabels": false,
         "title": {}
        },
        "xaxis56": {
         "anchor": "y56",
         "domain": [
          0,
          1
         ],
         "matches": "x100",
         "nticks": 20,
         "range": [
          0,
          90
         ],
         "showticklabels": false,
         "title": {}
        },
        "xaxis57": {
         "anchor": "y57",
         "domain": [
          0,
          1
         ],
         "matches": "x100",
         "nticks": 20,
         "range": [
          0,
          90
         ],
         "showticklabels": false,
         "title": {}
        },
        "xaxis58": {
         "anchor": "y58",
         "domain": [
          0,
          1
         ],
         "matches": "x100",
         "nticks": 20,
         "range": [
          0,
          90
         ],
         "showticklabels": false,
         "title": {}
        },
        "xaxis59": {
         "anchor": "y59",
         "domain": [
          0,
          1
         ],
         "matches": "x100",
         "nticks": 20,
         "range": [
          0,
          90
         ],
         "showticklabels": false,
         "title": {}
        },
        "xaxis6": {
         "anchor": "y6",
         "domain": [
          0,
          1
         ],
         "matches": "x100",
         "nticks": 20,
         "range": [
          0,
          90
         ],
         "showticklabels": false,
         "title": {}
        },
        "xaxis60": {
         "anchor": "y60",
         "domain": [
          0,
          1
         ],
         "matches": "x100",
         "nticks": 20,
         "range": [
          0,
          90
         ],
         "showticklabels": false,
         "title": {}
        },
        "xaxis61": {
         "anchor": "y61",
         "domain": [
          0,
          1
         ],
         "matches": "x100",
         "nticks": 20,
         "range": [
          0,
          90
         ],
         "showticklabels": false,
         "title": {}
        },
        "xaxis62": {
         "anchor": "y62",
         "domain": [
          0,
          1
         ],
         "matches": "x100",
         "nticks": 20,
         "range": [
          0,
          90
         ],
         "showticklabels": false,
         "title": {}
        },
        "xaxis63": {
         "anchor": "y63",
         "domain": [
          0,
          1
         ],
         "matches": "x100",
         "nticks": 20,
         "range": [
          0,
          90
         ],
         "showticklabels": false,
         "title": {}
        },
        "xaxis64": {
         "anchor": "y64",
         "domain": [
          0,
          1
         ],
         "matches": "x100",
         "nticks": 20,
         "range": [
          0,
          90
         ],
         "showticklabels": false,
         "title": {}
        },
        "xaxis65": {
         "anchor": "y65",
         "domain": [
          0,
          1
         ],
         "matches": "x100",
         "nticks": 20,
         "range": [
          0,
          90
         ],
         "showticklabels": false,
         "title": {}
        },
        "xaxis66": {
         "anchor": "y66",
         "domain": [
          0,
          1
         ],
         "matches": "x100",
         "nticks": 20,
         "range": [
          0,
          90
         ],
         "showticklabels": false,
         "title": {}
        },
        "xaxis67": {
         "anchor": "y67",
         "domain": [
          0,
          1
         ],
         "matches": "x100",
         "nticks": 20,
         "range": [
          0,
          90
         ],
         "showticklabels": false,
         "title": {}
        },
        "xaxis68": {
         "anchor": "y68",
         "domain": [
          0,
          1
         ],
         "matches": "x100",
         "nticks": 20,
         "range": [
          0,
          90
         ],
         "showticklabels": false,
         "title": {}
        },
        "xaxis69": {
         "anchor": "y69",
         "domain": [
          0,
          1
         ],
         "matches": "x100",
         "nticks": 20,
         "range": [
          0,
          90
         ],
         "showticklabels": false,
         "title": {}
        },
        "xaxis7": {
         "anchor": "y7",
         "domain": [
          0,
          1
         ],
         "matches": "x100",
         "nticks": 20,
         "range": [
          0,
          90
         ],
         "showticklabels": false,
         "title": {}
        },
        "xaxis70": {
         "anchor": "y70",
         "domain": [
          0,
          1
         ],
         "matches": "x100",
         "nticks": 20,
         "range": [
          0,
          90
         ],
         "showticklabels": false,
         "title": {}
        },
        "xaxis71": {
         "anchor": "y71",
         "domain": [
          0,
          1
         ],
         "matches": "x100",
         "nticks": 20,
         "range": [
          0,
          90
         ],
         "showticklabels": false,
         "title": {}
        },
        "xaxis72": {
         "anchor": "y72",
         "domain": [
          0,
          1
         ],
         "matches": "x100",
         "nticks": 20,
         "range": [
          0,
          90
         ],
         "showticklabels": false,
         "title": {}
        },
        "xaxis73": {
         "anchor": "y73",
         "domain": [
          0,
          1
         ],
         "matches": "x100",
         "nticks": 20,
         "range": [
          0,
          90
         ],
         "showticklabels": false,
         "title": {}
        },
        "xaxis74": {
         "anchor": "y74",
         "domain": [
          0,
          1
         ],
         "matches": "x100",
         "nticks": 20,
         "range": [
          0,
          90
         ],
         "showticklabels": false,
         "title": {}
        },
        "xaxis75": {
         "anchor": "y75",
         "domain": [
          0,
          1
         ],
         "matches": "x100",
         "nticks": 20,
         "range": [
          0,
          90
         ],
         "showticklabels": false,
         "title": {}
        },
        "xaxis76": {
         "anchor": "y76",
         "domain": [
          0,
          1
         ],
         "matches": "x100",
         "nticks": 20,
         "range": [
          0,
          90
         ],
         "showticklabels": false,
         "title": {}
        },
        "xaxis77": {
         "anchor": "y77",
         "domain": [
          0,
          1
         ],
         "matches": "x100",
         "nticks": 20,
         "range": [
          0,
          90
         ],
         "showticklabels": false,
         "title": {}
        },
        "xaxis78": {
         "anchor": "y78",
         "domain": [
          0,
          1
         ],
         "matches": "x100",
         "nticks": 20,
         "range": [
          0,
          90
         ],
         "showticklabels": false,
         "title": {}
        },
        "xaxis79": {
         "anchor": "y79",
         "domain": [
          0,
          1
         ],
         "matches": "x100",
         "nticks": 20,
         "range": [
          0,
          90
         ],
         "showticklabels": false,
         "title": {}
        },
        "xaxis8": {
         "anchor": "y8",
         "domain": [
          0,
          1
         ],
         "matches": "x100",
         "nticks": 20,
         "range": [
          0,
          90
         ],
         "showticklabels": false,
         "title": {}
        },
        "xaxis80": {
         "anchor": "y80",
         "domain": [
          0,
          1
         ],
         "matches": "x100",
         "nticks": 20,
         "range": [
          0,
          90
         ],
         "showticklabels": false,
         "title": {}
        },
        "xaxis81": {
         "anchor": "y81",
         "domain": [
          0,
          1
         ],
         "matches": "x100",
         "nticks": 20,
         "range": [
          0,
          90
         ],
         "showticklabels": false,
         "title": {}
        },
        "xaxis82": {
         "anchor": "y82",
         "domain": [
          0,
          1
         ],
         "matches": "x100",
         "nticks": 20,
         "range": [
          0,
          90
         ],
         "showticklabels": false,
         "title": {}
        },
        "xaxis83": {
         "anchor": "y83",
         "domain": [
          0,
          1
         ],
         "matches": "x100",
         "nticks": 20,
         "range": [
          0,
          90
         ],
         "showticklabels": false,
         "title": {}
        },
        "xaxis84": {
         "anchor": "y84",
         "domain": [
          0,
          1
         ],
         "matches": "x100",
         "nticks": 20,
         "range": [
          0,
          90
         ],
         "showticklabels": false,
         "title": {}
        },
        "xaxis85": {
         "anchor": "y85",
         "domain": [
          0,
          1
         ],
         "matches": "x100",
         "nticks": 20,
         "range": [
          0,
          90
         ],
         "showticklabels": false,
         "title": {}
        },
        "xaxis86": {
         "anchor": "y86",
         "domain": [
          0,
          1
         ],
         "matches": "x100",
         "nticks": 20,
         "range": [
          0,
          90
         ],
         "showticklabels": false,
         "title": {}
        },
        "xaxis87": {
         "anchor": "y87",
         "domain": [
          0,
          1
         ],
         "matches": "x100",
         "nticks": 20,
         "range": [
          0,
          90
         ],
         "showticklabels": false,
         "title": {}
        },
        "xaxis88": {
         "anchor": "y88",
         "domain": [
          0,
          1
         ],
         "matches": "x100",
         "nticks": 20,
         "range": [
          0,
          90
         ],
         "showticklabels": false,
         "title": {}
        },
        "xaxis89": {
         "anchor": "y89",
         "domain": [
          0,
          1
         ],
         "matches": "x100",
         "nticks": 20,
         "range": [
          0,
          90
         ],
         "showticklabels": false,
         "title": {}
        },
        "xaxis9": {
         "anchor": "y9",
         "domain": [
          0,
          1
         ],
         "matches": "x100",
         "nticks": 20,
         "range": [
          0,
          90
         ],
         "showticklabels": false,
         "title": {}
        },
        "xaxis90": {
         "anchor": "y90",
         "domain": [
          0,
          1
         ],
         "matches": "x100",
         "nticks": 20,
         "range": [
          0,
          90
         ],
         "showticklabels": false,
         "title": {}
        },
        "xaxis91": {
         "anchor": "y91",
         "domain": [
          0,
          1
         ],
         "matches": "x100",
         "nticks": 20,
         "range": [
          0,
          90
         ],
         "showticklabels": false,
         "title": {}
        },
        "xaxis92": {
         "anchor": "y92",
         "domain": [
          0,
          1
         ],
         "matches": "x100",
         "nticks": 20,
         "range": [
          0,
          90
         ],
         "showticklabels": false,
         "title": {}
        },
        "xaxis93": {
         "anchor": "y93",
         "domain": [
          0,
          1
         ],
         "matches": "x100",
         "nticks": 20,
         "range": [
          0,
          90
         ],
         "showticklabels": false,
         "title": {}
        },
        "xaxis94": {
         "anchor": "y94",
         "domain": [
          0,
          1
         ],
         "matches": "x100",
         "nticks": 20,
         "range": [
          0,
          90
         ],
         "showticklabels": false,
         "title": {}
        },
        "xaxis95": {
         "anchor": "y95",
         "domain": [
          0,
          1
         ],
         "matches": "x100",
         "nticks": 20,
         "range": [
          0,
          90
         ],
         "showticklabels": false,
         "title": {}
        },
        "xaxis96": {
         "anchor": "y96",
         "domain": [
          0,
          1
         ],
         "matches": "x100",
         "nticks": 20,
         "range": [
          0,
          90
         ],
         "showticklabels": false,
         "title": {}
        },
        "xaxis97": {
         "anchor": "y97",
         "domain": [
          0,
          1
         ],
         "matches": "x100",
         "nticks": 20,
         "range": [
          0,
          90
         ],
         "showticklabels": false,
         "title": {}
        },
        "xaxis98": {
         "anchor": "y98",
         "domain": [
          0,
          1
         ],
         "matches": "x100",
         "nticks": 20,
         "range": [
          0,
          90
         ],
         "showticklabels": false,
         "title": {}
        },
        "xaxis99": {
         "anchor": "y99",
         "domain": [
          0,
          1
         ],
         "matches": "x100",
         "nticks": 20,
         "range": [
          0,
          90
         ],
         "showticklabels": false,
         "title": {}
        },
        "yaxis": {
         "anchor": "x",
         "domain": [
          0.9909899999999987,
          0.9999999999999987
         ],
         "range": [
          0,
          0.06
         ],
         "title": {
          "text": "ecFEF25-75%ecFEV1<br> 1"
         }
        },
        "yaxis10": {
         "anchor": "x10",
         "domain": [
          0.900899999999999,
          0.909909999999999
         ],
         "range": [
          0,
          0.06
         ],
         "title": {
          "text": "ecFEF25-75%ecFEV1<br>19"
         }
        },
        "yaxis100": {
         "anchor": "x100",
         "domain": [
          0,
          0.00901
         ],
         "range": [
          0,
          0.06
         ],
         "title": {
          "text": "ecFEF25-75%ecFEV1<br>199"
         }
        },
        "yaxis11": {
         "anchor": "x11",
         "domain": [
          0.8908899999999991,
          0.899899999999999
         ],
         "range": [
          0,
          0.06
         ],
         "title": {
          "text": "ecFEF25-75%ecFEV1<br>21"
         }
        },
        "yaxis12": {
         "anchor": "x12",
         "domain": [
          0.8808799999999991,
          0.8898899999999991
         ],
         "range": [
          0,
          0.06
         ],
         "title": {
          "text": "ecFEF25-75%ecFEV1<br>23"
         }
        },
        "yaxis13": {
         "anchor": "x13",
         "domain": [
          0.8708699999999991,
          0.8798799999999991
         ],
         "range": [
          0,
          0.06
         ],
         "title": {
          "text": "ecFEF25-75%ecFEV1<br>25"
         }
        },
        "yaxis14": {
         "anchor": "x14",
         "domain": [
          0.8608599999999992,
          0.8698699999999991
         ],
         "range": [
          0,
          0.06
         ],
         "title": {
          "text": "ecFEF25-75%ecFEV1<br>27"
         }
        },
        "yaxis15": {
         "anchor": "x15",
         "domain": [
          0.8508499999999992,
          0.8598599999999992
         ],
         "range": [
          0,
          0.06
         ],
         "title": {
          "text": "ecFEF25-75%ecFEV1<br>29"
         }
        },
        "yaxis16": {
         "anchor": "x16",
         "domain": [
          0.8408399999999993,
          0.8498499999999992
         ],
         "range": [
          0,
          0.06
         ],
         "title": {
          "text": "ecFEF25-75%ecFEV1<br>31"
         }
        },
        "yaxis17": {
         "anchor": "x17",
         "domain": [
          0.8308299999999993,
          0.8398399999999993
         ],
         "range": [
          0,
          0.06
         ],
         "title": {
          "text": "ecFEF25-75%ecFEV1<br>33"
         }
        },
        "yaxis18": {
         "anchor": "x18",
         "domain": [
          0.8208199999999993,
          0.8298299999999993
         ],
         "range": [
          0,
          0.06
         ],
         "title": {
          "text": "ecFEF25-75%ecFEV1<br>35"
         }
        },
        "yaxis19": {
         "anchor": "x19",
         "domain": [
          0.8108099999999994,
          0.8198199999999993
         ],
         "range": [
          0,
          0.06
         ],
         "title": {
          "text": "ecFEF25-75%ecFEV1<br>37"
         }
        },
        "yaxis2": {
         "anchor": "x2",
         "domain": [
          0.9809799999999987,
          0.9899899999999987
         ],
         "range": [
          0,
          0.06
         ],
         "title": {
          "text": "ecFEF25-75%ecFEV1<br> 3"
         }
        },
        "yaxis20": {
         "anchor": "x20",
         "domain": [
          0.8007999999999994,
          0.8098099999999994
         ],
         "range": [
          0,
          0.06
         ],
         "title": {
          "text": "ecFEF25-75%ecFEV1<br>39"
         }
        },
        "yaxis21": {
         "anchor": "x21",
         "domain": [
          0.7907899999999994,
          0.7997999999999994
         ],
         "range": [
          0,
          0.06
         ],
         "title": {
          "text": "ecFEF25-75%ecFEV1<br>41"
         }
        },
        "yaxis22": {
         "anchor": "x22",
         "domain": [
          0.7807799999999995,
          0.7897899999999994
         ],
         "range": [
          0,
          0.06
         ],
         "title": {
          "text": "ecFEF25-75%ecFEV1<br>43"
         }
        },
        "yaxis23": {
         "anchor": "x23",
         "domain": [
          0.7707699999999995,
          0.7797799999999995
         ],
         "range": [
          0,
          0.06
         ],
         "title": {
          "text": "ecFEF25-75%ecFEV1<br>45"
         }
        },
        "yaxis24": {
         "anchor": "x24",
         "domain": [
          0.7607599999999995,
          0.7697699999999995
         ],
         "range": [
          0,
          0.06
         ],
         "title": {
          "text": "ecFEF25-75%ecFEV1<br>47"
         }
        },
        "yaxis25": {
         "anchor": "x25",
         "domain": [
          0.7507499999999996,
          0.7597599999999995
         ],
         "range": [
          0,
          0.06
         ],
         "title": {
          "text": "ecFEF25-75%ecFEV1<br>49"
         }
        },
        "yaxis26": {
         "anchor": "x26",
         "domain": [
          0.7407399999999996,
          0.7497499999999996
         ],
         "range": [
          0,
          0.06
         ],
         "title": {
          "text": "ecFEF25-75%ecFEV1<br>51"
         }
        },
        "yaxis27": {
         "anchor": "x27",
         "domain": [
          0.7307299999999997,
          0.7397399999999996
         ],
         "range": [
          0,
          0.06
         ],
         "title": {
          "text": "ecFEF25-75%ecFEV1<br>53"
         }
        },
        "yaxis28": {
         "anchor": "x28",
         "domain": [
          0.7207199999999998,
          0.7297299999999998
         ],
         "range": [
          0,
          0.06
         ],
         "title": {
          "text": "ecFEF25-75%ecFEV1<br>55"
         }
        },
        "yaxis29": {
         "anchor": "x29",
         "domain": [
          0.7107099999999997,
          0.7197199999999997
         ],
         "range": [
          0,
          0.06
         ],
         "title": {
          "text": "ecFEF25-75%ecFEV1<br>57"
         }
        },
        "yaxis3": {
         "anchor": "x3",
         "domain": [
          0.9709699999999988,
          0.9799799999999987
         ],
         "range": [
          0,
          0.06
         ],
         "title": {
          "text": "ecFEF25-75%ecFEV1<br> 5"
         }
        },
        "yaxis30": {
         "anchor": "x30",
         "domain": [
          0.7006999999999999,
          0.7097099999999998
         ],
         "range": [
          0,
          0.06
         ],
         "title": {
          "text": "ecFEF25-75%ecFEV1<br>59"
         }
        },
        "yaxis31": {
         "anchor": "x31",
         "domain": [
          0.6906899999999998,
          0.6996999999999998
         ],
         "range": [
          0,
          0.06
         ],
         "title": {
          "text": "ecFEF25-75%ecFEV1<br>61"
         }
        },
        "yaxis32": {
         "anchor": "x32",
         "domain": [
          0.68068,
          0.6896899999999999
         ],
         "range": [
          0,
          0.06
         ],
         "title": {
          "text": "ecFEF25-75%ecFEV1<br>63"
         }
        },
        "yaxis33": {
         "anchor": "x33",
         "domain": [
          0.6706699999999999,
          0.6796799999999998
         ],
         "range": [
          0,
          0.06
         ],
         "title": {
          "text": "ecFEF25-75%ecFEV1<br>65"
         }
        },
        "yaxis34": {
         "anchor": "x34",
         "domain": [
          0.66066,
          0.66967
         ],
         "range": [
          0,
          0.06
         ],
         "title": {
          "text": "ecFEF25-75%ecFEV1<br>67"
         }
        },
        "yaxis35": {
         "anchor": "x35",
         "domain": [
          0.65065,
          0.6596599999999999
         ],
         "range": [
          0,
          0.06
         ],
         "title": {
          "text": "ecFEF25-75%ecFEV1<br>69"
         }
        },
        "yaxis36": {
         "anchor": "x36",
         "domain": [
          0.6406400000000001,
          0.6496500000000001
         ],
         "range": [
          0,
          0.06
         ],
         "title": {
          "text": "ecFEF25-75%ecFEV1<br>71"
         }
        },
        "yaxis37": {
         "anchor": "x37",
         "domain": [
          0.63063,
          0.63964
         ],
         "range": [
          0,
          0.06
         ],
         "title": {
          "text": "ecFEF25-75%ecFEV1<br>73"
         }
        },
        "yaxis38": {
         "anchor": "x38",
         "domain": [
          0.6206200000000002,
          0.6296300000000001
         ],
         "range": [
          0,
          0.06
         ],
         "title": {
          "text": "ecFEF25-75%ecFEV1<br>75"
         }
        },
        "yaxis39": {
         "anchor": "x39",
         "domain": [
          0.6106100000000001,
          0.6196200000000001
         ],
         "range": [
          0,
          0.06
         ],
         "title": {
          "text": "ecFEF25-75%ecFEV1<br>77"
         }
        },
        "yaxis4": {
         "anchor": "x4",
         "domain": [
          0.9609599999999988,
          0.9699699999999988
         ],
         "range": [
          0,
          0.06
         ],
         "title": {
          "text": "ecFEF25-75%ecFEV1<br> 7"
         }
        },
        "yaxis40": {
         "anchor": "x40",
         "domain": [
          0.6006000000000002,
          0.6096100000000002
         ],
         "range": [
          0,
          0.06
         ],
         "title": {
          "text": "ecFEF25-75%ecFEV1<br>79"
         }
        },
        "yaxis41": {
         "anchor": "x41",
         "domain": [
          0.5905900000000003,
          0.5996000000000002
         ],
         "range": [
          0,
          0.06
         ],
         "title": {
          "text": "ecFEF25-75%ecFEV1<br>81"
         }
        },
        "yaxis42": {
         "anchor": "x42",
         "domain": [
          0.5805800000000003,
          0.5895900000000003
         ],
         "range": [
          0,
          0.06
         ],
         "title": {
          "text": "ecFEF25-75%ecFEV1<br>83"
         }
        },
        "yaxis43": {
         "anchor": "x43",
         "domain": [
          0.5705700000000004,
          0.5795800000000003
         ],
         "range": [
          0,
          0.06
         ],
         "title": {
          "text": "ecFEF25-75%ecFEV1<br>85"
         }
        },
        "yaxis44": {
         "anchor": "x44",
         "domain": [
          0.5605600000000004,
          0.5695700000000004
         ],
         "range": [
          0,
          0.06
         ],
         "title": {
          "text": "ecFEF25-75%ecFEV1<br>87"
         }
        },
        "yaxis45": {
         "anchor": "x45",
         "domain": [
          0.5505500000000004,
          0.5595600000000004
         ],
         "range": [
          0,
          0.06
         ],
         "title": {
          "text": "ecFEF25-75%ecFEV1<br>89"
         }
        },
        "yaxis46": {
         "anchor": "x46",
         "domain": [
          0.5405400000000004,
          0.5495500000000003
         ],
         "range": [
          0,
          0.06
         ],
         "title": {
          "text": "ecFEF25-75%ecFEV1<br>91"
         }
        },
        "yaxis47": {
         "anchor": "x47",
         "domain": [
          0.5305300000000004,
          0.5395400000000004
         ],
         "range": [
          0,
          0.06
         ],
         "title": {
          "text": "ecFEF25-75%ecFEV1<br>93"
         }
        },
        "yaxis48": {
         "anchor": "x48",
         "domain": [
          0.5205200000000003,
          0.5295300000000003
         ],
         "range": [
          0,
          0.06
         ],
         "title": {
          "text": "ecFEF25-75%ecFEV1<br>95"
         }
        },
        "yaxis49": {
         "anchor": "x49",
         "domain": [
          0.5105100000000004,
          0.5195200000000003
         ],
         "range": [
          0,
          0.06
         ],
         "title": {
          "text": "ecFEF25-75%ecFEV1<br>97"
         }
        },
        "yaxis5": {
         "anchor": "x5",
         "domain": [
          0.9509499999999989,
          0.9599599999999988
         ],
         "range": [
          0,
          0.06
         ],
         "title": {
          "text": "ecFEF25-75%ecFEV1<br> 9"
         }
        },
        "yaxis50": {
         "anchor": "x50",
         "domain": [
          0.5005000000000003,
          0.5095100000000002
         ],
         "range": [
          0,
          0.06
         ],
         "title": {
          "text": "ecFEF25-75%ecFEV1<br>99"
         }
        },
        "yaxis51": {
         "anchor": "x51",
         "domain": [
          0.49049000000000026,
          0.4995000000000003
         ],
         "range": [
          0,
          0.06
         ],
         "title": {
          "text": "ecFEF25-75%ecFEV1<br>101"
         }
        },
        "yaxis52": {
         "anchor": "x52",
         "domain": [
          0.48048000000000024,
          0.48949000000000026
         ],
         "range": [
          0,
          0.06
         ],
         "title": {
          "text": "ecFEF25-75%ecFEV1<br>103"
         }
        },
        "yaxis53": {
         "anchor": "x53",
         "domain": [
          0.4704700000000002,
          0.47948000000000024
         ],
         "range": [
          0,
          0.06
         ],
         "title": {
          "text": "ecFEF25-75%ecFEV1<br>105"
         }
        },
        "yaxis54": {
         "anchor": "x54",
         "domain": [
          0.4604600000000002,
          0.4694700000000002
         ],
         "range": [
          0,
          0.06
         ],
         "title": {
          "text": "ecFEF25-75%ecFEV1<br>107"
         }
        },
        "yaxis55": {
         "anchor": "x55",
         "domain": [
          0.4504500000000002,
          0.4594600000000002
         ],
         "range": [
          0,
          0.06
         ],
         "title": {
          "text": "ecFEF25-75%ecFEV1<br>109"
         }
        },
        "yaxis56": {
         "anchor": "x56",
         "domain": [
          0.44044000000000016,
          0.4494500000000002
         ],
         "range": [
          0,
          0.06
         ],
         "title": {
          "text": "ecFEF25-75%ecFEV1<br>111"
         }
        },
        "yaxis57": {
         "anchor": "x57",
         "domain": [
          0.43043000000000015,
          0.43944000000000016
         ],
         "range": [
          0,
          0.06
         ],
         "title": {
          "text": "ecFEF25-75%ecFEV1<br>113"
         }
        },
        "yaxis58": {
         "anchor": "x58",
         "domain": [
          0.4204200000000001,
          0.42943000000000014
         ],
         "range": [
          0,
          0.06
         ],
         "title": {
          "text": "ecFEF25-75%ecFEV1<br>115"
         }
        },
        "yaxis59": {
         "anchor": "x59",
         "domain": [
          0.4104100000000001,
          0.4194200000000001
         ],
         "range": [
          0,
          0.06
         ],
         "title": {
          "text": "ecFEF25-75%ecFEV1<br>117"
         }
        },
        "yaxis6": {
         "anchor": "x6",
         "domain": [
          0.9409399999999989,
          0.9499499999999989
         ],
         "range": [
          0,
          0.06
         ],
         "title": {
          "text": "ecFEF25-75%ecFEV1<br>11"
         }
        },
        "yaxis60": {
         "anchor": "x60",
         "domain": [
          0.4004000000000001,
          0.4094100000000001
         ],
         "range": [
          0,
          0.06
         ],
         "title": {
          "text": "ecFEF25-75%ecFEV1<br>119"
         }
        },
        "yaxis61": {
         "anchor": "x61",
         "domain": [
          0.39039000000000007,
          0.3994000000000001
         ],
         "range": [
          0,
          0.06
         ],
         "title": {
          "text": "ecFEF25-75%ecFEV1<br>121"
         }
        },
        "yaxis62": {
         "anchor": "x62",
         "domain": [
          0.38038000000000005,
          0.38939000000000007
         ],
         "range": [
          0,
          0.06
         ],
         "title": {
          "text": "ecFEF25-75%ecFEV1<br>123"
         }
        },
        "yaxis63": {
         "anchor": "x63",
         "domain": [
          0.37037000000000003,
          0.37938000000000005
         ],
         "range": [
          0,
          0.06
         ],
         "title": {
          "text": "ecFEF25-75%ecFEV1<br>125"
         }
        },
        "yaxis64": {
         "anchor": "x64",
         "domain": [
          0.36036,
          0.36937000000000003
         ],
         "range": [
          0,
          0.06
         ],
         "title": {
          "text": "ecFEF25-75%ecFEV1<br>127"
         }
        },
        "yaxis65": {
         "anchor": "x65",
         "domain": [
          0.35035000000000005,
          0.35936000000000007
         ],
         "range": [
          0,
          0.06
         ],
         "title": {
          "text": "ecFEF25-75%ecFEV1<br>129"
         }
        },
        "yaxis66": {
         "anchor": "x66",
         "domain": [
          0.34034,
          0.34935
         ],
         "range": [
          0,
          0.06
         ],
         "title": {
          "text": "ecFEF25-75%ecFEV1<br>131"
         }
        },
        "yaxis67": {
         "anchor": "x67",
         "domain": [
          0.33033,
          0.33934000000000003
         ],
         "range": [
          0,
          0.06
         ],
         "title": {
          "text": "ecFEF25-75%ecFEV1<br>133"
         }
        },
        "yaxis68": {
         "anchor": "x68",
         "domain": [
          0.32031999999999994,
          0.32932999999999996
         ],
         "range": [
          0,
          0.06
         ],
         "title": {
          "text": "ecFEF25-75%ecFEV1<br>135"
         }
        },
        "yaxis69": {
         "anchor": "x69",
         "domain": [
          0.31031,
          0.31932
         ],
         "range": [
          0,
          0.06
         ],
         "title": {
          "text": "ecFEF25-75%ecFEV1<br>137"
         }
        },
        "yaxis7": {
         "anchor": "x7",
         "domain": [
          0.9309299999999989,
          0.9399399999999989
         ],
         "range": [
          0,
          0.06
         ],
         "title": {
          "text": "ecFEF25-75%ecFEV1<br>13"
         }
        },
        "yaxis70": {
         "anchor": "x70",
         "domain": [
          0.3002999999999999,
          0.3093099999999999
         ],
         "range": [
          0,
          0.06
         ],
         "title": {
          "text": "ecFEF25-75%ecFEV1<br>139"
         }
        },
        "yaxis71": {
         "anchor": "x71",
         "domain": [
          0.29028999999999994,
          0.29929999999999995
         ],
         "range": [
          0,
          0.06
         ],
         "title": {
          "text": "ecFEF25-75%ecFEV1<br>141"
         }
        },
        "yaxis72": {
         "anchor": "x72",
         "domain": [
          0.2802799999999999,
          0.28928999999999994
         ],
         "range": [
          0,
          0.06
         ],
         "title": {
          "text": "ecFEF25-75%ecFEV1<br>143"
         }
        },
        "yaxis73": {
         "anchor": "x73",
         "domain": [
          0.2702699999999999,
          0.2792799999999999
         ],
         "range": [
          0,
          0.06
         ],
         "title": {
          "text": "ecFEF25-75%ecFEV1<br>145"
         }
        },
        "yaxis74": {
         "anchor": "x74",
         "domain": [
          0.26025999999999994,
          0.26926999999999995
         ],
         "range": [
          0,
          0.06
         ],
         "title": {
          "text": "ecFEF25-75%ecFEV1<br>147"
         }
        },
        "yaxis75": {
         "anchor": "x75",
         "domain": [
          0.2502499999999999,
          0.25925999999999993
         ],
         "range": [
          0,
          0.06
         ],
         "title": {
          "text": "ecFEF25-75%ecFEV1<br>149"
         }
        },
        "yaxis76": {
         "anchor": "x76",
         "domain": [
          0.24023999999999993,
          0.24924999999999992
         ],
         "range": [
          0,
          0.06
         ],
         "title": {
          "text": "ecFEF25-75%ecFEV1<br>151"
         }
        },
        "yaxis77": {
         "anchor": "x77",
         "domain": [
          0.23022999999999993,
          0.23923999999999992
         ],
         "range": [
          0,
          0.06
         ],
         "title": {
          "text": "ecFEF25-75%ecFEV1<br>153"
         }
        },
        "yaxis78": {
         "anchor": "x78",
         "domain": [
          0.22021999999999994,
          0.22922999999999993
         ],
         "range": [
          0,
          0.06
         ],
         "title": {
          "text": "ecFEF25-75%ecFEV1<br>155"
         }
        },
        "yaxis79": {
         "anchor": "x79",
         "domain": [
          0.21020999999999995,
          0.21921999999999994
         ],
         "range": [
          0,
          0.06
         ],
         "title": {
          "text": "ecFEF25-75%ecFEV1<br>157"
         }
        },
        "yaxis8": {
         "anchor": "x8",
         "domain": [
          0.920919999999999,
          0.9299299999999989
         ],
         "range": [
          0,
          0.06
         ],
         "title": {
          "text": "ecFEF25-75%ecFEV1<br>15"
         }
        },
        "yaxis80": {
         "anchor": "x80",
         "domain": [
          0.20019999999999996,
          0.20920999999999995
         ],
         "range": [
          0,
          0.06
         ],
         "title": {
          "text": "ecFEF25-75%ecFEV1<br>159"
         }
        },
        "yaxis81": {
         "anchor": "x81",
         "domain": [
          0.19018999999999997,
          0.19919999999999996
         ],
         "range": [
          0,
          0.06
         ],
         "title": {
          "text": "ecFEF25-75%ecFEV1<br>161"
         }
        },
        "yaxis82": {
         "anchor": "x82",
         "domain": [
          0.18018,
          0.18919
         ],
         "range": [
          0,
          0.06
         ],
         "title": {
          "text": "ecFEF25-75%ecFEV1<br>163"
         }
        },
        "yaxis83": {
         "anchor": "x83",
         "domain": [
          0.17017,
          0.17917999999999998
         ],
         "range": [
          0,
          0.06
         ],
         "title": {
          "text": "ecFEF25-75%ecFEV1<br>165"
         }
        },
        "yaxis84": {
         "anchor": "x84",
         "domain": [
          0.16016000000000002,
          0.16917000000000001
         ],
         "range": [
          0,
          0.06
         ],
         "title": {
          "text": "ecFEF25-75%ecFEV1<br>167"
         }
        },
        "yaxis85": {
         "anchor": "x85",
         "domain": [
          0.15015,
          0.15916
         ],
         "range": [
          0,
          0.06
         ],
         "title": {
          "text": "ecFEF25-75%ecFEV1<br>169"
         }
        },
        "yaxis86": {
         "anchor": "x86",
         "domain": [
          0.14014000000000004,
          0.14915000000000003
         ],
         "range": [
          0,
          0.06
         ],
         "title": {
          "text": "ecFEF25-75%ecFEV1<br>171"
         }
        },
        "yaxis87": {
         "anchor": "x87",
         "domain": [
          0.13013000000000005,
          0.13914000000000004
         ],
         "range": [
          0,
          0.06
         ],
         "title": {
          "text": "ecFEF25-75%ecFEV1<br>173"
         }
        },
        "yaxis88": {
         "anchor": "x88",
         "domain": [
          0.12012000000000003,
          0.12913000000000002
         ],
         "range": [
          0,
          0.06
         ],
         "title": {
          "text": "ecFEF25-75%ecFEV1<br>175"
         }
        },
        "yaxis89": {
         "anchor": "x89",
         "domain": [
          0.11011000000000003,
          0.11912000000000003
         ],
         "range": [
          0,
          0.06
         ],
         "title": {
          "text": "ecFEF25-75%ecFEV1<br>177"
         }
        },
        "yaxis9": {
         "anchor": "x9",
         "domain": [
          0.910909999999999,
          0.919919999999999
         ],
         "range": [
          0,
          0.06
         ],
         "title": {
          "text": "ecFEF25-75%ecFEV1<br>17"
         }
        },
        "yaxis90": {
         "anchor": "x90",
         "domain": [
          0.10010000000000002,
          0.10911000000000003
         ],
         "range": [
          0,
          0.06
         ],
         "title": {
          "text": "ecFEF25-75%ecFEV1<br>179"
         }
        },
        "yaxis91": {
         "anchor": "x91",
         "domain": [
          0.09009000000000003,
          0.09910000000000004
         ],
         "range": [
          0,
          0.06
         ],
         "title": {
          "text": "ecFEF25-75%ecFEV1<br>181"
         }
        },
        "yaxis92": {
         "anchor": "x92",
         "domain": [
          0.08008000000000001,
          0.08909000000000002
         ],
         "range": [
          0,
          0.06
         ],
         "title": {
          "text": "ecFEF25-75%ecFEV1<br>183"
         }
        },
        "yaxis93": {
         "anchor": "x93",
         "domain": [
          0.07007000000000002,
          0.07908000000000003
         ],
         "range": [
          0,
          0.06
         ],
         "title": {
          "text": "ecFEF25-75%ecFEV1<br>185"
         }
        },
        "yaxis94": {
         "anchor": "x94",
         "domain": [
          0.06006000000000001,
          0.06907
         ],
         "range": [
          0,
          0.06
         ],
         "title": {
          "text": "ecFEF25-75%ecFEV1<br>187"
         }
        },
        "yaxis95": {
         "anchor": "x95",
         "domain": [
          0.050050000000000004,
          0.05906
         ],
         "range": [
          0,
          0.06
         ],
         "title": {
          "text": "ecFEF25-75%ecFEV1<br>189"
         }
        },
        "yaxis96": {
         "anchor": "x96",
         "domain": [
          0.040040000000000006,
          0.04905000000000001
         ],
         "range": [
          0,
          0.06
         ],
         "title": {
          "text": "ecFEF25-75%ecFEV1<br>191"
         }
        },
        "yaxis97": {
         "anchor": "x97",
         "domain": [
          0.03003,
          0.039040000000000005
         ],
         "range": [
          0,
          0.06
         ],
         "title": {
          "text": "ecFEF25-75%ecFEV1<br>193"
         }
        },
        "yaxis98": {
         "anchor": "x98",
         "domain": [
          0.020020000000000003,
          0.029030000000000004
         ],
         "range": [
          0,
          0.06
         ],
         "title": {
          "text": "ecFEF25-75%ecFEV1<br>195"
         }
        },
        "yaxis99": {
         "anchor": "x99",
         "domain": [
          0.010010000000000002,
          0.019020000000000002
         ],
         "range": [
          0,
          0.06
         ],
         "title": {
          "text": "ecFEF25-75%ecFEV1<br>197"
         }
        }
       }
      }
     },
     "metadata": {},
     "output_type": "display_data"
    }
   ],
   "source": [
    "fig, title = cpth.plot_2d_cpt(cptsave, ecFEF2575prctecFEV1, AR, p_range=[0, 0.06], invert=True, height=4000, vspace=0.001, y_label_two_lines=True)\n",
    "# Save in CPTs\n",
    "fig.write_image(\n",
    "    f\"{dh.get_path_to_main()}PlotsBreathe/CPTs/CPT - P(AR|ecFEF25-75%ecFEV1) two days model (ecFEV1, addmult ecfev1 noise).pdf\"\n",
    ")\n",
    "# fig.write_image(\n",
    "#     f\"{dh.get_path_to_main()}PlotsBreathe/CPTs/CPT - P(ecFEF25-75%ecFEV1|AR) two days model (ecFEV1, addmult ecfev1 noise).pdf\"\n",
    "# )\n",
    "# fig.show()"
   ]
  },
  {
   "cell_type": "code",
   "execution_count": 23,
   "metadata": {},
   "outputs": [],
   "source": [
    "cpth.save_cpt(\n",
    "    [ecFEF2575prctecFEV1, AR], cptsave, suffix=\"ecfev1_2_days_model_add_mult_noise\"\n",
    ")"
   ]
  },
  {
   "cell_type": "markdown",
   "metadata": {},
   "source": [
    "# Plot ecFEF25-75%ecFEV1 vs AR sample"
   ]
  },
  {
   "cell_type": "code",
   "execution_count": null,
   "metadata": {},
   "outputs": [],
   "source": [
    "df_sampled, df_f3 = cpt_and_plots.get_sampled_df_and_statistics_df(df3, 1, AR)\n",
    "df_sampled_tmp = df_sampled[df_sampled[\"ecFEF2575%ecFEV1\"] < 200]\n",
    "cpt_and_plots.plot_FEF2575_ratio_with_IA(\n",
    "    df_sampled_tmp, \"AR sample\", \"ecFEF2575%ecFEV1\"\n",
    ")"
   ]
  },
  {
   "cell_type": "markdown",
   "metadata": {},
   "source": [
    "# Model the relationship between AR and IA"
   ]
  },
  {
   "cell_type": "code",
   "execution_count": null,
   "metadata": {},
   "outputs": [],
   "source": [
    "df3 = dh.load_excel(\n",
    "    dh.get_path_to_main()\n",
    "    + \"ExcelFiles/BR/Refining_F3/infer_FEV1-FEF2575-based-AR-and-IA_using_O2Sat_FEV1_FEF2575.xlsx\",\n",
    "    [\"AR\", \"IA\"],\n",
    ")"
   ]
  },
  {
   "cell_type": "markdown",
   "metadata": {},
   "source": [
    "## Relationship between IA and AR"
   ]
  },
  {
   "cell_type": "code",
   "execution_count": null,
   "metadata": {},
   "outputs": [],
   "source": [
    "fig = px.scatter(df3, x=\"AR mean\", y=\"IA mean\", color=\"ID\")\n",
    "fig.update_traces(marker=dict(size=4))\n",
    "fig.update_layout(width=1000, height=600, title=f\"IA vs AR\")\n",
    "fig.show()"
   ]
  },
  {
   "cell_type": "code",
   "execution_count": null,
   "metadata": {},
   "outputs": [],
   "source": [
    "# Why is there fewer points with high IA where AR is in 25-50%?\n",
    "# Outlying IA values are specific to a few (5) individuals. We just don't have an individual which is in the 25-50%.\n",
    "# It makes sense to add Dirichlet data prior\n",
    "df3[(df3[\"AR mean\"] < 30) & (df3[\"IA mean\"] > 8)].drop(columns=[\"AR\", \"IA\"])"
   ]
  },
  {
   "cell_type": "markdown",
   "metadata": {},
   "source": [
    "## Relationship between IA and AR after sampling (+ Dirichlet input)"
   ]
  },
  {
   "cell_type": "code",
   "execution_count": null,
   "metadata": {},
   "outputs": [],
   "source": [
    "AR_bin_width = 10  # Not necessary for sampling, hence putting a high value\n",
    "n_samples = 20\n",
    "df_sampled_tmp = cpt_and_plots.get_sampled_df_and_statistics_df_for_IA(\n",
    "    df3, n_samples, AR, AR_bin_width, IA\n",
    ")"
   ]
  },
  {
   "cell_type": "code",
   "execution_count": null,
   "metadata": {},
   "outputs": [],
   "source": [
    "def add_generated_dirichlet_fake_data_prior(df, AR, IA, n):\n",
    "    dirichlet_data = pd.DataFrame()\n",
    "    for ar_low, ar_high in AR.get_bins_arr():\n",
    "        for ia_low, ia_high in IA.get_bins_arr():\n",
    "            dirichlet_sample = pd.DataFrame(\n",
    "                {\n",
    "                    \"AR sample\": np.random.uniform(ar_low, ar_high, n),\n",
    "                    \"IA sample\": np.random.uniform(ia_low, ia_high, n),\n",
    "                }\n",
    "            )\n",
    "            dirichlet_data = pd.concat([dirichlet_data, dirichlet_sample])\n",
    "\n",
    "    df[\"Dirichlet\"] = False\n",
    "    dirichlet_data[\"Dirichlet\"] = True\n",
    "\n",
    "    return pd.concat([df, dirichlet_data])"
   ]
  },
  {
   "cell_type": "code",
   "execution_count": null,
   "metadata": {},
   "outputs": [],
   "source": [
    "# Add dirichlet input\n",
    "AR_bin_width = 4\n",
    "IA_bin_width = 1\n",
    "df_sampled_tmp = df_sampled_tmp[[\"IA sample\", \"AR sample\"]]\n",
    "df_sampled_tmp = cpt_and_plots.add_binned_up_var(\n",
    "    df_sampled_tmp, \"AR sample\", \"AR\", AR_bin_width\n",
    ")\n",
    "df_sampled_tmp = cpt_and_plots.add_binned_up_var(\n",
    "    df_sampled_tmp, \"IA sample\", \"IA\", IA_bin_width\n",
    ")\n",
    "\n",
    "# For each AR bin and for each IA bin, add a Dirichlet prior of 10 uniformly distributed datapoints\n",
    "n_dirichlet = 1  # 20 samples with bin width of 10 = 4 samples with bin width of 2\n",
    "\n",
    "# Using bins with full resolution\n",
    "df_sampled_tmp_dirichet = add_generated_dirichlet_fake_data_prior(\n",
    "    df_sampled_tmp, AR, IA, n_dirichlet\n",
    ")\n",
    "print(df_sampled_tmp.shape)"
   ]
  },
  {
   "cell_type": "code",
   "execution_count": null,
   "metadata": {},
   "outputs": [],
   "source": [
    "fig = px.scatter(df_sampled_tmp, x=\"AR sample\", y=\"IA sample\", color=\"ID\")\n",
    "# fig = px.scatter(df_sampled_tmp_dirichet, x=\"AR sample\", y=\"IA sample\", color='Dirichlet')\n",
    "fig.update_traces(marker=dict(size=2))\n",
    "fig.update_layout(width=1000, height=600, title=f\"IA vs AR, {n_samples} samples\")\n",
    "fig.show()"
   ]
  },
  {
   "cell_type": "markdown",
   "metadata": {},
   "source": [
    "## Sample"
   ]
  },
  {
   "cell_type": "code",
   "execution_count": null,
   "metadata": {},
   "outputs": [],
   "source": [
    "AR_bin_width = 4\n",
    "IA_bin_width = 1\n",
    "n_samples = 100\n",
    "ar_col = \"FEV1-FEF2575-based AR\"\n",
    "\n",
    "df_sampled_3 = cpt_and_plots.get_sampled_df_for_AR_IA(df3, n_samples, AR, IA)"
   ]
  },
  {
   "cell_type": "markdown",
   "metadata": {},
   "source": [
    "## Add dirichlet prior"
   ]
  },
  {
   "cell_type": "code",
   "execution_count": null,
   "metadata": {},
   "outputs": [],
   "source": [
    "# Add Dirichlet fake data\n",
    "print(df_sampled_3.shape)\n",
    "# 4m datapoints is way to much, we need to randomly pick a subset of 100k of it\n",
    "\n",
    "n_dirichlet = 1\n",
    "df_sampled_3_dirichlet = add_generated_dirichlet_fake_data_prior(\n",
    "    df_sampled_3, AR, IA, n_dirichlet\n",
    ")\n",
    "\n",
    "n_samples_filtered = 300000\n",
    "df_sampled_3_dirichlet_reduced = df_sampled_3_dirichlet.sample(n_samples_filtered)\n",
    "\n",
    "fig = px.scatter(\n",
    "    df_sampled_3_dirichlet_reduced, x=\"AR sample\", y=\"IA sample\", color=\"Dirichlet\"\n",
    ")\n",
    "fig.update_traces(marker=dict(size=3))\n",
    "fig.update_layout(\n",
    "    width=1000,\n",
    "    height=600,\n",
    "    title=f\"IA vs AR, {n_samples_filtered} samples drawn after a {n_samples}x supersampling\",\n",
    ")\n",
    "fig.show()"
   ]
  },
  {
   "cell_type": "code",
   "execution_count": null,
   "metadata": {},
   "outputs": [],
   "source": [
    "# Bin up variables\n",
    "df_sample_fit = df_sampled_3_dirichlet\n",
    "# df_sample_fit = df_sampled_3\n",
    "\n",
    "df_sample_fit = cpt_and_plots.add_binned_up_var(\n",
    "    df_sample_fit, \"AR sample\", \"AR\", AR_bin_width\n",
    ")\n",
    "df_sample_fit = cpt_and_plots.add_binned_up_var(\n",
    "    df_sample_fit, \"IA sample\", \"IA\", IA_bin_width\n",
    ")\n",
    "\n",
    "ar_groups = np.sort(list(df_sample_fit[\"AR midbin\"].unique()))\n",
    "ar_groups"
   ]
  },
  {
   "cell_type": "markdown",
   "metadata": {},
   "source": [
    "## Fit Boltzmann MLE/MSE, custom exp MSE, Log series MLE"
   ]
  },
  {
   "cell_type": "code",
   "execution_count": null,
   "metadata": {},
   "outputs": [],
   "source": [
    "# MLE\n",
    "import scipy.stats as stats\n",
    "from scipy.optimize import minimize\n",
    "\n",
    "cpt_ia_ar = np.zeros([IA.card, len(ar_groups), 4])\n",
    "\n",
    "# ar_groups_with_n = df_sample_fit['AR midbin'].value_counts().sort_index()\n",
    "# ar_group_index = list(map(lambda ar_value: f\"AR={ar_value:g}%\", ar_groups_with_n.index))\n",
    "# ar_group_count = list(map(lambda ar_count: f\"n={ar_count}\", ar_groups_with_n.values))\n",
    "# ar_group_legend = [f\"AR midbin={ar_group_index:g}%<br>n={ar_group_count}\" for ar_group_index, ar_group_count in zip(ar_groups_with_n.index, ar_groups_with_n.values)]\n",
    "\n",
    "\n",
    "# f\"AR={ar_group}%<br>n={df_tmp['IA sample'].shape[0]}\n",
    "\n",
    "for fit_id in [1, 2, 3, 4]:\n",
    "\n",
    "    fig = make_subplots(\n",
    "        cols=2,\n",
    "        rows=len(ar_groups),\n",
    "        shared_xaxes=\"all\",\n",
    "        # y_title=\"Probability\",\n",
    "        x_title=\"Inactive alveoli midbin value (%)\",\n",
    "        # row_titles=ar_group_legend,\n",
    "        column_titles=[\n",
    "            \"Probabilities given in linear scale\",\n",
    "            \"Probabilities given in log scale\",\n",
    "        ],\n",
    "        # vertical_spacing=0.02,\n",
    "        horizontal_spacing=0.04,\n",
    "    )\n",
    "\n",
    "    for idx, ar_group in enumerate(ar_groups):\n",
    "        df_tmp = df_sample_fit[df_sample_fit[\"AR midbin\"] == ar_group].copy()\n",
    "\n",
    "        # Create histogram data for IA, binned by IA bins\n",
    "        s_ia_hist = df_tmp[\"IA midbin\"].value_counts()\n",
    "\n",
    "        # Add 10% of the data distributed evenly on each bin\n",
    "        # print(\"dirichlet factor\", round(s_ia_hist.sum() * 0.1 / IA.card))\n",
    "        # s_ia_hist_dirichlet = s_ia_hist  # + round(s_ia_hist.sum() * 0.1 / IA.card)\n",
    "        # s_ia_hist_dirichlet = s_ia_hist  + 100\n",
    "        # s_ia_hist_norm = s_ia_hist_dirichlet / s_ia_hist_dirichlet.sum()\n",
    "        s_ia_hist_norm = s_ia_hist / s_ia_hist.sum()\n",
    "\n",
    "        x = np.array(s_ia_hist_norm.index)\n",
    "        p = s_ia_hist_norm.values\n",
    "\n",
    "        # The boltzmann distribution is defined for integer values (not float)\n",
    "        # That means we can't use the midbin value of the IA bins (since it's usually a float)\n",
    "        # Instead we'll designate the bin by its lower boundary\n",
    "        # Input data: the midbin value (uniform approximation within each bin).\n",
    "        # Output data fetched using the bin's lower boundary value\n",
    "\n",
    "        def get_y_for_fit(fit_id):\n",
    "            # Boltzmann fit with MLE\n",
    "            if fit_id == 1:\n",
    "                bounds = [(0, 2), (IA.card, IA.card)]\n",
    "                result = stats.fit(\n",
    "                    stats.boltzmann, df_tmp[\"IA midbin\"], bounds, method=\"mle\"\n",
    "                )\n",
    "                dist_name = \"Boltzmann\"\n",
    "                params_str = f\"param={result.params.lambda_:.4g}\"\n",
    "                print(f\"{result}\")\n",
    "                y_fit = stats.boltzmann(*result.params).pmf(IA.bins)\n",
    "\n",
    "            # Log series fit with MLE\n",
    "            if fit_id == 2:\n",
    "                bounds = [(0, 1)]\n",
    "                result = stats.fit(\n",
    "                    stats.logser, df_tmp[\"IA midbin\"].to_numpy() + 1, bounds\n",
    "                )\n",
    "                dist_name = \"Log-Series\"\n",
    "                params_str = f\"param={result.params.p:.4g}\"\n",
    "                print(f\"{result}\")\n",
    "                y_fit = stats.logser(*result.params).pmf(IA.bins + 1)\n",
    "\n",
    "            # Fit decay with MSE\n",
    "            if fit_id == 3:\n",
    "                dist_name = \"Exponential with MSE\"\n",
    "\n",
    "                def func(x, A, K, C):\n",
    "                    # C = 0\n",
    "                    # return K * x + np.log(A)\n",
    "                    return A * np.exp(-x / K) + C\n",
    "\n",
    "                def objective(params, x, y):\n",
    "                    return np.sum((func(x, *params) - y) ** 2)\n",
    "\n",
    "                # Initial guess for parameters\n",
    "                initial_guess = [1, 1, 0]\n",
    "                # Enforce constraint: function can't give negative value\n",
    "                cons = {\n",
    "                    \"type\": \"ineq\",\n",
    "                    \"fun\": lambda params: func(x, *params),\n",
    "                }\n",
    "                # cons = {}\n",
    "                # Minimize the objective function with the constraint\n",
    "                result = minimize(\n",
    "                    objective, initial_guess, args=(x, p), constraints=cons\n",
    "                )\n",
    "                A, K, C = result.x\n",
    "                print(f\"A: {A:.5f}, K: {K:.5f}, C: {C:.5f}\")\n",
    "                params_str = f\"A={A:.2g}<br>K={K:.2g}<br>C={C:.2g}\"\n",
    "                # params_str = f\"{A:.2g},{K:.2g},{C:.2g}\"\n",
    "                y_fit = func(IA.midbins, A, K, C)\n",
    "\n",
    "            if fit_id == 4:\n",
    "                # Fit Boltzmann with MSE\n",
    "                dist_name = \"Boltzmann with MSE\"\n",
    "\n",
    "                def func(x, lambda_):\n",
    "                    # C = 0\n",
    "                    # return K * x + np.log(A)\n",
    "                    return (\n",
    "                        (1 - np.exp(-lambda_))\n",
    "                        * np.exp(-lambda_ * x)\n",
    "                        / (1 - np.exp(-lambda_ * IA.card))\n",
    "                    )\n",
    "\n",
    "                def objective(params, x, y):\n",
    "                    return np.sum((func(x, *params) - y) ** 2)\n",
    "\n",
    "                # Initial guess for parameters\n",
    "                initial_guess = [0.8]\n",
    "                # Enforce constraint: function can't give negative value\n",
    "                cons = {\n",
    "                    \"type\": \"ineq\",\n",
    "                    \"fun\": lambda params: func(x, *params),\n",
    "                }\n",
    "                # cons = {}\n",
    "                # Minimize the objective function with the constraint\n",
    "                result = minimize(\n",
    "                    objective, initial_guess, args=(x, p), constraints=cons\n",
    "                )\n",
    "                [lambda_] = result.x\n",
    "                print(f\"lambda_={lambda_:.5g}\")\n",
    "                params_str = f\"param={lambda_:.4g}\"\n",
    "                y_fit = func(IA.midbins, result.x)\n",
    "            return y_fit, dist_name, params_str\n",
    "\n",
    "        y_fit_plot, dist_name, params_str = get_y_for_fit(fit_id)\n",
    "        cpt_ia_ar[:, idx, fit_id - 1] = y_fit_plot\n",
    "\n",
    "        fig.add_trace(\n",
    "            go.Bar(\n",
    "                x=x,\n",
    "                y=p,\n",
    "                name=\"Inferred inactive alveoli data\",\n",
    "                marker=dict(color=\"#0072b2\"),\n",
    "                legendgroup=\"2\",\n",
    "                showlegend=True if idx == 0 else False,\n",
    "            ),\n",
    "            col=1,\n",
    "            row=idx + 1,\n",
    "        )\n",
    "        fig.add_trace(\n",
    "            go.Bar(\n",
    "                x=IA.midbins,\n",
    "                y=y_fit_plot,\n",
    "                name=f\"Fitted {dist_name} distribution\",\n",
    "                marker=dict(color=\"#d55e00\"),\n",
    "                legendgroup=\"1\",\n",
    "                showlegend=True if idx == 0 else False,\n",
    "            ),\n",
    "            col=1,\n",
    "            row=idx + 1,\n",
    "        )\n",
    "        fig.add_trace(\n",
    "            go.Bar(\n",
    "                x=x,\n",
    "                y=p,\n",
    "                name=\"Inactive alveoli data\",\n",
    "                marker=dict(color=\"#0072b2\"),\n",
    "                legendgroup=\"2\",\n",
    "                showlegend=False,\n",
    "            ),\n",
    "            col=2,\n",
    "            row=idx + 1,\n",
    "        )\n",
    "        fig.add_trace(\n",
    "            go.Bar(\n",
    "                x=IA.midbins,\n",
    "                y=y_fit_plot,\n",
    "                name=f\"Fitted {dist_name} distribution\",\n",
    "                marker=dict(color=\"#d55e00\"),\n",
    "                legendgroup=\"1\",\n",
    "                showlegend=False,\n",
    "            ),\n",
    "            col=2,\n",
    "            row=idx + 1,\n",
    "        )\n",
    "\n",
    "        fig.update_yaxes(\n",
    "            title=f\"Probability<br><br>AR={ar_group:g}%<br>n={df_tmp['IA sample'].shape[0]}<br>{params_str}\",\n",
    "            col=1,\n",
    "            row=idx + 1,\n",
    "            range=[0, 0.64],\n",
    "        )\n",
    "        fig.update_yaxes(\n",
    "            type=\"log\", col=2, row=idx + 1, range=[np.log(10e-5), np.log(1)]\n",
    "        )\n",
    "\n",
    "    fig.update_xaxes(tickvals=IA.midbins)\n",
    "    title = f\"AR-IA CPT with {dist_name} fit - distribution of inactive alveoli (IA) given each bin of airway resistance ({len(ar_groups)} AR groups)\"\n",
    "\n",
    "    fig.update_layout(\n",
    "        width=1600,\n",
    "        height=3500,\n",
    "        font=dict(size=9),\n",
    "        # title=f\"P({IA.name} | Airway resistance in % (ar_col))\",\n",
    "        title=f\"{title}<br> using {n_samples} pairs of samples drawn from AR and IA's inferred distributions as input data\",\n",
    "        legend=dict(orientation=\"h\", yanchor=\"bottom\", y=1.02, xanchor=\"right\", x=1),\n",
    "    )\n",
    "    fig.update_annotations(font_size=10)\n",
    "    # fig.show()\n",
    "    fig.write_image(\n",
    "        dh.get_path_to_main()\n",
    "        # + f\"PlotsBreathe/AR_modelling/CPT IA-AR - 22 groups/{title}.pdf\"\n",
    "        + f\"PlotsBreathe/AR_modelling/CPT IA-AR - 22 groups - with Dirichlet fake data/{title}.pdf\"\n",
    "    )\n",
    "\n",
    "# An Botlzmann fit is not ideal: with an exponential decay, the decay rate has to be small enough to prevent 0 probabilities for high IA values\n",
    "# Exponential decay is too strong\n",
    "# Try log decay"
   ]
  },
  {
   "cell_type": "code",
   "execution_count": null,
   "metadata": {},
   "outputs": [],
   "source": [
    "cpt_ia_ar.shape"
   ]
  },
  {
   "cell_type": "code",
   "execution_count": null,
   "metadata": {},
   "outputs": [],
   "source": [
    "# Test\n",
    "fig = go.Figure()\n",
    "lambda_, N = 0.3, 100\n",
    "rv1 = stats.boltzmann(lambda_, N, loc=0)\n",
    "rv2 = stats.logser(p=0.7)\n",
    "rv3 = stats.poisson(mu=10)\n",
    "res1 = rv1.pmf(IA.bins)\n",
    "res2 = rv2.pmf(IA.bins + 1)\n",
    "# res3 = rv3.pmf(IA.bins+1)\n",
    "fig.add_trace(go.Bar(x=IA.midbins, y=res1 / sum(res1), name=\"Boltzmann\"))\n",
    "fig.add_trace(go.Bar(x=IA.midbins, y=res2 / sum(res2), name=\"Log-series\"))\n",
    "# fig.add_trace(go.Bar(x=IA.midbins, y=res3/sum(res3), name='Poisson'))\n",
    "# rv2 = stats.planck()\n",
    "fig.show()"
   ]
  },
  {
   "cell_type": "markdown",
   "metadata": {},
   "source": [
    "## Analyse IA-AR cpt (with AR rebinned)"
   ]
  },
  {
   "cell_type": "code",
   "execution_count": null,
   "metadata": {},
   "outputs": [],
   "source": [
    "import src.inference.helpers as ih\n",
    "\n",
    "AR_rebinned = mh.VariableNode(\n",
    "    \"Airway resistance (%)\", 0, 90, 4, prior={\"type\": \"uniform\"}\n",
    ")\n",
    "\n",
    "# cpt_ia_ar = cpt.get_cpt([IA, AR])\n",
    "print(cpt_ia_ar.shape)\n",
    "print(\"IA dim\", IA.card)"
   ]
  },
  {
   "cell_type": "code",
   "execution_count": null,
   "metadata": {},
   "outputs": [],
   "source": [
    "# Plot cpt using import src.models.cpts.helpers as cpt_helpers.plot_2d_cpt\n",
    "\n",
    "# Create subplots\n",
    "# n_ar_bins = AR.card\n",
    "# n_ar_bins = len(ar_groups)\n",
    "\n",
    "# fig = make_subplots(rows=n_ar_bins, cols=1, shared_xaxes=True, vertical_spacing=0.005)\n",
    "\n",
    "# for i in range(n_ar_bins):\n",
    "#     p = cpt_ia_ar[:, i, 1]\n",
    "#     ih.plot_histogram(fig, IA, p, IA.a, IA.b, i+1, 1, colour='#0072b2', annot=False)\n",
    "#     fig.update_yaxes(title_text=f\"AR={AR_rebinned.midbins[i]:2g}%\", row=i + 1, col=1)\n",
    "\n",
    "# title = f\"IA-AR CPT with Dirichlet prior - IA given AR ({len(ar_groups)} AR groups)\"\n",
    "\n",
    "# fig.update_layout(\n",
    "#     title=title,\n",
    "#     width=500,\n",
    "#     height=1300,\n",
    "#     showlegend=False,\n",
    "#     font=dict(size=8),\n",
    "# )\n",
    "# # fig.show()\n",
    "# fig.write_image(\n",
    "#     dh.get_path_to_main()\n",
    "#     + f\"PlotsBreathe/AR_modelling/{title}.pdf\"\n",
    "# )"
   ]
  },
  {
   "cell_type": "code",
   "execution_count": null,
   "metadata": {},
   "outputs": [],
   "source": [
    "# Plot cpt using import src.models.cpts.helpers as cpt_helpers.plot_2d_cpt\n",
    "\n",
    "# Create subplots\n",
    "fig = make_subplots(rows=IA.card, cols=1, shared_xaxes=True, vertical_spacing=0.003)\n",
    "\n",
    "for i in range(IA.card):\n",
    "    p = cpt_ia_ar[i, :, 1] / sum(cpt_ia_ar[i, :, 1])\n",
    "    ih.plot_histogram(\n",
    "        fig,\n",
    "        AR_rebinned,\n",
    "        p,\n",
    "        AR_rebinned.a,\n",
    "        AR_rebinned.b,\n",
    "        i + 1,\n",
    "        1,\n",
    "        colour=\"#0072b2\",\n",
    "        annot=False,\n",
    "    )\n",
    "    fig.update_yaxes(title_text=f\"IA={IA.midbins[i]}%\", row=i + 1, col=1)\n",
    "    # Add tickvals on x axis\n",
    "    fig.update_xaxes(tickvals=ar_groups, row=i + 1, col=1)\n",
    "    fig.add_shape(\n",
    "        type=\"rect\",\n",
    "        x0=76,\n",
    "        x1=90,\n",
    "        y0=0,\n",
    "        y1=0.37,\n",
    "        line=dict(color=\"red\", width=1),\n",
    "        fillcolor=\"red\",\n",
    "        opacity=0.2,\n",
    "        row=i + 1,\n",
    "        col=1,\n",
    "    )\n",
    "\n",
    "fig.update_xaxes(title_text=\"Airway resistance midbin (%)\", row=IA.card, col=1)\n",
    "fig.update_yaxes(range=[0, 0.37], tickvals=[0, 0.05, 0.1, 0.15, 0.2, 0.25, 0.3, 0.35])\n",
    "\n",
    "title = f\"IA-AR CPT with Dirichlet prior - AR given IA ({len(ar_groups)} AR groups)\"\n",
    "\n",
    "fig.update_layout(\n",
    "    title=title,\n",
    "    width=600,\n",
    "    height=2500,\n",
    "    showlegend=False,\n",
    "    font=dict(size=8),\n",
    ")\n",
    "# fig.show()\n",
    "fig.write_image(dh.get_path_to_main() + f\"PlotsBreathe/AR_modelling/{title}.pdf\")"
   ]
  },
  {
   "cell_type": "markdown",
   "metadata": {},
   "source": [
    "## Format CPT to full AR resolution, analyse it and save"
   ]
  },
  {
   "cell_type": "code",
   "execution_count": null,
   "metadata": {},
   "outputs": [],
   "source": [
    "import src.models.cpts.helpers as cpt\n",
    "\n",
    "cpt_ia_ar.shape\n",
    "\n",
    "print(AR.card)\n",
    "print(AR_rebinned.card)"
   ]
  },
  {
   "cell_type": "code",
   "execution_count": null,
   "metadata": {},
   "outputs": [],
   "source": [
    "# Reformat the AR dim for 45 bins instead of 22\n",
    "cpt_ia_ar_final = np.zeros([IA.card, AR.card])\n",
    "\n",
    "# Each bin is replicated 2 times\n",
    "for i in range(cpt_ia_ar.shape[1] - 1):\n",
    "    for j in [0, 1]:\n",
    "        print(i * 2 + j)\n",
    "        cpt_ia_ar_final[:, i * 2 + j] = cpt_ia_ar[:, i, 1]\n",
    "\n",
    "# After AR 72-76%, replicate the same data\n",
    "print(f\"Unreliable data at bin: {AR.get_bin_for_value(76)}\")\n",
    "for i in np.arange(38, AR.card):\n",
    "    cpt_ia_ar_final[:, i] = cpt_ia_ar_final[:, 37]"
   ]
  },
  {
   "cell_type": "code",
   "execution_count": null,
   "metadata": {},
   "outputs": [],
   "source": [
    "# Create subplots\n",
    "plot_bins = range(AR.card)\n",
    "vspace = 0.003\n",
    "height = 2500\n",
    "title = (\n",
    "    f\"IA-AR full CPT with Dirichlet prior - IA given AR ({len(ar_groups)} AR groups)\"\n",
    ")\n",
    "\n",
    "# plot_bins = np.arange(0, AR.card, 6)\n",
    "# vspace=0.02\n",
    "# height=700\n",
    "# title = f\"IA-AR full CPT with Dirichlet prior - IA given AR ({len(ar_groups)} AR groups) - summary\"\n",
    "\n",
    "fig = make_subplots(\n",
    "    rows=len(plot_bins), cols=1, shared_xaxes=True, vertical_spacing=vspace\n",
    ")\n",
    "\n",
    "for i, idx in enumerate(plot_bins):\n",
    "    p = cpt_ia_ar_final[:, idx]\n",
    "    ih.plot_histogram(fig, IA, p, IA.a, IA.b, i + 1, 1, colour=\"#0072b2\", annot=False)\n",
    "    fig.update_yaxes(\n",
    "        title_text=f\"{AR.midbins[idx]:2g}%\", row=i + 1, col=1, range=[0, 0.6]\n",
    "    )\n",
    "\n",
    "fig.update_layout(\n",
    "    title=title,\n",
    "    width=500,\n",
    "    height=height,\n",
    "    showlegend=False,\n",
    "    font=dict(size=8),\n",
    ")\n",
    "# # fig.show()\n",
    "# fig.write_image(\n",
    "#     dh.get_path_to_main()\n",
    "#     + f\"PlotsBreathe/AR_modelling/{title}.pdf\"\n",
    "# )"
   ]
  },
  {
   "cell_type": "code",
   "execution_count": null,
   "metadata": {},
   "outputs": [],
   "source": [
    "# Create subplots\n",
    "plot_bins = IA.bins.astype(int)\n",
    "vspace = 0.003\n",
    "height = 2500\n",
    "title = (\n",
    "    f\"IA-AR full CPT with Dirichlet prior - AR given IA ({len(ar_groups)} AR groups)\"\n",
    ")\n",
    "\n",
    "# plot_bins = np.arange(0, IA.card, 4)\n",
    "# vspace=0.02\n",
    "# height=700\n",
    "# title = f\"IA-AR full CPT with Dirichlet prior - AR given IA ({len(ar_groups)} AR groups) - summary\"\n",
    "\n",
    "\n",
    "fig = make_subplots(\n",
    "    rows=len(plot_bins), cols=1, shared_xaxes=True, vertical_spacing=vspace\n",
    ")\n",
    "\n",
    "for i, idx in enumerate(plot_bins):\n",
    "    p = cpt_ia_ar_final[idx, :] / sum(cpt_ia_ar_final[idx, :])\n",
    "    ih.plot_histogram(fig, AR, p, AR.a, AR.b, i + 1, 1, colour=\"#0072b2\", annot=False)\n",
    "    fig.update_yaxes(title_text=f\"IA={IA.midbins[idx]}%\", row=i + 1, col=1)\n",
    "    # Add tickvals on x axis\n",
    "    fig.update_xaxes(tickvals=ar_groups, row=i + 1, col=1)\n",
    "    fig.add_shape(\n",
    "        type=\"rect\",\n",
    "        x0=76,\n",
    "        x1=90,\n",
    "        y0=0,\n",
    "        y1=0.37,\n",
    "        line=dict(color=\"yellow\", width=1),\n",
    "        fillcolor=\"yellow\",\n",
    "        opacity=0.2,\n",
    "        row=i + 1,\n",
    "        col=1,\n",
    "    )\n",
    "\n",
    "fig.update_xaxes(title_text=\"Airway resistance midbin (%)\", row=IA.card, col=1)\n",
    "fig.update_yaxes(range=[0, 0.1], tickvals=[0, 0.05, 0.1, 0.15, 0.2, 0.25, 0.3, 0.35])\n",
    "\n",
    "fig.update_layout(\n",
    "    title=title,\n",
    "    width=600,\n",
    "    height=height,\n",
    "    showlegend=False,\n",
    "    font=dict(size=8),\n",
    ")\n",
    "# fig.show()\n",
    "fig.write_image(dh.get_path_to_main() + f\"PlotsBreathe/AR_modelling/{title}.pdf\")"
   ]
  },
  {
   "cell_type": "code",
   "execution_count": null,
   "metadata": {},
   "outputs": [],
   "source": [
    "# Let's try this cpt\n",
    "import src.models.cpts.helpers as cpt\n",
    "\n",
    "cpt.save_cpt([IA, AR], cpt_ia_ar_final, \"_Dirichlet_prior\")"
   ]
  },
  {
   "cell_type": "code",
   "execution_count": null,
   "metadata": {},
   "outputs": [],
   "source": []
  },
  {
   "cell_type": "code",
   "execution_count": null,
   "metadata": {},
   "outputs": [],
   "source": []
  }
 ],
 "metadata": {
  "kernelspec": {
   "display_name": "phd",
   "language": "python",
   "name": "python3"
  },
  "language_info": {
   "codemirror_mode": {
    "name": "ipython",
    "version": 3
   },
   "file_extension": ".py",
   "mimetype": "text/x-python",
   "name": "python",
   "nbconvert_exporter": "python",
   "pygments_lexer": "ipython3",
   "version": "3.10.13"
  }
 },
 "nbformat": 4,
 "nbformat_minor": 2
}
