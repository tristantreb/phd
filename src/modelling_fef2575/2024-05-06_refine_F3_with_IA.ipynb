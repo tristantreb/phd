{
 "cells": [
  {
   "cell_type": "markdown",
   "metadata": {},
   "source": [
    "In this notebook, I will use the information about IA to refine F3. Initially, I buildt F3 using FEF25-75%FEV1 against FEV1-based-AR. The latter variable contains only the aspect of AR as measured by FEV1. In CF, high AR usually correlates with high IA. We can use this correlation to refine the uncertainty present in the FEV1-based-AR. The corrected FEV1-based-AR can therefore be closer to the true AR. We can use it to improve the model fo F3."
   ]
  },
  {
   "cell_type": "code",
   "execution_count": 1,
   "metadata": {},
   "outputs": [],
   "source": [
    "import src.data.breathe_data as br\n",
    "import src.data.helpers as dh\n",
    "import src.models.helpers as mh\n",
    "import numpy as np\n",
    "import pandas as pd\n",
    "import src.inference.helpers as ih\n",
    "import src.modelling_fef2575.cpt_and_plots as cpt_and_plots"
   ]
  },
  {
   "cell_type": "code",
   "execution_count": 2,
   "metadata": {},
   "outputs": [],
   "source": [
    "# Need dataset with O2sat, FEV1, FEF25-75. Use as many datapoints as possible\n",
    "# Infer FEV1-based-AR using FEV1\n",
    "# Model F3 using FEV1-based-AR\n",
    "# Infer FEV1-FEF2575-based-AR using FEV1 and FEF25-75\n",
    "# Model F3 using FEV1-FEF2575-based-AR\n",
    "# Infer IA using FEV1-FEF2575-based-AR\n",
    "# Model AR-IA\n",
    "# Infer IA-FEV1-FEF2575-based-AR using FEV1, FEF25-75, IA\n",
    "# Model F3 using this new AR\n",
    "# Compare the two models: compare the mean, median, std-percentiles plots of both -> std should be smaller\n",
    "\n",
    "# Optionally repeat until std doesn't change"
   ]
  },
  {
   "cell_type": "code",
   "execution_count": 3,
   "metadata": {},
   "outputs": [
    {
     "name": "stdout",
     "output_type": "stream",
     "text": [
      "(48978, 15)\n",
      "(32715, 15)\n"
     ]
    },
    {
     "data": {
      "text/html": [
       "<div>\n",
       "<style scoped>\n",
       "    .dataframe tbody tr th:only-of-type {\n",
       "        vertical-align: middle;\n",
       "    }\n",
       "\n",
       "    .dataframe tbody tr th {\n",
       "        vertical-align: top;\n",
       "    }\n",
       "\n",
       "    .dataframe thead th {\n",
       "        text-align: right;\n",
       "    }\n",
       "</style>\n",
       "<table border=\"1\" class=\"dataframe\">\n",
       "  <thead>\n",
       "    <tr style=\"text-align: right;\">\n",
       "      <th></th>\n",
       "      <th>ID</th>\n",
       "      <th>Date Recorded</th>\n",
       "      <th>FEV1</th>\n",
       "      <th>O2 Saturation</th>\n",
       "      <th>FEF2575</th>\n",
       "      <th>ecFEV1</th>\n",
       "      <th>ecFEF2575</th>\n",
       "      <th>Age</th>\n",
       "      <th>Sex</th>\n",
       "      <th>Height</th>\n",
       "      <th>Predicted FEV1</th>\n",
       "      <th>Healthy O2 Saturation</th>\n",
       "      <th>ecFEV1 % Predicted</th>\n",
       "      <th>FEV1 % Predicted</th>\n",
       "      <th>O2 Saturation % Healthy</th>\n",
       "    </tr>\n",
       "  </thead>\n",
       "  <tbody>\n",
       "    <tr>\n",
       "      <th>0</th>\n",
       "      <td>101</td>\n",
       "      <td>2019-01-25</td>\n",
       "      <td>1.31</td>\n",
       "      <td>97.0</td>\n",
       "      <td>0.54</td>\n",
       "      <td>1.31</td>\n",
       "      <td>0.67</td>\n",
       "      <td>53</td>\n",
       "      <td>Male</td>\n",
       "      <td>173.0</td>\n",
       "      <td>3.610061</td>\n",
       "      <td>97.150104</td>\n",
       "      <td>36.287474</td>\n",
       "      <td>36.287474</td>\n",
       "      <td>99.845492</td>\n",
       "    </tr>\n",
       "    <tr>\n",
       "      <th>1</th>\n",
       "      <td>101</td>\n",
       "      <td>2019-01-26</td>\n",
       "      <td>1.31</td>\n",
       "      <td>98.0</td>\n",
       "      <td>0.57</td>\n",
       "      <td>1.31</td>\n",
       "      <td>0.67</td>\n",
       "      <td>53</td>\n",
       "      <td>Male</td>\n",
       "      <td>173.0</td>\n",
       "      <td>3.610061</td>\n",
       "      <td>97.150104</td>\n",
       "      <td>36.287474</td>\n",
       "      <td>36.287474</td>\n",
       "      <td>100.874827</td>\n",
       "    </tr>\n",
       "    <tr>\n",
       "      <th>2</th>\n",
       "      <td>101</td>\n",
       "      <td>2019-01-27</td>\n",
       "      <td>1.31</td>\n",
       "      <td>96.0</td>\n",
       "      <td>0.67</td>\n",
       "      <td>1.31</td>\n",
       "      <td>0.69</td>\n",
       "      <td>53</td>\n",
       "      <td>Male</td>\n",
       "      <td>173.0</td>\n",
       "      <td>3.610061</td>\n",
       "      <td>97.150104</td>\n",
       "      <td>36.287474</td>\n",
       "      <td>36.287474</td>\n",
       "      <td>98.816157</td>\n",
       "    </tr>\n",
       "    <tr>\n",
       "      <th>3</th>\n",
       "      <td>101</td>\n",
       "      <td>2019-01-28</td>\n",
       "      <td>1.30</td>\n",
       "      <td>96.0</td>\n",
       "      <td>0.69</td>\n",
       "      <td>1.31</td>\n",
       "      <td>0.69</td>\n",
       "      <td>53</td>\n",
       "      <td>Male</td>\n",
       "      <td>173.0</td>\n",
       "      <td>3.610061</td>\n",
       "      <td>97.150104</td>\n",
       "      <td>36.287474</td>\n",
       "      <td>36.010470</td>\n",
       "      <td>98.816157</td>\n",
       "    </tr>\n",
       "    <tr>\n",
       "      <th>4</th>\n",
       "      <td>101</td>\n",
       "      <td>2019-01-29</td>\n",
       "      <td>1.28</td>\n",
       "      <td>98.0</td>\n",
       "      <td>0.60</td>\n",
       "      <td>1.30</td>\n",
       "      <td>0.69</td>\n",
       "      <td>53</td>\n",
       "      <td>Male</td>\n",
       "      <td>173.0</td>\n",
       "      <td>3.610061</td>\n",
       "      <td>97.150104</td>\n",
       "      <td>36.010470</td>\n",
       "      <td>35.456463</td>\n",
       "      <td>100.874827</td>\n",
       "    </tr>\n",
       "  </tbody>\n",
       "</table>\n",
       "</div>"
      ],
      "text/plain": [
       "    ID Date Recorded  FEV1  O2 Saturation  FEF2575  ecFEV1  ecFEF2575  Age  \\\n",
       "0  101    2019-01-25  1.31           97.0     0.54    1.31       0.67   53   \n",
       "1  101    2019-01-26  1.31           98.0     0.57    1.31       0.67   53   \n",
       "2  101    2019-01-27  1.31           96.0     0.67    1.31       0.69   53   \n",
       "3  101    2019-01-28  1.30           96.0     0.69    1.31       0.69   53   \n",
       "4  101    2019-01-29  1.28           98.0     0.60    1.30       0.69   53   \n",
       "\n",
       "    Sex  Height  Predicted FEV1  Healthy O2 Saturation  ecFEV1 % Predicted  \\\n",
       "0  Male   173.0        3.610061              97.150104           36.287474   \n",
       "1  Male   173.0        3.610061              97.150104           36.287474   \n",
       "2  Male   173.0        3.610061              97.150104           36.287474   \n",
       "3  Male   173.0        3.610061              97.150104           36.287474   \n",
       "4  Male   173.0        3.610061              97.150104           36.010470   \n",
       "\n",
       "   FEV1 % Predicted  O2 Saturation % Healthy  \n",
       "0         36.287474                99.845492  \n",
       "1         36.287474               100.874827  \n",
       "2         36.287474                98.816157  \n",
       "3         36.010470                98.816157  \n",
       "4         35.456463               100.874827  "
      ]
     },
     "execution_count": 3,
     "metadata": {},
     "output_type": "execute_result"
    }
   ],
   "source": [
    "df = br.load_meas_from_excel(\"BR_O2_FEV1_FEF2575_PEF_Nan\")\n",
    "# Remove PEF related rows\n",
    "df = df.drop(columns=[\"PEF\", \"ecPEF (L/s)\", \"PEF (L/s)\"])\n",
    "# Remove NaN on FEV1, O2 saturation columns\n",
    "print(df.shape)\n",
    "df = df.dropna(subset=[\"FEV1\", \"O2 Saturation\", \"FEF2575\"])\n",
    "print(df.shape)\n",
    "df.head()"
   ]
  },
  {
   "cell_type": "code",
   "execution_count": 4,
   "metadata": {},
   "outputs": [],
   "source": [
    "# Infer FEV1-based-AR using FEV1\n",
    "\n",
    "# inf_res_df = ih.infer_AR_IA_HFEV1_HO2sat_get_back_df(df,  observed_variables=[\"ecFEV1\", \"O2Sat\"])\n",
    "inf_res_df = ih.infer_AR_IA_HFEV1_HO2sat_get_back_df(\n",
    "    df.iloc[np.r_[10:1300, 3000:4007]],\n",
    "    ecFEF2575prctecFEV1_cpt=None,\n",
    "    observed_variables=[\"ecFEV1\", \"O2Sat\"],\n",
    ")\n",
    "# inf_res_df.head()"
   ]
  },
  {
   "cell_type": "code",
   "execution_count": 5,
   "metadata": {},
   "outputs": [],
   "source": [
    "# Merge the inferred AR back to the original dataframe\n",
    "df1 = pd.merge(df, inf_res_df, on=[\"ID\", \"Date Recorded\"], how=\"inner\")\n",
    "# df1.head()"
   ]
  },
  {
   "cell_type": "code",
   "execution_count": 6,
   "metadata": {},
   "outputs": [
    {
     "name": "stdout",
     "output_type": "stream",
     "text": [
      "Max sampled AR values: 81.29\n"
     ]
    },
    {
     "name": "stderr",
     "output_type": "stream",
     "text": [
      "/Users/tristan.trebaol/Desktop/PhD/Code/phd/src/modelling_fef2575/cpt_and_plots.py:234: FutureWarning: The default of observed=False is deprecated and will be changed to True in a future version of pandas. Pass observed=False to retain current behavior or observed=True to adopt the future default and silence this warning.\n",
      "  df_sampled.groupby(\"AR bin\")\n"
     ]
    }
   ],
   "source": [
    "# Model F3 using FEV1-based-AR\n",
    "\n",
    "def model_f3(df, ar_col):\n",
    "    df[\"ecFEF2575%ecFEV1\"] = df[\"ecFEF2575\"] / df[\"ecFEV1\"] * 100\n",
    "\n",
    "    # Parameters\n",
    "    n_samples = 100\n",
    "\n",
    "    ecFEF2575prctecFEV1 = mh.VariableNode(\"ecFEF25-75 % ecFEV1 (%)\", 0, 200, 2, prior=None)\n",
    "    AR = mh.VariableNode(\"Airway resistance (%)\", 0, 90, 2, prior=None)\n",
    "\n",
    "    df_sampled, df_f3 = cpt_and_plots.get_sampled_df_and_statistics_df(df, n_samples, AR)\n",
    "\n",
    "    cpt_and_plots.plot_F3_mean_and_percentiles_per_AR_bin(\n",
    "        df_f3, f\"F3 - ecFEF25-75%ecFEV1 statistics per {ar_col} bin\", save=True\n",
    "    )\n",
    "    cpt_f3 = cpt_and_plots.calc_and_plot_FEF2575prctFEV1_AR_cpt(\n",
    "        df_sampled, df_f3, n_samples, AR, ecFEF2575prctecFEV1, ar_col, save=True\n",
    "    )\n",
    "    return cpt_f3\n",
    "\n",
    "cpt_f3 = model_f3(df1, \"FEV1-based-AR\")"
   ]
  },
  {
   "cell_type": "code",
   "execution_count": 7,
   "metadata": {},
   "outputs": [],
   "source": [
    "inf_res_df_2 = ih.infer_AR_IA_HFEV1_HO2sat_get_back_df(\n",
    "    df.iloc[np.r_[10:1300, 3000:4007]],\n",
    "    ecFEF2575prctecFEV1_cpt=cpt_f3,\n",
    "    observed_variables=[\"ecFEV1\", \"O2Sat\", \"ecFEF2575prctecFEV1\"],\n",
    ")\n",
    "# Merge the inferred AR back to the original dataframe\n",
    "df2 = pd.merge(df, inf_res_df_2, on=[\"ID\", \"Date Recorded\"], how=\"inner\")"
   ]
  },
  {
   "cell_type": "code",
   "execution_count": 8,
   "metadata": {},
   "outputs": [
    {
     "name": "stdout",
     "output_type": "stream",
     "text": [
      "Max sampled AR values: 81.67\n"
     ]
    },
    {
     "name": "stderr",
     "output_type": "stream",
     "text": [
      "/Users/tristan.trebaol/Desktop/PhD/Code/phd/src/modelling_fef2575/cpt_and_plots.py:234: FutureWarning:\n",
      "\n",
      "The default of observed=False is deprecated and will be changed to True in a future version of pandas. Pass observed=False to retain current behavior or observed=True to adopt the future default and silence this warning.\n",
      "\n",
      "/Applications/anaconda3/envs/phd/lib/python3.10/site-packages/scipy/stats/_distn_infrastructure.py:1983: RuntimeWarning:\n",
      "\n",
      "divide by zero encountered in divide\n",
      "\n"
     ]
    }
   ],
   "source": [
    "# Model F3 using FEV1-FEF2575-based-AR\n",
    "cpt_f3_2 = model_f3(df2, \"FEV1-FEF2575-based-AR\")"
   ]
  },
  {
   "cell_type": "code",
   "execution_count": null,
   "metadata": {},
   "outputs": [],
   "source": []
  }
 ],
 "metadata": {
  "kernelspec": {
   "display_name": "phd",
   "language": "python",
   "name": "python3"
  },
  "language_info": {
   "codemirror_mode": {
    "name": "ipython",
    "version": 3
   },
   "file_extension": ".py",
   "mimetype": "text/x-python",
   "name": "python",
   "nbconvert_exporter": "python",
   "pygments_lexer": "ipython3",
   "version": "3.10.13"
  }
 },
 "nbformat": 4,
 "nbformat_minor": 2
}
