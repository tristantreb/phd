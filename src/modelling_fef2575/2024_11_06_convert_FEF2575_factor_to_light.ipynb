{
    "cells": [
        {
            "cell_type": "code",
            "execution_count": 12,
            "metadata": {},
            "outputs": [],
            "source": [
                "import data.breathe_data as br\n",
                "import data.helpers as dh\n",
                "import models.helpers as mh\n",
                "import inference.helpers as ih\n",
                "import modelling_fef2575.cpt_and_plots as cpt_and_plots\n",
                "import models.var_builders as var_builders\n",
                "import models.graph_builders as graph_builders\n",
                "from inference.inf_algs import apply_bayes_net_bp, apply_factor_graph_bp\n",
                "\n",
                "import numpy as np\n",
                "import pandas as pd\n",
                "import plotly.express as px\n",
                "import plotly.graph_objects as go\n",
                "from plotly.subplots import make_subplots\n",
                "import models.cpts.helpers as cpth"
            ]
        },
        {
            "cell_type": "code",
            "execution_count": 13,
            "metadata": {},
            "outputs": [],
            "source": [
                "AR = mh.VariableNode(\"Airway resistance (%)\", 0, 90, 2, prior=None)\n",
                "ecFEF2575prctecFEV1 = mh.VariableNode(\"ecFEF25-75 % ecFEV1 (%)\", 0, 200, 2, prior=None)\n",
                "\n",
                "ecFEF2575prctecFEV1.set_cpt(cpth.get_cpt([ecFEF2575prctecFEV1, AR]))\n",
                "\n",
                "AR_light = mh.VariableNode(\"Airway resistance (%)\", 0, 90, 10, prior=None)\n",
                "ecFEF2575prctecFEV1_light = mh.VariableNode(\n",
                "    \"ecFEF25-75 % ecFEV1 (%)\", 0, 200, 20, prior=None\n",
                ")"
            ]
        },
        {
            "cell_type": "code",
            "execution_count": 19,
            "metadata": {},
            "outputs": [
                {
                    "name": "stdout",
                    "output_type": "stream",
                    "text": [
                        "(100, 45)\n",
                        "(10, 9)\n"
                    ]
                }
            ],
            "source": [
                "light_cpt = np.zeros((ecFEF2575prctecFEV1_light.card, AR_light.card))\n",
                "\n",
                "print(ecFEF2575prctecFEV1.cpt.shape)\n",
                "print(light_cpt.shape)\n",
                "\n",
                "# Marginalise the CPT over the light resolution\n",
                "for i in range(ecFEF2575prctecFEV1_light.card):\n",
                "    for j in range(AR_light.card):\n",
                "        light_cpt[i, j] = np.sum(\n",
                "            ecFEF2575prctecFEV1.cpt[i * 10 : (i + 1) * 10, j * 5 : (j + 1) * 5]\n",
                "        )\n",
                "\n",
                "# Normalise the CPT\n",
                "light_cpt = light_cpt / np.sum(light_cpt, axis=0)"
            ]
        },
        {
            "cell_type": "code",
            "execution_count": 20,
            "metadata": {},
            "outputs": [],
            "source": [
                "fig, title = cpth.plot_2d_cpt(\n",
                "    light_cpt,\n",
                "    ecFEF2575prctecFEV1_light,\n",
                "    AR_light,\n",
                "    height=600,\n",
                "    vspace=0.003,\n",
                "    invert=False,\n",
                "    p_range=[0, 0.6],\n",
                "    y_label_two_lines=False,\n",
                ")"
            ]
        },
        {
            "cell_type": "code",
            "execution_count": 21,
            "metadata": {},
            "outputs": [
                {
                    "data": {
                        "application/vnd.plotly.v1+json": {
                            "config": {
                                "plotlyServerURL": "https://plot.ly"
                            },
                            "data": [
                                {
                                    "histfunc": "sum",
                                    "marker": {
                                        "color": "#0072b2"
                                    },
                                    "type": "histogram",
                                    "x": [
                                        0,
                                        20,
                                        40,
                                        60,
                                        80,
                                        100,
                                        120,
                                        140,
                                        160,
                                        180
                                    ],
                                    "xaxis": "x",
                                    "xbins": {
                                        "end": 200,
                                        "size": 20,
                                        "start": 0
                                    },
                                    "y": [
                                        0.00030005191366375757,
                                        0.0048303564997406075,
                                        0.0389602829159598,
                                        0.15686361443001393,
                                        0.31262328564202513,
                                        0.30518365974233047,
                                        0.14449799777771918,
                                        0.032945441860716004,
                                        0.0036056434150342517,
                                        0.00018966580279683454
                                    ],
                                    "yaxis": "y"
                                },
                                {
                                    "histfunc": "sum",
                                    "marker": {
                                        "color": "#0072b2"
                                    },
                                    "type": "histogram",
                                    "x": [
                                        0,
                                        20,
                                        40,
                                        60,
                                        80,
                                        100,
                                        120,
                                        140,
                                        160,
                                        180
                                    ],
                                    "xaxis": "x2",
                                    "xbins": {
                                        "end": 200,
                                        "size": 20,
                                        "start": 0
                                    },
                                    "y": [
                                        0.0011142738885825518,
                                        0.013551455235764167,
                                        0.08035854673248276,
                                        0.23374719264078148,
                                        0.3350930484302842,
                                        0.2373778966174752,
                                        0.08312235147687778,
                                        0.014363379858615678,
                                        0.0012209864485237054,
                                        0.00005086867061254511
                                    ],
                                    "yaxis": "y2"
                                },
                                {
                                    "histfunc": "sum",
                                    "marker": {
                                        "color": "#0072b2"
                                    },
                                    "type": "histogram",
                                    "x": [
                                        0,
                                        20,
                                        40,
                                        60,
                                        80,
                                        100,
                                        120,
                                        140,
                                        160,
                                        180
                                    ],
                                    "xaxis": "x3",
                                    "xbins": {
                                        "end": 200,
                                        "size": 20,
                                        "start": 0
                                    },
                                    "y": [
                                        0.0032618787202009537,
                                        0.0317459049982081,
                                        0.1444208893164363,
                                        0.30990587806554293,
                                        0.3161327977406987,
                                        0.1541792992639689,
                                        0.036073655921856344,
                                        0.004055048199444121,
                                        0.0002189753029912909,
                                        0.000005672470652294566
                                    ],
                                    "yaxis": "y3"
                                },
                                {
                                    "histfunc": "sum",
                                    "marker": {
                                        "color": "#0072b2"
                                    },
                                    "type": "histogram",
                                    "x": [
                                        0,
                                        20,
                                        40,
                                        60,
                                        80,
                                        100,
                                        120,
                                        140,
                                        160,
                                        180
                                    ],
                                    "xaxis": "x4",
                                    "xbins": {
                                        "end": 200,
                                        "size": 20,
                                        "start": 0
                                    },
                                    "y": [
                                        0.007006892271916951,
                                        0.06172361457801369,
                                        0.2295693298779896,
                                        0.36473632002242024,
                                        0.2507236259846702,
                                        0.07552590319975928,
                                        0.010093077687263361,
                                        0.0006046988336591749,
                                        0.00001633858591499515,
                                        1.9895839252059017e-7
                                    ],
                                    "yaxis": "y4"
                                },
                                {
                                    "histfunc": "sum",
                                    "marker": {
                                        "color": "#0072b2"
                                    },
                                    "type": "histogram",
                                    "x": [
                                        0,
                                        20,
                                        40,
                                        60,
                                        80,
                                        100,
                                        120,
                                        140,
                                        160,
                                        180
                                    ],
                                    "xaxis": "x5",
                                    "xbins": {
                                        "end": 200,
                                        "size": 20,
                                        "start": 0
                                    },
                                    "y": [
                                        0.0072715700781097025,
                                        0.0859817479467341,
                                        0.32814255519762436,
                                        0.3969402484484374,
                                        0.15802008039052284,
                                        0.022396228029220647,
                                        0.0012210426534548493,
                                        0.00002630592541988046,
                                        2.206286754976133e-7,
                                        7.018008887847948e-10
                                    ],
                                    "yaxis": "y5"
                                },
                                {
                                    "histfunc": "sum",
                                    "marker": {
                                        "color": "#0072b2"
                                    },
                                    "type": "histogram",
                                    "x": [
                                        0,
                                        20,
                                        40,
                                        60,
                                        80,
                                        100,
                                        120,
                                        140,
                                        160,
                                        180
                                    ],
                                    "xaxis": "x6",
                                    "xbins": {
                                        "end": 200,
                                        "size": 20,
                                        "start": 0
                                    },
                                    "y": [
                                        0.002886468068602391,
                                        0.09042073338712847,
                                        0.4555525623709057,
                                        0.3902111276735137,
                                        0.059237983668324154,
                                        0.0016813893665469485,
                                        0.00000972409187703068,
                                        1.1370619995230421e-8,
                                        2.481585117363126e-12,
                                        9.612697190638747e-17
                                    ],
                                    "yaxis": "y6"
                                },
                                {
                                    "histfunc": "sum",
                                    "marker": {
                                        "color": "#0072b2"
                                    },
                                    "type": "histogram",
                                    "x": [
                                        0,
                                        20,
                                        40,
                                        60,
                                        80,
                                        100,
                                        120,
                                        140,
                                        160,
                                        180
                                    ],
                                    "xaxis": "x7",
                                    "xbins": {
                                        "end": 200,
                                        "size": 20,
                                        "start": 0
                                    },
                                    "y": [
                                        0.0024942386789737364,
                                        0.10404992333144682,
                                        0.5197887362481626,
                                        0.34429443139306004,
                                        0.02909657469096583,
                                        0.00027582136176962135,
                                        2.742662725733501e-7,
                                        2.9348633842881095e-11,
                                        3.6228528486408245e-16,
                                        5.3132928756228645e-22
                                    ],
                                    "yaxis": "y7"
                                },
                                {
                                    "histfunc": "sum",
                                    "marker": {
                                        "color": "#0072b2"
                                    },
                                    "type": "histogram",
                                    "x": [
                                        0,
                                        20,
                                        40,
                                        60,
                                        80,
                                        100,
                                        120,
                                        140,
                                        160,
                                        180
                                    ],
                                    "xaxis": "x8",
                                    "xbins": {
                                        "end": 200,
                                        "size": 20,
                                        "start": 0
                                    },
                                    "y": [
                                        0.0035816820026235126,
                                        0.11636912391173763,
                                        0.5122020242904012,
                                        0.33571305874426366,
                                        0.03174869184921331,
                                        0.000384877344124169,
                                        5.417738854545494e-7,
                                        8.374972464332964e-11,
                                        1.3808831458164015e-15,
                                        2.390008231848685e-21
                                    ],
                                    "yaxis": "y8"
                                },
                                {
                                    "histfunc": "sum",
                                    "marker": {
                                        "color": "#0072b2"
                                    },
                                    "type": "histogram",
                                    "x": [
                                        0,
                                        20,
                                        40,
                                        60,
                                        80,
                                        100,
                                        120,
                                        140,
                                        160,
                                        180
                                    ],
                                    "xaxis": "x9",
                                    "xbins": {
                                        "end": 200,
                                        "size": 20,
                                        "start": 0
                                    },
                                    "y": [
                                        0.0035816820026235126,
                                        0.11636912391173763,
                                        0.5122020242904012,
                                        0.33571305874426366,
                                        0.03174869184921331,
                                        0.000384877344124169,
                                        5.417738854545494e-7,
                                        8.374972464332964e-11,
                                        1.3808831458164015e-15,
                                        2.390008231848685e-21
                                    ],
                                    "yaxis": "y9"
                                }
                            ],
                            "layout": {
                                "font": {
                                    "size": 8
                                },
                                "height": 600,
                                "showlegend": false,
                                "template": {
                                    "data": {
                                        "bar": [
                                            {
                                                "error_x": {
                                                    "color": "#2a3f5f"
                                                },
                                                "error_y": {
                                                    "color": "#2a3f5f"
                                                },
                                                "marker": {
                                                    "line": {
                                                        "color": "#E5ECF6",
                                                        "width": 0.5
                                                    },
                                                    "pattern": {
                                                        "fillmode": "overlay",
                                                        "size": 10,
                                                        "solidity": 0.2
                                                    }
                                                },
                                                "type": "bar"
                                            }
                                        ],
                                        "barpolar": [
                                            {
                                                "marker": {
                                                    "line": {
                                                        "color": "#E5ECF6",
                                                        "width": 0.5
                                                    },
                                                    "pattern": {
                                                        "fillmode": "overlay",
                                                        "size": 10,
                                                        "solidity": 0.2
                                                    }
                                                },
                                                "type": "barpolar"
                                            }
                                        ],
                                        "carpet": [
                                            {
                                                "aaxis": {
                                                    "endlinecolor": "#2a3f5f",
                                                    "gridcolor": "white",
                                                    "linecolor": "white",
                                                    "minorgridcolor": "white",
                                                    "startlinecolor": "#2a3f5f"
                                                },
                                                "baxis": {
                                                    "endlinecolor": "#2a3f5f",
                                                    "gridcolor": "white",
                                                    "linecolor": "white",
                                                    "minorgridcolor": "white",
                                                    "startlinecolor": "#2a3f5f"
                                                },
                                                "type": "carpet"
                                            }
                                        ],
                                        "choropleth": [
                                            {
                                                "colorbar": {
                                                    "outlinewidth": 0,
                                                    "ticks": ""
                                                },
                                                "type": "choropleth"
                                            }
                                        ],
                                        "contour": [
                                            {
                                                "colorbar": {
                                                    "outlinewidth": 0,
                                                    "ticks": ""
                                                },
                                                "colorscale": [
                                                    [
                                                        0,
                                                        "#0d0887"
                                                    ],
                                                    [
                                                        0.1111111111111111,
                                                        "#46039f"
                                                    ],
                                                    [
                                                        0.2222222222222222,
                                                        "#7201a8"
                                                    ],
                                                    [
                                                        0.3333333333333333,
                                                        "#9c179e"
                                                    ],
                                                    [
                                                        0.4444444444444444,
                                                        "#bd3786"
                                                    ],
                                                    [
                                                        0.5555555555555556,
                                                        "#d8576b"
                                                    ],
                                                    [
                                                        0.6666666666666666,
                                                        "#ed7953"
                                                    ],
                                                    [
                                                        0.7777777777777778,
                                                        "#fb9f3a"
                                                    ],
                                                    [
                                                        0.8888888888888888,
                                                        "#fdca26"
                                                    ],
                                                    [
                                                        1,
                                                        "#f0f921"
                                                    ]
                                                ],
                                                "type": "contour"
                                            }
                                        ],
                                        "contourcarpet": [
                                            {
                                                "colorbar": {
                                                    "outlinewidth": 0,
                                                    "ticks": ""
                                                },
                                                "type": "contourcarpet"
                                            }
                                        ],
                                        "heatmap": [
                                            {
                                                "colorbar": {
                                                    "outlinewidth": 0,
                                                    "ticks": ""
                                                },
                                                "colorscale": [
                                                    [
                                                        0,
                                                        "#0d0887"
                                                    ],
                                                    [
                                                        0.1111111111111111,
                                                        "#46039f"
                                                    ],
                                                    [
                                                        0.2222222222222222,
                                                        "#7201a8"
                                                    ],
                                                    [
                                                        0.3333333333333333,
                                                        "#9c179e"
                                                    ],
                                                    [
                                                        0.4444444444444444,
                                                        "#bd3786"
                                                    ],
                                                    [
                                                        0.5555555555555556,
                                                        "#d8576b"
                                                    ],
                                                    [
                                                        0.6666666666666666,
                                                        "#ed7953"
                                                    ],
                                                    [
                                                        0.7777777777777778,
                                                        "#fb9f3a"
                                                    ],
                                                    [
                                                        0.8888888888888888,
                                                        "#fdca26"
                                                    ],
                                                    [
                                                        1,
                                                        "#f0f921"
                                                    ]
                                                ],
                                                "type": "heatmap"
                                            }
                                        ],
                                        "heatmapgl": [
                                            {
                                                "colorbar": {
                                                    "outlinewidth": 0,
                                                    "ticks": ""
                                                },
                                                "colorscale": [
                                                    [
                                                        0,
                                                        "#0d0887"
                                                    ],
                                                    [
                                                        0.1111111111111111,
                                                        "#46039f"
                                                    ],
                                                    [
                                                        0.2222222222222222,
                                                        "#7201a8"
                                                    ],
                                                    [
                                                        0.3333333333333333,
                                                        "#9c179e"
                                                    ],
                                                    [
                                                        0.4444444444444444,
                                                        "#bd3786"
                                                    ],
                                                    [
                                                        0.5555555555555556,
                                                        "#d8576b"
                                                    ],
                                                    [
                                                        0.6666666666666666,
                                                        "#ed7953"
                                                    ],
                                                    [
                                                        0.7777777777777778,
                                                        "#fb9f3a"
                                                    ],
                                                    [
                                                        0.8888888888888888,
                                                        "#fdca26"
                                                    ],
                                                    [
                                                        1,
                                                        "#f0f921"
                                                    ]
                                                ],
                                                "type": "heatmapgl"
                                            }
                                        ],
                                        "histogram": [
                                            {
                                                "marker": {
                                                    "pattern": {
                                                        "fillmode": "overlay",
                                                        "size": 10,
                                                        "solidity": 0.2
                                                    }
                                                },
                                                "type": "histogram"
                                            }
                                        ],
                                        "histogram2d": [
                                            {
                                                "colorbar": {
                                                    "outlinewidth": 0,
                                                    "ticks": ""
                                                },
                                                "colorscale": [
                                                    [
                                                        0,
                                                        "#0d0887"
                                                    ],
                                                    [
                                                        0.1111111111111111,
                                                        "#46039f"
                                                    ],
                                                    [
                                                        0.2222222222222222,
                                                        "#7201a8"
                                                    ],
                                                    [
                                                        0.3333333333333333,
                                                        "#9c179e"
                                                    ],
                                                    [
                                                        0.4444444444444444,
                                                        "#bd3786"
                                                    ],
                                                    [
                                                        0.5555555555555556,
                                                        "#d8576b"
                                                    ],
                                                    [
                                                        0.6666666666666666,
                                                        "#ed7953"
                                                    ],
                                                    [
                                                        0.7777777777777778,
                                                        "#fb9f3a"
                                                    ],
                                                    [
                                                        0.8888888888888888,
                                                        "#fdca26"
                                                    ],
                                                    [
                                                        1,
                                                        "#f0f921"
                                                    ]
                                                ],
                                                "type": "histogram2d"
                                            }
                                        ],
                                        "histogram2dcontour": [
                                            {
                                                "colorbar": {
                                                    "outlinewidth": 0,
                                                    "ticks": ""
                                                },
                                                "colorscale": [
                                                    [
                                                        0,
                                                        "#0d0887"
                                                    ],
                                                    [
                                                        0.1111111111111111,
                                                        "#46039f"
                                                    ],
                                                    [
                                                        0.2222222222222222,
                                                        "#7201a8"
                                                    ],
                                                    [
                                                        0.3333333333333333,
                                                        "#9c179e"
                                                    ],
                                                    [
                                                        0.4444444444444444,
                                                        "#bd3786"
                                                    ],
                                                    [
                                                        0.5555555555555556,
                                                        "#d8576b"
                                                    ],
                                                    [
                                                        0.6666666666666666,
                                                        "#ed7953"
                                                    ],
                                                    [
                                                        0.7777777777777778,
                                                        "#fb9f3a"
                                                    ],
                                                    [
                                                        0.8888888888888888,
                                                        "#fdca26"
                                                    ],
                                                    [
                                                        1,
                                                        "#f0f921"
                                                    ]
                                                ],
                                                "type": "histogram2dcontour"
                                            }
                                        ],
                                        "mesh3d": [
                                            {
                                                "colorbar": {
                                                    "outlinewidth": 0,
                                                    "ticks": ""
                                                },
                                                "type": "mesh3d"
                                            }
                                        ],
                                        "parcoords": [
                                            {
                                                "line": {
                                                    "colorbar": {
                                                        "outlinewidth": 0,
                                                        "ticks": ""
                                                    }
                                                },
                                                "type": "parcoords"
                                            }
                                        ],
                                        "pie": [
                                            {
                                                "automargin": true,
                                                "type": "pie"
                                            }
                                        ],
                                        "scatter": [
                                            {
                                                "fillpattern": {
                                                    "fillmode": "overlay",
                                                    "size": 10,
                                                    "solidity": 0.2
                                                },
                                                "type": "scatter"
                                            }
                                        ],
                                        "scatter3d": [
                                            {
                                                "line": {
                                                    "colorbar": {
                                                        "outlinewidth": 0,
                                                        "ticks": ""
                                                    }
                                                },
                                                "marker": {
                                                    "colorbar": {
                                                        "outlinewidth": 0,
                                                        "ticks": ""
                                                    }
                                                },
                                                "type": "scatter3d"
                                            }
                                        ],
                                        "scattercarpet": [
                                            {
                                                "marker": {
                                                    "colorbar": {
                                                        "outlinewidth": 0,
                                                        "ticks": ""
                                                    }
                                                },
                                                "type": "scattercarpet"
                                            }
                                        ],
                                        "scattergeo": [
                                            {
                                                "marker": {
                                                    "colorbar": {
                                                        "outlinewidth": 0,
                                                        "ticks": ""
                                                    }
                                                },
                                                "type": "scattergeo"
                                            }
                                        ],
                                        "scattergl": [
                                            {
                                                "marker": {
                                                    "colorbar": {
                                                        "outlinewidth": 0,
                                                        "ticks": ""
                                                    }
                                                },
                                                "type": "scattergl"
                                            }
                                        ],
                                        "scattermapbox": [
                                            {
                                                "marker": {
                                                    "colorbar": {
                                                        "outlinewidth": 0,
                                                        "ticks": ""
                                                    }
                                                },
                                                "type": "scattermapbox"
                                            }
                                        ],
                                        "scatterpolar": [
                                            {
                                                "marker": {
                                                    "colorbar": {
                                                        "outlinewidth": 0,
                                                        "ticks": ""
                                                    }
                                                },
                                                "type": "scatterpolar"
                                            }
                                        ],
                                        "scatterpolargl": [
                                            {
                                                "marker": {
                                                    "colorbar": {
                                                        "outlinewidth": 0,
                                                        "ticks": ""
                                                    }
                                                },
                                                "type": "scatterpolargl"
                                            }
                                        ],
                                        "scatterternary": [
                                            {
                                                "marker": {
                                                    "colorbar": {
                                                        "outlinewidth": 0,
                                                        "ticks": ""
                                                    }
                                                },
                                                "type": "scatterternary"
                                            }
                                        ],
                                        "surface": [
                                            {
                                                "colorbar": {
                                                    "outlinewidth": 0,
                                                    "ticks": ""
                                                },
                                                "colorscale": [
                                                    [
                                                        0,
                                                        "#0d0887"
                                                    ],
                                                    [
                                                        0.1111111111111111,
                                                        "#46039f"
                                                    ],
                                                    [
                                                        0.2222222222222222,
                                                        "#7201a8"
                                                    ],
                                                    [
                                                        0.3333333333333333,
                                                        "#9c179e"
                                                    ],
                                                    [
                                                        0.4444444444444444,
                                                        "#bd3786"
                                                    ],
                                                    [
                                                        0.5555555555555556,
                                                        "#d8576b"
                                                    ],
                                                    [
                                                        0.6666666666666666,
                                                        "#ed7953"
                                                    ],
                                                    [
                                                        0.7777777777777778,
                                                        "#fb9f3a"
                                                    ],
                                                    [
                                                        0.8888888888888888,
                                                        "#fdca26"
                                                    ],
                                                    [
                                                        1,
                                                        "#f0f921"
                                                    ]
                                                ],
                                                "type": "surface"
                                            }
                                        ],
                                        "table": [
                                            {
                                                "cells": {
                                                    "fill": {
                                                        "color": "#EBF0F8"
                                                    },
                                                    "line": {
                                                        "color": "white"
                                                    }
                                                },
                                                "header": {
                                                    "fill": {
                                                        "color": "#C8D4E3"
                                                    },
                                                    "line": {
                                                        "color": "white"
                                                    }
                                                },
                                                "type": "table"
                                            }
                                        ]
                                    },
                                    "layout": {
                                        "annotationdefaults": {
                                            "arrowcolor": "#2a3f5f",
                                            "arrowhead": 0,
                                            "arrowwidth": 1
                                        },
                                        "autotypenumbers": "strict",
                                        "coloraxis": {
                                            "colorbar": {
                                                "outlinewidth": 0,
                                                "ticks": ""
                                            }
                                        },
                                        "colorscale": {
                                            "diverging": [
                                                [
                                                    0,
                                                    "#8e0152"
                                                ],
                                                [
                                                    0.1,
                                                    "#c51b7d"
                                                ],
                                                [
                                                    0.2,
                                                    "#de77ae"
                                                ],
                                                [
                                                    0.3,
                                                    "#f1b6da"
                                                ],
                                                [
                                                    0.4,
                                                    "#fde0ef"
                                                ],
                                                [
                                                    0.5,
                                                    "#f7f7f7"
                                                ],
                                                [
                                                    0.6,
                                                    "#e6f5d0"
                                                ],
                                                [
                                                    0.7,
                                                    "#b8e186"
                                                ],
                                                [
                                                    0.8,
                                                    "#7fbc41"
                                                ],
                                                [
                                                    0.9,
                                                    "#4d9221"
                                                ],
                                                [
                                                    1,
                                                    "#276419"
                                                ]
                                            ],
                                            "sequential": [
                                                [
                                                    0,
                                                    "#0d0887"
                                                ],
                                                [
                                                    0.1111111111111111,
                                                    "#46039f"
                                                ],
                                                [
                                                    0.2222222222222222,
                                                    "#7201a8"
                                                ],
                                                [
                                                    0.3333333333333333,
                                                    "#9c179e"
                                                ],
                                                [
                                                    0.4444444444444444,
                                                    "#bd3786"
                                                ],
                                                [
                                                    0.5555555555555556,
                                                    "#d8576b"
                                                ],
                                                [
                                                    0.6666666666666666,
                                                    "#ed7953"
                                                ],
                                                [
                                                    0.7777777777777778,
                                                    "#fb9f3a"
                                                ],
                                                [
                                                    0.8888888888888888,
                                                    "#fdca26"
                                                ],
                                                [
                                                    1,
                                                    "#f0f921"
                                                ]
                                            ],
                                            "sequentialminus": [
                                                [
                                                    0,
                                                    "#0d0887"
                                                ],
                                                [
                                                    0.1111111111111111,
                                                    "#46039f"
                                                ],
                                                [
                                                    0.2222222222222222,
                                                    "#7201a8"
                                                ],
                                                [
                                                    0.3333333333333333,
                                                    "#9c179e"
                                                ],
                                                [
                                                    0.4444444444444444,
                                                    "#bd3786"
                                                ],
                                                [
                                                    0.5555555555555556,
                                                    "#d8576b"
                                                ],
                                                [
                                                    0.6666666666666666,
                                                    "#ed7953"
                                                ],
                                                [
                                                    0.7777777777777778,
                                                    "#fb9f3a"
                                                ],
                                                [
                                                    0.8888888888888888,
                                                    "#fdca26"
                                                ],
                                                [
                                                    1,
                                                    "#f0f921"
                                                ]
                                            ]
                                        },
                                        "colorway": [
                                            "#636efa",
                                            "#EF553B",
                                            "#00cc96",
                                            "#ab63fa",
                                            "#FFA15A",
                                            "#19d3f3",
                                            "#FF6692",
                                            "#B6E880",
                                            "#FF97FF",
                                            "#FECB52"
                                        ],
                                        "font": {
                                            "color": "#2a3f5f"
                                        },
                                        "geo": {
                                            "bgcolor": "white",
                                            "lakecolor": "white",
                                            "landcolor": "#E5ECF6",
                                            "showlakes": true,
                                            "showland": true,
                                            "subunitcolor": "white"
                                        },
                                        "hoverlabel": {
                                            "align": "left"
                                        },
                                        "hovermode": "closest",
                                        "mapbox": {
                                            "style": "light"
                                        },
                                        "paper_bgcolor": "white",
                                        "plot_bgcolor": "#E5ECF6",
                                        "polar": {
                                            "angularaxis": {
                                                "gridcolor": "white",
                                                "linecolor": "white",
                                                "ticks": ""
                                            },
                                            "bgcolor": "#E5ECF6",
                                            "radialaxis": {
                                                "gridcolor": "white",
                                                "linecolor": "white",
                                                "ticks": ""
                                            }
                                        },
                                        "scene": {
                                            "xaxis": {
                                                "backgroundcolor": "#E5ECF6",
                                                "gridcolor": "white",
                                                "gridwidth": 2,
                                                "linecolor": "white",
                                                "showbackground": true,
                                                "ticks": "",
                                                "zerolinecolor": "white"
                                            },
                                            "yaxis": {
                                                "backgroundcolor": "#E5ECF6",
                                                "gridcolor": "white",
                                                "gridwidth": 2,
                                                "linecolor": "white",
                                                "showbackground": true,
                                                "ticks": "",
                                                "zerolinecolor": "white"
                                            },
                                            "zaxis": {
                                                "backgroundcolor": "#E5ECF6",
                                                "gridcolor": "white",
                                                "gridwidth": 2,
                                                "linecolor": "white",
                                                "showbackground": true,
                                                "ticks": "",
                                                "zerolinecolor": "white"
                                            }
                                        },
                                        "shapedefaults": {
                                            "line": {
                                                "color": "#2a3f5f"
                                            }
                                        },
                                        "ternary": {
                                            "aaxis": {
                                                "gridcolor": "white",
                                                "linecolor": "white",
                                                "ticks": ""
                                            },
                                            "baxis": {
                                                "gridcolor": "white",
                                                "linecolor": "white",
                                                "ticks": ""
                                            },
                                            "bgcolor": "#E5ECF6",
                                            "caxis": {
                                                "gridcolor": "white",
                                                "linecolor": "white",
                                                "ticks": ""
                                            }
                                        },
                                        "title": {
                                            "x": 0.05
                                        },
                                        "xaxis": {
                                            "automargin": true,
                                            "gridcolor": "white",
                                            "linecolor": "white",
                                            "ticks": "",
                                            "title": {
                                                "standoff": 15
                                            },
                                            "zerolinecolor": "white",
                                            "zerolinewidth": 2
                                        },
                                        "yaxis": {
                                            "automargin": true,
                                            "gridcolor": "white",
                                            "linecolor": "white",
                                            "ticks": "",
                                            "title": {
                                                "standoff": 15
                                            },
                                            "zerolinecolor": "white",
                                            "zerolinewidth": 2
                                        }
                                    }
                                },
                                "title": {
                                    "text": "CPT - P(ecFEF25-75%ecFEV1|AR)"
                                },
                                "width": 500,
                                "xaxis": {
                                    "anchor": "y",
                                    "domain": [
                                        0,
                                        1
                                    ],
                                    "matches": "x9",
                                    "nticks": 20,
                                    "range": [
                                        0,
                                        200
                                    ],
                                    "showticklabels": false,
                                    "title": {}
                                },
                                "xaxis2": {
                                    "anchor": "y2",
                                    "domain": [
                                        0,
                                        1
                                    ],
                                    "matches": "x9",
                                    "nticks": 20,
                                    "range": [
                                        0,
                                        200
                                    ],
                                    "showticklabels": false,
                                    "title": {}
                                },
                                "xaxis3": {
                                    "anchor": "y3",
                                    "domain": [
                                        0,
                                        1
                                    ],
                                    "matches": "x9",
                                    "nticks": 20,
                                    "range": [
                                        0,
                                        200
                                    ],
                                    "showticklabels": false,
                                    "title": {}
                                },
                                "xaxis4": {
                                    "anchor": "y4",
                                    "domain": [
                                        0,
                                        1
                                    ],
                                    "matches": "x9",
                                    "nticks": 20,
                                    "range": [
                                        0,
                                        200
                                    ],
                                    "showticklabels": false,
                                    "title": {}
                                },
                                "xaxis5": {
                                    "anchor": "y5",
                                    "domain": [
                                        0,
                                        1
                                    ],
                                    "matches": "x9",
                                    "nticks": 20,
                                    "range": [
                                        0,
                                        200
                                    ],
                                    "showticklabels": false,
                                    "title": {}
                                },
                                "xaxis6": {
                                    "anchor": "y6",
                                    "domain": [
                                        0,
                                        1
                                    ],
                                    "matches": "x9",
                                    "nticks": 20,
                                    "range": [
                                        0,
                                        200
                                    ],
                                    "showticklabels": false,
                                    "title": {}
                                },
                                "xaxis7": {
                                    "anchor": "y7",
                                    "domain": [
                                        0,
                                        1
                                    ],
                                    "matches": "x9",
                                    "nticks": 20,
                                    "range": [
                                        0,
                                        200
                                    ],
                                    "showticklabels": false,
                                    "title": {}
                                },
                                "xaxis8": {
                                    "anchor": "y8",
                                    "domain": [
                                        0,
                                        1
                                    ],
                                    "matches": "x9",
                                    "nticks": 20,
                                    "range": [
                                        0,
                                        200
                                    ],
                                    "showticklabels": false,
                                    "title": {}
                                },
                                "xaxis9": {
                                    "anchor": "y9",
                                    "domain": [
                                        0,
                                        1
                                    ],
                                    "nticks": 20,
                                    "range": [
                                        0,
                                        200
                                    ],
                                    "title": {
                                        "text": "ecFEF25-75 % ecFEV1 (%)"
                                    }
                                },
                                "yaxis": {
                                    "anchor": "x",
                                    "domain": [
                                        0.8915555555555555,
                                        1
                                    ],
                                    "range": [
                                        0,
                                        0.6
                                    ],
                                    "title": {
                                        "text": "AR= 5"
                                    }
                                },
                                "yaxis2": {
                                    "anchor": "x2",
                                    "domain": [
                                        0.7801111111111111,
                                        0.8885555555555555
                                    ],
                                    "range": [
                                        0,
                                        0.6
                                    ],
                                    "title": {
                                        "text": "AR=15"
                                    }
                                },
                                "yaxis3": {
                                    "anchor": "x3",
                                    "domain": [
                                        0.6686666666666666,
                                        0.7771111111111111
                                    ],
                                    "range": [
                                        0,
                                        0.6
                                    ],
                                    "title": {
                                        "text": "AR=25"
                                    }
                                },
                                "yaxis4": {
                                    "anchor": "x4",
                                    "domain": [
                                        0.5572222222222222,
                                        0.6656666666666666
                                    ],
                                    "range": [
                                        0,
                                        0.6
                                    ],
                                    "title": {
                                        "text": "AR=35"
                                    }
                                },
                                "yaxis5": {
                                    "anchor": "x5",
                                    "domain": [
                                        0.4457777777777778,
                                        0.5542222222222222
                                    ],
                                    "range": [
                                        0,
                                        0.6
                                    ],
                                    "title": {
                                        "text": "AR=45"
                                    }
                                },
                                "yaxis6": {
                                    "anchor": "x6",
                                    "domain": [
                                        0.3343333333333333,
                                        0.44277777777777777
                                    ],
                                    "range": [
                                        0,
                                        0.6
                                    ],
                                    "title": {
                                        "text": "AR=55"
                                    }
                                },
                                "yaxis7": {
                                    "anchor": "x7",
                                    "domain": [
                                        0.2228888888888889,
                                        0.3313333333333333
                                    ],
                                    "range": [
                                        0,
                                        0.6
                                    ],
                                    "title": {
                                        "text": "AR=65"
                                    }
                                },
                                "yaxis8": {
                                    "anchor": "x8",
                                    "domain": [
                                        0.11144444444444444,
                                        0.21988888888888888
                                    ],
                                    "range": [
                                        0,
                                        0.6
                                    ],
                                    "title": {
                                        "text": "AR=75"
                                    }
                                },
                                "yaxis9": {
                                    "anchor": "x9",
                                    "domain": [
                                        0,
                                        0.10844444444444444
                                    ],
                                    "range": [
                                        0,
                                        0.6
                                    ],
                                    "title": {
                                        "text": "AR=85"
                                    }
                                }
                            }
                        }
                    },
                    "metadata": {},
                    "output_type": "display_data"
                }
            ],
            "source": [
                "fig.show()"
            ]
        },
        {
            "cell_type": "code",
            "execution_count": 23,
            "metadata": {},
            "outputs": [],
            "source": [
                "cpth.save_cpt([ecFEF2575prctecFEV1_light, AR_light], light_cpt, \"_light\")"
            ]
        },
        {
            "cell_type": "code",
            "execution_count": null,
            "metadata": {},
            "outputs": [],
            "source": []
        }
    ],
    "metadata": {
        "kernelspec": {
            "display_name": "phd",
            "language": "python",
            "name": "python3"
        },
        "language_info": {
            "codemirror_mode": {
                "name": "ipython",
                "version": 3
            },
            "file_extension": ".py",
            "mimetype": "text/x-python",
            "name": "python",
            "nbconvert_exporter": "python",
            "pygments_lexer": "ipython3",
            "version": "3.10.13"
        }
    },
    "nbformat": 4,
    "nbformat_minor": 2
}