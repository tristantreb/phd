{
 "cells": [
  {
   "cell_type": "code",
   "execution_count": 1,
   "metadata": {
    "collapsed": true
   },
   "outputs": [
    {
     "name": "stderr",
     "output_type": "stream",
     "text": [
      "/var/folders/zq/v2r6yn111s3gpdf8lzf72xvw0000gn/T/ipykernel_9747/3170935871.py:16: DtypeWarning: Columns (14) have mixed types. Specify dtype option on import or set low_memory=False.\n",
      "  measurements = pd.read_csv(datadir + \"mydata.csv\")\n"
     ]
    },
    {
     "name": "stdout",
     "output_type": "stream",
     "text": [
      "Measurements data columns:\n",
      "User ID                  object\n",
      "UserName                 object\n",
      "Recording Type           object\n",
      "Date/Time recorded       object\n",
      "FEV1                    float64\n",
      "FEV 10                  float64\n",
      "Predicted FEV           float64\n",
      "FEV 1 %                 float64\n",
      "Weight in Kg            float64\n",
      "O2 Saturation           float64\n",
      "Pulse (BPM)             float64\n",
      "Calories                float64\n",
      "Rating                  float64\n",
      "Temp (deg C)            float64\n",
      "Sputum sample taken?     object\n",
      "Activity - Steps        float64\n",
      "Activity - Points       float64\n",
      "dtype: object\n",
      "\n",
      "ID mapping file columns:\n",
      "Patient_ID     object\n",
      "SmartCareID    object\n",
      "dtype: object\n",
      "\n",
      "Patient data columns:\n",
      "ID                                       object\n",
      "Hospital                                 object\n",
      "Study Number                             object\n",
      "Study Date                               object\n",
      "DOB                              datetime64[ns]\n",
      "Age                                       int64\n",
      "Sex                                      object\n",
      "Height                                  float64\n",
      "Weight                                  float64\n",
      "Predicted FEV1                          float64\n",
      "FEV1 Set As                             float64\n",
      "Genetic Testing                          object\n",
      "Age 18 Years                             object\n",
      "Pulmonary Exacerbation                   object\n",
      "Informed Consent                         object\n",
      "Sputum Samples                           object\n",
      "Telemetric Measures                      object\n",
      "Unable Informed Consent                  object\n",
      "Unable Sputum Samples                    object\n",
      "Less Exacerbation                        object\n",
      "Transplant Recipients                    object\n",
      "Date Consent Obtained            datetime64[ns]\n",
      "CFQR Quest Comp                          object\n",
      "Inconvenience Payment                    object\n",
      "Date Last PE Start               datetime64[ns]\n",
      "Date Last PE Stop                        object\n",
      "GP Letter Sent                           object\n",
      "Remote Monitoring App User ID            object\n",
      "Study Email                              object\n",
      "Freezer Required                         object\n",
      "Comments                                 object\n",
      "dtype: object\n",
      "Antibiotics data columns:\n",
      "ID                 object\n",
      "Hospital           object\n",
      "Study Number       object\n",
      "Antibiotic ID       int64\n",
      "Antibiotic Name    object\n",
      "Route              object\n",
      "Home IV's'         object\n",
      "Start Date         object\n",
      "Stop Date          object\n",
      "dtype: object\n",
      "Removed 11 O2 saturation measurements over 100%, 129830 left\n",
      "O2 Saturation contains 14118 measurements\n",
      "FEV1 contains 11063 measurements\n",
      "Removed 4939 rows with inner merge, 68% of O2-FEV1 same day measurements remain\n"
     ]
    },
    {
     "name": "stderr",
     "output_type": "stream",
     "text": [
      "/Applications/anaconda3/envs/phd/lib/python3.10/site-packages/openpyxl/worksheet/_read_only.py:79: UserWarning: Unknown extension is not supported and will be removed\n",
      "  for idx, row in parser.parse():\n",
      "/Applications/anaconda3/envs/phd/lib/python3.10/site-packages/openpyxl/worksheet/_read_only.py:79: UserWarning: Unknown extension is not supported and will be removed\n",
      "  for idx, row in parser.parse():\n"
     ]
    }
   ],
   "source": [
    "from data_transformation import *\n",
    "from exacerbation_periods import *\n",
    "\n",
    "\n",
    "\n",
    "# settings\n",
    "datadir=\"../../SmartCareData/\"\n",
    "plotsdir=\"../../PlotsSmartcare/O2_FEV1/\"\n",
    "\n",
    "\n",
    "\n",
    "# Process O2-FEV1 data\n",
    "\n",
    "# Extract data and format datatypes\n",
    "# Don't use convert_dtypes as it provides types that mess up when doing np calculations\n",
    "measurements = pd.read_csv(datadir + \"mydata.csv\")\n",
    "measurements['Date/Time recorded'] = pd.to_datetime(measurements['Date/Time recorded']).dt.date\n",
    "measurements.rename(columns={\"FEV 1\": \"FEV1\"}, inplace=True)\n",
    "print(\"Measurements data columns:\\n{}\\n\".format(measurements.dtypes))\n",
    "\n",
    "# ID mapping file\n",
    "id_map = pd.read_excel(datadir + \"patientidnew.xlsx\", dtype={'SmartCareID': str}).drop(\"Study_ID\", axis=1)\n",
    "print(\"ID mapping file columns:\\n{}\\n\".format(id_map.dtypes))\n",
    "\n",
    "# Clinical data\n",
    "# Patient data: Information describing the patient\n",
    "patientsdata = pd.read_excel(datadir + \"clinicaldata_updated.xlsx\", sheet_name=\"Patients\", dtype={'ID': str})\n",
    "patientsdata.Weight = patientsdata.Weight.replace(to_replace='75,4',value='75.4').astype(float)\n",
    "patientsdata['Study Date'] = pd.to_datetime(patientsdata['Study Date']).dt.date\n",
    "print(\"Patient data columns:\\n{}\".format(patientsdata.dtypes))\n",
    "# Antibiotics data\n",
    "antibioticsdata = pd.read_excel(datadir + \"clinicaldata_updated.xlsx\", sheet_name=\"Antibiotics\", dtype={'ID': str})\n",
    "antibioticsdata['Start Date'] = pd.to_datetime(antibioticsdata['Start Date']).dt.date\n",
    "antibioticsdata['Stop Date'] = pd.to_datetime(antibioticsdata['Stop Date']).dt.date\n",
    "print(\"Antibiotics data columns:\\n{}\".format(antibioticsdata.dtypes))\n",
    "# The datetime objects can be used to compare dates because they have an empty time 00:00:00\n",
    "\n",
    "# Additional data cleaning\n",
    "length_before_cleaning_O2 = measurements.shape[0]\n",
    "measurements.drop( measurements[measurements[\"O2 Saturation\"] > 100].index, inplace=True)\n",
    "print(\"Removed {} O2 saturation measurements over 100%, {} left\".format(length_before_cleaning_O2-measurements.shape[0], measurements.shape[0]))\n",
    "\n",
    "\n",
    "\n",
    "# Get table with FEV1 and O2 values per day per user\n",
    "O2 = extract_measure(measurements, \"O2 Saturation\")\n",
    "FEV1 = extract_measure(measurements, \"FEV1\")\n",
    "\n",
    "length_outer_join = O2.merge(FEV1, on=['User ID', 'Date/Time recorded'], how='outer').shape[0]\n",
    "length_left_join  = O2.merge(FEV1, on=['User ID', 'Date/Time recorded'], how='left').shape[0]\n",
    "O2_FEV1 = O2.merge(FEV1, on=['User ID', 'Date/Time recorded'], how='inner')\n",
    "print(\"Removed {} rows with inner merge, {:.0%} of O2-FEV1 same day measurements remain\".format( length_outer_join - O2_FEV1.shape[0], O2_FEV1.shape[0] /length_outer_join))\n",
    "\n",
    "# Add patient data\n",
    "# Map smartcare ids\n",
    "O2_FEV1 = O2_FEV1.merge(id_map, left_on='User ID', right_on='Patient_ID', copy=True)\n",
    "# Add clinical data\n",
    "O2_FEV1 = O2_FEV1.merge(patientsdata, left_on='SmartCareID', right_on='ID', copy=True).drop([\"User ID\", \"Patient_ID\", \"SmartCareID\"], axis=1)"
   ]
  },
  {
   "cell_type": "markdown",
   "source": [],
   "metadata": {
    "collapsed": false
   }
  },
  {
   "cell_type": "markdown",
   "source": [
    "# O2-FEV1 analysis\n",
    "## Definitions\n",
    "- O2 Saturation\n",
    "- FEV 1\n",
    "- Predicted FEV 1 in %: measure for the amount of airway obstruction either due to sputum load (non-permanent obstruction) or scars in the lungs (permanent obstruction).\n",
    "\n",
    "## Literature\n",
    "[The association between forced expiratory volume in one second (FEV1) and pulse oximetric measurements of arterial oxygen saturation (SpO2) in the patients with COPD: A preliminary study](https://pubmed.ncbi.nlm.nih.gov/24949035/).\n",
    "- Context: 31 patients with COPD\n",
    "- Key results: There was not statistically significant correlation between FEV1 % predicted and SpO2 values (P < 0.05), but a great correlation existed between FEV1/FVC % predicted and SpO2 values (r = 0.556, P < 0.001).\n",
    "\n",
    " [ANALYSIS OF CORRELATION BETWEEN FEV1/FEV6 AND OXYGEN SATURATION DURING SIX-MINUTE WALK TEST (6MWT) IN COPD PATIENTS](https://www.researchgate.net/publication/351322676_ANALYSIS_OF_CORRELATION_BETWEEN_FEV1FEV6_AND_OXYGEN_SATURATION_DURING_SIX-MINUTE_WALK_TEST_6MWT_IN_COPD_PATIENTS)\n",
    " - Need to download\n",
    "\n",
    "Note: nobody segments the input by groups. Probably because they don't have enough data to do this."
   ],
   "metadata": {
    "collapsed": false
   }
  },
  {
   "cell_type": "code",
   "execution_count": 2,
   "outputs": [
    {
     "data": {
      "text/plain": "  Date/Time recorded  O2 Saturation  FEV1  ID Hospital Study Number  \\\n0         2015-08-12           95.0  1.49  23      PAP            1   \n1         2015-08-14           95.0  1.29  23      PAP            1   \n2         2015-08-21           94.0  1.35  23      PAP            1   \n3         2015-09-05           95.0  1.30  23      PAP            1   \n4         2015-09-07           97.0  1.46  23      PAP            1   \n\n   Study Date        DOB  Age     Sex  ...  Inconvenience Payment  \\\n0  2015-08-03 1960-07-05   55  Female  ...                    Yes   \n1  2015-08-03 1960-07-05   55  Female  ...                    Yes   \n2  2015-08-03 1960-07-05   55  Female  ...                    Yes   \n3  2015-08-03 1960-07-05   55  Female  ...                    Yes   \n4  2015-08-03 1960-07-05   55  Female  ...                    Yes   \n\n   Date Last PE Start    Date Last PE Stop  GP Letter Sent  \\\n0          2014-11-03  2014-11-17 00:00:00             Yes   \n1          2014-11-03  2014-11-17 00:00:00             Yes   \n2          2014-11-03  2014-11-17 00:00:00             Yes   \n3          2014-11-03  2014-11-17 00:00:00             Yes   \n4          2014-11-03  2014-11-17 00:00:00             Yes   \n\n  Remote Monitoring App User ID  Study Email Freezer Required Comments  \\\n0                        PAP001  papworth005              Yes      NaN   \n1                        PAP001  papworth005              Yes      NaN   \n2                        PAP001  papworth005              Yes      NaN   \n3                        PAP001  papworth005              Yes      NaN   \n4                        PAP001  papworth005              Yes      NaN   \n\n  FEV1 % Predicted FEV1 % Predicted Group  \n0        66.816143                 >=66.2  \n1        57.847534            [42.2;66.2[  \n2        60.538117            [42.2;66.2[  \n3        58.295964            [42.2;66.2[  \n4        65.470852            [42.2;66.2[  \n\n[5 rows x 36 columns]",
      "text/html": "<div>\n<style scoped>\n    .dataframe tbody tr th:only-of-type {\n        vertical-align: middle;\n    }\n\n    .dataframe tbody tr th {\n        vertical-align: top;\n    }\n\n    .dataframe thead th {\n        text-align: right;\n    }\n</style>\n<table border=\"1\" class=\"dataframe\">\n  <thead>\n    <tr style=\"text-align: right;\">\n      <th></th>\n      <th>Date/Time recorded</th>\n      <th>O2 Saturation</th>\n      <th>FEV1</th>\n      <th>ID</th>\n      <th>Hospital</th>\n      <th>Study Number</th>\n      <th>Study Date</th>\n      <th>DOB</th>\n      <th>Age</th>\n      <th>Sex</th>\n      <th>...</th>\n      <th>Inconvenience Payment</th>\n      <th>Date Last PE Start</th>\n      <th>Date Last PE Stop</th>\n      <th>GP Letter Sent</th>\n      <th>Remote Monitoring App User ID</th>\n      <th>Study Email</th>\n      <th>Freezer Required</th>\n      <th>Comments</th>\n      <th>FEV1 % Predicted</th>\n      <th>FEV1 % Predicted Group</th>\n    </tr>\n  </thead>\n  <tbody>\n    <tr>\n      <th>0</th>\n      <td>2015-08-12</td>\n      <td>95.0</td>\n      <td>1.49</td>\n      <td>23</td>\n      <td>PAP</td>\n      <td>1</td>\n      <td>2015-08-03</td>\n      <td>1960-07-05</td>\n      <td>55</td>\n      <td>Female</td>\n      <td>...</td>\n      <td>Yes</td>\n      <td>2014-11-03</td>\n      <td>2014-11-17 00:00:00</td>\n      <td>Yes</td>\n      <td>PAP001</td>\n      <td>papworth005</td>\n      <td>Yes</td>\n      <td>NaN</td>\n      <td>66.816143</td>\n      <td>&gt;=66.2</td>\n    </tr>\n    <tr>\n      <th>1</th>\n      <td>2015-08-14</td>\n      <td>95.0</td>\n      <td>1.29</td>\n      <td>23</td>\n      <td>PAP</td>\n      <td>1</td>\n      <td>2015-08-03</td>\n      <td>1960-07-05</td>\n      <td>55</td>\n      <td>Female</td>\n      <td>...</td>\n      <td>Yes</td>\n      <td>2014-11-03</td>\n      <td>2014-11-17 00:00:00</td>\n      <td>Yes</td>\n      <td>PAP001</td>\n      <td>papworth005</td>\n      <td>Yes</td>\n      <td>NaN</td>\n      <td>57.847534</td>\n      <td>[42.2;66.2[</td>\n    </tr>\n    <tr>\n      <th>2</th>\n      <td>2015-08-21</td>\n      <td>94.0</td>\n      <td>1.35</td>\n      <td>23</td>\n      <td>PAP</td>\n      <td>1</td>\n      <td>2015-08-03</td>\n      <td>1960-07-05</td>\n      <td>55</td>\n      <td>Female</td>\n      <td>...</td>\n      <td>Yes</td>\n      <td>2014-11-03</td>\n      <td>2014-11-17 00:00:00</td>\n      <td>Yes</td>\n      <td>PAP001</td>\n      <td>papworth005</td>\n      <td>Yes</td>\n      <td>NaN</td>\n      <td>60.538117</td>\n      <td>[42.2;66.2[</td>\n    </tr>\n    <tr>\n      <th>3</th>\n      <td>2015-09-05</td>\n      <td>95.0</td>\n      <td>1.30</td>\n      <td>23</td>\n      <td>PAP</td>\n      <td>1</td>\n      <td>2015-08-03</td>\n      <td>1960-07-05</td>\n      <td>55</td>\n      <td>Female</td>\n      <td>...</td>\n      <td>Yes</td>\n      <td>2014-11-03</td>\n      <td>2014-11-17 00:00:00</td>\n      <td>Yes</td>\n      <td>PAP001</td>\n      <td>papworth005</td>\n      <td>Yes</td>\n      <td>NaN</td>\n      <td>58.295964</td>\n      <td>[42.2;66.2[</td>\n    </tr>\n    <tr>\n      <th>4</th>\n      <td>2015-09-07</td>\n      <td>97.0</td>\n      <td>1.46</td>\n      <td>23</td>\n      <td>PAP</td>\n      <td>1</td>\n      <td>2015-08-03</td>\n      <td>1960-07-05</td>\n      <td>55</td>\n      <td>Female</td>\n      <td>...</td>\n      <td>Yes</td>\n      <td>2014-11-03</td>\n      <td>2014-11-17 00:00:00</td>\n      <td>Yes</td>\n      <td>PAP001</td>\n      <td>papworth005</td>\n      <td>Yes</td>\n      <td>NaN</td>\n      <td>65.470852</td>\n      <td>[42.2;66.2[</td>\n    </tr>\n  </tbody>\n</table>\n<p>5 rows × 36 columns</p>\n</div>"
     },
     "execution_count": 2,
     "metadata": {},
     "output_type": "execute_result"
    }
   ],
   "source": [
    "# Make partitions\n",
    "O2_FEV1['FEV1 % Predicted'] = O2_FEV1.apply(lambda x: x[\"FEV1\"] / x[\"Predicted FEV1\"] * 100, axis=1)\n",
    "O2_FEV1[\"FEV1 % Predicted Group\"] = partition_in_n_equal_groups(O2_FEV1['FEV1 % Predicted'],3)\n",
    "\n",
    "# What are we analysing?\n",
    "O2_FEV1.head()"
   ],
   "metadata": {
    "collapsed": false
   }
  },
  {
   "cell_type": "code",
   "execution_count": null,
   "outputs": [],
   "source": [
    "# Raw plot without trendline\n",
    "fig = px.scatter(O2_FEV1, y=\"O2 Saturation\", x=\"FEV1\")\n",
    "# fig = px.scatter(O2_FEV1, y=\"O2 Saturation\", x=\"FEV1\", trendline=\"ols\")\n",
    "fig.update_layout(autosize=False, width=500, height=500)\n",
    "fig.show()\n",
    "fig.write_image(plotsdir + \"FEV1-O2 saturation raw.pdf\")\n",
    "\n",
    "fig = px.scatter(O2_FEV1, y=\"O2 Saturation\", x=\"FEV1 % Predicted\")\n",
    "fig.update_layout(autosize=False, width=500, height=500)\n",
    "fig.show()\n",
    "fig.write_image(plotsdir + \"FEV1 % Predicted-O2 saturation raw.pdf\")\n",
    "\n",
    "O2_FEV1.shape"
   ],
   "metadata": {
    "collapsed": false
   }
  },
  {
   "cell_type": "code",
   "execution_count": null,
   "outputs": [],
   "source": [
    "# Plot with height\n",
    "O2_FEV1['Height Group'], height_labels=partition_in_n_equal_groups(O2_FEV1['Height'], 3, True)\n",
    "\n",
    "# var = 'FEV1'; xaxis_range = [0, 5.1]\n",
    "var = 'FEV1 % Predicted'; xaxis_range = [0, 155]\n",
    "\n",
    "fig = px.scatter(O2_FEV1, y=\"O2 Saturation\", x=var, color=\"Height Group\", marginal_x=\"histogram\", marginal_y=\"histogram\")\n",
    "# fig.update_layout(autosize=False, width=800, height=800)\n",
    "fig.update_traces(marker=dict(size=5),\n",
    "                  selector=dict(mode='markers'))\n",
    "# fig.update_xaxes(range=[0.9*min(O2_FEV1[\"FEV1\"]), 1.1*max(O2_FEV1[\"FEV1\"])])\n",
    "# fig.update_yaxes(range=[0.9*min(O2_FEV1[\"O2 Saturation\"]), max(1.1*O2_FEV1[\"O2 Saturation\"])])\n",
    "# fig.show()\n",
    "\n",
    "for height_group in height_labels:\n",
    "    mask_height=O2_FEV1['Height Group'] == height_group\n",
    "\n",
    "    fig = px.scatter(O2_FEV1[mask_height], y=\"O2 Saturation\", x=var,\n",
    "                     title='Height group {}'.format(height_group))\n",
    "    fig.update_layout(autosize=False, width=500, height=500)\n",
    "    fig.update_traces(marker=dict(size=5),\n",
    "                      selector=dict(mode='markers'))\n",
    "    fig.update_xaxes(range=xaxis_range)\n",
    "    fig.update_yaxes(range=[74, 102])\n",
    "    fig.show()\n",
    "    filename= \"Height group \" +  height_group + \" \" + var + \"-O2 saturation raw\"\n",
    "    fig.write_image(plotsdir + filename + \".pdf\")"
   ],
   "metadata": {
    "collapsed": false
   }
  },
  {
   "cell_type": "code",
   "execution_count": 18,
   "outputs": [
    {
     "data": {
      "application/vnd.plotly.v1+json": {
       "data": [
        {
         "hovertemplate": "O2 Group=<93<br>Weight Group=%{x}<br>Avg FEV1 % Predicted=%{y}<br>Datapoints=%{marker.size}<extra></extra>",
         "legendgroup": "<93",
         "marker": {
          "color": "#636efa",
          "size": [
           158,
           252,
           40,
           117,
           238,
           84
          ],
          "sizemode": "area",
          "sizeref": 1.8775,
          "symbol": "circle"
         },
         "mode": "markers",
         "name": "<93",
         "orientation": "v",
         "showlegend": true,
         "x": [
          "<51.7",
          "[51.7;57.5[",
          "[57.5;63.4[",
          "[63.4;68.1[",
          "[68.1;74.2[",
          ">=74.2"
         ],
         "xaxis": "x",
         "y": [
          46.743264391140215,
          39.86262817845994,
          40.23793974922109,
          28.71326659105131,
          31.399563594504617,
          45.02877597433633
         ],
         "yaxis": "y",
         "type": "scatter"
        },
        {
         "hovertemplate": "O2 Group=[93;96[<br>Weight Group=%{x}<br>Avg FEV1 % Predicted=%{y}<br>Datapoints=%{marker.size}<extra></extra>",
         "legendgroup": "[93;96[",
         "marker": {
          "color": "#EF553B",
          "size": [
           735,
           501,
           472,
           424,
           591,
           632
          ],
          "sizemode": "area",
          "sizeref": 1.8775,
          "symbol": "circle"
         },
         "mode": "markers",
         "name": "[93;96[",
         "orientation": "v",
         "showlegend": true,
         "x": [
          "<51.7",
          "[51.7;57.5[",
          "[57.5;63.4[",
          "[63.4;68.1[",
          "[68.1;74.2[",
          ">=74.2"
         ],
         "xaxis": "x",
         "y": [
          48.3756678139247,
          45.19517973848847,
          51.25288707957559,
          46.66214932241412,
          48.10162258559755,
          52.52806576552995
         ],
         "yaxis": "y",
         "type": "scatter"
        },
        {
         "hovertemplate": "O2 Group=[96;98[<br>Weight Group=%{x}<br>Avg FEV1 % Predicted=%{y}<br>Datapoints=%{marker.size}<extra></extra>",
         "legendgroup": "[96;98[",
         "marker": {
          "color": "#00cc96",
          "size": [
           586,
           457,
           751,
           457,
           640,
           630
          ],
          "sizemode": "area",
          "sizeref": 1.8775,
          "symbol": "circle"
         },
         "mode": "markers",
         "name": "[96;98[",
         "orientation": "v",
         "showlegend": true,
         "x": [
          "<51.7",
          "[51.7;57.5[",
          "[57.5;63.4[",
          "[63.4;68.1[",
          "[68.1;74.2[",
          ">=74.2"
         ],
         "xaxis": "x",
         "y": [
          48.132398252925576,
          54.62018380964383,
          62.33217096721077,
          55.51984300737552,
          71.8871758993022,
          62.02130540572381
         ],
         "yaxis": "y",
         "type": "scatter"
        },
        {
         "hovertemplate": "O2 Group=[98;99[<br>Weight Group=%{x}<br>Avg FEV1 % Predicted=%{y}<br>Datapoints=%{marker.size}<extra></extra>",
         "legendgroup": "[98;99[",
         "marker": {
          "color": "#ab63fa",
          "size": [
           169,
           328,
           436,
           400,
           272,
           330
          ],
          "sizemode": "area",
          "sizeref": 1.8775,
          "symbol": "circle"
         },
         "mode": "markers",
         "name": "[98;99[",
         "orientation": "v",
         "showlegend": true,
         "x": [
          "<51.7",
          "[51.7;57.5[",
          "[57.5;63.4[",
          "[63.4;68.1[",
          "[68.1;74.2[",
          ">=74.2"
         ],
         "xaxis": "x",
         "y": [
          53.77426235524792,
          61.52464723801269,
          73.6463019368702,
          63.50185010873254,
          81.4366922016225,
          69.80942879875798
         ],
         "yaxis": "y",
         "type": "scatter"
        },
        {
         "hovertemplate": "O2 Group=>=99<br>Weight Group=%{x}<br>Avg FEV1 % Predicted=%{y}<br>Datapoints=%{marker.size}<extra></extra>",
         "legendgroup": ">=99",
         "marker": {
          "color": "#FFA15A",
          "size": [
           17,
           70,
           50,
           161,
           23,
           79
          ],
          "sizemode": "area",
          "sizeref": 1.8775,
          "symbol": "circle"
         },
         "mode": "markers",
         "name": ">=99",
         "orientation": "v",
         "showlegend": true,
         "x": [
          "<51.7",
          "[51.7;57.5[",
          "[57.5;63.4[",
          "[63.4;68.1[",
          "[68.1;74.2[",
          ">=74.2"
         ],
         "xaxis": "x",
         "y": [
          58.8906779118628,
          71.83280182529084,
          76.2345886991077,
          67.90628467122414,
          76.17052354793427,
          88.07190814492257
         ],
         "yaxis": "y",
         "type": "scatter"
        }
       ],
       "layout": {
        "template": {
         "data": {
          "histogram2dcontour": [
           {
            "type": "histogram2dcontour",
            "colorbar": {
             "outlinewidth": 0,
             "ticks": ""
            },
            "colorscale": [
             [
              0.0,
              "#0d0887"
             ],
             [
              0.1111111111111111,
              "#46039f"
             ],
             [
              0.2222222222222222,
              "#7201a8"
             ],
             [
              0.3333333333333333,
              "#9c179e"
             ],
             [
              0.4444444444444444,
              "#bd3786"
             ],
             [
              0.5555555555555556,
              "#d8576b"
             ],
             [
              0.6666666666666666,
              "#ed7953"
             ],
             [
              0.7777777777777778,
              "#fb9f3a"
             ],
             [
              0.8888888888888888,
              "#fdca26"
             ],
             [
              1.0,
              "#f0f921"
             ]
            ]
           }
          ],
          "choropleth": [
           {
            "type": "choropleth",
            "colorbar": {
             "outlinewidth": 0,
             "ticks": ""
            }
           }
          ],
          "histogram2d": [
           {
            "type": "histogram2d",
            "colorbar": {
             "outlinewidth": 0,
             "ticks": ""
            },
            "colorscale": [
             [
              0.0,
              "#0d0887"
             ],
             [
              0.1111111111111111,
              "#46039f"
             ],
             [
              0.2222222222222222,
              "#7201a8"
             ],
             [
              0.3333333333333333,
              "#9c179e"
             ],
             [
              0.4444444444444444,
              "#bd3786"
             ],
             [
              0.5555555555555556,
              "#d8576b"
             ],
             [
              0.6666666666666666,
              "#ed7953"
             ],
             [
              0.7777777777777778,
              "#fb9f3a"
             ],
             [
              0.8888888888888888,
              "#fdca26"
             ],
             [
              1.0,
              "#f0f921"
             ]
            ]
           }
          ],
          "heatmap": [
           {
            "type": "heatmap",
            "colorbar": {
             "outlinewidth": 0,
             "ticks": ""
            },
            "colorscale": [
             [
              0.0,
              "#0d0887"
             ],
             [
              0.1111111111111111,
              "#46039f"
             ],
             [
              0.2222222222222222,
              "#7201a8"
             ],
             [
              0.3333333333333333,
              "#9c179e"
             ],
             [
              0.4444444444444444,
              "#bd3786"
             ],
             [
              0.5555555555555556,
              "#d8576b"
             ],
             [
              0.6666666666666666,
              "#ed7953"
             ],
             [
              0.7777777777777778,
              "#fb9f3a"
             ],
             [
              0.8888888888888888,
              "#fdca26"
             ],
             [
              1.0,
              "#f0f921"
             ]
            ]
           }
          ],
          "heatmapgl": [
           {
            "type": "heatmapgl",
            "colorbar": {
             "outlinewidth": 0,
             "ticks": ""
            },
            "colorscale": [
             [
              0.0,
              "#0d0887"
             ],
             [
              0.1111111111111111,
              "#46039f"
             ],
             [
              0.2222222222222222,
              "#7201a8"
             ],
             [
              0.3333333333333333,
              "#9c179e"
             ],
             [
              0.4444444444444444,
              "#bd3786"
             ],
             [
              0.5555555555555556,
              "#d8576b"
             ],
             [
              0.6666666666666666,
              "#ed7953"
             ],
             [
              0.7777777777777778,
              "#fb9f3a"
             ],
             [
              0.8888888888888888,
              "#fdca26"
             ],
             [
              1.0,
              "#f0f921"
             ]
            ]
           }
          ],
          "contourcarpet": [
           {
            "type": "contourcarpet",
            "colorbar": {
             "outlinewidth": 0,
             "ticks": ""
            }
           }
          ],
          "contour": [
           {
            "type": "contour",
            "colorbar": {
             "outlinewidth": 0,
             "ticks": ""
            },
            "colorscale": [
             [
              0.0,
              "#0d0887"
             ],
             [
              0.1111111111111111,
              "#46039f"
             ],
             [
              0.2222222222222222,
              "#7201a8"
             ],
             [
              0.3333333333333333,
              "#9c179e"
             ],
             [
              0.4444444444444444,
              "#bd3786"
             ],
             [
              0.5555555555555556,
              "#d8576b"
             ],
             [
              0.6666666666666666,
              "#ed7953"
             ],
             [
              0.7777777777777778,
              "#fb9f3a"
             ],
             [
              0.8888888888888888,
              "#fdca26"
             ],
             [
              1.0,
              "#f0f921"
             ]
            ]
           }
          ],
          "surface": [
           {
            "type": "surface",
            "colorbar": {
             "outlinewidth": 0,
             "ticks": ""
            },
            "colorscale": [
             [
              0.0,
              "#0d0887"
             ],
             [
              0.1111111111111111,
              "#46039f"
             ],
             [
              0.2222222222222222,
              "#7201a8"
             ],
             [
              0.3333333333333333,
              "#9c179e"
             ],
             [
              0.4444444444444444,
              "#bd3786"
             ],
             [
              0.5555555555555556,
              "#d8576b"
             ],
             [
              0.6666666666666666,
              "#ed7953"
             ],
             [
              0.7777777777777778,
              "#fb9f3a"
             ],
             [
              0.8888888888888888,
              "#fdca26"
             ],
             [
              1.0,
              "#f0f921"
             ]
            ]
           }
          ],
          "mesh3d": [
           {
            "type": "mesh3d",
            "colorbar": {
             "outlinewidth": 0,
             "ticks": ""
            }
           }
          ],
          "scatter": [
           {
            "fillpattern": {
             "fillmode": "overlay",
             "size": 10,
             "solidity": 0.2
            },
            "type": "scatter"
           }
          ],
          "parcoords": [
           {
            "type": "parcoords",
            "line": {
             "colorbar": {
              "outlinewidth": 0,
              "ticks": ""
             }
            }
           }
          ],
          "scatterpolargl": [
           {
            "type": "scatterpolargl",
            "marker": {
             "colorbar": {
              "outlinewidth": 0,
              "ticks": ""
             }
            }
           }
          ],
          "bar": [
           {
            "error_x": {
             "color": "#2a3f5f"
            },
            "error_y": {
             "color": "#2a3f5f"
            },
            "marker": {
             "line": {
              "color": "#E5ECF6",
              "width": 0.5
             },
             "pattern": {
              "fillmode": "overlay",
              "size": 10,
              "solidity": 0.2
             }
            },
            "type": "bar"
           }
          ],
          "scattergeo": [
           {
            "type": "scattergeo",
            "marker": {
             "colorbar": {
              "outlinewidth": 0,
              "ticks": ""
             }
            }
           }
          ],
          "scatterpolar": [
           {
            "type": "scatterpolar",
            "marker": {
             "colorbar": {
              "outlinewidth": 0,
              "ticks": ""
             }
            }
           }
          ],
          "histogram": [
           {
            "marker": {
             "pattern": {
              "fillmode": "overlay",
              "size": 10,
              "solidity": 0.2
             }
            },
            "type": "histogram"
           }
          ],
          "scattergl": [
           {
            "type": "scattergl",
            "marker": {
             "colorbar": {
              "outlinewidth": 0,
              "ticks": ""
             }
            }
           }
          ],
          "scatter3d": [
           {
            "type": "scatter3d",
            "line": {
             "colorbar": {
              "outlinewidth": 0,
              "ticks": ""
             }
            },
            "marker": {
             "colorbar": {
              "outlinewidth": 0,
              "ticks": ""
             }
            }
           }
          ],
          "scattermapbox": [
           {
            "type": "scattermapbox",
            "marker": {
             "colorbar": {
              "outlinewidth": 0,
              "ticks": ""
             }
            }
           }
          ],
          "scatterternary": [
           {
            "type": "scatterternary",
            "marker": {
             "colorbar": {
              "outlinewidth": 0,
              "ticks": ""
             }
            }
           }
          ],
          "scattercarpet": [
           {
            "type": "scattercarpet",
            "marker": {
             "colorbar": {
              "outlinewidth": 0,
              "ticks": ""
             }
            }
           }
          ],
          "carpet": [
           {
            "aaxis": {
             "endlinecolor": "#2a3f5f",
             "gridcolor": "white",
             "linecolor": "white",
             "minorgridcolor": "white",
             "startlinecolor": "#2a3f5f"
            },
            "baxis": {
             "endlinecolor": "#2a3f5f",
             "gridcolor": "white",
             "linecolor": "white",
             "minorgridcolor": "white",
             "startlinecolor": "#2a3f5f"
            },
            "type": "carpet"
           }
          ],
          "table": [
           {
            "cells": {
             "fill": {
              "color": "#EBF0F8"
             },
             "line": {
              "color": "white"
             }
            },
            "header": {
             "fill": {
              "color": "#C8D4E3"
             },
             "line": {
              "color": "white"
             }
            },
            "type": "table"
           }
          ],
          "barpolar": [
           {
            "marker": {
             "line": {
              "color": "#E5ECF6",
              "width": 0.5
             },
             "pattern": {
              "fillmode": "overlay",
              "size": 10,
              "solidity": 0.2
             }
            },
            "type": "barpolar"
           }
          ],
          "pie": [
           {
            "automargin": true,
            "type": "pie"
           }
          ]
         },
         "layout": {
          "autotypenumbers": "strict",
          "colorway": [
           "#636efa",
           "#EF553B",
           "#00cc96",
           "#ab63fa",
           "#FFA15A",
           "#19d3f3",
           "#FF6692",
           "#B6E880",
           "#FF97FF",
           "#FECB52"
          ],
          "font": {
           "color": "#2a3f5f"
          },
          "hovermode": "closest",
          "hoverlabel": {
           "align": "left"
          },
          "paper_bgcolor": "white",
          "plot_bgcolor": "#E5ECF6",
          "polar": {
           "bgcolor": "#E5ECF6",
           "angularaxis": {
            "gridcolor": "white",
            "linecolor": "white",
            "ticks": ""
           },
           "radialaxis": {
            "gridcolor": "white",
            "linecolor": "white",
            "ticks": ""
           }
          },
          "ternary": {
           "bgcolor": "#E5ECF6",
           "aaxis": {
            "gridcolor": "white",
            "linecolor": "white",
            "ticks": ""
           },
           "baxis": {
            "gridcolor": "white",
            "linecolor": "white",
            "ticks": ""
           },
           "caxis": {
            "gridcolor": "white",
            "linecolor": "white",
            "ticks": ""
           }
          },
          "coloraxis": {
           "colorbar": {
            "outlinewidth": 0,
            "ticks": ""
           }
          },
          "colorscale": {
           "sequential": [
            [
             0.0,
             "#0d0887"
            ],
            [
             0.1111111111111111,
             "#46039f"
            ],
            [
             0.2222222222222222,
             "#7201a8"
            ],
            [
             0.3333333333333333,
             "#9c179e"
            ],
            [
             0.4444444444444444,
             "#bd3786"
            ],
            [
             0.5555555555555556,
             "#d8576b"
            ],
            [
             0.6666666666666666,
             "#ed7953"
            ],
            [
             0.7777777777777778,
             "#fb9f3a"
            ],
            [
             0.8888888888888888,
             "#fdca26"
            ],
            [
             1.0,
             "#f0f921"
            ]
           ],
           "sequentialminus": [
            [
             0.0,
             "#0d0887"
            ],
            [
             0.1111111111111111,
             "#46039f"
            ],
            [
             0.2222222222222222,
             "#7201a8"
            ],
            [
             0.3333333333333333,
             "#9c179e"
            ],
            [
             0.4444444444444444,
             "#bd3786"
            ],
            [
             0.5555555555555556,
             "#d8576b"
            ],
            [
             0.6666666666666666,
             "#ed7953"
            ],
            [
             0.7777777777777778,
             "#fb9f3a"
            ],
            [
             0.8888888888888888,
             "#fdca26"
            ],
            [
             1.0,
             "#f0f921"
            ]
           ],
           "diverging": [
            [
             0,
             "#8e0152"
            ],
            [
             0.1,
             "#c51b7d"
            ],
            [
             0.2,
             "#de77ae"
            ],
            [
             0.3,
             "#f1b6da"
            ],
            [
             0.4,
             "#fde0ef"
            ],
            [
             0.5,
             "#f7f7f7"
            ],
            [
             0.6,
             "#e6f5d0"
            ],
            [
             0.7,
             "#b8e186"
            ],
            [
             0.8,
             "#7fbc41"
            ],
            [
             0.9,
             "#4d9221"
            ],
            [
             1,
             "#276419"
            ]
           ]
          },
          "xaxis": {
           "gridcolor": "white",
           "linecolor": "white",
           "ticks": "",
           "title": {
            "standoff": 15
           },
           "zerolinecolor": "white",
           "automargin": true,
           "zerolinewidth": 2
          },
          "yaxis": {
           "gridcolor": "white",
           "linecolor": "white",
           "ticks": "",
           "title": {
            "standoff": 15
           },
           "zerolinecolor": "white",
           "automargin": true,
           "zerolinewidth": 2
          },
          "scene": {
           "xaxis": {
            "backgroundcolor": "#E5ECF6",
            "gridcolor": "white",
            "linecolor": "white",
            "showbackground": true,
            "ticks": "",
            "zerolinecolor": "white",
            "gridwidth": 2
           },
           "yaxis": {
            "backgroundcolor": "#E5ECF6",
            "gridcolor": "white",
            "linecolor": "white",
            "showbackground": true,
            "ticks": "",
            "zerolinecolor": "white",
            "gridwidth": 2
           },
           "zaxis": {
            "backgroundcolor": "#E5ECF6",
            "gridcolor": "white",
            "linecolor": "white",
            "showbackground": true,
            "ticks": "",
            "zerolinecolor": "white",
            "gridwidth": 2
           }
          },
          "shapedefaults": {
           "line": {
            "color": "#2a3f5f"
           }
          },
          "annotationdefaults": {
           "arrowcolor": "#2a3f5f",
           "arrowhead": 0,
           "arrowwidth": 1
          },
          "geo": {
           "bgcolor": "white",
           "landcolor": "#E5ECF6",
           "subunitcolor": "white",
           "showland": true,
           "showlakes": true,
           "lakecolor": "white"
          },
          "title": {
           "x": 0.05
          },
          "mapbox": {
           "style": "light"
          }
         }
        },
        "xaxis": {
         "anchor": "y",
         "domain": [
          0.0,
          1.0
         ],
         "title": {
          "text": "Weight Group"
         },
         "categoryorder": "array",
         "categoryarray": [
          "<51.7",
          "[51.7;57.5[",
          "[57.5;63.4[",
          "[63.4;68.1[",
          "[68.1;74.2[",
          ">=74.2"
         ]
        },
        "yaxis": {
         "anchor": "x",
         "domain": [
          0.0,
          1.0
         ],
         "title": {
          "text": "Avg FEV1 % Predicted"
         }
        },
        "legend": {
         "title": {
          "text": "O2 Group"
         },
         "tracegroupgap": 0,
         "itemsizing": "constant"
        },
        "title": {
         "text": "Desaturation FEV1 for 6 Weight groups"
        }
       },
       "config": {
        "plotlyServerURL": "https://plot.ly"
       }
      },
      "text/html": "<div>                            <div id=\"cd7bee4e-9140-4a8a-afd6-add082c875b7\" class=\"plotly-graph-div\" style=\"height:525px; width:100%;\"></div>            <script type=\"text/javascript\">                require([\"plotly\"], function(Plotly) {                    window.PLOTLYENV=window.PLOTLYENV || {};                                    if (document.getElementById(\"cd7bee4e-9140-4a8a-afd6-add082c875b7\")) {                    Plotly.newPlot(                        \"cd7bee4e-9140-4a8a-afd6-add082c875b7\",                        [{\"hovertemplate\":\"O2 Group=<93<br>Weight Group=%{x}<br>Avg FEV1 % Predicted=%{y}<br>Datapoints=%{marker.size}<extra></extra>\",\"legendgroup\":\"<93\",\"marker\":{\"color\":\"#636efa\",\"size\":[158,252,40,117,238,84],\"sizemode\":\"area\",\"sizeref\":1.8775,\"symbol\":\"circle\"},\"mode\":\"markers\",\"name\":\"<93\",\"orientation\":\"v\",\"showlegend\":true,\"x\":[\"<51.7\",\"[51.7;57.5[\",\"[57.5;63.4[\",\"[63.4;68.1[\",\"[68.1;74.2[\",\">=74.2\"],\"xaxis\":\"x\",\"y\":[46.743264391140215,39.86262817845994,40.23793974922109,28.71326659105131,31.399563594504617,45.02877597433633],\"yaxis\":\"y\",\"type\":\"scatter\"},{\"hovertemplate\":\"O2 Group=[93;96[<br>Weight Group=%{x}<br>Avg FEV1 % Predicted=%{y}<br>Datapoints=%{marker.size}<extra></extra>\",\"legendgroup\":\"[93;96[\",\"marker\":{\"color\":\"#EF553B\",\"size\":[735,501,472,424,591,632],\"sizemode\":\"area\",\"sizeref\":1.8775,\"symbol\":\"circle\"},\"mode\":\"markers\",\"name\":\"[93;96[\",\"orientation\":\"v\",\"showlegend\":true,\"x\":[\"<51.7\",\"[51.7;57.5[\",\"[57.5;63.4[\",\"[63.4;68.1[\",\"[68.1;74.2[\",\">=74.2\"],\"xaxis\":\"x\",\"y\":[48.3756678139247,45.19517973848847,51.25288707957559,46.66214932241412,48.10162258559755,52.52806576552995],\"yaxis\":\"y\",\"type\":\"scatter\"},{\"hovertemplate\":\"O2 Group=[96;98[<br>Weight Group=%{x}<br>Avg FEV1 % Predicted=%{y}<br>Datapoints=%{marker.size}<extra></extra>\",\"legendgroup\":\"[96;98[\",\"marker\":{\"color\":\"#00cc96\",\"size\":[586,457,751,457,640,630],\"sizemode\":\"area\",\"sizeref\":1.8775,\"symbol\":\"circle\"},\"mode\":\"markers\",\"name\":\"[96;98[\",\"orientation\":\"v\",\"showlegend\":true,\"x\":[\"<51.7\",\"[51.7;57.5[\",\"[57.5;63.4[\",\"[63.4;68.1[\",\"[68.1;74.2[\",\">=74.2\"],\"xaxis\":\"x\",\"y\":[48.132398252925576,54.62018380964383,62.33217096721077,55.51984300737552,71.8871758993022,62.02130540572381],\"yaxis\":\"y\",\"type\":\"scatter\"},{\"hovertemplate\":\"O2 Group=[98;99[<br>Weight Group=%{x}<br>Avg FEV1 % Predicted=%{y}<br>Datapoints=%{marker.size}<extra></extra>\",\"legendgroup\":\"[98;99[\",\"marker\":{\"color\":\"#ab63fa\",\"size\":[169,328,436,400,272,330],\"sizemode\":\"area\",\"sizeref\":1.8775,\"symbol\":\"circle\"},\"mode\":\"markers\",\"name\":\"[98;99[\",\"orientation\":\"v\",\"showlegend\":true,\"x\":[\"<51.7\",\"[51.7;57.5[\",\"[57.5;63.4[\",\"[63.4;68.1[\",\"[68.1;74.2[\",\">=74.2\"],\"xaxis\":\"x\",\"y\":[53.77426235524792,61.52464723801269,73.6463019368702,63.50185010873254,81.4366922016225,69.80942879875798],\"yaxis\":\"y\",\"type\":\"scatter\"},{\"hovertemplate\":\"O2 Group=>=99<br>Weight Group=%{x}<br>Avg FEV1 % Predicted=%{y}<br>Datapoints=%{marker.size}<extra></extra>\",\"legendgroup\":\">=99\",\"marker\":{\"color\":\"#FFA15A\",\"size\":[17,70,50,161,23,79],\"sizemode\":\"area\",\"sizeref\":1.8775,\"symbol\":\"circle\"},\"mode\":\"markers\",\"name\":\">=99\",\"orientation\":\"v\",\"showlegend\":true,\"x\":[\"<51.7\",\"[51.7;57.5[\",\"[57.5;63.4[\",\"[63.4;68.1[\",\"[68.1;74.2[\",\">=74.2\"],\"xaxis\":\"x\",\"y\":[58.8906779118628,71.83280182529084,76.2345886991077,67.90628467122414,76.17052354793427,88.07190814492257],\"yaxis\":\"y\",\"type\":\"scatter\"}],                        {\"template\":{\"data\":{\"histogram2dcontour\":[{\"type\":\"histogram2dcontour\",\"colorbar\":{\"outlinewidth\":0,\"ticks\":\"\"},\"colorscale\":[[0.0,\"#0d0887\"],[0.1111111111111111,\"#46039f\"],[0.2222222222222222,\"#7201a8\"],[0.3333333333333333,\"#9c179e\"],[0.4444444444444444,\"#bd3786\"],[0.5555555555555556,\"#d8576b\"],[0.6666666666666666,\"#ed7953\"],[0.7777777777777778,\"#fb9f3a\"],[0.8888888888888888,\"#fdca26\"],[1.0,\"#f0f921\"]]}],\"choropleth\":[{\"type\":\"choropleth\",\"colorbar\":{\"outlinewidth\":0,\"ticks\":\"\"}}],\"histogram2d\":[{\"type\":\"histogram2d\",\"colorbar\":{\"outlinewidth\":0,\"ticks\":\"\"},\"colorscale\":[[0.0,\"#0d0887\"],[0.1111111111111111,\"#46039f\"],[0.2222222222222222,\"#7201a8\"],[0.3333333333333333,\"#9c179e\"],[0.4444444444444444,\"#bd3786\"],[0.5555555555555556,\"#d8576b\"],[0.6666666666666666,\"#ed7953\"],[0.7777777777777778,\"#fb9f3a\"],[0.8888888888888888,\"#fdca26\"],[1.0,\"#f0f921\"]]}],\"heatmap\":[{\"type\":\"heatmap\",\"colorbar\":{\"outlinewidth\":0,\"ticks\":\"\"},\"colorscale\":[[0.0,\"#0d0887\"],[0.1111111111111111,\"#46039f\"],[0.2222222222222222,\"#7201a8\"],[0.3333333333333333,\"#9c179e\"],[0.4444444444444444,\"#bd3786\"],[0.5555555555555556,\"#d8576b\"],[0.6666666666666666,\"#ed7953\"],[0.7777777777777778,\"#fb9f3a\"],[0.8888888888888888,\"#fdca26\"],[1.0,\"#f0f921\"]]}],\"heatmapgl\":[{\"type\":\"heatmapgl\",\"colorbar\":{\"outlinewidth\":0,\"ticks\":\"\"},\"colorscale\":[[0.0,\"#0d0887\"],[0.1111111111111111,\"#46039f\"],[0.2222222222222222,\"#7201a8\"],[0.3333333333333333,\"#9c179e\"],[0.4444444444444444,\"#bd3786\"],[0.5555555555555556,\"#d8576b\"],[0.6666666666666666,\"#ed7953\"],[0.7777777777777778,\"#fb9f3a\"],[0.8888888888888888,\"#fdca26\"],[1.0,\"#f0f921\"]]}],\"contourcarpet\":[{\"type\":\"contourcarpet\",\"colorbar\":{\"outlinewidth\":0,\"ticks\":\"\"}}],\"contour\":[{\"type\":\"contour\",\"colorbar\":{\"outlinewidth\":0,\"ticks\":\"\"},\"colorscale\":[[0.0,\"#0d0887\"],[0.1111111111111111,\"#46039f\"],[0.2222222222222222,\"#7201a8\"],[0.3333333333333333,\"#9c179e\"],[0.4444444444444444,\"#bd3786\"],[0.5555555555555556,\"#d8576b\"],[0.6666666666666666,\"#ed7953\"],[0.7777777777777778,\"#fb9f3a\"],[0.8888888888888888,\"#fdca26\"],[1.0,\"#f0f921\"]]}],\"surface\":[{\"type\":\"surface\",\"colorbar\":{\"outlinewidth\":0,\"ticks\":\"\"},\"colorscale\":[[0.0,\"#0d0887\"],[0.1111111111111111,\"#46039f\"],[0.2222222222222222,\"#7201a8\"],[0.3333333333333333,\"#9c179e\"],[0.4444444444444444,\"#bd3786\"],[0.5555555555555556,\"#d8576b\"],[0.6666666666666666,\"#ed7953\"],[0.7777777777777778,\"#fb9f3a\"],[0.8888888888888888,\"#fdca26\"],[1.0,\"#f0f921\"]]}],\"mesh3d\":[{\"type\":\"mesh3d\",\"colorbar\":{\"outlinewidth\":0,\"ticks\":\"\"}}],\"scatter\":[{\"fillpattern\":{\"fillmode\":\"overlay\",\"size\":10,\"solidity\":0.2},\"type\":\"scatter\"}],\"parcoords\":[{\"type\":\"parcoords\",\"line\":{\"colorbar\":{\"outlinewidth\":0,\"ticks\":\"\"}}}],\"scatterpolargl\":[{\"type\":\"scatterpolargl\",\"marker\":{\"colorbar\":{\"outlinewidth\":0,\"ticks\":\"\"}}}],\"bar\":[{\"error_x\":{\"color\":\"#2a3f5f\"},\"error_y\":{\"color\":\"#2a3f5f\"},\"marker\":{\"line\":{\"color\":\"#E5ECF6\",\"width\":0.5},\"pattern\":{\"fillmode\":\"overlay\",\"size\":10,\"solidity\":0.2}},\"type\":\"bar\"}],\"scattergeo\":[{\"type\":\"scattergeo\",\"marker\":{\"colorbar\":{\"outlinewidth\":0,\"ticks\":\"\"}}}],\"scatterpolar\":[{\"type\":\"scatterpolar\",\"marker\":{\"colorbar\":{\"outlinewidth\":0,\"ticks\":\"\"}}}],\"histogram\":[{\"marker\":{\"pattern\":{\"fillmode\":\"overlay\",\"size\":10,\"solidity\":0.2}},\"type\":\"histogram\"}],\"scattergl\":[{\"type\":\"scattergl\",\"marker\":{\"colorbar\":{\"outlinewidth\":0,\"ticks\":\"\"}}}],\"scatter3d\":[{\"type\":\"scatter3d\",\"line\":{\"colorbar\":{\"outlinewidth\":0,\"ticks\":\"\"}},\"marker\":{\"colorbar\":{\"outlinewidth\":0,\"ticks\":\"\"}}}],\"scattermapbox\":[{\"type\":\"scattermapbox\",\"marker\":{\"colorbar\":{\"outlinewidth\":0,\"ticks\":\"\"}}}],\"scatterternary\":[{\"type\":\"scatterternary\",\"marker\":{\"colorbar\":{\"outlinewidth\":0,\"ticks\":\"\"}}}],\"scattercarpet\":[{\"type\":\"scattercarpet\",\"marker\":{\"colorbar\":{\"outlinewidth\":0,\"ticks\":\"\"}}}],\"carpet\":[{\"aaxis\":{\"endlinecolor\":\"#2a3f5f\",\"gridcolor\":\"white\",\"linecolor\":\"white\",\"minorgridcolor\":\"white\",\"startlinecolor\":\"#2a3f5f\"},\"baxis\":{\"endlinecolor\":\"#2a3f5f\",\"gridcolor\":\"white\",\"linecolor\":\"white\",\"minorgridcolor\":\"white\",\"startlinecolor\":\"#2a3f5f\"},\"type\":\"carpet\"}],\"table\":[{\"cells\":{\"fill\":{\"color\":\"#EBF0F8\"},\"line\":{\"color\":\"white\"}},\"header\":{\"fill\":{\"color\":\"#C8D4E3\"},\"line\":{\"color\":\"white\"}},\"type\":\"table\"}],\"barpolar\":[{\"marker\":{\"line\":{\"color\":\"#E5ECF6\",\"width\":0.5},\"pattern\":{\"fillmode\":\"overlay\",\"size\":10,\"solidity\":0.2}},\"type\":\"barpolar\"}],\"pie\":[{\"automargin\":true,\"type\":\"pie\"}]},\"layout\":{\"autotypenumbers\":\"strict\",\"colorway\":[\"#636efa\",\"#EF553B\",\"#00cc96\",\"#ab63fa\",\"#FFA15A\",\"#19d3f3\",\"#FF6692\",\"#B6E880\",\"#FF97FF\",\"#FECB52\"],\"font\":{\"color\":\"#2a3f5f\"},\"hovermode\":\"closest\",\"hoverlabel\":{\"align\":\"left\"},\"paper_bgcolor\":\"white\",\"plot_bgcolor\":\"#E5ECF6\",\"polar\":{\"bgcolor\":\"#E5ECF6\",\"angularaxis\":{\"gridcolor\":\"white\",\"linecolor\":\"white\",\"ticks\":\"\"},\"radialaxis\":{\"gridcolor\":\"white\",\"linecolor\":\"white\",\"ticks\":\"\"}},\"ternary\":{\"bgcolor\":\"#E5ECF6\",\"aaxis\":{\"gridcolor\":\"white\",\"linecolor\":\"white\",\"ticks\":\"\"},\"baxis\":{\"gridcolor\":\"white\",\"linecolor\":\"white\",\"ticks\":\"\"},\"caxis\":{\"gridcolor\":\"white\",\"linecolor\":\"white\",\"ticks\":\"\"}},\"coloraxis\":{\"colorbar\":{\"outlinewidth\":0,\"ticks\":\"\"}},\"colorscale\":{\"sequential\":[[0.0,\"#0d0887\"],[0.1111111111111111,\"#46039f\"],[0.2222222222222222,\"#7201a8\"],[0.3333333333333333,\"#9c179e\"],[0.4444444444444444,\"#bd3786\"],[0.5555555555555556,\"#d8576b\"],[0.6666666666666666,\"#ed7953\"],[0.7777777777777778,\"#fb9f3a\"],[0.8888888888888888,\"#fdca26\"],[1.0,\"#f0f921\"]],\"sequentialminus\":[[0.0,\"#0d0887\"],[0.1111111111111111,\"#46039f\"],[0.2222222222222222,\"#7201a8\"],[0.3333333333333333,\"#9c179e\"],[0.4444444444444444,\"#bd3786\"],[0.5555555555555556,\"#d8576b\"],[0.6666666666666666,\"#ed7953\"],[0.7777777777777778,\"#fb9f3a\"],[0.8888888888888888,\"#fdca26\"],[1.0,\"#f0f921\"]],\"diverging\":[[0,\"#8e0152\"],[0.1,\"#c51b7d\"],[0.2,\"#de77ae\"],[0.3,\"#f1b6da\"],[0.4,\"#fde0ef\"],[0.5,\"#f7f7f7\"],[0.6,\"#e6f5d0\"],[0.7,\"#b8e186\"],[0.8,\"#7fbc41\"],[0.9,\"#4d9221\"],[1,\"#276419\"]]},\"xaxis\":{\"gridcolor\":\"white\",\"linecolor\":\"white\",\"ticks\":\"\",\"title\":{\"standoff\":15},\"zerolinecolor\":\"white\",\"automargin\":true,\"zerolinewidth\":2},\"yaxis\":{\"gridcolor\":\"white\",\"linecolor\":\"white\",\"ticks\":\"\",\"title\":{\"standoff\":15},\"zerolinecolor\":\"white\",\"automargin\":true,\"zerolinewidth\":2},\"scene\":{\"xaxis\":{\"backgroundcolor\":\"#E5ECF6\",\"gridcolor\":\"white\",\"linecolor\":\"white\",\"showbackground\":true,\"ticks\":\"\",\"zerolinecolor\":\"white\",\"gridwidth\":2},\"yaxis\":{\"backgroundcolor\":\"#E5ECF6\",\"gridcolor\":\"white\",\"linecolor\":\"white\",\"showbackground\":true,\"ticks\":\"\",\"zerolinecolor\":\"white\",\"gridwidth\":2},\"zaxis\":{\"backgroundcolor\":\"#E5ECF6\",\"gridcolor\":\"white\",\"linecolor\":\"white\",\"showbackground\":true,\"ticks\":\"\",\"zerolinecolor\":\"white\",\"gridwidth\":2}},\"shapedefaults\":{\"line\":{\"color\":\"#2a3f5f\"}},\"annotationdefaults\":{\"arrowcolor\":\"#2a3f5f\",\"arrowhead\":0,\"arrowwidth\":1},\"geo\":{\"bgcolor\":\"white\",\"landcolor\":\"#E5ECF6\",\"subunitcolor\":\"white\",\"showland\":true,\"showlakes\":true,\"lakecolor\":\"white\"},\"title\":{\"x\":0.05},\"mapbox\":{\"style\":\"light\"}}},\"xaxis\":{\"anchor\":\"y\",\"domain\":[0.0,1.0],\"title\":{\"text\":\"Weight Group\"},\"categoryorder\":\"array\",\"categoryarray\":[\"<51.7\",\"[51.7;57.5[\",\"[57.5;63.4[\",\"[63.4;68.1[\",\"[68.1;74.2[\",\">=74.2\"]},\"yaxis\":{\"anchor\":\"x\",\"domain\":[0.0,1.0],\"title\":{\"text\":\"Avg FEV1 % Predicted\"}},\"legend\":{\"title\":{\"text\":\"O2 Group\"},\"tracegroupgap\":0,\"itemsizing\":\"constant\"},\"title\":{\"text\":\"Desaturation FEV1 for 6 Weight groups\"}},                        {\"responsive\": true}                    ).then(function(){\n                            \nvar gd = document.getElementById('cd7bee4e-9140-4a8a-afd6-add082c875b7');\nvar x = new MutationObserver(function (mutations, observer) {{\n        var display = window.getComputedStyle(gd).display;\n        if (!display || display === 'none') {{\n            console.log([gd, 'removed!']);\n            Plotly.purge(gd);\n            observer.disconnect();\n        }}\n}});\n\n// Listen for the removal of the full notebook cells\nvar notebookContainer = gd.closest('#notebook-container');\nif (notebookContainer) {{\n    x.observe(notebookContainer, {childList: true});\n}}\n\n// Listen for the clearing of the current output cell\nvar outputEl = gd.closest('.output');\nif (outputEl) {{\n    x.observe(outputEl, {childList: true});\n}}\n\n                        })                };                });            </script>        </div>"
     },
     "metadata": {},
     "output_type": "display_data"
    },
    {
     "data": {
      "application/vnd.plotly.v1+json": {
       "data": [
        {
         "hovertemplate": "O2 Group=<93<br>Weight Group=%{x}<br>Avg FEV1 % Predicted=%{y}<br>Datapoints=%{marker.size}<extra></extra>",
         "legendgroup": "<93",
         "marker": {
          "color": "#636efa",
          "size": [
           158,
           252,
           40,
           117,
           238,
           84
          ],
          "sizemode": "area",
          "sizeref": 1.8775,
          "symbol": "circle"
         },
         "mode": "markers",
         "name": "<93",
         "orientation": "v",
         "showlegend": true,
         "x": [
          "<51.7",
          "[51.7;57.5[",
          "[57.5;63.4[",
          "[63.4;68.1[",
          "[68.1;74.2[",
          ">=74.2"
         ],
         "xaxis": "x",
         "y": [
          46.743264391140215,
          39.86262817845994,
          40.23793974922109,
          28.71326659105131,
          31.399563594504617,
          45.02877597433633
         ],
         "yaxis": "y",
         "type": "scatter"
        },
        {
         "hovertemplate": "O2 Group=[93;96[<br>Weight Group=%{x}<br>Avg FEV1 % Predicted=%{y}<br>Datapoints=%{marker.size}<extra></extra>",
         "legendgroup": "[93;96[",
         "marker": {
          "color": "#EF553B",
          "size": [
           735,
           501,
           472,
           424,
           591,
           632
          ],
          "sizemode": "area",
          "sizeref": 1.8775,
          "symbol": "circle"
         },
         "mode": "markers",
         "name": "[93;96[",
         "orientation": "v",
         "showlegend": true,
         "x": [
          "<51.7",
          "[51.7;57.5[",
          "[57.5;63.4[",
          "[63.4;68.1[",
          "[68.1;74.2[",
          ">=74.2"
         ],
         "xaxis": "x",
         "y": [
          48.3756678139247,
          45.19517973848847,
          51.25288707957559,
          46.66214932241412,
          48.10162258559755,
          52.52806576552995
         ],
         "yaxis": "y",
         "type": "scatter"
        },
        {
         "hovertemplate": "O2 Group=[96;98[<br>Weight Group=%{x}<br>Avg FEV1 % Predicted=%{y}<br>Datapoints=%{marker.size}<extra></extra>",
         "legendgroup": "[96;98[",
         "marker": {
          "color": "#00cc96",
          "size": [
           586,
           457,
           751,
           457,
           640,
           630
          ],
          "sizemode": "area",
          "sizeref": 1.8775,
          "symbol": "circle"
         },
         "mode": "markers",
         "name": "[96;98[",
         "orientation": "v",
         "showlegend": true,
         "x": [
          "<51.7",
          "[51.7;57.5[",
          "[57.5;63.4[",
          "[63.4;68.1[",
          "[68.1;74.2[",
          ">=74.2"
         ],
         "xaxis": "x",
         "y": [
          48.132398252925576,
          54.62018380964383,
          62.33217096721077,
          55.51984300737552,
          71.8871758993022,
          62.02130540572381
         ],
         "yaxis": "y",
         "type": "scatter"
        },
        {
         "hovertemplate": "O2 Group=[98;99[<br>Weight Group=%{x}<br>Avg FEV1 % Predicted=%{y}<br>Datapoints=%{marker.size}<extra></extra>",
         "legendgroup": "[98;99[",
         "marker": {
          "color": "#ab63fa",
          "size": [
           169,
           328,
           436,
           400,
           272,
           330
          ],
          "sizemode": "area",
          "sizeref": 1.8775,
          "symbol": "circle"
         },
         "mode": "markers",
         "name": "[98;99[",
         "orientation": "v",
         "showlegend": true,
         "x": [
          "<51.7",
          "[51.7;57.5[",
          "[57.5;63.4[",
          "[63.4;68.1[",
          "[68.1;74.2[",
          ">=74.2"
         ],
         "xaxis": "x",
         "y": [
          53.77426235524792,
          61.52464723801269,
          73.6463019368702,
          63.50185010873254,
          81.4366922016225,
          69.80942879875798
         ],
         "yaxis": "y",
         "type": "scatter"
        },
        {
         "hovertemplate": "O2 Group=>=99<br>Weight Group=%{x}<br>Avg FEV1 % Predicted=%{y}<br>Datapoints=%{marker.size}<extra></extra>",
         "legendgroup": ">=99",
         "marker": {
          "color": "#FFA15A",
          "size": [
           17,
           70,
           50,
           161,
           23,
           79
          ],
          "sizemode": "area",
          "sizeref": 1.8775,
          "symbol": "circle"
         },
         "mode": "markers",
         "name": ">=99",
         "orientation": "v",
         "showlegend": true,
         "x": [
          "<51.7",
          "[51.7;57.5[",
          "[57.5;63.4[",
          "[63.4;68.1[",
          "[68.1;74.2[",
          ">=74.2"
         ],
         "xaxis": "x",
         "y": [
          58.8906779118628,
          71.83280182529084,
          76.2345886991077,
          67.90628467122414,
          76.17052354793427,
          88.07190814492257
         ],
         "yaxis": "y",
         "type": "scatter"
        },
        {
         "hovertemplate": "O2 Group=<93<br>Weight Group=%{x}<br>Avg FEV1 % Predicted=%{y}<extra></extra>",
         "legendgroup": "<93",
         "line": {
          "color": "#636efa",
          "dash": "solid"
         },
         "marker": {
          "symbol": "circle"
         },
         "mode": "lines",
         "name": "<93",
         "orientation": "v",
         "showlegend": true,
         "x": [
          "<51.7",
          "[51.7;57.5[",
          "[57.5;63.4[",
          "[63.4;68.1[",
          "[68.1;74.2[",
          ">=74.2"
         ],
         "xaxis": "x",
         "y": [
          46.743264391140215,
          39.86262817845994,
          40.23793974922109,
          28.71326659105131,
          31.399563594504617,
          45.02877597433633
         ],
         "yaxis": "y",
         "type": "scatter"
        },
        {
         "hovertemplate": "O2 Group=[93;96[<br>Weight Group=%{x}<br>Avg FEV1 % Predicted=%{y}<extra></extra>",
         "legendgroup": "[93;96[",
         "line": {
          "color": "#EF553B",
          "dash": "solid"
         },
         "marker": {
          "symbol": "circle"
         },
         "mode": "lines",
         "name": "[93;96[",
         "orientation": "v",
         "showlegend": true,
         "x": [
          "<51.7",
          "[51.7;57.5[",
          "[57.5;63.4[",
          "[63.4;68.1[",
          "[68.1;74.2[",
          ">=74.2"
         ],
         "xaxis": "x",
         "y": [
          48.3756678139247,
          45.19517973848847,
          51.25288707957559,
          46.66214932241412,
          48.10162258559755,
          52.52806576552995
         ],
         "yaxis": "y",
         "type": "scatter"
        },
        {
         "hovertemplate": "O2 Group=[96;98[<br>Weight Group=%{x}<br>Avg FEV1 % Predicted=%{y}<extra></extra>",
         "legendgroup": "[96;98[",
         "line": {
          "color": "#00cc96",
          "dash": "solid"
         },
         "marker": {
          "symbol": "circle"
         },
         "mode": "lines",
         "name": "[96;98[",
         "orientation": "v",
         "showlegend": true,
         "x": [
          "<51.7",
          "[51.7;57.5[",
          "[57.5;63.4[",
          "[63.4;68.1[",
          "[68.1;74.2[",
          ">=74.2"
         ],
         "xaxis": "x",
         "y": [
          48.132398252925576,
          54.62018380964383,
          62.33217096721077,
          55.51984300737552,
          71.8871758993022,
          62.02130540572381
         ],
         "yaxis": "y",
         "type": "scatter"
        },
        {
         "hovertemplate": "O2 Group=[98;99[<br>Weight Group=%{x}<br>Avg FEV1 % Predicted=%{y}<extra></extra>",
         "legendgroup": "[98;99[",
         "line": {
          "color": "#ab63fa",
          "dash": "solid"
         },
         "marker": {
          "symbol": "circle"
         },
         "mode": "lines",
         "name": "[98;99[",
         "orientation": "v",
         "showlegend": true,
         "x": [
          "<51.7",
          "[51.7;57.5[",
          "[57.5;63.4[",
          "[63.4;68.1[",
          "[68.1;74.2[",
          ">=74.2"
         ],
         "xaxis": "x",
         "y": [
          53.77426235524792,
          61.52464723801269,
          73.6463019368702,
          63.50185010873254,
          81.4366922016225,
          69.80942879875798
         ],
         "yaxis": "y",
         "type": "scatter"
        },
        {
         "hovertemplate": "O2 Group=>=99<br>Weight Group=%{x}<br>Avg FEV1 % Predicted=%{y}<extra></extra>",
         "legendgroup": ">=99",
         "line": {
          "color": "#FFA15A",
          "dash": "solid"
         },
         "marker": {
          "symbol": "circle"
         },
         "mode": "lines",
         "name": ">=99",
         "orientation": "v",
         "showlegend": true,
         "x": [
          "<51.7",
          "[51.7;57.5[",
          "[57.5;63.4[",
          "[63.4;68.1[",
          "[68.1;74.2[",
          ">=74.2"
         ],
         "xaxis": "x",
         "y": [
          58.8906779118628,
          71.83280182529084,
          76.2345886991077,
          67.90628467122414,
          76.17052354793427,
          88.07190814492257
         ],
         "yaxis": "y",
         "type": "scatter"
        }
       ],
       "layout": {
        "template": {
         "data": {
          "histogram2dcontour": [
           {
            "type": "histogram2dcontour",
            "colorbar": {
             "outlinewidth": 0,
             "ticks": ""
            },
            "colorscale": [
             [
              0.0,
              "#0d0887"
             ],
             [
              0.1111111111111111,
              "#46039f"
             ],
             [
              0.2222222222222222,
              "#7201a8"
             ],
             [
              0.3333333333333333,
              "#9c179e"
             ],
             [
              0.4444444444444444,
              "#bd3786"
             ],
             [
              0.5555555555555556,
              "#d8576b"
             ],
             [
              0.6666666666666666,
              "#ed7953"
             ],
             [
              0.7777777777777778,
              "#fb9f3a"
             ],
             [
              0.8888888888888888,
              "#fdca26"
             ],
             [
              1.0,
              "#f0f921"
             ]
            ]
           }
          ],
          "choropleth": [
           {
            "type": "choropleth",
            "colorbar": {
             "outlinewidth": 0,
             "ticks": ""
            }
           }
          ],
          "histogram2d": [
           {
            "type": "histogram2d",
            "colorbar": {
             "outlinewidth": 0,
             "ticks": ""
            },
            "colorscale": [
             [
              0.0,
              "#0d0887"
             ],
             [
              0.1111111111111111,
              "#46039f"
             ],
             [
              0.2222222222222222,
              "#7201a8"
             ],
             [
              0.3333333333333333,
              "#9c179e"
             ],
             [
              0.4444444444444444,
              "#bd3786"
             ],
             [
              0.5555555555555556,
              "#d8576b"
             ],
             [
              0.6666666666666666,
              "#ed7953"
             ],
             [
              0.7777777777777778,
              "#fb9f3a"
             ],
             [
              0.8888888888888888,
              "#fdca26"
             ],
             [
              1.0,
              "#f0f921"
             ]
            ]
           }
          ],
          "heatmap": [
           {
            "type": "heatmap",
            "colorbar": {
             "outlinewidth": 0,
             "ticks": ""
            },
            "colorscale": [
             [
              0.0,
              "#0d0887"
             ],
             [
              0.1111111111111111,
              "#46039f"
             ],
             [
              0.2222222222222222,
              "#7201a8"
             ],
             [
              0.3333333333333333,
              "#9c179e"
             ],
             [
              0.4444444444444444,
              "#bd3786"
             ],
             [
              0.5555555555555556,
              "#d8576b"
             ],
             [
              0.6666666666666666,
              "#ed7953"
             ],
             [
              0.7777777777777778,
              "#fb9f3a"
             ],
             [
              0.8888888888888888,
              "#fdca26"
             ],
             [
              1.0,
              "#f0f921"
             ]
            ]
           }
          ],
          "heatmapgl": [
           {
            "type": "heatmapgl",
            "colorbar": {
             "outlinewidth": 0,
             "ticks": ""
            },
            "colorscale": [
             [
              0.0,
              "#0d0887"
             ],
             [
              0.1111111111111111,
              "#46039f"
             ],
             [
              0.2222222222222222,
              "#7201a8"
             ],
             [
              0.3333333333333333,
              "#9c179e"
             ],
             [
              0.4444444444444444,
              "#bd3786"
             ],
             [
              0.5555555555555556,
              "#d8576b"
             ],
             [
              0.6666666666666666,
              "#ed7953"
             ],
             [
              0.7777777777777778,
              "#fb9f3a"
             ],
             [
              0.8888888888888888,
              "#fdca26"
             ],
             [
              1.0,
              "#f0f921"
             ]
            ]
           }
          ],
          "contourcarpet": [
           {
            "type": "contourcarpet",
            "colorbar": {
             "outlinewidth": 0,
             "ticks": ""
            }
           }
          ],
          "contour": [
           {
            "type": "contour",
            "colorbar": {
             "outlinewidth": 0,
             "ticks": ""
            },
            "colorscale": [
             [
              0.0,
              "#0d0887"
             ],
             [
              0.1111111111111111,
              "#46039f"
             ],
             [
              0.2222222222222222,
              "#7201a8"
             ],
             [
              0.3333333333333333,
              "#9c179e"
             ],
             [
              0.4444444444444444,
              "#bd3786"
             ],
             [
              0.5555555555555556,
              "#d8576b"
             ],
             [
              0.6666666666666666,
              "#ed7953"
             ],
             [
              0.7777777777777778,
              "#fb9f3a"
             ],
             [
              0.8888888888888888,
              "#fdca26"
             ],
             [
              1.0,
              "#f0f921"
             ]
            ]
           }
          ],
          "surface": [
           {
            "type": "surface",
            "colorbar": {
             "outlinewidth": 0,
             "ticks": ""
            },
            "colorscale": [
             [
              0.0,
              "#0d0887"
             ],
             [
              0.1111111111111111,
              "#46039f"
             ],
             [
              0.2222222222222222,
              "#7201a8"
             ],
             [
              0.3333333333333333,
              "#9c179e"
             ],
             [
              0.4444444444444444,
              "#bd3786"
             ],
             [
              0.5555555555555556,
              "#d8576b"
             ],
             [
              0.6666666666666666,
              "#ed7953"
             ],
             [
              0.7777777777777778,
              "#fb9f3a"
             ],
             [
              0.8888888888888888,
              "#fdca26"
             ],
             [
              1.0,
              "#f0f921"
             ]
            ]
           }
          ],
          "mesh3d": [
           {
            "type": "mesh3d",
            "colorbar": {
             "outlinewidth": 0,
             "ticks": ""
            }
           }
          ],
          "scatter": [
           {
            "fillpattern": {
             "fillmode": "overlay",
             "size": 10,
             "solidity": 0.2
            },
            "type": "scatter"
           }
          ],
          "parcoords": [
           {
            "type": "parcoords",
            "line": {
             "colorbar": {
              "outlinewidth": 0,
              "ticks": ""
             }
            }
           }
          ],
          "scatterpolargl": [
           {
            "type": "scatterpolargl",
            "marker": {
             "colorbar": {
              "outlinewidth": 0,
              "ticks": ""
             }
            }
           }
          ],
          "bar": [
           {
            "error_x": {
             "color": "#2a3f5f"
            },
            "error_y": {
             "color": "#2a3f5f"
            },
            "marker": {
             "line": {
              "color": "#E5ECF6",
              "width": 0.5
             },
             "pattern": {
              "fillmode": "overlay",
              "size": 10,
              "solidity": 0.2
             }
            },
            "type": "bar"
           }
          ],
          "scattergeo": [
           {
            "type": "scattergeo",
            "marker": {
             "colorbar": {
              "outlinewidth": 0,
              "ticks": ""
             }
            }
           }
          ],
          "scatterpolar": [
           {
            "type": "scatterpolar",
            "marker": {
             "colorbar": {
              "outlinewidth": 0,
              "ticks": ""
             }
            }
           }
          ],
          "histogram": [
           {
            "marker": {
             "pattern": {
              "fillmode": "overlay",
              "size": 10,
              "solidity": 0.2
             }
            },
            "type": "histogram"
           }
          ],
          "scattergl": [
           {
            "type": "scattergl",
            "marker": {
             "colorbar": {
              "outlinewidth": 0,
              "ticks": ""
             }
            }
           }
          ],
          "scatter3d": [
           {
            "type": "scatter3d",
            "line": {
             "colorbar": {
              "outlinewidth": 0,
              "ticks": ""
             }
            },
            "marker": {
             "colorbar": {
              "outlinewidth": 0,
              "ticks": ""
             }
            }
           }
          ],
          "scattermapbox": [
           {
            "type": "scattermapbox",
            "marker": {
             "colorbar": {
              "outlinewidth": 0,
              "ticks": ""
             }
            }
           }
          ],
          "scatterternary": [
           {
            "type": "scatterternary",
            "marker": {
             "colorbar": {
              "outlinewidth": 0,
              "ticks": ""
             }
            }
           }
          ],
          "scattercarpet": [
           {
            "type": "scattercarpet",
            "marker": {
             "colorbar": {
              "outlinewidth": 0,
              "ticks": ""
             }
            }
           }
          ],
          "carpet": [
           {
            "aaxis": {
             "endlinecolor": "#2a3f5f",
             "gridcolor": "white",
             "linecolor": "white",
             "minorgridcolor": "white",
             "startlinecolor": "#2a3f5f"
            },
            "baxis": {
             "endlinecolor": "#2a3f5f",
             "gridcolor": "white",
             "linecolor": "white",
             "minorgridcolor": "white",
             "startlinecolor": "#2a3f5f"
            },
            "type": "carpet"
           }
          ],
          "table": [
           {
            "cells": {
             "fill": {
              "color": "#EBF0F8"
             },
             "line": {
              "color": "white"
             }
            },
            "header": {
             "fill": {
              "color": "#C8D4E3"
             },
             "line": {
              "color": "white"
             }
            },
            "type": "table"
           }
          ],
          "barpolar": [
           {
            "marker": {
             "line": {
              "color": "#E5ECF6",
              "width": 0.5
             },
             "pattern": {
              "fillmode": "overlay",
              "size": 10,
              "solidity": 0.2
             }
            },
            "type": "barpolar"
           }
          ],
          "pie": [
           {
            "automargin": true,
            "type": "pie"
           }
          ]
         },
         "layout": {
          "autotypenumbers": "strict",
          "colorway": [
           "#636efa",
           "#EF553B",
           "#00cc96",
           "#ab63fa",
           "#FFA15A",
           "#19d3f3",
           "#FF6692",
           "#B6E880",
           "#FF97FF",
           "#FECB52"
          ],
          "font": {
           "color": "#2a3f5f"
          },
          "hovermode": "closest",
          "hoverlabel": {
           "align": "left"
          },
          "paper_bgcolor": "white",
          "plot_bgcolor": "#E5ECF6",
          "polar": {
           "bgcolor": "#E5ECF6",
           "angularaxis": {
            "gridcolor": "white",
            "linecolor": "white",
            "ticks": ""
           },
           "radialaxis": {
            "gridcolor": "white",
            "linecolor": "white",
            "ticks": ""
           }
          },
          "ternary": {
           "bgcolor": "#E5ECF6",
           "aaxis": {
            "gridcolor": "white",
            "linecolor": "white",
            "ticks": ""
           },
           "baxis": {
            "gridcolor": "white",
            "linecolor": "white",
            "ticks": ""
           },
           "caxis": {
            "gridcolor": "white",
            "linecolor": "white",
            "ticks": ""
           }
          },
          "coloraxis": {
           "colorbar": {
            "outlinewidth": 0,
            "ticks": ""
           }
          },
          "colorscale": {
           "sequential": [
            [
             0.0,
             "#0d0887"
            ],
            [
             0.1111111111111111,
             "#46039f"
            ],
            [
             0.2222222222222222,
             "#7201a8"
            ],
            [
             0.3333333333333333,
             "#9c179e"
            ],
            [
             0.4444444444444444,
             "#bd3786"
            ],
            [
             0.5555555555555556,
             "#d8576b"
            ],
            [
             0.6666666666666666,
             "#ed7953"
            ],
            [
             0.7777777777777778,
             "#fb9f3a"
            ],
            [
             0.8888888888888888,
             "#fdca26"
            ],
            [
             1.0,
             "#f0f921"
            ]
           ],
           "sequentialminus": [
            [
             0.0,
             "#0d0887"
            ],
            [
             0.1111111111111111,
             "#46039f"
            ],
            [
             0.2222222222222222,
             "#7201a8"
            ],
            [
             0.3333333333333333,
             "#9c179e"
            ],
            [
             0.4444444444444444,
             "#bd3786"
            ],
            [
             0.5555555555555556,
             "#d8576b"
            ],
            [
             0.6666666666666666,
             "#ed7953"
            ],
            [
             0.7777777777777778,
             "#fb9f3a"
            ],
            [
             0.8888888888888888,
             "#fdca26"
            ],
            [
             1.0,
             "#f0f921"
            ]
           ],
           "diverging": [
            [
             0,
             "#8e0152"
            ],
            [
             0.1,
             "#c51b7d"
            ],
            [
             0.2,
             "#de77ae"
            ],
            [
             0.3,
             "#f1b6da"
            ],
            [
             0.4,
             "#fde0ef"
            ],
            [
             0.5,
             "#f7f7f7"
            ],
            [
             0.6,
             "#e6f5d0"
            ],
            [
             0.7,
             "#b8e186"
            ],
            [
             0.8,
             "#7fbc41"
            ],
            [
             0.9,
             "#4d9221"
            ],
            [
             1,
             "#276419"
            ]
           ]
          },
          "xaxis": {
           "gridcolor": "white",
           "linecolor": "white",
           "ticks": "",
           "title": {
            "standoff": 15
           },
           "zerolinecolor": "white",
           "automargin": true,
           "zerolinewidth": 2
          },
          "yaxis": {
           "gridcolor": "white",
           "linecolor": "white",
           "ticks": "",
           "title": {
            "standoff": 15
           },
           "zerolinecolor": "white",
           "automargin": true,
           "zerolinewidth": 2
          },
          "scene": {
           "xaxis": {
            "backgroundcolor": "#E5ECF6",
            "gridcolor": "white",
            "linecolor": "white",
            "showbackground": true,
            "ticks": "",
            "zerolinecolor": "white",
            "gridwidth": 2
           },
           "yaxis": {
            "backgroundcolor": "#E5ECF6",
            "gridcolor": "white",
            "linecolor": "white",
            "showbackground": true,
            "ticks": "",
            "zerolinecolor": "white",
            "gridwidth": 2
           },
           "zaxis": {
            "backgroundcolor": "#E5ECF6",
            "gridcolor": "white",
            "linecolor": "white",
            "showbackground": true,
            "ticks": "",
            "zerolinecolor": "white",
            "gridwidth": 2
           }
          },
          "shapedefaults": {
           "line": {
            "color": "#2a3f5f"
           }
          },
          "annotationdefaults": {
           "arrowcolor": "#2a3f5f",
           "arrowhead": 0,
           "arrowwidth": 1
          },
          "geo": {
           "bgcolor": "white",
           "landcolor": "#E5ECF6",
           "subunitcolor": "white",
           "showland": true,
           "showlakes": true,
           "lakecolor": "white"
          },
          "title": {
           "x": 0.05
          },
          "mapbox": {
           "style": "light"
          }
         }
        }
       },
       "config": {
        "plotlyServerURL": "https://plot.ly"
       }
      },
      "text/html": "<div>                            <div id=\"6553e7ea-e4e8-4547-ab9c-afe4d7555780\" class=\"plotly-graph-div\" style=\"height:525px; width:100%;\"></div>            <script type=\"text/javascript\">                require([\"plotly\"], function(Plotly) {                    window.PLOTLYENV=window.PLOTLYENV || {};                                    if (document.getElementById(\"6553e7ea-e4e8-4547-ab9c-afe4d7555780\")) {                    Plotly.newPlot(                        \"6553e7ea-e4e8-4547-ab9c-afe4d7555780\",                        [{\"hovertemplate\":\"O2 Group=<93<br>Weight Group=%{x}<br>Avg FEV1 % Predicted=%{y}<br>Datapoints=%{marker.size}<extra></extra>\",\"legendgroup\":\"<93\",\"marker\":{\"color\":\"#636efa\",\"size\":[158,252,40,117,238,84],\"sizemode\":\"area\",\"sizeref\":1.8775,\"symbol\":\"circle\"},\"mode\":\"markers\",\"name\":\"<93\",\"orientation\":\"v\",\"showlegend\":true,\"x\":[\"<51.7\",\"[51.7;57.5[\",\"[57.5;63.4[\",\"[63.4;68.1[\",\"[68.1;74.2[\",\">=74.2\"],\"xaxis\":\"x\",\"y\":[46.743264391140215,39.86262817845994,40.23793974922109,28.71326659105131,31.399563594504617,45.02877597433633],\"yaxis\":\"y\",\"type\":\"scatter\"},{\"hovertemplate\":\"O2 Group=[93;96[<br>Weight Group=%{x}<br>Avg FEV1 % Predicted=%{y}<br>Datapoints=%{marker.size}<extra></extra>\",\"legendgroup\":\"[93;96[\",\"marker\":{\"color\":\"#EF553B\",\"size\":[735,501,472,424,591,632],\"sizemode\":\"area\",\"sizeref\":1.8775,\"symbol\":\"circle\"},\"mode\":\"markers\",\"name\":\"[93;96[\",\"orientation\":\"v\",\"showlegend\":true,\"x\":[\"<51.7\",\"[51.7;57.5[\",\"[57.5;63.4[\",\"[63.4;68.1[\",\"[68.1;74.2[\",\">=74.2\"],\"xaxis\":\"x\",\"y\":[48.3756678139247,45.19517973848847,51.25288707957559,46.66214932241412,48.10162258559755,52.52806576552995],\"yaxis\":\"y\",\"type\":\"scatter\"},{\"hovertemplate\":\"O2 Group=[96;98[<br>Weight Group=%{x}<br>Avg FEV1 % Predicted=%{y}<br>Datapoints=%{marker.size}<extra></extra>\",\"legendgroup\":\"[96;98[\",\"marker\":{\"color\":\"#00cc96\",\"size\":[586,457,751,457,640,630],\"sizemode\":\"area\",\"sizeref\":1.8775,\"symbol\":\"circle\"},\"mode\":\"markers\",\"name\":\"[96;98[\",\"orientation\":\"v\",\"showlegend\":true,\"x\":[\"<51.7\",\"[51.7;57.5[\",\"[57.5;63.4[\",\"[63.4;68.1[\",\"[68.1;74.2[\",\">=74.2\"],\"xaxis\":\"x\",\"y\":[48.132398252925576,54.62018380964383,62.33217096721077,55.51984300737552,71.8871758993022,62.02130540572381],\"yaxis\":\"y\",\"type\":\"scatter\"},{\"hovertemplate\":\"O2 Group=[98;99[<br>Weight Group=%{x}<br>Avg FEV1 % Predicted=%{y}<br>Datapoints=%{marker.size}<extra></extra>\",\"legendgroup\":\"[98;99[\",\"marker\":{\"color\":\"#ab63fa\",\"size\":[169,328,436,400,272,330],\"sizemode\":\"area\",\"sizeref\":1.8775,\"symbol\":\"circle\"},\"mode\":\"markers\",\"name\":\"[98;99[\",\"orientation\":\"v\",\"showlegend\":true,\"x\":[\"<51.7\",\"[51.7;57.5[\",\"[57.5;63.4[\",\"[63.4;68.1[\",\"[68.1;74.2[\",\">=74.2\"],\"xaxis\":\"x\",\"y\":[53.77426235524792,61.52464723801269,73.6463019368702,63.50185010873254,81.4366922016225,69.80942879875798],\"yaxis\":\"y\",\"type\":\"scatter\"},{\"hovertemplate\":\"O2 Group=>=99<br>Weight Group=%{x}<br>Avg FEV1 % Predicted=%{y}<br>Datapoints=%{marker.size}<extra></extra>\",\"legendgroup\":\">=99\",\"marker\":{\"color\":\"#FFA15A\",\"size\":[17,70,50,161,23,79],\"sizemode\":\"area\",\"sizeref\":1.8775,\"symbol\":\"circle\"},\"mode\":\"markers\",\"name\":\">=99\",\"orientation\":\"v\",\"showlegend\":true,\"x\":[\"<51.7\",\"[51.7;57.5[\",\"[57.5;63.4[\",\"[63.4;68.1[\",\"[68.1;74.2[\",\">=74.2\"],\"xaxis\":\"x\",\"y\":[58.8906779118628,71.83280182529084,76.2345886991077,67.90628467122414,76.17052354793427,88.07190814492257],\"yaxis\":\"y\",\"type\":\"scatter\"},{\"hovertemplate\":\"O2 Group=<93<br>Weight Group=%{x}<br>Avg FEV1 % Predicted=%{y}<extra></extra>\",\"legendgroup\":\"<93\",\"line\":{\"color\":\"#636efa\",\"dash\":\"solid\"},\"marker\":{\"symbol\":\"circle\"},\"mode\":\"lines\",\"name\":\"<93\",\"orientation\":\"v\",\"showlegend\":true,\"x\":[\"<51.7\",\"[51.7;57.5[\",\"[57.5;63.4[\",\"[63.4;68.1[\",\"[68.1;74.2[\",\">=74.2\"],\"xaxis\":\"x\",\"y\":[46.743264391140215,39.86262817845994,40.23793974922109,28.71326659105131,31.399563594504617,45.02877597433633],\"yaxis\":\"y\",\"type\":\"scatter\"},{\"hovertemplate\":\"O2 Group=[93;96[<br>Weight Group=%{x}<br>Avg FEV1 % Predicted=%{y}<extra></extra>\",\"legendgroup\":\"[93;96[\",\"line\":{\"color\":\"#EF553B\",\"dash\":\"solid\"},\"marker\":{\"symbol\":\"circle\"},\"mode\":\"lines\",\"name\":\"[93;96[\",\"orientation\":\"v\",\"showlegend\":true,\"x\":[\"<51.7\",\"[51.7;57.5[\",\"[57.5;63.4[\",\"[63.4;68.1[\",\"[68.1;74.2[\",\">=74.2\"],\"xaxis\":\"x\",\"y\":[48.3756678139247,45.19517973848847,51.25288707957559,46.66214932241412,48.10162258559755,52.52806576552995],\"yaxis\":\"y\",\"type\":\"scatter\"},{\"hovertemplate\":\"O2 Group=[96;98[<br>Weight Group=%{x}<br>Avg FEV1 % Predicted=%{y}<extra></extra>\",\"legendgroup\":\"[96;98[\",\"line\":{\"color\":\"#00cc96\",\"dash\":\"solid\"},\"marker\":{\"symbol\":\"circle\"},\"mode\":\"lines\",\"name\":\"[96;98[\",\"orientation\":\"v\",\"showlegend\":true,\"x\":[\"<51.7\",\"[51.7;57.5[\",\"[57.5;63.4[\",\"[63.4;68.1[\",\"[68.1;74.2[\",\">=74.2\"],\"xaxis\":\"x\",\"y\":[48.132398252925576,54.62018380964383,62.33217096721077,55.51984300737552,71.8871758993022,62.02130540572381],\"yaxis\":\"y\",\"type\":\"scatter\"},{\"hovertemplate\":\"O2 Group=[98;99[<br>Weight Group=%{x}<br>Avg FEV1 % Predicted=%{y}<extra></extra>\",\"legendgroup\":\"[98;99[\",\"line\":{\"color\":\"#ab63fa\",\"dash\":\"solid\"},\"marker\":{\"symbol\":\"circle\"},\"mode\":\"lines\",\"name\":\"[98;99[\",\"orientation\":\"v\",\"showlegend\":true,\"x\":[\"<51.7\",\"[51.7;57.5[\",\"[57.5;63.4[\",\"[63.4;68.1[\",\"[68.1;74.2[\",\">=74.2\"],\"xaxis\":\"x\",\"y\":[53.77426235524792,61.52464723801269,73.6463019368702,63.50185010873254,81.4366922016225,69.80942879875798],\"yaxis\":\"y\",\"type\":\"scatter\"},{\"hovertemplate\":\"O2 Group=>=99<br>Weight Group=%{x}<br>Avg FEV1 % Predicted=%{y}<extra></extra>\",\"legendgroup\":\">=99\",\"line\":{\"color\":\"#FFA15A\",\"dash\":\"solid\"},\"marker\":{\"symbol\":\"circle\"},\"mode\":\"lines\",\"name\":\">=99\",\"orientation\":\"v\",\"showlegend\":true,\"x\":[\"<51.7\",\"[51.7;57.5[\",\"[57.5;63.4[\",\"[63.4;68.1[\",\"[68.1;74.2[\",\">=74.2\"],\"xaxis\":\"x\",\"y\":[58.8906779118628,71.83280182529084,76.2345886991077,67.90628467122414,76.17052354793427,88.07190814492257],\"yaxis\":\"y\",\"type\":\"scatter\"}],                        {\"template\":{\"data\":{\"histogram2dcontour\":[{\"type\":\"histogram2dcontour\",\"colorbar\":{\"outlinewidth\":0,\"ticks\":\"\"},\"colorscale\":[[0.0,\"#0d0887\"],[0.1111111111111111,\"#46039f\"],[0.2222222222222222,\"#7201a8\"],[0.3333333333333333,\"#9c179e\"],[0.4444444444444444,\"#bd3786\"],[0.5555555555555556,\"#d8576b\"],[0.6666666666666666,\"#ed7953\"],[0.7777777777777778,\"#fb9f3a\"],[0.8888888888888888,\"#fdca26\"],[1.0,\"#f0f921\"]]}],\"choropleth\":[{\"type\":\"choropleth\",\"colorbar\":{\"outlinewidth\":0,\"ticks\":\"\"}}],\"histogram2d\":[{\"type\":\"histogram2d\",\"colorbar\":{\"outlinewidth\":0,\"ticks\":\"\"},\"colorscale\":[[0.0,\"#0d0887\"],[0.1111111111111111,\"#46039f\"],[0.2222222222222222,\"#7201a8\"],[0.3333333333333333,\"#9c179e\"],[0.4444444444444444,\"#bd3786\"],[0.5555555555555556,\"#d8576b\"],[0.6666666666666666,\"#ed7953\"],[0.7777777777777778,\"#fb9f3a\"],[0.8888888888888888,\"#fdca26\"],[1.0,\"#f0f921\"]]}],\"heatmap\":[{\"type\":\"heatmap\",\"colorbar\":{\"outlinewidth\":0,\"ticks\":\"\"},\"colorscale\":[[0.0,\"#0d0887\"],[0.1111111111111111,\"#46039f\"],[0.2222222222222222,\"#7201a8\"],[0.3333333333333333,\"#9c179e\"],[0.4444444444444444,\"#bd3786\"],[0.5555555555555556,\"#d8576b\"],[0.6666666666666666,\"#ed7953\"],[0.7777777777777778,\"#fb9f3a\"],[0.8888888888888888,\"#fdca26\"],[1.0,\"#f0f921\"]]}],\"heatmapgl\":[{\"type\":\"heatmapgl\",\"colorbar\":{\"outlinewidth\":0,\"ticks\":\"\"},\"colorscale\":[[0.0,\"#0d0887\"],[0.1111111111111111,\"#46039f\"],[0.2222222222222222,\"#7201a8\"],[0.3333333333333333,\"#9c179e\"],[0.4444444444444444,\"#bd3786\"],[0.5555555555555556,\"#d8576b\"],[0.6666666666666666,\"#ed7953\"],[0.7777777777777778,\"#fb9f3a\"],[0.8888888888888888,\"#fdca26\"],[1.0,\"#f0f921\"]]}],\"contourcarpet\":[{\"type\":\"contourcarpet\",\"colorbar\":{\"outlinewidth\":0,\"ticks\":\"\"}}],\"contour\":[{\"type\":\"contour\",\"colorbar\":{\"outlinewidth\":0,\"ticks\":\"\"},\"colorscale\":[[0.0,\"#0d0887\"],[0.1111111111111111,\"#46039f\"],[0.2222222222222222,\"#7201a8\"],[0.3333333333333333,\"#9c179e\"],[0.4444444444444444,\"#bd3786\"],[0.5555555555555556,\"#d8576b\"],[0.6666666666666666,\"#ed7953\"],[0.7777777777777778,\"#fb9f3a\"],[0.8888888888888888,\"#fdca26\"],[1.0,\"#f0f921\"]]}],\"surface\":[{\"type\":\"surface\",\"colorbar\":{\"outlinewidth\":0,\"ticks\":\"\"},\"colorscale\":[[0.0,\"#0d0887\"],[0.1111111111111111,\"#46039f\"],[0.2222222222222222,\"#7201a8\"],[0.3333333333333333,\"#9c179e\"],[0.4444444444444444,\"#bd3786\"],[0.5555555555555556,\"#d8576b\"],[0.6666666666666666,\"#ed7953\"],[0.7777777777777778,\"#fb9f3a\"],[0.8888888888888888,\"#fdca26\"],[1.0,\"#f0f921\"]]}],\"mesh3d\":[{\"type\":\"mesh3d\",\"colorbar\":{\"outlinewidth\":0,\"ticks\":\"\"}}],\"scatter\":[{\"fillpattern\":{\"fillmode\":\"overlay\",\"size\":10,\"solidity\":0.2},\"type\":\"scatter\"}],\"parcoords\":[{\"type\":\"parcoords\",\"line\":{\"colorbar\":{\"outlinewidth\":0,\"ticks\":\"\"}}}],\"scatterpolargl\":[{\"type\":\"scatterpolargl\",\"marker\":{\"colorbar\":{\"outlinewidth\":0,\"ticks\":\"\"}}}],\"bar\":[{\"error_x\":{\"color\":\"#2a3f5f\"},\"error_y\":{\"color\":\"#2a3f5f\"},\"marker\":{\"line\":{\"color\":\"#E5ECF6\",\"width\":0.5},\"pattern\":{\"fillmode\":\"overlay\",\"size\":10,\"solidity\":0.2}},\"type\":\"bar\"}],\"scattergeo\":[{\"type\":\"scattergeo\",\"marker\":{\"colorbar\":{\"outlinewidth\":0,\"ticks\":\"\"}}}],\"scatterpolar\":[{\"type\":\"scatterpolar\",\"marker\":{\"colorbar\":{\"outlinewidth\":0,\"ticks\":\"\"}}}],\"histogram\":[{\"marker\":{\"pattern\":{\"fillmode\":\"overlay\",\"size\":10,\"solidity\":0.2}},\"type\":\"histogram\"}],\"scattergl\":[{\"type\":\"scattergl\",\"marker\":{\"colorbar\":{\"outlinewidth\":0,\"ticks\":\"\"}}}],\"scatter3d\":[{\"type\":\"scatter3d\",\"line\":{\"colorbar\":{\"outlinewidth\":0,\"ticks\":\"\"}},\"marker\":{\"colorbar\":{\"outlinewidth\":0,\"ticks\":\"\"}}}],\"scattermapbox\":[{\"type\":\"scattermapbox\",\"marker\":{\"colorbar\":{\"outlinewidth\":0,\"ticks\":\"\"}}}],\"scatterternary\":[{\"type\":\"scatterternary\",\"marker\":{\"colorbar\":{\"outlinewidth\":0,\"ticks\":\"\"}}}],\"scattercarpet\":[{\"type\":\"scattercarpet\",\"marker\":{\"colorbar\":{\"outlinewidth\":0,\"ticks\":\"\"}}}],\"carpet\":[{\"aaxis\":{\"endlinecolor\":\"#2a3f5f\",\"gridcolor\":\"white\",\"linecolor\":\"white\",\"minorgridcolor\":\"white\",\"startlinecolor\":\"#2a3f5f\"},\"baxis\":{\"endlinecolor\":\"#2a3f5f\",\"gridcolor\":\"white\",\"linecolor\":\"white\",\"minorgridcolor\":\"white\",\"startlinecolor\":\"#2a3f5f\"},\"type\":\"carpet\"}],\"table\":[{\"cells\":{\"fill\":{\"color\":\"#EBF0F8\"},\"line\":{\"color\":\"white\"}},\"header\":{\"fill\":{\"color\":\"#C8D4E3\"},\"line\":{\"color\":\"white\"}},\"type\":\"table\"}],\"barpolar\":[{\"marker\":{\"line\":{\"color\":\"#E5ECF6\",\"width\":0.5},\"pattern\":{\"fillmode\":\"overlay\",\"size\":10,\"solidity\":0.2}},\"type\":\"barpolar\"}],\"pie\":[{\"automargin\":true,\"type\":\"pie\"}]},\"layout\":{\"autotypenumbers\":\"strict\",\"colorway\":[\"#636efa\",\"#EF553B\",\"#00cc96\",\"#ab63fa\",\"#FFA15A\",\"#19d3f3\",\"#FF6692\",\"#B6E880\",\"#FF97FF\",\"#FECB52\"],\"font\":{\"color\":\"#2a3f5f\"},\"hovermode\":\"closest\",\"hoverlabel\":{\"align\":\"left\"},\"paper_bgcolor\":\"white\",\"plot_bgcolor\":\"#E5ECF6\",\"polar\":{\"bgcolor\":\"#E5ECF6\",\"angularaxis\":{\"gridcolor\":\"white\",\"linecolor\":\"white\",\"ticks\":\"\"},\"radialaxis\":{\"gridcolor\":\"white\",\"linecolor\":\"white\",\"ticks\":\"\"}},\"ternary\":{\"bgcolor\":\"#E5ECF6\",\"aaxis\":{\"gridcolor\":\"white\",\"linecolor\":\"white\",\"ticks\":\"\"},\"baxis\":{\"gridcolor\":\"white\",\"linecolor\":\"white\",\"ticks\":\"\"},\"caxis\":{\"gridcolor\":\"white\",\"linecolor\":\"white\",\"ticks\":\"\"}},\"coloraxis\":{\"colorbar\":{\"outlinewidth\":0,\"ticks\":\"\"}},\"colorscale\":{\"sequential\":[[0.0,\"#0d0887\"],[0.1111111111111111,\"#46039f\"],[0.2222222222222222,\"#7201a8\"],[0.3333333333333333,\"#9c179e\"],[0.4444444444444444,\"#bd3786\"],[0.5555555555555556,\"#d8576b\"],[0.6666666666666666,\"#ed7953\"],[0.7777777777777778,\"#fb9f3a\"],[0.8888888888888888,\"#fdca26\"],[1.0,\"#f0f921\"]],\"sequentialminus\":[[0.0,\"#0d0887\"],[0.1111111111111111,\"#46039f\"],[0.2222222222222222,\"#7201a8\"],[0.3333333333333333,\"#9c179e\"],[0.4444444444444444,\"#bd3786\"],[0.5555555555555556,\"#d8576b\"],[0.6666666666666666,\"#ed7953\"],[0.7777777777777778,\"#fb9f3a\"],[0.8888888888888888,\"#fdca26\"],[1.0,\"#f0f921\"]],\"diverging\":[[0,\"#8e0152\"],[0.1,\"#c51b7d\"],[0.2,\"#de77ae\"],[0.3,\"#f1b6da\"],[0.4,\"#fde0ef\"],[0.5,\"#f7f7f7\"],[0.6,\"#e6f5d0\"],[0.7,\"#b8e186\"],[0.8,\"#7fbc41\"],[0.9,\"#4d9221\"],[1,\"#276419\"]]},\"xaxis\":{\"gridcolor\":\"white\",\"linecolor\":\"white\",\"ticks\":\"\",\"title\":{\"standoff\":15},\"zerolinecolor\":\"white\",\"automargin\":true,\"zerolinewidth\":2},\"yaxis\":{\"gridcolor\":\"white\",\"linecolor\":\"white\",\"ticks\":\"\",\"title\":{\"standoff\":15},\"zerolinecolor\":\"white\",\"automargin\":true,\"zerolinewidth\":2},\"scene\":{\"xaxis\":{\"backgroundcolor\":\"#E5ECF6\",\"gridcolor\":\"white\",\"linecolor\":\"white\",\"showbackground\":true,\"ticks\":\"\",\"zerolinecolor\":\"white\",\"gridwidth\":2},\"yaxis\":{\"backgroundcolor\":\"#E5ECF6\",\"gridcolor\":\"white\",\"linecolor\":\"white\",\"showbackground\":true,\"ticks\":\"\",\"zerolinecolor\":\"white\",\"gridwidth\":2},\"zaxis\":{\"backgroundcolor\":\"#E5ECF6\",\"gridcolor\":\"white\",\"linecolor\":\"white\",\"showbackground\":true,\"ticks\":\"\",\"zerolinecolor\":\"white\",\"gridwidth\":2}},\"shapedefaults\":{\"line\":{\"color\":\"#2a3f5f\"}},\"annotationdefaults\":{\"arrowcolor\":\"#2a3f5f\",\"arrowhead\":0,\"arrowwidth\":1},\"geo\":{\"bgcolor\":\"white\",\"landcolor\":\"#E5ECF6\",\"subunitcolor\":\"white\",\"showland\":true,\"showlakes\":true,\"lakecolor\":\"white\"},\"title\":{\"x\":0.05},\"mapbox\":{\"style\":\"light\"}}}},                        {\"responsive\": true}                    ).then(function(){\n                            \nvar gd = document.getElementById('6553e7ea-e4e8-4547-ab9c-afe4d7555780');\nvar x = new MutationObserver(function (mutations, observer) {{\n        var display = window.getComputedStyle(gd).display;\n        if (!display || display === 'none') {{\n            console.log([gd, 'removed!']);\n            Plotly.purge(gd);\n            observer.disconnect();\n        }}\n}});\n\n// Listen for the removal of the full notebook cells\nvar notebookContainer = gd.closest('#notebook-container');\nif (notebookContainer) {{\n    x.observe(notebookContainer, {childList: true});\n}}\n\n// Listen for the clearing of the current output cell\nvar outputEl = gd.closest('.output');\nif (outputEl) {{\n    x.observe(outputEl, {childList: true});\n}}\n\n                        })                };                });            </script>        </div>"
     },
     "metadata": {},
     "output_type": "display_data"
    }
   ],
   "source": [
    "predicted = True\n",
    "x_var = 'Weight'\n",
    "lung_function_var = 'FEV1 % Predicted' if predicted else 'FEV1'\n",
    "\n",
    "fig1, fig2, _ = desaturation_FEV1_for_variable(O2_FEV1, x_var, n_var_groups=6, predicted=predicted)\n",
    "fig1.show()\n",
    "fig1.write_image(plotsdir + \"Desaturation {} for {} main plot.pdf\".format(lung_function_var, x_var))\n",
    "\n",
    "fig2.show()\n",
    "fig2.write_image(plotsdir + \"Desaturation {} for {} with lines.pdf\".format(lung_function_var, x_var))\n",
    "\n",
    "# Observations\n",
    "# o2 10, var 15 contains a lot of noise and groups have very low number of datapoints. It gets too patient specific"
   ],
   "metadata": {
    "collapsed": false
   }
  },
  {
   "cell_type": "markdown",
   "source": [],
   "metadata": {
    "collapsed": false
   }
  },
  {
   "cell_type": "markdown",
   "source": [],
   "metadata": {
    "collapsed": false
   }
  },
  {
   "cell_type": "code",
   "execution_count": null,
   "outputs": [],
   "source": [
    "# Same patient variability: can we observe the same pattern for each patient?\n",
    "O2_FEV1.head()"
   ],
   "metadata": {
    "collapsed": false
   }
  },
  {
   "cell_type": "code",
   "execution_count": null,
   "outputs": [],
   "source": [
    "# Same patient variability: can we observe the same pattern for each patient?\n",
    "# Include time evolution into the graph\n",
    "def to_float(dt_time):\n",
    "    return (365*dt_time.year + 12*dt_time.month + dt_time.day)/12\n",
    "\n",
    "mindate = to_float(min(O2_FEV1[\"Date/Time recorded\"]))\n",
    "O2_FEV1[\"Months since study start\"]=O2_FEV1[\"Date/Time recorded\"].apply(lambda x: to_float(x)-mindate)\n",
    "\n",
    "IDs=O2_FEV1.ID.unique()\n",
    "for ID in IDs:\n",
    "    fig = px.scatter(O2_FEV1[O2_FEV1.ID == ID], y=\"O2 Saturation\", x=\"FEV1\", color=\"Months since study start\")\n",
    "    # fig.update_layout(autosize=False, width=500, height=500)\n",
    "    fig.update_xaxes(title_text=\"FEV1 (L)\")\n",
    "    fig.update_yaxes(title_text=\"O2 Saturation (%)\")\n",
    "\n",
    "    filename=ID+\"-O2_FEV1\"\n",
    "    # fig.write_image(plotsdir + filename + \".pdf\")"
   ],
   "metadata": {
    "collapsed": false
   }
  },
  {
   "cell_type": "markdown",
   "source": [
    "## Highlight exacerbated/no exacerbated states on O2-FEV1 plots\n",
    "O2-FEV1 quadrants\n",
    "- high o2, high fev1: concerns individuals with low % small airway blockage and low (permanent) lung damage.\n",
    "- low o2, high fev1: this does not happen in CF\n",
    "- high o2, low fev1: low % small airway blockage and high lung damage, probably other classes\n",
    "- low o2, low fev1: high % small airway blockage and high lung damage\n",
    "\n",
    "### Scientific reasoning using simple heuristics\n",
    "Heuristics used to define the labels:\n",
    "- Exacerbated: since 1 week before treatment start\n",
    "- Not exacerbated: until 3 weeks before treatment start\n",
    "- Between 1 and 3 weeks you throw away.\n",
    "- Recovery: treatment start and stop\n",
    "\n",
    "Expectation: We expect the % small airway blockage to be very sensitive to a lung inflammation. Hence, measurements done in exacerbated state should be most present in the low o2, low fev1 quadrant, whereas the other 2 quadrants should contain mostly measurements done in a stable period\n",
    "\n",
    "Observations:\n",
    "- The expectations are clearly not met.\n",
    "- There is a surprising amount of Undefined Labels (90%) of the data. Does it makes sense that 90% of the measurements are done between 1-3 weeks prior to an exacerbation? What's the distribution of the number of days between two exacerbations?\n",
    "    → Indeed for the time between two treatments in the vast majority fo the time it between 10 to 19 days which falls in the undefined period\n",
    "    → Let's try to reduce this window"
   ],
   "metadata": {
    "collapsed": false
   }
  },
  {
   "cell_type": "code",
   "execution_count": null,
   "outputs": [],
   "source": [
    "for id in list_patients(O2_FEV1):\n",
    "    patient_antibioticsdata = get_rows_for_id(id, antibioticsdata)\n",
    "    exacerbation_labels = get_patient_exacerbation_labels(patient_antibioticsdata, patientsdata, numdays_before_ab_start_is_exacerbated=7, numdays_before_ab_start_not_exacerbated=21)\n",
    "    O2_FEV1['Exacerbation Labels'] = O2_FEV1['Date/Time recorded'].apply(lambda x: add_measurement_exacerbation_label(x, exacerbation_labels))\n",
    "O2_FEV1['Exacerbation Labels'].value_counts()"
   ],
   "metadata": {
    "collapsed": false
   }
  },
  {
   "cell_type": "code",
   "execution_count": null,
   "outputs": [],
   "source": [
    "fig = px.scatter(O2_FEV1, y=\"O2 Saturation\", x=\"FEV1\", color=\"Exacerbation Labels\", marginal_x=\"histogram\", marginal_y=\"histogram\")\n",
    "# fig.update_layout(autosize=False, width=800, height=800)\n",
    "fig.update_traces(marker=dict(size=5),\n",
    "                  selector=dict(mode='markers'))\n",
    "# fig.update_xaxes(range=[0.9*min(O2_FEV1[\"FEV1\"]), 1.1*max(O2_FEV1[\"FEV1\"])])\n",
    "# fig.update_yaxes(range=[0.9*min(O2_FEV1[\"O2 Saturation\"]), max(1.1*O2_FEV1[\"O2 Saturation\"])])\n",
    "fig.show()\n",
    "\n",
    "for exacerbation_label in O2_FEV1['Exacerbation Labels'].unique():\n",
    "    mask=O2_FEV1['Exacerbation Labels'] == exacerbation_label\n",
    "\n",
    "    fig = px.scatter(O2_FEV1[mask], y=\"O2 Saturation\", x=\"FEV1\",\n",
    "                     title='{}'.format(exacerbation_label))\n",
    "    fig.update_layout(autosize=False, width=500, height=500)\n",
    "    fig.update_traces(marker=dict(size=5),\n",
    "                      selector=dict(mode='markers'))\n",
    "    fig.update_xaxes(range=[0, 5.1])\n",
    "    fig.update_yaxes(range=[74, 102])\n",
    "    fig.show()"
   ],
   "metadata": {
    "collapsed": false
   }
  },
  {
   "cell_type": "code",
   "execution_count": null,
   "outputs": [],
   "source": [
    "# Measure time between treatments\n",
    "time_between_treatments = []\n",
    "\n",
    "for id in list_patients(O2_FEV1):\n",
    "    patient_antibioticsdata = get_rows_for_id(id, antibioticsdata)\n",
    "    for i in range(len(patient_antibioticsdata)-1):\n",
    "        # Removing NaT input\n",
    "        if patient_antibioticsdata.index[i] not in [149, 150, 315, 321]:\n",
    "            time_between_treatments.append((antibioticsdata['Stop Date'][i] - antibioticsdata['Start Date'][i+1]).days)\n",
    "\n",
    "time_between_treatments = pd.DataFrame(time_between_treatments, columns=['Time between two treatments (days)'])\n",
    "# time_between_treatments = time_between_treatments.value_counts().reset_index()\n",
    "\n",
    "fig = px.histogram(time_between_treatments, x='Time between two treatments (days)')\n",
    "fig.update_layout(autosize=False, width=800, height=400)\n",
    "fig.show()"
   ],
   "metadata": {
    "collapsed": false
   }
  },
  {
   "cell_type": "code",
   "execution_count": null,
   "outputs": [],
   "source": [],
   "metadata": {
    "collapsed": false
   }
  }
 ],
 "metadata": {
  "kernelspec": {
   "display_name": "Python 3",
   "language": "python",
   "name": "python3"
  },
  "language_info": {
   "codemirror_mode": {
    "name": "ipython",
    "version": 2
   },
   "file_extension": ".py",
   "mimetype": "text/x-python",
   "name": "python",
   "nbconvert_exporter": "python",
   "pygments_lexer": "ipython2",
   "version": "2.7.6"
  }
 },
 "nbformat": 4,
 "nbformat_minor": 0
}
