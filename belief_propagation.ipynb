{
 "cells": [
  {
   "cell_type": "code",
   "execution_count": 1,
   "id": "3b340499",
   "metadata": {
    "pycharm": {
     "name": "#%%\n"
    }
   },
   "outputs": [
    {
     "name": "stdout",
     "output_type": "stream",
     "text": [
      "# conda environments:\r\n",
      "#\r\n",
      "base                     /Applications/anaconda3\r\n",
      "phd                   *  /Applications/anaconda3/envs/phd\r\n",
      "\r\n",
      "Python 3.10.0\r\n",
      "/Applications/anaconda3/envs/phd/bin/python\n"
     ]
    }
   ],
   "source": [
    "!conda env list\n",
    "!python -V\n",
    "import sys\n",
    "print(sys.executable)"
   ]
  },
  {
   "cell_type": "code",
   "execution_count": 2,
   "id": "75eeb988",
   "metadata": {
    "pycharm": {
     "name": "#%%\n"
    }
   },
   "outputs": [],
   "source": [
    "# DATA ANALYSIS\n",
    "import numpy as np\n",
    "import pandas as pd\n",
    "import random as rand\n",
    "\n",
    "# PLOTS\n",
    "# import matplotlib.pyplot as plt\n",
    "# import seaborn as sns\n",
    "# import plotly.express as px\n",
    "# import plotly.graph_objects as go\n",
    "# from plotly.subplots import make_subplots\n",
    "\n",
    "# OTHERS\n",
    "import math\n",
    "import statistics as stats\n",
    "import time as t\n",
    "#import pickle\n",
    "import functools as fc # contains reduce\n",
    "import copy\n",
    "\n",
    "# DEBUGGER\n",
    "from IPython.core.debugger import set_trace\n",
    "# For executing line by line use n and \n",
    "# for step into a function use s and \n",
    "# to exit from debugging prompt use c.\n",
    "# REFACTOR: uninstall jupyter packages that I installed before, not using PyCharm built in debugger\n",
    "\n",
    "\n",
    "# import color blind colors\n",
    "colorblind = ['#377eb8', '#ff7f00', '#4daf4a',\n",
    "              '#f781bf', '#a65628', '#984ea3',\n",
    "              '#999999', '#e41a1c', '#dede00']"
   ]
  },
  {
   "cell_type": "markdown",
   "id": "951a1b6d",
   "metadata": {
    "pycharm": {
     "name": "#%% md\n"
    }
   },
   "source": [
    "# Library <a class=\"anchor\" id=\"1\"></a>"
   ]
  },
  {
   "cell_type": "code",
   "execution_count": 3,
   "id": "55a856d4",
   "metadata": {
    "pycharm": {
     "name": "#%%\n"
    }
   },
   "outputs": [],
   "source": [
    "# Utility functions\n",
    "%load utils.py\n",
    "import utils"
   ]
  },
  {
   "cell_type": "markdown",
   "id": "7cbed17f",
   "metadata": {
    "pycharm": {
     "name": "#%% md\n"
    }
   },
   "source": [
    "# Belief propagation <a class=\"anchor\" id=\"3.2\"></a>\n",
    "Also known as message passing"
   ]
  },
  {
   "cell_type": "code",
   "execution_count": 4,
   "id": "d99e61e9",
   "metadata": {
    "pycharm": {
     "name": "#%%\n"
    }
   },
   "outputs": [
    {
     "data": {
      "text/plain": "{'Inflammation': 'small',\n 'Wellness': 1,\n 'Bacterial load': 'medium',\n 'FEV1': 'low'}"
     },
     "execution_count": 4,
     "metadata": {},
     "output_type": "execute_result"
    }
   ],
   "source": [
    "# Lung Function Model\n",
    "class lungModel:\n",
    "    \n",
    "    # Names\n",
    "    \"\"\"\n",
    "    i: inflammation\n",
    "    bl: bacterial load\n",
    "    w: wellness\n",
    "    \"\"\"\n",
    "    # Marginal distributions\n",
    "    marginal_i = {\n",
    "        \"absent\": 0.3,\n",
    "        \"small\": 0.5,\n",
    "        \"heavy\": 0.2\n",
    "    }\n",
    "    # Conditional probability table (cpt) of varB knowing varA\n",
    "    cpt_bl_i = {\n",
    "        \"absent\": {\n",
    "            \"low\": 0.6,\n",
    "            \"medium\": 0.2,\n",
    "            \"high\": 0.2\n",
    "        },\n",
    "        \"small\": {\n",
    "            \"low\": 0.3,\n",
    "            \"medium\": 0.3,\n",
    "            \"high\": 0.4\n",
    "        },\n",
    "        \"heavy\": {\n",
    "            \"low\": 0.1,\n",
    "            \"medium\": 0.3,\n",
    "            \"high\": 0.6\n",
    "        }\n",
    "    }\n",
    "    cpt_w_i = {\n",
    "        \"absent\": {\n",
    "            1: 0.01,\n",
    "            2: 0.09,\n",
    "            3: 0.2,\n",
    "            4: 0.3,\n",
    "            5: 0.4\n",
    "        },\n",
    "        \"small\": {\n",
    "            1: 0.2,\n",
    "            2: 0.3,\n",
    "            3: 0.3,\n",
    "            4: 0.1,\n",
    "            5: 0.1\n",
    "        },\n",
    "        \"heavy\": {\n",
    "            1: 0.4,\n",
    "            2: 0.3,\n",
    "            3: 0.15,\n",
    "            4: 0.1,\n",
    "            5: 0.05\n",
    "        }\n",
    "    }\n",
    "    cpt_FEV1_bl = {\n",
    "        'low': {\n",
    "            'low': 0.6,\n",
    "            'medium': 0.3,\n",
    "            'high': 0.2,\n",
    "        },\n",
    "        'medium': {\n",
    "            'low': 0.3,\n",
    "            'medium': 0.4,\n",
    "            'high': 0.3,\n",
    "        },\n",
    "        'high': {\n",
    "            'low': 0.1,\n",
    "            'medium': 0.4,\n",
    "            'high': 0.5,\n",
    "        }\n",
    "    }\n",
    "    \n",
    "    def sample(self):\n",
    "        inflammation = utils.threeStatesSample(list(self.marginal_i.values()),\n",
    "                                               list(self.marginal_i.keys()))\n",
    "        \n",
    "        wellness = utils.nStatesSample(list(self.cpt_w_i[inflammation].values()),\n",
    "                                 list(self.cpt_w_i[inflammation].keys()))\n",
    "        \n",
    "        bacterial_load = utils.threeStatesSample(list(self.cpt_bl_i[inflammation].values()),\n",
    "                                            list(self.cpt_bl_i[inflammation].keys()))\n",
    "        \n",
    "        FEV1 = utils.threeStatesSample(list(self.cpt_FEV1_bl[bacterial_load].values()),\n",
    "                                list(self.cpt_FEV1_bl[bacterial_load].keys()))\n",
    "        \n",
    "        return {\n",
    "            \"Inflammation\": inflammation,\n",
    "            \"Wellness\": wellness,\n",
    "            \"Bacterial load\": bacterial_load,\n",
    "            \"FEV1\": FEV1\n",
    "        }\n",
    "model = lungModel()\n",
    "model.sample()"
   ]
  },
  {
   "cell_type": "code",
   "execution_count": 5,
   "id": "2ea9ced9",
   "metadata": {
    "pycharm": {
     "name": "#%%\n"
    }
   },
   "outputs": [],
   "source": [
    "# inference code\n",
    "def observe(obs_B, key_value_pair_B):\n",
    "    node_message_B = copy.copy(key_value_pair_B)\n",
    "    for key, val in node_message_B.items():\n",
    "        if key != obs_B: node_message_B[key] = 0\n",
    "        else: node_message_B[key] = 1\n",
    "\n",
    "    print(\"Observation:\", node_message_B)\n",
    "    return node_message_B\n",
    "\n",
    "# factor node message\n",
    "def message_down(dist):\n",
    "    \"\"\"\n",
    "    dist: marginal distribution\n",
    "    \"\"\"\n",
    "    print(\"Message down: \", dist)\n",
    "    return dist\n",
    "\n",
    "def factor_message_up(incoming_message, cpt_B_A):\n",
    "    \"\"\"\n",
    "    The factor mode message is the product of all received messages on the other edges, multiplied by the conditional probability distribution for the factor and summed over all variables except the one being sent to\n",
    "    :param incoming_message:\n",
    "    :param cpt_B_A:\n",
    "    :return:\n",
    "    \"\"\"\n",
    "    # TODO: add a function to invert a conditional probability table to merge factor_message_up and factor_message_down\n",
    "    # compute sum_B( P(B|A) )\n",
    "    factor_message = utils.get_first_level_keys(cpt_B_A)\n",
    "    for key_A, items_B in cpt_B_A.items():\n",
    "        for key_B, p_B_A in items_B.items():\n",
    "            factor_message[key_A] += p_B_A * incoming_message[key_B]\n",
    "\n",
    "    message = utils.normalise(factor_message)\n",
    "    print(\"Message up:\", message)\n",
    "\n",
    "    return message\n",
    "\n",
    "def factor_message_down(incoming_message, cpt_B_A):\n",
    "    \"\"\"\n",
    "    The factor mode message is the product of all received messages on the other edges, multiplied by the conditional probability distribution for the factor and summed over all variables except the one being sent to.\n",
    "    :param incoming_message:\n",
    "    :param cpt_B_A:\n",
    "    :return:\n",
    "    \"\"\"\n",
    "    # compute sum_B( P(B|A) )\n",
    "    factor_message = utils.get_second_level_keys(cpt_B_A)\n",
    "    for key_A, items_B in cpt_B_A.items():\n",
    "        for key_B, p_B_A in items_B.items():\n",
    "            factor_message[key_B] += p_B_A * incoming_message[key_A]\n",
    "\n",
    "    message = utils.normalise(factor_message)\n",
    "    print(\"Message down:\", message)\n",
    "\n",
    "    return message\n",
    "\n",
    "def node_message(messages):\n",
    "    \"\"\"\n",
    "    The variable node message is the product of all received messages on the other edges\n",
    "    :param messages: incoming variable node messages\n",
    "    :return: variable node belief message\n",
    "    \"\"\"\n",
    "    # All messages have the same keys\n",
    "    belief = utils.get_first_level_keys(messages[0], init_value=1)\n",
    "\n",
    "    for key in belief.keys():\n",
    "        for message in messages:\n",
    "            belief[key] *= message[key]\n",
    "\n",
    "    # Normalise\n",
    "    p_A = utils.normalise(belief)\n",
    "    \n",
    "    print('Node belief:', p_A)\n",
    "    return p_A\n"
   ]
  },
  {
   "cell_type": "code",
   "execution_count": 6,
   "id": "9aa74f40",
   "metadata": {
    "pycharm": {
     "name": "#%%\n"
    }
   },
   "outputs": [
    {
     "name": "stdout",
     "output_type": "stream",
     "text": [
      "Observation: {'low': 0, 'medium': 1, 'high': 0}\n",
      "Message up: {'absent': 0.25, 'small': 0.37499999999999994, 'heavy': 0.37499999999999994}\n",
      "Message down:  {'absent': 0.3, 'small': 0.5, 'heavy': 0.2}\n",
      "Node belief: {'absent': 0.22222222222222224, 'small': 0.5555555555555556, 'heavy': 0.22222222222222224}\n"
     ]
    }
   ],
   "source": [
    "# define model\n",
    "m = lungModel()\n",
    "\n",
    "# CASE 1: observe bacterial load and infer inflammation\n",
    "obs_bl = 'medium'\n",
    "\n",
    "point_mass_bl = observe(obs_bl, utils.get_second_level_keys(m.cpt_bl_i))\n",
    "up_bl = factor_message_up(point_mass_bl, m.cpt_bl_i)\n",
    "\n",
    "down_i = message_down(m.marginal_i)\n",
    "\n",
    "belief = node_message([up_bl, down_i])"
   ]
  },
  {
   "cell_type": "code",
   "execution_count": 7,
   "outputs": [
    {
     "name": "stdout",
     "output_type": "stream",
     "text": [
      "Observation: {'low': 1, 'medium': 0, 'high': 0}\n",
      "Message up: {'low': 0.6000000000000001, 'medium': 0.30000000000000004, 'high': 0.10000000000000002}\n",
      "Node belief: {'low': 0.6, 'medium': 0.3, 'high': 0.09999999999999999}\n",
      "Message up: {'absent': 0.4583333333333333, 'small': 0.3229166666666667, 'heavy': 0.21874999999999997}\n",
      "Observation: {1: 0, 2: 0, 3: 1, 4: 0, 5: 0}\n",
      "Message up: {'absent': 0.3076923076923077, 'small': 0.4615384615384615, 'heavy': 0.23076923076923075}\n",
      "Message down:  {'absent': 0.3, 'small': 0.5, 'heavy': 0.2}\n",
      "Node belief: {'absent': 0.3333333333333333, 'small': 0.5871212121212122, 'heavy': 0.07954545454545454}\n"
     ]
    }
   ],
   "source": [
    "# CASE 2: observe bacterial load and wellness and infer inflammation\n",
    "obs_fev1 = 'low'\n",
    "obs_wellness = 3\n",
    "\n",
    "point_mass_fev1 = observe(obs_fev1, utils.get_second_level_keys(m.cpt_FEV1_bl))\n",
    "up_fev1 = factor_message_up(point_mass_fev1, m.cpt_FEV1_bl)\n",
    "belief_bl = node_message([up_fev1]) # optional because there is only one message\n",
    "up_bl = factor_message_up(up_fev1, m.cpt_bl_i)\n",
    "\n",
    "point_mass_wellness = observe(obs_wellness, utils.get_second_level_keys(m.cpt_w_i))\n",
    "up_wellness = factor_message_up(point_mass_wellness, m.cpt_w_i)\n",
    "\n",
    "down_i = message_down(m.marginal_i)\n",
    "\n",
    "belief = node_message([up_bl, up_wellness, down_i])"
   ],
   "metadata": {
    "collapsed": false,
    "pycharm": {
     "name": "#%%\n"
    }
   }
  },
  {
   "cell_type": "code",
   "execution_count": 9,
   "id": "8d5acb08",
   "metadata": {
    "pycharm": {
     "name": "#%%\n"
    }
   },
   "outputs": [
    {
     "name": "stdout",
     "output_type": "stream",
     "text": [
      "Observation: {'absent': 0, 'small': 1, 'heavy': 0}\n",
      "Message down: {'low': 0.3, 'medium': 0.3, 'high': 0.4}\n"
     ]
    }
   ],
   "source": [
    "# CASE 3: observe inflammation and infer bacterial load\n",
    "point_mass_i = observe('small', m.marginal_i)\n",
    "down_i = factor_message_down(point_mass_i, m.cpt_bl_i)"
   ]
  },
  {
   "cell_type": "code",
   "execution_count": 11,
   "outputs": [
    {
     "name": "stdout",
     "output_type": "stream",
     "text": [
      "Observation: {1: 1, 2: 0, 3: 0, 4: 0, 5: 0}\n",
      "Message up: {'absent': 0.016393442622950817, 'small': 0.32786885245901637, 'heavy': 0.6557377049180327}\n",
      "Message down:  {'absent': 0.3, 'small': 0.5, 'heavy': 0.2}\n",
      "Node belief: {'absent': 0.016393442622950817, 'small': 0.5464480874316939, 'heavy': 0.43715846994535523}\n",
      "Message down: {'low': 0.2174863387978142, 'medium': 0.29836065573770487, 'high': 0.48415300546448087}\n",
      "Node belief: {'low': 0.2174863387978142, 'medium': 0.29836065573770487, 'high': 0.48415300546448087}\n",
      "Message down: {'low': 0.26270189325061505, 'medium': 0.37020002139266234, 'high': 0.3670980853567226}\n",
      "Node belief: {'low': 0.26270189325061505, 'medium': 0.37020002139266234, 'high': 0.3670980853567226}\n"
     ]
    }
   ],
   "source": [
    "# CASE 4: observe wellness and infer fev1\n",
    "\n",
    "obs_wellness = 1\n",
    "\n",
    "point_mass_wellness = observe(obs_wellness, utils.get_second_level_keys(m.cpt_w_i))\n",
    "up_wellness = factor_message_up(point_mass_wellness, m.cpt_w_i)\n",
    "\n",
    "down_i = message_down(m.marginal_i)\n",
    "\n",
    "belief_i = node_message([up_wellness, down_i])\n",
    "\n",
    "down_bl = factor_message_down(belief_i, m.cpt_bl_i)\n",
    "belief_bl = node_message([down_bl]) # optional because there is only one message\n",
    "\n",
    "down_fev1 = factor_message_down(belief_bl, m.cpt_FEV1_bl)\n",
    "belief_fev1 = node_message([down_fev1])\n"
   ],
   "metadata": {
    "collapsed": false,
    "pycharm": {
     "name": "#%%\n"
    }
   }
  },
  {
   "cell_type": "markdown",
   "id": "c122d35f",
   "metadata": {
    "pycharm": {
     "name": "#%% md\n"
    }
   },
   "source": [
    "## Gibbs sampling <a class=\"anchor\" id=\"3.3\"></a>"
   ]
  },
  {
   "cell_type": "code",
   "execution_count": null,
   "id": "329ee71e",
   "metadata": {
    "pycharm": {
     "name": "#%%\n"
    }
   },
   "outputs": [],
   "source": [
    "# Gibbs inference code\n",
    "def gibbs_inference_code(target_X, target_Y, modelToRun=lungModel, n=100000):\n",
    "\n",
    "\n",
    "    # Random initialisation\n",
    "    sample = modelToRun()\n",
    "    i = [sample[target_X]]\n",
    "    b = [sample[target_Y]]\n",
    "    print('Initial state:', I, '=', i, ',', B, '=', b)\n",
    "\n",
    "    # Loop\n",
    "    # TODO  review function arguments to avoid global variables\n",
    "    for j in np.arange(n):\n",
    "        b.append(threeStatesSample(bacterial_load_p.get(i[j]), [\"low\", \"medium\", \"high\"]))\n",
    "        i_posteriors = compute_posterior(I, B, b[j+1], conditional_probability_table, disp=0)\n",
    "        i.append(threeStatesSample([i_posteriors[key] for key in i_posteriors.keys()], list(i_posteriors.keys())))\n",
    "\n",
    "    return b, i\n",
    "\n",
    "# Data processing\n",
    "def get_marginal(name, list):\n",
    "    '''\n",
    "    name: identifier\n",
    "    list: a list of values\n",
    "    output: distinct values count in list, and related proportions (probability estimate)\n",
    "    '''\n",
    "    marginal = pd.DataFrame(data={name: list})\n",
    "    marginal = pd.DataFrame(data={'count': marginal.value_counts()}).reset_index()\n",
    "    marginal['P(count)'] = marginal['count']/marginal['count'].sum()\n",
    "    \n",
    "    return marginal"
   ]
  },
  {
   "cell_type": "code",
   "execution_count": null,
   "id": "e70a5e81",
   "metadata": {
    "pycharm": {
     "name": "#%%\n"
    }
   },
   "outputs": [],
   "source": [
    "# Gibbs sampling implementation for two variables\n",
    "\n",
    "# Variables\n",
    "I = 'Inflammation'\n",
    "B = 'Bacterial load'\n",
    "    \n",
    "n_high=100000; n_low=1000\n",
    "b, i = gibbs_inference_code(I, B, n=n_high)\n",
    "b_fuzzy, i_fuzzy = gibbs_inference_code(I, B, n=n_low)\n",
    "\n",
    "# Marginal distribution of inflammation\n",
    "i_marginal = get_marginal(I, i)\n",
    "i_marginal_fuzzy = get_marginal(I, i_fuzzy)\n",
    "i_marginal"
   ]
  },
  {
   "cell_type": "code",
   "execution_count": null,
   "id": "f7762540",
   "metadata": {
    "pycharm": {
     "name": "#%%\n"
    }
   },
   "outputs": [],
   "source": [
    "# Marginal distribution of bacterial load\n",
    "b_marginal = get_marginal(B, b)\n",
    "b_marginal"
   ]
  },
  {
   "cell_type": "code",
   "execution_count": null,
   "id": "39d75bb7",
   "metadata": {
    "pycharm": {
     "name": "#%%\n"
    }
   },
   "outputs": [],
   "source": [
    "plotFigure(i_marginal, I, column=1, title=\"Marginal distribution for inflammation for \"+str(n_high)+\" iterations\")\n",
    "plotFigure(i_marginal_fuzzy, I, column=1, title=\"Marginal distribution for inflammation \"+str(n_low)+\" iterations\")\n",
    "plotFigure(b_marginal, B, column=1, title=\"Marginal distribution for inflammation for \"+str(n_high)+\" iterations\")"
   ]
  }
 ],
 "metadata": {
  "kernelspec": {
   "display_name": "Python 3 (ipykernel)",
   "language": "python",
   "name": "python3"
  },
  "language_info": {
   "codemirror_mode": {
    "name": "ipython",
    "version": 3
   },
   "file_extension": ".py",
   "mimetype": "text/x-python",
   "name": "python",
   "nbconvert_exporter": "python",
   "pygments_lexer": "ipython3",
   "version": "3.9.7"
  }
 },
 "nbformat": 4,
 "nbformat_minor": 5
}