{
 "cells": [
  {
   "cell_type": "code",
   "execution_count": 2,
   "id": "3b340499",
   "metadata": {
    "pycharm": {
     "name": "#%%\n"
    }
   },
   "outputs": [
    {
     "name": "stdout",
     "output_type": "stream",
     "text": [
      "# conda environments:\r\n",
      "#\r\n",
      "base                     /Applications/anaconda3\r\n",
      "phd                   *  /Applications/anaconda3/envs/phd\r\n",
      "\r\n",
      "Python 3.10.0\r\n",
      "/Applications/anaconda3/envs/phd/bin/python\n"
     ]
    }
   ],
   "source": [
    "!conda env list\n",
    "!python -V\n",
    "import sys\n",
    "print(sys.executable)"
   ]
  },
  {
   "cell_type": "code",
   "execution_count": 11,
   "id": "75eeb988",
   "metadata": {
    "pycharm": {
     "name": "#%%\n"
    }
   },
   "outputs": [],
   "source": [
    "# DATA ANALYSIS\n",
    "import numpy as np\n",
    "import pandas as pd\n",
    "import random as rand\n",
    "\n",
    "# PLOTS\n",
    "# import matplotlib.pyplot as plt\n",
    "# import seaborn as sns\n",
    "# import plotly.express as px\n",
    "# import plotly.graph_objects as go\n",
    "# from plotly.subplots import make_subplots\n",
    "\n",
    "# OTHERS\n",
    "import math\n",
    "import statistics as stats\n",
    "import time as t\n",
    "#import pickle\n",
    "import functools as fc # contains reduce\n",
    "import copy\n",
    "\n",
    "# DEBUGGER\n",
    "from IPython.core.debugger import set_trace\n",
    "# For executing line by line use n and \n",
    "# for step into a function use s and \n",
    "# to exit from debugging prompt use c.\n",
    "# REFACTOR: uninstall jupyter packages that I installed before, not using PyCharm built in debugger\n",
    "\n",
    "\n",
    "# import color blind colors\n",
    "colorblind = ['#377eb8', '#ff7f00', '#4daf4a',\n",
    "              '#f781bf', '#a65628', '#984ea3',\n",
    "              '#999999', '#e41a1c', '#dede00']\n",
    "\n",
    "# OUR OWN LIBRARIES\n",
    "import utils\n",
    "import models"
   ]
  },
  {
   "cell_type": "markdown",
   "id": "7cbed17f",
   "metadata": {
    "pycharm": {
     "name": "#%% md\n"
    }
   },
   "source": [
    "# Belief propagation <a class=\"anchor\" id=\"3.2\"></a>\n",
    "Also known as message passing"
   ]
  },
  {
   "cell_type": "code",
   "execution_count": 12,
   "outputs": [],
   "source": [
    "# inference code\n",
    "def observe(obs, key_value_pair):\n",
    "    node_message = copy.copy(key_value_pair)\n",
    "    for key, val in node_message.items():\n",
    "        if key != obs: node_message[key] = 0\n",
    "        else: node_message[key] = 1\n",
    "\n",
    "    print(\"Observation:\", node_message)\n",
    "    return node_message\n",
    "\n",
    "# factor node message\n",
    "def message_down(dist):\n",
    "    \"\"\"\n",
    "    dist: marginal distribution\n",
    "    \"\"\"\n",
    "    print(\"Message down: \", dist)\n",
    "    return dist\n",
    "\n",
    "def factor_message_up(incoming_message, cpt_B_A):\n",
    "    \"\"\"\n",
    "    The factor mode message is the product of all received messages on the other edges, multiplied by the conditional probability distribution for the factor and summed over all variables except the one being sent to\n",
    "    :param incoming_message: stochastic vector from A\n",
    "    :param cpt_B_A:\n",
    "    :return:\n",
    "    \"\"\"\n",
    "    # TODO: add a function to invert a conditional probability table to merge factor_message_up and factor_message_down\n",
    "    # compute sum_A( P(A|B) )\n",
    "    factor_message = utils.get_second_level_keys(cpt_B_A)\n",
    "    for key_A, items_B in cpt_B_A.items():\n",
    "        for key_B, p_B_A in items_B.items():\n",
    "            factor_message[key_B] += p_B_A * incoming_message[key_A]\n",
    "\n",
    "    message = utils.normalise(factor_message)\n",
    "    print(\"Message up:\", message)\n",
    "\n",
    "    return message\n",
    "\n",
    "def factor_message_down(incoming_message, cpt_B_A):\n",
    "    \"\"\"\n",
    "    The factor mode message is the product of all received messages on the other edges, multiplied by the conditional probability distribution for the factor and summed over all variables except the one being sent to.\n",
    "    :param incoming_message:\n",
    "    :param cpt_B_A:\n",
    "    :return:\n",
    "    \"\"\"\n",
    "    # compute sum_B( P(A|B) )\n",
    "    factor_message = utils.get_first_level_keys(cpt_B_A)\n",
    "    for key_A, items_B in cpt_B_A.items():\n",
    "        for key_B, p_B_A in items_B.items():\n",
    "            factor_message[key_A] += p_B_A * incoming_message[key_B]\n",
    "\n",
    "    message = utils.normalise(factor_message)\n",
    "    print(\"Message down:\", message)\n",
    "\n",
    "    return message\n",
    "\n",
    "def node_message(messages):\n",
    "    \"\"\"\n",
    "    The variable node message is the product of all received messages on the other edges\n",
    "    :param messages: incoming variable node messages\n",
    "    :return: variable node belief message\n",
    "    \"\"\"\n",
    "    # All messages have the same keys\n",
    "    belief = utils.get_first_level_keys(messages[0], init_value=1)\n",
    "\n",
    "    for key in belief.keys():\n",
    "        for message in messages:\n",
    "            belief[key] *= message[key]\n",
    "\n",
    "    # Normalise\n",
    "    p = utils.normalise(belief)\n",
    "\n",
    "    print('Node belief:', p)\n",
    "    return p\n"
   ],
   "metadata": {
    "collapsed": false,
    "pycharm": {
     "name": "#%%\n"
    }
   }
  },
  {
   "cell_type": "code",
   "execution_count": 13,
   "id": "9aa74f40",
   "metadata": {
    "pycharm": {
     "name": "#%%\n"
    }
   },
   "outputs": [
    {
     "name": "stdout",
     "output_type": "stream",
     "text": [
      "Observation: {'low': 0, 'medium': 1, 'high': 0}\n",
      "Message up: {'absent': 0.25, 'small': 0.37499999999999994, 'heavy': 0.37499999999999994}\n",
      "Message down:  {'absent': 0.3, 'small': 0.5, 'heavy': 0.2}\n",
      "Node belief: {'absent': 0.22222222222222224, 'small': 0.5555555555555556, 'heavy': 0.22222222222222224}\n"
     ]
    }
   ],
   "source": [
    "# define model\n",
    "m = models.lungModel()\n",
    "\n",
    "# CASE 1: observe bacterial load and infer inflammation\n",
    "obs_bl = 'medium'\n",
    "\n",
    "point_mass_bl = observe(obs_bl, utils.get_first_level_keys(m.cpt_bl_i))\n",
    "up_bl = factor_message_up(point_mass_bl, m.cpt_bl_i)\n",
    "\n",
    "down_i = message_down(m.marginal_i)\n",
    "\n",
    "belief = node_message([up_bl, down_i])"
   ]
  },
  {
   "cell_type": "code",
   "execution_count": 14,
   "outputs": [
    {
     "name": "stdout",
     "output_type": "stream",
     "text": [
      "Observation: {'low': 1, 'medium': 0, 'high': 0}\n",
      "Message up: {'low': 0.6000000000000001, 'medium': 0.30000000000000004, 'high': 0.10000000000000002}\n",
      "Node belief: {'low': 0.6, 'medium': 0.3, 'high': 0.09999999999999999}\n",
      "Message up: {'absent': 0.4583333333333333, 'small': 0.3229166666666667, 'heavy': 0.21874999999999997}\n",
      "Observation: {1: 0, 2: 0, 3: 1, 4: 0, 5: 0}\n",
      "Message up: {'absent': 0.3076923076923077, 'small': 0.4615384615384615, 'heavy': 0.23076923076923075}\n",
      "Message down:  {'absent': 0.3, 'small': 0.5, 'heavy': 0.2}\n",
      "Node belief: {'absent': 0.3333333333333333, 'small': 0.5871212121212122, 'heavy': 0.07954545454545454}\n"
     ]
    }
   ],
   "source": [
    "# CASE 2: observe bacterial load and wellness and infer inflammation\n",
    "obs_fev1 = 'low'\n",
    "obs_wellness = 3\n",
    "\n",
    "point_mass_fev1 = observe(obs_fev1, utils.get_first_level_keys(m.cpt_FEV1_bl))\n",
    "up_fev1 = factor_message_up(point_mass_fev1, m.cpt_FEV1_bl)\n",
    "belief_bl = node_message([up_fev1]) # optional because there is only one message\n",
    "up_bl = factor_message_up(up_fev1, m.cpt_bl_i)\n",
    "\n",
    "point_mass_wellness = observe(obs_wellness, utils.get_first_level_keys(m.cpt_w_i))\n",
    "up_wellness = factor_message_up(point_mass_wellness, m.cpt_w_i)\n",
    "\n",
    "down_i = message_down(m.marginal_i)\n",
    "\n",
    "belief = node_message([up_bl, up_wellness, down_i])"
   ],
   "metadata": {
    "collapsed": false,
    "pycharm": {
     "name": "#%%\n"
    }
   }
  },
  {
   "cell_type": "code",
   "execution_count": 7,
   "id": "8d5acb08",
   "metadata": {
    "pycharm": {
     "name": "#%%\n"
    }
   },
   "outputs": [
    {
     "name": "stdout",
     "output_type": "stream",
     "text": [
      "Observation: {'absent': 0, 'small': 1, 'heavy': 0}\n",
      "Message down: {'low': 0.3, 'medium': 0.3, 'high': 0.4}\n"
     ]
    }
   ],
   "source": [
    "# CASE 3: observe inflammation and infer bacterial load\n",
    "point_mass_i = observe('small', m.marginal_i)\n",
    "down_i = factor_message_down(point_mass_i, m.cpt_bl_i)"
   ]
  },
  {
   "cell_type": "code",
   "execution_count": 10,
   "outputs": [
    {
     "name": "stdout",
     "output_type": "stream",
     "text": [
      "Observation: {1: 1, 2: 0, 3: 0, 4: 0, 5: 0}\n",
      "Message up: {'absent': 0.016393442622950817, 'small': 0.32786885245901637, 'heavy': 0.6557377049180327}\n",
      "Message down:  {'absent': 0.3, 'small': 0.5, 'heavy': 0.2}\n",
      "Node belief: {'absent': 0.016393442622950817, 'small': 0.5464480874316939, 'heavy': 0.43715846994535523}\n",
      "Message down: {'low': 0.2174863387978142, 'medium': 0.29836065573770487, 'high': 0.48415300546448087}\n",
      "Node belief: {'low': 0.2174863387978142, 'medium': 0.29836065573770487, 'high': 0.48415300546448087}\n",
      "Message down: {'low': 0.2684153005464481, 'medium': 0.3782513661202186, 'high': 0.3533333333333333}\n",
      "Node belief: {'low': 0.2684153005464481, 'medium': 0.3782513661202186, 'high': 0.3533333333333333}\n"
     ]
    }
   ],
   "source": [
    "# CASE 4: observe wellness and infer fev1\n",
    "\n",
    "obs_wellness = 1\n",
    "\n",
    "point_mass_wellness = observe(obs_wellness, utils.get_first_level_keys(m.cpt_w_i))\n",
    "up_wellness = factor_message_up(point_mass_wellness, m.cpt_w_i)\n",
    "\n",
    "down_i = message_down(m.marginal_i)\n",
    "\n",
    "belief_i = node_message([up_wellness, down_i])\n",
    "\n",
    "down_bl = factor_message_down(belief_i, m.cpt_bl_i)\n",
    "belief_bl = node_message([down_bl]) # optional because there is only one message\n",
    "\n",
    "down_fev1 = factor_message_down(belief_bl, m.cpt_FEV1_bl)\n",
    "belief_fev1 = node_message([down_fev1])\n"
   ],
   "metadata": {
    "collapsed": false,
    "pycharm": {
     "name": "#%%\n"
    }
   }
  },
  {
   "cell_type": "code",
   "execution_count": null,
   "outputs": [],
   "source": [],
   "metadata": {
    "collapsed": false,
    "pycharm": {
     "name": "#%%\n"
    }
   }
  }
 ],
 "metadata": {
  "kernelspec": {
   "display_name": "Python 3 (ipykernel)",
   "language": "python",
   "name": "python3"
  },
  "language_info": {
   "codemirror_mode": {
    "name": "ipython",
    "version": 3
   },
   "file_extension": ".py",
   "mimetype": "text/x-python",
   "name": "python",
   "nbconvert_exporter": "python",
   "pygments_lexer": "ipython3",
   "version": "3.9.7"
  }
 },
 "nbformat": 4,
 "nbformat_minor": 5
}