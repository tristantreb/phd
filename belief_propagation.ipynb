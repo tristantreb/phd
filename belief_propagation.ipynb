{
 "cells": [
  {
   "cell_type": "code",
   "execution_count": 1,
   "id": "3b340499",
   "metadata": {
    "pycharm": {
     "name": "#%%\n"
    }
   },
   "outputs": [
    {
     "name": "stdout",
     "output_type": "stream",
     "text": [
      "# conda environments:\r\n",
      "#\r\n",
      "base                     /Applications/anaconda3\r\n",
      "phd                   *  /Applications/anaconda3/envs/phd\r\n",
      "\r\n",
      "Python 3.10.0\r\n",
      "/Applications/anaconda3/envs/phd/bin/python\n"
     ]
    }
   ],
   "source": [
    "!conda env list\n",
    "!python -V\n",
    "import sys\n",
    "print(sys.executable)"
   ]
  },
  {
   "cell_type": "markdown",
   "id": "12f95399",
   "metadata": {
    "pycharm": {
     "name": "#%% md\n"
    }
   },
   "source": [
    "# Table of Contents\n",
    "* [Library](#1)\n",
    "* [Lung](#3)\n",
    "    * [Rejection Sampler](#3.1)\n",
    "    * [Message Passing](#3.2)\n",
    "    * [Gibbs Sampling](#3.3)"
   ]
  },
  {
   "cell_type": "code",
   "execution_count": 2,
   "id": "75eeb988",
   "metadata": {
    "pycharm": {
     "name": "#%%\n"
    }
   },
   "outputs": [],
   "source": [
    "# DATA ANALYSIS\n",
    "import numpy as np\n",
    "import pandas as pd\n",
    "import random as rand\n",
    "\n",
    "# PLOTS\n",
    "# import matplotlib.pyplot as plt\n",
    "# import seaborn as sns\n",
    "# import plotly.express as px\n",
    "# import plotly.graph_objects as go\n",
    "# from plotly.subplots import make_subplots\n",
    "\n",
    "# OTHERS\n",
    "import math\n",
    "import statistics as stats\n",
    "import time as t\n",
    "#import pickle\n",
    "import functools as fc # contains reduce\n",
    "\n",
    "# DEBUGGER\n",
    "from IPython.core.debugger import set_trace\n",
    "# For executing line by line use n and \n",
    "# for step into a function use s and \n",
    "# to exit from debugging prompt use c.\n",
    "# REFACTOR: uninstall jupyter packages that I installed before, not using PyCharm built in debugger\n",
    "\n",
    "\n",
    "# import color blind colors\n",
    "colorblind = ['#377eb8', '#ff7f00', '#4daf4a',\n",
    "              '#f781bf', '#a65628', '#984ea3',\n",
    "              '#999999', '#e41a1c', '#dede00']"
   ]
  },
  {
   "cell_type": "markdown",
   "id": "951a1b6d",
   "metadata": {
    "pycharm": {
     "name": "#%% md\n"
    }
   },
   "source": [
    "# Library <a class=\"anchor\" id=\"1\"></a>"
   ]
  },
  {
   "cell_type": "code",
   "execution_count": 3,
   "id": "55a856d4",
   "metadata": {
    "pycharm": {
     "name": "#%%\n"
    }
   },
   "outputs": [],
   "source": [
    "# Utility functions\n",
    "%load utils.py\n",
    "import utils"
   ]
  },
  {
   "cell_type": "markdown",
   "id": "06171c79",
   "metadata": {
    "pycharm": {
     "name": "#%% md\n"
    }
   },
   "source": [
    "## Inference Code <a class=\"anchor\" id=\"1.2\"></a>"
   ]
  },
  {
   "cell_type": "markdown",
   "id": "7cbed17f",
   "metadata": {
    "pycharm": {
     "name": "#%% md\n"
    }
   },
   "source": [
    "### Belief propagation <a class=\"anchor\" id=\"3.2\"></a>\n",
    "Also known as message passing"
   ]
  },
  {
   "cell_type": "code",
   "execution_count": 4,
   "id": "d99e61e9",
   "metadata": {
    "pycharm": {
     "name": "#%%\n"
    }
   },
   "outputs": [
    {
     "data": {
      "text/plain": "{'Inflammation': 'small',\n 'Wellness': 1,\n 'Bacterial load': 'low',\n 'FEV1': 'low'}"
     },
     "execution_count": 4,
     "metadata": {},
     "output_type": "execute_result"
    }
   ],
   "source": [
    "# Lung Function Model\n",
    "class lungModel:\n",
    "    \n",
    "    # Names\n",
    "    \"\"\"\n",
    "    i: inflammation\n",
    "    bl: bacterial load\n",
    "    w: wellness\n",
    "    \"\"\"\n",
    "    # Marginal distributions\n",
    "    marginal_i = {\n",
    "        \"absent\": 0.3,\n",
    "        \"small\": 0.5,\n",
    "        \"heavy\": 0.2\n",
    "    }\n",
    "    # Conditional probability table (cpt) of varB knowing varA\n",
    "    cpt_bl_i = {\n",
    "        \"absent\": {\n",
    "            \"low\": 0.6,\n",
    "            \"medium\": 0.2,\n",
    "            \"high\": 0.2\n",
    "        },\n",
    "        \"small\": {\n",
    "            \"low\": 0.3,\n",
    "            \"medium\": 0.3,\n",
    "            \"high\": 0.4\n",
    "        },\n",
    "        \"heavy\": {\n",
    "            \"low\": 0.1,\n",
    "            \"medium\": 0.3,\n",
    "            \"high\": 0.6\n",
    "        }\n",
    "    }\n",
    "    cpt_w_i = {\n",
    "        \"absent\": {\n",
    "            1: 0.01,\n",
    "            2: 0.09,\n",
    "            3: 0.2,\n",
    "            4: 0.3,\n",
    "            5: 0.4\n",
    "        },\n",
    "        \"small\": {\n",
    "            1: 0.2,\n",
    "            2: 0.3,\n",
    "            3: 0.3,\n",
    "            4: 0.1,\n",
    "            5: 0.1\n",
    "        },\n",
    "        \"heavy\": {\n",
    "            1: 0.4,\n",
    "            2: 0.3,\n",
    "            3: 0.15,\n",
    "            4: 0.1,\n",
    "            5: 0.05\n",
    "        }\n",
    "    }\n",
    "    cpt_FEV1_bl = {\n",
    "        'low': {\n",
    "            'low': 0.6,\n",
    "            'medium': 0.3,\n",
    "            'high': 0.2,\n",
    "        },\n",
    "        'medium': {\n",
    "            'low': 0.3,\n",
    "            'medium': 0.4,\n",
    "            'high': 0.3,\n",
    "        },\n",
    "        'high': {\n",
    "            'low': 0.1,\n",
    "            'medium': 0.4,\n",
    "            'high': 0.5,\n",
    "        }\n",
    "    }\n",
    "    \n",
    "    def sample(self):\n",
    "        inflammation = utils.threeStatesSample(list(self.marginal_i.values()),\n",
    "                                               list(self.marginal_i.keys()))\n",
    "        \n",
    "        wellness = utils.nStatesSample(list(self.cpt_w_i[inflammation].values()),\n",
    "                                 list(self.cpt_w_i[inflammation].keys()))\n",
    "        \n",
    "        bacterial_load = utils.threeStatesSample(list(self.cpt_bl_i[inflammation].values()),\n",
    "                                            list(self.cpt_bl_i[inflammation].keys()))\n",
    "        \n",
    "        FEV1 = utils.threeStatesSample(list(self.cpt_FEV1_bl[bacterial_load].values()),\n",
    "                                list(self.cpt_FEV1_bl[bacterial_load].keys()))\n",
    "        \n",
    "        return {\n",
    "            \"Inflammation\": inflammation,\n",
    "            \"Wellness\": wellness,\n",
    "            \"Bacterial load\": bacterial_load,\n",
    "            \"FEV1\": FEV1\n",
    "        }\n",
    "model = lungModel()\n",
    "model.sample()"
   ]
  },
  {
   "cell_type": "code",
   "execution_count": 7,
   "id": "2ea9ced9",
   "metadata": {
    "pycharm": {
     "name": "#%%\n"
    }
   },
   "outputs": [],
   "source": [
    "# inference code\n",
    "def observe(obs_B, cpt_B_A):\n",
    "    node_message_B = utils.get_second_level_keys(cpt_B_A)\n",
    "    for key, val in node_message_B.items():\n",
    "        if key != obs_B: node_message_B[key] = 0\n",
    "        else: node_message_B[key] = 1\n",
    "\n",
    "    print(\"Observation:\", node_message_B)\n",
    "    return node_message_B\n",
    "\n",
    "# factor node message\n",
    "def message_down(dist, disp=1, label_A='A'):\n",
    "    \"\"\"\n",
    "    dist: marginal distribution\n",
    "    \"\"\"\n",
    "    print(\"Message down: \", dist)\n",
    "    return dist\n",
    "\n",
    "def factor_message_up(incoming_message, cpt_B_A):\n",
    "\n",
    "    # compute sum_B( P(B|A) )\n",
    "    factor_message = utils.get_first_level_keys(cpt_B_A)\n",
    "    for key_A, items_B in cpt_B_A.items():\n",
    "        for key_B, p_B_A in items_B.items():\n",
    "            factor_message[key_A] += p_B_A * incoming_message[key_B]\n",
    "\n",
    "    message = utils.normalise(factor_message)\n",
    "    print(\"Message up:\", message)\n",
    "\n",
    "    return message\n",
    "\n",
    "# variable node message\n",
    "def node_belief(messages):\n",
    "    # Multiply all messages\n",
    "\n",
    "    # All messages have the same keys\n",
    "    belief = utils.get_first_level_keys(messages[0], init_value=1)\n",
    "\n",
    "    for key in belief.keys():\n",
    "        for message in messages:\n",
    "            belief[key] *= message[key]\n",
    "\n",
    "    # Normalise\n",
    "    p_A = utils.normalise(belief)\n",
    "    \n",
    "    print('Node belief:', p_A)\n",
    "    return p_A\n"
   ]
  },
  {
   "cell_type": "code",
   "execution_count": 8,
   "id": "9aa74f40",
   "metadata": {
    "pycharm": {
     "name": "#%%\n"
    }
   },
   "outputs": [
    {
     "name": "stdout",
     "output_type": "stream",
     "text": [
      "Observation: {'low': 0, 'medium': 1, 'high': 0}\n",
      "Message up: {'absent': 0.25, 'small': 0.37499999999999994, 'heavy': 0.37499999999999994}\n",
      "Message down:  {'absent': 0.3, 'small': 0.5, 'heavy': 0.2}\n",
      "Node belief: {'absent': 0.22222222222222224, 'small': 0.5555555555555556, 'heavy': 0.22222222222222224}\n"
     ]
    }
   ],
   "source": [
    "# define model\n",
    "m = lungModel()\n",
    "\n",
    "# CASE 1\n",
    "\n",
    "obs_bl = 'medium'\n",
    "\n",
    "point_mass_bl = observe(obs_bl, m.cpt_bl_i)\n",
    "up_bl = factor_message_up(point_mass_bl, m.cpt_bl_i)\n",
    "down_i = message_down(m.marginal_i)\n",
    "\n",
    "belief = node_belief([up_bl, down_i])\n"
   ]
  },
  {
   "cell_type": "code",
   "execution_count": null,
   "outputs": [],
   "source": [
    "# CASE 2\n",
    "\n",
    "obs_bacterial_load = 'medium'\n",
    "obs_wellness = 1\n",
    "\n",
    "cpt_bl_obs_i = get_cpt_obs(obs_bacterial_load,m.cpt_bl_i)\n",
    "cpt_w_obs_i = get_cpt_obs(obs_wellness,m.cpt_w_i)\n",
    "\n",
    "# belief propagation\n",
    "i_bl = message_up(m.marginal_i, cpt_bl_obs_i)\n",
    "i_w = message_up(m.marginal_i, cpt_w_obs_i)\n",
    "i = message_down(m.marginal_i)\n",
    "\n",
    "belief1 = propagate_belief([i_bl, i_w, i])"
   ],
   "metadata": {
    "collapsed": false,
    "pycharm": {
     "name": "#%%\n"
    }
   }
  },
  {
   "cell_type": "code",
   "execution_count": null,
   "id": "8d5acb08",
   "metadata": {
    "pycharm": {
     "name": "#%%\n"
    }
   },
   "outputs": [],
   "source": [
    "# CASE 3\n",
    "# observations\n",
    "obs_FEV1 = 'low'\n",
    "obs_wellness = 1\n",
    "\n",
    "cpt_bl_obs_i = get_cpt_obs(obs_bacterial_load, m.cpt_FEV1_bl)\n",
    "\n",
    "# belief propagation\n",
    "bl_FEV1 = message_up(m.cpt_FEV1_bl, cpt_bl_obs_i)\n",
    "i_w = message_up(m.marginal_i, m.cpt_w_i, obs_wellness)\n",
    "i = message_down(m.marginal_i)\n",
    "\n",
    "belief1 = propagate_belief([i_bl, i_w, i])"
   ]
  },
  {
   "cell_type": "markdown",
   "id": "c122d35f",
   "metadata": {
    "pycharm": {
     "name": "#%% md\n"
    }
   },
   "source": [
    "## Gibbs sampling <a class=\"anchor\" id=\"3.3\"></a>"
   ]
  },
  {
   "cell_type": "code",
   "execution_count": null,
   "id": "329ee71e",
   "metadata": {
    "pycharm": {
     "name": "#%%\n"
    }
   },
   "outputs": [],
   "source": [
    "# Gibbs inference code\n",
    "def gibbs_inference_code(target_X, target_Y, modelToRun=lungModel, n=100000):\n",
    "\n",
    "\n",
    "    # Random initialisation\n",
    "    sample = modelToRun()\n",
    "    i = [sample[target_X]]\n",
    "    b = [sample[target_Y]]\n",
    "    print('Initial state:', I, '=', i, ',', B, '=', b)\n",
    "\n",
    "    # Loop\n",
    "    # TODO  review function arguments to avoid global variables\n",
    "    for j in np.arange(n):\n",
    "        b.append(threeStatesSample(bacterial_load_p.get(i[j]), [\"low\", \"medium\", \"high\"]))\n",
    "        i_posteriors = compute_posterior(I, B, b[j+1], conditional_probability_table, disp=0)\n",
    "        i.append(threeStatesSample([i_posteriors[key] for key in i_posteriors.keys()], list(i_posteriors.keys())))\n",
    "\n",
    "    return b, i\n",
    "\n",
    "# Data processing\n",
    "def get_marginal(name, list):\n",
    "    '''\n",
    "    name: identifier\n",
    "    list: a list of values\n",
    "    output: distinct values count in list, and related proportions (probability estimate)\n",
    "    '''\n",
    "    marginal = pd.DataFrame(data={name: list})\n",
    "    marginal = pd.DataFrame(data={'count': marginal.value_counts()}).reset_index()\n",
    "    marginal['P(count)'] = marginal['count']/marginal['count'].sum()\n",
    "    \n",
    "    return marginal"
   ]
  },
  {
   "cell_type": "code",
   "execution_count": null,
   "id": "e70a5e81",
   "metadata": {
    "pycharm": {
     "name": "#%%\n"
    }
   },
   "outputs": [],
   "source": [
    "# Gibbs sampling implementation for two variables\n",
    "\n",
    "# Variables\n",
    "I = 'Inflammation'\n",
    "B = 'Bacterial load'\n",
    "    \n",
    "n_high=100000; n_low=1000\n",
    "b, i = gibbs_inference_code(I, B, n=n_high)\n",
    "b_fuzzy, i_fuzzy = gibbs_inference_code(I, B, n=n_low)\n",
    "\n",
    "# Marginal distribution of inflammation\n",
    "i_marginal = get_marginal(I, i)\n",
    "i_marginal_fuzzy = get_marginal(I, i_fuzzy)\n",
    "i_marginal"
   ]
  },
  {
   "cell_type": "code",
   "execution_count": null,
   "id": "f7762540",
   "metadata": {
    "pycharm": {
     "name": "#%%\n"
    }
   },
   "outputs": [],
   "source": [
    "# Marginal distribution of bacterial load\n",
    "b_marginal = get_marginal(B, b)\n",
    "b_marginal"
   ]
  },
  {
   "cell_type": "code",
   "execution_count": null,
   "id": "39d75bb7",
   "metadata": {
    "pycharm": {
     "name": "#%%\n"
    }
   },
   "outputs": [],
   "source": [
    "plotFigure(i_marginal, I, column=1, title=\"Marginal distribution for inflammation for \"+str(n_high)+\" iterations\")\n",
    "plotFigure(i_marginal_fuzzy, I, column=1, title=\"Marginal distribution for inflammation \"+str(n_low)+\" iterations\")\n",
    "plotFigure(b_marginal, B, column=1, title=\"Marginal distribution for inflammation for \"+str(n_high)+\" iterations\")"
   ]
  }
 ],
 "metadata": {
  "kernelspec": {
   "display_name": "Python 3 (ipykernel)",
   "language": "python",
   "name": "python3"
  },
  "language_info": {
   "codemirror_mode": {
    "name": "ipython",
    "version": 3
   },
   "file_extension": ".py",
   "mimetype": "text/x-python",
   "name": "python",
   "nbconvert_exporter": "python",
   "pygments_lexer": "ipython3",
   "version": "3.9.7"
  }
 },
 "nbformat": 4,
 "nbformat_minor": 5
}