{
 "cells": [
  {
   "cell_type": "code",
   "execution_count": 44,
   "id": "da0b00d7",
   "metadata": {},
   "outputs": [
    {
     "ename": "ModuleNotFoundError",
     "evalue": "No module named 'PGM'",
     "output_type": "error",
     "traceback": [
      "\u001B[0;31m---------------------------------------------------------------------------\u001B[0m",
      "\u001B[0;31mModuleNotFoundError\u001B[0m                       Traceback (most recent call last)",
      "Input \u001B[0;32mIn [44]\u001B[0m, in \u001B[0;36m<cell line: 6>\u001B[0;34m()\u001B[0m\n\u001B[1;32m      3\u001B[0m \u001B[38;5;28;01mfrom\u001B[39;00m \u001B[38;5;21;01mpgmpy\u001B[39;00m\u001B[38;5;21;01m.\u001B[39;00m\u001B[38;5;21;01mfactors\u001B[39;00m\u001B[38;5;21;01m.\u001B[39;00m\u001B[38;5;21;01mdiscrete\u001B[39;00m \u001B[38;5;28;01mimport\u001B[39;00m TabularCPD\n\u001B[1;32m      4\u001B[0m \u001B[38;5;28;01mfrom\u001B[39;00m \u001B[38;5;21;01mpgmpy\u001B[39;00m\u001B[38;5;21;01m.\u001B[39;00m\u001B[38;5;21;01minference\u001B[39;00m \u001B[38;5;28;01mimport\u001B[39;00m BeliefPropagation\n\u001B[0;32m----> 6\u001B[0m \u001B[38;5;28;01mimport\u001B[39;00m \u001B[38;5;21;01mPGM\u001B[39;00m\n\u001B[1;32m      7\u001B[0m \u001B[38;5;28;01mfrom\u001B[39;00m \u001B[38;5;21;01mdaft\u001B[39;00m \u001B[38;5;28;01mimport\u001B[39;00m PGM\n",
      "\u001B[0;31mModuleNotFoundError\u001B[0m: No module named 'PGM'"
     ]
    }
   ],
   "source": [
    "from pgmpy.models import BayesianNetwork\n",
    "from pgmpy.factors.discrete import TabularCPD\n",
    "from pgmpy.inference import BeliefPropagation"
   ]
  },
  {
   "cell_type": "code",
   "execution_count": 36,
   "outputs": [
    {
     "name": "stdout",
     "output_type": "stream",
     "text": [
      "CPDs defined: [<TabularCPD representing P(Inflammation:3) at 0x7fd0a8dbe9b0>, <TabularCPD representing P(Wellness:5 | Inflammation:3) at 0x7fd0a8dbfc70>, <TabularCPD representing P(Bacterial load:3 | Inflammation:3) at 0x7fd0a8dbfd00>, <TabularCPD representing P(FEV1:3 | Bacterial load:3) at 0x7fd0a8dbee90>]\n",
      "\n",
      "The CPDs are valid: True\n",
      "\n",
      "Independence conditions for Bacterial load: (Bacterial load ⟂ Wellness | Inflammation)\n",
      "\n",
      "Independence conditions across the whole model:\n",
      " (FEV1 ⟂ Wellness | Inflammation)\n",
      "(FEV1 ⟂ Inflammation, Wellness | Bacterial load)\n",
      "(FEV1 ⟂ Wellness | Inflammation, Bacterial load)\n",
      "(FEV1 ⟂ Inflammation | Bacterial load, Wellness)\n",
      "(Bacterial load ⟂ Wellness | Inflammation)\n",
      "(Bacterial load ⟂ Wellness | FEV1, Inflammation)\n",
      "(Inflammation ⟂ FEV1 | Bacterial load)\n",
      "(Inflammation ⟂ FEV1 | Bacterial load, Wellness)\n",
      "(Wellness ⟂ FEV1, Bacterial load | Inflammation)\n",
      "(Wellness ⟂ FEV1 | Bacterial load)\n",
      "(Wellness ⟂ Bacterial load | FEV1, Inflammation)\n",
      "(Wellness ⟂ FEV1 | Inflammation, Bacterial load)\n"
     ]
    }
   ],
   "source": [
    "# Model definition\n",
    "# Add graph\n",
    "lung_model = BayesianNetwork([('Inflammation', 'Wellness'), ('Inflammation', 'Bacterial load'), ('Bacterial load', 'FEV1')])\n",
    "\n",
    "# Define the CPDs\n",
    "cpd_i = TabularCPD(variable='Inflammation', variable_card=3, values=[[0.3], [0.5], [0.2]])\n",
    "cpd_w = TabularCPD(variable='Wellness', variable_card=5,\n",
    "                      values=[[0.01, 0.2, 0.4], [0.09, 0.3, 0.3], [0.2, 0.3, 0.15], [0.3, 0.1, 0.1], [0.4, 0.1, 0.05]],\n",
    "                      evidence=['Inflammation'], evidence_card=[3])\n",
    "cpd_bl = TabularCPD(variable='Bacterial load', variable_card=3,\n",
    "                    values=[[0.6, 0.3, 0.1], [0.2, 0.3, 0.3], [0.2, 0.4, 0.6]],\n",
    "                    evidence=['Inflammation'], evidence_card=[3])\n",
    "cpd_FEV1 = TabularCPD(variable='FEV1', variable_card=3, values=[[0.6, 0.3, 0.1], [0.3, 0.4, 0.4], [0.1, 0.3, 0.5]],\n",
    "                   evidence=['Bacterial load'],\n",
    "                   evidence_card=[3]\n",
    "                   )\n",
    "# Add the CPDs to the model\n",
    "lung_model.add_cpds(cpd_i, cpd_w, cpd_bl, cpd_FEV1)\n",
    "\n",
    "# Checks\n",
    "# Show CPDs\n",
    "print(\"CPDs defined:\", lung_model.get_cpds())\n",
    "# Checking if the CPDs are valid for the model\n",
    "print(\"\\nThe CPDs are valid:\", lung_model.check_model())\n",
    "# List of independence conditions for Bacterial load\n",
    "print(\"\\nIndependence conditions for Bacterial load:\", lung_model.local_independencies('Bacterial load'))\n",
    "# Get all model independence conditions\n",
    "print(\"\\nIndependence conditions across the whole model:\\n\", lung_model.get_independencies())"
   ],
   "metadata": {
    "collapsed": false,
    "pycharm": {
     "name": "#%%\n"
    }
   }
  },
  {
   "cell_type": "code",
   "execution_count": 43,
   "outputs": [
    {
     "data": {
      "text/plain": "  0%|          | 0/2 [00:00<?, ?it/s]",
      "application/vnd.jupyter.widget-view+json": {
       "version_major": 2,
       "version_minor": 0,
       "model_id": "5c7be1dfec5d4ee798da102f2a7fb93a"
      }
     },
     "metadata": {},
     "output_type": "display_data"
    },
    {
     "name": "stdout",
     "output_type": "stream",
     "text": [
      "[0.22222222 0.55555556 0.22222222]\n"
     ]
    }
   ],
   "source": [
    "# inference\n",
    "belief_propagation = BeliefPropagation(lung_model)\n",
    "final_dist = belief_propagation.query(variables=['Inflammation'], evidence={'Bacterial load': 1})\n",
    "print(final_dist.values)"
   ],
   "metadata": {
    "collapsed": false,
    "pycharm": {
     "name": "#%%\n"
    }
   }
  },
  {
   "cell_type": "code",
   "execution_count": null,
   "outputs": [],
   "source": [],
   "metadata": {
    "collapsed": false,
    "pycharm": {
     "name": "#%%\n"
    }
   }
  }
 ],
 "metadata": {
  "kernelspec": {
   "display_name": "Python 3 (ipykernel)",
   "language": "python",
   "name": "python3"
  },
  "language_info": {
   "codemirror_mode": {
    "name": "ipython",
    "version": 3
   },
   "file_extension": ".py",
   "mimetype": "text/x-python",
   "name": "python",
   "nbconvert_exporter": "python",
   "pygments_lexer": "ipython3",
   "version": "3.9.7"
  }
 },
 "nbformat": 4,
 "nbformat_minor": 5
}