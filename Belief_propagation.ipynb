{
 "cells": [
  {
   "cell_type": "code",
   "execution_count": 2,
   "id": "da0b00d7",
   "metadata": {},
   "outputs": [],
   "source": [
    "import pgmpy"
   ]
  },
  {
   "cell_type": "code",
   "execution_count": 4,
   "id": "4839088b",
   "metadata": {},
   "outputs": [],
   "source": [
    "from pgmpy.models import BayesianNetwork\n",
    "from pgmpy.factors.discrete import TabularCPD\n",
    "from pgmpy.inference import BeliefPropagation\n",
    "\n",
    "G = BayesianNetwork([('diff', 'grade'), ('intel', 'grade'),\n",
    "                     ('intel', 'SAT'), ('grade', 'letter')])\n",
    "diff_cpd = TabularCPD('diff', 2, [[0.2], [0.8]])\n",
    "intel_cpd = TabularCPD('intel', 3, [[0.5], [0.3], [0.2]])\n",
    "grade_cpd = TabularCPD('grade', 3,\n",
    "                       [[0.1, 0.1, 0.1, 0.1, 0.1, 0.1],\n",
    "                        [0.1, 0.1, 0.1, 0.1, 0.1, 0.1],\n",
    "                        [0.8, 0.8, 0.8, 0.8, 0.8, 0.8]],\n",
    "                       evidence=['diff', 'intel'],\n",
    "                       evidence_card=[2, 3])\n",
    "sat_cpd = TabularCPD('SAT', 2,\n",
    "                     [[0.1, 0.2, 0.7],\n",
    "                      [0.9, 0.8, 0.3]],\n",
    "                     evidence=['intel'], evidence_card=[3])\n",
    "letter_cpd = TabularCPD('letter', 2,\n",
    "                        [[0.1, 0.4, 0.8],\n",
    "                         [0.9, 0.6, 0.2]],\n",
    "                        evidence=['grade'], evidence_card=[3])\n",
    "G.add_cpds(diff_cpd, intel_cpd, grade_cpd, sat_cpd, letter_cpd)\n",
    "bp = BeliefPropagation(G)\n",
    "bp.calibrate()"
   ]
  },
  {
   "cell_type": "code",
   "execution_count": 36,
   "outputs": [
    {
     "name": "stdout",
     "output_type": "stream",
     "text": [
      "CPDs defined: [<TabularCPD representing P(Inflammation:3) at 0x7fd0a8dbe9b0>, <TabularCPD representing P(Wellness:5 | Inflammation:3) at 0x7fd0a8dbfc70>, <TabularCPD representing P(Bacterial load:3 | Inflammation:3) at 0x7fd0a8dbfd00>, <TabularCPD representing P(FEV1:3 | Bacterial load:3) at 0x7fd0a8dbee90>]\n",
      "\n",
      "The CPDs are valid: True\n",
      "\n",
      "Independence conditions for Bacterial load: (Bacterial load ⟂ Wellness | Inflammation)\n",
      "\n",
      "Independence conditions across the whole model:\n",
      " (FEV1 ⟂ Wellness | Inflammation)\n",
      "(FEV1 ⟂ Inflammation, Wellness | Bacterial load)\n",
      "(FEV1 ⟂ Wellness | Inflammation, Bacterial load)\n",
      "(FEV1 ⟂ Inflammation | Bacterial load, Wellness)\n",
      "(Bacterial load ⟂ Wellness | Inflammation)\n",
      "(Bacterial load ⟂ Wellness | FEV1, Inflammation)\n",
      "(Inflammation ⟂ FEV1 | Bacterial load)\n",
      "(Inflammation ⟂ FEV1 | Bacterial load, Wellness)\n",
      "(Wellness ⟂ FEV1, Bacterial load | Inflammation)\n",
      "(Wellness ⟂ FEV1 | Bacterial load)\n",
      "(Wellness ⟂ Bacterial load | FEV1, Inflammation)\n",
      "(Wellness ⟂ FEV1 | Inflammation, Bacterial load)\n"
     ]
    }
   ],
   "source": [
    "# Model definition\n",
    "# Add graph\n",
    "lung_model = BayesianNetwork([('Inflammation', 'Wellness'), ('Inflammation', 'Bacterial load'), ('Bacterial load', 'FEV1')])\n",
    "\n",
    "# Define the CPDs\n",
    "cpd_i = TabularCPD(variable='Inflammation', variable_card=3, values=[[0.3], [0.5], [0.2]])\n",
    "cpd_w = TabularCPD(variable='Wellness', variable_card=5,\n",
    "                      values=[[0.01, 0.2, 0.4], [0.09, 0.3, 0.3], [0.2, 0.3, 0.15], [0.3, 0.1, 0.1], [0.4, 0.1, 0.05]],\n",
    "                      evidence=['Inflammation'], evidence_card=[3])\n",
    "cpd_bl = TabularCPD(variable='Bacterial load', variable_card=3,\n",
    "                    values=[[0.6, 0.3, 0.1], [0.2, 0.3, 0.3], [0.2, 0.4, 0.6]],\n",
    "                    evidence=['Inflammation'], evidence_card=[3])\n",
    "cpd_FEV1 = TabularCPD(variable='FEV1', variable_card=3, values=[[0.6, 0.3, 0.1], [0.3, 0.4, 0.4], [0.1, 0.3, 0.5]],\n",
    "                   evidence=['Bacterial load'],\n",
    "                   evidence_card=[3]\n",
    "                   )\n",
    "# Add the CPDs to the model\n",
    "lung_model.add_cpds(cpd_i, cpd_w, cpd_bl, cpd_FEV1)\n",
    "\n",
    "# Checks\n",
    "# Show CPDs\n",
    "print(\"CPDs defined:\", lung_model.get_cpds())\n",
    "# Checking if the CPDs are valid for the model\n",
    "print(\"\\nThe CPDs are valid:\", lung_model.check_model())\n",
    "# List of independence conditions for Bacterial load\n",
    "print(\"\\nIndependence conditions for Bacterial load:\", lung_model.local_independencies('Bacterial load'))\n",
    "# Get all model\n",
    "print(\"\\nIndependence conditions across the whole model:\\n\", lung_model.get_independencies())"
   ],
   "metadata": {
    "collapsed": false,
    "pycharm": {
     "name": "#%%\n"
    }
   }
  },
  {
   "cell_type": "code",
   "execution_count": 30,
   "outputs": [
    {
     "data": {
      "text/plain": "[<TabularCPD representing P(Inflammation:3) at 0x7fd0a8de1510>,\n <TabularCPD representing P(Wellness:5 | Inflammation:3) at 0x7fd0a8de02b0>,\n <TabularCPD representing P(Bacterial load:3 | Inflammation:3) at 0x7fd098c1bd90>,\n <TabularCPD representing P(FEV1:3 | Bacterial load:3) at 0x7fd098c1a620>]"
     },
     "execution_count": 30,
     "metadata": {},
     "output_type": "execute_result"
    }
   ],
   "source": [
    "# inference\n"
   ],
   "metadata": {
    "collapsed": false,
    "pycharm": {
     "name": "#%%\n"
    }
   }
  },
  {
   "cell_type": "code",
   "execution_count": null,
   "outputs": [],
   "source": [],
   "metadata": {
    "collapsed": false,
    "pycharm": {
     "name": "#%%\n"
    }
   }
  }
 ],
 "metadata": {
  "kernelspec": {
   "display_name": "Python 3 (ipykernel)",
   "language": "python",
   "name": "python3"
  },
  "language_info": {
   "codemirror_mode": {
    "name": "ipython",
    "version": 3
   },
   "file_extension": ".py",
   "mimetype": "text/x-python",
   "name": "python",
   "nbconvert_exporter": "python",
   "pygments_lexer": "ipython3",
   "version": "3.9.7"
  }
 },
 "nbformat": 4,
 "nbformat_minor": 5
}