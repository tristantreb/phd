{
 "cells": [
  {
   "cell_type": "code",
   "execution_count": 2,
   "id": "da0b00d7",
   "metadata": {
    "pycharm": {
     "name": "#%%\n"
    }
   },
   "outputs": [],
   "source": [
    "from pgmpy.models import BayesianNetwork\n",
    "from pgmpy.factors.discrete import TabularCPD\n",
    "from pgmpy.inference import BeliefPropagation"
   ]
  },
  {
   "cell_type": "code",
   "execution_count": 3,
   "outputs": [
    {
     "name": "stdout",
     "output_type": "stream",
     "text": [
      "CPDs defined: [<TabularCPD representing P(Inflammation:3) at 0x7fa73376c070>, <TabularCPD representing P(Wellness:5 | Inflammation:3) at 0x7fa73376c0a0>, <TabularCPD representing P(Bacterial load:3 | Inflammation:3) at 0x7fa73376c100>, <TabularCPD representing P(FEV1:3 | Bacterial load:3) at 0x7fa73376d000>]\n",
      "\n",
      "The CPDs are valid: True\n",
      "\n",
      "Independence conditions for Bacterial load: (Bacterial load ⟂ Wellness | Inflammation)\n",
      "\n",
      "Independence conditions across the whole model:\n",
      " (FEV1 ⟂ Wellness | Inflammation)\n",
      "(FEV1 ⟂ Inflammation, Wellness | Bacterial load)\n",
      "(FEV1 ⟂ Wellness | Inflammation, Bacterial load)\n",
      "(FEV1 ⟂ Inflammation | Wellness, Bacterial load)\n",
      "(Inflammation ⟂ FEV1 | Bacterial load)\n",
      "(Inflammation ⟂ FEV1 | Wellness, Bacterial load)\n",
      "(Bacterial load ⟂ Wellness | Inflammation)\n",
      "(Bacterial load ⟂ Wellness | FEV1, Inflammation)\n",
      "(Wellness ⟂ FEV1, Bacterial load | Inflammation)\n",
      "(Wellness ⟂ FEV1 | Bacterial load)\n",
      "(Wellness ⟂ Bacterial load | FEV1, Inflammation)\n",
      "(Wellness ⟂ FEV1 | Inflammation, Bacterial load)\n"
     ]
    }
   ],
   "source": [
    "# Model definition\n",
    "# Add graph\n",
    "lung_model = BayesianNetwork([('Inflammation', 'Wellness'), ('Inflammation', 'Bacterial load'), ('Bacterial load', 'FEV1')])\n",
    "\n",
    "# Define the CPDs\n",
    "cpd_i = TabularCPD(variable='Inflammation', variable_card=3, values=[[0.3], [0.5], [0.2]])\n",
    "cpd_w = TabularCPD(variable='Wellness', variable_card=5,\n",
    "                      values=[[0.01, 0.2, 0.4], [0.09, 0.3, 0.3], [0.2, 0.3, 0.15], [0.3, 0.1, 0.1], [0.4, 0.1, 0.05]],\n",
    "                      evidence=['Inflammation'], evidence_card=[3])\n",
    "cpd_bl = TabularCPD(variable='Bacterial load', variable_card=3,\n",
    "                    values=[[0.6, 0.3, 0.1], [0.2, 0.3, 0.3], [0.2, 0.4, 0.6]],\n",
    "                    evidence=['Inflammation'], evidence_card=[3])\n",
    "cpd_FEV1 = TabularCPD(variable='FEV1', variable_card=3, values=[[0.6, 0.3, 0.1], [0.3, 0.4, 0.4], [0.1, 0.3, 0.5]],\n",
    "                   evidence=['Bacterial load'],\n",
    "                   evidence_card=[3]\n",
    "                   )\n",
    "# Add the CPDs to the model\n",
    "lung_model.add_cpds(cpd_i, cpd_w, cpd_bl, cpd_FEV1)\n",
    "\n",
    "# Checks\n",
    "# Show CPDs\n",
    "print(\"CPDs defined:\", lung_model.get_cpds())\n",
    "# Checking if the CPDs are valid for the model\n",
    "print(\"\\nThe CPDs are valid:\", lung_model.check_model())\n",
    "# List of independence conditions for Bacterial load\n",
    "print(\"\\nIndependence conditions for Bacterial load:\", lung_model.local_independencies('Bacterial load'))\n",
    "# Get all model independence conditions\n",
    "print(\"\\nIndependence conditions across the whole model:\\n\", lung_model.get_independencies())"
   ],
   "metadata": {
    "collapsed": false,
    "pycharm": {
     "name": "#%%\n"
    }
   }
  },
  {
   "cell_type": "code",
   "execution_count": 4,
   "outputs": [
    {
     "data": {
      "text/plain": "  0%|          | 0/2 [00:00<?, ?it/s]",
      "application/vnd.jupyter.widget-view+json": {
       "version_major": 2,
       "version_minor": 0,
       "model_id": "e6de11b290254271809806f72de2011d"
      }
     },
     "metadata": {},
     "output_type": "display_data"
    },
    {
     "name": "stdout",
     "output_type": "stream",
     "text": [
      "[0.22222222 0.55555556 0.22222222]\n"
     ]
    }
   ],
   "source": [
    "# CASE 1\n",
    "belief_propagation = BeliefPropagation(lung_model)\n",
    "final_dist = belief_propagation.query(variables=['Inflammation'], evidence={'Bacterial load': 1})\n",
    "print(final_dist.values)"
   ],
   "metadata": {
    "collapsed": false,
    "pycharm": {
     "name": "#%%\n"
    }
   }
  },
  {
   "cell_type": "code",
   "execution_count": 8,
   "outputs": [
    {
     "data": {
      "text/plain": "  0%|          | 0/1 [00:00<?, ?it/s]",
      "application/vnd.jupyter.widget-view+json": {
       "version_major": 2,
       "version_minor": 0,
       "model_id": "f3abcdb9dbad435eb9b6a3bd0667b8d8"
      }
     },
     "metadata": {},
     "output_type": "display_data"
    },
    {
     "name": "stdout",
     "output_type": "stream",
     "text": [
      "[0.33333333 0.58712121 0.07954545]\n"
     ]
    }
   ],
   "source": [
    "belief_propagation = BeliefPropagation(lung_model)\n",
    "final_dist = belief_propagation.query(variables=['Inflammation'], evidence={'FEV1': 0, 'Wellness': 2})\n",
    "print(final_dist.values)"
   ],
   "metadata": {
    "collapsed": false,
    "pycharm": {
     "name": "#%%\n"
    }
   }
  },
  {
   "cell_type": "code",
   "execution_count": 14,
   "outputs": [
    {
     "data": {
      "text/plain": "  0%|          | 0/2 [00:00<?, ?it/s]",
      "application/vnd.jupyter.widget-view+json": {
       "version_major": 2,
       "version_minor": 0,
       "model_id": "2b140dc9ce0a47779d3166f3d61fb191"
      }
     },
     "metadata": {},
     "output_type": "display_data"
    },
    {
     "name": "stdout",
     "output_type": "stream",
     "text": [
      "[0.2684153  0.37825137 0.35333333]\n"
     ]
    }
   ],
   "source": [
    "belief_propagation = BeliefPropagation(lung_model)\n",
    "final_dist = belief_propagation.query(variables=['FEV1'], evidence={'Wellness': 0})\n",
    "print(final_dist.values)"
   ],
   "metadata": {
    "collapsed": false,
    "pycharm": {
     "name": "#%%\n"
    }
   }
  },
  {
   "cell_type": "code",
   "execution_count": null,
   "outputs": [],
   "source": [],
   "metadata": {
    "collapsed": false,
    "pycharm": {
     "name": "#%%\n"
    }
   }
  }
 ],
 "metadata": {
  "kernelspec": {
   "display_name": "Python 3 (ipykernel)",
   "language": "python",
   "name": "python3"
  },
  "language_info": {
   "codemirror_mode": {
    "name": "ipython",
    "version": 3
   },
   "file_extension": ".py",
   "mimetype": "text/x-python",
   "name": "python",
   "nbconvert_exporter": "python",
   "pygments_lexer": "ipython3",
   "version": "3.9.7"
  }
 },
 "nbformat": 4,
 "nbformat_minor": 5
}